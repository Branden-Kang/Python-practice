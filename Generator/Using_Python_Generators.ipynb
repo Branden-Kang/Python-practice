{
  "nbformat": 4,
  "nbformat_minor": 0,
  "metadata": {
    "colab": {
      "name": "Using Python Generators.ipynb",
      "provenance": [],
      "authorship_tag": "ABX9TyNf/Fwonf0ctFCfTYAK7Nyy"
    },
    "kernelspec": {
      "name": "python3",
      "display_name": "Python 3"
    }
  },
  "cells": [
    {
      "cell_type": "markdown",
      "metadata": {
        "id": "cvjWUgZKnuiF"
      },
      "source": [
        "[Reference](https://betterprogramming.pub/4-reasons-why-should-be-using-python-generators-660458b0085d)"
      ]
    },
    {
      "cell_type": "code",
      "metadata": {
        "id": "HWSwko6zniTM"
      },
      "source": [
        "def gen1():\n",
        "\n",
        "    yield \"I am the bone of my sword\"\n",
        "    yield \"Steel is my body and fire is my blood\"\n",
        "    yield \"I have created over a thousand blades\"\n",
        "    \n",
        "    temp_gen1 = gen1()\n",
        "    print(  next(temp_gen1) )\n",
        "    print(  next(temp_gen1) )\n",
        "    print(  next(temp_gen1) )"
      ],
      "execution_count": 1,
      "outputs": []
    },
    {
      "cell_type": "code",
      "metadata": {
        "id": "RpLwP6Uroj3i"
      },
      "source": [
        "temp_gen1 = gen1()"
      ],
      "execution_count": 2,
      "outputs": []
    },
    {
      "cell_type": "code",
      "metadata": {
        "colab": {
          "base_uri": "https://localhost:8080/"
        },
        "id": "jHit2Qu-og7u",
        "outputId": "cc984c49-b4c0-4843-82fe-ea7601924943"
      },
      "source": [
        "print(  next(temp_gen1) )"
      ],
      "execution_count": 3,
      "outputs": [
        {
          "output_type": "stream",
          "text": [
            "I am the bone of my sword\n"
          ],
          "name": "stdout"
        }
      ]
    },
    {
      "cell_type": "code",
      "metadata": {
        "colab": {
          "base_uri": "https://localhost:8080/"
        },
        "id": "Og12n3KGomcn",
        "outputId": "81c8292b-b31a-4f88-f7a4-8ac2316f365e"
      },
      "source": [
        "print(  next(temp_gen1) )"
      ],
      "execution_count": 4,
      "outputs": [
        {
          "output_type": "stream",
          "text": [
            "Steel is my body and fire is my blood\n"
          ],
          "name": "stdout"
        }
      ]
    },
    {
      "cell_type": "code",
      "metadata": {
        "colab": {
          "base_uri": "https://localhost:8080/"
        },
        "id": "inPsR1oaooM6",
        "outputId": "80273787-87f5-45fb-a884-9c88217f0bad"
      },
      "source": [
        "print(  next(temp_gen1) )"
      ],
      "execution_count": 5,
      "outputs": [
        {
          "output_type": "stream",
          "text": [
            "I have created over a thousand blades\n"
          ],
          "name": "stdout"
        }
      ]
    },
    {
      "cell_type": "code",
      "metadata": {
        "colab": {
          "base_uri": "https://localhost:8080/",
          "height": 249
        },
        "id": "eZYqyqujooVy",
        "outputId": "191e9f0a-3a13-4698-d95b-07efa55d49fe"
      },
      "source": [
        "print(  next(temp_gen1) )"
      ],
      "execution_count": 6,
      "outputs": [
        {
          "output_type": "stream",
          "text": [
            "I am the bone of my sword\n",
            "Steel is my body and fire is my blood\n",
            "I have created over a thousand blades\n"
          ],
          "name": "stdout"
        },
        {
          "output_type": "error",
          "ename": "StopIteration",
          "evalue": "ignored",
          "traceback": [
            "\u001b[0;31m---------------------------------------------------------------------------\u001b[0m",
            "\u001b[0;31mStopIteration\u001b[0m                             Traceback (most recent call last)",
            "\u001b[0;32m<ipython-input-6-f2c1b90c135e>\u001b[0m in \u001b[0;36m<module>\u001b[0;34m()\u001b[0m\n\u001b[0;32m----> 1\u001b[0;31m \u001b[0mprint\u001b[0m\u001b[0;34m(\u001b[0m  \u001b[0mnext\u001b[0m\u001b[0;34m(\u001b[0m\u001b[0mtemp_gen1\u001b[0m\u001b[0;34m)\u001b[0m \u001b[0;34m)\u001b[0m\u001b[0;34m\u001b[0m\u001b[0;34m\u001b[0m\u001b[0m\n\u001b[0m",
            "\u001b[0;31mStopIteration\u001b[0m: "
          ]
        }
      ]
    },
    {
      "cell_type": "code",
      "metadata": {
        "colab": {
          "base_uri": "https://localhost:8080/"
        },
        "id": "0dgXBiuGopJt",
        "outputId": "f7b0fb63-76a9-4795-f9c3-9c1c3229948b"
      },
      "source": [
        "def gen1():\n",
        "    print(\"initialize counter\")\n",
        "    even = 0\n",
        "    even+=2\n",
        "    print( \"First even: \") \n",
        "    yield even\n",
        "    even+=2\n",
        "    print (\"Second even: \" )\n",
        "    yield even\n",
        "    even+=2\n",
        "    print(\"Third even: \") \n",
        "    yield even\n",
        "    \n",
        "temp_gen1 = gen1()\n",
        "\n",
        "print(  next(temp_gen1) )\n",
        "print(  next(temp_gen1) )\n",
        "print(  next(temp_gen1) )"
      ],
      "execution_count": 7,
      "outputs": [
        {
          "output_type": "stream",
          "text": [
            "initialize counter\n",
            "First even: \n",
            "2\n",
            "Second even: \n",
            "4\n",
            "Third even: \n",
            "6\n"
          ],
          "name": "stdout"
        }
      ]
    },
    {
      "cell_type": "code",
      "metadata": {
        "colab": {
          "base_uri": "https://localhost:8080/"
        },
        "id": "ue2GYr21orZ2",
        "outputId": "60447a03-8063-4710-a941-b1c57ff00e62"
      },
      "source": [
        "for even in gen1():\n",
        "    print(even)"
      ],
      "execution_count": 8,
      "outputs": [
        {
          "output_type": "stream",
          "text": [
            "initialize counter\n",
            "First even: \n",
            "2\n",
            "Second even: \n",
            "4\n",
            "Third even: \n",
            "6\n"
          ],
          "name": "stdout"
        }
      ]
    },
    {
      "cell_type": "code",
      "metadata": {
        "colab": {
          "base_uri": "https://localhost:8080/"
        },
        "id": "L4J1RxuCo3Qy",
        "outputId": "27d5fb46-dcf9-4ecd-cf3f-4d64b12a7276"
      },
      "source": [
        "import time\n",
        "\n",
        "def seq(start,end):\n",
        "    lst = []\n",
        "\n",
        "    for i in range(start,end):\n",
        "        lst.append(i)\n",
        "    return lst\n",
        "\n",
        "\n",
        "start_time = time.time()\n",
        "\n",
        "data = seq(100,100_000_000)\n",
        "\n",
        "end_time = time.time()\n",
        "\n",
        "\n",
        "print(f\"execution time: {end_time - start_time}\")"
      ],
      "execution_count": 9,
      "outputs": [
        {
          "output_type": "stream",
          "text": [
            "execution time: 13.121075868606567\n"
          ],
          "name": "stdout"
        }
      ]
    },
    {
      "cell_type": "code",
      "metadata": {
        "colab": {
          "base_uri": "https://localhost:8080/"
        },
        "id": "nYZwGwNwo6sF",
        "outputId": "e8895197-ac58-4b29-8243-dc97912d49c8"
      },
      "source": [
        "map_list = [1,2,3,4,5]\n",
        "map_list = map(lambda x: x**x, map_list)\n",
        "map_list\n",
        "next(map_list)\n",
        "next(map_list)\n",
        "next(map_list)\n",
        "next(map_list)\n",
        "\n",
        "next(map_list)"
      ],
      "execution_count": 10,
      "outputs": [
        {
          "output_type": "execute_result",
          "data": {
            "text/plain": [
              "3125"
            ]
          },
          "metadata": {
            "tags": []
          },
          "execution_count": 10
        }
      ]
    },
    {
      "cell_type": "code",
      "metadata": {
        "colab": {
          "base_uri": "https://localhost:8080/"
        },
        "id": "pBC_kN8Ko_TS",
        "outputId": "a63d659b-02de-45b0-bdbd-e7448ab999dd"
      },
      "source": [
        "filter_list = [1,2,3,4,5]\n",
        "filter_list = filter(lambda x: x > 2, filter_list)\n",
        "next(filter_list)\n",
        "next(filter_list)\n",
        "next(filter_list)"
      ],
      "execution_count": 11,
      "outputs": [
        {
          "output_type": "execute_result",
          "data": {
            "text/plain": [
              "5"
            ]
          },
          "metadata": {
            "tags": []
          },
          "execution_count": 11
        }
      ]
    },
    {
      "cell_type": "code",
      "metadata": {
        "colab": {
          "base_uri": "https://localhost:8080/"
        },
        "id": "rxPe5hUhpBii",
        "outputId": "22e0ea7c-e620-4655-b180-cbbb9cd488be"
      },
      "source": [
        "def infinite_seq():\n",
        "    count = 1\n",
        "\n",
        "    while True:\n",
        "        \n",
        "        yield count ** 2\n",
        "        count = count + 1\n",
        "\n",
        "infinite_stream = infinite_seq()\n",
        "\n",
        "print( next(infinite_stream) )\n",
        "print( next(infinite_stream) )\n",
        "print( next(infinite_stream) )"
      ],
      "execution_count": 12,
      "outputs": [
        {
          "output_type": "stream",
          "text": [
            "1\n",
            "4\n",
            "9\n"
          ],
          "name": "stdout"
        }
      ]
    },
    {
      "cell_type": "code",
      "metadata": {
        "colab": {
          "base_uri": "https://localhost:8080/"
        },
        "id": "vC_CPC4ppFaG",
        "outputId": "e47ee7b2-9752-49d2-8b63-d6d617c0c769"
      },
      "source": [
        "list_compr = [i ** 2 for i in range(5)]\n",
        "list_compr"
      ],
      "execution_count": 13,
      "outputs": [
        {
          "output_type": "execute_result",
          "data": {
            "text/plain": [
              "[0, 1, 4, 9, 16]"
            ]
          },
          "metadata": {
            "tags": []
          },
          "execution_count": 13
        }
      ]
    },
    {
      "cell_type": "code",
      "metadata": {
        "colab": {
          "base_uri": "https://localhost:8080/"
        },
        "id": "2y94HElkpKMt",
        "outputId": "10fc67be-751f-4479-afeb-31858e0aa3d8"
      },
      "source": [
        "list_generator = (i ** 2 for i in range(5))\n",
        "list_generator"
      ],
      "execution_count": 14,
      "outputs": [
        {
          "output_type": "execute_result",
          "data": {
            "text/plain": [
              "<generator object <genexpr> at 0x7fcf48454dd0>"
            ]
          },
          "metadata": {
            "tags": []
          },
          "execution_count": 14
        }
      ]
    },
    {
      "cell_type": "code",
      "metadata": {
        "colab": {
          "base_uri": "https://localhost:8080/"
        },
        "id": "OTpvlN3OpMDi",
        "outputId": "472ae3c2-9724-46a4-8b31-b2042dd99ce1"
      },
      "source": [
        "next(list_generator)"
      ],
      "execution_count": 15,
      "outputs": [
        {
          "output_type": "execute_result",
          "data": {
            "text/plain": [
              "0"
            ]
          },
          "metadata": {
            "tags": []
          },
          "execution_count": 15
        }
      ]
    },
    {
      "cell_type": "code",
      "metadata": {
        "colab": {
          "base_uri": "https://localhost:8080/"
        },
        "id": "2JVjhA62pNXI",
        "outputId": "aa4c1f54-9374-4b6d-d9bd-124751cf86d8"
      },
      "source": [
        "next(list_generator)"
      ],
      "execution_count": 16,
      "outputs": [
        {
          "output_type": "execute_result",
          "data": {
            "text/plain": [
              "1"
            ]
          },
          "metadata": {
            "tags": []
          },
          "execution_count": 16
        }
      ]
    },
    {
      "cell_type": "code",
      "metadata": {
        "colab": {
          "base_uri": "https://localhost:8080/"
        },
        "id": "Se_oLi_IpNhK",
        "outputId": "e18206cd-4d71-4ec0-d327-582cb679281c"
      },
      "source": [
        "next(list_generator)"
      ],
      "execution_count": 17,
      "outputs": [
        {
          "output_type": "execute_result",
          "data": {
            "text/plain": [
              "4"
            ]
          },
          "metadata": {
            "tags": []
          },
          "execution_count": 17
        }
      ]
    },
    {
      "cell_type": "code",
      "metadata": {
        "colab": {
          "base_uri": "https://localhost:8080/"
        },
        "id": "zkXh32g6pNqn",
        "outputId": "ab6f55ca-b6c4-48eb-9a33-6794151732c8"
      },
      "source": [
        "next(list_generator)"
      ],
      "execution_count": 18,
      "outputs": [
        {
          "output_type": "execute_result",
          "data": {
            "text/plain": [
              "9"
            ]
          },
          "metadata": {
            "tags": []
          },
          "execution_count": 18
        }
      ]
    },
    {
      "cell_type": "code",
      "metadata": {
        "colab": {
          "base_uri": "https://localhost:8080/"
        },
        "id": "xphzgu1upNy3",
        "outputId": "d19002a5-e560-490f-9903-25c64919881e"
      },
      "source": [
        "next(list_generator)"
      ],
      "execution_count": 19,
      "outputs": [
        {
          "output_type": "execute_result",
          "data": {
            "text/plain": [
              "16"
            ]
          },
          "metadata": {
            "tags": []
          },
          "execution_count": 19
        }
      ]
    },
    {
      "cell_type": "code",
      "metadata": {
        "colab": {
          "base_uri": "https://localhost:8080/",
          "height": 198
        },
        "id": "I7U6OBS-pN7l",
        "outputId": "2f90d230-b456-4819-e594-4f1c34ef4827"
      },
      "source": [
        "next(list_generator)"
      ],
      "execution_count": 20,
      "outputs": [
        {
          "output_type": "error",
          "ename": "StopIteration",
          "evalue": "ignored",
          "traceback": [
            "\u001b[0;31m---------------------------------------------------------------------------\u001b[0m",
            "\u001b[0;31mStopIteration\u001b[0m                             Traceback (most recent call last)",
            "\u001b[0;32m<ipython-input-20-253c898dcc3b>\u001b[0m in \u001b[0;36m<module>\u001b[0;34m()\u001b[0m\n\u001b[0;32m----> 1\u001b[0;31m \u001b[0mnext\u001b[0m\u001b[0;34m(\u001b[0m\u001b[0mlist_generator\u001b[0m\u001b[0;34m)\u001b[0m\u001b[0;34m\u001b[0m\u001b[0;34m\u001b[0m\u001b[0m\n\u001b[0m",
            "\u001b[0;31mStopIteration\u001b[0m: "
          ]
        }
      ]
    }
  ]
}