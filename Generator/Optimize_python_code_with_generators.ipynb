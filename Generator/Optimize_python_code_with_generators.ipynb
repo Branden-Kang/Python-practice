{
  "nbformat": 4,
  "nbformat_minor": 0,
  "metadata": {
    "colab": {
      "name": "Optimize python code with generatorsipynb",
      "provenance": [],
      "authorship_tag": "ABX9TyNYamjml1P8j+3WGRSVQK6Q"
    },
    "kernelspec": {
      "name": "python3",
      "display_name": "Python 3"
    },
    "language_info": {
      "name": "python"
    }
  },
  "cells": [
    {
      "cell_type": "markdown",
      "metadata": {
        "id": "gLXE_D_HBZx0"
      },
      "source": [
        "[Reference](https://medium.com/@chetaniam/optimize-python-code-with-generators-aef839996ee4)"
      ]
    },
    {
      "cell_type": "code",
      "metadata": {
        "colab": {
          "base_uri": "https://localhost:8080/"
        },
        "id": "T8bQtd10BYDh",
        "outputId": "ef99c50f-26f1-49d8-a08f-4aba5ddba799"
      },
      "source": [
        "def get_cubes(numbers):\n",
        "    cubes = []\n",
        "    for number in numbers:\n",
        "        cubes.append(number * number * number)\n",
        "    return cubes\n",
        "\n",
        "\n",
        "if __name__ == '__main__':\n",
        "    cubes = get_cubes([1, 2, 3, 4, 5])\n",
        "    print(type(cubes))\n",
        "    for cube in cubes:\n",
        "        print(cube)"
      ],
      "execution_count": 1,
      "outputs": [
        {
          "output_type": "stream",
          "text": [
            "<class 'list'>\n",
            "1\n",
            "8\n",
            "27\n",
            "64\n",
            "125\n"
          ],
          "name": "stdout"
        }
      ]
    },
    {
      "cell_type": "code",
      "metadata": {
        "colab": {
          "base_uri": "https://localhost:8080/"
        },
        "id": "8wIig1foBt8R",
        "outputId": "5e74e583-d90a-4808-bf56-101b6458a0cf"
      },
      "source": [
        "def get_cubes(numbers):\n",
        "    for number in numbers:\n",
        "        yield number * number * number\n",
        "\n",
        "\n",
        "if __name__ == '__main__':\n",
        "    cubes = get_cubes([1, 2, 3, 4, 5])\n",
        "    print(type(cubes))\n",
        "    for cube in cubes:\n",
        "        print(cube)"
      ],
      "execution_count": 2,
      "outputs": [
        {
          "output_type": "stream",
          "text": [
            "<class 'generator'>\n",
            "1\n",
            "8\n",
            "27\n",
            "64\n",
            "125\n"
          ],
          "name": "stdout"
        }
      ]
    },
    {
      "cell_type": "code",
      "metadata": {
        "colab": {
          "base_uri": "https://localhost:8080/"
        },
        "id": "JPmfB7W9CA_R",
        "outputId": "8ee033c0-6594-41df-aaca-2c4ef82120ab"
      },
      "source": [
        "!pip install memory_profiler"
      ],
      "execution_count": 5,
      "outputs": [
        {
          "output_type": "stream",
          "text": [
            "Collecting memory_profiler\n",
            "  Downloading https://files.pythonhosted.org/packages/8f/fd/d92b3295657f8837e0177e7b48b32d6651436f0293af42b76d134c3bb489/memory_profiler-0.58.0.tar.gz\n",
            "Requirement already satisfied: psutil in /usr/local/lib/python3.7/dist-packages (from memory_profiler) (5.4.8)\n",
            "Building wheels for collected packages: memory-profiler\n",
            "  Building wheel for memory-profiler (setup.py) ... \u001b[?25l\u001b[?25hdone\n",
            "  Created wheel for memory-profiler: filename=memory_profiler-0.58.0-cp37-none-any.whl size=30180 sha256=9505d88f68f264309694df01f9b9e68615dc6d069586ea5a486c3381629e3286\n",
            "  Stored in directory: /root/.cache/pip/wheels/02/e4/0b/aaab481fc5dd2a4ea59e78bc7231bb6aae7635ca7ee79f8ae5\n",
            "Successfully built memory-profiler\n",
            "Installing collected packages: memory-profiler\n",
            "Successfully installed memory-profiler-0.58.0\n"
          ],
          "name": "stdout"
        }
      ]
    },
    {
      "cell_type": "code",
      "metadata": {
        "colab": {
          "base_uri": "https://localhost:8080/"
        },
        "id": "OajwOJ9pBywS",
        "outputId": "76dac4ab-479d-4810-a8f8-b9406ff76afe"
      },
      "source": [
        "import memory_profiler\n",
        "import time\n",
        "\n",
        "def get_cubes(numbers):\n",
        "    cubes = []\n",
        "    for number in numbers:\n",
        "        cubes.append(number * number * number)\n",
        "    return cubes\n",
        "\n",
        "\n",
        "if __name__ == '__main__':\n",
        "\n",
        "    # memory before method call\n",
        "    m1 = memory_profiler.memory_usage()\n",
        "    # start time\n",
        "    t1 = time.clock()\n",
        "\n",
        "    cubes = get_cubes(range(10000000))\n",
        "\n",
        "    # end time\n",
        "    t2 = time.clock()\n",
        "    # memory after method call\n",
        "    m2 = memory_profiler.memory_usage()\n",
        "    time_diff = t2 - t1\n",
        "    mem_diff = m2[0] - m1[0]\n",
        "    print(f\"It took {time_diff} Secs and {mem_diff} Mb to execute this method\")"
      ],
      "execution_count": 6,
      "outputs": [
        {
          "output_type": "stream",
          "text": [
            "/usr/local/lib/python3.7/dist-packages/ipykernel_launcher.py:16: DeprecationWarning: time.clock has been deprecated in Python 3.3 and will be removed from Python 3.8: use time.perf_counter or time.process_time instead\n",
            "  app.launch_new_instance()\n"
          ],
          "name": "stderr"
        },
        {
          "output_type": "stream",
          "text": [
            "It took 1.924749 Secs and 606.07421875 Mb to execute this method\n"
          ],
          "name": "stdout"
        },
        {
          "output_type": "stream",
          "text": [
            "/usr/local/lib/python3.7/dist-packages/ipykernel_launcher.py:21: DeprecationWarning: time.clock has been deprecated in Python 3.3 and will be removed from Python 3.8: use time.perf_counter or time.process_time instead\n"
          ],
          "name": "stderr"
        }
      ]
    },
    {
      "cell_type": "code",
      "metadata": {
        "colab": {
          "base_uri": "https://localhost:8080/"
        },
        "id": "xRsOPunFB8VY",
        "outputId": "fcd71def-2330-4b20-b850-eea6ba277372"
      },
      "source": [
        "import memory_profiler\n",
        "import time\n",
        "\n",
        "\n",
        "def get_cubes(numbers):\n",
        "    for number in numbers:\n",
        "        yield number * number * number\n",
        "\n",
        "\n",
        "if __name__ == '__main__':\n",
        "    # memory before method call\n",
        "    m1 = memory_profiler.memory_usage()\n",
        "    # start time\n",
        "    t1 = time.clock()\n",
        "\n",
        "    cubes = get_cubes(range(10000000))\n",
        "   \n",
        "    # end time\n",
        "    t2 = time.clock()\n",
        "    # memory after method call\n",
        "    m2 = memory_profiler.memory_usage()\n",
        "    time_diff = t2 - t1\n",
        "    mem_diff = m2[0] - m1[0]\n",
        "    print(f\"It took {time_diff} Secs and {mem_diff} Mb to execute this method\")"
      ],
      "execution_count": 7,
      "outputs": [
        {
          "output_type": "stream",
          "text": [
            "It took 0.1253280000000001 Secs and -463.83203125 Mb to execute this method\n"
          ],
          "name": "stdout"
        },
        {
          "output_type": "stream",
          "text": [
            "/usr/local/lib/python3.7/dist-packages/ipykernel_launcher.py:14: DeprecationWarning: time.clock has been deprecated in Python 3.3 and will be removed from Python 3.8: use time.perf_counter or time.process_time instead\n",
            "  \n",
            "/usr/local/lib/python3.7/dist-packages/ipykernel_launcher.py:19: DeprecationWarning: time.clock has been deprecated in Python 3.3 and will be removed from Python 3.8: use time.perf_counter or time.process_time instead\n"
          ],
          "name": "stderr"
        }
      ]
    }
  ]
}