{
  "nbformat": 4,
  "nbformat_minor": 0,
  "metadata": {
    "colab": {
      "name": "Basics of Python Generators.ipynb",
      "provenance": [],
      "authorship_tag": "ABX9TyMQ5ZmIbKjkUN6lTFCWdLXx"
    },
    "kernelspec": {
      "name": "python3",
      "display_name": "Python 3"
    }
  },
  "cells": [
    {
      "cell_type": "markdown",
      "metadata": {
        "id": "cm7Z4kbHhoK5"
      },
      "source": [
        "[Reference](https://towardsdatascience.com/basics-of-python-generators-a47b3cab1a23)"
      ]
    },
    {
      "cell_type": "code",
      "metadata": {
        "colab": {
          "base_uri": "https://localhost:8080/"
        },
        "id": "nxs9-LodhmAH",
        "outputId": "ffc98b38-0f95-49d3-c97b-8b93ca672934"
      },
      "source": [
        "class get_odds:\n",
        "    def __init__(self, max):\n",
        "        self.n=3\n",
        "        self.max=max\n",
        "    def __iter__(self):\n",
        "        return self\n",
        "    def __next__(self):\n",
        "        if self.n <= self.max:\n",
        "            result = self.n\n",
        "            self.n += 2\n",
        "            return result\n",
        "        else:\n",
        "            raise StopIteration\n",
        "            \n",
        "numbers = get_odds(10)\n",
        "\n",
        "print(next(numbers))\n",
        "print(next(numbers))\n",
        "print(next(numbers))"
      ],
      "execution_count": 2,
      "outputs": [
        {
          "output_type": "stream",
          "text": [
            "3\n",
            "5\n",
            "7\n"
          ],
          "name": "stdout"
        }
      ]
    },
    {
      "cell_type": "code",
      "metadata": {
        "colab": {
          "base_uri": "https://localhost:8080/",
          "height": 232
        },
        "id": "5IboS-IFh7Lp",
        "outputId": "d4c8961d-0310-4247-a3f6-9c9c1ca8825a"
      },
      "source": [
        "def get_odds_generator(max):\n",
        "    n=1\n",
        "    \n",
        "    while n<=max:\n",
        "        yield n\n",
        "        n+=2\n",
        "    \n",
        "numbers=get_odds_generator(3)\n",
        "print(next(numbers))\n",
        "print(next(numbers))\n",
        "print(next(numbers))"
      ],
      "execution_count": 3,
      "outputs": [
        {
          "output_type": "stream",
          "text": [
            "1\n",
            "3\n"
          ],
          "name": "stdout"
        },
        {
          "output_type": "error",
          "ename": "StopIteration",
          "evalue": "ignored",
          "traceback": [
            "\u001b[0;31m---------------------------------------------------------------------------\u001b[0m",
            "\u001b[0;31mStopIteration\u001b[0m                             Traceback (most recent call last)",
            "\u001b[0;32m<ipython-input-3-5866ac51d01c>\u001b[0m in \u001b[0;36m<module>\u001b[0;34m()\u001b[0m\n\u001b[1;32m      9\u001b[0m \u001b[0mprint\u001b[0m\u001b[0;34m(\u001b[0m\u001b[0mnext\u001b[0m\u001b[0;34m(\u001b[0m\u001b[0mnumbers\u001b[0m\u001b[0;34m)\u001b[0m\u001b[0;34m)\u001b[0m\u001b[0;34m\u001b[0m\u001b[0;34m\u001b[0m\u001b[0m\n\u001b[1;32m     10\u001b[0m \u001b[0mprint\u001b[0m\u001b[0;34m(\u001b[0m\u001b[0mnext\u001b[0m\u001b[0;34m(\u001b[0m\u001b[0mnumbers\u001b[0m\u001b[0;34m)\u001b[0m\u001b[0;34m)\u001b[0m\u001b[0;34m\u001b[0m\u001b[0;34m\u001b[0m\u001b[0m\n\u001b[0;32m---> 11\u001b[0;31m \u001b[0mprint\u001b[0m\u001b[0;34m(\u001b[0m\u001b[0mnext\u001b[0m\u001b[0;34m(\u001b[0m\u001b[0mnumbers\u001b[0m\u001b[0;34m)\u001b[0m\u001b[0;34m)\u001b[0m\u001b[0;34m\u001b[0m\u001b[0;34m\u001b[0m\u001b[0m\n\u001b[0m",
            "\u001b[0;31mStopIteration\u001b[0m: "
          ]
        }
      ]
    },
    {
      "cell_type": "code",
      "metadata": {
        "colab": {
          "base_uri": "https://localhost:8080/"
        },
        "id": "JCtzJZ-4kKAB",
        "outputId": "03e8cdf0-5ab9-4ae6-9ba5-7afbc2d4b434"
      },
      "source": [
        "def fibonacci_generator():\n",
        "    n1=0\n",
        "    n2=1\n",
        "    while True:\n",
        "        yield n1\n",
        "        n1, n2 = n2, n1 + n2\n",
        "\n",
        "sequence= fibonacci_generator()\n",
        "print(next(sequence))\n",
        "print(next(sequence))\n",
        "print(next(sequence))\n",
        "print(next(sequence))\n",
        "print(next(sequence))"
      ],
      "execution_count": 4,
      "outputs": [
        {
          "output_type": "stream",
          "text": [
            "0\n",
            "1\n",
            "1\n",
            "2\n",
            "3\n"
          ],
          "name": "stdout"
        }
      ]
    }
  ]
}