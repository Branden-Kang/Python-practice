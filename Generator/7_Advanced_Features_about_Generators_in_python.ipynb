{
  "nbformat": 4,
  "nbformat_minor": 0,
  "metadata": {
    "colab": {
      "name": "7 Advanced Features about Generators in python.ipynb",
      "provenance": [],
      "authorship_tag": "ABX9TyM8UmvwGuLFY3ketJ4eyEhw"
    },
    "kernelspec": {
      "name": "python3",
      "display_name": "Python 3"
    }
  },
  "cells": [
    {
      "cell_type": "markdown",
      "metadata": {
        "id": "m5FrOX__zbjr"
      },
      "source": [
        "[Reference](https://medium.com/better-programming/python-7-advanced-features-that-you-may-not-know-about-generators-574a65fd6e45)"
      ]
    },
    {
      "cell_type": "markdown",
      "metadata": {
        "id": "q1nF7BC4z0Mg"
      },
      "source": [
        "# Generator creation"
      ]
    },
    {
      "cell_type": "code",
      "metadata": {
        "id": "lo06V7kwxPnL",
        "outputId": "9cb44a73-1529-4dbb-9193-69c5f14fd9d0",
        "colab": {
          "base_uri": "https://localhost:8080/"
        }
      },
      "source": [
        "def abc_generator_creator():\n",
        "    yield 'a'\n",
        "    yield 'b'\n",
        "    yield 'c'\n",
        "\n",
        "abc_gen = abc_generator_creator()\n",
        "print(type(abc_gen))\n",
        "\n",
        "for letter in abc_gen:\n",
        "    print(letter)"
      ],
      "execution_count": 1,
      "outputs": [
        {
          "output_type": "stream",
          "text": [
            "<class 'generator'>\n",
            "a\n",
            "b\n",
            "c\n"
          ],
          "name": "stdout"
        }
      ]
    },
    {
      "cell_type": "code",
      "metadata": {
        "id": "5pCINyTH2VFE",
        "outputId": "407fa0aa-00e7-4e59-9da9-62b1f9267dd4",
        "colab": {
          "base_uri": "https://localhost:8080/"
        }
      },
      "source": [
        "abc_gen_expr = (x for x in 'abc')\n",
        "print(type(abc_gen_expr))\n",
        "\n",
        "for letter in abc_gen_expr:\n",
        "    print(letter)"
      ],
      "execution_count": 3,
      "outputs": [
        {
          "output_type": "stream",
          "text": [
            "<class 'generator'>\n",
            "a\n",
            "b\n",
            "c\n"
          ],
          "name": "stdout"
        }
      ]
    },
    {
      "cell_type": "markdown",
      "metadata": {
        "id": "V5bYtZPT3dVo"
      },
      "source": [
        "# Generator Pitfall"
      ]
    },
    {
      "cell_type": "markdown",
      "metadata": {
        "id": "_a9RsYmC3hLt"
      },
      "source": [
        "## 1. Generators don’t have a length"
      ]
    },
    {
      "cell_type": "code",
      "metadata": {
        "id": "97YCvkfl2l1v"
      },
      "source": [
        "abc_gen_expr = (x for x in 'abc')"
      ],
      "execution_count": 4,
      "outputs": []
    },
    {
      "cell_type": "code",
      "metadata": {
        "id": "1PSJO6mc3UvD",
        "outputId": "17cbfdc0-987c-4d1b-9f79-a9c09590db1b",
        "colab": {
          "base_uri": "https://localhost:8080/",
          "height": 198
        }
      },
      "source": [
        "len(abc_gen_expr)"
      ],
      "execution_count": 5,
      "outputs": [
        {
          "output_type": "error",
          "ename": "TypeError",
          "evalue": "ignored",
          "traceback": [
            "\u001b[0;31m---------------------------------------------------------------------------\u001b[0m",
            "\u001b[0;31mTypeError\u001b[0m                                 Traceback (most recent call last)",
            "\u001b[0;32m<ipython-input-5-346806ad057d>\u001b[0m in \u001b[0;36m<module>\u001b[0;34m()\u001b[0m\n\u001b[0;32m----> 1\u001b[0;31m \u001b[0mlen\u001b[0m\u001b[0;34m(\u001b[0m\u001b[0mabc_gen_expr\u001b[0m\u001b[0;34m)\u001b[0m\u001b[0;34m\u001b[0m\u001b[0;34m\u001b[0m\u001b[0m\n\u001b[0m",
            "\u001b[0;31mTypeError\u001b[0m: object of type 'generator' has no len()"
          ]
        }
      ]
    },
    {
      "cell_type": "markdown",
      "metadata": {
        "id": "La6iNh893jaN"
      },
      "source": [
        "## 2. Generators are iterators"
      ]
    },
    {
      "cell_type": "code",
      "metadata": {
        "id": "74fgIz5t3aOp",
        "outputId": "ddfd2d09-ffb3-48ef-b078-42c21cfc94d0",
        "colab": {
          "base_uri": "https://localhost:8080/"
        }
      },
      "source": [
        "integers = [0, 1, 2, 3]\n",
        "i_integers = iter(integers)\n",
        "print(type(i_integers))"
      ],
      "execution_count": 6,
      "outputs": [
        {
          "output_type": "stream",
          "text": [
            "<class 'list_iterator'>\n"
          ],
          "name": "stdout"
        }
      ]
    },
    {
      "cell_type": "code",
      "metadata": {
        "id": "09rpdDeA3mb_"
      },
      "source": [
        "scores = {'John': 99, 'Danny': 95}\n",
        "i_scores = iter(scores)\n",
        "print(type(i_scores))"
      ],
      "execution_count": 6,
      "outputs": []
    },
    {
      "cell_type": "code",
      "metadata": {
        "id": "6UDq0TFU3xRH",
        "outputId": "8ff857ec-e3cd-431d-d8d9-75b17eec32a9",
        "colab": {
          "base_uri": "https://localhost:8080/"
        }
      },
      "source": [
        "abc_gen_expr = (x for x in 'abc')\n",
        "print(next(abc_gen_expr))\n",
        "print(next(abc_gen_expr))"
      ],
      "execution_count": 7,
      "outputs": [
        {
          "output_type": "stream",
          "text": [
            "a\n",
            "b\n"
          ],
          "name": "stdout"
        }
      ]
    },
    {
      "cell_type": "markdown",
      "metadata": {
        "id": "0LDi5pha31Qr"
      },
      "source": [
        "## 3. Generators are exhaustive"
      ]
    },
    {
      "cell_type": "code",
      "metadata": {
        "id": "kW3QUdEP3ygo",
        "outputId": "cf677850-c8d9-4e78-a0e5-8ffa6216d533",
        "colab": {
          "base_uri": "https://localhost:8080/",
          "height": 283
        }
      },
      "source": [
        "abc_gen_expr = (x for x in 'abc')\n",
        "print(next(abc_gen_expr))\n",
        "print(next(abc_gen_expr))\n",
        "print(next(abc_gen_expr))\n",
        "print(next(abc_gen_expr))"
      ],
      "execution_count": 8,
      "outputs": [
        {
          "output_type": "stream",
          "text": [
            "a\n",
            "b\n",
            "c\n"
          ],
          "name": "stdout"
        },
        {
          "output_type": "error",
          "ename": "StopIteration",
          "evalue": "ignored",
          "traceback": [
            "\u001b[0;31m---------------------------------------------------------------------------\u001b[0m",
            "\u001b[0;31mStopIteration\u001b[0m                             Traceback (most recent call last)",
            "\u001b[0;32m<ipython-input-8-20b29f212fcf>\u001b[0m in \u001b[0;36m<module>\u001b[0;34m()\u001b[0m\n\u001b[1;32m      3\u001b[0m \u001b[0mprint\u001b[0m\u001b[0;34m(\u001b[0m\u001b[0mnext\u001b[0m\u001b[0;34m(\u001b[0m\u001b[0mabc_gen_expr\u001b[0m\u001b[0;34m)\u001b[0m\u001b[0;34m)\u001b[0m\u001b[0;34m\u001b[0m\u001b[0;34m\u001b[0m\u001b[0m\n\u001b[1;32m      4\u001b[0m \u001b[0mprint\u001b[0m\u001b[0;34m(\u001b[0m\u001b[0mnext\u001b[0m\u001b[0;34m(\u001b[0m\u001b[0mabc_gen_expr\u001b[0m\u001b[0;34m)\u001b[0m\u001b[0;34m)\u001b[0m\u001b[0;34m\u001b[0m\u001b[0;34m\u001b[0m\u001b[0m\n\u001b[0;32m----> 5\u001b[0;31m \u001b[0mprint\u001b[0m\u001b[0;34m(\u001b[0m\u001b[0mnext\u001b[0m\u001b[0;34m(\u001b[0m\u001b[0mabc_gen_expr\u001b[0m\u001b[0;34m)\u001b[0m\u001b[0;34m)\u001b[0m\u001b[0;34m\u001b[0m\u001b[0;34m\u001b[0m\u001b[0m\n\u001b[0m",
            "\u001b[0;31mStopIteration\u001b[0m: "
          ]
        }
      ]
    },
    {
      "cell_type": "code",
      "metadata": {
        "id": "-4yI8zSR34ct",
        "outputId": "77caeb9b-a53d-4845-fa3b-8f64b8cac67e",
        "colab": {
          "base_uri": "https://localhost:8080/"
        }
      },
      "source": [
        "abc_gen_expr = (x for x in 'abc')\n",
        "for item in abc_gen_expr:\n",
        "    print(f'The first iteration: {item}')\n",
        "\n",
        "print('After the first iteration')\n",
        "\n",
        "for item in abc_gen_expr:\n",
        "    print(f'The second iteration: {item}')\n",
        "\n",
        "print('After the second iteration')"
      ],
      "execution_count": 9,
      "outputs": [
        {
          "output_type": "stream",
          "text": [
            "The first iteration: a\n",
            "The first iteration: b\n",
            "The first iteration: c\n",
            "After the first iteration\n",
            "After the second iteration\n"
          ],
          "name": "stdout"
        }
      ]
    },
    {
      "cell_type": "markdown",
      "metadata": {
        "id": "B9bUlK9t4L6e"
      },
      "source": [
        "## 4. The parentheses may be omitted sometimes"
      ]
    },
    {
      "cell_type": "code",
      "metadata": {
        "id": "TuwidLSX4GhO",
        "outputId": "3e093045-4905-43b2-ebfd-de94bc77238f",
        "colab": {
          "base_uri": "https://localhost:8080/"
        }
      },
      "source": [
        "squares_sum = sum(x*x for x in range(1, 5))\n",
        "print(squares_sum)"
      ],
      "execution_count": 10,
      "outputs": [
        {
          "output_type": "stream",
          "text": [
            "30\n"
          ],
          "name": "stdout"
        }
      ]
    },
    {
      "cell_type": "code",
      "metadata": {
        "id": "OBBq4UYo4PDU",
        "outputId": "44aeccb9-7037-4149-9585-ba00e0d0ac2c",
        "colab": {
          "base_uri": "https://localhost:8080/"
        }
      },
      "source": [
        "squares_list = list(x*x for x in range(1, 5))\n",
        "print(squares_list)"
      ],
      "execution_count": 11,
      "outputs": [
        {
          "output_type": "stream",
          "text": [
            "[1, 4, 9, 16]\n"
          ],
          "name": "stdout"
        }
      ]
    },
    {
      "cell_type": "code",
      "metadata": {
        "id": "RqYhHj8r4SP6",
        "outputId": "06af5632-12b0-46e4-979d-d1b978996be0",
        "colab": {
          "base_uri": "https://localhost:8080/"
        }
      },
      "source": [
        "type(x*x for x in range(1, 5))"
      ],
      "execution_count": 12,
      "outputs": [
        {
          "output_type": "execute_result",
          "data": {
            "text/plain": [
              "generator"
            ]
          },
          "metadata": {
            "tags": []
          },
          "execution_count": 12
        }
      ]
    },
    {
      "cell_type": "markdown",
      "metadata": {
        "id": "ApxdbAIi4iux"
      },
      "source": [
        "## 5. You can choose where to yield from"
      ]
    },
    {
      "cell_type": "code",
      "metadata": {
        "id": "x3lANAL-4YVX",
        "outputId": "3b190a71-96b4-4064-b260-da7050af8ad5",
        "colab": {
          "base_uri": "https://localhost:8080/"
        }
      },
      "source": [
        "def custom_chain(*iterables):\n",
        "    for iterable in iterables:\n",
        "        yield from iterable\n",
        "\n",
        "for x in custom_chain([1, 2, 3], 'abc'):\n",
        "    print(x, end=' ')"
      ],
      "execution_count": 13,
      "outputs": [
        {
          "output_type": "stream",
          "text": [
            "1 2 3 a b c "
          ],
          "name": "stdout"
        }
      ]
    },
    {
      "cell_type": "markdown",
      "metadata": {
        "id": "3Bpp_MiM45oO"
      },
      "source": [
        "## 6. Send information back to the generator"
      ]
    },
    {
      "cell_type": "code",
      "metadata": {
        "id": "BpU-Q9Eg4z79",
        "outputId": "154ae710-e977-44e8-fc91-b8fa664bd540",
        "colab": {
          "base_uri": "https://localhost:8080/"
        }
      },
      "source": [
        "def pool_money(bet, amount):\n",
        "    while True:\n",
        "        amount += bet\n",
        "        bet = yield amount\n",
        "\n",
        "pool_money_gen = pool_money(0, 100)\n",
        "print(f'* The beginning: {next(pool_money_gen)}')\n",
        "# Get the bet from the user, let's assume they're 20 and 50 for two rounds\n",
        "print(f'* After the second bet of 20: {pool_money_gen.send(20)}')\n",
        "print(f'* After the third bet of 50: {pool_money_gen.send(50)}')"
      ],
      "execution_count": 14,
      "outputs": [
        {
          "output_type": "stream",
          "text": [
            "* The beginning: 100\n",
            "* After the second bet of 20: 120\n",
            "* After the third bet of 50: 170\n"
          ],
          "name": "stdout"
        }
      ]
    },
    {
      "cell_type": "markdown",
      "metadata": {
        "id": "xzeZEI9q5Q30"
      },
      "source": [
        "# 7. Throw exceptions with generators"
      ]
    },
    {
      "cell_type": "code",
      "metadata": {
        "id": "O7JApptU5A3r",
        "outputId": "069780f3-9d89-4dea-f1c3-cda5f0cf55e7",
        "colab": {
          "base_uri": "https://localhost:8080/"
        }
      },
      "source": [
        "class TimerFlip(Exception):\n",
        "    pass\n",
        "\n",
        "def sand_timer():\n",
        "    current_level = 100\n",
        "    while current_level:\n",
        "        current_level -= 5\n",
        "        try:\n",
        "            yield current_level\n",
        "        except TimerFlip:\n",
        "            print(\"Timer will restart.\")\n",
        "            current_level = 100\n",
        "\n",
        "\n",
        "progress_tracker = sand_timer()\n",
        "print(next(progress_tracker))\n",
        "print(next(progress_tracker))\n",
        "# Flip the sand timer\n",
        "print(progress_tracker.throw(TimerFlip()))\n",
        "print(next(progress_tracker))"
      ],
      "execution_count": 15,
      "outputs": [
        {
          "output_type": "stream",
          "text": [
            "95\n",
            "90\n",
            "Timer will restart.\n",
            "95\n",
            "90\n"
          ],
          "name": "stdout"
        }
      ]
    }
  ]
}