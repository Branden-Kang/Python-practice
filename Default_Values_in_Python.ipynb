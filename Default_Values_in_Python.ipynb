{
  "nbformat": 4,
  "nbformat_minor": 0,
  "metadata": {
    "colab": {
      "name": "Default Values in Python.ipynb",
      "provenance": [],
      "authorship_tag": "ABX9TyNwTC9z4xn67HhX+Mv89vM8"
    },
    "kernelspec": {
      "name": "python3",
      "display_name": "Python 3"
    }
  },
  "cells": [
    {
      "cell_type": "markdown",
      "metadata": {
        "id": "h1aeK-aPXQTF"
      },
      "source": [
        "[Reference](https://medium.com/python-features/how-to-avoid-classic-pitfall-while-passing-default-values-in-python-7002c0dc4c7c)"
      ]
    },
    {
      "cell_type": "code",
      "metadata": {
        "id": "oSgVurCUVqmq"
      },
      "source": [
        "from datetime import datetime\n",
        "import time"
      ],
      "execution_count": 7,
      "outputs": []
    },
    {
      "cell_type": "code",
      "metadata": {
        "colab": {
          "base_uri": "https://localhost:8080/"
        },
        "id": "o4JGEcSKVF6f",
        "outputId": "5e6bcbb5-cc5f-4b07-f0b3-0a04c73ce4a8"
      },
      "source": [
        "def log(msg, when=datetime.now()):\n",
        "    print('%s: %s' % (when, msg))\n",
        "\n",
        "log('Hi Sarah!')\n",
        "time.sleep(1)\n",
        "log('Hi again!')"
      ],
      "execution_count": 8,
      "outputs": [
        {
          "output_type": "stream",
          "text": [
            "2021-02-15 10:58:47.711825: Hi Sarah!\n",
            "2021-02-15 10:58:47.711825: Hi again!\n"
          ],
          "name": "stdout"
        }
      ]
    },
    {
      "cell_type": "code",
      "metadata": {
        "colab": {
          "base_uri": "https://localhost:8080/"
        },
        "id": "h12a2VCPVmh0",
        "outputId": "f0440d57-e533-4a56-9a0c-238fdeab8d7b"
      },
      "source": [
        "def log(msg, when=None):\n",
        "    when = datetime.now() if when is None else when\n",
        "    print('%s: %s' % (when, msg))\n",
        "\n",
        "log('Hi Sarah!')\n",
        "time.sleep(1)\n",
        "log('Hi again!')"
      ],
      "execution_count": 13,
      "outputs": [
        {
          "output_type": "stream",
          "text": [
            "2021-02-15 11:03:21.451649: Hi Sarah!\n",
            "2021-02-15 11:03:22.453003: Hi again!\n"
          ],
          "name": "stdout"
        }
      ]
    },
    {
      "cell_type": "code",
      "metadata": {
        "colab": {
          "base_uri": "https://localhost:8080/"
        },
        "id": "ohKw8tyTV9YB",
        "outputId": "d2bb1831-0a1a-46b6-a536-d3ade4b81701"
      },
      "source": [
        "def fun(value, key, hash={}):\n",
        "    hash[value] = key\n",
        "    return hash\n",
        "\n",
        "print(fun('a', 1))\n",
        "print(fun('b', 2))"
      ],
      "execution_count": 14,
      "outputs": [
        {
          "output_type": "stream",
          "text": [
            "{'a': 1}\n",
            "{'a': 1, 'b': 2}\n"
          ],
          "name": "stdout"
        }
      ]
    },
    {
      "cell_type": "code",
      "metadata": {
        "colab": {
          "base_uri": "https://localhost:8080/"
        },
        "id": "2kznRUh7XAem",
        "outputId": "9e6ef742-9fe3-4027-a5c6-700acb47dd37"
      },
      "source": [
        "def fun(value, key, hash=None):\n",
        "    if hash is None:\n",
        "        hash = {}\n",
        "    hash[value] = key\n",
        "    return hash\n",
        "\n",
        "print(fun('a', 1))\n",
        "print(fun('b', 2))"
      ],
      "execution_count": 15,
      "outputs": [
        {
          "output_type": "stream",
          "text": [
            "{'a': 1}\n",
            "{'b': 2}\n"
          ],
          "name": "stdout"
        }
      ]
    }
  ]
}