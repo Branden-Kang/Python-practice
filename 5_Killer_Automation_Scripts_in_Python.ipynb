{
  "nbformat": 4,
  "nbformat_minor": 0,
  "metadata": {
    "colab": {
      "name": "5 Killer Automation Scripts in Python.ipynb",
      "provenance": [],
      "authorship_tag": "ABX9TyNTz64mj77e1i1yaGTSW0fn"
    },
    "kernelspec": {
      "name": "python3",
      "display_name": "Python 3"
    },
    "language_info": {
      "name": "python"
    }
  },
  "cells": [
    {
      "cell_type": "markdown",
      "source": [
        "[Reference](https://medium.com/codex/5-killer-automation-scripts-in-python-42c273fc37c4)"
      ],
      "metadata": {
        "id": "oyHwnYswHdhP"
      }
    },
    {
      "cell_type": "markdown",
      "source": [
        "# 1.) Convert Images to PDF"
      ],
      "metadata": {
        "id": "UQMUJPfsH1Ql"
      }
    },
    {
      "cell_type": "code",
      "execution_count": 1,
      "metadata": {
        "id": "zYVRBIUzHVZC"
      },
      "outputs": [],
      "source": [
        "import os\n",
        "import img2pdf\n",
        "with open(\"out.pdf\", \"wb\") as file:\n",
        "   file.write(img2pdf.convert([i for i in os.listdir('Path of image_Directory') if i.endswith(\".jpg\")]))\n",
        "\n",
        "from fpdf import FPDF\n",
        "Pdf = FPDF()\n",
        "list_of_images = [\"one.jpg\", \"second.jpg\",\"third.jpg\"]\n",
        "for i in list_of_images:\n",
        "   Pdf.add_page()\n",
        "   Pdf.image(i,x,y,w,h)\n",
        "   Pdf.output(\"out.pdf\", \"F\")"
      ]
    },
    {
      "cell_type": "markdown",
      "source": [
        "# 2.) Convert PDF to CSV\n"
      ],
      "metadata": {
        "id": "l4b9pjjuH849"
      }
    },
    {
      "cell_type": "code",
      "source": [
        "import tabula\n",
        "filename = input(\"Enter File Path: \")\n",
        "df = tabula.read_pdf(filename, encoding='utf-8', spreadsheet=True, pages='1')\n",
        "df.to_csv('out.csv')"
      ],
      "metadata": {
        "id": "uHiWWAU3H7nh"
      },
      "execution_count": 2,
      "outputs": []
    },
    {
      "cell_type": "markdown",
      "source": [
        "# 3.) YT Video Downloader"
      ],
      "metadata": {
        "id": "tqP17LQeIA0u"
      }
    },
    {
      "cell_type": "code",
      "source": [
        "import pytube\n",
        "link = input('Enter The Youtube Video URL')\n",
        "dn = pytube.Youtube(link)\n",
        "dn.streams.first().download()\n",
        "print('Your Video Has Been Downloaded', link)"
      ],
      "metadata": {
        "id": "zXZjF5xtH-a8"
      },
      "execution_count": 3,
      "outputs": []
    },
    {
      "cell_type": "markdown",
      "source": [
        "# 4.) InstaDpViewer\n"
      ],
      "metadata": {
        "id": "u1CZjo4BIE4A"
      }
    },
    {
      "cell_type": "code",
      "source": [
        "import instaloader\n",
        "il = instaloader.Instaloader()\n",
        "username = input(\"Enter Insta username \")\n",
        "il.download_profile(username , profile_pic_only=True)\n",
        "print(\"Your DP is Downloaded\")"
      ],
      "metadata": {
        "id": "NUqvVSi3IDOd"
      },
      "execution_count": 4,
      "outputs": []
    },
    {
      "cell_type": "markdown",
      "source": [
        "# 5.) Text to Speech\n"
      ],
      "metadata": {
        "id": "DK3DbLPjIHvh"
      }
    },
    {
      "cell_type": "code",
      "source": [
        "from pygame import mixer\n",
        "from gtts import gTTS\n",
        "def main():\n",
        "   tts = gTTS('Like This Article')\n",
        "   tts.save('output.mp3')\n",
        "   mixer.init()\n",
        "   mixer.music.load('output.mp3')\n",
        "   mixer.music.play()\n",
        "if __name__ == \"__main__\":\n",
        "   main()"
      ],
      "metadata": {
        "id": "GpW2cAfWIGgz"
      },
      "execution_count": 5,
      "outputs": []
    }
  ]
}