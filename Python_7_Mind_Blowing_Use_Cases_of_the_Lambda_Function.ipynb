{
  "nbformat": 4,
  "nbformat_minor": 0,
  "metadata": {
    "colab": {
      "provenance": [],
      "authorship_tag": "ABX9TyOSaeH9fK0qr9JLiMJktI17"
    },
    "kernelspec": {
      "name": "python3",
      "display_name": "Python 3"
    },
    "language_info": {
      "name": "python"
    }
  },
  "cells": [
    {
      "cell_type": "markdown",
      "source": [
        "[Reference](https://python.plainenglish.io/python-7-mind-blowing-use-cases-of-the-lambda-function-3bb896f866af)"
      ],
      "metadata": {
        "id": "_MopG7dolKB1"
      }
    },
    {
      "cell_type": "markdown",
      "source": [
        "# The Sort Method"
      ],
      "metadata": {
        "id": "if63FkRplNaB"
      }
    },
    {
      "cell_type": "code",
      "execution_count": 1,
      "metadata": {
        "colab": {
          "base_uri": "https://localhost:8080/"
        },
        "id": "ZsDK8ixSjsa1",
        "outputId": "f0102eee-2da8-4b07-e3aa-55458342a5d2"
      },
      "outputs": [
        {
          "output_type": "stream",
          "name": "stdout",
          "text": [
            "[32, 12, 23, 56, 89]\n"
          ]
        }
      ],
      "source": [
        "li = [23, 56, 89, 32, 12]\n",
        "li.sort(key=lambda x: str(x)[1])\n",
        "print(li)"
      ]
    },
    {
      "cell_type": "markdown",
      "source": [
        "# The Max Function"
      ],
      "metadata": {
        "id": "oPPEKvwRlQGK"
      }
    },
    {
      "cell_type": "code",
      "source": [
        "li = [1, 0, -1, 2, -3]\n",
        "print(max(li, key=lambda x: abs(x)))"
      ],
      "metadata": {
        "colab": {
          "base_uri": "https://localhost:8080/"
        },
        "id": "bIrs8JZ6lOpB",
        "outputId": "b58de6e1-d9ee-41c7-ed52-74665f32ec79"
      },
      "execution_count": 2,
      "outputs": [
        {
          "output_type": "stream",
          "name": "stdout",
          "text": [
            "-3\n"
          ]
        }
      ]
    },
    {
      "cell_type": "markdown",
      "source": [
        "# The Min Function"
      ],
      "metadata": {
        "id": "7up-7v0vlSab"
      }
    },
    {
      "cell_type": "code",
      "source": [
        "li = [1, 2, 3, 4, 5]\n",
        "print(min(li, key=lambda x: -x))"
      ],
      "metadata": {
        "colab": {
          "base_uri": "https://localhost:8080/"
        },
        "id": "iPnc9dNylRK3",
        "outputId": "3e8599d3-3383-447b-edaa-f7f75c64c6e8"
      },
      "execution_count": 3,
      "outputs": [
        {
          "output_type": "stream",
          "name": "stdout",
          "text": [
            "5\n"
          ]
        }
      ]
    },
    {
      "cell_type": "markdown",
      "source": [
        "# The Filter Class"
      ],
      "metadata": {
        "id": "Laf5CkN0lUl6"
      }
    },
    {
      "cell_type": "code",
      "source": [
        "li = ['bat', 'tip', 'cat', 'pet']\n",
        "fr = filter(lambda x: x[1] == 'a', li)\n",
        "print(list(fr))"
      ],
      "metadata": {
        "colab": {
          "base_uri": "https://localhost:8080/"
        },
        "id": "5V7J70h8lTbP",
        "outputId": "65da7f5e-a7c2-4083-96af-26672d668684"
      },
      "execution_count": 4,
      "outputs": [
        {
          "output_type": "stream",
          "name": "stdout",
          "text": [
            "['bat', 'cat']\n"
          ]
        }
      ]
    },
    {
      "cell_type": "markdown",
      "source": [
        "# The Map Class"
      ],
      "metadata": {
        "id": "Mgrq7VwHlW0o"
      }
    },
    {
      "cell_type": "code",
      "source": [
        "li = [4, 8, 3, 2, 9]\n",
        "mp = map(lambda x: x ** 3, li)\n",
        "print(list(mp))"
      ],
      "metadata": {
        "colab": {
          "base_uri": "https://localhost:8080/"
        },
        "id": "msAocr0XlVgo",
        "outputId": "89d12a46-991b-47b3-c6e8-8ca4628b8951"
      },
      "execution_count": 5,
      "outputs": [
        {
          "output_type": "stream",
          "name": "stdout",
          "text": [
            "[64, 512, 27, 8, 729]\n"
          ]
        }
      ]
    },
    {
      "cell_type": "markdown",
      "source": [
        "# The Reduce Function"
      ],
      "metadata": {
        "id": "DAWw55fclZKB"
      }
    },
    {
      "cell_type": "code",
      "source": [
        "from functools import reduce\n",
        "\n",
        "li = [5, 7, 3, 4, 6]\n",
        "re = reduce(lambda x, y: x * y, li)\n",
        "print(re)"
      ],
      "metadata": {
        "colab": {
          "base_uri": "https://localhost:8080/"
        },
        "id": "UJiP3CiJlYED",
        "outputId": "ff548810-be00-444b-8359-393870d32530"
      },
      "execution_count": 6,
      "outputs": [
        {
          "output_type": "stream",
          "name": "stdout",
          "text": [
            "2520\n"
          ]
        }
      ]
    },
    {
      "cell_type": "markdown",
      "source": [
        "# The Sorted Function"
      ],
      "metadata": {
        "id": "9_am2UsYlbkt"
      }
    },
    {
      "cell_type": "code",
      "source": [
        "li = [59, 38, 81, 66, 43]\n",
        "so = sorted(li, key=lambda x: str(x)[::-1])\n",
        "print(so)"
      ],
      "metadata": {
        "colab": {
          "base_uri": "https://localhost:8080/"
        },
        "id": "VXxJ9lNslaMx",
        "outputId": "485f43e9-f995-46b7-a336-b8c6e9650b22"
      },
      "execution_count": 7,
      "outputs": [
        {
          "output_type": "stream",
          "name": "stdout",
          "text": [
            "[81, 43, 66, 38, 59]\n"
          ]
        }
      ]
    }
  ]
}