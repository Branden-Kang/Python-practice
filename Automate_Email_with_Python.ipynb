{
  "nbformat": 4,
  "nbformat_minor": 0,
  "metadata": {
    "colab": {
      "name": "Automate Email with Python.ipynb",
      "provenance": [],
      "authorship_tag": "ABX9TyO2mNqeFrzljpWBsSZkYpal"
    },
    "kernelspec": {
      "name": "python3",
      "display_name": "Python 3"
    }
  },
  "cells": [
    {
      "cell_type": "markdown",
      "metadata": {
        "id": "RXVyjPFisIZJ"
      },
      "source": [
        "[Reference](https://towardsdatascience.com/automate-email-with-python-1e755d9c6276)"
      ]
    },
    {
      "cell_type": "markdown",
      "metadata": {
        "id": "i9LKi4hGsAYS"
      },
      "source": [
        "# MIME"
      ]
    },
    {
      "cell_type": "code",
      "metadata": {
        "id": "Cgg5DwDYr8fT"
      },
      "source": [
        "from email.mime.multipart import MIMEMultipart\n",
        "from email.mime.text import MIMEText\n",
        "from email.mime.image import MIMEImage\n",
        "from email.mime.application import MIMEApplication\n",
        "from email.mime.audio import MIMEAudio\n",
        "\n",
        "msg = MIMEMultipart  # initialize the MIME object, containing our email message\n",
        "msg.attach(MIMEText(text))  # add text contents\n",
        "\n",
        "img_data = open('image.jpg', 'rb').read()  # read an image binary data\n",
        "msg.attach(MIMEImage(img_data))  # add the image to our message object\n",
        "\n",
        "# read in attachment as binary\n",
        "with open('report.docx', 'rb') as f:\n",
        "    file = MIMEApplication(f.read())  # read the attachment file\n",
        "msg.attach(file)  # add the attachment to our message object"
      ],
      "execution_count": 2,
      "outputs": []
    },
    {
      "cell_type": "code",
      "metadata": {
        "id": "-Sn2-STYrZWQ"
      },
      "source": [
        "import os\n",
        "from email.mime.text import MIMEText\n",
        "from email.mime.image import MIMEImage\n",
        "from email.mime.application import MIMEApplication\n",
        "from email.mime.multipart import MIMEMultipart\n",
        "\n",
        "def message(subject=\"Python Notification\", text=\"\", img=None, attachment=None):\n",
        "    # build message contents\n",
        "    msg = MIMEMultipart()\n",
        "    msg['Subject'] = subject  # add in the subject\n",
        "    msg.attach(MIMEText(text))  # add text contents\n",
        "\n",
        "    # check if we have anything given in the img parameter\n",
        "    if img is not None:\n",
        "        # if we do, we want to iterate through the images, so let's check that\n",
        "        # what we have is actually a list\n",
        "        if type(img) is not list:\n",
        "            img = [img]  # if it isn't a list, make it one\n",
        "        # now iterate through our list\n",
        "        for one_img in img:\n",
        "            img_data = open(one_img, 'rb').read()  # read the image binary data\n",
        "            # attach the image data to MIMEMultipart using MIMEImage, we add\n",
        "            # the given filename use os.basename\n",
        "            msg.attach(MIMEImage(img_data, name=os.path.basename(one_img)))\n",
        "\n",
        "    # we do the same for attachments as we did for images\n",
        "    if attachment is not None:\n",
        "        if type(attachment) is not list:\n",
        "            attachment = [attachment]  # if it isn't a list, make it one\n",
        "            \n",
        "        for one_attachment in attachment:\n",
        "            with open(one_attachment, 'rb') as f:\n",
        "                # read in the attachment using MIMEApplication\n",
        "                file = MIMEApplication(\n",
        "                    f.read(),\n",
        "                    name=os.path.basename(one_attachment)\n",
        "                )\n",
        "            # here we edit the attached file metadata\n",
        "            file['Content-Disposition'] = f'attachment; filename=\"{os.path.basename(one_attachment)}\"'\n",
        "            msg.attach(file)  # finally, add the attachment to our message object\n",
        "    return msg"
      ],
      "execution_count": 1,
      "outputs": []
    },
    {
      "cell_type": "markdown",
      "metadata": {
        "id": "C19DZRHYrZt6"
      },
      "source": [
        "# SMTP (Simple Mail Transfer Protocol)"
      ]
    },
    {
      "cell_type": "markdown",
      "metadata": {
        "id": "PGl1_mPYrgY4"
      },
      "source": [
        "![smtp](https://miro.medium.com/max/1400/1*tGCyXhXldhyxxGUsh9Yw6w.png)"
      ]
    },
    {
      "cell_type": "code",
      "metadata": {
        "id": "ciCqA6Adeu5s"
      },
      "source": [
        "import smtplib\n",
        "\n",
        "# initialize connection to our email server, we will use Outlook here\n",
        "smtp = smtplib.SMTP('smtp-mail.outlook.com', port='587')\n",
        "\n",
        "smtp.ehlo()  # send the extended hello to our server\n",
        "smtp.starttls()  # tell server we want to communicate with TLS encryption\n",
        "\n",
        "smtp.login('joe.bloggs@outlook.com', 'Password123')  # login to our email server\n",
        "\n",
        "# send our email message 'msg' to our boss\n",
        "smtp.sendmail('joe.bloggs@outlook.com',\n",
        "              'joes.boss@outlook.com',\n",
        "              msg.as_string())\n",
        "              \n",
        "smtp.quit()  # finally, don't forget to close the connection"
      ],
      "execution_count": null,
      "outputs": []
    }
  ]
}