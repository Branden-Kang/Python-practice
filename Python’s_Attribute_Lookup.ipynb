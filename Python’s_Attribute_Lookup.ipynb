{
  "nbformat": 4,
  "nbformat_minor": 0,
  "metadata": {
    "colab": {
      "name": "Python’s Attribute Lookup.ipynb",
      "provenance": [],
      "authorship_tag": "ABX9TyP3jzxImQIovEZyniVykXi+"
    },
    "kernelspec": {
      "name": "python3",
      "display_name": "Python 3"
    },
    "language_info": {
      "name": "python"
    }
  },
  "cells": [
    {
      "cell_type": "markdown",
      "metadata": {
        "id": "wlqFnNUfpfp8"
      },
      "source": [
        "[Reference](https://medium.com/pragmatic-programmers/pythons-attribute-lookup-2cce02276263)"
      ]
    },
    {
      "cell_type": "code",
      "metadata": {
        "colab": {
          "base_uri": "https://localhost:8080/"
        },
        "id": "p9odlwHtpUJ4",
        "outputId": "042c8a0e-b239-4470-f24b-7b61da6b4ccc"
      },
      "source": [
        "class Car:\n",
        "    num_cars = 0\n",
        "\n",
        "    def __init__(self, plate):\n",
        "        self.plate = plate\n",
        "        self.num_cars += 1\n",
        "\n",
        "\n",
        "delorean = Car('OUTATIME')\n",
        "print(Car.num_cars)"
      ],
      "execution_count": 1,
      "outputs": [
        {
          "output_type": "stream",
          "text": [
            "0\n"
          ],
          "name": "stdout"
        }
      ]
    },
    {
      "cell_type": "code",
      "metadata": {
        "id": "IIr6vQ7LpkDh"
      },
      "source": [
        "def find_attribute(obj, attr):\n",
        "    \"\"\"Mimic `obj.attr` or `getattr(obj, attr)`\"\"\"\n",
        "    # First, look at object\n",
        "    if attr in obj.__dict__:\n",
        "        return obj.__dict__[attr]\n",
        "\n",
        "    # Next look at class\n",
        "    if attr in obj.__class__.__dict__:\n",
        "        return obj.__class__.__dict__[attr]\n",
        "\n",
        "    # Then go up inheritance tree\n",
        "    for cls in obj.__class__.__mro__:\n",
        "        if attr in cls.__dict__:\n",
        "            return cls.__dict__[attr]\n",
        "\n",
        "    # Finally raise an error\n",
        "    raise AttributeError(attr)"
      ],
      "execution_count": 2,
      "outputs": []
    },
    {
      "cell_type": "code",
      "metadata": {
        "colab": {
          "base_uri": "https://localhost:8080/"
        },
        "id": "SK14Kj7tpmJM",
        "outputId": "1e0bb1cd-4e1d-4b75-9561-a7df146b167d"
      },
      "source": [
        "print(delorean.__dict__) "
      ],
      "execution_count": 3,
      "outputs": [
        {
          "output_type": "stream",
          "text": [
            "{'plate': 'OUTATIME', 'num_cars': 1}\n"
          ],
          "name": "stdout"
        }
      ]
    }
  ]
}