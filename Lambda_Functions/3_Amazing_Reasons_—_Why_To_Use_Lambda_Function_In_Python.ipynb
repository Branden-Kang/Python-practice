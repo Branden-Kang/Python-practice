{
  "nbformat": 4,
  "nbformat_minor": 0,
  "metadata": {
    "colab": {
      "provenance": [],
      "authorship_tag": "ABX9TyN5mqOwAZsyicA4Xq1j/m0a"
    },
    "kernelspec": {
      "name": "python3",
      "display_name": "Python 3"
    },
    "language_info": {
      "name": "python"
    }
  },
  "cells": [
    {
      "cell_type": "markdown",
      "source": [
        "[Reference](https://medium.com/@17.rsuraj/3-amazing-reasons-why-to-use-lambda-function-in-python-3d657e5f8817)"
      ],
      "metadata": {
        "id": "aKWp4PSfW_Fn"
      }
    },
    {
      "cell_type": "code",
      "execution_count": 1,
      "metadata": {
        "colab": {
          "base_uri": "https://localhost:8080/"
        },
        "id": "SV5jjmVRW8LS",
        "outputId": "8d5ac2b7-5e82-4c6d-9d8c-6858099bee1d"
      },
      "outputs": [
        {
          "output_type": "execute_result",
          "data": {
            "text/plain": [
              "[('lambda', 1), ('functions', 2), ('are', 3), ('simple', 4)]"
            ]
          },
          "metadata": {},
          "execution_count": 1
        }
      ],
      "source": [
        "my_list = [(\"are\", 3), (\"lambda\", 1), (\"simple\", 4), (\"functions\", 2)]\n",
        "sorted_list = sorted(my_list, key=lambda x: x[1])\n",
        "sorted_list"
      ]
    },
    {
      "cell_type": "code",
      "source": [
        "my_list = [2, 5, 10, 21, 100]"
      ],
      "metadata": {
        "id": "y54hKG9nXC4A"
      },
      "execution_count": 2,
      "outputs": []
    },
    {
      "cell_type": "code",
      "source": [
        "def cube_square_sum(x):\n",
        "  return x**3 + x**2"
      ],
      "metadata": {
        "id": "wTLCpEaTXEKc"
      },
      "execution_count": 3,
      "outputs": []
    },
    {
      "cell_type": "code",
      "source": [
        "# Results of a normal user-defined function\n",
        "result1 = list(map(cube_square_sum, my_list))\n",
        "result1"
      ],
      "metadata": {
        "colab": {
          "base_uri": "https://localhost:8080/"
        },
        "id": "hZZbLafSXE0B",
        "outputId": "66493471-9432-4909-e796-2602e2b21e05"
      },
      "execution_count": 4,
      "outputs": [
        {
          "output_type": "execute_result",
          "data": {
            "text/plain": [
              "[12, 150, 1100, 9702, 1010000]"
            ]
          },
          "metadata": {},
          "execution_count": 4
        }
      ]
    },
    {
      "cell_type": "code",
      "source": [
        "# Results of a lambda function\n",
        "result2 = list(map(lambda x: x**3 + x**2, my_list))\n",
        "result2"
      ],
      "metadata": {
        "colab": {
          "base_uri": "https://localhost:8080/"
        },
        "id": "0XiBQ35dXG-n",
        "outputId": "de8d34e6-0417-40dd-babc-d140dbcef09a"
      },
      "execution_count": 5,
      "outputs": [
        {
          "output_type": "execute_result",
          "data": {
            "text/plain": [
              "[12, 150, 1100, 9702, 1010000]"
            ]
          },
          "metadata": {},
          "execution_count": 5
        }
      ]
    },
    {
      "cell_type": "code",
      "source": [
        "my_list = [887, 569, 971, 1001, 1020, 1015]\n",
        "new_list = list(filter(lambda x: x % 7 == 0, my_list))\n",
        "new_list"
      ],
      "metadata": {
        "colab": {
          "base_uri": "https://localhost:8080/"
        },
        "id": "8BEfZfrLXHGM",
        "outputId": "2a67aac1-68f9-434b-f6a8-c99107b6e3c3"
      },
      "execution_count": 6,
      "outputs": [
        {
          "output_type": "execute_result",
          "data": {
            "text/plain": [
              "[1001, 1015]"
            ]
          },
          "metadata": {},
          "execution_count": 6
        }
      ]
    }
  ]
}
