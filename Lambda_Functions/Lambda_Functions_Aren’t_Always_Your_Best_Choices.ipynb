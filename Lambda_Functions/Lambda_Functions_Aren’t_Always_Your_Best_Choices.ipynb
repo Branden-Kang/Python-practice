{
  "nbformat": 4,
  "nbformat_minor": 0,
  "metadata": {
    "colab": {
      "name": "Lambda Functions Aren’t Always Your Best Choices.ipynb",
      "provenance": [],
      "collapsed_sections": [],
      "authorship_tag": "ABX9TyOR4k2C9tQZkUMBibMzNjfe"
    },
    "kernelspec": {
      "name": "python3",
      "display_name": "Python 3"
    },
    "language_info": {
      "name": "python"
    }
  },
  "cells": [
    {
      "cell_type": "markdown",
      "metadata": {
        "id": "2tSCo0FbZeyC"
      },
      "source": [
        "[Reference](https://medium.com/swlh/lambda-functions-arent-always-your-best-choices-b9bc97dcec75)"
      ]
    },
    {
      "cell_type": "code",
      "metadata": {
        "id": "RfuBcpqtZc8a"
      },
      "source": [
        "# Create a list of tuples for sorting\n",
        "scores = [(95, 98, 99), (94, 97, 93), (95, 92, 93), (100, 95, 98)]"
      ],
      "execution_count": 1,
      "outputs": []
    },
    {
      "cell_type": "code",
      "metadata": {
        "colab": {
          "base_uri": "https://localhost:8080/"
        },
        "id": "Vq1-IR0eZi87",
        "outputId": "21293402-b8d8-4b37-be32-503b3a41a270"
      },
      "source": [
        "# Sort the list with a lambda function\n",
        "# The most tedious\n",
        "sorted(scores, key=lambda x: x[0] + x[1] + x[2])"
      ],
      "execution_count": 2,
      "outputs": [
        {
          "output_type": "execute_result",
          "data": {
            "text/plain": [
              "[(95, 92, 93), (94, 97, 93), (95, 98, 99), (100, 95, 98)]"
            ]
          },
          "metadata": {},
          "execution_count": 2
        }
      ]
    },
    {
      "cell_type": "code",
      "metadata": {
        "colab": {
          "base_uri": "https://localhost:8080/"
        },
        "id": "794iOWe3ZmxT",
        "outputId": "b53fd180-11cd-460f-f7c6-c907291f025b"
      },
      "source": [
        "# Slightly better\n",
        "sorted(scores, key=lambda x: sum(x))"
      ],
      "execution_count": 3,
      "outputs": [
        {
          "output_type": "execute_result",
          "data": {
            "text/plain": [
              "[(95, 92, 93), (94, 97, 93), (95, 98, 99), (100, 95, 98)]"
            ]
          },
          "metadata": {},
          "execution_count": 3
        }
      ]
    },
    {
      "cell_type": "code",
      "metadata": {
        "colab": {
          "base_uri": "https://localhost:8080/"
        },
        "id": "JQW_NumdZm72",
        "outputId": "f09196ad-0597-44df-c8ff-34baaba9da7a"
      },
      "source": [
        "# Best, using sum() directly\n",
        "sorted(scores, key=sum)"
      ],
      "execution_count": 4,
      "outputs": [
        {
          "output_type": "execute_result",
          "data": {
            "text/plain": [
              "[(95, 92, 93), (94, 97, 93), (95, 98, 99), (100, 95, 98)]"
            ]
          },
          "metadata": {},
          "execution_count": 4
        }
      ]
    },
    {
      "cell_type": "code",
      "metadata": {
        "colab": {
          "base_uri": "https://localhost:8080/"
        },
        "id": "JMuNuWkTZpO5",
        "outputId": "8ed4968d-90a4-409f-a14e-a75b156f4a2f"
      },
      "source": [
        "# Find out the team with the member having the highest score\n",
        "# Using lambda\n",
        "max(scores, key=lambda x: max(x))"
      ],
      "execution_count": 5,
      "outputs": [
        {
          "output_type": "execute_result",
          "data": {
            "text/plain": [
              "(100, 95, 98)"
            ]
          },
          "metadata": {},
          "execution_count": 5
        }
      ]
    },
    {
      "cell_type": "code",
      "metadata": {
        "colab": {
          "base_uri": "https://localhost:8080/"
        },
        "id": "iNRU9n7JZw1t",
        "outputId": "1e3af7e9-5fca-49ca-9593-fd01896f2063"
      },
      "source": [
        "# Using built-in directly\n",
        "max(scores, key=max)"
      ],
      "execution_count": 6,
      "outputs": [
        {
          "output_type": "execute_result",
          "data": {
            "text/plain": [
              "(100, 95, 98)"
            ]
          },
          "metadata": {},
          "execution_count": 6
        }
      ]
    },
    {
      "cell_type": "code",
      "metadata": {
        "colab": {
          "base_uri": "https://localhost:8080/"
        },
        "id": "R0QZTB8bZxBg",
        "outputId": "c2c36fc8-1f76-4d5e-e4a7-feac27e10fcb"
      },
      "source": [
        "# Create a list of numbers\n",
        "numbers = [1, 2, 3, 4, 5]\n",
        "\n",
        "# Use the lambda with map()\n",
        "squares0 = list(map(lambda x: x*x, numbers))\n",
        "squares0"
      ],
      "execution_count": 7,
      "outputs": [
        {
          "output_type": "execute_result",
          "data": {
            "text/plain": [
              "[1, 4, 9, 16, 25]"
            ]
          },
          "metadata": {},
          "execution_count": 7
        }
      ]
    },
    {
      "cell_type": "code",
      "metadata": {
        "id": "iqINEQtIZ02r",
        "colab": {
          "base_uri": "https://localhost:8080/"
        },
        "outputId": "d3fadbce-7cec-4df7-9256-52709bc0266e"
      },
      "source": [
        "# Use the list comphrension\n",
        "squares1 = [x*x for x in numbers]\n",
        "squares1"
      ],
      "execution_count": 8,
      "outputs": [
        {
          "output_type": "execute_result",
          "data": {
            "text/plain": [
              "[1, 4, 9, 16, 25]"
            ]
          },
          "metadata": {},
          "execution_count": 8
        }
      ]
    },
    {
      "cell_type": "code",
      "metadata": {
        "id": "anD1xxsuZ3e5",
        "colab": {
          "base_uri": "https://localhost:8080/"
        },
        "outputId": "7c0bec73-c6fc-40a3-87c4-4dc77d00f3c1"
      },
      "source": [
        "# List comprehension with conditional\n",
        "odds_squares = [x*x for x in numbers if x%2]\n",
        "odds_squares"
      ],
      "execution_count": 9,
      "outputs": [
        {
          "output_type": "execute_result",
          "data": {
            "text/plain": [
              "[1, 9, 25]"
            ]
          },
          "metadata": {},
          "execution_count": 9
        }
      ]
    }
  ]
}