{
  "nbformat": 4,
  "nbformat_minor": 0,
  "metadata": {
    "colab": {
      "name": "Lambda Expressions, Map and Filter in Python.ipynb",
      "provenance": [],
      "authorship_tag": "ABX9TyNIyM1WPhQz1MJS+xm1qLtP"
    },
    "kernelspec": {
      "name": "python3",
      "display_name": "Python 3"
    }
  },
  "cells": [
    {
      "cell_type": "markdown",
      "metadata": {
        "id": "c9jcHdrlbpAv",
        "colab_type": "text"
      },
      "source": [
        "[Reference](https://towardsdatascience.com/understanding-the-use-of-lambda-expressions-map-and-filter-in-python-5e03e4b18d09)"
      ]
    },
    {
      "cell_type": "markdown",
      "metadata": {
        "id": "zIZLgNVNb5_F",
        "colab_type": "text"
      },
      "source": [
        "# 1. Lambda"
      ]
    },
    {
      "cell_type": "code",
      "metadata": {
        "id": "3sHAB_5ubnMu",
        "colab_type": "code",
        "colab": {
          "base_uri": "https://localhost:8080/",
          "height": 34
        },
        "outputId": "4fea085b-3b8f-4f2b-d867-b481c64c68db"
      },
      "source": [
        "def twice(x):\n",
        "  return 2*x\n",
        "twice(5) # 10\n",
        "\n",
        "twice = lambda x: 2*x\n",
        "twice(10) #10\n",
        "\n",
        "(lambda x: 2*x )(5) # 10"
      ],
      "execution_count": 2,
      "outputs": [
        {
          "output_type": "execute_result",
          "data": {
            "text/plain": [
              "10"
            ]
          },
          "metadata": {
            "tags": []
          },
          "execution_count": 2
        }
      ]
    },
    {
      "cell_type": "code",
      "metadata": {
        "id": "EsQiqpGSbw8v",
        "colab_type": "code",
        "colab": {
          "base_uri": "https://localhost:8080/",
          "height": 34
        },
        "outputId": "b73928bb-8fc1-4bfd-f09c-8c1e7e45b2d1"
      },
      "source": [
        "def f(x):\n",
        "  return 2*x\n",
        "a = list( map(f,[1,2,3]) )\n",
        "\n",
        "b = []\n",
        "for i in [1,2,3]:\n",
        "  b.append(f(i))\n",
        "\n",
        "a == b #True"
      ],
      "execution_count": 3,
      "outputs": [
        {
          "output_type": "execute_result",
          "data": {
            "text/plain": [
              "True"
            ]
          },
          "metadata": {
            "tags": []
          },
          "execution_count": 3
        }
      ]
    },
    {
      "cell_type": "markdown",
      "metadata": {
        "id": "xDtKxd_EcB1J",
        "colab_type": "text"
      },
      "source": [
        "# 2. Map and filter"
      ]
    },
    {
      "cell_type": "code",
      "metadata": {
        "id": "Pf4A-7kMb_hX",
        "colab_type": "code",
        "colab": {}
      },
      "source": [
        "def triple(a):\n",
        "  return 3*a\n",
        "\n",
        "thrice = lambda x: 3*x\n",
        "\n",
        "these = [triple(i) for i in range(5) ]\n",
        "are = [(lambda x: 3*x)(i) for i in range(5) ]\n",
        "all = [thrice(i) for i in range(5) ]\n",
        "the = map(thrice, range(5))\n",
        "same = map(triple, range(5))"
      ],
      "execution_count": 4,
      "outputs": []
    },
    {
      "cell_type": "code",
      "metadata": {
        "id": "D4MIdCHbcEuE",
        "colab_type": "code",
        "colab": {}
      },
      "source": [
        "some_list = list(range(5))\n",
        "\n",
        "only_evens = filter(lambda x: x%2 == 0, some_list)\n",
        "only_evens_list = [x for x in some_list if x%2==0]\n",
        "\n",
        "# list(only_evens) == only_evens_list"
      ],
      "execution_count": 5,
      "outputs": []
    },
    {
      "cell_type": "code",
      "metadata": {
        "id": "09prxPdecHrP",
        "colab_type": "code",
        "colab": {}
      },
      "source": [
        "import time \n",
        "\n",
        "BIG = 20000000\n",
        "\n",
        "def f(k):\n",
        "    return 2*k\n",
        "\n",
        "def benchmark(function, function_name):\n",
        "    start = time.time()\n",
        "    function()\n",
        "    end = time.time()\n",
        "    print(\"{0} seconds for {1}\".format((end - start), function_name))"
      ],
      "execution_count": 6,
      "outputs": []
    },
    {
      "cell_type": "code",
      "metadata": {
        "id": "wxVbUwpEcKMq",
        "colab_type": "code",
        "colab": {
          "base_uri": "https://localhost:8080/",
          "height": 68
        },
        "outputId": "abf8fe45-90f9-4579-d5fa-8450474169f7"
      },
      "source": [
        "def list_a():\n",
        "    list_a = []\n",
        "    for i in range(BIG):\n",
        "        list_a.append(f(i))\n",
        "        \n",
        "def list_b():\n",
        "    list_b = [f(i) for i in range(BIG)]\n",
        "\n",
        "def list_c():\n",
        "    list_c = map(f, range(BIG))\n",
        "\n",
        "benchmark(list_a, \"list a\")\n",
        "benchmark(list_b, \"list b\")\n",
        "benchmark(list_c, \"list c\")"
      ],
      "execution_count": 7,
      "outputs": [
        {
          "output_type": "stream",
          "text": [
            "4.064668416976929 seconds for list a\n",
            "2.940183401107788 seconds for list b\n",
            "5.9604644775390625e-06 seconds for list c\n"
          ],
          "name": "stdout"
        }
      ]
    }
  ]
}