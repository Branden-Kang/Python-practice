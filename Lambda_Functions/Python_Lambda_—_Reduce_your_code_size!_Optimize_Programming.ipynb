{
  "nbformat": 4,
  "nbformat_minor": 0,
  "metadata": {
    "colab": {
      "provenance": [],
      "authorship_tag": "ABX9TyNJP+lZk+dl4dS5Qrq9oXU5"
    },
    "kernelspec": {
      "name": "python3",
      "display_name": "Python 3"
    },
    "language_info": {
      "name": "python"
    }
  },
  "cells": [
    {
      "cell_type": "markdown",
      "source": [
        "[Reference](https://medium.com/@ayush-thakur02/python-lambda-reduce-your-code-size-optimize-programming-d6797f695939)"
      ],
      "metadata": {
        "id": "tZXnTt6B8N6r"
      }
    },
    {
      "cell_type": "code",
      "execution_count": 1,
      "metadata": {
        "colab": {
          "base_uri": "https://localhost:8080/"
        },
        "id": "vXoP-uw98CFy",
        "outputId": "3d4c6343-de0f-4ba2-d70f-2c0fd750ebbf"
      },
      "outputs": [
        {
          "output_type": "stream",
          "name": "stdout",
          "text": [
            "4\n",
            "25\n",
            "100\n"
          ]
        }
      ],
      "source": [
        "square = lambda x: x**2\n",
        "print(square(2))\n",
        "print(square(5))\n",
        "print(square(10))"
      ]
    },
    {
      "cell_type": "code",
      "source": [
        "numbers = [1, 2, 3, 4, 5]\n",
        "squared_numbers = list(map(lambda x: x**2, numbers))\n",
        "print(squared_numbers)"
      ],
      "metadata": {
        "colab": {
          "base_uri": "https://localhost:8080/"
        },
        "id": "2_5AsLaL8vNW",
        "outputId": "bc129cf6-f78d-406b-962d-4f7ab4c7538f"
      },
      "execution_count": 2,
      "outputs": [
        {
          "output_type": "stream",
          "name": "stdout",
          "text": [
            "[1, 4, 9, 16, 25]\n"
          ]
        }
      ]
    },
    {
      "cell_type": "code",
      "source": [
        "operations = [\n",
        "    lambda x, y: x + y, # addition\n",
        "    lambda x, y: x - y, # subtraction\n",
        "    lambda x, y: x * y, # multiplication\n",
        "    lambda x, y: x / y, # division\n",
        "]\n",
        "\n",
        "for op in operations:\n",
        "    print(op(10, 5))"
      ],
      "metadata": {
        "colab": {
          "base_uri": "https://localhost:8080/"
        },
        "id": "IzjnMG6X8zih",
        "outputId": "6bfc394f-25fb-470f-9431-d981922b2b5f"
      },
      "execution_count": 3,
      "outputs": [
        {
          "output_type": "stream",
          "name": "stdout",
          "text": [
            "15\n",
            "5\n",
            "50\n",
            "2.0\n"
          ]
        }
      ]
    }
  ]
}
