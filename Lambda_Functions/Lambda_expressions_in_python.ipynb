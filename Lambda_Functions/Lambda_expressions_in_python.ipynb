{
  "nbformat": 4,
  "nbformat_minor": 0,
  "metadata": {
    "colab": {
      "name": "Lambda expressions in python.ipynb",
      "provenance": [],
      "authorship_tag": "ABX9TyM7ZfSTZqdkoqSg5lR6mZae"
    },
    "kernelspec": {
      "name": "python3",
      "display_name": "Python 3"
    },
    "language_info": {
      "name": "python"
    }
  },
  "cells": [
    {
      "cell_type": "markdown",
      "metadata": {
        "id": "DS9imlYy3Vih"
      },
      "source": [
        "[Reference](https://medium.com/techsoftware/lambda-expressions-in-python-894fa056d419)"
      ]
    },
    {
      "cell_type": "code",
      "metadata": {
        "colab": {
          "base_uri": "https://localhost:8080/"
        },
        "id": "EeL6tlEGp__O",
        "outputId": "367b4d29-7d01-4ea4-dc17-08d75ba6cd0c"
      },
      "source": [
        "def multiply_pi(number):\n",
        "    return number*3.14\n",
        "\n",
        "my_list = [1,2,3]\n",
        "print(list(map(multiply_pi, my_list)))"
      ],
      "execution_count": 1,
      "outputs": [
        {
          "output_type": "stream",
          "text": [
            "[3.14, 6.28, 9.42]\n"
          ],
          "name": "stdout"
        }
      ]
    },
    {
      "cell_type": "code",
      "metadata": {
        "colab": {
          "base_uri": "https://localhost:8080/"
        },
        "id": "QadKxJ3y3do3",
        "outputId": "71ac9058-0fef-4376-c13d-a4dd4206eb62"
      },
      "source": [
        "my_list = [1,2,3]\n",
        "print(list(map(lambda number:number*3.14, my_list)))"
      ],
      "execution_count": 2,
      "outputs": [
        {
          "output_type": "stream",
          "text": [
            "[3.14, 6.28, 9.42]\n"
          ],
          "name": "stdout"
        }
      ]
    },
    {
      "cell_type": "code",
      "metadata": {
        "colab": {
          "base_uri": "https://localhost:8080/"
        },
        "id": "0hkNI7Mx3kUX",
        "outputId": "88d7da7d-a042-4d7e-eaa5-9366e16fa39f"
      },
      "source": [
        "add_3 = lambda a, b, c : a + b + c\n",
        "print(add_3(5, 6, 2))"
      ],
      "execution_count": 3,
      "outputs": [
        {
          "output_type": "stream",
          "text": [
            "13\n"
          ],
          "name": "stdout"
        }
      ]
    },
    {
      "cell_type": "code",
      "metadata": {
        "colab": {
          "base_uri": "https://localhost:8080/"
        },
        "id": "DRdmwsOQ3psT",
        "outputId": "2f5e2ef6-bbc5-4c53-8a2f-e0a75303329b"
      },
      "source": [
        "def multiply_2pi(pi):\n",
        "    return lambda a : a * pi\n",
        "\n",
        "perimeter = multiply_2pi(2*3.14)\n",
        "print(perimeter(10))\n",
        "print(perimeter(19))\n",
        "print(perimeter(5))"
      ],
      "execution_count": 4,
      "outputs": [
        {
          "output_type": "stream",
          "text": [
            "62.800000000000004\n",
            "119.32000000000001\n",
            "31.400000000000002\n"
          ],
          "name": "stdout"
        }
      ]
    }
  ]
}