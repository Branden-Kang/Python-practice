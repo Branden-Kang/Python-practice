{
  "nbformat": 4,
  "nbformat_minor": 0,
  "metadata": {
    "colab": {
      "name": "Lambda Expressions with Map and Filter Functions in Python.ipynb",
      "provenance": [],
      "authorship_tag": "ABX9TyODT4cUGs0SDw1tmtqZ0whs"
    },
    "kernelspec": {
      "name": "python3",
      "display_name": "Python 3"
    },
    "language_info": {
      "name": "python"
    }
  },
  "cells": [
    {
      "cell_type": "markdown",
      "metadata": {
        "id": "9g3MwI9dThH5"
      },
      "source": [
        "[Reference](https://python.plainenglish.io/lambda-expressions-with-map-and-filter-functions-in-python-42610881e046)"
      ]
    },
    {
      "cell_type": "markdown",
      "metadata": {
        "id": "U1gFan4wTyAk"
      },
      "source": [
        "# Map"
      ]
    },
    {
      "cell_type": "code",
      "metadata": {
        "colab": {
          "base_uri": "https://localhost:8080/"
        },
        "id": "lerg6qmRTAnR",
        "outputId": "37807272-831d-4554-b983-a0a25b96b299"
      },
      "source": [
        "def square(num):\n",
        "    return num**2\n",
        "\n",
        "list_of_numbers = [1,2,3]\n",
        "\n",
        "for i in map(square,list_of_numbers):\n",
        "    print(i)"
      ],
      "execution_count": 1,
      "outputs": [
        {
          "output_type": "stream",
          "text": [
            "1\n",
            "4\n",
            "9\n"
          ],
          "name": "stdout"
        }
      ]
    },
    {
      "cell_type": "markdown",
      "metadata": {
        "id": "SWJxx9iMT0mE"
      },
      "source": [
        "# Filter"
      ]
    },
    {
      "cell_type": "code",
      "metadata": {
        "colab": {
          "base_uri": "https://localhost:8080/"
        },
        "id": "sPqssGSaTvYk",
        "outputId": "8bab15d4-4649-449f-ca70-116ba835dadc"
      },
      "source": [
        "def even_numbers(num):\n",
        "    return num%2 == 0\n",
        "\n",
        "list_of_numbers = [1,2,3]\n",
        "\n",
        "for i in filter(even_numbers,list_of_numbers):\n",
        "    print(i)"
      ],
      "execution_count": 2,
      "outputs": [
        {
          "output_type": "stream",
          "text": [
            "2\n"
          ],
          "name": "stdout"
        }
      ]
    },
    {
      "cell_type": "code",
      "metadata": {
        "colab": {
          "base_uri": "https://localhost:8080/"
        },
        "id": "DIWXsQmgT4bs",
        "outputId": "a290c6ff-2180-4f32-e95f-e6d64d79a660"
      },
      "source": [
        "def square(num): return num**2\n",
        "\n",
        "lambda num: num**2"
      ],
      "execution_count": 3,
      "outputs": [
        {
          "output_type": "execute_result",
          "data": {
            "text/plain": [
              "<function __main__.<lambda>>"
            ]
          },
          "metadata": {
            "tags": []
          },
          "execution_count": 3
        }
      ]
    },
    {
      "cell_type": "code",
      "metadata": {
        "colab": {
          "base_uri": "https://localhost:8080/"
        },
        "id": "Se8_HxuAT8qD",
        "outputId": "d83aa1c7-87a5-4759-ff20-7a34278942fe"
      },
      "source": [
        "list_of_numbers = [1,2,3]\n",
        "\n",
        "for i in map(lambda num: num**2,list_of_numbers):\n",
        "    print(i)"
      ],
      "execution_count": 4,
      "outputs": [
        {
          "output_type": "stream",
          "text": [
            "1\n",
            "4\n",
            "9\n"
          ],
          "name": "stdout"
        }
      ]
    },
    {
      "cell_type": "code",
      "metadata": {
        "colab": {
          "base_uri": "https://localhost:8080/"
        },
        "id": "03qsK-sqT-XL",
        "outputId": "4e06e33e-902e-44ba-8fec-575661622d3b"
      },
      "source": [
        "def even_numbers(num): return num%2 == 0\n",
        "\n",
        "lambda num: num%2 == 0"
      ],
      "execution_count": 5,
      "outputs": [
        {
          "output_type": "execute_result",
          "data": {
            "text/plain": [
              "<function __main__.<lambda>>"
            ]
          },
          "metadata": {
            "tags": []
          },
          "execution_count": 5
        }
      ]
    },
    {
      "cell_type": "code",
      "metadata": {
        "colab": {
          "base_uri": "https://localhost:8080/"
        },
        "id": "MHVzSKp0UABX",
        "outputId": "a5c3a876-e1f6-4ba6-ec88-0231396415b8"
      },
      "source": [
        "list_of_numbers = [1,2,3]\n",
        "\n",
        "for i in filter(lambda num: num%2 == 0,list_of_numbers):\n",
        "    print(i)"
      ],
      "execution_count": 6,
      "outputs": [
        {
          "output_type": "stream",
          "text": [
            "2\n"
          ],
          "name": "stdout"
        }
      ]
    }
  ]
}