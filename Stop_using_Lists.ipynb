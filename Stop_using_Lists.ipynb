{
  "nbformat": 4,
  "nbformat_minor": 0,
  "metadata": {
    "colab": {
      "name": "Stop using Lists.ipynb",
      "provenance": [],
      "authorship_tag": "ABX9TyMC1Tq33IbF7SgUhdAGlynt"
    },
    "kernelspec": {
      "name": "python3",
      "display_name": "Python 3"
    }
  },
  "cells": [
    {
      "cell_type": "markdown",
      "metadata": {
        "id": "YybDw-8w4A1E",
        "colab_type": "text"
      },
      "source": [
        "[Reference](https://medium.com/better-programming/stop-using-lists-for-everything-in-python-46fad15217f4)"
      ]
    },
    {
      "cell_type": "markdown",
      "metadata": {
        "id": "XlRNzViS4FAk",
        "colab_type": "text"
      },
      "source": [
        "# Tuples"
      ]
    },
    {
      "cell_type": "code",
      "metadata": {
        "id": "NoR6q7L_39E1",
        "colab_type": "code",
        "colab": {}
      },
      "source": [
        "# how to define a list\n",
        "num_list = [1,2,3,4]# how to define a tuple\n",
        "num_tuple = (1,2,3,4)# use tuple() to convert\n",
        "num_convert = tuple(num_list)"
      ],
      "execution_count": 1,
      "outputs": []
    },
    {
      "cell_type": "markdown",
      "metadata": {
        "id": "8zxBDo-u4Jjj",
        "colab_type": "text"
      },
      "source": [
        "# Sets"
      ]
    },
    {
      "cell_type": "code",
      "metadata": {
        "id": "gA6rnWiV4D50",
        "colab_type": "code",
        "colab": {}
      },
      "source": [
        "# how to define a list\n",
        "num_list = [1,2,3,4]# how to define a set\n",
        "num_set = {1, 2, 3, 4}# use set() to convert\n",
        "num_convert = set(num_list)"
      ],
      "execution_count": 2,
      "outputs": []
    },
    {
      "cell_type": "code",
      "metadata": {
        "id": "_obTGBtK4Kye",
        "colab_type": "code",
        "colab": {
          "base_uri": "https://localhost:8080/",
          "height": 34
        },
        "outputId": "ac32c79f-3405-4a3d-9d81-84bdc31a22e2"
      },
      "source": [
        "nums = {1,2,3,4,4}\n",
        "print(nums) # 1,2,3,4"
      ],
      "execution_count": 3,
      "outputs": [
        {
          "output_type": "stream",
          "text": [
            "{1, 2, 3, 4}\n"
          ],
          "name": "stdout"
        }
      ]
    }
  ]
}