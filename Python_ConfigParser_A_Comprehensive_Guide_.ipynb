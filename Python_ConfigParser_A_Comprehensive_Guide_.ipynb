{
  "nbformat": 4,
  "nbformat_minor": 0,
  "metadata": {
    "colab": {
      "provenance": [],
      "authorship_tag": "ABX9TyOYeqkoc6RXVLq8gTJCWNVJ"
    },
    "kernelspec": {
      "name": "python3",
      "display_name": "Python 3"
    },
    "language_info": {
      "name": "python"
    }
  },
  "cells": [
    {
      "cell_type": "markdown",
      "source": [
        "[Reference](https://medium.com/@ashikthulungrai7/python-configparser-a-comprehensive-guide-%EF%B8%8F-36331be5244f)"
      ],
      "metadata": {
        "id": "iinL2BAxAnGS"
      }
    },
    {
      "cell_type": "markdown",
      "source": [
        "```\n",
        "[SFTP_SERVER1]      # <------------------ Section\n",
        "host = 10.120.98.12 # <------------------ Items (key-value)\n",
        "port = 22\n",
        "username = tester\n",
        "password = password\n",
        "\n",
        "\n",
        "[SFTP_SERVER2]      # <------------------ Section\n",
        "host = 10.120.98.12 # <------------------ Items (key-value)\n",
        "port = 23\n",
        "username = tester\n",
        "password = password\n",
        "```"
      ],
      "metadata": {
        "id": "RlshWf9-Arfy"
      }
    },
    {
      "cell_type": "code",
      "execution_count": 1,
      "metadata": {
        "id": "NXCJnMCYAexc"
      },
      "outputs": [],
      "source": [
        "import configparser\n",
        "\n",
        "configParser= configparser.ConfigParser() # Creating a configParser object\n",
        "\n",
        "filename= \"tempConfig.ini\"\n",
        "configParser.read(filename)    # Reading the config file\n",
        "\n",
        "Servers= configParser.sections()    # Getting sections from config file\n",
        "print (Servers)                     # Printing the Sections (Servers)\n",
        "\n",
        "Servers= configParser.sections()    # Getting sections from config file\n",
        "host= configParser[Servers[0]]['host']  # Getting item using the key host\n",
        "port= configParser[Servers[0]]['port']  # Getting item using the key port\n",
        "\n",
        "print(f\"Host: {host} port: {port}\")"
      ]
    },
    {
      "cell_type": "code",
      "source": [
        "import configparser\n",
        "\n",
        "class HostConfig:\n",
        "    def __init__(self, configFile):\n",
        "        self.configFile= configFile\n",
        "        self.config= configparser.ConfigParser()\n",
        "\n",
        "    def readConfig(self):\n",
        "        # Reading the config file\n",
        "        self.config.read(self.configFile)\n",
        "\n",
        "    def getServers(self):\n",
        "        # Returning all the sections defined in the config file\n",
        "        return self.config.sections()\n",
        "\n",
        "    def getData(self, host, key):\n",
        "        # Getting the values from the particular section (host)\n",
        "        # by using the key\n",
        "        return self.config[host][key]\n",
        "\n",
        "    def getHostDetails(self, host):\n",
        "        # Getting all the values defined under the given section (host).\n",
        "        # Assuming the keys are known and fixed.\n",
        "        hostdata= self.config[host]\n",
        "        return hostdata['host'],hostdata['port'],hostdata['username'],hostdata['password']\n",
        "\n",
        "        hostConfig= HostConfig('tempConfig.ini')  # creating object of HostConfig\n",
        "hostConfig.readConfig()                   # Reading config file\n",
        "\n",
        "Servers= hostConfig.getServers()       # Getting the list of sections (servers)\n",
        "print(\"Servers: \",Servers)\n",
        "\n",
        "print(\"Server 0 data: \\n\",hostConfig.getHostDetails(Servers[0]))  # Getting items for Section No 0\n",
        "\n",
        "print(\"Server1: Host \",hostConfig.getData(Servers[1], 'host'))  # Getting item for Section No 1\n",
        "print(\"Server1: Port \",hostConfig.getData(Servers[1], 'port'))  # Getting item for Section No 1"
      ],
      "metadata": {
        "id": "NYURw3RVAzMs"
      },
      "execution_count": 2,
      "outputs": []
    }
  ]
}