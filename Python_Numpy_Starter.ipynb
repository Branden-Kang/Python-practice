{
  "nbformat": 4,
  "nbformat_minor": 0,
  "metadata": {
    "colab": {
      "name": "Python- Numpy Starter.ipynb",
      "provenance": [],
      "authorship_tag": "ABX9TyMGeWZe4OlqQmpEwNR0DTLX"
    },
    "kernelspec": {
      "name": "python3",
      "display_name": "Python 3"
    },
    "language_info": {
      "name": "python"
    }
  },
  "cells": [
    {
      "cell_type": "markdown",
      "metadata": {
        "id": "CKFTE5JnYCPw"
      },
      "source": [
        "[Reference](https://saket-shubham16.medium.com/python-numpy-starter-e4922450596c)"
      ]
    },
    {
      "cell_type": "code",
      "metadata": {
        "colab": {
          "base_uri": "https://localhost:8080/"
        },
        "id": "1tryldXFX4oZ",
        "outputId": "928f202c-6b34-4a5b-bbbf-2556342cfed5"
      },
      "source": [
        "from datetime import datetime\n",
        "a = [2,3,4]*100000000\n",
        "b = [2,4,4]*100000000\n",
        "\n",
        "start = datetime.now()\n",
        "c = []\n",
        "for ai,bi in zip(a,b):\n",
        "    c.append(ai+bi)#total time taken\n",
        "print(datetime.now()-start)"
      ],
      "execution_count": 4,
      "outputs": [
        {
          "output_type": "stream",
          "text": [
            "0:01:00.705471\n"
          ],
          "name": "stdout"
        }
      ]
    },
    {
      "cell_type": "code",
      "metadata": {
        "colab": {
          "base_uri": "https://localhost:8080/"
        },
        "id": "5QoTA-6SYKoR",
        "outputId": "7cffc234-a0eb-4403-bc9b-2553bb65703d"
      },
      "source": [
        "from datetime import datetime\n",
        "import numpy as np\n",
        "a = [2,3,4]*100000000\n",
        "b = [2,4,4]*100000000\n",
        "\n",
        "start = datetime.now()\n",
        "a = np.array(a)\n",
        "b = np.array(b)\n",
        "c = a+b#total time taken\n",
        "print(datetime.now()-start)"
      ],
      "execution_count": 5,
      "outputs": [
        {
          "output_type": "stream",
          "text": [
            "0:00:45.350040\n"
          ],
          "name": "stdout"
        }
      ]
    },
    {
      "cell_type": "code",
      "metadata": {
        "colab": {
          "base_uri": "https://localhost:8080/"
        },
        "id": "x7VkGgBHYMUC",
        "outputId": "584e39ee-f93c-4795-815e-203a0aa3e403"
      },
      "source": [
        "import numpy as np\n",
        "\n",
        "a = np.array([1, 2, 3])\n",
        "print(\"Type of the object: {} and shape: {}\".format(type(a),a.shape))\n",
        "print(\"elements in array {} {} {}\".format(a[0], a[1], a[2]))\n",
        "\n",
        "'''Changing values of element in the array'''\n",
        "a[0] = 5\n",
        "print(\"altered array: {}\".format(a))\n",
        "\n",
        "'''2D array'''\n",
        "b = np.array([[1,2,3],[4,5,6]])\n",
        "print(\"shape of the 2d array: {} \".format(b.shape))\n",
        "print(\"{}, {}, {}\".format(b[0, 0], b[0, 1], b[1, 0]))"
      ],
      "execution_count": 6,
      "outputs": [
        {
          "output_type": "stream",
          "text": [
            "Type of the object: <class 'numpy.ndarray'> and shape: (3,)\n",
            "elements in array 1 2 3\n",
            "altered array: [5 2 3]\n",
            "shape of the 2d array: (2, 3) \n",
            "1, 2, 4\n"
          ],
          "name": "stdout"
        }
      ]
    },
    {
      "cell_type": "code",
      "metadata": {
        "colab": {
          "base_uri": "https://localhost:8080/"
        },
        "id": "SHOLSZyfYRjr",
        "outputId": "6294201d-63f7-4daf-ae0c-1699474b480d"
      },
      "source": [
        "\n",
        "import numpy as np\n",
        "\n",
        "# creating matrix from numpy methods\n",
        "ones = np.ones((2,2))\n",
        "print(ones)\n",
        "\n",
        "zeros = np.zeros((2,3))\n",
        "print(zeros)\n",
        "\n",
        "mat = np.full((2,1), 7)\n",
        "print(mat)\n",
        "\n",
        "r_mat = np.random.random((3,3))  #creating random matrix\n",
        "print(r_mat)\n",
        "\n",
        "I = np.eye(3)  #identity matrix\n",
        "print(I)"
      ],
      "execution_count": 7,
      "outputs": [
        {
          "output_type": "stream",
          "text": [
            "[[1. 1.]\n",
            " [1. 1.]]\n",
            "[[0. 0. 0.]\n",
            " [0. 0. 0.]]\n",
            "[[7]\n",
            " [7]]\n",
            "[[0.25872402 0.62601354 0.54690033]\n",
            " [0.5704232  0.73972276 0.16709626]\n",
            " [0.40614933 0.60037777 0.24781404]]\n",
            "[[1. 0. 0.]\n",
            " [0. 1. 0.]\n",
            " [0. 0. 1.]]\n"
          ],
          "name": "stdout"
        }
      ]
    },
    {
      "cell_type": "code",
      "metadata": {
        "colab": {
          "base_uri": "https://localhost:8080/"
        },
        "id": "DyKBbcsuYS6-",
        "outputId": "70aea0cd-1248-4d13-8dc8-0d2ed99f3cdc"
      },
      "source": [
        "import numpy as np\n",
        "\n",
        "np_matrix = np.random.randint(low=1,high=100,size=(5,5))\n",
        "print(np_matrix)\n",
        "# to get the first row\n",
        "print(np_matrix[0,:])\n",
        "# to get the first two rows\n",
        "print(np_matrix[0:2,:])\n",
        "# to get the first two rows and 2 columns\n",
        "print(np_matrix[0:2,:2])\n",
        "\n",
        "# to get first element\n",
        "print(np_matrix[0,0])"
      ],
      "execution_count": 8,
      "outputs": [
        {
          "output_type": "stream",
          "text": [
            "[[95 90 19 66 13]\n",
            " [65 56 94 99 15]\n",
            " [65 84 83 17 73]\n",
            " [15 74 45  6  5]\n",
            " [57 44 24 18 93]]\n",
            "[95 90 19 66 13]\n",
            "[[95 90 19 66 13]\n",
            " [65 56 94 99 15]]\n",
            "[[95 90]\n",
            " [65 56]]\n",
            "95\n"
          ],
          "name": "stdout"
        }
      ]
    },
    {
      "cell_type": "code",
      "metadata": {
        "colab": {
          "base_uri": "https://localhost:8080/"
        },
        "id": "0NYdHR8MYUZP",
        "outputId": "9042d474-a4ac-4699-8372-0781973b05bf"
      },
      "source": [
        "import numpy as np\n",
        "\n",
        "x = np.random.randint(low=1,high=10,size=(2,2))\n",
        "y = np.random.randint(low=1,high=10,size=(2,2))\n",
        "\n",
        "\n",
        "print(x + y)\n",
        "print(np.add(x, y))\n",
        "\n",
        "\n",
        "print(x - y)\n",
        "print(np.subtract(x, y))\n",
        "\n",
        "\n",
        "print(x * y)\n",
        "print(np.multiply(x, y))\n",
        "\n",
        "\n",
        "print(x / y)\n",
        "print(np.divide(x, y))\n",
        "\n",
        "\n",
        "print(np.sqrt(x))"
      ],
      "execution_count": 9,
      "outputs": [
        {
          "output_type": "stream",
          "text": [
            "[[13 12]\n",
            " [14 13]]\n",
            "[[13 12]\n",
            " [14 13]]\n",
            "[[ 1 -4]\n",
            " [ 2 -3]]\n",
            "[[ 1 -4]\n",
            " [ 2 -3]]\n",
            "[[42 32]\n",
            " [48 40]]\n",
            "[[42 32]\n",
            " [48 40]]\n",
            "[[1.16666667 0.5       ]\n",
            " [1.33333333 0.625     ]]\n",
            "[[1.16666667 0.5       ]\n",
            " [1.33333333 0.625     ]]\n",
            "[[2.64575131 2.        ]\n",
            " [2.82842712 2.23606798]]\n"
          ],
          "name": "stdout"
        }
      ]
    },
    {
      "cell_type": "code",
      "metadata": {
        "colab": {
          "base_uri": "https://localhost:8080/"
        },
        "id": "TfN3fUq8YVty",
        "outputId": "bb63b329-a741-4fa7-bffc-306733d2e4d6"
      },
      "source": [
        "import numpy as np\n",
        "\n",
        "x = np.random.randint(low=1,high=10,size=(3,5))\n",
        "print(x)\n",
        "y = np.random.randint(low=1,high=10,size=(1,5))\n",
        "print(\"\\n\",y)\n",
        "\n",
        "print(\"\\n\",x+y)"
      ],
      "execution_count": 10,
      "outputs": [
        {
          "output_type": "stream",
          "text": [
            "[[7 7 7 3 8]\n",
            " [6 5 2 7 8]\n",
            " [8 7 7 3 4]]\n",
            "\n",
            " [[4 9 4 6 2]]\n",
            "\n",
            " [[11 16 11  9 10]\n",
            " [10 14  6 13 10]\n",
            " [12 16 11  9  6]]\n"
          ],
          "name": "stdout"
        }
      ]
    },
    {
      "cell_type": "code",
      "metadata": {
        "colab": {
          "base_uri": "https://localhost:8080/"
        },
        "id": "H8ZK_5xVYXB_",
        "outputId": "8e3d5e0e-ae49-4c44-8dd9-c4dee565b5b1"
      },
      "source": [
        "import numpy as np\n",
        "\n",
        "x = np.random.randint(low=1,high=10,size=(2,2))\n",
        "y = np.random.randint(low=1,high=10,size=(2,2))\n",
        "print(x)\n",
        "print(y)\n",
        "z = np.hstack((x,y))\n",
        "print('\\n',z)\n",
        "v = np.vstack((x,y))\n",
        "print('\\n',v)"
      ],
      "execution_count": 11,
      "outputs": [
        {
          "output_type": "stream",
          "text": [
            "[[5 2]\n",
            " [8 3]]\n",
            "[[4 8]\n",
            " [3 2]]\n",
            "\n",
            " [[5 2 4 8]\n",
            " [8 3 3 2]]\n",
            "\n",
            " [[5 2]\n",
            " [8 3]\n",
            " [4 8]\n",
            " [3 2]]\n"
          ],
          "name": "stdout"
        }
      ]
    },
    {
      "cell_type": "code",
      "metadata": {
        "colab": {
          "base_uri": "https://localhost:8080/"
        },
        "id": "HFCo3Bs0YYhU",
        "outputId": "b82f6ee2-1a49-43da-ad37-b14a95cb1bb3"
      },
      "source": [
        "import numpy as np\n",
        "\n",
        "def change_number(x):\n",
        "    return x**2 + 3\n",
        "\n",
        "x = np.random.randint(low=1,high=10,size=(5,5))\n",
        "print(x)\n",
        "z = np.vectorize(change_number)\n",
        "print(\"\\n\",z(x))"
      ],
      "execution_count": 12,
      "outputs": [
        {
          "output_type": "stream",
          "text": [
            "[[4 3 8 5 4]\n",
            " [1 2 6 5 7]\n",
            " [8 9 2 8 4]\n",
            " [2 9 9 6 6]\n",
            " [7 3 6 7 9]]\n",
            "\n",
            " [[19 12 67 28 19]\n",
            " [ 4  7 39 28 52]\n",
            " [67 84  7 67 19]\n",
            " [ 7 84 84 39 39]\n",
            " [52 12 39 52 84]]\n"
          ],
          "name": "stdout"
        }
      ]
    }
  ]
}