{
  "nbformat": 4,
  "nbformat_minor": 0,
  "metadata": {
    "colab": {
      "provenance": [],
      "authorship_tag": "ABX9TyPPI099DIJdYb1uh2dh1BA3"
    },
    "kernelspec": {
      "name": "python3",
      "display_name": "Python 3"
    },
    "language_info": {
      "name": "python"
    }
  },
  "cells": [
    {
      "cell_type": "markdown",
      "source": [
        "[Reference](https://medium.com/@ceren.bozada/lambda-function-in-python-22ba8be4135c)"
      ],
      "metadata": {
        "id": "LpV1NhKZcOZW"
      }
    },
    {
      "cell_type": "code",
      "execution_count": 1,
      "metadata": {
        "colab": {
          "base_uri": "https://localhost:8080/"
        },
        "id": "ZZ2F2YBxb5a7",
        "outputId": "dc237c47-8542-4c77-910a-5291c145afac"
      },
      "outputs": [
        {
          "output_type": "stream",
          "name": "stdout",
          "text": [
            "20\n"
          ]
        }
      ],
      "source": [
        "double=lambda x:x *2\n",
        "print(double(10))"
      ]
    },
    {
      "cell_type": "code",
      "source": [
        "x= lambda a,b:a*b\n",
        "print(x(10,6))"
      ],
      "metadata": {
        "colab": {
          "base_uri": "https://localhost:8080/"
        },
        "id": "QhZvR0afcRn8",
        "outputId": "4df17dbc-d157-4463-e773-fad3c51da7c9"
      },
      "execution_count": 2,
      "outputs": [
        {
          "output_type": "stream",
          "name": "stdout",
          "text": [
            "60\n"
          ]
        }
      ]
    },
    {
      "cell_type": "code",
      "source": [
        "max=lambda x,y:x if x>y else y\n",
        "print(max(3,2))"
      ],
      "metadata": {
        "colab": {
          "base_uri": "https://localhost:8080/"
        },
        "id": "aPNkr7UqcS_r",
        "outputId": "518e1de2-7634-44eb-c1e0-7e6cc56bdf49"
      },
      "execution_count": 5,
      "outputs": [
        {
          "output_type": "stream",
          "name": "stdout",
          "text": [
            "3\n"
          ]
        }
      ]
    },
    {
      "cell_type": "code",
      "source": [
        "def max(x,y):\n",
        "    if x>y:\n",
        "        return x\n",
        "    else:\n",
        "         return y\n",
        "print(max(3,2))"
      ],
      "metadata": {
        "colab": {
          "base_uri": "https://localhost:8080/"
        },
        "id": "lmHKO5hDcVIB",
        "outputId": "93b339e0-414c-4302-e8d5-26558dfa31f8"
      },
      "execution_count": 4,
      "outputs": [
        {
          "output_type": "stream",
          "name": "stdout",
          "text": [
            "3\n"
          ]
        }
      ]
    },
    {
      "cell_type": "markdown",
      "source": [
        "# filter()\n"
      ],
      "metadata": {
        "id": "Das79285cfUB"
      }
    },
    {
      "cell_type": "code",
      "source": [
        "my_list=[1,2,3,4,5,6,7,8,9,0]\n",
        "new_list=list(filter(lambda x:x %2 == 0,my_list))\n",
        "\n",
        "print(new_list)"
      ],
      "metadata": {
        "colab": {
          "base_uri": "https://localhost:8080/"
        },
        "id": "tRR2JEQYcZEu",
        "outputId": "22d2bcd9-1eac-4d67-d6a2-5df31d7224f5"
      },
      "execution_count": 6,
      "outputs": [
        {
          "output_type": "stream",
          "name": "stdout",
          "text": [
            "[2, 4, 6, 8, 0]\n"
          ]
        }
      ]
    },
    {
      "cell_type": "markdown",
      "source": [
        "# map()\n"
      ],
      "metadata": {
        "id": "eCTV2-2Jcisv"
      }
    },
    {
      "cell_type": "code",
      "source": [
        "car_list=[\"audi\",\"chevrolet\",\"renault\",\"ford\",\"fiat\",\"volkswagen\"]\n",
        "list(filter(lambda x:x.upper(), car_list))\n",
        "\n",
        "print(car_list)"
      ],
      "metadata": {
        "colab": {
          "base_uri": "https://localhost:8080/"
        },
        "id": "kF6UdNyKchfx",
        "outputId": "be25bfc7-1e0a-45dc-e545-d99dfe0d2ddb"
      },
      "execution_count": 10,
      "outputs": [
        {
          "output_type": "stream",
          "name": "stdout",
          "text": [
            "['audi', 'chevrolet', 'renault', 'ford', 'fiat', 'volkswagen']\n"
          ]
        }
      ]
    }
  ]
}