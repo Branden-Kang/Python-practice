{
  "nbformat": 4,
  "nbformat_minor": 0,
  "metadata": {
    "colab": {
      "provenance": [],
      "authorship_tag": "ABX9TyN0LP+KnOnSor9Vkmms5YjK"
    },
    "kernelspec": {
      "name": "python3",
      "display_name": "Python 3"
    },
    "language_info": {
      "name": "python"
    }
  },
  "cells": [
    {
      "cell_type": "markdown",
      "source": [
        "[Reference](https://mobileappcircular.com/python-decorators-how-to-improve-your-codes-functionality-and-readability-503d2ed5e62c)"
      ],
      "metadata": {
        "id": "n_ra_vVWw8mv"
      }
    },
    {
      "cell_type": "code",
      "execution_count": 1,
      "metadata": {
        "colab": {
          "base_uri": "https://localhost:8080/"
        },
        "id": "6XZJB0ZLwvG1",
        "outputId": "1c90e00a-8358-46c7-8e25-862796ac8322"
      },
      "outputs": [
        {
          "output_type": "stream",
          "name": "stdout",
          "text": [
            "Something is happening before the function is called.\n",
            "Hello!\n",
            "Something is happening after the function is called.\n"
          ]
        }
      ],
      "source": [
        "def my_decorator(func):\n",
        "    def wrapper():\n",
        "        print(\"Something is happening before the function is called.\")\n",
        "        func()\n",
        "        print(\"Something is happening after the function is called.\")\n",
        "    return wrapper\n",
        "\n",
        "@my_decorator\n",
        "def say_hello():\n",
        "    print(\"Hello!\")\n",
        "\n",
        "say_hello()"
      ]
    },
    {
      "cell_type": "code",
      "source": [
        "def my_decorator(func):\n",
        "    def wrapper(name):\n",
        "        func()\n",
        "        print(name)\n",
        "    return wrapper\n",
        "\n",
        "@my_decorator\n",
        "def say_hello():\n",
        "    print(\"Hello \", end=\"\")\n",
        "\n",
        "say_hello(\"Sarper\")\n"
      ],
      "metadata": {
        "colab": {
          "base_uri": "https://localhost:8080/"
        },
        "id": "ftJ_l4q0xE_j",
        "outputId": "d0ac2f9e-7e43-4bf3-e2ca-c6dd3c4231a8"
      },
      "execution_count": 2,
      "outputs": [
        {
          "output_type": "stream",
          "name": "stdout",
          "text": [
            "Hello Sarper\n"
          ]
        }
      ]
    },
    {
      "cell_type": "code",
      "source": [
        "class Numbers:\n",
        "    def __init__(self, num):\n",
        "        self.num = num\n",
        "\n",
        "    @staticmethod\n",
        "    def add(a, b):\n",
        "        return a.num + b.num\n",
        "\n",
        "    @staticmethod\n",
        "    def sub(a, b):\n",
        "        return a.num - b.num\n",
        "\n",
        "    @staticmethod\n",
        "    def mul(a, b):\n",
        "        return a.num * b.num\n",
        "\n",
        "    @staticmethod\n",
        "    def div(a, b):\n",
        "        return a.num / b.num\n",
        "\n",
        "a = Numbers(6)\n",
        "b = Numbers(3)\n",
        "print(Numbers.add(a, b))\n",
        "print(Numbers.sub(a, b))\n",
        "print(Numbers.mul(a, b))\n",
        "print(Numbers.div(a, b))"
      ],
      "metadata": {
        "colab": {
          "base_uri": "https://localhost:8080/"
        },
        "id": "CKbuWN75xF_t",
        "outputId": "1df40b59-3843-479f-fe0f-d64757133103"
      },
      "execution_count": 3,
      "outputs": [
        {
          "output_type": "stream",
          "name": "stdout",
          "text": [
            "9\n",
            "3\n",
            "18\n",
            "2.0\n"
          ]
        }
      ]
    },
    {
      "cell_type": "code",
      "source": [
        "class MyClass:\n",
        "    class_variable = 0\n",
        "\n",
        "    @classmethod\n",
        "    def increment(cls):\n",
        "        cls.class_variable += 1\n",
        "\n",
        "MyClass.increment()  # calls the class method\n",
        "print(MyClass.class_variable)  # prints 1"
      ],
      "metadata": {
        "colab": {
          "base_uri": "https://localhost:8080/"
        },
        "id": "VDFLqEhXxHRj",
        "outputId": "d0bceafd-56c9-413c-f6fd-8548d6c6816a"
      },
      "execution_count": 4,
      "outputs": [
        {
          "output_type": "stream",
          "name": "stdout",
          "text": [
            "1\n"
          ]
        }
      ]
    },
    {
      "cell_type": "code",
      "source": [
        "def smart_divide(func):\n",
        "    def wrapper(a, b):\n",
        "        print(f\"{a} divided by {b}\")\n",
        "        if b == 0:\n",
        "            print(\"Can't divide by 0\")\n",
        "\n",
        "        return func(a, b)\n",
        "    return wrapper\n",
        "\n",
        "@smart_divide\n",
        "def divide(a, b):\n",
        "    print(a/b)\n",
        "\n",
        "divide(10, 2)"
      ],
      "metadata": {
        "colab": {
          "base_uri": "https://localhost:8080/"
        },
        "id": "2W7do52OxIh3",
        "outputId": "36bf5e9b-84fd-46c3-9ec9-931b630b9e9e"
      },
      "execution_count": 5,
      "outputs": [
        {
          "output_type": "stream",
          "name": "stdout",
          "text": [
            "10 divided by 2\n",
            "5.0\n"
          ]
        }
      ]
    },
    {
      "cell_type": "code",
      "source": [
        "def class_attribute_decorator(cls):\n",
        "    cls.new_attribute = \"This is a new class attribute.\"\n",
        "    return cls\n",
        "\n",
        "@class_attribute_decorator\n",
        "class MyClass:\n",
        "    pass\n",
        "\n",
        "print(MyClass.new_attribute)"
      ],
      "metadata": {
        "colab": {
          "base_uri": "https://localhost:8080/"
        },
        "id": "NalQU1MFxJ3C",
        "outputId": "7dc49f52-6dd5-41a4-bcfe-40f62aea6d7d"
      },
      "execution_count": 6,
      "outputs": [
        {
          "output_type": "stream",
          "name": "stdout",
          "text": [
            "This is a new class attribute.\n"
          ]
        }
      ]
    },
    {
      "cell_type": "code",
      "source": [
        "def smart_divide(func):\n",
        "    def wrapper(a, b):\n",
        "        print(f\"{a} divided by {b}\")\n",
        "        if b == 0:\n",
        "            print(\"Can't divide by 0\")\n",
        "\n",
        "        return func(a, b)\n",
        "    return wrapper\n",
        "\n",
        "def operation(func):\n",
        "    def wrapper(a, b):\n",
        "        print(\"New Operation\")\n",
        "        return func(a, b)\n",
        "    return wrapper\n",
        "\n",
        "@smart_divide\n",
        "@operation\n",
        "def divide(a, b):\n",
        "    print(a/b)\n",
        "\n",
        "divide(10, 2)"
      ],
      "metadata": {
        "colab": {
          "base_uri": "https://localhost:8080/"
        },
        "id": "_3-51VMVxLAB",
        "outputId": "7fb99c5b-80a1-4203-a732-a465efeab72a"
      },
      "execution_count": 7,
      "outputs": [
        {
          "output_type": "stream",
          "name": "stdout",
          "text": [
            "10 divided by 2\n",
            "New Operation\n",
            "5.0\n"
          ]
        }
      ]
    }
  ]
}