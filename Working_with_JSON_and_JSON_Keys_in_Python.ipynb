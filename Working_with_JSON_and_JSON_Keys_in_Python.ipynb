{
  "nbformat": 4,
  "nbformat_minor": 0,
  "metadata": {
    "colab": {
      "provenance": [],
      "authorship_tag": "ABX9TyM79yP6ev2MzTyZJlytq7Dh"
    },
    "kernelspec": {
      "name": "python3",
      "display_name": "Python 3"
    },
    "language_info": {
      "name": "python"
    }
  },
  "cells": [
    {
      "cell_type": "markdown",
      "source": [
        "[Reference](https://medium.com/@ccpythonprogramming/working-with-json-and-json-keys-in-python-c610e91202ca)"
      ],
      "metadata": {
        "id": "TXpRQfiUXQyK"
      }
    },
    {
      "cell_type": "markdown",
      "source": [
        "# Reading JSON Files"
      ],
      "metadata": {
        "id": "Kj-Bl0WYXlma"
      }
    },
    {
      "cell_type": "code",
      "execution_count": 1,
      "metadata": {
        "id": "1M05_9LnXLBI"
      },
      "outputs": [],
      "source": [
        "import json\n",
        "\n",
        "# Data to be saved as JSON\n",
        "data = {\n",
        "    \"name\": \"Bob\",\n",
        "    \"age\": 25,\n",
        "    \"is_employee\": False,\n",
        "    \"skills\": [\"Java\", \"Spring Boot\", \"DevOps\"],\n",
        "    \"projects\": {\n",
        "        \"current\": \"System Upgrade\",\n",
        "        \"completed\": [\"Automation\", \"Monitoring Setup\"]\n",
        "    }\n",
        "}\n",
        "\n",
        "# Save data to a JSON file\n",
        "with open(\"data.json\", \"w\") as file:\n",
        "    json.dump(data, file, indent=4)"
      ]
    },
    {
      "cell_type": "code",
      "source": [
        "# Open and load the JSON file\n",
        "with open(\"data.json\", \"r\") as file:\n",
        "    data = json.load(file)\n",
        "\n",
        "# Access elements from the loaded data\n",
        "print(f\"Name: {data['name']}\")\n",
        "print(f\"Current Project: {data['projects']['current']}\")"
      ],
      "metadata": {
        "colab": {
          "base_uri": "https://localhost:8080/"
        },
        "id": "udGRkGbpXdKK",
        "outputId": "7b476b51-3115-4110-e685-382b71cd33b7"
      },
      "execution_count": 2,
      "outputs": [
        {
          "output_type": "stream",
          "name": "stdout",
          "text": [
            "Name: Bob\n",
            "Current Project: System Upgrade\n"
          ]
        }
      ]
    },
    {
      "cell_type": "markdown",
      "source": [
        "# Writing JSON Files"
      ],
      "metadata": {
        "id": "RmHyB-7CXsH9"
      }
    },
    {
      "cell_type": "code",
      "source": [
        "import json\n",
        "\n",
        "# Data to be saved as JSON\n",
        "data = {\n",
        "    \"name\": \"Bob\",\n",
        "    \"age\": 25,\n",
        "    \"is_employee\": False,\n",
        "    \"skills\": [\"Java\", \"Spring Boot\", \"DevOps\"],\n",
        "    \"projects\": {\n",
        "        \"current\": \"System Upgrade\",\n",
        "        \"completed\": [\"Automation\", \"Monitoring Setup\"]\n",
        "    }\n",
        "}\n",
        "\n",
        "# Save data to a JSON file\n",
        "with open(\"new_data.json\", \"w\") as file:\n",
        "    json.dump(data, file, indent=4)\n",
        "\n",
        "print(\"Data saved to new_data.json\")"
      ],
      "metadata": {
        "colab": {
          "base_uri": "https://localhost:8080/"
        },
        "id": "lMW_dTfRXpod",
        "outputId": "136395d7-2f12-4a28-b37f-f2e7eaf522d2"
      },
      "execution_count": 3,
      "outputs": [
        {
          "output_type": "stream",
          "name": "stdout",
          "text": [
            "Data saved to new_data.json\n"
          ]
        }
      ]
    },
    {
      "cell_type": "markdown",
      "source": [
        "# Working with Nested JSON"
      ],
      "metadata": {
        "id": "w7Ic8dNwXyih"
      }
    },
    {
      "cell_type": "code",
      "source": [
        "import json\n",
        "\n",
        "# Data to be saved as JSON\n",
        "data = {\n",
        "    \"name\": \"Alice\",\n",
        "    \"age\": 30,\n",
        "    \"is_employee\": True,\n",
        "    \"skills\": [\"Python\", \"Data Analysis\", \"Machine Learning\"],\n",
        "    \"projects\": {\n",
        "        \"current\": \"Data Migration\",\n",
        "        \"completed\": [\"API Development\", \"Web Scraping\"],\n",
        "        \"details\": {\n",
        "            \"API Development\": {\n",
        "                \"duration\": \"3 months\",\n",
        "                \"team_size\": 5\n",
        "            },\n",
        "            \"Web Scraping\": {\n",
        "                \"duration\": \"1 month\",\n",
        "                \"team_size\": 3\n",
        "            }\n",
        "        }\n",
        "    }\n",
        "}\n",
        "\n",
        "# Save data to a JSON file\n",
        "with open(\"data.json\", \"w\") as file:\n",
        "    json.dump(data, file, indent=4)"
      ],
      "metadata": {
        "id": "1uzSigULXwhl"
      },
      "execution_count": 4,
      "outputs": []
    },
    {
      "cell_type": "code",
      "source": [
        "# Load the updated JSON file\n",
        "with open(\"data.json\", \"r\") as file:\n",
        "    data = json.load(file)\n",
        "\n",
        "# Access nested data\n",
        "api_details = data[\"projects\"][\"details\"][\"API Development\"]\n",
        "print(f\"API Development Duration: {api_details['duration']}\")\n",
        "print(f\"Team Size: {api_details['team_size']}\")"
      ],
      "metadata": {
        "colab": {
          "base_uri": "https://localhost:8080/"
        },
        "id": "-csno0sNX8TQ",
        "outputId": "3681aa2c-6075-4193-dc93-29325f3b5ced"
      },
      "execution_count": 5,
      "outputs": [
        {
          "output_type": "stream",
          "name": "stdout",
          "text": [
            "API Development Duration: 3 months\n",
            "Team Size: 5\n"
          ]
        }
      ]
    },
    {
      "cell_type": "markdown",
      "source": [
        "# Converting JSON Strings to Python Objects"
      ],
      "metadata": {
        "id": "c9r0yWqQYFdv"
      }
    },
    {
      "cell_type": "code",
      "source": [
        "import json\n",
        "\n",
        "# JSON string\n",
        "json_string = '{\"name\": \"Charlie\", \"age\": 35, \"skills\": [\"C++\", \"Rust\"]}'\n",
        "\n",
        "# Convert string to Python object\n",
        "python_data = json.loads(json_string)\n",
        "print(f\"Name: {python_data['name']}\")\n",
        "\n",
        "# Convert Python object to JSON string\n",
        "json_output = json.dumps(python_data, indent=2)\n",
        "print(json_output)"
      ],
      "metadata": {
        "colab": {
          "base_uri": "https://localhost:8080/"
        },
        "id": "eYOl1nX9YC_i",
        "outputId": "3301b8fb-7ead-4d1e-a051-62ef3736fd76"
      },
      "execution_count": 6,
      "outputs": [
        {
          "output_type": "stream",
          "name": "stdout",
          "text": [
            "Name: Charlie\n",
            "{\n",
            "  \"name\": \"Charlie\",\n",
            "  \"age\": 35,\n",
            "  \"skills\": [\n",
            "    \"C++\",\n",
            "    \"Rust\"\n",
            "  ]\n",
            "}\n"
          ]
        }
      ]
    },
    {
      "cell_type": "markdown",
      "source": [
        "# Accessing Keys"
      ],
      "metadata": {
        "id": "maqRB3bhYIGX"
      }
    },
    {
      "cell_type": "code",
      "source": [
        "import json\n",
        "\n",
        "# Sample JSON\n",
        "json_string = '''\n",
        "{\n",
        "    \"name\": \"Alice\",\n",
        "    \"age\": 30,\n",
        "    \"skills\": [\"Python\", \"Data Analysis\"],\n",
        "    \"projects\": {\n",
        "        \"current\": \"Data Migration\",\n",
        "        \"completed\": [\"API Development\", \"Web Scraping\"]\n",
        "    }\n",
        "}\n",
        "'''\n",
        "\n",
        "# Convert JSON string to Python dictionary\n",
        "data = json.loads(json_string)\n",
        "\n",
        "# Access keys\n",
        "print(data[\"name\"])  # Output: Alice\n",
        "print(data[\"projects\"][\"current\"])  # Output: Data Migration"
      ],
      "metadata": {
        "colab": {
          "base_uri": "https://localhost:8080/"
        },
        "id": "3jxK-jomYHEQ",
        "outputId": "10caddb1-461a-4cb5-f789-040deaa73f1a"
      },
      "execution_count": 7,
      "outputs": [
        {
          "output_type": "stream",
          "name": "stdout",
          "text": [
            "Alice\n",
            "Data Migration\n"
          ]
        }
      ]
    },
    {
      "cell_type": "markdown",
      "source": [
        "# Iterating Over Keys"
      ],
      "metadata": {
        "id": "Ezjbx8B7YQYc"
      }
    },
    {
      "cell_type": "code",
      "source": [
        "# Looping through top-level keys\n",
        "for key in data:\n",
        "    print(f\"Key: {key}, Value: {data[key]}\")"
      ],
      "metadata": {
        "colab": {
          "base_uri": "https://localhost:8080/"
        },
        "id": "1WfLoqpiYLdJ",
        "outputId": "d7828f21-f342-4cd6-a862-b7f8e2b21f60"
      },
      "execution_count": 8,
      "outputs": [
        {
          "output_type": "stream",
          "name": "stdout",
          "text": [
            "Key: name, Value: Alice\n",
            "Key: age, Value: 30\n",
            "Key: skills, Value: ['Python', 'Data Analysis']\n",
            "Key: projects, Value: {'current': 'Data Migration', 'completed': ['API Development', 'Web Scraping']}\n"
          ]
        }
      ]
    },
    {
      "cell_type": "markdown",
      "source": [
        "# Checking for Keys"
      ],
      "metadata": {
        "id": "NBO8N5xjYT6d"
      }
    },
    {
      "cell_type": "code",
      "source": [
        "if \"skills\" in data:\n",
        "    print(f\"Skills: {data['skills']}\")\n",
        "else:\n",
        "    print(\"Key 'skills' not found.\")"
      ],
      "metadata": {
        "colab": {
          "base_uri": "https://localhost:8080/"
        },
        "id": "MbQvIgLUYSZ-",
        "outputId": "f9d680aa-0c06-4053-c3db-441aa1f8de82"
      },
      "execution_count": 9,
      "outputs": [
        {
          "output_type": "stream",
          "name": "stdout",
          "text": [
            "Skills: ['Python', 'Data Analysis']\n"
          ]
        }
      ]
    },
    {
      "cell_type": "markdown",
      "source": [
        "# Listing All Keys"
      ],
      "metadata": {
        "id": "2xQpMcstYYLx"
      }
    },
    {
      "cell_type": "code",
      "source": [
        "# Get all keys in the JSON\n",
        "keys = data.keys()\n",
        "print(keys)"
      ],
      "metadata": {
        "colab": {
          "base_uri": "https://localhost:8080/"
        },
        "id": "6drtsyNBYXFw",
        "outputId": "79e076ee-6804-4603-e782-ecb756c61c03"
      },
      "execution_count": 10,
      "outputs": [
        {
          "output_type": "stream",
          "name": "stdout",
          "text": [
            "dict_keys(['name', 'age', 'skills', 'projects'])\n"
          ]
        }
      ]
    },
    {
      "cell_type": "code",
      "source": [
        "nested_keys = data[\"projects\"].keys()\n",
        "print(nested_keys)  # Output: dict_keys(['current', 'completed'])"
      ],
      "metadata": {
        "colab": {
          "base_uri": "https://localhost:8080/"
        },
        "id": "5hOgcUbNYcJp",
        "outputId": "767c7b9b-8dd6-42ea-b289-df74e84d6385"
      },
      "execution_count": 11,
      "outputs": [
        {
          "output_type": "stream",
          "name": "stdout",
          "text": [
            "dict_keys(['current', 'completed'])\n"
          ]
        }
      ]
    },
    {
      "cell_type": "markdown",
      "source": [
        "# Adding or Removing Keys"
      ],
      "metadata": {
        "id": "vg2JZ97zYeGH"
      }
    },
    {
      "cell_type": "code",
      "source": [
        "data[\"department\"] = \"Data Science\"\n",
        "print(data[\"department\"])"
      ],
      "metadata": {
        "colab": {
          "base_uri": "https://localhost:8080/"
        },
        "id": "2YFmDK9QYdQQ",
        "outputId": "df9d7380-9a1c-4e90-eb12-f475e33ee76f"
      },
      "execution_count": 12,
      "outputs": [
        {
          "output_type": "stream",
          "name": "stdout",
          "text": [
            "Data Science\n"
          ]
        }
      ]
    },
    {
      "cell_type": "code",
      "source": [
        "data[\"department\"] = \"Data Science\"\n",
        "print(data[\"department\"])"
      ],
      "metadata": {
        "colab": {
          "base_uri": "https://localhost:8080/"
        },
        "id": "H5QkVZfrYfxN",
        "outputId": "fd88da8e-afcf-4337-d4d8-8b3508445125"
      },
      "execution_count": 13,
      "outputs": [
        {
          "output_type": "stream",
          "name": "stdout",
          "text": [
            "Data Science\n"
          ]
        }
      ]
    },
    {
      "cell_type": "markdown",
      "source": [
        "# Real-World Use Case: Extracting Keys"
      ],
      "metadata": {
        "id": "uAAsxcO-YjDN"
      }
    },
    {
      "cell_type": "code",
      "source": [
        "def extract_keys(obj, parent_key=\"\"):\n",
        "    keys = []\n",
        "    for key, value in obj.items():\n",
        "        full_key = f\"{parent_key}.{key}\" if parent_key else key\n",
        "        keys.append(full_key)\n",
        "        if isinstance(value, dict):\n",
        "            keys.extend(extract_keys(value, full_key))\n",
        "    return keys\n",
        "\n",
        "# Extract keys\n",
        "all_keys = extract_keys(data)\n",
        "print(all_keys)"
      ],
      "metadata": {
        "colab": {
          "base_uri": "https://localhost:8080/"
        },
        "id": "bXSfaYkAYhx1",
        "outputId": "fffc39bf-6745-408b-a1ae-0ce22579ed1f"
      },
      "execution_count": 14,
      "outputs": [
        {
          "output_type": "stream",
          "name": "stdout",
          "text": [
            "['name', 'age', 'skills', 'projects', 'projects.current', 'projects.completed', 'department']\n"
          ]
        }
      ]
    }
  ]
}