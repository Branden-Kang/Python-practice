{
  "nbformat": 4,
  "nbformat_minor": 0,
  "metadata": {
    "colab": {
      "provenance": [],
      "authorship_tag": "ABX9TyP49Kwfuwkzo3CCuIdIkBYU"
    },
    "kernelspec": {
      "name": "python3",
      "display_name": "Python 3"
    },
    "language_info": {
      "name": "python"
    }
  },
  "cells": [
    {
      "cell_type": "markdown",
      "source": [
        "[Reference](https://ibexorigin.medium.com/have-mercy-on-yourself-and-learn-these-9-everyday-python-f-string-codes-e8104677d7c7)"
      ],
      "metadata": {
        "id": "5r1DGy8VvZr2"
      }
    },
    {
      "cell_type": "code",
      "execution_count": 1,
      "metadata": {
        "colab": {
          "base_uri": "https://localhost:8080/"
        },
        "id": "IPc9sRCzu9Yt",
        "outputId": "0ea2ecc7-c084-4774-f8bf-28acbd4633ce"
      },
      "outputs": [
        {
          "output_type": "stream",
          "name": "stdout",
          "text": [
            "Today is 2023-03-19\n",
            "This is result from a lambda: 9\n"
          ]
        }
      ],
      "source": [
        "from datetime import date\n",
        "\n",
        "print(f\"Today is {date.today()}\")\n",
        "print(f\"This is result from a lambda: {(lambda x: x ** 2)(3)}\")"
      ]
    },
    {
      "cell_type": "code",
      "source": [
        "cheese_puffs = 3.14159265359\n",
        "\n",
        "print(f\"The value of pi is approximately {cheese_puffs:.4f}\")"
      ],
      "metadata": {
        "colab": {
          "base_uri": "https://localhost:8080/"
        },
        "id": "6wAeD0DNvcDD",
        "outputId": "cf5414ff-3cb6-4696-a207-fe9306d1868d"
      },
      "execution_count": 2,
      "outputs": [
        {
          "output_type": "stream",
          "name": "stdout",
          "text": [
            "The value of pi is approximately 3.1416\n"
          ]
        }
      ]
    },
    {
      "cell_type": "markdown",
      "source": [
        "# 1. Left/right/center align — {:(<>^)n}"
      ],
      "metadata": {
        "id": "8xeKKnolvg7E"
      }
    },
    {
      "cell_type": "code",
      "source": [
        "banana = 42\n",
        "\n",
        "print(f\"The answer is {banana:<10}!\")"
      ],
      "metadata": {
        "colab": {
          "base_uri": "https://localhost:8080/"
        },
        "id": "GWB4apNNvfPi",
        "outputId": "53e2329b-4c33-476d-91d2-8446752ef4e8"
      },
      "execution_count": 3,
      "outputs": [
        {
          "output_type": "stream",
          "name": "stdout",
          "text": [
            "The answer is 42        !\n"
          ]
        }
      ]
    },
    {
      "cell_type": "code",
      "source": [
        "hammock = 42\n",
        "\n",
        "print(f\"The answer is {hammock:>10}!\")"
      ],
      "metadata": {
        "colab": {
          "base_uri": "https://localhost:8080/"
        },
        "id": "PqA8vAK2vkL9",
        "outputId": "e5e55149-a96a-4b94-e61e-1d5e74958a2b"
      },
      "execution_count": 4,
      "outputs": [
        {
          "output_type": "stream",
          "name": "stdout",
          "text": [
            "The answer is         42!\n"
          ]
        }
      ]
    },
    {
      "cell_type": "code",
      "source": [
        "bubble_wrap = 42\n",
        "\n",
        "print(f\"The answer is {bubble_wrap:^10}!\")"
      ],
      "metadata": {
        "colab": {
          "base_uri": "https://localhost:8080/"
        },
        "id": "9-8-lGsIvrbJ",
        "outputId": "53cb54ca-9636-4dc0-b405-af805f049605"
      },
      "execution_count": 5,
      "outputs": [
        {
          "output_type": "stream",
          "name": "stdout",
          "text": [
            "The answer is     42    !\n"
          ]
        }
      ]
    },
    {
      "cell_type": "code",
      "source": [
        "bubble_wrap = 42\n",
        "\n",
        "print(f\"The answer is {bubble_wrap:_^10}!\")"
      ],
      "metadata": {
        "colab": {
          "base_uri": "https://localhost:8080/"
        },
        "id": "L_wIAyjcvs-I",
        "outputId": "f0b63743-5be3-4511-880a-c5aa62e77371"
      },
      "execution_count": 6,
      "outputs": [
        {
          "output_type": "stream",
          "name": "stdout",
          "text": [
            "The answer is ____42____!\n"
          ]
        }
      ]
    },
    {
      "cell_type": "markdown",
      "source": [
        "# 2. Sign indicator: {:+}"
      ],
      "metadata": {
        "id": "aO4GuPBOvwoC"
      }
    },
    {
      "cell_type": "code",
      "source": [
        "disco = 10\n",
        "fever = -12\n",
        "\n",
        "print(f\"Positive number: {disco:+}, Negative number: {fever:+}\")"
      ],
      "metadata": {
        "colab": {
          "base_uri": "https://localhost:8080/"
        },
        "id": "NS0OV91RvuBT",
        "outputId": "6ccd8146-4e8f-4dc2-b8d2-1c3b8a05421e"
      },
      "execution_count": 7,
      "outputs": [
        {
          "output_type": "stream",
          "name": "stdout",
          "text": [
            "Positive number: +10, Negative number: -12\n"
          ]
        }
      ]
    },
    {
      "cell_type": "markdown",
      "source": [
        "# 3. Thousands separator: {:,}"
      ],
      "metadata": {
        "id": "6VDy0Yxev5ck"
      }
    },
    {
      "cell_type": "code",
      "source": [
        "fuzzy_logic = 1000000\n",
        "\n",
        "print(f\"A million: {fuzzy_logic:,}\")\n",
        "print(f\"A trillion: {fuzzy_logic ** 2:,}\")"
      ],
      "metadata": {
        "colab": {
          "base_uri": "https://localhost:8080/"
        },
        "id": "bQHX0qh_v4jl",
        "outputId": "5a91061b-f092-408e-cd8a-0892467f4eab"
      },
      "execution_count": 8,
      "outputs": [
        {
          "output_type": "stream",
          "name": "stdout",
          "text": [
            "A million: 1,000,000\n",
            "A trillion: 1,000,000,000,000\n"
          ]
        }
      ]
    },
    {
      "cell_type": "markdown",
      "source": [
        "# 4. Percentage formatting: {:.n%}"
      ],
      "metadata": {
        "id": "Z2NA-L5Tv_5v"
      }
    },
    {
      "cell_type": "code",
      "source": [
        "jumbo_shrimp = 0.4245\n",
        "\n",
        "print(f\"42% of something: {jumbo_shrimp:.0%}\")\n",
        "print(f\"Percentage of something: {jumbo_shrimp:.1%}\")\n",
        "print(f\"Percentage of another thing: {jumbo_shrimp:.2%}\")"
      ],
      "metadata": {
        "colab": {
          "base_uri": "https://localhost:8080/"
        },
        "id": "qhelbuSCv-7i",
        "outputId": "fc575264-a348-4473-f9dd-ec74552d89cc"
      },
      "execution_count": 9,
      "outputs": [
        {
          "output_type": "stream",
          "name": "stdout",
          "text": [
            "42% of something: 42%\n",
            "Percentage of something: 42.4%\n",
            "Percentage of another thing: 42.45%\n"
          ]
        }
      ]
    },
    {
      "cell_type": "markdown",
      "source": [
        "# 5. Scientific notation: {:.ne}"
      ],
      "metadata": {
        "id": "NuvkeCqHwEL3"
      }
    },
    {
      "cell_type": "code",
      "source": [
        "ninja_turtles = 123456789\n",
        "\n",
        "print(f\"Scientific notation: {ninja_turtles:.1e}\")\n",
        "print(f\"Scientific notation: {ninja_turtles:.2e}\")"
      ],
      "metadata": {
        "colab": {
          "base_uri": "https://localhost:8080/"
        },
        "id": "8_O3qFU-wBjo",
        "outputId": "8177f382-6aea-474f-a7e8-81f8590d7702"
      },
      "execution_count": 10,
      "outputs": [
        {
          "output_type": "stream",
          "name": "stdout",
          "text": [
            "Scientific notation: 1.2e+08\n",
            "Scientific notation: 1.23e+08\n"
          ]
        }
      ]
    },
    {
      "cell_type": "markdown",
      "source": [
        "# 6. Printing the value of a variable: {=}"
      ],
      "metadata": {
        "id": "pRsfhH8pwHtI"
      }
    },
    {
      "cell_type": "code",
      "source": [
        "sassy = 1\n",
        "pants = 0\n",
        "\n",
        "print(f\"{sassy=}\")\n",
        "print(f\"{pants = }\")"
      ],
      "metadata": {
        "colab": {
          "base_uri": "https://localhost:8080/"
        },
        "id": "U9lMcJSCwF5P",
        "outputId": "02e53f74-c2c1-45b3-fcb9-6a551af6e109"
      },
      "execution_count": 11,
      "outputs": [
        {
          "output_type": "stream",
          "name": "stdout",
          "text": [
            "sassy=1\n",
            "pants = 0\n"
          ]
        }
      ]
    },
    {
      "cell_type": "markdown",
      "source": [
        "# 7. Pad zeros for integers : {:nd}"
      ],
      "metadata": {
        "id": "epDlOy7CwLbw"
      }
    },
    {
      "cell_type": "code",
      "source": [
        "kangaroo_pouch = 42\n",
        "\n",
        "print(f\"{kangaroo_pouch:01d}\")\n",
        "print(f\"{kangaroo_pouch:02d}\") # Reached the string length of two\n",
        "print(f\"{kangaroo_pouch:03d}\") # Now the 0s will show\n",
        "print(f\"{kangaroo_pouch:04d}\")"
      ],
      "metadata": {
        "colab": {
          "base_uri": "https://localhost:8080/"
        },
        "id": "kIFayLY5wI6n",
        "outputId": "1c29a492-c622-4504-bf04-a7baab334a4c"
      },
      "execution_count": 12,
      "outputs": [
        {
          "output_type": "stream",
          "name": "stdout",
          "text": [
            "42\n",
            "42\n",
            "042\n",
            "0042\n"
          ]
        }
      ]
    },
    {
      "cell_type": "markdown",
      "source": [
        "# 8. Mixing"
      ],
      "metadata": {
        "id": "WM61itZTwQ0T"
      }
    },
    {
      "cell_type": "code",
      "source": [
        "taco_tuesday = 1240000.1235\n",
        "\n",
        "print(f\"{taco_tuesday = :+,.3f}\")"
      ],
      "metadata": {
        "colab": {
          "base_uri": "https://localhost:8080/"
        },
        "id": "OCRn1VgOwPsA",
        "outputId": "31350c73-143f-4b75-f820-d45343c203f3"
      },
      "execution_count": 13,
      "outputs": [
        {
          "output_type": "stream",
          "name": "stdout",
          "text": [
            "taco_tuesday = +1,240,000.123\n"
          ]
        }
      ]
    },
    {
      "cell_type": "code",
      "source": [
        "print(f\"{taco_tuesday = : >+30,.6f}!\")"
      ],
      "metadata": {
        "colab": {
          "base_uri": "https://localhost:8080/"
        },
        "id": "rX0WXSbawRzq",
        "outputId": "67574eef-8a5d-403a-b15b-413c44f4b631"
      },
      "execution_count": 14,
      "outputs": [
        {
          "output_type": "stream",
          "name": "stdout",
          "text": [
            "taco_tuesday =              +1,240,000.123500!\n"
          ]
        }
      ]
    },
    {
      "cell_type": "markdown",
      "source": [
        "# 9. Pretty printing dates"
      ],
      "metadata": {
        "id": "f-yTAvPcwTeg"
      }
    },
    {
      "cell_type": "code",
      "source": [
        "import datetime\n",
        "\n",
        "now = datetime.datetime.now()\n",
        "\n",
        "print(f\"Today is {now:%A, %B %d, %Y}. The time is {now:%I:%M %p}.\")"
      ],
      "metadata": {
        "colab": {
          "base_uri": "https://localhost:8080/"
        },
        "id": "AaagSCYTwSoW",
        "outputId": "3e796481-43a2-4499-868d-d390c838a851"
      },
      "execution_count": 15,
      "outputs": [
        {
          "output_type": "stream",
          "name": "stdout",
          "text": [
            "Today is Sunday, March 19, 2023. The time is 02:44 AM.\n"
          ]
        }
      ]
    }
  ]
}