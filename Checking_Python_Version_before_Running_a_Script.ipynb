{
  "nbformat": 4,
  "nbformat_minor": 0,
  "metadata": {
    "colab": {
      "name": "Checking Python Version before Running a Script.ipynb",
      "provenance": [],
      "authorship_tag": "ABX9TyNwTjApdsomVEgmlk9ZnMc+"
    },
    "kernelspec": {
      "name": "python3",
      "display_name": "Python 3"
    },
    "language_info": {
      "name": "python"
    }
  },
  "cells": [
    {
      "cell_type": "code",
      "metadata": {
        "id": "foMZLmkv18mZ"
      },
      "source": [
        "import sys\n",
        "\n",
        "try:\n",
        "    pythonVersion = sys.version_info[0]\n",
        "    if pythonVersion < 3:\n",
        "        raise Exception\n",
        "except Exception:\n",
        "    sys.exit()"
      ],
      "execution_count": 2,
      "outputs": []
    }
  ]
}