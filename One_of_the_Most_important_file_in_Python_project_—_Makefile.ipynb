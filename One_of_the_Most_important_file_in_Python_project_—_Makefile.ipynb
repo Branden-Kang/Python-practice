{
  "nbformat": 4,
  "nbformat_minor": 0,
  "metadata": {
    "colab": {
      "provenance": [],
      "authorship_tag": "ABX9TyMdwocrJgVfUoJWva1ENFCK"
    },
    "kernelspec": {
      "name": "python3",
      "display_name": "Python 3"
    },
    "language_info": {
      "name": "python"
    }
  },
  "cells": [
    {
      "cell_type": "markdown",
      "source": [
        "[Reference](https://n124080.medium.com/one-of-the-most-important-file-in-python-project-makefile-722e86e1c8ea)"
      ],
      "metadata": {
        "id": "pz7VUAq7XXfx"
      }
    },
    {
      "cell_type": "markdown",
      "source": [
        "```\n",
        "install:\n",
        "\tpip install --upgrade pip &&\\\n",
        "\t\tpip install -r requirements.txt\n",
        "\n",
        "test:\n",
        "\tpython -m pytest -vv test_main.py\n",
        "\n",
        "format:\n",
        "\tblack *.py\n",
        "\n",
        "run:\n",
        "\tpython main.py\n",
        "\n",
        "run-uvicorn:\n",
        "\tuvicorn main:app --reload\n",
        "\n",
        "killweb:\n",
        "\tsudo killall uvicorn\n",
        "\n",
        "lint:\n",
        "\tpylint --disable=R,C main.py\n",
        "\n",
        "all: install lint\n",
        "```"
      ],
      "metadata": {
        "id": "sUirLmkWXZDI"
      }
    }
  ]
}