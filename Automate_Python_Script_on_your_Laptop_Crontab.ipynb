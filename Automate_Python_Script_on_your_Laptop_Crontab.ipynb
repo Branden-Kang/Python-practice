{
  "nbformat": 4,
  "nbformat_minor": 0,
  "metadata": {
    "colab": {
      "name": "Automate Python Script on your Laptop - Crontab.ipynb",
      "provenance": [],
      "authorship_tag": "ABX9TyO7Scea+o5ja4kppQRKwEOn"
    },
    "kernelspec": {
      "name": "python3",
      "display_name": "Python 3"
    },
    "language_info": {
      "name": "python"
    }
  },
  "cells": [
    {
      "cell_type": "markdown",
      "source": [
        "[Reference](https://medium.com/geekculture/automate-python-script-on-your-laptop-94760fe171bb)"
      ],
      "metadata": {
        "id": "xkyIlVOF-XtJ"
      }
    },
    {
      "cell_type": "markdown",
      "source": [
        "![crontab](https://miro.medium.com/max/1400/1*N9QHAaoP3SqDyCuJzWBtIQ.png)"
      ],
      "metadata": {
        "id": "fH_OfTEq-dRs"
      }
    },
    {
      "cell_type": "markdown",
      "source": [
        "# Scheduling Cron in your Mac\n",
        "```\n",
        "crontab -l\n",
        "```\n",
        "List all the crontab schedules for your user\n",
        "\n"
      ],
      "metadata": {
        "id": "mbiLYCqj-g3_"
      }
    },
    {
      "cell_type": "markdown",
      "source": [
        "```\n",
        "crontab -e\n",
        "```\n",
        "Open the vi editor which we’ll use to create our first crontab file"
      ],
      "metadata": {
        "id": "QurrMMpf-rMZ"
      }
    },
    {
      "cell_type": "markdown",
      "source": [
        "after typing in “crontab -e” key in “i” and start creating your first cron job\n",
        "```\n",
        "0 8 * * * cd /Users/Branden/Desktop/FolderName && /Users/Branden/opt/anaconda3/bin/python example.py\n",
        "```"
      ],
      "metadata": {
        "id": "88j7jr97-6yb"
      }
    },
    {
      "cell_type": "markdown",
      "source": [
        "/Users/Branden/opt/anaconda3/bin/python: It is the file path where your python is installed. \n",
        "\n",
        "We can know it via the command below:\n",
        "```\n",
        "whereis python\n",
        "```"
      ],
      "metadata": {
        "id": "CmUnPSpR_KHo"
      }
    }
  ]
}