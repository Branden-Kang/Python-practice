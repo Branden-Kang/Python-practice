{
  "nbformat": 4,
  "nbformat_minor": 0,
  "metadata": {
    "colab": {
      "name": "Writing a GUI Application with Python and Py2App.ipynb",
      "provenance": [],
      "authorship_tag": "ABX9TyOOSW1GHh5ahgW5r5Mk3k5R"
    },
    "kernelspec": {
      "name": "python3",
      "display_name": "Python 3"
    }
  },
  "cells": [
    {
      "cell_type": "markdown",
      "metadata": {
        "id": "7h1duh0zxvIy"
      },
      "source": [
        "[Reference](https://medium.com/swlh/writing-a-gui-application-with-python-and-py2app-748eeb8a10c)"
      ]
    },
    {
      "cell_type": "code",
      "metadata": {
        "id": "BkWZnTSIx0ko"
      },
      "source": [
        "import wx\n",
        "import requests, json\n",
        "import webbrowser\n",
        "\n",
        "class AppWindow(wx.Frame):    \n",
        "    def __init__(self):\n",
        "        super().__init__(parent=None, title='/r/programming', size=(650, 400))\n",
        "        self.panel = wx.Panel(self)\n",
        "        self.Show()\n",
        "        \n",
        "if __name__ == '__main__':\n",
        "    app = wx.App(False)\n",
        "    window = AppWindow()\n",
        "    app.MainLoop()"
      ],
      "execution_count": 8,
      "outputs": []
    }
  ]
}