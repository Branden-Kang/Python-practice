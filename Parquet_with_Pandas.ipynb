{
  "nbformat": 4,
  "nbformat_minor": 0,
  "metadata": {
    "colab": {
      "provenance": [],
      "authorship_tag": "ABX9TyNSk6zfOs8e4mo7G0bip9an"
    },
    "kernelspec": {
      "name": "python3",
      "display_name": "Python 3"
    },
    "language_info": {
      "name": "python"
    }
  },
  "cells": [
    {
      "cell_type": "markdown",
      "source": [
        "[Reference](https://medium.com/munchy-bytes/are-you-using-parquet-with-pandas-in-the-right-way-595c9ee7112)"
      ],
      "metadata": {
        "id": "kAzL4G60KEsx"
      }
    },
    {
      "cell_type": "code",
      "execution_count": 1,
      "metadata": {
        "id": "13qvX1IGKBzh"
      },
      "outputs": [],
      "source": [
        "import pandas as pd\n",
        "import numpy as np\n",
        "\n",
        "parquet_file_path = \"test_data.parquet\"\n",
        "\n",
        "# Number of rows to generate\n",
        "num_rows = 10**8 # 100M\n",
        "\n",
        "# Generate the DataFrame\n",
        "data = {\n",
        "    \"user_id\": np.arange(num_rows),\n",
        "    \"value\": np.random.randint(-10000, 10001, size=num_rows)\n",
        "}\n",
        "df = pd.DataFrame(data)\n",
        "\n",
        "# Write the result to a Parquet file with 20 row groups (5M records per row group)\n",
        "df.to_parquet(parquet_file_path, index=False, row_group_size=5 * 10**6)"
      ]
    },
    {
      "cell_type": "code",
      "source": [
        "import pyarrow.parquet as pq\n",
        "\n",
        "parquet_file = pq.ParquetFile(parquet_file_path)\n",
        "\n",
        "for i in range(parquet_file.metadata.num_row_groups):\n",
        "    user_id_col_stats = parquet_file.metadata.row_group(i).column(0).statistics\n",
        "    print(f\"row group: {i}, num of rows: {user_id_col_stats.num_values}, min: {user_id_col_stats.min}, max: {user_id_col_stats.max}\")"
      ],
      "metadata": {
        "colab": {
          "base_uri": "https://localhost:8080/"
        },
        "id": "Glp0nkPEKIGN",
        "outputId": "b3d67e71-f7d4-4b47-fb2c-872376031482"
      },
      "execution_count": 2,
      "outputs": [
        {
          "output_type": "stream",
          "name": "stdout",
          "text": [
            "row group: 0, num of rows: 5000000, min: 0, max: 4999999\n",
            "row group: 1, num of rows: 5000000, min: 5000000, max: 9999999\n",
            "row group: 2, num of rows: 5000000, min: 10000000, max: 14999999\n",
            "row group: 3, num of rows: 5000000, min: 15000000, max: 19999999\n",
            "row group: 4, num of rows: 5000000, min: 20000000, max: 24999999\n",
            "row group: 5, num of rows: 5000000, min: 25000000, max: 29999999\n",
            "row group: 6, num of rows: 5000000, min: 30000000, max: 34999999\n",
            "row group: 7, num of rows: 5000000, min: 35000000, max: 39999999\n",
            "row group: 8, num of rows: 5000000, min: 40000000, max: 44999999\n",
            "row group: 9, num of rows: 5000000, min: 45000000, max: 49999999\n",
            "row group: 10, num of rows: 5000000, min: 50000000, max: 54999999\n",
            "row group: 11, num of rows: 5000000, min: 55000000, max: 59999999\n",
            "row group: 12, num of rows: 5000000, min: 60000000, max: 64999999\n",
            "row group: 13, num of rows: 5000000, min: 65000000, max: 69999999\n",
            "row group: 14, num of rows: 5000000, min: 70000000, max: 74999999\n",
            "row group: 15, num of rows: 5000000, min: 75000000, max: 79999999\n",
            "row group: 16, num of rows: 5000000, min: 80000000, max: 84999999\n",
            "row group: 17, num of rows: 5000000, min: 85000000, max: 89999999\n",
            "row group: 18, num of rows: 5000000, min: 90000000, max: 94999999\n",
            "row group: 19, num of rows: 5000000, min: 95000000, max: 99999999\n"
          ]
        }
      ]
    },
    {
      "cell_type": "code",
      "source": [
        "%%time\n",
        "\n",
        "pd.read_parquet(parquet_file_path).query(\"user_id == 8767068\")"
      ],
      "metadata": {
        "colab": {
          "base_uri": "https://localhost:8080/",
          "height": 114
        },
        "id": "qY8925TvKJah",
        "outputId": "0be61f7b-b83c-41fd-f9a8-c339e3815769"
      },
      "execution_count": 3,
      "outputs": [
        {
          "output_type": "stream",
          "name": "stdout",
          "text": [
            "CPU times: user 4.34 s, sys: 3.68 s, total: 8.02 s\n",
            "Wall time: 7.71 s\n"
          ]
        },
        {
          "output_type": "execute_result",
          "data": {
            "text/plain": [
              "         user_id  value\n",
              "8767068  8767068  -3617"
            ],
            "text/html": [
              "\n",
              "  <div id=\"df-155bc04f-5d5a-4c27-bad2-b37d14749846\" class=\"colab-df-container\">\n",
              "    <div>\n",
              "<style scoped>\n",
              "    .dataframe tbody tr th:only-of-type {\n",
              "        vertical-align: middle;\n",
              "    }\n",
              "\n",
              "    .dataframe tbody tr th {\n",
              "        vertical-align: top;\n",
              "    }\n",
              "\n",
              "    .dataframe thead th {\n",
              "        text-align: right;\n",
              "    }\n",
              "</style>\n",
              "<table border=\"1\" class=\"dataframe\">\n",
              "  <thead>\n",
              "    <tr style=\"text-align: right;\">\n",
              "      <th></th>\n",
              "      <th>user_id</th>\n",
              "      <th>value</th>\n",
              "    </tr>\n",
              "  </thead>\n",
              "  <tbody>\n",
              "    <tr>\n",
              "      <th>8767068</th>\n",
              "      <td>8767068</td>\n",
              "      <td>-3617</td>\n",
              "    </tr>\n",
              "  </tbody>\n",
              "</table>\n",
              "</div>\n",
              "    <div class=\"colab-df-buttons\">\n",
              "\n",
              "  <div class=\"colab-df-container\">\n",
              "    <button class=\"colab-df-convert\" onclick=\"convertToInteractive('df-155bc04f-5d5a-4c27-bad2-b37d14749846')\"\n",
              "            title=\"Convert this dataframe to an interactive table.\"\n",
              "            style=\"display:none;\">\n",
              "\n",
              "  <svg xmlns=\"http://www.w3.org/2000/svg\" height=\"24px\" viewBox=\"0 -960 960 960\">\n",
              "    <path d=\"M120-120v-720h720v720H120Zm60-500h600v-160H180v160Zm220 220h160v-160H400v160Zm0 220h160v-160H400v160ZM180-400h160v-160H180v160Zm440 0h160v-160H620v160ZM180-180h160v-160H180v160Zm440 0h160v-160H620v160Z\"/>\n",
              "  </svg>\n",
              "    </button>\n",
              "\n",
              "  <style>\n",
              "    .colab-df-container {\n",
              "      display:flex;\n",
              "      gap: 12px;\n",
              "    }\n",
              "\n",
              "    .colab-df-convert {\n",
              "      background-color: #E8F0FE;\n",
              "      border: none;\n",
              "      border-radius: 50%;\n",
              "      cursor: pointer;\n",
              "      display: none;\n",
              "      fill: #1967D2;\n",
              "      height: 32px;\n",
              "      padding: 0 0 0 0;\n",
              "      width: 32px;\n",
              "    }\n",
              "\n",
              "    .colab-df-convert:hover {\n",
              "      background-color: #E2EBFA;\n",
              "      box-shadow: 0px 1px 2px rgba(60, 64, 67, 0.3), 0px 1px 3px 1px rgba(60, 64, 67, 0.15);\n",
              "      fill: #174EA6;\n",
              "    }\n",
              "\n",
              "    .colab-df-buttons div {\n",
              "      margin-bottom: 4px;\n",
              "    }\n",
              "\n",
              "    [theme=dark] .colab-df-convert {\n",
              "      background-color: #3B4455;\n",
              "      fill: #D2E3FC;\n",
              "    }\n",
              "\n",
              "    [theme=dark] .colab-df-convert:hover {\n",
              "      background-color: #434B5C;\n",
              "      box-shadow: 0px 1px 3px 1px rgba(0, 0, 0, 0.15);\n",
              "      filter: drop-shadow(0px 1px 2px rgba(0, 0, 0, 0.3));\n",
              "      fill: #FFFFFF;\n",
              "    }\n",
              "  </style>\n",
              "\n",
              "    <script>\n",
              "      const buttonEl =\n",
              "        document.querySelector('#df-155bc04f-5d5a-4c27-bad2-b37d14749846 button.colab-df-convert');\n",
              "      buttonEl.style.display =\n",
              "        google.colab.kernel.accessAllowed ? 'block' : 'none';\n",
              "\n",
              "      async function convertToInteractive(key) {\n",
              "        const element = document.querySelector('#df-155bc04f-5d5a-4c27-bad2-b37d14749846');\n",
              "        const dataTable =\n",
              "          await google.colab.kernel.invokeFunction('convertToInteractive',\n",
              "                                                    [key], {});\n",
              "        if (!dataTable) return;\n",
              "\n",
              "        const docLinkHtml = 'Like what you see? Visit the ' +\n",
              "          '<a target=\"_blank\" href=https://colab.research.google.com/notebooks/data_table.ipynb>data table notebook</a>'\n",
              "          + ' to learn more about interactive tables.';\n",
              "        element.innerHTML = '';\n",
              "        dataTable['output_type'] = 'display_data';\n",
              "        await google.colab.output.renderOutput(dataTable, element);\n",
              "        const docLink = document.createElement('div');\n",
              "        docLink.innerHTML = docLinkHtml;\n",
              "        element.appendChild(docLink);\n",
              "      }\n",
              "    </script>\n",
              "  </div>\n",
              "\n",
              "    </div>\n",
              "  </div>\n"
            ]
          },
          "metadata": {},
          "execution_count": 3
        }
      ]
    },
    {
      "cell_type": "code",
      "source": [
        "%%time\n",
        "\n",
        "pd.read_parquet(parquet_file_path, filters=[(\"user_id\", \"=\", 8767068)]).to_dict()"
      ],
      "metadata": {
        "colab": {
          "base_uri": "https://localhost:8080/"
        },
        "id": "BI1sbhReKK2H",
        "outputId": "c4286e6c-a1e5-4604-a349-6955ccee1175"
      },
      "execution_count": 4,
      "outputs": [
        {
          "output_type": "stream",
          "name": "stdout",
          "text": [
            "CPU times: user 212 ms, sys: 161 ms, total: 372 ms\n",
            "Wall time: 343 ms\n"
          ]
        },
        {
          "output_type": "execute_result",
          "data": {
            "text/plain": [
              "{'user_id': {0: 8767068}, 'value': {0: -3617}}"
            ]
          },
          "metadata": {},
          "execution_count": 4
        }
      ]
    },
    {
      "cell_type": "code",
      "source": [
        "for i in range(parquet_file.metadata.num_row_groups):\n",
        "    user_id_col_stats = parquet_file.metadata.row_group(i).column(1).statistics\n",
        "    print(f\"row group: {i}, num of rows: {user_id_col_stats.num_values}, min: {user_id_col_stats.min}, max: {user_id_col_stats.max}\")"
      ],
      "metadata": {
        "colab": {
          "base_uri": "https://localhost:8080/"
        },
        "id": "y9TX1yHzKMBw",
        "outputId": "f2eebc91-289d-4eac-a11e-ea287077e73d"
      },
      "execution_count": 5,
      "outputs": [
        {
          "output_type": "stream",
          "name": "stdout",
          "text": [
            "row group: 0, num of rows: 5000000, min: -10000, max: 10000\n",
            "row group: 1, num of rows: 5000000, min: -10000, max: 10000\n",
            "row group: 2, num of rows: 5000000, min: -10000, max: 10000\n",
            "row group: 3, num of rows: 5000000, min: -10000, max: 10000\n",
            "row group: 4, num of rows: 5000000, min: -10000, max: 10000\n",
            "row group: 5, num of rows: 5000000, min: -10000, max: 10000\n",
            "row group: 6, num of rows: 5000000, min: -10000, max: 10000\n",
            "row group: 7, num of rows: 5000000, min: -10000, max: 10000\n",
            "row group: 8, num of rows: 5000000, min: -10000, max: 10000\n",
            "row group: 9, num of rows: 5000000, min: -10000, max: 10000\n",
            "row group: 10, num of rows: 5000000, min: -10000, max: 10000\n",
            "row group: 11, num of rows: 5000000, min: -10000, max: 10000\n",
            "row group: 12, num of rows: 5000000, min: -10000, max: 10000\n",
            "row group: 13, num of rows: 5000000, min: -10000, max: 10000\n",
            "row group: 14, num of rows: 5000000, min: -10000, max: 10000\n",
            "row group: 15, num of rows: 5000000, min: -10000, max: 10000\n",
            "row group: 16, num of rows: 5000000, min: -10000, max: 10000\n",
            "row group: 17, num of rows: 5000000, min: -10000, max: 10000\n",
            "row group: 18, num of rows: 5000000, min: -10000, max: 10000\n",
            "row group: 19, num of rows: 5000000, min: -10000, max: 10000\n"
          ]
        }
      ]
    },
    {
      "cell_type": "code",
      "source": [
        "%%time\n",
        "# apply the filter on the dataframe\n",
        "pd.read_parquet(parquet_file_path).query(\"value == 6666\").count().to_dict()\n",
        "\n",
        "%%time\n",
        "# the filter to pyarrow\n",
        "pd.read_parquet(parquet_file_path, filters=[(\"value\", \"=\", 6666)]).count().to_dict()"
      ],
      "metadata": {
        "colab": {
          "base_uri": "https://localhost:8080/"
        },
        "id": "BNw-l1RPKPRm",
        "outputId": "bdd7c313-dc2d-4134-d73b-d4fd40278611"
      },
      "execution_count": 7,
      "outputs": [
        {
          "output_type": "stream",
          "name": "stderr",
          "text": [
            "UsageError: Line magic function `%%time` not found.\n"
          ]
        }
      ]
    },
    {
      "cell_type": "code",
      "source": [
        "parquet_file_path = \"another_test.parquet\"\n",
        "\n",
        "# Set the number of rows for the DataFrame\n",
        "num_rows = 10**8 # 100M\n",
        "\n",
        "# Generate random data for the second column\n",
        "second_column_data = np.random.rand(num_rows)\n",
        "\n",
        "# Create a mask to set 50% of the first column to None\n",
        "mask = np.random.rand(num_rows) < 0.5\n",
        "first_column_data = np.where(mask, None, np.random.rand(num_rows))\n",
        "\n",
        "# Create the DataFrame\n",
        "data = {\"Column1\": first_column_data, \"Column2\": second_column_data}\n",
        "df = pd.DataFrame(data)\n",
        "\n",
        "# Write the result to a Parquet file with 20 row groups (5M records per row group)\n",
        "df.to_parquet(parquet_file_path, index=False, row_group_size=5 * 10**6)"
      ],
      "metadata": {
        "id": "jHkq9ieJKQkm"
      },
      "execution_count": 8,
      "outputs": []
    },
    {
      "cell_type": "code",
      "source": [
        "%%time\n",
        "\n",
        "pd.read_parquet(parquet_file_path).sum().to_dict()"
      ],
      "metadata": {
        "colab": {
          "base_uri": "https://localhost:8080/"
        },
        "id": "AMG66Go0KUAk",
        "outputId": "23b8a672-5cd1-4a84-94be-cb8d03e2cb00"
      },
      "execution_count": 9,
      "outputs": [
        {
          "output_type": "stream",
          "name": "stdout",
          "text": [
            "CPU times: user 3.68 s, sys: 3.7 s, total: 7.38 s\n",
            "Wall time: 5.65 s\n"
          ]
        },
        {
          "output_type": "execute_result",
          "data": {
            "text/plain": [
              "{'Column1': 24993955.54717727, 'Column2': 49998063.70082336}"
            ]
          },
          "metadata": {},
          "execution_count": 9
        }
      ]
    },
    {
      "cell_type": "code",
      "source": [
        "%%time\n",
        "\n",
        "pd.read_parquet(parquet_file_path).dropna(subset=[\"Column1\"]).sum().to_dict()\n"
      ],
      "metadata": {
        "colab": {
          "base_uri": "https://localhost:8080/"
        },
        "id": "sAvsBaVFKVUo",
        "outputId": "e0b43fdb-bd1c-4e8d-be6d-83a7e1d6153a"
      },
      "execution_count": 10,
      "outputs": [
        {
          "output_type": "stream",
          "name": "stdout",
          "text": [
            "CPU times: user 4.48 s, sys: 6.07 s, total: 10.6 s\n",
            "Wall time: 11.2 s\n"
          ]
        },
        {
          "output_type": "execute_result",
          "data": {
            "text/plain": [
              "{'Column1': 24993955.547177102, 'Column2': 24993659.50756679}"
            ]
          },
          "metadata": {},
          "execution_count": 10
        }
      ]
    },
    {
      "cell_type": "code",
      "source": [
        "%%time\n",
        "\n",
        "# Column1 type is DOUBLE, so max value is 2**53\n",
        "pd.read_parquet(parquet_file_path, filters=[(\"Column1\", \"<=\", 2**53)]).sum().to_dict()\n"
      ],
      "metadata": {
        "colab": {
          "base_uri": "https://localhost:8080/"
        },
        "id": "oXKQBXj5KWsO",
        "outputId": "486f0f55-dd59-4f23-b66a-505cef3f5d5c"
      },
      "execution_count": 11,
      "outputs": [
        {
          "output_type": "stream",
          "name": "stdout",
          "text": [
            "CPU times: user 4.66 s, sys: 2.63 s, total: 7.29 s\n",
            "Wall time: 15.3 s\n"
          ]
        },
        {
          "output_type": "execute_result",
          "data": {
            "text/plain": [
              "{'Column1': 24993955.547177102, 'Column2': 24993659.50756679}"
            ]
          },
          "metadata": {},
          "execution_count": 11
        }
      ]
    }
  ]
}