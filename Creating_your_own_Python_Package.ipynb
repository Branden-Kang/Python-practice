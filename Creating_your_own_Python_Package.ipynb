{
  "nbformat": 4,
  "nbformat_minor": 0,
  "metadata": {
    "colab": {
      "name": "Creating your own Python Package.ipynb",
      "provenance": [],
      "authorship_tag": "ABX9TyP/R/YWCiiwY0Feky7AdRbn"
    },
    "kernelspec": {
      "name": "python3",
      "display_name": "Python 3"
    }
  },
  "cells": [
    {
      "cell_type": "markdown",
      "metadata": {
        "id": "vD1mxO4UmQUF"
      },
      "source": [
        "[Reference](https://medium.com/swlh/creating-your-own-python-package-1cc92d186554)"
      ]
    },
    {
      "cell_type": "code",
      "metadata": {
        "id": "7o16xnRjpQSp"
      },
      "source": [
        "import math"
      ],
      "execution_count": 8,
      "outputs": []
    },
    {
      "cell_type": "code",
      "metadata": {
        "id": "FWvAuIdWmJM4",
        "outputId": "f5a51414-eb8a-4b2a-ea1e-15a9403a3de5",
        "colab": {
          "base_uri": "https://localhost:8080/"
        }
      },
      "source": [
        "# Defining the class 'shirts'\n",
        "\n",
        "class shirts:\n",
        "    \n",
        "    # Initializing the attributes of the class\n",
        "    \n",
        "    def __init__(self,color,size,price):\n",
        "        self.color = color\n",
        "        self.size = size\n",
        "        self.price = price\n",
        "    \n",
        "    # Defining the methods\n",
        "    \n",
        "    def change_color(self, new_color):\n",
        "        self.color = new_color\n",
        "    \n",
        "    def change_size(self, new_size):\n",
        "        self.size = new_size\n",
        "    \n",
        "    def double_price(self):\n",
        "        self.price = 2 * self.price\n",
        "    \n",
        "# Creating an object 'shirt1'\n",
        "\n",
        "shirt1 = shirts('red',32,500)\n",
        "\n",
        "# Printing the attributes of 'shirt1'\n",
        "\n",
        "print(shirt1.color)\n",
        "print(shirt1.size)\n",
        "print(shirt1.price)\n",
        "\n",
        "# Performing methods on the object\n",
        "\n",
        "shirt1.change_color('yellow')\n",
        "shirt1.change_size(28)\n",
        "shirt1.double_price()\n",
        "\n",
        "# Printing the new attributes of 'shirt1'\n",
        "\n",
        "print(shirt1.color)\n",
        "print(shirt1.size)\n",
        "print(shirt1.price)"
      ],
      "execution_count": 1,
      "outputs": [
        {
          "output_type": "stream",
          "text": [
            "red\n",
            "32\n",
            "500\n",
            "yellow\n",
            "28\n",
            "1000\n"
          ],
          "name": "stdout"
        }
      ]
    },
    {
      "cell_type": "code",
      "metadata": {
        "id": "HIO1FKZUospr"
      },
      "source": [
        "# Defining the Class guassian\n",
        "\n",
        "class guassian():\n",
        "    \n",
        "    def __init__(self,mean=0,stdev=0):\n",
        "        self.mean = mean\n",
        "        self.stdev = stdev\n",
        "    \n",
        "    # If dataset is passed as parameter rather than the 'mean' and 'stdev',\n",
        "    # we first read the data and then find the 'mean' and 'stdev'.\n",
        "    \n",
        "    def read_text(self,file):\n",
        "        data = []\n",
        "        file1 = open(file,'r')\n",
        "\n",
        "        for x in file1.readlines():\n",
        "            data.append(int(x))\n",
        "        \n",
        "        self.data = data\n",
        "    \n",
        "    # The 'mean' is calculated.\n",
        "    \n",
        "    def calculate_mean(self):\n",
        "        \n",
        "        self.mean = sum(self.data)/len(self.data)\n",
        "        \n",
        "        return self.mean\n",
        "    \n",
        "    # The standard deviation is calculated.\n",
        "    \n",
        "    def calculate_stdev(self,sample=True):\n",
        "        \n",
        "        # note :- \n",
        "        # If 'sample' = True, the dataset belongs to a sample\n",
        "        # If 'sample' = False, the dataset belongs to a population.\n",
        "        \n",
        "        if sample:\n",
        "            n = len(self.data)\n",
        "        else:\n",
        "            n = len(self.data) - 1\n",
        "         \n",
        "        total = 0\n",
        "        for x in self.data:\n",
        "            total = total + ((x-self.mean)**2)\n",
        "        \n",
        "        self.stdev = math.sqrt(total/n)\n",
        "        return self.stdev\n",
        "    \n",
        "    # The Histogram is plotted.\n",
        "    \n",
        "    def plot_histogram(self):\n",
        "        plt.hist(self.data)\n",
        "        plt.title('Histogram')\n",
        "        plt.xlabel('x-axis')\n",
        "        plt.ylabel('y-axis')"
      ],
      "execution_count": 2,
      "outputs": []
    },
    {
      "cell_type": "code",
      "metadata": {
        "id": "oagI_Y-7o2vg",
        "outputId": "89b891a0-eae1-4d3d-c7e4-b0da35054dc0",
        "colab": {
          "base_uri": "https://localhost:8080/"
        }
      },
      "source": [
        "# Defining an object of guassian class with 'mean' = 3 and 'standard deviation' = 5\n",
        "\n",
        "guassian_one = guassian(3,5)\n",
        "\n",
        "# Prints the mean and standard deviation\n",
        "\n",
        "print(guassian_one.mean)\n",
        "print(guassian_one.stdev)"
      ],
      "execution_count": 3,
      "outputs": [
        {
          "output_type": "stream",
          "text": [
            "3\n",
            "5\n"
          ],
          "name": "stdout"
        }
      ]
    },
    {
      "cell_type": "code",
      "metadata": {
        "id": "fmuS68URo5qZ"
      },
      "source": [
        "# Defining an object of guassian class\n",
        "\n",
        "guassian_two = guassian()\n",
        "\n",
        "# Reading the data from text file\n",
        "\n",
        "guassian_two.read_text('sample.txt')\n",
        "\n",
        "# Calculating the mean and standard deviation\n",
        "\n",
        "guassian_two.calculate_mean()\n",
        "guassian_two.calculate_stdev(False)\n",
        "\n",
        "# Plotting the histogram\n",
        "\n",
        "guassian_two.plot_histogram()"
      ],
      "execution_count": 5,
      "outputs": []
    },
    {
      "cell_type": "code",
      "metadata": {
        "id": "QL7wP9IDo9pk"
      },
      "source": [
        "# Defining the Class guassian\n",
        "\n",
        "class guassian():\n",
        "    \n",
        "    def __init__(self,mean=0,stdev=0):\n",
        "        self.mean = mean\n",
        "        self.stdev = stdev\n",
        "    \n",
        "    # If dataset is passed as parameter rather than the 'mean' and 'stdev',\n",
        "    # we first read the data and then find the 'mean' and 'stdev'.\n",
        "    \n",
        "    def read_text(self,file):\n",
        "        data = []\n",
        "        file1 = open(file,'r')\n",
        "\n",
        "        for x in file1.readlines():\n",
        "            data.append(int(x))\n",
        "        \n",
        "        self.data = data\n",
        "    \n",
        "    # The 'mean' is calculated.\n",
        "    \n",
        "    def calculate_mean(self):\n",
        "        \n",
        "        self.mean = sum(self.data)/len(self.data)\n",
        "        \n",
        "        return self.mean\n",
        "    \n",
        "    # The standard deviation is calculated.\n",
        "    \n",
        "    def calculate_stdev(self,sample=True):\n",
        "        \n",
        "        # note :- \n",
        "        # If 'sample' = True, the dataset belongs to a sample\n",
        "        # If 'sample' = False, the dataset belongs to a population.\n",
        "        \n",
        "        if sample:\n",
        "            n = len(self.data)\n",
        "        else:\n",
        "            n = len(self.data) - 1\n",
        "         \n",
        "        total = 0\n",
        "        for x in self.data:\n",
        "            total = total + ((x-self.mean)**2)\n",
        "        \n",
        "        self.stdev = math.sqrt(total/n)\n",
        "        return self.stdev\n",
        "    \n",
        "    # The Histogram is plotted.\n",
        "    \n",
        "    def plot_histogram(self):\n",
        "        plt.hist(self.data)\n",
        "        plt.title('Histogram')\n",
        "        plt.xlabel('x-axis')\n",
        "        plt.ylabel('y-axis')\n",
        "\n",
        "    def __add__(self,other):\n",
        "        result = guassian()\n",
        "        result.mean = self.mean + other.mean\n",
        "        result.stdev = math.sqrt((self.stdev)**2 + (other.stdev)**2)\n",
        "        return result\n",
        "    \n",
        "    def __repr__(self):\n",
        "        return \"mean {}, standard deviation {}\".format(self.mean, self.stdev)"
      ],
      "execution_count": 6,
      "outputs": []
    },
    {
      "cell_type": "code",
      "metadata": {
        "id": "GZ1KiS_0pJle",
        "outputId": "465540ea-9380-4bc4-d0a1-b3ad42957fce",
        "colab": {
          "base_uri": "https://localhost:8080/"
        }
      },
      "source": [
        "# Defining the objects\n",
        "\n",
        "guassian_one = guassian(3,7)\n",
        "guassian_two = guassian(4,8)\n",
        "\n",
        "# __add__ method\n",
        "\n",
        "guassian_three = guassian_one + guassian_two\n",
        "\n",
        "# Printing the mean and standard deviation\n",
        "\n",
        "print(guassian_three.mean)\n",
        "print(guassian_three.stdev)\n",
        "\n",
        "# __repr__ method\n",
        "\n",
        "guassian_three"
      ],
      "execution_count": 9,
      "outputs": [
        {
          "output_type": "stream",
          "text": [
            "7\n",
            "10.63014581273465\n"
          ],
          "name": "stdout"
        },
        {
          "output_type": "execute_result",
          "data": {
            "text/plain": [
              "mean 7, standard deviation 10.63014581273465"
            ]
          },
          "metadata": {
            "tags": []
          },
          "execution_count": 9
        }
      ]
    }
  ]
}