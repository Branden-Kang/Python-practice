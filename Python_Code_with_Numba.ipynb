{
  "nbformat": 4,
  "nbformat_minor": 0,
  "metadata": {
    "colab": {
      "name": "Python Code with Numba.ipynb",
      "provenance": [],
      "authorship_tag": "ABX9TyO1w4qoVkOtllKiLGUC5vWS"
    },
    "kernelspec": {
      "name": "python3",
      "display_name": "Python 3"
    },
    "language_info": {
      "name": "python"
    }
  },
  "cells": [
    {
      "cell_type": "markdown",
      "metadata": {
        "id": "PEdzYdqDP-9V"
      },
      "source": [
        "[Reference](https://medium.com/swlh/python-code-profiling-and-accelerating-your-calculations-with-numba-50d9e5535b08)"
      ]
    },
    {
      "cell_type": "code",
      "metadata": {
        "id": "vnGlS8F1QWMz"
      },
      "source": [
        "import numpy as np"
      ],
      "execution_count": 2,
      "outputs": []
    },
    {
      "cell_type": "code",
      "metadata": {
        "colab": {
          "base_uri": "https://localhost:8080/"
        },
        "id": "5N41ah__PSkM",
        "outputId": "0f7571a1-2694-477d-fede-025ee3060c99"
      },
      "source": [
        "x = np.random.random(size=(256, 12))\n",
        "%timeit x.min(axis=0), x.max(axis=0)"
      ],
      "execution_count": 3,
      "outputs": [
        {
          "output_type": "stream",
          "text": [
            "The slowest run took 4.54 times longer than the fastest. This could mean that an intermediate result is being cached.\n",
            "10000 loops, best of 5: 26.2 µs per loop\n"
          ],
          "name": "stdout"
        }
      ]
    },
    {
      "cell_type": "code",
      "metadata": {
        "colab": {
          "base_uri": "https://localhost:8080/"
        },
        "id": "PIkAW217QSuT",
        "outputId": "710b868b-7ba3-4c35-c076-85892437bfd9"
      },
      "source": [
        "from numba import jit\n",
        " \n",
        "@jit\n",
        "def minmax(x):\n",
        "    \"\"\"np.min(x, axis=0), np.max(x, axis=0) for 2D array but faster\"\"\"\n",
        "    m, n = len(x), len(x[0])\n",
        "    mi, ma = np.empty(n), np.empty(n)\n",
        "    mi[:] = ma[:] = x[0]\n",
        "    for i in range(1, m):\n",
        "        for j in range(n):\n",
        "            if x[i, j]>ma[j]: ma[j] = x[i, j]\n",
        "            elif x[i, j]<mi[j]: mi[j] = x[i, j]\n",
        "    return mi, ma\n",
        " \n",
        "%timeit minmax(x)\n",
        "\n",
        "# make sure the results are the same\n",
        "np.all([minmax(x), (x.min(axis=0), x.max(axis=0))], axis=0)"
      ],
      "execution_count": 4,
      "outputs": [
        {
          "output_type": "stream",
          "text": [
            "The slowest run took 133432.16 times longer than the fastest. This could mean that an intermediate result is being cached.\n",
            "1 loop, best of 5: 4.18 µs per loop\n"
          ],
          "name": "stdout"
        },
        {
          "output_type": "execute_result",
          "data": {
            "text/plain": [
              "array([[ True,  True,  True,  True,  True,  True,  True,  True,  True,\n",
              "         True,  True,  True],\n",
              "       [ True,  True,  True,  True,  True,  True,  True,  True,  True,\n",
              "         True,  True,  True]])"
            ]
          },
          "metadata": {
            "tags": []
          },
          "execution_count": 4
        }
      ]
    }
  ]
}