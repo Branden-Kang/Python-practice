{
  "nbformat": 4,
  "nbformat_minor": 0,
  "metadata": {
    "colab": {
      "name": "pprint in Python.ipynb",
      "provenance": [],
      "authorship_tag": "ABX9TyNwjXkjnJtCHguc3vp3kgJu"
    },
    "kernelspec": {
      "name": "python3",
      "display_name": "Python 3"
    }
  },
  "cells": [
    {
      "cell_type": "markdown",
      "metadata": {
        "id": "zvXnRuxwCznG",
        "colab_type": "text"
      },
      "source": [
        "[Reference](https://medium.com/better-programming/how-to-pretty-print-in-python-9b1d8764d151)"
      ]
    },
    {
      "cell_type": "code",
      "metadata": {
        "id": "NO0mscoACFku",
        "colab_type": "code",
        "colab": {}
      },
      "source": [
        "import pprint"
      ],
      "execution_count": 1,
      "outputs": []
    },
    {
      "cell_type": "code",
      "metadata": {
        "id": "LoU4BoxtCzTr",
        "colab_type": "code",
        "colab": {
          "base_uri": "https://localhost:8080/",
          "height": 51
        },
        "outputId": "b7530c2f-b423-4da4-e7e8-7c6b69eb3902"
      },
      "source": [
        "import pprint\n",
        "pprint.pprint(\"Hello pretty printer\")\n",
        "\n",
        "my_printer = pprint.PrettyPrinter()\n",
        "my_printer.pprint(\"Hello pretty printer\")"
      ],
      "execution_count": 2,
      "outputs": [
        {
          "output_type": "stream",
          "text": [
            "'Hello pretty printer'\n",
            "'Hello pretty printer'\n"
          ],
          "name": "stdout"
        }
      ]
    },
    {
      "cell_type": "code",
      "metadata": {
        "id": "F1EkD2CjC57v",
        "colab_type": "code",
        "colab": {}
      },
      "source": [
        "import pprint\n",
        "coordinates = [\n",
        "   {\n",
        "       \"name\": \"Location 1\",\n",
        "       \"gps\": (29.008966, 111.573724)\n",
        "   },\n",
        "   {\n",
        "       \"name\": \"Location 2\",\n",
        "       \"gps\": (40.1632626, 44.2935926)\n",
        "   },\n",
        "   {\n",
        "       \"name\": \"Location 3\",\n",
        "       \"gps\": (29.476705, 121.869339)\n",
        "   }\n",
        "]"
      ],
      "execution_count": 3,
      "outputs": []
    },
    {
      "cell_type": "code",
      "metadata": {
        "id": "dyQ-7w3CC-rj",
        "colab_type": "code",
        "colab": {
          "base_uri": "https://localhost:8080/",
          "height": 34
        },
        "outputId": "3b6658f4-9f79-439d-c0d4-ba3440e866c8"
      },
      "source": [
        "pprint.pprint(coordinates, depth=1)"
      ],
      "execution_count": 4,
      "outputs": [
        {
          "output_type": "stream",
          "text": [
            "[{...}, {...}, {...}]\n"
          ],
          "name": "stdout"
        }
      ]
    },
    {
      "cell_type": "code",
      "metadata": {
        "id": "KAEmgjynDAKd",
        "colab_type": "code",
        "colab": {
          "base_uri": "https://localhost:8080/",
          "height": 68
        },
        "outputId": "d85558b7-7cec-4cb5-d8ed-9232128d46d1"
      },
      "source": [
        "pprint.pprint(coordinates)"
      ],
      "execution_count": 5,
      "outputs": [
        {
          "output_type": "stream",
          "text": [
            "[{'gps': (29.008966, 111.573724), 'name': 'Location 1'},\n",
            " {'gps': (40.1632626, 44.2935926), 'name': 'Location 2'},\n",
            " {'gps': (29.476705, 121.869339), 'name': 'Location 3'}]\n"
          ],
          "name": "stdout"
        }
      ]
    },
    {
      "cell_type": "code",
      "metadata": {
        "id": "XYCVwJTrDCVp",
        "colab_type": "code",
        "colab": {}
      },
      "source": [
        "import pprint\n",
        "my_printer = pprint.PrettyPrinter(depth=1)\n",
        "\n",
        "coordinates = [\n",
        "   {\n",
        "       \"name\": \"Location 1\",\n",
        "       \"gps\": (29.008966, 111.573724)\n",
        "   },\n",
        "   {\n",
        "       \"name\": \"Location 2\",\n",
        "       \"gps\": (40.1632626, 44.2935926)\n",
        "   },\n",
        "   {\n",
        "       \"name\": \"Location 3\",\n",
        "       \"gps\": (29.476705, 121.869339)\n",
        "   }\n",
        "]"
      ],
      "execution_count": 6,
      "outputs": []
    },
    {
      "cell_type": "code",
      "metadata": {
        "id": "lpRyNmbPDJqO",
        "colab_type": "code",
        "colab": {
          "base_uri": "https://localhost:8080/",
          "height": 34
        },
        "outputId": "e998cc91-0a5d-4960-c9be-3c8ecb25d58a"
      },
      "source": [
        "my_printer.pprint(coordinates)"
      ],
      "execution_count": 7,
      "outputs": [
        {
          "output_type": "stream",
          "text": [
            "[{...}, {...}, {...}]\n"
          ],
          "name": "stdout"
        }
      ]
    },
    {
      "cell_type": "code",
      "metadata": {
        "id": "RsNtFlQyDJ9o",
        "colab_type": "code",
        "colab": {}
      },
      "source": [
        "from pprint import pprint"
      ],
      "execution_count": 8,
      "outputs": []
    },
    {
      "cell_type": "code",
      "metadata": {
        "id": "oCKd-VAjDLIq",
        "colab_type": "code",
        "colab": {
          "base_uri": "https://localhost:8080/",
          "height": 34
        },
        "outputId": "54f17b23-d89f-4c22-d20a-8656502165d2"
      },
      "source": [
        "pprint([(3,5),(7,5),(4,3)])"
      ],
      "execution_count": 9,
      "outputs": [
        {
          "output_type": "stream",
          "text": [
            "[(3, 5), (7, 5), (4, 3)]\n"
          ],
          "name": "stdout"
        }
      ]
    }
  ]
}