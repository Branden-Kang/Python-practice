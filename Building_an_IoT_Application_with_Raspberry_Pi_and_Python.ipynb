{
  "nbformat": 4,
  "nbformat_minor": 0,
  "metadata": {
    "colab": {
      "provenance": [],
      "authorship_tag": "ABX9TyMrD1S0/GyJuZh/QPV0fXxc"
    },
    "kernelspec": {
      "name": "python3",
      "display_name": "Python 3"
    },
    "language_info": {
      "name": "python"
    }
  },
  "cells": [
    {
      "cell_type": "markdown",
      "source": [
        "[Reference](https://webcluesinfo.medium.com/building-an-iot-application-with-raspberry-pi-and-python-efe3ef3e0d6b)"
      ],
      "metadata": {
        "id": "W9tT-exQ98vR"
      }
    },
    {
      "cell_type": "code",
      "execution_count": 2,
      "metadata": {
        "id": "oombVj8894vO"
      },
      "outputs": [],
      "source": [
        "import RPi.GPIO as GPIO\n",
        "import time\n",
        "\n",
        "# Set up GPIO mode\n",
        "GPIO.setmode(GPIO.BCM)\n",
        "\n",
        "# Define pin number\n",
        "sensor_pin = 4\n",
        "GPIO.setup(sensor_pin, GPIO.IN)\n",
        "\n",
        "try:\n",
        "    while True:\n",
        "        # Read sensor data\n",
        "        temperature = GPIO.input(sensor_pin)\n",
        "        print(f'Temperature: {temperature}°C')\n",
        "        time.sleep(1)\n",
        "except KeyboardInterrupt:\n",
        "    GPIO.cleanup()\n",
        "\n",
        "import paho.mqtt.client as mqtt\n",
        "\n",
        "client = mqtt.Client()\n",
        "client.connect(\"mqtt.eclipse.org\", 1883, 60)\n",
        "\n",
        "# Publish data\n",
        "client.publish(\"sensor/temperature\", temperature)"
      ]
    }
  ]
}