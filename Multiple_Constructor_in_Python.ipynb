{
  "nbformat": 4,
  "nbformat_minor": 0,
  "metadata": {
    "colab": {
      "provenance": [],
      "authorship_tag": "ABX9TyPKLJogvOCtSqOEggB3Rk7t"
    },
    "kernelspec": {
      "name": "python3",
      "display_name": "Python 3"
    },
    "language_info": {
      "name": "python"
    }
  },
  "cells": [
    {
      "cell_type": "markdown",
      "source": [
        "[Reference](https://medium.com/@rchandrashekar03/constructor-in-python-e25173604764)"
      ],
      "metadata": {
        "id": "OMecHilT436A"
      }
    },
    {
      "cell_type": "code",
      "execution_count": 1,
      "metadata": {
        "colab": {
          "base_uri": "https://localhost:8080/",
          "height": 249
        },
        "id": "-0KT2w6r40BQ",
        "outputId": "dc313f91-d499-4db4-f070-534e4c91b236"
      },
      "outputs": [
        {
          "output_type": "error",
          "ename": "TypeError",
          "evalue": "ignored",
          "traceback": [
            "\u001b[0;31m---------------------------------------------------------------------------\u001b[0m",
            "\u001b[0;31mTypeError\u001b[0m                                 Traceback (most recent call last)",
            "\u001b[0;32m<ipython-input-1-d1e7a4610d7d>\u001b[0m in \u001b[0;36m<module>\u001b[0;34m\u001b[0m\n\u001b[1;32m      5\u001b[0m         \u001b[0mself\u001b[0m\u001b[0;34m.\u001b[0m\u001b[0mroll_number\u001b[0m \u001b[0;34m=\u001b[0m \u001b[0mroll_number\u001b[0m\u001b[0;34m\u001b[0m\u001b[0;34m\u001b[0m\u001b[0m\n\u001b[1;32m      6\u001b[0m         \u001b[0mself\u001b[0m\u001b[0;34m.\u001b[0m\u001b[0mname\u001b[0m \u001b[0;34m=\u001b[0m \u001b[0mname\u001b[0m\u001b[0;34m\u001b[0m\u001b[0;34m\u001b[0m\u001b[0m\n\u001b[0;32m----> 7\u001b[0;31m \u001b[0mobj\u001b[0m \u001b[0;34m=\u001b[0m \u001b[0mstudent\u001b[0m\u001b[0;34m(\u001b[0m\u001b[0;36m202\u001b[0m\u001b[0;34m)\u001b[0m\u001b[0;34m\u001b[0m\u001b[0;34m\u001b[0m\u001b[0m\n\u001b[0m\u001b[1;32m      8\u001b[0m \u001b[0mprint\u001b[0m\u001b[0;34m(\u001b[0m\u001b[0mobj\u001b[0m\u001b[0;34m)\u001b[0m\u001b[0;34m.\u001b[0m\u001b[0mroll_number\u001b[0m\u001b[0;34m\u001b[0m\u001b[0;34m\u001b[0m\u001b[0m\n",
            "\u001b[0;31mTypeError\u001b[0m: __init__() missing 1 required positional argument: 'name'"
          ]
        }
      ],
      "source": [
        "class student:\n",
        "    def __init__(self, roll_number):\n",
        "        self.roll_number = roll_number\n",
        "    def __init__(self, roll_number, name):\n",
        "        self.roll_number = roll_number\n",
        "        self.name = name\n",
        "obj = student(202)\n",
        "print(obj.roll_number)"
      ]
    },
    {
      "cell_type": "code",
      "source": [
        "class student:\n",
        "    def __init__(self, roll_number):\n",
        "        self.roll_number = roll_number\n",
        "    def __init__(self, roll_number, name):\n",
        "        self.roll_number = roll_number\n",
        "        self.name = name\n",
        "obj = student(202,\"Branden\")\n",
        "print(obj.roll_number,obj.name)"
      ],
      "metadata": {
        "colab": {
          "base_uri": "https://localhost:8080/"
        },
        "id": "B8uDslg25Iwr",
        "outputId": "b765939a-0515-4854-ca2c-277aed908881"
      },
      "execution_count": 2,
      "outputs": [
        {
          "output_type": "stream",
          "name": "stdout",
          "text": [
            "202 Branden\n"
          ]
        }
      ]
    },
    {
      "cell_type": "code",
      "source": [
        "# class student:\n",
        "#     def __init__(self, *args):\n",
        "#         if len(args) == 1:\n",
        "#             self.roll_number == args[0]\n",
        "#         if len(args) == 2:\n",
        "#             self.roll_number == args[0]\n",
        "#             self.name = args[1]\n",
        "\n",
        "# obj1 = student(220)\n",
        "# print(obj1.roll_number)\n",
        "# obj2 = student(121,\"Branden\")\n",
        "# print(obj2.roll_number,obj2.name)"
      ],
      "metadata": {
        "id": "oNFcJHia5SOf"
      },
      "execution_count": 10,
      "outputs": []
    }
  ]
}