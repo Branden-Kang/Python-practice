{
  "nbformat": 4,
  "nbformat_minor": 0,
  "metadata": {
    "colab": {
      "name": "String Functions in Python.ipynb",
      "provenance": [],
      "authorship_tag": "ABX9TyMvQMcKNNq6RIo8RIGqTqCI"
    },
    "kernelspec": {
      "name": "python3",
      "display_name": "Python 3"
    }
  },
  "cells": [
    {
      "cell_type": "code",
      "metadata": {
        "id": "Q45cZBRiBMwN"
      },
      "source": [
        "s = 'this is a sentence.'"
      ],
      "execution_count": 1,
      "outputs": []
    },
    {
      "cell_type": "code",
      "metadata": {
        "id": "rUNgY18dBXAv"
      },
      "source": [
        "s = s[0].upper() + s[1:]"
      ],
      "execution_count": 2,
      "outputs": []
    },
    {
      "cell_type": "code",
      "metadata": {
        "colab": {
          "base_uri": "https://localhost:8080/"
        },
        "id": "Edr-nJ1KBab9",
        "outputId": "73dc59c0-2351-4d88-9e27-49b9e03473ce"
      },
      "source": [
        "print(s)"
      ],
      "execution_count": 3,
      "outputs": [
        {
          "output_type": "stream",
          "text": [
            "This is a sentence.\n"
          ],
          "name": "stdout"
        }
      ]
    },
    {
      "cell_type": "code",
      "metadata": {
        "colab": {
          "base_uri": "https://localhost:8080/",
          "height": 37
        },
        "id": "cAnvHVz5BX5A",
        "outputId": "ef38cddc-92e7-4118-d783-e13ff4e4db8d"
      },
      "source": [
        "s = 'this is a sentence.'\n",
        "s.capitalize()"
      ],
      "execution_count": 6,
      "outputs": [
        {
          "output_type": "execute_result",
          "data": {
            "application/vnd.google.colaboratory.intrinsic+json": {
              "type": "string"
            },
            "text/plain": [
              "'This is a sentence.'"
            ]
          },
          "metadata": {
            "tags": []
          },
          "execution_count": 6
        }
      ]
    },
    {
      "cell_type": "code",
      "metadata": {
        "colab": {
          "base_uri": "https://localhost:8080/"
        },
        "id": "yDE-4xvkBbU_",
        "outputId": "a8b204b6-7acb-40a0-8c80-0651645b20d8"
      },
      "source": [
        "s = 'useful python built-in string functions but few people use'\n",
        "words = s.split(' ')\n",
        "words = [w[0].upper() + w[1:] for w in words]\n",
        "s = ' '.join(words)\n",
        "print(s)"
      ],
      "execution_count": 5,
      "outputs": [
        {
          "output_type": "stream",
          "text": [
            "Useful Python Built-in String Functions But Few People Use\n"
          ],
          "name": "stdout"
        }
      ]
    },
    {
      "cell_type": "code",
      "metadata": {
        "colab": {
          "base_uri": "https://localhost:8080/",
          "height": 37
        },
        "id": "hsQ_2Cx_BgHt",
        "outputId": "633109ba-9bcc-498d-faf4-4a1552c9482b"
      },
      "source": [
        "s = 'useful python built-in string functions but few people use'\n",
        "s.title()"
      ],
      "execution_count": 7,
      "outputs": [
        {
          "output_type": "execute_result",
          "data": {
            "application/vnd.google.colaboratory.intrinsic+json": {
              "type": "string"
            },
            "text/plain": [
              "'Useful Python Built-In String Functions But Few People Use'"
            ]
          },
          "metadata": {
            "tags": []
          },
          "execution_count": 7
        }
      ]
    },
    {
      "cell_type": "code",
      "metadata": {
        "colab": {
          "base_uri": "https://localhost:8080/"
        },
        "id": "LGH8FmvTBj_g",
        "outputId": "0a9b7701-a7be-42d9-f2fd-b0e44d4ac427"
      },
      "source": [
        "s = 'Menu'\n",
        "fixed_len = 20\n",
        "\n",
        "line = int((fixed_len - len(s)) / 2 - 1) * '=' + ' ' + s + ' '\n",
        "line += (fixed_len - len(line)) * '='\n",
        "\n",
        "print(s.center(len(s) + 2).center(fixed_len, '='))"
      ],
      "execution_count": 8,
      "outputs": [
        {
          "output_type": "stream",
          "text": [
            "======= Menu =======\n"
          ],
          "name": "stdout"
        }
      ]
    },
    {
      "cell_type": "code",
      "metadata": {
        "id": "sIXOqhvVBo60"
      },
      "source": [
        "id_list = [\n",
        "    '123',\n",
        "    '45',\n",
        "    '4321',\n",
        "    '51323'\n",
        "]\n",
        "fixed_len = 6"
      ],
      "execution_count": 9,
      "outputs": []
    },
    {
      "cell_type": "code",
      "metadata": {
        "colab": {
          "base_uri": "https://localhost:8080/"
        },
        "id": "YJrFMil_BsIc",
        "outputId": "9f3da418-3b6d-4361-df4d-85832c915790"
      },
      "source": [
        "[(fixed_len - len(id)) * '0' + id for id in id_list]"
      ],
      "execution_count": 10,
      "outputs": [
        {
          "output_type": "execute_result",
          "data": {
            "text/plain": [
              "['000123', '000045', '004321', '051323']"
            ]
          },
          "metadata": {
            "tags": []
          },
          "execution_count": 10
        }
      ]
    },
    {
      "cell_type": "code",
      "metadata": {
        "colab": {
          "base_uri": "https://localhost:8080/"
        },
        "id": "oDyIhQ36BuVa",
        "outputId": "6a8c4720-5547-4881-ed17-0dfe58989ece"
      },
      "source": [
        "[id.zfill(fixed_len) for id in id_list]"
      ],
      "execution_count": 11,
      "outputs": [
        {
          "output_type": "execute_result",
          "data": {
            "text/plain": [
              "['000123', '000045', '004321', '051323']"
            ]
          },
          "metadata": {
            "tags": []
          },
          "execution_count": 11
        }
      ]
    },
    {
      "cell_type": "code",
      "metadata": {
        "id": "5cXlWlvzBwja"
      },
      "source": [
        "s = '1plus1'"
      ],
      "execution_count": 12,
      "outputs": []
    },
    {
      "cell_type": "code",
      "metadata": {
        "colab": {
          "base_uri": "https://localhost:8080/"
        },
        "id": "spKB92JoBx0e",
        "outputId": "d6be5958-7bcd-4d04-dbae-fe85504d4347"
      },
      "source": [
        "import re\n",
        "\n",
        "bool(re.match(r'^[\\dA-Za-z]+$', s))\n",
        "\n",
        "s.isalnum()"
      ],
      "execution_count": 13,
      "outputs": [
        {
          "output_type": "execute_result",
          "data": {
            "text/plain": [
              "True"
            ]
          },
          "metadata": {
            "tags": []
          },
          "execution_count": 13
        }
      ]
    },
    {
      "cell_type": "code",
      "metadata": {
        "colab": {
          "base_uri": "https://localhost:8080/"
        },
        "id": "2sbdr6RMB0XQ",
        "outputId": "14781b9e-23ab-4165-fc30-54cffafe67e0"
      },
      "source": [
        "s = ' \\nChristopher Tao\\t  '\n",
        "\n",
        "print(f'My name is {s}. Thank you for reading.')"
      ],
      "execution_count": 14,
      "outputs": [
        {
          "output_type": "stream",
          "text": [
            "My name is  \n",
            "Christopher Tao\t  . Thank you for reading.\n"
          ],
          "name": "stdout"
        }
      ]
    },
    {
      "cell_type": "code",
      "metadata": {
        "colab": {
          "base_uri": "https://localhost:8080/"
        },
        "id": "EQu5dQBVB3NE",
        "outputId": "1e0030c7-44dc-4a69-ed69-69e33d8d5a60"
      },
      "source": [
        "print(f'My name is {s.strip()}. Thank you for reading.')"
      ],
      "execution_count": 15,
      "outputs": [
        {
          "output_type": "stream",
          "text": [
            "My name is Christopher Tao. Thank you for reading.\n"
          ],
          "name": "stdout"
        }
      ]
    },
    {
      "cell_type": "code",
      "metadata": {
        "id": "sp3cLWnNB5c4"
      },
      "source": [
        "s_in = 'abcdef'\n",
        "s_out = '856741'\n",
        "\n",
        "cipher = str.maketrans(s_in, s_out)"
      ],
      "execution_count": 16,
      "outputs": []
    },
    {
      "cell_type": "code",
      "metadata": {
        "colab": {
          "base_uri": "https://localhost:8080/"
        },
        "id": "eVPashVBB70M",
        "outputId": "71b79870-5760-4d7b-c8c1-087b725b65eb"
      },
      "source": [
        "cipher"
      ],
      "execution_count": 17,
      "outputs": [
        {
          "output_type": "execute_result",
          "data": {
            "text/plain": [
              "{97: 56, 98: 53, 99: 54, 100: 55, 101: 52, 102: 49}"
            ]
          },
          "metadata": {
            "tags": []
          },
          "execution_count": 17
        }
      ]
    },
    {
      "cell_type": "code",
      "metadata": {
        "colab": {
          "base_uri": "https://localhost:8080/",
          "height": 37
        },
        "id": "rzjuQRamDJum",
        "outputId": "c28ae8e5-fc41-49b2-cb48-d336c82e3302"
      },
      "source": [
        "'Christopher Tao'.translate(cipher)"
      ],
      "execution_count": 18,
      "outputs": [
        {
          "output_type": "execute_result",
          "data": {
            "application/vnd.google.colaboratory.intrinsic+json": {
              "type": "string"
            },
            "text/plain": [
              "'Christoph4r T8o'"
            ]
          },
          "metadata": {
            "tags": []
          },
          "execution_count": 18
        }
      ]
    },
    {
      "cell_type": "code",
      "metadata": {
        "colab": {
          "base_uri": "https://localhost:8080/",
          "height": 37
        },
        "id": "batRFufiDL9o",
        "outputId": "299aab74-4955-43d6-9be6-05ac9b201def"
      },
      "source": [
        "'abc'.replace('a', '1').replace('b', '2').replace('c', '3')"
      ],
      "execution_count": 19,
      "outputs": [
        {
          "output_type": "execute_result",
          "data": {
            "application/vnd.google.colaboratory.intrinsic+json": {
              "type": "string"
            },
            "text/plain": [
              "'123'"
            ]
          },
          "metadata": {
            "tags": []
          },
          "execution_count": 19
        }
      ]
    },
    {
      "cell_type": "code",
      "metadata": {
        "colab": {
          "base_uri": "https://localhost:8080/",
          "height": 37
        },
        "id": "b4Q0OhtHDOJs",
        "outputId": "e5e67aef-07a4-418a-e266-f728a9c4d337"
      },
      "source": [
        "dictionary = str.maketrans('abc', '123')\n",
        "\n",
        "'abc'.translate(dictionary)"
      ],
      "execution_count": 21,
      "outputs": [
        {
          "output_type": "execute_result",
          "data": {
            "application/vnd.google.colaboratory.intrinsic+json": {
              "type": "string"
            },
            "text/plain": [
              "'123'"
            ]
          },
          "metadata": {
            "tags": []
          },
          "execution_count": 21
        }
      ]
    },
    {
      "cell_type": "code",
      "metadata": {
        "colab": {
          "base_uri": "https://localhost:8080/"
        },
        "id": "48BvoCZKDPKh",
        "outputId": "2d50621f-f6f4-412c-ad00-ced4fdba085c"
      },
      "source": [
        "\"123 \\n 456 \\r 789 \\r\\n abc\".split('\\n')"
      ],
      "execution_count": 22,
      "outputs": [
        {
          "output_type": "execute_result",
          "data": {
            "text/plain": [
              "['123 ', ' 456 \\r 789 \\r', ' abc']"
            ]
          },
          "metadata": {
            "tags": []
          },
          "execution_count": 22
        }
      ]
    },
    {
      "cell_type": "code",
      "metadata": {
        "colab": {
          "base_uri": "https://localhost:8080/"
        },
        "id": "kVxe5CECDgEb",
        "outputId": "73094f01-dbfb-4258-8edd-89c7d4d77d07"
      },
      "source": [
        "\"123 \\n 456 \\r 789 \\r\\n abc\".splitlines()"
      ],
      "execution_count": 23,
      "outputs": [
        {
          "output_type": "execute_result",
          "data": {
            "text/plain": [
              "['123 ', ' 456 ', ' 789 ', ' abc']"
            ]
          },
          "metadata": {
            "tags": []
          },
          "execution_count": 23
        }
      ]
    },
    {
      "cell_type": "code",
      "metadata": {
        "colab": {
          "base_uri": "https://localhost:8080/"
        },
        "id": "UZKZBLDEDhYi",
        "outputId": "6aa218da-26fa-4617-9e12-ede927ac592c"
      },
      "source": [
        "s = 'abc'\n",
        "print(' '.join(s))"
      ],
      "execution_count": 25,
      "outputs": [
        {
          "output_type": "stream",
          "text": [
            "a b c\n"
          ],
          "name": "stdout"
        }
      ]
    },
    {
      "cell_type": "code",
      "metadata": {
        "colab": {
          "base_uri": "https://localhost:8080/"
        },
        "id": "VrmRMTLJDlgM",
        "outputId": "9b25c9d4-8f61-4a0f-f8ee-464c428ab2cb"
      },
      "source": [
        "s = {'a','b','c','d','e'}\n",
        "print(','.join(s))"
      ],
      "execution_count": 26,
      "outputs": [
        {
          "output_type": "stream",
          "text": [
            "d,e,b,c,a\n"
          ],
          "name": "stdout"
        }
      ]
    }
  ]
}