{
  "nbformat": 4,
  "nbformat_minor": 0,
  "metadata": {
    "colab": {
      "name": "4 Tips to Master Python f-strings.ipynb",
      "provenance": [],
      "authorship_tag": "ABX9TyN7xLCnDpWWIzhCs32KcySh"
    },
    "kernelspec": {
      "name": "python3",
      "display_name": "Python 3"
    }
  },
  "cells": [
    {
      "cell_type": "markdown",
      "metadata": {
        "id": "aSI2mX55DrdN"
      },
      "source": [
        "[Reference](https://towardsdatascience.com/4-tips-to-master-python-f-strings-a70ca896faa4)"
      ]
    },
    {
      "cell_type": "code",
      "metadata": {
        "colab": {
          "base_uri": "https://localhost:8080/"
        },
        "id": "vuBJC5a5DnJC",
        "outputId": "8be26c71-c2d7-438c-c55c-02c357010ff1"
      },
      "source": [
        "simple_math_string = f\"2 + 3 is equal to {2+3}\"\n",
        "\n",
        "print(simple_math_string)"
      ],
      "execution_count": 1,
      "outputs": [
        {
          "output_type": "stream",
          "text": [
            "2 + 3 is equal to 5\n"
          ],
          "name": "stdout"
        }
      ]
    },
    {
      "cell_type": "code",
      "metadata": {
        "colab": {
          "base_uri": "https://localhost:8080/"
        },
        "id": "JBxmeQSlDvon",
        "outputId": "e5b8035f-97ad-4bb3-8377-ad81a85ac4cb"
      },
      "source": [
        "variable = 'alignment!'\n",
        "\n",
        "print(f'{variable:>20}')\n",
        "print(f'{variable:<20}')\n",
        "print(f'{variable:^20}')"
      ],
      "execution_count": 2,
      "outputs": [
        {
          "output_type": "stream",
          "text": [
            "          alignment!\n",
            "alignment!          \n",
            "     alignment!     \n"
          ],
          "name": "stdout"
        }
      ]
    },
    {
      "cell_type": "code",
      "metadata": {
        "colab": {
          "base_uri": "https://localhost:8080/"
        },
        "id": "OfnBEuYOFbB8",
        "outputId": "c33ea89b-beca-4209-b82d-bd7ae054a343"
      },
      "source": [
        "import pandas as pd\n",
        "\n",
        "df = pd.DataFrame.from_dict({2019 :[1,4,7,2,5,7,3,1], 2020 :[5,3,6,4,2,4,6,3], 2021 : [5,4,7,3,6,8,6,3]})\n",
        "\n",
        "for col in [2020, 2021]:\n",
        "    df[f'{col} Rolling'] = df[col].rolling(5).mean()\n",
        "\n",
        "print(df)"
      ],
      "execution_count": 4,
      "outputs": [
        {
          "output_type": "stream",
          "text": [
            "   2019  2020  2021  2020 Rolling  2021 Rolling\n",
            "0     1     5     5           NaN           NaN\n",
            "1     4     3     4           NaN           NaN\n",
            "2     7     6     7           NaN           NaN\n",
            "3     2     4     3           NaN           NaN\n",
            "4     5     2     6           4.0           5.0\n",
            "5     7     4     8           3.8           5.6\n",
            "6     3     6     6           4.4           6.0\n",
            "7     1     3     3           3.8           5.2\n"
          ],
          "name": "stdout"
        }
      ]
    },
    {
      "cell_type": "code",
      "metadata": {
        "colab": {
          "base_uri": "https://localhost:8080/"
        },
        "id": "co6Bk8B1FhuM",
        "outputId": "00354fef-9b3d-4c98-9169-2a58a32b4ea3"
      },
      "source": [
        "df = pd.DataFrame.from_dict({'ID' :[13453466,44,6343,66577,243423]})\n",
        "print(df)"
      ],
      "execution_count": 5,
      "outputs": [
        {
          "output_type": "stream",
          "text": [
            "         ID\n",
            "0  13453466\n",
            "1        44\n",
            "2      6343\n",
            "3     66577\n",
            "4    243423\n"
          ],
          "name": "stdout"
        }
      ]
    },
    {
      "cell_type": "code",
      "metadata": {
        "colab": {
          "base_uri": "https://localhost:8080/"
        },
        "id": "8dkbNB1bFpYm",
        "outputId": "ff1b1b5f-959f-48cb-f266-e6b70c28d90a"
      },
      "source": [
        "df = pd.DataFrame.from_dict({'ID' :[13453466,44,6343,66577,243423]})\n",
        "df['Padded'] = [f'{x:09}' for x in df['ID']]\n",
        "df['Padded2'] = df['ID'].apply(lambda x: f'{x:09}')\n",
        "print(df)"
      ],
      "execution_count": 6,
      "outputs": [
        {
          "output_type": "stream",
          "text": [
            "         ID     Padded    Padded2\n",
            "0  13453466  013453466  013453466\n",
            "1        44  000000044  000000044\n",
            "2      6343  000006343  000006343\n",
            "3     66577  000066577  000066577\n",
            "4    243423  000243423  000243423\n"
          ],
          "name": "stdout"
        }
      ]
    },
    {
      "cell_type": "code",
      "metadata": {
        "colab": {
          "base_uri": "https://localhost:8080/"
        },
        "id": "sugtLBL8Fu-g",
        "outputId": "64400e23-9241-4b06-be1d-2a4d9ad93883"
      },
      "source": [
        "df = pd.DataFrame.from_dict({'Value' :[234534.43, 987324543.34, 1234345.34, 8234.43]})\n",
        "df['Currency'] = [f'${x:,.2f}' for x in df['Value']]\n",
        "df['Currency 2'] = df['Value'].apply(lambda x: f'${x:,.2f}')\n",
        "print(df)"
      ],
      "execution_count": 7,
      "outputs": [
        {
          "output_type": "stream",
          "text": [
            "          Value         Currency       Currency 2\n",
            "0  2.345344e+05      $234,534.43      $234,534.43\n",
            "1  9.873245e+08  $987,324,543.34  $987,324,543.34\n",
            "2  1.234345e+06    $1,234,345.34    $1,234,345.34\n",
            "3  8.234430e+03        $8,234.43        $8,234.43\n"
          ],
          "name": "stdout"
        }
      ]
    }
  ]
}