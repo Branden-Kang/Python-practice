{
  "nbformat": 4,
  "nbformat_minor": 0,
  "metadata": {
    "colab": {
      "provenance": [],
      "authorship_tag": "ABX9TyPm5iQw/iEj3zEziXS2hLZC"
    },
    "kernelspec": {
      "name": "python3",
      "display_name": "Python 3"
    },
    "language_info": {
      "name": "python"
    }
  },
  "cells": [
    {
      "cell_type": "markdown",
      "source": [
        "[Reference](https://medium.com/@aliyannshaikhh/a4a9db97c366)"
      ],
      "metadata": {
        "id": "jCTWk9UAaqR_"
      }
    },
    {
      "cell_type": "code",
      "execution_count": 1,
      "metadata": {
        "id": "QorCxN30aipc"
      },
      "outputs": [],
      "source": [
        "# Single quotes\n",
        "string1 = 'Branden'\n",
        "\n",
        "# Double quotes\n",
        "string2 = \"Python Programming\"\n",
        "\n",
        "# Tripe quptes for multiline strings\n",
        "string3 = ''' Welcome to\n",
        "IT For Everybody'''"
      ]
    },
    {
      "cell_type": "markdown",
      "source": [
        "# String Indexing in Python"
      ],
      "metadata": {
        "id": "sAA_esCIbUrt"
      }
    },
    {
      "cell_type": "code",
      "source": [
        "text = \"Python\"\n",
        "\n",
        "print(text[1])\n",
        "print(text[-2])"
      ],
      "metadata": {
        "colab": {
          "base_uri": "https://localhost:8080/"
        },
        "id": "DDl_rrwjbGPA",
        "outputId": "013a4e26-5338-4f52-bb89-4ddcb4c5c5cb"
      },
      "execution_count": 2,
      "outputs": [
        {
          "output_type": "stream",
          "name": "stdout",
          "text": [
            "y\n",
            "o\n"
          ]
        }
      ]
    },
    {
      "cell_type": "markdown",
      "source": [
        "# String Slicing in Python"
      ],
      "metadata": {
        "id": "EHyiCTw6bXzJ"
      }
    },
    {
      "cell_type": "code",
      "source": [
        "text = \"Python For Everybody\"\n",
        "\n",
        "print(text[0:6])\n",
        "print(text[:6])\n",
        "print(text[11:])\n",
        "print(text[::2])"
      ],
      "metadata": {
        "colab": {
          "base_uri": "https://localhost:8080/"
        },
        "id": "eYmLthRobWbH",
        "outputId": "c7816f13-a83e-447b-f412-1734bdc79d1a"
      },
      "execution_count": 3,
      "outputs": [
        {
          "output_type": "stream",
          "name": "stdout",
          "text": [
            "Python\n",
            "Python\n",
            "Everybody\n",
            "Pto o vrbd\n"
          ]
        }
      ]
    },
    {
      "cell_type": "markdown",
      "source": [
        "# Reversing a Python String"
      ],
      "metadata": {
        "id": "t69TKBO1bfHq"
      }
    },
    {
      "cell_type": "code",
      "source": [
        "text = \"Python\"\n",
        "\n",
        "print(text[::-1])"
      ],
      "metadata": {
        "colab": {
          "base_uri": "https://localhost:8080/"
        },
        "id": "7aagu7aFbdHZ",
        "outputId": "1e070023-a029-481d-fdef-cb1453dd4661"
      },
      "execution_count": 4,
      "outputs": [
        {
          "output_type": "stream",
          "name": "stdout",
          "text": [
            "nohtyP\n"
          ]
        }
      ]
    },
    {
      "cell_type": "markdown",
      "source": [
        "# String Operations in Python"
      ],
      "metadata": {
        "id": "AETV6n0EbiSu"
      }
    },
    {
      "cell_type": "markdown",
      "source": [
        "## Concatenation (+)"
      ],
      "metadata": {
        "id": "44oj_oe2bl2r"
      }
    },
    {
      "cell_type": "code",
      "source": [
        "text1 = \"Hello, \"\n",
        "text2 = \"World!\"\n",
        "text3 = text1 + text2\n",
        "\n",
        "print(text3)\n",
        "print(text1 + \"Aliyan!\")"
      ],
      "metadata": {
        "colab": {
          "base_uri": "https://localhost:8080/"
        },
        "id": "3e54yfMsbgnq",
        "outputId": "8e99b13f-c299-4ce3-945f-5ff8a56a0769"
      },
      "execution_count": 5,
      "outputs": [
        {
          "output_type": "stream",
          "name": "stdout",
          "text": [
            "Hello, World!\n",
            "Hello, Aliyan!\n"
          ]
        }
      ]
    },
    {
      "cell_type": "markdown",
      "source": [
        "## Repetition (*)"
      ],
      "metadata": {
        "id": "GvuyGoSYbnsU"
      }
    },
    {
      "cell_type": "code",
      "source": [
        "text = \"Hi!\"\n",
        "\n",
        "print(text*2)"
      ],
      "metadata": {
        "colab": {
          "base_uri": "https://localhost:8080/"
        },
        "id": "o6CMrrYxbkNE",
        "outputId": "70e83980-4629-47c6-d242-b2c6f4b3b2fa"
      },
      "execution_count": 6,
      "outputs": [
        {
          "output_type": "stream",
          "name": "stdout",
          "text": [
            "Hi!Hi!\n"
          ]
        }
      ]
    },
    {
      "cell_type": "markdown",
      "source": [
        "## Membership Operations (in and not in)"
      ],
      "metadata": {
        "id": "04-1S8Nlbq0p"
      }
    },
    {
      "cell_type": "code",
      "source": [
        "text = \"I am curious.\"\n",
        "\n",
        "print(\"I\" in text)\n",
        "print(\"Was\" in text)\n",
        "print(\"am\" not in text)"
      ],
      "metadata": {
        "colab": {
          "base_uri": "https://localhost:8080/"
        },
        "id": "g7gFvb2wbpUs",
        "outputId": "3538ada1-81ab-482f-a6ff-d64c7c6c7c5d"
      },
      "execution_count": 7,
      "outputs": [
        {
          "output_type": "stream",
          "name": "stdout",
          "text": [
            "True\n",
            "False\n",
            "False\n"
          ]
        }
      ]
    },
    {
      "cell_type": "markdown",
      "source": [
        "# Escape Characters in Python Strings"
      ],
      "metadata": {
        "id": "ysrSxaMCbwc-"
      }
    },
    {
      "cell_type": "code",
      "source": [
        "print(\"He said, \"I am awesome!\"\")"
      ],
      "metadata": {
        "colab": {
          "base_uri": "https://localhost:8080/",
          "height": 105
        },
        "id": "uPE0hc5kbvVV",
        "outputId": "b373c79e-f139-4b9d-db37-7d8c0b04ffb9"
      },
      "execution_count": 10,
      "outputs": [
        {
          "output_type": "error",
          "ename": "SyntaxError",
          "evalue": "invalid syntax. Perhaps you forgot a comma? (ipython-input-780279345.py, line 1)",
          "traceback": [
            "\u001b[0;36m  File \u001b[0;32m\"/tmp/ipython-input-780279345.py\"\u001b[0;36m, line \u001b[0;32m1\u001b[0m\n\u001b[0;31m    print(\"He said, \"I am awesome!\"\")\u001b[0m\n\u001b[0m          ^\u001b[0m\n\u001b[0;31mSyntaxError\u001b[0m\u001b[0;31m:\u001b[0m invalid syntax. Perhaps you forgot a comma?\n"
          ]
        }
      ]
    },
    {
      "cell_type": "code",
      "source": [
        "print(\"He said, \\\"I am awesome!\\\"\") # He said, \"I am awesome!\""
      ],
      "metadata": {
        "colab": {
          "base_uri": "https://localhost:8080/"
        },
        "id": "cAUJiMz4byAH",
        "outputId": "dcd99829-91b2-41c8-9e1a-b134c4d8fb35"
      },
      "execution_count": 11,
      "outputs": [
        {
          "output_type": "stream",
          "name": "stdout",
          "text": [
            "He said, \"I am awesome!\"\n"
          ]
        }
      ]
    },
    {
      "cell_type": "code",
      "source": [
        "print(\"She is Nimra.\\nHe is Rahim.\")"
      ],
      "metadata": {
        "colab": {
          "base_uri": "https://localhost:8080/"
        },
        "id": "cjXC8DQBb3m0",
        "outputId": "814568f1-455e-4be7-95b8-1e05d2409f75"
      },
      "execution_count": 12,
      "outputs": [
        {
          "output_type": "stream",
          "name": "stdout",
          "text": [
            "She is Nimra.\n",
            "He is Rahim.\n"
          ]
        }
      ]
    },
    {
      "cell_type": "code",
      "source": [
        "name = \"Aliyan\"\n",
        "age = 22\n",
        "\n",
        "print(f\"My name is {name} and I am {age} years old.\")"
      ],
      "metadata": {
        "colab": {
          "base_uri": "https://localhost:8080/"
        },
        "id": "bWS3Uj7Sb5NY",
        "outputId": "8ae84108-4a99-468b-a60c-634fd2560890"
      },
      "execution_count": 13,
      "outputs": [
        {
          "output_type": "stream",
          "name": "stdout",
          "text": [
            "My name is Aliyan and I am 22 years old.\n"
          ]
        }
      ]
    },
    {
      "cell_type": "code",
      "source": [
        "price = 49.99\n",
        "quantity = 3\n",
        "\n",
        "print(f\"Total cost: {price * quantity:.2f}\")"
      ],
      "metadata": {
        "colab": {
          "base_uri": "https://localhost:8080/"
        },
        "id": "uAFd-SPmb61A",
        "outputId": "28b0eef7-f611-46c8-9798-e14b871dc7dd"
      },
      "execution_count": 14,
      "outputs": [
        {
          "output_type": "stream",
          "name": "stdout",
          "text": [
            "Total cost: 149.97\n"
          ]
        }
      ]
    },
    {
      "cell_type": "markdown",
      "source": [
        "# String Methods in Python"
      ],
      "metadata": {
        "id": "osKpokbzb9af"
      }
    },
    {
      "cell_type": "code",
      "source": [
        "text = \"Python is Fun\"\n",
        "\n",
        "print(text.upper())\n",
        "print(text.lower())\n",
        "print(text.title())\n",
        "print(text.capitalize())\n",
        "print(text.swapcase())"
      ],
      "metadata": {
        "colab": {
          "base_uri": "https://localhost:8080/"
        },
        "id": "QB3Z1i4sb8On",
        "outputId": "86602d62-4a6d-4afc-d3a2-f7f6498fe6ef"
      },
      "execution_count": 15,
      "outputs": [
        {
          "output_type": "stream",
          "name": "stdout",
          "text": [
            "PYTHON IS FUN\n",
            "python is fun\n",
            "Python Is Fun\n",
            "Python is fun\n",
            "pYTHON IS fUN\n"
          ]
        }
      ]
    },
    {
      "cell_type": "code",
      "source": [
        "text = \"Python Programming\"\n",
        "\n",
        "print(text.find(\"Pro\"))\n",
        "print(text.find(\"Java\"))\n",
        "\n",
        "print(text.index(\"Pro\"))\n",
        "# print(text.index(\"Java\"))  # ValueError: substring not found\n",
        "\n",
        "print(text.startswith(\"Py\"))\n",
        "print(text.endswith(\"ing\"))"
      ],
      "metadata": {
        "colab": {
          "base_uri": "https://localhost:8080/"
        },
        "id": "Q2RB2msxcB9h",
        "outputId": "6cd99b4d-5660-4de5-e3d2-b27eda4e26fa"
      },
      "execution_count": 16,
      "outputs": [
        {
          "output_type": "stream",
          "name": "stdout",
          "text": [
            "7\n",
            "-1\n",
            "7\n",
            "True\n",
            "True\n"
          ]
        }
      ]
    },
    {
      "cell_type": "code",
      "source": [
        "text = \"  Hello Python!  \"\n",
        "\n",
        "print(text.replace(\"Python\", \"World\"))\n",
        "print(text.strip())\n",
        "print(text.lstrip())\n",
        "print(text.rstrip())"
      ],
      "metadata": {
        "colab": {
          "base_uri": "https://localhost:8080/"
        },
        "id": "s31LHEFfcF26",
        "outputId": "5f1e43e9-fdd9-415e-c46e-382dc1a27ec2"
      },
      "execution_count": 17,
      "outputs": [
        {
          "output_type": "stream",
          "name": "stdout",
          "text": [
            "  Hello World!  \n",
            "Hello Python!\n",
            "Hello Python!  \n",
            "  Hello Python!\n"
          ]
        }
      ]
    },
    {
      "cell_type": "code",
      "source": [
        "text = \"I love IT For Everybody\"\n",
        "\n",
        "# Splitting\n",
        "words = text.split()\n",
        "print(words)\n",
        "\n",
        "sentence = \"Python,C++,C#\"\n",
        "print(sentence.split(\",\"))\n",
        "\n",
        "# Joining\n",
        "word_list = ['I', 'love', 'IT', 'For', 'Everybody']\n",
        "print(\" \".join(word_list))\n",
        "print(\"-\".join(word_list))"
      ],
      "metadata": {
        "colab": {
          "base_uri": "https://localhost:8080/"
        },
        "id": "43boHD5OcJ1S",
        "outputId": "1c95c74d-277f-459a-96ec-20062d847580"
      },
      "execution_count": 18,
      "outputs": [
        {
          "output_type": "stream",
          "name": "stdout",
          "text": [
            "['I', 'love', 'IT', 'For', 'Everybody']\n",
            "['Python', 'C++', 'C#']\n",
            "I love IT For Everybody\n",
            "I-love-IT-For-Everybody\n"
          ]
        }
      ]
    },
    {
      "cell_type": "code",
      "source": [
        "text1 = \"ITForEverybody\"\n",
        "text2 = \"12345\"\n",
        "text3 = \"I Love Python\"\n",
        "text4 = \"   \"\n",
        "\n",
        "print(text1.isalpha())\n",
        "print(text2.isdigit())\n",
        "print(text1.isalnum())\n",
        "print(text4.isspace())\n",
        "print(text1.islower())\n",
        "print(text2.isupper())\n",
        "print(text3.istitle())"
      ],
      "metadata": {
        "colab": {
          "base_uri": "https://localhost:8080/"
        },
        "id": "auN2p2UEcUi7",
        "outputId": "02374700-2b20-456e-b84e-4d05460d2959"
      },
      "execution_count": 19,
      "outputs": [
        {
          "output_type": "stream",
          "name": "stdout",
          "text": [
            "True\n",
            "True\n",
            "True\n",
            "True\n",
            "False\n",
            "False\n",
            "True\n"
          ]
        }
      ]
    }
  ]
}
