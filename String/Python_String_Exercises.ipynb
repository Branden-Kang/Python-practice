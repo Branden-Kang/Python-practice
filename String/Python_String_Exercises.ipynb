{
  "nbformat": 4,
  "nbformat_minor": 0,
  "metadata": {
    "colab": {
      "provenance": [],
      "authorship_tag": "ABX9TyPDLnTrei/EjAq3Keej690N"
    },
    "kernelspec": {
      "name": "python3",
      "display_name": "Python 3"
    },
    "language_info": {
      "name": "python"
    }
  },
  "cells": [
    {
      "cell_type": "markdown",
      "source": [
        "[Reference](https://medium.com/@nishithakalathil/python-string-exercises-788ae4e1922d)"
      ],
      "metadata": {
        "id": "jX1j15V1_PY4"
      }
    },
    {
      "cell_type": "code",
      "execution_count": 1,
      "metadata": {
        "colab": {
          "base_uri": "https://localhost:8080/"
        },
        "id": "NMd5wDKQ_Na7",
        "outputId": "39d8433f-34fe-4d34-bb45-a1296e80d26b"
      },
      "outputs": [
        {
          "output_type": "stream",
          "name": "stdout",
          "text": [
            "Enter the first number: 1\n",
            "Enter the second number: 2\n",
            "The sum is :  3\n"
          ]
        }
      ],
      "source": [
        "num1 = int(input(\"Enter the first number: \"))\n",
        "num2 = int(input(\"Enter the second number: \"))\n",
        "print(\"The sum is : \", num1+num2)"
      ]
    },
    {
      "cell_type": "code",
      "source": [
        "text = input(\"Enter a string: \")\n",
        "print('The length of the entered string is : ', len(text))"
      ],
      "metadata": {
        "colab": {
          "base_uri": "https://localhost:8080/"
        },
        "id": "m3JIyUQ8_RVj",
        "outputId": "9b92ef00-a4b4-44cc-b35f-678b102a1010"
      },
      "execution_count": 2,
      "outputs": [
        {
          "output_type": "stream",
          "name": "stdout",
          "text": [
            "Enter a string: python\n",
            "The length of the entered string is :  6\n"
          ]
        }
      ]
    },
    {
      "cell_type": "code",
      "source": [
        "sentence = input(\"Enter a sentence: \")\n",
        "print(\"Number of words in the sentence: \",sentence.count(' ')+1)"
      ],
      "metadata": {
        "colab": {
          "base_uri": "https://localhost:8080/"
        },
        "id": "lqieq0Ms_TcJ",
        "outputId": "6843d6d5-879e-420b-b758-32de26895862"
      },
      "execution_count": 3,
      "outputs": [
        {
          "output_type": "stream",
          "name": "stdout",
          "text": [
            "Enter a sentence: Hi Branden\n",
            "Number of words in the sentence:  2\n"
          ]
        }
      ]
    },
    {
      "cell_type": "code",
      "source": [
        "x = input(\"Enter a string: \")\n",
        "upper=0\n",
        "lower = 0\n",
        "for i in x:\n",
        "    if i.isupper():\n",
        "        upper += 1\n",
        "    if i.islower():\n",
        "        lower +=1\n",
        "print(\"Upper: \", upper)\n",
        "print(\"Lower: \",lower)"
      ],
      "metadata": {
        "colab": {
          "base_uri": "https://localhost:8080/"
        },
        "id": "8bHboXsR_ZRo",
        "outputId": "e2e93c50-5715-4a5a-a893-c8692407585b"
      },
      "execution_count": 6,
      "outputs": [
        {
          "output_type": "stream",
          "name": "stdout",
          "text": [
            "Enter a string: hi\n",
            "Upper:  0\n",
            "Lower:  2\n"
          ]
        }
      ]
    },
    {
      "cell_type": "code",
      "source": [
        "sentence = input(\"Enter a sentence: \")\n",
        "print(sentence.upper())"
      ],
      "metadata": {
        "colab": {
          "base_uri": "https://localhost:8080/"
        },
        "id": "Utih-PzE_c45",
        "outputId": "5629b4e4-3c1a-4f9f-9b3a-ae673e3e1364"
      },
      "execution_count": 5,
      "outputs": [
        {
          "output_type": "stream",
          "name": "stdout",
          "text": [
            "Enter a sentence: hi\n",
            "HI\n"
          ]
        }
      ]
    },
    {
      "cell_type": "code",
      "source": [
        "word = input(\"Enter a string: \")\n",
        "rep = word.replace('a','e')\n",
        "print(rep)"
      ],
      "metadata": {
        "colab": {
          "base_uri": "https://localhost:8080/"
        },
        "id": "bcywKq8f_dGz",
        "outputId": "74864b99-dfda-44e0-f4d2-86f70f06e2b3"
      },
      "execution_count": 8,
      "outputs": [
        {
          "output_type": "stream",
          "name": "stdout",
          "text": [
            "Enter a string: apple\n",
            "epple\n"
          ]
        }
      ]
    },
    {
      "cell_type": "code",
      "source": [
        "word1 = input(\"Enter the first word: \")\n",
        "word2 = input(\"Enter the second word: \")\n",
        "\n",
        "if sorted(word1.replace(\" \",\"\").lower()) == sorted(word2.replace(\" \",\"\").lower()):\n",
        "    print(\"The given words are anagrams\")\n",
        "else:\n",
        "    print(\"The given words are not anagrams\")"
      ],
      "metadata": {
        "colab": {
          "base_uri": "https://localhost:8080/"
        },
        "id": "Kbk3sR6m_gnR",
        "outputId": "8c4bde13-68b6-4cbd-f680-e3c6582dd7a4"
      },
      "execution_count": 9,
      "outputs": [
        {
          "output_type": "stream",
          "name": "stdout",
          "text": [
            "Enter the first word: ala\n",
            "Enter the second word: ala\n",
            "The given words are anagrams\n"
          ]
        }
      ]
    },
    {
      "cell_type": "code",
      "source": [
        "word = input(\"Enter the string: \")\n",
        "\n",
        "if word.replace(\" \",\"\").lower() == word[::-1].replace(\" \",\"\").lower():\n",
        "    print(\"The given string is paliandrome\")\n",
        "else:\n",
        "    print(\"The given string is not paliandrome\")"
      ],
      "metadata": {
        "colab": {
          "base_uri": "https://localhost:8080/"
        },
        "id": "_hephhHg_kpD",
        "outputId": "a39100e9-b60f-4991-b526-33f171c1c6f5"
      },
      "execution_count": 11,
      "outputs": [
        {
          "output_type": "stream",
          "name": "stdout",
          "text": [
            "Enter the string: hil\n",
            "The given string is not paliandrome\n"
          ]
        }
      ]
    },
    {
      "cell_type": "code",
      "source": [
        "word = input(\"Enter a string: \")\n",
        "sub = input(\"Enter the substring to check : \")\n",
        "\n",
        "if sub in word:\n",
        "    print(\"The substring is present in the string\")\n",
        "else:\n",
        "    print(\"The substring is not present in the string\")"
      ],
      "metadata": {
        "colab": {
          "base_uri": "https://localhost:8080/"
        },
        "id": "TZbOF2tx_oHJ",
        "outputId": "a2fa6492-8b4f-4c51-b01c-e18257e92ca9"
      },
      "execution_count": 12,
      "outputs": [
        {
          "output_type": "stream",
          "name": "stdout",
          "text": [
            "Enter a string: Enter a string\n",
            "Enter the substring to check : string\n",
            "The substring is present in the string\n"
          ]
        }
      ]
    },
    {
      "cell_type": "code",
      "source": [
        "sentence = input(\"Enter a sentence: \")\n",
        "\n",
        "words = sentence.split(\" \")\n",
        "words.reverse()\n",
        "newsent=\"\"\n",
        "\n",
        "for i in words:\n",
        "    newsent += i + \" \"\n",
        "print(newsent)"
      ],
      "metadata": {
        "colab": {
          "base_uri": "https://localhost:8080/"
        },
        "id": "3JVmA_C6_uZy",
        "outputId": "0623c813-01c5-454c-ed76-698c50fc0e0c"
      },
      "execution_count": 13,
      "outputs": [
        {
          "output_type": "stream",
          "name": "stdout",
          "text": [
            "Enter a sentence: hi\n",
            "hi \n"
          ]
        }
      ]
    },
    {
      "cell_type": "code",
      "source": [
        "message = input(\"Enter the message\")\n",
        "result = \"\"\n",
        "shift =3\n",
        "for char in message:\n",
        "    if char.isalpha():\n",
        "        ascii_offset = 65 if char.isupper() else 97\n",
        "        result += chr((ord(char) - ascii_offset + shift) % 26 + ascii_offset)\n",
        "    else:\n",
        "        result += char\n",
        "print(result)"
      ],
      "metadata": {
        "colab": {
          "base_uri": "https://localhost:8080/"
        },
        "id": "cu3uAQ7Q_yFZ",
        "outputId": "a23405fd-7e35-4611-9935-52a04187e0c5"
      },
      "execution_count": 14,
      "outputs": [
        {
          "output_type": "stream",
          "name": "stdout",
          "text": [
            "Enter the messagehi\n",
            "kl\n"
          ]
        }
      ]
    },
    {
      "cell_type": "code",
      "source": [
        "word = input(\"Enter a text : \")\n",
        "\n",
        "vowels='AEIOUaeiou'\n",
        "x=0\n",
        "count = len([char for char in word if char in vowels ])\n",
        "print(count)"
      ],
      "metadata": {
        "colab": {
          "base_uri": "https://localhost:8080/"
        },
        "id": "vcGmJx8z_ziw",
        "outputId": "fc3c748f-da00-458d-f4ea-e03179d4a687"
      },
      "execution_count": 15,
      "outputs": [
        {
          "output_type": "stream",
          "name": "stdout",
          "text": [
            "Enter a text : apple\n",
            "2\n"
          ]
        }
      ]
    },
    {
      "cell_type": "code",
      "source": [
        "txt = input(\"Enter a sentence: \")\n",
        "\n",
        "words = txt.split(\" \")\n",
        "newsent = \"\"\n",
        "for i in words:\n",
        "    newsent += (i[1:]+ i[:1]+\"ay \")\n",
        "print(newsent)"
      ],
      "metadata": {
        "colab": {
          "base_uri": "https://localhost:8080/"
        },
        "id": "Mam1B5p1_1O8",
        "outputId": "891cf058-29e8-4b7f-ad63-1c9bf04b35e4"
      },
      "execution_count": 16,
      "outputs": [
        {
          "output_type": "stream",
          "name": "stdout",
          "text": [
            "Enter a sentence: hi\n",
            "ihay \n"
          ]
        }
      ]
    },
    {
      "cell_type": "code",
      "source": [
        "paragraph = input(\"Enter a paragraph: \")\n",
        "sentences = paragraph.split('.')\n",
        "output=\"\"\n",
        "for sent in sentences:\n",
        "    cap = sent.strip().capitalize()\n",
        "    output += cap +'. '\n",
        "print(output)"
      ],
      "metadata": {
        "colab": {
          "base_uri": "https://localhost:8080/"
        },
        "id": "RfcANYD-_3ef",
        "outputId": "7bdf5763-5cd4-464c-b7d8-798b60520693"
      },
      "execution_count": 17,
      "outputs": [
        {
          "output_type": "stream",
          "name": "stdout",
          "text": [
            "Enter a paragraph: hi\n",
            "Hi. \n"
          ]
        }
      ]
    },
    {
      "cell_type": "code",
      "source": [
        "sentence = input(\"Enter a sentence :\")\n",
        "words = sentence.split()\n",
        "words.reverse()\n",
        "rev = \" \".join(words)\n",
        "print(rev)"
      ],
      "metadata": {
        "colab": {
          "base_uri": "https://localhost:8080/"
        },
        "id": "fEdlr1TB_5MO",
        "outputId": "c75beb19-697d-4fb8-8f8e-4074924d3069"
      },
      "execution_count": 18,
      "outputs": [
        {
          "output_type": "stream",
          "name": "stdout",
          "text": [
            "Enter a sentence :hi python\n",
            "python hi\n"
          ]
        }
      ]
    },
    {
      "cell_type": "code",
      "source": [
        "strings = [\"race\", \"car\", \"rat\", \"tar\",\"rac\"]\n",
        "\n",
        "rev=[]\n",
        "for i in strings:\n",
        "    if i[::-1] in strings:\n",
        "        if i not in rev:\n",
        "            rev.append(i[::-1])\n",
        "            print(i,\" and \",i[::-1],\" are paliandromes\")"
      ],
      "metadata": {
        "colab": {
          "base_uri": "https://localhost:8080/"
        },
        "id": "sYoLhowW_7CT",
        "outputId": "4bd3df31-95a3-4a50-c71e-83f26aec6a32"
      },
      "execution_count": 19,
      "outputs": [
        {
          "output_type": "stream",
          "name": "stdout",
          "text": [
            "car  and  rac  are paliandromes\n",
            "rat  and  tar  are paliandromes\n"
          ]
        }
      ]
    },
    {
      "cell_type": "code",
      "source": [
        "s1 = \"blue\"\n",
        "s2 = \"berry\"\n",
        "s3 = \"bbeluerry\"\n",
        "\n",
        "if sorted(s3) == sorted(s1+s2):\n",
        "    print(\"The third word is interleaving the characters of the first two words. \")\n",
        "else:\n",
        "    print(\"The third word is not interleaving the characters of the first two words. \")"
      ],
      "metadata": {
        "colab": {
          "base_uri": "https://localhost:8080/"
        },
        "id": "leNbOl1o_9sm",
        "outputId": "d824ef1c-4ee6-4e84-981e-e67c2b2278b1"
      },
      "execution_count": 20,
      "outputs": [
        {
          "output_type": "stream",
          "name": "stdout",
          "text": [
            "The third word is interleaving the characters of the first two words. \n"
          ]
        }
      ]
    },
    {
      "cell_type": "code",
      "source": [
        "from itertools import permutations\n",
        "\n",
        "s = \"cbabcacab\"\n",
        "sub = \"abc\"\n",
        "sub_permutations = [''.join(p) for p in permutations(sub)]\n",
        "result =  [p for p in sub_permutations if p in s]\n",
        "print(result)"
      ],
      "metadata": {
        "colab": {
          "base_uri": "https://localhost:8080/"
        },
        "id": "6OOtfAzr__mW",
        "outputId": "efdf59df-0111-444e-c11c-829eff30d948"
      },
      "execution_count": 21,
      "outputs": [
        {
          "output_type": "stream",
          "name": "stdout",
          "text": [
            "['abc', 'bca', 'cab', 'cba']\n"
          ]
        }
      ]
    },
    {
      "cell_type": "code",
      "source": [
        "string = \"aabcccccaaa\"\n",
        "c=0\n",
        "new_string = \"\"\n",
        "for i,letter in enumerate(string):\n",
        "    if letter==string[i-1]:\n",
        "        c+=1\n",
        "        if(i+1)==len(string):\n",
        "            new_string += string[i]+str(c+1)\n",
        "    else:\n",
        "        new_string += string[i-1]+str(c+1)\n",
        "        c=0\n",
        "print(new_string)"
      ],
      "metadata": {
        "colab": {
          "base_uri": "https://localhost:8080/"
        },
        "id": "XMv8AEc-AAk1",
        "outputId": "c02cd8bb-1a96-417f-e710-01aa270eb801"
      },
      "execution_count": 22,
      "outputs": [
        {
          "output_type": "stream",
          "name": "stdout",
          "text": [
            "a3b1c5a3\n"
          ]
        }
      ]
    }
  ]
}
