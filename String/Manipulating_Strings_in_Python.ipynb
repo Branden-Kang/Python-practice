{
  "nbformat": 4,
  "nbformat_minor": 0,
  "metadata": {
    "colab": {
      "name": "Manipulating Strings in Python.ipynb",
      "provenance": [],
      "authorship_tag": "ABX9TyOwLYBSLneqrQVy3MjxqK1c"
    },
    "kernelspec": {
      "name": "python3",
      "display_name": "Python 3"
    },
    "language_info": {
      "name": "python"
    }
  },
  "cells": [
    {
      "cell_type": "markdown",
      "metadata": {
        "id": "rp4xxmrU3kqh"
      },
      "source": [
        "[Reference](https://florapetersen.medium.com/manipulating-strings-in-python-d95ff8c6bd43)"
      ]
    },
    {
      "cell_type": "code",
      "metadata": {
        "colab": {
          "base_uri": "https://localhost:8080/"
        },
        "id": "9LWJcKMi2H4u",
        "outputId": "99406a1b-7c87-48d5-a9a1-513553d22ed1"
      },
      "source": [
        "string = \"Hello!\"\n",
        "print(string[0])"
      ],
      "execution_count": 1,
      "outputs": [
        {
          "output_type": "stream",
          "name": "stdout",
          "text": [
            "H\n"
          ]
        }
      ]
    },
    {
      "cell_type": "code",
      "metadata": {
        "colab": {
          "base_uri": "https://localhost:8080/"
        },
        "id": "oxSu8peE3qNM",
        "outputId": "d7934f55-0149-4af2-ced4-eb7f67f69377"
      },
      "source": [
        "string = \"Hello!\"\n",
        "for character in string:\n",
        "    print(character)"
      ],
      "execution_count": 2,
      "outputs": [
        {
          "output_type": "stream",
          "name": "stdout",
          "text": [
            "H\n",
            "e\n",
            "l\n",
            "l\n",
            "o\n",
            "!\n"
          ]
        }
      ]
    },
    {
      "cell_type": "code",
      "metadata": {
        "colab": {
          "base_uri": "https://localhost:8080/"
        },
        "id": "bZBj77OD3u5A",
        "outputId": "60fb4e12-927a-44d3-e67f-9791d156c1e6"
      },
      "source": [
        "string = \"My name is Flora Petersen.\"\n",
        "print(string[12:26])"
      ],
      "execution_count": 3,
      "outputs": [
        {
          "output_type": "stream",
          "name": "stdout",
          "text": [
            "lora Petersen.\n"
          ]
        }
      ]
    },
    {
      "cell_type": "code",
      "metadata": {
        "colab": {
          "base_uri": "https://localhost:8080/"
        },
        "id": "7q4abf2j3vZ0",
        "outputId": "ddf579c8-aacc-4b8b-eccb-b26422201218"
      },
      "source": [
        "breakfast = \"pancakes\"\n",
        "\n",
        "if \"w\" in breakfast:\n",
        "    print(\"Is it waffles???\")\n",
        "else:\n",
        "    print(\"It's pancakes.\")"
      ],
      "execution_count": 11,
      "outputs": [
        {
          "output_type": "stream",
          "name": "stdout",
          "text": [
            "It's pancakes.\n"
          ]
        }
      ]
    },
    {
      "cell_type": "code",
      "metadata": {
        "colab": {
          "base_uri": "https://localhost:8080/"
        },
        "id": "ZEns5BXQ3zuK",
        "outputId": "fdc3c0d6-87ca-423b-b3f5-857a121de19d"
      },
      "source": [
        "dinner = \"spaghetti\"\n",
        "letter = dinner.find(\"g\")\n",
        "print(letter)"
      ],
      "execution_count": 5,
      "outputs": [
        {
          "output_type": "stream",
          "name": "stdout",
          "text": [
            "3\n"
          ]
        }
      ]
    },
    {
      "cell_type": "code",
      "metadata": {
        "colab": {
          "base_uri": "https://localhost:8080/"
        },
        "id": "BrpyOQbN4EHd",
        "outputId": "0ce16b5a-5d29-4d03-8f98-69358ba153ac"
      },
      "source": [
        "movie = \"Home Alone\"\n",
        "chunk = movie.find(\"lon\")\n",
        "print(chunk)"
      ],
      "execution_count": 6,
      "outputs": [
        {
          "output_type": "stream",
          "name": "stdout",
          "text": [
            "6\n"
          ]
        }
      ]
    },
    {
      "cell_type": "code",
      "metadata": {
        "id": "H3OjThe94E1q"
      },
      "source": [
        "string = \"abcdefghijklmnopqrstuvwxyz\"\n",
        "first = string.find(\"a\")"
      ],
      "execution_count": 7,
      "outputs": []
    },
    {
      "cell_type": "code",
      "metadata": {
        "id": "LWCHqahV4GWb"
      },
      "source": [
        "last = string.find(\"d\")"
      ],
      "execution_count": 9,
      "outputs": []
    },
    {
      "cell_type": "code",
      "metadata": {
        "colab": {
          "base_uri": "https://localhost:8080/"
        },
        "id": "Bcp408ZO4JtK",
        "outputId": "030007f1-c435-4c24-f45f-16d43ec78f1b"
      },
      "source": [
        "last"
      ],
      "execution_count": 10,
      "outputs": [
        {
          "output_type": "execute_result",
          "data": {
            "text/plain": [
              "3"
            ]
          },
          "metadata": {},
          "execution_count": 10
        }
      ]
    }
  ]
}