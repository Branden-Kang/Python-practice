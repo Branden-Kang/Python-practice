{
  "nbformat": 4,
  "nbformat_minor": 0,
  "metadata": {
    "colab": {
      "name": "String Representations in Python.ipynb",
      "provenance": [],
      "authorship_tag": "ABX9TyOuQUZyMC2YoYSKMYZ6GReo"
    },
    "kernelspec": {
      "name": "python3",
      "display_name": "Python 3"
    }
  },
  "cells": [
    {
      "cell_type": "markdown",
      "metadata": {
        "id": "5ucNduuMF64b"
      },
      "source": [
        "[Reference](https://levelup.gitconnected.com/how-to-format-integers-into-string-representations-in-python-9f6ad0f2d36f)"
      ]
    },
    {
      "cell_type": "code",
      "metadata": {
        "id": "ZIJ4VR82F5ZA"
      },
      "source": [
        "def safe_num(num):\n",
        "    if isinstance(num, str):\n",
        "        num = float(num)    \n",
        "        \n",
        "    return float('{:.3g}'.format(abs(num)))"
      ],
      "execution_count": 1,
      "outputs": []
    },
    {
      "cell_type": "code",
      "metadata": {
        "id": "8wh8WElrGBiM"
      },
      "source": [
        "def format_number_stack_overflow(num):\n",
        "    num = safe_num(num)\n",
        "    magnitude = 0\n",
        "    while abs(num) >= 1000:\n",
        "        magnitude += 1\n",
        "        num /= 1000.0\n",
        "    return '{}{}'.format('{:f}'.format(num).rstrip('0').rstrip('.'), ['', 'K', 'M', 'B', 'T'][magnitude])"
      ],
      "execution_count": 2,
      "outputs": []
    },
    {
      "cell_type": "code",
      "metadata": {
        "id": "YBofPun9GEAA"
      },
      "source": [
        "def format_number(num):\n",
        "    num = safe_num(num)\n",
        "    sign = ''\n",
        "\n",
        "    metric = {'T': 1000000000000, 'B': 1000000000, 'M': 1000000, 'K': 1000, '': 1}\n",
        "\n",
        "    for index in metric:\n",
        "        num_check = num / metric[index]\n",
        "\n",
        "        if(num_check >= 1):\n",
        "            num = num_check\n",
        "            sign = index\n",
        "            break\n",
        "    return f\"{str(num).rstrip('0').rstrip('.')}{sign}\""
      ],
      "execution_count": 4,
      "outputs": []
    },
    {
      "cell_type": "code",
      "metadata": {
        "colab": {
          "base_uri": "https://localhost:8080/"
        },
        "id": "ZkE-VLqgGIiX",
        "outputId": "32b0afa7-1753-4051-9edf-caf88309b318"
      },
      "source": [
        "example_input = [1000, 999, 100, 99, 9996, 23, 123456, 10000, 999999, 1234567890, 5634723]\n",
        "for i in example_input:\n",
        "    print(format_number_stack_overflow(i), format_number(i))"
      ],
      "execution_count": 6,
      "outputs": [
        {
          "output_type": "stream",
          "text": [
            "1K 1K\n",
            "999 999\n",
            "100 100\n",
            "99 99\n",
            "10K 10K\n",
            "23 23\n",
            "123K 123K\n",
            "10K 10K\n",
            "1M 1M\n",
            "1.23B 1.23B\n",
            "5.63M 5.63M\n"
          ],
          "name": "stdout"
        }
      ]
    }
  ]
}