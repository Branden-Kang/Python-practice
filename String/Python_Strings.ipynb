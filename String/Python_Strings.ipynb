{
  "nbformat": 4,
  "nbformat_minor": 0,
  "metadata": {
    "colab": {
      "name": "Python Strings.ipynb",
      "provenance": [],
      "authorship_tag": "ABX9TyMOHQG54tSMKOELsahKRdTy"
    },
    "kernelspec": {
      "name": "python3",
      "display_name": "Python 3"
    }
  },
  "cells": [
    {
      "cell_type": "code",
      "metadata": {
        "colab": {
          "base_uri": "https://localhost:8080/"
        },
        "id": "ty9HRR7x9ITp",
        "outputId": "eb6ca907-607d-4eba-d1b9-72c32e72cb89"
      },
      "source": [
        "# Single quotes for single lined strings\n",
        "s = \"An approximate answer to the right question is worth a great deal more than a precise answer to the wrong question.\"\n",
        "print(s)\n",
        "\n",
        "s = \"\"\"\n",
        "An approximate answer to the right question \n",
        "is worth a great deal more than \n",
        "a precise answer to the wrong question.\n",
        "\"\"\"\n",
        "print(s)\n",
        "a = s[-40:-24]\n",
        "\n",
        "print(a)\n",
        "print(s[55:68] + s[30:35] + \"?\" * 3)\n",
        "\n",
        "b = list(s[23:44])\n",
        "print(b)\n",
        "\n",
        "b = \"\".join(b)\n",
        "print(b)\n",
        "\n",
        "a = a.split()\n",
        "print(a)\n",
        "\n",
        "ab = (\" \".join(a) + \" \" + b + \".\").capitalize()\n",
        "print(ab)"
      ],
      "execution_count": 2,
      "outputs": [
        {
          "output_type": "stream",
          "text": [
            "An approximate answer to the right question is worth a great deal more than a precise answer to the wrong question.\n",
            "\n",
            "An approximate answer to the right question \n",
            "is worth a great deal more than \n",
            "a precise answer to the wrong question.\n",
            "\n",
            "a precise answer\n",
            "a great deal right???\n",
            "['t', 'o', ' ', 't', 'h', 'e', ' ', 'r', 'i', 'g', 'h', 't', ' ', 'q', 'u', 'e', 's', 't', 'i', 'o', 'n']\n",
            "to the right question\n",
            "['a', 'precise', 'answer']\n",
            "A precise answer to the right question.\n"
          ],
          "name": "stdout"
        }
      ]
    },
    {
      "cell_type": "code",
      "metadata": {
        "colab": {
          "base_uri": "https://localhost:8080/"
        },
        "id": "8PjWPu919MQ9",
        "outputId": "90169a20-26db-4680-97ee-c9e5304c3156"
      },
      "source": [
        "# Create a list of method names that only contain all alphanumeric characters using isalpha()\n",
        "c = dir(ab)\n",
        "ls = [c[x] for x in range(len(c)) if c[x].isalpha()]\n",
        "print(len(ls))"
      ],
      "execution_count": 4,
      "outputs": [
        {
          "output_type": "stream",
          "text": [
            "43\n"
          ],
          "name": "stdout"
        }
      ]
    },
    {
      "cell_type": "code",
      "metadata": {
        "colab": {
          "base_uri": "https://localhost:8080/",
          "height": 37
        },
        "id": "_rJZPjdS9bR8",
        "outputId": "e98f1fef-674f-41a5-ebef-b9b6d608258d"
      },
      "source": [
        "# Create test string\n",
        "c = s[35:46]\n",
        "c"
      ],
      "execution_count": 5,
      "outputs": [
        {
          "output_type": "execute_result",
          "data": {
            "application/vnd.google.colaboratory.intrinsic+json": {
              "type": "string"
            },
            "text/plain": [
              "' question \\n'"
            ]
          },
          "metadata": {
            "tags": []
          },
          "execution_count": 5
        }
      ]
    },
    {
      "cell_type": "code",
      "metadata": {
        "id": "RwKJuT399gpH"
      },
      "source": [
        "# Add white space padding using rjust() and ljust()\n",
        "c = c.rjust(30)\n",
        "c = c.ljust(10)"
      ],
      "execution_count": 6,
      "outputs": []
    },
    {
      "cell_type": "code",
      "metadata": {
        "colab": {
          "base_uri": "https://localhost:8080/",
          "height": 37
        },
        "id": "SVigXHnu9hdz",
        "outputId": "a2465b4f-c419-4f94-f997-a4887fa846c7"
      },
      "source": [
        "# Removing whitespace using rstrip() and lstrip() then both sides with strip()\n",
        "c.rstrip()\n",
        "c.lstrip()\n",
        "c.strip()"
      ],
      "execution_count": 7,
      "outputs": [
        {
          "output_type": "execute_result",
          "data": {
            "application/vnd.google.colaboratory.intrinsic+json": {
              "type": "string"
            },
            "text/plain": [
              "'question'"
            ]
          },
          "metadata": {
            "tags": []
          },
          "execution_count": 7
        }
      ]
    },
    {
      "cell_type": "code",
      "metadata": {
        "id": "aXWvSpTa9itg"
      },
      "source": [
        "# Changing letter case with upper(), lower(), title(), and swapcase()\n",
        "d = c.upper()\n",
        "e = d.lower()\n",
        "f = e.title()\n",
        "g = f.swapcase()"
      ],
      "execution_count": 8,
      "outputs": []
    },
    {
      "cell_type": "code",
      "metadata": {
        "colab": {
          "base_uri": "https://localhost:8080/"
        },
        "id": "2rUG0HDN9jwc",
        "outputId": "ce6634f8-cd37-421f-e6c4-32ddfcc3cd70"
      },
      "source": [
        "ls2 = [d, e, f, g]\n",
        "print(*ls2) # The \"*\" unpacks all values for printing"
      ],
      "execution_count": 9,
      "outputs": [
        {
          "output_type": "stream",
          "text": [
            "                    QUESTION \n",
            "                     question \n",
            "                     Question \n",
            "                     qUESTION \n",
            "\n"
          ],
          "name": "stdout"
        }
      ]
    },
    {
      "cell_type": "code",
      "metadata": {
        "colab": {
          "base_uri": "https://localhost:8080/"
        },
        "id": "PVMImWfB9k2L",
        "outputId": "92a755ac-701d-4aa5-c54e-daafe43569ca"
      },
      "source": [
        "# Using replace() to change instances of \"ion\" with nothing, this is case sensitive\n",
        "ls3 = [x.replace(\"ion\", \"\") for x in ls2]\n",
        "print(*ls3)"
      ],
      "execution_count": 10,
      "outputs": [
        {
          "output_type": "stream",
          "text": [
            "                    QUESTION \n",
            "                     quest \n",
            "                     Quest \n",
            "                     qUESTION \n",
            "\n"
          ],
          "name": "stdout"
        }
      ]
    },
    {
      "cell_type": "code",
      "metadata": {
        "colab": {
          "base_uri": "https://localhost:8080/",
          "height": 37
        },
        "id": "0aQmdDy19l7y",
        "outputId": "78dbd4b5-5d6c-4f2a-f6c0-61870dc03e82"
      },
      "source": [
        "# Chaining string methods without escaping\n",
        "d.rjust(10, \"=\").ljust(12, \"=\").lower().replace(\"ion\", \" for the holy grail\").replace(\" \", \"*\").title().rjust(29, \"|\").rjust(33, \"/\").rjust(34, \"0\").ljust(35, \">\")"
      ],
      "execution_count": 11,
      "outputs": [
        {
          "output_type": "execute_result",
          "data": {
            "application/vnd.google.colaboratory.intrinsic+json": {
              "type": "string"
            },
            "text/plain": [
              "'********************Quest*For*The*Holy*Grail*\\n'"
            ]
          },
          "metadata": {
            "tags": []
          },
          "execution_count": 11
        }
      ]
    },
    {
      "cell_type": "code",
      "metadata": {
        "colab": {
          "base_uri": "https://localhost:8080/",
          "height": 37
        },
        "id": "CJz03Ygu9nNL",
        "outputId": "792559b2-7aac-4af0-c58c-252fade08156"
      },
      "source": [
        "# Chaining string methods together with escaping\n",
        "d.rjust(10, \"=\")\\\n",
        ".ljust(12, \"=\")\\\n",
        ".lower()\\\n",
        ".replace(\"ion\", \" for the holy grail\")\\\n",
        ".replace(\" \", \"*\")\\\n",
        ".title()\\\n",
        ".rjust(29, \"|\")\\\n",
        ".rjust(33, \"/\")\\\n",
        ".rjust(34, \"0\")\\\n",
        ".ljust(35, \">\")"
      ],
      "execution_count": 12,
      "outputs": [
        {
          "output_type": "execute_result",
          "data": {
            "application/vnd.google.colaboratory.intrinsic+json": {
              "type": "string"
            },
            "text/plain": [
              "'********************Quest*For*The*Holy*Grail*\\n'"
            ]
          },
          "metadata": {
            "tags": []
          },
          "execution_count": 12
        }
      ]
    },
    {
      "cell_type": "code",
      "metadata": {
        "id": "TvelHybo9oeC"
      },
      "source": [
        "first = \"Monty\"\n",
        "last = \"Python\""
      ],
      "execution_count": 13,
      "outputs": []
    },
    {
      "cell_type": "code",
      "metadata": {
        "colab": {
          "base_uri": "https://localhost:8080/"
        },
        "id": "LW7l0rx49q69",
        "outputId": "97b9cc5e-144b-4263-e0a3-2b9a419d1807"
      },
      "source": [
        "# % operator\n",
        "print(\"Hello %s %s\" % (first, last))\n",
        "print(\"Hello %s %s\" % (first.upper(), last.swapcase()))"
      ],
      "execution_count": 14,
      "outputs": [
        {
          "output_type": "stream",
          "text": [
            "Hello Monty Python\n",
            "Hello MONTY pYTHON\n"
          ],
          "name": "stdout"
        }
      ]
    },
    {
      "cell_type": "code",
      "metadata": {
        "colab": {
          "base_uri": "https://localhost:8080/"
        },
        "id": "X0TlEqcP9rti",
        "outputId": "62640f62-61d3-490b-f369-4357c6dbb3d8"
      },
      "source": [
        "# format\n",
        "print(\"Look over there {}!\".format(first))\n",
        "print(\"Look over there {}!\".format([x.upper() for x in first]))"
      ],
      "execution_count": 15,
      "outputs": [
        {
          "output_type": "stream",
          "text": [
            "Look over there Monty!\n",
            "Look over there ['M', 'O', 'N', 'T', 'Y']!\n"
          ],
          "name": "stdout"
        }
      ]
    },
    {
      "cell_type": "code",
      "metadata": {
        "colab": {
          "base_uri": "https://localhost:8080/"
        },
        "id": "Y44qNsnf9tTk",
        "outputId": "6c4d428a-737d-41f0-f3a4-8ca01648a248"
      },
      "source": [
        "# f-strings\n",
        "print(f\"We meet at last Mr.{last}, {('Mua'+'Haha'*2)}!\")"
      ],
      "execution_count": 16,
      "outputs": [
        {
          "output_type": "stream",
          "text": [
            "We meet at last Mr.Python, MuaHahaHaha!\n"
          ],
          "name": "stdout"
        }
      ]
    }
  ]
}