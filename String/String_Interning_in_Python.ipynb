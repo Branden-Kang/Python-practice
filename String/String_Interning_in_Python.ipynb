{
  "nbformat": 4,
  "nbformat_minor": 0,
  "metadata": {
    "colab": {
      "name": "String Interning in Python.ipynb",
      "provenance": [],
      "authorship_tag": "ABX9TyNWHcIyKdbKkTtPkGSzECiY"
    },
    "kernelspec": {
      "name": "python3",
      "display_name": "Python 3"
    },
    "language_info": {
      "name": "python"
    }
  },
  "cells": [
    {
      "cell_type": "markdown",
      "metadata": {
        "id": "BzBmtPFmTQ5a"
      },
      "source": [
        "[Reference](https://medium.com/techtofreedom/string-interning-in-python-a-hidden-gem-that-makes-your-code-faster-9be71c7a5f3e)"
      ]
    },
    {
      "cell_type": "code",
      "metadata": {
        "colab": {
          "base_uri": "https://localhost:8080/"
        },
        "id": "IaIRyobyTOZp",
        "outputId": "66934529-c9e1-45a1-dae6-6af5efadfd67"
      },
      "source": [
        "a = \"Kang\"\n",
        "b = \"Kang\"\n",
        "a is b"
      ],
      "execution_count": 1,
      "outputs": [
        {
          "output_type": "execute_result",
          "data": {
            "text/plain": [
              "True"
            ]
          },
          "metadata": {
            "tags": []
          },
          "execution_count": 1
        }
      ]
    },
    {
      "cell_type": "code",
      "metadata": {
        "colab": {
          "base_uri": "https://localhost:8080/"
        },
        "id": "wctmbuzoTVCv",
        "outputId": "d897b396-888d-4e8e-d1aa-088fa0b2b1d0"
      },
      "source": [
        "c = \"Branden Kang\"\n",
        "d = \"Branden Kang\"\n",
        "c is d"
      ],
      "execution_count": 2,
      "outputs": [
        {
          "output_type": "execute_result",
          "data": {
            "text/plain": [
              "False"
            ]
          },
          "metadata": {
            "tags": []
          },
          "execution_count": 2
        }
      ]
    },
    {
      "cell_type": "code",
      "metadata": {
        "colab": {
          "base_uri": "https://localhost:8080/"
        },
        "id": "s2NyiJ2oTZrX",
        "outputId": "c8bd3941-aaca-4887-d78d-823e718c8b41"
      },
      "source": [
        "a = 'Y'*4096\n",
        "b = 'Y'*4096\n",
        "a is b"
      ],
      "execution_count": 3,
      "outputs": [
        {
          "output_type": "execute_result",
          "data": {
            "text/plain": [
              "True"
            ]
          },
          "metadata": {
            "tags": []
          },
          "execution_count": 3
        }
      ]
    },
    {
      "cell_type": "code",
      "metadata": {
        "colab": {
          "base_uri": "https://localhost:8080/"
        },
        "id": "rbbBIZZmVH_G",
        "outputId": "06520df6-4785-40c3-f630-a65f52b0b63d"
      },
      "source": [
        "c = 'Y'*4097\n",
        "d = 'Y'*4097\n",
        "c is d"
      ],
      "execution_count": 4,
      "outputs": [
        {
          "output_type": "execute_result",
          "data": {
            "text/plain": [
              "False"
            ]
          },
          "metadata": {
            "tags": []
          },
          "execution_count": 4
        }
      ]
    },
    {
      "cell_type": "code",
      "metadata": {
        "colab": {
          "base_uri": "https://localhost:8080/"
        },
        "id": "Ro3SewC3VKVw",
        "outputId": "bfd9f4b4-5549-47d8-cba7-9f035b3c305e"
      },
      "source": [
        "import sys\n",
        "c = sys.intern('Y'*4097)\n",
        "d = sys.intern('Y'*4097)\n",
        "c is d"
      ],
      "execution_count": 5,
      "outputs": [
        {
          "output_type": "execute_result",
          "data": {
            "text/plain": [
              "True"
            ]
          },
          "metadata": {
            "tags": []
          },
          "execution_count": 5
        }
      ]
    }
  ]
}