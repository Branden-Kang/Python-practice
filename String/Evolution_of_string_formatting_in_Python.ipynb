{
  "nbformat": 4,
  "nbformat_minor": 0,
  "metadata": {
    "colab": {
      "name": "Evolution of string formatting in Python.ipynb",
      "provenance": [],
      "authorship_tag": "ABX9TyOmWwIVbj3HvIo4T3TfdxQU"
    },
    "kernelspec": {
      "name": "python3",
      "display_name": "Python 3"
    }
  },
  "cells": [
    {
      "cell_type": "markdown",
      "metadata": {
        "id": "-z2g2sgls3zP"
      },
      "source": [
        "[Reference](https://medium.com/python-in-plain-english/evolution-of-string-formatting-in-python-68e20520076d)"
      ]
    },
    {
      "cell_type": "markdown",
      "metadata": {
        "id": "yHLlOvJss55u"
      },
      "source": [
        "# 1. Using % operator"
      ]
    },
    {
      "cell_type": "code",
      "metadata": {
        "id": "m3DIMbYjs1ry",
        "outputId": "23de39c8-10c9-4007-9032-387d554a8bfb",
        "colab": {
          "base_uri": "https://localhost:8080/"
        }
      },
      "source": [
        "print(\"Hello %s\" % \"programmer\")\n",
        "print(\"You have %d message\" % 1)\n",
        "print(\"Hello %s! You have %d message\" % (\"programmer\", 1))"
      ],
      "execution_count": 1,
      "outputs": [
        {
          "output_type": "stream",
          "text": [
            "Hello programmer\n",
            "You have 1 message\n",
            "Hello programmer! You have 1 message\n"
          ],
          "name": "stdout"
        }
      ]
    },
    {
      "cell_type": "markdown",
      "metadata": {
        "id": "d690PqBis8WY"
      },
      "source": [
        "# 2. Using new string formatting"
      ]
    },
    {
      "cell_type": "code",
      "metadata": {
        "id": "5cIHJpE4s7d4",
        "outputId": "b3d6be5e-dd98-4862-a558-62f5933ba137",
        "colab": {
          "base_uri": "https://localhost:8080/"
        }
      },
      "source": [
        "print(\"Hello {}\".format(\"programmer\"))\n",
        "print(\"You have {} message\".format(1))\n",
        "print(\"Hello {}! You have {} message\".format(\"programmer\", 1))\n",
        "print(\"The value is {:.2f}\".format(3.145677888))"
      ],
      "execution_count": 2,
      "outputs": [
        {
          "output_type": "stream",
          "text": [
            "Hello programmer\n",
            "You have 1 message\n",
            "Hello programmer! You have 1 message\n",
            "The value is 3.15\n"
          ],
          "name": "stdout"
        }
      ]
    },
    {
      "cell_type": "code",
      "metadata": {
        "id": "9tAZwkvPs-J3",
        "outputId": "877e931b-71cd-41d9-beb0-d6b093e9d783",
        "colab": {
          "base_uri": "https://localhost:8080/"
        }
      },
      "source": [
        "print(\" This is an {0} for {1} style string formatting \".format(\"example\",\"new\"))\n",
        "# Indices can be swapped as long as we swap the arguments\n",
        "print(\" This is an {1} for {0} style string formatting \".format(\"new\",\"example\"))\n",
        "# List unpacking can be used for string formatting\n",
        "print(\" {} comes before {} \".format(*'ab'))\n",
        "# Indices can be repeated\n",
        "print(\" Hello {0}! You are using {1} language. You are logged in as {0} \".format(\"programmer\",\"python\"))"
      ],
      "execution_count": 3,
      "outputs": [
        {
          "output_type": "stream",
          "text": [
            " This is an example for new style string formatting \n",
            " This is an example for new style string formatting \n",
            " a comes before b \n",
            " Hello programmer! You are using python language. You are logged in as programmer \n"
          ],
          "name": "stdout"
        }
      ]
    },
    {
      "cell_type": "code",
      "metadata": {
        "id": "K_WPxeFatAnu",
        "outputId": "794ca855-44dd-482b-f082-07bd49ba9efd",
        "colab": {
          "base_uri": "https://localhost:8080/"
        }
      },
      "source": [
        "print(\"The username is {username}. Email : {email}\".format(username=\"programmer\", email=\"programmer@python.com\"))\n",
        "\n",
        "# Here the variable names can be swapped instead of positions\n",
        "print(\"The username is {username}. Email : {email}\".format(email=\"programmer@python.com\", username=\"programmer\"))"
      ],
      "execution_count": 4,
      "outputs": [
        {
          "output_type": "stream",
          "text": [
            "The username is programmer. Email : programmer@python.com\n",
            "The username is programmer. Email : programmer@python.com\n"
          ],
          "name": "stdout"
        }
      ]
    },
    {
      "cell_type": "code",
      "metadata": {
        "id": "NQN49-j0tDM-",
        "outputId": "ad5edaf9-2013-4311-ca35-18ba30b88861",
        "colab": {
          "base_uri": "https://localhost:8080/"
        }
      },
      "source": [
        "# accessing dict items using new string formatting\n",
        "user_info = {\"name\": \"programmer\",\n",
        "             \"language\": \"python\"}\n",
        "\n",
        "print(\"username : {0[name]}, programming in {0[language]} \".format(user_info))"
      ],
      "execution_count": 5,
      "outputs": [
        {
          "output_type": "stream",
          "text": [
            "username : programmer, programming in python \n"
          ],
          "name": "stdout"
        }
      ]
    },
    {
      "cell_type": "markdown",
      "metadata": {
        "id": "4tj1VYLhtGIN"
      },
      "source": [
        "# 3. Template Strings"
      ]
    },
    {
      "cell_type": "code",
      "metadata": {
        "id": "MPOhgt-MtFFl",
        "outputId": "d222143e-9d62-4098-acc9-fe03e5f45ba8",
        "colab": {
          "base_uri": "https://localhost:8080/"
        }
      },
      "source": [
        "from string import Template\n",
        "\n",
        "s = \"$user is logged in as $role\"\n",
        "t = Template(s)\n",
        "new_string = t.substitute(user=\"Programmer\", role=\"administrator\")\n",
        "print(new_string)"
      ],
      "execution_count": 6,
      "outputs": [
        {
          "output_type": "stream",
          "text": [
            "Programmer is logged in as administrator\n"
          ],
          "name": "stdout"
        }
      ]
    },
    {
      "cell_type": "code",
      "metadata": {
        "id": "SH1eALiktHof",
        "outputId": "7185777b-7043-4e3a-fca1-418411cecfe6",
        "colab": {
          "base_uri": "https://localhost:8080/",
          "height": 392
        }
      },
      "source": [
        "from string import Template\n",
        "\n",
        "s = \"$user is logged in as $role\"\n",
        "t = Template(s)\n",
        "new_string = t.substitute(user=\"Programmer\")\n",
        "print(new_string)"
      ],
      "execution_count": 7,
      "outputs": [
        {
          "output_type": "error",
          "ename": "KeyError",
          "evalue": "ignored",
          "traceback": [
            "\u001b[0;31m---------------------------------------------------------------------------\u001b[0m",
            "\u001b[0;31mKeyError\u001b[0m                                  Traceback (most recent call last)",
            "\u001b[0;32m<ipython-input-7-75ae95f3f8ca>\u001b[0m in \u001b[0;36m<module>\u001b[0;34m()\u001b[0m\n\u001b[1;32m      3\u001b[0m \u001b[0ms\u001b[0m \u001b[0;34m=\u001b[0m \u001b[0;34m\"$user is logged in as $role\"\u001b[0m\u001b[0;34m\u001b[0m\u001b[0;34m\u001b[0m\u001b[0m\n\u001b[1;32m      4\u001b[0m \u001b[0mt\u001b[0m \u001b[0;34m=\u001b[0m \u001b[0mTemplate\u001b[0m\u001b[0;34m(\u001b[0m\u001b[0ms\u001b[0m\u001b[0;34m)\u001b[0m\u001b[0;34m\u001b[0m\u001b[0;34m\u001b[0m\u001b[0m\n\u001b[0;32m----> 5\u001b[0;31m \u001b[0mnew_string\u001b[0m \u001b[0;34m=\u001b[0m \u001b[0mt\u001b[0m\u001b[0;34m.\u001b[0m\u001b[0msubstitute\u001b[0m\u001b[0;34m(\u001b[0m\u001b[0muser\u001b[0m\u001b[0;34m=\u001b[0m\u001b[0;34m\"Programmer\"\u001b[0m\u001b[0;34m)\u001b[0m\u001b[0;34m\u001b[0m\u001b[0;34m\u001b[0m\u001b[0m\n\u001b[0m\u001b[1;32m      6\u001b[0m \u001b[0mprint\u001b[0m\u001b[0;34m(\u001b[0m\u001b[0mnew_string\u001b[0m\u001b[0;34m)\u001b[0m\u001b[0;34m\u001b[0m\u001b[0;34m\u001b[0m\u001b[0m\n",
            "\u001b[0;32m/usr/lib/python3.6/string.py\u001b[0m in \u001b[0;36msubstitute\u001b[0;34m(*args, **kws)\u001b[0m\n\u001b[1;32m    128\u001b[0m             raise ValueError('Unrecognized named group in pattern',\n\u001b[1;32m    129\u001b[0m                              self.pattern)\n\u001b[0;32m--> 130\u001b[0;31m         \u001b[0;32mreturn\u001b[0m \u001b[0mself\u001b[0m\u001b[0;34m.\u001b[0m\u001b[0mpattern\u001b[0m\u001b[0;34m.\u001b[0m\u001b[0msub\u001b[0m\u001b[0;34m(\u001b[0m\u001b[0mconvert\u001b[0m\u001b[0;34m,\u001b[0m \u001b[0mself\u001b[0m\u001b[0;34m.\u001b[0m\u001b[0mtemplate\u001b[0m\u001b[0;34m)\u001b[0m\u001b[0;34m\u001b[0m\u001b[0;34m\u001b[0m\u001b[0m\n\u001b[0m\u001b[1;32m    131\u001b[0m \u001b[0;34m\u001b[0m\u001b[0m\n\u001b[1;32m    132\u001b[0m     \u001b[0;32mdef\u001b[0m \u001b[0msafe_substitute\u001b[0m\u001b[0;34m(\u001b[0m\u001b[0;34m*\u001b[0m\u001b[0margs\u001b[0m\u001b[0;34m,\u001b[0m \u001b[0;34m**\u001b[0m\u001b[0mkws\u001b[0m\u001b[0;34m)\u001b[0m\u001b[0;34m:\u001b[0m\u001b[0;34m\u001b[0m\u001b[0;34m\u001b[0m\u001b[0m\n",
            "\u001b[0;32m/usr/lib/python3.6/string.py\u001b[0m in \u001b[0;36mconvert\u001b[0;34m(mo)\u001b[0m\n\u001b[1;32m    121\u001b[0m             \u001b[0mnamed\u001b[0m \u001b[0;34m=\u001b[0m \u001b[0mmo\u001b[0m\u001b[0;34m.\u001b[0m\u001b[0mgroup\u001b[0m\u001b[0;34m(\u001b[0m\u001b[0;34m'named'\u001b[0m\u001b[0;34m)\u001b[0m \u001b[0;32mor\u001b[0m \u001b[0mmo\u001b[0m\u001b[0;34m.\u001b[0m\u001b[0mgroup\u001b[0m\u001b[0;34m(\u001b[0m\u001b[0;34m'braced'\u001b[0m\u001b[0;34m)\u001b[0m\u001b[0;34m\u001b[0m\u001b[0;34m\u001b[0m\u001b[0m\n\u001b[1;32m    122\u001b[0m             \u001b[0;32mif\u001b[0m \u001b[0mnamed\u001b[0m \u001b[0;32mis\u001b[0m \u001b[0;32mnot\u001b[0m \u001b[0;32mNone\u001b[0m\u001b[0;34m:\u001b[0m\u001b[0;34m\u001b[0m\u001b[0;34m\u001b[0m\u001b[0m\n\u001b[0;32m--> 123\u001b[0;31m                 \u001b[0;32mreturn\u001b[0m \u001b[0mstr\u001b[0m\u001b[0;34m(\u001b[0m\u001b[0mmapping\u001b[0m\u001b[0;34m[\u001b[0m\u001b[0mnamed\u001b[0m\u001b[0;34m]\u001b[0m\u001b[0;34m)\u001b[0m\u001b[0;34m\u001b[0m\u001b[0;34m\u001b[0m\u001b[0m\n\u001b[0m\u001b[1;32m    124\u001b[0m             \u001b[0;32mif\u001b[0m \u001b[0mmo\u001b[0m\u001b[0;34m.\u001b[0m\u001b[0mgroup\u001b[0m\u001b[0;34m(\u001b[0m\u001b[0;34m'escaped'\u001b[0m\u001b[0;34m)\u001b[0m \u001b[0;32mis\u001b[0m \u001b[0;32mnot\u001b[0m \u001b[0;32mNone\u001b[0m\u001b[0;34m:\u001b[0m\u001b[0;34m\u001b[0m\u001b[0;34m\u001b[0m\u001b[0m\n\u001b[1;32m    125\u001b[0m                 \u001b[0;32mreturn\u001b[0m \u001b[0mself\u001b[0m\u001b[0;34m.\u001b[0m\u001b[0mdelimiter\u001b[0m\u001b[0;34m\u001b[0m\u001b[0;34m\u001b[0m\u001b[0m\n",
            "\u001b[0;31mKeyError\u001b[0m: 'role'"
          ]
        }
      ]
    },
    {
      "cell_type": "code",
      "metadata": {
        "id": "YBsm6yUztIyS",
        "outputId": "0e604498-d9c4-4622-ab1a-ea09fdab7a35",
        "colab": {
          "base_uri": "https://localhost:8080/"
        }
      },
      "source": [
        "from string import Template\n",
        "\n",
        "s = \"$user is logged in as $role\"\n",
        "t = Template(s)\n",
        "new_string = t.safe_substitute(user=\"Programmer\")\n",
        "print(new_string)"
      ],
      "execution_count": 8,
      "outputs": [
        {
          "output_type": "stream",
          "text": [
            "Programmer is logged in as $role\n"
          ],
          "name": "stdout"
        }
      ]
    },
    {
      "cell_type": "markdown",
      "metadata": {
        "id": "lEdihTKwtRN5"
      },
      "source": [
        "# 4. String Interpolations/F-Strings"
      ]
    },
    {
      "cell_type": "code",
      "metadata": {
        "id": "FEBdQf7CtJ_r",
        "outputId": "aa0b43bf-0918-4759-f868-472f95124728",
        "colab": {
          "base_uri": "https://localhost:8080/"
        }
      },
      "source": [
        "# This is a string literal\n",
        "username = \"programmer\"\n",
        "role = \"admin\"\n",
        "print(f\"{username} is logged in as {role}\")"
      ],
      "execution_count": 9,
      "outputs": [
        {
          "output_type": "stream",
          "text": [
            "programmer is logged in as admin\n"
          ],
          "name": "stdout"
        }
      ]
    },
    {
      "cell_type": "code",
      "metadata": {
        "id": "EaKotCfetYhv",
        "outputId": "ccfdd421-72b7-463b-a710-bc9f040e5324",
        "colab": {
          "base_uri": "https://localhost:8080/"
        }
      },
      "source": [
        "# This is an example for string operation\n",
        "username = \"programmer\"\n",
        "role = \"admin\"\n",
        "print(f\"{username.upper()} is logged in as {role.title()}\")"
      ],
      "execution_count": 10,
      "outputs": [
        {
          "output_type": "stream",
          "text": [
            "PROGRAMMER is logged in as Admin\n"
          ],
          "name": "stdout"
        }
      ]
    },
    {
      "cell_type": "code",
      "metadata": {
        "id": "89bWrYZUtZv7",
        "outputId": "66c9c81d-b018-4951-fc10-6ccdef146285",
        "colab": {
          "base_uri": "https://localhost:8080/"
        }
      },
      "source": [
        "# This is an example for mathematical expression\n",
        "n = 2\n",
        "print(f\" The square of {n} is {n*n}\")"
      ],
      "execution_count": 11,
      "outputs": [
        {
          "output_type": "stream",
          "text": [
            " The square of 2 is 4\n"
          ],
          "name": "stdout"
        }
      ]
    },
    {
      "cell_type": "markdown",
      "metadata": {
        "id": "B6jgurnNtbnV"
      },
      "source": [
        "# 5. New addition to f-strings in Python 3.8"
      ]
    },
    {
      "cell_type": "code",
      "metadata": {
        "id": "_svjNvfXta7i",
        "outputId": "49171c5b-9fd6-46d7-d841-4790dfbde57e",
        "colab": {
          "base_uri": "https://localhost:8080/"
        }
      },
      "source": [
        "response = {\"name\": \"John\",\n",
        "             \"role\": \"software engineer\"}\n",
        "print(f\" The GET response={response}\")"
      ],
      "execution_count": 16,
      "outputs": [
        {
          "output_type": "stream",
          "text": [
            " The GET response={'name': 'John', 'role': 'software engineer'}\n"
          ],
          "name": "stdout"
        }
      ]
    }
  ]
}