{
  "nbformat": 4,
  "nbformat_minor": 0,
  "metadata": {
    "colab": {
      "provenance": [],
      "authorship_tag": "ABX9TyOOmh/FYyaBqjAYsHSnoLWQ"
    },
    "kernelspec": {
      "name": "python3",
      "display_name": "Python 3"
    },
    "language_info": {
      "name": "python"
    }
  },
  "cells": [
    {
      "cell_type": "markdown",
      "source": [
        "[Reference](https://medium.com/techtofreedom/4-string-formatting-techniques-in-python-feel-the-evolution-a1b880e36466)"
      ],
      "metadata": {
        "id": "QDf_nz34EkwI"
      }
    },
    {
      "cell_type": "markdown",
      "source": [
        "# 0. C Style String Formatting with the “%” Operator"
      ],
      "metadata": {
        "id": "49Xnp4xyExJW"
      }
    },
    {
      "cell_type": "code",
      "execution_count": 1,
      "metadata": {
        "colab": {
          "base_uri": "https://localhost:8080/"
        },
        "id": "3AQCl8uaEX64",
        "outputId": "1fead87b-826c-40b0-9100-ab91daa1ebe2"
      },
      "outputs": [
        {
          "output_type": "stream",
          "name": "stdout",
          "text": [
            "Hi, Yang\n"
          ]
        }
      ],
      "source": [
        "name='Yang'\n",
        "print(\"Hi, %s\" %name)"
      ]
    },
    {
      "cell_type": "code",
      "source": [
        "protocol=7\n",
        "print(\"Hi, %03d\" %protocol)"
      ],
      "metadata": {
        "colab": {
          "base_uri": "https://localhost:8080/"
        },
        "id": "U7dWFJ5OEzUW",
        "outputId": "67eca3ca-ec78-40b2-f70f-8d8f19ab513d"
      },
      "execution_count": 2,
      "outputs": [
        {
          "output_type": "stream",
          "name": "stdout",
          "text": [
            "Hi, 007\n"
          ]
        }
      ]
    },
    {
      "cell_type": "markdown",
      "source": [
        "# 1. Using the Built-in Format Function"
      ],
      "metadata": {
        "id": "M4SjuHqrFKnG"
      }
    },
    {
      "cell_type": "code",
      "source": [
        "name='Yang'\n",
        "print(\"Hi, {}\".format(name))"
      ],
      "metadata": {
        "colab": {
          "base_uri": "https://localhost:8080/"
        },
        "id": "jbUu5c3aEzaT",
        "outputId": "845a58a5-1a6b-4060-d298-4d44b30c87b0"
      },
      "execution_count": 3,
      "outputs": [
        {
          "output_type": "stream",
          "name": "stdout",
          "text": [
            "Hi, Yang\n"
          ]
        }
      ]
    },
    {
      "cell_type": "code",
      "source": [
        "protocol=7\n",
        "print(\"Hi, {:03}\".format(protocol))"
      ],
      "metadata": {
        "colab": {
          "base_uri": "https://localhost:8080/"
        },
        "id": "qk30DiiwFMkb",
        "outputId": "12bcc6a0-6af0-4787-e7ed-45d6054aec91"
      },
      "execution_count": 4,
      "outputs": [
        {
          "output_type": "stream",
          "name": "stdout",
          "text": [
            "Hi, 007\n"
          ]
        }
      ]
    },
    {
      "cell_type": "code",
      "source": [
        "name='Yang'\n",
        "desc='amazing'\n",
        "print(\"Hi, {n}! You are {d}!\".format(n=name,d=desc))"
      ],
      "metadata": {
        "colab": {
          "base_uri": "https://localhost:8080/"
        },
        "id": "vOhJmLucFMq_",
        "outputId": "3cee9812-2b7b-4b8a-af2c-d58fb3644ca3"
      },
      "execution_count": 5,
      "outputs": [
        {
          "output_type": "stream",
          "name": "stdout",
          "text": [
            "Hi, Yang! You are amazing!\n"
          ]
        }
      ]
    },
    {
      "cell_type": "markdown",
      "source": [
        "# 2. Formatted String Literals: the F-Strings"
      ],
      "metadata": {
        "id": "xRC6UU0kFPKv"
      }
    },
    {
      "cell_type": "code",
      "source": [
        "name='Yang'\n",
        "desc='amazing'\n",
        "print(f\"Hi, {name}! You are {desc}!\")"
      ],
      "metadata": {
        "colab": {
          "base_uri": "https://localhost:8080/"
        },
        "id": "wC00OKq9FOcZ",
        "outputId": "b8d340bd-8d46-4188-dc6e-df9e2b59067f"
      },
      "execution_count": 6,
      "outputs": [
        {
          "output_type": "stream",
          "name": "stdout",
          "text": [
            "Hi, Yang! You are amazing!\n"
          ]
        }
      ]
    },
    {
      "cell_type": "code",
      "source": [
        "name='Yang'\n",
        "protocol=7\n",
        "print(f\"Hi, {name}! You are {protocol:03d}!\")"
      ],
      "metadata": {
        "colab": {
          "base_uri": "https://localhost:8080/"
        },
        "id": "1NuZOjtrFRmD",
        "outputId": "f0c66ccc-6258-4686-936c-c4d5d2727660"
      },
      "execution_count": 7,
      "outputs": [
        {
          "output_type": "stream",
          "name": "stdout",
          "text": [
            "Hi, Yang! You are 007!\n"
          ]
        }
      ]
    },
    {
      "cell_type": "code",
      "source": [
        "from datetime import datetime\n",
        "\n",
        "print(f\"Today is {datetime.today()}\")"
      ],
      "metadata": {
        "colab": {
          "base_uri": "https://localhost:8080/"
        },
        "id": "HsbsSFKuFRs5",
        "outputId": "0b4caa05-9aeb-4312-dda1-0d75fe395660"
      },
      "execution_count": 8,
      "outputs": [
        {
          "output_type": "stream",
          "name": "stdout",
          "text": [
            "Today is 2022-12-05 02:19:59.262572\n"
          ]
        }
      ]
    },
    {
      "cell_type": "markdown",
      "source": [
        "# 3. Template Strings: An Unpopular Way"
      ],
      "metadata": {
        "id": "7n-OpjhNFT9a"
      }
    },
    {
      "cell_type": "code",
      "source": [
        "from string import Template\n",
        "t = Template('Hi, $name!')\n",
        "print(t.substitute(name=\"Yang\"))"
      ],
      "metadata": {
        "colab": {
          "base_uri": "https://localhost:8080/"
        },
        "id": "zYK5ReCZFTJG",
        "outputId": "f7e22530-aa25-4994-bd41-8bb6c22721d4"
      },
      "execution_count": 9,
      "outputs": [
        {
          "output_type": "stream",
          "name": "stdout",
          "text": [
            "Hi, Yang!\n"
          ]
        }
      ]
    }
  ]
}
