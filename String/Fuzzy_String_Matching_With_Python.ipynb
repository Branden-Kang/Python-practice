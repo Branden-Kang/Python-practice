{
  "nbformat": 4,
  "nbformat_minor": 0,
  "metadata": {
    "colab": {
      "name": "Fuzzy String Matching With Python.ipynb",
      "provenance": [],
      "collapsed_sections": [],
      "authorship_tag": "ABX9TyOW5ZL2TFjBbtlroo3+b2TS"
    },
    "kernelspec": {
      "name": "python3",
      "display_name": "Python 3"
    }
  },
  "cells": [
    {
      "cell_type": "markdown",
      "metadata": {
        "id": "Kf-eiXZN1Kg4",
        "colab_type": "text"
      },
      "source": [
        "[Reference1](https://medium.com/better-programming/fuzzy-string-matching-with-python-cafeff0d29fe) <br>\n",
        "[Reference2](https://medium.com/better-programming/fuzzy-string-matching-with-python-cafeff0d29fe) <br>\n",
        "[Reference3](https://github.com/seatgeek/fuzzywuzzy)"
      ]
    },
    {
      "cell_type": "code",
      "metadata": {
        "id": "q_tqsQTz1IXX",
        "colab_type": "code",
        "colab": {
          "base_uri": "https://localhost:8080/",
          "height": 105
        },
        "outputId": "e2297530-e1c8-4aa6-9396-e2865ae34568"
      },
      "source": [
        "!pip install fuzzywuzzy"
      ],
      "execution_count": 1,
      "outputs": [
        {
          "output_type": "stream",
          "text": [
            "Collecting fuzzywuzzy\n",
            "  Downloading https://files.pythonhosted.org/packages/43/ff/74f23998ad2f93b945c0309f825be92e04e0348e062026998b5eefef4c33/fuzzywuzzy-0.18.0-py2.py3-none-any.whl\n",
            "Installing collected packages: fuzzywuzzy\n",
            "Successfully installed fuzzywuzzy-0.18.0\n"
          ],
          "name": "stdout"
        }
      ]
    },
    {
      "cell_type": "code",
      "metadata": {
        "id": "yexlqx1U1NQj",
        "colab_type": "code",
        "colab": {
          "base_uri": "https://localhost:8080/",
          "height": 71
        },
        "outputId": "b7bcde61-2f5c-4693-b751-472dc4cd8a5d"
      },
      "source": [
        "from fuzzywuzzy import process, fuzz"
      ],
      "execution_count": 2,
      "outputs": [
        {
          "output_type": "stream",
          "text": [
            "/usr/local/lib/python3.6/dist-packages/fuzzywuzzy/fuzz.py:11: UserWarning: Using slow pure-python SequenceMatcher. Install python-Levenshtein to remove this warning\n",
            "  warnings.warn('Using slow pure-python SequenceMatcher. Install python-Levenshtein to remove this warning')\n"
          ],
          "name": "stderr"
        }
      ]
    },
    {
      "cell_type": "markdown",
      "metadata": {
        "id": "EYATXKCw2q_8",
        "colab_type": "text"
      },
      "source": [
        "# Fuzzy Module"
      ]
    },
    {
      "cell_type": "markdown",
      "metadata": {
        "id": "VG7qhVu91Z0_",
        "colab_type": "text"
      },
      "source": [
        "# Simple ratio"
      ]
    },
    {
      "cell_type": "code",
      "metadata": {
        "id": "3fuxGeSS1Oo5",
        "colab_type": "code",
        "colab": {
          "base_uri": "https://localhost:8080/",
          "height": 34
        },
        "outputId": "676ca968-a67f-4ab1-e802-a24bd8780d5d"
      },
      "source": [
        "String_Matched = fuzz.ratio('Hello World', 'Hello World!')\n",
        "print(\"String Matched:\",String_Matched)"
      ],
      "execution_count": 3,
      "outputs": [
        {
          "output_type": "stream",
          "text": [
            "String Matched: 96\n"
          ],
          "name": "stdout"
        }
      ]
    },
    {
      "cell_type": "code",
      "metadata": {
        "id": "i0UaZvBE1VyU",
        "colab_type": "code",
        "colab": {
          "base_uri": "https://localhost:8080/",
          "height": 34
        },
        "outputId": "4eb730bc-37bf-48ef-a7dd-1725201f734e"
      },
      "source": [
        "String_Matched = fuzz.ratio('Hello World', 'Hello world')\n",
        "print(\"String Matched:\",String_Matched)"
      ],
      "execution_count": 4,
      "outputs": [
        {
          "output_type": "stream",
          "text": [
            "String Matched: 91\n"
          ],
          "name": "stdout"
        }
      ]
    },
    {
      "cell_type": "code",
      "metadata": {
        "id": "sqqL1PyR1WxJ",
        "colab_type": "code",
        "colab": {
          "base_uri": "https://localhost:8080/",
          "height": 34
        },
        "outputId": "fa08db4a-8b7b-49f0-cde0-96404044ff3c"
      },
      "source": [
        "String_Matched = fuzz.ratio('Hello world', 'Hello world')\n",
        "print(\"String Matched:\",String_Matched)"
      ],
      "execution_count": 5,
      "outputs": [
        {
          "output_type": "stream",
          "text": [
            "String Matched: 100\n"
          ],
          "name": "stdout"
        }
      ]
    },
    {
      "cell_type": "markdown",
      "metadata": {
        "id": "RNeWjm2_1dQ8",
        "colab_type": "text"
      },
      "source": [
        "# Partial ratio"
      ]
    },
    {
      "cell_type": "code",
      "metadata": {
        "id": "EsbNTKkN1YdV",
        "colab_type": "code",
        "colab": {
          "base_uri": "https://localhost:8080/",
          "height": 34
        },
        "outputId": "dc93dfae-9cc8-49ee-fef7-3944fea9ce75"
      },
      "source": [
        "Str_Partial_Match = fuzz.partial_ratio('Hello World', 'Hello World!')\n",
        "print(\"String Matched:\",Str_Partial_Match)"
      ],
      "execution_count": 6,
      "outputs": [
        {
          "output_type": "stream",
          "text": [
            "String Matched: 100\n"
          ],
          "name": "stdout"
        }
      ]
    },
    {
      "cell_type": "code",
      "metadata": {
        "id": "bqHPy-Xr1e2x",
        "colab_type": "code",
        "colab": {
          "base_uri": "https://localhost:8080/",
          "height": 34
        },
        "outputId": "54c0b99e-390d-4069-f447-2e626d94bd15"
      },
      "source": [
        "Str_Partial_Match = fuzz.partial_ratio('Hello World', 'Hello world')\n",
        "print(\"String Matched:\",Str_Partial_Match)"
      ],
      "execution_count": 7,
      "outputs": [
        {
          "output_type": "stream",
          "text": [
            "String Matched: 91\n"
          ],
          "name": "stdout"
        }
      ]
    },
    {
      "cell_type": "markdown",
      "metadata": {
        "id": "Kf5SiBbS2HBt",
        "colab_type": "text"
      },
      "source": [
        "# Token sort ratio"
      ]
    },
    {
      "cell_type": "code",
      "metadata": {
        "id": "yLGCqXQO18Vl",
        "colab_type": "code",
        "colab": {
          "base_uri": "https://localhost:8080/",
          "height": 34
        },
        "outputId": "f9327c63-d424-47d7-ef93-4a8435392084"
      },
      "source": [
        "Str_Sort_Match = fuzz.token_sort_ratio('Hello World', 'Hello wrld')\n",
        "print(\"String Matched:\",Str_Partial_Match)"
      ],
      "execution_count": 8,
      "outputs": [
        {
          "output_type": "stream",
          "text": [
            "String Matched: 91\n"
          ],
          "name": "stdout"
        }
      ]
    },
    {
      "cell_type": "code",
      "metadata": {
        "id": "_FNtUZKR2Im0",
        "colab_type": "code",
        "colab": {
          "base_uri": "https://localhost:8080/",
          "height": 34
        },
        "outputId": "039c485a-9eb3-43c8-e219-e39e7fe9f8ce"
      },
      "source": [
        "Str_Sort_Match = fuzz.token_sort_ratio('Hello World', 'world Hello')\n",
        "print(\"String Matched:\",Str_Partial_Match)"
      ],
      "execution_count": 9,
      "outputs": [
        {
          "output_type": "stream",
          "text": [
            "String Matched: 91\n"
          ],
          "name": "stdout"
        }
      ]
    },
    {
      "cell_type": "markdown",
      "metadata": {
        "id": "ysSf3QHc2MRb",
        "colab_type": "text"
      },
      "source": [
        "# Token set ratio"
      ]
    },
    {
      "cell_type": "code",
      "metadata": {
        "id": "98d_KGQJ2KgH",
        "colab_type": "code",
        "colab": {
          "base_uri": "https://localhost:8080/",
          "height": 34
        },
        "outputId": "9db19f88-8c60-4021-ed2a-180353974de7"
      },
      "source": [
        "String_Matched=fuzz.token_set_ratio('Hello World', 'Hello Hello world')\n",
        "print(String_Matched)"
      ],
      "execution_count": 10,
      "outputs": [
        {
          "output_type": "stream",
          "text": [
            "100\n"
          ],
          "name": "stdout"
        }
      ]
    },
    {
      "cell_type": "code",
      "metadata": {
        "id": "pjbWWZD32N2x",
        "colab_type": "code",
        "colab": {}
      },
      "source": [
        "Str1 = \"The supreme court case of Nixon vs The United States\"\n",
        "Str2 = \"Nixon v. United States\"\n",
        "Ratio = fuzz.ratio(Str1.lower(),Str2.lower())\n",
        "Partial_Ratio = fuzz.partial_ratio(Str1.lower(),Str2.lower())\n",
        "Token_Sort_Ratio = fuzz.token_sort_ratio(Str1,Str2)\n",
        "Token_Set_Ratio = fuzz.token_set_ratio(Str1,Str2)"
      ],
      "execution_count": 11,
      "outputs": []
    },
    {
      "cell_type": "code",
      "metadata": {
        "id": "pmuCAAxm2e_p",
        "colab_type": "code",
        "colab": {
          "base_uri": "https://localhost:8080/",
          "height": 34
        },
        "outputId": "808aaa0b-8f2c-4653-8988-a1f824b7ba6b"
      },
      "source": [
        "print(Ratio)"
      ],
      "execution_count": 12,
      "outputs": [
        {
          "output_type": "stream",
          "text": [
            "57\n"
          ],
          "name": "stdout"
        }
      ]
    },
    {
      "cell_type": "code",
      "metadata": {
        "id": "KNK9q5JQ2gxc",
        "colab_type": "code",
        "colab": {
          "base_uri": "https://localhost:8080/",
          "height": 34
        },
        "outputId": "b19a655a-df1e-4bc3-ebec-f1ce8d88220e"
      },
      "source": [
        "print(Partial_Ratio)"
      ],
      "execution_count": 13,
      "outputs": [
        {
          "output_type": "stream",
          "text": [
            "77\n"
          ],
          "name": "stdout"
        }
      ]
    },
    {
      "cell_type": "code",
      "metadata": {
        "id": "E3SEGukM2jY1",
        "colab_type": "code",
        "colab": {
          "base_uri": "https://localhost:8080/",
          "height": 34
        },
        "outputId": "5bb10324-c172-4d09-e451-8f0bdaac0c60"
      },
      "source": [
        "print(Token_Sort_Ratio)"
      ],
      "execution_count": 14,
      "outputs": [
        {
          "output_type": "stream",
          "text": [
            "58\n"
          ],
          "name": "stdout"
        }
      ]
    },
    {
      "cell_type": "code",
      "metadata": {
        "id": "GmaHM8Ai2lu7",
        "colab_type": "code",
        "colab": {
          "base_uri": "https://localhost:8080/",
          "height": 34
        },
        "outputId": "70c40e90-a866-414d-d248-793c1ecb11f7"
      },
      "source": [
        "print(Token_Set_Ratio)"
      ],
      "execution_count": 15,
      "outputs": [
        {
          "output_type": "stream",
          "text": [
            "95\n"
          ],
          "name": "stdout"
        }
      ]
    },
    {
      "cell_type": "markdown",
      "metadata": {
        "id": "2945hnEU2tgI",
        "colab_type": "text"
      },
      "source": [
        "# Process Module"
      ]
    },
    {
      "cell_type": "markdown",
      "metadata": {
        "id": "PjG6tgIp2uHZ",
        "colab_type": "text"
      },
      "source": [
        "# Extract"
      ]
    },
    {
      "cell_type": "code",
      "metadata": {
        "id": "L0DOIyrc2nwt",
        "colab_type": "code",
        "colab": {}
      },
      "source": [
        "str2Match = \"apple inc\"\n",
        "strOptions = [\"Apple Inc.\",\"apple park\",\"apple incorporated\",\"iphone\"]"
      ],
      "execution_count": 16,
      "outputs": []
    },
    {
      "cell_type": "code",
      "metadata": {
        "id": "iXyvWZ7S2wLo",
        "colab_type": "code",
        "colab": {
          "base_uri": "https://localhost:8080/",
          "height": 54
        },
        "outputId": "424e2b12-75dd-4903-9e71-2d653a3e0a25"
      },
      "source": [
        "Ratios = process.extract(str2Match,strOptions)\n",
        "print(Ratios)"
      ],
      "execution_count": 17,
      "outputs": [
        {
          "output_type": "stream",
          "text": [
            "[('Apple Inc.', 100), ('apple incorporated', 90), ('apple park', 67), ('iphone', 40)]\n"
          ],
          "name": "stdout"
        }
      ]
    },
    {
      "cell_type": "markdown",
      "metadata": {
        "id": "EyMQZJWA2zOB",
        "colab_type": "text"
      },
      "source": [
        "# Extract one"
      ]
    },
    {
      "cell_type": "code",
      "metadata": {
        "id": "aQp7RSuV2xfY",
        "colab_type": "code",
        "colab": {
          "base_uri": "https://localhost:8080/",
          "height": 34
        },
        "outputId": "f412a722-acd3-4fc0-b38f-bafde5081421"
      },
      "source": [
        "Ratios = process.extractOne(str2Match,strOptions)\n",
        "print(Ratios)"
      ],
      "execution_count": 18,
      "outputs": [
        {
          "output_type": "stream",
          "text": [
            "('Apple Inc.', 100)\n"
          ],
          "name": "stdout"
        }
      ]
    }
  ]
}