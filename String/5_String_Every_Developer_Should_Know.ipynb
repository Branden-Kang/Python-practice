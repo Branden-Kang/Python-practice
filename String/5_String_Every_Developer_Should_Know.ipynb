{
  "nbformat": 4,
  "nbformat_minor": 0,
  "metadata": {
    "colab": {
      "provenance": [],
      "authorship_tag": "ABX9TyN4Vyif+LBOjbcEDyO1D57r"
    },
    "kernelspec": {
      "name": "python3",
      "display_name": "Python 3"
    },
    "language_info": {
      "name": "python"
    }
  },
  "cells": [
    {
      "cell_type": "markdown",
      "source": [
        "[Reference](https://medium.com/pythoneers/5-string-every-developer-should-know-00b94b3e7871)"
      ],
      "metadata": {
        "id": "c1WPPBL2O_2b"
      }
    },
    {
      "cell_type": "markdown",
      "source": [
        "# 1. Approximate String Matching with fuzzywuzzy"
      ],
      "metadata": {
        "id": "Nk1PX8bZPCJD"
      }
    },
    {
      "cell_type": "code",
      "source": [
        "!pip install fuzzywuzzy"
      ],
      "metadata": {
        "colab": {
          "base_uri": "https://localhost:8080/"
        },
        "id": "k3piraa3PFln",
        "outputId": "3220176b-016f-46db-f82d-fcaf206f3a17"
      },
      "execution_count": 2,
      "outputs": [
        {
          "output_type": "stream",
          "name": "stdout",
          "text": [
            "Collecting fuzzywuzzy\n",
            "  Downloading fuzzywuzzy-0.18.0-py2.py3-none-any.whl.metadata (4.9 kB)\n",
            "Downloading fuzzywuzzy-0.18.0-py2.py3-none-any.whl (18 kB)\n",
            "Installing collected packages: fuzzywuzzy\n",
            "Successfully installed fuzzywuzzy-0.18.0\n"
          ]
        }
      ]
    },
    {
      "cell_type": "code",
      "execution_count": 3,
      "metadata": {
        "colab": {
          "base_uri": "https://localhost:8080/"
        },
        "id": "rVE0yMwzO9tN",
        "outputId": "95edbde3-77b2-48f6-b715-8a565643dc33"
      },
      "outputs": [
        {
          "output_type": "stream",
          "name": "stdout",
          "text": [
            "80\n"
          ]
        },
        {
          "output_type": "stream",
          "name": "stderr",
          "text": [
            "/usr/local/lib/python3.12/dist-packages/fuzzywuzzy/fuzz.py:11: UserWarning: Using slow pure-python SequenceMatcher. Install python-Levenshtein to remove this warning\n",
            "  warnings.warn('Using slow pure-python SequenceMatcher. Install python-Levenshtein to remove this warning')\n"
          ]
        }
      ],
      "source": [
        "from fuzzywuzzy import fuzz\n",
        "print(fuzz.ratio(\"apple\", \"axple\"))  # similarity score"
      ]
    },
    {
      "cell_type": "markdown",
      "source": [
        "# 2. Clean Multiline Strings with textwrap.dedent"
      ],
      "metadata": {
        "id": "w7RyjHHYPEHy"
      }
    },
    {
      "cell_type": "code",
      "source": [
        "import textwrap\n",
        "text = \"\"\"\n",
        "    Hello,\n",
        "        World!\n",
        "\"\"\"\n",
        "print(textwrap.dedent(text))"
      ],
      "metadata": {
        "colab": {
          "base_uri": "https://localhost:8080/"
        },
        "id": "mJOoP9ngPDG0",
        "outputId": "0edbc419-e7fd-4f17-9995-a06b94baec21"
      },
      "execution_count": 4,
      "outputs": [
        {
          "output_type": "stream",
          "name": "stdout",
          "text": [
            "\n",
            "Hello,\n",
            "    World!\n",
            "\n"
          ]
        }
      ]
    },
    {
      "cell_type": "markdown",
      "source": [
        "# 3. Auto-Joining Strings Inside Brackets\n"
      ],
      "metadata": {
        "id": "8trYZ7mcPInl"
      }
    },
    {
      "cell_type": "code",
      "source": [
        "message = (\n",
        "    \"Hello, \"\n",
        "    \"World!\"\n",
        ")\n",
        "print(message)  # Hello, World"
      ],
      "metadata": {
        "colab": {
          "base_uri": "https://localhost:8080/"
        },
        "id": "zlmCPuNJPHZy",
        "outputId": "77040adb-4904-4896-c8a9-655d5d1b3d2c"
      },
      "execution_count": 5,
      "outputs": [
        {
          "output_type": "stream",
          "name": "stdout",
          "text": [
            "Hello, World!\n"
          ]
        }
      ]
    },
    {
      "cell_type": "markdown",
      "source": [
        "# 4. .partition() vs .split()"
      ],
      "metadata": {
        "id": "AwYXRlaWPPzU"
      }
    },
    {
      "cell_type": "code",
      "source": [
        "\"Hello World\".split(\" \")\n",
        "# ['Hello', 'World']\n",
        "\"Hello World\".partition(\" \")\n",
        "# ('Hello', ' ', 'World')"
      ],
      "metadata": {
        "colab": {
          "base_uri": "https://localhost:8080/"
        },
        "id": "DufkwTiZPJ4D",
        "outputId": "b964aa29-901a-4fa6-9e11-83e9cf015688"
      },
      "execution_count": 6,
      "outputs": [
        {
          "output_type": "execute_result",
          "data": {
            "text/plain": [
              "('Hello', ' ', 'World')"
            ]
          },
          "metadata": {},
          "execution_count": 6
        }
      ]
    },
    {
      "cell_type": "markdown",
      "source": [
        "# 5. Built-in Boolean String Methods"
      ],
      "metadata": {
        "id": "ZcohB1qVPVmX"
      }
    },
    {
      "cell_type": "markdown",
      "source": [
        "```\n",
        "word.startswith(\"Hello\")\n",
        "word.endswith(\"!\")\n",
        "word.isdigit()\n",
        "```"
      ],
      "metadata": {
        "id": "U2ASruf5PZeb"
      }
    }
  ]
}
