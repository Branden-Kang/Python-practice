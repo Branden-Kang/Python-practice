{
  "nbformat": 4,
  "nbformat_minor": 0,
  "metadata": {
    "colab": {
      "provenance": [],
      "authorship_tag": "ABX9TyObtH5wA9iffq7ahsBfdSfI"
    },
    "kernelspec": {
      "name": "python3",
      "display_name": "Python 3"
    },
    "language_info": {
      "name": "python"
    }
  },
  "cells": [
    {
      "cell_type": "markdown",
      "source": [
        "[Reference](https://towardsdev.com/python-string-encode-decode-5f159294cd33)"
      ],
      "metadata": {
        "id": "8f3-GoEJx72I"
      }
    },
    {
      "cell_type": "code",
      "execution_count": 1,
      "metadata": {
        "colab": {
          "base_uri": "https://localhost:8080/"
        },
        "id": "5QjG9KQPxsX-",
        "outputId": "12b42186-8a1c-49a2-994b-b94c99228a3c"
      },
      "outputs": [
        {
          "output_type": "stream",
          "name": "stdout",
          "text": [
            "Encoded String:b'This is encoding and decoding example'\n"
          ]
        }
      ],
      "source": [
        "str = \"This is encoding and decoding example\"\n",
        "bytes_encoded = str.encode(encoding='UTF-8',errors='strict')\n",
        "print(f\"Encoded String:{bytes_encoded}\")"
      ]
    },
    {
      "cell_type": "code",
      "source": [
        "str_decoded = bytes_encoded.decode()\n",
        "print(type(str_decoded))\n",
        "print('Encoded bytes =', bytes_encoded)\n",
        "print('Decoded String =', str_decoded)\n",
        "str==str_decoded"
      ],
      "metadata": {
        "colab": {
          "base_uri": "https://localhost:8080/"
        },
        "id": "oSJL9V7rxzIr",
        "outputId": "36704148-6692-4081-ebba-7d977b4608a2"
      },
      "execution_count": 2,
      "outputs": [
        {
          "output_type": "stream",
          "name": "stdout",
          "text": [
            "<class 'str'>\n",
            "Encoded bytes = b'This is encoding and decoding example'\n",
            "Decoded String = This is encoding and decoding example\n"
          ]
        },
        {
          "output_type": "execute_result",
          "data": {
            "text/plain": [
              "True"
            ]
          },
          "metadata": {},
          "execution_count": 2
        }
      ]
    }
  ]
}
