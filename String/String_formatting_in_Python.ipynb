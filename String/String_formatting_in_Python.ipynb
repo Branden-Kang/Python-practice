{
  "nbformat": 4,
  "nbformat_minor": 0,
  "metadata": {
    "colab": {
      "provenance": [],
      "authorship_tag": "ABX9TyNCO4om3Lwvqbq/Cf0ey6B4"
    },
    "kernelspec": {
      "name": "python3",
      "display_name": "Python 3"
    },
    "language_info": {
      "name": "python"
    }
  },
  "cells": [
    {
      "cell_type": "markdown",
      "source": [
        "[Reference](https://medium.com/@23saini/string-formatting-in-python-e7a98aaeeef7)"
      ],
      "metadata": {
        "id": "aGkHJcGxySuG"
      }
    },
    {
      "cell_type": "code",
      "execution_count": 1,
      "metadata": {
        "colab": {
          "base_uri": "https://localhost:8080/"
        },
        "id": "XDc-6faKyC-q",
        "outputId": "4bf07e08-5818-4479-a1f9-91849c2b8875"
      },
      "outputs": [
        {
          "output_type": "stream",
          "name": "stdout",
          "text": [
            "My name is Alice and I'm 25 years old.\n"
          ]
        }
      ],
      "source": [
        "name = \"Alice\"\n",
        "age = 25\n",
        "message = \"My name is {} and I'm {} years old.\".format(name, age)\n",
        "print(message)"
      ]
    },
    {
      "cell_type": "code",
      "source": [
        "fruit1 = \"apple\"\n",
        "fruit2 = \"banana\"\n",
        "sentence = \"I like {1} and {0}.\".format(fruit1, fruit2)\n",
        "print(sentence)"
      ],
      "metadata": {
        "colab": {
          "base_uri": "https://localhost:8080/"
        },
        "id": "vt4QS_kdyVjo",
        "outputId": "1d95dea3-327b-4ff5-adce-97dd1f464a04"
      },
      "execution_count": 3,
      "outputs": [
        {
          "output_type": "stream",
          "name": "stdout",
          "text": [
            "I like banana and apple.\n"
          ]
        }
      ]
    },
    {
      "cell_type": "code",
      "source": [
        "quantity = 3\n",
        "item = \"books\"\n",
        "order = \"I want to buy {quantity} {item}.\".format(quantity=quantity, item=item)\n",
        "print(order)"
      ],
      "metadata": {
        "colab": {
          "base_uri": "https://localhost:8080/"
        },
        "id": "rA4p7nGHyXN5",
        "outputId": "98098cd8-5203-48ec-db60-bf7dbe23d0be"
      },
      "execution_count": 4,
      "outputs": [
        {
          "output_type": "stream",
          "name": "stdout",
          "text": [
            "I want to buy 3 books.\n"
          ]
        }
      ]
    },
    {
      "cell_type": "code",
      "source": [
        "price = 19.99\n",
        "item = \"book\"\n",
        "receipt = \"Item: {item}\\nPrice: ${price:.2f}\".format(item=item, price=price)\n",
        "print(receipt)"
      ],
      "metadata": {
        "colab": {
          "base_uri": "https://localhost:8080/"
        },
        "id": "4B8_n_PSydTi",
        "outputId": "43036f4b-30b4-443a-8c57-af94a55b396d"
      },
      "execution_count": 5,
      "outputs": [
        {
          "output_type": "stream",
          "name": "stdout",
          "text": [
            "Item: book\n",
            "Price: $19.99\n"
          ]
        }
      ]
    }
  ]
}
