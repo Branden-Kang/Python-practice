{
  "nbformat": 4,
  "nbformat_minor": 0,
  "metadata": {
    "colab": {
      "name": "Strings Cheat Sheet 2021.ipynb",
      "provenance": [],
      "authorship_tag": "ABX9TyO38YSfrhlJHHiXxJvATPJs"
    },
    "kernelspec": {
      "name": "python3",
      "display_name": "Python 3"
    },
    "language_info": {
      "name": "python"
    }
  },
  "cells": [
    {
      "cell_type": "markdown",
      "metadata": {
        "id": "fVZ6CpMnx_XM"
      },
      "source": [
        "[Reference](https://liu-111.medium.com/python-programming-language-strings-cheat-sheet-2021-4fb88eec11a8)"
      ]
    },
    {
      "cell_type": "code",
      "metadata": {
        "colab": {
          "base_uri": "https://localhost:8080/"
        },
        "id": "QfH9cb57wkEA",
        "outputId": "c1bcdf08-76f5-4fc4-f290-90d4be9d602a"
      },
      "source": [
        "print('String')"
      ],
      "execution_count": 1,
      "outputs": [
        {
          "output_type": "stream",
          "text": [
            "String\n"
          ],
          "name": "stdout"
        }
      ]
    },
    {
      "cell_type": "code",
      "metadata": {
        "colab": {
          "base_uri": "https://localhost:8080/"
        },
        "id": "b10ashiuyC0_",
        "outputId": "41b37260-071f-4157-9a44-968414ae9fd1"
      },
      "source": [
        "stringVariable = 'String'\n",
        "print(len(stringVariable))"
      ],
      "execution_count": 2,
      "outputs": [
        {
          "output_type": "stream",
          "text": [
            "6\n"
          ],
          "name": "stdout"
        }
      ]
    },
    {
      "cell_type": "code",
      "metadata": {
        "colab": {
          "base_uri": "https://localhost:8080/"
        },
        "id": "R5j6U0zNyE91",
        "outputId": "5e5de9a4-fe91-42ec-afa2-e820f55beed4"
      },
      "source": [
        "stringVariable = ' String '\n",
        "print(stringVariable.strip())"
      ],
      "execution_count": 3,
      "outputs": [
        {
          "output_type": "stream",
          "text": [
            "String\n"
          ],
          "name": "stdout"
        }
      ]
    },
    {
      "cell_type": "code",
      "metadata": {
        "colab": {
          "base_uri": "https://localhost:8080/"
        },
        "id": "Q_ArdAM8yIpM",
        "outputId": "d22401d8-dad9-4533-fa36-5e9bda1515fd"
      },
      "source": [
        "stringVariable = 'String'\n",
        "print(stringVariable.upper())"
      ],
      "execution_count": 4,
      "outputs": [
        {
          "output_type": "stream",
          "text": [
            "STRING\n"
          ],
          "name": "stdout"
        }
      ]
    },
    {
      "cell_type": "code",
      "metadata": {
        "colab": {
          "base_uri": "https://localhost:8080/"
        },
        "id": "QQrCqNaFyKrL",
        "outputId": "cd9b5906-6116-481a-cfef-9acbe601f9a2"
      },
      "source": [
        "stringVariable = 'String'\n",
        "print(stringVariable.lower())"
      ],
      "execution_count": 5,
      "outputs": [
        {
          "output_type": "stream",
          "text": [
            "string\n"
          ],
          "name": "stdout"
        }
      ]
    },
    {
      "cell_type": "code",
      "metadata": {
        "colab": {
          "base_uri": "https://localhost:8080/"
        },
        "id": "v55OUKaOyMkU",
        "outputId": "996537c7-5422-40a0-bad3-e35df071a999"
      },
      "source": [
        "stringVariable = 'String'\n",
        "print(stringVariable.replace('S', 'Q'))"
      ],
      "execution_count": 6,
      "outputs": [
        {
          "output_type": "stream",
          "text": [
            "Qtring\n"
          ],
          "name": "stdout"
        }
      ]
    },
    {
      "cell_type": "code",
      "metadata": {
        "colab": {
          "base_uri": "https://localhost:8080/"
        },
        "id": "30FpegACyOtj",
        "outputId": "091a048f-e945-4397-93c2-49910fb887bb"
      },
      "source": [
        "stringVariable = 'string'\n",
        "print(stringVariable.capitalize())"
      ],
      "execution_count": 7,
      "outputs": [
        {
          "output_type": "stream",
          "text": [
            "String\n"
          ],
          "name": "stdout"
        }
      ]
    },
    {
      "cell_type": "code",
      "metadata": {
        "colab": {
          "base_uri": "https://localhost:8080/"
        },
        "id": "Qoy3NJNPyQMw",
        "outputId": "8e11bd6d-75ba-49e1-fdb0-f8b81da6d506"
      },
      "source": [
        "stringVariable = '''This\n",
        "is\n",
        "a\n",
        "string'''\n",
        "print(stringVariable)"
      ],
      "execution_count": 8,
      "outputs": [
        {
          "output_type": "stream",
          "text": [
            "This\n",
            "is\n",
            "a\n",
            "string\n"
          ],
          "name": "stdout"
        }
      ]
    },
    {
      "cell_type": "code",
      "metadata": {
        "colab": {
          "base_uri": "https://localhost:8080/"
        },
        "id": "774OofevyRXO",
        "outputId": "c111d94b-e5de-42a7-94d9-e7f80ba37166"
      },
      "source": [
        "variable1 = 'String'\n",
        "variable2 = 'Variable'\n",
        "variable3 = variable1 + variable2\n",
        "print(variable3)"
      ],
      "execution_count": 9,
      "outputs": [
        {
          "output_type": "stream",
          "text": [
            "StringVariable\n"
          ],
          "name": "stdout"
        }
      ]
    },
    {
      "cell_type": "code",
      "metadata": {
        "colab": {
          "base_uri": "https://localhost:8080/"
        },
        "id": "vnqmo3d3yT5H",
        "outputId": "f0b313ec-48c2-4f8c-ad44-065f3204787e"
      },
      "source": [
        "variable1 = 'String'\n",
        "variable2 = 'Variable'\n",
        "variable3 = variable1 + ' ' + variable2\n",
        "print(variable3)"
      ],
      "execution_count": 10,
      "outputs": [
        {
          "output_type": "stream",
          "text": [
            "String Variable\n"
          ],
          "name": "stdout"
        }
      ]
    },
    {
      "cell_type": "code",
      "metadata": {
        "colab": {
          "base_uri": "https://localhost:8080/"
        },
        "id": "pQgmiIVpyVgc",
        "outputId": "0f9a8869-6896-471c-f3f6-7b4b44732ab2"
      },
      "source": [
        "stringVariable = 'I am {} years old'\n",
        "age = 27\n",
        "print(stringVariable.format(age))"
      ],
      "execution_count": 11,
      "outputs": [
        {
          "output_type": "stream",
          "text": [
            "I am 27 years old\n"
          ],
          "name": "stdout"
        }
      ]
    },
    {
      "cell_type": "code",
      "metadata": {
        "colab": {
          "base_uri": "https://localhost:8080/"
        },
        "id": "j1FIPUvCyXrZ",
        "outputId": "98936206-5bad-4bf4-e144-c5c09449986b"
      },
      "source": [
        "stringVariable = 'I am {0} years old and I have {1} dollars in my pocket'\n",
        "age = 19\n",
        "cash = 65\n",
        "print(stringVariable.format(age, cash))"
      ],
      "execution_count": 12,
      "outputs": [
        {
          "output_type": "stream",
          "text": [
            "I am 19 years old and I have 65 dollars in my pocket\n"
          ],
          "name": "stdout"
        }
      ]
    },
    {
      "cell_type": "code",
      "metadata": {
        "colab": {
          "base_uri": "https://localhost:8080/"
        },
        "id": "MoYzFPSAyZZi",
        "outputId": "cf62276e-5417-4150-88f5-57597fe0507a"
      },
      "source": [
        "stringVariable = 'I am {0} years old and I have {1} dollars in my pocket'\n",
        "age = 19\n",
        "cash = 65\n",
        "print(stringVariable.format(cash, age))"
      ],
      "execution_count": 13,
      "outputs": [
        {
          "output_type": "stream",
          "text": [
            "I am 65 years old and I have 19 dollars in my pocket\n"
          ],
          "name": "stdout"
        }
      ]
    },
    {
      "cell_type": "code",
      "metadata": {
        "colab": {
          "base_uri": "https://localhost:8080/"
        },
        "id": "zpZyicIrybtS",
        "outputId": "bf7c510e-fa4a-4f73-f96d-666c6a78854f"
      },
      "source": [
        "stringVariable = 'String'\n",
        "print(stringVariable[0])"
      ],
      "execution_count": 14,
      "outputs": [
        {
          "output_type": "stream",
          "text": [
            "S\n"
          ],
          "name": "stdout"
        }
      ]
    },
    {
      "cell_type": "code",
      "metadata": {
        "colab": {
          "base_uri": "https://localhost:8080/"
        },
        "id": "I_KQObNlyeAG",
        "outputId": "8a907fd1-41a1-438e-fa6c-44c54fba2c5e"
      },
      "source": [
        "stringVariable = 'String'\n",
        "print(stringVariable[1:3])"
      ],
      "execution_count": 15,
      "outputs": [
        {
          "output_type": "stream",
          "text": [
            "tr\n"
          ],
          "name": "stdout"
        }
      ]
    },
    {
      "cell_type": "code",
      "metadata": {
        "colab": {
          "base_uri": "https://localhost:8080/"
        },
        "id": "wh4xVim_yfBP",
        "outputId": "10ee849a-1b1c-4fc9-fa7a-40be1155c976"
      },
      "source": [
        "stringVariable = 'String'\n",
        "print(stringVariable[:3])"
      ],
      "execution_count": 16,
      "outputs": [
        {
          "output_type": "stream",
          "text": [
            "Str\n"
          ],
          "name": "stdout"
        }
      ]
    },
    {
      "cell_type": "code",
      "metadata": {
        "colab": {
          "base_uri": "https://localhost:8080/"
        },
        "id": "bIh3ZjGryghZ",
        "outputId": "7419c5f5-2887-4f9d-fd56-3a910938b692"
      },
      "source": [
        "stringVariable = 'String'\n",
        "print(stringVariable[3:])"
      ],
      "execution_count": 17,
      "outputs": [
        {
          "output_type": "stream",
          "text": [
            "ing\n"
          ],
          "name": "stdout"
        }
      ]
    },
    {
      "cell_type": "code",
      "metadata": {
        "colab": {
          "base_uri": "https://localhost:8080/"
        },
        "id": "FBUMnVLqyhju",
        "outputId": "8d367833-9ad0-4210-cafd-b5c6a672f146"
      },
      "source": [
        "stringVariable = 'String'\n",
        "for i in stringVariable:\n",
        "    print(i)"
      ],
      "execution_count": 18,
      "outputs": [
        {
          "output_type": "stream",
          "text": [
            "S\n",
            "t\n",
            "r\n",
            "i\n",
            "n\n",
            "g\n"
          ],
          "name": "stdout"
        }
      ]
    },
    {
      "cell_type": "code",
      "metadata": {
        "id": "9vmDknvyyjIv",
        "outputId": "4b8dadb3-3217-4036-cdd8-21e184bbce58",
        "colab": {
          "base_uri": "https://localhost:8080/"
        }
      },
      "source": [
        "stringVariable = 'This is a string'\n",
        "if 'string' in stringVariable:\n",
        "    print('string')"
      ],
      "execution_count": 19,
      "outputs": [
        {
          "output_type": "stream",
          "text": [
            "string\n"
          ],
          "name": "stdout"
        }
      ]
    }
  ]
}