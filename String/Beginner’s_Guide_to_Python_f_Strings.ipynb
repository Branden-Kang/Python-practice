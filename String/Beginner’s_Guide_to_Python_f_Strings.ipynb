{
  "nbformat": 4,
  "nbformat_minor": 0,
  "metadata": {
    "colab": {
      "name": "Beginner’s Guide to Python f-Strings.ipynb",
      "provenance": [],
      "authorship_tag": "ABX9TyPyADQVuULHf08QcggSr5Wv"
    },
    "kernelspec": {
      "name": "python3",
      "display_name": "Python 3"
    }
  },
  "cells": [
    {
      "cell_type": "markdown",
      "metadata": {
        "id": "ImLM6qAIvmWu"
      },
      "source": [
        "[Reference](https://python.plainenglish.io/beginners-guide-to-f-strings-b44d17e9911b)"
      ]
    },
    {
      "cell_type": "code",
      "metadata": {
        "colab": {
          "base_uri": "https://localhost:8080/"
        },
        "id": "T1ehPR3hvj5H",
        "outputId": "bcce4d50-6b0c-4bdd-8f98-fe2b2beb6397"
      },
      "source": [
        "name = 'Adhyantini'\n",
        "print('My name is %s! ' %name)"
      ],
      "execution_count": 2,
      "outputs": [
        {
          "output_type": "stream",
          "text": [
            "My name is Adhyantini! \n"
          ],
          "name": "stdout"
        }
      ]
    },
    {
      "cell_type": "code",
      "metadata": {
        "colab": {
          "base_uri": "https://localhost:8080/"
        },
        "id": "9k3DhuYavp24",
        "outputId": "98e583c1-3021-483c-f4f4-7086b202a219"
      },
      "source": [
        "first_name = 'Adhyantini'\n",
        "last_name = 'Bogawat'\n",
        "age = 22\n",
        "profession = 'Engineer'\n",
        "print('My name is %s %s and I am %s years old. I am an %s.' %(first_name, last_name, age, profession))"
      ],
      "execution_count": 3,
      "outputs": [
        {
          "output_type": "stream",
          "text": [
            "My name is Adhyantini Bogawat and I am 22 years old. I am an Engineer.\n"
          ],
          "name": "stdout"
        }
      ]
    },
    {
      "cell_type": "code",
      "metadata": {
        "colab": {
          "base_uri": "https://localhost:8080/"
        },
        "id": "fBB9fJTYv1wB",
        "outputId": "749b25ac-31ef-4a8a-ff2a-baa404f7a06f"
      },
      "source": [
        "name = 'Adhyantini'\n",
        "print('My name is {}'.format(name))"
      ],
      "execution_count": 4,
      "outputs": [
        {
          "output_type": "stream",
          "text": [
            "My name is Adhyantini\n"
          ],
          "name": "stdout"
        }
      ]
    },
    {
      "cell_type": "code",
      "metadata": {
        "id": "NvEiYmiZv5ZD"
      },
      "source": [
        "string1 = 'My name is {} and I am {} years old. I am a {}'.format(\"Adhyantini\", 22, \"Software Engineer\")"
      ],
      "execution_count": 6,
      "outputs": []
    },
    {
      "cell_type": "code",
      "metadata": {
        "colab": {
          "base_uri": "https://localhost:8080/"
        },
        "id": "0coxZkHqwI1C",
        "outputId": "83e50026-102a-4eaf-f41f-a4226d51d080"
      },
      "source": [
        "string1 = \"My name is {first_name} and I am {age} years old. I am a {profession} by profession \".format(first_name = \"Adhyantini\", age=22, profession=\"Software Engineer\")\n",
        "print(string1)"
      ],
      "execution_count": 7,
      "outputs": [
        {
          "output_type": "stream",
          "text": [
            "My name is Adhyantini and I am 22 years old. I am a Software Engineer by profession \n"
          ],
          "name": "stdout"
        }
      ]
    },
    {
      "cell_type": "code",
      "metadata": {
        "colab": {
          "base_uri": "https://localhost:8080/"
        },
        "id": "UKDnvRhXwRYk",
        "outputId": "356129b2-c6f5-439d-9217-617ce9a3c484"
      },
      "source": [
        "string1 = \"My pastime hobbies include {0} or {1}\".format(\"watching movies\", \"writing\")\n",
        "print(string1)"
      ],
      "execution_count": 8,
      "outputs": [
        {
          "output_type": "stream",
          "text": [
            "My pastime hobbies include watching movies or writing\n"
          ],
          "name": "stdout"
        }
      ]
    },
    {
      "cell_type": "code",
      "metadata": {
        "colab": {
          "base_uri": "https://localhost:8080/"
        },
        "id": "-WDKc56HwX09",
        "outputId": "1ece1dbc-3a56-4d10-c49d-ecce3896cf10"
      },
      "source": [
        "first_name = \"adhyantini\"\n",
        "last_name = \"bogawat\"\n",
        "string1 = f\"My name is {first_name.upper()} {last_name.upper()}\"\n",
        "print(string1)"
      ],
      "execution_count": 9,
      "outputs": [
        {
          "output_type": "stream",
          "text": [
            "My name is ADHYANTINI BOGAWAT\n"
          ],
          "name": "stdout"
        }
      ]
    },
    {
      "cell_type": "code",
      "metadata": {
        "colab": {
          "base_uri": "https://localhost:8080/"
        },
        "id": "psH8unrZwceC",
        "outputId": "8628baed-0c20-43e7-feab-94a1fb1986b8"
      },
      "source": [
        "person ={'name':'ABC', 'age':23}\n",
        "string1 = f\"My name is {person['name']} and I am {person['age']} years old\"\n",
        "print(string1)"
      ],
      "execution_count": 10,
      "outputs": [
        {
          "output_type": "stream",
          "text": [
            "My name is ABC and I am 23 years old\n"
          ],
          "name": "stdout"
        }
      ]
    },
    {
      "cell_type": "code",
      "metadata": {
        "colab": {
          "base_uri": "https://localhost:8080/"
        },
        "id": "CCZC_BOlwiyu",
        "outputId": "ce14e43b-4da8-4ff4-f3cc-90f27b3c8dd5"
      },
      "source": [
        "string1 = f\"22 times 4 equals {22*4}\"\n",
        "print(string1)"
      ],
      "execution_count": 11,
      "outputs": [
        {
          "output_type": "stream",
          "text": [
            "22 times 4 equals 88\n"
          ],
          "name": "stdout"
        }
      ]
    },
    {
      "cell_type": "code",
      "metadata": {
        "colab": {
          "base_uri": "https://localhost:8080/"
        },
        "id": "g8vpAfDDwxGP",
        "outputId": "39fe0751-19ab-4185-fa9a-91da3624fb52"
      },
      "source": [
        "for i in range (0,10):\n",
        "    string1 = f' Number : {i}'\n",
        "print(string1)"
      ],
      "execution_count": 12,
      "outputs": [
        {
          "output_type": "stream",
          "text": [
            " Number : 9\n"
          ],
          "name": "stdout"
        }
      ]
    },
    {
      "cell_type": "code",
      "metadata": {
        "colab": {
          "base_uri": "https://localhost:8080/"
        },
        "id": "4LuJa2Yyw1Dl",
        "outputId": "ca622525-0cc1-47fa-ce67-c2b8f6f46d33"
      },
      "source": [
        "for i in range (0,10):\n",
        "    string1 = f' Number : {i:03}'\n",
        "print(string1)"
      ],
      "execution_count": 13,
      "outputs": [
        {
          "output_type": "stream",
          "text": [
            " Number : 009\n"
          ],
          "name": "stdout"
        }
      ]
    },
    {
      "cell_type": "code",
      "metadata": {
        "colab": {
          "base_uri": "https://localhost:8080/"
        },
        "id": "lfkb_B9xw4OH",
        "outputId": "1b6cb987-6760-4dca-cded-5807b14eb54f"
      },
      "source": [
        "pi = 3.1415926\n",
        "string1 = f'Pi is equal to {pi:.4f}'\n",
        "print(string1)"
      ],
      "execution_count": 14,
      "outputs": [
        {
          "output_type": "stream",
          "text": [
            "Pi is equal to 3.1416\n"
          ],
          "name": "stdout"
        }
      ]
    },
    {
      "cell_type": "code",
      "metadata": {
        "colab": {
          "base_uri": "https://localhost:8080/"
        },
        "id": "CiIyUGcXw6xf",
        "outputId": "7cbda32d-2e39-4865-8915-efadb5f71502"
      },
      "source": [
        "from datetime import datetime\n",
        "birthday = datetime(1998,7,26)\n",
        "string1 = f'Date of birth(Year, Month, Date):{birthday}'\n",
        "print(string1)"
      ],
      "execution_count": 15,
      "outputs": [
        {
          "output_type": "stream",
          "text": [
            "Date of birth(Year, Month, Date):1998-07-26 00:00:00\n"
          ],
          "name": "stdout"
        }
      ]
    },
    {
      "cell_type": "code",
      "metadata": {
        "colab": {
          "base_uri": "https://localhost:8080/"
        },
        "id": "TSIzQoOTw9RJ",
        "outputId": "b5d06e58-a525-47df-f154-b0c0deb8f9d3"
      },
      "source": [
        "from datetime import datetime\n",
        "birthday = datetime(1998,7,26)\n",
        "string1 = f'Date of birth(Month, Date, Year) {birthday:%B %d, %Y}'\n",
        "print(string1)"
      ],
      "execution_count": 16,
      "outputs": [
        {
          "output_type": "stream",
          "text": [
            "Date of birth(Month, Date, Year) July 26, 1998\n"
          ],
          "name": "stdout"
        }
      ]
    }
  ]
}