{
  "nbformat": 4,
  "nbformat_minor": 0,
  "metadata": {
    "colab": {
      "provenance": [],
      "authorship_tag": "ABX9TyOk8lrYW7bKS/UiR/uyu73L"
    },
    "kernelspec": {
      "name": "python3",
      "display_name": "Python 3"
    },
    "language_info": {
      "name": "python"
    }
  },
  "cells": [
    {
      "cell_type": "markdown",
      "source": [
        "[Reference](https://medium.com/@geekpython/ways-to-remove-whitespaces-from-the-string-in-python-f1e1481a9c33)"
      ],
      "metadata": {
        "id": "VYlPqEYf0NL2"
      }
    },
    {
      "cell_type": "markdown",
      "source": [
        "# strip()\n"
      ],
      "metadata": {
        "id": "X01UEkq50Tzh"
      }
    },
    {
      "cell_type": "code",
      "execution_count": 1,
      "metadata": {
        "colab": {
          "base_uri": "https://localhost:8080/"
        },
        "id": "NYdS4_ahy4oX",
        "outputId": "b41fe260-f441-4247-be94-6db6a49c552e"
      },
      "outputs": [
        {
          "output_type": "stream",
          "name": "stdout",
          "text": [
            "Removed whitespaces using strip: G e e k P y t h o n.\n"
          ]
        }
      ],
      "source": [
        "my_str = \"      G e e k P y t h o n.      \"\n",
        "\n",
        "output = my_str.strip()\n",
        "print(f\"Removed whitespaces using strip: {output}\")"
      ]
    },
    {
      "cell_type": "markdown",
      "source": [
        "# replace()\n"
      ],
      "metadata": {
        "id": "_uqkl0Mu0YCj"
      }
    },
    {
      "cell_type": "code",
      "source": [
        "my_str = \"      G e e k P y t h o n.      \"\n",
        "\n",
        "output = my_str.replace(\" \", \"\")\n",
        "print(f\"Removed whitespaces using replace: {output}\")"
      ],
      "metadata": {
        "colab": {
          "base_uri": "https://localhost:8080/"
        },
        "id": "haHAUU9F0WDf",
        "outputId": "2e153b76-1615-45c7-e0af-e700fa3d1bb0"
      },
      "execution_count": 2,
      "outputs": [
        {
          "output_type": "stream",
          "name": "stdout",
          "text": [
            "Removed whitespaces using replace: GeekPython.\n"
          ]
        }
      ]
    },
    {
      "cell_type": "markdown",
      "source": [
        "# split()\n"
      ],
      "metadata": {
        "id": "bi2H5xIX0b5O"
      }
    },
    {
      "cell_type": "code",
      "source": [
        "my_str = \"      G e e k P y t h o n.      \"\n",
        "\n",
        "output = \" \".join(my_str.split())\n",
        "print(f\"Removed whitespaces using split: {output}\")"
      ],
      "metadata": {
        "colab": {
          "base_uri": "https://localhost:8080/"
        },
        "id": "Oejkbm8X0aQC",
        "outputId": "b5503a50-ab31-46c9-cfc1-a63bc41d4631"
      },
      "execution_count": 3,
      "outputs": [
        {
          "output_type": "stream",
          "name": "stdout",
          "text": [
            "Removed whitespaces using split: G e e k P y t h o n.\n"
          ]
        }
      ]
    },
    {
      "cell_type": "markdown",
      "source": [
        "# lstrip() & rstrip()\n"
      ],
      "metadata": {
        "id": "wNYpcuzI0eV0"
      }
    },
    {
      "cell_type": "code",
      "source": [
        "my_str = \"      G e e k P y t h o n.      \"\n",
        "\n",
        "output = my_str.lstrip()\n",
        "print(f\"Using l-strip method: {output}\")\n",
        "\n",
        "output1 = my_str.rstrip()\n",
        "print(f\"Using r-strip method: {output1}\")"
      ],
      "metadata": {
        "colab": {
          "base_uri": "https://localhost:8080/"
        },
        "id": "lnDNfxIB0dL-",
        "outputId": "01a873d6-740e-4031-8459-6fa1b0800c88"
      },
      "execution_count": 4,
      "outputs": [
        {
          "output_type": "stream",
          "name": "stdout",
          "text": [
            "Using l-strip method: G e e k P y t h o n.      \n",
            "Using r-strip method:       G e e k P y t h o n.\n"
          ]
        }
      ]
    },
    {
      "cell_type": "markdown",
      "source": [
        "# Using Regex\n"
      ],
      "metadata": {
        "id": "-ZvGG6dq0hF-"
      }
    },
    {
      "cell_type": "code",
      "source": [
        "import re\n",
        "\n",
        "my_str = \"      G e e k P y t h o n.      \"\n",
        "\n",
        "# Removed all the whitespaces\n",
        "output = re.sub(r\"\\s+\", \"\", my_str)\n",
        "print(f\"Removed all the whitespaces: {output}\")"
      ],
      "metadata": {
        "colab": {
          "base_uri": "https://localhost:8080/"
        },
        "id": "tjgdUsFY0g5R",
        "outputId": "fb9e784c-436b-42c6-eaf4-753843f3a251"
      },
      "execution_count": 5,
      "outputs": [
        {
          "output_type": "stream",
          "name": "stdout",
          "text": [
            "Removed all the whitespaces: GeekPython.\n"
          ]
        }
      ]
    },
    {
      "cell_type": "code",
      "source": [
        "import re\n",
        "\n",
        "my_str = \"      G e e k P y t h o n.      \"\n",
        "\n",
        "# Removed whitespace from the start\n",
        "output1 = re.sub(r\"^\\s+\", \"\", my_str)\n",
        "print(f\"Removed whitespace from the start: {output1}\")"
      ],
      "metadata": {
        "colab": {
          "base_uri": "https://localhost:8080/"
        },
        "id": "60vh4ooL0fmQ",
        "outputId": "e5628735-a9d3-4154-c48d-b2a9c4963258"
      },
      "execution_count": 6,
      "outputs": [
        {
          "output_type": "stream",
          "name": "stdout",
          "text": [
            "Removed whitespace from the start: G e e k P y t h o n.      \n"
          ]
        }
      ]
    },
    {
      "cell_type": "code",
      "source": [
        "import re\n",
        "\n",
        "my_str = \"      G e e k P y t h o n.      \"\n",
        "\n",
        "# Removed whitespace from the end\n",
        "output2 = re.sub(r\"\\s+$\", \"\", my_str)\n",
        "print(f\"Removed whitespace from the end: {output2}\")"
      ],
      "metadata": {
        "colab": {
          "base_uri": "https://localhost:8080/"
        },
        "id": "48IJq9iH0jj1",
        "outputId": "6fc00495-f1b1-4c7e-847b-12be7eb3e249"
      },
      "execution_count": 7,
      "outputs": [
        {
          "output_type": "stream",
          "name": "stdout",
          "text": [
            "Removed whitespace from the end:       G e e k P y t h o n.\n"
          ]
        }
      ]
    },
    {
      "cell_type": "code",
      "source": [
        "import re\n",
        "\n",
        "my_str = \"      G e e k P y t h o n.      \"\n",
        "\n",
        "# Remove spaces both in the BEGINNING and at the END of a string:\n",
        "output3 = re.sub(r\"^\\s+|\\s+$\", \"\", my_str)\n",
        "print(f\"Removed spaces both in the BEGINNING and at the END of a string: {output3}\")"
      ],
      "metadata": {
        "colab": {
          "base_uri": "https://localhost:8080/"
        },
        "id": "t-vOyQ460lLw",
        "outputId": "9d9b42d8-0454-4975-ca36-70f7160a2825"
      },
      "execution_count": 8,
      "outputs": [
        {
          "output_type": "stream",
          "name": "stdout",
          "text": [
            "Removed spaces both in the BEGINNING and at the END of a string: G e e k P y t h o n.\n"
          ]
        }
      ]
    },
    {
      "cell_type": "code",
      "source": [
        "import re\n",
        "\n",
        "my_str = \"      G e e k P y t h o n.      \"\n",
        "\n",
        "# Remove DUPLICATE spaces:\n",
        "output4 = \" \".join(re.split(\"\\s+\", my_str))\n",
        "print(f\"Removed DUPLICATE spaces: {output4}\")"
      ],
      "metadata": {
        "colab": {
          "base_uri": "https://localhost:8080/"
        },
        "id": "RN6h9HuK0o4f",
        "outputId": "5a369a3e-9917-4c31-e4a4-089c4a60845c"
      },
      "execution_count": 9,
      "outputs": [
        {
          "output_type": "stream",
          "name": "stdout",
          "text": [
            "Removed DUPLICATE spaces:  G e e k P y t h o n. \n"
          ]
        }
      ]
    }
  ]
}
