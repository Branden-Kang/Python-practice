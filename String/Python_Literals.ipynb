{
  "nbformat": 4,
  "nbformat_minor": 0,
  "metadata": {
    "colab": {
      "provenance": [],
      "authorship_tag": "ABX9TyPSoPI7qJMbPRLh51RaQdAk"
    },
    "kernelspec": {
      "name": "python3",
      "display_name": "Python 3"
    },
    "language_info": {
      "name": "python"
    }
  },
  "cells": [
    {
      "cell_type": "markdown",
      "source": [
        "[Reference](https://medium.com/analytics-vidhya/python-literals-e68cc2d4de41)"
      ],
      "metadata": {
        "id": "QUrEzuJDSGSY"
      }
    },
    {
      "cell_type": "markdown",
      "source": [
        "# Numeric Literals"
      ],
      "metadata": {
        "id": "Nr2CQgvFSqQ6"
      }
    },
    {
      "cell_type": "code",
      "execution_count": 1,
      "metadata": {
        "colab": {
          "base_uri": "https://localhost:8080/"
        },
        "id": "C1kRX5ETRUoY",
        "outputId": "72560d3b-fc68-4555-84a7-6ad0fd543a2b"
      },
      "outputs": [
        {
          "output_type": "stream",
          "name": "stdout",
          "text": [
            "450 11 200 300\n",
            "42.3 350.0\n",
            "3.14j 3.14 0.0\n"
          ]
        }
      ],
      "source": [
        "# 1.Integer Literal\n",
        "int_1 = 450 #Decimal Literal\n",
        "int_2 = 0b1011 #Binary Literal\n",
        "int_3 = 0o310 #Octal Literal\n",
        "int_4 = 0x12c #Hexadecimal Literal\n",
        "# 2.Float Literal\n",
        "float_1 = 42.3\n",
        "float_2 = 3.5e2\n",
        "# 3.Complex Literal\n",
        "complex_num = 3.14j\n",
        "print(int_1, int_2, int_3, int_4)\n",
        "print(float_1, float_2)\n",
        "print(complex_num, complex_num.imag, complex_num.real)"
      ]
    },
    {
      "cell_type": "markdown",
      "source": [
        "# String Literals"
      ],
      "metadata": {
        "id": "idDo7eEjSlgi"
      }
    },
    {
      "cell_type": "code",
      "source": [
        "normal_string = \"Python is easy\"\n",
        "character_literal = \"B\"\n",
        "multiline_string = \"\"\"This type can be used to declare strings\n",
        "                   that you have to use multiple code lines\"\"\"\n",
        "unicode_string = u\"\\u00dcnic\\u00f6de\"\n",
        "raw_string = r\"See the output and \\n you will know what this is!\"\n",
        "print(normal_string)\n",
        "print(character_literal)\n",
        "print(multiline_string)\n",
        "print(unicode_string)\n",
        "print(raw_string)"
      ],
      "metadata": {
        "colab": {
          "base_uri": "https://localhost:8080/"
        },
        "id": "k8s7nySOSN6P",
        "outputId": "e1638e03-449b-4be6-f5db-4d90d4418150"
      },
      "execution_count": 2,
      "outputs": [
        {
          "output_type": "stream",
          "name": "stdout",
          "text": [
            "Python is easy\n",
            "B\n",
            "This type can be used to declare strings\n",
            "                   that you have to use multiple code lines\n",
            "Ünicöde\n",
            "See the output and \\n you will know what this is!\n"
          ]
        }
      ]
    },
    {
      "cell_type": "markdown",
      "source": [
        "# Boolean Literals"
      ],
      "metadata": {
        "id": "YgOVxezFSh8G"
      }
    },
    {
      "cell_type": "code",
      "source": [
        "choice_1 = (1 == True)\n",
        "choice_2 = (1 == False)\n",
        "number_1 = True + 4\n",
        "number_2 = False + 10\n",
        "\n",
        "print(\"choice_1 is\", choice_1)\n",
        "print(\"choice_2 is\", choice_2)\n",
        "print(\"number_1:\", number_1)\n",
        "print(\"number_2:\", number_2)"
      ],
      "metadata": {
        "colab": {
          "base_uri": "https://localhost:8080/"
        },
        "id": "9sBC28W_SS39",
        "outputId": "0c36abd1-10a3-4d1d-b93e-a2190b5a0e5c"
      },
      "execution_count": 3,
      "outputs": [
        {
          "output_type": "stream",
          "name": "stdout",
          "text": [
            "choice_1 is True\n",
            "choice_2 is False\n",
            "number_1: 5\n",
            "number_2: 10\n"
          ]
        }
      ]
    },
    {
      "cell_type": "markdown",
      "source": [
        "# Special Literals\n"
      ],
      "metadata": {
        "id": "_5R6AZjpSeXW"
      }
    },
    {
      "cell_type": "code",
      "source": [
        "deadpool_1 = \"Available\"\n",
        "deadpool_2 = None\n",
        "\n",
        "def movie(x):\n",
        "    if x == deadpool_1:\n",
        "        print(deadpool_1)\n",
        "    else:\n",
        "        print(deadpool_2)\n",
        "\n",
        "movie(deadpool_1)\n",
        "movie(deadpool_2)"
      ],
      "metadata": {
        "colab": {
          "base_uri": "https://localhost:8080/"
        },
        "id": "v3TfI7I7SVUe",
        "outputId": "bc1e91c7-88b5-4b8f-fdf1-2aea77054c49"
      },
      "execution_count": 4,
      "outputs": [
        {
          "output_type": "stream",
          "name": "stdout",
          "text": [
            "Available\n",
            "None\n"
          ]
        }
      ]
    },
    {
      "cell_type": "markdown",
      "source": [
        "# Literal Collections"
      ],
      "metadata": {
        "id": "OB9r2KqtSbqU"
      }
    },
    {
      "cell_type": "code",
      "source": [
        "flowers = [\"lilly\", \"rose\", \"tulip\"] #list\n",
        "numbers = (1, 3, 5) #tuple\n",
        "alphabets = {'a':'avengers', 'b':'black_panther', 'c':'captain_america'} #dictionary\n",
        "vowels = {'a', 'e', 'i' , 'o', 'u'} #set\n",
        "\n",
        "print(flowers)\n",
        "print(numbers)\n",
        "print(alphabets)\n",
        "print(vowels)"
      ],
      "metadata": {
        "colab": {
          "base_uri": "https://localhost:8080/"
        },
        "id": "Oc6UNNXDSXbJ",
        "outputId": "4befdbc7-13b6-4660-b484-07a4e9011341"
      },
      "execution_count": 5,
      "outputs": [
        {
          "output_type": "stream",
          "name": "stdout",
          "text": [
            "['lilly', 'rose', 'tulip']\n",
            "(1, 3, 5)\n",
            "{'a': 'avengers', 'b': 'black_panther', 'c': 'captain_america'}\n",
            "{'o', 'a', 'u', 'i', 'e'}\n"
          ]
        }
      ]
    }
  ]
}
