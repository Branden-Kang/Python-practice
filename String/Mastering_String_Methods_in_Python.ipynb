{
  "nbformat": 4,
  "nbformat_minor": 0,
  "metadata": {
    "colab": {
      "name": "Mastering String Methods in Python.ipynb",
      "provenance": [],
      "authorship_tag": "ABX9TyMsncC/+kYuGgOXJx0XR1vD"
    },
    "kernelspec": {
      "name": "python3",
      "display_name": "Python 3"
    }
  },
  "cells": [
    {
      "cell_type": "markdown",
      "metadata": {
        "id": "SquC0_8BGt30"
      },
      "source": [
        "[Reference](https://towardsdatascience.com/mastering-string-methods-in-python-456174ede911)"
      ]
    },
    {
      "cell_type": "code",
      "metadata": {
        "colab": {
          "base_uri": "https://localhost:8080/"
        },
        "id": "_aqj_6jiGpLK",
        "outputId": "90164c8b-be48-48fe-b8e1-c73bcb466e6d"
      },
      "source": [
        "empty_string = ''\n",
        "print(empty_string)"
      ],
      "execution_count": 1,
      "outputs": [
        {
          "output_type": "stream",
          "text": [
            "\n"
          ],
          "name": "stdout"
        }
      ]
    },
    {
      "cell_type": "code",
      "metadata": {
        "colab": {
          "base_uri": "https://localhost:8080/"
        },
        "id": "S5k5PFouGzYh",
        "outputId": "35445e97-6b5a-4356-98e6-4653c11f505a"
      },
      "source": [
        "string1 = 'This movie'\n",
        "string2 = 'is awesome'\n",
        "print(string1 + string2)"
      ],
      "execution_count": 2,
      "outputs": [
        {
          "output_type": "stream",
          "text": [
            "This movieis awesome\n"
          ],
          "name": "stdout"
        }
      ]
    },
    {
      "cell_type": "code",
      "metadata": {
        "colab": {
          "base_uri": "https://localhost:8080/"
        },
        "id": "7czwtr_tG-hx",
        "outputId": "9663f0d4-493d-49a3-a010-55b6593dba8d"
      },
      "source": [
        "print('*' * 30)\n",
        "print('Hello World')\n",
        "print('*' * 30)"
      ],
      "execution_count": 3,
      "outputs": [
        {
          "output_type": "stream",
          "text": [
            "******************************\n",
            "Hello World\n",
            "******************************\n"
          ],
          "name": "stdout"
        }
      ]
    },
    {
      "cell_type": "code",
      "metadata": {
        "colab": {
          "base_uri": "https://localhost:8080/"
        },
        "id": "3Sy5S6hhKEi2",
        "outputId": "35301aca-80c6-40e2-d71f-dec93194a9dc"
      },
      "source": [
        "print('The length of string1 is',len(string1))"
      ],
      "execution_count": 4,
      "outputs": [
        {
          "output_type": "stream",
          "text": [
            "The length of string1 is 10\n"
          ],
          "name": "stdout"
        }
      ]
    },
    {
      "cell_type": "code",
      "metadata": {
        "colab": {
          "base_uri": "https://localhost:8080/"
        },
        "id": "O8EFLNsAKJlv",
        "outputId": "5e906223-6782-4142-b9cd-8d38a327fad8"
      },
      "source": [
        "def email_list(domains):\n",
        "    emails = []\n",
        "    for m, users in domains.items():\n",
        "        for user in users:\n",
        "          em = str(user) + '@' + str(m)\n",
        "          emails.append(em)\n",
        "    return(emails)\n",
        "\n",
        "print(email_list({\"gmail.com\": [\"clark.kent\", \"diana.prince\", \"peter.parker\"], \"yahoo.com\": [\"barbara.gordon\", \"jean.grey\"], \"hotmail.com\": [\"bruce.wayne\"]}))"
      ],
      "execution_count": 5,
      "outputs": [
        {
          "output_type": "stream",
          "text": [
            "['clark.kent@gmail.com', 'diana.prince@gmail.com', 'peter.parker@gmail.com', 'barbara.gordon@yahoo.com', 'jean.grey@yahoo.com', 'bruce.wayne@hotmail.com']\n"
          ],
          "name": "stdout"
        }
      ]
    },
    {
      "cell_type": "code",
      "metadata": {
        "colab": {
          "base_uri": "https://localhost:8080/"
        },
        "id": "rxGzStEZKO1M",
        "outputId": "5775085b-d0bf-40e9-951f-d337171e7a12"
      },
      "source": [
        "str_to_idx = 'I love Python for data analytics'\n",
        "print(str_to_idx[:10])\n",
        "print(str_to_idx[-3:])"
      ],
      "execution_count": 6,
      "outputs": [
        {
          "output_type": "stream",
          "text": [
            "I love Pyt\n",
            "ics\n"
          ],
          "name": "stdout"
        }
      ]
    },
    {
      "cell_type": "code",
      "metadata": {
        "colab": {
          "base_uri": "https://localhost:8080/"
        },
        "id": "XB6SyRkpKcp1",
        "outputId": "ae082c6c-4da1-4db0-8563-9356c7b0b9d9"
      },
      "source": [
        "text = 'This a sampl@ text'\n",
        "print(text)\n",
        "corrected_text = text[:12] + 'e ' + text[14:]\n",
        "print(corrected_text)"
      ],
      "execution_count": 8,
      "outputs": [
        {
          "output_type": "stream",
          "text": [
            "This a sampl@ text\n",
            "This a sample text\n"
          ],
          "name": "stdout"
        }
      ]
    },
    {
      "cell_type": "code",
      "metadata": {
        "colab": {
          "base_uri": "https://localhost:8080/"
        },
        "id": "f-ADXnfkKyS-",
        "outputId": "5922b306-3424-4de0-e465-6fa329c098c7"
      },
      "source": [
        "string_with_spaces = '    Hello world!   '\n",
        "string_with_left_spaces = '    Hello world!'\n",
        "string_with_right_spaces = 'Hello world!   '\n",
        "print(string_with_spaces.strip())\n",
        "print(string_with_left_spaces.lstrip())\n",
        "print(string_with_right_spaces.rstrip())"
      ],
      "execution_count": 10,
      "outputs": [
        {
          "output_type": "stream",
          "text": [
            "Hello world!\n",
            "Hello world!\n",
            "Hello world!\n"
          ],
          "name": "stdout"
        }
      ]
    },
    {
      "cell_type": "code",
      "metadata": {
        "colab": {
          "base_uri": "https://localhost:8080/"
        },
        "id": "I4nDby3wLNSc",
        "outputId": "9feef733-33c9-4a8e-e6af-0d840dc9f4b5"
      },
      "source": [
        "test_string = 'This is a smaple text'\n",
        "c = test_string.count('a')\n",
        "end =test_string.endswith('t')\n",
        "start =test_string.startswith('T')\n",
        "print('The character \"a\" is {} times in the string'.format(c))\n",
        "print('Does the string end with the character \"t\"?', end)\n",
        "print('Does the string start with the character \"T\"?', start)"
      ],
      "execution_count": 11,
      "outputs": [
        {
          "output_type": "stream",
          "text": [
            "The character \"a\" is 2 times in the string\n",
            "Does the string end with the character \"t\"? True\n",
            "Does the string start with the character \"T\"? True\n"
          ],
          "name": "stdout"
        }
      ]
    },
    {
      "cell_type": "code",
      "metadata": {
        "colab": {
          "base_uri": "https://localhost:8080/"
        },
        "id": "v0L4cdTtLv_o",
        "outputId": "0dc5cc94-e9fc-412f-9577-592d0ad3579a"
      },
      "source": [
        "list_to_concat = [\"I\",\"love\",\"Python\",\", too\"]\n",
        "print(' '.join(list_to_concat))"
      ],
      "execution_count": 13,
      "outputs": [
        {
          "output_type": "stream",
          "text": [
            "I love Python , too\n"
          ],
          "name": "stdout"
        }
      ]
    },
    {
      "cell_type": "code",
      "metadata": {
        "colab": {
          "base_uri": "https://localhost:8080/"
        },
        "id": "SLvbIx5zL324",
        "outputId": "de75f44d-a505-45c6-8596-eb969a5648b3"
      },
      "source": [
        "print(\"This sentence sould be splitted\".split())"
      ],
      "execution_count": 14,
      "outputs": [
        {
          "output_type": "stream",
          "text": [
            "['This', 'sentence', 'sould', 'be', 'splitted']\n"
          ],
          "name": "stdout"
        }
      ]
    },
    {
      "cell_type": "code",
      "metadata": {
        "colab": {
          "base_uri": "https://localhost:8080/"
        },
        "id": "QgAH5jjPL-nv",
        "outputId": "20d75fc2-6031-46f8-cad8-c89bd9376180"
      },
      "source": [
        "name = \"Branden\"\n",
        "job = 'Data Scientist'\n",
        "print(\"My name is {} and I am a {}\".format(name,job))"
      ],
      "execution_count": 15,
      "outputs": [
        {
          "output_type": "stream",
          "text": [
            "My name is Branden and I am a Data Scientist\n"
          ],
          "name": "stdout"
        }
      ]
    },
    {
      "cell_type": "code",
      "metadata": {
        "colab": {
          "base_uri": "https://localhost:8080/"
        },
        "id": "dDnnBPHTMH1f",
        "outputId": "8a5770d7-40a5-4fa8-b9bf-a1975b12b015"
      },
      "source": [
        "price = 9\n",
        "tax = price * 0.2\n",
        "total = price * (1+tax)\n",
        "print('Base price is ${:.2f}, but total sale price is ${:.2f}'.format(price, total))"
      ],
      "execution_count": 17,
      "outputs": [
        {
          "output_type": "stream",
          "text": [
            "Base price is $9.00, but total sale price is $25.20\n"
          ],
          "name": "stdout"
        }
      ]
    }
  ]
}