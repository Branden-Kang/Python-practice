{
  "nbformat": 4,
  "nbformat_minor": 0,
  "metadata": {
    "colab": {
      "name": "Beautiful Text Formatting Using Rich in Python.ipynb",
      "provenance": [],
      "authorship_tag": "ABX9TyMVfA6ZbvfiAJi9pikPd7DP"
    },
    "kernelspec": {
      "name": "python3",
      "display_name": "Python 3"
    }
  },
  "cells": [
    {
      "cell_type": "markdown",
      "metadata": {
        "id": "7In5AlnHATFF"
      },
      "source": [
        "[Reference](https://medium.com/swlh/rich-beautiful-text-formatting-in-python-db0064e2bee7)"
      ]
    },
    {
      "cell_type": "code",
      "metadata": {
        "colab": {
          "base_uri": "https://localhost:8080/"
        },
        "id": "_IGg7zqJACiN",
        "outputId": "505de25f-b9ed-4ed3-cce8-c5eeb47417d4"
      },
      "source": [
        "pip install rich"
      ],
      "execution_count": 1,
      "outputs": [
        {
          "output_type": "stream",
          "text": [
            "Collecting rich\n",
            "\u001b[?25l  Downloading https://files.pythonhosted.org/packages/b9/2b/5ff334698e7b246dae1bdc672963b872faf9e74ffa8121305e9c0f0c018b/rich-9.8.2-py3-none-any.whl (186kB)\n",
            "\u001b[K     |████████████████████████████████| 194kB 5.7MB/s \n",
            "\u001b[?25hCollecting colorama<0.5.0,>=0.4.0\n",
            "  Downloading https://files.pythonhosted.org/packages/44/98/5b86278fbbf250d239ae0ecb724f8572af1c91f4a11edf4d36a206189440/colorama-0.4.4-py2.py3-none-any.whl\n",
            "Requirement already satisfied: pygments<3.0.0,>=2.6.0 in /usr/local/lib/python3.6/dist-packages (from rich) (2.6.1)\n",
            "Requirement already satisfied: typing-extensions<4.0.0,>=3.7.4 in /usr/local/lib/python3.6/dist-packages (from rich) (3.7.4.3)\n",
            "Collecting commonmark<0.10.0,>=0.9.0\n",
            "\u001b[?25l  Downloading https://files.pythonhosted.org/packages/b1/92/dfd892312d822f36c55366118b95d914e5f16de11044a27cf10a7d71bbbf/commonmark-0.9.1-py2.py3-none-any.whl (51kB)\n",
            "\u001b[K     |████████████████████████████████| 51kB 4.7MB/s \n",
            "\u001b[?25hRequirement already satisfied: dataclasses<0.9,>=0.7; python_version >= \"3.6\" and python_version < \"3.7\" in /usr/local/lib/python3.6/dist-packages (from rich) (0.8)\n",
            "Installing collected packages: colorama, commonmark, rich\n",
            "Successfully installed colorama-0.4.4 commonmark-0.9.1 rich-9.8.2\n"
          ],
          "name": "stdout"
        }
      ]
    },
    {
      "cell_type": "code",
      "metadata": {
        "id": "NZC7rqFaAUfZ"
      },
      "source": [
        "from rich import print\n",
        "from rich.console import Console\n",
        "from rich.table import Table\n",
        "from rich.progress import track\n",
        "from time import sleep\n",
        "import os\n",
        "import sys\n",
        "from rich.columns import Columns\n",
        "from rich.markdown import Markdown\n",
        "from rich.syntax import Syntax"
      ],
      "execution_count": 2,
      "outputs": []
    },
    {
      "cell_type": "markdown",
      "metadata": {
        "id": "tMecZvc8AZPU"
      },
      "source": [
        "# Using print function"
      ]
    },
    {
      "cell_type": "code",
      "metadata": {
        "colab": {
          "base_uri": "https://localhost:8080/"
        },
        "id": "wazq3qfqAXON",
        "outputId": "8656df5c-dc0f-4895-e580-47935bc97bb7"
      },
      "source": [
        "print(\"Hello, [bold red]World[/bold red]!\")\n",
        "print(\"Hello, [italic red]World[/italic red]!\")"
      ],
      "execution_count": 3,
      "outputs": [
        {
          "output_type": "stream",
          "text": [
            "Hello, World!\n",
            "Hello, World!\n"
          ],
          "name": "stdout"
        }
      ]
    },
    {
      "cell_type": "markdown",
      "metadata": {
        "id": "0RfP8wwAAaK0"
      },
      "source": [
        "# Using Console function"
      ]
    },
    {
      "cell_type": "code",
      "metadata": {
        "colab": {
          "base_uri": "https://localhost:8080/"
        },
        "id": "bhuVv1fbAYd_",
        "outputId": "a429a666-dffc-4ea0-90d3-46d22e338900"
      },
      "source": [
        "console = Console()\n",
        "console.print(\"Hello\", \"World!\")\n",
        "console.print(\"Hello\", \"World!\", style=\"italic magenta\")\n",
        "console.print(\"Where there is a [bold cyan]Will[/bold cyan] there [u]is[/u] a [i]way[/i].\")"
      ],
      "execution_count": 4,
      "outputs": [
        {
          "output_type": "stream",
          "text": [
            "Hello World!\n",
            "Hello World!\n",
            "Where there is a Will there is a way.\n"
          ],
          "name": "stdout"
        }
      ]
    },
    {
      "cell_type": "markdown",
      "metadata": {
        "id": "NQ854J8gAcvM"
      },
      "source": [
        "# Printing Emoji’s"
      ]
    },
    {
      "cell_type": "code",
      "metadata": {
        "colab": {
          "base_uri": "https://localhost:8080/"
        },
        "id": "5a83BlpzAbf4",
        "outputId": "fab81e53-a9f4-4eea-9279-3279eb91a0fe"
      },
      "source": [
        "console.print(\":smiley: :vampire: :pile_of_poo: :thumbs_up: :raccoon: :cry: :thumbs_down: :kiss: :cool:\")"
      ],
      "execution_count": 5,
      "outputs": [
        {
          "output_type": "stream",
          "text": [
            "😃 🧛 💩 👍 🦝 😢 👎 💋 🆒\n"
          ],
          "name": "stdout"
        }
      ]
    },
    {
      "cell_type": "markdown",
      "metadata": {
        "id": "XD_X1bSfAe5l"
      },
      "source": [
        "# Formatting Tables"
      ]
    },
    {
      "cell_type": "code",
      "metadata": {
        "colab": {
          "base_uri": "https://localhost:8080/"
        },
        "id": "AI_IsQF-Adh2",
        "outputId": "9f675e0d-1492-4ba7-e4bc-e38037f9b430"
      },
      "source": [
        "# Table\n",
        "table = Table(show_header=True, header_style=\"bold magenta\")\n",
        "table.add_column(\"Date\", style=\"dim\", width=12)\n",
        "table.add_column(\"Title\")\n",
        "table.add_column(\"Production Budget\", justify=\"right\")\n",
        "table.add_column(\"Box Office\", justify=\"right\")\n",
        "table.add_row(\n",
        "    \"Dev 20, 2019\", \"Star Wars: The Rise of Skywalker\", \"$275,000,000\", \"$375,126,118\"\n",
        ")\n",
        "table.add_row(\n",
        "    \"May 25, 2018\",\n",
        "    \"[red]Solo[/red]: A Star Wars Story\",\n",
        "    \"$275,000,000\",\n",
        "    \"$393,151,347\",\n",
        ")\n",
        "table.add_row(\n",
        "    \"Dec 15, 2017\",\n",
        "    \"Star Wars Ep. VIII: The Last Jedi\",\n",
        "    \"$262,000,000\",\n",
        "    \"[bold]$1,332,539,889[/bold]\",\n",
        ")\n",
        "\n",
        "console.print(table)"
      ],
      "execution_count": 8,
      "outputs": [
        {
          "output_type": "stream",
          "text": [
            "┏━━━━━━━━━━━━━━┳━━━━━━━━━━━━━━━━━━━━━━━━━━┳━━━━━━━━━━━━━━━━━━━┳━━━━━━━━━━━━━━━━┓\n",
            "┃ Date         ┃ Title                    ┃ Production Budget ┃     Box Office ┃\n",
            "┡━━━━━━━━━━━━━━╇━━━━━━━━━━━━━━━━━━━━━━━━━━╇━━━━━━━━━━━━━━━━━━━╇━━━━━━━━━━━━━━━━┩\n",
            "│ Dev 20, 2019 │ Star Wars: The Rise of   │      $275,000,000 │   $375,126,118 │\n",
            "│              │ Skywalker                │                   │                │\n",
            "│ May 25, 2018 │ Solo: A Star Wars Story  │      $275,000,000 │   $393,151,347 │\n",
            "│ Dec 15, 2017 │ Star Wars Ep. VIII: The  │      $262,000,000 │ $1,332,539,889 │\n",
            "│              │ Last Jedi                │                   │                │\n",
            "└──────────────┴──────────────────────────┴───────────────────┴────────────────┘\n"
          ],
          "name": "stdout"
        }
      ]
    },
    {
      "cell_type": "code",
      "metadata": {
        "colab": {
          "base_uri": "https://localhost:8080/"
        },
        "id": "UgiSC3V7AgOT",
        "outputId": "537fe30f-2b4a-4c6a-c31a-2f6baf022e97"
      },
      "source": [
        "for i in 'i am best programmer'.split():\n",
        "    markdown = Markdown(i)\n",
        "    console.print(markdown)"
      ],
      "execution_count": 9,
      "outputs": [
        {
          "output_type": "stream",
          "text": [
            "i                                                                               \n",
            "am                                                                              \n",
            "best                                                                            \n",
            "programmer                                                                      \n"
          ],
          "name": "stdout"
        }
      ]
    }
  ]
}