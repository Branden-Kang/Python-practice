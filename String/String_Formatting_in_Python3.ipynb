{
  "nbformat": 4,
  "nbformat_minor": 0,
  "metadata": {
    "colab": {
      "name": "String Formatting in Python3.ipynb",
      "provenance": [],
      "authorship_tag": "ABX9TyPc5UkgvRClY2N6YpAtr3PZ"
    },
    "kernelspec": {
      "name": "python3",
      "display_name": "Python 3"
    }
  },
  "cells": [
    {
      "cell_type": "markdown",
      "metadata": {
        "id": "4QXPDgkR_szF"
      },
      "source": [
        "[Reference](https://medium.com/codefile/string-formatting-in-python3-f851a26d8ea4)"
      ]
    },
    {
      "cell_type": "code",
      "metadata": {
        "id": "UCFxxVx-_q3Q",
        "outputId": "3f39537c-da8c-4c69-b14c-428e6a0764ad",
        "colab": {
          "base_uri": "https://localhost:8080/"
        }
      },
      "source": [
        "name1 = 'Mickey'\n",
        "print('Is that mouse called %s?' %name1)"
      ],
      "execution_count": 1,
      "outputs": [
        {
          "output_type": "stream",
          "text": [
            "Is that mouse called Mickey?\n"
          ],
          "name": "stdout"
        }
      ]
    },
    {
      "cell_type": "code",
      "metadata": {
        "id": "1VyHYhnU_xYD",
        "outputId": "be61667f-c1a6-43ec-aabc-6a1d839aa60b",
        "colab": {
          "base_uri": "https://localhost:8080/"
        }
      },
      "source": [
        "name1 = 'Mickey'\n",
        "name2 = 'Mouse'\n",
        "print('The name is %s, %s %s'%(name2,name1,name2))"
      ],
      "execution_count": 2,
      "outputs": [
        {
          "output_type": "stream",
          "text": [
            "The name is Mouse, Mickey Mouse\n"
          ],
          "name": "stdout"
        }
      ]
    },
    {
      "cell_type": "code",
      "metadata": {
        "id": "oyz_IQJr_yjH",
        "outputId": "5d0a69c9-0d2b-4d6f-a162-8494201fa3a4",
        "colab": {
          "base_uri": "https://localhost:8080/"
        }
      },
      "source": [
        "print('The name is %(n2)s, %(n1)s %(n2)s'%{'n1':name1, 'n2':name2})"
      ],
      "execution_count": 3,
      "outputs": [
        {
          "output_type": "stream",
          "text": [
            "The name is Mouse, Mickey Mouse\n"
          ],
          "name": "stdout"
        }
      ]
    },
    {
      "cell_type": "code",
      "metadata": {
        "id": "QOiRGyF6_zfn",
        "outputId": "ff69cee4-568a-4412-f256-9263c15227b3",
        "colab": {
          "base_uri": "https://localhost:8080/"
        }
      },
      "source": [
        "print('Is that mouse called {}?'.format(name1))"
      ],
      "execution_count": 4,
      "outputs": [
        {
          "output_type": "stream",
          "text": [
            "Is that mouse called Mickey?\n"
          ],
          "name": "stdout"
        }
      ]
    },
    {
      "cell_type": "code",
      "metadata": {
        "id": "5paW7I0I_0bf",
        "outputId": "20000f55-bb6a-4fd2-fd57-2f6aa2e1cb37",
        "colab": {
          "base_uri": "https://localhost:8080/"
        }
      },
      "source": [
        "print('The name is {n2}, {n1} {n2}'.format(n1=name1,n2=name2))"
      ],
      "execution_count": 5,
      "outputs": [
        {
          "output_type": "stream",
          "text": [
            "The name is Mouse, Mickey Mouse\n"
          ],
          "name": "stdout"
        }
      ]
    },
    {
      "cell_type": "markdown",
      "metadata": {
        "id": "7U6KU4kF_2Em"
      },
      "source": [
        "# F-Strings"
      ]
    },
    {
      "cell_type": "code",
      "metadata": {
        "id": "Zp-GoMeA_1Wg",
        "outputId": "3f4ab452-349a-4fbf-9a24-ab802aea1c22",
        "colab": {
          "base_uri": "https://localhost:8080/"
        }
      },
      "source": [
        "num1=6\n",
        "num2=7\n",
        "print(f'Did you know that {num1} times {num2} equals {num1*num2}?')"
      ],
      "execution_count": 6,
      "outputs": [
        {
          "output_type": "stream",
          "text": [
            "Did you know that 6 times 7 equals 42?\n"
          ],
          "name": "stdout"
        }
      ]
    },
    {
      "cell_type": "code",
      "metadata": {
        "id": "njFd87FS_303",
        "outputId": "99b0ac14-6e40-42c7-eb3b-2a48dd80c1fe",
        "colab": {
          "base_uri": "https://localhost:8080/"
        }
      },
      "source": [
        "print(f'{num1==num2}')"
      ],
      "execution_count": 7,
      "outputs": [
        {
          "output_type": "stream",
          "text": [
            "False\n"
          ],
          "name": "stdout"
        }
      ]
    }
  ]
}