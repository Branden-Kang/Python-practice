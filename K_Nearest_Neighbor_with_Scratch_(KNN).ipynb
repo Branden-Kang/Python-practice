{
  "nbformat": 4,
  "nbformat_minor": 0,
  "metadata": {
    "colab": {
      "name": "K-Nearest Neighbor with Scratch (KNN).ipynb",
      "provenance": [],
      "authorship_tag": "ABX9TyPouw+6uS++Zibc3kfLYv6X"
    },
    "kernelspec": {
      "name": "python3",
      "display_name": "Python 3"
    }
  },
  "cells": [
    {
      "cell_type": "markdown",
      "metadata": {
        "id": "oKn3jxHB058h"
      },
      "source": [
        "[Reference](https://medium.com/analytics-vidhya/k-nearest-neighbor-with-scratch-knn-75bf088729b)"
      ]
    },
    {
      "cell_type": "code",
      "metadata": {
        "id": "HU7NclpA00pQ"
      },
      "source": [
        "# Importing the necessary libraries.\n",
        "import heapq\n",
        "import pandas  as pd\n",
        "import numpy as np\n",
        "from sklearn import datasets\n",
        "from scipy.spatial import distance"
      ],
      "execution_count": 1,
      "outputs": []
    },
    {
      "cell_type": "code",
      "metadata": {
        "id": "_AWtiGxN1IX1"
      },
      "source": [
        "# Coding the class structure\n",
        "class KNN:\n",
        "    # Defining the data we will use in the class\n",
        "    def __init__ (self, X, k= 5):\n",
        "        self.X = X[X.columns[:-1]].values\n",
        "        self.y = X[X.columns[ -1]].values\n",
        "        self.k = k\n",
        "    \n",
        "    # Application of Euclidean Distance formula to code\n",
        "    def __distance(self, object_1, object_2):\n",
        "        return distance.euclidean(object_1, object_2)\n",
        "    \n",
        "    def predict(self , data):\n",
        "        self.data = data \n",
        "        distance = []\n",
        "        counter_row = 0 \n",
        "    \n",
        "        # Measuring the Euclidean Distance \n",
        "        # and adding it to the list in order from least to most\n",
        "        for i in self.X:\n",
        "            dst = self.__distance(self.data, i )\n",
        "            heapq.heappush(distance,(dst, self.y[counter_row])) \n",
        "            counter_row += 1 \n",
        "        \n",
        "        # To determine which element has more in K selected elements\n",
        "        liste = [0,0,0]\n",
        "        chech_list = distance[0 : self.k]\n",
        "        self.MAX_ELEMENT = -1\n",
        "        self.MAX_NUMBER  = -1\n",
        "        for i in chech_list:\n",
        "            if(i[1] == 0): \n",
        "                liste[0]+=1\n",
        "                if(liste[0] > self.MAX_NUMBER):\n",
        "                    self.MAX_NUMBER  = liste[0]\n",
        "                    self.MAX_ELEMENT = 0\n",
        "            elif(i[1] == 1): \n",
        "                liste[1]+=1\n",
        "                if(liste[1] > self.MAX_NUMBER):\n",
        "                    self.MAX_NUMBER = liste[0]\n",
        "                    self.MAX_ELEMENT = 1\n",
        "            elif(i[1] == 2): \n",
        "                liste[2]+=1\n",
        "                if(liste[2] > self.MAX_NUMBER):\n",
        "                    self.MAX_NUMBER = liste[0]\n",
        "                    self.MAX_ELEMENT = 2\n",
        "        return self.MAX_ELEMENT"
      ],
      "execution_count": 3,
      "outputs": []
    },
    {
      "cell_type": "code",
      "metadata": {
        "colab": {
          "base_uri": "https://localhost:8080/"
        },
        "id": "Jr_rlsMU05Ms",
        "outputId": "32e316bd-7bbd-402c-fcb8-f8fae17b7b95"
      },
      "source": [
        "def main():\n",
        "    iris =  datasets.load_iris()\n",
        "    data = pd.DataFrame(iris.data)\n",
        "    data[\"target\"]= iris.target\n",
        "    data = data.sample(frac=1).reset_index(drop=True)\n",
        "\n",
        "    df       = data[0 : int(len(data)*(3/5))]\n",
        "    df_test  = data[int(len(data)*(3/5))+1 : ]\n",
        "    \n",
        "    \n",
        "    df_test_x = df_test[df_test.columns[:-1]].values\n",
        "    df_test_y = df_test[df_test.columns[ -1]].values\n",
        "    for k in range(3,10):\n",
        "        model = KNN(df, k ) \n",
        "        resultant = []\n",
        "        counter = 0 \n",
        "        for i in df_test_x:\n",
        "            resultat = resultant.append(model.predict(i))\n",
        "            counter +=1 \n",
        "\n",
        "        #control df_test_y    resultat\n",
        "        controle = 0\n",
        "        for i in range(len(resultant)):\n",
        "            if (resultant[i] == df_test_y[i]):\n",
        "                controle += 1\n",
        "\n",
        "        print(f\"k = {k} , succes rate = {(controle/len(resultant))*100}\")   \n",
        "if __name__ == \"__main__\":\n",
        "    main()"
      ],
      "execution_count": 4,
      "outputs": [
        {
          "output_type": "stream",
          "text": [
            "k = 3 , succes rate = 94.91525423728814\n",
            "k = 4 , succes rate = 91.52542372881356\n",
            "k = 5 , succes rate = 89.83050847457628\n",
            "k = 6 , succes rate = 96.61016949152543\n",
            "k = 7 , succes rate = 89.83050847457628\n",
            "k = 8 , succes rate = 89.83050847457628\n",
            "k = 9 , succes rate = 84.7457627118644\n"
          ],
          "name": "stdout"
        }
      ]
    }
  ]
}