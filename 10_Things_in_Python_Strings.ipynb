{
  "nbformat": 4,
  "nbformat_minor": 0,
  "metadata": {
    "colab": {
      "name": "10 Things in Python Strings.ipynb",
      "provenance": [],
      "authorship_tag": "ABX9TyOsvv6+TieLoAwlw6Z1M/lM"
    },
    "kernelspec": {
      "name": "python3",
      "display_name": "Python 3"
    }
  },
  "cells": [
    {
      "cell_type": "markdown",
      "metadata": {
        "id": "m22um9eBCyrT"
      },
      "source": [
        "[Reference](https://medium.com/python-in-plain-english/10-things-you-can-do-with-python-strings-b0517129dd28)"
      ]
    },
    {
      "cell_type": "code",
      "metadata": {
        "id": "S9j54kTOBkJ9"
      },
      "source": [
        "x = 8"
      ],
      "execution_count": 1,
      "outputs": []
    },
    {
      "cell_type": "code",
      "metadata": {
        "colab": {
          "base_uri": "https://localhost:8080/"
        },
        "id": "jMW3KReNC1VO",
        "outputId": "b03d12f7-03b4-457d-8bc0-289706b3b246"
      },
      "source": [
        "type(x)"
      ],
      "execution_count": 2,
      "outputs": [
        {
          "output_type": "execute_result",
          "data": {
            "text/plain": [
              "int"
            ]
          },
          "metadata": {
            "tags": []
          },
          "execution_count": 2
        }
      ]
    },
    {
      "cell_type": "code",
      "metadata": {
        "colab": {
          "base_uri": "https://localhost:8080/"
        },
        "id": "xzk8pJHjC11B",
        "outputId": "89c76b38-ba9d-4aaa-a69f-b4ba24f72795"
      },
      "source": [
        "y = str(x)\n",
        "print(y)"
      ],
      "execution_count": 3,
      "outputs": [
        {
          "output_type": "stream",
          "text": [
            "8\n"
          ],
          "name": "stdout"
        }
      ]
    },
    {
      "cell_type": "code",
      "metadata": {
        "colab": {
          "base_uri": "https://localhost:8080/"
        },
        "id": "Mq5gsx1uC4K-",
        "outputId": "427bab04-53a1-4da0-c85e-3430cb866683"
      },
      "source": [
        "type(y)"
      ],
      "execution_count": 4,
      "outputs": [
        {
          "output_type": "execute_result",
          "data": {
            "text/plain": [
              "str"
            ]
          },
          "metadata": {
            "tags": []
          },
          "execution_count": 4
        }
      ]
    },
    {
      "cell_type": "code",
      "metadata": {
        "colab": {
          "base_uri": "https://localhost:8080/"
        },
        "id": "LcyR4g-7C7Jg",
        "outputId": "2531b3ad-c053-4c7b-fc4e-b2633e9df145"
      },
      "source": [
        "name = 'Branden'\n",
        "print(type(name))"
      ],
      "execution_count": 6,
      "outputs": [
        {
          "output_type": "stream",
          "text": [
            "<class 'str'>\n"
          ],
          "name": "stdout"
        }
      ]
    },
    {
      "cell_type": "markdown",
      "metadata": {
        "id": "8K_UMHosDEAM"
      },
      "source": [
        "# 1. Strip whitespaces"
      ]
    },
    {
      "cell_type": "code",
      "metadata": {
        "colab": {
          "base_uri": "https://localhost:8080/",
          "height": 37
        },
        "id": "jQ6MRk5zC9UM",
        "outputId": "d0146322-964a-4f0e-ede6-272e78b3700d"
      },
      "source": [
        "sentence = '    Python is amazing     '\n",
        "sentence.strip()"
      ],
      "execution_count": 8,
      "outputs": [
        {
          "output_type": "execute_result",
          "data": {
            "application/vnd.google.colaboratory.intrinsic+json": {
              "type": "string"
            },
            "text/plain": [
              "'Python is amazing'"
            ]
          },
          "metadata": {
            "tags": []
          },
          "execution_count": 8
        }
      ]
    },
    {
      "cell_type": "code",
      "metadata": {
        "colab": {
          "base_uri": "https://localhost:8080/",
          "height": 37
        },
        "id": "PVKbmXZeDFbA",
        "outputId": "56fee528-8769-427c-90b8-a8a2c2a7e0a3"
      },
      "source": [
        "sentence.rstrip()"
      ],
      "execution_count": 9,
      "outputs": [
        {
          "output_type": "execute_result",
          "data": {
            "application/vnd.google.colaboratory.intrinsic+json": {
              "type": "string"
            },
            "text/plain": [
              "'    Python is amazing'"
            ]
          },
          "metadata": {
            "tags": []
          },
          "execution_count": 9
        }
      ]
    },
    {
      "cell_type": "code",
      "metadata": {
        "colab": {
          "base_uri": "https://localhost:8080/",
          "height": 37
        },
        "id": "34Gb1iL3DHS7",
        "outputId": "2037c32d-4e71-454a-d1d2-9eae13f2d6b8"
      },
      "source": [
        "sentence.lstrip()"
      ],
      "execution_count": 10,
      "outputs": [
        {
          "output_type": "execute_result",
          "data": {
            "application/vnd.google.colaboratory.intrinsic+json": {
              "type": "string"
            },
            "text/plain": [
              "'Python is amazing     '"
            ]
          },
          "metadata": {
            "tags": []
          },
          "execution_count": 10
        }
      ]
    },
    {
      "cell_type": "markdown",
      "metadata": {
        "id": "OEoaY4ShDJyD"
      },
      "source": [
        "# 2. Replace substrings"
      ]
    },
    {
      "cell_type": "code",
      "metadata": {
        "colab": {
          "base_uri": "https://localhost:8080/",
          "height": 37
        },
        "id": "6l7SNmA6DKQK",
        "outputId": "f13ab5b5-75df-4073-aab6-4fbaba8b8b3f"
      },
      "source": [
        "sentence = '    Python is amazing     '\n",
        "sentence.strip().replace('a','is')"
      ],
      "execution_count": 11,
      "outputs": [
        {
          "output_type": "execute_result",
          "data": {
            "application/vnd.google.colaboratory.intrinsic+json": {
              "type": "string"
            },
            "text/plain": [
              "'Python is ismiszing'"
            ]
          },
          "metadata": {
            "tags": []
          },
          "execution_count": 11
        }
      ]
    },
    {
      "cell_type": "markdown",
      "metadata": {
        "id": "mTWqAMrODN74"
      },
      "source": [
        "# 3. Manipulate cases"
      ]
    },
    {
      "cell_type": "code",
      "metadata": {
        "colab": {
          "base_uri": "https://localhost:8080/",
          "height": 37
        },
        "id": "-RCKDDtoDMAf",
        "outputId": "d2521de1-0f24-4d22-aa83-67baaf72f56a"
      },
      "source": [
        "name='branden kang'\n",
        "name.capitalize()"
      ],
      "execution_count": 13,
      "outputs": [
        {
          "output_type": "execute_result",
          "data": {
            "application/vnd.google.colaboratory.intrinsic+json": {
              "type": "string"
            },
            "text/plain": [
              "'Branden kang'"
            ]
          },
          "metadata": {
            "tags": []
          },
          "execution_count": 13
        }
      ]
    },
    {
      "cell_type": "code",
      "metadata": {
        "colab": {
          "base_uri": "https://localhost:8080/",
          "height": 37
        },
        "id": "vaH7rn-TDP3M",
        "outputId": "42e80551-00ac-484e-d562-31bb8a967180"
      },
      "source": [
        "name=name.capitalize()\n",
        "name.lower()"
      ],
      "execution_count": 14,
      "outputs": [
        {
          "output_type": "execute_result",
          "data": {
            "application/vnd.google.colaboratory.intrinsic+json": {
              "type": "string"
            },
            "text/plain": [
              "'branden kang'"
            ]
          },
          "metadata": {
            "tags": []
          },
          "execution_count": 14
        }
      ]
    },
    {
      "cell_type": "code",
      "metadata": {
        "colab": {
          "base_uri": "https://localhost:8080/",
          "height": 37
        },
        "id": "yYUTGolBDWaV",
        "outputId": "2715c72b-d5e7-44e3-9536-db8b6ba8a158"
      },
      "source": [
        "name='branden kang'\n",
        "name.upper()"
      ],
      "execution_count": 15,
      "outputs": [
        {
          "output_type": "execute_result",
          "data": {
            "application/vnd.google.colaboratory.intrinsic+json": {
              "type": "string"
            },
            "text/plain": [
              "'BRANDEN KANG'"
            ]
          },
          "metadata": {
            "tags": []
          },
          "execution_count": 15
        }
      ]
    },
    {
      "cell_type": "code",
      "metadata": {
        "colab": {
          "base_uri": "https://localhost:8080/",
          "height": 37
        },
        "id": "wi3MmXivDYW4",
        "outputId": "e69465d9-63a2-42bc-ce18-55058062a236"
      },
      "source": [
        "name.title()"
      ],
      "execution_count": 16,
      "outputs": [
        {
          "output_type": "execute_result",
          "data": {
            "application/vnd.google.colaboratory.intrinsic+json": {
              "type": "string"
            },
            "text/plain": [
              "'Branden Kang'"
            ]
          },
          "metadata": {
            "tags": []
          },
          "execution_count": 16
        }
      ]
    },
    {
      "cell_type": "markdown",
      "metadata": {
        "id": "r2NHtnJXDb0H"
      },
      "source": [
        "# 4. Split strings"
      ]
    },
    {
      "cell_type": "code",
      "metadata": {
        "colab": {
          "base_uri": "https://localhost:8080/"
        },
        "id": "JsftF-hnDaUb",
        "outputId": "25944874-f305-4058-880b-c4d6e2b3676c"
      },
      "source": [
        "name = 'Branden is a data scientist'\n",
        "name.split()"
      ],
      "execution_count": 17,
      "outputs": [
        {
          "output_type": "execute_result",
          "data": {
            "text/plain": [
              "['Branden', 'is', 'a', 'data', 'scientist']"
            ]
          },
          "metadata": {
            "tags": []
          },
          "execution_count": 17
        }
      ]
    },
    {
      "cell_type": "code",
      "metadata": {
        "colab": {
          "base_uri": "https://localhost:8080/"
        },
        "id": "u_OTYPpIDgIh",
        "outputId": "c9e2471e-fb3f-4e52-b297-94e9ce439313"
      },
      "source": [
        "mystring = 'adfqwerasdfasdf'\n",
        "mystring.split('a')"
      ],
      "execution_count": 19,
      "outputs": [
        {
          "output_type": "execute_result",
          "data": {
            "text/plain": [
              "['', 'dfqwer', 'sdf', 'sdf']"
            ]
          },
          "metadata": {
            "tags": []
          },
          "execution_count": 19
        }
      ]
    },
    {
      "cell_type": "code",
      "metadata": {
        "colab": {
          "base_uri": "https://localhost:8080/"
        },
        "id": "QhmYC2dlDkmV",
        "outputId": "b056cb8f-c0ae-48f6-9ff7-ac453720f38d"
      },
      "source": [
        "mystring.split('s')"
      ],
      "execution_count": 20,
      "outputs": [
        {
          "output_type": "execute_result",
          "data": {
            "text/plain": [
              "['adfqwera', 'dfa', 'df']"
            ]
          },
          "metadata": {
            "tags": []
          },
          "execution_count": 20
        }
      ]
    },
    {
      "cell_type": "code",
      "metadata": {
        "colab": {
          "base_uri": "https://localhost:8080/"
        },
        "id": "f_mV1DrJDol3",
        "outputId": "e1e9114a-1fa6-4ead-e6a9-656de3aa7cdb"
      },
      "source": [
        "mystring.split('d',1)"
      ],
      "execution_count": 21,
      "outputs": [
        {
          "output_type": "execute_result",
          "data": {
            "text/plain": [
              "['a', 'fqwerasdfasdf']"
            ]
          },
          "metadata": {
            "tags": []
          },
          "execution_count": 21
        }
      ]
    },
    {
      "cell_type": "code",
      "metadata": {
        "id": "ILH2H-f0Dq5b"
      },
      "source": [
        "# 5. Join words"
      ],
      "execution_count": 22,
      "outputs": []
    },
    {
      "cell_type": "code",
      "metadata": {
        "colab": {
          "base_uri": "https://localhost:8080/",
          "height": 37
        },
        "id": "ru1qNvKjDsSP",
        "outputId": "0380e021-77f4-4d7f-ca88-f9c5e1a1ab43"
      },
      "source": [
        "mylist = ['Name', 'Age','Gender', 'Job']\n",
        "','.join(mylist)"
      ],
      "execution_count": 23,
      "outputs": [
        {
          "output_type": "execute_result",
          "data": {
            "application/vnd.google.colaboratory.intrinsic+json": {
              "type": "string"
            },
            "text/plain": [
              "'Name,Age,Gender,Job'"
            ]
          },
          "metadata": {
            "tags": []
          },
          "execution_count": 23
        }
      ]
    },
    {
      "cell_type": "code",
      "metadata": {
        "colab": {
          "base_uri": "https://localhost:8080/",
          "height": 37
        },
        "id": "1Psv4EsjDvJ4",
        "outputId": "0822b8f3-5ebf-46c5-83b6-71a048780e3d"
      },
      "source": [
        "' '.join(mylist)"
      ],
      "execution_count": 24,
      "outputs": [
        {
          "output_type": "execute_result",
          "data": {
            "application/vnd.google.colaboratory.intrinsic+json": {
              "type": "string"
            },
            "text/plain": [
              "'Name Age Gender Job'"
            ]
          },
          "metadata": {
            "tags": []
          },
          "execution_count": 24
        }
      ]
    },
    {
      "cell_type": "code",
      "metadata": {
        "colab": {
          "base_uri": "https://localhost:8080/",
          "height": 37
        },
        "id": "JJ9ftTz4DwzN",
        "outputId": "05162cc8-3b80-4853-ff38-c84bcedf566c"
      },
      "source": [
        "'.'.join(mylist)"
      ],
      "execution_count": 25,
      "outputs": [
        {
          "output_type": "execute_result",
          "data": {
            "application/vnd.google.colaboratory.intrinsic+json": {
              "type": "string"
            },
            "text/plain": [
              "'Name.Age.Gender.Job'"
            ]
          },
          "metadata": {
            "tags": []
          },
          "execution_count": 25
        }
      ]
    },
    {
      "cell_type": "code",
      "metadata": {
        "colab": {
          "base_uri": "https://localhost:8080/",
          "height": 37
        },
        "id": "iTzangHsDyZE",
        "outputId": "34670905-eac9-4cc0-a6df-045c59d650c1"
      },
      "source": [
        "'a'.join(mylist)"
      ],
      "execution_count": 26,
      "outputs": [
        {
          "output_type": "execute_result",
          "data": {
            "application/vnd.google.colaboratory.intrinsic+json": {
              "type": "string"
            },
            "text/plain": [
              "'NameaAgeaGenderaJob'"
            ]
          },
          "metadata": {
            "tags": []
          },
          "execution_count": 26
        }
      ]
    },
    {
      "cell_type": "markdown",
      "metadata": {
        "id": "UOnM2otHD3DF"
      },
      "source": [
        "# 6. Alphabets, Numbers or both?"
      ]
    },
    {
      "cell_type": "code",
      "metadata": {
        "colab": {
          "base_uri": "https://localhost:8080/"
        },
        "id": "iwcURxCQD1mf",
        "outputId": "199e3d38-0781-4309-a371-a5b3d0cf3c8a"
      },
      "source": [
        "string = '123456789'\n",
        "string.isnumeric()"
      ],
      "execution_count": 27,
      "outputs": [
        {
          "output_type": "execute_result",
          "data": {
            "text/plain": [
              "True"
            ]
          },
          "metadata": {
            "tags": []
          },
          "execution_count": 27
        }
      ]
    },
    {
      "cell_type": "code",
      "metadata": {
        "colab": {
          "base_uri": "https://localhost:8080/"
        },
        "id": "r5NnBlo_D6M3",
        "outputId": "c58af2e6-1afa-41ea-e915-2273f4bc1e42"
      },
      "source": [
        "string = '12a3456789'\n",
        "string.isnumeric()"
      ],
      "execution_count": 28,
      "outputs": [
        {
          "output_type": "execute_result",
          "data": {
            "text/plain": [
              "False"
            ]
          },
          "metadata": {
            "tags": []
          },
          "execution_count": 28
        }
      ]
    },
    {
      "cell_type": "code",
      "metadata": {
        "colab": {
          "base_uri": "https://localhost:8080/"
        },
        "id": "2DN-n7kkD73Z",
        "outputId": "52950690-4f44-4bfa-d54a-0e8df0af790f"
      },
      "source": [
        "string = '123 56789'\n",
        "string.isnumeric()"
      ],
      "execution_count": 29,
      "outputs": [
        {
          "output_type": "execute_result",
          "data": {
            "text/plain": [
              "False"
            ]
          },
          "metadata": {
            "tags": []
          },
          "execution_count": 29
        }
      ]
    },
    {
      "cell_type": "code",
      "metadata": {
        "colab": {
          "base_uri": "https://localhost:8080/"
        },
        "id": "Ahn_s-B8D8rH",
        "outputId": "4929fe92-bfbf-4442-a948-b8492dfcb24f"
      },
      "source": [
        "string = 'abcdefgh'\n",
        "string.isalpha()"
      ],
      "execution_count": 30,
      "outputs": [
        {
          "output_type": "execute_result",
          "data": {
            "text/plain": [
              "True"
            ]
          },
          "metadata": {
            "tags": []
          },
          "execution_count": 30
        }
      ]
    },
    {
      "cell_type": "code",
      "metadata": {
        "colab": {
          "base_uri": "https://localhost:8080/"
        },
        "id": "XkLXgGneEArv",
        "outputId": "b6d31869-1649-436f-8768-74f1e5e35e4f"
      },
      "source": [
        "string = 'abcdefgh1'\n",
        "string.isalpha()"
      ],
      "execution_count": 31,
      "outputs": [
        {
          "output_type": "execute_result",
          "data": {
            "text/plain": [
              "False"
            ]
          },
          "metadata": {
            "tags": []
          },
          "execution_count": 31
        }
      ]
    },
    {
      "cell_type": "code",
      "metadata": {
        "colab": {
          "base_uri": "https://localhost:8080/"
        },
        "id": "0YFcGsgIEB4u",
        "outputId": "e94ff677-552f-43b2-9f56-0d945c1ba7e5"
      },
      "source": [
        "string = 'abc efgh'\n",
        "string.isalpha()"
      ],
      "execution_count": 32,
      "outputs": [
        {
          "output_type": "execute_result",
          "data": {
            "text/plain": [
              "False"
            ]
          },
          "metadata": {
            "tags": []
          },
          "execution_count": 32
        }
      ]
    },
    {
      "cell_type": "code",
      "metadata": {
        "colab": {
          "base_uri": "https://localhost:8080/"
        },
        "id": "lBork4S3EC4x",
        "outputId": "c9b41590-fb41-4798-cc29-fd23f1a517cb"
      },
      "source": [
        "string = '123456789abcdefg'\n",
        "string.isalnum()"
      ],
      "execution_count": 33,
      "outputs": [
        {
          "output_type": "execute_result",
          "data": {
            "text/plain": [
              "True"
            ]
          },
          "metadata": {
            "tags": []
          },
          "execution_count": 33
        }
      ]
    },
    {
      "cell_type": "code",
      "metadata": {
        "colab": {
          "base_uri": "https://localhost:8080/"
        },
        "id": "70Uy_deDEIGV",
        "outputId": "6995d2a1-9c70-4095-cd5f-4ba47daf6d70"
      },
      "source": [
        "string = '123456789 abcdefg'\n",
        "string.isalnum()"
      ],
      "execution_count": 34,
      "outputs": [
        {
          "output_type": "execute_result",
          "data": {
            "text/plain": [
              "False"
            ]
          },
          "metadata": {
            "tags": []
          },
          "execution_count": 34
        }
      ]
    },
    {
      "cell_type": "code",
      "metadata": {
        "colab": {
          "base_uri": "https://localhost:8080/"
        },
        "id": "3bl1mO_AEJNY",
        "outputId": "0e124212-5b11-481b-8363-40e8f6cc65b9"
      },
      "source": [
        "string = 'abcdefg'\n",
        "string.isalnum()"
      ],
      "execution_count": 35,
      "outputs": [
        {
          "output_type": "execute_result",
          "data": {
            "text/plain": [
              "True"
            ]
          },
          "metadata": {
            "tags": []
          },
          "execution_count": 35
        }
      ]
    },
    {
      "cell_type": "markdown",
      "metadata": {
        "id": "BBwQtxlgELMh"
      },
      "source": [
        "# 7. Occurrences of substring"
      ]
    },
    {
      "cell_type": "code",
      "metadata": {
        "id": "pSZQ5UfEEKjy"
      },
      "source": [
        "string = 'Python strings are easy to learn.'"
      ],
      "execution_count": 36,
      "outputs": []
    },
    {
      "cell_type": "code",
      "metadata": {
        "colab": {
          "base_uri": "https://localhost:8080/"
        },
        "id": "V2hCMSD5EN6C",
        "outputId": "c94b1a8a-5112-44a8-888d-c58f76444f4c"
      },
      "source": [
        "string.count('P',1)"
      ],
      "execution_count": 37,
      "outputs": [
        {
          "output_type": "execute_result",
          "data": {
            "text/plain": [
              "0"
            ]
          },
          "metadata": {
            "tags": []
          },
          "execution_count": 37
        }
      ]
    },
    {
      "cell_type": "code",
      "metadata": {
        "colab": {
          "base_uri": "https://localhost:8080/"
        },
        "id": "fKIEbh2LEO76",
        "outputId": "34bd821e-01ca-4d21-bf54-0854c3ef8fae"
      },
      "source": [
        "string.count(' ')"
      ],
      "execution_count": 38,
      "outputs": [
        {
          "output_type": "execute_result",
          "data": {
            "text/plain": [
              "5"
            ]
          },
          "metadata": {
            "tags": []
          },
          "execution_count": 38
        }
      ]
    },
    {
      "cell_type": "code",
      "metadata": {
        "colab": {
          "base_uri": "https://localhost:8080/"
        },
        "id": "93zzvibDEP0D",
        "outputId": "8028efbb-27b0-42b1-e672-e4bcfe75640d"
      },
      "source": [
        "string.count('s',13)"
      ],
      "execution_count": 39,
      "outputs": [
        {
          "output_type": "execute_result",
          "data": {
            "text/plain": [
              "2"
            ]
          },
          "metadata": {
            "tags": []
          },
          "execution_count": 39
        }
      ]
    },
    {
      "cell_type": "markdown",
      "metadata": {
        "id": "rDPMFtbIETjH"
      },
      "source": [
        "# 8. Where is the substring?"
      ]
    },
    {
      "cell_type": "code",
      "metadata": {
        "id": "Nm40YJxFERSj"
      },
      "source": [
        "string = 'Python strings are easy to learn.'"
      ],
      "execution_count": 40,
      "outputs": []
    },
    {
      "cell_type": "code",
      "metadata": {
        "colab": {
          "base_uri": "https://localhost:8080/"
        },
        "id": "hDcONomcEVoK",
        "outputId": "fdea6b4f-ec9b-4c10-fe79-5a285c0c4fcd"
      },
      "source": [
        "string.index('P')"
      ],
      "execution_count": 41,
      "outputs": [
        {
          "output_type": "execute_result",
          "data": {
            "text/plain": [
              "0"
            ]
          },
          "metadata": {
            "tags": []
          },
          "execution_count": 41
        }
      ]
    },
    {
      "cell_type": "code",
      "metadata": {
        "colab": {
          "base_uri": "https://localhost:8080/"
        },
        "id": "mG4hOZkaEV8X",
        "outputId": "e7d8ec2a-bb97-4db9-c6ed-af74f300086b"
      },
      "source": [
        "string.find('P')"
      ],
      "execution_count": 42,
      "outputs": [
        {
          "output_type": "execute_result",
          "data": {
            "text/plain": [
              "0"
            ]
          },
          "metadata": {
            "tags": []
          },
          "execution_count": 42
        }
      ]
    },
    {
      "cell_type": "code",
      "metadata": {
        "colab": {
          "base_uri": "https://localhost:8080/"
        },
        "id": "IvHjAk-kEW9s",
        "outputId": "d44ea6e0-61d7-44b3-8e7b-aa8512b168ba"
      },
      "source": [
        "string.find('z')"
      ],
      "execution_count": 43,
      "outputs": [
        {
          "output_type": "execute_result",
          "data": {
            "text/plain": [
              "-1"
            ]
          },
          "metadata": {
            "tags": []
          },
          "execution_count": 43
        }
      ]
    },
    {
      "cell_type": "code",
      "metadata": {
        "colab": {
          "base_uri": "https://localhost:8080/",
          "height": 198
        },
        "id": "9cFEw-z8EYDs",
        "outputId": "244f2169-d0b9-472f-c9f9-32bd17215542"
      },
      "source": [
        "string.index('z')"
      ],
      "execution_count": 44,
      "outputs": [
        {
          "output_type": "error",
          "ename": "ValueError",
          "evalue": "ignored",
          "traceback": [
            "\u001b[0;31m---------------------------------------------------------------------------\u001b[0m",
            "\u001b[0;31mValueError\u001b[0m                                Traceback (most recent call last)",
            "\u001b[0;32m<ipython-input-44-91906956e9d7>\u001b[0m in \u001b[0;36m<module>\u001b[0;34m()\u001b[0m\n\u001b[0;32m----> 1\u001b[0;31m \u001b[0mstring\u001b[0m\u001b[0;34m.\u001b[0m\u001b[0mindex\u001b[0m\u001b[0;34m(\u001b[0m\u001b[0;34m'z'\u001b[0m\u001b[0;34m)\u001b[0m\u001b[0;34m\u001b[0m\u001b[0;34m\u001b[0m\u001b[0m\n\u001b[0m",
            "\u001b[0;31mValueError\u001b[0m: substring not found"
          ]
        }
      ]
    },
    {
      "cell_type": "markdown",
      "metadata": {
        "id": "uxgcAeqXEZw7"
      },
      "source": [
        "# 9. String ends with?"
      ]
    },
    {
      "cell_type": "code",
      "metadata": {
        "colab": {
          "base_uri": "https://localhost:8080/"
        },
        "id": "ual0V2ekEZAK",
        "outputId": "a6c17369-9825-4aa5-f018-b669cbae91a7"
      },
      "source": [
        "string.endswith('to learn.')"
      ],
      "execution_count": 45,
      "outputs": [
        {
          "output_type": "execute_result",
          "data": {
            "text/plain": [
              "True"
            ]
          },
          "metadata": {
            "tags": []
          },
          "execution_count": 45
        }
      ]
    },
    {
      "cell_type": "code",
      "metadata": {
        "colab": {
          "base_uri": "https://localhost:8080/"
        },
        "id": "KBmTjSqSEb70",
        "outputId": "f08ae688-5527-4d1d-c4a1-5a5223eb87ae"
      },
      "source": [
        "string.endswith('to learn')"
      ],
      "execution_count": 46,
      "outputs": [
        {
          "output_type": "execute_result",
          "data": {
            "text/plain": [
              "False"
            ]
          },
          "metadata": {
            "tags": []
          },
          "execution_count": 46
        }
      ]
    },
    {
      "cell_type": "code",
      "metadata": {
        "colab": {
          "base_uri": "https://localhost:8080/"
        },
        "id": "JIieueavEdbF",
        "outputId": "fadd5523-2998-4624-b7ff-13a0d16ce54d"
      },
      "source": [
        "string.endswith('fast', 0, 14)"
      ],
      "execution_count": 47,
      "outputs": [
        {
          "output_type": "execute_result",
          "data": {
            "text/plain": [
              "False"
            ]
          },
          "metadata": {
            "tags": []
          },
          "execution_count": 47
        }
      ]
    },
    {
      "cell_type": "markdown",
      "metadata": {
        "id": "iFsw_WOHEgA9"
      },
      "source": [
        "# 10. String formatting"
      ]
    },
    {
      "cell_type": "code",
      "metadata": {
        "colab": {
          "base_uri": "https://localhost:8080/"
        },
        "id": "g2-IiJIxEenV",
        "outputId": "7c40f0bc-ead0-4e5b-c935-e31505bcf87d"
      },
      "source": [
        "x = 8\n",
        "y = 5\n",
        "string = 'The value of x is: {}.'.format(x)\n",
        "print(string)"
      ],
      "execution_count": 48,
      "outputs": [
        {
          "output_type": "stream",
          "text": [
            "The value of x is: 8.\n"
          ],
          "name": "stdout"
        }
      ]
    },
    {
      "cell_type": "code",
      "metadata": {
        "colab": {
          "base_uri": "https://localhost:8080/"
        },
        "id": "wOFvNyQ9EkOl",
        "outputId": "d14ee4b2-a0f2-4aac-ed6a-a4c7fed069a9"
      },
      "source": [
        "string = 'The value of x and y are: {} and {}.'.format(x,y)\n",
        "print(string)"
      ],
      "execution_count": 49,
      "outputs": [
        {
          "output_type": "stream",
          "text": [
            "The value of x and y are: 8 and 5.\n"
          ],
          "name": "stdout"
        }
      ]
    },
    {
      "cell_type": "code",
      "metadata": {
        "colab": {
          "base_uri": "https://localhost:8080/",
          "height": 37
        },
        "id": "50Hm6jKpEoMQ",
        "outputId": "44e71653-2cc1-474f-9bdf-0d9f0dd72406"
      },
      "source": [
        "string = f'The value of x is: {x}.'\n",
        "string"
      ],
      "execution_count": 50,
      "outputs": [
        {
          "output_type": "execute_result",
          "data": {
            "application/vnd.google.colaboratory.intrinsic+json": {
              "type": "string"
            },
            "text/plain": [
              "'The value of x is: 8.'"
            ]
          },
          "metadata": {
            "tags": []
          },
          "execution_count": 50
        }
      ]
    },
    {
      "cell_type": "code",
      "metadata": {
        "colab": {
          "base_uri": "https://localhost:8080/",
          "height": 37
        },
        "id": "ZrmpNuIEEp6w",
        "outputId": "44c37419-5127-4085-d579-9e9b7cd8f352"
      },
      "source": [
        "string = f'The value of x and y are: {x} and {y}.'\n",
        "string"
      ],
      "execution_count": 51,
      "outputs": [
        {
          "output_type": "execute_result",
          "data": {
            "application/vnd.google.colaboratory.intrinsic+json": {
              "type": "string"
            },
            "text/plain": [
              "'The value of x and y are: 8 and 5.'"
            ]
          },
          "metadata": {
            "tags": []
          },
          "execution_count": 51
        }
      ]
    }
  ]
}