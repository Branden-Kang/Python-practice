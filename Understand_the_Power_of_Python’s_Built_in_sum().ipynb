{
  "nbformat": 4,
  "nbformat_minor": 0,
  "metadata": {
    "colab": {
      "provenance": [],
      "authorship_tag": "ABX9TyM7nwOQpwJvFaiwRYmkOQ6J"
    },
    "kernelspec": {
      "name": "python3",
      "display_name": "Python 3"
    },
    "language_info": {
      "name": "python"
    }
  },
  "cells": [
    {
      "cell_type": "markdown",
      "source": [
        "[Reference](https://python.plainenglish.io/understand-the-power-of-pythons-built-in-sum-5ddc48dd54b0)"
      ],
      "metadata": {
        "id": "aD7AbYAMnOVw"
      }
    },
    {
      "cell_type": "code",
      "execution_count": 1,
      "metadata": {
        "colab": {
          "base_uri": "https://localhost:8080/"
        },
        "id": "gnQ4v32Rm9zl",
        "outputId": "0fb5ac59-baab-46ba-8af0-71fed22f8aca"
      },
      "outputs": [
        {
          "output_type": "stream",
          "name": "stdout",
          "text": [
            "6\n"
          ]
        }
      ],
      "source": [
        "elements = [1, 2, 3]\n",
        "total = sum(elements)\n",
        "print(total) # 6"
      ]
    },
    {
      "cell_type": "code",
      "source": [
        "elements = [1, 2, 3]\n",
        "total = 0\n",
        "for element in elements:\n",
        "    total += element\n",
        "\n",
        "print(total) # 6"
      ],
      "metadata": {
        "colab": {
          "base_uri": "https://localhost:8080/"
        },
        "id": "LTzchsOPnRJS",
        "outputId": "4dc5e3ba-f445-41b2-ceff-45dfaa6c1f21"
      },
      "execution_count": 2,
      "outputs": [
        {
          "output_type": "stream",
          "name": "stdout",
          "text": [
            "6\n"
          ]
        }
      ]
    },
    {
      "cell_type": "code",
      "source": [
        "class MyContainer:\n",
        "\n",
        "    def __init__(self) -> None:\n",
        "        self._data = [1, 2, 3, 4, 5]\n",
        "\n",
        "    def __iter__(self):\n",
        "        return iter(self._data)\n",
        "\n",
        "my_container = MyContainer()\n",
        "total = sum(my_container)\n",
        "print(total) # 15"
      ],
      "metadata": {
        "colab": {
          "base_uri": "https://localhost:8080/"
        },
        "id": "RAlq-QeOnSc9",
        "outputId": "bd6ca222-ec94-4d70-df01-5533a5b04f18"
      },
      "execution_count": 3,
      "outputs": [
        {
          "output_type": "stream",
          "name": "stdout",
          "text": [
            "15\n"
          ]
        }
      ]
    }
  ]
}