{
  "nbformat": 4,
  "nbformat_minor": 0,
  "metadata": {
    "colab": {
      "name": "How To make simple web apps with Python.ipynb",
      "provenance": [],
      "authorship_tag": "ABX9TyN62OXbBjNN1oALvpF+YIGo"
    },
    "kernelspec": {
      "name": "python3",
      "display_name": "Python 3"
    },
    "language_info": {
      "name": "python"
    }
  },
  "cells": [
    {
      "cell_type": "markdown",
      "metadata": {
        "id": "lkkjCcDchPVZ"
      },
      "source": [
        "[Reference](https://preettheman.medium.com/how-to-make-simple-web-apps-with-python-8d524b49a21e)"
      ]
    },
    {
      "cell_type": "code",
      "metadata": {
        "colab": {
          "base_uri": "https://localhost:8080/"
        },
        "id": "hfEOB_xNg_ZH",
        "outputId": "1e6375aa-3833-434e-d06d-4edf7af5413a"
      },
      "source": [
        "pip install -U pywebio"
      ],
      "execution_count": 3,
      "outputs": [
        {
          "output_type": "stream",
          "name": "stdout",
          "text": [
            "Collecting pywebio\n",
            "  Downloading pywebio-1.4.0.tar.gz (339 kB)\n",
            "\u001b[?25l\r\u001b[K     |█                               | 10 kB 22.8 MB/s eta 0:00:01\r\u001b[K     |██                              | 20 kB 27.1 MB/s eta 0:00:01\r\u001b[K     |███                             | 30 kB 17.5 MB/s eta 0:00:01\r\u001b[K     |███▉                            | 40 kB 12.9 MB/s eta 0:00:01\r\u001b[K     |████▉                           | 51 kB 5.5 MB/s eta 0:00:01\r\u001b[K     |█████▉                          | 61 kB 5.8 MB/s eta 0:00:01\r\u001b[K     |██████▊                         | 71 kB 5.3 MB/s eta 0:00:01\r\u001b[K     |███████▊                        | 81 kB 5.9 MB/s eta 0:00:01\r\u001b[K     |████████▊                       | 92 kB 5.9 MB/s eta 0:00:01\r\u001b[K     |█████████▋                      | 102 kB 5.2 MB/s eta 0:00:01\r\u001b[K     |██████████▋                     | 112 kB 5.2 MB/s eta 0:00:01\r\u001b[K     |███████████▋                    | 122 kB 5.2 MB/s eta 0:00:01\r\u001b[K     |████████████▌                   | 133 kB 5.2 MB/s eta 0:00:01\r\u001b[K     |█████████████▌                  | 143 kB 5.2 MB/s eta 0:00:01\r\u001b[K     |██████████████▌                 | 153 kB 5.2 MB/s eta 0:00:01\r\u001b[K     |███████████████▍                | 163 kB 5.2 MB/s eta 0:00:01\r\u001b[K     |████████████████▍               | 174 kB 5.2 MB/s eta 0:00:01\r\u001b[K     |█████████████████▍              | 184 kB 5.2 MB/s eta 0:00:01\r\u001b[K     |██████████████████▎             | 194 kB 5.2 MB/s eta 0:00:01\r\u001b[K     |███████████████████▎            | 204 kB 5.2 MB/s eta 0:00:01\r\u001b[K     |████████████████████▎           | 215 kB 5.2 MB/s eta 0:00:01\r\u001b[K     |█████████████████████▏          | 225 kB 5.2 MB/s eta 0:00:01\r\u001b[K     |██████████████████████▏         | 235 kB 5.2 MB/s eta 0:00:01\r\u001b[K     |███████████████████████▏        | 245 kB 5.2 MB/s eta 0:00:01\r\u001b[K     |████████████████████████▏       | 256 kB 5.2 MB/s eta 0:00:01\r\u001b[K     |█████████████████████████       | 266 kB 5.2 MB/s eta 0:00:01\r\u001b[K     |██████████████████████████      | 276 kB 5.2 MB/s eta 0:00:01\r\u001b[K     |███████████████████████████     | 286 kB 5.2 MB/s eta 0:00:01\r\u001b[K     |████████████████████████████    | 296 kB 5.2 MB/s eta 0:00:01\r\u001b[K     |█████████████████████████████   | 307 kB 5.2 MB/s eta 0:00:01\r\u001b[K     |██████████████████████████████  | 317 kB 5.2 MB/s eta 0:00:01\r\u001b[K     |██████████████████████████████▉ | 327 kB 5.2 MB/s eta 0:00:01\r\u001b[K     |███████████████████████████████▉| 337 kB 5.2 MB/s eta 0:00:01\r\u001b[K     |████████████████████████████████| 339 kB 5.2 MB/s \n",
            "\u001b[?25hRequirement already satisfied: tornado>=5.0 in /usr/local/lib/python3.7/dist-packages (from pywebio) (5.1.1)\n",
            "Collecting user-agents\n",
            "  Downloading user_agents-2.2.0-py3-none-any.whl (9.6 kB)\n",
            "Collecting ua-parser>=0.10.0\n",
            "  Downloading ua_parser-0.10.0-py2.py3-none-any.whl (35 kB)\n",
            "Building wheels for collected packages: pywebio\n",
            "  Building wheel for pywebio (setup.py) ... \u001b[?25l\u001b[?25hdone\n",
            "  Created wheel for pywebio: filename=pywebio-1.4.0-py3-none-any.whl size=348394 sha256=f7fc22e90e5bd3f2162aff64c23e90f3dde5aaaa8e9278c53270d62f04f78b6b\n",
            "  Stored in directory: /root/.cache/pip/wheels/db/7c/3b/853abdef49e39ea18d115f0262ee9e4c0a344bf1ba5439390e\n",
            "Successfully built pywebio\n",
            "Installing collected packages: ua-parser, user-agents, pywebio\n",
            "Successfully installed pywebio-1.4.0 ua-parser-0.10.0 user-agents-2.2.0\n"
          ]
        }
      ]
    },
    {
      "cell_type": "code",
      "metadata": {
        "id": "WN1wWMh2hFsk"
      },
      "source": [
        "from pywebio.input import input, FLOAT\n",
        "from pywebio.output import put_text\n",
        "\n",
        "def bmi():\n",
        "    height = input(\"Your Height(cm)：\", type=FLOAT)\n",
        "    weight = input(\"Your Weight(kg)：\", type=FLOAT)\n",
        "\n",
        "    BMI = weight / (height / 100) ** 2\n",
        "\n",
        "    top_status = [(14.9, 'Severely underweight'), (18.4, 'Underweight'),\n",
        "                  (22.9, 'Normal'), (27.5, 'Overweight'),\n",
        "                  (40.0, 'Moderately obese'), (float('inf'), 'Severely obese')]\n",
        "\n",
        "    for top, status in top_status:\n",
        "        if BMI <= top:\n",
        "            put_text('Your BMI: %.1f, category: %s' % (BMI, status))\n",
        "            break\n",
        "\n",
        "if __name__ == '__main__':\n",
        "    bmi()"
      ],
      "execution_count": 5,
      "outputs": []
    },
    {
      "cell_type": "code",
      "metadata": {
        "id": "Eg7UniK5hGkV"
      },
      "source": [
        "from pywebio import start_server\n",
        "from pywebio.input import input, FLOAT\n",
        "from pywebio.output import put_text\n",
        "\n",
        "def bmi(): # bmi() keep the same\n",
        "    ...  \n",
        "\n",
        "if __name__ == '__main__':\n",
        "    start_server(bmi, port=80)"
      ],
      "execution_count": 6,
      "outputs": []
    },
    {
      "cell_type": "code",
      "metadata": {
        "id": "LVIyzNi_hJnG"
      },
      "source": [
        "import tornado.ioloop\n",
        "import tornado.web\n",
        "from pywebio.platform.tornado import webio_handler\n",
        "\n",
        "class MainHandler(tornado.web.RequestHandler):\n",
        "    def get(self):\n",
        "        self.write(\"Hello, world\")\n",
        "\n",
        "if __name__ == \"__main__\":\n",
        "    application = tornado.web.Application([\n",
        "        (r\"/\", MainHandler),\n",
        "        (r\"/bmi\", webio_handler(bmi)),  # bmi is the same function as above\n",
        "    ])\n",
        "    application.listen(port=80, address='localhost')\n",
        "    tornado.ioloop.IOLoop.current().start()"
      ],
      "execution_count": 7,
      "outputs": []
    }
  ]
}