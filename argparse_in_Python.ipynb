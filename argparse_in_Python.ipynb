{
  "nbformat": 4,
  "nbformat_minor": 0,
  "metadata": {
    "colab": {
      "name": "argparse in Python.ipynb",
      "provenance": [],
      "authorship_tag": "ABX9TyPm9dPzV79rWrjoElxNr7xY"
    },
    "kernelspec": {
      "name": "python3",
      "display_name": "Python 3"
    }
  },
  "cells": [
    {
      "cell_type": "markdown",
      "metadata": {
        "id": "AB1W6SMnMwsX"
      },
      "source": [
        "[Reference](https://medium.com/code-85/how-to-pass-command-line-values-to-a-python-script-1e3e7b244c89)"
      ]
    },
    {
      "cell_type": "code",
      "metadata": {
        "id": "_7IxbhsUMuzR"
      },
      "source": [
        "import argparse\n",
        "\n",
        "parser = argparse.ArgumentParser()"
      ],
      "execution_count": 1,
      "outputs": []
    },
    {
      "cell_type": "code",
      "metadata": {
        "id": "JZI32GTIM0S2"
      },
      "source": [
        "import argparse\n",
        "\n",
        "parser = argparse.ArgumentParser()\n",
        "parser.add_argument(\"number\")\n",
        "\n",
        "args = parser.parse_args()\n",
        "print(args.number * 2)"
      ],
      "execution_count": 4,
      "outputs": []
    },
    {
      "cell_type": "code",
      "metadata": {
        "id": "HKhTNO1iM1fo"
      },
      "source": [
        "import argparse\n",
        "\n",
        "parser = argparse.ArgumentParser()\n",
        "parser.add_argument(\"number\", type=int)\n",
        "\n",
        "args = parser.parse_args()\n",
        "print(args.number * 2)"
      ],
      "execution_count": 5,
      "outputs": []
    },
    {
      "cell_type": "code",
      "metadata": {
        "id": "Kc6JJFJMM91M"
      },
      "source": [
        "import argparse\n",
        "\n",
        "parser = argparse.ArgumentParser()\n",
        "parser.add_argument(\"num1\", type=int)\n",
        "parser.add_argument(\"--num2\", type=int, dest=\"num2\")\n",
        "\n",
        "args = parser.parse_args()\n",
        "\n",
        "if args.num2:\n",
        "   print(args.num1 * args.num2)\n",
        "else:\n",
        "   print(args.num1 * 2)"
      ],
      "execution_count": 6,
      "outputs": []
    },
    {
      "cell_type": "code",
      "metadata": {
        "id": "dELsP-O6NHtp"
      },
      "source": [
        "import argparse\n",
        "\n",
        "parser = argparse.ArgumentParser()\n",
        "parser.add_argument(\"greeting\")\n",
        "parser.add_argument(\"--caps\", action=\"store_true\")\n",
        "\n",
        "args = parser.parse_args()\n",
        "\n",
        "if args.caps:\n",
        "   print(args.greeting.upper())\n",
        "else:\n",
        "   print(args.greeting)"
      ],
      "execution_count": 7,
      "outputs": []
    },
    {
      "cell_type": "code",
      "metadata": {
        "id": "k6zP-hgRNMBG"
      },
      "source": [
        "import argparse\n",
        "parser = argparse.ArgumentParser()\n",
        "\n",
        "parser.add_argument(\"greeting\", help=\"Text to be printed\")\n",
        "parser.add_argument(\"--caps\", help=\"capitalize the greeting\", action=\"store_true\")"
      ],
      "execution_count": 8,
      "outputs": []
    },
    {
      "cell_type": "code",
      "metadata": {
        "id": "DyG1axZ_NQaY"
      },
      "source": [
        "import argparse\n",
        "\n",
        "parser = argparse.ArgumentParser()\n",
        "\n",
        "parser.add_argument(\"greeting\", help=\"Text to be printed\")\n",
        "parser.add_argument(\"-c\", \"--caps\", action=\"store_true\")"
      ],
      "execution_count": 9,
      "outputs": []
    }
  ]
}