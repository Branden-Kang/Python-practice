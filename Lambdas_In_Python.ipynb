{
  "nbformat": 4,
  "nbformat_minor": 0,
  "metadata": {
    "colab": {
      "name": "Lambdas In Python.ipynb",
      "provenance": [],
      "authorship_tag": "ABX9TyPJLUi7jMdA0TVyLlBW5sdb"
    },
    "kernelspec": {
      "name": "python3",
      "display_name": "Python 3"
    },
    "language_info": {
      "name": "python"
    }
  },
  "cells": [
    {
      "cell_type": "markdown",
      "metadata": {
        "id": "28A_UCEf50k6"
      },
      "source": [
        "[Reference](https://pavolkutaj.medium.com/the-aim-of-this-tutorial-is-to-introduce-anonymous-lambda-functions-in-python-just-to-make-sure-f0d6cd8d0fbc)"
      ]
    },
    {
      "cell_type": "code",
      "metadata": {
        "colab": {
          "base_uri": "https://localhost:8080/"
        },
        "id": "-dkhY93y5zMA",
        "outputId": "c3fb2808-3b80-42cb-9db1-824f010b6a31"
      },
      "source": [
        "double = lambda x: x*2\n",
        "print(double(5))"
      ],
      "execution_count": 1,
      "outputs": [
        {
          "output_type": "stream",
          "text": [
            "10\n"
          ],
          "name": "stdout"
        }
      ]
    },
    {
      "cell_type": "code",
      "metadata": {
        "id": "JGL1OsEb54Lw"
      },
      "source": [
        "def summationRecursive(term, a, next, b):\n",
        "    if (a > b):\n",
        "        return 0\n",
        "    else:\n",
        "        return term(a) + summationRecursive(term, next(a), next, b)\n",
        "        \n",
        "\"\"\" proper function declarations \"\"\"\n",
        "def sumInt(a, b):\n",
        "    def _identity(x): return x\n",
        "    def _next(x): return x+1\n",
        "    return summationRecursive(_identity, a, _next, b)\n",
        "    \n",
        "\"\"\" using lambda functions \"\"\"\n",
        "def sumIntLambda(a,b):\n",
        "    return summationRecursive(lambda x: x, a, lambda x: x+1, b)"
      ],
      "execution_count": 2,
      "outputs": []
    }
  ]
}