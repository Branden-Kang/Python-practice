{
  "nbformat": 4,
  "nbformat_minor": 0,
  "metadata": {
    "colab": {
      "name": "Visualize Similarities Between Companies With Graph Database.ipynb",
      "provenance": [],
      "authorship_tag": "ABX9TyMmifoOLOIoobaab6l8jgrs"
    },
    "kernelspec": {
      "name": "python3",
      "display_name": "Python 3"
    },
    "language_info": {
      "name": "python"
    }
  },
  "cells": [
    {
      "cell_type": "markdown",
      "source": [
        "[Reference](https://khuyentran1476.medium.com/visualize-similarities-between-companies-with-graph-database-212af872fbf6)"
      ],
      "metadata": {
        "id": "k1YiQSNdxzj3"
      }
    },
    {
      "cell_type": "code",
      "execution_count": 1,
      "metadata": {
        "colab": {
          "base_uri": "https://localhost:8080/",
          "height": 105
        },
        "id": "koh7_2HAxXSJ",
        "outputId": "0e5d0e06-9325-4af1-9411-8fd7885576fc"
      },
      "outputs": [
        {
          "output_type": "stream",
          "name": "stderr",
          "text": [
            "Downloading...\n",
            "From: https://drive.google.com/uc?id=1owa_NIBnj-Q5uwDyM2xBJeZPipjmkJsH\n",
            "To: /content/artificial_intelligence.json\n",
            "100%|██████████| 30.3M/30.3M [00:00<00:00, 98.9MB/s]\n"
          ]
        },
        {
          "output_type": "execute_result",
          "data": {
            "text/plain": [
              "'artificial_intelligence.json'"
            ],
            "application/vnd.google.colaboratory.intrinsic+json": {
              "type": "string"
            }
          },
          "metadata": {},
          "execution_count": 1
        }
      ],
      "source": [
        "import gdown\n",
        "\n",
        "url = \"https://drive.google.com/uc?id=1owa_NIBnj-Q5uwDyM2xBJeZPipjmkJsH\"\n",
        "output = \"artificial_intelligence.json\"\n",
        "\n",
        "gdown.download(url, output, quiet=False)"
      ]
    },
    {
      "cell_type": "code",
      "source": [
        "import json\n",
        "\n",
        "with open(\"artificial_intelligence.json\") as f:\n",
        "    output = json.load(f)\n",
        "    \n",
        "data = output[\"data\"]\n",
        "\n",
        "# View the keys of the first company\n",
        "data[0].keys()"
      ],
      "metadata": {
        "colab": {
          "base_uri": "https://localhost:8080/"
        },
        "id": "5UbRk3Y6xpSq",
        "outputId": "9a4e6eac-68ea-49a3-e203-50f619f86c45"
      },
      "execution_count": 2,
      "outputs": [
        {
          "output_type": "execute_result",
          "data": {
            "text/plain": [
              "dict_keys(['twitterUri', 'nbActiveEmployeeEdges', 'type', 'allNames', 'revenue', 'yearlyRevenues', 'logo', 'id', 'stock', 'nbOrigins', 'sicClassification', 'foundingDate', 'image', 'images', 'wikipediaUri', 'irsEmployerIdentificationNumbers', 'diffbotUri', 'nbIncomingEdges', 'nbEmployeesMin', 'ipo', 'parentCompany', 'angellistUri', 'name', 'motto', 'nbEmployeesMax', 'totalInvestment', 'allOriginHashes', 'linkedInUri', 'naicsClassification', 'nbEmployees', 'githubUri', 'isDissolved', 'importance', 'origin', 'description', 'homepageUri', 'founders', 'ceo', 'investments', 'blogUri', 'descriptors', 'isNonProfit', 'origins', 'isPublic', 'categories', 'crawlTimestamp', 'nbUniqueInvestors', 'facebookUri', 'secCentralIndexKeys', 'summary', 'types', 'boardMembers', 'allUris', 'nbLocations', 'crunchbaseUri', 'industries', 'allDescriptions', 'location', 'locations', 'subsidiaries'])"
            ]
          },
          "metadata": {},
          "execution_count": 2
        }
      ]
    },
    {
      "cell_type": "code",
      "source": [
        "from datetime import datetime\n",
        "import pandas as pd\n",
        "\n",
        "def get_founding_year(company: dict):\n",
        "    date_str = company.get(\"foundingDate\", {}).get(\"str\")\n",
        "    if date_str:\n",
        "        return date_str.split(\"-\")[0][1:]\n",
        "    return date_str\n",
        "    \n",
        "df = pd.DataFrame(\n",
        "    {\n",
        "        \"company\": [company.get(\"name\") for company in data],\n",
        "        \"revenue\": [company.get(\"revenue\", {}).get(\"value\") for company in data],\n",
        "        \"nbEmployees\": [company.get(\"nbEmployees\", None) for company in data],\n",
        "        \"founding_year\": [get_founding_year(company) for company in data],\n",
        "        \"locations\": [\n",
        "            company.get(\"location\", {}).get(\"country\", {}).get(\"name\")\n",
        "            for company in data\n",
        "        ],\n",
        "        \"isPublic\": [company.get(\"isPublic\") for company in data],\n",
        "        \"industries\": [company.get(\"industries\") for company in data],\n",
        "    }\n",
        ")"
      ],
      "metadata": {
        "id": "ABwGZEjgxwJs"
      },
      "execution_count": 4,
      "outputs": []
    },
    {
      "cell_type": "code",
      "source": [
        "df = df[df.notnull().all(axis=1)]\n",
        "\n",
        "df[\"founding_year\"] = df[\"founding_year\"].astype(int)\n",
        "\n",
        "# Get number of years from now\n",
        "df[\"year_from_now\"] = df[\"founding_year\"].apply(lambda row: datetime.now().year - row)\n"
      ],
      "metadata": {
        "colab": {
          "base_uri": "https://localhost:8080/"
        },
        "id": "tjm-dT-Xx9UK",
        "outputId": "76b980d2-dd8a-4abf-d1ec-3b9ec8b40b7e"
      },
      "execution_count": 5,
      "outputs": [
        {
          "output_type": "stream",
          "name": "stderr",
          "text": [
            "/usr/local/lib/python3.7/dist-packages/ipykernel_launcher.py:3: SettingWithCopyWarning: \n",
            "A value is trying to be set on a copy of a slice from a DataFrame.\n",
            "Try using .loc[row_indexer,col_indexer] = value instead\n",
            "\n",
            "See the caveats in the documentation: https://pandas.pydata.org/pandas-docs/stable/user_guide/indexing.html#returning-a-view-versus-a-copy\n",
            "  This is separate from the ipykernel package so we can avoid doing imports until\n",
            "/usr/local/lib/python3.7/dist-packages/ipykernel_launcher.py:6: SettingWithCopyWarning: \n",
            "A value is trying to be set on a copy of a slice from a DataFrame.\n",
            "Try using .loc[row_indexer,col_indexer] = value instead\n",
            "\n",
            "See the caveats in the documentation: https://pandas.pydata.org/pandas-docs/stable/user_guide/indexing.html#returning-a-view-versus-a-copy\n",
            "  \n"
          ]
        }
      ]
    },
    {
      "cell_type": "code",
      "source": [
        "df.head(10)"
      ],
      "metadata": {
        "colab": {
          "base_uri": "https://localhost:8080/",
          "height": 933
        },
        "id": "wbJ72aPzyBMs",
        "outputId": "91e968bc-573b-4025-d70f-84b713949f62"
      },
      "execution_count": 6,
      "outputs": [
        {
          "output_type": "execute_result",
          "data": {
            "text/plain": [
              "                      company       revenue  nbEmployees  founding_year  \\\n",
              "0                      Google  6.600100e+10       150000           1998   \n",
              "1                         ABB  3.431200e+10        60000           1988   \n",
              "2                      Google  4.900000e+08        35000           1998   \n",
              "3    Rockwell Automation Inc.  6.666000e+09        23500           1903   \n",
              "4                     Keyence  4.958000e+09         7500           1974   \n",
              "5   IBM INDIA PRIVATE LIMITED  3.200000e+08         7500           1992   \n",
              "6                Toyota Motor  2.723452e+13       350000           1937   \n",
              "7         Visteon Corporation  2.548000e+09        10000           2000   \n",
              "9   EXLSERVICE HOLDINGS, INC.  9.584340e+08        35000           1999   \n",
              "10                         gA  2.900000e+07         3000           1992   \n",
              "\n",
              "                   locations  isPublic  \\\n",
              "0   United States of America      True   \n",
              "1                Switzerland      True   \n",
              "2   United States of America     False   \n",
              "3   United States of America      True   \n",
              "4                      Japan      True   \n",
              "5                      India     False   \n",
              "6                      Japan      True   \n",
              "7   United States of America      True   \n",
              "9   United States of America      True   \n",
              "10  United States of America     False   \n",
              "\n",
              "                                           industries  year_from_now  \n",
              "0   [Manufacturing Companies, Electronic Products ...             24  \n",
              "1   [Software Companies, Artificial Intelligence C...             34  \n",
              "2   [Software Companies, Artificial Intelligence C...             24  \n",
              "3   [Manufacturing Companies, Software Companies, ...            119  \n",
              "4   [Manufacturing Companies, Electronic Products ...             48  \n",
              "5   [Software Companies, Artificial Intelligence C...             30  \n",
              "6   [Manufacturing Companies, Engine Manufacturers...             85  \n",
              "7   [Manufacturing Companies, Electronic Products ...             22  \n",
              "9   [Software Companies, Artificial Intelligence C...             23  \n",
              "10  [Software Companies, Artificial Intelligence C...             30  "
            ],
            "text/html": [
              "\n",
              "  <div id=\"df-1f3e3dca-1dfa-4d71-ab8d-cbfb87bda499\">\n",
              "    <div class=\"colab-df-container\">\n",
              "      <div>\n",
              "<style scoped>\n",
              "    .dataframe tbody tr th:only-of-type {\n",
              "        vertical-align: middle;\n",
              "    }\n",
              "\n",
              "    .dataframe tbody tr th {\n",
              "        vertical-align: top;\n",
              "    }\n",
              "\n",
              "    .dataframe thead th {\n",
              "        text-align: right;\n",
              "    }\n",
              "</style>\n",
              "<table border=\"1\" class=\"dataframe\">\n",
              "  <thead>\n",
              "    <tr style=\"text-align: right;\">\n",
              "      <th></th>\n",
              "      <th>company</th>\n",
              "      <th>revenue</th>\n",
              "      <th>nbEmployees</th>\n",
              "      <th>founding_year</th>\n",
              "      <th>locations</th>\n",
              "      <th>isPublic</th>\n",
              "      <th>industries</th>\n",
              "      <th>year_from_now</th>\n",
              "    </tr>\n",
              "  </thead>\n",
              "  <tbody>\n",
              "    <tr>\n",
              "      <th>0</th>\n",
              "      <td>Google</td>\n",
              "      <td>6.600100e+10</td>\n",
              "      <td>150000</td>\n",
              "      <td>1998</td>\n",
              "      <td>United States of America</td>\n",
              "      <td>True</td>\n",
              "      <td>[Manufacturing Companies, Electronic Products ...</td>\n",
              "      <td>24</td>\n",
              "    </tr>\n",
              "    <tr>\n",
              "      <th>1</th>\n",
              "      <td>ABB</td>\n",
              "      <td>3.431200e+10</td>\n",
              "      <td>60000</td>\n",
              "      <td>1988</td>\n",
              "      <td>Switzerland</td>\n",
              "      <td>True</td>\n",
              "      <td>[Software Companies, Artificial Intelligence C...</td>\n",
              "      <td>34</td>\n",
              "    </tr>\n",
              "    <tr>\n",
              "      <th>2</th>\n",
              "      <td>Google</td>\n",
              "      <td>4.900000e+08</td>\n",
              "      <td>35000</td>\n",
              "      <td>1998</td>\n",
              "      <td>United States of America</td>\n",
              "      <td>False</td>\n",
              "      <td>[Software Companies, Artificial Intelligence C...</td>\n",
              "      <td>24</td>\n",
              "    </tr>\n",
              "    <tr>\n",
              "      <th>3</th>\n",
              "      <td>Rockwell Automation Inc.</td>\n",
              "      <td>6.666000e+09</td>\n",
              "      <td>23500</td>\n",
              "      <td>1903</td>\n",
              "      <td>United States of America</td>\n",
              "      <td>True</td>\n",
              "      <td>[Manufacturing Companies, Software Companies, ...</td>\n",
              "      <td>119</td>\n",
              "    </tr>\n",
              "    <tr>\n",
              "      <th>4</th>\n",
              "      <td>Keyence</td>\n",
              "      <td>4.958000e+09</td>\n",
              "      <td>7500</td>\n",
              "      <td>1974</td>\n",
              "      <td>Japan</td>\n",
              "      <td>True</td>\n",
              "      <td>[Manufacturing Companies, Electronic Products ...</td>\n",
              "      <td>48</td>\n",
              "    </tr>\n",
              "    <tr>\n",
              "      <th>5</th>\n",
              "      <td>IBM INDIA PRIVATE LIMITED</td>\n",
              "      <td>3.200000e+08</td>\n",
              "      <td>7500</td>\n",
              "      <td>1992</td>\n",
              "      <td>India</td>\n",
              "      <td>False</td>\n",
              "      <td>[Software Companies, Artificial Intelligence C...</td>\n",
              "      <td>30</td>\n",
              "    </tr>\n",
              "    <tr>\n",
              "      <th>6</th>\n",
              "      <td>Toyota Motor</td>\n",
              "      <td>2.723452e+13</td>\n",
              "      <td>350000</td>\n",
              "      <td>1937</td>\n",
              "      <td>Japan</td>\n",
              "      <td>True</td>\n",
              "      <td>[Manufacturing Companies, Engine Manufacturers...</td>\n",
              "      <td>85</td>\n",
              "    </tr>\n",
              "    <tr>\n",
              "      <th>7</th>\n",
              "      <td>Visteon Corporation</td>\n",
              "      <td>2.548000e+09</td>\n",
              "      <td>10000</td>\n",
              "      <td>2000</td>\n",
              "      <td>United States of America</td>\n",
              "      <td>True</td>\n",
              "      <td>[Manufacturing Companies, Electronic Products ...</td>\n",
              "      <td>22</td>\n",
              "    </tr>\n",
              "    <tr>\n",
              "      <th>9</th>\n",
              "      <td>EXLSERVICE HOLDINGS, INC.</td>\n",
              "      <td>9.584340e+08</td>\n",
              "      <td>35000</td>\n",
              "      <td>1999</td>\n",
              "      <td>United States of America</td>\n",
              "      <td>True</td>\n",
              "      <td>[Software Companies, Artificial Intelligence C...</td>\n",
              "      <td>23</td>\n",
              "    </tr>\n",
              "    <tr>\n",
              "      <th>10</th>\n",
              "      <td>gA</td>\n",
              "      <td>2.900000e+07</td>\n",
              "      <td>3000</td>\n",
              "      <td>1992</td>\n",
              "      <td>United States of America</td>\n",
              "      <td>False</td>\n",
              "      <td>[Software Companies, Artificial Intelligence C...</td>\n",
              "      <td>30</td>\n",
              "    </tr>\n",
              "  </tbody>\n",
              "</table>\n",
              "</div>\n",
              "      <button class=\"colab-df-convert\" onclick=\"convertToInteractive('df-1f3e3dca-1dfa-4d71-ab8d-cbfb87bda499')\"\n",
              "              title=\"Convert this dataframe to an interactive table.\"\n",
              "              style=\"display:none;\">\n",
              "        \n",
              "  <svg xmlns=\"http://www.w3.org/2000/svg\" height=\"24px\"viewBox=\"0 0 24 24\"\n",
              "       width=\"24px\">\n",
              "    <path d=\"M0 0h24v24H0V0z\" fill=\"none\"/>\n",
              "    <path d=\"M18.56 5.44l.94 2.06.94-2.06 2.06-.94-2.06-.94-.94-2.06-.94 2.06-2.06.94zm-11 1L8.5 8.5l.94-2.06 2.06-.94-2.06-.94L8.5 2.5l-.94 2.06-2.06.94zm10 10l.94 2.06.94-2.06 2.06-.94-2.06-.94-.94-2.06-.94 2.06-2.06.94z\"/><path d=\"M17.41 7.96l-1.37-1.37c-.4-.4-.92-.59-1.43-.59-.52 0-1.04.2-1.43.59L10.3 9.45l-7.72 7.72c-.78.78-.78 2.05 0 2.83L4 21.41c.39.39.9.59 1.41.59.51 0 1.02-.2 1.41-.59l7.78-7.78 2.81-2.81c.8-.78.8-2.07 0-2.86zM5.41 20L4 18.59l7.72-7.72 1.47 1.35L5.41 20z\"/>\n",
              "  </svg>\n",
              "      </button>\n",
              "      \n",
              "  <style>\n",
              "    .colab-df-container {\n",
              "      display:flex;\n",
              "      flex-wrap:wrap;\n",
              "      gap: 12px;\n",
              "    }\n",
              "\n",
              "    .colab-df-convert {\n",
              "      background-color: #E8F0FE;\n",
              "      border: none;\n",
              "      border-radius: 50%;\n",
              "      cursor: pointer;\n",
              "      display: none;\n",
              "      fill: #1967D2;\n",
              "      height: 32px;\n",
              "      padding: 0 0 0 0;\n",
              "      width: 32px;\n",
              "    }\n",
              "\n",
              "    .colab-df-convert:hover {\n",
              "      background-color: #E2EBFA;\n",
              "      box-shadow: 0px 1px 2px rgba(60, 64, 67, 0.3), 0px 1px 3px 1px rgba(60, 64, 67, 0.15);\n",
              "      fill: #174EA6;\n",
              "    }\n",
              "\n",
              "    [theme=dark] .colab-df-convert {\n",
              "      background-color: #3B4455;\n",
              "      fill: #D2E3FC;\n",
              "    }\n",
              "\n",
              "    [theme=dark] .colab-df-convert:hover {\n",
              "      background-color: #434B5C;\n",
              "      box-shadow: 0px 1px 3px 1px rgba(0, 0, 0, 0.15);\n",
              "      filter: drop-shadow(0px 1px 2px rgba(0, 0, 0, 0.3));\n",
              "      fill: #FFFFFF;\n",
              "    }\n",
              "  </style>\n",
              "\n",
              "      <script>\n",
              "        const buttonEl =\n",
              "          document.querySelector('#df-1f3e3dca-1dfa-4d71-ab8d-cbfb87bda499 button.colab-df-convert');\n",
              "        buttonEl.style.display =\n",
              "          google.colab.kernel.accessAllowed ? 'block' : 'none';\n",
              "\n",
              "        async function convertToInteractive(key) {\n",
              "          const element = document.querySelector('#df-1f3e3dca-1dfa-4d71-ab8d-cbfb87bda499');\n",
              "          const dataTable =\n",
              "            await google.colab.kernel.invokeFunction('convertToInteractive',\n",
              "                                                     [key], {});\n",
              "          if (!dataTable) return;\n",
              "\n",
              "          const docLinkHtml = 'Like what you see? Visit the ' +\n",
              "            '<a target=\"_blank\" href=https://colab.research.google.com/notebooks/data_table.ipynb>data table notebook</a>'\n",
              "            + ' to learn more about interactive tables.';\n",
              "          element.innerHTML = '';\n",
              "          dataTable['output_type'] = 'display_data';\n",
              "          await google.colab.output.renderOutput(dataTable, element);\n",
              "          const docLink = document.createElement('div');\n",
              "          docLink.innerHTML = docLinkHtml;\n",
              "          element.appendChild(docLink);\n",
              "        }\n",
              "      </script>\n",
              "    </div>\n",
              "  </div>\n",
              "  "
            ]
          },
          "metadata": {},
          "execution_count": 6
        }
      ]
    },
    {
      "cell_type": "code",
      "source": [
        "df.to_csv(\"artificial_intelligence.csv\", index=False)"
      ],
      "metadata": {
        "id": "gqA7pzqhyNFU"
      },
      "execution_count": 7,
      "outputs": []
    }
  ]
}