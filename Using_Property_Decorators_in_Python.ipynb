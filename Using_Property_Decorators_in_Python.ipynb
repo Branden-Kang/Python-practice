{
  "nbformat": 4,
  "nbformat_minor": 0,
  "metadata": {
    "colab": {
      "name": "Using Property Decorators in Python.ipynb",
      "provenance": [],
      "authorship_tag": "ABX9TyMv8MFfQROphQIOqEjkiGwZ"
    },
    "kernelspec": {
      "name": "python3",
      "display_name": "Python 3"
    }
  },
  "cells": [
    {
      "cell_type": "markdown",
      "metadata": {
        "id": "a2O3CuVTxEOv"
      },
      "source": [
        "[Reference](https://medium.com/better-programming/why-bother-using-property-decorators-in-python-935c425f86ed)"
      ]
    },
    {
      "cell_type": "code",
      "metadata": {
        "colab": {
          "base_uri": "https://localhost:8080/",
          "height": 385
        },
        "id": "gycnxo-FxCTP",
        "outputId": "0e0c2c0e-b27e-43e3-e677-944b707399aa"
      },
      "source": [
        "class Mask:\n",
        "    def __init__(self, category, price=0):\n",
        "        self.brand = category\n",
        "        self._price = price\n",
        "\n",
        "    @property\n",
        "    def price(self):\n",
        "        return self._price\n",
        "    \n",
        "    @price.setter\n",
        "    def price(self, new_price):\n",
        "        self._price = new_price\n",
        "\n",
        "    @price.deleter\n",
        "    def price(self):\n",
        "        del self._price\n",
        "\n",
        "mask0 = Mask('N95', 4.5)\n",
        "print(mask0.price)\n",
        "mask0.price = 4.0\n",
        "print(mask0.price)\n",
        "del mask0.price\n",
        "print(mask0.price)"
      ],
      "execution_count": 1,
      "outputs": [
        {
          "output_type": "stream",
          "text": [
            "4.5\n",
            "4.0\n"
          ],
          "name": "stdout"
        },
        {
          "output_type": "error",
          "ename": "AttributeError",
          "evalue": "ignored",
          "traceback": [
            "\u001b[0;31m---------------------------------------------------------------------------\u001b[0m",
            "\u001b[0;31mAttributeError\u001b[0m                            Traceback (most recent call last)",
            "\u001b[0;32m<ipython-input-1-88aad03b8e73>\u001b[0m in \u001b[0;36m<module>\u001b[0;34m()\u001b[0m\n\u001b[1;32m     21\u001b[0m \u001b[0mprint\u001b[0m\u001b[0;34m(\u001b[0m\u001b[0mmask0\u001b[0m\u001b[0;34m.\u001b[0m\u001b[0mprice\u001b[0m\u001b[0;34m)\u001b[0m\u001b[0;34m\u001b[0m\u001b[0;34m\u001b[0m\u001b[0m\n\u001b[1;32m     22\u001b[0m \u001b[0;32mdel\u001b[0m \u001b[0mmask0\u001b[0m\u001b[0;34m.\u001b[0m\u001b[0mprice\u001b[0m\u001b[0;34m\u001b[0m\u001b[0;34m\u001b[0m\u001b[0m\n\u001b[0;32m---> 23\u001b[0;31m \u001b[0mmask0\u001b[0m\u001b[0;34m.\u001b[0m\u001b[0mprice\u001b[0m\u001b[0;34m\u001b[0m\u001b[0;34m\u001b[0m\u001b[0m\n\u001b[0m",
            "\u001b[0;32m<ipython-input-1-88aad03b8e73>\u001b[0m in \u001b[0;36mprice\u001b[0;34m(self)\u001b[0m\n\u001b[1;32m      6\u001b[0m     \u001b[0;34m@\u001b[0m\u001b[0mproperty\u001b[0m\u001b[0;34m\u001b[0m\u001b[0;34m\u001b[0m\u001b[0m\n\u001b[1;32m      7\u001b[0m     \u001b[0;32mdef\u001b[0m \u001b[0mprice\u001b[0m\u001b[0;34m(\u001b[0m\u001b[0mself\u001b[0m\u001b[0;34m)\u001b[0m\u001b[0;34m:\u001b[0m\u001b[0;34m\u001b[0m\u001b[0;34m\u001b[0m\u001b[0m\n\u001b[0;32m----> 8\u001b[0;31m         \u001b[0;32mreturn\u001b[0m \u001b[0mself\u001b[0m\u001b[0;34m.\u001b[0m\u001b[0m_price\u001b[0m\u001b[0;34m\u001b[0m\u001b[0;34m\u001b[0m\u001b[0m\n\u001b[0m\u001b[1;32m      9\u001b[0m \u001b[0;34m\u001b[0m\u001b[0m\n\u001b[1;32m     10\u001b[0m     \u001b[0;34m@\u001b[0m\u001b[0mprice\u001b[0m\u001b[0;34m.\u001b[0m\u001b[0msetter\u001b[0m\u001b[0;34m\u001b[0m\u001b[0;34m\u001b[0m\u001b[0m\n",
            "\u001b[0;31mAttributeError\u001b[0m: 'Mask' object has no attribute '_price'"
          ]
        }
      ]
    },
    {
      "cell_type": "markdown",
      "metadata": {
        "id": "-dwVe5ZhyCZf"
      },
      "source": [
        "# Reason 1: Data Validation"
      ]
    },
    {
      "cell_type": "code",
      "metadata": {
        "colab": {
          "base_uri": "https://localhost:8080/"
        },
        "id": "2E-JTedmx0xe",
        "outputId": "f8b651b2-501a-4955-ea12-c787f73c79c6"
      },
      "source": [
        "class Mask:\n",
        "    def __init__(self, category, price=0):\n",
        "        self.brand = category\n",
        "        self._price = price\n",
        "\n",
        "    @property\n",
        "    def price(self):\n",
        "        return self._price\n",
        "    \n",
        "    @price.setter\n",
        "    def price(self, new_price):\n",
        "        if not isinstance(new_price, (float, int)):\n",
        "            print(f'Not the right data type: {type(new_price)}')\n",
        "        elif new_price < 0:\n",
        "            print(f'Price cannot be negative: {new_price}')\n",
        "        elif new_price > 8:\n",
        "            print(f'Price too high: {new_price}')\n",
        "        else:\n",
        "            print(f'Right price: {new_price}')\n",
        "            self._price = new_price\n",
        "\n",
        "    @price.deleter\n",
        "    def price(self):\n",
        "        del self._price\n",
        "\n",
        "mask1 = Mask('N95')\n",
        "mask1.price = '7'\n",
        "mask1.price = -5\n",
        "mask1.price = 20\n",
        "mask1.price = 5.5"
      ],
      "execution_count": 2,
      "outputs": [
        {
          "output_type": "stream",
          "text": [
            "Not the right data type: <class 'str'>\n",
            "Price cannot be negative: -5\n",
            "Price too high: 20\n",
            "Right price: 5.5\n"
          ],
          "name": "stdout"
        }
      ]
    },
    {
      "cell_type": "markdown",
      "metadata": {
        "id": "zMc_Ie5wytWO"
      },
      "source": [
        "# Reason 2: Data Operations (Encapsulation)"
      ]
    },
    {
      "cell_type": "code",
      "metadata": {
        "colab": {
          "base_uri": "https://localhost:8080/"
        },
        "id": "d85_P-zjyruN",
        "outputId": "378e5a83-fb6a-4102-ac6b-7fa1a5c9a7a1"
      },
      "source": [
        "class Mask:\n",
        "    def __init__(self, category, price=0):\n",
        "        self.brand = category\n",
        "        self._price = price\n",
        "\n",
        "    @property\n",
        "    def price(self):\n",
        "        return f'${self._price:.2f}'\n",
        "    \n",
        "    @price.setter\n",
        "    def price(self, new_price):\n",
        "        if not isinstance(new_price, (float, int)):\n",
        "            print(f'Not the right data type: {type(new_price)}')\n",
        "        elif new_price < 0:\n",
        "            print(f'Price cannot be negative: {new_price}')\n",
        "        elif new_price > 8:\n",
        "            print(f'Price too high: {new_price}')\n",
        "        else:\n",
        "            print(f'Right price: {new_price}')\n",
        "            self._price = new_price\n",
        "\n",
        "    @price.deleter\n",
        "    def price(self):\n",
        "        del self._price\n",
        "\n",
        "mask2 = Mask('N95', 5.2453)\n",
        "print(mask2.price)\n",
        "mask2.price = 4\n",
        "print(mask2.price)"
      ],
      "execution_count": 3,
      "outputs": [
        {
          "output_type": "stream",
          "text": [
            "$5.25\n",
            "Right price: 4\n",
            "$4.00\n"
          ],
          "name": "stdout"
        }
      ]
    },
    {
      "cell_type": "code",
      "metadata": {
        "colab": {
          "base_uri": "https://localhost:8080/"
        },
        "id": "hBMR8VKozIEF",
        "outputId": "c6c50771-7f5f-49e5-8dea-f5df9120a8c6"
      },
      "source": [
        "country = 'US'\n",
        "currency_rate = 1.0\n",
        "\n",
        "class Mask:\n",
        "    def __init__(self, category, price=0):\n",
        "        self.brand = category\n",
        "        self._price = price\n",
        "\n",
        "    @property\n",
        "    def price(self):\n",
        "        money_sign = '$' if country == 'US' else u\"\\xA3\"\n",
        "        return f'{money_sign}{self._price*currency_rate:.2f}'\n",
        "    \n",
        "    @price.setter\n",
        "    def price(self, new_price):\n",
        "        if not isinstance(new_price, (float, int)):\n",
        "            print(f'Not the right data type: {type(new_price)}')\n",
        "        elif new_price < 0:\n",
        "            print(f'Price cannot be negative: {new_price}')\n",
        "        elif new_price > 8:\n",
        "            print(f'Price too high: {new_price}')\n",
        "        else:\n",
        "            print(f'Right price: {new_price}')\n",
        "            self._price = new_price\n",
        "\n",
        "    @price.deleter\n",
        "    def price(self):\n",
        "        del self._price\n",
        "\n",
        "mask3 = Mask('N95', 4.5)\n",
        "print(mask3.price)\n",
        "\n",
        "country = 'UK'\n",
        "currency_rate = 0.8\n",
        "print(mask3.price)"
      ],
      "execution_count": 6,
      "outputs": [
        {
          "output_type": "stream",
          "text": [
            "$4.50\n",
            "£3.60\n"
          ],
          "name": "stdout"
        }
      ]
    },
    {
      "cell_type": "code",
      "metadata": {
        "colab": {
          "base_uri": "https://localhost:8080/"
        },
        "id": "Onls5iExzj6L",
        "outputId": "7d706a16-87bb-438b-c73b-e9a378dcc650"
      },
      "source": [
        "country = 'US'\n",
        "currency_rate = 1.0\n",
        "\n",
        "class Mask:\n",
        "    def __init__(self, category, price=0):\n",
        "        self.brand = category\n",
        "        self._price = price\n",
        "\n",
        "    @property\n",
        "    def price(self):\n",
        "        money_sign = '$' if country == 'US' else u\"\\xA3\"\n",
        "        return f'{money_sign}{self._price*currency_rate:.2f}'\n",
        "    \n",
        "    @price.setter\n",
        "    def price(self, new_value):\n",
        "        if isinstance(new_value, str) and new_value.startswith('USD'):\n",
        "            self._price = float(new_value[3:])\n",
        "        else:\n",
        "            self._price = new_value\n",
        "\n",
        "    @price.deleter\n",
        "    def price(self):\n",
        "        del self._price\n",
        "\n",
        "mask4 = Mask('N95', 5.5)\n",
        "mask4.price = 'USD6.5'\n",
        "print(mask4.price)\n",
        "\n",
        "mask4.price = 4.2\n",
        "print(mask3.price)"
      ],
      "execution_count": 8,
      "outputs": [
        {
          "output_type": "stream",
          "text": [
            "$6.50\n",
            "$4.50\n"
          ],
          "name": "stdout"
        }
      ]
    },
    {
      "cell_type": "markdown",
      "metadata": {
        "id": "9Rti71hL0Tz-"
      },
      "source": [
        "# Reason 3: Lazy Loading"
      ]
    },
    {
      "cell_type": "code",
      "metadata": {
        "colab": {
          "base_uri": "https://localhost:8080/"
        },
        "id": "g2gUehLz0PS2",
        "outputId": "58a273eb-dc76-4066-a15d-2718570c8925"
      },
      "source": [
        "country = 'US'\n",
        "currency_rate = 1.0\n",
        "\n",
        "class Mask:\n",
        "    def __init__(self, category, price=0):\n",
        "        self.brand = category\n",
        "        self._price = price\n",
        "\n",
        "    @property\n",
        "    def price(self):\n",
        "        money_sign = '$' if country == 'US' else u\"\\xA3\"\n",
        "        return f'{money_sign}{self._price*currency_rate:.2f}'\n",
        "\n",
        "    @property\n",
        "    def promition_price(self):\n",
        "        return f'${self._price*0.8:.2f}'\n",
        "\n",
        "    @property\n",
        "    def sales_price(self):\n",
        "        return f'${self._price*0.5:.2f}'\n",
        "\n",
        "    @property\n",
        "    def clearance_price(self):\n",
        "        return f'${self._price*0.2:.2f}'\n",
        "\n",
        "    @price.setter\n",
        "    def price(self, new_value):\n",
        "        if isinstance(new_value, str) and new_value.startswith('USD'):\n",
        "            self._price = float(new_value[3:])\n",
        "        else:\n",
        "            self._price = new_value\n",
        "\n",
        "    @price.deleter\n",
        "    def price(self):\n",
        "        del self._price\n",
        "\n",
        "mask5 = Mask('N95', 4.4)\n",
        "mask5.__dict__\n",
        "print(mask5.promition_price)\n",
        "print(mask5.sales_price)\n",
        "print(mask5.clearance_price)"
      ],
      "execution_count": 9,
      "outputs": [
        {
          "output_type": "stream",
          "text": [
            "$3.52\n",
            "$2.20\n",
            "$0.88\n"
          ],
          "name": "stdout"
        }
      ]
    },
    {
      "cell_type": "markdown",
      "metadata": {
        "id": "mpL1BKfC1CDk"
      },
      "source": [
        "# Reason 4: Debugging and Monitoring "
      ]
    },
    {
      "cell_type": "code",
      "metadata": {
        "colab": {
          "base_uri": "https://localhost:8080/"
        },
        "id": "AcIWxUtA08Xf",
        "outputId": "7f4ba46b-1afa-482f-886e-a76892f66a44"
      },
      "source": [
        "from datetime import datetime\n",
        "price_changes_logs = []\n",
        "emergency_logs = []\n",
        "\n",
        "class Mask:\n",
        "    def __init__(self, category, price=0):\n",
        "        self.category = category\n",
        "        self._price = price\n",
        "\n",
        "    @property\n",
        "    def price(self):\n",
        "        return self._price\n",
        "\n",
        "    @price.setter\n",
        "    def price(self, new_value):\n",
        "        time_str = datetime.now().strftime(\"%m/%d/%Y, %H:%M:%S\")\n",
        "        price_changes_logs.append({time_str: new_value})\n",
        "        if new_value > 10:\n",
        "            log_str = f'Illegal: Someone is setting the price to f{new_value}!'\n",
        "            emergency_logs.append({time_str: log_str})\n",
        "        self._price = new_value\n",
        "\n",
        "    @price.deleter\n",
        "    def price(self):\n",
        "        time_str = datetime.now().strftime(\"%m/%d/%Y, %H:%M:%S\")\n",
        "        log_str = f'Illegal: Someone is setting the price!'\n",
        "        emergency_logs.append({time_str: log_str})\n",
        "\n",
        "mask6 = Mask('N95', 2.0)\n",
        "mask6.price = 2.3\n",
        "mask6.price = 2.5\n",
        "mask6.price = 2.9\n",
        "mask6.price = 3.5\n",
        "mask6.price = 4.2\n",
        "mask6.price = 20.0\n",
        "\n",
        "del mask6.price\n",
        "\n",
        "print(price_changes_logs)\n",
        "print(emergency_logs)"
      ],
      "execution_count": 11,
      "outputs": [
        {
          "output_type": "stream",
          "text": [
            "[{'12/05/2020, 03:01:52': 2.3}, {'12/05/2020, 03:01:52': 2.5}, {'12/05/2020, 03:01:52': 2.9}, {'12/05/2020, 03:01:52': 3.5}, {'12/05/2020, 03:01:52': 4.2}, {'12/05/2020, 03:01:52': 20.0}]\n",
            "[{'12/05/2020, 03:01:52': 'Illegal: Someone is setting the price to f20.0!'}, {'12/05/2020, 03:01:52': 'Illegal: Someone is setting the price!'}]\n"
          ],
          "name": "stdout"
        }
      ]
    }
  ]
}