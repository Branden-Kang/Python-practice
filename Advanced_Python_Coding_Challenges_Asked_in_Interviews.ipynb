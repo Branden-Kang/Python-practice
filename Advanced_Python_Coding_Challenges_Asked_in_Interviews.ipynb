{
  "nbformat": 4,
  "nbformat_minor": 0,
  "metadata": {
    "colab": {
      "provenance": [],
      "authorship_tag": "ABX9TyNd5bije+o/rizIJXzmCQe8"
    },
    "kernelspec": {
      "name": "python3",
      "display_name": "Python 3"
    },
    "language_info": {
      "name": "python"
    }
  },
  "cells": [
    {
      "cell_type": "markdown",
      "source": [
        "[Reference](https://python.plainenglish.io/advanced-python-coding-challenges-asked-in-interviews-110695c74127)"
      ],
      "metadata": {
        "id": "crTo0G3uTZqa"
      }
    },
    {
      "cell_type": "markdown",
      "source": [
        "# 1. LRU Cache (Least Recently Used)"
      ],
      "metadata": {
        "id": "ZTJoMnlkTcHu"
      }
    },
    {
      "cell_type": "code",
      "execution_count": 1,
      "metadata": {
        "id": "VOm9qbMVTXLm"
      },
      "outputs": [],
      "source": [
        "from collections import OrderedDict\n",
        "\n",
        "class LRUCache:\n",
        "    def __init__(self, capacity):\n",
        "        self.cache = OrderedDict()\n",
        "        self.capacity = capacity\n",
        "    def get(self, key):\n",
        "        if key not in self.cache:\n",
        "            return -1\n",
        "        self.cache.move_to_end(key)\n",
        "        return self.cache[key]\n",
        "    def put(self, key, value):\n",
        "        if key in self.cache:\n",
        "            self.cache.move_to_end(key)\n",
        "        self.cache[key] = value\n",
        "        if len(self.cache) > self.capacity:\n",
        "            self.cache.popitem(last=False)"
      ]
    },
    {
      "cell_type": "markdown",
      "source": [
        "# 2. Detect a Cycle in a Linked List"
      ],
      "metadata": {
        "id": "IDUw82pLToiW"
      }
    },
    {
      "cell_type": "code",
      "source": [
        "def has_cycle(head):\n",
        "    slow = head\n",
        "    fast = head\n",
        "    while fast and fast.next:\n",
        "        slow = slow.next\n",
        "        fast = fast.next.next\n",
        "        if slow == fast:\n",
        "            return True\n",
        "    return False"
      ],
      "metadata": {
        "id": "9D2S832-TlN9"
      },
      "execution_count": 2,
      "outputs": []
    },
    {
      "cell_type": "markdown",
      "source": [
        "# 3. Decode Ways"
      ],
      "metadata": {
        "id": "hvPvO5UFTxm4"
      }
    },
    {
      "cell_type": "code",
      "source": [
        "def num_decodings(s):\n",
        "    if not s or s[0] == '0':\n",
        "        return 0\n",
        "    n = len(s)\n",
        "    dp = [0] * (n + 1)\n",
        "    dp[0] = 1\n",
        "    dp[1] = 1\n",
        "\n",
        "    for i in range(2, n + 1):\n",
        "        one_digit = int(s[i-1])\n",
        "        two_digits = int(s[i-2:i])\n",
        "        if 1 <= one_digit <= 9:\n",
        "            dp[i] += dp[i-1]\n",
        "        if 10 <= two_digits <= 26:\n",
        "            dp[i] += dp[i-2]\n",
        "        return dp[n]"
      ],
      "metadata": {
        "id": "pETutqrHTx60"
      },
      "execution_count": 3,
      "outputs": []
    },
    {
      "cell_type": "markdown",
      "source": [
        "# 4. Custom Sorting with Comparator"
      ],
      "metadata": {
        "id": "Cl2xW_MjT4l-"
      }
    },
    {
      "cell_type": "code",
      "source": [
        "from functools import cmp_to_key\n",
        "def compare(a, b):\n",
        "    if a + b > b + a:\n",
        "        return -1\n",
        "    else:\n",
        "        return 1\n",
        "def largest_number(nums):\n",
        "    nums = list(map(str, nums))\n",
        "    nums.sort(key=cmp_to_key(compare))\n",
        "    return ''.join(nums).lstrip('0') or '0'"
      ],
      "metadata": {
        "id": "8JGtu9GFTzGg"
      },
      "execution_count": 4,
      "outputs": []
    }
  ]
}