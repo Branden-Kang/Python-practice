{
  "nbformat": 4,
  "nbformat_minor": 0,
  "metadata": {
    "colab": {
      "name": "Write Better And Faster Python Using Einstein Notation.ipynb",
      "provenance": [],
      "authorship_tag": "ABX9TyPDvYOVfkx8xKMTt844kXMF"
    },
    "kernelspec": {
      "name": "python3",
      "display_name": "Python 3"
    },
    "language_info": {
      "name": "python"
    }
  },
  "cells": [
    {
      "cell_type": "markdown",
      "metadata": {
        "id": "mgxu7TNhsMu1"
      },
      "source": [
        "[Reference](https://towardsdatascience.com/write-better-and-faster-python-using-einstein-notation-3b01fc1e8641)"
      ]
    },
    {
      "cell_type": "code",
      "metadata": {
        "id": "0tzb4HPMsIbY"
      },
      "source": [
        "# Using loops\n",
        "s = 0\n",
        "n, m = A.shape\n",
        "for i in range(n):\n",
        "    for j in range(m):\n",
        "        s += A[i, j]*B[i, j]\n",
        "        \n",
        "# Using built-in numpy functions\n",
        "np.trace(np.dot(A.T, B))\n",
        "\n",
        "# Using einsum\n",
        "np.einsum('ij,ij->', A,B)"
      ],
      "execution_count": 6,
      "outputs": []
    }
  ]
}