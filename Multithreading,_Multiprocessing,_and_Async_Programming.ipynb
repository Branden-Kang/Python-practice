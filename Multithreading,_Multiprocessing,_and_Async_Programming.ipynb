{
  "nbformat": 4,
  "nbformat_minor": 0,
  "metadata": {
    "colab": {
      "provenance": [],
      "authorship_tag": "ABX9TyPgflkeOMORCp2sdIAUJg9L"
    },
    "kernelspec": {
      "name": "python3",
      "display_name": "Python 3"
    },
    "language_info": {
      "name": "python"
    }
  },
  "cells": [
    {
      "cell_type": "markdown",
      "source": [
        "[Reference](https://medium.com/@nomannayeem/unlocking-pythons-power-multithreading-multiprocessing-and-async-programming-d659d3c75fa7)"
      ],
      "metadata": {
        "id": "dIKkUakA1n_w"
      }
    },
    {
      "cell_type": "markdown",
      "source": [
        "# Creating and Managing Threads"
      ],
      "metadata": {
        "id": "pVyhMj6R19QV"
      }
    },
    {
      "cell_type": "code",
      "execution_count": 1,
      "metadata": {
        "colab": {
          "base_uri": "https://localhost:8080/"
        },
        "id": "ao8ROZsA0tWG",
        "outputId": "f05f422b-03aa-4f0c-e7a5-edb190fc2670"
      },
      "outputs": [
        {
          "output_type": "stream",
          "name": "stdout",
          "text": [
            "0\n",
            "1\n",
            "2\n",
            "3\n",
            "4\n",
            "Thread execution completed.\n"
          ]
        }
      ],
      "source": [
        "import threading\n",
        "\n",
        "def print_numbers():\n",
        "    for i in range(5):\n",
        "        print(i)\n",
        "\n",
        "# Create a thread\n",
        "thread = threading.Thread(target=print_numbers)\n",
        "\n",
        "# Start the thread\n",
        "thread.start()\n",
        "\n",
        "# Wait for the thread to finish\n",
        "thread.join()\n",
        "\n",
        "print(\"Thread execution completed.\")"
      ]
    },
    {
      "cell_type": "code",
      "source": [
        "import threading\n",
        "import time\n",
        "\n",
        "def background_task():\n",
        "    while True:\n",
        "        print(\"Running background task\")\n",
        "        time.sleep(1)\n",
        "\n",
        "# Create a daemon thread\n",
        "thread = threading.Thread(target=background_task, daemon=True)\n",
        "\n",
        "# Start the thread\n",
        "thread.start()\n",
        "\n",
        "# Main program continues\n",
        "time.sleep(5)\n",
        "print(\"Main program exits\")"
      ],
      "metadata": {
        "colab": {
          "base_uri": "https://localhost:8080/"
        },
        "id": "AQd6OBz41-k7",
        "outputId": "1eb8f3b7-ebfe-4233-d627-03ca2485ade8"
      },
      "execution_count": 2,
      "outputs": [
        {
          "output_type": "stream",
          "name": "stdout",
          "text": [
            "Running background task\n",
            "Running background task\n",
            "Running background task\n",
            "Running background task\n",
            "Running background task\n",
            "Main program exits\n",
            "Running background task\n"
          ]
        }
      ]
    },
    {
      "cell_type": "markdown",
      "source": [
        "# Using ProcessPoolExecutor"
      ],
      "metadata": {
        "id": "4RRJysF-2Ke1"
      }
    },
    {
      "cell_type": "code",
      "source": [
        "import threading\n",
        "import time\n",
        "\n",
        "def background_task():\n",
        "    while True:\n",
        "        print(\"Running background task\")\n",
        "        time.sleep(1)\n",
        "\n",
        "# Create a daemon thread\n",
        "thread = threading.Thread(target=background_task, daemon=True)\n",
        "\n",
        "# Start the thread\n",
        "thread.start()\n",
        "\n",
        "# Main program continues\n",
        "time.sleep(5)\n",
        "print(\"Main program exits\")"
      ],
      "metadata": {
        "colab": {
          "base_uri": "https://localhost:8080/"
        },
        "id": "xZ_A7pDy2B90",
        "outputId": "b5e4eeaf-8b93-4ae9-f0f7-61ba733ea9f0"
      },
      "execution_count": 3,
      "outputs": [
        {
          "output_type": "stream",
          "name": "stdout",
          "text": [
            "Running background task\n",
            "Running background task\n",
            "Running background task\n",
            "Running background task\n",
            "Running background task\n",
            "Running background task\n",
            "Running background task\n",
            "Running background task\n",
            "Running background task\n",
            "Running background task\n",
            "Running background task\n",
            "Main program exits\n"
          ]
        }
      ]
    },
    {
      "cell_type": "markdown",
      "source": [
        "# Using asyncio for Asynchronous Tasks"
      ],
      "metadata": {
        "id": "wnoFQJal2O8j"
      }
    },
    {
      "cell_type": "code",
      "source": [
        "import asyncio\n",
        "\n",
        "async def fetch_data(delay, name):\n",
        "    print(f\"Task {name}: Started\")\n",
        "    await asyncio.sleep(delay)\n",
        "    print(f\"Task {name}: Completed after {delay} seconds\")\n",
        "    return f\"Data from {name}\"\n",
        "\n",
        "async def main():\n",
        "    # Create tasks\n",
        "    task1 = asyncio.create_task(fetch_data(2, 'A'))\n",
        "    task2 = asyncio.create_task(fetch_data(3, 'B'))\n",
        "    task3 = asyncio.create_task(fetch_data(1, 'C'))\n",
        "\n",
        "    # Wait for all tasks to complete\n",
        "    results = await asyncio.gather(task1, task2, task3)\n",
        "    print(\"All tasks completed\")\n",
        "    for result in results:\n",
        "        print(result)\n",
        "\n",
        "# Run the main coroutine\n",
        "asyncio.run(main())"
      ],
      "metadata": {
        "id": "YFc-Km4P2JmW"
      },
      "execution_count": 5,
      "outputs": []
    }
  ]
}