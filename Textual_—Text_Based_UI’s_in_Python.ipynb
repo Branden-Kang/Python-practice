{
  "nbformat": 4,
  "nbformat_minor": 0,
  "metadata": {
    "colab": {
      "name": "Textual —Text Based UI’s in Python.ipynb",
      "provenance": [],
      "authorship_tag": "ABX9TyOPaed5mOHiMT7SaeK3lAVX"
    },
    "kernelspec": {
      "name": "python3",
      "display_name": "Python 3"
    },
    "language_info": {
      "name": "python"
    }
  },
  "cells": [
    {
      "cell_type": "markdown",
      "metadata": {
        "id": "iE6p1Lf7Norb"
      },
      "source": [
        "[Reference](https://medium.com/short-bits/textual-text-based-uis-in-python-8234f090889a)"
      ]
    },
    {
      "cell_type": "code",
      "metadata": {
        "colab": {
          "base_uri": "https://localhost:8080/"
        },
        "id": "jCeRXS2JNwhq",
        "outputId": "1641463d-aedc-437d-c40d-430bb91af837"
      },
      "source": [
        "!pip install textual"
      ],
      "execution_count": 2,
      "outputs": [
        {
          "output_type": "stream",
          "name": "stdout",
          "text": [
            "Collecting textual\n",
            "  Downloading textual-0.1.12-py3-none-any.whl (78 kB)\n",
            "\u001b[?25l\r\u001b[K     |████▏                           | 10 kB 11.5 MB/s eta 0:00:01\r\u001b[K     |████████▎                       | 20 kB 15.1 MB/s eta 0:00:01\r\u001b[K     |████████████▌                   | 30 kB 19.3 MB/s eta 0:00:01\r\u001b[K     |████████████████▋               | 40 kB 23.0 MB/s eta 0:00:01\r\u001b[K     |████████████████████▉           | 51 kB 26.1 MB/s eta 0:00:01\r\u001b[K     |█████████████████████████       | 61 kB 29.3 MB/s eta 0:00:01\r\u001b[K     |█████████████████████████████▏  | 71 kB 31.1 MB/s eta 0:00:01\r\u001b[K     |████████████████████████████████| 78 kB 5.5 MB/s \n",
            "\u001b[?25hCollecting typing-extensions<4.0.0,>=3.10.0\n",
            "  Downloading typing_extensions-3.10.0.2-py3-none-any.whl (26 kB)\n",
            "Collecting rich<11.0.0,>=10.7.0\n",
            "  Downloading rich-10.11.0-py3-none-any.whl (211 kB)\n",
            "\u001b[K     |████████████████████████████████| 211 kB 63.1 MB/s \n",
            "\u001b[?25hCollecting colorama<0.5.0,>=0.4.0\n",
            "  Downloading colorama-0.4.4-py2.py3-none-any.whl (16 kB)\n",
            "Collecting commonmark<0.10.0,>=0.9.0\n",
            "  Downloading commonmark-0.9.1-py2.py3-none-any.whl (51 kB)\n",
            "\u001b[K     |████████████████████████████████| 51 kB 6.1 MB/s \n",
            "\u001b[?25hRequirement already satisfied: pygments<3.0.0,>=2.6.0 in /usr/local/lib/python3.7/dist-packages (from rich<11.0.0,>=10.7.0->textual) (2.6.1)\n",
            "Installing collected packages: typing-extensions, commonmark, colorama, rich, textual\n",
            "  Attempting uninstall: typing-extensions\n",
            "    Found existing installation: typing-extensions 3.7.4.3\n",
            "    Uninstalling typing-extensions-3.7.4.3:\n",
            "      Successfully uninstalled typing-extensions-3.7.4.3\n",
            "\u001b[31mERROR: pip's dependency resolver does not currently take into account all the packages that are installed. This behaviour is the source of the following dependency conflicts.\n",
            "tensorflow 2.6.0 requires typing-extensions~=3.7.4, but you have typing-extensions 3.10.0.2 which is incompatible.\u001b[0m\n",
            "Successfully installed colorama-0.4.4 commonmark-0.9.1 rich-10.11.0 textual-0.1.12 typing-extensions-3.10.0.2\n"
          ]
        }
      ]
    },
    {
      "cell_type": "code",
      "metadata": {
        "id": "4kC6OsHaNnRs"
      },
      "source": [
        "from textual.app import App\n",
        "\n",
        "class Beeper(App):\n",
        "    def on_key(self):\n",
        "        self.console.bell()\n",
        "\n",
        "Beeper.run()"
      ],
      "execution_count": 4,
      "outputs": []
    },
    {
      "cell_type": "markdown",
      "metadata": {
        "id": "1YcH9ebfOEKd"
      },
      "source": [
        "# Layouts with Widgets\n"
      ]
    },
    {
      "cell_type": "code",
      "metadata": {
        "id": "tPb2bcS3NtIP"
      },
      "source": [
        "from textual.app import App\n",
        "from textual.widgets import Placeholder\n",
        "\n",
        "\n",
        "class SimpleApp(App):\n",
        "\n",
        "    async def on_mount(self) -> None:\n",
        "        await self.view.dock(Placeholder(), edge=\"left\", size=40)\n",
        "        await self.view.dock(Placeholder(), Placeholder(), edge=\"top\")\n",
        "\n",
        "\n",
        "SimpleApp.run(log=\"textual.log\")"
      ],
      "execution_count": 5,
      "outputs": []
    },
    {
      "cell_type": "markdown",
      "metadata": {
        "id": "UT53phFsOJE3"
      },
      "source": [
        "# Custom Widgets\n"
      ]
    },
    {
      "cell_type": "code",
      "metadata": {
        "id": "UlsFLdm_OGKj"
      },
      "source": [
        "from rich.panel import Panel\n",
        "\n",
        "from textual.app import App\n",
        "from textual.reactive import Reactive\n",
        "from textual.widget import Widget\n",
        "\n",
        "\n",
        "class Hover(Widget):\n",
        "\n",
        "    mouse_over = Reactive(False)\n",
        "\n",
        "    def render(self) -> Panel:\n",
        "        return Panel(\"Hello [b]World[/b]\", style=(\"on red\" if self.mouse_over else \"\"))\n",
        "\n",
        "    def on_enter(self) -> None:\n",
        "        self.mouse_over = True\n",
        "\n",
        "    def on_leave(self) -> None:\n",
        "        self.mouse_over = False\n",
        "\n",
        "\n",
        "class HoverApp(App):\n",
        "    \"\"\"Demonstrates custom widgets\"\"\"\n",
        "\n",
        "    async def on_mount(self) -> None:\n",
        "        hovers = (Hover() for _ in range(10))\n",
        "        await self.view.dock(*hovers, edge=\"top\")\n",
        "\n",
        "\n",
        "HoverApp.run(log=\"textual.log\")"
      ],
      "execution_count": 6,
      "outputs": []
    },
    {
      "cell_type": "markdown",
      "metadata": {
        "id": "rHNdhBfCOaJV"
      },
      "source": [
        "# Control Keybindings\n"
      ]
    },
    {
      "cell_type": "code",
      "metadata": {
        "id": "PThfaggmOOY7"
      },
      "source": [
        "from textual.app import App\n",
        "\n",
        "\n",
        "class Quitter(App):\n",
        "    async def on_load(self, event):\n",
        "        await self.bind(\"q\", \"quit\")\n",
        "\n",
        "\n",
        "Quitter.run()"
      ],
      "execution_count": 7,
      "outputs": []
    }
  ]
}