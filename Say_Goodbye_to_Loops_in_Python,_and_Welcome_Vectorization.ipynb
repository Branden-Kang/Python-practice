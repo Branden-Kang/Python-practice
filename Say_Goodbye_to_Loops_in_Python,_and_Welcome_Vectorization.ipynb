{
  "nbformat": 4,
  "nbformat_minor": 0,
  "metadata": {
    "colab": {
      "provenance": [],
      "authorship_tag": "ABX9TyNwtf+AJEcRbVN4/zhw+k4R"
    },
    "kernelspec": {
      "name": "python3",
      "display_name": "Python 3"
    },
    "language_info": {
      "name": "python"
    }
  },
  "cells": [
    {
      "cell_type": "markdown",
      "source": [
        "[Reference](https://medium.com/codex/say-goodbye-to-loops-in-python-and-welcome-vectorization-e4df66615a52)"
      ],
      "metadata": {
        "id": "ftQWZDsUS0MX"
      }
    },
    {
      "cell_type": "markdown",
      "source": [
        "# USE CASE 1: Finding the Sum of numbers\n"
      ],
      "metadata": {
        "id": "DQIYAPzoTtRv"
      }
    },
    {
      "cell_type": "code",
      "execution_count": 1,
      "metadata": {
        "colab": {
          "base_uri": "https://localhost:8080/"
        },
        "id": "mmxIHEhEStzI",
        "outputId": "516c2975-988a-4c72-dac9-3b2060708700"
      },
      "outputs": [
        {
          "output_type": "stream",
          "name": "stdout",
          "text": [
            "sum is:1124999250000\n",
            "0.3833932876586914\n"
          ]
        }
      ],
      "source": [
        "import time \n",
        "start = time.time()\n",
        "\n",
        " \n",
        "# iterative sum\n",
        "total = 0\n",
        "# iterating through 1.5 Million numbers\n",
        "for item in range(0, 1500000):\n",
        "    total = total + item\n",
        "\n",
        "\n",
        "print('sum is:' + str(total))\n",
        "end = time.time()\n",
        "\n",
        "print(end - start)"
      ]
    },
    {
      "cell_type": "code",
      "source": [
        "import numpy as np\n",
        "\n",
        "start = time.time()\n",
        "\n",
        "# vectorized sum - using numpy for vectorization\n",
        "# np.arange create the sequence of numbers from 0 to 1499999\n",
        "print(np.sum(np.arange(1500000)))\n",
        "\n",
        "end = time.time()\n",
        "\n",
        "print(end - start)"
      ],
      "metadata": {
        "colab": {
          "base_uri": "https://localhost:8080/"
        },
        "id": "8mvfpC-hToDa",
        "outputId": "cdc1712b-66c7-4c96-9356-50a8b0ceeb8d"
      },
      "execution_count": 2,
      "outputs": [
        {
          "output_type": "stream",
          "name": "stdout",
          "text": [
            "1124999250000\n",
            "0.028107166290283203\n"
          ]
        }
      ]
    },
    {
      "cell_type": "markdown",
      "source": [
        "# USE CASE 2: Mathematical Operations (on DataFrame)\n"
      ],
      "metadata": {
        "id": "PeJw0aJmTujp"
      }
    },
    {
      "cell_type": "code",
      "source": [
        "import numpy as np\n",
        "import pandas as pd\n",
        "df = pd.DataFrame(np.random.randint(0, 50, size=(5000000, 4)), columns=('a','b','c','d'))\n",
        "df.shape\n",
        "# (5000000, 5)\n",
        "df.head()"
      ],
      "metadata": {
        "colab": {
          "base_uri": "https://localhost:8080/",
          "height": 204
        },
        "id": "tNMp7fCGTrTy",
        "outputId": "fb6e711e-7128-4859-a585-4bb44b6c753f"
      },
      "execution_count": 3,
      "outputs": [
        {
          "output_type": "execute_result",
          "data": {
            "text/plain": [
              "    a   b   c   d\n",
              "0  29  25  36  46\n",
              "1  42  17  32  41\n",
              "2  49  11  44  32\n",
              "3   7  28   6  46\n",
              "4  11  19  38  23"
            ],
            "text/html": [
              "\n",
              "  <div id=\"df-1fc0b00d-26de-4a47-bbe3-3112956cfd67\">\n",
              "    <div class=\"colab-df-container\">\n",
              "      <div>\n",
              "<style scoped>\n",
              "    .dataframe tbody tr th:only-of-type {\n",
              "        vertical-align: middle;\n",
              "    }\n",
              "\n",
              "    .dataframe tbody tr th {\n",
              "        vertical-align: top;\n",
              "    }\n",
              "\n",
              "    .dataframe thead th {\n",
              "        text-align: right;\n",
              "    }\n",
              "</style>\n",
              "<table border=\"1\" class=\"dataframe\">\n",
              "  <thead>\n",
              "    <tr style=\"text-align: right;\">\n",
              "      <th></th>\n",
              "      <th>a</th>\n",
              "      <th>b</th>\n",
              "      <th>c</th>\n",
              "      <th>d</th>\n",
              "    </tr>\n",
              "  </thead>\n",
              "  <tbody>\n",
              "    <tr>\n",
              "      <th>0</th>\n",
              "      <td>29</td>\n",
              "      <td>25</td>\n",
              "      <td>36</td>\n",
              "      <td>46</td>\n",
              "    </tr>\n",
              "    <tr>\n",
              "      <th>1</th>\n",
              "      <td>42</td>\n",
              "      <td>17</td>\n",
              "      <td>32</td>\n",
              "      <td>41</td>\n",
              "    </tr>\n",
              "    <tr>\n",
              "      <th>2</th>\n",
              "      <td>49</td>\n",
              "      <td>11</td>\n",
              "      <td>44</td>\n",
              "      <td>32</td>\n",
              "    </tr>\n",
              "    <tr>\n",
              "      <th>3</th>\n",
              "      <td>7</td>\n",
              "      <td>28</td>\n",
              "      <td>6</td>\n",
              "      <td>46</td>\n",
              "    </tr>\n",
              "    <tr>\n",
              "      <th>4</th>\n",
              "      <td>11</td>\n",
              "      <td>19</td>\n",
              "      <td>38</td>\n",
              "      <td>23</td>\n",
              "    </tr>\n",
              "  </tbody>\n",
              "</table>\n",
              "</div>\n",
              "      <button class=\"colab-df-convert\" onclick=\"convertToInteractive('df-1fc0b00d-26de-4a47-bbe3-3112956cfd67')\"\n",
              "              title=\"Convert this dataframe to an interactive table.\"\n",
              "              style=\"display:none;\">\n",
              "        \n",
              "  <svg xmlns=\"http://www.w3.org/2000/svg\" height=\"24px\"viewBox=\"0 0 24 24\"\n",
              "       width=\"24px\">\n",
              "    <path d=\"M0 0h24v24H0V0z\" fill=\"none\"/>\n",
              "    <path d=\"M18.56 5.44l.94 2.06.94-2.06 2.06-.94-2.06-.94-.94-2.06-.94 2.06-2.06.94zm-11 1L8.5 8.5l.94-2.06 2.06-.94-2.06-.94L8.5 2.5l-.94 2.06-2.06.94zm10 10l.94 2.06.94-2.06 2.06-.94-2.06-.94-.94-2.06-.94 2.06-2.06.94z\"/><path d=\"M17.41 7.96l-1.37-1.37c-.4-.4-.92-.59-1.43-.59-.52 0-1.04.2-1.43.59L10.3 9.45l-7.72 7.72c-.78.78-.78 2.05 0 2.83L4 21.41c.39.39.9.59 1.41.59.51 0 1.02-.2 1.41-.59l7.78-7.78 2.81-2.81c.8-.78.8-2.07 0-2.86zM5.41 20L4 18.59l7.72-7.72 1.47 1.35L5.41 20z\"/>\n",
              "  </svg>\n",
              "      </button>\n",
              "      \n",
              "  <style>\n",
              "    .colab-df-container {\n",
              "      display:flex;\n",
              "      flex-wrap:wrap;\n",
              "      gap: 12px;\n",
              "    }\n",
              "\n",
              "    .colab-df-convert {\n",
              "      background-color: #E8F0FE;\n",
              "      border: none;\n",
              "      border-radius: 50%;\n",
              "      cursor: pointer;\n",
              "      display: none;\n",
              "      fill: #1967D2;\n",
              "      height: 32px;\n",
              "      padding: 0 0 0 0;\n",
              "      width: 32px;\n",
              "    }\n",
              "\n",
              "    .colab-df-convert:hover {\n",
              "      background-color: #E2EBFA;\n",
              "      box-shadow: 0px 1px 2px rgba(60, 64, 67, 0.3), 0px 1px 3px 1px rgba(60, 64, 67, 0.15);\n",
              "      fill: #174EA6;\n",
              "    }\n",
              "\n",
              "    [theme=dark] .colab-df-convert {\n",
              "      background-color: #3B4455;\n",
              "      fill: #D2E3FC;\n",
              "    }\n",
              "\n",
              "    [theme=dark] .colab-df-convert:hover {\n",
              "      background-color: #434B5C;\n",
              "      box-shadow: 0px 1px 3px 1px rgba(0, 0, 0, 0.15);\n",
              "      filter: drop-shadow(0px 1px 2px rgba(0, 0, 0, 0.3));\n",
              "      fill: #FFFFFF;\n",
              "    }\n",
              "  </style>\n",
              "\n",
              "      <script>\n",
              "        const buttonEl =\n",
              "          document.querySelector('#df-1fc0b00d-26de-4a47-bbe3-3112956cfd67 button.colab-df-convert');\n",
              "        buttonEl.style.display =\n",
              "          google.colab.kernel.accessAllowed ? 'block' : 'none';\n",
              "\n",
              "        async function convertToInteractive(key) {\n",
              "          const element = document.querySelector('#df-1fc0b00d-26de-4a47-bbe3-3112956cfd67');\n",
              "          const dataTable =\n",
              "            await google.colab.kernel.invokeFunction('convertToInteractive',\n",
              "                                                     [key], {});\n",
              "          if (!dataTable) return;\n",
              "\n",
              "          const docLinkHtml = 'Like what you see? Visit the ' +\n",
              "            '<a target=\"_blank\" href=https://colab.research.google.com/notebooks/data_table.ipynb>data table notebook</a>'\n",
              "            + ' to learn more about interactive tables.';\n",
              "          element.innerHTML = '';\n",
              "          dataTable['output_type'] = 'display_data';\n",
              "          await google.colab.output.renderOutput(dataTable, element);\n",
              "          const docLink = document.createElement('div');\n",
              "          docLink.innerHTML = docLinkHtml;\n",
              "          element.appendChild(docLink);\n",
              "        }\n",
              "      </script>\n",
              "    </div>\n",
              "  </div>\n",
              "  "
            ]
          },
          "metadata": {},
          "execution_count": 3
        }
      ]
    },
    {
      "cell_type": "code",
      "source": [
        "import time \n",
        "start = time.time()\n",
        "\n",
        "# Iterating through DataFrame using iterrows\n",
        "for idx, row in df.iterrows():\n",
        "    # creating a new column \n",
        "    df.at[idx,'ratio'] = 100 * (row[\"d\"] / row[\"c\"])  \n",
        "end = time.time()\n",
        "print(end - start)\n",
        "### 109 Seconds"
      ],
      "metadata": {
        "colab": {
          "base_uri": "https://localhost:8080/"
        },
        "id": "QMIquarZTwTB",
        "outputId": "12d0bdb8-0275-4ceb-eabb-c32b91d32e55"
      },
      "execution_count": 4,
      "outputs": [
        {
          "output_type": "stream",
          "name": "stderr",
          "text": [
            "<ipython-input-4-637e7b6961de>:7: RuntimeWarning: divide by zero encountered in long_scalars\n",
            "  df.at[idx,'ratio'] = 100 * (row[\"d\"] / row[\"c\"])\n",
            "<ipython-input-4-637e7b6961de>:7: RuntimeWarning: invalid value encountered in long_scalars\n",
            "  df.at[idx,'ratio'] = 100 * (row[\"d\"] / row[\"c\"])\n"
          ]
        },
        {
          "output_type": "stream",
          "name": "stdout",
          "text": [
            "336.6297433376312\n"
          ]
        }
      ]
    },
    {
      "cell_type": "code",
      "source": [
        "start = time.time()\n",
        "df[\"ratio\"] = 100 * (df[\"d\"] / df[\"c\"])\n",
        "\n",
        "end = time.time()\n",
        "print(end - start)"
      ],
      "metadata": {
        "colab": {
          "base_uri": "https://localhost:8080/"
        },
        "id": "uda9sXQmTyO6",
        "outputId": "0e3db690-8f48-45ea-f76c-f64cc5ffeba3"
      },
      "execution_count": 5,
      "outputs": [
        {
          "output_type": "stream",
          "name": "stdout",
          "text": [
            "0.06600117683410645\n"
          ]
        }
      ]
    },
    {
      "cell_type": "markdown",
      "source": [
        "# USE CASE 3: If-else Statements (on DataFrame)\n"
      ],
      "metadata": {
        "id": "nO9iznOwT1N5"
      }
    },
    {
      "cell_type": "code",
      "source": [
        "import time \n",
        "start = time.time()\n",
        "\n",
        "# Iterating through DataFrame using iterrows\n",
        "for idx, row in df.iterrows():\n",
        "    if row.a == 0:\n",
        "        df.at[idx,'e'] = row.d    \n",
        "    elif (row.a <= 25) & (row.a > 0):\n",
        "        df.at[idx,'e'] = (row.b)-(row.c)    \n",
        "    else:\n",
        "        df.at[idx,'e'] = row.b + row.c\n",
        "\n",
        "end = time.time()\n",
        "\n",
        "print(end - start)"
      ],
      "metadata": {
        "colab": {
          "base_uri": "https://localhost:8080/"
        },
        "id": "rNKS-PkPT1Zn",
        "outputId": "6e67ee04-4066-474a-bd82-939ff6bbec3f"
      },
      "execution_count": 6,
      "outputs": [
        {
          "output_type": "stream",
          "name": "stdout",
          "text": [
            "478.7003917694092\n"
          ]
        }
      ]
    },
    {
      "cell_type": "code",
      "source": [
        "# using vectorization \n",
        "\n",
        "start = time.time()\n",
        "df['e'] = df['b'] + df['c']\n",
        "df.loc[df['a'] <= 25, 'e'] = df['b'] -df['c']\n",
        "df.loc[df['a']==0, 'e'] = df['d']\n",
        "end = time.time()\n",
        "print(end - start)"
      ],
      "metadata": {
        "colab": {
          "base_uri": "https://localhost:8080/"
        },
        "id": "mDn-zJ-AT3Tf",
        "outputId": "d32e7b41-df3a-4ef4-ffe1-093274249317"
      },
      "execution_count": 8,
      "outputs": [
        {
          "output_type": "stream",
          "name": "stdout",
          "text": [
            "0.5808093547821045\n"
          ]
        }
      ]
    },
    {
      "cell_type": "markdown",
      "source": [
        "# USE CASE 4 (Advance): Solving Machine Learning/Deep Learning Networks\n"
      ],
      "metadata": {
        "id": "2SIb9ojIT5sz"
      }
    },
    {
      "cell_type": "code",
      "source": [
        "import numpy as np\n",
        "# setting initial values of m \n",
        "m = np.random.rand(1,5)\n",
        "\n",
        "# input values for 5 million rows\n",
        "x = np.random.rand(5000000,5)"
      ],
      "metadata": {
        "id": "NjCUS0oTT460"
      },
      "execution_count": 9,
      "outputs": []
    },
    {
      "cell_type": "code",
      "source": [
        "import numpy as np\n",
        "m = np.random.rand(1,5)\n",
        "x = np.random.rand(5000000,5)\n",
        "\n",
        "total = 0\n",
        "zer = np.arange(0,5000000)\n",
        "tic = time.process_time()\n",
        "\n",
        "for i in range(0,5000000):\n",
        "    total = 0\n",
        "    for j in range(0,5):\n",
        "        total = total + x[i][j]*m[0][j] \n",
        "        \n",
        "    zer[i] = total \n",
        "\n",
        "toc = time.process_time()\n",
        "print (\"Computation time = \" + str((toc - tic)) + \"seconds\")"
      ],
      "metadata": {
        "colab": {
          "base_uri": "https://localhost:8080/"
        },
        "id": "IEzyKQWfT7Wg",
        "outputId": "c321e0c6-1463-42e4-e03c-f5ea534704e0"
      },
      "execution_count": 13,
      "outputs": [
        {
          "output_type": "stream",
          "name": "stdout",
          "text": [
            "Computation time = 23.000777673000016seconds\n"
          ]
        }
      ]
    },
    {
      "cell_type": "code",
      "source": [
        "tic = time.process_time()\n",
        "\n",
        "#dot product \n",
        "np.dot(x,m.T) \n",
        "\n",
        "toc = time.process_time()\n",
        "print (\"Computation time = \" + str((toc - tic)) + \"seconds\")"
      ],
      "metadata": {
        "colab": {
          "base_uri": "https://localhost:8080/"
        },
        "id": "SnTcL0uoT9pI",
        "outputId": "ebdce0f3-96e7-407d-a2bc-7fa5118051bc"
      },
      "execution_count": 14,
      "outputs": [
        {
          "output_type": "stream",
          "name": "stdout",
          "text": [
            "Computation time = 0.08809572099994512seconds\n"
          ]
        }
      ]
    }
  ]
}