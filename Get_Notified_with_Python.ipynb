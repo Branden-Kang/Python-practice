{
  "nbformat": 4,
  "nbformat_minor": 0,
  "metadata": {
    "colab": {
      "name": "Get Notified with Python.ipynb",
      "provenance": [],
      "authorship_tag": "ABX9TyMUQ6wGQS/Zj9Gufn+GSeP2"
    },
    "kernelspec": {
      "name": "python3",
      "display_name": "Python 3"
    },
    "language_info": {
      "name": "python"
    }
  },
  "cells": [
    {
      "cell_type": "markdown",
      "metadata": {
        "id": "dReksszHrWe4"
      },
      "source": [
        "[Reference](https://towardsdatascience.com/how-to-get-a-notification-when-your-training-is-complete-with-python-2d39679d5f0f)"
      ]
    },
    {
      "cell_type": "code",
      "metadata": {
        "id": "UpQfPvp2WFCO"
      },
      "source": [
        "import winsound\n",
        "\n",
        "def make_noise():\n",
        "  duration = 1000  # milliseconds\n",
        "  freq = 440  # Hz\n",
        "  winsound.Beep(freq, duration)"
      ],
      "execution_count": 4,
      "outputs": []
    }
  ]
}