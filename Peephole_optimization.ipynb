{
  "nbformat": 4,
  "nbformat_minor": 0,
  "metadata": {
    "colab": {
      "name": "Peephole optimization.ipynb",
      "provenance": [],
      "authorship_tag": "ABX9TyOLxUsCq1MzCVFfSjr+rGao"
    },
    "kernelspec": {
      "name": "python3",
      "display_name": "Python 3"
    }
  },
  "cells": [
    {
      "cell_type": "markdown",
      "metadata": {
        "id": "S_YA62iSv3XJ"
      },
      "source": [
        "[Reference](https://chetanambi.medium.com/optimization-in-python-peephole-e9dc84cc184d)"
      ]
    },
    {
      "cell_type": "code",
      "metadata": {
        "id": "jFUC6XqXv2As"
      },
      "source": [
        "a = \"TDS\" * 5\n",
        "b = [1, 2] * 7\n",
        "c = (10, 20, 30) * 3"
      ],
      "execution_count": 1,
      "outputs": []
    },
    {
      "cell_type": "code",
      "metadata": {
        "colab": {
          "base_uri": "https://localhost:8080/"
        },
        "id": "Q80uX957v5nU",
        "outputId": "aa176d7c-1378-46db-bdd1-203bda0c203b"
      },
      "source": [
        "2 in [1,2,3]"
      ],
      "execution_count": 2,
      "outputs": [
        {
          "output_type": "execute_result",
          "data": {
            "text/plain": [
              "True"
            ]
          },
          "metadata": {
            "tags": []
          },
          "execution_count": 2
        }
      ]
    },
    {
      "cell_type": "code",
      "metadata": {
        "colab": {
          "base_uri": "https://localhost:8080/"
        },
        "id": "C1lnkYnqv74L",
        "outputId": "8441dd5d-5a71-461d-ce02-9e6bb6b1b1ae"
      },
      "source": [
        "5 in [1,2,3]"
      ],
      "execution_count": 3,
      "outputs": [
        {
          "output_type": "execute_result",
          "data": {
            "text/plain": [
              "False"
            ]
          },
          "metadata": {
            "tags": []
          },
          "execution_count": 3
        }
      ]
    },
    {
      "cell_type": "code",
      "metadata": {
        "colab": {
          "base_uri": "https://localhost:8080/"
        },
        "id": "HDjkJFVfv8mh",
        "outputId": "1b84dd08-ee7e-4848-e99a-fd32aa31c297"
      },
      "source": [
        "5 not in [1,2,3]"
      ],
      "execution_count": 4,
      "outputs": [
        {
          "output_type": "execute_result",
          "data": {
            "text/plain": [
              "True"
            ]
          },
          "metadata": {
            "tags": []
          },
          "execution_count": 4
        }
      ]
    },
    {
      "cell_type": "code",
      "metadata": {
        "id": "__di5a_4v9kF"
      },
      "source": [
        "def my_func():\n",
        "    a = 30 * 8 * 70\n",
        "    b = \"TDS\" * 5\n",
        "    c = \"T\" * 4097\n",
        "    d = [1, 2] * 5\n",
        "    e = (10,) * 257\n",
        "    f = [101, 102] * 2\n",
        "    print('Hello TDS !!!')"
      ],
      "execution_count": 5,
      "outputs": []
    },
    {
      "cell_type": "code",
      "metadata": {
        "colab": {
          "base_uri": "https://localhost:8080/"
        },
        "id": "eJRUbaxxwQAw",
        "outputId": "f342dcc3-25a5-4970-c1bd-4e004f19130e"
      },
      "source": [
        "my_func.__code__.co_consts"
      ],
      "execution_count": 6,
      "outputs": [
        {
          "output_type": "execute_result",
          "data": {
            "text/plain": [
              "(None,\n",
              " 30,\n",
              " 8,\n",
              " 70,\n",
              " 'TDS',\n",
              " 5,\n",
              " 'T',\n",
              " 4097,\n",
              " 1,\n",
              " 2,\n",
              " 10,\n",
              " 257,\n",
              " 101,\n",
              " 102,\n",
              " 'Hello TDS !!!',\n",
              " 240,\n",
              " 16800,\n",
              " 'TDSTDSTDSTDSTDS',\n",
              " (10,))"
            ]
          },
          "metadata": {
            "tags": []
          },
          "execution_count": 6
        }
      ]
    },
    {
      "cell_type": "code",
      "metadata": {
        "colab": {
          "base_uri": "https://localhost:8080/"
        },
        "id": "ic_F-kAhwSAC",
        "outputId": "addf7382-ee5f-49d1-ec9c-441774d18c36"
      },
      "source": [
        "my_func.__code__.co_varnames"
      ],
      "execution_count": 7,
      "outputs": [
        {
          "output_type": "execute_result",
          "data": {
            "text/plain": [
              "('a', 'b', 'c', 'd', 'e', 'f')"
            ]
          },
          "metadata": {
            "tags": []
          },
          "execution_count": 7
        }
      ]
    },
    {
      "cell_type": "code",
      "metadata": {
        "colab": {
          "base_uri": "https://localhost:8080/"
        },
        "id": "-2OitlcJwUlZ",
        "outputId": "2ed6d1b3-ed7a-4cb2-dd23-4f54f6407ac5"
      },
      "source": [
        "my_func.__code__.co_names"
      ],
      "execution_count": 8,
      "outputs": [
        {
          "output_type": "execute_result",
          "data": {
            "text/plain": [
              "('print',)"
            ]
          },
          "metadata": {
            "tags": []
          },
          "execution_count": 8
        }
      ]
    },
    {
      "cell_type": "code",
      "metadata": {
        "id": "EK3L11B8wVt-"
      },
      "source": [
        "def func_1(a):\n",
        "    for a in [10,20,30]:\n",
        "        pass"
      ],
      "execution_count": 9,
      "outputs": []
    },
    {
      "cell_type": "code",
      "metadata": {
        "colab": {
          "base_uri": "https://localhost:8080/"
        },
        "id": "7gkZ5-GtwaWq",
        "outputId": "c8b8dff8-323d-4277-9834-7060e851af35"
      },
      "source": [
        "func_1.__code__.co_consts"
      ],
      "execution_count": 10,
      "outputs": [
        {
          "output_type": "execute_result",
          "data": {
            "text/plain": [
              "(None, 10, 20, 30, (10, 20, 30))"
            ]
          },
          "metadata": {
            "tags": []
          },
          "execution_count": 10
        }
      ]
    },
    {
      "cell_type": "code",
      "metadata": {
        "id": "ZbMbJ6_TwdDd"
      },
      "source": [
        "def func_2(a):\n",
        "    for a in {40,50,60}:\n",
        "        pass"
      ],
      "execution_count": 13,
      "outputs": []
    },
    {
      "cell_type": "code",
      "metadata": {
        "colab": {
          "base_uri": "https://localhost:8080/"
        },
        "id": "OPQxi_91wgAg",
        "outputId": "768f69ee-f8b5-463a-822d-c28db65096d4"
      },
      "source": [
        "func_2.__code__.co_consts"
      ],
      "execution_count": 14,
      "outputs": [
        {
          "output_type": "execute_result",
          "data": {
            "text/plain": [
              "(None, 40, 50, 60, frozenset({40, 50, 60}))"
            ]
          },
          "metadata": {
            "tags": []
          },
          "execution_count": 14
        }
      ]
    }
  ]
}