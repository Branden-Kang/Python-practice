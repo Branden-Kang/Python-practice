{
  "nbformat": 4,
  "nbformat_minor": 0,
  "metadata": {
    "colab": {
      "provenance": [],
      "authorship_tag": "ABX9TyO2HcEcITyhxL2HlNz7rrOh"
    },
    "kernelspec": {
      "name": "python3",
      "display_name": "Python 3"
    },
    "language_info": {
      "name": "python"
    }
  },
  "cells": [
    {
      "cell_type": "markdown",
      "source": [
        "[Reference](https://towardsdatascience.com/why-and-how-to-set-up-logging-for-python-projects-bcdd4a374c7a)"
      ],
      "metadata": {
        "id": "fqfQAO3Gi_7N"
      }
    },
    {
      "cell_type": "code",
      "execution_count": 2,
      "metadata": {
        "id": "nmRfgzKUix3o"
      },
      "outputs": [],
      "source": [
        "# # src/main.py\n",
        "# import logging\n",
        "# import sys\n",
        "\n",
        "# from data_processing.processor import process_data\n",
        "# from model_training.trainer import train\n",
        "\n",
        "# # instantiate logger\n",
        "# logger = logging.getLogger(__name__)\n",
        "# logger.setLevel(logging.INFO)\n",
        "\n",
        "# # define handler and formatter\n",
        "# handler = logging.StreamHandler()\n",
        "# formatter = logging.Formatter(\"%(asctime)s - %(levelname)s - %(name)s - %(message)s\")\n",
        "\n",
        "# # add formatter to handler\n",
        "# handler.setFormatter(formatter)\n",
        "\n",
        "# # add handler to logger\n",
        "# logger.addHandler(handler)\n",
        "\n",
        "\n",
        "# if __name__ == \"__main__\":\n",
        "#     logger.info(\"Program started\")\n",
        "#     process_data()\n",
        "#     train()\n",
        "#     logger.info(\"Program finished\")\n",
        "    \n",
        "\n",
        "# #### src/model_training/trainer.py ####\n",
        "# import logging\n",
        "\n",
        "# logger = logging.getLogger(__name__)\n",
        "\n",
        "# def train():\n",
        "#     \"\"\"Dummy training function\"\"\"\n",
        "#     logger.info(\"Training model\")\n",
        "#     # model training code here\n",
        "#     logger.info(\"Model training complete\")\n",
        "    \n",
        "\n",
        "# #### src/data_processing/processor.py ####\n",
        "# import logging\n",
        "\n",
        "# logger = logging.getLogger(__name__)\n",
        "\n",
        "# def process_data():\n",
        "#     \"\"\"Dummy data processing function\"\"\"\n",
        "#     logger.info(\"Pre-processing data\")\n",
        "#     # data preprocessing code here...\n",
        "#     logger.info(\"Data pre-processing complete\")"
      ]
    }
  ]
}