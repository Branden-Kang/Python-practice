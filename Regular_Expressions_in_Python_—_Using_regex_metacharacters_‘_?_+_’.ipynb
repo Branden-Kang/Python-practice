{
  "nbformat": 4,
  "nbformat_minor": 0,
  "metadata": {
    "colab": {
      "name": "Regular Expressions in Python — Using regex metacharacters ‘ ? * + . ’.ipynb",
      "provenance": [],
      "authorship_tag": "ABX9TyMgU1BoyZXjkmeHKH07YYeP"
    },
    "kernelspec": {
      "name": "python3",
      "display_name": "Python 3"
    },
    "language_info": {
      "name": "python"
    }
  },
  "cells": [
    {
      "cell_type": "markdown",
      "metadata": {
        "id": "LfvKMMEtVw5F"
      },
      "source": [
        "[Reference](https://gaurav-patil21.medium.com/tutorial-3-regular-expressions-in-python-using-regex-metacharacters-6bdaaefadb87)"
      ]
    },
    {
      "cell_type": "markdown",
      "metadata": {
        "id": "6mURP300V1k4"
      },
      "source": [
        "# 1. metacharacter ‘ ? ’\n"
      ]
    },
    {
      "cell_type": "code",
      "metadata": {
        "colab": {
          "base_uri": "https://localhost:8080/"
        },
        "id": "-7CSybsZVvS5",
        "outputId": "766dfbc0-919e-4f2a-814b-10fc3352f3fe"
      },
      "source": [
        "import re\n",
        "text = '''Those who live in India: singular - Indian, plural - Indians.\n",
        "          West-Indies is altogether different. '''\n",
        "\n",
        "regex_code = re.compile(r'India?')\n",
        "print(regex_code.findall(text))"
      ],
      "execution_count": 2,
      "outputs": [
        {
          "output_type": "stream",
          "name": "stdout",
          "text": [
            "['India', 'India', 'India', 'Indi']\n"
          ]
        }
      ]
    },
    {
      "cell_type": "code",
      "metadata": {
        "colab": {
          "base_uri": "https://localhost:8080/"
        },
        "id": "HrpIU8J5WEyQ",
        "outputId": "98936c51-d8e1-440f-97e9-7561cba91af4"
      },
      "source": [
        "import re\n",
        "text = '''Those who live in India: singular - Indian, plural - Indians.\n",
        "          West-Indies is altogether different. '''\n",
        "\n",
        "regex_code = re.compile(r'India\\w?')\n",
        "print(regex_code.findall(text))"
      ],
      "execution_count": 3,
      "outputs": [
        {
          "output_type": "stream",
          "name": "stdout",
          "text": [
            "['India', 'Indian', 'Indian']\n"
          ]
        }
      ]
    },
    {
      "cell_type": "code",
      "metadata": {
        "colab": {
          "base_uri": "https://localhost:8080/"
        },
        "id": "r0XL8kPTWECn",
        "outputId": "1939f905-0565-4037-b796-d2c4bff5e658"
      },
      "source": [
        "text = 'Vehicle codes for cities are MH, MH1, KA6, MH12, MH4, TN2, B12, MH123'\n",
        "print(re.findall(r'MH\\d?',text))"
      ],
      "execution_count": 4,
      "outputs": [
        {
          "output_type": "stream",
          "name": "stdout",
          "text": [
            "['MH', 'MH1', 'MH1', 'MH4', 'MH1']\n"
          ]
        }
      ]
    },
    {
      "cell_type": "code",
      "metadata": {
        "colab": {
          "base_uri": "https://localhost:8080/"
        },
        "id": "etzhGufFWRl9",
        "outputId": "e6cb7019-4a28-481b-e9cd-eb5b0ac37307"
      },
      "source": [
        "text = 'A name catalogue of students : Branden Amy Ash David'\n",
        "print(re.findall(r'A\\w?',text))"
      ],
      "execution_count": 5,
      "outputs": [
        {
          "output_type": "stream",
          "name": "stdout",
          "text": [
            "['A', 'Am', 'As']\n"
          ]
        }
      ]
    },
    {
      "cell_type": "code",
      "metadata": {
        "colab": {
          "base_uri": "https://localhost:8080/"
        },
        "id": "rm3zuEw3WdxZ",
        "outputId": "8f9cab2b-c7c1-490f-9c06-1e35a5639a6f"
      },
      "source": [
        "text = 'an art is awesome'\n",
        "print(re.findall(r'ar?t',text))"
      ],
      "execution_count": 6,
      "outputs": [
        {
          "output_type": "stream",
          "name": "stdout",
          "text": [
            "['art']\n"
          ]
        }
      ]
    },
    {
      "cell_type": "markdown",
      "metadata": {
        "id": "IO_V790JWlaR"
      },
      "source": [
        "# 2. metacharacter ‘ * ‘\n"
      ]
    },
    {
      "cell_type": "code",
      "metadata": {
        "colab": {
          "base_uri": "https://localhost:8080/"
        },
        "id": "t1zmsEBlWlnU",
        "outputId": "bc155029-5997-4212-e0f9-6edacd685078"
      },
      "source": [
        "import re\n",
        "text = 'Vehicle codes for cities are MH, MH1, KA6, MH12, MH4, TN2, B12, MH123'\n",
        "print(re.findall(r'MH\\d*',text))"
      ],
      "execution_count": 7,
      "outputs": [
        {
          "output_type": "stream",
          "name": "stdout",
          "text": [
            "['MH', 'MH1', 'MH12', 'MH4', 'MH123']\n"
          ]
        }
      ]
    },
    {
      "cell_type": "code",
      "metadata": {
        "colab": {
          "base_uri": "https://localhost:8080/"
        },
        "id": "pZtaw847WqtV",
        "outputId": "26d079f6-f13d-47c9-fdb8-ddc87d98a9e8"
      },
      "source": [
        "text = 'A name catalogue of students : Branden Amy Ash David'\n",
        "print(re.findall(r'A\\w*',text))"
      ],
      "execution_count": 8,
      "outputs": [
        {
          "output_type": "stream",
          "name": "stdout",
          "text": [
            "['A', 'Amy', 'Ash']\n"
          ]
        }
      ]
    },
    {
      "cell_type": "markdown",
      "metadata": {
        "id": "dfWGA0-dWvkg"
      },
      "source": [
        "# 3. metacharacter ‘ + ’\n"
      ]
    },
    {
      "cell_type": "code",
      "metadata": {
        "colab": {
          "base_uri": "https://localhost:8080/"
        },
        "id": "oB2zd14RWsmJ",
        "outputId": "1da67db2-6576-4f2a-eff6-d2d4d69fdec4"
      },
      "source": [
        "import re\n",
        "text = 'Vehicle codes for cities are MH, MH1, KA6, MH12, MH4, TN2, B12, MH123'\n",
        "print(re.findall(r'MH\\d+',text))"
      ],
      "execution_count": 9,
      "outputs": [
        {
          "output_type": "stream",
          "name": "stdout",
          "text": [
            "['MH1', 'MH12', 'MH4', 'MH123']\n"
          ]
        }
      ]
    },
    {
      "cell_type": "code",
      "metadata": {
        "colab": {
          "base_uri": "https://localhost:8080/"
        },
        "id": "B75NdbbRWyA7",
        "outputId": "fcec2c5d-8ca0-4ef5-ca85-a5b0f5377f85"
      },
      "source": [
        "text = 'A name catalogue of students : Branden Amy Ash David'\n",
        "print(re.findall(r'A\\w+',text))"
      ],
      "execution_count": 10,
      "outputs": [
        {
          "output_type": "stream",
          "name": "stdout",
          "text": [
            "['Amy', 'Ash']\n"
          ]
        }
      ]
    },
    {
      "cell_type": "markdown",
      "metadata": {
        "id": "TsqhsncwW3Ok"
      },
      "source": [
        "# 4. metacharacter ‘ . ‘ (dot)\n"
      ]
    },
    {
      "cell_type": "code",
      "metadata": {
        "colab": {
          "base_uri": "https://localhost:8080/"
        },
        "id": "gHTuFSbgW2fg",
        "outputId": "aa81120d-094e-4f25-822f-d138aa61c0f7"
      },
      "source": [
        "import re\n",
        "text = 'Hello world!'\n",
        "print(re.findall(r'.', text))"
      ],
      "execution_count": 11,
      "outputs": [
        {
          "output_type": "stream",
          "name": "stdout",
          "text": [
            "['H', 'e', 'l', 'l', 'o', ' ', 'w', 'o', 'r', 'l', 'd', '!']\n"
          ]
        }
      ]
    },
    {
      "cell_type": "code",
      "metadata": {
        "colab": {
          "base_uri": "https://localhost:8080/"
        },
        "id": "p7JucwjXW7pt",
        "outputId": "ddce70ce-3383-4b65-83a9-4d7955d32179"
      },
      "source": [
        "import re\n",
        "text = 'Hello world!'\n",
        "print(re.sub(r'.', '#', text))"
      ],
      "execution_count": 13,
      "outputs": [
        {
          "output_type": "stream",
          "name": "stdout",
          "text": [
            "############\n"
          ]
        }
      ]
    }
  ]
}