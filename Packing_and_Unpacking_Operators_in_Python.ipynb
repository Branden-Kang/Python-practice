{
  "nbformat": 4,
  "nbformat_minor": 0,
  "metadata": {
    "colab": {
      "provenance": [],
      "authorship_tag": "ABX9TyNIwPbHEVNbjl1vBDnx5+nP"
    },
    "kernelspec": {
      "name": "python3",
      "display_name": "Python 3"
    },
    "language_info": {
      "name": "python"
    }
  },
  "cells": [
    {
      "cell_type": "markdown",
      "source": [
        "[Reference](https://blog.stackademic.com/packing-and-unpacking-operators-in-python-d364c19d8532)"
      ],
      "metadata": {
        "id": "TTI2DMEGIZmC"
      }
    },
    {
      "cell_type": "code",
      "execution_count": 1,
      "metadata": {
        "id": "EK7bzLZoIYjJ"
      },
      "outputs": [],
      "source": [
        "list = [1, 2, 3]"
      ]
    },
    {
      "cell_type": "code",
      "source": [
        "def sum(first, second, third):\n",
        "  return first + second + third"
      ],
      "metadata": {
        "id": "WCeWiekUIbVa"
      },
      "execution_count": 2,
      "outputs": []
    },
    {
      "cell_type": "code",
      "source": [
        "sum(list[0], list[1], list[2])"
      ],
      "metadata": {
        "id": "sxZEXgG9Ib-M",
        "outputId": "6cf947be-aff0-48ab-b7e4-ee3fc100afec",
        "colab": {
          "base_uri": "https://localhost:8080/"
        }
      },
      "execution_count": 3,
      "outputs": [
        {
          "output_type": "execute_result",
          "data": {
            "text/plain": [
              "6"
            ]
          },
          "metadata": {},
          "execution_count": 3
        }
      ]
    },
    {
      "cell_type": "code",
      "source": [
        "sum(*list)"
      ],
      "metadata": {
        "id": "Cmo9tTesIcrq",
        "outputId": "a15130ab-f95b-4036-89ac-0b798b6b91b9",
        "colab": {
          "base_uri": "https://localhost:8080/"
        }
      },
      "execution_count": 4,
      "outputs": [
        {
          "output_type": "execute_result",
          "data": {
            "text/plain": [
              "6"
            ]
          },
          "metadata": {},
          "execution_count": 4
        }
      ]
    },
    {
      "cell_type": "code",
      "source": [
        "test_dict = {'first': 1, 'second': 2, 'third': 3}\n",
        "print(*test_dict)"
      ],
      "metadata": {
        "id": "0aXJLhzGIdgB",
        "outputId": "4d7480fe-fdd1-4761-b1d5-18b35e90c174",
        "colab": {
          "base_uri": "https://localhost:8080/"
        }
      },
      "execution_count": 5,
      "outputs": [
        {
          "output_type": "stream",
          "name": "stdout",
          "text": [
            "first second third\n"
          ]
        }
      ]
    },
    {
      "cell_type": "code",
      "source": [
        "sum(**test_dict)"
      ],
      "metadata": {
        "id": "rHFfYJ3QIelq",
        "outputId": "b5b5d6cf-d23b-4c5e-8cd9-39060602cdcd",
        "colab": {
          "base_uri": "https://localhost:8080/"
        }
      },
      "execution_count": 6,
      "outputs": [
        {
          "output_type": "execute_result",
          "data": {
            "text/plain": [
              "6"
            ]
          },
          "metadata": {},
          "execution_count": 6
        }
      ]
    },
    {
      "cell_type": "code",
      "source": [
        "*nums, = 1, 2, 3\n",
        "print(nums)"
      ],
      "metadata": {
        "id": "iP22F2VWIfMn",
        "outputId": "fe022f10-b0c5-43b4-a8aa-8328272b91f5",
        "colab": {
          "base_uri": "https://localhost:8080/"
        }
      },
      "execution_count": 7,
      "outputs": [
        {
          "output_type": "stream",
          "name": "stdout",
          "text": [
            "[1, 2, 3]\n"
          ]
        }
      ]
    }
  ]
}