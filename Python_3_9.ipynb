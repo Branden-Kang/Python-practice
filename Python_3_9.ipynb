{
  "nbformat": 4,
  "nbformat_minor": 0,
  "metadata": {
    "colab": {
      "name": "Python 3.9.ipynb",
      "provenance": [],
      "authorship_tag": "ABX9TyOr98UwTfc/aBJa5cQjf9SH"
    },
    "kernelspec": {
      "name": "python3",
      "display_name": "Python 3"
    }
  },
  "cells": [
    {
      "cell_type": "markdown",
      "metadata": {
        "id": "haO6rUi_p6zu"
      },
      "source": [
        "[Reference1](https://medium.com/swlh/what-is-new-in-python3-9-21bfac42382a) <br>\n",
        "\n",
        "[Reference2](https://docs.python.org/3.9/whatsnew/3.9.html)"
      ]
    },
    {
      "cell_type": "markdown",
      "metadata": {
        "id": "DR5908ewzNuj"
      },
      "source": [
        "# Dictionary merge and update operator\n",
        "\n",
        "This operator is used for merging two dictionaries and returning a new dictionary as an output"
      ]
    },
    {
      "cell_type": "code",
      "metadata": {
        "id": "1reJOEO_p3ah"
      },
      "source": [
        "a = {'a': 'a1', 'b': 'b1'}\n",
        "b = {'c': 'c1', 'd': 'd2'}\n",
        "c = a | b\n",
        "\n",
        "print(f'{a=}')\n",
        "\n",
        "print(f'{b=}')\n",
        "\n",
        "print(f'{c=}')\n",
        "\n",
        "'''\n",
        "[output]\n",
        "a = {'a': 'a1', 'b': 'b1'}\n",
        "b = {'c': 'c1', 'd': 'd2'}\n",
        "c={'a': 'a1', 'b': 'b1', 'c': 'c1', 'd': 'd2'}\n",
        "'''"
      ],
      "execution_count": 4,
      "outputs": []
    },
    {
      "cell_type": "code",
      "metadata": {
        "id": "QKvY1tgZuVdT"
      },
      "source": [
        "a = {'a': 'a1', 'b': 'b1'}\n",
        "b = {'a': 'a1', 'd': 'd2'}\n",
        "c = a | b\n",
        "\n",
        "print(f'{a=}')\n",
        "\n",
        "print(f'{b=}')\n",
        "\n",
        "print(f'{c=}')\n",
        "\n",
        "'''\n",
        "[output]\n",
        "a = {'a': 'a1', 'b': 'b1'}\n",
        "b = {'a': 'a1', 'd': 'd2''}\n",
        "c={'a': 'a1', 'b': 'b1',  'd': 'd2'}\n",
        "'''"
      ],
      "execution_count": 5,
      "outputs": []
    },
    {
      "cell_type": "markdown",
      "metadata": {
        "id": "xGxaE04az1XU"
      },
      "source": [
        "update(|=)\n",
        "This operator is doing the same operation as the merge operator but here instead of creating a new dictionary LHS is getting updated. In case of key duplication the value of RHS gets updated."
      ]
    },
    {
      "cell_type": "code",
      "metadata": {
        "id": "Zm3CaApRugQj"
      },
      "source": [
        "a = {'a': 'a1', 'b': 'b1'}\n",
        "b = {'c': 'c1', 'd': 'd2'}\n",
        "a |= b\n",
        "\n",
        "print(f'{a=}')\n",
        "\n",
        "print(f'{b=}')\n",
        "\n",
        "print(f'{c=}')\n",
        "\n",
        "'''\n",
        "[output]\n",
        "a = {'a': 'a1', 'b': 'b1', 'c': 'c1', 'd': 'd2'}\n",
        "b = {'c': 'c1', 'd': 'd2'}\n",
        "'''"
      ],
      "execution_count": 6,
      "outputs": []
    },
    {
      "cell_type": "markdown",
      "metadata": {
        "id": "QSFnMseQuqql"
      },
      "source": [
        "# removeprefix() and removesuffix() methods\n",
        "\n",
        "This method returns a text after removing the given prefix"
      ]
    },
    {
      "cell_type": "code",
      "metadata": {
        "id": "PVr7UOLYulv_"
      },
      "source": [
        "text = \"prefixtext\"\n",
        "\n",
        "prefix_removed_text = text.removeprefix(\"prefix\")\n",
        "\n",
        "print(prefix_removed_text)"
      ],
      "execution_count": 7,
      "outputs": []
    },
    {
      "cell_type": "code",
      "metadata": {
        "id": "FpeiNljjusEJ"
      },
      "source": [
        "text = \"abcabctext\"\n",
        "print(text.removeprefix(\"abc\"))"
      ],
      "execution_count": 8,
      "outputs": []
    },
    {
      "cell_type": "code",
      "metadata": {
        "id": "348ZcIptuvd1"
      },
      "source": [
        "text = 'textsuffix'\n",
        "\n",
        "suffix_removed_text = text.removesuffix('suffix')\n",
        "\n",
        "print(suffix_removed_text)"
      ],
      "execution_count": 9,
      "outputs": []
    },
    {
      "cell_type": "code",
      "metadata": {
        "id": "UDdi5SC4zHnH"
      },
      "source": [
        "text = 'textabcabc'\n",
        "print(text.removesuffix('abc'))"
      ],
      "execution_count": 10,
      "outputs": []
    },
    {
      "cell_type": "markdown",
      "metadata": {
        "id": "u0BPdiDxzKsK"
      },
      "source": [
        "# New parser\n",
        "Python 3.9 uses a new parser based on PEG instead of LL(1)\n",
        "\n",
        "In Python 3.9 we can switch to the old parser by setting an environment variable PYTHONOLDPARSER=1"
      ]
    },
    {
      "cell_type": "markdown",
      "metadata": {
        "id": "OdOdTs510crA"
      },
      "source": [
        "# New module zoneinfo"
      ]
    },
    {
      "cell_type": "code",
      "metadata": {
        "id": "5SxBVRAMzK_j"
      },
      "source": [
        "from datetime import timedelta\n",
        "\n",
        "dt = datetime(2020, 1, 1, 12, tzinfo=ZoneInfo('Asia/Kolkata'))\n",
        "\n",
        "print(dt)\n",
        "\n",
        "print(dt.tzname())"
      ],
      "execution_count": 11,
      "outputs": []
    },
    {
      "cell_type": "markdown",
      "metadata": {
        "id": "s7LtNQKc0mYl"
      },
      "source": [
        "# Added close method for multiprocessing.SimpleQueue"
      ]
    },
    {
      "cell_type": "code",
      "metadata": {
        "id": "vbt4n_NE0kLr"
      },
      "source": [
        "a = SimpleQueue()\n",
        "\n",
        "a.put('test')\n",
        "\n",
        "a.put('test')\n",
        "\n",
        "a.close()\n",
        "\n",
        "a.put('test')"
      ],
      "execution_count": 12,
      "outputs": []
    },
    {
      "cell_type": "markdown",
      "metadata": {
        "id": "-hJGtp-b0xNa"
      },
      "source": [
        "# 6. LCM(Least common multiple) in math module"
      ]
    },
    {
      "cell_type": "code",
      "metadata": {
        "id": "rXSvpLhl0snA"
      },
      "source": [
        "import math\n",
        "\n",
        "print(math.lcm(100, 150))\n",
        "\n",
        "print(math.lcm(7, 8, 2, 56))"
      ],
      "execution_count": 13,
      "outputs": []
    },
    {
      "cell_type": "markdown",
      "metadata": {
        "id": "fqhdVneg04he"
      },
      "source": [
        "# Builtin Generic Types"
      ]
    },
    {
      "cell_type": "code",
      "metadata": {
        "id": "QcdI0WCy0z5y"
      },
      "source": [
        "def greet_all(names: list[str]) -> None:\n",
        "    for name in names:\n",
        "        print('Hello', name)"
      ],
      "execution_count": 15,
      "outputs": []
    }
  ]
}