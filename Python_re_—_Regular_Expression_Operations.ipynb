{
  "nbformat": 4,
  "nbformat_minor": 0,
  "metadata": {
    "colab": {
      "name": "Python re — Regular Expression Operations.ipynb",
      "provenance": [],
      "authorship_tag": "ABX9TyNjmPdC9nE8jsaidF3nTDYh"
    },
    "kernelspec": {
      "name": "python3",
      "display_name": "Python 3"
    }
  },
  "cells": [
    {
      "cell_type": "markdown",
      "metadata": {
        "id": "Dct83DhO7r_u"
      },
      "source": [
        "[Reference](https://medium.com/@gdesantis7/getting-started-with-python-re-regular-expression-operations-aa9996a4ba20)"
      ]
    },
    {
      "cell_type": "code",
      "metadata": {
        "colab": {
          "base_uri": "https://localhost:8080/"
        },
        "id": "alk1oXTG7nv9",
        "outputId": "8b706665-2b3f-4d0f-b9be-ae4c6978dc40"
      },
      "source": [
        "import re\n",
        "\n",
        "my_name = 'Branden Kang'\n",
        "for i in my_name:\n",
        "    if i == 'a' or i =='e' or i =='o' or i == 'u':\n",
        "        print(i)\n",
        "\n",
        "print(re.findall(\"[aeiou]\",my_name))"
      ],
      "execution_count": 1,
      "outputs": [
        {
          "output_type": "stream",
          "text": [
            "a\n",
            "e\n",
            "a\n",
            "['a', 'e', 'a']\n"
          ],
          "name": "stdout"
        }
      ]
    },
    {
      "cell_type": "code",
      "metadata": {
        "colab": {
          "base_uri": "https://localhost:8080/"
        },
        "id": "tefFzy548kMs",
        "outputId": "19583ee1-cccb-4a00-d8f7-ef7971e4a5ac"
      },
      "source": [
        "print('\\tTab')"
      ],
      "execution_count": 2,
      "outputs": [
        {
          "output_type": "stream",
          "text": [
            "\tTab\n"
          ],
          "name": "stdout"
        }
      ]
    },
    {
      "cell_type": "code",
      "metadata": {
        "colab": {
          "base_uri": "https://localhost:8080/"
        },
        "id": "FUnlzhge8bjn",
        "outputId": "560617ec-d502-4ddb-dac6-d8d6a6891e83"
      },
      "source": [
        "print(r'\\tTab')"
      ],
      "execution_count": 3,
      "outputs": [
        {
          "output_type": "stream",
          "text": [
            "\\tTab\n"
          ],
          "name": "stdout"
        }
      ]
    },
    {
      "cell_type": "code",
      "metadata": {
        "id": "YETKK2nX8l_O"
      },
      "source": [
        "re.search(\"\\bD\\w+\", 'Branden Kang')"
      ],
      "execution_count": 4,
      "outputs": []
    },
    {
      "cell_type": "code",
      "metadata": {
        "colab": {
          "base_uri": "https://localhost:8080/"
        },
        "id": "aI6dWhiX8qcO",
        "outputId": "49b4565f-4653-4cc9-b1bf-a2857a783058"
      },
      "source": [
        "re.search(r\"\\bK\\w+\", 'Branden Kang')"
      ],
      "execution_count": 6,
      "outputs": [
        {
          "output_type": "execute_result",
          "data": {
            "text/plain": [
              "<_sre.SRE_Match object; span=(8, 12), match='Kang'>"
            ]
          },
          "metadata": {
            "tags": []
          },
          "execution_count": 6
        }
      ]
    },
    {
      "cell_type": "code",
      "metadata": {
        "colab": {
          "base_uri": "https://localhost:8080/"
        },
        "id": "Fvt-ulIy86Kr",
        "outputId": "0f2c00c5-38da-4de6-9275-30c3a14f6c98"
      },
      "source": [
        "re.findall(r\"re\", \"you cannot find me re!\")"
      ],
      "execution_count": 7,
      "outputs": [
        {
          "output_type": "execute_result",
          "data": {
            "text/plain": [
              "['re']"
            ]
          },
          "metadata": {
            "tags": []
          },
          "execution_count": 7
        }
      ]
    },
    {
      "cell_type": "code",
      "metadata": {
        "colab": {
          "base_uri": "https://localhost:8080/"
        },
        "id": "UAQEhV8j8uS1",
        "outputId": "bef8d701-b93a-4933-bd5f-35ed3fc3de46"
      },
      "source": [
        "re.search(r\"re\", \"you cannot find me re!\")"
      ],
      "execution_count": 8,
      "outputs": [
        {
          "output_type": "execute_result",
          "data": {
            "text/plain": [
              "<_sre.SRE_Match object; span=(19, 21), match='re'>"
            ]
          },
          "metadata": {
            "tags": []
          },
          "execution_count": 8
        }
      ]
    },
    {
      "cell_type": "code",
      "metadata": {
        "colab": {
          "base_uri": "https://localhost:8080/"
        },
        "id": "Cj-rGbwj9BYv",
        "outputId": "65929c03-3bab-431e-dce3-2e047d62c616"
      },
      "source": [
        "re.split(r\"\\s\", \"you cannot find me re!\")"
      ],
      "execution_count": 9,
      "outputs": [
        {
          "output_type": "execute_result",
          "data": {
            "text/plain": [
              "['you', 'cannot', 'find', 'me', 're!']"
            ]
          },
          "metadata": {
            "tags": []
          },
          "execution_count": 9
        }
      ]
    },
    {
      "cell_type": "code",
      "metadata": {
        "colab": {
          "base_uri": "https://localhost:8080/",
          "height": 37
        },
        "id": "FeGqJTO59EYo",
        "outputId": "6a59f95a-da46-4db0-fc58-52ea18cb2426"
      },
      "source": [
        "re.sub(r\"\\s\", \"7\", \"you cannot find me re!\", 2)"
      ],
      "execution_count": 11,
      "outputs": [
        {
          "output_type": "execute_result",
          "data": {
            "application/vnd.google.colaboratory.intrinsic+json": {
              "type": "string"
            },
            "text/plain": [
              "'you7cannot7find me re!'"
            ]
          },
          "metadata": {
            "tags": []
          },
          "execution_count": 11
        }
      ]
    },
    {
      "cell_type": "code",
      "metadata": {
        "id": "QIjs0KEx9I6e"
      },
      "source": [
        "re.findall(r\"re\", \"you cannot find me re!\")"
      ],
      "execution_count": null,
      "outputs": []
    },
    {
      "cell_type": "code",
      "metadata": {
        "colab": {
          "base_uri": "https://localhost:8080/"
        },
        "id": "aG6fqFdSGQA6",
        "outputId": "c0d2f344-cd12-4b57-8f46-65dd573851f1"
      },
      "source": [
        "re.findall(r\"\\ABranden\", \"Branden is studying English\")"
      ],
      "execution_count": 18,
      "outputs": [
        {
          "output_type": "execute_result",
          "data": {
            "text/plain": [
              "['Branden']"
            ]
          },
          "metadata": {
            "tags": []
          },
          "execution_count": 18
        }
      ]
    },
    {
      "cell_type": "code",
      "metadata": {
        "colab": {
          "base_uri": "https://localhost:8080/"
        },
        "id": "b2XvZgxdGX2m",
        "outputId": "475c2ccc-a47d-4abf-b253-a1a486deec73"
      },
      "source": [
        "re.findall(r\"English\\Z\", \"Branden is studying English\")"
      ],
      "execution_count": 16,
      "outputs": [
        {
          "output_type": "execute_result",
          "data": {
            "text/plain": [
              "['English']"
            ]
          },
          "metadata": {
            "tags": []
          },
          "execution_count": 16
        }
      ]
    },
    {
      "cell_type": "code",
      "metadata": {
        "colab": {
          "base_uri": "https://localhost:8080/"
        },
        "id": "rFSwyksLGgHE",
        "outputId": "abdb6811-a02b-4138-f7c2-1552295904eb"
      },
      "source": [
        "re.findall(r\"\\d\", \"My number is 489-2889-1890\")"
      ],
      "execution_count": 19,
      "outputs": [
        {
          "output_type": "execute_result",
          "data": {
            "text/plain": [
              "['4', '8', '9', '2', '8', '8', '9', '1', '8', '9', '0']"
            ]
          },
          "metadata": {
            "tags": []
          },
          "execution_count": 19
        }
      ]
    },
    {
      "cell_type": "code",
      "metadata": {
        "colab": {
          "base_uri": "https://localhost:8080/"
        },
        "id": "yKr4cmJ0G9Uw",
        "outputId": "a6e1e999-df49-47cc-97be-9cd36131c817"
      },
      "source": [
        "re.findall(r\"[x-z]\", \"Branden is studying English\")"
      ],
      "execution_count": 20,
      "outputs": [
        {
          "output_type": "execute_result",
          "data": {
            "text/plain": [
              "['y']"
            ]
          },
          "metadata": {
            "tags": []
          },
          "execution_count": 20
        }
      ]
    },
    {
      "cell_type": "code",
      "metadata": {
        "colab": {
          "base_uri": "https://localhost:8080/"
        },
        "id": "G2Z5SKQaG9AG",
        "outputId": "be8e219f-1cd9-451d-efb8-bfb134bc7f41"
      },
      "source": [
        "re.findall(r\"^Br\", \"Branden is studying English\")"
      ],
      "execution_count": 22,
      "outputs": [
        {
          "output_type": "execute_result",
          "data": {
            "text/plain": [
              "['Br']"
            ]
          },
          "metadata": {
            "tags": []
          },
          "execution_count": 22
        }
      ]
    },
    {
      "cell_type": "code",
      "metadata": {
        "colab": {
          "base_uri": "https://localhost:8080/"
        },
        "id": "8Qrt2AmWHKkK",
        "outputId": "c92e02dd-601a-463b-c611-42149b7c5c71"
      },
      "source": [
        "re.findall(r\"English$\", \"Branden is studying English\")"
      ],
      "execution_count": 23,
      "outputs": [
        {
          "output_type": "execute_result",
          "data": {
            "text/plain": [
              "['English']"
            ]
          },
          "metadata": {
            "tags": []
          },
          "execution_count": 23
        }
      ]
    },
    {
      "cell_type": "code",
      "metadata": {
        "colab": {
          "base_uri": "https://localhost:8080/"
        },
        "id": "Z_eNL97SHRpE",
        "outputId": "f46dd82c-422a-4157-cba3-b4a870ef0b8a"
      },
      "source": [
        "re.findall(r\"is|studying\", \"Branden is studying English\")"
      ],
      "execution_count": 24,
      "outputs": [
        {
          "output_type": "execute_result",
          "data": {
            "text/plain": [
              "['is', 'studying', 'is']"
            ]
          },
          "metadata": {
            "tags": []
          },
          "execution_count": 24
        }
      ]
    }
  ]
}