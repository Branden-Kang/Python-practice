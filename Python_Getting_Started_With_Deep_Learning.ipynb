{
  "nbformat": 4,
  "nbformat_minor": 0,
  "metadata": {
    "colab": {
      "provenance": [],
      "authorship_tag": "ABX9TyNnEUDilvqHy+EOSPdJBzqw"
    },
    "kernelspec": {
      "name": "python3",
      "display_name": "Python 3"
    },
    "language_info": {
      "name": "python"
    }
  },
  "cells": [
    {
      "cell_type": "markdown",
      "source": [
        "[Reference](https://python.plainenglish.io/python-getting-started-with-deep-learning-1-3dde7f4a8c13)"
      ],
      "metadata": {
        "id": "ldKWFYVDp2sC"
      }
    },
    {
      "cell_type": "code",
      "execution_count": 2,
      "metadata": {
        "colab": {
          "base_uri": "https://localhost:8080/"
        },
        "id": "p18x-F1tpwXt",
        "outputId": "e4d06a72-2c83-4a5e-85e7-99934c8db708"
      },
      "outputs": [
        {
          "output_type": "stream",
          "name": "stdout",
          "text": [
            "1/1 [==============================] - 0s 423ms/step - loss: 0.6681 - accuracy: 0.6000\n",
            "Test Loss: 0.6681092381477356\n",
            "Test Accuracy: 0.6000000238418579\n"
          ]
        }
      ],
      "source": [
        "import numpy as np\n",
        "from keras.models import Sequential\n",
        "from keras.layers import Dense\n",
        "\n",
        "# Generate some sample data\n",
        "X_train = np.random.rand(100, 10)  # 100 samples, 10 features\n",
        "y_train = np.random.randint(2, size=(100,))  # Binary classification labels\n",
        "\n",
        "# Generate sample test data\n",
        "X_test = np.random.rand(20, 10)  # 20 samples, 10 features\n",
        "y_test = np.random.randint(2, size=(20,))  # Binary classification labels\n",
        "\n",
        "# Define the model\n",
        "model = Sequential()\n",
        "model.add(Dense(8, activation='relu', input_shape=(10,)))  # Hidden layer with 8 neurons\n",
        "model.add(Dense(1, activation='sigmoid'))  # Output layer with 1 neuron for binary classification\n",
        "\n",
        "# Compile the model\n",
        "model.compile(optimizer='adam', loss='binary_crossentropy', metrics=['accuracy'])\n",
        "\n",
        "# Train the model\n",
        "model.fit(X_train, y_train, epochs=100, batch_size=32, verbose=0)\n",
        "\n",
        "# evaluate the model\n",
        "loss, accuracy = model.evaluate(X_test, y_test)\n",
        "print(\"Test Loss:\", loss)\n",
        "print(\"Test Accuracy:\", accuracy)"
      ]
    },
    {
      "cell_type": "code",
      "source": [
        "y_pred = model.predict(X_test)\n",
        "print(y_pred)"
      ],
      "metadata": {
        "colab": {
          "base_uri": "https://localhost:8080/"
        },
        "id": "UdS_ZFc9p5zI",
        "outputId": "03e8dcf4-a66d-4071-f800-5631e5b67e43"
      },
      "execution_count": 3,
      "outputs": [
        {
          "output_type": "stream",
          "name": "stdout",
          "text": [
            "1/1 [==============================] - 0s 406ms/step\n",
            "[[0.38512614]\n",
            " [0.35106888]\n",
            " [0.34360212]\n",
            " [0.3137865 ]\n",
            " [0.3779552 ]\n",
            " [0.3549693 ]\n",
            " [0.40446827]\n",
            " [0.33747336]\n",
            " [0.33905718]\n",
            " [0.35954484]\n",
            " [0.35419306]\n",
            " [0.3704695 ]\n",
            " [0.34470147]\n",
            " [0.45321608]\n",
            " [0.40189692]\n",
            " [0.4376481 ]\n",
            " [0.32879817]\n",
            " [0.38071367]\n",
            " [0.4076568 ]\n",
            " [0.38133857]]\n"
          ]
        }
      ]
    }
  ]
}