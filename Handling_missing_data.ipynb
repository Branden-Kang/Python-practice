{
  "nbformat": 4,
  "nbformat_minor": 0,
  "metadata": {
    "colab": {
      "name": "Handling missing data.ipynb",
      "provenance": [],
      "collapsed_sections": [],
      "authorship_tag": "ABX9TyMMtxlGFBP4qX6IvbrjAghF"
    },
    "kernelspec": {
      "name": "python3",
      "display_name": "Python 3"
    }
  },
  "cells": [
    {
      "cell_type": "markdown",
      "metadata": {
        "id": "bKjB06WYEQkF",
        "colab_type": "text"
      },
      "source": [
        "# Handling missing data\n",
        "[Reference](https://machinelearningmastery.com/handle-missing-data-python/)"
      ]
    },
    {
      "cell_type": "code",
      "metadata": {
        "id": "LuD5AbseE_Gy",
        "colab_type": "code",
        "colab": {}
      },
      "source": [
        "from numpy import nan\n",
        "from numpy import isnan\n",
        "from pandas import read_csv\n",
        "from sklearn.discriminant_analysis import LinearDiscriminantAnalysis\n",
        "from sklearn.model_selection import KFold\n",
        "from sklearn.model_selection import cross_val_score\n",
        "from sklearn.impute import SimpleImputer\n",
        "from sklearn.pipeline import Pipeline"
      ],
      "execution_count": 20,
      "outputs": []
    },
    {
      "cell_type": "code",
      "metadata": {
        "id": "J1KFPBEhEhbn",
        "colab_type": "code",
        "colab": {
          "base_uri": "https://localhost:8080/",
          "height": 204
        },
        "outputId": "38e4f9e9-420b-4ab5-bf51-47dc6d4df2db"
      },
      "source": [
        "# load the dataset\n",
        "dataset = read_csv('https://raw.githubusercontent.com/jbrownlee/Datasets/master/pima-indians-diabetes.csv', header=None)\n",
        "# summarize the dataset\n",
        "print(dataset.describe())"
      ],
      "execution_count": 2,
      "outputs": [
        {
          "output_type": "stream",
          "text": [
            "                0           1           2  ...           6           7           8\n",
            "count  768.000000  768.000000  768.000000  ...  768.000000  768.000000  768.000000\n",
            "mean     3.845052  120.894531   69.105469  ...    0.471876   33.240885    0.348958\n",
            "std      3.369578   31.972618   19.355807  ...    0.331329   11.760232    0.476951\n",
            "min      0.000000    0.000000    0.000000  ...    0.078000   21.000000    0.000000\n",
            "25%      1.000000   99.000000   62.000000  ...    0.243750   24.000000    0.000000\n",
            "50%      3.000000  117.000000   72.000000  ...    0.372500   29.000000    0.000000\n",
            "75%      6.000000  140.250000   80.000000  ...    0.626250   41.000000    1.000000\n",
            "max     17.000000  199.000000  122.000000  ...    2.420000   81.000000    1.000000\n",
            "\n",
            "[8 rows x 9 columns]\n"
          ],
          "name": "stdout"
        }
      ]
    },
    {
      "cell_type": "code",
      "metadata": {
        "id": "QbU7NyZoElzG",
        "colab_type": "code",
        "colab": {
          "base_uri": "https://localhost:8080/",
          "height": 374
        },
        "outputId": "c4cd50c3-ebee-4939-8936-4f09db8d0b3a"
      },
      "source": [
        "print(dataset.head(20))"
      ],
      "execution_count": 3,
      "outputs": [
        {
          "output_type": "stream",
          "text": [
            "     0    1   2   3    4     5      6   7  8\n",
            "0    6  148  72  35    0  33.6  0.627  50  1\n",
            "1    1   85  66  29    0  26.6  0.351  31  0\n",
            "2    8  183  64   0    0  23.3  0.672  32  1\n",
            "3    1   89  66  23   94  28.1  0.167  21  0\n",
            "4    0  137  40  35  168  43.1  2.288  33  1\n",
            "5    5  116  74   0    0  25.6  0.201  30  0\n",
            "6    3   78  50  32   88  31.0  0.248  26  1\n",
            "7   10  115   0   0    0  35.3  0.134  29  0\n",
            "8    2  197  70  45  543  30.5  0.158  53  1\n",
            "9    8  125  96   0    0   0.0  0.232  54  1\n",
            "10   4  110  92   0    0  37.6  0.191  30  0\n",
            "11  10  168  74   0    0  38.0  0.537  34  1\n",
            "12  10  139  80   0    0  27.1  1.441  57  0\n",
            "13   1  189  60  23  846  30.1  0.398  59  1\n",
            "14   5  166  72  19  175  25.8  0.587  51  1\n",
            "15   7  100   0   0    0  30.0  0.484  32  1\n",
            "16   0  118  84  47  230  45.8  0.551  31  1\n",
            "17   7  107  74   0    0  29.6  0.254  31  1\n",
            "18   1  103  30  38   83  43.3  0.183  33  0\n",
            "19   1  115  70  30   96  34.6  0.529  32  1\n"
          ],
          "name": "stdout"
        }
      ]
    },
    {
      "cell_type": "code",
      "metadata": {
        "id": "KZKpG05rEo2f",
        "colab_type": "code",
        "colab": {
          "base_uri": "https://localhost:8080/",
          "height": 119
        },
        "outputId": "045b32b1-0587-45b9-e283-0537047933f1"
      },
      "source": [
        "# count the number of missing values for each column\n",
        "num_missing = (dataset[[1,2,3,4,5]] == 0).sum()\n",
        "# report the results\n",
        "print(num_missing)"
      ],
      "execution_count": 4,
      "outputs": [
        {
          "output_type": "stream",
          "text": [
            "1      5\n",
            "2     35\n",
            "3    227\n",
            "4    374\n",
            "5     11\n",
            "dtype: int64\n"
          ],
          "name": "stdout"
        }
      ]
    },
    {
      "cell_type": "code",
      "metadata": {
        "id": "8JZOFx3WEq7I",
        "colab_type": "code",
        "colab": {
          "base_uri": "https://localhost:8080/",
          "height": 187
        },
        "outputId": "50b79fdc-3cfe-4f5a-bf58-2b06469be6b8"
      },
      "source": [
        "dataset[[1,2,3,4,5]] = dataset[[1,2,3,4,5]].replace(0, nan)\n",
        "# count the number of nan values in each column\n",
        "print(dataset.isnull().sum())"
      ],
      "execution_count": 6,
      "outputs": [
        {
          "output_type": "stream",
          "text": [
            "0      0\n",
            "1      5\n",
            "2     35\n",
            "3    227\n",
            "4    374\n",
            "5     11\n",
            "6      0\n",
            "7      0\n",
            "8      0\n",
            "dtype: int64\n"
          ],
          "name": "stdout"
        }
      ]
    },
    {
      "cell_type": "code",
      "metadata": {
        "id": "oQ-29U0sEtQY",
        "colab_type": "code",
        "colab": {
          "base_uri": "https://localhost:8080/",
          "height": 374
        },
        "outputId": "b673f059-b5e0-4ad6-85b9-ab7184912c45"
      },
      "source": [
        "# load the dataset\n",
        "dataset = read_csv('https://raw.githubusercontent.com/jbrownlee/Datasets/master/pima-indians-diabetes.csv', header=None)\n",
        "# replace '0' values with 'nan'\n",
        "dataset[[1,2,3,4,5]] = dataset[[1,2,3,4,5]].replace(0, nan)\n",
        "# print the first 20 rows of data\n",
        "print(dataset.head(20))"
      ],
      "execution_count": 8,
      "outputs": [
        {
          "output_type": "stream",
          "text": [
            "     0      1     2     3      4     5      6   7  8\n",
            "0    6  148.0  72.0  35.0    NaN  33.6  0.627  50  1\n",
            "1    1   85.0  66.0  29.0    NaN  26.6  0.351  31  0\n",
            "2    8  183.0  64.0   NaN    NaN  23.3  0.672  32  1\n",
            "3    1   89.0  66.0  23.0   94.0  28.1  0.167  21  0\n",
            "4    0  137.0  40.0  35.0  168.0  43.1  2.288  33  1\n",
            "5    5  116.0  74.0   NaN    NaN  25.6  0.201  30  0\n",
            "6    3   78.0  50.0  32.0   88.0  31.0  0.248  26  1\n",
            "7   10  115.0   NaN   NaN    NaN  35.3  0.134  29  0\n",
            "8    2  197.0  70.0  45.0  543.0  30.5  0.158  53  1\n",
            "9    8  125.0  96.0   NaN    NaN   NaN  0.232  54  1\n",
            "10   4  110.0  92.0   NaN    NaN  37.6  0.191  30  0\n",
            "11  10  168.0  74.0   NaN    NaN  38.0  0.537  34  1\n",
            "12  10  139.0  80.0   NaN    NaN  27.1  1.441  57  0\n",
            "13   1  189.0  60.0  23.0  846.0  30.1  0.398  59  1\n",
            "14   5  166.0  72.0  19.0  175.0  25.8  0.587  51  1\n",
            "15   7  100.0   NaN   NaN    NaN  30.0  0.484  32  1\n",
            "16   0  118.0  84.0  47.0  230.0  45.8  0.551  31  1\n",
            "17   7  107.0  74.0   NaN    NaN  29.6  0.254  31  1\n",
            "18   1  103.0  30.0  38.0   83.0  43.3  0.183  33  0\n",
            "19   1  115.0  70.0  30.0   96.0  34.6  0.529  32  1\n"
          ],
          "name": "stdout"
        }
      ]
    },
    {
      "cell_type": "markdown",
      "metadata": {
        "id": "UCv4Y39mFHBL",
        "colab_type": "text"
      },
      "source": [
        "## Missing Values Causes Problems"
      ]
    },
    {
      "cell_type": "code",
      "metadata": {
        "id": "Ebq31O_jE1PI",
        "colab_type": "code",
        "colab": {
          "base_uri": "https://localhost:8080/",
          "height": 258
        },
        "outputId": "36804d4b-35b6-4a49-8cc6-33c42e084854"
      },
      "source": [
        "# load the dataset\n",
        "dataset = read_csv('https://raw.githubusercontent.com/jbrownlee/Datasets/master/pima-indians-diabetes.csv', header=None)\n",
        "# replace '0' values with 'nan'\n",
        "dataset[[1,2,3,4,5]] = dataset[[1,2,3,4,5]].replace(0, nan)\n",
        "# split dataset into inputs and outputs\n",
        "values = dataset.values\n",
        "X = values[:,0:8]\n",
        "y = values[:,8]\n",
        "# define the model\n",
        "model = LinearDiscriminantAnalysis()\n",
        "# define the model evaluation procedure\n",
        "cv = KFold(n_splits=3, shuffle=True, random_state=1)\n",
        "# evaluate the model\n",
        "result = cross_val_score(model, X, y, cv=cv, scoring='accuracy')\n",
        "# report the mean performance\n",
        "print('Accuracy: %.3f' % result.mean())"
      ],
      "execution_count": 11,
      "outputs": [
        {
          "output_type": "stream",
          "text": [
            "Accuracy: nan\n"
          ],
          "name": "stdout"
        },
        {
          "output_type": "stream",
          "text": [
            "/usr/local/lib/python3.6/dist-packages/sklearn/model_selection/_validation.py:536: FitFailedWarning: Estimator fit failed. The score on this train-test partition for these parameters will be set to nan. Details: \n",
            "ValueError: Input contains NaN, infinity or a value too large for dtype('float64').\n",
            "\n",
            "  FitFailedWarning)\n",
            "/usr/local/lib/python3.6/dist-packages/sklearn/model_selection/_validation.py:536: FitFailedWarning: Estimator fit failed. The score on this train-test partition for these parameters will be set to nan. Details: \n",
            "ValueError: Input contains NaN, infinity or a value too large for dtype('float64').\n",
            "\n",
            "  FitFailedWarning)\n",
            "/usr/local/lib/python3.6/dist-packages/sklearn/model_selection/_validation.py:536: FitFailedWarning: Estimator fit failed. The score on this train-test partition for these parameters will be set to nan. Details: \n",
            "ValueError: Input contains NaN, infinity or a value too large for dtype('float64').\n",
            "\n",
            "  FitFailedWarning)\n"
          ],
          "name": "stderr"
        }
      ]
    },
    {
      "cell_type": "markdown",
      "metadata": {
        "id": "-R8x6ROeFM_A",
        "colab_type": "text"
      },
      "source": [
        "## Remove Rows With Missing Values"
      ]
    },
    {
      "cell_type": "code",
      "metadata": {
        "id": "2rOfHXwuFCeg",
        "colab_type": "code",
        "colab": {
          "base_uri": "https://localhost:8080/",
          "height": 51
        },
        "outputId": "d2420af3-bdd2-4f2b-b75d-071496cf4bb8"
      },
      "source": [
        "# load the dataset\n",
        "dataset = read_csv('https://raw.githubusercontent.com/jbrownlee/Datasets/master/pima-indians-diabetes.csv', header=None)\n",
        "# summarize the shape of the raw data\n",
        "print(dataset.shape)\n",
        "# replace '0' values with 'nan'\n",
        "dataset[[1,2,3,4,5]] = dataset[[1,2,3,4,5]].replace(0, nan)\n",
        "# drop rows with missing values\n",
        "dataset.dropna(inplace=True)\n",
        "# summarize the shape of the data with missing rows removed\n",
        "print(dataset.shape)"
      ],
      "execution_count": 12,
      "outputs": [
        {
          "output_type": "stream",
          "text": [
            "(768, 9)\n",
            "(392, 9)\n"
          ],
          "name": "stdout"
        }
      ]
    },
    {
      "cell_type": "code",
      "metadata": {
        "id": "9iBNqW63FR6E",
        "colab_type": "code",
        "colab": {
          "base_uri": "https://localhost:8080/",
          "height": 34
        },
        "outputId": "c1e36678-6f21-4186-fa49-31634babfb31"
      },
      "source": [
        "# split dataset into inputs and outputs\n",
        "values = dataset.values\n",
        "X = values[:,0:8]\n",
        "y = values[:,8]\n",
        "# define the model\n",
        "model = LinearDiscriminantAnalysis()\n",
        "# define the model evaluation procedure\n",
        "cv = KFold(n_splits=3, shuffle=True, random_state=1)\n",
        "# evaluate the model\n",
        "result = cross_val_score(model, X, y, cv=cv, scoring='accuracy')\n",
        "# report the mean performance\n",
        "print('Accuracy: %.3f' % result.mean())"
      ],
      "execution_count": 13,
      "outputs": [
        {
          "output_type": "stream",
          "text": [
            "Accuracy: 0.781\n"
          ],
          "name": "stdout"
        }
      ]
    },
    {
      "cell_type": "markdown",
      "metadata": {
        "id": "S_6vGP0xFbQw",
        "colab_type": "text"
      },
      "source": [
        "## Impute Missing Values"
      ]
    },
    {
      "cell_type": "code",
      "metadata": {
        "id": "Duxg5Y-HFZmX",
        "colab_type": "code",
        "colab": {
          "base_uri": "https://localhost:8080/",
          "height": 187
        },
        "outputId": "e3dd0f76-49e4-4a03-dde2-d868ef82adfe"
      },
      "source": [
        "dataset = read_csv('https://raw.githubusercontent.com/jbrownlee/Datasets/master/pima-indians-diabetes.csv', header=None)\n",
        "# mark zero values as missing or NaN\n",
        "dataset[[1,2,3,4,5]] = dataset[[1,2,3,4,5]].replace(0, nan)\n",
        "# fill missing values with mean column values\n",
        "dataset.fillna(dataset.mean(), inplace=True)\n",
        "# count the number of NaN values in each column\n",
        "print(dataset.isnull().sum())"
      ],
      "execution_count": 14,
      "outputs": [
        {
          "output_type": "stream",
          "text": [
            "0    0\n",
            "1    0\n",
            "2    0\n",
            "3    0\n",
            "4    0\n",
            "5    0\n",
            "6    0\n",
            "7    0\n",
            "8    0\n",
            "dtype: int64\n"
          ],
          "name": "stdout"
        }
      ]
    },
    {
      "cell_type": "code",
      "metadata": {
        "id": "9NFW6GVFFfRF",
        "colab_type": "code",
        "colab": {
          "base_uri": "https://localhost:8080/",
          "height": 34
        },
        "outputId": "d3e63fd2-9d6c-4757-8bdc-6122ba97c5ee"
      },
      "source": [
        "# load the dataset\n",
        "dataset = read_csv('https://raw.githubusercontent.com/jbrownlee/Datasets/master/pima-indians-diabetes.csv', header=None)\n",
        "# mark zero values as missing or NaN\n",
        "dataset[[1,2,3,4,5]] = dataset[[1,2,3,4,5]].replace(0, nan)\n",
        "# retrieve the numpy array\n",
        "values = dataset.values\n",
        "# define the imputer\n",
        "imputer = SimpleImputer(missing_values=nan, strategy='mean')\n",
        "# transform the dataset\n",
        "transformed_values = imputer.fit_transform(values)\n",
        "# count the number of NaN values in each column\n",
        "print('Missing: %d' % isnan(transformed_values).sum())"
      ],
      "execution_count": 23,
      "outputs": [
        {
          "output_type": "stream",
          "text": [
            "Missing: 0\n"
          ],
          "name": "stdout"
        }
      ]
    },
    {
      "cell_type": "code",
      "metadata": {
        "id": "17jOkkt-Fq_B",
        "colab_type": "code",
        "colab": {
          "base_uri": "https://localhost:8080/",
          "height": 34
        },
        "outputId": "39f15b0e-3f8d-4dec-a59d-7c6a04afc8ed"
      },
      "source": [
        "dataset = read_csv('https://raw.githubusercontent.com/jbrownlee/Datasets/master/pima-indians-diabetes.csv', header=None)\n",
        "# mark zero values as missing or NaN\n",
        "dataset[[1,2,3,4,5]] = dataset[[1,2,3,4,5]].replace(0, nan)\n",
        "# split dataset into inputs and outputs\n",
        "values = dataset.values\n",
        "X = values[:,0:8]\n",
        "y = values[:,8]\n",
        "# define the imputer\n",
        "imputer = SimpleImputer(missing_values=nan, strategy='mean')\n",
        "# define the model\n",
        "lda = LinearDiscriminantAnalysis()\n",
        "# define the modeling pipeline\n",
        "pipeline = Pipeline(steps=[('imputer', imputer),('model', lda)])\n",
        "# define the cross validation procedure\n",
        "kfold = KFold(n_splits=3, shuffle=True, random_state=1)\n",
        "# evaluate the model\n",
        "result = cross_val_score(pipeline, X, y, cv=kfold, scoring='accuracy')\n",
        "# report the mean performance\n",
        "print('Accuracy: %.3f' % result.mean())"
      ],
      "execution_count": 25,
      "outputs": [
        {
          "output_type": "stream",
          "text": [
            "Accuracy: 0.762\n"
          ],
          "name": "stdout"
        }
      ]
    },
    {
      "cell_type": "markdown",
      "metadata": {
        "id": "GWQqt0Z7GKOb",
        "colab_type": "text"
      },
      "source": [
        "## Algorithms that Support Missing Values\n",
        "- k-Nearest Neighbors, Naive Bayes"
      ]
    }
  ]
}