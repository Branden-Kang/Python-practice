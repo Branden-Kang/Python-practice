{
  "nbformat": 4,
  "nbformat_minor": 0,
  "metadata": {
    "colab": {
      "name": "Optimize your code with Python Generator.ipynb",
      "provenance": [],
      "authorship_tag": "ABX9TyOkcI2+zij27D9uuaKBasDp"
    },
    "kernelspec": {
      "name": "python3",
      "display_name": "Python 3"
    },
    "language_info": {
      "name": "python"
    }
  },
  "cells": [
    {
      "cell_type": "markdown",
      "metadata": {
        "id": "DXda4qyy3GcJ"
      },
      "source": [
        "[Reference](https://medium.com/analytics-vidhya/optimize-your-code-with-python-generator-9498b6ea1fa4)"
      ]
    },
    {
      "cell_type": "code",
      "metadata": {
        "id": "WZ6XgfTG3ESl"
      },
      "source": [
        "import math\n",
        "\n",
        "class FactorialGenerator:\n",
        "    def __init__(self, n):\n",
        "        self.n = 0\n",
        "        self.i = 0\n",
        "\n",
        "    def __iter__(self):\n",
        "        return self\n",
        "\n",
        "    def __next__(self):\n",
        "        if self.i >= self.n:\n",
        "            raise StopIteration\n",
        "        else:\n",
        "            result = math.factorial(self.i)\n",
        "            self.i += 1\n",
        "            return result"
      ],
      "execution_count": 1,
      "outputs": []
    },
    {
      "cell_type": "code",
      "metadata": {
        "id": "QcNU57pw3d0B"
      },
      "source": [
        "def factorial_yield(n):\n",
        "    for i in range(n):\n",
        "        yield math.factorial(i)"
      ],
      "execution_count": 2,
      "outputs": []
    },
    {
      "cell_type": "code",
      "metadata": {
        "colab": {
          "base_uri": "https://localhost:8080/"
        },
        "id": "_RUdr-8Q3i-6",
        "outputId": "8c9d9258-b8b8-4872-d3dd-4df7a20fbe4c"
      },
      "source": [
        "generate_factorial = factorial_yield(20)\n",
        "next(generate_factorial)"
      ],
      "execution_count": 3,
      "outputs": [
        {
          "output_type": "execute_result",
          "data": {
            "text/plain": [
              "1"
            ]
          },
          "metadata": {
            "tags": []
          },
          "execution_count": 3
        }
      ]
    },
    {
      "cell_type": "code",
      "metadata": {
        "colab": {
          "base_uri": "https://localhost:8080/"
        },
        "id": "z5DnT1zy4vmV",
        "outputId": "93560bf9-35d4-4b8b-9c12-d10e19df5d37"
      },
      "source": [
        "list_g = [i**3 for i in range(5)]\n",
        "type(list_g)"
      ],
      "execution_count": 4,
      "outputs": [
        {
          "output_type": "execute_result",
          "data": {
            "text/plain": [
              "list"
            ]
          },
          "metadata": {
            "tags": []
          },
          "execution_count": 4
        }
      ]
    },
    {
      "cell_type": "code",
      "metadata": {
        "colab": {
          "base_uri": "https://localhost:8080/"
        },
        "id": "f3FzPKBY41r4",
        "outputId": "520d166c-8c4a-4a9b-d1e1-e08f541e61b3"
      },
      "source": [
        "list_gen = (i**3 for i in range(5))\n",
        "type(list_gen)"
      ],
      "execution_count": 5,
      "outputs": [
        {
          "output_type": "execute_result",
          "data": {
            "text/plain": [
              "generator"
            ]
          },
          "metadata": {
            "tags": []
          },
          "execution_count": 5
        }
      ]
    },
    {
      "cell_type": "code",
      "metadata": {
        "colab": {
          "base_uri": "https://localhost:8080/"
        },
        "id": "wjK-JAvc44pv",
        "outputId": "d6c8d972-5514-4037-88a7-a6de5e826e10"
      },
      "source": [
        "next(list_gen)"
      ],
      "execution_count": 6,
      "outputs": [
        {
          "output_type": "execute_result",
          "data": {
            "text/plain": [
              "0"
            ]
          },
          "metadata": {
            "tags": []
          },
          "execution_count": 6
        }
      ]
    },
    {
      "cell_type": "code",
      "metadata": {
        "colab": {
          "base_uri": "https://localhost:8080/"
        },
        "id": "2m_En3pS45x8",
        "outputId": "668c9c46-e67b-4486-c689-b81ecab64dcd"
      },
      "source": [
        "next(list_gen)"
      ],
      "execution_count": 7,
      "outputs": [
        {
          "output_type": "execute_result",
          "data": {
            "text/plain": [
              "1"
            ]
          },
          "metadata": {
            "tags": []
          },
          "execution_count": 7
        }
      ]
    },
    {
      "cell_type": "code",
      "metadata": {
        "colab": {
          "base_uri": "https://localhost:8080/"
        },
        "id": "iEUhN9CI46lh",
        "outputId": "59b22bff-5002-49b9-b640-f8b3730c8ded"
      },
      "source": [
        "next(list_gen)"
      ],
      "execution_count": 8,
      "outputs": [
        {
          "output_type": "execute_result",
          "data": {
            "text/plain": [
              "8"
            ]
          },
          "metadata": {
            "tags": []
          },
          "execution_count": 8
        }
      ]
    }
  ]
}