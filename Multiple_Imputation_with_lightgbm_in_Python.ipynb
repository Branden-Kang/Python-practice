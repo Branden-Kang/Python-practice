{
  "nbformat": 4,
  "nbformat_minor": 0,
  "metadata": {
    "colab": {
      "provenance": [],
      "authorship_tag": "ABX9TyNeoN6o6o2B9PWqbzd5dPhI"
    },
    "kernelspec": {
      "name": "python3",
      "display_name": "Python 3"
    },
    "language_info": {
      "name": "python"
    }
  },
  "cells": [
    {
      "cell_type": "markdown",
      "source": [
        "[Reference](https://towardsdatascience.com/multiple-imputation-with-random-forests-in-python-dec83c0ac55b)"
      ],
      "metadata": {
        "id": "K2wDRA7fYXMo"
      }
    },
    {
      "cell_type": "code",
      "source": [
        "!pip install miceforest"
      ],
      "metadata": {
        "colab": {
          "base_uri": "https://localhost:8080/"
        },
        "id": "C8d52kfsYbD5",
        "outputId": "5dfbd650-dea2-4778-ea2d-c225caebb9f9"
      },
      "execution_count": 1,
      "outputs": [
        {
          "output_type": "stream",
          "name": "stdout",
          "text": [
            "Looking in indexes: https://pypi.org/simple, https://us-python.pkg.dev/colab-wheels/public/simple/\n",
            "Collecting miceforest\n",
            "  Downloading miceforest-5.6.3-py3-none-any.whl (57 kB)\n",
            "\u001b[2K     \u001b[90m━━━━━━━━━━━━━━━━━━━━━━━━━━━━━━━━━━━━━━━━\u001b[0m \u001b[32m58.0/58.0 KB\u001b[0m \u001b[31m2.6 MB/s\u001b[0m eta \u001b[36m0:00:00\u001b[0m\n",
            "\u001b[?25hCollecting blosc\n",
            "  Downloading blosc-1.11.1-cp38-cp38-manylinux_2_17_x86_64.manylinux2014_x86_64.whl (2.5 MB)\n",
            "\u001b[2K     \u001b[90m━━━━━━━━━━━━━━━━━━━━━━━━━━━━━━━━━━━━━━━━\u001b[0m \u001b[32m2.5/2.5 MB\u001b[0m \u001b[31m34.3 MB/s\u001b[0m eta \u001b[36m0:00:00\u001b[0m\n",
            "\u001b[?25hCollecting lightgbm>=3.3.1\n",
            "  Downloading lightgbm-3.3.5-py3-none-manylinux1_x86_64.whl (2.0 MB)\n",
            "\u001b[2K     \u001b[90m━━━━━━━━━━━━━━━━━━━━━━━━━━━━━━━━━━━━━━━━\u001b[0m \u001b[32m2.0/2.0 MB\u001b[0m \u001b[31m69.8 MB/s\u001b[0m eta \u001b[36m0:00:00\u001b[0m\n",
            "\u001b[?25hRequirement already satisfied: numpy in /usr/local/lib/python3.8/dist-packages (from miceforest) (1.21.6)\n",
            "Requirement already satisfied: dill in /usr/local/lib/python3.8/dist-packages (from miceforest) (0.3.6)\n",
            "Requirement already satisfied: scipy in /usr/local/lib/python3.8/dist-packages (from lightgbm>=3.3.1->miceforest) (1.7.3)\n",
            "Requirement already satisfied: scikit-learn!=0.22.0 in /usr/local/lib/python3.8/dist-packages (from lightgbm>=3.3.1->miceforest) (1.0.2)\n",
            "Requirement already satisfied: wheel in /usr/local/lib/python3.8/dist-packages (from lightgbm>=3.3.1->miceforest) (0.38.4)\n",
            "Requirement already satisfied: threadpoolctl>=2.0.0 in /usr/local/lib/python3.8/dist-packages (from scikit-learn!=0.22.0->lightgbm>=3.3.1->miceforest) (3.1.0)\n",
            "Requirement already satisfied: joblib>=0.11 in /usr/local/lib/python3.8/dist-packages (from scikit-learn!=0.22.0->lightgbm>=3.3.1->miceforest) (1.2.0)\n",
            "Installing collected packages: blosc, lightgbm, miceforest\n",
            "  Attempting uninstall: lightgbm\n",
            "    Found existing installation: lightgbm 2.2.3\n",
            "    Uninstalling lightgbm-2.2.3:\n",
            "      Successfully uninstalled lightgbm-2.2.3\n",
            "Successfully installed blosc-1.11.1 lightgbm-3.3.5 miceforest-5.6.3\n"
          ]
        }
      ]
    },
    {
      "cell_type": "code",
      "execution_count": 2,
      "metadata": {
        "id": "wL1dcGjcYVlE"
      },
      "outputs": [],
      "source": [
        "import miceforest as mf\n",
        "from sklearn.datasets import load_iris\n",
        "import pandas as pd\n",
        "\n",
        "# Load and format data\n",
        "iris = pd.concat(load_iris(as_frame=True,return_X_y=True),axis=1)\n",
        "iris.rename(columns = {'target':'species'}, inplace = True)\n",
        "iris['species'] = iris['species'].astype('category')\n",
        "\n",
        "# Introduce missing values\n",
        "iris_amp = mf.ampute_data(iris,perc=0.25,random_state=1991)"
      ]
    },
    {
      "cell_type": "code",
      "source": [
        "# Create kernels. \n",
        "kernel = mf.ImputationKernel(\n",
        "  data=iris_amp,\n",
        "  save_all_iterations=True,\n",
        "  random_state=1991\n",
        ")\n",
        "\n",
        "# Run the MICE algorithm for 3 iterations on each of the datasets\n",
        "kernel.mice(3,verbose=True)"
      ],
      "metadata": {
        "colab": {
          "base_uri": "https://localhost:8080/"
        },
        "id": "cT5Xq2BPYclX",
        "outputId": "248271ab-cda8-4ba3-e712-b169777928a7"
      },
      "execution_count": 3,
      "outputs": [
        {
          "output_type": "stream",
          "name": "stdout",
          "text": [
            "Initialized logger with name mice 1-3\n",
            "Dataset 0\n",
            "1  | sepal length (cm) | sepal width (cm) | petal length (cm) | petal width (cm) | species\n",
            "2  | sepal length (cm) | sepal width (cm) | petal length (cm) | petal width (cm) | species\n",
            "3  | sepal length (cm) | sepal width (cm) | petal length (cm) | petal width (cm) | species\n"
          ]
        }
      ]
    },
    {
      "cell_type": "code",
      "source": [
        "kernel.plot_correlations(wspace=0.4,hspace=0.5)"
      ],
      "metadata": {
        "colab": {
          "base_uri": "https://localhost:8080/",
          "height": 283
        },
        "id": "sLuCsxIIYfMe",
        "outputId": "3e27e677-b7e1-4a6e-fb1e-fe732934973c"
      },
      "execution_count": 4,
      "outputs": [
        {
          "output_type": "error",
          "ename": "ValueError",
          "evalue": "ignored",
          "traceback": [
            "\u001b[0;31m---------------------------------------------------------------------------\u001b[0m",
            "\u001b[0;31mValueError\u001b[0m                                Traceback (most recent call last)",
            "\u001b[0;32m<ipython-input-4-225b6a6ff32c>\u001b[0m in \u001b[0;36m<module>\u001b[0;34m\u001b[0m\n\u001b[0;32m----> 1\u001b[0;31m \u001b[0mkernel\u001b[0m\u001b[0;34m.\u001b[0m\u001b[0mplot_correlations\u001b[0m\u001b[0;34m(\u001b[0m\u001b[0mwspace\u001b[0m\u001b[0;34m=\u001b[0m\u001b[0;36m0.4\u001b[0m\u001b[0;34m,\u001b[0m\u001b[0mhspace\u001b[0m\u001b[0;34m=\u001b[0m\u001b[0;36m0.5\u001b[0m\u001b[0;34m)\u001b[0m\u001b[0;34m\u001b[0m\u001b[0;34m\u001b[0m\u001b[0m\n\u001b[0m",
            "\u001b[0;32m/usr/local/lib/python3.8/dist-packages/miceforest/ImputedData.py\u001b[0m in \u001b[0;36mplot_correlations\u001b[0;34m(self, datasets, variables, **adj_args)\u001b[0m\n\u001b[1;32m    698\u001b[0m \u001b[0;34m\u001b[0m\u001b[0m\n\u001b[1;32m    699\u001b[0m         \u001b[0;32mif\u001b[0m \u001b[0mself\u001b[0m\u001b[0;34m.\u001b[0m\u001b[0mdataset_count\u001b[0m\u001b[0;34m(\u001b[0m\u001b[0;34m)\u001b[0m \u001b[0;34m<\u001b[0m \u001b[0;36m4\u001b[0m\u001b[0;34m:\u001b[0m\u001b[0;34m\u001b[0m\u001b[0;34m\u001b[0m\u001b[0m\n\u001b[0;32m--> 700\u001b[0;31m             \u001b[0;32mraise\u001b[0m \u001b[0mValueError\u001b[0m\u001b[0;34m(\u001b[0m\u001b[0;34m\"Not enough datasets to make box plot\"\u001b[0m\u001b[0;34m)\u001b[0m\u001b[0;34m\u001b[0m\u001b[0;34m\u001b[0m\u001b[0m\n\u001b[0m\u001b[1;32m    701\u001b[0m         \u001b[0;32mif\u001b[0m \u001b[0mdatasets\u001b[0m \u001b[0;32mis\u001b[0m \u001b[0;32mNone\u001b[0m\u001b[0;34m:\u001b[0m\u001b[0;34m\u001b[0m\u001b[0;34m\u001b[0m\u001b[0m\n\u001b[1;32m    702\u001b[0m             \u001b[0mdatasets\u001b[0m \u001b[0;34m=\u001b[0m \u001b[0mlist\u001b[0m\u001b[0;34m(\u001b[0m\u001b[0mrange\u001b[0m\u001b[0;34m(\u001b[0m\u001b[0mself\u001b[0m\u001b[0;34m.\u001b[0m\u001b[0mdataset_count\u001b[0m\u001b[0;34m(\u001b[0m\u001b[0;34m)\u001b[0m\u001b[0;34m)\u001b[0m\u001b[0;34m)\u001b[0m\u001b[0;34m\u001b[0m\u001b[0;34m\u001b[0m\u001b[0m\n",
            "\u001b[0;31mValueError\u001b[0m: Not enough datasets to make box plot"
          ]
        }
      ]
    },
    {
      "cell_type": "code",
      "source": [
        "# Our new dataset\n",
        "new_data = iris_amp.iloc[range(50)]\n",
        "# Make a multiple imputed dataset with our new data\n",
        "new_data_imputed = kernel.impute_new_data(new_data)\n",
        "# Return a completed dataset\n",
        "new_completed_data = new_data_imputed.complete_data(0)"
      ],
      "metadata": {
        "id": "xa6d2rpYYgRW"
      },
      "execution_count": 5,
      "outputs": []
    },
    {
      "cell_type": "code",
      "source": [
        "new_data_imputed.plot_imputed_distributions(wspace=0.35,hspace=0.4)"
      ],
      "metadata": {
        "colab": {
          "base_uri": "https://localhost:8080/",
          "height": 281
        },
        "id": "PHra_YnjYh_O",
        "outputId": "fb6c1c5a-d7ae-49aa-b260-f8823b907053"
      },
      "execution_count": 6,
      "outputs": [
        {
          "output_type": "display_data",
          "data": {
            "text/plain": [
              "<Figure size 432x288 with 4 Axes>"
            ],
            "image/png": "[encoded data removed]"
          },
          "metadata": {
            "needs_background": "light"
          }
        }
      ]
    },
    {
      "cell_type": "code",
      "source": [
        "from sklearn.linear_model import LinearRegression\n",
        "# For each imputed dataset, train a linear regression\n",
        "# on 'sepal length (cm)'\n",
        "intercepts = []\n",
        "target = 'sepal length (cm)'\n",
        "for d in range(kernel.dataset_count()):\n",
        "    comp_dat = kernel.complete_data(d)\n",
        "    comp_dat = pd.get_dummies(comp_dat)\n",
        "    X, y = comp_dat.drop(target,1), comp_dat[target]\n",
        "    model = LinearRegression()\n",
        "    model.fit(X,y)\n",
        "    intercepts.append(model.intercept_)\n",
        "# Load packages for plotting\n",
        "import numpy as np\n",
        "import matplotlib.pyplot as plt\n",
        "from scipy.stats import norm\n",
        "\n",
        "# Make plot.\n",
        "avg_intercept = round(np.mean(intercepts),2)\n",
        "var_intercept = round(np.var(intercepts),4)\n",
        "x_axis = np.arange(\n",
        "    avg_intercept - 3 * var_intercept,\n",
        "    avg_intercept + 3 * var_intercept,\n",
        "    0.0001\n",
        ")\n",
        "plt.plot(\n",
        "    x_axis,\n",
        "    norm.pdf(x_axis,avg_intercept,var_intercept)\n",
        ")\n",
        "plt.title(f\"\"\"\n",
        "    Assumed Distribution of Intercept Term\n",
        "    n=5, mean = {avg_intercept}, variance = {var_intercept}\n",
        "    \"\"\"\n",
        ")"
      ],
      "metadata": {
        "colab": {
          "base_uri": "https://localhost:8080/",
          "height": 397
        },
        "id": "Ttj3qhGtYmGx",
        "outputId": "b54edc8d-7e5c-43a5-bf00-8b3517b52cab"
      },
      "execution_count": 7,
      "outputs": [
        {
          "output_type": "stream",
          "name": "stderr",
          "text": [
            "<ipython-input-7-86738aea9434>:9: FutureWarning: In a future version of pandas all arguments of DataFrame.drop except for the argument 'labels' will be keyword-only\n",
            "  X, y = comp_dat.drop(target,1), comp_dat[target]\n"
          ]
        },
        {
          "output_type": "execute_result",
          "data": {
            "text/plain": [
              "Text(0.5, 1.0, '\\n    Assumed Distribution of Intercept Term\\n    n=5, mean = 1.39, variance = 0.0\\n    ')"
            ]
          },
          "metadata": {},
          "execution_count": 7
        },
        {
          "output_type": "display_data",
          "data": {
            "text/plain": [
              "<Figure size 432x288 with 1 Axes>"
            ],
            "image/png": "[encoded data removed]"
          },
          "metadata": {
            "needs_background": "light"
          }
        }
      ]
    }
  ]
}