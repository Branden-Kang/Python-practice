{
  "nbformat": 4,
  "nbformat_minor": 0,
  "metadata": {
    "colab": {
      "provenance": [],
      "authorship_tag": "ABX9TyOG+AcvZE36R5nDg9TLqcbF"
    },
    "kernelspec": {
      "name": "python3",
      "display_name": "Python 3"
    },
    "language_info": {
      "name": "python"
    }
  },
  "cells": [
    {
      "cell_type": "markdown",
      "source": [
        "[Reference](https://geekpython.medium.com/10-useful-yet-rarely-used-os-functions-in-python-3c44d4723290)"
      ],
      "metadata": {
        "id": "wpw7lMDUUZXM"
      }
    },
    {
      "cell_type": "markdown",
      "source": [
        "# 1. os.path.commonpath()"
      ],
      "metadata": {
        "id": "zp172_X5UbpV"
      }
    },
    {
      "cell_type": "code",
      "execution_count": 1,
      "metadata": {
        "colab": {
          "base_uri": "https://localhost:8080/"
        },
        "id": "Ym1Gd_I-Ti8b",
        "outputId": "dcd648d5-72bf-4ef0-8e1b-af0517bf71fb"
      },
      "outputs": [
        {
          "output_type": "stream",
          "name": "stdout",
          "text": [
            "Common Path: /user/data\n"
          ]
        }
      ],
      "source": [
        "import os\n",
        "\n",
        "paths = ['/user/data/project1/file1.txt', '/user/data/project2/file2.txt']\n",
        "common_path = os.path.commonpath(paths)\n",
        "print(\"Common Path:\", common_path)"
      ]
    },
    {
      "cell_type": "code",
      "source": [
        "import os\n",
        "\n",
        "def get_file_paths(directory, file_extension=None):\n",
        "    # Collect all file paths in the directory (and subdirectories, if any)\n",
        "    file_paths = []\n",
        "    for root, dirs, files in os.walk(directory):\n",
        "        for file in files:\n",
        "            if file_extension is None or file.endswith(file_extension):\n",
        "                file_paths.append(os.path.join(root, file))\n",
        "    return file_paths\n",
        "\n",
        "\n",
        "# Specify the root directory to start from\n",
        "directory_path = 'D:/SACHIN/Pycharm/Flask-Tutorial'\n",
        "\n",
        "# If you want to filter by file extension\n",
        "file_paths = get_file_paths(directory_path, file_extension='.html')\n",
        "\n",
        "# Find the common path among all files\n",
        "if file_paths:\n",
        "    common_path = os.path.commonpath(file_paths)\n",
        "    print(\"Common Path:\", common_path)\n",
        "else:\n",
        "    print(\"No files found in the specified directory.\")"
      ],
      "metadata": {
        "colab": {
          "base_uri": "https://localhost:8080/"
        },
        "id": "5foRdOaUUdA-",
        "outputId": "ee57ba74-34e5-42f8-8b68-24cabc3f1407"
      },
      "execution_count": 2,
      "outputs": [
        {
          "output_type": "stream",
          "name": "stdout",
          "text": [
            "No files found in the specified directory.\n"
          ]
        }
      ]
    },
    {
      "cell_type": "markdown",
      "source": [
        "# 2. os.scandir()"
      ],
      "metadata": {
        "id": "-U06IeVkUf9T"
      }
    },
    {
      "cell_type": "code",
      "source": [
        "import os\n",
        "\n",
        "with os.scandir('D:/Branden/Pycharm/osfunctions') as entries:\n",
        "    for entry in entries:\n",
        "        print(f\"{entry.name} : \\n\"\n",
        "              f\">>>> Is File: {entry.is_file()} \\n\"\n",
        "              f\">>>> Is Directory: {entry.is_dir()}\")"
      ],
      "metadata": {
        "id": "61AkkhHAUekG"
      },
      "execution_count": 4,
      "outputs": []
    },
    {
      "cell_type": "markdown",
      "source": [
        "# 3. os.path.splitext()"
      ],
      "metadata": {
        "id": "pGdP1uc3UkH-"
      }
    },
    {
      "cell_type": "code",
      "source": [
        "import os\n",
        "\n",
        "filename = 'report.csv'\n",
        "root, ext = os.path.splitext(filename)\n",
        "print(f\"Root: {root} \\n\"\n",
        "      f\"Extension: {ext}\")"
      ],
      "metadata": {
        "colab": {
          "base_uri": "https://localhost:8080/"
        },
        "id": "zlB-JhijUjKZ",
        "outputId": "43a117f2-c578-40fb-8985-2573a54d785c"
      },
      "execution_count": 5,
      "outputs": [
        {
          "output_type": "stream",
          "name": "stdout",
          "text": [
            "Root: report \n",
            "Extension: .csv\n"
          ]
        }
      ]
    },
    {
      "cell_type": "code",
      "source": [
        "import os\n",
        "\n",
        "filename = ['.report', 'report', 'report.case.txt', 'report.csv.zip']\n",
        "for idx, paths in enumerate(filename):\n",
        "    root, ext = os.path.splitext(paths)\n",
        "    print(f\"{idx} - {paths}\\n\"\n",
        "          f\"Root: {root} | Extension: {ext}\")"
      ],
      "metadata": {
        "colab": {
          "base_uri": "https://localhost:8080/"
        },
        "id": "D-7WN8QdUpED",
        "outputId": "10f493a1-401f-4de9-c8d4-f1c027126aed"
      },
      "execution_count": 6,
      "outputs": [
        {
          "output_type": "stream",
          "name": "stdout",
          "text": [
            "0 - .report\n",
            "Root: .report | Extension: \n",
            "1 - report\n",
            "Root: report | Extension: \n",
            "2 - report.case.txt\n",
            "Root: report.case | Extension: .txt\n",
            "3 - report.csv.zip\n",
            "Root: report.csv | Extension: .zip\n"
          ]
        }
      ]
    },
    {
      "cell_type": "markdown",
      "source": [
        "# 4. os.makedirs()"
      ],
      "metadata": {
        "id": "_AVFTw6BUtEh"
      }
    },
    {
      "cell_type": "code",
      "source": [
        "import os\n",
        "\n",
        "os.makedirs('project/data/files', exist_ok=True)\n",
        "print(\"Nested directories created!\")"
      ],
      "metadata": {
        "colab": {
          "base_uri": "https://localhost:8080/"
        },
        "id": "GF4EomDTUrMQ",
        "outputId": "91b6e8d0-3de2-4e8c-8c29-8a6bcdf4ba6c"
      },
      "execution_count": 7,
      "outputs": [
        {
          "output_type": "stream",
          "name": "stdout",
          "text": [
            "Nested directories created!\n"
          ]
        }
      ]
    },
    {
      "cell_type": "markdown",
      "source": [
        "# 5. os.replace()"
      ],
      "metadata": {
        "id": "mRSlE43FUwKp"
      }
    },
    {
      "cell_type": "code",
      "source": [
        "import os\n",
        "\n",
        "os.replace(src='main.py', dst='new_main.py')\n",
        "print(\"File replaced successfully!\")"
      ],
      "metadata": {
        "id": "x-cR2im-UupX"
      },
      "execution_count": 10,
      "outputs": []
    },
    {
      "cell_type": "markdown",
      "source": [
        "# 6. os.urandom()"
      ],
      "metadata": {
        "id": "J7T5dfORU4P1"
      }
    },
    {
      "cell_type": "code",
      "source": [
        "import os\n",
        "\n",
        "secure_token = os.urandom(16)  # 16 bytes of random data\n",
        "print(\"Secure Token:\", secure_token)\n",
        "#Making it human-readable\n",
        "print(\"Secure Token:\", secure_token.hex())"
      ],
      "metadata": {
        "colab": {
          "base_uri": "https://localhost:8080/"
        },
        "id": "z_26bQ6pUx59",
        "outputId": "cb008546-b983-4966-f885-204fdcf9db71"
      },
      "execution_count": 11,
      "outputs": [
        {
          "output_type": "stream",
          "name": "stdout",
          "text": [
            "Secure Token: b'\\x8c$\\xb7\\x9c\\xeb\\xe8(g\\xf5\\x1b\\x14\\x7fi\\xf5St'\n",
            "Secure Token: 8c24b79cebe82867f51b147f69f55374\n"
          ]
        }
      ]
    },
    {
      "cell_type": "markdown",
      "source": [
        "# 7. os.path.samefile()"
      ],
      "metadata": {
        "id": "PzSzqI4SU7_R"
      }
    },
    {
      "cell_type": "code",
      "source": [
        "import os\n",
        "\n",
        "is_same = os.path.samefile('/path/to/file1.txt', '/different/path/to/symlink_file1.txt')\n",
        "print(\"Are they the same file?\", is_same)"
      ],
      "metadata": {
        "id": "GjO5NngyU6vr"
      },
      "execution_count": 13,
      "outputs": []
    },
    {
      "cell_type": "markdown",
      "source": [
        "# 8. os.path.relpath()"
      ],
      "metadata": {
        "id": "h5OiQD4bVA3P"
      }
    },
    {
      "cell_type": "code",
      "source": [
        "import os\n",
        "\n",
        "# Target file path\n",
        "target_path = \"D:/Branden/Pycharm/osfunctions/project/engine/log.py\"\n",
        "# Starting point\n",
        "start_path = \"D:/Branden/Pycharm/osfunctions/project/interface/character/specific.py\"\n",
        "\n",
        "relative_path = os.path.relpath(target_path, start=start_path)\n",
        "print(relative_path)"
      ],
      "metadata": {
        "colab": {
          "base_uri": "https://localhost:8080/"
        },
        "id": "7re7wH7aU9ux",
        "outputId": "e105d85c-f51d-4273-a0fa-a714633d06af"
      },
      "execution_count": 14,
      "outputs": [
        {
          "output_type": "stream",
          "name": "stdout",
          "text": [
            "../../../engine/log.py\n"
          ]
        }
      ]
    },
    {
      "cell_type": "markdown",
      "source": [
        "# 9. os.fsync()"
      ],
      "metadata": {
        "id": "E6MNuxylVJI8"
      }
    },
    {
      "cell_type": "code",
      "source": [
        "import os\n",
        "\n",
        "with open('data.txt', 'w') as f:\n",
        "    f.write(\"Hello World!\")\n",
        "    os.fsync(f.fileno())  # Ensures data is written to disk"
      ],
      "metadata": {
        "id": "KdgbOAxdVGUL"
      },
      "execution_count": 15,
      "outputs": []
    },
    {
      "cell_type": "markdown",
      "source": [
        "# 10. os.get_terminal_size()"
      ],
      "metadata": {
        "id": "p2lowOZcVPDo"
      }
    },
    {
      "cell_type": "code",
      "source": [
        "import os\n",
        "\n",
        "size = os.get_terminal_size()\n",
        "print(f\"Terminal Width: {size.columns}, Terminal Height: {size.lines}\")"
      ],
      "metadata": {
        "id": "22WY1IGaVM6m"
      },
      "execution_count": 17,
      "outputs": []
    }
  ]
}