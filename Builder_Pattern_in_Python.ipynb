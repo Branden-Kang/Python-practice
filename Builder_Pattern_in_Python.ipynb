{
  "nbformat": 4,
  "nbformat_minor": 0,
  "metadata": {
    "colab": {
      "provenance": [],
      "authorship_tag": "ABX9TyP5CZz5Uo8oSxGpNXvwSV7/"
    },
    "kernelspec": {
      "name": "python3",
      "display_name": "Python 3"
    },
    "language_info": {
      "name": "python"
    }
  },
  "cells": [
    {
      "cell_type": "markdown",
      "source": [
        "[Reference](https://towardsdev.com/builder-pattern-in-python-0f772e6e5ff0)"
      ],
      "metadata": {
        "id": "jRc8Z8BFbxmB"
      }
    },
    {
      "cell_type": "code",
      "execution_count": 1,
      "metadata": {
        "id": "Z4I0g4x-XYy1"
      },
      "outputs": [],
      "source": [
        "class Computer:\n",
        "\n",
        "    def __init__(self):\n",
        "        self.components = []\n",
        "\n",
        "    def add_component(self, component):\n",
        "        self.components.append(component)\n",
        "\n",
        "    def __str__(self):\n",
        "        return ', '.join(self.components)"
      ]
    },
    {
      "cell_type": "code",
      "source": [
        "from abc import ABC, abstractmethod\n",
        "\n",
        "class ComputerBuilder(ABC):\n",
        "\n",
        "    @abstractmethod\n",
        "    def add_processor(self):\n",
        "        pass\n",
        "\n",
        "    @abstractmethod\n",
        "    def add_memory(self):\n",
        "        pass\n",
        "\n",
        "    @abstractmethod\n",
        "    def add_storage(self):\n",
        "        pass\n",
        "\n",
        "    @abstractmethod\n",
        "    def get_computer(self):\n",
        "        pass"
      ],
      "metadata": {
        "id": "0mv-dBH6b3B5"
      },
      "execution_count": 2,
      "outputs": []
    },
    {
      "cell_type": "code",
      "source": [
        "class GamingComputerBuilder(ComputerBuilder):\n",
        "    def __init__(self):\n",
        "        self.computer = Computer()\n",
        "\n",
        "    def add_processor(self):\n",
        "        self.computer.add_component(\"High-end Processor\")\n",
        "\n",
        "    def add_memory(self):\n",
        "        self.computer.add_component(\"16GB RAM\")\n",
        "\n",
        "    def add_storage(self):\n",
        "        self.computer.add_component(\"1TB SSD\")\n",
        "\n",
        "    def get_computer(self):\n",
        "        return self.computer"
      ],
      "metadata": {
        "id": "V6WQDK0Nb4We"
      },
      "execution_count": 3,
      "outputs": []
    },
    {
      "cell_type": "code",
      "source": [
        "class ComputerDirector:\n",
        "    def __init__(self, builder):\n",
        "        self.builder = builder\n",
        "\n",
        "    def construct_computer(self):\n",
        "        self.builder.add_processor()\n",
        "        self.builder.add_memory()\n",
        "        self.builder.add_storage()\n",
        "\n",
        "    def get_computer(self):\n",
        "        return self.builder.get_computer()"
      ],
      "metadata": {
        "id": "LDOOCmwxb5uA"
      },
      "execution_count": 4,
      "outputs": []
    },
    {
      "cell_type": "code",
      "source": [
        "gaming_builder = GamingComputerBuilder()\n",
        "director = ComputerDirector(gaming_builder)\n",
        "\n",
        "director.construct_computer()\n",
        "\n",
        "gaming_computer = director.get_computer()\n",
        "print(f\"Gaming Computer: {gaming_computer}\")"
      ],
      "metadata": {
        "colab": {
          "base_uri": "https://localhost:8080/"
        },
        "id": "RrEx8gZLcIcz",
        "outputId": "d4f046a9-5a5d-4e5a-deb3-d4ec5f6ee9f3"
      },
      "execution_count": 5,
      "outputs": [
        {
          "output_type": "stream",
          "name": "stdout",
          "text": [
            "Gaming Computer: High-end Processor, 16GB RAM, 1TB SSD\n"
          ]
        }
      ]
    },
    {
      "cell_type": "code",
      "source": [
        "# Product\n",
        "class Pizza:\n",
        "    def __init__(self):\n",
        "        self.toppings = []\n",
        "\n",
        "    def add_topping(self, topping):\n",
        "        self.toppings.append(topping)\n",
        "\n",
        "    def __str__(self):\n",
        "        return f\"Pizza with {' and '.join(self.toppings)}\"\n",
        "\n",
        "# Builder Interface\n",
        "class PizzaBuilder:\n",
        "\n",
        "    def add_cheese(self):\n",
        "        pass\n",
        "\n",
        "    def add_pepperoni(self):\n",
        "        pass\n",
        "\n",
        "    def add_mushrooms(self):\n",
        "        pass\n",
        "\n",
        "    def get_pizza(self):\n",
        "        pass\n",
        "\n",
        "# Concrete Builder\n",
        "class MargheritaPizzaBuilder(PizzaBuilder):\n",
        "\n",
        "    def __init__(self):\n",
        "        self.pizza = Pizza()\n",
        "\n",
        "    def add_cheese(self):\n",
        "        self.pizza.add_topping(\"cheese\")\n",
        "\n",
        "    def add_pepperoni(self):\n",
        "        pass  # Margherita doesn't have pepperoni\n",
        "\n",
        "    def add_mushrooms(self):\n",
        "        pass  # Margherita doesn't have mushrooms\n",
        "\n",
        "    def get_pizza(self):\n",
        "        return self.pizza\n",
        "\n",
        "# Director\n",
        "class PizzaChef:\n",
        "\n",
        "    def __init__(self, builder):\n",
        "        self.builder = builder\n",
        "\n",
        "    def make_pizza(self):\n",
        "        self.builder.add_cheese()\n",
        "        self.builder.add_pepperoni()\n",
        "        self.builder.add_mushrooms()\n",
        "\n",
        "    def get_pizza(self):\n",
        "        return self.builder.get_pizza()\n",
        "\n",
        "# Client code\n",
        "builder = MargheritaPizzaBuilder()\n",
        "chef = PizzaChef(builder)\n",
        "chef.make_pizza()\n",
        "pizza = chef.get_pizza()\n",
        "print(pizza)"
      ],
      "metadata": {
        "colab": {
          "base_uri": "https://localhost:8080/"
        },
        "id": "bETjzwdycRAo",
        "outputId": "036adcb1-8187-40f7-cb23-b1fda7b36ba2"
      },
      "execution_count": 6,
      "outputs": [
        {
          "output_type": "stream",
          "name": "stdout",
          "text": [
            "Pizza with cheese\n"
          ]
        }
      ]
    },
    {
      "cell_type": "code",
      "source": [
        "# Product\n",
        "class Report:\n",
        "    def __init__(self):\n",
        "        self.sections = []\n",
        "\n",
        "    def add_section(self, section):\n",
        "        self.sections.append(section)\n",
        "\n",
        "    def display(self):\n",
        "        for section in self.sections:\n",
        "            print(section)\n",
        "\n",
        "# Builder Interface\n",
        "class ReportBuilder:\n",
        "\n",
        "    def add_title(self, title):\n",
        "        pass\n",
        "\n",
        "    def add_intro(self, intro):\n",
        "        pass\n",
        "\n",
        "    def add_body(self, body):\n",
        "        pass\n",
        "\n",
        "    def add_conclusion(self, conclusion):\n",
        "        pass\n",
        "\n",
        "    def get_report(self):\n",
        "        pass\n",
        "\n",
        "# Concrete Builder\n",
        "class FinancialReportBuilder(ReportBuilder):\n",
        "\n",
        "    def __init__(self):\n",
        "        self.report = Report()\n",
        "\n",
        "    def add_title(self, title):\n",
        "        self.report.add_section(f\"Title: {title}\")\n",
        "\n",
        "    def add_intro(self, intro):\n",
        "        self.report.add_section(f\"Introduction: {intro}\")\n",
        "\n",
        "    def add_body(self, body):\n",
        "        self.report.add_section(f\"Body: {body}\")\n",
        "\n",
        "    def add_conclusion(self, conclusion):\n",
        "        self.report.add_section(f\"Conclusion: {conclusion}\")\n",
        "\n",
        "    def get_report(self):\n",
        "        return self.report\n",
        "\n",
        "# Director\n",
        "class ReportDirector:\n",
        "\n",
        "    def __init__(self, builder):\n",
        "        self.builder = builder\n",
        "\n",
        "    def construct_report(self, title, intro, body, conclusion):\n",
        "        self.builder.add_title(title)\n",
        "        self.builder.add_intro(intro)\n",
        "        self.builder.add_body(body)\n",
        "        self.builder.add_conclusion(conclusion)\n",
        "\n",
        "    def get_report(self):\n",
        "        return self.builder.get_report()\n",
        "\n",
        "# Client code\n",
        "builder = FinancialReportBuilder()\n",
        "director = ReportDirector(builder)\n",
        "director.construct_report(\"Annual Report 2024\", \"This is the intro\", \"This is the body\", \"This is the conclusion\")\n",
        "report = director.get_report()\n",
        "report.display()"
      ],
      "metadata": {
        "colab": {
          "base_uri": "https://localhost:8080/"
        },
        "id": "o3-ZGS9BcTuU",
        "outputId": "5defdd0c-a2a0-4e2b-c9dd-3883d089ea76"
      },
      "execution_count": 7,
      "outputs": [
        {
          "output_type": "stream",
          "name": "stdout",
          "text": [
            "Title: Annual Report 2024\n",
            "Introduction: This is the intro\n",
            "Body: This is the body\n",
            "Conclusion: This is the conclusion\n"
          ]
        }
      ]
    }
  ]
}