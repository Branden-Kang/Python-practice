{
  "nbformat": 4,
  "nbformat_minor": 0,
  "metadata": {
    "colab": {
      "name": "descriptors in Python.ipynb",
      "provenance": [],
      "authorship_tag": "ABX9TyM3qv11MyxLpOMEA8TqHTdc"
    },
    "kernelspec": {
      "name": "python3",
      "display_name": "Python 3"
    },
    "language_info": {
      "name": "python"
    }
  },
  "cells": [
    {
      "cell_type": "code",
      "execution_count": 1,
      "metadata": {
        "id": "3NJig_7XtWGv"
      },
      "outputs": [],
      "source": [
        "class Car:\n",
        "    def __init__(self):\n",
        "        self.fuel_amount = 0\n",
        "\n",
        "    @property\n",
        "    def fuel_amount(self):\n",
        "        return self._fuel_amount\n",
        "\n",
        "    @fuel_amount.setter\n",
        "    def fuel_amount(self, amount):\n",
        "        if amount < 0:\n",
        "            raise ValueError(\"Tank can't be less than empty!\")\n",
        "\n",
        "        if amount > 60:\n",
        "            raise ValueError(\"Tank can't take more than 60 l!\")\n",
        "\n",
        "        self._fuel_amount = amount"
      ]
    },
    {
      "cell_type": "code",
      "source": [
        "car = Car()\n",
        "car.fuel_amount = 50\n",
        "car.fuel_amount"
      ],
      "metadata": {
        "colab": {
          "base_uri": "https://localhost:8080/"
        },
        "id": "J7nv5grzuH5K",
        "outputId": "e88ce683-d279-4516-83c2-3b4d0d0e28f6"
      },
      "execution_count": 2,
      "outputs": [
        {
          "output_type": "execute_result",
          "data": {
            "text/plain": [
              "50"
            ]
          },
          "metadata": {},
          "execution_count": 2
        }
      ]
    },
    {
      "cell_type": "code",
      "source": [
        "car.fuel_amount = 70"
      ],
      "metadata": {
        "colab": {
          "base_uri": "https://localhost:8080/",
          "height": 317
        },
        "id": "SZiNF_zfuJl_",
        "outputId": "97976329-2a2a-4fd6-c279-a0422406a04a"
      },
      "execution_count": 3,
      "outputs": [
        {
          "output_type": "error",
          "ename": "ValueError",
          "evalue": "ignored",
          "traceback": [
            "\u001b[0;31m---------------------------------------------------------------------------\u001b[0m",
            "\u001b[0;31mValueError\u001b[0m                                Traceback (most recent call last)",
            "\u001b[0;32m<ipython-input-3-3e750ea19bb0>\u001b[0m in \u001b[0;36m<module>\u001b[0;34m()\u001b[0m\n\u001b[0;32m----> 1\u001b[0;31m \u001b[0mcar\u001b[0m\u001b[0;34m.\u001b[0m\u001b[0mfuel_amount\u001b[0m \u001b[0;34m=\u001b[0m \u001b[0;36m70\u001b[0m\u001b[0;34m\u001b[0m\u001b[0;34m\u001b[0m\u001b[0m\n\u001b[0m",
            "\u001b[0;32m<ipython-input-1-72c907980003>\u001b[0m in \u001b[0;36mfuel_amount\u001b[0;34m(self, amount)\u001b[0m\n\u001b[1;32m     13\u001b[0m \u001b[0;34m\u001b[0m\u001b[0m\n\u001b[1;32m     14\u001b[0m         \u001b[0;32mif\u001b[0m \u001b[0mamount\u001b[0m \u001b[0;34m>\u001b[0m \u001b[0;36m60\u001b[0m\u001b[0;34m:\u001b[0m\u001b[0;34m\u001b[0m\u001b[0;34m\u001b[0m\u001b[0m\n\u001b[0;32m---> 15\u001b[0;31m             \u001b[0;32mraise\u001b[0m \u001b[0mValueError\u001b[0m\u001b[0;34m(\u001b[0m\u001b[0;34m\"Tank can't take more than 60 l!\"\u001b[0m\u001b[0;34m)\u001b[0m\u001b[0;34m\u001b[0m\u001b[0;34m\u001b[0m\u001b[0m\n\u001b[0m\u001b[1;32m     16\u001b[0m \u001b[0;34m\u001b[0m\u001b[0m\n\u001b[1;32m     17\u001b[0m         \u001b[0mself\u001b[0m\u001b[0;34m.\u001b[0m\u001b[0m_fuel_amount\u001b[0m \u001b[0;34m=\u001b[0m \u001b[0mamount\u001b[0m\u001b[0;34m\u001b[0m\u001b[0;34m\u001b[0m\u001b[0m\n",
            "\u001b[0;31mValueError\u001b[0m: Tank can't take more than 60 l!"
          ]
        }
      ]
    },
    {
      "cell_type": "code",
      "source": [
        "car.fuel_amount = -10"
      ],
      "metadata": {
        "colab": {
          "base_uri": "https://localhost:8080/",
          "height": 317
        },
        "id": "5ZYEqurDuK5O",
        "outputId": "6e5cccd5-4110-493b-9e61-e0889fc3c946"
      },
      "execution_count": 4,
      "outputs": [
        {
          "output_type": "error",
          "ename": "ValueError",
          "evalue": "ignored",
          "traceback": [
            "\u001b[0;31m---------------------------------------------------------------------------\u001b[0m",
            "\u001b[0;31mValueError\u001b[0m                                Traceback (most recent call last)",
            "\u001b[0;32m<ipython-input-4-c87c0362d0cf>\u001b[0m in \u001b[0;36m<module>\u001b[0;34m()\u001b[0m\n\u001b[0;32m----> 1\u001b[0;31m \u001b[0mcar\u001b[0m\u001b[0;34m.\u001b[0m\u001b[0mfuel_amount\u001b[0m \u001b[0;34m=\u001b[0m \u001b[0;34m-\u001b[0m\u001b[0;36m10\u001b[0m\u001b[0;34m\u001b[0m\u001b[0;34m\u001b[0m\u001b[0m\n\u001b[0m",
            "\u001b[0;32m<ipython-input-1-72c907980003>\u001b[0m in \u001b[0;36mfuel_amount\u001b[0;34m(self, amount)\u001b[0m\n\u001b[1;32m     10\u001b[0m     \u001b[0;32mdef\u001b[0m \u001b[0mfuel_amount\u001b[0m\u001b[0;34m(\u001b[0m\u001b[0mself\u001b[0m\u001b[0;34m,\u001b[0m \u001b[0mamount\u001b[0m\u001b[0;34m)\u001b[0m\u001b[0;34m:\u001b[0m\u001b[0;34m\u001b[0m\u001b[0;34m\u001b[0m\u001b[0m\n\u001b[1;32m     11\u001b[0m         \u001b[0;32mif\u001b[0m \u001b[0mamount\u001b[0m \u001b[0;34m<\u001b[0m \u001b[0;36m0\u001b[0m\u001b[0;34m:\u001b[0m\u001b[0;34m\u001b[0m\u001b[0;34m\u001b[0m\u001b[0m\n\u001b[0;32m---> 12\u001b[0;31m             \u001b[0;32mraise\u001b[0m \u001b[0mValueError\u001b[0m\u001b[0;34m(\u001b[0m\u001b[0;34m\"Tank can't be less than empty!\"\u001b[0m\u001b[0;34m)\u001b[0m\u001b[0;34m\u001b[0m\u001b[0;34m\u001b[0m\u001b[0m\n\u001b[0m\u001b[1;32m     13\u001b[0m \u001b[0;34m\u001b[0m\u001b[0m\n\u001b[1;32m     14\u001b[0m         \u001b[0;32mif\u001b[0m \u001b[0mamount\u001b[0m \u001b[0;34m>\u001b[0m \u001b[0;36m60\u001b[0m\u001b[0;34m:\u001b[0m\u001b[0;34m\u001b[0m\u001b[0;34m\u001b[0m\u001b[0m\n",
            "\u001b[0;31mValueError\u001b[0m: Tank can't be less than empty!"
          ]
        }
      ]
    },
    {
      "cell_type": "code",
      "source": [
        "class SixtyLitresCapacity:\n",
        "    def __set__(self, car, amount):\n",
        "        if amount < 0:\n",
        "            raise ValueError(\"Tank can't be less than empty!\")\n",
        "\n",
        "        if amount > 60:\n",
        "            raise ValueError(\"Tank can't take more than 60 l!\")\n",
        "\n",
        "        car._fuel_amount = amount\n",
        "\n",
        "    def __get__(self, car, objtype=None):\n",
        "        return car._fuel_amount"
      ],
      "metadata": {
        "id": "emqSC72buiuo"
      },
      "execution_count": 6,
      "outputs": []
    },
    {
      "cell_type": "code",
      "source": [
        "class Car:\n",
        "\n",
        "    fuel_amount = SixtyLitresCapacity()\n",
        "\n",
        "    def __init__(self):\n",
        "        self.fuel_amount = 0"
      ],
      "metadata": {
        "id": "Z2LQZuJtuMKh"
      },
      "execution_count": 7,
      "outputs": []
    },
    {
      "cell_type": "code",
      "source": [
        "class IsBetween:\n",
        "    def __init__(self,\n",
        "                 min_value, \n",
        "                 max_value, \n",
        "                 below_exception=ValueError(),                        \n",
        "                 above_exception=ValueError()):\n",
        "        self.min_value = min_value\n",
        "        self.max_value = max_value\n",
        "\n",
        "        self.below_exception = below_exception\n",
        "        self.above_exception = above_exception\n",
        "\n",
        "    def __set_name__(self, owner, name):\n",
        "        self.private_name = '_' + name\n",
        "        self.public_name = name\n",
        "\n",
        "    def __set__(self, obj, value):\n",
        "        if value < self.min_value:\n",
        "            raise self.below_exception\n",
        "\n",
        "        if value > self.max_value:\n",
        "            raise self.above_exception\n",
        "\n",
        "        setattr(obj, self.private_name, value)\n",
        "\n",
        "    def __get__(self, obj, objtype=None):\n",
        "        return getattr(obj, self.private_name)"
      ],
      "metadata": {
        "id": "3KlB42MGugVI"
      },
      "execution_count": 8,
      "outputs": []
    },
    {
      "cell_type": "code",
      "source": [
        "class Car:\n",
        "\n",
        "    fuel_amount = IsBetween(0, 60, ValueError(), ValueError())\n",
        "\n",
        "    def __init__(self):\n",
        "        self.fuel_amount = 0"
      ],
      "metadata": {
        "id": "SHHGiuOnuo0G"
      },
      "execution_count": 9,
      "outputs": []
    }
  ]
}