{
  "nbformat": 4,
  "nbformat_minor": 0,
  "metadata": {
    "colab": {
      "name": "Understanding Classes and Methods in Python.ipynb",
      "provenance": [],
      "authorship_tag": "ABX9TyNcHBnuDakMLe76wa+pN1Qe"
    },
    "kernelspec": {
      "name": "python3",
      "display_name": "Python 3"
    }
  },
  "cells": [
    {
      "cell_type": "markdown",
      "metadata": {
        "id": "L1kG-r6ycU9C"
      },
      "source": [
        "[Reference](https://medium.com/analytics-vidhya/understanding-classes-and-methods-in-python-2a81a051226)"
      ]
    },
    {
      "cell_type": "code",
      "metadata": {
        "id": "aIKDgPabcTJX"
      },
      "source": [
        "import numpy as np\n",
        "\n",
        "class stat_calc:\n",
        "    def __init__(self, num_list):\n",
        "        self.num_list = num_list\n",
        "        self.list_mean = np.mean(self.num_list)\n",
        "        self.list_max = np.max(self.num_list)\n",
        "        self.list_min = np.min(self.num_list)\n",
        "\n",
        "    def standard_dev(self):\n",
        "        sum1 = 0\n",
        "        for i in range(len(self.num_list)):\n",
        "            sum1 = sum1 + (self.num_list[i] - self.list_mean)**2\n",
        "        stdev = (sum1/len(self.num_list))**(0.5)\n",
        "        return stdev\n",
        "\n",
        "our_special_class = stat_calc([43, 3, 9, 54, 23, 56, 675, 23])"
      ],
      "execution_count": 3,
      "outputs": []
    },
    {
      "cell_type": "code",
      "metadata": {
        "colab": {
          "base_uri": "https://localhost:8080/"
        },
        "id": "GFaThVTfdcER",
        "outputId": "ab4f107d-7601-46ef-ab2c-207d3fa2ae26"
      },
      "source": [
        "print(our_special_class.list_mean)"
      ],
      "execution_count": 4,
      "outputs": [
        {
          "output_type": "stream",
          "text": [
            "110.75\n"
          ],
          "name": "stdout"
        }
      ]
    },
    {
      "cell_type": "code",
      "metadata": {
        "colab": {
          "base_uri": "https://localhost:8080/"
        },
        "id": "M5LKNWCFde_4",
        "outputId": "df8fb406-ca17-4f16-e23e-0b4f24253e7f"
      },
      "source": [
        "print(our_special_class.list_max)"
      ],
      "execution_count": 5,
      "outputs": [
        {
          "output_type": "stream",
          "text": [
            "675\n"
          ],
          "name": "stdout"
        }
      ]
    },
    {
      "cell_type": "code",
      "metadata": {
        "colab": {
          "base_uri": "https://localhost:8080/"
        },
        "id": "ARxzoWZ9dlkH",
        "outputId": "5ee3995e-30ed-44c9-d9fc-f01b6f6438db"
      },
      "source": [
        "print(our_special_class.list_min)"
      ],
      "execution_count": 6,
      "outputs": [
        {
          "output_type": "stream",
          "text": [
            "3\n"
          ],
          "name": "stdout"
        }
      ]
    },
    {
      "cell_type": "code",
      "metadata": {
        "colab": {
          "base_uri": "https://localhost:8080/"
        },
        "id": "CU7L8ys5dmsD",
        "outputId": "65663755-afbb-4079-84ae-a5ea9b4a3c25"
      },
      "source": [
        "print(our_special_class.num_list)"
      ],
      "execution_count": 7,
      "outputs": [
        {
          "output_type": "stream",
          "text": [
            "[43, 3, 9, 54, 23, 56, 675, 23]\n"
          ],
          "name": "stdout"
        }
      ]
    },
    {
      "cell_type": "code",
      "metadata": {
        "colab": {
          "base_uri": "https://localhost:8080/"
        },
        "id": "2_zQ0hEjdomP",
        "outputId": "7915f158-2dab-4183-faf6-d501a546d25d"
      },
      "source": [
        "print(our_special_class.standard_dev())"
      ],
      "execution_count": 8,
      "outputs": [
        {
          "output_type": "stream",
          "text": [
            "214.0530016140862\n"
          ],
          "name": "stdout"
        }
      ]
    },
    {
      "cell_type": "code",
      "metadata": {
        "colab": {
          "base_uri": "https://localhost:8080/"
        },
        "id": "P1Xdq4bNdsSF",
        "outputId": "28f883ad-0eab-4f5e-f513-0f470995f09c"
      },
      "source": [
        "np.std([43, 3, 9, 54, 23, 56, 675, 23])"
      ],
      "execution_count": 9,
      "outputs": [
        {
          "output_type": "execute_result",
          "data": {
            "text/plain": [
              "214.0530016140862"
            ]
          },
          "metadata": {
            "tags": []
          },
          "execution_count": 9
        }
      ]
    },
    {
      "cell_type": "code",
      "metadata": {
        "id": "j9vSosu0duLv"
      },
      "source": [
        ""
      ],
      "execution_count": null,
      "outputs": []
    }
  ]
}