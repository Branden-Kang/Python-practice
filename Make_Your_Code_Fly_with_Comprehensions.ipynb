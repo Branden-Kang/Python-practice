{
  "nbformat": 4,
  "nbformat_minor": 0,
  "metadata": {
    "colab": {
      "name": "Make Your Code Fly with Comprehensions.ipynb",
      "provenance": [],
      "authorship_tag": "ABX9TyNgx3uA9gmSLh9/Ws4qWbff"
    },
    "kernelspec": {
      "name": "python3",
      "display_name": "Python 3"
    }
  },
  "cells": [
    {
      "cell_type": "markdown",
      "metadata": {
        "id": "t3F7mG2FDqMM"
      },
      "source": [
        "[Reference](https://medium.com/codex/python-make-your-code-fly-with-comprehensions-147873eea0ef)"
      ]
    },
    {
      "cell_type": "code",
      "metadata": {
        "colab": {
          "base_uri": "https://localhost:8080/"
        },
        "id": "TsWIY09mDgtP",
        "outputId": "2de7305a-a355-40e7-a6fd-9b5fa5464f03"
      },
      "source": [
        "numbers = [1, -2, 3, -4, 5]\n",
        "\n",
        "new_nums = []\n",
        "for num in numbers:\n",
        "    if num > 0:\n",
        "        new_nums.append(num)\n",
        "        \n",
        "print(new_nums) # prints [1, 3, 5]"
      ],
      "execution_count": 3,
      "outputs": [
        {
          "output_type": "stream",
          "text": [
            "[1, 3, 5]\n"
          ],
          "name": "stdout"
        }
      ]
    },
    {
      "cell_type": "code",
      "metadata": {
        "colab": {
          "base_uri": "https://localhost:8080/"
        },
        "id": "jerXUf9zDikC",
        "outputId": "cbd1923e-8b17-423b-8cc2-a0e19e4429e5"
      },
      "source": [
        "new_nums = [num for num in numbers if num > 0]\n",
        "print(new_nums) # prints [1, 3, 5]"
      ],
      "execution_count": 4,
      "outputs": [
        {
          "output_type": "stream",
          "text": [
            "[1, 3, 5]\n"
          ],
          "name": "stdout"
        }
      ]
    },
    {
      "cell_type": "code",
      "metadata": {
        "colab": {
          "base_uri": "https://localhost:8080/"
        },
        "id": "TfBHeTtYDunR",
        "outputId": "34adecdf-244b-4dcc-b904-ca82ecc57bd0"
      },
      "source": [
        "squares = [num * num for num in numbers] # [1, 4, 9, 16, 25]\n",
        "squares"
      ],
      "execution_count": 5,
      "outputs": [
        {
          "output_type": "execute_result",
          "data": {
            "text/plain": [
              "[1, 4, 9, 16, 25]"
            ]
          },
          "metadata": {
            "tags": []
          },
          "execution_count": 5
        }
      ]
    },
    {
      "cell_type": "code",
      "metadata": {
        "colab": {
          "base_uri": "https://localhost:8080/"
        },
        "id": "_OZsdP16DxW4",
        "outputId": "161c5ae1-8c43-4c88-a5b6-a2a3e215c321"
      },
      "source": [
        "nums = [1, 2, 3, 4, 5, 6, 7, 8]\n",
        "dict = {}\n",
        "\n",
        "for num in nums:\n",
        "    if num % 2 == 0:\n",
        "        dict[num] = str(num)\n",
        "    \n",
        "print(dict) # prints {2: '2', 4: '4', 6: '6', 8: '8'}"
      ],
      "execution_count": 6,
      "outputs": [
        {
          "output_type": "stream",
          "text": [
            "{2: '2', 4: '4', 6: '6', 8: '8'}\n"
          ],
          "name": "stdout"
        }
      ]
    },
    {
      "cell_type": "code",
      "metadata": {
        "colab": {
          "base_uri": "https://localhost:8080/"
        },
        "id": "GbVtLQY7DzHX",
        "outputId": "d5578afb-0b5f-4d2f-8643-02f51ac46455"
      },
      "source": [
        "dict = {num: str(num) for num in nums if num % 2 == 0}\n",
        "\n",
        "print(dict) # {2: '2', 4: '4', 6: '6', 8: '8'}"
      ],
      "execution_count": 7,
      "outputs": [
        {
          "output_type": "stream",
          "text": [
            "{2: '2', 4: '4', 6: '6', 8: '8'}\n"
          ],
          "name": "stdout"
        }
      ]
    },
    {
      "cell_type": "code",
      "metadata": {
        "id": "K0N3n5cHD0sc"
      },
      "source": [
        "dict = {'a': 1, 'b': 2, 'c': 3, 'd': 4, 'e': 5}"
      ],
      "execution_count": 8,
      "outputs": []
    },
    {
      "cell_type": "code",
      "metadata": {
        "colab": {
          "base_uri": "https://localhost:8080/"
        },
        "id": "Uwjlyi-LD2YW",
        "outputId": "3db2bc55-cb11-43a1-a6d9-cf0b65e25070"
      },
      "source": [
        "triple_dict = {k:v*3 for (k,v) in dict.items()}\n",
        "\n",
        "print(triple_dict) # {'a': 3, 'b': 6, 'c': 9, 'd': 12, 'e': 15}"
      ],
      "execution_count": 9,
      "outputs": [
        {
          "output_type": "stream",
          "text": [
            "{'a': 3, 'b': 6, 'c': 9, 'd': 12, 'e': 15}\n"
          ],
          "name": "stdout"
        }
      ]
    },
    {
      "cell_type": "code",
      "metadata": {
        "colab": {
          "base_uri": "https://localhost:8080/"
        },
        "id": "SmdbWIL6D4ll",
        "outputId": "65b97de5-cab7-4b89-f565-5b2ebec3f6be"
      },
      "source": [
        "numbers = [1, 2, 3, 4, 5, 6, 7, 8] \n",
        "  \n",
        "filtered_nums = set() \n",
        "  \n",
        "for num in numbers: \n",
        "    if num % 2 == 0: \n",
        "        filtered_nums.add(num) \n",
        "  \n",
        "print(filtered_nums) # {8, 2, 4, 6} (order doesnt matter with sets)"
      ],
      "execution_count": 10,
      "outputs": [
        {
          "output_type": "stream",
          "text": [
            "{8, 2, 4, 6}\n"
          ],
          "name": "stdout"
        }
      ]
    },
    {
      "cell_type": "code",
      "metadata": {
        "colab": {
          "base_uri": "https://localhost:8080/"
        },
        "id": "dW_ZHHAKD7IJ",
        "outputId": "fb9aa99d-d993-49a1-f620-93ab2fd949f0"
      },
      "source": [
        "filtered_nums = {num for num in numbers if num % 2 == 0}\n",
        "\n",
        "print(filtered_nums) # {8, 2, 4, 6}"
      ],
      "execution_count": 11,
      "outputs": [
        {
          "output_type": "stream",
          "text": [
            "{8, 2, 4, 6}\n"
          ],
          "name": "stdout"
        }
      ]
    },
    {
      "cell_type": "code",
      "metadata": {
        "colab": {
          "base_uri": "https://localhost:8080/"
        },
        "id": "_x6zbEmID8qb",
        "outputId": "7a9ea110-fe0a-49b4-edc1-87b598d8309e"
      },
      "source": [
        "def square_even(numbers):\n",
        "    for number in numbers:\n",
        "        if number % 2 == 0:\n",
        "            yield(number * number)\n",
        "numbers = [1, 2, 3, 4, 5, 6]\n",
        "squared_numbers = square_even(numbers)\n",
        "\n",
        "# Print a generator:\n",
        "for number in squared_numbers:\n",
        "    print(number)# prints 4 16 36"
      ],
      "execution_count": 12,
      "outputs": [
        {
          "output_type": "stream",
          "text": [
            "4\n",
            "16\n",
            "36\n"
          ],
          "name": "stdout"
        }
      ]
    },
    {
      "cell_type": "code",
      "metadata": {
        "colab": {
          "base_uri": "https://localhost:8080/"
        },
        "id": "13CmGEbsD-8n",
        "outputId": "925c0e1b-42e0-4585-f2cd-9dd03933ba72"
      },
      "source": [
        "squared_numbers = (num * num for num in numbers if num % 2 == 0)\n",
        "\n",
        "# Print a generator:\n",
        "for number in squared_numbers: \n",
        "    print(number)# prints 4 16 36"
      ],
      "execution_count": 13,
      "outputs": [
        {
          "output_type": "stream",
          "text": [
            "4\n",
            "16\n",
            "36\n"
          ],
          "name": "stdout"
        }
      ]
    }
  ]
}