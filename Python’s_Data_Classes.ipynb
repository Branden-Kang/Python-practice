{
  "nbformat": 4,
  "nbformat_minor": 0,
  "metadata": {
    "colab": {
      "name": "Python’s Data Classes.ipynb",
      "provenance": [],
      "authorship_tag": "ABX9TyNpCA10LYw7HuBB4KnfoKWM"
    },
    "kernelspec": {
      "name": "python3",
      "display_name": "Python 3"
    },
    "language_info": {
      "name": "python"
    }
  },
  "cells": [
    {
      "cell_type": "markdown",
      "metadata": {
        "id": "9U1HoA1_8H1n"
      },
      "source": [
        "[Reference](https://medium.com/@omerg7493/pythons-data-class-59098f4a2044)"
      ]
    },
    {
      "cell_type": "code",
      "metadata": {
        "id": "UrrJoCpRsbBf"
      },
      "source": [
        "from dataclasses import dataclass\n",
        "\n",
        "@dataclass\n",
        "class Person:\n",
        "    name: str\n",
        "    age: int"
      ],
      "execution_count": 1,
      "outputs": []
    },
    {
      "cell_type": "code",
      "metadata": {
        "colab": {
          "base_uri": "https://localhost:8080/",
          "height": 37
        },
        "id": "Y12NAJ917twQ",
        "outputId": "efd6dc2a-d7b5-4a8a-9e4a-ffe87d706430"
      },
      "source": [
        "person = Person('John', 41)\n",
        "person.name"
      ],
      "execution_count": 2,
      "outputs": [
        {
          "output_type": "execute_result",
          "data": {
            "application/vnd.google.colaboratory.intrinsic+json": {
              "type": "string"
            },
            "text/plain": [
              "'John'"
            ]
          },
          "metadata": {},
          "execution_count": 2
        }
      ]
    },
    {
      "cell_type": "code",
      "metadata": {
        "colab": {
          "base_uri": "https://localhost:8080/"
        },
        "id": "ga0hgOai7vNg",
        "outputId": "c07c1dde-6acd-4ce7-aca9-1207f81f8851"
      },
      "source": [
        "person.age"
      ],
      "execution_count": 3,
      "outputs": [
        {
          "output_type": "execute_result",
          "data": {
            "text/plain": [
              "41"
            ]
          },
          "metadata": {},
          "execution_count": 3
        }
      ]
    },
    {
      "cell_type": "code",
      "metadata": {
        "colab": {
          "base_uri": "https://localhost:8080/"
        },
        "id": "saM0ZAeS7wsz",
        "outputId": "e8ef4a70-c739-4f4f-c687-3ddd4dfaa836"
      },
      "source": [
        "person"
      ],
      "execution_count": 4,
      "outputs": [
        {
          "output_type": "execute_result",
          "data": {
            "text/plain": [
              "Person(name='John', age=41)"
            ]
          },
          "metadata": {},
          "execution_count": 4
        }
      ]
    },
    {
      "cell_type": "code",
      "metadata": {
        "colab": {
          "base_uri": "https://localhost:8080/"
        },
        "id": "nqOw64kt7x61",
        "outputId": "8e5a4f06-4468-4228-e2a8-35723d6375a3"
      },
      "source": [
        "person == Person('John', 41)"
      ],
      "execution_count": 5,
      "outputs": [
        {
          "output_type": "execute_result",
          "data": {
            "text/plain": [
              "True"
            ]
          },
          "metadata": {},
          "execution_count": 5
        }
      ]
    },
    {
      "cell_type": "code",
      "metadata": {
        "id": "B7XD86Wa7y50"
      },
      "source": [
        "class Book:\n",
        "  \n",
        "    def __init__(self, name, author, num_pages):\n",
        "        self.__name = name\n",
        "        self.__author = author\n",
        "        self.__num_pages = num_pages\n",
        "\n",
        "    @property\n",
        "    def name(self):\n",
        "        return self.__name\n",
        "\n",
        "    @property\n",
        "    def author(self):\n",
        "        return self.__author\n",
        "    \n",
        "    @property\n",
        "    def num_pages(self):\n",
        "        return self.__num_pages\n",
        "\n",
        "    def __repr__(self):\n",
        "        return f'Book({self.name}, {self.author}, {self.num_pages})'\n",
        "\n",
        "    def __hash__(self):\n",
        "        return hash((self.__class__, self.name, self.author, self.num_pages))\n",
        "\n",
        "    def __eq__(self, other):\n",
        "        if other.__class__ is self.__class__:\n",
        "            return self.name == other.name and self.author == other.author and self.num_pages == other.num_pages\n",
        "        else:\n",
        "            return NotImplemented"
      ],
      "execution_count": 6,
      "outputs": []
    },
    {
      "cell_type": "code",
      "metadata": {
        "id": "xNadvlOP72gw"
      },
      "source": [
        "from dataclasses import dataclass\n",
        "\n",
        "@dataclass(frozen=True)\n",
        "class Book:\n",
        "  name: str\n",
        "  author: str\n",
        "  num_pages: int"
      ],
      "execution_count": 7,
      "outputs": []
    },
    {
      "cell_type": "code",
      "metadata": {
        "id": "2gC2_y_M74C4"
      },
      "source": [
        "from dataclasses import dataclass, field\n",
        "\n",
        "@dataclass\n",
        "class Book:\n",
        "    name: str    # similar to - name: str = field()\n",
        "    author: str  # same here...\n",
        "    condition: str = field(default='new')  # similar to condition: str = 'new'\n",
        "    readers: list = field(default_factory=list, compare=False, hash=False, repr=False)"
      ],
      "execution_count": 8,
      "outputs": []
    }
  ]
}