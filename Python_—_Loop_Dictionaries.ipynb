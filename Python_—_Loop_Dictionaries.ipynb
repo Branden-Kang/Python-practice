{
  "nbformat": 4,
  "nbformat_minor": 0,
  "metadata": {
    "colab": {
      "provenance": [],
      "authorship_tag": "ABX9TyOnTQ+ix3qbode6d29+BqWy"
    },
    "kernelspec": {
      "name": "python3",
      "display_name": "Python 3"
    },
    "language_info": {
      "name": "python"
    }
  },
  "cells": [
    {
      "cell_type": "markdown",
      "source": [
        "[Reference](https://medium.com/@luuisotorres/mastering-linear-regression-with-statsmodels-95233a2a602e)"
      ],
      "metadata": {
        "id": "NSO_2JDdPDpg"
      }
    },
    {
      "cell_type": "markdown",
      "source": [
        "[Reference](https://medium.com/@techclaw/python-loop-dictionaries-6a998b5084c2)"
      ],
      "metadata": {
        "id": "cvcgb1nzPRPn"
      }
    },
    {
      "cell_type": "code",
      "execution_count": 1,
      "metadata": {
        "id": "mXgliiRCOCbA"
      },
      "outputs": [],
      "source": [
        "my_dict = {\"name\": \"John\", \"age\": 30, \"city\": \"New York\"}"
      ]
    },
    {
      "cell_type": "code",
      "source": [
        "for key in my_dict:\n",
        "    print(key, my_dict[key])"
      ],
      "metadata": {
        "colab": {
          "base_uri": "https://localhost:8080/"
        },
        "id": "GpzRjK7PPUVE",
        "outputId": "fe004262-d035-45c8-ced9-c5abe284b945"
      },
      "execution_count": 2,
      "outputs": [
        {
          "output_type": "stream",
          "name": "stdout",
          "text": [
            "name John\n",
            "age 30\n",
            "city New York\n"
          ]
        }
      ]
    },
    {
      "cell_type": "code",
      "source": [
        "my_dict = {\"name\": \"John\", \"age\": 30, \"city\": \"New York\"}\n",
        "\n",
        "for key in my_dict.keys():\n",
        "    print(key)"
      ],
      "metadata": {
        "colab": {
          "base_uri": "https://localhost:8080/"
        },
        "id": "9X7wvHBmPWLp",
        "outputId": "9b7f799f-cf2d-492c-b891-4841c424b50f"
      },
      "execution_count": 3,
      "outputs": [
        {
          "output_type": "stream",
          "name": "stdout",
          "text": [
            "name\n",
            "age\n",
            "city\n"
          ]
        }
      ]
    },
    {
      "cell_type": "code",
      "source": [
        "my_dict = {\"name\": \"John\", \"age\": 30, \"city\": \"New York\"}\n",
        "for value in my_dict.values():\n",
        "    print(value)"
      ],
      "metadata": {
        "colab": {
          "base_uri": "https://localhost:8080/"
        },
        "id": "iyhWVkWdPZtV",
        "outputId": "141fdf98-6304-47d0-9603-3ea101b24aac"
      },
      "execution_count": 4,
      "outputs": [
        {
          "output_type": "stream",
          "name": "stdout",
          "text": [
            "John\n",
            "30\n",
            "New York\n"
          ]
        }
      ]
    },
    {
      "cell_type": "code",
      "source": [
        "my_dict = {\"name\": \"John\", \"age\": 30, \"city\": \"New York\"}\n",
        "for key, value in my_dict.items():\n",
        "    print(key, value)"
      ],
      "metadata": {
        "colab": {
          "base_uri": "https://localhost:8080/"
        },
        "id": "nMcJOhdiPbzS",
        "outputId": "436f6203-3dea-443e-fd30-c8afd38cf6db"
      },
      "execution_count": 5,
      "outputs": [
        {
          "output_type": "stream",
          "name": "stdout",
          "text": [
            "name John\n",
            "age 30\n",
            "city New York\n"
          ]
        }
      ]
    },
    {
      "cell_type": "code",
      "source": [
        "for key, value in my_dict.items():\n",
        "    print(key, value)"
      ],
      "metadata": {
        "colab": {
          "base_uri": "https://localhost:8080/"
        },
        "id": "rGRq1feWPeWD",
        "outputId": "c3ca4d2f-5130-44b3-9462-9d5b7bab8432"
      },
      "execution_count": 6,
      "outputs": [
        {
          "output_type": "stream",
          "name": "stdout",
          "text": [
            "name John\n",
            "age 30\n",
            "city New York\n"
          ]
        }
      ]
    },
    {
      "cell_type": "code",
      "source": [
        "my_dict = {\n",
        "    \"person1\": {\"name\": \"John\", \"age\": 30},\n",
        "    \"person2\": {\"name\": \"Jane\", \"age\": 25},\n",
        "}"
      ],
      "metadata": {
        "id": "MihiWzQdPf6E"
      },
      "execution_count": 7,
      "outputs": []
    },
    {
      "cell_type": "code",
      "source": [
        "for person, info in my_dict.items():\n",
        "    print(f\"{person}: {info['name']} is {info['age']} years old.\")"
      ],
      "metadata": {
        "colab": {
          "base_uri": "https://localhost:8080/"
        },
        "id": "RxdMEEVbPi1E",
        "outputId": "17c2ada2-15ef-42c2-bfcc-e3be60ccef59"
      },
      "execution_count": 8,
      "outputs": [
        {
          "output_type": "stream",
          "name": "stdout",
          "text": [
            "person1: John is 30 years old.\n",
            "person2: Jane is 25 years old.\n"
          ]
        }
      ]
    },
    {
      "cell_type": "code",
      "source": [
        "my_dict = {\"a\": 1, \"b\": 2, \"c\": 3}"
      ],
      "metadata": {
        "id": "acigPaK9Pjx2"
      },
      "execution_count": 9,
      "outputs": []
    },
    {
      "cell_type": "code",
      "source": [
        "for key in list(my_dict.keys()):\n",
        "    if my_dict[key] % 2 == 0:\n",
        "        del my_dict[key]\n",
        "print(my_dict)"
      ],
      "metadata": {
        "colab": {
          "base_uri": "https://localhost:8080/"
        },
        "id": "F_s8yZ0vPktN",
        "outputId": "702fa19d-ecdd-486d-8e1b-a5a5b4c860af"
      },
      "execution_count": 10,
      "outputs": [
        {
          "output_type": "stream",
          "name": "stdout",
          "text": [
            "{'a': 1, 'c': 3}\n"
          ]
        }
      ]
    }
  ]
}