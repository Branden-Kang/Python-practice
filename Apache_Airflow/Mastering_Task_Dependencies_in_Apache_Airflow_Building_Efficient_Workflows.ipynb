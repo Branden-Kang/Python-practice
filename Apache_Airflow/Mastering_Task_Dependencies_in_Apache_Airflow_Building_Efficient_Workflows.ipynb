{
  "nbformat": 4,
  "nbformat_minor": 0,
  "metadata": {
    "colab": {
      "provenance": [],
      "authorship_tag": "ABX9TyN92mby6Ql3wtAc6spgJKSU"
    },
    "kernelspec": {
      "name": "python3",
      "display_name": "Python 3"
    },
    "language_info": {
      "name": "python"
    }
  },
  "cells": [
    {
      "cell_type": "markdown",
      "source": [
        "[Reference](https://medium.com/@agusmahari/mastering-task-dependencies-in-apache-airflow-building-efficient-workflows-cc78a39487de)"
      ],
      "metadata": {
        "id": "iiq9OWaYgQjq"
      }
    },
    {
      "cell_type": "code",
      "execution_count": 1,
      "metadata": {
        "id": "b0ZwDaGGgMCg"
      },
      "outputs": [],
      "source": [
        "from airflow import DAG\n",
        "from airflow.operators.dummy_operator import DummyOperator\n",
        "from airflow.operators.python_operator import PythonOperator\n",
        "from datetime import datetime\n",
        "\n",
        "default_args = {\n",
        "    'owner': 'airflow',\n",
        "    'start_date': datetime(2023, 5, 19)\n",
        "}\n",
        "\n",
        "dag = DAG('dependency_dag', default_args=default_args, schedule_interval=None)\n",
        "\n",
        "# Define tasks\n",
        "task_1 = DummyOperator(task_id='task_1', dag=dag)\n",
        "task_2 = DummyOperator(task_id='task_2', dag=dag)\n",
        "task_3 = DummyOperator(task_id='task_3', dag=dag)\n",
        "task_4 = DummyOperator(task_id='task_4', dag=dag)\n",
        "\n",
        "# Define dependencies\n",
        "task_1 >> task_2  # task_2 depends on task_1\n",
        "task_1 >> task_3  # task_3 depends on task_1\n",
        "task_2 >> task_4  # task_4 depends on task_2\n",
        "task_3 >> task_4  # task_4 depends on task_3"
      ]
    },
    {
      "cell_type": "code",
      "source": [
        "from airflow import DAG\n",
        "from airflow.operators.dummy_operator import DummyOperator\n",
        "from airflow.operators.python_operator import PythonOperator\n",
        "from datetime import datetime\n",
        "\n",
        "default_args = {\n",
        "    'owner': 'airflow',\n",
        "    'start_date': datetime(2023, 5, 19)\n",
        "}\n",
        "\n",
        "dag = DAG('complex_dependency_dag', default_args=default_args, schedule_interval=None)\n",
        "\n",
        "# Define tasks\n",
        "task_1 = DummyOperator(task_id='task_1', dag=dag)\n",
        "task_2 = PythonOperator(\n",
        "    task_id='task_2',\n",
        "    python_callable=lambda: print('Running task 2'),\n",
        "    dag=dag\n",
        ")\n",
        "task_3 = PythonOperator(\n",
        "    task_id='task_3',\n",
        "    python_callable=lambda: print('Running task 3'),\n",
        "    dag=dag\n",
        ")\n",
        "task_4 = PythonOperator(\n",
        "    task_id='task_4',\n",
        "    python_callable=lambda: print('Running task 4'),\n",
        "    dag=dag\n",
        ")\n",
        "task_5 = PythonOperator(\n",
        "    task_id='task_5',\n",
        "    python_callable=lambda: print('Running task 5'),\n",
        "    dag=dag\n",
        ")\n",
        "task_6 = DummyOperator(task_id='task_6', dag=dag)\n",
        "task_7 = PythonOperator(\n",
        "    task_id='task_7',\n",
        "    python_callable=lambda: print('Running task 7'),\n",
        "    dag=dag\n",
        ")\n",
        "\n",
        "# Define dependencies\n",
        "task_1 >> task_2  # task_2 depends on task_1\n",
        "task_1 >> task_3  # task_3 depends on task_1\n",
        "task_2 >> task_4  # task_4 depends on task_2\n",
        "task_3 >> task_4  # task_4 depends on task_3\n",
        "task_4 >> task_5  # task_5 depends on task_4\n",
        "task_5 >> task_6  # task_6 depends on task_5\n",
        "task_6 >> task_7  # task_7 depends on task_6\n",
        "task_3 >> task_7  # task_7 depends on task_3"
      ],
      "metadata": {
        "id": "f7YPUT3MgT93"
      },
      "execution_count": 2,
      "outputs": []
    }
  ]
}
