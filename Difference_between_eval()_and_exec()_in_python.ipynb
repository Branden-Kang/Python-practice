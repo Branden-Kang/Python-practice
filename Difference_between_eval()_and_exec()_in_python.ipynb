{
  "nbformat": 4,
  "nbformat_minor": 0,
  "metadata": {
    "colab": {
      "name": "Difference between eval() and exec() in python.ipynb",
      "provenance": [],
      "authorship_tag": "ABX9TyMqyA1bO7v7ZdOLwwK4JBvI"
    },
    "kernelspec": {
      "name": "python3",
      "display_name": "Python 3"
    },
    "language_info": {
      "name": "python"
    }
  },
  "cells": [
    {
      "cell_type": "markdown",
      "metadata": {
        "id": "ugLkW-Eg2pqv"
      },
      "source": [
        "[Reference](https://medium.com/@codingpilot25/difference-between-eval-and-exec-in-python-b387b25207d2)"
      ]
    },
    {
      "cell_type": "code",
      "metadata": {
        "id": "v6OvrKCm2JG0"
      },
      "source": [
        "def add(a,b):\n",
        "  return a+b"
      ],
      "execution_count": 1,
      "outputs": []
    },
    {
      "cell_type": "code",
      "metadata": {
        "colab": {
          "base_uri": "https://localhost:8080/"
        },
        "id": "ebkn8CiY3Vys",
        "outputId": "c51b6a53-5fe9-4a33-fde2-ba6490fbcadb"
      },
      "source": [
        "a = 'add(8,9)'\n",
        "eval(a)"
      ],
      "execution_count": 2,
      "outputs": [
        {
          "output_type": "execute_result",
          "data": {
            "text/plain": [
              "17"
            ]
          },
          "metadata": {
            "tags": []
          },
          "execution_count": 2
        }
      ]
    },
    {
      "cell_type": "code",
      "metadata": {
        "id": "yNl2tEHs3ZvS"
      },
      "source": [
        "a = 'add(8,9)'\n",
        "exec(a)"
      ],
      "execution_count": 3,
      "outputs": []
    },
    {
      "cell_type": "code",
      "metadata": {
        "colab": {
          "base_uri": "https://localhost:8080/"
        },
        "id": "EoLllKyn3avj",
        "outputId": "0bb2b685-1617-446f-f284-a022aeaa43dc"
      },
      "source": [
        "a = 'for i in range(5):\\n\\tprint(\"hello\")'\n",
        "exec(a)"
      ],
      "execution_count": 4,
      "outputs": [
        {
          "output_type": "stream",
          "text": [
            "hello\n",
            "hello\n",
            "hello\n",
            "hello\n",
            "hello\n"
          ],
          "name": "stdout"
        }
      ]
    },
    {
      "cell_type": "code",
      "metadata": {
        "colab": {
          "base_uri": "https://localhost:8080/",
          "height": 130
        },
        "id": "qbFLUXVT3eUR",
        "outputId": "ce16a4dd-031a-4dec-e710-f1fd2d902b49"
      },
      "source": [
        "a = 'for i in range(5):\\n\\tprint(\"hello\")'\n",
        "eval(a)"
      ],
      "execution_count": 5,
      "outputs": [
        {
          "output_type": "error",
          "ename": "SyntaxError",
          "evalue": "ignored",
          "traceback": [
            "\u001b[0;36m  File \u001b[0;32m\"<string>\"\u001b[0;36m, line \u001b[0;32m1\u001b[0m\n\u001b[0;31m    for i in range(5):\u001b[0m\n\u001b[0m      ^\u001b[0m\n\u001b[0;31mSyntaxError\u001b[0m\u001b[0;31m:\u001b[0m invalid syntax\n"
          ]
        }
      ]
    },
    {
      "cell_type": "code",
      "metadata": {
        "colab": {
          "base_uri": "https://localhost:8080/"
        },
        "id": "vhUOyMjn3gbo",
        "outputId": "c7d650a9-1683-414f-979a-d1542e961090"
      },
      "source": [
        "exec('a=5')\n",
        "print(a)"
      ],
      "execution_count": 6,
      "outputs": [
        {
          "output_type": "stream",
          "text": [
            "5\n"
          ],
          "name": "stdout"
        }
      ]
    },
    {
      "cell_type": "code",
      "metadata": {
        "colab": {
          "base_uri": "https://localhost:8080/",
          "height": 130
        },
        "id": "B3EXEhYW3jYE",
        "outputId": "d223fdea-e221-40d7-805b-e0897f4d3fee"
      },
      "source": [
        "eval('a=5')\n",
        "print(a)"
      ],
      "execution_count": 7,
      "outputs": [
        {
          "output_type": "error",
          "ename": "SyntaxError",
          "evalue": "ignored",
          "traceback": [
            "\u001b[0;36m  File \u001b[0;32m\"<string>\"\u001b[0;36m, line \u001b[0;32m1\u001b[0m\n\u001b[0;31m    a=5\u001b[0m\n\u001b[0m     ^\u001b[0m\n\u001b[0;31mSyntaxError\u001b[0m\u001b[0;31m:\u001b[0m invalid syntax\n"
          ]
        }
      ]
    }
  ]
}