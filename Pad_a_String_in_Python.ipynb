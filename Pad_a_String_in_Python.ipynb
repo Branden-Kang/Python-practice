{
  "nbformat": 4,
  "nbformat_minor": 0,
  "metadata": {
    "colab": {
      "name": "Pad a String in Python.ipynb",
      "provenance": [],
      "authorship_tag": "ABX9TyPSblfXSKQws1JttSCauc4R"
    },
    "kernelspec": {
      "name": "python3",
      "display_name": "Python 3"
    }
  },
  "cells": [
    {
      "cell_type": "markdown",
      "metadata": {
        "id": "q0cU1MJBVv-1"
      },
      "source": [
        "[Reference](https://medium.com/better-programming/how-to-pad-a-string-in-python-a792b4e6e2bc)"
      ]
    },
    {
      "cell_type": "code",
      "metadata": {
        "colab": {
          "base_uri": "https://localhost:8080/",
          "height": 37
        },
        "id": "D3rXn9mCVu5f",
        "outputId": "88b26e78-beac-496b-b53f-38a18c1fcef9"
      },
      "source": [
        "# will work\n",
        "result = \"9\".zfill(2)\n",
        "result"
      ],
      "execution_count": 1,
      "outputs": [
        {
          "output_type": "execute_result",
          "data": {
            "application/vnd.google.colaboratory.intrinsic+json": {
              "type": "string"
            },
            "text/plain": [
              "'09'"
            ]
          },
          "metadata": {
            "tags": []
          },
          "execution_count": 1
        }
      ]
    },
    {
      "cell_type": "code",
      "metadata": {
        "colab": {
          "base_uri": "https://localhost:8080/",
          "height": 130
        },
        "id": "Yny5K_H2VzSw",
        "outputId": "4fc6d7a3-0237-4c93-a854-8d52eafcf709"
      },
      "source": [
        "# won't work\n",
        "result = 9.zfill(2)"
      ],
      "execution_count": 2,
      "outputs": [
        {
          "output_type": "error",
          "ename": "SyntaxError",
          "evalue": "ignored",
          "traceback": [
            "\u001b[0;36m  File \u001b[0;32m\"<ipython-input-2-d2284d717a09>\"\u001b[0;36m, line \u001b[0;32m2\u001b[0m\n\u001b[0;31m    result = 9.zfill(2)\u001b[0m\n\u001b[0m                   ^\u001b[0m\n\u001b[0;31mSyntaxError\u001b[0m\u001b[0;31m:\u001b[0m invalid syntax\n"
          ]
        }
      ]
    },
    {
      "cell_type": "code",
      "metadata": {
        "colab": {
          "base_uri": "https://localhost:8080/"
        },
        "id": "jr48AyfQV0Fr",
        "outputId": "02bad205-eba7-4d7a-f081-68669eec60be"
      },
      "source": [
        "a = \"8\"\n",
        "b = \"80\"\n",
        "c = \"800\"\n",
        "print(a.zfill(2),b.zfill(2),c.zfill(2)) # 08 80 800"
      ],
      "execution_count": 4,
      "outputs": [
        {
          "output_type": "stream",
          "text": [
            "08 80 800\n"
          ],
          "name": "stdout"
        }
      ]
    },
    {
      "cell_type": "code",
      "metadata": {
        "colab": {
          "base_uri": "https://localhost:8080/"
        },
        "id": "_mPbm340V5Kz",
        "outputId": "e688dcdd-37a3-4b1f-bc85-6fc36fbf9ae2"
      },
      "source": [
        "id = 12345\n",
        "id = str(id).zfill(8)\n",
        "print(id) # 00012345"
      ],
      "execution_count": 5,
      "outputs": [
        {
          "output_type": "stream",
          "text": [
            "00012345\n"
          ],
          "name": "stdout"
        }
      ]
    }
  ]
}