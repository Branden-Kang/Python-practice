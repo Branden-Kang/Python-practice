{
  "nbformat": 4,
  "nbformat_minor": 0,
  "metadata": {
    "colab": {
      "name": "3 Misuses of Python List Comprehension.ipynb",
      "provenance": [],
      "authorship_tag": "ABX9TyMWDKmCS1D7hLdpL0InuH0Q"
    },
    "kernelspec": {
      "name": "python3",
      "display_name": "Python 3"
    }
  },
  "cells": [
    {
      "cell_type": "markdown",
      "metadata": {
        "id": "KfS3StIiebEG"
      },
      "source": [
        "[Reference](https://medium.com/better-programming/3-misuses-of-python-list-comprehension-to-avoid-54adc312e48c)"
      ]
    },
    {
      "cell_type": "code",
      "metadata": {
        "id": "O5lg6GWyeYil",
        "outputId": "9a23e49b-57ab-461e-d555-c63059db47ac",
        "colab": {
          "base_uri": "https://localhost:8080/"
        }
      },
      "source": [
        "odds = [1, 3, 5, 7]\n",
        "odds"
      ],
      "execution_count": 1,
      "outputs": [
        {
          "output_type": "execute_result",
          "data": {
            "text/plain": [
              "[1, 3, 5, 7]"
            ]
          },
          "metadata": {
            "tags": []
          },
          "execution_count": 1
        }
      ]
    },
    {
      "cell_type": "code",
      "metadata": {
        "id": "xjIBtW8heezh",
        "outputId": "98b97246-7fbd-43b1-80d3-8facfe311326",
        "colab": {
          "base_uri": "https://localhost:8080/"
        }
      },
      "source": [
        "evens = list([2, 4, 6, 8])\n",
        "evens"
      ],
      "execution_count": 2,
      "outputs": [
        {
          "output_type": "execute_result",
          "data": {
            "text/plain": [
              "[2, 4, 6, 8]"
            ]
          },
          "metadata": {
            "tags": []
          },
          "execution_count": 2
        }
      ]
    },
    {
      "cell_type": "code",
      "metadata": {
        "id": "s6saZ6UVegr1",
        "outputId": "f0d1b496-3579-4f1d-880b-4cef7e28dc92",
        "colab": {
          "base_uri": "https://localhost:8080/"
        }
      },
      "source": [
        "odds_squares = [x*x for x in odds]\n",
        "odds_squares"
      ],
      "execution_count": 3,
      "outputs": [
        {
          "output_type": "execute_result",
          "data": {
            "text/plain": [
              "[1, 9, 25, 49]"
            ]
          },
          "metadata": {
            "tags": []
          },
          "execution_count": 3
        }
      ]
    },
    {
      "cell_type": "code",
      "metadata": {
        "id": "o6zs0V-WeizO",
        "outputId": "a8958cc8-28d5-47be-d5a4-d35ce4b868ab",
        "colab": {
          "base_uri": "https://localhost:8080/"
        }
      },
      "source": [
        "evens_squares = [x*x for x in evens if x < 5]\n",
        "evens_squares"
      ],
      "execution_count": 4,
      "outputs": [
        {
          "output_type": "execute_result",
          "data": {
            "text/plain": [
              "[4, 16]"
            ]
          },
          "metadata": {
            "tags": []
          },
          "execution_count": 4
        }
      ]
    },
    {
      "cell_type": "code",
      "metadata": {
        "id": "oEEJn99gelIQ",
        "outputId": "36457ea9-d044-4354-994c-04152d69483a",
        "colab": {
          "base_uri": "https://localhost:8080/"
        }
      },
      "source": [
        "odds_squares = []\n",
        "for odd in odds:\n",
        "    odds_squares.append(odd*odd)\n",
        "odds_squares"
      ],
      "execution_count": 5,
      "outputs": [
        {
          "output_type": "execute_result",
          "data": {
            "text/plain": [
              "[1, 9, 25, 49]"
            ]
          },
          "metadata": {
            "tags": []
          },
          "execution_count": 5
        }
      ]
    },
    {
      "cell_type": "markdown",
      "metadata": {
        "id": "eFs7embCescV"
      },
      "source": [
        "# 1. Not Using the list() Constructor"
      ]
    },
    {
      "cell_type": "code",
      "metadata": {
        "id": "O1kZEgZreoaE",
        "outputId": "4a1747f3-4434-42b8-c1e3-bbc899115305",
        "colab": {
          "base_uri": "https://localhost:8080/"
        }
      },
      "source": [
        "name = 'John'\n",
        "letters = [x.lower() for x in name]\n",
        "letters"
      ],
      "execution_count": 6,
      "outputs": [
        {
          "output_type": "execute_result",
          "data": {
            "text/plain": [
              "['j', 'o', 'h', 'n']"
            ]
          },
          "metadata": {
            "tags": []
          },
          "execution_count": 6
        }
      ]
    },
    {
      "cell_type": "code",
      "metadata": {
        "id": "nOxecQnSes0j",
        "outputId": "28c4b136-c8e0-42bf-b51f-aee3fdb79326",
        "colab": {
          "base_uri": "https://localhost:8080/"
        }
      },
      "source": [
        "letters = list(name.lower())\n",
        "letters"
      ],
      "execution_count": 7,
      "outputs": [
        {
          "output_type": "execute_result",
          "data": {
            "text/plain": [
              "['j', 'o', 'h', 'n']"
            ]
          },
          "metadata": {
            "tags": []
          },
          "execution_count": 7
        }
      ]
    },
    {
      "cell_type": "code",
      "metadata": {
        "id": "6uXIniONeud0",
        "outputId": "f5cf138a-60ed-4f20-d53a-7d3d9d37ad12",
        "colab": {
          "base_uri": "https://localhost:8080/"
        }
      },
      "source": [
        "numbers = [x for x in range(8)]\n",
        "numbers"
      ],
      "execution_count": 8,
      "outputs": [
        {
          "output_type": "execute_result",
          "data": {
            "text/plain": [
              "[0, 1, 2, 3, 4, 5, 6, 7]"
            ]
          },
          "metadata": {
            "tags": []
          },
          "execution_count": 8
        }
      ]
    },
    {
      "cell_type": "code",
      "metadata": {
        "id": "L5wigA5eexBQ",
        "outputId": "6883580a-3ee2-47c9-939e-e5f6ec3d7369",
        "colab": {
          "base_uri": "https://localhost:8080/"
        }
      },
      "source": [
        "numbers = list(range(8))\n",
        "numbers"
      ],
      "execution_count": 9,
      "outputs": [
        {
          "output_type": "execute_result",
          "data": {
            "text/plain": [
              "[0, 1, 2, 3, 4, 5, 6, 7]"
            ]
          },
          "metadata": {
            "tags": []
          },
          "execution_count": 9
        }
      ]
    },
    {
      "cell_type": "markdown",
      "metadata": {
        "id": "1z0UvLUjez35"
      },
      "source": [
        "# 2. Lengthy Comprehension"
      ]
    },
    {
      "cell_type": "code",
      "metadata": {
        "id": "AxUgGkIaey08",
        "outputId": "a0f29391-67fb-4336-9316-005fa77c0320",
        "colab": {
          "base_uri": "https://localhost:8080/"
        }
      },
      "source": [
        "styles = ['long-sleeve', 'v-neck']\n",
        "colors = ['white', 'black']\n",
        "sizes = ['L', 'S']\n",
        "options = [' '.join([x, y, z]) for x in styles for y in colors for z in sizes]\n",
        "options"
      ],
      "execution_count": 10,
      "outputs": [
        {
          "output_type": "execute_result",
          "data": {
            "text/plain": [
              "['long-sleeve white L',\n",
              " 'long-sleeve white S',\n",
              " 'long-sleeve black L',\n",
              " 'long-sleeve black S',\n",
              " 'v-neck white L',\n",
              " 'v-neck white S',\n",
              " 'v-neck black L',\n",
              " 'v-neck black S']"
            ]
          },
          "metadata": {
            "tags": []
          },
          "execution_count": 10
        }
      ]
    },
    {
      "cell_type": "code",
      "metadata": {
        "id": "qcTfvDNDe2Fx"
      },
      "source": [
        "options = [' '.join([x, y, z]) for x in styles for y in colors for z in sizes]"
      ],
      "execution_count": 13,
      "outputs": []
    },
    {
      "cell_type": "code",
      "metadata": {
        "id": "q9ufYIZye6Kk"
      },
      "source": [
        "options = []\n",
        "for x in styles:\n",
        "     for y in colors:\n",
        "         for z in sizes:\n",
        "             option = ' '.join([x, y, z])\n",
        "             options.append(option)"
      ],
      "execution_count": 14,
      "outputs": []
    },
    {
      "cell_type": "code",
      "metadata": {
        "id": "GMJDXGLwfIKa"
      },
      "source": [
        "import itertools\n",
        "options = [' '.join(x) for x in itertools.product(styles, colors, sizes)]"
      ],
      "execution_count": 15,
      "outputs": []
    },
    {
      "cell_type": "markdown",
      "metadata": {
        "id": "JJrXxAzwfNDX"
      },
      "source": [
        "# 3. Unnecessary Intermediary"
      ]
    },
    {
      "cell_type": "code",
      "metadata": {
        "id": "sBSJACRFfMI9",
        "outputId": "639c20a0-236c-47f7-e45d-5519aab590bf",
        "colab": {
          "base_uri": "https://localhost:8080/"
        }
      },
      "source": [
        "first_names = ['John', 'Danny', 'Aaron']\n",
        "last_names = ['Smith', 'Brown', 'Thompson']\n",
        "names = [' '.join(x) for x in zip(first_names, last_names)]\n",
        "for name in names:\n",
        "    print(name)"
      ],
      "execution_count": 16,
      "outputs": [
        {
          "output_type": "stream",
          "text": [
            "John Smith\n",
            "Danny Brown\n",
            "Aaron Thompson\n"
          ],
          "name": "stdout"
        }
      ]
    },
    {
      "cell_type": "code",
      "metadata": {
        "id": "hXxDvaY8fR3T",
        "outputId": "7fa7a6b8-7bc1-46d7-973e-13798c569b3b",
        "colab": {
          "base_uri": "https://localhost:8080/"
        }
      },
      "source": [
        "for x in zip(first_names, last_names):\n",
        "    print(' '.join(x))"
      ],
      "execution_count": 17,
      "outputs": [
        {
          "output_type": "stream",
          "text": [
            "John Smith\n",
            "Danny Brown\n",
            "Aaron Thompson\n"
          ],
          "name": "stdout"
        }
      ]
    },
    {
      "cell_type": "code",
      "metadata": {
        "id": "2NqBU0lyfTgM",
        "outputId": "b417220f-69a8-469d-951f-45e7826f3194",
        "colab": {
          "base_uri": "https://localhost:8080/"
        }
      },
      "source": [
        "squares_list = [x*x for x in range(100000)]\n",
        "sum(squares_list)"
      ],
      "execution_count": 19,
      "outputs": [
        {
          "output_type": "execute_result",
          "data": {
            "text/plain": [
              "333328333350000"
            ]
          },
          "metadata": {
            "tags": []
          },
          "execution_count": 19
        }
      ]
    },
    {
      "cell_type": "code",
      "metadata": {
        "id": "dnXHUorwfVgn",
        "outputId": "764ada4c-2579-4216-9545-125eacba0e31",
        "colab": {
          "base_uri": "https://localhost:8080/"
        }
      },
      "source": [
        "squares_gen = (x*x for x in range(100000))\n",
        "sum(squares_gen)"
      ],
      "execution_count": 21,
      "outputs": [
        {
          "output_type": "execute_result",
          "data": {
            "text/plain": [
              "333328333350000"
            ]
          },
          "metadata": {
            "tags": []
          },
          "execution_count": 21
        }
      ]
    }
  ]
}