{
  "nbformat": 4,
  "nbformat_minor": 0,
  "metadata": {
    "colab": {
      "name": "DATETIME Manipulations using Python..ipynb",
      "provenance": [],
      "authorship_tag": "ABX9TyMUWNk3kE4e/0zeoOanpGaO"
    },
    "kernelspec": {
      "name": "python3",
      "display_name": "Python 3"
    },
    "language_info": {
      "name": "python"
    }
  },
  "cells": [
    {
      "cell_type": "markdown",
      "metadata": {
        "id": "qcHO4tqLF7zX"
      },
      "source": [
        "[Reference](https://medium.com/dsights/basic-python-datetime-manipulations-to-start-with-ease-901fdf9d2990)"
      ]
    },
    {
      "cell_type": "code",
      "metadata": {
        "colab": {
          "base_uri": "https://localhost:8080/"
        },
        "id": "Gc_U4xaaFMsk",
        "outputId": "c5bb8466-827c-43bc-dfa4-fee07498459d"
      },
      "source": [
        "from datetime import date, time, datetime, timedelta\n",
        "\n",
        "d = date(2020, 1, 26)\n",
        "print(d)"
      ],
      "execution_count": 1,
      "outputs": [
        {
          "output_type": "stream",
          "text": [
            "2020-01-26\n"
          ],
          "name": "stdout"
        }
      ]
    },
    {
      "cell_type": "code",
      "metadata": {
        "colab": {
          "base_uri": "https://localhost:8080/"
        },
        "id": "J0oDa8p3GDHY",
        "outputId": "af53b855-3850-43c0-a8d0-9f1052576fca"
      },
      "source": [
        "t = time(hour=23, minute=59, second=59)\n",
        "print(t)"
      ],
      "execution_count": 2,
      "outputs": [
        {
          "output_type": "stream",
          "text": [
            "23:59:59\n"
          ],
          "name": "stdout"
        }
      ]
    },
    {
      "cell_type": "code",
      "metadata": {
        "colab": {
          "base_uri": "https://localhost:8080/"
        },
        "id": "4dcioNI_GIq0",
        "outputId": "acbc9154-e6d7-45c6-9d2c-113131cd7ad0"
      },
      "source": [
        "dt = datetime(2020, 1 , 26, 14, 11, 23)\n",
        "print(dt)"
      ],
      "execution_count": 3,
      "outputs": [
        {
          "output_type": "stream",
          "text": [
            "2020-01-26 14:11:23\n"
          ],
          "name": "stdout"
        }
      ]
    },
    {
      "cell_type": "code",
      "metadata": {
        "colab": {
          "base_uri": "https://localhost:8080/"
        },
        "id": "VXw4kGc2GMyL",
        "outputId": "ea669bd3-98c6-4bf4-b0b7-950dc6966349"
      },
      "source": [
        "print(datetime.now())\n",
        "print(date.today())"
      ],
      "execution_count": 4,
      "outputs": [
        {
          "output_type": "stream",
          "text": [
            "2021-07-22 12:03:06.370505\n",
            "2021-07-22\n"
          ],
          "name": "stdout"
        }
      ]
    },
    {
      "cell_type": "code",
      "metadata": {
        "colab": {
          "base_uri": "https://localhost:8080/"
        },
        "id": "yo5OEikXGQO6",
        "outputId": "413fd77c-6ec0-4532-89e3-42ea82953c80"
      },
      "source": [
        "today = datetime.now()\n",
        "\n",
        "print('Year :', today.year)\n",
        "print('Month :', today.month)\n",
        "print('Day :', today.day)\n",
        "print('Hour :', today.hour)\n",
        "print('Minutes :', today.minute)\n",
        "print('Seconds :', today.second)\n",
        "print('Microseconds :', today.microsecond)"
      ],
      "execution_count": 5,
      "outputs": [
        {
          "output_type": "stream",
          "text": [
            "Year : 2021\n",
            "Month : 7\n",
            "Day : 22\n",
            "Hour : 12\n",
            "Minutes : 4\n",
            "Seconds : 17\n",
            "Microseconds : 931741\n"
          ],
          "name": "stdout"
        }
      ]
    },
    {
      "cell_type": "code",
      "metadata": {
        "colab": {
          "base_uri": "https://localhost:8080/"
        },
        "id": "7kECIE6oGhO9",
        "outputId": "b4689bd0-d5a7-4a56-960f-b0db28fd2118"
      },
      "source": [
        "today = datetime.now()\n",
        "print('Week Number :', today.isocalendar()[1])"
      ],
      "execution_count": 6,
      "outputs": [
        {
          "output_type": "stream",
          "text": [
            "Week Number : 29\n"
          ],
          "name": "stdout"
        }
      ]
    },
    {
      "cell_type": "code",
      "metadata": {
        "id": "_5Tny4A7GoDQ"
      },
      "source": [
        "d1 = date(year = 2018, month = 7, day = 12)\n",
        "d2 = date(year = 2017, month = 12, day = 23)\n",
        "d3 = d1 - d2"
      ],
      "execution_count": 7,
      "outputs": []
    },
    {
      "cell_type": "code",
      "metadata": {
        "colab": {
          "base_uri": "https://localhost:8080/"
        },
        "id": "BumWSiT3Gww1",
        "outputId": "340a1982-5a51-4254-a31b-aba4ad4121fc"
      },
      "source": [
        "print(\"d3 = \", d3)\n",
        "print(\"type of d3 =\", type(d3))"
      ],
      "execution_count": 8,
      "outputs": [
        {
          "output_type": "stream",
          "text": [
            "d3 =  201 days, 0:00:00\n",
            "type of d3 = <class 'datetime.timedelta'>\n"
          ],
          "name": "stdout"
        }
      ]
    },
    {
      "cell_type": "code",
      "metadata": {
        "id": "l1Fdrr4JHaWz"
      },
      "source": [
        "dt1 = datetime(year = 2018, month = 7, day = 12, hour=7, minute=9, second = 33)\n",
        "dt2 = datetime(year = 2017, month = 12, day = 23, hour=5, minute=55, second = 13)\n",
        "dt3 = dt1 - dt2"
      ],
      "execution_count": 10,
      "outputs": []
    },
    {
      "cell_type": "code",
      "metadata": {
        "colab": {
          "base_uri": "https://localhost:8080/"
        },
        "id": "OQg1H4Q0Hk4-",
        "outputId": "59b1826a-d268-4fcb-a0de-320e8bfd279f"
      },
      "source": [
        "print(\"dt3 = \", dt3)\n",
        "print(\"type of dt3 =\", type(dt3))"
      ],
      "execution_count": 11,
      "outputs": [
        {
          "output_type": "stream",
          "text": [
            "dt3 =  201 days, 1:14:20\n",
            "type of dt3 = <class 'datetime.timedelta'>\n"
          ],
          "name": "stdout"
        }
      ]
    },
    {
      "cell_type": "code",
      "metadata": {
        "id": "YM8J43ZzHpZ8"
      },
      "source": [
        "td1 = timedelta(weeks=2, days=5, hours=1, seconds=33)\n",
        "td2 = timedelta(days=4, hours=11, minutes=4, seconds=54)\n",
        "\n",
        "td3 = td1 - td2"
      ],
      "execution_count": 12,
      "outputs": []
    },
    {
      "cell_type": "code",
      "metadata": {
        "colab": {
          "base_uri": "https://localhost:8080/"
        },
        "id": "cLXHG0_SH3P1",
        "outputId": "1402c8db-adb6-4829-d08b-6d90a4d8061d"
      },
      "source": [
        "print(\"td3 =\",td3)"
      ],
      "execution_count": 13,
      "outputs": [
        {
          "output_type": "stream",
          "text": [
            "td3 = 14 days, 13:55:39\n"
          ],
          "name": "stdout"
        }
      ]
    },
    {
      "cell_type": "code",
      "metadata": {
        "colab": {
          "base_uri": "https://localhost:8080/"
        },
        "id": "WnH481XrH5dP",
        "outputId": "9f5ad3e0-fa73-4ce0-f435-4082e1ae21c5"
      },
      "source": [
        "today = datetime.now()\n",
        "print('Now : ', today)\n",
        "print('Then :', today + timedelta(days=4))"
      ],
      "execution_count": 14,
      "outputs": [
        {
          "output_type": "stream",
          "text": [
            "Now :  2021-07-22 12:10:56.196613\n",
            "Then : 2021-07-26 12:10:56.196613\n"
          ],
          "name": "stdout"
        }
      ]
    },
    {
      "cell_type": "code",
      "metadata": {
        "colab": {
          "base_uri": "https://localhost:8080/"
        },
        "id": "c3x8MVh-ICRJ",
        "outputId": "13b0f5b0-cac3-4b74-abf1-a9f09a6d3707"
      },
      "source": [
        "now = datetime.now()\n",
        "print(\"today_strf:\", now.strftime(\"%d/%m/%Y, %H:%M:%S\"))"
      ],
      "execution_count": 15,
      "outputs": [
        {
          "output_type": "stream",
          "text": [
            "today_strf: 22/07/2021, 12:11:25\n"
          ],
          "name": "stdout"
        }
      ]
    },
    {
      "cell_type": "code",
      "metadata": {
        "colab": {
          "base_uri": "https://localhost:8080/"
        },
        "id": "d0g-VZpIIKBa",
        "outputId": "f13e9e1c-7705-48cb-d410-daa124487df4"
      },
      "source": [
        "date_string = \"19 December, 2019\"\n",
        "print(\"today_strf:\", now.strftime(\"%d/%m/%Y, %H:%M:%S\"))"
      ],
      "execution_count": 16,
      "outputs": [
        {
          "output_type": "stream",
          "text": [
            "today_strf: 22/07/2021, 12:11:25\n"
          ],
          "name": "stdout"
        }
      ]
    },
    {
      "cell_type": "code",
      "metadata": {
        "colab": {
          "base_uri": "https://localhost:8080/",
          "height": 37
        },
        "id": "6aME3ywhIa9B",
        "outputId": "e9ec59e4-6240-4ecf-f6cf-da11dc9a5b62"
      },
      "source": [
        "datetime.strftime(today, \"%Y/%m/%d %I:%M %p\")"
      ],
      "execution_count": 17,
      "outputs": [
        {
          "output_type": "execute_result",
          "data": {
            "application/vnd.google.colaboratory.intrinsic+json": {
              "type": "string"
            },
            "text/plain": [
              "'2021/07/22 12:10 PM'"
            ]
          },
          "metadata": {
            "tags": []
          },
          "execution_count": 17
        }
      ]
    },
    {
      "cell_type": "code",
      "metadata": {
        "colab": {
          "base_uri": "https://localhost:8080/",
          "height": 37
        },
        "id": "WymzrjAHIg0E",
        "outputId": "e5c2c19f-4e08-49be-82c3-117700c55bb2"
      },
      "source": [
        "datetime.strftime(today, \"%Y/%m/%d %H:%M \")"
      ],
      "execution_count": 18,
      "outputs": [
        {
          "output_type": "execute_result",
          "data": {
            "application/vnd.google.colaboratory.intrinsic+json": {
              "type": "string"
            },
            "text/plain": [
              "'2021/07/22 12:10 '"
            ]
          },
          "metadata": {
            "tags": []
          },
          "execution_count": 18
        }
      ]
    }
  ]
}