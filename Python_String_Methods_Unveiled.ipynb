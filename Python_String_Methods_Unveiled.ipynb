{
  "nbformat": 4,
  "nbformat_minor": 0,
  "metadata": {
    "colab": {
      "provenance": [],
      "authorship_tag": "ABX9TyPig3QIjzrauvm6wjTL+wNl"
    },
    "kernelspec": {
      "name": "python3",
      "display_name": "Python 3"
    },
    "language_info": {
      "name": "python"
    }
  },
  "cells": [
    {
      "cell_type": "markdown",
      "source": [
        "[Reference](https://medium.com/@ernestasena/python-string-methods-unveiled-part-two-4595cc22d90b)"
      ],
      "metadata": {
        "id": "FraHgle_DWTB"
      }
    },
    {
      "cell_type": "code",
      "execution_count": 1,
      "metadata": {
        "colab": {
          "base_uri": "https://localhost:8080/"
        },
        "id": "AusO1gENBFph",
        "outputId": "193fef4a-4a7f-45a2-c022-82d23b622a11"
      },
      "outputs": [
        {
          "output_type": "stream",
          "name": "stdout",
          "text": [
            "['To', 'be', 'or', 'not', 'to', 'be.']\n"
          ]
        }
      ],
      "source": [
        "sentence = \"To be or not to be.\"\n",
        "words = sentence.split()\n",
        "print(words)"
      ]
    },
    {
      "cell_type": "code",
      "source": [
        "words = [\"Python\", \"is\", \"awesome!\"]\n",
        "sentence = \" \".join(words)\n",
        "print(sentence)"
      ],
      "metadata": {
        "colab": {
          "base_uri": "https://localhost:8080/"
        },
        "id": "y4keVVHFDYPm",
        "outputId": "27e2308e-4235-47ad-cb33-f72a366f3d83"
      },
      "execution_count": 2,
      "outputs": [
        {
          "output_type": "stream",
          "name": "stdout",
          "text": [
            "Python is awesome!\n"
          ]
        }
      ]
    },
    {
      "cell_type": "code",
      "source": [
        "message = \"A needle in a haystack.\"\n",
        "index = message.find(\"needle\")\n",
        "print(index)"
      ],
      "metadata": {
        "colab": {
          "base_uri": "https://localhost:8080/"
        },
        "id": "2j_shoNtDaJh",
        "outputId": "df2a16d4-0df2-438d-e963-f7c1b759d1e3"
      },
      "execution_count": 3,
      "outputs": [
        {
          "output_type": "stream",
          "name": "stdout",
          "text": [
            "2\n"
          ]
        }
      ]
    },
    {
      "cell_type": "code",
      "source": [
        "message = \"The final word. The very final word.\"\n",
        "index = message.rfind(\"final\")\n",
        "print(index)"
      ],
      "metadata": {
        "colab": {
          "base_uri": "https://localhost:8080/"
        },
        "id": "ngbudktpDbhF",
        "outputId": "6be1a3f2-840b-44b9-9010-f6d27d308800"
      },
      "execution_count": 4,
      "outputs": [
        {
          "output_type": "stream",
          "name": "stdout",
          "text": [
            "25\n"
          ]
        }
      ]
    },
    {
      "cell_type": "code",
      "source": [
        "message = \"In pursuit of knowledge.\"\n",
        "index = message.index(\"knowledge\")\n",
        "print(index)"
      ],
      "metadata": {
        "colab": {
          "base_uri": "https://localhost:8080/"
        },
        "id": "Ex1YuXyjDc36",
        "outputId": "1ec937f7-3a40-48a1-da4f-90b36164a3e5"
      },
      "execution_count": 5,
      "outputs": [
        {
          "output_type": "stream",
          "name": "stdout",
          "text": [
            "14\n"
          ]
        }
      ]
    },
    {
      "cell_type": "code",
      "source": [
        "message = \"How many times does 'times' appear?\"\n",
        "count = message.count(\"times\")\n",
        "print(count)"
      ],
      "metadata": {
        "colab": {
          "base_uri": "https://localhost:8080/"
        },
        "id": "0P0W1OBZDgGR",
        "outputId": "51b4589c-f911-4bc9-d243-f506e278b814"
      },
      "execution_count": 6,
      "outputs": [
        {
          "output_type": "stream",
          "name": "stdout",
          "text": [
            "2\n"
          ]
        }
      ]
    },
    {
      "cell_type": "code",
      "source": [
        "alphanumeric = \"Python42\"\n",
        "is_alphanumeric = alphanumeric.isalnum()\n",
        "print(is_alphanumeric)"
      ],
      "metadata": {
        "colab": {
          "base_uri": "https://localhost:8080/"
        },
        "id": "WByNRBfHDhaQ",
        "outputId": "70414db6-e257-4669-b32f-dc95b1038350"
      },
      "execution_count": 7,
      "outputs": [
        {
          "output_type": "stream",
          "name": "stdout",
          "text": [
            "True\n"
          ]
        }
      ]
    },
    {
      "cell_type": "code",
      "source": [
        "alphabetic = \"Python\"\n",
        "is_alphabetic = alphabetic.isalpha()\n",
        "print(is_alphabetic)"
      ],
      "metadata": {
        "colab": {
          "base_uri": "https://localhost:8080/"
        },
        "id": "NzHYYWhvDs2K",
        "outputId": "df0fe3f5-b484-4dfc-feb5-067a1f4993f6"
      },
      "execution_count": 8,
      "outputs": [
        {
          "output_type": "stream",
          "name": "stdout",
          "text": [
            "True\n"
          ]
        }
      ]
    },
    {
      "cell_type": "code",
      "source": [
        "numeric = \"12345\"\n",
        "is_numeric = numeric.isdigit()\n",
        "print(is_numeric)"
      ],
      "metadata": {
        "colab": {
          "base_uri": "https://localhost:8080/"
        },
        "id": "7-Tj9u1VDwKd",
        "outputId": "b93fb47b-81c0-4b28-b566-dee4437efc5b"
      },
      "execution_count": 9,
      "outputs": [
        {
          "output_type": "stream",
          "name": "stdout",
          "text": [
            "True\n"
          ]
        }
      ]
    },
    {
      "cell_type": "code",
      "source": [
        "lowercase = \"python\"\n",
        "is_lowercase = lowercase.islower()\n",
        "print(is_lowercase)"
      ],
      "metadata": {
        "colab": {
          "base_uri": "https://localhost:8080/"
        },
        "id": "0dln9IPdD0kE",
        "outputId": "97092bdf-35d6-4a06-a380-a7312b93bd5d"
      },
      "execution_count": 10,
      "outputs": [
        {
          "output_type": "stream",
          "name": "stdout",
          "text": [
            "True\n"
          ]
        }
      ]
    },
    {
      "cell_type": "code",
      "source": [
        "uppercase = \"PYTHON\"\n",
        "is_uppercase = uppercase.isupper()\n",
        "print(is_uppercase)"
      ],
      "metadata": {
        "colab": {
          "base_uri": "https://localhost:8080/"
        },
        "id": "RPc4W5JsD55B",
        "outputId": "dc6ea69a-932f-4c9a-b79d-f131c0e4f168"
      },
      "execution_count": 11,
      "outputs": [
        {
          "output_type": "stream",
          "name": "stdout",
          "text": [
            "True\n"
          ]
        }
      ]
    },
    {
      "cell_type": "code",
      "source": [
        "numeric = \"42\"\n",
        "is_numeric = numeric.isnumeric()\n",
        "print(is_numeric)"
      ],
      "metadata": {
        "colab": {
          "base_uri": "https://localhost:8080/"
        },
        "id": "2hhPwZIwD7DL",
        "outputId": "94acf0be-18f2-4162-8d0b-74e8b7cb076d"
      },
      "execution_count": 12,
      "outputs": [
        {
          "output_type": "stream",
          "name": "stdout",
          "text": [
            "True\n"
          ]
        }
      ]
    },
    {
      "cell_type": "code",
      "source": [
        "decimal = \"123.45\"\n",
        "is_decimal = decimal.isdecimal()\n",
        "print(is_decimal)"
      ],
      "metadata": {
        "colab": {
          "base_uri": "https://localhost:8080/"
        },
        "id": "Q1T4UllnD77H",
        "outputId": "348ddf38-b50e-44a4-c819-fa737aa9e140"
      },
      "execution_count": 13,
      "outputs": [
        {
          "output_type": "stream",
          "name": "stdout",
          "text": [
            "False\n"
          ]
        }
      ]
    },
    {
      "cell_type": "code",
      "source": [
        "poem = \"Roses are red\\nViolets are blue\\nSugar is sweet\\nAnd so are you.\"\n",
        "lines = poem.splitlines()\n",
        "print(lines)"
      ],
      "metadata": {
        "colab": {
          "base_uri": "https://localhost:8080/"
        },
        "id": "Wi8-09QYD83X",
        "outputId": "86ae90bc-3a58-465e-e37c-c96501024b03"
      },
      "execution_count": 14,
      "outputs": [
        {
          "output_type": "stream",
          "name": "stdout",
          "text": [
            "['Roses are red', 'Violets are blue', 'Sugar is sweet', 'And so are you.']\n"
          ]
        }
      ]
    },
    {
      "cell_type": "code",
      "source": [
        "number = \"42\"\n",
        "padded_number = number.zfill(5)\n",
        "print(padded_number)"
      ],
      "metadata": {
        "colab": {
          "base_uri": "https://localhost:8080/"
        },
        "id": "UP8yFYOZD905",
        "outputId": "306b8fbf-5f38-4f1d-ff7c-63b31a352ebe"
      },
      "execution_count": 15,
      "outputs": [
        {
          "output_type": "stream",
          "name": "stdout",
          "text": [
            "00042\n"
          ]
        }
      ]
    }
  ]
}