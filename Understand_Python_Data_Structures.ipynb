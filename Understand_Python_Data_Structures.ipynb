{
  "nbformat": 4,
  "nbformat_minor": 0,
  "metadata": {
    "colab": {
      "provenance": [],
      "authorship_tag": "ABX9TyNvL/Lmgv5UJ2iBfAtY+Q2L"
    },
    "kernelspec": {
      "name": "python3",
      "display_name": "Python 3"
    },
    "language_info": {
      "name": "python"
    }
  },
  "cells": [
    {
      "cell_type": "markdown",
      "source": [
        "[Reference](https://medium.com/pythoneers/understand-python-data-structures-bee24c4e32fd)"
      ],
      "metadata": {
        "id": "YIFPuWXTW5aw"
      }
    },
    {
      "cell_type": "markdown",
      "source": [
        "# 1. Lists"
      ],
      "metadata": {
        "id": "DIyN4C96W7QT"
      }
    },
    {
      "cell_type": "code",
      "execution_count": 1,
      "metadata": {
        "colab": {
          "base_uri": "https://localhost:8080/"
        },
        "id": "Bw5Iw2jMUyXz",
        "outputId": "29ed4fe5-b010-4824-aebb-6d917503f917"
      },
      "outputs": [
        {
          "output_type": "stream",
          "name": "stdout",
          "text": [
            "The winner is Smith\n"
          ]
        }
      ],
      "source": [
        "import random\n",
        "participants = ['John','David','Branden','Smith','Patrick']\n",
        "print(\"The winner is\", random.choice(participants))"
      ]
    },
    {
      "cell_type": "markdown",
      "source": [
        "# 2. Tuples"
      ],
      "metadata": {
        "id": "GJm44s3EXIRt"
      }
    },
    {
      "cell_type": "code",
      "source": [
        "days=(\"Monday\",\"Tuesday\",\"Wednesday\",\"Thursday\",\"Friday\",\"Saturday\",\"Sunday\")\n",
        "print(days)"
      ],
      "metadata": {
        "colab": {
          "base_uri": "https://localhost:8080/"
        },
        "id": "DE3VtdlTXHym",
        "outputId": "8b460570-4c9d-4ef4-881d-1a85766f86b9"
      },
      "execution_count": 2,
      "outputs": [
        {
          "output_type": "stream",
          "name": "stdout",
          "text": [
            "('Monday', 'Tuesday', 'Wednesday', 'Thursday', 'Friday', 'Saturday', 'Sunday')\n"
          ]
        }
      ]
    },
    {
      "cell_type": "markdown",
      "source": [
        "# 3. Sets"
      ],
      "metadata": {
        "id": "Xqdc6hV6XT77"
      }
    },
    {
      "cell_type": "code",
      "source": [
        "employee_id = {\"1\",\"2\",\"3\",\"4\",\"5\",\"6\",\"7\",\"8\"}\n",
        "print(employee_id)"
      ],
      "metadata": {
        "colab": {
          "base_uri": "https://localhost:8080/"
        },
        "id": "JhlT0tAyXRmh",
        "outputId": "610800fe-361f-465b-aef2-ce450cdbe5f4"
      },
      "execution_count": 3,
      "outputs": [
        {
          "output_type": "stream",
          "name": "stdout",
          "text": [
            "{'3', '5', '2', '4', '6', '8', '1', '7'}\n"
          ]
        }
      ]
    },
    {
      "cell_type": "markdown",
      "source": [
        "# 4. Dictionary"
      ],
      "metadata": {
        "id": "Tcp_KTG6XexG"
      }
    },
    {
      "cell_type": "code",
      "source": [
        "password = {\"facebook\":\"qwer1234\",\n",
        "            \"google\":\"abcd1234\",\n",
        "            \"instagram\":\"zxcv1234\"}\n",
        "print(password)"
      ],
      "metadata": {
        "colab": {
          "base_uri": "https://localhost:8080/"
        },
        "id": "PneuPgxQXdMo",
        "outputId": "bfb4a814-5294-4286-e156-7234f9a97df6"
      },
      "execution_count": 4,
      "outputs": [
        {
          "output_type": "stream",
          "name": "stdout",
          "text": [
            "{'facebook': 'qwer1234', 'google': 'abcd1234', 'instagram': 'zxcv1234'}\n"
          ]
        }
      ]
    }
  ]
}