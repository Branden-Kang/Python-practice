{
  "nbformat": 4,
  "nbformat_minor": 0,
  "metadata": {
    "colab": {
      "provenance": [],
      "authorship_tag": "ABX9TyMw0x5JvAaIRbkkpXHCPFwC"
    },
    "kernelspec": {
      "name": "python3",
      "display_name": "Python 3"
    },
    "language_info": {
      "name": "python"
    }
  },
  "cells": [
    {
      "cell_type": "markdown",
      "source": [
        "[Reference](https://levelup.gitconnected.com/exploring-the-scikit-learn-library-10-practical-examples-of-machine-learning-algorithms-with-62fe002d2c7c)"
      ],
      "metadata": {
        "id": "BpSwsGVbT28B"
      }
    },
    {
      "cell_type": "markdown",
      "source": [
        "# 1. Linear Regression"
      ],
      "metadata": {
        "id": "3D-Wvm3LT-Zs"
      }
    },
    {
      "cell_type": "code",
      "execution_count": 1,
      "metadata": {
        "id": "t2ezGZBHTmgm"
      },
      "outputs": [],
      "source": [
        "# from sklearn.linear_model import LinearRegression\n",
        "# import pandas as pd\n",
        "\n",
        "# # Load the dataset\n",
        "# data = pd.read_csv(\"house_prices.csv\")\n",
        "\n",
        "# # separates independent (features) and dependent (prices) variables\n",
        "# X = data.drop(\"price\", axis=1)\n",
        "# y = data[\"price\"]\n",
        "\n",
        "# # create the linear regression model\n",
        "# model = LinearRegression()\n",
        "\n",
        "# # fit the model to the data\n",
        "# model.fit(X, y)\n",
        "\n",
        "# # perform a prediction for a new set of features\n",
        "# new_house= [[1500, 3, 2]]  # area, rooms, bathrooms\n",
        "# price= model.predict(nova_casa)\n",
        "\n",
        "# print(\"Expected price for the new house:\", price)"
      ]
    },
    {
      "cell_type": "markdown",
      "source": [
        "# 2. Logistic Regression"
      ],
      "metadata": {
        "id": "dsvrw1ynT8kg"
      }
    },
    {
      "cell_type": "code",
      "source": [
        "from sklearn.linear_model import LogisticRegression\n",
        "from sklearn.datasets import load_iris\n",
        "from sklearn.model_selection import train_test_split\n",
        "\n",
        "# load the iris dataset\n",
        "iris = load_iris()\n",
        "\n",
        "# split the dataset into training and testing sets\n",
        "X_train, X_test, y_train, y_test = train_test_split(iris.data, iris.target, test_size=0.3)\n",
        "\n",
        "# create the logistic regression model\n",
        "logreg = LogisticRegression()\n",
        "\n",
        "# fit the model to the training data\n",
        "logreg.fit(X_train, y_train)\n",
        "\n",
        "# predict the target values for the test data\n",
        "y_pred = logreg.predict(X_test)\n",
        "\n",
        "# print the accuracy score of the model\n",
        "print(\"Accuracy:\", logreg.score(X_test, y_test))"
      ],
      "metadata": {
        "colab": {
          "base_uri": "https://localhost:8080/"
        },
        "id": "CyhTEEsrT6Zt",
        "outputId": "5a2839d9-b463-46d5-c823-12c39329bb9d"
      },
      "execution_count": 2,
      "outputs": [
        {
          "output_type": "stream",
          "name": "stdout",
          "text": [
            "Accuracy: 0.9333333333333333\n"
          ]
        }
      ]
    },
    {
      "cell_type": "markdown",
      "source": [
        "# 3. Decision Tree"
      ],
      "metadata": {
        "id": "UKjuFbvXUAq-"
      }
    },
    {
      "cell_type": "code",
      "source": [
        "from sklearn.datasets import load_iris\n",
        "from sklearn.tree import DecisionTreeClassifier\n",
        "\n",
        "# load the iris dataset\n",
        "iris = load_iris()\n",
        "\n",
        "# separate the features (independent variables) and target (dependent variable)\n",
        "X = iris.data\n",
        "y = iris.target\n",
        "\n",
        "# create a Decision Tree classifier\n",
        "clf = DecisionTreeClassifier()\n",
        "\n",
        "# fit the model to the data\n",
        "clf.fit(X, y)\n",
        "\n",
        "# use the model to make predictions\n",
        "new_observation = [[5.2, 3.1, 4.2, 1.5]] # a new observation to predict\n",
        "prediction = clf.predict(new_observation)\n",
        "\n",
        "print(\"Prediction for the new observation:\", prediction)"
      ],
      "metadata": {
        "colab": {
          "base_uri": "https://localhost:8080/"
        },
        "id": "5W7KFz0aT7tO",
        "outputId": "3d068c6a-aad3-4e9a-b369-4a4216328251"
      },
      "execution_count": 4,
      "outputs": [
        {
          "output_type": "stream",
          "name": "stdout",
          "text": [
            "Prediction for the new observation: [1]\n"
          ]
        }
      ]
    },
    {
      "cell_type": "markdown",
      "source": [
        "# 4. Random Forest"
      ],
      "metadata": {
        "id": "EupDaK92UGQu"
      }
    },
    {
      "cell_type": "code",
      "source": [
        "from sklearn.ensemble import RandomForestClassifier\n",
        "from sklearn.datasets import make_classification\n",
        "\n",
        "# generate a random dataset\n",
        "X, y = make_classification(n_features=4, random_state=0)\n",
        "\n",
        "# create a random forest classifier with 100 estimators\n",
        "rf = RandomForestClassifier(n_estimators=100, random_state=0)\n",
        "\n",
        "# fit the model to the data\n",
        "rf.fit(X, y)\n",
        "\n",
        "# predict the class of a new observation\n",
        "new_observation = [[-2, 2, -1, 1]]\n",
        "print(\"Predicted class:\", rf.predict(new_observation))"
      ],
      "metadata": {
        "colab": {
          "base_uri": "https://localhost:8080/"
        },
        "id": "pPLM3nPuUB__",
        "outputId": "4fc65ab8-1fdb-4afd-8b60-af8071b529af"
      },
      "execution_count": 5,
      "outputs": [
        {
          "output_type": "stream",
          "name": "stdout",
          "text": [
            "Predicted class: [0]\n"
          ]
        }
      ]
    },
    {
      "cell_type": "markdown",
      "source": [
        "# 5. Support Vector Machines"
      ],
      "metadata": {
        "id": "9YY-2kpXUJpb"
      }
    },
    {
      "cell_type": "code",
      "source": [
        "from sklearn import datasets\n",
        "from sklearn.model_selection import train_test_split\n",
        "from sklearn import svm\n",
        "\n",
        "# Load the iris dataset\n",
        "iris = datasets.load_iris()\n",
        "\n",
        "# Split the dataset into training and testing sets\n",
        "X_train, X_test, y_train, y_test = train_test_split(iris.data, iris.target, test_size=0.3, random_state=42)\n",
        "\n",
        "# Create an SVM classifier with a linear kernel\n",
        "clf = svm.SVC(kernel='linear')\n",
        "\n",
        "# Train the SVM classifier on the training set\n",
        "clf.fit(X_train, y_train)\n",
        "\n",
        "# Make predictions on the test set\n",
        "y_pred = clf.predict(X_test)\n",
        "\n",
        "# Print the accuracy of the classifier\n",
        "accuracy = clf.score(X_test, y_test)\n",
        "print(\"Accuracy:\", accuracy)"
      ],
      "metadata": {
        "colab": {
          "base_uri": "https://localhost:8080/"
        },
        "id": "Gb9VM4pGUH5I",
        "outputId": "8c346b9d-2054-4264-c37f-b186f3483e20"
      },
      "execution_count": 6,
      "outputs": [
        {
          "output_type": "stream",
          "name": "stdout",
          "text": [
            "Accuracy: 1.0\n"
          ]
        }
      ]
    },
    {
      "cell_type": "markdown",
      "source": [
        "# 6. Naive Bayes"
      ],
      "metadata": {
        "id": "zZLtU_cQULxP"
      }
    },
    {
      "cell_type": "code",
      "source": [
        "from sklearn.naive_bayes import GaussianNB\n",
        "import numpy as np\n",
        "\n",
        "# training data\n",
        "X = np.array([[-1, -1], [-2, -1], [-3, -2], [1, 1], [2, 1], [3, 2]])\n",
        "Y = np.array([1, 1, 1, 2, 2, 2])\n",
        "\n",
        "# create Naive Bayes classifier and fit to the data\n",
        "clf = GaussianNB()\n",
        "clf.fit(X, Y)\n",
        "\n",
        "# make a prediction for a new data point\n",
        "new_point = [[0, 0]]\n",
        "prediction = clf.predict(new_point)\n",
        "\n",
        "print(\"Prediction:\", prediction)"
      ],
      "metadata": {
        "colab": {
          "base_uri": "https://localhost:8080/"
        },
        "id": "_ddp808YUK2d",
        "outputId": "1e7fc9c6-626f-4b30-d4c1-51e1d482b3b9"
      },
      "execution_count": 7,
      "outputs": [
        {
          "output_type": "stream",
          "name": "stdout",
          "text": [
            "Prediction: [1]\n"
          ]
        }
      ]
    },
    {
      "cell_type": "markdown",
      "source": [
        "# 7. k-Neares Neighbors"
      ],
      "metadata": {
        "id": "IUrkPQ6LUPMO"
      }
    },
    {
      "cell_type": "code",
      "source": [
        "from sklearn.neighbors import KNeighborsClassifier\n",
        "from sklearn.datasets import load_iris\n",
        "from sklearn.model_selection import train_test_split\n",
        "\n",
        "# load the iris dataset\n",
        "iris = load_iris()\n",
        "\n",
        "# split the dataset into training and testing sets\n",
        "X_train, X_test, y_train, y_test = train_test_split(iris.data, iris.target, test_size=0.3)\n",
        "\n",
        "# create a kNN classifier with k=3\n",
        "knn = KNeighborsClassifier(n_neighbors=3)\n",
        "\n",
        "# fit the classifier to the training data\n",
        "knn.fit(X_train, y_train)\n",
        "\n",
        "# predict the classes of the testing set\n",
        "y_pred = knn.predict(X_test)\n",
        "\n",
        "# print the accuracy of the classifier\n",
        "accuracy = knn.score(X_test, y_test)\n",
        "print(\"Accuracy:\", accuracy)"
      ],
      "metadata": {
        "colab": {
          "base_uri": "https://localhost:8080/"
        },
        "id": "8DoD9WVlUNZL",
        "outputId": "c9f094ed-f8c3-4a03-b42b-66e391d0d29a"
      },
      "execution_count": 8,
      "outputs": [
        {
          "output_type": "stream",
          "name": "stdout",
          "text": [
            "Accuracy: 0.9777777777777777\n"
          ]
        }
      ]
    },
    {
      "cell_type": "markdown",
      "source": [
        "# 8. Gradient Boosting"
      ],
      "metadata": {
        "id": "BXAkzPseUSZw"
      }
    },
    {
      "cell_type": "code",
      "source": [
        "from sklearn.datasets import make_classification\n",
        "from sklearn.ensemble import GradientBoostingClassifier\n",
        "from sklearn.model_selection import train_test_split\n",
        "from sklearn.metrics import accuracy_score\n",
        "\n",
        "# generate a random binary classification dataset\n",
        "X, y = make_classification(n_samples=1000, n_features=10, n_informative=5, random_state=42)\n",
        "\n",
        "# split the data into training and testing sets\n",
        "X_train, X_test, y_train, y_test = train_test_split(X, y, test_size=0.2, random_state=42)\n",
        "\n",
        "# create a gradient boosting classifier with default parameters\n",
        "clf = GradientBoostingClassifier()\n",
        "\n",
        "# train the model on the training data\n",
        "clf.fit(X_train, y_train)\n",
        "\n",
        "# make predictions on the test data\n",
        "y_pred = clf.predict(X_test)\n",
        "\n",
        "# calculate the accuracy of the model\n",
        "accuracy = accuracy_score(y_test, y_pred)\n",
        "print(\"Accuracy:\", accuracy)"
      ],
      "metadata": {
        "colab": {
          "base_uri": "https://localhost:8080/"
        },
        "id": "xp_Xs7-vUQ5y",
        "outputId": "d1262ad7-36cb-4ffd-c865-11e11c8d16e5"
      },
      "execution_count": 9,
      "outputs": [
        {
          "output_type": "stream",
          "name": "stdout",
          "text": [
            "Accuracy: 0.96\n"
          ]
        }
      ]
    },
    {
      "cell_type": "markdown",
      "source": [
        "# 9. Artificial Neural Networks"
      ],
      "metadata": {
        "id": "qmRT6X1fUYpi"
      }
    },
    {
      "cell_type": "code",
      "source": [
        "from sklearn.neural_network import MLPClassifier\n",
        "from sklearn.datasets import load_iris\n",
        "from sklearn.model_selection import train_test_split\n",
        "\n",
        "# load the dataset\n",
        "data = load_iris()\n",
        "\n",
        "# split the data into training and testing sets\n",
        "X_train, X_test, y_train, y_test = train_test_split(data.data, data.target, random_state=1)\n",
        "\n",
        "# create the neural network model\n",
        "model = MLPClassifier(hidden_layer_sizes=(10,))\n",
        "\n",
        "# train the model on the training data\n",
        "model.fit(X_train, y_train)\n",
        "\n",
        "# evaluate the model on the testing data\n",
        "accuracy = model.score(X_test, y_test)\n",
        "print(\"Accuracy:\", accuracy)"
      ],
      "metadata": {
        "colab": {
          "base_uri": "https://localhost:8080/"
        },
        "id": "20o7HXeHUXdP",
        "outputId": "fa87d2c9-7c82-4402-980a-b5a0e0656240"
      },
      "execution_count": 10,
      "outputs": [
        {
          "output_type": "stream",
          "name": "stdout",
          "text": [
            "Accuracy: 0.8157894736842105\n"
          ]
        },
        {
          "output_type": "stream",
          "name": "stderr",
          "text": [
            "/usr/local/lib/python3.9/dist-packages/sklearn/neural_network/_multilayer_perceptron.py:686: ConvergenceWarning: Stochastic Optimizer: Maximum iterations (200) reached and the optimization hasn't converged yet.\n",
            "  warnings.warn(\n"
          ]
        }
      ]
    },
    {
      "cell_type": "markdown",
      "source": [
        "# 10. Principal Component Analysis"
      ],
      "metadata": {
        "id": "WV8Rx3SaUgAs"
      }
    },
    {
      "cell_type": "code",
      "source": [
        "from sklearn.datasets import load_iris\n",
        "from sklearn.decomposition import PCA\n",
        "import matplotlib.pyplot as plt\n",
        "\n",
        "# Load the iris dataset\n",
        "iris = load_iris()\n",
        "\n",
        "# Apply PCA to the dataset\n",
        "pca = PCA(n_components=2)\n",
        "X_pca = pca.fit_transform(iris.data)\n",
        "\n",
        "# Plot the first two principal components\n",
        "plt.scatter(X_pca[:, 0], X_pca[:, 1], c=iris.target)\n",
        "plt.xlabel('First Principal Component')\n",
        "plt.ylabel('Second Principal Component')\n",
        "plt.show()"
      ],
      "metadata": {
        "colab": {
          "base_uri": "https://localhost:8080/",
          "height": 454
        },
        "id": "y9m1s3QMUbYh",
        "outputId": "f17b9f60-22d9-49f1-b1f8-18c6b929909d"
      },
      "execution_count": 11,
      "outputs": [
        {
          "output_type": "display_data",
          "data": {
            "text/plain": [
              "<Figure size 640x480 with 1 Axes>"
            ],
            "image/png": "[encoded data removed]"
          },
          "metadata": {}
        }
      ]
    },
    {
      "cell_type": "markdown",
      "source": [
        "# 11. Linear Discriminant Analysis"
      ],
      "metadata": {
        "id": "RdrQ1WLVUniE"
      }
    },
    {
      "cell_type": "code",
      "source": [
        "from sklearn.discriminant_analysis import LinearDiscriminantAnalysis\n",
        "from sklearn.datasets import load_iris\n",
        "\n",
        "# Load the iris dataset\n",
        "iris = load_iris()\n",
        "\n",
        "# Separate the features and target variable\n",
        "X = iris.data\n",
        "y = iris.target\n",
        "\n",
        "# Create an instance of the LinearDiscriminantAnalysis class\n",
        "lda = LinearDiscriminantAnalysis()\n",
        "\n",
        "# Fit the LDA model to the data\n",
        "lda.fit(X, y)\n",
        "\n",
        "# Transform the data to the new coordinate system\n",
        "X_lda = lda.transform(X)\n",
        "\n",
        "# Print the first three rows of the transformed data\n",
        "print(X_lda[:3])"
      ],
      "metadata": {
        "colab": {
          "base_uri": "https://localhost:8080/"
        },
        "id": "1ccJ6zpTUoKj",
        "outputId": "aee6e564-5d30-47bd-be23-d8dc420c36d9"
      },
      "execution_count": 12,
      "outputs": [
        {
          "output_type": "stream",
          "name": "stdout",
          "text": [
            "[[ 8.06179978  0.30042062]\n",
            " [ 7.12868772 -0.78666043]\n",
            " [ 7.48982797 -0.26538449]]\n"
          ]
        }
      ]
    },
    {
      "cell_type": "markdown",
      "source": [
        "# Clustering k-Means"
      ],
      "metadata": {
        "id": "0GTx4oWpUrwl"
      }
    },
    {
      "cell_type": "code",
      "source": [
        "from sklearn.cluster import KMeans\n",
        "import numpy as np\n",
        "\n",
        "# Create some example data\n",
        "X = np.array([[1, 2], [1, 4], [1, 0],\n",
        "              [4, 2], [4, 4], [4, 0]])\n",
        "\n",
        "# Create a KMeans model with 2 clusters\n",
        "kmeans = KMeans(n_clusters=2)\n",
        "\n",
        "# Fit the model to the data\n",
        "kmeans.fit(X)\n",
        "\n",
        "# Print the cluster assignments\n",
        "print(kmeans.labels_)"
      ],
      "metadata": {
        "colab": {
          "base_uri": "https://localhost:8080/"
        },
        "id": "_ntX-WQyUqO2",
        "outputId": "047944de-7478-4cd7-8412-f2f0e1dfc943"
      },
      "execution_count": 13,
      "outputs": [
        {
          "output_type": "stream",
          "name": "stderr",
          "text": [
            "/usr/local/lib/python3.9/dist-packages/sklearn/cluster/_kmeans.py:870: FutureWarning: The default value of `n_init` will change from 10 to 'auto' in 1.4. Set the value of `n_init` explicitly to suppress the warning\n",
            "  warnings.warn(\n"
          ]
        },
        {
          "output_type": "stream",
          "name": "stdout",
          "text": [
            "[1 1 1 0 0 0]\n"
          ]
        }
      ]
    }
  ]
}