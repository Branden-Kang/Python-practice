{
  "nbformat": 4,
  "nbformat_minor": 0,
  "metadata": {
    "colab": {
      "name": "Summary of List comprehension in Python.ipynb",
      "provenance": [],
      "authorship_tag": "ABX9TyOd4Q5ONLzLyIoZO/RphzeW"
    },
    "kernelspec": {
      "name": "python3",
      "display_name": "Python 3"
    }
  },
  "cells": [
    {
      "cell_type": "markdown",
      "metadata": {
        "id": "mW9Ph-_fc32d"
      },
      "source": [
        "[Reference](https://medium.com/@soorajparakkattil/list-comprehension-in-python-a68e6ba93fbf)"
      ]
    },
    {
      "cell_type": "markdown",
      "metadata": {
        "id": "Xo11xMSheo70"
      },
      "source": [
        "```python\n",
        "[ expression for item in list if conditional ]\n",
        "```"
      ]
    },
    {
      "cell_type": "code",
      "metadata": {
        "id": "VMhakM40cz7M"
      },
      "source": [
        "# new_list = []\n",
        "# for i in old_list:\n",
        "#     if filter(i):\n",
        "#         new_list.append(expressions(i))"
      ],
      "execution_count": 13,
      "outputs": []
    },
    {
      "cell_type": "code",
      "metadata": {
        "colab": {
          "base_uri": "https://localhost:8080/"
        },
        "id": "IjNsI8edc77Z",
        "outputId": "6680a8ae-fa0f-444b-89e9-c0501e74b6da"
      },
      "source": [
        "squares = []\n",
        "for x in range(10):\n",
        "     squares.append(x**2)\n",
        "squares"
      ],
      "execution_count": 4,
      "outputs": [
        {
          "output_type": "execute_result",
          "data": {
            "text/plain": [
              "[0, 1, 4, 9, 16, 25, 36, 49, 64, 81]"
            ]
          },
          "metadata": {
            "tags": []
          },
          "execution_count": 4
        }
      ]
    },
    {
      "cell_type": "code",
      "metadata": {
        "id": "OgNN3jPTc9fx"
      },
      "source": [
        "combs = []\n",
        "for x in [1,2,3]:\n",
        "     for y in [3,1,4]:\n",
        "         if x != y:\n",
        "             combs.append((x, y))"
      ],
      "execution_count": 5,
      "outputs": []
    },
    {
      "cell_type": "code",
      "metadata": {
        "colab": {
          "base_uri": "https://localhost:8080/"
        },
        "id": "97d0vcaedhxB",
        "outputId": "b439da49-3350-4fe7-a14d-684bb14f80b1"
      },
      "source": [
        "# new_list = [expression(i) for i in old_list if filter(i)]\n",
        "\n",
        "squares = list(map(lambda x: x**2, range(10)))#OR\n",
        "\n",
        "squares = [x**2 for x in range(10)]\n",
        "\n",
        "[(x, y) for x in [1,2,3] for y in [3,1,4] if x != y]"
      ],
      "execution_count": 15,
      "outputs": [
        {
          "output_type": "execute_result",
          "data": {
            "text/plain": [
              "[(1, 3), (1, 4), (2, 3), (2, 1), (2, 4), (3, 1), (3, 4)]"
            ]
          },
          "metadata": {
            "tags": []
          },
          "execution_count": 15
        }
      ]
    },
    {
      "cell_type": "markdown",
      "metadata": {
        "id": "e4GsfMhResPF"
      },
      "source": [
        "# List Comprehensions vs Lambda functions"
      ]
    },
    {
      "cell_type": "code",
      "metadata": {
        "colab": {
          "base_uri": "https://localhost:8080/"
        },
        "id": "HfXqCXkvelEF",
        "outputId": "c4ab14e1-a8ff-4ee3-b116-3a9b9f77b6ae"
      },
      "source": [
        "letters = list(map(lambda x: x, 'human'))\n",
        "print(letters)"
      ],
      "execution_count": 16,
      "outputs": [
        {
          "output_type": "stream",
          "text": [
            "['h', 'u', 'm', 'a', 'n']\n"
          ],
          "name": "stdout"
        }
      ]
    },
    {
      "cell_type": "markdown",
      "metadata": {
        "id": "RymwGbXQfG1g"
      },
      "source": [
        "# 1.Iterating through a string Using List Comprehension"
      ]
    },
    {
      "cell_type": "code",
      "metadata": {
        "colab": {
          "base_uri": "https://localhost:8080/"
        },
        "id": "9teBe-d9e4sn",
        "outputId": "8c7e9cba-433d-4041-b98a-c8cd93b0af56"
      },
      "source": [
        "h_letters = [ letter for letter in 'human' ]\n",
        "print( h_letters)"
      ],
      "execution_count": 17,
      "outputs": [
        {
          "output_type": "stream",
          "text": [
            "['h', 'u', 'm', 'a', 'n']\n"
          ],
          "name": "stdout"
        }
      ]
    },
    {
      "cell_type": "markdown",
      "metadata": {
        "id": "Nzv6fJZ6fWvZ"
      },
      "source": [
        "# 2.using Conditionals in List Comprehension"
      ]
    },
    {
      "cell_type": "code",
      "metadata": {
        "colab": {
          "base_uri": "https://localhost:8080/"
        },
        "id": "io0WhQtyfVck",
        "outputId": "979bb34c-4663-401c-fdd3-8748c9d37901"
      },
      "source": [
        "number_list = [ x for x in range(20) if x % 2 == 0]\n",
        "print(number_list)"
      ],
      "execution_count": 18,
      "outputs": [
        {
          "output_type": "stream",
          "text": [
            "[0, 2, 4, 6, 8, 10, 12, 14, 16, 18]\n"
          ],
          "name": "stdout"
        }
      ]
    },
    {
      "cell_type": "markdown",
      "metadata": {
        "id": "XU4IGXhIfYfj"
      },
      "source": [
        "# 3.Nested IF with List Comprehension"
      ]
    },
    {
      "cell_type": "code",
      "metadata": {
        "colab": {
          "base_uri": "https://localhost:8080/"
        },
        "id": "3kPbcK6ifXnt",
        "outputId": "15209e4a-e98f-48a6-93bc-df2a73a49328"
      },
      "source": [
        "num_list = [y for y in range(100) if y % 2 == 0 if y % 5 == 0]\n",
        "print(num_list)"
      ],
      "execution_count": 19,
      "outputs": [
        {
          "output_type": "stream",
          "text": [
            "[0, 10, 20, 30, 40, 50, 60, 70, 80, 90]\n"
          ],
          "name": "stdout"
        }
      ]
    },
    {
      "cell_type": "markdown",
      "metadata": {
        "id": "pYq8y50efhuE"
      },
      "source": [
        "# 5.Nested List Comprehensions"
      ]
    },
    {
      "cell_type": "code",
      "metadata": {
        "colab": {
          "base_uri": "https://localhost:8080/"
        },
        "id": "P49J-QZafZfu",
        "outputId": "e455344f-3588-4115-e274-7042db32f044"
      },
      "source": [
        "transposed = []\n",
        "matrix = [[1, 2, 3, 4], [4, 5, 6, 8]]\n",
        "\n",
        "for i in range(len(matrix[0])):\n",
        "    transposed_row = []\n",
        "       \n",
        "    for row in matrix:\n",
        "        transposed_row.append(row[i])\n",
        "    transposed.append(transposed_row)\n",
        "\n",
        "print(transposed)"
      ],
      "execution_count": 20,
      "outputs": [
        {
          "output_type": "stream",
          "text": [
            "[[1, 4], [2, 5], [3, 6], [4, 8]]\n"
          ],
          "name": "stdout"
        }
      ]
    },
    {
      "cell_type": "code",
      "metadata": {
        "colab": {
          "base_uri": "https://localhost:8080/"
        },
        "id": "MIumoHQwfmk4",
        "outputId": "a77c2004-44b9-4f76-ccdb-311ffa7a9731"
      },
      "source": [
        "matrix = [[1, 2], [3,4], [5,6], [7,8]]\n",
        "transpose = [[row[i] for row in matrix] for i in range(2)]\n",
        "print(transpose)"
      ],
      "execution_count": 21,
      "outputs": [
        {
          "output_type": "stream",
          "text": [
            "[[1, 3, 5, 7], [2, 4, 6, 8]]\n"
          ],
          "name": "stdout"
        }
      ]
    }
  ]
}