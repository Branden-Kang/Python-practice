{
  "nbformat": 4,
  "nbformat_minor": 0,
  "metadata": {
    "colab": {
      "name": "Tips For Python - Counter.ipynb",
      "provenance": [],
      "authorship_tag": "ABX9TyOHdpwtT/4fW/VNnaTawKOj"
    },
    "kernelspec": {
      "name": "python3",
      "display_name": "Python 3"
    },
    "language_info": {
      "name": "python"
    }
  },
  "cells": [
    {
      "cell_type": "markdown",
      "metadata": {
        "id": "9nDq1Kvk7lLV"
      },
      "source": [
        "[Reference](https://cruizbran.medium.com/tips-for-python-c8e362ee7732)"
      ]
    },
    {
      "cell_type": "code",
      "metadata": {
        "id": "97fEa1aq7WOJ"
      },
      "source": [
        "from collections import Counter\n",
        "\n",
        "letters=[\"a\",\"a\",\"e\",'r',\"b\",\"x\",\"y\",\"w\",\"e\",\"x\",\"a\",\"r\",\"a\",\"e\"]"
      ],
      "execution_count": 2,
      "outputs": []
    },
    {
      "cell_type": "code",
      "metadata": {
        "colab": {
          "base_uri": "https://localhost:8080/"
        },
        "id": "UBCzb5jN7okp",
        "outputId": "48ebf736-462d-45a5-f54d-8eb06ee93b08"
      },
      "source": [
        "Counter(letters)"
      ],
      "execution_count": 3,
      "outputs": [
        {
          "output_type": "execute_result",
          "data": {
            "text/plain": [
              "Counter({'a': 4, 'b': 1, 'e': 3, 'r': 2, 'w': 1, 'x': 2, 'y': 1})"
            ]
          },
          "metadata": {
            "tags": []
          },
          "execution_count": 3
        }
      ]
    },
    {
      "cell_type": "code",
      "metadata": {
        "colab": {
          "base_uri": "https://localhost:8080/"
        },
        "id": "4mzW3klc7p5E",
        "outputId": "a7b55716-8292-4f91-a7cf-e265e59e0720"
      },
      "source": [
        "t_string=\"Hello! I am a string that is gonna be tested on!\"\n",
        "Counter(t_string)"
      ],
      "execution_count": 4,
      "outputs": [
        {
          "output_type": "execute_result",
          "data": {
            "text/plain": [
              "Counter({' ': 10,\n",
              "         '!': 2,\n",
              "         'H': 1,\n",
              "         'I': 1,\n",
              "         'a': 4,\n",
              "         'b': 1,\n",
              "         'd': 1,\n",
              "         'e': 4,\n",
              "         'g': 2,\n",
              "         'h': 1,\n",
              "         'i': 2,\n",
              "         'l': 2,\n",
              "         'm': 1,\n",
              "         'n': 4,\n",
              "         'o': 3,\n",
              "         'r': 1,\n",
              "         's': 3,\n",
              "         't': 5})"
            ]
          },
          "metadata": {
            "tags": []
          },
          "execution_count": 4
        }
      ]
    },
    {
      "cell_type": "code",
      "metadata": {
        "colab": {
          "base_uri": "https://localhost:8080/"
        },
        "id": "sTQrhecF8iW8",
        "outputId": "85c0dfba-06bc-41b0-b48b-b884e6d68ad8"
      },
      "source": [
        "Counter(letters)\n",
        "\n",
        "Counter({'a': 4, 'e': 3, 'r': 2, 'b': 1, 'x': 2, 'y': 1, 'w': 1})\n",
        "\n",
        "var_a = Counter(letters)\n",
        "\n",
        "print(var_a)"
      ],
      "execution_count": 5,
      "outputs": [
        {
          "output_type": "stream",
          "text": [
            "Counter({'a': 4, 'e': 3, 'r': 2, 'x': 2, 'b': 1, 'y': 1, 'w': 1})\n"
          ],
          "name": "stdout"
        }
      ]
    },
    {
      "cell_type": "code",
      "metadata": {
        "colab": {
          "base_uri": "https://localhost:8080/"
        },
        "id": "rNSoLXCe8orB",
        "outputId": "ac60868e-f403-4ed2-e61a-58c9aade7cc0"
      },
      "source": [
        "var_b = dict(Counter(letters))\n",
        "print(var_b)"
      ],
      "execution_count": 7,
      "outputs": [
        {
          "output_type": "stream",
          "text": [
            "{'a': 4, 'e': 3, 'r': 2, 'b': 1, 'x': 2, 'y': 1, 'w': 1}\n"
          ],
          "name": "stdout"
        }
      ]
    },
    {
      "cell_type": "code",
      "metadata": {
        "colab": {
          "base_uri": "https://localhost:8080/"
        },
        "id": "gU7l9QGW-Gwa",
        "outputId": "c6c7f238-d590-47e8-e6bd-2a944136f6c8"
      },
      "source": [
        "print(Counter(letters).items())\n",
        "\n",
        "print(Counter(letters).keys())\n",
        "\n",
        "print(Counter(letters).values())"
      ],
      "execution_count": 9,
      "outputs": [
        {
          "output_type": "stream",
          "text": [
            "dict_items([('a', 4), ('e', 3), ('r', 2), ('b', 1), ('x', 2), ('y', 1), ('w', 1)])\n",
            "dict_keys(['a', 'e', 'r', 'b', 'x', 'y', 'w'])\n",
            "dict_values([4, 3, 2, 1, 2, 1, 1])\n"
          ],
          "name": "stdout"
        }
      ]
    }
  ]
}