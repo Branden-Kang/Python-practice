{
  "nbformat": 4,
  "nbformat_minor": 0,
  "metadata": {
    "colab": {
      "name": "9 Pandas Functions That Will Do Most Data Analytic Tasks.ipynb",
      "provenance": [],
      "collapsed_sections": [],
      "authorship_tag": "ABX9TyNXWVrq/HQjYaxsrM2Va+rV"
    },
    "kernelspec": {
      "name": "python3",
      "display_name": "Python 3"
    },
    "language_info": {
      "name": "python"
    }
  },
  "cells": [
    {
      "cell_type": "markdown",
      "source": [
        "[Reference](https://betterprogramming.pub/9-pandas-functions-that-will-do-99-of-any-analytics-task-e6b6fb1b16bf)"
      ],
      "metadata": {
        "id": "93vlu4KJkqCr"
      }
    },
    {
      "cell_type": "code",
      "execution_count": 1,
      "metadata": {
        "id": "Af-D-p40kiaQ"
      },
      "outputs": [],
      "source": [
        "import pandas as pd\n",
        "import numpy as np\n",
        "\n",
        "#Reading an Excel File\n",
        "df = pd.read_excel('./Olist-full.xlsx')\n",
        "\n",
        "#Showing columns names\n",
        "df.columns\n",
        "\n",
        "#Changing columns names\n",
        "df = df.rename(columns = {\n",
        "    'order_id': 'id_order_number',\n",
        "    'customer_id': 'customer_number'\n",
        "})\n",
        "\n",
        "#Checking the new names\n",
        "df.columns\n",
        "\n",
        "#Basic information about our dataframe\n",
        "df.info()\n",
        "\n",
        "#Describing the 'price' variable\n",
        "df['price'].describe()\n",
        "\n",
        "#Describing the 'payment_type' variable\n",
        "df['payment_type'].value_counts()\n",
        "\n",
        "#Normalizing the results\n",
        "df['payment_type'].value_counts(normalize = True)\n",
        "\n",
        "#Checking if we have any NaN value\n",
        "df.isna().any()\n",
        "\n",
        "#Droping NaN values of the product_id column\n",
        "df = df.dropna(subset = ['product_id'])\n",
        "\n",
        "#Changing the dtype of the order_purchase_timestamp\n",
        "df['order_purchase_timestamp'] = pd.to_datetime(df['order_purchase_timestamp'])\n",
        "\n",
        "#Create a new column with the month of the order\n",
        "df['order_month'] = df['order_purchase_timestamp'].dt.month\n",
        "\n",
        "#Grouping for each 3 months by customer_state\n",
        "buys_3m = df.groupby([pd.Grouper(key = 'order_purchase_timestamp', freq = '3M'), 'customer_state']).agg({\n",
        "    'id_order_number': 'nunique',\n",
        "    'price': ['sum', 'mean', 'max'],\n",
        "    'freight_value': ['mean', 'median'],\n",
        "}).reset_index()\n",
        "\n",
        "buys_3m.columns = ['_'.join(col) for col in buys_3m.columns]\n",
        "\n",
        "#Filtering for SP state and price up or equal 115\n",
        "sp_above_mean = df[(df['price'] >= 115) & (df['seller_state'] == 'SP')]\n",
        "\n",
        "#Filtering by the quantile - we can remove outliers with this\n",
        "q1 = df['price'].quantile(0.01)\n",
        "q2 = df['price'].quantile(0.99)\n",
        "\n",
        "df_price_outliers = df[(df['price'] >= q1) & (df['price'] <= q2)]\n",
        "\n",
        "#Creating a new column with apply\n",
        "df['price_status'] = df['price'].apply(lambda x: 'UP' if x >= df['price'].mean() else 'DOWN')\n",
        "\n",
        "#Creating a new column using map\n",
        "df['seller_by_payment'] = df['payment_type'].map(credit_cards)"
      ]
    }
  ]
}