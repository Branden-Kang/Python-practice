{
  "nbformat": 4,
  "nbformat_minor": 0,
  "metadata": {
    "colab": {
      "name": "Scikit-Learn 0.24.ipynb",
      "provenance": [],
      "collapsed_sections": [],
      "authorship_tag": "ABX9TyODUnHEX1Q2I9HMuqVvXtck"
    },
    "kernelspec": {
      "name": "python3",
      "display_name": "Python 3"
    },
    "language_info": {
      "name": "python"
    }
  },
  "cells": [
    {
      "cell_type": "markdown",
      "metadata": {
        "id": "tXBRGnAeMked"
      },
      "source": [
        "[Reference](https://medium.com/geekculture/scikit-learn-0-24-top-5-new-features-you-need-to-know-7af15d8cdeac)"
      ]
    },
    {
      "cell_type": "code",
      "metadata": {
        "colab": {
          "base_uri": "https://localhost:8080/"
        },
        "id": "FNnv1cfrMzed",
        "outputId": "393362c7-d0f1-4aad-945f-aec2f1be7844"
      },
      "source": [
        "pip install --upgrade scikit-learn"
      ],
      "execution_count": 1,
      "outputs": [
        {
          "output_type": "stream",
          "name": "stdout",
          "text": [
            "Requirement already satisfied: scikit-learn in /usr/local/lib/python3.7/dist-packages (0.22.2.post1)\n",
            "Collecting scikit-learn\n",
            "  Downloading scikit_learn-0.24.2-cp37-cp37m-manylinux2010_x86_64.whl (22.3 MB)\n",
            "\u001b[K     |████████████████████████████████| 22.3 MB 1.3 MB/s \n",
            "\u001b[?25hRequirement already satisfied: scipy>=0.19.1 in /usr/local/lib/python3.7/dist-packages (from scikit-learn) (1.4.1)\n",
            "Requirement already satisfied: numpy>=1.13.3 in /usr/local/lib/python3.7/dist-packages (from scikit-learn) (1.19.5)\n",
            "Requirement already satisfied: joblib>=0.11 in /usr/local/lib/python3.7/dist-packages (from scikit-learn) (1.0.1)\n",
            "Collecting threadpoolctl>=2.0.0\n",
            "  Downloading threadpoolctl-2.2.0-py3-none-any.whl (12 kB)\n",
            "Installing collected packages: threadpoolctl, scikit-learn\n",
            "  Attempting uninstall: scikit-learn\n",
            "    Found existing installation: scikit-learn 0.22.2.post1\n",
            "    Uninstalling scikit-learn-0.22.2.post1:\n",
            "      Successfully uninstalled scikit-learn-0.22.2.post1\n",
            "Successfully installed scikit-learn-0.24.2 threadpoolctl-2.2.0\n"
          ]
        }
      ]
    },
    {
      "cell_type": "markdown",
      "metadata": {
        "id": "TWEC2gqLMovC"
      },
      "source": [
        "# 1.Mean Absolute Percentage Error (MAPE)\n"
      ]
    },
    {
      "cell_type": "code",
      "metadata": {
        "colab": {
          "base_uri": "https://localhost:8080/"
        },
        "id": "UNER_2ePMiP_",
        "outputId": "286ef032-082c-47c2-f997-32b2451c7672"
      },
      "source": [
        "from sklearn.metrics import mean_absolute_percentage_error\n",
        "y_true = [3, -0.5, 2, 7]\n",
        "y_pred = [2.5, 0.0, 2, 8]\n",
        "print(mean_absolute_percentage_error(y_true, y_pred))"
      ],
      "execution_count": 2,
      "outputs": [
        {
          "output_type": "stream",
          "name": "stdout",
          "text": [
            "0.3273809523809524\n"
          ]
        }
      ]
    },
    {
      "cell_type": "markdown",
      "metadata": {
        "id": "74t-lRPsMr1V"
      },
      "source": [
        "# 2. OneHotEncoder Supports Missing Values\n"
      ]
    },
    {
      "cell_type": "code",
      "metadata": {
        "id": "u7WbiZkJMqgN"
      },
      "source": [
        "import pandas as pd \n",
        "import numpy as np\n",
        "from sklearn.preprocessing import OneHotEncoder"
      ],
      "execution_count": 3,
      "outputs": []
    },
    {
      "cell_type": "code",
      "metadata": {
        "colab": {
          "base_uri": "https://localhost:8080/"
        },
        "id": "DGHaXzu9Muk1",
        "outputId": "d237ef9c-516f-49d4-e52b-e288f53d2ec1"
      },
      "source": [
        "# intialise data of lists.\n",
        "data = {'education_level':['primary', 'secondary', 'bachelor', np.nan,'masters',np.nan]}\n",
        "  \n",
        "# Create DataFrame\n",
        "df = pd.DataFrame(data)\n",
        "  \n",
        "# Print the output.\n",
        "print(df)"
      ],
      "execution_count": 4,
      "outputs": [
        {
          "output_type": "stream",
          "name": "stdout",
          "text": [
            "  education_level\n",
            "0         primary\n",
            "1       secondary\n",
            "2        bachelor\n",
            "3             NaN\n",
            "4         masters\n",
            "5             NaN\n"
          ]
        }
      ]
    },
    {
      "cell_type": "code",
      "metadata": {
        "colab": {
          "base_uri": "https://localhost:8080/"
        },
        "id": "En_GrTlAM3Tj",
        "outputId": "d7ee42fb-4484-4a4a-90ff-891fb1ff0b25"
      },
      "source": [
        "enc = OneHotEncoder()\n",
        "enc.fit_transform(df).toarray()"
      ],
      "execution_count": 5,
      "outputs": [
        {
          "output_type": "execute_result",
          "data": {
            "text/plain": [
              "array([[0., 0., 1., 0., 0.],\n",
              "       [0., 0., 0., 1., 0.],\n",
              "       [1., 0., 0., 0., 0.],\n",
              "       [0., 0., 0., 0., 1.],\n",
              "       [0., 1., 0., 0., 0.],\n",
              "       [0., 0., 0., 0., 1.]])"
            ]
          },
          "metadata": {},
          "execution_count": 5
        }
      ]
    },
    {
      "cell_type": "markdown",
      "metadata": {
        "id": "F9C8GAePNE8o"
      },
      "source": [
        "# 3.New method for Feature Selection\n"
      ]
    },
    {
      "cell_type": "code",
      "metadata": {
        "id": "xhOx8lASM6UW"
      },
      "source": [
        "from sklearn.feature_selection import SequentialFeatureSelector\n",
        "from sklearn.neighbors import KNeighborsClassifier\n",
        "from sklearn.datasets import load_iris"
      ],
      "execution_count": 6,
      "outputs": []
    },
    {
      "cell_type": "code",
      "metadata": {
        "id": "bFu3klkiNIb2"
      },
      "source": [
        "X, y = load_iris(return_X_y=True, as_frame=True)\n",
        "feature_names = X.columns"
      ],
      "execution_count": 7,
      "outputs": []
    },
    {
      "cell_type": "code",
      "metadata": {
        "colab": {
          "base_uri": "https://localhost:8080/"
        },
        "id": "LhkzwGfjNO3s",
        "outputId": "10b3d24e-6273-41e1-b891-86d1c73f91c7"
      },
      "source": [
        "knn = KNeighborsClassifier(n_neighbors=3)\n",
        "sfs = SequentialFeatureSelector(knn, n_features_to_select=2,direction='backward')\n",
        "sfs.fit(X,y)\n",
        "print(\"Features selected by backward sequential selection: \"\n",
        "      f\"{feature_names[sfs.get_support()].tolist()}\")"
      ],
      "execution_count": 8,
      "outputs": [
        {
          "output_type": "stream",
          "name": "stdout",
          "text": [
            "Features selected by backward sequential selection: ['petal length (cm)', 'petal width (cm)']\n"
          ]
        }
      ]
    },
    {
      "cell_type": "markdown",
      "metadata": {
        "id": "eBJ8FI0tNW6N"
      },
      "source": [
        "# 4.New Methods for Hyper-Parameters Tuning\n"
      ]
    },
    {
      "cell_type": "code",
      "metadata": {
        "id": "geTcW-2jNP_l"
      },
      "source": [
        "from sklearn.datasets import make_classification\n",
        "from sklearn.ensemble import RandomForestClassifier\n",
        "from sklearn.experimental import enable_halving_search_cv  \n",
        "from sklearn.model_selection import HalvingRandomSearchCV\n",
        "from scipy.stats import randint"
      ],
      "execution_count": 9,
      "outputs": []
    },
    {
      "cell_type": "code",
      "metadata": {
        "id": "QbvdcKeNNZFU"
      },
      "source": [
        "X, y = make_classification(n_samples=1000)"
      ],
      "execution_count": 10,
      "outputs": []
    },
    {
      "cell_type": "code",
      "metadata": {
        "id": "sNufhmqzNbHw"
      },
      "source": [
        "clf = RandomForestClassifier(n_estimators=20)"
      ],
      "execution_count": 11,
      "outputs": []
    },
    {
      "cell_type": "code",
      "metadata": {
        "id": "CJsKXXukNcmq"
      },
      "source": [
        "param_dist = {\"max_depth\": [3, None],\n",
        "              \"max_features\": randint(1, 11),\n",
        "              \"min_samples_split\": randint(2, 11),\n",
        "              \"bootstrap\": [True, False],\n",
        "              \"criterion\": [\"gini\", \"entropy\"]}"
      ],
      "execution_count": 12,
      "outputs": []
    },
    {
      "cell_type": "code",
      "metadata": {
        "id": "4jp_dNQFNfCg"
      },
      "source": [
        "rsh = HalvingRandomSearchCV(\n",
        "    estimator=clf,\n",
        "    param_distributions=param_dist,\n",
        "    cv = 5,\n",
        "    factor=2,\n",
        "    min_resources = 20)"
      ],
      "execution_count": 13,
      "outputs": []
    },
    {
      "cell_type": "code",
      "metadata": {
        "colab": {
          "base_uri": "https://localhost:8080/"
        },
        "id": "nxe-n9OPNghd",
        "outputId": "f74711be-d0da-4965-f26e-f50dd6c90355"
      },
      "source": [
        "rsh.fit(X,y)"
      ],
      "execution_count": 14,
      "outputs": [
        {
          "output_type": "execute_result",
          "data": {
            "text/plain": [
              "HalvingRandomSearchCV(estimator=RandomForestClassifier(n_estimators=20),\n",
              "                      factor=2, min_resources=20,\n",
              "                      param_distributions={'bootstrap': [True, False],\n",
              "                                           'criterion': ['gini', 'entropy'],\n",
              "                                           'max_depth': [3, None],\n",
              "                                           'max_features': <scipy.stats._distn_infrastructure.rv_frozen object at 0x7f323a79ad50>,\n",
              "                                           'min_samples_split': <scipy.stats._distn_infrastructure.rv_frozen object at 0x7f323a79ae10>},\n",
              "                      refit=<function _refit_callable at 0x7f323941f7a0>)"
            ]
          },
          "metadata": {},
          "execution_count": 14
        }
      ]
    },
    {
      "cell_type": "code",
      "metadata": {
        "colab": {
          "base_uri": "https://localhost:8080/"
        },
        "id": "fuk_x9-NNiW_",
        "outputId": "182ab4ab-c42a-4fdd-cb81-acbe954c983a"
      },
      "source": [
        "print(rsh.n_iterations_ )"
      ],
      "execution_count": 15,
      "outputs": [
        {
          "output_type": "stream",
          "name": "stdout",
          "text": [
            "6\n"
          ]
        }
      ]
    },
    {
      "cell_type": "code",
      "metadata": {
        "colab": {
          "base_uri": "https://localhost:8080/"
        },
        "id": "EmLaz6Q9Njj1",
        "outputId": "cad26213-6b92-40f6-c2ca-4a19e3f5f853"
      },
      "source": [
        "print(rsh.n_candidates_ )"
      ],
      "execution_count": 16,
      "outputs": [
        {
          "output_type": "stream",
          "name": "stdout",
          "text": [
            "[50, 25, 13, 7, 4, 2]\n"
          ]
        }
      ]
    },
    {
      "cell_type": "code",
      "metadata": {
        "colab": {
          "base_uri": "https://localhost:8080/"
        },
        "id": "pK_9p3CINkut",
        "outputId": "ce27fd25-d572-4f07-a7e4-72110b7bceb9"
      },
      "source": [
        "print(rsh.n_resources_)"
      ],
      "execution_count": 17,
      "outputs": [
        {
          "output_type": "stream",
          "name": "stdout",
          "text": [
            "[20, 40, 80, 160, 320, 640]\n"
          ]
        }
      ]
    },
    {
      "cell_type": "code",
      "metadata": {
        "colab": {
          "base_uri": "https://localhost:8080/"
        },
        "id": "tN8HkkruNndt",
        "outputId": "0f596c57-3894-472d-a63b-296cd8fde9c7"
      },
      "source": [
        "print(rsh.best_params_)"
      ],
      "execution_count": 18,
      "outputs": [
        {
          "output_type": "stream",
          "name": "stdout",
          "text": [
            "{'bootstrap': True, 'criterion': 'entropy', 'max_depth': 3, 'max_features': 5, 'min_samples_split': 3}\n"
          ]
        }
      ]
    },
    {
      "cell_type": "markdown",
      "metadata": {
        "id": "lEzNcYCNNrBe"
      },
      "source": [
        "# 5. New self-training meta-estimator for semi-supervised learning"
      ]
    },
    {
      "cell_type": "code",
      "metadata": {
        "id": "7usMm7ZINpBm"
      },
      "source": [
        "import numpy as np\n",
        "from sklearn import datasets\n",
        "from sklearn.semi_supervised import SelfTrainingClassifier\n",
        "from sklearn.svm import SVC"
      ],
      "execution_count": 19,
      "outputs": []
    },
    {
      "cell_type": "code",
      "metadata": {
        "id": "rHrzdFd7NsjL"
      },
      "source": [
        "rng = np.random.RandomState(42)\n",
        "iris = datasets.load_iris()\n",
        "random_unlabeled_points = rng.rand(iris.target.shape[0]) < 0.3\n",
        "iris.target[random_unlabeled_points] = -1"
      ],
      "execution_count": 20,
      "outputs": []
    },
    {
      "cell_type": "code",
      "metadata": {
        "id": "DNnRFuNZNuPX"
      },
      "source": [
        "svc = SVC(probability=True, gamma=\"auto\")"
      ],
      "execution_count": 21,
      "outputs": []
    },
    {
      "cell_type": "code",
      "metadata": {
        "id": "UZb6LgFtNvnX"
      },
      "source": [
        "self_training_model = SelfTrainingClassifier(base_estimator=svc)"
      ],
      "execution_count": 22,
      "outputs": []
    },
    {
      "cell_type": "code",
      "metadata": {
        "colab": {
          "base_uri": "https://localhost:8080/"
        },
        "id": "kchTLklmNxQR",
        "outputId": "39c42531-d0c3-4f9d-c269-cc0e0ed85e94"
      },
      "source": [
        "self_training_model.fit(iris.data, iris.target)"
      ],
      "execution_count": 23,
      "outputs": [
        {
          "output_type": "execute_result",
          "data": {
            "text/plain": [
              "SelfTrainingClassifier(base_estimator=SVC(gamma='auto', probability=True))"
            ]
          },
          "metadata": {},
          "execution_count": 23
        }
      ]
    }
  ]
}