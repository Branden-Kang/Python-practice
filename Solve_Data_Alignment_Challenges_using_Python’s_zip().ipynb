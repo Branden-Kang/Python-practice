{
  "nbformat": 4,
  "nbformat_minor": 0,
  "metadata": {
    "colab": {
      "provenance": [],
      "authorship_tag": "ABX9TyP5sz2BDTmwdlYwi08hv5BG"
    },
    "kernelspec": {
      "name": "python3",
      "display_name": "Python 3"
    },
    "language_info": {
      "name": "python"
    }
  },
  "cells": [
    {
      "cell_type": "markdown",
      "source": [
        "[Reference](https://pythonflood.com/solve-data-alignment-challenges-using-pythons-zip-8e17056a3b2a)"
      ],
      "metadata": {
        "id": "t8Nq_6slJ3JL"
      }
    },
    {
      "cell_type": "code",
      "execution_count": 1,
      "metadata": {
        "colab": {
          "base_uri": "https://localhost:8080/"
        },
        "id": "sAefTMIzJVwV",
        "outputId": "472bf35a-12a5-4318-debf-dc79cc93fbd7"
      },
      "outputs": [
        {
          "output_type": "stream",
          "name": "stdout",
          "text": [
            "[(1, 'a'), (2, 'b'), (3, 'c'), (4, 'd')]\n",
            "[(1, 4, 7), (2, 5, 8), (3, 6, 9)]\n"
          ]
        }
      ],
      "source": [
        "# Example 1 - Combining two lists\n",
        "list1 = [1, 2, 3, 4]\n",
        "list2 = ['a', 'b', 'c', 'd']\n",
        "zipped = zip(list1, list2)\n",
        "print(list(zipped))\n",
        "\n",
        "# Example 2 - Combining three lists\n",
        "list1 = [1, 2, 3]\n",
        "list2 = [4, 5, 6]\n",
        "list3 = [7, 8, 9]\n",
        "zipped = zip(list1, list2, list3)\n",
        "print(list(zipped))"
      ]
    },
    {
      "cell_type": "code",
      "source": [
        "# Example 3 - Combining two strings\n",
        "str1 = \"abc\"\n",
        "str2 = \"def\"\n",
        "zipped = zip(str1, str2)\n",
        "print(list(zipped))\n",
        "\n",
        "# Example 4 - Combining two sets\n",
        "set1 = {1, 2, 3}\n",
        "set2 = {'a', 'b', 'c'}\n",
        "zipped = zip(set1, set2)\n",
        "print(list(zipped))"
      ],
      "metadata": {
        "colab": {
          "base_uri": "https://localhost:8080/"
        },
        "id": "VhWJ1BtkJ7pT",
        "outputId": "1050dbe1-36ea-41d5-90bf-f2f961f153dc"
      },
      "execution_count": 2,
      "outputs": [
        {
          "output_type": "stream",
          "name": "stdout",
          "text": [
            "[('a', 'd'), ('b', 'e'), ('c', 'f')]\n",
            "[(1, 'b'), (2, 'a'), (3, 'c')]\n"
          ]
        }
      ]
    },
    {
      "cell_type": "code",
      "source": [
        "# Example 5 - Combining two iterables of different lengths\n",
        "list1 = [1, 2, 3, 4]\n",
        "list2 = ['a', 'b', 'c']\n",
        "zipped = zip(list1, list2)\n",
        "print(list(zipped))"
      ],
      "metadata": {
        "colab": {
          "base_uri": "https://localhost:8080/"
        },
        "id": "iCaDy6qPJ9ls",
        "outputId": "64c01f20-8260-4945-b4db-f139057fca61"
      },
      "execution_count": 3,
      "outputs": [
        {
          "output_type": "stream",
          "name": "stdout",
          "text": [
            "[(1, 'a'), (2, 'b'), (3, 'c')]\n"
          ]
        }
      ]
    },
    {
      "cell_type": "code",
      "source": [
        "# Example 6 - Unzipping an iterable object\n",
        "zipped = [(1, 'a'), (2, 'b'), (3, 'c')]\n",
        "list1, list2 = zip(*zipped)\n",
        "print(list1)\n",
        "print(list2)"
      ],
      "metadata": {
        "colab": {
          "base_uri": "https://localhost:8080/"
        },
        "id": "5vO7LZbOJ-0x",
        "outputId": "44842790-2972-47fc-8c6c-bf4456b42c0e"
      },
      "execution_count": 4,
      "outputs": [
        {
          "output_type": "stream",
          "name": "stdout",
          "text": [
            "(1, 2, 3)\n",
            "('a', 'b', 'c')\n"
          ]
        }
      ]
    },
    {
      "cell_type": "code",
      "source": [
        "# Example 7 - Combining two lists to create a dictionary\n",
        "keys = ['a', 'b', 'c']\n",
        "values = [1, 2, 3]\n",
        "dictionary = dict(zip(keys, values))\n",
        "print(dictionary)"
      ],
      "metadata": {
        "colab": {
          "base_uri": "https://localhost:8080/"
        },
        "id": "8Mk7dnGlJ_2L",
        "outputId": "a039cf45-ffef-4ad6-b8d9-a2c46f051a02"
      },
      "execution_count": 5,
      "outputs": [
        {
          "output_type": "stream",
          "name": "stdout",
          "text": [
            "{'a': 1, 'b': 2, 'c': 3}\n"
          ]
        }
      ]
    },
    {
      "cell_type": "code",
      "source": [
        "# Example 8 - Using multiple arguments with the zip() function\n",
        "list1 = [1, 2, 3]\n",
        "list2 = ['a', 'b', 'c']\n",
        "list3 = ['x', 'y', 'z']\n",
        "zipped = zip(list1, list2, list3)\n",
        "for item in zipped:\n",
        "    print(item)"
      ],
      "metadata": {
        "colab": {
          "base_uri": "https://localhost:8080/"
        },
        "id": "opiQpaXvKBAI",
        "outputId": "938585cf-b26a-4a8d-b4ca-4cf5bf89cf00"
      },
      "execution_count": 6,
      "outputs": [
        {
          "output_type": "stream",
          "name": "stdout",
          "text": [
            "(1, 'a', 'x')\n",
            "(2, 'b', 'y')\n",
            "(3, 'c', 'z')\n"
          ]
        }
      ]
    },
    {
      "cell_type": "code",
      "source": [
        "# Example 9 - Using *args and **kwargs with the zip() function\n",
        "def combine(*args):\n",
        "    return zip(*args)\n",
        "\n",
        "list1 = [1, 2, 3]\n",
        "list2 = ['a', 'b', 'c']\n",
        "list3 = ['x', 'y', 'z']\n",
        "zipped = combine(list1, list2, list3)\n",
        "for item in zipped:\n",
        "    print(item)"
      ],
      "metadata": {
        "colab": {
          "base_uri": "https://localhost:8080/"
        },
        "id": "Ac7ed2_aKCZF",
        "outputId": "21ee04e6-1145-442d-d6a9-c5c18ee38057"
      },
      "execution_count": 8,
      "outputs": [
        {
          "output_type": "stream",
          "name": "stdout",
          "text": [
            "(1, 'a', 'x')\n",
            "(2, 'b', 'y')\n",
            "(3, 'c', 'z')\n",
            "0 a x\n",
            "1 b y\n",
            "2 c z\n"
          ]
        }
      ]
    },
    {
      "cell_type": "code",
      "source": [
        "# Example 10 - Using enumerate() with zip()\n",
        "list1 = ['a', 'b', 'c']\n",
        "list2 = ['x', 'y', 'z']\n",
        "for i, (item1, item2) in enumerate(zip(list1, list2)):\n",
        "    print(i, item1, item2)"
      ],
      "metadata": {
        "colab": {
          "base_uri": "https://localhost:8080/"
        },
        "id": "NYDgC2KBKDyI",
        "outputId": "c1ced890-0762-405f-c5ce-2ea5c892ece0"
      },
      "execution_count": 9,
      "outputs": [
        {
          "output_type": "stream",
          "name": "stdout",
          "text": [
            "0 a x\n",
            "1 b y\n",
            "2 c z\n"
          ]
        }
      ]
    },
    {
      "cell_type": "code",
      "source": [
        "# Example 11 - Zipping three iterables\n",
        "list1 = [1, 2, 3]\n",
        "list2 = ['a', 'b', 'c']\n",
        "list3 = ['x', 'y', 'z']\n",
        "zipped = zip(list1, list2, list3)\n",
        "\n",
        "for item in zipped:\n",
        "    print(item)"
      ],
      "metadata": {
        "colab": {
          "base_uri": "https://localhost:8080/"
        },
        "id": "64OPT8VdKGKw",
        "outputId": "75dc6a5d-88c8-49a5-e67f-033262c1cfa9"
      },
      "execution_count": 10,
      "outputs": [
        {
          "output_type": "stream",
          "name": "stdout",
          "text": [
            "(1, 'a', 'x')\n",
            "(2, 'b', 'y')\n",
            "(3, 'c', 'z')\n"
          ]
        }
      ]
    },
    {
      "cell_type": "code",
      "source": [
        "# Example 12 - Unzipping a zip() object\n",
        "list1 = [1, 2, 3]\n",
        "list2 = ['a', 'b', 'c']\n",
        "zipped = zip(list1, list2)\n",
        "unzipped = zip(*zipped)\n",
        "print(list(unzipped))"
      ],
      "metadata": {
        "colab": {
          "base_uri": "https://localhost:8080/"
        },
        "id": "EB7grXWIKHTh",
        "outputId": "5534ac20-508e-4f0f-d6a0-4abb7679af6b"
      },
      "execution_count": 11,
      "outputs": [
        {
          "output_type": "stream",
          "name": "stdout",
          "text": [
            "[(1, 2, 3), ('a', 'b', 'c')]\n"
          ]
        }
      ]
    },
    {
      "cell_type": "code",
      "source": [
        "# Example 13 - Zipping dictionaries\n",
        "dict1 = {'a': 1, 'b': 2, 'c': 3}\n",
        "dict2 = {'x': 4, 'y': 5, 'z': 6}\n",
        "zipped = zip(dict1.keys(), dict2.values())\n",
        "new_dict = dict(zipped)\n",
        "print(new_dict)"
      ],
      "metadata": {
        "colab": {
          "base_uri": "https://localhost:8080/"
        },
        "id": "EfUKIUMtKI_L",
        "outputId": "3d600ef9-a7c5-4fca-c020-0481bb64b2ae"
      },
      "execution_count": 12,
      "outputs": [
        {
          "output_type": "stream",
          "name": "stdout",
          "text": [
            "{'a': 4, 'b': 5, 'c': 6}\n"
          ]
        }
      ]
    }
  ]
}