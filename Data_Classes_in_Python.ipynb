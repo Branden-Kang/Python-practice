{
  "nbformat": 4,
  "nbformat_minor": 0,
  "metadata": {
    "colab": {
      "name": "Data Classes in Python.ipynb",
      "provenance": [],
      "authorship_tag": "ABX9TyNgmS6fwPQGG0IEJhDwnPDF"
    },
    "kernelspec": {
      "name": "python3",
      "display_name": "Python 3"
    }
  },
  "cells": [
    {
      "cell_type": "markdown",
      "metadata": {
        "id": "Qwi3xdInKBIP"
      },
      "source": [
        "[Reference](https://towardsdatascience.com/data-classes-in-python-8d1a09c1294b)"
      ]
    },
    {
      "cell_type": "code",
      "metadata": {
        "id": "yTZAlAgEJ2q4"
      },
      "source": [
        "from dataclasses import dataclass\n",
        "\n",
        "@dataclass\n",
        "class Coordinate:\n",
        "    x: int\n",
        "    y: int\n",
        "    z: int"
      ],
      "execution_count": 1,
      "outputs": []
    },
    {
      "cell_type": "code",
      "metadata": {
        "colab": {
          "base_uri": "https://localhost:8080/"
        },
        "id": "t2G0x15HJ-5n",
        "outputId": "a50d95b2-9dfb-4522-bf7c-a87962f00c3d"
      },
      "source": [
        "from dataclasses import dataclass\n",
        "\n",
        "@dataclass\n",
        "class Coordinate:\n",
        "    x: int\n",
        "    y: int\n",
        "    z: int\n",
        "\n",
        "a = Coordinate(4, 5, 3)\n",
        "print(a)  # output: Coordinate(x=4, y=5, z=3)"
      ],
      "execution_count": 2,
      "outputs": [
        {
          "output_type": "stream",
          "text": [
            "Coordinate(x=4, y=5, z=3)\n"
          ],
          "name": "stdout"
        }
      ]
    },
    {
      "cell_type": "code",
      "metadata": {
        "colab": {
          "base_uri": "https://localhost:8080/"
        },
        "id": "1vdUFKzqKdFI",
        "outputId": "2f1a1169-8f3c-4905-9a40-db3f3c3e71af"
      },
      "source": [
        "from dataclasses import dataclass\n",
        "\n",
        "\n",
        "@dataclass\n",
        "class CircleArea:\n",
        "    r: int\n",
        "    pi: float = 3.14\n",
        "\n",
        "    @property\n",
        "    def area(self):\n",
        "        return self.pi * (self.r ** 2)\n",
        "\n",
        "\n",
        "a = CircleArea(2)\n",
        "print(repr(a))  # output: CircleArea(r=2, pi=3.14)\n",
        "print(a.area)  # output: 12.56"
      ],
      "execution_count": 3,
      "outputs": [
        {
          "output_type": "stream",
          "text": [
            "CircleArea(r=2, pi=3.14)\n",
            "12.56\n"
          ],
          "name": "stdout"
        }
      ]
    },
    {
      "cell_type": "code",
      "metadata": {
        "colab": {
          "base_uri": "https://localhost:8080/"
        },
        "id": "LphRhxnBKhwR",
        "outputId": "a46db566-20f3-40f9-f7d7-90671d9050c5"
      },
      "source": [
        "from dataclasses import dataclass\n",
        "\n",
        "\n",
        "@dataclass\n",
        "class CircleArea:\n",
        "    r: int\n",
        "    pi: float = 3.14\n",
        "\n",
        "    @property\n",
        "    def area(self):\n",
        "        return self.pi * (self.r ** 2)\n",
        "\n",
        "\n",
        "a = CircleArea(2)\n",
        "a.r = 5\n",
        "print(repr(a))  # output: CircleArea(r=5, pi=3.14)\n",
        "print(a.area)  # output: 78.5"
      ],
      "execution_count": 4,
      "outputs": [
        {
          "output_type": "stream",
          "text": [
            "CircleArea(r=5, pi=3.14)\n",
            "78.5\n"
          ],
          "name": "stdout"
        }
      ]
    },
    {
      "cell_type": "code",
      "metadata": {
        "colab": {
          "base_uri": "https://localhost:8080/",
          "height": 266
        },
        "id": "QmqUnoIhKqVS",
        "outputId": "32b478a0-6834-48ca-9371-6696212f072e"
      },
      "source": [
        "from dataclasses import dataclass\n",
        "\n",
        "\n",
        "@dataclass(frozen=True)\n",
        "class CircleArea:\n",
        "    r: int\n",
        "    pi: float = 3.14\n",
        "\n",
        "    @property\n",
        "    def area(self):\n",
        "        return self.pi * (self.r ** 2)\n",
        "\n",
        "\n",
        "a = CircleArea(2)\n",
        "a.r = 5"
      ],
      "execution_count": 5,
      "outputs": [
        {
          "output_type": "error",
          "ename": "FrozenInstanceError",
          "evalue": "ignored",
          "traceback": [
            "\u001b[0;31m---------------------------------------------------------------------------\u001b[0m",
            "\u001b[0;31mFrozenInstanceError\u001b[0m                       Traceback (most recent call last)",
            "\u001b[0;32m<ipython-input-5-86fdbf41fbf8>\u001b[0m in \u001b[0;36m<module>\u001b[0;34m()\u001b[0m\n\u001b[1;32m     13\u001b[0m \u001b[0;34m\u001b[0m\u001b[0m\n\u001b[1;32m     14\u001b[0m \u001b[0ma\u001b[0m \u001b[0;34m=\u001b[0m \u001b[0mCircleArea\u001b[0m\u001b[0;34m(\u001b[0m\u001b[0;36m2\u001b[0m\u001b[0;34m)\u001b[0m\u001b[0;34m\u001b[0m\u001b[0;34m\u001b[0m\u001b[0m\n\u001b[0;32m---> 15\u001b[0;31m \u001b[0ma\u001b[0m\u001b[0;34m.\u001b[0m\u001b[0mr\u001b[0m \u001b[0;34m=\u001b[0m \u001b[0;36m5\u001b[0m\u001b[0;34m\u001b[0m\u001b[0;34m\u001b[0m\u001b[0m\n\u001b[0m",
            "\u001b[0;32m<string>\u001b[0m in \u001b[0;36m__setattr__\u001b[0;34m(self, name, value)\u001b[0m\n",
            "\u001b[0;31mFrozenInstanceError\u001b[0m: cannot assign to field 'r'"
          ]
        }
      ]
    },
    {
      "cell_type": "code",
      "metadata": {
        "colab": {
          "base_uri": "https://localhost:8080/"
        },
        "id": "hBXu72caK8UD",
        "outputId": "b821300e-042a-4ed1-d73b-167fd352870f"
      },
      "source": [
        "from dataclasses import dataclass, field\n",
        "\n",
        "\n",
        "@dataclass(order=True)\n",
        "class Vector:\n",
        "    x: int\n",
        "    y: int\n",
        "\n",
        "v1 = Vector(8, 15)\n",
        "v2 = Vector(7, 20)\n",
        "print(v2 > v1)"
      ],
      "execution_count": 6,
      "outputs": [
        {
          "output_type": "stream",
          "text": [
            "False\n"
          ],
          "name": "stdout"
        }
      ]
    },
    {
      "cell_type": "code",
      "metadata": {
        "colab": {
          "base_uri": "https://localhost:8080/"
        },
        "id": "my7H9g31LRxP",
        "outputId": "8100c67a-c958-48f6-f657-2a1e57ed14f8"
      },
      "source": [
        "from dataclasses import dataclass, field\n",
        "\n",
        "\n",
        "@dataclass(order=True)\n",
        "class Vector:\n",
        "    magnitude: float = field(init=False)\n",
        "    x: int\n",
        "    y: int\n",
        "\n",
        "    def __post_init__(self):\n",
        "        self.magnitude = (self.x ** 2 + self.y ** 2) ** 0.5\n",
        "\n",
        "\n",
        "v1 = Vector(9, 12)\n",
        "print(v1)  # output: Vector(magnitude=15.0, x=9, y=12)\n",
        "v2 = Vector(8, 15)\n",
        "print(v2)  # output: Vector(magnitude=17.0, x=8, y=15)\n",
        "print(v2 > v1)  # output: True"
      ],
      "execution_count": 7,
      "outputs": [
        {
          "output_type": "stream",
          "text": [
            "Vector(magnitude=15.0, x=9, y=12)\n",
            "Vector(magnitude=17.0, x=8, y=15)\n",
            "True\n"
          ],
          "name": "stdout"
        }
      ]
    },
    {
      "cell_type": "code",
      "metadata": {
        "colab": {
          "base_uri": "https://localhost:8080/"
        },
        "id": "SoUDTnJnLdO4",
        "outputId": "ecaaccc7-e546-4f35-8454-9ecc2a78164e"
      },
      "source": [
        "from dataclasses import dataclass, asdict, astuple\n",
        "\n",
        "\n",
        "@dataclass\n",
        "class Vector:\n",
        "    x: int\n",
        "    y: int\n",
        "    z: int\n",
        "\n",
        "\n",
        "v = Vector(4, 5, 7)\n",
        "print(asdict(v))  # output: {'x': 4, 'y': 5, 'z': 7}\n",
        "print(astuple(v))  # output: (4, 5, 7)"
      ],
      "execution_count": 8,
      "outputs": [
        {
          "output_type": "stream",
          "text": [
            "{'x': 4, 'y': 5, 'z': 7}\n",
            "(4, 5, 7)\n"
          ],
          "name": "stdout"
        }
      ]
    },
    {
      "cell_type": "code",
      "metadata": {
        "colab": {
          "base_uri": "https://localhost:8080/"
        },
        "id": "mCdcanNoLx1y",
        "outputId": "3241431f-c8b3-4b92-d345-91a317e58673"
      },
      "source": [
        "from dataclasses import dataclass\n",
        "\n",
        "\n",
        "@dataclass\n",
        "class Employee:\n",
        "    name: str\n",
        "    lang: str\n",
        "\n",
        "@dataclass\n",
        "class Developer(Employee):\n",
        "    salary: int\n",
        "\n",
        "Halil = Developer('Halil', 'Python', 5000)\n",
        "print(Halil)"
      ],
      "execution_count": 9,
      "outputs": [
        {
          "output_type": "stream",
          "text": [
            "Developer(name='Halil', lang='Python', salary=5000)\n"
          ],
          "name": "stdout"
        }
      ]
    },
    {
      "cell_type": "code",
      "metadata": {
        "colab": {
          "base_uri": "https://localhost:8080/",
          "height": 443
        },
        "id": "amPMOInJL3AF",
        "outputId": "f0b663bf-2095-4ac9-9e0d-196a6c204eea"
      },
      "source": [
        "from dataclasses import dataclass\n",
        "\n",
        "\n",
        "@dataclass\n",
        "class Employee:\n",
        "    name: str\n",
        "    lang: str = 'Python'\n",
        "\n",
        "\n",
        "@dataclass\n",
        "class Developer(Employee):\n",
        "    salary: int\n",
        "\n",
        "\n",
        "Halil = Developer('Halil', 'Python', 5000)"
      ],
      "execution_count": 10,
      "outputs": [
        {
          "output_type": "error",
          "ename": "TypeError",
          "evalue": "ignored",
          "traceback": [
            "\u001b[0;31m---------------------------------------------------------------------------\u001b[0m",
            "\u001b[0;31mTypeError\u001b[0m                                 Traceback (most recent call last)",
            "\u001b[0;32m<ipython-input-10-28e722f03698>\u001b[0m in \u001b[0;36m<module>\u001b[0;34m()\u001b[0m\n\u001b[1;32m      9\u001b[0m \u001b[0;34m\u001b[0m\u001b[0m\n\u001b[1;32m     10\u001b[0m \u001b[0;34m@\u001b[0m\u001b[0mdataclass\u001b[0m\u001b[0;34m\u001b[0m\u001b[0;34m\u001b[0m\u001b[0m\n\u001b[0;32m---> 11\u001b[0;31m \u001b[0;32mclass\u001b[0m \u001b[0mDeveloper\u001b[0m\u001b[0;34m(\u001b[0m\u001b[0mEmployee\u001b[0m\u001b[0;34m)\u001b[0m\u001b[0;34m:\u001b[0m\u001b[0;34m\u001b[0m\u001b[0;34m\u001b[0m\u001b[0m\n\u001b[0m\u001b[1;32m     12\u001b[0m     \u001b[0msalary\u001b[0m\u001b[0;34m:\u001b[0m \u001b[0mint\u001b[0m\u001b[0;34m\u001b[0m\u001b[0;34m\u001b[0m\u001b[0m\n\u001b[1;32m     13\u001b[0m \u001b[0;34m\u001b[0m\u001b[0m\n",
            "\u001b[0;32m/usr/local/lib/python3.6/dist-packages/dataclasses.py\u001b[0m in \u001b[0;36mdataclass\u001b[0;34m(_cls, init, repr, eq, order, unsafe_hash, frozen)\u001b[0m\n\u001b[1;32m    956\u001b[0m \u001b[0;34m\u001b[0m\u001b[0m\n\u001b[1;32m    957\u001b[0m     \u001b[0;31m# We're called as @dataclass without parens.\u001b[0m\u001b[0;34m\u001b[0m\u001b[0;34m\u001b[0m\u001b[0;34m\u001b[0m\u001b[0m\n\u001b[0;32m--> 958\u001b[0;31m     \u001b[0;32mreturn\u001b[0m \u001b[0mwrap\u001b[0m\u001b[0;34m(\u001b[0m\u001b[0m_cls\u001b[0m\u001b[0;34m)\u001b[0m\u001b[0;34m\u001b[0m\u001b[0;34m\u001b[0m\u001b[0m\n\u001b[0m\u001b[1;32m    959\u001b[0m \u001b[0;34m\u001b[0m\u001b[0m\n\u001b[1;32m    960\u001b[0m \u001b[0;34m\u001b[0m\u001b[0m\n",
            "\u001b[0;32m/usr/local/lib/python3.6/dist-packages/dataclasses.py\u001b[0m in \u001b[0;36mwrap\u001b[0;34m(cls)\u001b[0m\n\u001b[1;32m    948\u001b[0m \u001b[0;34m\u001b[0m\u001b[0m\n\u001b[1;32m    949\u001b[0m     \u001b[0;32mdef\u001b[0m \u001b[0mwrap\u001b[0m\u001b[0;34m(\u001b[0m\u001b[0mcls\u001b[0m\u001b[0;34m)\u001b[0m\u001b[0;34m:\u001b[0m\u001b[0;34m\u001b[0m\u001b[0;34m\u001b[0m\u001b[0m\n\u001b[0;32m--> 950\u001b[0;31m         \u001b[0;32mreturn\u001b[0m \u001b[0m_process_class\u001b[0m\u001b[0;34m(\u001b[0m\u001b[0mcls\u001b[0m\u001b[0;34m,\u001b[0m \u001b[0minit\u001b[0m\u001b[0;34m,\u001b[0m \u001b[0mrepr\u001b[0m\u001b[0;34m,\u001b[0m \u001b[0meq\u001b[0m\u001b[0;34m,\u001b[0m \u001b[0morder\u001b[0m\u001b[0;34m,\u001b[0m \u001b[0munsafe_hash\u001b[0m\u001b[0;34m,\u001b[0m \u001b[0mfrozen\u001b[0m\u001b[0;34m)\u001b[0m\u001b[0;34m\u001b[0m\u001b[0;34m\u001b[0m\u001b[0m\n\u001b[0m\u001b[1;32m    951\u001b[0m \u001b[0;34m\u001b[0m\u001b[0m\n\u001b[1;32m    952\u001b[0m     \u001b[0;31m# See if we're being called as @dataclass or @dataclass().\u001b[0m\u001b[0;34m\u001b[0m\u001b[0;34m\u001b[0m\u001b[0;34m\u001b[0m\u001b[0m\n",
            "\u001b[0;32m/usr/local/lib/python3.6/dist-packages/dataclasses.py\u001b[0m in \u001b[0;36m_process_class\u001b[0;34m(cls, init, repr, eq, order, unsafe_hash, frozen)\u001b[0m\n\u001b[1;32m    869\u001b[0m                                     \u001b[0;31m# if possible.\u001b[0m\u001b[0;34m\u001b[0m\u001b[0;34m\u001b[0m\u001b[0;34m\u001b[0m\u001b[0m\n\u001b[1;32m    870\u001b[0m                                     \u001b[0;34m'__dataclass_self__'\u001b[0m \u001b[0;32mif\u001b[0m \u001b[0;34m'self'\u001b[0m \u001b[0;32min\u001b[0m \u001b[0mfields\u001b[0m\u001b[0;34m\u001b[0m\u001b[0;34m\u001b[0m\u001b[0m\n\u001b[0;32m--> 871\u001b[0;31m                                             \u001b[0;32melse\u001b[0m \u001b[0;34m'self'\u001b[0m\u001b[0;34m,\u001b[0m\u001b[0;34m\u001b[0m\u001b[0;34m\u001b[0m\u001b[0m\n\u001b[0m\u001b[1;32m    872\u001b[0m                           ))\n\u001b[1;32m    873\u001b[0m \u001b[0;34m\u001b[0m\u001b[0m\n",
            "\u001b[0;32m/usr/local/lib/python3.6/dist-packages/dataclasses.py\u001b[0m in \u001b[0;36m_init_fn\u001b[0;34m(fields, frozen, has_post_init, self_name)\u001b[0m\n\u001b[1;32m    458\u001b[0m                 \u001b[0mseen_default\u001b[0m \u001b[0;34m=\u001b[0m \u001b[0;32mTrue\u001b[0m\u001b[0;34m\u001b[0m\u001b[0;34m\u001b[0m\u001b[0m\n\u001b[1;32m    459\u001b[0m             \u001b[0;32melif\u001b[0m \u001b[0mseen_default\u001b[0m\u001b[0;34m:\u001b[0m\u001b[0;34m\u001b[0m\u001b[0;34m\u001b[0m\u001b[0m\n\u001b[0;32m--> 460\u001b[0;31m                 raise TypeError(f'non-default argument {f.name!r} '\n\u001b[0m\u001b[1;32m    461\u001b[0m                                 'follows default argument')\n\u001b[1;32m    462\u001b[0m \u001b[0;34m\u001b[0m\u001b[0m\n",
            "\u001b[0;31mTypeError\u001b[0m: non-default argument 'salary' follows default argument"
          ]
        }
      ]
    },
    {
      "cell_type": "code",
      "metadata": {
        "id": "BPDv46kdL8QE"
      },
      "source": [
        "from dataclasses import dataclass\n",
        "\n",
        "\n",
        "@dataclass\n",
        "class Employee:\n",
        "    name: str\n",
        "    lang: str = 'Python'\n",
        "\n",
        "\n",
        "@dataclass\n",
        "class Developer(Employee):\n",
        "    salary: int = 0\n",
        "\n",
        "\n",
        "Halil = Developer('Halil', 'Python', 5000)"
      ],
      "execution_count": 11,
      "outputs": []
    },
    {
      "cell_type": "code",
      "metadata": {
        "colab": {
          "base_uri": "https://localhost:8080/"
        },
        "id": "3vgDa2akMFdm",
        "outputId": "ffb99260-55c9-47e1-c86a-7145a3e5f49e"
      },
      "source": [
        "from dataclasses import dataclass\n",
        "\n",
        "\n",
        "@dataclass\n",
        "class Employee:\n",
        "    name: str\n",
        "    lang: str\n",
        "\n",
        "\n",
        "Halil = Employee('Halil', 'Python')\n",
        "print(Halil.__dict__)"
      ],
      "execution_count": 12,
      "outputs": [
        {
          "output_type": "stream",
          "text": [
            "{'name': 'Halil', 'lang': 'Python'}\n"
          ],
          "name": "stdout"
        }
      ]
    },
    {
      "cell_type": "code",
      "metadata": {
        "id": "H1YJAB2iMGim"
      },
      "source": [
        "from dataclasses import dataclass\n",
        "\n",
        "\n",
        "@dataclass\n",
        "class Employee:\n",
        "    __slots__ = ('name', 'lang')\n",
        "    name: str\n",
        "    lang: str\n",
        "\n",
        "\n",
        "Halil = Employee('Halil', 'Python')"
      ],
      "execution_count": 13,
      "outputs": []
    }
  ]
}