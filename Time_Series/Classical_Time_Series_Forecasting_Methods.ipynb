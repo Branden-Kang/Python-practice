{
  "nbformat": 4,
  "nbformat_minor": 0,
  "metadata": {
    "colab": {
      "name": "Classical Time Series Forecasting Methods.ipynb",
      "provenance": [],
      "authorship_tag": "ABX9TyPIe2JTxb7+7xm/rVT5OgNk"
    },
    "kernelspec": {
      "name": "python3",
      "display_name": "Python 3"
    }
  },
  "cells": [
    {
      "cell_type": "markdown",
      "metadata": {
        "id": "wtSxad-tGyfR",
        "colab_type": "text"
      },
      "source": [
        "# Classical Time Series Forecasting Methods\n",
        "- [Reference](https://machinelearningmastery.com/time-series-forecasting-methods-in-python-cheat-sheet/)"
      ]
    },
    {
      "cell_type": "markdown",
      "metadata": {
        "id": "6ezoFT3WCtxS",
        "colab_type": "text"
      },
      "source": [
        "# Autoregression (AR)\n",
        "The method is suitable for univariate time series without trend and seasonal components."
      ]
    },
    {
      "cell_type": "code",
      "metadata": {
        "id": "Lv9tWDKdNG1t",
        "colab_type": "code",
        "colab": {}
      },
      "source": [
        "#!pip uninstall statsmodels"
      ],
      "execution_count": 0,
      "outputs": []
    },
    {
      "cell_type": "code",
      "metadata": {
        "id": "IzPsO6hZCrD_",
        "colab_type": "code",
        "colab": {
          "base_uri": "https://localhost:8080/",
          "height": 34
        },
        "outputId": "e7bc8d82-cda9-4959-af7f-15e58fb5e8e8"
      },
      "source": [
        "# AR example\n",
        "#!pip install numpy scipy patsy pandas\n",
        "#!pip install statsmodels\n",
        "from statsmodels.tsa.ar_model import AutoReg\n",
        "from random import random\n",
        "# contrived dataset\n",
        "data = [x + random() for x in range(1,100)]\n",
        "# fit model\n",
        "model = AutoReg(data, lags=1)\n",
        "model_fit = model.fit()\n",
        "# make prediction\n",
        "yhat = model_fit.predict(len(data), len(data))\n",
        "print(yhat)"
      ],
      "execution_count": 3,
      "outputs": [
        {
          "output_type": "stream",
          "text": [
            "[100.588921]\n"
          ],
          "name": "stdout"
        }
      ]
    },
    {
      "cell_type": "markdown",
      "metadata": {
        "id": "YaLkw06KHhiQ",
        "colab_type": "text"
      },
      "source": [
        "# Moving Average (MA)\n",
        "The method is suitable for univariate time series without trend and seasonal components."
      ]
    },
    {
      "cell_type": "code",
      "metadata": {
        "id": "CtOfTJovHTo3",
        "colab_type": "code",
        "colab": {
          "base_uri": "https://localhost:8080/",
          "height": 34
        },
        "outputId": "d6f5ebfa-22c1-4056-a54b-09e4b1583e47"
      },
      "source": [
        "# MA example\n",
        "from statsmodels.tsa.arima_model import ARMA\n",
        "from random import random\n",
        "# contrived dataset\n",
        "data = [x + random() for x in range(1, 100)]\n",
        "# fit model\n",
        "model = ARMA(data, order=(0, 1))\n",
        "model_fit = model.fit(disp=False)\n",
        "# make prediction\n",
        "yhat = model_fit.predict(len(data), len(data))\n",
        "print(yhat)"
      ],
      "execution_count": 4,
      "outputs": [
        {
          "output_type": "stream",
          "text": [
            "[76.90799676]\n"
          ],
          "name": "stdout"
        }
      ]
    },
    {
      "cell_type": "markdown",
      "metadata": {
        "id": "l_9RTqZUIOpk",
        "colab_type": "text"
      },
      "source": [
        "# Autoregressive Moving Average (ARMA)\n",
        "The method is suitable for univariate time series without trend and seasonal components."
      ]
    },
    {
      "cell_type": "code",
      "metadata": {
        "id": "URVENJWeHxHm",
        "colab_type": "code",
        "colab": {
          "base_uri": "https://localhost:8080/",
          "height": 34
        },
        "outputId": "2f5e1563-e03f-4b2c-cc6f-4fcc9cfcb631"
      },
      "source": [
        "# ARMA example\n",
        "from statsmodels.tsa.arima_model import ARMA\n",
        "from random import random\n",
        "# contrived dataset\n",
        "data = [random() for x in range(1, 100)]\n",
        "# fit model\n",
        "model = ARMA(data, order=(2, 1))\n",
        "model_fit = model.fit(disp=False)\n",
        "# make prediction\n",
        "yhat = model_fit.predict(len(data), len(data))\n",
        "print(yhat)"
      ],
      "execution_count": 5,
      "outputs": [
        {
          "output_type": "stream",
          "text": [
            "[0.55475781]\n"
          ],
          "name": "stdout"
        }
      ]
    },
    {
      "cell_type": "markdown",
      "metadata": {
        "id": "WMB0g9EQIYte",
        "colab_type": "text"
      },
      "source": [
        "# Autoregressive Integrated Moving Average (ARIMA)\n",
        "The method is suitable for univariate time series with trend and without seasonal components."
      ]
    },
    {
      "cell_type": "code",
      "metadata": {
        "id": "KD3Yc39KIRhZ",
        "colab_type": "code",
        "colab": {
          "base_uri": "https://localhost:8080/",
          "height": 190
        },
        "outputId": "5b699f7a-e1bb-417f-87e6-031cbd16c7f4"
      },
      "source": [
        "!pip3 install statsmodels\n",
        "# ARIMA example\n",
        "from statsmodels.tsa.arima_model import ARIMA\n",
        "from random import random\n",
        "# contrived dataset\n",
        "data = [x + random() for x in range(1, 100)]\n",
        "# fit model\n",
        "model = ARIMA(data, order=(1, 1, 1))\n",
        "model_fit = model.fit(disp=False)\n",
        "# make prediction\n",
        "yhat = model_fit.predict(len(data), len(data), typ='levels')\n",
        "print(yhat)"
      ],
      "execution_count": 6,
      "outputs": [
        {
          "output_type": "stream",
          "text": [
            "Requirement already satisfied: statsmodels in /usr/local/lib/python3.6/dist-packages (0.11.1)\n",
            "Requirement already satisfied: numpy>=1.14 in /usr/local/lib/python3.6/dist-packages (from statsmodels) (1.18.5)\n",
            "Requirement already satisfied: patsy>=0.5 in /usr/local/lib/python3.6/dist-packages (from statsmodels) (0.5.1)\n",
            "Requirement already satisfied: pandas>=0.21 in /usr/local/lib/python3.6/dist-packages (from statsmodels) (1.0.4)\n",
            "Requirement already satisfied: scipy>=1.0 in /usr/local/lib/python3.6/dist-packages (from statsmodels) (1.4.1)\n",
            "Requirement already satisfied: six in /usr/local/lib/python3.6/dist-packages (from patsy>=0.5->statsmodels) (1.12.0)\n",
            "Requirement already satisfied: pytz>=2017.2 in /usr/local/lib/python3.6/dist-packages (from pandas>=0.21->statsmodels) (2018.9)\n",
            "Requirement already satisfied: python-dateutil>=2.6.1 in /usr/local/lib/python3.6/dist-packages (from pandas>=0.21->statsmodels) (2.8.1)\n",
            "[100.41348407]\n"
          ],
          "name": "stdout"
        }
      ]
    },
    {
      "cell_type": "markdown",
      "metadata": {
        "id": "P9p_GvNoJN5x",
        "colab_type": "text"
      },
      "source": [
        "# Seasonal Autoregressive Integrated Moving-Average (SARIMA)\n",
        "The method is suitable for univariate time series with trend and/or seasonal components."
      ]
    },
    {
      "cell_type": "code",
      "metadata": {
        "id": "aDAG6QadJBhB",
        "colab_type": "code",
        "colab": {
          "base_uri": "https://localhost:8080/",
          "height": 395
        },
        "outputId": "640821b3-e6ed-4c7f-8d72-bc3565cfd866"
      },
      "source": [
        "# SARIMA example\n",
        "from statsmodels.tsa.statespace.sarimax import SARIMAX\n",
        "from random import random\n",
        "# contrived dataset\n",
        "data = [x + random() for x in range(1, 100)]\n",
        "# fit model\n",
        "model = SARIMAX(data, order=(1, 1, 1), seasonal_order=(1, 1, 1, 1))\n",
        "model_fit = model.fit(disp=False)\n",
        "# make prediction\n",
        "yhat = model_fit.predict(len(data), len(data))\n",
        "print(yhat)"
      ],
      "execution_count": 7,
      "outputs": [
        {
          "output_type": "error",
          "ename": "ValueError",
          "evalue": "ignored",
          "traceback": [
            "\u001b[0;31m---------------------------------------------------------------------------\u001b[0m",
            "\u001b[0;31mValueError\u001b[0m                                Traceback (most recent call last)",
            "\u001b[0;32m<ipython-input-7-a729481ef7f4>\u001b[0m in \u001b[0;36m<module>\u001b[0;34m()\u001b[0m\n\u001b[1;32m      5\u001b[0m \u001b[0mdata\u001b[0m \u001b[0;34m=\u001b[0m \u001b[0;34m[\u001b[0m\u001b[0mx\u001b[0m \u001b[0;34m+\u001b[0m \u001b[0mrandom\u001b[0m\u001b[0;34m(\u001b[0m\u001b[0;34m)\u001b[0m \u001b[0;32mfor\u001b[0m \u001b[0mx\u001b[0m \u001b[0;32min\u001b[0m \u001b[0mrange\u001b[0m\u001b[0;34m(\u001b[0m\u001b[0;36m1\u001b[0m\u001b[0;34m,\u001b[0m \u001b[0;36m100\u001b[0m\u001b[0;34m)\u001b[0m\u001b[0;34m]\u001b[0m\u001b[0;34m\u001b[0m\u001b[0;34m\u001b[0m\u001b[0m\n\u001b[1;32m      6\u001b[0m \u001b[0;31m# fit model\u001b[0m\u001b[0;34m\u001b[0m\u001b[0;34m\u001b[0m\u001b[0;34m\u001b[0m\u001b[0m\n\u001b[0;32m----> 7\u001b[0;31m \u001b[0mmodel\u001b[0m \u001b[0;34m=\u001b[0m \u001b[0mSARIMAX\u001b[0m\u001b[0;34m(\u001b[0m\u001b[0mdata\u001b[0m\u001b[0;34m,\u001b[0m \u001b[0morder\u001b[0m\u001b[0;34m=\u001b[0m\u001b[0;34m(\u001b[0m\u001b[0;36m1\u001b[0m\u001b[0;34m,\u001b[0m \u001b[0;36m1\u001b[0m\u001b[0;34m,\u001b[0m \u001b[0;36m1\u001b[0m\u001b[0;34m)\u001b[0m\u001b[0;34m,\u001b[0m \u001b[0mseasonal_order\u001b[0m\u001b[0;34m=\u001b[0m\u001b[0;34m(\u001b[0m\u001b[0;36m1\u001b[0m\u001b[0;34m,\u001b[0m \u001b[0;36m1\u001b[0m\u001b[0;34m,\u001b[0m \u001b[0;36m1\u001b[0m\u001b[0;34m,\u001b[0m \u001b[0;36m1\u001b[0m\u001b[0;34m)\u001b[0m\u001b[0;34m)\u001b[0m\u001b[0;34m\u001b[0m\u001b[0;34m\u001b[0m\u001b[0m\n\u001b[0m\u001b[1;32m      8\u001b[0m \u001b[0mmodel_fit\u001b[0m \u001b[0;34m=\u001b[0m \u001b[0mmodel\u001b[0m\u001b[0;34m.\u001b[0m\u001b[0mfit\u001b[0m\u001b[0;34m(\u001b[0m\u001b[0mdisp\u001b[0m\u001b[0;34m=\u001b[0m\u001b[0;32mFalse\u001b[0m\u001b[0;34m)\u001b[0m\u001b[0;34m\u001b[0m\u001b[0;34m\u001b[0m\u001b[0m\n\u001b[1;32m      9\u001b[0m \u001b[0;31m# make prediction\u001b[0m\u001b[0;34m\u001b[0m\u001b[0;34m\u001b[0m\u001b[0;34m\u001b[0m\u001b[0m\n",
            "\u001b[0;32m/usr/local/lib/python3.6/dist-packages/statsmodels/tsa/statespace/sarimax.py\u001b[0m in \u001b[0;36m__init__\u001b[0;34m(self, endog, exog, order, seasonal_order, trend, measurement_error, time_varying_regression, mle_regression, simple_differencing, enforce_stationarity, enforce_invertibility, hamilton_representation, concentrate_scale, trend_offset, use_exact_diffuse, dates, freq, missing, **kwargs)\u001b[0m\n\u001b[1;32m    330\u001b[0m             \u001b[0mtrend\u001b[0m\u001b[0;34m=\u001b[0m\u001b[0mtrend\u001b[0m\u001b[0;34m,\u001b[0m \u001b[0menforce_stationarity\u001b[0m\u001b[0;34m=\u001b[0m\u001b[0;32mNone\u001b[0m\u001b[0;34m,\u001b[0m \u001b[0menforce_invertibility\u001b[0m\u001b[0;34m=\u001b[0m\u001b[0;32mNone\u001b[0m\u001b[0;34m,\u001b[0m\u001b[0;34m\u001b[0m\u001b[0;34m\u001b[0m\u001b[0m\n\u001b[1;32m    331\u001b[0m             \u001b[0mconcentrate_scale\u001b[0m\u001b[0;34m=\u001b[0m\u001b[0mconcentrate_scale\u001b[0m\u001b[0;34m,\u001b[0m \u001b[0mdates\u001b[0m\u001b[0;34m=\u001b[0m\u001b[0mdates\u001b[0m\u001b[0;34m,\u001b[0m \u001b[0mfreq\u001b[0m\u001b[0;34m=\u001b[0m\u001b[0mfreq\u001b[0m\u001b[0;34m,\u001b[0m\u001b[0;34m\u001b[0m\u001b[0;34m\u001b[0m\u001b[0m\n\u001b[0;32m--> 332\u001b[0;31m             missing=missing)\n\u001b[0m\u001b[1;32m    333\u001b[0m         \u001b[0mself\u001b[0m\u001b[0;34m.\u001b[0m\u001b[0m_params\u001b[0m \u001b[0;34m=\u001b[0m \u001b[0mSARIMAXParams\u001b[0m\u001b[0;34m(\u001b[0m\u001b[0mself\u001b[0m\u001b[0;34m.\u001b[0m\u001b[0m_spec\u001b[0m\u001b[0;34m)\u001b[0m\u001b[0;34m\u001b[0m\u001b[0;34m\u001b[0m\u001b[0m\n\u001b[1;32m    334\u001b[0m \u001b[0;34m\u001b[0m\u001b[0m\n",
            "\u001b[0;32m/usr/local/lib/python3.6/dist-packages/statsmodels/tsa/arima/specification.py\u001b[0m in \u001b[0;36m__init__\u001b[0;34m(self, endog, exog, order, seasonal_order, ar_order, diff, ma_order, seasonal_ar_order, seasonal_diff, seasonal_ma_order, seasonal_periods, trend, enforce_stationarity, enforce_invertibility, concentrate_scale, trend_offset, dates, freq, missing)\u001b[0m\n\u001b[1;32m    297\u001b[0m         \u001b[0;31m# Validate seasonals\u001b[0m\u001b[0;34m\u001b[0m\u001b[0;34m\u001b[0m\u001b[0;34m\u001b[0m\u001b[0m\n\u001b[1;32m    298\u001b[0m         \u001b[0;32mif\u001b[0m \u001b[0mseasonal_order\u001b[0m\u001b[0;34m[\u001b[0m\u001b[0;36m3\u001b[0m\u001b[0;34m]\u001b[0m \u001b[0;34m==\u001b[0m \u001b[0;36m1\u001b[0m\u001b[0;34m:\u001b[0m\u001b[0;34m\u001b[0m\u001b[0;34m\u001b[0m\u001b[0m\n\u001b[0;32m--> 299\u001b[0;31m             \u001b[0;32mraise\u001b[0m \u001b[0mValueError\u001b[0m\u001b[0;34m(\u001b[0m\u001b[0;34m'Seasonal periodicity must be greater than 1.'\u001b[0m\u001b[0;34m)\u001b[0m\u001b[0;34m\u001b[0m\u001b[0;34m\u001b[0m\u001b[0m\n\u001b[0m\u001b[1;32m    300\u001b[0m         if ((seasonal_order[0] != 0 or seasonal_order[1] != 0 or\n\u001b[1;32m    301\u001b[0m                 seasonal_order[2] != 0) and seasonal_order[3] == 0):\n",
            "\u001b[0;31mValueError\u001b[0m: Seasonal periodicity must be greater than 1."
          ]
        }
      ]
    },
    {
      "cell_type": "markdown",
      "metadata": {
        "id": "X90tx_xqJXuf",
        "colab_type": "text"
      },
      "source": [
        "# Seasonal Autoregressive Integrated Moving-Average with Exogenous Regressors (SARIMAX)\n",
        "The method is suitable for univariate time series with trend and/or seasonal components and exogenous variables."
      ]
    },
    {
      "cell_type": "code",
      "metadata": {
        "id": "VCvjEk9MJVYm",
        "colab_type": "code",
        "colab": {
          "base_uri": "https://localhost:8080/",
          "height": 34
        },
        "outputId": "80d20200-546c-49fb-a060-d76b93bb12b6"
      },
      "source": [
        "# SARIMAX example\n",
        "from statsmodels.tsa.statespace.sarimax import SARIMAX\n",
        "from random import random\n",
        "# contrived dataset\n",
        "data1 = [x + random() for x in range(1, 100)]\n",
        "data2 = [x + random() for x in range(101, 200)]\n",
        "# fit model\n",
        "model = SARIMAX(data1, exog=data2, order=(1, 1, 1), seasonal_order=(0, 0, 0, 0))\n",
        "model_fit = model.fit(disp=False)\n",
        "# make prediction\n",
        "exog2 = [200 + random()]\n",
        "yhat = model_fit.predict(len(data1), len(data1), exog=[exog2])\n",
        "print(yhat)"
      ],
      "execution_count": 8,
      "outputs": [
        {
          "output_type": "stream",
          "text": [
            "[100.72439991]\n"
          ],
          "name": "stdout"
        }
      ]
    },
    {
      "cell_type": "markdown",
      "metadata": {
        "id": "hyp5qBQVJvcj",
        "colab_type": "text"
      },
      "source": [
        "# Vector Autoregression (VAR)\n",
        "The method is suitable for multivariate time series without trend and seasonal components."
      ]
    },
    {
      "cell_type": "code",
      "metadata": {
        "id": "W5O6C4BWJkXN",
        "colab_type": "code",
        "colab": {
          "base_uri": "https://localhost:8080/",
          "height": 88
        },
        "outputId": "54fdb225-7704-496c-9ce8-03395b16b242"
      },
      "source": [
        "# VAR example\n",
        "from statsmodels.tsa.vector_ar.var_model import VAR\n",
        "from random import random\n",
        "# contrived dataset with dependency\n",
        "data = list()\n",
        "for i in range(100):\n",
        "    v1 = i + random()\n",
        "    v2 = v1 + random()\n",
        "    row = [v1, v2]\n",
        "    data.append(row)\n",
        "# fit model\n",
        "model = VAR(data)\n",
        "model_fit = model.fit()\n",
        "# make prediction\n",
        "yhat = model_fit.forecast(model_fit.y, steps=1)\n",
        "print(yhat)"
      ],
      "execution_count": 9,
      "outputs": [
        {
          "output_type": "stream",
          "text": [
            "[[100.47032741 100.98726301]]\n"
          ],
          "name": "stdout"
        },
        {
          "output_type": "stream",
          "text": [
            "/usr/local/lib/python3.6/dist-packages/statsmodels/base/wrapper.py:36: FutureWarning: y is a deprecated alias for endog, will be removed in version 0.11.0\n",
            "  obj = getattr(results, attr)\n"
          ],
          "name": "stderr"
        }
      ]
    },
    {
      "cell_type": "markdown",
      "metadata": {
        "id": "MGp59QCRJ3fZ",
        "colab_type": "text"
      },
      "source": [
        "# Vector Autoregression Moving-Average (VARMA)\n",
        "The method is suitable for multivariate time series without trend and seasonal components."
      ]
    },
    {
      "cell_type": "code",
      "metadata": {
        "id": "IDiO0PJOJ1C4",
        "colab_type": "code",
        "colab": {
          "base_uri": "https://localhost:8080/",
          "height": 156
        },
        "outputId": "6df237eb-081e-428e-d606-ebd30e8bbdfa"
      },
      "source": [
        "from statsmodels.tsa.statespace.varmax import VARMAX\n",
        "from random import random\n",
        "# contrived dataset with dependency\n",
        "data = list()\n",
        "for i in range(100):\n",
        "    v1 = random()\n",
        "    v2 = v1 + random()\n",
        "    row = [v1, v2]\n",
        "    data.append(row)\n",
        "# fit model\n",
        "model = VARMAX(data, order=(1, 1))\n",
        "model_fit = model.fit(disp=False)\n",
        "# make prediction\n",
        "yhat = model_fit.forecast()\n",
        "print(yhat)"
      ],
      "execution_count": 10,
      "outputs": [
        {
          "output_type": "stream",
          "text": [
            "/usr/local/lib/python3.6/dist-packages/statsmodels/tsa/statespace/varmax.py:163: EstimationWarning: Estimation of VARMA(p,q) models is not generically robust, due especially to identification issues.\n",
            "  EstimationWarning)\n"
          ],
          "name": "stderr"
        },
        {
          "output_type": "stream",
          "text": [
            "[[0.60298106 0.94293709]]\n"
          ],
          "name": "stdout"
        },
        {
          "output_type": "stream",
          "text": [
            "/usr/local/lib/python3.6/dist-packages/statsmodels/base/model.py:568: ConvergenceWarning: Maximum Likelihood optimization failed to converge. Check mle_retvals\n",
            "  \"Check mle_retvals\", ConvergenceWarning)\n",
            "/usr/local/lib/python3.6/dist-packages/statsmodels/tsa/statespace/varmax.py:163: EstimationWarning: Estimation of VARMA(p,q) models is not generically robust, due especially to identification issues.\n",
            "  EstimationWarning)\n"
          ],
          "name": "stderr"
        }
      ]
    },
    {
      "cell_type": "markdown",
      "metadata": {
        "id": "Ay1H12ncJ9I8",
        "colab_type": "text"
      },
      "source": [
        "# Vector Autoregression Moving-Average with Exogenous Regressors (VARMAX)\n",
        "The method is suitable for multivariate time series without trend and seasonal components with exogenous variables."
      ]
    },
    {
      "cell_type": "code",
      "metadata": {
        "id": "1wFPP6qgJ76M",
        "colab_type": "code",
        "colab": {
          "base_uri": "https://localhost:8080/",
          "height": 156
        },
        "outputId": "8d24fcdc-97f3-41ec-c12a-327c3cb9882a"
      },
      "source": [
        "# VARMAX example\n",
        "from statsmodels.tsa.statespace.varmax import VARMAX\n",
        "from random import random\n",
        "# contrived dataset with dependency\n",
        "data = list()\n",
        "for i in range(100):\n",
        "    v1 = random()\n",
        "    v2 = v1 + random()\n",
        "    row = [v1, v2]\n",
        "    data.append(row)\n",
        "data_exog = [x + random() for x in range(100)]\n",
        "# fit model\n",
        "model = VARMAX(data, exog=data_exog, order=(1, 1))\n",
        "model_fit = model.fit(disp=False)\n",
        "# make prediction\n",
        "data_exog2 = [[100]]\n",
        "yhat = model_fit.forecast(exog=data_exog2)\n",
        "print(yhat)"
      ],
      "execution_count": 11,
      "outputs": [
        {
          "output_type": "stream",
          "text": [
            "/usr/local/lib/python3.6/dist-packages/statsmodels/tsa/statespace/varmax.py:163: EstimationWarning: Estimation of VARMA(p,q) models is not generically robust, due especially to identification issues.\n",
            "  EstimationWarning)\n"
          ],
          "name": "stderr"
        },
        {
          "output_type": "stream",
          "text": [
            "[[0.61948029 1.1229998 ]]\n"
          ],
          "name": "stdout"
        },
        {
          "output_type": "stream",
          "text": [
            "/usr/local/lib/python3.6/dist-packages/statsmodels/tsa/statespace/varmax.py:163: EstimationWarning: Estimation of VARMA(p,q) models is not generically robust, due especially to identification issues.\n",
            "  EstimationWarning)\n",
            "/usr/local/lib/python3.6/dist-packages/statsmodels/tsa/statespace/varmax.py:163: EstimationWarning: Estimation of VARMA(p,q) models is not generically robust, due especially to identification issues.\n",
            "  EstimationWarning)\n"
          ],
          "name": "stderr"
        }
      ]
    },
    {
      "cell_type": "markdown",
      "metadata": {
        "id": "n5hujobFKDaM",
        "colab_type": "text"
      },
      "source": [
        "# Simple Exponential Smoothing (SES)\n",
        "The method is suitable for univariate time series without trend and seasonal components."
      ]
    },
    {
      "cell_type": "code",
      "metadata": {
        "id": "pUjvWLGRKCQD",
        "colab_type": "code",
        "colab": {
          "base_uri": "https://localhost:8080/",
          "height": 34
        },
        "outputId": "704f6774-4ee6-475a-b8da-86d007359490"
      },
      "source": [
        "# SES example\n",
        "from statsmodels.tsa.holtwinters import SimpleExpSmoothing\n",
        "from random import random\n",
        "# contrived dataset\n",
        "data = [x + random() for x in range(1, 100)]\n",
        "# fit model\n",
        "model = SimpleExpSmoothing(data)\n",
        "model_fit = model.fit()\n",
        "# make prediction\n",
        "yhat = model_fit.predict(len(data), len(data))\n",
        "print(yhat)"
      ],
      "execution_count": 12,
      "outputs": [
        {
          "output_type": "stream",
          "text": [
            "[99.22696615]\n"
          ],
          "name": "stdout"
        }
      ]
    },
    {
      "cell_type": "markdown",
      "metadata": {
        "id": "6HAFsjj1KIts",
        "colab_type": "text"
      },
      "source": [
        "# Holt Winter’s Exponential Smoothing (HWES)\n",
        "The method is suitable for univariate time series with trend and/or seasonal components."
      ]
    },
    {
      "cell_type": "code",
      "metadata": {
        "id": "yeWew1fCKGpo",
        "colab_type": "code",
        "colab": {
          "base_uri": "https://localhost:8080/",
          "height": 34
        },
        "outputId": "789a8efa-a110-4a9e-93e6-ab21af4a12a2"
      },
      "source": [
        "# HWES example\n",
        "from statsmodels.tsa.holtwinters import ExponentialSmoothing\n",
        "from random import random\n",
        "# contrived dataset\n",
        "data = [x + random() for x in range(1, 100)]\n",
        "# fit model\n",
        "model = ExponentialSmoothing(data)\n",
        "model_fit = model.fit()\n",
        "# make prediction\n",
        "yhat = model_fit.predict(len(data), len(data))\n",
        "print(yhat)"
      ],
      "execution_count": 13,
      "outputs": [
        {
          "output_type": "stream",
          "text": [
            "[99.30184173]\n"
          ],
          "name": "stdout"
        }
      ]
    }
  ]
}