{
  "nbformat": 4,
  "nbformat_minor": 0,
  "metadata": {
    "colab": {
      "name": "Time series transformations selection using EDAspy.ipynb",
      "provenance": [],
      "authorship_tag": "ABX9TyN+N6OP3SWgW9iP0RIutzvC"
    },
    "kernelspec": {
      "name": "python3",
      "display_name": "Python 3"
    },
    "language_info": {
      "name": "python"
    }
  },
  "cells": [
    {
      "cell_type": "markdown",
      "metadata": {
        "id": "S8SVsdbA56s9"
      },
      "source": [
        "[Reference](https://towardsdatascience.com/time-series-transformations-selection-using-edaspy-d97e0dc1fcca)"
      ]
    },
    {
      "cell_type": "code",
      "metadata": {
        "colab": {
          "base_uri": "https://localhost:8080/"
        },
        "id": "U29coq0O461K",
        "outputId": "981ca23b-7f71-400c-b628-6740611a8d1e"
      },
      "source": [
        "pip install EDAspy"
      ],
      "execution_count": 2,
      "outputs": [
        {
          "output_type": "stream",
          "text": [
            "Collecting EDAspy\n",
            "\u001b[?25l  Downloading https://files.pythonhosted.org/packages/48/f7/2fa11e89a7ba156ad477f5e5c7fd3c546f5cdc488b7b9f5ce76cfc006998/EDAspy-0.2.0-py3-none-any.whl (40kB)\n",
            "\r\u001b[K     |████████▏                       | 10kB 19.2MB/s eta 0:00:01\r\u001b[K     |████████████████▎               | 20kB 25.5MB/s eta 0:00:01\r\u001b[K     |████████████████████████▌       | 30kB 30.7MB/s eta 0:00:01\r\u001b[K     |████████████████████████████████| 40kB 4.1MB/s \n",
            "\u001b[?25hInstalling collected packages: EDAspy\n",
            "Successfully installed EDAspy-0.2.0\n"
          ],
          "name": "stdout"
        }
      ]
    },
    {
      "cell_type": "code",
      "metadata": {
        "colab": {
          "base_uri": "https://localhost:8080/"
        },
        "id": "rFOo5Ycb59Js",
        "outputId": "dc7e801f-a746-4360-9085-062b86b9f9ca"
      },
      "source": [
        "import pandas as pd\n",
        "import statsmodels.api as sm\n",
        "from statsmodels.tsa.api import VAR\n",
        "import matplotlib.pyplot as plt\n",
        "from sklearn.metrics import mean_absolute_error\n",
        "\n",
        "# EDAspy libraries\n",
        "from EDAspy.timeseries import EDA_ts_fts as EDA\n",
        "from EDAspy.timeseries import TS_transformations"
      ],
      "execution_count": 3,
      "outputs": [
        {
          "output_type": "stream",
          "text": [
            "/usr/local/lib/python3.7/dist-packages/statsmodels/tools/_testing.py:19: FutureWarning: pandas.util.testing is deprecated. Use the functions in the public API at pandas.testing instead.\n",
            "  import pandas.util.testing as tm\n"
          ],
          "name": "stderr"
        }
      ]
    },
    {
      "cell_type": "code",
      "metadata": {
        "colab": {
          "base_uri": "https://localhost:8080/",
          "height": 224
        },
        "id": "M45XbL4H5_kI",
        "outputId": "ce8be2f6-3138-4442-b944-bde6305df9c5"
      },
      "source": [
        "mdata = sm.datasets.macrodata.load_pandas().data\n",
        "df = mdata.iloc[:, 2:12]\n",
        "df.head()"
      ],
      "execution_count": 4,
      "outputs": [
        {
          "output_type": "execute_result",
          "data": {
            "text/html": [
              "<div>\n",
              "<style scoped>\n",
              "    .dataframe tbody tr th:only-of-type {\n",
              "        vertical-align: middle;\n",
              "    }\n",
              "\n",
              "    .dataframe tbody tr th {\n",
              "        vertical-align: top;\n",
              "    }\n",
              "\n",
              "    .dataframe thead th {\n",
              "        text-align: right;\n",
              "    }\n",
              "</style>\n",
              "<table border=\"1\" class=\"dataframe\">\n",
              "  <thead>\n",
              "    <tr style=\"text-align: right;\">\n",
              "      <th></th>\n",
              "      <th>realgdp</th>\n",
              "      <th>realcons</th>\n",
              "      <th>realinv</th>\n",
              "      <th>realgovt</th>\n",
              "      <th>realdpi</th>\n",
              "      <th>cpi</th>\n",
              "      <th>m1</th>\n",
              "      <th>tbilrate</th>\n",
              "      <th>unemp</th>\n",
              "      <th>pop</th>\n",
              "    </tr>\n",
              "  </thead>\n",
              "  <tbody>\n",
              "    <tr>\n",
              "      <th>0</th>\n",
              "      <td>2710.349</td>\n",
              "      <td>1707.4</td>\n",
              "      <td>286.898</td>\n",
              "      <td>470.045</td>\n",
              "      <td>1886.9</td>\n",
              "      <td>28.98</td>\n",
              "      <td>139.7</td>\n",
              "      <td>2.82</td>\n",
              "      <td>5.8</td>\n",
              "      <td>177.146</td>\n",
              "    </tr>\n",
              "    <tr>\n",
              "      <th>1</th>\n",
              "      <td>2778.801</td>\n",
              "      <td>1733.7</td>\n",
              "      <td>310.859</td>\n",
              "      <td>481.301</td>\n",
              "      <td>1919.7</td>\n",
              "      <td>29.15</td>\n",
              "      <td>141.7</td>\n",
              "      <td>3.08</td>\n",
              "      <td>5.1</td>\n",
              "      <td>177.830</td>\n",
              "    </tr>\n",
              "    <tr>\n",
              "      <th>2</th>\n",
              "      <td>2775.488</td>\n",
              "      <td>1751.8</td>\n",
              "      <td>289.226</td>\n",
              "      <td>491.260</td>\n",
              "      <td>1916.4</td>\n",
              "      <td>29.35</td>\n",
              "      <td>140.5</td>\n",
              "      <td>3.82</td>\n",
              "      <td>5.3</td>\n",
              "      <td>178.657</td>\n",
              "    </tr>\n",
              "    <tr>\n",
              "      <th>3</th>\n",
              "      <td>2785.204</td>\n",
              "      <td>1753.7</td>\n",
              "      <td>299.356</td>\n",
              "      <td>484.052</td>\n",
              "      <td>1931.3</td>\n",
              "      <td>29.37</td>\n",
              "      <td>140.0</td>\n",
              "      <td>4.33</td>\n",
              "      <td>5.6</td>\n",
              "      <td>179.386</td>\n",
              "    </tr>\n",
              "    <tr>\n",
              "      <th>4</th>\n",
              "      <td>2847.699</td>\n",
              "      <td>1770.5</td>\n",
              "      <td>331.722</td>\n",
              "      <td>462.199</td>\n",
              "      <td>1955.5</td>\n",
              "      <td>29.54</td>\n",
              "      <td>139.6</td>\n",
              "      <td>3.50</td>\n",
              "      <td>5.2</td>\n",
              "      <td>180.007</td>\n",
              "    </tr>\n",
              "  </tbody>\n",
              "</table>\n",
              "</div>"
            ],
            "text/plain": [
              "    realgdp  realcons  realinv  realgovt  ...     m1  tbilrate  unemp      pop\n",
              "0  2710.349    1707.4  286.898   470.045  ...  139.7      2.82    5.8  177.146\n",
              "1  2778.801    1733.7  310.859   481.301  ...  141.7      3.08    5.1  177.830\n",
              "2  2775.488    1751.8  289.226   491.260  ...  140.5      3.82    5.3  178.657\n",
              "3  2785.204    1753.7  299.356   484.052  ...  140.0      4.33    5.6  179.386\n",
              "4  2847.699    1770.5  331.722   462.199  ...  139.6      3.50    5.2  180.007\n",
              "\n",
              "[5 rows x 10 columns]"
            ]
          },
          "metadata": {
            "tags": []
          },
          "execution_count": 4
        }
      ]
    },
    {
      "cell_type": "code",
      "metadata": {
        "colab": {
          "base_uri": "https://localhost:8080/"
        },
        "id": "RmMpE1GF6m1g",
        "outputId": "8bca8b38-3863-4b72-bde9-7657596cb190"
      },
      "source": [
        "variables = list(df.columns)\n",
        "variable_y = 'pop'  # pop is the variable we want to forecast\n",
        "variables = list(set(variables) - {variable_y})  # array of variables to select among transformations\n",
        "variables"
      ],
      "execution_count": 5,
      "outputs": [
        {
          "output_type": "execute_result",
          "data": {
            "text/plain": [
              "['unemp',\n",
              " 'realgdp',\n",
              " 'cpi',\n",
              " 'tbilrate',\n",
              " 'realinv',\n",
              " 'realgovt',\n",
              " 'realcons',\n",
              " 'realdpi',\n",
              " 'm1']"
            ]
          },
          "metadata": {
            "tags": []
          },
          "execution_count": 5
        }
      ]
    },
    {
      "cell_type": "code",
      "metadata": {
        "id": "HgMZ2jpDMbcK"
      },
      "source": [
        "TSTransf = TS_transformations.TSTransformations(df)\n",
        "transformations = ['detrend', 'smooth', 'log']  # postfix to variables, to denote the transformation\n",
        "\n",
        "# build the transformations\n",
        "for var in variables:\n",
        "    transformation = TSTransf.de_trending(var)\n",
        "    df[var + 'detrend'] = transformation\n",
        "\n",
        "for var in variables:\n",
        "    transformation = TSTransf.smoothing(var, window=10)\n",
        "    df[var + 'smooth'] = transformation\n",
        "\n",
        "for var in variables:\n",
        "    transformation = TSTransf.log(var)\n",
        "    df[var + 'log'] = transformation"
      ],
      "execution_count": 7,
      "outputs": []
    },
    {
      "cell_type": "code",
      "metadata": {
        "id": "WWxx8-J46D37"
      },
      "source": [
        "def cost_function(variables_list, nobs=20, maxlags=15, forecastings=10):\n",
        "    \"\"\"\n",
        "    variables_list: list of variables without the variable_y\n",
        "    nobs: how many observations for validation\n",
        "    maxlags: previous lags used to predict\n",
        "    forecasting: number of observations to predict\n",
        "    \n",
        "    return: MAE of the prediction with the real validation data\n",
        "    \"\"\"\n",
        "    \n",
        "    data = df[variables_list + [variable_y]]\n",
        "\n",
        "    df_train, df_test = data[0:-nobs], data[-nobs:]\n",
        "\n",
        "    model = VAR(df_train)\n",
        "    results = model.fit(maxlags=maxlags, ic='aic')\n",
        "\n",
        "    lag_order = results.k_ar\n",
        "    array = results.forecast(df_train.values[-lag_order:], forecastings)\n",
        "\n",
        "    variables_ = list(data.columns)\n",
        "    position = variables_.index(variable_y)\n",
        "\n",
        "    validation = [array[i][position] for i in range(len(array))]\n",
        "    mae = mean_absolute_error(validation, df_test['pop'][-forecastings:])\n",
        "    \n",
        "    return mae"
      ],
      "execution_count": 8,
      "outputs": []
    },
    {
      "cell_type": "code",
      "metadata": {
        "colab": {
          "base_uri": "https://localhost:8080/"
        },
        "id": "wdKXTQSe6TgV",
        "outputId": "df0e9a1c-797d-4f12-f44f-077051424bee"
      },
      "source": [
        "mae_pre_eda = cost_function(variables)\n",
        "print('MAE without using EDA:', mae_pre_eda)"
      ],
      "execution_count": 9,
      "outputs": [
        {
          "output_type": "stream",
          "text": [
            "MAE without using EDA: 5.09147801001331\n"
          ],
          "name": "stdout"
        }
      ]
    },
    {
      "cell_type": "code",
      "metadata": {
        "id": "MvPkMwZw6V7H"
      },
      "source": [
        "vector = pd.DataFrame(columns=list(variables))\n",
        "vector.loc[0] = 0.5"
      ],
      "execution_count": 10,
      "outputs": []
    },
    {
      "cell_type": "code",
      "metadata": {
        "colab": {
          "base_uri": "https://localhost:8080/"
        },
        "id": "qPvOdq-y6YL1",
        "outputId": "b9a64fa6-2cbb-4b69-fe82-efd6c74c244b"
      },
      "source": [
        "eda = EDA(max_it=50, dead_it=5, size_gen=15, alpha=0.7, vector=vector,\n",
        "          array_transformations=transformations, cost_function=cost_function)\n",
        "best_ind, best_MAE = eda.run(output=True)"
      ],
      "execution_count": 11,
      "outputs": [
        {
          "output_type": "stream",
          "text": [
            "[iteration: 0 ] 4.582044935325411\n",
            "[iteration: 1 ] 5.288557507894836\n",
            "[iteration: 2 ] 5.2603328753027885\n",
            "[iteration: 3 ] 5.297341789981158\n",
            "[iteration: 4 ] 5.164647056379982\n"
          ],
          "name": "stdout"
        }
      ]
    },
    {
      "cell_type": "code",
      "metadata": {
        "colab": {
          "base_uri": "https://localhost:8080/",
          "height": 380
        },
        "id": "yWzR8KLT6dL-",
        "outputId": "d7f5b87c-1974-429d-a999-b7a3128959cb"
      },
      "source": [
        "hist = eda.historic_best\n",
        "\n",
        "relative_plot = []\n",
        "mx = 999999999\n",
        "for i in range(len(hist)):\n",
        "    if hist[i] < mx:\n",
        "        mx = hist[i]\n",
        "        relative_plot.append(mx)\n",
        "    else:\n",
        "        relative_plot.append(mx)\n",
        "\n",
        "print('Solution:', best_ind, '\\nMAE post EDA: %.2f' % best_MAE, '\\nMAE pre EDA: %.2f' % mae_pre_eda)\n",
        "\n",
        "plt.figure(figsize = (14,6))\n",
        "\n",
        "ax = plt.subplot(121)\n",
        "ax.plot(list(range(len(hist))), hist)\n",
        "ax.title.set_text('Local cost found')\n",
        "ax.set_xlabel('iteration')\n",
        "ax.set_ylabel('MAE')\n",
        "\n",
        "ax = plt.subplot(122)\n",
        "ax.plot(list(range(len(relative_plot))), relative_plot)\n",
        "ax.title.set_text('Best global cost found')\n",
        "ax.set_xlabel('iteration')\n",
        "ax.set_ylabel('MAE')\n",
        "\n",
        "plt.show()"
      ],
      "execution_count": 12,
      "outputs": [
        {
          "output_type": "stream",
          "text": [
            "Solution: ['realgdpsmooth', 'cpilog', 'tbilratebasic', 'realinvlog', 'realgovtdetrend', 'realconsdetrend', 'realdpismooth', 'm1detrend'] \n",
            "MAE post EDA: 4.58 \n",
            "MAE pre EDA: 5.09\n"
          ],
          "name": "stdout"
        },
        {
          "output_type": "display_data",
          "data": {
            "image/png": "[encoded data removed]",
            "text/plain": [
              "<Figure size 1008x432 with 2 Axes>"
            ]
          },
          "metadata": {
            "tags": [],
            "needs_background": "light"
          }
        }
      ]
    }
  ]
}