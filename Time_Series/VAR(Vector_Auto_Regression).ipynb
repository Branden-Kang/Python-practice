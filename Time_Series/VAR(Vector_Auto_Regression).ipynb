{
  "nbformat": 4,
  "nbformat_minor": 0,
  "metadata": {
    "colab": {
      "name": "VAR(Vector Auto Regression).ipynb",
      "provenance": [],
      "authorship_tag": "ABX9TyNiT9FJiAWjxnVxCXCFwcBv"
    },
    "kernelspec": {
      "name": "python3",
      "display_name": "Python 3"
    },
    "language_info": {
      "name": "python"
    }
  },
  "cells": [
    {
      "cell_type": "markdown",
      "metadata": {
        "id": "rJKVQ4QNrcBI"
      },
      "source": [
        "[Reference](https://dining-developer.tistory.com/32)"
      ]
    },
    {
      "cell_type": "code",
      "metadata": {
        "colab": {
          "base_uri": "https://localhost:8080/"
        },
        "id": "wRGFJ6Uuranz",
        "outputId": "ae4d362e-25f5-42b4-e2ea-7f336d6c1e1b"
      },
      "source": [
        "import numpy as np\n",
        "import seaborn as sns\n",
        "import matplotlib.pyplot as plt\n",
        "import pandas as pd\n",
        "\n",
        "import statsmodels.api as sm\n",
        "from statsmodels.tsa.api import VAR\n",
        "from statsmodels.tsa.stattools import adfuller"
      ],
      "execution_count": 1,
      "outputs": [
        {
          "output_type": "stream",
          "text": [
            "/usr/local/lib/python3.7/dist-packages/statsmodels/tools/_testing.py:19: FutureWarning: pandas.util.testing is deprecated. Use the functions in the public API at pandas.testing instead.\n",
            "  import pandas.util.testing as tm\n"
          ],
          "name": "stderr"
        }
      ]
    },
    {
      "cell_type": "code",
      "metadata": {
        "colab": {
          "base_uri": "https://localhost:8080/",
          "height": 224
        },
        "id": "sJo_SF3drncR",
        "outputId": "18f466a0-0f1e-4cf1-ceb2-ed4cf0e6294c"
      },
      "source": [
        "data = sm.datasets.macrodata.load_pandas().data\n",
        "data.head()"
      ],
      "execution_count": 2,
      "outputs": [
        {
          "output_type": "execute_result",
          "data": {
            "text/html": [
              "<div>\n",
              "<style scoped>\n",
              "    .dataframe tbody tr th:only-of-type {\n",
              "        vertical-align: middle;\n",
              "    }\n",
              "\n",
              "    .dataframe tbody tr th {\n",
              "        vertical-align: top;\n",
              "    }\n",
              "\n",
              "    .dataframe thead th {\n",
              "        text-align: right;\n",
              "    }\n",
              "</style>\n",
              "<table border=\"1\" class=\"dataframe\">\n",
              "  <thead>\n",
              "    <tr style=\"text-align: right;\">\n",
              "      <th></th>\n",
              "      <th>year</th>\n",
              "      <th>quarter</th>\n",
              "      <th>realgdp</th>\n",
              "      <th>realcons</th>\n",
              "      <th>realinv</th>\n",
              "      <th>realgovt</th>\n",
              "      <th>realdpi</th>\n",
              "      <th>cpi</th>\n",
              "      <th>m1</th>\n",
              "      <th>tbilrate</th>\n",
              "      <th>unemp</th>\n",
              "      <th>pop</th>\n",
              "      <th>infl</th>\n",
              "      <th>realint</th>\n",
              "    </tr>\n",
              "  </thead>\n",
              "  <tbody>\n",
              "    <tr>\n",
              "      <th>0</th>\n",
              "      <td>1959.0</td>\n",
              "      <td>1.0</td>\n",
              "      <td>2710.349</td>\n",
              "      <td>1707.4</td>\n",
              "      <td>286.898</td>\n",
              "      <td>470.045</td>\n",
              "      <td>1886.9</td>\n",
              "      <td>28.98</td>\n",
              "      <td>139.7</td>\n",
              "      <td>2.82</td>\n",
              "      <td>5.8</td>\n",
              "      <td>177.146</td>\n",
              "      <td>0.00</td>\n",
              "      <td>0.00</td>\n",
              "    </tr>\n",
              "    <tr>\n",
              "      <th>1</th>\n",
              "      <td>1959.0</td>\n",
              "      <td>2.0</td>\n",
              "      <td>2778.801</td>\n",
              "      <td>1733.7</td>\n",
              "      <td>310.859</td>\n",
              "      <td>481.301</td>\n",
              "      <td>1919.7</td>\n",
              "      <td>29.15</td>\n",
              "      <td>141.7</td>\n",
              "      <td>3.08</td>\n",
              "      <td>5.1</td>\n",
              "      <td>177.830</td>\n",
              "      <td>2.34</td>\n",
              "      <td>0.74</td>\n",
              "    </tr>\n",
              "    <tr>\n",
              "      <th>2</th>\n",
              "      <td>1959.0</td>\n",
              "      <td>3.0</td>\n",
              "      <td>2775.488</td>\n",
              "      <td>1751.8</td>\n",
              "      <td>289.226</td>\n",
              "      <td>491.260</td>\n",
              "      <td>1916.4</td>\n",
              "      <td>29.35</td>\n",
              "      <td>140.5</td>\n",
              "      <td>3.82</td>\n",
              "      <td>5.3</td>\n",
              "      <td>178.657</td>\n",
              "      <td>2.74</td>\n",
              "      <td>1.09</td>\n",
              "    </tr>\n",
              "    <tr>\n",
              "      <th>3</th>\n",
              "      <td>1959.0</td>\n",
              "      <td>4.0</td>\n",
              "      <td>2785.204</td>\n",
              "      <td>1753.7</td>\n",
              "      <td>299.356</td>\n",
              "      <td>484.052</td>\n",
              "      <td>1931.3</td>\n",
              "      <td>29.37</td>\n",
              "      <td>140.0</td>\n",
              "      <td>4.33</td>\n",
              "      <td>5.6</td>\n",
              "      <td>179.386</td>\n",
              "      <td>0.27</td>\n",
              "      <td>4.06</td>\n",
              "    </tr>\n",
              "    <tr>\n",
              "      <th>4</th>\n",
              "      <td>1960.0</td>\n",
              "      <td>1.0</td>\n",
              "      <td>2847.699</td>\n",
              "      <td>1770.5</td>\n",
              "      <td>331.722</td>\n",
              "      <td>462.199</td>\n",
              "      <td>1955.5</td>\n",
              "      <td>29.54</td>\n",
              "      <td>139.6</td>\n",
              "      <td>3.50</td>\n",
              "      <td>5.2</td>\n",
              "      <td>180.007</td>\n",
              "      <td>2.31</td>\n",
              "      <td>1.19</td>\n",
              "    </tr>\n",
              "  </tbody>\n",
              "</table>\n",
              "</div>"
            ],
            "text/plain": [
              "     year  quarter   realgdp  realcons  ...  unemp      pop  infl  realint\n",
              "0  1959.0      1.0  2710.349    1707.4  ...    5.8  177.146  0.00     0.00\n",
              "1  1959.0      2.0  2778.801    1733.7  ...    5.1  177.830  2.34     0.74\n",
              "2  1959.0      3.0  2775.488    1751.8  ...    5.3  178.657  2.74     1.09\n",
              "3  1959.0      4.0  2785.204    1753.7  ...    5.6  179.386  0.27     4.06\n",
              "4  1960.0      1.0  2847.699    1770.5  ...    5.2  180.007  2.31     1.19\n",
              "\n",
              "[5 rows x 14 columns]"
            ]
          },
          "metadata": {
            "tags": []
          },
          "execution_count": 2
        }
      ]
    },
    {
      "cell_type": "code",
      "metadata": {
        "colab": {
          "base_uri": "https://localhost:8080/",
          "height": 235
        },
        "id": "PvO4lD0GronV",
        "outputId": "be672012-d223-4670-f72b-73fe3805b845"
      },
      "source": [
        "mydata = data[[\"realgdp\", 'realdpi']]\n",
        "mydata.index = data[\"year\"]\n",
        "mydata.head()"
      ],
      "execution_count": 3,
      "outputs": [
        {
          "output_type": "execute_result",
          "data": {
            "text/html": [
              "<div>\n",
              "<style scoped>\n",
              "    .dataframe tbody tr th:only-of-type {\n",
              "        vertical-align: middle;\n",
              "    }\n",
              "\n",
              "    .dataframe tbody tr th {\n",
              "        vertical-align: top;\n",
              "    }\n",
              "\n",
              "    .dataframe thead th {\n",
              "        text-align: right;\n",
              "    }\n",
              "</style>\n",
              "<table border=\"1\" class=\"dataframe\">\n",
              "  <thead>\n",
              "    <tr style=\"text-align: right;\">\n",
              "      <th></th>\n",
              "      <th>realgdp</th>\n",
              "      <th>realdpi</th>\n",
              "    </tr>\n",
              "    <tr>\n",
              "      <th>year</th>\n",
              "      <th></th>\n",
              "      <th></th>\n",
              "    </tr>\n",
              "  </thead>\n",
              "  <tbody>\n",
              "    <tr>\n",
              "      <th>1959.0</th>\n",
              "      <td>2710.349</td>\n",
              "      <td>1886.9</td>\n",
              "    </tr>\n",
              "    <tr>\n",
              "      <th>1959.0</th>\n",
              "      <td>2778.801</td>\n",
              "      <td>1919.7</td>\n",
              "    </tr>\n",
              "    <tr>\n",
              "      <th>1959.0</th>\n",
              "      <td>2775.488</td>\n",
              "      <td>1916.4</td>\n",
              "    </tr>\n",
              "    <tr>\n",
              "      <th>1959.0</th>\n",
              "      <td>2785.204</td>\n",
              "      <td>1931.3</td>\n",
              "    </tr>\n",
              "    <tr>\n",
              "      <th>1960.0</th>\n",
              "      <td>2847.699</td>\n",
              "      <td>1955.5</td>\n",
              "    </tr>\n",
              "  </tbody>\n",
              "</table>\n",
              "</div>"
            ],
            "text/plain": [
              "         realgdp  realdpi\n",
              "year                     \n",
              "1959.0  2710.349   1886.9\n",
              "1959.0  2778.801   1919.7\n",
              "1959.0  2775.488   1916.4\n",
              "1959.0  2785.204   1931.3\n",
              "1960.0  2847.699   1955.5"
            ]
          },
          "metadata": {
            "tags": []
          },
          "execution_count": 3
        }
      ]
    },
    {
      "cell_type": "code",
      "metadata": {
        "colab": {
          "base_uri": "https://localhost:8080/",
          "height": 351
        },
        "id": "rIBDntKFrzYT",
        "outputId": "22ff21be-7d17-4599-de64-92c233ef6c17"
      },
      "source": [
        "mydata.plot(figsize = (8,5))"
      ],
      "execution_count": 4,
      "outputs": [
        {
          "output_type": "execute_result",
          "data": {
            "text/plain": [
              "<matplotlib.axes._subplots.AxesSubplot at 0x7f9d0a5ea550>"
            ]
          },
          "metadata": {
            "tags": []
          },
          "execution_count": 4
        },
        {
          "output_type": "display_data",
          "data": {
            "image/png": "[encoded data removed]",
            "text/plain": [
              "<Figure size 576x360 with 1 Axes>"
            ]
          },
          "metadata": {
            "tags": [],
            "needs_background": "light"
          }
        }
      ]
    },
    {
      "cell_type": "markdown",
      "metadata": {
        "id": "smcn8_A8r9uD"
      },
      "source": [
        "# Stationary time series\n",
        "\n",
        "- Non-Stationary Average - differencing\n",
        "- Non-Stationary Variance - Transformation"
      ]
    },
    {
      "cell_type": "code",
      "metadata": {
        "colab": {
          "base_uri": "https://localhost:8080/"
        },
        "id": "246ISfU8r2k2",
        "outputId": "9b1943f5-edab-4d26-ec6f-ca306ec73dbe"
      },
      "source": [
        "adfuller_test = adfuller(mydata['realgdp'], autolag= \"AIC\")\n",
        "print(\"ADF test statistic: {}\".format(adfuller_test[0]))\n",
        "print(\"p-value: {}\".format(adfuller_test[1]))\n",
        "\n",
        "adfuller_test = adfuller(mydata['realdpi'], autolag= \"AIC\")\n",
        "print(\"ADF test statistic: {}\".format(adfuller_test[0]))\n",
        "print(\"p-value: {}\".format(adfuller_test[1]))"
      ],
      "execution_count": 5,
      "outputs": [
        {
          "output_type": "stream",
          "text": [
            "ADF test statistic: 1.7504627967647186\n",
            "p-value: 0.9982455372335032\n",
            "ADF test statistic: 2.9860253519546855\n",
            "p-value: 1.0\n"
          ],
          "name": "stdout"
        }
      ]
    },
    {
      "cell_type": "code",
      "metadata": {
        "id": "hykPDwy9siH0"
      },
      "source": [
        "mydata_diff = mydata.diff().dropna()"
      ],
      "execution_count": 6,
      "outputs": []
    },
    {
      "cell_type": "code",
      "metadata": {
        "colab": {
          "base_uri": "https://localhost:8080/"
        },
        "id": "5o-SZz_Qsp1T",
        "outputId": "230128f3-62fc-4247-8cbc-6e990c332cba"
      },
      "source": [
        "adfuller_test = adfuller(mydata_diff['realgdp'], autolag= \"AIC\")\n",
        "print(\"ADF test statistic: {}\".format(adfuller_test[0]))\n",
        "print(\"p-value: {}\".format(adfuller_test[1]))\n",
        "\n",
        "adfuller_test = adfuller(mydata_diff['realdpi'], autolag= \"AIC\")\n",
        "print(\"ADF test statistic: {}\".format(adfuller_test[0]))\n",
        "print(\"p-value: {}\".format(adfuller_test[1]))"
      ],
      "execution_count": 8,
      "outputs": [
        {
          "output_type": "stream",
          "text": [
            "ADF test statistic: -6.305695561658105\n",
            "p-value: 3.327882187668224e-08\n",
            "ADF test statistic: -8.864893340673007\n",
            "p-value: 1.4493606159108096e-14\n"
          ],
          "name": "stdout"
        }
      ]
    },
    {
      "cell_type": "code",
      "metadata": {
        "id": "Rawv4uAiswLg"
      },
      "source": [
        "train = mydata_diff.iloc[:-10,:]\n",
        "test = mydata_diff.iloc[-10:,:]"
      ],
      "execution_count": 9,
      "outputs": []
    },
    {
      "cell_type": "code",
      "metadata": {
        "colab": {
          "base_uri": "https://localhost:8080/"
        },
        "id": "xzdvvD0ss5P6",
        "outputId": "f9c91b69-1e28-42fb-de29-a7941f2fa56b"
      },
      "source": [
        "forecasting_model = VAR(train)\n",
        "results_aic = []\n",
        "\n",
        "for p in range(1,10):\n",
        "  results = forecasting_model.fit(p)\n",
        "  results_aic.append(results.aic)"
      ],
      "execution_count": 10,
      "outputs": [
        {
          "output_type": "stream",
          "text": [
            "/usr/local/lib/python3.7/dist-packages/statsmodels/tsa/base/tsa_model.py:215: ValueWarning: An unsupported index was provided and will be ignored when e.g. forecasting.\n",
            "  ' ignored when e.g. forecasting.', ValueWarning)\n"
          ],
          "name": "stderr"
        }
      ]
    },
    {
      "cell_type": "code",
      "metadata": {
        "colab": {
          "base_uri": "https://localhost:8080/",
          "height": 287
        },
        "id": "LaVXkYOEttlD",
        "outputId": "62b64fac-cbfc-4990-a118-a131c9f067fe"
      },
      "source": [
        "sns.set()\n",
        "plt.plot(list(np.arange(1,10,1)), results_aic)\n",
        "plt.xlabel(\"Order\")\n",
        "plt.ylabel(\"AIC\")\n",
        "plt.show()"
      ],
      "execution_count": 11,
      "outputs": [
        {
          "output_type": "display_data",
          "data": {
            "image/png": "[encoded data removed]",
            "text/plain": [
              "<Figure size 432x288 with 1 Axes>"
            ]
          },
          "metadata": {
            "tags": []
          }
        }
      ]
    },
    {
      "cell_type": "code",
      "metadata": {
        "colab": {
          "base_uri": "https://localhost:8080/"
        },
        "id": "uDWyM9lHtvq4",
        "outputId": "33d6c9f1-bf2d-439b-e2cc-86c644f54239"
      },
      "source": [
        "results = forecasting_model.fit(2)\n",
        "results.summary()"
      ],
      "execution_count": 12,
      "outputs": [
        {
          "output_type": "execute_result",
          "data": {
            "text/plain": [
              "  Summary of Regression Results   \n",
              "==================================\n",
              "Model:                         VAR\n",
              "Method:                        OLS\n",
              "Date:           Sat, 17, Apr, 2021\n",
              "Time:                     12:06:25\n",
              "--------------------------------------------------------------------\n",
              "No. of Equations:         2.00000    BIC:                    15.5043\n",
              "Nobs:                     190.000    HQIC:                   15.4026\n",
              "Log likelihood:          -1985.87    FPE:                4.56270e+06\n",
              "AIC:                      15.3334    Det(Omega_mle):     4.33171e+06\n",
              "--------------------------------------------------------------------\n",
              "Results for equation realgdp\n",
              "=============================================================================\n",
              "                coefficient       std. error           t-stat            prob\n",
              "-----------------------------------------------------------------------------\n",
              "const             23.807343         6.111430            3.896           0.000\n",
              "L1.realgdp         0.176227         0.078131            2.256           0.024\n",
              "L1.realdpi         0.213713         0.085309            2.505           0.012\n",
              "L2.realgdp         0.211259         0.075926            2.782           0.005\n",
              "L2.realdpi         0.018103         0.087131            0.208           0.835\n",
              "=============================================================================\n",
              "\n",
              "Results for equation realdpi\n",
              "=============================================================================\n",
              "                coefficient       std. error           t-stat            prob\n",
              "-----------------------------------------------------------------------------\n",
              "const             29.557677         5.688065            5.196           0.000\n",
              "L1.realgdp         0.246371         0.072718            3.388           0.001\n",
              "L1.realdpi        -0.182692         0.079399           -2.301           0.021\n",
              "L2.realgdp         0.048001         0.070667            0.679           0.497\n",
              "L2.realdpi         0.091316         0.081095            1.126           0.260\n",
              "=============================================================================\n",
              "\n",
              "Correlation matrix of residuals\n",
              "            realgdp   realdpi\n",
              "realgdp    1.000000  0.386669\n",
              "realdpi    0.386669  1.000000\n",
              "\n"
            ]
          },
          "metadata": {
            "tags": []
          },
          "execution_count": 12
        }
      ]
    },
    {
      "cell_type": "code",
      "metadata": {
        "colab": {
          "base_uri": "https://localhost:8080/",
          "height": 390
        },
        "id": "MG7a1Z6_uZcd",
        "outputId": "cb30eb9f-2a34-4ee0-cecf-a009379893c8"
      },
      "source": [
        "laaged_values = train.values[-2:]\n",
        "forecast = pd.DataFrame(results.forecast(y= laaged_values, steps=10), index = test.index, columns= ['realgdp_1d', 'realdpi_1d'])\n",
        "forecast"
      ],
      "execution_count": 13,
      "outputs": [
        {
          "output_type": "execute_result",
          "data": {
            "text/html": [
              "<div>\n",
              "<style scoped>\n",
              "    .dataframe tbody tr th:only-of-type {\n",
              "        vertical-align: middle;\n",
              "    }\n",
              "\n",
              "    .dataframe tbody tr th {\n",
              "        vertical-align: top;\n",
              "    }\n",
              "\n",
              "    .dataframe thead th {\n",
              "        text-align: right;\n",
              "    }\n",
              "</style>\n",
              "<table border=\"1\" class=\"dataframe\">\n",
              "  <thead>\n",
              "    <tr style=\"text-align: right;\">\n",
              "      <th></th>\n",
              "      <th>realgdp_1d</th>\n",
              "      <th>realdpi_1d</th>\n",
              "    </tr>\n",
              "    <tr>\n",
              "      <th>year</th>\n",
              "      <th></th>\n",
              "      <th></th>\n",
              "    </tr>\n",
              "  </thead>\n",
              "  <tbody>\n",
              "    <tr>\n",
              "      <th>2007.0</th>\n",
              "      <td>61.872982</td>\n",
              "      <td>47.739232</td>\n",
              "    </tr>\n",
              "    <tr>\n",
              "      <th>2007.0</th>\n",
              "      <td>53.948996</td>\n",
              "      <td>41.742951</td>\n",
              "    </tr>\n",
              "    <tr>\n",
              "      <th>2007.0</th>\n",
              "      <td>56.171082</td>\n",
              "      <td>42.552316</td>\n",
              "    </tr>\n",
              "    <tr>\n",
              "      <th>2008.0</th>\n",
              "      <td>54.953081</td>\n",
              "      <td>42.023999</td>\n",
              "    </tr>\n",
              "    <tr>\n",
              "      <th>2008.0</th>\n",
              "      <td>55.109616</td>\n",
              "      <td>42.001007</td>\n",
              "    </tr>\n",
              "    <tr>\n",
              "      <th>2008.0</th>\n",
              "      <td>54.865410</td>\n",
              "      <td>41.937065</td>\n",
              "    </tr>\n",
              "    <tr>\n",
              "      <th>2008.0</th>\n",
              "      <td>54.841362</td>\n",
              "      <td>41.893996</td>\n",
              "    </tr>\n",
              "    <tr>\n",
              "      <th>2009.0</th>\n",
              "      <td>54.775171</td>\n",
              "      <td>41.878378</td>\n",
              "    </tr>\n",
              "    <tr>\n",
              "      <th>2009.0</th>\n",
              "      <td>54.754309</td>\n",
              "      <td>41.859837</td>\n",
              "    </tr>\n",
              "    <tr>\n",
              "      <th>2009.0</th>\n",
              "      <td>54.732404</td>\n",
              "      <td>41.853481</td>\n",
              "    </tr>\n",
              "  </tbody>\n",
              "</table>\n",
              "</div>"
            ],
            "text/plain": [
              "        realgdp_1d  realdpi_1d\n",
              "year                          \n",
              "2007.0   61.872982   47.739232\n",
              "2007.0   53.948996   41.742951\n",
              "2007.0   56.171082   42.552316\n",
              "2008.0   54.953081   42.023999\n",
              "2008.0   55.109616   42.001007\n",
              "2008.0   54.865410   41.937065\n",
              "2008.0   54.841362   41.893996\n",
              "2009.0   54.775171   41.878378\n",
              "2009.0   54.754309   41.859837\n",
              "2009.0   54.732404   41.853481"
            ]
          },
          "metadata": {
            "tags": []
          },
          "execution_count": 13
        }
      ]
    },
    {
      "cell_type": "code",
      "metadata": {
        "colab": {
          "base_uri": "https://localhost:8080/",
          "height": 390
        },
        "id": "wSt07B-qucCD",
        "outputId": "0ade0db5-4658-4724-8f2c-aa9ca139ceb5"
      },
      "source": [
        "forecast[\"realgdp_forecasted\"] = mydata[\"realgdp\"].iloc[-10-1] + forecast['realgdp_1d'].cumsum()\n",
        "forecast[\"realdpi_forecasted\"] = mydata[\"realdpi\"].iloc[-10-1] + forecast['realdpi_1d'].cumsum() \n",
        "forecast"
      ],
      "execution_count": 14,
      "outputs": [
        {
          "output_type": "execute_result",
          "data": {
            "text/html": [
              "<div>\n",
              "<style scoped>\n",
              "    .dataframe tbody tr th:only-of-type {\n",
              "        vertical-align: middle;\n",
              "    }\n",
              "\n",
              "    .dataframe tbody tr th {\n",
              "        vertical-align: top;\n",
              "    }\n",
              "\n",
              "    .dataframe thead th {\n",
              "        text-align: right;\n",
              "    }\n",
              "</style>\n",
              "<table border=\"1\" class=\"dataframe\">\n",
              "  <thead>\n",
              "    <tr style=\"text-align: right;\">\n",
              "      <th></th>\n",
              "      <th>realgdp_1d</th>\n",
              "      <th>realdpi_1d</th>\n",
              "      <th>realgdp_forecasted</th>\n",
              "      <th>realdpi_forecasted</th>\n",
              "    </tr>\n",
              "    <tr>\n",
              "      <th>year</th>\n",
              "      <th></th>\n",
              "      <th></th>\n",
              "      <th></th>\n",
              "      <th></th>\n",
              "    </tr>\n",
              "  </thead>\n",
              "  <tbody>\n",
              "    <tr>\n",
              "      <th>2007.0</th>\n",
              "      <td>61.872982</td>\n",
              "      <td>47.739232</td>\n",
              "      <td>13161.773982</td>\n",
              "      <td>9877.939232</td>\n",
              "    </tr>\n",
              "    <tr>\n",
              "      <th>2007.0</th>\n",
              "      <td>53.948996</td>\n",
              "      <td>41.742951</td>\n",
              "      <td>13215.722978</td>\n",
              "      <td>9919.682183</td>\n",
              "    </tr>\n",
              "    <tr>\n",
              "      <th>2007.0</th>\n",
              "      <td>56.171082</td>\n",
              "      <td>42.552316</td>\n",
              "      <td>13271.894060</td>\n",
              "      <td>9962.234500</td>\n",
              "    </tr>\n",
              "    <tr>\n",
              "      <th>2008.0</th>\n",
              "      <td>54.953081</td>\n",
              "      <td>42.023999</td>\n",
              "      <td>13326.847141</td>\n",
              "      <td>10004.258499</td>\n",
              "    </tr>\n",
              "    <tr>\n",
              "      <th>2008.0</th>\n",
              "      <td>55.109616</td>\n",
              "      <td>42.001007</td>\n",
              "      <td>13381.956757</td>\n",
              "      <td>10046.259506</td>\n",
              "    </tr>\n",
              "    <tr>\n",
              "      <th>2008.0</th>\n",
              "      <td>54.865410</td>\n",
              "      <td>41.937065</td>\n",
              "      <td>13436.822166</td>\n",
              "      <td>10088.196571</td>\n",
              "    </tr>\n",
              "    <tr>\n",
              "      <th>2008.0</th>\n",
              "      <td>54.841362</td>\n",
              "      <td>41.893996</td>\n",
              "      <td>13491.663528</td>\n",
              "      <td>10130.090566</td>\n",
              "    </tr>\n",
              "    <tr>\n",
              "      <th>2009.0</th>\n",
              "      <td>54.775171</td>\n",
              "      <td>41.878378</td>\n",
              "      <td>13546.438699</td>\n",
              "      <td>10171.968945</td>\n",
              "    </tr>\n",
              "    <tr>\n",
              "      <th>2009.0</th>\n",
              "      <td>54.754309</td>\n",
              "      <td>41.859837</td>\n",
              "      <td>13601.193008</td>\n",
              "      <td>10213.828781</td>\n",
              "    </tr>\n",
              "    <tr>\n",
              "      <th>2009.0</th>\n",
              "      <td>54.732404</td>\n",
              "      <td>41.853481</td>\n",
              "      <td>13655.925412</td>\n",
              "      <td>10255.682262</td>\n",
              "    </tr>\n",
              "  </tbody>\n",
              "</table>\n",
              "</div>"
            ],
            "text/plain": [
              "        realgdp_1d  realdpi_1d  realgdp_forecasted  realdpi_forecasted\n",
              "year                                                                  \n",
              "2007.0   61.872982   47.739232        13161.773982         9877.939232\n",
              "2007.0   53.948996   41.742951        13215.722978         9919.682183\n",
              "2007.0   56.171082   42.552316        13271.894060         9962.234500\n",
              "2008.0   54.953081   42.023999        13326.847141        10004.258499\n",
              "2008.0   55.109616   42.001007        13381.956757        10046.259506\n",
              "2008.0   54.865410   41.937065        13436.822166        10088.196571\n",
              "2008.0   54.841362   41.893996        13491.663528        10130.090566\n",
              "2009.0   54.775171   41.878378        13546.438699        10171.968945\n",
              "2009.0   54.754309   41.859837        13601.193008        10213.828781\n",
              "2009.0   54.732404   41.853481        13655.925412        10255.682262"
            ]
          },
          "metadata": {
            "tags": []
          },
          "execution_count": 14
        }
      ]
    },
    {
      "cell_type": "code",
      "metadata": {
        "colab": {
          "base_uri": "https://localhost:8080/",
          "height": 526
        },
        "id": "8CkuqlKVu8qM",
        "outputId": "9b735e8b-1ebf-4acf-a819-8683cca77780"
      },
      "source": [
        "test = mydata.iloc[-10:,:]\n",
        "test[\"realgdp_forecasted\"] = forecast[\"realgdp_forecasted\"]\n",
        "test[\"realdpi_forecasted\"] = forecast[\"realdpi_forecasted\"]\n",
        "test.plot()"
      ],
      "execution_count": 15,
      "outputs": [
        {
          "output_type": "stream",
          "text": [
            "/usr/local/lib/python3.7/dist-packages/ipykernel_launcher.py:2: SettingWithCopyWarning: \n",
            "A value is trying to be set on a copy of a slice from a DataFrame.\n",
            "Try using .loc[row_indexer,col_indexer] = value instead\n",
            "\n",
            "See the caveats in the documentation: https://pandas.pydata.org/pandas-docs/stable/user_guide/indexing.html#returning-a-view-versus-a-copy\n",
            "  \n",
            "/usr/local/lib/python3.7/dist-packages/ipykernel_launcher.py:3: SettingWithCopyWarning: \n",
            "A value is trying to be set on a copy of a slice from a DataFrame.\n",
            "Try using .loc[row_indexer,col_indexer] = value instead\n",
            "\n",
            "See the caveats in the documentation: https://pandas.pydata.org/pandas-docs/stable/user_guide/indexing.html#returning-a-view-versus-a-copy\n",
            "  This is separate from the ipykernel package so we can avoid doing imports until\n"
          ],
          "name": "stderr"
        },
        {
          "output_type": "execute_result",
          "data": {
            "text/plain": [
              "<matplotlib.axes._subplots.AxesSubplot at 0x7f9d0a06e810>"
            ]
          },
          "metadata": {
            "tags": []
          },
          "execution_count": 15
        },
        {
          "output_type": "display_data",
          "data": {
            "image/png": "[encoded data removed]",
            "text/plain": [
              "<Figure size 432x288 with 1 Axes>"
            ]
          },
          "metadata": {
            "tags": []
          }
        }
      ]
    }
  ]
}