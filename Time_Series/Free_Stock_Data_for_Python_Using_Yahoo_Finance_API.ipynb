{
  "nbformat": 4,
  "nbformat_minor": 0,
  "metadata": {
    "colab": {
      "name": "Free Stock Data for Python Using Yahoo Finance API.ipynb",
      "provenance": [],
      "authorship_tag": "ABX9TyO438kSgWGluXUgaBjSLm1x"
    },
    "kernelspec": {
      "name": "python3",
      "display_name": "Python 3"
    }
  },
  "cells": [
    {
      "cell_type": "markdown",
      "metadata": {
        "id": "VpuoaUo2diKp",
        "colab_type": "text"
      },
      "source": [
        "[Reference](https://towardsdatascience.com/free-stock-data-for-python-using-yahoo-finance-api-9dafd96cad2e)"
      ]
    },
    {
      "cell_type": "code",
      "metadata": {
        "id": "um1ah_Dedg8U",
        "colab_type": "code",
        "colab": {
          "base_uri": "https://localhost:8080/",
          "height": 377
        },
        "outputId": "f8c03abd-7d67-4593-9ee8-5d8512a9b8cb"
      },
      "source": [
        "!pip install yfinance"
      ],
      "execution_count": 1,
      "outputs": [
        {
          "output_type": "stream",
          "text": [
            "Collecting yfinance\n",
            "  Downloading https://files.pythonhosted.org/packages/c2/31/8b374a12b90def92a4e27d0fc595fc43635f395984e36a075244d98bd265/yfinance-0.1.54.tar.gz\n",
            "Requirement already satisfied: pandas>=0.24 in /usr/local/lib/python3.6/dist-packages (from yfinance) (1.0.5)\n",
            "Requirement already satisfied: numpy>=1.15 in /usr/local/lib/python3.6/dist-packages (from yfinance) (1.18.5)\n",
            "Requirement already satisfied: requests>=2.20 in /usr/local/lib/python3.6/dist-packages (from yfinance) (2.23.0)\n",
            "Requirement already satisfied: multitasking>=0.0.7 in /usr/local/lib/python3.6/dist-packages (from yfinance) (0.0.9)\n",
            "Requirement already satisfied: python-dateutil>=2.6.1 in /usr/local/lib/python3.6/dist-packages (from pandas>=0.24->yfinance) (2.8.1)\n",
            "Requirement already satisfied: pytz>=2017.2 in /usr/local/lib/python3.6/dist-packages (from pandas>=0.24->yfinance) (2018.9)\n",
            "Requirement already satisfied: chardet<4,>=3.0.2 in /usr/local/lib/python3.6/dist-packages (from requests>=2.20->yfinance) (3.0.4)\n",
            "Requirement already satisfied: idna<3,>=2.5 in /usr/local/lib/python3.6/dist-packages (from requests>=2.20->yfinance) (2.10)\n",
            "Requirement already satisfied: urllib3!=1.25.0,!=1.25.1,<1.26,>=1.21.1 in /usr/local/lib/python3.6/dist-packages (from requests>=2.20->yfinance) (1.24.3)\n",
            "Requirement already satisfied: certifi>=2017.4.17 in /usr/local/lib/python3.6/dist-packages (from requests>=2.20->yfinance) (2020.6.20)\n",
            "Requirement already satisfied: six>=1.5 in /usr/local/lib/python3.6/dist-packages (from python-dateutil>=2.6.1->pandas>=0.24->yfinance) (1.15.0)\n",
            "Building wheels for collected packages: yfinance\n",
            "  Building wheel for yfinance (setup.py) ... \u001b[?25l\u001b[?25hdone\n",
            "  Created wheel for yfinance: filename=yfinance-0.1.54-py2.py3-none-any.whl size=22409 sha256=a7ce72147212dc0bf522ffe0d25d173bd9a4e36b94276b6d06509e7dc8cf1ba0\n",
            "  Stored in directory: /root/.cache/pip/wheels/f9/e3/5b/ec24dd2984b12d61e0abf26289746c2436a0e7844f26f2515c\n",
            "Successfully built yfinance\n",
            "Installing collected packages: yfinance\n",
            "Successfully installed yfinance-0.1.54\n"
          ],
          "name": "stdout"
        }
      ]
    },
    {
      "cell_type": "code",
      "metadata": {
        "id": "VuU5F6oadsHN",
        "colab_type": "code",
        "colab": {
          "base_uri": "https://localhost:8080/",
          "height": 54
        },
        "outputId": "39de6039-dcc1-4d9f-df25-42dffa2a9b2a"
      },
      "source": [
        "import yfinance as yf\n",
        "\n",
        "msft = yf.Ticker(\"MSFT\")\n",
        "\n",
        "# get stock info\n",
        "print(msft.info)\n",
        "\n",
        "# get historical market data\n",
        "hist = msft.history(period=\"5d\")"
      ],
      "execution_count": 2,
      "outputs": [
        {
          "output_type": "stream",
          "text": [
            "{'zip': '98052', 'sector': 'Technology', 'longBusinessSummary': 'Microsoft Corporation develops, licenses, and supports software, services, devices, and solutions worldwide. Its Productivity and Business Processes segment offers Office, Exchange, SharePoint, Microsoft Teams, Office 365 Security and Compliance, and Skype for Business, as well as related Client Access Licenses (CAL); Skype, Outlook.com, and OneDrive; LinkedIn that includes Talent and marketing solutions, and subscriptions; and Dynamics 365, a set of cloud-based and on-premises business solutions for small and medium businesses, large organizations, and divisions of enterprises. Its Intelligent Cloud segment licenses SQL and Windows Servers, Visual Studio, System Center, and related CALs; GitHub that provides a collaboration platform and code hosting service for developers; and Azure, a cloud platform. It also provides support services and Microsoft consulting services to assist customers in developing, deploying, and managing Microsoft server and desktop solutions; and training and certification to developers and IT professionals on various Microsoft products. Its More Personal Computing segment offers Windows OEM licensing and other non-volume licensing of the Windows operating system; Windows Commercial, such as volume licensing of the Windows operating system, Windows cloud services, and other Windows commercial offerings; patent licensing; Windows Internet of Things; and MSN advertising. It also provides Microsoft Surface, PC accessories, and other devices; Gaming, including Xbox hardware, and Xbox software and services; video games and third-party video game royalties; and Search, including Bing and Microsoft advertising. It sells its products through distributors and resellers; and directly through digital marketplaces, online stores, and retail stores. It has strategic partnerships with Humana Inc., Nokia, Telkomsel, Swiss Re, Kubota Corporation, FedEx Corp., and Hitachi. The company was founded in 1975 and is headquartered in Redmond, Washington.', 'city': 'Redmond', 'phone': '425-882-8080', 'state': 'WA', 'country': 'United States', 'companyOfficers': [], 'website': 'http://www.microsoft.com', 'maxAge': 1, 'address1': 'One Microsoft Way', 'fax': '425-706-7329', 'industry': 'Software—Infrastructure', 'previousClose': 201.3, 'regularMarketOpen': 201.47, 'twoHundredDayAverage': 177.90437, 'trailingAnnualDividendYield': 0.010134128, 'payoutRatio': 0.3455, 'volume24Hr': None, 'regularMarketDayHigh': 203.97, 'navPrice': None, 'averageDailyVolume10Day': 43919266, 'totalAssets': None, 'regularMarketPreviousClose': 201.3, 'fiftyDayAverage': 201.56177, 'trailingAnnualDividendRate': 2.04, 'open': 201.47, 'toCurrency': None, 'averageVolume10days': 43919266, 'expireDate': None, 'yield': None, 'algorithm': None, 'dividendRate': 2.04, 'exDividendDate': 1597795200, 'beta': 0.933333, 'circulatingSupply': None, 'startDate': None, 'regularMarketDayLow': 200.86, 'priceHint': 2, 'currency': 'USD', 'trailingPE': 35.390625, 'regularMarketVolume': 30160867, 'lastMarket': None, 'maxSupply': None, 'openInterest': None, 'marketCap': 1543348420608, 'volumeAllCurrencies': None, 'strikePrice': None, 'averageVolume': 35674865, 'priceToSalesTrailing12Months': 10.791514, 'dayLow': 200.86, 'ask': 204.49, 'ytdReturn': None, 'askSize': 1100, 'volume': 30160867, 'fiftyTwoWeekHigh': 216.38, 'forwardPE': 27.81037, 'fromCurrency': None, 'fiveYearAvgDividendYield': 1.89, 'fiftyTwoWeekLow': 130.78, 'bid': 203.95, 'tradeable': False, 'dividendYield': 0.0101, 'bidSize': 900, 'dayHigh': 203.97, 'exchange': 'NMS', 'shortName': 'Microsoft Corporation', 'longName': 'Microsoft Corporation', 'exchangeTimezoneName': 'America/New_York', 'exchangeTimezoneShortName': 'EDT', 'isEsgPopulated': False, 'gmtOffSetMilliseconds': '-14400000', 'quoteType': 'EQUITY', 'symbol': 'MSFT', 'messageBoardId': 'finmb_21835', 'market': 'us_market', 'annualHoldingsTurnover': None, 'enterpriseToRevenue': 10.273, 'beta3Year': None, 'profitMargins': 0.30962, 'enterpriseToEbitda': 22.343, '52WeekChange': 0.4273559, 'morningStarRiskRating': None, 'forwardEps': 7.33, 'revenueQuarterlyGrowth': None, 'sharesOutstanding': 7570999808, 'fundInceptionDate': None, 'annualReportExpenseRatio': None, 'bookValue': 15.626, 'sharesShort': 39894144, 'sharesPercentSharesOut': 0.0053, 'fundFamily': None, 'lastFiscalYearEnd': 1593475200, 'heldPercentInstitutions': 0.74093, 'netIncomeToCommon': 44280999936, 'trailingEps': 5.76, 'lastDividendValue': None, 'SandP52WeekChange': 0.0644362, 'priceToBook': 13.045566, 'heldPercentInsiders': 0.014249999, 'nextFiscalYearEnd': 1656547200, 'mostRecentQuarter': 1593475200, 'shortRatio': 1.19, 'sharesShortPreviousMonthDate': 1592179200, 'floatShares': 7459706300, 'enterpriseValue': 1469145284608, 'threeYearAverageReturn': None, 'lastSplitDate': 1045526400, 'lastSplitFactor': '2:1', 'legalType': None, 'morningStarOverallRating': None, 'earningsQuarterlyGrowth': -0.151, 'dateShortInterest': 1594771200, 'pegRatio': 2.1, 'lastCapGain': None, 'shortPercentOfFloat': 0.0053, 'sharesShortPriorMonth': 42930465, 'category': None, 'fiveYearAverageReturn': None, 'regularMarketPrice': 201.47, 'logo_url': 'https://logo.clearbit.com/microsoft.com'}\n"
          ],
          "name": "stdout"
        }
      ]
    },
    {
      "cell_type": "code",
      "metadata": {
        "id": "O7iZv6IXdtjL",
        "colab_type": "code",
        "colab": {
          "base_uri": "https://localhost:8080/",
          "height": 645
        },
        "outputId": "54e1b851-d006-4013-9de1-7dc3ec413fdc"
      },
      "source": [
        "import matplotlib.pyplot as plt\n",
        "import seaborn\n",
        "\n",
        "# Plot everything by leveraging the very powerful matplotlib package\n",
        "hist['Close'].plot(figsize=(16, 9))"
      ],
      "execution_count": 3,
      "outputs": [
        {
          "output_type": "stream",
          "text": [
            "/usr/local/lib/python3.6/dist-packages/statsmodels/tools/_testing.py:19: FutureWarning: pandas.util.testing is deprecated. Use the functions in the public API at pandas.testing instead.\n",
            "  import pandas.util.testing as tm\n"
          ],
          "name": "stderr"
        },
        {
          "output_type": "execute_result",
          "data": {
            "text/plain": [
              "<matplotlib.axes._subplots.AxesSubplot at 0x7f12400fefd0>"
            ]
          },
          "metadata": {
            "tags": []
          },
          "execution_count": 3
        },
        {
          "output_type": "display_data",
          "data": {
            "image/png": "[encoded data removed]",
            "text/plain": [
              "<Figure size 1152x648 with 1 Axes>"
            ]
          },
          "metadata": {
            "tags": [],
            "needs_background": "light"
          }
        }
      ]
    },
    {
      "cell_type": "code",
      "metadata": {
        "id": "5SkPojqkdwRA",
        "colab_type": "code",
        "colab": {
          "base_uri": "https://localhost:8080/",
          "height": 34
        },
        "outputId": "e57580bf-6779-462e-f1d0-2d352012ca21"
      },
      "source": [
        "# Download stock data then export as CSV\n",
        "data_df = yf.download(\"AAPL\", start=\"2020-02-01\", end=\"2020-03-20\")\n",
        "# data_df.to_csv('aapl.csv')"
      ],
      "execution_count": 4,
      "outputs": [
        {
          "output_type": "stream",
          "text": [
            "\r[*********************100%***********************]  1 of 1 completed\n"
          ],
          "name": "stdout"
        }
      ]
    },
    {
      "cell_type": "code",
      "metadata": {
        "id": "dZKzPDhHdzlh",
        "colab_type": "code",
        "colab": {
          "base_uri": "https://localhost:8080/",
          "height": 204
        },
        "outputId": "7901c17b-cd91-410c-d6f4-182a591714c9"
      },
      "source": [
        "# Change period to last full year\n",
        "msft.history(period=\"1y\")\n",
        "\n",
        "# show actions (dividends, splits)\n",
        "msft.actions"
      ],
      "execution_count": 5,
      "outputs": [
        {
          "output_type": "execute_result",
          "data": {
            "text/html": [
              "<div>\n",
              "<style scoped>\n",
              "    .dataframe tbody tr th:only-of-type {\n",
              "        vertical-align: middle;\n",
              "    }\n",
              "\n",
              "    .dataframe tbody tr th {\n",
              "        vertical-align: top;\n",
              "    }\n",
              "\n",
              "    .dataframe thead th {\n",
              "        text-align: right;\n",
              "    }\n",
              "</style>\n",
              "<table border=\"1\" class=\"dataframe\">\n",
              "  <thead>\n",
              "    <tr style=\"text-align: right;\">\n",
              "      <th></th>\n",
              "      <th>Dividends</th>\n",
              "      <th>Stock Splits</th>\n",
              "    </tr>\n",
              "    <tr>\n",
              "      <th>Date</th>\n",
              "      <th></th>\n",
              "      <th></th>\n",
              "    </tr>\n",
              "  </thead>\n",
              "  <tbody>\n",
              "    <tr>\n",
              "      <th>2019-08-14</th>\n",
              "      <td>0.46</td>\n",
              "      <td>0.0</td>\n",
              "    </tr>\n",
              "    <tr>\n",
              "      <th>2019-11-20</th>\n",
              "      <td>0.51</td>\n",
              "      <td>0.0</td>\n",
              "    </tr>\n",
              "    <tr>\n",
              "      <th>2020-02-19</th>\n",
              "      <td>0.51</td>\n",
              "      <td>0.0</td>\n",
              "    </tr>\n",
              "    <tr>\n",
              "      <th>2020-05-20</th>\n",
              "      <td>0.51</td>\n",
              "      <td>0.0</td>\n",
              "    </tr>\n",
              "  </tbody>\n",
              "</table>\n",
              "</div>"
            ],
            "text/plain": [
              "            Dividends  Stock Splits\n",
              "Date                               \n",
              "2019-08-14       0.46           0.0\n",
              "2019-11-20       0.51           0.0\n",
              "2020-02-19       0.51           0.0\n",
              "2020-05-20       0.51           0.0"
            ]
          },
          "metadata": {
            "tags": []
          },
          "execution_count": 5
        }
      ]
    }
  ]
}