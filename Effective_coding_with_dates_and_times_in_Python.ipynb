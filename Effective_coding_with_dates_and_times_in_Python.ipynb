{
  "nbformat": 4,
  "nbformat_minor": 0,
  "metadata": {
    "colab": {
      "provenance": [],
      "authorship_tag": "ABX9TyMuvSrM+OHatop5DNQ67MRg"
    },
    "kernelspec": {
      "name": "python3",
      "display_name": "Python 3"
    },
    "language_info": {
      "name": "python"
    }
  },
  "cells": [
    {
      "cell_type": "markdown",
      "source": [
        "[Reference](https://towardsdatascience.com/effective-coding-with-dates-and-times-in-python-3be13a77b45b)"
      ],
      "metadata": {
        "id": "MHE8f-t2AhUJ"
      }
    },
    {
      "cell_type": "code",
      "execution_count": 1,
      "metadata": {
        "id": "jAx8buJV_RSq"
      },
      "outputs": [],
      "source": [
        "# Load libraries\n",
        "import pandas as pd\n",
        "import numpy as np\n",
        "from datetime import datetime, date, timezone\n",
        "from dateutil import parser\n",
        "from zoneinfo import ZoneInfo"
      ]
    },
    {
      "cell_type": "markdown",
      "source": [
        "# 1. Creating a date or datetime from scratch"
      ],
      "metadata": {
        "id": "7O0T5vdfAkvS"
      }
    },
    {
      "cell_type": "code",
      "source": [
        "# Creating date & datetime from scratch\n",
        "\n",
        "date_1 = date(2020,12,1)\n",
        "\n",
        "datetime_1 = datetime(2020,12,2)\n",
        "date_2 = datetime_1.date()\n",
        "\n",
        "print(date_1)\n",
        "print(type(date_1))\n",
        "print(datetime_1)\n",
        "print(type(datetime_1))\n",
        "print(date_2)\n",
        "print(type(date_2))"
      ],
      "metadata": {
        "colab": {
          "base_uri": "https://localhost:8080/"
        },
        "id": "MMrW1luqAjvC",
        "outputId": "2bd4a1f6-3fdb-4577-95d9-ad4d774575d8"
      },
      "execution_count": 2,
      "outputs": [
        {
          "output_type": "stream",
          "name": "stdout",
          "text": [
            "2020-12-01\n",
            "<class 'datetime.date'>\n",
            "2020-12-02 00:00:00\n",
            "<class 'datetime.datetime'>\n",
            "2020-12-02\n",
            "<class 'datetime.date'>\n"
          ]
        }
      ]
    },
    {
      "cell_type": "code",
      "source": [
        "# Creating date & datetime for today and now (for me CET)\n",
        "\n",
        "date_today = date.today()\n",
        "datetime_now = datetime.now()\n",
        "\n",
        "# Built-in: UTC\n",
        "datetime_now_utc = datetime.now(tz=timezone.utc)"
      ],
      "metadata": {
        "id": "c60znG3DAmrp"
      },
      "execution_count": 3,
      "outputs": []
    },
    {
      "cell_type": "code",
      "source": [
        "# Create datetime now (e.g. Pacific Time)\n",
        "\n",
        "pacific_tz = ZoneInfo('America/Los_Angeles')\n",
        "datetime_now_pt = datetime_now.replace(tzinfo=pacific_tz)"
      ],
      "metadata": {
        "id": "5USTJTSaAo3-"
      },
      "execution_count": 4,
      "outputs": []
    },
    {
      "cell_type": "markdown",
      "source": [
        "# 2. Converting to and parsing strings: strftime(), strptime() and dateutil\n"
      ],
      "metadata": {
        "id": "h4nP9nmNArVD"
      }
    },
    {
      "cell_type": "markdown",
      "source": [
        "## Converting a datetime object (or parts of it) to a string"
      ],
      "metadata": {
        "id": "xfz2ix7bAsYw"
      }
    },
    {
      "cell_type": "code",
      "source": [
        "# Create a string from a datetime object\n",
        "\n",
        "date_1_string = date_1.strftime(\"%Y-%m-%d\")\n",
        "\n",
        "print('The first day of December 2020 is :',  date_1_string)\n",
        "\n",
        "# Other example\n",
        "datetime_1_string = datetime_1.strftime(\"%Y-%m-%d %H:%M:%S\")"
      ],
      "metadata": {
        "colab": {
          "base_uri": "https://localhost:8080/"
        },
        "id": "PUET-E1mAqer",
        "outputId": "d19eb70f-69c7-4feb-d328-225bd086b439"
      },
      "execution_count": 5,
      "outputs": [
        {
          "output_type": "stream",
          "name": "stdout",
          "text": [
            "The first day of December 2020 is : 2020-12-01\n"
          ]
        }
      ]
    },
    {
      "cell_type": "markdown",
      "source": [
        "## Converting a string into a datetime object"
      ],
      "metadata": {
        "id": "i0Ig3u0lAvh4"
      }
    },
    {
      "cell_type": "code",
      "source": [
        "# Create a datetime object from a string\n",
        "\n",
        "date_3 = datetime.strptime('2017-12-07', \"%Y-%m-%d\").date()\n",
        "\n",
        "# Other example\n",
        "datetime_2 = datetime.strptime('2017-12-07', \"%Y-%m-%d\")"
      ],
      "metadata": {
        "id": "1YZvIHLcAuLc"
      },
      "execution_count": 6,
      "outputs": []
    },
    {
      "cell_type": "markdown",
      "source": [
        "## Parsing complex strings using dateutil"
      ],
      "metadata": {
        "id": "pheR2cstAxyj"
      }
    },
    {
      "cell_type": "code",
      "source": [
        "# Parse complex strings\n",
        "\n",
        "datetime_3 = parser.parse(\"2017-12-07 03:12:00PM\")\n",
        "date_4 = parser.parse(\"December 7th 2019\")\n",
        "\n",
        "print(datetime_3)\n",
        "print(type(datetime_3))\n",
        "print(date_4)\n",
        "print(type(date_4))"
      ],
      "metadata": {
        "colab": {
          "base_uri": "https://localhost:8080/"
        },
        "id": "dlVTiY4VAw77",
        "outputId": "f74cae9d-0654-4e85-afec-0e946fe7876d"
      },
      "execution_count": 7,
      "outputs": [
        {
          "output_type": "stream",
          "name": "stdout",
          "text": [
            "2017-12-07 15:12:00\n",
            "<class 'datetime.datetime'>\n",
            "2019-12-07 00:00:00\n",
            "<class 'datetime.datetime'>\n"
          ]
        }
      ]
    },
    {
      "cell_type": "markdown",
      "source": [
        "# 3. Dates and times in numpy - numPy's datetime64"
      ],
      "metadata": {
        "id": "x0VEv3CrA0uc"
      }
    },
    {
      "cell_type": "code",
      "source": [
        "# Create numpy datetime object\n",
        "\n",
        "date_5 = np.array('2018-04-05', dtype=np.datetime64)\n",
        "datetime_4 = np.array('2018-04-05 15:12:00', dtype=np.datetime64)\n",
        "\n",
        "print(date_5)\n",
        "print(type(date_5))\n",
        "print(datetime_4)\n",
        "print(type(datetime_4))\n",
        "\n",
        "# Vectorized operation\n",
        "date_6 = date_5 + 1  #works with numpy object\n",
        "# date_6 = date_1 + 1  #error with datetime object\n",
        "# date_6 = date_1 + 1  #error with dateutil object\n",
        "\n",
        "# Other vectorized operation\n",
        "date_7 = date_5 + np.arange(7)"
      ],
      "metadata": {
        "colab": {
          "base_uri": "https://localhost:8080/"
        },
        "id": "-oLBTUdnAzWi",
        "outputId": "b69956ef-2c8c-4ec4-8c3f-8598def81f61"
      },
      "execution_count": 9,
      "outputs": [
        {
          "output_type": "stream",
          "name": "stdout",
          "text": [
            "2018-04-05\n",
            "<class 'numpy.ndarray'>\n",
            "2018-04-05T15:12:00\n",
            "<class 'numpy.ndarray'>\n"
          ]
        }
      ]
    },
    {
      "cell_type": "markdown",
      "source": [
        "# 4. Dates and times in pandas"
      ],
      "metadata": {
        "id": "Eb4_7cC3A8gN"
      }
    },
    {
      "cell_type": "code",
      "source": [
        "# Create pandas datetime objects\n",
        "\n",
        "datetime_5 = pd.to_datetime(\"2020-06-01\") #simple string\n",
        "datetime_6 = pd.to_datetime(\"December 7th 2019\") #complex string\n",
        "# date_8 = datetime_4.date()\n",
        "\n",
        "# Vectorized operation\n",
        "datetime_7 = datetime_5 + pd.to_timedelta(np.arange(3), 'D')"
      ],
      "metadata": {
        "id": "IVirOlv0A3Oz"
      },
      "execution_count": 11,
      "outputs": []
    }
  ]
}