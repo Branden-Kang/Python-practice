{
  "nbformat": 4,
  "nbformat_minor": 0,
  "metadata": {
    "colab": {
      "provenance": [],
      "authorship_tag": "ABX9TyOHCQ7pLHSQxXxbCYlUM0T9"
    },
    "kernelspec": {
      "name": "python3",
      "display_name": "Python 3"
    },
    "language_info": {
      "name": "python"
    }
  },
  "cells": [
    {
      "cell_type": "markdown",
      "source": [
        "[Reference](https://medium.com/@francescofranco_39234/one-hot-encoding-for-machine-learning-with-python-and-scikit-learn-c6d8e1173760)"
      ],
      "metadata": {
        "id": "APJUc-mUFDqF"
      }
    },
    {
      "cell_type": "code",
      "execution_count": 1,
      "metadata": {
        "colab": {
          "base_uri": "https://localhost:8080/"
        },
        "id": "q7Yn_iOBFBgA",
        "outputId": "c516b4de-b00f-4381-c9da-85fb7e702c1a"
      },
      "outputs": [
        {
          "output_type": "stream",
          "name": "stdout",
          "text": [
            "Healthy one-hot encoded: [[1. 0.]]\n",
            "Unhealthy one-hot encoded: [[0. 1.]]\n"
          ]
        }
      ],
      "source": [
        "import numpy as np\n",
        "from sklearn import preprocessing\n",
        "\n",
        "ohe = preprocessing.OneHotEncoder()\n",
        "health = np.array([['Healthy'], ['Unhealthy'], ['Healthy']]).reshape(-1, 1)\n",
        "ohe.fit(health)\n",
        "encoded_healthy = ohe.transform([health[0]]).toarray()\n",
        "encoded_unhealthy = ohe.transform([health[1]]).toarray()\n",
        "\n",
        "print(f'Healthy one-hot encoded: {encoded_healthy}')\n",
        "print(f'Unhealthy one-hot encoded: {encoded_unhealthy}')"
      ]
    },
    {
      "cell_type": "code",
      "source": [
        "import numpy as np\n",
        "from sklearn import preprocessing\n",
        "from tensorflow.keras.datasets import mnist\n",
        "\n",
        "# Define the One-hot Encoder\n",
        "ohe = preprocessing.OneHotEncoder()\n",
        "\n",
        "# Load MNIST data\n",
        "(x_train, y_train), (x_test, y_test) = mnist.load_data()\n",
        "\n",
        "# Reshape data\n",
        "y_train = y_train.reshape(-1, 1)\n",
        "y_test = y_test.reshape(-1, 1)\n",
        "\n",
        "# Fit and transform training data\n",
        "ohe.fit(y_train)\n",
        "transformed_train = ohe.transform(y_train).toarray()\n",
        "\n",
        "# Fit and transform testing data\n",
        "ohe.fit(y_test)\n",
        "transformed_test = ohe.transform(y_test).toarray()\n",
        "\n",
        "# Print results\n",
        "print(f'Value without encoding: {y_test[123]}')\n",
        "print(f'Value with encoding: {transformed_test[123]}')"
      ],
      "metadata": {
        "colab": {
          "base_uri": "https://localhost:8080/"
        },
        "id": "0OHQpthKFHcm",
        "outputId": "28f514bd-08eb-476f-d1d8-8aaf700b4386"
      },
      "execution_count": 4,
      "outputs": [
        {
          "output_type": "stream",
          "name": "stdout",
          "text": [
            "Value without encoding: [6]\n",
            "Value with encoding: [0. 0. 0. 0. 0. 0. 1. 0. 0. 0.]\n"
          ]
        }
      ]
    }
  ]
}