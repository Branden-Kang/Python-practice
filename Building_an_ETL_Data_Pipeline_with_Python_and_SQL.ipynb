{
  "nbformat": 4,
  "nbformat_minor": 0,
  "metadata": {
    "colab": {
      "provenance": [],
      "authorship_tag": "ABX9TyPcQDxumvxS44Ryk/Zlz6CW"
    },
    "kernelspec": {
      "name": "python3",
      "display_name": "Python 3"
    },
    "language_info": {
      "name": "python"
    }
  },
  "cells": [
    {
      "cell_type": "markdown",
      "source": [
        "# SQL database and python working environment"
      ],
      "metadata": {
        "id": "cCkECyPCbjWZ"
      }
    },
    {
      "cell_type": "markdown",
      "source": [
        "```\n",
        "python -m venv .venv\n",
        "```\n",
        "\n",
        "```\n",
        "pip install pandas sqlalchemy\n",
        "```"
      ],
      "metadata": {
        "id": "QutgWd4EbtbI"
      }
    },
    {
      "cell_type": "markdown",
      "source": [
        "```\n",
        "CREATE DATABASE [myFitnessApp]\n",
        "GO\n",
        "\n",
        "USE [myFitnessApp]\n",
        "CREATE TABLE FitnessData (\n",
        "    AthleteId VARCHAR(50) NOT NULL,\n",
        "    ActivityId BIGINT NOT NULL,\n",
        "    Type VARCHAR(50) NOT NULL,\n",
        "    Date DATETIME NOT NULL,\n",
        "    Distance FLOAT NOT NULL,\n",
        "    MovingTime FLOAT NOT NULL,\n",
        "    Name VARCHAR(255) NOT NULL,\n",
        "    AvgHR INT NULL,\n",
        "    IntensityPercent INT NULL,\n",
        "    AvgAltitude FLOAT NOT NULL,\n",
        "    AvgHRPercent INT NULL,\n",
        "    ElapsedTime FLOAT NOT NULL,\n",
        "    HRRc INT NULL,\n",
        "    kcal INT NOT NULL,\n",
        "    MaxAltitude FLOAT NOT NULL,\n",
        "    MaxHR INT NULL,\n",
        "    MaxHRPercent INT NULL,\n",
        "    Pace VARCHAR(10) NOT NULL,\n",
        "    PRIMARY KEY (AthleteId, ActivityId)  -- Composite Primary Key\n",
        ");\n",
        "```"
      ],
      "metadata": {
        "id": "gQD28_Qub1yQ"
      }
    },
    {
      "cell_type": "markdown",
      "source": [
        "# Building the ETL data pipeline"
      ],
      "metadata": {
        "id": "y9czpKlmb5AD"
      }
    },
    {
      "cell_type": "markdown",
      "source": [
        "- Extract: Read CSV files containing fitness activity data\n",
        "- Transform: Clean, reformat, and adjust columns to match the database schema\n",
        "- Load: Insert the transformed data into the SQL Server database"
      ],
      "metadata": {
        "id": "V9CYjx80cACg"
      }
    },
    {
      "cell_type": "markdown",
      "source": [
        "## Extract"
      ],
      "metadata": {
        "id": "ftwcRsObcDZB"
      }
    },
    {
      "cell_type": "code",
      "source": [
        "import pandas as pd"
      ],
      "metadata": {
        "id": "3j9mHDTRcGal"
      },
      "execution_count": 1,
      "outputs": []
    },
    {
      "cell_type": "code",
      "execution_count": 2,
      "metadata": {
        "id": "5Gyi7Pn0bY9_"
      },
      "outputs": [],
      "source": [
        "# Extract step: Read the CSV file\n",
        "def extract_data(file_path):\n",
        "    df = pd.read_csv(file_path)\n",
        "    print(f\"Data extracted successfully from {file_path}.\")\n",
        "    return df"
      ]
    },
    {
      "cell_type": "markdown",
      "source": [
        "## Transform"
      ],
      "metadata": {
        "id": "VVR0O_jrcLoF"
      }
    },
    {
      "cell_type": "code",
      "source": [
        "# Function to format pace\n",
        "def convert_pace(speed_m_per_s):\n",
        "    \"\"\"\n",
        "    Convert speed in meters per second (m/s) to pace in min:sec/km.\n",
        "\n",
        "    Args:\n",
        "    speed_m_per_s (float): Speed in meters per second.\n",
        "\n",
        "    Returns:\n",
        "    str: Pace in the format 'min:sec/km'.\n",
        "    \"\"\"\n",
        "    # Convert speed from meters per second to kilometers per minute\n",
        "    speed_km_per_min = speed_m_per_s * 60 / 1000\n",
        "\n",
        "    # Convert speed (km/min) to time per km (minutes per km)\n",
        "    minutes_per_km = 1 / speed_km_per_min\n",
        "\n",
        "    # Get the integer part of the minutes\n",
        "    minutes = int(minutes_per_km)\n",
        "\n",
        "    # Get the remaining seconds (fractional part converted to seconds)\n",
        "    seconds = (minutes_per_km - minutes) * 60\n",
        "    seconds = round(seconds)\n",
        "\n",
        "    # Handle case when rounding seconds goes to 60\n",
        "    if seconds == 60:\n",
        "        minutes += 1\n",
        "        seconds = 0\n",
        "\n",
        "    # Format the output as 'min:sec/km'\n",
        "    return f\"{minutes}:{seconds:02d}/km\"\n",
        "\n",
        "# Transform step\n",
        "def transform_data(df, athlete_id):\n",
        "    # Convert time from seconds to minutes\n",
        "    df['Moving Time'] = df['Moving Time'] / 60\n",
        "    df['Elapsed time'] = df['Elapsed time'] / 60\n",
        "\n",
        "    # Convert distance from meters to kilometers\n",
        "    df['Distance'] = df['Distance'] / 1000\n",
        "\n",
        "    # Format pace using the new function\n",
        "    df['Pace'] = df['Pace'].apply(lambda x: convert_pace(x))\n",
        "\n",
        "    # Round specific columns\n",
        "    df['Intensity'] = df['Intensity'].round(1)\n",
        "    df['Avg Altitude'] = df['Avg Altitude'].round(1)\n",
        "    df['Avg HR%'] = df['Avg HR%'].round(1)\n",
        "    df['Max HR%'] = df['Max HR%'].round(1)\n",
        "    df['Max Altitude'] = df['Max Altitude'].round(1)\n",
        "    df['Pace'] = df['Pace'].round(2)\n",
        "    df['Distance'] = df['Distance'].round(2)\n",
        "    df['Moving Time'] = df['Moving Time'].round(2)\n",
        "    df['Elapsed time'] = df['Elapsed time'].round(2)\n",
        "\n",
        "    # Add athlete_id column\n",
        "    df['athlete_id'] = athlete_id\n",
        "    print(f\"Transformed data for athlete {athlete_id}.\")\n",
        "\n",
        "    # Rename columns to match SQL Server table\n",
        "    df.rename(columns={\n",
        "        'athlete_id': 'AthleteId',\n",
        "        'id': 'ActivityId',\n",
        "        'Intensity': 'IntensityPercent',\n",
        "        'Moving Time': 'MovingTime',\n",
        "        'Elapsed time': 'ElapsedTime',\n",
        "        'Avg Altitude': 'AvgAltitude',\n",
        "        'Avg HR%': 'AvgHRPercent',\n",
        "        'Max HR%': 'MaxHRPercent',\n",
        "        'Max Altitude': 'MaxAltitude',\n",
        "        'Max HR': 'MaxHR',\n",
        "        'HRRc': 'HRRc',\n",
        "        'Avg HR': 'AvgHR'\n",
        "    }, inplace=True)\n",
        "\n",
        "    return df"
      ],
      "metadata": {
        "id": "t_w5i8aCcHcJ"
      },
      "execution_count": 3,
      "outputs": []
    },
    {
      "cell_type": "markdown",
      "source": [
        "## Load"
      ],
      "metadata": {
        "id": "4HuhKgRNcQPB"
      }
    },
    {
      "cell_type": "code",
      "source": [
        "# Load step\n",
        "def load_data_to_sql(df, engine):\n",
        "    try:\n",
        "        df.to_sql('FitnessData', con=engine, if_exists='append', index=False)\n",
        "        # Print the IDs of activities added\n",
        "        added_ids = df['ActivityId'].tolist()\n",
        "        print(f\"Activities with the following IDs have been added: {added_ids}\")\n",
        "    except SQLAlchemyError as e:\n",
        "        print(f\"Error occurred while inserting data: {e}\")"
      ],
      "metadata": {
        "id": "JYoaKbGqcO6c"
      },
      "execution_count": 4,
      "outputs": []
    },
    {
      "cell_type": "markdown",
      "source": [
        "# SQL database connection"
      ],
      "metadata": {
        "id": "9uR3yVhCcTrh"
      }
    },
    {
      "cell_type": "code",
      "source": [
        "# config.py\n",
        "SERVER_NAME = \"YOUR_SERVER_NAME\"\n",
        "DATABASE_NAME = \"YOUR_DATABASE_NAME\"  # Correct database name\n",
        "DATA_FOLDER = \"data/\"\n",
        "\n",
        "# db_connection.py\n",
        "\n",
        "from sqlalchemy import create_engine\n",
        "from config import SERVER_NAME, DATABASE_NAME\n",
        "def connect_to_db():\n",
        "    conn_string = f'mssql+pyodbc://{SERVER_NAME}/{DATABASE_NAME}?driver=[YOUR_DRIVER_NAME]'\n",
        "    engine = create_engine(conn_string)\n",
        "    return engine"
      ],
      "metadata": {
        "id": "TYgi0a2XcSZZ"
      },
      "execution_count": 5,
      "outputs": []
    },
    {
      "cell_type": "markdown",
      "source": [
        "## ETL pipeline function"
      ],
      "metadata": {
        "id": "CqccIOjFcbbz"
      }
    },
    {
      "cell_type": "code",
      "source": [
        "import os"
      ],
      "metadata": {
        "id": "D1wqHXV6chIB"
      },
      "execution_count": 7,
      "outputs": []
    },
    {
      "cell_type": "code",
      "source": [
        "# Main ETL function\n",
        "def etl_pipeline():\n",
        "    engine = connect_to_db()\n",
        "\n",
        "    for file_name in os.listdir(DATA_FOLDER):\n",
        "        if file_name.endswith(\"_activities.csv\") and len(file_name) == 22:  # Check for 6-digit number format\n",
        "            # Extract the athlete_id from the file name\n",
        "            athlete_id = file_name.split(\"_activities\")[0]  # This extracts the 'i123456' part\n",
        "\n",
        "            file_path = os.path.join(DATA_FOLDER, file_name)\n",
        "\n",
        "            # Extract\n",
        "            df = extract_data(file_path)\n",
        "\n",
        "            # Transform\n",
        "            df_transformed = transform_data(df, athlete_id)\n",
        "\n",
        "            # Load\n",
        "            load_data_to_sql(df_transformed, engine)\n",
        "\n",
        "# Run the ETL pipeline\n",
        "if __name__ == \"__main__\":\n",
        "    etl_pipeline()"
      ],
      "metadata": {
        "id": "tYRZdMyicZSm"
      },
      "execution_count": 8,
      "outputs": []
    },
    {
      "cell_type": "markdown",
      "source": [
        "# Running the ETL data pipeline\n",
        "\n",
        "```\n",
        "USE [myFitnessApp]\n",
        "SELECT DB_NAME() AS CurrentDatabase\n",
        "GO\n",
        "\n",
        "SELECT * FROM [dbo].[FitnessData]\n",
        "ORDER BY Date DESC\n",
        "```"
      ],
      "metadata": {
        "id": "KutynbujcnM3"
      }
    }
  ]
}