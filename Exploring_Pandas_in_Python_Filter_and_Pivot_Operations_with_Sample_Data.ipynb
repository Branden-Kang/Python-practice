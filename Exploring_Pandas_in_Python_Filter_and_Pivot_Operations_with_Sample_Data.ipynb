{
  "nbformat": 4,
  "nbformat_minor": 0,
  "metadata": {
    "colab": {
      "provenance": [],
      "authorship_tag": "ABX9TyOlbuVXUvEkm6FYGOvU5Cmz"
    },
    "kernelspec": {
      "name": "python3",
      "display_name": "Python 3"
    },
    "language_info": {
      "name": "python"
    }
  },
  "cells": [
    {
      "cell_type": "markdown",
      "source": [
        "[Reference](https://pawankg.medium.com/exploring-pandas-in-python-filter-and-pivot-operations-with-sample-data-84e7fc4a5565)"
      ],
      "metadata": {
        "id": "lIFDuIsT_3EN"
      }
    },
    {
      "cell_type": "code",
      "execution_count": 1,
      "metadata": {
        "colab": {
          "base_uri": "https://localhost:8080/"
        },
        "id": "-b0XwxIe-8iD",
        "outputId": "1df14b5c-47c9-4bad-c718-3fe022f329f9"
      },
      "outputs": [
        {
          "output_type": "stream",
          "name": "stdout",
          "text": [
            "Original DataFrame:\n",
            "         Date Category  Value\n",
            "0  2023-01-01        A     10\n",
            "1  2023-01-01        B     20\n",
            "2  2023-01-02        A     30\n",
            "3  2023-01-02        B     40\n"
          ]
        }
      ],
      "source": [
        "import pandas as pd\n",
        "\n",
        "# Sample Data\n",
        "data = {\n",
        "    'Date': ['2023-01-01', '2023-01-01', '2023-01-02', '2023-01-02'],\n",
        "    'Category': ['A', 'B', 'A', 'B'],\n",
        "    'Value': [10, 20, 30, 40]\n",
        "}\n",
        "\n",
        "df = pd.DataFrame(data)\n",
        "print(\"Original DataFrame:\")\n",
        "print(df)"
      ]
    },
    {
      "cell_type": "markdown",
      "source": [
        "# Filter"
      ],
      "metadata": {
        "id": "i_PNphZZAC-S"
      }
    },
    {
      "cell_type": "code",
      "source": [
        "# Filtering columns\n",
        "filtered_df = df.filter(items=['Date', 'Value'])\n",
        "print(\"\\nFiltered DataFrame:\")\n",
        "print(filtered_df)"
      ],
      "metadata": {
        "colab": {
          "base_uri": "https://localhost:8080/"
        },
        "id": "MsC3ZshzAClM",
        "outputId": "f627ce7b-930f-4f4c-a492-0672535bed95"
      },
      "execution_count": 2,
      "outputs": [
        {
          "output_type": "stream",
          "name": "stdout",
          "text": [
            "\n",
            "Filtered DataFrame:\n",
            "         Date  Value\n",
            "0  2023-01-01     10\n",
            "1  2023-01-01     20\n",
            "2  2023-01-02     30\n",
            "3  2023-01-02     40\n"
          ]
        }
      ]
    },
    {
      "cell_type": "code",
      "source": [
        "# Filtering rows based on a condition\n",
        "filtered_rows = df[df['Value'] > 20]\n",
        "print(\"\\nFiltered Rows:\")\n",
        "print(filtered_rows)"
      ],
      "metadata": {
        "colab": {
          "base_uri": "https://localhost:8080/"
        },
        "id": "aA6qhFb5AEyR",
        "outputId": "e2e61d9e-ea73-4e3f-d352-f34f5f0c7c4f"
      },
      "execution_count": 3,
      "outputs": [
        {
          "output_type": "stream",
          "name": "stdout",
          "text": [
            "\n",
            "Filtered Rows:\n",
            "         Date Category  Value\n",
            "2  2023-01-02        A     30\n",
            "3  2023-01-02        B     40\n"
          ]
        }
      ]
    },
    {
      "cell_type": "code",
      "source": [
        "# Using the like parameter\n",
        "selected_columns = df.filter(like='Dat')\n",
        "print(\"\\nSelected Columns:\")\n",
        "print(selected_columns)"
      ],
      "metadata": {
        "colab": {
          "base_uri": "https://localhost:8080/"
        },
        "id": "ughLrW2qAGgi",
        "outputId": "047e9c94-301c-40fa-cde9-96f1993b73eb"
      },
      "execution_count": 4,
      "outputs": [
        {
          "output_type": "stream",
          "name": "stdout",
          "text": [
            "\n",
            "Selected Columns:\n",
            "         Date\n",
            "0  2023-01-01\n",
            "1  2023-01-01\n",
            "2  2023-01-02\n",
            "3  2023-01-02\n"
          ]
        }
      ]
    },
    {
      "cell_type": "code",
      "source": [
        "# Using the regex parameter\n",
        "selected_columns_regex = df.filter(regex='^C|^V')\n",
        "print(\"\\nSelected Columns with Regex:\")\n",
        "print(selected_columns_regex)"
      ],
      "metadata": {
        "colab": {
          "base_uri": "https://localhost:8080/"
        },
        "id": "__-RmzzmAH6Y",
        "outputId": "6db3b388-35d0-4083-d2b0-7b369ae48c81"
      },
      "execution_count": 5,
      "outputs": [
        {
          "output_type": "stream",
          "name": "stdout",
          "text": [
            "\n",
            "Selected Columns with Regex:\n",
            "  Category  Value\n",
            "0        A     10\n",
            "1        B     20\n",
            "2        A     30\n",
            "3        B     40\n"
          ]
        }
      ]
    },
    {
      "cell_type": "code",
      "source": [
        "# Filtering columns based on a list\n",
        "selected_columns_list = df.filter(items=['Date', 'Value'])\n",
        "print(\"\\nSelected Columns with List:\")\n",
        "print(selected_columns_list)"
      ],
      "metadata": {
        "colab": {
          "base_uri": "https://localhost:8080/"
        },
        "id": "JaXhpKYmAJsc",
        "outputId": "26f75f02-758c-43d5-b4df-a38a0e386c81"
      },
      "execution_count": 6,
      "outputs": [
        {
          "output_type": "stream",
          "name": "stdout",
          "text": [
            "\n",
            "Selected Columns with List:\n",
            "         Date  Value\n",
            "0  2023-01-01     10\n",
            "1  2023-01-01     20\n",
            "2  2023-01-02     30\n",
            "3  2023-01-02     40\n"
          ]
        }
      ]
    },
    {
      "cell_type": "code",
      "source": [
        "# Using the items parameter\n",
        "selected_columns_items = df.filter(items=['Date', 'Val'])\n",
        "print(\"\\nSelected Columns with Items:\")\n",
        "print(selected_columns_items)"
      ],
      "metadata": {
        "colab": {
          "base_uri": "https://localhost:8080/"
        },
        "id": "nZ8J5YUWALIT",
        "outputId": "d07cd354-9d2e-4257-de54-a2cb3669a178"
      },
      "execution_count": 7,
      "outputs": [
        {
          "output_type": "stream",
          "name": "stdout",
          "text": [
            "\n",
            "Selected Columns with Items:\n",
            "         Date\n",
            "0  2023-01-01\n",
            "1  2023-01-01\n",
            "2  2023-01-02\n",
            "3  2023-01-02\n"
          ]
        }
      ]
    },
    {
      "cell_type": "markdown",
      "source": [
        "# Pivot"
      ],
      "metadata": {
        "id": "5F31gnXrAOG4"
      }
    },
    {
      "cell_type": "code",
      "source": [
        "# Pivoting the DataFrame\n",
        "pivot_df = df.pivot(index='Date', columns='Category', values='Value')\n",
        "print(\"\\nPivoted DataFrame:\")\n",
        "print(pivot_df)"
      ],
      "metadata": {
        "colab": {
          "base_uri": "https://localhost:8080/"
        },
        "id": "F3sRDqnAAM1W",
        "outputId": "26ede34f-e3e5-4519-d16d-0bb31283b1da"
      },
      "execution_count": 8,
      "outputs": [
        {
          "output_type": "stream",
          "name": "stdout",
          "text": [
            "\n",
            "Pivoted DataFrame:\n",
            "Category     A   B\n",
            "Date              \n",
            "2023-01-01  10  20\n",
            "2023-01-02  30  40\n"
          ]
        }
      ]
    },
    {
      "cell_type": "code",
      "source": [
        "# Adding a duplicate entry\n",
        "df = df.append({'Date': '2023-01-01', 'Category': 'A', 'Value': 15}, ignore_index=True)\n",
        "\n",
        "# Using pivot_table to handle duplicates\n",
        "pivot_table_df = df.pivot_table(index='Date', columns='Category', values='Value', aggfunc='sum')\n",
        "print(\"\\nPivot Table DataFrame:\")\n",
        "print(pivot_table_df)"
      ],
      "metadata": {
        "colab": {
          "base_uri": "https://localhost:8080/"
        },
        "id": "IzIaOZI2APjP",
        "outputId": "266179ae-e419-4324-fe25-9642aea074fa"
      },
      "execution_count": 9,
      "outputs": [
        {
          "output_type": "stream",
          "name": "stdout",
          "text": [
            "\n",
            "Pivot Table DataFrame:\n",
            "Category     A   B\n",
            "Date              \n",
            "2023-01-01  25  20\n",
            "2023-01-02  30  40\n"
          ]
        },
        {
          "output_type": "stream",
          "name": "stderr",
          "text": [
            "<ipython-input-9-f80a0e7d6bfd>:2: FutureWarning: The frame.append method is deprecated and will be removed from pandas in a future version. Use pandas.concat instead.\n",
            "  df = df.append({'Date': '2023-01-01', 'Category': 'A', 'Value': 15}, ignore_index=True)\n"
          ]
        }
      ]
    },
    {
      "cell_type": "code",
      "source": [
        "# Using pivot with multi-level indexing\n",
        "multi_level_pivot = df.pivot(index=['Date', 'Category'], columns='Value')\n",
        "print(\"\\nMulti-level Index Pivot:\")\n",
        "print(multi_level_pivot)"
      ],
      "metadata": {
        "colab": {
          "base_uri": "https://localhost:8080/"
        },
        "id": "A0RkHWLwAQ-D",
        "outputId": "1684ecdc-db8f-46d9-dcf8-217dcedd30ca"
      },
      "execution_count": 10,
      "outputs": [
        {
          "output_type": "stream",
          "name": "stdout",
          "text": [
            "\n",
            "Multi-level Index Pivot:\n",
            "Empty DataFrame\n",
            "Columns: []\n",
            "Index: [(2023-01-01, A), (2023-01-01, B), (2023-01-02, A), (2023-01-02, B)]\n"
          ]
        }
      ]
    },
    {
      "cell_type": "code",
      "source": [
        "# Adding a duplicate entry\n",
        "df = df.append({'Date': '2023-01-01', 'Category': 'A', 'Value': 15}, ignore_index=True)\n",
        "\n",
        "# Using groupby and pivot_table to handle duplicates\n",
        "pivot_fillna = df.groupby(['Date', 'Category'])['Value'].sum().unstack(fill_value=0)\n",
        "print(\"\\nPivot with Missing Values Filled:\")\n",
        "print(pivot_fillna)"
      ],
      "metadata": {
        "colab": {
          "base_uri": "https://localhost:8080/"
        },
        "id": "kwfVLUbuASVP",
        "outputId": "ceb26aab-4591-400e-e235-97f6c59a60fb"
      },
      "execution_count": 11,
      "outputs": [
        {
          "output_type": "stream",
          "name": "stdout",
          "text": [
            "\n",
            "Pivot with Missing Values Filled:\n",
            "Category     A   B\n",
            "Date              \n",
            "2023-01-01  40  20\n",
            "2023-01-02  30  40\n"
          ]
        },
        {
          "output_type": "stream",
          "name": "stderr",
          "text": [
            "<ipython-input-11-7a139f077086>:2: FutureWarning: The frame.append method is deprecated and will be removed from pandas in a future version. Use pandas.concat instead.\n",
            "  df = df.append({'Date': '2023-01-01', 'Category': 'A', 'Value': 15}, ignore_index=True)\n"
          ]
        }
      ]
    },
    {
      "cell_type": "code",
      "source": [
        "# Using pivot_table to calculate the average for duplicate entries\n",
        "pivot_avg = df.pivot_table(index='Date', columns='Category', values='Value', aggfunc='mean')\n",
        "print(\"\\nPivot Table with Average for Duplicate Entries:\")\n",
        "print(pivot_avg)"
      ],
      "metadata": {
        "colab": {
          "base_uri": "https://localhost:8080/"
        },
        "id": "UCOcWS32ATeW",
        "outputId": "16dd8f7a-36f1-4ca6-edb8-c6a6764cf0a3"
      },
      "execution_count": 12,
      "outputs": [
        {
          "output_type": "stream",
          "name": "stdout",
          "text": [
            "\n",
            "Pivot Table with Average for Duplicate Entries:\n",
            "Category            A     B\n",
            "Date                       \n",
            "2023-01-01  13.333333  20.0\n",
            "2023-01-02  30.000000  40.0\n"
          ]
        }
      ]
    },
    {
      "cell_type": "code",
      "source": [
        "# Using pivot_table to handle duplicate entries and resetting index\n",
        "pivot_table_df = df.pivot_table(index='Date', columns='Category', values='Value', aggfunc='sum')\n",
        "pivot_reset_index = pivot_table_df.reset_index()\n",
        "print(\"\\nPivot Table with Reset Index:\")\n",
        "print(pivot_reset_index)"
      ],
      "metadata": {
        "colab": {
          "base_uri": "https://localhost:8080/"
        },
        "id": "Ed1DUiMnAUwK",
        "outputId": "d455c27c-df9b-4c59-ac43-916d5c4a1ada"
      },
      "execution_count": 13,
      "outputs": [
        {
          "output_type": "stream",
          "name": "stdout",
          "text": [
            "\n",
            "Pivot Table with Reset Index:\n",
            "Category        Date   A   B\n",
            "0         2023-01-01  40  20\n",
            "1         2023-01-02  30  40\n"
          ]
        }
      ]
    },
    {
      "cell_type": "code",
      "source": [
        "# Sample Data with an additional 'Value2' column\n",
        "data = {\n",
        "    'Date': ['2023-01-01', '2023-01-01', '2023-01-02', '2023-01-02'],\n",
        "    'Category': ['A', 'B', 'A', 'B'],\n",
        "    'Value': [10, 20, 30, 40],\n",
        "    'Value2': [100, 200, 300, 400]\n",
        "}\n",
        "\n",
        "df = pd.DataFrame(data)\n",
        "\n",
        "# Pivoting with multiple value columns\n",
        "multi_value_pivot = df.pivot(index='Date', columns='Category', values=['Value', 'Value2'])\n",
        "print(\"\\nPivot with Multiple Value Columns:\")\n",
        "print(multi_value_pivot)"
      ],
      "metadata": {
        "colab": {
          "base_uri": "https://localhost:8080/"
        },
        "id": "qsNd3s07AWKD",
        "outputId": "17d4bb98-3467-4d48-9fc5-a2c47eb44406"
      },
      "execution_count": 14,
      "outputs": [
        {
          "output_type": "stream",
          "name": "stdout",
          "text": [
            "\n",
            "Pivot with Multiple Value Columns:\n",
            "           Value     Value2     \n",
            "Category       A   B      A    B\n",
            "Date                            \n",
            "2023-01-01    10  20    100  200\n",
            "2023-01-02    30  40    300  400\n"
          ]
        }
      ]
    }
  ]
}