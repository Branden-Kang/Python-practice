{
  "nbformat": 4,
  "nbformat_minor": 0,
  "metadata": {
    "colab": {
      "name": "Python Practice_210428.ipynb",
      "provenance": [],
      "authorship_tag": "ABX9TyN3nVJ1qVmCfh/MfNSrlaLT"
    },
    "kernelspec": {
      "name": "python3",
      "display_name": "Python 3"
    },
    "language_info": {
      "name": "python"
    }
  },
  "cells": [
    {
      "cell_type": "code",
      "metadata": {
        "colab": {
          "base_uri": "https://localhost:8080/"
        },
        "id": "i2asg3KDoJ0t",
        "outputId": "0e91037c-afd1-43dc-b09f-19ac3ed728d3"
      },
      "source": [
        "mylist = [num for num in range(5)]\n",
        "print(mylist)"
      ],
      "execution_count": null,
      "outputs": [
        {
          "output_type": "stream",
          "text": [
            "[0, 1, 2, 3, 4]\n"
          ],
          "name": "stdout"
        }
      ]
    },
    {
      "cell_type": "code",
      "metadata": {
        "colab": {
          "base_uri": "https://localhost:8080/"
        },
        "id": "15o-GEDeoPbl",
        "outputId": "6b39ecef-cd54-416e-e2a5-fc469dafe087"
      },
      "source": [
        "num_list = [i for i in range(21)]\n",
        "print(num_list)"
      ],
      "execution_count": null,
      "outputs": [
        {
          "output_type": "stream",
          "text": [
            "[0, 1, 2, 3, 4, 5, 6, 7, 8, 9, 10, 11, 12, 13, 14, 15, 16, 17, 18, 19, 20]\n"
          ],
          "name": "stdout"
        }
      ]
    },
    {
      "cell_type": "code",
      "metadata": {
        "colab": {
          "base_uri": "https://localhost:8080/"
        },
        "id": "CicSfFt5oSli",
        "outputId": "7042b608-8e63-4b82-cff8-b9fb967f351d"
      },
      "source": [
        "for i in num_list:\n",
        "    print(\"-> Result \",i, end=\" -\" if i%2 == 1 else '\\n')"
      ],
      "execution_count": null,
      "outputs": [
        {
          "output_type": "stream",
          "text": [
            "-> Result  0\n",
            "-> Result  1 --> Result  2\n",
            "-> Result  3 --> Result  4\n",
            "-> Result  5 --> Result  6\n",
            "-> Result  7 --> Result  8\n",
            "-> Result  9 --> Result  10\n",
            "-> Result  11 --> Result  12\n",
            "-> Result  13 --> Result  14\n",
            "-> Result  15 --> Result  16\n",
            "-> Result  17 --> Result  18\n",
            "-> Result  19 --> Result  20\n"
          ],
          "name": "stdout"
        }
      ]
    },
    {
      "cell_type": "code",
      "metadata": {
        "colab": {
          "base_uri": "https://localhost:8080/"
        },
        "id": "80YokgPCoZYS",
        "outputId": "1e92580b-fb9c-4e1e-f0d7-0a45eaf7f6e6"
      },
      "source": [
        "import numpy as np\n",
        "np.full((3,4),5, dtype=int)"
      ],
      "execution_count": null,
      "outputs": [
        {
          "output_type": "execute_result",
          "data": {
            "text/plain": [
              "array([[5, 5, 5, 5],\n",
              "       [5, 5, 5, 5],\n",
              "       [5, 5, 5, 5]])"
            ]
          },
          "metadata": {
            "tags": []
          },
          "execution_count": 4
        }
      ]
    },
    {
      "cell_type": "code",
      "metadata": {
        "id": "tqvuRFiSpbOb"
      },
      "source": [
        "numbers =[1,2,3,4,5]\n",
        "coefficients = [5,6,7,8,9]"
      ],
      "execution_count": null,
      "outputs": []
    },
    {
      "cell_type": "code",
      "metadata": {
        "colab": {
          "base_uri": "https://localhost:8080/"
        },
        "id": "xSg2BojGprGp",
        "outputId": "7ecb2f9f-ae24-4a8a-a003-a6afcc8b4bce"
      },
      "source": [
        "def calculate(n):\n",
        "    return (n**n)/n\n",
        "\n",
        "numbers = (1, 2, 3, 4)\n",
        "result = map(calculate, numbers)\n",
        "list(result)"
      ],
      "execution_count": null,
      "outputs": [
        {
          "output_type": "execute_result",
          "data": {
            "text/plain": [
              "[1.0, 2.0, 9.0, 64.0]"
            ]
          },
          "metadata": {
            "tags": []
          },
          "execution_count": 6
        }
      ]
    },
    {
      "cell_type": "code",
      "metadata": {
        "colab": {
          "base_uri": "https://localhost:8080/"
        },
        "id": "YALRZsgGp-Dc",
        "outputId": "58ba724f-14ea-4747-901f-a3b65ee32fe9"
      },
      "source": [
        "numbers =[1,2,3,4,5]\n",
        "coefficients = [5,6,7,8,9]\n",
        "list(map(pow, numbers, coefficients))"
      ],
      "execution_count": null,
      "outputs": [
        {
          "output_type": "execute_result",
          "data": {
            "text/plain": [
              "[1, 64, 2187, 65536, 1953125]"
            ]
          },
          "metadata": {
            "tags": []
          },
          "execution_count": 8
        }
      ]
    },
    {
      "cell_type": "code",
      "metadata": {
        "colab": {
          "base_uri": "https://localhost:8080/"
        },
        "id": "w24O5CXIqB1e",
        "outputId": "b80553e4-af9a-4433-f2e6-46fea25949a7"
      },
      "source": [
        "class UpperString():\n",
        "    def __init__(self):\n",
        "        self.s = \"\"\n",
        "    def getString(self):\n",
        "        self.s = input()\n",
        "    def printString(self):\n",
        "        print(self.s.upper())\n",
        "\n",
        "strObj = UpperString()\n",
        "strObj.getString()\n",
        "strObj.printString()"
      ],
      "execution_count": null,
      "outputs": [
        {
          "output_type": "stream",
          "text": [
            "hello\n",
            "HELLO\n"
          ],
          "name": "stdout"
        }
      ]
    },
    {
      "cell_type": "code",
      "metadata": {
        "colab": {
          "base_uri": "https://localhost:8080/"
        },
        "id": "99XPttNVtTmB",
        "outputId": "a558e9ec-bd4f-44e9-e080-b1303853fc21"
      },
      "source": [
        "import calendar\n",
        "print(calendar.weekday(2021,4,27))"
      ],
      "execution_count": null,
      "outputs": [
        {
          "output_type": "stream",
          "text": [
            "1\n"
          ],
          "name": "stdout"
        }
      ]
    },
    {
      "cell_type": "code",
      "metadata": {
        "colab": {
          "base_uri": "https://localhost:8080/"
        },
        "id": "85t7ivnFtbTP",
        "outputId": "32dea3cb-0ded-4945-c5b4-83812910e828"
      },
      "source": [
        "print(calendar.day_name[calendar.weekday(2021,4,27)])"
      ],
      "execution_count": null,
      "outputs": [
        {
          "output_type": "stream",
          "text": [
            "Tuesday\n"
          ],
          "name": "stdout"
        }
      ]
    },
    {
      "cell_type": "code",
      "metadata": {
        "colab": {
          "base_uri": "https://localhost:8080/"
        },
        "id": "c2k3nKvctgzo",
        "outputId": "ea5c7c2c-cea2-4ac3-9d15-bc681f89252b"
      },
      "source": [
        "import calendar\n",
        "\n",
        "month, day, year =map(int, input().split())\n",
        "\n",
        "dayId = calendar.weekday(year, month, day)\n",
        "print(calendar.day_name[dayId].upper())"
      ],
      "execution_count": null,
      "outputs": [
        {
          "output_type": "stream",
          "text": [
            "04 27 2021\n",
            "TUESDAY\n"
          ],
          "name": "stdout"
        }
      ]
    }
  ]
}