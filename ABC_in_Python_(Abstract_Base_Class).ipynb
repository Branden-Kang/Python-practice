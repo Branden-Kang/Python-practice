{
  "nbformat": 4,
  "nbformat_minor": 0,
  "metadata": {
    "colab": {
      "name": "ABC in Python (Abstract Base Class).ipynb",
      "provenance": [],
      "authorship_tag": "ABX9TyMsj8U+rriNiy6iRK/J8Sj7"
    },
    "kernelspec": {
      "name": "python3",
      "display_name": "Python 3"
    },
    "language_info": {
      "name": "python"
    }
  },
  "cells": [
    {
      "cell_type": "markdown",
      "metadata": {
        "id": "aV64LS7ZxoQK"
      },
      "source": [
        "[Reference](https://rnijanthanmech.medium.com/abc-in-python-abstract-base-class-6a74972a0119)"
      ]
    },
    {
      "cell_type": "code",
      "metadata": {
        "colab": {
          "base_uri": "https://localhost:8080/"
        },
        "id": "tocCG8CZxnG2",
        "outputId": "4670f517-7a3b-41a9-d324-5a62d6d9ddac"
      },
      "source": [
        "from abc import ABCMeta, abstractmethod\n",
        "\n",
        "\n",
        "class Calculation(metaclass=ABCMeta):\n",
        "\n",
        "    @abstractmethod\n",
        "    def add(self):\n",
        "        pass\n",
        "\n",
        "    @abstractmethod\n",
        "    def subtract(self):\n",
        "        pass\n",
        "\n",
        "    def multiply(self):\n",
        "        pass\n",
        "\n",
        "    def division(self):\n",
        "        pass\n",
        "\n",
        "\n",
        "class Calculator(Calculation):\n",
        "\n",
        "    def __init__(self, a, b):\n",
        "        self.a = a\n",
        "        self.b = b\n",
        "\n",
        "    def add(self):\n",
        "        print(self.a + self.b)\n",
        "\n",
        "    def subtract(self):\n",
        "        print(self.a - self.b)\n",
        "\n",
        "\n",
        "take = Calculator(10, 5)\n",
        "take.add()\n",
        "take.subtract()"
      ],
      "execution_count": 1,
      "outputs": [
        {
          "output_type": "stream",
          "text": [
            "15\n",
            "5\n"
          ],
          "name": "stdout"
        }
      ]
    },
    {
      "cell_type": "code",
      "metadata": {
        "colab": {
          "base_uri": "https://localhost:8080/"
        },
        "id": "Oac83-oCxr6D",
        "outputId": "53efc4e2-9db5-4ed7-bb7a-9b3e74c7c4dd"
      },
      "source": [
        "from abc import ABC, abstractmethod\n",
        "\n",
        "\n",
        "class Calculation(ABC):\n",
        "\n",
        "    @abstractmethod\n",
        "    def add(self):\n",
        "        pass\n",
        "\n",
        "    @abstractmethod\n",
        "    def subtract(self):\n",
        "        pass\n",
        "\n",
        "    def multiply(self):\n",
        "        pass\n",
        "\n",
        "    def division(self):\n",
        "        pass\n",
        "\n",
        "\n",
        "class Calculator(Calculation):\n",
        "\n",
        "    def __init__(self, a, b):\n",
        "        self.a = a\n",
        "        self.b = b\n",
        "\n",
        "    def add(self):\n",
        "        print(self.a + self.b)\n",
        "\n",
        "    def subtract(self):\n",
        "        print(self.a - self.b)\n",
        "\n",
        "\n",
        "take = Calculator(10, 5)\n",
        "take.add()\n",
        "take.subtract()"
      ],
      "execution_count": 2,
      "outputs": [
        {
          "output_type": "stream",
          "text": [
            "15\n",
            "5\n"
          ],
          "name": "stdout"
        }
      ]
    },
    {
      "cell_type": "code",
      "metadata": {
        "colab": {
          "base_uri": "https://localhost:8080/"
        },
        "id": "TmfV2PJOxvd5",
        "outputId": "da7ba747-cdfc-44c1-cc5a-4a135ad10adb"
      },
      "source": [
        "from abc import ABC, abstractmethod\n",
        "\n",
        "\n",
        "class Calculation(ABC):\n",
        "\n",
        "    @abstractmethod\n",
        "    def add(self):\n",
        "        pass\n",
        "\n",
        "    @abstractmethod\n",
        "    def subtract(self):\n",
        "        pass\n",
        "\n",
        "@Calculation.register\n",
        "class Calculator:\n",
        "\n",
        "    def __init__(self, a, b):\n",
        "        self.a = a\n",
        "        self.b = b\n",
        "\n",
        "    def add(self):\n",
        "        print(self.a + self.b)\n",
        "\n",
        "    # def subtract(self):\n",
        "    #     print(self.a - self.b)\n",
        "\n",
        "\n",
        "take = Calculator(10, 5)\n",
        "take.add()\n",
        "# subtract method is an abstract method but it is not throwing error due to virtual sub class\n",
        "# take.subtract()\n",
        "print(issubclass(Calculator, Calculation)) # True"
      ],
      "execution_count": 3,
      "outputs": [
        {
          "output_type": "stream",
          "text": [
            "15\n",
            "True\n"
          ],
          "name": "stdout"
        }
      ]
    },
    {
      "cell_type": "code",
      "metadata": {
        "colab": {
          "base_uri": "https://localhost:8080/",
          "height": 283
        },
        "id": "7pFyxu-lxzSD",
        "outputId": "1c9afb76-ef08-46d7-e635-973004174388"
      },
      "source": [
        "from abc import ABC, abstractmethod\n",
        "\n",
        "\n",
        "class Calculation(ABC):\n",
        "\n",
        "    @abstractmethod\n",
        "    def add(self):\n",
        "        pass\n",
        "\n",
        "    @abstractmethod\n",
        "    def subtract(self):\n",
        "        pass\n",
        "\n",
        "    def multiply(self):\n",
        "        print('Method of an Abstract Class can be called without error',\n",
        "              'because abstract method decorator is not used')\n",
        "\n",
        "    @abstractmethod\n",
        "    def division(self):\n",
        "        pass\n",
        "\n",
        "class Calculator(Calculation):\n",
        "\n",
        "    def __init__(self, a, b):\n",
        "        self.a = a\n",
        "        self.b = b\n",
        "\n",
        "    def add(self):\n",
        "        print(self.a + self.b)\n",
        "\n",
        "    def subtract(self):\n",
        "        print(self.a - self.b)\n",
        "\n",
        "\n",
        "take = Calculator(10, 5)\n",
        "take.add() # 15\n",
        "take.subtract() # 5\n",
        "take.multiply() # Method of an Abstract Class can be called without error because abstract method decorator is not used\n",
        "print(issubclass(Calculator, Calculation)) # True\n",
        "# throws an error because abstract class method is an abstract method\n",
        "take.division() # TypeError: Can't instantiate abstract class Calculator with abstract methods division"
      ],
      "execution_count": 4,
      "outputs": [
        {
          "output_type": "error",
          "ename": "TypeError",
          "evalue": "ignored",
          "traceback": [
            "\u001b[0;31m---------------------------------------------------------------------------\u001b[0m",
            "\u001b[0;31mTypeError\u001b[0m                                 Traceback (most recent call last)",
            "\u001b[0;32m<ipython-input-4-cb7bd32e4190>\u001b[0m in \u001b[0;36m<module>\u001b[0;34m()\u001b[0m\n\u001b[1;32m     33\u001b[0m \u001b[0;34m\u001b[0m\u001b[0m\n\u001b[1;32m     34\u001b[0m \u001b[0;34m\u001b[0m\u001b[0m\n\u001b[0;32m---> 35\u001b[0;31m \u001b[0mtake\u001b[0m \u001b[0;34m=\u001b[0m \u001b[0mCalculator\u001b[0m\u001b[0;34m(\u001b[0m\u001b[0;36m10\u001b[0m\u001b[0;34m,\u001b[0m \u001b[0;36m5\u001b[0m\u001b[0;34m)\u001b[0m\u001b[0;34m\u001b[0m\u001b[0;34m\u001b[0m\u001b[0m\n\u001b[0m\u001b[1;32m     36\u001b[0m \u001b[0mtake\u001b[0m\u001b[0;34m.\u001b[0m\u001b[0madd\u001b[0m\u001b[0;34m(\u001b[0m\u001b[0;34m)\u001b[0m \u001b[0;31m# 15\u001b[0m\u001b[0;34m\u001b[0m\u001b[0;34m\u001b[0m\u001b[0m\n\u001b[1;32m     37\u001b[0m \u001b[0mtake\u001b[0m\u001b[0;34m.\u001b[0m\u001b[0msubtract\u001b[0m\u001b[0;34m(\u001b[0m\u001b[0;34m)\u001b[0m \u001b[0;31m# 5\u001b[0m\u001b[0;34m\u001b[0m\u001b[0;34m\u001b[0m\u001b[0m\n",
            "\u001b[0;31mTypeError\u001b[0m: Can't instantiate abstract class Calculator with abstract methods division"
          ]
        }
      ]
    }
  ]
}