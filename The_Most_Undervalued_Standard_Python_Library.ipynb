{
  "nbformat": 4,
  "nbformat_minor": 0,
  "metadata": {
    "colab": {
      "name": "The Most Undervalued Standard Python Library.ipynb",
      "provenance": [],
      "authorship_tag": "ABX9TyPe6BZqlo4o12Du4fYS2Izf"
    },
    "kernelspec": {
      "name": "python3",
      "display_name": "Python 3"
    },
    "language_info": {
      "name": "python"
    }
  },
  "cells": [
    {
      "cell_type": "markdown",
      "metadata": {
        "id": "7iuMkRyjkg88"
      },
      "source": [
        "[Reference](https://towardsdatascience.com/the-most-undervalued-standard-python-library-14021632f692)"
      ]
    },
    {
      "cell_type": "code",
      "metadata": {
        "id": "dAPz3Uqnkf7o",
        "outputId": "062aec0b-2f02-48b3-b8d9-6433effb5d1a",
        "colab": {
          "base_uri": "https://localhost:8080/"
        }
      },
      "source": [
        "from collections import namedtuple\n",
        "Features = namedtuple('Features', ['age', 'gender', 'name'])\n",
        "row = Features(age=22, gender='male', name='Alex')\n",
        "print(row.age)"
      ],
      "execution_count": 1,
      "outputs": [
        {
          "output_type": "stream",
          "text": [
            "22\n"
          ],
          "name": "stdout"
        }
      ]
    },
    {
      "cell_type": "code",
      "metadata": {
        "id": "uug2mfF8kjIH",
        "outputId": "d0ef8a89-f199-4c2e-a68e-fbe7c595b0bb",
        "colab": {
          "base_uri": "https://localhost:8080/"
        }
      },
      "source": [
        "from collections import Counter\n",
        "ages = [22, 22, 25, 25, 30, 24, 26, 24, 35, 45, 52, 22, 22, 22, 25, 16, 11, 15, 40, 30]\n",
        "value_counts = Counter(ages)\n",
        "print(value_counts.most_common())"
      ],
      "execution_count": 2,
      "outputs": [
        {
          "output_type": "stream",
          "text": [
            "[(22, 5), (25, 3), (30, 2), (24, 2), (26, 1), (35, 1), (45, 1), (52, 1), (16, 1), (11, 1), (15, 1), (40, 1)]\n"
          ],
          "name": "stdout"
        }
      ]
    },
    {
      "cell_type": "code",
      "metadata": {
        "id": "QPWr2X8_kkVF",
        "outputId": "ac68354a-2b2e-4957-adb9-0d358360dc66",
        "colab": {
          "base_uri": "https://localhost:8080/"
        }
      },
      "source": [
        "from collections import defaultdict\n",
        "my_default_dict = defaultdict(int)\n",
        "for letter in 'the red fox ran as fast as it could':\n",
        "\tmy_default_dict[letter] += 1\n",
        "print(my_default_dict)"
      ],
      "execution_count": 3,
      "outputs": [
        {
          "output_type": "stream",
          "text": [
            "defaultdict(<class 'int'>, {'t': 3, 'h': 1, 'e': 2, ' ': 8, 'r': 2, 'd': 2, 'f': 2, 'o': 2, 'x': 1, 'a': 4, 'n': 1, 's': 3, 'i': 1, 'c': 1, 'u': 1, 'l': 1})\n"
          ],
          "name": "stdout"
        }
      ]
    }
  ]
}