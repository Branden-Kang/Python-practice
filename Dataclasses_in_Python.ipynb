{
  "nbformat": 4,
  "nbformat_minor": 0,
  "metadata": {
    "colab": {
      "provenance": [],
      "authorship_tag": "ABX9TyNj/8Nk4mn6F78eyWdWrKI2"
    },
    "kernelspec": {
      "name": "python3",
      "display_name": "Python 3"
    },
    "language_info": {
      "name": "python"
    }
  },
  "cells": [
    {
      "cell_type": "markdown",
      "source": [
        "[Reference](https://medium.com/@akashsdas_dev/dataclasses-in-python-804db8e149c3)"
      ],
      "metadata": {
        "id": "2GLX-FAIWnxA"
      }
    },
    {
      "cell_type": "code",
      "execution_count": 1,
      "metadata": {
        "colab": {
          "base_uri": "https://localhost:8080/"
        },
        "id": "OxOxDb0vU5Ya",
        "outputId": "8fea9165-37ef-4a69-9f92-2eec030508cb"
      },
      "outputs": [
        {
          "output_type": "stream",
          "name": "stdout",
          "text": [
            "Blaster damage: 20.0\n",
            "Rifle damage: 50.0\n"
          ]
        }
      ],
      "source": [
        "from enum import Enum, unique\n",
        "\n",
        "\n",
        "@unique\n",
        "class WeaponType(Enum):\n",
        "    BLASTER = 1\n",
        "    RIFLE = 2\n",
        "    SHOTGUN = 3\n",
        "    SNIPER = 4\n",
        "    GRENADE = 5\n",
        "\n",
        "\n",
        "class GameWeapon:\n",
        "    def __init__(\n",
        "        self, name: str, damage: float, weapon_type: WeaponType, level: int = 1\n",
        "    ):\n",
        "        self.name = name\n",
        "        self.damage = damage\n",
        "        self.weapon_type = weapon_type\n",
        "        self.level = level\n",
        "\n",
        "\n",
        "blaster = GameWeapon(\"Blaster\", 20.0, WeaponType.BLASTER)\n",
        "rifle = GameWeapon(\"Rifle\", 50.0, WeaponType.RIFLE)\n",
        "\n",
        "print(f\"Blaster damage: {blaster.damage}\")\n",
        "print(f\"Rifle damage: {rifle.damage}\")"
      ]
    },
    {
      "cell_type": "code",
      "source": [
        "from enum import Enum, unique\n",
        "\n",
        "\n",
        "@unique\n",
        "class WeaponType(Enum):\n",
        "    BLASTER = 1\n",
        "    RIFLE = 2\n",
        "    SHOTGUN = 3\n",
        "    SNIPER = 4\n",
        "    GRENADE = 5\n",
        "\n",
        "\n",
        "class GameWeapon:\n",
        "    def __init__(\n",
        "        self, name: str, damage: float, weapon_type: WeaponType, level: int = 1\n",
        "    ):\n",
        "        self.name = name\n",
        "        self.damage = damage\n",
        "        self.weapon_type = weapon_type\n",
        "        self.level = level\n",
        "\n",
        "    def level_up(self, damage_amount_increase: float) -> None:\n",
        "        self.level += 1\n",
        "        self.damage += damage_amount_increase\n",
        "\n",
        "    def __repr__(self):\n",
        "        return f\"{self.__class__.__name__}(name={self.name!r}, damage={self.damage}, weapon_type={self.weapon_type}, level={self.level})\"\n",
        "\n",
        "    def __eq__(self, other):\n",
        "        return self.damage == other.damage\n",
        "\n",
        "    def __lt__(self, other):\n",
        "        return self.damage < other.damage\n",
        "\n",
        "    def __gt__(self, other):\n",
        "        return self.damage > other.damage\n",
        "\n",
        "    def __le__(self, other):\n",
        "        return self.damage <= other.damage\n",
        "\n",
        "    def __ge__(self, other):\n",
        "        return self.damage >= other.damage\n",
        "\n",
        "\n",
        "blaster = GameWeapon(\"Blaster\", 20.0, WeaponType.BLASTER)\n",
        "rifle = GameWeapon(\"Rifle\", 50.0, WeaponType.RIFLE)\n",
        "\n",
        "print(f\"Blaster damage: {blaster.damage}\")\n",
        "print(f\"Rifle damage: {rifle.damage}\")\n",
        "\n",
        "blaster.level_up(5)\n",
        "rifle.level_up(10)\n",
        "print(f\"Blaster damage after level up: {blaster.damage}\")\n",
        "print(f\"Rifle damage after level up: {rifle.damage}\")\n",
        "\n",
        "print(f\"Blaster == Rifle: {blaster == rifle}\")\n",
        "print(f\"Blaster < Rifle: {blaster < rifle}\")\n",
        "print(f\"Blaster > Rifle: {blaster > rifle}\")\n",
        "print(f\"Blaster <= Rifle: {blaster <= rifle}\")\n",
        "\n",
        "weapons: list[GameWeapon] = [blaster, rifle]\n",
        "weapons.sort(reverse=True)\n",
        "print(weapons)"
      ],
      "metadata": {
        "colab": {
          "base_uri": "https://localhost:8080/"
        },
        "id": "-avbk8UdWqoc",
        "outputId": "7493fc53-247d-4cf6-a462-2d29e007b941"
      },
      "execution_count": 2,
      "outputs": [
        {
          "output_type": "stream",
          "name": "stdout",
          "text": [
            "Blaster damage: 20.0\n",
            "Rifle damage: 50.0\n",
            "Blaster damage after level up: 25.0\n",
            "Rifle damage after level up: 60.0\n",
            "Blaster == Rifle: False\n",
            "Blaster < Rifle: True\n",
            "Blaster > Rifle: False\n",
            "Blaster <= Rifle: True\n",
            "[GameWeapon(name='Rifle', damage=60.0, weapon_type=WeaponType.RIFLE, level=2), GameWeapon(name='Blaster', damage=25.0, weapon_type=WeaponType.BLASTER, level=2)]\n"
          ]
        }
      ]
    },
    {
      "cell_type": "code",
      "source": [
        "from enum import Enum, unique\n",
        "from dataclasses import dataclass\n",
        "\n",
        "\n",
        "@unique\n",
        "class WeaponType(Enum):\n",
        "    BLASTER = 1\n",
        "    RIFLE = 2\n",
        "    SHOTGUN = 3\n",
        "    SNIPER = 4\n",
        "    GRENADE = 5\n",
        "\n",
        "\n",
        "@dataclass\n",
        "class GameWeapon:\n",
        "    name: str\n",
        "    damage: float\n",
        "    weapon_type: WeaponType\n",
        "    level: int = 1\n",
        "\n",
        "    def level_up(self, levels: int):\n",
        "        self.level += levels\n",
        "        self.damage += levels * 5\n",
        "\n",
        "\n",
        "blaster = GameWeapon(\"Blaster\", 20.0, WeaponType.BLASTER)\n",
        "rifle = GameWeapon(\"Rifle\", 50.0, WeaponType.RIFLE)\n",
        "\n",
        "print(f\"Blaster damage: {blaster.damage}\")\n",
        "print(f\"Rifle damage: {rifle.damage}\")\n",
        "\n",
        "blaster.level_up(5)\n",
        "rifle.level_up(10)\n",
        "print(f\"Blaster damage after level up: {blaster.damage}\")\n",
        "print(f\"Rifle damage after level up: {rifle.damage}\")\n",
        "\n",
        "print(f\"Blaster == Rifle: {blaster == rifle}\")"
      ],
      "metadata": {
        "colab": {
          "base_uri": "https://localhost:8080/"
        },
        "id": "KJJB1XPCWs7N",
        "outputId": "701e18bd-447b-43b2-d221-1536fc829e9b"
      },
      "execution_count": 3,
      "outputs": [
        {
          "output_type": "stream",
          "name": "stdout",
          "text": [
            "Blaster damage: 20.0\n",
            "Rifle damage: 50.0\n",
            "Blaster damage after level up: 45.0\n",
            "Rifle damage after level up: 100.0\n",
            "Blaster == Rifle: False\n"
          ]
        }
      ]
    },
    {
      "cell_type": "code",
      "source": [
        "from enum import Enum, unique\n",
        "from dataclasses import dataclass\n",
        "from functools import total_ordering\n",
        "\n",
        "\n",
        "@unique\n",
        "class WeaponType(Enum):\n",
        "    BLASTER = 1\n",
        "    RIFLE = 2\n",
        "    SHOTGUN = 3\n",
        "    SNIPER = 4\n",
        "    GRENADE = 5\n",
        "\n",
        "\n",
        "@total_ordering\n",
        "@dataclass\n",
        "class GameWeapon:\n",
        "    name: str\n",
        "    damage: float\n",
        "    weapon_type: WeaponType\n",
        "    level: int = 1\n",
        "\n",
        "    def level_up(self, levels: int):\n",
        "        self.level += levels\n",
        "        self.damage += levels * 5\n",
        "\n",
        "    def __eq__(self, other):\n",
        "        if not isinstance(other, GameWeapon):\n",
        "            return NotImplemented\n",
        "        return self.damage == other.damage\n",
        "\n",
        "    def __lt__(self, other):\n",
        "        if not isinstance(other, GameWeapon):\n",
        "            return NotImplemented\n",
        "        return self.damage < other.damage\n",
        "\n",
        "    def __le__(self, other):\n",
        "        if not isinstance(other, GameWeapon):\n",
        "            return NotImplemented\n",
        "        return self == other or self < other\n",
        "\n",
        "    def __gt__(self, other):\n",
        "        if not isinstance(other, GameWeapon):\n",
        "            return NotImplemented\n",
        "        return not (self <= other)\n",
        "\n",
        "    def __ge__(self, other):\n",
        "        if not isinstance(other, GameWeapon):\n",
        "            return NotImplemented\n",
        "        return not (self < other)\n",
        "\n",
        "\n",
        "blaster = GameWeapon(\"Blaster\", 20.0, WeaponType.BLASTER)\n",
        "rifle = GameWeapon(\"Rifle\", 50.0, WeaponType.RIFLE)\n",
        "\n",
        "print(f\"Blaster damage: {blaster.damage}\")\n",
        "print(f\"Rifle damage: {rifle.damage}\")\n",
        "\n",
        "blaster.level_up(5)\n",
        "rifle.level_up(10)\n",
        "print(f\"Blaster damage after level up: {blaster.damage}\")\n",
        "print(f\"Rifle damage after level up: {rifle.damage}\")\n",
        "\n",
        "print(f\"Blaster < Rifle: {blaster < rifle}\")\n",
        "\n",
        "weapons = [rifle, blaster]\n",
        "weapons.sort()\n",
        "print(\"Sorted weapons based on damage:\")\n",
        "for weapon in weapons:\n",
        "    print(f\"{weapon.name}: {weapon.damage}\")"
      ],
      "metadata": {
        "colab": {
          "base_uri": "https://localhost:8080/"
        },
        "id": "WJ3GLvR4WupA",
        "outputId": "fc032b55-2127-4fcb-a071-8eaeba87602a"
      },
      "execution_count": 4,
      "outputs": [
        {
          "output_type": "stream",
          "name": "stdout",
          "text": [
            "Blaster damage: 20.0\n",
            "Rifle damage: 50.0\n",
            "Blaster damage after level up: 45.0\n",
            "Rifle damage after level up: 100.0\n",
            "Blaster < Rifle: True\n",
            "Sorted weapons based on damage:\n",
            "Blaster: 45.0\n",
            "Rifle: 100.0\n"
          ]
        }
      ]
    },
    {
      "cell_type": "code",
      "source": [
        "from enum import Enum, unique\n",
        "from dataclasses import dataclass\n",
        "\n",
        "\n",
        "@unique\n",
        "class WeaponType(Enum):\n",
        "    BLASTER = 1\n",
        "    RIFLE = 2\n",
        "    SHOTGUN = 3\n",
        "    SNIPER = 4\n",
        "    GRENADE = 5\n",
        "\n",
        "\n",
        "@dataclass\n",
        "class GameWeapon:\n",
        "    name: str\n",
        "    damage: float\n",
        "    weapon_type: WeaponType\n",
        "    level: int = 1\n",
        "\n",
        "    def level_up(self, levels: int):\n",
        "        self.level += levels\n",
        "        self.damage += levels * 5\n",
        "\n",
        "\n",
        "help(GameWeapon)"
      ],
      "metadata": {
        "colab": {
          "base_uri": "https://localhost:8080/"
        },
        "id": "AMJsCKWnWxbQ",
        "outputId": "f946c7bb-e191-403c-e077-df08cbfc50a6"
      },
      "execution_count": 5,
      "outputs": [
        {
          "output_type": "stream",
          "name": "stdout",
          "text": [
            "Help on class GameWeapon in module __main__:\n",
            "\n",
            "class GameWeapon(builtins.object)\n",
            " |  GameWeapon(name: str, damage: float, weapon_type: __main__.WeaponType, level: int = 1) -> None\n",
            " |  \n",
            " |  GameWeapon(name: str, damage: float, weapon_type: __main__.WeaponType, level: int = 1)\n",
            " |  \n",
            " |  Methods defined here:\n",
            " |  \n",
            " |  __eq__(self, other)\n",
            " |      Return self==value.\n",
            " |  \n",
            " |  __init__(self, name: str, damage: float, weapon_type: __main__.WeaponType, level: int = 1) -> None\n",
            " |      Initialize self.  See help(type(self)) for accurate signature.\n",
            " |  \n",
            " |  __repr__(self)\n",
            " |      Return repr(self).\n",
            " |  \n",
            " |  level_up(self, levels: int)\n",
            " |  \n",
            " |  ----------------------------------------------------------------------\n",
            " |  Data descriptors defined here:\n",
            " |  \n",
            " |  __dict__\n",
            " |      dictionary for instance variables (if defined)\n",
            " |  \n",
            " |  __weakref__\n",
            " |      list of weak references to the object (if defined)\n",
            " |  \n",
            " |  ----------------------------------------------------------------------\n",
            " |  Data and other attributes defined here:\n",
            " |  \n",
            " |  __annotations__ = {'damage': <class 'float'>, 'level': <class 'int'>, ...\n",
            " |  \n",
            " |  __dataclass_fields__ = {'damage': Field(name='damage',type=<class 'flo...\n",
            " |  \n",
            " |  __dataclass_params__ = _DataclassParams(init=True,repr=True,eq=True,or...\n",
            " |  \n",
            " |  __hash__ = None\n",
            " |  \n",
            " |  __match_args__ = ('name', 'damage', 'weapon_type', 'level')\n",
            " |  \n",
            " |  level = 1\n",
            "\n"
          ]
        }
      ]
    },
    {
      "cell_type": "code",
      "source": [
        "from dataclasses import dataclass\n",
        "\n",
        "\n",
        "@dataclass(order=True)\n",
        "class ComicBookCharacter:\n",
        "    name: str\n",
        "    damage: float\n",
        "\n",
        "\n",
        "spiderman = ComicBookCharacter(\"SpiderMan\", 100.0)\n",
        "green_goblin = ComicBookCharacter(\"Green Goblin\", 80.0)\n",
        "\n",
        "print(f\"Spiderman < Green Goblin: {spiderman < green_goblin}\")\n",
        "# Spiderman < Green Goblin: False\n",
        "\n",
        "print((\"SpiderMan\", 100.0) < (\"Green Goblin\", 80.0))"
      ],
      "metadata": {
        "colab": {
          "base_uri": "https://localhost:8080/"
        },
        "id": "ats8TVpFW2Mp",
        "outputId": "ad50587e-e975-4ebd-a5e1-d6eca9a8cd67"
      },
      "execution_count": 6,
      "outputs": [
        {
          "output_type": "stream",
          "name": "stdout",
          "text": [
            "Spiderman < Green Goblin: False\n",
            "False\n"
          ]
        }
      ]
    },
    {
      "cell_type": "code",
      "source": [
        "fruits: list[str] = []\n",
        "\n",
        "\n",
        "def push(arr: list[str], item: str):\n",
        "    arr.append(item)\n",
        "\n",
        "\n",
        "push(fruits, \"Apple\")\n",
        "push(fruits, \"Banana\")\n",
        "push(fruits, \"Cherry\")\n",
        "\n",
        "print(fruits)"
      ],
      "metadata": {
        "colab": {
          "base_uri": "https://localhost:8080/"
        },
        "id": "Bid5QFR1W48c",
        "outputId": "b6360d04-1587-4917-8768-e41d76cd39a7"
      },
      "execution_count": 8,
      "outputs": [
        {
          "output_type": "stream",
          "name": "stdout",
          "text": [
            "['Apple', 'Banana', 'Cherry']\n"
          ]
        }
      ]
    },
    {
      "cell_type": "code",
      "source": [
        "from dataclasses import dataclass, field\n",
        "\n",
        "\n",
        "@dataclass\n",
        "class Bank:\n",
        "    # Immutable field with a default value\n",
        "    balance: float = field(default=100)\n",
        "\n",
        "    # Default value is a list with one element\n",
        "    credits_history: list[float] = field(default_factory=lambda: [100])\n",
        "\n",
        "    debits_history: list[float] = field(default_factory=list)\n",
        "\n",
        "\n",
        "bank_of_america = Bank()\n",
        "print(bank_of_america)"
      ],
      "metadata": {
        "colab": {
          "base_uri": "https://localhost:8080/"
        },
        "id": "gWEdLPORW6HR",
        "outputId": "6f938714-7a4a-4d80-b752-62c7ca395a31"
      },
      "execution_count": 10,
      "outputs": [
        {
          "output_type": "stream",
          "name": "stdout",
          "text": [
            "Bank(balance=100, credits_history=[100], debits_history=[])\n"
          ]
        }
      ]
    },
    {
      "cell_type": "code",
      "source": [
        "from dataclasses import dataclass, field\n",
        "from typing import ClassVar\n",
        "\n",
        "\n",
        "@dataclass\n",
        "class Bank:\n",
        "    num_of_banks: ClassVar[int] = 0\n",
        "\n",
        "    balance: float = field(default=100)\n",
        "    credits_history: list[float] = field(default_factory=lambda: [100])\n",
        "    debits_history: list[float] = field(default_factory=list)\n",
        "\n",
        "    def __post_init__(self):\n",
        "        Bank.num_of_banks += 1\n",
        "\n",
        "\n",
        "bank_of_america = Bank()\n",
        "print(bank_of_america)  # Bank(balance=100, credits_history=[100], debits_history=[])\n",
        "\n",
        "print(Bank.num_of_banks)  # 1\n",
        "\n",
        "chase = Bank()\n",
        "print(chase)  # Bank(balance=100, credits_history=[100], debits_history=[])\n",
        "\n",
        "print(Bank.num_of_banks)  # 2"
      ],
      "metadata": {
        "colab": {
          "base_uri": "https://localhost:8080/"
        },
        "id": "80Hvs333W88a",
        "outputId": "736f92e8-b6d9-4409-b44c-c6e218747d72"
      },
      "execution_count": 11,
      "outputs": [
        {
          "output_type": "stream",
          "name": "stdout",
          "text": [
            "Bank(balance=100, credits_history=[100], debits_history=[])\n",
            "1\n",
            "Bank(balance=100, credits_history=[100], debits_history=[])\n",
            "2\n"
          ]
        }
      ]
    },
    {
      "cell_type": "code",
      "source": [
        "from dataclasses import dataclass, field\n",
        "\n",
        "\n",
        "@dataclass\n",
        "class FinancialEntity:\n",
        "    name: str\n",
        "\n",
        "\n",
        "class FinancialOperationsMixin:\n",
        "    def credit(self, amount: float):\n",
        "        self.balance += amount\n",
        "        self.credits_history.append(amount)\n",
        "\n",
        "    def debit(self, amount: float):\n",
        "        self.balance -= amount\n",
        "        self.debits_history.append(amount)\n",
        "\n",
        "\n",
        "@dataclass\n",
        "class Bank(FinancialEntity, FinancialOperationsMixin):\n",
        "    balance: float = field(default=100)\n",
        "    credits_history: list[float] = field(default_factory=lambda: [100])\n",
        "    debits_history: list[float] = field(default_factory=list)\n",
        "\n",
        "\n",
        "bank_of_america = Bank(\"Bank of America\", 1000, [1000])\n",
        "print(bank_of_america)\n",
        "# Bank(name='Bank of America', balance=1000, credits_history=[1000], debits_history=[])\n",
        "\n",
        "\n",
        "bank_of_america.credit(500)\n",
        "bank_of_america.debit(200)\n",
        "print(bank_of_america)"
      ],
      "metadata": {
        "colab": {
          "base_uri": "https://localhost:8080/"
        },
        "id": "b6K7dNiVXACf",
        "outputId": "85cdbb8f-c237-4c1b-ba5e-bd316acfd9ef"
      },
      "execution_count": 12,
      "outputs": [
        {
          "output_type": "stream",
          "name": "stdout",
          "text": [
            "Bank(name='Bank of America', balance=1000, credits_history=[1000], debits_history=[])\n",
            "Bank(name='Bank of America', balance=1300, credits_history=[1000, 500], debits_history=[200])\n"
          ]
        }
      ]
    },
    {
      "cell_type": "code",
      "source": [
        "from dataclasses import dataclass, field, InitVar\n",
        "\n",
        "\n",
        "@dataclass\n",
        "class Bank:\n",
        "    balance: float = field(default=100)\n",
        "    credits_history: list[float] = field(default_factory=lambda: [100])\n",
        "    debits_history: list[float] = field(default_factory=list)\n",
        "    registration_fee: InitVar[float] = 0\n",
        "\n",
        "    def __post_init__(self, registration_fee):\n",
        "        self.balance -= registration_fee\n",
        "        self.debits_history.append(registration_fee)\n",
        "\n",
        "\n",
        "bank_of_america = Bank(registration_fee=99)\n",
        "print(bank_of_america)"
      ],
      "metadata": {
        "colab": {
          "base_uri": "https://localhost:8080/"
        },
        "id": "eXo9KCu_XBwY",
        "outputId": "5f179698-84bf-4950-b687-05b0e61b9ff9"
      },
      "execution_count": 13,
      "outputs": [
        {
          "output_type": "stream",
          "name": "stdout",
          "text": [
            "Bank(balance=1, credits_history=[100], debits_history=[99])\n"
          ]
        }
      ]
    }
  ]
}