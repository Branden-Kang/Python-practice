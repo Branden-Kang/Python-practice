{
  "nbformat": 4,
  "nbformat_minor": 0,
  "metadata": {
    "colab": {
      "provenance": [],
      "authorship_tag": "ABX9TyOxFGfmR6F9eAHLCVLwsrsd"
    },
    "kernelspec": {
      "name": "python3",
      "display_name": "Python 3"
    },
    "language_info": {
      "name": "python"
    }
  },
  "cells": [
    {
      "cell_type": "markdown",
      "source": [
        "[Reference](https://medium.com/@apps.merkurev/dataclasses-in-python-edca8c4b4242)"
      ],
      "metadata": {
        "id": "_akV0X-F1puh"
      }
    },
    {
      "cell_type": "code",
      "execution_count": 3,
      "metadata": {
        "colab": {
          "base_uri": "https://localhost:8080/"
        },
        "id": "D75gGmzC1d3_",
        "outputId": "fcba158b-e100-40f6-99ad-83e8969b471c"
      },
      "outputs": [
        {
          "output_type": "stream",
          "name": "stdout",
          "text": [
            "True\n",
            "Learning Python\n",
            "4.98\n",
            "<class '__main__.Book'>\n",
            "Book(title='Learning Python', author='Mark Lutz', isbn=1449355730, pub_date=datetime.date(2013, 7, 30), rating=4.98)\n"
          ]
        }
      ],
      "source": [
        "import datetime\n",
        "from collections import namedtuple\n",
        "\n",
        "field_names = 'title author isbn pub_date rating'\n",
        "Book = namedtuple('Book', field_names, defaults=[4.98])\n",
        "\n",
        "# Book is a subclass of tuple\n",
        "print(issubclass(Book, tuple))  # output: True\n",
        "\n",
        "book = Book(\n",
        "    title='Learning Python',\n",
        "    author='Mark Lutz',\n",
        "    isbn=1449355730,\n",
        "    pub_date=datetime.date(2013, 7, 30),\n",
        ")\n",
        "\n",
        "print(book.title)\n",
        "print(book.rating)\n",
        "print(type(book))\n",
        "print(book)"
      ]
    },
    {
      "cell_type": "code",
      "source": [
        "import datetime\n",
        "from typing import NamedTuple\n",
        "\n",
        "\n",
        "class Book(NamedTuple):\n",
        "    title: str\n",
        "    author: str\n",
        "    isbn: int\n",
        "    pub_date: datetime.datetime\n",
        "    rating: float = 4.98\n",
        "\n",
        "\n",
        "# Book is a subclass of tuple\n",
        "print(issubclass(Book, tuple))  # output: True\n",
        "\n",
        "book = Book(\n",
        "    title='Learning Python',\n",
        "    author='Mark Lutz',\n",
        "    isbn=1449355730,\n",
        "    pub_date=datetime.date(2013, 7, 30),\n",
        ")\n",
        "\n",
        "print(book.title)\n",
        "print(book.rating)\n",
        "print(type(book))\n",
        "print(book)"
      ],
      "metadata": {
        "colab": {
          "base_uri": "https://localhost:8080/"
        },
        "id": "Xei06dUr1yJN",
        "outputId": "04d303a3-aa9a-4331-df8e-7898fae51721"
      },
      "execution_count": 4,
      "outputs": [
        {
          "output_type": "stream",
          "name": "stdout",
          "text": [
            "True\n",
            "Learning Python\n",
            "4.98\n",
            "<class '__main__.Book'>\n",
            "Book(title='Learning Python', author='Mark Lutz', isbn=1449355730, pub_date=datetime.date(2013, 7, 30), rating=4.98)\n"
          ]
        }
      ]
    },
    {
      "cell_type": "code",
      "source": [
        "import datetime\n",
        "from dataclasses import dataclass\n",
        "\n",
        "\n",
        "@dataclass(frozen=True)\n",
        "class Book:\n",
        "    title: str\n",
        "    author: str\n",
        "    isbn: int\n",
        "    pub_date: datetime.datetime\n",
        "    rating: float = 4.98\n",
        "\n",
        "\n",
        "# Book is not a subclass of tuple\n",
        "print(issubclass(Book, tuple))  # output: False\n",
        "\n",
        "book = Book(\n",
        "    title='Learning Python',\n",
        "    author='Mark Lutz',\n",
        "    isbn=1449355730,\n",
        "    pub_date=datetime.date(2013, 7, 30),\n",
        ")\n",
        "\n",
        "print(book.title)\n",
        "print(book.rating)\n",
        "print(type(book))\n",
        "print(book)"
      ],
      "metadata": {
        "colab": {
          "base_uri": "https://localhost:8080/"
        },
        "id": "uCWgiu2Z10Qz",
        "outputId": "cef366bc-faa8-4674-a8bb-12014814a500"
      },
      "execution_count": 5,
      "outputs": [
        {
          "output_type": "stream",
          "name": "stdout",
          "text": [
            "False\n",
            "Learning Python\n",
            "4.98\n",
            "<class '__main__.Book'>\n",
            "Book(title='Learning Python', author='Mark Lutz', isbn=1449355730, pub_date=datetime.date(2013, 7, 30), rating=4.98)\n"
          ]
        }
      ]
    },
    {
      "cell_type": "code",
      "source": [
        "import datetime\n",
        "from attrs import define\n",
        "\n",
        "\n",
        "@define\n",
        "class Book:\n",
        "    title: str\n",
        "    author: str\n",
        "    isbn: int\n",
        "    pub_date: datetime.datetime\n",
        "    rating: float = 4.98\n",
        "\n",
        "\n",
        "# Book is not a subclass of tuple\n",
        "print(issubclass(Book, tuple))  # output: False\n",
        "\n",
        "book = Book(\n",
        "    title='Learning Python',\n",
        "    author='Mark Lutz',\n",
        "    isbn=1449355730,\n",
        "    pub_date=datetime.date(2013, 7, 30),\n",
        ")\n",
        "\n",
        "print(book.title)\n",
        "print(book.rating)\n",
        "print(type(book))\n",
        "print(book)"
      ],
      "metadata": {
        "colab": {
          "base_uri": "https://localhost:8080/"
        },
        "id": "552T1vGq138q",
        "outputId": "3eb4e281-d944-4ae8-feac-df8be2464be4"
      },
      "execution_count": 6,
      "outputs": [
        {
          "output_type": "stream",
          "name": "stdout",
          "text": [
            "False\n",
            "Learning Python\n",
            "4.98\n",
            "<class '__main__.Book'>\n",
            "Book(title='Learning Python', author='Mark Lutz', isbn=1449355730, pub_date=datetime.date(2013, 7, 30), rating=4.98)\n"
          ]
        }
      ]
    }
  ]
}