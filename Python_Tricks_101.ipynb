{
  "nbformat": 4,
  "nbformat_minor": 0,
  "metadata": {
    "colab": {
      "name": "Python Tricks 101.ipynb",
      "provenance": [],
      "authorship_tag": "ABX9TyOJv8XivVHV9A6uITEkM1V7"
    },
    "kernelspec": {
      "name": "python3",
      "display_name": "Python 3"
    },
    "language_info": {
      "name": "python"
    }
  },
  "cells": [
    {
      "cell_type": "markdown",
      "source": [
        "[Reference](https://medium.com/hackernoon/python-tricks-101-2836251922e0)"
      ],
      "metadata": {
        "id": "4EBJD4YkLIwn"
      }
    },
    {
      "cell_type": "markdown",
      "source": [
        "# Swapping values\n"
      ],
      "metadata": {
        "id": "0EjHEJFhLK_2"
      }
    },
    {
      "cell_type": "code",
      "execution_count": 1,
      "metadata": {
        "colab": {
          "base_uri": "https://localhost:8080/"
        },
        "id": "ZT6Gs-mMKV1B",
        "outputId": "7eb21926-21e4-48da-b090-4d1b75f914a0"
      },
      "outputs": [
        {
          "output_type": "stream",
          "name": "stdout",
          "text": [
            "5 10\n",
            "10 5\n"
          ]
        }
      ],
      "source": [
        "a, b = 5, 10\n",
        "print(a, b)\n",
        "a, b = b, a\n",
        "print(a, b)"
      ]
    },
    {
      "cell_type": "markdown",
      "source": [
        "# Create a single string from all the elements in list\n"
      ],
      "metadata": {
        "id": "kFbgqyaJLSGK"
      }
    },
    {
      "cell_type": "code",
      "source": [
        "a = [\"Python\", \"is\", \"awesome\" ]\n",
        "print(\" \".join(a))"
      ],
      "metadata": {
        "colab": {
          "base_uri": "https://localhost:8080/"
        },
        "id": "tF215sirLQzy",
        "outputId": "8beb98c9-5f14-47d3-963d-9abc85f6a5b6"
      },
      "execution_count": 3,
      "outputs": [
        {
          "output_type": "stream",
          "name": "stdout",
          "text": [
            "Python is awesome\n"
          ]
        }
      ]
    },
    {
      "cell_type": "markdown",
      "source": [
        "# Find The Most Frequent Value In A List.\n"
      ],
      "metadata": {
        "id": "iR3MTxqELdpT"
      }
    },
    {
      "cell_type": "code",
      "source": [
        "a = [1, 2, 3, 1, 2, 3, 2, 2, 4, 5, 1]\n",
        "print(max(set(a), key = a.count))\n",
        "from collections import Counter\n",
        "cnt = Counter(a)\n",
        "print(cnt.most_common(3))"
      ],
      "metadata": {
        "colab": {
          "base_uri": "https://localhost:8080/"
        },
        "id": "F_3rnWynLXy7",
        "outputId": "052fa574-f327-4947-9823-8d5b40c7a5d5"
      },
      "execution_count": 4,
      "outputs": [
        {
          "output_type": "stream",
          "name": "stdout",
          "text": [
            "2\n",
            "[(2, 4), (1, 3), (3, 2)]\n"
          ]
        }
      ]
    },
    {
      "cell_type": "markdown",
      "source": [
        "# Checking if two words are anagrams\n"
      ],
      "metadata": {
        "id": "IrncwGEsLl9o"
      }
    },
    {
      "cell_type": "code",
      "source": [
        "from collections import Counter\n",
        "str1 = 'hello'\n",
        "str2 = 'olleh'\n",
        "Counter(str1) == Counter(str2)"
      ],
      "metadata": {
        "colab": {
          "base_uri": "https://localhost:8080/"
        },
        "id": "veUPAV0lLkoy",
        "outputId": "6926d683-0072-462d-ed2e-c79310537f73"
      },
      "execution_count": 6,
      "outputs": [
        {
          "output_type": "execute_result",
          "data": {
            "text/plain": [
              "True"
            ]
          },
          "metadata": {},
          "execution_count": 6
        }
      ]
    },
    {
      "cell_type": "markdown",
      "source": [
        "# Reverse a String\n"
      ],
      "metadata": {
        "id": "XgUNA8EaLrWR"
      }
    },
    {
      "cell_type": "code",
      "source": [
        "a = \"abcdefghijklmnopqrstuvwxyz\"\n",
        "print(a[::-1])\n",
        "for char in reversed(a):\n",
        "    print(char)\n",
        "num = 123456789\n",
        "print(int(str(num)[::-1]))"
      ],
      "metadata": {
        "colab": {
          "base_uri": "https://localhost:8080/"
        },
        "id": "QxtI792pLqJM",
        "outputId": "c47273f8-0970-4fbd-b79a-6fe72f8e86b0"
      },
      "execution_count": 7,
      "outputs": [
        {
          "output_type": "stream",
          "name": "stdout",
          "text": [
            "zyxwvutsrqponmlkjihgfedcba\n",
            "z\n",
            "y\n",
            "x\n",
            "w\n",
            "v\n",
            "u\n",
            "t\n",
            "s\n",
            "r\n",
            "q\n",
            "p\n",
            "o\n",
            "n\n",
            "m\n",
            "l\n",
            "k\n",
            "j\n",
            "i\n",
            "h\n",
            "g\n",
            "f\n",
            "e\n",
            "d\n",
            "c\n",
            "b\n",
            "a\n",
            "987654321\n"
          ]
        }
      ]
    },
    {
      "cell_type": "markdown",
      "source": [
        "# Reverse a list\n"
      ],
      "metadata": {
        "id": "SyLJ6YGgL-_8"
      }
    },
    {
      "cell_type": "code",
      "source": [
        "a = [5, 4, 3, 2, 1]\n",
        "print(a[::-1])\n",
        "for ele in reversed(a):\n",
        "    print(ele)"
      ],
      "metadata": {
        "colab": {
          "base_uri": "https://localhost:8080/"
        },
        "id": "FVfL_VaqL890",
        "outputId": "996d6963-fde1-4b59-e1ad-5e975995b888"
      },
      "execution_count": 8,
      "outputs": [
        {
          "output_type": "stream",
          "name": "stdout",
          "text": [
            "[1, 2, 3, 4, 5]\n",
            "1\n",
            "2\n",
            "3\n",
            "4\n",
            "5\n"
          ]
        }
      ]
    },
    {
      "cell_type": "markdown",
      "source": [
        "# Transpose 2d array\n"
      ],
      "metadata": {
        "id": "cow_P2WMMGbL"
      }
    },
    {
      "cell_type": "code",
      "source": [
        "original = [['a','b'], ['c', 'd'], ['e', 'f']]\n",
        "transposed = zip(*original)\n",
        "print(list(transposed))"
      ],
      "metadata": {
        "colab": {
          "base_uri": "https://localhost:8080/"
        },
        "id": "ulRyNszYMFSR",
        "outputId": "98924bde-b11a-43f5-8f4a-1e89ea8b5cca"
      },
      "execution_count": 9,
      "outputs": [
        {
          "output_type": "stream",
          "name": "stdout",
          "text": [
            "[('a', 'c', 'e'), ('b', 'd', 'f')]\n"
          ]
        }
      ]
    },
    {
      "cell_type": "markdown",
      "source": [
        "# Chained Comparison\n"
      ],
      "metadata": {
        "id": "s81ZdYKJMQV4"
      }
    },
    {
      "cell_type": "code",
      "source": [
        "b=6\n",
        "print(4 < b < 7)\n",
        "print(1 == b < 20)"
      ],
      "metadata": {
        "colab": {
          "base_uri": "https://localhost:8080/"
        },
        "id": "0wkE_O-YMPT6",
        "outputId": "f95d2739-85cd-4958-a861-630d00ad881d"
      },
      "execution_count": 10,
      "outputs": [
        {
          "output_type": "stream",
          "name": "stdout",
          "text": [
            "True\n",
            "False\n"
          ]
        }
      ]
    },
    {
      "cell_type": "markdown",
      "source": [
        "# Chained function call"
      ],
      "metadata": {
        "id": "ohvHky_SMaFY"
      }
    },
    {
      "cell_type": "code",
      "source": [
        "def product(a, b):\n",
        "    return a * b\n",
        "    \n",
        "def add(a, b):\n",
        "    return a + b\n",
        "\n",
        "b = True\n",
        "print( (product if b else add) (5, 7))"
      ],
      "metadata": {
        "colab": {
          "base_uri": "https://localhost:8080/"
        },
        "id": "Ejz2bvANMV2q",
        "outputId": "5a6c70c6-6dcd-43fa-984a-15fe6acfeb75"
      },
      "execution_count": 11,
      "outputs": [
        {
          "output_type": "stream",
          "name": "stdout",
          "text": [
            "35\n"
          ]
        }
      ]
    },
    {
      "cell_type": "markdown",
      "source": [
        "# Copying List\n"
      ],
      "metadata": {
        "id": "VHp-6f9MMmUY"
      }
    },
    {
      "cell_type": "code",
      "source": [
        "a = [10, 2, 3, 4, 5]\n",
        "b = a\n",
        "b[0] = 10\n",
        "\n",
        "b = a[:]\n",
        "b[0] = 10\n",
        "\n",
        "a = [1, 2, 3, 4, 5]\n",
        "print(list(a))\n",
        "\n",
        "a = [1, 2, 3, 4, 5]\n",
        "print(a.copy())\n",
        "\n",
        "from copy import deepcopy\n",
        "l = [[1, 2], [3, 4]]\n",
        "l2 = deepcopy(l)\n",
        "print(l2)"
      ],
      "metadata": {
        "colab": {
          "base_uri": "https://localhost:8080/"
        },
        "id": "N33PWY7eMkvu",
        "outputId": "7f30b63b-5f8f-4e49-8f1a-7f04eb7c51d2"
      },
      "execution_count": 12,
      "outputs": [
        {
          "output_type": "stream",
          "name": "stdout",
          "text": [
            "[1, 2, 3, 4, 5]\n",
            "[1, 2, 3, 4, 5]\n",
            "[[1, 2], [3, 4]]\n"
          ]
        }
      ]
    },
    {
      "cell_type": "markdown",
      "source": [
        "# Dictionary Get\n"
      ],
      "metadata": {
        "id": "CFjRLz2tNCQ9"
      }
    },
    {
      "cell_type": "code",
      "source": [
        "d= {'a': 1,'b': 27}\n",
        "print(d.get('c', 3))"
      ],
      "metadata": {
        "colab": {
          "base_uri": "https://localhost:8080/"
        },
        "id": "CY1xfwD9NBXB",
        "outputId": "e8f93044-356c-4864-9134-49c8cc911ce2"
      },
      "execution_count": 13,
      "outputs": [
        {
          "output_type": "stream",
          "name": "stdout",
          "text": [
            "3\n"
          ]
        }
      ]
    },
    {
      "cell_type": "markdown",
      "source": [
        "# Sort Dictionary by Value\n"
      ],
      "metadata": {
        "id": "QGoJPcAKNLiJ"
      }
    },
    {
      "cell_type": "code",
      "source": [
        "d= {'apple': 10, 'orange': 20, 'banana': 5, 'rotten tomato': 1}\n",
        "print(sorted(d.items(), key=lambda x: x[1]))\n",
        "\n",
        "from operator import itemgetter\n",
        "print(sorted(d. items( ), key=itemgetter(1)))\n",
        "print(sorted(d, key=d.get))"
      ],
      "metadata": {
        "colab": {
          "base_uri": "https://localhost:8080/"
        },
        "id": "_EkZnnNQNKYS",
        "outputId": "4388afae-33b2-4752-dc62-ef18ebb34ae3"
      },
      "execution_count": 14,
      "outputs": [
        {
          "output_type": "stream",
          "name": "stdout",
          "text": [
            "[('rotten tomato', 1), ('banana', 5), ('apple', 10), ('orange', 20)]\n",
            "[('rotten tomato', 1), ('banana', 5), ('apple', 10), ('orange', 20)]\n",
            "['rotten tomato', 'banana', 'apple', 'orange']\n"
          ]
        }
      ]
    },
    {
      "cell_type": "markdown",
      "source": [
        "# For Else\n"
      ],
      "metadata": {
        "id": "OGz2XbQvNeK1"
      }
    },
    {
      "cell_type": "code",
      "source": [
        "a = [1, 2, 3, 4, 5]\n",
        "for el in a:\n",
        "    if el == 0:\n",
        "        break\n",
        "else:\n",
        "    print('did not break out of for loop')"
      ],
      "metadata": {
        "colab": {
          "base_uri": "https://localhost:8080/"
        },
        "id": "O8wQOkOuNbQB",
        "outputId": "3066a7e6-56c2-48c6-ec8e-971288a86b07"
      },
      "execution_count": 15,
      "outputs": [
        {
          "output_type": "stream",
          "name": "stdout",
          "text": [
            "did not break out of for loop\n"
          ]
        }
      ]
    },
    {
      "cell_type": "markdown",
      "source": [
        "# Convert list to comma separated\n"
      ],
      "metadata": {
        "id": "5e4jPHwKNk-L"
      }
    },
    {
      "cell_type": "code",
      "source": [
        "items = ['foo', 'bar', 'xyz']\n",
        "print (','.join(items))\n",
        "\n",
        "numbers = [2, 3, 5, 10]\n",
        "print (','.join(map(str, numbers)))\n",
        "\n",
        "data = [2,'hello', 3, 3.4]\n",
        "print(','.join(map(str, data)))"
      ],
      "metadata": {
        "colab": {
          "base_uri": "https://localhost:8080/"
        },
        "id": "vJQhn9p6Nj5E",
        "outputId": "3f7a26c1-a9ff-42fe-986a-46c87e87f732"
      },
      "execution_count": 16,
      "outputs": [
        {
          "output_type": "stream",
          "name": "stdout",
          "text": [
            "foo,bar,xyz\n",
            "2,3,5,10\n",
            "2,hello,3,3.4\n"
          ]
        }
      ]
    },
    {
      "cell_type": "markdown",
      "source": [
        "# Merge dict’s\n"
      ],
      "metadata": {
        "id": "9F5IxIfBNyVp"
      }
    },
    {
      "cell_type": "code",
      "source": [
        "d1 = {'a': 1}\n",
        "d2 = {'b': 2}\n",
        "print({**d1, **d2})\n",
        "print(dict(d1.items() | d2. items( )) )\n",
        "d1.update(d2)\n",
        "print(d1)"
      ],
      "metadata": {
        "colab": {
          "base_uri": "https://localhost:8080/"
        },
        "id": "oc2rZTlYNxS6",
        "outputId": "83636e6a-4fdd-417a-ee8a-844959af5810"
      },
      "execution_count": 17,
      "outputs": [
        {
          "output_type": "stream",
          "name": "stdout",
          "text": [
            "{'a': 1, 'b': 2}\n",
            "{'b': 2, 'a': 1}\n",
            "{'a': 1, 'b': 2}\n"
          ]
        }
      ]
    },
    {
      "cell_type": "markdown",
      "source": [
        "# Min and Max index in List\n"
      ],
      "metadata": {
        "id": "PWEamRL0N8N0"
      }
    },
    {
      "cell_type": "code",
      "source": [
        "lst = [40, 10, 20, 30]\n",
        "def minIndex(lst):\n",
        "    return min(range(len(lst)), key=lst.__getitem__)\n",
        "def maxIndex(lst):\n",
        "    return max(range(len(lst)), key=lst.__getitem__)\n",
        "print(minIndex(lst))\n",
        "print(maxIndex(lst))"
      ],
      "metadata": {
        "colab": {
          "base_uri": "https://localhost:8080/"
        },
        "id": "5tMSYO5tN7MB",
        "outputId": "8e1222c1-c86f-466e-c843-30a548da4155"
      },
      "execution_count": 20,
      "outputs": [
        {
          "output_type": "stream",
          "name": "stdout",
          "text": [
            "1\n",
            "0\n"
          ]
        }
      ]
    },
    {
      "cell_type": "markdown",
      "source": [
        "# Remove duplicates from a list\n"
      ],
      "metadata": {
        "id": "dLBl3E_aOPny"
      }
    },
    {
      "cell_type": "code",
      "source": [
        "items = [2, 2, 3, 3, 1]\n",
        "newitems2 = list(set(items) )\n",
        "print(newitems2)\n",
        "from collections import OrderedDict\n",
        "items = [\"foo\",\"bar\",\"bar\",\"foo\" ]\n",
        "print(list(OrderedDict.fromkeys(items).keys()))"
      ],
      "metadata": {
        "colab": {
          "base_uri": "https://localhost:8080/"
        },
        "id": "WbV1UhYHOGit",
        "outputId": "793abdf6-9c65-425d-db9c-bf4621a3b6fe"
      },
      "execution_count": 21,
      "outputs": [
        {
          "output_type": "stream",
          "name": "stdout",
          "text": [
            "[1, 2, 3]\n",
            "['foo', 'bar']\n"
          ]
        }
      ]
    }
  ]
}