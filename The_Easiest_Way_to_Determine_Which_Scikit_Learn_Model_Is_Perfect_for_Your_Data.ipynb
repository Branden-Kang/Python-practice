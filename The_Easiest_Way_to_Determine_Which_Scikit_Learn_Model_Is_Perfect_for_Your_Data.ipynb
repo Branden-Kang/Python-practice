{
  "nbformat": 4,
  "nbformat_minor": 0,
  "metadata": {
    "colab": {
      "provenance": [],
      "authorship_tag": "ABX9TyNBFJydzw4VubYiTvjjQutu"
    },
    "kernelspec": {
      "name": "python3",
      "display_name": "Python 3"
    },
    "language_info": {
      "name": "python"
    }
  },
  "cells": [
    {
      "cell_type": "markdown",
      "source": [
        "[Reference](https://medium.com/mlearning-ai/the-easiest-way-to-determine-which-scikit-learn-model-is-perfect-for-your-data-79a9b7f501ab)"
      ],
      "metadata": {
        "id": "DTGv8RYJEmrM"
      }
    },
    {
      "cell_type": "code",
      "execution_count": 1,
      "metadata": {
        "colab": {
          "base_uri": "https://localhost:8080/"
        },
        "id": "vO6V2ZJXBEI4",
        "outputId": "8907091a-4abe-422e-9769-fe92e97d1ccd"
      },
      "outputs": [
        {
          "output_type": "stream",
          "name": "stdout",
          "text": [
            "Collecting lazypredict\n",
            "  Downloading lazypredict-0.2.12-py2.py3-none-any.whl (12 kB)\n",
            "Requirement already satisfied: click in /usr/local/lib/python3.10/dist-packages (from lazypredict) (8.1.7)\n",
            "Requirement already satisfied: scikit-learn in /usr/local/lib/python3.10/dist-packages (from lazypredict) (1.2.2)\n",
            "Requirement already satisfied: pandas in /usr/local/lib/python3.10/dist-packages (from lazypredict) (1.5.3)\n",
            "Requirement already satisfied: tqdm in /usr/local/lib/python3.10/dist-packages (from lazypredict) (4.66.1)\n",
            "Requirement already satisfied: joblib in /usr/local/lib/python3.10/dist-packages (from lazypredict) (1.3.2)\n",
            "Requirement already satisfied: lightgbm in /usr/local/lib/python3.10/dist-packages (from lazypredict) (4.1.0)\n",
            "Requirement already satisfied: xgboost in /usr/local/lib/python3.10/dist-packages (from lazypredict) (2.0.3)\n",
            "Requirement already satisfied: numpy in /usr/local/lib/python3.10/dist-packages (from lightgbm->lazypredict) (1.23.5)\n",
            "Requirement already satisfied: scipy in /usr/local/lib/python3.10/dist-packages (from lightgbm->lazypredict) (1.11.4)\n",
            "Requirement already satisfied: python-dateutil>=2.8.1 in /usr/local/lib/python3.10/dist-packages (from pandas->lazypredict) (2.8.2)\n",
            "Requirement already satisfied: pytz>=2020.1 in /usr/local/lib/python3.10/dist-packages (from pandas->lazypredict) (2023.4)\n",
            "Requirement already satisfied: threadpoolctl>=2.0.0 in /usr/local/lib/python3.10/dist-packages (from scikit-learn->lazypredict) (3.2.0)\n",
            "Requirement already satisfied: six>=1.5 in /usr/local/lib/python3.10/dist-packages (from python-dateutil>=2.8.1->pandas->lazypredict) (1.16.0)\n",
            "Installing collected packages: lazypredict\n",
            "Successfully installed lazypredict-0.2.12\n"
          ]
        }
      ],
      "source": [
        "pip install lazypredict"
      ]
    },
    {
      "cell_type": "code",
      "source": [
        "# import all required libraries\n",
        "import pandas as pd\n",
        "import lazypredict\n",
        "\n",
        "# For regression problems\n",
        "from lazypredict.Supervised import LazyRegressor\n",
        "\n",
        "# For classification problems\n",
        "from lazypredict.Supervised import LazyClassifier\n",
        "\n",
        "\n",
        "df_train = pd.read_csv('california_housing_train.csv')\n",
        "df_test = pd.read_csv('california_housing_test.csv')\n",
        "\n",
        "X_train = df_train.drop(columns = 'median_house_value')\n",
        "X_test = df_test.drop(columns = 'median_house_value')\n",
        "\n",
        "y_train = df_train['median_house_value']\n",
        "y_test = df_test['median_house_value']\n",
        "\n",
        "# For classification tasks\n",
        "clf = LazyClassifier(verbose=0, ignore_warnings=True, predictions=True)\n",
        "models, predictions = clf.fit(X_train, X_test, y_train, y_test)\n",
        "\n",
        "# For regression tasks\n",
        "reg = LazyRegressor(verbose=0, ignore_warnings=True, predictions=True)\n",
        "models, predictions = reg.fit(X_train, X_test, y_train, y_test)"
      ],
      "metadata": {
        "id": "i8Jx0qDiEpAC"
      },
      "execution_count": 2,
      "outputs": []
    }
  ]
}