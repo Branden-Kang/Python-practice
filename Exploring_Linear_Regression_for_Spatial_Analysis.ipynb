{
  "nbformat": 4,
  "nbformat_minor": 0,
  "metadata": {
    "colab": {
      "provenance": [],
      "authorship_tag": "ABX9TyNe2lVAlZK+/ahiT97qA9NN"
    },
    "kernelspec": {
      "name": "python3",
      "display_name": "Python 3"
    },
    "language_info": {
      "name": "python"
    }
  },
  "cells": [
    {
      "cell_type": "markdown",
      "source": [
        "[Reference](https://pub.towardsai.net/exploring-linear-regression-for-spatial-analysis-16c2cf1409db)"
      ],
      "metadata": {
        "id": "W4LJxdGY5XjX"
      }
    },
    {
      "cell_type": "code",
      "execution_count": 1,
      "metadata": {
        "colab": {
          "base_uri": "https://localhost:8080/"
        },
        "id": "PWIkxVth4xem",
        "outputId": "38a24cf8-d441-43f8-ae11-1d1acbe58c06"
      },
      "outputs": [
        {
          "output_type": "stream",
          "name": "stdout",
          "text": [
            "Intercept: 1.7999999999999998\n",
            "Slope: 0.8000000000000002\n",
            "Predictions: [6.6 7.4]\n"
          ]
        }
      ],
      "source": [
        "# Import necessary libraries\n",
        "import numpy as np\n",
        "from sklearn.linear_model import LinearRegression\n",
        "\n",
        "# Sample data (replace with your own dataset)\n",
        "X = np.array([[1], [2], [3], [4], [5]])  # Independent variable\n",
        "y = np.array([2, 4, 5, 4, 6])             # Dependent variable\n",
        "\n",
        "# Create and fit the linear regression model\n",
        "model = LinearRegression()\n",
        "model.fit(X, y)\n",
        "\n",
        "# Print the coefficients\n",
        "print(\"Intercept:\", model.intercept_)\n",
        "print(\"Slope:\", model.coef_[0])\n",
        "\n",
        "# Predict using the trained model\n",
        "X_new = np.array([[6], [7]])  # New data for prediction\n",
        "predictions = model.predict(X_new)\n",
        "print(\"Predictions:\", predictions)"
      ]
    },
    {
      "cell_type": "markdown",
      "source": [
        "```\n",
        "// Define the region of interest (ROI)\n",
        "var roi = ee.Geometry.Point(-122.43, 37.75); // Example coordinates for San Francisco\n",
        "\n",
        "// Load satellite imagery (example: Landsat 8)\n",
        "var imageCollection = ee.ImageCollection('LANDSAT/LC08/C01/T1')\n",
        "                      .filterBounds(roi)\n",
        "                      .filterDate('2020-01-01', '2020-12-31');\n",
        "\n",
        "// Select bands of interest\n",
        "var bands = ['B2', 'B3', 'B4']; // Example: Blue, Green, Red bands\n",
        "\n",
        "// Create feature collection with sample points (replace with your own)\n",
        "var points = ee.FeatureCollection([\n",
        "  ee.Feature(ee.Geometry.Point(-122.44, 37.76), {'value': 10}),\n",
        "  ee.Feature(ee.Geometry.Point(-122.45, 37.74), {'value': 15}),\n",
        "  ee.Feature(ee.Geometry.Point(-122.42, 37.73), {'value': 20}),\n",
        "]);\n",
        "\n",
        "// Define independent and dependent variables\n",
        "var independent = ee.ImageCollection.fromImages(points.map(function(feature) {\n",
        "  return ee.Image.constant(1).addBands(imageCollection).reduceRegion({\n",
        "    reducer: ee.Reducer.mean(),\n",
        "    geometry: feature.geometry(),\n",
        "    scale: 30,\n",
        "  }).toImage().rename(bands).toFloat();\n",
        "}));\n",
        "\n",
        "var dependent = points.map(function(feature) {\n",
        "  return ee.Feature(null, feature.toDictionary().value);\n",
        "});\n",
        "\n",
        "// Perform linear regression\n",
        "var linearRegression = ee.Image(independent.iterate(function(image, result) {\n",
        "  var image = ee.Image(image);\n",
        "  var result = ee.Image(result);\n",
        "  var regression = image.select(bands).addBands(1).reduceRegion({\n",
        "    reducer: ee.Reducer.linearRegression(bands.length, 1),\n",
        "    geometry: roi,\n",
        "    scale: 30,\n",
        "  });\n",
        "  return ee.Image(result).addBands(regression);\n",
        "}, ee.Image().toFloat()));\n",
        "\n",
        "// Get coefficients\n",
        "var coefficients = linearRegression.select('.*_coefficients');\n",
        "\n",
        "// Print the coefficients\n",
        "print('Coefficients:', coefficients);\n",
        "\n",
        "// Display the result\n",
        "Map.centerObject(roi, 10);\n",
        "Map.addLayer(coefficients, {bands: '.*_coefficient'}, 'Regression Coefficients');\n",
        "```"
      ],
      "metadata": {
        "id": "qlK-Qcsx5gbN"
      }
    },
    {
      "cell_type": "markdown",
      "source": [
        "```\n",
        "# Load necessary libraries\n",
        "library(dplyr)  # For data manipulation\n",
        "library(ggplot2)  # For data visualization\n",
        "library(stats)  # For linear regression\n",
        "\n",
        "# Sample data (replace with your own dataset)\n",
        "# Example: Relationship between temperature and ice cream sales\n",
        "temperature <- c(14, 16, 20, 22, 26, 28)  # Independent variable (temperature in Celsius)\n",
        "ice_cream_sales <- c(150, 170, 200, 220, 250, 270)  # Dependent variable (sales in units)\n",
        "\n",
        "# Create a data frame\n",
        "data <- data.frame(temperature = temperature, ice_cream_sales = ice_cream_sales)\n",
        "\n",
        "# Perform linear regression\n",
        "model <- lm(ice_cream_sales ~ temperature, data = data)\n",
        "\n",
        "# Print the summary of the regression model\n",
        "summary(model)\n",
        "\n",
        "# Visualize the data and regression line\n",
        "ggplot(data, aes(x = temperature, y = ice_cream_sales)) +\n",
        "  geom_point() +  # Add scatter plot\n",
        "  geom_smooth(method = 'lm', se = FALSE) +  # Add linear regression line\n",
        "  labs(x = \"Temperature (Celsius)\", y = \"Ice Cream Sales (units)\", title = \"Linear Regression\")  # Add labels and title\n",
        "```"
      ],
      "metadata": {
        "id": "7m_EFKjn5jfx"
      }
    }
  ]
}