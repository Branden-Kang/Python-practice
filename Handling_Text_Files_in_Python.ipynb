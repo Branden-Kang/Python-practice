{
  "nbformat": 4,
  "nbformat_minor": 0,
  "metadata": {
    "colab": {
      "provenance": [],
      "authorship_tag": "ABX9TyN//v+dAZ2S1fc7n5AvcI9D"
    },
    "kernelspec": {
      "name": "python3",
      "display_name": "Python 3"
    },
    "language_info": {
      "name": "python"
    }
  },
  "cells": [
    {
      "cell_type": "markdown",
      "source": [
        "[Reference](https://medium.com/@ccpythonprogramming/handling-text-files-in-python-567b8a901811)"
      ],
      "metadata": {
        "id": "rU0SSclscNL-"
      }
    },
    {
      "cell_type": "markdown",
      "source": [
        "# Handling Files in Python"
      ],
      "metadata": {
        "id": "umEAJFdycmCq"
      }
    },
    {
      "cell_type": "markdown",
      "source": [
        "## Reading Files with read() and readline()"
      ],
      "metadata": {
        "id": "xj4agUf7cVBF"
      }
    },
    {
      "cell_type": "code",
      "execution_count": 2,
      "metadata": {
        "id": "1YnIi2uUcBJp"
      },
      "outputs": [],
      "source": [
        "with open(\"example.txt\", \"r\") as file:\n",
        "    content = file.read()\n",
        "    print(content)"
      ]
    },
    {
      "cell_type": "code",
      "source": [
        "with open(\"example.txt\", \"r\") as file:\n",
        "    line = file.readline()\n",
        "    print(line)"
      ],
      "metadata": {
        "id": "qAEkqvWFcSMP"
      },
      "execution_count": 3,
      "outputs": []
    },
    {
      "cell_type": "markdown",
      "source": [
        "## Writing to Files with write() and writelines()"
      ],
      "metadata": {
        "id": "UYgSvPIgcZAa"
      }
    },
    {
      "cell_type": "code",
      "source": [
        "with open(\"example.txt\", \"w\") as file:\n",
        "    file.write(\"Hello, Python!\")"
      ],
      "metadata": {
        "id": "y0eMdFmScW27"
      },
      "execution_count": 4,
      "outputs": []
    },
    {
      "cell_type": "code",
      "source": [
        "lines = [\"First line\\n\", \"Second line\\n\", \"Third line\\n\"]\n",
        "with open(\"example.txt\", \"w\") as file:\n",
        "    file.writelines(lines)"
      ],
      "metadata": {
        "id": "HSokLwh-caF8"
      },
      "execution_count": 5,
      "outputs": []
    },
    {
      "cell_type": "markdown",
      "source": [
        "## Difference Between 'w' and 'a'"
      ],
      "metadata": {
        "id": "dHe19YJ0ccD2"
      }
    },
    {
      "cell_type": "code",
      "source": [
        "with open(\"example.txt\", \"w\") as file:\n",
        "    file.write(\"This is a new start.\")"
      ],
      "metadata": {
        "id": "z3jmjLHmcbUK"
      },
      "execution_count": 6,
      "outputs": []
    },
    {
      "cell_type": "code",
      "source": [
        "with open(\"example.txt\", \"a\") as file:\n",
        "    file.write(\"\\nAdding more data.\")"
      ],
      "metadata": {
        "id": "sWKNtLbxcd_6"
      },
      "execution_count": 7,
      "outputs": []
    },
    {
      "cell_type": "markdown",
      "source": [
        "## Closing Files"
      ],
      "metadata": {
        "id": "j01qocjwchYz"
      }
    },
    {
      "cell_type": "code",
      "source": [
        "file = open(\"example.txt\", \"r\")\n",
        "content = file.read()\n",
        "file.close()"
      ],
      "metadata": {
        "id": "f22GpXUYcgVP"
      },
      "execution_count": 8,
      "outputs": []
    },
    {
      "cell_type": "markdown",
      "source": [
        "# Combining Modes"
      ],
      "metadata": {
        "id": "TkPVfArQcjBc"
      }
    },
    {
      "cell_type": "markdown",
      "source": [
        "## Binary Read ('rb')"
      ],
      "metadata": {
        "id": "ET8szPRvcqqo"
      }
    },
    {
      "cell_type": "code",
      "source": [
        "with open(\"image.png\", \"rb\") as file:\n",
        "    data = file.read()"
      ],
      "metadata": {
        "id": "SPleoXxwciXY"
      },
      "execution_count": 10,
      "outputs": []
    },
    {
      "cell_type": "code",
      "source": [
        "with open(\"example.txt\", \"r+\") as file:\n",
        "    file.write(\"Overwriting initial data.\")"
      ],
      "metadata": {
        "id": "BEFncQM9csFU"
      },
      "execution_count": 11,
      "outputs": []
    },
    {
      "cell_type": "markdown",
      "source": [
        "# Deleting Text Files in Python"
      ],
      "metadata": {
        "id": "RrTh9LjLcvPU"
      }
    },
    {
      "cell_type": "markdown",
      "source": [
        "## Using the os Module"
      ],
      "metadata": {
        "id": "FzBSGz2acyUG"
      }
    },
    {
      "cell_type": "code",
      "source": [
        "import os\n",
        "\n",
        "file_path = \"example.txt\"\n",
        "\n",
        "if os.path.exists(file_path):\n",
        "    os.remove(file_path)\n",
        "    print(f\"{file_path} has been deleted.\")\n",
        "else:\n",
        "    print(f\"{file_path} does not exist.\")"
      ],
      "metadata": {
        "colab": {
          "base_uri": "https://localhost:8080/"
        },
        "id": "GTSPzEvpcuBo",
        "outputId": "edd1260c-68dc-4b75-f2dd-9104b3912096"
      },
      "execution_count": 12,
      "outputs": [
        {
          "output_type": "stream",
          "name": "stdout",
          "text": [
            "example.txt has been deleted.\n"
          ]
        }
      ]
    },
    {
      "cell_type": "markdown",
      "source": [
        "## Using the pathlib Module"
      ],
      "metadata": {
        "id": "yW0FtkVBc4eN"
      }
    },
    {
      "cell_type": "code",
      "source": [
        "from pathlib import Path\n",
        "\n",
        "file_path = Path(\"example.txt\")\n",
        "\n",
        "if file_path.exists():\n",
        "    file_path.unlink()\n",
        "    print(f\"{file_path} has been deleted.\")\n",
        "else:\n",
        "    print(f\"{file_path} does not exist.\")"
      ],
      "metadata": {
        "colab": {
          "base_uri": "https://localhost:8080/"
        },
        "id": "CgUYjHLic3Hi",
        "outputId": "1d4df1f2-5ca9-4683-a0c9-3a060d3f1a24"
      },
      "execution_count": 13,
      "outputs": [
        {
          "output_type": "stream",
          "name": "stdout",
          "text": [
            "example.txt does not exist.\n"
          ]
        }
      ]
    },
    {
      "cell_type": "markdown",
      "source": [
        "# Moving Text Files in Python"
      ],
      "metadata": {
        "id": "U9w4pe90c9V8"
      }
    },
    {
      "cell_type": "markdown",
      "source": [
        "## Using shutil.move()"
      ],
      "metadata": {
        "id": "BXIP8zWPc-QY"
      }
    },
    {
      "cell_type": "code",
      "source": [
        "import shutil\n",
        "\n",
        "source = \"example.txt\"\n",
        "destination = \"new_folder/example.txt\"\n",
        "\n",
        "try:\n",
        "    shutil.move(source, destination)\n",
        "    print(f\"{source} has been moved to {destination}.\")\n",
        "except FileNotFoundError:\n",
        "    print(f\"The source file {source} does not exist.\")"
      ],
      "metadata": {
        "colab": {
          "base_uri": "https://localhost:8080/"
        },
        "id": "OILzIrxTc8Wf",
        "outputId": "b0b6d538-408f-4be5-9e08-6bb5dbac29cf"
      },
      "execution_count": 14,
      "outputs": [
        {
          "output_type": "stream",
          "name": "stdout",
          "text": [
            "The source file example.txt does not exist.\n"
          ]
        }
      ]
    },
    {
      "cell_type": "markdown",
      "source": [
        "# Renaming Text Files in Python"
      ],
      "metadata": {
        "id": "2RGEaBiQdA-t"
      }
    },
    {
      "cell_type": "markdown",
      "source": [
        "## Using the os.rename() Method"
      ],
      "metadata": {
        "id": "tcoHzZKhdB_c"
      }
    },
    {
      "cell_type": "code",
      "source": [
        "import os\n",
        "\n",
        "old_name = \"example.txt\"\n",
        "new_name = \"renamed_example.txt\"\n",
        "\n",
        "if os.path.exists(old_name):\n",
        "    os.rename(old_name, new_name)\n",
        "    print(f\"File renamed from {old_name} to {new_name}.\")\n",
        "else:\n",
        "    print(f\"{old_name} does not exist.\")"
      ],
      "metadata": {
        "colab": {
          "base_uri": "https://localhost:8080/"
        },
        "id": "gdhk0xszc_9G",
        "outputId": "397a52df-9cb0-4150-cdc8-dd7d93894a84"
      },
      "execution_count": 15,
      "outputs": [
        {
          "output_type": "stream",
          "name": "stdout",
          "text": [
            "example.txt does not exist.\n"
          ]
        }
      ]
    },
    {
      "cell_type": "markdown",
      "source": [
        "## Using the pathlib Module"
      ],
      "metadata": {
        "id": "-zMtpTo5dEPZ"
      }
    },
    {
      "cell_type": "code",
      "source": [
        "from pathlib import Path\n",
        "\n",
        "old_name = Path(\"example.txt\")\n",
        "new_name = old_name.with_name(\"renamed_example.txt\")\n",
        "\n",
        "if old_name.exists():\n",
        "    old_name.rename(new_name)\n",
        "    print(f\"File renamed to {new_name}.\")\n",
        "else:\n",
        "    print(f\"{old_name} does not exist.\")"
      ],
      "metadata": {
        "colab": {
          "base_uri": "https://localhost:8080/"
        },
        "id": "Ak28-hBedDRU",
        "outputId": "da607f1e-b40b-4b57-ae44-18f500f219cd"
      },
      "execution_count": 16,
      "outputs": [
        {
          "output_type": "stream",
          "name": "stdout",
          "text": [
            "example.txt does not exist.\n"
          ]
        }
      ]
    },
    {
      "cell_type": "markdown",
      "source": [
        "# Combining Operations: Moving and Renaming Simultaneously"
      ],
      "metadata": {
        "id": "psgDrqE5dG4O"
      }
    },
    {
      "cell_type": "code",
      "source": [
        "import shutil\n",
        "\n",
        "source = \"example.txt\"\n",
        "destination = \"new_folder/renamed_example.txt\"\n",
        "\n",
        "try:\n",
        "    shutil.move(source, destination)\n",
        "    print(f\"{source} has been moved and renamed to {destination}.\")\n",
        "except FileNotFoundError:\n",
        "    print(f\"The file {source} does not exist.\")"
      ],
      "metadata": {
        "colab": {
          "base_uri": "https://localhost:8080/"
        },
        "id": "ohyCpS4qdF7p",
        "outputId": "e545a7f2-5926-4987-c3d0-92234cd9708f"
      },
      "execution_count": 17,
      "outputs": [
        {
          "output_type": "stream",
          "name": "stdout",
          "text": [
            "The file example.txt does not exist.\n"
          ]
        }
      ]
    },
    {
      "cell_type": "markdown",
      "source": [
        "# Error Handling in File Management"
      ],
      "metadata": {
        "id": "aJGDbEYadJfa"
      }
    },
    {
      "cell_type": "code",
      "source": [
        "import os\n",
        "\n",
        "file_path = \"example.txt\"\n",
        "\n",
        "try:\n",
        "    os.remove(file_path)\n",
        "    print(f\"{file_path} has been deleted.\")\n",
        "except FileNotFoundError:\n",
        "    print(f\"{file_path} does not exist.\")\n",
        "except PermissionError:\n",
        "    print(f\"Permission denied to delete {file_path}.\")"
      ],
      "metadata": {
        "colab": {
          "base_uri": "https://localhost:8080/"
        },
        "id": "sM50OgF1dISi",
        "outputId": "04ddeec1-c6cd-48a7-e408-2d714256d710"
      },
      "execution_count": 18,
      "outputs": [
        {
          "output_type": "stream",
          "name": "stdout",
          "text": [
            "example.txt does not exist.\n"
          ]
        }
      ]
    }
  ]
}