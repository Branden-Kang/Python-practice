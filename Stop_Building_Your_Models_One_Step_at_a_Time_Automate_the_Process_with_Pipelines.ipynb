{
  "nbformat": 4,
  "nbformat_minor": 0,
  "metadata": {
    "colab": {
      "name": "Stop Building Your Models One Step at a Time. Automate the Process with Pipelines",
      "provenance": [],
      "authorship_tag": "ABX9TyNdsMrAw09MoOTXdy+4u/Ga"
    },
    "kernelspec": {
      "name": "python3",
      "display_name": "Python 3"
    },
    "language_info": {
      "name": "python"
    }
  },
  "cells": [
    {
      "cell_type": "markdown",
      "source": [
        "[Reference](https://towardsdatascience.com/using-pipelines-in-sci-kit-learn-516aa431dcc5)"
      ],
      "metadata": {
        "id": "fPcr-aP44r4Z"
      }
    },
    {
      "cell_type": "code",
      "execution_count": 5,
      "metadata": {
        "id": "ryxXYafM4Q1T"
      },
      "outputs": [],
      "source": [
        "from sklearn.pipeline import Pipeline\n",
        "from sklearn.compose import make_column_selector as selector\n",
        "from sklearn.compose import ColumnTransformer\n",
        "from sklearn. preprocessing import MinMaxScaler\n",
        "from sklearn. preprocessing import OneHotEncoder\n",
        "from sklearn.ensemble import RandomForestRegressor\n",
        "\n",
        "import numpy as np\n",
        "\n",
        "from sklearn.compose import ColumnTransformer\n",
        "from sklearn.datasets import fetch_openml\n",
        "from sklearn.pipeline import Pipeline\n",
        "from sklearn.impute import SimpleImputer\n",
        "from sklearn.preprocessing import StandardScaler, OneHotEncoder\n",
        "from sklearn.linear_model import LogisticRegression\n",
        "from sklearn.model_selection import train_test_split, GridSearchCV"
      ]
    },
    {
      "cell_type": "markdown",
      "source": [
        "# Column Transformers"
      ],
      "metadata": {
        "id": "BdiupOB35BYt"
      }
    },
    {
      "cell_type": "code",
      "source": [
        "def make_coltrans():\n",
        "    column_trans = ColumnTransformer(transformers=\n",
        "            [('num', MinMaxScaler(), selector(dtype_exclude=\"object\")),\n",
        "             ('cat', OneHotEncoder(dtype='int', handle_unknown='ignore'), ['CAT_FIELD_ONE', 'CAT_FIELD_TWO'])],\n",
        "            remainder='drop')\n",
        "\n",
        "    return column_trans"
      ],
      "metadata": {
        "id": "rIwa6EBh4qrw"
      },
      "execution_count": 3,
      "outputs": []
    },
    {
      "cell_type": "markdown",
      "source": [
        "# The Pipeline"
      ],
      "metadata": {
        "id": "wn6GN5gE5ANM"
      }
    },
    {
      "cell_type": "code",
      "source": [
        "def create_pipe(clf):\n",
        "    '''Create a pipeline for a given classifier.  \n",
        "       The classifier needs to be an instance\n",
        "       of the classifier with all parameters needed specified.'''\n",
        "\n",
        "    # Each pipeline uses the same column transformer.  \n",
        "    column_trans = make_coltrans()\n",
        "\n",
        "    pipeline = Pipeline([('prep',column_trans),\n",
        "                         ('clf', clf)])\n",
        "\n",
        "    return pipeline"
      ],
      "metadata": {
        "id": "Cdh0_4dg47R9"
      },
      "execution_count": 4,
      "outputs": []
    },
    {
      "cell_type": "markdown",
      "source": [
        "# Creating and Fitting the Model"
      ],
      "metadata": {
        "id": "c29ggnoI4_Bd"
      }
    },
    {
      "cell_type": "code",
      "source": [
        "np.random.seed(0)\n",
        "\n",
        "# Load data from https://www.openml.org/d/40945\n",
        "X, y = fetch_openml(\"titanic\", version=1, as_frame=True, return_X_y=True)\n",
        "\n",
        "# Alternatively X and y can be obtained directly from the frame attribute:\n",
        "# X = titanic.frame.drop('survived', axis=1)\n",
        "# y = titanic.frame['survived']\n",
        "\n",
        "numeric_features = [\"age\", \"fare\"]\n",
        "numeric_transformer = Pipeline(\n",
        "    steps=[(\"imputer\", SimpleImputer(strategy=\"median\")), (\"scaler\", StandardScaler())]\n",
        ")\n",
        "\n",
        "categorical_features = [\"embarked\", \"sex\", \"pclass\"]\n",
        "categorical_transformer = OneHotEncoder(handle_unknown=\"ignore\")\n",
        "\n",
        "preprocessor = ColumnTransformer(\n",
        "    transformers=[\n",
        "        (\"num\", numeric_transformer, numeric_features),\n",
        "        (\"cat\", categorical_transformer, categorical_features),\n",
        "    ]\n",
        ")\n",
        "\n",
        "# Append classifier to preprocessing pipeline.\n",
        "# Now we have a full prediction pipeline.\n",
        "clf = Pipeline(\n",
        "    steps=[(\"preprocessor\", preprocessor), (\"classifier\", LogisticRegression())]\n",
        ")\n",
        "\n",
        "X_train, X_test, y_train, y_test = train_test_split(X, y, test_size=0.2, random_state=0)\n",
        "\n",
        "clf.fit(X_train, y_train)\n",
        "print(\"model score: %.3f\" % clf.score(X_test, y_test))\n"
      ],
      "metadata": {
        "colab": {
          "base_uri": "https://localhost:8080/"
        },
        "id": "KbvqD6Ji508y",
        "outputId": "530860af-909c-4745-f1f4-547e93803a45"
      },
      "execution_count": 6,
      "outputs": [
        {
          "output_type": "stream",
          "name": "stdout",
          "text": [
            "model score: 0.790\n"
          ]
        }
      ]
    },
    {
      "cell_type": "code",
      "source": [
        "from sklearn.ensemble import RandomForestClassifier\n",
        "\n",
        "# Create the classifier instance and build the pipeline.\n",
        "clf = RandomForestClassifier(random_state=42, class_weight='balanced')\n",
        "pipeline = create_pipe(clf)\n",
        "\n",
        "# Fit the model to the training data\n",
        "pipeline.fit(X_train, y_train)"
      ],
      "metadata": {
        "id": "oPal7Rky49CO"
      },
      "execution_count": 8,
      "outputs": []
    }
  ]
}