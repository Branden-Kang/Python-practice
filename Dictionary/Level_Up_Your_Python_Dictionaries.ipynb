{
  "nbformat": 4,
  "nbformat_minor": 0,
  "metadata": {
    "colab": {
      "name": "Level Up Your Python Dictionaries.ipynb",
      "provenance": [],
      "authorship_tag": "ABX9TyPEsFJlWZV25Nf8HwOJ5OYh"
    },
    "kernelspec": {
      "name": "python3",
      "display_name": "Python 3"
    }
  },
  "cells": [
    {
      "cell_type": "markdown",
      "metadata": {
        "id": "y7oFs60RTB7B"
      },
      "source": [
        "[Reference](https://py.plainenglish.io/level-up-your-python-dictionaries-34c6370df25a)"
      ]
    },
    {
      "cell_type": "code",
      "metadata": {
        "colab": {
          "base_uri": "https://localhost:8080/"
        },
        "id": "40hENyMSTAwa",
        "outputId": "632ddd4b-d978-47f9-85d2-18a7f2e9784a"
      },
      "source": [
        "d = {\"One\": [1,2,3], \"Two\": [4,5,6]}\n",
        "d"
      ],
      "execution_count": 3,
      "outputs": [
        {
          "output_type": "execute_result",
          "data": {
            "text/plain": [
              "{'One': [1, 2, 3], 'Two': [4, 5, 6]}"
            ]
          },
          "metadata": {
            "tags": []
          },
          "execution_count": 3
        }
      ]
    },
    {
      "cell_type": "code",
      "metadata": {
        "colab": {
          "base_uri": "https://localhost:8080/"
        },
        "id": "JtcA7ogCTokY",
        "outputId": "8588934d-6288-4419-fb46-48d8a2c9fc00"
      },
      "source": [
        "w = {x: x**2 for x in range(10, 20)}\n",
        "print(w)"
      ],
      "execution_count": 5,
      "outputs": [
        {
          "output_type": "stream",
          "text": [
            "{10: 100, 11: 121, 12: 144, 13: 169, 14: 196, 15: 225, 16: 256, 17: 289, 18: 324, 19: 361}\n"
          ],
          "name": "stdout"
        }
      ]
    },
    {
      "cell_type": "code",
      "metadata": {
        "colab": {
          "base_uri": "https://localhost:8080/",
          "height": 130
        },
        "id": "k5bOexTITuW5",
        "outputId": "5ef440af-4706-4a7e-a90b-cb8dea8d9253"
      },
      "source": [
        "x = x ** 2 for x in range(10,20)\n",
        "x"
      ],
      "execution_count": 6,
      "outputs": [
        {
          "output_type": "error",
          "ename": "SyntaxError",
          "evalue": "ignored",
          "traceback": [
            "\u001b[0;36m  File \u001b[0;32m\"<ipython-input-6-016f9f2b7917>\"\u001b[0;36m, line \u001b[0;32m1\u001b[0m\n\u001b[0;31m    x = x ** 2 for x in range(10,20)\u001b[0m\n\u001b[0m                 ^\u001b[0m\n\u001b[0;31mSyntaxError\u001b[0m\u001b[0;31m:\u001b[0m invalid syntax\n"
          ]
        }
      ]
    },
    {
      "cell_type": "code",
      "metadata": {
        "colab": {
          "base_uri": "https://localhost:8080/"
        },
        "id": "PCt9Ie9rT2IQ",
        "outputId": "58c751ab-bb2e-41f3-cd61-16111b2af86f"
      },
      "source": [
        "sales = { 'apple': 2, 'orange': 3, 'grapes': 4 }\n",
        "print(sales.values())"
      ],
      "execution_count": 7,
      "outputs": [
        {
          "output_type": "stream",
          "text": [
            "dict_values([2, 3, 4])\n"
          ],
          "name": "stdout"
        }
      ]
    },
    {
      "cell_type": "code",
      "metadata": {
        "colab": {
          "base_uri": "https://localhost:8080/"
        },
        "id": "TU_DNCEOT21t",
        "outputId": "fc4b2a5b-e006-4d74-f7b6-304dd21fbaa3"
      },
      "source": [
        "a = {\"a\":1, \"b\":1}\n",
        "b = {\"b\":2, \"c\":1}\n",
        "a.update(b)\n",
        "a"
      ],
      "execution_count": 8,
      "outputs": [
        {
          "output_type": "execute_result",
          "data": {
            "text/plain": [
              "{'a': 1, 'b': 2, 'c': 1}"
            ]
          },
          "metadata": {
            "tags": []
          },
          "execution_count": 8
        }
      ]
    }
  ]
}