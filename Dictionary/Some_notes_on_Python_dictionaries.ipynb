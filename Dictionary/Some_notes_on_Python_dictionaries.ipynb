{
  "nbformat": 4,
  "nbformat_minor": 0,
  "metadata": {
    "colab": {
      "name": "Some notes on Python dictionaries.ipynb",
      "provenance": [],
      "authorship_tag": "ABX9TyOKcKhva/ta3qI8mR32PlnP"
    },
    "kernelspec": {
      "name": "python3",
      "display_name": "Python 3"
    },
    "language_info": {
      "name": "python"
    }
  },
  "cells": [
    {
      "cell_type": "markdown",
      "metadata": {
        "id": "LEEG1kxY8iM3"
      },
      "source": [
        "[Reference](https://medium.com/analytics-vidhya/some-notes-on-python-dictionaries-b4a0c1f21473)"
      ]
    },
    {
      "cell_type": "code",
      "metadata": {
        "colab": {
          "base_uri": "https://localhost:8080/"
        },
        "id": "yp9s1lfg8gV_",
        "outputId": "719d3b87-0667-410d-c683-7bb4b896f0cc"
      },
      "source": [
        "#a list containing some items\n",
        "my_list = ['a','a','b','b','b','c']\n",
        "\n",
        "#initialise an empty dict\n",
        "freq_dict = {}\n",
        "\n",
        "#iterate through the list\n",
        "for item in my_list:\n",
        "    #if item not present, create new key and set it's (default) value to 1, \n",
        "    #since we have seen only 1 occurance till now\n",
        "    if item not in freq_dict:\n",
        "        freq_dict[item]=1\n",
        "    else:\n",
        "        #increment the count of the item by 1\n",
        "        freq_dict[item]+=1\n",
        "\n",
        "#print results\n",
        "print(freq_dict)"
      ],
      "execution_count": 1,
      "outputs": [
        {
          "output_type": "stream",
          "text": [
            "{'a': 2, 'b': 3, 'c': 1}\n"
          ],
          "name": "stdout"
        }
      ]
    },
    {
      "cell_type": "code",
      "metadata": {
        "colab": {
          "base_uri": "https://localhost:8080/"
        },
        "id": "-p4ChdhK8pwE",
        "outputId": "23abd6f5-d72d-4be5-e92f-d58c1aff5b20"
      },
      "source": [
        "#a list containing some items\n",
        "my_list = ['a','a','b','b','b','c']\n",
        "\n",
        "#initialise an empty dict\n",
        "freq_dict = {}\n",
        "\n",
        "#iterate through the list\n",
        "for item in my_list:\n",
        "    freq_dict.setdefault(item,0)\n",
        "    freq_dict[item]+=1\n",
        "\n",
        "#print results\n",
        "print(freq_dict)"
      ],
      "execution_count": 2,
      "outputs": [
        {
          "output_type": "stream",
          "text": [
            "{'a': 2, 'b': 3, 'c': 1}\n"
          ],
          "name": "stdout"
        }
      ]
    },
    {
      "cell_type": "code",
      "metadata": {
        "colab": {
          "base_uri": "https://localhost:8080/"
        },
        "id": "gHdoStrq8tXk",
        "outputId": "fefe07db-43c7-41e6-cc5d-1e34baea05c1"
      },
      "source": [
        "#initialise a list of the first n=10 integers numbers\n",
        "num_list = [num for num in range(10)]\n",
        "\n",
        "#initialise an empty list\n",
        "buckets = {}\n",
        "\n",
        "for num in num_list:\n",
        "    bucket = buckets.setdefault(num%2,[])\n",
        "    bucket.append(num)\n",
        "\n",
        "print(f'Odd Numbers:  {buckets[1]}')\n",
        "print(f'Even Numbers: {buckets[0]}')"
      ],
      "execution_count": 3,
      "outputs": [
        {
          "output_type": "stream",
          "text": [
            "Odd Numbers:  [1, 3, 5, 7, 9]\n",
            "Even Numbers: [0, 2, 4, 6, 8]\n"
          ],
          "name": "stdout"
        }
      ]
    },
    {
      "cell_type": "code",
      "metadata": {
        "id": "zjuKhY_r8vzo"
      },
      "source": [
        "num_list = [num for num in range(10)]\n",
        "\n",
        "#initialise an empty list\n",
        "buckets = {}\n",
        "\n",
        "for num in num_list:\n",
        "    #this is rather ugly\n",
        "    #also, mod is an expensive operator\n",
        "    bucket = buckets.get(num%2,[])\n",
        "    bucket.append(num)\n",
        "    buckets[num%2]=bucket"
      ],
      "execution_count": 4,
      "outputs": []
    },
    {
      "cell_type": "code",
      "metadata": {
        "colab": {
          "base_uri": "https://localhost:8080/"
        },
        "id": "kBq65BEk8x7u",
        "outputId": "4b05679a-86d0-490b-9dc1-939cab81bf9a"
      },
      "source": [
        "num_list = [num for num in range(10)]\n",
        "\n",
        "buckets = {}\n",
        "\n",
        "for num in num_list:\n",
        "    if num%2 not in buckets:\n",
        "        buckets[num%2] = []    \n",
        "    buckets[num%2].append(num)\n",
        "\n",
        "print(f'Odd Numbers:  {buckets[1]}')\n",
        "print(f'Even Numbers: {buckets[0]}')"
      ],
      "execution_count": 5,
      "outputs": [
        {
          "output_type": "stream",
          "text": [
            "Odd Numbers:  [1, 3, 5, 7, 9]\n",
            "Even Numbers: [0, 2, 4, 6, 8]\n"
          ],
          "name": "stdout"
        }
      ]
    },
    {
      "cell_type": "code",
      "metadata": {
        "colab": {
          "base_uri": "https://localhost:8080/"
        },
        "id": "jdae0MhL8zUT",
        "outputId": "1f7de12e-2e25-4032-f45a-5de71e8cddae"
      },
      "source": [
        "#a list containing some items\n",
        "from collections import Counter\n",
        "my_list = ['a','a','b','b','b','c']\n",
        "\n",
        "#initialise an empty dict\n",
        "freq_dict = Counter(my_list)\n",
        "\n",
        "#print results\n",
        "print('Frequency: ', freq_dict)\n",
        "print('Most Common:', freq_dict.most_common(2))"
      ],
      "execution_count": 6,
      "outputs": [
        {
          "output_type": "stream",
          "text": [
            "Frequency:  Counter({'b': 3, 'a': 2, 'c': 1})\n",
            "Most Common: [('b', 3), ('a', 2)]\n"
          ],
          "name": "stdout"
        }
      ]
    },
    {
      "cell_type": "code",
      "metadata": {
        "colab": {
          "base_uri": "https://localhost:8080/"
        },
        "id": "7n7C7tY4807c",
        "outputId": "a3491de6-79fc-4192-9d19-b4b9d67c6a0f"
      },
      "source": [
        "# `dict` containing the numbers from 0 to 5 and their squares.\n",
        "{ x: x ** 2 for x in range(5)}\n",
        "# {0: 0, 1: 1, 2: 4, 3: 9, 4: 16}\n",
        "\n",
        "\n",
        "# maps countries to their capitals.\n",
        "DATA = [\n",
        "    ('India','New Delhi'),\n",
        "    ('Iceland', 'Reykjavik'),\n",
        "    ('China','Beijing'),\n",
        "    ('Japan', 'Tokyo'),\n",
        "    ('UK','London'),\n",
        "]\n",
        "\n",
        "country_capitals = { country:capital for country,capital in DATA }\n",
        "print(f'Capital of India: {country_capitals[\"India\"]}')\n",
        "# Capital of India: New Delhi\n",
        "\n",
        "\n",
        "#restraining the dict to only countries that starts with 'I'\n",
        "country_startswith_i = { country:capital for country,capital in DATA if country.startswith('I') }\n",
        "print(country_startswith_i)"
      ],
      "execution_count": 7,
      "outputs": [
        {
          "output_type": "stream",
          "text": [
            "Capital of India: New Delhi\n",
            "{'India': 'New Delhi', 'Iceland': 'Reykjavik'}\n"
          ],
          "name": "stdout"
        }
      ]
    },
    {
      "cell_type": "code",
      "metadata": {
        "colab": {
          "base_uri": "https://localhost:8080/"
        },
        "id": "LWne0aLM9Anp",
        "outputId": "3f0c7358-0b1c-414f-c7f5-aefea4946247"
      },
      "source": [
        "class Node:\n",
        "    \"\"\"Implements a LinkedList node\"\"\"\n",
        "    def __init__(self, val=0, next_node=None):\n",
        "        self.val = val\n",
        "        self.next_node = next_node\n",
        "\n",
        "a = Node(1)\n",
        "b = Node(2)\n",
        "\n",
        "#dict with Node object as keys\n",
        "node_dict = {a:'node_a', b:'node_b'}\n",
        "print(node_dict)"
      ],
      "execution_count": 8,
      "outputs": [
        {
          "output_type": "stream",
          "text": [
            "{<__main__.Node object at 0x7f04bc9c7b10>: 'node_a', <__main__.Node object at 0x7f04bc9c79d0>: 'node_b'}\n"
          ],
          "name": "stdout"
        }
      ]
    },
    {
      "cell_type": "code",
      "metadata": {
        "colab": {
          "base_uri": "https://localhost:8080/"
        },
        "id": "fL-5Ccph9FfP",
        "outputId": "b8fb6c16-9004-400f-c997-634a857e5a98"
      },
      "source": [
        "#do\n",
        "items = [1,1,1,2,2,3,3]\n",
        "uniq_items = set(items)\n",
        "print(uniq_items)\n",
        "# {1, 2, 3}\n",
        "\n",
        "#don't\n",
        "{item:0 for item in items}.keys()"
      ],
      "execution_count": 9,
      "outputs": [
        {
          "output_type": "stream",
          "text": [
            "{1, 2, 3}\n"
          ],
          "name": "stdout"
        },
        {
          "output_type": "execute_result",
          "data": {
            "text/plain": [
              "dict_keys([1, 2, 3])"
            ]
          },
          "metadata": {
            "tags": []
          },
          "execution_count": 9
        }
      ]
    }
  ]
}