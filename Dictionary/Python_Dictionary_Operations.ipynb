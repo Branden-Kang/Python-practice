{
  "nbformat": 4,
  "nbformat_minor": 0,
  "metadata": {
    "colab": {
      "name": "Python Dictionary Operations.ipynb",
      "provenance": [],
      "authorship_tag": "ABX9TyNiaKB+g/qm3dLtnSQeVX1M"
    },
    "kernelspec": {
      "name": "python3",
      "display_name": "Python 3"
    }
  },
  "cells": [
    {
      "cell_type": "markdown",
      "metadata": {
        "id": "-dx9hBgxgo1n"
      },
      "source": [
        "[Reference](https://medium.com/dev-genius/python-dictionary-operations-68e19b08ea30)"
      ]
    },
    {
      "cell_type": "code",
      "metadata": {
        "id": "tMNZU40Wgcgm"
      },
      "source": [
        "x = {1: \"one\", 2: \"two\", 3: \"three\"}\n",
        "y = {'first': 1, (\"Python\", \"Year\"): (\"Love\", 1991)}"
      ],
      "execution_count": 1,
      "outputs": []
    },
    {
      "cell_type": "code",
      "metadata": {
        "id": "BUnCcPA1grtO",
        "outputId": "a21d6e69-a701-4b8e-e9b9-60f755415f1b",
        "colab": {
          "base_uri": "https://localhost:8080/"
        }
      },
      "source": [
        "x"
      ],
      "execution_count": 2,
      "outputs": [
        {
          "output_type": "execute_result",
          "data": {
            "text/plain": [
              "{1: 'one', 2: 'two', 3: 'three'}"
            ]
          },
          "metadata": {
            "tags": []
          },
          "execution_count": 2
        }
      ]
    },
    {
      "cell_type": "code",
      "metadata": {
        "id": "vjLrx8u3gr3y",
        "outputId": "1be851a0-09ff-43f7-9536-7210009ce2fd",
        "colab": {
          "base_uri": "https://localhost:8080/"
        }
      },
      "source": [
        "y"
      ],
      "execution_count": 3,
      "outputs": [
        {
          "output_type": "execute_result",
          "data": {
            "text/plain": [
              "{('Python', 'Year'): ('Love', 1991), 'first': 1}"
            ]
          },
          "metadata": {
            "tags": []
          },
          "execution_count": 3
        }
      ]
    },
    {
      "cell_type": "code",
      "metadata": {
        "id": "6icsEE36gsLz"
      },
      "source": [
        "y = {}\n",
        "x = {1: \"one\", 2: \"two\", 3: \"three\"}"
      ],
      "execution_count": 4,
      "outputs": []
    },
    {
      "cell_type": "code",
      "metadata": {
        "id": "ixpqnZa1gt4K",
        "outputId": "daec02ab-1045-4a9d-a653-a7c5420af523",
        "colab": {
          "base_uri": "https://localhost:8080/"
        }
      },
      "source": [
        "y = {}\n",
        "y['one'] = 1\n",
        "y['two'] = 2\n",
        "print(y)"
      ],
      "execution_count": 5,
      "outputs": [
        {
          "output_type": "stream",
          "text": [
            "{'one': 1, 'two': 2}\n"
          ],
          "name": "stdout"
        }
      ]
    },
    {
      "cell_type": "code",
      "metadata": {
        "id": "y5uStXb3gxFS",
        "outputId": "2b2c9e3d-790a-49d6-d50d-a3c3984cf5a0",
        "colab": {
          "base_uri": "https://localhost:8080/"
        }
      },
      "source": [
        "y['two'] = 'dos'\n",
        "print(y)"
      ],
      "execution_count": 6,
      "outputs": [
        {
          "output_type": "stream",
          "text": [
            "{'one': 1, 'two': 'dos'}\n"
          ],
          "name": "stdout"
        }
      ]
    },
    {
      "cell_type": "code",
      "metadata": {
        "id": "5Qz7GtDpgyXn",
        "outputId": "b843a9cb-b43e-4751-a778-8ab5d7338db0",
        "colab": {
          "base_uri": "https://localhost:8080/"
        }
      },
      "source": [
        "y = {'one': 1, 'two': 2}\n",
        "print(y)"
      ],
      "execution_count": 7,
      "outputs": [
        {
          "output_type": "stream",
          "text": [
            "{'one': 1, 'two': 2}\n"
          ],
          "name": "stdout"
        }
      ]
    },
    {
      "cell_type": "code",
      "metadata": {
        "id": "ooNXkivpg0h8"
      },
      "source": [
        "del y['two']"
      ],
      "execution_count": 8,
      "outputs": []
    },
    {
      "cell_type": "code",
      "metadata": {
        "id": "TqgQzCUAg1Wv",
        "outputId": "1df0cd74-d6d7-40cb-8a37-72bb40212f44",
        "colab": {
          "base_uri": "https://localhost:8080/"
        }
      },
      "source": [
        "print(y)"
      ],
      "execution_count": 9,
      "outputs": [
        {
          "output_type": "stream",
          "text": [
            "{'one': 1}\n"
          ],
          "name": "stdout"
        }
      ]
    },
    {
      "cell_type": "code",
      "metadata": {
        "id": "wuP0e87Ag2G7",
        "outputId": "6dc97faf-e84b-4cf0-8a01-b57fd8e35f48",
        "colab": {
          "base_uri": "https://localhost:8080/"
        }
      },
      "source": [
        "x = {'one': 0, 'two': 2}\n",
        "y = {'one': 1, 'three': 3}\n",
        "x.update(y)\n",
        "print(x)"
      ],
      "execution_count": 10,
      "outputs": [
        {
          "output_type": "stream",
          "text": [
            "{'one': 1, 'two': 2, 'three': 3}\n"
          ],
          "name": "stdout"
        }
      ]
    },
    {
      "cell_type": "code",
      "metadata": {
        "id": "G1vYtGNVg4R_",
        "outputId": "15667150-5cca-4599-9b15-8205e44c5f09",
        "colab": {
          "base_uri": "https://localhost:8080/"
        }
      },
      "source": [
        "x = {'one': 0, 'two': 2}\n",
        "print(len(x))"
      ],
      "execution_count": 11,
      "outputs": [
        {
          "output_type": "stream",
          "text": [
            "2\n"
          ],
          "name": "stdout"
        }
      ]
    },
    {
      "cell_type": "code",
      "metadata": {
        "id": "5rtluUcgg50C",
        "outputId": "3b10b509-65db-4517-fe35-b913fdda25cb",
        "colab": {
          "base_uri": "https://localhost:8080/"
        }
      },
      "source": [
        "x = {'one': 1, 'two': 2}\n",
        "print(x.keys())"
      ],
      "execution_count": 12,
      "outputs": [
        {
          "output_type": "stream",
          "text": [
            "dict_keys(['one', 'two'])\n"
          ],
          "name": "stdout"
        }
      ]
    },
    {
      "cell_type": "code",
      "metadata": {
        "id": "jFMEMYePg7OA",
        "outputId": "d42966bb-b9a5-4b85-cc91-12af81f76324",
        "colab": {
          "base_uri": "https://localhost:8080/"
        }
      },
      "source": [
        "x = {'one': 1, 'two': 2}\n",
        "print(x.values())"
      ],
      "execution_count": 13,
      "outputs": [
        {
          "output_type": "stream",
          "text": [
            "dict_values([1, 2])\n"
          ],
          "name": "stdout"
        }
      ]
    },
    {
      "cell_type": "code",
      "metadata": {
        "id": "J7escB6Vg852",
        "outputId": "a7f95ed9-b17c-4c9c-a898-d9c63c33047f",
        "colab": {
          "base_uri": "https://localhost:8080/"
        }
      },
      "source": [
        "x = {'one': 1, 'two': 2}\n",
        "print(x.items())"
      ],
      "execution_count": 14,
      "outputs": [
        {
          "output_type": "stream",
          "text": [
            "dict_items([('one', 1), ('two', 2)])\n"
          ],
          "name": "stdout"
        }
      ]
    },
    {
      "cell_type": "code",
      "metadata": {
        "id": "_dwLU_e-g-Wz",
        "outputId": "c8f6bcb1-87b8-4b03-ed62-f42d4923975f",
        "colab": {
          "base_uri": "https://localhost:8080/",
          "height": 215
        }
      },
      "source": [
        "y = {'one': 1, 'two': 2}\n",
        "del y['three']"
      ],
      "execution_count": 15,
      "outputs": [
        {
          "output_type": "error",
          "ename": "KeyError",
          "evalue": "ignored",
          "traceback": [
            "\u001b[0;31m---------------------------------------------------------------------------\u001b[0m",
            "\u001b[0;31mKeyError\u001b[0m                                  Traceback (most recent call last)",
            "\u001b[0;32m<ipython-input-15-fb41c649ee5f>\u001b[0m in \u001b[0;36m<module>\u001b[0;34m()\u001b[0m\n\u001b[1;32m      1\u001b[0m \u001b[0my\u001b[0m \u001b[0;34m=\u001b[0m \u001b[0;34m{\u001b[0m\u001b[0;34m'one'\u001b[0m\u001b[0;34m:\u001b[0m \u001b[0;36m1\u001b[0m\u001b[0;34m,\u001b[0m \u001b[0;34m'two'\u001b[0m\u001b[0;34m:\u001b[0m \u001b[0;36m2\u001b[0m\u001b[0;34m}\u001b[0m\u001b[0;34m\u001b[0m\u001b[0;34m\u001b[0m\u001b[0m\n\u001b[0;32m----> 2\u001b[0;31m \u001b[0;32mdel\u001b[0m \u001b[0my\u001b[0m\u001b[0;34m[\u001b[0m\u001b[0;34m'three'\u001b[0m\u001b[0;34m]\u001b[0m\u001b[0;34m\u001b[0m\u001b[0;34m\u001b[0m\u001b[0m\n\u001b[0m",
            "\u001b[0;31mKeyError\u001b[0m: 'three'"
          ]
        }
      ]
    },
    {
      "cell_type": "code",
      "metadata": {
        "id": "dTyZ3wVqhAB6",
        "outputId": "63f9d4e0-3f42-4767-8697-f10918ee3c36",
        "colab": {
          "base_uri": "https://localhost:8080/"
        }
      },
      "source": [
        "y = {'one': 1, 'two': 2}\n",
        "if 'three' in y: \n",
        "    del y['three']\n",
        "    \n",
        "print(y)"
      ],
      "execution_count": 16,
      "outputs": [
        {
          "output_type": "stream",
          "text": [
            "{'one': 1, 'two': 2}\n"
          ],
          "name": "stdout"
        }
      ]
    },
    {
      "cell_type": "code",
      "metadata": {
        "id": "SVmSZJO2hCOR",
        "outputId": "a8f0318a-a1d1-4ff9-bb88-9a4a2547fa7c",
        "colab": {
          "base_uri": "https://localhost:8080/"
        }
      },
      "source": [
        "y = {'one': 1, 'two': 2}\n",
        "print(y.get('one'))\n",
        "print(y.get('three'))\n",
        "print(y.get('three', 'The key does not exist.'))"
      ],
      "execution_count": 17,
      "outputs": [
        {
          "output_type": "stream",
          "text": [
            "1\n",
            "None\n",
            "The key does not exist.\n"
          ],
          "name": "stdout"
        }
      ]
    },
    {
      "cell_type": "code",
      "metadata": {
        "id": "1xcj0VzvhFuA",
        "outputId": "3ec6281b-7854-4d4b-c750-30409770c737",
        "colab": {
          "base_uri": "https://localhost:8080/"
        }
      },
      "source": [
        "y = {'one': 1, 'two': 2}\n",
        "print(y.setdefault('three', '3'))\n",
        "print(y.setdefault('two', 'dos'))\n",
        "print(y)"
      ],
      "execution_count": 18,
      "outputs": [
        {
          "output_type": "stream",
          "text": [
            "3\n",
            "2\n",
            "{'one': 1, 'two': 2, 'three': '3'}\n"
          ],
          "name": "stdout"
        }
      ]
    }
  ]
}