{
  "nbformat": 4,
  "nbformat_minor": 0,
  "metadata": {
    "colab": {
      "name": "Python Dictionary and Methods.ipynb",
      "provenance": [],
      "authorship_tag": "ABX9TyNbAIZLyI0cZN6zlHToqqj1"
    },
    "kernelspec": {
      "name": "python3",
      "display_name": "Python 3"
    }
  },
  "cells": [
    {
      "cell_type": "markdown",
      "metadata": {
        "id": "PPz5fmXewM2I"
      },
      "source": [
        "[Reference](https://medium.com/python-in-plain-english/python-dictionary-methods-explained-1149c6d9a532)"
      ]
    },
    {
      "cell_type": "markdown",
      "metadata": {
        "id": "60QXiin_wf9j"
      },
      "source": [
        "# The definition of dictionary\n",
        "Dictionary is an unordered data structure that allows you to store key-value pairs. "
      ]
    },
    {
      "cell_type": "code",
      "metadata": {
        "id": "IuqlCesrwIkA"
      },
      "source": [
        "dictionary = {'name': 'Branden',\n",
        "              'age': 21,\n",
        "              'job': 'Data Scientist',\n",
        "              'hobby': 'Running'}"
      ],
      "execution_count": 21,
      "outputs": []
    },
    {
      "cell_type": "code",
      "metadata": {
        "id": "RzhPMl8rwepl"
      },
      "source": [
        "gender_dict = {0: 'male',\n",
        "               1: 'female'}"
      ],
      "execution_count": 22,
      "outputs": []
    },
    {
      "cell_type": "code",
      "metadata": {
        "colab": {
          "base_uri": "https://localhost:8080/",
          "height": 232
        },
        "id": "7UQlvyQawnir",
        "outputId": "154777cd-10ba-45a7-becf-8579b86b694c"
      },
      "source": [
        "dictionary = {(100, 90.0): 'tuples can be keys',\n",
        "              90: 'integers can be keys',\n",
        "              'hello':'strings can be key',\n",
        "              ['Branden','James',100,90.0]:'list cannot be keys'}"
      ],
      "execution_count": 23,
      "outputs": [
        {
          "output_type": "error",
          "ename": "TypeError",
          "evalue": "ignored",
          "traceback": [
            "\u001b[0;31m---------------------------------------------------------------------------\u001b[0m",
            "\u001b[0;31mTypeError\u001b[0m                                 Traceback (most recent call last)",
            "\u001b[0;32m<ipython-input-23-25d158ff72db>\u001b[0m in \u001b[0;36m<module>\u001b[0;34m()\u001b[0m\n\u001b[1;32m      2\u001b[0m               \u001b[0;36m90\u001b[0m\u001b[0;34m:\u001b[0m \u001b[0;34m'integers can be keys'\u001b[0m\u001b[0;34m,\u001b[0m\u001b[0;34m\u001b[0m\u001b[0;34m\u001b[0m\u001b[0m\n\u001b[1;32m      3\u001b[0m               \u001b[0;34m'hello'\u001b[0m\u001b[0;34m:\u001b[0m\u001b[0;34m'strings can be key'\u001b[0m\u001b[0;34m,\u001b[0m\u001b[0;34m\u001b[0m\u001b[0;34m\u001b[0m\u001b[0m\n\u001b[0;32m----> 4\u001b[0;31m               ['Branden','James',100,90.0]:'list cannot be keys'}\n\u001b[0m",
            "\u001b[0;31mTypeError\u001b[0m: unhashable type: 'list'"
          ]
        }
      ]
    },
    {
      "cell_type": "markdown",
      "metadata": {
        "id": "bQCaYpzaxGHQ"
      },
      "source": [
        "# Read data from a dictionary\n",
        "Square brackets are used to get the value of a particular key []."
      ]
    },
    {
      "cell_type": "code",
      "metadata": {
        "colab": {
          "base_uri": "https://localhost:8080/",
          "height": 37
        },
        "id": "MOOtc4Jyw8hx",
        "outputId": "efbd84a1-81cb-47ce-b856-6b705300e36f"
      },
      "source": [
        "dictionary['hobby']"
      ],
      "execution_count": 24,
      "outputs": [
        {
          "output_type": "execute_result",
          "data": {
            "application/vnd.google.colaboratory.intrinsic+json": {
              "type": "string"
            },
            "text/plain": [
              "'Running'"
            ]
          },
          "metadata": {
            "tags": []
          },
          "execution_count": 24
        }
      ]
    },
    {
      "cell_type": "markdown",
      "metadata": {
        "id": "4SS-065jxKyg"
      },
      "source": [
        "# Adding and updating keys "
      ]
    },
    {
      "cell_type": "code",
      "metadata": {
        "id": "MEe4m5snxDzf"
      },
      "source": [
        "dictionary['hobby'] = 'Running, work-out, traveling'"
      ],
      "execution_count": 25,
      "outputs": []
    },
    {
      "cell_type": "code",
      "metadata": {
        "colab": {
          "base_uri": "https://localhost:8080/",
          "height": 37
        },
        "id": "5Suom0S_xRCl",
        "outputId": "74de8aec-f9b0-44a6-9c3e-267c20618db5"
      },
      "source": [
        "dictionary['hobby']"
      ],
      "execution_count": 26,
      "outputs": [
        {
          "output_type": "execute_result",
          "data": {
            "application/vnd.google.colaboratory.intrinsic+json": {
              "type": "string"
            },
            "text/plain": [
              "'Running, work-out, traveling'"
            ]
          },
          "metadata": {
            "tags": []
          },
          "execution_count": 26
        }
      ]
    },
    {
      "cell_type": "markdown",
      "metadata": {
        "id": "BQBbQHbrxUCR"
      },
      "source": [
        "# Deleting keys"
      ]
    },
    {
      "cell_type": "code",
      "metadata": {
        "id": "fWADWa7nxSAy"
      },
      "source": [
        "del dictionary['hobby']"
      ],
      "execution_count": 27,
      "outputs": []
    },
    {
      "cell_type": "code",
      "metadata": {
        "colab": {
          "base_uri": "https://localhost:8080/"
        },
        "id": "LxgnoPxHxXPs",
        "outputId": "e4e739bf-4349-48b2-c7c1-96acd4019e57"
      },
      "source": [
        "dictionary"
      ],
      "execution_count": 28,
      "outputs": [
        {
          "output_type": "execute_result",
          "data": {
            "text/plain": [
              "{'age': 21, 'job': 'Data Scientist', 'name': 'Branden'}"
            ]
          },
          "metadata": {
            "tags": []
          },
          "execution_count": 28
        }
      ]
    },
    {
      "cell_type": "markdown",
      "metadata": {
        "id": "Z2zDxaurxZ0x"
      },
      "source": [
        "# Dictionary Methods "
      ]
    },
    {
      "cell_type": "markdown",
      "metadata": {
        "id": "0rg08ioqxcf2"
      },
      "source": [
        "## Update"
      ]
    },
    {
      "cell_type": "code",
      "metadata": {
        "id": "XLRQoDoaxXtN"
      },
      "source": [
        "dictionary.update({'location': 'Seoul',\n",
        "                   'Speciality': 'Data Analytics'})"
      ],
      "execution_count": 29,
      "outputs": []
    },
    {
      "cell_type": "code",
      "metadata": {
        "colab": {
          "base_uri": "https://localhost:8080/"
        },
        "id": "rsmb4bLPxnzN",
        "outputId": "8a904c68-33e1-46e0-e073-3040ca6fe399"
      },
      "source": [
        "dictionary"
      ],
      "execution_count": 30,
      "outputs": [
        {
          "output_type": "execute_result",
          "data": {
            "text/plain": [
              "{'Speciality': 'Data Analytics',\n",
              " 'age': 21,\n",
              " 'job': 'Data Scientist',\n",
              " 'location': 'Seoul',\n",
              " 'name': 'Branden'}"
            ]
          },
          "metadata": {
            "tags": []
          },
          "execution_count": 30
        }
      ]
    },
    {
      "cell_type": "markdown",
      "metadata": {
        "id": "foPC4zaexqLq"
      },
      "source": [
        "## Get\n",
        "The method get() returns the value for the specified key. "
      ]
    },
    {
      "cell_type": "code",
      "metadata": {
        "id": "X0bNVhevxpRi"
      },
      "source": [
        "number_count = {'one': 1,\n",
        "                'two': 2,\n",
        "                'thirty': 30,\n",
        "                'six': 6}"
      ],
      "execution_count": 31,
      "outputs": []
    },
    {
      "cell_type": "code",
      "metadata": {
        "colab": {
          "base_uri": "https://localhost:8080/"
        },
        "id": "vvM2kTLpycdN",
        "outputId": "8c04bb07-b3a6-4267-880a-49007626162a"
      },
      "source": [
        "number_count.get('six')"
      ],
      "execution_count": 32,
      "outputs": [
        {
          "output_type": "execute_result",
          "data": {
            "text/plain": [
              "6"
            ]
          },
          "metadata": {
            "tags": []
          },
          "execution_count": 32
        }
      ]
    },
    {
      "cell_type": "code",
      "metadata": {
        "id": "SsIuXAUkyeOe"
      },
      "source": [
        "number_count.get('ten')"
      ],
      "execution_count": 33,
      "outputs": []
    },
    {
      "cell_type": "markdown",
      "metadata": {
        "id": "k2uOVuXdyhu_"
      },
      "source": [
        "## Pop\n",
        "The method pop() deletes the key and returns the corresponding value."
      ]
    },
    {
      "cell_type": "code",
      "metadata": {
        "colab": {
          "base_uri": "https://localhost:8080/"
        },
        "id": "FV1csMcAygkf",
        "outputId": "10f1d931-708f-4fd4-fb37-eebc7fa8a338"
      },
      "source": [
        "number_count.pop('six')"
      ],
      "execution_count": 34,
      "outputs": [
        {
          "output_type": "execute_result",
          "data": {
            "text/plain": [
              "6"
            ]
          },
          "metadata": {
            "tags": []
          },
          "execution_count": 34
        }
      ]
    },
    {
      "cell_type": "code",
      "metadata": {
        "colab": {
          "base_uri": "https://localhost:8080/"
        },
        "id": "1e90a5L1yqJV",
        "outputId": "f45e2dfe-b863-41a5-c0a3-f9ef5557e7c1"
      },
      "source": [
        "number_count"
      ],
      "execution_count": 35,
      "outputs": [
        {
          "output_type": "execute_result",
          "data": {
            "text/plain": [
              "{'one': 1, 'thirty': 30, 'two': 2}"
            ]
          },
          "metadata": {
            "tags": []
          },
          "execution_count": 35
        }
      ]
    },
    {
      "cell_type": "markdown",
      "metadata": {
        "id": "drVkIV8IyzXc"
      },
      "source": [
        "## Keys"
      ]
    },
    {
      "cell_type": "code",
      "metadata": {
        "colab": {
          "base_uri": "https://localhost:8080/"
        },
        "id": "B3gAgaf5yqv9",
        "outputId": "74252f69-7e6f-47d4-fed5-1f20c8f39f6e"
      },
      "source": [
        "number_count.keys()"
      ],
      "execution_count": 37,
      "outputs": [
        {
          "output_type": "execute_result",
          "data": {
            "text/plain": [
              "dict_keys(['one', 'two', 'thirty'])"
            ]
          },
          "metadata": {
            "tags": []
          },
          "execution_count": 37
        }
      ]
    },
    {
      "cell_type": "markdown",
      "metadata": {
        "id": "dS_RTMT4zHoW"
      },
      "source": [
        "## Values"
      ]
    },
    {
      "cell_type": "code",
      "metadata": {
        "id": "QUXeugpKy19o"
      },
      "source": [
        "number_count.values()"
      ],
      "execution_count": null,
      "outputs": []
    },
    {
      "cell_type": "markdown",
      "metadata": {
        "id": "sGvOYmk66IyK"
      },
      "source": [
        "## Items\n",
        "The method items() returns key-value pairs"
      ]
    },
    {
      "cell_type": "code",
      "metadata": {
        "colab": {
          "base_uri": "https://localhost:8080/"
        },
        "id": "xxhozDvby26C",
        "outputId": "faa5e8c4-9bff-456b-d5fc-c1e360518cc2"
      },
      "source": [
        "number_count.items()"
      ],
      "execution_count": 38,
      "outputs": [
        {
          "output_type": "execute_result",
          "data": {
            "text/plain": [
              "dict_items([('one', 1), ('two', 2), ('thirty', 30)])"
            ]
          },
          "metadata": {
            "tags": []
          },
          "execution_count": 38
        }
      ]
    },
    {
      "cell_type": "markdown",
      "metadata": {
        "id": "yyJcG9YD6Q1g"
      },
      "source": [
        "## Iteration"
      ]
    },
    {
      "cell_type": "code",
      "metadata": {
        "colab": {
          "base_uri": "https://localhost:8080/"
        },
        "id": "BLtKgRC-6NyE",
        "outputId": "e51e797b-b90a-41b8-d598-8d5119f59ca6"
      },
      "source": [
        "for key in number_count:\n",
        "    print(key)"
      ],
      "execution_count": 40,
      "outputs": [
        {
          "output_type": "stream",
          "text": [
            "one\n",
            "two\n",
            "thirty\n"
          ],
          "name": "stdout"
        }
      ]
    },
    {
      "cell_type": "code",
      "metadata": {
        "colab": {
          "base_uri": "https://localhost:8080/"
        },
        "id": "UJTdqYyu6b9g",
        "outputId": "16a29810-002a-4da5-e14a-4a250b0bd210"
      },
      "source": [
        "for key, value in number_count.items():\n",
        "    print(key, value)"
      ],
      "execution_count": 41,
      "outputs": [
        {
          "output_type": "stream",
          "text": [
            "one 1\n",
            "two 2\n",
            "thirty 30\n"
          ],
          "name": "stdout"
        }
      ]
    }
  ]
}