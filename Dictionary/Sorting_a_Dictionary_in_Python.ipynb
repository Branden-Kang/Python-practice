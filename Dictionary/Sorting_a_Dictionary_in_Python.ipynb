{
  "nbformat": 4,
  "nbformat_minor": 0,
  "metadata": {
    "colab": {
      "name": "Sorting a Dictionary in Python.ipynb",
      "provenance": [],
      "authorship_tag": "ABX9TyMVBH5sX4oSuYXwgw04EcVw"
    },
    "kernelspec": {
      "name": "python3",
      "display_name": "Python 3"
    }
  },
  "cells": [
    {
      "cell_type": "markdown",
      "metadata": {
        "id": "niWrGcuWQb-R"
      },
      "source": [
        "[Reference](https://towardsdatascience.com/sorting-a-dictionary-in-python-4280451e1637)"
      ]
    },
    {
      "cell_type": "code",
      "metadata": {
        "id": "VGTArwSnQQ40"
      },
      "source": [
        "dictionary_of_names = {'beth': 37, \n",
        "                       'jane': 32,\n",
        "                       'john': 41, \n",
        "                       'mike': 59\n",
        "}"
      ],
      "execution_count": 1,
      "outputs": []
    },
    {
      "cell_type": "code",
      "metadata": {
        "colab": {
          "base_uri": "https://localhost:8080/"
        },
        "id": "gVBRK25HQgCw",
        "outputId": "883f1d9e-6175-49a1-c737-9b1859571dd2"
      },
      "source": [
        "print(sorted(dictionary_of_names))"
      ],
      "execution_count": 2,
      "outputs": [
        {
          "output_type": "stream",
          "text": [
            "['beth', 'jane', 'john', 'mike']\n"
          ],
          "name": "stdout"
        }
      ]
    },
    {
      "cell_type": "code",
      "metadata": {
        "colab": {
          "base_uri": "https://localhost:8080/"
        },
        "id": "2f_UXwniQhTS",
        "outputId": "9f836313-c0ec-42be-c905-a5f967d1894a"
      },
      "source": [
        "print(dictionary_of_names.items())"
      ],
      "execution_count": 3,
      "outputs": [
        {
          "output_type": "stream",
          "text": [
            "dict_items([('beth', 37), ('jane', 32), ('john', 41), ('mike', 59)])\n"
          ],
          "name": "stdout"
        }
      ]
    },
    {
      "cell_type": "code",
      "metadata": {
        "id": "vUo52qcVQjTb"
      },
      "source": [
        "sorted_age = sorted(dictionary_of_names.items(), key = lambda kv: kv[1])"
      ],
      "execution_count": 4,
      "outputs": []
    },
    {
      "cell_type": "code",
      "metadata": {
        "colab": {
          "base_uri": "https://localhost:8080/"
        },
        "id": "9exKZNEOQlid",
        "outputId": "22399904-717a-45e5-de26-1a7e31d4d4b4"
      },
      "source": [
        "print(sorted_age)"
      ],
      "execution_count": 5,
      "outputs": [
        {
          "output_type": "stream",
          "text": [
            "[('jane', 32), ('beth', 37), ('john', 41), ('mike', 59)]\n"
          ],
          "name": "stdout"
        }
      ]
    },
    {
      "cell_type": "code",
      "metadata": {
        "colab": {
          "base_uri": "https://localhost:8080/"
        },
        "id": "NaMRF92dQlxH",
        "outputId": "2dccc3cb-99da-4bf4-95c0-139ce0cffc6f"
      },
      "source": [
        "sorted_dictionary = dict(sorted_age)\n",
        "print(sorted_dictionary)"
      ],
      "execution_count": 6,
      "outputs": [
        {
          "output_type": "stream",
          "text": [
            "{'jane': 32, 'beth': 37, 'john': 41, 'mike': 59}\n"
          ],
          "name": "stdout"
        }
      ]
    },
    {
      "cell_type": "code",
      "metadata": {
        "colab": {
          "base_uri": "https://localhost:8080/"
        },
        "id": "shDw0TwEQpWm",
        "outputId": "47d86d4c-a553-488b-bbdf-ff9426e53a00"
      },
      "source": [
        "nums = [1,1,7,3,5,3,2,9,5,1,3,2,2,2,2,2,9]\n",
        "\n",
        "def count(num_list):\n",
        "    count_dict = {}\n",
        "    for num in num_list:\n",
        "        count_dict[num] = num_list.count(num)\n",
        "    return dict(sorted(count_dict.items(), key=lambda x:x[1]))\n",
        "    \n",
        "print(count(nums))"
      ],
      "execution_count": 7,
      "outputs": [
        {
          "output_type": "stream",
          "text": [
            "{7: 1, 5: 2, 9: 2, 1: 3, 3: 3, 2: 6}\n"
          ],
          "name": "stdout"
        }
      ]
    },
    {
      "cell_type": "code",
      "metadata": {
        "id": "SU_PPrHmQsxN"
      },
      "source": [
        "def count(num_list):\n",
        "    count_dict = {num:num_list.count(num) for num in num_list}\n",
        "    return dict(sorted(count_dict.items(), key=lambda x:x[1]))"
      ],
      "execution_count": 8,
      "outputs": []
    },
    {
      "cell_type": "code",
      "metadata": {
        "id": "lD9BTRsAQvdU"
      },
      "source": [
        "def count(num_list):\n",
        "    return dict(sorted({num:num_list.count(num) for num in num_list}.items(), key=lambda x:x[1]))"
      ],
      "execution_count": 9,
      "outputs": []
    }
  ]
}