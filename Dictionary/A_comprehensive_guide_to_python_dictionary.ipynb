{
  "nbformat": 4,
  "nbformat_minor": 0,
  "metadata": {
    "colab": {
      "provenance": [],
      "collapsed_sections": [],
      "authorship_tag": "ABX9TyMRMOPOyMQsywyXxxtZyr1b"
    },
    "kernelspec": {
      "name": "python3",
      "display_name": "Python 3"
    },
    "language_info": {
      "name": "python"
    }
  },
  "cells": [
    {
      "cell_type": "markdown",
      "source": [
        "[Reference](https://blog.jovian.ai/dictionaries-advanced-python-part-3-bea02c205255)"
      ],
      "metadata": {
        "id": "cnn996FisAnG"
      }
    },
    {
      "cell_type": "code",
      "execution_count": 1,
      "metadata": {
        "colab": {
          "base_uri": "https://localhost:8080/"
        },
        "id": "xyoP7mfVr-O8",
        "outputId": "8c5f2683-a215-47a1-c595-7501882a854b"
      },
      "outputs": [
        {
          "output_type": "stream",
          "name": "stdout",
          "text": [
            "{'name': 'Max', 'age': 28, 'city': 'New York'}\n"
          ]
        }
      ],
      "source": [
        "my_dict = {\"name\":\"Max\", \"age\":28, \"city\":\"New York\"}\n",
        "print(my_dict)"
      ]
    },
    {
      "cell_type": "code",
      "source": [
        "my_dict_2 = dict(name=\"Lisa\", age=27, city=\"Boston\")\n",
        "print(my_dict_2)"
      ],
      "metadata": {
        "colab": {
          "base_uri": "https://localhost:8080/"
        },
        "id": "Mwjgr406sFQ8",
        "outputId": "94f85801-c254-4ca5-a310-d058570778c7"
      },
      "execution_count": 2,
      "outputs": [
        {
          "output_type": "stream",
          "name": "stdout",
          "text": [
            "{'name': 'Lisa', 'age': 27, 'city': 'Boston'}\n"
          ]
        }
      ]
    },
    {
      "cell_type": "code",
      "source": [
        "name_in_dict = my_dict[\"name\"]\n",
        "print(name_in_dict)"
      ],
      "metadata": {
        "colab": {
          "base_uri": "https://localhost:8080/"
        },
        "id": "wG5XEhNusFvE",
        "outputId": "25ca7d95-8a25-449e-e833-65e4b3fb00b0"
      },
      "execution_count": 3,
      "outputs": [
        {
          "output_type": "stream",
          "name": "stdout",
          "text": [
            "Max\n"
          ]
        }
      ]
    },
    {
      "cell_type": "code",
      "source": [
        "# print(my_dict[\"lastname\"])"
      ],
      "metadata": {
        "id": "NdI0-wC0sHxN"
      },
      "execution_count": 4,
      "outputs": []
    },
    {
      "cell_type": "code",
      "source": [
        "print(my_dict.get(\"firstname\")) # None\n",
        "print(my_dict.get(\"lastname\")) # Max"
      ],
      "metadata": {
        "colab": {
          "base_uri": "https://localhost:8080/"
        },
        "id": "2EUcinb0sIT-",
        "outputId": "16a861be-05b2-4474-b790-084a828e739b"
      },
      "execution_count": 5,
      "outputs": [
        {
          "output_type": "stream",
          "name": "stdout",
          "text": [
            "None\n",
            "None\n"
          ]
        }
      ]
    },
    {
      "cell_type": "code",
      "source": [
        "my_dict[\"email\"] = \"max@xyz.com\"\n",
        "print(my_dict)"
      ],
      "metadata": {
        "colab": {
          "base_uri": "https://localhost:8080/"
        },
        "id": "1hTQjb92sLD-",
        "outputId": "5ad9e839-dc5f-42f1-e8d7-161b4d3774b7"
      },
      "execution_count": 6,
      "outputs": [
        {
          "output_type": "stream",
          "name": "stdout",
          "text": [
            "{'name': 'Max', 'age': 28, 'city': 'New York', 'email': 'max@xyz.com'}\n"
          ]
        }
      ]
    },
    {
      "cell_type": "code",
      "source": [
        "my_dict[\"email\"] = \"coolmax@xyz.com\"\n",
        "print(my_dict)"
      ],
      "metadata": {
        "colab": {
          "base_uri": "https://localhost:8080/"
        },
        "id": "DTmnlJDasNOh",
        "outputId": "ee3afaf8-bf36-4319-e26e-802696617694"
      },
      "execution_count": 7,
      "outputs": [
        {
          "output_type": "stream",
          "name": "stdout",
          "text": [
            "{'name': 'Max', 'age': 28, 'city': 'New York', 'email': 'coolmax@xyz.com'}\n"
          ]
        }
      ]
    },
    {
      "cell_type": "code",
      "source": [
        "del my_dict[\"email\"]\n",
        "print(my_dict)"
      ],
      "metadata": {
        "colab": {
          "base_uri": "https://localhost:8080/"
        },
        "id": "YGCFVcxNsNWK",
        "outputId": "e028b838-80ee-466d-960f-ba00bccea0cb"
      },
      "execution_count": 8,
      "outputs": [
        {
          "output_type": "stream",
          "name": "stdout",
          "text": [
            "{'name': 'Max', 'age': 28, 'city': 'New York'}\n"
          ]
        }
      ]
    },
    {
      "cell_type": "code",
      "source": [
        "print(\"popped value:\", my_dict.pop(\"age\"))"
      ],
      "metadata": {
        "colab": {
          "base_uri": "https://localhost:8080/"
        },
        "id": "Pq48UJansO3Z",
        "outputId": "49587d02-bfa5-4470-c357-0b0d472ce501"
      },
      "execution_count": 9,
      "outputs": [
        {
          "output_type": "stream",
          "name": "stdout",
          "text": [
            "popped value: 28\n"
          ]
        }
      ]
    },
    {
      "cell_type": "code",
      "source": [
        "print(\"popped item:\", my_dict.popitem())"
      ],
      "metadata": {
        "colab": {
          "base_uri": "https://localhost:8080/"
        },
        "id": "uvTRQyQbsQCu",
        "outputId": "10df3370-1b2d-47de-f5a8-d4a709313cef"
      },
      "execution_count": 10,
      "outputs": [
        {
          "output_type": "stream",
          "name": "stdout",
          "text": [
            "popped item: ('city', 'New York')\n"
          ]
        }
      ]
    },
    {
      "cell_type": "code",
      "source": [
        "my_dict.clear()\n",
        "print(my_dict)"
      ],
      "metadata": {
        "colab": {
          "base_uri": "https://localhost:8080/"
        },
        "id": "_x5khT52sRjy",
        "outputId": "0353826f-e6c3-4e1f-ba38-6201b15dceb6"
      },
      "execution_count": 11,
      "outputs": [
        {
          "output_type": "stream",
          "name": "stdout",
          "text": [
            "{}\n"
          ]
        }
      ]
    },
    {
      "cell_type": "code",
      "source": [
        "my_dict = {\"name\":\"Max\", \"age\":28, \"city\":\"New York\"}\n",
        "if \"name\" in my_dict:\n",
        "    print(my_dict[\"name\"])"
      ],
      "metadata": {
        "colab": {
          "base_uri": "https://localhost:8080/"
        },
        "id": "vrolCvDysTB4",
        "outputId": "a13ea0ed-bd71-41c7-b8da-95a9fba02205"
      },
      "execution_count": 12,
      "outputs": [
        {
          "output_type": "stream",
          "name": "stdout",
          "text": [
            "Max\n"
          ]
        }
      ]
    },
    {
      "cell_type": "code",
      "source": [
        "try:\n",
        "    print(my_dict[\"firstname\"])\n",
        "except KeyError:\n",
        "    print(\"No key found\")"
      ],
      "metadata": {
        "colab": {
          "base_uri": "https://localhost:8080/"
        },
        "id": "DtkHIas2sUjD",
        "outputId": "1367d139-ee5b-485a-c232-cf18a176c809"
      },
      "execution_count": 13,
      "outputs": [
        {
          "output_type": "stream",
          "name": "stdout",
          "text": [
            "No key found\n"
          ]
        }
      ]
    },
    {
      "cell_type": "code",
      "source": [
        "for key in my_dict.keys():\n",
        "    print(key)"
      ],
      "metadata": {
        "colab": {
          "base_uri": "https://localhost:8080/"
        },
        "id": "EKNR5n8osV7G",
        "outputId": "32ea0500-f87c-474c-fa11-d69f663945ae"
      },
      "execution_count": 14,
      "outputs": [
        {
          "output_type": "stream",
          "name": "stdout",
          "text": [
            "name\n",
            "age\n",
            "city\n"
          ]
        }
      ]
    },
    {
      "cell_type": "code",
      "source": [
        "for value in my_dict.values():\n",
        "    print(value)"
      ],
      "metadata": {
        "colab": {
          "base_uri": "https://localhost:8080/"
        },
        "id": "LYu2uwGgsW3m",
        "outputId": "f6b409ff-a3e2-43db-f8f2-8b24830978f4"
      },
      "execution_count": 15,
      "outputs": [
        {
          "output_type": "stream",
          "name": "stdout",
          "text": [
            "Max\n",
            "28\n",
            "New York\n"
          ]
        }
      ]
    },
    {
      "cell_type": "code",
      "source": [
        "dict_org = {\"name\":\"Max\", \"age\":28, \"city\":\"New York\"}\n",
        "dict_copy = dict_org\n",
        "dict_copy[\"name\"] = \"Lisa\"\n",
        "print(dict_copy) # {'name': 'Lisa', 'age': 28, 'city': 'New York'}\n",
        "print(dict_org) # {'name': 'Lisa', 'age': 28, 'city': 'New York'}"
      ],
      "metadata": {
        "colab": {
          "base_uri": "https://localhost:8080/"
        },
        "id": "iMsKCmShsYT-",
        "outputId": "271cba10-f529-48bc-f352-923a2b3e77aa"
      },
      "execution_count": 16,
      "outputs": [
        {
          "output_type": "stream",
          "name": "stdout",
          "text": [
            "{'name': 'Lisa', 'age': 28, 'city': 'New York'}\n",
            "{'name': 'Lisa', 'age': 28, 'city': 'New York'}\n"
          ]
        }
      ]
    },
    {
      "cell_type": "code",
      "source": [
        "dict_org = {\"name\":\"Max\", \"age\":28, \"city\":\"New York\"}\n",
        "dict_copy = dict_org.copy()\n",
        "# dict_copy = dict(dict_org)\n",
        "dict_copy[\"name\"] = \"Lisa\"\n",
        "print(dict_copy) # {'name': 'Lisa', 'age': 28, 'city': 'New York'}\n",
        "print(dict_org) # {'name': 'Max', 'age': 28, 'city': 'New York'}"
      ],
      "metadata": {
        "colab": {
          "base_uri": "https://localhost:8080/"
        },
        "id": "m0E-d5zusbqE",
        "outputId": "028aff74-c802-4659-c586-87eec9213d93"
      },
      "execution_count": 17,
      "outputs": [
        {
          "output_type": "stream",
          "name": "stdout",
          "text": [
            "{'name': 'Lisa', 'age': 28, 'city': 'New York'}\n",
            "{'name': 'Max', 'age': 28, 'city': 'New York'}\n"
          ]
        }
      ]
    },
    {
      "cell_type": "code",
      "source": [
        "my_dict = {\"name\":\"Max\", \"age\":28, \"email\":\"max@xyz.com\"}\n",
        "my_dict_2 = dict(name=\"Lisa\", age=27, city=\"Boston\")\n",
        "my_dict.update(my_dict_2)\n",
        "print(my_dict)"
      ],
      "metadata": {
        "colab": {
          "base_uri": "https://localhost:8080/"
        },
        "id": "27ZJvyIGsfx9",
        "outputId": "da0837a8-2ca6-4e42-da6c-6afa0288e7b2"
      },
      "execution_count": 18,
      "outputs": [
        {
          "output_type": "stream",
          "name": "stdout",
          "text": [
            "{'name': 'Lisa', 'age': 27, 'email': 'max@xyz.com', 'city': 'Boston'}\n"
          ]
        }
      ]
    },
    {
      "cell_type": "code",
      "source": [
        "my_dict = {3: 9, 6: 36, 9:81}\n",
        "print(my_dict[3], my_dict[6], my_dict[9]) # 9 36 81"
      ],
      "metadata": {
        "colab": {
          "base_uri": "https://localhost:8080/"
        },
        "id": "c5vW3j-nsg58",
        "outputId": "05cd65e5-37eb-44ad-ee46-46979f0ab403"
      },
      "execution_count": 19,
      "outputs": [
        {
          "output_type": "stream",
          "name": "stdout",
          "text": [
            "9 36 81\n"
          ]
        }
      ]
    },
    {
      "cell_type": "code",
      "source": [
        "my_tuple = (8, 7)\n",
        "my_dict = {my_tuple: 15}\n",
        "print(my_dict[my_tuple])\n",
        "# print(my_dict[8, 7]) # 15"
      ],
      "metadata": {
        "colab": {
          "base_uri": "https://localhost:8080/"
        },
        "id": "KCHbNd1Fsidu",
        "outputId": "6fa100f9-b4cb-4b3e-d960-64fbdd793577"
      },
      "execution_count": 20,
      "outputs": [
        {
          "output_type": "stream",
          "name": "stdout",
          "text": [
            "15\n"
          ]
        }
      ]
    },
    {
      "cell_type": "code",
      "source": [
        "# my_list = [8, 7]\n",
        "# my_dict = {my_list: 15}"
      ],
      "metadata": {
        "id": "UsczT-UuskF9"
      },
      "execution_count": 21,
      "outputs": []
    },
    {
      "cell_type": "code",
      "source": [
        "my_dict_1 = {\"name\": \"Max\", \"age\": 28}\n",
        "my_dict_2 = {\"name\": \"Alex\", \"age\": 25}\n",
        "nested_dict = {\"dictA\": my_dict_1,\n",
        "               \"dictB\": my_dict_2}\n",
        "print(nested_dict)"
      ],
      "metadata": {
        "id": "FOKoW2bvskQB",
        "outputId": "64a8a58f-0994-468e-fc27-d2d227a0cd6c",
        "colab": {
          "base_uri": "https://localhost:8080/"
        }
      },
      "execution_count": 22,
      "outputs": [
        {
          "output_type": "stream",
          "name": "stdout",
          "text": [
            "{'dictA': {'name': 'Max', 'age': 28}, 'dictB': {'name': 'Alex', 'age': 25}}\n"
          ]
        }
      ]
    }
  ]
}
