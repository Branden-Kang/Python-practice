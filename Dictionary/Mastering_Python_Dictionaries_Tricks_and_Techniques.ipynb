{
  "nbformat": 4,
  "nbformat_minor": 0,
  "metadata": {
    "colab": {
      "provenance": [],
      "authorship_tag": "ABX9TyOyV5JI9stIg00o9+i+gnT1"
    },
    "kernelspec": {
      "name": "python3",
      "display_name": "Python 3"
    },
    "language_info": {
      "name": "python"
    }
  },
  "cells": [
    {
      "cell_type": "markdown",
      "source": [
        "[Reference](https://medium.com/geekculture/mastering-python-dictionaries-tricks-and-techniques-e165cc611963)"
      ],
      "metadata": {
        "id": "hdXnQxOTqFc7"
      }
    },
    {
      "cell_type": "markdown",
      "source": [
        "# Dictionary Comprehension"
      ],
      "metadata": {
        "id": "fwbnMMgoqHqn"
      }
    },
    {
      "cell_type": "code",
      "execution_count": 1,
      "metadata": {
        "colab": {
          "base_uri": "https://localhost:8080/"
        },
        "id": "dbqMp2dQqB49",
        "outputId": "f5e60ac5-1e58-4212-a5c2-1877d74a91f7"
      },
      "outputs": [
        {
          "output_type": "stream",
          "name": "stdout",
          "text": [
            "{'b': 2}\n",
            "{'b': 2}\n"
          ]
        }
      ],
      "source": [
        "# Create a dictionary from another dictionary\n",
        "original_dict = {'a': 1, 'b': 2, 'c': 3}\n",
        "new_dict = {key: value for key, value in original_dict.items() if value % 2 == 0}\n",
        "print(new_dict)\n",
        "\n",
        "# Create a dictionary from a list of key-value pairs\n",
        "pairs = [('a', 1), ('b', 2), ('c', 3)]\n",
        "new_dict = {key: value for key, value in pairs if value % 2 == 0}\n",
        "print(new_dict)"
      ]
    },
    {
      "cell_type": "code",
      "source": [
        "# Extract specific fields from a list of dictionaries\n",
        "data = [{'name': 'John', 'age': 35, 'city': 'New York'},        \n",
        "        {'name': 'Jane', 'age': 28, 'city': 'London'},        \n",
        "        {'name': 'Jim', 'age': 42, 'city': 'Paris'}]\n",
        "\n",
        "names = {d['name']: d['age'] for d in data}\n",
        "print(names)\n",
        "# Convert a list of strings into a dictionary mapping each string to its length\n",
        "words = ['dog', 'cat', 'elephant', 'giraffe']\n",
        "lengths = {word: len(word) for word in words}\n",
        "print(lengths)"
      ],
      "metadata": {
        "colab": {
          "base_uri": "https://localhost:8080/"
        },
        "id": "SPglbFmxqJNI",
        "outputId": "9d20b278-e29a-40a2-db0a-6cff398bf045"
      },
      "execution_count": 2,
      "outputs": [
        {
          "output_type": "stream",
          "name": "stdout",
          "text": [
            "{'John': 35, 'Jane': 28, 'Jim': 42}\n",
            "{'dog': 3, 'cat': 3, 'elephant': 8, 'giraffe': 7}\n"
          ]
        }
      ]
    },
    {
      "cell_type": "code",
      "source": [
        "# Group a list of numbers based on whether they are even or odd\n",
        "numbers = [1, 2, 3, 4, 5, 6, 7, 8, 9, 10]\n",
        "grouped = {'even': [n for n in numbers if n % 2 == 0],\n",
        "           'odd': [n for n in numbers if n % 2 != 0]}\n",
        "print(grouped)\n",
        "# Group a list of strings based on their first letter\n",
        "words = ['apple', 'banana', 'cherry', 'date', 'elderberry']\n",
        "grouped = {letter: [word for word in words if word[0] == letter]\n",
        "           for letter in set(word[0] for word in words)}\n",
        "print(grouped)"
      ],
      "metadata": {
        "colab": {
          "base_uri": "https://localhost:8080/"
        },
        "id": "rMfKEcauqKXC",
        "outputId": "d47f333f-6a0f-49c3-eda1-3583b95c510c"
      },
      "execution_count": 3,
      "outputs": [
        {
          "output_type": "stream",
          "name": "stdout",
          "text": [
            "{'even': [2, 4, 6, 8, 10], 'odd': [1, 3, 5, 7, 9]}\n",
            "{'c': ['cherry'], 'b': ['banana'], 'e': ['elderberry'], 'a': ['apple'], 'd': ['date']}\n"
          ]
        }
      ]
    },
    {
      "cell_type": "code",
      "source": [
        "# Count the frequency of words in a text\n",
        "text = 'the quick brown fox jumps over the lazy dog'\n",
        "words = text.split()\n",
        "frequency = {word: words.count(word) for word in set(words)}\n",
        "print(frequency)\n",
        "\n",
        "# Count the number of times each character appears in a string\n",
        "string = 'hello world'\n",
        "frequency = {char: string.count(char) for char in set(string)}\n",
        "print(frequency)"
      ],
      "metadata": {
        "colab": {
          "base_uri": "https://localhost:8080/"
        },
        "id": "02W5ZCoCqN1H",
        "outputId": "d92b841f-0e56-4346-c1d8-fe7f3815cfe4"
      },
      "execution_count": 4,
      "outputs": [
        {
          "output_type": "stream",
          "name": "stdout",
          "text": [
            "{'dog': 1, 'over': 1, 'lazy': 1, 'the': 2, 'brown': 1, 'quick': 1, 'fox': 1, 'jumps': 1}\n",
            "{'h': 1, 'l': 3, 'e': 1, 'r': 1, 'o': 2, ' ': 1, 'd': 1, 'w': 1}\n"
          ]
        }
      ]
    },
    {
      "cell_type": "code",
      "source": [
        "# mapping letters to their corresponding ASCII code\n",
        "letters_to_ascii = {letter: ord(letter) for letter in \n",
        "                    'abcdefghijklmnopqrstuvwxyz'}\n",
        "print(letters_to_ascii)\n",
        "\n",
        "# mapping countries to their capitals\n",
        "countries_to_capitals = {\n",
        "    \"United States\": \"Washington, D.C.\",\n",
        "    \"France\": \"Paris\",\n",
        "    \"Germany\": \"Berlin\",\n",
        "    \"Japan\": \"Tokyo\"\n",
        "}"
      ],
      "metadata": {
        "colab": {
          "base_uri": "https://localhost:8080/"
        },
        "id": "5rr2CwC8qQxx",
        "outputId": "63e1e3d8-13cd-402c-c818-a938c7146e6b"
      },
      "execution_count": 5,
      "outputs": [
        {
          "output_type": "stream",
          "name": "stdout",
          "text": [
            "{'a': 97, 'b': 98, 'c': 99, 'd': 100, 'e': 101, 'f': 102, 'g': 103, 'h': 104, 'i': 105, 'j': 106, 'k': 107, 'l': 108, 'm': 109, 'n': 110, 'o': 111, 'p': 112, 'q': 113, 'r': 114, 's': 115, 't': 116, 'u': 117, 'v': 118, 'w': 119, 'x': 120, 'y': 121, 'z': 122}\n"
          ]
        }
      ]
    },
    {
      "cell_type": "code",
      "source": [
        "# inverting the mapping of countries to their capitals\n",
        "capitals_to_countries = {value: key for key, value in countries_to_capitals.items()}\n",
        "print(capitals_to_countries)"
      ],
      "metadata": {
        "colab": {
          "base_uri": "https://localhost:8080/"
        },
        "id": "aVkuHMSYqSmC",
        "outputId": "cd02b715-beaf-43ca-8755-1635d94fdfac"
      },
      "execution_count": 6,
      "outputs": [
        {
          "output_type": "stream",
          "name": "stdout",
          "text": [
            "{'Washington, D.C.': 'United States', 'Paris': 'France', 'Berlin': 'Germany', 'Tokyo': 'Japan'}\n"
          ]
        }
      ]
    },
    {
      "cell_type": "code",
      "source": [
        "# d = {'a': 1, 'b': 2}\n",
        "# keys = d.viewkeys()\n",
        "# values = d.viewvalues()\n",
        "# items = d.viewitems()\n",
        "\n",
        "# # Modify the dictionary\n",
        "# d['c'] = 3\n",
        "\n",
        "# # The views are updated to reflect the changes\n",
        "# print(keys)\n",
        "# print(values)\n",
        "# print(items)"
      ],
      "metadata": {
        "id": "o0fXE0XZqTsO"
      },
      "execution_count": 8,
      "outputs": []
    },
    {
      "cell_type": "code",
      "source": [
        "d = {'a': 1, 'b': 2}\n",
        "\n",
        "# Use get() method to access a key with a default value\n",
        "print(d.get('a', 0)) # 1\n",
        "print(d.get('c', 0)) # 0"
      ],
      "metadata": {
        "colab": {
          "base_uri": "https://localhost:8080/"
        },
        "id": "l1kkNhZDqWmt",
        "outputId": "785c5082-4d23-430b-c33f-97a4fd7a3f84"
      },
      "execution_count": 9,
      "outputs": [
        {
          "output_type": "stream",
          "name": "stdout",
          "text": [
            "1\n",
            "0\n"
          ]
        }
      ]
    },
    {
      "cell_type": "code",
      "source": [
        "d = {'a': 1, 'b': 2}\n",
        "print(d.get('a'))\n",
        "print(d.get('c', 0))\n",
        "print(d['c'], 0)"
      ],
      "metadata": {
        "colab": {
          "base_uri": "https://localhost:8080/",
          "height": 232
        },
        "id": "R01RbEccqZ7I",
        "outputId": "f02a817b-9c66-4e34-e866-f35d41bd6877"
      },
      "execution_count": 10,
      "outputs": [
        {
          "output_type": "stream",
          "name": "stdout",
          "text": [
            "1\n",
            "0\n"
          ]
        },
        {
          "output_type": "error",
          "ename": "KeyError",
          "evalue": "ignored",
          "traceback": [
            "\u001b[0;31m---------------------------------------------------------------------------\u001b[0m",
            "\u001b[0;31mKeyError\u001b[0m                                  Traceback (most recent call last)",
            "\u001b[0;32m<ipython-input-10-ca82ea369a65>\u001b[0m in \u001b[0;36m<cell line: 4>\u001b[0;34m()\u001b[0m\n\u001b[1;32m      2\u001b[0m \u001b[0mprint\u001b[0m\u001b[0;34m(\u001b[0m\u001b[0md\u001b[0m\u001b[0;34m.\u001b[0m\u001b[0mget\u001b[0m\u001b[0;34m(\u001b[0m\u001b[0;34m'a'\u001b[0m\u001b[0;34m)\u001b[0m\u001b[0;34m)\u001b[0m\u001b[0;34m\u001b[0m\u001b[0;34m\u001b[0m\u001b[0m\n\u001b[1;32m      3\u001b[0m \u001b[0mprint\u001b[0m\u001b[0;34m(\u001b[0m\u001b[0md\u001b[0m\u001b[0;34m.\u001b[0m\u001b[0mget\u001b[0m\u001b[0;34m(\u001b[0m\u001b[0;34m'c'\u001b[0m\u001b[0;34m,\u001b[0m \u001b[0;36m0\u001b[0m\u001b[0;34m)\u001b[0m\u001b[0;34m)\u001b[0m\u001b[0;34m\u001b[0m\u001b[0;34m\u001b[0m\u001b[0m\n\u001b[0;32m----> 4\u001b[0;31m \u001b[0mprint\u001b[0m\u001b[0;34m(\u001b[0m\u001b[0md\u001b[0m\u001b[0;34m[\u001b[0m\u001b[0;34m'c'\u001b[0m\u001b[0;34m]\u001b[0m\u001b[0;34m,\u001b[0m \u001b[0;36m0\u001b[0m\u001b[0;34m)\u001b[0m\u001b[0;34m\u001b[0m\u001b[0;34m\u001b[0m\u001b[0m\n\u001b[0m",
            "\u001b[0;31mKeyError\u001b[0m: 'c'"
          ]
        }
      ]
    },
    {
      "cell_type": "code",
      "source": [
        "d = {'a': 1, 'b': 2}\n",
        "\n",
        "# Use setdefault() method to access a key with a default value\n",
        "print(d.setdefault('a', 0))\n",
        "print(d)\n",
        "\n",
        "print(d.setdefault('c', 0))\n",
        "print(d)"
      ],
      "metadata": {
        "colab": {
          "base_uri": "https://localhost:8080/"
        },
        "id": "PBfmmVifqd3K",
        "outputId": "395a3e34-fb80-4d3f-8092-305274ea909c"
      },
      "execution_count": 11,
      "outputs": [
        {
          "output_type": "stream",
          "name": "stdout",
          "text": [
            "1\n",
            "{'a': 1, 'b': 2}\n",
            "0\n",
            "{'a': 1, 'b': 2, 'c': 0}\n"
          ]
        }
      ]
    },
    {
      "cell_type": "code",
      "source": [
        "from collections import defaultdict\n",
        "\n",
        "# Create a defaultdict\n",
        "dd = defaultdict(int)\n",
        "print(dd['not_present'])\n",
        "\n",
        "# Use a defaultdict with a lambda function as the default factory\n",
        "dd = defaultdict(lambda: 'default_value')\n",
        "print(dd['not_present'])"
      ],
      "metadata": {
        "colab": {
          "base_uri": "https://localhost:8080/"
        },
        "id": "ucmqVUvzqgrq",
        "outputId": "b039c97c-7f97-40d0-c589-160f86fb3a51"
      },
      "execution_count": 12,
      "outputs": [
        {
          "output_type": "stream",
          "name": "stdout",
          "text": [
            "0\n",
            "default_value\n"
          ]
        }
      ]
    },
    {
      "cell_type": "code",
      "source": [
        "from collections import defaultdict\n",
        "\n",
        "d = defaultdict(int)\n",
        "\n",
        "d['a'] = 1\n",
        "d['b'] = 2\n",
        "\n",
        "# Accessing keys that are not present in the defaultdict\n",
        "print(d['c'])"
      ],
      "metadata": {
        "colab": {
          "base_uri": "https://localhost:8080/"
        },
        "id": "cXtIoMe3qifh",
        "outputId": "d3792d5d-bff3-42d2-9f47-efcddb2a9c66"
      },
      "execution_count": 13,
      "outputs": [
        {
          "output_type": "stream",
          "name": "stdout",
          "text": [
            "0\n"
          ]
        }
      ]
    },
    {
      "cell_type": "code",
      "source": [
        "from collections import defaultdict\n",
        "\n",
        "# Example 1: using defaultdict to initialize keys with default values\n",
        "d = defaultdict(int) # Initialize defaultdict with default value 0\n",
        "\n",
        "d['a'] = 1\n",
        "d['b'] = 2\n",
        "\n",
        "print(d['a']) # 1\n",
        "print(d['b']) # 2\n",
        "print(d['c']) # 0 (default value)\n",
        "\n",
        "# Example 2: using defaultdict with a custom default value\n",
        "d = defaultdict(lambda: 'not found') # Initialize defaultdict with custom default value\n",
        "\n",
        "d['a'] = 1\n",
        "d['b'] = 2\n",
        "\n",
        "print(d['a']) # 1\n",
        "print(d['b']) # 2\n",
        "print(d['c']) # 'not found' (default value)\n",
        "\n",
        "# Example 3: using defaultdict to keep count of items\n",
        "words = ['apple', 'banana', 'apple', 'orange', 'banana', 'apple']\n",
        "word_count = defaultdict(int) # Initialize defaultdict with default value 0\n",
        "\n",
        "for word in words:\n",
        "    word_count[word] += 1\n",
        "\n",
        "print(word_count)"
      ],
      "metadata": {
        "colab": {
          "base_uri": "https://localhost:8080/"
        },
        "id": "ADj0Ap69qk2d",
        "outputId": "74f78ce6-2dc7-4fa3-9051-80431efade10"
      },
      "execution_count": 14,
      "outputs": [
        {
          "output_type": "stream",
          "name": "stdout",
          "text": [
            "1\n",
            "2\n",
            "0\n",
            "1\n",
            "2\n",
            "not found\n",
            "defaultdict(<class 'int'>, {'apple': 3, 'banana': 2, 'orange': 1})\n"
          ]
        }
      ]
    },
    {
      "cell_type": "code",
      "source": [
        "from collections import Counter\n",
        "\n",
        "# Create a Counter from a list\n",
        "c = Counter([1, 2, 2, 3, 3, 3, 4, 4, 4, 4])\n",
        "print(c)\n",
        "\n",
        "# Use a Counter to count items in a string\n",
        "c = Counter('hello world')\n",
        "print(c)"
      ],
      "metadata": {
        "colab": {
          "base_uri": "https://localhost:8080/"
        },
        "id": "zVLYswXtqnQ8",
        "outputId": "48b4ba13-5a51-4a1b-f467-56bbdfc157e6"
      },
      "execution_count": 15,
      "outputs": [
        {
          "output_type": "stream",
          "name": "stdout",
          "text": [
            "Counter({4: 4, 3: 3, 2: 2, 1: 1})\n",
            "Counter({'l': 3, 'o': 2, 'h': 1, 'e': 1, ' ': 1, 'w': 1, 'r': 1, 'd': 1})\n"
          ]
        }
      ]
    },
    {
      "cell_type": "code",
      "source": [
        "# Merge dictionaries using the update() method\n",
        "d1 = {'a': 1, 'b': 2}\n",
        "d2 = {'b': 3, 'c': 4}\n",
        "d1.update(d2)\n",
        "print(d1)\n",
        "\n",
        "# Merge dictionaries using the ** operator\n",
        "d1 = {'a': 1, 'b': 2}\n",
        "d2 = {'b': 3, 'c': 4}\n",
        "d3 = {**d1, **d2}\n",
        "print(d3)\n",
        "\n",
        "# Merge dictionaries using the dict() constructor\n",
        "d1 = {'a': 1, 'b': 2}\n",
        "d2 = {'b': 3, 'c': 4}\n",
        "d3 = dict(d1, **d2)\n",
        "print(d3)"
      ],
      "metadata": {
        "colab": {
          "base_uri": "https://localhost:8080/"
        },
        "id": "pnsOstm_qqRl",
        "outputId": "cff29df1-3afe-4344-b586-c87a7cda45d9"
      },
      "execution_count": 16,
      "outputs": [
        {
          "output_type": "stream",
          "name": "stdout",
          "text": [
            "{'a': 1, 'b': 3, 'c': 4}\n",
            "{'a': 1, 'b': 3, 'c': 4}\n",
            "{'a': 1, 'b': 3, 'c': 4}\n"
          ]
        }
      ]
    },
    {
      "cell_type": "code",
      "source": [
        "# Sort a dictionary by keys\n",
        "d = {'a': 1, 'b': 3, 'c': 2}\n",
        "sorted_dict = dict(sorted(d.items()))\n",
        "print(sorted_dict)\n",
        "\n",
        "# Sort a dictionary by values\n",
        "d = {'a': 1, 'b': 3, 'c': 2}\n",
        "sorted_dict = dict(sorted(d.items(), key=lambda item: item[1]))\n",
        "print(sorted_dict)"
      ],
      "metadata": {
        "colab": {
          "base_uri": "https://localhost:8080/"
        },
        "id": "aX9NzIoqqstq",
        "outputId": "64e5b0d9-fc5d-401d-ff34-eb8143766d87"
      },
      "execution_count": 17,
      "outputs": [
        {
          "output_type": "stream",
          "name": "stdout",
          "text": [
            "{'a': 1, 'b': 3, 'c': 2}\n",
            "{'a': 1, 'c': 2, 'b': 3}\n"
          ]
        }
      ]
    },
    {
      "cell_type": "code",
      "source": [
        "from collections import namedtuple\n",
        "\n",
        "# Create a named tuple\n",
        "Person = namedtuple('Person', ['name', 'age'])\n",
        "person = Person('John', 30)\n",
        "print(person.name)\n",
        "print(person.age)"
      ],
      "metadata": {
        "colab": {
          "base_uri": "https://localhost:8080/"
        },
        "id": "WNNB4ncCqu1T",
        "outputId": "bb54aec4-6f03-41fe-b8b4-4d64a34156f0"
      },
      "execution_count": 18,
      "outputs": [
        {
          "output_type": "stream",
          "name": "stdout",
          "text": [
            "John\n",
            "30\n"
          ]
        }
      ]
    },
    {
      "cell_type": "code",
      "source": [
        "# Store multiple values using lists\n",
        "d = {'a': [1, 2, 3], 'b': [4, 5, 6]}\n",
        "print(d)\n",
        "\n",
        "# Store multiple values using sets\n",
        "d = {'a': {1, 2, 3}, 'b': {4, 5, 6}}\n",
        "print(d)\n",
        "\n",
        "# Store multiple values using dictionaries\n",
        "d = {'a': {'x': 1, 'y': 2}, 'b': {'x': 3, 'y': 4}}\n",
        "print(d)"
      ],
      "metadata": {
        "colab": {
          "base_uri": "https://localhost:8080/"
        },
        "id": "i1dVYxehqw10",
        "outputId": "0aa991b1-bdcb-4e52-a7a0-1a7ba72abad3"
      },
      "execution_count": 19,
      "outputs": [
        {
          "output_type": "stream",
          "name": "stdout",
          "text": [
            "{'a': [1, 2, 3], 'b': [4, 5, 6]}\n",
            "{'a': {1, 2, 3}, 'b': {4, 5, 6}}\n",
            "{'a': {'x': 1, 'y': 2}, 'b': {'x': 3, 'y': 4}}\n"
          ]
        }
      ]
    },
    {
      "cell_type": "code",
      "source": [
        "from collections import OrderedDict\n",
        "\n",
        "# Create a regular dictionary\n",
        "d = {'banana': 3, 'apple': 4, 'pear': 1, 'orange': 2}\n",
        "\n",
        "# Create an OrderedDict from the regular dictionary\n",
        "od = OrderedDict(d)\n",
        "\n",
        "# Iterate over the items in the OrderedDict\n",
        "for key, value in od.items():\n",
        "    print(key, value)"
      ],
      "metadata": {
        "colab": {
          "base_uri": "https://localhost:8080/"
        },
        "id": "WdFOOP7Lqzgd",
        "outputId": "de51625d-28cd-4c79-9085-850541a448de"
      },
      "execution_count": 20,
      "outputs": [
        {
          "output_type": "stream",
          "name": "stdout",
          "text": [
            "banana 3\n",
            "apple 4\n",
            "pear 1\n",
            "orange 2\n"
          ]
        }
      ]
    },
    {
      "cell_type": "code",
      "source": [
        "from collections import OrderedDict\n",
        "\n",
        "# Create a dictionary of numbers\n",
        "d = {'one': 1, 'three': 3, 'four': 4, 'two': 2}\n",
        "\n",
        "# Sort the dictionary by key\n",
        "od = OrderedDict(sorted(d.items(), key=lambda t: t[0]))\n",
        "\n",
        "# Sort the dictionary by value\n",
        "od2 = OrderedDict(sorted(d.items(), key=lambda t: t[1]))\n",
        "\n",
        "# Print the sorted dictionaries\n",
        "print(od)\n",
        "print(od2)"
      ],
      "metadata": {
        "colab": {
          "base_uri": "https://localhost:8080/"
        },
        "id": "ocrAXuQ6q0sl",
        "outputId": "b779d2a2-141c-4087-ad13-fecf6246403a"
      },
      "execution_count": 21,
      "outputs": [
        {
          "output_type": "stream",
          "name": "stdout",
          "text": [
            "OrderedDict([('four', 4), ('one', 1), ('three', 3), ('two', 2)])\n",
            "OrderedDict([('one', 1), ('two', 2), ('three', 3), ('four', 4)])\n"
          ]
        }
      ]
    }
  ]
}
