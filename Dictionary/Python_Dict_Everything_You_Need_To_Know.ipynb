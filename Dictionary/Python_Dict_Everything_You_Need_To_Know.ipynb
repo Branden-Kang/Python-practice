{
  "nbformat": 4,
  "nbformat_minor": 0,
  "metadata": {
    "colab": {
      "provenance": [],
      "authorship_tag": "ABX9TyNJ0MZ+1Bnr85ZFTZ3Icqjj"
    },
    "kernelspec": {
      "name": "python3",
      "display_name": "Python 3"
    },
    "language_info": {
      "name": "python"
    }
  },
  "cells": [
    {
      "cell_type": "markdown",
      "source": [
        "[Reference](https://levelup.gitconnected.com/python-dict-everything-you-need-to-know-62837efdbc62)"
      ],
      "metadata": {
        "id": "0oId4j1x6ifj"
      }
    },
    {
      "cell_type": "markdown",
      "source": [
        "# 1. Dict Concept and Definition"
      ],
      "metadata": {
        "id": "GgsWhb4M6l4E"
      }
    },
    {
      "cell_type": "code",
      "execution_count": 1,
      "metadata": {
        "id": "GAdpg0ey6ZBu"
      },
      "outputs": [],
      "source": [
        "personDict = {\"name\": \"Alice\", \"age\": 20, \"sex\": \"female\"}"
      ]
    },
    {
      "cell_type": "markdown",
      "source": [
        "# 2. Initialisation of dict"
      ],
      "metadata": {
        "id": "Tv1Uy9w96n7H"
      }
    },
    {
      "cell_type": "code",
      "source": [
        "emptyDict = {}"
      ],
      "metadata": {
        "id": "_hsTAzVp6mK_"
      },
      "execution_count": 2,
      "outputs": []
    },
    {
      "cell_type": "code",
      "source": [
        "personDict = {\"name\": \"Alice\", \"age\": 20, \"sex\": \"female\"}"
      ],
      "metadata": {
        "id": "pafaWjBi6nBO"
      },
      "execution_count": 3,
      "outputs": []
    },
    {
      "cell_type": "markdown",
      "source": [
        "# 3. Dict operations"
      ],
      "metadata": {
        "id": "K3HGhczN6pSd"
      }
    },
    {
      "cell_type": "code",
      "source": [
        "personDict = {}\n",
        "personDict['height'] = 170\n",
        "print(personDict['height']) # 170"
      ],
      "metadata": {
        "colab": {
          "base_uri": "https://localhost:8080/"
        },
        "id": "4MQ9oRrH6pCO",
        "outputId": "d5641b47-7623-4719-a7cf-85684ec3aa3b"
      },
      "execution_count": 4,
      "outputs": [
        {
          "output_type": "stream",
          "name": "stdout",
          "text": [
            "170\n"
          ]
        }
      ]
    },
    {
      "cell_type": "code",
      "source": [
        "personDict = {'name': 'Alice', 'age': 20, 'sex': \"female\"}\n",
        "print(personDict['name']) # Alice\n",
        "print(personDict['age']) # 20\n",
        "print(personDict['sex']) # female"
      ],
      "metadata": {
        "colab": {
          "base_uri": "https://localhost:8080/"
        },
        "id": "yIy4OuJQ6qhx",
        "outputId": "f45164a0-418f-43f9-ac81-85118cfb4aef"
      },
      "execution_count": 5,
      "outputs": [
        {
          "output_type": "stream",
          "name": "stdout",
          "text": [
            "Alice\n",
            "20\n",
            "female\n"
          ]
        }
      ]
    },
    {
      "cell_type": "code",
      "source": [
        "personDict = {'name': 'Alice', 'age': 20, 'sex': \"female\"}\n",
        "personDict['age'] = 21\n",
        "print(personDict)"
      ],
      "metadata": {
        "colab": {
          "base_uri": "https://localhost:8080/"
        },
        "id": "a-wkxsCB6riM",
        "outputId": "d87e1d46-86b1-4501-baca-0cd41a272a87"
      },
      "execution_count": 6,
      "outputs": [
        {
          "output_type": "stream",
          "name": "stdout",
          "text": [
            "{'name': 'Alice', 'age': 21, 'sex': 'female'}\n"
          ]
        }
      ]
    },
    {
      "cell_type": "code",
      "source": [
        "personDict = {'name': 'Alice', 'age': 20, 'sex': \"female\"}\n",
        "del personDict['sex']\n",
        "print(personDict)"
      ],
      "metadata": {
        "colab": {
          "base_uri": "https://localhost:8080/"
        },
        "id": "b4u1ME-H6su5",
        "outputId": "aa826dd5-aea7-4004-fea6-af6db3c70cf9"
      },
      "execution_count": 7,
      "outputs": [
        {
          "output_type": "stream",
          "name": "stdout",
          "text": [
            "{'name': 'Alice', 'age': 20}\n"
          ]
        }
      ]
    },
    {
      "cell_type": "code",
      "source": [
        "personDict = {'name': 'Alice', 'age': 20, 'sex': \"female\"}\n",
        "personDict.clear() # clear all key-value pairs\n",
        "print(personDict)"
      ],
      "metadata": {
        "colab": {
          "base_uri": "https://localhost:8080/"
        },
        "id": "AIhqcZA-6tud",
        "outputId": "53cfdda2-5db2-41a7-a10d-78f7d2be892b"
      },
      "execution_count": 8,
      "outputs": [
        {
          "output_type": "stream",
          "name": "stdout",
          "text": [
            "{}\n"
          ]
        }
      ]
    },
    {
      "cell_type": "markdown",
      "source": [
        "# 4. Transverse dict key-value pairs"
      ],
      "metadata": {
        "id": "ei4ZZyzZ6vgf"
      }
    },
    {
      "cell_type": "code",
      "source": [
        "personDict = {'name': 'Alice', 'age': 20, 'sex': \"female\"}\n",
        "# Transverse dict key-value pairs with key\n",
        "for key in personDict:\n",
        "    print(key, personDict[key])"
      ],
      "metadata": {
        "colab": {
          "base_uri": "https://localhost:8080/"
        },
        "id": "fdm9gS_C6uyZ",
        "outputId": "5675eadf-da78-49e9-8ceb-da6edb8b1861"
      },
      "execution_count": 9,
      "outputs": [
        {
          "output_type": "stream",
          "name": "stdout",
          "text": [
            "name Alice\n",
            "age 20\n",
            "sex female\n"
          ]
        }
      ]
    },
    {
      "cell_type": "code",
      "source": [
        "personDict = {'name': 'Alice', 'age': 20, 'sex': \"female\"}\n",
        "# Transverse dict key-value pairs with value\n",
        "for value in personDict.values():\n",
        "    print(value)"
      ],
      "metadata": {
        "colab": {
          "base_uri": "https://localhost:8080/"
        },
        "id": "7qcL2LsF6weq",
        "outputId": "753e2803-fc83-4009-fde0-94079e1514ae"
      },
      "execution_count": 10,
      "outputs": [
        {
          "output_type": "stream",
          "name": "stdout",
          "text": [
            "Alice\n",
            "20\n",
            "female\n"
          ]
        }
      ]
    },
    {
      "cell_type": "code",
      "source": [
        "personDict = {'name': 'Alice', 'age': 20, 'sex': \"female\"}\n",
        "\n",
        "# Transverse dict key-value pairs with key-value pair with tuple\n",
        "for items in personDict.items():\n",
        "    print(items)\n",
        "\n",
        "\n",
        "# Transverse dict key-value pairs with key-value pair with tuple de-constructed\n",
        "for key, value in personDict.items():\n",
        "    print(key, value)"
      ],
      "metadata": {
        "colab": {
          "base_uri": "https://localhost:8080/"
        },
        "id": "uQ5rcng56xyf",
        "outputId": "4692478e-c4ea-4eac-b313-b42bf5e192ee"
      },
      "execution_count": 11,
      "outputs": [
        {
          "output_type": "stream",
          "name": "stdout",
          "text": [
            "('name', 'Alice')\n",
            "('age', 20)\n",
            "('sex', 'female')\n",
            "name Alice\n",
            "age 20\n",
            "sex female\n"
          ]
        }
      ]
    }
  ]
}
