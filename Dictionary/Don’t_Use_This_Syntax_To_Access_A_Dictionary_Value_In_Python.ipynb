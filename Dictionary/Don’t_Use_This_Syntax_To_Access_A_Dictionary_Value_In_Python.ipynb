{
  "nbformat": 4,
  "nbformat_minor": 0,
  "metadata": {
    "colab": {
      "provenance": [],
      "authorship_tag": "ABX9TyPk4RMEF4VwpnPngRmbXhKG"
    },
    "kernelspec": {
      "name": "python3",
      "display_name": "Python 3"
    },
    "language_info": {
      "name": "python"
    }
  },
  "cells": [
    {
      "cell_type": "markdown",
      "source": [
        "[Reference](https://amir-tech.medium.com/dont-use-this-syntax-to-access-a-dictionary-value-in-python-fe3cd73ef82d)"
      ],
      "metadata": {
        "id": "FeiUXATBUlf1"
      }
    },
    {
      "cell_type": "code",
      "execution_count": 1,
      "metadata": {
        "colab": {
          "base_uri": "https://localhost:8080/"
        },
        "id": "3sIl2MgvUhim",
        "outputId": "21d07201-5f4d-40b1-b960-1e637d1f792d"
      },
      "outputs": [
        {
          "output_type": "stream",
          "name": "stdout",
          "text": [
            "False\n"
          ]
        }
      ],
      "source": [
        "city = {\n",
        "      'name' : 'New York',\n",
        "      'country' : 'The United States',\n",
        "      'is_capital' : False,\n",
        "      'population' : 8.468 \n",
        "}\n",
        "\n",
        "x = city['is_capital']\n",
        "print(x)"
      ]
    },
    {
      "cell_type": "code",
      "source": [
        "x = city['area']\n",
        "print(x)"
      ],
      "metadata": {
        "colab": {
          "base_uri": "https://localhost:8080/",
          "height": 181
        },
        "id": "U9BsaaQxUnec",
        "outputId": "59cb141e-20d2-4ced-ca43-bc2123a94e90"
      },
      "execution_count": 2,
      "outputs": [
        {
          "output_type": "error",
          "ename": "KeyError",
          "evalue": "ignored",
          "traceback": [
            "\u001b[0;31m---------------------------------------------------------------------------\u001b[0m",
            "\u001b[0;31mKeyError\u001b[0m                                  Traceback (most recent call last)",
            "\u001b[0;32m<ipython-input-2-6d4781f3c243>\u001b[0m in \u001b[0;36m<module>\u001b[0;34m\u001b[0m\n\u001b[0;32m----> 1\u001b[0;31m \u001b[0mx\u001b[0m \u001b[0;34m=\u001b[0m \u001b[0mcity\u001b[0m\u001b[0;34m[\u001b[0m\u001b[0;34m'area'\u001b[0m\u001b[0;34m]\u001b[0m\u001b[0;34m\u001b[0m\u001b[0;34m\u001b[0m\u001b[0m\n\u001b[0m\u001b[1;32m      2\u001b[0m \u001b[0mprint\u001b[0m\u001b[0;34m(\u001b[0m\u001b[0mx\u001b[0m\u001b[0;34m)\u001b[0m\u001b[0;34m\u001b[0m\u001b[0;34m\u001b[0m\u001b[0m\n",
            "\u001b[0;31mKeyError\u001b[0m: 'area'"
          ]
        }
      ]
    },
    {
      "cell_type": "code",
      "source": [
        "x = city.get('area')\n",
        "print(x)"
      ],
      "metadata": {
        "id": "PNQLQJ-lUp7V",
        "outputId": "3b518867-91dd-444f-86ae-d2de9f88814d",
        "colab": {
          "base_uri": "https://localhost:8080/"
        }
      },
      "execution_count": 3,
      "outputs": [
        {
          "output_type": "stream",
          "name": "stdout",
          "text": [
            "None\n"
          ]
        }
      ]
    },
    {
      "cell_type": "code",
      "source": [
        "x = city.get('area', 0)\n",
        "print(x)"
      ],
      "metadata": {
        "id": "4nbIfIOzUqH_",
        "outputId": "6825c017-546a-49ef-9602-e6d73fb97f53",
        "colab": {
          "base_uri": "https://localhost:8080/"
        }
      },
      "execution_count": 4,
      "outputs": [
        {
          "output_type": "stream",
          "name": "stdout",
          "text": [
            "0\n"
          ]
        }
      ]
    }
  ]
}
