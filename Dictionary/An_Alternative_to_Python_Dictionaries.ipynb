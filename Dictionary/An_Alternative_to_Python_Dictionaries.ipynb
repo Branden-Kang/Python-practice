{
  "nbformat": 4,
  "nbformat_minor": 0,
  "metadata": {
    "colab": {
      "name": "An Alternative to Python Dictionaries.ipynb",
      "provenance": [],
      "authorship_tag": "ABX9TyMkaAMsmJqSu9SVenoLaNYl"
    },
    "kernelspec": {
      "name": "python3",
      "display_name": "Python 3"
    },
    "language_info": {
      "name": "python"
    }
  },
  "cells": [
    {
      "cell_type": "markdown",
      "metadata": {
        "id": "dMMoSshpRJrp"
      },
      "source": [
        "[Reference](https://betterprogramming.pub/an-alternative-to-python-dictionaries-5d54aa4c5a6)"
      ]
    },
    {
      "cell_type": "code",
      "metadata": {
        "id": "knwtgBEPQL4l"
      },
      "source": [
        "number_list = [7, 2, 2, 4, 2, 5, 7, 10, 2, 9, 2, 8, 5 ,3 ,4,\n",
        "               2, 4, 2, 4, 8, 2, 1, 2, 5, 6, 7, 9, 4, 1, 8]"
      ],
      "execution_count": 1,
      "outputs": []
    },
    {
      "cell_type": "code",
      "metadata": {
        "colab": {
          "base_uri": "https://localhost:8080/"
        },
        "id": "gI4cG9TfRWwb",
        "outputId": "7baa4ecb-a750-487a-8704-3a633f808c5c"
      },
      "source": [
        "dict_ = {}\n",
        "\n",
        "for number in number_list:\n",
        "    if number not in dict_:\n",
        "        dict_[number] = 0\n",
        "\n",
        "    dict_[number] += 1\n",
        "\n",
        "print(dict_)"
      ],
      "execution_count": 2,
      "outputs": [
        {
          "output_type": "stream",
          "text": [
            "{7: 3, 2: 9, 4: 5, 5: 3, 10: 1, 9: 2, 8: 3, 3: 1, 1: 2, 6: 1}\n"
          ],
          "name": "stdout"
        }
      ]
    },
    {
      "cell_type": "code",
      "metadata": {
        "id": "rFi9ntsrRfjj"
      },
      "source": [
        "if number not in dict_:\n",
        "    dict_[number] = 0"
      ],
      "execution_count": 3,
      "outputs": []
    },
    {
      "cell_type": "code",
      "metadata": {
        "id": "ZuMLMb7cRhnd"
      },
      "source": [
        "mydict = {}"
      ],
      "execution_count": 4,
      "outputs": []
    },
    {
      "cell_type": "code",
      "metadata": {
        "colab": {
          "base_uri": "https://localhost:8080/",
          "height": 198
        },
        "id": "SLGGCGvpRjGM",
        "outputId": "579106ab-e7c9-4009-9ad6-77df4c1c33e4"
      },
      "source": [
        "mydict[1]"
      ],
      "execution_count": 5,
      "outputs": [
        {
          "output_type": "error",
          "ename": "KeyError",
          "evalue": "ignored",
          "traceback": [
            "\u001b[0;31m---------------------------------------------------------------------------\u001b[0m",
            "\u001b[0;31mKeyError\u001b[0m                                  Traceback (most recent call last)",
            "\u001b[0;32m<ipython-input-5-e03230665914>\u001b[0m in \u001b[0;36m<module>\u001b[0;34m()\u001b[0m\n\u001b[0;32m----> 1\u001b[0;31m \u001b[0mmydict\u001b[0m\u001b[0;34m[\u001b[0m\u001b[0;36m1\u001b[0m\u001b[0;34m]\u001b[0m\u001b[0;34m\u001b[0m\u001b[0;34m\u001b[0m\u001b[0m\n\u001b[0m",
            "\u001b[0;31mKeyError\u001b[0m: 1"
          ]
        }
      ]
    },
    {
      "cell_type": "code",
      "metadata": {
        "id": "-xQbqjQwRj_R"
      },
      "source": [
        "from collections import defaultdict"
      ],
      "execution_count": 6,
      "outputs": []
    },
    {
      "cell_type": "code",
      "metadata": {
        "id": "NEJRgMuvRl3G"
      },
      "source": [
        "def default_value():\n",
        "    return \"Not Present Yet\""
      ],
      "execution_count": 7,
      "outputs": []
    },
    {
      "cell_type": "code",
      "metadata": {
        "id": "xM2doZogRnKU"
      },
      "source": [
        "mydict = defaultdict(default_value)"
      ],
      "execution_count": 8,
      "outputs": []
    },
    {
      "cell_type": "code",
      "metadata": {
        "id": "nBeXUgVLRoZl"
      },
      "source": [
        "mydict[\"cat\"] = 2\n",
        "mydict[\"dog\"] = 4"
      ],
      "execution_count": 10,
      "outputs": []
    },
    {
      "cell_type": "code",
      "metadata": {
        "colab": {
          "base_uri": "https://localhost:8080/"
        },
        "id": "0Ubw3rDqRpTr",
        "outputId": "d42da34f-e7f9-487d-f0bb-e9fc63525436"
      },
      "source": [
        "print(mydict[\"cat\"])\n",
        "print(mydict[\"dog\"])"
      ],
      "execution_count": 12,
      "outputs": [
        {
          "output_type": "stream",
          "text": [
            "2\n",
            "4\n"
          ],
          "name": "stdout"
        }
      ]
    },
    {
      "cell_type": "code",
      "metadata": {
        "colab": {
          "base_uri": "https://localhost:8080/"
        },
        "id": "t6bHxaGzRrIT",
        "outputId": "423b56d4-1daa-4e26-8bea-1c7ca0100216"
      },
      "source": [
        "print(mydict[\"pig\"])\n",
        "print(mydict[\"rabbit\"])"
      ],
      "execution_count": 13,
      "outputs": [
        {
          "output_type": "stream",
          "text": [
            "Not Present Yet\n",
            "Not Present Yet\n"
          ],
          "name": "stdout"
        }
      ]
    },
    {
      "cell_type": "code",
      "metadata": {
        "colab": {
          "base_uri": "https://localhost:8080/"
        },
        "id": "dd8NqwxQRtit",
        "outputId": "c37295d5-ed1d-4b4a-f641-ed28f3fe8283"
      },
      "source": [
        "dict_ = defaultdict(lambda: 0)\n",
        "\n",
        "for number in number_list:\n",
        "    dict_[number] += 1\n",
        "\n",
        "print(dict_)"
      ],
      "execution_count": 14,
      "outputs": [
        {
          "output_type": "stream",
          "text": [
            "defaultdict(<function <lambda> at 0x7f5cc4441290>, {7: 3, 2: 9, 4: 5, 5: 3, 10: 1, 9: 2, 8: 3, 3: 1, 1: 2, 6: 1})\n"
          ],
          "name": "stdout"
        }
      ]
    }
  ]
}