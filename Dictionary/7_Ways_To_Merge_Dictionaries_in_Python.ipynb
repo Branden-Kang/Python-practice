{
  "nbformat": 4,
  "nbformat_minor": 0,
  "metadata": {
    "colab": {
      "name": "7 Ways To Merge Dictionaries in Python.ipynb",
      "provenance": [],
      "authorship_tag": "ABX9TyOOv9Pt2ATweuyJbMXpvB9T"
    },
    "kernelspec": {
      "name": "python3",
      "display_name": "Python 3"
    }
  },
  "cells": [
    {
      "cell_type": "code",
      "metadata": {
        "colab": {
          "base_uri": "https://localhost:8080/"
        },
        "id": "VvPW636C0XHl",
        "outputId": "afa83ccd-b8dc-43d5-8d25-1a7a8cf6098d"
      },
      "source": [
        "cities_1 = {'New York City': 'US', 'Los Angeles': 'US'}\n",
        "cities_2 = {'London': 'UK', 'Birmingham': 'UK'}\n",
        "\n",
        "cities_1['London'] = 'UK'\n",
        "cities_1['Birmingham'] = 'UK'\n",
        "print(cities_1)"
      ],
      "execution_count": 1,
      "outputs": [
        {
          "output_type": "stream",
          "text": [
            "{'New York City': 'US', 'Los Angeles': 'US', 'London': 'UK', 'Birmingham': 'UK'}\n"
          ],
          "name": "stdout"
        }
      ]
    },
    {
      "cell_type": "code",
      "metadata": {
        "colab": {
          "base_uri": "https://localhost:8080/"
        },
        "id": "F2L-vWfn0a5F",
        "outputId": "0944551e-a248-417c-f0da-45a7dcbb818a"
      },
      "source": [
        "cities_1 = {'New York City': 'US', 'Los Angeles': 'US'}\n",
        "cities_2 = {'London': 'UK', 'Birmingham': 'UK'}\n",
        "\n",
        "cities_1.update(cities_2)\n",
        "print(cities_1)"
      ],
      "execution_count": 2,
      "outputs": [
        {
          "output_type": "stream",
          "text": [
            "{'New York City': 'US', 'Los Angeles': 'US', 'London': 'UK', 'Birmingham': 'UK'}\n"
          ],
          "name": "stdout"
        }
      ]
    },
    {
      "cell_type": "code",
      "metadata": {
        "colab": {
          "base_uri": "https://localhost:8080/"
        },
        "id": "D4b0psgR0cSo",
        "outputId": "dcc93a8b-0dae-475e-b622-e51849e8f143"
      },
      "source": [
        "cities_1 = {'New York City': 'US', 'Los Angeles': 'US'}\n",
        "cities_2 = {'London': 'UK', 'Birmingham': 'UK'}\n",
        "\n",
        "cities = {**cities_1, **cities_2}\n",
        "print(cities)"
      ],
      "execution_count": 3,
      "outputs": [
        {
          "output_type": "stream",
          "text": [
            "{'New York City': 'US', 'Los Angeles': 'US', 'London': 'UK', 'Birmingham': 'UK'}\n"
          ],
          "name": "stdout"
        }
      ]
    },
    {
      "cell_type": "code",
      "metadata": {
        "colab": {
          "base_uri": "https://localhost:8080/"
        },
        "id": "TjluU_Hq0ds7",
        "outputId": "e0ed6d12-1f06-49dd-ead3-87fa85b8b180"
      },
      "source": [
        "cities_us = {'New York City': 'US', 'Los Angeles': 'US'}\n",
        "cities_uk = {'London': 'UK', 'Birmingham': 'UK'}\n",
        "\n",
        "cities = {k: v for d in [cities_us, cities_uk] for k, v in d.items()}\n",
        "print(cities)"
      ],
      "execution_count": 4,
      "outputs": [
        {
          "output_type": "stream",
          "text": [
            "{'New York City': 'US', 'Los Angeles': 'US', 'London': 'UK', 'Birmingham': 'UK'}\n"
          ],
          "name": "stdout"
        }
      ]
    },
    {
      "cell_type": "code",
      "metadata": {
        "colab": {
          "base_uri": "https://localhost:8080/",
          "height": 249
        },
        "id": "FB5VWHFU0fsF",
        "outputId": "5fb1e0b8-3345-4299-e906-e94a541e7dab"
      },
      "source": [
        "cities_us = {'New York City': 'US', 'Los Angeles': 'US'}\n",
        "cities_uk = {'London': 'UK', 'Birmingham': 'UK'}\n",
        "\n",
        "cities = cities_us|cities_uk\n",
        "print(cities)"
      ],
      "execution_count": 5,
      "outputs": [
        {
          "output_type": "error",
          "ename": "TypeError",
          "evalue": "ignored",
          "traceback": [
            "\u001b[0;31m---------------------------------------------------------------------------\u001b[0m",
            "\u001b[0;31mTypeError\u001b[0m                                 Traceback (most recent call last)",
            "\u001b[0;32m<ipython-input-5-d423f408b5d3>\u001b[0m in \u001b[0;36m<module>\u001b[0;34m()\u001b[0m\n\u001b[1;32m      2\u001b[0m \u001b[0mcities_uk\u001b[0m \u001b[0;34m=\u001b[0m \u001b[0;34m{\u001b[0m\u001b[0;34m'London'\u001b[0m\u001b[0;34m:\u001b[0m \u001b[0;34m'UK'\u001b[0m\u001b[0;34m,\u001b[0m \u001b[0;34m'Birmingham'\u001b[0m\u001b[0;34m:\u001b[0m \u001b[0;34m'UK'\u001b[0m\u001b[0;34m}\u001b[0m\u001b[0;34m\u001b[0m\u001b[0;34m\u001b[0m\u001b[0m\n\u001b[1;32m      3\u001b[0m \u001b[0;34m\u001b[0m\u001b[0m\n\u001b[0;32m----> 4\u001b[0;31m \u001b[0mcities\u001b[0m \u001b[0;34m=\u001b[0m \u001b[0mcities_us\u001b[0m\u001b[0;34m|\u001b[0m\u001b[0mcities_uk\u001b[0m\u001b[0;34m\u001b[0m\u001b[0;34m\u001b[0m\u001b[0m\n\u001b[0m\u001b[1;32m      5\u001b[0m \u001b[0mprint\u001b[0m\u001b[0;34m(\u001b[0m\u001b[0mcities\u001b[0m\u001b[0;34m)\u001b[0m\u001b[0;34m\u001b[0m\u001b[0;34m\u001b[0m\u001b[0m\n",
            "\u001b[0;31mTypeError\u001b[0m: unsupported operand type(s) for |: 'dict' and 'dict'"
          ]
        }
      ]
    },
    {
      "cell_type": "code",
      "metadata": {
        "colab": {
          "base_uri": "https://localhost:8080/",
          "height": 249
        },
        "id": "3ImFr-gP0hrV",
        "outputId": "af52b311-459c-4142-90b5-21ea962db369"
      },
      "source": [
        "cities_us = {'New York City': 'US', 'Los Angeles': 'US'}\n",
        "cities_uk = {'London': 'UK', 'Birmingham': 'UK'}\n",
        "\n",
        "cities_us |= cities_uk\n",
        "print(cities_us)"
      ],
      "execution_count": 6,
      "outputs": [
        {
          "output_type": "error",
          "ename": "TypeError",
          "evalue": "ignored",
          "traceback": [
            "\u001b[0;31m---------------------------------------------------------------------------\u001b[0m",
            "\u001b[0;31mTypeError\u001b[0m                                 Traceback (most recent call last)",
            "\u001b[0;32m<ipython-input-6-e874516f3c35>\u001b[0m in \u001b[0;36m<module>\u001b[0;34m()\u001b[0m\n\u001b[1;32m      2\u001b[0m \u001b[0mcities_uk\u001b[0m \u001b[0;34m=\u001b[0m \u001b[0;34m{\u001b[0m\u001b[0;34m'London'\u001b[0m\u001b[0;34m:\u001b[0m \u001b[0;34m'UK'\u001b[0m\u001b[0;34m,\u001b[0m \u001b[0;34m'Birmingham'\u001b[0m\u001b[0;34m:\u001b[0m \u001b[0;34m'UK'\u001b[0m\u001b[0;34m}\u001b[0m\u001b[0;34m\u001b[0m\u001b[0;34m\u001b[0m\u001b[0m\n\u001b[1;32m      3\u001b[0m \u001b[0;34m\u001b[0m\u001b[0m\n\u001b[0;32m----> 4\u001b[0;31m \u001b[0mcities_us\u001b[0m \u001b[0;34m|=\u001b[0m \u001b[0mcities_uk\u001b[0m\u001b[0;34m\u001b[0m\u001b[0;34m\u001b[0m\u001b[0m\n\u001b[0m\u001b[1;32m      5\u001b[0m \u001b[0mprint\u001b[0m\u001b[0;34m(\u001b[0m\u001b[0mcities_us\u001b[0m\u001b[0;34m)\u001b[0m\u001b[0;34m\u001b[0m\u001b[0;34m\u001b[0m\u001b[0m\n",
            "\u001b[0;31mTypeError\u001b[0m: unsupported operand type(s) for |=: 'dict' and 'dict'"
          ]
        }
      ]
    },
    {
      "cell_type": "code",
      "metadata": {
        "colab": {
          "base_uri": "https://localhost:8080/"
        },
        "id": "pUS6T2Ir0j0l",
        "outputId": "56d43841-19bc-4c09-b73f-e9148dc57c8e"
      },
      "source": [
        "from collections import ChainMap\n",
        "\n",
        "cities_us = {'New York City': 'US', 'Los Angeles': 'US'}\n",
        "cities_uk = {'London': 'UK', 'Birmingham': 'UK'}\n",
        "\n",
        "cities = dict(ChainMap(cities_us, cities_uk))\n",
        "print(cities)"
      ],
      "execution_count": 7,
      "outputs": [
        {
          "output_type": "stream",
          "text": [
            "{'London': 'UK', 'Los Angeles': 'US', 'New York City': 'US', 'Birmingham': 'UK'}\n"
          ],
          "name": "stdout"
        }
      ]
    },
    {
      "cell_type": "code",
      "metadata": {
        "colab": {
          "base_uri": "https://localhost:8080/"
        },
        "id": "OI3fyX310mMj",
        "outputId": "476400d0-985b-4368-aa9d-464ed56561a0"
      },
      "source": [
        "from itertools import chain\n",
        "\n",
        "cities_us = {'New York City': 'US', 'Los Angeles': 'US'}\n",
        "cities_uk = {'London': 'UK', 'Birmingham': 'UK'}\n",
        "\n",
        "cities = dict(chain(cities_us.items(), cities_uk.items()))\n",
        "print(cities)"
      ],
      "execution_count": 8,
      "outputs": [
        {
          "output_type": "stream",
          "text": [
            "{'New York City': 'US', 'Los Angeles': 'US', 'London': 'UK', 'Birmingham': 'UK'}\n"
          ],
          "name": "stdout"
        }
      ]
    }
  ]
}