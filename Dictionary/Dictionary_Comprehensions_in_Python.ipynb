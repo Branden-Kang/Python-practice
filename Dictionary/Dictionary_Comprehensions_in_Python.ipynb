{
  "nbformat": 4,
  "nbformat_minor": 0,
  "metadata": {
    "colab": {
      "name": "Dictionary Comprehensions in Python.ipynb",
      "provenance": [],
      "authorship_tag": "ABX9TyPh9Dzi0UW0ybVTz8zWkGJG"
    },
    "kernelspec": {
      "name": "python3",
      "display_name": "Python 3"
    }
  },
  "cells": [
    {
      "cell_type": "markdown",
      "metadata": {
        "id": "62xFrf0QNywP"
      },
      "source": [
        "[Reference](https://towardsdatascience.com/dictionary-comprehensions-in-python-912a453da512)"
      ]
    },
    {
      "cell_type": "code",
      "metadata": {
        "colab": {
          "base_uri": "https://localhost:8080/"
        },
        "id": "GmqZq-M0Nu_1",
        "outputId": "8edaf1eb-58eb-479d-88cf-4910cae01097"
      },
      "source": [
        "num_list = [1,1,7,3,5,3,2,9,5,1,3,2,2,2,2,2,9]\n",
        "\n",
        "count_dict = {}\n",
        "\n",
        "for num in num_list:\n",
        "    count_dict[num] = num_list.count(num)\n",
        "    \n",
        "print(count_dict)"
      ],
      "execution_count": 1,
      "outputs": [
        {
          "output_type": "stream",
          "text": [
            "{1: 3, 7: 1, 3: 3, 5: 2, 2: 6, 9: 2}\n"
          ],
          "name": "stdout"
        }
      ]
    },
    {
      "cell_type": "code",
      "metadata": {
        "colab": {
          "base_uri": "https://localhost:8080/"
        },
        "id": "GFEe_zehN442",
        "outputId": "33043982-42bf-4918-c601-3d7ea02bf235"
      },
      "source": [
        "num_list = [1,1,7,3,5,3,2,9,5,1,3,2,2,2,2,2,9]\n",
        "\n",
        "count_dict = {num:num_list.count(num) for num in num_list}\n",
        "\n",
        "print(count_dict)"
      ],
      "execution_count": 2,
      "outputs": [
        {
          "output_type": "stream",
          "text": [
            "{1: 3, 7: 1, 3: 3, 5: 2, 2: 6, 9: 2}\n"
          ],
          "name": "stdout"
        }
      ]
    },
    {
      "cell_type": "code",
      "metadata": {
        "colab": {
          "base_uri": "https://localhost:8080/"
        },
        "id": "WtB_0K9BN-5K",
        "outputId": "fc0c8171-bf83-4221-9844-98d0a1f5b34e"
      },
      "source": [
        "num_list = [1,1,7,3,5,3,2,9,5,1,3,2,2,2,2,2,9]\n",
        "\n",
        "count_dict = {num:num_list.count(num) for num in num_list if num_list.count(num)%2==0}\n",
        "\n",
        "print(count_dict)"
      ],
      "execution_count": 3,
      "outputs": [
        {
          "output_type": "stream",
          "text": [
            "{5: 2, 2: 6, 9: 2}\n"
          ],
          "name": "stdout"
        }
      ]
    },
    {
      "cell_type": "code",
      "metadata": {
        "colab": {
          "base_uri": "https://localhost:8080/"
        },
        "id": "ohw-IDeKOh8S",
        "outputId": "b240b782-a660-4385-817e-23ff2b691624"
      },
      "source": [
        "num_list = [1,1,7,3,5,3,2,9,5,1,3,2,2,2,2,2,9]\n",
        "\n",
        "count_dict = {num:num_list.count(num) for num in num_list}\n",
        "\n",
        "sorted_dict = dict(sorted(count_dict.items(), key=lambda x:x[1]))\n",
        "\n",
        "print(sorted_dict)"
      ],
      "execution_count": 4,
      "outputs": [
        {
          "output_type": "stream",
          "text": [
            "{7: 1, 5: 2, 9: 2, 1: 3, 3: 3, 2: 6}\n"
          ],
          "name": "stdout"
        }
      ]
    }
  ]
}