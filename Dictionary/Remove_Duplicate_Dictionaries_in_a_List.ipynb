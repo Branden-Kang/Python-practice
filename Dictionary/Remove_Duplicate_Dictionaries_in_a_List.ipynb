{
  "nbformat": 4,
  "nbformat_minor": 0,
  "metadata": {
    "colab": {
      "name": "Remove Duplicate Dictionaries in a List.ipynb",
      "provenance": [],
      "authorship_tag": "ABX9TyMZI3AufyPX3JzX8MYP3EyF"
    },
    "kernelspec": {
      "name": "python3",
      "display_name": "Python 3"
    }
  },
  "cells": [
    {
      "cell_type": "markdown",
      "metadata": {
        "id": "vj71J_au7Wbb"
      },
      "source": [
        "[Reference](https://medium.com/better-programming/how-to-remove-duplicate-dictionaries-in-a-list-df8d75abb24)"
      ]
    },
    {
      "cell_type": "code",
      "metadata": {
        "id": "65RiDtAE7V3X"
      },
      "source": [
        "import json"
      ],
      "execution_count": 1,
      "outputs": []
    },
    {
      "cell_type": "code",
      "metadata": {
        "id": "hxXiEntc7Q8A"
      },
      "source": [
        "def uniqueDicts(l):\n",
        "    for i in range(len(l)):\n",
        "        l[i] = json.dumps(\n",
        "            l[i],\n",
        "            sort_keys = True\n",
        "        )\n",
        "    uniques = set(l)\n",
        "\n",
        "    return [\n",
        "            json.loads(s)\n",
        "            for s in uniques\n",
        "    ]"
      ],
      "execution_count": 2,
      "outputs": []
    }
  ]
}