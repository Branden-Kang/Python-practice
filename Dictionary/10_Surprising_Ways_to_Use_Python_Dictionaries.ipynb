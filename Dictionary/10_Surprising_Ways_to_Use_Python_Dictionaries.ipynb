{
  "nbformat": 4,
  "nbformat_minor": 0,
  "metadata": {
    "colab": {
      "provenance": [],
      "authorship_tag": "ABX9TyNcSfTQAzwZ8BnfzITwifLT"
    },
    "kernelspec": {
      "name": "python3",
      "display_name": "Python 3"
    },
    "language_info": {
      "name": "python"
    }
  },
  "cells": [
    {
      "cell_type": "markdown",
      "source": [
        "[Reference](https://python.plainenglish.io/10-surprising-ways-to-use-python-dictionaries-5bbce1ba4d26)"
      ],
      "metadata": {
        "id": "ckKTJXrr6_KT"
      }
    },
    {
      "cell_type": "markdown",
      "source": [
        "# Switch/case statements"
      ],
      "metadata": {
        "id": "6Fxb9M6v7I94"
      }
    },
    {
      "cell_type": "code",
      "execution_count": 1,
      "metadata": {
        "colab": {
          "base_uri": "https://localhost:8080/"
        },
        "id": "_FRmF1lp67gI",
        "outputId": "dc5d3e04-4b90-4fde-f14c-7a259cf8ba6d"
      },
      "outputs": [
        {
          "output_type": "stream",
          "name": "stdout",
          "text": [
            "Action A\n"
          ]
        }
      ],
      "source": [
        "def action_a():\n",
        "    print(\"Action A\")\n",
        "\n",
        "def action_b():\n",
        "    print(\"Action B\")\n",
        "\n",
        "def action_c():\n",
        "    print(\"Action C\")\n",
        "\n",
        "actions = {\n",
        "    \"A\": action_a,\n",
        "    \"B\": action_b,\n",
        "    \"C\": action_c\n",
        "}\n",
        "\n",
        "var = \"A\"\n",
        "actions[var]()"
      ]
    },
    {
      "cell_type": "markdown",
      "source": [
        "# Memoization"
      ],
      "metadata": {
        "id": "p0bKjXBv7HsB"
      }
    },
    {
      "cell_type": "code",
      "source": [
        "def expensive_function(arg):\n",
        "    # Do some expensive computation\n",
        "    return result\n",
        "\n",
        "cache = {}\n",
        "\n",
        "def memoized_function(arg):\n",
        "    if arg in cache:\n",
        "        return cache[arg]\n",
        "    result = expensive_function(arg)\n",
        "    cache[arg] = result\n",
        "    return result"
      ],
      "metadata": {
        "id": "h5_O2TXl7CNm"
      },
      "execution_count": 2,
      "outputs": []
    },
    {
      "cell_type": "markdown",
      "source": [
        "# Sparse matrices"
      ],
      "metadata": {
        "id": "hzLAXt9l7KTc"
      }
    },
    {
      "cell_type": "code",
      "source": [
        "sparse_matrix = {\n",
        "    (0, 0): 1,\n",
        "    (1, 2): 3,\n",
        "    (2, 1): 5,\n",
        "}"
      ],
      "metadata": {
        "id": "5Y_GH2Dd7GBl"
      },
      "execution_count": 3,
      "outputs": []
    },
    {
      "cell_type": "markdown",
      "source": [
        "# Graphs"
      ],
      "metadata": {
        "id": "ph7WFzm07MZ_"
      }
    },
    {
      "cell_type": "code",
      "source": [
        "graph = {\n",
        "    \"A\": [\"B\", \"C\"],\n",
        "    \"B\": [\"C\", \"D\"],\n",
        "    \"C\": [\"D\"],\n",
        "    \"D\": [\"C\"],\n",
        "}"
      ],
      "metadata": {
        "id": "sT7bc8Js7Lko"
      },
      "execution_count": 4,
      "outputs": []
    },
    {
      "cell_type": "markdown",
      "source": [
        "# State machines"
      ],
      "metadata": {
        "id": "MUvGeB9R7O5K"
      }
    },
    {
      "cell_type": "code",
      "source": [
        "state_machine = {\n",
        "    \"A\": {\"0\": \"B\", \"1\": \"A\"},\n",
        "    \"B\": {\"0\": \"A\", \"1\": \"B\"},\n",
        "}"
      ],
      "metadata": {
        "id": "Ilog7TuS7NeG"
      },
      "execution_count": 5,
      "outputs": []
    },
    {
      "cell_type": "markdown",
      "source": [
        "# Counters"
      ],
      "metadata": {
        "id": "xnPrpCjR7Qqw"
      }
    },
    {
      "cell_type": "code",
      "source": [
        "items = [\"A\", \"B\", \"C\", \"D\", \"E\"]\n",
        "combinations = {}\n",
        "for i, item1 in enumerate(items):\n",
        "    for item2 in items[i+1:]:\n",
        "        combination = item1 + item2\n",
        "        combinations[combination] = combinations.get(combination, 0) + 1"
      ],
      "metadata": {
        "id": "33d7iPij7P5h"
      },
      "execution_count": 6,
      "outputs": []
    },
    {
      "cell_type": "markdown",
      "source": [
        "# XML/HTML parsing"
      ],
      "metadata": {
        "id": "v8S2ajuQ7S-l"
      }
    },
    {
      "cell_type": "code",
      "source": [
        "pip install xmltodict"
      ],
      "metadata": {
        "colab": {
          "base_uri": "https://localhost:8080/"
        },
        "id": "MCsvEbzc7VvY",
        "outputId": "ae97fd23-ec7f-442a-eb0f-4ec81df1790e"
      },
      "execution_count": 8,
      "outputs": [
        {
          "output_type": "stream",
          "name": "stdout",
          "text": [
            "Looking in indexes: https://pypi.org/simple, https://us-python.pkg.dev/colab-wheels/public/simple/\n",
            "Collecting xmltodict\n",
            "  Downloading xmltodict-0.13.0-py2.py3-none-any.whl (10.0 kB)\n",
            "Installing collected packages: xmltodict\n",
            "Successfully installed xmltodict-0.13.0\n"
          ]
        }
      ]
    },
    {
      "cell_type": "code",
      "source": [
        "import xmltodict\n",
        "\n",
        "xml_string = \"\"\"\n",
        "<book>\n",
        "  <title>Python for Data Science Handbook</title>\n",
        "  <author>Jake VanderPlas</author>\n",
        "</book>\n",
        "\"\"\"\n",
        "\n",
        "book_dict = xmltodict.parse(xml_string)"
      ],
      "metadata": {
        "id": "HMdTx7ZM7SKL"
      },
      "execution_count": 9,
      "outputs": []
    },
    {
      "cell_type": "code",
      "source": [
        "book_dict"
      ],
      "metadata": {
        "colab": {
          "base_uri": "https://localhost:8080/"
        },
        "id": "3_UWG5q47Y-F",
        "outputId": "fa13771d-e4cd-4446-bb40-797bdff34e84"
      },
      "execution_count": 10,
      "outputs": [
        {
          "output_type": "execute_result",
          "data": {
            "text/plain": [
              "{'book': {'title': 'Python for Data Science Handbook',\n",
              "  'author': 'Jake VanderPlas'}}"
            ]
          },
          "metadata": {},
          "execution_count": 10
        }
      ]
    },
    {
      "cell_type": "markdown",
      "source": [
        "# Configuration files"
      ],
      "metadata": {
        "id": "yxui4IOm7Xcm"
      }
    },
    {
      "cell_type": "code",
      "source": [
        "import json\n",
        "DEFAULTS = {\n",
        "    \"host\": \"localhost\",\n",
        "    \"port\": 8080,\n",
        "    \"debug\": False,\n",
        "}\n",
        "\n",
        "def load_config(config_file):\n",
        "    with open(config_file) as f:\n",
        "        config = json.load(f)\n",
        "    return {**DEFAULTS, **config}"
      ],
      "metadata": {
        "id": "M1FjK_om7Uig"
      },
      "execution_count": 12,
      "outputs": []
    },
    {
      "cell_type": "markdown",
      "source": [
        "# Caching API responses"
      ],
      "metadata": {
        "id": "1TtlYeKT7dzj"
      }
    },
    {
      "cell_type": "code",
      "source": [
        "import requests\n",
        "\n",
        "cache = {}\n",
        "\n",
        "def get_data_from_api(url):\n",
        "    if url in cache:\n",
        "        return cache[url]\n",
        "    response = requests.get(url)\n",
        "    data = response.json()\n",
        "    cache[url] = data\n",
        "    return data"
      ],
      "metadata": {
        "id": "kDYqk_Ky7Z2V"
      },
      "execution_count": 13,
      "outputs": []
    },
    {
      "cell_type": "markdown",
      "source": [
        "# Encoding and decoding data"
      ],
      "metadata": {
        "id": "wf91PprQ7gC6"
      }
    },
    {
      "cell_type": "code",
      "source": [
        "import urllib.parse\n",
        "\n",
        "data = {\n",
        "    \"name\": \"Alice\",\n",
        "    \"age\": 30,\n",
        "}\n",
        "\n",
        "query_string = urllib.parse.urlencode(data)\n",
        "print(query_string)\n",
        "\n",
        "decoded_data = urllib.parse.parse_qs(query_string)\n",
        "print(decoded_data)"
      ],
      "metadata": {
        "colab": {
          "base_uri": "https://localhost:8080/"
        },
        "id": "d1FnwYnF7fIp",
        "outputId": "179c4bda-d29b-489a-ca7b-7c3f52e48c8d"
      },
      "execution_count": 14,
      "outputs": [
        {
          "output_type": "stream",
          "name": "stdout",
          "text": [
            "name=Alice&age=30\n",
            "{'name': ['Alice'], 'age': ['30']}\n"
          ]
        }
      ]
    }
  ]
}
