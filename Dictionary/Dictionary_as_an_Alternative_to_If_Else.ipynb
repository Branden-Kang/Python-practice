{
  "nbformat": 4,
  "nbformat_minor": 0,
  "metadata": {
    "colab": {
      "name": "Dictionary as an Alternative to If-Else.ipynb",
      "provenance": [],
      "authorship_tag": "ABX9TyNQNdES3W1GU6gXrS6p3XFC"
    },
    "kernelspec": {
      "name": "python3",
      "display_name": "Python 3"
    }
  },
  "cells": [
    {
      "cell_type": "markdown",
      "metadata": {
        "id": "t-_6dVOjlZSp"
      },
      "source": [
        "[Reference](https://towardsdatascience.com/dictionary-as-an-alternative-to-if-else-76fe57a1e4af)"
      ]
    },
    {
      "cell_type": "code",
      "metadata": {
        "id": "o-gd8WrklYE8"
      },
      "source": [
        "price_list = {\n",
        "'fish': 8,\n",
        "'beef': 7,\n",
        "'broccoli': 3,\n",
        "}"
      ],
      "execution_count": 1,
      "outputs": []
    },
    {
      "cell_type": "code",
      "metadata": {
        "id": "4EXK73h_lcZ9"
      },
      "source": [
        "def find_price(item):\n",
        "    if item in price_list:\n",
        "        return 'The price for {} is {}'.format(item, price_list[item])\n",
        "    else:\n",
        "        return 'The price for {} is not available'.format(item)"
      ],
      "execution_count": 2,
      "outputs": []
    },
    {
      "cell_type": "code",
      "metadata": {
        "id": "LUwmBuJmlecg",
        "outputId": "da39a304-6131-4ef1-8c9d-5a6506a7d570",
        "colab": {
          "base_uri": "https://localhost:8080/",
          "height": 37
        }
      },
      "source": [
        "find_price('fish')"
      ],
      "execution_count": 3,
      "outputs": [
        {
          "output_type": "execute_result",
          "data": {
            "application/vnd.google.colaboratory.intrinsic+json": {
              "type": "string"
            },
            "text/plain": [
              "'The price for fish is 8'"
            ]
          },
          "metadata": {
            "tags": []
          },
          "execution_count": 3
        }
      ]
    },
    {
      "cell_type": "code",
      "metadata": {
        "id": "pJmXU8NdlfJl",
        "outputId": "be4fa49f-481f-4239-dc92-4ba36994c788",
        "colab": {
          "base_uri": "https://localhost:8080/",
          "height": 37
        }
      },
      "source": [
        "find_price('cauliflower')"
      ],
      "execution_count": 4,
      "outputs": [
        {
          "output_type": "execute_result",
          "data": {
            "application/vnd.google.colaboratory.intrinsic+json": {
              "type": "string"
            },
            "text/plain": [
              "'The price for cauliflower is not available'"
            ]
          },
          "metadata": {
            "tags": []
          },
          "execution_count": 4
        }
      ]
    },
    {
      "cell_type": "code",
      "metadata": {
        "id": "m0Oktlhylf4M"
      },
      "source": [
        "def find_price(item):\n",
        "    return 'The price for {} is {}'.format(item, price_list.get(\n",
        "        item, 'not available'))"
      ],
      "execution_count": 5,
      "outputs": []
    },
    {
      "cell_type": "code",
      "metadata": {
        "id": "coengvgMlk28",
        "outputId": "22f9f4dc-fc0a-4d08-8856-ebfba9a2b579",
        "colab": {
          "base_uri": "https://localhost:8080/",
          "height": 37
        }
      },
      "source": [
        "find_price('fish')"
      ],
      "execution_count": 6,
      "outputs": [
        {
          "output_type": "execute_result",
          "data": {
            "application/vnd.google.colaboratory.intrinsic+json": {
              "type": "string"
            },
            "text/plain": [
              "'The price for fish is 8'"
            ]
          },
          "metadata": {
            "tags": []
          },
          "execution_count": 6
        }
      ]
    },
    {
      "cell_type": "code",
      "metadata": {
        "id": "-SfhNEsMloxR",
        "outputId": "7322a63a-3318-4fae-b321-27c4405e80db",
        "colab": {
          "base_uri": "https://localhost:8080/",
          "height": 37
        }
      },
      "source": [
        "find_price('cauliflower')"
      ],
      "execution_count": 7,
      "outputs": [
        {
          "output_type": "execute_result",
          "data": {
            "application/vnd.google.colaboratory.intrinsic+json": {
              "type": "string"
            },
            "text/plain": [
              "'The price for cauliflower is not available'"
            ]
          },
          "metadata": {
            "tags": []
          },
          "execution_count": 7
        }
      ]
    },
    {
      "cell_type": "code",
      "metadata": {
        "id": "0IqsYG9ElpgJ"
      },
      "source": [
        "def operations(operator, x, y):\n",
        "    if operator == 'add':\n",
        "        return x + y\n",
        "    elif operator == 'sub':\n",
        "        return x - y\n",
        "    elif operator == 'mul':\n",
        "        return x * y\n",
        "    elif operator == 'div':\n",
        "        return x / y"
      ],
      "execution_count": 8,
      "outputs": []
    },
    {
      "cell_type": "code",
      "metadata": {
        "id": "R06Z9qlkl1X7",
        "outputId": "bb547916-7435-4cc8-9ed8-a6176a3e7c4b",
        "colab": {
          "base_uri": "https://localhost:8080/"
        }
      },
      "source": [
        "operations('mul', 2, 8)"
      ],
      "execution_count": 9,
      "outputs": [
        {
          "output_type": "execute_result",
          "data": {
            "text/plain": [
              "16"
            ]
          },
          "metadata": {
            "tags": []
          },
          "execution_count": 9
        }
      ]
    },
    {
      "cell_type": "code",
      "metadata": {
        "id": "hs49KQn4l2q7"
      },
      "source": [
        "def operations(operator, x, y):\n",
        "    return {\n",
        "        'add': lambda: x+y,\n",
        "        'sub': lambda: x-y,\n",
        "        'mul': lambda: x*y,\n",
        "        'div': lambda: x/y,\n",
        "    }.get(operator, lambda: 'Not a valid operation')()"
      ],
      "execution_count": 10,
      "outputs": []
    },
    {
      "cell_type": "code",
      "metadata": {
        "id": "NvpxfRUGl7VR",
        "outputId": "a7982e80-cb58-4a1f-ea88-56ba597cd15e",
        "colab": {
          "base_uri": "https://localhost:8080/"
        }
      },
      "source": [
        "operations('mul', 2, 8)"
      ],
      "execution_count": 11,
      "outputs": [
        {
          "output_type": "execute_result",
          "data": {
            "text/plain": [
              "16"
            ]
          },
          "metadata": {
            "tags": []
          },
          "execution_count": 11
        }
      ]
    },
    {
      "cell_type": "code",
      "metadata": {
        "id": "nne8SL8gl86a",
        "outputId": "21fa17b2-4ce3-4e40-a1eb-161c5fe613df",
        "colab": {
          "base_uri": "https://localhost:8080/",
          "height": 37
        }
      },
      "source": [
        "operations('unknown', 2, 8)"
      ],
      "execution_count": 12,
      "outputs": [
        {
          "output_type": "execute_result",
          "data": {
            "application/vnd.google.colaboratory.intrinsic+json": {
              "type": "string"
            },
            "text/plain": [
              "'Not a valid operation'"
            ]
          },
          "metadata": {
            "tags": []
          },
          "execution_count": 12
        }
      ]
    }
  ]
}