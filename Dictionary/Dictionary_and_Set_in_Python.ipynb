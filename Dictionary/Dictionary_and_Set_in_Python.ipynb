{
  "nbformat": 4,
  "nbformat_minor": 0,
  "metadata": {
    "colab": {
      "name": "Dictionary and Set in Python.ipynb",
      "provenance": [],
      "authorship_tag": "ABX9TyNND6V+701OJm3x6OdWoh0g"
    },
    "kernelspec": {
      "name": "python3",
      "display_name": "Python 3"
    }
  },
  "cells": [
    {
      "cell_type": "markdown",
      "metadata": {
        "id": "QciRQbQW7FA0"
      },
      "source": [
        "[Reference](https://medium.com/python-in-plain-english/dict-and-set-in-python-9dd1b727f368)"
      ]
    },
    {
      "cell_type": "code",
      "metadata": {
        "id": "y_Kskapx7Dl6"
      },
      "source": [
        "def list_unique_names(phonebook):\n",
        "    unique_names = []\n",
        "    for name, phonenumber in phonebook: \n",
        "        first_name, last_name = name.split(\" \", 1)\n",
        "        for unique in unique_names: \n",
        "            if unique == first_name:\n",
        "                break\n",
        "        else:\n",
        "            unique_names.append(first_name)\n",
        "    return len(unique_names)"
      ],
      "execution_count": 1,
      "outputs": []
    },
    {
      "cell_type": "code",
      "metadata": {
        "id": "qGgqulOs7Pxi"
      },
      "source": [
        "def set_unique_names(phonebook):\n",
        "    unique_names = set()\n",
        "    for name, phonenumber in phonebook: \n",
        "        first_name, last_name = name.split(\" \", 1)\n",
        "        unique_names.add(first_name) \n",
        "    return len(unique_names)"
      ],
      "execution_count": 2,
      "outputs": []
    },
    {
      "cell_type": "code",
      "metadata": {
        "id": "19qdKhKP7RJp"
      },
      "source": [
        "%timeit list_unique_names(large_phonebook)"
      ],
      "execution_count": 4,
      "outputs": []
    },
    {
      "cell_type": "code",
      "metadata": {
        "id": "FjHk4zIm7UZH"
      },
      "source": [
        "%timeit set_unique_names(large_phonebook)"
      ],
      "execution_count": 5,
      "outputs": []
    }
  ]
}