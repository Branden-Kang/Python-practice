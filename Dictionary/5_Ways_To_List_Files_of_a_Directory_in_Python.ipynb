{
  "nbformat": 4,
  "nbformat_minor": 0,
  "metadata": {
    "colab": {
      "provenance": [],
      "authorship_tag": "ABX9TyOEl1ElzDRO0iAdHH/C2+H4"
    },
    "kernelspec": {
      "name": "python3",
      "display_name": "Python 3"
    },
    "language_info": {
      "name": "python"
    }
  },
  "cells": [
    {
      "cell_type": "markdown",
      "source": [
        "[Reference](https://medium.com/techtofreedom/5-ways-to-list-files-of-a-directory-in-python-dafb787b07a2)"
      ],
      "metadata": {
        "id": "dWtSD8NmmXsq"
      }
    },
    {
      "cell_type": "markdown",
      "source": [
        "# 1. Using os.listdir()"
      ],
      "metadata": {
        "id": "jaFN1FPymfSh"
      }
    },
    {
      "cell_type": "code",
      "execution_count": 1,
      "metadata": {
        "colab": {
          "base_uri": "https://localhost:8080/"
        },
        "id": "1ocNBEvnmGzE",
        "outputId": "a5c025c3-5bfc-4a17-ae5a-2aa02471a21e"
      },
      "outputs": [
        {
          "output_type": "execute_result",
          "data": {
            "text/plain": [
              "['.config', 'sample_data']"
            ]
          },
          "metadata": {},
          "execution_count": 1
        }
      ],
      "source": [
        "import os\n",
        "os.listdir()"
      ]
    },
    {
      "cell_type": "code",
      "source": [
        "import os\n",
        "files = [f for f in os.listdir() if os.path.isfile(f)]\n",
        "print(files)"
      ],
      "metadata": {
        "colab": {
          "base_uri": "https://localhost:8080/"
        },
        "id": "v45F-j4Amgya",
        "outputId": "2ce7f7f9-6a51-425f-a131-512c8512ff55"
      },
      "execution_count": 3,
      "outputs": [
        {
          "output_type": "stream",
          "name": "stdout",
          "text": [
            "[]\n"
          ]
        }
      ]
    },
    {
      "cell_type": "code",
      "source": [
        "import os\n",
        "files = [f for f in os.listdir() if os.path.isdir(f)]\n",
        "print(files)"
      ],
      "metadata": {
        "colab": {
          "base_uri": "https://localhost:8080/"
        },
        "id": "-AeOVlqSmkQu",
        "outputId": "bd9c92c3-c97b-4a11-8226-12c2234099f0"
      },
      "execution_count": 4,
      "outputs": [
        {
          "output_type": "stream",
          "name": "stdout",
          "text": [
            "['.config', 'sample_data']\n"
          ]
        }
      ]
    },
    {
      "cell_type": "markdown",
      "source": [
        "# 2. Using os.walk() To Go Deeper"
      ],
      "metadata": {
        "id": "peV5WSp3mpnz"
      }
    },
    {
      "cell_type": "code",
      "source": [
        "from os import walk\n",
        "\n",
        "f = []\n",
        "layer = 1\n",
        "w = walk(\"./\")\n",
        "for (dirpath, dirnames, filenames) in w:\n",
        "    if layer == 2:\n",
        "        f.extend(dirnames)\n",
        "        break\n",
        "    layer += 1"
      ],
      "metadata": {
        "id": "cP7nMXpemomd"
      },
      "execution_count": 5,
      "outputs": []
    },
    {
      "cell_type": "code",
      "source": [
        "f"
      ],
      "metadata": {
        "colab": {
          "base_uri": "https://localhost:8080/"
        },
        "id": "tD-b_mORms2n",
        "outputId": "1641d0fa-62fe-4800-86f6-65cf5b83fffc"
      },
      "execution_count": 6,
      "outputs": [
        {
          "output_type": "execute_result",
          "data": {
            "text/plain": [
              "['configurations', 'logs']"
            ]
          },
          "metadata": {},
          "execution_count": 6
        }
      ]
    },
    {
      "cell_type": "markdown",
      "source": [
        "# 3. Using Glob Module To Search by Regular Expressions"
      ],
      "metadata": {
        "id": "H6EmAYPfmvnr"
      }
    },
    {
      "cell_type": "code",
      "source": [
        "import glob\n",
        "glob.glob(\"/sys/*.log\")"
      ],
      "metadata": {
        "colab": {
          "base_uri": "https://localhost:8080/"
        },
        "id": "D54-SXx5muCK",
        "outputId": "c8741ab6-5569-4c7d-b346-28328ec6023b"
      },
      "execution_count": 7,
      "outputs": [
        {
          "output_type": "execute_result",
          "data": {
            "text/plain": [
              "[]"
            ]
          },
          "metadata": {},
          "execution_count": 7
        }
      ]
    },
    {
      "cell_type": "markdown",
      "source": [
        "# 4. Using pathlib Module (From Python 3.4+)"
      ],
      "metadata": {
        "id": "rSrjKan8myn-"
      }
    },
    {
      "cell_type": "code",
      "source": [
        "import pathlib\n",
        "\n",
        "files = [f for f in pathlib.Path().iterdir() if f.is_file()]\n",
        "files"
      ],
      "metadata": {
        "colab": {
          "base_uri": "https://localhost:8080/"
        },
        "id": "CFx3ICitmx97",
        "outputId": "9eb97998-3712-4884-c8a6-7a164faa7a1c"
      },
      "execution_count": 9,
      "outputs": [
        {
          "output_type": "execute_result",
          "data": {
            "text/plain": [
              "[]"
            ]
          },
          "metadata": {},
          "execution_count": 9
        }
      ]
    },
    {
      "cell_type": "markdown",
      "source": [
        "# 5. Using os.scandir() Function (From Python 3.5+)"
      ],
      "metadata": {
        "id": "R1UIVO7nm2sl"
      }
    },
    {
      "cell_type": "code",
      "source": [
        "a=os.scandir()\n",
        "next(a)"
      ],
      "metadata": {
        "colab": {
          "base_uri": "https://localhost:8080/"
        },
        "id": "AT8xnKHbm0kT",
        "outputId": "62c12d85-7508-4667-fc82-20a619c3b3e1"
      },
      "execution_count": 10,
      "outputs": [
        {
          "output_type": "execute_result",
          "data": {
            "text/plain": [
              "<DirEntry '.config'>"
            ]
          },
          "metadata": {},
          "execution_count": 10
        }
      ]
    },
    {
      "cell_type": "code",
      "source": [
        "next(a)"
      ],
      "metadata": {
        "colab": {
          "base_uri": "https://localhost:8080/"
        },
        "id": "e2dQBEvkm4Gy",
        "outputId": "69382ee7-27bd-4efe-b1e6-1a3e580b8330"
      },
      "execution_count": 11,
      "outputs": [
        {
          "output_type": "execute_result",
          "data": {
            "text/plain": [
              "<DirEntry 'sample_data'>"
            ]
          },
          "metadata": {},
          "execution_count": 11
        }
      ]
    }
  ]
}
