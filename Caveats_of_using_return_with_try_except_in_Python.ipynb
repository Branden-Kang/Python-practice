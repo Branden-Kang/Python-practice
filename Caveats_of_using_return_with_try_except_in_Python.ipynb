{
  "nbformat": 4,
  "nbformat_minor": 0,
  "metadata": {
    "colab": {
      "name": "Caveats of using return with try/except in Python.ipynb",
      "provenance": [],
      "authorship_tag": "ABX9TyO3syAHJ4wqbt7eIVv5OJwn"
    },
    "kernelspec": {
      "name": "python3",
      "display_name": "Python 3"
    }
  },
  "cells": [
    {
      "cell_type": "markdown",
      "metadata": {
        "id": "Ahkkgi3H1DAs"
      },
      "source": [
        "[Reference](https://medium.com/python-in-plain-english/caveats-of-using-return-with-try-except-in-python-1f21cadbfa00)"
      ]
    },
    {
      "cell_type": "markdown",
      "metadata": {
        "id": "J_kB4aed1IQm"
      },
      "source": [
        "# 1. Usage of return with try/except"
      ]
    },
    {
      "cell_type": "code",
      "metadata": {
        "id": "IqyiKWcV1BnB",
        "outputId": "574f055d-979f-46e5-d4db-1b3b05eda87c",
        "colab": {
          "base_uri": "https://localhost:8080/"
        }
      },
      "source": [
        "def test_func():\n",
        "    try:\n",
        "        x = 10\n",
        "        return x\n",
        "    except Exception as e:\n",
        "        x = 20\n",
        "        return x\n",
        "    finally:\n",
        "        x = 30\n",
        "        return x\n",
        "\n",
        "print(test_func())"
      ],
      "execution_count": 2,
      "outputs": [
        {
          "output_type": "stream",
          "text": [
            "30\n"
          ],
          "name": "stdout"
        }
      ]
    },
    {
      "cell_type": "markdown",
      "metadata": {
        "id": "DYGMIngd1SrE"
      },
      "source": [
        "# 2. Usage of return with exceptions"
      ]
    },
    {
      "cell_type": "code",
      "metadata": {
        "id": "vTjzQUtX1Ksd",
        "outputId": "a82af801-2df0-4fa3-9257-fb7d2d563b0c",
        "colab": {
          "base_uri": "https://localhost:8080/"
        }
      },
      "source": [
        "def test_func():\n",
        "    try:\n",
        "        x = 10\n",
        "        raise Exception\n",
        "    except Exception as e:\n",
        "        print(f\" Raising exception \")\n",
        "        x = 20\n",
        "        return x\n",
        "    finally:\n",
        "        x = 30\n",
        "        return x\n",
        "\n",
        "print(test_func())"
      ],
      "execution_count": 3,
      "outputs": [
        {
          "output_type": "stream",
          "text": [
            " Raising exception \n",
            "30\n"
          ],
          "name": "stdout"
        }
      ]
    },
    {
      "cell_type": "code",
      "metadata": {
        "id": "rXSUJjDB1WiZ",
        "outputId": "e89587ae-ecbc-4e08-9a7d-23f1f7d6f673",
        "colab": {
          "base_uri": "https://localhost:8080/"
        }
      },
      "source": [
        "def test_func():\n",
        "    try:\n",
        "        x = 10\n",
        "        print(f\" Inside try block \")\n",
        "        return x\n",
        "    except Exception as e:\n",
        "        x = 20\n",
        "        print(f\" Inside except block \")\n",
        "        return x\n",
        "    finally:\n",
        "        x = 30\n",
        "        print(f\" Inside finally block \")\n",
        "        return x\n",
        "        \n",
        "print(test_func())"
      ],
      "execution_count": 4,
      "outputs": [
        {
          "output_type": "stream",
          "text": [
            " Inside try block \n",
            " Inside finally block \n",
            "30\n"
          ],
          "name": "stdout"
        }
      ]
    },
    {
      "cell_type": "markdown",
      "metadata": {
        "id": "El3aF8Ek1d43"
      },
      "source": [
        "# 3. Usage of return with try, else, and finally"
      ]
    },
    {
      "cell_type": "code",
      "metadata": {
        "id": "x6hzvkvE1a3O",
        "outputId": "c4b5355b-5fd3-434c-b9df-cf39ccbc3bd7",
        "colab": {
          "base_uri": "https://localhost:8080/"
        }
      },
      "source": [
        "def test_func():\n",
        "    try:\n",
        "        x = 10\n",
        "        print(f\" Inside try block \")\n",
        "        return x\n",
        "    except Exception as e:\n",
        "        x = 20\n",
        "        print(f\" Inside except block \")\n",
        "        return x\n",
        "    else:\n",
        "        print(f\" Inside else block \")\n",
        "        x = 40\n",
        "        return x\n",
        "    finally:\n",
        "        x = 30\n",
        "        print(f\" Inside finally block \")\n",
        "        return x\n",
        "\n",
        "print(test_func())"
      ],
      "execution_count": 5,
      "outputs": [
        {
          "output_type": "stream",
          "text": [
            " Inside try block \n",
            " Inside finally block \n",
            "30\n"
          ],
          "name": "stdout"
        }
      ]
    },
    {
      "cell_type": "code",
      "metadata": {
        "id": "WQ3ddd2O1p9f",
        "outputId": "f651c05c-109f-4b32-baad-7f0a1efb4ae4",
        "colab": {
          "base_uri": "https://localhost:8080/"
        }
      },
      "source": [
        "def test_func():\n",
        "    try:\n",
        "        x = 10\n",
        "        print(f\" Inside try block \")\n",
        "    except Exception as e:\n",
        "        x = 20\n",
        "        print(f\" Inside except block \")\n",
        "        return x\n",
        "    else:\n",
        "        print(f\" Inside else block \")\n",
        "        x = 40\n",
        "        return x\n",
        "    finally:\n",
        "        x = 30\n",
        "        print(f\" Inside finally block \")\n",
        "        return x\n",
        "\n",
        "print(test_func())"
      ],
      "execution_count": 6,
      "outputs": [
        {
          "output_type": "stream",
          "text": [
            " Inside try block \n",
            " Inside else block \n",
            " Inside finally block \n",
            "30\n"
          ],
          "name": "stdout"
        }
      ]
    }
  ]
}