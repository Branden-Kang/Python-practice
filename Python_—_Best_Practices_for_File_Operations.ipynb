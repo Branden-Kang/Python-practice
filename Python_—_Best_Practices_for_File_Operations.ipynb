{
  "nbformat": 4,
  "nbformat_minor": 0,
  "metadata": {
    "colab": {
      "name": "Python — Best Practices for File Operations.ipynb",
      "provenance": [],
      "authorship_tag": "ABX9TyMaImlVUg5RYmjMDbjQI5Tq"
    },
    "kernelspec": {
      "name": "python3",
      "display_name": "Python 3"
    },
    "language_info": {
      "name": "python"
    }
  },
  "cells": [
    {
      "cell_type": "markdown",
      "source": [
        "[Reference](https://blog.devgenius.io/python-best-practices-for-file-operations-a8391f13dbe2)"
      ],
      "metadata": {
        "id": "sxw94SkETFVB"
      }
    },
    {
      "cell_type": "code",
      "execution_count": 1,
      "metadata": {
        "id": "FPS63GfhTEJk"
      },
      "outputs": [],
      "source": [
        "import os\n",
        "import os.path\n",
        "\n",
        "\n",
        "def unify_ext_with_os_path(path):\n",
        "    for filename in os.listdir(path):\n",
        "        basename, ext = os.path.splitext(filename)\n",
        "        if ext == '.txt':\n",
        "            abs_filepath = os.path.join(path, filename)\n",
        "            os.rename(abs_filepath, os.path.join(path, f'{basename}.csv'))"
      ]
    },
    {
      "cell_type": "code",
      "source": [
        "from pathlib import Path\n",
        "\n",
        "def unify_ext_with_pathlib(path):\n",
        "    for fpath in Path(path).glob('*.txt'):\n",
        "        fpath.rename(fpath.with_suffix('.csv'))"
      ],
      "metadata": {
        "id": "T0G6cyUOTH18"
      },
      "execution_count": 2,
      "outputs": []
    },
    {
      "cell_type": "code",
      "source": [
        "import os.path\n",
        "os.path.join('/tmp', 'foo.txt')"
      ],
      "metadata": {
        "colab": {
          "base_uri": "https://localhost:8080/",
          "height": 37
        },
        "id": "DLLP5HbzTJJ6",
        "outputId": "3386310b-270d-49c7-862f-98017aa40f1b"
      },
      "execution_count": 3,
      "outputs": [
        {
          "output_type": "execute_result",
          "data": {
            "text/plain": [
              "'/tmp/foo.txt'"
            ],
            "application/vnd.google.colaboratory.intrinsic+json": {
              "type": "string"
            }
          },
          "metadata": {},
          "execution_count": 3
        }
      ]
    },
    {
      "cell_type": "code",
      "source": [
        "from pathlib import Path\n",
        "Path('/tmp') / 'foo.txt'"
      ],
      "metadata": {
        "colab": {
          "base_uri": "https://localhost:8080/"
        },
        "id": "sQevSK3rTKw3",
        "outputId": "dc926604-0f8c-40e7-d90a-aedbc8dab200"
      },
      "execution_count": 4,
      "outputs": [
        {
          "output_type": "execute_result",
          "data": {
            "text/plain": [
              "PosixPath('/tmp/foo.txt')"
            ]
          },
          "metadata": {},
          "execution_count": 4
        }
      ]
    },
    {
      "cell_type": "code",
      "source": [
        "# with open('foo.txt') as file:\n",
        "#      print(file.read())"
      ],
      "metadata": {
        "id": "-feJFDnbTMzZ"
      },
      "execution_count": 6,
      "outputs": []
    },
    {
      "cell_type": "code",
      "source": [
        "# from pathlib import Path\n",
        "# print(Path('foo.txt').read_text())"
      ],
      "metadata": {
        "id": "Jb7XbrAsTOq_"
      },
      "execution_count": 8,
      "outputs": []
    },
    {
      "cell_type": "code",
      "source": [
        "# p = Path('/tmp')\n",
        "# os.path.join(p, 'foo.txt')"
      ],
      "metadata": {
        "id": "PUvxL60HTQ-X"
      },
      "execution_count": 9,
      "outputs": []
    },
    {
      "cell_type": "markdown",
      "source": [
        "# Stream Large Files"
      ],
      "metadata": {
        "id": "YS35KVpFTT80"
      }
    },
    {
      "cell_type": "markdown",
      "source": [
        "## Read in Chunks"
      ],
      "metadata": {
        "id": "Yj-qM7ccTXM2"
      }
    },
    {
      "cell_type": "code",
      "source": [
        "def count_nine(fname):\n",
        "    count = 0\n",
        "    with open(fname) as file:\n",
        "        for line in file:\n",
        "            count += line.count('9')\n",
        "    return count"
      ],
      "metadata": {
        "id": "NnWQeuepTUye"
      },
      "execution_count": 10,
      "outputs": []
    },
    {
      "cell_type": "code",
      "source": [
        "def count_nine_v2(fname):\n",
        "    \"\"\"Count total 9s，read 8kb each time\n",
        "    \"\"\"\n",
        "    count = 0\n",
        "    block_size = 1024 * 8\n",
        "    with open(fname) as fp:\n",
        "        while True:\n",
        "            chunk = fp.read(block_size)\n",
        "            # If no more content\n",
        "            if not chunk:\n",
        "                break\n",
        "            count += chunk.count('9')\n",
        "    return count"
      ],
      "metadata": {
        "id": "0zZ-cOa0TU5e"
      },
      "execution_count": 11,
      "outputs": []
    },
    {
      "cell_type": "markdown",
      "source": [
        "## Decoupling Code with Generators"
      ],
      "metadata": {
        "id": "2-jTH5aeTYne"
      }
    },
    {
      "cell_type": "code",
      "source": [
        "def chunked_file_reader(fp, block_size=1024 * 8):\n",
        "    \"\"\"generator：Read file in chunks\n",
        "    \"\"\"\n",
        "    while True:\n",
        "        chunk = fp.read(block_size)\n",
        "        # If no more content\n",
        "        if not chunk:\n",
        "            break\n",
        "        yield chunk\n",
        "\n",
        "\n",
        "def count_nine_v3(fname):\n",
        "    count = 0\n",
        "    with open(fname) as fp:\n",
        "        for chunk in chunked_file_reader(fp):\n",
        "            count += chunk.count('9')\n",
        "    return count"
      ],
      "metadata": {
        "id": "dAKa7R3hTV9Z"
      },
      "execution_count": 12,
      "outputs": []
    },
    {
      "cell_type": "code",
      "source": [
        "def chunked_file_reader(file, block_size=1024 * 8):\n",
        "    \"\"\"Generator：Use iter to read file in chunks\n",
        "    \"\"\"\n",
        "    # Use partial(fp.read, block_size) to construct a new func\n",
        "    # Read and return fp.read(block_size) until ''\n",
        "    for chunk in iter(partial(file.read, block_size), ''):\n",
        "        yield chunk"
      ],
      "metadata": {
        "id": "4fFQxbV1TZ0f"
      },
      "execution_count": 13,
      "outputs": []
    },
    {
      "cell_type": "markdown",
      "source": [
        "# Design for File Objects"
      ],
      "metadata": {
        "id": "9Zk9fz5OTblV"
      }
    },
    {
      "cell_type": "code",
      "source": [
        "def count_vowels(filename):\n",
        "    \"\"\"count (aeiou)s\n",
        "    \"\"\"\n",
        "    VOWELS_LETTERS = {'a', 'e', 'i', 'o', 'u'}\n",
        "    count = 0\n",
        "    with open(filename, 'r') as fp:\n",
        "        for line in fp:\n",
        "            for char in line:\n",
        "                if char.lower() in VOWELS_LETTERS:\n",
        "                    count += 1\n",
        "    return count\n",
        "\n",
        "\n",
        "# OUTPUT: 16\n",
        "print(count_vowels('sample_file.txt'))"
      ],
      "metadata": {
        "id": "9IksPqApTaxW"
      },
      "execution_count": 15,
      "outputs": []
    }
  ]
}