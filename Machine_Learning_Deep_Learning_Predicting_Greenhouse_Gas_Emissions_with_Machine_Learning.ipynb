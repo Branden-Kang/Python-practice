{
  "nbformat": 4,
  "nbformat_minor": 0,
  "metadata": {
    "colab": {
      "provenance": [],
      "authorship_tag": "ABX9TyNZdCnz4y8ahEB2LmwUq4Io"
    },
    "kernelspec": {
      "name": "python3",
      "display_name": "Python 3"
    },
    "language_info": {
      "name": "python"
    }
  },
  "cells": [
    {
      "cell_type": "markdown",
      "source": [
        "[Reference](https://medium.com/@datawithdan_/predicting-greenhouse-gas-emissions-with-machine-learning-f27560ac101b)"
      ],
      "metadata": {
        "id": "cXaleEMiLkC0"
      }
    },
    {
      "cell_type": "markdown",
      "source": [
        "# Creating the Example Dataset"
      ],
      "metadata": {
        "id": "yZRZa0OwLnnq"
      }
    },
    {
      "cell_type": "code",
      "execution_count": 1,
      "metadata": {
        "colab": {
          "base_uri": "https://localhost:8080/"
        },
        "id": "tAooNW9DLCje",
        "outputId": "8840e0c3-9f91-4d27-a407-767602ae133e"
      },
      "outputs": [
        {
          "output_type": "stream",
          "name": "stdout",
          "text": [
            "   population  energy_consumption  gdp  ghg_emissions\n",
            "0        1000                 800   50            100\n",
            "1        2000                1500  100            190\n",
            "2        3000                2200  150            280\n",
            "3        4000                3000  200            400\n",
            "4        5000                3900  250            520\n",
            "5        6000                4500  300            650\n",
            "6        7000                5200  350            760\n",
            "7        8000                6200  400            880\n",
            "8        9000                7200  450           1000\n",
            "9       10000                8000  500           1100\n"
          ]
        }
      ],
      "source": [
        "import pandas as pd\n",
        "\n",
        "data = {\n",
        "    'population': [1000, 2000, 3000, 4000, 5000, 6000, 7000, 8000, 9000, 10000],\n",
        "    'energy_consumption': [800, 1500, 2200, 3000, 3900, 4500, 5200, 6200, 7200, 8000],\n",
        "    'gdp': [50, 100, 150, 200, 250, 300, 350, 400, 450, 500],\n",
        "    'ghg_emissions': [100, 190, 280, 400, 520, 650, 760, 880, 1000, 1100]\n",
        "}\n",
        "df = pd.DataFrame(data)\n",
        "print(df)"
      ]
    },
    {
      "cell_type": "markdown",
      "source": [
        "# Data Preprocessing"
      ],
      "metadata": {
        "id": "Zwrg8CZWLpZj"
      }
    },
    {
      "cell_type": "code",
      "source": [
        "from sklearn.preprocessing import StandardScaler\n",
        "\n",
        "X = df.drop('ghg_emissions', axis=1)\n",
        "y = df['ghg_emissions']\n",
        "scaler = StandardScaler()\n",
        "X_scaled = scaler.fit_transform(X)"
      ],
      "metadata": {
        "id": "qtMMghvhLmwU"
      },
      "execution_count": 2,
      "outputs": []
    },
    {
      "cell_type": "markdown",
      "source": [
        "# Training a Regression Model"
      ],
      "metadata": {
        "id": "ja1dSuXhLuhP"
      }
    },
    {
      "cell_type": "code",
      "source": [
        "from sklearn.model_selection import train_test_split\n",
        "from sklearn.linear_model import LinearRegression\n",
        "\n",
        "X_train, X_test, y_train, y_test = train_test_split(X_scaled, y, test_size=0.2, random_state=42)\n",
        "reg = LinearRegression()\n",
        "reg.fit(X_train, y_train)\n",
        "y_pred = reg.predict(X_test)"
      ],
      "metadata": {
        "id": "J84aXShkLqsX"
      },
      "execution_count": 3,
      "outputs": []
    },
    {
      "cell_type": "markdown",
      "source": [
        "# Model Evaluation"
      ],
      "metadata": {
        "id": "cAb7oXQ2Lwf_"
      }
    },
    {
      "cell_type": "code",
      "source": [
        "from sklearn.metrics import mean_absolute_error, r2_score\n",
        "\n",
        "mae = mean_absolute_error(y_test, y_pred)\n",
        "r2 = r2_score(y_test, y_pred)\n",
        "print(f\"Mean Absolute Error: {mae:.2f}\")\n",
        "print(f\"R-squared Score: {r2:.2f}\")"
      ],
      "metadata": {
        "colab": {
          "base_uri": "https://localhost:8080/"
        },
        "id": "fyDjS4KxLvjZ",
        "outputId": "78b8df5b-0f1e-474e-fa87-b75d41b62d32"
      },
      "execution_count": 4,
      "outputs": [
        {
          "output_type": "stream",
          "name": "stdout",
          "text": [
            "Mean Absolute Error: 5.63\n",
            "R-squared Score: 1.00\n"
          ]
        }
      ]
    }
  ]
}
