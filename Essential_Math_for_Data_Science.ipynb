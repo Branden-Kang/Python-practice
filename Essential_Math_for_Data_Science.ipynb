{
  "nbformat": 4,
  "nbformat_minor": 0,
  "metadata": {
    "colab": {
      "provenance": [],
      "authorship_tag": "ABX9TyPTfdlgoCze/qMyAediT/Lv"
    },
    "kernelspec": {
      "name": "python3",
      "display_name": "Python 3"
    },
    "language_info": {
      "name": "python"
    }
  },
  "cells": [
    {
      "cell_type": "markdown",
      "source": [
        "[Reference](https://medium.com/@pythonfundamentals/essential-math-for-data-science-2f9c047610a6)"
      ],
      "metadata": {
        "id": "GhxGLXLIoJ3s"
      }
    },
    {
      "cell_type": "markdown",
      "source": [
        "# 1. Arithmetic Operations"
      ],
      "metadata": {
        "id": "bZ1WpmJEoMKX"
      }
    },
    {
      "cell_type": "code",
      "execution_count": 1,
      "metadata": {
        "colab": {
          "base_uri": "https://localhost:8080/"
        },
        "id": "Z9X4Avj6mTMv",
        "outputId": "997ac352-16a1-4a77-8721-e76ed0adb6fe"
      },
      "outputs": [
        {
          "output_type": "stream",
          "name": "stdout",
          "text": [
            "Addition: 8\n",
            "Subtraction: 2\n",
            "Multiplication: 15\n",
            "Division: 1.6666666666666667\n"
          ]
        }
      ],
      "source": [
        "# Basic arithmetic operations\n",
        "a = 5\n",
        "b = 3\n",
        "\n",
        "addition = a + b\n",
        "subtraction = a - b\n",
        "multiplication = a * b\n",
        "division = a / b\n",
        "\n",
        "print(\"Addition:\", addition)\n",
        "print(\"Subtraction:\", subtraction)\n",
        "print(\"Multiplication:\", multiplication)\n",
        "print(\"Division:\", division)"
      ]
    },
    {
      "cell_type": "markdown",
      "source": [
        "# 2. Algebra"
      ],
      "metadata": {
        "id": "ysJ0xOiLoOUy"
      }
    },
    {
      "cell_type": "code",
      "source": [
        "# Solving a linear equation: 2x - 7 = 3\n",
        "import sympy as sp\n",
        "\n",
        "x = sp.symbols('x')\n",
        "equation = 2*x - 7 - 3\n",
        "solution = sp.solve(equation, x)\n",
        "\n",
        "print(\"Solution:\", solution[0])"
      ],
      "metadata": {
        "colab": {
          "base_uri": "https://localhost:8080/"
        },
        "id": "Fy1yiUIHoNbH",
        "outputId": "7b146cea-2aaf-46c7-ecdb-c8c7d151b9b6"
      },
      "execution_count": 2,
      "outputs": [
        {
          "output_type": "stream",
          "name": "stdout",
          "text": [
            "Solution: 5\n"
          ]
        }
      ]
    },
    {
      "cell_type": "markdown",
      "source": [
        "# 3. Probability and Statistics"
      ],
      "metadata": {
        "id": "5kjHIfm-oRbM"
      }
    },
    {
      "cell_type": "code",
      "source": [
        "import numpy as np\n",
        "import scipy.stats as stats\n",
        "\n",
        "# Generate random data\n",
        "data = np.random.normal(0, 1, 1000)\n",
        "\n",
        "# Calculate mean and standard deviation\n",
        "mean = np.mean(data)\n",
        "std_dev = np.std(data)\n",
        "\n",
        "# Fit a normal distribution\n",
        "mu, std = stats.norm.fit(data)"
      ],
      "metadata": {
        "id": "bpaOv1IUoPaF"
      },
      "execution_count": 4,
      "outputs": []
    },
    {
      "cell_type": "markdown",
      "source": [
        "# 4. Linear Algebra"
      ],
      "metadata": {
        "id": "npfD_W_IoUSa"
      }
    },
    {
      "cell_type": "code",
      "source": [
        "import numpy as np\n",
        "\n",
        "# Define two vectors\n",
        "vector_a = np.array([2, 3, 1])\n",
        "vector_b = np.array([1, 5, 2])\n",
        "\n",
        "# Calculate the dot product\n",
        "dot_product = np.dot(vector_a, vector_b)\n",
        "print(\"Dot Product:\", dot_product)"
      ],
      "metadata": {
        "colab": {
          "base_uri": "https://localhost:8080/"
        },
        "id": "S7RW4xZSoQzB",
        "outputId": "75469529-d7ef-49ea-cfe1-f24e36ce1f78"
      },
      "execution_count": 5,
      "outputs": [
        {
          "output_type": "stream",
          "name": "stdout",
          "text": [
            "Dot Product: 19\n"
          ]
        }
      ]
    },
    {
      "cell_type": "markdown",
      "source": [
        "# 5. Calculus"
      ],
      "metadata": {
        "id": "ukgpLu7ToWbe"
      }
    },
    {
      "cell_type": "code",
      "source": [
        "import sympy as sp\n",
        "\n",
        "# Define a variable and a function\n",
        "x = sp.symbols('x')\n",
        "f = x**2 + 3*x + 2\n",
        "\n",
        "# Find the derivative\n",
        "f_prime = sp.diff(f, x)\n",
        "print(\"Derivative:\", f_prime)\n",
        "# Solve for the minimum\n",
        "minimum = sp.solve(f_prime, x)\n",
        "print(\"Minimum:\", minimum)"
      ],
      "metadata": {
        "colab": {
          "base_uri": "https://localhost:8080/"
        },
        "id": "bwSpRhifoVYX",
        "outputId": "e474887e-49f0-43e8-dddf-a7cff3d361c0"
      },
      "execution_count": 6,
      "outputs": [
        {
          "output_type": "stream",
          "name": "stdout",
          "text": [
            "Derivative: 2*x + 3\n",
            "Minimum: [-3/2]\n"
          ]
        }
      ]
    },
    {
      "cell_type": "markdown",
      "source": [
        "# 6. Probability Distributions"
      ],
      "metadata": {
        "id": "qqgQyLD0oZeS"
      }
    },
    {
      "cell_type": "code",
      "source": [
        "import numpy as np\n",
        "import matplotlib.pyplot as plt\n",
        "import scipy.stats as stats\n",
        "\n",
        "# Generate data from a normal distribution\n",
        "data = np.random.normal(0, 1, 1000)\n",
        "\n",
        "# Create a histogram\n",
        "plt.hist(data, bins=30, density=True, alpha=0.6, color='g')\n",
        "\n",
        "# Fit a normal distribution to the data\n",
        "mu, std = stats.norm.fit(data)\n",
        "# Plot the PDF of the fitted distribution\n",
        "xmin, xmax = plt.xlim()\n",
        "x = np.linspace(xmin, xmax, 100)\n",
        "p = stats.norm.pdf(x, mu, std)\n",
        "plt.plot(x, p, 'k', linewidth=2)"
      ],
      "metadata": {
        "colab": {
          "base_uri": "https://localhost:8080/",
          "height": 447
        },
        "id": "j3tt1ZSGoX5y",
        "outputId": "33be87a0-107a-47d7-c19c-a92bf53e15dd"
      },
      "execution_count": 7,
      "outputs": [
        {
          "output_type": "execute_result",
          "data": {
            "text/plain": [
              "[<matplotlib.lines.Line2D at 0x7b5e19c16050>]"
            ]
          },
          "metadata": {},
          "execution_count": 7
        },
        {
          "output_type": "display_data",
          "data": {
            "text/plain": [
              "<Figure size 640x480 with 1 Axes>"
            ],
            "image/png": "[encoded data removed]"
          },
          "metadata": {}
        }
      ]
    }
  ]
}