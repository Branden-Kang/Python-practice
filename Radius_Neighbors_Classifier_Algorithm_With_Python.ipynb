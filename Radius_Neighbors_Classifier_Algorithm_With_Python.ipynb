{
  "nbformat": 4,
  "nbformat_minor": 0,
  "metadata": {
    "colab": {
      "name": "Radius Neighbors Classifier Algorithm With Python.ipynb",
      "provenance": [],
      "authorship_tag": "ABX9TyMKCcOsnsN+ZMdjqUoHCuJa"
    },
    "kernelspec": {
      "name": "python3",
      "display_name": "Python 3"
    }
  },
  "cells": [
    {
      "cell_type": "markdown",
      "metadata": {
        "id": "HPfbngiW64ns"
      },
      "source": [
        "[Reference](https://machinelearningmastery.com/radius-neighbors-classifier-algorithm-with-python/)"
      ]
    },
    {
      "cell_type": "markdown",
      "metadata": {
        "id": "LQ0h2t2d69CU"
      },
      "source": [
        "Radius Neighbors Classifier is an updated version of the k-nearest neighbors algorithm that makes predictions using all examples in the radius of a new example rather than the k-closest neighbors.\n",
        "\n",
        "The Radius Neighbors Classifier can work well for predicting problems if there are sparse areas of the feature space."
      ]
    },
    {
      "cell_type": "code",
      "metadata": {
        "id": "ALO9REiU_m07"
      },
      "source": [
        "import numpy as np\n",
        "from sklearn.datasets import make_classification\n",
        "from sklearn.model_selection import GridSearchCV\n",
        "from sklearn.model_selection import cross_val_score\n",
        "from sklearn.model_selection import RepeatedStratifiedKFold\n",
        "from sklearn.pipeline import Pipeline\n",
        "from sklearn.preprocessing import MinMaxScaler\n",
        "from sklearn.neighbors import RadiusNeighborsClassifier"
      ],
      "execution_count": 16,
      "outputs": []
    },
    {
      "cell_type": "code",
      "metadata": {
        "id": "Vb5ZRqvu_SSa"
      },
      "source": [
        "X, y = make_classification(n_samples=1000, n_features=20, n_informative=15, n_redundant=5, random_state=1)"
      ],
      "execution_count": 2,
      "outputs": []
    },
    {
      "cell_type": "code",
      "metadata": {
        "id": "N8CEvtkf_WyT",
        "outputId": "322def6b-e27f-4c7c-a714-a9472bd4c0a1",
        "colab": {
          "base_uri": "https://localhost:8080/",
          "height": 34
        }
      },
      "source": [
        "print(X.shape, y.shape)"
      ],
      "execution_count": 3,
      "outputs": [
        {
          "output_type": "stream",
          "text": [
            "(1000, 20) (1000,)\n"
          ],
          "name": "stdout"
        }
      ]
    },
    {
      "cell_type": "code",
      "metadata": {
        "id": "n7Y44TAx_XWU"
      },
      "source": [
        "model = RadiusNeighborsClassifier()"
      ],
      "execution_count": 6,
      "outputs": []
    },
    {
      "cell_type": "code",
      "metadata": {
        "id": "wK4RhkMq_hxq"
      },
      "source": [
        "pipeline = Pipeline(steps=[('norm', MinMaxScaler()),('model',model)])"
      ],
      "execution_count": 7,
      "outputs": []
    },
    {
      "cell_type": "code",
      "metadata": {
        "id": "_RlcJnkr_2Ox",
        "outputId": "2ffed66c-887d-49f3-a04c-d5597125b965",
        "colab": {
          "base_uri": "https://localhost:8080/",
          "height": 170
        }
      },
      "source": [
        "pipeline.fit(X, y)"
      ],
      "execution_count": 8,
      "outputs": [
        {
          "output_type": "execute_result",
          "data": {
            "text/plain": [
              "Pipeline(memory=None,\n",
              "         steps=[('norm', MinMaxScaler(copy=True, feature_range=(0, 1))),\n",
              "                ('model',\n",
              "                 RadiusNeighborsClassifier(algorithm='auto', leaf_size=30,\n",
              "                                           metric='minkowski',\n",
              "                                           metric_params=None, n_jobs=None,\n",
              "                                           outlier_label=None, p=2, radius=1.0,\n",
              "                                           weights='uniform'))],\n",
              "         verbose=False)"
            ]
          },
          "metadata": {
            "tags": []
          },
          "execution_count": 8
        }
      ]
    },
    {
      "cell_type": "code",
      "metadata": {
        "id": "ZFPJhpAj_3Sf"
      },
      "source": [
        "row = [2.47475454,0.40165523,1.68081787,2.88940715,0.91704519,-3.07950644,4.39961206,0.72464273,-4.86563631,-6.06338084,-1.22209949,-0.4699618,1.01222748,-0.6899355,-0.53000581,6.86966784,-3.27211075,-6.59044146,-2.21290585,-3.139579]"
      ],
      "execution_count": 9,
      "outputs": []
    },
    {
      "cell_type": "code",
      "metadata": {
        "id": "tP0TIQl__5U5"
      },
      "source": [
        "yhat = pipeline.predict([row])"
      ],
      "execution_count": 10,
      "outputs": []
    },
    {
      "cell_type": "code",
      "metadata": {
        "id": "TEdutVxp_7uZ",
        "outputId": "0afc0b53-28f8-4fc8-a51d-5b60121b6bcc",
        "colab": {
          "base_uri": "https://localhost:8080/",
          "height": 34
        }
      },
      "source": [
        "print('Predicted Class: %d' % yhat)"
      ],
      "execution_count": 11,
      "outputs": [
        {
          "output_type": "stream",
          "text": [
            "Predicted Class: 0\n"
          ],
          "name": "stdout"
        }
      ]
    },
    {
      "cell_type": "markdown",
      "metadata": {
        "id": "J9RckIlv__87"
      },
      "source": [
        "# Hyper-tune Radius Neighbors Classifier"
      ]
    },
    {
      "cell_type": "code",
      "metadata": {
        "id": "mHCNd0Kz_-VX",
        "outputId": "a9eb631b-144c-453d-ddf2-637c272eb4f0",
        "colab": {
          "base_uri": "https://localhost:8080/",
          "height": 51
        }
      },
      "source": [
        "cv = RepeatedStratifiedKFold(n_splits=10, n_repeats=3, random_state=1)\n",
        "\n",
        "grid = dict()\n",
        "grid['model__radius'] = np.arange(0.8, 1.5, 0.01)\n",
        "\n",
        "search = GridSearchCV(pipeline, grid, scoring='accuracy', cv=cv, n_jobs=-1)\n",
        "\n",
        "results = search.fit(X, y)\n",
        "\n",
        "print('Mean Accuracy: %.3f' % results.best_score_)\n",
        "print('Config: %s' % results.best_params_)"
      ],
      "execution_count": 17,
      "outputs": [
        {
          "output_type": "stream",
          "text": [
            "Mean Accuracy: 0.872\n",
            "Config: {'model__radius': 0.8}\n"
          ],
          "name": "stdout"
        }
      ]
    },
    {
      "cell_type": "code",
      "metadata": {
        "id": "9szRXiMGAfVE",
        "outputId": "a095b2f4-2356-4b53-c71f-0ecd96dfbd87",
        "colab": {
          "base_uri": "https://localhost:8080/",
          "height": 51
        }
      },
      "source": [
        "cv = RepeatedStratifiedKFold(n_splits=10, n_repeats=3, random_state=1)\n",
        "\n",
        "grid = dict()\n",
        "grid['model__weights'] = ['uniform', 'distance']\n",
        "\n",
        "search = GridSearchCV(pipeline, grid, scoring='accuracy', cv=cv, n_jobs=-1)\n",
        "\n",
        "results = search.fit(X, y)\n",
        "\n",
        "print('Mean Accuracy: %.3f' % results.best_score_)\n",
        "print('Config: %s' % results.best_params_)"
      ],
      "execution_count": 19,
      "outputs": [
        {
          "output_type": "stream",
          "text": [
            "Mean Accuracy: 0.825\n",
            "Config: {'model__weights': 'distance'}\n"
          ],
          "name": "stdout"
        }
      ]
    }
  ]
}