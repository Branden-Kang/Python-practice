{
  "nbformat": 4,
  "nbformat_minor": 0,
  "metadata": {
    "colab": {
      "name": "Pure Functions vs Impure Functions in Python..ipynb",
      "provenance": [],
      "collapsed_sections": [],
      "authorship_tag": "ABX9TyORLRRn9F+5BXkXUHptupVk"
    },
    "kernelspec": {
      "name": "python3",
      "display_name": "Python 3"
    },
    "language_info": {
      "name": "python"
    }
  },
  "cells": [
    {
      "cell_type": "markdown",
      "source": [
        "[Reference](https://medium.com/@benjamin.BA/pure-functions-vs-impure-functions-in-python-b2f009664ee4)\n"
      ],
      "metadata": {
        "id": "ic7xi5d9NQQy"
      }
    },
    {
      "cell_type": "code",
      "execution_count": 1,
      "metadata": {
        "colab": {
          "base_uri": "https://localhost:8080/"
        },
        "id": "I7AMkUBfNOuU",
        "outputId": "97cb13fc-499e-4cfc-8dfe-e3094466b9af"
      },
      "outputs": [
        {
          "output_type": "stream",
          "name": "stdout",
          "text": [
            "12.0\n"
          ]
        }
      ],
      "source": [
        "def func(num1, num2):\n",
        "    x = (num1 * num2)/num2\n",
        "    return x\n",
        "\n",
        "print(func(12,45))"
      ]
    },
    {
      "cell_type": "code",
      "source": [
        "num3 = 10\n",
        "def func(num1, num2):\n",
        "    x = (num1 * num2)/num2*num3\n",
        "    return x\n",
        "\n",
        "print(func(12,45))"
      ],
      "metadata": {
        "colab": {
          "base_uri": "https://localhost:8080/"
        },
        "id": "OGODL0VBRBeR",
        "outputId": "4cbcef3b-f845-44c2-e0a6-7930d56b6648"
      },
      "execution_count": 2,
      "outputs": [
        {
          "output_type": "stream",
          "name": "stdout",
          "text": [
            "120.0\n"
          ]
        }
      ]
    }
  ]
}