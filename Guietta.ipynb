{
 "cells": [
  {
   "cell_type": "code",
   "execution_count": 1,
   "metadata": {},
   "outputs": [],
   "source": [
    "# !pip install guietta"
   ]
  },
  {
   "cell_type": "code",
   "execution_count": 2,
   "metadata": {},
   "outputs": [],
   "source": [
    "from guietta import _, Gui, Quit\n",
    "gui = Gui(\n",
    "    [ \"Enter numbers:\",  \"__a__\", \"+\", \"__b__\", [\"Calculate\"] ],\n",
    "    [    \"Result: -->\", \"result\",   _,       _,             _ ],\n",
    "    [                _,        _,   _,       _,          Quit ]\n",
    ")\n",
    "\n",
    "with gui.Calculate:\n",
    "    gui.result = float(gui.a) + float(gui.b)\n",
    "\n",
    "gui.run()"
   ]
  }
 ],
 "metadata": {
  "kernelspec": {
   "display_name": "Python 3",
   "language": "python",
   "name": "python3"
  },
  "language_info": {
   "codemirror_mode": {
    "name": "ipython",
    "version": 3
   },
   "file_extension": ".py",
   "mimetype": "text/x-python",
   "name": "python",
   "nbconvert_exporter": "python",
   "pygments_lexer": "ipython3",
   "version": "3.7.3"
  }
 },
 "nbformat": 4,
 "nbformat_minor": 2
}
