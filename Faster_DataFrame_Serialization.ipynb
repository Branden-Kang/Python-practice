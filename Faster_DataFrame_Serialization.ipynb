{
  "nbformat": 4,
  "nbformat_minor": 0,
  "metadata": {
    "colab": {
      "provenance": [],
      "authorship_tag": "ABX9TyPpeNYVv9/bPcRh8oUQtBPM"
    },
    "kernelspec": {
      "name": "python3",
      "display_name": "Python 3"
    },
    "language_info": {
      "name": "python"
    }
  },
  "cells": [
    {
      "cell_type": "markdown",
      "source": [
        "[Reference](https://towardsdatascience.com/faster-dataframe-serialization-75205b6b7c69)"
      ],
      "metadata": {
        "id": "R5_NIcyiWXze"
      }
    },
    {
      "cell_type": "code",
      "source": [
        "!pip install static_frame"
      ],
      "metadata": {
        "colab": {
          "base_uri": "https://localhost:8080/"
        },
        "id": "C-ZttyGLWjxd",
        "outputId": "e439ac60-0773-4e10-86b0-1652c3ccfec6"
      },
      "execution_count": 2,
      "outputs": [
        {
          "output_type": "stream",
          "name": "stdout",
          "text": [
            "Collecting static_frame\n",
            "  Downloading static_frame-2.2.3-py3-none-any.whl (739 kB)\n",
            "\u001b[2K     \u001b[90m━━━━━━━━━━━━━━━━━━━━━━━━━━━━━━━━━━━━━━━━\u001b[0m \u001b[32m739.6/739.6 kB\u001b[0m \u001b[31m8.7 MB/s\u001b[0m eta \u001b[36m0:00:00\u001b[0m\n",
            "\u001b[?25hRequirement already satisfied: numpy>=1.19.5 in /usr/local/lib/python3.10/dist-packages (from static_frame) (1.23.5)\n",
            "Collecting arraymap==0.2.2 (from static_frame)\n",
            "  Downloading arraymap-0.2.2-cp310-cp310-manylinux_2_17_x86_64.manylinux2014_x86_64.whl (147 kB)\n",
            "\u001b[2K     \u001b[90m━━━━━━━━━━━━━━━━━━━━━━━━━━━━━━━━━━━━━━━━\u001b[0m \u001b[32m147.1/147.1 kB\u001b[0m \u001b[31m8.3 MB/s\u001b[0m eta \u001b[36m0:00:00\u001b[0m\n",
            "\u001b[?25hCollecting arraykit==0.5.1 (from static_frame)\n",
            "  Downloading arraykit-0.5.1-cp310-cp310-manylinux_2_17_x86_64.manylinux2014_x86_64.whl (243 kB)\n",
            "\u001b[2K     \u001b[90m━━━━━━━━━━━━━━━━━━━━━━━━━━━━━━━━━━━━━━━━\u001b[0m \u001b[32m243.1/243.1 kB\u001b[0m \u001b[31m14.1 MB/s\u001b[0m eta \u001b[36m0:00:00\u001b[0m\n",
            "\u001b[?25hRequirement already satisfied: typing-extensions>=4.7.1 in /usr/local/lib/python3.10/dist-packages (from static_frame) (4.9.0)\n",
            "Installing collected packages: arraymap, arraykit, static_frame\n",
            "Successfully installed arraykit-0.5.1 arraymap-0.2.2 static_frame-2.2.3\n"
          ]
        }
      ]
    },
    {
      "cell_type": "code",
      "execution_count": 3,
      "metadata": {
        "id": "RGgAY1e-WUR2"
      },
      "outputs": [],
      "source": [
        "import numpy as np\n",
        "import static_frame as sf\n",
        "import pandas as pd"
      ]
    },
    {
      "cell_type": "code",
      "source": [
        "# an square, uniform float array\n",
        "array = np.random.random_sample((10_000, 10_000))\n",
        "\n",
        "# write peformance\n",
        "f1 = sf.Frame(array)\n",
        "%time f1.to_npz('/tmp/frame.npz')"
      ],
      "metadata": {
        "colab": {
          "base_uri": "https://localhost:8080/"
        },
        "id": "rJQjcRfQWezB",
        "outputId": "cb2fb37a-8874-4da5-ca3e-a3b6d1f6afe6"
      },
      "execution_count": 4,
      "outputs": [
        {
          "output_type": "stream",
          "name": "stdout",
          "text": [
            "CPU times: user 1.11 s, sys: 1.18 s, total: 2.29 s\n",
            "Wall time: 7.1 s\n"
          ]
        }
      ]
    },
    {
      "cell_type": "code",
      "source": [
        "df1 = pd.DataFrame(array)\n",
        "df1.columns = df1.columns.astype(str)\n",
        "%time df1.to_parquet('/tmp/df.parquet', compression=None)"
      ],
      "metadata": {
        "colab": {
          "base_uri": "https://localhost:8080/"
        },
        "id": "oliT7IUVWm-8",
        "outputId": "8251d5c0-5d48-4225-b8cb-aa478940ca7c"
      },
      "execution_count": 9,
      "outputs": [
        {
          "output_type": "stream",
          "name": "stdout",
          "text": [
            "CPU times: user 11.9 s, sys: 2.33 s, total: 14.3 s\n",
            "Wall time: 16.1 s\n"
          ]
        }
      ]
    },
    {
      "cell_type": "code",
      "source": [
        "# read performance\n",
        "%time f2 = f1.from_npz('/tmp/frame.npz')"
      ],
      "metadata": {
        "colab": {
          "base_uri": "https://localhost:8080/"
        },
        "id": "Swsc6HiPWoUX",
        "outputId": "b5273995-2f81-4bb2-e157-c8170ec55267"
      },
      "execution_count": 10,
      "outputs": [
        {
          "output_type": "stream",
          "name": "stdout",
          "text": [
            "CPU times: user 2.49 ms, sys: 422 ms, total: 425 ms\n",
            "Wall time: 421 ms\n"
          ]
        }
      ]
    },
    {
      "cell_type": "code",
      "source": [
        "%time df2 = pd.read_parquet('/tmp/df.parquet')"
      ],
      "metadata": {
        "colab": {
          "base_uri": "https://localhost:8080/"
        },
        "id": "yH5NWH5OWphO",
        "outputId": "a237cffd-26be-4235-9269-b408f946e286"
      },
      "execution_count": 11,
      "outputs": [
        {
          "output_type": "stream",
          "name": "stdout",
          "text": [
            "CPU times: user 2.12 s, sys: 2.29 s, total: 4.41 s\n",
            "Wall time: 3.11 s\n"
          ]
        }
      ]
    },
    {
      "cell_type": "code",
      "source": [
        "frame = sf.Frame.from_npz(sf.WWW.from_file('https://github.com/static-frame/static-frame/raw/master/doc/source/articles/serialize/frame.npz', encoding=None))\n",
        "frame"
      ],
      "metadata": {
        "colab": {
          "base_uri": "https://localhost:8080/",
          "height": 124
        },
        "id": "R775s6yKWps7",
        "outputId": "2c1f48da-762c-4413-f4aa-76dd0d4a71a2"
      },
      "execution_count": 12,
      "outputs": [
        {
          "output_type": "execute_result",
          "data": {
            "text/plain": [
              "<Frame: p>\n",
              "<IndexHierarchy: q>       data    data    data    valid  <<U5>\n",
              "                          A       B       C       *      <<U1>\n",
              "<IndexHierarchy: r>\n",
              "2012-03             x     5       4       7       False\n",
              "2012-03             y     9       1       8       True\n",
              "2012-04             x     3       6       2       True\n",
              "<datetime64[M]>     <<U1> <int64> <int64> <int64> <bool>"
            ],
            "text/html": [
              "<table><thead><tr><th></th><th></th><th>data</th><th>data</th><th>data</th><th>valid</th></tr><tr><th></th><th></th><th>A</th><th>B</th><th>C</th><th>*</th></tr></thead><tbody><tr><th>2012-03</th><th>x</th><td>5</td><td>4</td><td>7</td><td>False</td></tr><tr><th>2012-03</th><th>y</th><td>9</td><td>1</td><td>8</td><td>True</td></tr><tr><th>2012-04</th><th>x</th><td>3</td><td>6</td><td>2</td><td>True</td></tr></tbody></table>"
            ]
          },
          "metadata": {},
          "execution_count": 12
        }
      ]
    }
  ]
}