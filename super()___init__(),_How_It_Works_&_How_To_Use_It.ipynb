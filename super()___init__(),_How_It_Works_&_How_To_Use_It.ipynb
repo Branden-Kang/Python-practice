{
  "nbformat": 4,
  "nbformat_minor": 0,
  "metadata": {
    "colab": {
      "provenance": [],
      "authorship_tag": "ABX9TyMyLO2BsMGaO5ZvaUGXZgmM"
    },
    "kernelspec": {
      "name": "python3",
      "display_name": "Python 3"
    },
    "language_info": {
      "name": "python"
    }
  },
  "cells": [
    {
      "cell_type": "markdown",
      "source": [
        "[Reference](https://python.plainenglish.io/super-init-how-it-works-how-to-use-it-11c6be97aa5e)"
      ],
      "metadata": {
        "id": "ohelRtFZJX3I"
      }
    },
    {
      "cell_type": "markdown",
      "source": [
        "# 1) When parent & child class takes in the same number of args during initialization"
      ],
      "metadata": {
        "id": "LX7Sf97rJoN0"
      }
    },
    {
      "cell_type": "code",
      "execution_count": 1,
      "metadata": {
        "id": "M8MRoaVgIp6E"
      },
      "outputs": [],
      "source": [
        "# parent class\n",
        "class Animal:\n",
        "  def __init__(self, name, age):\n",
        "    self.name = name\n",
        "    self.age = age"
      ]
    },
    {
      "cell_type": "code",
      "source": [
        "# child class\n",
        "class Dog(Animal):\n",
        "\n",
        "  # Dog's __init__ should follow Dog(name, age)\n",
        "  def __init__(self, name, age):\n",
        "\n",
        "    # super().__init__ here refers to Animal.__init__\n",
        "    # super().__init__ should \n",
        "    super().__init__(name, age)"
      ],
      "metadata": {
        "id": "Ik9hXXlbJXPQ"
      },
      "execution_count": 2,
      "outputs": []
    },
    {
      "cell_type": "markdown",
      "source": [
        "# 2) When child takes in MORE args than parent"
      ],
      "metadata": {
        "id": "oM7uDmqFJrEy"
      }
    },
    {
      "cell_type": "code",
      "source": [
        "# parent class\n",
        "class Employee:\n",
        "  def __init__(self, name, age):\n",
        "    self.name = name\n",
        "    self.age = age"
      ],
      "metadata": {
        "id": "AiMfQd1tJbbT"
      },
      "execution_count": 3,
      "outputs": []
    },
    {
      "cell_type": "code",
      "source": [
        "# child class\n",
        "class Executive(Employee):\n",
        "\n",
        "  # Executive.__init__ follows Executive(name, age, rank)\n",
        "  def __init__(self, name, age, rank):\n",
        "\n",
        "    # super().__init__ refers to Employee.__init__\n",
        "    # super().__init__ should follow Employee(name, age)\n",
        "    super().__init__(name, age)\n",
        "\n",
        "    # super().__init__() does not set rank, so we must do it manually\n",
        "    self.rank = rank"
      ],
      "metadata": {
        "id": "YER6oTdQJcWR"
      },
      "execution_count": 4,
      "outputs": []
    },
    {
      "cell_type": "markdown",
      "source": [
        "# 3) When child takes in FEWER args than parent"
      ],
      "metadata": {
        "id": "p4WNG1oXJs4G"
      }
    },
    {
      "cell_type": "code",
      "source": [
        "# parent class\n",
        "class Rectangle:\n",
        "  def __init__(self, length, width):\n",
        "    self.length = length\n",
        "    self.width = width"
      ],
      "metadata": {
        "id": "WWc1zywkJeXt"
      },
      "execution_count": 7,
      "outputs": []
    },
    {
      "cell_type": "code",
      "source": [
        "# chid class\n",
        "class Square(Rectangle):\n",
        "  \n",
        "  # Square.__init__ should follow Square(length)\n",
        "  def __init__(self, length):\n",
        "\n",
        "    # super().__init__ should follow Rectangle()\n",
        "    super().__init__(length, length)"
      ],
      "metadata": {
        "id": "QCt8UjIOJuXb"
      },
      "execution_count": 8,
      "outputs": []
    }
  ]
}