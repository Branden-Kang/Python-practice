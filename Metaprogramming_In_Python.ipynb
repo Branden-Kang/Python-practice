{
  "nbformat": 4,
  "nbformat_minor": 0,
  "metadata": {
    "colab": {
      "name": "Metaprogramming In Python.ipynb",
      "provenance": [],
      "authorship_tag": "ABX9TyNzvCX5mcjkkXTITyDDncmS"
    },
    "kernelspec": {
      "name": "python3",
      "display_name": "Python 3"
    }
  },
  "cells": [
    {
      "cell_type": "markdown",
      "metadata": {
        "id": "IvkvI0x74-Pd"
      },
      "source": [
        "[Reference](https://medium.com/fintechexplained/advanced-python-metaprogramming-980da1be0c7d)"
      ]
    },
    {
      "cell_type": "code",
      "metadata": {
        "id": "UrOwyE4V48qp",
        "outputId": "b3d5f770-c8c9-4d56-ed13-532f6b23b5fb",
        "colab": {
          "base_uri": "https://localhost:8080/",
          "height": 34
        }
      },
      "source": [
        "def get_fin_tech_explained():\n",
        "    class FinTechExplained:\n",
        "        pass\n",
        "    return FinTechExplained\n",
        "\n",
        "print(get_fin_tech_explained())"
      ],
      "execution_count": 1,
      "outputs": [
        {
          "output_type": "stream",
          "text": [
            "<class '__main__.get_fin_tech_explained.<locals>.FinTechExplained'>\n"
          ],
          "name": "stdout"
        }
      ]
    },
    {
      "cell_type": "code",
      "metadata": {
        "id": "CKIUudTm6T-3",
        "outputId": "a02d0b29-43e1-4d2c-a224-678efa953d14",
        "colab": {
          "base_uri": "https://localhost:8080/",
          "height": 34
        }
      },
      "source": [
        "print(type(get_fin_tech_explained))"
      ],
      "execution_count": 2,
      "outputs": [
        {
          "output_type": "stream",
          "text": [
            "<class 'function'>\n"
          ],
          "name": "stdout"
        }
      ]
    },
    {
      "cell_type": "code",
      "metadata": {
        "id": "yTdngmOf6ahP",
        "outputId": "3f6398b4-be6e-4c20-fc85-74043fe8ebd5",
        "colab": {
          "base_uri": "https://localhost:8080/",
          "height": 34
        }
      },
      "source": [
        "print(type(get_fin_tech_explained()))"
      ],
      "execution_count": 3,
      "outputs": [
        {
          "output_type": "stream",
          "text": [
            "<class 'type'>\n"
          ],
          "name": "stdout"
        }
      ]
    },
    {
      "cell_type": "code",
      "metadata": {
        "id": "Mf06jgvz6a7X",
        "outputId": "f2c9b762-e583-4c41-a487-12f20cc79a11",
        "colab": {
          "base_uri": "https://localhost:8080/",
          "height": 34
        }
      },
      "source": [
        "class FinTechExplained:\n",
        "    def __init__(self, blog_name):\n",
        "        self.blog_name = blog_name\n",
        "\n",
        "    def get_blog_name(self):\n",
        "        return f'Blog name is : {self.blog_name}'\n",
        "\n",
        "fin_tech = FinTechExplained('Metaprogramming')\n",
        "print(fin_tech.get_blog_name())"
      ],
      "execution_count": 4,
      "outputs": [
        {
          "output_type": "stream",
          "text": [
            "Blog name is : Metaprogramming\n"
          ],
          "name": "stdout"
        }
      ]
    },
    {
      "cell_type": "code",
      "metadata": {
        "id": "BKW2kkA97Ak3"
      },
      "source": [
        "def FinTechExplained_init__(self, blog_name):\n",
        "    self.blog_name = blog_name\n",
        "\n",
        "fin_tech = type(\"FinTechExplained\",\n",
        "              (),\n",
        "              {\"__init__\": FinTechExplained_init__,\n",
        "               \"get_blog_name\": lambda self:f'Blog name is : {self.blog_name}'})"
      ],
      "execution_count": 6,
      "outputs": []
    },
    {
      "cell_type": "code",
      "metadata": {
        "id": "dV5TArHu7HCz",
        "outputId": "65b6b92b-699b-48cd-988b-3c8948745008",
        "colab": {
          "base_uri": "https://localhost:8080/",
          "height": 34
        }
      },
      "source": [
        "fin_tech = FinTechExplained('Metaprogramming')\n",
        "print(fin_tech.get_blog_name())"
      ],
      "execution_count": 8,
      "outputs": [
        {
          "output_type": "stream",
          "text": [
            "Blog name is : Metaprogramming\n"
          ],
          "name": "stdout"
        }
      ]
    },
    {
      "cell_type": "code",
      "metadata": {
        "id": "dQUY6USc7Nwf"
      },
      "source": [
        "class FinTechExplainedMeta(type):\n",
        "    def __new__(cls, what, bases=None, dict=None):\n",
        "        return type.__new__(cls, what, bases, new_dict)"
      ],
      "execution_count": 9,
      "outputs": []
    },
    {
      "cell_type": "code",
      "metadata": {
        "id": "DYpS1XZH8WkK"
      },
      "source": [
        "class FinTechExplainedMeta(type):\n",
        "    def __new__(cls, what, bases=None, dict=None):\n",
        "        print(dict)\n",
        "        if 'get_blog' in dict:\n",
        "            print('Great you have get_blog')\n",
        "        else:\n",
        "            raise Exception('get_blog missing')\n",
        "        return type.__new__(cls, what, bases, dict)"
      ],
      "execution_count": 10,
      "outputs": []
    }
  ]
}