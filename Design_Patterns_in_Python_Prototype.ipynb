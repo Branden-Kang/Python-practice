{
  "nbformat": 4,
  "nbformat_minor": 0,
  "metadata": {
    "colab": {
      "provenance": [],
      "authorship_tag": "ABX9TyMz1LCxeSR1CoF+CBmkgHGQ"
    },
    "kernelspec": {
      "name": "python3",
      "display_name": "Python 3"
    },
    "language_info": {
      "name": "python"
    }
  },
  "cells": [
    {
      "cell_type": "markdown",
      "source": [
        "[Reference](https://medium.com/@amirm.lavasani/design-patterns-in-python-prototype-6aeeda10f41e)"
      ],
      "metadata": {
        "id": "hPOC4gJadPcZ"
      }
    },
    {
      "cell_type": "code",
      "execution_count": 1,
      "metadata": {
        "id": "Ga5Kx5UUdMwz"
      },
      "outputs": [],
      "source": [
        "import copy\n",
        "\n",
        "class Prototype:\n",
        "    def __init__(self):\n",
        "        self.data = []\n",
        "\n",
        "    def clone(self):\n",
        "        return copy.deepcopy(self)\n",
        "\n",
        "# Create a prototype\n",
        "prototype_instance = Prototype()\n",
        "\n",
        "# Clone the prototype\n",
        "clone_instance = prototype_instance.clone()"
      ]
    },
    {
      "cell_type": "code",
      "source": [
        "import copy\n",
        "\n",
        "class Prototype:\n",
        "    def clone(self):\n",
        "        return copy.deepcopy(self)\n",
        "\n",
        "class ConcretePrototypeA(Prototype):\n",
        "    def __init__(self, data):\n",
        "        self.data = data\n",
        "\n",
        "class ConcretePrototypeB(Prototype):\n",
        "    def __init__(self, data):\n",
        "        self.data = data\n",
        "\n",
        "class PrototypeRegistry:\n",
        "    def __init__(self):\n",
        "        self.prototypes = {}\n",
        "\n",
        "    def add_prototype(self, name, prototype):\n",
        "        self.prototypes[name] = prototype\n",
        "\n",
        "    def get_prototype(self, name):\n",
        "        if name in self.prototypes:\n",
        "            return self.prototypes[name].clone()\n",
        "        else:\n",
        "            raise ValueError(f\"Prototype '{name}' not found.\")\n",
        "\n",
        "# Create prototype instances\n",
        "prototype_a = ConcretePrototypeA(\"Prototype A Data\")\n",
        "prototype_b = ConcretePrototypeB(\"Prototype B Data\")\n",
        "\n",
        "# Create and populate the Prototype Registry\n",
        "registry = PrototypeRegistry()\n",
        "registry.add_prototype(\"PrototypeA\", prototype_a)\n",
        "registry.add_prototype(\"PrototypeB\", prototype_b)\n",
        "\n",
        "# Clone prototypes from the registry\n",
        "cloned_prototype_a = registry.get_prototype(\"PrototypeA\")\n",
        "cloned_prototype_b = registry.get_prototype(\"PrototypeB\")\n",
        "\n",
        "# Verify cloned data\n",
        "print(cloned_prototype_a.data)  # Output: Prototype A Data\n",
        "print(cloned_prototype_b.data)  # Output: Prototype B Data"
      ],
      "metadata": {
        "colab": {
          "base_uri": "https://localhost:8080/"
        },
        "id": "vYI-u6izdZOI",
        "outputId": "9a047d5d-0b2c-4913-aad0-67511a5e7260"
      },
      "execution_count": 2,
      "outputs": [
        {
          "output_type": "stream",
          "name": "stdout",
          "text": [
            "Prototype A Data\n",
            "Prototype B Data\n"
          ]
        }
      ]
    }
  ]
}