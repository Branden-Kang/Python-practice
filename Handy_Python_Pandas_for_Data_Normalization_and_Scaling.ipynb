{
  "nbformat": 4,
  "nbformat_minor": 0,
  "metadata": {
    "colab": {
      "provenance": [],
      "authorship_tag": "ABX9TyNqVfvQo5Ytmk5f/sFi49DL"
    },
    "kernelspec": {
      "name": "python3",
      "display_name": "Python 3"
    },
    "language_info": {
      "name": "python"
    }
  },
  "cells": [
    {
      "cell_type": "markdown",
      "source": [
        "[Reference](https://learner-cares.medium.com/handy-python-pandas-for-data-normalization-and-scaling-9658846de8fc)"
      ],
      "metadata": {
        "id": "46E8YvLssN6X"
      }
    },
    {
      "cell_type": "code",
      "execution_count": 1,
      "metadata": {
        "colab": {
          "base_uri": "https://localhost:8080/"
        },
        "id": "JauS1Y2vsHuA",
        "outputId": "6bc0e13a-8738-483b-d2a1-4e7df6566486"
      },
      "outputs": [
        {
          "output_type": "stream",
          "name": "stdout",
          "text": [
            "Raw Data\n",
            "   A   B\n",
            "0  1  10\n",
            "1  2  20\n",
            "2  3  30\n",
            "3  4  40\n",
            "4  5  50\n",
            "\n",
            "Normalized Data\n",
            "      A     B\n",
            "0  0.00  0.00\n",
            "1  0.25  0.25\n",
            "2  0.50  0.50\n",
            "3  0.75  0.75\n",
            "4  1.00  1.00\n"
          ]
        }
      ],
      "source": [
        "from sklearn.preprocessing import MinMaxScaler\n",
        "import pandas as pd\n",
        "\n",
        "# read the data from a csv file\n",
        "# data = pd.read_csv('data.csv')\n",
        "\n",
        "# Create a sample dataframe\n",
        "df = pd.DataFrame({\n",
        "    'A': [1, 2, 3, 4, 5],\n",
        "    'B': [10, 20, 30, 40, 50]\n",
        "})\n",
        "\n",
        "# create a MinMaxScaler object\n",
        "scaler = MinMaxScaler()\n",
        "\n",
        "# fit and transform the data\n",
        "normalized_data = scaler.fit_transform(df)\n",
        "\n",
        "# create a new DataFrame with the normalized data\n",
        "normalized_df = pd.DataFrame(normalized_data, columns=df.columns)\n",
        "print(\"Raw Data\")\n",
        "print(df)\n",
        "print(\"\\nNormalized Data\")\n",
        "print(normalized_df)"
      ]
    },
    {
      "cell_type": "code",
      "source": [
        "from sklearn.preprocessing import StandardScaler\n",
        "import pandas as pd\n",
        "\n",
        "# read the data from a csv file\n",
        "# data = pd.read_csv('data.csv')\n",
        "# Create a sample dataframe\n",
        "df = pd.DataFrame({\n",
        "    'A': [1, 2, 3, 4, 5],\n",
        "    'B': [10, 20, 30, 40, 50]\n",
        "})\n",
        "\n",
        "# create a StandardScaler object\n",
        "scaler = StandardScaler()\n",
        "\n",
        "# fit and transform the data\n",
        "scaled_data = scaler.fit_transform(df)\n",
        "\n",
        "# create a new DataFrame with the scaled data\n",
        "scaled_df = pd.DataFrame(scaled_data, columns=df.columns)\n",
        "\n",
        "print(\"Raw Data\")\n",
        "print(df)\n",
        "print(\"\\nNormalized Data\")\n",
        "print(scaled_df)"
      ],
      "metadata": {
        "colab": {
          "base_uri": "https://localhost:8080/"
        },
        "id": "Jk0FyRIssWwY",
        "outputId": "760554ba-63ac-4a79-8231-a436bf64ad29"
      },
      "execution_count": 3,
      "outputs": [
        {
          "output_type": "stream",
          "name": "stdout",
          "text": [
            "Raw Data\n",
            "   A   B\n",
            "0  1  10\n",
            "1  2  20\n",
            "2  3  30\n",
            "3  4  40\n",
            "4  5  50\n",
            "\n",
            "Normalized Data\n",
            "          A         B\n",
            "0 -1.414214 -1.414214\n",
            "1 -0.707107 -0.707107\n",
            "2  0.000000  0.000000\n",
            "3  0.707107  0.707107\n",
            "4  1.414214  1.414214\n"
          ]
        }
      ]
    }
  ]
}