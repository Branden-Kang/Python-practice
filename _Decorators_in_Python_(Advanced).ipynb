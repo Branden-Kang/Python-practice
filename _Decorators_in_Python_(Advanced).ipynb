{
  "nbformat": 4,
  "nbformat_minor": 0,
  "metadata": {
    "colab": {
      "name": "@Decorators in Python (Advanced).ipynb",
      "provenance": [],
      "authorship_tag": "ABX9TyPPXv7zD4t57HDCYchhpSma"
    },
    "kernelspec": {
      "name": "python3",
      "display_name": "Python 3"
    },
    "language_info": {
      "name": "python"
    }
  },
  "cells": [
    {
      "cell_type": "markdown",
      "metadata": {
        "id": "NrjMhP_HQbFR"
      },
      "source": [
        "[Reference](https://towardsdatascience.com/decorators-in-python-advanced-8e6d3e509ffe)"
      ]
    },
    {
      "cell_type": "code",
      "metadata": {
        "colab": {
          "base_uri": "https://localhost:8080/",
          "height": 37
        },
        "id": "T8JIh85qPI7m",
        "outputId": "f20ca66e-1d9a-40ec-c5bf-36c9954aba13"
      },
      "source": [
        "def func(x):\n",
        "     return x.upper()\n",
        "func(\"roar\")"
      ],
      "execution_count": 1,
      "outputs": [
        {
          "output_type": "execute_result",
          "data": {
            "application/vnd.google.colaboratory.intrinsic+json": {
              "type": "string"
            },
            "text/plain": [
              "'ROAR'"
            ]
          },
          "metadata": {
            "tags": []
          },
          "execution_count": 1
        }
      ]
    },
    {
      "cell_type": "code",
      "metadata": {
        "id": "1qI0AUYfPLDb"
      },
      "source": [
        "new_func = func"
      ],
      "execution_count": 2,
      "outputs": []
    },
    {
      "cell_type": "code",
      "metadata": {
        "colab": {
          "base_uri": "https://localhost:8080/",
          "height": 37
        },
        "id": "Z0COLupFPMQH",
        "outputId": "6d6bdf40-e268-4331-e24d-42c29aff7529"
      },
      "source": [
        "new_func(\"meow\")"
      ],
      "execution_count": 3,
      "outputs": [
        {
          "output_type": "execute_result",
          "data": {
            "application/vnd.google.colaboratory.intrinsic+json": {
              "type": "string"
            },
            "text/plain": [
              "'MEOW'"
            ]
          },
          "metadata": {
            "tags": []
          },
          "execution_count": 3
        }
      ]
    },
    {
      "cell_type": "code",
      "metadata": {
        "id": "rTHSoaNkPNGz"
      },
      "source": [
        "del func"
      ],
      "execution_count": 4,
      "outputs": []
    },
    {
      "cell_type": "code",
      "metadata": {
        "id": "keo4UTObPOBr"
      },
      "source": [
        "def factorial(n):\n",
        "    \"\"\" \n",
        "    Calculates the factorial of n, \n",
        "    n => integer and n >= 0.\n",
        "    \"\"\"\n",
        "    if type(n) == int and n >= 0:\n",
        "        if n == 0:\n",
        "            return 1\n",
        "        else:\n",
        "            return n * factorial(n-1) # Recursive Call\n",
        "    else:\n",
        "        raise TypeError(\"n should be an integer and n >= 0\")"
      ],
      "execution_count": 5,
      "outputs": []
    },
    {
      "cell_type": "code",
      "metadata": {
        "id": "sjdkaf0HPPUQ"
      },
      "source": [
        "def factorial(n):\n",
        "    \"\"\" \n",
        "    Calculates the factorial of n, \n",
        "    n => integer and n >= 0.\n",
        "    \"\"\"\n",
        "    def inner_factorial(n):\n",
        "        if n == 0:\n",
        "            return 1\n",
        "        else:\n",
        "            return n * inner_factorial(n-1)\n",
        "    if type(n) == int and n >=0:\n",
        "        return inner_factorial(n)\n",
        "    else:\n",
        "        raise TypeError(\"n should be an integer and n >= 0\")"
      ],
      "execution_count": 6,
      "outputs": []
    },
    {
      "cell_type": "code",
      "metadata": {
        "colab": {
          "base_uri": "https://localhost:8080/"
        },
        "id": "x-PTQdsHPR-w",
        "outputId": "79358873-98ab-4033-9fdb-8e8d67f72a7b"
      },
      "source": [
        "import math\n",
        "def sin_cos(func, var):\n",
        "    print(\"Call this\" + func.__name__ +\"function\")\n",
        "    print(func(var))\n",
        "    \n",
        "sin_cos(math.sin, 60) # -0.3048106211022167\n",
        "sin_cos(math.cos, 45) # 0.5253219888177297"
      ],
      "execution_count": 8,
      "outputs": [
        {
          "output_type": "stream",
          "text": [
            "Call thissinfunction\n",
            "-0.3048106211022167\n",
            "Call thiscosfunction\n",
            "0.5253219888177297\n"
          ],
          "name": "stdout"
        }
      ]
    },
    {
      "cell_type": "code",
      "metadata": {
        "colab": {
          "base_uri": "https://localhost:8080/"
        },
        "id": "QArcGi0vPT-V",
        "outputId": "0ac07b6e-0275-48e7-b057-4286f94bd71c"
      },
      "source": [
        "def sound(range):    \n",
        "    \"\"\" \n",
        "    Args: range (Type of sound). (<class 'str'>)\n",
        "    Return: function object of the sound (<class 'function'>)\n",
        "    \"\"\" \n",
        "    def loud(x):\n",
        "        print(x.upper() + '🐯')\n",
        "    def low(x):\n",
        "        print(x.lower() + '🐱')\n",
        "    if range == 'loud':\n",
        "        return loud\n",
        "    else:\n",
        "        return low\n",
        "        \n",
        "tiger = sound(\"loud\") # you can use this as a functions.\n",
        "tiger(\"roar..\") # ROAR..🐯\n",
        "\n",
        "cat = sound(\"low\")\n",
        "cat(\"MEOW..\") # meow..🐱"
      ],
      "execution_count": 11,
      "outputs": [
        {
          "output_type": "stream",
          "text": [
            "ROAR..🐯\n",
            "meow..🐱\n"
          ],
          "name": "stdout"
        }
      ]
    },
    {
      "cell_type": "code",
      "metadata": {
        "colab": {
          "base_uri": "https://localhost:8080/"
        },
        "id": "XJBteokVPWTz",
        "outputId": "c15e8c46-e396-4d2b-858f-c4388b8c6248"
      },
      "source": [
        "#Functions-returning-Functions\n",
        "\n",
        "def polynomial_creator(a, b, c):\n",
        "    \"\"\"\n",
        "    Creates 2nd degree polynomial functions\n",
        "    \"\"\"\n",
        "    def polynomial(x):\n",
        "        return a * x**2 + b * x + c\n",
        "    return polynomial\n",
        "    \n",
        "p1 = polynomial_creator(2, 3, -1)\n",
        "p2 = polynomial_creator(-1, 2, 1)\n",
        "\n",
        "x = -2\n",
        "print(x, p1(x), p2(x)) # -2 1 -7"
      ],
      "execution_count": 13,
      "outputs": [
        {
          "output_type": "stream",
          "text": [
            "-2 1 -7\n"
          ],
          "name": "stdout"
        }
      ]
    },
    {
      "cell_type": "code",
      "metadata": {
        "colab": {
          "base_uri": "https://localhost:8080/"
        },
        "id": "s4s4lJSdPdhw",
        "outputId": "0b407d94-78a1-4635-ab7e-45291d5d7b43"
      },
      "source": [
        "def func_name_printer(func):\n",
        "    def wrapper(*args):\n",
        "        print(\"Function that started running is \" + func.__name__)\n",
        "        func(*args)\n",
        "    return wrapper\n",
        "\n",
        "def add(*args):\n",
        "    tot_sum = 0\n",
        "    for arg in args:\n",
        "        tot_sum += arg\n",
        "    print(\"result = \" + str(tot_sum))\n",
        "\n",
        "sample = func_name_printer(add)\n",
        "\n",
        "# ex 1\n",
        "sample(1,2)\n",
        "# Function that started running is add\n",
        "# result = 3 \n",
        "\n",
        "# ex 2 \n",
        "sample(1,2,3)\n",
        "# Function that started running is add\n",
        "# result = 6\n",
        "\n",
        "# ex 3\n",
        "sample(1,2,3,4)\n",
        "# Function that started running is add\n",
        "# result = 10"
      ],
      "execution_count": 14,
      "outputs": [
        {
          "output_type": "stream",
          "text": [
            "Function that started running is add\n",
            "result = 3\n",
            "Function that started running is add\n",
            "result = 6\n",
            "Function that started running is add\n",
            "result = 10\n"
          ],
          "name": "stdout"
        }
      ]
    },
    {
      "cell_type": "code",
      "metadata": {
        "colab": {
          "base_uri": "https://localhost:8080/"
        },
        "id": "TvQPfZsVPlal",
        "outputId": "3f8a2b0e-77dc-4144-f938-1a71699dca21"
      },
      "source": [
        "def func_name_printer(func):\n",
        "    def wrapper(*args):\n",
        "        print(\"Function that started running is \" + func.__name__)\n",
        "        func(*args)\n",
        "    return wrapper\n",
        "\n",
        "@func_name_printer\n",
        "def add(*args):\n",
        "    tot_sum = 0\n",
        "    for arg in args:\n",
        "        tot_sum += arg\n",
        "    print(\"result = \" + str(tot_sum))\n",
        "    \n",
        "@func_name_printer\n",
        "def sub(*args):\n",
        "    tot_sub = args[0]-args[1]\n",
        "    print(\"result = \" + str(tot_sub))\n",
        "\n",
        "@func_name_printer\n",
        "def mul(*args):\n",
        "    tot_mul = 1\n",
        "    for arg in args:\n",
        "        tot_mul *= arg\n",
        "    print(\"result = \" + str(tot_mul))   \n",
        "    \n",
        "add(1,2)\n",
        "mul(1,2,3)\n",
        "sub(400, 150)"
      ],
      "execution_count": 15,
      "outputs": [
        {
          "output_type": "stream",
          "text": [
            "Function that started running is add\n",
            "result = 3\n",
            "Function that started running is mul\n",
            "result = 6\n",
            "Function that started running is sub\n",
            "result = 250\n"
          ],
          "name": "stdout"
        }
      ]
    },
    {
      "cell_type": "code",
      "metadata": {
        "colab": {
          "base_uri": "https://localhost:8080/"
        },
        "id": "L0g_DhRlPq37",
        "outputId": "e3e8805d-e990-43be-da3e-97b7e2b82a3a"
      },
      "source": [
        "from functools import wraps\n",
        "\n",
        "def func_name_printer(func):\n",
        "    @wraps(func)\n",
        "    def wrapper(*args):\n",
        "        \"\"\"Prints the Name of the function.\n",
        "        \"\"\"\n",
        "        print(\"Function that started running is \" + func.__name__)\n",
        "        result = func(*args)\n",
        "        return result # Extra Return \n",
        "    return wrapper\n",
        "\n",
        "@func_name_printer\n",
        "def add(*args):\n",
        "    \"\"\"\n",
        "    Args: Tuple of Numbers:\n",
        "    Returns: Sum of the numbers in Tuple\n",
        "    \"\"\"\n",
        "    tot_sum = 0\n",
        "    for arg in args:\n",
        "        tot_sum += arg\n",
        "    return \"result = \" + str(tot_sum)\n",
        "\n",
        "print(add.__name__)\n",
        "print(add.__doc__)\n",
        "print(add.__module__)\n",
        "\n",
        "print(add(5,6,7))"
      ],
      "execution_count": 16,
      "outputs": [
        {
          "output_type": "stream",
          "text": [
            "add\n",
            "\n",
            "    Args: Tuple of Numbers:\n",
            "    Returns: Sum of the numbers in Tuple\n",
            "    \n",
            "__main__\n",
            "Function that started running is add\n",
            "result = 18\n"
          ],
          "name": "stdout"
        }
      ]
    },
    {
      "cell_type": "code",
      "metadata": {
        "colab": {
          "base_uri": "https://localhost:8080/"
        },
        "id": "DbZwI44WPw77",
        "outputId": "47c601e2-b2dd-4f42-bfd3-eebd2b6b633d"
      },
      "source": [
        "from functools import wraps\n",
        "import time\n",
        "\n",
        "def timeit(func):\n",
        "    @wraps(func)\n",
        "    def wrapper(*args, **kwargs):\n",
        "        print(\"Tracking function: \" + func.__name__ + \"()\")\n",
        "        start = time.time()\n",
        "        func(*args, **kwargs)\n",
        "        end = time.time()\n",
        "        print(\"Time taken by the function to run is \" + str(end-start))\n",
        "    return wrapper\n",
        "\n",
        "@timeit\n",
        "def looper(*args, **kwargs):\n",
        "    print(f\"args = {args}\")\n",
        "    print(f\"kwargs = {kwargs}\")\n",
        "    \n",
        "    for loop in kwargs.values(): \n",
        "        for i in range(loop):\n",
        "            return \"Watch Looper If you haven't | rating=9/10\"\n",
        "\n",
        "looper(2, 3, 4, loop1=10, loop2=11, loop3=12, loop4=15)"
      ],
      "execution_count": 17,
      "outputs": [
        {
          "output_type": "stream",
          "text": [
            "Tracking function: looper()\n",
            "args = (2, 3, 4)\n",
            "kwargs = {'loop1': 10, 'loop2': 11, 'loop3': 12, 'loop4': 15}\n",
            "Time taken by the function to run is 7.367134094238281e-05\n"
          ],
          "name": "stdout"
        }
      ]
    },
    {
      "cell_type": "code",
      "metadata": {
        "colab": {
          "base_uri": "https://localhost:8080/",
          "height": 266
        },
        "id": "XwtolI8xP3P6",
        "outputId": "abde6b50-c2af-4ea4-eaa2-9fe5a2183e83"
      },
      "source": [
        "@concurrent # We add this for the concurrent function\n",
        "def process_lat_lon(lat, lon, data):\n",
        "  #Does some work which takes a while\n",
        "  return result\n",
        "\n",
        "# And we add this for the function which calls the concurrent function\n",
        "@synchronized\n",
        "def process_data_set(data):\n",
        "  results = defaultdict(dict)\n",
        "  for lat in range(...):\n",
        "    for lon in range(...):\n",
        "      results[lat][lon] = process_lat_lon(lat, lon, data)\n",
        "  return results"
      ],
      "execution_count": 18,
      "outputs": [
        {
          "output_type": "error",
          "ename": "NameError",
          "evalue": "ignored",
          "traceback": [
            "\u001b[0;31m---------------------------------------------------------------------------\u001b[0m",
            "\u001b[0;31mNameError\u001b[0m                                 Traceback (most recent call last)",
            "\u001b[0;32m<ipython-input-18-20aefbebe62c>\u001b[0m in \u001b[0;36m<module>\u001b[0;34m()\u001b[0m\n\u001b[0;32m----> 1\u001b[0;31m \u001b[0;34m@\u001b[0m\u001b[0mconcurrent\u001b[0m \u001b[0;31m# We add this for the concurrent function\u001b[0m\u001b[0;34m\u001b[0m\u001b[0;34m\u001b[0m\u001b[0m\n\u001b[0m\u001b[1;32m      2\u001b[0m \u001b[0;32mdef\u001b[0m \u001b[0mprocess_lat_lon\u001b[0m\u001b[0;34m(\u001b[0m\u001b[0mlat\u001b[0m\u001b[0;34m,\u001b[0m \u001b[0mlon\u001b[0m\u001b[0;34m,\u001b[0m \u001b[0mdata\u001b[0m\u001b[0;34m)\u001b[0m\u001b[0;34m:\u001b[0m\u001b[0;34m\u001b[0m\u001b[0;34m\u001b[0m\u001b[0m\n\u001b[1;32m      3\u001b[0m   \u001b[0;31m#Does some work which takes a while\u001b[0m\u001b[0;34m\u001b[0m\u001b[0;34m\u001b[0m\u001b[0;34m\u001b[0m\u001b[0m\n\u001b[1;32m      4\u001b[0m   \u001b[0;32mreturn\u001b[0m \u001b[0mresult\u001b[0m\u001b[0;34m\u001b[0m\u001b[0;34m\u001b[0m\u001b[0m\n\u001b[1;32m      5\u001b[0m \u001b[0;34m\u001b[0m\u001b[0m\n",
            "\u001b[0;31mNameError\u001b[0m: name 'concurrent' is not defined"
          ]
        }
      ]
    },
    {
      "cell_type": "code",
      "metadata": {
        "colab": {
          "base_uri": "https://localhost:8080/"
        },
        "id": "KHYytP-zP7l7",
        "outputId": "2592910e-0086-4386-e41d-3b9e5c6cebf1"
      },
      "source": [
        "class Datatypes():\n",
        "    def __init__(self, *args):\n",
        "        self.args = list(args[0])\n",
        "        \n",
        "    def __call__(self):\n",
        "        print(self.args)\n",
        "\n",
        "    @classmethod\n",
        "    def from_list(cls, arglist):\n",
        "        args = tuple(arglist)\n",
        "        instance = cls(args)\n",
        "        return instance\n",
        "\n",
        "    @classmethod\n",
        "    def from_tuple(cls, argtuple):\n",
        "        args = argtuple\n",
        "        instance = cls(args)\n",
        "        return instance\n",
        "\n",
        "    @classmethod\n",
        "    def from_dict(cls, argdict):\n",
        "        args = tuple(argdict.values())\n",
        "        instance = cls(args)\n",
        "        return instance\n",
        "    \n",
        "list_instance = Datatypes.from_list([\"one\", \"two\", \"three\"])\n",
        "tuple_instance = Datatypes.from_tuple((\"one\", \"two\", \"three\"))\n",
        "dict_instance = Datatypes.from_dict({1:\"one\", 2:\"two\", 3:'three'})\n",
        "\n",
        "list_instance() # runs __call__ method in the class (by default).\n",
        "tuple_instance()\n",
        "dict_instance()"
      ],
      "execution_count": 19,
      "outputs": [
        {
          "output_type": "stream",
          "text": [
            "['one', 'two', 'three']\n",
            "['one', 'two', 'three']\n",
            "['one', 'two', 'three']\n"
          ],
          "name": "stdout"
        }
      ]
    },
    {
      "cell_type": "code",
      "metadata": {
        "colab": {
          "base_uri": "https://localhost:8080/",
          "height": 460
        },
        "id": "Mpk4mor0QBtO",
        "outputId": "6b311188-dd80-4c63-9436-6ddfa31dd6dd"
      },
      "source": [
        "class Multiply:\n",
        "   def __init__(self, numbers):\n",
        "        self.numbers = numbers\n",
        "    \n",
        "   def __call__(self):\n",
        "       print(f\"multiply {self.numbers}\")\n",
        "       self.checker(self.numbers)\n",
        "       self.result = 1\n",
        "       for num in self.numbers:\n",
        "           self.result *= num\n",
        "       print(self.result)\n",
        "    \n",
        "   @staticmethod\n",
        "   def checker(numbers):\n",
        "       for num in numbers:\n",
        "           if type(num) != int:\n",
        "               raise Exception(\"Accepts only integers.\")\n",
        "            \n",
        "valid = Multiply([1,2,3])\n",
        "invalid = Multiply([1,2,\"three\"])\n",
        "valid()\n",
        "invalid()\n",
        "\n",
        "#Valid\n",
        "multiply [1, 2, 3]"
      ],
      "execution_count": 22,
      "outputs": [
        {
          "output_type": "stream",
          "text": [
            "multiply [1, 2, 3]\n",
            "6\n",
            "multiply [1, 2, 'three']\n"
          ],
          "name": "stdout"
        },
        {
          "output_type": "error",
          "ename": "Exception",
          "evalue": "ignored",
          "traceback": [
            "\u001b[0;31m---------------------------------------------------------------------------\u001b[0m",
            "\u001b[0;31mException\u001b[0m                                 Traceback (most recent call last)",
            "\u001b[0;32m<ipython-input-22-40f898e0db00>\u001b[0m in \u001b[0;36m<module>\u001b[0;34m()\u001b[0m\n\u001b[1;32m     20\u001b[0m \u001b[0minvalid\u001b[0m \u001b[0;34m=\u001b[0m \u001b[0mMultiply\u001b[0m\u001b[0;34m(\u001b[0m\u001b[0;34m[\u001b[0m\u001b[0;36m1\u001b[0m\u001b[0;34m,\u001b[0m\u001b[0;36m2\u001b[0m\u001b[0;34m,\u001b[0m\u001b[0;34m\"three\"\u001b[0m\u001b[0;34m]\u001b[0m\u001b[0;34m)\u001b[0m\u001b[0;34m\u001b[0m\u001b[0;34m\u001b[0m\u001b[0m\n\u001b[1;32m     21\u001b[0m \u001b[0mvalid\u001b[0m\u001b[0;34m(\u001b[0m\u001b[0;34m)\u001b[0m\u001b[0;34m\u001b[0m\u001b[0;34m\u001b[0m\u001b[0m\n\u001b[0;32m---> 22\u001b[0;31m \u001b[0minvalid\u001b[0m\u001b[0;34m(\u001b[0m\u001b[0;34m)\u001b[0m\u001b[0;34m\u001b[0m\u001b[0;34m\u001b[0m\u001b[0m\n\u001b[0m\u001b[1;32m     23\u001b[0m \u001b[0;34m\u001b[0m\u001b[0m\n\u001b[1;32m     24\u001b[0m \u001b[0;31m#Valid\u001b[0m\u001b[0;34m\u001b[0m\u001b[0;34m\u001b[0m\u001b[0;34m\u001b[0m\u001b[0m\n",
            "\u001b[0;32m<ipython-input-22-40f898e0db00>\u001b[0m in \u001b[0;36m__call__\u001b[0;34m(self)\u001b[0m\n\u001b[1;32m      5\u001b[0m    \u001b[0;32mdef\u001b[0m \u001b[0m__call__\u001b[0m\u001b[0;34m(\u001b[0m\u001b[0mself\u001b[0m\u001b[0;34m)\u001b[0m\u001b[0;34m:\u001b[0m\u001b[0;34m\u001b[0m\u001b[0;34m\u001b[0m\u001b[0m\n\u001b[1;32m      6\u001b[0m        \u001b[0mprint\u001b[0m\u001b[0;34m(\u001b[0m\u001b[0;34mf\"multiply {self.numbers}\"\u001b[0m\u001b[0;34m)\u001b[0m\u001b[0;34m\u001b[0m\u001b[0;34m\u001b[0m\u001b[0m\n\u001b[0;32m----> 7\u001b[0;31m        \u001b[0mself\u001b[0m\u001b[0;34m.\u001b[0m\u001b[0mchecker\u001b[0m\u001b[0;34m(\u001b[0m\u001b[0mself\u001b[0m\u001b[0;34m.\u001b[0m\u001b[0mnumbers\u001b[0m\u001b[0;34m)\u001b[0m\u001b[0;34m\u001b[0m\u001b[0;34m\u001b[0m\u001b[0m\n\u001b[0m\u001b[1;32m      8\u001b[0m        \u001b[0mself\u001b[0m\u001b[0;34m.\u001b[0m\u001b[0mresult\u001b[0m \u001b[0;34m=\u001b[0m \u001b[0;36m1\u001b[0m\u001b[0;34m\u001b[0m\u001b[0;34m\u001b[0m\u001b[0m\n\u001b[1;32m      9\u001b[0m        \u001b[0;32mfor\u001b[0m \u001b[0mnum\u001b[0m \u001b[0;32min\u001b[0m \u001b[0mself\u001b[0m\u001b[0;34m.\u001b[0m\u001b[0mnumbers\u001b[0m\u001b[0;34m:\u001b[0m\u001b[0;34m\u001b[0m\u001b[0;34m\u001b[0m\u001b[0m\n",
            "\u001b[0;32m<ipython-input-22-40f898e0db00>\u001b[0m in \u001b[0;36mchecker\u001b[0;34m(numbers)\u001b[0m\n\u001b[1;32m     15\u001b[0m        \u001b[0;32mfor\u001b[0m \u001b[0mnum\u001b[0m \u001b[0;32min\u001b[0m \u001b[0mnumbers\u001b[0m\u001b[0;34m:\u001b[0m\u001b[0;34m\u001b[0m\u001b[0;34m\u001b[0m\u001b[0m\n\u001b[1;32m     16\u001b[0m            \u001b[0;32mif\u001b[0m \u001b[0mtype\u001b[0m\u001b[0;34m(\u001b[0m\u001b[0mnum\u001b[0m\u001b[0;34m)\u001b[0m \u001b[0;34m!=\u001b[0m \u001b[0mint\u001b[0m\u001b[0;34m:\u001b[0m\u001b[0;34m\u001b[0m\u001b[0;34m\u001b[0m\u001b[0m\n\u001b[0;32m---> 17\u001b[0;31m                \u001b[0;32mraise\u001b[0m \u001b[0mException\u001b[0m\u001b[0;34m(\u001b[0m\u001b[0;34m\"Accepts only integers.\"\u001b[0m\u001b[0;34m)\u001b[0m\u001b[0;34m\u001b[0m\u001b[0;34m\u001b[0m\u001b[0m\n\u001b[0m\u001b[1;32m     18\u001b[0m \u001b[0;34m\u001b[0m\u001b[0m\n\u001b[1;32m     19\u001b[0m \u001b[0mvalid\u001b[0m \u001b[0;34m=\u001b[0m \u001b[0mMultiply\u001b[0m\u001b[0;34m(\u001b[0m\u001b[0;34m[\u001b[0m\u001b[0;36m1\u001b[0m\u001b[0;34m,\u001b[0m\u001b[0;36m2\u001b[0m\u001b[0;34m,\u001b[0m\u001b[0;36m3\u001b[0m\u001b[0;34m]\u001b[0m\u001b[0;34m)\u001b[0m\u001b[0;34m\u001b[0m\u001b[0;34m\u001b[0m\u001b[0m\n",
            "\u001b[0;31mException\u001b[0m: Accepts only integers."
          ]
        }
      ]
    },
    {
      "cell_type": "code",
      "metadata": {
        "colab": {
          "base_uri": "https://localhost:8080/",
          "height": 402
        },
        "id": "mZfJw60WQGiU",
        "outputId": "04dcd36b-7e4f-4769-999c-7f303f591bec"
      },
      "source": [
        "class Storage:\n",
        "    \"\"\" \n",
        "    MaxLimit of storage is 100\n",
        "    \"\"\"\n",
        "    def __init__(self, maxlimit=0):\n",
        "        self.limit = 100\n",
        "        self.maxlimit = maxlimit\n",
        "    \n",
        "    @property    \n",
        "    def maxlimit(self):\n",
        "        \"\"\" Getting maxlimit value\n",
        "        Returns:\n",
        "            int: Maxlimit of storage\n",
        "        \"\"\"\n",
        "        return self._maxlimit\n",
        "    \n",
        "    @maxlimit.setter\n",
        "    def maxlimit(self, value): \n",
        "        \"\"\"Setting Value\n",
        "        Args:\n",
        "            value ([int]): [New storage]\n",
        "        Raises:\n",
        "            Exception: [Storage limit Exceded]\n",
        "        \"\"\"\n",
        "        if value > self.limit:\n",
        "            raise Exception(f\"Storage limit exceded. Box Max Limit => {self.limit}\")\n",
        "        else:\n",
        "            self._maxlimit = value\n",
        "\n",
        "box = Storage(45)\n",
        "print(f\"Box Limit => {box.maxlimit}\")\n",
        "\n",
        "box.maxlimit = 200\n",
        "print(f\"Box Limit => {box.maxlimit}\")\n"
      ],
      "execution_count": 23,
      "outputs": [
        {
          "output_type": "stream",
          "text": [
            "Box Limit => 45\n"
          ],
          "name": "stdout"
        },
        {
          "output_type": "error",
          "ename": "Exception",
          "evalue": "ignored",
          "traceback": [
            "\u001b[0;31m---------------------------------------------------------------------------\u001b[0m",
            "\u001b[0;31mException\u001b[0m                                 Traceback (most recent call last)",
            "\u001b[0;32m<ipython-input-23-33449411df4f>\u001b[0m in \u001b[0;36m<module>\u001b[0;34m()\u001b[0m\n\u001b[1;32m     31\u001b[0m \u001b[0mprint\u001b[0m\u001b[0;34m(\u001b[0m\u001b[0;34mf\"Box Limit => {box.maxlimit}\"\u001b[0m\u001b[0;34m)\u001b[0m\u001b[0;34m\u001b[0m\u001b[0;34m\u001b[0m\u001b[0m\n\u001b[1;32m     32\u001b[0m \u001b[0;34m\u001b[0m\u001b[0m\n\u001b[0;32m---> 33\u001b[0;31m \u001b[0mbox\u001b[0m\u001b[0;34m.\u001b[0m\u001b[0mmaxlimit\u001b[0m \u001b[0;34m=\u001b[0m \u001b[0;36m200\u001b[0m\u001b[0;34m\u001b[0m\u001b[0;34m\u001b[0m\u001b[0m\n\u001b[0m\u001b[1;32m     34\u001b[0m \u001b[0mprint\u001b[0m\u001b[0;34m(\u001b[0m\u001b[0;34mf\"Box Limit => {box.maxlimit}\"\u001b[0m\u001b[0;34m)\u001b[0m\u001b[0;34m\u001b[0m\u001b[0;34m\u001b[0m\u001b[0m\n",
            "\u001b[0;32m<ipython-input-23-33449411df4f>\u001b[0m in \u001b[0;36mmaxlimit\u001b[0;34m(self, value)\u001b[0m\n\u001b[1;32m     24\u001b[0m         \"\"\"\n\u001b[1;32m     25\u001b[0m         \u001b[0;32mif\u001b[0m \u001b[0mvalue\u001b[0m \u001b[0;34m>\u001b[0m \u001b[0mself\u001b[0m\u001b[0;34m.\u001b[0m\u001b[0mlimit\u001b[0m\u001b[0;34m:\u001b[0m\u001b[0;34m\u001b[0m\u001b[0;34m\u001b[0m\u001b[0m\n\u001b[0;32m---> 26\u001b[0;31m             \u001b[0;32mraise\u001b[0m \u001b[0mException\u001b[0m\u001b[0;34m(\u001b[0m\u001b[0;34mf\"Storage limit exceded. Box Max Limit => {self.limit}\"\u001b[0m\u001b[0;34m)\u001b[0m\u001b[0;34m\u001b[0m\u001b[0;34m\u001b[0m\u001b[0m\n\u001b[0m\u001b[1;32m     27\u001b[0m         \u001b[0;32melse\u001b[0m\u001b[0;34m:\u001b[0m\u001b[0;34m\u001b[0m\u001b[0;34m\u001b[0m\u001b[0m\n\u001b[1;32m     28\u001b[0m             \u001b[0mself\u001b[0m\u001b[0;34m.\u001b[0m\u001b[0m_maxlimit\u001b[0m \u001b[0;34m=\u001b[0m \u001b[0mvalue\u001b[0m\u001b[0;34m\u001b[0m\u001b[0;34m\u001b[0m\u001b[0m\n",
            "\u001b[0;31mException\u001b[0m: Storage limit exceded. Box Max Limit => 100"
          ]
        }
      ]
    }
  ]
}