{
  "nbformat": 4,
  "nbformat_minor": 0,
  "metadata": {
    "colab": {
      "provenance": [],
      "authorship_tag": "ABX9TyM09bs+D13IJGloOnAJKp6Z"
    },
    "kernelspec": {
      "name": "python3",
      "display_name": "Python 3"
    },
    "language_info": {
      "name": "python"
    }
  },
  "cells": [
    {
      "cell_type": "markdown",
      "source": [
        "[Reference](https://medium.datadriveninvestor.com/mastering-streamlit-the-biggest-flaw-8387660498b7)"
      ],
      "metadata": {
        "id": "HKpRmTirQ98N"
      }
    },
    {
      "cell_type": "code",
      "execution_count": 1,
      "metadata": {
        "id": "OzcTIA4tPxOI"
      },
      "outputs": [],
      "source": [
        "import streamlit as st\n",
        "\n",
        "def main(test):\n",
        "    st.set_page_config(layout=\"wide\")\n",
        "    state = _get_state()\n",
        "    \n",
        "    st.sidebar.title(\":floppy_disk: Dashboard\")\n",
        "    page = st.sidebar.radio(\"Select your page\", tuple(pages.keys()))\n",
        "    \n",
        "    #Removing and add pages \n",
        "    pages = {\n",
        "        \"Login\": page_login,\n",
        "    }\n",
        "\n",
        "    #For skipping sign-ups for testing \n",
        "    if test == \"testing_dashboard\":\n",
        "        state.login = True\n",
        "        state.user_name = getpass.getuser()\n",
        "\n",
        "    if state.login:\n",
        "        pages.pop(\"Login\")\n",
        "        pages[\"Crypto\"] = page_crypto\n",
        "        pages[\"Dashboard\"] = page_dashboard\n",
        "        pages[\"Graphs\"] = page_graph\n",
        "        # pages[\"Settings\"] = page_settings\n",
        "\n",
        "    # Display the selected page with the session state\n",
        "    pages[page](state)\n",
        "\n",
        "    # Mandatory to avoid rollbacks with widgets, must be called at the end of your app\n",
        "    state.sync()"
      ]
    },
    {
      "cell_type": "code",
      "source": [
        "from streamlit.hashing import _CodeHasher\n",
        "\n",
        "try:\n",
        "    # Before Streamlit 0.65\n",
        "    from streamlit.ReportThread import get_report_ctx\n",
        "    from streamlit.server.Server import Server\n",
        "except ModuleNotFoundError:\n",
        "    # After Streamlit 0.65\n",
        "    from streamlit.report_thread import get_report_ctx\n",
        "    from streamlit.server.server import Server\n",
        "\n",
        "\n",
        "def _get_state(hash_funcs=None):\n",
        "    session = _get_session()\n",
        "\n",
        "    if not hasattr(session, \"_custom_session_state\"):\n",
        "        session._custom_session_state = _SessionState(session, hash_funcs)\n",
        "\n",
        "    return session._custom_session_state\n",
        "\n",
        "class _SessionState:\n",
        "\n",
        "    def __init__(self, session, hash_funcs):\n",
        "        \"\"\"Initialize SessionState instance.\"\"\"\n",
        "        self.__dict__[\"_state\"] = {\n",
        "            \"data\": {},\n",
        "            \"hash\": None,\n",
        "            \"hasher\": _CodeHasher(hash_funcs),\n",
        "            \"is_rerun\": False,\n",
        "            \"session\": session,\n",
        "        }\n",
        "\n",
        "    def __call__(self, **kwargs):\n",
        "        \"\"\"Initialize state data once.\"\"\"\n",
        "        for item, value in kwargs.items():\n",
        "            if item not in self._state[\"data\"]:\n",
        "                self._state[\"data\"][item] = value\n",
        "\n",
        "    def __getitem__(self, item):\n",
        "        \"\"\"Return a saved state value, None if item is undefined.\"\"\"\n",
        "        return self._state[\"data\"].get(item, None)\n",
        "        \n",
        "    def __getattr__(self, item):\n",
        "        \"\"\"Return a saved state value, None if item is undefined.\"\"\"\n",
        "        return self._state[\"data\"].get(item, None)\n",
        "\n",
        "    def __setitem__(self, item, value):\n",
        "        \"\"\"Set state value.\"\"\"\n",
        "        self._state[\"data\"][item] = value\n",
        "\n",
        "    def __setattr__(self, item, value):\n",
        "        \"\"\"Set state value.\"\"\"\n",
        "        self._state[\"data\"][item] = value\n",
        "    \n",
        "    def clear(self):\n",
        "        \"\"\"Clear session state and request a rerun.\"\"\"\n",
        "        self._state[\"data\"].clear()\n",
        "        self._state[\"session\"].request_rerun()\n",
        "    \n",
        "    def sync(self):\n",
        "        \"\"\"Rerun the app with all state values up to date from the beginning to fix rollbacks.\"\"\"\n",
        "\n",
        "        # Ensure to rerun only once to avoid infinite loops\n",
        "        # caused by a constantly changing state value at each run.\n",
        "        #\n",
        "        # Example: state.value += 1\n",
        "        if self._state[\"is_rerun\"]:\n",
        "            self._state[\"is_rerun\"] = False\n",
        "        \n",
        "        elif self._state[\"hash\"] is not None:\n",
        "            if self._state[\"hash\"] != self._state[\"hasher\"].to_bytes(self._state[\"data\"], None):\n",
        "                self._state[\"is_rerun\"] = True\n",
        "                self._state[\"session\"].request_rerun()\n",
        "\n",
        "        self._state[\"hash\"] = self._state[\"hasher\"].to_bytes(self._state[\"data\"], None)"
      ],
      "metadata": {
        "id": "sP91zyf4RKN6"
      },
      "execution_count": 2,
      "outputs": []
    },
    {
      "cell_type": "code",
      "source": [
        "import pandas as pd\n",
        "df = pd.DataFrame(\n",
        "    np.random.randn(50, 20),\n",
        "    columns=('col %d' % i for i in range(20))\n",
        ")\n",
        "st.dataframe(df)"
      ],
      "metadata": {
        "id": "TsNQt3TVRNEb"
      },
      "execution_count": 3,
      "outputs": []
    },
    {
      "cell_type": "code",
      "source": [
        "@st.cache\n",
        "def load_data(nrows):\n",
        "    data = pd.read_csv(DATA_URL, nrows=nrows)\n",
        "    return data"
      ],
      "metadata": {
        "id": "CPzq5oxzRaaE"
      },
      "execution_count": 4,
      "outputs": []
    },
    {
      "cell_type": "code",
      "source": [
        "stock_table = st.empty()#Load dataframe from local database \n",
        "dataframe = create_df(get_stocks_df(DATABASE_FILE_LOCATION))#round values to 2dp\n",
        "dataframe = dataframe.round(2)#Make negative values red in colour\n",
        "stock_table.table(dataframe.style.applymap(color_negative_red))"
      ],
      "metadata": {
        "id": "LAx7hXaZR3AJ"
      },
      "execution_count": 5,
      "outputs": []
    },
    {
      "cell_type": "code",
      "source": [
        "st.header(\"Stock Purchase\")stock_name = st.empty()\n",
        "stock_quantity = st.empty()\n",
        "stock_bought_price = st.empty()\n",
        "stock_fees = st.empty()stock_name = str(stock_name.text_input(\"Stock Code E.g AAPL, BABA\").strip().upper())stock_quantity = stock_quantity.text_input(\"Quantity\").strip()stock_bought_price = stock_bought_price.text_input(\"Bought Price (Stock Market's Currency: e.g STI in SGD, BABA in USD)\").strip()stock_fees = stock_fees.text_input(\"Extra Fees (Commissions etc)\").strip()add_button = st.empty()add_button_state = add_button.button(\"Submit\")"
      ],
      "metadata": {
        "id": "p7TgmPgIR4xr"
      },
      "execution_count": 6,
      "outputs": []
    },
    {
      "cell_type": "code",
      "source": [
        "import sqlite3\n",
        "from sqlite3 import Error\n",
        "\n",
        "\n",
        "DATABASE_FILE_LOCATION = os.getcwd()+\"\\pythonsqlite.db\" ## in C:\\User\\User\\Desktop\n",
        "\n",
        "TABLE_DIC = {'stocks':'stocks','crypto':'crypto','stock_trans':'stock_transaction','crypto_trans':'crypto_transaction'} ## Stocks always first, cryto always second\n",
        "\n",
        "def create_connection(db_file):\n",
        "    \"\"\" create a database connection to a SQLite database \"\"\"\n",
        "    conn = None\n",
        "    try:\n",
        "        conn = sqlite3.connect(db_file)\n",
        "        print(sqlite3.version)\n",
        "\n",
        "        if (conn.execute(\"SELECT name FROM sqlite_master\").fetchall() not in TABLE_DIC.values()):\n",
        "            print(\"Creating \"+ str(TABLE_DIC.values()) +\" Table\")\n",
        "\n",
        "        conn.execute(\"\"\"CREATE TABLE IF NOT EXISTS \"\"\" + TABLE_DIC['stock_trans'] + \"\"\" (    \n",
        "                    Stock                       TEXT     PRIMARY KEY     NOT NULL,\n",
        "                    Bought_Price                REAL                     NOT NULL,\n",
        "                    Currency                    TEXT                     NOT NULL,\n",
        "                    Fees                        REAL                     NOT NULL,\n",
        "                    Quantity                    REAL                     NOT NULL);\"\"\")\n",
        "    \n",
        "        conn.execute(\"\"\"CREATE TABLE IF NOT EXISTS \"\"\" + TABLE_DIC['stocks'] + \"\"\" (\n",
        "                    Stock                       TEXT     PRIMARY KEY     NOT NULL,\n",
        "                    Bought_Price_Avg            REAL                     NOT NULL,\n",
        "                    Currency                    TEXT                     NOT NULL,\n",
        "                    Fees                        REAL                     NOT NULL,\n",
        "                    Quantity                    REAL                     NOT NULL);\"\"\")\n",
        "\n",
        "        conn.execute(\"\"\"CREATE TABLE IF NOT EXISTS \"\"\" + TABLE_DIC['crypto_trans'] + \"\"\" (\n",
        "                    Coin_Pair                   TEXT     PRIMARY KEY     NOT NULL,\n",
        "                    Bought_Price                REAL                     NOT NULL,\n",
        "                    Currency                    TEXT                     NOT NULL,\n",
        "                    Fees                        REAL                     NOT NULL,\n",
        "                    Quantity                    REAL                     NOT NULL);\"\"\")\n",
        "\n",
        "        conn.execute(\"\"\"CREATE TABLE IF NOT EXISTS \"\"\" + TABLE_DIC['crypto'] + \"\"\" (\n",
        "                    Coin_Pair                   TEXT     PRIMARY KEY     NOT NULL,\n",
        "                    Bought_Price_Avg            REAL                     NOT NULL,\n",
        "                    Currency                    TEXT                     NOT NULL,\n",
        "                    Fees                        REAL                     NOT NULL,\n",
        "                    Quantity                    REAL                     NOT NULL);\"\"\")\n",
        "\n",
        "        print(\"Successfully created \"+ str(TABLE_DIC.values()) +\" Table\")\n",
        "\n",
        "    except Error as e:\n",
        "        print(e)\n",
        "    finally:\n",
        "        if conn:\n",
        "            conn.close()"
      ],
      "metadata": {
        "id": "jbi3VaShR7nr"
      },
      "execution_count": 7,
      "outputs": []
    },
    {
      "cell_type": "code",
      "source": [
        "import sqlite3\n",
        "from sqlite3 import Error\n",
        "\n",
        "def add_items_to_database(db_file,stock_name,stock_quantity,stock_bought_price_weighted_avg,stock_fees,stock_currency):\n",
        "    try:\n",
        "        conn = sqlite3.connect(db_file)\n",
        "        print(\"INSERT INTO stocks (Stock,Bought_Price_Avg,Currency,Fees,Quantity) VALUES ('\"+str(stock_name)+\"',\"+str(stock_bought_price_weighted_avg)+\",'\"+str(stock_currency)+\"',\"+str(stock_fees)+\",\"+str(stock_quantity)+\")\")\n",
        "        conn.execute(\"INSERT INTO stocks (Stock,Bought_Price_Avg,Currency,Fees,Quantity) VALUES ('\"+stock_name+\"',\"+stock_bought_price_weighted_avg+\",'\"+stock_currency+\"',\"+stock_fees+\",\"+stock_quantity+\")\")\n",
        "        conn.commit()\n",
        "    except Error as e:\n",
        "        print(e)\n",
        "    finally:\n",
        "        if conn:\n",
        "            conn.close()\n",
        "\n",
        "\n",
        "def check_existence_of_stock_name(db_file,stock_name):\n",
        "    try:\n",
        "        conn = sqlite3.connect(db_file)\n",
        "        return pd.read_sql_query((\"SELECT * FROM stocks WHERE Stock = \"+stock_name),conn)\n",
        "    except Error as e:\n",
        "        raise Exception('stock does not exist yet')\n",
        "        print(e)\n",
        "    finally:\n",
        "        if conn:\n",
        "            conn.close()"
      ],
      "metadata": {
        "id": "EXKbjm8RSBSD"
      },
      "execution_count": 8,
      "outputs": []
    },
    {
      "cell_type": "code",
      "source": [
        "# Summary which deals with different markets\n",
        "    st.write('Summary')\n",
        "    summary_df = df.reindex(columns=['Profit/Loss','Profit/Loss (%)','Market Value','Total Spent','Currency']).groupby(['Currency']).agg('sum')\n",
        "    summary_df['Profit/Loss (%)'] = ((summary_df['Market Value'] - summary_df['Total Spent']) / summary_df['Market Value']) *100\n",
        "    st.table(summary_df)\n",
        "\n",
        "    # Final Tally (SGD)\n",
        "    st.write('Final Table (SGD)')\n",
        "    final_df = df.reindex(columns=['Market Value (SGD)','Total Spent (SGD)','Currency']).groupby(['Currency']).agg('sum')\n",
        "    final_df_sgd = final_df.sum()\n",
        "    final_df_sgd['Profit/Loss (SGD)'] = (final_df_sgd['Market Value (SGD)'] - final_df_sgd['Total Spent (SGD)'])\n",
        "    final_df_sgd['Profit/Loss (%) (SGD)'] = round(((final_df_sgd['Market Value (SGD)'] - final_df_sgd['Total Spent (SGD)']) / final_df_sgd['Market Value (SGD)']) * 100,2)\n",
        "    st.table(final_df_sgd)\n",
        "\n",
        "    # Sort df in terms of currency then profit/loss amounts \n",
        "    df.sort_values(by=['Currency','Profit/Loss'],ascending=False,inplace=True)\n",
        "    df.reset_index(inplace=True,drop=True) \n",
        "\n",
        "    #Plot Asset Allocation\n",
        "    fig = px.pie(df, values=df['Total Spent (SGD)'], names=df['Stock'], title='Asset Allocation (SGD)')\n",
        "    st.plotly_chart(fig)\n",
        "    for index,row in final_df.iterrows():\n",
        "        st.write(index+\" is \"+str(round((row['Total Spent (SGD)']/final_df_sgd['Total Spent (SGD)'])*100,2))+\" %\")\n",
        "\n",
        "    #Plot Profit Allocation\n",
        "    fig = px.pie(df, values=df['Market Value (SGD)']-df['Total Spent (SGD)'], names=df['Stock'], title='Profit Allocation (SGD)')\n",
        "    st.plotly_chart(fig)\n",
        "    for index,row in final_df.iterrows():\n",
        "        st.write(index+\" is \"+str(round((row['Market Value (SGD)']/final_df_sgd['Market Value (SGD)'])*100,2))+\" %\")\n",
        "\n",
        "    #Plot Stock profit comparison \n",
        "    fig = px.bar(df, y=df['Market Value (SGD)']-df['Total Spent (SGD)'], x=df['Stock'], title='Stock profit comparison (SGD)')\n",
        "    fig.update_layout(xaxis={'categoryorder':'total descending'})\n",
        "    st.plotly_chart(fig)"
      ],
      "metadata": {
        "id": "z-qk_yOESEwZ"
      },
      "execution_count": 9,
      "outputs": []
    }
  ]
}