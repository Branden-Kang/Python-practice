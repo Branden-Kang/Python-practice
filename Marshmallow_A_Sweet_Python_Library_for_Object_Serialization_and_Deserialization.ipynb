{
  "nbformat": 4,
  "nbformat_minor": 0,
  "metadata": {
    "colab": {
      "provenance": [],
      "authorship_tag": "ABX9TyMlSod5kxbMk5aSszCsKH0s"
    },
    "kernelspec": {
      "name": "python3",
      "display_name": "Python 3"
    },
    "language_info": {
      "name": "python"
    }
  },
  "cells": [
    {
      "cell_type": "markdown",
      "source": [
        "[Reference](https://medium.com/@HeCanThink/marshmallow-a-sweet-python-library-for-object-serialization-and-deserialization-3001438b4708)"
      ],
      "metadata": {
        "id": "q5ZYHkrOG3fQ"
      }
    },
    {
      "cell_type": "code",
      "source": [
        "!pip install marshmallow"
      ],
      "metadata": {
        "colab": {
          "base_uri": "https://localhost:8080/"
        },
        "id": "eIj42JKQG8j3",
        "outputId": "e4490668-d977-4841-e8fb-46d60ef6496c"
      },
      "execution_count": 1,
      "outputs": [
        {
          "output_type": "stream",
          "name": "stdout",
          "text": [
            "Collecting marshmallow\n",
            "  Downloading marshmallow-3.20.1-py3-none-any.whl (49 kB)\n",
            "\u001b[?25l     \u001b[90m━━━━━━━━━━━━━━━━━━━━━━━━━━━━━━━━━━━━━━━━\u001b[0m \u001b[32m0.0/49.4 kB\u001b[0m \u001b[31m?\u001b[0m eta \u001b[36m-:--:--\u001b[0m\r\u001b[2K     \u001b[90m━━━━━━━━━━━━━━━━━━━━━━━━━━━━━━━━━━━━━━━━\u001b[0m \u001b[32m49.4/49.4 kB\u001b[0m \u001b[31m1.5 MB/s\u001b[0m eta \u001b[36m0:00:00\u001b[0m\n",
            "\u001b[?25hRequirement already satisfied: packaging>=17.0 in /usr/local/lib/python3.10/dist-packages (from marshmallow) (23.2)\n",
            "Installing collected packages: marshmallow\n",
            "Successfully installed marshmallow-3.20.1\n"
          ]
        }
      ]
    },
    {
      "cell_type": "code",
      "execution_count": 2,
      "metadata": {
        "id": "CkppWISwG1uD"
      },
      "outputs": [],
      "source": [
        "class Book:\n",
        "    def __init__(self, title, author, year_published):\n",
        "        self.title = title\n",
        "        self.author = author\n",
        "        self.year_published = year_published"
      ]
    },
    {
      "cell_type": "code",
      "source": [
        "from marshmallow import Schema, fields\n",
        "\n",
        "class BookSchema(Schema):\n",
        "    title = fields.Str()\n",
        "    author = fields.Str()\n",
        "    year_published = fields.Int()"
      ],
      "metadata": {
        "id": "3KlxlxAkG-xL"
      },
      "execution_count": 3,
      "outputs": []
    },
    {
      "cell_type": "code",
      "source": [
        "book = Book(title=\"Sample Book\", author=\"John Doe\", year_published=2022)\n",
        "book_schema = BookSchema()\n",
        "serialized_book = book_schema.dump(book)\n",
        "print(serialized_book)"
      ],
      "metadata": {
        "colab": {
          "base_uri": "https://localhost:8080/"
        },
        "id": "FojsWlTRG_xA",
        "outputId": "d42a5db6-063f-4713-f455-6cc94c0362f5"
      },
      "execution_count": 4,
      "outputs": [
        {
          "output_type": "stream",
          "name": "stdout",
          "text": [
            "{'title': 'Sample Book', 'author': 'John Doe', 'year_published': 2022}\n"
          ]
        }
      ]
    }
  ]
}