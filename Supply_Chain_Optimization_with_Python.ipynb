{
  "nbformat": 4,
  "nbformat_minor": 0,
  "metadata": {
    "colab": {
      "name": "Supply Chain Optimization with Python.ipynb",
      "provenance": [],
      "authorship_tag": "ABX9TyPAytep+mtQhxRV2WGm7ZJ5"
    },
    "kernelspec": {
      "name": "python3",
      "display_name": "Python 3"
    },
    "language_info": {
      "name": "python"
    }
  },
  "cells": [
    {
      "cell_type": "markdown",
      "metadata": {
        "id": "cRpO0cayfIhB"
      },
      "source": [
        "[Reference](https://towardsdatascience.com/supply-chain-optimization-with-python-23ae9b28fd0b)"
      ]
    },
    {
      "cell_type": "code",
      "metadata": {
        "id": "8BacO7G7ermv"
      },
      "source": [
        "import pandas as pd\n",
        "from pulp import *\n",
        "\n",
        "# Import Manufacturing Costs\n",
        "manvar_costs = pd.read_excel('variable_costs.xlsx', index_col = 0)\n",
        "# Import Freight Costs\n",
        "freight_costs = pd.read_excel('freight_costs.xlsx', index_col = 0)\n",
        "# Variable Cost\n",
        "var_cost = freight_costs/1000 + manvar_costs \n",
        "# Import Plant Fixed Costs\n",
        "fixed_costs = pd.read_excel('fixed_cost.xlsx', index_col = 0)\n",
        "# Import Low Capacity and High Capacity Plant\n",
        "cap = pd.read_excel('capacity.xlsx', index_col = 0)\n",
        "# Import Demand\n",
        "demand = pd.read_excel('demand.xlsx', index_col = 0)\n",
        "\n",
        "# Define Decision Variables\n",
        "loc = ['USA', 'Germany', 'Japan', 'Brazil', 'India']\n",
        "size = ['Low', 'High']\n",
        "\n",
        "# Initialize Class\n",
        "model = LpProblem(\"Supply Chain Optimization\", LpMinimize)\n",
        "\n",
        "# Create Decision Variables\n",
        "x = LpVariable.dicts(\"production_\", [(i,j) for i in loc for j in loc],\n",
        "                     lowBound=0, upBound=None, cat='continuous')\n",
        "y = LpVariable.dicts(\"plant_\", \n",
        "                     [(i,s) for s in size for i in loc], cat='Binary')"
      ],
      "execution_count": 1,
      "outputs": []
    },
    {
      "cell_type": "code",
      "metadata": {
        "id": "AbmEEdxVfVc-"
      },
      "source": [
        "# Define Objective Function\n",
        "model += (lpSum([fixed_costs.loc[i,s] * y[(i,s)] * 1000 for s in size for i in loc])\n",
        "          + lpSum([var_cost.loc[i,j] * x[(i,j)]   for i in loc for j in loc]))\n",
        "\n",
        "# Add Constraints\n",
        "for j in loc:\n",
        "    model += lpSum([x[(i, j)] for i in loc]) == demand.loc[j,'Demand']\n",
        "for i in loc:\n",
        "    model += lpSum([x[(i, j)] for j in loc]) <= lpSum([cap.loc[i,s]*y[(i,s)] * 1000\n",
        "                                                       for s in size])"
      ],
      "execution_count": 2,
      "outputs": []
    },
    {
      "cell_type": "code",
      "metadata": {
        "id": "W4D6zwN8fWxh"
      },
      "source": [
        "# Solve Model\n",
        "model.solve()\n",
        "print(\"Total Costs = {:,} ($/Month)\".format(int(value(model.objective))))\n",
        "print('\\n' + \"Status: {}\".format(LpStatus[model.status]))\n",
        "\n",
        "\n",
        "# Dictionnary\n",
        "dict_plant = {}\n",
        "dict_prod = {}\n",
        "for v in model.variables():\n",
        "    if 'plant' in v.name:\n",
        "        name = v.name.replace('plant__', '').replace('_', '')\n",
        "        dict_plant[name] = int(v.varValue)\n",
        "        p_name = name\n",
        "    else:\n",
        "        name = v.name.replace('production__', '').replace('_', '')\n",
        "        dict_prod[name] = v.varValue\n",
        "    print(name, \"=\", v.varValue)"
      ],
      "execution_count": 3,
      "outputs": []
    }
  ]
}