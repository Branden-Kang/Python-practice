{
  "nbformat": 4,
  "nbformat_minor": 0,
  "metadata": {
    "colab": {
      "provenance": [],
      "authorship_tag": "ABX9TyOwEHeJkzq172R4StBd0qWX"
    },
    "kernelspec": {
      "name": "python3",
      "display_name": "Python 3"
    },
    "language_info": {
      "name": "python"
    }
  },
  "cells": [
    {
      "cell_type": "markdown",
      "source": [
        "[Reference](https://python.plainenglish.io/5-most-important-python-concepts-67d2360729fc)"
      ],
      "metadata": {
        "id": "nXdUntCB3XNE"
      }
    },
    {
      "cell_type": "markdown",
      "source": [
        "# 1.) Closures"
      ],
      "metadata": {
        "id": "Q7TrDr753ZOx"
      }
    },
    {
      "cell_type": "code",
      "execution_count": 1,
      "metadata": {
        "id": "66tQmP8d3Ssh"
      },
      "outputs": [],
      "source": [
        "def firstFunction():\n",
        "    name = \"Ishaan\"\n",
        "    def secondFunction():\n",
        "        print(name)"
      ]
    },
    {
      "cell_type": "code",
      "source": [
        "def firstFunction():\n",
        "    name = \"Ishaan\"\n",
        "    def secondFunction():\n",
        "        print(name)\n",
        "    return secondFunction\n",
        "newFunction = firstFunction()\n",
        "newFunction()           # Prints Ishaan In Console"
      ],
      "metadata": {
        "colab": {
          "base_uri": "https://localhost:8080/"
        },
        "id": "mHlOea0V3aog",
        "outputId": "20dde006-5c88-43e8-dc11-321dc9341edb"
      },
      "execution_count": 2,
      "outputs": [
        {
          "output_type": "stream",
          "name": "stdout",
          "text": [
            "Ishaan\n"
          ]
        }
      ]
    },
    {
      "cell_type": "markdown",
      "source": [
        "# "
      ],
      "metadata": {
        "id": "06YNgv_d3d0X"
      }
    },
    {
      "cell_type": "code",
      "source": [
        "add_v = lambda x : x + 2\n",
        "print(add_v(1))"
      ],
      "metadata": {
        "colab": {
          "base_uri": "https://localhost:8080/"
        },
        "id": "XrkVYNOt3cM0",
        "outputId": "3379fed0-11c5-485c-d955-2a82150411fb"
      },
      "execution_count": 3,
      "outputs": [
        {
          "output_type": "stream",
          "name": "stdout",
          "text": [
            "3\n"
          ]
        }
      ]
    },
    {
      "cell_type": "markdown",
      "source": [
        "# 3.) Buffering Protocol"
      ],
      "metadata": {
        "id": "L0Cd8O3V3lZX"
      }
    },
    {
      "cell_type": "code",
      "source": [
        "import array\n",
        "arr = array.array('i', range(10))     #array stores data as a contiguous block\n",
        "import numpy as np\n",
        "npArr = np.asarray(arr)\n",
        "npArr[4] = 555     # this will also change the original arr array"
      ],
      "metadata": {
        "id": "tFNAqhTL3h7d"
      },
      "execution_count": 6,
      "outputs": []
    },
    {
      "cell_type": "code",
      "source": [
        "npArr"
      ],
      "metadata": {
        "colab": {
          "base_uri": "https://localhost:8080/"
        },
        "id": "bE4SBcT23mZF",
        "outputId": "025a9e79-633c-4673-ef4a-340ba76ec9b8"
      },
      "execution_count": 7,
      "outputs": [
        {
          "output_type": "execute_result",
          "data": {
            "text/plain": [
              "array([  0,   1,   2,   3, 555,   5,   6,   7,   8,   9], dtype=int32)"
            ]
          },
          "metadata": {},
          "execution_count": 7
        }
      ]
    },
    {
      "cell_type": "markdown",
      "source": [
        "# 4.) Decorators"
      ],
      "metadata": {
        "id": "NQc0bYuT3wGH"
      }
    },
    {
      "cell_type": "code",
      "source": [
        "def deco(original_func):\n",
        "    def wrapper():\n",
        "        print(\"Decorating!\")\n",
        "        original_func()\n",
        "        print(\"Finished decorating!\")\n",
        "    return wrapper\n",
        "\n",
        "def my_func():\n",
        "    print(\"Follow Me :)\")\n",
        "\n",
        "my_func = deco(my_func)"
      ],
      "metadata": {
        "id": "frdVoBQl3vYl"
      },
      "execution_count": 8,
      "outputs": []
    },
    {
      "cell_type": "code",
      "source": [
        "@deco\n",
        "def my_func():\n",
        "    print(\"Hello there!\")"
      ],
      "metadata": {
        "id": "bBXCUI0n3yx2"
      },
      "execution_count": 10,
      "outputs": []
    },
    {
      "cell_type": "code",
      "source": [
        "def deco(original_func):\n",
        "    def wrapper(*args, **kwargs):\n",
        "        print(\"Decorating!\")\n",
        "        original_func(*args, **kwargs)\n",
        "        print(\"Finished decorating!\")\n",
        "    return wrapper"
      ],
      "metadata": {
        "id": "L25Nqfi5321b"
      },
      "execution_count": 11,
      "outputs": []
    },
    {
      "cell_type": "code",
      "source": [
        "import functools\n",
        "def deco(original_func):\n",
        "    @functools.wraps(original_func)\n",
        "    def wrapper(*args, **kwargs):\n",
        "        print(\"Decorating!\")\n",
        "        original_func(*args, **kwargs)\n",
        "        print(\"Finished decorating!\")\n",
        "    return wrapper"
      ],
      "metadata": {
        "id": "3HhKPRk_37fx"
      },
      "execution_count": 12,
      "outputs": []
    },
    {
      "cell_type": "markdown",
      "source": [
        "# 5.) Slicing"
      ],
      "metadata": {
        "id": "qA8CauQi39tr"
      }
    },
    {
      "cell_type": "code",
      "source": [
        "nums = [1,2,3,4,5,6,7]      #select the first 3 elements\n",
        "nums[:3]      #select the last 3 elements\n",
        "nums[-3:]      #select elements between 1 and 3\n",
        "nums[1:3]      #select the reverse of the list\n",
        "nums[::-1]"
      ],
      "metadata": {
        "colab": {
          "base_uri": "https://localhost:8080/"
        },
        "id": "ih_nwgQf385Y",
        "outputId": "b633555f-12d4-4bf4-cc5e-9890ce68957a"
      },
      "execution_count": 13,
      "outputs": [
        {
          "output_type": "execute_result",
          "data": {
            "text/plain": [
              "[7, 6, 5, 4, 3, 2, 1]"
            ]
          },
          "metadata": {},
          "execution_count": 13
        }
      ]
    },
    {
      "cell_type": "code",
      "source": [
        "nums = [1,2,3,4,5,6,7]\n",
        "new_nums = nums[:3]\n",
        "nums[0] = 100\n",
        "\n",
        "print(nums)\n",
        "print(new_nums)"
      ],
      "metadata": {
        "colab": {
          "base_uri": "https://localhost:8080/"
        },
        "id": "AGhlwT3P3-yO",
        "outputId": "7213133d-c7cb-4954-8500-133bd9d1feee"
      },
      "execution_count": 14,
      "outputs": [
        {
          "output_type": "stream",
          "name": "stdout",
          "text": [
            "[100, 2, 3, 4, 5, 6, 7]\n",
            "[1, 2, 3]\n"
          ]
        }
      ]
    },
    {
      "cell_type": "code",
      "source": [
        "nums = [1,2,3,4,5,6,7]        #change the first 3 elements\n",
        "nums[:3] = [101, 102, 103]    #change and expand the first 3 elements\n",
        "nums[:3] = [101, 102, 103, 104, 105]"
      ],
      "metadata": {
        "id": "UvjUqBhq4Cp4"
      },
      "execution_count": 15,
      "outputs": []
    }
  ]
}