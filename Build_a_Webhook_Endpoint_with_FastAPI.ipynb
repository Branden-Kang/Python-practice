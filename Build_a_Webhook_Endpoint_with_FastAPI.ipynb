{
  "nbformat": 4,
  "nbformat_minor": 0,
  "metadata": {
    "colab": {
      "name": "Build a Webhook Endpoint with FastAPI.ipynb",
      "provenance": [],
      "collapsed_sections": [],
      "authorship_tag": "ABX9TyNdJsKjTL++wr3/Xq7Txfcf"
    },
    "kernelspec": {
      "name": "python3",
      "display_name": "Python 3"
    },
    "language_info": {
      "name": "python"
    }
  },
  "cells": [
    {
      "cell_type": "markdown",
      "source": [
        "[Reference](https://towardsdev.com/build-a-webhook-endpoint-with-fastapi-d14bf1b1d55d)|"
      ],
      "metadata": {
        "id": "poS2q8zXvxTA"
      }
    },
    {
      "cell_type": "code",
      "source": [
        "pip install fastapi"
      ],
      "metadata": {
        "colab": {
          "base_uri": "https://localhost:8080/"
        },
        "id": "neurr9Gl0eG1",
        "outputId": "bb25b0be-93af-43a2-b9e7-ac78ffe7496a"
      },
      "execution_count": 2,
      "outputs": [
        {
          "output_type": "stream",
          "name": "stdout",
          "text": [
            "Looking in indexes: https://pypi.org/simple, https://us-python.pkg.dev/colab-wheels/public/simple/\n",
            "Collecting fastapi\n",
            "  Downloading fastapi-0.78.0-py3-none-any.whl (54 kB)\n",
            "\u001b[K     |████████████████████████████████| 54 kB 1.7 MB/s \n",
            "\u001b[?25hCollecting starlette==0.19.1\n",
            "  Downloading starlette-0.19.1-py3-none-any.whl (63 kB)\n",
            "\u001b[K     |████████████████████████████████| 63 kB 1.9 MB/s \n",
            "\u001b[?25hCollecting pydantic!=1.7,!=1.7.1,!=1.7.2,!=1.7.3,!=1.8,!=1.8.1,<2.0.0,>=1.6.2\n",
            "  Downloading pydantic-1.9.1-cp37-cp37m-manylinux_2_17_x86_64.manylinux2014_x86_64.whl (11.1 MB)\n",
            "\u001b[K     |████████████████████████████████| 11.1 MB 36.9 MB/s \n",
            "\u001b[?25hCollecting anyio<5,>=3.4.0\n",
            "  Downloading anyio-3.6.1-py3-none-any.whl (80 kB)\n",
            "\u001b[K     |████████████████████████████████| 80 kB 8.6 MB/s \n",
            "\u001b[?25hRequirement already satisfied: typing-extensions>=3.10.0 in /usr/local/lib/python3.7/dist-packages (from starlette==0.19.1->fastapi) (4.2.0)\n",
            "Requirement already satisfied: idna>=2.8 in /usr/local/lib/python3.7/dist-packages (from anyio<5,>=3.4.0->starlette==0.19.1->fastapi) (2.10)\n",
            "Collecting sniffio>=1.1\n",
            "  Downloading sniffio-1.2.0-py3-none-any.whl (10 kB)\n",
            "Installing collected packages: sniffio, anyio, starlette, pydantic, fastapi\n",
            "Successfully installed anyio-3.6.1 fastapi-0.78.0 pydantic-1.9.1 sniffio-1.2.0 starlette-0.19.1\n"
          ]
        }
      ]
    },
    {
      "cell_type": "code",
      "execution_count": 3,
      "metadata": {
        "id": "zo7cjv_YvuYe"
      },
      "outputs": [],
      "source": [
        "import hashlib\n",
        "import hmac\n",
        "import http\n",
        "import os\n",
        "\n",
        "from fastapi import FastAPI, Header, HTTPException, Request\n",
        "\n",
        "app = FastAPI()\n",
        "\n",
        "\n",
        "def generate_hash_signature(\n",
        "    secret: bytes,\n",
        "    payload: bytes,\n",
        "    digest_method=hashlib.sha1,\n",
        "):\n",
        "    return hmac.new(secret, payload, digest_method).hexdigest()\n",
        "\n",
        "\n",
        "@app.post(\"/webhook\", status_code=http.HTTPStatus.ACCEPTED)\n",
        "async def webhook(request: Request, x_hub_signature: str = Header(None)):\n",
        "    payload = await request.body()\n",
        "    secret = os.environ.get(\"WEBHOOK_SECRET\").encode(\"utf-8\")\n",
        "    signature = generate_hash_signature(secret, payload)\n",
        "    if x_hub_signature != f\"sha1={signature}\":\n",
        "        raise HTTPException(status_code=401, detail=\"Authentication error.\")\n",
        "    return {}"
      ]
    }
  ]
}