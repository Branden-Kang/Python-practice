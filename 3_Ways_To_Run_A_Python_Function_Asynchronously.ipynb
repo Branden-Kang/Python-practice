{
  "nbformat": 4,
  "nbformat_minor": 0,
  "metadata": {
    "colab": {
      "provenance": [],
      "authorship_tag": "ABX9TyNsiYFp5vUdEfFexQB7K1da"
    },
    "kernelspec": {
      "name": "python3",
      "display_name": "Python 3"
    },
    "language_info": {
      "name": "python"
    }
  },
  "cells": [
    {
      "cell_type": "markdown",
      "source": [
        "[Reference](https://medium.com/@alexobidiegwu/3-ways-to-run-a-python-function-asynchronously-b00e860fed6d)"
      ],
      "metadata": {
        "id": "O4HiVEk57_7O"
      }
    },
    {
      "cell_type": "code",
      "execution_count": 1,
      "metadata": {
        "colab": {
          "base_uri": "https://localhost:8080/"
        },
        "id": "gwEkk2v8749t",
        "outputId": "dd505d9e-35bf-4ecb-97fe-013aeeae7e77"
      },
      "outputs": [
        {
          "output_type": "stream",
          "name": "stderr",
          "text": [
            "Exception in thread Thread-10 (download_pdfs):\n",
            "Traceback (most recent call last):\n",
            "  File \"/usr/lib/python3.10/threading.py\", line 1016, in _bootstrap_inner\n",
            "Exception in thread     self.run()\n",
            "  File \"/usr/lib/python3.10/threading.py\", line 953, in run\n",
            "    self._target(*self._args, **self._kwargs)\n",
            "TypeError: download_pdfs() missing 1 required positional argument: 'img_name'\n",
            "Exception in thread Thread-12 (download_pdfs):\n",
            "Traceback (most recent call last):\n",
            "  File \"/usr/lib/python3.10/threading.py\", line 1016, in _bootstrap_inner\n",
            "    self.run()\n",
            "  File \"/usr/lib/python3.10/threading.py\", line 953, in run\n",
            "    self._target(*self._args, **self._kwargs)\n",
            "TypeError: download_pdfs() missing 1 required positional argument: 'img_name'\n",
            "Thread-11 (download_pdfs):\n",
            "Traceback (most recent call last):\n",
            "  File \"/usr/lib/python3.10/threading.py\", line 1016, in _bootstrap_inner\n",
            "    self.run()\n",
            "  File \"/usr/lib/python3.10/threading.py\", line 953, in run\n",
            "    self._target(*self._args, **self._kwargs)\n",
            "TypeError: download_pdfs() missing 1 required positional argument: 'img_name'\n",
            "Exception in thread Thread-13 (download_pdfs):\n",
            "Traceback (most recent call last):\n",
            "  File \"/usr/lib/python3.10/threading.py\", line 1016, in _bootstrap_inner\n",
            "    self.run()\n",
            "  File \"/usr/lib/python3.10/threading.py\", line 953, in run\n",
            "    self._target(*self._args, **self._kwargs)\n",
            "TypeError: download_pdfs() missing 1 required positional argument: 'img_name'\n",
            "Exception in thread Exception in thread Thread-15 (download_pdfs):\n",
            "Traceback (most recent call last):\n",
            "  File \"/usr/lib/python3.10/threading.py\", line 1016, in _bootstrap_inner\n",
            "    self.run()\n",
            "  File \"/usr/lib/python3.10/threading.py\", line 953, in run\n",
            "    self._target(*self._args, **self._kwargs)\n",
            "TypeError: download_pdfs() missing 1 required positional argument: 'img_name'\n",
            "Exception in thread Thread-14 (download_pdfs):\n",
            "Traceback (most recent call last):\n",
            "  File \"/usr/lib/python3.10/threading.py\", line 1016, in _bootstrap_inner\n",
            "    self.run()\n",
            "  File \"/usr/lib/python3.10/threading.py\", line 953, in run\n",
            "    self._target(*self._args, **self._kwargs)\n",
            "TypeError: download_pdfs() missing 1 required positional argument: 'img_name'\n",
            "Thread-16 (download_pdfs):\n",
            "Traceback (most recent call last):\n",
            "  File \"/usr/lib/python3.10/threading.py\", line 1016, in _bootstrap_inner\n",
            "    self.run()\n",
            "  File \"/usr/lib/python3.10/threading.py\", line 953, in run\n",
            "    self._target(*self._args, **self._kwargs)\n",
            "TypeError: download_pdfs() missing 1 required positional argument: 'img_name'\n",
            "Exception in thread Thread-17 (download_pdfs):\n",
            "Traceback (most recent call last):\n",
            "  File \"/usr/lib/python3.10/threading.py\", line 1016, in _bootstrap_inner\n",
            "    self.run()\n",
            "  File \"/usr/lib/python3.10/threading.py\", line 953, in run\n",
            "    self._target(*self._args, **self._kwargs)\n",
            "TypeError: download_pdfs() missing 1 required positional argument: 'img_name'\n",
            "Exception in thread Thread-18 (download_pdfs):\n",
            "Traceback (most recent call last):\n",
            "  File \"/usr/lib/python3.10/threading.py\", line 1016, in _bootstrap_inner\n",
            "    self.run()\n",
            "  File \"/usr/lib/python3.10/threading.py\", line 953, in run\n",
            "    self._target(*self._args, **self._kwargs)\n",
            "TypeError: download_pdfs() missing 1 required positional argument: 'img_name'\n",
            "Exception in thread Thread-19 (download_pdfs):\n",
            "Traceback (most recent call last):\n",
            "  File \"/usr/lib/python3.10/threading.py\", line 1016, in _bootstrap_inner\n",
            "    self.run()\n",
            "  File \"/usr/lib/python3.10/threading.py\", line 953, in run\n",
            "    self._target(*self._args, **self._kwargs)\n",
            "TypeError: download_pdfs() missing 1 required positional argument: 'img_name'\n",
            "Exception in thread Thread-20 (download_pdfs):\n",
            "Traceback (most recent call last):\n",
            "  File \"/usr/lib/python3.10/threading.py\", line 1016, in _bootstrap_inner\n",
            "    self.run()\n",
            "  File \"/usr/lib/python3.10/threading.py\", line 953, in run\n",
            "    self._target(*self._args, **self._kwargs)\n",
            "TypeError: download_pdfs() missing 1 required positional argument: 'img_name'\n"
          ]
        },
        {
          "output_type": "stream",
          "name": "stdout",
          "text": [
            "STARTED ==> 317.896536863\n",
            "FINISHED ==> 0\n"
          ]
        }
      ],
      "source": [
        "import threading\n",
        "import requests\n",
        "import time\n",
        "\n",
        "start = time.perf_counter()\n",
        "print('STARTED ==>', start)\n",
        "\n",
        "pdf_links = [\n",
        "    'https://www2.gov.bc.ca/assets/gov/law-crime-and-justice/courthouse-services/court-files-records/court-forms/supreme-civil/55.pdf?forcedownload=true',\n",
        "    'https://www2.gov.bc.ca/assets/gov/law-crime-and-justice/courthouse-services/court-files-records/court-forms/supreme-civil/10.pdf?forcedownload=true',\n",
        "    'https://www2.gov.bc.ca/assets/gov/law-crime-and-justice/courthouse-services/court-files-records/court-forms/supreme-civil/109.pdf?forcedownload=true',\n",
        "    'https://www2.gov.bc.ca/assets/gov/law-crime-and-justice/courthouse-services/court-files-records/court-forms/supreme-civil/80.pdf?forcedownload=true',\n",
        "    'https://www2.gov.bc.ca/assets/gov/law-crime-and-justice/courthouse-services/court-files-records/court-forms/supreme-civil/78.pdf?forcedownload=true',\n",
        "    'https://www2.gov.bc.ca/assets/gov/law-crime-and-justice/courthouse-services/court-files-records/court-forms/supreme-civil/16.pdf?forcedownload=true',\n",
        "    'https://www2.gov.bc.ca/assets/gov/law-crime-and-justice/courthouse-services/court-files-records/court-forms/supreme-civil/15.pdf?forcedownload=true',\n",
        "    'https://www2.gov.bc.ca/assets/gov/law-crime-and-justice/courthouse-services/court-files-records/court-forms/supreme-civil/83.pdf?forcedownload=true',\n",
        "    'https://www2.gov.bc.ca/assets/gov/law-crime-and-justice/courthouse-services/court-files-records/court-forms/supreme-civil/121-1.pdf?forcedownload=true',\n",
        "    'https://www2.gov.bc.ca/assets/gov/law-crime-and-justice/courthouse-services/court-files-records/court-forms/supreme-civil/49.pdf?forcedownload=true',\n",
        "    'https://www2.gov.bc.ca/assets/gov/law-crime-and-justice/courthouse-services/court-files-records/court-forms/supreme-civil/121-1.pdf?forcedownload=true'\n",
        "]\n",
        "\n",
        "headers = {\n",
        "    'User-Agent':'YOUR-USER-AGENT'\n",
        "}\n",
        "\n",
        "def download_pdfs(link,img_name):\n",
        "    pdf = requests.get(link,headers=headers).content\n",
        "    file_name = link.split('/')[-1]\n",
        "    file_name = file_name.split('?')[0]\n",
        "\n",
        "    with open(file_name, 'wb') as pdf_file:\n",
        "        pdf_file.write(pdf)\n",
        "\n",
        "num = 0\n",
        "\n",
        "threads = []\n",
        "\n",
        "for link in pdf_links:\n",
        "    t = threading.Thread(target=download_pdfs,args=[link])\n",
        "    t.start()\n",
        "    threads.append(t)\n",
        "    num +=1\n",
        "\n",
        "for thread in threads:\n",
        "    thread.join()\n",
        "\n",
        "finish = time.perf_counter()\n",
        "print('FINISHED ==>', round(finish - start))"
      ]
    }
  ]
}