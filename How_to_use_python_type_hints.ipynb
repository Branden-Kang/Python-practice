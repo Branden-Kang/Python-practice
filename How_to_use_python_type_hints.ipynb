{
  "nbformat": 4,
  "nbformat_minor": 0,
  "metadata": {
    "colab": {
      "name": "How to use python type hints.ipynb",
      "provenance": [],
      "authorship_tag": "ABX9TyOKLY1hvfrVv097Sx+Y0nL9"
    },
    "kernelspec": {
      "name": "python3",
      "display_name": "Python 3"
    },
    "language_info": {
      "name": "python"
    }
  },
  "cells": [
    {
      "cell_type": "markdown",
      "metadata": {
        "id": "BnUs_KYVN62O"
      },
      "source": [
        "[Reference](https://bamyxtechnology.medium.com/how-to-use-python-type-hints-9a79cd74a7d4)"
      ]
    },
    {
      "cell_type": "code",
      "metadata": {
        "colab": {
          "base_uri": "https://localhost:8080/"
        },
        "id": "PwwquoDfKHfZ",
        "outputId": "1a32998a-7cc3-4ab5-db21-1716716c45fc"
      },
      "source": [
        "greeting = \"Hello, {}, you’re {} years old\"\n",
        "\n",
        "def greet(user, age):\n",
        "    return greeting.format(user, age)\n",
        "\n",
        "name = input(\"Your name?\")\n",
        "\n",
        "age = int(input(\"How old are you?\"))\n",
        "\n",
        "print(greet(name, age))"
      ],
      "execution_count": 1,
      "outputs": [
        {
          "output_type": "stream",
          "name": "stdout",
          "text": [
            "Your name?Branden\n",
            "How old are you?20\n",
            "Hello, Branden, you’re 20 years old\n"
          ]
        }
      ]
    },
    {
      "cell_type": "code",
      "metadata": {
        "colab": {
          "base_uri": "https://localhost:8080/"
        },
        "id": "eSKPjbrKMrDN",
        "outputId": "3545422e-ee6e-4814-af99-9810b23a0839"
      },
      "source": [
        "greeting = \"Hello, {}, you’re {} years old\"\n",
        "\n",
        "def greet(user:str, age:int) -> str:\n",
        "    return greeting.format(user, age)\n",
        "\n",
        "name = input(\"Your name?\")\n",
        "\n",
        "age = int(input(\"How old are you?\"))\n",
        "\n",
        "print(greet(name, age))"
      ],
      "execution_count": 2,
      "outputs": [
        {
          "output_type": "stream",
          "name": "stdout",
          "text": [
            "Your name?Branden\n",
            "How old are you?20\n",
            "Hello, Branden, you’re 20 years old\n"
          ]
        }
      ]
    },
    {
      "cell_type": "code",
      "metadata": {
        "id": "aS8w-Fu5M0Y4"
      },
      "source": [
        "from typing import Dict, List\n",
        "\n",
        "dict_of_users: Dict[int,str] = {\n",
        "\n",
        "1: \"Jerome\",\n",
        "\n",
        "2: \"Lewis\"\n",
        "\n",
        "}\n",
        "\n",
        "list_of_users: List[str] = [\n",
        "\n",
        "\"Jerome\", \"Lewis\"\n",
        "\n",
        "]"
      ],
      "execution_count": 3,
      "outputs": []
    },
    {
      "cell_type": "code",
      "metadata": {
        "id": "pXu8CoZ5M5nt"
      },
      "source": [
        "from typing import Dict, Optional, Union\n",
        "\n",
        "dict_of_users: Dict[int, Union[int,str]] = {\n",
        "\n",
        "1: \"Jerome\",\n",
        "2: \"Lewis\",\n",
        "3: 32\n",
        "\n",
        "}\n",
        "\n",
        "user_id: Optional[int]\n",
        "user_id = None # valid\n",
        "user_id = 3 # also vald\n",
        "user_id = \"Hello\" # not valid!"
      ],
      "execution_count": 4,
      "outputs": []
    },
    {
      "cell_type": "code",
      "metadata": {
        "colab": {
          "base_uri": "https://localhost:8080/"
        },
        "id": "tXJ3ruSoNBjK",
        "outputId": "5c1cd807-95d8-44b7-e0cc-da7ba33f8e71"
      },
      "source": [
        "from typing import Dict\n",
        "\n",
        "class User:\n",
        "\n",
        "    def __init__(self, name):\n",
        "        self.name = name\n",
        "\n",
        "users: Dict[int, User] = {\n",
        "    1: User(\"Serdar\"),\n",
        "    2: User(\"Davis\")\n",
        "    }\n",
        "\n",
        "def inspect_user(user:User) -> None:\n",
        "    print (user.name)\n",
        "\n",
        "user1 = users[1]\n",
        "inspect_user(user1)"
      ],
      "execution_count": 11,
      "outputs": [
        {
          "output_type": "stream",
          "name": "stdout",
          "text": [
            "Serdar\n"
          ]
        }
      ]
    },
    {
      "cell_type": "code",
      "metadata": {
        "id": "0ACNc5aQNRs-"
      },
      "source": [
        "class User:\n",
        "\n",
        "    def __init__(self, name:str, address:\"Address\"):\n",
        "\n",
        "        self.name = name\n",
        "\n",
        "        self.address = address\n",
        "\n",
        "# ^ because let’s say for some reason we must have\n",
        "\n",
        "# an address for each user\n",
        "\n",
        "class Address:\n",
        "\n",
        "    def __init__(self, owner:User, address_line:str):\n",
        "\n",
        "        self.owner = owner\n",
        "\n",
        "        self.address_line = address_line"
      ],
      "execution_count": 12,
      "outputs": []
    }
  ]
}