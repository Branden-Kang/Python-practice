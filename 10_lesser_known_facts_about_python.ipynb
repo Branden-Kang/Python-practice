{
  "nbformat": 4,
  "nbformat_minor": 0,
  "metadata": {
    "colab": {
      "name": "10 lesser-known facts about python.ipynb",
      "provenance": [],
      "authorship_tag": "ABX9TyPV5m17fVHe2Pmrk6yhmKWd"
    },
    "kernelspec": {
      "name": "python3",
      "display_name": "Python 3"
    },
    "language_info": {
      "name": "python"
    }
  },
  "cells": [
    {
      "cell_type": "markdown",
      "metadata": {
        "id": "lsgIVIl3NLyw"
      },
      "source": [
        "[Reference](https://allwin-raju-12.medium.com/10-lesser-known-facts-about-python-41233c12a9d1)"
      ]
    },
    {
      "cell_type": "code",
      "metadata": {
        "id": "QdaLYJFrNAqS"
      },
      "source": [
        "def contains_even_number(l):\n",
        "    for elt in l:\n",
        "        if elf % 2 == 0:\n",
        "            print(\"list contains an even number\")\n",
        "            break\n",
        "    else:\n",
        "        print(\"list does not contain an even number\")"
      ],
      "execution_count": 1,
      "outputs": []
    },
    {
      "cell_type": "code",
      "metadata": {
        "id": "KOZ5GWi1NZNy"
      },
      "source": [
        "[] = ()"
      ],
      "execution_count": 4,
      "outputs": []
    },
    {
      "cell_type": "code",
      "metadata": {
        "id": "msZkE407Ncf4"
      },
      "source": [
        "() = []"
      ],
      "execution_count": 5,
      "outputs": []
    },
    {
      "cell_type": "code",
      "metadata": {
        "colab": {
          "base_uri": "https://localhost:8080/",
          "height": 130
        },
        "id": "l_yeYikWNgKq",
        "outputId": "ffb1a049-0ab7-4c71-f3b9-49697f340d90"
      },
      "source": [
        "from __future__ import braces"
      ],
      "execution_count": 6,
      "outputs": [
        {
          "output_type": "error",
          "ename": "SyntaxError",
          "evalue": "ignored",
          "traceback": [
            "\u001b[0;36m  File \u001b[0;32m\"<ipython-input-6-6d5c5b2f0daf>\"\u001b[0;36m, line \u001b[0;32m1\u001b[0m\n\u001b[0;31m    from __future__ import braces\u001b[0m\n\u001b[0m                                 ^\u001b[0m\n\u001b[0;31mSyntaxError\u001b[0m\u001b[0;31m:\u001b[0m not a chance\n"
          ]
        }
      ]
    },
    {
      "cell_type": "code",
      "metadata": {
        "colab": {
          "base_uri": "https://localhost:8080/"
        },
        "id": "wcyN1SfvNj_D",
        "outputId": "5a9a8311-4600-466b-dc64-cdce38353758"
      },
      "source": [
        "a, b = 1, 2\n",
        "print(a)\n",
        "print(b)"
      ],
      "execution_count": 7,
      "outputs": [
        {
          "output_type": "stream",
          "name": "stdout",
          "text": [
            "1\n",
            "2\n"
          ]
        }
      ]
    },
    {
      "cell_type": "code",
      "metadata": {
        "id": "rV7Vm9w7Nptr"
      },
      "source": [
        "x = 1\n",
        "y = 2\n",
        "temp = x;\n",
        "x = y;\n",
        "y = temp;"
      ],
      "execution_count": 9,
      "outputs": []
    },
    {
      "cell_type": "code",
      "metadata": {
        "id": "vORGm7stNsTW"
      },
      "source": [
        "a, b = b, a"
      ],
      "execution_count": 10,
      "outputs": []
    },
    {
      "cell_type": "code",
      "metadata": {
        "colab": {
          "base_uri": "https://localhost:8080/"
        },
        "id": "fhJAEDfuNwY-",
        "outputId": "c6a22ebd-c052-44cc-e51e-6fdb76d709f8"
      },
      "source": [
        "def x():\n",
        "    return 1, 2, 3, 4\n",
        "print(x)"
      ],
      "execution_count": 11,
      "outputs": [
        {
          "output_type": "stream",
          "name": "stdout",
          "text": [
            "<function x at 0x7f89694d14d0>\n"
          ]
        }
      ]
    },
    {
      "cell_type": "code",
      "metadata": {
        "colab": {
          "base_uri": "https://localhost:8080/",
          "height": 37
        },
        "id": "jmwkjrnGNzjO",
        "outputId": "4add44ad-3781-4f7e-8d85-7c902b9b59c4"
      },
      "source": [
        "a = \"Hello World!\"\n",
        "a[::-1]"
      ],
      "execution_count": 12,
      "outputs": [
        {
          "output_type": "execute_result",
          "data": {
            "application/vnd.google.colaboratory.intrinsic+json": {
              "type": "string"
            },
            "text/plain": [
              "'!dlroW olleH'"
            ]
          },
          "metadata": {},
          "execution_count": 12
        }
      ]
    },
    {
      "cell_type": "code",
      "metadata": {
        "colab": {
          "base_uri": "https://localhost:8080/"
        },
        "id": "YZ5FKvZMN2zA",
        "outputId": "6662e141-ca21-4e4d-ccf0-6711c1ebbf62"
      },
      "source": [
        "mat = [[1,2,3],[4,5,6]]\n",
        "zip(*mat)"
      ],
      "execution_count": 14,
      "outputs": [
        {
          "output_type": "execute_result",
          "data": {
            "text/plain": [
              "<zip at 0x7f89694be870>"
            ]
          },
          "metadata": {},
          "execution_count": 14
        }
      ]
    },
    {
      "cell_type": "code",
      "metadata": {
        "colab": {
          "base_uri": "https://localhost:8080/",
          "height": 37
        },
        "id": "P5n0hBKUN6wb",
        "outputId": "121dfe63-392d-46a7-bce0-d142ed20a0f7"
      },
      "source": [
        "\"code\"*4"
      ],
      "execution_count": 15,
      "outputs": [
        {
          "output_type": "execute_result",
          "data": {
            "application/vnd.google.colaboratory.intrinsic+json": {
              "type": "string"
            },
            "text/plain": [
              "'codecodecodecode'"
            ]
          },
          "metadata": {},
          "execution_count": 15
        }
      ]
    },
    {
      "cell_type": "code",
      "metadata": {
        "id": "ad10FPZCN9ny"
      },
      "source": [
        "with open(\"test.txt\") as f:\n",
        "    # do something with f"
      ],
      "execution_count": 16,
      "outputs": []
    }
  ]
}