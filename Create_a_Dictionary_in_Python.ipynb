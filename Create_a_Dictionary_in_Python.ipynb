{
  "nbformat": 4,
  "nbformat_minor": 0,
  "metadata": {
    "colab": {
      "name": "Create a Dictionary in Python.ipynb",
      "provenance": [],
      "authorship_tag": "ABX9TyMUH4RzgkFd+FvBBs6GCx7U"
    },
    "kernelspec": {
      "name": "python3",
      "display_name": "Python 3"
    }
  },
  "cells": [
    {
      "cell_type": "markdown",
      "metadata": {
        "id": "hqMZRFUCRpJT"
      },
      "source": [
        "[Reference](https://medium.com/techtofreedom/3-ways-to-create-a-dictionary-in-python-34b394bc0892)"
      ]
    },
    {
      "cell_type": "code",
      "metadata": {
        "colab": {
          "base_uri": "https://localhost:8080/"
        },
        "id": "z0Y_BdX2RnqI",
        "outputId": "91b802bc-1f14-4e30-e463-f1f011561aa7"
      },
      "source": [
        "cities = {'London': 'UK', 'New York': 'US', 'Tokyo': 'Japan'}\n",
        "print(cities)"
      ],
      "execution_count": 1,
      "outputs": [
        {
          "output_type": "stream",
          "text": [
            "{'London': 'UK', 'New York': 'US', 'Tokyo': 'Japan'}\n"
          ],
          "name": "stdout"
        }
      ]
    },
    {
      "cell_type": "code",
      "metadata": {
        "colab": {
          "base_uri": "https://localhost:8080/"
        },
        "id": "n5gMMqfERt1s",
        "outputId": "69a41b4e-4f2b-4509-d2b6-29b1ba9ce5dc"
      },
      "source": [
        "cities = {}\n",
        "cities['London'] = 'UK'\n",
        "cities['New York'] = 'US'\n",
        "cities['Tokyo'] = 'Japan'\n",
        "print(cities)"
      ],
      "execution_count": 2,
      "outputs": [
        {
          "output_type": "stream",
          "text": [
            "{'London': 'UK', 'New York': 'US', 'Tokyo': 'Japan'}\n"
          ],
          "name": "stdout"
        }
      ]
    },
    {
      "cell_type": "code",
      "metadata": {
        "colab": {
          "base_uri": "https://localhost:8080/"
        },
        "id": "O3V50ODIRvVF",
        "outputId": "e6fe24ee-8ba6-457c-c217-2e3576930262"
      },
      "source": [
        "cities = [('London', 'UK'), ('New York', 'US'), ('Tokyo', 'Japan')]\n",
        "d_cities = dict(cities)\n",
        "print(d_cities)"
      ],
      "execution_count": 3,
      "outputs": [
        {
          "output_type": "stream",
          "text": [
            "{'London': 'UK', 'New York': 'US', 'Tokyo': 'Japan'}\n"
          ],
          "name": "stdout"
        }
      ]
    },
    {
      "cell_type": "code",
      "metadata": {
        "colab": {
          "base_uri": "https://localhost:8080/"
        },
        "id": "51F3TNKpRxaw",
        "outputId": "62b1e854-2f74-410e-eefb-df86ef399722"
      },
      "source": [
        "cities = ['London', 'Leeds', 'Birmingham']\n",
        "d_cities = dict.fromkeys(cities,'UK') # set the default value to 'UK' \n",
        "print(d_cities)"
      ],
      "execution_count": 4,
      "outputs": [
        {
          "output_type": "stream",
          "text": [
            "{'London': 'UK', 'Leeds': 'UK', 'Birmingham': 'UK'}\n"
          ],
          "name": "stdout"
        }
      ]
    },
    {
      "cell_type": "code",
      "metadata": {
        "colab": {
          "base_uri": "https://localhost:8080/"
        },
        "id": "nDGRmmtuR0GW",
        "outputId": "18f82ac5-9fc6-450c-bf39-bfd96417cf27"
      },
      "source": [
        "cities = ['London', 'New York', 'Tokyo']\n",
        "countries = ['UK', 'US', 'Japan']\n",
        "d_cities = dict(zip(cities, countries))\n",
        "print(d_cities)"
      ],
      "execution_count": 5,
      "outputs": [
        {
          "output_type": "stream",
          "text": [
            "{'London': 'UK', 'New York': 'US', 'Tokyo': 'Japan'}\n"
          ],
          "name": "stdout"
        }
      ]
    },
    {
      "cell_type": "markdown",
      "metadata": {
        "id": "QGY3hUFvR34y"
      },
      "source": [
        "# Dict Comprehension"
      ]
    },
    {
      "cell_type": "code",
      "metadata": {
        "colab": {
          "base_uri": "https://localhost:8080/"
        },
        "id": "FZ8wXCRDR2ql",
        "outputId": "73b6ad1f-e177-4f79-e964-f87ed7868397"
      },
      "source": [
        "cities = ['London', 'New York', 'Tokyo', 'Cambridge', 'Oxford']\n",
        "countries = ['UK', 'US', 'Japan', 'UK', 'UK']\n",
        "uk_cities = {city: country for city, country in zip(cities, countries) if country == 'UK'}\n",
        "print(uk_cities)"
      ],
      "execution_count": 6,
      "outputs": [
        {
          "output_type": "stream",
          "text": [
            "{'London': 'UK', 'Cambridge': 'UK', 'Oxford': 'UK'}\n"
          ],
          "name": "stdout"
        }
      ]
    },
    {
      "cell_type": "code",
      "metadata": {
        "colab": {
          "base_uri": "https://localhost:8080/"
        },
        "id": "6ZB1-qPkSFpl",
        "outputId": "5df8ddd7-ed99-4bb8-eb39-5767b97afa21"
      },
      "source": [
        "cities = ['london', 'New York', 'Tokyo', 'cambridge', 'Oxford']\n",
        "countries = ['uK', 'US', 'Japan', 'uK', 'UK']\n",
        "uk_cities = {city.capitalize(): country.upper()\n",
        "             for city, country in zip(cities, countries)\n",
        "             if country in ('UK', 'uK')}\n",
        "print(uk_cities)"
      ],
      "execution_count": 7,
      "outputs": [
        {
          "output_type": "stream",
          "text": [
            "{'London': 'UK', 'Cambridge': 'UK', 'Oxford': 'UK'}\n"
          ],
          "name": "stdout"
        }
      ]
    }
  ]
}