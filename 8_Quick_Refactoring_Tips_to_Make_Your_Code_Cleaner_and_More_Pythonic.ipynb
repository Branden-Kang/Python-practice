{
  "nbformat": 4,
  "nbformat_minor": 0,
  "metadata": {
    "colab": {
      "provenance": [],
      "authorship_tag": "ABX9TyP8VI2q76D1cN7r23X2JrMj"
    },
    "kernelspec": {
      "name": "python3",
      "display_name": "Python 3"
    },
    "language_info": {
      "name": "python"
    }
  },
  "cells": [
    {
      "cell_type": "markdown",
      "source": [
        "[Reference](https://python.plainenglish.io/8-quick-refactoring-tips-to-make-your-code-cleaner-and-more-pythonic-a8110edb74fb)"
      ],
      "metadata": {
        "id": "iV3c54PgG1ST"
      }
    },
    {
      "cell_type": "markdown",
      "source": [
        "# Tip 1: Merge Nested If Statements"
      ],
      "metadata": {
        "id": "j8L2e3t5G6Lq"
      }
    },
    {
      "cell_type": "code",
      "execution_count": null,
      "metadata": {
        "id": "bW3szYgMGxoA"
      },
      "outputs": [],
      "source": [
        "if a and b:\n",
        "  # do something"
      ]
    },
    {
      "cell_type": "markdown",
      "source": [
        "# Tip 2: Use `any` Instead of a Loop"
      ],
      "metadata": {
        "id": "0LnQbQLjG7hH"
      }
    },
    {
      "cell_type": "code",
      "source": [
        "numbers = [-1, -2, -3, 4, 0, 5, 7, -4]\n",
        "has_positive = False\n",
        "\n",
        "for num in numbers:\n",
        "  if num > 0:\n",
        "    has_positive = True\n",
        "    break"
      ],
      "metadata": {
        "id": "j8ANMdnbHQLi"
      },
      "execution_count": 1,
      "outputs": []
    },
    {
      "cell_type": "code",
      "source": [
        "numbers = [-1, -2, -3, 4, 0, 5, 7, 4]\n",
        "has_positive = any(n > 0 for n in numbers)"
      ],
      "metadata": {
        "id": "FimfL3iVHQXz"
      },
      "execution_count": 2,
      "outputs": []
    },
    {
      "cell_type": "markdown",
      "source": [
        "# Tip 3: Pull Statements Out of Loops"
      ],
      "metadata": {
        "id": "OxLJwO4ZHTwu"
      }
    },
    {
      "cell_type": "code",
      "source": [
        "# Example before optimization\n",
        "numbers = [1, 2, 3, 4, 5]\n",
        "total = 0\n",
        "\n",
        "for num in numbers:\n",
        "    total += num\n",
        "    print(\"Current total:\", total)\n",
        "\n",
        "print(\"Final total:\", total)\n",
        "\n",
        "\n",
        "# Example after optimization\n",
        "numbers = [1, 2, 3, 4, 5]\n",
        "total = 0\n",
        "\n",
        "for num in numbers:\n",
        "    total += num\n",
        "\n",
        "print(\"Final total:\", total)"
      ],
      "metadata": {
        "colab": {
          "base_uri": "https://localhost:8080/"
        },
        "id": "71tUKT_5HRdV",
        "outputId": "ee862c17-29ae-4cba-8f83-267ba60dd8e2"
      },
      "execution_count": 3,
      "outputs": [
        {
          "output_type": "stream",
          "name": "stdout",
          "text": [
            "Current total: 1\n",
            "Current total: 3\n",
            "Current total: 6\n",
            "Current total: 10\n",
            "Current total: 15\n",
            "Final total: 15\n",
            "Final total: 15\n"
          ]
        }
      ]
    },
    {
      "cell_type": "markdown",
      "source": [
        "# Tip 4: Remove Inline Variables"
      ],
      "metadata": {
        "id": "jGEgUgQsHZqy"
      }
    },
    {
      "cell_type": "code",
      "source": [
        "# Example before removing inline variable\n",
        "def calculate_square(x):\n",
        "    square = x * x\n",
        "    return square\n",
        "\n",
        "num = 5\n",
        "result = calculate_square(num)\n",
        "print(\"Square:\", result)\n",
        "\n",
        "\n",
        "# Example after removing inline variable\n",
        "def calculate_square(x):\n",
        "    return x * x\n",
        "\n",
        "num = 5\n",
        "result = calculate_square(num)\n",
        "print(\"Square:\", result)"
      ],
      "metadata": {
        "colab": {
          "base_uri": "https://localhost:8080/"
        },
        "id": "4w6ZCAX_HWGS",
        "outputId": "6704b32b-794b-4ad5-edcc-2247a64127c1"
      },
      "execution_count": 4,
      "outputs": [
        {
          "output_type": "stream",
          "name": "stdout",
          "text": [
            "Square: 25\n",
            "Square: 25\n"
          ]
        }
      ]
    },
    {
      "cell_type": "markdown",
      "source": [
        "# Tip 5: Replace an If Statement with an If Expression"
      ],
      "metadata": {
        "id": "8ZfXEgjlHbsd"
      }
    },
    {
      "cell_type": "code",
      "source": [
        "# Example using if-else statement\n",
        "num = 10\n",
        "if num % 2 == 0:\n",
        "    result = \"Even\"\n",
        "else:\n",
        "    result = \"Odd\"\n",
        "\n",
        "print(result)\n",
        "\n",
        "\n",
        "# Example using if expression\n",
        "num = 10\n",
        "result = \"Even\" if num % 2 == 0 else \"Odd\"\n",
        "print(result)"
      ],
      "metadata": {
        "colab": {
          "base_uri": "https://localhost:8080/"
        },
        "id": "FLV089NkHavi",
        "outputId": "497fe8de-a41a-4c11-c128-46f38344b305"
      },
      "execution_count": 5,
      "outputs": [
        {
          "output_type": "stream",
          "name": "stdout",
          "text": [
            "Even\n",
            "Even\n"
          ]
        }
      ]
    },
    {
      "cell_type": "markdown",
      "source": [
        "# Tip 6: Add a Guard Clause"
      ],
      "metadata": {
        "id": "SoK4WzJcHeJF"
      }
    },
    {
      "cell_type": "code",
      "source": [
        "# Example without a guard clause\n",
        "def calculate_square_root(x):\n",
        "    if x >= 0:\n",
        "        return x ** 0.5\n",
        "    else:\n",
        "        return None\n",
        "\n",
        "num = 25\n",
        "result = calculate_square_root(num)\n",
        "if result is not None:\n",
        "    print(\"Square root:\", result)\n",
        "else:\n",
        "    print(\"Invalid input\")\n",
        "\n",
        "\n",
        "# Example with a guard clause\n",
        "def calculate_square_root(x):\n",
        "    if x < 0:\n",
        "        return None\n",
        "    return x ** 0.5\n",
        "\n",
        "num = 25\n",
        "result = calculate_square_root(num)\n",
        "if result is not None:\n",
        "    print(\"Square root:\", result)\n",
        "else:\n",
        "    print(\"Invalid input\")"
      ],
      "metadata": {
        "colab": {
          "base_uri": "https://localhost:8080/"
        },
        "id": "fKlhB0KTHdRR",
        "outputId": "14a4382d-d5ca-49e7-8ace-94cd006c2f1a"
      },
      "execution_count": 6,
      "outputs": [
        {
          "output_type": "stream",
          "name": "stdout",
          "text": [
            "Square root: 5.0\n",
            "Square root: 5.0\n"
          ]
        }
      ]
    },
    {
      "cell_type": "markdown",
      "source": [
        "# Tip 7: Move Assignments Closer to Their Usage"
      ],
      "metadata": {
        "id": "aMayWnoLHgpQ"
      }
    },
    {
      "cell_type": "code",
      "source": [
        "# Example without moving assignments closer to usage\n",
        "def check_weather(temperature):\n",
        "    wear_hat = False\n",
        "    if temperature < 15:\n",
        "        wear_hat = True\n",
        "\n",
        "    if wear_hat:\n",
        "        print(\"Wear a hat\")\n",
        "    else:\n",
        "        print(\"No need for a hat\")\n",
        "\n",
        "temperature_today = 12\n",
        "check_weather(temperature_today)\n",
        "\n",
        "\n",
        "# Example with assignments closer to usage\n",
        "def check_weather(temperature):\n",
        "    if temperature < 15:\n",
        "        print(\"Wear a hat\")\n",
        "    else:\n",
        "        print(\"No need for a hat\")\n",
        "\n",
        "temperature_today = 12\n",
        "check_weather(temperature_today)"
      ],
      "metadata": {
        "colab": {
          "base_uri": "https://localhost:8080/"
        },
        "id": "G0IOAhfdHfps",
        "outputId": "03520b5d-9201-4c50-df83-53206dd78288"
      },
      "execution_count": 7,
      "outputs": [
        {
          "output_type": "stream",
          "name": "stdout",
          "text": [
            "Wear a hat\n",
            "Wear a hat\n"
          ]
        }
      ]
    },
    {
      "cell_type": "markdown",
      "source": [
        "# Tip 8: Simplify Sequence Checks"
      ],
      "metadata": {
        "id": "YGcGJ-lYHjAH"
      }
    },
    {
      "cell_type": "code",
      "source": [
        "# Example without simplifying sequence checks\n",
        "def process_items(item_list):\n",
        "    if len(item_list) > 0:\n",
        "        for item in item_list:\n",
        "            print(\"Processing:\", item)\n",
        "    else:\n",
        "        print(\"No items to process\")\n",
        "\n",
        "items = [1, 2, 3, 4]\n",
        "process_items(items)\n",
        "\n",
        "\n",
        "# Example with simplified sequence checks\n",
        "def process_items(item_list):\n",
        "    if item_list:\n",
        "        for item in item_list:\n",
        "            print(\"Processing:\", item)\n",
        "    else:\n",
        "        print(\"No items to process\")\n",
        "\n",
        "items = [1, 2, 3, 4]\n",
        "process_items(items)"
      ],
      "metadata": {
        "colab": {
          "base_uri": "https://localhost:8080/"
        },
        "id": "go98QQzhHiCh",
        "outputId": "42b0bd8b-a7c2-4dcb-b2db-05710874c355"
      },
      "execution_count": 8,
      "outputs": [
        {
          "output_type": "stream",
          "name": "stdout",
          "text": [
            "Processing: 1\n",
            "Processing: 2\n",
            "Processing: 3\n",
            "Processing: 4\n",
            "Processing: 1\n",
            "Processing: 2\n",
            "Processing: 3\n",
            "Processing: 4\n"
          ]
        }
      ]
    }
  ]
}