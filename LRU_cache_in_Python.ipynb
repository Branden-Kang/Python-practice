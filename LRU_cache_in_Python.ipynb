{
  "nbformat": 4,
  "nbformat_minor": 0,
  "metadata": {
    "colab": {
      "name": "LRU_cache in Python.ipynb",
      "provenance": [],
      "authorship_tag": "ABX9TyMvAMrSIZg2wCcEOm4QFOkC"
    },
    "kernelspec": {
      "name": "python3",
      "display_name": "Python 3"
    }
  },
  "cells": [
    {
      "cell_type": "markdown",
      "metadata": {
        "id": "04IzjARoryz1",
        "colab_type": "text"
      },
      "source": [
        "[Reference](https://medium.com/better-programming/every-python-programmer-should-know-lru-cache-from-the-standard-library-8e6c20c6bc49)"
      ]
    },
    {
      "cell_type": "code",
      "metadata": {
        "id": "JhV9wxE0iBiY",
        "colab_type": "code",
        "colab": {}
      },
      "source": [
        "from functools import lru_cache\n",
        "from datetime import datetime\n",
        "\n",
        "@lru_cache(maxsize=None)\n",
        "def fib_cache(n):\n",
        "  if n < 2:\n",
        "    return n\n",
        "  return fib_cache(n-1) + fib_cache(n-2)\n",
        "\n",
        "def fib_no_cache(n):\n",
        "  if n < 2:\n",
        "    return n\n",
        "  return fib_no_cache(n-1) + fib_no_cache(n-2)  \n",
        "\n",
        "def timeit(func, samples):\n",
        "  start = datetime.now()\n",
        "  func(samples)\n",
        "  end = datetime.now()\n",
        "  return end-start"
      ],
      "execution_count": 7,
      "outputs": []
    },
    {
      "cell_type": "code",
      "metadata": {
        "id": "C7wT4IJWiEnd",
        "colab_type": "code",
        "colab": {}
      },
      "source": [
        "UPPER = 40\n",
        "\n",
        "cached = []\n",
        "for i in range(0, UPPER):\n",
        "  cached.append(timeit(fib_cache,i))\n",
        "\n",
        "not_cached = []\n",
        "for i in range(0, UPPER):\n",
        "  not_cached.append(timeit(fib_no_cache,i)) "
      ],
      "execution_count": 8,
      "outputs": []
    },
    {
      "cell_type": "code",
      "metadata": {
        "id": "pd5a4hd7sDma",
        "colab_type": "code",
        "colab": {
          "base_uri": "https://localhost:8080/",
          "height": 302
        },
        "outputId": "b3b19fc1-0043-4ebf-caf0-dac7e8c8bd56"
      },
      "source": [
        "import pandas as pd\n",
        "import seaborn as sns\n",
        "\n",
        "df = pd.DataFrame([cached,not_cached]).T\n",
        "df.columns = ['cached','not_cached']\n",
        "df = df.applymap(lambda x: x.value/1000000000)\n",
        "\n",
        "sns.set()\n",
        "g = sns.lineplot(data = df)\n",
        "g.set_ylabel('time in seconds')\n",
        "g.set_xlabel('samples')"
      ],
      "execution_count": 9,
      "outputs": [
        {
          "output_type": "execute_result",
          "data": {
            "text/plain": [
              "Text(0.5, 0, 'samples')"
            ]
          },
          "metadata": {
            "tags": []
          },
          "execution_count": 9
        },
        {
          "output_type": "display_data",
          "data": {
            "image/png": "[encoded data removed]",
            "text/plain": [
              "<Figure size 432x288 with 1 Axes>"
            ]
          },
          "metadata": {
            "tags": []
          }
        }
      ]
    },
    {
      "cell_type": "code",
      "metadata": {
        "id": "L9DnbCfLtO7s",
        "colab_type": "code",
        "colab": {
          "base_uri": "https://localhost:8080/",
          "height": 204
        },
        "outputId": "f7d53196-18ab-4750-c829-359b3d260f88"
      },
      "source": [
        "df.head()"
      ],
      "execution_count": 10,
      "outputs": [
        {
          "output_type": "execute_result",
          "data": {
            "text/html": [
              "<div>\n",
              "<style scoped>\n",
              "    .dataframe tbody tr th:only-of-type {\n",
              "        vertical-align: middle;\n",
              "    }\n",
              "\n",
              "    .dataframe tbody tr th {\n",
              "        vertical-align: top;\n",
              "    }\n",
              "\n",
              "    .dataframe thead th {\n",
              "        text-align: right;\n",
              "    }\n",
              "</style>\n",
              "<table border=\"1\" class=\"dataframe\">\n",
              "  <thead>\n",
              "    <tr style=\"text-align: right;\">\n",
              "      <th></th>\n",
              "      <th>cached</th>\n",
              "      <th>not_cached</th>\n",
              "    </tr>\n",
              "  </thead>\n",
              "  <tbody>\n",
              "    <tr>\n",
              "      <th>0</th>\n",
              "      <td>0.000012</td>\n",
              "      <td>0.000002</td>\n",
              "    </tr>\n",
              "    <tr>\n",
              "      <th>1</th>\n",
              "      <td>0.000002</td>\n",
              "      <td>0.000001</td>\n",
              "    </tr>\n",
              "    <tr>\n",
              "      <th>2</th>\n",
              "      <td>0.000052</td>\n",
              "      <td>0.000001</td>\n",
              "    </tr>\n",
              "    <tr>\n",
              "      <th>3</th>\n",
              "      <td>0.000002</td>\n",
              "      <td>0.000001</td>\n",
              "    </tr>\n",
              "    <tr>\n",
              "      <th>4</th>\n",
              "      <td>0.000001</td>\n",
              "      <td>0.000003</td>\n",
              "    </tr>\n",
              "  </tbody>\n",
              "</table>\n",
              "</div>"
            ],
            "text/plain": [
              "     cached  not_cached\n",
              "0  0.000012    0.000002\n",
              "1  0.000002    0.000001\n",
              "2  0.000052    0.000001\n",
              "3  0.000002    0.000001\n",
              "4  0.000001    0.000003"
            ]
          },
          "metadata": {
            "tags": []
          },
          "execution_count": 10
        }
      ]
    }
  ]
}