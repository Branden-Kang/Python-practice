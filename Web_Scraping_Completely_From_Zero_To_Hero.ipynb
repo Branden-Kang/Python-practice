{
  "nbformat": 4,
  "nbformat_minor": 0,
  "metadata": {
    "colab": {
      "name": "Web Scraping Completely From Zero To Hero.ipynb",
      "provenance": [],
      "authorship_tag": "ABX9TyM4zTNZG21XaEB1jxDq+8Rt"
    },
    "kernelspec": {
      "name": "python3",
      "display_name": "Python 3"
    }
  },
  "cells": [
    {
      "cell_type": "markdown",
      "metadata": {
        "id": "wGduxj0uYJOY"
      },
      "source": [
        "[Reference](https://medium.com/pythoneers/master-web-scraping-completly-from-zero-to-hero-38051423256b)"
      ]
    },
    {
      "cell_type": "code",
      "metadata": {
        "colab": {
          "base_uri": "https://localhost:8080/"
        },
        "id": "uA1DqTiIYD50",
        "outputId": "2a975e61-3acd-4db2-9636-cc712428980f"
      },
      "source": [
        "import requests\n",
        "url = \"http://quotes.toscrape.com/\"\n",
        "res = requests.get(url)\n",
        "print(res)  ##<200>"
      ],
      "execution_count": 1,
      "outputs": [
        {
          "output_type": "stream",
          "text": [
            "<Response [200]>\n"
          ],
          "name": "stdout"
        }
      ]
    },
    {
      "cell_type": "code",
      "metadata": {
        "colab": {
          "base_uri": "https://localhost:8080/"
        },
        "id": "Ny1_8gNGYMp7",
        "outputId": "dbfac402-9f47-40e4-e879-b52696f4c841"
      },
      "source": [
        "from bs4 import BeautifulSoup\n",
        "soup = BeautifulSoup(res.text,'html.parser')\n",
        "print(soup)"
      ],
      "execution_count": 2,
      "outputs": [
        {
          "output_type": "stream",
          "text": [
            "<!DOCTYPE html>\n",
            "\n",
            "<html lang=\"en\">\n",
            "<head>\n",
            "<meta charset=\"utf-8\"/>\n",
            "<title>Quotes to Scrape</title>\n",
            "<link href=\"/static/bootstrap.min.css\" rel=\"stylesheet\"/>\n",
            "<link href=\"/static/main.css\" rel=\"stylesheet\"/>\n",
            "</head>\n",
            "<body>\n",
            "<div class=\"container\">\n",
            "<div class=\"row header-box\">\n",
            "<div class=\"col-md-8\">\n",
            "<h1>\n",
            "<a href=\"/\" style=\"text-decoration: none\">Quotes to Scrape</a>\n",
            "</h1>\n",
            "</div>\n",
            "<div class=\"col-md-4\">\n",
            "<p>\n",
            "<a href=\"/login\">Login</a>\n",
            "</p>\n",
            "</div>\n",
            "</div>\n",
            "<div class=\"row\">\n",
            "<div class=\"col-md-8\">\n",
            "<div class=\"quote\" itemscope=\"\" itemtype=\"http://schema.org/CreativeWork\">\n",
            "<span class=\"text\" itemprop=\"text\">“The world as we have created it is a process of our thinking. It cannot be changed without changing our thinking.”</span>\n",
            "<span>by <small class=\"author\" itemprop=\"author\">Albert Einstein</small>\n",
            "<a href=\"/author/Albert-Einstein\">(about)</a>\n",
            "</span>\n",
            "<div class=\"tags\">\n",
            "            Tags:\n",
            "            <meta class=\"keywords\" content=\"change,deep-thoughts,thinking,world\" itemprop=\"keywords\"/>\n",
            "<a class=\"tag\" href=\"/tag/change/page/1/\">change</a>\n",
            "<a class=\"tag\" href=\"/tag/deep-thoughts/page/1/\">deep-thoughts</a>\n",
            "<a class=\"tag\" href=\"/tag/thinking/page/1/\">thinking</a>\n",
            "<a class=\"tag\" href=\"/tag/world/page/1/\">world</a>\n",
            "</div>\n",
            "</div>\n",
            "<div class=\"quote\" itemscope=\"\" itemtype=\"http://schema.org/CreativeWork\">\n",
            "<span class=\"text\" itemprop=\"text\">“It is our choices, Harry, that show what we truly are, far more than our abilities.”</span>\n",
            "<span>by <small class=\"author\" itemprop=\"author\">J.K. Rowling</small>\n",
            "<a href=\"/author/J-K-Rowling\">(about)</a>\n",
            "</span>\n",
            "<div class=\"tags\">\n",
            "            Tags:\n",
            "            <meta class=\"keywords\" content=\"abilities,choices\" itemprop=\"keywords\"/>\n",
            "<a class=\"tag\" href=\"/tag/abilities/page/1/\">abilities</a>\n",
            "<a class=\"tag\" href=\"/tag/choices/page/1/\">choices</a>\n",
            "</div>\n",
            "</div>\n",
            "<div class=\"quote\" itemscope=\"\" itemtype=\"http://schema.org/CreativeWork\">\n",
            "<span class=\"text\" itemprop=\"text\">“There are only two ways to live your life. One is as though nothing is a miracle. The other is as though everything is a miracle.”</span>\n",
            "<span>by <small class=\"author\" itemprop=\"author\">Albert Einstein</small>\n",
            "<a href=\"/author/Albert-Einstein\">(about)</a>\n",
            "</span>\n",
            "<div class=\"tags\">\n",
            "            Tags:\n",
            "            <meta class=\"keywords\" content=\"inspirational,life,live,miracle,miracles\" itemprop=\"keywords\"/>\n",
            "<a class=\"tag\" href=\"/tag/inspirational/page/1/\">inspirational</a>\n",
            "<a class=\"tag\" href=\"/tag/life/page/1/\">life</a>\n",
            "<a class=\"tag\" href=\"/tag/live/page/1/\">live</a>\n",
            "<a class=\"tag\" href=\"/tag/miracle/page/1/\">miracle</a>\n",
            "<a class=\"tag\" href=\"/tag/miracles/page/1/\">miracles</a>\n",
            "</div>\n",
            "</div>\n",
            "<div class=\"quote\" itemscope=\"\" itemtype=\"http://schema.org/CreativeWork\">\n",
            "<span class=\"text\" itemprop=\"text\">“The person, be it gentleman or lady, who has not pleasure in a good novel, must be intolerably stupid.”</span>\n",
            "<span>by <small class=\"author\" itemprop=\"author\">Jane Austen</small>\n",
            "<a href=\"/author/Jane-Austen\">(about)</a>\n",
            "</span>\n",
            "<div class=\"tags\">\n",
            "            Tags:\n",
            "            <meta class=\"keywords\" content=\"aliteracy,books,classic,humor\" itemprop=\"keywords\"/>\n",
            "<a class=\"tag\" href=\"/tag/aliteracy/page/1/\">aliteracy</a>\n",
            "<a class=\"tag\" href=\"/tag/books/page/1/\">books</a>\n",
            "<a class=\"tag\" href=\"/tag/classic/page/1/\">classic</a>\n",
            "<a class=\"tag\" href=\"/tag/humor/page/1/\">humor</a>\n",
            "</div>\n",
            "</div>\n",
            "<div class=\"quote\" itemscope=\"\" itemtype=\"http://schema.org/CreativeWork\">\n",
            "<span class=\"text\" itemprop=\"text\">“Imperfection is beauty, madness is genius and it's better to be absolutely ridiculous than absolutely boring.”</span>\n",
            "<span>by <small class=\"author\" itemprop=\"author\">Marilyn Monroe</small>\n",
            "<a href=\"/author/Marilyn-Monroe\">(about)</a>\n",
            "</span>\n",
            "<div class=\"tags\">\n",
            "            Tags:\n",
            "            <meta class=\"keywords\" content=\"be-yourself,inspirational\" itemprop=\"keywords\"/>\n",
            "<a class=\"tag\" href=\"/tag/be-yourself/page/1/\">be-yourself</a>\n",
            "<a class=\"tag\" href=\"/tag/inspirational/page/1/\">inspirational</a>\n",
            "</div>\n",
            "</div>\n",
            "<div class=\"quote\" itemscope=\"\" itemtype=\"http://schema.org/CreativeWork\">\n",
            "<span class=\"text\" itemprop=\"text\">“Try not to become a man of success. Rather become a man of value.”</span>\n",
            "<span>by <small class=\"author\" itemprop=\"author\">Albert Einstein</small>\n",
            "<a href=\"/author/Albert-Einstein\">(about)</a>\n",
            "</span>\n",
            "<div class=\"tags\">\n",
            "            Tags:\n",
            "            <meta class=\"keywords\" content=\"adulthood,success,value\" itemprop=\"keywords\"/>\n",
            "<a class=\"tag\" href=\"/tag/adulthood/page/1/\">adulthood</a>\n",
            "<a class=\"tag\" href=\"/tag/success/page/1/\">success</a>\n",
            "<a class=\"tag\" href=\"/tag/value/page/1/\">value</a>\n",
            "</div>\n",
            "</div>\n",
            "<div class=\"quote\" itemscope=\"\" itemtype=\"http://schema.org/CreativeWork\">\n",
            "<span class=\"text\" itemprop=\"text\">“It is better to be hated for what you are than to be loved for what you are not.”</span>\n",
            "<span>by <small class=\"author\" itemprop=\"author\">André Gide</small>\n",
            "<a href=\"/author/Andre-Gide\">(about)</a>\n",
            "</span>\n",
            "<div class=\"tags\">\n",
            "            Tags:\n",
            "            <meta class=\"keywords\" content=\"life,love\" itemprop=\"keywords\"/>\n",
            "<a class=\"tag\" href=\"/tag/life/page/1/\">life</a>\n",
            "<a class=\"tag\" href=\"/tag/love/page/1/\">love</a>\n",
            "</div>\n",
            "</div>\n",
            "<div class=\"quote\" itemscope=\"\" itemtype=\"http://schema.org/CreativeWork\">\n",
            "<span class=\"text\" itemprop=\"text\">“I have not failed. I've just found 10,000 ways that won't work.”</span>\n",
            "<span>by <small class=\"author\" itemprop=\"author\">Thomas A. Edison</small>\n",
            "<a href=\"/author/Thomas-A-Edison\">(about)</a>\n",
            "</span>\n",
            "<div class=\"tags\">\n",
            "            Tags:\n",
            "            <meta class=\"keywords\" content=\"edison,failure,inspirational,paraphrased\" itemprop=\"keywords\"/>\n",
            "<a class=\"tag\" href=\"/tag/edison/page/1/\">edison</a>\n",
            "<a class=\"tag\" href=\"/tag/failure/page/1/\">failure</a>\n",
            "<a class=\"tag\" href=\"/tag/inspirational/page/1/\">inspirational</a>\n",
            "<a class=\"tag\" href=\"/tag/paraphrased/page/1/\">paraphrased</a>\n",
            "</div>\n",
            "</div>\n",
            "<div class=\"quote\" itemscope=\"\" itemtype=\"http://schema.org/CreativeWork\">\n",
            "<span class=\"text\" itemprop=\"text\">“A woman is like a tea bag; you never know how strong it is until it's in hot water.”</span>\n",
            "<span>by <small class=\"author\" itemprop=\"author\">Eleanor Roosevelt</small>\n",
            "<a href=\"/author/Eleanor-Roosevelt\">(about)</a>\n",
            "</span>\n",
            "<div class=\"tags\">\n",
            "            Tags:\n",
            "            <meta class=\"keywords\" content=\"misattributed-eleanor-roosevelt\" itemprop=\"keywords\"/>\n",
            "<a class=\"tag\" href=\"/tag/misattributed-eleanor-roosevelt/page/1/\">misattributed-eleanor-roosevelt</a>\n",
            "</div>\n",
            "</div>\n",
            "<div class=\"quote\" itemscope=\"\" itemtype=\"http://schema.org/CreativeWork\">\n",
            "<span class=\"text\" itemprop=\"text\">“A day without sunshine is like, you know, night.”</span>\n",
            "<span>by <small class=\"author\" itemprop=\"author\">Steve Martin</small>\n",
            "<a href=\"/author/Steve-Martin\">(about)</a>\n",
            "</span>\n",
            "<div class=\"tags\">\n",
            "            Tags:\n",
            "            <meta class=\"keywords\" content=\"humor,obvious,simile\" itemprop=\"keywords\"/>\n",
            "<a class=\"tag\" href=\"/tag/humor/page/1/\">humor</a>\n",
            "<a class=\"tag\" href=\"/tag/obvious/page/1/\">obvious</a>\n",
            "<a class=\"tag\" href=\"/tag/simile/page/1/\">simile</a>\n",
            "</div>\n",
            "</div>\n",
            "<nav>\n",
            "<ul class=\"pager\">\n",
            "<li class=\"next\">\n",
            "<a href=\"/page/2/\">Next <span aria-hidden=\"true\">→</span></a>\n",
            "</li>\n",
            "</ul>\n",
            "</nav>\n",
            "</div>\n",
            "<div class=\"col-md-4 tags-box\">\n",
            "<h2>Top Ten tags</h2>\n",
            "<span class=\"tag-item\">\n",
            "<a class=\"tag\" href=\"/tag/love/\" style=\"font-size: 28px\">love</a>\n",
            "</span>\n",
            "<span class=\"tag-item\">\n",
            "<a class=\"tag\" href=\"/tag/inspirational/\" style=\"font-size: 26px\">inspirational</a>\n",
            "</span>\n",
            "<span class=\"tag-item\">\n",
            "<a class=\"tag\" href=\"/tag/life/\" style=\"font-size: 26px\">life</a>\n",
            "</span>\n",
            "<span class=\"tag-item\">\n",
            "<a class=\"tag\" href=\"/tag/humor/\" style=\"font-size: 24px\">humor</a>\n",
            "</span>\n",
            "<span class=\"tag-item\">\n",
            "<a class=\"tag\" href=\"/tag/books/\" style=\"font-size: 22px\">books</a>\n",
            "</span>\n",
            "<span class=\"tag-item\">\n",
            "<a class=\"tag\" href=\"/tag/reading/\" style=\"font-size: 14px\">reading</a>\n",
            "</span>\n",
            "<span class=\"tag-item\">\n",
            "<a class=\"tag\" href=\"/tag/friendship/\" style=\"font-size: 10px\">friendship</a>\n",
            "</span>\n",
            "<span class=\"tag-item\">\n",
            "<a class=\"tag\" href=\"/tag/friends/\" style=\"font-size: 8px\">friends</a>\n",
            "</span>\n",
            "<span class=\"tag-item\">\n",
            "<a class=\"tag\" href=\"/tag/truth/\" style=\"font-size: 8px\">truth</a>\n",
            "</span>\n",
            "<span class=\"tag-item\">\n",
            "<a class=\"tag\" href=\"/tag/simile/\" style=\"font-size: 6px\">simile</a>\n",
            "</span>\n",
            "</div>\n",
            "</div>\n",
            "</div>\n",
            "<footer class=\"footer\">\n",
            "<div class=\"container\">\n",
            "<p class=\"text-muted\">\n",
            "                Quotes by: <a href=\"https://www.goodreads.com/quotes\">GoodReads.com</a>\n",
            "</p>\n",
            "<p class=\"copyright\">\n",
            "                Made with <span class=\"sh-red\">❤</span> by <a href=\"https://scrapinghub.com\">Scrapinghub</a>\n",
            "</p>\n",
            "</div>\n",
            "</footer>\n",
            "</body>\n",
            "</html>\n"
          ],
          "name": "stdout"
        }
      ]
    },
    {
      "cell_type": "code",
      "metadata": {
        "colab": {
          "base_uri": "https://localhost:8080/"
        },
        "id": "JX-R3RhIYir7",
        "outputId": "e05486b2-60f3-4527-d9ff-1f8271b56132"
      },
      "source": [
        "from bs4 import BeautifulSoup\n",
        "import requests\n",
        "url = \"http://quotes.toscrape.com/\"\n",
        "res =requests.get(url)\n",
        "soup= BeautifulSoup(res.text,'html.parser')\n",
        "print(soup.find('h1').text)  \n",
        "##First Heading(h1) Text \n",
        "print(soup.find('a',{'class':'tag'}).text) \n",
        "##returns the text from the anchor tag with class `tag`   print(soup.find('div', {'class': 'tags'}))\n",
        "##returns the first div tag with the class `tags`"
      ],
      "execution_count": 4,
      "outputs": [
        {
          "output_type": "stream",
          "text": [
            "\n",
            "Quotes to Scrape\n",
            "\n",
            "change\n"
          ],
          "name": "stdout"
        }
      ]
    },
    {
      "cell_type": "code",
      "metadata": {
        "colab": {
          "base_uri": "https://localhost:8080/"
        },
        "id": "v-dAMLxLYvUy",
        "outputId": "8402acf9-89b2-48e8-fbfe-f6887b06d0f9"
      },
      "source": [
        "from bs4 import BeautifulSoup\n",
        "import requests\n",
        "url = \"http://quotes.toscrape.com/\"\n",
        "res = requests.get(url)\n",
        "soup=BeautifulSoup(res.text,'html.parser')\n",
        "print(soup.find_all('h1')) ## Return all the h1 tags in a list\n",
        "print(soup.find_all('div', {'class': 'tags'})) ## Return all the div with the class tags in a list\n",
        "# If we want to fetch all the tags from the web page we need to run a for loop in side the list of tags and then for each tag we will apply some cleaning and fetch the text.\n",
        "tags = soup.find_all(class_=\"tags\")\n",
        "lst = []\n",
        "for tag in tags:\n",
        "   lst.append(tag.text.replace(\"\\n\",\" \").strip())\n",
        "   lst2 = [tag.replace(\"  \",\"\") for tag in lst]\n",
        "print(lst2) ## Print out all the tags in the web page"
      ],
      "execution_count": 7,
      "outputs": [
        {
          "output_type": "stream",
          "text": [
            "[<h1>\n",
            "<a href=\"/\" style=\"text-decoration: none\">Quotes to Scrape</a>\n",
            "</h1>]\n",
            "[<div class=\"tags\">\n",
            "            Tags:\n",
            "            <meta class=\"keywords\" content=\"change,deep-thoughts,thinking,world\" itemprop=\"keywords\"/>\n",
            "<a class=\"tag\" href=\"/tag/change/page/1/\">change</a>\n",
            "<a class=\"tag\" href=\"/tag/deep-thoughts/page/1/\">deep-thoughts</a>\n",
            "<a class=\"tag\" href=\"/tag/thinking/page/1/\">thinking</a>\n",
            "<a class=\"tag\" href=\"/tag/world/page/1/\">world</a>\n",
            "</div>, <div class=\"tags\">\n",
            "            Tags:\n",
            "            <meta class=\"keywords\" content=\"abilities,choices\" itemprop=\"keywords\"/>\n",
            "<a class=\"tag\" href=\"/tag/abilities/page/1/\">abilities</a>\n",
            "<a class=\"tag\" href=\"/tag/choices/page/1/\">choices</a>\n",
            "</div>, <div class=\"tags\">\n",
            "            Tags:\n",
            "            <meta class=\"keywords\" content=\"inspirational,life,live,miracle,miracles\" itemprop=\"keywords\"/>\n",
            "<a class=\"tag\" href=\"/tag/inspirational/page/1/\">inspirational</a>\n",
            "<a class=\"tag\" href=\"/tag/life/page/1/\">life</a>\n",
            "<a class=\"tag\" href=\"/tag/live/page/1/\">live</a>\n",
            "<a class=\"tag\" href=\"/tag/miracle/page/1/\">miracle</a>\n",
            "<a class=\"tag\" href=\"/tag/miracles/page/1/\">miracles</a>\n",
            "</div>, <div class=\"tags\">\n",
            "            Tags:\n",
            "            <meta class=\"keywords\" content=\"aliteracy,books,classic,humor\" itemprop=\"keywords\"/>\n",
            "<a class=\"tag\" href=\"/tag/aliteracy/page/1/\">aliteracy</a>\n",
            "<a class=\"tag\" href=\"/tag/books/page/1/\">books</a>\n",
            "<a class=\"tag\" href=\"/tag/classic/page/1/\">classic</a>\n",
            "<a class=\"tag\" href=\"/tag/humor/page/1/\">humor</a>\n",
            "</div>, <div class=\"tags\">\n",
            "            Tags:\n",
            "            <meta class=\"keywords\" content=\"be-yourself,inspirational\" itemprop=\"keywords\"/>\n",
            "<a class=\"tag\" href=\"/tag/be-yourself/page/1/\">be-yourself</a>\n",
            "<a class=\"tag\" href=\"/tag/inspirational/page/1/\">inspirational</a>\n",
            "</div>, <div class=\"tags\">\n",
            "            Tags:\n",
            "            <meta class=\"keywords\" content=\"adulthood,success,value\" itemprop=\"keywords\"/>\n",
            "<a class=\"tag\" href=\"/tag/adulthood/page/1/\">adulthood</a>\n",
            "<a class=\"tag\" href=\"/tag/success/page/1/\">success</a>\n",
            "<a class=\"tag\" href=\"/tag/value/page/1/\">value</a>\n",
            "</div>, <div class=\"tags\">\n",
            "            Tags:\n",
            "            <meta class=\"keywords\" content=\"life,love\" itemprop=\"keywords\"/>\n",
            "<a class=\"tag\" href=\"/tag/life/page/1/\">life</a>\n",
            "<a class=\"tag\" href=\"/tag/love/page/1/\">love</a>\n",
            "</div>, <div class=\"tags\">\n",
            "            Tags:\n",
            "            <meta class=\"keywords\" content=\"edison,failure,inspirational,paraphrased\" itemprop=\"keywords\"/>\n",
            "<a class=\"tag\" href=\"/tag/edison/page/1/\">edison</a>\n",
            "<a class=\"tag\" href=\"/tag/failure/page/1/\">failure</a>\n",
            "<a class=\"tag\" href=\"/tag/inspirational/page/1/\">inspirational</a>\n",
            "<a class=\"tag\" href=\"/tag/paraphrased/page/1/\">paraphrased</a>\n",
            "</div>, <div class=\"tags\">\n",
            "            Tags:\n",
            "            <meta class=\"keywords\" content=\"misattributed-eleanor-roosevelt\" itemprop=\"keywords\"/>\n",
            "<a class=\"tag\" href=\"/tag/misattributed-eleanor-roosevelt/page/1/\">misattributed-eleanor-roosevelt</a>\n",
            "</div>, <div class=\"tags\">\n",
            "            Tags:\n",
            "            <meta class=\"keywords\" content=\"humor,obvious,simile\" itemprop=\"keywords\"/>\n",
            "<a class=\"tag\" href=\"/tag/humor/page/1/\">humor</a>\n",
            "<a class=\"tag\" href=\"/tag/obvious/page/1/\">obvious</a>\n",
            "<a class=\"tag\" href=\"/tag/simile/page/1/\">simile</a>\n",
            "</div>]\n",
            "['Tags:change deep-thoughts thinking world', 'Tags:abilities choices', 'Tags:inspirational life live miracle miracles', 'Tags:aliteracy books classic humor', 'Tags:be-yourself inspirational', 'Tags:adulthood success value', 'Tags:life love', 'Tags:edison failure inspirational paraphrased', 'Tags:misattributed-eleanor-roosevelt', 'Tags:humor obvious simile']\n"
          ],
          "name": "stdout"
        }
      ]
    },
    {
      "cell_type": "code",
      "metadata": {
        "colab": {
          "base_uri": "https://localhost:8080/"
        },
        "id": "QR8KkXGRYyz6",
        "outputId": "1d153746-9caa-4025-b975-4f7a9e71dd68"
      },
      "source": [
        "from bs4 import BeautifulSoup\n",
        "import requests\n",
        "url = \"https://webscraper.io/test-sites/e-commerce/allinone\"\n",
        "res = requests.get(url)\n",
        "soup = BeautifulSoup(res.text,'html.parser')\n",
        "print(soup.select('p')) ##return all p tags in list format\n",
        "print(soup.select('.title')) \n",
        "##return the text from all the divs with the class titleNow if we want to scrape all the product details using select the code would look like this\n",
        "name = soup.select(\".title\")\n",
        "for i in range(0,len(name)):\n",
        "    price = soup.select(\".price\")[i].text\n",
        "    name = soup.select(\".title\")[i]\n",
        "    description = soup.select(\".description\")[i]\n",
        "    \n",
        "print(name)\n",
        "print(description)\n",
        "print(price,end=\"\\n\\n\")"
      ],
      "execution_count": 11,
      "outputs": [
        {
          "output_type": "stream",
          "text": [
            "[<p>Web Scraper</p>, <p>Cloud Scraper</p>, <p>Pricing</p>, <p>Learn</p>, <p>\n",
            "\t\t\tWelcome to WebScraper e-commerce site. You can use this site for training\n",
            "\t\t\tto learn how to use the Web Scraper. Items listed here are not for sale.\n",
            "\t\t</p>, <p class=\"description\">15.6\", Core i5-4200M, 4GB, 500GB, Win7 Pro 64bit</p>, <p class=\"pull-right\">2 reviews</p>, <p data-rating=\"1\">\n",
            "<span class=\"glyphicon glyphicon-star\"></span>\n",
            "</p>, <p class=\"description\">7\", 8GB, Wi-Fi, Android 4.2, White</p>, <p class=\"pull-right\">2 reviews</p>, <p data-rating=\"2\">\n",
            "<span class=\"glyphicon glyphicon-star\"></span>\n",
            "<span class=\"glyphicon glyphicon-star\"></span>\n",
            "</p>, <p class=\"description\">MSI GL62M 7REX2, 15.6\" FHD, Core i7-7700HQ, 8GB, 1TB + 128GB SSD, GeForce GTX 1050 Ti 2GB, Windows 10 Home</p>, <p class=\"pull-right\">12 reviews</p>, <p data-rating=\"2\">\n",
            "<span class=\"glyphicon glyphicon-star\"></span>\n",
            "<span class=\"glyphicon glyphicon-star\"></span>\n",
            "</p>, <p>Products</p>, <p>Company</p>, <p>Resources</p>, <p>CONTACT US</p>, <p class=\"copyright\">Copyright © 2021\n",
            "\t\t\t\t\t<a href=\"#\">Web Scraper</a> | All rights\n",
            "\t\t\t\t\treserved | Made by zoom59</p>]\n",
            "[<a class=\"title\" href=\"/test-sites/e-commerce/allinone/product/518\" title=\"ThinkPad T540p\">ThinkPad T540p</a>, <a class=\"title\" href=\"/test-sites/e-commerce/allinone/product/503\" title=\"Galaxy Tab 3\">Galaxy Tab 3</a>, <a class=\"title\" href=\"/test-sites/e-commerce/allinone/product/607\" title=\"MSI GL62M 7REX2\">MSI GL62M 7REX2</a>]\n",
            "<a class=\"title\" href=\"/test-sites/e-commerce/allinone/product/607\" title=\"MSI GL62M 7REX2\">MSI GL62M 7REX2</a>\n",
            "<p class=\"description\">MSI GL62M 7REX2, 15.6\" FHD, Core i7-7700HQ, 8GB, 1TB + 128GB SSD, GeForce GTX 1050 Ti 2GB, Windows 10 Home</p>\n",
            "$1199.00\n",
            "\n"
          ],
          "name": "stdout"
        }
      ]
    },
    {
      "cell_type": "code",
      "metadata": {
        "id": "jvpVGu-fZCIh"
      },
      "source": [
        "import requests\n",
        "from bs4 import BeautifulSoup\n",
        "url = \"https://webscraper.io/test-sites/e-commerce/allinone\"\n",
        "res = requests.get(url)\n",
        "soup = BeautifulSoup(res.text,'html.parser')"
      ],
      "execution_count": 13,
      "outputs": []
    },
    {
      "cell_type": "code",
      "metadata": {
        "colab": {
          "base_uri": "https://localhost:8080/"
        },
        "id": "K861LIG5ZW-i",
        "outputId": "5cf3c0c3-ff5c-4a05-d2e8-0991e7fb375a"
      },
      "source": [
        "for a_tag in soup.findAll(\"a\"):\n",
        "   href = a_tag.attrs.get(\"href\")\n",
        "   if href != \"\":\n",
        "      print(href)\n",
        "      continue"
      ],
      "execution_count": 14,
      "outputs": [
        {
          "output_type": "stream",
          "text": [
            "None\n",
            "/\n",
            "#page-top\n",
            "/\n",
            "/cloud-scraper\n",
            "/pricing\n",
            "#section3\n",
            "/documentation\n",
            "/tutorials\n",
            "/how-to-videos\n",
            "/test-sites\n",
            "https://forum.webscraper.io/\n",
            "https://chrome.google.com/webstore/detail/web-scraper/jnhgnonknehpejjnehehllkliplmbmhn?hl=en\n",
            "https://cloud.webscraper.io/\n",
            "/test-sites/e-commerce/allinone\n",
            "/test-sites/e-commerce/allinone/computers\n",
            "/test-sites/e-commerce/allinone/phones\n",
            "/test-sites/e-commerce/allinone/product/543\n",
            "/test-sites/e-commerce/allinone/product/630\n",
            "/test-sites/e-commerce/allinone/product/495\n",
            "/\n",
            "/pricing\n",
            "/contact\n",
            "/privacy-policy\n",
            "/extension-privacy-policy\n",
            "http://webscraperio.us-east-1.elasticbeanstalk.com/downloads/Web_Scraper_Media_Kit.zip\n",
            "/jobs\n",
            "/blog\n",
            "/documentation\n",
            "/tutorials\n",
            "/screenshots\n",
            "/test-sites\n",
            "https://forum.webscraper.io/\n",
            "mailto:info@webscraper.io\n",
            "https://www.facebook.com/webscraperio/\n",
            "https://twitter.com/webscraperio\n",
            "#\n"
          ],
          "name": "stdout"
        }
      ]
    },
    {
      "cell_type": "code",
      "metadata": {
        "colab": {
          "base_uri": "https://localhost:8080/"
        },
        "id": "1Caq7g7LZaP8",
        "outputId": "e809d98e-1fa4-4c71-afe3-6d668996d989"
      },
      "source": [
        "div = soup.find('div',{'class':'col-sm-4 col-lg-4 col-md-4'})\n",
        "a = div.find('a')\n",
        "link = a.attrs.get(\"href\")\n",
        "print(link)"
      ],
      "execution_count": 15,
      "outputs": [
        {
          "output_type": "stream",
          "text": [
            "/test-sites/e-commerce/allinone/product/543\n"
          ],
          "name": "stdout"
        }
      ]
    },
    {
      "cell_type": "code",
      "metadata": {
        "id": "g_bqWo-2Zckr"
      },
      "source": [
        "table = soup.select('.table')[0]\n",
        "table_header = table.find('thead').find_all('th')\n",
        "with open('table.csv','a',newline='') as f:\n",
        "    writer = csv.writer(f)\n",
        "    header = []\n",
        "    for th in table_header:\n",
        "        header.append(th.text)\n",
        "        print(header)\n",
        "    writer.writerow(header)\n",
        "    for row in table.find_all('tr'):\n",
        "        body = []\n",
        "        for data in row.find_all('td'):\n",
        "              body.append(data.text)\n",
        "              print(body)\n",
        "        writer.writerow(body)"
      ],
      "execution_count": 17,
      "outputs": []
    },
    {
      "cell_type": "code",
      "metadata": {
        "id": "XcZ7q_7bZd0F"
      },
      "source": [
        "table = soup.select('.table')[0]\n",
        "table_header = table.find('thead').find_all('th')\n",
        "with open('table.csv','a',newline='') as f:\n",
        "    writer = csv.writer(f)\n",
        "    for row in table.find_all('tr'):\n",
        "        body = []\n",
        "        for data in row.find_all('td'):\n",
        "              body.append(data.text)\n",
        "              print(body)\n",
        "        writer.writerow(body)"
      ],
      "execution_count": 18,
      "outputs": []
    },
    {
      "cell_type": "code",
      "metadata": {
        "id": "D8GYjtfWZi_F"
      },
      "source": [
        "table = soup.select('.table')[3]\n",
        "with open('table.csv','a+',newline='') as f:\n",
        "    writer = csv.writer(f)\n",
        "    for row in table.find_all('tr'):\n",
        "       csvRow = []\n",
        "       for data in row.find_all('th'):\n",
        "          csvRow.append(data.text)\n",
        "          for data in row.find_all('td'):\n",
        "             csvRow.append(data.text)\n",
        "          print(csvRow)\n",
        "          writer.writerow(csvRow)"
      ],
      "execution_count": 19,
      "outputs": []
    },
    {
      "cell_type": "code",
      "metadata": {
        "colab": {
          "base_uri": "https://localhost:8080/"
        },
        "id": "JLaDoLZGZkig",
        "outputId": "c1c9f86c-7019-43f9-fe93-e4e13988a09c"
      },
      "source": [
        "from bs4 import BeautifulSoup\n",
        "import requests\n",
        "import os\n",
        "res = requests.get(f\"https://www.shutterstock.com/search/fruit\")\n",
        "soup = BeautifulSoup(res.text,\"html.parser\")\n",
        "links = []\n",
        "# print(soup)\n",
        "images = []\n",
        "tags = soup.findAll(\"img\")\n",
        "for link in tags:\n",
        "  src = link.attrs.get('src')\n",
        "  if str(src)!=\"None\":\n",
        "     link = link.attrs.get('src')\n",
        "     links.append(link)\n",
        "print(links)\n",
        "image_count=1\n",
        "for image in links:\n",
        "  with open('image_'+str(image_count)+'.jpg', 'wb') as f:\n",
        "    res = requests.get(image)\n",
        "    f.write(res.content)\n",
        "    image_count+=1\n",
        "    print(\"Saving image_\"+str(image_count))"
      ],
      "execution_count": 21,
      "outputs": [
        {
          "output_type": "stream",
          "text": [
            "[]\n"
          ],
          "name": "stdout"
        }
      ]
    },
    {
      "cell_type": "code",
      "metadata": {
        "colab": {
          "base_uri": "https://localhost:8080/"
        },
        "id": "r5N5vgcLZsAw",
        "outputId": "4b5553fe-c0dc-46d7-cfa3-f0ecf2d9a00a"
      },
      "source": [
        "##Importing Libraries\n",
        "import requests\n",
        "from bs4 import BeautifulSoup\n",
        "##Fetching Whole Source Code\n",
        "res = requests.get(\"http://quotes.toscrape.com/\")\n",
        "soup = BeautifulSoup(res.text,\"html.parser\")\n",
        "##Finding total number of quotes\n",
        "length = len(soup.select(\".text\"))\n",
        "##Running a Loop and Fetching Quote and Author Name\n",
        "for i in range(0,length):\n",
        "    quote = soup.select(\".text\")[i].get_text().strip()\n",
        "    author = soup.select('.author')[i].get_text().strip()\n",
        "    print(quote)\n",
        "    print(author)"
      ],
      "execution_count": 22,
      "outputs": [
        {
          "output_type": "stream",
          "text": [
            "“The world as we have created it is a process of our thinking. It cannot be changed without changing our thinking.”\n",
            "Albert Einstein\n",
            "“It is our choices, Harry, that show what we truly are, far more than our abilities.”\n",
            "J.K. Rowling\n",
            "“There are only two ways to live your life. One is as though nothing is a miracle. The other is as though everything is a miracle.”\n",
            "Albert Einstein\n",
            "“The person, be it gentleman or lady, who has not pleasure in a good novel, must be intolerably stupid.”\n",
            "Jane Austen\n",
            "“Imperfection is beauty, madness is genius and it's better to be absolutely ridiculous than absolutely boring.”\n",
            "Marilyn Monroe\n",
            "“Try not to become a man of success. Rather become a man of value.”\n",
            "Albert Einstein\n",
            "“It is better to be hated for what you are than to be loved for what you are not.”\n",
            "André Gide\n",
            "“I have not failed. I've just found 10,000 ways that won't work.”\n",
            "Thomas A. Edison\n",
            "“A woman is like a tea bag; you never know how strong it is until it's in hot water.”\n",
            "Eleanor Roosevelt\n",
            "“A day without sunshine is like, you know, night.”\n",
            "Steve Martin\n"
          ],
          "name": "stdout"
        }
      ]
    },
    {
      "cell_type": "code",
      "metadata": {
        "colab": {
          "base_uri": "https://localhost:8080/"
        },
        "id": "_8fDfeYUZsQw",
        "outputId": "b213115f-7093-4d39-d819-f0bd54ee5620"
      },
      "source": [
        "### Number of pages to Scrape\n",
        "page=10\n",
        "### Custom URL\n",
        "URL = f'http://quotes.toscrape.com/page/2/'\n",
        "### Here by In the place of 2 if we put 3 then we will redirected to page 3 same for 4 and so on. here we just need to change the 2 with a i and then we change the value of i using a for loop\n",
        "### Running a loop in the range of 0 to number of pages and generating URLS\n",
        "for i in range(0,page):\n",
        "    URL=f\"http://quotes.toscrape.com/page/{i}/\"\n",
        "    print(URL)"
      ],
      "execution_count": 27,
      "outputs": [
        {
          "output_type": "stream",
          "text": [
            "http://quotes.toscrape.com/page/0/\n",
            "http://quotes.toscrape.com/page/1/\n",
            "http://quotes.toscrape.com/page/2/\n",
            "http://quotes.toscrape.com/page/3/\n",
            "http://quotes.toscrape.com/page/4/\n",
            "http://quotes.toscrape.com/page/5/\n",
            "http://quotes.toscrape.com/page/6/\n",
            "http://quotes.toscrape.com/page/7/\n",
            "http://quotes.toscrape.com/page/8/\n",
            "http://quotes.toscrape.com/page/9/\n"
          ],
          "name": "stdout"
        }
      ]
    },
    {
      "cell_type": "code",
      "metadata": {
        "colab": {
          "base_uri": "https://localhost:8080/"
        },
        "id": "s_bUioMnZux-",
        "outputId": "64473b39-3f16-4d67-a477-74e3dfc937a4"
      },
      "source": [
        "page = 10 ## Number of Pages you want to scrape\n",
        "for i in range(0,page):\n",
        "  res = requests.get(f\"http://quotes.toscrape.com/page/{i}/\")\n",
        "  soup = BeautifulSoup(res.text,\"html.parser\")\n",
        "  ### Finding the Page Length\n",
        "  length = len(soup.select(\".text\"))\n",
        "  ### Scraping All the Quotes with author name\n",
        "  for j in range(0,length):\n",
        "      quote = soup.select(\".text\")[j].get_text().strip()\n",
        "      author = soup.select('.author')[j].get_text().strip()\n",
        "      print(quote)\n",
        "      print(author)"
      ],
      "execution_count": 28,
      "outputs": [
        {
          "output_type": "stream",
          "text": [
            "“The world as we have created it is a process of our thinking. It cannot be changed without changing our thinking.”\n",
            "Albert Einstein\n",
            "“It is our choices, Harry, that show what we truly are, far more than our abilities.”\n",
            "J.K. Rowling\n",
            "“There are only two ways to live your life. One is as though nothing is a miracle. The other is as though everything is a miracle.”\n",
            "Albert Einstein\n",
            "“The person, be it gentleman or lady, who has not pleasure in a good novel, must be intolerably stupid.”\n",
            "Jane Austen\n",
            "“Imperfection is beauty, madness is genius and it's better to be absolutely ridiculous than absolutely boring.”\n",
            "Marilyn Monroe\n",
            "“Try not to become a man of success. Rather become a man of value.”\n",
            "Albert Einstein\n",
            "“It is better to be hated for what you are than to be loved for what you are not.”\n",
            "André Gide\n",
            "“I have not failed. I've just found 10,000 ways that won't work.”\n",
            "Thomas A. Edison\n",
            "“A woman is like a tea bag; you never know how strong it is until it's in hot water.”\n",
            "Eleanor Roosevelt\n",
            "“A day without sunshine is like, you know, night.”\n",
            "Steve Martin\n",
            "“This life is what you make it. No matter what, you're going to mess up sometimes, it's a universal truth. But the good part is you get to decide how you're going to mess it up. Girls will be your friends - they'll act like it anyway. But just remember, some come, some go. The ones that stay with you through everything - they're your true best friends. Don't let go of them. Also remember, sisters make the best friends in the world. As for lovers, well, they'll come and go too. And baby, I hate to say it, most of them - actually pretty much all of them are going to break your heart, but you can't give up because if you give up, you'll never find your soulmate. You'll never find that half who makes you whole and that goes for everything. Just because you fail once, doesn't mean you're gonna fail at everything. Keep trying, hold on, and always, always, always believe in yourself, because if you don't, then who will, sweetie? So keep your head high, keep your chin up, and most importantly, keep smiling, because life's a beautiful thing and there's so much to smile about.”\n",
            "Marilyn Monroe\n",
            "“It takes a great deal of bravery to stand up to our enemies, but just as much to stand up to our friends.”\n",
            "J.K. Rowling\n",
            "“If you can't explain it to a six year old, you don't understand it yourself.”\n",
            "Albert Einstein\n",
            "“You may not be her first, her last, or her only. She loved before she may love again. But if she loves you now, what else matters? She's not perfect—you aren't either, and the two of you may never be perfect together but if she can make you laugh, cause you to think twice, and admit to being human and making mistakes, hold onto her and give her the most you can. She may not be thinking about you every second of the day, but she will give you a part of her that she knows you can break—her heart. So don't hurt her, don't change her, don't analyze and don't expect more than she can give. Smile when she makes you happy, let her know when she makes you mad, and miss her when she's not there.”\n",
            "Bob Marley\n",
            "“I like nonsense, it wakes up the brain cells. Fantasy is a necessary ingredient in living.”\n",
            "Dr. Seuss\n",
            "“I may not have gone where I intended to go, but I think I have ended up where I needed to be.”\n",
            "Douglas Adams\n",
            "“The opposite of love is not hate, it's indifference. The opposite of art is not ugliness, it's indifference. The opposite of faith is not heresy, it's indifference. And the opposite of life is not death, it's indifference.”\n",
            "Elie Wiesel\n",
            "“It is not a lack of love, but a lack of friendship that makes unhappy marriages.”\n",
            "Friedrich Nietzsche\n",
            "“Good friends, good books, and a sleepy conscience: this is the ideal life.”\n",
            "Mark Twain\n",
            "“Life is what happens to us while we are making other plans.”\n",
            "Allen Saunders\n",
            "“I love you without knowing how, or when, or from where. I love you simply, without problems or pride: I love you in this way because I do not know any other way of loving but this, in which there is no I or you, so intimate that your hand upon my chest is my hand, so intimate that when I fall asleep your eyes close.”\n",
            "Pablo Neruda\n",
            "“For every minute you are angry you lose sixty seconds of happiness.”\n",
            "Ralph Waldo Emerson\n",
            "“If you judge people, you have no time to love them.”\n",
            "Mother Teresa\n",
            "“Anyone who thinks sitting in church can make you a Christian must also think that sitting in a garage can make you a car.”\n",
            "Garrison Keillor\n",
            "“Beauty is in the eye of the beholder and it may be necessary from time to time to give a stupid or misinformed beholder a black eye.”\n",
            "Jim Henson\n",
            "“Today you are You, that is truer than true. There is no one alive who is Youer than You.”\n",
            "Dr. Seuss\n",
            "“If you want your children to be intelligent, read them fairy tales. If you want them to be more intelligent, read them more fairy tales.”\n",
            "Albert Einstein\n",
            "“It is impossible to live without failing at something, unless you live so cautiously that you might as well not have lived at all - in which case, you fail by default.”\n",
            "J.K. Rowling\n",
            "“Logic will get you from A to Z; imagination will get you everywhere.”\n",
            "Albert Einstein\n",
            "“One good thing about music, when it hits you, you feel no pain.”\n",
            "Bob Marley\n",
            "“The more that you read, the more things you will know. The more that you learn, the more places you'll go.”\n",
            "Dr. Seuss\n",
            "“Of course it is happening inside your head, Harry, but why on earth should that mean that it is not real?”\n",
            "J.K. Rowling\n",
            "“The truth is, everyone is going to hurt you. You just got to find the ones worth suffering for.”\n",
            "Bob Marley\n",
            "“Not all of us can do great things. But we can do small things with great love.”\n",
            "Mother Teresa\n",
            "“To the well-organized mind, death is but the next great adventure.”\n",
            "J.K. Rowling\n",
            "“All you need is love. But a little chocolate now and then doesn't hurt.”\n",
            "Charles M. Schulz\n",
            "“We read to know we're not alone.”\n",
            "William Nicholson\n",
            "“Any fool can know. The point is to understand.”\n",
            "Albert Einstein\n",
            "“I have always imagined that Paradise will be a kind of library.”\n",
            "Jorge Luis Borges\n",
            "“It is never too late to be what you might have been.”\n",
            "George Eliot\n",
            "“A reader lives a thousand lives before he dies, said Jojen. The man who never reads lives only one.”\n",
            "George R.R. Martin\n",
            "“You can never get a cup of tea large enough or a book long enough to suit me.”\n",
            "C.S. Lewis\n",
            "“You believe lies so you eventually learn to trust no one but yourself.”\n",
            "Marilyn Monroe\n",
            "“If you can make a woman laugh, you can make her do anything.”\n",
            "Marilyn Monroe\n",
            "“Life is like riding a bicycle. To keep your balance, you must keep moving.”\n",
            "Albert Einstein\n",
            "“The real lover is the man who can thrill you by kissing your forehead or smiling into your eyes or just staring into space.”\n",
            "Marilyn Monroe\n",
            "“A wise girl kisses but doesn't love, listens but doesn't believe, and leaves before she is left.”\n",
            "Marilyn Monroe\n",
            "“Only in the darkness can you see the stars.”\n",
            "Martin Luther King Jr.\n",
            "“It matters not what someone is born, but what they grow to be.”\n",
            "J.K. Rowling\n",
            "“Love does not begin and end the way we seem to think it does. Love is a battle, love is a war; love is a growing up.”\n",
            "James Baldwin\n",
            "“There is nothing I would not do for those who are really my friends. I have no notion of loving people by halves, it is not my nature.”\n",
            "Jane Austen\n",
            "“Do one thing every day that scares you.”\n",
            "Eleanor Roosevelt\n",
            "“I am good, but not an angel. I do sin, but I am not the devil. I am just a small girl in a big world trying to find someone to love.”\n",
            "Marilyn Monroe\n",
            "“If I were not a physicist, I would probably be a musician. I often think in music. I live my daydreams in music. I see my life in terms of music.”\n",
            "Albert Einstein\n",
            "“If you only read the books that everyone else is reading, you can only think what everyone else is thinking.”\n",
            "Haruki Murakami\n",
            "“The difference between genius and stupidity is: genius has its limits.”\n",
            "Alexandre Dumas fils\n",
            "“He's like a drug for you, Bella.”\n",
            "Stephenie Meyer\n",
            "“There is no friend as loyal as a book.”\n",
            "Ernest Hemingway\n",
            "“When one door of happiness closes, another opens; but often we look so long at the closed door that we do not see the one which has been opened for us.”\n",
            "Helen Keller\n",
            "“Life isn't about finding yourself. Life is about creating yourself.”\n",
            "George Bernard Shaw\n",
            "“That's the problem with drinking, I thought, as I poured myself a drink. If something bad happens you drink in an attempt to forget; if something good happens you drink in order to celebrate; and if nothing happens you drink to make something happen.”\n",
            "Charles Bukowski\n",
            "“You don’t forget the face of the person who was your last hope.”\n",
            "Suzanne Collins\n",
            "“Remember, we're madly in love, so it's all right to kiss me anytime you feel like it.”\n",
            "Suzanne Collins\n",
            "“To love at all is to be vulnerable. Love anything and your heart will be wrung and possibly broken. If you want to make sure of keeping it intact you must give it to no one, not even an animal. Wrap it carefully round with hobbies and little luxuries; avoid all entanglements. Lock it up safe in the casket or coffin of your selfishness. But in that casket, safe, dark, motionless, airless, it will change. It will not be broken; it will become unbreakable, impenetrable, irredeemable. To love is to be vulnerable.”\n",
            "C.S. Lewis\n",
            "“Not all those who wander are lost.”\n",
            "J.R.R. Tolkien\n",
            "“Do not pity the dead, Harry. Pity the living, and, above all those who live without love.”\n",
            "J.K. Rowling\n",
            "“There is nothing to writing. All you do is sit down at a typewriter and bleed.”\n",
            "Ernest Hemingway\n",
            "“Finish each day and be done with it. You have done what you could. Some blunders and absurdities no doubt crept in; forget them as soon as you can. Tomorrow is a new day. You shall begin it serenely and with too high a spirit to be encumbered with your old nonsense.”\n",
            "Ralph Waldo Emerson\n",
            "“I have never let my schooling interfere with my education.”\n",
            "Mark Twain\n",
            "“I have heard there are troubles of more than one kind. Some come from ahead and some come from behind. But I've bought a big bat. I'm all ready you see. Now my troubles are going to have troubles with me!”\n",
            "Dr. Seuss\n",
            "“If I had a flower for every time I thought of you...I could walk through my garden forever.”\n",
            "Alfred Tennyson\n",
            "“Some people never go crazy. What truly horrible lives they must lead.”\n",
            "Charles Bukowski\n",
            "“The trouble with having an open mind, of course, is that people will insist on coming along and trying to put things in it.”\n",
            "Terry Pratchett\n",
            "“Think left and think right and think low and think high. Oh, the thinks you can think up if only you try!”\n",
            "Dr. Seuss\n",
            "“What really knocks me out is a book that, when you're all done reading it, you wish the author that wrote it was a terrific friend of yours and you could call him up on the phone whenever you felt like it. That doesn't happen much, though.”\n",
            "J.D. Salinger\n",
            "“The reason I talk to myself is because I’m the only one whose answers I accept.”\n",
            "George Carlin\n",
            "“You may say I'm a dreamer, but I'm not the only one. I hope someday you'll join us. And the world will live as one.”\n",
            "John Lennon\n",
            "“I am free of all prejudice. I hate everyone equally. ”\n",
            "W.C. Fields\n",
            "“The question isn't who is going to let me; it's who is going to stop me.”\n",
            "Ayn Rand\n",
            "“′Classic′ - a book which people praise and don't read.”\n",
            "Mark Twain\n",
            "“Anyone who has never made a mistake has never tried anything new.”\n",
            "Albert Einstein\n",
            "“A lady's imagination is very rapid; it jumps from admiration to love, from love to matrimony in a moment.”\n",
            "Jane Austen\n",
            "“Remember, if the time should come when you have to make a choice between what is right and what is easy, remember what happened to a boy who was good, and kind, and brave, because he strayed across the path of Lord Voldemort. Remember Cedric Diggory.”\n",
            "J.K. Rowling\n",
            "“I declare after all there is no enjoyment like reading! How much sooner one tires of any thing than of a book! -- When I have a house of my own, I shall be miserable if I have not an excellent library.”\n",
            "Jane Austen\n",
            "“There are few people whom I really love, and still fewer of whom I think well. The more I see of the world, the more am I dissatisfied with it; and every day confirms my belief of the inconsistency of all human characters, and of the little dependence that can be placed on the appearance of merit or sense.”\n",
            "Jane Austen\n",
            "“Some day you will be old enough to start reading fairy tales again.”\n",
            "C.S. Lewis\n",
            "“We are not necessarily doubting that God will do the best for us; we are wondering how painful the best will turn out to be.”\n",
            "C.S. Lewis\n",
            "“The fear of death follows from the fear of life. A man who lives fully is prepared to die at any time.”\n",
            "Mark Twain\n",
            "“A lie can travel half way around the world while the truth is putting on its shoes.”\n",
            "Mark Twain\n",
            "“I believe in Christianity as I believe that the sun has risen: not only because I see it, but because by it I see everything else.”\n",
            "C.S. Lewis\n"
          ],
          "name": "stdout"
        }
      ]
    },
    {
      "cell_type": "code",
      "metadata": {
        "colab": {
          "base_uri": "https://localhost:8080/"
        },
        "id": "vxR-pV45Zvmp",
        "outputId": "e40d62c6-1aff-434b-b1c7-11cc0534d1ab"
      },
      "source": [
        "import requests\n",
        "from bs4 import BeautifulSoup\n",
        "import csv\n",
        "########  SCRAPING QUOTES FROM ALL THE PAGES\n",
        "page = 10 ## Number of Pages you want to scrape\n",
        "for i in range(0,page):\n",
        "    res = requests.get(f\"http://quotes.toscrape.com/page/{i}/\")\n",
        "    soup = BeautifulSoup(res.text,\"html.parser\")\n",
        "\n",
        "    ### Finding the Page Length\n",
        "    length = len(soup.select(\".text\"))\n",
        "    ### Scraping All the Quotes with author name\n",
        "    for j in range(0,length):\n",
        "        quote = soup.select(\".text\")[j].get_text().strip()\n",
        "        quote = quote.replace(\"\\u2032\",\" \")\n",
        "        author = soup.select('.author')[j].get_text().strip()\n",
        "        ### Opening a CSV file\n",
        "        with open('quote.csv','a',newline='') as f:\n",
        "            ### Defining a write\n",
        "            writer = csv.writer(f)\n",
        "            #### Using the writer append a row\n",
        "            writer.writerow([quote,author])\n",
        "print(\"Done!\") ###Sucess Message"
      ],
      "execution_count": 29,
      "outputs": [
        {
          "output_type": "stream",
          "text": [
            "Done!\n"
          ],
          "name": "stdout"
        }
      ]
    },
    {
      "cell_type": "code",
      "metadata": {
        "id": "UYWdF4_8Z7ua"
      },
      "source": [
        "from bs4 import BeautifulSoup\n",
        "import requests\n",
        "import csv"
      ],
      "execution_count": 30,
      "outputs": []
    },
    {
      "cell_type": "code",
      "metadata": {
        "id": "GrDwvBPzZ-D1"
      },
      "source": [
        "headers = {'User-Agent': 'Mozilla/5.0 (Windows NT 10.0; Win64; x64) AppleWebKit/537.36 (KHTML, like Gecko) Chrome/58.0.3029.110 Safari/537.3'}"
      ],
      "execution_count": 31,
      "outputs": []
    },
    {
      "cell_type": "code",
      "metadata": {
        "colab": {
          "base_uri": "https://localhost:8080/"
        },
        "id": "GsfkQ08TZ-6r",
        "outputId": "eac375d7-e7e0-4200-e3b2-af96575d52ef"
      },
      "source": [
        "def amazon(book):\n",
        "    book = book.replace(\" \",'+')\n",
        "    url = f'https://www.amazon.in/s?k={book}&ref=nb_sb_noss_2'\n",
        "    print(url)\n",
        "amazon(input(\"Enter the book name\\n\"))"
      ],
      "execution_count": 32,
      "outputs": [
        {
          "output_type": "stream",
          "text": [
            "Enter the book name\n",
            "harry potter\n",
            "https://www.amazon.in/s?k=harry+potter&ref=nb_sb_noss_2\n"
          ],
          "name": "stdout"
        }
      ]
    },
    {
      "cell_type": "code",
      "metadata": {
        "colab": {
          "base_uri": "https://localhost:8080/",
          "height": 470
        },
        "id": "s7BquPxIaCWT",
        "outputId": "a0b1fe7d-127e-4909-8f30-c918e2ba3712"
      },
      "source": [
        "def amazon(book):\n",
        "    book = book.replace(\" \",'+')\n",
        "    url = f'https://www.amazon.in/s?k={book}&ref=nb_sb_noss_2'\n",
        "    res = requests.get(url,headers=headers)\n",
        "    soup = BeautifulSoup(res.text,'html.parser')\n",
        "    length= len(soup.select(\".a-size-medium\"))\n",
        "    for i in range(length):\n",
        "       price = soup.select(\".a-spacing-top-small .a-price-whole\")[i].get_text().strip()\n",
        "       names = soup.select(\".a-color-base.a-text-normal\")[i].get_text().strip()\n",
        "       link = soup.select(\"h2 .a-link-normal\")[i].attrs.get(\"href\")\n",
        "amazon(input(\"Enter the book name\\n\"))"
      ],
      "execution_count": 33,
      "outputs": [
        {
          "output_type": "stream",
          "text": [
            "Enter the book name\n",
            "Harry Potter\n"
          ],
          "name": "stdout"
        },
        {
          "output_type": "error",
          "ename": "IndexError",
          "evalue": "ignored",
          "traceback": [
            "\u001b[0;31m---------------------------------------------------------------------------\u001b[0m",
            "\u001b[0;31mIndexError\u001b[0m                                Traceback (most recent call last)",
            "\u001b[0;32m<ipython-input-33-151a344bd66f>\u001b[0m in \u001b[0;36m<module>\u001b[0;34m()\u001b[0m\n\u001b[1;32m      9\u001b[0m        \u001b[0mnames\u001b[0m \u001b[0;34m=\u001b[0m \u001b[0msoup\u001b[0m\u001b[0;34m.\u001b[0m\u001b[0mselect\u001b[0m\u001b[0;34m(\u001b[0m\u001b[0;34m\".a-color-base.a-text-normal\"\u001b[0m\u001b[0;34m)\u001b[0m\u001b[0;34m[\u001b[0m\u001b[0mi\u001b[0m\u001b[0;34m]\u001b[0m\u001b[0;34m.\u001b[0m\u001b[0mget_text\u001b[0m\u001b[0;34m(\u001b[0m\u001b[0;34m)\u001b[0m\u001b[0;34m.\u001b[0m\u001b[0mstrip\u001b[0m\u001b[0;34m(\u001b[0m\u001b[0;34m)\u001b[0m\u001b[0;34m\u001b[0m\u001b[0;34m\u001b[0m\u001b[0m\n\u001b[1;32m     10\u001b[0m        \u001b[0mlink\u001b[0m \u001b[0;34m=\u001b[0m \u001b[0msoup\u001b[0m\u001b[0;34m.\u001b[0m\u001b[0mselect\u001b[0m\u001b[0;34m(\u001b[0m\u001b[0;34m\"h2 .a-link-normal\"\u001b[0m\u001b[0;34m)\u001b[0m\u001b[0;34m[\u001b[0m\u001b[0mi\u001b[0m\u001b[0;34m]\u001b[0m\u001b[0;34m.\u001b[0m\u001b[0mattrs\u001b[0m\u001b[0;34m.\u001b[0m\u001b[0mget\u001b[0m\u001b[0;34m(\u001b[0m\u001b[0;34m\"href\"\u001b[0m\u001b[0;34m)\u001b[0m\u001b[0;34m\u001b[0m\u001b[0;34m\u001b[0m\u001b[0m\n\u001b[0;32m---> 11\u001b[0;31m \u001b[0mamazon\u001b[0m\u001b[0;34m(\u001b[0m\u001b[0minput\u001b[0m\u001b[0;34m(\u001b[0m\u001b[0;34m\"Enter the book name\\n\"\u001b[0m\u001b[0;34m)\u001b[0m\u001b[0;34m)\u001b[0m\u001b[0;34m\u001b[0m\u001b[0;34m\u001b[0m\u001b[0m\n\u001b[0m",
            "\u001b[0;32m<ipython-input-33-151a344bd66f>\u001b[0m in \u001b[0;36mamazon\u001b[0;34m(book)\u001b[0m\n\u001b[1;32m      6\u001b[0m     \u001b[0mlength\u001b[0m\u001b[0;34m=\u001b[0m \u001b[0mlen\u001b[0m\u001b[0;34m(\u001b[0m\u001b[0msoup\u001b[0m\u001b[0;34m.\u001b[0m\u001b[0mselect\u001b[0m\u001b[0;34m(\u001b[0m\u001b[0;34m\".a-size-medium\"\u001b[0m\u001b[0;34m)\u001b[0m\u001b[0;34m)\u001b[0m\u001b[0;34m\u001b[0m\u001b[0;34m\u001b[0m\u001b[0m\n\u001b[1;32m      7\u001b[0m     \u001b[0;32mfor\u001b[0m \u001b[0mi\u001b[0m \u001b[0;32min\u001b[0m \u001b[0mrange\u001b[0m\u001b[0;34m(\u001b[0m\u001b[0mlength\u001b[0m\u001b[0;34m)\u001b[0m\u001b[0;34m:\u001b[0m\u001b[0;34m\u001b[0m\u001b[0;34m\u001b[0m\u001b[0m\n\u001b[0;32m----> 8\u001b[0;31m        \u001b[0mprice\u001b[0m \u001b[0;34m=\u001b[0m \u001b[0msoup\u001b[0m\u001b[0;34m.\u001b[0m\u001b[0mselect\u001b[0m\u001b[0;34m(\u001b[0m\u001b[0;34m\".a-spacing-top-small .a-price-whole\"\u001b[0m\u001b[0;34m)\u001b[0m\u001b[0;34m[\u001b[0m\u001b[0mi\u001b[0m\u001b[0;34m]\u001b[0m\u001b[0;34m.\u001b[0m\u001b[0mget_text\u001b[0m\u001b[0;34m(\u001b[0m\u001b[0;34m)\u001b[0m\u001b[0;34m.\u001b[0m\u001b[0mstrip\u001b[0m\u001b[0;34m(\u001b[0m\u001b[0;34m)\u001b[0m\u001b[0;34m\u001b[0m\u001b[0;34m\u001b[0m\u001b[0m\n\u001b[0m\u001b[1;32m      9\u001b[0m        \u001b[0mnames\u001b[0m \u001b[0;34m=\u001b[0m \u001b[0msoup\u001b[0m\u001b[0;34m.\u001b[0m\u001b[0mselect\u001b[0m\u001b[0;34m(\u001b[0m\u001b[0;34m\".a-color-base.a-text-normal\"\u001b[0m\u001b[0;34m)\u001b[0m\u001b[0;34m[\u001b[0m\u001b[0mi\u001b[0m\u001b[0;34m]\u001b[0m\u001b[0;34m.\u001b[0m\u001b[0mget_text\u001b[0m\u001b[0;34m(\u001b[0m\u001b[0;34m)\u001b[0m\u001b[0;34m.\u001b[0m\u001b[0mstrip\u001b[0m\u001b[0;34m(\u001b[0m\u001b[0;34m)\u001b[0m\u001b[0;34m\u001b[0m\u001b[0;34m\u001b[0m\u001b[0m\n\u001b[1;32m     10\u001b[0m        \u001b[0mlink\u001b[0m \u001b[0;34m=\u001b[0m \u001b[0msoup\u001b[0m\u001b[0;34m.\u001b[0m\u001b[0mselect\u001b[0m\u001b[0;34m(\u001b[0m\u001b[0;34m\"h2 .a-link-normal\"\u001b[0m\u001b[0;34m)\u001b[0m\u001b[0;34m[\u001b[0m\u001b[0mi\u001b[0m\u001b[0;34m]\u001b[0m\u001b[0;34m.\u001b[0m\u001b[0mattrs\u001b[0m\u001b[0;34m.\u001b[0m\u001b[0mget\u001b[0m\u001b[0;34m(\u001b[0m\u001b[0;34m\"href\"\u001b[0m\u001b[0;34m)\u001b[0m\u001b[0;34m\u001b[0m\u001b[0;34m\u001b[0m\u001b[0m\n",
            "\u001b[0;31mIndexError\u001b[0m: list index out of range"
          ]
        }
      ]
    },
    {
      "cell_type": "code",
      "metadata": {
        "colab": {
          "base_uri": "https://localhost:8080/"
        },
        "id": "hJu8GVA3aGMO",
        "outputId": "6cc3bdc7-2824-4206-b43e-ca8c11ced160"
      },
      "source": [
        "def amazon(book):\n",
        "    book = book.replace(\" \",'+')\n",
        "    url = f'https://www.amazon.in/s?k=python&ref=nb_sb_noss_2'\n",
        "    print(url)\n",
        "    res = requests.get(url,headers=headers)\n",
        "    soup = BeautifulSoup(res.text,'html.parser')\n",
        "    names = soup.select(\".a-size-medium\")\n",
        "    for i in range(len(names)):\n",
        "        try:\n",
        "            price = soup.select(\".a-spacing-top-small .a-price-whole\")[i].get_text().strip()\n",
        "            if price != \"\":\n",
        "                names = soup.select(\".a-color-base.a-text-normal\")[i].get_text().strip()\n",
        "                link = soup.select(\" h2 .a-link-normal\")[i].attrs.get(\"href\")\n",
        "                print(\"https://www.amazon.in/\"+str(link))\n",
        "                print(\"\\n\")\n",
        "        except:\n",
        "            price = \"\"\n",
        "            names = \"\"\n",
        "amazon(input(\"Enter the book name\\n\"))"
      ],
      "execution_count": 34,
      "outputs": [
        {
          "output_type": "stream",
          "text": [
            "Enter the book name\n",
            "harry potter\n",
            "https://www.amazon.in/s?k=python&ref=nb_sb_noss_2\n",
            "https://www.amazon.in//gp/slredirect/picassoRedirect.html/ref=pa_sp_atf_aps_sr_pg1_1?ie=UTF8&adId=A06693881ORULDRM9SIRC&url=%2FCore-Python-Programming-Nageswara-Rao%2Fdp%2F938605230X%2Fref%3Dsr_1_1_sspa%3Fdchild%3D1%26keywords%3Dpython%26qid%3D1612179878%26sr%3D8-1-spons%26psc%3D1&qualifier=1612179878&id=2013810097575986&widgetName=sp_atf\n",
            "\n",
            "\n",
            "https://www.amazon.in//gp/slredirect/picassoRedirect.html/ref=pa_sp_atf_aps_sr_pg1_1?ie=UTF8&adId=A0083596R6SGQ5QESWF6&url=%2FLearning-Python-Allen-Downey%2Fdp%2F9351198146%2Fref%3Dsr_1_2_sspa%3Fdchild%3D1%26keywords%3Dpython%26qid%3D1612179878%26sr%3D8-2-spons%26psc%3D1&qualifier=1612179878&id=2013810097575986&widgetName=sp_atf\n",
            "\n",
            "\n",
            "https://www.amazon.in//Python-Crash-Course-Eric-Matthes/dp/1593279280/ref=sr_1_3?dchild=1&keywords=python&qid=1612179878&sr=8-3\n",
            "\n",
            "\n",
            "https://www.amazon.in//Python-2nd-Beginners-Hands-Project-ebook/dp/B071Z2Q6TQ/ref=sr_1_4?dchild=1&keywords=python&qid=1612179878&sr=8-4\n",
            "\n",
            "\n",
            "https://www.amazon.in//Python-Complete-Reference-Martin-Brown/dp/9387572943/ref=sr_1_5?dchild=1&keywords=python&qid=1612179878&sr=8-5\n",
            "\n",
            "\n",
            "https://www.amazon.in//Computer-Science-Practice-Textbook-2018-2019/dp/8177002309/ref=sr_1_6?dchild=1&keywords=python&qid=1612179878&sr=8-6\n",
            "\n",
            "\n",
            "https://www.amazon.in//Let-Us-Python-Yashavant-Kanetkar/dp/9388511565/ref=sr_1_7?dchild=1&keywords=python&qid=1612179878&sr=8-7\n",
            "\n",
            "\n",
            "https://www.amazon.in//Python-Beginners-programming-web-programming-programmer-ebook/dp/B075JGW5YK/ref=sr_1_8?dchild=1&keywords=python&qid=1612179878&sr=8-8\n",
            "\n",
            "\n",
            "https://www.amazon.in//Python-Programming-Problem-Solving-Approach/dp/0199480176/ref=sr_1_9?dchild=1&keywords=python&qid=1612179878&sr=8-9\n",
            "\n",
            "\n",
            "https://www.amazon.in//Python-Everybody-Exploring-Data/dp/9352136276/ref=sr_1_10?dchild=1&keywords=python&qid=1612179878&sr=8-10\n",
            "\n",
            "\n",
            "https://www.amazon.in//gp/slredirect/picassoRedirect.html/ref=pa_sp_mtf_aps_sr_pg1_1?ie=UTF8&adId=A02511311DDUUJ9T1E77A&url=%2FCoding-Javascript-Dummies-Chris-Minnick%2Fdp%2F8126556668%2Fref%3Dsr_1_11_sspa%3Fdchild%3D1%26keywords%3Dpython%26qid%3D1612179878%26sr%3D8-11-spons%26psc%3D1&qualifier=1612179878&id=2013810097575986&widgetName=sp_mtf\n",
            "\n",
            "\n",
            "https://www.amazon.in//gp/slredirect/picassoRedirect.html/ref=pa_sp_mtf_aps_sr_pg1_1?ie=UTF8&adId=A02516232Z6OAXES9GS32&url=%2FAndroid-Application-Development-All-Dummies%2Fdp%2F812655794X%2Fref%3Dsr_1_12_sspa%3Fdchild%3D1%26keywords%3Dpython%26qid%3D1612179878%26sr%3D8-12-spons%26psc%3D1&qualifier=1612179878&id=2013810097575986&widgetName=sp_mtf\n",
            "\n",
            "\n",
            "https://www.amazon.in//Python-Programming-modular-approach-Pearson/dp/9332585342/ref=sr_1_13?dchild=1&keywords=python&qid=1612179878&sr=8-13\n",
            "\n",
            "\n",
            "https://www.amazon.in//Python-Tricks-Buffet-Awesome-Features-ebook/dp/B0785Q7GSY/ref=sr_1_14?dchild=1&keywords=python&qid=1612179878&sr=8-14\n",
            "\n",
            "\n",
            "https://www.amazon.in//Automate-Boring-Stuff-Python-2nd/dp/1593279922/ref=sr_1_15?dchild=1&keywords=python&qid=1612179878&sr=8-15\n",
            "\n",
            "\n",
            "https://www.amazon.in//Learning-Python-Allen-Downey/dp/9351198146/ref=sr_1_16?dchild=1&keywords=python&qid=1612179878&sr=8-16\n",
            "\n",
            "\n",
            "https://www.amazon.in//Core-Python-Programming-Nageswara-Rao/dp/938605230X/ref=sr_1_17?dchild=1&keywords=python&qid=1612179878&sr=8-17\n",
            "\n",
            "\n",
            "https://www.amazon.in//Computer-Science-Python-2019-2020-Examination/dp/8177002368/ref=sr_1_18?dchild=1&keywords=python&qid=1612179878&sr=8-18\n",
            "\n",
            "\n",
            "https://www.amazon.in//Data-Structure-Algorithmic-Thinking-Python/dp/8192107590/ref=sr_1_19?dchild=1&keywords=python&qid=1612179878&sr=8-19\n",
            "\n",
            "\n",
            "https://www.amazon.in//gp/video/ssoredirect/?ru=https%3A%2F%2Fapp.primevideo.com%2Fdetail%3Fgti%3Damzn1.dv.gti.24acebdf-ff28-69b7-7de1-e571de30a1ef%26ref_%3Ddvm_src_ret_in_xx_s&page-type-id=B07M71MBYH&ref=sr_1_20&keywords=python&qid=1612179878&sr=8-20\n",
            "\n",
            "\n"
          ],
          "name": "stdout"
        }
      ]
    },
    {
      "cell_type": "code",
      "metadata": {
        "colab": {
          "base_uri": "https://localhost:8080/"
        },
        "id": "a9whCWSQaJyn",
        "outputId": "fdaf1e15-c604-4052-ce6d-9dec4cb40f74"
      },
      "source": [
        "from bs4 import BeautifulSoup\n",
        "import requests\n",
        "import csv\n",
        "headers = {'User-Agent': 'Mozilla/5.0 (Windows NT 10.0; Win64; x64) AppleWebKit/537.36 (KHTML, like Gecko) Chrome/58.0.3029.110 Safari/537.3'}\n",
        "def amazon(book,num):\n",
        "    book = book.replace(\" \",'+')\n",
        "    for i in range(num):\n",
        "        url = f'https://www.amazon.in/s?k={book}&page={num}&qid=1599544528&ref=sr_pg_{num}'\n",
        "        res = requests.get(url,headers=headers)\n",
        "        soup = BeautifulSoup(res.text,'html.parser')\n",
        "        with open('books.csv','a',newline='') as f:\n",
        "            writer = csv.writer(f)\n",
        "            names = soup.select(\".a-size-medium\")\n",
        "            for i in range(len(names)):\n",
        "                lst = []\n",
        "                try:\n",
        "                    price = soup.select(\".a-spacing-top-small .a-price-whole\")[i].get_text().strip()\n",
        "                    if price != \"\":\n",
        "                        names = soup.select(\".a-color-base.a-text-normal\")[i].get_text().strip()\n",
        "                        link = soup.select(\"h2 .a-link-normal\")[i].attrs.get(\"href\")\n",
        "                        link = \"https://www.amazon.in/\"+str(link)\n",
        "                except:\n",
        "                    price = \"\"\n",
        "                    names = \"\"\n",
        "                lst = [names,price,link]\n",
        "                writer.writerow(lst)\n",
        "    print(\"Done!!\")\n",
        "amazon(input(\"Enter the book name\\n\"),int(input(\"Number of pages\\n\")))"
      ],
      "execution_count": 35,
      "outputs": [
        {
          "output_type": "stream",
          "text": [
            "Enter the book name\n",
            "harry potter\n",
            "Number of pages\n",
            "2\n",
            "Done!!\n"
          ],
          "name": "stdout"
        }
      ]
    }
  ]
}