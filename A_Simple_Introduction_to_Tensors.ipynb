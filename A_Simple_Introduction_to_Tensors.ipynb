{
  "nbformat": 4,
  "nbformat_minor": 0,
  "metadata": {
    "colab": {
      "provenance": [],
      "authorship_tag": "ABX9TyND7iqK7v+SffGBP6NbdE86"
    },
    "kernelspec": {
      "name": "python3",
      "display_name": "Python 3"
    },
    "language_info": {
      "name": "python"
    }
  },
  "cells": [
    {
      "cell_type": "markdown",
      "source": [
        "[Reference](https://medium.com/@hunter-j-phillips/a-simple-introduction-to-tensors-c4a8321efffc)"
      ],
      "metadata": {
        "id": "orPBO7mJqbx2"
      }
    },
    {
      "cell_type": "markdown",
      "source": [
        "# Vector Operations"
      ],
      "metadata": {
        "id": "lxPh7JFPqo3o"
      }
    },
    {
      "cell_type": "markdown",
      "source": [
        "## Addition"
      ],
      "metadata": {
        "id": "ItTDoBhXqx02"
      }
    },
    {
      "cell_type": "code",
      "execution_count": 1,
      "metadata": {
        "colab": {
          "base_uri": "https://localhost:8080/"
        },
        "id": "vDQhIVNFqOFl",
        "outputId": "fefb8482-c099-46a8-9053-16a217854a29"
      },
      "outputs": [
        {
          "output_type": "execute_result",
          "data": {
            "text/plain": [
              "tensor([ 4, 10,  9])"
            ]
          },
          "metadata": {},
          "execution_count": 1
        }
      ],
      "source": [
        "import torch\n",
        "\n",
        "x = torch.tensor([1, 3, 5])\n",
        "y = torch.tensor([3, 7, 4])\n",
        "\n",
        "x + y"
      ]
    },
    {
      "cell_type": "markdown",
      "source": [
        "## Subtraction"
      ],
      "metadata": {
        "id": "iyeEBKQCqzuv"
      }
    },
    {
      "cell_type": "code",
      "source": [
        "x = torch.tensor([1, 3, 5])\n",
        "y = torch.tensor([3, 7, 4])\n",
        "\n",
        "x - y"
      ],
      "metadata": {
        "colab": {
          "base_uri": "https://localhost:8080/"
        },
        "id": "XAZRvAJ2qqUU",
        "outputId": "9dc4cdee-cc2d-4748-c945-96df2ba50f0a"
      },
      "execution_count": 2,
      "outputs": [
        {
          "output_type": "execute_result",
          "data": {
            "text/plain": [
              "tensor([-2, -4,  1])"
            ]
          },
          "metadata": {},
          "execution_count": 2
        }
      ]
    },
    {
      "cell_type": "markdown",
      "source": [
        "## Dot Product (Multiplication)"
      ],
      "metadata": {
        "id": "sJ-LVfsaq1Bb"
      }
    },
    {
      "cell_type": "code",
      "source": [
        "x = torch.tensor([1, 3, 5])\n",
        "y = torch.tensor([3, 7, 4])\n",
        "\n",
        "torch.dot(x, y)"
      ],
      "metadata": {
        "colab": {
          "base_uri": "https://localhost:8080/"
        },
        "id": "z3CSpBWmqrjL",
        "outputId": "fe201a7e-1769-4f1b-e7bc-57b6716db053"
      },
      "execution_count": 3,
      "outputs": [
        {
          "output_type": "execute_result",
          "data": {
            "text/plain": [
              "tensor(44)"
            ]
          },
          "metadata": {},
          "execution_count": 3
        }
      ]
    },
    {
      "cell_type": "markdown",
      "source": [
        "## Hadamard Product (Multiplication)"
      ],
      "metadata": {
        "id": "O_XvsI8Uq2e-"
      }
    },
    {
      "cell_type": "code",
      "source": [
        "x = torch.tensor([1, 3, 5])\n",
        "y = torch.tensor([3, 7, 4])\n",
        "\n",
        "x * y"
      ],
      "metadata": {
        "colab": {
          "base_uri": "https://localhost:8080/"
        },
        "id": "Cxqlspbqqvte",
        "outputId": "0a2eac5f-8530-4070-af57-befce7b16ab7"
      },
      "execution_count": 4,
      "outputs": [
        {
          "output_type": "execute_result",
          "data": {
            "text/plain": [
              "tensor([ 3, 21, 20])"
            ]
          },
          "metadata": {},
          "execution_count": 4
        }
      ]
    },
    {
      "cell_type": "markdown",
      "source": [
        "## Scalar Multiplication"
      ],
      "metadata": {
        "id": "NFYu9I4Kq5uW"
      }
    },
    {
      "cell_type": "code",
      "source": [
        "k = 5\n",
        "x = torch.tensor([1, 3, 5])\n",
        "\n",
        "k * x"
      ],
      "metadata": {
        "colab": {
          "base_uri": "https://localhost:8080/"
        },
        "id": "Z8n1wnYEq3yl",
        "outputId": "419675df-16ab-4fbf-8c8a-b16f58a9ed6e"
      },
      "execution_count": 5,
      "outputs": [
        {
          "output_type": "execute_result",
          "data": {
            "text/plain": [
              "tensor([ 5, 15, 25])"
            ]
          },
          "metadata": {},
          "execution_count": 5
        }
      ]
    },
    {
      "cell_type": "markdown",
      "source": [
        "## Matrix Multiplication"
      ],
      "metadata": {
        "id": "DdYVyiDdq8Li"
      }
    },
    {
      "cell_type": "code",
      "source": [
        "X = torch.tensor([[1, 3, 5],\n",
        "                  [3, 6, 1],\n",
        "                  [6, 8, 5],\n",
        "                  [7, 3, 2]])\n",
        "\n",
        "Y = torch.tensor([[6, 3, 2],\n",
        "                  [8, 5, 4],\n",
        "                  [3, 1, 7],\n",
        "                  [1, 8, 3]])\n",
        "\n",
        "X + Y"
      ],
      "metadata": {
        "colab": {
          "base_uri": "https://localhost:8080/"
        },
        "id": "KfNsHH_Vq646",
        "outputId": "3162fc52-4cd8-431a-9d77-fba8fb3bd692"
      },
      "execution_count": 6,
      "outputs": [
        {
          "output_type": "execute_result",
          "data": {
            "text/plain": [
              "tensor([[ 7,  6,  7],\n",
              "        [11, 11,  5],\n",
              "        [ 9,  9, 12],\n",
              "        [ 8, 11,  5]])"
            ]
          },
          "metadata": {},
          "execution_count": 6
        }
      ]
    },
    {
      "cell_type": "code",
      "source": [
        "X = torch.tensor([[1, 3, 5],\n",
        "                  [3, 6, 1],\n",
        "                  [6, 8, 5],\n",
        "                  [7, 3, 2]])\n",
        "\n",
        "Y = torch.tensor([[6, 3, 2],\n",
        "                  [8, 5, 4],\n",
        "                  [3, 1, 7],\n",
        "                  [1, 8, 3]])\n",
        "\n",
        "X - Y"
      ],
      "metadata": {
        "colab": {
          "base_uri": "https://localhost:8080/"
        },
        "id": "YAmTDdT9q9vI",
        "outputId": "6ec4309b-4acf-4454-c399-09ad66a51cf2"
      },
      "execution_count": 7,
      "outputs": [
        {
          "output_type": "execute_result",
          "data": {
            "text/plain": [
              "tensor([[-5,  0,  3],\n",
              "        [-5,  1, -3],\n",
              "        [ 3,  7, -2],\n",
              "        [ 6, -5, -1]])"
            ]
          },
          "metadata": {},
          "execution_count": 7
        }
      ]
    },
    {
      "cell_type": "code",
      "source": [
        "X = torch.tensor([[1, 3, 5],\n",
        "                  [3, 6, 1],\n",
        "                  [6, 8, 5],\n",
        "                  [7, 3, 2]])\n",
        "\n",
        "Y = torch.tensor([[6, 3, 2],\n",
        "                  [8, 5, 4],\n",
        "                  [3, 1, 7],\n",
        "                  [1, 8, 3]])\n",
        "\n",
        "X.matmul(Y.T)"
      ],
      "metadata": {
        "colab": {
          "base_uri": "https://localhost:8080/"
        },
        "id": "uUXH76UUrC2o",
        "outputId": "475b7139-39d5-4f51-bf83-b18b725d3dbd"
      },
      "execution_count": 8,
      "outputs": [
        {
          "output_type": "execute_result",
          "data": {
            "text/plain": [
              "tensor([[ 25,  43,  41,  40],\n",
              "        [ 38,  58,  22,  54],\n",
              "        [ 70, 108,  61,  85],\n",
              "        [ 55,  79,  38,  37]])"
            ]
          },
          "metadata": {},
          "execution_count": 8
        }
      ]
    },
    {
      "cell_type": "code",
      "source": [
        "X = torch.tensor([[1, 3, 5],\n",
        "                  [3, 6, 1],\n",
        "                  [6, 8, 5],\n",
        "                  [7, 3, 2]])\n",
        "\n",
        "Y = torch.tensor([[6, 3, 2],\n",
        "                  [8, 5, 4],\n",
        "                  [3, 1, 7],\n",
        "                  [1, 8, 3]])\n",
        "\n",
        "X * Y"
      ],
      "metadata": {
        "colab": {
          "base_uri": "https://localhost:8080/"
        },
        "id": "EpI1Z6MnrEok",
        "outputId": "d13ff2f7-e88a-4305-a68d-c72c95047594"
      },
      "execution_count": 9,
      "outputs": [
        {
          "output_type": "execute_result",
          "data": {
            "text/plain": [
              "tensor([[ 6,  9, 10],\n",
              "        [24, 30,  4],\n",
              "        [18,  8, 35],\n",
              "        [ 7, 24,  6]])"
            ]
          },
          "metadata": {},
          "execution_count": 9
        }
      ]
    },
    {
      "cell_type": "code",
      "source": [
        "k = 5\n",
        "X = torch.tensor([[1, 3, 5],\n",
        "                  [3, 6, 1],\n",
        "                  [6, 8, 5],\n",
        "                  [7, 3, 2]])\n",
        "\n",
        "k * X"
      ],
      "metadata": {
        "colab": {
          "base_uri": "https://localhost:8080/"
        },
        "id": "M2gE6BO_rHSm",
        "outputId": "2f0c4e53-7284-447c-d9ff-ed196d8b65ae"
      },
      "execution_count": 10,
      "outputs": [
        {
          "output_type": "execute_result",
          "data": {
            "text/plain": [
              "tensor([[ 5, 15, 25],\n",
              "        [15, 30,  5],\n",
              "        [30, 40, 25],\n",
              "        [35, 15, 10]])"
            ]
          },
          "metadata": {},
          "execution_count": 10
        }
      ]
    },
    {
      "cell_type": "code",
      "source": [
        "import torch\n",
        "\n",
        "gen = torch.Generator().manual_seed(2147483647)\n",
        "\n",
        "X = torch.randint(0, 10, (3, 3, 2), generator=gen)\n",
        "Y = torch.randint(0, 10, (3, 3, 2), generator=gen)"
      ],
      "metadata": {
        "id": "UynxNws0rIjl"
      },
      "execution_count": 12,
      "outputs": []
    },
    {
      "cell_type": "code",
      "source": [
        "X + Y"
      ],
      "metadata": {
        "colab": {
          "base_uri": "https://localhost:8080/"
        },
        "id": "FJZsXAQTrOS8",
        "outputId": "045c11d3-4f6b-4a59-956a-4fecbd0d7dca"
      },
      "execution_count": 13,
      "outputs": [
        {
          "output_type": "execute_result",
          "data": {
            "text/plain": [
              "tensor([[[ 9,  4],\n",
              "         [12,  8],\n",
              "         [ 9,  0]],\n",
              "\n",
              "        [[13,  7],\n",
              "         [ 7,  7],\n",
              "         [ 3,  7]],\n",
              "\n",
              "        [[13,  9],\n",
              "         [ 9,  5],\n",
              "         [13,  9]]])"
            ]
          },
          "metadata": {},
          "execution_count": 13
        }
      ]
    },
    {
      "cell_type": "code",
      "source": [
        "X - Y"
      ],
      "metadata": {
        "colab": {
          "base_uri": "https://localhost:8080/"
        },
        "id": "UhCow6QMrQ0j",
        "outputId": "794ef8ec-50c8-430e-8ab9-a1d70a3b1ed3"
      },
      "execution_count": 14,
      "outputs": [
        {
          "output_type": "execute_result",
          "data": {
            "text/plain": [
              "tensor([[[-7,  4],\n",
              "         [ 6, -4],\n",
              "         [-3,  0]],\n",
              "\n",
              "        [[-5,  5],\n",
              "         [ 7,  7],\n",
              "         [-1,  3]],\n",
              "\n",
              "        [[-1,  7],\n",
              "         [-7,  3],\n",
              "         [-5,  9]]])"
            ]
          },
          "metadata": {},
          "execution_count": 14
        }
      ]
    },
    {
      "cell_type": "code",
      "source": [
        "print(Y.transpose(1,2))\n",
        "print(Y.transpose(1,2).shape)"
      ],
      "metadata": {
        "colab": {
          "base_uri": "https://localhost:8080/"
        },
        "id": "4Ry1cs9GrTE0",
        "outputId": "01c8b3b1-c5c7-48da-9b35-222283f0ddb2"
      },
      "execution_count": 15,
      "outputs": [
        {
          "output_type": "stream",
          "name": "stdout",
          "text": [
            "tensor([[[8, 3, 6],\n",
            "         [0, 6, 0]],\n",
            "\n",
            "        [[9, 0, 2],\n",
            "         [1, 0, 2]],\n",
            "\n",
            "        [[7, 8, 9],\n",
            "         [1, 1, 0]]])\n",
            "torch.Size([3, 2, 3])\n"
          ]
        }
      ]
    },
    {
      "cell_type": "code",
      "source": [
        "X.matmul(Y.transpose(1,2))"
      ],
      "metadata": {
        "colab": {
          "base_uri": "https://localhost:8080/"
        },
        "id": "lEfv40bQrVZ7",
        "outputId": "acd1ddfb-18cd-4233-bdf0-d0feaa532b92"
      },
      "execution_count": 16,
      "outputs": [
        {
          "output_type": "execute_result",
          "data": {
            "text/plain": [
              "tensor([[[ 8, 27,  6],\n",
              "         [72, 39, 54],\n",
              "         [24,  9, 18]],\n",
              "\n",
              "        [[42,  0, 20],\n",
              "         [70,  0, 28],\n",
              "         [14,  0, 12]],\n",
              "\n",
              "        [[50, 56, 54],\n",
              "         [11, 12,  9],\n",
              "         [37, 41, 36]]])"
            ]
          },
          "metadata": {},
          "execution_count": 16
        }
      ]
    },
    {
      "cell_type": "code",
      "source": [
        "X * Y"
      ],
      "metadata": {
        "colab": {
          "base_uri": "https://localhost:8080/"
        },
        "id": "D_G1iMkkrWVX",
        "outputId": "b7f58554-e307-44f2-c4bb-30aa94076d4f"
      },
      "execution_count": 17,
      "outputs": [
        {
          "output_type": "execute_result",
          "data": {
            "text/plain": [
              "tensor([[[ 8,  0],\n",
              "         [27, 12],\n",
              "         [18,  0]],\n",
              "\n",
              "        [[36,  6],\n",
              "         [ 0,  0],\n",
              "         [ 2, 10]],\n",
              "\n",
              "        [[42,  8],\n",
              "         [ 8,  4],\n",
              "         [36,  0]]])"
            ]
          },
          "metadata": {},
          "execution_count": 17
        }
      ]
    },
    {
      "cell_type": "code",
      "source": [
        "k = 5\n",
        "k*X"
      ],
      "metadata": {
        "colab": {
          "base_uri": "https://localhost:8080/"
        },
        "id": "iJjeBKH9rXow",
        "outputId": "201fbdcd-52f1-4883-8534-b2ecb842cd18"
      },
      "execution_count": 18,
      "outputs": [
        {
          "output_type": "execute_result",
          "data": {
            "text/plain": [
              "tensor([[[ 5, 20],\n",
              "         [45, 10],\n",
              "         [15,  0]],\n",
              "\n",
              "        [[20, 30],\n",
              "         [35, 35],\n",
              "         [ 5, 25]],\n",
              "\n",
              "        [[30, 40],\n",
              "         [ 5, 20],\n",
              "         [20, 45]]])"
            ]
          },
          "metadata": {},
          "execution_count": 18
        }
      ]
    },
    {
      "cell_type": "code",
      "source": [
        "import torch\n",
        "\n",
        "gen = torch.Generator().manual_seed(2147483647)\n",
        "\n",
        "X = torch.randint(0, 10, (2, 3, 3, 2), generator=gen)\n",
        "Y = torch.randint(0, 10, (2, 3, 3, 2), generator=gen)"
      ],
      "metadata": {
        "id": "J2UsS9y6rY5R"
      },
      "execution_count": 19,
      "outputs": []
    },
    {
      "cell_type": "code",
      "source": [
        "X"
      ],
      "metadata": {
        "colab": {
          "base_uri": "https://localhost:8080/"
        },
        "id": "wJqyMsbUraLB",
        "outputId": "bab27e4e-c9d2-4c30-9923-fd4740fe2a00"
      },
      "execution_count": 20,
      "outputs": [
        {
          "output_type": "execute_result",
          "data": {
            "text/plain": [
              "tensor([[[[1, 4],\n",
              "          [9, 2],\n",
              "          [3, 0]],\n",
              "\n",
              "         [[4, 6],\n",
              "          [7, 7],\n",
              "          [1, 5]],\n",
              "\n",
              "         [[6, 8],\n",
              "          [1, 4],\n",
              "          [4, 9]]],\n",
              "\n",
              "\n",
              "        [[[8, 0],\n",
              "          [3, 6],\n",
              "          [6, 0]],\n",
              "\n",
              "         [[9, 1],\n",
              "          [0, 0],\n",
              "          [2, 2]],\n",
              "\n",
              "         [[7, 1],\n",
              "          [8, 1],\n",
              "          [9, 0]]]])"
            ]
          },
          "metadata": {},
          "execution_count": 20
        }
      ]
    },
    {
      "cell_type": "code",
      "source": [
        "Y"
      ],
      "metadata": {
        "colab": {
          "base_uri": "https://localhost:8080/"
        },
        "id": "C5kMMrTgrbll",
        "outputId": "8b60fe3f-e2c6-48c1-df9b-5f6a60541717"
      },
      "execution_count": 21,
      "outputs": [
        {
          "output_type": "execute_result",
          "data": {
            "text/plain": [
              "tensor([[[[6, 3],\n",
              "          [6, 4],\n",
              "          [5, 7]],\n",
              "\n",
              "         [[3, 7],\n",
              "          [2, 0],\n",
              "          [5, 1]],\n",
              "\n",
              "         [[0, 4],\n",
              "          [0, 8],\n",
              "          [0, 6]]],\n",
              "\n",
              "\n",
              "        [[[0, 5],\n",
              "          [8, 6],\n",
              "          [1, 0]],\n",
              "\n",
              "         [[5, 1],\n",
              "          [1, 6],\n",
              "          [1, 2]],\n",
              "\n",
              "         [[6, 0],\n",
              "          [2, 6],\n",
              "          [1, 5]]]])"
            ]
          },
          "metadata": {},
          "execution_count": 21
        }
      ]
    },
    {
      "cell_type": "code",
      "source": [
        "X + Y"
      ],
      "metadata": {
        "colab": {
          "base_uri": "https://localhost:8080/"
        },
        "id": "u0dIWMi5rc5t",
        "outputId": "7bc65bb6-bf9d-4b84-a1cd-fc7199d876c2"
      },
      "execution_count": 22,
      "outputs": [
        {
          "output_type": "execute_result",
          "data": {
            "text/plain": [
              "tensor([[[[ 7,  7],\n",
              "          [15,  6],\n",
              "          [ 8,  7]],\n",
              "\n",
              "         [[ 7, 13],\n",
              "          [ 9,  7],\n",
              "          [ 6,  6]],\n",
              "\n",
              "         [[ 6, 12],\n",
              "          [ 1, 12],\n",
              "          [ 4, 15]]],\n",
              "\n",
              "\n",
              "        [[[ 8,  5],\n",
              "          [11, 12],\n",
              "          [ 7,  0]],\n",
              "\n",
              "         [[14,  2],\n",
              "          [ 1,  6],\n",
              "          [ 3,  4]],\n",
              "\n",
              "         [[13,  1],\n",
              "          [10,  7],\n",
              "          [10,  5]]]])"
            ]
          },
          "metadata": {},
          "execution_count": 22
        }
      ]
    },
    {
      "cell_type": "code",
      "source": [
        "X + Y"
      ],
      "metadata": {
        "colab": {
          "base_uri": "https://localhost:8080/"
        },
        "id": "xMg4_BxDreB5",
        "outputId": "488a929f-e7aa-46e0-8f2b-b87c12895723"
      },
      "execution_count": 23,
      "outputs": [
        {
          "output_type": "execute_result",
          "data": {
            "text/plain": [
              "tensor([[[[ 7,  7],\n",
              "          [15,  6],\n",
              "          [ 8,  7]],\n",
              "\n",
              "         [[ 7, 13],\n",
              "          [ 9,  7],\n",
              "          [ 6,  6]],\n",
              "\n",
              "         [[ 6, 12],\n",
              "          [ 1, 12],\n",
              "          [ 4, 15]]],\n",
              "\n",
              "\n",
              "        [[[ 8,  5],\n",
              "          [11, 12],\n",
              "          [ 7,  0]],\n",
              "\n",
              "         [[14,  2],\n",
              "          [ 1,  6],\n",
              "          [ 3,  4]],\n",
              "\n",
              "         [[13,  1],\n",
              "          [10,  7],\n",
              "          [10,  5]]]])"
            ]
          },
          "metadata": {},
          "execution_count": 23
        }
      ]
    },
    {
      "cell_type": "code",
      "source": [
        "X.matmul(Y.transpose(2,3)) # X @ Y.transpose(2,3)"
      ],
      "metadata": {
        "colab": {
          "base_uri": "https://localhost:8080/"
        },
        "id": "LwL9xhskrfRt",
        "outputId": "5d02f3c2-a1fd-4b8d-c2fb-8dce53b25ea5"
      },
      "execution_count": 24,
      "outputs": [
        {
          "output_type": "execute_result",
          "data": {
            "text/plain": [
              "tensor([[[[18, 22, 33],\n",
              "          [60, 62, 59],\n",
              "          [18, 18, 15]],\n",
              "\n",
              "         [[54,  8, 26],\n",
              "          [70, 14, 42],\n",
              "          [38,  2, 10]],\n",
              "\n",
              "         [[32, 64, 48],\n",
              "          [16, 32, 24],\n",
              "          [36, 72, 54]]],\n",
              "\n",
              "\n",
              "        [[[ 0, 64,  8],\n",
              "          [30, 60,  3],\n",
              "          [ 0, 48,  6]],\n",
              "\n",
              "         [[46, 15, 11],\n",
              "          [ 0,  0,  0],\n",
              "          [12, 14,  6]],\n",
              "\n",
              "         [[42, 20, 12],\n",
              "          [48, 22, 13],\n",
              "          [54, 18,  9]]]])"
            ]
          },
          "metadata": {},
          "execution_count": 24
        }
      ]
    },
    {
      "cell_type": "code",
      "source": [
        "X * Y"
      ],
      "metadata": {
        "colab": {
          "base_uri": "https://localhost:8080/"
        },
        "id": "R3jEQWvNrh12",
        "outputId": "7c6e7a91-207d-4445-8a09-755c12e53562"
      },
      "execution_count": 25,
      "outputs": [
        {
          "output_type": "execute_result",
          "data": {
            "text/plain": [
              "tensor([[[[ 6, 12],\n",
              "          [54,  8],\n",
              "          [15,  0]],\n",
              "\n",
              "         [[12, 42],\n",
              "          [14,  0],\n",
              "          [ 5,  5]],\n",
              "\n",
              "         [[ 0, 32],\n",
              "          [ 0, 32],\n",
              "          [ 0, 54]]],\n",
              "\n",
              "\n",
              "        [[[ 0,  0],\n",
              "          [24, 36],\n",
              "          [ 6,  0]],\n",
              "\n",
              "         [[45,  1],\n",
              "          [ 0,  0],\n",
              "          [ 2,  4]],\n",
              "\n",
              "         [[42,  0],\n",
              "          [16,  6],\n",
              "          [ 9,  0]]]])"
            ]
          },
          "metadata": {},
          "execution_count": 25
        }
      ]
    },
    {
      "cell_type": "code",
      "source": [
        "k = 5\n",
        "k * X"
      ],
      "metadata": {
        "colab": {
          "base_uri": "https://localhost:8080/"
        },
        "id": "zziD4KNFrjEY",
        "outputId": "f404d004-27ff-418c-f374-7b55907ff539"
      },
      "execution_count": 26,
      "outputs": [
        {
          "output_type": "execute_result",
          "data": {
            "text/plain": [
              "tensor([[[[ 5, 20],\n",
              "          [45, 10],\n",
              "          [15,  0]],\n",
              "\n",
              "         [[20, 30],\n",
              "          [35, 35],\n",
              "          [ 5, 25]],\n",
              "\n",
              "         [[30, 40],\n",
              "          [ 5, 20],\n",
              "          [20, 45]]],\n",
              "\n",
              "\n",
              "        [[[40,  0],\n",
              "          [15, 30],\n",
              "          [30,  0]],\n",
              "\n",
              "         [[45,  5],\n",
              "          [ 0,  0],\n",
              "          [10, 10]],\n",
              "\n",
              "         [[35,  5],\n",
              "          [40,  5],\n",
              "          [45,  0]]]])"
            ]
          },
          "metadata": {},
          "execution_count": 26
        }
      ]
    }
  ]
}