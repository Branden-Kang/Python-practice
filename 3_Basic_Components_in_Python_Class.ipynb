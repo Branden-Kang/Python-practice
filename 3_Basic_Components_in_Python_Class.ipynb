{
  "nbformat": 4,
  "nbformat_minor": 0,
  "metadata": {
    "colab": {
      "name": "3 Basic Components in Python Class.ipynb",
      "provenance": [],
      "collapsed_sections": [],
      "authorship_tag": "ABX9TyP3db6t61yGWuc/pS0gUwnt"
    },
    "kernelspec": {
      "name": "python3",
      "display_name": "Python 3"
    }
  },
  "cells": [
    {
      "cell_type": "markdown",
      "metadata": {
        "id": "Z6RqbteeUOBP"
      },
      "source": [
        "[Reference](https://medium.com/swlh/declare-your-first-python-class-understand-3-basic-components-15768c8d35b0)"
      ]
    },
    {
      "cell_type": "code",
      "metadata": {
        "id": "cfLeJ7FyUJVh"
      },
      "source": [
        "employee = {\"name\": \"John Smith\", \"employee_id\": 10997, \"gender\": \"M\"}"
      ],
      "execution_count": 1,
      "outputs": []
    },
    {
      "cell_type": "code",
      "metadata": {
        "colab": {
          "base_uri": "https://localhost:8080/",
          "height": 37
        },
        "id": "U9dGJx6HURIf",
        "outputId": "cfce0d94-6985-4c32-e113-46cf451076e7"
      },
      "source": [
        "employee[\"name\"]"
      ],
      "execution_count": 2,
      "outputs": [
        {
          "output_type": "execute_result",
          "data": {
            "application/vnd.google.colaboratory.intrinsic+json": {
              "type": "string"
            },
            "text/plain": [
              "'John Smith'"
            ]
          },
          "metadata": {
            "tags": []
          },
          "execution_count": 2
        }
      ]
    },
    {
      "cell_type": "code",
      "metadata": {
        "colab": {
          "base_uri": "https://localhost:8080/",
          "height": 37
        },
        "id": "lrUiCFIZUlKM",
        "outputId": "a1c93e2e-5e5d-478e-9318-d339724d435a"
      },
      "source": [
        "employee[\"gender\"]"
      ],
      "execution_count": 3,
      "outputs": [
        {
          "output_type": "execute_result",
          "data": {
            "application/vnd.google.colaboratory.intrinsic+json": {
              "type": "string"
            },
            "text/plain": [
              "'M'"
            ]
          },
          "metadata": {
            "tags": []
          },
          "execution_count": 3
        }
      ]
    },
    {
      "cell_type": "code",
      "metadata": {
        "colab": {
          "base_uri": "https://localhost:8080/",
          "height": 198
        },
        "id": "ES2QjG_vUmEf",
        "outputId": "4688afd0-1753-40a3-b76b-196bd8f93615"
      },
      "source": [
        "employee[\"employe_id\"]"
      ],
      "execution_count": 5,
      "outputs": [
        {
          "output_type": "error",
          "ename": "KeyError",
          "evalue": "ignored",
          "traceback": [
            "\u001b[0;31m---------------------------------------------------------------------------\u001b[0m",
            "\u001b[0;31mKeyError\u001b[0m                                  Traceback (most recent call last)",
            "\u001b[0;32m<ipython-input-5-bdf68e15eacf>\u001b[0m in \u001b[0;36m<module>\u001b[0;34m()\u001b[0m\n\u001b[0;32m----> 1\u001b[0;31m \u001b[0memployee\u001b[0m\u001b[0;34m[\u001b[0m\u001b[0;34m\"employe_id\"\u001b[0m\u001b[0;34m]\u001b[0m\u001b[0;34m\u001b[0m\u001b[0;34m\u001b[0m\u001b[0m\n\u001b[0m",
            "\u001b[0;31mKeyError\u001b[0m: 'employe_id'"
          ]
        }
      ]
    },
    {
      "cell_type": "markdown",
      "metadata": {
        "id": "GJPlpUTlWRm3"
      },
      "source": [
        "# 1. Instantiation"
      ]
    },
    {
      "cell_type": "code",
      "metadata": {
        "colab": {
          "base_uri": "https://localhost:8080/"
        },
        "id": "Y5g95lmgUnbB",
        "outputId": "f7a023c2-6d21-4b93-b5d8-7730ef526bc2"
      },
      "source": [
        "# Define a class\n",
        "class Employee:\n",
        "     def __init__(self):\n",
        "         print(\"An employee instance is created\")\n",
        " \n",
        "# Create an instance\n",
        "employee = Employee()"
      ],
      "execution_count": 7,
      "outputs": [
        {
          "output_type": "stream",
          "text": [
            "An employee instance is created\n"
          ],
          "name": "stdout"
        }
      ]
    },
    {
      "cell_type": "code",
      "metadata": {
        "colab": {
          "base_uri": "https://localhost:8080/"
        },
        "id": "kk0iJ5gmVA9b",
        "outputId": "d18b681f-7f47-4626-9827-414c9d389052"
      },
      "source": [
        "# Check the variable employee's type\n",
        "type(employee)"
      ],
      "execution_count": 8,
      "outputs": [
        {
          "output_type": "execute_result",
          "data": {
            "text/plain": [
              "__main__.Employee"
            ]
          },
          "metadata": {
            "tags": []
          },
          "execution_count": 8
        }
      ]
    },
    {
      "cell_type": "code",
      "metadata": {
        "colab": {
          "base_uri": "https://localhost:8080/"
        },
        "id": "lQrDP5bKVG2z",
        "outputId": "e9538814-5caf-4cf6-9842-5af9a2a40afd"
      },
      "source": [
        "isinstance(employee, Employee)"
      ],
      "execution_count": 9,
      "outputs": [
        {
          "output_type": "execute_result",
          "data": {
            "text/plain": [
              "True"
            ]
          },
          "metadata": {
            "tags": []
          },
          "execution_count": 9
        }
      ]
    },
    {
      "cell_type": "markdown",
      "metadata": {
        "id": "4snN3QZoWOWC"
      },
      "source": [
        "# 2. Attributes"
      ]
    },
    {
      "cell_type": "code",
      "metadata": {
        "id": "CbIDOkN_VIhe"
      },
      "source": [
        "# Update the class's init method\n",
        "class Employee:\n",
        "     def __init__(self, name, employee_id, gender):\n",
        "         self.name = name\n",
        "         self.employee_id = employee_id\n",
        "         self.gender = gender"
      ],
      "execution_count": 10,
      "outputs": []
    },
    {
      "cell_type": "code",
      "metadata": {
        "id": "pqXKvI5OVNJ9"
      },
      "source": [
        "employee = Employee(\"John Smith\", 10997, \"M\")"
      ],
      "execution_count": 11,
      "outputs": []
    },
    {
      "cell_type": "code",
      "metadata": {
        "colab": {
          "base_uri": "https://localhost:8080/"
        },
        "id": "0slsT66zVOth",
        "outputId": "d1966275-2c42-4a26-f1f6-c19b66764a69"
      },
      "source": [
        "employee.employee_id"
      ],
      "execution_count": 12,
      "outputs": [
        {
          "output_type": "execute_result",
          "data": {
            "text/plain": [
              "10997"
            ]
          },
          "metadata": {
            "tags": []
          },
          "execution_count": 12
        }
      ]
    },
    {
      "cell_type": "code",
      "metadata": {
        "colab": {
          "base_uri": "https://localhost:8080/",
          "height": 37
        },
        "id": "WebjMxcgVQCC",
        "outputId": "47474466-6934-4111-db41-911b8900eed0"
      },
      "source": [
        "employee.gender"
      ],
      "execution_count": 13,
      "outputs": [
        {
          "output_type": "execute_result",
          "data": {
            "application/vnd.google.colaboratory.intrinsic+json": {
              "type": "string"
            },
            "text/plain": [
              "'M'"
            ]
          },
          "metadata": {
            "tags": []
          },
          "execution_count": 13
        }
      ]
    },
    {
      "cell_type": "code",
      "metadata": {
        "id": "k7UFA9r0VQ5F"
      },
      "source": [
        "employee.name = \"John David Smith\""
      ],
      "execution_count": 14,
      "outputs": []
    },
    {
      "cell_type": "code",
      "metadata": {
        "colab": {
          "base_uri": "https://localhost:8080/",
          "height": 37
        },
        "id": "K1ZtWthtVR2S",
        "outputId": "24a7d7f4-4a8b-4d8a-cfff-fd3d5b276520"
      },
      "source": [
        "employee.name"
      ],
      "execution_count": 15,
      "outputs": [
        {
          "output_type": "execute_result",
          "data": {
            "application/vnd.google.colaboratory.intrinsic+json": {
              "type": "string"
            },
            "text/plain": [
              "'John David Smith'"
            ]
          },
          "metadata": {
            "tags": []
          },
          "execution_count": 15
        }
      ]
    },
    {
      "cell_type": "code",
      "metadata": {
        "id": "tMKE4S9PVSjO"
      },
      "source": [
        "another_employee = Employee(\"Jennifer Davis\", 11308, \"F\")"
      ],
      "execution_count": 16,
      "outputs": []
    },
    {
      "cell_type": "code",
      "metadata": {
        "colab": {
          "base_uri": "https://localhost:8080/",
          "height": 37
        },
        "id": "jNjFgE-7VT7l",
        "outputId": "50d856c0-0393-4a4c-d6f3-f47457a1ff3c"
      },
      "source": [
        "another_employee.name"
      ],
      "execution_count": 17,
      "outputs": [
        {
          "output_type": "execute_result",
          "data": {
            "application/vnd.google.colaboratory.intrinsic+json": {
              "type": "string"
            },
            "text/plain": [
              "'Jennifer Davis'"
            ]
          },
          "metadata": {
            "tags": []
          },
          "execution_count": 17
        }
      ]
    },
    {
      "cell_type": "code",
      "metadata": {
        "colab": {
          "base_uri": "https://localhost:8080/"
        },
        "id": "Fu9eUHrLVUvP",
        "outputId": "46110d90-1ee3-4a8f-a565-4cd78050d077"
      },
      "source": [
        "another_employee.employee_id"
      ],
      "execution_count": 18,
      "outputs": [
        {
          "output_type": "execute_result",
          "data": {
            "text/plain": [
              "11308"
            ]
          },
          "metadata": {
            "tags": []
          },
          "execution_count": 18
        }
      ]
    },
    {
      "cell_type": "code",
      "metadata": {
        "colab": {
          "base_uri": "https://localhost:8080/",
          "height": 37
        },
        "id": "SUMZX9nkVV6H",
        "outputId": "092f8b05-2e98-449f-f8e5-030f58c4201b"
      },
      "source": [
        "another_employee.gender"
      ],
      "execution_count": 19,
      "outputs": [
        {
          "output_type": "execute_result",
          "data": {
            "application/vnd.google.colaboratory.intrinsic+json": {
              "type": "string"
            },
            "text/plain": [
              "'F'"
            ]
          },
          "metadata": {
            "tags": []
          },
          "execution_count": 19
        }
      ]
    },
    {
      "cell_type": "code",
      "metadata": {
        "id": "Q5Z58NUwVXv3"
      },
      "source": [
        "# Update the class with a class attribute\n",
        "class Employee:\n",
        "    company = \"Python Foundation\"\n",
        "    def __init__(self, name, employee_id, gender):\n",
        "        self.name = name\n",
        "        self.employee_id = employee_id\n",
        "        self.gender = gender\n",
        " \n",
        "# Create new instances\n",
        "employee0 = Employee(\"Aaron\", 20313, \"M\")\n",
        "employee1 = Employee(\"Jimmy\", 20443, \"M\")"
      ],
      "execution_count": 26,
      "outputs": []
    },
    {
      "cell_type": "code",
      "metadata": {
        "colab": {
          "base_uri": "https://localhost:8080/",
          "height": 37
        },
        "id": "kfOeczHXVqLl",
        "outputId": "1be595a7-bcd8-4993-c9ae-bd06c7126e3d"
      },
      "source": [
        "employee0.company"
      ],
      "execution_count": 27,
      "outputs": [
        {
          "output_type": "execute_result",
          "data": {
            "application/vnd.google.colaboratory.intrinsic+json": {
              "type": "string"
            },
            "text/plain": [
              "'Python Foundation'"
            ]
          },
          "metadata": {
            "tags": []
          },
          "execution_count": 27
        }
      ]
    },
    {
      "cell_type": "code",
      "metadata": {
        "colab": {
          "base_uri": "https://localhost:8080/",
          "height": 37
        },
        "id": "uvvJ6BCsV9mD",
        "outputId": "e1f2aa21-c273-41a9-fe09-2b2f16a34aba"
      },
      "source": [
        "employee1.company"
      ],
      "execution_count": 28,
      "outputs": [
        {
          "output_type": "execute_result",
          "data": {
            "application/vnd.google.colaboratory.intrinsic+json": {
              "type": "string"
            },
            "text/plain": [
              "'Python Foundation'"
            ]
          },
          "metadata": {
            "tags": []
          },
          "execution_count": 28
        }
      ]
    },
    {
      "cell_type": "code",
      "metadata": {
        "colab": {
          "base_uri": "https://localhost:8080/",
          "height": 37
        },
        "id": "V0Bl8hSxV-Xk",
        "outputId": "afb384ab-c10e-465e-b074-8abcde544ab4"
      },
      "source": [
        "Employee.company"
      ],
      "execution_count": 29,
      "outputs": [
        {
          "output_type": "execute_result",
          "data": {
            "application/vnd.google.colaboratory.intrinsic+json": {
              "type": "string"
            },
            "text/plain": [
              "'Python Foundation'"
            ]
          },
          "metadata": {
            "tags": []
          },
          "execution_count": 29
        }
      ]
    },
    {
      "cell_type": "code",
      "metadata": {
        "id": "TA4HJlsYV_ae"
      },
      "source": [
        "Employee.company = \"Python\""
      ],
      "execution_count": 30,
      "outputs": []
    },
    {
      "cell_type": "code",
      "metadata": {
        "colab": {
          "base_uri": "https://localhost:8080/",
          "height": 37
        },
        "id": "KDMcG5MWWKaS",
        "outputId": "42c41b0a-8711-4d73-a529-e9a63942d07c"
      },
      "source": [
        "Employee.company"
      ],
      "execution_count": 31,
      "outputs": [
        {
          "output_type": "execute_result",
          "data": {
            "application/vnd.google.colaboratory.intrinsic+json": {
              "type": "string"
            },
            "text/plain": [
              "'Python'"
            ]
          },
          "metadata": {
            "tags": []
          },
          "execution_count": 31
        }
      ]
    },
    {
      "cell_type": "code",
      "metadata": {
        "colab": {
          "base_uri": "https://localhost:8080/",
          "height": 37
        },
        "id": "_lQ3eIHVWKUl",
        "outputId": "47f56d2a-4ae9-40ef-d0c1-3f016ca84c6b"
      },
      "source": [
        "employee0.company"
      ],
      "execution_count": 32,
      "outputs": [
        {
          "output_type": "execute_result",
          "data": {
            "application/vnd.google.colaboratory.intrinsic+json": {
              "type": "string"
            },
            "text/plain": [
              "'Python'"
            ]
          },
          "metadata": {
            "tags": []
          },
          "execution_count": 32
        }
      ]
    },
    {
      "cell_type": "markdown",
      "metadata": {
        "id": "ZOZvnBUzWW0K"
      },
      "source": [
        "# 3. Methods"
      ]
    },
    {
      "cell_type": "code",
      "metadata": {
        "id": "IigtSfG9WMK6"
      },
      "source": [
        "# Update the class with some methods\n",
        "class Employee:\n",
        "     def __init__(self, name, employee_id, gender):\n",
        "        self.name = name\n",
        "        self.employee_id = employee_id\n",
        "        self.gender = gender\n",
        "     # Declare an instance method\n",
        "     def request_vacation(self, start_date, days):\n",
        "         print(f\"Request {days} days off starting on {start_date}\")\n",
        "\n",
        "     # Declare a static method\n",
        "     @staticmethod\n",
        "     def send_notice(content):\n",
        "         print(f\"Every employee is notified: {content}\")"
      ],
      "execution_count": 35,
      "outputs": []
    },
    {
      "cell_type": "code",
      "metadata": {
        "id": "zeb-VN-vWntV"
      },
      "source": [
        "employee = Employee(\"David Johnson\", 20340, \"M\")"
      ],
      "execution_count": 36,
      "outputs": []
    },
    {
      "cell_type": "code",
      "metadata": {
        "colab": {
          "base_uri": "https://localhost:8080/"
        },
        "id": "R2BgNzyFWqSg",
        "outputId": "610ab007-0eae-4f44-f3c0-eb21a4f3c786"
      },
      "source": [
        "employee.request_vacation(\"2020-06-02\", 10)"
      ],
      "execution_count": 37,
      "outputs": [
        {
          "output_type": "stream",
          "text": [
            "Request 10 days off starting on 2020-06-02\n"
          ],
          "name": "stdout"
        }
      ]
    },
    {
      "cell_type": "code",
      "metadata": {
        "colab": {
          "base_uri": "https://localhost:8080/"
        },
        "id": "xcCvGNjNWwNG",
        "outputId": "6f5e4a90-eb8e-49ee-bee1-1d6b35b49fb9"
      },
      "source": [
        "Employee.send_notice(\"Hello\")"
      ],
      "execution_count": 38,
      "outputs": [
        {
          "output_type": "stream",
          "text": [
            "Every employee is notified: Hello\n"
          ],
          "name": "stdout"
        }
      ]
    },
    {
      "cell_type": "code",
      "metadata": {
        "colab": {
          "base_uri": "https://localhost:8080/"
        },
        "id": "J9DnC4GKWxQY",
        "outputId": "9724c040-17d5-47a9-895a-517516c676ec"
      },
      "source": [
        "employee.send_notice(\"Hello\")"
      ],
      "execution_count": 39,
      "outputs": [
        {
          "output_type": "stream",
          "text": [
            "Every employee is notified: Hello\n"
          ],
          "name": "stdout"
        }
      ]
    },
    {
      "cell_type": "code",
      "metadata": {
        "colab": {
          "base_uri": "https://localhost:8080/",
          "height": 215
        },
        "id": "GVOrf1MpWzZY",
        "outputId": "7edf1063-bfc6-49b6-d1ac-f91acf6f7829"
      },
      "source": [
        "Employee.request_vacation(\"2020-06-02\", 10)"
      ],
      "execution_count": 40,
      "outputs": [
        {
          "output_type": "error",
          "ename": "TypeError",
          "evalue": "ignored",
          "traceback": [
            "\u001b[0;31m---------------------------------------------------------------------------\u001b[0m",
            "\u001b[0;31mTypeError\u001b[0m                                 Traceback (most recent call last)",
            "\u001b[0;32m<ipython-input-40-a24f36ba6d93>\u001b[0m in \u001b[0;36m<module>\u001b[0;34m()\u001b[0m\n\u001b[0;32m----> 1\u001b[0;31m \u001b[0mEmployee\u001b[0m\u001b[0;34m.\u001b[0m\u001b[0mrequest_vacation\u001b[0m\u001b[0;34m(\u001b[0m\u001b[0;34m\"2020-06-02\"\u001b[0m\u001b[0;34m,\u001b[0m \u001b[0;36m10\u001b[0m\u001b[0;34m)\u001b[0m\u001b[0;34m\u001b[0m\u001b[0;34m\u001b[0m\u001b[0m\n\u001b[0m",
            "\u001b[0;31mTypeError\u001b[0m: request_vacation() missing 1 required positional argument: 'days'"
          ]
        }
      ]
    }
  ]
}