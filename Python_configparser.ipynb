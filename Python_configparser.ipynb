{
  "nbformat": 4,
  "nbformat_minor": 0,
  "metadata": {
    "colab": {
      "name": "Python: configparser.ipynb",
      "provenance": [],
      "collapsed_sections": [],
      "authorship_tag": "ABX9TyPmz+2uXVsa9g2jrU3x7gcv"
    },
    "kernelspec": {
      "name": "python3",
      "display_name": "Python 3"
    },
    "language_info": {
      "name": "python"
    }
  },
  "cells": [
    {
      "cell_type": "markdown",
      "source": [
        "[Reference](https://medium.com/@sunilrana123/python-configparser-27d0cc3612d?source=email-221e53167b31-1660585771883-digest.reader--27d0cc3612d----2-73------------------2d961b67_986c_47ed_8380_922442b858cd-1)"
      ],
      "metadata": {
        "id": "bf3a9LIoMiT_"
      }
    },
    {
      "cell_type": "code",
      "execution_count": 1,
      "metadata": {
        "id": "gIkN0i2UMg-k"
      },
      "outputs": [],
      "source": [
        "# # app.ini\n",
        "# [Database]\n",
        "# host = localhost\n",
        "# user = user7\n",
        "# passwd = s$cret\n",
        "# db = mydb\n",
        "# prod: Yes\n",
        "# size: 300\n",
        "# single: True\n",
        "\n",
        "# [App]\n",
        "# Name: test-app\n",
        "\n",
        "# [RestApi]\n",
        "# Name: rest-api\n",
        "\n",
        "# [Others]"
      ]
    },
    {
      "cell_type": "code",
      "source": [
        "# import configparser\n",
        "# config = configparser.ConfigParser()\n",
        "# config.read('app.ini')\n",
        "# config.sections()\n",
        "# host = config['Database']['host']\n",
        "# user = config['Database']['user']\n",
        "# passwd = config['Database']['passwd']\n",
        "# db = config['Database']['db']\n",
        "# print(host)\n",
        "# print(user)\n",
        "# print(passwd)\n",
        "# print(db)"
      ],
      "metadata": {
        "id": "g3drVih1NV9w"
      },
      "execution_count": 2,
      "outputs": []
    },
    {
      "cell_type": "code",
      "source": [
        "# for section in config.sections():\n",
        "#     print(f\"{section}\")\n",
        "#     for option in config.options(section):\n",
        "#         print(f\"|-->{option}:{config.get(section, option)}\")"
      ],
      "metadata": {
        "id": "Bicl1a3MNevW"
      },
      "execution_count": 3,
      "outputs": []
    },
    {
      "cell_type": "code",
      "source": [
        "# def GetSectionOption(config:configparser.ConfigParser(),section):\n",
        "#     _dict = {}\n",
        "#     options = config.options(section)\n",
        "#     for option in options:\n",
        "#         try:\n",
        "#             _dict[option] = config.get(section, option)\n",
        "#             if _dict[option] == -1:\n",
        "#                 DebugPrint(\"skip: %s\" % option)\n",
        "#         except:\n",
        "#             print(\"exception on %s!\" % option)\n",
        "#             _dict[option] = None\n",
        "#     return _dict"
      ],
      "metadata": {
        "id": "jcskal7ANhil"
      },
      "execution_count": 4,
      "outputs": []
    }
  ]
}