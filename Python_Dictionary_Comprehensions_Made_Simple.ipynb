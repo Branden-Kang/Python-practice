{
  "nbformat": 4,
  "nbformat_minor": 0,
  "metadata": {
    "colab": {
      "name": "Python Dictionary Comprehensions Made Simple.ipynb",
      "provenance": [],
      "authorship_tag": "ABX9TyPqhoKBpoQuhnuqoCW6DOgu"
    },
    "kernelspec": {
      "name": "python3",
      "display_name": "Python 3"
    },
    "language_info": {
      "name": "python"
    }
  },
  "cells": [
    {
      "cell_type": "markdown",
      "metadata": {
        "id": "yxfGkGcCIPnU"
      },
      "source": [
        "[Reference](https://python.plainenglish.io/python-dictionary-comprehensions-made-simple-3008700f461b)"
      ]
    },
    {
      "cell_type": "code",
      "metadata": {
        "colab": {
          "base_uri": "https://localhost:8080/"
        },
        "id": "_0SF-FmNIOgT",
        "outputId": "aa8b7a94-e777-414f-d970-5ee3caf94272"
      },
      "source": [
        "a = {'hey': 1, 'ho': 2, \"let's\": 3, 'go': 4}\n",
        "b = {}\n",
        "for k, v in a.items():\n",
        "    b[k] = v\n",
        "print(b)"
      ],
      "execution_count": 1,
      "outputs": [
        {
          "output_type": "stream",
          "text": [
            "{'hey': 1, 'ho': 2, \"let's\": 3, 'go': 4}\n"
          ],
          "name": "stdout"
        }
      ]
    },
    {
      "cell_type": "code",
      "metadata": {
        "colab": {
          "base_uri": "https://localhost:8080/"
        },
        "id": "LonVIkA3ITdb",
        "outputId": "427b78bc-e325-40f4-ea2f-a77fbf6f32ea"
      },
      "source": [
        "a = {'hey': 1, 'ho': 2, \"let's\": 3, 'go': 4}\n",
        "b = {k: v for k, v in a.items()}\n",
        "print(b)"
      ],
      "execution_count": 2,
      "outputs": [
        {
          "output_type": "stream",
          "text": [
            "{'hey': 1, 'ho': 2, \"let's\": 3, 'go': 4}\n"
          ],
          "name": "stdout"
        }
      ]
    },
    {
      "cell_type": "code",
      "metadata": {
        "colab": {
          "base_uri": "https://localhost:8080/"
        },
        "id": "7pEWApcMIU52",
        "outputId": "d5d59cef-5500-49cd-c410-04ecf37aa9a2"
      },
      "source": [
        "a = {'hey': 1, 'ho': 2, \"let's\": 3, 'go': 4}\n",
        "b = {}\n",
        "for k, v in a.items():\n",
        "    if v > 1:\n",
        "        b[k] = v\n",
        "print(b)"
      ],
      "execution_count": 3,
      "outputs": [
        {
          "output_type": "stream",
          "text": [
            "{'ho': 2, \"let's\": 3, 'go': 4}\n"
          ],
          "name": "stdout"
        }
      ]
    },
    {
      "cell_type": "code",
      "metadata": {
        "colab": {
          "base_uri": "https://localhost:8080/"
        },
        "id": "RxgW82ZAIWiX",
        "outputId": "74fc5bb4-aaea-443b-805a-90fd70ca410b"
      },
      "source": [
        "a = {'hey': 1, 'ho': 2, \"let's\": 3, 'go': 4}\n",
        "b = {k: v for k, v in a.items() if v > 1}\n",
        "print(b)"
      ],
      "execution_count": 5,
      "outputs": [
        {
          "output_type": "stream",
          "text": [
            "{'ho': 2, \"let's\": 3, 'go': 4}\n"
          ],
          "name": "stdout"
        }
      ]
    },
    {
      "cell_type": "code",
      "metadata": {
        "colab": {
          "base_uri": "https://localhost:8080/"
        },
        "id": "lR5NlqqLIXti",
        "outputId": "d980c93c-f396-4192-8d89-fc3195b3ff66"
      },
      "source": [
        "a = ['hey', 'ho', \"let's\", \"go\"]\n",
        "b = [1, 2, 3, 4]\n",
        "c = {}\n",
        "for item in a:\n",
        "    c[item] = b[a.index(item)]\n",
        "print(c)"
      ],
      "execution_count": 6,
      "outputs": [
        {
          "output_type": "stream",
          "text": [
            "{'hey': 1, 'ho': 2, \"let's\": 3, 'go': 4}\n"
          ],
          "name": "stdout"
        }
      ]
    },
    {
      "cell_type": "code",
      "metadata": {
        "colab": {
          "base_uri": "https://localhost:8080/"
        },
        "id": "e_hku8U5IZ9w",
        "outputId": "d00e80db-be29-422f-f8ac-6d17f39e7f9c"
      },
      "source": [
        "a = ['hey', 'ho', \"let's\", \"go\"]\n",
        "b = [1, 2, 3, 4]\n",
        "c = {k: v for k, v in zip(a, b)}\n",
        "print(c)"
      ],
      "execution_count": 7,
      "outputs": [
        {
          "output_type": "stream",
          "text": [
            "{'hey': 1, 'ho': 2, \"let's\": 3, 'go': 4}\n"
          ],
          "name": "stdout"
        }
      ]
    },
    {
      "cell_type": "code",
      "metadata": {
        "colab": {
          "base_uri": "https://localhost:8080/"
        },
        "id": "na2PexcgIbS7",
        "outputId": "5ba54c9c-57c5-4756-c3cd-7ec4be5a627e"
      },
      "source": [
        "a = ['hey', 'ho', \"let's\", \"go\"]\n",
        "b = [1, 2, 3, 4]\n",
        "c = dict(zip(a, b))\n",
        "print(c)"
      ],
      "execution_count": 8,
      "outputs": [
        {
          "output_type": "stream",
          "text": [
            "{'hey': 1, 'ho': 2, \"let's\": 3, 'go': 4}\n"
          ],
          "name": "stdout"
        }
      ]
    },
    {
      "cell_type": "code",
      "metadata": {
        "colab": {
          "base_uri": "https://localhost:8080/"
        },
        "id": "aTND_9SnIcnK",
        "outputId": "63308915-df01-4e5c-f484-4ad116054e97"
      },
      "source": [
        "a = ['hey', 'ho', \"let's\", \"go\"]\n",
        "b = [1, 2, 3, 4]\n",
        "c = ['a', 'b', 'c', 'd']\n",
        "d = {}\n",
        "for item in a:\n",
        "    d[item] = [b[a.index(item)], c[a.index(item)]]\n",
        "print(d)"
      ],
      "execution_count": 9,
      "outputs": [
        {
          "output_type": "stream",
          "text": [
            "{'hey': [1, 'a'], 'ho': [2, 'b'], \"let's\": [3, 'c'], 'go': [4, 'd']}\n"
          ],
          "name": "stdout"
        }
      ]
    },
    {
      "cell_type": "code",
      "metadata": {
        "colab": {
          "base_uri": "https://localhost:8080/"
        },
        "id": "-s5kQCajId6O",
        "outputId": "6773b4e8-45bc-449f-cdc4-6ce43a5ba00c"
      },
      "source": [
        "a = ['hey', 'ho', \"let's\", \"go\"]\n",
        "b = [1, 2, 3, 4]\n",
        "c = ['a', 'b', 'c', 'd']\n",
        "e = { k: list(v) for k, v in zip(a, zip(b, c)) }\n",
        "print(e)"
      ],
      "execution_count": 10,
      "outputs": [
        {
          "output_type": "stream",
          "text": [
            "{'hey': [1, 'a'], 'ho': [2, 'b'], \"let's\": [3, 'c'], 'go': [4, 'd']}\n"
          ],
          "name": "stdout"
        }
      ]
    },
    {
      "cell_type": "code",
      "metadata": {
        "colab": {
          "base_uri": "https://localhost:8080/"
        },
        "id": "IjeRjLPWIgFO",
        "outputId": "3db010b4-d02a-4822-c3f1-53af11c848f8"
      },
      "source": [
        "a = ['hey', 'ho', \"let's\", \"go\"]\n",
        "b = [1, 2, 3, 4]\n",
        "c = ['a', 'b', 'c', 'd']\n",
        "d = dict(zip(a, map(list, zip(b, c))))\n",
        "print(d)"
      ],
      "execution_count": 11,
      "outputs": [
        {
          "output_type": "stream",
          "text": [
            "{'hey': [1, 'a'], 'ho': [2, 'b'], \"let's\": [3, 'c'], 'go': [4, 'd']}\n"
          ],
          "name": "stdout"
        }
      ]
    }
  ]
}