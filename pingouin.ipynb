{
  "nbformat": 4,
  "nbformat_minor": 0,
  "metadata": {
    "colab": {
      "name": "pingouin.ipynb",
      "provenance": [],
      "authorship_tag": "ABX9TyNFwCqc7zu6duKCsk0nHigR"
    },
    "kernelspec": {
      "name": "python3",
      "display_name": "Python 3"
    }
  },
  "cells": [
    {
      "cell_type": "markdown",
      "metadata": {
        "id": "HV6ioF9WWtpK",
        "colab_type": "text"
      },
      "source": [
        "[Reference](https://pingouin-stats.org)"
      ]
    },
    {
      "cell_type": "code",
      "metadata": {
        "id": "3NRADTdpWsvc",
        "colab_type": "code",
        "colab": {
          "base_uri": "https://localhost:8080/",
          "height": 802
        },
        "outputId": "f1cec1b6-8134-40e7-b5e3-5f8f48e06b0b"
      },
      "source": [
        "!pip install pingouin"
      ],
      "execution_count": 1,
      "outputs": [
        {
          "output_type": "stream",
          "text": [
            "Collecting pingouin\n",
            "\u001b[?25l  Downloading https://files.pythonhosted.org/packages/83/b2/1070c2723937a443929c12ed9ef85cc56de6222b2e0697cc24ee65b14113/pingouin-0.3.6.tar.gz (219kB)\n",
            "\r\u001b[K     |█▌                              | 10kB 17.5MB/s eta 0:00:01\r\u001b[K     |███                             | 20kB 1.7MB/s eta 0:00:01\r\u001b[K     |████▌                           | 30kB 2.2MB/s eta 0:00:01\r\u001b[K     |██████                          | 40kB 2.3MB/s eta 0:00:01\r\u001b[K     |███████▌                        | 51kB 1.9MB/s eta 0:00:01\r\u001b[K     |█████████                       | 61kB 2.2MB/s eta 0:00:01\r\u001b[K     |██████████▌                     | 71kB 2.4MB/s eta 0:00:01\r\u001b[K     |████████████                    | 81kB 2.6MB/s eta 0:00:01\r\u001b[K     |█████████████▍                  | 92kB 2.8MB/s eta 0:00:01\r\u001b[K     |███████████████                 | 102kB 2.7MB/s eta 0:00:01\r\u001b[K     |████████████████▍               | 112kB 2.7MB/s eta 0:00:01\r\u001b[K     |██████████████████              | 122kB 2.7MB/s eta 0:00:01\r\u001b[K     |███████████████████▍            | 133kB 2.7MB/s eta 0:00:01\r\u001b[K     |█████████████████████           | 143kB 2.7MB/s eta 0:00:01\r\u001b[K     |██████████████████████▍         | 153kB 2.7MB/s eta 0:00:01\r\u001b[K     |████████████████████████        | 163kB 2.7MB/s eta 0:00:01\r\u001b[K     |█████████████████████████▍      | 174kB 2.7MB/s eta 0:00:01\r\u001b[K     |██████████████████████████▉     | 184kB 2.7MB/s eta 0:00:01\r\u001b[K     |████████████████████████████▍   | 194kB 2.7MB/s eta 0:00:01\r\u001b[K     |█████████████████████████████▉  | 204kB 2.7MB/s eta 0:00:01\r\u001b[K     |███████████████████████████████▍| 215kB 2.7MB/s eta 0:00:01\r\u001b[K     |████████████████████████████████| 225kB 2.7MB/s \n",
            "\u001b[?25hRequirement already satisfied: numpy>=1.15 in /usr/local/lib/python3.6/dist-packages (from pingouin) (1.18.5)\n",
            "Requirement already satisfied: scipy>=1.3 in /usr/local/lib/python3.6/dist-packages (from pingouin) (1.4.1)\n",
            "Requirement already satisfied: pandas>=0.24 in /usr/local/lib/python3.6/dist-packages (from pingouin) (1.0.5)\n",
            "Requirement already satisfied: matplotlib>=3.0.2 in /usr/local/lib/python3.6/dist-packages (from pingouin) (3.2.2)\n",
            "Requirement already satisfied: seaborn>=0.9.0 in /usr/local/lib/python3.6/dist-packages (from pingouin) (0.10.1)\n",
            "Requirement already satisfied: statsmodels>=0.10.0 in /usr/local/lib/python3.6/dist-packages (from pingouin) (0.10.2)\n",
            "Requirement already satisfied: scikit-learn in /usr/local/lib/python3.6/dist-packages (from pingouin) (0.22.2.post1)\n",
            "Collecting pandas_flavor>=0.1.2\n",
            "  Downloading https://files.pythonhosted.org/packages/9a/57/7fbcff4c0961ed190ac5fcb0bd8194152ee1ee6487edf64fdbae16e2bc4b/pandas_flavor-0.2.0-py2.py3-none-any.whl\n",
            "Collecting outdated\n",
            "  Downloading https://files.pythonhosted.org/packages/86/70/2f166266438a30e94140f00c99c0eac1c45807981052a1d4c123660e1323/outdated-0.2.0.tar.gz\n",
            "Requirement already satisfied: tabulate in /usr/local/lib/python3.6/dist-packages (from pingouin) (0.8.7)\n",
            "Requirement already satisfied: pytz>=2017.2 in /usr/local/lib/python3.6/dist-packages (from pandas>=0.24->pingouin) (2018.9)\n",
            "Requirement already satisfied: python-dateutil>=2.6.1 in /usr/local/lib/python3.6/dist-packages (from pandas>=0.24->pingouin) (2.8.1)\n",
            "Requirement already satisfied: cycler>=0.10 in /usr/local/lib/python3.6/dist-packages (from matplotlib>=3.0.2->pingouin) (0.10.0)\n",
            "Requirement already satisfied: kiwisolver>=1.0.1 in /usr/local/lib/python3.6/dist-packages (from matplotlib>=3.0.2->pingouin) (1.2.0)\n",
            "Requirement already satisfied: pyparsing!=2.0.4,!=2.1.2,!=2.1.6,>=2.0.1 in /usr/local/lib/python3.6/dist-packages (from matplotlib>=3.0.2->pingouin) (2.4.7)\n",
            "Requirement already satisfied: patsy>=0.4.0 in /usr/local/lib/python3.6/dist-packages (from statsmodels>=0.10.0->pingouin) (0.5.1)\n",
            "Requirement already satisfied: joblib>=0.11 in /usr/local/lib/python3.6/dist-packages (from scikit-learn->pingouin) (0.16.0)\n",
            "Requirement already satisfied: xarray in /usr/local/lib/python3.6/dist-packages (from pandas_flavor>=0.1.2->pingouin) (0.15.1)\n",
            "Collecting littleutils\n",
            "  Downloading https://files.pythonhosted.org/packages/4e/b1/bb4e06f010947d67349f863b6a2ad71577f85590180a935f60543f622652/littleutils-0.2.2.tar.gz\n",
            "Requirement already satisfied: requests in /usr/local/lib/python3.6/dist-packages (from outdated->pingouin) (2.23.0)\n",
            "Requirement already satisfied: six>=1.5 in /usr/local/lib/python3.6/dist-packages (from python-dateutil>=2.6.1->pandas>=0.24->pingouin) (1.12.0)\n",
            "Requirement already satisfied: setuptools>=41.2 in /usr/local/lib/python3.6/dist-packages (from xarray->pandas_flavor>=0.1.2->pingouin) (49.1.0)\n",
            "Requirement already satisfied: idna<3,>=2.5 in /usr/local/lib/python3.6/dist-packages (from requests->outdated->pingouin) (2.10)\n",
            "Requirement already satisfied: urllib3!=1.25.0,!=1.25.1,<1.26,>=1.21.1 in /usr/local/lib/python3.6/dist-packages (from requests->outdated->pingouin) (1.24.3)\n",
            "Requirement already satisfied: chardet<4,>=3.0.2 in /usr/local/lib/python3.6/dist-packages (from requests->outdated->pingouin) (3.0.4)\n",
            "Requirement already satisfied: certifi>=2017.4.17 in /usr/local/lib/python3.6/dist-packages (from requests->outdated->pingouin) (2020.6.20)\n",
            "Building wheels for collected packages: pingouin, outdated, littleutils\n",
            "  Building wheel for pingouin (setup.py) ... \u001b[?25l\u001b[?25hdone\n",
            "  Created wheel for pingouin: filename=pingouin-0.3.6-cp36-none-any.whl size=217880 sha256=223f0a6429be42eb8ff0be64287c03d104fc12d0f9ccad7b64320e37654d09e6\n",
            "  Stored in directory: /root/.cache/pip/wheels/0f/12/3e/c50f18f38eaf437b927b567ac6615215fdf75fe58890d32276\n",
            "  Building wheel for outdated (setup.py) ... \u001b[?25l\u001b[?25hdone\n",
            "  Created wheel for outdated: filename=outdated-0.2.0-cp36-none-any.whl size=4962 sha256=2e1ab1c970658331f7edcd580b0763bc87829e84924b45785aec7370f4c272b9\n",
            "  Stored in directory: /root/.cache/pip/wheels/fd/7c/ef/814f514d31197310872b5abf353feb8fef9d67ee658e1e7e39\n",
            "  Building wheel for littleutils (setup.py) ... \u001b[?25l\u001b[?25hdone\n",
            "  Created wheel for littleutils: filename=littleutils-0.2.2-cp36-none-any.whl size=7049 sha256=8775e782f7608859b4a38c5b6eb6bc1879aa81cacf1bd4d58e77bb743ef3db30\n",
            "  Stored in directory: /root/.cache/pip/wheels/53/16/9f/ac67d15c40243754fd73f620e1b9b6dedc20492ecc19a2bae1\n",
            "Successfully built pingouin outdated littleutils\n",
            "Installing collected packages: pandas-flavor, littleutils, outdated, pingouin\n",
            "Successfully installed littleutils-0.2.2 outdated-0.2.0 pandas-flavor-0.2.0 pingouin-0.3.6\n"
          ],
          "name": "stdout"
        }
      ]
    },
    {
      "cell_type": "markdown",
      "metadata": {
        "id": "Qc98VtXZW3eU",
        "colab_type": "text"
      },
      "source": [
        "# 1. T-test"
      ]
    },
    {
      "cell_type": "code",
      "metadata": {
        "id": "w5zUtka3W1an",
        "colab_type": "code",
        "colab": {
          "base_uri": "https://localhost:8080/",
          "height": 134
        },
        "outputId": "ffd14e14-4144-434d-8c2a-c42b0a18e506"
      },
      "source": [
        "import numpy as np\n",
        "import pingouin as pg\n",
        "\n",
        "np.random.seed(123)\n",
        "mean, cov, n = [4, 5], [(1, .6), (.6, 1)], 30\n",
        "x, y = np.random.multivariate_normal(mean, cov, n).T\n",
        "\n",
        "# T-test\n",
        "pg.ttest(x, y)"
      ],
      "execution_count": 2,
      "outputs": [
        {
          "output_type": "stream",
          "text": [
            "/usr/local/lib/python3.6/dist-packages/statsmodels/tools/_testing.py:19: FutureWarning: pandas.util.testing is deprecated. Use the functions in the public API at pandas.testing instead.\n",
            "  import pandas.util.testing as tm\n"
          ],
          "name": "stderr"
        },
        {
          "output_type": "execute_result",
          "data": {
            "text/html": [
              "<div>\n",
              "<style scoped>\n",
              "    .dataframe tbody tr th:only-of-type {\n",
              "        vertical-align: middle;\n",
              "    }\n",
              "\n",
              "    .dataframe tbody tr th {\n",
              "        vertical-align: top;\n",
              "    }\n",
              "\n",
              "    .dataframe thead th {\n",
              "        text-align: right;\n",
              "    }\n",
              "</style>\n",
              "<table border=\"1\" class=\"dataframe\">\n",
              "  <thead>\n",
              "    <tr style=\"text-align: right;\">\n",
              "      <th></th>\n",
              "      <th>T</th>\n",
              "      <th>dof</th>\n",
              "      <th>tail</th>\n",
              "      <th>p-val</th>\n",
              "      <th>CI95%</th>\n",
              "      <th>cohen-d</th>\n",
              "      <th>BF10</th>\n",
              "      <th>power</th>\n",
              "    </tr>\n",
              "  </thead>\n",
              "  <tbody>\n",
              "    <tr>\n",
              "      <th>T-test</th>\n",
              "      <td>-3.400706</td>\n",
              "      <td>58</td>\n",
              "      <td>two-sided</td>\n",
              "      <td>0.001222</td>\n",
              "      <td>[-1.68, -0.43]</td>\n",
              "      <td>0.878059</td>\n",
              "      <td>26.155</td>\n",
              "      <td>0.916807</td>\n",
              "    </tr>\n",
              "  </tbody>\n",
              "</table>\n",
              "</div>"
            ],
            "text/plain": [
              "               T  dof       tail  ...   cohen-d    BF10     power\n",
              "T-test -3.400706   58  two-sided  ...  0.878059  26.155  0.916807\n",
              "\n",
              "[1 rows x 8 columns]"
            ]
          },
          "metadata": {
            "tags": []
          },
          "execution_count": 2
        }
      ]
    },
    {
      "cell_type": "markdown",
      "metadata": {
        "id": "VoiOyTlHW6wh",
        "colab_type": "text"
      },
      "source": [
        "# 2. Pearson’s correlation"
      ]
    },
    {
      "cell_type": "code",
      "metadata": {
        "id": "sKuWWRebW5M3",
        "colab_type": "code",
        "colab": {
          "base_uri": "https://localhost:8080/",
          "height": 80
        },
        "outputId": "77b4a467-e421-4e7b-d402-9a9875cbb30e"
      },
      "source": [
        "pg.corr(x, y)"
      ],
      "execution_count": 3,
      "outputs": [
        {
          "output_type": "execute_result",
          "data": {
            "text/html": [
              "<div>\n",
              "<style scoped>\n",
              "    .dataframe tbody tr th:only-of-type {\n",
              "        vertical-align: middle;\n",
              "    }\n",
              "\n",
              "    .dataframe tbody tr th {\n",
              "        vertical-align: top;\n",
              "    }\n",
              "\n",
              "    .dataframe thead th {\n",
              "        text-align: right;\n",
              "    }\n",
              "</style>\n",
              "<table border=\"1\" class=\"dataframe\">\n",
              "  <thead>\n",
              "    <tr style=\"text-align: right;\">\n",
              "      <th></th>\n",
              "      <th>n</th>\n",
              "      <th>r</th>\n",
              "      <th>CI95%</th>\n",
              "      <th>r2</th>\n",
              "      <th>adj_r2</th>\n",
              "      <th>p-val</th>\n",
              "      <th>BF10</th>\n",
              "      <th>power</th>\n",
              "    </tr>\n",
              "  </thead>\n",
              "  <tbody>\n",
              "    <tr>\n",
              "      <th>pearson</th>\n",
              "      <td>30</td>\n",
              "      <td>0.594785</td>\n",
              "      <td>[0.3, 0.79]</td>\n",
              "      <td>0.353769</td>\n",
              "      <td>0.3059</td>\n",
              "      <td>0.000527</td>\n",
              "      <td>69.723</td>\n",
              "      <td>0.950373</td>\n",
              "    </tr>\n",
              "  </tbody>\n",
              "</table>\n",
              "</div>"
            ],
            "text/plain": [
              "          n         r        CI95%  ...     p-val    BF10     power\n",
              "pearson  30  0.594785  [0.3, 0.79]  ...  0.000527  69.723  0.950373\n",
              "\n",
              "[1 rows x 8 columns]"
            ]
          },
          "metadata": {
            "tags": []
          },
          "execution_count": 3
        }
      ]
    },
    {
      "cell_type": "markdown",
      "metadata": {
        "id": "PEugaPGoW-OQ",
        "colab_type": "text"
      },
      "source": [
        "# 3. Robust correlation"
      ]
    },
    {
      "cell_type": "code",
      "metadata": {
        "id": "PGYgc-8NW8zy",
        "colab_type": "code",
        "colab": {
          "base_uri": "https://localhost:8080/",
          "height": 80
        },
        "outputId": "9dc735cf-5af5-483b-e542-c75a54e8d15a"
      },
      "source": [
        "# Introduce an outlier\n",
        "x[5] = 18\n",
        "# Use the robust Shepherd's pi correlation\n",
        "pg.corr(x, y, method=\"shepherd\")"
      ],
      "execution_count": 4,
      "outputs": [
        {
          "output_type": "execute_result",
          "data": {
            "text/html": [
              "<div>\n",
              "<style scoped>\n",
              "    .dataframe tbody tr th:only-of-type {\n",
              "        vertical-align: middle;\n",
              "    }\n",
              "\n",
              "    .dataframe tbody tr th {\n",
              "        vertical-align: top;\n",
              "    }\n",
              "\n",
              "    .dataframe thead th {\n",
              "        text-align: right;\n",
              "    }\n",
              "</style>\n",
              "<table border=\"1\" class=\"dataframe\">\n",
              "  <thead>\n",
              "    <tr style=\"text-align: right;\">\n",
              "      <th></th>\n",
              "      <th>n</th>\n",
              "      <th>outliers</th>\n",
              "      <th>r</th>\n",
              "      <th>CI95%</th>\n",
              "      <th>r2</th>\n",
              "      <th>adj_r2</th>\n",
              "      <th>p-val</th>\n",
              "      <th>power</th>\n",
              "    </tr>\n",
              "  </thead>\n",
              "  <tbody>\n",
              "    <tr>\n",
              "      <th>shepherd</th>\n",
              "      <td>30</td>\n",
              "      <td>1</td>\n",
              "      <td>0.561084</td>\n",
              "      <td>[0.25, 0.77]</td>\n",
              "      <td>0.314815</td>\n",
              "      <td>0.264061</td>\n",
              "      <td>0.001543</td>\n",
              "      <td>0.916576</td>\n",
              "    </tr>\n",
              "  </tbody>\n",
              "</table>\n",
              "</div>"
            ],
            "text/plain": [
              "           n  outliers         r  ...    adj_r2     p-val     power\n",
              "shepherd  30         1  0.561084  ...  0.264061  0.001543  0.916576\n",
              "\n",
              "[1 rows x 8 columns]"
            ]
          },
          "metadata": {
            "tags": []
          },
          "execution_count": 4
        }
      ]
    },
    {
      "cell_type": "markdown",
      "metadata": {
        "id": "FNm-DA2FXDSy",
        "colab_type": "text"
      },
      "source": [
        "# 4. Test the normality of the data"
      ]
    },
    {
      "cell_type": "code",
      "metadata": {
        "id": "PB1XflruXAGB",
        "colab_type": "code",
        "colab": {
          "base_uri": "https://localhost:8080/",
          "height": 68
        },
        "outputId": "d1c1d202-1486-449c-ec22-64c938d715da"
      },
      "source": [
        "print(pg.normality(x))                                    # Univariate normality\n",
        "print(pg.multivariate_normality(np.column_stack((x, y)))) # Multivariate normality"
      ],
      "execution_count": 5,
      "outputs": [
        {
          "output_type": "stream",
          "text": [
            "          W          pval  normal\n",
            "0  0.615321  1.128503e-07   False\n",
            "(False, 0.00018201726664169923)\n"
          ],
          "name": "stdout"
        }
      ]
    },
    {
      "cell_type": "markdown",
      "metadata": {
        "id": "-Yv9BU0tXHAd",
        "colab_type": "text"
      },
      "source": [
        "# 5. Q-Q plot"
      ]
    },
    {
      "cell_type": "code",
      "metadata": {
        "id": "iin9_KDUXFVi",
        "colab_type": "code",
        "colab": {
          "base_uri": "https://localhost:8080/",
          "height": 295
        },
        "outputId": "91f41a6a-4ba6-423f-e1d5-8776ad0c728c"
      },
      "source": [
        "import numpy as np\n",
        "import pingouin as pg\n",
        "np.random.seed(123)\n",
        "x = np.random.normal(size=50)\n",
        "ax = pg.qqplot(x, dist='norm')"
      ],
      "execution_count": 6,
      "outputs": [
        {
          "output_type": "display_data",
          "data": {
            "image/png": "[encoded data removed]",
            "text/plain": [
              "<Figure size 360x288 with 1 Axes>"
            ]
          },
          "metadata": {
            "tags": [],
            "needs_background": "light"
          }
        }
      ]
    },
    {
      "cell_type": "markdown",
      "metadata": {
        "id": "f_Lnm3KbXKWU",
        "colab_type": "text"
      },
      "source": [
        "# 6. One-way ANOVA using a pandas DataFrame"
      ]
    },
    {
      "cell_type": "code",
      "metadata": {
        "id": "Hacc7aiiXKAU",
        "colab_type": "code",
        "colab": {
          "base_uri": "https://localhost:8080/",
          "height": 68
        },
        "outputId": "ce97f910-1ec0-49df-ea55-22453901651a"
      },
      "source": [
        "# Read an example dataset\n",
        "df = pg.read_dataset('mixed_anova')\n",
        "\n",
        "# Run the ANOVA\n",
        "aov = pg.anova(data=df, dv='Scores', between='Group', detailed=True)\n",
        "print(aov)"
      ],
      "execution_count": 7,
      "outputs": [
        {
          "output_type": "stream",
          "text": [
            "   Source          SS   DF        MS         F   p-unc       np2\n",
            "0   Group    5.459963    1  5.459963  5.243656  0.0232  0.028616\n",
            "1  Within  185.342729  178  1.041251       NaN     NaN       NaN\n"
          ],
          "name": "stdout"
        }
      ]
    },
    {
      "cell_type": "markdown",
      "metadata": {
        "id": "StTKfQ4nXOL9",
        "colab_type": "text"
      },
      "source": [
        "# 7. Repeated measures ANOVA"
      ]
    },
    {
      "cell_type": "code",
      "metadata": {
        "id": "VpK0TYeTXIxq",
        "colab_type": "code",
        "colab": {
          "base_uri": "https://localhost:8080/",
          "height": 111
        },
        "outputId": "68abaaae-8efa-458b-d2db-62c060ea510f"
      },
      "source": [
        "pg.rm_anova(data=df, dv='Scores', within='Time', subject='Subject', detailed=True)"
      ],
      "execution_count": 8,
      "outputs": [
        {
          "output_type": "execute_result",
          "data": {
            "text/html": [
              "<div>\n",
              "<style scoped>\n",
              "    .dataframe tbody tr th:only-of-type {\n",
              "        vertical-align: middle;\n",
              "    }\n",
              "\n",
              "    .dataframe tbody tr th {\n",
              "        vertical-align: top;\n",
              "    }\n",
              "\n",
              "    .dataframe thead th {\n",
              "        text-align: right;\n",
              "    }\n",
              "</style>\n",
              "<table border=\"1\" class=\"dataframe\">\n",
              "  <thead>\n",
              "    <tr style=\"text-align: right;\">\n",
              "      <th></th>\n",
              "      <th>Source</th>\n",
              "      <th>SS</th>\n",
              "      <th>DF</th>\n",
              "      <th>MS</th>\n",
              "      <th>F</th>\n",
              "      <th>p-unc</th>\n",
              "      <th>np2</th>\n",
              "      <th>eps</th>\n",
              "    </tr>\n",
              "  </thead>\n",
              "  <tbody>\n",
              "    <tr>\n",
              "      <th>0</th>\n",
              "      <td>Time</td>\n",
              "      <td>7.628428</td>\n",
              "      <td>2</td>\n",
              "      <td>3.814214</td>\n",
              "      <td>3.912796</td>\n",
              "      <td>0.022629</td>\n",
              "      <td>0.062194</td>\n",
              "      <td>0.998751</td>\n",
              "    </tr>\n",
              "    <tr>\n",
              "      <th>1</th>\n",
              "      <td>Error</td>\n",
              "      <td>115.027023</td>\n",
              "      <td>118</td>\n",
              "      <td>0.974805</td>\n",
              "      <td>NaN</td>\n",
              "      <td>NaN</td>\n",
              "      <td>NaN</td>\n",
              "      <td>NaN</td>\n",
              "    </tr>\n",
              "  </tbody>\n",
              "</table>\n",
              "</div>"
            ],
            "text/plain": [
              "  Source          SS   DF        MS         F     p-unc       np2       eps\n",
              "0   Time    7.628428    2  3.814214  3.912796  0.022629  0.062194  0.998751\n",
              "1  Error  115.027023  118  0.974805       NaN       NaN       NaN       NaN"
            ]
          },
          "metadata": {
            "tags": []
          },
          "execution_count": 8
        }
      ]
    },
    {
      "cell_type": "markdown",
      "metadata": {
        "id": "nl5CHJRZXRS3",
        "colab_type": "text"
      },
      "source": [
        "# 8. Post-hoc tests corrected for multiple-comparisons\n"
      ]
    },
    {
      "cell_type": "code",
      "metadata": {
        "id": "S4krU-xmXP2z",
        "colab_type": "code",
        "colab": {
          "base_uri": "https://localhost:8080/",
          "height": 204
        },
        "outputId": "c1f71236-bd5e-4904-f57a-936c49a4c9d6"
      },
      "source": [
        "# FDR-corrected post hocs with Hedges'g effect size\n",
        "posthoc = pg.pairwise_ttests(data=df, dv='Scores', within='Time', subject='Subject',\n",
        "                             parametric=True, padjust='fdr_bh', effsize='hedges')\n",
        "\n",
        "# Pretty printing of table\n",
        "pg.print_table(posthoc, floatfmt='.3f')"
      ],
      "execution_count": 9,
      "outputs": [
        {
          "output_type": "stream",
          "text": [
            "\n",
            "==============\n",
            "POST HOC TESTS\n",
            "==============\n",
            "\n",
            "Contrast    A        B        Paired    Parametric         T     dof  Tail         p-unc    p-corr  p-adjust      BF10    hedges\n",
            "----------  -------  -------  --------  ------------  ------  ------  ---------  -------  --------  ----------  ------  --------\n",
            "Time        August   January  True      True          -1.740  59.000  two-sided    0.087     0.131  fdr_bh       0.582    -0.328\n",
            "Time        August   June     True      True          -2.743  59.000  two-sided    0.008     0.024  fdr_bh       4.232    -0.483\n",
            "Time        January  June     True      True          -1.024  59.000  two-sided    0.310     0.310  fdr_bh       0.232    -0.170\n",
            "\n"
          ],
          "name": "stdout"
        }
      ]
    },
    {
      "cell_type": "markdown",
      "metadata": {
        "id": "BELxPxWFXUvM",
        "colab_type": "text"
      },
      "source": [
        "# 9. Two-way mixed ANOVA"
      ]
    },
    {
      "cell_type": "code",
      "metadata": {
        "id": "iG7VrOeqXTOM",
        "colab_type": "code",
        "colab": {
          "base_uri": "https://localhost:8080/",
          "height": 204
        },
        "outputId": "263072ac-dccc-4592-eb63-d587bbc174fe"
      },
      "source": [
        "# Compute the two-way mixed ANOVA and export to a .csv file\n",
        "aov = pg.mixed_anova(data=df, dv='Scores', between='Group', within='Time',\n",
        "                     subject='Subject', correction=False, effsize=\"np2\")\n",
        "pg.print_table(aov)"
      ],
      "execution_count": 10,
      "outputs": [
        {
          "output_type": "stream",
          "text": [
            "\n",
            "=============\n",
            "ANOVA SUMMARY\n",
            "=============\n",
            "\n",
            "Source          SS    DF1    DF2     MS      F    p-unc    np2      eps\n",
            "-----------  -----  -----  -----  -----  -----  -------  -----  -------\n",
            "Group        5.460      1     58  5.460  5.052    0.028  0.080  nan\n",
            "Time         7.628      2    116  3.814  4.027    0.020  0.065    0.999\n",
            "Interaction  5.167      2    116  2.584  2.728    0.070  0.045  nan\n",
            "\n"
          ],
          "name": "stdout"
        }
      ]
    },
    {
      "cell_type": "markdown",
      "metadata": {
        "id": "6ah-wgJgXXjw",
        "colab_type": "text"
      },
      "source": [
        "# 10. Pairwise correlations between columns of a dataframe"
      ]
    },
    {
      "cell_type": "code",
      "metadata": {
        "id": "3nduZuXvXjl1",
        "colab_type": "code",
        "colab": {
          "base_uri": "https://localhost:8080/",
          "height": 34
        },
        "outputId": "6f0557c7-69fb-41af-99cc-7836ab4580e8"
      },
      "source": [
        "x[:30].shape"
      ],
      "execution_count": 24,
      "outputs": [
        {
          "output_type": "execute_result",
          "data": {
            "text/plain": [
              "(30,)"
            ]
          },
          "metadata": {
            "tags": []
          },
          "execution_count": 24
        }
      ]
    },
    {
      "cell_type": "code",
      "metadata": {
        "id": "qqrT6SWGXllQ",
        "colab_type": "code",
        "colab": {
          "base_uri": "https://localhost:8080/",
          "height": 34
        },
        "outputId": "f7b78a5e-b5cc-4983-b9c0-e8f3115a3dad"
      },
      "source": [
        "y.shape"
      ],
      "execution_count": 13,
      "outputs": [
        {
          "output_type": "execute_result",
          "data": {
            "text/plain": [
              "(30,)"
            ]
          },
          "metadata": {
            "tags": []
          },
          "execution_count": 13
        }
      ]
    },
    {
      "cell_type": "code",
      "metadata": {
        "id": "MLXMEx1lXmT8",
        "colab_type": "code",
        "colab": {
          "base_uri": "https://localhost:8080/",
          "height": 34
        },
        "outputId": "0a661ed7-1940-4c69-a861-8bc90cbda3f3"
      },
      "source": [
        "z.shape"
      ],
      "execution_count": 14,
      "outputs": [
        {
          "output_type": "execute_result",
          "data": {
            "text/plain": [
              "(30,)"
            ]
          },
          "metadata": {
            "tags": []
          },
          "execution_count": 14
        }
      ]
    },
    {
      "cell_type": "code",
      "metadata": {
        "id": "YILqprxRXWJY",
        "colab_type": "code",
        "colab": {
          "base_uri": "https://localhost:8080/",
          "height": 142
        },
        "outputId": "1496fa86-7cc4-47cb-eef8-cb4d541b2bfa"
      },
      "source": [
        "import pandas as pd\n",
        "np.random.seed(123)\n",
        "z = np.random.normal(5, 1, 30)\n",
        "data = pd.DataFrame({'X': x[:30], 'Y': y, 'Z': z})\n",
        "pg.pairwise_corr(data, columns=['X', 'Y', 'Z'], method='pearson')"
      ],
      "execution_count": 25,
      "outputs": [
        {
          "output_type": "execute_result",
          "data": {
            "text/html": [
              "<div>\n",
              "<style scoped>\n",
              "    .dataframe tbody tr th:only-of-type {\n",
              "        vertical-align: middle;\n",
              "    }\n",
              "\n",
              "    .dataframe tbody tr th {\n",
              "        vertical-align: top;\n",
              "    }\n",
              "\n",
              "    .dataframe thead th {\n",
              "        text-align: right;\n",
              "    }\n",
              "</style>\n",
              "<table border=\"1\" class=\"dataframe\">\n",
              "  <thead>\n",
              "    <tr style=\"text-align: right;\">\n",
              "      <th></th>\n",
              "      <th>X</th>\n",
              "      <th>Y</th>\n",
              "      <th>method</th>\n",
              "      <th>tail</th>\n",
              "      <th>n</th>\n",
              "      <th>r</th>\n",
              "      <th>CI95%</th>\n",
              "      <th>r2</th>\n",
              "      <th>adj_r2</th>\n",
              "      <th>z</th>\n",
              "      <th>p-unc</th>\n",
              "      <th>BF10</th>\n",
              "      <th>power</th>\n",
              "    </tr>\n",
              "  </thead>\n",
              "  <tbody>\n",
              "    <tr>\n",
              "      <th>0</th>\n",
              "      <td>X</td>\n",
              "      <td>Y</td>\n",
              "      <td>pearson</td>\n",
              "      <td>two-sided</td>\n",
              "      <td>30</td>\n",
              "      <td>0.799382</td>\n",
              "      <td>[0.62, 0.9]</td>\n",
              "      <td>0.639011</td>\n",
              "      <td>0.612271</td>\n",
              "      <td>1.096897</td>\n",
              "      <td>1.171652e-07</td>\n",
              "      <td>1.415e+05</td>\n",
              "      <td>0.999930</td>\n",
              "    </tr>\n",
              "    <tr>\n",
              "      <th>1</th>\n",
              "      <td>X</td>\n",
              "      <td>Z</td>\n",
              "      <td>pearson</td>\n",
              "      <td>two-sided</td>\n",
              "      <td>30</td>\n",
              "      <td>0.075214</td>\n",
              "      <td>[-0.29, 0.42]</td>\n",
              "      <td>0.005657</td>\n",
              "      <td>-0.067998</td>\n",
              "      <td>0.075357</td>\n",
              "      <td>6.928276e-01</td>\n",
              "      <td>0.244</td>\n",
              "      <td>0.067738</td>\n",
              "    </tr>\n",
              "    <tr>\n",
              "      <th>2</th>\n",
              "      <td>Y</td>\n",
              "      <td>Z</td>\n",
              "      <td>pearson</td>\n",
              "      <td>two-sided</td>\n",
              "      <td>30</td>\n",
              "      <td>0.034116</td>\n",
              "      <td>[-0.33, 0.39]</td>\n",
              "      <td>0.001164</td>\n",
              "      <td>-0.072824</td>\n",
              "      <td>0.034129</td>\n",
              "      <td>8.579587e-01</td>\n",
              "      <td>0.23</td>\n",
              "      <td>0.053200</td>\n",
              "    </tr>\n",
              "  </tbody>\n",
              "</table>\n",
              "</div>"
            ],
            "text/plain": [
              "   X  Y   method       tail  ...         z         p-unc       BF10     power\n",
              "0  X  Y  pearson  two-sided  ...  1.096897  1.171652e-07  1.415e+05  0.999930\n",
              "1  X  Z  pearson  two-sided  ...  0.075357  6.928276e-01      0.244  0.067738\n",
              "2  Y  Z  pearson  two-sided  ...  0.034129  8.579587e-01       0.23  0.053200\n",
              "\n",
              "[3 rows x 13 columns]"
            ]
          },
          "metadata": {
            "tags": []
          },
          "execution_count": 25
        }
      ]
    },
    {
      "cell_type": "markdown",
      "metadata": {
        "id": "hDn7FUPHXiIj",
        "colab_type": "text"
      },
      "source": [
        "# 11. Convert between effect sizes"
      ]
    },
    {
      "cell_type": "code",
      "metadata": {
        "id": "BB9w1oozXZkN",
        "colab_type": "code",
        "colab": {
          "base_uri": "https://localhost:8080/",
          "height": 34
        },
        "outputId": "927ed914-a6a4-4c31-875c-cccf035e9340"
      },
      "source": [
        "# Convert from Cohen's d to Hedges' g\n",
        "pg.convert_effsize(0.4, 'cohen', 'hedges', nx=10, ny=12)"
      ],
      "execution_count": 15,
      "outputs": [
        {
          "output_type": "execute_result",
          "data": {
            "text/plain": [
              "0.38481012658227853"
            ]
          },
          "metadata": {
            "tags": []
          },
          "execution_count": 15
        }
      ]
    },
    {
      "cell_type": "markdown",
      "metadata": {
        "id": "LKTQZR6nX0_8",
        "colab_type": "text"
      },
      "source": [
        "# 12. Multiple linear regression"
      ]
    },
    {
      "cell_type": "code",
      "metadata": {
        "id": "iwtVRPfIXzjp",
        "colab_type": "code",
        "colab": {
          "base_uri": "https://localhost:8080/",
          "height": 142
        },
        "outputId": "b7622b68-ae2b-4e45-ff70-66ec4f818306"
      },
      "source": [
        "pg.linear_regression(data[['X', 'Z']], data['Y'])"
      ],
      "execution_count": 26,
      "outputs": [
        {
          "output_type": "execute_result",
          "data": {
            "text/html": [
              "<div>\n",
              "<style scoped>\n",
              "    .dataframe tbody tr th:only-of-type {\n",
              "        vertical-align: middle;\n",
              "    }\n",
              "\n",
              "    .dataframe tbody tr th {\n",
              "        vertical-align: top;\n",
              "    }\n",
              "\n",
              "    .dataframe thead th {\n",
              "        text-align: right;\n",
              "    }\n",
              "</style>\n",
              "<table border=\"1\" class=\"dataframe\">\n",
              "  <thead>\n",
              "    <tr style=\"text-align: right;\">\n",
              "      <th></th>\n",
              "      <th>names</th>\n",
              "      <th>coef</th>\n",
              "      <th>se</th>\n",
              "      <th>T</th>\n",
              "      <th>pval</th>\n",
              "      <th>r2</th>\n",
              "      <th>adj_r2</th>\n",
              "      <th>CI[2.5%]</th>\n",
              "      <th>CI[97.5%]</th>\n",
              "    </tr>\n",
              "  </thead>\n",
              "  <tbody>\n",
              "    <tr>\n",
              "      <th>0</th>\n",
              "      <td>Intercept</td>\n",
              "      <td>4.231141</td>\n",
              "      <td>1.093183</td>\n",
              "      <td>3.870479</td>\n",
              "      <td>6.228210e-04</td>\n",
              "      <td>0.639691</td>\n",
              "      <td>0.613002</td>\n",
              "      <td>1.988115</td>\n",
              "      <td>6.474166</td>\n",
              "    </tr>\n",
              "    <tr>\n",
              "      <th>1</th>\n",
              "      <td>X</td>\n",
              "      <td>0.688725</td>\n",
              "      <td>0.099566</td>\n",
              "      <td>6.917262</td>\n",
              "      <td>1.964416e-07</td>\n",
              "      <td>0.639691</td>\n",
              "      <td>0.613002</td>\n",
              "      <td>0.484432</td>\n",
              "      <td>0.893017</td>\n",
              "    </tr>\n",
              "    <tr>\n",
              "      <th>2</th>\n",
              "      <td>Z</td>\n",
              "      <td>-0.024327</td>\n",
              "      <td>0.107746</td>\n",
              "      <td>-0.225786</td>\n",
              "      <td>8.230683e-01</td>\n",
              "      <td>0.639691</td>\n",
              "      <td>0.613002</td>\n",
              "      <td>-0.245404</td>\n",
              "      <td>0.196749</td>\n",
              "    </tr>\n",
              "  </tbody>\n",
              "</table>\n",
              "</div>"
            ],
            "text/plain": [
              "       names      coef        se  ...    adj_r2  CI[2.5%]  CI[97.5%]\n",
              "0  Intercept  4.231141  1.093183  ...  0.613002  1.988115   6.474166\n",
              "1          X  0.688725  0.099566  ...  0.613002  0.484432   0.893017\n",
              "2          Z -0.024327  0.107746  ...  0.613002 -0.245404   0.196749\n",
              "\n",
              "[3 rows x 9 columns]"
            ]
          },
          "metadata": {
            "tags": []
          },
          "execution_count": 26
        }
      ]
    },
    {
      "cell_type": "markdown",
      "metadata": {
        "id": "h9bHETtkX5IS",
        "colab_type": "text"
      },
      "source": [
        "# 13. Mediation analysis"
      ]
    },
    {
      "cell_type": "code",
      "metadata": {
        "id": "Uy09aSvEX2Q8",
        "colab_type": "code",
        "colab": {
          "base_uri": "https://localhost:8080/",
          "height": 204
        },
        "outputId": "4d3e3b64-35a9-4d85-df3a-ae40e01ffcea"
      },
      "source": [
        "pg.mediation_analysis(data=data, x='X', m='Z', y='Y', seed=42, n_boot=1000)"
      ],
      "execution_count": 27,
      "outputs": [
        {
          "output_type": "execute_result",
          "data": {
            "text/html": [
              "<div>\n",
              "<style scoped>\n",
              "    .dataframe tbody tr th:only-of-type {\n",
              "        vertical-align: middle;\n",
              "    }\n",
              "\n",
              "    .dataframe tbody tr th {\n",
              "        vertical-align: top;\n",
              "    }\n",
              "\n",
              "    .dataframe thead th {\n",
              "        text-align: right;\n",
              "    }\n",
              "</style>\n",
              "<table border=\"1\" class=\"dataframe\">\n",
              "  <thead>\n",
              "    <tr style=\"text-align: right;\">\n",
              "      <th></th>\n",
              "      <th>path</th>\n",
              "      <th>coef</th>\n",
              "      <th>se</th>\n",
              "      <th>pval</th>\n",
              "      <th>CI[2.5%]</th>\n",
              "      <th>CI[97.5%]</th>\n",
              "      <th>sig</th>\n",
              "    </tr>\n",
              "  </thead>\n",
              "  <tbody>\n",
              "    <tr>\n",
              "      <th>0</th>\n",
              "      <td>Z ~ X</td>\n",
              "      <td>0.069504</td>\n",
              "      <td>0.174141</td>\n",
              "      <td>6.928276e-01</td>\n",
              "      <td>-0.287207</td>\n",
              "      <td>0.426215</td>\n",
              "      <td>No</td>\n",
              "    </tr>\n",
              "    <tr>\n",
              "      <th>1</th>\n",
              "      <td>Y ~ Z</td>\n",
              "      <td>0.031730</td>\n",
              "      <td>0.175663</td>\n",
              "      <td>8.579587e-01</td>\n",
              "      <td>-0.328100</td>\n",
              "      <td>0.391560</td>\n",
              "      <td>No</td>\n",
              "    </tr>\n",
              "    <tr>\n",
              "      <th>2</th>\n",
              "      <td>Total</td>\n",
              "      <td>0.687034</td>\n",
              "      <td>0.097587</td>\n",
              "      <td>1.171652e-07</td>\n",
              "      <td>0.487136</td>\n",
              "      <td>0.886932</td>\n",
              "      <td>Yes</td>\n",
              "    </tr>\n",
              "    <tr>\n",
              "      <th>3</th>\n",
              "      <td>Direct</td>\n",
              "      <td>0.688725</td>\n",
              "      <td>0.099566</td>\n",
              "      <td>1.964416e-07</td>\n",
              "      <td>0.484432</td>\n",
              "      <td>0.893017</td>\n",
              "      <td>Yes</td>\n",
              "    </tr>\n",
              "    <tr>\n",
              "      <th>4</th>\n",
              "      <td>Indirect</td>\n",
              "      <td>-0.001691</td>\n",
              "      <td>0.024023</td>\n",
              "      <td>8.700000e-01</td>\n",
              "      <td>-0.083674</td>\n",
              "      <td>0.023995</td>\n",
              "      <td>No</td>\n",
              "    </tr>\n",
              "  </tbody>\n",
              "</table>\n",
              "</div>"
            ],
            "text/plain": [
              "       path      coef        se          pval  CI[2.5%]  CI[97.5%]  sig\n",
              "0     Z ~ X  0.069504  0.174141  6.928276e-01 -0.287207   0.426215   No\n",
              "1     Y ~ Z  0.031730  0.175663  8.579587e-01 -0.328100   0.391560   No\n",
              "2     Total  0.687034  0.097587  1.171652e-07  0.487136   0.886932  Yes\n",
              "3    Direct  0.688725  0.099566  1.964416e-07  0.484432   0.893017  Yes\n",
              "4  Indirect -0.001691  0.024023  8.700000e-01 -0.083674   0.023995   No"
            ]
          },
          "metadata": {
            "tags": []
          },
          "execution_count": 27
        }
      ]
    },
    {
      "cell_type": "markdown",
      "metadata": {
        "id": "NYTCTRCvX9Kl",
        "colab_type": "text"
      },
      "source": [
        "# 14. Contingency analysis"
      ]
    },
    {
      "cell_type": "code",
      "metadata": {
        "id": "OGFDZfV0X6h-",
        "colab_type": "code",
        "colab": {
          "base_uri": "https://localhost:8080/",
          "height": 235
        },
        "outputId": "9ad54e53-40b0-4eb1-e0df-60f7007fcfaa"
      },
      "source": [
        "data = pg.read_dataset('chi2_independence')\n",
        "expected, observed, stats = pg.chi2_independence(data, x='sex', y='target')\n",
        "stats"
      ],
      "execution_count": 18,
      "outputs": [
        {
          "output_type": "execute_result",
          "data": {
            "text/html": [
              "<div>\n",
              "<style scoped>\n",
              "    .dataframe tbody tr th:only-of-type {\n",
              "        vertical-align: middle;\n",
              "    }\n",
              "\n",
              "    .dataframe tbody tr th {\n",
              "        vertical-align: top;\n",
              "    }\n",
              "\n",
              "    .dataframe thead th {\n",
              "        text-align: right;\n",
              "    }\n",
              "</style>\n",
              "<table border=\"1\" class=\"dataframe\">\n",
              "  <thead>\n",
              "    <tr style=\"text-align: right;\">\n",
              "      <th></th>\n",
              "      <th>test</th>\n",
              "      <th>lambda</th>\n",
              "      <th>chi2</th>\n",
              "      <th>dof</th>\n",
              "      <th>p</th>\n",
              "      <th>cramer</th>\n",
              "      <th>power</th>\n",
              "    </tr>\n",
              "  </thead>\n",
              "  <tbody>\n",
              "    <tr>\n",
              "      <th>0</th>\n",
              "      <td>pearson</td>\n",
              "      <td>1.000000</td>\n",
              "      <td>22.717227</td>\n",
              "      <td>1.0</td>\n",
              "      <td>1.876778e-06</td>\n",
              "      <td>0.273814</td>\n",
              "      <td>0.997494</td>\n",
              "    </tr>\n",
              "    <tr>\n",
              "      <th>1</th>\n",
              "      <td>cressie-read</td>\n",
              "      <td>0.666667</td>\n",
              "      <td>22.931427</td>\n",
              "      <td>1.0</td>\n",
              "      <td>1.678845e-06</td>\n",
              "      <td>0.275102</td>\n",
              "      <td>0.997663</td>\n",
              "    </tr>\n",
              "    <tr>\n",
              "      <th>2</th>\n",
              "      <td>log-likelihood</td>\n",
              "      <td>0.000000</td>\n",
              "      <td>23.557374</td>\n",
              "      <td>1.0</td>\n",
              "      <td>1.212439e-06</td>\n",
              "      <td>0.278832</td>\n",
              "      <td>0.998096</td>\n",
              "    </tr>\n",
              "    <tr>\n",
              "      <th>3</th>\n",
              "      <td>freeman-tukey</td>\n",
              "      <td>-0.500000</td>\n",
              "      <td>24.219622</td>\n",
              "      <td>1.0</td>\n",
              "      <td>8.595211e-07</td>\n",
              "      <td>0.282724</td>\n",
              "      <td>0.998469</td>\n",
              "    </tr>\n",
              "    <tr>\n",
              "      <th>4</th>\n",
              "      <td>mod-log-likelihood</td>\n",
              "      <td>-1.000000</td>\n",
              "      <td>25.071078</td>\n",
              "      <td>1.0</td>\n",
              "      <td>5.525544e-07</td>\n",
              "      <td>0.287651</td>\n",
              "      <td>0.998845</td>\n",
              "    </tr>\n",
              "    <tr>\n",
              "      <th>5</th>\n",
              "      <td>neyman</td>\n",
              "      <td>-2.000000</td>\n",
              "      <td>27.457956</td>\n",
              "      <td>1.0</td>\n",
              "      <td>1.605471e-07</td>\n",
              "      <td>0.301032</td>\n",
              "      <td>0.999481</td>\n",
              "    </tr>\n",
              "  </tbody>\n",
              "</table>\n",
              "</div>"
            ],
            "text/plain": [
              "                 test    lambda       chi2  ...             p    cramer     power\n",
              "0             pearson  1.000000  22.717227  ...  1.876778e-06  0.273814  0.997494\n",
              "1        cressie-read  0.666667  22.931427  ...  1.678845e-06  0.275102  0.997663\n",
              "2      log-likelihood  0.000000  23.557374  ...  1.212439e-06  0.278832  0.998096\n",
              "3       freeman-tukey -0.500000  24.219622  ...  8.595211e-07  0.282724  0.998469\n",
              "4  mod-log-likelihood -1.000000  25.071078  ...  5.525544e-07  0.287651  0.998845\n",
              "5              neyman -2.000000  27.457956  ...  1.605471e-07  0.301032  0.999481\n",
              "\n",
              "[6 rows x 7 columns]"
            ]
          },
          "metadata": {
            "tags": []
          },
          "execution_count": 18
        }
      ]
    },
    {
      "cell_type": "markdown",
      "metadata": {
        "id": "n-wqiPYcYAXe",
        "colab_type": "text"
      },
      "source": [
        "# 15. Bland-Altman plot"
      ]
    },
    {
      "cell_type": "code",
      "metadata": {
        "id": "4W5X6rrRX_B4",
        "colab_type": "code",
        "colab": {
          "base_uri": "https://localhost:8080/",
          "height": 404
        },
        "outputId": "b0bd089a-700e-42d5-9d5d-58e1ed6581c9"
      },
      "source": [
        "import numpy as np\n",
        "import pingouin as pg\n",
        "np.random.seed(123)\n",
        "mean, cov = [10, 11], [[1, 0.8], [0.8, 1]]\n",
        "x, y = np.random.multivariate_normal(mean, cov, 30).T\n",
        "ax = pg.plot_blandaltman(x, y)"
      ],
      "execution_count": 19,
      "outputs": [
        {
          "output_type": "display_data",
          "data": {
            "image/png": "[encoded data removed]",
            "text/plain": [
              "<Figure size 500x400 with 1 Axes>"
            ]
          },
          "metadata": {
            "tags": [],
            "needs_background": "light"
          }
        }
      ]
    },
    {
      "cell_type": "markdown",
      "metadata": {
        "id": "_nWK79jJYDZb",
        "colab_type": "text"
      },
      "source": [
        "# 16. Plot achieved power of a paired T-test"
      ]
    },
    {
      "cell_type": "code",
      "metadata": {
        "id": "DWIv913sYB32",
        "colab_type": "code",
        "colab": {
          "base_uri": "https://localhost:8080/",
          "height": 306
        },
        "outputId": "8b00cddb-4fad-40e6-88f0-28188d7f9308"
      },
      "source": [
        "import matplotlib.pyplot as plt\n",
        "import seaborn as sns\n",
        "import pingouin as pg\n",
        "import numpy as np\n",
        "sns.set(style='ticks', context='notebook', font_scale=1.2)\n",
        "d = 0.5  # Fixed effect size\n",
        "n = np.arange(5, 80, 5)  # Incrementing sample size\n",
        "# Compute the achieved power\n",
        "pwr = pg.power_ttest(d=d, n=n, contrast='paired', tail='two-sided')\n",
        "# Start the plot\n",
        "plt.plot(n, pwr, 'ko-.')\n",
        "plt.axhline(0.8, color='r', ls=':')\n",
        "plt.xlabel('Sample size')\n",
        "plt.ylabel('Power (1 - type II error)')\n",
        "plt.title('Achieved power of a paired T-test')\n",
        "sns.despine()"
      ],
      "execution_count": 20,
      "outputs": [
        {
          "output_type": "display_data",
          "data": {
            "image/png": "[encoded data removed]",
            "text/plain": [
              "<Figure size 432x288 with 1 Axes>"
            ]
          },
          "metadata": {
            "tags": []
          }
        }
      ]
    },
    {
      "cell_type": "markdown",
      "metadata": {
        "id": "voqk_ZpQYHQH",
        "colab_type": "text"
      },
      "source": [
        "# 17. Paired plot"
      ]
    },
    {
      "cell_type": "code",
      "metadata": {
        "id": "4r3DAvJMYFpJ",
        "colab_type": "code",
        "colab": {
          "base_uri": "https://localhost:8080/",
          "height": 635
        },
        "outputId": "ef2f40c9-9e66-4a10-8f7b-d997891973e3"
      },
      "source": [
        "import pingouin as pg\n",
        "import numpy as np\n",
        "df = pg.read_dataset('mixed_anova').query(\"Group == 'Meditation' and Time != 'January'\")\n",
        "ax = pg.plot_paired(data=df, dv='Scores', within='Time', subject='Subject', dpi=150)\n",
        "ax.set_title(\"Effect of meditation on school performance\")"
      ],
      "execution_count": 21,
      "outputs": [
        {
          "output_type": "execute_result",
          "data": {
            "text/plain": [
              "Text(0.5, 1.0, 'Effect of meditation on school performance')"
            ]
          },
          "metadata": {
            "tags": []
          },
          "execution_count": 21
        },
        {
          "output_type": "display_data",
          "data": {
            "image/png": "[encoded data removed]",
            "text/plain": [
              "<Figure size 600x600 with 1 Axes>"
            ]
          },
          "metadata": {
            "tags": []
          }
        }
      ]
    },
    {
      "cell_type": "markdown",
      "metadata": {
        "id": "53Qmi3VaYKsR",
        "colab_type": "text"
      },
      "source": [
        "# Integration with Pandas"
      ]
    },
    {
      "cell_type": "code",
      "metadata": {
        "id": "e4-NVGWLYJcU",
        "colab_type": "code",
        "colab": {
          "base_uri": "https://localhost:8080/",
          "height": 266
        },
        "outputId": "5bb749e0-6e22-4480-9100-7a37ac1237df"
      },
      "source": [
        "import pingouin as pg\n",
        "\n",
        "# Example 1 | ANOVA\n",
        "df = pg.read_dataset('mixed_anova')\n",
        "df.anova(dv='Scores', between='Group', detailed=True)\n",
        "\n",
        "# Example 2 | Pairwise correlations\n",
        "data = pg.read_dataset('mediation')\n",
        "data.pairwise_corr(columns=['X', 'M', 'Y'], covar=['Mbin'])\n",
        "\n",
        "# Example 3 | Partial correlation matrix\n",
        "data.pcorr()"
      ],
      "execution_count": 22,
      "outputs": [
        {
          "output_type": "execute_result",
          "data": {
            "text/html": [
              "<div>\n",
              "<style scoped>\n",
              "    .dataframe tbody tr th:only-of-type {\n",
              "        vertical-align: middle;\n",
              "    }\n",
              "\n",
              "    .dataframe tbody tr th {\n",
              "        vertical-align: top;\n",
              "    }\n",
              "\n",
              "    .dataframe thead th {\n",
              "        text-align: right;\n",
              "    }\n",
              "</style>\n",
              "<table border=\"1\" class=\"dataframe\">\n",
              "  <thead>\n",
              "    <tr style=\"text-align: right;\">\n",
              "      <th></th>\n",
              "      <th>X</th>\n",
              "      <th>M</th>\n",
              "      <th>Y</th>\n",
              "      <th>Mbin</th>\n",
              "      <th>Ybin</th>\n",
              "      <th>W1</th>\n",
              "      <th>W2</th>\n",
              "    </tr>\n",
              "  </thead>\n",
              "  <tbody>\n",
              "    <tr>\n",
              "      <th>X</th>\n",
              "      <td>1.000000</td>\n",
              "      <td>0.359093</td>\n",
              "      <td>0.074315</td>\n",
              "      <td>-0.019338</td>\n",
              "      <td>-0.147393</td>\n",
              "      <td>-0.147963</td>\n",
              "      <td>-0.067496</td>\n",
              "    </tr>\n",
              "    <tr>\n",
              "      <th>M</th>\n",
              "      <td>0.359093</td>\n",
              "      <td>1.000000</td>\n",
              "      <td>0.555066</td>\n",
              "      <td>-0.023767</td>\n",
              "      <td>-0.111591</td>\n",
              "      <td>-0.137764</td>\n",
              "      <td>-0.175574</td>\n",
              "    </tr>\n",
              "    <tr>\n",
              "      <th>Y</th>\n",
              "      <td>0.074315</td>\n",
              "      <td>0.555066</td>\n",
              "      <td>1.000000</td>\n",
              "      <td>-0.001438</td>\n",
              "      <td>0.169494</td>\n",
              "      <td>0.100920</td>\n",
              "      <td>0.107903</td>\n",
              "    </tr>\n",
              "    <tr>\n",
              "      <th>Mbin</th>\n",
              "      <td>-0.019338</td>\n",
              "      <td>-0.023767</td>\n",
              "      <td>-0.001438</td>\n",
              "      <td>1.000000</td>\n",
              "      <td>-0.080233</td>\n",
              "      <td>-0.032491</td>\n",
              "      <td>-0.040473</td>\n",
              "    </tr>\n",
              "    <tr>\n",
              "      <th>Ybin</th>\n",
              "      <td>-0.147393</td>\n",
              "      <td>-0.111591</td>\n",
              "      <td>0.169494</td>\n",
              "      <td>-0.080233</td>\n",
              "      <td>1.000000</td>\n",
              "      <td>-0.000241</td>\n",
              "      <td>-0.139795</td>\n",
              "    </tr>\n",
              "    <tr>\n",
              "      <th>W1</th>\n",
              "      <td>-0.147963</td>\n",
              "      <td>-0.137764</td>\n",
              "      <td>0.100920</td>\n",
              "      <td>-0.032491</td>\n",
              "      <td>-0.000241</td>\n",
              "      <td>1.000000</td>\n",
              "      <td>-0.394354</td>\n",
              "    </tr>\n",
              "    <tr>\n",
              "      <th>W2</th>\n",
              "      <td>-0.067496</td>\n",
              "      <td>-0.175574</td>\n",
              "      <td>0.107903</td>\n",
              "      <td>-0.040473</td>\n",
              "      <td>-0.139795</td>\n",
              "      <td>-0.394354</td>\n",
              "      <td>1.000000</td>\n",
              "    </tr>\n",
              "  </tbody>\n",
              "</table>\n",
              "</div>"
            ],
            "text/plain": [
              "             X         M         Y      Mbin      Ybin        W1        W2\n",
              "X     1.000000  0.359093  0.074315 -0.019338 -0.147393 -0.147963 -0.067496\n",
              "M     0.359093  1.000000  0.555066 -0.023767 -0.111591 -0.137764 -0.175574\n",
              "Y     0.074315  0.555066  1.000000 -0.001438  0.169494  0.100920  0.107903\n",
              "Mbin -0.019338 -0.023767 -0.001438  1.000000 -0.080233 -0.032491 -0.040473\n",
              "Ybin -0.147393 -0.111591  0.169494 -0.080233  1.000000 -0.000241 -0.139795\n",
              "W1   -0.147963 -0.137764  0.100920 -0.032491 -0.000241  1.000000 -0.394354\n",
              "W2   -0.067496 -0.175574  0.107903 -0.040473 -0.139795 -0.394354  1.000000"
            ]
          },
          "metadata": {
            "tags": []
          },
          "execution_count": 22
        }
      ]
    },
    {
      "cell_type": "code",
      "metadata": {
        "id": "UHD-lEPCYMZA",
        "colab_type": "code",
        "colab": {}
      },
      "source": [
        ""
      ],
      "execution_count": null,
      "outputs": []
    }
  ]
}