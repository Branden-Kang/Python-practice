{
  "nbformat": 4,
  "nbformat_minor": 0,
  "metadata": {
    "colab": {
      "provenance": [],
      "authorship_tag": "ABX9TyOmkjldvNnv2TuyJO2fMX3P"
    },
    "kernelspec": {
      "name": "python3",
      "display_name": "Python 3"
    },
    "language_info": {
      "name": "python"
    }
  },
  "cells": [
    {
      "cell_type": "markdown",
      "source": [
        "[Reference](https://python.plainenglish.io/using-queues-and-stacks-in-python-with-its-collections-library-6e7a097af44b)"
      ],
      "metadata": {
        "id": "zKcolcViyEsJ"
      }
    },
    {
      "cell_type": "code",
      "source": [
        "from collections import deque\n",
        "\n",
        "list_queue = []\n",
        "list_stack = []\n",
        "\n",
        "for i in range(3):\n",
        "    list_queue.insert(0, i)\n",
        "    list_stack.append(i)\n",
        "\n",
        "for i in range(3):\n",
        "    print(\"Queue: \" , list_queue.pop())\n",
        "    print(\"Stack: \", list_stack.pop())"
      ],
      "metadata": {
        "colab": {
          "base_uri": "https://localhost:8080/"
        },
        "id": "T6VQk-lNyF2r",
        "outputId": "beddcf95-b96b-4eda-b9a5-47ec9c0c77cc"
      },
      "execution_count": 3,
      "outputs": [
        {
          "output_type": "stream",
          "name": "stdout",
          "text": [
            "Queue:  0\n",
            "Stack:  2\n",
            "Queue:  1\n",
            "Stack:  1\n",
            "Queue:  2\n",
            "Stack:  0\n"
          ]
        }
      ]
    },
    {
      "cell_type": "code",
      "source": [
        "from collections import deque\n",
        "\n",
        "queue = deque()\n",
        "stack = deque()\n",
        "\n",
        "for i in range(3):\n",
        "    queue.append(i)\n",
        "    stack.append(i)\n",
        "\n",
        "for i in range(3):\n",
        "    print(\"Queue: \", queue.popleft())\n",
        "    print(\"Stack: \", stack.pop())"
      ],
      "metadata": {
        "colab": {
          "base_uri": "https://localhost:8080/"
        },
        "id": "4h0jZj07yScW",
        "outputId": "8971af83-ff0a-4704-c2d0-7be53132de21"
      },
      "execution_count": 1,
      "outputs": [
        {
          "output_type": "stream",
          "name": "stdout",
          "text": [
            "Queue:  0\n",
            "Stack:  2\n",
            "Queue:  1\n",
            "Stack:  1\n",
            "Queue:  2\n",
            "Stack:  0\n"
          ]
        }
      ]
    },
    {
      "cell_type": "code",
      "source": [
        "from time import perf_counter\n",
        "\n",
        "t1 = perf_counter()\n",
        "\n",
        "n = 400_000\n",
        "for i in range(n):\n",
        "    queue.append(i)\n",
        "\n",
        "for i in range(n):\n",
        "    queue.popleft()\n",
        "\n",
        "t_queue = perf_counter() - t1\n",
        "print(\"deque: \", perf_counter() - t1)\n",
        "\n",
        "t1 = perf_counter()\n",
        "for i in range(n):\n",
        "    list_queue.insert(0, i)\n",
        "\n",
        "for i in range(n):\n",
        "    list_queue.pop()\n",
        "\n",
        "t_list = perf_counter() - t1\n",
        "print(\"list: \", perf_counter() - t1)\n",
        "print(f\"deque is {t_list / t_queue:.2f} times faster\")"
      ],
      "metadata": {
        "id": "ILwy2-v4yUBR"
      },
      "execution_count": 5,
      "outputs": []
    },
    {
      "cell_type": "code",
      "source": [
        "from time import perf_counter\n",
        "\n",
        "t1 = perf_counter()\n",
        "n = 400_000\n",
        "for i in range(n):\n",
        "    queue.append(i)\n",
        "\n",
        "for i in range(n):\n",
        "    queue.pop()\n",
        "\n",
        "t_queue = perf_counter() - t1\n",
        "print(\"stack with deque: \", perf_counter() - t1)\n",
        "\n",
        "t1 = perf_counter()\n",
        "for i in range(n):\n",
        "    list_queue.append(i)\n",
        "\n",
        "for i in range(n):\n",
        "    list_queue.pop(0)\n",
        "\n",
        "t_list = perf_counter() - t1\n",
        "print(\"list: \", perf_counter() - t1)\n",
        "print(f\"stack with deque is {t_list / t_queue:.2f} times faster\")"
      ],
      "metadata": {
        "id": "R038PvGvyVXI"
      },
      "execution_count": 6,
      "outputs": []
    }
  ]
}