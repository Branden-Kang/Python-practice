{
  "nbformat": 4,
  "nbformat_minor": 0,
  "metadata": {
    "colab": {
      "provenance": [],
      "authorship_tag": "ABX9TyOZC7OPHuhBNpegFAR2b+lS"
    },
    "kernelspec": {
      "name": "python3",
      "display_name": "Python 3"
    },
    "language_info": {
      "name": "python"
    }
  },
  "cells": [
    {
      "cell_type": "markdown",
      "source": [
        "[Reference](https://towardsdev.com/collections-module-in-python-fbd50615af85)"
      ],
      "metadata": {
        "id": "AFXCH1FLJZyt"
      }
    },
    {
      "cell_type": "code",
      "execution_count": 1,
      "metadata": {
        "colab": {
          "base_uri": "https://localhost:8080/"
        },
        "id": "HoZ_DfhoJXPW",
        "outputId": "fcadb11a-ea91-4936-9899-43d03dfc62f4"
      },
      "outputs": [
        {
          "output_type": "stream",
          "name": "stdout",
          "text": [
            "Counter({'l': 3, 'o': 2, 'h': 1, 'e': 1, ' ': 1, 'w': 1, 'r': 1, 'd': 1})\n"
          ]
        }
      ],
      "source": [
        "from collections import Counter\n",
        "\n",
        "# Counting characters in a string\n",
        "char_count = Counter(\"hello world\")\n",
        "\n",
        "print(char_count)"
      ]
    },
    {
      "cell_type": "code",
      "source": [
        "from collections import Counter\n",
        "\n",
        "# Create a Counter object\n",
        "word_counts = Counter(\"mississippi\")\n",
        "\n",
        "# Elements\n",
        "print(list(word_counts.elements()))\n",
        "\n",
        "# Most common elements\n",
        "print(word_counts.most_common(2))\n",
        "\n",
        "# Subtract counts\n",
        "word_counts.subtract(\"miss\")\n",
        "print(word_counts)"
      ],
      "metadata": {
        "colab": {
          "base_uri": "https://localhost:8080/"
        },
        "id": "dDUJ5nS-JcD8",
        "outputId": "d7c13643-eb2c-4509-c3bc-16dd51c9fdaf"
      },
      "execution_count": 2,
      "outputs": [
        {
          "output_type": "stream",
          "name": "stdout",
          "text": [
            "['m', 'i', 'i', 'i', 'i', 's', 's', 's', 's', 'p', 'p']\n",
            "[('i', 4), ('s', 4)]\n",
            "Counter({'i': 3, 's': 2, 'p': 2, 'm': 0})\n"
          ]
        }
      ]
    },
    {
      "cell_type": "code",
      "source": [
        "from collections import defaultdict\n",
        "\n",
        "# Using an integer as the default value\n",
        "int_default_dict = defaultdict(int)\n",
        "int_default_dict['a'] += 1\n",
        "int_default_dict['b'] += 2\n",
        "\n",
        "print(int_default_dict)"
      ],
      "metadata": {
        "colab": {
          "base_uri": "https://localhost:8080/"
        },
        "id": "cVcFBcxcJdGQ",
        "outputId": "47c59c53-78ef-4a5e-8cac-3334e2ba28e2"
      },
      "execution_count": 3,
      "outputs": [
        {
          "output_type": "stream",
          "name": "stdout",
          "text": [
            "defaultdict(<class 'int'>, {'a': 1, 'b': 2})\n"
          ]
        }
      ]
    },
    {
      "cell_type": "code",
      "source": [
        "from collections import defaultdict\n",
        "\n",
        "# Grouping items by their first letter\n",
        "words = ['apple', 'banana', 'cherry', 'date', 'eggplant', 'fig']\n",
        "grouped_words = defaultdict(list)\n",
        "\n",
        "for word in words:\n",
        "    first_letter = word[0]\n",
        "    grouped_words[first_letter].append(word)\n",
        "\n",
        "print(grouped_words)"
      ],
      "metadata": {
        "colab": {
          "base_uri": "https://localhost:8080/"
        },
        "id": "Kvt285HCJeTX",
        "outputId": "abeff883-cbff-4427-ce5f-7b1aa589ca8a"
      },
      "execution_count": 4,
      "outputs": [
        {
          "output_type": "stream",
          "name": "stdout",
          "text": [
            "defaultdict(<class 'list'>, {'a': ['apple'], 'b': ['banana'], 'c': ['cherry'], 'd': ['date'], 'e': ['eggplant'], 'f': ['fig']})\n"
          ]
        }
      ]
    },
    {
      "cell_type": "code",
      "source": [
        "from collections import defaultdict\n",
        "\n",
        "# Counting occurrences of each character in a string\n",
        "char_count = defaultdict(int)\n",
        "for char in \"hello world\":\n",
        "    char_count[char] += 1\n",
        "\n",
        "print(char_count)"
      ],
      "metadata": {
        "colab": {
          "base_uri": "https://localhost:8080/"
        },
        "id": "nFVstzU6JfMd",
        "outputId": "b876ecb0-8f57-4fc9-d6b4-0cfb857e214c"
      },
      "execution_count": 5,
      "outputs": [
        {
          "output_type": "stream",
          "name": "stdout",
          "text": [
            "defaultdict(<class 'int'>, {'h': 1, 'e': 1, 'l': 3, 'o': 2, ' ': 1, 'w': 1, 'r': 1, 'd': 1})\n"
          ]
        }
      ]
    },
    {
      "cell_type": "code",
      "source": [
        "from collections import OrderedDict\n",
        "\n",
        "# Creating an OrderedDict\n",
        "ordered_dict = OrderedDict([('a', 1), ('b', 2), ('c', 3)])\n",
        "\n",
        "print(\"OrderedDict:\", ordered_dict)"
      ],
      "metadata": {
        "colab": {
          "base_uri": "https://localhost:8080/"
        },
        "id": "6qsoLgw6JhD-",
        "outputId": "0a813bed-e388-4836-ff81-e845f450e52b"
      },
      "execution_count": 6,
      "outputs": [
        {
          "output_type": "stream",
          "name": "stdout",
          "text": [
            "OrderedDict: OrderedDict([('a', 1), ('b', 2), ('c', 3)])\n"
          ]
        }
      ]
    },
    {
      "cell_type": "code",
      "source": [
        "# Adding elements to the OrderedDict\n",
        "ordered_dict['d'] = 4\n",
        "ordered_dict['e'] = 5\n",
        "\n",
        "print(\"Updated OrderedDict:\", ordered_dict)"
      ],
      "metadata": {
        "colab": {
          "base_uri": "https://localhost:8080/"
        },
        "id": "T7vUo6VLJits",
        "outputId": "3c952dae-b999-400d-92df-918261e216e1"
      },
      "execution_count": 7,
      "outputs": [
        {
          "output_type": "stream",
          "name": "stdout",
          "text": [
            "Updated OrderedDict: OrderedDict([('a', 1), ('b', 2), ('c', 3), ('d', 4), ('e', 5)])\n"
          ]
        }
      ]
    },
    {
      "cell_type": "code",
      "source": [
        "# Accessing elements\n",
        "print(\"Value of key 'a':\", ordered_dict['a'])\n",
        "print(\"Value of key 'c':\", ordered_dict.get('c'))"
      ],
      "metadata": {
        "colab": {
          "base_uri": "https://localhost:8080/"
        },
        "id": "K6GxS-WXJjvp",
        "outputId": "6c4a70f8-2292-477f-8628-4142e6c06e41"
      },
      "execution_count": 8,
      "outputs": [
        {
          "output_type": "stream",
          "name": "stdout",
          "text": [
            "Value of key 'a': 1\n",
            "Value of key 'c': 3\n"
          ]
        }
      ]
    },
    {
      "cell_type": "code",
      "source": [
        "# Moving 'b' to the end\n",
        "ordered_dict.move_to_end('b')\n",
        "print(\"OrderedDict after moving 'b' to the end:\", ordered_dict)"
      ],
      "metadata": {
        "colab": {
          "base_uri": "https://localhost:8080/"
        },
        "id": "1vWCXEE7JkxS",
        "outputId": "dfce27d2-f76b-4879-93aa-33729e985ade"
      },
      "execution_count": 9,
      "outputs": [
        {
          "output_type": "stream",
          "name": "stdout",
          "text": [
            "OrderedDict after moving 'b' to the end: OrderedDict([('a', 1), ('c', 3), ('d', 4), ('e', 5), ('b', 2)])\n"
          ]
        }
      ]
    },
    {
      "cell_type": "code",
      "source": [
        "# Deleting an element\n",
        "del ordered_dict['d']\n",
        "print(\"OrderedDict after deleting 'd':\", ordered_dict)\n",
        "\n",
        "# Popping an element\n",
        "popped_value = ordered_dict.pop('e')\n",
        "print(\"Popped value:\", popped_value)\n",
        "print(\"OrderedDict after popping 'e':\", ordered_dict)"
      ],
      "metadata": {
        "colab": {
          "base_uri": "https://localhost:8080/"
        },
        "id": "W75NlyEqJlm-",
        "outputId": "1bcc1d11-348a-454e-f86c-e82cfd5d953d"
      },
      "execution_count": 10,
      "outputs": [
        {
          "output_type": "stream",
          "name": "stdout",
          "text": [
            "OrderedDict after deleting 'd': OrderedDict([('a', 1), ('c', 3), ('e', 5), ('b', 2)])\n",
            "Popped value: 5\n",
            "OrderedDict after popping 'e': OrderedDict([('a', 1), ('c', 3), ('b', 2)])\n"
          ]
        }
      ]
    },
    {
      "cell_type": "code",
      "source": [
        "# Iterating over an OrderedDict\n",
        "for key, value in ordered_dict.items():\n",
        "    print(key, value)"
      ],
      "metadata": {
        "colab": {
          "base_uri": "https://localhost:8080/"
        },
        "id": "i5UNy2-RJmmk",
        "outputId": "500d968a-ee04-48b6-af3b-5cf9bba40004"
      },
      "execution_count": 11,
      "outputs": [
        {
          "output_type": "stream",
          "name": "stdout",
          "text": [
            "a 1\n",
            "c 3\n",
            "b 2\n"
          ]
        }
      ]
    },
    {
      "cell_type": "code",
      "source": [
        "from collections import namedtuple\n",
        "\n",
        "# Define a namedtuple called 'Point'\n",
        "Point = namedtuple('Point', ['x', 'y'])\n",
        "\n",
        "# Create an instance of Point\n",
        "p = Point(10, 20)\n",
        "\n",
        "print(p)"
      ],
      "metadata": {
        "colab": {
          "base_uri": "https://localhost:8080/"
        },
        "id": "WfX_WrWgJnms",
        "outputId": "812a709c-12d0-4aff-bee6-ddde7dc9dd64"
      },
      "execution_count": 12,
      "outputs": [
        {
          "output_type": "stream",
          "name": "stdout",
          "text": [
            "Point(x=10, y=20)\n"
          ]
        }
      ]
    },
    {
      "cell_type": "code",
      "source": [
        "# Accessing fields\n",
        "print(p.x)  # Output: 10\n",
        "print(p.y)  # Output: 20"
      ],
      "metadata": {
        "colab": {
          "base_uri": "https://localhost:8080/"
        },
        "id": "PB2YITyYJonm",
        "outputId": "c7c3ec6c-9094-4f74-d02a-df45a01665c5"
      },
      "execution_count": 13,
      "outputs": [
        {
          "output_type": "stream",
          "name": "stdout",
          "text": [
            "10\n",
            "20\n"
          ]
        }
      ]
    },
    {
      "cell_type": "code",
      "source": [
        "print(p[0])  # Output: 10\n",
        "print(p[1])  # Output: 20"
      ],
      "metadata": {
        "colab": {
          "base_uri": "https://localhost:8080/"
        },
        "id": "zqwBM7-0Jpmn",
        "outputId": "9283b172-1dbb-4815-fa0f-d90cbaee8f59"
      },
      "execution_count": 14,
      "outputs": [
        {
          "output_type": "stream",
          "name": "stdout",
          "text": [
            "10\n",
            "20\n"
          ]
        }
      ]
    },
    {
      "cell_type": "code",
      "source": [
        "from collections import namedtuple\n",
        "\n",
        "# Using namedtuple to return multiple values from a function\n",
        "def calculate_circle(radius):\n",
        "    from math import pi\n",
        "    circumference = 2 * pi * radius\n",
        "    area = pi * radius ** 2\n",
        "    return namedtuple('Circle', ['circumference', 'area'])(circumference, area)\n",
        "\n",
        "circle = calculate_circle(5)\n",
        "print(f\"Circumference: {circle.circumference}, Area: {circle.area}\")"
      ],
      "metadata": {
        "colab": {
          "base_uri": "https://localhost:8080/"
        },
        "id": "G3SWRii9JqRK",
        "outputId": "0836aa92-e444-47bf-c123-ce87e823f553"
      },
      "execution_count": 15,
      "outputs": [
        {
          "output_type": "stream",
          "name": "stdout",
          "text": [
            "Circumference: 31.41592653589793, Area: 78.53981633974483\n"
          ]
        }
      ]
    },
    {
      "cell_type": "code",
      "source": [
        "from collections import deque\n",
        "\n",
        "dq = deque([1, 2, 3])\n",
        "print(dq)"
      ],
      "metadata": {
        "colab": {
          "base_uri": "https://localhost:8080/"
        },
        "id": "Ggqh2ld1JrPr",
        "outputId": "8439d7a9-6176-47c3-be19-b45c5d65dbf3"
      },
      "execution_count": 16,
      "outputs": [
        {
          "output_type": "stream",
          "name": "stdout",
          "text": [
            "deque([1, 2, 3])\n"
          ]
        }
      ]
    },
    {
      "cell_type": "code",
      "source": [
        "from collections import deque\n",
        "\n",
        "# Queue implementation using deque\n",
        "queue = deque()\n",
        "\n",
        "# Enqueue elements\n",
        "queue.append('a')\n",
        "queue.append('b')\n",
        "queue.append('c')\n",
        "print(\"Queue:\", queue)\n",
        "\n",
        "# Dequeue elements\n",
        "print(\"Dequeued:\", queue.popleft())\n",
        "print(\"Dequeued:\", queue.popleft())\n",
        "print(\"Queue after dequeuing:\", queue)"
      ],
      "metadata": {
        "colab": {
          "base_uri": "https://localhost:8080/"
        },
        "id": "KodkaK2VJsoB",
        "outputId": "5f8088e5-978b-4fbd-9550-83e7205a9319"
      },
      "execution_count": 17,
      "outputs": [
        {
          "output_type": "stream",
          "name": "stdout",
          "text": [
            "Queue: deque(['a', 'b', 'c'])\n",
            "Dequeued: a\n",
            "Dequeued: b\n",
            "Queue after dequeuing: deque(['c'])\n"
          ]
        }
      ]
    },
    {
      "cell_type": "code",
      "source": [
        "from collections import deque\n",
        "\n",
        "# Stack implementation using deque\n",
        "stack = deque()\n",
        "\n",
        "# Push elements\n",
        "stack.append('a')\n",
        "stack.append('b')\n",
        "stack.append('c')\n",
        "\n",
        "print(\"Stack:\", stack)\n",
        "\n",
        "# Pop elements\n",
        "print(\"Popped:\", stack.pop())\n",
        "print(\"Popped:\", stack.pop())\n",
        "print(\"Stack after popping:\", stack)"
      ],
      "metadata": {
        "colab": {
          "base_uri": "https://localhost:8080/"
        },
        "id": "Axy5hKZFJtqp",
        "outputId": "06225d2b-18a3-4e1f-ff31-d622d982d653"
      },
      "execution_count": 18,
      "outputs": [
        {
          "output_type": "stream",
          "name": "stdout",
          "text": [
            "Stack: deque(['a', 'b', 'c'])\n",
            "Popped: c\n",
            "Popped: b\n",
            "Stack after popping: deque(['a'])\n"
          ]
        }
      ]
    },
    {
      "cell_type": "code",
      "source": [
        "from collections import ChainMap\n",
        "\n",
        "dict1 = {'a': 1, 'b': 2}\n",
        "dict2 = {'c': 3, 'd': 4}\n",
        "\n",
        "chain = ChainMap(dict1, dict2)\n",
        "\n",
        "print(chain['a'])  # Output: 1\n",
        "print(chain['c'])  # Output: 3"
      ],
      "metadata": {
        "colab": {
          "base_uri": "https://localhost:8080/"
        },
        "id": "Cd1Q3LTnJu8q",
        "outputId": "37a035d1-e4fc-4dc3-9b28-c532d2c49ffa"
      },
      "execution_count": 19,
      "outputs": [
        {
          "output_type": "stream",
          "name": "stdout",
          "text": [
            "1\n",
            "3\n"
          ]
        }
      ]
    },
    {
      "cell_type": "code",
      "source": [
        "chain['e'] = 5\n",
        "print(dict1)  # Output: {'a': 1, 'b': 2, 'e': 5}"
      ],
      "metadata": {
        "colab": {
          "base_uri": "https://localhost:8080/"
        },
        "id": "H27HeLQGJxCG",
        "outputId": "5cc7aa28-d7e6-4ad6-f5db-c2726254b775"
      },
      "execution_count": 20,
      "outputs": [
        {
          "output_type": "stream",
          "name": "stdout",
          "text": [
            "{'a': 1, 'b': 2, 'e': 5}\n"
          ]
        }
      ]
    },
    {
      "cell_type": "code",
      "source": [
        "dict3 = {'f': 6}\n",
        "chain = chain.new_child(dict3)  # Adds dict3 to the front of the chain\n",
        "print(chain['f'])  # Output: 6\n",
        "\n",
        "chain = chain.parents  # Removes the front dictionary\n",
        "print('f' in chain)  # Output: False"
      ],
      "metadata": {
        "colab": {
          "base_uri": "https://localhost:8080/"
        },
        "id": "cZNjI9xzJxzL",
        "outputId": "6e299d47-460c-4e1a-a5d6-fa31514c0cb4"
      },
      "execution_count": 21,
      "outputs": [
        {
          "output_type": "stream",
          "name": "stdout",
          "text": [
            "6\n",
            "False\n"
          ]
        }
      ]
    },
    {
      "cell_type": "code",
      "source": [
        "from collections import UserDict\n",
        "\n",
        "class MyDict(UserDict):\n",
        "    def __missing__(self, key):\n",
        "        return 'Default Value'\n",
        "\n",
        "\n",
        "my_dict = MyDict()\n",
        "print(my_dict['nonexistent_key'])  # Output: Default Value"
      ],
      "metadata": {
        "colab": {
          "base_uri": "https://localhost:8080/"
        },
        "id": "cCdgj4E7JylK",
        "outputId": "abfd2aa8-ae89-49a2-bbec-900a09b2f273"
      },
      "execution_count": 22,
      "outputs": [
        {
          "output_type": "stream",
          "name": "stdout",
          "text": [
            "Default Value\n"
          ]
        }
      ]
    },
    {
      "cell_type": "code",
      "source": [
        "from collections import UserList\n",
        "\n",
        "class TypedList(UserList):\n",
        "    def __init__(self, initial_data, data_type):\n",
        "        super().__init__(initial_data)\n",
        "        self.data_type = data_type\n",
        "\n",
        "    def append(self, item):\n",
        "        if not isinstance(item, self.data_type):\n",
        "            raise TypeError(f\"Item must be of type {self.data_type.__name__}\")\n",
        "        super().append(item)\n",
        "\n",
        "\n",
        "typed_list = TypedList([1, 2, 3], int)\n",
        "typed_list.append(4)\n",
        "print(typed_list)  # Output: [1, 2, 3, 4]"
      ],
      "metadata": {
        "colab": {
          "base_uri": "https://localhost:8080/"
        },
        "id": "5mxNuNGIJzuW",
        "outputId": "cf13b62c-c3bc-448d-eb7e-a5b723944479"
      },
      "execution_count": 23,
      "outputs": [
        {
          "output_type": "stream",
          "name": "stdout",
          "text": [
            "[1, 2, 3, 4]\n"
          ]
        }
      ]
    },
    {
      "cell_type": "code",
      "source": [
        "from collections import UserString\n",
        "\n",
        "class VowelReplacer(UserString):\n",
        "    def __init__(self, initial_string):\n",
        "        super().__init__(initial_string)\n",
        "\n",
        "    def replace_vowels(self, replacement):\n",
        "        vowels = \"aeiouAEIOU\"\n",
        "        return ''.join(replacement if char in vowels else char for char in self.data)\n",
        "\n",
        "\n",
        "replacer = VowelReplacer(\"Hello World\")\n",
        "print(replacer.replace_vowels(\"*\"))  # Output: H*ll* W*rld"
      ],
      "metadata": {
        "colab": {
          "base_uri": "https://localhost:8080/"
        },
        "id": "VP3NR5A8J1Hw",
        "outputId": "781ca9a8-8d22-4649-88ab-7c31d3f9c0f7"
      },
      "execution_count": 24,
      "outputs": [
        {
          "output_type": "stream",
          "name": "stdout",
          "text": [
            "H*ll* W*rld\n"
          ]
        }
      ]
    },
    {
      "cell_type": "code",
      "source": [
        "from collections import namedtuple, defaultdict\n",
        "\n",
        "Employee = namedtuple('Employee', ['id', 'name'])\n",
        "department_employees = defaultdict(list)\n",
        "\n",
        "employees = [Employee(1, 'John'), Employee(2, 'Jane'), Employee(1, 'Jake')]\n",
        "\n",
        "for emp in employees:\n",
        "    department_employees[emp.id].append(emp.name)\n",
        "\n",
        "print(department_employees)"
      ],
      "metadata": {
        "id": "1lqhlSRnJ2NP",
        "outputId": "9ef6d584-4a3e-4925-86dc-8c28d79653a8",
        "colab": {
          "base_uri": "https://localhost:8080/"
        }
      },
      "execution_count": 25,
      "outputs": [
        {
          "output_type": "stream",
          "name": "stdout",
          "text": [
            "defaultdict(<class 'list'>, {1: ['John', 'Jake'], 2: ['Jane']})\n"
          ]
        }
      ]
    }
  ]
}