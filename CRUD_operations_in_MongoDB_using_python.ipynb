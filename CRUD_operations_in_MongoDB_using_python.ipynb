{
  "nbformat": 4,
  "nbformat_minor": 0,
  "metadata": {
    "colab": {
      "name": "CRUD operations in MongoDB using python.ipynb",
      "provenance": [],
      "authorship_tag": "ABX9TyPxwywMnAFSTlsP/cKqgRqP"
    },
    "kernelspec": {
      "name": "python3",
      "display_name": "Python 3"
    },
    "language_info": {
      "name": "python"
    }
  },
  "cells": [
    {
      "cell_type": "markdown",
      "metadata": {
        "id": "DDQH3_TH0ZXv"
      },
      "source": [
        "[Reference](https://medium.com/analytics-vidhya/crud-operations-in-mongodb-using-python-49b7850d627e)"
      ]
    },
    {
      "cell_type": "code",
      "metadata": {
        "colab": {
          "base_uri": "https://localhost:8080/"
        },
        "id": "PJ6G4Q5jzrYe",
        "outputId": "05dff575-1ca3-4939-9575-78ff63f1425c"
      },
      "source": [
        "pip install pymongo"
      ],
      "execution_count": 1,
      "outputs": [
        {
          "output_type": "stream",
          "text": [
            "Requirement already satisfied: pymongo in /usr/local/lib/python3.7/dist-packages (3.12.0)\n"
          ],
          "name": "stdout"
        }
      ]
    },
    {
      "cell_type": "code",
      "metadata": {
        "id": "AqHIJzeVzuEq"
      },
      "source": [
        "import pymongo"
      ],
      "execution_count": 2,
      "outputs": []
    },
    {
      "cell_type": "code",
      "metadata": {
        "id": "Uh4U66d6zvxQ"
      },
      "source": [
        "connection_url=\"mongodb://localhost:27017/\"\n",
        "client=pymongo.MongoClient(connection_url)"
      ],
      "execution_count": 3,
      "outputs": []
    },
    {
      "cell_type": "code",
      "metadata": {
        "id": "nztX7-8nzy1e"
      },
      "source": [
        "client.list_database_names()"
      ],
      "execution_count": 5,
      "outputs": []
    },
    {
      "cell_type": "code",
      "metadata": {
        "id": "Oefuwe2tz0AB"
      },
      "source": [
        "database_name=\"student_database\"\n",
        "student_db=client[database_name]"
      ],
      "execution_count": 6,
      "outputs": []
    },
    {
      "cell_type": "code",
      "metadata": {
        "id": "hg2vD4Mnz31Q"
      },
      "source": [
        "collection_name=\"computer science\"\n",
        "collection=student_db[collection_name]"
      ],
      "execution_count": 7,
      "outputs": []
    },
    {
      "cell_type": "code",
      "metadata": {
        "id": "1Uqpfh12z6B2"
      },
      "source": [
        "student_db.list_collection_names()"
      ],
      "execution_count": 9,
      "outputs": []
    },
    {
      "cell_type": "code",
      "metadata": {
        "id": "CzzTp8jcz7AB"
      },
      "source": [
        "document={\"Name\":\"Raj\",\n",
        "\"Roll No \":  153,\n",
        "\"Branch \": \"CSE\"}\n",
        "collection.insert_one(document)"
      ],
      "execution_count": 10,
      "outputs": []
    },
    {
      "cell_type": "code",
      "metadata": {
        "id": "yCXr-8Zi0BDj"
      },
      "source": [
        "documents=[{\"Name\":\"Roshan\",\"Roll No\":159,\"Branch\":\"CSE\"},{\"Name\":\"Rahim\",\"Roll No\":155,\"Branch\":\"CSE\"},{\"Name\":\"Ronak\",\"Roll No\":156,\"Branch\":\"CSE\"}]\n",
        "collection.insert_many(documents)"
      ],
      "execution_count": 11,
      "outputs": []
    },
    {
      "cell_type": "code",
      "metadata": {
        "id": "p3OqmNTB0Cpi"
      },
      "source": [
        "query={\"Name\":\"Raj\"}\n",
        "print(collection.find_one(query))"
      ],
      "execution_count": 12,
      "outputs": []
    },
    {
      "cell_type": "code",
      "metadata": {
        "id": "WEbltF220Epd"
      },
      "source": [
        "query={\"Branch\":\"CSE\"}\n",
        "result=collection.find(query)\n",
        "for i in result:\n",
        "    print(i)"
      ],
      "execution_count": 13,
      "outputs": []
    },
    {
      "cell_type": "code",
      "metadata": {
        "id": "6yf_LfhO0GPh"
      },
      "source": [
        "query={\"Branch\":\"CSE\"}\n",
        "result=collection.find(query)\n",
        "for i in result:\n",
        "    print(i)"
      ],
      "execution_count": 14,
      "outputs": []
    },
    {
      "cell_type": "code",
      "metadata": {
        "id": "NsIoU2kN0HqR"
      },
      "source": [
        "query={\"Roll No \":{\"$eq\":153}}\n",
        "print(collection.find_one(query))"
      ],
      "execution_count": 15,
      "outputs": []
    },
    {
      "cell_type": "code",
      "metadata": {
        "id": "EZ8PhSF_0JFg"
      },
      "source": [
        "query={\"Roll No\":{\"$eq\":153}}\n",
        "present_data=collection.find_one(query)\n",
        "new_data={'$set':{\"Name\":'Ramesh'}}\n",
        "collection.update_one(present_data,new_data)"
      ],
      "execution_count": 16,
      "outputs": []
    },
    {
      "cell_type": "code",
      "metadata": {
        "id": "qKUsmQiq0LEu"
      },
      "source": [
        "present_data={\"Branch\":\"CSE\"}\n",
        "new_data={\"$set\":{\"Branch\":\"ECE\"}}\n",
        "collection.update_many(present_data,new_data)"
      ],
      "execution_count": 17,
      "outputs": []
    },
    {
      "cell_type": "code",
      "metadata": {
        "id": "Vv2nqnyS0PaI"
      },
      "source": [
        "query={\"Roll No\":153}\n",
        "collection.delete_one(query)"
      ],
      "execution_count": 18,
      "outputs": []
    },
    {
      "cell_type": "code",
      "metadata": {
        "id": "vVOD23xE0TKD"
      },
      "source": [
        "query={\"Branch\":\"ECE\"}\n",
        "collection.delete_many(query)"
      ],
      "execution_count": 19,
      "outputs": []
    },
    {
      "cell_type": "code",
      "metadata": {
        "id": "GxVv97gc0VFz"
      },
      "source": [
        "collection.drop()"
      ],
      "execution_count": 20,
      "outputs": []
    }
  ]
}