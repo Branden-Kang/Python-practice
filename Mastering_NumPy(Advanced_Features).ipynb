{
  "nbformat": 4,
  "nbformat_minor": 0,
  "metadata": {
    "colab": {
      "provenance": [],
      "authorship_tag": "ABX9TyOoowxaxlu4i/7h+c3kjHeA"
    },
    "kernelspec": {
      "name": "python3",
      "display_name": "Python 3"
    },
    "language_info": {
      "name": "python"
    }
  },
  "cells": [
    {
      "cell_type": "markdown",
      "source": [
        "[Reference](https://medium.com/@nandeda.narayan/mastering-numpy-part-4-array-broadcasting-faf8dabee7ef)"
      ],
      "metadata": {
        "id": "n1XLHc-281Zg"
      }
    },
    {
      "cell_type": "code",
      "execution_count": 1,
      "metadata": {
        "colab": {
          "base_uri": "https://localhost:8080/"
        },
        "id": "HKFjpMPo8xZJ",
        "outputId": "2ac9e42e-d6c7-4556-f90e-18c85dbd88e3"
      },
      "outputs": [
        {
          "output_type": "stream",
          "name": "stdout",
          "text": [
            "Masked array: [1 2 -- 4 5]\n",
            "Valid values: [   1    2 -999    4    5]\n"
          ]
        }
      ],
      "source": [
        "import numpy as np\n",
        "\n",
        "# Create an array with missing values\n",
        "arr = np.array([1, 2, -999, 4, 5])\n",
        "\n",
        "# Create a mask for invalid values\n",
        "mask = arr == -999\n",
        "\n",
        "# Create a masked array\n",
        "masked_arr = np.ma.masked_array(arr, mask=mask)\n",
        "print(\"Masked array:\", masked_arr)\n",
        "print(\"Valid values:\", masked_arr.data)"
      ]
    },
    {
      "cell_type": "code",
      "source": [
        "import numpy as np\n",
        "\n",
        "# Create an array\n",
        "arr = np.array([5, 3, 1, 4, 2])\n",
        "\n",
        "# Sort the array\n",
        "sorted_arr = np.sort(arr)\n",
        "\n",
        "# Print the sorted array\n",
        "print(sorted_arr)"
      ],
      "metadata": {
        "colab": {
          "base_uri": "https://localhost:8080/"
        },
        "id": "P-SPO9eM84Gv",
        "outputId": "b4d2e17e-bdd9-4be6-c26a-f19720fd9c52"
      },
      "execution_count": 2,
      "outputs": [
        {
          "output_type": "stream",
          "name": "stdout",
          "text": [
            "[1 2 3 4 5]\n"
          ]
        }
      ]
    },
    {
      "cell_type": "code",
      "source": [
        "import numpy as np\n",
        "\n",
        "# Create an array\n",
        "arr = np.array([5, 3, 1, 4, 2])\n",
        "\n",
        "# Sort the array in place\n",
        "arr.sort()\n",
        "\n",
        "# Print the sorted array\n",
        "print(arr)"
      ],
      "metadata": {
        "colab": {
          "base_uri": "https://localhost:8080/"
        },
        "id": "72gNPPzZ85K_",
        "outputId": "1480aba6-d186-4c49-9cf0-5ec6979fddfd"
      },
      "execution_count": 3,
      "outputs": [
        {
          "output_type": "stream",
          "name": "stdout",
          "text": [
            "[1 2 3 4 5]\n"
          ]
        }
      ]
    },
    {
      "cell_type": "code",
      "source": [
        "import numpy as np\n",
        "\n",
        "arr = np.array([1, 2, 2, 3, 3, 3, 4, 4, 4, 4])\n",
        "unique_elements, counts = np.unique(arr, return_counts=True)"
      ],
      "metadata": {
        "id": "a2XzTwhf86Cb"
      },
      "execution_count": 4,
      "outputs": []
    },
    {
      "cell_type": "code",
      "source": [
        "import numpy as np\n",
        "\n",
        "# Define a function that operates on a single element\n",
        "def square(x):\n",
        "    return x ** 2\n",
        "\n",
        "# Create an input array\n",
        "arr = np.array([1, 2, 3, 4, 5])\n",
        "\n",
        "# Use numpy.vectorize() to vectorize the square function\n",
        "vec_square = np.vectorize(square)\n",
        "\n",
        "# Apply the vectorized function to the array\n",
        "result = vec_square(arr)\n",
        "\n",
        "print(result)"
      ],
      "metadata": {
        "colab": {
          "base_uri": "https://localhost:8080/"
        },
        "id": "lTCN9DJz87tp",
        "outputId": "b85434aa-5e3e-4d9f-bba7-f18f8bbd46b3"
      },
      "execution_count": 5,
      "outputs": [
        {
          "output_type": "stream",
          "name": "stdout",
          "text": [
            "[ 1  4  9 16 25]\n"
          ]
        }
      ]
    },
    {
      "cell_type": "code",
      "source": [
        "import numpy as np\n",
        "\n",
        "# Create an input array\n",
        "arr = np.array([1, 2, 3, 4, 5])\n",
        "\n",
        "# Create a condition\n",
        "condition = arr % 2 == 0\n",
        "\n",
        "# Create two arrays to choose values from based on the condition\n",
        "x = np.array([10, 20, 30, 40, 50])\n",
        "y = np.array([100, 200, 300, 400, 500])\n",
        "\n",
        "# Use numpy.where() to select elements based on the condition\n",
        "result = np.where(condition, x, y)\n",
        "\n",
        "print(result)"
      ],
      "metadata": {
        "colab": {
          "base_uri": "https://localhost:8080/"
        },
        "id": "1oE_mSj389PB",
        "outputId": "6d8c34f5-0a35-4d83-993c-e9b857901089"
      },
      "execution_count": 6,
      "outputs": [
        {
          "output_type": "stream",
          "name": "stdout",
          "text": [
            "[100  20 300  40 500]\n"
          ]
        }
      ]
    },
    {
      "cell_type": "code",
      "source": [
        "import numpy as np\n",
        "\n",
        "# Create an input array\n",
        "arr = np.array([1, 2, 3, 4, 5])\n",
        "\n",
        "# Create a condition\n",
        "condition = arr % 2 == 0\n",
        "\n",
        "# Use numpy.where() with scalar values\n",
        "result = np.where(condition, 10, -10)\n",
        "\n",
        "print(result)"
      ],
      "metadata": {
        "colab": {
          "base_uri": "https://localhost:8080/"
        },
        "id": "WGkGT5zU8_Cc",
        "outputId": "f545708c-9f8f-41b8-ca21-8cd62ab83ba9"
      },
      "execution_count": 7,
      "outputs": [
        {
          "output_type": "stream",
          "name": "stdout",
          "text": [
            "[-10  10 -10  10 -10]\n"
          ]
        }
      ]
    },
    {
      "cell_type": "code",
      "source": [
        "import numpy as np\n",
        "\n",
        "# Create two input arrays\n",
        "a = np.array([1, 2, 3])\n",
        "b = np.array([4, 5, 6])\n",
        "\n",
        "# Compute the cross product using numpy.cross()\n",
        "cross_product = np.cross(a, b)\n",
        "\n",
        "print(cross_product)"
      ],
      "metadata": {
        "colab": {
          "base_uri": "https://localhost:8080/"
        },
        "id": "yI4pTcW29Bb9",
        "outputId": "5c8e7968-0951-481e-decf-921e0594a722"
      },
      "execution_count": 8,
      "outputs": [
        {
          "output_type": "stream",
          "name": "stdout",
          "text": [
            "[-3  6 -3]\n"
          ]
        }
      ]
    },
    {
      "cell_type": "code",
      "source": [
        "import numpy as np\n",
        "\n",
        "# Create two multidimensional input arrays\n",
        "a = np.array([[1, 2, 3], [4, 5, 6]])\n",
        "b = np.array([[7, 8, 9], [10, 11, 12]])\n",
        "\n",
        "# Compute the cross product along the last axis using numpy.cross()\n",
        "cross_product = np.cross(a, b)\n",
        "\n",
        "print(cross_product)"
      ],
      "metadata": {
        "colab": {
          "base_uri": "https://localhost:8080/"
        },
        "id": "Kz8q3guP9EDq",
        "outputId": "be1cbd6c-5be0-4c04-b6e4-098f39d25246"
      },
      "execution_count": 9,
      "outputs": [
        {
          "output_type": "stream",
          "name": "stdout",
          "text": [
            "[[-6 12 -6]\n",
            " [-6 12 -6]]\n"
          ]
        }
      ]
    },
    {
      "cell_type": "code",
      "source": [
        "import numpy as np\n",
        "\n",
        "# Data points\n",
        "xp = [1, 3, 4, 7]\n",
        "fp = [2, 0, 5, 1]\n",
        "\n",
        "# X-coordinates for interpolation\n",
        "x = [1.5, 2.5, 4.5, 6]\n",
        "\n",
        "# Interpolate values\n",
        "interpolated_values = np.interp(x, xp, fp)\n",
        "\n",
        "print(interpolated_values)"
      ],
      "metadata": {
        "colab": {
          "base_uri": "https://localhost:8080/"
        },
        "id": "y1T1_iGZ9FXw",
        "outputId": "449a30ff-6b8c-4f5e-a4f1-2945dd53a48c"
      },
      "execution_count": 10,
      "outputs": [
        {
          "output_type": "stream",
          "name": "stdout",
          "text": [
            "[1.5        0.5        4.33333333 2.33333333]\n"
          ]
        }
      ]
    },
    {
      "cell_type": "code",
      "source": [
        "import numpy as np\n",
        "\n",
        "# Create a 2D array\n",
        "arr = np.array([[1, 2, 3], [4, 5, 6]])\n",
        "\n",
        "# Flatten the array using ravel()\n",
        "flattened = np.ravel(arr)\n",
        "\n",
        "print(flattened)"
      ],
      "metadata": {
        "colab": {
          "base_uri": "https://localhost:8080/"
        },
        "id": "0mLbGdCV9Hac",
        "outputId": "7951a1bf-6fd6-4158-fc12-c6bcde87358c"
      },
      "execution_count": 11,
      "outputs": [
        {
          "output_type": "stream",
          "name": "stdout",
          "text": [
            "[1 2 3 4 5 6]\n"
          ]
        }
      ]
    },
    {
      "cell_type": "code",
      "source": [
        "import numpy as np\n",
        "\n",
        "# Example arrays\n",
        "x = np.array([1, 2, 3, 4, 5])\n",
        "y = np.array([5, 4, 3, 2, 1])\n",
        "\n",
        "# Calculate correlation coefficient\n",
        "correlation_matrix = np.corrcoef(x, y)\n",
        "correlation_coefficient = correlation_matrix[0, 1]\n",
        "\n",
        "print(correlation_coefficient)"
      ],
      "metadata": {
        "colab": {
          "base_uri": "https://localhost:8080/"
        },
        "id": "wVSjNPCo9I0P",
        "outputId": "7f1e9e28-b609-4ed2-bbbb-c1c1f30acaf1"
      },
      "execution_count": 12,
      "outputs": [
        {
          "output_type": "stream",
          "name": "stdout",
          "text": [
            "-0.9999999999999999\n"
          ]
        }
      ]
    },
    {
      "cell_type": "code",
      "source": [
        "import numpy as np\n",
        "\n",
        "# Save an array\n",
        "arr = np.array([1, 2, 3, 4, 5])\n",
        "np.save(\"my_array.npy\", arr)\n",
        "\n",
        "# Load the array\n",
        "loaded_arr = np.load(\"my_array.npy\")\n",
        "\n",
        "print(loaded_arr)"
      ],
      "metadata": {
        "colab": {
          "base_uri": "https://localhost:8080/"
        },
        "id": "ExT08vJw9KIi",
        "outputId": "95f0c304-1efd-4233-e09b-61e6de33c449"
      },
      "execution_count": 13,
      "outputs": [
        {
          "output_type": "stream",
          "name": "stdout",
          "text": [
            "[1 2 3 4 5]\n"
          ]
        }
      ]
    }
  ]
}