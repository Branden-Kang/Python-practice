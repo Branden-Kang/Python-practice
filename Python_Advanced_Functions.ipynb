{
  "nbformat": 4,
  "nbformat_minor": 0,
  "metadata": {
    "colab": {
      "provenance": [],
      "authorship_tag": "ABX9TyPJYrHnssqWHtY+SjhZRUXH"
    },
    "kernelspec": {
      "name": "python3",
      "display_name": "Python 3"
    },
    "language_info": {
      "name": "python"
    }
  },
  "cells": [
    {
      "cell_type": "markdown",
      "source": [
        "[Reference](https://medium.com/@ocrnshn/python-advanced-92991b8574e5)"
      ],
      "metadata": {
        "id": "B9hiXEVuMnjd"
      }
    },
    {
      "cell_type": "markdown",
      "source": [
        "# Variable Argument List"
      ],
      "metadata": {
        "id": "XZfVJOOmMtUO"
      }
    },
    {
      "cell_type": "code",
      "execution_count": 3,
      "metadata": {
        "colab": {
          "base_uri": "https://localhost:8080/"
        },
        "id": "cBiPRhcKL3rE",
        "outputId": "b51d395a-aacd-47b2-ddd7-fd63d909daee"
      },
      "outputs": [
        {
          "output_type": "execute_result",
          "data": {
            "text/plain": [
              "16"
            ]
          },
          "metadata": {},
          "execution_count": 3
        }
      ],
      "source": [
        "def addition(*args):\n",
        "    result = 0\n",
        "    for arg in args:\n",
        "        result += arg\n",
        "    return result\n",
        "\n",
        "addition(1, 5, 3, 7)  # returns 16\n",
        "myList = [1, 5, 3, 7]\n",
        "addition(*myList)"
      ]
    },
    {
      "cell_type": "code",
      "source": [
        "def addition(nparam, *args):\n",
        "    result = 0\n",
        "    for arg in args:\n",
        "        result += arg\n",
        "    return result\n",
        "\n",
        "addition(1, 5, 3, 7)  # returns 15\n",
        "myList = [1, 5, 3, 7]\n",
        "addition(*myList)     # returns 15"
      ],
      "metadata": {
        "colab": {
          "base_uri": "https://localhost:8080/"
        },
        "id": "zm94LoTfMvEo",
        "outputId": "2a417b1d-f4eb-4c2f-fdbb-0f4ee98a0c93"
      },
      "execution_count": 4,
      "outputs": [
        {
          "output_type": "execute_result",
          "data": {
            "text/plain": [
              "15"
            ]
          },
          "metadata": {},
          "execution_count": 4
        }
      ]
    },
    {
      "cell_type": "markdown",
      "source": [
        "# Lambda Functions"
      ],
      "metadata": {
        "id": "ES1WHeexM2lx"
      }
    },
    {
      "cell_type": "code",
      "source": [
        "def meters_to_inches(val):\n",
        "    return val*39.37\n",
        "\n",
        "def main():\n",
        "    distances = [0, 12, 34, 100]\n",
        "    distances_in_inches = list(map(meters_to_inches, distances))"
      ],
      "metadata": {
        "id": "z3QKhd9DMwK2"
      },
      "execution_count": 5,
      "outputs": []
    },
    {
      "cell_type": "code",
      "source": [
        "def main():\n",
        "    distances = [0, 12, 34, 100]\n",
        "    distances_in_inches = list(map(lambda t: t*39.37, distances))"
      ],
      "metadata": {
        "id": "ZwooXL4iM4Bi"
      },
      "execution_count": 6,
      "outputs": []
    },
    {
      "cell_type": "markdown",
      "source": [
        "# Enforcing Keyword Arguments"
      ],
      "metadata": {
        "id": "x6iPpWlyM6KB"
      }
    },
    {
      "cell_type": "code",
      "source": [
        "def safe_division(number, divisor, *, ignore_overflow=False, ignore_zero_division=False):\n",
        "    try:\n",
        "        return number / divisor\n",
        "    except OverflowError:\n",
        "        if ignore_overflow:\n",
        "            return 0\n",
        "        else:\n",
        "            raise\n",
        "    except ZeroDivisionError:\n",
        "        if ignore_zero_division:\n",
        "            return float('inf')\n",
        "        else:\n",
        "            raise\n",
        "\n",
        "if __name__ == '__main__':\n",
        "    # throws TypeError: safe_division() takes 2 positional arguments but 4 were given\n",
        "    print(safe_division(2,0,True,True))\n",
        "    # throws ZeroDivisionError: division by zero\n",
        "    print(safe_division(2,0))\n",
        "    # prints inf\n",
        "    print(safe_division(2,0, ignore_zero_division=True, ignore_overflow=False))"
      ],
      "metadata": {
        "id": "a8LupRxOM5Ex"
      },
      "execution_count": 8,
      "outputs": []
    },
    {
      "cell_type": "markdown",
      "source": [
        "# Collections"
      ],
      "metadata": {
        "id": "x3w0-LCwM-jW"
      }
    },
    {
      "cell_type": "code",
      "source": [
        "import collections\n",
        "\n",
        "# Declare a Coord named tuple by using factory - name: Coord, params: lat and lon\n",
        "Coord = collections.namedtuple(\"Coord\", \"lat lon\")\n",
        "\n",
        "c1 = Coord(38.8951, -77.0364)\n",
        "c2 = Coord(36.8951, -67.0364)\n",
        "\n",
        "# access arguments by name\n",
        "print(c1.lat, c1.lon)\n",
        "\n",
        "# use _replace to create a new instance\n",
        "c3 = c1._replace(lat=35.8951)\n",
        "print(c1, c3)"
      ],
      "metadata": {
        "colab": {
          "base_uri": "https://localhost:8080/"
        },
        "id": "BZqoxOv9M7qS",
        "outputId": "7901beec-69c8-4c14-fcd8-3008b69b07ed"
      },
      "execution_count": 9,
      "outputs": [
        {
          "output_type": "stream",
          "name": "stdout",
          "text": [
            "38.8951 -77.0364\n",
            "Coord(lat=38.8951, lon=-77.0364) Coord(lat=35.8951, lon=-77.0364)\n"
          ]
        }
      ]
    },
    {
      "cell_type": "code",
      "source": [
        "from collections import OrderedDict\n",
        "\n",
        "inventory = [(\"apple\", 100), (\"orange\", 20),(\"banana\", 80), (\"dragonfruit\", 20), (\"watermelon\", 15)]\n",
        "\n",
        "# create an ordered dictionary of the fruits\n",
        "inventory_dict = OrderedDict(inventory)\n",
        "print(\"Fruits\", inventory_dict)\n",
        "\n",
        "# Get last added fruit\n",
        "tm, wl = inventory_dict.popitem(False)\n",
        "print(\"LIFO item: \", tm, wl)\n",
        "print(\"Remaining fruits:\", inventory_dict)\n",
        "\n",
        "# Get first added fruit\n",
        "tm, wl = inventory_dict.popitem(True)\n",
        "print(\"FIFO item: \", tm, wl)\n",
        "print(\"Remaining fruits:\", inventory_dict)\n",
        "\n",
        "inventory_dict.move_to_end(\"orange\", True)\n",
        "print(\"Fruits after move first item to end:\", inventory_dict)\n",
        "\n",
        "inventory_dict.move_to_end(\"orange\", False)\n",
        "print(\"Fruits after move last item to start:\", inventory_dict)"
      ],
      "metadata": {
        "colab": {
          "base_uri": "https://localhost:8080/"
        },
        "id": "nlbzXNXFNBCV",
        "outputId": "8837bf85-a5a3-4e9a-cfd3-98ef4e7cf6a7"
      },
      "execution_count": 10,
      "outputs": [
        {
          "output_type": "stream",
          "name": "stdout",
          "text": [
            "Fruits OrderedDict([('apple', 100), ('orange', 20), ('banana', 80), ('dragonfruit', 20), ('watermelon', 15)])\n",
            "LIFO item:  apple 100\n",
            "Remaining fruits: OrderedDict([('orange', 20), ('banana', 80), ('dragonfruit', 20), ('watermelon', 15)])\n",
            "FIFO item:  watermelon 15\n",
            "Remaining fruits: OrderedDict([('orange', 20), ('banana', 80), ('dragonfruit', 20)])\n",
            "Fruits after move first item to end: OrderedDict([('banana', 80), ('dragonfruit', 20), ('orange', 20)])\n",
            "Fruits after move last item to start: OrderedDict([('orange', 20), ('banana', 80), ('dragonfruit', 20)])\n"
          ]
        }
      ]
    },
    {
      "cell_type": "code",
      "source": [
        "from collections import defaultdict\n",
        "\n",
        "lectures = ['mathematics', 'physics', 'chemistry', 'biology']\n",
        "\n",
        "# Constuct a default dictionary\n",
        "lecturesDict = defaultdict(int)\n",
        "\n",
        "# Change the values of dictionary content\n",
        "for i, lecture in enumerate(lectures):\n",
        "    lecturesDict[lecture] += i\n",
        "    print(f\"{i} Adding {lecture} into dict: \")\n",
        "    for (k, v) in lecturesDict.items():\n",
        "        print(k + \": \" + str(v))"
      ],
      "metadata": {
        "colab": {
          "base_uri": "https://localhost:8080/"
        },
        "id": "U5U6R33SNC9y",
        "outputId": "d8b15014-fd42-40b6-d5cf-758d8fd61681"
      },
      "execution_count": 11,
      "outputs": [
        {
          "output_type": "stream",
          "name": "stdout",
          "text": [
            "0 Adding mathematics into dict: \n",
            "mathematics: 0\n",
            "1 Adding physics into dict: \n",
            "mathematics: 0\n",
            "physics: 1\n",
            "2 Adding chemistry into dict: \n",
            "mathematics: 0\n",
            "physics: 1\n",
            "chemistry: 2\n",
            "3 Adding biology into dict: \n",
            "mathematics: 0\n",
            "physics: 1\n",
            "chemistry: 2\n",
            "biology: 3\n"
          ]
        }
      ]
    },
    {
      "cell_type": "code",
      "source": [
        "from collections import Counter\n",
        "\n",
        "str1 = \"missisipi\"\n",
        "str2 = \"tiptronic\"\n",
        "\n",
        "# Create a Counter for str1 and str2\n",
        "c1 = Counter(str1)\n",
        "c2 = Counter(str2)\n",
        "\n",
        "# Accessing a content of the counter\n",
        "print(\"Number of s in str1:\",  c1[\"s\"])\n",
        "\n",
        "# Total number of elements in counter\n",
        "print(\"Number of letters in str1:\", sum(c1.values()))\n",
        "\n",
        "# Combine counters\n",
        "c1.update(str2)\n",
        "print(\"Number of letters in str1 and str2:\", sum(c1.values()))\n",
        "\n",
        "# Find the 3 most common content\n",
        "print(c1.most_common(3))\n",
        "\n",
        "# Separate contents of counters\n",
        "c1.subtract(str2)\n",
        "print(c1.most_common(1))\n",
        "\n",
        "# Finding common elements of two counters\n",
        "print(c1 & c2)"
      ],
      "metadata": {
        "colab": {
          "base_uri": "https://localhost:8080/"
        },
        "id": "dukPWPebNEGl",
        "outputId": "20888e60-07c9-41d8-b8b0-e8c1f9be1b2d"
      },
      "execution_count": 12,
      "outputs": [
        {
          "output_type": "stream",
          "name": "stdout",
          "text": [
            "Number of s in str1: 3\n",
            "Number of letters in str1: 9\n",
            "Number of letters in str1 and str2: 18\n",
            "[('i', 6), ('s', 3), ('p', 2)]\n",
            "[('i', 4)]\n",
            "Counter({'i': 2, 'p': 1})\n"
          ]
        }
      ]
    },
    {
      "cell_type": "code",
      "source": [
        "# list of sport teams with wins and losses\n",
        "import collections\n",
        "\n",
        "# construct a deque\n",
        "d = collections.deque([\"lorem\", \"ipsum\", \"dolor\", \"sit\", \"amet\"])\n",
        "\n",
        "# get len of deque\n",
        "print(\"Initial len:\", str(len(d)))\n",
        "\n",
        "# append deque\n",
        "d.append(\"hello\")\n",
        "d.appendleft(\"world\")\n",
        "\n",
        "# deque iterator\n",
        "for elem in d:\n",
        "    print(elem.upper(), end=\",\")\n",
        "\n",
        "# pop deque\n",
        "print(\"pop:\", d.pop())\n",
        "print(\"popleft:\", d.popleft())\n",
        "print(\"Current deque\", d)\n",
        "\n",
        "# rotate deque\n",
        "d.rotate(3)\n",
        "print(\"Final deque:\", d)"
      ],
      "metadata": {
        "colab": {
          "base_uri": "https://localhost:8080/"
        },
        "id": "AvfRma38NF4V",
        "outputId": "a05b2356-9dfc-4318-91e4-70649f97171c"
      },
      "execution_count": 13,
      "outputs": [
        {
          "output_type": "stream",
          "name": "stdout",
          "text": [
            "Initial len: 5\n",
            "WORLD,LOREM,IPSUM,DOLOR,SIT,AMET,HELLO,pop: hello\n",
            "popleft: world\n",
            "Current deque deque(['lorem', 'ipsum', 'dolor', 'sit', 'amet'])\n",
            "Final deque: deque(['dolor', 'sit', 'amet', 'lorem', 'ipsum'])\n"
          ]
        }
      ]
    },
    {
      "cell_type": "markdown",
      "source": [
        "# Enum"
      ],
      "metadata": {
        "id": "u03hluE6NITW"
      }
    },
    {
      "cell_type": "code",
      "source": [
        "from enum import Enum, unique, auto\n",
        "\n",
        "@unique # If we add DEBIAN=3, it will throw\n",
        "        # ValueError: duplicate values found in <enum 'OpSys'>: DEBIAN -> MACOS\n",
        "class OpSys(Enum):\n",
        "    WINDOWS = 1\n",
        "    UBUNTU = 2\n",
        "    MACOS = 3\n",
        "    CENTOS = auto()\n",
        "\n",
        "\n",
        "def main():\n",
        "    print(OpSys.WINDOWS)\n",
        "    print(type(OpSys.WINDOWS)) # returns the type of the object\n",
        "    print(repr(OpSys.WINDOWS)) # returns a printable representation of the given object\n",
        "\n",
        "    # Enum name and value accessors\n",
        "    print(OpSys.MACOS.name, OpSys.MACOS.value)\n",
        "\n",
        "    # Auto method can be used for auto value-assignments\n",
        "    print(OpSys.CENTOS.value)\n",
        "\n",
        "    # enums can be used as keys\n",
        "    oss = {OpSys.WINDOWS: \"Microsoft Windows\"}\n",
        "    print(oss[OpSys.WINDOWS])\n",
        "\n",
        "if __name__ == '__main__':\n",
        "    main()"
      ],
      "metadata": {
        "colab": {
          "base_uri": "https://localhost:8080/"
        },
        "id": "w4bJKwVGNHKt",
        "outputId": "e8bd7fc4-c091-496b-9585-2027c2a38e1b"
      },
      "execution_count": 14,
      "outputs": [
        {
          "output_type": "stream",
          "name": "stdout",
          "text": [
            "OpSys.WINDOWS\n",
            "<enum 'OpSys'>\n",
            "<OpSys.WINDOWS: 1>\n",
            "MACOS 3\n",
            "4\n",
            "Microsoft Windows\n"
          ]
        }
      ]
    },
    {
      "cell_type": "code",
      "source": [
        "class Planet:\n",
        "    def __init__(self, name, average_density, num_satellites):\n",
        "        self.name = name\n",
        "        self.average_density = average_density\n",
        "        self.num_satellites = num_satellites\n",
        "\n",
        "    def __repr__(self):\n",
        "        return (\"<Planet name:{0}, average_density:{1}, num_satellites:{2}>\"\n",
        "                .format(self.name, self.average_density, self.num_satellites))\n",
        "\n",
        "    def __str__(self):\n",
        "        return \"Planet {0} is {1} kg/m3 and have {2} satellites)\".format(self.name, self.average_density, self.num_satellites)\n",
        "\n",
        "    def __bytes__(self):\n",
        "        val = \"Planet:{0}:{1}:{2}\".format(self.name, self.average_density, self.num_satellites)\n",
        "        return bytes(val.encode('utf-8'))\n",
        "\n",
        "    def __getattribute__(self, attr):\n",
        "        print(\"__getattribute__\", attr)\n",
        "        return super().__getattribute__(attr)\n",
        "\n",
        "    def __getattr__(self, attr):\n",
        "        print(\"__getattr__\", attr)\n",
        "        if attr == \"kg_per_m3\":\n",
        "            return self.name, self.average_density, self.num_satellites\n",
        "        elif attr == \"lb_per_ft3\":\n",
        "            return self.name, self.average_density*0.0624279606, self.num_satellites\n",
        "        else:\n",
        "            # raise AttributeError\n",
        "            print(\"Non existing field\")\n",
        "            return None\n",
        "\n",
        "    def __setattr__(self, attr, val):\n",
        "        print(\"__setattr__\", attr)\n",
        "        if attr == \"kg_per_m3\":\n",
        "            self.name = val[0]\n",
        "            self.average_density = val[1]\n",
        "            self.num_satellites = val[2]\n",
        "        elif attr == \"lb_per_ft3\":\n",
        "            self.name = val[0]\n",
        "            self.average_density = val[1]*16.01846336783906\n",
        "            self.num_satellites = val[2]\n",
        "        else:\n",
        "            super().__setattr__(attr, val)\n",
        "\n",
        "    # list the available properties\n",
        "    def __dir__(self):\n",
        "        return \"kg_per_m3\", \"lb_per_ft3\"\n",
        "\n",
        "\n",
        "def main():\n",
        "    saturn = Planet(\"Saturn\", 690, 62)\n",
        "\n",
        "    print(repr(saturn))\n",
        "    print(str(saturn))\n",
        "    print(\"Formatted: {0}\".format(saturn))\n",
        "    print(bytes(saturn))\n",
        "\n",
        "    # try to pint a non-existing field\n",
        "    print(saturn.non_existing_field)\n",
        "\n",
        "    # print computed values\n",
        "    print(saturn.kg_per_m3)\n",
        "    print(saturn.lb_per_ft3)\n",
        "\n",
        "    # set computed attributes\n",
        "    saturn.kg_per_m3 = (\"Neptun\", 1660, 14)\n",
        "\n",
        "    # print computed values\n",
        "    print(saturn.kg_per_m3)\n",
        "    print(saturn.lb_per_ft3)\n",
        "\n",
        "    # access a regular attribute\n",
        "    print(saturn.average_density)\n",
        "\n",
        "    # list the available attributes\n",
        "    print(dir(saturn))\n",
        "\n",
        "if __name__ == \"__main__\":\n",
        "    main()"
      ],
      "metadata": {
        "colab": {
          "base_uri": "https://localhost:8080/"
        },
        "id": "JBCDOMXQNKQL",
        "outputId": "f67be8d3-ac09-48c1-c017-666bd8dd0544"
      },
      "execution_count": 15,
      "outputs": [
        {
          "output_type": "stream",
          "name": "stdout",
          "text": [
            "__setattr__ name\n",
            "__setattr__ average_density\n",
            "__setattr__ num_satellites\n",
            "__getattribute__ name\n",
            "__getattribute__ average_density\n",
            "__getattribute__ num_satellites\n",
            "<Planet name:Saturn, average_density:690, num_satellites:62>\n",
            "__getattribute__ name\n",
            "__getattribute__ average_density\n",
            "__getattribute__ num_satellites\n",
            "Planet Saturn is 690 kg/m3 and have 62 satellites)\n",
            "__getattribute__ name\n",
            "__getattribute__ average_density\n",
            "__getattribute__ num_satellites\n",
            "Formatted: Planet Saturn is 690 kg/m3 and have 62 satellites)\n",
            "__getattribute__ name\n",
            "__getattribute__ average_density\n",
            "__getattribute__ num_satellites\n",
            "b'Planet:Saturn:690:62'\n",
            "__getattribute__ non_existing_field\n",
            "__getattr__ non_existing_field\n",
            "Non existing field\n",
            "None\n",
            "__getattribute__ kg_per_m3\n",
            "__getattr__ kg_per_m3\n",
            "__getattribute__ name\n",
            "__getattribute__ average_density\n",
            "__getattribute__ num_satellites\n",
            "('Saturn', 690, 62)\n",
            "__getattribute__ lb_per_ft3\n",
            "__getattr__ lb_per_ft3\n",
            "__getattribute__ name\n",
            "__getattribute__ average_density\n",
            "__getattribute__ num_satellites\n",
            "('Saturn', 43.075292814, 62)\n",
            "__setattr__ kg_per_m3\n",
            "__setattr__ name\n",
            "__setattr__ average_density\n",
            "__setattr__ num_satellites\n",
            "__getattribute__ kg_per_m3\n",
            "__getattr__ kg_per_m3\n",
            "__getattribute__ name\n",
            "__getattribute__ average_density\n",
            "__getattribute__ num_satellites\n",
            "('Neptun', 1660, 14)\n",
            "__getattribute__ lb_per_ft3\n",
            "__getattr__ lb_per_ft3\n",
            "__getattribute__ name\n",
            "__getattribute__ average_density\n",
            "__getattribute__ num_satellites\n",
            "('Neptun', 103.630414596, 14)\n",
            "__getattribute__ average_density\n",
            "1660\n",
            "['kg_per_m3', 'lb_per_ft3']\n"
          ]
        }
      ]
    },
    {
      "cell_type": "code",
      "source": [
        "class Point:\n",
        "    def __init__(self, x, y):\n",
        "        self.x = x\n",
        "        self.y = y\n",
        "\n",
        "    def __add__(self, other):\n",
        "        return Point(self.x + other.x, self.y + other.y)\n",
        "\n",
        "    def __isub__(self, other):\n",
        "        self.x -= other.x\n",
        "        self.y -= other.y\n",
        "        return self\n",
        "\n",
        "    def __repr__(self):\n",
        "        return \"Point({0}, {1})\".format(self.x, self.y)\n",
        "\n",
        "\n",
        "def main():\n",
        "    p1 = Point(0, 5)\n",
        "    p2 = Point(10, 10)\n",
        "\n",
        "    print(\"Initial points:\", p1, p2)\n",
        "    p3 = p1 + p2\n",
        "    print(\"Point addition:\", p1, p2, p3)\n",
        "    p1 -= p2\n",
        "    print(\"Points after in-place subtraction:\", p1, p2)\n",
        "\n",
        "\n",
        "if __name__ == \"__main__\":\n",
        "    main()"
      ],
      "metadata": {
        "colab": {
          "base_uri": "https://localhost:8080/"
        },
        "id": "nlBmNeufNNXf",
        "outputId": "d6b587c4-4085-4375-8ead-6cea496e751d"
      },
      "execution_count": 16,
      "outputs": [
        {
          "output_type": "stream",
          "name": "stdout",
          "text": [
            "Initial points: Point(0, 5) Point(10, 10)\n",
            "Point addition: Point(0, 5) Point(10, 10) Point(10, 15)\n",
            "Points after in-place subtraction: Point(-10, -5) Point(10, 10)\n"
          ]
        }
      ]
    },
    {
      "cell_type": "code",
      "source": [
        "class Student:\n",
        "    def __init__(self, name, grade):\n",
        "        self.name = name\n",
        "        self.grade = grade\n",
        "\n",
        "    def __ge__(self, other):\n",
        "        return self.grade >= other.grade\n",
        "\n",
        "    def __lt__(self, other):\n",
        "        return self.grade < other.grade\n",
        "\n",
        "    def __eq__(self, other):\n",
        "        return self.grade == other.grade\n",
        "\n",
        "    def __ne__(self, other):\n",
        "        return self.grade != other.grade\n",
        "\n",
        "    def __repr__(self):\n",
        "        return \"Student({0}, {1})\".format(self.name, self.grade)\n",
        "\n",
        "\n",
        "def main():\n",
        "    p1 = Student(\"Jane\", 50)\n",
        "    p2 = Student(\"Joe\", 100)\n",
        "    p3 = Student(\"Daniel\", 70)\n",
        "    p4 = Student(\"Daniel\", 10)\n",
        "\n",
        "    print(\"p1 >= p2:\", p1 >= p2)\n",
        "    print(\"p1 < p2:\", p1 < p2)\n",
        "    print(\"p1 == p2:\", p1 == p2)\n",
        "    print(\"p1 != p2:\", p1 != p2)\n",
        "    print(\"p1 <= p2:\", p1 <= p2)\n",
        "\n",
        "    students = sorted([p1, p2, p3, p4])\n",
        "    print(\"students sorted:\")\n",
        "    for student in students:\n",
        "        print(student)\n",
        "\n",
        "if __name__ == \"__main__\":\n",
        "    main()"
      ],
      "metadata": {
        "colab": {
          "base_uri": "https://localhost:8080/"
        },
        "id": "Eaw78xGdNPGG",
        "outputId": "ac3698f1-cc59-4850-8fc3-e0b392bccada"
      },
      "execution_count": 17,
      "outputs": [
        {
          "output_type": "stream",
          "name": "stdout",
          "text": [
            "p1 >= p2: False\n",
            "p1 < p2: True\n",
            "p1 == p2: False\n",
            "p1 != p2: True\n",
            "p1 <= p2: True\n",
            "students sorted:\n",
            "Student(Daniel, 10)\n",
            "Student(Jane, 50)\n",
            "Student(Daniel, 70)\n",
            "Student(Joe, 100)\n"
          ]
        }
      ]
    },
    {
      "cell_type": "markdown",
      "source": [
        "# Logging"
      ],
      "metadata": {
        "id": "8j8FUe8HNS44"
      }
    },
    {
      "cell_type": "code",
      "source": [
        "import logging\n",
        "\n",
        "extData = {'some_ext_data': 110}\n",
        "\n",
        "\n",
        "def fnc():\n",
        "    logging.debug(\"This is a debug-level log message\", extra=extData)\n",
        "\n",
        "\n",
        "def main():\n",
        "    # formatters\n",
        "    msg_frmt = \"%(asctime)s: %(levelname)s: %(funcName)s Line:%(lineno)d extData:%(some_ext_data)d %(message)s\"\n",
        "    date_frmt = \"%m/%d/%Y %I:%M:%S %p\"\n",
        "\n",
        "    # log config\n",
        "    logging.basicConfig(filename=\"output.log\",\n",
        "                        level=logging.DEBUG,\n",
        "                        filemode=\"a\",\n",
        "                        format=msg_frmt,\n",
        "                        datefmt=date_frmt)\n",
        "\n",
        "    logging.info(\"This is an info-level log message\", extra=extData)\n",
        "    logging.warning(\"This is a warning-level message\", extra=extData)\n",
        "    fnc()\n",
        "\n",
        "\n",
        "if __name__ == \"__main__\":\n",
        "    main()"
      ],
      "metadata": {
        "colab": {
          "base_uri": "https://localhost:8080/"
        },
        "id": "0yWToHARNRnS",
        "outputId": "43c928dc-e0b6-4eba-f573-d379407d862b"
      },
      "execution_count": 18,
      "outputs": [
        {
          "output_type": "stream",
          "name": "stderr",
          "text": [
            "WARNING:root:This is a warning-level message\n"
          ]
        }
      ]
    },
    {
      "cell_type": "markdown",
      "source": [
        "# Comprehensions"
      ],
      "metadata": {
        "id": "4qC2_uC7NWaK"
      }
    },
    {
      "cell_type": "code",
      "source": [
        "fruits = [\"apple\", \"banana\", \"cherry\", \"kiwi\", \"mango\"]\n",
        "new_list = []\n",
        "\n",
        "# for loop\n",
        "for x in fruits:\n",
        "  if \"a\" in x:\n",
        "    new_list.append((\"fruit\", x))\n",
        "print(new_list)\n",
        "\n",
        "# lambda\n",
        "new_list = list(map(lambda e: (\"fruit\", e),\n",
        "            filter(lambda e: \"a\" in e, fruits)))\n",
        "print(new_list)\n",
        "\n",
        "# comprehension\n",
        "new_list = [(\"fruit\", x) for x in fruits if \"a\" in x]\n",
        "print(new_list)"
      ],
      "metadata": {
        "colab": {
          "base_uri": "https://localhost:8080/"
        },
        "id": "JnBFIGHaNUyc",
        "outputId": "cbcee0eb-1ef1-41ad-e6c5-2e93a7e0141e"
      },
      "execution_count": 19,
      "outputs": [
        {
          "output_type": "stream",
          "name": "stdout",
          "text": [
            "[('fruit', 'apple'), ('fruit', 'banana'), ('fruit', 'mango')]\n",
            "[('fruit', 'apple'), ('fruit', 'banana'), ('fruit', 'mango')]\n",
            "[('fruit', 'apple'), ('fruit', 'banana'), ('fruit', 'mango')]\n"
          ]
        }
      ]
    },
    {
      "cell_type": "code",
      "source": [
        "nums = [1, 8, 11, 125]\n",
        "\n",
        "# Use a comprehension to build a dictionary\n",
        "squares = {t: t*t for t in nums if t < 100}\n",
        "print(squares)\n",
        "print(squares[11])\n",
        "\n",
        "# Merge two dictionaries with a comprehension\n",
        "st1 = {\"John\": \"A\", \"James\": \"B\", \"Jane\": \"A+\"}\n",
        "st2 = {\"Heidi\": \"C\", \"Celine\": \"B+\"}\n",
        "stds= {k: v for team in (st1, st2) for k, v in team.items()}\n",
        "print(stds)"
      ],
      "metadata": {
        "colab": {
          "base_uri": "https://localhost:8080/"
        },
        "id": "Vdl2WgzlNXeK",
        "outputId": "dd714691-5fa7-444d-d010-95bec303cc40"
      },
      "execution_count": 20,
      "outputs": [
        {
          "output_type": "stream",
          "name": "stdout",
          "text": [
            "{1: 1, 8: 64, 11: 121}\n",
            "121\n",
            "{'John': 'A', 'James': 'B', 'Jane': 'A+', 'Heidi': 'C', 'Celine': 'B+'}\n"
          ]
        }
      ]
    }
  ]
}