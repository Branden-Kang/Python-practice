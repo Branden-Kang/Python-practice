{
  "nbformat": 4,
  "nbformat_minor": 0,
  "metadata": {
    "colab": {
      "name": "5 lesser-known pandas tricks.ipynb",
      "provenance": [],
      "collapsed_sections": [],
      "authorship_tag": "ABX9TyP7Rzk5tn6s8lQIXnRc4Bvb"
    },
    "kernelspec": {
      "name": "python3",
      "display_name": "Python 3"
    }
  },
  "cells": [
    {
      "cell_type": "markdown",
      "metadata": {
        "id": "jdWIjd0-BldX",
        "colab_type": "text"
      },
      "source": [
        "[Reference](https://towardsdatascience.com/5-lesser-known-pandas-tricks-e8ab1dd21431)"
      ]
    },
    {
      "cell_type": "markdown",
      "metadata": {
        "id": "J-bR9e1kBqYa",
        "colab_type": "text"
      },
      "source": [
        "# 1. Date Ranges"
      ]
    },
    {
      "cell_type": "code",
      "metadata": {
        "id": "p0CSt8cKBtqQ",
        "colab_type": "code",
        "colab": {}
      },
      "source": [
        "import pandas as pd"
      ],
      "execution_count": 2,
      "outputs": []
    },
    {
      "cell_type": "code",
      "metadata": {
        "id": "VI8CQ220Binp",
        "colab_type": "code",
        "colab": {
          "base_uri": "https://localhost:8080/",
          "height": 85
        },
        "outputId": "57d7693b-c54e-4845-818d-9952a3bb148a"
      },
      "source": [
        "date_from = \"2019-01-01\"\n",
        "date_to = \"2019-01-12\"\n",
        "date_range = pd.date_range(date_from, date_to, freq=\"D\")\n",
        "date_range"
      ],
      "execution_count": 3,
      "outputs": [
        {
          "output_type": "execute_result",
          "data": {
            "text/plain": [
              "DatetimeIndex(['2019-01-01', '2019-01-02', '2019-01-03', '2019-01-04',\n",
              "               '2019-01-05', '2019-01-06', '2019-01-07', '2019-01-08',\n",
              "               '2019-01-09', '2019-01-10', '2019-01-11', '2019-01-12'],\n",
              "              dtype='datetime64[ns]', freq='D')"
            ]
          },
          "metadata": {
            "tags": []
          },
          "execution_count": 3
        }
      ]
    },
    {
      "cell_type": "code",
      "metadata": {
        "id": "NbLMJykOBr9b",
        "colab_type": "code",
        "colab": {
          "base_uri": "https://localhost:8080/",
          "height": 204
        },
        "outputId": "07301a94-67d8-4114-978c-cb54ee363322"
      },
      "source": [
        "for i, (date_from, date_to) in enumerate(zip(date_range[:-1], date_range[1:]), 1):\n",
        "    date_from = date_from.date().isoformat()\n",
        "    date_to = date_to.date().isoformat()\n",
        "    print(\"%d. date_from: %s, date_to: %s\" % (i, date_from, date_to))"
      ],
      "execution_count": 4,
      "outputs": [
        {
          "output_type": "stream",
          "text": [
            "1. date_from: 2019-01-01, date_to: 2019-01-02\n",
            "2. date_from: 2019-01-02, date_to: 2019-01-03\n",
            "3. date_from: 2019-01-03, date_to: 2019-01-04\n",
            "4. date_from: 2019-01-04, date_to: 2019-01-05\n",
            "5. date_from: 2019-01-05, date_to: 2019-01-06\n",
            "6. date_from: 2019-01-06, date_to: 2019-01-07\n",
            "7. date_from: 2019-01-07, date_to: 2019-01-08\n",
            "8. date_from: 2019-01-08, date_to: 2019-01-09\n",
            "9. date_from: 2019-01-09, date_to: 2019-01-10\n",
            "10. date_from: 2019-01-10, date_to: 2019-01-11\n",
            "11. date_from: 2019-01-11, date_to: 2019-01-12\n"
          ],
          "name": "stdout"
        }
      ]
    },
    {
      "cell_type": "markdown",
      "metadata": {
        "id": "fWPjiDy6Bxcj",
        "colab_type": "text"
      },
      "source": [
        "# 2. Merge with indicator"
      ]
    },
    {
      "cell_type": "code",
      "metadata": {
        "id": "LKnDs2jOBvuy",
        "colab_type": "code",
        "colab": {}
      },
      "source": [
        "left = pd.DataFrame({\"key\": [\"key1\", \"key2\", \"key3\", \"key4\"], \"value_l\": [1, 2, 3, 4]})"
      ],
      "execution_count": 5,
      "outputs": []
    },
    {
      "cell_type": "code",
      "metadata": {
        "id": "1q-y_WItBz_n",
        "colab_type": "code",
        "colab": {}
      },
      "source": [
        "right = pd.DataFrame({\"key\": [\"key3\", \"key2\", \"key1\", \"key6\"], \"value_r\": [3, 2, 1, 6]})"
      ],
      "execution_count": 6,
      "outputs": []
    },
    {
      "cell_type": "code",
      "metadata": {
        "id": "VHNR2tgMB2Wn",
        "colab_type": "code",
        "colab": {}
      },
      "source": [
        "df_merge = left.merge(right, on='key', how='left', indicator=True)"
      ],
      "execution_count": 7,
      "outputs": []
    },
    {
      "cell_type": "code",
      "metadata": {
        "id": "cC-5CZ0TB3qd",
        "colab_type": "code",
        "colab": {
          "base_uri": "https://localhost:8080/",
          "height": 85
        },
        "outputId": "45d5d3ca-eb04-45e4-a506-a718786b2e48"
      },
      "source": [
        "df_merge._merge.value_counts()"
      ],
      "execution_count": 8,
      "outputs": [
        {
          "output_type": "execute_result",
          "data": {
            "text/plain": [
              "both          3\n",
              "left_only     1\n",
              "right_only    0\n",
              "Name: _merge, dtype: int64"
            ]
          },
          "metadata": {
            "tags": []
          },
          "execution_count": 8
        }
      ]
    },
    {
      "cell_type": "markdown",
      "metadata": {
        "id": "K5pxVnUGB6_X",
        "colab_type": "text"
      },
      "source": [
        "# 3. Nearest merge"
      ]
    },
    {
      "cell_type": "code",
      "metadata": {
        "id": "yw7lAxI3B5yv",
        "colab_type": "code",
        "colab": {}
      },
      "source": [
        "quotes = pd.DataFrame(\n",
        "    [\n",
        "        [\"2016-05-25 13:30:00.023\", \"GOOG\", 720.50, 720.93],\n",
        "        [\"2016-05-25 13:30:00.023\", \"MSFT\", 51.95, 51.96],\n",
        "        [\"2016-05-25 13:30:00.030\", \"MSFT\", 51.97, 51.98],\n",
        "        [\"2016-05-25 13:30:00.041\", \"MSFT\", 51.99, 52.00],\n",
        "        [\"2016-05-25 13:30:00.048\", \"GOOG\", 720.50, 720.93],\n",
        "        [\"2016-05-25 13:30:00.049\", \"AAPL\", 97.99, 98.01],\n",
        "        [\"2016-05-25 13:30:00.072\", \"GOOG\", 720.50, 720.88],\n",
        "        [\"2016-05-25 13:30:00.075\", \"MSFT\", 52.01, 52.03],\n",
        "    ],\n",
        "    columns=[\"timestamp\", \"ticker\", \"bid\", \"ask\"],\n",
        ")\n",
        "quotes['timestamp'] = pd.to_datetime(quotes['timestamp'])"
      ],
      "execution_count": 9,
      "outputs": []
    },
    {
      "cell_type": "code",
      "metadata": {
        "id": "JwbiZYfhB8ut",
        "colab_type": "code",
        "colab": {}
      },
      "source": [
        "trades = pd.DataFrame(\n",
        "    [\n",
        "        [\"2016-05-25 13:30:00.023\", \"MSFT\", 51.95, 75],\n",
        "        [\"2016-05-25 13:30:00.038\", \"MSFT\", 51.95, 155],\n",
        "        [\"2016-05-25 13:30:00.048\", \"GOOG\", 720.77, 100],\n",
        "        [\"2016-05-25 13:30:00.048\", \"GOOG\", 720.92, 100],\n",
        "        [\"2016-05-25 13:30:00.048\", \"AAPL\", 98.00, 100],\n",
        "    ],\n",
        "    columns=[\"timestamp\", \"ticker\", \"price\", \"quantity\"],\n",
        ")\n",
        "trades['timestamp'] = pd.to_datetime(trades['timestamp'])"
      ],
      "execution_count": 10,
      "outputs": []
    },
    {
      "cell_type": "code",
      "metadata": {
        "id": "WHrULdTiB-0A",
        "colab_type": "code",
        "colab": {
          "base_uri": "https://localhost:8080/",
          "height": 204
        },
        "outputId": "5bb90f9e-05dc-4c2f-fa13-70df17831eec"
      },
      "source": [
        "pd.merge_asof(trades, quotes, on=\"timestamp\", by='ticker', tolerance=pd.Timedelta('10ms'), direction='backward')"
      ],
      "execution_count": 11,
      "outputs": [
        {
          "output_type": "execute_result",
          "data": {
            "text/html": [
              "<div>\n",
              "<style scoped>\n",
              "    .dataframe tbody tr th:only-of-type {\n",
              "        vertical-align: middle;\n",
              "    }\n",
              "\n",
              "    .dataframe tbody tr th {\n",
              "        vertical-align: top;\n",
              "    }\n",
              "\n",
              "    .dataframe thead th {\n",
              "        text-align: right;\n",
              "    }\n",
              "</style>\n",
              "<table border=\"1\" class=\"dataframe\">\n",
              "  <thead>\n",
              "    <tr style=\"text-align: right;\">\n",
              "      <th></th>\n",
              "      <th>timestamp</th>\n",
              "      <th>ticker</th>\n",
              "      <th>price</th>\n",
              "      <th>quantity</th>\n",
              "      <th>bid</th>\n",
              "      <th>ask</th>\n",
              "    </tr>\n",
              "  </thead>\n",
              "  <tbody>\n",
              "    <tr>\n",
              "      <th>0</th>\n",
              "      <td>2016-05-25 13:30:00.023</td>\n",
              "      <td>MSFT</td>\n",
              "      <td>51.95</td>\n",
              "      <td>75</td>\n",
              "      <td>51.95</td>\n",
              "      <td>51.96</td>\n",
              "    </tr>\n",
              "    <tr>\n",
              "      <th>1</th>\n",
              "      <td>2016-05-25 13:30:00.038</td>\n",
              "      <td>MSFT</td>\n",
              "      <td>51.95</td>\n",
              "      <td>155</td>\n",
              "      <td>51.97</td>\n",
              "      <td>51.98</td>\n",
              "    </tr>\n",
              "    <tr>\n",
              "      <th>2</th>\n",
              "      <td>2016-05-25 13:30:00.048</td>\n",
              "      <td>GOOG</td>\n",
              "      <td>720.77</td>\n",
              "      <td>100</td>\n",
              "      <td>720.50</td>\n",
              "      <td>720.93</td>\n",
              "    </tr>\n",
              "    <tr>\n",
              "      <th>3</th>\n",
              "      <td>2016-05-25 13:30:00.048</td>\n",
              "      <td>GOOG</td>\n",
              "      <td>720.92</td>\n",
              "      <td>100</td>\n",
              "      <td>720.50</td>\n",
              "      <td>720.93</td>\n",
              "    </tr>\n",
              "    <tr>\n",
              "      <th>4</th>\n",
              "      <td>2016-05-25 13:30:00.048</td>\n",
              "      <td>AAPL</td>\n",
              "      <td>98.00</td>\n",
              "      <td>100</td>\n",
              "      <td>NaN</td>\n",
              "      <td>NaN</td>\n",
              "    </tr>\n",
              "  </tbody>\n",
              "</table>\n",
              "</div>"
            ],
            "text/plain": [
              "                timestamp ticker   price  quantity     bid     ask\n",
              "0 2016-05-25 13:30:00.023   MSFT   51.95        75   51.95   51.96\n",
              "1 2016-05-25 13:30:00.038   MSFT   51.95       155   51.97   51.98\n",
              "2 2016-05-25 13:30:00.048   GOOG  720.77       100  720.50  720.93\n",
              "3 2016-05-25 13:30:00.048   GOOG  720.92       100  720.50  720.93\n",
              "4 2016-05-25 13:30:00.048   AAPL   98.00       100     NaN     NaN"
            ]
          },
          "metadata": {
            "tags": []
          },
          "execution_count": 11
        }
      ]
    },
    {
      "cell_type": "markdown",
      "metadata": {
        "id": "8olbvNy-Ca0e",
        "colab_type": "text"
      },
      "source": [
        "# 4. Create an Excel report"
      ]
    },
    {
      "cell_type": "code",
      "metadata": {
        "id": "SuV7sdGOCHFX",
        "colab_type": "code",
        "colab": {
          "base_uri": "https://localhost:8080/",
          "height": 71
        },
        "outputId": "e18efa36-ceb4-4eed-8e88-46cb6794eef3"
      },
      "source": [
        "df = pd.DataFrame(pd.np.array([[1, 2, 3], [4, 5, 6], [7, 8, 9]]), columns=[\"a\", \"b\", \"c\"])"
      ],
      "execution_count": 12,
      "outputs": [
        {
          "output_type": "stream",
          "text": [
            "/usr/local/lib/python3.6/dist-packages/ipykernel_launcher.py:1: FutureWarning: The pandas.np module is deprecated and will be removed from pandas in a future version. Import numpy directly instead\n",
            "  \"\"\"Entry point for launching an IPython kernel.\n"
          ],
          "name": "stderr"
        }
      ]
    },
    {
      "cell_type": "code",
      "metadata": {
        "id": "6pk6rEwYCg9X",
        "colab_type": "code",
        "colab": {
          "base_uri": "https://localhost:8080/",
          "height": 122
        },
        "outputId": "0c937fc8-9829-40f4-d2bb-f866f9b1c487"
      },
      "source": [
        "!pip install xlsxwriter\n",
        "import xlsxwriter\n",
        "report_name = 'example_report.xlsx'\n",
        "sheet_name = 'Sheet1'\n",
        "writer = pd.ExcelWriter(report_name, engine='xlsxwriter')\n",
        "df.to_excel(writer, sheet_name=sheet_name, index=False)\n",
        "# writer.save()"
      ],
      "execution_count": 16,
      "outputs": [
        {
          "output_type": "stream",
          "text": [
            "Collecting xlsxwriter\n",
            "\u001b[?25l  Downloading https://files.pythonhosted.org/packages/5f/ae/bc537251d5a191053467d0a656a6920d70f735e7d829e1fff8bcab9ddcc8/XlsxWriter-1.3.1-py2.py3-none-any.whl (142kB)\n",
            "\r\u001b[K     |██▎                             | 10kB 13.6MB/s eta 0:00:01\r\u001b[K     |████▋                           | 20kB 2.2MB/s eta 0:00:01\r\u001b[K     |███████                         | 30kB 2.8MB/s eta 0:00:01\r\u001b[K     |█████████▏                      | 40kB 3.1MB/s eta 0:00:01\r\u001b[K     |███████████▌                    | 51kB 2.4MB/s eta 0:00:01\r\u001b[K     |█████████████▉                  | 61kB 2.7MB/s eta 0:00:01\r\u001b[K     |████████████████▏               | 71kB 3.1MB/s eta 0:00:01\r\u001b[K     |██████████████████▍             | 81kB 3.3MB/s eta 0:00:01\r\u001b[K     |████████████████████▊           | 92kB 3.4MB/s eta 0:00:01\r\u001b[K     |███████████████████████         | 102kB 3.3MB/s eta 0:00:01\r\u001b[K     |█████████████████████████▍      | 112kB 3.3MB/s eta 0:00:01\r\u001b[K     |███████████████████████████▋    | 122kB 3.3MB/s eta 0:00:01\r\u001b[K     |██████████████████████████████  | 133kB 3.3MB/s eta 0:00:01\r\u001b[K     |████████████████████████████████| 143kB 3.3MB/s \n",
            "\u001b[?25hInstalling collected packages: xlsxwriter\n",
            "Successfully installed xlsxwriter-1.3.1\n"
          ],
          "name": "stdout"
        }
      ]
    },
    {
      "cell_type": "code",
      "metadata": {
        "id": "7kMazJAeCin5",
        "colab_type": "code",
        "colab": {}
      },
      "source": [
        "# define the workbook\n",
        "workbook = writer.book\n",
        "worksheet = writer.sheets[sheet_name]\n",
        "\n",
        "# create a chart line object\n",
        "chart = workbook.add_chart({'type': 'line'})\n",
        "\n",
        "# configure the series of the chart from the spreadsheet\n",
        "# using a list of values instead of category/value formulas:\n",
        "#     [sheetname, first_row, first_col, last_row, last_col]\n",
        "chart.add_series({\n",
        "    'categories': [sheet_name, 1, 0, 3, 0],\n",
        "    'values':     [sheet_name, 1, 1, 3, 1],\n",
        "})\n",
        "\n",
        "# configure the chart axes\n",
        "chart.set_x_axis({'name': 'Index', 'position_axis': 'on_tick'})\n",
        "chart.set_y_axis({'name': 'Value', 'major_gridlines': {'visible': False}})\n",
        "\n",
        "# place the chart on the worksheet\n",
        "worksheet.insert_chart('E2', chart)\n",
        "\n",
        "# output the excel file\n",
        "writer.save()"
      ],
      "execution_count": 17,
      "outputs": []
    },
    {
      "cell_type": "markdown",
      "metadata": {
        "id": "_vcnFkKlCy4A",
        "colab_type": "text"
      },
      "source": [
        "# 5. Save the disk space"
      ]
    },
    {
      "cell_type": "code",
      "metadata": {
        "id": "hm09EnV0CxvH",
        "colab_type": "code",
        "colab": {
          "base_uri": "https://localhost:8080/",
          "height": 71
        },
        "outputId": "a47578c8-425b-4b43-b4b2-249a3ad180fc"
      },
      "source": [
        "df = pd.DataFrame(pd.np.random.randn(50000,300))"
      ],
      "execution_count": 18,
      "outputs": [
        {
          "output_type": "stream",
          "text": [
            "/usr/local/lib/python3.6/dist-packages/ipykernel_launcher.py:1: FutureWarning: The pandas.np module is deprecated and will be removed from pandas in a future version. Import numpy directly instead\n",
            "  \"\"\"Entry point for launching an IPython kernel.\n"
          ],
          "name": "stderr"
        }
      ]
    },
    {
      "cell_type": "code",
      "metadata": {
        "id": "JZ_DjnlcC1oS",
        "colab_type": "code",
        "colab": {}
      },
      "source": [
        "# df.to_csv('random_data.csv', index=False)"
      ],
      "execution_count": 20,
      "outputs": []
    },
    {
      "cell_type": "code",
      "metadata": {
        "id": "KajHj2swC7VV",
        "colab_type": "code",
        "colab": {}
      },
      "source": [
        "# df.to_csv('random_data.gz', compression='gzip', index=False)"
      ],
      "execution_count": 19,
      "outputs": []
    },
    {
      "cell_type": "code",
      "metadata": {
        "id": "-FEJDV0MC74U",
        "colab_type": "code",
        "colab": {}
      },
      "source": [
        "# df = pd.read_csv('random_data.gz')"
      ],
      "execution_count": 21,
      "outputs": []
    }
  ]
}