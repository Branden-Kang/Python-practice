{
  "nbformat": 4,
  "nbformat_minor": 0,
  "metadata": {
    "colab": {
      "name": "9 Magical facts about Python.ipynb",
      "provenance": [],
      "authorship_tag": "ABX9TyMAr+tkISQ4m4sY4Iw3JE9z"
    },
    "kernelspec": {
      "name": "python3",
      "display_name": "Python 3"
    }
  },
  "cells": [
    {
      "cell_type": "markdown",
      "metadata": {
        "id": "5oGXTxe6rnRj"
      },
      "source": [
        "[Reference](https://towardsdatascience.com/10-magical-facts-about-python-39d7f3a2c203)"
      ]
    },
    {
      "cell_type": "markdown",
      "metadata": {
        "id": "7m5BWzIHsEz3"
      },
      "source": [
        "# 1. One can return multiple values in python "
      ]
    },
    {
      "cell_type": "code",
      "metadata": {
        "colab": {
          "base_uri": "https://localhost:8080/"
        },
        "id": "JXVXt4U4rcCL",
        "outputId": "c25a5d9e-aa4a-421f-8435-b5ce9f4e35e9"
      },
      "source": [
        "def func():\n",
        "    return 1,2,3,4,5\n",
        "    \n",
        "one, two, three, four, five = func()\n",
        "print(one, two, three, four, five)"
      ],
      "execution_count": 1,
      "outputs": [
        {
          "output_type": "stream",
          "text": [
            "1 2 3 4 5\n"
          ],
          "name": "stdout"
        }
      ]
    },
    {
      "cell_type": "markdown",
      "metadata": {
        "id": "7bqrtD5msHm_"
      },
      "source": [
        "# 2. one can use an “else” clause with a “for” loop in python"
      ]
    },
    {
      "cell_type": "code",
      "metadata": {
        "colab": {
          "base_uri": "https://localhost:8080/"
        },
        "id": "Wji3dOAjrjXC",
        "outputId": "91daae72-21a6-4860-b3e8-adb301dcadcd"
      },
      "source": [
        "def func(array):\n",
        "    for num in array:\n",
        "        if num%2==0:\n",
        "            print(num)\n",
        "            break\n",
        "        else:\n",
        "            print(\"No call for Break. Else is executed\")\n",
        "\n",
        "print(\"1st Case:\")\n",
        "a=[2]\n",
        "func(a)\n",
        "\n",
        "print(\"2nd Case:\")\n",
        "a=[1]\n",
        "func(a)"
      ],
      "execution_count": 3,
      "outputs": [
        {
          "output_type": "stream",
          "text": [
            "1st Case:\n",
            "2\n",
            "2nd Case:\n",
            "No call for Break. Else is executed\n"
          ],
          "name": "stdout"
        }
      ]
    },
    {
      "cell_type": "markdown",
      "metadata": {
        "id": "1iOts7GDsLvz"
      },
      "source": [
        "# 3. In Python, everything is done by reference"
      ]
    },
    {
      "cell_type": "markdown",
      "metadata": {
        "id": "MOBOXOPIsNw-"
      },
      "source": [
        "# 4. Function Argument unpacking is another awesome feature of python"
      ]
    },
    {
      "cell_type": "code",
      "metadata": {
        "colab": {
          "base_uri": "https://localhost:8080/"
        },
        "id": "QiuLjApJrwsj",
        "outputId": "829d3faa-91d7-4060-8476-7e26e48f2679"
      },
      "source": [
        "def point(x,y):\n",
        "    print(x,y)\n",
        "    \n",
        "foo_list = (3,4)\n",
        "bar_dict = {'y':3 , 'x':2 }\n",
        "\n",
        "point(*foo_list)\n",
        "point(**bar_dict)"
      ],
      "execution_count": 4,
      "outputs": [
        {
          "output_type": "stream",
          "text": [
            "3 4\n",
            "2 3\n"
          ],
          "name": "stdout"
        }
      ]
    },
    {
      "cell_type": "markdown",
      "metadata": {
        "id": "qIORQPHpsUrH"
      },
      "source": [
        "# 5. Wrap an iterable with ‘enumerate’ "
      ]
    },
    {
      "cell_type": "code",
      "metadata": {
        "colab": {
          "base_uri": "https://localhost:8080/"
        },
        "id": "1icNQg2csQ_n",
        "outputId": "6a553404-90d7-4d7b-d7af-d7d89d16371b"
      },
      "source": [
        "vowels=['a','e','i','o','u']\n",
        "for i, letter in enumerate(vowels):\n",
        "    print(i, letter)"
      ],
      "execution_count": 5,
      "outputs": [
        {
          "output_type": "stream",
          "text": [
            "0 a\n",
            "1 e\n",
            "2 i\n",
            "3 o\n",
            "4 u\n"
          ],
          "name": "stdout"
        }
      ]
    },
    {
      "cell_type": "markdown",
      "metadata": {
        "id": "WuttKSUPsaTK"
      },
      "source": [
        "# 6. One can chain comparison operators in python answer = 1<x<10 is executable in python"
      ]
    },
    {
      "cell_type": "code",
      "metadata": {
        "colab": {
          "base_uri": "https://localhost:8080/"
        },
        "id": "pZk92VnNsYL6",
        "outputId": "4127905a-51be-4c71-eb39-953631bfc609"
      },
      "source": [
        "i=5\n",
        "ans = 1< i <10\n",
        "print(ans)\n",
        "\n",
        "ans=10> i <=9\n",
        "print(ans)\n",
        "\n",
        "ans = 5 ==i\n",
        "print(ans)"
      ],
      "execution_count": 6,
      "outputs": [
        {
          "output_type": "stream",
          "text": [
            "True\n",
            "True\n",
            "True\n"
          ],
          "name": "stdout"
        }
      ]
    },
    {
      "cell_type": "markdown",
      "metadata": {
        "id": "iSrVROmjsg1l"
      },
      "source": [
        "# 7. We can define Infinities in Python"
      ]
    },
    {
      "cell_type": "code",
      "metadata": {
        "colab": {
          "base_uri": "https://localhost:8080/"
        },
        "id": "2PImZbT9sdqW",
        "outputId": "920c0674-2841-4ac8-aa03-9f80dc819165"
      },
      "source": [
        "p_infinity = float('Inf')\n",
        "if 99999999999999 > p_infinity:\n",
        "    print(\"The number is greatest than Infinity!\")\n",
        "else:\n",
        "    print(\"Infinity is greatest\")\n",
        "\n",
        "n_infinity = float('-Inf')\n",
        "if -99999999999999 < n_infinity:\n",
        "    print(\"The number is lesser than Negative Infinity!\")\n",
        "else:\n",
        "    print(\"Negative Infinity is least\")"
      ],
      "execution_count": 7,
      "outputs": [
        {
          "output_type": "stream",
          "text": [
            "Infinity is greatest\n",
            "Negative Infinity is least\n"
          ],
          "name": "stdout"
        }
      ]
    },
    {
      "cell_type": "markdown",
      "metadata": {
        "id": "z1AsY_2nsqn1"
      },
      "source": [
        "# 8. Instead of building a list with a loop, one can build it more concisely with a list comprehension"
      ]
    },
    {
      "cell_type": "code",
      "metadata": {
        "colab": {
          "base_uri": "https://localhost:8080/"
        },
        "id": "QGM-rz3wsn84",
        "outputId": "3f9a2141-75ec-47fa-bcea-538fe54466af"
      },
      "source": [
        "a = [] \n",
        "for x in range(0,10):\n",
        "   a.append(x)\n",
        "   \n",
        "print(a)\n",
        "print([x for x in a])"
      ],
      "execution_count": 8,
      "outputs": [
        {
          "output_type": "stream",
          "text": [
            "[0, 1, 2, 3, 4, 5, 6, 7, 8, 9]\n",
            "[0, 1, 2, 3, 4, 5, 6, 7, 8, 9]\n"
          ],
          "name": "stdout"
        }
      ]
    }
  ]
}