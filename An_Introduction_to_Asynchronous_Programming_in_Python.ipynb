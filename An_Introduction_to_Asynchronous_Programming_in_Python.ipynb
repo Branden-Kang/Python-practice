{
  "nbformat": 4,
  "nbformat_minor": 0,
  "metadata": {
    "colab": {
      "name": "An Introduction to Asynchronous Programming in Python.ipynb",
      "provenance": [],
      "authorship_tag": "ABX9TyPgt190GTvwotQiTKL7Qe4n"
    },
    "kernelspec": {
      "name": "python3",
      "display_name": "Python 3"
    }
  },
  "cells": [
    {
      "cell_type": "markdown",
      "metadata": {
        "id": "xjiLulRwA4hJ"
      },
      "source": [
        "[Reference](https://medium.com/@KonopkaKodes/an-introduction-to-asynchronous-programming-in-python-6809a4385f69)"
      ]
    },
    {
      "cell_type": "code",
      "metadata": {
        "id": "EVqgi7sRA3BB"
      },
      "source": [
        "@client.event\n",
        "async def on_ready():\n",
        "    while True:\n",
        "        await asyncio.sleep(24*60*60)\n",
        "        print('Another day has passed!')\n",
        "\n",
        "@client.event\n",
        "async def on_message(message):\n",
        "    if message.author == client.user:  return   # Do not reply to self\n",
        "    await message.channel.send('I can still respond to your messages!')\n",
        "    reply = await client.wait_for('message', timeout=10)\n",
        "    if 'shut up' in reply.content:  await message.channel.send('no u')"
      ],
      "execution_count": 2,
      "outputs": []
    },
    {
      "cell_type": "code",
      "metadata": {
        "id": "uU_gPX4UBMRG"
      },
      "source": [
        "@client.event\n",
        "async def on_ready():\n",
        "    while True:\n",
        "        await asyncio.sleep(24*60*60)\n",
        "        print('Another day has passed!')\n",
        "\n",
        "@client.event\n",
        "async def on_message(message):\n",
        "    if message.author == client.user:  return   # Do not reply to self\n",
        "    await message.channel.send('I can still respond to your messages!')\n",
        "    reply = await client.wait_for('message', timeout=10)\n",
        "    if 'shut up' in reply.content:  await message.channel.send('no u')"
      ],
      "execution_count": 3,
      "outputs": []
    },
    {
      "cell_type": "code",
      "metadata": {
        "id": "IX6vFYX7BRWB"
      },
      "source": [
        "import asyncio\n",
        "import time\n",
        "\n",
        "async def say_after(delay, what):\n",
        "    await asyncio.sleep(delay)\n",
        "    print(what)\n",
        "\n",
        "async def use_await():\n",
        "    await say_after(3, 'world')\n",
        "    await say_after(2, 'hello')\n",
        "    print(f\"use_await finished at t={time.time() - start} seconds\")\n",
        "\n",
        "async def use_tasks():\n",
        "    task_a = asyncio.create_task(say_after(3, 'world'))\n",
        "    task_b = asyncio.create_task(say_after(2, 'hello'))\n",
        "    await task_a\n",
        "    await task_b\n",
        "    print(f\"use_tasks finished at t={time.time() - start} seconds\")\n",
        "\n",
        "start = time.time()\n",
        "asyncio.run(use_await())  # Prints 'world hello' in 5 seconds\n",
        "asyncio.run(use_tasks())  # Prints 'hello world' in 3 seconds"
      ],
      "execution_count": 5,
      "outputs": []
    },
    {
      "cell_type": "code",
      "metadata": {
        "id": "dVi0zVcjBWmx"
      },
      "source": [
        "import requests\n",
        "\n",
        "import asyncio\n",
        "!pip install aiohttp\n",
        "!pip install aiofiles\n",
        "import aiohttp\n",
        "import aiofiles\n",
        "\n",
        "\n",
        "get_img_url = lambda i: 'https://cdn.discordapp.com/embed/avatars/' + str(i) + '.png'\n",
        "\n",
        "def download_all_sync():\n",
        "\n",
        "    for i in range(5):\n",
        "        with requests.get(get_img_url(i)) as resp:\n",
        "            with open(str(i) + '.png', 'wb') as file:\n",
        "                file.write(resp.content)\n",
        "\n",
        "\n",
        "async def download_all_async():\n",
        "\n",
        "    async def download_one(i):\n",
        "\n",
        "        async with aiohttp.ClientSession() as session:\n",
        "            async with session.get(get_img_url(i)) as resp:\n",
        "                async with aiofiles.open(str(i) + '.png', 'wb') as file:\n",
        "                    await file.write(await resp.read())\n",
        "\n",
        "    await asyncio.wait([asyncio.ensure_future(download_one(i)) for i in range(5)])\n",
        "\n",
        "\n",
        "# download_all_sync()\n",
        "\n",
        "asyncio.get_event_loop().run_until_complete(download_all_async())  # pre-3.7\n",
        "# asyncio.run(download_all_async())  # Python 3.7+"
      ],
      "execution_count": 8,
      "outputs": []
    }
  ]
}