{
  "nbformat": 4,
  "nbformat_minor": 0,
  "metadata": {
    "colab": {
      "provenance": [],
      "authorship_tag": "ABX9TyO13c6WQl1TrJS1ADBIXXw3"
    },
    "kernelspec": {
      "name": "python3",
      "display_name": "Python 3"
    },
    "language_info": {
      "name": "python"
    }
  },
  "cells": [
    {
      "cell_type": "markdown",
      "source": [
        "[Reference](https://medium.com/@jdgb.projects/mastering-data-manipulation-with-pandas-in-python-a-comprehensive-tutorial-5cea2703e37d)"
      ],
      "metadata": {
        "id": "odKj69vwk7go"
      }
    },
    {
      "cell_type": "code",
      "execution_count": 1,
      "metadata": {
        "id": "h8-wInPwk1Jf"
      },
      "outputs": [],
      "source": [
        "# Importing a sample DataFrame\n",
        "import pandas as pd\n",
        "df = pd.DataFrame({'A': [1, 2, 3, None, 5],\n",
        "                   'B': [None, 20, 30, 40, 50],\n",
        "                   'C': [100, 200, 300, 400, 500]})\n",
        "\n",
        "# Dropping rows with missing values\n",
        "df.dropna(inplace=True)\n",
        "\n",
        "# Filling in missing values with the mean of the column\n",
        "df['B'].fillna(df['B'].mean(), inplace=True)\n",
        "\n",
        "# Dropping duplicate rows\n",
        "df.drop_duplicates(inplace=True)\n",
        "\n",
        "# Converting data types of columns\n",
        "df['A'] = df['A'].astype('int32')\n",
        "df['B'] = df['B'].astype('float64')"
      ]
    },
    {
      "cell_type": "markdown",
      "source": [
        "# Grouping and aggregating data"
      ],
      "metadata": {
        "id": "XFkzpVsflC_I"
      }
    },
    {
      "cell_type": "code",
      "source": [
        "import pandas as pd\n",
        "df = pd.DataFrame({'A': ['foo', 'bar', 'foo', 'bar', 'foo', 'bar', 'foo', 'foo'],\n",
        "                   'B': [1, 2, 3, 4, 5, 6, 7, 8],\n",
        "                   'C': [2.0, 3.0, 4.0, 5.0, 6.0, 7.0, 8.0, 9.0]})\n",
        "\n",
        "grouped = df.groupby('A')\n",
        "result = grouped['B'].sum()"
      ],
      "metadata": {
        "id": "IdWPFNiLk-RU"
      },
      "execution_count": 2,
      "outputs": []
    },
    {
      "cell_type": "markdown",
      "source": [
        "# Merging and joining"
      ],
      "metadata": {
        "id": "qal4OEmTlEff"
      }
    },
    {
      "cell_type": "code",
      "source": [
        "import pandas as pd\n",
        "df1 = pd.DataFrame({'key': ['A', 'B', 'C', 'D'],\n",
        "                    'value': [1, 2, 3, 4]})\n",
        "df2 = pd.DataFrame({'key': ['B', 'D', 'E', 'F'],\n",
        "                    'value': [5, 6, 7, 8]})\n",
        "\n",
        "result = pd.merge(df1, df2, on='key')"
      ],
      "metadata": {
        "id": "a26qUjOQk_zc"
      },
      "execution_count": 3,
      "outputs": []
    },
    {
      "cell_type": "markdown",
      "source": [
        "# Pivot tables"
      ],
      "metadata": {
        "id": "Nfd2QAJxlGNz"
      }
    },
    {
      "cell_type": "code",
      "source": [
        "import pandas as pd\n",
        "df = pd.DataFrame({'A': ['foo', 'bar', 'foo', 'bar', 'foo', 'bar', 'foo', 'foo'],\n",
        "                   'B': [1, 2, 3, 4, 5, 6, 7, 8],\n",
        "                   'C': [2.0, 3.0, 4.0, 5.0, 6.0, 7.0, 8.0, 9.0]})\n",
        "\n",
        "result = df.pivot_table(values='B', index='A', columns='C', aggfunc='mean')"
      ],
      "metadata": {
        "id": "9zZAa2IzlF9U"
      },
      "execution_count": 4,
      "outputs": []
    },
    {
      "cell_type": "markdown",
      "source": [
        "# Exporting data from Pandas"
      ],
      "metadata": {
        "id": "ByoV_WR_lI8u"
      }
    },
    {
      "cell_type": "code",
      "source": [
        "import pandas as pd\n",
        "df = pd.DataFrame({'A': [1, 2, 3], 'B': [4, 5, 6], 'C': [7, 8, 9]})\n",
        "\n",
        "df.to_csv('data.csv', index=False)"
      ],
      "metadata": {
        "id": "Md8pgBfvlHka"
      },
      "execution_count": 5,
      "outputs": []
    }
  ]
}