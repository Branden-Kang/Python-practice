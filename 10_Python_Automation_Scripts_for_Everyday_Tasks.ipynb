{
  "nbformat": 4,
  "nbformat_minor": 0,
  "metadata": {
    "colab": {
      "name": "10 Python Automation Scripts for Everyday Tasks.ipynb",
      "provenance": [],
      "authorship_tag": "ABX9TyP3T3L4n62GwB1KvWa+6qFF"
    },
    "kernelspec": {
      "name": "python3",
      "display_name": "Python 3"
    },
    "language_info": {
      "name": "python"
    }
  },
  "cells": [
    {
      "cell_type": "markdown",
      "source": [
        "[Reference](https://python.plainenglish.io/10-python-automation-scripts-for-everyday-tasks-9ce0b8d8e9dc)"
      ],
      "metadata": {
        "id": "aklb9eughCaE"
      }
    },
    {
      "cell_type": "markdown",
      "source": [
        "# Photo Downloader"
      ],
      "metadata": {
        "id": "jo6VX0MEhEPQ"
      }
    },
    {
      "cell_type": "code",
      "execution_count": 2,
      "metadata": {
        "id": "VuBYzCmahBEa"
      },
      "outputs": [],
      "source": [
        "# Photo Downloader in Python\n",
        "# pip install urllib\n",
        "# pip install request\n",
        "\n",
        "# Method 1  by Urllib\n",
        "\n",
        "import urllib.request as api\n",
        "\n",
        "def Download_Photo(url, output_name):\n",
        "    path = output_name + \".jpg\"\n",
        "    api.urlretrieve(url, path)\n",
        "    print('Photo Downloaded: ', path)\n",
        "    \n",
        "# Method 2 by requests\n",
        "\n",
        "import requests as api\n",
        "import shutil\n",
        "\n",
        "def Download_Photo(url, output_name):\n",
        "    path = output_name + \".jpg\"\n",
        "    r = api.get(url, stream=True)\n",
        "    with open(path,'wb') as f:\n",
        "        shutil.copyfileobj(r.raw, f)\n",
        "    print('Photo Downloaded: ', path)"
      ]
    },
    {
      "cell_type": "markdown",
      "source": [
        "# Temp Email"
      ],
      "metadata": {
        "id": "CPvFPslkhOWx"
      }
    },
    {
      "cell_type": "code",
      "source": [
        "# Temp Email with Python\n",
        "# !pip install temp-email\n",
        "from tempmail import TempMail\n",
        "\n",
        "# Generate Temp Email\n",
        "temp_email = TempMail()\n",
        "temp_email.generate_random_email_address()\n",
        "\n",
        "# Read Emails in Temp Email\n",
        "temp_email = TempMail(login='email')\n",
        "temp_email.get_list_of_emails()\n",
        "\n",
        "# Download Files from Email\n",
        "temp_email = TempMail(login='email')\n",
        "temp_email.download_all_files()"
      ],
      "metadata": {
        "colab": {
          "base_uri": "https://localhost:8080/"
        },
        "id": "BKKKlv8ZhJB2",
        "outputId": "00b19b1e-a9b4-4eb5-df05-396b73ab60ed"
      },
      "execution_count": 6,
      "outputs": [
        {
          "output_type": "stream",
          "name": "stdout",
          "text": [
            "Looking in indexes: https://pypi.org/simple, https://us-python.pkg.dev/colab-wheels/public/simple/\n",
            "Collecting temp-email\n",
            "  Downloading temp-email-0.2.tar.gz (2.7 kB)\n",
            "Requirement already satisfied: requests in /usr/local/lib/python3.7/dist-packages (from temp-email) (2.23.0)\n",
            "Requirement already satisfied: idna<3,>=2.5 in /usr/local/lib/python3.7/dist-packages (from requests->temp-email) (2.10)\n",
            "Requirement already satisfied: chardet<4,>=3.0.2 in /usr/local/lib/python3.7/dist-packages (from requests->temp-email) (3.0.4)\n",
            "Requirement already satisfied: urllib3!=1.25.0,!=1.25.1,<1.26,>=1.21.1 in /usr/local/lib/python3.7/dist-packages (from requests->temp-email) (1.24.3)\n",
            "Requirement already satisfied: certifi>=2017.4.17 in /usr/local/lib/python3.7/dist-packages (from requests->temp-email) (2022.6.15)\n",
            "Building wheels for collected packages: temp-email\n",
            "  Building wheel for temp-email (setup.py) ... \u001b[?25l\u001b[?25hdone\n",
            "  Created wheel for temp-email: filename=temp_email-0.2-py3-none-any.whl size=2733 sha256=f962d79b8360e1776440810b1ce68cf891176d0af075f4f365a6e8b9d38017a1\n",
            "  Stored in directory: /root/.cache/pip/wheels/de/47/2f/5b2c6e8a6e7cb9de2c966ef85a1772fe4fca1d385a4651c1fd\n",
            "Successfully built temp-email\n",
            "Installing collected packages: temp-email\n",
            "Successfully installed temp-email-0.2\n"
          ]
        }
      ]
    },
    {
      "cell_type": "markdown",
      "source": [
        "# Python Job Scraper"
      ],
      "metadata": {
        "id": "1eqM3UPDhYQe"
      }
    },
    {
      "cell_type": "code",
      "source": [
        "# Python Job Scraper\n",
        "# !pip install jobs_scraper\n",
        "from jobs_scraper import JobsScraper\n",
        "\n",
        "# Get job by Position and Country\n",
        "job = JobsScraper(country='us', position='Python Developer', city='New York')\n",
        "data = job.scrape()\n",
        "print(data)\n",
        "\n",
        "# Get Job listing with Pages\n",
        "job = JobsScraper(country='us', position='Python Developer', city='New York', pages=2)\n",
        "data = job.scrape()\n",
        "print(data)\n",
        "\n",
        "# Get Job with Full Url\n",
        "job = JobsScraper(country='us', position='Python Developer', city='New York', full_urls=True)\n",
        "data = job.scrape()\n",
        "print(data)"
      ],
      "metadata": {
        "id": "Cszn5I3yhP-J"
      },
      "execution_count": 8,
      "outputs": []
    },
    {
      "cell_type": "markdown",
      "source": [
        "# Text Summarization"
      ],
      "metadata": {
        "id": "2s4kcS7fhixn"
      }
    },
    {
      "cell_type": "code",
      "source": [
        "# Text Summarization with Python \n",
        "!pip install sumy\n",
        "!pip install textrank\n",
        "\n",
        "from sumy.parsers.plaintext import PlaintextParser\n",
        "from sumy.nlp.tokenizers import Tokenizer\n",
        "from sumy.summarizers.lsa import LsaSummarizer\n",
        "from sumy.summarizers.luhn import LuhnSummarizer\n",
        "from sumy.summarizers.lex_rank import LexRankSummarizer\n",
        "\n",
        "#Text Summarization with lexrank summarizer\n",
        "def lexrank_Summarization(text):\n",
        "    p = PlaintextParser.from_string(text, Tokenizer(\"english\"))\n",
        "    lexrank = LexRankSummarizer() \n",
        "    summary = lexrank(p.document, 2) \n",
        "    for summ in summary:\n",
        "        print(summ)# Text Summarization with lsa summarizer      \n",
        "def lsa_Summarization(text):\n",
        "    text = PlaintextParser.from_file(text, Tokenizer(\"english\"))\n",
        "    lsa = LsaSummarizer()\n",
        "    summary = lsa(text.document, 2)\n",
        "    for summ in summary:\n",
        "        print(summ)# Text Summarization with luhn summarizer\n",
        "def luhn_Summarization():\n",
        "    text = PlaintextParser.from_file(text, Tokenizer(\"english\"))\n",
        "    luhn = LuhnSummarizer()\n",
        "    summary = luhn(text.document, 2)\n",
        "    for summ in summary:\n",
        "        print(summ)"
      ],
      "metadata": {
        "colab": {
          "base_uri": "https://localhost:8080/"
        },
        "id": "p6VLz0P8hcD8",
        "outputId": "559f3d83-f9dc-49b7-d621-393596c9d04e"
      },
      "execution_count": 10,
      "outputs": [
        {
          "output_type": "stream",
          "name": "stdout",
          "text": [
            "Looking in indexes: https://pypi.org/simple, https://us-python.pkg.dev/colab-wheels/public/simple/\n",
            "Collecting sumy\n",
            "  Downloading sumy-0.10.0-py2.py3-none-any.whl (94 kB)\n",
            "\u001b[K     |████████████████████████████████| 94 kB 2.7 MB/s \n",
            "\u001b[?25hRequirement already satisfied: nltk>=3.0.2 in /usr/local/lib/python3.7/dist-packages (from sumy) (3.7)\n",
            "Collecting breadability>=0.1.20\n",
            "  Downloading breadability-0.1.20.tar.gz (32 kB)\n",
            "Requirement already satisfied: requests>=2.7.0 in /usr/local/lib/python3.7/dist-packages (from sumy) (2.23.0)\n",
            "Requirement already satisfied: docopt<0.7,>=0.6.1 in /usr/local/lib/python3.7/dist-packages (from sumy) (0.6.2)\n",
            "Collecting pycountry>=18.2.23\n",
            "  Downloading pycountry-22.3.5.tar.gz (10.1 MB)\n",
            "\u001b[K     |████████████████████████████████| 10.1 MB 21.5 MB/s \n",
            "\u001b[?25h  Installing build dependencies ... \u001b[?25l\u001b[?25hdone\n",
            "  Getting requirements to build wheel ... \u001b[?25l\u001b[?25hdone\n",
            "    Preparing wheel metadata ... \u001b[?25l\u001b[?25hdone\n",
            "Requirement already satisfied: chardet in /usr/local/lib/python3.7/dist-packages (from breadability>=0.1.20->sumy) (3.0.4)\n",
            "Requirement already satisfied: lxml>=2.0 in /usr/local/lib/python3.7/dist-packages (from breadability>=0.1.20->sumy) (4.2.6)\n",
            "Requirement already satisfied: regex>=2021.8.3 in /usr/local/lib/python3.7/dist-packages (from nltk>=3.0.2->sumy) (2022.6.2)\n",
            "Requirement already satisfied: click in /usr/local/lib/python3.7/dist-packages (from nltk>=3.0.2->sumy) (7.1.2)\n",
            "Requirement already satisfied: joblib in /usr/local/lib/python3.7/dist-packages (from nltk>=3.0.2->sumy) (1.1.0)\n",
            "Requirement already satisfied: tqdm in /usr/local/lib/python3.7/dist-packages (from nltk>=3.0.2->sumy) (4.64.0)\n",
            "Requirement already satisfied: setuptools in /usr/local/lib/python3.7/dist-packages (from pycountry>=18.2.23->sumy) (57.4.0)\n",
            "Requirement already satisfied: certifi>=2017.4.17 in /usr/local/lib/python3.7/dist-packages (from requests>=2.7.0->sumy) (2022.6.15)\n",
            "Requirement already satisfied: idna<3,>=2.5 in /usr/local/lib/python3.7/dist-packages (from requests>=2.7.0->sumy) (2.10)\n",
            "Requirement already satisfied: urllib3!=1.25.0,!=1.25.1,<1.26,>=1.21.1 in /usr/local/lib/python3.7/dist-packages (from requests>=2.7.0->sumy) (1.24.3)\n",
            "Building wheels for collected packages: breadability, pycountry\n",
            "  Building wheel for breadability (setup.py) ... \u001b[?25l\u001b[?25hdone\n",
            "  Created wheel for breadability: filename=breadability-0.1.20-py2.py3-none-any.whl size=21712 sha256=27ad03d6d7cf1e1330ad136dc68ea341d584fc44e324732ec3e9d77c36aa16e4\n",
            "  Stored in directory: /root/.cache/pip/wheels/d4/bf/51/81d27ad638e1a6dca4f362ecc33d1e2c764b8ea7ec751b8fc1\n",
            "  Building wheel for pycountry (PEP 517) ... \u001b[?25l\u001b[?25hdone\n",
            "  Created wheel for pycountry: filename=pycountry-22.3.5-py2.py3-none-any.whl size=10681845 sha256=d150f7618a09a3a8843ea5f96681403241bc0f040e6f7d72f63bd33b06030c40\n",
            "  Stored in directory: /root/.cache/pip/wheels/0e/06/e8/7ee176e95ea9a8a8c3b3afcb1869f20adbd42413d4611c6eb4\n",
            "Successfully built breadability pycountry\n",
            "Installing collected packages: pycountry, breadability, sumy\n",
            "Successfully installed breadability-0.1.20 pycountry-22.3.5 sumy-0.10.0\n",
            "Looking in indexes: https://pypi.org/simple, https://us-python.pkg.dev/colab-wheels/public/simple/\n",
            "Collecting textrank\n",
            "  Downloading textrank-0.1.0.tar.gz (2.8 kB)\n",
            "Building wheels for collected packages: textrank\n",
            "  Building wheel for textrank (setup.py) ... \u001b[?25l\u001b[?25hdone\n",
            "  Created wheel for textrank: filename=textrank-0.1.0-py3-none-any.whl size=3420 sha256=4fc34e16d70c52ff2730cac2a64c4982310acccadec23101bf5932ab8c751937\n",
            "  Stored in directory: /root/.cache/pip/wheels/47/5f/18/15997fca2df9b310c344b8598b750645a689e0aa0ba82f3289\n",
            "Successfully built textrank\n",
            "Installing collected packages: textrank\n",
            "Successfully installed textrank-0.1.0\n"
          ]
        }
      ]
    },
    {
      "cell_type": "markdown",
      "source": [
        "# Generate Dummy Data"
      ],
      "metadata": {
        "id": "IVYRMIawhpk2"
      }
    },
    {
      "cell_type": "code",
      "source": [
        "# Generate Dummy Data\n",
        "# # Manipulating Images!pip install mimesis\n",
        "\n",
        "from mimesis import Person\n",
        "from mimesis import locales\n",
        "from mimesis.enums import Gender\n",
        "\n",
        "p = Person(locales.EN)\n",
        "\n",
        "# Get Random First Name\n",
        "print(p.first_name())\n",
        "\n",
        "# Get Random Last Name\n",
        "print(p.last_name())\n",
        "\n",
        "# Get Random Full Name\n",
        "print(p.full_name())\n",
        "\n",
        "# Get Random Full Name by Gender\n",
        "print(p.full_name(Gender.MALE))\n",
        "\n",
        "# Get Random Email\n",
        "print(p.email())\n",
        "\n",
        "# Get Random Email with Domain\n",
        "print(p.email(domains=['gmail.com', 'yahoo.com']))\n",
        "\n",
        "# Get Random Phone Number\n",
        "print(p.telephone())\n",
        "\n",
        "# Get Random Phone Number with mask\n",
        "print(p.telephone(mask='1-5##-82#-9###'))"
      ],
      "metadata": {
        "colab": {
          "base_uri": "https://localhost:8080/"
        },
        "id": "F1Fv2V15hlvK",
        "outputId": "78afb058-e9b2-488e-e9da-0ec8425f4e7b"
      },
      "execution_count": 12,
      "outputs": [
        {
          "output_type": "stream",
          "name": "stdout",
          "text": [
            "Arlinda\n",
            "Sheppard\n",
            "Cyrus Stewart\n",
            "Tanner Calhoun\n",
            "intradepartment1954@protonmail.com\n",
            "affiliate1938@yahoo.com\n",
            "1-295-461-2437\n",
            "1-566-825-9312\n"
          ]
        }
      ]
    },
    {
      "cell_type": "code",
      "source": [
        "# Manuplate Photos with Python \n",
        "# !pip install wand\n",
        "\n",
        "from wand.image import Image as wand\n",
        "\n",
        "# Resize\n",
        "def resize_Photo(image):\n",
        "    photo = wand(image)\n",
        "    photo.resize(width=100, height=100)\n",
        "    photo.save(\"photo_resize.jpg\")\n",
        "    \n",
        "# Blur\n",
        "def blur_Photo(image):\n",
        "    photo = wand(image)\n",
        "    photo.blur(radius=5)\n",
        "    photo.save(\"photo_blur.jpg\")\n",
        "    \n",
        "# Flip\n",
        "def flip_Photo(image):\n",
        "    photo = wand(image)\n",
        "    photo.flip()\n",
        "    photo.save(\"photo_flip.jpg\")\n",
        "    \n",
        "# Rotate\n",
        "def rotate_Photo(image):\n",
        "    photo = wand(image)\n",
        "    photo.rotate(90)\n",
        "    photo.save(\"photo_rotate.jpg\")\n",
        "    \n",
        "# Crop\n",
        "def crop_Photo(image):\n",
        "    photo = wand(image)\n",
        "    photo.crop(width=100, height=100)\n",
        "    photo.save(\"photo_crop.jpg\")\n",
        "    \n",
        "# Sharpen\n",
        "def sharpen_Photo(image):\n",
        "    photo = wand(image)\n",
        "    photo.sharpen(radius=5)\n",
        "    photo.save(\"photo_sharpen.jpg\")\n",
        "    \n",
        "# GreyScale\n",
        "def greyScale_Photo(image):\n",
        "    photo = wand(image)\n",
        "    photo.grayscale()\n",
        "    photo.save(\"photo_greyScale.jpg\")"
      ],
      "metadata": {
        "id": "yUWG3iOzhxU4"
      },
      "execution_count": 14,
      "outputs": []
    },
    {
      "cell_type": "markdown",
      "source": [
        "# Fix Spelling and Grammar"
      ],
      "metadata": {
        "id": "AQfgdwEEh98F"
      }
    },
    {
      "cell_type": "code",
      "source": [
        "# Fix Spelling and Grammar with Python\n",
        "# pip install gingerit\n",
        "\n",
        "from gingerit.gingerit import GingerIt\n",
        "\n",
        "def Fix_Grammar(text):\n",
        "    ginger = GingerIt()\n",
        "    correction = ginger.parse(text)\n",
        "    return correctionFix_Grammer(\"The fliwers is very good\")"
      ],
      "metadata": {
        "id": "CKpalqLOh7FX"
      },
      "execution_count": 15,
      "outputs": []
    },
    {
      "cell_type": "markdown",
      "source": [
        "# Speech To Text (STT)"
      ],
      "metadata": {
        "id": "uX4-fGCZiDqo"
      }
    },
    {
      "cell_type": "code",
      "source": [
        "# Speech to Text (STT)\n",
        "# pip install SpeechRecognition\n",
        "# pip install PyAudio\n",
        "\n",
        "import speech_recognition as speech\n",
        "\n",
        "rec = speech.Recognizer()\n",
        "\n",
        "with speech.Microphon() as voice:\n",
        "    print(\"Say something!\")\n",
        "    audio = rec.listen(voice)\n",
        "    try:\n",
        "        print(\"You said: \" + rec.recognize_google(audio))\n",
        "    except:\n",
        "        print(\"Sorry, I didn't get that!\")"
      ],
      "metadata": {
        "id": "xoowCqDLiCkL"
      },
      "execution_count": 16,
      "outputs": []
    },
    {
      "cell_type": "markdown",
      "source": [
        "# Get Hardware info"
      ],
      "metadata": {
        "id": "BXdQqdB7iI0A"
      }
    },
    {
      "cell_type": "code",
      "source": [
        "# Get Harddware Info\n",
        "!pip install wmi\n",
        "!pip install pywin32\n",
        "\n",
        "from wmi import WMI\n",
        "\n",
        "comp = WMI()\n",
        "\n",
        "# Get the OS name\n",
        "os = comp.Win32_OperatingSystem()[0]\n",
        "OS_Name = os.Name\n",
        "print(OS_Name)\n",
        "\n",
        "# Get the OS version\n",
        "OS_Version = os.Version\n",
        "print(OS_Version)\n",
        "\n",
        "# Get the OS build number\n",
        "OS_BuildNumber = os.BuildNumber\n",
        "print(OS_BuildNumber)\n",
        "\n",
        "# Get Cpu Name\n",
        "cpu = comp.Win32_Processor()[0]\n",
        "Cpu_Name = cpu.Name\n",
        "\n",
        "# Get Cpu Speed\n",
        "Cpu_Speed = cpu.MaxClockSpeed\n",
        "print(Cpu_Speed)\n",
        "\n",
        "# Get Cpu Number\n",
        "Cpu_Number = cpu.NumberOfCores\n",
        "print(Cpu_Number)\n",
        "\n",
        "# Get CPU temp\n",
        "cpu_temp = comp.Win32_TemperatureSensor()[0]\n",
        "Cpu_Temp = cpu_temp.CurrentTemperature\n",
        "print(Cpu_Temp)\n",
        "\n",
        "# Get Ram Size\n",
        "ram = comp.Win32_PhysicalMemory()[0]\n",
        "Ram_Size = ram.Capacity\n",
        "print(Ram_Size)\n",
        "\n",
        "# Get Ram Free\n",
        "Ram_Free = ram.FreeSpace\n",
        "print(Ram_Free)\n",
        "\n",
        "# Get Ram Used\n",
        "Ram_Used = Ram_Size - Ram_Free\n",
        "print(Ram_Used)\n",
        "\n",
        "# Get Ram Percent Used\n",
        "Ram_PercentUsed = (Ram_Used / Ram_Size) * 100\n",
        "print(Ram_PercentUsed)\n",
        "\n",
        "# Get Ram Percent Free\n",
        "Ram_PercentFree = (Ram_Free / Ram_Size) * 100\n",
        "print(Ram_PercentFree)\n",
        "\n",
        "# Get Number of Drives\n",
        "drives = comp.Win32_LogicalDisk()\n",
        "print(len(drives))\n",
        "\n",
        "# Get Drive Name\n",
        "for drive in drives:\n",
        "    print(drive.Name)\n",
        "    \n",
        "# Get Hard Drive Size\n",
        "hdd = comp.Win32_DiskDrive()[0]\n",
        "Hd_Size = hdd.Size\n",
        "print(Hd_Size)\n",
        "\n",
        "# Get Hard Drive Free\n",
        "Hd_Free = hdd.FreeSpace\n",
        "print(Hd_Free)\n",
        "\n",
        "# Get Hard Drive Used\n",
        "Hd_Used = Hd_Size - Hd_Free\n",
        "print(Hd_Used)\n",
        "\n",
        "# Get GPU Name\n",
        "gpu = comp.Win32_VideoController()[0]\n",
        "Gpu_Name = gpu.Name\n",
        "print(Gpu_Name)\n",
        "\n",
        "# Get GPU temp\n",
        "gpu_temp = comp.Win32_TemperatureSensor()[0]\n",
        "Gpu_Temp = gpu_temp.CurrentTemperature\n",
        "print(Gpu_Temp)\n",
        "\n",
        "# Get GPU Driver Version\n",
        "Gpu_DriverVersion = gpu.DriverVersion\n",
        "print(Gpu_DriverVersion)\n",
        "\n",
        "# Get Network Adapter Name\n",
        "net = comp.Win32_NetworkAdapter()[0]\n",
        "Net_Name = net.Name\n",
        "print(Net_Name)\n",
        "\n",
        "# Get Network Adapter MAC Address\n",
        "Net_MAC = net.MACAddress\n",
        "print(Net_MAC)"
      ],
      "metadata": {
        "id": "8oHfrwE0iHUI"
      },
      "execution_count": 23,
      "outputs": []
    },
    {
      "cell_type": "markdown",
      "source": [
        "# Python Voice Recorder"
      ],
      "metadata": {
        "id": "Kfznw4fmiarU"
      }
    },
    {
      "cell_type": "code",
      "source": [
        "# # Python Voice Recorder\n",
        "# # pip install wavio\n",
        "# # pip install scipy\n",
        "# # pip install sounddevice\n",
        "\n",
        "# import sounddevice as device\n",
        "# from scipy.io.wavfile import write\n",
        "# import wavio\n",
        "\n",
        "# def Record_Voice(time):\n",
        "#     duration = time\n",
        "#     sample = 44100\n",
        "#     recorded = device.rec(int(duration * sample), samplerate=sample, channels=2)\n",
        "#     device.wait()\n",
        "#     write(\"record1.wav\", sample, recorded)\n",
        "#     wavio.write(\"record2.wav\", recorded, sample, sampwidth=2)\n",
        "    \n",
        "# Record_Voice(10) # record for 10 seconds"
      ],
      "metadata": {
        "id": "xXAQTFv6iWFN"
      },
      "execution_count": 20,
      "outputs": []
    }
  ]
}