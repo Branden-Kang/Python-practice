{
  "nbformat": 4,
  "nbformat_minor": 0,
  "metadata": {
    "colab": {
      "provenance": [],
      "authorship_tag": "ABX9TyPhOw0jjnlMQpUbYqCRzree"
    },
    "kernelspec": {
      "name": "python3",
      "display_name": "Python 3"
    },
    "language_info": {
      "name": "python"
    }
  },
  "cells": [
    {
      "cell_type": "markdown",
      "source": [
        "[Reference](https://pran-kohli-1990.medium.com/duckdb-dbt-great-expectations-awesome-data-pipelines-8b459ccd7afc)"
      ],
      "metadata": {
        "id": "n-o2zHCJKirk"
      }
    },
    {
      "cell_type": "markdown",
      "source": [
        "# DuckDB\n",
        "DuckDB is an in-process SQL OLAP database management system"
      ],
      "metadata": {
        "id": "Bm8FaxpOLBNb"
      }
    },
    {
      "cell_type": "markdown",
      "source": [
        "# Dbt\n",
        "Dbt is a open-source analytics engineering tool that compiles and runs your analytics code against your data platform"
      ],
      "metadata": {
        "id": "5VJ--DZnLGrB"
      }
    },
    {
      "cell_type": "markdown",
      "source": [
        "# Great Expectations\n",
        "Great Expectations is an open-source Python library that provides a flexible and powerful framework for data quality checks and tests on databases, cloud storage solutions and file systems"
      ],
      "metadata": {
        "id": "X3pvV1N9LLMT"
      }
    },
    {
      "cell_type": "code",
      "execution_count": 2,
      "metadata": {
        "colab": {
          "base_uri": "https://localhost:8080/"
        },
        "id": "rTfI2qstKMC6",
        "outputId": "0d4073ac-d2de-4acf-e45c-a89cf1d9d2c1"
      },
      "outputs": [
        {
          "output_type": "stream",
          "name": "stdout",
          "text": [
            "Requirement already satisfied: duckdb in /usr/local/lib/python3.10/dist-packages (0.9.2)\n",
            "Collecting dbt-duckdb\n",
            "  Downloading dbt_duckdb-1.7.3-py3-none-any.whl (57 kB)\n",
            "\u001b[2K     \u001b[90m━━━━━━━━━━━━━━━━━━━━━━━━━━━━━━━━━━━━━━━━\u001b[0m \u001b[32m57.2/57.2 kB\u001b[0m \u001b[31m1.7 MB/s\u001b[0m eta \u001b[36m0:00:00\u001b[0m\n",
            "\u001b[?25hCollecting dbt-core~=1.7.0 (from dbt-duckdb)\n",
            "  Downloading dbt_core-1.7.9-py3-none-any.whl (1.0 MB)\n",
            "\u001b[2K     \u001b[90m━━━━━━━━━━━━━━━━━━━━━━━━━━━━━━━━━━━━━━━━\u001b[0m \u001b[32m1.0/1.0 MB\u001b[0m \u001b[31m15.8 MB/s\u001b[0m eta \u001b[36m0:00:00\u001b[0m\n",
            "\u001b[?25hRequirement already satisfied: duckdb>=0.7.0 in /usr/local/lib/python3.10/dist-packages (from dbt-duckdb) (0.9.2)\n",
            "Collecting agate~=1.7.0 (from dbt-core~=1.7.0->dbt-duckdb)\n",
            "  Downloading agate-1.7.1-py2.py3-none-any.whl (97 kB)\n",
            "\u001b[2K     \u001b[90m━━━━━━━━━━━━━━━━━━━━━━━━━━━━━━━━━━━━━━━━\u001b[0m \u001b[32m97.1/97.1 kB\u001b[0m \u001b[31m9.1 MB/s\u001b[0m eta \u001b[36m0:00:00\u001b[0m\n",
            "\u001b[?25hRequirement already satisfied: Jinja2<4,>=3.1.3 in /usr/local/lib/python3.10/dist-packages (from dbt-core~=1.7.0->dbt-duckdb) (3.1.3)\n",
            "Collecting mashumaro[msgpack]~=3.9 (from dbt-core~=1.7.0->dbt-duckdb)\n",
            "  Downloading mashumaro-3.12-py3-none-any.whl (89 kB)\n",
            "\u001b[2K     \u001b[90m━━━━━━━━━━━━━━━━━━━━━━━━━━━━━━━━━━━━━━━━\u001b[0m \u001b[32m89.9/89.9 kB\u001b[0m \u001b[31m8.4 MB/s\u001b[0m eta \u001b[36m0:00:00\u001b[0m\n",
            "\u001b[?25hCollecting logbook<1.6,>=1.5 (from dbt-core~=1.7.0->dbt-duckdb)\n",
            "  Downloading Logbook-1.5.3.tar.gz (85 kB)\n",
            "\u001b[2K     \u001b[90m━━━━━━━━━━━━━━━━━━━━━━━━━━━━━━━━━━━━━━━━\u001b[0m \u001b[32m85.8/85.8 kB\u001b[0m \u001b[31m8.2 MB/s\u001b[0m eta \u001b[36m0:00:00\u001b[0m\n",
            "\u001b[?25h  Preparing metadata (setup.py) ... \u001b[?25l\u001b[?25hdone\n",
            "Requirement already satisfied: click<9,>=8.0.2 in /usr/local/lib/python3.10/dist-packages (from dbt-core~=1.7.0->dbt-duckdb) (8.1.7)\n",
            "Requirement already satisfied: networkx<4,>=2.3 in /usr/local/lib/python3.10/dist-packages (from dbt-core~=1.7.0->dbt-duckdb) (3.2.1)\n",
            "Collecting colorama<0.5,>=0.3.9 (from dbt-core~=1.7.0->dbt-duckdb)\n",
            "  Downloading colorama-0.4.6-py2.py3-none-any.whl (25 kB)\n",
            "Collecting pathspec<0.12,>=0.9 (from dbt-core~=1.7.0->dbt-duckdb)\n",
            "  Downloading pathspec-0.11.2-py3-none-any.whl (29 kB)\n",
            "Collecting isodate<0.7,>=0.6 (from dbt-core~=1.7.0->dbt-duckdb)\n",
            "  Downloading isodate-0.6.1-py2.py3-none-any.whl (41 kB)\n",
            "\u001b[2K     \u001b[90m━━━━━━━━━━━━━━━━━━━━━━━━━━━━━━━━━━━━━━━━\u001b[0m \u001b[32m41.7/41.7 kB\u001b[0m \u001b[31m3.9 MB/s\u001b[0m eta \u001b[36m0:00:00\u001b[0m\n",
            "\u001b[?25hRequirement already satisfied: sqlparse<0.5,>=0.2.3 in /usr/local/lib/python3.10/dist-packages (from dbt-core~=1.7.0->dbt-duckdb) (0.4.4)\n",
            "Collecting dbt-extractor~=0.5.0 (from dbt-core~=1.7.0->dbt-duckdb)\n",
            "  Downloading dbt_extractor-0.5.1-cp38-abi3-manylinux_2_17_x86_64.manylinux2014_x86_64.whl (1.3 MB)\n",
            "\u001b[2K     \u001b[90m━━━━━━━━━━━━━━━━━━━━━━━━━━━━━━━━━━━━━━━━\u001b[0m \u001b[32m1.3/1.3 MB\u001b[0m \u001b[31m42.6 MB/s\u001b[0m eta \u001b[36m0:00:00\u001b[0m\n",
            "\u001b[?25hCollecting minimal-snowplow-tracker~=0.0.2 (from dbt-core~=1.7.0->dbt-duckdb)\n",
            "  Downloading minimal-snowplow-tracker-0.0.2.tar.gz (12 kB)\n",
            "  Preparing metadata (setup.py) ... \u001b[?25l\u001b[?25hdone\n",
            "Collecting dbt-semantic-interfaces~=0.4.2 (from dbt-core~=1.7.0->dbt-duckdb)\n",
            "  Downloading dbt_semantic_interfaces-0.4.4-py3-none-any.whl (118 kB)\n",
            "\u001b[2K     \u001b[90m━━━━━━━━━━━━━━━━━━━━━━━━━━━━━━━━━━━━━━━━\u001b[0m \u001b[32m118.6/118.6 kB\u001b[0m \u001b[31m11.9 MB/s\u001b[0m eta \u001b[36m0:00:00\u001b[0m\n",
            "\u001b[?25hRequirement already satisfied: jsonschema>=3.0 in /usr/local/lib/python3.10/dist-packages (from dbt-core~=1.7.0->dbt-duckdb) (4.19.2)\n",
            "Requirement already satisfied: packaging>20.9 in /usr/local/lib/python3.10/dist-packages (from dbt-core~=1.7.0->dbt-duckdb) (23.2)\n",
            "Collecting protobuf>=4.0.0 (from dbt-core~=1.7.0->dbt-duckdb)\n",
            "  Downloading protobuf-4.25.3-cp37-abi3-manylinux2014_x86_64.whl (294 kB)\n",
            "\u001b[2K     \u001b[90m━━━━━━━━━━━━━━━━━━━━━━━━━━━━━━━━━━━━━━━━\u001b[0m \u001b[32m294.6/294.6 kB\u001b[0m \u001b[31m24.0 MB/s\u001b[0m eta \u001b[36m0:00:00\u001b[0m\n",
            "\u001b[?25hRequirement already satisfied: pytz>=2015.7 in /usr/local/lib/python3.10/dist-packages (from dbt-core~=1.7.0->dbt-duckdb) (2023.4)\n",
            "Requirement already satisfied: pyyaml>=6.0 in /usr/local/lib/python3.10/dist-packages (from dbt-core~=1.7.0->dbt-duckdb) (6.0.1)\n",
            "Requirement already satisfied: typing-extensions>=3.7.4 in /usr/local/lib/python3.10/dist-packages (from dbt-core~=1.7.0->dbt-duckdb) (4.10.0)\n",
            "Requirement already satisfied: cffi<2.0.0,>=1.9 in /usr/local/lib/python3.10/dist-packages (from dbt-core~=1.7.0->dbt-duckdb) (1.16.0)\n",
            "Requirement already satisfied: idna<4,>=2.5 in /usr/local/lib/python3.10/dist-packages (from dbt-core~=1.7.0->dbt-duckdb) (3.6)\n",
            "Requirement already satisfied: requests<3.0.0 in /usr/local/lib/python3.10/dist-packages (from dbt-core~=1.7.0->dbt-duckdb) (2.31.0)\n",
            "Collecting urllib3~=1.0 (from dbt-core~=1.7.0->dbt-duckdb)\n",
            "  Downloading urllib3-1.26.18-py2.py3-none-any.whl (143 kB)\n",
            "\u001b[2K     \u001b[90m━━━━━━━━━━━━━━━━━━━━━━━━━━━━━━━━━━━━━━━━\u001b[0m \u001b[32m143.8/143.8 kB\u001b[0m \u001b[31m15.9 MB/s\u001b[0m eta \u001b[36m0:00:00\u001b[0m\n",
            "\u001b[?25hRequirement already satisfied: Babel>=2.0 in /usr/local/lib/python3.10/dist-packages (from agate~=1.7.0->dbt-core~=1.7.0->dbt-duckdb) (2.14.0)\n",
            "Collecting leather>=0.3.2 (from agate~=1.7.0->dbt-core~=1.7.0->dbt-duckdb)\n",
            "  Downloading leather-0.4.0-py2.py3-none-any.whl (30 kB)\n",
            "Collecting parsedatetime!=2.5,>=2.1 (from agate~=1.7.0->dbt-core~=1.7.0->dbt-duckdb)\n",
            "  Downloading parsedatetime-2.6-py3-none-any.whl (42 kB)\n",
            "\u001b[2K     \u001b[90m━━━━━━━━━━━━━━━━━━━━━━━━━━━━━━━━━━━━━━━━\u001b[0m \u001b[32m42.5/42.5 kB\u001b[0m \u001b[31m4.3 MB/s\u001b[0m eta \u001b[36m0:00:00\u001b[0m\n",
            "\u001b[?25hRequirement already satisfied: python-slugify>=1.2.1 in /usr/local/lib/python3.10/dist-packages (from agate~=1.7.0->dbt-core~=1.7.0->dbt-duckdb) (8.0.4)\n",
            "Collecting pytimeparse>=1.1.5 (from agate~=1.7.0->dbt-core~=1.7.0->dbt-duckdb)\n",
            "  Downloading pytimeparse-1.1.8-py2.py3-none-any.whl (10.0 kB)\n",
            "Requirement already satisfied: pycparser in /usr/local/lib/python3.10/dist-packages (from cffi<2.0.0,>=1.9->dbt-core~=1.7.0->dbt-duckdb) (2.21)\n",
            "Collecting importlib-metadata~=6.0 (from dbt-semantic-interfaces~=0.4.2->dbt-core~=1.7.0->dbt-duckdb)\n",
            "  Downloading importlib_metadata-6.11.0-py3-none-any.whl (23 kB)\n",
            "Requirement already satisfied: more-itertools<11.0,>=8.0 in /usr/local/lib/python3.10/dist-packages (from dbt-semantic-interfaces~=0.4.2->dbt-core~=1.7.0->dbt-duckdb) (10.1.0)\n",
            "Requirement already satisfied: pydantic<3,>=1.10 in /usr/local/lib/python3.10/dist-packages (from dbt-semantic-interfaces~=0.4.2->dbt-core~=1.7.0->dbt-duckdb) (2.6.3)\n",
            "Requirement already satisfied: python-dateutil~=2.0 in /usr/local/lib/python3.10/dist-packages (from dbt-semantic-interfaces~=0.4.2->dbt-core~=1.7.0->dbt-duckdb) (2.8.2)\n",
            "Requirement already satisfied: six in /usr/local/lib/python3.10/dist-packages (from isodate<0.7,>=0.6->dbt-core~=1.7.0->dbt-duckdb) (1.16.0)\n",
            "Requirement already satisfied: MarkupSafe>=2.0 in /usr/local/lib/python3.10/dist-packages (from Jinja2<4,>=3.1.3->dbt-core~=1.7.0->dbt-duckdb) (2.1.5)\n",
            "Requirement already satisfied: attrs>=22.2.0 in /usr/local/lib/python3.10/dist-packages (from jsonschema>=3.0->dbt-core~=1.7.0->dbt-duckdb) (23.2.0)\n",
            "Requirement already satisfied: jsonschema-specifications>=2023.03.6 in /usr/local/lib/python3.10/dist-packages (from jsonschema>=3.0->dbt-core~=1.7.0->dbt-duckdb) (2023.12.1)\n",
            "Requirement already satisfied: referencing>=0.28.4 in /usr/local/lib/python3.10/dist-packages (from jsonschema>=3.0->dbt-core~=1.7.0->dbt-duckdb) (0.33.0)\n",
            "Requirement already satisfied: rpds-py>=0.7.1 in /usr/local/lib/python3.10/dist-packages (from jsonschema>=3.0->dbt-core~=1.7.0->dbt-duckdb) (0.18.0)\n",
            "Requirement already satisfied: msgpack>=0.5.6 in /usr/local/lib/python3.10/dist-packages (from mashumaro[msgpack]~=3.9->dbt-core~=1.7.0->dbt-duckdb) (1.0.8)\n",
            "Requirement already satisfied: charset-normalizer<4,>=2 in /usr/local/lib/python3.10/dist-packages (from requests<3.0.0->dbt-core~=1.7.0->dbt-duckdb) (3.3.2)\n",
            "Requirement already satisfied: certifi>=2017.4.17 in /usr/local/lib/python3.10/dist-packages (from requests<3.0.0->dbt-core~=1.7.0->dbt-duckdb) (2024.2.2)\n",
            "Requirement already satisfied: zipp>=0.5 in /usr/local/lib/python3.10/dist-packages (from importlib-metadata~=6.0->dbt-semantic-interfaces~=0.4.2->dbt-core~=1.7.0->dbt-duckdb) (3.17.0)\n",
            "Requirement already satisfied: annotated-types>=0.4.0 in /usr/local/lib/python3.10/dist-packages (from pydantic<3,>=1.10->dbt-semantic-interfaces~=0.4.2->dbt-core~=1.7.0->dbt-duckdb) (0.6.0)\n",
            "Requirement already satisfied: pydantic-core==2.16.3 in /usr/local/lib/python3.10/dist-packages (from pydantic<3,>=1.10->dbt-semantic-interfaces~=0.4.2->dbt-core~=1.7.0->dbt-duckdb) (2.16.3)\n",
            "Requirement already satisfied: text-unidecode>=1.3 in /usr/local/lib/python3.10/dist-packages (from python-slugify>=1.2.1->agate~=1.7.0->dbt-core~=1.7.0->dbt-duckdb) (1.3)\n",
            "Building wheels for collected packages: logbook, minimal-snowplow-tracker\n",
            "  Building wheel for logbook (setup.py) ... \u001b[?25l\u001b[?25hdone\n",
            "  Created wheel for logbook: filename=Logbook-1.5.3-cp310-cp310-linux_x86_64.whl size=65609 sha256=4239c9be460bec1b64820ee78898c17b44d7a741f9ff6e11a772bc65d2a08e52\n",
            "  Stored in directory: /root/.cache/pip/wheels/ed/50/39/0e0dd103e8e1f2666080c17c7d35feffae80bfb66720e177d6\n",
            "  Building wheel for minimal-snowplow-tracker (setup.py) ... \u001b[?25l\u001b[?25hdone\n",
            "  Created wheel for minimal-snowplow-tracker: filename=minimal_snowplow_tracker-0.0.2-py3-none-any.whl size=17797 sha256=28f3c61b1ea76097df2fe44d63752445629773094e32e7e700e6030431f691f0\n",
            "  Stored in directory: /root/.cache/pip/wheels/cb/39/be/81ad911cee00763c613ffe740851e7131d1024e704e200cdfc\n",
            "Successfully built logbook minimal-snowplow-tracker\n",
            "Installing collected packages: pytimeparse, parsedatetime, logbook, leather, urllib3, protobuf, pathspec, mashumaro, isodate, importlib-metadata, dbt-extractor, colorama, agate, minimal-snowplow-tracker, dbt-semantic-interfaces, dbt-core, dbt-duckdb\n",
            "  Attempting uninstall: urllib3\n",
            "    Found existing installation: urllib3 2.0.7\n",
            "    Uninstalling urllib3-2.0.7:\n",
            "      Successfully uninstalled urllib3-2.0.7\n",
            "  Attempting uninstall: protobuf\n",
            "    Found existing installation: protobuf 3.20.3\n",
            "    Uninstalling protobuf-3.20.3:\n",
            "      Successfully uninstalled protobuf-3.20.3\n",
            "  Attempting uninstall: importlib-metadata\n",
            "    Found existing installation: importlib_metadata 7.0.2\n",
            "    Uninstalling importlib_metadata-7.0.2:\n",
            "      Successfully uninstalled importlib_metadata-7.0.2\n",
            "\u001b[31mERROR: pip's dependency resolver does not currently take into account all the packages that are installed. This behaviour is the source of the following dependency conflicts.\n",
            "tensorflow-metadata 1.14.0 requires protobuf<4.21,>=3.20.3, but you have protobuf 4.25.3 which is incompatible.\u001b[0m\u001b[31m\n",
            "\u001b[0mSuccessfully installed agate-1.7.1 colorama-0.4.6 dbt-core-1.7.9 dbt-duckdb-1.7.3 dbt-extractor-0.5.1 dbt-semantic-interfaces-0.4.4 importlib-metadata-6.11.0 isodate-0.6.1 leather-0.4.0 logbook-1.5.3 mashumaro-3.12 minimal-snowplow-tracker-0.0.2 parsedatetime-2.6 pathspec-0.11.2 protobuf-4.25.3 pytimeparse-1.1.8 urllib3-1.26.18\n"
          ]
        }
      ],
      "source": [
        "!pip install duckdb\n",
        "!pip install dbt-duckdb"
      ]
    },
    {
      "cell_type": "code",
      "source": [
        "!dbt init duckDbt"
      ],
      "metadata": {
        "colab": {
          "base_uri": "https://localhost:8080/"
        },
        "id": "OYWGc1MLLRK1",
        "outputId": "f0110b7d-54b5-4b55-a61b-faa19d8edc0f"
      },
      "execution_count": 4,
      "outputs": [
        {
          "output_type": "stream",
          "name": "stdout",
          "text": [
            "\u001b[0m09:43:39  Running with dbt=1.7.9\n",
            "\u001b[0m09:43:39  [ConfigFolderDirectory]: Unable to parse dict {'dir': PosixPath('/root/.dbt')}\n",
            "\u001b[0m09:43:39  Creating dbt configuration folder at \n",
            "\u001b[0m09:43:39  \n",
            "Your new dbt project \"duckDbt\" was created!\n",
            "\n",
            "For more information on how to configure the profiles.yml file,\n",
            "please consult the dbt documentation here:\n",
            "\n",
            "  https://docs.getdbt.com/docs/configure-your-profile\n",
            "\n",
            "One more thing:\n",
            "\n",
            "Need help? Don't hesitate to reach out to us via GitHub issues or on Slack:\n",
            "\n",
            "  https://community.getdbt.com/\n",
            "\n",
            "Happy modeling!\n",
            "\n",
            "\u001b[0m09:43:39  Setting up your profile.\n",
            "Which database would you like to use?\n",
            "[1] duckdb\n",
            "\n",
            "(Don't see the one you want? https://docs.getdbt.com/docs/available-adapters)\n",
            "\n",
            "Enter a number: \u001b[0m09:43:45  Encountered an error:\n",
            "\n",
            "\n",
            "Aborted!\n"
          ]
        }
      ]
    },
    {
      "cell_type": "code",
      "source": [
        "!dbt deps"
      ],
      "metadata": {
        "colab": {
          "base_uri": "https://localhost:8080/"
        },
        "id": "yVfsApfcLUSB",
        "outputId": "46408ac3-df42-4f28-cd1c-e78de21f0494"
      },
      "execution_count": 5,
      "outputs": [
        {
          "output_type": "stream",
          "name": "stdout",
          "text": [
            "\u001b[0m09:43:49  Running with dbt=1.7.9\n",
            "\u001b[0m09:43:49  Encountered an error:\n",
            "Runtime Error\n",
            "  No dbt_project.yml found at expected path /content/dbt_project.yml\n",
            "  Verify that each entry within packages.yml (and their transitive dependencies) contains a file named dbt_project.yml\n",
            "  \n"
          ]
        }
      ]
    }
  ]
}