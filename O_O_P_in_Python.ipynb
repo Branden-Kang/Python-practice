{
  "nbformat": 4,
  "nbformat_minor": 0,
  "metadata": {
    "colab": {
      "name": "O.O.P. in Python.ipynb",
      "provenance": [],
      "authorship_tag": "ABX9TyMCWx7q2KhTJP0sAyOpd/6E"
    },
    "kernelspec": {
      "name": "python3",
      "display_name": "Python 3"
    }
  },
  "cells": [
    {
      "cell_type": "markdown",
      "metadata": {
        "id": "fB_DauMCTEdx"
      },
      "source": [
        "[Reference](https://towardsdatascience.com/understand-o-o-p-in-python-with-one-article-bfa76f3ba48c)"
      ]
    },
    {
      "cell_type": "markdown",
      "metadata": {
        "id": "X0ULTh0sTf9p"
      },
      "source": [
        "# 1. Introduction to Object-oriented programming"
      ]
    },
    {
      "cell_type": "code",
      "metadata": {
        "colab": {
          "base_uri": "https://localhost:8080/"
        },
        "id": "1f1evUMKSxgR",
        "outputId": "1a252395-c952-4451-a0e5-504873afcd5a"
      },
      "source": [
        "number = 2\n",
        "text = 'Sample test'\n",
        "\n",
        "print(type(number))\n",
        "print(type(text))"
      ],
      "execution_count": 1,
      "outputs": [
        {
          "output_type": "stream",
          "text": [
            "<class 'int'>\n",
            "<class 'str'>\n"
          ],
          "name": "stdout"
        }
      ]
    },
    {
      "cell_type": "code",
      "metadata": {
        "colab": {
          "base_uri": "https://localhost:8080/"
        },
        "id": "WoV3TDHZTSyi",
        "outputId": "a014644d-490b-4efc-f3c9-a7806222a866"
      },
      "source": [
        "dir(text)"
      ],
      "execution_count": 2,
      "outputs": [
        {
          "output_type": "execute_result",
          "data": {
            "text/plain": [
              "['__add__',\n",
              " '__class__',\n",
              " '__contains__',\n",
              " '__delattr__',\n",
              " '__dir__',\n",
              " '__doc__',\n",
              " '__eq__',\n",
              " '__format__',\n",
              " '__ge__',\n",
              " '__getattribute__',\n",
              " '__getitem__',\n",
              " '__getnewargs__',\n",
              " '__gt__',\n",
              " '__hash__',\n",
              " '__init__',\n",
              " '__init_subclass__',\n",
              " '__iter__',\n",
              " '__le__',\n",
              " '__len__',\n",
              " '__lt__',\n",
              " '__mod__',\n",
              " '__mul__',\n",
              " '__ne__',\n",
              " '__new__',\n",
              " '__reduce__',\n",
              " '__reduce_ex__',\n",
              " '__repr__',\n",
              " '__rmod__',\n",
              " '__rmul__',\n",
              " '__setattr__',\n",
              " '__sizeof__',\n",
              " '__str__',\n",
              " '__subclasshook__',\n",
              " 'capitalize',\n",
              " 'casefold',\n",
              " 'center',\n",
              " 'count',\n",
              " 'encode',\n",
              " 'endswith',\n",
              " 'expandtabs',\n",
              " 'find',\n",
              " 'format',\n",
              " 'format_map',\n",
              " 'index',\n",
              " 'isalnum',\n",
              " 'isalpha',\n",
              " 'isdecimal',\n",
              " 'isdigit',\n",
              " 'isidentifier',\n",
              " 'islower',\n",
              " 'isnumeric',\n",
              " 'isprintable',\n",
              " 'isspace',\n",
              " 'istitle',\n",
              " 'isupper',\n",
              " 'join',\n",
              " 'ljust',\n",
              " 'lower',\n",
              " 'lstrip',\n",
              " 'maketrans',\n",
              " 'partition',\n",
              " 'replace',\n",
              " 'rfind',\n",
              " 'rindex',\n",
              " 'rjust',\n",
              " 'rpartition',\n",
              " 'rsplit',\n",
              " 'rstrip',\n",
              " 'split',\n",
              " 'splitlines',\n",
              " 'startswith',\n",
              " 'strip',\n",
              " 'swapcase',\n",
              " 'title',\n",
              " 'translate',\n",
              " 'upper',\n",
              " 'zfill']"
            ]
          },
          "metadata": {
            "tags": []
          },
          "execution_count": 2
        }
      ]
    },
    {
      "cell_type": "code",
      "metadata": {
        "colab": {
          "base_uri": "https://localhost:8080/"
        },
        "id": "xuiF5PE4TYZn",
        "outputId": "369d8789-3da4-4c55-9682-70bd743da488"
      },
      "source": [
        "help(text.upper)"
      ],
      "execution_count": 4,
      "outputs": [
        {
          "output_type": "stream",
          "text": [
            "Help on built-in function upper:\n",
            "\n",
            "upper(...) method of builtins.str instance\n",
            "    S.upper() -> str\n",
            "    \n",
            "    Return a copy of S converted to uppercase.\n",
            "\n"
          ],
          "name": "stdout"
        }
      ]
    },
    {
      "cell_type": "code",
      "metadata": {
        "colab": {
          "base_uri": "https://localhost:8080/"
        },
        "id": "ghowyi_MTmI0",
        "outputId": "f9cb87de-956f-46d7-891e-fc5aeb8a0da9"
      },
      "source": [
        "help(number.to_bytes)"
      ],
      "execution_count": 5,
      "outputs": [
        {
          "output_type": "stream",
          "text": [
            "Help on built-in function to_bytes:\n",
            "\n",
            "to_bytes(...) method of builtins.int instance\n",
            "    int.to_bytes(length, byteorder, *, signed=False) -> bytes\n",
            "    \n",
            "    Return an array of bytes representing an integer.\n",
            "    \n",
            "    The integer is represented using length bytes.  An OverflowError is\n",
            "    raised if the integer is not representable with the given number of\n",
            "    bytes.\n",
            "    \n",
            "    The byteorder argument determines the byte order used to represent the\n",
            "    integer.  If byteorder is 'big', the most significant byte is at the\n",
            "    beginning of the byte array.  If byteorder is 'little', the most\n",
            "    significant byte is at the end of the byte array.  To request the native\n",
            "    byte order of the host system, use `sys.byteorder' as the byte order value.\n",
            "    \n",
            "    The signed keyword-only argument determines whether two's complement is\n",
            "    used to represent the integer.  If signed is False and a negative integer\n",
            "    is given, an OverflowError is raised.\n",
            "\n"
          ],
          "name": "stdout"
        }
      ]
    },
    {
      "cell_type": "markdown",
      "metadata": {
        "id": "Nzm79SecTrst"
      },
      "source": [
        "# 2. Defining a New Class"
      ]
    },
    {
      "cell_type": "code",
      "metadata": {
        "id": "9e9KCaucTpxs"
      },
      "source": [
        "class Car:\n",
        "    def __init__(self, brand, color):\n",
        "        self.brand = brand\n",
        "        self.color = color\n",
        "    \n",
        "    def __repr__(self):\n",
        "        return 'My car is {} and was produced by {}'.format(self.color,self.brand)"
      ],
      "execution_count": 6,
      "outputs": []
    },
    {
      "cell_type": "code",
      "metadata": {
        "id": "6pZSWMVAT-fe"
      },
      "source": [
        "my_car = Car('Tesla','black')"
      ],
      "execution_count": 7,
      "outputs": []
    },
    {
      "cell_type": "code",
      "metadata": {
        "colab": {
          "base_uri": "https://localhost:8080/"
        },
        "id": "qP-516MbUc0_",
        "outputId": "050ae680-203b-483d-eb85-d8c0f03f0112"
      },
      "source": [
        "my_car"
      ],
      "execution_count": 8,
      "outputs": [
        {
          "output_type": "execute_result",
          "data": {
            "text/plain": [
              "My car is black and was produced by Tesla"
            ]
          },
          "metadata": {
            "tags": []
          },
          "execution_count": 8
        }
      ]
    },
    {
      "cell_type": "code",
      "metadata": {
        "colab": {
          "base_uri": "https://localhost:8080/",
          "height": 37
        },
        "id": "ideKiMkoUfTb",
        "outputId": "a094f2a6-81a6-4dc2-f24d-ce7f67b19513"
      },
      "source": [
        "my_car.color"
      ],
      "execution_count": 9,
      "outputs": [
        {
          "output_type": "execute_result",
          "data": {
            "application/vnd.google.colaboratory.intrinsic+json": {
              "type": "string"
            },
            "text/plain": [
              "'black'"
            ]
          },
          "metadata": {
            "tags": []
          },
          "execution_count": 9
        }
      ]
    },
    {
      "cell_type": "code",
      "metadata": {
        "colab": {
          "base_uri": "https://localhost:8080/",
          "height": 37
        },
        "id": "BcXk_2SmUf-N",
        "outputId": "aa550c90-5c53-464e-cc65-bcd29799dabe"
      },
      "source": [
        "my_car.brand"
      ],
      "execution_count": 10,
      "outputs": [
        {
          "output_type": "execute_result",
          "data": {
            "application/vnd.google.colaboratory.intrinsic+json": {
              "type": "string"
            },
            "text/plain": [
              "'Tesla'"
            ]
          },
          "metadata": {
            "tags": []
          },
          "execution_count": 10
        }
      ]
    },
    {
      "cell_type": "code",
      "metadata": {
        "colab": {
          "base_uri": "https://localhost:8080/",
          "height": 37
        },
        "id": "wUngwI12UhpA",
        "outputId": "ff6713fb-582a-4359-a32b-e7b426e15f5a"
      },
      "source": [
        "my_car.brand.upper()"
      ],
      "execution_count": 11,
      "outputs": [
        {
          "output_type": "execute_result",
          "data": {
            "application/vnd.google.colaboratory.intrinsic+json": {
              "type": "string"
            },
            "text/plain": [
              "'TESLA'"
            ]
          },
          "metadata": {
            "tags": []
          },
          "execution_count": 11
        }
      ]
    },
    {
      "cell_type": "code",
      "metadata": {
        "colab": {
          "base_uri": "https://localhost:8080/",
          "height": 37
        },
        "id": "8FfHYG3rVHeV",
        "outputId": "3af52682-9e44-4dae-c1d2-16196294d53f"
      },
      "source": [
        "my_car.color.capitalize()"
      ],
      "execution_count": 12,
      "outputs": [
        {
          "output_type": "execute_result",
          "data": {
            "application/vnd.google.colaboratory.intrinsic+json": {
              "type": "string"
            },
            "text/plain": [
              "'Black'"
            ]
          },
          "metadata": {
            "tags": []
          },
          "execution_count": 12
        }
      ]
    },
    {
      "cell_type": "code",
      "metadata": {
        "colab": {
          "base_uri": "https://localhost:8080/",
          "height": 37
        },
        "id": "EjFWs5ZyVJdt",
        "outputId": "63bf1b7f-c2e2-408d-b546-315e4ba33218"
      },
      "source": [
        "my_friends_car = Car('Lambo','yellow')\n",
        "my_friends_car.brand.upper()"
      ],
      "execution_count": 13,
      "outputs": [
        {
          "output_type": "execute_result",
          "data": {
            "application/vnd.google.colaboratory.intrinsic+json": {
              "type": "string"
            },
            "text/plain": [
              "'LAMBO'"
            ]
          },
          "metadata": {
            "tags": []
          },
          "execution_count": 13
        }
      ]
    },
    {
      "cell_type": "code",
      "metadata": {
        "colab": {
          "base_uri": "https://localhost:8080/",
          "height": 37
        },
        "id": "wsz_1RqzVRRe",
        "outputId": "27205b65-441f-46f1-d914-f0caf95bd2a7"
      },
      "source": [
        "my_friends_car.color.capitalize()"
      ],
      "execution_count": 14,
      "outputs": [
        {
          "output_type": "execute_result",
          "data": {
            "application/vnd.google.colaboratory.intrinsic+json": {
              "type": "string"
            },
            "text/plain": [
              "'Yellow'"
            ]
          },
          "metadata": {
            "tags": []
          },
          "execution_count": 14
        }
      ]
    },
    {
      "cell_type": "markdown",
      "metadata": {
        "id": "ks7ih8-1VV8Y"
      },
      "source": [
        "# 3. Instance Methods"
      ]
    },
    {
      "cell_type": "code",
      "metadata": {
        "colab": {
          "base_uri": "https://localhost:8080/"
        },
        "id": "3ayuASvQVUxo",
        "outputId": "6311778e-5fbe-413b-ad4c-23d8f1357cde"
      },
      "source": [
        "class Dog:\n",
        "    def barks(self):\n",
        "        print(\"Woof-woof\")\n",
        "my_dog = Dog()\n",
        "my_dog.barks()"
      ],
      "execution_count": 15,
      "outputs": [
        {
          "output_type": "stream",
          "text": [
            "Woof-woof\n"
          ],
          "name": "stdout"
        }
      ]
    },
    {
      "cell_type": "code",
      "metadata": {
        "colab": {
          "base_uri": "https://localhost:8080/"
        },
        "id": "X8vW1eMNVfyx",
        "outputId": "17adaaad-ba17-442b-9ce3-962779ddca21"
      },
      "source": [
        "class Dog:\n",
        "    def barks(self):\n",
        "        bark = ''\n",
        "        print(self.bark)\n",
        "my_dog = Dog()\n",
        "my_dog.bark = 'ruff-ruff'\n",
        "my_dog.barks()"
      ],
      "execution_count": 16,
      "outputs": [
        {
          "output_type": "stream",
          "text": [
            "ruff-ruff\n"
          ],
          "name": "stdout"
        }
      ]
    },
    {
      "cell_type": "code",
      "metadata": {
        "colab": {
          "base_uri": "https://localhost:8080/"
        },
        "id": "6FhcfsROWRtg",
        "outputId": "1ca6f110-754c-49ba-ab2b-8f977f64938e"
      },
      "source": [
        "my_dog.bark = 'woof-woof!'\n",
        "my_dog.barks()"
      ],
      "execution_count": 18,
      "outputs": [
        {
          "output_type": "stream",
          "text": [
            "woof-woof!\n"
          ],
          "name": "stdout"
        }
      ]
    },
    {
      "cell_type": "markdown",
      "metadata": {
        "id": "U7B1agryWcu2"
      },
      "source": [
        "# 4. Defining Constructors and Other Special Methods"
      ]
    },
    {
      "cell_type": "code",
      "metadata": {
        "id": "sDXKa6RqWUqQ"
      },
      "source": [
        "class Car:\n",
        "    def __init__(self, brand, color):\n",
        "        self.brand = brand\n",
        "        self.color = color\n",
        "    \n",
        "    def __repr__(self):\n",
        "        return 'My car is {} and was produced by {}'.format(self.color,self.brand)"
      ],
      "execution_count": 19,
      "outputs": []
    },
    {
      "cell_type": "code",
      "metadata": {
        "id": "D2N4z6LUWqNi"
      },
      "source": [
        "my_car = Car('Tesla','black')"
      ],
      "execution_count": 20,
      "outputs": []
    },
    {
      "cell_type": "code",
      "metadata": {
        "colab": {
          "base_uri": "https://localhost:8080/"
        },
        "id": "gmjrnRYgWuHx",
        "outputId": "940eff86-816c-4e33-996a-bb42f0f4a0bf"
      },
      "source": [
        "my_car"
      ],
      "execution_count": 21,
      "outputs": [
        {
          "output_type": "execute_result",
          "data": {
            "text/plain": [
              "My car is black and was produced by Tesla"
            ]
          },
          "metadata": {
            "tags": []
          },
          "execution_count": 21
        }
      ]
    },
    {
      "cell_type": "code",
      "metadata": {
        "colab": {
          "base_uri": "https://localhost:8080/",
          "height": 37
        },
        "id": "-0K7GTcQWvfT",
        "outputId": "db60f0bd-2b5f-439b-dd7c-ca58569e36bf"
      },
      "source": [
        "my_car.color"
      ],
      "execution_count": 22,
      "outputs": [
        {
          "output_type": "execute_result",
          "data": {
            "application/vnd.google.colaboratory.intrinsic+json": {
              "type": "string"
            },
            "text/plain": [
              "'black'"
            ]
          },
          "metadata": {
            "tags": []
          },
          "execution_count": 22
        }
      ]
    },
    {
      "cell_type": "code",
      "metadata": {
        "colab": {
          "base_uri": "https://localhost:8080/",
          "height": 37
        },
        "id": "mk2cExC-WxdV",
        "outputId": "6832396b-26bc-4d5e-b102-77b42a582365"
      },
      "source": [
        "my_car.brand"
      ],
      "execution_count": 23,
      "outputs": [
        {
          "output_type": "execute_result",
          "data": {
            "application/vnd.google.colaboratory.intrinsic+json": {
              "type": "string"
            },
            "text/plain": [
              "'Tesla'"
            ]
          },
          "metadata": {
            "tags": []
          },
          "execution_count": 23
        }
      ]
    },
    {
      "cell_type": "code",
      "metadata": {
        "colab": {
          "base_uri": "https://localhost:8080/"
        },
        "id": "MgwC4sScWx5A",
        "outputId": "f3b8083a-4b80-45af-8e64-29fc55638036"
      },
      "source": [
        "class Dog:\n",
        "    def barks(self):\n",
        "        \"\"\"\n",
        "        prints the bark of my dog!\n",
        "        \"\"\"\n",
        "        bark = ''\n",
        "        print(self.bark)\n",
        "\n",
        "help(my_dog.barks)"
      ],
      "execution_count": 24,
      "outputs": [
        {
          "output_type": "stream",
          "text": [
            "Help on method barks in module __main__:\n",
            "\n",
            "barks() method of __main__.Dog instance\n",
            "\n"
          ],
          "name": "stdout"
        }
      ]
    },
    {
      "cell_type": "markdown",
      "metadata": {
        "id": "VoSDUPR_XXyD"
      },
      "source": [
        "# 5. Code Reuse"
      ]
    },
    {
      "cell_type": "code",
      "metadata": {
        "id": "5OqblnhXXVph"
      },
      "source": [
        "class MyTransports():\n",
        "    def __init__(self, color, brand):\n",
        "        self.color = color\n",
        "        self.brand = brand\n",
        "\n",
        "class Car(MyTransports):\n",
        "    pass\n",
        "\n",
        "class Train(MyTransports):\n",
        "    pass"
      ],
      "execution_count": 25,
      "outputs": []
    },
    {
      "cell_type": "code",
      "metadata": {
        "id": "CghN-wGMXnoj"
      },
      "source": [
        "my_train = Train('gray','Tesla')"
      ],
      "execution_count": 26,
      "outputs": []
    },
    {
      "cell_type": "code",
      "metadata": {
        "colab": {
          "base_uri": "https://localhost:8080/",
          "height": 37
        },
        "id": "561bVLNVXpzF",
        "outputId": "7fca665d-8284-4775-8e4b-39546acf1cfd"
      },
      "source": [
        "my_train.brand"
      ],
      "execution_count": 27,
      "outputs": [
        {
          "output_type": "execute_result",
          "data": {
            "application/vnd.google.colaboratory.intrinsic+json": {
              "type": "string"
            },
            "text/plain": [
              "'Tesla'"
            ]
          },
          "metadata": {
            "tags": []
          },
          "execution_count": 27
        }
      ]
    },
    {
      "cell_type": "code",
      "metadata": {
        "id": "rXr6CKKbXr0I"
      },
      "source": [
        "my_car = Car('black','Lambo')"
      ],
      "execution_count": 28,
      "outputs": []
    },
    {
      "cell_type": "code",
      "metadata": {
        "colab": {
          "base_uri": "https://localhost:8080/",
          "height": 37
        },
        "id": "sKS2GM9BXus7",
        "outputId": "ea4e5853-604d-4fcb-e7cf-6b6f9c875d8a"
      },
      "source": [
        "my_car.brand"
      ],
      "execution_count": 29,
      "outputs": [
        {
          "output_type": "execute_result",
          "data": {
            "application/vnd.google.colaboratory.intrinsic+json": {
              "type": "string"
            },
            "text/plain": [
              "'Lambo'"
            ]
          },
          "metadata": {
            "tags": []
          },
          "execution_count": 29
        }
      ]
    }
  ]
}