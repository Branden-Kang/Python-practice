{
  "nbformat": 4,
  "nbformat_minor": 0,
  "metadata": {
    "colab": {
      "name": "6 Pythonic Bit Manipulation.ipynb",
      "provenance": [],
      "authorship_tag": "ABX9TyN1t9bRrkKTu+IpTstc6wde"
    },
    "kernelspec": {
      "name": "python3",
      "display_name": "Python 3"
    }
  },
  "cells": [
    {
      "cell_type": "markdown",
      "metadata": {
        "id": "x7moQfKB69rC"
      },
      "source": [
        "[Reference](https://levelup.gitconnected.com/6-pythonic-bit-manipulation-recipes-ebdbd630e5ef)"
      ]
    },
    {
      "cell_type": "code",
      "metadata": {
        "id": "cgQacP7I6zLJ"
      },
      "source": [
        "def bitwise_double(a: int) -> int:\n",
        "    \"\"\"\n",
        "    In this example, we shift the bits one place to the left.\n",
        "\n",
        "    In this example:\n",
        "    6 (ob0110) becomes 12 (ob1100)\n",
        "\n",
        "    >>> bitwise_double(6)\n",
        "    12\n",
        "    \"\"\"\n",
        "\n",
        "    return a << 1"
      ],
      "execution_count": 1,
      "outputs": []
    },
    {
      "cell_type": "code",
      "metadata": {
        "id": "vP0FYNsG7Cud"
      },
      "source": [
        "def bitwise_halving(a: int) -> int:\n",
        "    \"\"\"\n",
        "    Halving an integer can be accomplished by shifting bits to the right.\n",
        "    >>> bitwise_halving(24)\n",
        "    12\n",
        "    \"\"\"\n",
        "\n",
        "    return a >> 1\n"
      ],
      "execution_count": 2,
      "outputs": []
    },
    {
      "cell_type": "code",
      "metadata": {
        "id": "T9WHKJks7EX8"
      },
      "source": [
        "def bitwise_addition(a: int, b: int) -> int:\n",
        "    \"\"\"\n",
        "    We can use bitwise operators and zero testing to implement addition.\n",
        "    while a ≠ 0\n",
        "        c ← b and a\n",
        "        b ← b xor a\n",
        "        left shift c by 1\n",
        "        a ← c\n",
        "    return b\n",
        "\n",
        "    >>> bitwise_addition(50, 30)\n",
        "    80\n",
        "\n",
        "    >>> bitwise_addition(36, 2384)\n",
        "    2420\n",
        "    \"\"\"\n",
        "\n",
        "    c: int = 0\n",
        "\n",
        "    while a > 0:\n",
        "        c = b & a\n",
        "        b = b ^ a\n",
        "        c = c << 1\n",
        "        a = c\n",
        "\n",
        "    return b"
      ],
      "execution_count": 3,
      "outputs": []
    },
    {
      "cell_type": "code",
      "metadata": {
        "id": "Ohkcrqmf7Gw6"
      },
      "source": [
        "def bitwise_multiplication(a: int, b: int) -> int:\n",
        "    \"\"\"\n",
        "    We can use bitwise operators and zero testing to implement multiplication.\n",
        "    c ← 0\n",
        "    while b ≠ 0\n",
        "        if (b and 1) ≠ 0\n",
        "            c ← c + a\n",
        "        left shift a by 1\n",
        "        right shift b by 1\n",
        "    return c\n",
        "\n",
        "    >>> bitwise_multiplication(50, 30)\n",
        "    1500\n",
        "\n",
        "    >>> bitwise_multiplication(7, 5)\n",
        "    35\n",
        "    \"\"\"\n",
        "\n",
        "    c: int = 0\n",
        "\n",
        "    while b != 0:\n",
        "        if (b & 1) != 0:\n",
        "            c = bitwise_addition(c, a)  # yes, multiplication is just repeated addition\n",
        "        a = a << 1\n",
        "        b = b >> 1\n",
        "\n",
        "    return c\n"
      ],
      "execution_count": 4,
      "outputs": []
    },
    {
      "cell_type": "code",
      "metadata": {
        "id": "kGkz47DS7JHg"
      },
      "source": [
        "def bitwise_subtraction(minuend: int, subtrahend: int) -> int:\n",
        "    \"\"\"\n",
        "    Bitwise subtraction is a little tricky.\n",
        "    First we need to make the minuend negative using the ~ operator (find it's complement)\n",
        "    Then we find the bitwise AND of the minuend and the subtrahend\n",
        "    Then keep halving the subtrahend until it goes to 0\n",
        "\n",
        "    >>> bitwise_subtraction (100, 60)\n",
        "    40\n",
        "\n",
        "    >>> bitwise_subtraction (29, 17)\n",
        "    12\n",
        "\n",
        "    \"\"\"\n",
        "    # Iterate till there\n",
        "    # is no carry\n",
        "    while subtrahend != 0:\n",
        "        c = (~minuend) & subtrahend\n",
        "        minuend = minuend ^ subtrahend\n",
        "        subtrahend = c << 1\n",
        "\n",
        "    return minuend"
      ],
      "execution_count": 5,
      "outputs": []
    },
    {
      "cell_type": "code",
      "metadata": {
        "id": "Nun5D4en7Kv8"
      },
      "source": [
        "def bitwise_division(numerator: int, denominator: int) -> tuple:\n",
        "    \"\"\"\n",
        "    The numerator is also known as the diviend, the number to be divided.\n",
        "    The denominator is also known as the divisor, what you want to divide by,\n",
        "\n",
        "    >>> bitwise_division(17, 5)\n",
        "    (3, 2)\n",
        "\n",
        "    >>> bitwise_division(1004, 5)\n",
        "    (200, 4)\n",
        "\n",
        "    \"\"\"\n",
        "\n",
        "    quotient: int = 0\n",
        "    remainder: int = 0\n",
        "\n",
        "    if denominator == 0:\n",
        "        raise ZeroDivisionError\n",
        "\n",
        "    for i in range(31, -1, -1):\n",
        "\n",
        "        quotient = quotient << 1\n",
        "        remainder = remainder << 1\n",
        "        remainder = remainder | (numerator & (1 << i)) >> i\n",
        "\n",
        "        if remainder >= denominator:\n",
        "            remainder = bitwise_subtraction(remainder, denominator)\n",
        "            quotient = quotient | 1\n",
        "\n",
        "    return quotient, remainder"
      ],
      "execution_count": 6,
      "outputs": []
    }
  ]
}