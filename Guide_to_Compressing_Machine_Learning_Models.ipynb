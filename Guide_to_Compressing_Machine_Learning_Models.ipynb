{
  "nbformat": 4,
  "nbformat_minor": 0,
  "metadata": {
    "colab": {
      "provenance": [],
      "gpuType": "T4",
      "authorship_tag": "ABX9TyPLvTxN8mfGDH+ueWHHL8q1"
    },
    "kernelspec": {
      "name": "python3",
      "display_name": "Python 3"
    },
    "language_info": {
      "name": "python"
    },
    "accelerator": "GPU"
  },
  "cells": [
    {
      "cell_type": "markdown",
      "source": [
        "[Reference](https://medium.com/@francescofranco_39234/guide-to-compressing-machine-learning-models-0adc83d1296d)"
      ],
      "metadata": {
        "id": "zTYR-4bWetYP"
      }
    },
    {
      "cell_type": "code",
      "execution_count": 1,
      "metadata": {
        "id": "_cZD6DNIemRf"
      },
      "outputs": [],
      "source": [
        "import sys\n",
        "import torch\n",
        "import torch.nn as nn\n",
        "import torch.optim as optim\n",
        "import torchvision\n",
        "import torchvision.transforms as transforms\n",
        "import torch.nn.functional as F\n",
        "import numpy as np\n",
        "import pandas as pd\n",
        "from time import time\n",
        "from tqdm import tqdm\n",
        "from torch.utils.data import DataLoader"
      ]
    },
    {
      "cell_type": "code",
      "source": [
        "transform = transforms.Compose([\n",
        "    transforms.ToTensor(),\n",
        "    transforms.Normalize((0.1307,), (0.3081,))\n",
        "])\n",
        "\n",
        "trainset = torchvision.datasets.MNIST(root='./data', train=True,\n",
        "                                      download=True, transform=transform)\n",
        "trainloader = DataLoader(trainset, batch_size=64, shuffle=True)\n",
        "\n",
        "testset = torchvision.datasets.MNIST(root='./data', train=False,\n",
        "                                     download=True, transform=transform)\n",
        "testloader = DataLoader(testset, batch_size=64, shuffle=False)"
      ],
      "metadata": {
        "colab": {
          "base_uri": "https://localhost:8080/"
        },
        "id": "r7Yy5zgRewWE",
        "outputId": "37947dfe-e498-4eb6-a688-1dbcebfd594b"
      },
      "execution_count": 2,
      "outputs": [
        {
          "output_type": "stream",
          "name": "stderr",
          "text": [
            "100%|██████████| 9.91M/9.91M [00:00<00:00, 20.4MB/s]\n",
            "100%|██████████| 28.9k/28.9k [00:00<00:00, 498kB/s]\n",
            "100%|██████████| 1.65M/1.65M [00:00<00:00, 4.64MB/s]\n",
            "100%|██████████| 4.54k/4.54k [00:00<00:00, 10.0MB/s]\n"
          ]
        }
      ]
    },
    {
      "cell_type": "code",
      "source": [
        "def evaluate(model):\n",
        "    model.eval()\n",
        "    correct = 0\n",
        "    total = 0\n",
        "    with torch.no_grad():\n",
        "        for data in testloader:\n",
        "            inputs, labels = data\n",
        "            outputs = model(inputs)\n",
        "            _, predicted = torch.max(outputs.data, 1)\n",
        "            total += labels.size(0)\n",
        "            correct += (predicted == labels).sum().item()\n",
        "    return correct / total"
      ],
      "metadata": {
        "id": "NcKOLoVieytA"
      },
      "execution_count": 3,
      "outputs": []
    },
    {
      "cell_type": "markdown",
      "source": [
        "# Knowledge Distillation\n",
        "## Architecture of the Teacher Model"
      ],
      "metadata": {
        "id": "jba99aH3e17g"
      }
    },
    {
      "cell_type": "code",
      "source": [
        "class TeacherNet(nn.Module):\n",
        "    def __init__(self):\n",
        "        super(TeacherNet, self).__init__()\n",
        "        self.conv1 = nn.Conv2d(1, 32, 5)  # 32 convolutional filters 5x5\n",
        "        self.pool = nn.MaxPool2d(5, 5)     # Max pooling 5x5\n",
        "        self.fc1 = nn.Linear(32 * 4 * 4, 128)  # Layer fully connected\n",
        "        self.fc2 = nn.Linear(128, 10)           # Output layer (10 classes)\n",
        "\n",
        "    def forward(self, x):\n",
        "        x = F.relu(self.conv1(x))\n",
        "        x = self.pool(x)\n",
        "        x = x.view(x.size(0), -1)\n",
        "        x = F.relu(self.fc1(x))\n",
        "        x = self.fc2(x)\n",
        "        return x"
      ],
      "metadata": {
        "id": "CRbA_hYNe0B7"
      },
      "execution_count": 4,
      "outputs": []
    },
    {
      "cell_type": "code",
      "source": [
        "teacher_model = TeacherNet()\n",
        "teacher_optimizer = optim.Adam(teacher_model.parameters(), lr=0.001)\n",
        "teacher_criterion = nn.CrossEntropyLoss()\n",
        "\n",
        "for epoch in range(5):\n",
        "    teacher_model.train()\n",
        "    running_loss = 0.0\n",
        "\n",
        "    for data in trainloader:\n",
        "        inputs, labels = data\n",
        "        teacher_optimizer.zero_grad()\n",
        "        outputs = teacher_model(inputs)\n",
        "        loss = teacher_criterion(outputs, labels)\n",
        "        loss.backward()\n",
        "        teacher_optimizer.step()\n",
        "        running_loss += loss.item()\n",
        "\n",
        "    teacher_accuracy = evaluate(teacher_model)\n",
        "    print(f\"Epoch {epoch + 1}, Loss: {running_loss / len(trainloader)}, \"\n",
        "          f\"Accuracy: {teacher_accuracy * 100:.2f}%\")"
      ],
      "metadata": {
        "colab": {
          "base_uri": "https://localhost:8080/"
        },
        "id": "L5ZJC-C2e4au",
        "outputId": "8a776eac-efbf-40dc-b8ec-a5b059add254"
      },
      "execution_count": 5,
      "outputs": [
        {
          "output_type": "stream",
          "name": "stdout",
          "text": [
            "Epoch 1, Loss: 0.21454584467183077, Accuracy: 97.39%\n",
            "Epoch 2, Loss: 0.07594661512521347, Accuracy: 98.05%\n",
            "Epoch 3, Loss: 0.05838590213492302, Accuracy: 98.26%\n",
            "Epoch 4, Loss: 0.04723572207931012, Accuracy: 97.90%\n",
            "Epoch 5, Loss: 0.04104774282227006, Accuracy: 98.28%\n"
          ]
        }
      ]
    },
    {
      "cell_type": "markdown",
      "source": [
        "## Architecture of the Student Model"
      ],
      "metadata": {
        "id": "LB22Y6gNe64c"
      }
    },
    {
      "cell_type": "code",
      "source": [
        "class StudentNet(nn.Module):\n",
        "    def __init__(self):\n",
        "        super(StudentNet, self).__init__()\n",
        "        self.fc1 = nn.Linear(28 * 28, 128)  # Input directed by the flattened images\n",
        "        self.fc2 = nn.Linear(128, 10)        # Output layer\n",
        "\n",
        "    def forward(self, x):\n",
        "        x = x.view(x.size(0), -1)  # Flatten the immage 28x28 in vector 784\n",
        "        x = F.relu(self.fc1(x))\n",
        "        x = self.fc2(x)\n",
        "        return x"
      ],
      "metadata": {
        "id": "WbmIK4s7e5yD"
      },
      "execution_count": 6,
      "outputs": []
    },
    {
      "cell_type": "markdown",
      "source": [
        "## Training with Knowledge Distillation"
      ],
      "metadata": {
        "id": "UDHsgfdte9KB"
      }
    },
    {
      "cell_type": "code",
      "source": [
        "def knowledge_distillation_loss(student_logits, teacher_logits):\n",
        "    p_teacher = F.softmax(teacher_logits, dim=1)      # Teacher probability\n",
        "    p_student = F.log_softmax(student_logits, dim=1)  # Student Log-probability\n",
        "    loss = F.kl_div(p_student, p_teacher, reduction='batchmean')\n",
        "    return loss"
      ],
      "metadata": {
        "id": "iznIRdhPe8Lc"
      },
      "execution_count": 7,
      "outputs": []
    },
    {
      "cell_type": "code",
      "source": [
        "student_model = StudentNet()\n",
        "student_optimizer = optim.Adam(student_model.parameters(), lr=0.001)\n",
        "\n",
        "for epoch in range(5):\n",
        "    student_model.train()\n",
        "    running_loss = 0.0\n",
        "\n",
        "    for data in trainloader:\n",
        "        inputs, labels = data\n",
        "        student_optimizer.zero_grad()\n",
        "        student_logits = student_model(inputs)\n",
        "        # Detach to avoid backpropagation via the teacher\n",
        "        teacher_logits = teacher_model(inputs).detach()\n",
        "        loss = knowledge_distillation_loss(student_logits, teacher_logits)\n",
        "        loss.backward()\n",
        "        student_optimizer.step()\n",
        "        running_loss += loss.item()\n",
        "\n",
        "    student_accuracy = evaluate(student_model)\n",
        "    print(f\"Epoch {epoch + 1}, Loss: {running_loss / len(testloader)}, \"\n",
        "          f\"Accuracy: {student_accuracy * 100:.2f}%\")"
      ],
      "metadata": {
        "colab": {
          "base_uri": "https://localhost:8080/"
        },
        "id": "6WCVAbUSe-o1",
        "outputId": "17a200af-8409-450c-b87e-06b5ab17d274"
      },
      "execution_count": 8,
      "outputs": [
        {
          "output_type": "stream",
          "name": "stdout",
          "text": [
            "Epoch 1, Loss: 1.3223543562540772, Accuracy: 95.90%\n",
            "Epoch 2, Loss: 0.5144708617620027, Accuracy: 97.08%\n",
            "Epoch 3, Loss: 0.34498830446914125, Accuracy: 97.33%\n",
            "Epoch 4, Loss: 0.27934224355764165, Accuracy: 97.34%\n",
            "Epoch 5, Loss: 0.21892536989899625, Accuracy: 97.64%\n"
          ]
        }
      ]
    }
  ]
}