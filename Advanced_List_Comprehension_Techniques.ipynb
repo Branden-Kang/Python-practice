{
  "nbformat": 4,
  "nbformat_minor": 0,
  "metadata": {
    "colab": {
      "provenance": [],
      "authorship_tag": "ABX9TyMmpkxnfSqrCXCNFPA8OUo2"
    },
    "kernelspec": {
      "name": "python3",
      "display_name": "Python 3"
    },
    "language_info": {
      "name": "python"
    }
  },
  "cells": [
    {
      "cell_type": "markdown",
      "source": [
        "[Reference](https://python.plainenglish.io/advanced-list-comprehension-techniques-934fb32b91c9)"
      ],
      "metadata": {
        "id": "8AaBp1KNa3mX"
      }
    },
    {
      "cell_type": "markdown",
      "source": [
        "# 1 — Nested List Comprehensions"
      ],
      "metadata": {
        "id": "L7euKUR5b8Hh"
      }
    },
    {
      "cell_type": "code",
      "execution_count": 1,
      "metadata": {
        "colab": {
          "base_uri": "https://localhost:8080/"
        },
        "id": "UzSzW4d5a1xw",
        "outputId": "b3c8627a-873b-407e-abed-1af69426fd0d"
      },
      "outputs": [
        {
          "output_type": "stream",
          "name": "stdout",
          "text": [
            "[1, 2, 3, 4, 5, 6, 7, 8, 9]\n"
          ]
        }
      ],
      "source": [
        "nested_list = [[1,2,3],[4,5,6],[7,8,9]]\n",
        "flat_list = [num for sublist in nested_list for num in sublist]\n",
        "print(flat_list)"
      ]
    },
    {
      "cell_type": "markdown",
      "source": [
        "# 2 — Filtering with List Comprehensions"
      ],
      "metadata": {
        "id": "87ShazuDb5Jr"
      }
    },
    {
      "cell_type": "code",
      "source": [
        "numbers = [1,2,3,4,5,6,7,8,9]\n",
        "odd_numbers = [num for num in numbers if num%2 != 0]\n",
        "print(odd_numbers)"
      ],
      "metadata": {
        "colab": {
          "base_uri": "https://localhost:8080/"
        },
        "id": "eV5s94OqbEqj",
        "outputId": "01ec464b-4942-4e7a-c039-d2d8c66d21c7"
      },
      "execution_count": 2,
      "outputs": [
        {
          "output_type": "stream",
          "name": "stdout",
          "text": [
            "[1, 3, 5, 7, 9]\n"
          ]
        }
      ]
    },
    {
      "cell_type": "markdown",
      "source": [
        "# 3 — Using Multiple Variables in List Comprehensions"
      ],
      "metadata": {
        "id": "oeCl4WQnb35D"
      }
    },
    {
      "cell_type": "code",
      "source": [
        "list1 = [1,2,3]\n",
        "list2 = [4,5,6]\n",
        "\n",
        "combined_list = [(a,b) for a,b in zip(list1, list2)]\n",
        "print(combined_list)"
      ],
      "metadata": {
        "colab": {
          "base_uri": "https://localhost:8080/"
        },
        "id": "dG5H2wwHbO04",
        "outputId": "04041509-0eea-4ac1-84bf-50e44902ca8e"
      },
      "execution_count": 3,
      "outputs": [
        {
          "output_type": "stream",
          "name": "stdout",
          "text": [
            "[(1, 4), (2, 5), (3, 6)]\n"
          ]
        }
      ]
    },
    {
      "cell_type": "markdown",
      "source": [
        "# 4 — List Comprehensions with Conditional Expressions\n"
      ],
      "metadata": {
        "id": "ZWtjNJtyb1_M"
      }
    },
    {
      "cell_type": "code",
      "source": [
        "numbers = [1,2,3,4,5]\n",
        "result = [num**2 if num%2==0 else num**3 for num in numbers]\n",
        "print(result)"
      ],
      "metadata": {
        "colab": {
          "base_uri": "https://localhost:8080/"
        },
        "id": "c6qKVhvhbZcw",
        "outputId": "6066bacb-3b07-49cc-f64c-33f59675fdb6"
      },
      "execution_count": 4,
      "outputs": [
        {
          "output_type": "stream",
          "name": "stdout",
          "text": [
            "[1, 4, 27, 16, 125]\n"
          ]
        }
      ]
    },
    {
      "cell_type": "markdown",
      "source": [
        "# 5 — Transposing a Matrix with List Comprehensions:\n"
      ],
      "metadata": {
        "id": "zNZk-pu-b0sp"
      }
    },
    {
      "cell_type": "code",
      "source": [
        "matrix = [[1,2,3],[4,5,6],[7,8,9]]\n",
        "transposed_matrix = [[row[i] for row in matrix] for i in range(len(matrix))]\n",
        "print(transposed_matrix)"
      ],
      "metadata": {
        "colab": {
          "base_uri": "https://localhost:8080/"
        },
        "id": "Q0NZ3uuubjiC",
        "outputId": "34722777-86e6-4cc2-98b5-de2b37d0e72c"
      },
      "execution_count": 5,
      "outputs": [
        {
          "output_type": "stream",
          "name": "stdout",
          "text": [
            "[[1, 4, 7], [2, 5, 8], [3, 6, 9]]\n"
          ]
        }
      ]
    }
  ]
}