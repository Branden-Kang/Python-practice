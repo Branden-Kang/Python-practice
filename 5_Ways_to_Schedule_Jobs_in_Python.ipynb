{
  "nbformat": 4,
  "nbformat_minor": 0,
  "metadata": {
    "colab": {
      "name": "5 Ways to Schedule Jobs in Python.ipynb",
      "provenance": [],
      "authorship_tag": "ABX9TyOmtFvOXGdt+EbxfzuoAlZG"
    },
    "kernelspec": {
      "name": "python3",
      "display_name": "Python 3"
    },
    "language_info": {
      "name": "python"
    }
  },
  "cells": [
    {
      "cell_type": "markdown",
      "metadata": {
        "id": "5gBCr15Om71m"
      },
      "source": [
        "[Reference](https://python.plainenglish.io/5-ways-to-schedule-jobs-in-python-99de8a80f28e)"
      ]
    },
    {
      "cell_type": "markdown",
      "metadata": {
        "id": "ZohLSFJgm_bI"
      },
      "source": [
        "# Simple loops"
      ]
    },
    {
      "cell_type": "code",
      "metadata": {
        "id": "JDmwSGiQm2IT"
      },
      "source": [
        "import time\n",
        "\n",
        "def task():\n",
        "    print(\"Job Completed!\")\n",
        "\n",
        "while 1:\n",
        "    task()\n",
        "    time.sleep(10)"
      ],
      "execution_count": null,
      "outputs": []
    },
    {
      "cell_type": "code",
      "metadata": {
        "id": "I8PtOqFcnDWU"
      },
      "source": [
        "import datetime\n",
        "\n",
        "def task():\n",
        "    print(\"Job Completed!\")\n",
        "\n",
        "while 1:\n",
        "    now = datetime.datetime.now()\n",
        "    # schedule at every wednesday,7:45 pm\n",
        "    if now.weekday == 3 and now.strftime(\"%H:%m\") == \"19:45\":\n",
        "        task()\n",
        "    # sleep for 6 days\n",
        "    time.sleep(6 * 24 * 60 * 60)"
      ],
      "execution_count": null,
      "outputs": []
    },
    {
      "cell_type": "markdown",
      "metadata": {
        "id": "WkppL7qEnTJj"
      },
      "source": [
        "# Simple loops but threaded"
      ]
    },
    {
      "cell_type": "code",
      "metadata": {
        "id": "HmNBy1VLnPAw"
      },
      "source": [
        "import time\n",
        "import threading\n",
        "\n",
        "def task():\n",
        "    print(\"Job Completed!\")\n",
        "\n",
        "def schedule():\n",
        "    while 1:\n",
        "        task()\n",
        "        time.sleep(10)\n",
        "\n",
        "# makes our logic non blocking\n",
        "thread = threading.Thread(target=schedule)\n",
        "thread.start()"
      ],
      "execution_count": null,
      "outputs": []
    },
    {
      "cell_type": "markdown",
      "metadata": {
        "id": "yj9_SRtfnaet"
      },
      "source": [
        "# Schedule Library"
      ]
    },
    {
      "cell_type": "code",
      "metadata": {
        "id": "I6-Yvds9nW9c"
      },
      "source": [
        "import schedule\n",
        "import time\n",
        "\n",
        "def task():\n",
        "    print(\"Job Executing!\")\n",
        "\n",
        "# for every n minutes\n",
        "schedule.every(10).minutes.do(task)\n",
        "\n",
        "# every hour\n",
        "schedule.every().hour.do(task)\n",
        "\n",
        "# every daya at specific time\n",
        "schedule.every().day.at(\"10:30\").do(task)\n",
        "\n",
        "# schedule by name of day\n",
        "schedule.every().monday.do(task)\n",
        "\n",
        "# name of day with time\n",
        "schedule.every().wednesday.at(\"13:15\").do(task)\n",
        "\n",
        "while True:\n",
        "    schedule.run_pending()\n",
        "    time.sleep(1)"
      ],
      "execution_count": null,
      "outputs": []
    },
    {
      "cell_type": "markdown",
      "metadata": {
        "id": "Ec8ptHvHnkSP"
      },
      "source": [
        "# Python Crontab\n"
      ]
    },
    {
      "cell_type": "code",
      "metadata": {
        "id": "JhMBQpIXnhdq"
      },
      "source": [
        "from crontab import CronTab\n",
        "\n",
        "cron = CronTab(user='root')\n",
        "\n",
        "job = cron.new(command='my_script.sh')\n",
        "\n",
        "job.hour.every(1)\n",
        "cron.write()"
      ],
      "execution_count": null,
      "outputs": []
    },
    {
      "cell_type": "markdown",
      "metadata": {
        "id": "JkUEBOWnns1Z"
      },
      "source": [
        "# RQ Scheduler"
      ]
    },
    {
      "cell_type": "code",
      "metadata": {
        "id": "WlvaXtl5ntcT"
      },
      "source": [
        "from rq_scheduler import Scheduler\n",
        "\n",
        "queue = Queue('circle', connection=Redis())\n",
        "scheduler = Scheduler(queue=queue)\n",
        "\n",
        "scheduler.schedule(\n",
        "    scheduled_time=datetime.utcnow(), # Time for first execution, in UTC timezone\n",
        "    func=func,                     # Function to be queued\n",
        "    args=[arg1, arg2],             # Arguments passed into function when executed\n",
        "    kwargs={'foo': 'bar'},         # Keyword arguments passed into function when executed\n",
        "    interval=60,                   # Time before the function is called again, in seconds\n",
        "    repeat=None,                     # Repeat this number of times (None means repeat forever)\n",
        "    meta={'foo': 'bar'}            # Arbitrary pickleable data on the job itself\n",
        ")"
      ],
      "execution_count": null,
      "outputs": []
    }
  ]
}