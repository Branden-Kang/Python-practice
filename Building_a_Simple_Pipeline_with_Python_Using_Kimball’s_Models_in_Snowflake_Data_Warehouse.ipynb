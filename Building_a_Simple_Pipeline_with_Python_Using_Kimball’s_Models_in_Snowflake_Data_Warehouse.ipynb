{
  "nbformat": 4,
  "nbformat_minor": 0,
  "metadata": {
    "colab": {
      "provenance": [],
      "authorship_tag": "ABX9TyOmJEhzSajhdvZAqbo0W8Tc"
    },
    "kernelspec": {
      "name": "python3",
      "display_name": "Python 3"
    },
    "language_info": {
      "name": "python"
    }
  },
  "cells": [
    {
      "cell_type": "markdown",
      "source": [
        "[Reference](https://medium.com/@agusmahari/building-a-simple-pipeline-with-python-using-kimballs-models-in-snowflake-data-warehouse-2a2d414298d1)"
      ],
      "metadata": {
        "id": "AjGy41RgUr2T"
      }
    },
    {
      "cell_type": "code",
      "execution_count": 1,
      "metadata": {
        "id": "5Wi9dD1rTdNY"
      },
      "outputs": [],
      "source": [
        "!pip install snowflake-connector-python\n",
        "!pip install snowflake-sqlalchemy\n",
        "\n",
        "import snowflake.connector\n",
        "import pandas as pd\n",
        "import os\n",
        "from sqlalchemy import create_engine\n",
        "\n",
        "# Snowflake connection parameters\n",
        "conn_params = {\n",
        "  snowflake_user = os.environ.get(\"SNOWFLAKE_USER\")\n",
        "  snowflake_password = os.environ.get(\"SNOWFLAKE_PASSWORD\")\n",
        "  snowflake_account = os.environ.get(\"SNOWFLAKE_ACCOUNT\")\n",
        "  snowflake_role = os.environ.get(\"SNOWFLAKE_ROLE\")\n",
        "  snowflake_warehouse = os.environ.get(\"SNOWFLAKE_WAREHOUSE\")\n",
        "  snowflake_database = os.environ.get(\"SNOWFLAKE_DATABASE\")\n",
        "  snowflake_schema = os.environ.get(\"SNOWFLAKE_SCHEMA\")\n",
        "}\n",
        "\n",
        "  # Establish the Snowflake connection\n",
        "conn = snowflake.connector.connect(**conn_params)\n",
        "\n",
        "# Create an SQLAlchemy engine\n",
        "engine = create_engine(\n",
        "    f'snowflake://{conn_params[\"user\"]}:{conn_params[\"password\"]}@{conn_params[\"account\"]}/{conn_params[\"database\"]}/{conn_params[\"schema\"]}'\n",
        ")\n",
        "\n",
        "# Read the CSV file into a DataFrame\n",
        "df = pd.read_csv(file_path)\n",
        "\n",
        "# Now you can work with the 'df' DataFrame\n",
        "print(df.head())  # This will display the first few rows of the DataFrame\n",
        "df = pd.DataFrame(data)"
      ]
    },
    {
      "cell_type": "code",
      "source": [
        "# Specify the schema for the DataFrame\n",
        "schema = {\n",
        "    \"column1\": int,\n",
        "    \"column2\": str,\n",
        "    \"column3\": float,\n",
        "    \"column4\": str,\n",
        "    \"column5\": bool\n",
        "}\n",
        "df = df.astype(schema)\n",
        "\n",
        "# Specify the schema and upload the DataFrame to Snowflake\n",
        "schema_name = \"PUBLIC\"  # Replace with your schema name\n",
        "table_name = \"target_table\"  # Replace with your table name\n",
        "df.to_sql(table_name, con=engine, if_exists=\"replace\", schema=schema_name, index=False)\n",
        "\n",
        "# Close the connection\n",
        "conn.close()"
      ],
      "metadata": {
        "id": "OkMsy94JUwkK"
      },
      "execution_count": 2,
      "outputs": []
    }
  ]
}