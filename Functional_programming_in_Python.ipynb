{
  "nbformat": 4,
  "nbformat_minor": 0,
  "metadata": {
    "colab": {
      "name": "Functional programming in Python.ipynb",
      "provenance": [],
      "authorship_tag": "ABX9TyPzU11QkXfRhYLaIpTVWajI"
    },
    "kernelspec": {
      "name": "python3",
      "display_name": "Python 3"
    }
  },
  "cells": [
    {
      "cell_type": "markdown",
      "metadata": {
        "id": "aCh_UscVWMzo",
        "colab_type": "text"
      },
      "source": [
        "[Reference](https://towardsdatascience.com/elements-of-functional-programming-in-python-1b295ea5bbe0)"
      ]
    },
    {
      "cell_type": "markdown",
      "metadata": {
        "id": "0XMndOYLWR2_",
        "colab_type": "text"
      },
      "source": [
        "# 1. Lambda"
      ]
    },
    {
      "cell_type": "code",
      "metadata": {
        "id": "HsiUJcEEWHtR",
        "colab_type": "code",
        "colab": {
          "base_uri": "https://localhost:8080/",
          "height": 34
        },
        "outputId": "e66b6d6d-994e-48c4-fa56-8187478527f0"
      },
      "source": [
        "def function(x):\n",
        "  result = 8*x^2+5\n",
        "  return result\n",
        "function(3)"
      ],
      "execution_count": 1,
      "outputs": [
        {
          "output_type": "execute_result",
          "data": {
            "text/plain": [
              "31"
            ]
          },
          "metadata": {
            "tags": []
          },
          "execution_count": 1
        }
      ]
    },
    {
      "cell_type": "code",
      "metadata": {
        "id": "0YX8IeSZWiXF",
        "colab_type": "code",
        "colab": {
          "base_uri": "https://localhost:8080/",
          "height": 34
        },
        "outputId": "618ceb1f-65ef-4b1e-927f-fb352f682ee4"
      },
      "source": [
        "x = lambda x: 8*x^2+5\n",
        "x(3)"
      ],
      "execution_count": 2,
      "outputs": [
        {
          "output_type": "execute_result",
          "data": {
            "text/plain": [
              "31"
            ]
          },
          "metadata": {
            "tags": []
          },
          "execution_count": 2
        }
      ]
    },
    {
      "cell_type": "code",
      "metadata": {
        "id": "c68nOnfbWsv5",
        "colab_type": "code",
        "colab": {
          "base_uri": "https://localhost:8080/",
          "height": 34
        },
        "outputId": "165a4d5f-d371-499f-f975-8b4a878fc896"
      },
      "source": [
        "lambda x,y: (x*y)**0.5\n",
        "lambda x,y,z: 3/(1/x + 1/y + 1/z)**0.5"
      ],
      "execution_count": 3,
      "outputs": [
        {
          "output_type": "execute_result",
          "data": {
            "text/plain": [
              "<function __main__.<lambda>>"
            ]
          },
          "metadata": {
            "tags": []
          },
          "execution_count": 3
        }
      ]
    },
    {
      "cell_type": "code",
      "metadata": {
        "id": "Rbpql7zAW5p_",
        "colab_type": "code",
        "colab": {}
      },
      "source": [
        "fruit = [\"apple\",\"orange\",\"banana\",\"watermelon\",\"kiwi\",\"strawberry\"]"
      ],
      "execution_count": 4,
      "outputs": []
    },
    {
      "cell_type": "code",
      "metadata": {
        "id": "CpYc89kCXTPH",
        "colab_type": "code",
        "colab": {}
      },
      "source": [
        "fruit.sort(key = lambda name: name.split(\" \")[-1].lower())"
      ],
      "execution_count": 5,
      "outputs": []
    },
    {
      "cell_type": "code",
      "metadata": {
        "id": "Yov0tzDnXYSl",
        "colab_type": "code",
        "colab": {
          "base_uri": "https://localhost:8080/",
          "height": 34
        },
        "outputId": "33592e80-035a-4df8-c99b-74ae6dc26316"
      },
      "source": [
        "fruit"
      ],
      "execution_count": 6,
      "outputs": [
        {
          "output_type": "execute_result",
          "data": {
            "text/plain": [
              "['apple', 'banana', 'kiwi', 'orange', 'strawberry', 'watermelon']"
            ]
          },
          "metadata": {
            "tags": []
          },
          "execution_count": 6
        }
      ]
    },
    {
      "cell_type": "markdown",
      "metadata": {
        "id": "BvHO5hc_Xbft",
        "colab_type": "text"
      },
      "source": [
        "# 2. Map\n",
        "```\n",
        "map(function_to_apply, iterables)\n",
        "```"
      ]
    },
    {
      "cell_type": "code",
      "metadata": {
        "id": "wGN7F7PQXZfQ",
        "colab_type": "code",
        "colab": {}
      },
      "source": [
        "def volume(x):\n",
        "  return x**3"
      ],
      "execution_count": 7,
      "outputs": []
    },
    {
      "cell_type": "code",
      "metadata": {
        "id": "nxG4f7d_XipD",
        "colab_type": "code",
        "colab": {}
      },
      "source": [
        "edges = [1,2,3,4,5]"
      ],
      "execution_count": 8,
      "outputs": []
    },
    {
      "cell_type": "code",
      "metadata": {
        "id": "krazm3rKXmRu",
        "colab_type": "code",
        "colab": {
          "base_uri": "https://localhost:8080/",
          "height": 34
        },
        "outputId": "cf04e6fe-98cd-43fe-f0a7-5f8e6992f7f2"
      },
      "source": [
        "volumes = []\n",
        "for a in edges:\n",
        "  v = volume(a)\n",
        "  volumes.append(v)\n",
        "volumes"
      ],
      "execution_count": 10,
      "outputs": [
        {
          "output_type": "execute_result",
          "data": {
            "text/plain": [
              "[1, 8, 27, 64, 125]"
            ]
          },
          "metadata": {
            "tags": []
          },
          "execution_count": 10
        }
      ]
    },
    {
      "cell_type": "code",
      "metadata": {
        "id": "m3tHZ-7mXty0",
        "colab_type": "code",
        "colab": {
          "base_uri": "https://localhost:8080/",
          "height": 34
        },
        "outputId": "91bb4e1e-5028-42bf-e173-989319d94785"
      },
      "source": [
        "map(volume,edges)"
      ],
      "execution_count": 11,
      "outputs": [
        {
          "output_type": "execute_result",
          "data": {
            "text/plain": [
              "<map at 0x7f5c4dc00198>"
            ]
          },
          "metadata": {
            "tags": []
          },
          "execution_count": 11
        }
      ]
    },
    {
      "cell_type": "code",
      "metadata": {
        "id": "sPLFSTaxXzIP",
        "colab_type": "code",
        "colab": {
          "base_uri": "https://localhost:8080/",
          "height": 34
        },
        "outputId": "d6028e51-9b42-4090-a7d1-5c9269327d2f"
      },
      "source": [
        "list(map(volume,edges))"
      ],
      "execution_count": 13,
      "outputs": [
        {
          "output_type": "execute_result",
          "data": {
            "text/plain": [
              "[1, 8, 27, 64, 125]"
            ]
          },
          "metadata": {
            "tags": []
          },
          "execution_count": 13
        }
      ]
    },
    {
      "cell_type": "code",
      "metadata": {
        "id": "Y-GTCCTmX10-",
        "colab_type": "code",
        "colab": {}
      },
      "source": [
        "height_in_cms = [('Kang',183),('Park',184),('Lee',173),('Choi',190)]"
      ],
      "execution_count": 19,
      "outputs": []
    },
    {
      "cell_type": "code",
      "metadata": {
        "id": "qAeFA7WqYo51",
        "colab_type": "code",
        "colab": {
          "base_uri": "https://localhost:8080/",
          "height": 34
        },
        "outputId": "779006f1-14c2-4998-b0ac-a0e5f6086a23"
      },
      "source": [
        "list(map(lambda x: (x[0], round(x[1]*0.0328,1)),height_in_cms))"
      ],
      "execution_count": 20,
      "outputs": [
        {
          "output_type": "execute_result",
          "data": {
            "text/plain": [
              "[('Kang', 6.0), ('Park', 6.0), ('Lee', 5.7), ('Choi', 6.2)]"
            ]
          },
          "metadata": {
            "tags": []
          },
          "execution_count": 20
        }
      ]
    },
    {
      "cell_type": "markdown",
      "metadata": {
        "id": "4W1FmDJ8ZQI_",
        "colab_type": "text"
      },
      "source": [
        "# 3. Filter\n",
        "```\n",
        "filter(function, iterable)\n",
        "```"
      ]
    },
    {
      "cell_type": "code",
      "metadata": {
        "id": "skEhFPoHY0NX",
        "colab_type": "code",
        "colab": {}
      },
      "source": [
        "my_list = [1,2,3,4,5,6,7,8,9]"
      ],
      "execution_count": 21,
      "outputs": []
    },
    {
      "cell_type": "code",
      "metadata": {
        "id": "Qq6BUZKPZWFI",
        "colab_type": "code",
        "colab": {
          "base_uri": "https://localhost:8080/",
          "height": 34
        },
        "outputId": "98b6aa69-dd15-4625-87a4-15834ff367f6"
      },
      "source": [
        "output_list = filter(lambda x: x>5, my_list)\n",
        "output_list"
      ],
      "execution_count": 22,
      "outputs": [
        {
          "output_type": "execute_result",
          "data": {
            "text/plain": [
              "<filter at 0x7f5c4db23c50>"
            ]
          },
          "metadata": {
            "tags": []
          },
          "execution_count": 22
        }
      ]
    },
    {
      "cell_type": "code",
      "metadata": {
        "id": "36SgCOGlZbcD",
        "colab_type": "code",
        "colab": {
          "base_uri": "https://localhost:8080/",
          "height": 34
        },
        "outputId": "f7834039-a7f8-4c24-c7c2-c8265976e0a9"
      },
      "source": [
        "list(output_list)"
      ],
      "execution_count": 23,
      "outputs": [
        {
          "output_type": "execute_result",
          "data": {
            "text/plain": [
              "[6, 7, 8, 9]"
            ]
          },
          "metadata": {
            "tags": []
          },
          "execution_count": 23
        }
      ]
    },
    {
      "cell_type": "code",
      "metadata": {
        "id": "zzgJlwMwZd3h",
        "colab_type": "code",
        "colab": {}
      },
      "source": [
        "asia = [\"Korea\",\"\",\"Japan\",\"\",\"India\",\"\",\"Vietnam\",\"Laos\"]"
      ],
      "execution_count": 25,
      "outputs": []
    },
    {
      "cell_type": "code",
      "metadata": {
        "id": "qyGC6nHvZuRQ",
        "colab_type": "code",
        "colab": {
          "base_uri": "https://localhost:8080/",
          "height": 34
        },
        "outputId": "4eca0159-327c-43d7-f515-9b917b4a4cd9"
      },
      "source": [
        "list(filter(None,asia))"
      ],
      "execution_count": 26,
      "outputs": [
        {
          "output_type": "execute_result",
          "data": {
            "text/plain": [
              "['Korea', 'Japan', 'India', 'Vietnam', 'Laos']"
            ]
          },
          "metadata": {
            "tags": []
          },
          "execution_count": 26
        }
      ]
    },
    {
      "cell_type": "markdown",
      "metadata": {
        "id": "yTqQgwBtZ6TC",
        "colab_type": "text"
      },
      "source": [
        "# 4. Reduce\n",
        "```\n",
        "reduce(func, seq)\n",
        "```"
      ]
    },
    {
      "cell_type": "code",
      "metadata": {
        "id": "AGScpa_-Z0OA",
        "colab_type": "code",
        "colab": {}
      },
      "source": [
        "from functools import reduce"
      ],
      "execution_count": 27,
      "outputs": []
    },
    {
      "cell_type": "code",
      "metadata": {
        "id": "n5Xx_n09aBVQ",
        "colab_type": "code",
        "colab": {
          "base_uri": "https://localhost:8080/",
          "height": 34
        },
        "outputId": "debb25ce-f4da-4531-9577-3140d4e34a34"
      },
      "source": [
        "product = reduce((lambda x,y:x*y),[1,2,3,4,5])\n",
        "product"
      ],
      "execution_count": 28,
      "outputs": [
        {
          "output_type": "execute_result",
          "data": {
            "text/plain": [
              "120"
            ]
          },
          "metadata": {
            "tags": []
          },
          "execution_count": 28
        }
      ]
    },
    {
      "cell_type": "code",
      "metadata": {
        "id": "-M3XcmK0aG34",
        "colab_type": "code",
        "colab": {
          "base_uri": "https://localhost:8080/",
          "height": 34
        },
        "outputId": "c73de5b3-73c1-416e-bf34-4e02d1695b9c"
      },
      "source": [
        "product = 1\n",
        "list = [1,2,3,4,5]\n",
        "for num in list:\n",
        "  product = product*num\n",
        "product"
      ],
      "execution_count": 29,
      "outputs": [
        {
          "output_type": "execute_result",
          "data": {
            "text/plain": [
              "120"
            ]
          },
          "metadata": {
            "tags": []
          },
          "execution_count": 29
        }
      ]
    },
    {
      "cell_type": "code",
      "metadata": {
        "id": "eNeibSYuaO1a",
        "colab_type": "code",
        "colab": {
          "base_uri": "https://localhost:8080/",
          "height": 34
        },
        "outputId": "82ff08e6-d7fd-4d63-dd48-ce7d7324578f"
      },
      "source": [
        "reduce(lambda a,b: a if (a>b) else b, [58,69,12,158,698])"
      ],
      "execution_count": 30,
      "outputs": [
        {
          "output_type": "execute_result",
          "data": {
            "text/plain": [
              "698"
            ]
          },
          "metadata": {
            "tags": []
          },
          "execution_count": 30
        }
      ]
    },
    {
      "cell_type": "markdown",
      "metadata": {
        "id": "nzgKE8DBaaox",
        "colab_type": "text"
      },
      "source": [
        "# 5. List Comprehensions"
      ]
    },
    {
      "cell_type": "code",
      "metadata": {
        "id": "srbT4FJAaXhk",
        "colab_type": "code",
        "colab": {
          "base_uri": "https://localhost:8080/",
          "height": 34
        },
        "outputId": "bca0b53e-8388-4fb3-d9b4-60bc763a7e39"
      },
      "source": [
        "squares = []\n",
        "for x in range(10):\n",
        "  squares.append(x**2)\n",
        "squares"
      ],
      "execution_count": 31,
      "outputs": [
        {
          "output_type": "execute_result",
          "data": {
            "text/plain": [
              "[0, 1, 4, 9, 16, 25, 36, 49, 64, 81]"
            ]
          },
          "metadata": {
            "tags": []
          },
          "execution_count": 31
        }
      ]
    },
    {
      "cell_type": "code",
      "metadata": {
        "id": "nicKcODPag4P",
        "colab_type": "code",
        "colab": {
          "base_uri": "https://localhost:8080/",
          "height": 34
        },
        "outputId": "a6384110-346b-4193-c715-9711a807c9c4"
      },
      "source": [
        "squares = [x**2 for x in range(10)]\n",
        "squares"
      ],
      "execution_count": 32,
      "outputs": [
        {
          "output_type": "execute_result",
          "data": {
            "text/plain": [
              "[0, 1, 4, 9, 16, 25, 36, 49, 64, 81]"
            ]
          },
          "metadata": {
            "tags": []
          },
          "execution_count": 32
        }
      ]
    },
    {
      "cell_type": "code",
      "metadata": {
        "id": "s2sgM7qzalMU",
        "colab_type": "code",
        "colab": {
          "base_uri": "https://localhost:8080/",
          "height": 34
        },
        "outputId": "4283d70c-8056-4954-d429-296d4ab3a890"
      },
      "source": [
        "heigh_in_feet = [(height[0], round(height[1]*0.0328,1)) for height in height_in_cms]\n",
        "heigh_in_feet"
      ],
      "execution_count": 33,
      "outputs": [
        {
          "output_type": "execute_result",
          "data": {
            "text/plain": [
              "[('Kang', 6.0), ('Park', 6.0), ('Lee', 5.7), ('Choi', 6.2)]"
            ]
          },
          "metadata": {
            "tags": []
          },
          "execution_count": 33
        }
      ]
    },
    {
      "cell_type": "code",
      "metadata": {
        "id": "kGKK8zXTa35w",
        "colab_type": "code",
        "colab": {
          "base_uri": "https://localhost:8080/",
          "height": 34
        },
        "outputId": "ee73b0d1-6490-4696-c6a2-7a60c2244969"
      },
      "source": [
        "[country for country in asia if country!=\"\"]"
      ],
      "execution_count": 34,
      "outputs": [
        {
          "output_type": "execute_result",
          "data": {
            "text/plain": [
              "['Korea', 'Japan', 'India', 'Vietnam', 'Laos']"
            ]
          },
          "metadata": {
            "tags": []
          },
          "execution_count": 34
        }
      ]
    },
    {
      "cell_type": "code",
      "metadata": {
        "id": "40ufyYl5bBtZ",
        "colab_type": "code",
        "colab": {}
      },
      "source": [
        "numbers = [58,69,12,158,698]"
      ],
      "execution_count": 35,
      "outputs": []
    },
    {
      "cell_type": "code",
      "metadata": {
        "id": "yAQuR04lbGZM",
        "colab_type": "code",
        "colab": {
          "base_uri": "https://localhost:8080/",
          "height": 34
        },
        "outputId": "ab3b17f8-df9c-415c-dc78-be0cfeefbf36"
      },
      "source": [
        "max((x) for x in numbers)"
      ],
      "execution_count": 37,
      "outputs": [
        {
          "output_type": "execute_result",
          "data": {
            "text/plain": [
              "698"
            ]
          },
          "metadata": {
            "tags": []
          },
          "execution_count": 37
        }
      ]
    }
  ]
}