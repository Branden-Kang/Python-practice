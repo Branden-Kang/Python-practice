{
  "nbformat": 4,
  "nbformat_minor": 0,
  "metadata": {
    "colab": {
      "provenance": [],
      "authorship_tag": "ABX9TyPSTEqOP7ioVRdHEQnPZMDO"
    },
    "kernelspec": {
      "name": "python3",
      "display_name": "Python 3"
    },
    "language_info": {
      "name": "python"
    }
  },
  "cells": [
    {
      "cell_type": "markdown",
      "source": [
        "[Reference](https://medium.com/@HeCanThink/pysnooper-debugging-made-easy-no-more-print-statements-%EF%B8%8F-a6fb30a9709a)"
      ],
      "metadata": {
        "id": "zGQHH_ZTAUZP"
      }
    },
    {
      "cell_type": "code",
      "source": [
        "pip install pysnooper"
      ],
      "metadata": {
        "colab": {
          "base_uri": "https://localhost:8080/"
        },
        "id": "1xRL1vRMAdI7",
        "outputId": "5fbcb36e-e816-499c-9e38-cde997f64c47"
      },
      "execution_count": 2,
      "outputs": [
        {
          "output_type": "stream",
          "name": "stdout",
          "text": [
            "Collecting pysnooper\n",
            "  Downloading PySnooper-1.2.0-py2.py3-none-any.whl (14 kB)\n",
            "Installing collected packages: pysnooper\n",
            "Successfully installed pysnooper-1.2.0\n"
          ]
        }
      ]
    },
    {
      "cell_type": "code",
      "execution_count": 3,
      "metadata": {
        "colab": {
          "base_uri": "https://localhost:8080/"
        },
        "id": "b3j5WHxeATNM",
        "outputId": "297651ca-c767-4d38-8695-8b566f83c6d6"
      },
      "outputs": [
        {
          "output_type": "stream",
          "name": "stderr",
          "text": [
            "\n",
            "PYDEV DEBUGGER WARNING:\n",
            "sys.settrace() should not be used when the debugger is being used.\n",
            "This may cause the debugger to stop working correctly.\n",
            "If this is needed, please check: \n",
            "http://pydev.blogspot.com/2007/06/why-cant-pydev-debugger-work-with.html\n",
            "to see how to restore the debug tracing back correctly.\n",
            "Call Location:\n",
            "  File \"/usr/local/lib/python3.10/dist-packages/pysnooper/tracer.py\", line 354, in __enter__\n",
            "    sys.settrace(self.trace)\n",
            "\n",
            "\u001b[33m\u001b[2mSource path:... \u001b[22m<ipython-input-3-a41d39bd9782>\u001b[0m\n",
            "\u001b[32m\u001b[2mStarting var:.. \u001b[22mnumber = 6\u001b[0m\n",
            "\u001b[2m01:47:39.102693 call         3\u001b[0m def number_to_bits(number):\n",
            "\u001b[2m01:47:39.104206 line         4\u001b[0m     if number:\n",
            "\u001b[2m01:47:39.104531 line         5\u001b[0m         bits = []\n",
            "\u001b[32m\u001b[2mNew var:....... \u001b[22mbits = []\u001b[0m\n",
            "\u001b[2m01:47:39.104853 line         6\u001b[0m         while number:\n",
            "\u001b[2m01:47:39.105381 line         7\u001b[0m             number, remainder = divmod(number, 2)\n",
            "\u001b[32m\u001b[2mModified var:.. \u001b[22mnumber = 3\u001b[0m\n",
            "\u001b[32m\u001b[2mNew var:....... \u001b[22mremainder = 0\u001b[0m\n",
            "\u001b[2m01:47:39.105746 line         8\u001b[0m             bits.insert(0, remainder)\n",
            "\u001b[32m\u001b[2mModified var:.. \u001b[22mbits = [0]\u001b[0m\n",
            "\u001b[2m01:47:39.106949 line         6\u001b[0m         while number:\n",
            "\u001b[2m01:47:39.107066 line         7\u001b[0m             number, remainder = divmod(number, 2)\n",
            "\u001b[32m\u001b[2mModified var:.. \u001b[22mnumber = 1\u001b[0m\n",
            "\u001b[32m\u001b[2mModified var:.. \u001b[22mremainder = 1\u001b[0m\n",
            "\u001b[2m01:47:39.107124 line         8\u001b[0m             bits.insert(0, remainder)\n",
            "\u001b[32m\u001b[2mModified var:.. \u001b[22mbits = [1, 0]\u001b[0m\n",
            "\u001b[2m01:47:39.107204 line         6\u001b[0m         while number:\n",
            "\u001b[2m01:47:39.107257 line         7\u001b[0m             number, remainder = divmod(number, 2)\n",
            "\u001b[32m\u001b[2mModified var:.. \u001b[22mnumber = 0\u001b[0m\n",
            "\u001b[2m01:47:39.107296 line         8\u001b[0m             bits.insert(0, remainder)\n",
            "\u001b[32m\u001b[2mModified var:.. \u001b[22mbits = [1, 1, 0]\u001b[0m\n",
            "\u001b[2m01:47:39.107361 line         6\u001b[0m         while number:\n",
            "\u001b[2m01:47:39.107420 line         9\u001b[0m         return bits\n",
            "\u001b[2m01:47:39.107461 return       9\u001b[0m         return bits\n",
            "\u001b[36m\u001b[2mReturn value:.. \u001b[22m[1, 1, 0]\u001b[0m\n",
            "\n",
            "PYDEV DEBUGGER WARNING:\n",
            "sys.settrace() should not be used when the debugger is being used.\n",
            "This may cause the debugger to stop working correctly.\n",
            "If this is needed, please check: \n",
            "http://pydev.blogspot.com/2007/06/why-cant-pydev-debugger-work-with.html\n",
            "to see how to restore the debug tracing back correctly.\n",
            "Call Location:\n",
            "  File \"/usr/local/lib/python3.10/dist-packages/pysnooper/tracer.py\", line 360, in __exit__\n",
            "    sys.settrace(stack.pop())\n",
            "\n",
            "\u001b[33m\u001b[2mElapsed time: \u001b[22m00:00:00.026872\u001b[0m\n"
          ]
        },
        {
          "output_type": "execute_result",
          "data": {
            "text/plain": [
              "[1, 1, 0]"
            ]
          },
          "metadata": {},
          "execution_count": 3
        }
      ],
      "source": [
        "import pysnooper\n",
        "@pysnooper.snoop()\n",
        "def number_to_bits(number):\n",
        "    if number:\n",
        "        bits = []\n",
        "        while number:\n",
        "            number, remainder = divmod(number, 2)\n",
        "            bits.insert(0, remainder)\n",
        "        return bits\n",
        "    else:\n",
        "        return [0]\n",
        "number_to_bits(6)"
      ]
    },
    {
      "cell_type": "code",
      "source": [
        "import pysnooper\n",
        "import random\n",
        "\n",
        "def foo():\n",
        "    lst = []\n",
        "    for i in range(10):\n",
        "        lst.append(random.randrange(1, 1000))\n",
        "    with pysnooper.snoop():\n",
        "        lower = min(lst)\n",
        "        upper = max(lst)\n",
        "        mid = (lower + upper) / 2\n",
        "        print(lower, mid, upper)\n",
        "foo()"
      ],
      "metadata": {
        "colab": {
          "base_uri": "https://localhost:8080/"
        },
        "id": "OPWPoJmcAX6O",
        "outputId": "ab15ad6f-2403-4b5f-dae2-36aece173c8f"
      },
      "execution_count": 4,
      "outputs": [
        {
          "output_type": "stream",
          "name": "stdout",
          "text": [
            "23 498.5 974\n"
          ]
        },
        {
          "output_type": "stream",
          "name": "stderr",
          "text": [
            "\u001b[33m\u001b[2mSource path:... \u001b[22m<ipython-input-4-45707e1814cc>\u001b[0m\n",
            "\u001b[32m\u001b[2mNew var:....... \u001b[22mlst = [803, 192, 974, 96, 184, 861, 676, 689, 23, 682]\u001b[0m\n",
            "\u001b[32m\u001b[2mNew var:....... \u001b[22mi = 9\u001b[0m\n",
            "\u001b[2m01:47:39.149244 line         9\u001b[0m         lower = min(lst)\n",
            "\u001b[32m\u001b[2mNew var:....... \u001b[22mlower = 23\u001b[0m\n",
            "\u001b[2m01:47:39.149662 line        10\u001b[0m         upper = max(lst)\n",
            "\u001b[32m\u001b[2mNew var:....... \u001b[22mupper = 974\u001b[0m\n",
            "\u001b[2m01:47:39.149766 line        11\u001b[0m         mid = (lower + upper) / 2\n",
            "\u001b[32m\u001b[2mNew var:....... \u001b[22mmid = 498.5\u001b[0m\n",
            "\u001b[2m01:47:39.149846 line        12\u001b[0m         print(lower, mid, upper)\n",
            "\u001b[2m01:47:39.150143 line         8\u001b[0m     with pysnooper.snoop():\n",
            "\u001b[33m\u001b[2mElapsed time: \u001b[22m00:00:00.005746\u001b[0m\n"
          ]
        }
      ]
    }
  ]
}