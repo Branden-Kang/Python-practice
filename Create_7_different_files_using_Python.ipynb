{
  "nbformat": 4,
  "nbformat_minor": 0,
  "metadata": {
    "colab": {
      "provenance": [],
      "authorship_tag": "ABX9TyNsUqjV6MArrteVSrtlH+T9"
    },
    "kernelspec": {
      "name": "python3",
      "display_name": "Python 3"
    },
    "language_info": {
      "name": "python"
    }
  },
  "cells": [
    {
      "cell_type": "markdown",
      "source": [
        "[Reference](https://towardsdev.com/create-7-different-files-using-python-476b4644dc2d)"
      ],
      "metadata": {
        "id": "ehffb4LP0MF2"
      }
    },
    {
      "cell_type": "markdown",
      "source": [
        "# 1. Creating Text files"
      ],
      "metadata": {
        "id": "27XrGjAZ0Qeg"
      }
    },
    {
      "cell_type": "code",
      "execution_count": 1,
      "metadata": {
        "colab": {
          "base_uri": "https://localhost:8080/"
        },
        "id": "mdibwBrS0JoI",
        "outputId": "65376033-d8c1-44c7-8f30-9d8bb8d1d56b"
      },
      "outputs": [
        {
          "output_type": "stream",
          "name": "stdout",
          "text": [
            "my_text_file.txt is created successfully\n"
          ]
        }
      ],
      "source": [
        "# Creating .txt file using python\n",
        "\n",
        "# choosing filename\n",
        "file_name = \"my_text_file.txt\"\n",
        "\n",
        "# text to write in the file\n",
        "texts = \"Hai, How do you doing?\"\n",
        "\n",
        "# open a file in write mode\n",
        "with open(file_name, \"w\") as file:\n",
        " file.write(texts)\n",
        "\n",
        "# printing success message after creating the file\n",
        "print(f\"{file_name} is created successfully\")"
      ]
    },
    {
      "cell_type": "code",
      "source": [
        "# Reading the created .txt file using python\n",
        "\n",
        "# filename to read\n",
        "file_name = \"my_text_file.txt\"\n",
        "\n",
        "# open file in read mode\n",
        "with open(file_name, \"r\") as file:\n",
        " texts = file.read()\n",
        "\n",
        "# print the text in the file\n",
        "print(texts)"
      ],
      "metadata": {
        "colab": {
          "base_uri": "https://localhost:8080/"
        },
        "id": "j8IImoE20SIV",
        "outputId": "1324ea4d-3e09-4825-9fa1-417c82ce00d0"
      },
      "execution_count": 2,
      "outputs": [
        {
          "output_type": "stream",
          "name": "stdout",
          "text": [
            "Hai, How do you doing?\n"
          ]
        }
      ]
    },
    {
      "cell_type": "markdown",
      "source": [
        "# 2. Creating CSV files"
      ],
      "metadata": {
        "id": "AxtjYIb30VBu"
      }
    },
    {
      "cell_type": "code",
      "source": [
        "# importing the module\n",
        "import csv\n",
        "\n",
        "# filename to write\n",
        "file_name = \"my_csv_file.csv\"\n",
        "\n",
        "# open a file to write in \"w\" mode\n",
        "with open(file_name, \"w\") as file:\n",
        " # create writer object\n",
        " writer = csv.writer(file)\n",
        "    # writing record by record\n",
        " writer.writerow([\"S.no\", \"Name\", \"Company\"])\n",
        " writer.writerow([1, \"Elon Musk\", \"Tesla\"])\n",
        " writer.writerow([2, \"Bill Gates\", \"Microsoft\"])\n",
        " writer.writerow([3, \"Jeff Bezos\", \"Amazon\"])\n",
        " writer.writerow([4, \"Ratan Tata\", \"TCS\"])\n",
        "\n",
        "# printing success message\n",
        "print(f\"{file_name} is successfully created\")"
      ],
      "metadata": {
        "colab": {
          "base_uri": "https://localhost:8080/"
        },
        "id": "8POfAwZM0Tex",
        "outputId": "3b823ac8-73b6-4b60-ad87-9f9b312c7ba4"
      },
      "execution_count": 3,
      "outputs": [
        {
          "output_type": "stream",
          "name": "stdout",
          "text": [
            "my_csv_file.csv is successfully created\n"
          ]
        }
      ]
    },
    {
      "cell_type": "code",
      "source": [
        "# filename to write\n",
        "file_name = \"my_csv_file.csv\"\n",
        "\n",
        "# contents to write\n",
        "content = [\n",
        "    [\"S.no\", \"Name\", \"Company\"],\n",
        "    [1, \"Elon Musk\", \"Tesla\"],\n",
        "    [2, \"Bill Gates\", \"Microsoft\"],\n",
        "    [3, \"Jeff Bezos\", \"Amazon\"],\n",
        "    [4, \"Ratan Tata\", \"TCS\"]\n",
        "]\n",
        "\n",
        "# open a file to write in \"w\" mode\n",
        "with open(file_name, \"w\") as file:\n",
        " # create writer object \n",
        "    writer = csv.writer(file)\n",
        "    writer.writerows(content)\n",
        "\n",
        "# printing success message\n",
        "print(f\"{file_name} is successfully created\")"
      ],
      "metadata": {
        "colab": {
          "base_uri": "https://localhost:8080/"
        },
        "id": "ZxVvjil90YdN",
        "outputId": "9b303597-4d92-4bdd-8312-6de23293c8ff"
      },
      "execution_count": 4,
      "outputs": [
        {
          "output_type": "stream",
          "name": "stdout",
          "text": [
            "my_csv_file.csv is successfully created\n"
          ]
        }
      ]
    },
    {
      "cell_type": "code",
      "source": [
        "# filename to write\n",
        "file_name = \"my_csv_file.csv\"\n",
        "\n",
        "# open a file to read in \"r\" mode\n",
        "with open(file_name, \"r\") as file:\n",
        "    # create reader object\n",
        "    reader = csv.reader(file)\n",
        "    for record in reader:\n",
        "        print(record)"
      ],
      "metadata": {
        "colab": {
          "base_uri": "https://localhost:8080/"
        },
        "id": "r50crBas0aae",
        "outputId": "f8e49b25-3a8d-4ba5-d2be-a8d1c479927c"
      },
      "execution_count": 7,
      "outputs": [
        {
          "output_type": "stream",
          "name": "stdout",
          "text": [
            "['S.no', 'Name', 'Company']\n",
            "['1', 'Elon Musk', 'Tesla']\n",
            "['2', 'Bill Gates', 'Microsoft']\n",
            "['3', 'Jeff Bezos', 'Amazon']\n",
            "['4', 'Ratan Tata', 'TCS']\n"
          ]
        }
      ]
    },
    {
      "cell_type": "markdown",
      "source": [
        "# 3. Creating Excel files"
      ],
      "metadata": {
        "id": "mVraFzLT0c3i"
      }
    },
    {
      "cell_type": "code",
      "source": [
        "pip install openpyxl"
      ],
      "metadata": {
        "colab": {
          "base_uri": "https://localhost:8080/"
        },
        "id": "dP_NRTkW0b-a",
        "outputId": "1cf8bcfa-1f32-4231-8d09-7920573b107f"
      },
      "execution_count": 8,
      "outputs": [
        {
          "output_type": "stream",
          "name": "stdout",
          "text": [
            "Looking in indexes: https://pypi.org/simple, https://us-python.pkg.dev/colab-wheels/public/simple/\n",
            "Requirement already satisfied: openpyxl in /usr/local/lib/python3.8/dist-packages (3.0.10)\n",
            "Requirement already satisfied: et-xmlfile in /usr/local/lib/python3.8/dist-packages (from openpyxl) (1.1.0)\n"
          ]
        }
      ]
    },
    {
      "cell_type": "code",
      "source": [
        "# import the module\n",
        "from openpyxl import Workbook\n",
        "\n",
        "# filename to write\n",
        "file_name = \"my_excel_file.xlsx\"\n",
        "\n",
        "# create workbook object\n",
        "workbook = Workbook()\n",
        "sheet_1 = workbook.active"
      ],
      "metadata": {
        "id": "dPErDgde0jGe"
      },
      "execution_count": 9,
      "outputs": []
    },
    {
      "cell_type": "code",
      "source": [
        "# insert by mentioning the name of both row and column\n",
        "# first record\n",
        "sheet_1[\"A1\"] = \"S. no\"\n",
        "sheet_1[\"B1\"] = \"Name\"\n",
        "sheet_1[\"C1\"] = \"Company\"\n",
        "\n",
        "# second record\n",
        "sheet_1[\"A2\"] = \"1\"\n",
        "sheet_1[\"B2\"] = \"Elon Musk\"\n",
        "sheet_1[\"C2\"] = \"Tesla\"\n",
        "\n",
        "# third record\n",
        "sheet_1[\"A3\"] = \"2\"\n",
        "sheet_1[\"B3\"] = \"Bill Gates\"\n",
        "sheet_1[\"C3\"] = \"Microsoft\"\n",
        "\n",
        "# fourth record\n",
        "sheet_1[\"A4\"] = \"3\"\n",
        "sheet_1[\"B4\"] = \"Jeff Bezos\"\n",
        "sheet_1[\"C4\"] = \"Amazon\"\n",
        "\n",
        "# save the file\n",
        "workbook.save(file_name)"
      ],
      "metadata": {
        "id": "NKw7SXb-0kHv"
      },
      "execution_count": 10,
      "outputs": []
    },
    {
      "cell_type": "code",
      "source": [
        "# insert by mentioning the number of rows and columns\n",
        "# first record\n",
        "sheet_1.cell(row=1, column=1).value = \"S.no\"\n",
        "sheet_1.cell(row=1, column=1).value = \"Name\"\n",
        "sheet_1.cell(row=1, column=1).value = \"Company\"\n",
        "\n",
        "# second record\n",
        "sheet_1.cell(row=1, column=1).value = \"1\"\n",
        "sheet_1.cell(row=1, column=1).value = \"Elon Musk\"\n",
        "sheet_1.cell(row=1, column=1).value = \"Tesla\"\n",
        "\n",
        "# third record\n",
        "sheet_1.cell(row=1, column=1).value = \"2\"\n",
        "sheet_1.cell(row=1, column=1).value = \"Bill Gates\"\n",
        "sheet_1.cell(row=1, column=1).value = \"Microsoft\"\n",
        "\n",
        "# fourth record3\n",
        "sheet_1.cell(row=1, column=1).value = \"3\"\n",
        "sheet_1.cell(row=1, column=1).value = \"Jeff Bezos\"\n",
        "sheet_1.cell(row=1, column=1).value = \"Amazon\"\n",
        "\n",
        "# save the file\n",
        "workbook.save(file_name)"
      ],
      "metadata": {
        "id": "GOpSMcgI0lie"
      },
      "execution_count": 11,
      "outputs": []
    },
    {
      "cell_type": "code",
      "source": [
        "# list of records\n",
        "records = [\n",
        "    [\"S.no\", \"Name\", \"Company\"],\n",
        "    [1, \"Elon Musk\", \"Tesla\"],\n",
        "    [2, \"Bill Gates\", \"Microsoft\"],\n",
        "    [3, \"Jeff Bezos\", \"Amazon\"]\n",
        "]\n",
        "\n",
        "# appending each record in sheet_1\n",
        "for record in records:\n",
        "    sheet_1.append(record)\n",
        "\n",
        "# save the file\n",
        "workbook.save(file_name)"
      ],
      "metadata": {
        "id": "Z0w-E7fg0o15"
      },
      "execution_count": 12,
      "outputs": []
    },
    {
      "cell_type": "code",
      "source": [
        "# import the module\n",
        "import openpyxl\n",
        "\n",
        "# filename to read\n",
        "file_name = \"my_excel_file.xlsx\"\n",
        "\n",
        "# loading the excel file \n",
        "workbook = openpyxl.load_workbook(file_name)\n",
        "sheet_1 = workbook.active\n",
        "\n",
        "# index to where to start reading in rows\n",
        "min_row = sheet_1.min_row\n",
        "# index to where to end reading in rows\n",
        "max_row = sheet_1.max_row\n",
        "\n",
        "# index to where to start reading in columns\n",
        "min_col = sheet_1.min_column\n",
        "# index to where to end reading in columns\n",
        "max_col = sheet_1.max_column\n",
        "\n",
        "for record in sheet_1.iter_rows(min_row, max_row, min_col, max_col):\n",
        "    for cell in record:\n",
        "        print(cell.value, end=\" \")\n",
        "    print()"
      ],
      "metadata": {
        "colab": {
          "base_uri": "https://localhost:8080/"
        },
        "id": "YiwLAxvp0rl0",
        "outputId": "f7feea2b-7907-4de5-9f5d-5507f35e7216"
      },
      "execution_count": 13,
      "outputs": [
        {
          "output_type": "stream",
          "name": "stdout",
          "text": [
            "Amazon Name Company \n",
            "1 Elon Musk Tesla \n",
            "2 Bill Gates Microsoft \n",
            "3 Jeff Bezos Amazon \n",
            "S.no Name Company \n",
            "1 Elon Musk Tesla \n",
            "2 Bill Gates Microsoft \n",
            "3 Jeff Bezos Amazon \n"
          ]
        }
      ]
    },
    {
      "cell_type": "markdown",
      "source": [
        "# 4. Creating Tar files"
      ],
      "metadata": {
        "id": "k0dyCYyc2ZGn"
      }
    },
    {
      "cell_type": "code",
      "source": [
        "# # import the module\n",
        "# import tarfile\n",
        "\n",
        "# # open the file in \"w\" mode using the \"tarfile\" module\n",
        "# with tarfile.open(\"my_tar_file.tar\", \"w\") as file:\n",
        "#     # adding my two text files by specifying their filename\n",
        "#     file.add(\"text_file_1.txt\")\n",
        "#     file.add(\"text_file_2.txt\")\n",
        "\n",
        "# # printing success message\n",
        "# print(\"Tar file created successfully\")"
      ],
      "metadata": {
        "id": "c9Jx6o9c0t42"
      },
      "execution_count": 15,
      "outputs": []
    },
    {
      "cell_type": "code",
      "source": [
        "# # import the module\n",
        "# import tarfile\n",
        "\n",
        "# # file that wanted to extract\n",
        "# filename = \"my_tar_file.tar\"\n",
        "\n",
        "# # check whether the specified file is tar file or not\n",
        "# if tarfile.is_tarfile(filename):\n",
        "    \n",
        "#     # open the file in \"r\" mode using the \"tarfile\" module\n",
        "#     with tarfile.open(filename, \"r\") as file:\n",
        "#         # extract all files\n",
        "#         file.extractall()\n",
        "        \n",
        "#     # print success message\n",
        "#     print(f\"{filename} is extracted successfully\")"
      ],
      "metadata": {
        "id": "ExEbrIhG2c2u"
      },
      "execution_count": 16,
      "outputs": []
    },
    {
      "cell_type": "code",
      "source": [
        "# # import the module\n",
        "# import tarfile\n",
        "\n",
        "# # file that wanted to extract\n",
        "# filename = \"my_tar_file.tar\"\n",
        "\n",
        "# # check the specified file is tar file or not\n",
        "# if tarfile.is_tarfile(filename):\n",
        "    \n",
        "#     # open the file in \"r\" mode using the \"tarfile\" module\n",
        "#     with tarfile.open(filename, \"r\") as file:\n",
        "#         # get the file names in the tar file\n",
        "#         files = file.getnames()\n",
        "#         # iterating through the filenames\n",
        "#         for file in files:\n",
        "#             print(file)"
      ],
      "metadata": {
        "id": "Sy0YecvJ2enF"
      },
      "execution_count": 17,
      "outputs": []
    },
    {
      "cell_type": "markdown",
      "source": [
        "# 5. Creating XML files"
      ],
      "metadata": {
        "id": "SDyKcoyc2ige"
      }
    },
    {
      "cell_type": "code",
      "source": [
        "# importing the module\n",
        "import xml.etree.ElementTree as xml\n",
        "\n",
        "# function that will create the XML file\n",
        "def create_XML_file(filename):\n",
        "    # Root element -> Mobile_shop\n",
        "    root = xml.Element(\"Mobile_shop\")\n",
        "    \n",
        "    # Root element -> mobile_names\n",
        "    mobile = xml.Element(\"mobile_names\")\n",
        "    root.append(mobile)\n",
        "    \n",
        "    # Sub Elements -> mobile names\n",
        "    mobile_1 = xml.SubElement(mobile, \"mobile_1\")\n",
        "    mobile_1.text = \"Vivo\"\n",
        "    \n",
        "    mobile_2 = xml.SubElement(mobile, \"mobile_2\")\n",
        "    mobile_2.text = \"Oppo\"\n",
        "    \n",
        "    mobile_3 = xml.SubElement(mobile, \"mobile_3\")\n",
        "    mobile_3.text = \"Realme\"\n",
        "    \n",
        "    mobile_4 = xml.SubElement(mobile, \"mobile_4\")\n",
        "    mobile_4.text = \"Google Pixel\"\n",
        "    \n",
        "    mobile_5 = xml.SubElement(mobile, \"mobile_5\")\n",
        "    mobile_5.text = \"Iphone\"\n",
        "    \n",
        "    mobile_6 = xml.SubElement(mobile, \"mobile_6\")\n",
        "    mobile_6.text = \"Sony\"\n",
        "    \n",
        "    tree = xml.ElementTree(root)\n",
        "    \n",
        "    # writing the xml content to file.\n",
        "    with open(filename, \"wb\") as file:\n",
        "        tree.write(file)\n",
        "        \n",
        "    # printing success message\n",
        "    print(\"XML file created successfully\")\n",
        "    \n",
        "# function calling\n",
        "create_XML_file(\"my_xml_file.xml\")"
      ],
      "metadata": {
        "colab": {
          "base_uri": "https://localhost:8080/"
        },
        "id": "aAcJXYtw2gx2",
        "outputId": "635838d6-c98d-442b-ce4b-32f5333e1a16"
      },
      "execution_count": 18,
      "outputs": [
        {
          "output_type": "stream",
          "name": "stdout",
          "text": [
            "XML file created successfully\n"
          ]
        }
      ]
    },
    {
      "cell_type": "markdown",
      "source": [
        "# 6. Creating JSON files"
      ],
      "metadata": {
        "id": "2Ds0zM6Q2mGQ"
      }
    },
    {
      "cell_type": "code",
      "source": [
        "# importing the module\n",
        "import json\n",
        "\n",
        "# key-value pair to write in JSON file\n",
        "data = {\n",
        "    \"name\": \"Gowtham\",\n",
        "    \"profession\": \"Blogging\",\n",
        "    \"programming_lang_known\": \"Python\",\n",
        "}\n",
        "\n",
        "# opening a file in \"w\" mode\n",
        "with open(\"my_json_file.json\", \"w\") as file:\n",
        "    # dump() will take the data and file object as a parameter, and\n",
        "    # it will insert the data into the file object\n",
        "    json.dump(data, file)\n",
        "    \n",
        "# print success message\n",
        "print(\"JSON file created successfully\")"
      ],
      "metadata": {
        "colab": {
          "base_uri": "https://localhost:8080/"
        },
        "id": "CEO6bKxm2lI5",
        "outputId": "6380c5cb-fc5e-46e1-e575-6a5d236993a8"
      },
      "execution_count": 19,
      "outputs": [
        {
          "output_type": "stream",
          "name": "stdout",
          "text": [
            "JSON file created successfully\n"
          ]
        }
      ]
    },
    {
      "cell_type": "code",
      "source": [
        "# importing the module\n",
        "import json\n",
        "\n",
        "# opening a file in \"w\" mode\n",
        "with open(\"my_json_file.json\", \"r\") as file:\n",
        "    # load() will take the file object as a parameter, and\n",
        "    # it will read the data and store it into the content variable\n",
        "    content = json.load(file)\n",
        "\n",
        "# printing the content in the JSON file\n",
        "print(content)"
      ],
      "metadata": {
        "colab": {
          "base_uri": "https://localhost:8080/"
        },
        "id": "VAkh-RiA2n6S",
        "outputId": "0bc4b933-9d2c-449c-a273-3b580cfeb7de"
      },
      "execution_count": 20,
      "outputs": [
        {
          "output_type": "stream",
          "name": "stdout",
          "text": [
            "{'name': 'Gowtham', 'profession': 'Blogging', 'programming_lang_known': 'Python'}\n"
          ]
        }
      ]
    },
    {
      "cell_type": "markdown",
      "source": [
        "# 7. Creating PDF files"
      ],
      "metadata": {
        "id": "c7YNz0512qXK"
      }
    },
    {
      "cell_type": "code",
      "source": [
        "pip install fpdf"
      ],
      "metadata": {
        "colab": {
          "base_uri": "https://localhost:8080/"
        },
        "id": "JmA_z6un2pLg",
        "outputId": "5100a1b1-72f8-4a3b-bc97-2b96e3024660"
      },
      "execution_count": 21,
      "outputs": [
        {
          "output_type": "stream",
          "name": "stdout",
          "text": [
            "Looking in indexes: https://pypi.org/simple, https://us-python.pkg.dev/colab-wheels/public/simple/\n",
            "Collecting fpdf\n",
            "  Downloading fpdf-1.7.2.tar.gz (39 kB)\n",
            "  Preparing metadata (setup.py) ... \u001b[?25l\u001b[?25hdone\n",
            "Building wheels for collected packages: fpdf\n",
            "  Building wheel for fpdf (setup.py) ... \u001b[?25l\u001b[?25hdone\n",
            "  Created wheel for fpdf: filename=fpdf-1.7.2-py2.py3-none-any.whl size=40721 sha256=b9b94a2f895771c7796309dcebcdb0cad67fa19f44cddd5deeea3ff0ef84f614\n",
            "  Stored in directory: /root/.cache/pip/wheels/b4/7f/00/f90ea7c44f8b921477205baa66a7aaf04be398f743ea946fd5\n",
            "Successfully built fpdf\n",
            "Installing collected packages: fpdf\n",
            "Successfully installed fpdf-1.7.2\n"
          ]
        }
      ]
    },
    {
      "cell_type": "code",
      "source": [
        "# importing the module\n",
        "import fpdf\n",
        "\n",
        "# creating the instance \n",
        "pdf = fpdf.FPDF()\n",
        "\n",
        "# adding the page\n",
        "pdf.add_page()\n",
        "\n",
        "# setting the font style\n",
        "pdf.set_font(\"arial\")\n",
        "\n",
        "# setting font size\n",
        "pdf.set_font_size(18)\n",
        "\n",
        "# writing the text in the cell\n",
        "pdf.cell(w=0, txt=\"Hai, Everyone\", ln=0)\n",
        "\n",
        "# saving the file as pdf file\n",
        "pdf.output(\"my_pdf.pdf\")"
      ],
      "metadata": {
        "colab": {
          "base_uri": "https://localhost:8080/",
          "height": 35
        },
        "id": "SF3itKQg2rPN",
        "outputId": "03c3a8bf-8a2d-4c15-8c98-ebda590016a3"
      },
      "execution_count": 22,
      "outputs": [
        {
          "output_type": "execute_result",
          "data": {
            "text/plain": [
              "''"
            ],
            "application/vnd.google.colaboratory.intrinsic+json": {
              "type": "string"
            }
          },
          "metadata": {},
          "execution_count": 22
        }
      ]
    }
  ]
}