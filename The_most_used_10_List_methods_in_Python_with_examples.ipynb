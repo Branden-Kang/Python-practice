{
  "nbformat": 4,
  "nbformat_minor": 0,
  "metadata": {
    "colab": {
      "provenance": [],
      "authorship_tag": "ABX9TyMZdQLEoAHOWY+reVFGtrbd"
    },
    "kernelspec": {
      "name": "python3",
      "display_name": "Python 3"
    },
    "language_info": {
      "name": "python"
    }
  },
  "cells": [
    {
      "cell_type": "markdown",
      "source": [
        "[Reference](https://blog.devgenius.io/the-most-used-10-list-methods-in-python-with-examples-f339285c13e1)"
      ],
      "metadata": {
        "id": "sHJOu95t5xjJ"
      }
    },
    {
      "cell_type": "code",
      "execution_count": 1,
      "metadata": {
        "id": "26Fq_WIO5ViH"
      },
      "outputs": [],
      "source": [
        "user_ids = [11, 22, 33, 44, 55]"
      ]
    },
    {
      "cell_type": "code",
      "source": [
        "mixed_list = [1, True, [1, 2, 3], {\"name\":\"Alex\", \"age\":12}, (1, 2, 3), \"Bob\"]"
      ],
      "metadata": {
        "id": "ZjpuJLNT52JF"
      },
      "execution_count": 2,
      "outputs": []
    },
    {
      "cell_type": "markdown",
      "source": [
        "# 1. append() method:"
      ],
      "metadata": {
        "id": "8NkxVbRA532o"
      }
    },
    {
      "cell_type": "code",
      "source": [
        "ages = [10,15,18]\n",
        "ages.append(20)\n",
        "print(ages)"
      ],
      "metadata": {
        "colab": {
          "base_uri": "https://localhost:8080/"
        },
        "id": "1OzmUiFG52by",
        "outputId": "730e6d08-08b7-42cb-84e5-7b0964557830"
      },
      "execution_count": 3,
      "outputs": [
        {
          "output_type": "stream",
          "name": "stdout",
          "text": [
            "[10, 15, 18, 20]\n"
          ]
        }
      ]
    },
    {
      "cell_type": "markdown",
      "source": [
        "# 2. extend() method:"
      ],
      "metadata": {
        "id": "_xYzAZHL57Ki"
      }
    },
    {
      "cell_type": "code",
      "source": [
        "shopping_cart = [\"apple\", \"butter\", \"cheese\"]\n",
        "additional_items = [\"meat\", \"coffee\"]\n",
        "shopping_cart.extend(additional_items)\n",
        "\n",
        "print(shopping_cart)"
      ],
      "metadata": {
        "colab": {
          "base_uri": "https://localhost:8080/"
        },
        "id": "n8EgFOpn56GS",
        "outputId": "b8b3ca7b-9408-4ed1-8cf1-af32e859dc86"
      },
      "execution_count": 4,
      "outputs": [
        {
          "output_type": "stream",
          "name": "stdout",
          "text": [
            "['apple', 'butter', 'cheese', 'meat', 'coffee']\n"
          ]
        }
      ]
    },
    {
      "cell_type": "markdown",
      "source": [
        "# 3. insert() method:"
      ],
      "metadata": {
        "id": "zKvoItT46CBJ"
      }
    },
    {
      "cell_type": "code",
      "source": [
        "feature_list = [\"authentication\", \"authorization\", \"logging\"]\n",
        "new_feature = \"encryption\"\n",
        "feature_list.insert(1, new_feature)\n",
        "print(feature_list)"
      ],
      "metadata": {
        "colab": {
          "base_uri": "https://localhost:8080/"
        },
        "id": "SeCSoVVu5-bg",
        "outputId": "9b2dd709-11a8-4252-c277-cd77953b5fc6"
      },
      "execution_count": 5,
      "outputs": [
        {
          "output_type": "stream",
          "name": "stdout",
          "text": [
            "['authentication', 'encryption', 'authorization', 'logging']\n"
          ]
        }
      ]
    },
    {
      "cell_type": "markdown",
      "source": [
        "# 4. remove() method:"
      ],
      "metadata": {
        "id": "vi6r6plr6Gxw"
      }
    },
    {
      "cell_type": "code",
      "source": [
        "to_do_list = [\"edit video\", \"write a blog post\", \"email to the client\", \"attend to the meeting\"]\n",
        "to_do_list.remove(\"edit video\")\n",
        "print(to_do_list)"
      ],
      "metadata": {
        "colab": {
          "base_uri": "https://localhost:8080/"
        },
        "id": "sqcmUXVN6FQf",
        "outputId": "c8289e28-25f6-44de-ae14-26fb1ac3942d"
      },
      "execution_count": 6,
      "outputs": [
        {
          "output_type": "stream",
          "name": "stdout",
          "text": [
            "['write a blog post', 'email to the client', 'attend to the meeting']\n"
          ]
        }
      ]
    },
    {
      "cell_type": "markdown",
      "source": [
        "# 5. pop() method:"
      ],
      "metadata": {
        "id": "60miY7u96LPc"
      }
    },
    {
      "cell_type": "code",
      "source": [
        "stack = [1, 2, 3, 4, 5]\n",
        "popped_item = stack.pop()\n",
        "print(popped_item)"
      ],
      "metadata": {
        "colab": {
          "base_uri": "https://localhost:8080/"
        },
        "id": "UmG_JQ_M6KPA",
        "outputId": "eb9525d9-784a-4fac-be6b-51e667620eec"
      },
      "execution_count": 7,
      "outputs": [
        {
          "output_type": "stream",
          "name": "stdout",
          "text": [
            "5\n"
          ]
        }
      ]
    },
    {
      "cell_type": "markdown",
      "source": [
        "# 6. index() method:"
      ],
      "metadata": {
        "id": "F4qyMSDY6P0b"
      }
    },
    {
      "cell_type": "code",
      "source": [
        "browsers = [\"Google Chrome\", \"Firefox\", \"Safari\", \"Opera\"]\n",
        "\n",
        "firefox = browsers.index(\"Firefox\")\n",
        "print(firefox)\n",
        "\n",
        "explorer = browsers.index(\"Internet Explorer\")\n",
        "print(explorer)"
      ],
      "metadata": {
        "colab": {
          "base_uri": "https://localhost:8080/",
          "height": 276
        },
        "id": "9gtZaWaz6OnX",
        "outputId": "49d9389f-2c2a-4be0-c302-16b9c4f13655"
      },
      "execution_count": 10,
      "outputs": [
        {
          "output_type": "stream",
          "name": "stdout",
          "text": [
            "1\n"
          ]
        },
        {
          "output_type": "error",
          "ename": "ValueError",
          "evalue": "ignored",
          "traceback": [
            "\u001b[0;31m---------------------------------------------------------------------------\u001b[0m",
            "\u001b[0;31mValueError\u001b[0m                                Traceback (most recent call last)",
            "\u001b[0;32m<ipython-input-10-d68d6f2c11c6>\u001b[0m in \u001b[0;36m<cell line: 6>\u001b[0;34m()\u001b[0m\n\u001b[1;32m      4\u001b[0m \u001b[0mprint\u001b[0m\u001b[0;34m(\u001b[0m\u001b[0mfirefox\u001b[0m\u001b[0;34m)\u001b[0m\u001b[0;34m\u001b[0m\u001b[0;34m\u001b[0m\u001b[0m\n\u001b[1;32m      5\u001b[0m \u001b[0;34m\u001b[0m\u001b[0m\n\u001b[0;32m----> 6\u001b[0;31m \u001b[0mexplorer\u001b[0m \u001b[0;34m=\u001b[0m \u001b[0mbrowsers\u001b[0m\u001b[0;34m.\u001b[0m\u001b[0mindex\u001b[0m\u001b[0;34m(\u001b[0m\u001b[0;34m\"Internet Explorer\"\u001b[0m\u001b[0;34m)\u001b[0m\u001b[0;34m\u001b[0m\u001b[0;34m\u001b[0m\u001b[0m\n\u001b[0m\u001b[1;32m      7\u001b[0m \u001b[0mprint\u001b[0m\u001b[0;34m(\u001b[0m\u001b[0mexplorer\u001b[0m\u001b[0;34m)\u001b[0m\u001b[0;34m\u001b[0m\u001b[0;34m\u001b[0m\u001b[0m\n",
            "\u001b[0;31mValueError\u001b[0m: 'Internet Explorer' is not in list"
          ]
        }
      ]
    },
    {
      "cell_type": "markdown",
      "source": [
        "# 7. count() method:"
      ],
      "metadata": {
        "id": "Ykn_OizZ6VEs"
      }
    },
    {
      "cell_type": "code",
      "source": [
        "grades = ['A', 'B', 'A', 'C', 'B', 'A', 'D', 'A', 'F', 'B']\n",
        "\n",
        "num_of_A_grades = grades.count('A')\n",
        "print(num_of_A_grades)"
      ],
      "metadata": {
        "colab": {
          "base_uri": "https://localhost:8080/"
        },
        "id": "eioZLpGs6fuY",
        "outputId": "bfbaad8d-44e5-4973-bc93-455898803013"
      },
      "execution_count": 12,
      "outputs": [
        {
          "output_type": "stream",
          "name": "stdout",
          "text": [
            "4\n"
          ]
        }
      ]
    },
    {
      "cell_type": "markdown",
      "source": [
        "# 8. sort() method:"
      ],
      "metadata": {
        "id": "3mP671Hm6iUr"
      }
    },
    {
      "cell_type": "code",
      "source": [
        "prices = [100, 50, 78, 98, 34, 21, 67]\n",
        "prices.sort()\n",
        "\n",
        "tasks = [(\"TaskA\", 2), (\"TaskB\", 1), (\"TaskC\", 3)]\n",
        "tasks.sort(key=lambda x: x[1])"
      ],
      "metadata": {
        "id": "VogqPdS06Tv7"
      },
      "execution_count": 11,
      "outputs": []
    },
    {
      "cell_type": "markdown",
      "source": [
        "# 9. reverse() method:"
      ],
      "metadata": {
        "id": "pkPoQ3_y6cKP"
      }
    },
    {
      "cell_type": "code",
      "source": [
        "message_history = [\"message1\", \"message2\", \"message3\", \"message4\"]\n",
        "message_history.reverse()"
      ],
      "metadata": {
        "id": "qcD3RPzI6bUP"
      },
      "execution_count": 13,
      "outputs": []
    },
    {
      "cell_type": "markdown",
      "source": [
        "# 10. copy() method:"
      ],
      "metadata": {
        "id": "CHUEoD0m6o1m"
      }
    },
    {
      "cell_type": "code",
      "source": [
        "config_settings = [\"setting1\", \"setting2\", \"setting3\"]\n",
        "config_backup = config_settings.copy()"
      ],
      "metadata": {
        "id": "KeRwegaK6kYi"
      },
      "execution_count": 14,
      "outputs": []
    }
  ]
}