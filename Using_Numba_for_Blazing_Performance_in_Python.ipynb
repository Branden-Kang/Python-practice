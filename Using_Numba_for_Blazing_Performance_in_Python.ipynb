{
  "nbformat": 4,
  "nbformat_minor": 0,
  "metadata": {
    "colab": {
      "name": "Using Numba for Blazing Performance in Python.ipynb",
      "provenance": [],
      "authorship_tag": "ABX9TyPGophW+NFit9t0RlFhRcqh"
    },
    "kernelspec": {
      "name": "python3",
      "display_name": "Python 3"
    },
    "language_info": {
      "name": "python"
    }
  },
  "cells": [
    {
      "cell_type": "markdown",
      "metadata": {
        "id": "ll2nHGqUcuyn"
      },
      "source": [
        "[Reference](https://python.plainenglish.io/using-numba-for-blazing-performance-in-python-656e8e32f8c)"
      ]
    },
    {
      "cell_type": "code",
      "metadata": {
        "colab": {
          "base_uri": "https://localhost:8080/"
        },
        "id": "mVhhCHrebmDr",
        "outputId": "56efd228-829c-49ac-e1b9-fc46b3d77095"
      },
      "source": [
        "pip install numba"
      ],
      "execution_count": 1,
      "outputs": [
        {
          "output_type": "stream",
          "name": "stdout",
          "text": [
            "Requirement already satisfied: numba in /usr/local/lib/python3.7/dist-packages (0.51.2)\n",
            "Requirement already satisfied: setuptools in /usr/local/lib/python3.7/dist-packages (from numba) (57.4.0)\n",
            "Requirement already satisfied: numpy>=1.15 in /usr/local/lib/python3.7/dist-packages (from numba) (1.19.5)\n",
            "Requirement already satisfied: llvmlite<0.35,>=0.34.0.dev0 in /usr/local/lib/python3.7/dist-packages (from numba) (0.34.0)\n"
          ]
        }
      ]
    },
    {
      "cell_type": "code",
      "metadata": {
        "id": "pZ-3uapjc4A1"
      },
      "source": [
        "import numpy as np\n",
        "size = int(5e7)\n",
        "array = np.arange(size).astype(np.float32)"
      ],
      "execution_count": 2,
      "outputs": []
    },
    {
      "cell_type": "code",
      "metadata": {
        "id": "bBnIQe7ac9QE"
      },
      "source": [
        "def function_with_normal_loop(array):\n",
        "    out = []\n",
        "    for i in array:\n",
        "        out.append(sqrt(i))\n",
        "    return out"
      ],
      "execution_count": 3,
      "outputs": []
    },
    {
      "cell_type": "code",
      "metadata": {
        "id": "B57cGcX3c_YY"
      },
      "source": [
        "def function_with_list_comprehension(array):\n",
        "    return [sqrt(x) for x in array]"
      ],
      "execution_count": 4,
      "outputs": []
    },
    {
      "cell_type": "code",
      "metadata": {
        "id": "h7oIIGErdAeN"
      },
      "source": [
        "def function_with_map(array):\n",
        "    return list(map(sqrt, array))"
      ],
      "execution_count": 5,
      "outputs": []
    },
    {
      "cell_type": "code",
      "metadata": {
        "id": "H5dsAbgbdB-A"
      },
      "source": [
        "from numba import jit"
      ],
      "execution_count": 6,
      "outputs": []
    },
    {
      "cell_type": "code",
      "metadata": {
        "id": "p-0H9hh1dDLT"
      },
      "source": [
        "@jit(nopython=True)\n",
        "def function_with_normal_loop(array):\n",
        "    out = []\n",
        "    for i in array:\n",
        "        out.append(sqrt(i))\n",
        "    return out"
      ],
      "execution_count": 7,
      "outputs": []
    },
    {
      "cell_type": "code",
      "metadata": {
        "id": "n9ldWISFdEMY"
      },
      "source": [
        "@jit(nopython=True)\n",
        "def function_with_list_comprehension(array):\n",
        "    return [sqrt(x) for x in array]"
      ],
      "execution_count": 8,
      "outputs": []
    },
    {
      "cell_type": "code",
      "metadata": {
        "id": "lHl0RA1gdF0E"
      },
      "source": [
        "@jit(nopython=True)\n",
        "def function_with_map(array):\n",
        "    return list(map(sqrt, array))"
      ],
      "execution_count": 9,
      "outputs": []
    },
    {
      "cell_type": "code",
      "metadata": {
        "id": "5K5yqvhqdG1c"
      },
      "source": [
        "from numba import vectorize"
      ],
      "execution_count": 10,
      "outputs": []
    },
    {
      "cell_type": "code",
      "metadata": {
        "id": "NdnMdIjkdIH6"
      },
      "source": [
        "@vectorize\n",
        "def function_with_vectorize(elem):\n",
        "    return sqrt(elem)"
      ],
      "execution_count": 11,
      "outputs": []
    },
    {
      "cell_type": "code",
      "metadata": {
        "colab": {
          "base_uri": "https://localhost:8080/"
        },
        "id": "6f1lCHX7dJAf",
        "outputId": "d39f3c08-2808-4a6b-8699-fae8e4d0f892"
      },
      "source": [
        "@vectorize(['float32(float32)'])\n",
        "def function_with_vectorize(elem):\n",
        "    return sqrt(elem)"
      ],
      "execution_count": 13,
      "outputs": [
        {
          "output_type": "stream",
          "name": "stderr",
          "text": [
            "<ipython-input-13-dbc7301b15b1>:1: NumbaWarning: \n",
            "Compilation is falling back to object mode WITHOUT looplifting enabled because Function \"function_with_vectorize\" failed type inference due to: NameError: name 'sqrt' is not defined\n",
            "  @vectorize(['float32(float32)'])\n",
            "/usr/local/lib/python3.7/dist-packages/numba/core/object_mode_passes.py:178: NumbaWarning: Function \"function_with_vectorize\" was compiled in object mode without forceobj=True.\n",
            "\n",
            "File \"<ipython-input-13-dbc7301b15b1>\", line 2:\n",
            "@vectorize(['float32(float32)'])\n",
            "def function_with_vectorize(elem):\n",
            "^\n",
            "\n",
            "  state.func_ir.loc))\n",
            "/usr/local/lib/python3.7/dist-packages/numba/core/object_mode_passes.py:188: NumbaDeprecationWarning: \n",
            "Fall-back from the nopython compilation path to the object mode compilation path has been detected, this is deprecated behaviour.\n",
            "\n",
            "For more information visit https://numba.pydata.org/numba-doc/latest/reference/deprecation.html#deprecation-of-object-mode-fall-back-behaviour-when-using-jit\n",
            "\n",
            "File \"<ipython-input-13-dbc7301b15b1>\", line 2:\n",
            "@vectorize(['float32(float32)'])\n",
            "def function_with_vectorize(elem):\n",
            "^\n",
            "\n",
            "  state.func_ir.loc))\n"
          ]
        }
      ]
    },
    {
      "cell_type": "code",
      "metadata": {
        "id": "ErXi6d8SdKiM"
      },
      "source": [
        "from numba import cuda"
      ],
      "execution_count": 14,
      "outputs": []
    },
    {
      "cell_type": "code",
      "metadata": {
        "id": "oZuRy400dN1-"
      },
      "source": [
        "@cuda.jit\n",
        "def normal_function(array, out):\n",
        "    idx = cuda.grid(1)\n",
        "    out[idx] = sqrt(array[idx])d_a = cuda.to_device(array)\n",
        "d_out = cuda.device_array_like(d_a)\n",
        "blocks_per_grid = 32\n",
        "threads_per_block = 128\n",
        "normal_function[blocks_per_grid, threads_per_block](d_a, d_out)\n",
        "print(d_out.copy_to_host())"
      ],
      "execution_count": 15,
      "outputs": []
    },
    {
      "cell_type": "code",
      "metadata": {
        "id": "1p-eFPHYdPgo"
      },
      "source": [
        "@vectorize(['float32(float32)'], target='cuda')\n",
        "def vectorize_with_cuda(elem, ):\n",
        "    return sqrt(elem)"
      ],
      "execution_count": 17,
      "outputs": []
    }
  ]
}