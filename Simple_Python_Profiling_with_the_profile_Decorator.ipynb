{
  "nbformat": 4,
  "nbformat_minor": 0,
  "metadata": {
    "colab": {
      "name": "Simple Python Profiling with the @profile Decorator.ipynb",
      "provenance": [],
      "authorship_tag": "ABX9TyPDNo8qheEMIM7od19FRqwI"
    },
    "kernelspec": {
      "name": "python3",
      "display_name": "Python 3"
    },
    "language_info": {
      "name": "python"
    }
  },
  "cells": [
    {
      "cell_type": "markdown",
      "metadata": {
        "id": "ZKNx7nfj2La2"
      },
      "source": [
        "[Reference](https://medium.com/uncountable-engineering/pythons-line-profiler-32df2b07b290)"
      ]
    },
    {
      "cell_type": "code",
      "metadata": {
        "colab": {
          "base_uri": "https://localhost:8080/"
        },
        "id": "AXnnNHu22P_J",
        "outputId": "75d0ec10-a0eb-41eb-ef77-7a2654913449"
      },
      "source": [
        "!python -m pip install line_profiler"
      ],
      "execution_count": 3,
      "outputs": [
        {
          "output_type": "stream",
          "text": [
            "Collecting line_profiler\n",
            "\u001b[?25l  Downloading https://files.pythonhosted.org/packages/a4/f3/efafe5027efff7e106d4f6a99ff67e1aa2159a491dbf4746d8490110f7a9/line_profiler-3.2.1-cp37-cp37m-manylinux2010_x86_64.whl (63kB)\n",
            "\r\u001b[K     |█████▏                          | 10kB 11.5MB/s eta 0:00:01\r\u001b[K     |██████████▎                     | 20kB 15.4MB/s eta 0:00:01\r\u001b[K     |███████████████▍                | 30kB 19.7MB/s eta 0:00:01\r\u001b[K     |████████████████████▌           | 40kB 23.4MB/s eta 0:00:01\r\u001b[K     |█████████████████████████▋      | 51kB 26.3MB/s eta 0:00:01\r\u001b[K     |██████████████████████████████▊ | 61kB 28.3MB/s eta 0:00:01\r\u001b[K     |████████████████████████████████| 71kB 5.7MB/s \n",
            "\u001b[?25hRequirement already satisfied: IPython>=0.13; python_version >= \"3.7\" in /usr/local/lib/python3.7/dist-packages (from line_profiler) (5.5.0)\n",
            "Requirement already satisfied: pexpect; sys_platform != \"win32\" in /usr/local/lib/python3.7/dist-packages (from IPython>=0.13; python_version >= \"3.7\"->line_profiler) (4.8.0)\n",
            "Requirement already satisfied: simplegeneric>0.8 in /usr/local/lib/python3.7/dist-packages (from IPython>=0.13; python_version >= \"3.7\"->line_profiler) (0.8.1)\n",
            "Requirement already satisfied: prompt-toolkit<2.0.0,>=1.0.4 in /usr/local/lib/python3.7/dist-packages (from IPython>=0.13; python_version >= \"3.7\"->line_profiler) (1.0.18)\n",
            "Requirement already satisfied: traitlets>=4.2 in /usr/local/lib/python3.7/dist-packages (from IPython>=0.13; python_version >= \"3.7\"->line_profiler) (5.0.5)\n",
            "Requirement already satisfied: setuptools>=18.5 in /usr/local/lib/python3.7/dist-packages (from IPython>=0.13; python_version >= \"3.7\"->line_profiler) (56.0.0)\n",
            "Requirement already satisfied: pygments in /usr/local/lib/python3.7/dist-packages (from IPython>=0.13; python_version >= \"3.7\"->line_profiler) (2.6.1)\n",
            "Requirement already satisfied: decorator in /usr/local/lib/python3.7/dist-packages (from IPython>=0.13; python_version >= \"3.7\"->line_profiler) (4.4.2)\n",
            "Requirement already satisfied: pickleshare in /usr/local/lib/python3.7/dist-packages (from IPython>=0.13; python_version >= \"3.7\"->line_profiler) (0.7.5)\n",
            "Requirement already satisfied: ptyprocess>=0.5 in /usr/local/lib/python3.7/dist-packages (from pexpect; sys_platform != \"win32\"->IPython>=0.13; python_version >= \"3.7\"->line_profiler) (0.7.0)\n",
            "Requirement already satisfied: six>=1.9.0 in /usr/local/lib/python3.7/dist-packages (from prompt-toolkit<2.0.0,>=1.0.4->IPython>=0.13; python_version >= \"3.7\"->line_profiler) (1.15.0)\n",
            "Requirement already satisfied: wcwidth in /usr/local/lib/python3.7/dist-packages (from prompt-toolkit<2.0.0,>=1.0.4->IPython>=0.13; python_version >= \"3.7\"->line_profiler) (0.2.5)\n",
            "Requirement already satisfied: ipython-genutils in /usr/local/lib/python3.7/dist-packages (from traitlets>=4.2->IPython>=0.13; python_version >= \"3.7\"->line_profiler) (0.2.0)\n",
            "Installing collected packages: line-profiler\n",
            "Successfully installed line-profiler-3.2.1\n"
          ],
          "name": "stdout"
        }
      ]
    },
    {
      "cell_type": "code",
      "metadata": {
        "id": "Ft9Fgg0Yz23F"
      },
      "source": [
        "from line_profiler import LineProfiler\n",
        "\n",
        "profiler = LineProfiler()\n",
        "\n",
        "def profile(func):\n",
        "    def inner(*args, **kwargs):\n",
        "        profiler.add_function(func)\n",
        "        profiler.enable_by_count()\n",
        "        return func(*args, **kwargs)\n",
        "    return inner"
      ],
      "execution_count": 6,
      "outputs": []
    },
    {
      "cell_type": "code",
      "metadata": {
        "id": "B-aH1b4W2PG2"
      },
      "source": [
        "def print_stats():\n",
        "    profiler.print_stats()"
      ],
      "execution_count": 7,
      "outputs": []
    },
    {
      "cell_type": "code",
      "metadata": {
        "id": "dJw-IaS82tDE"
      },
      "source": [
        "@profile\n",
        "def a():\n",
        "    b=1\n",
        "    for i in range(100):\n",
        "        b+=i\n",
        "        time.sleep(1)\n",
        "    print_stats()\n",
        "    return b"
      ],
      "execution_count": 8,
      "outputs": []
    }
  ]
}