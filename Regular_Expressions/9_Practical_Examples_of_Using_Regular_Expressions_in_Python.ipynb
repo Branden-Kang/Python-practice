{
  "nbformat": 4,
  "nbformat_minor": 0,
  "metadata": {
    "colab": {
      "provenance": [],
      "authorship_tag": "ABX9TyNqb+1d4MOaZW/hRKyhTN6T"
    },
    "kernelspec": {
      "name": "python3",
      "display_name": "Python 3"
    },
    "language_info": {
      "name": "python"
    }
  },
  "cells": [
    {
      "cell_type": "markdown",
      "source": [
        "[Reference](https://medium.com/techtofreedom/9-practical-examples-of-using-regular-expressions-in-python-1b4f8da5cdab)"
      ],
      "metadata": {
        "id": "Gbi9sWgtQy0L"
      }
    },
    {
      "cell_type": "markdown",
      "source": [
        "# 1. Validating Email Addresses"
      ],
      "metadata": {
        "id": "X17MXnPpQ2n-"
      }
    },
    {
      "cell_type": "code",
      "execution_count": 1,
      "metadata": {
        "colab": {
          "base_uri": "https://localhost:8080/"
        },
        "id": "DsCD05AvQwlB",
        "outputId": "b44c5983-ff07-4d63-8e44-d17817fcef01"
      },
      "outputs": [
        {
          "output_type": "stream",
          "name": "stdout",
          "text": [
            "Valid email address:)\n",
            "Invalid email address!!\n",
            "Invalid email address!!\n"
          ]
        }
      ],
      "source": [
        "import re\n",
        "\n",
        "\n",
        "def val_email(email):\n",
        "    pattern = r\"^[a-zA-Z0-9]+@[a-zA-Z0-9]+\\.[a-zA-Z]{2,}$\"\n",
        "    if re.match(pattern, email):\n",
        "        print(\"Valid email address:)\")\n",
        "    else:\n",
        "        print(\"Invalid email address!!\")\n",
        "\n",
        "\n",
        "val_email(email=\"elon@example.com\")\n",
        "# Valid email address:)\n",
        "val_email(email=\"elonexample.com\")\n",
        "# Invalid email address!!\n",
        "val_email(email=\"elon@example.c\")\n",
        "# Invalid email address!!"
      ]
    },
    {
      "cell_type": "markdown",
      "source": [
        "# 2. Extracting Numbers from a String"
      ],
      "metadata": {
        "id": "6etsfX9YQ90m"
      }
    },
    {
      "cell_type": "code",
      "source": [
        "import re\n",
        "\n",
        "def extract_numbers(text):\n",
        "    pattern = r\"\\d+\"\n",
        "    return re.findall(pattern, text)\n",
        "\n",
        "print(extract_numbers(\"There are over 1000000 views of Yang's articles.\"))"
      ],
      "metadata": {
        "colab": {
          "base_uri": "https://localhost:8080/"
        },
        "id": "VrzUHwrdQ4kd",
        "outputId": "03b3453d-ebd7-491d-886a-457a43dd9c1f"
      },
      "execution_count": 2,
      "outputs": [
        {
          "output_type": "stream",
          "name": "stdout",
          "text": [
            "['1000000']\n"
          ]
        }
      ]
    },
    {
      "cell_type": "markdown",
      "source": [
        "# 3. Validating a Phone Number"
      ],
      "metadata": {
        "id": "d9PKCOCNRIPl"
      }
    },
    {
      "cell_type": "code",
      "source": [
        "import re\n",
        "\n",
        "def is_valid_phone_number(phone_number):\n",
        "    pattern = r\"^\\d{3}-\\d{3}-\\d{4}$\"\n",
        "    return bool(re.match(pattern, phone_number))\n",
        "\n",
        "print(is_valid_phone_number(\"123-456-7890\"))\n",
        "print(is_valid_phone_number(\"1234567890\")) "
      ],
      "metadata": {
        "colab": {
          "base_uri": "https://localhost:8080/"
        },
        "id": "9SBzJK_jRHQs",
        "outputId": "eb64bfad-acc2-4cbf-c2a8-79455c339e67"
      },
      "execution_count": 3,
      "outputs": [
        {
          "output_type": "stream",
          "name": "stdout",
          "text": [
            "True\n",
            "False\n"
          ]
        }
      ]
    },
    {
      "cell_type": "markdown",
      "source": [
        "# 4. Split a Text into Words"
      ],
      "metadata": {
        "id": "37puup51ROqA"
      }
    },
    {
      "cell_type": "code",
      "source": [
        "re.split(r'\\s+', 'a b   c')"
      ],
      "metadata": {
        "colab": {
          "base_uri": "https://localhost:8080/"
        },
        "id": "a7V1VkBYRQSm",
        "outputId": "2250cf47-fbb6-47a9-a077-ba0f6a611d07"
      },
      "execution_count": 4,
      "outputs": [
        {
          "output_type": "execute_result",
          "data": {
            "text/plain": [
              "['a', 'b', 'c']"
            ]
          },
          "metadata": {},
          "execution_count": 4
        }
      ]
    },
    {
      "cell_type": "code",
      "source": [
        "re.split(r'[\\s\\,]+', 'a,b, c  d')"
      ],
      "metadata": {
        "colab": {
          "base_uri": "https://localhost:8080/"
        },
        "id": "fxPT0dz3RLo1",
        "outputId": "7993452a-1aaa-43a1-f8cb-5e48ddf1c60d"
      },
      "execution_count": 5,
      "outputs": [
        {
          "output_type": "execute_result",
          "data": {
            "text/plain": [
              "['a', 'b', 'c', 'd']"
            ]
          },
          "metadata": {},
          "execution_count": 5
        }
      ]
    },
    {
      "cell_type": "code",
      "source": [
        "re.split(r'[\\s\\,\\;]+', 'a,b;; c  d')"
      ],
      "metadata": {
        "colab": {
          "base_uri": "https://localhost:8080/"
        },
        "id": "cZ7ZOdEmRSEr",
        "outputId": "640aa86e-fb4a-41c8-82da-b0093a6c85de"
      },
      "execution_count": 6,
      "outputs": [
        {
          "output_type": "execute_result",
          "data": {
            "text/plain": [
              "['a', 'b', 'c', 'd']"
            ]
          },
          "metadata": {},
          "execution_count": 6
        }
      ]
    },
    {
      "cell_type": "markdown",
      "source": [
        "# 5. Finding and Replacing Text with Regex"
      ],
      "metadata": {
        "id": "C3a4JC_RRTMF"
      }
    },
    {
      "cell_type": "code",
      "source": [
        "import re\n",
        "\n",
        "text = \"Yang is an full-stack software engineer.\"\n",
        "pattern = r\"[a-c]\"\n",
        "replacement = \"*\"\n",
        "\n",
        "new_text = re.sub(pattern, replacement, text)\n",
        "print(new_text)  "
      ],
      "metadata": {
        "colab": {
          "base_uri": "https://localhost:8080/"
        },
        "id": "-vyT9-zsRSQ5",
        "outputId": "ec052ad8-f1cf-4cf4-96df-58169398cfb6"
      },
      "execution_count": 7,
      "outputs": [
        {
          "output_type": "stream",
          "name": "stdout",
          "text": [
            "Y*ng is *n full-st**k softw*re engineer.\n"
          ]
        }
      ]
    },
    {
      "cell_type": "markdown",
      "source": [
        "# 6. Pre-Complie Regex in Python"
      ],
      "metadata": {
        "id": "xyV24cFKRV_X"
      }
    },
    {
      "cell_type": "code",
      "source": [
        "import re\n",
        "re_numbers = re.compile(r'^\\d+$')\n",
        "print(re_numbers.match('123'))\n",
        "print(re_numbers.match('Yang'))"
      ],
      "metadata": {
        "colab": {
          "base_uri": "https://localhost:8080/"
        },
        "id": "XWNcTDdMRU18",
        "outputId": "5ebedc89-dd1c-47ae-e1db-9c2f98ea33fd"
      },
      "execution_count": 8,
      "outputs": [
        {
          "output_type": "stream",
          "name": "stdout",
          "text": [
            "<re.Match object; span=(0, 3), match='123'>\n",
            "None\n"
          ]
        }
      ]
    },
    {
      "cell_type": "markdown",
      "source": [
        "# 7. Extracting and Manipulating Sub-Content of Text"
      ],
      "metadata": {
        "id": "GKRCaxFQRbHs"
      }
    },
    {
      "cell_type": "code",
      "source": [
        "import re\n",
        "\n",
        "time='18:05'\n",
        "\n",
        "matched = re.match(r'^(0[0-9]|1[0-9]|2[0-3])\\:(0[0-9]|1[0-9]|2[0-9]|3[0-9]|4[0-9]|5[0-9])$', time)\n",
        "\n",
        "print(matched.groups())\n",
        "print(matched.group())\n",
        "print(matched.group(0)) \n",
        "print(matched.group(1))\n",
        "print(matched.group(2))"
      ],
      "metadata": {
        "colab": {
          "base_uri": "https://localhost:8080/"
        },
        "id": "I-gyUoyqRYMO",
        "outputId": "8c10464c-86ea-447f-e920-3ff6899cffef"
      },
      "execution_count": 9,
      "outputs": [
        {
          "output_type": "stream",
          "name": "stdout",
          "text": [
            "('18', '05')\n",
            "18:05\n",
            "18:05\n",
            "18\n",
            "05\n"
          ]
        }
      ]
    },
    {
      "cell_type": "markdown",
      "source": [
        "# 8. Named Group for Extracting Sub-Content"
      ],
      "metadata": {
        "id": "XPqnoqZ8Rg0-"
      }
    },
    {
      "cell_type": "code",
      "source": [
        "import re\n",
        "\n",
        "text = \"Yang, age 30\"\n",
        "pattern = r\"(?P<name>\\w+),\\sage\\s(?P<age>\\d+)\"\n",
        "\n",
        "match = re.search(pattern, text)\n",
        "\n",
        "print(match.group(\"name\"))  \n",
        "print(match.group(\"age\"))   "
      ],
      "metadata": {
        "colab": {
          "base_uri": "https://localhost:8080/"
        },
        "id": "lCs3ClcJReta",
        "outputId": "1312f7b4-180f-46e3-9b43-2b972a3f12fb"
      },
      "execution_count": 10,
      "outputs": [
        {
          "output_type": "stream",
          "name": "stdout",
          "text": [
            "Yang\n",
            "30\n"
          ]
        }
      ]
    },
    {
      "cell_type": "markdown",
      "source": [
        "# 9. Using VERBOSE Flag to Make Regex Readable"
      ],
      "metadata": {
        "id": "76AVOyZyRlcX"
      }
    },
    {
      "cell_type": "code",
      "source": [
        "import re\n",
        "\n",
        "text = \"Yang, yang@example.com, 555-555-5555\"\n",
        "pattern = r\"\"\"\n",
        "    (?P<name>\\w+),\\s\n",
        "    (?P<email>\\w+@\\w+\\.\\w+),\\s\n",
        "    (?P<phone>\\d{3}-\\d{3}-\\d{4})\n",
        "\"\"\"\n",
        "\n",
        "match = re.search(pattern, text, re.VERBOSE)\n",
        "if match:\n",
        "    print(match.group(\"name\"))\n",
        "    print(match.group(\"email\"))\n",
        "    print(match.group(\"phone\"))"
      ],
      "metadata": {
        "colab": {
          "base_uri": "https://localhost:8080/"
        },
        "id": "-UiK8L2-Ri92",
        "outputId": "1456de39-debd-47ba-961d-720bedf6f46d"
      },
      "execution_count": 11,
      "outputs": [
        {
          "output_type": "stream",
          "name": "stdout",
          "text": [
            "Yang\n",
            "yang@example.com\n",
            "555-555-5555\n"
          ]
        }
      ]
    }
  ]
}
