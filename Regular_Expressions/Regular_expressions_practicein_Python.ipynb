{
  "nbformat": 4,
  "nbformat_minor": 0,
  "metadata": {
    "colab": {
      "name": "Regular expressions practicein Python.ipynb",
      "provenance": [],
      "authorship_tag": "ABX9TyMaxP2ShiRrfMUeT+23Jo6s"
    },
    "kernelspec": {
      "name": "python3",
      "display_name": "Python 3"
    }
  },
  "cells": [
    {
      "cell_type": "markdown",
      "metadata": {
        "id": "sILWiQSnl69K"
      },
      "source": [
        "[Reference](https://levelup.gitconnected.com/regular-expressions-in-python-60f4ee30d906)"
      ]
    },
    {
      "cell_type": "code",
      "metadata": {
        "id": "bLVKPxgrl43o"
      },
      "source": [
        "import re"
      ],
      "execution_count": 1,
      "outputs": []
    },
    {
      "cell_type": "code",
      "metadata": {
        "id": "0Ts4uukOmKVb"
      },
      "source": [
        "def re_find(patterns, phrase):\n",
        "    '''\n",
        "    Input: list of regex patterns\n",
        "    Output: list of matches\n",
        "    '''\n",
        "    for pattern in patterns:\n",
        "        print('Searching the phrase \"{}\"'.format(pattern))\n",
        "        print(re.findall(pattern, phrase))\n",
        "        print('\\n')"
      ],
      "execution_count": 7,
      "outputs": []
    },
    {
      "cell_type": "code",
      "metadata": {
        "id": "gWD3xk17l-pf"
      },
      "source": [
        "txt = 'Python is a #easy language and I am using it since 123 months'"
      ],
      "execution_count": 8,
      "outputs": []
    },
    {
      "cell_type": "code",
      "metadata": {
        "id": "cdhpXmNEmApQ"
      },
      "source": [
        "patterns = [r'\\d+', r'\\D+', r'\\s+', r'\\S+', r'\\w+', r'\\W+']"
      ],
      "execution_count": 9,
      "outputs": []
    },
    {
      "cell_type": "code",
      "metadata": {
        "colab": {
          "base_uri": "https://localhost:8080/"
        },
        "id": "n8TFyoQFmCBw",
        "outputId": "ba4843da-0516-476a-efe1-3f0ccba29212"
      },
      "source": [
        "re_find(patterns, txt)"
      ],
      "execution_count": 10,
      "outputs": [
        {
          "output_type": "stream",
          "text": [
            "Searching the phrase \"\\d+\"\n",
            "['123']\n",
            "\n",
            "\n",
            "Searching the phrase \"\\D+\"\n",
            "['Python is a #easy language and I am using it since ', ' months']\n",
            "\n",
            "\n",
            "Searching the phrase \"\\s+\"\n",
            "[' ', ' ', ' ', ' ', ' ', ' ', ' ', ' ', ' ', ' ', ' ', ' ']\n",
            "\n",
            "\n",
            "Searching the phrase \"\\S+\"\n",
            "['Python', 'is', 'a', '#easy', 'language', 'and', 'I', 'am', 'using', 'it', 'since', '123', 'months']\n",
            "\n",
            "\n",
            "Searching the phrase \"\\w+\"\n",
            "['Python', 'is', 'a', 'easy', 'language', 'and', 'I', 'am', 'using', 'it', 'since', '123', 'months']\n",
            "\n",
            "\n",
            "Searching the phrase \"\\W+\"\n",
            "[' ', ' ', ' #', ' ', ' ', ' ', ' ', ' ', ' ', ' ', ' ', ' ']\n",
            "\n",
            "\n"
          ],
          "name": "stdout"
        }
      ]
    },
    {
      "cell_type": "code",
      "metadata": {
        "colab": {
          "base_uri": "https://localhost:8080/"
        },
        "id": "CrPsgOv5mCrO",
        "outputId": "0d1cbd68-7d78-49f1-ea00-e6696459831e"
      },
      "source": [
        "txt = 'Hey. I love coding in python. It is fun and easy.'\n",
        "patterns = ['[a-z]+', '[A-Z]+',\n",
        "           '[a-zA-Z]+',    # lower or upper case\n",
        "           '[A-Z][a-z]+']  # one upper followed by lower case\n",
        "re_find(patterns, txt)"
      ],
      "execution_count": 11,
      "outputs": [
        {
          "output_type": "stream",
          "text": [
            "Searching the phrase \"[a-z]+\"\n",
            "['ey', 'love', 'coding', 'in', 'python', 't', 'is', 'fun', 'and', 'easy']\n",
            "\n",
            "\n",
            "Searching the phrase \"[A-Z]+\"\n",
            "['H', 'I', 'I']\n",
            "\n",
            "\n",
            "Searching the phrase \"[a-zA-Z]+\"\n",
            "['Hey', 'I', 'love', 'coding', 'in', 'python', 'It', 'is', 'fun', 'and', 'easy']\n",
            "\n",
            "\n",
            "Searching the phrase \"[A-Z][a-z]+\"\n",
            "['Hey', 'It']\n",
            "\n",
            "\n"
          ],
          "name": "stdout"
        }
      ]
    },
    {
      "cell_type": "code",
      "metadata": {
        "colab": {
          "base_uri": "https://localhost:8080/"
        },
        "id": "wqSIp8lImVcr",
        "outputId": "03ef5ecf-e2be-4f3b-9df2-5bf361a55a13"
      },
      "source": [
        "txt = 'jdjd..jjjddd...jdddjddd...djdj...djjjjj...jdddd'\n",
        "patterns = ['[jd]',\n",
        "            'j[jd]+']  # j followed by one or more j or d\n",
        "re_find(patterns,txt)"
      ],
      "execution_count": 12,
      "outputs": [
        {
          "output_type": "stream",
          "text": [
            "Searching the phrase \"[jd]\"\n",
            "['j', 'd', 'j', 'd', 'j', 'j', 'j', 'd', 'd', 'd', 'j', 'd', 'd', 'd', 'j', 'd', 'd', 'd', 'd', 'j', 'd', 'j', 'd', 'j', 'j', 'j', 'j', 'j', 'j', 'd', 'd', 'd', 'd']\n",
            "\n",
            "\n",
            "Searching the phrase \"j[jd]+\"\n",
            "['jdjd', 'jjjddd', 'jdddjddd', 'jdj', 'jjjjj', 'jdddd']\n",
            "\n",
            "\n"
          ],
          "name": "stdout"
        }
      ]
    }
  ]
}