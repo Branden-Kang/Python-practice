{
  "nbformat": 4,
  "nbformat_minor": 0,
  "metadata": {
    "colab": {
      "provenance": [],
      "authorship_tag": "ABX9TyMO+mIREjPmPHpz5TuOPqx4"
    },
    "kernelspec": {
      "name": "python3",
      "display_name": "Python 3"
    },
    "language_info": {
      "name": "python"
    }
  },
  "cells": [
    {
      "cell_type": "markdown",
      "source": [
        "[Reference](https://medium.com/@siglimumuni/regular-expressions-in-python-advanced-applications-62e86fe048a0)"
      ],
      "metadata": {
        "id": "EmL_GcYUTYQZ"
      }
    },
    {
      "cell_type": "code",
      "execution_count": 2,
      "metadata": {
        "colab": {
          "base_uri": "https://localhost:8080/"
        },
        "id": "C80_GSl2TNgj",
        "outputId": "f6fe3c1a-4170-4df3-9287-b15a69974943"
      },
      "outputs": [
        {
          "output_type": "execute_result",
          "data": {
            "text/plain": [
              "['www.ourcompany.com']"
            ]
          },
          "metadata": {},
          "execution_count": 2
        }
      ],
      "source": [
        "import re\n",
        "\n",
        "text = \"Visit our website at www.ourcompany.com for more information\"\n",
        "\n",
        "re.findall(r\"www\\.[a-z]+\\.com\",text)"
      ]
    },
    {
      "cell_type": "code",
      "source": [
        "#grouping with ()\n",
        "text = \"Visit our website at www.ourcompany.com for more information\"\n",
        "\n",
        "re.findall(r\"(www)\\.([a-z]+)\\.(com)\",text)"
      ],
      "metadata": {
        "colab": {
          "base_uri": "https://localhost:8080/"
        },
        "id": "0iwToRmvTvG_",
        "outputId": "b510e8d6-ebf2-4c7f-ec84-439718ebba1f"
      },
      "execution_count": 3,
      "outputs": [
        {
          "output_type": "execute_result",
          "data": {
            "text/plain": [
              "[('www', 'ourcompany', 'com')]"
            ]
          },
          "metadata": {},
          "execution_count": 3
        }
      ]
    },
    {
      "cell_type": "code",
      "source": [
        "#excluding elements from a grouping with ?:\n",
        "text = \"Visit our website at www.ourcompany.com for more information\"\n",
        "\n",
        "re.findall(r\"(?:www)\\.([a-z]+)\\.(com)\",text)"
      ],
      "metadata": {
        "colab": {
          "base_uri": "https://localhost:8080/"
        },
        "id": "7DKX9Sh3TzBM",
        "outputId": "7b145a0a-b4f2-42d8-bc0b-45c5b631f834"
      },
      "execution_count": 4,
      "outputs": [
        {
          "output_type": "execute_result",
          "data": {
            "text/plain": [
              "[('ourcompany', 'com')]"
            ]
          },
          "metadata": {},
          "execution_count": 4
        }
      ]
    },
    {
      "cell_type": "code",
      "source": [
        "#backreferencing elements from a grouping\n",
        "text = \"John Edwards and Larry Davis are neighbours\"\n",
        "\n",
        "re.findall(r\"([A-Z]\\w+)\\s([A-Z]\\w+)\",text)"
      ],
      "metadata": {
        "colab": {
          "base_uri": "https://localhost:8080/"
        },
        "id": "QN72DHLfT0sa",
        "outputId": "cba574cc-9dfb-4661-81dc-d29e0a6885d4"
      },
      "execution_count": 5,
      "outputs": [
        {
          "output_type": "execute_result",
          "data": {
            "text/plain": [
              "[('John', 'Edwards'), ('Larry', 'Davis')]"
            ]
          },
          "metadata": {},
          "execution_count": 5
        }
      ]
    },
    {
      "cell_type": "code",
      "source": [
        "#backreferencing elements from a grouping\n",
        "text = \"John Edwards and Larry Davis are neighbours\"\n",
        "\n",
        "re.sub(r\"([A-Z]\\w+)\\s([A-Z]\\w+)\",  repl=\"Mr. \\\\2\", string=text)"
      ],
      "metadata": {
        "colab": {
          "base_uri": "https://localhost:8080/",
          "height": 35
        },
        "id": "G3DuZmp3T34a",
        "outputId": "fa88dbfd-a94f-4080-f40b-498dbacdd192"
      },
      "execution_count": 6,
      "outputs": [
        {
          "output_type": "execute_result",
          "data": {
            "text/plain": [
              "'Mr. Edwards and Mr. Davis are neighbours'"
            ],
            "application/vnd.google.colaboratory.intrinsic+json": {
              "type": "string"
            }
          },
          "metadata": {},
          "execution_count": 6
        }
      ]
    },
    {
      "cell_type": "code",
      "source": [
        "#positive lookahead with ?=\n",
        "text = \"Amanda:Female,Gerrard:Male,Lindsay:Female,Gianne:Female,Mike:Male\"\n",
        "\n",
        "re.findall(r\"([A-Z]\\w+):(?=Female)\",text)"
      ],
      "metadata": {
        "colab": {
          "base_uri": "https://localhost:8080/"
        },
        "id": "0At5lTF3T6v9",
        "outputId": "2def27b7-b8d0-4b38-bc85-6612957cc9c4"
      },
      "execution_count": 7,
      "outputs": [
        {
          "output_type": "execute_result",
          "data": {
            "text/plain": [
              "['Amanda', 'Lindsay', 'Gianne']"
            ]
          },
          "metadata": {},
          "execution_count": 7
        }
      ]
    },
    {
      "cell_type": "code",
      "source": [
        "#negative lookahead with ?!\n",
        "text = \"Amanda:Female,Gerrard:Male,Lindsay:Female,Gianne:Female,Mike:Male\"\n",
        "\n",
        "re.findall(r\"([A-Z]\\w+):(?!Female)\",text)"
      ],
      "metadata": {
        "colab": {
          "base_uri": "https://localhost:8080/"
        },
        "id": "ZdEsn5ywT8NT",
        "outputId": "b4c99f4f-bcc7-4019-d284-a68a0e96e4c3"
      },
      "execution_count": 8,
      "outputs": [
        {
          "output_type": "execute_result",
          "data": {
            "text/plain": [
              "['Gerrard', 'Mike']"
            ]
          },
          "metadata": {},
          "execution_count": 8
        }
      ]
    },
    {
      "cell_type": "code",
      "source": [
        "#positive lookbehind with ?<=\n",
        "text = \"fruits={apple,banana,orange} animals={dog,cat,rabbit} colors={blue,yellow,green}\"\n",
        "\n",
        "re.findall(r\"(?<=colors)=({[\\w,]+})\",text)"
      ],
      "metadata": {
        "colab": {
          "base_uri": "https://localhost:8080/"
        },
        "id": "-wXSkfqcT9Rf",
        "outputId": "30213848-35ea-4f1f-9a27-476314377d35"
      },
      "execution_count": 9,
      "outputs": [
        {
          "output_type": "execute_result",
          "data": {
            "text/plain": [
              "['{blue,yellow,green}']"
            ]
          },
          "metadata": {},
          "execution_count": 9
        }
      ]
    },
    {
      "cell_type": "code",
      "source": [
        "#negative lookbehind with ?<!\n",
        "text = \"fruits={apple,banana,orange} animals={dog,cat,rabbit} colors={blue,yellow,green}\"\n",
        "\n",
        "re.findall(r\"(?<!colors)=({[\\w,]+})\",text)"
      ],
      "metadata": {
        "colab": {
          "base_uri": "https://localhost:8080/"
        },
        "id": "u5e4aiTVT-gh",
        "outputId": "f94fa08f-a1c0-4db9-99b5-eb3940563f7e"
      },
      "execution_count": 10,
      "outputs": [
        {
          "output_type": "execute_result",
          "data": {
            "text/plain": [
              "['{apple,banana,orange}', '{dog,cat,rabbit}']"
            ]
          },
          "metadata": {},
          "execution_count": 10
        }
      ]
    }
  ]
}
