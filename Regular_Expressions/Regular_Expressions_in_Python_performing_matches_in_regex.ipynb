{
  "nbformat": 4,
  "nbformat_minor": 0,
  "metadata": {
    "colab": {
      "name": "Regular Expressions in Python- performing matches in regex.ipynb",
      "provenance": [],
      "authorship_tag": "ABX9TyPAH7Cl5hHizVVPMZj3R/sq"
    },
    "kernelspec": {
      "name": "python3",
      "display_name": "Python 3"
    },
    "language_info": {
      "name": "python"
    }
  },
  "cells": [
    {
      "cell_type": "markdown",
      "metadata": {
        "id": "AOdbitNeiNtw"
      },
      "source": [
        "[Reference](https://gaurav-patil21.medium.com/tutorial-6-regular-expressions-in-python-performing-matches-in-regex-6bc0b780799a)"
      ]
    },
    {
      "cell_type": "code",
      "metadata": {
        "colab": {
          "base_uri": "https://localhost:8080/"
        },
        "id": "WvzSva0OiL12",
        "outputId": "81df551f-4330-4952-c73c-2e626a5d674b"
      },
      "source": [
        "import re\n",
        "\n",
        "text = 'this is 6th tutorial'\n",
        "regex = re.compile(r'[a-z]+')\n",
        "print(regex.match(text))"
      ],
      "execution_count": 1,
      "outputs": [
        {
          "output_type": "stream",
          "name": "stdout",
          "text": [
            "<re.Match object; span=(0, 4), match='this'>\n"
          ]
        }
      ]
    },
    {
      "cell_type": "code",
      "metadata": {
        "colab": {
          "base_uri": "https://localhost:8080/"
        },
        "id": "2Ow9SO_uicjF",
        "outputId": "429216b7-a789-4156-db78-2ac7f701f423"
      },
      "source": [
        "import re\n",
        "\n",
        "text = '6th tutorial starts here'\n",
        "regex = re.compile(r'[a-z]+')\n",
        "print(regex.match(text))"
      ],
      "execution_count": 2,
      "outputs": [
        {
          "output_type": "stream",
          "name": "stdout",
          "text": [
            "None\n"
          ]
        }
      ]
    },
    {
      "cell_type": "code",
      "metadata": {
        "colab": {
          "base_uri": "https://localhost:8080/"
        },
        "id": "x-58JSDbifUY",
        "outputId": "36fca97c-ec43-44f1-9af4-d492f6f8e9e7"
      },
      "source": [
        "import re\n",
        "\n",
        "text = 'this is 6th tutorial'\n",
        "regex = re.compile(r'[a-z]+')\n",
        "print(regex.search(text))\n",
        "\n",
        "text = '6th tutorial starts here'\n",
        "regex = re.compile(r'[a-z]+')\n",
        "print(regex.search(text))"
      ],
      "execution_count": 3,
      "outputs": [
        {
          "output_type": "stream",
          "name": "stdout",
          "text": [
            "<re.Match object; span=(0, 4), match='this'>\n",
            "<re.Match object; span=(1, 3), match='th'>\n"
          ]
        }
      ]
    },
    {
      "cell_type": "code",
      "metadata": {
        "colab": {
          "base_uri": "https://localhost:8080/"
        },
        "id": "yiAb0Kh2in0b",
        "outputId": "a3e95888-0a9d-4486-ce27-c71a650aaa16"
      },
      "source": [
        "text = 'sixth tutorial starts here'\n",
        "regex = re.compile(r'[0-9]+')\n",
        "print(regex.search(text))"
      ],
      "execution_count": 4,
      "outputs": [
        {
          "output_type": "stream",
          "name": "stdout",
          "text": [
            "None\n"
          ]
        }
      ]
    },
    {
      "cell_type": "code",
      "metadata": {
        "colab": {
          "base_uri": "https://localhost:8080/"
        },
        "id": "XRMDEWPIivBo",
        "outputId": "5b05fcdf-5737-4ad8-db5b-6e3daa374e64"
      },
      "source": [
        "text = 'sixth tutorial starts here'\n",
        "regex = re.compile(r'[a-z]+')\n",
        "print(regex.finditer(text))"
      ],
      "execution_count": 5,
      "outputs": [
        {
          "output_type": "stream",
          "name": "stdout",
          "text": [
            "<callable_iterator object at 0x7ff0ae868710>\n"
          ]
        }
      ]
    },
    {
      "cell_type": "code",
      "metadata": {
        "id": "BNcgtVO8i3oP"
      },
      "source": [
        "iter_object = regex.finditer(text)"
      ],
      "execution_count": 6,
      "outputs": []
    },
    {
      "cell_type": "code",
      "metadata": {
        "colab": {
          "base_uri": "https://localhost:8080/"
        },
        "id": "EsRDccGEi6Yv",
        "outputId": "54468cec-33c2-4093-aec5-e0efcdc4e878"
      },
      "source": [
        "for x in regex.finditer(text):\n",
        "    print(x)"
      ],
      "execution_count": 7,
      "outputs": [
        {
          "output_type": "stream",
          "name": "stdout",
          "text": [
            "<re.Match object; span=(0, 5), match='sixth'>\n",
            "<re.Match object; span=(6, 14), match='tutorial'>\n",
            "<re.Match object; span=(15, 21), match='starts'>\n",
            "<re.Match object; span=(22, 26), match='here'>\n"
          ]
        }
      ]
    },
    {
      "cell_type": "code",
      "metadata": {
        "id": "9YBZ0LN9i9kU"
      },
      "source": [
        "import re\n",
        "\n",
        "text = 'this is 6th tutorial'\n",
        "regex = re.compile(r'[a-z]+')\n",
        "matching_string = regex.match(text)"
      ],
      "execution_count": 8,
      "outputs": []
    },
    {
      "cell_type": "code",
      "metadata": {
        "colab": {
          "base_uri": "https://localhost:8080/",
          "height": 37
        },
        "id": "wBbAxzsPjE5X",
        "outputId": "54d5dbda-4460-423f-b66b-6fdbc325083c"
      },
      "source": [
        "matching_string.group()"
      ],
      "execution_count": 9,
      "outputs": [
        {
          "output_type": "execute_result",
          "data": {
            "application/vnd.google.colaboratory.intrinsic+json": {
              "type": "string"
            },
            "text/plain": [
              "'this'"
            ]
          },
          "metadata": {},
          "execution_count": 9
        }
      ]
    },
    {
      "cell_type": "code",
      "metadata": {
        "colab": {
          "base_uri": "https://localhost:8080/"
        },
        "id": "Wj3gWSLajGEq",
        "outputId": "5b66dc5e-5a30-403e-dac4-55772e3fc65b"
      },
      "source": [
        "matching_string.start()"
      ],
      "execution_count": 10,
      "outputs": [
        {
          "output_type": "execute_result",
          "data": {
            "text/plain": [
              "0"
            ]
          },
          "metadata": {},
          "execution_count": 10
        }
      ]
    },
    {
      "cell_type": "code",
      "metadata": {
        "colab": {
          "base_uri": "https://localhost:8080/"
        },
        "id": "mc-f2DadjHKl",
        "outputId": "f6a9544d-6f49-4b2f-f005-6bcd5e9eed2a"
      },
      "source": [
        "matching_string.end()"
      ],
      "execution_count": 11,
      "outputs": [
        {
          "output_type": "execute_result",
          "data": {
            "text/plain": [
              "4"
            ]
          },
          "metadata": {},
          "execution_count": 11
        }
      ]
    },
    {
      "cell_type": "code",
      "metadata": {
        "colab": {
          "base_uri": "https://localhost:8080/"
        },
        "id": "ZCnL1lQIjITW",
        "outputId": "0ff98530-c503-4e5c-f6af-bb48128d2e84"
      },
      "source": [
        "matching_string.span()"
      ],
      "execution_count": 12,
      "outputs": [
        {
          "output_type": "execute_result",
          "data": {
            "text/plain": [
              "(0, 4)"
            ]
          },
          "metadata": {},
          "execution_count": 12
        }
      ]
    },
    {
      "cell_type": "code",
      "metadata": {
        "id": "keaY6MsRjJn4"
      },
      "source": [
        "import re\n",
        "\n",
        "text = '6th tutorial starts here'\n",
        "regex = re.compile(r'[a-z]+')\n",
        "matching_string = regex.search(text)"
      ],
      "execution_count": 14,
      "outputs": []
    },
    {
      "cell_type": "code",
      "metadata": {
        "colab": {
          "base_uri": "https://localhost:8080/",
          "height": 37
        },
        "id": "jv_xqkAYjSZo",
        "outputId": "eaf5a3db-5203-41c5-8ff1-61f5f9197da2"
      },
      "source": [
        "matching_string.group()"
      ],
      "execution_count": 15,
      "outputs": [
        {
          "output_type": "execute_result",
          "data": {
            "application/vnd.google.colaboratory.intrinsic+json": {
              "type": "string"
            },
            "text/plain": [
              "'th'"
            ]
          },
          "metadata": {},
          "execution_count": 15
        }
      ]
    },
    {
      "cell_type": "code",
      "metadata": {
        "colab": {
          "base_uri": "https://localhost:8080/"
        },
        "id": "Pr9QKCLrjNER",
        "outputId": "ac6b49ce-cce3-4a9a-c0b0-e1ccf3b823be"
      },
      "source": [
        "matching_string.start()"
      ],
      "execution_count": 16,
      "outputs": [
        {
          "output_type": "execute_result",
          "data": {
            "text/plain": [
              "1"
            ]
          },
          "metadata": {},
          "execution_count": 16
        }
      ]
    },
    {
      "cell_type": "code",
      "metadata": {
        "colab": {
          "base_uri": "https://localhost:8080/"
        },
        "id": "-SKagsLHjOA1",
        "outputId": "170d1cb4-00ee-4445-9909-9012e71d25aa"
      },
      "source": [
        "matching_string.end()"
      ],
      "execution_count": 17,
      "outputs": [
        {
          "output_type": "execute_result",
          "data": {
            "text/plain": [
              "3"
            ]
          },
          "metadata": {},
          "execution_count": 17
        }
      ]
    },
    {
      "cell_type": "code",
      "metadata": {
        "colab": {
          "base_uri": "https://localhost:8080/"
        },
        "id": "WOtC7QHSjOq2",
        "outputId": "09f968a0-179f-41cc-dbfd-0b075c6e5dd3"
      },
      "source": [
        "matching_string.span()"
      ],
      "execution_count": 18,
      "outputs": [
        {
          "output_type": "execute_result",
          "data": {
            "text/plain": [
              "(1, 3)"
            ]
          },
          "metadata": {},
          "execution_count": 18
        }
      ]
    },
    {
      "cell_type": "code",
      "metadata": {
        "id": "o9eyHCLfjT7f"
      },
      "source": [
        "import re\n",
        "\n",
        "text = '6th tutorial starts here'\n",
        "regex = re.compile(r'[a-z]+')\n",
        "matching_string = regex.findall(text)"
      ],
      "execution_count": 19,
      "outputs": []
    },
    {
      "cell_type": "code",
      "metadata": {
        "colab": {
          "base_uri": "https://localhost:8080/",
          "height": 198
        },
        "id": "YFgtj_xJjX5m",
        "outputId": "4a9efdad-af1f-49e2-b5bf-64655941e0a1"
      },
      "source": [
        "matching_string.group()"
      ],
      "execution_count": 20,
      "outputs": [
        {
          "output_type": "error",
          "ename": "AttributeError",
          "evalue": "ignored",
          "traceback": [
            "\u001b[0;31m---------------------------------------------------------------------------\u001b[0m",
            "\u001b[0;31mAttributeError\u001b[0m                            Traceback (most recent call last)",
            "\u001b[0;32m<ipython-input-20-8c3c4ef69525>\u001b[0m in \u001b[0;36m<module>\u001b[0;34m()\u001b[0m\n\u001b[0;32m----> 1\u001b[0;31m \u001b[0mmatching_string\u001b[0m\u001b[0;34m.\u001b[0m\u001b[0mgroup\u001b[0m\u001b[0;34m(\u001b[0m\u001b[0;34m)\u001b[0m\u001b[0;34m\u001b[0m\u001b[0;34m\u001b[0m\u001b[0m\n\u001b[0m",
            "\u001b[0;31mAttributeError\u001b[0m: 'list' object has no attribute 'group'"
          ]
        }
      ]
    },
    {
      "cell_type": "code",
      "metadata": {
        "id": "sDWSouROjYKy"
      },
      "source": [
        "import re\n",
        "\n",
        "text = '6th tutorial starts here'\n",
        "regex = re.compile(r'[a-z]+')\n",
        "matching_string = regex.finditer(text)"
      ],
      "execution_count": 21,
      "outputs": []
    },
    {
      "cell_type": "code",
      "metadata": {
        "colab": {
          "base_uri": "https://localhost:8080/",
          "height": 198
        },
        "id": "bXmXg8JljZHx",
        "outputId": "ed831eca-3e27-41b1-f2d9-05ba1aa351b8"
      },
      "source": [
        "matching_string.group()"
      ],
      "execution_count": 22,
      "outputs": [
        {
          "output_type": "error",
          "ename": "AttributeError",
          "evalue": "ignored",
          "traceback": [
            "\u001b[0;31m---------------------------------------------------------------------------\u001b[0m",
            "\u001b[0;31mAttributeError\u001b[0m                            Traceback (most recent call last)",
            "\u001b[0;32m<ipython-input-22-8c3c4ef69525>\u001b[0m in \u001b[0;36m<module>\u001b[0;34m()\u001b[0m\n\u001b[0;32m----> 1\u001b[0;31m \u001b[0mmatching_string\u001b[0m\u001b[0;34m.\u001b[0m\u001b[0mgroup\u001b[0m\u001b[0;34m(\u001b[0m\u001b[0;34m)\u001b[0m\u001b[0;34m\u001b[0m\u001b[0;34m\u001b[0m\u001b[0m\n\u001b[0m",
            "\u001b[0;31mAttributeError\u001b[0m: 'callable_iterator' object has no attribute 'group'"
          ]
        }
      ]
    }
  ]
}