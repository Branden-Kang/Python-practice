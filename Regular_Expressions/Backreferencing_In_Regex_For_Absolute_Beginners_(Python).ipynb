{
  "nbformat": 4,
  "nbformat_minor": 0,
  "metadata": {
    "colab": {
      "provenance": [],
      "authorship_tag": "ABX9TyP+TI792veeoTsxc+X6ftqq"
    },
    "kernelspec": {
      "name": "python3",
      "display_name": "Python 3"
    },
    "language_info": {
      "name": "python"
    }
  },
  "cells": [
    {
      "cell_type": "markdown",
      "source": [
        "[Reference](https://levelup.gitconnected.com/backreferencing-in-regex-for-absolute-beginners-python-8d4bfff1ba57)"
      ],
      "metadata": {
        "id": "kxGeQrF51-6R"
      }
    },
    {
      "cell_type": "code",
      "source": [
        "import re\n",
        "\n",
        "words = ['apple', 'orange', 'pear', 'happy', 'sad']\n",
        "\n",
        "regex = r'.*([a-zA-Z])\\1.*'\n",
        "\n",
        "matches = [w for w in words if re.match(regex, w)]\n",
        "\n",
        "print(matches)"
      ],
      "metadata": {
        "id": "yBqpIoIP2B_p",
        "outputId": "a8314c12-8d0b-45d4-d53b-303d92b9cf95",
        "colab": {
          "base_uri": "https://localhost:8080/"
        }
      },
      "execution_count": 1,
      "outputs": [
        {
          "output_type": "stream",
          "name": "stdout",
          "text": [
            "['apple', 'happy']\n"
          ]
        }
      ]
    }
  ]
}
