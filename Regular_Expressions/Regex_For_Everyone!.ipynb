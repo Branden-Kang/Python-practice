{
  "nbformat": 4,
  "nbformat_minor": 0,
  "metadata": {
    "colab": {
      "name": "Regex For Everyone!.ipynb",
      "provenance": [],
      "authorship_tag": "ABX9TyPdl5pZMysuhyLGNv25KOQa"
    },
    "kernelspec": {
      "name": "python3",
      "display_name": "Python 3"
    },
    "language_info": {
      "name": "python"
    }
  },
  "cells": [
    {
      "cell_type": "markdown",
      "metadata": {
        "id": "cgIevgqnwigF"
      },
      "source": [
        "[Reference](https://python.plainenglish.io/regex-for-everyone-part-1-6f10ed4ff5c8)"
      ]
    },
    {
      "cell_type": "code",
      "metadata": {
        "id": "ME3hK99fq3Ps"
      },
      "source": [
        "import re"
      ],
      "execution_count": 1,
      "outputs": []
    },
    {
      "cell_type": "code",
      "metadata": {
        "colab": {
          "base_uri": "https://localhost:8080/"
        },
        "id": "hrkyipd7xQti",
        "outputId": "2bfac460-c9bc-4cc7-f2be-0eb5e7d09691"
      },
      "source": [
        "re.search(\"a\", \"apple\")"
      ],
      "execution_count": 2,
      "outputs": [
        {
          "output_type": "execute_result",
          "data": {
            "text/plain": [
              "<re.Match object; span=(0, 1), match='a'>"
            ]
          },
          "metadata": {
            "tags": []
          },
          "execution_count": 2
        }
      ]
    },
    {
      "cell_type": "code",
      "metadata": {
        "colab": {
          "base_uri": "https://localhost:8080/"
        },
        "id": "kEbu7dsSyES6",
        "outputId": "568299e1-efc5-4ff4-9634-290a54f5a742"
      },
      "source": [
        "re.search(\"apple\", \"I like apple, apples are tasty\")"
      ],
      "execution_count": 3,
      "outputs": [
        {
          "output_type": "execute_result",
          "data": {
            "text/plain": [
              "<re.Match object; span=(7, 12), match='apple'>"
            ]
          },
          "metadata": {
            "tags": []
          },
          "execution_count": 3
        }
      ]
    },
    {
      "cell_type": "code",
      "metadata": {
        "id": "2aKeqalayL11"
      },
      "source": [
        "re.search(\"batman\", \"I like apple\")"
      ],
      "execution_count": 4,
      "outputs": []
    },
    {
      "cell_type": "code",
      "metadata": {
        "id": "4pdibvfbyrMJ"
      },
      "source": [
        "re.search(\"a\", \"APPLE\")"
      ],
      "execution_count": 5,
      "outputs": []
    },
    {
      "cell_type": "code",
      "metadata": {
        "colab": {
          "base_uri": "https://localhost:8080/"
        },
        "id": "irTiRaDzyuwW",
        "outputId": "01f6267c-38cb-46d0-ba2d-c70cfc3d7e99"
      },
      "source": [
        "re.search(\"A\", \"APPLE\")"
      ],
      "execution_count": 6,
      "outputs": [
        {
          "output_type": "execute_result",
          "data": {
            "text/plain": [
              "<re.Match object; span=(0, 1), match='A'>"
            ]
          },
          "metadata": {
            "tags": []
          },
          "execution_count": 6
        }
      ]
    },
    {
      "cell_type": "code",
      "metadata": {
        "id": "iku3l2ocyyYi"
      },
      "source": [
        "re.search(\"A\",\"apple\")"
      ],
      "execution_count": 8,
      "outputs": []
    },
    {
      "cell_type": "code",
      "metadata": {
        "colab": {
          "base_uri": "https://localhost:8080/"
        },
        "id": "vXYJ3S-Py4vC",
        "outputId": "aef4f735-6762-4e8d-9209-fbcf2bd1a110"
      },
      "source": [
        "re.search(\"[Aa]\", \"APPLE\")"
      ],
      "execution_count": 9,
      "outputs": [
        {
          "output_type": "execute_result",
          "data": {
            "text/plain": [
              "<re.Match object; span=(0, 1), match='A'>"
            ]
          },
          "metadata": {
            "tags": []
          },
          "execution_count": 9
        }
      ]
    },
    {
      "cell_type": "code",
      "metadata": {
        "colab": {
          "base_uri": "https://localhost:8080/"
        },
        "id": "4F6gRSpgy-Cy",
        "outputId": "b9f8afac-99e0-47da-fc9b-9844185a9aea"
      },
      "source": [
        "re.search(\"[Aa]\", \"apple\")"
      ],
      "execution_count": 10,
      "outputs": [
        {
          "output_type": "execute_result",
          "data": {
            "text/plain": [
              "<re.Match object; span=(0, 1), match='a'>"
            ]
          },
          "metadata": {
            "tags": []
          },
          "execution_count": 10
        }
      ]
    },
    {
      "cell_type": "code",
      "metadata": {
        "colab": {
          "base_uri": "https://localhost:8080/"
        },
        "id": "OgDkM-CpzAWn",
        "outputId": "adc2c7c2-d9d5-4284-e607-5a71f2eb3dc3"
      },
      "source": [
        "re.search(\"[apple|Apple]\", \"I like apple\")"
      ],
      "execution_count": 11,
      "outputs": [
        {
          "output_type": "execute_result",
          "data": {
            "text/plain": [
              "<re.Match object; span=(2, 3), match='l'>"
            ]
          },
          "metadata": {
            "tags": []
          },
          "execution_count": 11
        }
      ]
    },
    {
      "cell_type": "code",
      "metadata": {
        "colab": {
          "base_uri": "https://localhost:8080/"
        },
        "id": "lKBVTO1VzDQb",
        "outputId": "108d8e41-6a38-4601-ee6b-9e5b521d6e28"
      },
      "source": [
        "re.search(\"(apple|APPLE)\", \"I like apple\")"
      ],
      "execution_count": 12,
      "outputs": [
        {
          "output_type": "execute_result",
          "data": {
            "text/plain": [
              "<re.Match object; span=(7, 12), match='apple'>"
            ]
          },
          "metadata": {
            "tags": []
          },
          "execution_count": 12
        }
      ]
    },
    {
      "cell_type": "code",
      "metadata": {
        "colab": {
          "base_uri": "https://localhost:8080/"
        },
        "id": "1Qjjxe7UzQ7x",
        "outputId": "31432767-cdfa-4092-9a70-42ea503742b0"
      },
      "source": [
        "re.search(\"(apple|APPLE)\", \"GIVE ME APPLES\")"
      ],
      "execution_count": 13,
      "outputs": [
        {
          "output_type": "execute_result",
          "data": {
            "text/plain": [
              "<re.Match object; span=(8, 13), match='APPLE'>"
            ]
          },
          "metadata": {
            "tags": []
          },
          "execution_count": 13
        }
      ]
    },
    {
      "cell_type": "code",
      "metadata": {
        "colab": {
          "base_uri": "https://localhost:8080/"
        },
        "id": "OFpcxhhuzWk4",
        "outputId": "2308d73d-1edf-46ea-8c49-64efb7c6c503"
      },
      "source": [
        "re.search(\"Apple\", \"I like apple\", re.I)"
      ],
      "execution_count": 14,
      "outputs": [
        {
          "output_type": "execute_result",
          "data": {
            "text/plain": [
              "<re.Match object; span=(7, 12), match='apple'>"
            ]
          },
          "metadata": {
            "tags": []
          },
          "execution_count": 14
        }
      ]
    },
    {
      "cell_type": "code",
      "metadata": {
        "colab": {
          "base_uri": "https://localhost:8080/"
        },
        "id": "5u0TBgRzzhfW",
        "outputId": "aa026985-a525-4bc7-b09a-1b4bf78fe0d2"
      },
      "source": [
        "re.search(\"11\", \"I have 11 apple\")"
      ],
      "execution_count": 15,
      "outputs": [
        {
          "output_type": "execute_result",
          "data": {
            "text/plain": [
              "<re.Match object; span=(7, 9), match='11'>"
            ]
          },
          "metadata": {
            "tags": []
          },
          "execution_count": 15
        }
      ]
    },
    {
      "cell_type": "code",
      "metadata": {
        "colab": {
          "base_uri": "https://localhost:8080/"
        },
        "id": "KM4s6nFHzj8m",
        "outputId": "440c1470-c465-4699-e14b-599f547f1013"
      },
      "source": [
        "re.search(\"1{5}\", \"I have 11111 apple\")"
      ],
      "execution_count": 16,
      "outputs": [
        {
          "output_type": "execute_result",
          "data": {
            "text/plain": [
              "<re.Match object; span=(7, 12), match='11111'>"
            ]
          },
          "metadata": {
            "tags": []
          },
          "execution_count": 16
        }
      ]
    },
    {
      "cell_type": "code",
      "metadata": {
        "colab": {
          "base_uri": "https://localhost:8080/"
        },
        "id": "LnhlY5sVzmoB",
        "outputId": "e22ee1e8-062d-47cc-dd4b-55d4c7365970"
      },
      "source": [
        "re.search(\"[0–9]\", \"call 911\")"
      ],
      "execution_count": 17,
      "outputs": [
        {
          "output_type": "execute_result",
          "data": {
            "text/plain": [
              "<re.Match object; span=(5, 6), match='9'>"
            ]
          },
          "metadata": {
            "tags": []
          },
          "execution_count": 17
        }
      ]
    },
    {
      "cell_type": "code",
      "metadata": {
        "colab": {
          "base_uri": "https://localhost:8080/"
        },
        "id": "ivURTFYfzs81",
        "outputId": "f9feeaf7-448e-4d1d-f7d7-c8787d143593"
      },
      "source": [
        "re.search(\"[a-z]\", \"call 911\")"
      ],
      "execution_count": 18,
      "outputs": [
        {
          "output_type": "execute_result",
          "data": {
            "text/plain": [
              "<re.Match object; span=(0, 1), match='c'>"
            ]
          },
          "metadata": {
            "tags": []
          },
          "execution_count": 18
        }
      ]
    },
    {
      "cell_type": "code",
      "metadata": {
        "colab": {
          "base_uri": "https://localhost:8080/"
        },
        "id": "eJhX8e7IzvQK",
        "outputId": "9b5e1039-eb9a-4578-c44c-64d8fa36b7c2"
      },
      "source": [
        "re.search(\"[0–9]{1,10}\", \"call 911\")"
      ],
      "execution_count": 19,
      "outputs": [
        {
          "output_type": "execute_result",
          "data": {
            "text/plain": [
              "<re.Match object; span=(5, 6), match='9'>"
            ]
          },
          "metadata": {
            "tags": []
          },
          "execution_count": 19
        }
      ]
    },
    {
      "cell_type": "code",
      "metadata": {
        "colab": {
          "base_uri": "https://localhost:8080/"
        },
        "id": "O2OGceNzzx9l",
        "outputId": "cca9e477-2fef-4df8-b92c-a935a237e00f"
      },
      "source": [
        "re.search(\"[0–9]+\", \"call 911\")"
      ],
      "execution_count": 20,
      "outputs": [
        {
          "output_type": "execute_result",
          "data": {
            "text/plain": [
              "<re.Match object; span=(5, 6), match='9'>"
            ]
          },
          "metadata": {
            "tags": []
          },
          "execution_count": 20
        }
      ]
    },
    {
      "cell_type": "code",
      "metadata": {
        "id": "rDTKB20lz0ZC"
      },
      "source": [
        "re.search(\"[0–9]+\", \"call\")"
      ],
      "execution_count": 21,
      "outputs": []
    },
    {
      "cell_type": "code",
      "metadata": {
        "colab": {
          "base_uri": "https://localhost:8080/"
        },
        "id": "0JS3wp6Nz3dt",
        "outputId": "8185fa4f-0f87-444e-acd2-c01dc953a582"
      },
      "source": [
        "re.search(\"[0–9]?\", \"call\")"
      ],
      "execution_count": 22,
      "outputs": [
        {
          "output_type": "execute_result",
          "data": {
            "text/plain": [
              "<re.Match object; span=(0, 0), match=''>"
            ]
          },
          "metadata": {
            "tags": []
          },
          "execution_count": 22
        }
      ]
    },
    {
      "cell_type": "code",
      "metadata": {
        "colab": {
          "base_uri": "https://localhost:8080/"
        },
        "id": "oVn08hTDz69-",
        "outputId": "f118d6fb-d383-4ec1-dd14-dd2c8ead6fe1"
      },
      "source": [
        "re.search(\"\\d+\", \"call 991\")"
      ],
      "execution_count": 23,
      "outputs": [
        {
          "output_type": "execute_result",
          "data": {
            "text/plain": [
              "<re.Match object; span=(5, 8), match='991'>"
            ]
          },
          "metadata": {
            "tags": []
          },
          "execution_count": 23
        }
      ]
    },
    {
      "cell_type": "code",
      "metadata": {
        "colab": {
          "base_uri": "https://localhost:8080/"
        },
        "id": "ITNMzBnez_ul",
        "outputId": "4c7b970f-9bf5-4bc4-8549-5fd4b4f87519"
      },
      "source": [
        "re.search(\"\\w+\", \"call 991\")"
      ],
      "execution_count": 24,
      "outputs": [
        {
          "output_type": "execute_result",
          "data": {
            "text/plain": [
              "<re.Match object; span=(0, 4), match='call'>"
            ]
          },
          "metadata": {
            "tags": []
          },
          "execution_count": 24
        }
      ]
    },
    {
      "cell_type": "code",
      "metadata": {
        "colab": {
          "base_uri": "https://localhost:8080/"
        },
        "id": "iYnFWZLz0CdO",
        "outputId": "6fbb9f4f-bd97-46be-d9ae-3db9dd610993"
      },
      "source": [
        "re.search(\"\\w+\\s\\d+\", \"call 991\")"
      ],
      "execution_count": 25,
      "outputs": [
        {
          "output_type": "execute_result",
          "data": {
            "text/plain": [
              "<re.Match object; span=(0, 8), match='call 991'>"
            ]
          },
          "metadata": {
            "tags": []
          },
          "execution_count": 25
        }
      ]
    },
    {
      "cell_type": "code",
      "metadata": {
        "colab": {
          "base_uri": "https://localhost:8080/"
        },
        "id": "Sfpa_6i_0R48",
        "outputId": "f918217a-4d90-42ac-9951-bd8f45138378"
      },
      "source": [
        "re.search(\"\\w+ \\d+\", \"call 991\")"
      ],
      "execution_count": 26,
      "outputs": [
        {
          "output_type": "execute_result",
          "data": {
            "text/plain": [
              "<re.Match object; span=(0, 8), match='call 991'>"
            ]
          },
          "metadata": {
            "tags": []
          },
          "execution_count": 26
        }
      ]
    }
  ]
}