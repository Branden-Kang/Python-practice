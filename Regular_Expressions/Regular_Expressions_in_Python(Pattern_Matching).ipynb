{
  "nbformat": 4,
  "nbformat_minor": 0,
  "metadata": {
    "colab": {
      "name": "Regular Expressions in Python(Pattern Matching).ipynb",
      "provenance": [],
      "authorship_tag": "ABX9TyOkuPYQKBfMnOEYHVJ8LDoE"
    },
    "kernelspec": {
      "name": "python3",
      "display_name": "Python 3"
    }
  },
  "cells": [
    {
      "cell_type": "markdown",
      "metadata": {
        "id": "weq10wMRl5mh"
      },
      "source": [
        "[Reference](https://medium.com/swlh/understanding-regular-expressions-in-python-21410c64a6f2)"
      ]
    },
    {
      "cell_type": "code",
      "metadata": {
        "id": "6GjLme53lum3",
        "outputId": "3e031f51-aade-4e27-e0bd-06affaf0c563",
        "colab": {
          "base_uri": "https://localhost:8080/",
          "height": 34
        }
      },
      "source": [
        "import re\n",
        "\n",
        "s = \"I am looking for a pattern in this string\"\n",
        "search=re.search(\"pattern\",s)\n",
        "\n",
        "print(search)"
      ],
      "execution_count": 2,
      "outputs": [
        {
          "output_type": "stream",
          "text": [
            "<_sre.SRE_Match object; span=(19, 26), match='pattern'>\n"
          ],
          "name": "stdout"
        }
      ]
    },
    {
      "cell_type": "code",
      "metadata": {
        "id": "6j4JtfGLmBVI",
        "outputId": "d5192c2e-89ef-40ed-df0e-5287a3f5ab23",
        "colab": {
          "base_uri": "https://localhost:8080/",
          "height": 34
        }
      },
      "source": [
        "import re\n",
        "\n",
        "s=\"I am looking for a pattern in this string\"\n",
        "search=re.search(\"p[a-z]+\",s)\n",
        "\n",
        "print(search)"
      ],
      "execution_count": 4,
      "outputs": [
        {
          "output_type": "stream",
          "text": [
            "<_sre.SRE_Match object; span=(19, 26), match='pattern'>\n"
          ],
          "name": "stdout"
        }
      ]
    },
    {
      "cell_type": "markdown",
      "metadata": {
        "id": "sdMHWmsEmJCQ"
      },
      "source": [
        "- \"p\" defines that pattern starts with letter p.\n",
        "- \"[a-z]\" means the next letter is lying between smaller a to z.\n",
        "- \"+\" sign donates that letters between a-z can be more than once."
      ]
    },
    {
      "cell_type": "markdown",
      "metadata": {
        "id": "B21naYuqmdPW"
      },
      "source": [
        "# Regex Metacharacters\n",
        "- . Matches any single character except newline\n",
        "- ^ Matches the beginning of the string\n",
        "- $ Match at the end of a string\n",
        "- * Match zero or more repetitions\n",
        "- + Match one or more repetitions\n",
        "- [] Defines a character class\n",
        "- | Behaves like “or” logic\n",
        "- ()Creates a group\n",
        "- \\ Introduces a special character like \"\\s\" for \"space\"\n",
        "- {m} Matches m repetitions\n",
        "- {m,n} Matches m to n, inclusive repetitions"
      ]
    },
    {
      "cell_type": "code",
      "metadata": {
        "id": "Eht5aGhAmzqr",
        "outputId": "2e3840f1-d8f0-4046-bc85-c6752e43cea2",
        "colab": {
          "base_uri": "https://localhost:8080/",
          "height": 34
        }
      },
      "source": [
        "import re\n",
        "\n",
        "s=\"patterntolook\"\n",
        "search=re.search(\"pattern..look\",s)\n",
        "\n",
        "print(search)"
      ],
      "execution_count": 7,
      "outputs": [
        {
          "output_type": "stream",
          "text": [
            "<_sre.SRE_Match object; span=(0, 13), match='patterntolook'>\n"
          ],
          "name": "stdout"
        }
      ]
    },
    {
      "cell_type": "code",
      "metadata": {
        "id": "ihJ_sY1LmvYC",
        "outputId": "27e2fbff-4239-4878-aa25-ec082ba772fa",
        "colab": {
          "base_uri": "https://localhost:8080/",
          "height": 34
        }
      },
      "source": [
        "import re\n",
        "\n",
        "s=\"patterntolook\"\n",
        "search=re.search(\"pattern.look\",s)\n",
        "\n",
        "print(search)"
      ],
      "execution_count": 6,
      "outputs": [
        {
          "output_type": "stream",
          "text": [
            "None\n"
          ],
          "name": "stdout"
        }
      ]
    },
    {
      "cell_type": "code",
      "metadata": {
        "id": "V2YHp871mxXX",
        "outputId": "71935b2c-5463-4558-dee4-9785f278f30a",
        "colab": {
          "base_uri": "https://localhost:8080/",
          "height": 34
        }
      },
      "source": [
        "import re\n",
        "\n",
        "s=\"patterntolook\"\n",
        "search=re.search(\"pattern[a-z]\",s)\n",
        "\n",
        "print(search)"
      ],
      "execution_count": 8,
      "outputs": [
        {
          "output_type": "stream",
          "text": [
            "<_sre.SRE_Match object; span=(0, 8), match='patternt'>\n"
          ],
          "name": "stdout"
        }
      ]
    },
    {
      "cell_type": "code",
      "metadata": {
        "id": "U38EbGQqm1Zt",
        "outputId": "9ee10f61-18d3-4d0c-87b4-594ec946d2b1",
        "colab": {
          "base_uri": "https://localhost:8080/",
          "height": 34
        }
      },
      "source": [
        "import re\n",
        "\n",
        "s=\"patterntolook\"\n",
        "search=re.search(\"pattern[a-z]+\",s)\n",
        "\n",
        "print(search)"
      ],
      "execution_count": 9,
      "outputs": [
        {
          "output_type": "stream",
          "text": [
            "<_sre.SRE_Match object; span=(0, 13), match='patterntolook'>\n"
          ],
          "name": "stdout"
        }
      ]
    },
    {
      "cell_type": "code",
      "metadata": {
        "id": "BK3MY9rkm84h",
        "outputId": "49572c63-eb11-400a-bd04-f8b3a3a55a9e",
        "colab": {
          "base_uri": "https://localhost:8080/",
          "height": 34
        }
      },
      "source": [
        "re.search('foo-*bar', 'foo-bar')"
      ],
      "execution_count": 10,
      "outputs": [
        {
          "output_type": "execute_result",
          "data": {
            "text/plain": [
              "<_sre.SRE_Match object; span=(0, 7), match='foo-bar'>"
            ]
          },
          "metadata": {
            "tags": []
          },
          "execution_count": 10
        }
      ]
    },
    {
      "cell_type": "code",
      "metadata": {
        "id": "Fvo1f7ALnARl",
        "outputId": "591de70c-77bb-4315-f772-2f5d936bf60a",
        "colab": {
          "base_uri": "https://localhost:8080/",
          "height": 34
        }
      },
      "source": [
        "re.search('foo-*bar', 'foobar')"
      ],
      "execution_count": 11,
      "outputs": [
        {
          "output_type": "execute_result",
          "data": {
            "text/plain": [
              "<_sre.SRE_Match object; span=(0, 6), match='foobar'>"
            ]
          },
          "metadata": {
            "tags": []
          },
          "execution_count": 11
        }
      ]
    },
    {
      "cell_type": "markdown",
      "metadata": {
        "id": "AbPy_7MlnH0n"
      },
      "source": [
        "# \\ Backslash\n",
        "- \\d is used for digits\n",
        "- \\w is used for lowercase word\n",
        "- \\s for space in words\n",
        "- \\t, \\n, \\r are used for tab, newline, return respectively"
      ]
    },
    {
      "cell_type": "code",
      "metadata": {
        "id": "7ooHiBNMnE09",
        "outputId": "dae6f88d-e5d8-4a24-b125-4a0ae4e5ce3f",
        "colab": {
          "base_uri": "https://localhost:8080/",
          "height": 34
        }
      },
      "source": [
        "re.search('foo\\dbar', 'foo1bar')"
      ],
      "execution_count": 12,
      "outputs": [
        {
          "output_type": "execute_result",
          "data": {
            "text/plain": [
              "<_sre.SRE_Match object; span=(0, 7), match='foo1bar'>"
            ]
          },
          "metadata": {
            "tags": []
          },
          "execution_count": 12
        }
      ]
    },
    {
      "cell_type": "code",
      "metadata": {
        "id": "09ZDdunjnN6W",
        "outputId": "b01506b3-cb05-4b95-eef1-44ea67edfb21",
        "colab": {
          "base_uri": "https://localhost:8080/",
          "height": 34
        }
      },
      "source": [
        "re.search('x-{3}x', 'x---x')"
      ],
      "execution_count": 13,
      "outputs": [
        {
          "output_type": "execute_result",
          "data": {
            "text/plain": [
              "<_sre.SRE_Match object; span=(0, 5), match='x---x'>"
            ]
          },
          "metadata": {
            "tags": []
          },
          "execution_count": 13
        }
      ]
    },
    {
      "cell_type": "code",
      "metadata": {
        "id": "Glw1Lvt7nPy7"
      },
      "source": [
        "re.search('x-{4}x', 'x---x')"
      ],
      "execution_count": 14,
      "outputs": []
    },
    {
      "cell_type": "code",
      "metadata": {
        "id": "ijojbpzknVdY",
        "outputId": "a0b287f2-c5eb-426e-955d-41f1dc2c5e8c",
        "colab": {
          "base_uri": "https://localhost:8080/",
          "height": 34
        }
      },
      "source": [
        "re.search('x-{3,5}x', 'x-----x')"
      ],
      "execution_count": 15,
      "outputs": [
        {
          "output_type": "execute_result",
          "data": {
            "text/plain": [
              "<_sre.SRE_Match object; span=(0, 7), match='x-----x'>"
            ]
          },
          "metadata": {
            "tags": []
          },
          "execution_count": 15
        }
      ]
    }
  ]
}