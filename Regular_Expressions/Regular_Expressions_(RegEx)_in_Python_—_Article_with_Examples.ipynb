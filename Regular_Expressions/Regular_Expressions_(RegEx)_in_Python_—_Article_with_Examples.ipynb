{
  "nbformat": 4,
  "nbformat_minor": 0,
  "metadata": {
    "colab": {
      "provenance": [],
      "authorship_tag": "ABX9TyOQLxQX/LlSnlLwsjuEzr2d"
    },
    "kernelspec": {
      "name": "python3",
      "display_name": "Python 3"
    },
    "language_info": {
      "name": "python"
    }
  },
  "cells": [
    {
      "cell_type": "markdown",
      "source": [
        "[Reference](https://medium.com/@ccpythonprogramming/regular-expressions-regex-in-python-a-guide-with-examples-952c4b69e2bd)"
      ],
      "metadata": {
        "id": "h68sX_UCd9wO"
      }
    },
    {
      "cell_type": "markdown",
      "source": [
        "# 1. findall() Function"
      ],
      "metadata": {
        "id": "6Y-dzu4ZeCJm"
      }
    },
    {
      "cell_type": "code",
      "execution_count": 1,
      "metadata": {
        "colab": {
          "base_uri": "https://localhost:8080/"
        },
        "id": "3ZKDfwdkd6kD",
        "outputId": "56a30fff-6e0f-4d16-e272-1211a58f55db"
      },
      "outputs": [
        {
          "output_type": "stream",
          "name": "stdout",
          "text": [
            "['in', 'in']\n"
          ]
        }
      ],
      "source": [
        "import re\n",
        "\n",
        "text = \"The rain in Spain falls mainly in the plain.\"\n",
        "matches = re.findall(r\"\\bin\\b\", text)\n",
        "print(matches)"
      ]
    },
    {
      "cell_type": "code",
      "source": [
        "text = \"Umbrella, orange, apple, and elephant are here.\"\n",
        "matches = re.findall(r\"\\b[AEIOUaeiou]\\w*\", text)\n",
        "print(matches)"
      ],
      "metadata": {
        "colab": {
          "base_uri": "https://localhost:8080/"
        },
        "id": "zhdcpjmteEaD",
        "outputId": "9bc91de8-5d06-44eb-f9a0-450253221d73"
      },
      "execution_count": 2,
      "outputs": [
        {
          "output_type": "stream",
          "name": "stdout",
          "text": [
            "['Umbrella', 'orange', 'apple', 'and', 'elephant', 'are']\n"
          ]
        }
      ]
    },
    {
      "cell_type": "markdown",
      "source": [
        "# 2. search() Function"
      ],
      "metadata": {
        "id": "QUcc6MrZeJwA"
      }
    },
    {
      "cell_type": "code",
      "source": [
        "match = re.search(r\"\\bmain\\w*\\b\", text)\n",
        "if match:\n",
        "    print(match.group())"
      ],
      "metadata": {
        "id": "GjahaE2CeHRa"
      },
      "execution_count": 3,
      "outputs": []
    },
    {
      "cell_type": "code",
      "source": [
        "text = \"Order numbers are 12345 and 67890.\"\n",
        "match = re.search(r\"\\d{5}\", text)\n",
        "if match:\n",
        "    print(match.group())"
      ],
      "metadata": {
        "colab": {
          "base_uri": "https://localhost:8080/"
        },
        "id": "L4UsdATVeNI2",
        "outputId": "08399473-5dd9-4570-9882-d222d80433ff"
      },
      "execution_count": 4,
      "outputs": [
        {
          "output_type": "stream",
          "name": "stdout",
          "text": [
            "12345\n"
          ]
        }
      ]
    },
    {
      "cell_type": "markdown",
      "source": [
        "# 3. split() Function"
      ],
      "metadata": {
        "id": "q8UCZPcteTpq"
      }
    },
    {
      "cell_type": "code",
      "source": [
        "text = \"Split this string at every vowel.\"\n",
        "result = re.split(r\"[AEIOUaeiou]\", text)\n",
        "print(result)"
      ],
      "metadata": {
        "colab": {
          "base_uri": "https://localhost:8080/"
        },
        "id": "C87ijHT_eSo-",
        "outputId": "764a6e63-7296-4a63-bd02-49f5e40d2c71"
      },
      "execution_count": 5,
      "outputs": [
        {
          "output_type": "stream",
          "name": "stdout",
          "text": [
            "['Spl', 't th', 's str', 'ng ', 't ', 'v', 'ry v', 'w', 'l.']\n"
          ]
        }
      ]
    },
    {
      "cell_type": "code",
      "source": [
        "text = \"Item123Price456Code789\"\n",
        "result = re.split(r\"\\d+\", text)\n",
        "print(result)"
      ],
      "metadata": {
        "colab": {
          "base_uri": "https://localhost:8080/"
        },
        "id": "OpuIN4KdeWK9",
        "outputId": "59fde524-b03e-40ed-cc9e-8b6c1afc354f"
      },
      "execution_count": 6,
      "outputs": [
        {
          "output_type": "stream",
          "name": "stdout",
          "text": [
            "['Item', 'Price', 'Code', '']\n"
          ]
        }
      ]
    },
    {
      "cell_type": "markdown",
      "source": [
        "# 4. sub() Function"
      ],
      "metadata": {
        "id": "-J-A1sWZeb8a"
      }
    },
    {
      "cell_type": "code",
      "source": [
        "text = \"Replace vowels with asterisks.\"\n",
        "result = re.sub(r\"[AEIOUaeiou]\", \"*\", text)\n",
        "print(result)"
      ],
      "metadata": {
        "colab": {
          "base_uri": "https://localhost:8080/"
        },
        "id": "fMn8tXppeZTV",
        "outputId": "efb41695-f6f5-492b-f4e7-b2a86e5f8533"
      },
      "execution_count": 7,
      "outputs": [
        {
          "output_type": "stream",
          "name": "stdout",
          "text": [
            "R*pl*c* v*w*ls w*th *st*r*sks.\n"
          ]
        }
      ]
    },
    {
      "cell_type": "code",
      "source": [
        "text = \"123 Main St, Apt 456.\"\n",
        "result = re.sub(r\"\\d+\", \"NUMBER\", text)\n",
        "print(result)"
      ],
      "metadata": {
        "colab": {
          "base_uri": "https://localhost:8080/"
        },
        "id": "H_gS2X7ued3u",
        "outputId": "31743f42-55a0-4757-a4a6-94aaa4d7e9c3"
      },
      "execution_count": 8,
      "outputs": [
        {
          "output_type": "stream",
          "name": "stdout",
          "text": [
            "NUMBER Main St, Apt NUMBER.\n"
          ]
        }
      ]
    },
    {
      "cell_type": "markdown",
      "source": [
        "# Metacharacters in RegEx"
      ],
      "metadata": {
        "id": "lO1JVKCOehze"
      }
    },
    {
      "cell_type": "code",
      "source": [
        "text = \"Emails: test.email@domain.com, invalid-email@, user@site.org.\"\n",
        "pattern = r\"\\b[A-Za-z0-9._%+-]+@[A-Za-z0-9.-]+\\.[A-Z|a-z]{2,}\\b\"\n",
        "emails = re.findall(pattern, text)\n",
        "print(emails)"
      ],
      "metadata": {
        "colab": {
          "base_uri": "https://localhost:8080/"
        },
        "id": "1__fJTipefyy",
        "outputId": "4f3f0350-a036-4c40-e109-0baafa97753a"
      },
      "execution_count": 9,
      "outputs": [
        {
          "output_type": "stream",
          "name": "stdout",
          "text": [
            "['test.email@domain.com', 'user@site.org']\n"
          ]
        }
      ]
    },
    {
      "cell_type": "markdown",
      "source": [
        "# Special Sequences"
      ],
      "metadata": {
        "id": "XESNANEIekoZ"
      }
    },
    {
      "cell_type": "code",
      "source": [
        "text = \"Find symbols! @#$ and numbers like 123.\"\n",
        "symbols = re.findall(r\"\\W\", text)\n",
        "print(symbols)"
      ],
      "metadata": {
        "colab": {
          "base_uri": "https://localhost:8080/"
        },
        "id": "3WKJtwliejbX",
        "outputId": "00535a23-0847-4f72-a721-46424dfbc131"
      },
      "execution_count": 10,
      "outputs": [
        {
          "output_type": "stream",
          "name": "stdout",
          "text": [
            "[' ', '!', ' ', '@', '#', '$', ' ', ' ', ' ', ' ', '.']\n"
          ]
        }
      ]
    },
    {
      "cell_type": "markdown",
      "source": [
        "# Sets in RegEx"
      ],
      "metadata": {
        "id": "EUYBU__LeoEI"
      }
    },
    {
      "cell_type": "code",
      "source": [
        "text = \"Data123ScienceABC!\"\n",
        "matches = re.findall(r\"[A-Z0-9]\", text)\n",
        "print(matches)"
      ],
      "metadata": {
        "colab": {
          "base_uri": "https://localhost:8080/"
        },
        "id": "SDojroQ5emx2",
        "outputId": "730a8e26-0dc6-4ca0-df2d-9ddcc66de047"
      },
      "execution_count": 11,
      "outputs": [
        {
          "output_type": "stream",
          "name": "stdout",
          "text": [
            "['D', '1', '2', '3', 'S', 'A', 'B', 'C']\n"
          ]
        }
      ]
    },
    {
      "cell_type": "markdown",
      "source": [
        "# Match Objects"
      ],
      "metadata": {
        "id": "-ZCTNumQerwK"
      }
    },
    {
      "cell_type": "code",
      "source": [
        "text = \"Contact: 123-456-7890\"\n",
        "match = re.search(r\"\\d{3}-\\d{3}-\\d{4}\", text)\n",
        "if match:\n",
        "    print(match.group())\n",
        "    print(match.start())\n",
        "    print(match.end())"
      ],
      "metadata": {
        "colab": {
          "base_uri": "https://localhost:8080/"
        },
        "id": "ktjigWvvep1P",
        "outputId": "90b269a8-8b8d-4c74-8807-f56ecf4c9fa3"
      },
      "execution_count": 12,
      "outputs": [
        {
          "output_type": "stream",
          "name": "stdout",
          "text": [
            "123-456-7890\n",
            "9\n",
            "21\n"
          ]
        }
      ]
    }
  ]
}
