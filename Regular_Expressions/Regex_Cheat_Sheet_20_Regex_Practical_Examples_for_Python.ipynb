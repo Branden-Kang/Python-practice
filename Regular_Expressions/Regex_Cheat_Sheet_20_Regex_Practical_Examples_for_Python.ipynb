{
  "nbformat": 4,
  "nbformat_minor": 0,
  "metadata": {
    "colab": {
      "provenance": [],
      "authorship_tag": "ABX9TyOa9LluHCfDrkk+OalShEwR"
    },
    "kernelspec": {
      "name": "python3",
      "display_name": "Python 3"
    },
    "language_info": {
      "name": "python"
    }
  },
  "cells": [
    {
      "cell_type": "markdown",
      "source": [
        "[Reference](https://levelup.gitconnected.com/ultimate-regex-cheat-sheet-20-regex-practical-examples-for-python-83eb8e3c0e33)"
      ],
      "metadata": {
        "id": "3D7nmr-OsddI"
      }
    },
    {
      "cell_type": "markdown",
      "source": [
        "# 1. Literal Characters\n"
      ],
      "metadata": {
        "id": "0LgVY9qdsfr1"
      }
    },
    {
      "cell_type": "code",
      "execution_count": 3,
      "metadata": {
        "colab": {
          "base_uri": "https://localhost:8080/"
        },
        "id": "BX6xMJL7sbuK",
        "outputId": "aa6532d3-3233-4591-82f4-cc3180f81569"
      },
      "outputs": [
        {
          "output_type": "stream",
          "name": "stdout",
          "text": [
            "<re.Match object; span=(0, 1), match='a'>\n"
          ]
        }
      ],
      "source": [
        "import re\n",
        "pattern = r'a'\n",
        "text = 'apple'\n",
        "match = re.search(pattern, text)\n",
        "print(match) # Output: <re.Match object; span=(0, 1), match='a'>"
      ]
    },
    {
      "cell_type": "markdown",
      "source": [
        "# 2. Metacharacters"
      ],
      "metadata": {
        "id": "9vnuBVr8sp3A"
      }
    },
    {
      "cell_type": "code",
      "source": [
        "pattern = r'a.b'\n",
        "text = 'a1b'\n",
        "match = re.search(pattern, text)\n",
        "print(match) # Output: <re.Match object; span=(0, 3), match='a1b'>"
      ],
      "metadata": {
        "colab": {
          "base_uri": "https://localhost:8080/"
        },
        "id": "_pUImpolsjFI",
        "outputId": "37333d7c-45ff-4a74-cd3e-99ff05a0d88c"
      },
      "execution_count": 4,
      "outputs": [
        {
          "output_type": "stream",
          "name": "stdout",
          "text": [
            "<re.Match object; span=(0, 3), match='a1b'>\n"
          ]
        }
      ]
    },
    {
      "cell_type": "markdown",
      "source": [
        "# 3. * Quantifier"
      ],
      "metadata": {
        "id": "LJBgnP4esv3F"
      }
    },
    {
      "cell_type": "code",
      "source": [
        "pattern = r'ab*'\n",
        "text = 'abbbb'\n",
        "match = re.search(pattern, text)\n",
        "print(match) # Output: <re.Match object; span=(0, 5), match='abbbb'>"
      ],
      "metadata": {
        "colab": {
          "base_uri": "https://localhost:8080/"
        },
        "id": "XWw04b5Vslgy",
        "outputId": "9a435ded-7d54-48af-f094-33785bcf19e3"
      },
      "execution_count": 5,
      "outputs": [
        {
          "output_type": "stream",
          "name": "stdout",
          "text": [
            "<re.Match object; span=(0, 5), match='abbbb'>\n"
          ]
        }
      ]
    },
    {
      "cell_type": "markdown",
      "source": [
        "# 4. + Quantifier"
      ],
      "metadata": {
        "id": "QsIzRWSjszhg"
      }
    },
    {
      "cell_type": "code",
      "source": [
        "pattern = r'ab+'\n",
        "text = 'abbbb'\n",
        "match = re.search(pattern, text)\n",
        "print(match) # Output: <re.Match object; span=(0, 5), match='abbbb'>"
      ],
      "metadata": {
        "colab": {
          "base_uri": "https://localhost:8080/"
        },
        "id": "QR3CG8PJsywC",
        "outputId": "8229d867-9fda-463d-ec03-8edf84ced5b2"
      },
      "execution_count": 6,
      "outputs": [
        {
          "output_type": "stream",
          "name": "stdout",
          "text": [
            "<re.Match object; span=(0, 5), match='abbbb'>\n"
          ]
        }
      ]
    },
    {
      "cell_type": "markdown",
      "source": [
        "# 5. ? Quantifier"
      ],
      "metadata": {
        "id": "CABeLG4z3wgd"
      }
    },
    {
      "cell_type": "code",
      "source": [
        "pattern = r'ab?'\n",
        "text = 'a'\n",
        "match = re.search(pattern, text)\n",
        "print(match) # Output: <re.Match object; span=(0, 1), match='a'"
      ],
      "metadata": {
        "colab": {
          "base_uri": "https://localhost:8080/"
        },
        "id": "Q-Ozv4y2s2iU",
        "outputId": "0f3d7c0c-4a42-4d1d-96d0-1928a51cb7c3"
      },
      "execution_count": 7,
      "outputs": [
        {
          "output_type": "stream",
          "name": "stdout",
          "text": [
            "<re.Match object; span=(0, 1), match='a'>\n"
          ]
        }
      ]
    },
    {
      "cell_type": "markdown",
      "source": [
        "# 6. {n} Quantifier"
      ],
      "metadata": {
        "id": "bXbBf7xZ31Xn"
      }
    },
    {
      "cell_type": "code",
      "source": [
        "pattern = r'a{3}'\n",
        "text = 'aaa'\n",
        "match = re.search(pattern, text)\n",
        "print(match) # Output: <re.Match object; span=(0, 3), match='aaa'>"
      ],
      "metadata": {
        "colab": {
          "base_uri": "https://localhost:8080/"
        },
        "id": "Wv8yW67W30M8",
        "outputId": "e6bc1211-4cf1-4690-ce00-bf10cdc5c21e"
      },
      "execution_count": 8,
      "outputs": [
        {
          "output_type": "stream",
          "name": "stdout",
          "text": [
            "<re.Match object; span=(0, 3), match='aaa'>\n"
          ]
        }
      ]
    },
    {
      "cell_type": "markdown",
      "source": [
        "# 7. {n,} Quantifier\n"
      ],
      "metadata": {
        "id": "xc61SCsc35E7"
      }
    },
    {
      "cell_type": "code",
      "source": [
        "pattern = r'a{2,}'\n",
        "text = 'aaaa'\n",
        "match = re.search(pattern, text)\n",
        "print(match) # Output: <re.Match object; span=(0, 4), match='aaaa'>"
      ],
      "metadata": {
        "colab": {
          "base_uri": "https://localhost:8080/"
        },
        "id": "CpYrgbIG3341",
        "outputId": "ca41d860-c701-42e9-8c65-6ce6cc51a04f"
      },
      "execution_count": 9,
      "outputs": [
        {
          "output_type": "stream",
          "name": "stdout",
          "text": [
            "<re.Match object; span=(0, 4), match='aaaa'>\n"
          ]
        }
      ]
    },
    {
      "cell_type": "markdown",
      "source": [
        "# 8. {n,m} Quantifier"
      ],
      "metadata": {
        "id": "pssLdpsa38ts"
      }
    },
    {
      "cell_type": "code",
      "source": [
        "pattern = r'a{2,4}'\n",
        "text = 'aaaaa'\n",
        "match = re.search(pattern, text)\n",
        "print(match) # Output: <re.Match object; span=(0, 4), match='aaaa'>"
      ],
      "metadata": {
        "colab": {
          "base_uri": "https://localhost:8080/"
        },
        "id": "T2sqCZ3A37na",
        "outputId": "d861da20-f8a3-4672-e5aa-814145be3554"
      },
      "execution_count": 10,
      "outputs": [
        {
          "output_type": "stream",
          "name": "stdout",
          "text": [
            "<re.Match object; span=(0, 4), match='aaaa'>\n"
          ]
        }
      ]
    },
    {
      "cell_type": "markdown",
      "source": [
        "# 9. \\d Character Class"
      ],
      "metadata": {
        "id": "E1Eoc73p4AIB"
      }
    },
    {
      "cell_type": "code",
      "source": [
        "pattern = r'\\d'\n",
        "text = '123abc'\n",
        "match = re.search(pattern, text)\n",
        "print(match) # Output: <re.Match object; span=(0, 1), match='1'>"
      ],
      "metadata": {
        "colab": {
          "base_uri": "https://localhost:8080/"
        },
        "id": "9vNMrmk83_JL",
        "outputId": "d7077725-6d8b-471a-a723-1c6c17c7200d"
      },
      "execution_count": 11,
      "outputs": [
        {
          "output_type": "stream",
          "name": "stdout",
          "text": [
            "<re.Match object; span=(0, 1), match='1'>\n"
          ]
        }
      ]
    },
    {
      "cell_type": "markdown",
      "source": [
        "# 10. \\D Character Class"
      ],
      "metadata": {
        "id": "8WRsEfB94EEz"
      }
    },
    {
      "cell_type": "code",
      "source": [
        "pattern = r'\\D'\n",
        "text = '123abc'\n",
        "match = re.search(pattern, text)\n",
        "print(match) # Output: <re.Match object; span=(3, 4), match='a'>"
      ],
      "metadata": {
        "colab": {
          "base_uri": "https://localhost:8080/"
        },
        "id": "OvhV7Eo44Cl8",
        "outputId": "f0cc5535-dbe2-4024-d61a-a7726f7f4a2a"
      },
      "execution_count": 12,
      "outputs": [
        {
          "output_type": "stream",
          "name": "stdout",
          "text": [
            "<re.Match object; span=(3, 4), match='a'>\n"
          ]
        }
      ]
    },
    {
      "cell_type": "markdown",
      "source": [
        "# 11. \\w Character Class"
      ],
      "metadata": {
        "id": "I7l4korW4Hxj"
      }
    },
    {
      "cell_type": "code",
      "source": [
        "pattern = r'\\w'\n",
        "text = '123abc'\n",
        "match = re.search(pattern, text)\n",
        "print(match) # Output: <re.Match object; span=(0, 1), match='1'>"
      ],
      "metadata": {
        "colab": {
          "base_uri": "https://localhost:8080/"
        },
        "id": "dfpAv0iX4Gkp",
        "outputId": "e730095d-4a1c-494a-f278-e2d4268e7532"
      },
      "execution_count": 13,
      "outputs": [
        {
          "output_type": "stream",
          "name": "stdout",
          "text": [
            "<re.Match object; span=(0, 1), match='1'>\n"
          ]
        }
      ]
    },
    {
      "cell_type": "markdown",
      "source": [
        "# 12. \\W Character Class"
      ],
      "metadata": {
        "id": "lEvzXLxJ4Ohm"
      }
    },
    {
      "cell_type": "code",
      "source": [
        "pattern = r'\\w'\n",
        "text = '123abc'\n",
        "match = re.search(pattern, text)\n",
        "print(match) # Output: <re.Match object; span=(0, 1), match='1'>"
      ],
      "metadata": {
        "colab": {
          "base_uri": "https://localhost:8080/"
        },
        "id": "rbDSERjG4Noj",
        "outputId": "31d12642-4c7b-422a-e76b-aaf4495e037d"
      },
      "execution_count": 14,
      "outputs": [
        {
          "output_type": "stream",
          "name": "stdout",
          "text": [
            "<re.Match object; span=(0, 1), match='1'>\n"
          ]
        }
      ]
    },
    {
      "cell_type": "markdown",
      "source": [
        "# 13. \\s Character Class"
      ],
      "metadata": {
        "id": "a472EVNA7COF"
      }
    },
    {
      "cell_type": "code",
      "source": [
        "pattern = r'\\s'\n",
        "text = 'hello world'\n",
        "match = re.search(pattern, text)\n",
        "print(match) # Output: <re.Match object; span=(5, 6), match=' '>"
      ],
      "metadata": {
        "colab": {
          "base_uri": "https://localhost:8080/"
        },
        "id": "cmB5ygrd4Rkr",
        "outputId": "ddf920f7-879b-4e0d-a68c-4392f98a7ce4"
      },
      "execution_count": 15,
      "outputs": [
        {
          "output_type": "stream",
          "name": "stdout",
          "text": [
            "<re.Match object; span=(5, 6), match=' '>\n"
          ]
        }
      ]
    },
    {
      "cell_type": "markdown",
      "source": [
        "# 14. \\S Character Class"
      ],
      "metadata": {
        "id": "sucakEe57Ft0"
      }
    },
    {
      "cell_type": "code",
      "source": [
        "pattern = r'\\S'\n",
        "text = 'hello world'\n",
        "match = re.search(pattern, text)\n",
        "print(match) # Output: <re.Match object; span=(0, 1), match='h'>"
      ],
      "metadata": {
        "colab": {
          "base_uri": "https://localhost:8080/"
        },
        "id": "uVKkTjJT7EsL",
        "outputId": "085ceeda-2c28-4912-aba7-5ecd68c17c11"
      },
      "execution_count": 16,
      "outputs": [
        {
          "output_type": "stream",
          "name": "stdout",
          "text": [
            "<re.Match object; span=(0, 1), match='h'>\n"
          ]
        }
      ]
    },
    {
      "cell_type": "markdown",
      "source": [
        "# 15. Matches the start of a string"
      ],
      "metadata": {
        "id": "X4ko2EnD7Lj2"
      }
    },
    {
      "cell_type": "code",
      "source": [
        "pattern = r'^hello'\n",
        "text = 'hello world'\n",
        "match = re.search(pattern, text)\n",
        "print(match) # Output: <re.Match object; span=(0, 5), match='hello'>"
      ],
      "metadata": {
        "colab": {
          "base_uri": "https://localhost:8080/"
        },
        "id": "WOwFQKRU7Isv",
        "outputId": "96a13f7f-45b5-4722-849d-1b8dd90d86a2"
      },
      "execution_count": 17,
      "outputs": [
        {
          "output_type": "stream",
          "name": "stdout",
          "text": [
            "<re.Match object; span=(0, 5), match='hello'>\n"
          ]
        }
      ]
    },
    {
      "cell_type": "markdown",
      "source": [
        "# 16. Matches the end of a string"
      ],
      "metadata": {
        "id": "z4gRMYZm7T1E"
      }
    },
    {
      "cell_type": "code",
      "source": [
        "pattern = r'world$'\n",
        "text = 'hello world'\n",
        "match = re.search(pattern, text)\n",
        "print(match) # Output: <re.Match object; span=(6, 11), match='world'>"
      ],
      "metadata": {
        "colab": {
          "base_uri": "https://localhost:8080/"
        },
        "id": "sZqhBXrD7Spl",
        "outputId": "44761a03-7213-4630-b3ec-bf2a2b94a7d2"
      },
      "execution_count": 18,
      "outputs": [
        {
          "output_type": "stream",
          "name": "stdout",
          "text": [
            "<re.Match object; span=(6, 11), match='world'>\n"
          ]
        }
      ]
    },
    {
      "cell_type": "markdown",
      "source": [
        "# 17. Matches a word boundary"
      ],
      "metadata": {
        "id": "FnAaxyQl7aH7"
      }
    },
    {
      "cell_type": "code",
      "source": [
        "pattern = r'\\bworld\\b'\n",
        "text = 'hello world'\n",
        "match = re.search(pattern, text)\n",
        "print(match) # Output: <re.Match object; span=(6, 11), match='world'>"
      ],
      "metadata": {
        "colab": {
          "base_uri": "https://localhost:8080/"
        },
        "id": "UxOkcLnQ7Yk9",
        "outputId": "ee91a068-a9e9-4b5f-cc12-82474f7bd52b"
      },
      "execution_count": 19,
      "outputs": [
        {
          "output_type": "stream",
          "name": "stdout",
          "text": [
            "<re.Match object; span=(6, 11), match='world'>\n"
          ]
        }
      ]
    },
    {
      "cell_type": "markdown",
      "source": [
        "# 18. Matches a non-word boundary"
      ],
      "metadata": {
        "id": "Br-HvWoN7edw"
      }
    },
    {
      "cell_type": "code",
      "source": [
        "pattern = r'wo\\Brld'\n",
        "text = 'hello world'\n",
        "match = re.search(pattern, text)\n",
        "print(match) # Output: <re.Match object; span=(6, 11), match='world'>"
      ],
      "metadata": {
        "colab": {
          "base_uri": "https://localhost:8080/"
        },
        "id": "wUoGEgny7dY4",
        "outputId": "ff032910-575e-4d7a-8d19-f5d8ed1e6d43"
      },
      "execution_count": 20,
      "outputs": [
        {
          "output_type": "stream",
          "name": "stdout",
          "text": [
            "<re.Match object; span=(6, 11), match='world'>\n"
          ]
        }
      ]
    },
    {
      "cell_type": "markdown",
      "source": [
        "# 19. Grouping"
      ],
      "metadata": {
        "id": "9JbtdVNt7jCQ"
      }
    },
    {
      "cell_type": "code",
      "source": [
        "pattern = r'(hello) (world)'\n",
        "text = 'hello world'\n",
        "match = re.search(pattern, text)\n",
        "print(match.groups()) # Output: ('hello', 'world')"
      ],
      "metadata": {
        "colab": {
          "base_uri": "https://localhost:8080/"
        },
        "id": "gcPKql2q7iBF",
        "outputId": "2dc81ebd-713b-458c-cce1-5b23ba58fa93"
      },
      "execution_count": 21,
      "outputs": [
        {
          "output_type": "stream",
          "name": "stdout",
          "text": [
            "('hello', 'world')\n"
          ]
        }
      ]
    },
    {
      "cell_type": "markdown",
      "source": [
        "# 20. Lookahead"
      ],
      "metadata": {
        "id": "x2V-tfyi7nKr"
      }
    },
    {
      "cell_type": "code",
      "source": [
        "pattern = r'hello(?= world)'\n",
        "text = 'hello world'\n",
        "match = re.search(pattern, text)\n",
        "print(match) # Output: <re.Match object; span=(0, 5), match='hello'>"
      ],
      "metadata": {
        "colab": {
          "base_uri": "https://localhost:8080/"
        },
        "id": "-6RbaBHZ7mD7",
        "outputId": "604e4b2b-d798-437c-c532-bf10b604abdd"
      },
      "execution_count": 22,
      "outputs": [
        {
          "output_type": "stream",
          "name": "stdout",
          "text": [
            "<re.Match object; span=(0, 5), match='hello'>\n"
          ]
        }
      ]
    }
  ]
}
