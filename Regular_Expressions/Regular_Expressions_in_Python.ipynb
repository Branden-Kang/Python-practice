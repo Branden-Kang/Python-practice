{
  "nbformat": 4,
  "nbformat_minor": 0,
  "metadata": {
    "colab": {
      "name": "Regular Expressions in Python.ipynb",
      "provenance": [],
      "collapsed_sections": [],
      "authorship_tag": "ABX9TyOSSFMZSgUz0XYBOD6XcuiR"
    },
    "kernelspec": {
      "name": "python3",
      "display_name": "Python 3"
    },
    "language_info": {
      "name": "python"
    }
  },
  "cells": [
    {
      "cell_type": "markdown",
      "source": [
        "[Reference](https://medium.com/codex/regular-expressions-in-python-535799f8ddfc)"
      ],
      "metadata": {
        "id": "-OJk6UUEHanf"
      }
    },
    {
      "cell_type": "markdown",
      "source": [
        "# String Indexing\n"
      ],
      "metadata": {
        "id": "p79pPy0lHdYq"
      }
    },
    {
      "cell_type": "code",
      "execution_count": 1,
      "metadata": {
        "id": "vNjA-AIqHY7Y"
      },
      "outputs": [],
      "source": [
        "string_1 = \"The quick brown fox jumps over the lazy dog\""
      ]
    },
    {
      "cell_type": "code",
      "source": [
        "string_1 = \"The quick brown fox jumps over the lazy dog\"\n",
        "\n",
        "#The first character in the string is gotten by indexing on 0\n",
        "print (string_1[0])\n",
        "# Prints : 'T'\n",
        "\n",
        "#A negative indexing counts from the last elements in the string\n",
        "print (string_1[-1])\n",
        "# Prints : 'g'\n",
        "\n",
        "#String slicing is used to select a group of characters, the last indexed value is exclusive\n",
        "print (string_1[0:6])\n",
        "# Prints : 'The qu'"
      ],
      "metadata": {
        "colab": {
          "base_uri": "https://localhost:8080/"
        },
        "id": "OW-cEFooHf5P",
        "outputId": "7c6be5ea-27eb-491c-dee6-4339cfda757f"
      },
      "execution_count": 2,
      "outputs": [
        {
          "output_type": "stream",
          "name": "stdout",
          "text": [
            "T\n",
            "g\n",
            "The qu\n"
          ]
        }
      ]
    },
    {
      "cell_type": "markdown",
      "source": [
        "# Stripping Characters\n"
      ],
      "metadata": {
        "id": "rq_SkaZWHiBA"
      }
    },
    {
      "cell_type": "code",
      "source": [
        "string_2 = \" encyclopedia \"\n",
        "print (string_2.strip())\n",
        "#Prints : 'encyclopedia'\n",
        "\n",
        "#There is also lstrip and rstrip for removing leading and trailling spaces\n",
        "\n",
        "print (string_2.lstrip())\n",
        "#Prints : 'encyclopedia '\n",
        "\n",
        "print (string_2.rstrip())\n",
        "#Prints : ' encyclopedia'\n",
        "\n",
        "string_3 = '$5000'\n",
        "print (string_3.strip('$')) #lstrip would also work\n",
        "#Prints : '5000'"
      ],
      "metadata": {
        "colab": {
          "base_uri": "https://localhost:8080/"
        },
        "id": "oIMFJJKcHhJk",
        "outputId": "3103606b-8850-4202-bf22-55a2d9fe6e2f"
      },
      "execution_count": 3,
      "outputs": [
        {
          "output_type": "stream",
          "name": "stdout",
          "text": [
            "encyclopedia\n",
            "encyclopedia \n",
            " encyclopedia\n",
            "5000\n"
          ]
        }
      ]
    },
    {
      "cell_type": "markdown",
      "source": [
        "# Finding and Replacing\n"
      ],
      "metadata": {
        "id": "PNPABTZEHkgk"
      }
    },
    {
      "cell_type": "code",
      "source": [
        "string_1.index(\"fox\")"
      ],
      "metadata": {
        "colab": {
          "base_uri": "https://localhost:8080/"
        },
        "id": "AKCoKe-dHjVO",
        "outputId": "5a1fbb4c-ea7a-457d-e038-b83af6081c07"
      },
      "execution_count": 4,
      "outputs": [
        {
          "output_type": "execute_result",
          "data": {
            "text/plain": [
              "16"
            ]
          },
          "metadata": {},
          "execution_count": 4
        }
      ]
    },
    {
      "cell_type": "code",
      "source": [
        "string_1.index(\"fox\", 0,10)"
      ],
      "metadata": {
        "colab": {
          "base_uri": "https://localhost:8080/",
          "height": 164
        },
        "id": "pB_mYxC0Hmlz",
        "outputId": "c79226f5-67ac-4750-96b1-ccb9661e4b76"
      },
      "execution_count": 5,
      "outputs": [
        {
          "output_type": "error",
          "ename": "ValueError",
          "evalue": "ignored",
          "traceback": [
            "\u001b[0;31m---------------------------------------------------------------------------\u001b[0m",
            "\u001b[0;31mValueError\u001b[0m                                Traceback (most recent call last)",
            "\u001b[0;32m<ipython-input-5-81b55b8beebc>\u001b[0m in \u001b[0;36m<module>\u001b[0;34m()\u001b[0m\n\u001b[0;32m----> 1\u001b[0;31m \u001b[0mstring_1\u001b[0m\u001b[0;34m.\u001b[0m\u001b[0mindex\u001b[0m\u001b[0;34m(\u001b[0m\u001b[0;34m\"fox\"\u001b[0m\u001b[0;34m,\u001b[0m \u001b[0;36m0\u001b[0m\u001b[0;34m,\u001b[0m\u001b[0;36m10\u001b[0m\u001b[0;34m)\u001b[0m\u001b[0;34m\u001b[0m\u001b[0;34m\u001b[0m\u001b[0m\n\u001b[0m",
            "\u001b[0;31mValueError\u001b[0m: substring not found"
          ]
        }
      ]
    },
    {
      "cell_type": "code",
      "source": [
        "string_1.replace(\"fox\",\"monkey\") "
      ],
      "metadata": {
        "colab": {
          "base_uri": "https://localhost:8080/",
          "height": 37
        },
        "id": "tAz3Z3GNHmt1",
        "outputId": "e58d7bd5-d965-4492-e879-c2441a19f767"
      },
      "execution_count": 6,
      "outputs": [
        {
          "output_type": "execute_result",
          "data": {
            "text/plain": [
              "'The quick brown monkey jumps over the lazy dog'"
            ],
            "application/vnd.google.colaboratory.intrinsic+json": {
              "type": "string"
            }
          },
          "metadata": {},
          "execution_count": 6
        }
      ]
    },
    {
      "cell_type": "code",
      "source": [
        "string_1.replace(\" \",\"_\",2)"
      ],
      "metadata": {
        "colab": {
          "base_uri": "https://localhost:8080/",
          "height": 37
        },
        "id": "s1iL6zf-HoBx",
        "outputId": "9b8ccd8b-04f1-4853-d9b9-5d81cc679d5f"
      },
      "execution_count": 7,
      "outputs": [
        {
          "output_type": "execute_result",
          "data": {
            "text/plain": [
              "'The_quick_brown fox jumps over the lazy dog'"
            ],
            "application/vnd.google.colaboratory.intrinsic+json": {
              "type": "string"
            }
          },
          "metadata": {},
          "execution_count": 7
        }
      ]
    },
    {
      "cell_type": "markdown",
      "source": [
        "# String Formatting\n"
      ],
      "metadata": {
        "id": "_-yxx0SlHuON"
      }
    },
    {
      "cell_type": "code",
      "source": [
        "print (\"My brother has {} bags and {} oranges in each bag\".format(2,8))"
      ],
      "metadata": {
        "colab": {
          "base_uri": "https://localhost:8080/"
        },
        "id": "AbBU3Yp6HtQe",
        "outputId": "ee868b3f-b154-4aac-f416-3e2cad39ac27"
      },
      "execution_count": 8,
      "outputs": [
        {
          "output_type": "stream",
          "name": "stdout",
          "text": [
            "My brother has 2 bags and 8 oranges in each bag\n"
          ]
        }
      ]
    },
    {
      "cell_type": "code",
      "source": [
        "print (\"My brother has {1} bags and {0} oranges in each bag\".format(8,2))"
      ],
      "metadata": {
        "colab": {
          "base_uri": "https://localhost:8080/"
        },
        "id": "r5GA6JiLHwkm",
        "outputId": "0ba827aa-35fb-4773-8f10-6de5949d6df7"
      },
      "execution_count": 9,
      "outputs": [
        {
          "output_type": "stream",
          "name": "stdout",
          "text": [
            "My brother has 2 bags and 8 oranges in each bag\n"
          ]
        }
      ]
    },
    {
      "cell_type": "code",
      "source": [
        "number_1 = 8/3\n",
        "number_2 = 2/3\n",
        "print (\"8 divided by 3 is {0:.2f} but 2 divided by 3 is {1:.2f}\".format(number_1, number_2))"
      ],
      "metadata": {
        "colab": {
          "base_uri": "https://localhost:8080/"
        },
        "id": "4s_PlskrHzIa",
        "outputId": "3760adb0-0f37-4410-d72d-334ec54b88de"
      },
      "execution_count": 10,
      "outputs": [
        {
          "output_type": "stream",
          "name": "stdout",
          "text": [
            "8 divided by 3 is 2.67 but 2 divided by 3 is 0.67\n"
          ]
        }
      ]
    },
    {
      "cell_type": "markdown",
      "source": [
        "# Regular Expressions\n"
      ],
      "metadata": {
        "id": "SH_rCdIjH1Fq"
      }
    },
    {
      "cell_type": "markdown",
      "source": [
        "## re.search ( )\n"
      ],
      "metadata": {
        "id": "KDfzHpRQH2aC"
      }
    },
    {
      "cell_type": "code",
      "source": [
        "#The zip codes in USA have 5 digits. \n",
        "\n",
        "import re\n",
        "statement = 'The zip code of my city is 96162'\n",
        "regex = r'\\d{5}'\n",
        "zip_code = re.search(regex, statement)\n",
        "if zip_code:\n",
        "    print (\"Zip Code Found!\")\n",
        "else:\n",
        "    print ('Not Found!')"
      ],
      "metadata": {
        "colab": {
          "base_uri": "https://localhost:8080/"
        },
        "id": "bILCg11CHzTq",
        "outputId": "7078cde7-e151-4f02-8ef4-34a74a9ef3cf"
      },
      "execution_count": 11,
      "outputs": [
        {
          "output_type": "stream",
          "name": "stdout",
          "text": [
            "Zip Code Found!\n"
          ]
        }
      ]
    },
    {
      "cell_type": "markdown",
      "source": [
        "## re.sub()\n"
      ],
      "metadata": {
        "id": "4KlppGfGH5k6"
      }
    },
    {
      "cell_type": "code",
      "source": [
        "import re\n",
        "money = ['$1000', '₦300', '₦500','$9000', '$9200', '€5800']\n",
        "\n",
        "regex = r'[$ ₦ €]'\n",
        "new_money = []\n",
        "for i in money: \n",
        "    j = re.sub(regex, \" \", i)\n",
        "    j = j.strip()\n",
        "    new_money.append(j)\n",
        "\n",
        "print (new_money)"
      ],
      "metadata": {
        "colab": {
          "base_uri": "https://localhost:8080/"
        },
        "id": "k3Wv7zlQH30g",
        "outputId": "84f4ddd2-8a0f-4cb5-949b-75b22d75bb4f"
      },
      "execution_count": 12,
      "outputs": [
        {
          "output_type": "stream",
          "name": "stdout",
          "text": [
            "['1000', '300', '500', '9000', '9200', '5800']\n"
          ]
        }
      ]
    },
    {
      "cell_type": "markdown",
      "source": [
        "## re.split()\n"
      ],
      "metadata": {
        "id": "hoK1ITYRH8B6"
      }
    },
    {
      "cell_type": "code",
      "source": [
        "import re\n",
        "string_1 = 'The quick brown fox-jumped over the lazy dog'\n",
        "\n",
        "split_word = re.split(r'-', string_1)\n",
        "print (split_word)"
      ],
      "metadata": {
        "colab": {
          "base_uri": "https://localhost:8080/"
        },
        "id": "sVVkfGIXH7My",
        "outputId": "85d4637c-61e1-4792-df3d-b7c3937b2ae4"
      },
      "execution_count": 13,
      "outputs": [
        {
          "output_type": "stream",
          "name": "stdout",
          "text": [
            "['The quick brown fox', 'jumped over the lazy dog']\n"
          ]
        }
      ]
    },
    {
      "cell_type": "markdown",
      "source": [
        "## re.findall()\n"
      ],
      "metadata": {
        "id": "lOgcFJ_4H_MH"
      }
    },
    {
      "cell_type": "code",
      "source": [
        "import re\n",
        "phone_class = \"The following are the phone numbers of 3 students in a class, Michael : +234 123 456 7890, James : +234 100 000 1000, Sarah : +234 999 999 9999\"\n",
        "\n",
        "regex = r\"\\d{3}\\s\\d{3}\\s\\d{3}\\s\\d{4}\"\n",
        "phone_number = re.findall(regex, phone_class)\n",
        "print (phone_number)"
      ],
      "metadata": {
        "colab": {
          "base_uri": "https://localhost:8080/"
        },
        "id": "Ap6BBVcaH9nP",
        "outputId": "4b4a48c8-b47a-453a-dbbe-fe4bff893857"
      },
      "execution_count": 14,
      "outputs": [
        {
          "output_type": "stream",
          "name": "stdout",
          "text": [
            "['234 123 456 7890', '234 100 000 1000', '234 999 999 9999']\n"
          ]
        }
      ]
    },
    {
      "cell_type": "code",
      "source": [
        "import re\n",
        "phone_class = \"The following are the phone numbers of 3 students in a class, Michael : +234 123 456 7890, James : +234 100 000 1000, Sarah : +234 999 999 9999\"\n",
        "\n",
        "regex = r\"(\\w+)\\s:\"\n",
        "names = re.findall(regex, phone_class)\n",
        "print (names)"
      ],
      "metadata": {
        "colab": {
          "base_uri": "https://localhost:8080/"
        },
        "id": "LL33jNaMIAaw",
        "outputId": "8770ae08-be82-4815-f527-538f9fc0a464"
      },
      "execution_count": 15,
      "outputs": [
        {
          "output_type": "stream",
          "name": "stdout",
          "text": [
            "['Michael', 'James', 'Sarah']\n"
          ]
        }
      ]
    }
  ]
}
