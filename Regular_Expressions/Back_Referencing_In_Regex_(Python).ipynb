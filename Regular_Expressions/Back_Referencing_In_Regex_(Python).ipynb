{
  "nbformat": 4,
  "nbformat_minor": 0,
  "metadata": {
    "colab": {
      "provenance": [],
      "authorship_tag": "ABX9TyPapRplFNcQ7iYSIUWR9A73"
    },
    "kernelspec": {
      "name": "python3",
      "display_name": "Python 3"
    },
    "language_info": {
      "name": "python"
    }
  },
  "cells": [
    {
      "cell_type": "markdown",
      "source": [
        "[Reference](https://python.plainenglish.io/back-referencing-in-regex-python-bf08d4846041)"
      ],
      "metadata": {
        "id": "-o8mT_059OOQ"
      }
    },
    {
      "cell_type": "markdown",
      "source": [
        "# 1) Matching Every Letter"
      ],
      "metadata": {
        "id": "zYVb60Mn9j1o"
      }
    },
    {
      "cell_type": "code",
      "execution_count": 1,
      "metadata": {
        "colab": {
          "base_uri": "https://localhost:8080/"
        },
        "id": "pNpxXsgj6M8a",
        "outputId": "d615a7c6-dc2b-4819-cff9-365ebe581ebc"
      },
      "outputs": [
        {
          "output_type": "stream",
          "name": "stdout",
          "text": [
            "['a', 'p', 'p', 'l', 'e', 'o', 'r', 'a', 'n', 'g', 'e', 'p', 'e', 'a', 'r', 's', 't', 'r', 'a', 'w', 'b', 'e', 'r', 'r', 'y']\n"
          ]
        }
      ],
      "source": [
        "import re \n",
        "string = 'apple orange pear strawberry'\n",
        "regex = r'\\w'\n",
        "print(re.findall(regex, string))"
      ]
    },
    {
      "cell_type": "markdown",
      "source": [
        "# 2) Adding A Capture Group"
      ],
      "metadata": {
        "id": "XYUXOKmP9lSz"
      }
    },
    {
      "cell_type": "code",
      "source": [
        "import re\n",
        "string = 'apple orange pear strawberry'\n",
        "regex = r'(\\w)'\n",
        "print(re.findall(regex, string))"
      ],
      "metadata": {
        "colab": {
          "base_uri": "https://localhost:8080/"
        },
        "id": "JZf2v6qS9iqN",
        "outputId": "3fae7c10-e500-41cb-9b11-ebf2a5ceecb7"
      },
      "execution_count": 3,
      "outputs": [
        {
          "output_type": "stream",
          "name": "stdout",
          "text": [
            "['a', 'p', 'p', 'l', 'e', 'o', 'r', 'a', 'n', 'g', 'e', 'p', 'e', 'a', 'r', 's', 't', 'r', 'a', 'w', 'b', 'e', 'r', 'r', 'y']\n"
          ]
        }
      ]
    },
    {
      "cell_type": "markdown",
      "source": [
        "# 3) Adding One Back Reference"
      ],
      "metadata": {
        "id": "a5UONA8B9pLz"
      }
    },
    {
      "cell_type": "code",
      "source": [
        "import re\n",
        "string = 'apple orange pear strawberry'\n",
        "regex = r'(\\w)\\1'\n",
        "print(re.findall(regex, string))"
      ],
      "metadata": {
        "colab": {
          "base_uri": "https://localhost:8080/"
        },
        "id": "vv_bVGyD9mys",
        "outputId": "4496c5a8-6bd0-44f8-b1a1-d02fd1b0d2b8"
      },
      "execution_count": 4,
      "outputs": [
        {
          "output_type": "stream",
          "name": "stdout",
          "text": [
            "['p', 'r']\n"
          ]
        }
      ]
    },
    {
      "cell_type": "markdown",
      "source": [
        "# 4) But what if we want to match 2 letters side by side?"
      ],
      "metadata": {
        "id": "tiu5UnCa9-SO"
      }
    },
    {
      "cell_type": "code",
      "source": [
        "import re\n",
        "string = 'apple orange pear strawberry'\n",
        "regex = r'((\\w)\\2)'\n",
        "print(re.findall(regex, string))"
      ],
      "metadata": {
        "colab": {
          "base_uri": "https://localhost:8080/"
        },
        "id": "o9g1VQ-r9-_w",
        "outputId": "b4dcd045-7c0a-4e0d-f09d-39e57b7834dd"
      },
      "execution_count": 5,
      "outputs": [
        {
          "output_type": "stream",
          "name": "stdout",
          "text": [
            "[('pp', 'p'), ('rr', 'r')]\n"
          ]
        }
      ]
    },
    {
      "cell_type": "code",
      "source": [
        "import re\n",
        "string = 'apple orange pear strawberry'\n",
        "regex = r'(\\w*(\\w)\\2\\w*)'\n",
        "print(re.findall(regex, string))"
      ],
      "metadata": {
        "colab": {
          "base_uri": "https://localhost:8080/"
        },
        "id": "3HV1szXA-Cbu",
        "outputId": "8aa859dd-07ad-41b2-8343-607d6d790d60"
      },
      "execution_count": 6,
      "outputs": [
        {
          "output_type": "stream",
          "name": "stdout",
          "text": [
            "[('apple', 'p'), ('strawberry', 'r')]\n"
          ]
        }
      ]
    },
    {
      "cell_type": "code",
      "source": [
        "import re\n",
        "string = 'aaapple orange peeear pineapple'\n",
        "regex = r'(\\w*(\\w)\\2\\2\\w*)'\n",
        "print(re.findall(regex, string))"
      ],
      "metadata": {
        "colab": {
          "base_uri": "https://localhost:8080/"
        },
        "id": "Csw1mGFF-FIV",
        "outputId": "b2574e95-38cc-4a8a-e186-3165371b5688"
      },
      "execution_count": 7,
      "outputs": [
        {
          "output_type": "stream",
          "name": "stdout",
          "text": [
            "[('aaapple', 'a'), ('peeear', 'e')]\n"
          ]
        }
      ]
    },
    {
      "cell_type": "code",
      "source": [
        "import re\n",
        "string = 'aaa bab cdef hahahaha'\n",
        "regex = r'(\\w*(\\w)\\w\\2\\w*)'\n",
        "print(re.findall(regex, string))"
      ],
      "metadata": {
        "colab": {
          "base_uri": "https://localhost:8080/"
        },
        "id": "-1pGFZpJ-Jvi",
        "outputId": "735dfcaa-115e-4621-fe9f-26f995007857"
      },
      "execution_count": 8,
      "outputs": [
        {
          "output_type": "stream",
          "name": "stdout",
          "text": [
            "[('aaa', 'a'), ('bab', 'b'), ('hahahaha', 'a')]\n"
          ]
        }
      ]
    },
    {
      "cell_type": "code",
      "source": [
        "import re\n",
        "string = 'hahaha hehehe hehahe haheha'\n",
        "regex = r'(\\w*(\\w)(\\w)\\2\\3\\w*)'\n",
        "print(re.findall(regex, string))"
      ],
      "metadata": {
        "colab": {
          "base_uri": "https://localhost:8080/"
        },
        "id": "oN1rzZZK-L2M",
        "outputId": "ebd5910a-00c7-4fba-be37-bb16d798aeac"
      },
      "execution_count": 9,
      "outputs": [
        {
          "output_type": "stream",
          "name": "stdout",
          "text": [
            "[('hahaha', 'h', 'a'), ('hehehe', 'h', 'e')]\n"
          ]
        }
      ]
    }
  ]
}
