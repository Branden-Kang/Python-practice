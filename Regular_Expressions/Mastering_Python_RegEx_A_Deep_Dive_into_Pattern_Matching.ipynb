{
  "nbformat": 4,
  "nbformat_minor": 0,
  "metadata": {
    "colab": {
      "provenance": [],
      "authorship_tag": "ABX9TyNPvTG59dgjPgtKscGa9GR6"
    },
    "kernelspec": {
      "name": "python3",
      "display_name": "Python 3"
    },
    "language_info": {
      "name": "python"
    }
  },
  "cells": [
    {
      "cell_type": "markdown",
      "source": [
        "[Reference](https://towardsdatascience.com/mastering-python-regex-a-deep-dive-into-pattern-matching-2ae4fe6216fe)"
      ],
      "metadata": {
        "id": "WD20tg-RXwqi"
      }
    },
    {
      "cell_type": "code",
      "execution_count": 1,
      "metadata": {
        "colab": {
          "base_uri": "https://localhost:8080/"
        },
        "id": "QWoP0qKkXo90",
        "outputId": "99b32690-3489-4dbe-9ac1-85c6e5dfbc64"
      },
      "outputs": [
        {
          "output_type": "stream",
          "name": "stdout",
          "text": [
            "['Python', 'Python']\n"
          ]
        }
      ],
      "source": [
        "import re\n",
        "# Sample text\n",
        "text = \"Python is an amazing programming language. Python is widely used in various fields.\"\n",
        "# Find all occurrences of 'Python'\n",
        "matches = re.findall(\"Python\", text)\n",
        "# Output the matches\n",
        "print(matches)"
      ]
    },
    {
      "cell_type": "markdown",
      "source": [
        "![photo](https://miro.medium.com/v2/resize:fit:1400/0*5OMP8asLDzgWYhJG)"
      ],
      "metadata": {
        "id": "z0c2HiqQYOwW"
      }
    },
    {
      "cell_type": "markdown",
      "source": [
        "# a. re.match() Function"
      ],
      "metadata": {
        "id": "TkNHpWNkYMcM"
      }
    },
    {
      "cell_type": "code",
      "source": [
        "import re\n",
        "pattern = \"Python\"\n",
        "text = \"Python is amazing.\"\n",
        "# Check if the text starts with 'Python'\n",
        "match = re.match(pattern, text)\n",
        "# Output the result\n",
        "if match:\n",
        "    print(\"Match found:\", match.group())\n",
        "else:\n",
        "    print(\"No match found\")"
      ],
      "metadata": {
        "colab": {
          "base_uri": "https://localhost:8080/"
        },
        "id": "sc6eFU29YEOb",
        "outputId": "c587eef5-b309-49c3-cebd-0f3aa777e9f7"
      },
      "execution_count": 2,
      "outputs": [
        {
          "output_type": "stream",
          "name": "stdout",
          "text": [
            "Match found: Python\n"
          ]
        }
      ]
    },
    {
      "cell_type": "markdown",
      "source": [
        "# b. re.search() Function"
      ],
      "metadata": {
        "id": "uUp62EbIYTDx"
      }
    },
    {
      "cell_type": "code",
      "source": [
        "pattern = \"amazing\"\n",
        "text = \"Python is amazing.\"\n",
        "# Search for the pattern in the text\n",
        "match = re.search(pattern, text)\n",
        "# Output the result\n",
        "if match:\n",
        "    print(\"Match found:\", match.group())\n",
        "else:\n",
        "    print(\"No match found\")"
      ],
      "metadata": {
        "colab": {
          "base_uri": "https://localhost:8080/"
        },
        "id": "Gdv20RobYGNy",
        "outputId": "58db2dc4-9cdc-4208-ee93-0c7de144634f"
      },
      "execution_count": 3,
      "outputs": [
        {
          "output_type": "stream",
          "name": "stdout",
          "text": [
            "Match found: amazing\n"
          ]
        }
      ]
    },
    {
      "cell_type": "markdown",
      "source": [
        "# c. re.findall() Function"
      ],
      "metadata": {
        "id": "r7BFtU3YYVHw"
      }
    },
    {
      "cell_type": "code",
      "source": [
        "pattern = \"a\"\n",
        "text = \"This is an example text.\"\n",
        "# Find all occurrences of 'a' in the text\n",
        "matches = re.findall(pattern, text)\n",
        "# Output the matches\n",
        "print(matches)"
      ],
      "metadata": {
        "colab": {
          "base_uri": "https://localhost:8080/"
        },
        "id": "XeNiX7dIYUGf",
        "outputId": "c52031d9-97d5-4ecf-ea1d-12864d672bc7"
      },
      "execution_count": 4,
      "outputs": [
        {
          "output_type": "stream",
          "name": "stdout",
          "text": [
            "['a', 'a']\n"
          ]
        }
      ]
    },
    {
      "cell_type": "markdown",
      "source": [
        "# d. re.finditer() Function"
      ],
      "metadata": {
        "id": "nVoITcTRYX5D"
      }
    },
    {
      "cell_type": "code",
      "source": [
        "pattern = \"a\"\n",
        "text = \"This is an example text.\"\n",
        "# Find all occurrences of 'a' in the text\n",
        "matches = re.finditer(pattern, text)\n",
        "# Output the matches\n",
        "for match in matches:\n",
        "    print(f\"Match found at index {match.start()}: {match.group()}\")"
      ],
      "metadata": {
        "colab": {
          "base_uri": "https://localhost:8080/"
        },
        "id": "g6BFzjALYWul",
        "outputId": "358d0227-51ab-47a4-9f4a-922a2ae830fa"
      },
      "execution_count": 5,
      "outputs": [
        {
          "output_type": "stream",
          "name": "stdout",
          "text": [
            "Match found at index 8: a\n",
            "Match found at index 13: a\n"
          ]
        }
      ]
    },
    {
      "cell_type": "markdown",
      "source": [
        "# e. re.sub() Function"
      ],
      "metadata": {
        "id": "bcixpYrYYaPO"
      }
    },
    {
      "cell_type": "code",
      "source": [
        "pattern = \"Python\"\n",
        "replacement = \"Java\"\n",
        "text = \"I love Python. Python is amazing.\"\n",
        "# Replace 'Python' with 'Java'\n",
        "new_text = re.sub(pattern, replacement, text)\n",
        "# Output the new text\n",
        "print(new_text)  # Output: \"I love Java. Java is amazing.\""
      ],
      "metadata": {
        "colab": {
          "base_uri": "https://localhost:8080/"
        },
        "id": "dD73iFOEYZHh",
        "outputId": "aaa0d54f-7f83-4f0e-8668-9757dbb8201e"
      },
      "execution_count": 6,
      "outputs": [
        {
          "output_type": "stream",
          "name": "stdout",
          "text": [
            "I love Java. Java is amazing.\n"
          ]
        }
      ]
    },
    {
      "cell_type": "markdown",
      "source": [
        "f. re.findall() Function"
      ],
      "metadata": {
        "id": "WFsReorhYlOg"
      }
    },
    {
      "cell_type": "code",
      "source": [
        "import re\n",
        "pattern = \"python\"\n",
        "text = \"I love programming in python!\"\n",
        "# Find all occurrences of 'Python'\n",
        "matches = re.findall(pattern, text)\n",
        "# Output the matches\n",
        "print(matches)"
      ],
      "metadata": {
        "colab": {
          "base_uri": "https://localhost:8080/"
        },
        "id": "vsytjBhCYbjy",
        "outputId": "2df4b120-eda7-4c83-a122-120fa6074613"
      },
      "execution_count": 7,
      "outputs": [
        {
          "output_type": "stream",
          "name": "stdout",
          "text": [
            "['python']\n"
          ]
        }
      ]
    }
  ]
}
