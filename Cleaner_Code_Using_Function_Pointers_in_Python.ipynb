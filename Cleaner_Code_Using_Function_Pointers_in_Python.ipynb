{
  "nbformat": 4,
  "nbformat_minor": 0,
  "metadata": {
    "colab": {
      "name": "Cleaner Code Using Function Pointers in Python.ipynb",
      "provenance": [],
      "authorship_tag": "ABX9TyNWvrGckguJndWMxpEcXAtd"
    },
    "kernelspec": {
      "name": "python3",
      "display_name": "Python 3"
    },
    "language_info": {
      "name": "python"
    }
  },
  "cells": [
    {
      "cell_type": "markdown",
      "source": [
        "[Reference](https://d-hanshew.medium.com/cleaner-code-using-function-pointers-in-python-75c49f04b6f2)"
      ],
      "metadata": {
        "id": "I5tEEhg0_3wa"
      }
    },
    {
      "cell_type": "code",
      "execution_count": 1,
      "metadata": {
        "colab": {
          "base_uri": "https://localhost:8080/"
        },
        "id": "l1CEPpGB_2lw",
        "outputId": "c0be7fe0-4fbc-4b7b-c94b-722aed7f01fc"
      },
      "outputs": [
        {
          "output_type": "execute_result",
          "data": {
            "text/plain": [
              "True"
            ]
          },
          "metadata": {},
          "execution_count": 1
        }
      ],
      "source": [
        "def my_func():\n",
        "    pass\n",
        "\n",
        "isinstance(my_func, object)"
      ]
    },
    {
      "cell_type": "code",
      "source": [
        "def check_int(string):\n",
        "    return string.isnumeric()\n",
        "def check_is_palindrome(string):\n",
        "    return string == string[::-1]\n",
        "def check_sum_of_letters_is_420(string):\n",
        "    return sum(ord(c) for c in string) == 420\n",
        "def check_all(string):\n",
        "    if check_int(string):\n",
        "        return \"Its a number\"\n",
        "    \n",
        "    elif check_is_palindrome(string):\n",
        "        return \"It's a palindrome\"\n",
        "    \n",
        "    elif check_sum_of_letters_is_420(string):\n",
        "        return \"Kush king\"\n",
        "    \n",
        "    return \"the string is useless to me\"\n",
        "print(check_all('15'))\n",
        "print(check_all('abba'))\n",
        "print(check_all('xxx<'))\n",
        "print(check_all('useless'))"
      ],
      "metadata": {
        "colab": {
          "base_uri": "https://localhost:8080/"
        },
        "id": "JjtImAa5_7td",
        "outputId": "2efff98e-5df9-4e42-db95-3ea7efd4d7b9"
      },
      "execution_count": 2,
      "outputs": [
        {
          "output_type": "stream",
          "name": "stdout",
          "text": [
            "Its a number\n",
            "It's a palindrome\n",
            "Kush king\n",
            "the string is useless to me\n"
          ]
        }
      ]
    },
    {
      "cell_type": "code",
      "source": [
        "def check_int(string):\n",
        "    return string.isnumeric()\n",
        "def check_is_palindrome(string):\n",
        "    return string == string[::-1]\n",
        "def check_sum_of_letters_is_420(string):\n",
        "    return sum(ord(c) for c in string) == 420\n",
        "def check_all(string):\n",
        "    checks = [\n",
        "        {\n",
        "            'func': check_int,\n",
        "            'return': \"Its a number\"\n",
        "        },\n",
        "        {\n",
        "            'func': check_is_palindrome,\n",
        "            'return': \"It's a palindrome\"\n",
        "        },\n",
        "        {\n",
        "            'func': check_sum_of_letters_is_420,\n",
        "            'return': \"Kush king\"\n",
        "        }\n",
        "    ]\n",
        "    for check in checks:\n",
        "        func = check['func']\n",
        "        if func(string):\n",
        "            return check['return']\n",
        "    return \"the string is useless to me\"\n",
        "print(check_all('15'))\n",
        "print(check_all('abba'))\n",
        "print(check_all('xxx<'))\n",
        "print(check_all('useless'))"
      ],
      "metadata": {
        "colab": {
          "base_uri": "https://localhost:8080/"
        },
        "id": "dz5wzD3y_9ik",
        "outputId": "fad41816-05ab-4e9d-eefc-a0453692b5fc"
      },
      "execution_count": 3,
      "outputs": [
        {
          "output_type": "stream",
          "name": "stdout",
          "text": [
            "Its a number\n",
            "It's a palindrome\n",
            "Kush king\n",
            "the string is useless to me\n"
          ]
        }
      ]
    }
  ]
}