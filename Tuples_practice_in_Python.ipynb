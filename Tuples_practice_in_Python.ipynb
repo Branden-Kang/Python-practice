{
  "nbformat": 4,
  "nbformat_minor": 0,
  "metadata": {
    "colab": {
      "name": "Tuples practice in Python.ipynb",
      "provenance": [],
      "authorship_tag": "ABX9TyOQk1kIGMLSarDrehWtS9hA"
    },
    "kernelspec": {
      "name": "python3",
      "display_name": "Python 3"
    }
  },
  "cells": [
    {
      "cell_type": "markdown",
      "metadata": {
        "id": "K5IjHBp5fdeF"
      },
      "source": [
        "[Reference](https://levelup.gitconnected.com/learning-python-tuples-b1972bcb8570)"
      ]
    },
    {
      "cell_type": "code",
      "metadata": {
        "colab": {
          "base_uri": "https://localhost:8080/"
        },
        "id": "Ot19j7aGeyI8",
        "outputId": "86a37909-0c78-4453-ddc1-4f23a34c4d8a"
      },
      "source": [
        "letters = 'a', 'b', 'c', 'd', 'e'\n",
        "letters"
      ],
      "execution_count": 1,
      "outputs": [
        {
          "output_type": "execute_result",
          "data": {
            "text/plain": [
              "('a', 'b', 'c', 'd', 'e')"
            ]
          },
          "metadata": {
            "tags": []
          },
          "execution_count": 1
        }
      ]
    },
    {
      "cell_type": "code",
      "metadata": {
        "colab": {
          "base_uri": "https://localhost:8080/"
        },
        "id": "dZBA1pS5fhiL",
        "outputId": "e2bbd8a6-9375-44d3-bb73-18e521747cdb"
      },
      "source": [
        "letters = ('a', 'b', 'c', 'd','e')\n",
        "letters"
      ],
      "execution_count": 2,
      "outputs": [
        {
          "output_type": "execute_result",
          "data": {
            "text/plain": [
              "('a', 'b', 'c', 'd', 'e')"
            ]
          },
          "metadata": {
            "tags": []
          },
          "execution_count": 2
        }
      ]
    },
    {
      "cell_type": "code",
      "metadata": {
        "colab": {
          "base_uri": "https://localhost:8080/"
        },
        "id": "dNyOojwCfjky",
        "outputId": "4ccdac09-17ff-430e-87be-09f1990cfe4f"
      },
      "source": [
        "print(type(letters))"
      ],
      "execution_count": 3,
      "outputs": [
        {
          "output_type": "stream",
          "text": [
            "<class 'tuple'>\n"
          ],
          "name": "stdout"
        }
      ]
    },
    {
      "cell_type": "code",
      "metadata": {
        "colab": {
          "base_uri": "https://localhost:8080/"
        },
        "id": "txOD2fQJflIa",
        "outputId": "95e24c4d-14f3-4cb6-cfdd-b015c885dbfd"
      },
      "source": [
        "notTuple = ('z')\n",
        "print(type(notTuple))"
      ],
      "execution_count": 4,
      "outputs": [
        {
          "output_type": "stream",
          "text": [
            "<class 'str'>\n"
          ],
          "name": "stdout"
        }
      ]
    },
    {
      "cell_type": "code",
      "metadata": {
        "colab": {
          "base_uri": "https://localhost:8080/"
        },
        "id": "vX5sQAx2fnJ_",
        "outputId": "4e9d6fee-0522-4343-fdd5-6f29d775d18b"
      },
      "source": [
        "aTuple = ('y','z')\n",
        "print(type(aTuple))"
      ],
      "execution_count": 5,
      "outputs": [
        {
          "output_type": "stream",
          "text": [
            "<class 'tuple'>\n"
          ],
          "name": "stdout"
        }
      ]
    },
    {
      "cell_type": "code",
      "metadata": {
        "colab": {
          "base_uri": "https://localhost:8080/"
        },
        "id": "fzS6ordgfpAG",
        "outputId": "0f44e3de-faed-4d06-9fe6-90806e5ebf11"
      },
      "source": [
        "newTuple = tuple()\n",
        "print(type(newTuple))"
      ],
      "execution_count": 6,
      "outputs": [
        {
          "output_type": "stream",
          "text": [
            "<class 'tuple'>\n"
          ],
          "name": "stdout"
        }
      ]
    },
    {
      "cell_type": "code",
      "metadata": {
        "colab": {
          "base_uri": "https://localhost:8080/"
        },
        "id": "hp9gvUKBfsDH",
        "outputId": "e6611837-fab0-4d70-99b2-e8c9507b7ade"
      },
      "source": [
        "wordTuple = tuple(\"hello\")\n",
        "print(type(wordTuple))"
      ],
      "execution_count": 7,
      "outputs": [
        {
          "output_type": "stream",
          "text": [
            "<class 'tuple'>\n"
          ],
          "name": "stdout"
        }
      ]
    },
    {
      "cell_type": "code",
      "metadata": {
        "colab": {
          "base_uri": "https://localhost:8080/"
        },
        "id": "W64t52CkfvCs",
        "outputId": "53b8a6a5-b5e8-4c05-f833-0b44a99e613c"
      },
      "source": [
        "letters = ('a','b','c','d','e')\n",
        "print(letters[0], letters[1])"
      ],
      "execution_count": 8,
      "outputs": [
        {
          "output_type": "stream",
          "text": [
            "a b\n"
          ],
          "name": "stdout"
        }
      ]
    },
    {
      "cell_type": "code",
      "metadata": {
        "colab": {
          "base_uri": "https://localhost:8080/"
        },
        "id": "V_4J4osUfxei",
        "outputId": "27cd6911-500a-4bfd-d8ee-d756a36fbd01"
      },
      "source": [
        "letters"
      ],
      "execution_count": 11,
      "outputs": [
        {
          "output_type": "execute_result",
          "data": {
            "text/plain": [
              "('a', 'b', 'c', 'd', 'e')"
            ]
          },
          "metadata": {
            "tags": []
          },
          "execution_count": 11
        }
      ]
    },
    {
      "cell_type": "code",
      "metadata": {
        "colab": {
          "base_uri": "https://localhost:8080/"
        },
        "id": "68MmCNisfzol",
        "outputId": "30d88acd-7afe-4b1c-989a-8251a3d01e45"
      },
      "source": [
        "print(letters[2:4])"
      ],
      "execution_count": 12,
      "outputs": [
        {
          "output_type": "stream",
          "text": [
            "('c', 'd')\n"
          ],
          "name": "stdout"
        }
      ]
    },
    {
      "cell_type": "code",
      "metadata": {
        "colab": {
          "base_uri": "https://localhost:8080/"
        },
        "id": "XqV5ByKJf2Sr",
        "outputId": "6d2cde87-d107-4e06-c4c9-c2cad693ebc0"
      },
      "source": [
        "grades1 = (91, 88, 84)\n",
        "grades2 = (91, 89, 84)\n",
        "grades1 > grades2"
      ],
      "execution_count": 13,
      "outputs": [
        {
          "output_type": "execute_result",
          "data": {
            "text/plain": [
              "False"
            ]
          },
          "metadata": {
            "tags": []
          },
          "execution_count": 13
        }
      ]
    },
    {
      "cell_type": "code",
      "metadata": {
        "colab": {
          "base_uri": "https://localhost:8080/"
        },
        "id": "pxWSOtQ5f5SB",
        "outputId": "2cbbed7d-e84e-462f-f55b-132deac4b494"
      },
      "source": [
        "grades1 < grades2"
      ],
      "execution_count": 14,
      "outputs": [
        {
          "output_type": "execute_result",
          "data": {
            "text/plain": [
              "True"
            ]
          },
          "metadata": {
            "tags": []
          },
          "execution_count": 14
        }
      ]
    },
    {
      "cell_type": "code",
      "metadata": {
        "colab": {
          "base_uri": "https://localhost:8080/"
        },
        "id": "jd031zAvf7Ld",
        "outputId": "e297ee5f-7cfa-4741-f6ed-52752f8c03e7"
      },
      "source": [
        "from random import seed\n",
        "from random import randint\n",
        "\n",
        "def minMax(lyst):\n",
        "  return max(lyst), min(lyst)\n",
        "  \n",
        "numbers = []\n",
        "for i in range(1, 11):\n",
        "  numbers.append(randint(1,100))\n",
        "print(numbers)\n",
        "print(\"Max/min values:\",minMax(numbers))"
      ],
      "execution_count": 15,
      "outputs": [
        {
          "output_type": "stream",
          "text": [
            "[82, 29, 43, 4, 62, 36, 57, 24, 40, 82]\n",
            "Max/min values: (82, 4)\n"
          ],
          "name": "stdout"
        }
      ]
    },
    {
      "cell_type": "code",
      "metadata": {
        "colab": {
          "base_uri": "https://localhost:8080/"
        },
        "id": "R1NRPt-Gf_pW",
        "outputId": "635860cc-320b-4924-8aa8-df95326e895f"
      },
      "source": [
        "def sum(*numlist):\n",
        "  total = 0\n",
        "  for i in range(0, len(numlist)):\n",
        "    total += numlist[i]\n",
        "  return total\n",
        "print(sum(1,2,3))\n",
        "print(sum(1,2,3,4,5))\n",
        "print(sum(1,2,3,4,5,6,7,8,9,10))"
      ],
      "execution_count": 17,
      "outputs": [
        {
          "output_type": "stream",
          "text": [
            "6\n",
            "15\n",
            "55\n"
          ],
          "name": "stdout"
        }
      ]
    },
    {
      "cell_type": "code",
      "metadata": {
        "colab": {
          "base_uri": "https://localhost:8080/"
        },
        "id": "00LqHD7RgF3I",
        "outputId": "b012813c-ab8b-4672-d7eb-1a939e5e27a5"
      },
      "source": [
        "names = [\"Jones\",\"Smith\"]\n",
        "grades = [88,81]\n",
        "roster = zip(names, grades)\n",
        "for student in roster:\n",
        "  print(student)"
      ],
      "execution_count": 18,
      "outputs": [
        {
          "output_type": "stream",
          "text": [
            "('Jones', 88)\n",
            "('Smith', 81)\n"
          ],
          "name": "stdout"
        }
      ]
    },
    {
      "cell_type": "code",
      "metadata": {
        "colab": {
          "base_uri": "https://localhost:8080/"
        },
        "id": "XO_JVNrMgJ8f",
        "outputId": "b81e9ebb-6b48-4b4f-b51e-cc8ef0043885"
      },
      "source": [
        "grades = {'Smith':88, 'Jones':81, 'Brown':90}\n",
        "print(grades.items())"
      ],
      "execution_count": 19,
      "outputs": [
        {
          "output_type": "stream",
          "text": [
            "dict_items([('Smith', 88), ('Jones', 81), ('Brown', 90)])\n"
          ],
          "name": "stdout"
        }
      ]
    },
    {
      "cell_type": "code",
      "metadata": {
        "colab": {
          "base_uri": "https://localhost:8080/"
        },
        "id": "ngOAmmnIgO5D",
        "outputId": "e0e657bb-b3f8-482b-e291-993b2d4954d2"
      },
      "source": [
        "grades"
      ],
      "execution_count": 20,
      "outputs": [
        {
          "output_type": "execute_result",
          "data": {
            "text/plain": [
              "{'Brown': 90, 'Jones': 81, 'Smith': 88}"
            ]
          },
          "metadata": {
            "tags": []
          },
          "execution_count": 20
        }
      ]
    },
    {
      "cell_type": "code",
      "metadata": {
        "colab": {
          "base_uri": "https://localhost:8080/"
        },
        "id": "XaT3u4nYgPFF",
        "outputId": "938a5c8d-f7ff-4778-f53b-884d1eb11da3"
      },
      "source": [
        "for student,grade in grades.items():\n",
        "   print(student,\":\",grade)"
      ],
      "execution_count": 21,
      "outputs": [
        {
          "output_type": "stream",
          "text": [
            "Smith : 88\n",
            "Jones : 81\n",
            "Brown : 90\n"
          ],
          "name": "stdout"
        }
      ]
    },
    {
      "cell_type": "code",
      "metadata": {
        "colab": {
          "base_uri": "https://localhost:8080/"
        },
        "id": "Ufff_zK1gRjw",
        "outputId": "3df591b4-0759-40d4-c0a3-be6e34561271"
      },
      "source": [
        "a = 1\n",
        "b = 2\n",
        "print(\"a:\",a,\"b:\",b)\n",
        "temp = a\n",
        "a = b\n",
        "b = temp\n",
        "print(\"a:\",a,\"b:\",b)"
      ],
      "execution_count": 22,
      "outputs": [
        {
          "output_type": "stream",
          "text": [
            "a: 1 b: 2\n",
            "a: 2 b: 1\n"
          ],
          "name": "stdout"
        }
      ]
    },
    {
      "cell_type": "code",
      "metadata": {
        "colab": {
          "base_uri": "https://localhost:8080/"
        },
        "id": "OZDv4frFgUJ1",
        "outputId": "c21495f6-a050-4d5b-f033-cdbe7b60897b"
      },
      "source": [
        "a = 1\n",
        "b = 2\n",
        "print(\"a:\",a,\"b:\",b)\n",
        "a,b = b,a\n",
        "print(\"a:\",a,\"b:\",b)"
      ],
      "execution_count": 23,
      "outputs": [
        {
          "output_type": "stream",
          "text": [
            "a: 1 b: 2\n",
            "a: 2 b: 1\n"
          ],
          "name": "stdout"
        }
      ]
    },
    {
      "cell_type": "code",
      "metadata": {
        "colab": {
          "base_uri": "https://localhost:8080/"
        },
        "id": "Y3k5GX2QgWHI",
        "outputId": "2c9bbd4b-5505-467c-beaf-e28bf28181ad"
      },
      "source": [
        "from random import seed\n",
        "from random import randint\n",
        "\n",
        "numbers = []\n",
        "for i in range(1,11):\n",
        "  numbers.append(randint(1,100))\n",
        "nums = tuple(numbers)\n",
        "print(nums)\n",
        "sortedNums = sorted(nums)\n",
        "print(sortedNums)"
      ],
      "execution_count": 24,
      "outputs": [
        {
          "output_type": "stream",
          "text": [
            "(32, 88, 13, 74, 12, 37, 41, 21, 56, 7)\n",
            "[7, 12, 13, 21, 32, 37, 41, 56, 74, 88]\n"
          ],
          "name": "stdout"
        }
      ]
    },
    {
      "cell_type": "code",
      "metadata": {
        "colab": {
          "base_uri": "https://localhost:8080/"
        },
        "id": "uyEepDEbgbTG",
        "outputId": "65f939c3-2327-46b9-a48b-320e585d0264"
      },
      "source": [
        "from random import seed\n",
        "from random import randint\n",
        "\n",
        "numbers = []\n",
        "for i in range(1,11):\n",
        "  numbers.append(randint(1,100))\n",
        "nums = tuple(numbers)\n",
        "print(nums)\n",
        "sortedNums = sorted(nums)\n",
        "print(sortedNums)\n",
        "numsSorted = tuple(sortedNums)\n",
        "nums = tuple(numsSorted)\n",
        "descNums = list(reversed(nums))\n",
        "print(descNums)"
      ],
      "execution_count": 25,
      "outputs": [
        {
          "output_type": "stream",
          "text": [
            "(49, 14, 52, 72, 43, 16, 42, 94, 95, 36)\n",
            "[14, 16, 36, 42, 43, 49, 52, 72, 94, 95]\n",
            "[95, 94, 72, 52, 49, 43, 42, 36, 16, 14]\n"
          ],
          "name": "stdout"
        }
      ]
    }
  ]
}