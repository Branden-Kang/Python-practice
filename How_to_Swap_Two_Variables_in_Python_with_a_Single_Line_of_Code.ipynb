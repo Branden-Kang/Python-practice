{
  "nbformat": 4,
  "nbformat_minor": 0,
  "metadata": {
    "colab": {
      "provenance": [],
      "authorship_tag": "ABX9TyOBofpWlKYFJwD4/55nCz3E"
    },
    "kernelspec": {
      "name": "python3",
      "display_name": "Python 3"
    },
    "language_info": {
      "name": "python"
    }
  },
  "cells": [
    {
      "cell_type": "markdown",
      "source": [
        "[Reference](https://medium.com/@aliyannshaikhh/730dee89797a)"
      ],
      "metadata": {
        "id": "WRzbFpQJB6R2"
      }
    },
    {
      "cell_type": "code",
      "execution_count": 1,
      "metadata": {
        "colab": {
          "base_uri": "https://localhost:8080/"
        },
        "id": "CpWYQzbpBmKq",
        "outputId": "9db85e19-6871-46ab-f7ff-b96ee0885532"
      },
      "outputs": [
        {
          "output_type": "stream",
          "name": "stdout",
          "text": [
            "Before swap:  5 10\n",
            "After swap:  10 5\n"
          ]
        }
      ],
      "source": [
        "a = 5\n",
        "b = 10\n",
        "\n",
        "print(\"Before swap: \", a, b)\n",
        "\n",
        "a, b = b, a\n",
        "\n",
        "print(\"After swap: \", a, b)"
      ]
    }
  ]
}