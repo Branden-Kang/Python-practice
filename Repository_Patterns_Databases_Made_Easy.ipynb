{
  "nbformat": 4,
  "nbformat_minor": 0,
  "metadata": {
    "colab": {
      "name": "Repository Patterns: Databases Made Easy.ipynb",
      "provenance": [],
      "collapsed_sections": [],
      "authorship_tag": "ABX9TyM8t+xN83zVdDV2btI/7lHM"
    },
    "kernelspec": {
      "name": "python3",
      "display_name": "Python 3"
    },
    "language_info": {
      "name": "python"
    }
  },
  "cells": [
    {
      "cell_type": "markdown",
      "source": [
        "[Reference](https://itnext.io/repository-patterns-databases-made-easy-178d63855ff4)"
      ],
      "metadata": {
        "id": "ZmQsfwS4G7ew"
      }
    },
    {
      "cell_type": "code",
      "source": [
        "pip install redbird"
      ],
      "metadata": {
        "id": "5RygRDLlGwM0"
      },
      "execution_count": 1,
      "outputs": []
    },
    {
      "cell_type": "code",
      "execution_count": 2,
      "metadata": {
        "id": "RqDOiSuvGuS9"
      },
      "outputs": [],
      "source": [
        "# In-memory Repository \n",
        "from redbird.repos import MemoryRepo\n",
        "repo = MemoryRepo()\n",
        "\n",
        "# SQL Repository\n",
        "from redbird.repos import SQLRepo\n",
        "from sqlalchemy import create_engine\n",
        "repo = SQLRepo(engine=create_engine('sqlite:///path/to/database.db'), table=\"my_items\")\n",
        "\n",
        "# Mongo Repository\n",
        "from redbird.repos import MongoRepo\n",
        "repo = MongoRepo(uri=\"mongodb://127.0.0.1:27017\", database=\"mydb\", collection=\"items\")\n",
        "\n",
        "# REST API Repository\n",
        "from redbird.repos import RESTRepo\n",
        "repo = RESTRepo(url=\"https://example.com/api/items\")\n",
        "\n",
        "# CSV Repository\n",
        "from redbird.repos import CSVFileRepo\n",
        "repo = CSVFileRepo(filename=\"path/to/file.csv\", field_names=['id', 'name', 'age'])"
      ]
    },
    {
      "cell_type": "code",
      "source": [
        "# Create a Pydantic model\n",
        "from pydantic import BaseModel\n",
        "\n",
        "class MyItem(BaseModel):\n",
        "    id: str\n",
        "    name: str\n",
        "    age: int\n",
        "\n",
        "# In-memory Repository \n",
        "from redbird.repos import MemoryRepo\n",
        "repo = MemoryRepo(model=MyItem)\n",
        "\n",
        "# SQL Repository\n",
        "from redbird.repos import SQLRepo\n",
        "from sqlalchemy import create_engine\n",
        "repo = SQLRepo(model=MyItem, engine=create_engine('sqlite:///path/to/database.db'), table=\"my_items\")\n",
        "\n",
        "# Mongo Repository\n",
        "from redbird.repos import MongoRepo\n",
        "repo = MongoRepo(model=MyItem, uri=\"mongodb://127.0.0.1:27017\", database=\"mydb\", collection=\"items\")\n",
        "\n",
        "# REST API Repository\n",
        "from redbird.repos import RESTRepo\n",
        "repo = RESTRepo(model=MyItem, url=\"https://example.com/api/items\")\n",
        "\n",
        "# CSV Repository\n",
        "from redbird.repos import CSVFileRepo\n",
        "repo = CSVFileRepo(model=MyItem, filename=\"path/to/file.csv\", field_names=['id', 'name', 'age'])"
      ],
      "metadata": {
        "id": "c-Snfp-CGwp8"
      },
      "execution_count": 3,
      "outputs": []
    },
    {
      "cell_type": "code",
      "source": [
        "# Create some new items to the repo \n",
        "repo.add(Item(id=\"a\", name=\"Jack\", age=30))\n",
        "repo.add(Item(id=\"b\", name=\"John\", age=30))\n",
        "repo.add(Item(id=\"c\", name=\"James\", age=40))\n",
        "\n",
        "# Read one item from the repo\n",
        "repo.filter_by(age=30).first()\n",
        "# (returns one item)\n",
        "\n",
        "# Read multiple items from the repo\n",
        "repo.filter_by(age=30).all()\n",
        "# (returns two items)\n",
        "\n",
        "# Update (multiple) items in the repo\n",
        "repo.filter_by(name=\"James\").update(age=44)\n",
        "\n",
        "# Delete (multiple) items from the repo\n",
        "repo.filter_by(age=30).delete()"
      ],
      "metadata": {
        "id": "Vz_QYqbQGywD"
      },
      "execution_count": 4,
      "outputs": []
    }
  ]
}