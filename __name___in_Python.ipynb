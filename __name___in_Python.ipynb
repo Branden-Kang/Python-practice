{
  "nbformat": 4,
  "nbformat_minor": 0,
  "metadata": {
    "colab": {
      "name": "__name__ in Python.ipynb",
      "provenance": [],
      "authorship_tag": "ABX9TyPWBaF105ih2FStLxTMyJLC"
    },
    "kernelspec": {
      "name": "python3",
      "display_name": "Python 3"
    }
  },
  "cells": [
    {
      "cell_type": "markdown",
      "metadata": {
        "id": "8yLtuGOapysx"
      },
      "source": [
        "[Reference](https://medium.com/free-code-camp/whats-in-a-python-s-name-506262fe61e8)"
      ]
    },
    {
      "cell_type": "code",
      "metadata": {
        "colab": {
          "base_uri": "https://localhost:8080/"
        },
        "id": "OfiP2Rhwpsrm",
        "outputId": "6366847a-ec75-493d-f9f7-df861eba11c4"
      },
      "source": [
        "def myFunction():\n",
        "    print('The value of __name__ is ' + __name__)\n",
        "\n",
        "def main():\n",
        "    myFunction()\n",
        "\n",
        "if __name__ == '__main__':\n",
        "    main()"
      ],
      "execution_count": 3,
      "outputs": [
        {
          "output_type": "stream",
          "text": [
            "The value of __name__ is __main__\n"
          ],
          "name": "stdout"
        }
      ]
    }
  ]
}