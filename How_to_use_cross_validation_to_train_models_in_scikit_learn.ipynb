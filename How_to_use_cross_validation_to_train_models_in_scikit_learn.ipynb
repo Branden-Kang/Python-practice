{
  "nbformat": 4,
  "nbformat_minor": 0,
  "metadata": {
    "colab": {
      "provenance": [],
      "authorship_tag": "ABX9TyNV04o9RIyb2z5O1L4Xrq0b"
    },
    "kernelspec": {
      "name": "python3",
      "display_name": "Python 3"
    },
    "language_info": {
      "name": "python"
    }
  },
  "cells": [
    {
      "cell_type": "markdown",
      "source": [
        "[Reference](https://medium.com/@johnidouglasmarangon/%EF%B8%8F-how-to-use-cross-validation-to-train-models-in-scikit-learn-f94518de8e2d)"
      ],
      "metadata": {
        "id": "-xQeWnE6U-wq"
      }
    },
    {
      "cell_type": "code",
      "execution_count": 1,
      "metadata": {
        "colab": {
          "base_uri": "https://localhost:8080/"
        },
        "id": "2LI9UQa2UzTW",
        "outputId": "c751de5f-1083-4ef7-d7c9-62fcc366906b"
      },
      "outputs": [
        {
          "output_type": "stream",
          "name": "stdout",
          "text": [
            "['setosa' 'versicolor' 'virginica']\n"
          ]
        }
      ],
      "source": [
        "from sklearn.datasets import load_iris\n",
        "\n",
        "\n",
        "iris = load_iris()\n",
        "X, y = iris.data, iris.target\n",
        "\n",
        "print(iris.target_names)"
      ]
    },
    {
      "cell_type": "code",
      "source": [
        "from sklearn.pipeline import Pipeline\n",
        "from sklearn.preprocessing import StandardScaler\n",
        "from sklearn.decomposition import PCA\n",
        "from sklearn.tree import DecisionTreeClassifier\n",
        "\n",
        "\n",
        "pipe = Pipeline(\n",
        "  [\n",
        "      (\"scalar\", StandardScaler()),\n",
        "      (\"pca\", PCA(n_components=3)),\n",
        "      (\"estimator\", DecisionTreeClassifier()),\n",
        "  ],\n",
        "  verbose=True,\n",
        ")"
      ],
      "metadata": {
        "id": "xVQx4ck4VUy4"
      },
      "execution_count": 2,
      "outputs": []
    },
    {
      "cell_type": "code",
      "source": [
        "from sklearn.model_selection import cross_val_score\n",
        "\n",
        "\n",
        "CV = 5\n",
        "\n",
        "scoring = \"accuracy\"\n",
        "\n",
        "scores = cross_val_score(pipe, X, y, scoring=scoring, cv=CV)\n",
        "print(f\"{scoring}: %0.2f (+/- %0.2f)\" % (scores.mean(), scores.std() * 2))"
      ],
      "metadata": {
        "colab": {
          "base_uri": "https://localhost:8080/"
        },
        "id": "x72H2s_eVWQS",
        "outputId": "ac9b9589-06b7-4dd8-babf-13154f872ec0"
      },
      "execution_count": 3,
      "outputs": [
        {
          "output_type": "stream",
          "name": "stdout",
          "text": [
            "[Pipeline] ............ (step 1 of 3) Processing scalar, total=   0.0s\n",
            "[Pipeline] ............... (step 2 of 3) Processing pca, total=   0.0s\n",
            "[Pipeline] ......... (step 3 of 3) Processing estimator, total=   0.0s\n",
            "[Pipeline] ............ (step 1 of 3) Processing scalar, total=   0.0s\n",
            "[Pipeline] ............... (step 2 of 3) Processing pca, total=   0.0s\n",
            "[Pipeline] ......... (step 3 of 3) Processing estimator, total=   0.0s\n",
            "[Pipeline] ............ (step 1 of 3) Processing scalar, total=   0.0s\n",
            "[Pipeline] ............... (step 2 of 3) Processing pca, total=   0.0s\n",
            "[Pipeline] ......... (step 3 of 3) Processing estimator, total=   0.0s\n",
            "[Pipeline] ............ (step 1 of 3) Processing scalar, total=   0.0s\n",
            "[Pipeline] ............... (step 2 of 3) Processing pca, total=   0.0s\n",
            "[Pipeline] ......... (step 3 of 3) Processing estimator, total=   0.0s\n",
            "[Pipeline] ............ (step 1 of 3) Processing scalar, total=   0.0s\n",
            "[Pipeline] ............... (step 2 of 3) Processing pca, total=   0.0s\n",
            "[Pipeline] ......... (step 3 of 3) Processing estimator, total=   0.0s\n",
            "accuracy: 0.95 (+/- 0.09)\n"
          ]
        }
      ]
    },
    {
      "cell_type": "code",
      "source": [
        "import matplotlib.pyplot as plt\n",
        "import numpy as np\n",
        "\n",
        "\n",
        "folds = np.arange(1, CV + 1)\n",
        "\n",
        "plt.rc('grid', linestyle=\"-\", color='black')\n",
        "plt.scatter(x=folds, y=scores)\n",
        "plt.xticks(folds)\n",
        "\n",
        "plt.grid(True)\n",
        "\n",
        "plt.title(f\"Cross-validation scores\")\n",
        "\n",
        "plt.xlabel(\"k-fold\")\n",
        "plt.ylabel(f\"Scores [{scoring}]\")\n",
        "\n",
        "plt.show()"
      ],
      "metadata": {
        "colab": {
          "base_uri": "https://localhost:8080/",
          "height": 472
        },
        "id": "mvbbeVUeVXnB",
        "outputId": "b2ae86b1-ce89-47a0-a782-cec9520c27dd"
      },
      "execution_count": 4,
      "outputs": [
        {
          "output_type": "display_data",
          "data": {
            "text/plain": [
              "<Figure size 640x480 with 1 Axes>"
            ],
            "image/png": "[encoded data removed]"
          },
          "metadata": {}
        }
      ]
    },
    {
      "cell_type": "code",
      "source": [
        "scores = cross_val_score(pipe, X, y, scoring='f1_macro', cv=CV)\n",
        "scores"
      ],
      "metadata": {
        "colab": {
          "base_uri": "https://localhost:8080/"
        },
        "id": "E1YQJtv6VZoV",
        "outputId": "87c20ed6-35b0-4690-89bc-5dd2aae6ad3a"
      },
      "execution_count": 5,
      "outputs": [
        {
          "output_type": "stream",
          "name": "stdout",
          "text": [
            "[Pipeline] ............ (step 1 of 3) Processing scalar, total=   0.0s\n",
            "[Pipeline] ............... (step 2 of 3) Processing pca, total=   0.0s\n",
            "[Pipeline] ......... (step 3 of 3) Processing estimator, total=   0.0s\n",
            "[Pipeline] ............ (step 1 of 3) Processing scalar, total=   0.0s\n",
            "[Pipeline] ............... (step 2 of 3) Processing pca, total=   0.0s\n",
            "[Pipeline] ......... (step 3 of 3) Processing estimator, total=   0.0s\n",
            "[Pipeline] ............ (step 1 of 3) Processing scalar, total=   0.0s\n",
            "[Pipeline] ............... (step 2 of 3) Processing pca, total=   0.0s\n",
            "[Pipeline] ......... (step 3 of 3) Processing estimator, total=   0.0s\n",
            "[Pipeline] ............ (step 1 of 3) Processing scalar, total=   0.0s\n",
            "[Pipeline] ............... (step 2 of 3) Processing pca, total=   0.0s\n",
            "[Pipeline] ......... (step 3 of 3) Processing estimator, total=   0.0s\n",
            "[Pipeline] ............ (step 1 of 3) Processing scalar, total=   0.0s\n",
            "[Pipeline] ............... (step 2 of 3) Processing pca, total=   0.0s\n",
            "[Pipeline] ......... (step 3 of 3) Processing estimator, total=   0.0s\n"
          ]
        },
        {
          "output_type": "execute_result",
          "data": {
            "text/plain": [
              "array([0.96658312, 0.96658312, 0.86531987, 0.93333333, 1.        ])"
            ]
          },
          "metadata": {},
          "execution_count": 5
        }
      ]
    },
    {
      "cell_type": "code",
      "source": [
        "from sklearn.model_selection import cross_val_predict\n",
        "\n",
        "\n",
        "CV = 5\n",
        "\n",
        "y_pred = cross_val_predict(\n",
        "    pipe,\n",
        "    X,\n",
        "    y,\n",
        "    cv=CV,\n",
        ")"
      ],
      "metadata": {
        "colab": {
          "base_uri": "https://localhost:8080/"
        },
        "id": "eeGAjzhDVbyj",
        "outputId": "4d9a3e1b-56ee-41b9-9766-70f9f99f52c9"
      },
      "execution_count": 6,
      "outputs": [
        {
          "output_type": "stream",
          "name": "stdout",
          "text": [
            "[Pipeline] ............ (step 1 of 3) Processing scalar, total=   0.0s\n",
            "[Pipeline] ............... (step 2 of 3) Processing pca, total=   0.0s\n",
            "[Pipeline] ......... (step 3 of 3) Processing estimator, total=   0.0s\n",
            "[Pipeline] ............ (step 1 of 3) Processing scalar, total=   0.0s\n",
            "[Pipeline] ............... (step 2 of 3) Processing pca, total=   0.0s\n",
            "[Pipeline] ......... (step 3 of 3) Processing estimator, total=   0.0s\n",
            "[Pipeline] ............ (step 1 of 3) Processing scalar, total=   0.0s\n",
            "[Pipeline] ............... (step 2 of 3) Processing pca, total=   0.0s\n",
            "[Pipeline] ......... (step 3 of 3) Processing estimator, total=   0.0s\n",
            "[Pipeline] ............ (step 1 of 3) Processing scalar, total=   0.0s\n",
            "[Pipeline] ............... (step 2 of 3) Processing pca, total=   0.0s\n",
            "[Pipeline] ......... (step 3 of 3) Processing estimator, total=   0.0s\n",
            "[Pipeline] ............ (step 1 of 3) Processing scalar, total=   0.0s\n",
            "[Pipeline] ............... (step 2 of 3) Processing pca, total=   0.0s\n",
            "[Pipeline] ......... (step 3 of 3) Processing estimator, total=   0.0s\n"
          ]
        }
      ]
    },
    {
      "cell_type": "code",
      "source": [
        "from sklearn.metrics import confusion_matrix, ConfusionMatrixDisplay\n",
        "\n",
        "\n",
        "cm = ConfusionMatrixDisplay(confusion_matrix=confusion_matrix(y, y_pred),\n",
        "                              display_labels=iris.target_names)\n",
        "cm.plot();"
      ],
      "metadata": {
        "colab": {
          "base_uri": "https://localhost:8080/",
          "height": 455
        },
        "id": "PcjHTiWyVe6m",
        "outputId": "b1fea3b3-d908-435f-a6d1-1acbfd3a728c"
      },
      "execution_count": 7,
      "outputs": [
        {
          "output_type": "display_data",
          "data": {
            "text/plain": [
              "<Figure size 640x480 with 2 Axes>"
            ],
            "image/png": "[encoded data removed]"
          },
          "metadata": {}
        }
      ]
    },
    {
      "cell_type": "code",
      "source": [
        "from sklearn.metrics import classification_report\n",
        "\n",
        "\n",
        "print(classification_report(y, y_pred, target_names=iris.target_names))"
      ],
      "metadata": {
        "colab": {
          "base_uri": "https://localhost:8080/"
        },
        "id": "0URHFHEoVgy0",
        "outputId": "527bbd4d-f561-4c55-f4ee-171944df7a7b"
      },
      "execution_count": 8,
      "outputs": [
        {
          "output_type": "stream",
          "name": "stdout",
          "text": [
            "              precision    recall  f1-score   support\n",
            "\n",
            "      setosa       1.00      1.00      1.00        50\n",
            "  versicolor       0.92      0.92      0.92        50\n",
            "   virginica       0.92      0.92      0.92        50\n",
            "\n",
            "    accuracy                           0.95       150\n",
            "   macro avg       0.95      0.95      0.95       150\n",
            "weighted avg       0.95      0.95      0.95       150\n",
            "\n"
          ]
        }
      ]
    },
    {
      "cell_type": "code",
      "source": [
        "import pickle\n",
        "\n",
        "\n",
        "pipe.fit(X, y)\n",
        "\n",
        "with open(\"pipe.bin\", \"wb\") as f:\n",
        "    pickle.dump(pipe, f)"
      ],
      "metadata": {
        "colab": {
          "base_uri": "https://localhost:8080/"
        },
        "id": "jiHuj2LMVnfm",
        "outputId": "01a29e0d-cc09-42c8-9436-5295cd3e2f3b"
      },
      "execution_count": 9,
      "outputs": [
        {
          "output_type": "stream",
          "name": "stdout",
          "text": [
            "[Pipeline] ............ (step 1 of 3) Processing scalar, total=   0.0s\n",
            "[Pipeline] ............... (step 2 of 3) Processing pca, total=   0.0s\n",
            "[Pipeline] ......... (step 3 of 3) Processing estimator, total=   0.0s\n"
          ]
        }
      ]
    },
    {
      "cell_type": "code",
      "source": [
        "with open(\"pipe.bin\", \"rb\") as f:\n",
        "    _pipe = pickle.load(f)\n",
        "\n",
        "    X_pred = [[3, 2, 4, 0.2], [  4.7, 3, 1.3, 0.2 ]]\n",
        "\n",
        "    y_pred = _pipe.predict_proba(X_pred)\n",
        "\n",
        "    for prediction in y_pred:\n",
        "        for class_name, proba in zip(iris.target_names, prediction):\n",
        "            print(f\"{class_name}: {proba}\")\n",
        "        print(\"---\")"
      ],
      "metadata": {
        "colab": {
          "base_uri": "https://localhost:8080/"
        },
        "id": "fvndN2kyVpAh",
        "outputId": "53ce9d1b-d8fc-494e-d612-f3e16327655e"
      },
      "execution_count": 10,
      "outputs": [
        {
          "output_type": "stream",
          "name": "stdout",
          "text": [
            "setosa: 1.0\n",
            "versicolor: 0.0\n",
            "virginica: 0.0\n",
            "---\n",
            "setosa: 1.0\n",
            "versicolor: 0.0\n",
            "virginica: 0.0\n",
            "---\n"
          ]
        }
      ]
    },
    {
      "cell_type": "code",
      "source": [
        "from sklearn.pipeline import Pipeline\n",
        "from sklearn.svm import SVC\n",
        "from sklearn.feature_extraction.text import TfidfVectorizer\n",
        "from sklearn.model_selection import cross_val_score\n",
        "from sklearn.model_selection import StratifiedKFold\n",
        "import pandas as pd\n",
        "\n",
        "\n",
        "data = [\n",
        "    (\"Great for the jawbone.\", \"pos\"),\n",
        "    (\"What a waste of money and time!.\", \"neg\"),\n",
        "    (\"And the sound quality is great.\", \"pos\"),\n",
        "    (\"I advise EVERYONE DO NOT BE FOOLED!\", \"neg\"),\n",
        "    (\"The commercials are the most misleading.\", \"neg\"),\n",
        "    (\"Doesn't hold charge.\", \"neg\"),\n",
        "    (\"It has kept up very well.\", \"pos\"),\n",
        "]\n",
        "\n",
        "df = pd.DataFrame(data, columns=['text','label'])\n",
        "\n",
        "X, y = df.text, df.label\n",
        "\n",
        "pipe = Pipeline(\n",
        "    [\n",
        "        (\"vectorizer\", TfidfVectorizer()),\n",
        "        (\"classifier\", SVC(probability=True, random_state=42)),\n",
        "    ],\n",
        "    verbose=True,\n",
        ")\n",
        "\n",
        "\n",
        "n_splits = 2\n",
        "cv = StratifiedKFold(n_splits=n_splits, random_state=42, shuffle=True)\n",
        "\n",
        "scoring = \"accuracy\"\n",
        "\n",
        "scores = cross_val_score(pipe, X, y, scoring=scoring, cv=cv)\n",
        "print(f\"{scoring}: %0.2f (+/- %0.2f)\" % (scores.mean(), scores.std() * 2))"
      ],
      "metadata": {
        "colab": {
          "base_uri": "https://localhost:8080/"
        },
        "id": "iQ8QdGsBVrLS",
        "outputId": "9891b686-b95d-454c-b14a-bf5edc726987"
      },
      "execution_count": 11,
      "outputs": [
        {
          "output_type": "stream",
          "name": "stdout",
          "text": [
            "[Pipeline] ........ (step 1 of 2) Processing vectorizer, total=   0.0s\n",
            "[Pipeline] ........ (step 2 of 2) Processing classifier, total=   0.0s\n",
            "[Pipeline] ........ (step 1 of 2) Processing vectorizer, total=   0.0s\n",
            "[Pipeline] ........ (step 2 of 2) Processing classifier, total=   0.0s\n",
            "accuracy: 0.42 (+/- 0.17)\n"
          ]
        }
      ]
    },
    {
      "cell_type": "code",
      "source": [
        "import pickle\n",
        "\n",
        "\n",
        "pipe.fit(X, y)\n",
        "with open(\"model.bin\", \"wb\") as f:\n",
        "    pickle.dump(pipe, f)"
      ],
      "metadata": {
        "colab": {
          "base_uri": "https://localhost:8080/"
        },
        "id": "Qq-K7aNPVvfo",
        "outputId": "12ae8122-372b-41fa-88fd-dc74f2f075df"
      },
      "execution_count": 12,
      "outputs": [
        {
          "output_type": "stream",
          "name": "stdout",
          "text": [
            "[Pipeline] ........ (step 1 of 2) Processing vectorizer, total=   0.0s\n",
            "[Pipeline] ........ (step 2 of 2) Processing classifier, total=   0.0s\n"
          ]
        }
      ]
    }
  ]
}