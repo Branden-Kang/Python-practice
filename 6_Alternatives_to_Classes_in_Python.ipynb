{
  "nbformat": 4,
  "nbformat_minor": 0,
  "metadata": {
    "colab": {
      "name": "6 Alternatives to Classes in Python.ipynb",
      "provenance": [],
      "authorship_tag": "ABX9TyM91ui46LTcul8kn6VxnNqi"
    },
    "kernelspec": {
      "name": "python3",
      "display_name": "Python 3"
    }
  },
  "cells": [
    {
      "cell_type": "markdown",
      "metadata": {
        "id": "boYigwUqOp_l"
      },
      "source": [
        "[Reference](https://betterprogramming.pub/6-alternatives-to-classes-in-python-6ecb7206377)"
      ]
    },
    {
      "cell_type": "code",
      "metadata": {
        "id": "lGUDZaReNuZy"
      },
      "source": [
        "from typing import Optional\n",
        "\n",
        "\n",
        "class Position:\n",
        "    MIN_LATITUDE = -90\n",
        "    MAX_LATITUDE = 90\n",
        "    MIN_LONGITUDE = -180\n",
        "    MAX_LONGITUDE = 180\n",
        "\n",
        "    def __init__(\n",
        "        self, longitude: float, latitude: float, address: Optional[str] = None\n",
        "    ):\n",
        "        self.longitude = longitude\n",
        "        self.latitude = latitude\n",
        "        self.address = address\n",
        "\n",
        "    @property\n",
        "    def latitude(self) -> float:\n",
        "        \"\"\"Getter for latitude.\"\"\"\n",
        "        return self._latitude\n",
        "\n",
        "    @latitude.setter\n",
        "    def latitude(self, latitude: float) -> None:\n",
        "        \"\"\"Setter for latitude.\"\"\"\n",
        "        if not (Position.MIN_LATITUDE <= latitude <= Position.MAX_LATITUDE):\n",
        "            raise ValueError(f\"latitude was {latitude}, but has to be in [-90, 90]\")\n",
        "        self._latitude = latitude\n",
        "\n",
        "    @property\n",
        "    def longitude(self) -> float:\n",
        "        \"\"\"Getter for longitude.\"\"\"\n",
        "        return self._longitude\n",
        "\n",
        "    @longitude.setter\n",
        "    def longitude(self, longitude: float) -> None:\n",
        "        \"\"\"Setter for longitude.\"\"\"\n",
        "        if not (Position.MIN_LONGITUDE <= longitude <= Position.MAX_LONGITUDE):\n",
        "            raise ValueError(f\"longitude was {longitude}, but has to be in [-180, 180]\")\n",
        "        self._longitude = longitude\n",
        "\n",
        "\n",
        "pos1 = Position(49.0127913, 8.4231381, \"Parkstraße 17\")\n",
        "pos2 = Position(42.1238762, 9.1649964)\n",
        "\n",
        "\n",
        "def get_distance(p1: Position, p2: Position) -> float:\n",
        "    pass"
      ],
      "execution_count": 1,
      "outputs": []
    },
    {
      "cell_type": "code",
      "metadata": {
        "id": "tdotPkeSO5ra"
      },
      "source": [
        "from typing import Tuple, Optional\n",
        "pos1 = (49.0127913, 8.4231381, \"Parkstraße 17\")\n",
        "pos2 = (42.1238762, 9.1649964, None)\n",
        "def get_distance(p1: Tuple[float, float, Optional[str]],\n",
        "                 p2: Tuple[float, float, Optional[str]]) -> float:\n",
        "    pass"
      ],
      "execution_count": 2,
      "outputs": []
    },
    {
      "cell_type": "code",
      "metadata": {
        "id": "l4kH9pVeO7jp"
      },
      "source": [
        "from typing import Any, Dict\n",
        "pos1 = {\"longitude\": 49.0127913,\n",
        "        \"latitude\": 8.4231381,\n",
        "        \"address\": \"Parkstraße 17\"}\n",
        "pos2 = {\"longitude\": 42.1238762,\n",
        "        \"latitude\": 9.1649964,\n",
        "        \"address\": None}\n",
        "def get_distance(p1: Dict[str, Any],\n",
        "                 p2: Dict[str, Any]) -> float:\n",
        "    pass"
      ],
      "execution_count": 3,
      "outputs": []
    },
    {
      "cell_type": "code",
      "metadata": {
        "id": "bk_V6nMhPAe_"
      },
      "source": [
        "from collections import namedtuple\n",
        "\n",
        "attribute_names = [\"longitude\", \"latitude\", \"address\"]\n",
        "Position = namedtuple(\"Position\", attribute_names, defaults=(None,))\n",
        "\n",
        "pos1 = Position(49.0127913, 8.4231381, \"Parkstraße 17\")\n",
        "pos2 = Position(42.1238762, 9.1649964)\n",
        "\n",
        "def get_distance(p1: Position, p2: Position) -> float:\n",
        "    pass"
      ],
      "execution_count": 4,
      "outputs": []
    },
    {
      "cell_type": "code",
      "metadata": {
        "colab": {
          "base_uri": "https://localhost:8080/"
        },
        "id": "_r8S8WPLPQF1",
        "outputId": "21aa8ea7-24ab-4eed-c060-b67282a20dae"
      },
      "source": [
        "from collections import namedtuple\n",
        "Coordinates = namedtuple(\"Coordinates\", [\"x\", \"y\"])\n",
        "BMI = namedtuple(\"BMI\", [\"weight\", \"size\"])\n",
        "a = Coordinates(60, 170)\n",
        "b = BMI(60, 170)\n",
        "a\n",
        "b\n",
        "a == b"
      ],
      "execution_count": 5,
      "outputs": [
        {
          "output_type": "execute_result",
          "data": {
            "text/plain": [
              "True"
            ]
          },
          "metadata": {
            "tags": []
          },
          "execution_count": 5
        }
      ]
    },
    {
      "cell_type": "code",
      "metadata": {
        "id": "SsHhYSqlPWNa"
      },
      "source": [
        "from typing import Optional\n",
        "import attr\n",
        "\n",
        "\n",
        "@attr.s\n",
        "class Position:\n",
        "    longitude: float = attr.ib()\n",
        "    latitude: float = attr.ib()\n",
        "    address: Optional[str] = attr.ib(default=None)\n",
        "\n",
        "    @longitude.validator\n",
        "    def check_long(self, attribute, v):\n",
        "        if not (-180 <= v <= 180):\n",
        "            raise ValueError(f\"Longitude was {v}, but must be in [-180, +180]\")\n",
        "\n",
        "    @latitude.validator\n",
        "    def check_lat(self, attribute, v):\n",
        "        if not (-90 <= v <= 90):\n",
        "            raise ValueError(f\"Latitude was {v}, but must be in [-90, +90]\")\n",
        "\n",
        "\n",
        "pos1 = Position(49.0127913, 8.4231381, \"Parkstraße 17\")\n",
        "pos2 = Position(42.1238762, 9.1649964)\n",
        "\n",
        "\n",
        "def get_distance(p1: Position, p2: Position) -> float:\n",
        "    pass"
      ],
      "execution_count": 6,
      "outputs": []
    },
    {
      "cell_type": "code",
      "metadata": {
        "colab": {
          "base_uri": "https://localhost:8080/"
        },
        "id": "3V-bsp-mPh2Q",
        "outputId": "b1116fd8-ab4e-4a65-d2ae-584530332320"
      },
      "source": [
        "@attr.s\n",
        "class C(object):\n",
        "    x = attr.ib(converter=int)\n",
        "o = C(\"1\")\n",
        "o.x"
      ],
      "execution_count": 7,
      "outputs": [
        {
          "output_type": "execute_result",
          "data": {
            "text/plain": [
              "1"
            ]
          },
          "metadata": {
            "tags": []
          },
          "execution_count": 7
        }
      ]
    },
    {
      "cell_type": "code",
      "metadata": {
        "id": "fR0EbxybPrEQ"
      },
      "source": [
        "from typing import Optional\n",
        "from dataclasses import dataclass\n",
        "\n",
        "\n",
        "@dataclass\n",
        "class Position:\n",
        "    longitude: float\n",
        "    latitude: float\n",
        "    address: Optional[str] = None\n",
        "\n",
        "      \n",
        "pos1 = Position(49.0127913, 8.4231381, \"Parkstraße 17\")\n",
        "pos2 = Position(42.1238762, 9.1649964, None)\n",
        "\n",
        "\n",
        "def get_distance(p1: Position, p2: Position) -> float:\n",
        "    pass"
      ],
      "execution_count": 8,
      "outputs": []
    },
    {
      "cell_type": "code",
      "metadata": {
        "id": "cM6LRcPZP1Lq"
      },
      "source": [
        "def __post_init__(self):\n",
        "    if not (-180 <= self.longitude <= 180):\n",
        "        v = self.longitude\n",
        "        raise ValueError(f\"Longitude was {v}, but must be in [-180, +180]\")\n",
        "    if not (-90 <= self.latitude <= 90):\n",
        "        v = self.latitude\n",
        "        raise ValueError(f\"Latitude was {v}, but must be in [-90, +90]\")"
      ],
      "execution_count": 9,
      "outputs": []
    },
    {
      "cell_type": "code",
      "metadata": {
        "id": "b9e2KTK-QWpq"
      },
      "source": [
        "@dataclass\n",
        "class Position:\n",
        "    longitude: float\n",
        "    latitude: float\n",
        "    address: Optional[str] = None\n",
        "\n",
        "    @property\n",
        "    def latitude(self) -> float:\n",
        "        \"\"\"Getter for latitude.\"\"\"\n",
        "        return self._latitude\n",
        "\n",
        "    @latitude.setter\n",
        "    def latitude(self, latitude: float) -> None:\n",
        "        \"\"\"Setter for latitude.\"\"\"\n",
        "        if not (-90 <= latitude <= 90):\n",
        "            raise ValueError(f\"latitude was {latitude}, but has to be in [-90, 90]\")\n",
        "        self._latitude = latitude\n",
        "\n",
        "    @property\n",
        "    def longitude(self) -> float:\n",
        "        \"\"\"Getter for longitude.\"\"\"\n",
        "        return self._longitude\n",
        "\n",
        "    @longitude.setter\n",
        "    def longitude(self, longitude: float) -> None:\n",
        "        \"\"\"Setter for longitude.\"\"\"\n",
        "        if not (-180 <= longitude <= 180):\n",
        "            raise ValueError(f\"longitude was {longitude}, but has to be in [-180, 180]\")\n",
        "        self._longitude = longitude"
      ],
      "execution_count": 10,
      "outputs": []
    },
    {
      "cell_type": "code",
      "metadata": {
        "colab": {
          "base_uri": "https://localhost:8080/"
        },
        "id": "1Gfhgkb_QhUz",
        "outputId": "ec318885-76dc-428f-b962-5e4c82ee794f"
      },
      "source": [
        "!pip install pydantic"
      ],
      "execution_count": 13,
      "outputs": [
        {
          "output_type": "stream",
          "text": [
            "Collecting pydantic\n",
            "\u001b[?25l  Downloading https://files.pythonhosted.org/packages/2b/a3/0ffdb6c63f45f10d19b8e8b32670b22ed089cafb29732f6bf8ce518821fb/pydantic-1.8.1-cp37-cp37m-manylinux2014_x86_64.whl (10.1MB)\n",
            "\u001b[K     |████████████████████████████████| 10.1MB 5.5MB/s \n",
            "\u001b[?25hRequirement already satisfied: typing-extensions>=3.7.4.3 in /usr/local/lib/python3.7/dist-packages (from pydantic) (3.7.4.3)\n",
            "Installing collected packages: pydantic\n",
            "Successfully installed pydantic-1.8.1\n"
          ],
          "name": "stdout"
        }
      ]
    },
    {
      "cell_type": "code",
      "metadata": {
        "id": "Y7bWBLy8QZvG"
      },
      "source": [
        "from typing import Optional\n",
        "from pydantic import validator\n",
        "from pydantic.dataclasses import dataclass\n",
        "\n",
        "\n",
        "@dataclass(frozen=True)\n",
        "class Position:\n",
        "    longitude: float\n",
        "    latitude: float\n",
        "    address: Optional[str] = None\n",
        "\n",
        "    @validator(\"longitude\")\n",
        "    def longitude_value_range(cls, v):\n",
        "        if not (-180 <= v <= 180):\n",
        "            raise ValueError(f\"Longitude was {v}, but must be in [-180, +180]\")\n",
        "        return v\n",
        "\n",
        "    @validator(\"latitude\")\n",
        "    def latitude_value_range(cls, v):\n",
        "        if not (-90 <= v <= 90):\n",
        "            raise ValueError(f\"Latitude was {v}, but must be in [-90, +90]\")\n",
        "        return v\n",
        "\n",
        "\n",
        "pos1 = Position(49.0127913, 8.4231381, \"Parkstraße 17\")\n",
        "pos2 = Position(longitude=42.1238762, latitude=9.1649964)\n",
        "\n",
        "\n",
        "def get_distance(p1: Position, p2: Position) -> float:\n",
        "    pass"
      ],
      "execution_count": 14,
      "outputs": []
    },
    {
      "cell_type": "code",
      "metadata": {
        "colab": {
          "base_uri": "https://localhost:8080/"
        },
        "id": "ZA3AxHNQQb6E",
        "outputId": "5353526d-08b6-4fc9-8645-3c50b91d4b0b"
      },
      "source": [
        "from pydantic import BaseModel\n",
        "\n",
        "\n",
        "class GitlabUser(BaseModel):\n",
        "    id: int\n",
        "    username: str\n",
        "\n",
        "\n",
        "class GitlabMr(BaseModel):\n",
        "    id: int\n",
        "    squash: bool\n",
        "    web_url: str\n",
        "    title: str\n",
        "    author: GitlabUser\n",
        "\n",
        "\n",
        "mr = GitlabMr(\n",
        "    id=1,\n",
        "    squash=True,\n",
        "    web_url=\"http://foo\",\n",
        "    title=\"title\",\n",
        "    author=GitlabUser(id=42, username=\"Joe\"),\n",
        ")\n",
        "json_str = mr.json()\n",
        "print(json_str)"
      ],
      "execution_count": 15,
      "outputs": [
        {
          "output_type": "stream",
          "text": [
            "{\"id\": 1, \"squash\": true, \"web_url\": \"http://foo\", \"title\": \"title\", \"author\": {\"id\": 42, \"username\": \"Joe\"}}\n"
          ],
          "name": "stdout"
        }
      ]
    },
    {
      "cell_type": "code",
      "metadata": {
        "colab": {
          "base_uri": "https://localhost:8080/"
        },
        "id": "t__iUXKlQg2p",
        "outputId": "045c41b6-4473-4c48-b0f7-0379cf0115d5"
      },
      "source": [
        "mr = GitlabMr.parse_raw(json_str)\n",
        "mr"
      ],
      "execution_count": 16,
      "outputs": [
        {
          "output_type": "execute_result",
          "data": {
            "text/plain": [
              "GitlabMr(id=1, squash=True, web_url='http://foo', title='title', author=GitlabUser(id=42, username='Joe'))"
            ]
          },
          "metadata": {
            "tags": []
          },
          "execution_count": 16
        }
      ]
    }
  ]
}