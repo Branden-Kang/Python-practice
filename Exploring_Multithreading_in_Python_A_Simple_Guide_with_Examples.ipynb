{
  "nbformat": 4,
  "nbformat_minor": 0,
  "metadata": {
    "colab": {
      "provenance": [],
      "authorship_tag": "ABX9TyOJ1swbaezZTLxX4+uMqbie"
    },
    "kernelspec": {
      "name": "python3",
      "display_name": "Python 3"
    },
    "language_info": {
      "name": "python"
    }
  },
  "cells": [
    {
      "cell_type": "markdown",
      "source": [
        "[Reference](https://code.likeagirl.io/exploring-multithreading-in-python-a-simple-guide-with-examples-b974433270e7)"
      ],
      "metadata": {
        "id": "mWYj27vJBYXl"
      }
    },
    {
      "cell_type": "code",
      "execution_count": 2,
      "metadata": {
        "id": "mCuSfT0IA3yx"
      },
      "outputs": [],
      "source": [
        "import threading\n",
        "import requests\n",
        "from PIL import Image\n",
        "from io import BytesIO\n",
        "\n",
        "# List of image URLs to download\n",
        "image_urls = [\n",
        "    \"https://example.com/image1.jpg\",\n",
        "    \"https://example.com/image2.jpg\",\n",
        "    \"https://example.com/image3.jpg\",\n",
        "    # Add more URLs here\n",
        "]\n",
        "# Function to download an image from a URL\n",
        "def download_image(url):\n",
        "    response = requests.get(url)\n",
        "    image = Image.open(BytesIO(response.content))\n",
        "    image.save(f\"{url.split('/')[-1]}.jpg\")\n",
        "    print(f\"Downloaded: {url}\")\n",
        "# Create thread objects\n",
        "threads = []\n",
        "for url in image_urls:\n",
        "    thread = threading.Thread(target=download_image, args=(url,))\n",
        "    threads.append(thread)\n",
        "    thread.start()\n",
        "# Wait for all threads to finish\n",
        "for thread in threads:\n",
        "    thread.join()\n",
        "print(\"All downloads completed.\")"
      ]
    }
  ]
}