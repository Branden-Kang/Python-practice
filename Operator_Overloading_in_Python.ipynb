{
  "nbformat": 4,
  "nbformat_minor": 0,
  "metadata": {
    "colab": {
      "name": "Operator Overloading in Python.ipynb",
      "provenance": [],
      "authorship_tag": "ABX9TyOfOBTPtQg+1VPRbITYqiJS"
    },
    "kernelspec": {
      "name": "python3",
      "display_name": "Python 3"
    }
  },
  "cells": [
    {
      "cell_type": "markdown",
      "metadata": {
        "id": "v5_DSrPT4KDr",
        "colab_type": "text"
      },
      "source": [
        "[Reference](https://towardsdatascience.com/make-your-python-code-fluent-7ee2dd7c9ae3)"
      ]
    },
    {
      "cell_type": "code",
      "metadata": {
        "id": "joqt9KHJ4C8a",
        "colab_type": "code",
        "colab": {
          "base_uri": "https://localhost:8080/",
          "height": 34
        },
        "outputId": "70418b16-657a-4249-d173-894dcc0093a5"
      },
      "source": [
        "# Addition of 2D point coordinates with\n",
        "# + operator overloading\n",
        "class Point2D:\n",
        " def __init__(self, x, y):\n",
        "  self.x = x\n",
        "  self.y = y# adding two points\n",
        " def __add__(self, other):\n",
        "  return self.x + other.x, self.y + other.y\n",
        " def __str__(self):\n",
        "  return self.x, self.y\n",
        "  \n",
        "point1 = Point2D(5, 4)\n",
        "point2 = Point2D(6, 1)\n",
        "point3 = point1 + point2\n",
        "\n",
        "print(point3)"
      ],
      "execution_count": 7,
      "outputs": [
        {
          "output_type": "stream",
          "text": [
            "(11, 5)\n"
          ],
          "name": "stdout"
        }
      ]
    },
    {
      "cell_type": "code",
      "metadata": {
        "id": "ImJUHw1A5jUg",
        "colab_type": "code",
        "colab": {
          "base_uri": "https://localhost:8080/",
          "height": 34
        },
        "outputId": "acac77c6-6e39-4001-bc0b-836f3dbc9868"
      },
      "source": [
        "class Names:\n",
        "  def __init__(self, name, country):\n",
        "    self.name = list(name)\n",
        "    self.country = country\n",
        "  def __len__(self):\n",
        "    return len(self.name)\n",
        "\n",
        "obj1 = Names(['Amy', 'Harper', 'James'], 'UK')\n",
        "print(len(obj1))"
      ],
      "execution_count": 8,
      "outputs": [
        {
          "output_type": "stream",
          "text": [
            "3\n"
          ],
          "name": "stdout"
        }
      ]
    },
    {
      "cell_type": "code",
      "metadata": {
        "id": "EVd1vYT35_04",
        "colab_type": "code",
        "colab": {
          "base_uri": "https://localhost:8080/",
          "height": 156
        },
        "outputId": "1bb40e7f-b823-4b96-c94e-dc3c6872150e"
      },
      "source": [
        "import math\n",
        "!pip install multipledispatch\n",
        "from multipledispatch import dispatch\n",
        "\n",
        "@dispatch(int,int)\n",
        "def triangle_area(base, height):\n",
        " return (base*height)/2\n",
        " \n",
        "@dispatch(int,int,int)\n",
        "def triangle_area(a_side, b_side, c_side):\n",
        " s = (a_side + b_side + c_side) / 2\n",
        " return math.sqrt(s * (s-a_side) * (s-b_side) * (s-c_side))\n",
        " \n",
        "area1 = triangle_area (10,14)\n",
        "area2 = triangle_area (5,5,5)\n",
        "\n",
        "print(\"Area1: {}\".format(area1))\n",
        "print(\"Area2: {}\".format(area2))"
      ],
      "execution_count": 11,
      "outputs": [
        {
          "output_type": "stream",
          "text": [
            "Collecting multipledispatch\n",
            "  Downloading https://files.pythonhosted.org/packages/89/79/429ecef45fd5e4504f7474d4c3c3c4668c267be3370e4c2fd33e61506833/multipledispatch-0.6.0-py3-none-any.whl\n",
            "Requirement already satisfied: six in /usr/local/lib/python3.6/dist-packages (from multipledispatch) (1.15.0)\n",
            "Installing collected packages: multipledispatch\n",
            "Successfully installed multipledispatch-0.6.0\n",
            "Area1: 70.0\n",
            "Area2: 10.825317547305483\n"
          ],
          "name": "stdout"
        }
      ]
    }
  ]
}