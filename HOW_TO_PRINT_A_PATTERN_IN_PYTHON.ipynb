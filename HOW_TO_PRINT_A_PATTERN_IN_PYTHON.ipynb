{
  "nbformat": 4,
  "nbformat_minor": 0,
  "metadata": {
    "colab": {
      "name": "HOW TO PRINT A PATTERN IN PYTHON.ipynb",
      "provenance": [],
      "authorship_tag": "ABX9TyNnz1LsEW1FFSrvy1NKTTMd"
    },
    "kernelspec": {
      "name": "python3",
      "display_name": "Python 3"
    },
    "language_info": {
      "name": "python"
    }
  },
  "cells": [
    {
      "cell_type": "markdown",
      "metadata": {
        "id": "SwuefwlxHc-e"
      },
      "source": [
        "[Reference](https://akshaykumarak5253.medium.com/how-to-print-a-pattern-in-python-9b6fd592b1f5)"
      ]
    },
    {
      "cell_type": "code",
      "metadata": {
        "colab": {
          "base_uri": "https://localhost:8080/"
        },
        "id": "JKvt6AkxHWIH",
        "outputId": "f564fdbf-1663-4015-c080-38d9e99233aa"
      },
      "source": [
        "rows = int(input(\"Enter number of rows: \"))\n",
        "\n",
        "ascii_value = 65\n",
        "\n",
        "for i in range(rows):\n",
        "    for j in range(i+1):\n",
        "        alphabet = chr(ascii_value)\n",
        "        print(alphabet, end=\" \")\n",
        "    \n",
        "    ascii_value += 1\n",
        "    print(\"\\n\")"
      ],
      "execution_count": 1,
      "outputs": [
        {
          "output_type": "stream",
          "name": "stdout",
          "text": [
            "Enter number of rows: 10\n",
            "A \n",
            "\n",
            "B B \n",
            "\n",
            "C C C \n",
            "\n",
            "D D D D \n",
            "\n",
            "E E E E E \n",
            "\n",
            "F F F F F F \n",
            "\n",
            "G G G G G G G \n",
            "\n",
            "H H H H H H H H \n",
            "\n",
            "I I I I I I I I I \n",
            "\n",
            "J J J J J J J J J J \n",
            "\n"
          ]
        }
      ]
    }
  ]
}