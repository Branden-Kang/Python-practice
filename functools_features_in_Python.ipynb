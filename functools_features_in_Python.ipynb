{
  "nbformat": 4,
  "nbformat_minor": 0,
  "metadata": {
    "colab": {
      "name": "functools features in Python.ipynb",
      "provenance": [],
      "collapsed_sections": [],
      "authorship_tag": "ABX9TyNzKZEt0f9KUvIGkrkZ8xtv"
    },
    "kernelspec": {
      "name": "python3",
      "display_name": "Python 3"
    },
    "language_info": {
      "name": "python"
    }
  },
  "cells": [
    {
      "cell_type": "markdown",
      "source": [
        "[Reference](https://vivekhere.medium.com/amazing-functools-features-in-python-3130684a9c37)"
      ],
      "metadata": {
        "id": "5GMFoW6QCSwJ"
      }
    },
    {
      "cell_type": "markdown",
      "source": [
        "# lru_cache\n"
      ],
      "metadata": {
        "id": "lbatdsG7CVM2"
      }
    },
    {
      "cell_type": "code",
      "execution_count": 1,
      "metadata": {
        "colab": {
          "base_uri": "https://localhost:8080/"
        },
        "id": "ef0agp6tCQel",
        "outputId": "8f308b36-ab9f-4593-f134-07009e6d38dd"
      },
      "outputs": [
        {
          "output_type": "stream",
          "name": "stdout",
          "text": [
            "33\n",
            "33\n",
            "6.01288914680481\n"
          ]
        }
      ],
      "source": [
        "import time\n",
        "\n",
        "start = time.time()\n",
        "def a_heavy_operation():\n",
        "    time.sleep(3)\n",
        "    return 11 + 22\n",
        "\n",
        "\n",
        "print(a_heavy_operation())\n",
        "print(a_heavy_operation())\n",
        "\n",
        "print(time.time() - start)"
      ]
    },
    {
      "cell_type": "code",
      "source": [
        "import time\n",
        "from functools import lru_cache\n",
        "\n",
        "start = time.time()\n",
        "\n",
        "\n",
        "@lru_cache()\n",
        "def a_heavy_operation():\n",
        "    time.sleep(3)\n",
        "    return 11 + 22\n",
        "\n",
        "\n",
        "print(a_heavy_operation())\n",
        "print(a_heavy_operation())\n",
        "\n",
        "print(time.time() - start)"
      ],
      "metadata": {
        "colab": {
          "base_uri": "https://localhost:8080/"
        },
        "id": "GsoD0YZsCWcF",
        "outputId": "a1c965ce-a57d-4fcb-fb55-06dea747a2de"
      },
      "execution_count": 2,
      "outputs": [
        {
          "output_type": "stream",
          "name": "stdout",
          "text": [
            "33\n",
            "33\n",
            "3.004498243331909\n"
          ]
        }
      ]
    },
    {
      "cell_type": "markdown",
      "source": [
        "# wraps"
      ],
      "metadata": {
        "id": "rdKV3VjNCYSr"
      }
    },
    {
      "cell_type": "code",
      "source": [
        "from functools import lru_cache\n",
        "\n",
        "def my_decorator(func):\n",
        "    def log(*args, **kwargs):\n",
        "        print(\"Running \")\n",
        "        return func(*args, *kwargs)\n",
        "\n",
        "    return log\n",
        "\n",
        "@my_decorator\n",
        "def add(a, b):\n",
        "    \"\"\"my beautiful doc\"\"\"\n",
        "    return a + b"
      ],
      "metadata": {
        "id": "3-dnrxt8CXdc"
      },
      "execution_count": 3,
      "outputs": []
    },
    {
      "cell_type": "code",
      "source": [
        "add(1,2)"
      ],
      "metadata": {
        "colab": {
          "base_uri": "https://localhost:8080/"
        },
        "id": "bSxgGzM0CZrc",
        "outputId": "27ce9db5-8214-45d2-cdd5-754e2e68ebc0"
      },
      "execution_count": 4,
      "outputs": [
        {
          "output_type": "stream",
          "name": "stdout",
          "text": [
            "Running \n"
          ]
        },
        {
          "output_type": "execute_result",
          "data": {
            "text/plain": [
              "3"
            ]
          },
          "metadata": {},
          "execution_count": 4
        }
      ]
    },
    {
      "cell_type": "code",
      "source": [
        "add(3,4)"
      ],
      "metadata": {
        "colab": {
          "base_uri": "https://localhost:8080/"
        },
        "id": "ONK0AlSfCbl4",
        "outputId": "8d06a3ff-28be-43e6-c0eb-c2a53a3a8c32"
      },
      "execution_count": 5,
      "outputs": [
        {
          "output_type": "stream",
          "name": "stdout",
          "text": [
            "Running \n"
          ]
        },
        {
          "output_type": "execute_result",
          "data": {
            "text/plain": [
              "7"
            ]
          },
          "metadata": {},
          "execution_count": 5
        }
      ]
    },
    {
      "cell_type": "code",
      "source": [
        "add.__name__"
      ],
      "metadata": {
        "colab": {
          "base_uri": "https://localhost:8080/",
          "height": 37
        },
        "id": "g3W4wnIhCb6h",
        "outputId": "2f7b61bd-ad44-47cb-bfda-db5d6a3fbcb4"
      },
      "execution_count": 6,
      "outputs": [
        {
          "output_type": "execute_result",
          "data": {
            "text/plain": [
              "'log'"
            ],
            "application/vnd.google.colaboratory.intrinsic+json": {
              "type": "string"
            }
          },
          "metadata": {},
          "execution_count": 6
        }
      ]
    },
    {
      "cell_type": "code",
      "source": [
        "add.__doc__"
      ],
      "metadata": {
        "id": "vegFC9RTCdAH"
      },
      "execution_count": 7,
      "outputs": []
    },
    {
      "cell_type": "code",
      "source": [
        "from functools import wraps\n",
        "\n",
        "def my_decorator(func):\n",
        "    @wraps(func)\n",
        "    def log(*args, **kwargs):\n",
        "        print(\"Running \")\n",
        "        return func(*args, *kwargs)\n",
        "\n",
        "    return log\n",
        "\n",
        "\n",
        "@my_decorator\n",
        "def add(a, b):\n",
        "    \"\"\"my beautiful doc\"\"\"\n",
        "    return a + b"
      ],
      "metadata": {
        "id": "qHywCtgnCdzm"
      },
      "execution_count": 8,
      "outputs": []
    },
    {
      "cell_type": "code",
      "source": [
        "add(1,2) "
      ],
      "metadata": {
        "colab": {
          "base_uri": "https://localhost:8080/"
        },
        "id": "1_x3C6--Ce_Y",
        "outputId": "88906e36-8f74-4371-8300-d4bfd07a2f6f"
      },
      "execution_count": 9,
      "outputs": [
        {
          "output_type": "stream",
          "name": "stdout",
          "text": [
            "Running \n"
          ]
        },
        {
          "output_type": "execute_result",
          "data": {
            "text/plain": [
              "3"
            ]
          },
          "metadata": {},
          "execution_count": 9
        }
      ]
    },
    {
      "cell_type": "code",
      "source": [
        "add.__name__"
      ],
      "metadata": {
        "colab": {
          "base_uri": "https://localhost:8080/",
          "height": 37
        },
        "id": "Gf-KKgMqCgRp",
        "outputId": "ced7a9db-aa12-41e3-d788-aaf67b5ad272"
      },
      "execution_count": 10,
      "outputs": [
        {
          "output_type": "execute_result",
          "data": {
            "text/plain": [
              "'add'"
            ],
            "application/vnd.google.colaboratory.intrinsic+json": {
              "type": "string"
            }
          },
          "metadata": {},
          "execution_count": 10
        }
      ]
    },
    {
      "cell_type": "code",
      "source": [
        "add.__doc__"
      ],
      "metadata": {
        "colab": {
          "base_uri": "https://localhost:8080/",
          "height": 37
        },
        "id": "MZxjcSUECgp8",
        "outputId": "95ec95db-3465-4db8-ee3e-73c3b75b264f"
      },
      "execution_count": 11,
      "outputs": [
        {
          "output_type": "execute_result",
          "data": {
            "text/plain": [
              "'my beautiful doc'"
            ],
            "application/vnd.google.colaboratory.intrinsic+json": {
              "type": "string"
            }
          },
          "metadata": {},
          "execution_count": 11
        }
      ]
    },
    {
      "cell_type": "markdown",
      "source": [
        "# singledispatch"
      ],
      "metadata": {
        "id": "ZMeJHLpmCiK6"
      }
    },
    {
      "cell_type": "code",
      "source": [
        "def return_first_element(data):\n",
        "    if isinstance(data, list):\n",
        "        print(data[0])\n",
        "    elif isinstance(data, str):\n",
        "        print(data.split()[0])\n",
        "    elif isinstance(data, dict):\n",
        "        print(list(data.values())[0] )\n",
        "    else:\n",
        "        print(print(data))"
      ],
      "metadata": {
        "id": "HTrjNIEQChdE"
      },
      "execution_count": 12,
      "outputs": []
    },
    {
      "cell_type": "code",
      "source": [
        "return_first_element({\"Age\":20, \"Height\": 180})"
      ],
      "metadata": {
        "colab": {
          "base_uri": "https://localhost:8080/"
        },
        "id": "xFgxMHDMCjgj",
        "outputId": "62b6631d-4fea-4c5f-ecb9-086f94f7edb6"
      },
      "execution_count": 13,
      "outputs": [
        {
          "output_type": "stream",
          "name": "stdout",
          "text": [
            "20\n"
          ]
        }
      ]
    },
    {
      "cell_type": "code",
      "source": [
        "return_first_element(\"Hello Mr Python\")"
      ],
      "metadata": {
        "colab": {
          "base_uri": "https://localhost:8080/"
        },
        "id": "P3BPRX0YClLe",
        "outputId": "5307e939-7a03-450e-ab2b-0d50c2e636bb"
      },
      "execution_count": 14,
      "outputs": [
        {
          "output_type": "stream",
          "name": "stdout",
          "text": [
            "Hello\n"
          ]
        }
      ]
    },
    {
      "cell_type": "code",
      "source": [
        "return_first_element([12,432,563])"
      ],
      "metadata": {
        "colab": {
          "base_uri": "https://localhost:8080/"
        },
        "id": "F65YxZzECmHS",
        "outputId": "9dbf6db2-e7d7-424b-a720-9aef007e7e04"
      },
      "execution_count": 15,
      "outputs": [
        {
          "output_type": "stream",
          "name": "stdout",
          "text": [
            "12\n"
          ]
        }
      ]
    },
    {
      "cell_type": "code",
      "source": [
        "from functools import singledispatch\n",
        "\n",
        "@singledispatch\n",
        "def return_first_el(data):\n",
        "    return data\n",
        "\n",
        "\n",
        "@return_first_el.register(list)\n",
        "def _(data):\n",
        "    return data[0]\n",
        "\n",
        "\n",
        "@return_first_el.register(dict)\n",
        "def _(data):\n",
        "    return list(data.values())[0]\n",
        "\n",
        "\n",
        "@return_first_el.register(str)\n",
        "def _(data):\n",
        "    return data.split()[0]"
      ],
      "metadata": {
        "id": "sqcepRV1CnLb"
      },
      "execution_count": 16,
      "outputs": []
    },
    {
      "cell_type": "code",
      "source": [
        "return_first_el({\"Age\":20, \"Height\": 180}) "
      ],
      "metadata": {
        "colab": {
          "base_uri": "https://localhost:8080/"
        },
        "id": "jxBq0Yj9CoRc",
        "outputId": "6fe3182a-9cc1-497b-b42e-f36cf4f16df0"
      },
      "execution_count": 17,
      "outputs": [
        {
          "output_type": "execute_result",
          "data": {
            "text/plain": [
              "20"
            ]
          },
          "metadata": {},
          "execution_count": 17
        }
      ]
    },
    {
      "cell_type": "code",
      "source": [
        "return_first_el(\"Hello Mr Python\")      "
      ],
      "metadata": {
        "colab": {
          "base_uri": "https://localhost:8080/",
          "height": 37
        },
        "id": "8upWe0kICpgV",
        "outputId": "163c33eb-9c6e-4a3a-e33d-92a6e223b623"
      },
      "execution_count": 18,
      "outputs": [
        {
          "output_type": "execute_result",
          "data": {
            "text/plain": [
              "'Hello'"
            ],
            "application/vnd.google.colaboratory.intrinsic+json": {
              "type": "string"
            }
          },
          "metadata": {},
          "execution_count": 18
        }
      ]
    },
    {
      "cell_type": "code",
      "source": [
        "return_first_el([124, 765, 897])"
      ],
      "metadata": {
        "colab": {
          "base_uri": "https://localhost:8080/"
        },
        "id": "INjtEe-WCqUJ",
        "outputId": "89f61bd4-e179-46e8-8da3-8014fc8721ed"
      },
      "execution_count": 19,
      "outputs": [
        {
          "output_type": "execute_result",
          "data": {
            "text/plain": [
              "124"
            ]
          },
          "metadata": {},
          "execution_count": 19
        }
      ]
    },
    {
      "cell_type": "code",
      "source": [
        "return_first_el({12,31,1})"
      ],
      "metadata": {
        "colab": {
          "base_uri": "https://localhost:8080/"
        },
        "id": "-1KoD24SCrCE",
        "outputId": "aeb61757-0440-4ede-bc59-e5afe2085f4f"
      },
      "execution_count": 20,
      "outputs": [
        {
          "output_type": "execute_result",
          "data": {
            "text/plain": [
              "{1, 12, 31}"
            ]
          },
          "metadata": {},
          "execution_count": 20
        }
      ]
    },
    {
      "cell_type": "markdown",
      "source": [
        "# total_ordering\n"
      ],
      "metadata": {
        "id": "ZnM56ujeCtAW"
      }
    },
    {
      "cell_type": "code",
      "source": [
        "class Man:\n",
        "    def __init__(self, name, age):\n",
        "        self.name = name\n",
        "        self.age = age\n",
        "\n",
        "    def __eq__(self, o):\n",
        "        return self.age == o.age\n",
        "\n",
        "    def __lt__(self, o):\n",
        "        return self.age < o.age"
      ],
      "metadata": {
        "id": "kQZZP3h2CsPK"
      },
      "execution_count": 21,
      "outputs": []
    },
    {
      "cell_type": "code",
      "source": [
        "obj = Man(\"Vivek\", 20)\n",
        "obj2 = Man(\"Alex\", 24) "
      ],
      "metadata": {
        "id": "ETiM9HgWCuIr"
      },
      "execution_count": 22,
      "outputs": []
    },
    {
      "cell_type": "code",
      "source": [
        "obj = obj"
      ],
      "metadata": {
        "id": "ZvfTt9ftCv0X"
      },
      "execution_count": 23,
      "outputs": []
    },
    {
      "cell_type": "code",
      "source": [
        "obj == obj2"
      ],
      "metadata": {
        "colab": {
          "base_uri": "https://localhost:8080/"
        },
        "id": "G8-LQzqNCxKM",
        "outputId": "b04ff1ba-a010-4e1c-f856-4d701dac0e43"
      },
      "execution_count": 24,
      "outputs": [
        {
          "output_type": "execute_result",
          "data": {
            "text/plain": [
              "False"
            ]
          },
          "metadata": {},
          "execution_count": 24
        }
      ]
    },
    {
      "cell_type": "code",
      "source": [
        "obj < obj2"
      ],
      "metadata": {
        "colab": {
          "base_uri": "https://localhost:8080/"
        },
        "id": "kBRBwesLCyFw",
        "outputId": "f91d680f-f797-43d5-9093-b143584272c0"
      },
      "execution_count": 25,
      "outputs": [
        {
          "output_type": "execute_result",
          "data": {
            "text/plain": [
              "True"
            ]
          },
          "metadata": {},
          "execution_count": 25
        }
      ]
    },
    {
      "cell_type": "code",
      "source": [
        "obj >= obj2"
      ],
      "metadata": {
        "colab": {
          "base_uri": "https://localhost:8080/",
          "height": 164
        },
        "id": "vaW4vACfCyzs",
        "outputId": "6d5d76da-be08-4ec1-9aee-91f2abefe385"
      },
      "execution_count": 26,
      "outputs": [
        {
          "output_type": "error",
          "ename": "TypeError",
          "evalue": "ignored",
          "traceback": [
            "\u001b[0;31m---------------------------------------------------------------------------\u001b[0m",
            "\u001b[0;31mTypeError\u001b[0m                                 Traceback (most recent call last)",
            "\u001b[0;32m<ipython-input-26-64a032e54d4f>\u001b[0m in \u001b[0;36m<module>\u001b[0;34m()\u001b[0m\n\u001b[0;32m----> 1\u001b[0;31m \u001b[0mobj\u001b[0m \u001b[0;34m>=\u001b[0m \u001b[0mobj2\u001b[0m\u001b[0;34m\u001b[0m\u001b[0;34m\u001b[0m\u001b[0m\n\u001b[0m",
            "\u001b[0;31mTypeError\u001b[0m: '>=' not supported between instances of 'Man' and 'Man'"
          ]
        }
      ]
    },
    {
      "cell_type": "markdown",
      "source": [
        "It didn’t work when we used an operator that wasn’t defined in the class"
      ],
      "metadata": {
        "id": "OhJuLlFuDEMN"
      }
    },
    {
      "cell_type": "code",
      "source": [
        "from functools import total_ordering\n",
        "\n",
        "@total_ordering\n",
        "class Man:\n",
        "    def __init__(self, name, age):\n",
        "        self.name = name\n",
        "        self.age = age\n",
        "\n",
        "    def __eq__(self, o):\n",
        "        return self.age == o.age\n",
        "\n",
        "    def __lt__(self, o):\n",
        "        return self.age < o.age"
      ],
      "metadata": {
        "id": "QAjTf3RBC91U"
      },
      "execution_count": 27,
      "outputs": []
    },
    {
      "cell_type": "code",
      "source": [
        "o = Man(\"Vivek\", 20)"
      ],
      "metadata": {
        "id": "-Fx6l83PCz-2"
      },
      "execution_count": 28,
      "outputs": []
    },
    {
      "cell_type": "code",
      "source": [
        "b = Man(\"Alex\", 24) "
      ],
      "metadata": {
        "id": "aFsxg-ggC35M"
      },
      "execution_count": 29,
      "outputs": []
    },
    {
      "cell_type": "code",
      "source": [
        "o == b"
      ],
      "metadata": {
        "colab": {
          "base_uri": "https://localhost:8080/"
        },
        "id": "HQd5vO1bC4I3",
        "outputId": "cc7b1002-e387-4301-8923-a3967c92099b"
      },
      "execution_count": 30,
      "outputs": [
        {
          "output_type": "execute_result",
          "data": {
            "text/plain": [
              "False"
            ]
          },
          "metadata": {},
          "execution_count": 30
        }
      ]
    },
    {
      "cell_type": "code",
      "source": [
        "o >= b "
      ],
      "metadata": {
        "colab": {
          "base_uri": "https://localhost:8080/"
        },
        "id": "oeCrASaIC4zY",
        "outputId": "731172a9-6b95-4ce2-c78e-11f4cf20501e"
      },
      "execution_count": 31,
      "outputs": [
        {
          "output_type": "execute_result",
          "data": {
            "text/plain": [
              "False"
            ]
          },
          "metadata": {},
          "execution_count": 31
        }
      ]
    },
    {
      "cell_type": "code",
      "source": [
        "o <= b"
      ],
      "metadata": {
        "colab": {
          "base_uri": "https://localhost:8080/"
        },
        "id": "Gkercrm6C52-",
        "outputId": "f4820aa5-3fcd-4bcd-b1f3-38439c891933"
      },
      "execution_count": 32,
      "outputs": [
        {
          "output_type": "execute_result",
          "data": {
            "text/plain": [
              "True"
            ]
          },
          "metadata": {},
          "execution_count": 32
        }
      ]
    }
  ]
}