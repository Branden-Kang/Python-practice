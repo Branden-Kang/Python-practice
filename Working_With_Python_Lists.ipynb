{
  "nbformat": 4,
  "nbformat_minor": 0,
  "metadata": {
    "colab": {
      "name": "Working With Python Lists.ipynb",
      "provenance": [],
      "authorship_tag": "ABX9TyOG7uut/YjZMN4luL4Z7gHp"
    },
    "kernelspec": {
      "name": "python3",
      "display_name": "Python 3"
    }
  },
  "cells": [
    {
      "cell_type": "markdown",
      "metadata": {
        "id": "efCC-XfDDySE"
      },
      "source": [
        "[Reference](https://medium.com/dataseries/working-with-python-lists-8c1ef5204529)"
      ]
    },
    {
      "cell_type": "code",
      "metadata": {
        "colab": {
          "base_uri": "https://localhost:8080/"
        },
        "id": "HsFzDBRmDxOy",
        "outputId": "1a4499ed-d958-4b34-8d02-6013780c3282"
      },
      "source": [
        "fruits = ['apple', 'orange', 'grape', 'pear']\n",
        "'banana' in fruits"
      ],
      "execution_count": 1,
      "outputs": [
        {
          "output_type": "execute_result",
          "data": {
            "text/plain": [
              "False"
            ]
          },
          "metadata": {
            "tags": []
          },
          "execution_count": 1
        }
      ]
    },
    {
      "cell_type": "code",
      "metadata": {
        "colab": {
          "base_uri": "https://localhost:8080/"
        },
        "id": "EQBfBbHbD2bA",
        "outputId": "bcb49c49-66f0-4409-cb45-fd45da8592f5"
      },
      "source": [
        "'banana' not in fruits"
      ],
      "execution_count": 2,
      "outputs": [
        {
          "output_type": "execute_result",
          "data": {
            "text/plain": [
              "True"
            ]
          },
          "metadata": {
            "tags": []
          },
          "execution_count": 2
        }
      ]
    },
    {
      "cell_type": "code",
      "metadata": {
        "id": "uwQUrAUpD30b"
      },
      "source": [
        "apple, orange, grape, pear = ['apple', 'orange', 'grape', 'pear']"
      ],
      "execution_count": 3,
      "outputs": []
    },
    {
      "cell_type": "code",
      "metadata": {
        "colab": {
          "base_uri": "https://localhost:8080/"
        },
        "id": "YNCvDi7vD5ZD",
        "outputId": "e4cc1c7b-d61e-4751-bf18-4288226269ae"
      },
      "source": [
        "fruits = ['apple', 'orange', 'grape', 'pear'] \n",
        "for index, fruit in enumerate(fruits):\n",
        "  print('%s %s' % (index, fruit))"
      ],
      "execution_count": 4,
      "outputs": [
        {
          "output_type": "stream",
          "text": [
            "0 apple\n",
            "1 orange\n",
            "2 grape\n",
            "3 pear\n"
          ],
          "name": "stdout"
        }
      ]
    },
    {
      "cell_type": "code",
      "metadata": {
        "id": "UtBVhkEeD7h4"
      },
      "source": [
        "import random\n",
        "fruits = ['apple', 'orange', 'grape', 'pear'] \n",
        "choice = random.choice(fruits)"
      ],
      "execution_count": 5,
      "outputs": []
    },
    {
      "cell_type": "code",
      "metadata": {
        "colab": {
          "base_uri": "https://localhost:8080/",
          "height": 37
        },
        "id": "lNb2ub8lD9lT",
        "outputId": "ebced19d-31f3-4b8b-c293-154f3562f21d"
      },
      "source": [
        "choice"
      ],
      "execution_count": 6,
      "outputs": [
        {
          "output_type": "execute_result",
          "data": {
            "application/vnd.google.colaboratory.intrinsic+json": {
              "type": "string"
            },
            "text/plain": [
              "'orange'"
            ]
          },
          "metadata": {
            "tags": []
          },
          "execution_count": 6
        }
      ]
    },
    {
      "cell_type": "code",
      "metadata": {
        "id": "fToxx-pnD-SG"
      },
      "source": [
        "import random\n",
        "fruits = ['apple', 'orange', 'grape', 'pear'] \n",
        "random.shuffle(fruits)"
      ],
      "execution_count": 7,
      "outputs": []
    },
    {
      "cell_type": "code",
      "metadata": {
        "colab": {
          "base_uri": "https://localhost:8080/"
        },
        "id": "fRbjvI1CEAc4",
        "outputId": "23ae513c-0ddb-49d1-aa34-5eb1671d33f4"
      },
      "source": [
        "fruits"
      ],
      "execution_count": 8,
      "outputs": [
        {
          "output_type": "execute_result",
          "data": {
            "text/plain": [
              "['apple', 'grape', 'pear', 'orange']"
            ]
          },
          "metadata": {
            "tags": []
          },
          "execution_count": 8
        }
      ]
    },
    {
      "cell_type": "code",
      "metadata": {
        "colab": {
          "base_uri": "https://localhost:8080/"
        },
        "id": "SmpORrEKECT7",
        "outputId": "b00cd566-a35a-4a2b-bf5d-ec39ab45201e"
      },
      "source": [
        "fruits = ['apple'] * 3\n",
        "fruits"
      ],
      "execution_count": 10,
      "outputs": [
        {
          "output_type": "execute_result",
          "data": {
            "text/plain": [
              "['apple', 'apple', 'apple']"
            ]
          },
          "metadata": {
            "tags": []
          },
          "execution_count": 10
        }
      ]
    },
    {
      "cell_type": "code",
      "metadata": {
        "id": "aUIKNyhyEHVh"
      },
      "source": [
        "fruits = ['apple', 'orange', 'grape', 'pear']\n",
        "apple_index = fruits.index('apple')"
      ],
      "execution_count": 11,
      "outputs": []
    },
    {
      "cell_type": "code",
      "metadata": {
        "colab": {
          "base_uri": "https://localhost:8080/",
          "height": 215
        },
        "id": "mdg8rSF_EKYy",
        "outputId": "fef3bda1-f4a0-4d52-d9e8-62669485852f"
      },
      "source": [
        "fruits = ['apple', 'orange', 'grape', 'pear']\n",
        "foo_index = fruits.index('foo')"
      ],
      "execution_count": 12,
      "outputs": [
        {
          "output_type": "error",
          "ename": "ValueError",
          "evalue": "ignored",
          "traceback": [
            "\u001b[0;31m---------------------------------------------------------------------------\u001b[0m",
            "\u001b[0;31mValueError\u001b[0m                                Traceback (most recent call last)",
            "\u001b[0;32m<ipython-input-12-5229919864f3>\u001b[0m in \u001b[0;36m<module>\u001b[0;34m()\u001b[0m\n\u001b[1;32m      1\u001b[0m \u001b[0mfruits\u001b[0m \u001b[0;34m=\u001b[0m \u001b[0;34m[\u001b[0m\u001b[0;34m'apple'\u001b[0m\u001b[0;34m,\u001b[0m \u001b[0;34m'orange'\u001b[0m\u001b[0;34m,\u001b[0m \u001b[0;34m'grape'\u001b[0m\u001b[0;34m,\u001b[0m \u001b[0;34m'pear'\u001b[0m\u001b[0;34m]\u001b[0m\u001b[0;34m\u001b[0m\u001b[0;34m\u001b[0m\u001b[0m\n\u001b[0;32m----> 2\u001b[0;31m \u001b[0mfoo_index\u001b[0m \u001b[0;34m=\u001b[0m \u001b[0mfruits\u001b[0m\u001b[0;34m.\u001b[0m\u001b[0mindex\u001b[0m\u001b[0;34m(\u001b[0m\u001b[0;34m'foo'\u001b[0m\u001b[0;34m)\u001b[0m\u001b[0;34m\u001b[0m\u001b[0;34m\u001b[0m\u001b[0m\n\u001b[0m",
            "\u001b[0;31mValueError\u001b[0m: 'foo' is not in list"
          ]
        }
      ]
    },
    {
      "cell_type": "code",
      "metadata": {
        "id": "2EmcHrBUELwi"
      },
      "source": [
        "fruits = ['apple', 'orange', 'grape', 'pear']\n",
        "fruits.append('banana')"
      ],
      "execution_count": 13,
      "outputs": []
    },
    {
      "cell_type": "code",
      "metadata": {
        "id": "WJkT8h0_ENJ7"
      },
      "source": [
        "fruits = ['apple', 'orange', 'grape', 'pear']\n",
        "fruits.insert(1, 'banana')"
      ],
      "execution_count": 14,
      "outputs": []
    },
    {
      "cell_type": "code",
      "metadata": {
        "id": "vlIU3Rz_EOrZ"
      },
      "source": [
        "fruits = ['apple', 'orange', 'grape', 'pear']\n",
        "fruits.remove('apple')"
      ],
      "execution_count": 14,
      "outputs": []
    },
    {
      "cell_type": "code",
      "metadata": {
        "id": "1kqJT35eESeC"
      },
      "source": [
        "fruits = ['apple', 'orange', 'orange', 'grape', 'pear']\n",
        "fruits.remove('orange')"
      ],
      "execution_count": 15,
      "outputs": []
    }
  ]
}