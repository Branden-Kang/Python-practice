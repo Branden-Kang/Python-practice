{
  "nbformat": 4,
  "nbformat_minor": 0,
  "metadata": {
    "colab": {
      "name": "The Most Used Feature Selection Methods.ipynb",
      "provenance": [],
      "authorship_tag": "ABX9TyMIQjFTS8ftB9o1wlx4LcJC"
    },
    "kernelspec": {
      "name": "python3",
      "display_name": "Python 3"
    },
    "language_info": {
      "name": "python"
    }
  },
  "cells": [
    {
      "cell_type": "markdown",
      "source": [
        "[Reference](https://towardsdev.com/the-most-used-feature-selection-methods-c117273759f8)\n"
      ],
      "metadata": {
        "id": "Ju6DdIGVbABN"
      }
    },
    {
      "cell_type": "markdown",
      "source": [
        "# Univariate Selection Method\n"
      ],
      "metadata": {
        "id": "1B3MmoVKbD63"
      }
    },
    {
      "cell_type": "code",
      "execution_count": 1,
      "metadata": {
        "colab": {
          "base_uri": "https://localhost:8080/",
          "height": 204
        },
        "id": "5xJTrAGha9i1",
        "outputId": "c7345b6a-fc79-46cb-e4a5-bbf575cb10b3"
      },
      "outputs": [
        {
          "output_type": "execute_result",
          "data": {
            "text/plain": [
              "   sepal_length  sepal_width  petal_length  petal_width species\n",
              "0           5.1          3.5           1.4          0.2  setosa\n",
              "1           4.9          3.0           1.4          0.2  setosa\n",
              "2           4.7          3.2           1.3          0.2  setosa\n",
              "3           4.6          3.1           1.5          0.2  setosa\n",
              "4           5.0          3.6           1.4          0.2  setosa"
            ],
            "text/html": [
              "\n",
              "  <div id=\"df-8ce5cdfd-dde1-4173-91b6-de1db0034e69\">\n",
              "    <div class=\"colab-df-container\">\n",
              "      <div>\n",
              "<style scoped>\n",
              "    .dataframe tbody tr th:only-of-type {\n",
              "        vertical-align: middle;\n",
              "    }\n",
              "\n",
              "    .dataframe tbody tr th {\n",
              "        vertical-align: top;\n",
              "    }\n",
              "\n",
              "    .dataframe thead th {\n",
              "        text-align: right;\n",
              "    }\n",
              "</style>\n",
              "<table border=\"1\" class=\"dataframe\">\n",
              "  <thead>\n",
              "    <tr style=\"text-align: right;\">\n",
              "      <th></th>\n",
              "      <th>sepal_length</th>\n",
              "      <th>sepal_width</th>\n",
              "      <th>petal_length</th>\n",
              "      <th>petal_width</th>\n",
              "      <th>species</th>\n",
              "    </tr>\n",
              "  </thead>\n",
              "  <tbody>\n",
              "    <tr>\n",
              "      <th>0</th>\n",
              "      <td>5.1</td>\n",
              "      <td>3.5</td>\n",
              "      <td>1.4</td>\n",
              "      <td>0.2</td>\n",
              "      <td>setosa</td>\n",
              "    </tr>\n",
              "    <tr>\n",
              "      <th>1</th>\n",
              "      <td>4.9</td>\n",
              "      <td>3.0</td>\n",
              "      <td>1.4</td>\n",
              "      <td>0.2</td>\n",
              "      <td>setosa</td>\n",
              "    </tr>\n",
              "    <tr>\n",
              "      <th>2</th>\n",
              "      <td>4.7</td>\n",
              "      <td>3.2</td>\n",
              "      <td>1.3</td>\n",
              "      <td>0.2</td>\n",
              "      <td>setosa</td>\n",
              "    </tr>\n",
              "    <tr>\n",
              "      <th>3</th>\n",
              "      <td>4.6</td>\n",
              "      <td>3.1</td>\n",
              "      <td>1.5</td>\n",
              "      <td>0.2</td>\n",
              "      <td>setosa</td>\n",
              "    </tr>\n",
              "    <tr>\n",
              "      <th>4</th>\n",
              "      <td>5.0</td>\n",
              "      <td>3.6</td>\n",
              "      <td>1.4</td>\n",
              "      <td>0.2</td>\n",
              "      <td>setosa</td>\n",
              "    </tr>\n",
              "  </tbody>\n",
              "</table>\n",
              "</div>\n",
              "      <button class=\"colab-df-convert\" onclick=\"convertToInteractive('df-8ce5cdfd-dde1-4173-91b6-de1db0034e69')\"\n",
              "              title=\"Convert this dataframe to an interactive table.\"\n",
              "              style=\"display:none;\">\n",
              "        \n",
              "  <svg xmlns=\"http://www.w3.org/2000/svg\" height=\"24px\"viewBox=\"0 0 24 24\"\n",
              "       width=\"24px\">\n",
              "    <path d=\"M0 0h24v24H0V0z\" fill=\"none\"/>\n",
              "    <path d=\"M18.56 5.44l.94 2.06.94-2.06 2.06-.94-2.06-.94-.94-2.06-.94 2.06-2.06.94zm-11 1L8.5 8.5l.94-2.06 2.06-.94-2.06-.94L8.5 2.5l-.94 2.06-2.06.94zm10 10l.94 2.06.94-2.06 2.06-.94-2.06-.94-.94-2.06-.94 2.06-2.06.94z\"/><path d=\"M17.41 7.96l-1.37-1.37c-.4-.4-.92-.59-1.43-.59-.52 0-1.04.2-1.43.59L10.3 9.45l-7.72 7.72c-.78.78-.78 2.05 0 2.83L4 21.41c.39.39.9.59 1.41.59.51 0 1.02-.2 1.41-.59l7.78-7.78 2.81-2.81c.8-.78.8-2.07 0-2.86zM5.41 20L4 18.59l7.72-7.72 1.47 1.35L5.41 20z\"/>\n",
              "  </svg>\n",
              "      </button>\n",
              "      \n",
              "  <style>\n",
              "    .colab-df-container {\n",
              "      display:flex;\n",
              "      flex-wrap:wrap;\n",
              "      gap: 12px;\n",
              "    }\n",
              "\n",
              "    .colab-df-convert {\n",
              "      background-color: #E8F0FE;\n",
              "      border: none;\n",
              "      border-radius: 50%;\n",
              "      cursor: pointer;\n",
              "      display: none;\n",
              "      fill: #1967D2;\n",
              "      height: 32px;\n",
              "      padding: 0 0 0 0;\n",
              "      width: 32px;\n",
              "    }\n",
              "\n",
              "    .colab-df-convert:hover {\n",
              "      background-color: #E2EBFA;\n",
              "      box-shadow: 0px 1px 2px rgba(60, 64, 67, 0.3), 0px 1px 3px 1px rgba(60, 64, 67, 0.15);\n",
              "      fill: #174EA6;\n",
              "    }\n",
              "\n",
              "    [theme=dark] .colab-df-convert {\n",
              "      background-color: #3B4455;\n",
              "      fill: #D2E3FC;\n",
              "    }\n",
              "\n",
              "    [theme=dark] .colab-df-convert:hover {\n",
              "      background-color: #434B5C;\n",
              "      box-shadow: 0px 1px 3px 1px rgba(0, 0, 0, 0.15);\n",
              "      filter: drop-shadow(0px 1px 2px rgba(0, 0, 0, 0.3));\n",
              "      fill: #FFFFFF;\n",
              "    }\n",
              "  </style>\n",
              "\n",
              "      <script>\n",
              "        const buttonEl =\n",
              "          document.querySelector('#df-8ce5cdfd-dde1-4173-91b6-de1db0034e69 button.colab-df-convert');\n",
              "        buttonEl.style.display =\n",
              "          google.colab.kernel.accessAllowed ? 'block' : 'none';\n",
              "\n",
              "        async function convertToInteractive(key) {\n",
              "          const element = document.querySelector('#df-8ce5cdfd-dde1-4173-91b6-de1db0034e69');\n",
              "          const dataTable =\n",
              "            await google.colab.kernel.invokeFunction('convertToInteractive',\n",
              "                                                     [key], {});\n",
              "          if (!dataTable) return;\n",
              "\n",
              "          const docLinkHtml = 'Like what you see? Visit the ' +\n",
              "            '<a target=\"_blank\" href=https://colab.research.google.com/notebooks/data_table.ipynb>data table notebook</a>'\n",
              "            + ' to learn more about interactive tables.';\n",
              "          element.innerHTML = '';\n",
              "          dataTable['output_type'] = 'display_data';\n",
              "          await google.colab.output.renderOutput(dataTable, element);\n",
              "          const docLink = document.createElement('div');\n",
              "          docLink.innerHTML = docLinkHtml;\n",
              "          element.appendChild(docLink);\n",
              "        }\n",
              "      </script>\n",
              "    </div>\n",
              "  </div>\n",
              "  "
            ]
          },
          "metadata": {},
          "execution_count": 1
        }
      ],
      "source": [
        "import seaborn as sns\n",
        "from sklearn.feature_selection import SelectKBest\n",
        "from sklearn.feature_selection import mutual_info_classif,mutual_info_regression,f_classif\n",
        "from sklearn.preprocessing import LabelEncoder\n",
        "df_iris = sns.load_dataset('iris')\n",
        "df_iris.head()"
      ]
    },
    {
      "cell_type": "code",
      "source": [
        "#extract X features and y target\n",
        "X = df_iris[[\"sepal_length\",\"sepal_width\",\"petal_length\",\"petal_width\"]].values\n",
        "y = df_iris[[\"species\"]].values\n",
        "#SelectKBest can't work with str classes, it should be label encoded.\n",
        "le = LabelEncoder()\n",
        "y_encoded = le.fit_transform(y)"
      ],
      "metadata": {
        "colab": {
          "base_uri": "https://localhost:8080/"
        },
        "id": "OHqYJLGnbGMf",
        "outputId": "296c9a0c-74bf-4820-e67a-d9b447a2a6f2"
      },
      "execution_count": 2,
      "outputs": [
        {
          "output_type": "stream",
          "name": "stderr",
          "text": [
            "/usr/local/lib/python3.7/dist-packages/sklearn/preprocessing/_label.py:115: DataConversionWarning: A column-vector y was passed when a 1d array was expected. Please change the shape of y to (n_samples, ), for example using ravel().\n",
            "  y = column_or_1d(y, warn=True)\n"
          ]
        }
      ]
    },
    {
      "cell_type": "code",
      "source": [
        "selection_params = {\"score_func\":f_classif,\n",
        "                   \"k\":2}\n",
        "selection = SelectKBest(**selection_params).fit(X,y_encoded)\n",
        "X_new = selection.transform(X)\n",
        "mask = selection.get_support()\n",
        "df_iris_features = df_iris.iloc[:,:-1]\n",
        "features = df_iris_features.iloc[:,mask].columns\n",
        "print(\"Scores: {}\".format(selection.scores_))\n",
        "print(\"P Values: {}\".format(selection.pvalues_))\n",
        "print(\"Number Of Features Seen in Fit: {}\".format(selection.n_features_in_))\n",
        "print(\"Feature Names: {}\".format(features))"
      ],
      "metadata": {
        "colab": {
          "base_uri": "https://localhost:8080/"
        },
        "id": "jiL4seD5bHbF",
        "outputId": "de133127-ab68-4a50-ac33-7e84ed683dd8"
      },
      "execution_count": 3,
      "outputs": [
        {
          "output_type": "stream",
          "name": "stdout",
          "text": [
            "Scores: [ 119.26450218   49.16004009 1180.16118225  960.0071468 ]\n",
            "P Values: [1.66966919e-31 4.49201713e-17 2.85677661e-91 4.16944584e-85]\n",
            "Number Of Features Seen in Fit: 4\n",
            "Feature Names: Index(['petal_length', 'petal_width'], dtype='object')\n"
          ]
        }
      ]
    },
    {
      "cell_type": "markdown",
      "source": [
        "# Recursive Feature Elimination RFE\n"
      ],
      "metadata": {
        "id": "HS5s4f0dbVES"
      }
    },
    {
      "cell_type": "code",
      "source": [
        "from sklearn.datasets import fetch_california_housing\n",
        "# Load data (will download the data if it's the first time loading)\n",
        "d = fetch_california_housing(as_frame=True)\n",
        "# Create a dataframe\n",
        "df_house = d['data'].join(d['target'])\n",
        "X = df_house.iloc[:,:8].values\n",
        "y =  df_house[[\"MedHouseVal\"]].values"
      ],
      "metadata": {
        "id": "4zUR9DjNbJQF"
      },
      "execution_count": 4,
      "outputs": []
    },
    {
      "cell_type": "code",
      "source": [
        "from sklearn.feature_selection import RFE\n",
        "from sklearn.linear_model import LinearRegression\n",
        "estimator = LinearRegression()\n",
        "selection_params = {\"estimator\":estimator,\n",
        "                   \"n_features_to_select\":2,\n",
        "                   \"step\":1,\n",
        "                   \"verbose\":0}\n",
        "selector = RFE(**selection_params).fit(X,y)\n",
        "print(\"Estimator: {}\".format(selector.estimator_))\n",
        "print(\"Selected N Features: {}\".format(selector.n_features_))\n",
        "print(\"N Features In: {}\".format(selector.n_features_in_))\n",
        "print(\"Ranking: {}\".format(selector.ranking_))\n",
        "print(\"Mask: {}\".format(selector.support_))"
      ],
      "metadata": {
        "colab": {
          "base_uri": "https://localhost:8080/"
        },
        "id": "zPp-7a9gbYGQ",
        "outputId": "6eafb893-68a4-497d-bce7-e2142e38b182"
      },
      "execution_count": 5,
      "outputs": [
        {
          "output_type": "stream",
          "name": "stdout",
          "text": [
            "Estimator: LinearRegression()\n",
            "Selected N Features: 2\n",
            "N Features In: 8\n",
            "Ranking: [2 5 4 3 7 6 1 1]\n",
            "Mask: [False False False False False False  True  True]\n"
          ]
        }
      ]
    },
    {
      "cell_type": "markdown",
      "source": [
        "# Select From Model"
      ],
      "metadata": {
        "id": "nPbkQm5VbZ2O"
      }
    },
    {
      "cell_type": "code",
      "source": [
        "from sklearn.feature_selection import SelectFromModel\n",
        "from sklearn.linear_model import Lasso\n",
        "estimator = Lasso()\n",
        "selection_params = {\"estimator\":estimator,\n",
        "                   \"threshold\":0.5,\n",
        "                   \"max_features\":2,\n",
        "                   }\n",
        "selector = SelectFromModel(**selection_params).fit(X,y)\n",
        "print(\"Estimator: {}\".format(selector.estimator_.coef_))\n",
        "print(\"Threshold: {}\".format(selector.threshold_))"
      ],
      "metadata": {
        "colab": {
          "base_uri": "https://localhost:8080/"
        },
        "id": "X3HQfjGmbYUn",
        "outputId": "95e8fc48-ed5e-4116-ca1e-f64ac5ca4f87"
      },
      "execution_count": 6,
      "outputs": [
        {
          "output_type": "stream",
          "name": "stdout",
          "text": [
            "Estimator: [ 1.45469232e-01  5.81496884e-03  0.00000000e+00 -0.00000000e+00\n",
            " -6.37292607e-06 -0.00000000e+00 -0.00000000e+00 -0.00000000e+00]\n",
            "Threshold: 0.5\n"
          ]
        }
      ]
    },
    {
      "cell_type": "markdown",
      "source": [
        "# Variance Threshold"
      ],
      "metadata": {
        "id": "GNcNojg7benX"
      }
    },
    {
      "cell_type": "code",
      "source": [
        "from sklearn.feature_selection import VarianceThreshold\n",
        "selector = VarianceThreshold().fit(X,y)\n",
        "print(\"Variances: {}\".format(selector.variances_))"
      ],
      "metadata": {
        "colab": {
          "base_uri": "https://localhost:8080/"
        },
        "id": "MdiliLOHbdsy",
        "outputId": "f9e4cd4f-54dd-4dcd-f270-5e5ff8ec5858"
      },
      "execution_count": 7,
      "outputs": [
        {
          "output_type": "stream",
          "name": "stdout",
          "text": [
            "Variances: [3.60914769e+00 5.10000000e+01 6.12123614e+00 2.24580619e-01\n",
            " 3.56790000e+04 1.07864799e+02 4.56207160e+00 4.01394488e+00]\n"
          ]
        }
      ]
    },
    {
      "cell_type": "markdown",
      "source": [
        "# Sequential Feature Selection (SFS)\n"
      ],
      "metadata": {
        "id": "097f5cC0bzi4"
      }
    },
    {
      "cell_type": "code",
      "source": [
        "from sklearn.feature_selection import SequentialFeatureSelector\n",
        "# SFS uses a greedy algorithm to find best subset of features. It can go both ways, forward or backward. In case of forward, it starts with zero feature and finds the one which maximize a cross-validates score. It keeps adding new features with same procedure until it reaches maximum feature volume which defined initially by user. Backward direction follows the opposite procedure, it starts with all features and remove them. The difference of SFS is that it does not need feature importance. "
      ],
      "metadata": {
        "id": "NWGJgvKBb0Y9"
      },
      "execution_count": 10,
      "outputs": []
    },
    {
      "cell_type": "markdown",
      "source": [
        "# Exhaustive Feature Selection\n"
      ],
      "metadata": {
        "id": "KqcgqBdObsq6"
      }
    },
    {
      "cell_type": "code",
      "source": [
        "from mlxtend.feature_selection import ExhaustiveFeatureSelector\n",
        "# Simple, it tries all subset combinations of features. Very exhaustive.,"
      ],
      "metadata": {
        "id": "slL213KMbs8G"
      },
      "execution_count": 9,
      "outputs": []
    }
  ]
}