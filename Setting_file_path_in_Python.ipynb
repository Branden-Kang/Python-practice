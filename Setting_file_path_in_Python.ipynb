{
  "nbformat": 4,
  "nbformat_minor": 0,
  "metadata": {
    "colab": {
      "name": "Setting file path in Python.ipynb",
      "provenance": [],
      "authorship_tag": "ABX9TyNSPA1NnTvPySNxB7ZZJzgS"
    },
    "kernelspec": {
      "name": "python3",
      "display_name": "Python 3"
    }
  },
  "cells": [
    {
      "cell_type": "markdown",
      "metadata": {
        "id": "R9rTR4-gzcaS"
      },
      "source": [
        "[Reference](https://codeburst.io/overcoming-an-unforeseen-issue-in-python-52eaa1de83db)"
      ]
    },
    {
      "cell_type": "code",
      "metadata": {
        "id": "tOd0s0ZtzHRp"
      },
      "source": [
        "import os\n",
        "import sys\n",
        "# the current directory\n",
        "sys.path.append(os.path.abspath(os.path.dirname('__file__'))) "
      ],
      "execution_count": 3,
      "outputs": []
    },
    {
      "cell_type": "code",
      "metadata": {
        "colab": {
          "base_uri": "https://localhost:8080/",
          "height": 37
        },
        "id": "eLsTmISbzKDv",
        "outputId": "0b188022-e6b1-4555-a82c-ee3ba684c650"
      },
      "source": [
        "os.path.abspath(os.path.dirname('__file__'))"
      ],
      "execution_count": 5,
      "outputs": [
        {
          "output_type": "execute_result",
          "data": {
            "application/vnd.google.colaboratory.intrinsic+json": {
              "type": "string"
            },
            "text/plain": [
              "'/content'"
            ]
          },
          "metadata": {
            "tags": []
          },
          "execution_count": 5
        }
      ]
    },
    {
      "cell_type": "code",
      "metadata": {
        "colab": {
          "base_uri": "https://localhost:8080/",
          "height": 37
        },
        "id": "NuT6pFN6zYMG",
        "outputId": "423cb49f-1a19-46aa-ffcf-9a4cac10783d"
      },
      "source": [
        "import os\n",
        "import sys\n",
        "# the current directory\n",
        "sys.path.append(os.path.abspath(os.path.dirname('__file__'))) \n",
        "\n",
        "os.path.abspath(\"../testfolder\")"
      ],
      "execution_count": 6,
      "outputs": [
        {
          "output_type": "execute_result",
          "data": {
            "application/vnd.google.colaboratory.intrinsic+json": {
              "type": "string"
            },
            "text/plain": [
              "'/testfolder'"
            ]
          },
          "metadata": {
            "tags": []
          },
          "execution_count": 6
        }
      ]
    },
    {
      "cell_type": "code",
      "metadata": {
        "id": "vOspZpLtzSxA"
      },
      "source": [
        "sys.path.append(os.path.abspath(\"../testfolder\"))"
      ],
      "execution_count": 7,
      "outputs": []
    }
  ]
}