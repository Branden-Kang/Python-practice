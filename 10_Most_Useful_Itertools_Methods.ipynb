{
  "nbformat": 4,
  "nbformat_minor": 0,
  "metadata": {
    "colab": {
      "provenance": [],
      "authorship_tag": "ABX9TyPGezyEuHg43+L/APPFUaJO"
    },
    "kernelspec": {
      "name": "python3",
      "display_name": "Python 3"
    },
    "language_info": {
      "name": "python"
    }
  },
  "cells": [
    {
      "cell_type": "markdown",
      "source": [
        "[Reference](https://martinxpn.medium.com/10-most-useful-itertools-methods-63-100-days-of-python-b7e7a93639c3)"
      ],
      "metadata": {
        "id": "mi9nUP1HjwaW"
      }
    },
    {
      "cell_type": "markdown",
      "source": [
        "# Count"
      ],
      "metadata": {
        "id": "9OET8_5pjzEP"
      }
    },
    {
      "cell_type": "code",
      "execution_count": 1,
      "metadata": {
        "colab": {
          "base_uri": "https://localhost:8080/"
        },
        "id": "TnXm8mSVjri5",
        "outputId": "07d25200-0638-442a-f24e-f867d12b482c"
      },
      "outputs": [
        {
          "output_type": "stream",
          "name": "stdout",
          "text": [
            "1 3 5 7 9 11 "
          ]
        }
      ],
      "source": [
        "import itertools\n",
        "\n",
        "for i in itertools.count(1, 2):\n",
        "    print(i, end=' ')\n",
        "    if i >= 10:\n",
        "        break"
      ]
    },
    {
      "cell_type": "code",
      "source": [
        "import itertools\n",
        "\n",
        "for i in itertools.count(1):\n",
        "    print(i)"
      ],
      "metadata": {
        "id": "92xBQOvQjz8K"
      },
      "execution_count": 3,
      "outputs": []
    },
    {
      "cell_type": "markdown",
      "source": [
        "# Cycle"
      ],
      "metadata": {
        "id": "S8IT8RHfj2lA"
      }
    },
    {
      "cell_type": "code",
      "source": [
        "import itertools\n",
        "\n",
        "colors = ['red', 'green', 'blue']\n",
        "\n",
        "for color in itertools.cycle(colors):\n",
        "    print(color)"
      ],
      "metadata": {
        "id": "VYoO-CZmj1IU"
      },
      "execution_count": 5,
      "outputs": []
    },
    {
      "cell_type": "markdown",
      "source": [
        "# Repeat\n"
      ],
      "metadata": {
        "id": "bkasZdmLj5vY"
      }
    },
    {
      "cell_type": "code",
      "source": [
        "import itertools\n",
        "\n",
        "for i in itertools.repeat('hello', 3):\n",
        "    print(i)"
      ],
      "metadata": {
        "colab": {
          "base_uri": "https://localhost:8080/"
        },
        "id": "Oly2aYEjj4RY",
        "outputId": "4f76c061-0cf9-47df-fca6-92ef5c020aef"
      },
      "execution_count": 6,
      "outputs": [
        {
          "output_type": "stream",
          "name": "stdout",
          "text": [
            "hello\n",
            "hello\n",
            "hello\n"
          ]
        }
      ]
    },
    {
      "cell_type": "markdown",
      "source": [
        "# Chain"
      ],
      "metadata": {
        "id": "j34vgD41j8M4"
      }
    },
    {
      "cell_type": "code",
      "source": [
        "import itertools\n",
        "\n",
        "list1 = ['a', 'b', 'c']\n",
        "list2 = ['d', 'e', 'f']\n",
        "\n",
        "for item in itertools.chain(list1, list2):\n",
        "    print(item)"
      ],
      "metadata": {
        "colab": {
          "base_uri": "https://localhost:8080/"
        },
        "id": "pbrX0JnKj7Ek",
        "outputId": "2d7b1f33-c277-4d42-9efa-6edccb34b0a6"
      },
      "execution_count": 7,
      "outputs": [
        {
          "output_type": "stream",
          "name": "stdout",
          "text": [
            "a\n",
            "b\n",
            "c\n",
            "d\n",
            "e\n",
            "f\n"
          ]
        }
      ]
    },
    {
      "cell_type": "markdown",
      "source": [
        "# Compress"
      ],
      "metadata": {
        "id": "n1A9xsPnj-5G"
      }
    },
    {
      "cell_type": "code",
      "source": [
        "import itertools\n",
        "\n",
        "data = ['a', 'b', 'c', 'd', 'e']\n",
        "selectors = [True, False, True, False, True]\n",
        "\n",
        "for item in itertools.compress(data, selectors):\n",
        "    print(item)"
      ],
      "metadata": {
        "colab": {
          "base_uri": "https://localhost:8080/"
        },
        "id": "ufu1izrLj9Ve",
        "outputId": "98352f42-6c39-4b24-a609-f384ac12cef7"
      },
      "execution_count": 8,
      "outputs": [
        {
          "output_type": "stream",
          "name": "stdout",
          "text": [
            "a\n",
            "c\n",
            "e\n"
          ]
        }
      ]
    },
    {
      "cell_type": "markdown",
      "source": [
        "# DropWhile"
      ],
      "metadata": {
        "id": "JD2ONoGckBZQ"
      }
    },
    {
      "cell_type": "code",
      "source": [
        "import itertools\n",
        "\n",
        "data = [1, 3, 5, 2, 4, 6]\n",
        "\n",
        "for item in itertools.dropwhile(lambda x: x < 5, data):\n",
        "    print(item)"
      ],
      "metadata": {
        "colab": {
          "base_uri": "https://localhost:8080/"
        },
        "id": "PTLpLFLpj_z2",
        "outputId": "4b54fe0d-25d3-4d08-86ac-66b963719e4b"
      },
      "execution_count": 9,
      "outputs": [
        {
          "output_type": "stream",
          "name": "stdout",
          "text": [
            "5\n",
            "2\n",
            "4\n",
            "6\n"
          ]
        }
      ]
    },
    {
      "cell_type": "markdown",
      "source": [
        "# GroupBy"
      ],
      "metadata": {
        "id": "lGdS27Q_kE5Y"
      }
    },
    {
      "cell_type": "code",
      "source": [
        "import itertools\n",
        "\n",
        "data = [1, 1, 2, 2, 3, 3, 3, 4, 4, 4, 4]\n",
        "\n",
        "for key, group in itertools.groupby(data):\n",
        "    print(key, list(group))"
      ],
      "metadata": {
        "colab": {
          "base_uri": "https://localhost:8080/"
        },
        "id": "x4i2ckp3kDSv",
        "outputId": "8b59b4d9-fe8f-4330-ad9c-26941c39bbc6"
      },
      "execution_count": 10,
      "outputs": [
        {
          "output_type": "stream",
          "name": "stdout",
          "text": [
            "1 [1, 1]\n",
            "2 [2, 2]\n",
            "3 [3, 3, 3]\n",
            "4 [4, 4, 4, 4]\n"
          ]
        }
      ]
    },
    {
      "cell_type": "markdown",
      "source": [
        "# Permutations"
      ],
      "metadata": {
        "id": "OfDjRhR0kIgE"
      }
    },
    {
      "cell_type": "code",
      "source": [
        "import itertools\n",
        "\n",
        "data = ['a', 'b', 'c']\n",
        "\n",
        "for perm in itertools.permutations(data):\n",
        "    print(perm)"
      ],
      "metadata": {
        "colab": {
          "base_uri": "https://localhost:8080/"
        },
        "id": "afsn6utNkGIq",
        "outputId": "37f4fb0d-d49f-47ee-f7e1-0e34b30aa275"
      },
      "execution_count": 11,
      "outputs": [
        {
          "output_type": "stream",
          "name": "stdout",
          "text": [
            "('a', 'b', 'c')\n",
            "('a', 'c', 'b')\n",
            "('b', 'a', 'c')\n",
            "('b', 'c', 'a')\n",
            "('c', 'a', 'b')\n",
            "('c', 'b', 'a')\n"
          ]
        }
      ]
    },
    {
      "cell_type": "markdown",
      "source": [
        "# Product"
      ],
      "metadata": {
        "id": "0lOCMguukKcE"
      }
    },
    {
      "cell_type": "code",
      "source": [
        "import itertools\n",
        "\n",
        "colors = ['red', 'green', 'blue']\n",
        "sizes = ['small', 'medium', 'large']\n",
        "\n",
        "for item in itertools.product(colors, sizes):\n",
        "    print(item)"
      ],
      "metadata": {
        "colab": {
          "base_uri": "https://localhost:8080/"
        },
        "id": "cYxkltPmkJeI",
        "outputId": "8662ca82-a3c0-4c7a-99c6-86194f790a97"
      },
      "execution_count": 12,
      "outputs": [
        {
          "output_type": "stream",
          "name": "stdout",
          "text": [
            "('red', 'small')\n",
            "('red', 'medium')\n",
            "('red', 'large')\n",
            "('green', 'small')\n",
            "('green', 'medium')\n",
            "('green', 'large')\n",
            "('blue', 'small')\n",
            "('blue', 'medium')\n",
            "('blue', 'large')\n"
          ]
        }
      ]
    },
    {
      "cell_type": "markdown",
      "source": [
        "# Tee"
      ],
      "metadata": {
        "id": "B382v6Y2kM2b"
      }
    },
    {
      "cell_type": "code",
      "source": [
        "import itertools\n",
        "\n",
        "data = ['a', 'b', 'c', 'd', 'e']\n",
        "\n",
        "iter1, iter2 = itertools.tee(data)\n",
        "\n",
        "print(list(iter1))\n",
        "print(list(iter2))"
      ],
      "metadata": {
        "colab": {
          "base_uri": "https://localhost:8080/"
        },
        "id": "xHvVBXFfkL2u",
        "outputId": "9dc3e794-013e-4592-e38e-a12dda70db3c"
      },
      "execution_count": 13,
      "outputs": [
        {
          "output_type": "stream",
          "name": "stdout",
          "text": [
            "['a', 'b', 'c', 'd', 'e']\n",
            "['a', 'b', 'c', 'd', 'e']\n"
          ]
        }
      ]
    }
  ]
}