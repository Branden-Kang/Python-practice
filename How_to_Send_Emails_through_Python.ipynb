{
  "nbformat": 4,
  "nbformat_minor": 0,
  "metadata": {
    "colab": {
      "name": "How to Send Emails through Python.ipynb",
      "provenance": [],
      "authorship_tag": "ABX9TyNaB4kqTWdOTEST4PosNx7f"
    },
    "kernelspec": {
      "name": "python3",
      "display_name": "Python 3"
    },
    "language_info": {
      "name": "python"
    }
  },
  "cells": [
    {
      "cell_type": "markdown",
      "metadata": {
        "id": "KfnNKQJz1V5I"
      },
      "source": [
        "[Reference](https://medium.com/geekculture/send-emails-through-python-de9089a90aac)"
      ]
    },
    {
      "cell_type": "code",
      "metadata": {
        "id": "whHK7LhS1IWP"
      },
      "source": [
        "# Imports\n",
        "import smtplib\n",
        "from email.message import EmailMessage\n",
        "\n",
        "# Variables containing your email address and password\n",
        "EMAIL_ADDRESS = 'your_email@gmail.com'\n",
        "EMAIL_PASSWORD = 'your_generated_password'"
      ],
      "execution_count": 1,
      "outputs": []
    },
    {
      "cell_type": "code",
      "metadata": {
        "id": "Ejkmg3sL1bsV"
      },
      "source": [
        "# Create an instance of the EmailMessage class\n",
        "msg = EmailMessage()\n",
        "\n",
        "# Define the 'Subject' of the email\n",
        "msg['Subject'] = 'My first Python email'\n",
        "\n",
        "# Define 'From' (your email address)\n",
        "msg['From'] = EMAIL_ADDRESS\n",
        "\n",
        "# Define 'To' (to whom is it addressed)\n",
        "msg['To'] = EMAIL_ADDRESS\n",
        "\n",
        "# The email content (your message)\n",
        "msg.set_content('Hello world!')"
      ],
      "execution_count": 2,
      "outputs": []
    },
    {
      "cell_type": "code",
      "metadata": {
        "id": "P1CFSU4T10yK"
      },
      "source": [
        "# Including attachments\n",
        "with open('image.jpg', 'rb') as attach:\n",
        "    msg.add_attachment(attach.read(), maintype='application', subtype='octet-stream', filename=attach.name"
      ],
      "execution_count": 6,
      "outputs": []
    },
    {
      "cell_type": "code",
      "metadata": {
        "id": "6k_9fI891fAQ"
      },
      "source": [
        "# Establishing a secure connection (SSL), login to your email account and send the email\n",
        "\n",
        "with smtplib.SMTP_SSL('smtp.gmail.com', 465) as smtp:\n",
        "    smtp.login(EMAIL_ADDRESS, EMAIL_PASSWORD) \n",
        "    smtp.send_message(msg)"
      ],
      "execution_count": 3,
      "outputs": []
    },
    {
      "cell_type": "code",
      "metadata": {
        "id": "glGJWZyO148O"
      },
      "source": [
        "import smtplib\n",
        "from email.message import EmailMessage\n",
        "\n",
        "EMAIL_ADDRESS = 'your_email@gmail.com'\n",
        "EMAIL_PASSWORD = 'your_generated_password'\n",
        "\n",
        "def email():\n",
        "    msg = EmailMessage()\n",
        "    msg['To'] = input(\"Mailto: \")\n",
        "    msg['Subject'] = input(\"\\nSubject: \")\n",
        "    msg['From'] = EMAIL_ADDRESS\n",
        "    x = input(\"Message: \")\n",
        "    msg.set_content(x)\n",
        "    att = input('\\nAttachment: (press Enter to skip) ')    \n",
        "    \n",
        "    if att == '':\n",
        "        print('N/A')\n",
        "    else:\n",
        "        with open(att, 'rb') as attach:\n",
        "            msg.add_attachment(attach.read(), maintype='application', subtype='octet-stream', filename=attach.name)    \n",
        "            \n",
        "    with smtplib.SMTP_SSL('smtp.gmail.com', 465) as smtp:\n",
        "        smtp.login(EMAIL_ADDRESS, EMAIL_PASSWORD)\n",
        "        smtp.send_message(msg)    print(\"\\n** Email sent. **\")"
      ],
      "execution_count": 8,
      "outputs": []
    },
    {
      "cell_type": "code",
      "metadata": {
        "id": "7NgJhFsY15kC"
      },
      "source": [
        "email()"
      ],
      "execution_count": 9,
      "outputs": []
    }
  ]
}