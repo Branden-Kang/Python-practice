{
  "nbformat": 4,
  "nbformat_minor": 0,
  "metadata": {
    "colab": {
      "name": "Pandas >> Optimization.ipynb",
      "provenance": [],
      "collapsed_sections": [],
      "authorship_tag": "ABX9TyMJ0Hve2oP8AfaJryJnI1UI"
    },
    "kernelspec": {
      "name": "python3",
      "display_name": "Python 3"
    },
    "language_info": {
      "name": "python"
    }
  },
  "cells": [
    {
      "cell_type": "markdown",
      "source": [
        "[Reference](https://medium.com/@akaivdo/pandas-optimization-c19c467268d1)"
      ],
      "metadata": {
        "id": "o57iJ8MDdM6y"
      }
    },
    {
      "cell_type": "markdown",
      "source": [
        "# Data preparation"
      ],
      "metadata": {
        "id": "eX-R642WdSzp"
      }
    },
    {
      "cell_type": "code",
      "execution_count": 1,
      "metadata": {
        "colab": {
          "base_uri": "https://localhost:8080/"
        },
        "id": "yEec6QZCdLtE",
        "outputId": "fc6ce2d4-856b-49dd-d2f9-e50ac02de0d7"
      },
      "outputs": [
        {
          "output_type": "execute_result",
          "data": {
            "text/plain": [
              "100000"
            ]
          },
          "metadata": {},
          "execution_count": 1
        }
      ],
      "source": [
        "import pandas as pd\n",
        "df = pd.DataFrame(\n",
        "    [\n",
        "        [\"123\", \"abc\", \"123456.78\", \"2022-01-02 01:02:01\"],\n",
        "        [\"234\", \"def\", \"223456.78\", \"2022-02-03 02:03:02\"],\n",
        "        [\"567\", \"ghi\", \"323456.78\", \"2022-03-04 06:04:03\"],\n",
        "        [\"890\", \"jkl\", \"423456.78\", \"2022-04-11 12:05:04\"],\n",
        "        [\"123\", \"mno\", \"523456.78\", \"2022-05-25 19:06:05\"],\n",
        "    ] * 20000,\n",
        "    columns=[\"col_1\", \"col_2\", \"col_3\", \"col_4\"]\n",
        ")\n",
        "len(df)"
      ]
    },
    {
      "cell_type": "markdown",
      "source": [
        "# Memory"
      ],
      "metadata": {
        "id": "dfZjkzJidQwB"
      }
    },
    {
      "cell_type": "code",
      "source": [
        "df.info(memory_usage='deep')"
      ],
      "metadata": {
        "colab": {
          "base_uri": "https://localhost:8080/"
        },
        "id": "Ou30lCCYdRjV",
        "outputId": "d87e0709-b4ef-4bc6-8649-04cf9a2130ed"
      },
      "execution_count": 2,
      "outputs": [
        {
          "output_type": "stream",
          "name": "stdout",
          "text": [
            "<class 'pandas.core.frame.DataFrame'>\n",
            "RangeIndex: 100000 entries, 0 to 99999\n",
            "Data columns (total 4 columns):\n",
            " #   Column  Non-Null Count   Dtype \n",
            "---  ------  --------------   ----- \n",
            " 0   col_1   100000 non-null  object\n",
            " 1   col_2   100000 non-null  object\n",
            " 2   col_3   100000 non-null  object\n",
            " 3   col_4   100000 non-null  object\n",
            "dtypes: object(4)\n",
            "memory usage: 25.0 MB\n"
          ]
        }
      ]
    },
    {
      "cell_type": "markdown",
      "source": [
        "# string -> datetime\n"
      ],
      "metadata": {
        "id": "gGF9VlyVdV6Y"
      }
    },
    {
      "cell_type": "code",
      "source": [
        "df[\"col_4\"] = pd.to_datetime(df[\"col_4\"])\n",
        "df.info(memory_usage='deep')"
      ],
      "metadata": {
        "colab": {
          "base_uri": "https://localhost:8080/"
        },
        "id": "IorPb3rEdUiC",
        "outputId": "1a32a8ee-24c4-47c2-a6f2-6886a32350dd"
      },
      "execution_count": 3,
      "outputs": [
        {
          "output_type": "stream",
          "name": "stdout",
          "text": [
            "<class 'pandas.core.frame.DataFrame'>\n",
            "RangeIndex: 100000 entries, 0 to 99999\n",
            "Data columns (total 4 columns):\n",
            " #   Column  Non-Null Count   Dtype         \n",
            "---  ------  --------------   -----         \n",
            " 0   col_1   100000 non-null  object        \n",
            " 1   col_2   100000 non-null  object        \n",
            " 2   col_3   100000 non-null  object        \n",
            " 3   col_4   100000 non-null  datetime64[ns]\n",
            "dtypes: datetime64[ns](1), object(3)\n",
            "memory usage: 18.5 MB\n"
          ]
        }
      ]
    },
    {
      "cell_type": "markdown",
      "source": [
        "# string -> number"
      ],
      "metadata": {
        "id": "rwL3SxR5dZaA"
      }
    },
    {
      "cell_type": "code",
      "source": [
        "import numpy as np\n",
        "df = df.astype({\"col_1\": np.int16, \"col_3\": np.float32})\n",
        "df.info(memory_usage='deep')"
      ],
      "metadata": {
        "colab": {
          "base_uri": "https://localhost:8080/"
        },
        "id": "jLLm489WdXiL",
        "outputId": "32983522-e783-40d1-b3a4-36fa41ab5832"
      },
      "execution_count": 4,
      "outputs": [
        {
          "output_type": "stream",
          "name": "stdout",
          "text": [
            "<class 'pandas.core.frame.DataFrame'>\n",
            "RangeIndex: 100000 entries, 0 to 99999\n",
            "Data columns (total 4 columns):\n",
            " #   Column  Non-Null Count   Dtype         \n",
            "---  ------  --------------   -----         \n",
            " 0   col_1   100000 non-null  int16         \n",
            " 1   col_2   100000 non-null  object        \n",
            " 2   col_3   100000 non-null  float32       \n",
            " 3   col_4   100000 non-null  datetime64[ns]\n",
            "dtypes: datetime64[ns](1), float32(1), int16(1), object(1)\n",
            "memory usage: 7.1 MB\n"
          ]
        }
      ]
    },
    {
      "cell_type": "markdown",
      "source": [
        "# string -> category"
      ],
      "metadata": {
        "id": "epHJdZgedcuY"
      }
    },
    {
      "cell_type": "code",
      "source": [
        "df[\"col_2\"] = df[\"col_2\"].astype(\"category\")\n",
        "df.info(memory_usage='deep')"
      ],
      "metadata": {
        "colab": {
          "base_uri": "https://localhost:8080/"
        },
        "id": "5jMDj9GZdbja",
        "outputId": "5e121af8-f215-4134-ab6f-982a9d608ef9"
      },
      "execution_count": 5,
      "outputs": [
        {
          "output_type": "stream",
          "name": "stdout",
          "text": [
            "<class 'pandas.core.frame.DataFrame'>\n",
            "RangeIndex: 100000 entries, 0 to 99999\n",
            "Data columns (total 4 columns):\n",
            " #   Column  Non-Null Count   Dtype         \n",
            "---  ------  --------------   -----         \n",
            " 0   col_1   100000 non-null  int16         \n",
            " 1   col_2   100000 non-null  category      \n",
            " 2   col_3   100000 non-null  float32       \n",
            " 3   col_4   100000 non-null  datetime64[ns]\n",
            "dtypes: category(1), datetime64[ns](1), float32(1), int16(1)\n",
            "memory usage: 1.4 MB\n"
          ]
        }
      ]
    },
    {
      "cell_type": "markdown",
      "source": [
        "# General Row-by-Row Loop"
      ],
      "metadata": {
        "id": "lhLEKW3Zdf9I"
      }
    },
    {
      "cell_type": "code",
      "source": [
        "# Copy the DataFrame to keep the original DataFrame unchanged\n",
        "temp_df = df.copy()\n",
        "# List to store the computing results.  \n",
        "new_col = []\n",
        "# Calculating execution time  \n",
        "%timeit\n",
        "for i in range(len(temp_df)):\n",
        "    # Save the computing result of each row to a list\n",
        "    new_col.append(temp_df.loc[i, \"col_1\"] + temp_df.loc[i, \"col_3\"])\n",
        "# Assign the result to a new column named total  \n",
        "temp_df[\"total\"] = pd.Series(new_col)"
      ],
      "metadata": {
        "id": "R-AYKE01deXW"
      },
      "execution_count": 6,
      "outputs": []
    },
    {
      "cell_type": "markdown",
      "source": [
        "# iterrows()\n"
      ],
      "metadata": {
        "id": "x2Lp4pzIdj-G"
      }
    },
    {
      "cell_type": "code",
      "source": [
        "# Copy the DataFrame to keep the original DataFrame unchanged\n",
        "temp_df = df.copy()\n",
        "# List to store the computing results.  \n",
        "new_col = []\n",
        "%timeit\n",
        "for i, row in temp_df.iterrows():\n",
        "    new_col.append(row[\"col_1\"] + row[\"col_3\"]) \n",
        "temp_df[\"total\"] = pd.Series(new_col)"
      ],
      "metadata": {
        "id": "eEakL_Ywdh9h"
      },
      "execution_count": 7,
      "outputs": []
    },
    {
      "cell_type": "markdown",
      "source": [
        "# itertuples()\n"
      ],
      "metadata": {
        "id": "sGbEJRzJdrXf"
      }
    },
    {
      "cell_type": "code",
      "source": [
        "# Copy the DataFrame to keep the original DataFrame unchanged\n",
        "temp_df = df.copy()\n",
        "# List to store the computing results.  \n",
        "new_col = []\n",
        "%timeit\n",
        "# By default, index=True -> for index, row in ...:\n",
        "for row in temp_df.itertuples(index=False):\n",
        "     new_col.append(row[0] + row[2])\n",
        "temp_df[\"total\"] = pd.Series(new_col)"
      ],
      "metadata": {
        "id": "ybc46nJLdmoc"
      },
      "execution_count": 8,
      "outputs": []
    },
    {
      "cell_type": "markdown",
      "source": [
        "# apply()\n"
      ],
      "metadata": {
        "id": "pmIMxU5ldt1a"
      }
    },
    {
      "cell_type": "code",
      "source": [
        "# The function definition to be applied\n",
        "def print_col(row):\n",
        "    return row[\"col_1\"] + row[\"col_3\"]\n",
        "# Copy the DataFrame to keep the original DataFrame unchanged\n",
        "temp_df = df.copy()\n",
        "%timeit\n",
        "# axis=1 means apply this operation on all rows.\n",
        "temp_df[\"total\"] = temp_df.apply(print_col, axis=1)"
      ],
      "metadata": {
        "id": "KWvLTPTkduQx"
      },
      "execution_count": 10,
      "outputs": []
    },
    {
      "cell_type": "markdown",
      "source": [
        "# vectorization\n"
      ],
      "metadata": {
        "id": "Npw_gn2Pdv-f"
      }
    },
    {
      "cell_type": "code",
      "source": [
        "# Copy the DataFrame to keep the original DataFrame unchanged\n",
        "temp_df = df.copy()\n",
        "%timeit\n",
        "# Use the built-in adding operation\n",
        "temp_df[\"total\"] = temp_df[\"col_1\"] + temp_df[\"col_3\"]"
      ],
      "metadata": {
        "id": "zomV4qVAfOUr"
      },
      "execution_count": 11,
      "outputs": []
    },
    {
      "cell_type": "markdown",
      "source": [
        "# I/O\n"
      ],
      "metadata": {
        "id": "SCr_NnKVfLqz"
      }
    },
    {
      "cell_type": "code",
      "source": [
        "df = pd.DataFrame(\n",
        "    [\n",
        "        [\"abc123\"]*50,\n",
        "    ] * 1000000,\n",
        "    columns=[f\"col_{i}\" for i in range(1, 51)]\n",
        ")"
      ],
      "metadata": {
        "id": "X8k_RSX-fM9P"
      },
      "execution_count": 12,
      "outputs": []
    }
  ]
}