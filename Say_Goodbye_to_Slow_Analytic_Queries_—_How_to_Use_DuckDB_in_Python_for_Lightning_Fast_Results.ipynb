{
  "nbformat": 4,
  "nbformat_minor": 0,
  "metadata": {
    "colab": {
      "provenance": [],
      "authorship_tag": "ABX9TyOvi6+70/kMbzjxVWiLjD9N"
    },
    "kernelspec": {
      "name": "python3",
      "display_name": "Python 3"
    },
    "language_info": {
      "name": "python"
    }
  },
  "cells": [
    {
      "cell_type": "markdown",
      "source": [
        "[Reference](https://levelup.gitconnected.com/say-goodbye-to-slow-analytic-queries-how-to-use-duckdb-in-python-for-lightning-fast-results-7c0bc2a42527)"
      ],
      "metadata": {
        "id": "4S1ggxneeFTv"
      }
    },
    {
      "cell_type": "code",
      "execution_count": 1,
      "metadata": {
        "colab": {
          "base_uri": "https://localhost:8080/"
        },
        "id": "Pi_VUtC5eCrY",
        "outputId": "6a4fe1c7-5446-446e-9d04-e9129819b9d1"
      },
      "outputs": [
        {
          "output_type": "stream",
          "name": "stdout",
          "text": [
            "Looking in indexes: https://pypi.org/simple, https://us-python.pkg.dev/colab-wheels/public/simple/\n",
            "Requirement already satisfied: duckdb in /usr/local/lib/python3.10/dist-packages (0.8.1)\n"
          ]
        }
      ],
      "source": [
        "pip install duckdb"
      ]
    },
    {
      "cell_type": "code",
      "source": [
        "import duckdb\n",
        "\n",
        "# create a new DuckDB database\n",
        "con = duckdb.connect(database=':memory:')\n",
        "\n",
        "# create a table\n",
        "con.execute('CREATE TABLE users (id INTEGER, name VARCHAR(255))')\n",
        "\n",
        "# insert some data\n",
        "con.execute(\"INSERT INTO users VALUES (1, 'John')\")\n",
        "con.execute(\"INSERT INTO users VALUES (2, 'Jane')\")\n",
        "\n",
        "# query the data\n",
        "result = con.execute(\"SELECT * FROM users\").fetchall()\n",
        "for row in result:\n",
        "    print(row)"
      ],
      "metadata": {
        "colab": {
          "base_uri": "https://localhost:8080/"
        },
        "id": "q5wLwxnkeHwW",
        "outputId": "c9695524-dea5-4681-e9e7-6939191c6546"
      },
      "execution_count": 2,
      "outputs": [
        {
          "output_type": "stream",
          "name": "stdout",
          "text": [
            "(1, 'John')\n",
            "(2, 'Jane')\n"
          ]
        }
      ]
    },
    {
      "cell_type": "code",
      "source": [
        "import duckdb\n",
        "\n",
        "conn = duckdb.connect(database=\"cloudfront-log.db\", read_only=False)\n",
        "conn.execute('''\n",
        "                INSTALL 'httpfs';\n",
        "                LOAD 'httpfs';\n",
        "\n",
        "                INSTALL json;\n",
        "                LOAD json;\n",
        "\n",
        "                SET s3_region='ap-northeast-1';\n",
        "                SET s3_access_key_id='YOUR_S3_ACCES_KEY';\n",
        "                SET s3_secret_access_key='YOUR_SECRET_ACCESS_KEY';\n",
        "\n",
        "                SET enable_progress_bar = true;\n",
        "            ''')"
      ],
      "metadata": {
        "colab": {
          "base_uri": "https://localhost:8080/"
        },
        "id": "w1tWQQAieJCe",
        "outputId": "03d93295-814a-4375-9a38-825c333e519e"
      },
      "execution_count": 3,
      "outputs": [
        {
          "output_type": "execute_result",
          "data": {
            "text/plain": [
              "<duckdb.DuckDBPyConnection at 0x7fbc5c9c17f0>"
            ]
          },
          "metadata": {},
          "execution_count": 3
        }
      ]
    },
    {
      "cell_type": "code",
      "source": [
        "conn.execute('''\n",
        "   CREATE TABLE logs (\n",
        "             date STRING,\n",
        "             time STRING,\n",
        "             x_edge_location STRING,\n",
        "             sc_bytes STRING,\n",
        "             c_ip STRING,\n",
        "             cs_method STRING,\n",
        "             cs_host STRING,\n",
        "             cs_uri_stem STRING,\n",
        "             sc_status STRING,\n",
        "             cs_Referer  STRING,\n",
        "             cs_User_Agent STRING,\n",
        "             cs_uri_query STRING,\n",
        "             cs_Cookie STRING,\n",
        "             x_edge_result_type STRING,\n",
        "             x_edge_request_id STRING,\n",
        "             x_host_header STRING,\n",
        "             cs_protocol STRING,\n",
        "             cs_bytes STRING,\n",
        "             time_taken STRING,\n",
        "             x_forwarded_for STRING,\n",
        "             ssl_protocol STRING,\n",
        "             ssl_cipher STRING,\n",
        "             x_edge_response_result_type STRING,\n",
        "             cs_protocol_version STRING,\n",
        "             fle_status STRING,\n",
        "             fle_encrypted_fields STRING,\n",
        "             c_port STRING,\n",
        "             time_to_first_byte STRING,\n",
        "             x_edge_detailed_result_type STRING,\n",
        "             sc_content_type STRING,\n",
        "             sc_content_len STRING,\n",
        "             sc_range_start STRING,\n",
        "             sc_range_end STRING)\n",
        "     ''')"
      ],
      "metadata": {
        "colab": {
          "base_uri": "https://localhost:8080/"
        },
        "id": "fSgjwaroefOr",
        "outputId": "c671a0fb-dba8-4952-8ffc-668f22299a45"
      },
      "execution_count": 4,
      "outputs": [
        {
          "output_type": "execute_result",
          "data": {
            "text/plain": [
              "<duckdb.DuckDBPyConnection at 0x7fbc5c9c17f0>"
            ]
          },
          "metadata": {},
          "execution_count": 4
        }
      ]
    },
    {
      "cell_type": "code",
      "source": [
        "# COPY logs FROM '{single_file}' (FORMAT csv, DELIMITER '\\t', SKIP 2, AUTO_DETECT true, IGNORE_ERRORS true);"
      ],
      "metadata": {
        "id": "kzuoietzemYl"
      },
      "execution_count": 7,
      "outputs": []
    },
    {
      "cell_type": "code",
      "source": [
        "# fetch some data\n",
        "df = conn.execute(f\"SELECT * FROM logs limit 10\").fetchdf()\n",
        "print(df.head(10))"
      ],
      "metadata": {
        "colab": {
          "base_uri": "https://localhost:8080/"
        },
        "id": "zKF-zM6Fepbd",
        "outputId": "87c09fa8-ce48-4acc-a9f7-e2d6d16680c8"
      },
      "execution_count": 8,
      "outputs": [
        {
          "output_type": "stream",
          "name": "stdout",
          "text": [
            "Empty DataFrame\n",
            "Columns: [date, time, x_edge_location, sc_bytes, c_ip, cs_method, cs_host, cs_uri_stem, sc_status, cs_Referer, cs_User_Agent, cs_uri_query, cs_Cookie, x_edge_result_type, x_edge_request_id, x_host_header, cs_protocol, cs_bytes, time_taken, x_forwarded_for, ssl_protocol, ssl_cipher, x_edge_response_result_type, cs_protocol_version, fle_status, fle_encrypted_fields, c_port, time_to_first_byte, x_edge_detailed_result_type, sc_content_type, sc_content_len, sc_range_start, sc_range_end]\n",
            "Index: []\n",
            "\n",
            "[0 rows x 33 columns]\n"
          ]
        }
      ]
    },
    {
      "cell_type": "code",
      "source": [
        "sql = f\"SELECT \\\n",
        "            x_edge_location, \\\n",
        "            cs_uri_stem, \\\n",
        "            count(*) as cnt \\\n",
        "        FROM logs \\\n",
        "        WHERE x_edge_location ='DUB56-P1' \\\n",
        "        GROUP BY 1, 2 \\\n",
        "        ORDER BY cnt DESC\"\n",
        "\n",
        "df = conn.execute(sql).fetchdf()"
      ],
      "metadata": {
        "id": "__15MHszesI3"
      },
      "execution_count": 9,
      "outputs": []
    }
  ]
}