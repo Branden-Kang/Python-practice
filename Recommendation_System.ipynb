{
  "nbformat": 4,
  "nbformat_minor": 0,
  "metadata": {
    "colab": {
      "name": "Recommendation System.ipynb",
      "provenance": [],
      "authorship_tag": "ABX9TyNRP9GimS6dYZr27VjIaZ0O"
    },
    "kernelspec": {
      "name": "python3",
      "display_name": "Python 3"
    }
  },
  "cells": [
    {
      "cell_type": "markdown",
      "metadata": {
        "id": "2OAhznRrL30s",
        "colab_type": "text"
      },
      "source": [
        "# Import Libraries"
      ]
    },
    {
      "cell_type": "code",
      "metadata": {
        "id": "frpbqbY4JB_U",
        "colab_type": "code",
        "colab": {}
      },
      "source": [
        "import pandas as pd\n",
        "import numpy as np\n",
        "import random\n",
        "from tqdm import tqdm\n",
        "from gensim.models import Word2Vec \n",
        "import matplotlib.pyplot as plt\n",
        "%matplotlib inline\n",
        "\n",
        "import warnings;\n",
        "warnings.filterwarnings('ignore')"
      ],
      "execution_count": 0,
      "outputs": []
    },
    {
      "cell_type": "code",
      "metadata": {
        "id": "2-bosuqkJzvo",
        "colab_type": "code",
        "colab": {
          "base_uri": "https://localhost:8080/",
          "height": 1000
        },
        "outputId": "19906139-7795-47b3-893a-886153e9b2c1"
      },
      "source": [
        "import os\n",
        "from google.colab import drive\n",
        "drive.mount('/content/gdrive',force_remount=True)\n",
        "!pwd\n",
        "os.chdir('gdrive/My Drive/Colab Notebooks/')\n",
        "!pwd\n",
        "!ls"
      ],
      "execution_count": 6,
      "outputs": [
        {
          "output_type": "stream",
          "text": [
            "Go to this URL in a browser: https://accounts.google.com/o/oauth2/auth?client_id=947318989803-6bn6qk8qdgf4n4g3pfee6491hc0brc4i.apps.googleusercontent.com&redirect_uri=urn%3aietf%3awg%3aoauth%3a2.0%3aoob&response_type=code&scope=email%20https%3a%2f%2fwww.googleapis.com%2fauth%2fdocs.test%20https%3a%2f%2fwww.googleapis.com%2fauth%2fdrive%20https%3a%2f%2fwww.googleapis.com%2fauth%2fdrive.photos.readonly%20https%3a%2f%2fwww.googleapis.com%2fauth%2fpeopleapi.readonly\n",
            "\n",
            "Enter your authorization code:\n",
            "··········\n",
            "Mounted at /content/gdrive\n",
            "/content\n",
            "/content/gdrive/My Drive/Colab Notebooks\n",
            " abcnews-date-text.csv\n",
            " ab_data.csv\n",
            "'A B Test.ipynb'\n",
            " AirPassengers.csv\n",
            "'A method to categorical variable in flight delay datasets.ipynb'\n",
            "'ARIMA Forecasting.ipynb'\n",
            " assignment0.ipynb\n",
            "'assignment2_(release).ipynb'\n",
            " assignment2_sol.ipynb\n",
            " Automotive_5.json\n",
            "'Building a Simple Chatbot.ipynb'\n",
            " chatbot.txt\n",
            "'Classifying Tweets for Sentiment Analysis.ipynb'\n",
            "'Community Detection.ipynb'\n",
            "'Concrete Compressive Strength Prediction.ipynb'\n",
            "'Copy of Lecture_6_in_class.ipynb'\n",
            " corpus\n",
            "'COVID-19 Data by ZIP Code.csv'\n",
            " dask.ipynb\n",
            " datasets\n",
            "'Data Visualization'\n",
            "'db\\wine_data.sqlite'\n",
            "'Deep Learning with TensorFlow.ipynb'\n",
            "'Deep Q-learning.ipynb'\n",
            "'Donald-Tweets!.csv'\n",
            " Econometrics\n",
            "'Emergency Department Timeliness.xlsx'\n",
            "'Enhance a Blurred Image using an Autoencoder.ipynb'\n",
            "'Exploratory Data Analysis for Natural Language Processing.ipynb'\n",
            "'Exploratory Data Analysis for Text Data.ipynb'\n",
            "'Exploratory Data Analysis.ipynb'\n",
            " Final_Project.ipynb\n",
            "'Flight Delay Analysis.ipynb'\n",
            " Flight_Delay_Analysis_Using_H2O.ipynb\n",
            " f_test.dec\n",
            " f_test.enc\n",
            " f_train.dec\n",
            " f_train.enc\n",
            " gbm_def\n",
            " gdrive\n",
            " glm_def\n",
            " Glove_solution.ipynb\n",
            "'Hospitals (1)_V2.xlsx'\n",
            "'Hospital-wide 30-day unplanned readmission rate.xlsx'\n",
            " korea.jpg\n",
            " Lime_Machine_Learning\n",
            " load_n_demo.ipynb\n",
            "'Logistic Regression using Python .ipynb'\n",
            " loss_female_epo200.npy\n",
            " loss_female_epo2.npy\n",
            " loss_female_epo40.npy\n",
            " loss_female_epo4.npy\n",
            " loss_female_epo5.npy\n",
            " loss_female_sche_sampling_epo1.npy\n",
            " loss_female_sche_sampling_epo200.npy\n",
            " loss_female_sche_sampling_epo2.npy\n",
            " loss_male_epo200.npy\n",
            " loss_male_epo2.npy\n",
            " loss_male_epo5.npy\n",
            " loss_male_prob_feed_epo200.npy\n",
            " loss_male_sche_sampling_epo200.npy\n",
            " loss.png\n",
            "'LSTM Encoder.ipynb'\n",
            " main.py\n",
            " Market-Mix-Modelling.ipynb\n",
            " merge_hospital_final.xlsx\n",
            " merge_hospital.xlsx\n",
            " Merge.ipynb\n",
            "'Mining Online Reviews using Topic Modeling.ipynb'\n",
            "'ML Practice'\n",
            " MMM.xlsx\n",
            "'Model 4 generator'\n",
            "'Model 5 RL'\n",
            " model_female_prob_feed_epo141.pth\n",
            " model_female_prob_feed_epo199.pth\n",
            " model_female_prob_feed_epo200.pth\n",
            "'Network Analysis.ipynb'\n",
            "'New York ER Wait Times and Violations.xlsx'\n",
            "'Online Retail.xlsx'\n",
            "'Optimization Methods in Machine Learning'\n",
            "'Patient Satisfaction.xlsx'\n",
            "'PCA using Python.ipynb'\n",
            "'Predicting air passengers using auto_arima.ipynb'\n",
            "'Predicting Wine Quality with Classification Techniques.ipynb'\n",
            "'Project Choice #1.ipynb'\n",
            " pth\n",
            " Schedule_Sampling_Seq2Seq-female.ipynb\n",
            "'Schedule Sampling Seq2Seq-Movie_Script Chatbot-PyTorch.ipynb'\n",
            "'Sentiment Analysis for NLP.ipynb'\n",
            "'Seq2Seq using PyTorch.ipynb'\n",
            "'Simple LSTM for Spam Detection.ipynb'\n",
            " spam.csv\n",
            " Spam_Detection_BERT.ipynb\n",
            " Spam_Detection.ipynb\n",
            " SparkNLP.ipynb\n",
            "'Text Classification (NLP) using ULMFiT and fastai Library in Python.ipynb'\n",
            "'Text Summarization using the TextRank Algorithm.ipynb'\n",
            "'Time Series Analysis.ipynb'\n",
            " tmdb_5000_credits.csv\n",
            " tmdb_5000_movies.csv\n",
            " Untitled0.ipynb\n",
            " Untitled1.ipynb\n",
            " winemag-data-130k-v2.csv\n",
            " winequality-red.csv\n"
          ],
          "name": "stdout"
        }
      ]
    },
    {
      "cell_type": "markdown",
      "metadata": {
        "id": "LGY8gDlDL7gv",
        "colab_type": "text"
      },
      "source": [
        "# Load Data"
      ]
    },
    {
      "cell_type": "code",
      "metadata": {
        "id": "brzPnldrJFev",
        "colab_type": "code",
        "colab": {}
      },
      "source": [
        "df = pd.read_excel('Online Retail.xlsx')"
      ],
      "execution_count": 0,
      "outputs": []
    },
    {
      "cell_type": "code",
      "metadata": {
        "id": "B2w7ORDyJJbt",
        "colab_type": "code",
        "colab": {
          "base_uri": "https://localhost:8080/",
          "height": 496
        },
        "outputId": "08d8317d-8b81-40b2-b3cd-7590f1ce45e1"
      },
      "source": [
        "df.head()"
      ],
      "execution_count": 8,
      "outputs": [
        {
          "output_type": "execute_result",
          "data": {
            "text/html": [
              "<div>\n",
              "<style scoped>\n",
              "    .dataframe tbody tr th:only-of-type {\n",
              "        vertical-align: middle;\n",
              "    }\n",
              "\n",
              "    .dataframe tbody tr th {\n",
              "        vertical-align: top;\n",
              "    }\n",
              "\n",
              "    .dataframe thead th {\n",
              "        text-align: right;\n",
              "    }\n",
              "</style>\n",
              "<table border=\"1\" class=\"dataframe\">\n",
              "  <thead>\n",
              "    <tr style=\"text-align: right;\">\n",
              "      <th></th>\n",
              "      <th>InvoiceNo</th>\n",
              "      <th>StockCode</th>\n",
              "      <th>Description</th>\n",
              "      <th>Quantity</th>\n",
              "      <th>InvoiceDate</th>\n",
              "      <th>UnitPrice</th>\n",
              "      <th>CustomerID</th>\n",
              "      <th>Country</th>\n",
              "    </tr>\n",
              "  </thead>\n",
              "  <tbody>\n",
              "    <tr>\n",
              "      <th>0</th>\n",
              "      <td>536365</td>\n",
              "      <td>85123A</td>\n",
              "      <td>WHITE HANGING HEART T-LIGHT HOLDER</td>\n",
              "      <td>6</td>\n",
              "      <td>2010-12-01 08:26:00</td>\n",
              "      <td>2.55</td>\n",
              "      <td>17850.0</td>\n",
              "      <td>United Kingdom</td>\n",
              "    </tr>\n",
              "    <tr>\n",
              "      <th>1</th>\n",
              "      <td>536365</td>\n",
              "      <td>71053</td>\n",
              "      <td>WHITE METAL LANTERN</td>\n",
              "      <td>6</td>\n",
              "      <td>2010-12-01 08:26:00</td>\n",
              "      <td>3.39</td>\n",
              "      <td>17850.0</td>\n",
              "      <td>United Kingdom</td>\n",
              "    </tr>\n",
              "    <tr>\n",
              "      <th>2</th>\n",
              "      <td>536365</td>\n",
              "      <td>84406B</td>\n",
              "      <td>CREAM CUPID HEARTS COAT HANGER</td>\n",
              "      <td>8</td>\n",
              "      <td>2010-12-01 08:26:00</td>\n",
              "      <td>2.75</td>\n",
              "      <td>17850.0</td>\n",
              "      <td>United Kingdom</td>\n",
              "    </tr>\n",
              "    <tr>\n",
              "      <th>3</th>\n",
              "      <td>536365</td>\n",
              "      <td>84029G</td>\n",
              "      <td>KNITTED UNION FLAG HOT WATER BOTTLE</td>\n",
              "      <td>6</td>\n",
              "      <td>2010-12-01 08:26:00</td>\n",
              "      <td>3.39</td>\n",
              "      <td>17850.0</td>\n",
              "      <td>United Kingdom</td>\n",
              "    </tr>\n",
              "    <tr>\n",
              "      <th>4</th>\n",
              "      <td>536365</td>\n",
              "      <td>84029E</td>\n",
              "      <td>RED WOOLLY HOTTIE WHITE HEART.</td>\n",
              "      <td>6</td>\n",
              "      <td>2010-12-01 08:26:00</td>\n",
              "      <td>3.39</td>\n",
              "      <td>17850.0</td>\n",
              "      <td>United Kingdom</td>\n",
              "    </tr>\n",
              "  </tbody>\n",
              "</table>\n",
              "</div>"
            ],
            "text/plain": [
              "  InvoiceNo StockCode  ... CustomerID         Country\n",
              "0    536365    85123A  ...    17850.0  United Kingdom\n",
              "1    536365     71053  ...    17850.0  United Kingdom\n",
              "2    536365    84406B  ...    17850.0  United Kingdom\n",
              "3    536365    84029G  ...    17850.0  United Kingdom\n",
              "4    536365    84029E  ...    17850.0  United Kingdom\n",
              "\n",
              "[5 rows x 8 columns]"
            ]
          },
          "metadata": {
            "tags": []
          },
          "execution_count": 8
        }
      ]
    },
    {
      "cell_type": "markdown",
      "metadata": {
        "id": "bcBE3vRjMAAp",
        "colab_type": "text"
      },
      "source": [
        "- InvoiceNo: Invoice number, a unique number assigned to each transaction.\n",
        "- StockCode: Product/item code. a unique number assigned to each distinct product.\n",
        "- Description: Product description\n",
        "- Quantity: The quantities of each product per transaction.\n",
        "- InvoiceDate: Invoice Date and time. The day and time when each transaction was generated.\n",
        "- CustomerID: Customer number, a unique number assigned to each customer."
      ]
    },
    {
      "cell_type": "code",
      "metadata": {
        "id": "w_ieuu8vKtnm",
        "colab_type": "code",
        "colab": {
          "base_uri": "https://localhost:8080/",
          "height": 34
        },
        "outputId": "25852e77-f903-4529-b94c-8d982c82f797"
      },
      "source": [
        "df.shape"
      ],
      "execution_count": 9,
      "outputs": [
        {
          "output_type": "execute_result",
          "data": {
            "text/plain": [
              "(541909, 8)"
            ]
          },
          "metadata": {
            "tags": []
          },
          "execution_count": 9
        }
      ]
    },
    {
      "cell_type": "markdown",
      "metadata": {
        "id": "Wh9FbwhAKxrq",
        "colab_type": "text"
      },
      "source": [
        "# Check Missing Data"
      ]
    },
    {
      "cell_type": "code",
      "metadata": {
        "id": "P4CmUlcCKxYF",
        "colab_type": "code",
        "colab": {
          "base_uri": "https://localhost:8080/",
          "height": 170
        },
        "outputId": "8e440c57-6b9d-4c47-dd1c-cad514142866"
      },
      "source": [
        "# check for missing values\n",
        "df.isnull().sum()"
      ],
      "execution_count": 10,
      "outputs": [
        {
          "output_type": "execute_result",
          "data": {
            "text/plain": [
              "InvoiceNo           0\n",
              "StockCode           0\n",
              "Description      1454\n",
              "Quantity            0\n",
              "InvoiceDate         0\n",
              "UnitPrice           0\n",
              "CustomerID     135080\n",
              "Country             0\n",
              "dtype: int64"
            ]
          },
          "metadata": {
            "tags": []
          },
          "execution_count": 10
        }
      ]
    },
    {
      "cell_type": "code",
      "metadata": {
        "id": "-8Na3tJtK1Jg",
        "colab_type": "code",
        "colab": {
          "base_uri": "https://localhost:8080/",
          "height": 170
        },
        "outputId": "92172cdb-3208-4a01-9fb8-21e8b3ef6b91"
      },
      "source": [
        "# remove missing values\n",
        "df.dropna(inplace=True)\n",
        "\n",
        "# again check missing values\n",
        "df.isnull().sum()"
      ],
      "execution_count": 11,
      "outputs": [
        {
          "output_type": "execute_result",
          "data": {
            "text/plain": [
              "InvoiceNo      0\n",
              "StockCode      0\n",
              "Description    0\n",
              "Quantity       0\n",
              "InvoiceDate    0\n",
              "UnitPrice      0\n",
              "CustomerID     0\n",
              "Country        0\n",
              "dtype: int64"
            ]
          },
          "metadata": {
            "tags": []
          },
          "execution_count": 11
        }
      ]
    },
    {
      "cell_type": "code",
      "metadata": {
        "id": "1M7BIy60LBoR",
        "colab_type": "code",
        "colab": {
          "base_uri": "https://localhost:8080/",
          "height": 34
        },
        "outputId": "a1cdc91e-f121-4cac-ffa7-9614712eca7f"
      },
      "source": [
        "df.shape"
      ],
      "execution_count": 12,
      "outputs": [
        {
          "output_type": "execute_result",
          "data": {
            "text/plain": [
              "(406829, 8)"
            ]
          },
          "metadata": {
            "tags": []
          },
          "execution_count": 12
        }
      ]
    },
    {
      "cell_type": "markdown",
      "metadata": {
        "id": "jcbJT5moLFxi",
        "colab_type": "text"
      },
      "source": [
        "# Data Preparation\n"
      ]
    },
    {
      "cell_type": "code",
      "metadata": {
        "id": "R5B5OwJhLFjH",
        "colab_type": "code",
        "colab": {}
      },
      "source": [
        "df['StockCode']= df['StockCode'].astype(str)"
      ],
      "execution_count": 0,
      "outputs": []
    },
    {
      "cell_type": "code",
      "metadata": {
        "id": "pXRpA622LC08",
        "colab_type": "code",
        "colab": {
          "base_uri": "https://localhost:8080/",
          "height": 34
        },
        "outputId": "9eba8625-79c1-4a84-9d7e-833b16eca3e7"
      },
      "source": [
        "customers = df[\"CustomerID\"].unique().tolist()\n",
        "len(customers)"
      ],
      "execution_count": 14,
      "outputs": [
        {
          "output_type": "execute_result",
          "data": {
            "text/plain": [
              "4372"
            ]
          },
          "metadata": {
            "tags": []
          },
          "execution_count": 14
        }
      ]
    },
    {
      "cell_type": "code",
      "metadata": {
        "id": "Pl22KC1FLLlv",
        "colab_type": "code",
        "colab": {}
      },
      "source": [
        "# shuffle customer ID's\n",
        "random.shuffle(customers)\n",
        "\n",
        "# extract 90% of customer ID's\n",
        "customers_train = [customers[i] for i in range(round(0.9*len(customers)))]\n",
        "\n",
        "# split data into train and validation set\n",
        "train_df = df[df['CustomerID'].isin(customers_train)]\n",
        "validation_df = df[~df['CustomerID'].isin(customers_train)]"
      ],
      "execution_count": 0,
      "outputs": []
    },
    {
      "cell_type": "code",
      "metadata": {
        "id": "EgpgdDeOLPjj",
        "colab_type": "code",
        "colab": {
          "base_uri": "https://localhost:8080/",
          "height": 34
        },
        "outputId": "772b0b2f-1359-4bd1-d4fb-b67badb5b64d"
      },
      "source": [
        "# list to capture purchase history of the customers\n",
        "purchases_train = []\n",
        "\n",
        "# populate the list with the product codes\n",
        "for i in tqdm(customers_train):\n",
        "    temp = train_df[train_df[\"CustomerID\"] == i][\"StockCode\"].tolist()\n",
        "    purchases_train.append(temp)"
      ],
      "execution_count": 16,
      "outputs": [
        {
          "output_type": "stream",
          "text": [
            "100%|██████████| 3935/3935 [00:04<00:00, 812.61it/s]\n"
          ],
          "name": "stderr"
        }
      ]
    },
    {
      "cell_type": "code",
      "metadata": {
        "id": "DVT5BUoHLRb-",
        "colab_type": "code",
        "colab": {
          "base_uri": "https://localhost:8080/",
          "height": 34
        },
        "outputId": "15197fd3-635e-4174-a00a-a8b61b00e51c"
      },
      "source": [
        "# list to capture purchase history of the customers\n",
        "purchases_val = []\n",
        "\n",
        "# populate the list with the product codes\n",
        "for i in tqdm(validation_df['CustomerID'].unique()):\n",
        "    temp = validation_df[validation_df[\"CustomerID\"] == i][\"StockCode\"].tolist()\n",
        "    purchases_val.append(temp)"
      ],
      "execution_count": 17,
      "outputs": [
        {
          "output_type": "stream",
          "text": [
            "100%|██████████| 437/437 [00:00<00:00, 1129.82it/s]\n"
          ],
          "name": "stderr"
        }
      ]
    },
    {
      "cell_type": "markdown",
      "metadata": {
        "id": "MOKE8JPtLVF1",
        "colab_type": "text"
      },
      "source": [
        "# Build word2vec Embeddings for Products"
      ]
    },
    {
      "cell_type": "code",
      "metadata": {
        "id": "2XOFKdhuLT5b",
        "colab_type": "code",
        "colab": {
          "base_uri": "https://localhost:8080/",
          "height": 34
        },
        "outputId": "5f9a05a5-3f92-4c7a-a855-47459bc5f936"
      },
      "source": [
        "# train word2vec model\n",
        "model = Word2Vec(window = 10, sg = 1, hs = 0,\n",
        "                 negative = 10, # for negative sampling\n",
        "                 alpha=0.03, min_alpha=0.0007,\n",
        "                 seed = 14)\n",
        "\n",
        "model.build_vocab(purchases_train, progress_per=200)\n",
        "\n",
        "model.train(purchases_train, total_examples = model.corpus_count, \n",
        "            epochs=10, report_delay=1)"
      ],
      "execution_count": 18,
      "outputs": [
        {
          "output_type": "execute_result",
          "data": {
            "text/plain": [
              "(3645764, 3682520)"
            ]
          },
          "metadata": {
            "tags": []
          },
          "execution_count": 18
        }
      ]
    },
    {
      "cell_type": "code",
      "metadata": {
        "id": "brksh0HNLY-C",
        "colab_type": "code",
        "colab": {}
      },
      "source": [
        "# save word2vec model\n",
        "model.save(\"word2vec_2.model\")"
      ],
      "execution_count": 0,
      "outputs": []
    },
    {
      "cell_type": "code",
      "metadata": {
        "id": "8qwH2JrSLbQt",
        "colab_type": "code",
        "colab": {}
      },
      "source": [
        "model.init_sims(replace=True)"
      ],
      "execution_count": 0,
      "outputs": []
    },
    {
      "cell_type": "code",
      "metadata": {
        "id": "tqsqW070Lc0A",
        "colab_type": "code",
        "colab": {
          "base_uri": "https://localhost:8080/",
          "height": 34
        },
        "outputId": "a00a2dc0-0818-4a0d-e13a-9ed93b1a77b2"
      },
      "source": [
        "print(model)"
      ],
      "execution_count": 21,
      "outputs": [
        {
          "output_type": "stream",
          "text": [
            "Word2Vec(vocab=3179, size=100, alpha=0.03)\n"
          ],
          "name": "stdout"
        }
      ]
    },
    {
      "cell_type": "code",
      "metadata": {
        "id": "RyRLtHJbLd6j",
        "colab_type": "code",
        "colab": {
          "base_uri": "https://localhost:8080/",
          "height": 34
        },
        "outputId": "a9713833-9125-42c8-b222-8e3e23de9725"
      },
      "source": [
        "# extract all vectors\n",
        "X = model[model.wv.vocab]\n",
        "\n",
        "X.shape"
      ],
      "execution_count": 22,
      "outputs": [
        {
          "output_type": "execute_result",
          "data": {
            "text/plain": [
              "(3179, 100)"
            ]
          },
          "metadata": {
            "tags": []
          },
          "execution_count": 22
        }
      ]
    },
    {
      "cell_type": "markdown",
      "metadata": {
        "id": "ecDwUwKELgr8",
        "colab_type": "text"
      },
      "source": [
        "# Visualize word2vec Embeddings"
      ]
    },
    {
      "cell_type": "code",
      "metadata": {
        "id": "PBCVt9nILfRT",
        "colab_type": "code",
        "colab": {
          "base_uri": "https://localhost:8080/",
          "height": 554
        },
        "outputId": "71b61137-a0d0-4d43-9a70-02d25d9b34be"
      },
      "source": [
        "import umap\n",
        "\n",
        "cluster_embedding = umap.UMAP(n_neighbors=30, min_dist=0.0,\n",
        "                              n_components=2, random_state=42).fit_transform(X)\n",
        "\n",
        "plt.figure(figsize=(10,9))\n",
        "plt.scatter(cluster_embedding[:, 0], cluster_embedding[:, 1], s=3, cmap='Spectral')\n"
      ],
      "execution_count": 23,
      "outputs": [
        {
          "output_type": "execute_result",
          "data": {
            "text/plain": [
              "<matplotlib.collections.PathCollection at 0x7f0c359f9b00>"
            ]
          },
          "metadata": {
            "tags": []
          },
          "execution_count": 23
        },
        {
          "output_type": "display_data",
          "data": {
            "image/png": "[encoded data removed]",
            "text/plain": [
              "<Figure size 720x648 with 1 Axes>"
            ]
          },
          "metadata": {
            "tags": [],
            "needs_background": "light"
          }
        }
      ]
    },
    {
      "cell_type": "markdown",
      "metadata": {
        "id": "G8G2hdkwLjsk",
        "colab_type": "text"
      },
      "source": [
        "# Product Remmendations"
      ]
    },
    {
      "cell_type": "code",
      "metadata": {
        "id": "1vKPc52MLigL",
        "colab_type": "code",
        "colab": {}
      },
      "source": [
        "products = train_df[[\"StockCode\", \"Description\"]]\n",
        "\n",
        "# remove duplicates\n",
        "products.drop_duplicates(inplace=True, subset='StockCode', keep=\"last\")\n",
        "\n",
        "# create product-ID and product-description dictionary\n",
        "products_dict = products.groupby('StockCode')['Description'].apply(list).to_dict()"
      ],
      "execution_count": 0,
      "outputs": []
    },
    {
      "cell_type": "code",
      "metadata": {
        "id": "DeDiOi3hLnWF",
        "colab_type": "code",
        "colab": {
          "base_uri": "https://localhost:8080/",
          "height": 34
        },
        "outputId": "b19134bd-3cf7-4d2f-9699-cd28b5b380a4"
      },
      "source": [
        "# test the dictionary\n",
        "products_dict['84029E']"
      ],
      "execution_count": 25,
      "outputs": [
        {
          "output_type": "execute_result",
          "data": {
            "text/plain": [
              "['RED WOOLLY HOTTIE WHITE HEART.']"
            ]
          },
          "metadata": {
            "tags": []
          },
          "execution_count": 25
        }
      ]
    },
    {
      "cell_type": "code",
      "metadata": {
        "id": "CivRoMSULof1",
        "colab_type": "code",
        "colab": {}
      },
      "source": [
        "def similar_products(v, n = 6):\n",
        "    \n",
        "    # extract most similar products for the input vector\n",
        "    ms = model.similar_by_vector(v, topn= n+1)[1:]\n",
        "    \n",
        "    # extract name and similarity score of the similar products\n",
        "    new_ms = []\n",
        "    for j in ms:\n",
        "        pair = (products_dict[j[0]][0], j[1])\n",
        "        new_ms.append(pair)\n",
        "        \n",
        "    return new_ms"
      ],
      "execution_count": 0,
      "outputs": []
    },
    {
      "cell_type": "code",
      "metadata": {
        "id": "u1auwhR_LqX_",
        "colab_type": "code",
        "colab": {
          "base_uri": "https://localhost:8080/",
          "height": 119
        },
        "outputId": "18b835fd-e84b-4a2d-8b45-5a6ddb64c91f"
      },
      "source": [
        "similar_products(model['90019A'])"
      ],
      "execution_count": 27,
      "outputs": [
        {
          "output_type": "execute_result",
          "data": {
            "text/plain": [
              "[('SILVER M.O.P ORBIT DROP EARRINGS', 0.7957180738449097),\n",
              " ('AMBER DROP EARRINGS W LONG BEADS', 0.7569602131843567),\n",
              " ('PINK HEART OF GLASS BRACELET', 0.7378568053245544),\n",
              " ('SILVER LARIAT BLACK STONE EARRINGS', 0.7340518832206726),\n",
              " ('PINK BOUDICCA LARGE BRACELET', 0.733978807926178),\n",
              " ('DROP DIAMANTE EARRINGS PURPLE', 0.7312412261962891)]"
            ]
          },
          "metadata": {
            "tags": []
          },
          "execution_count": 27
        }
      ]
    },
    {
      "cell_type": "code",
      "metadata": {
        "id": "YeT5SGYWLr3i",
        "colab_type": "code",
        "colab": {}
      },
      "source": [
        "def aggregate_vectors(products):\n",
        "    product_vec = []\n",
        "    for i in products:\n",
        "        try:\n",
        "            product_vec.append(model[i])\n",
        "        except KeyError:\n",
        "            continue\n",
        "        \n",
        "    return np.mean(product_vec, axis=0)"
      ],
      "execution_count": 0,
      "outputs": []
    },
    {
      "cell_type": "code",
      "metadata": {
        "id": "x64NuwehLtqW",
        "colab_type": "code",
        "colab": {
          "base_uri": "https://localhost:8080/",
          "height": 34
        },
        "outputId": "7532ddfc-aab2-4fc4-b5d2-6d566c120997"
      },
      "source": [
        "len(purchases_val[0])"
      ],
      "execution_count": 29,
      "outputs": [
        {
          "output_type": "execute_result",
          "data": {
            "text/plain": [
              "196"
            ]
          },
          "metadata": {
            "tags": []
          },
          "execution_count": 29
        }
      ]
    },
    {
      "cell_type": "code",
      "metadata": {
        "id": "v-ZgJzi2Lum4",
        "colab_type": "code",
        "colab": {
          "base_uri": "https://localhost:8080/",
          "height": 34
        },
        "outputId": "a4346449-b46c-4ce8-9f21-816b97920f85"
      },
      "source": [
        "aggregate_vectors(purchases_val[0]).shape"
      ],
      "execution_count": 30,
      "outputs": [
        {
          "output_type": "execute_result",
          "data": {
            "text/plain": [
              "(100,)"
            ]
          },
          "metadata": {
            "tags": []
          },
          "execution_count": 30
        }
      ]
    },
    {
      "cell_type": "code",
      "metadata": {
        "id": "gCQZwYNLLxLB",
        "colab_type": "code",
        "colab": {
          "base_uri": "https://localhost:8080/",
          "height": 119
        },
        "outputId": "5e96760e-cf7a-4f2c-ad9e-a397f05abf30"
      },
      "source": [
        "similar_products(aggregate_vectors(purchases_val[0]))"
      ],
      "execution_count": 31,
      "outputs": [
        {
          "output_type": "execute_result",
          "data": {
            "text/plain": [
              "[('JAM MAKING SET WITH JARS', 0.6852157115936279),\n",
              " ('SET OF 3 CAKE TINS PANTRY DESIGN ', 0.6827042102813721),\n",
              " ('PARTY BUNTING', 0.6795619130134583),\n",
              " ('SET OF 3 REGENCY CAKE TINS', 0.6687659025192261),\n",
              " ('SPOTTY BUNTING', 0.6669155359268188),\n",
              " ('SET OF TEA COFFEE SUGAR TINS PANTRY', 0.6611402630805969)]"
            ]
          },
          "metadata": {
            "tags": []
          },
          "execution_count": 31
        }
      ]
    },
    {
      "cell_type": "code",
      "metadata": {
        "id": "mrA881iHLyjq",
        "colab_type": "code",
        "colab": {
          "base_uri": "https://localhost:8080/",
          "height": 119
        },
        "outputId": "fc416890-ef1c-4499-c5e3-001d5627800d"
      },
      "source": [
        "similar_products(aggregate_vectors(purchases_val[0][-10:]))"
      ],
      "execution_count": 32,
      "outputs": [
        {
          "output_type": "execute_result",
          "data": {
            "text/plain": [
              "[('SET OF 6 RIBBONS VINTAGE CHRISTMAS', 0.6516264081001282),\n",
              " ('SET OF 3 REGENCY CAKE TINS', 0.640785813331604),\n",
              " (\"BISCUIT TIN 50'S CHRISTMAS\", 0.6287319660186768),\n",
              " (\"BOX OF 6 MINI 50'S CRACKERS\", 0.6285550594329834),\n",
              " (\"6 GIFT TAGS 50'S CHRISTMAS \", 0.620890736579895),\n",
              " ('PACK OF SIX LED TEA LIGHTS', 0.6186081171035767)]"
            ]
          },
          "metadata": {
            "tags": []
          },
          "execution_count": 32
        }
      ]
    }
  ]
}