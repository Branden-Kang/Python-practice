{
  "nbformat": 4,
  "nbformat_minor": 0,
  "metadata": {
    "colab": {
      "name": "Multidimensional scaling for dissimilarity visualization.ipynb",
      "provenance": [],
      "authorship_tag": "ABX9TyNZMhwTce0axk1p4mA++6KB"
    },
    "kernelspec": {
      "name": "python3",
      "display_name": "Python 3"
    }
  },
  "cells": [
    {
      "cell_type": "markdown",
      "metadata": {
        "id": "KALsyQRcELBP"
      },
      "source": [
        "[Reference](https://medium.com/dataseries/multidimensional-scaling-for-dissimilarity-visualization-9fb061396cf3)"
      ]
    },
    {
      "cell_type": "code",
      "metadata": {
        "id": "DunnlQo8Dsxv",
        "outputId": "7ae8bcf0-5112-492a-8a94-1d4a57c92a9e",
        "colab": {
          "base_uri": "https://localhost:8080/",
          "height": 34
        }
      },
      "source": [
        "#importing necessary packages\n",
        "import numpy as np  \n",
        "import scipy\n",
        "import matplotlib.pyplot as plt\n",
        "from sklearn.metrics import pairwise_distances #jaccard diss.\n",
        "from sklearn import manifold  # multidimensional scaling\n",
        "\n",
        "foods_binary = np.random.randint(2, size=(100, 10)) #initial dataset\n",
        "print(foods_binary.shape)"
      ],
      "execution_count": 1,
      "outputs": [
        {
          "output_type": "stream",
          "text": [
            "(100, 10)\n"
          ],
          "name": "stdout"
        }
      ]
    },
    {
      "cell_type": "code",
      "metadata": {
        "id": "DRfoLOYUDyIB",
        "outputId": "d09f42a1-0c28-4ca6-bbf8-a88724515985",
        "colab": {
          "base_uri": "https://localhost:8080/",
          "height": 88
        }
      },
      "source": [
        "dis_matrix = pairwise_distances(foods_binary, metric = 'jaccard')\n",
        "print(dis_matrix.shape)"
      ],
      "execution_count": 2,
      "outputs": [
        {
          "output_type": "stream",
          "text": [
            "(100, 100)\n"
          ],
          "name": "stdout"
        },
        {
          "output_type": "stream",
          "text": [
            "/usr/local/lib/python3.6/dist-packages/sklearn/metrics/pairwise.py:1738: DataConversionWarning: Data was converted to boolean for metric jaccard\n",
            "  warnings.warn(msg, DataConversionWarning)\n"
          ],
          "name": "stderr"
        }
      ]
    },
    {
      "cell_type": "code",
      "metadata": {
        "id": "exzXoM-3D03F",
        "outputId": "257dfac9-26c4-4a01-920e-c9ab542fad74",
        "colab": {
          "base_uri": "https://localhost:8080/",
          "height": 238
        }
      },
      "source": [
        "dis_matrix"
      ],
      "execution_count": 3,
      "outputs": [
        {
          "output_type": "execute_result",
          "data": {
            "text/plain": [
              "array([[0.        , 0.85714286, 0.57142857, ..., 0.375     , 0.88888889,\n",
              "        0.33333333],\n",
              "       [0.85714286, 0.        , 0.8       , ..., 0.71428571, 0.8       ,\n",
              "        1.        ],\n",
              "       [0.57142857, 0.8       , 0.        , ..., 0.42857143, 0.66666667,\n",
              "        0.85714286],\n",
              "       ...,\n",
              "       [0.375     , 0.71428571, 0.42857143, ..., 0.        , 0.625     ,\n",
              "        0.625     ],\n",
              "       [0.88888889, 0.8       , 0.66666667, ..., 0.625     , 0.        ,\n",
              "        1.        ],\n",
              "       [0.33333333, 1.        , 0.85714286, ..., 0.625     , 1.        ,\n",
              "        0.        ]])"
            ]
          },
          "metadata": {
            "tags": []
          },
          "execution_count": 3
        }
      ]
    },
    {
      "cell_type": "code",
      "metadata": {
        "id": "82M96U6nD1wr",
        "outputId": "18728daa-cfd9-4415-ec99-430fbbf273b5",
        "colab": {
          "base_uri": "https://localhost:8080/",
          "height": 295
        }
      },
      "source": [
        "mds_model = manifold.MDS(n_components = 2, random_state = 123,\n",
        "    dissimilarity = 'precomputed')\n",
        "mds_fit = mds_model.fit(dis_matrix)  \n",
        "mds_coords = mds_model.fit_transform(dis_matrix) \n",
        "                                                                                                                                  \n",
        "food_names = ['pasta', 'pizza', 'meat', 'eggs', 'cheese', 'ananas', 'pear', 'bread', 'nuts', 'milk']\n",
        "\n",
        "plt.figure()\n",
        "plt.scatter(mds_coords[:,0],mds_coords[:,1],\n",
        "    facecolors = 'none', edgecolors = 'none')  # points in white (invisible)\n",
        "labels = food_names\n",
        "for label, x, y in zip(labels, mds_coords[:,0], mds_coords[:,1]):\n",
        "    plt.annotate(label, (x,y), xycoords = 'data')\n",
        "plt.xlabel('First Dimension')\n",
        "plt.ylabel('Second Dimension')\n",
        "plt.title('Dissimilarity among food items')    \n",
        "plt.show()"
      ],
      "execution_count": 4,
      "outputs": [
        {
          "output_type": "display_data",
          "data": {
            "image/png": "[encoded data removed]",
            "text/plain": [
              "<Figure size 432x288 with 1 Axes>"
            ]
          },
          "metadata": {
            "tags": [],
            "needs_background": "light"
          }
        }
      ]
    }
  ]
}