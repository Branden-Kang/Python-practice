{
  "nbformat": 4,
  "nbformat_minor": 0,
  "metadata": {
    "colab": {
      "name": "Use Python classes effectively.ipynb",
      "provenance": [],
      "authorship_tag": "ABX9TyOZ8TiAJvSQDT1tlHnywiUU"
    },
    "kernelspec": {
      "name": "python3",
      "display_name": "Python 3"
    }
  },
  "cells": [
    {
      "cell_type": "markdown",
      "metadata": {
        "id": "UrW6DQakekU9"
      },
      "source": [
        "[Reference](https://towardsdatascience.com/how-to-use-python-classes-effectively-10b42db8d7bd)"
      ]
    },
    {
      "cell_type": "code",
      "metadata": {
        "id": "ralxsGp_eiJv"
      },
      "source": [
        "class Clothing(object):\n",
        "    def __init__(self, type, color, size, price=None):\n",
        "        self.type = type\n",
        "        self.color = color\n",
        "        self.size = size\n",
        "        self.price = price"
      ],
      "execution_count": 1,
      "outputs": []
    },
    {
      "cell_type": "code",
      "metadata": {
        "id": "b9gKE-LAeo_0"
      },
      "source": [
        "bluejeans = Clothing(\"jeans\", \"blue\", 12)\n",
        "redtshirt = Clothing(\"t-shirt\", \"red\", 10, 10)"
      ],
      "execution_count": 2,
      "outputs": []
    },
    {
      "cell_type": "code",
      "metadata": {
        "id": "uog6RX0weqLO"
      },
      "source": [
        "class Clothing(object):\n",
        "    def __init__(self, type, color, size, price=None):\n",
        "        self.type = type\n",
        "        self.color = color\n",
        "        self.size = size\n",
        "        self.price = price\n",
        "    def set_price(self, price):\n",
        "        \"\"\"Set the price of an item of clothing.\"\"\"\n",
        "        self.price = price\n",
        "        print(f\"Setting the price of the {self.color} {self.type} to ${price}.\")\n",
        " \n",
        "    def get_price(self):\n",
        "        \"\"\"Get the price of an item of clothing, if price is set.\"\"\"\n",
        "        try:\n",
        "            print(f\"The {self.color} {self.type} costs ${self.price}.\")\n",
        "        except:\n",
        "            print(f\"The price of the {self.color} {self.type} hasn't been set yet!\")    \n",
        "\n",
        "    def promote(self, percentage):\n",
        "        \"\"\"Lower the price, if initial price is set.\"\"\"\n",
        "        try:\n",
        "            self.price = self.price * (1-percentage/100)\n",
        "            print(f\"The price of the {self.color} {self.type} has been reduced by {percentage} percent! It now only costs ${self.price:.0f}.\")\n",
        "        except:\n",
        "            print(f\"Oops. Set an initial price first!\")"
      ],
      "execution_count": 3,
      "outputs": []
    },
    {
      "cell_type": "code",
      "metadata": {
        "id": "RXDvcF2Me15E"
      },
      "source": [
        "bluejeans = Clothing(\"jeans\", \"blue\", 12)\n",
        "redtshirt = Clothing(\"t-shirt\", \"red\", 10, 10)"
      ],
      "execution_count": 5,
      "outputs": []
    },
    {
      "cell_type": "code",
      "metadata": {
        "colab": {
          "base_uri": "https://localhost:8080/"
        },
        "id": "8g7q4QdGeyER",
        "outputId": "2a2512e4-2c65-43d0-d28c-87c75150c009"
      },
      "source": [
        "print(\"blue jeans -------------------\")\n",
        "bluejeans.promote(20)\n",
        "bluejeans.set_price(30)\n",
        "bluejeans.get_price()\n",
        "\n",
        "print(\"red t-shirt ------------------\")\n",
        "redtshirt.get_price()\n",
        "redtshirt.promote(20)"
      ],
      "execution_count": 6,
      "outputs": [
        {
          "output_type": "stream",
          "text": [
            "blue jeans -------------------\n",
            "Oops. Set an initial price first!\n",
            "Setting the price of the blue jeans to $30.\n",
            "The blue jeans costs $30.\n",
            "red t-shirt ------------------\n",
            "The red t-shirt costs $10.\n",
            "The price of the red t-shirt has been reduced by 20 percent! It now only costs $8.\n"
          ],
          "name": "stdout"
        }
      ]
    },
    {
      "cell_type": "code",
      "metadata": {
        "id": "01ZCc9R2ey5x"
      },
      "source": [
        "del redtshirt.price "
      ],
      "execution_count": 7,
      "outputs": []
    },
    {
      "cell_type": "code",
      "metadata": {
        "id": "64K1Donfe4FJ"
      },
      "source": [
        "del redtshirt"
      ],
      "execution_count": 8,
      "outputs": []
    },
    {
      "cell_type": "code",
      "metadata": {
        "colab": {
          "base_uri": "https://localhost:8080/"
        },
        "id": "Gufep7_me4sa",
        "outputId": "5f419dc3-0cd1-4fc8-a569-dd68af28a038"
      },
      "source": [
        "from functools import partial\n",
        "\n",
        "def multiply(x,y):\n",
        "    return x * y\n",
        "    \n",
        "doubling = partial(multiply,2)\n",
        "print(doubling(4))"
      ],
      "execution_count": 9,
      "outputs": [
        {
          "output_type": "stream",
          "text": [
            "8\n"
          ],
          "name": "stdout"
        }
      ]
    }
  ]
}