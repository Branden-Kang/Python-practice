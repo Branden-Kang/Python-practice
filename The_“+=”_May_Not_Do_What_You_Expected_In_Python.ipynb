{
  "nbformat": 4,
  "nbformat_minor": 0,
  "metadata": {
    "colab": {
      "name": "The “+=” May Not Do What You Expected In Python.ipynb",
      "provenance": [],
      "authorship_tag": "ABX9TyMy6qJTaznIBnG8Zyg5lvAN"
    },
    "kernelspec": {
      "name": "python3",
      "display_name": "Python 3"
    },
    "language_info": {
      "name": "python"
    }
  },
  "cells": [
    {
      "cell_type": "markdown",
      "metadata": {
        "id": "3kn3l-mN2qd3"
      },
      "source": [
        "[Reference](https://towardsdatascience.com/the-may-not-do-what-you-expected-in-python-d46991992974)"
      ]
    },
    {
      "cell_type": "markdown",
      "metadata": {
        "id": "DNSWe2a92yaW"
      },
      "source": [
        "# 1. When __add__ is Called?"
      ]
    },
    {
      "cell_type": "code",
      "metadata": {
        "colab": {
          "base_uri": "https://localhost:8080/"
        },
        "id": "3d9kudIQ2m_x",
        "outputId": "ad6c5ecc-b89b-4156-a88c-7ba309edd446"
      },
      "source": [
        "a = 1\n",
        "b = 2\n",
        "\n",
        "(a + b) == (a.__add__(b))"
      ],
      "execution_count": 1,
      "outputs": [
        {
          "output_type": "execute_result",
          "data": {
            "text/plain": [
              "True"
            ]
          },
          "metadata": {
            "tags": []
          },
          "execution_count": 1
        }
      ]
    },
    {
      "cell_type": "code",
      "metadata": {
        "id": "67pVwH2a24PT"
      },
      "source": [
        "class X:\n",
        "    def __init__(self, num):\n",
        "        self.num = num\n",
        "        \n",
        "    def __add__(self, other_X):\n",
        "        print('I am called!')\n",
        "        return X(self.num + other_X.num)\n",
        "        \n",
        "    def __repr__(self):\n",
        "        return str(self.num)"
      ],
      "execution_count": 12,
      "outputs": []
    },
    {
      "cell_type": "code",
      "metadata": {
        "colab": {
          "base_uri": "https://localhost:8080/"
        },
        "id": "ySWGIPyJ28Kw",
        "outputId": "e72f7d3c-71a9-4725-fbc0-4dc8e9cea507"
      },
      "source": [
        "a = X(1)\n",
        "b = X(2)\n",
        "\n",
        "print('a + b =', a + b)"
      ],
      "execution_count": 3,
      "outputs": [
        {
          "output_type": "stream",
          "text": [
            "I am called!\n",
            "a + b = 3\n"
          ],
          "name": "stdout"
        }
      ]
    },
    {
      "cell_type": "markdown",
      "metadata": {
        "id": "5VjEezqz2_cj"
      },
      "source": [
        "# 2. What Makes __radd__ Different from __add__?"
      ]
    },
    {
      "cell_type": "code",
      "metadata": {
        "colab": {
          "base_uri": "https://localhost:8080/"
        },
        "id": "kq-ucC3S29yH",
        "outputId": "cfcc8ac7-3bb4-4fc1-cdac-b92cc730efc8"
      },
      "source": [
        "x = 10\n",
        "y = 2\n",
        "\n",
        "x.__truediv__(y)"
      ],
      "execution_count": 4,
      "outputs": [
        {
          "output_type": "execute_result",
          "data": {
            "text/plain": [
              "5.0"
            ]
          },
          "metadata": {
            "tags": []
          },
          "execution_count": 4
        }
      ]
    },
    {
      "cell_type": "code",
      "metadata": {
        "colab": {
          "base_uri": "https://localhost:8080/"
        },
        "id": "GAuYOPhT3FA1",
        "outputId": "cfb9ba60-d972-437f-e90c-2ac9c23d6e71"
      },
      "source": [
        "x.__rtruediv__(y)"
      ],
      "execution_count": 5,
      "outputs": [
        {
          "output_type": "execute_result",
          "data": {
            "text/plain": [
              "0.2"
            ]
          },
          "metadata": {
            "tags": []
          },
          "execution_count": 5
        }
      ]
    },
    {
      "cell_type": "markdown",
      "metadata": {
        "id": "RY3I8cI33M8G"
      },
      "source": [
        "# 3. When __radd__ is Called?"
      ]
    },
    {
      "cell_type": "code",
      "metadata": {
        "id": "TNjO4Cy23NNV"
      },
      "source": [
        "class Y:\n",
        "    def __init__(self, num):\n",
        "        self.num = num\n",
        "        \n",
        "    def __repr__(self):\n",
        "        return str(self.num)"
      ],
      "execution_count": 13,
      "outputs": []
    },
    {
      "cell_type": "code",
      "metadata": {
        "colab": {
          "base_uri": "https://localhost:8080/"
        },
        "id": "_Jru4TEh3-05",
        "outputId": "188de1f1-86e9-487a-cc16-c8a9aa00b65c"
      },
      "source": [
        "a = X(1)\n",
        "b = Y(2)\n",
        "\n",
        "print('b + a =', a + b)"
      ],
      "execution_count": 14,
      "outputs": [
        {
          "output_type": "stream",
          "text": [
            "I am called!\n",
            "b + a = 3\n"
          ],
          "name": "stdout"
        }
      ]
    },
    {
      "cell_type": "code",
      "metadata": {
        "colab": {
          "base_uri": "https://localhost:8080/",
          "height": 232
        },
        "id": "gCy8SYW33O7B",
        "outputId": "d6038984-a0f8-43d0-f917-8b276d6bb1e3"
      },
      "source": [
        "a = X(1)\n",
        "b = Y(2)\n",
        "\n",
        "print('b + a =', b + a)"
      ],
      "execution_count": 9,
      "outputs": [
        {
          "output_type": "error",
          "ename": "TypeError",
          "evalue": "ignored",
          "traceback": [
            "\u001b[0;31m---------------------------------------------------------------------------\u001b[0m",
            "\u001b[0;31mTypeError\u001b[0m                                 Traceback (most recent call last)",
            "\u001b[0;32m<ipython-input-9-ffff326772f4>\u001b[0m in \u001b[0;36m<module>\u001b[0;34m()\u001b[0m\n\u001b[1;32m      2\u001b[0m \u001b[0mb\u001b[0m \u001b[0;34m=\u001b[0m \u001b[0mY\u001b[0m\u001b[0;34m(\u001b[0m\u001b[0;36m2\u001b[0m\u001b[0;34m)\u001b[0m\u001b[0;34m\u001b[0m\u001b[0;34m\u001b[0m\u001b[0m\n\u001b[1;32m      3\u001b[0m \u001b[0;34m\u001b[0m\u001b[0m\n\u001b[0;32m----> 4\u001b[0;31m \u001b[0mprint\u001b[0m\u001b[0;34m(\u001b[0m\u001b[0;34m'b + a ='\u001b[0m\u001b[0;34m,\u001b[0m \u001b[0mb\u001b[0m \u001b[0;34m+\u001b[0m \u001b[0ma\u001b[0m\u001b[0;34m)\u001b[0m\u001b[0;34m\u001b[0m\u001b[0;34m\u001b[0m\u001b[0m\n\u001b[0m",
            "\u001b[0;31mTypeError\u001b[0m: unsupported operand type(s) for +: 'Y' and 'X'"
          ]
        }
      ]
    },
    {
      "cell_type": "code",
      "metadata": {
        "colab": {
          "base_uri": "https://localhost:8080/"
        },
        "id": "XZwmvEl03Qqk",
        "outputId": "3493c7b5-b273-43b7-b03d-e9b9608cc274"
      },
      "source": [
        "class X:\n",
        "    def __init__(self, num):\n",
        "        self.num = num\n",
        "        \n",
        "    def __add__(self, other_X):\n",
        "        print('I am called!')\n",
        "        return X(self.num + other_X.num)\n",
        "\n",
        "    def __radd__(self, other_num):\n",
        "            print('Reversed adding!')\n",
        "            return X(self.num + other_num.num)\n",
        "\n",
        "    def __repr__(self):\n",
        "        return str(self.num)\n",
        "\n",
        "class Y:\n",
        "    def __init__(self, num):\n",
        "        self.num = num\n",
        "        \n",
        "    def __repr__(self):\n",
        "        return str(self.num)\n",
        "\n",
        "a = X(1)\n",
        "b = Y(2)\n",
        "\n",
        "print('b + a =', b + a)"
      ],
      "execution_count": 10,
      "outputs": [
        {
          "output_type": "stream",
          "text": [
            "Reversed adding!\n",
            "b + a = 3\n"
          ],
          "name": "stdout"
        }
      ]
    },
    {
      "cell_type": "code",
      "metadata": {
        "colab": {
          "base_uri": "https://localhost:8080/"
        },
        "id": "Zz0BuLAB3-UU",
        "outputId": "f7410427-8669-4786-91b8-ef5d6161ad26"
      },
      "source": [
        "class X:\n",
        "    def __init__(self, num):\n",
        "        self.num = num\n",
        "        \n",
        "    def __add__(self, other_X):\n",
        "        print('I am called!')\n",
        "        return X(self.num + other_X.num)\n",
        "        \n",
        "    def __repr__(self):\n",
        "        return str(self.num)\n",
        "\n",
        "a = X(1)\n",
        "b = X(2)\n",
        "a += b\n",
        "print('new a =', a)"
      ],
      "execution_count": 16,
      "outputs": [
        {
          "output_type": "stream",
          "text": [
            "I am called!\n",
            "new a = 3\n"
          ],
          "name": "stdout"
        }
      ]
    },
    {
      "cell_type": "code",
      "metadata": {
        "id": "O5oXskd84GD3"
      },
      "source": [
        "class X:\n",
        "    def __init__(self, num):\n",
        "        self.num = num\n",
        "        \n",
        "    def __add__(self, other_X):\n",
        "        print('I am called!')\n",
        "        return X(self.num + other_X.num)\n",
        "        \n",
        "    def __iadd__(self, other_X):\n",
        "        print('return myself')\n",
        "        self.num = self.num + other_X.num\n",
        "        return self\n",
        "        \n",
        "    def __repr__(self):\n",
        "        return str(self.num)"
      ],
      "execution_count": 17,
      "outputs": []
    },
    {
      "cell_type": "code",
      "metadata": {
        "colab": {
          "base_uri": "https://localhost:8080/"
        },
        "id": "9q-A_YZq4Rqn",
        "outputId": "c4c42b7a-9992-42b9-de47-8ba7a95a5671"
      },
      "source": [
        "a = X(1)\n",
        "b = X(2)\n",
        "\n",
        "a += b\n",
        "\n",
        "print('new a =', a)"
      ],
      "execution_count": 18,
      "outputs": [
        {
          "output_type": "stream",
          "text": [
            "return myself\n",
            "new a = 3\n"
          ],
          "name": "stdout"
        }
      ]
    },
    {
      "cell_type": "markdown",
      "metadata": {
        "id": "i6bYPPl54YYN"
      },
      "source": [
        "# 5. The Difference Between “a=a+b” and “a+=b”"
      ]
    },
    {
      "cell_type": "code",
      "metadata": {
        "id": "CuxsisKd4Wx9"
      },
      "source": [
        "a = [1, 2]\n",
        "b = [3, 4]"
      ],
      "execution_count": 19,
      "outputs": []
    },
    {
      "cell_type": "code",
      "metadata": {
        "id": "lKBbnG3V4aLK"
      },
      "source": [
        "c = a"
      ],
      "execution_count": 20,
      "outputs": []
    },
    {
      "cell_type": "code",
      "metadata": {
        "colab": {
          "base_uri": "https://localhost:8080/"
        },
        "id": "-DPrb7bz4aeq",
        "outputId": "5a8fbfb7-3ffc-4861-e39a-4676fc019e43"
      },
      "source": [
        "a = a + b\n",
        "print(\"a =\", a)\n",
        "print(\"c =\", c)"
      ],
      "execution_count": 21,
      "outputs": [
        {
          "output_type": "stream",
          "text": [
            "a = [1, 2, 3, 4]\n",
            "c = [1, 2]\n"
          ],
          "name": "stdout"
        }
      ]
    },
    {
      "cell_type": "code",
      "metadata": {
        "colab": {
          "base_uri": "https://localhost:8080/"
        },
        "id": "F8Xah9w04bzO",
        "outputId": "a7189991-dbb6-4977-fb3f-6884b4a71b48"
      },
      "source": [
        "a = [1, 2]\n",
        "b = [3, 4]\n",
        "c = a\n",
        "a += b\n",
        "print(\"a =\", a)\n",
        "print(\"c =\", c)"
      ],
      "execution_count": 23,
      "outputs": [
        {
          "output_type": "stream",
          "text": [
            "a = [1, 2, 3, 4]\n",
            "c = [1, 2, 3, 4]\n"
          ],
          "name": "stdout"
        }
      ]
    },
    {
      "cell_type": "code",
      "metadata": {
        "colab": {
          "base_uri": "https://localhost:8080/"
        },
        "id": "qplgIuJP4dMh",
        "outputId": "4ec0df8c-963b-4a4c-8966-97bc8252049d"
      },
      "source": [
        "a = (1, 2)\n",
        "b = (3, 4)\n",
        "c = a\n",
        "a += b\n",
        "print(\"a\", a)\n",
        "print(\"c\", c)"
      ],
      "execution_count": 24,
      "outputs": [
        {
          "output_type": "stream",
          "text": [
            "a (1, 2, 3, 4)\n",
            "c (1, 2)\n"
          ],
          "name": "stdout"
        }
      ]
    }
  ]
}