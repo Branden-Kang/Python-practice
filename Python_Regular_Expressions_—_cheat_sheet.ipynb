{
  "nbformat": 4,
  "nbformat_minor": 0,
  "metadata": {
    "colab": {
      "name": "Python Regular Expressions — cheat sheet.ipynb",
      "provenance": [],
      "authorship_tag": "ABX9TyNLfpTQodFZwomJpDH5TpKf"
    },
    "kernelspec": {
      "name": "python3",
      "display_name": "Python 3"
    },
    "language_info": {
      "name": "python"
    }
  },
  "cells": [
    {
      "cell_type": "markdown",
      "source": [
        "[Reference](https://medium.com/@valeria.aynbinder.edu/python-regular-expressions-cheat-sheet-cd0992c36f6f)"
      ],
      "metadata": {
        "id": "fb1vspKvQAq2"
      }
    },
    {
      "cell_type": "code",
      "execution_count": 2,
      "metadata": {
        "id": "fpu6CiEFOHh4"
      },
      "outputs": [],
      "source": [
        "import re"
      ]
    },
    {
      "cell_type": "markdown",
      "source": [
        "# re.match"
      ],
      "metadata": {
        "id": "joqpYCnKQXHL"
      }
    },
    {
      "cell_type": "code",
      "source": [
        "print(re.match(pattern=\"h\", string=\"hello\"))\n",
        "print(re.match(pattern=\"o\", string=\"hello\"))\n",
        "print(re.match(pattern=\".*o\", string=\"hello\"))\n",
        "print(re.match(pattern=\"h.*\", string=\"hello\"))"
      ],
      "metadata": {
        "colab": {
          "base_uri": "https://localhost:8080/"
        },
        "id": "MhzxrLgGQYdi",
        "outputId": "8e584c92-9224-418e-afcb-fec75ed92e34"
      },
      "execution_count": 4,
      "outputs": [
        {
          "output_type": "stream",
          "name": "stdout",
          "text": [
            "<re.Match object; span=(0, 1), match='h'>\n",
            "None\n",
            "<re.Match object; span=(0, 5), match='hello'>\n",
            "<re.Match object; span=(0, 5), match='hello'>\n"
          ]
        }
      ]
    },
    {
      "cell_type": "markdown",
      "source": [
        "# re.fullmatch"
      ],
      "metadata": {
        "id": "NyPXV7g0QaFH"
      }
    },
    {
      "cell_type": "code",
      "source": [
        "print(re.fullmatch(pattern=\"h\", string=\"hello\"))\n",
        "print(re.fullmatch(pattern=\"o\", string=\"hello\"))\n",
        "print(re.fullmatch(pattern=\".*o\", string=\"hello\"))\n",
        "print(re.fullmatch(pattern=\"h.*\", string=\"hello\"))"
      ],
      "metadata": {
        "colab": {
          "base_uri": "https://localhost:8080/"
        },
        "id": "tCCqebHvQaSg",
        "outputId": "ebca4217-2213-4ea3-dc97-01df5f29ee9f"
      },
      "execution_count": 5,
      "outputs": [
        {
          "output_type": "stream",
          "name": "stdout",
          "text": [
            "None\n",
            "None\n",
            "<re.Match object; span=(0, 5), match='hello'>\n",
            "<re.Match object; span=(0, 5), match='hello'>\n"
          ]
        }
      ]
    },
    {
      "cell_type": "markdown",
      "source": [
        "# re.search"
      ],
      "metadata": {
        "id": "iUrYJWaTQp32"
      }
    },
    {
      "cell_type": "code",
      "source": [
        "print(re.search(pattern=\"h\", string=\"hello\"))\n",
        "print(re.search(pattern=\"o\", string=\"hello\"))\n",
        "print(re.search(pattern=\".*o\", string=\"hello\"))\n",
        "print(re.search(pattern=\"h.*\", string=\"hello\"))"
      ],
      "metadata": {
        "colab": {
          "base_uri": "https://localhost:8080/"
        },
        "id": "44nKlm8nQny-",
        "outputId": "ebb114b0-d050-4b61-f80d-815996773e46"
      },
      "execution_count": 8,
      "outputs": [
        {
          "output_type": "stream",
          "name": "stdout",
          "text": [
            "<re.Match object; span=(0, 1), match='h'>\n",
            "<re.Match object; span=(4, 5), match='o'>\n",
            "<re.Match object; span=(0, 5), match='hello'>\n",
            "<re.Match object; span=(0, 5), match='hello'>\n"
          ]
        }
      ]
    },
    {
      "cell_type": "markdown",
      "source": [
        "# re.sub"
      ],
      "metadata": {
        "id": "lVAML00UQ9Xt"
      }
    },
    {
      "cell_type": "code",
      "source": [
        "print(re.sub(pattern=\"h\", repl=\"-\", string=\"hello\"))\n",
        "print(re.sub(pattern=\"o\", repl=\"-\", string=\"hello\"))\n",
        "print(re.sub(pattern=\".*o\", repl=\"-\", string=\"hello\"))\n",
        "print(re.sub(pattern=\"h.*\", repl=\"-\", string=\"hello\"))"
      ],
      "metadata": {
        "colab": {
          "base_uri": "https://localhost:8080/"
        },
        "id": "1TsXEfIuQ9mx",
        "outputId": "77352eb3-605c-4562-ad74-91a9249faf49"
      },
      "execution_count": 10,
      "outputs": [
        {
          "output_type": "stream",
          "name": "stdout",
          "text": [
            "-ello\n",
            "hell-\n",
            "-\n",
            "-\n"
          ]
        }
      ]
    },
    {
      "cell_type": "markdown",
      "source": [
        "# re.findall"
      ],
      "metadata": {
        "id": "60Fcksw3RSLj"
      }
    },
    {
      "cell_type": "code",
      "source": [
        "print(re.findall(pattern=\"h\", string=\"hello\"))\n",
        "print(re.findall(pattern=\"o\", string=\"hello\"))\n",
        "print(re.findall(pattern=\".*o\", string=\"hello\"))\n",
        "print(re.findall(pattern=\"h.*\", string=\"hello\"))"
      ],
      "metadata": {
        "colab": {
          "base_uri": "https://localhost:8080/"
        },
        "id": "Wfg6qYreRKGe",
        "outputId": "496d8041-7cc8-4214-fc96-2f9fddf2aa59"
      },
      "execution_count": 11,
      "outputs": [
        {
          "output_type": "stream",
          "name": "stdout",
          "text": [
            "['h']\n",
            "['o']\n",
            "['hello']\n",
            "['hello']\n"
          ]
        }
      ]
    },
    {
      "cell_type": "markdown",
      "source": [
        "# re.split"
      ],
      "metadata": {
        "id": "ZWsNLhulRWX1"
      }
    },
    {
      "cell_type": "code",
      "source": [
        "print(re.split(pattern=\"h\", string=\"hello\"))\n",
        "print(re.split(pattern=\"o\", string=\"hello\"))\n",
        "print(re.split(pattern=\".*o\", string=\"hello\"))\n",
        "print(re.split(pattern=\"h.*\", string=\"hello\"))\n",
        "print(re.split(pattern=\"l\", string=\"hello\"))"
      ],
      "metadata": {
        "colab": {
          "base_uri": "https://localhost:8080/"
        },
        "id": "GlhAT8wQRU5a",
        "outputId": "76a77f7e-1577-44b0-baf8-7bf10f098af9"
      },
      "execution_count": 12,
      "outputs": [
        {
          "output_type": "stream",
          "name": "stdout",
          "text": [
            "['', 'ello']\n",
            "['hell', '']\n",
            "['', '']\n",
            "['', '']\n",
            "['he', '', 'o']\n"
          ]
        }
      ]
    },
    {
      "cell_type": "markdown",
      "source": [
        "# Special meta-characters\n"
      ],
      "metadata": {
        "id": "R8ISQ0UuRflQ"
      }
    },
    {
      "cell_type": "code",
      "source": [
        "print(re.match(pattern=\"c.t\", string=\"cat\"))\n",
        "print(re.match(pattern=\"c.t\", string=\"cut\"))\n",
        "print(re.match(pattern=\"c.t\", string=\"caaat\"))\n",
        "\n",
        "print(re.match(pattern=\"c[a-g]t\", string=\"cat\"))\n",
        "print(re.match(pattern=\"c[a-g]t\", string=\"cct\"))\n",
        "print(re.match(pattern=\"c[a-g]t\", string=\"cut\"))\n",
        "\n",
        "print(re.match(pattern=\"c[^a-g]t\", string=\"cat\"))\n",
        "print(re.match(pattern=\"c[^a-g]t\", string=\"cut\"))\n",
        "\n",
        "print(re.match(pattern=\"c[a|u]t\", string=\"cat\"))\n",
        "print(re.match(pattern=\"c[a|u]t\", string=\"cut\"))\n",
        "print(re.match(pattern=\"c[a|u]t\", string=\"cbt\"))\n",
        "print(re.match(pattern=\"c[a|u]t\", string=\"ct\"))"
      ],
      "metadata": {
        "colab": {
          "base_uri": "https://localhost:8080/"
        },
        "id": "C2cF6v16RbNk",
        "outputId": "dff5d42b-ecd3-420c-ef4d-54b6e6e160ac"
      },
      "execution_count": 14,
      "outputs": [
        {
          "output_type": "stream",
          "name": "stdout",
          "text": [
            "<re.Match object; span=(0, 3), match='cat'>\n",
            "<re.Match object; span=(0, 3), match='cut'>\n",
            "None\n",
            "<re.Match object; span=(0, 3), match='cat'>\n",
            "<re.Match object; span=(0, 3), match='cct'>\n",
            "None\n",
            "None\n",
            "<re.Match object; span=(0, 3), match='cut'>\n",
            "<re.Match object; span=(0, 3), match='cat'>\n",
            "<re.Match object; span=(0, 3), match='cut'>\n",
            "None\n",
            "None\n"
          ]
        }
      ]
    },
    {
      "cell_type": "markdown",
      "source": [
        "# Repetition meta-characters\n"
      ],
      "metadata": {
        "id": "OXmdEVaqR5ij"
      }
    },
    {
      "cell_type": "code",
      "source": [
        "print(re.match(pattern=\"ca*t\", string=\"ct\"))\n",
        "print(re.match(pattern=\"ca*t\", string=\"cat\"))\n",
        "print(re.match(pattern=\"ca*t\", string=\"caaat\"))\n",
        "\n",
        "print(re.match(pattern=\"ca+t\", string=\"ct\"))\n",
        "print(re.match(pattern=\"ca+t\", string=\"cat\"))\n",
        "print(re.match(pattern=\"ca+t\", string=\"caaat\"))\n",
        "\n",
        "print(re.match(pattern=\"ca?t\", string=\"ct\"))\n",
        "print(re.match(pattern=\"ca?t\", string=\"cat\"))\n",
        "print(re.match(pattern=\"ca?t\", string=\"caaat\"))\n",
        "\n",
        "print(re.match(pattern=\"ca{1,3}t\", string=\"ct\"))\n",
        "print(re.match(pattern=\"ca{1,3}t\", string=\"cat\"))\n",
        "print(re.match(pattern=\"ca{1,3}t\", string=\"caaat\"))\n",
        "print(re.match(pattern=\"ca{3}t\", string=\"ct\"))\n",
        "print(re.match(pattern=\"ca{,3}t\", string=\"ct\"))\n",
        "print(re.match(pattern=\"ca{,3}t\", string=\"cat\"))\n",
        "print(re.match(pattern=\"ca{3,}t\", string=\"caaat\"))"
      ],
      "metadata": {
        "colab": {
          "base_uri": "https://localhost:8080/"
        },
        "id": "1UKntZhGRutT",
        "outputId": "52b16fdc-3336-4598-ddaf-142a4b4a97a2"
      },
      "execution_count": 15,
      "outputs": [
        {
          "output_type": "stream",
          "name": "stdout",
          "text": [
            "<re.Match object; span=(0, 2), match='ct'>\n",
            "<re.Match object; span=(0, 3), match='cat'>\n",
            "<re.Match object; span=(0, 5), match='caaat'>\n",
            "None\n",
            "<re.Match object; span=(0, 3), match='cat'>\n",
            "<re.Match object; span=(0, 5), match='caaat'>\n",
            "<re.Match object; span=(0, 2), match='ct'>\n",
            "<re.Match object; span=(0, 3), match='cat'>\n",
            "None\n",
            "None\n",
            "<re.Match object; span=(0, 3), match='cat'>\n",
            "<re.Match object; span=(0, 5), match='caaat'>\n",
            "None\n",
            "<re.Match object; span=(0, 2), match='ct'>\n",
            "<re.Match object; span=(0, 3), match='cat'>\n",
            "<re.Match object; span=(0, 5), match='caaat'>\n"
          ]
        }
      ]
    },
    {
      "cell_type": "code",
      "source": [
        "result = re.match(\n",
        "    pattern = \"(\\w+)@(\\w+)\\.([a-z]+)\",\n",
        "    string=\"example@gmail.com\"\n",
        ")"
      ],
      "metadata": {
        "id": "hYzsTMnmSUn8"
      },
      "execution_count": 17,
      "outputs": []
    },
    {
      "cell_type": "code",
      "source": [
        "print(result.group(0))\n",
        "print(result.group(1))\n",
        "print(result.group(2))\n",
        "print(result.group(3))"
      ],
      "metadata": {
        "colab": {
          "base_uri": "https://localhost:8080/"
        },
        "id": "rBjO7w9_SnlK",
        "outputId": "230d3fee-069b-4c4f-88b0-1cffd2886144"
      },
      "execution_count": 20,
      "outputs": [
        {
          "output_type": "stream",
          "name": "stdout",
          "text": [
            "example@gmail.com\n",
            "example\n",
            "gmail\n",
            "com\n"
          ]
        }
      ]
    }
  ]
}