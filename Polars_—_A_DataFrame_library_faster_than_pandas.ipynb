{
  "nbformat": 4,
  "nbformat_minor": 0,
  "metadata": {
    "colab": {
      "provenance": [],
      "authorship_tag": "ABX9TyMMBWn/ZIFP7N3Cc3V9gXif"
    },
    "kernelspec": {
      "name": "python3",
      "display_name": "Python 3"
    },
    "language_info": {
      "name": "python"
    }
  },
  "cells": [
    {
      "cell_type": "markdown",
      "source": [
        "[Reference](https://medium.com/@pyzone.dev/polars-a-dataframe-library-faster-than-pandas-c1267315af0e)"
      ],
      "metadata": {
        "id": "UmS1KlqhL092"
      }
    },
    {
      "cell_type": "code",
      "execution_count": 1,
      "metadata": {
        "colab": {
          "base_uri": "https://localhost:8080/"
        },
        "id": "_J-jYG8WGt3h",
        "outputId": "1c27d4d0-0e42-429a-8a2d-fd6ebdf289c6"
      },
      "outputs": [
        {
          "output_type": "stream",
          "name": "stdout",
          "text": [
            "Looking in indexes: https://pypi.org/simple, https://us-python.pkg.dev/colab-wheels/public/simple/\n",
            "Collecting polars\n",
            "  Downloading polars-0.16.1-cp37-abi3-manylinux_2_17_x86_64.manylinux2014_x86_64.whl (15.3 MB)\n",
            "\u001b[2K     \u001b[90m━━━━━━━━━━━━━━━━━━━━━━━━━━━━━━━━━━━━━━━━\u001b[0m \u001b[32m15.3/15.3 MB\u001b[0m \u001b[31m43.1 MB/s\u001b[0m eta \u001b[36m0:00:00\u001b[0m\n",
            "\u001b[?25hRequirement already satisfied: typing_extensions>=4.0.0 in /usr/local/lib/python3.8/dist-packages (from polars) (4.4.0)\n",
            "Installing collected packages: polars\n",
            "Successfully installed polars-0.16.1\n"
          ]
        }
      ],
      "source": [
        "pip install polars"
      ]
    },
    {
      "cell_type": "code",
      "source": [
        "import polars as pl\n",
        "import numpy as np"
      ],
      "metadata": {
        "id": "rTxpA6cwL3Om"
      },
      "execution_count": 2,
      "outputs": []
    },
    {
      "cell_type": "code",
      "source": [
        "df = pl.DataFrame({\n",
        "    'col_str': ['a', 'b', 'c', 'd', 'e'],\n",
        "    'col_int': [1, None, 3, 4, 5],\n",
        "    'col_float': [0.1, np.nan, 0.3, None, 0.5],\n",
        "})\n",
        "print(df)"
      ],
      "metadata": {
        "colab": {
          "base_uri": "https://localhost:8080/"
        },
        "id": "qIlyfRUXL4yI",
        "outputId": "947edd10-6085-42b7-a3f3-25047efb260f"
      },
      "execution_count": 3,
      "outputs": [
        {
          "output_type": "stream",
          "name": "stdout",
          "text": [
            "shape: (5, 3)\n",
            "┌─────────┬─────────┬───────────┐\n",
            "│ col_str ┆ col_int ┆ col_float │\n",
            "│ ---     ┆ ---     ┆ ---       │\n",
            "│ str     ┆ i64     ┆ f64       │\n",
            "╞═════════╪═════════╪═══════════╡\n",
            "│ a       ┆ 1       ┆ 0.1       │\n",
            "│ b       ┆ null    ┆ NaN       │\n",
            "│ c       ┆ 3       ┆ 0.3       │\n",
            "│ d       ┆ 4       ┆ null      │\n",
            "│ e       ┆ 5       ┆ 0.5       │\n",
            "└─────────┴─────────┴───────────┘\n"
          ]
        }
      ]
    },
    {
      "cell_type": "code",
      "source": [
        "print(df.shape)\n",
        "print(df.height)\n",
        "print(df.width)"
      ],
      "metadata": {
        "colab": {
          "base_uri": "https://localhost:8080/"
        },
        "id": "z3F-gGxOL49K",
        "outputId": "006f701d-fef5-4de5-fade-cb6ee82d87f3"
      },
      "execution_count": 4,
      "outputs": [
        {
          "output_type": "stream",
          "name": "stdout",
          "text": [
            "(5, 3)\n",
            "5\n",
            "3\n"
          ]
        }
      ]
    },
    {
      "cell_type": "code",
      "source": [
        "print(df.head(2))"
      ],
      "metadata": {
        "colab": {
          "base_uri": "https://localhost:8080/"
        },
        "id": "5-APjmTXL7Ar",
        "outputId": "68956db9-a24e-42c3-e986-a9ccd2ef41a4"
      },
      "execution_count": 5,
      "outputs": [
        {
          "output_type": "stream",
          "name": "stdout",
          "text": [
            "shape: (2, 3)\n",
            "┌─────────┬─────────┬───────────┐\n",
            "│ col_str ┆ col_int ┆ col_float │\n",
            "│ ---     ┆ ---     ┆ ---       │\n",
            "│ str     ┆ i64     ┆ f64       │\n",
            "╞═════════╪═════════╪═══════════╡\n",
            "│ a       ┆ 1       ┆ 0.1       │\n",
            "│ b       ┆ null    ┆ NaN       │\n",
            "└─────────┴─────────┴───────────┘\n"
          ]
        }
      ]
    },
    {
      "cell_type": "code",
      "source": [
        "print(df[2])"
      ],
      "metadata": {
        "colab": {
          "base_uri": "https://localhost:8080/"
        },
        "id": "gSA-9Jn6L8dN",
        "outputId": "2c6a36db-8223-47c9-9098-1b39084ab879"
      },
      "execution_count": 6,
      "outputs": [
        {
          "output_type": "stream",
          "name": "stdout",
          "text": [
            "shape: (1, 3)\n",
            "┌─────────┬─────────┬───────────┐\n",
            "│ col_str ┆ col_int ┆ col_float │\n",
            "│ ---     ┆ ---     ┆ ---       │\n",
            "│ str     ┆ i64     ┆ f64       │\n",
            "╞═════════╪═════════╪═══════════╡\n",
            "│ c       ┆ 3       ┆ 0.3       │\n",
            "└─────────┴─────────┴───────────┘\n"
          ]
        }
      ]
    },
    {
      "cell_type": "code",
      "source": [
        "print(df[3:])"
      ],
      "metadata": {
        "colab": {
          "base_uri": "https://localhost:8080/"
        },
        "id": "xdLIZ-zyL8kY",
        "outputId": "8f0a6f59-6452-4efc-8200-9f1c60e2b084"
      },
      "execution_count": 7,
      "outputs": [
        {
          "output_type": "stream",
          "name": "stdout",
          "text": [
            "shape: (2, 3)\n",
            "┌─────────┬─────────┬───────────┐\n",
            "│ col_str ┆ col_int ┆ col_float │\n",
            "│ ---     ┆ ---     ┆ ---       │\n",
            "│ str     ┆ i64     ┆ f64       │\n",
            "╞═════════╪═════════╪═══════════╡\n",
            "│ d       ┆ 4       ┆ null      │\n",
            "│ e       ┆ 5       ┆ 0.5       │\n",
            "└─────────┴─────────┴───────────┘\n"
          ]
        }
      ]
    },
    {
      "cell_type": "code",
      "source": [
        "print(df[[1, 3], 'col_str'])"
      ],
      "metadata": {
        "colab": {
          "base_uri": "https://localhost:8080/"
        },
        "id": "taIu4c63L-Ig",
        "outputId": "57e74701-e25b-4740-ef6d-be61c5528807"
      },
      "execution_count": 8,
      "outputs": [
        {
          "output_type": "stream",
          "name": "stdout",
          "text": [
            "shape: (2, 1)\n",
            "┌─────────┐\n",
            "│ col_str │\n",
            "│ ---     │\n",
            "│ str     │\n",
            "╞═════════╡\n",
            "│ b       │\n",
            "│ d       │\n",
            "└─────────┘\n"
          ]
        }
      ]
    },
    {
      "cell_type": "code",
      "source": [
        "print(df[[1, 3], [0, 2]])"
      ],
      "metadata": {
        "colab": {
          "base_uri": "https://localhost:8080/"
        },
        "id": "6rhYSV5qL_RQ",
        "outputId": "3715f1b3-3e2b-4c4f-fc44-c7b04742e8ba"
      },
      "execution_count": 9,
      "outputs": [
        {
          "output_type": "stream",
          "name": "stdout",
          "text": [
            "shape: (2, 2)\n",
            "┌─────────┬───────────┐\n",
            "│ col_str ┆ col_float │\n",
            "│ ---     ┆ ---       │\n",
            "│ str     ┆ f64       │\n",
            "╞═════════╪═══════════╡\n",
            "│ b       ┆ NaN       │\n",
            "│ d       ┆ null      │\n",
            "└─────────┴───────────┘\n"
          ]
        }
      ]
    },
    {
      "cell_type": "code",
      "source": [
        "print(df[['col_str', 'col_float']])"
      ],
      "metadata": {
        "colab": {
          "base_uri": "https://localhost:8080/"
        },
        "id": "7Ej7AjbZMAe2",
        "outputId": "f2b2a4c7-5d16-44fe-90a0-041f6772b6bc"
      },
      "execution_count": 10,
      "outputs": [
        {
          "output_type": "stream",
          "name": "stdout",
          "text": [
            "shape: (5, 2)\n",
            "┌─────────┬───────────┐\n",
            "│ col_str ┆ col_float │\n",
            "│ ---     ┆ ---       │\n",
            "│ str     ┆ f64       │\n",
            "╞═════════╪═══════════╡\n",
            "│ a       ┆ 0.1       │\n",
            "│ b       ┆ NaN       │\n",
            "│ c       ┆ 0.3       │\n",
            "│ d       ┆ null      │\n",
            "│ e       ┆ 0.5       │\n",
            "└─────────┴───────────┘\n"
          ]
        }
      ]
    },
    {
      "cell_type": "code",
      "source": [
        "print(df['col_int'])  # you can also use to df.col_int"
      ],
      "metadata": {
        "colab": {
          "base_uri": "https://localhost:8080/"
        },
        "id": "H6kDL7gRMBro",
        "outputId": "c839010c-0ee1-49d8-ed58-829671a6cced"
      },
      "execution_count": 11,
      "outputs": [
        {
          "output_type": "stream",
          "name": "stdout",
          "text": [
            "shape: (5,)\n",
            "Series: 'col_int' [i64]\n",
            "[\n",
            "\t1\n",
            "\tnull\n",
            "\t3\n",
            "\t4\n",
            "\t5\n",
            "]\n"
          ]
        }
      ]
    },
    {
      "cell_type": "code",
      "source": [
        "print(df[-1, 'col_float'])"
      ],
      "metadata": {
        "colab": {
          "base_uri": "https://localhost:8080/"
        },
        "id": "DaFvSn5eMCvZ",
        "outputId": "9c181e0b-fd0f-4ef6-fbd5-29da80f5fb38"
      },
      "execution_count": 12,
      "outputs": [
        {
          "output_type": "stream",
          "name": "stdout",
          "text": [
            "0.5\n"
          ]
        }
      ]
    },
    {
      "cell_type": "code",
      "source": [
        "# df['col_bool'] = [True, True, False, False, True]"
      ],
      "metadata": {
        "id": "s8-mWTaqMEWJ"
      },
      "execution_count": 15,
      "outputs": []
    },
    {
      "cell_type": "code",
      "source": [
        "# same operation as above\n",
        "df = df.with_column(\n",
        "     pl.Series('col_bool', [True, True, False, False, True])\n",
        ")"
      ],
      "metadata": {
        "colab": {
          "base_uri": "https://localhost:8080/"
        },
        "id": "9tbMTDGkMFQx",
        "outputId": "6909f5ac-a859-4860-cacf-2b50f1ef7658"
      },
      "execution_count": 14,
      "outputs": [
        {
          "output_type": "stream",
          "name": "stderr",
          "text": [
            "<ipython-input-14-0ff449dd89c7>:2: DeprecationWarning: `with_column` has been deprecated in favor of `with_columns`. This method will be removed in version 0.17.0\n",
            "  df = df.with_column(\n"
          ]
        }
      ]
    },
    {
      "cell_type": "code",
      "source": [
        "df = df.rename({'col_float': 'col_flt'})"
      ],
      "metadata": {
        "id": "qNHifWUyMHRb"
      },
      "execution_count": 16,
      "outputs": []
    },
    {
      "cell_type": "code",
      "source": [
        "# df['col_flt'] = df['col_flt'].cast(pl.Float32)"
      ],
      "metadata": {
        "id": "gIELDbBeMM2G"
      },
      "execution_count": 18,
      "outputs": []
    },
    {
      "cell_type": "code",
      "source": [
        "df = df.drop('col_bool')"
      ],
      "metadata": {
        "id": "x-9cCqv6MNAy"
      },
      "execution_count": 19,
      "outputs": []
    },
    {
      "cell_type": "code",
      "source": [
        "print(df.to_pandas())\n",
        "print(df.to_numpy())"
      ],
      "metadata": {
        "colab": {
          "base_uri": "https://localhost:8080/"
        },
        "id": "xnUiF5AtMP2T",
        "outputId": "cefc9b02-2202-4450-ef68-5dead6520a67"
      },
      "execution_count": 20,
      "outputs": [
        {
          "output_type": "stream",
          "name": "stdout",
          "text": [
            "  col_str  col_int  col_flt\n",
            "0       a      1.0      0.1\n",
            "1       b      NaN      NaN\n",
            "2       c      3.0      0.3\n",
            "3       d      4.0      NaN\n",
            "4       e      5.0      0.5\n",
            "[['a' 1.0 0.1]\n",
            " ['b' nan nan]\n",
            " ['c' 3.0 0.3]\n",
            " ['d' 4.0 nan]\n",
            " ['e' 5.0 0.5]]\n"
          ]
        }
      ]
    },
    {
      "cell_type": "code",
      "source": [
        "pl.Config.set_tbl_rows(20)\n",
        "pl.Config.set_tbl_cols(10)"
      ],
      "metadata": {
        "colab": {
          "base_uri": "https://localhost:8080/"
        },
        "id": "VCqvOcbzMRoy",
        "outputId": "d6d8cd8f-acd7-404a-c836-59c4ce76a6d1"
      },
      "execution_count": 21,
      "outputs": [
        {
          "output_type": "execute_result",
          "data": {
            "text/plain": [
              "polars.cfg.Config"
            ]
          },
          "metadata": {},
          "execution_count": 21
        }
      ]
    },
    {
      "cell_type": "code",
      "source": [
        "df = pl.DataFrame({\n",
        "    'col_str': ['a', 'b', 'c'],\n",
        "    'col_int': [1, 2, None],\n",
        "})"
      ],
      "metadata": {
        "id": "zoz2_5QaMds1"
      },
      "execution_count": 22,
      "outputs": []
    },
    {
      "cell_type": "code",
      "source": [
        "# df['col_int_div_2'] = df['col_int'].apply(lambda x: x / 2)\n",
        "# df = df.with_columns([\n",
        "#     pl.col('col_int')\n",
        "#     .is_in([1, 2])\n",
        "#     .is_not()\n",
        "#     .alias('col_int_not_in_1_2'),\n",
        "#     # when / then / otherwise\n",
        "#     pl.when(pl.col('col_int_div_2') >= 1)\n",
        "#     .then(1)\n",
        "#     .otherwise(pl.Series([11, 12, 13]))\n",
        "#     .alias('wto'),\n",
        "# ])\n",
        "# print(df)"
      ],
      "metadata": {
        "id": "eOB2Fz93MgKb"
      },
      "execution_count": 24,
      "outputs": []
    },
    {
      "cell_type": "code",
      "source": [
        "# from datetime import datetime\n",
        "\n",
        "# df_2 = pl.DataFrame({\n",
        "#     'col_str': ['a', 'c', 'd'],\n",
        "#     'col_datetime': [\n",
        "#         datetime.strptime(\n",
        "#             f'2021-10-{i} 11:22:33 +0900',\n",
        "#             '%Y-%m-%d %H:%M:%S %z'\n",
        "#         ) for i in [12, 15, 17]\n",
        "#     ],\n",
        "# })\n",
        "# df_join = df[['col_str', 'col_int']].join(\n",
        "#     df_2, on='col_str', how='left')\n",
        "# print(df_join)"
      ],
      "metadata": {
        "id": "6A812KVVMgXI"
      },
      "execution_count": 26,
      "outputs": []
    },
    {
      "cell_type": "code",
      "source": [
        "df = df[['col_str', 'col_int']].vstack(\n",
        "    pl.DataFrame({\n",
        "        'col_str': ['x', 'y', 'z'],\n",
        "        'col_int': [7, 8, 9],\n",
        "    })\n",
        ")\n",
        "print(df)"
      ],
      "metadata": {
        "colab": {
          "base_uri": "https://localhost:8080/"
        },
        "id": "QDRZmO-JM64L",
        "outputId": "a16b6eb7-574b-48ae-dbec-d60b72b10579"
      },
      "execution_count": 27,
      "outputs": [
        {
          "output_type": "stream",
          "name": "stdout",
          "text": [
            "shape: (6, 2)\n",
            "┌─────────┬─────────┐\n",
            "│ col_str ┆ col_int │\n",
            "│ ---     ┆ ---     │\n",
            "│ str     ┆ i64     │\n",
            "╞═════════╪═════════╡\n",
            "│ a       ┆ 1       │\n",
            "│ b       ┆ 2       │\n",
            "│ c       ┆ null    │\n",
            "│ x       ┆ 7       │\n",
            "│ y       ┆ 8       │\n",
            "│ z       ┆ 9       │\n",
            "└─────────┴─────────┘\n"
          ]
        }
      ]
    },
    {
      "cell_type": "code",
      "source": [
        "df = df.filter((pl.col('col_int') >= 1) & (pl.col('col_int') <= 7))\n",
        "df = df.sort('col_int', reverse=True)\n",
        "print(df)"
      ],
      "metadata": {
        "colab": {
          "base_uri": "https://localhost:8080/"
        },
        "id": "qECp_JrfM98-",
        "outputId": "909e22ae-99c8-4109-8fa0-3bee2bd1c40d"
      },
      "execution_count": 28,
      "outputs": [
        {
          "output_type": "stream",
          "name": "stdout",
          "text": [
            "shape: (3, 2)\n",
            "┌─────────┬─────────┐\n",
            "│ col_str ┆ col_int │\n",
            "│ ---     ┆ ---     │\n",
            "│ str     ┆ i64     │\n",
            "╞═════════╪═════════╡\n",
            "│ x       ┆ 7       │\n",
            "│ b       ┆ 2       │\n",
            "│ a       ┆ 1       │\n",
            "└─────────┴─────────┘\n"
          ]
        }
      ]
    },
    {
      "cell_type": "code",
      "source": [
        "# df['col_int_shifted'] = df['col_int'].shift(1)\n",
        "# print(df)"
      ],
      "metadata": {
        "id": "jzzQvtRAM_cb"
      },
      "execution_count": 30,
      "outputs": []
    },
    {
      "cell_type": "code",
      "source": [
        "df = pl.DataFrame({\n",
        "    'col_str': ['a', 'b', 'c', 'a', 'b', 'c', 'a', 'b', 'a', 'c'],\n",
        "    'col_int': [1, 3, 2, 6, 5, 3, 1, 4, 2, 1],\n",
        "    'col_float': [.2, .4, .1, .5, .6, .8, .9, .1, .5, .2],\n",
        "})"
      ],
      "metadata": {
        "id": "pLXe9Ro1NAt1"
      },
      "execution_count": 31,
      "outputs": []
    },
    {
      "cell_type": "code",
      "source": [
        "print(df.describe())"
      ],
      "metadata": {
        "colab": {
          "base_uri": "https://localhost:8080/"
        },
        "id": "vujcM2cnND3I",
        "outputId": "16d5edfe-20d7-45a8-9590-70d41db929b0"
      },
      "execution_count": 32,
      "outputs": [
        {
          "output_type": "stream",
          "name": "stdout",
          "text": [
            "shape: (7, 4)\n",
            "┌────────────┬─────────┬─────────┬───────────┐\n",
            "│ describe   ┆ col_str ┆ col_int ┆ col_float │\n",
            "│ ---        ┆ ---     ┆ ---     ┆ ---       │\n",
            "│ str        ┆ str     ┆ f64     ┆ f64       │\n",
            "╞════════════╪═════════╪═════════╪═══════════╡\n",
            "│ count      ┆ 10      ┆ 10.0    ┆ 10.0      │\n",
            "│ null_count ┆ 0       ┆ 0.0     ┆ 0.0       │\n",
            "│ mean       ┆ null    ┆ 2.8     ┆ 0.43      │\n",
            "│ std        ┆ null    ┆ 1.75119 ┆ 0.283039  │\n",
            "│ min        ┆ a       ┆ 1.0     ┆ 0.1       │\n",
            "│ max        ┆ c       ┆ 6.0     ┆ 0.9       │\n",
            "│ median     ┆ null    ┆ 2.5     ┆ 0.45      │\n",
            "└────────────┴─────────┴─────────┴───────────┘\n"
          ]
        }
      ]
    },
    {
      "cell_type": "code",
      "source": [
        "print(df.groupby('col_str').max())"
      ],
      "metadata": {
        "colab": {
          "base_uri": "https://localhost:8080/"
        },
        "id": "DOxVRqb4NE2j",
        "outputId": "0c2306b0-01d2-4b9d-b277-b1fafad8928e"
      },
      "execution_count": 33,
      "outputs": [
        {
          "output_type": "stream",
          "name": "stdout",
          "text": [
            "shape: (3, 3)\n",
            "┌─────────┬─────────┬───────────┐\n",
            "│ col_str ┆ col_int ┆ col_float │\n",
            "│ ---     ┆ ---     ┆ ---       │\n",
            "│ str     ┆ i64     ┆ f64       │\n",
            "╞═════════╪═════════╪═══════════╡\n",
            "│ a       ┆ 6       ┆ 0.9       │\n",
            "│ c       ┆ 3       ┆ 0.8       │\n",
            "│ b       ┆ 5       ┆ 0.6       │\n",
            "└─────────┴─────────┴───────────┘\n"
          ]
        }
      ]
    },
    {
      "cell_type": "code",
      "source": [
        "# df_agg = df.groupby('col_str').agg([\n",
        "#     pl.col('col_float').sum(),\n",
        "#     pl.sum('col_int'),  # 短く書ける\n",
        "#     pl.sum('col_int').alias('int_sum'),  # 列名を自分でつけられる\n",
        "#     pl.col('col_int').list(),  # list にもできる\n",
        "#     pl.col('col_int').first(),  # 他にも count, mean, などなど\n",
        "#     (pl.col('col_int') > 2).sum().alias(\n",
        "#         'col_int_gt_2_count'),  # 条件を満たすものをカウント\n",
        "# ])\n",
        "# print(df_agg)"
      ],
      "metadata": {
        "id": "M0hiGXtRNF6o"
      },
      "execution_count": 35,
      "outputs": []
    },
    {
      "cell_type": "code",
      "source": [
        "df_window = df.select([\n",
        "    # 'col_str',\n",
        "    # 'col_int',\n",
        "    # 'col_float',\n",
        "    pl.all(),  # select all column from the original df\n",
        "    pl.col('col_int')\n",
        "    .max()\n",
        "    .over('col_str')\n",
        "    .alias('max_int_by_str'),\n",
        "    pl.col('col_float')\n",
        "    .mean()\n",
        "    .over('col_str')\n",
        "    .alias('avg_float_by_str'),\n",
        "])\n",
        "print(df_window)"
      ],
      "metadata": {
        "colab": {
          "base_uri": "https://localhost:8080/"
        },
        "id": "gd4FyuDPNH7F",
        "outputId": "a5a06769-c5b2-4cc8-d3c7-0f3fba3a989a"
      },
      "execution_count": 36,
      "outputs": [
        {
          "output_type": "stream",
          "name": "stdout",
          "text": [
            "shape: (10, 5)\n",
            "┌─────────┬─────────┬───────────┬────────────────┬──────────────────┐\n",
            "│ col_str ┆ col_int ┆ col_float ┆ max_int_by_str ┆ avg_float_by_str │\n",
            "│ ---     ┆ ---     ┆ ---       ┆ ---            ┆ ---              │\n",
            "│ str     ┆ i64     ┆ f64       ┆ i64            ┆ f64              │\n",
            "╞═════════╪═════════╪═══════════╪════════════════╪══════════════════╡\n",
            "│ a       ┆ 1       ┆ 0.2       ┆ 6              ┆ 0.525            │\n",
            "│ b       ┆ 3       ┆ 0.4       ┆ 5              ┆ 0.366667         │\n",
            "│ c       ┆ 2       ┆ 0.1       ┆ 3              ┆ 0.366667         │\n",
            "│ a       ┆ 6       ┆ 0.5       ┆ 6              ┆ 0.525            │\n",
            "│ b       ┆ 5       ┆ 0.6       ┆ 5              ┆ 0.366667         │\n",
            "│ c       ┆ 3       ┆ 0.8       ┆ 3              ┆ 0.366667         │\n",
            "│ a       ┆ 1       ┆ 0.9       ┆ 6              ┆ 0.525            │\n",
            "│ b       ┆ 4       ┆ 0.1       ┆ 5              ┆ 0.366667         │\n",
            "│ a       ┆ 2       ┆ 0.5       ┆ 6              ┆ 0.525            │\n",
            "│ c       ┆ 1       ┆ 0.2       ┆ 3              ┆ 0.366667         │\n",
            "└─────────┴─────────┴───────────┴────────────────┴──────────────────┘\n"
          ]
        }
      ]
    },
    {
      "cell_type": "code",
      "source": [
        "# # It won't work if you don't sort the contents of over first\n",
        "# df_window_sort = df.sort('col_str').select([\n",
        "#     pl.all(),\n",
        "#     pl.col('col_int')\n",
        "#     .rank('min')\n",
        "#     .over('col_str')\n",
        "#     .flatten()\n",
        "#     .alias('rank_int_by_str'),\n",
        "# ])\n",
        "# print(df_window_sort)"
      ],
      "metadata": {
        "id": "EmsPdU3sNLw-"
      },
      "execution_count": 39,
      "outputs": []
    },
    {
      "cell_type": "code",
      "source": [
        "df = pl.DataFrame({\n",
        "    'col_str': ['a', 'a', 'a', 'b', 'b'],\n",
        "    'col_str_2': ['x', 'y', 'z', 'x', 'y'],\n",
        "    'col_int': [1, 3, 1, 2, 5],\n",
        "})"
      ],
      "metadata": {
        "id": "P33J0jRHNMGy"
      },
      "execution_count": 40,
      "outputs": []
    },
    {
      "cell_type": "code",
      "source": [
        "# df_pivot = df.groupby('col_str').pivot(\n",
        "#     pivot_column='col_str_2',\n",
        "#     values_column='col_int'\n",
        "# ).first()\n",
        "# print(df_pivot)"
      ],
      "metadata": {
        "id": "FgBEpUfkNP-n"
      },
      "execution_count": 42,
      "outputs": []
    },
    {
      "cell_type": "code",
      "source": [
        "# from contextlib import contextmanager\n",
        "# import time\n",
        "# import numpy as np\n",
        "# import pandas as pd\n",
        "# import polars as pl\n",
        "\n",
        "# @contextmanager\n",
        "# def timer(name: str):\n",
        "#     t0 = time.time()\n",
        "#     yield\n",
        "#     print(f'{name}: {time.time() - t0:.1f} s')\n",
        "# np.random.seed(42)\n",
        "# N = 10**8\n",
        "# M = 10**4\n",
        "# df_dict = {\n",
        "#     'col_int': np.random.randint(0, M, N),\n",
        "#     'col_float': np.random.rand(N),\n",
        "# }\n",
        "# df_dict_2 = {\n",
        "#     'col_int': np.random.randint(0, 10**5, M),\n",
        "#     'col_float': np.random.rand(M),\n",
        "# }\n",
        "# df_pd = pd.DataFrame(df_dict)\n",
        "# df_pl = pl.DataFrame(df_dict)\n",
        "# df_pd_2 = pd.DataFrame(df_dict_2)\n",
        "# df_pl_2 = pl.DataFrame(df_dict_2)\n",
        "\n",
        "# with timer('pandas groupby'):\n",
        "#     df_pd.groupby('col_int').agg({'col_float': 'mean'})\n",
        "# with timer('polars groupby'):\n",
        "#     df_pl.groupby('col_int').agg({'col_float': 'mean'})\n",
        "    \n",
        "# with timer('pandas join'):\n",
        "#     pd.merge(\n",
        "#         df_pd, df_pd_2, on='col_int',\n",
        "#         how='left',  suffixes=['', '_2']\n",
        "#     )\n",
        "# with timer('polars join'):\n",
        "#     df_pl.join(\n",
        "#         df_pl_2, on='col_int',\n",
        "#         how='left', suffix='_2'\n",
        "#     )\n",
        "# with timer('pandas sort'):\n",
        "#     df_pd.sort_values('col_float')\n",
        "# with timer('polars sort'):\n",
        "#     df_pl.sort('col_float')\n",
        "# with timer('pandas filter'):\n",
        "#     df_pd.query('col_float < 0.5')\n",
        "# with timer('polars filter'):\n",
        "#     df_pl.filter(pl.col('col_float') < 0.5)"
      ],
      "metadata": {
        "id": "EHn8-_w7NRN9"
      },
      "execution_count": 46,
      "outputs": []
    }
  ]
}