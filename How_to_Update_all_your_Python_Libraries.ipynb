{
  "nbformat": 4,
  "nbformat_minor": 0,
  "metadata": {
    "colab": {
      "name": "How to Update all your Python Libraries.ipynb",
      "provenance": [],
      "authorship_tag": "ABX9TyNiKArC12z96CTNNgMkuPhK"
    },
    "kernelspec": {
      "name": "python3",
      "display_name": "Python 3"
    },
    "language_info": {
      "name": "python"
    }
  },
  "cells": [
    {
      "cell_type": "markdown",
      "metadata": {
        "id": "1nRTe1HZPYNI"
      },
      "source": [
        "[Reference](https://towardsdatascience.com/building-a-python-ui-to-keep-your-libraries-up-to-date-6d3465d1b652)"
      ]
    },
    {
      "cell_type": "code",
      "metadata": {
        "id": "KIZ_hT6OPW6N"
      },
      "source": [
        "import subprocess\n",
        "import pandas as pd\n",
        "import re, threading\n",
        "import PySimpleGUI as sg\n",
        "\n",
        "#Create a file to save the output of the pip command of the packages needing upgrade\n",
        "fhandle = open(r'C:\\temp\\update.txt', 'w')\n",
        "\n",
        "#Using Mike's suggestion, I am commenting this line from the original script, and introduce a loading gif while the script is sourcing all the necessary libraries\n",
        "#subprocess.run('pip list --outdated', shell = True, stdout = fhandle)\n",
        "thread = threading.Thread(target=lambda: subprocess.run('pip list --outdated', shell=True, stdout=fhandle), daemon=True)\n",
        "thread.start()\n",
        "while True:\n",
        "    sg.popup_animated(sg.DEFAULT_BASE64_LOADING_GIF, 'Loading list of packages', time_between_frames=100)\n",
        "    thread.join(timeout=.1)\n",
        "    if not thread.is_alive():\n",
        "        break\n",
        "sg.popup_animated(None)\n",
        "\n",
        "fhandle.close()\n",
        "#All the packages from pip needing updating have been saved in the file\n",
        "\n",
        "#Create a data frame, and then massage and load the output data in the file to the expected format\n",
        "df1 = pd.DataFrame(columns=['Package', 'Version', 'Latest', 'Type'])\n",
        "fhandle = open(r'C:\\temp\\update.txt', 'r')\n",
        "AnyPackagesToUpgrade = 0\n",
        "\n",
        "for i, line in enumerate(fhandle):\n",
        "    if i not in (0, 1): #first two lines have no packages\n",
        "        df1 = df1.append({\n",
        "                'Package': re.findall('(.+?)\\s', line)[0],\n",
        "                'Version': re.findall('([0-9].+?)\\s', line)[0],\n",
        "                'Latest': re.findall('([0-9].+?)\\s', line)[1], \n",
        "                'Type': re.findall('\\s([a-zA-Z]+)', line)[0]\n",
        "                }, ignore_index=True)\n",
        "        AnyPackagesToUpgrade = 1 #if no packages, then don't bring up full UI later on\n",
        "\n",
        "#We now have a dataframe with all the relevant packages to update\n",
        "\n",
        "#Moving onto the UI\n",
        "formlists = []  #This will be the list to be displayed on the UI\n",
        "i = 0\n",
        "while i < len(df1): #this is the checkbox magic that will show up on the UI\n",
        "    formlists.append([sg.Checkbox(df1.iloc[i, :])])\n",
        "    formlists.append([sg.Text('-'*50)])\n",
        "    i += 1\n",
        "\n",
        "layout = [\n",
        "    [sg.Column(layout=[\n",
        "        *formlists], vertical_scroll_only=True, scrollable=True, size=(704, 400)\n",
        "    )],\n",
        "    [sg.Output(size=(100, 10))],\n",
        "    [sg.Submit('Upgrade'), sg.Cancel('Exit')]\n",
        "]\n",
        "\n",
        "window = sg.Window('Choose Package to Upgrade', layout, size=(800, 650))\n",
        "\n",
        "if AnyPackagesToUpgrade == 0:\n",
        "    sg.Popup('No Packages requiring upgrade found')\n",
        "    quit()\n",
        "\n",
        "\n",
        "#The login executed when clicking things on the UI\n",
        "definedkey = []\n",
        "while True:  # The Event Loop\n",
        "    event, values = window.read()\n",
        "    # print(event, values)  # debug\n",
        "    if event in (None, 'Exit', 'Cancel'):\n",
        "        break\n",
        "    elif event == 'Upgrade':\n",
        "        for index, value in enumerate(values):\n",
        "            if values[index] == True:\n",
        "                #print(df1.iloc[index][0])\n",
        "                sg.popup_animated(sg.DEFAULT_BASE64_LOADING_GIF, 'Installing Updates', time_between_frames=100)\n",
        "                subprocess.run('pip install --upgrade ' + df1.iloc[index][0])\n",
        "                sg.popup_animated(None)\n",
        "                print('Upgrading', df1.iloc[index][0])\n",
        "        print('Upgrading process finished.')"
      ],
      "execution_count": 1,
      "outputs": []
    }
  ]
}