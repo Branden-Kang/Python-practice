{
  "nbformat": 4,
  "nbformat_minor": 0,
  "metadata": {
    "colab": {
      "provenance": [],
      "authorship_tag": "ABX9TyN1Yz8pfZY2xsIq5bodmt55"
    },
    "kernelspec": {
      "name": "python3",
      "display_name": "Python 3"
    },
    "language_info": {
      "name": "python"
    }
  },
  "cells": [
    {
      "cell_type": "markdown",
      "source": [
        "[Reference](https://medium.com/@ccpythonprogramming/mimicking-googles-search-speed-with-sqlite-and-python-7b756ae82732)"
      ],
      "metadata": {
        "id": "mKgoI0t-VI3h"
      }
    },
    {
      "cell_type": "markdown",
      "source": [
        "# 1. Setting Up a Virtual Environment (venv)"
      ],
      "metadata": {
        "id": "q11GocmYVLeZ"
      }
    },
    {
      "cell_type": "markdown",
      "source": [
        "```\n",
        "# Windows Setup:\n",
        "python -m venv venv\n",
        "venv\\Scripts\\activate\n",
        "\n",
        "# Linux Setup:\n",
        "python3 -m venv venv\n",
        "source venv/bin/activate\n",
        "```"
      ],
      "metadata": {
        "id": "pI0iqKIYVMf0"
      }
    },
    {
      "cell_type": "markdown",
      "source": [
        "# 2. Project Structure and Files\n",
        "```\n",
        "search_index/\n",
        "│\n",
        "├── venv/\n",
        "├── init_db.py\n",
        "├── add_document.py\n",
        "├── search_documents.py\n",
        "└── data/\n",
        "    └── search_index.db\n",
        "```"
      ],
      "metadata": {
        "id": "kVVeh0YiVYG7"
      }
    },
    {
      "cell_type": "markdown",
      "source": [
        "# 3. Initializing the Database"
      ],
      "metadata": {
        "id": "T6YeQt2mVcM5"
      }
    },
    {
      "cell_type": "code",
      "execution_count": 1,
      "metadata": {
        "colab": {
          "base_uri": "https://localhost:8080/"
        },
        "id": "ViPi91aHVFnF",
        "outputId": "84338811-eebe-41bb-e2a9-e29efd1ccdb6"
      },
      "outputs": [
        {
          "output_type": "stream",
          "name": "stdout",
          "text": [
            "Database and table initialized.\n"
          ]
        }
      ],
      "source": [
        "# init_db.py\n",
        "import sqlite3\n",
        "import os\n",
        "\n",
        "DB_PATH = \"data/search_index.db\"\n",
        "\n",
        "def init_db():\n",
        "    if not os.path.exists(\"data\"):\n",
        "        os.makedirs(\"data\")\n",
        "\n",
        "    conn = sqlite3.connect(DB_PATH)\n",
        "    cursor = conn.cursor()\n",
        "\n",
        "    # Enable Full Text Search (FTS5) for efficient indexing\n",
        "    cursor.execute('''\n",
        "        CREATE VIRTUAL TABLE IF NOT EXISTS documents USING FTS5(title, content);\n",
        "    ''')\n",
        "\n",
        "    conn.commit()\n",
        "    conn.close()\n",
        "\n",
        "if __name__ == \"__main__\":\n",
        "    init_db()\n",
        "    print(\"Database and table initialized.\")"
      ]
    },
    {
      "cell_type": "markdown",
      "source": [
        "# 4. Adding Documents to the Index"
      ],
      "metadata": {
        "id": "FLYJk_AxVh1k"
      }
    },
    {
      "cell_type": "code",
      "source": [
        "# add_document.py\n",
        "import sqlite3\n",
        "\n",
        "DB_PATH = \"data/search_index.db\"\n",
        "\n",
        "def add_document(title, content):\n",
        "    conn = sqlite3.connect(DB_PATH)\n",
        "    cursor = conn.cursor()\n",
        "\n",
        "    cursor.execute('''\n",
        "        INSERT INTO documents (title, content) VALUES (?, ?)\n",
        "    ''', (title, content))\n",
        "\n",
        "    conn.commit()\n",
        "    conn.close()\n",
        "    print(f\"Document '{title}' added to index.\")\n",
        "\n",
        "if __name__ == \"__main__\":\n",
        "    add_document(\"Python Basics\", \"Python is a versatile programming language.\")\n",
        "    add_document(\"Learning SQLite\", \"SQLite is a powerful database for small applications.\")"
      ],
      "metadata": {
        "colab": {
          "base_uri": "https://localhost:8080/"
        },
        "id": "r-QAqZ3MVgeW",
        "outputId": "6fb8e678-460d-4d23-baac-a3963f185fbb"
      },
      "execution_count": 2,
      "outputs": [
        {
          "output_type": "stream",
          "name": "stdout",
          "text": [
            "Document 'Python Basics' added to index.\n",
            "Document 'Learning SQLite' added to index.\n"
          ]
        }
      ]
    },
    {
      "cell_type": "markdown",
      "source": [
        "# 5. Implementing Search Functionality"
      ],
      "metadata": {
        "id": "X5Y0mg1PVktM"
      }
    },
    {
      "cell_type": "code",
      "source": [
        "# search_documents.py\n",
        "import sqlite3\n",
        "\n",
        "DB_PATH = \"data/search_index.db\"\n",
        "\n",
        "def search_documents(query):\n",
        "    conn = sqlite3.connect(DB_PATH)\n",
        "    cursor = conn.cursor()\n",
        "\n",
        "    cursor.execute('''\n",
        "        SELECT title, content FROM documents WHERE documents MATCH ?\n",
        "    ''', (query,))\n",
        "\n",
        "    results = cursor.fetchall()\n",
        "    conn.close()\n",
        "\n",
        "    if results:\n",
        "        for title, content in results:\n",
        "            print(f\"Title: {title}\\nContent: {content}\\n\")\n",
        "    else:\n",
        "        print(\"No matching documents found.\")\n",
        "\n",
        "if __name__ == \"__main__\":\n",
        "    search_documents(\"Python\")"
      ],
      "metadata": {
        "colab": {
          "base_uri": "https://localhost:8080/"
        },
        "id": "hlN1ToCEVlB4",
        "outputId": "9206d0a8-2329-4902-e1b6-758651ea4f0c"
      },
      "execution_count": 3,
      "outputs": [
        {
          "output_type": "stream",
          "name": "stdout",
          "text": [
            "Title: Python Basics\n",
            "Content: Python is a versatile programming language.\n",
            "\n"
          ]
        }
      ]
    },
    {
      "cell_type": "markdown",
      "source": [
        "# Enhancing the System with Phrase Matching"
      ],
      "metadata": {
        "id": "9dCEPXaBVrDl"
      }
    },
    {
      "cell_type": "code",
      "source": [
        "# search_documents.py (updated)\n",
        "def search_documents(query):\n",
        "    conn = sqlite3.connect(DB_PATH)\n",
        "    cursor = conn.cursor()\n",
        "\n",
        "    # Wrapping query in quotes to find exact phrase\n",
        "    formatted_query = f'\"{query}\"'\n",
        "\n",
        "    cursor.execute('''\n",
        "        SELECT title, content FROM documents WHERE documents MATCH ?\n",
        "    ''', (formatted_query,))\n",
        "\n",
        "    results = cursor.fetchall()\n",
        "    conn.close()\n",
        "\n",
        "    if results:\n",
        "        for title, content in results:\n",
        "            print(f\"Title: {title}\\nContent: {content}\\n\")\n",
        "    else:\n",
        "        print(\"No matching documents found.\")"
      ],
      "metadata": {
        "id": "ZInmGSULVod2"
      },
      "execution_count": 4,
      "outputs": []
    }
  ]
}