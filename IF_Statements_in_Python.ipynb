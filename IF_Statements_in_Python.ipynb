{
  "nbformat": 4,
  "nbformat_minor": 0,
  "metadata": {
    "colab": {
      "name": "IF Statements in Python.ipynb",
      "provenance": [],
      "authorship_tag": "ABX9TyNyv9naqL3PQahlvCjShDKE"
    },
    "kernelspec": {
      "name": "python3",
      "display_name": "Python 3"
    }
  },
  "cells": [
    {
      "cell_type": "markdown",
      "metadata": {
        "id": "UVLMJynQElOU"
      },
      "source": [
        "[Reference](https://medium.com/@cndro/if-statements-in-python-4bc13a112e4d)"
      ]
    },
    {
      "cell_type": "markdown",
      "metadata": {
        "id": "UCfceoFZE271"
      },
      "source": [
        "# One-way IF statement (IF)"
      ]
    },
    {
      "cell_type": "code",
      "metadata": {
        "id": "frIDL9LIEjsC",
        "outputId": "1c5f53d3-dc3f-45b0-8738-db6ff531c78a",
        "colab": {
          "base_uri": "https://localhost:8080/"
        }
      },
      "source": [
        "testscore = input(\"Please input your testscore:\") \n",
        "testscoreint = int(testscore)"
      ],
      "execution_count": 1,
      "outputs": [
        {
          "output_type": "stream",
          "text": [
            "Please input your testscore:80\n"
          ],
          "name": "stdout"
        }
      ]
    },
    {
      "cell_type": "code",
      "metadata": {
        "id": "Otp2hxf6Evd9",
        "outputId": "0c3dabb7-07d3-46be-c5cd-659d0aa45b7d",
        "colab": {
          "base_uri": "https://localhost:8080/"
        }
      },
      "source": [
        "if testscoreint>=70 and testscoreint<=100: \n",
        "    print(\"Congratulations, you scored 'A'\")"
      ],
      "execution_count": 2,
      "outputs": [
        {
          "output_type": "stream",
          "text": [
            "Congratulations, you scored 'A'\n"
          ],
          "name": "stdout"
        }
      ]
    },
    {
      "cell_type": "markdown",
      "metadata": {
        "id": "j23y8D3nE4NI"
      },
      "source": [
        "# Two-way IF Statement (ELSE)"
      ]
    },
    {
      "cell_type": "code",
      "metadata": {
        "id": "GVzVY9sSE05o",
        "outputId": "25f109ea-3949-422a-ea6f-a3b2c532b12d",
        "colab": {
          "base_uri": "https://localhost:8080/"
        }
      },
      "source": [
        "testscore = input(\"Please input your testscore:\") \n",
        "testscoreint = int(testscore)\n",
        "\n",
        "if testscoreint>=70 and testscoreint<=100: \n",
        "    print(\"Congratulations, you scored 'A'\") \n",
        "else: \n",
        "    print(\"Nice Work!\")"
      ],
      "execution_count": 3,
      "outputs": [
        {
          "output_type": "stream",
          "text": [
            "Please input your testscore:80\n",
            "Congratulations, you scored 'A'\n"
          ],
          "name": "stdout"
        }
      ]
    },
    {
      "cell_type": "markdown",
      "metadata": {
        "id": "uOWafKHJE9c2"
      },
      "source": [
        "# Multi-way IF Statement (ELIF)"
      ]
    },
    {
      "cell_type": "code",
      "metadata": {
        "id": "egtyFyzpE6lI",
        "outputId": "cf5c5094-52dd-4c8b-9ca2-19d8e9caddb4",
        "colab": {
          "base_uri": "https://localhost:8080/"
        }
      },
      "source": [
        "testscore = input(\"Please input your test score:\") \n",
        "testscoreint = int(testscore)\n",
        "if testscoreint>=70 and testscoreint<=100:  \n",
        "    print(\"Congratulations, you scored 'A'\")\n",
        "elif testscoreint>=60 and testscoreint<=69: \n",
        "    print(\"Nice Work, That's a 'B'\")\n",
        "elif testscoreint>=50 and testscoreint<=59: \n",
        "    print(\"Averagely good! It's a 'C'\")\n",
        "elif testscoreint>=40 and testscoreint<=49: \n",
        "    print(\"You have a 'D'. Try harder\")\n",
        "else: \n",
        "    print(\"You failed, it's an 'F'\")"
      ],
      "execution_count": 4,
      "outputs": [
        {
          "output_type": "stream",
          "text": [
            "Please input your test score:80\n",
            "Congratulations, you scored 'A'\n"
          ],
          "name": "stdout"
        }
      ]
    }
  ]
}