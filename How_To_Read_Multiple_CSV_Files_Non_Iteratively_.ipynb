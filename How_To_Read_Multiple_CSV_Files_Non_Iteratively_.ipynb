{
  "nbformat": 4,
  "nbformat_minor": 0,
  "metadata": {
    "colab": {
      "name": "How To Read Multiple CSV Files Non-Iteratively .ipynb",
      "provenance": [],
      "authorship_tag": "ABX9TyPwa8u5WVj8EaD1yCCAHf1w"
    },
    "kernelspec": {
      "name": "python3",
      "display_name": "Python 3"
    },
    "language_info": {
      "name": "python"
    }
  },
  "cells": [
    {
      "cell_type": "markdown",
      "source": [
        "[Reference](https://medium.com/@avi_chawla/how-to-read-multiple-csv-files-non-iteratively-and-without-pandas-984fd954999c)"
      ],
      "metadata": {
        "id": "UoTCWlNdT667"
      }
    },
    {
      "cell_type": "code",
      "source": [
        "# import pandas as pd\n",
        "\n",
        "# files = [...]\n",
        "# df_list = []\n",
        "# for file in files:\n",
        "#     df_list.aapend(pd.read_csv(file)\n",
        "# final_df = pd.concat(df_list)"
      ],
      "metadata": {
        "id": "b56WFIXvTuM3"
      },
      "execution_count": 3,
      "outputs": []
    },
    {
      "cell_type": "code",
      "execution_count": 4,
      "metadata": {
        "id": "GENZu76jTAzq"
      },
      "outputs": [],
      "source": [
        "# from datatable import iread, rbind\n",
        "\n",
        "# files = [...]\n",
        "# df = dt.iread(files)\n",
        "# df = rbind(df)\n",
        "# df = df.to_pandas()"
      ]
    }
  ]
}