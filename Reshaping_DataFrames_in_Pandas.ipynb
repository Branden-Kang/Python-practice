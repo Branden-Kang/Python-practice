{
  "nbformat": 4,
  "nbformat_minor": 0,
  "metadata": {
    "colab": {
      "name": "Reshaping DataFrames in Pandas.ipynb",
      "provenance": [],
      "authorship_tag": "ABX9TyNYRrZSHAD0InHIMDIGwGc6"
    },
    "kernelspec": {
      "name": "python3",
      "display_name": "Python 3"
    }
  },
  "cells": [
    {
      "cell_type": "markdown",
      "metadata": {
        "id": "CRGlneX-t4lA"
      },
      "source": [
        "[Reference](https://towardsdatascience.com/reshaping-dataframes-in-pandas-f6bfbb2c5b0f)"
      ]
    },
    {
      "cell_type": "markdown",
      "metadata": {
        "id": "pChtfQ-zuaQs"
      },
      "source": [
        "# # Type -1: Reforming without aggregation"
      ]
    },
    {
      "cell_type": "code",
      "metadata": {
        "id": "N_xHk1b2uWqo"
      },
      "source": [
        "import numpy as np\n",
        "import pandas as pd"
      ],
      "execution_count": 3,
      "outputs": []
    },
    {
      "cell_type": "code",
      "metadata": {
        "colab": {
          "base_uri": "https://localhost:8080/",
          "height": 328
        },
        "id": "5x2TxiLJt0vZ",
        "outputId": "4eea9b94-1bc5-4027-cee0-1a62b513e263"
      },
      "source": [
        "np.random.seed(100)\n",
        "\n",
        "df=pd.DataFrame({\"Date\":pd.Index(pd.date_range(start='2/2/2019',periods=3)).repeat(3), \"Class\":[\"1A\",\"2B\",\"3C\",\"1A\",\"2B\",\"3C\",\"1A\",\"2B\",\"3C\"], \"Numbers\":np.random.randn(9)})\n",
        "\n",
        "df['Numbers2'] = df['Numbers'] * 2\n",
        "\n",
        "df"
      ],
      "execution_count": 4,
      "outputs": [
        {
          "output_type": "execute_result",
          "data": {
            "text/html": [
              "<div>\n",
              "<style scoped>\n",
              "    .dataframe tbody tr th:only-of-type {\n",
              "        vertical-align: middle;\n",
              "    }\n",
              "\n",
              "    .dataframe tbody tr th {\n",
              "        vertical-align: top;\n",
              "    }\n",
              "\n",
              "    .dataframe thead th {\n",
              "        text-align: right;\n",
              "    }\n",
              "</style>\n",
              "<table border=\"1\" class=\"dataframe\">\n",
              "  <thead>\n",
              "    <tr style=\"text-align: right;\">\n",
              "      <th></th>\n",
              "      <th>Date</th>\n",
              "      <th>Class</th>\n",
              "      <th>Numbers</th>\n",
              "      <th>Numbers2</th>\n",
              "    </tr>\n",
              "  </thead>\n",
              "  <tbody>\n",
              "    <tr>\n",
              "      <th>0</th>\n",
              "      <td>2019-02-02</td>\n",
              "      <td>1A</td>\n",
              "      <td>-1.749765</td>\n",
              "      <td>-3.499531</td>\n",
              "    </tr>\n",
              "    <tr>\n",
              "      <th>1</th>\n",
              "      <td>2019-02-02</td>\n",
              "      <td>2B</td>\n",
              "      <td>0.342680</td>\n",
              "      <td>0.685361</td>\n",
              "    </tr>\n",
              "    <tr>\n",
              "      <th>2</th>\n",
              "      <td>2019-02-02</td>\n",
              "      <td>3C</td>\n",
              "      <td>1.153036</td>\n",
              "      <td>2.306072</td>\n",
              "    </tr>\n",
              "    <tr>\n",
              "      <th>3</th>\n",
              "      <td>2019-02-03</td>\n",
              "      <td>1A</td>\n",
              "      <td>-0.252436</td>\n",
              "      <td>-0.504872</td>\n",
              "    </tr>\n",
              "    <tr>\n",
              "      <th>4</th>\n",
              "      <td>2019-02-03</td>\n",
              "      <td>2B</td>\n",
              "      <td>0.981321</td>\n",
              "      <td>1.962642</td>\n",
              "    </tr>\n",
              "    <tr>\n",
              "      <th>5</th>\n",
              "      <td>2019-02-03</td>\n",
              "      <td>3C</td>\n",
              "      <td>0.514219</td>\n",
              "      <td>1.028438</td>\n",
              "    </tr>\n",
              "    <tr>\n",
              "      <th>6</th>\n",
              "      <td>2019-02-04</td>\n",
              "      <td>1A</td>\n",
              "      <td>0.221180</td>\n",
              "      <td>0.442359</td>\n",
              "    </tr>\n",
              "    <tr>\n",
              "      <th>7</th>\n",
              "      <td>2019-02-04</td>\n",
              "      <td>2B</td>\n",
              "      <td>-1.070043</td>\n",
              "      <td>-2.140087</td>\n",
              "    </tr>\n",
              "    <tr>\n",
              "      <th>8</th>\n",
              "      <td>2019-02-04</td>\n",
              "      <td>3C</td>\n",
              "      <td>-0.189496</td>\n",
              "      <td>-0.378992</td>\n",
              "    </tr>\n",
              "  </tbody>\n",
              "</table>\n",
              "</div>"
            ],
            "text/plain": [
              "        Date Class   Numbers  Numbers2\n",
              "0 2019-02-02    1A -1.749765 -3.499531\n",
              "1 2019-02-02    2B  0.342680  0.685361\n",
              "2 2019-02-02    3C  1.153036  2.306072\n",
              "3 2019-02-03    1A -0.252436 -0.504872\n",
              "4 2019-02-03    2B  0.981321  1.962642\n",
              "5 2019-02-03    3C  0.514219  1.028438\n",
              "6 2019-02-04    1A  0.221180  0.442359\n",
              "7 2019-02-04    2B -1.070043 -2.140087\n",
              "8 2019-02-04    3C -0.189496 -0.378992"
            ]
          },
          "metadata": {
            "tags": []
          },
          "execution_count": 4
        }
      ]
    },
    {
      "cell_type": "markdown",
      "metadata": {
        "id": "_ZP6fhPWue3H"
      },
      "source": [
        "# Pivot"
      ]
    },
    {
      "cell_type": "code",
      "metadata": {
        "colab": {
          "base_uri": "https://localhost:8080/",
          "height": 173
        },
        "id": "8zQ-zFBguZFt",
        "outputId": "0ad17c2d-5bd1-44e3-8b62-6b99f975f85e"
      },
      "source": [
        "df.pivot(index='Date', columns='Class', values='Numbers')"
      ],
      "execution_count": 5,
      "outputs": [
        {
          "output_type": "execute_result",
          "data": {
            "text/html": [
              "<div>\n",
              "<style scoped>\n",
              "    .dataframe tbody tr th:only-of-type {\n",
              "        vertical-align: middle;\n",
              "    }\n",
              "\n",
              "    .dataframe tbody tr th {\n",
              "        vertical-align: top;\n",
              "    }\n",
              "\n",
              "    .dataframe thead th {\n",
              "        text-align: right;\n",
              "    }\n",
              "</style>\n",
              "<table border=\"1\" class=\"dataframe\">\n",
              "  <thead>\n",
              "    <tr style=\"text-align: right;\">\n",
              "      <th>Class</th>\n",
              "      <th>1A</th>\n",
              "      <th>2B</th>\n",
              "      <th>3C</th>\n",
              "    </tr>\n",
              "    <tr>\n",
              "      <th>Date</th>\n",
              "      <th></th>\n",
              "      <th></th>\n",
              "      <th></th>\n",
              "    </tr>\n",
              "  </thead>\n",
              "  <tbody>\n",
              "    <tr>\n",
              "      <th>2019-02-02</th>\n",
              "      <td>-1.749765</td>\n",
              "      <td>0.342680</td>\n",
              "      <td>1.153036</td>\n",
              "    </tr>\n",
              "    <tr>\n",
              "      <th>2019-02-03</th>\n",
              "      <td>-0.252436</td>\n",
              "      <td>0.981321</td>\n",
              "      <td>0.514219</td>\n",
              "    </tr>\n",
              "    <tr>\n",
              "      <th>2019-02-04</th>\n",
              "      <td>0.221180</td>\n",
              "      <td>-1.070043</td>\n",
              "      <td>-0.189496</td>\n",
              "    </tr>\n",
              "  </tbody>\n",
              "</table>\n",
              "</div>"
            ],
            "text/plain": [
              "Class             1A        2B        3C\n",
              "Date                                    \n",
              "2019-02-02 -1.749765  0.342680  1.153036\n",
              "2019-02-03 -0.252436  0.981321  0.514219\n",
              "2019-02-04  0.221180 -1.070043 -0.189496"
            ]
          },
          "metadata": {
            "tags": []
          },
          "execution_count": 5
        }
      ]
    },
    {
      "cell_type": "code",
      "metadata": {
        "colab": {
          "base_uri": "https://localhost:8080/",
          "height": 204
        },
        "id": "BsSCiw1ounsS",
        "outputId": "7060b6e4-df07-47e3-a038-7d95c44d4bea"
      },
      "source": [
        "df.pivot(index='Date', columns='Class')"
      ],
      "execution_count": 6,
      "outputs": [
        {
          "output_type": "execute_result",
          "data": {
            "text/html": [
              "<div>\n",
              "<style scoped>\n",
              "    .dataframe tbody tr th:only-of-type {\n",
              "        vertical-align: middle;\n",
              "    }\n",
              "\n",
              "    .dataframe tbody tr th {\n",
              "        vertical-align: top;\n",
              "    }\n",
              "\n",
              "    .dataframe thead tr th {\n",
              "        text-align: left;\n",
              "    }\n",
              "\n",
              "    .dataframe thead tr:last-of-type th {\n",
              "        text-align: right;\n",
              "    }\n",
              "</style>\n",
              "<table border=\"1\" class=\"dataframe\">\n",
              "  <thead>\n",
              "    <tr>\n",
              "      <th></th>\n",
              "      <th colspan=\"3\" halign=\"left\">Numbers</th>\n",
              "      <th colspan=\"3\" halign=\"left\">Numbers2</th>\n",
              "    </tr>\n",
              "    <tr>\n",
              "      <th>Class</th>\n",
              "      <th>1A</th>\n",
              "      <th>2B</th>\n",
              "      <th>3C</th>\n",
              "      <th>1A</th>\n",
              "      <th>2B</th>\n",
              "      <th>3C</th>\n",
              "    </tr>\n",
              "    <tr>\n",
              "      <th>Date</th>\n",
              "      <th></th>\n",
              "      <th></th>\n",
              "      <th></th>\n",
              "      <th></th>\n",
              "      <th></th>\n",
              "      <th></th>\n",
              "    </tr>\n",
              "  </thead>\n",
              "  <tbody>\n",
              "    <tr>\n",
              "      <th>2019-02-02</th>\n",
              "      <td>-1.749765</td>\n",
              "      <td>0.342680</td>\n",
              "      <td>1.153036</td>\n",
              "      <td>-3.499531</td>\n",
              "      <td>0.685361</td>\n",
              "      <td>2.306072</td>\n",
              "    </tr>\n",
              "    <tr>\n",
              "      <th>2019-02-03</th>\n",
              "      <td>-0.252436</td>\n",
              "      <td>0.981321</td>\n",
              "      <td>0.514219</td>\n",
              "      <td>-0.504872</td>\n",
              "      <td>1.962642</td>\n",
              "      <td>1.028438</td>\n",
              "    </tr>\n",
              "    <tr>\n",
              "      <th>2019-02-04</th>\n",
              "      <td>0.221180</td>\n",
              "      <td>-1.070043</td>\n",
              "      <td>-0.189496</td>\n",
              "      <td>0.442359</td>\n",
              "      <td>-2.140087</td>\n",
              "      <td>-0.378992</td>\n",
              "    </tr>\n",
              "  </tbody>\n",
              "</table>\n",
              "</div>"
            ],
            "text/plain": [
              "             Numbers                      Numbers2                    \n",
              "Class             1A        2B        3C        1A        2B        3C\n",
              "Date                                                                  \n",
              "2019-02-02 -1.749765  0.342680  1.153036 -3.499531  0.685361  2.306072\n",
              "2019-02-03 -0.252436  0.981321  0.514219 -0.504872  1.962642  1.028438\n",
              "2019-02-04  0.221180 -1.070043 -0.189496  0.442359 -2.140087 -0.378992"
            ]
          },
          "metadata": {
            "tags": []
          },
          "execution_count": 6
        }
      ]
    },
    {
      "cell_type": "code",
      "metadata": {
        "colab": {
          "base_uri": "https://localhost:8080/",
          "height": 173
        },
        "id": "tu2cxEYfusaz",
        "outputId": "b1536d99-451e-4154-d2b4-a1e750760aa5"
      },
      "source": [
        "df.pivot(index='Date', columns='Class')['Numbers']"
      ],
      "execution_count": 7,
      "outputs": [
        {
          "output_type": "execute_result",
          "data": {
            "text/html": [
              "<div>\n",
              "<style scoped>\n",
              "    .dataframe tbody tr th:only-of-type {\n",
              "        vertical-align: middle;\n",
              "    }\n",
              "\n",
              "    .dataframe tbody tr th {\n",
              "        vertical-align: top;\n",
              "    }\n",
              "\n",
              "    .dataframe thead th {\n",
              "        text-align: right;\n",
              "    }\n",
              "</style>\n",
              "<table border=\"1\" class=\"dataframe\">\n",
              "  <thead>\n",
              "    <tr style=\"text-align: right;\">\n",
              "      <th>Class</th>\n",
              "      <th>1A</th>\n",
              "      <th>2B</th>\n",
              "      <th>3C</th>\n",
              "    </tr>\n",
              "    <tr>\n",
              "      <th>Date</th>\n",
              "      <th></th>\n",
              "      <th></th>\n",
              "      <th></th>\n",
              "    </tr>\n",
              "  </thead>\n",
              "  <tbody>\n",
              "    <tr>\n",
              "      <th>2019-02-02</th>\n",
              "      <td>-1.749765</td>\n",
              "      <td>0.342680</td>\n",
              "      <td>1.153036</td>\n",
              "    </tr>\n",
              "    <tr>\n",
              "      <th>2019-02-03</th>\n",
              "      <td>-0.252436</td>\n",
              "      <td>0.981321</td>\n",
              "      <td>0.514219</td>\n",
              "    </tr>\n",
              "    <tr>\n",
              "      <th>2019-02-04</th>\n",
              "      <td>0.221180</td>\n",
              "      <td>-1.070043</td>\n",
              "      <td>-0.189496</td>\n",
              "    </tr>\n",
              "  </tbody>\n",
              "</table>\n",
              "</div>"
            ],
            "text/plain": [
              "Class             1A        2B        3C\n",
              "Date                                    \n",
              "2019-02-02 -1.749765  0.342680  1.153036\n",
              "2019-02-03 -0.252436  0.981321  0.514219\n",
              "2019-02-04  0.221180 -1.070043 -0.189496"
            ]
          },
          "metadata": {
            "tags": []
          },
          "execution_count": 7
        }
      ]
    },
    {
      "cell_type": "markdown",
      "metadata": {
        "id": "TtApSal6u1xz"
      },
      "source": [
        "# Melt"
      ]
    },
    {
      "cell_type": "code",
      "metadata": {
        "colab": {
          "base_uri": "https://localhost:8080/",
          "height": 607
        },
        "id": "NPsDlSx0uv5p",
        "outputId": "88e385e5-76f5-49b4-c4f1-6875054138ed"
      },
      "source": [
        "df.melt(id_vars=['Date','Class'])"
      ],
      "execution_count": 8,
      "outputs": [
        {
          "output_type": "execute_result",
          "data": {
            "text/html": [
              "<div>\n",
              "<style scoped>\n",
              "    .dataframe tbody tr th:only-of-type {\n",
              "        vertical-align: middle;\n",
              "    }\n",
              "\n",
              "    .dataframe tbody tr th {\n",
              "        vertical-align: top;\n",
              "    }\n",
              "\n",
              "    .dataframe thead th {\n",
              "        text-align: right;\n",
              "    }\n",
              "</style>\n",
              "<table border=\"1\" class=\"dataframe\">\n",
              "  <thead>\n",
              "    <tr style=\"text-align: right;\">\n",
              "      <th></th>\n",
              "      <th>Date</th>\n",
              "      <th>Class</th>\n",
              "      <th>variable</th>\n",
              "      <th>value</th>\n",
              "    </tr>\n",
              "  </thead>\n",
              "  <tbody>\n",
              "    <tr>\n",
              "      <th>0</th>\n",
              "      <td>2019-02-02</td>\n",
              "      <td>1A</td>\n",
              "      <td>Numbers</td>\n",
              "      <td>-1.749765</td>\n",
              "    </tr>\n",
              "    <tr>\n",
              "      <th>1</th>\n",
              "      <td>2019-02-02</td>\n",
              "      <td>2B</td>\n",
              "      <td>Numbers</td>\n",
              "      <td>0.342680</td>\n",
              "    </tr>\n",
              "    <tr>\n",
              "      <th>2</th>\n",
              "      <td>2019-02-02</td>\n",
              "      <td>3C</td>\n",
              "      <td>Numbers</td>\n",
              "      <td>1.153036</td>\n",
              "    </tr>\n",
              "    <tr>\n",
              "      <th>3</th>\n",
              "      <td>2019-02-03</td>\n",
              "      <td>1A</td>\n",
              "      <td>Numbers</td>\n",
              "      <td>-0.252436</td>\n",
              "    </tr>\n",
              "    <tr>\n",
              "      <th>4</th>\n",
              "      <td>2019-02-03</td>\n",
              "      <td>2B</td>\n",
              "      <td>Numbers</td>\n",
              "      <td>0.981321</td>\n",
              "    </tr>\n",
              "    <tr>\n",
              "      <th>5</th>\n",
              "      <td>2019-02-03</td>\n",
              "      <td>3C</td>\n",
              "      <td>Numbers</td>\n",
              "      <td>0.514219</td>\n",
              "    </tr>\n",
              "    <tr>\n",
              "      <th>6</th>\n",
              "      <td>2019-02-04</td>\n",
              "      <td>1A</td>\n",
              "      <td>Numbers</td>\n",
              "      <td>0.221180</td>\n",
              "    </tr>\n",
              "    <tr>\n",
              "      <th>7</th>\n",
              "      <td>2019-02-04</td>\n",
              "      <td>2B</td>\n",
              "      <td>Numbers</td>\n",
              "      <td>-1.070043</td>\n",
              "    </tr>\n",
              "    <tr>\n",
              "      <th>8</th>\n",
              "      <td>2019-02-04</td>\n",
              "      <td>3C</td>\n",
              "      <td>Numbers</td>\n",
              "      <td>-0.189496</td>\n",
              "    </tr>\n",
              "    <tr>\n",
              "      <th>9</th>\n",
              "      <td>2019-02-02</td>\n",
              "      <td>1A</td>\n",
              "      <td>Numbers2</td>\n",
              "      <td>-3.499531</td>\n",
              "    </tr>\n",
              "    <tr>\n",
              "      <th>10</th>\n",
              "      <td>2019-02-02</td>\n",
              "      <td>2B</td>\n",
              "      <td>Numbers2</td>\n",
              "      <td>0.685361</td>\n",
              "    </tr>\n",
              "    <tr>\n",
              "      <th>11</th>\n",
              "      <td>2019-02-02</td>\n",
              "      <td>3C</td>\n",
              "      <td>Numbers2</td>\n",
              "      <td>2.306072</td>\n",
              "    </tr>\n",
              "    <tr>\n",
              "      <th>12</th>\n",
              "      <td>2019-02-03</td>\n",
              "      <td>1A</td>\n",
              "      <td>Numbers2</td>\n",
              "      <td>-0.504872</td>\n",
              "    </tr>\n",
              "    <tr>\n",
              "      <th>13</th>\n",
              "      <td>2019-02-03</td>\n",
              "      <td>2B</td>\n",
              "      <td>Numbers2</td>\n",
              "      <td>1.962642</td>\n",
              "    </tr>\n",
              "    <tr>\n",
              "      <th>14</th>\n",
              "      <td>2019-02-03</td>\n",
              "      <td>3C</td>\n",
              "      <td>Numbers2</td>\n",
              "      <td>1.028438</td>\n",
              "    </tr>\n",
              "    <tr>\n",
              "      <th>15</th>\n",
              "      <td>2019-02-04</td>\n",
              "      <td>1A</td>\n",
              "      <td>Numbers2</td>\n",
              "      <td>0.442359</td>\n",
              "    </tr>\n",
              "    <tr>\n",
              "      <th>16</th>\n",
              "      <td>2019-02-04</td>\n",
              "      <td>2B</td>\n",
              "      <td>Numbers2</td>\n",
              "      <td>-2.140087</td>\n",
              "    </tr>\n",
              "    <tr>\n",
              "      <th>17</th>\n",
              "      <td>2019-02-04</td>\n",
              "      <td>3C</td>\n",
              "      <td>Numbers2</td>\n",
              "      <td>-0.378992</td>\n",
              "    </tr>\n",
              "  </tbody>\n",
              "</table>\n",
              "</div>"
            ],
            "text/plain": [
              "         Date Class  variable     value\n",
              "0  2019-02-02    1A   Numbers -1.749765\n",
              "1  2019-02-02    2B   Numbers  0.342680\n",
              "2  2019-02-02    3C   Numbers  1.153036\n",
              "3  2019-02-03    1A   Numbers -0.252436\n",
              "4  2019-02-03    2B   Numbers  0.981321\n",
              "5  2019-02-03    3C   Numbers  0.514219\n",
              "6  2019-02-04    1A   Numbers  0.221180\n",
              "7  2019-02-04    2B   Numbers -1.070043\n",
              "8  2019-02-04    3C   Numbers -0.189496\n",
              "9  2019-02-02    1A  Numbers2 -3.499531\n",
              "10 2019-02-02    2B  Numbers2  0.685361\n",
              "11 2019-02-02    3C  Numbers2  2.306072\n",
              "12 2019-02-03    1A  Numbers2 -0.504872\n",
              "13 2019-02-03    2B  Numbers2  1.962642\n",
              "14 2019-02-03    3C  Numbers2  1.028438\n",
              "15 2019-02-04    1A  Numbers2  0.442359\n",
              "16 2019-02-04    2B  Numbers2 -2.140087\n",
              "17 2019-02-04    3C  Numbers2 -0.378992"
            ]
          },
          "metadata": {
            "tags": []
          },
          "execution_count": 8
        }
      ]
    },
    {
      "cell_type": "code",
      "metadata": {
        "colab": {
          "base_uri": "https://localhost:8080/",
          "height": 328
        },
        "id": "sg-yAV16u-fd",
        "outputId": "c80479c1-45fa-4abe-d1bd-474755f97dd8"
      },
      "source": [
        "df.melt(id_vars=['Date','Class'], value_vars=['Numbers'])"
      ],
      "execution_count": 9,
      "outputs": [
        {
          "output_type": "execute_result",
          "data": {
            "text/html": [
              "<div>\n",
              "<style scoped>\n",
              "    .dataframe tbody tr th:only-of-type {\n",
              "        vertical-align: middle;\n",
              "    }\n",
              "\n",
              "    .dataframe tbody tr th {\n",
              "        vertical-align: top;\n",
              "    }\n",
              "\n",
              "    .dataframe thead th {\n",
              "        text-align: right;\n",
              "    }\n",
              "</style>\n",
              "<table border=\"1\" class=\"dataframe\">\n",
              "  <thead>\n",
              "    <tr style=\"text-align: right;\">\n",
              "      <th></th>\n",
              "      <th>Date</th>\n",
              "      <th>Class</th>\n",
              "      <th>variable</th>\n",
              "      <th>value</th>\n",
              "    </tr>\n",
              "  </thead>\n",
              "  <tbody>\n",
              "    <tr>\n",
              "      <th>0</th>\n",
              "      <td>2019-02-02</td>\n",
              "      <td>1A</td>\n",
              "      <td>Numbers</td>\n",
              "      <td>-1.749765</td>\n",
              "    </tr>\n",
              "    <tr>\n",
              "      <th>1</th>\n",
              "      <td>2019-02-02</td>\n",
              "      <td>2B</td>\n",
              "      <td>Numbers</td>\n",
              "      <td>0.342680</td>\n",
              "    </tr>\n",
              "    <tr>\n",
              "      <th>2</th>\n",
              "      <td>2019-02-02</td>\n",
              "      <td>3C</td>\n",
              "      <td>Numbers</td>\n",
              "      <td>1.153036</td>\n",
              "    </tr>\n",
              "    <tr>\n",
              "      <th>3</th>\n",
              "      <td>2019-02-03</td>\n",
              "      <td>1A</td>\n",
              "      <td>Numbers</td>\n",
              "      <td>-0.252436</td>\n",
              "    </tr>\n",
              "    <tr>\n",
              "      <th>4</th>\n",
              "      <td>2019-02-03</td>\n",
              "      <td>2B</td>\n",
              "      <td>Numbers</td>\n",
              "      <td>0.981321</td>\n",
              "    </tr>\n",
              "    <tr>\n",
              "      <th>5</th>\n",
              "      <td>2019-02-03</td>\n",
              "      <td>3C</td>\n",
              "      <td>Numbers</td>\n",
              "      <td>0.514219</td>\n",
              "    </tr>\n",
              "    <tr>\n",
              "      <th>6</th>\n",
              "      <td>2019-02-04</td>\n",
              "      <td>1A</td>\n",
              "      <td>Numbers</td>\n",
              "      <td>0.221180</td>\n",
              "    </tr>\n",
              "    <tr>\n",
              "      <th>7</th>\n",
              "      <td>2019-02-04</td>\n",
              "      <td>2B</td>\n",
              "      <td>Numbers</td>\n",
              "      <td>-1.070043</td>\n",
              "    </tr>\n",
              "    <tr>\n",
              "      <th>8</th>\n",
              "      <td>2019-02-04</td>\n",
              "      <td>3C</td>\n",
              "      <td>Numbers</td>\n",
              "      <td>-0.189496</td>\n",
              "    </tr>\n",
              "  </tbody>\n",
              "</table>\n",
              "</div>"
            ],
            "text/plain": [
              "        Date Class variable     value\n",
              "0 2019-02-02    1A  Numbers -1.749765\n",
              "1 2019-02-02    2B  Numbers  0.342680\n",
              "2 2019-02-02    3C  Numbers  1.153036\n",
              "3 2019-02-03    1A  Numbers -0.252436\n",
              "4 2019-02-03    2B  Numbers  0.981321\n",
              "5 2019-02-03    3C  Numbers  0.514219\n",
              "6 2019-02-04    1A  Numbers  0.221180\n",
              "7 2019-02-04    2B  Numbers -1.070043\n",
              "8 2019-02-04    3C  Numbers -0.189496"
            ]
          },
          "metadata": {
            "tags": []
          },
          "execution_count": 9
        }
      ]
    },
    {
      "cell_type": "code",
      "metadata": {
        "colab": {
          "base_uri": "https://localhost:8080/",
          "height": 328
        },
        "id": "8C3ahfP8vC7-",
        "outputId": "6c381050-3e74-4757-c84d-a64cbf40fbee"
      },
      "source": [
        "df.melt(id_vars=['Date','Class'], value_vars=['Numbers'], value_name=\"Numbers_Value\", var_name=\"Num_Var\")"
      ],
      "execution_count": 10,
      "outputs": [
        {
          "output_type": "execute_result",
          "data": {
            "text/html": [
              "<div>\n",
              "<style scoped>\n",
              "    .dataframe tbody tr th:only-of-type {\n",
              "        vertical-align: middle;\n",
              "    }\n",
              "\n",
              "    .dataframe tbody tr th {\n",
              "        vertical-align: top;\n",
              "    }\n",
              "\n",
              "    .dataframe thead th {\n",
              "        text-align: right;\n",
              "    }\n",
              "</style>\n",
              "<table border=\"1\" class=\"dataframe\">\n",
              "  <thead>\n",
              "    <tr style=\"text-align: right;\">\n",
              "      <th></th>\n",
              "      <th>Date</th>\n",
              "      <th>Class</th>\n",
              "      <th>Num_Var</th>\n",
              "      <th>Numbers_Value</th>\n",
              "    </tr>\n",
              "  </thead>\n",
              "  <tbody>\n",
              "    <tr>\n",
              "      <th>0</th>\n",
              "      <td>2019-02-02</td>\n",
              "      <td>1A</td>\n",
              "      <td>Numbers</td>\n",
              "      <td>-1.749765</td>\n",
              "    </tr>\n",
              "    <tr>\n",
              "      <th>1</th>\n",
              "      <td>2019-02-02</td>\n",
              "      <td>2B</td>\n",
              "      <td>Numbers</td>\n",
              "      <td>0.342680</td>\n",
              "    </tr>\n",
              "    <tr>\n",
              "      <th>2</th>\n",
              "      <td>2019-02-02</td>\n",
              "      <td>3C</td>\n",
              "      <td>Numbers</td>\n",
              "      <td>1.153036</td>\n",
              "    </tr>\n",
              "    <tr>\n",
              "      <th>3</th>\n",
              "      <td>2019-02-03</td>\n",
              "      <td>1A</td>\n",
              "      <td>Numbers</td>\n",
              "      <td>-0.252436</td>\n",
              "    </tr>\n",
              "    <tr>\n",
              "      <th>4</th>\n",
              "      <td>2019-02-03</td>\n",
              "      <td>2B</td>\n",
              "      <td>Numbers</td>\n",
              "      <td>0.981321</td>\n",
              "    </tr>\n",
              "    <tr>\n",
              "      <th>5</th>\n",
              "      <td>2019-02-03</td>\n",
              "      <td>3C</td>\n",
              "      <td>Numbers</td>\n",
              "      <td>0.514219</td>\n",
              "    </tr>\n",
              "    <tr>\n",
              "      <th>6</th>\n",
              "      <td>2019-02-04</td>\n",
              "      <td>1A</td>\n",
              "      <td>Numbers</td>\n",
              "      <td>0.221180</td>\n",
              "    </tr>\n",
              "    <tr>\n",
              "      <th>7</th>\n",
              "      <td>2019-02-04</td>\n",
              "      <td>2B</td>\n",
              "      <td>Numbers</td>\n",
              "      <td>-1.070043</td>\n",
              "    </tr>\n",
              "    <tr>\n",
              "      <th>8</th>\n",
              "      <td>2019-02-04</td>\n",
              "      <td>3C</td>\n",
              "      <td>Numbers</td>\n",
              "      <td>-0.189496</td>\n",
              "    </tr>\n",
              "  </tbody>\n",
              "</table>\n",
              "</div>"
            ],
            "text/plain": [
              "        Date Class  Num_Var  Numbers_Value\n",
              "0 2019-02-02    1A  Numbers      -1.749765\n",
              "1 2019-02-02    2B  Numbers       0.342680\n",
              "2 2019-02-02    3C  Numbers       1.153036\n",
              "3 2019-02-03    1A  Numbers      -0.252436\n",
              "4 2019-02-03    2B  Numbers       0.981321\n",
              "5 2019-02-03    3C  Numbers       0.514219\n",
              "6 2019-02-04    1A  Numbers       0.221180\n",
              "7 2019-02-04    2B  Numbers      -1.070043\n",
              "8 2019-02-04    3C  Numbers      -0.189496"
            ]
          },
          "metadata": {
            "tags": []
          },
          "execution_count": 10
        }
      ]
    },
    {
      "cell_type": "markdown",
      "metadata": {
        "id": "BJvt5bSFvG5g"
      },
      "source": [
        "# Stack and Unstack"
      ]
    },
    {
      "cell_type": "code",
      "metadata": {
        "colab": {
          "base_uri": "https://localhost:8080/"
        },
        "id": "_InHEEkqvE4a",
        "outputId": "4930b693-84b3-4b65-b1a2-fea2e32aeccc"
      },
      "source": [
        "df.set_index([\"Date\",\"Class\"]).stack()"
      ],
      "execution_count": 11,
      "outputs": [
        {
          "output_type": "execute_result",
          "data": {
            "text/plain": [
              "Date        Class          \n",
              "2019-02-02  1A     Numbers    -1.749765\n",
              "                   Numbers2   -3.499531\n",
              "            2B     Numbers     0.342680\n",
              "                   Numbers2    0.685361\n",
              "            3C     Numbers     1.153036\n",
              "                   Numbers2    2.306072\n",
              "2019-02-03  1A     Numbers    -0.252436\n",
              "                   Numbers2   -0.504872\n",
              "            2B     Numbers     0.981321\n",
              "                   Numbers2    1.962642\n",
              "            3C     Numbers     0.514219\n",
              "                   Numbers2    1.028438\n",
              "2019-02-04  1A     Numbers     0.221180\n",
              "                   Numbers2    0.442359\n",
              "            2B     Numbers    -1.070043\n",
              "                   Numbers2   -2.140087\n",
              "            3C     Numbers    -0.189496\n",
              "                   Numbers2   -0.378992\n",
              "dtype: float64"
            ]
          },
          "metadata": {
            "tags": []
          },
          "execution_count": 11
        }
      ]
    },
    {
      "cell_type": "code",
      "metadata": {
        "colab": {
          "base_uri": "https://localhost:8080/",
          "height": 359
        },
        "id": "QBxqt-RvvJvt",
        "outputId": "2417a7c5-8d33-443f-9b13-8ec33e2c8f92"
      },
      "source": [
        "df.set_index([\"Date\",\"Class\"]).stack().unstack()"
      ],
      "execution_count": 12,
      "outputs": [
        {
          "output_type": "execute_result",
          "data": {
            "text/html": [
              "<div>\n",
              "<style scoped>\n",
              "    .dataframe tbody tr th:only-of-type {\n",
              "        vertical-align: middle;\n",
              "    }\n",
              "\n",
              "    .dataframe tbody tr th {\n",
              "        vertical-align: top;\n",
              "    }\n",
              "\n",
              "    .dataframe thead th {\n",
              "        text-align: right;\n",
              "    }\n",
              "</style>\n",
              "<table border=\"1\" class=\"dataframe\">\n",
              "  <thead>\n",
              "    <tr style=\"text-align: right;\">\n",
              "      <th></th>\n",
              "      <th></th>\n",
              "      <th>Numbers</th>\n",
              "      <th>Numbers2</th>\n",
              "    </tr>\n",
              "    <tr>\n",
              "      <th>Date</th>\n",
              "      <th>Class</th>\n",
              "      <th></th>\n",
              "      <th></th>\n",
              "    </tr>\n",
              "  </thead>\n",
              "  <tbody>\n",
              "    <tr>\n",
              "      <th rowspan=\"3\" valign=\"top\">2019-02-02</th>\n",
              "      <th>1A</th>\n",
              "      <td>-1.749765</td>\n",
              "      <td>-3.499531</td>\n",
              "    </tr>\n",
              "    <tr>\n",
              "      <th>2B</th>\n",
              "      <td>0.342680</td>\n",
              "      <td>0.685361</td>\n",
              "    </tr>\n",
              "    <tr>\n",
              "      <th>3C</th>\n",
              "      <td>1.153036</td>\n",
              "      <td>2.306072</td>\n",
              "    </tr>\n",
              "    <tr>\n",
              "      <th rowspan=\"3\" valign=\"top\">2019-02-03</th>\n",
              "      <th>1A</th>\n",
              "      <td>-0.252436</td>\n",
              "      <td>-0.504872</td>\n",
              "    </tr>\n",
              "    <tr>\n",
              "      <th>2B</th>\n",
              "      <td>0.981321</td>\n",
              "      <td>1.962642</td>\n",
              "    </tr>\n",
              "    <tr>\n",
              "      <th>3C</th>\n",
              "      <td>0.514219</td>\n",
              "      <td>1.028438</td>\n",
              "    </tr>\n",
              "    <tr>\n",
              "      <th rowspan=\"3\" valign=\"top\">2019-02-04</th>\n",
              "      <th>1A</th>\n",
              "      <td>0.221180</td>\n",
              "      <td>0.442359</td>\n",
              "    </tr>\n",
              "    <tr>\n",
              "      <th>2B</th>\n",
              "      <td>-1.070043</td>\n",
              "      <td>-2.140087</td>\n",
              "    </tr>\n",
              "    <tr>\n",
              "      <th>3C</th>\n",
              "      <td>-0.189496</td>\n",
              "      <td>-0.378992</td>\n",
              "    </tr>\n",
              "  </tbody>\n",
              "</table>\n",
              "</div>"
            ],
            "text/plain": [
              "                   Numbers  Numbers2\n",
              "Date       Class                    \n",
              "2019-02-02 1A    -1.749765 -3.499531\n",
              "           2B     0.342680  0.685361\n",
              "           3C     1.153036  2.306072\n",
              "2019-02-03 1A    -0.252436 -0.504872\n",
              "           2B     0.981321  1.962642\n",
              "           3C     0.514219  1.028438\n",
              "2019-02-04 1A     0.221180  0.442359\n",
              "           2B    -1.070043 -2.140087\n",
              "           3C    -0.189496 -0.378992"
            ]
          },
          "metadata": {
            "tags": []
          },
          "execution_count": 12
        }
      ]
    },
    {
      "cell_type": "markdown",
      "metadata": {
        "id": "mf-xeLpWvTRX"
      },
      "source": [
        "# Type -2: Reforming with aggregation"
      ]
    },
    {
      "cell_type": "code",
      "metadata": {
        "colab": {
          "base_uri": "https://localhost:8080/",
          "height": 297
        },
        "id": "HRe75pCavRjN",
        "outputId": "66370dcb-5a5e-49bb-ad97-4a401ba79d52"
      },
      "source": [
        "df=pd.DataFrame({\"Date\":pd.Index(pd.date_range(start='2/2/2019',periods=2)).repeat(4), \"Class\":[\"1A\",\"2B\",\"3C\",\"1A\",\"2B\",\"3C\",\"1A\",\"2B\"], \"Numbers\":np.random.randn(8)})\n",
        "\n",
        "df"
      ],
      "execution_count": 13,
      "outputs": [
        {
          "output_type": "execute_result",
          "data": {
            "text/html": [
              "<div>\n",
              "<style scoped>\n",
              "    .dataframe tbody tr th:only-of-type {\n",
              "        vertical-align: middle;\n",
              "    }\n",
              "\n",
              "    .dataframe tbody tr th {\n",
              "        vertical-align: top;\n",
              "    }\n",
              "\n",
              "    .dataframe thead th {\n",
              "        text-align: right;\n",
              "    }\n",
              "</style>\n",
              "<table border=\"1\" class=\"dataframe\">\n",
              "  <thead>\n",
              "    <tr style=\"text-align: right;\">\n",
              "      <th></th>\n",
              "      <th>Date</th>\n",
              "      <th>Class</th>\n",
              "      <th>Numbers</th>\n",
              "    </tr>\n",
              "  </thead>\n",
              "  <tbody>\n",
              "    <tr>\n",
              "      <th>0</th>\n",
              "      <td>2019-02-02</td>\n",
              "      <td>1A</td>\n",
              "      <td>0.255001</td>\n",
              "    </tr>\n",
              "    <tr>\n",
              "      <th>1</th>\n",
              "      <td>2019-02-02</td>\n",
              "      <td>2B</td>\n",
              "      <td>-0.458027</td>\n",
              "    </tr>\n",
              "    <tr>\n",
              "      <th>2</th>\n",
              "      <td>2019-02-02</td>\n",
              "      <td>3C</td>\n",
              "      <td>0.435163</td>\n",
              "    </tr>\n",
              "    <tr>\n",
              "      <th>3</th>\n",
              "      <td>2019-02-02</td>\n",
              "      <td>1A</td>\n",
              "      <td>-0.583595</td>\n",
              "    </tr>\n",
              "    <tr>\n",
              "      <th>4</th>\n",
              "      <td>2019-02-03</td>\n",
              "      <td>2B</td>\n",
              "      <td>0.816847</td>\n",
              "    </tr>\n",
              "    <tr>\n",
              "      <th>5</th>\n",
              "      <td>2019-02-03</td>\n",
              "      <td>3C</td>\n",
              "      <td>0.672721</td>\n",
              "    </tr>\n",
              "    <tr>\n",
              "      <th>6</th>\n",
              "      <td>2019-02-03</td>\n",
              "      <td>1A</td>\n",
              "      <td>-0.104411</td>\n",
              "    </tr>\n",
              "    <tr>\n",
              "      <th>7</th>\n",
              "      <td>2019-02-03</td>\n",
              "      <td>2B</td>\n",
              "      <td>-0.531280</td>\n",
              "    </tr>\n",
              "  </tbody>\n",
              "</table>\n",
              "</div>"
            ],
            "text/plain": [
              "        Date Class   Numbers\n",
              "0 2019-02-02    1A  0.255001\n",
              "1 2019-02-02    2B -0.458027\n",
              "2 2019-02-02    3C  0.435163\n",
              "3 2019-02-02    1A -0.583595\n",
              "4 2019-02-03    2B  0.816847\n",
              "5 2019-02-03    3C  0.672721\n",
              "6 2019-02-03    1A -0.104411\n",
              "7 2019-02-03    2B -0.531280"
            ]
          },
          "metadata": {
            "tags": []
          },
          "execution_count": 13
        }
      ]
    },
    {
      "cell_type": "markdown",
      "metadata": {
        "id": "6NEkau0Xvfms"
      },
      "source": [
        "# Group by"
      ]
    },
    {
      "cell_type": "code",
      "metadata": {
        "colab": {
          "base_uri": "https://localhost:8080/"
        },
        "id": "zIlSttpqvc88",
        "outputId": "0d22aad4-de99-4581-f530-981868204260"
      },
      "source": [
        "df.groupby('Date')[\"Numbers\"].mean()"
      ],
      "execution_count": 14,
      "outputs": [
        {
          "output_type": "execute_result",
          "data": {
            "text/plain": [
              "Date\n",
              "2019-02-02   -0.087864\n",
              "2019-02-03    0.213469\n",
              "Name: Numbers, dtype: float64"
            ]
          },
          "metadata": {
            "tags": []
          },
          "execution_count": 14
        }
      ]
    },
    {
      "cell_type": "code",
      "metadata": {
        "colab": {
          "base_uri": "https://localhost:8080/",
          "height": 111
        },
        "id": "5bK5u34-vest",
        "outputId": "c41decb6-8a62-4f8b-bf3c-01e62a32b62a"
      },
      "source": [
        "df.groupby('Date', as_index=False)[\"Numbers\"].mean()"
      ],
      "execution_count": 15,
      "outputs": [
        {
          "output_type": "execute_result",
          "data": {
            "text/html": [
              "<div>\n",
              "<style scoped>\n",
              "    .dataframe tbody tr th:only-of-type {\n",
              "        vertical-align: middle;\n",
              "    }\n",
              "\n",
              "    .dataframe tbody tr th {\n",
              "        vertical-align: top;\n",
              "    }\n",
              "\n",
              "    .dataframe thead th {\n",
              "        text-align: right;\n",
              "    }\n",
              "</style>\n",
              "<table border=\"1\" class=\"dataframe\">\n",
              "  <thead>\n",
              "    <tr style=\"text-align: right;\">\n",
              "      <th></th>\n",
              "      <th>Date</th>\n",
              "      <th>Numbers</th>\n",
              "    </tr>\n",
              "  </thead>\n",
              "  <tbody>\n",
              "    <tr>\n",
              "      <th>0</th>\n",
              "      <td>2019-02-02</td>\n",
              "      <td>-0.087864</td>\n",
              "    </tr>\n",
              "    <tr>\n",
              "      <th>1</th>\n",
              "      <td>2019-02-03</td>\n",
              "      <td>0.213469</td>\n",
              "    </tr>\n",
              "  </tbody>\n",
              "</table>\n",
              "</div>"
            ],
            "text/plain": [
              "        Date   Numbers\n",
              "0 2019-02-02 -0.087864\n",
              "1 2019-02-03  0.213469"
            ]
          },
          "metadata": {
            "tags": []
          },
          "execution_count": 15
        }
      ]
    },
    {
      "cell_type": "code",
      "metadata": {
        "colab": {
          "base_uri": "https://localhost:8080/",
          "height": 235
        },
        "id": "AoMQRs8JviWk",
        "outputId": "10a47864-473d-405c-f4dc-dc75aae50040"
      },
      "source": [
        "df.groupby(['Date','Class'], as_index=False)[\"Numbers\"].mean()"
      ],
      "execution_count": 16,
      "outputs": [
        {
          "output_type": "execute_result",
          "data": {
            "text/html": [
              "<div>\n",
              "<style scoped>\n",
              "    .dataframe tbody tr th:only-of-type {\n",
              "        vertical-align: middle;\n",
              "    }\n",
              "\n",
              "    .dataframe tbody tr th {\n",
              "        vertical-align: top;\n",
              "    }\n",
              "\n",
              "    .dataframe thead th {\n",
              "        text-align: right;\n",
              "    }\n",
              "</style>\n",
              "<table border=\"1\" class=\"dataframe\">\n",
              "  <thead>\n",
              "    <tr style=\"text-align: right;\">\n",
              "      <th></th>\n",
              "      <th>Date</th>\n",
              "      <th>Class</th>\n",
              "      <th>Numbers</th>\n",
              "    </tr>\n",
              "  </thead>\n",
              "  <tbody>\n",
              "    <tr>\n",
              "      <th>0</th>\n",
              "      <td>2019-02-02</td>\n",
              "      <td>1A</td>\n",
              "      <td>-0.164297</td>\n",
              "    </tr>\n",
              "    <tr>\n",
              "      <th>1</th>\n",
              "      <td>2019-02-02</td>\n",
              "      <td>2B</td>\n",
              "      <td>-0.458027</td>\n",
              "    </tr>\n",
              "    <tr>\n",
              "      <th>2</th>\n",
              "      <td>2019-02-02</td>\n",
              "      <td>3C</td>\n",
              "      <td>0.435163</td>\n",
              "    </tr>\n",
              "    <tr>\n",
              "      <th>3</th>\n",
              "      <td>2019-02-03</td>\n",
              "      <td>1A</td>\n",
              "      <td>-0.104411</td>\n",
              "    </tr>\n",
              "    <tr>\n",
              "      <th>4</th>\n",
              "      <td>2019-02-03</td>\n",
              "      <td>2B</td>\n",
              "      <td>0.142783</td>\n",
              "    </tr>\n",
              "    <tr>\n",
              "      <th>5</th>\n",
              "      <td>2019-02-03</td>\n",
              "      <td>3C</td>\n",
              "      <td>0.672721</td>\n",
              "    </tr>\n",
              "  </tbody>\n",
              "</table>\n",
              "</div>"
            ],
            "text/plain": [
              "        Date Class   Numbers\n",
              "0 2019-02-02    1A -0.164297\n",
              "1 2019-02-02    2B -0.458027\n",
              "2 2019-02-02    3C  0.435163\n",
              "3 2019-02-03    1A -0.104411\n",
              "4 2019-02-03    2B  0.142783\n",
              "5 2019-02-03    3C  0.672721"
            ]
          },
          "metadata": {
            "tags": []
          },
          "execution_count": 16
        }
      ]
    },
    {
      "cell_type": "code",
      "metadata": {
        "colab": {
          "base_uri": "https://localhost:8080/",
          "height": 111
        },
        "id": "qrNnttDnvoSq",
        "outputId": "ab7c6e4f-8dda-4b5d-b543-2420c74780e0"
      },
      "source": [
        "df.groupby(['Date'], as_index=False).aggregate({\"Numbers\":\"sum\"})"
      ],
      "execution_count": 20,
      "outputs": [
        {
          "output_type": "execute_result",
          "data": {
            "text/html": [
              "<div>\n",
              "<style scoped>\n",
              "    .dataframe tbody tr th:only-of-type {\n",
              "        vertical-align: middle;\n",
              "    }\n",
              "\n",
              "    .dataframe tbody tr th {\n",
              "        vertical-align: top;\n",
              "    }\n",
              "\n",
              "    .dataframe thead th {\n",
              "        text-align: right;\n",
              "    }\n",
              "</style>\n",
              "<table border=\"1\" class=\"dataframe\">\n",
              "  <thead>\n",
              "    <tr style=\"text-align: right;\">\n",
              "      <th></th>\n",
              "      <th>Date</th>\n",
              "      <th>Numbers</th>\n",
              "    </tr>\n",
              "  </thead>\n",
              "  <tbody>\n",
              "    <tr>\n",
              "      <th>0</th>\n",
              "      <td>2019-02-02</td>\n",
              "      <td>-0.351457</td>\n",
              "    </tr>\n",
              "    <tr>\n",
              "      <th>1</th>\n",
              "      <td>2019-02-03</td>\n",
              "      <td>0.853876</td>\n",
              "    </tr>\n",
              "  </tbody>\n",
              "</table>\n",
              "</div>"
            ],
            "text/plain": [
              "        Date   Numbers\n",
              "0 2019-02-02 -0.351457\n",
              "1 2019-02-03  0.853876"
            ]
          },
          "metadata": {
            "tags": []
          },
          "execution_count": 20
        }
      ]
    },
    {
      "cell_type": "markdown",
      "metadata": {
        "id": "l42AhrsJvwl7"
      },
      "source": [
        "# Pivot Table"
      ]
    },
    {
      "cell_type": "code",
      "metadata": {
        "colab": {
          "base_uri": "https://localhost:8080/",
          "height": 173
        },
        "id": "xe-NzPI0vpkI",
        "outputId": "7bd4d5a3-bee4-4a48-f9d2-1f4427990036"
      },
      "source": [
        "df.pivot_table(index=\"Date\", columns=\"Class\")"
      ],
      "execution_count": 21,
      "outputs": [
        {
          "output_type": "execute_result",
          "data": {
            "text/html": [
              "<div>\n",
              "<style scoped>\n",
              "    .dataframe tbody tr th:only-of-type {\n",
              "        vertical-align: middle;\n",
              "    }\n",
              "\n",
              "    .dataframe tbody tr th {\n",
              "        vertical-align: top;\n",
              "    }\n",
              "\n",
              "    .dataframe thead tr th {\n",
              "        text-align: left;\n",
              "    }\n",
              "\n",
              "    .dataframe thead tr:last-of-type th {\n",
              "        text-align: right;\n",
              "    }\n",
              "</style>\n",
              "<table border=\"1\" class=\"dataframe\">\n",
              "  <thead>\n",
              "    <tr>\n",
              "      <th></th>\n",
              "      <th colspan=\"3\" halign=\"left\">Numbers</th>\n",
              "    </tr>\n",
              "    <tr>\n",
              "      <th>Class</th>\n",
              "      <th>1A</th>\n",
              "      <th>2B</th>\n",
              "      <th>3C</th>\n",
              "    </tr>\n",
              "    <tr>\n",
              "      <th>Date</th>\n",
              "      <th></th>\n",
              "      <th></th>\n",
              "      <th></th>\n",
              "    </tr>\n",
              "  </thead>\n",
              "  <tbody>\n",
              "    <tr>\n",
              "      <th>2019-02-02</th>\n",
              "      <td>-0.164297</td>\n",
              "      <td>-0.458027</td>\n",
              "      <td>0.435163</td>\n",
              "    </tr>\n",
              "    <tr>\n",
              "      <th>2019-02-03</th>\n",
              "      <td>-0.104411</td>\n",
              "      <td>0.142783</td>\n",
              "      <td>0.672721</td>\n",
              "    </tr>\n",
              "  </tbody>\n",
              "</table>\n",
              "</div>"
            ],
            "text/plain": [
              "             Numbers                    \n",
              "Class             1A        2B        3C\n",
              "Date                                    \n",
              "2019-02-02 -0.164297 -0.458027  0.435163\n",
              "2019-02-03 -0.104411  0.142783  0.672721"
            ]
          },
          "metadata": {
            "tags": []
          },
          "execution_count": 21
        }
      ]
    },
    {
      "cell_type": "code",
      "metadata": {
        "colab": {
          "base_uri": "https://localhost:8080/",
          "height": 173
        },
        "id": "4LgCyBRfv4IR",
        "outputId": "46473771-8983-4739-b518-c26f544637be"
      },
      "source": [
        "df.pivot_table(index=\"Date\", columns=\"Class\", aggfunc=\"sum\")"
      ],
      "execution_count": 22,
      "outputs": [
        {
          "output_type": "execute_result",
          "data": {
            "text/html": [
              "<div>\n",
              "<style scoped>\n",
              "    .dataframe tbody tr th:only-of-type {\n",
              "        vertical-align: middle;\n",
              "    }\n",
              "\n",
              "    .dataframe tbody tr th {\n",
              "        vertical-align: top;\n",
              "    }\n",
              "\n",
              "    .dataframe thead tr th {\n",
              "        text-align: left;\n",
              "    }\n",
              "\n",
              "    .dataframe thead tr:last-of-type th {\n",
              "        text-align: right;\n",
              "    }\n",
              "</style>\n",
              "<table border=\"1\" class=\"dataframe\">\n",
              "  <thead>\n",
              "    <tr>\n",
              "      <th></th>\n",
              "      <th colspan=\"3\" halign=\"left\">Numbers</th>\n",
              "    </tr>\n",
              "    <tr>\n",
              "      <th>Class</th>\n",
              "      <th>1A</th>\n",
              "      <th>2B</th>\n",
              "      <th>3C</th>\n",
              "    </tr>\n",
              "    <tr>\n",
              "      <th>Date</th>\n",
              "      <th></th>\n",
              "      <th></th>\n",
              "      <th></th>\n",
              "    </tr>\n",
              "  </thead>\n",
              "  <tbody>\n",
              "    <tr>\n",
              "      <th>2019-02-02</th>\n",
              "      <td>-0.328594</td>\n",
              "      <td>-0.458027</td>\n",
              "      <td>0.435163</td>\n",
              "    </tr>\n",
              "    <tr>\n",
              "      <th>2019-02-03</th>\n",
              "      <td>-0.104411</td>\n",
              "      <td>0.285567</td>\n",
              "      <td>0.672721</td>\n",
              "    </tr>\n",
              "  </tbody>\n",
              "</table>\n",
              "</div>"
            ],
            "text/plain": [
              "             Numbers                    \n",
              "Class             1A        2B        3C\n",
              "Date                                    \n",
              "2019-02-02 -0.328594 -0.458027  0.435163\n",
              "2019-02-03 -0.104411  0.285567  0.672721"
            ]
          },
          "metadata": {
            "tags": []
          },
          "execution_count": 22
        }
      ]
    },
    {
      "cell_type": "markdown",
      "metadata": {
        "id": "UAZWOh84v7I-"
      },
      "source": [
        "# Crosstab"
      ]
    },
    {
      "cell_type": "code",
      "metadata": {
        "colab": {
          "base_uri": "https://localhost:8080/",
          "height": 142
        },
        "id": "i3MlBFmjv6H2",
        "outputId": "39430d7c-d449-4466-a419-0515c24c61ae"
      },
      "source": [
        "pd.crosstab(df.Date, df.Class)"
      ],
      "execution_count": 23,
      "outputs": [
        {
          "output_type": "execute_result",
          "data": {
            "text/html": [
              "<div>\n",
              "<style scoped>\n",
              "    .dataframe tbody tr th:only-of-type {\n",
              "        vertical-align: middle;\n",
              "    }\n",
              "\n",
              "    .dataframe tbody tr th {\n",
              "        vertical-align: top;\n",
              "    }\n",
              "\n",
              "    .dataframe thead th {\n",
              "        text-align: right;\n",
              "    }\n",
              "</style>\n",
              "<table border=\"1\" class=\"dataframe\">\n",
              "  <thead>\n",
              "    <tr style=\"text-align: right;\">\n",
              "      <th>Class</th>\n",
              "      <th>1A</th>\n",
              "      <th>2B</th>\n",
              "      <th>3C</th>\n",
              "    </tr>\n",
              "    <tr>\n",
              "      <th>Date</th>\n",
              "      <th></th>\n",
              "      <th></th>\n",
              "      <th></th>\n",
              "    </tr>\n",
              "  </thead>\n",
              "  <tbody>\n",
              "    <tr>\n",
              "      <th>2019-02-02</th>\n",
              "      <td>2</td>\n",
              "      <td>1</td>\n",
              "      <td>1</td>\n",
              "    </tr>\n",
              "    <tr>\n",
              "      <th>2019-02-03</th>\n",
              "      <td>1</td>\n",
              "      <td>2</td>\n",
              "      <td>1</td>\n",
              "    </tr>\n",
              "  </tbody>\n",
              "</table>\n",
              "</div>"
            ],
            "text/plain": [
              "Class       1A  2B  3C\n",
              "Date                  \n",
              "2019-02-02   2   1   1\n",
              "2019-02-03   1   2   1"
            ]
          },
          "metadata": {
            "tags": []
          },
          "execution_count": 23
        }
      ]
    },
    {
      "cell_type": "code",
      "metadata": {
        "colab": {
          "base_uri": "https://localhost:8080/",
          "height": 142
        },
        "id": "jkHQQ3UYv-LI",
        "outputId": "8398c58b-4035-4d93-d530-e4c26cff49ed"
      },
      "source": [
        "pd.crosstab(df.Date, df.Class, values=df.Numbers, aggfunc='sum')"
      ],
      "execution_count": 24,
      "outputs": [
        {
          "output_type": "execute_result",
          "data": {
            "text/html": [
              "<div>\n",
              "<style scoped>\n",
              "    .dataframe tbody tr th:only-of-type {\n",
              "        vertical-align: middle;\n",
              "    }\n",
              "\n",
              "    .dataframe tbody tr th {\n",
              "        vertical-align: top;\n",
              "    }\n",
              "\n",
              "    .dataframe thead th {\n",
              "        text-align: right;\n",
              "    }\n",
              "</style>\n",
              "<table border=\"1\" class=\"dataframe\">\n",
              "  <thead>\n",
              "    <tr style=\"text-align: right;\">\n",
              "      <th>Class</th>\n",
              "      <th>1A</th>\n",
              "      <th>2B</th>\n",
              "      <th>3C</th>\n",
              "    </tr>\n",
              "    <tr>\n",
              "      <th>Date</th>\n",
              "      <th></th>\n",
              "      <th></th>\n",
              "      <th></th>\n",
              "    </tr>\n",
              "  </thead>\n",
              "  <tbody>\n",
              "    <tr>\n",
              "      <th>2019-02-02</th>\n",
              "      <td>-0.328594</td>\n",
              "      <td>-0.458027</td>\n",
              "      <td>0.435163</td>\n",
              "    </tr>\n",
              "    <tr>\n",
              "      <th>2019-02-03</th>\n",
              "      <td>-0.104411</td>\n",
              "      <td>0.285567</td>\n",
              "      <td>0.672721</td>\n",
              "    </tr>\n",
              "  </tbody>\n",
              "</table>\n",
              "</div>"
            ],
            "text/plain": [
              "Class             1A        2B        3C\n",
              "Date                                    \n",
              "2019-02-02 -0.328594 -0.458027  0.435163\n",
              "2019-02-03 -0.104411  0.285567  0.672721"
            ]
          },
          "metadata": {
            "tags": []
          },
          "execution_count": 24
        }
      ]
    },
    {
      "cell_type": "code",
      "metadata": {
        "colab": {
          "base_uri": "https://localhost:8080/",
          "height": 142
        },
        "id": "DNKwtCbQwCw8",
        "outputId": "2b11c487-6159-48c8-ec3d-c12a2f8a2e67"
      },
      "source": [
        "pd.crosstab(df.Date, df.Class, values=df.Numbers, aggfunc='mean')"
      ],
      "execution_count": 25,
      "outputs": [
        {
          "output_type": "execute_result",
          "data": {
            "text/html": [
              "<div>\n",
              "<style scoped>\n",
              "    .dataframe tbody tr th:only-of-type {\n",
              "        vertical-align: middle;\n",
              "    }\n",
              "\n",
              "    .dataframe tbody tr th {\n",
              "        vertical-align: top;\n",
              "    }\n",
              "\n",
              "    .dataframe thead th {\n",
              "        text-align: right;\n",
              "    }\n",
              "</style>\n",
              "<table border=\"1\" class=\"dataframe\">\n",
              "  <thead>\n",
              "    <tr style=\"text-align: right;\">\n",
              "      <th>Class</th>\n",
              "      <th>1A</th>\n",
              "      <th>2B</th>\n",
              "      <th>3C</th>\n",
              "    </tr>\n",
              "    <tr>\n",
              "      <th>Date</th>\n",
              "      <th></th>\n",
              "      <th></th>\n",
              "      <th></th>\n",
              "    </tr>\n",
              "  </thead>\n",
              "  <tbody>\n",
              "    <tr>\n",
              "      <th>2019-02-02</th>\n",
              "      <td>-0.164297</td>\n",
              "      <td>-0.458027</td>\n",
              "      <td>0.435163</td>\n",
              "    </tr>\n",
              "    <tr>\n",
              "      <th>2019-02-03</th>\n",
              "      <td>-0.104411</td>\n",
              "      <td>0.142783</td>\n",
              "      <td>0.672721</td>\n",
              "    </tr>\n",
              "  </tbody>\n",
              "</table>\n",
              "</div>"
            ],
            "text/plain": [
              "Class             1A        2B        3C\n",
              "Date                                    \n",
              "2019-02-02 -0.164297 -0.458027  0.435163\n",
              "2019-02-03 -0.104411  0.142783  0.672721"
            ]
          },
          "metadata": {
            "tags": []
          },
          "execution_count": 25
        }
      ]
    }
  ]
}