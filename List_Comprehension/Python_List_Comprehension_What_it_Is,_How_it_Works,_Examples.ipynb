{
  "nbformat": 4,
  "nbformat_minor": 0,
  "metadata": {
    "colab": {
      "name": "Python List Comprehension: What it Is, How it Works, Examples.ipynb",
      "provenance": [],
      "authorship_tag": "ABX9TyM5qHnTUrrYev1s1MURM15K"
    },
    "kernelspec": {
      "name": "python3",
      "display_name": "Python 3"
    }
  },
  "cells": [
    {
      "cell_type": "markdown",
      "metadata": {
        "id": "d9VUKS8r49SY"
      },
      "source": [
        "[Reference](https://medium.com/pythonland/python-list-comprehension-what-it-is-how-it-works-and-examples-3069f12d36dd)"
      ]
    },
    {
      "cell_type": "code",
      "metadata": {
        "colab": {
          "base_uri": "https://localhost:8080/"
        },
        "id": "KnXF_VKS4fqX",
        "outputId": "86f47c24-9d42-4a72-d80e-4c7ad60add35"
      },
      "source": [
        "[x for x in range(1, 5)]"
      ],
      "execution_count": 1,
      "outputs": [
        {
          "output_type": "execute_result",
          "data": {
            "text/plain": [
              "[1, 2, 3, 4]"
            ]
          },
          "metadata": {
            "tags": []
          },
          "execution_count": 1
        }
      ]
    },
    {
      "cell_type": "code",
      "metadata": {
        "colab": {
          "base_uri": "https://localhost:8080/"
        },
        "id": "CmBtPZ5b5AUM",
        "outputId": "4f3d04ff-fe54-4560-ebf4-4de4b06ce38a"
      },
      "source": [
        "list(range(1,5))"
      ],
      "execution_count": 2,
      "outputs": [
        {
          "output_type": "execute_result",
          "data": {
            "text/plain": [
              "[1, 2, 3, 4]"
            ]
          },
          "metadata": {
            "tags": []
          },
          "execution_count": 2
        }
      ]
    },
    {
      "cell_type": "code",
      "metadata": {
        "colab": {
          "base_uri": "https://localhost:8080/"
        },
        "id": "3_0ptEif5Bxq",
        "outputId": "67074c15-7929-4493-d2f9-d9829ac63e38"
      },
      "source": [
        "[x for x in range(1,10) if x % 2 == 0]"
      ],
      "execution_count": 3,
      "outputs": [
        {
          "output_type": "execute_result",
          "data": {
            "text/plain": [
              "[2, 4, 6, 8]"
            ]
          },
          "metadata": {
            "tags": []
          },
          "execution_count": 3
        }
      ]
    },
    {
      "cell_type": "code",
      "metadata": {
        "colab": {
          "base_uri": "https://localhost:8080/"
        },
        "id": "lIXaZh0H5DjS",
        "outputId": "689d8824-0574-483e-b88c-a2816ca0fe21"
      },
      "source": [
        "[x + 4 for x in [10, 20]]"
      ],
      "execution_count": 4,
      "outputs": [
        {
          "output_type": "execute_result",
          "data": {
            "text/plain": [
              "[14, 24]"
            ]
          },
          "metadata": {
            "tags": []
          },
          "execution_count": 4
        }
      ]
    },
    {
      "cell_type": "code",
      "metadata": {
        "colab": {
          "base_uri": "https://localhost:8080/"
        },
        "id": "NHlhTqWC5FCV",
        "outputId": "f89d757d-6c93-40c2-cfcf-82c11310dd53"
      },
      "source": [
        "def some_function(a):\n",
        "    return (a + 5) / 2\n",
        "    \n",
        "m = [some_function(i) for i in range(8)]\n",
        "print(m)"
      ],
      "execution_count": 5,
      "outputs": [
        {
          "output_type": "stream",
          "text": [
            "[2.5, 3.0, 3.5, 4.0, 4.5, 5.0, 5.5, 6.0]\n"
          ],
          "name": "stdout"
        }
      ]
    },
    {
      "cell_type": "code",
      "metadata": {
        "colab": {
          "base_uri": "https://localhost:8080/"
        },
        "id": "jOH9i_cX5G0y",
        "outputId": "6f45d6e9-046f-46d6-906d-d1972c2fa2a8"
      },
      "source": [
        "[[j for j in range(3)] for i in range(4)]"
      ],
      "execution_count": 6,
      "outputs": [
        {
          "output_type": "execute_result",
          "data": {
            "text/plain": [
              "[[0, 1, 2], [0, 1, 2], [0, 1, 2], [0, 1, 2]]"
            ]
          },
          "metadata": {
            "tags": []
          },
          "execution_count": 6
        }
      ]
    },
    {
      "cell_type": "code",
      "metadata": {
        "id": "BpnBWl7g5In4"
      },
      "source": [
        "[value for sublist in [m for value in sublist]]"
      ],
      "execution_count": 8,
      "outputs": []
    },
    {
      "cell_type": "code",
      "metadata": {
        "colab": {
          "base_uri": "https://localhost:8080/"
        },
        "id": "jWfmYsF25Mjw",
        "outputId": "ae72af0f-e1db-4b8e-9394-f48c0800c0a3"
      },
      "source": [
        "{s for s in range(1,5) if s % 2}"
      ],
      "execution_count": 9,
      "outputs": [
        {
          "output_type": "execute_result",
          "data": {
            "text/plain": [
              "{1, 3}"
            ]
          },
          "metadata": {
            "tags": []
          },
          "execution_count": 9
        }
      ]
    },
    {
      "cell_type": "code",
      "metadata": {
        "colab": {
          "base_uri": "https://localhost:8080/"
        },
        "id": "7ecZx2zi5QO9",
        "outputId": "98fb5513-af18-44b3-c6cf-7dc6d69a716d"
      },
      "source": [
        "{x: x**2 for x in (2, 4, 6)}"
      ],
      "execution_count": 10,
      "outputs": [
        {
          "output_type": "execute_result",
          "data": {
            "text/plain": [
              "{2: 4, 4: 16, 6: 36}"
            ]
          },
          "metadata": {
            "tags": []
          },
          "execution_count": 10
        }
      ]
    }
  ]
}