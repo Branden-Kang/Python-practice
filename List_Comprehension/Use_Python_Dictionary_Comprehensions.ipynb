{
  "nbformat": 4,
  "nbformat_minor": 0,
  "metadata": {
    "colab": {
      "name": "Use Python Dictionary Comprehensions.ipynb",
      "provenance": [],
      "authorship_tag": "ABX9TyOMOylCZTDbR9skDiD5itcj"
    },
    "kernelspec": {
      "name": "python3",
      "display_name": "Python 3"
    }
  },
  "cells": [
    {
      "cell_type": "markdown",
      "metadata": {
        "id": "QQNiSg2ceGf_"
      },
      "source": [
        "[Reference](https://medium.com/better-programming/how-to-use-python-dictionary-comprehensions-af5cc5c75bba)"
      ]
    },
    {
      "cell_type": "code",
      "metadata": {
        "colab": {
          "base_uri": "https://localhost:8080/"
        },
        "id": "AL7KC-M2eDj-",
        "outputId": "bd1fb8ac-b192-4925-b36c-1d07bd5cfb85"
      },
      "source": [
        "my_nums = {\n",
        "   i: i\n",
        "   for i in range(1,6)\n",
        "}\n",
        "\n",
        "print(my_nums)"
      ],
      "execution_count": 1,
      "outputs": [
        {
          "output_type": "stream",
          "text": [
            "{1: 1, 2: 2, 3: 3, 4: 4, 5: 5}\n"
          ],
          "name": "stdout"
        }
      ]
    },
    {
      "cell_type": "code",
      "metadata": {
        "colab": {
          "base_uri": "https://localhost:8080/"
        },
        "id": "EicDrHe5eK0j",
        "outputId": "01b2a2e7-89c2-4791-966c-ad4125d1bd27"
      },
      "source": [
        "my_nums = {\n",
        "   str(i): i\n",
        "   for i in range(1,6)\n",
        "   if i % 2 == 1\n",
        "}\n",
        "print(my_nums)"
      ],
      "execution_count": 2,
      "outputs": [
        {
          "output_type": "stream",
          "text": [
            "{'1': 1, '3': 3, '5': 5}\n"
          ],
          "name": "stdout"
        }
      ]
    },
    {
      "cell_type": "code",
      "metadata": {
        "colab": {
          "base_uri": "https://localhost:8080/"
        },
        "id": "lo3OKMkKeMJ6",
        "outputId": "cc5a7a1f-235c-424b-fe15-3c11d47d892a"
      },
      "source": [
        "data = {\n",
        "  \"id\": 1,\n",
        "  \"first_name\": \"Branden\",\n",
        "  \"middle_name\": None,\n",
        "  \"last_name\": \"Kang\"\n",
        "}\n",
        "\n",
        "cleaned = {\n",
        "  k:v\n",
        "  for (k,v) in data.items()\n",
        "  if v != None\n",
        "}\n",
        "cleaned"
      ],
      "execution_count": 4,
      "outputs": [
        {
          "output_type": "execute_result",
          "data": {
            "text/plain": [
              "{'first_name': 'Jonathan', 'id': 1, 'last_name': 'Hsu'}"
            ]
          },
          "metadata": {
            "tags": []
          },
          "execution_count": 4
        }
      ]
    },
    {
      "cell_type": "code",
      "metadata": {
        "colab": {
          "base_uri": "https://localhost:8080/"
        },
        "id": "ATJ3x0lMeQOA",
        "outputId": "c1c3163a-332b-4335-c192-113b52949422"
      },
      "source": [
        "data = {\n",
        "  \"first_name\": \"Branden\",\n",
        "  \"last_name\": \"Kang\"\n",
        "}\n",
        "mapped = {\n",
        "  k: v.upper()\n",
        "  for (k,v) in data.items()\n",
        "}\n",
        "mapped"
      ],
      "execution_count": 5,
      "outputs": [
        {
          "output_type": "execute_result",
          "data": {
            "text/plain": [
              "{'first_name': 'BRANDEN', 'last_name': 'KANG'}"
            ]
          },
          "metadata": {
            "tags": []
          },
          "execution_count": 5
        }
      ]
    }
  ]
}