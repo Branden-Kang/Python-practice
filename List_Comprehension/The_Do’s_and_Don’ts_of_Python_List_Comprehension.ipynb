{
  "nbformat": 4,
  "nbformat_minor": 0,
  "metadata": {
    "colab": {
      "name": "The Do’s and Don’ts of Python List Comprehension.ipynb",
      "provenance": [],
      "authorship_tag": "ABX9TyOW2i0+uZxNY70ZuTbgRth1"
    },
    "kernelspec": {
      "name": "python3",
      "display_name": "Python 3"
    }
  },
  "cells": [
    {
      "cell_type": "markdown",
      "metadata": {
        "id": "P769FlQQ-XjW"
      },
      "source": [
        "[Reference](https://medium.com/better-programming/the-dos-and-don-ts-of-python-list-comprehension-5cd0f5d18500)"
      ]
    },
    {
      "cell_type": "code",
      "metadata": {
        "colab": {
          "base_uri": "https://localhost:8080/"
        },
        "id": "vz6A_kBo-T59",
        "outputId": "37644297-e4f0-4846-b559-b71e54d0ccfc"
      },
      "source": [
        "# A list of integers\n",
        "integers = [1, 2, 3, 4, 5, 6]\n",
        "# Create a list of squares and cubes\n",
        "powers = [(x*x, pow(x, 3)) for x in integers]\n",
        "print(powers)"
      ],
      "execution_count": 1,
      "outputs": [
        {
          "output_type": "stream",
          "text": [
            "[(1, 1), (4, 8), (9, 27), (16, 64), (25, 125), (36, 216)]\n"
          ],
          "name": "stdout"
        }
      ]
    },
    {
      "cell_type": "code",
      "metadata": {
        "colab": {
          "base_uri": "https://localhost:8080/"
        },
        "id": "3DuXtsO5-jPt",
        "outputId": "73ea16c5-021a-4d4e-a616-ca87ebfb7b37"
      },
      "source": [
        "# Use the range object\n",
        "integer_range = range(5)\n",
        "[x*x for x in integer_range]\n",
        "# Use the Series object\n",
        "import pandas as pd\n",
        "pd_series = pd.Series(range(5))\n",
        "print(pd_series)\n",
        "[x*x for x in pd_series]"
      ],
      "execution_count": 2,
      "outputs": [
        {
          "output_type": "stream",
          "text": [
            "0    0\n",
            "1    1\n",
            "2    2\n",
            "3    3\n",
            "4    4\n",
            "dtype: int64\n"
          ],
          "name": "stdout"
        },
        {
          "output_type": "execute_result",
          "data": {
            "text/plain": [
              "[0, 1, 4, 9, 16]"
            ]
          },
          "metadata": {
            "tags": []
          },
          "execution_count": 2
        }
      ]
    },
    {
      "cell_type": "code",
      "metadata": {
        "colab": {
          "base_uri": "https://localhost:8080/"
        },
        "id": "wHaTx2jg-rPn",
        "outputId": "f58526f9-2a79-44c7-905a-267f6e9f896d"
      },
      "source": [
        "# The same list of integers\n",
        "integers = [1, 2, 3, 4, 5, 6]\n",
        "# Create a list of squares for even numbers only\n",
        "squares_of_evens = [x*x for x in integers if x % 2 == 0]\n",
        "print((squares_of_evens))"
      ],
      "execution_count": 3,
      "outputs": [
        {
          "output_type": "stream",
          "text": [
            "[4, 16, 36]\n"
          ],
          "name": "stdout"
        }
      ]
    },
    {
      "cell_type": "code",
      "metadata": {
        "colab": {
          "base_uri": "https://localhost:8080/"
        },
        "id": "joXWksQO-waX",
        "outputId": "7d8a82d7-aae1-4a38-d26b-f9a2e886dbd1"
      },
      "source": [
        "# The list of integers\n",
        "integers = [1, 2, 3, 4, 5, 6]\n",
        "# Create a list of numbers, when the item is even, take the square\n",
        "# when the item is odd, take the cube\n",
        "custom_powers = [x*x if x % 2 == 0 else pow(x, 3) for x in integers]\n",
        "print(custom_powers)"
      ],
      "execution_count": 4,
      "outputs": [
        {
          "output_type": "stream",
          "text": [
            "[1, 4, 27, 16, 125, 36]\n"
          ],
          "name": "stdout"
        }
      ]
    },
    {
      "cell_type": "code",
      "metadata": {
        "colab": {
          "base_uri": "https://localhost:8080/"
        },
        "id": "dA8MbFC8-0LE",
        "outputId": "1102d1bf-d6de-4fee-d109-1ba44f71fe7b"
      },
      "source": [
        "# A list of tuples\n",
        "prices = [('$5.99', '$4.99'), ('$3.5', '$4.5')]\n",
        "# Flattened list of prices\n",
        "prices_formatted = [float(x[1:]) for price_group in prices for x in price_group]\n",
        "print(prices_formatted)"
      ],
      "execution_count": 5,
      "outputs": [
        {
          "output_type": "stream",
          "text": [
            "[5.99, 4.99, 3.5, 4.5]\n"
          ],
          "name": "stdout"
        }
      ]
    },
    {
      "cell_type": "code",
      "metadata": {
        "colab": {
          "base_uri": "https://localhost:8080/"
        },
        "id": "drnZQ2UU_KkE",
        "outputId": "04c9168f-c1a8-4554-f921-39336e9ffa9f"
      },
      "source": [
        "# A list of integers\n",
        "integers = [1, 2, 3, 4, 5]\n",
        "# Use map\n",
        "squares_mapped = list(map(lambda x: x*x, integers))\n",
        "squares_mapped\n",
        "# Use list comprehension\n",
        "squares_listcomp = [x*x for x in integers]\n",
        "squares_listcomp\n",
        "# Use filter\n",
        "filtered_filter = list(filter(lambda x: x % 2 == 0, integers))\n",
        "filtered_filter\n",
        "# Use list comprehension\n",
        "filterd_listcomp = [x for x in integers if x % 2 == 0]\n",
        "filterd_listcomp"
      ],
      "execution_count": 6,
      "outputs": [
        {
          "output_type": "execute_result",
          "data": {
            "text/plain": [
              "[2, 4]"
            ]
          },
          "metadata": {
            "tags": []
          },
          "execution_count": 6
        }
      ]
    },
    {
      "cell_type": "code",
      "metadata": {
        "colab": {
          "base_uri": "https://localhost:8080/"
        },
        "id": "hLAnIOLx_P-M",
        "outputId": "707db42b-87c4-446e-d9eb-93d2c973bd5d"
      },
      "source": [
        "# Create a list from a range object\n",
        "numbers = [x for x in range(5)]\n",
        "print(numbers)\n",
        "# Create a list of lower-case characters from a string\n",
        "letters = [x.lower() for x in 'Smith']\n",
        "print(letters)"
      ],
      "execution_count": 7,
      "outputs": [
        {
          "output_type": "stream",
          "text": [
            "[0, 1, 2, 3, 4]\n",
            "['s', 'm', 'i', 't', 'h']\n"
          ],
          "name": "stdout"
        }
      ]
    },
    {
      "cell_type": "code",
      "metadata": {
        "colab": {
          "base_uri": "https://localhost:8080/"
        },
        "id": "PiPWzuJp_aZn",
        "outputId": "0bc0e31e-7e3a-4b22-8fd6-02c06ee3a723"
      },
      "source": [
        "# Create a list from a range object\n",
        "numbers = list(range(5))\n",
        "print(numbers)\n",
        "# Create a list of lower-case characters from a string\n",
        "letters = list('Smith'.lower())\n",
        "print(letters)"
      ],
      "execution_count": 8,
      "outputs": [
        {
          "output_type": "stream",
          "text": [
            "[0, 1, 2, 3, 4]\n",
            "['s', 'm', 'i', 't', 'h']\n"
          ],
          "name": "stdout"
        }
      ]
    },
    {
      "cell_type": "code",
      "metadata": {
        "colab": {
          "base_uri": "https://localhost:8080/"
        },
        "id": "0hAe3up0_eVe",
        "outputId": "31faaf1c-b5be-40df-e3ce-3e1e96b46f19"
      },
      "source": [
        "# Create the squares\n",
        "squares = [x*x for x in range(10_000_000)]\n",
        "# Calculate their sum\n",
        "print(sum(squares))\n",
        "print(squares.__sizeof__())"
      ],
      "execution_count": 10,
      "outputs": [
        {
          "output_type": "stream",
          "text": [
            "333333283333335000000\n",
            "81528032\n"
          ],
          "name": "stdout"
        }
      ]
    },
    {
      "cell_type": "code",
      "metadata": {
        "colab": {
          "base_uri": "https://localhost:8080/"
        },
        "id": "ODX8dsxm_mPB",
        "outputId": "0d69448a-1367-4461-ce84-1b40a1de1e56"
      },
      "source": [
        "# Create the squares generator\n",
        "squares_gen = (x*x for x in range(10_000_000))\n",
        "# Calculate their sum\n",
        "print(sum(squares_gen))\n",
        "print(squares_gen.__sizeof__())"
      ],
      "execution_count": 11,
      "outputs": [
        {
          "output_type": "stream",
          "text": [
            "333333283333335000000\n",
            "64\n"
          ],
          "name": "stdout"
        }
      ]
    }
  ]
}