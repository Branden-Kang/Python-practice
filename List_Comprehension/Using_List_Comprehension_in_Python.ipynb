{
  "nbformat": 4,
  "nbformat_minor": 0,
  "metadata": {
    "colab": {
      "name": "Using List Comprehension in Python.ipynb",
      "provenance": [],
      "authorship_tag": "ABX9TyNeoa5iGJ/cja9GSfQ7m9Bv"
    },
    "kernelspec": {
      "name": "python3",
      "display_name": "Python 3"
    },
    "language_info": {
      "name": "python"
    }
  },
  "cells": [
    {
      "cell_type": "markdown",
      "metadata": {
        "id": "xZFNEM23NZ33"
      },
      "source": [
        "[Reference](https://python.plainenglish.io/list-comprehension-4af0c767cfe)"
      ]
    },
    {
      "cell_type": "code",
      "metadata": {
        "colab": {
          "base_uri": "https://localhost:8080/"
        },
        "id": "AJS8wahMLKrd",
        "outputId": "e12ed8af-e55f-4ec0-e141-fc77e5cd76e3"
      },
      "source": [
        "x=[]\n",
        "for i in range (10):\n",
        "    x.append(i)\n",
        "print(x)"
      ],
      "execution_count": null,
      "outputs": [
        {
          "output_type": "stream",
          "text": [
            "[0, 1, 2, 3, 4, 5, 6, 7, 8, 9]\n"
          ],
          "name": "stdout"
        }
      ]
    },
    {
      "cell_type": "code",
      "metadata": {
        "id": "wRsaOaBwNdtc",
        "colab": {
          "base_uri": "https://localhost:8080/"
        },
        "outputId": "c4c9c46a-5012-4cf5-87aa-ebae3280396f"
      },
      "source": [
        "x=[i for i in range(10)]\n",
        "print(x)"
      ],
      "execution_count": null,
      "outputs": [
        {
          "output_type": "stream",
          "text": [
            "[0, 1, 2, 3, 4, 5, 6, 7, 8, 9]\n"
          ],
          "name": "stdout"
        }
      ]
    },
    {
      "cell_type": "code",
      "metadata": {
        "id": "-u4St1wYNfJR",
        "colab": {
          "base_uri": "https://localhost:8080/"
        },
        "outputId": "3598750c-ac42-4308-fa27-cfc0574bd335"
      },
      "source": [
        "a = [1,2,3,4,5,6]\n",
        "x = [i**2 for i in a]\n",
        "print (x)"
      ],
      "execution_count": null,
      "outputs": [
        {
          "output_type": "stream",
          "text": [
            "[1, 4, 9, 16, 25, 36]\n"
          ],
          "name": "stdout"
        }
      ]
    },
    {
      "cell_type": "code",
      "metadata": {
        "id": "7AKA5luUNggs",
        "colab": {
          "base_uri": "https://localhost:8080/"
        },
        "outputId": "610ca8c6-83cf-4165-a302-d916283b51dd"
      },
      "source": [
        "a = [i for i in range (50) if (i%2==0)]\n",
        "print(a)"
      ],
      "execution_count": null,
      "outputs": [
        {
          "output_type": "stream",
          "text": [
            "[0, 2, 4, 6, 8, 10, 12, 14, 16, 18, 20, 22, 24, 26, 28, 30, 32, 34, 36, 38, 40, 42, 44, 46, 48]\n"
          ],
          "name": "stdout"
        }
      ]
    },
    {
      "cell_type": "code",
      "metadata": {
        "id": "rXofuiygNhhQ",
        "colab": {
          "base_uri": "https://localhost:8080/"
        },
        "outputId": "aa05a652-db62-458a-ec08-8547575d6ea8"
      },
      "source": [
        "l = [22, 65, 78, 8, 53, 21, 49 ,71, 22, 12, 14]\n",
        "x = ['even' if (i%2==0) else 'odd' for i in l ]    \n",
        "print(x)"
      ],
      "execution_count": null,
      "outputs": [
        {
          "output_type": "stream",
          "text": [
            "['even', 'odd', 'even', 'even', 'odd', 'odd', 'odd', 'odd', 'even', 'even', 'even']\n"
          ],
          "name": "stdout"
        }
      ]
    },
    {
      "cell_type": "code",
      "metadata": {
        "id": "lPVh7hHoNi6P",
        "colab": {
          "base_uri": "https://localhost:8080/"
        },
        "outputId": "2be82574-b6d5-4b01-d90b-83391a59f14c"
      },
      "source": [
        "x = [1,2,3,4,5,4,3,2,1]\n",
        "y = [\"Good\" if i>=4 else \"Neutral\" if i==3 else \"Bad\" for i in x]\n",
        "print(y)"
      ],
      "execution_count": null,
      "outputs": [
        {
          "output_type": "stream",
          "text": [
            "['Bad', 'Bad', 'Neutral', 'Good', 'Good', 'Good', 'Neutral', 'Bad', 'Bad']\n"
          ],
          "name": "stdout"
        }
      ]
    }
  ]
}