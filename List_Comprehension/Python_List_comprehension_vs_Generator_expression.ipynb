{
  "nbformat": 4,
  "nbformat_minor": 0,
  "metadata": {
    "colab": {
      "name": "Python: List comprehension vs Generator expression.ipynb",
      "provenance": [],
      "authorship_tag": "ABX9TyNdOenqcL7T/w8la13gWsdT"
    },
    "kernelspec": {
      "name": "python3",
      "display_name": "Python 3"
    },
    "language_info": {
      "name": "python"
    }
  },
  "cells": [
    {
      "cell_type": "markdown",
      "metadata": {
        "id": "--g4R9pD7otl"
      },
      "source": [
        "[Reference](https://medium.com/dsc-ghrce/python-list-comprehension-vs-generator-expression-db1a66dc7e69)"
      ]
    },
    {
      "cell_type": "code",
      "metadata": {
        "colab": {
          "base_uri": "https://localhost:8080/"
        },
        "id": "qEQ7bbif7bVA",
        "outputId": "80c2296c-7b8b-4a7e-9ad0-842219502891"
      },
      "source": [
        "names = [\"vidhanshu\",\"vidit\",\"sobhan\",\"laksh\"]\n",
        "empty = []\n",
        "for name in names:\n",
        "    if name[0] == 'v':\n",
        "        empty.append(name)\n",
        "print(empty)"
      ],
      "execution_count": 1,
      "outputs": [
        {
          "output_type": "stream",
          "name": "stdout",
          "text": [
            "['vidhanshu', 'vidit']\n"
          ]
        }
      ]
    },
    {
      "cell_type": "code",
      "metadata": {
        "colab": {
          "base_uri": "https://localhost:8080/"
        },
        "id": "2jQ9oidc7sA2",
        "outputId": "a721e650-f3c7-4e99-d69f-49c8ce899cf1"
      },
      "source": [
        "names = [\"vidhanshu\",\"vidit\",\"sobhan\",\"laksh\"]\n",
        "[name for name in names if name[0] == 'v']"
      ],
      "execution_count": 2,
      "outputs": [
        {
          "output_type": "execute_result",
          "data": {
            "text/plain": [
              "['vidhanshu', 'vidit']"
            ]
          },
          "metadata": {},
          "execution_count": 2
        }
      ]
    },
    {
      "cell_type": "code",
      "metadata": {
        "colab": {
          "base_uri": "https://localhost:8080/"
        },
        "id": "cd1wfHsv7s-U",
        "outputId": "a76af33e-0275-47a7-b498-55084f44774d"
      },
      "source": [
        "eemp = []\n",
        "for num in range(10):\n",
        "    if num < 6:\n",
        "        eemp.append(num)\n",
        "print(eemp)"
      ],
      "execution_count": 3,
      "outputs": [
        {
          "output_type": "stream",
          "name": "stdout",
          "text": [
            "[0, 1, 2, 3, 4, 5]\n"
          ]
        }
      ]
    },
    {
      "cell_type": "code",
      "metadata": {
        "colab": {
          "base_uri": "https://localhost:8080/"
        },
        "id": "NH9UfYBx7t2x",
        "outputId": "e8ecb541-bafc-4eaf-9fce-81ea78f4c6a6"
      },
      "source": [
        "eemp = [num for num in range(10) if num <6]\n",
        "print(eemp)"
      ],
      "execution_count": 4,
      "outputs": [
        {
          "output_type": "stream",
          "name": "stdout",
          "text": [
            "[0, 1, 2, 3, 4, 5]\n"
          ]
        }
      ]
    },
    {
      "cell_type": "code",
      "metadata": {
        "colab": {
          "base_uri": "https://localhost:8080/"
        },
        "id": "TQMLBUe87u48",
        "outputId": "27249ead-6243-4a43-d8b4-c1259619ef5d"
      },
      "source": [
        "emp = [num < 6 for num in range(10)]\n",
        "print(emp)"
      ],
      "execution_count": 5,
      "outputs": [
        {
          "output_type": "stream",
          "name": "stdout",
          "text": [
            "[True, True, True, True, True, True, False, False, False, False]\n"
          ]
        }
      ]
    },
    {
      "cell_type": "code",
      "metadata": {
        "colab": {
          "base_uri": "https://localhost:8080/"
        },
        "id": "IApiOW447vtN",
        "outputId": "97fa0ac4-b07b-49a1-c81d-360c25262277"
      },
      "source": [
        "all([num for num in [0,1,2,3]])"
      ],
      "execution_count": 6,
      "outputs": [
        {
          "output_type": "execute_result",
          "data": {
            "text/plain": [
              "False"
            ]
          },
          "metadata": {},
          "execution_count": 6
        }
      ]
    },
    {
      "cell_type": "code",
      "metadata": {
        "colab": {
          "base_uri": "https://localhost:8080/"
        },
        "id": "EbnsW_XC7xPe",
        "outputId": "31d8b2c6-34fd-4375-f463-ed69c265b351"
      },
      "source": [
        "all([])"
      ],
      "execution_count": 7,
      "outputs": [
        {
          "output_type": "execute_result",
          "data": {
            "text/plain": [
              "True"
            ]
          },
          "metadata": {},
          "execution_count": 7
        }
      ]
    },
    {
      "cell_type": "code",
      "metadata": {
        "colab": {
          "base_uri": "https://localhost:8080/"
        },
        "id": "WwyCwPF67ylS",
        "outputId": "3e260137-d0ee-4f33-b9ef-4cae492edf73"
      },
      "source": [
        "all([num < 6 for num in range(6)])"
      ],
      "execution_count": 8,
      "outputs": [
        {
          "output_type": "execute_result",
          "data": {
            "text/plain": [
              "True"
            ]
          },
          "metadata": {},
          "execution_count": 8
        }
      ]
    },
    {
      "cell_type": "code",
      "metadata": {
        "colab": {
          "base_uri": "https://localhost:8080/"
        },
        "id": "wPHO9Mro7zyA",
        "outputId": "d278436b-0c7f-4d56-bae3-e4db1dd09423"
      },
      "source": [
        "all([num < 6 for num in range(10)])"
      ],
      "execution_count": 9,
      "outputs": [
        {
          "output_type": "execute_result",
          "data": {
            "text/plain": [
              "False"
            ]
          },
          "metadata": {},
          "execution_count": 9
        }
      ]
    },
    {
      "cell_type": "code",
      "metadata": {
        "colab": {
          "base_uri": "https://localhost:8080/"
        },
        "id": "qg-vQZU571NJ",
        "outputId": "570000d7-c485-490e-8bda-9db5425a0230"
      },
      "source": [
        "any([num for num in [0,1,2,3]])"
      ],
      "execution_count": 10,
      "outputs": [
        {
          "output_type": "execute_result",
          "data": {
            "text/plain": [
              "True"
            ]
          },
          "metadata": {},
          "execution_count": 10
        }
      ]
    },
    {
      "cell_type": "code",
      "metadata": {
        "colab": {
          "base_uri": "https://localhost:8080/"
        },
        "id": "Qboh5g2172Xm",
        "outputId": "424d9976-c693-4ca8-a115-6647be924064"
      },
      "source": [
        "any([])"
      ],
      "execution_count": 11,
      "outputs": [
        {
          "output_type": "execute_result",
          "data": {
            "text/plain": [
              "False"
            ]
          },
          "metadata": {},
          "execution_count": 11
        }
      ]
    },
    {
      "cell_type": "code",
      "metadata": {
        "colab": {
          "base_uri": "https://localhost:8080/"
        },
        "id": "EVP7f8Vh73UC",
        "outputId": "2794579c-1940-44b8-a8d7-bab7ca801b94"
      },
      "source": [
        "any([num < 6 for num in range(10)])"
      ],
      "execution_count": 12,
      "outputs": [
        {
          "output_type": "execute_result",
          "data": {
            "text/plain": [
              "True"
            ]
          },
          "metadata": {},
          "execution_count": 12
        }
      ]
    },
    {
      "cell_type": "code",
      "metadata": {
        "colab": {
          "base_uri": "https://localhost:8080/"
        },
        "id": "hoMlxUGj74fh",
        "outputId": "a690b4c8-1f76-4d7a-d0d9-540b4af42877"
      },
      "source": [
        "any([num % 2 == 0 for num in [10,2,16,18,21]])"
      ],
      "execution_count": 13,
      "outputs": [
        {
          "output_type": "execute_result",
          "data": {
            "text/plain": [
              "True"
            ]
          },
          "metadata": {},
          "execution_count": 13
        }
      ]
    },
    {
      "cell_type": "code",
      "metadata": {
        "colab": {
          "base_uri": "https://localhost:8080/"
        },
        "id": "_O9gUbjb754j",
        "outputId": "53ffde06-8784-412e-e342-b4ebe2330b21"
      },
      "source": [
        "any([num % 2 == 1 for num in [10,2,16,18,21]])"
      ],
      "execution_count": 14,
      "outputs": [
        {
          "output_type": "execute_result",
          "data": {
            "text/plain": [
              "True"
            ]
          },
          "metadata": {},
          "execution_count": 14
        }
      ]
    },
    {
      "cell_type": "code",
      "metadata": {
        "colab": {
          "base_uri": "https://localhost:8080/"
        },
        "id": "TNtnglX177qI",
        "outputId": "6e33cd4b-fe2b-4f65-abd1-2d7466033d93"
      },
      "source": [
        "any([num % 2 == 2 for num in [10,2,16,18,21]])"
      ],
      "execution_count": 15,
      "outputs": [
        {
          "output_type": "execute_result",
          "data": {
            "text/plain": [
              "False"
            ]
          },
          "metadata": {},
          "execution_count": 15
        }
      ]
    },
    {
      "cell_type": "code",
      "metadata": {
        "colab": {
          "base_uri": "https://localhost:8080/"
        },
        "id": "UmlMxosY79c9",
        "outputId": "1ab4dfcf-83ec-451f-b28a-1eca9e2b67f7"
      },
      "source": [
        "any(num % 2 == 1 for num in [10,2,16,18,21])"
      ],
      "execution_count": 16,
      "outputs": [
        {
          "output_type": "execute_result",
          "data": {
            "text/plain": [
              "True"
            ]
          },
          "metadata": {},
          "execution_count": 16
        }
      ]
    },
    {
      "cell_type": "code",
      "metadata": {
        "colab": {
          "base_uri": "https://localhost:8080/"
        },
        "id": "MSvjq9337-jz",
        "outputId": "9d9b956e-1c5f-44e2-ab7a-cd661ade260a"
      },
      "source": [
        "any(num % 2 == 2 for num in [10,2,16,18,21])"
      ],
      "execution_count": 17,
      "outputs": [
        {
          "output_type": "execute_result",
          "data": {
            "text/plain": [
              "False"
            ]
          },
          "metadata": {},
          "execution_count": 17
        }
      ]
    },
    {
      "cell_type": "code",
      "metadata": {
        "colab": {
          "base_uri": "https://localhost:8080/"
        },
        "id": "Ba0nGeXM8AAL",
        "outputId": "3870ecf8-e7b2-46e6-e109-7fd0840a43c3"
      },
      "source": [
        "all(num < 6 for num in range(10))"
      ],
      "execution_count": 18,
      "outputs": [
        {
          "output_type": "execute_result",
          "data": {
            "text/plain": [
              "False"
            ]
          },
          "metadata": {},
          "execution_count": 18
        }
      ]
    },
    {
      "cell_type": "code",
      "metadata": {
        "colab": {
          "base_uri": "https://localhost:8080/"
        },
        "id": "uSYuHz0c8Bxw",
        "outputId": "7c4f82ae-f915-4946-d8d9-de0b67f1c28c"
      },
      "source": [
        "names = [\"vidhanshu\",\"vidit\",\"sobhan\",\"laksh\"]\n",
        "all(name[0] == 'v' for name in names)"
      ],
      "execution_count": 19,
      "outputs": [
        {
          "output_type": "execute_result",
          "data": {
            "text/plain": [
              "False"
            ]
          },
          "metadata": {},
          "execution_count": 19
        }
      ]
    },
    {
      "cell_type": "code",
      "metadata": {
        "colab": {
          "base_uri": "https://localhost:8080/"
        },
        "id": "xp5vW6bk8Crl",
        "outputId": "4a49253c-c053-475d-fd15-76b27fc24579"
      },
      "source": [
        "names = [\"vidhanshu\",\"vidit\",\"sobhan\",\"laksh\"]\n",
        "(name[0] == 'v' for name in names)"
      ],
      "execution_count": 20,
      "outputs": [
        {
          "output_type": "execute_result",
          "data": {
            "text/plain": [
              "<generator object <genexpr> at 0x7f4b296a96d0>"
            ]
          },
          "metadata": {},
          "execution_count": 20
        }
      ]
    },
    {
      "cell_type": "code",
      "metadata": {
        "colab": {
          "base_uri": "https://localhost:8080/"
        },
        "id": "f37o9qPb8EH2",
        "outputId": "dacc1855-a177-481d-b136-1d4644a6177c"
      },
      "source": [
        "generator = (num ** 3 for num in range(5))\n",
        "for num in generator:\n",
        "    print (num)"
      ],
      "execution_count": 21,
      "outputs": [
        {
          "output_type": "stream",
          "name": "stdout",
          "text": [
            "0\n",
            "1\n",
            "8\n",
            "27\n",
            "64\n"
          ]
        }
      ]
    },
    {
      "cell_type": "code",
      "metadata": {
        "colab": {
          "base_uri": "https://localhost:8080/"
        },
        "id": "hj1DC28x8FX8",
        "outputId": "1dd0f95c-aae6-41c1-d428-f4ac8bef6d4b"
      },
      "source": [
        "generator = ([num ** 3 for num in range(5)])\n",
        "print(generator)"
      ],
      "execution_count": 22,
      "outputs": [
        {
          "output_type": "stream",
          "name": "stdout",
          "text": [
            "[0, 1, 8, 27, 64]\n"
          ]
        }
      ]
    },
    {
      "cell_type": "code",
      "metadata": {
        "colab": {
          "base_uri": "https://localhost:8080/"
        },
        "id": "wIWNzAVG8G0G",
        "outputId": "f59db7b3-3399-467b-9fd7-7f0185bdd641"
      },
      "source": [
        "generator = (num ** 3 for num in range(5))\n",
        "print(list(generator))"
      ],
      "execution_count": 23,
      "outputs": [
        {
          "output_type": "stream",
          "name": "stdout",
          "text": [
            "[0, 1, 8, 27, 64]\n"
          ]
        }
      ]
    },
    {
      "cell_type": "code",
      "metadata": {
        "id": "5KI7VBFw8d-I"
      },
      "source": [
        "import sys"
      ],
      "execution_count": 26,
      "outputs": []
    },
    {
      "cell_type": "code",
      "metadata": {
        "colab": {
          "base_uri": "https://localhost:8080/"
        },
        "id": "oB6MqIy28Htt",
        "outputId": "49eb85b8-06f7-4b17-9d0d-616b004b737a"
      },
      "source": [
        "%timeit listcomp = sys.getsizeof([x*10 for x in range(500)])\n",
        "%timeit generatorexp = sys.getsizeof(x*10 for x in range(500))\n",
        "import sys\n",
        "listcomp = sys.getsizeof([x*10 for x in range(500)])\n",
        "generatorexp = sys.getsizeof(x*10 for x in range(500))\n",
        "print(f\"List comprehension takes {listcomp} bytes\")\n",
        "print(f\"Generator expression takes {generatorexp} bytes\")"
      ],
      "execution_count": 27,
      "outputs": [
        {
          "output_type": "stream",
          "name": "stdout",
          "text": [
            "10000 loops, best of 5: 36.8 µs per loop\n",
            "The slowest run took 6.76 times longer than the fastest. This could mean that an intermediate result is being cached.\n",
            "1000000 loops, best of 5: 815 ns per loop\n",
            "List comprehension takes 4280 bytes\n",
            "Generator expression takes 128 bytes\n"
          ]
        }
      ]
    }
  ]
}