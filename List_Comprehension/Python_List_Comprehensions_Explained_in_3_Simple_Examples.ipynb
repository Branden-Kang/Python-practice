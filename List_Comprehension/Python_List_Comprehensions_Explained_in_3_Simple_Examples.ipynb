{
  "nbformat": 4,
  "nbformat_minor": 0,
  "metadata": {
    "colab": {
      "provenance": [],
      "authorship_tag": "ABX9TyOTnxEOabNHlsN3ofqDVyVG"
    },
    "kernelspec": {
      "name": "python3",
      "display_name": "Python 3"
    },
    "language_info": {
      "name": "python"
    }
  },
  "cells": [
    {
      "cell_type": "markdown",
      "source": [
        "[Reference](https://medium.com/@pythonshield/python-list-comprehensions-explained-in-3-simple-examples-8eeb0eeef562)"
      ],
      "metadata": {
        "id": "vuYX1bX2JSqR"
      }
    },
    {
      "cell_type": "markdown",
      "source": [
        "# Basic Example"
      ],
      "metadata": {
        "id": "Oz2xftOPMTsP"
      }
    },
    {
      "cell_type": "code",
      "execution_count": 1,
      "metadata": {
        "id": "oXrYtb5OJNpm"
      },
      "outputs": [],
      "source": [
        "squares = []\n",
        "for num in range(1, 11):\n",
        "    squares.append(num ** 2)"
      ]
    },
    {
      "cell_type": "code",
      "source": [
        "squares = [num ** 2 for num in range(1, 11)]\n",
        "print(squares)"
      ],
      "metadata": {
        "colab": {
          "base_uri": "https://localhost:8080/"
        },
        "id": "EjvkFYteJYFD",
        "outputId": "f5785d2b-5333-4164-dc7f-7c7256e65b65"
      },
      "execution_count": 2,
      "outputs": [
        {
          "output_type": "stream",
          "name": "stdout",
          "text": [
            "[1, 4, 9, 16, 25, 36, 49, 64, 81, 100]\n"
          ]
        }
      ]
    },
    {
      "cell_type": "code",
      "source": [
        "evens = [num for num in range(1, 11) if num % 2 == 0]\n",
        "print(evens)"
      ],
      "metadata": {
        "colab": {
          "base_uri": "https://localhost:8080/"
        },
        "id": "bRd8iW-pJYz3",
        "outputId": "32a8d9ca-2e4a-400b-9619-5fadd98e27f8"
      },
      "execution_count": 3,
      "outputs": [
        {
          "output_type": "stream",
          "name": "stdout",
          "text": [
            "[2, 4, 6, 8, 10]\n"
          ]
        }
      ]
    },
    {
      "cell_type": "code",
      "source": [
        "pairs = [(x, y) for x in range(1, 4) for y in range(4, 7)]\n",
        "print(pairs)"
      ],
      "metadata": {
        "colab": {
          "base_uri": "https://localhost:8080/"
        },
        "id": "7dEvvPRjJZz6",
        "outputId": "10e4fb7f-e77c-4623-db79-44f86e7876d1"
      },
      "execution_count": 4,
      "outputs": [
        {
          "output_type": "stream",
          "name": "stdout",
          "text": [
            "[(1, 4), (1, 5), (1, 6), (2, 4), (2, 5), (2, 6), (3, 4), (3, 5), (3, 6)]\n"
          ]
        }
      ]
    },
    {
      "cell_type": "markdown",
      "source": [
        "# Creating a List of Squares"
      ],
      "metadata": {
        "id": "4G-M1CsmMRuh"
      }
    },
    {
      "cell_type": "markdown",
      "source": [
        "## Traditional Loop Approach"
      ],
      "metadata": {
        "id": "_eJyK5BkMXRV"
      }
    },
    {
      "cell_type": "code",
      "source": [
        "squares = []\n",
        "for num in range(1, 11):  # Loop through numbers 1 to 10\n",
        "    squares.append(num ** 2)  # Calculate the square and add to the list\n",
        "\n",
        "print(squares)"
      ],
      "metadata": {
        "colab": {
          "base_uri": "https://localhost:8080/"
        },
        "id": "_yhL6bZsMVox",
        "outputId": "6051c4fd-b34d-4655-b56f-8e86e18812cc"
      },
      "execution_count": 5,
      "outputs": [
        {
          "output_type": "stream",
          "name": "stdout",
          "text": [
            "[1, 4, 9, 16, 25, 36, 49, 64, 81, 100]\n"
          ]
        }
      ]
    },
    {
      "cell_type": "markdown",
      "source": [
        "## List Comprehension Approach"
      ],
      "metadata": {
        "id": "3Spq-_KQMYfe"
      }
    },
    {
      "cell_type": "code",
      "source": [
        "squares = [num ** 2 for num in range(1, 11)]\n",
        "\n",
        "print(squares)"
      ],
      "metadata": {
        "colab": {
          "base_uri": "https://localhost:8080/"
        },
        "id": "B7UPOv5AMZYB",
        "outputId": "779f3d86-ec5e-4820-9883-cb0d650272f8"
      },
      "execution_count": 6,
      "outputs": [
        {
          "output_type": "stream",
          "name": "stdout",
          "text": [
            "[1, 4, 9, 16, 25, 36, 49, 64, 81, 100]\n"
          ]
        }
      ]
    },
    {
      "cell_type": "code",
      "source": [
        "even_squares = [num ** 2 for num in range(1, 11) if num % 2 == 0]\n",
        "print(even_squares)  # [4, 16, 36, 64, 100]"
      ],
      "metadata": {
        "colab": {
          "base_uri": "https://localhost:8080/"
        },
        "id": "31ucCfaHMdXC",
        "outputId": "5781aa98-f230-4427-f7e6-d2f3959126bb"
      },
      "execution_count": 7,
      "outputs": [
        {
          "output_type": "stream",
          "name": "stdout",
          "text": [
            "[4, 16, 36, 64, 100]\n"
          ]
        }
      ]
    },
    {
      "cell_type": "markdown",
      "source": [
        "# Filtering Even Numbers with Complex Conditions"
      ],
      "metadata": {
        "id": "GJ5x-2KaMidJ"
      }
    },
    {
      "cell_type": "markdown",
      "source": [
        "## Traditional Loop Approach"
      ],
      "metadata": {
        "id": "qc0QVsC4MkFV"
      }
    },
    {
      "cell_type": "code",
      "source": [
        "filtered_numbers = []\n",
        "for num in range(1, 11):  # Iterate through numbers 1 to 10\n",
        "    if num % 2 == 0 and num > 4:  # Check if the number is even and greater than 4\n",
        "        filtered_numbers.append(num)  # Add it to the list if it meets the conditions\n",
        "print(filtered_numbers)"
      ],
      "metadata": {
        "colab": {
          "base_uri": "https://localhost:8080/"
        },
        "id": "r1GBWflnJiPX",
        "outputId": "963276a0-ed13-4e11-d10d-306fa8ddfe87"
      },
      "execution_count": 8,
      "outputs": [
        {
          "output_type": "stream",
          "name": "stdout",
          "text": [
            "[6, 8, 10]\n"
          ]
        }
      ]
    },
    {
      "cell_type": "markdown",
      "source": [
        "## List Comprehension Approach"
      ],
      "metadata": {
        "id": "V-X0Z1XqMlls"
      }
    },
    {
      "cell_type": "code",
      "source": [
        "filtered_numbers = [num for num in range(1, 11) if num % 2 == 0 and num > 4]\n",
        "print(filtered_numbers)"
      ],
      "metadata": {
        "colab": {
          "base_uri": "https://localhost:8080/"
        },
        "id": "7rgaVCgYJlo-",
        "outputId": "2db4f262-1f17-4e57-87f1-b92e308257c8"
      },
      "execution_count": 9,
      "outputs": [
        {
          "output_type": "stream",
          "name": "stdout",
          "text": [
            "[6, 8, 10]\n"
          ]
        }
      ]
    },
    {
      "cell_type": "code",
      "source": [
        "numbers = [1, 'a', 2, 'b', 3]\n",
        "squares = [num ** 2 for num in numbers if isinstance(num, (int, float))]"
      ],
      "metadata": {
        "id": "fSF13nSAJp3X"
      },
      "execution_count": 10,
      "outputs": []
    },
    {
      "cell_type": "markdown",
      "source": [
        "# Real-World Applications"
      ],
      "metadata": {
        "id": "bId5D5pTMovW"
      }
    },
    {
      "cell_type": "markdown",
      "source": [
        "## vFiltering Data from a Dataset"
      ],
      "metadata": {
        "id": "14pYlKBEMrBm"
      }
    },
    {
      "cell_type": "code",
      "source": [
        "ages = [12, 18, 25, 40, 70, 15, 30]\n",
        "valid_ages = [age for age in ages if 18 <= age <= 65]\n",
        "print(valid_ages)  # [18, 25, 40, 30]"
      ],
      "metadata": {
        "colab": {
          "base_uri": "https://localhost:8080/"
        },
        "id": "AJlCjnkwMpti",
        "outputId": "e424ddb4-ada4-4cfc-d490-a2156242248f"
      },
      "execution_count": 11,
      "outputs": [
        {
          "output_type": "stream",
          "name": "stdout",
          "text": [
            "[18, 25, 40, 30]\n"
          ]
        }
      ]
    },
    {
      "cell_type": "markdown",
      "source": [
        "## Extracting Words with Specific Criteria"
      ],
      "metadata": {
        "id": "Coeq6SixMsP_"
      }
    },
    {
      "cell_type": "code",
      "source": [
        "words = [\"apple\", \"banana\", \"cherry\", \"date\", \"apricot\"]\n",
        "a_words = [word for word in words if word.startswith('a')]\n",
        "print(a_words)  # ['apple', 'apricot']"
      ],
      "metadata": {
        "colab": {
          "base_uri": "https://localhost:8080/"
        },
        "id": "pCTIm-8sMtHt",
        "outputId": "66a53905-ffa9-4afe-d330-1cebd7862b1b"
      },
      "execution_count": 12,
      "outputs": [
        {
          "output_type": "stream",
          "name": "stdout",
          "text": [
            "['apple', 'apricot']\n"
          ]
        }
      ]
    },
    {
      "cell_type": "markdown",
      "source": [
        "# Error Handling in List Comprehensions"
      ],
      "metadata": {
        "id": "NVgYtuW5Mukf"
      }
    },
    {
      "cell_type": "code",
      "source": [
        "numbers = [1, 'a', 2, 'b', 3]\n",
        "squares = [num ** 2 for num in numbers]"
      ],
      "metadata": {
        "colab": {
          "base_uri": "https://localhost:8080/",
          "height": 224
        },
        "id": "kD5-y9leMwKD",
        "outputId": "31ecb998-627e-41f1-a59a-21abbc6e3d43"
      },
      "execution_count": 13,
      "outputs": [
        {
          "output_type": "error",
          "ename": "TypeError",
          "evalue": "unsupported operand type(s) for ** or pow(): 'str' and 'int'",
          "traceback": [
            "\u001b[0;31m---------------------------------------------------------------------------\u001b[0m",
            "\u001b[0;31mTypeError\u001b[0m                                 Traceback (most recent call last)",
            "\u001b[0;32m<ipython-input-13-1737b1758a05>\u001b[0m in \u001b[0;36m<cell line: 2>\u001b[0;34m()\u001b[0m\n\u001b[1;32m      1\u001b[0m \u001b[0mnumbers\u001b[0m \u001b[0;34m=\u001b[0m \u001b[0;34m[\u001b[0m\u001b[0;36m1\u001b[0m\u001b[0;34m,\u001b[0m \u001b[0;34m'a'\u001b[0m\u001b[0;34m,\u001b[0m \u001b[0;36m2\u001b[0m\u001b[0;34m,\u001b[0m \u001b[0;34m'b'\u001b[0m\u001b[0;34m,\u001b[0m \u001b[0;36m3\u001b[0m\u001b[0;34m]\u001b[0m\u001b[0;34m\u001b[0m\u001b[0;34m\u001b[0m\u001b[0m\n\u001b[0;32m----> 2\u001b[0;31m \u001b[0msquares\u001b[0m \u001b[0;34m=\u001b[0m \u001b[0;34m[\u001b[0m\u001b[0mnum\u001b[0m \u001b[0;34m**\u001b[0m \u001b[0;36m2\u001b[0m \u001b[0;32mfor\u001b[0m \u001b[0mnum\u001b[0m \u001b[0;32min\u001b[0m \u001b[0mnumbers\u001b[0m\u001b[0;34m]\u001b[0m\u001b[0;34m\u001b[0m\u001b[0;34m\u001b[0m\u001b[0m\n\u001b[0m",
            "\u001b[0;32m<ipython-input-13-1737b1758a05>\u001b[0m in \u001b[0;36m<listcomp>\u001b[0;34m(.0)\u001b[0m\n\u001b[1;32m      1\u001b[0m \u001b[0mnumbers\u001b[0m \u001b[0;34m=\u001b[0m \u001b[0;34m[\u001b[0m\u001b[0;36m1\u001b[0m\u001b[0;34m,\u001b[0m \u001b[0;34m'a'\u001b[0m\u001b[0;34m,\u001b[0m \u001b[0;36m2\u001b[0m\u001b[0;34m,\u001b[0m \u001b[0;34m'b'\u001b[0m\u001b[0;34m,\u001b[0m \u001b[0;36m3\u001b[0m\u001b[0;34m]\u001b[0m\u001b[0;34m\u001b[0m\u001b[0;34m\u001b[0m\u001b[0m\n\u001b[0;32m----> 2\u001b[0;31m \u001b[0msquares\u001b[0m \u001b[0;34m=\u001b[0m \u001b[0;34m[\u001b[0m\u001b[0mnum\u001b[0m \u001b[0;34m**\u001b[0m \u001b[0;36m2\u001b[0m \u001b[0;32mfor\u001b[0m \u001b[0mnum\u001b[0m \u001b[0;32min\u001b[0m \u001b[0mnumbers\u001b[0m\u001b[0;34m]\u001b[0m\u001b[0;34m\u001b[0m\u001b[0;34m\u001b[0m\u001b[0m\n\u001b[0m",
            "\u001b[0;31mTypeError\u001b[0m: unsupported operand type(s) for ** or pow(): 'str' and 'int'"
          ]
        }
      ]
    },
    {
      "cell_type": "code",
      "source": [
        "numbers = [1, 'a', 2, 'b', 3]\n",
        "squares = [num ** 2 for num in numbers if isinstance(num, (int, float))]\n",
        "print(squares)"
      ],
      "metadata": {
        "colab": {
          "base_uri": "https://localhost:8080/"
        },
        "id": "u-kZTvwuMzHk",
        "outputId": "f5ad02dd-e060-4447-9908-1e94e577ebc7"
      },
      "execution_count": 14,
      "outputs": [
        {
          "output_type": "stream",
          "name": "stdout",
          "text": [
            "[1, 4, 9]\n"
          ]
        }
      ]
    },
    {
      "cell_type": "code",
      "source": [
        "def safe_square(num):\n",
        "    try:\n",
        "        return int(num) ** 2\n",
        "    except (ValueError, TypeError):\n",
        "        return None  # Return None for invalid data\n",
        "\n",
        "numbers = [1, 'a', 2, 'b', 3, None, '4']\n",
        "squares = [safe_square(num) for num in numbers if safe_square(num) is not None]"
      ],
      "metadata": {
        "id": "JKOQTuudM4xg"
      },
      "execution_count": 15,
      "outputs": []
    },
    {
      "cell_type": "code",
      "source": [
        "import pytest\n",
        "\n",
        "@pytest.mark.parametrize(\"input_data, expected\", [\n",
        "    ([1, 2, 3, 4], [1, 4, 9, 16]),          # Test squares of numbers\n",
        "    ([1, 'a', 2, 'b', 3], [1, 4, 9]),       # Test mixed data\n",
        "    ([], []),                               # Test empty input\n",
        "    (['1', 2, 3.0, None], [4, 9.0]),        # Test mixed numeric-like data\n",
        "])\n",
        "def test_square_comprehension(input_data, expected):\n",
        "    result = [num ** 2 for num in input_data if isinstance(num, (int, float))]\n",
        "    assert result == expected"
      ],
      "metadata": {
        "id": "pH1a5ylLM6fb"
      },
      "execution_count": 16,
      "outputs": []
    },
    {
      "cell_type": "code",
      "source": [
        "import unittest\n",
        "\n",
        "class TestListComprehensions(unittest.TestCase):\n",
        "\n",
        "    def test_square_comprehension(self):\n",
        "        input_data = [1, 2, 3, 4]\n",
        "        expected = [1, 4, 9, 16]\n",
        "        result = [num ** 2 for num in input_data]\n",
        "        self.assertEqual(result, expected)\n",
        "\n",
        "    def test_mixed_data(self):\n",
        "        input_data = [1, 'a', 2, 'b', 3]\n",
        "        expected = [1, 4, 9]\n",
        "        result = [num ** 2 for num in input_data if isinstance(num, (int, float))]\n",
        "        self.assertEqual(result, expected)\n",
        "\n",
        "    def test_empty_list(self):\n",
        "        input_data = []\n",
        "        expected = []\n",
        "        result = [num ** 2 for num in input_data]\n",
        "        self.assertEqual(result, expected)\n",
        "\n",
        "    def test_numeric_strings_and_none(self):\n",
        "        input_data = ['1', 2, 3.0, None]\n",
        "        expected = [4, 9.0]\n",
        "        result = [num ** 2 for num in input_data if isinstance(num, (int, float))]\n",
        "        self.assertEqual(result, expected)\n",
        "\n",
        "if __name__ == \"__main__\":\n",
        "    unittest.main()"
      ],
      "metadata": {
        "colab": {
          "base_uri": "https://localhost:8080/",
          "height": 292
        },
        "id": "6bvFXRBaM8zD",
        "outputId": "bab53bc7-c515-4e53-b29c-dc2f46aefd59"
      },
      "execution_count": 17,
      "outputs": [
        {
          "output_type": "stream",
          "name": "stderr",
          "text": [
            "E\n",
            "======================================================================\n",
            "ERROR: /root/ (unittest.loader._FailedTest)\n",
            "----------------------------------------------------------------------\n",
            "AttributeError: module '__main__' has no attribute '/root/'\n",
            "\n",
            "----------------------------------------------------------------------\n",
            "Ran 1 test in 0.001s\n",
            "\n",
            "FAILED (errors=1)\n"
          ]
        },
        {
          "output_type": "error",
          "ename": "SystemExit",
          "evalue": "True",
          "traceback": [
            "An exception has occurred, use %tb to see the full traceback.\n",
            "\u001b[0;31mSystemExit\u001b[0m\u001b[0;31m:\u001b[0m True\n"
          ]
        },
        {
          "output_type": "stream",
          "name": "stderr",
          "text": [
            "/usr/local/lib/python3.10/dist-packages/IPython/core/interactiveshell.py:3561: UserWarning: To exit: use 'exit', 'quit', or Ctrl-D.\n",
            "  warn(\"To exit: use 'exit', 'quit', or Ctrl-D.\", stacklevel=1)\n"
          ]
        }
      ]
    }
  ]
}
