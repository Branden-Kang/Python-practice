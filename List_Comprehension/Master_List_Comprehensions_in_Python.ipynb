{
  "nbformat": 4,
  "nbformat_minor": 0,
  "metadata": {
    "colab": {
      "name": "Master List Comprehensions in Python.ipynb",
      "provenance": [],
      "authorship_tag": "ABX9TyPhnuqCugAyiGwciHP7hk+X"
    },
    "kernelspec": {
      "name": "python3",
      "display_name": "Python 3"
    }
  },
  "cells": [
    {
      "cell_type": "markdown",
      "metadata": {
        "id": "1i4guI53qx6g"
      },
      "source": [
        "[Reference](https://medium.com/better-programming/9-things-to-know-to-master-list-comprehensions-in-python-8bc0411ec2ed)"
      ]
    },
    {
      "cell_type": "code",
      "metadata": {
        "colab": {
          "base_uri": "https://localhost:8080/"
        },
        "id": "AR9LwJCMqwsk",
        "outputId": "f03ec252-888c-4d47-9ea2-9afd6e8258ca"
      },
      "source": [
        "pets = ('bird', 'snake', 'dog', 'turtle', 'cat', 'hamster')\n",
        "uppercased_pets = []\n",
        "for pet in pets:\n",
        "     uppercased_pets.append(pet.upper())\n",
        " \n",
        "uppercased_pets"
      ],
      "execution_count": 1,
      "outputs": [
        {
          "output_type": "execute_result",
          "data": {
            "text/plain": [
              "['BIRD', 'SNAKE', 'DOG', 'TURTLE', 'CAT', 'HAMSTER']"
            ]
          },
          "metadata": {
            "tags": []
          },
          "execution_count": 1
        }
      ]
    },
    {
      "cell_type": "code",
      "metadata": {
        "colab": {
          "base_uri": "https://localhost:8080/"
        },
        "id": "Vw-4W6nxq4vR",
        "outputId": "3cb47288-5027-476f-c4c4-846b7a085ca3"
      },
      "source": [
        "pets = ('bird', 'snake', 'dog', 'turtle', 'cat', 'hamster')\n",
        "uppercased_pets = [pet.upper() for pet in pets]\n",
        "uppercased_pets"
      ],
      "execution_count": 2,
      "outputs": [
        {
          "output_type": "execute_result",
          "data": {
            "text/plain": [
              "['BIRD', 'SNAKE', 'DOG', 'TURTLE', 'CAT', 'HAMSTER']"
            ]
          },
          "metadata": {
            "tags": []
          },
          "execution_count": 2
        }
      ]
    },
    {
      "cell_type": "code",
      "metadata": {
        "colab": {
          "base_uri": "https://localhost:8080/"
        },
        "id": "RRzRzxQpq9cL",
        "outputId": "1a48908a-9796-4802-ae8c-ac35083b294e"
      },
      "source": [
        "primes = [2, 3, 5, 7, 11, 13, 17, 19, 23, 29]\n",
        "squared_primes = [x*x for x in primes if x%10 == 3]\n",
        "squared_primes"
      ],
      "execution_count": 3,
      "outputs": [
        {
          "output_type": "execute_result",
          "data": {
            "text/plain": [
              "[9, 169, 529]"
            ]
          },
          "metadata": {
            "tags": []
          },
          "execution_count": 3
        }
      ]
    },
    {
      "cell_type": "code",
      "metadata": {
        "colab": {
          "base_uri": "https://localhost:8080/"
        },
        "id": "NvI_9-Miq_x4",
        "outputId": "887c6d65-ac95-42c5-e1d6-5126eef65447"
      },
      "source": [
        "def has_four_legs(pet):\n",
        "     return pet in ('pig', 'dog', 'turtle', 'hamster', 'cat')\n",
        " \n",
        "pets = ('bird', 'snake', 'dog', 'turtle', 'cat', 'hamster')\n",
        "four_legs_pets = [pet.capitalize() for pet in pets if has_four_legs(pet)]\n",
        "four_legs_pets"
      ],
      "execution_count": 4,
      "outputs": [
        {
          "output_type": "execute_result",
          "data": {
            "text/plain": [
              "['Dog', 'Turtle', 'Cat', 'Hamster']"
            ]
          },
          "metadata": {
            "tags": []
          },
          "execution_count": 4
        }
      ]
    },
    {
      "cell_type": "code",
      "metadata": {
        "colab": {
          "base_uri": "https://localhost:8080/"
        },
        "id": "Qvn0wv9DrDTg",
        "outputId": "35996872-c66c-4277-9478-82883a63e374"
      },
      "source": [
        "max_value = 10\n",
        "numbers = (7, 9, 11, 4, 3, 2, 12)\n",
        "ceiling_numbers0 = [number if number <= max_value else max_value for number in numbers] \n",
        "print(ceiling_numbers0)\n",
        "ceiling_numbers1 = [(number if number <= max_value else max_value) for number in numbers]\n",
        "print(ceiling_numbers1)"
      ],
      "execution_count": 5,
      "outputs": [
        {
          "output_type": "stream",
          "text": [
            "[7, 9, 10, 4, 3, 2, 10]\n",
            "[7, 9, 10, 4, 3, 2, 10]\n"
          ],
          "name": "stdout"
        }
      ]
    },
    {
      "cell_type": "code",
      "metadata": {
        "colab": {
          "base_uri": "https://localhost:8080/"
        },
        "id": "Vjkp9PEjrLWo",
        "outputId": "7b67c22d-d1f6-4c0e-ca19-c79231e77b15"
      },
      "source": [
        "pets = ('bird', 'snake', 'dog', 'turtle', 'cat', 'hamster')\n",
        "uppercased_pets = list(map(str.upper, pets))\n",
        "uppercased_pets"
      ],
      "execution_count": 6,
      "outputs": [
        {
          "output_type": "execute_result",
          "data": {
            "text/plain": [
              "['BIRD', 'SNAKE', 'DOG', 'TURTLE', 'CAT', 'HAMSTER']"
            ]
          },
          "metadata": {
            "tags": []
          },
          "execution_count": 6
        }
      ]
    },
    {
      "cell_type": "code",
      "metadata": {
        "colab": {
          "base_uri": "https://localhost:8080/"
        },
        "id": "8YQwVvhsrPW0",
        "outputId": "6ef2754f-271a-4f9c-ddde-f782589f4951"
      },
      "source": [
        "pets = ('bird', 'snake', 'dog', 'turtle', 'cat', 'hamster')\n",
        "uppercased_pets = [pet.upper() for pet in pets]\n",
        "uppercased_pets"
      ],
      "execution_count": 7,
      "outputs": [
        {
          "output_type": "execute_result",
          "data": {
            "text/plain": [
              "['BIRD', 'SNAKE', 'DOG', 'TURTLE', 'CAT', 'HAMSTER']"
            ]
          },
          "metadata": {
            "tags": []
          },
          "execution_count": 7
        }
      ]
    },
    {
      "cell_type": "code",
      "metadata": {
        "colab": {
          "base_uri": "https://localhost:8080/"
        },
        "id": "QZ8fx7CjrRZM",
        "outputId": "596e2076-4375-45a9-8ae5-0b2f97b20859"
      },
      "source": [
        "nested_numbers = ((1, 4, 7, 8), (2, 3, 5))\n",
        "squares = [x*x for numbers in nested_numbers for x in numbers]\n",
        "squares"
      ],
      "execution_count": 9,
      "outputs": [
        {
          "output_type": "execute_result",
          "data": {
            "text/plain": [
              "[1, 16, 49, 64, 4, 9, 25]"
            ]
          },
          "metadata": {
            "tags": []
          },
          "execution_count": 9
        }
      ]
    },
    {
      "cell_type": "code",
      "metadata": {
        "id": "YO5j1ew4rTX-"
      },
      "source": [
        "import random\n",
        "vowels = [letter.upper() for _ in range(0, 10) if (letter := random.choice(letters)) in list('aeoui')]\n",
        "vowels"
      ],
      "execution_count": 11,
      "outputs": []
    },
    {
      "cell_type": "code",
      "metadata": {
        "colab": {
          "base_uri": "https://localhost:8080/"
        },
        "id": "4Zn1DYItrYeD",
        "outputId": "467e96cd-00f1-4c38-be40-1b5feaff43b7"
      },
      "source": [
        "numbers = (1, 34, 5, 8, 10, 12, 3, 90, 70, 70, 90)\n",
        "unique_even_numbers = {number for number in numbers if number%2 == 0}\n",
        "unique_even_numbers"
      ],
      "execution_count": 12,
      "outputs": [
        {
          "output_type": "execute_result",
          "data": {
            "text/plain": [
              "{8, 10, 12, 34, 70, 90}"
            ]
          },
          "metadata": {
            "tags": []
          },
          "execution_count": 12
        }
      ]
    },
    {
      "cell_type": "code",
      "metadata": {
        "colab": {
          "base_uri": "https://localhost:8080/"
        },
        "id": "ebAG6JwerckY",
        "outputId": "831104f5-4dc4-4209-bde0-117d50b3c7d8"
      },
      "source": [
        "words = ('python', 'is', 'a', 'big', 'snake')\n",
        "len_words = {word : len(word) for word in words}\n",
        "len_words"
      ],
      "execution_count": 13,
      "outputs": [
        {
          "output_type": "execute_result",
          "data": {
            "text/plain": [
              "{'a': 1, 'big': 3, 'is': 2, 'python': 6, 'snake': 5}"
            ]
          },
          "metadata": {
            "tags": []
          },
          "execution_count": 13
        }
      ]
    },
    {
      "cell_type": "code",
      "metadata": {
        "colab": {
          "base_uri": "https://localhost:8080/"
        },
        "id": "g7WKwSaqsHpk",
        "outputId": "d83cc8c8-d9b0-4ac1-c283-027d43ad6312"
      },
      "source": [
        "len_words_p = {word : len(word) for word in words if word.startswith('p')}\n",
        "len_words_p"
      ],
      "execution_count": 14,
      "outputs": [
        {
          "output_type": "execute_result",
          "data": {
            "text/plain": [
              "{'python': 6}"
            ]
          },
          "metadata": {
            "tags": []
          },
          "execution_count": 14
        }
      ]
    }
  ]
}