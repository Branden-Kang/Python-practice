{
  "nbformat": 4,
  "nbformat_minor": 0,
  "metadata": {
    "colab": {
      "name": "List Comprehensions in Python.ipynb",
      "provenance": [],
      "authorship_tag": "ABX9TyOGJJ3e85yTk0wUoYpgvtvo"
    },
    "kernelspec": {
      "name": "python3",
      "display_name": "Python 3"
    }
  },
  "cells": [
    {
      "cell_type": "markdown",
      "metadata": {
        "id": "nn27J9No67q9"
      },
      "source": [
        "[Reference](https://medium.com/code-85/a-beginners-guide-to-python-list-comprehensions-7dbb0039f065)"
      ]
    },
    {
      "cell_type": "code",
      "metadata": {
        "id": "lShvukKG6CKs",
        "outputId": "1a425bf4-08ee-4dec-d1c4-ec90823646c2",
        "colab": {
          "base_uri": "https://localhost:8080/"
        }
      },
      "source": [
        "nums = [n for n in range(1,6)]\n",
        "print(nums)"
      ],
      "execution_count": 1,
      "outputs": [
        {
          "output_type": "stream",
          "text": [
            "[1, 2, 3, 4, 5]\n"
          ],
          "name": "stdout"
        }
      ]
    },
    {
      "cell_type": "markdown",
      "metadata": {
        "id": "QLmuHJrH7DSI"
      },
      "source": [
        "# List Comprehension with Modification"
      ]
    },
    {
      "cell_type": "code",
      "metadata": {
        "id": "J-VElUAx7BCC",
        "outputId": "59b4149b-4627-4363-a9cc-1d6cc932fa11",
        "colab": {
          "base_uri": "https://localhost:8080/"
        }
      },
      "source": [
        "nums = [1,2,3,4,5]\n",
        "squares = [n*n for n in nums]\n",
        "print(squares)"
      ],
      "execution_count": 2,
      "outputs": [
        {
          "output_type": "stream",
          "text": [
            "[1, 4, 9, 16, 25]\n"
          ],
          "name": "stdout"
        }
      ]
    },
    {
      "cell_type": "markdown",
      "metadata": {
        "id": "zI8WQADA7Ld7"
      },
      "source": [
        "# List Comprehension With Filtering"
      ]
    },
    {
      "cell_type": "code",
      "metadata": {
        "id": "2JgGAx9h7Hyg",
        "outputId": "169a97a5-9631-4ba6-c8db-3a22f2ae5948",
        "colab": {
          "base_uri": "https://localhost:8080/"
        }
      },
      "source": [
        "even_squares = [n*n for n in nums if n%2 != 1]\n",
        "print(even_squares)"
      ],
      "execution_count": 3,
      "outputs": [
        {
          "output_type": "stream",
          "text": [
            "[4, 16]\n"
          ],
          "name": "stdout"
        }
      ]
    },
    {
      "cell_type": "markdown",
      "metadata": {
        "id": "vrEoVRQ-9M8t"
      },
      "source": [
        "# List Comprehension With Nested For Loop"
      ]
    },
    {
      "cell_type": "code",
      "metadata": {
        "id": "xX6fP4Nt7ajd",
        "outputId": "d1a50926-1c98-41b7-c577-f28bea40c7cb",
        "colab": {
          "base_uri": "https://localhost:8080/"
        }
      },
      "source": [
        "matrix = [[x for x in range(1,4)] for y in range(1,4)]\n",
        "print(matrix)"
      ],
      "execution_count": 4,
      "outputs": [
        {
          "output_type": "stream",
          "text": [
            "[[1, 2, 3], [1, 2, 3], [1, 2, 3]]\n"
          ],
          "name": "stdout"
        }
      ]
    },
    {
      "cell_type": "code",
      "metadata": {
        "id": "KW4aqnfQ9Sfd",
        "outputId": "993b1e08-10be-42ca-c33b-abaf8b013779",
        "colab": {
          "base_uri": "https://localhost:8080/"
        }
      },
      "source": [
        "matrix = [\n",
        "          [x for x in range(1,4)] \n",
        "          for y in range(1,4)\n",
        "          ]\n",
        "print(matrix)"
      ],
      "execution_count": 5,
      "outputs": [
        {
          "output_type": "stream",
          "text": [
            "[[1, 2, 3], [1, 2, 3], [1, 2, 3]]\n"
          ],
          "name": "stdout"
        }
      ]
    },
    {
      "cell_type": "code",
      "metadata": {
        "id": "Ym0bhR1B9ZD3"
      },
      "source": [
        "people = [{\n",
        "  \"first_name\": \"Branden\",\n",
        "  \"last_name\": \"Kang\",\n",
        "  \"birthday\": \"4/25/1999\"\n",
        "}, {\n",
        "  \"first_name\": \"Maria\",\n",
        "  \"last_name\": \"Shin\",\n",
        "  \"birthday\": \"1/11/1995\"\n",
        "}]\n",
        "\n",
        "birthdays = [\n",
        "  person[term]\n",
        "  for person in people\n",
        "  for term in person\n",
        "  if term == \"birthday\"\n",
        "]"
      ],
      "execution_count": 6,
      "outputs": []
    },
    {
      "cell_type": "code",
      "metadata": {
        "id": "Rt5E1TkR9oVt",
        "outputId": "0011fe83-9722-4760-f27f-1959664d0cc6",
        "colab": {
          "base_uri": "https://localhost:8080/"
        }
      },
      "source": [
        "print(birthdays)"
      ],
      "execution_count": 7,
      "outputs": [
        {
          "output_type": "stream",
          "text": [
            "['4/25/1999', '1/11/1995']\n"
          ],
          "name": "stdout"
        }
      ]
    }
  ]
}