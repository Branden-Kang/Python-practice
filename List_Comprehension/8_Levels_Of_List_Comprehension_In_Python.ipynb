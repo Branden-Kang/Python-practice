{
  "nbformat": 4,
  "nbformat_minor": 0,
  "metadata": {
    "colab": {
      "provenance": [],
      "authorship_tag": "ABX9TyP2ff5pPe2z0368zDktMOVJ"
    },
    "kernelspec": {
      "name": "python3",
      "display_name": "Python 3"
    },
    "language_info": {
      "name": "python"
    }
  },
  "cells": [
    {
      "cell_type": "markdown",
      "source": [
        "[Reference](https://python.plainenglish.io/8-levels-of-list-comprehension-dec6fd24590f)"
      ],
      "metadata": {
        "id": "3vAQ8UZzZqVa"
      }
    },
    {
      "cell_type": "code",
      "execution_count": 1,
      "metadata": {
        "id": "mERsJWfzZWYg"
      },
      "outputs": [],
      "source": [
        "a = [1, 2, 3]\n",
        "b = [n*2 for n in a]\n",
        "# b = [2, 4, 6]"
      ]
    },
    {
      "cell_type": "code",
      "source": [
        "a = [1, 2, 3, 4, 5]\n",
        "b = [n for n in a if n<4]\n",
        "# b = [1, 2, 3]"
      ],
      "metadata": {
        "id": "mBzZCrTlZuXu"
      },
      "execution_count": 2,
      "outputs": []
    },
    {
      "cell_type": "code",
      "source": [
        "a = [\"apple\", \"orange\", \"pear\"]\n",
        "b = [(i,fruit) for i,fruit in enumerate(b)]\n",
        "# b is [(0,\"apple\"), (1,\"orange\"), (2,\"pear\")]"
      ],
      "metadata": {
        "id": "Tnyx9SFnZvX5"
      },
      "execution_count": 3,
      "outputs": []
    },
    {
      "cell_type": "code",
      "source": [
        "a = [\"apple\", \"orange\", \"pear\"]\n",
        "a2 = [\"pie\", \"juice\", \"cake\"]\n",
        "b = [i+j for i,j in zip(a, a2)]\n",
        "# b is [\"applepie\", \"orangejuice\", \"pearcake\"]"
      ],
      "metadata": {
        "id": "J_P90KjTZxVs"
      },
      "execution_count": 4,
      "outputs": []
    },
    {
      "cell_type": "code",
      "source": [
        "a = [56, 45, 76, 23]\n",
        "b = [(\"pass\" if n>=50 else \"fail\") for n in a]\n",
        "# b is [\"pass\", \"fail\", \"pass\", \"fail\"]"
      ],
      "metadata": {
        "id": "RPmiOUlUZzYx"
      },
      "execution_count": 5,
      "outputs": []
    },
    {
      "cell_type": "code",
      "source": [
        "a = [10, 20, 30]\n",
        "a2 = [1, 2, 3]\n",
        "b = [i+j for i in a for j in a2]\n",
        "# b is [11, 12, 13, 21, 22, 23, 31, 32, 33]"
      ],
      "metadata": {
        "id": "57mXlWb7Z1B2"
      },
      "execution_count": 6,
      "outputs": []
    },
    {
      "cell_type": "code",
      "source": [
        "newlist = []\n",
        "for i in a:\n",
        "    for j in a2:\n",
        "        newlist.append( i+j )"
      ],
      "metadata": {
        "id": "XDWbROBqZ2dl"
      },
      "execution_count": 7,
      "outputs": []
    },
    {
      "cell_type": "code",
      "source": [
        "a = [1, 2, 3]\n",
        "b = [[i for i in range(1, n+1)] for n in a]\n",
        "# b is [[1], [1, 2], [1, 2, 3]]"
      ],
      "metadata": {
        "id": "BBkCPjHHZ3sN"
      },
      "execution_count": 8,
      "outputs": []
    },
    {
      "cell_type": "code",
      "source": [
        "a = [1, 2, 3, 4, 5]\n",
        "b = [[xx if xx>yy else yy for xx in range(x) for yy in range(y)] for i,(x,y) in enumerate(zip(a, a[::-1])) if i%2==0]\n",
        "# [[0, 1, 2, 3, 4], [0, 1, 2, 1, 1, 2, 2, 2, 2], [0, 1, 2, 3, 4]]"
      ],
      "metadata": {
        "id": "FJzUPOFaZ5bY"
      },
      "execution_count": 9,
      "outputs": []
    },
    {
      "cell_type": "code",
      "source": [
        "students = [\n",
        "    (\"bob\", \"m\", [67, 89, 60]),\n",
        "    (\"alice\", \"f\", [97, 85, 61]),\n",
        "    (\"cassie\", \"f\", [78, 91, 89]),\n",
        "    (\"tim\", \"m\", [47, 57, 24]),\n",
        "    (\"tom\", \"m\", [91, 79, 72]),\n",
        "]"
      ],
      "metadata": {
        "id": "kNb8pimKZ9uZ"
      },
      "execution_count": 11,
      "outputs": []
    },
    {
      "cell_type": "code",
      "source": [
        "x = [(name, \"eligible\" if sum(scores)/len(scores) >=50 else \"not eligible\") for name,gender,scores in students if gender==\"m\"]\n",
        "#[('bob', 'eligible'), ('tim', 'not eligible'), ('tom', 'eligible')]"
      ],
      "metadata": {
        "id": "mEDJzRKRaA-b"
      },
      "execution_count": 12,
      "outputs": []
    }
  ]
}
