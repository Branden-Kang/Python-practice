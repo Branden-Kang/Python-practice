{
  "nbformat": 4,
  "nbformat_minor": 0,
  "metadata": {
    "colab": {
      "name": "Python List Exactly.ipynb",
      "provenance": [],
      "authorship_tag": "ABX9TyOPwhLx7W+BFXsmpKBZmm/I"
    },
    "kernelspec": {
      "name": "python3",
      "display_name": "Python 3"
    },
    "language_info": {
      "name": "python"
    }
  },
  "cells": [
    {
      "cell_type": "markdown",
      "metadata": {
        "id": "i6pF7mx9UnVh"
      },
      "source": [
        "[Reference](https://newtechie.medium.com/whats-a-python-list-exactly-straightforward-python-892cda33bfbb)"
      ]
    },
    {
      "cell_type": "code",
      "metadata": {
        "colab": {
          "base_uri": "https://localhost:8080/"
        },
        "id": "qdmZ90N5Tpcp",
        "outputId": "16e58591-8ecb-4352-8ec1-881df80bc11b"
      },
      "source": [
        "# These list elements are all of the same type\n",
        "zoo = ['bear', 'lion', 'panda', 'zebra']\n",
        "print(zoo)"
      ],
      "execution_count": 3,
      "outputs": [
        {
          "output_type": "stream",
          "text": [
            "['bear', 'lion', 'panda', 'zebra']\n"
          ],
          "name": "stdout"
        }
      ]
    },
    {
      "cell_type": "code",
      "metadata": {
        "colab": {
          "base_uri": "https://localhost:8080/"
        },
        "id": "ZmJffER4TqVG",
        "outputId": "45cad8f1-6abd-48f6-baa5-0a139ea7bb37"
      },
      "source": [
        "biggerZoo = ['bear', 'lion', 'panda', 'zebra', ['chimpanzees', 'gorillas', 'orangutans', 'gibbons']]\n",
        "print(biggerZoo)"
      ],
      "execution_count": 4,
      "outputs": [
        {
          "output_type": "stream",
          "text": [
            "['bear', 'lion', 'panda', 'zebra', ['chimpanzees', 'gorillas', 'orangutans', 'gibbons']]\n"
          ],
          "name": "stdout"
        }
      ]
    },
    {
      "cell_type": "code",
      "metadata": {
        "colab": {
          "base_uri": "https://localhost:8080/"
        },
        "id": "dVeaEGsgTs_V",
        "outputId": "c0dae390-2717-43c6-a573-f91ea42947be"
      },
      "source": [
        "list = ['larry', 'curly', 'moe']\n",
        "list.append('shemp')         ## append elem at end\n",
        "list.insert(0, 'xxx')        ## insert elem at index 0\n",
        "list.extend(['yyy', 'zzz'])  ## add list of elems at end\n",
        "print(list)  ## ['xxx', 'larry', 'curly', 'moe', 'shemp', 'yyy', 'zzz']\n",
        "print(list.index('curly'))    ## 2\n",
        "\n",
        "list.remove('curly')         ## search and remove that element\n",
        "list.pop(1)                  ## removes and returns 'larry'\n",
        "print(list)  ## ['xxx', 'moe', 'shemp', 'yyy', 'zzz']"
      ],
      "execution_count": 5,
      "outputs": [
        {
          "output_type": "stream",
          "text": [
            "['xxx', 'larry', 'curly', 'moe', 'shemp', 'yyy', 'zzz']\n",
            "2\n",
            "['xxx', 'moe', 'shemp', 'yyy', 'zzz']\n"
          ],
          "name": "stdout"
        }
      ]
    },
    {
      "cell_type": "code",
      "metadata": {
        "id": "a7nrLcvZU3Kj"
      },
      "source": [
        "list = []          ## Start as the empty list\n",
        "list.append('a')   ## Use append() to add elements\n",
        "list.append('b')"
      ],
      "execution_count": 6,
      "outputs": []
    },
    {
      "cell_type": "code",
      "metadata": {
        "colab": {
          "base_uri": "https://localhost:8080/"
        },
        "id": "Et7fdxa3U5K-",
        "outputId": "482ab242-a590-4254-ed5d-26f99c66921b"
      },
      "source": [
        "list = ['a', 'b', 'c', 'd']\n",
        "print(list[1:-1])   ## ['b', 'c']\n",
        "list[0:2] = 'z'    ## replace ['a', 'b'] with ['z']\n",
        "print(list)         ## ['z', 'c', 'd']"
      ],
      "execution_count": 7,
      "outputs": [
        {
          "output_type": "stream",
          "text": [
            "['b', 'c']\n",
            "['z', 'c', 'd']\n"
          ],
          "name": "stdout"
        }
      ]
    }
  ]
}