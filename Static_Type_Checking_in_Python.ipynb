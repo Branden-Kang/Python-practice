{
  "nbformat": 4,
  "nbformat_minor": 0,
  "metadata": {
    "colab": {
      "name": "Static Type Checking in Python.ipynb",
      "provenance": [],
      "authorship_tag": "ABX9TyO8vXt2sQZ2GlK0+AVrjft2"
    },
    "kernelspec": {
      "name": "python3",
      "display_name": "Python 3"
    }
  },
  "cells": [
    {
      "cell_type": "markdown",
      "metadata": {
        "id": "mJ8mNYnH5siz"
      },
      "source": [
        "[Reference](https://medium.com/trabe/static-type-checking-in-python-58a46cf94f8a)"
      ]
    },
    {
      "cell_type": "code",
      "metadata": {
        "colab": {
          "base_uri": "https://localhost:8080/",
          "height": 266
        },
        "id": "qE4sg0Xxq-HA",
        "outputId": "33a3abc0-f51b-4a45-bc19-e32f56c5288e"
      },
      "source": [
        "class Duck:\n",
        "    def fly(self):\n",
        "        print('Duck flying')\n",
        "\n",
        "class Sparrow:\n",
        "    def fly(self):\n",
        "        print('Sparrow flying')\n",
        "\n",
        "class Whale:\n",
        "    def swim(self):\n",
        "        print('Whale swimming')\n",
        "\n",
        "for animal in Duck(), Sparrow(), Whale():\n",
        "    animal.fly()"
      ],
      "execution_count": 1,
      "outputs": [
        {
          "output_type": "stream",
          "text": [
            "Duck flying\n",
            "Sparrow flying\n"
          ],
          "name": "stdout"
        },
        {
          "output_type": "error",
          "ename": "AttributeError",
          "evalue": "ignored",
          "traceback": [
            "\u001b[0;31m---------------------------------------------------------------------------\u001b[0m",
            "\u001b[0;31mAttributeError\u001b[0m                            Traceback (most recent call last)",
            "\u001b[0;32m<ipython-input-1-1c1b1d7adfd3>\u001b[0m in \u001b[0;36m<module>\u001b[0;34m()\u001b[0m\n\u001b[1;32m     12\u001b[0m \u001b[0;34m\u001b[0m\u001b[0m\n\u001b[1;32m     13\u001b[0m \u001b[0;32mfor\u001b[0m \u001b[0manimal\u001b[0m \u001b[0;32min\u001b[0m \u001b[0mDuck\u001b[0m\u001b[0;34m(\u001b[0m\u001b[0;34m)\u001b[0m\u001b[0;34m,\u001b[0m \u001b[0mSparrow\u001b[0m\u001b[0;34m(\u001b[0m\u001b[0;34m)\u001b[0m\u001b[0;34m,\u001b[0m \u001b[0mWhale\u001b[0m\u001b[0;34m(\u001b[0m\u001b[0;34m)\u001b[0m\u001b[0;34m:\u001b[0m\u001b[0;34m\u001b[0m\u001b[0;34m\u001b[0m\u001b[0m\n\u001b[0;32m---> 14\u001b[0;31m     \u001b[0manimal\u001b[0m\u001b[0;34m.\u001b[0m\u001b[0mfly\u001b[0m\u001b[0;34m(\u001b[0m\u001b[0;34m)\u001b[0m\u001b[0;34m\u001b[0m\u001b[0;34m\u001b[0m\u001b[0m\n\u001b[0m",
            "\u001b[0;31mAttributeError\u001b[0m: 'Whale' object has no attribute 'fly'"
          ]
        }
      ]
    },
    {
      "cell_type": "code",
      "metadata": {
        "colab": {
          "base_uri": "https://localhost:8080/"
        },
        "id": "8m0efRDF5wCb",
        "outputId": "2fe1cd90-525b-43ed-f0c3-886f93e3fe65"
      },
      "source": [
        "def greeting(name: str) -> str:\n",
        "    return f'Hello {name}'\n",
        "\n",
        "print(greeting('my friend'))"
      ],
      "execution_count": 2,
      "outputs": [
        {
          "output_type": "stream",
          "text": [
            "Hello my friend\n"
          ],
          "name": "stdout"
        }
      ]
    },
    {
      "cell_type": "code",
      "metadata": {
        "colab": {
          "base_uri": "https://localhost:8080/"
        },
        "id": "0r5izvbW6A40",
        "outputId": "64595a22-86d9-4e03-efe1-bf50c9bdf61b"
      },
      "source": [
        "def greeting(name: str) -> str:\n",
        "    return f'Hello {name}'\n",
        "\n",
        "print(greeting(2))"
      ],
      "execution_count": 3,
      "outputs": [
        {
          "output_type": "stream",
          "text": [
            "Hello 2\n"
          ],
          "name": "stdout"
        }
      ]
    },
    {
      "cell_type": "code",
      "metadata": {
        "id": "Q4EiVX9G6FCQ"
      },
      "source": [
        "from typing import List, Set, Dict, Tuple, Optional\n",
        "\n",
        "x: int = 1\n",
        "pi: float = 3.14\n",
        "truthy: bool = True\n",
        "name: str = 'Python'\n",
        "test_bytes: bytes = b\"test\"\n",
        "\n",
        "my_list: List[int] = [1, 2, 3, 4]\n",
        "my_set: Set[int] = {3, 9}\n",
        "my_dict: Dict[str, float] = {'value': 2.0}\n",
        "my_tuple: Tuple[int, str] = (2, \"hello\")\n",
        "  \n",
        "# Use Optional[] for values that could be None\n",
        "# my_optional: Optional[str] = some_function()\n",
        "\n",
        "# if my_optional is not None:\n",
        "#     print(my_optional.upper())"
      ],
      "execution_count": 5,
      "outputs": []
    },
    {
      "cell_type": "code",
      "metadata": {
        "colab": {
          "base_uri": "https://localhost:8080/"
        },
        "id": "2fwmimaK6fRJ",
        "outputId": "46c38a44-7b5b-4816-fbe1-0a8f9a354473"
      },
      "source": [
        "from typing import Callable\n",
        "\n",
        "def currency(value: int, symbol: str = '€') -> str:\n",
        "    return f'{value} {symbol}'\n",
        "\n",
        "print(currency(15))\n",
        "print(currency(10, '£'))\n",
        "\n",
        "# For variable positional arguments (*args) and variable keyword arguments\n",
        "# (**kwargs) we only need to specify the expected value for one such argument:\n",
        "def some_function(*args: str, **kwds: int) -> None:\n",
        "    pass\n",
        "\n",
        "some_function('a', 'b', 'c')\n",
        "some_function(x=1, y=2, z=3)\n",
        "\n",
        "# Also we can use the Callable type to define callable values:\n",
        "# def async_query(on_success: Callable[[int], None],\n",
        "#                 on_error: Callable[[int, Exception], None]) -> None:"
      ],
      "execution_count": 7,
      "outputs": [
        {
          "output_type": "stream",
          "text": [
            "15 €\n",
            "10 £\n"
          ],
          "name": "stdout"
        }
      ]
    },
    {
      "cell_type": "code",
      "metadata": {
        "colab": {
          "base_uri": "https://localhost:8080/"
        },
        "id": "_R9AaLz66oRk",
        "outputId": "f4fd9d83-2b0d-4b9b-f97a-635bd2f7a179"
      },
      "source": [
        "class Point:\n",
        "    def __init__(self, x: float, y: float) -> None:\n",
        "        self.x = x\n",
        "        self.y = y\n",
        "\n",
        "    def __repr__(self) -> str:\n",
        "        return f'[x={self.x}, y={self.y}]'\n",
        "\n",
        "my_point: Point = Point(1.0, 5.0)\n",
        "print(my_point)"
      ],
      "execution_count": 9,
      "outputs": [
        {
          "output_type": "stream",
          "text": [
            "[x=1.0, y=5.0]\n"
          ],
          "name": "stdout"
        }
      ]
    },
    {
      "cell_type": "code",
      "metadata": {
        "id": "U8wF3b0d6t2z"
      },
      "source": [
        "from typing import Tuple\n",
        "\n",
        "Point = Tuple[float, float]\n",
        "\n",
        "point: Point = (1.0, 2.0)\n",
        "another_point: Point = (2.0, 8.5)"
      ],
      "execution_count": 10,
      "outputs": []
    },
    {
      "cell_type": "code",
      "metadata": {
        "id": "kk_JyMab7WMu"
      },
      "source": [
        "from typing import NewType, Tuple\n",
        "\n",
        "Point = NewType('Point', Tuple[float, float])\n",
        "\n",
        "point: Point = Point((1.0, 2.0))\n",
        "another_point: Point = Point((2.0, 8.5))"
      ],
      "execution_count": 11,
      "outputs": []
    }
  ]
}