{
  "nbformat": 4,
  "nbformat_minor": 0,
  "metadata": {
    "colab": {
      "name": "4 Things You Might Not Know About Python Functions.ipynb",
      "provenance": [],
      "authorship_tag": "ABX9TyPI7zxMn0Z93lK5sAI1avh2"
    },
    "kernelspec": {
      "name": "python3",
      "display_name": "Python 3"
    }
  },
  "cells": [
    {
      "cell_type": "markdown",
      "metadata": {
        "id": "sY7CmFz0LxnM"
      },
      "source": [
        "[Reference](https://towardsdatascience.com/4-things-you-might-not-know-about-python-functions-1ff988accd67)"
      ]
    },
    {
      "cell_type": "markdown",
      "metadata": {
        "id": "7Kc7KpyIMWtw"
      },
      "source": [
        "# 1. Introspecting Your Functions"
      ]
    },
    {
      "cell_type": "code",
      "metadata": {
        "colab": {
          "base_uri": "https://localhost:8080/"
        },
        "id": "2IAqs97ILv8T",
        "outputId": "2edc231e-c9b6-49ae-ce50-72e6e5a91271"
      },
      "source": [
        "def example():\n",
        "   \"\"\" This is an example docstring\n",
        "   through which I can provide more information\n",
        "   about the function\n",
        "   \"\"\"    \n",
        "   print(\"Hello World\")\n",
        "\n",
        "example.__doc__       #Returns the docstring attribute \n",
        "# example.__annotation__\n",
        "\n",
        "dir(example)"
      ],
      "execution_count": 3,
      "outputs": [
        {
          "output_type": "execute_result",
          "data": {
            "text/plain": [
              "['__annotations__',\n",
              " '__call__',\n",
              " '__class__',\n",
              " '__closure__',\n",
              " '__code__',\n",
              " '__defaults__',\n",
              " '__delattr__',\n",
              " '__dict__',\n",
              " '__dir__',\n",
              " '__doc__',\n",
              " '__eq__',\n",
              " '__format__',\n",
              " '__ge__',\n",
              " '__get__',\n",
              " '__getattribute__',\n",
              " '__globals__',\n",
              " '__gt__',\n",
              " '__hash__',\n",
              " '__init__',\n",
              " '__init_subclass__',\n",
              " '__kwdefaults__',\n",
              " '__le__',\n",
              " '__lt__',\n",
              " '__module__',\n",
              " '__name__',\n",
              " '__ne__',\n",
              " '__new__',\n",
              " '__qualname__',\n",
              " '__reduce__',\n",
              " '__reduce_ex__',\n",
              " '__repr__',\n",
              " '__setattr__',\n",
              " '__sizeof__',\n",
              " '__str__',\n",
              " '__subclasshook__']"
            ]
          },
          "metadata": {
            "tags": []
          },
          "execution_count": 3
        }
      ]
    },
    {
      "cell_type": "markdown",
      "metadata": {
        "id": "kHVnC85-Miv_"
      },
      "source": [
        "# 2. Function Type Annotations"
      ]
    },
    {
      "cell_type": "code",
      "metadata": {
        "colab": {
          "base_uri": "https://localhost:8080/"
        },
        "id": "L6bf5z9RMRw3",
        "outputId": "43196915-0bed-4b85-ce3a-fd8779343a90"
      },
      "source": [
        "def a_function(a: 'Int', b: 'String') -> \"Repeats a String\":\n",
        "   return a * b\n",
        "\n",
        "# The annotations inside the brackets indicate what type each argument should be. (Notice the use of colons, as opposed to the equals signs, as in the case of argument defaults)\n",
        "\n",
        "# The annotation after the function indicates the type of the return value\n",
        "\n",
        "a_function.__annotations__"
      ],
      "execution_count": 4,
      "outputs": [
        {
          "output_type": "execute_result",
          "data": {
            "text/plain": [
              "{'a': 'Int', 'b': 'String', 'return': 'Repeats a String'}"
            ]
          },
          "metadata": {
            "tags": []
          },
          "execution_count": 4
        }
      ]
    },
    {
      "cell_type": "markdown",
      "metadata": {
        "id": "HKoW6IaHM2lq"
      },
      "source": [
        "# 3. Args, Kwargs, Parameter Ordering and Iterable Unpacking"
      ]
    },
    {
      "cell_type": "code",
      "metadata": {
        "id": "3glcDsV2Mqzy"
      },
      "source": [
        "a, b, c = [1,2,3]"
      ],
      "execution_count": 5,
      "outputs": []
    },
    {
      "cell_type": "code",
      "metadata": {
        "colab": {
          "base_uri": "https://localhost:8080/"
        },
        "id": "LiVAJ6ucM38Y",
        "outputId": "f693f6d9-c270-484a-dd4c-936111cd42d9"
      },
      "source": [
        "a, *b = [1,2,3,4,5,6]\n",
        "print(a)\n",
        "print(b)"
      ],
      "execution_count": 6,
      "outputs": [
        {
          "output_type": "stream",
          "text": [
            "1\n",
            "[2, 3, 4, 5, 6]\n"
          ],
          "name": "stdout"
        }
      ]
    },
    {
      "cell_type": "code",
      "metadata": {
        "id": "2skDzowYM6cb"
      },
      "source": [
        "def my_func(*args, **kwargs):\n",
        "   sum(args)"
      ],
      "execution_count": 7,
      "outputs": []
    },
    {
      "cell_type": "code",
      "metadata": {
        "colab": {
          "base_uri": "https://localhost:8080/"
        },
        "id": "KHna6swaM8i8",
        "outputId": "a265fd48-61c6-48d0-eefb-8fdfdf927919"
      },
      "source": [
        "def myfunc(a, b, *args, kw, **kwargs):\n",
        "    print(args)\n",
        "    print(kwargs)\n",
        "\n",
        "myfunc(1, 2, 3, 4, 5, kw = 6, kw2 = 7, kw3 = 8)"
      ],
      "execution_count": 8,
      "outputs": [
        {
          "output_type": "stream",
          "text": [
            "(3, 4, 5)\n",
            "{'kw2': 7, 'kw3': 8}\n"
          ],
          "name": "stdout"
        }
      ]
    },
    {
      "cell_type": "markdown",
      "metadata": {
        "id": "yPVwVMv6NACK"
      },
      "source": [
        "# 4. Utilising Lambda Expressions"
      ]
    },
    {
      "cell_type": "code",
      "metadata": {
        "colab": {
          "base_uri": "https://localhost:8080/",
          "height": 232
        },
        "id": "XWffdKuZM_Av",
        "outputId": "ae1f6412-bc39-48ed-b8e9-473f84fe527e"
      },
      "source": [
        "arr = [1,3,6,2,13,15,17]\n",
        "\n",
        "list(filter(arr, lambda x: x > 10))"
      ],
      "execution_count": 9,
      "outputs": [
        {
          "output_type": "error",
          "ename": "TypeError",
          "evalue": "ignored",
          "traceback": [
            "\u001b[0;31m---------------------------------------------------------------------------\u001b[0m",
            "\u001b[0;31mTypeError\u001b[0m                                 Traceback (most recent call last)",
            "\u001b[0;32m<ipython-input-9-df8fbe809866>\u001b[0m in \u001b[0;36m<module>\u001b[0;34m()\u001b[0m\n\u001b[1;32m      1\u001b[0m \u001b[0marr\u001b[0m \u001b[0;34m=\u001b[0m \u001b[0;34m[\u001b[0m\u001b[0;36m1\u001b[0m\u001b[0;34m,\u001b[0m\u001b[0;36m3\u001b[0m\u001b[0;34m,\u001b[0m\u001b[0;36m6\u001b[0m\u001b[0;34m,\u001b[0m\u001b[0;36m2\u001b[0m\u001b[0;34m,\u001b[0m\u001b[0;36m13\u001b[0m\u001b[0;34m,\u001b[0m\u001b[0;36m15\u001b[0m\u001b[0;34m,\u001b[0m\u001b[0;36m17\u001b[0m\u001b[0;34m]\u001b[0m\u001b[0;34m\u001b[0m\u001b[0;34m\u001b[0m\u001b[0m\n\u001b[1;32m      2\u001b[0m \u001b[0;34m\u001b[0m\u001b[0m\n\u001b[0;32m----> 3\u001b[0;31m \u001b[0mlist\u001b[0m\u001b[0;34m(\u001b[0m\u001b[0mfilter\u001b[0m\u001b[0;34m(\u001b[0m\u001b[0marr\u001b[0m\u001b[0;34m,\u001b[0m \u001b[0;32mlambda\u001b[0m \u001b[0mx\u001b[0m\u001b[0;34m:\u001b[0m \u001b[0mx\u001b[0m \u001b[0;34m>\u001b[0m \u001b[0;36m10\u001b[0m\u001b[0;34m)\u001b[0m\u001b[0;34m)\u001b[0m\u001b[0;34m\u001b[0m\u001b[0;34m\u001b[0m\u001b[0m\n\u001b[0m",
            "\u001b[0;31mTypeError\u001b[0m: 'function' object is not iterable"
          ]
        }
      ]
    }
  ]
}