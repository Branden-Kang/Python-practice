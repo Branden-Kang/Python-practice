{
  "nbformat": 4,
  "nbformat_minor": 0,
  "metadata": {
    "colab": {
      "provenance": [],
      "authorship_tag": "ABX9TyMpRIMaGdJ7Y43iiHOudp8a"
    },
    "kernelspec": {
      "name": "python3",
      "display_name": "Python 3"
    },
    "language_info": {
      "name": "python"
    }
  },
  "cells": [
    {
      "cell_type": "markdown",
      "source": [
        "[Reference](https://pravash-techie.medium.com/python-going-beyond-basic-string-formatting-using-f-string-cba87ddb78fb)"
      ],
      "metadata": {
        "id": "SPSZHH-DdNpR"
      }
    },
    {
      "cell_type": "code",
      "execution_count": 2,
      "metadata": {
        "colab": {
          "base_uri": "https://localhost:8080/"
        },
        "id": "Ew4GLnX3cIPf",
        "outputId": "fd1c584a-152b-461f-80cb-ad5fa4c208a0"
      },
      "outputs": [
        {
          "output_type": "stream",
          "name": "stdout",
          "text": [
            "My name is John and I am 30 years old.\n",
            "age = 30\n",
            "num_val % 2 = 0\n"
          ]
        }
      ],
      "source": [
        "name = \"John\"\n",
        "age = 30\n",
        "num_val = 10\n",
        "print(f\"My name is {name} and I am {age} years old.\")\n",
        "print(f\"{age = }\")\n",
        "print(f\"{num_val % 2 = }\")"
      ]
    },
    {
      "cell_type": "code",
      "source": [
        "string = \"Hi There 😁\"\n",
        "print(f\"{string!a}\")\n",
        "print(f\"{string!r}\")\n",
        "print(f\"{string!s}\")"
      ],
      "metadata": {
        "colab": {
          "base_uri": "https://localhost:8080/"
        },
        "id": "kIcKnZ49dQwG",
        "outputId": "b241a9b4-4363-4491-eddf-6e3a64335f17"
      },
      "execution_count": 3,
      "outputs": [
        {
          "output_type": "stream",
          "name": "stdout",
          "text": [
            "'Hi There \\U0001f601'\n",
            "'Hi There 😁'\n",
            "Hi There 😁\n"
          ]
        }
      ]
    },
    {
      "cell_type": "code",
      "source": [
        "from datetime import datetime\n",
        "\n",
        "val = 22.225\n",
        "dt = datetime.utcnow()\n",
        "print(f'{dt=:%Y-%m-%d}')\n",
        "print(f'{val:.2f}')"
      ],
      "metadata": {
        "colab": {
          "base_uri": "https://localhost:8080/"
        },
        "id": "dXZIaXA6dR_v",
        "outputId": "ecbfcb1a-5178-476a-b238-bafe6054da13"
      },
      "execution_count": 10,
      "outputs": [
        {
          "output_type": "stream",
          "name": "stdout",
          "text": [
            "dt=2023-03-22\n",
            "22.23\n"
          ]
        }
      ]
    },
    {
      "cell_type": "code",
      "source": [
        "class OwnClass:\n",
        "    def __format__(self, format_type) -> str:\n",
        "        print(f'OwnClass __format__ called with {format_type=!r}')\n",
        "        return \"OwnClass()\"\n",
        "\n",
        "print(f'{OwnClass():my formatting type %%MY_FORMAT%%}')"
      ],
      "metadata": {
        "colab": {
          "base_uri": "https://localhost:8080/"
        },
        "id": "lSzeVQxUdUAz",
        "outputId": "55e6d9d0-5fb6-4f38-f614-119621e86512"
      },
      "execution_count": 11,
      "outputs": [
        {
          "output_type": "stream",
          "name": "stdout",
          "text": [
            "OwnClass __format__ called with format_type='my formatting type %%MY_FORMAT%%'\n",
            "OwnClass()\n"
          ]
        }
      ]
    },
    {
      "cell_type": "code",
      "source": [
        "sentence = '1 MB is equal to {:,.2f} bytes'.format(1000**2)\n",
        "print(sentence)"
      ],
      "metadata": {
        "colab": {
          "base_uri": "https://localhost:8080/"
        },
        "id": "burC8KxxdVOK",
        "outputId": "f4be23be-fbb0-4198-cd70-f4c1c0a11350"
      },
      "execution_count": 12,
      "outputs": [
        {
          "output_type": "stream",
          "name": "stdout",
          "text": [
            "1 MB is equal to 1,000,000.00 bytes\n"
          ]
        }
      ]
    },
    {
      "cell_type": "code",
      "source": [
        "name = \"John\"\n",
        "profession = \"Artist\"\n",
        "place = \"USA\"\n",
        "message = (\n",
        "    f\"Hi {name}. \"\n",
        "    f\"Your profession is - {profession}. \"\n",
        "    f\"And you are from {place}. \"\n",
        ")\n",
        "print(message)"
      ],
      "metadata": {
        "colab": {
          "base_uri": "https://localhost:8080/"
        },
        "id": "uFF0D25qdeOp",
        "outputId": "93440db5-5832-4a5e-fed6-ab0783f673cb"
      },
      "execution_count": 13,
      "outputs": [
        {
          "output_type": "stream",
          "name": "stdout",
          "text": [
            "Hi John. Your profession is - Artist. And you are from USA. \n"
          ]
        }
      ]
    },
    {
      "cell_type": "code",
      "source": [
        "age = 20\n",
        "message = f\"You are {'old' if age >= 18 else 'young'}\" \n",
        "print(message) # Output: You are old"
      ],
      "metadata": {
        "colab": {
          "base_uri": "https://localhost:8080/"
        },
        "id": "r2V_ZmD1dwci",
        "outputId": "896b6b52-63c0-4fbc-df97-9e3e93af5979"
      },
      "execution_count": 15,
      "outputs": [
        {
          "output_type": "stream",
          "name": "stdout",
          "text": [
            "You are old\n"
          ]
        }
      ]
    },
    {
      "cell_type": "code",
      "source": [
        "dct = {'a': 1, 'b': 2}\n",
        "newline = \"\\n\"  # \\escapes are not allowed inside f-strings\n",
        "print(f'{newline.join(f\"{key}: {value}\" for key, value in dct.items())}')"
      ],
      "metadata": {
        "colab": {
          "base_uri": "https://localhost:8080/"
        },
        "id": "Nd6GKkG_dyCr",
        "outputId": "8b692705-68d8-44e9-8a02-d7b1a63a03cf"
      },
      "execution_count": 16,
      "outputs": [
        {
          "output_type": "stream",
          "name": "stdout",
          "text": [
            "a: 1\n",
            "b: 2\n"
          ]
        }
      ]
    },
    {
      "cell_type": "code",
      "source": [
        "import timeit\n",
        "print(timeit.timeit(\"\"\"name = \"Eric\"; age = 74; '%s is %s.' % (name, age)\"\"\", number=10000))"
      ],
      "metadata": {
        "colab": {
          "base_uri": "https://localhost:8080/"
        },
        "id": "5fC2zgH_d1k_",
        "outputId": "92985f0d-0957-480c-ed82-143e74a6194f"
      },
      "execution_count": 17,
      "outputs": [
        {
          "output_type": "stream",
          "name": "stdout",
          "text": [
            "0.0031964789999960885\n"
          ]
        }
      ]
    },
    {
      "cell_type": "code",
      "source": [
        "import timeit\n",
        "print(timeit.timeit(\"\"\"name = \"Eric\"; age = 74; '{} is {}.'.format(name, age)\"\"\", number=10000))"
      ],
      "metadata": {
        "colab": {
          "base_uri": "https://localhost:8080/"
        },
        "id": "cA-XgQI8d37r",
        "outputId": "9606ea29-3cea-4c25-b8b9-e9d5762d87f9"
      },
      "execution_count": 18,
      "outputs": [
        {
          "output_type": "stream",
          "name": "stdout",
          "text": [
            "0.018160649999970246\n"
          ]
        }
      ]
    },
    {
      "cell_type": "code",
      "source": [
        "import timeit\n",
        "print(timeit.timeit(\"\"\"name = \"Eric\"; age = 74; '{name} is {age}.'\"\"\", number=10000))"
      ],
      "metadata": {
        "colab": {
          "base_uri": "https://localhost:8080/"
        },
        "id": "A9WH4fp3d5HX",
        "outputId": "1f026d62-ce7c-48ff-b7ad-1b5f08f287ec"
      },
      "execution_count": 19,
      "outputs": [
        {
          "output_type": "stream",
          "name": "stdout",
          "text": [
            "0.0003518070000154694\n"
          ]
        }
      ]
    }
  ]
}