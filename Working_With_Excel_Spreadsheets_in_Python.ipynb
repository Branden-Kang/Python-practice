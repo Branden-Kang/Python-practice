{
  "nbformat": 4,
  "nbformat_minor": 0,
  "metadata": {
    "colab": {
      "provenance": [],
      "authorship_tag": "ABX9TyNfVHWFe82H2DZqfqZ24Cm+"
    },
    "kernelspec": {
      "name": "python3",
      "display_name": "Python 3"
    },
    "language_info": {
      "name": "python"
    }
  },
  "cells": [
    {
      "cell_type": "markdown",
      "source": [
        "[Reference](https://gaurav-adarshi.medium.com/working-with-excel-spreadsheets-in-python-2c3c2171879d)"
      ],
      "metadata": {
        "id": "iZHXF1CgLuRV"
      }
    },
    {
      "cell_type": "code",
      "execution_count": 1,
      "metadata": {
        "colab": {
          "base_uri": "https://localhost:8080/"
        },
        "id": "Ezu3tc95Lg2f",
        "outputId": "bcf24675-7df3-43a3-8cc5-ade711bf9b28"
      },
      "outputs": [
        {
          "output_type": "stream",
          "name": "stdout",
          "text": [
            "Requirement already satisfied: pandas in /usr/local/lib/python3.10/dist-packages (2.0.3)\n",
            "Requirement already satisfied: openpyxl in /usr/local/lib/python3.10/dist-packages (3.1.4)\n",
            "Requirement already satisfied: xlrd in /usr/local/lib/python3.10/dist-packages (2.0.1)\n",
            "Collecting xlwt\n",
            "  Downloading xlwt-1.3.0-py2.py3-none-any.whl (99 kB)\n",
            "\u001b[2K     \u001b[90m━━━━━━━━━━━━━━━━━━━━━━━━━━━━━━━━━━━━━━━━\u001b[0m \u001b[32m100.0/100.0 kB\u001b[0m \u001b[31m2.2 MB/s\u001b[0m eta \u001b[36m0:00:00\u001b[0m\n",
            "\u001b[?25hCollecting xlsxwriter\n",
            "  Downloading XlsxWriter-3.2.0-py3-none-any.whl (159 kB)\n",
            "\u001b[2K     \u001b[90m━━━━━━━━━━━━━━━━━━━━━━━━━━━━━━━━━━━━━━━━\u001b[0m \u001b[32m159.9/159.9 kB\u001b[0m \u001b[31m7.4 MB/s\u001b[0m eta \u001b[36m0:00:00\u001b[0m\n",
            "\u001b[?25hRequirement already satisfied: python-dateutil>=2.8.2 in /usr/local/lib/python3.10/dist-packages (from pandas) (2.8.2)\n",
            "Requirement already satisfied: pytz>=2020.1 in /usr/local/lib/python3.10/dist-packages (from pandas) (2023.4)\n",
            "Requirement already satisfied: tzdata>=2022.1 in /usr/local/lib/python3.10/dist-packages (from pandas) (2024.1)\n",
            "Requirement already satisfied: numpy>=1.21.0 in /usr/local/lib/python3.10/dist-packages (from pandas) (1.25.2)\n",
            "Requirement already satisfied: et-xmlfile in /usr/local/lib/python3.10/dist-packages (from openpyxl) (1.1.0)\n",
            "Requirement already satisfied: six>=1.5 in /usr/local/lib/python3.10/dist-packages (from python-dateutil>=2.8.2->pandas) (1.16.0)\n",
            "Installing collected packages: xlwt, xlsxwriter\n",
            "Successfully installed xlsxwriter-3.2.0 xlwt-1.3.0\n"
          ]
        }
      ],
      "source": [
        "pip install pandas openpyxl xlrd xlwt xlsxwriter"
      ]
    },
    {
      "cell_type": "code",
      "source": [
        "import pandas as pd\n",
        "import openpyxl\n",
        "import xlrd\n",
        "import xlwt\n",
        "import xlsxwriter\n",
        "\n",
        "print(\"Libraries installed successfully\")"
      ],
      "metadata": {
        "colab": {
          "base_uri": "https://localhost:8080/"
        },
        "id": "l37T64_-Lxl3",
        "outputId": "62387c1b-7796-4a73-bbcc-861cd7022d65"
      },
      "execution_count": 2,
      "outputs": [
        {
          "output_type": "stream",
          "name": "stdout",
          "text": [
            "Libraries installed successfully\n"
          ]
        }
      ]
    },
    {
      "cell_type": "code",
      "source": [
        "import pandas as pd\n",
        "\n",
        "# Read a single sheet\n",
        "df = pd.read_excel('sample.xlsx', sheet_name='Allocation')\n",
        "print(df.head())\n",
        "\n",
        "# Read multiple sheets\n",
        "sheets = pd.read_excel('sample.xlsx', sheet_name=['Allocation', 'Holding'])\n",
        "print(sheets)\n",
        "\n",
        "# Reading .xls file\n",
        "df_xls = pd.read_excel('sample.xls')\n",
        "\n",
        "# Reading .xlsx file\n",
        "df_xlsx = pd.read_excel('sample.xlsx')"
      ],
      "metadata": {
        "id": "Bx43vW0FLyxr"
      },
      "execution_count": 3,
      "outputs": []
    },
    {
      "cell_type": "code",
      "source": [
        "# Create a DataFrame\n",
        "data = {'Name': ['John', 'Anna', 'Peter', 'Linda'], 'Age': [28, 24, 35, 32]}\n",
        "df = pd.DataFrame(data)\n",
        "\n",
        "# Write DataFrame to Excel\n",
        "df.to_excel('output.xlsx', index=False)"
      ],
      "metadata": {
        "id": "0bYEh6HmL34b"
      },
      "execution_count": 4,
      "outputs": []
    },
    {
      "cell_type": "code",
      "source": [
        "with pd.ExcelWriter('output_multi_sheets.xlsx') as writer:\n",
        "    df.to_excel(writer, sheet_name='Sheet1', index=False)\n",
        "    df.to_excel(writer, sheet_name='Sheet2', index=False)"
      ],
      "metadata": {
        "id": "2YtG0o6HL4jm"
      },
      "execution_count": 5,
      "outputs": []
    },
    {
      "cell_type": "code",
      "source": [
        "# Create a DataFrame\n",
        "data = {'Name': ['John', 'Anna', 'Peter', 'Linda'], 'Age': [28, 24, 35, 32]}\n",
        "df = pd.DataFrame(data)\n",
        "\n",
        "# Write DataFrame to Excel with formatting\n",
        "with pd.ExcelWriter('formatted_output.xlsx', engine='xlsxwriter') as writer:\n",
        "    df.to_excel(writer, sheet_name='Sheet1', index=False)\n",
        "\n",
        "    # Get the xlsxwriter workbook and worksheet objects.\n",
        "    workbook  = writer.book\n",
        "    worksheet = writer.sheets['Sheet1']\n",
        "\n",
        "    # Add a format.\n",
        "    format1 = workbook.add_format({'num_format': '0.00'})\n",
        "\n",
        "    # Set the column width and format.\n",
        "    worksheet.set_column('B:B', 18, format1)"
      ],
      "metadata": {
        "id": "AyXglthGL5wO"
      },
      "execution_count": 6,
      "outputs": []
    },
    {
      "cell_type": "code",
      "source": [
        "# Load existing file\n",
        "df_existing = pd.read_excel('output.xlsx')\n",
        "\n",
        "# New data\n",
        "new_data = {'Name': ['Chris', 'Sarah'], 'Age': [22, 30]}\n",
        "df_new = pd.DataFrame(new_data)\n",
        "\n",
        "# Append new data\n",
        "df_combined = df_existing._append(df_new, ignore_index=True)\n",
        "\n",
        "# Save to the same file\n",
        "df_combined.to_excel('output.xlsx', index=False)"
      ],
      "metadata": {
        "id": "hLOWkbbjL7Bb"
      },
      "execution_count": 7,
      "outputs": []
    },
    {
      "cell_type": "code",
      "source": [
        "# Load existing file\n",
        "df = pd.read_excel('output.xlsx')\n",
        "\n",
        "# Modify a cell value\n",
        "df.at[1, 'Age'] = 30\n",
        "\n",
        "# Save the changes\n",
        "df.to_excel('output.xlsx', index=False)"
      ],
      "metadata": {
        "id": "7AkWE2L4L8JH"
      },
      "execution_count": 8,
      "outputs": []
    },
    {
      "cell_type": "code",
      "source": [
        "# Load existing file\n",
        "df = pd.read_excel('./output.xlsx')\n",
        "\n",
        "# Insert a new column\n",
        "df['New_Column'] = ['Value1', 'Value2', 'Value3', 'Value4', 'Value5', 'Value6']\n",
        "\n",
        "# Save the changes\n",
        "df.to_excel('./output.xlsx', index=False)"
      ],
      "metadata": {
        "id": "yFi2u2NML9WH"
      },
      "execution_count": 10,
      "outputs": []
    },
    {
      "cell_type": "code",
      "source": [
        "df.drop(columns=['New_Column'], inplace=True)"
      ],
      "metadata": {
        "id": "0_nX7PmDL-mY"
      },
      "execution_count": 11,
      "outputs": []
    },
    {
      "cell_type": "code",
      "source": [
        "# Create a DataFrame\n",
        "data = {'Number1': [10, 20, 30], 'Number2': [1, 2, 3]}\n",
        "df = pd.DataFrame(data)\n",
        "\n",
        "# Write DataFrame to Excel with formulas\n",
        "with pd.ExcelWriter('formulas.xlsx', engine='xlsxwriter') as writer:\n",
        "    df.to_excel(writer, sheet_name='Sheet1', index=False)\n",
        "\n",
        "    workbook  = writer.book\n",
        "    worksheet = writer.sheets['Sheet1']\n",
        "\n",
        "    # Write a formula\n",
        "    worksheet.write_formula('C2', '=A2+B2')"
      ],
      "metadata": {
        "id": "vdu9eQWpMBiu"
      },
      "execution_count": 12,
      "outputs": []
    },
    {
      "cell_type": "code",
      "source": [
        "# Create a DataFrame\n",
        "data = {'Name': ['John', 'Anna', 'Peter', 'Linda'], 'Age': [28, 24, 35, 32]}\n",
        "df = pd.DataFrame(data)\n",
        "\n",
        "# Write DataFrame to Excel and add a chart\n",
        "with pd.ExcelWriter('charts.xlsx', engine='xlsxwriter') as writer:\n",
        "    df.to_excel(writer, sheet_name='Sheet1', index=False)\n",
        "\n",
        "    workbook  = writer.book\n",
        "    worksheet = writer.sheets['Sheet1']\n",
        "\n",
        "    # Create a chart object.\n",
        "    chart = workbook.add_chart({'type': 'column'})\n",
        "\n",
        "    # Configure the chart with data series.\n",
        "    chart.add_series({\n",
        "        'categories': ['Sheet1', 1, 0, 4, 0],\n",
        "        'values':     ['Sheet1', 1, 1, 4, 1],\n",
        "    })\n",
        "\n",
        "    # Insert the chart into the worksheet.\n",
        "    worksheet.insert_chart('E2', chart)"
      ],
      "metadata": {
        "id": "WvzmVXXLMCs4"
      },
      "execution_count": 14,
      "outputs": []
    },
    {
      "cell_type": "code",
      "source": [
        "# Create a DataFrame\n",
        "data = {'Name': ['John', 'Anna', 'Peter', 'Linda'], 'Score': [85, 78, 92, 88]}\n",
        "df = pd.DataFrame(data)\n",
        "\n",
        "# Write DataFrame to Excel with conditional formatting\n",
        "with pd.ExcelWriter('conditional_formatting.xlsx', engine='xlsxwriter') as writer:\n",
        "    df.to_excel(writer, sheet_name='Sheet1', index=False)\n",
        "\n",
        "    workbook  = writer.book\n",
        "    worksheet = writer.sheets['Sheet1']\n",
        "\n",
        "    # Apply conditional formatting\n",
        "    worksheet.conditional_format('B2:B5', {'type': '3_color_scale'})"
      ],
      "metadata": {
        "id": "50F589wYMD5o"
      },
      "execution_count": 15,
      "outputs": []
    },
    {
      "cell_type": "code",
      "source": [
        "try:\n",
        "    df = pd.read_excel('non_existent_file.xlsx')\n",
        "except FileNotFoundError as e:\n",
        "    print(f\"Error: {e}\")"
      ],
      "metadata": {
        "colab": {
          "base_uri": "https://localhost:8080/"
        },
        "id": "QSPDHdeBMFnZ",
        "outputId": "a99fd18d-acaf-45f0-dca4-295d5b680ccf"
      },
      "execution_count": 18,
      "outputs": [
        {
          "output_type": "stream",
          "name": "stdout",
          "text": [
            "Error: [Errno 2] No such file or directory: 'non_existent_file.xlsx'\n"
          ]
        }
      ]
    },
    {
      "cell_type": "code",
      "source": [
        "import logging\n",
        "\n",
        "# Configure logging\n",
        "logging.basicConfig(filename='app.log', level=logging.ERROR)\n",
        "\n",
        "try:\n",
        "    df = pd.read_excel('non_existent_file.xlsx')\n",
        "except FileNotFoundError as e:\n",
        "    logging.error(f\"Error: {e}\")"
      ],
      "metadata": {
        "colab": {
          "base_uri": "https://localhost:8080/"
        },
        "id": "lpE7nje9MHj4",
        "outputId": "7cbabe90-c9bb-4114-8dc6-f4770038701c"
      },
      "execution_count": 19,
      "outputs": [
        {
          "output_type": "stream",
          "name": "stderr",
          "text": [
            "ERROR:root:Error: [Errno 2] No such file or directory: 'non_existent_file.xlsx'\n"
          ]
        }
      ]
    },
    {
      "cell_type": "code",
      "source": [
        "from sqlalchemy import create_engine\n",
        "\n",
        "# Create an engine\n",
        "engine = create_engine('sqlite:///my_database.db')\n",
        "\n",
        "# Read from database\n",
        "df = pd.read_sql('SELECT * FROM my_table', engine)\n",
        "\n",
        "# Write to Excel\n",
        "df.to_excel('from_database.xlsx', index=False)\n",
        "\n",
        "df"
      ],
      "metadata": {
        "id": "c0ny9R7FMLOx"
      },
      "execution_count": 20,
      "outputs": []
    }
  ]
}