{
  "nbformat": 4,
  "nbformat_minor": 0,
  "metadata": {
    "colab": {
      "name": "Scikit Learn 1.0 in Python.ipynb",
      "provenance": [],
      "authorship_tag": "ABX9TyOX/YG93UzMkfurxvnzhs+5"
    },
    "kernelspec": {
      "name": "python3",
      "display_name": "Python 3"
    },
    "language_info": {
      "name": "python"
    }
  },
  "cells": [
    {
      "cell_type": "markdown",
      "source": [
        "[Reference](https://medium.com/geekculture/scikit-learn-1-0-new-features-in-python-machine-learning-library-d6ffea7b88dc)"
      ],
      "metadata": {
        "id": "Dfb1PLmLO91v"
      }
    },
    {
      "cell_type": "markdown",
      "source": [
        "# Install Scikit-learn v1.0\n"
      ],
      "metadata": {
        "id": "9Ku2dM5NPAUS"
      }
    },
    {
      "cell_type": "code",
      "execution_count": 1,
      "metadata": {
        "colab": {
          "base_uri": "https://localhost:8080/"
        },
        "id": "jZTm0XOTOtdA",
        "outputId": "7c8277b0-f49e-4fe8-e772-a5b99b51c78f"
      },
      "outputs": [
        {
          "output_type": "stream",
          "name": "stdout",
          "text": [
            "Requirement already satisfied: scikit-learn in /usr/local/lib/python3.7/dist-packages (1.0.2)\n",
            "Requirement already satisfied: threadpoolctl>=2.0.0 in /usr/local/lib/python3.7/dist-packages (from scikit-learn) (3.1.0)\n",
            "Requirement already satisfied: joblib>=0.11 in /usr/local/lib/python3.7/dist-packages (from scikit-learn) (1.1.0)\n",
            "Requirement already satisfied: numpy>=1.14.6 in /usr/local/lib/python3.7/dist-packages (from scikit-learn) (1.21.5)\n",
            "Requirement already satisfied: scipy>=1.1.0 in /usr/local/lib/python3.7/dist-packages (from scikit-learn) (1.4.1)\n"
          ]
        }
      ],
      "source": [
        "pip install --upgrade scikit-learn"
      ]
    },
    {
      "cell_type": "code",
      "source": [
        "# conda install\n",
        "# # conda install -c conda-forge scikit-learn"
      ],
      "metadata": {
        "id": "9xgjY5YMPBgj"
      },
      "execution_count": 2,
      "outputs": []
    },
    {
      "cell_type": "markdown",
      "source": [
        "# New Flexible Plotting API"
      ],
      "metadata": {
        "id": "qLGJeVrwPHYB"
      }
    },
    {
      "cell_type": "markdown",
      "source": [
        "## (a) from_estimator()\n"
      ],
      "metadata": {
        "id": "yK9__-p0PIsx"
      }
    },
    {
      "cell_type": "code",
      "source": [
        "import matplotlib.pyplot as plt\n",
        "from sklearn.datasets import make_classification\n",
        "from sklearn.metrics import PrecisionRecallDisplay\n",
        "from sklearn.model_selection import train_test_split\n",
        "from sklearn.ensemble import RandomForestClassifier\n",
        " \n",
        "X, y = make_classification(random_state=42)\n",
        "X_train, X_test, y_train, y_test = train_test_split(X, y,test_size=0.2)\n",
        "                                                    \n",
        "classifier= RandomForestClassifier(random_state=42)\n",
        "classifier.fit(X_train, y_train)\n",
        " \n",
        "disp_confusion = PrecisionRecallDisplay.from_estimator(classifier,\n",
        "                                                       X_test,\n",
        "                                                       y_test) \n",
        "                                    \n",
        "                                                    \n",
        "plt.show()"
      ],
      "metadata": {
        "colab": {
          "base_uri": "https://localhost:8080/",
          "height": 279
        },
        "id": "n9uBZhYzPEpL",
        "outputId": "e1637058-31ec-42c0-db52-6dec067d97fd"
      },
      "execution_count": 3,
      "outputs": [
        {
          "output_type": "display_data",
          "data": {
            "image/png": "[encoded data removed]",
            "text/plain": [
              "<Figure size 432x288 with 1 Axes>"
            ]
          },
          "metadata": {
            "needs_background": "light"
          }
        }
      ]
    },
    {
      "cell_type": "markdown",
      "source": [
        "## (b) from_predicitons()\n"
      ],
      "metadata": {
        "id": "NpBFrvdHPNV2"
      }
    },
    {
      "cell_type": "code",
      "source": [
        "import matplotlib.pyplot as plt\n",
        "from sklearn.datasets import make_classification\n",
        "from sklearn.metrics import confusion_matrix, ConfusionMatrixDisplay\n",
        "from sklearn.model_selection import train_test_split\n",
        "from sklearn.ensemble import RandomForestClassifier\n",
        " \n",
        "X, y = make_classification(random_state=42)\n",
        "X_train, X_test, y_train, y_test = train_test_split(X, y,test_size=0.2)\n",
        "                                                    \n",
        "classifier= RandomForestClassifier(random_state=42)\n",
        "classifier.fit(X_train, y_train)\n",
        " \n",
        "predictions = classifier.predict(X_test)\n",
        "    \n",
        "disp_confusion = ConfusionMatrixDisplay.from_predictions(predictions,\n",
        "                                                       y_test,\n",
        "                               display_labels=classifier.classes_) \n",
        "                                    \n",
        "                                                    \n",
        "plt.show()"
      ],
      "metadata": {
        "colab": {
          "base_uri": "https://localhost:8080/",
          "height": 283
        },
        "id": "Dz1JxcgjPK8L",
        "outputId": "8b83e170-616e-494f-b87f-b24581f69c54"
      },
      "execution_count": 4,
      "outputs": [
        {
          "output_type": "display_data",
          "data": {
            "image/png": "[encoded data removed]",
            "text/plain": [
              "<Figure size 432x288 with 2 Axes>"
            ]
          },
          "metadata": {
            "needs_background": "light"
          }
        }
      ]
    },
    {
      "cell_type": "markdown",
      "source": [
        "# Feature Names Support (Pandas Dataframe)"
      ],
      "metadata": {
        "id": "tyGxDP2KPSe9"
      }
    },
    {
      "cell_type": "code",
      "source": [
        "from sklearn.preprocessing import StandardScaler\n",
        "import pandas as pd\n",
        " \n",
        "X = pd.DataFrame([[1, 2, 3], [4, 5, 6]], columns=[\"age\", \"days\", \"duration\"])\n",
        "scalar = StandardScaler().fit(X)\n",
        " \n",
        "print(scalar.feature_names_in_)"
      ],
      "metadata": {
        "colab": {
          "base_uri": "https://localhost:8080/"
        },
        "id": "jj99bbgcPQIp",
        "outputId": "773bffdc-9642-47f8-a6cf-3b3f0174a147"
      },
      "execution_count": 5,
      "outputs": [
        {
          "output_type": "stream",
          "name": "stdout",
          "text": [
            "['age' 'days' 'duration']\n"
          ]
        }
      ]
    },
    {
      "cell_type": "markdown",
      "source": [
        "# Pearson’s R Correlation Coefficient"
      ],
      "metadata": {
        "id": "wWNH1eqLPXNv"
      }
    },
    {
      "cell_type": "code",
      "source": [
        "from sklearn.datasets import fetch_california_housing\n",
        "from sklearn.feature_selection import r_regression \n",
        " \n",
        "X, y = fetch_california_housing(return_X_y=True)\n",
        " \n",
        "print(X.shape)\n",
        " \n",
        "p = r_regression(X,y) \n",
        " \n",
        "print(p)"
      ],
      "metadata": {
        "colab": {
          "base_uri": "https://localhost:8080/"
        },
        "id": "2zccTB9DPUWw",
        "outputId": "123161cf-1e35-4bfd-a94b-7bb9c9a0fb32"
      },
      "execution_count": 6,
      "outputs": [
        {
          "output_type": "stream",
          "name": "stdout",
          "text": [
            "(20640, 8)\n",
            "[ 0.68807521  0.10562341  0.15194829 -0.04670051 -0.02464968 -0.02373741\n",
            " -0.14416028 -0.04596662]\n"
          ]
        }
      ]
    },
    {
      "cell_type": "markdown",
      "source": [
        "# OneHot Encoder Improvements"
      ],
      "metadata": {
        "id": "oT9OnnHAPbVh"
      }
    },
    {
      "cell_type": "code",
      "source": [
        "from sklearn.preprocessing import OneHotEncoder\n",
        " \n",
        "enc = OneHotEncoder(handle_unknown='ignore')\n",
        " \n",
        "X = [['secondary'], ['primary'], ['primary']]\n",
        " \n",
        "enc.fit(X)\n",
        " \n",
        "transformed = enc.transform([['degree'], ['primary'],['secondary']]).toarray()\n",
        " \n",
        "print(transformed)"
      ],
      "metadata": {
        "colab": {
          "base_uri": "https://localhost:8080/"
        },
        "id": "i8yg5l7-PZrY",
        "outputId": "53d4c98a-16f9-489e-bc48-7e179ccd2630"
      },
      "execution_count": 7,
      "outputs": [
        {
          "output_type": "stream",
          "name": "stdout",
          "text": [
            "[[0. 0.]\n",
            " [1. 0.]\n",
            " [0. 1.]]\n"
          ]
        }
      ]
    },
    {
      "cell_type": "markdown",
      "source": [
        "# Histogram-based Gradient Boosting Models are now Stable"
      ],
      "metadata": {
        "id": "hyfzcUuXPegQ"
      }
    },
    {
      "cell_type": "code",
      "source": [
        "from sklearn.ensemble import HistGradientBoostingClassifier, HistGradientBoostingRegressor"
      ],
      "metadata": {
        "id": "_KJ1GcTEPc-j"
      },
      "execution_count": 8,
      "outputs": []
    }
  ]
}