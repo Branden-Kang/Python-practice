{
  "nbformat": 4,
  "nbformat_minor": 0,
  "metadata": {
    "colab": {
      "name": "Debug Python program with Snoop.ipynb",
      "provenance": [],
      "collapsed_sections": [],
      "authorship_tag": "ABX9TyNCzx1FWdZ4xpjukrsUq4Ni"
    },
    "kernelspec": {
      "name": "python3",
      "display_name": "Python 3"
    },
    "language_info": {
      "name": "python"
    }
  },
  "cells": [
    {
      "cell_type": "markdown",
      "source": [
        "[Reference](https://medium.com/@sreeku.ralla/debug-python-program-with-snoop-f0df3c90f5b3)"
      ],
      "metadata": {
        "id": "k2j7Lvn6JBNk"
      }
    },
    {
      "cell_type": "code",
      "source": [
        "!pip install snoop"
      ],
      "metadata": {
        "colab": {
          "base_uri": "https://localhost:8080/"
        },
        "id": "2TR4pVERJIqQ",
        "outputId": "a9603d12-16bf-4893-a600-cffa72f3e1e1"
      },
      "execution_count": 1,
      "outputs": [
        {
          "output_type": "stream",
          "name": "stdout",
          "text": [
            "Looking in indexes: https://pypi.org/simple, https://us-python.pkg.dev/colab-wheels/public/simple/\n",
            "Collecting snoop\n",
            "  Downloading snoop-0.4.1-py2.py3-none-any.whl (27 kB)\n",
            "Collecting executing\n",
            "  Downloading executing-0.10.0-py2.py3-none-any.whl (17 kB)\n",
            "Collecting cheap-repr>=0.4.0\n",
            "  Downloading cheap_repr-0.5.1-py2.py3-none-any.whl (12 kB)\n",
            "Collecting asttokens\n",
            "  Downloading asttokens-2.0.8-py2.py3-none-any.whl (23 kB)\n",
            "Requirement already satisfied: pygments in /usr/local/lib/python3.7/dist-packages (from snoop) (2.6.1)\n",
            "Requirement already satisfied: six in /usr/local/lib/python3.7/dist-packages (from snoop) (1.15.0)\n",
            "Installing collected packages: executing, cheap-repr, asttokens, snoop\n",
            "Successfully installed asttokens-2.0.8 cheap-repr-0.5.1 executing-0.10.0 snoop-0.4.1\n"
          ]
        }
      ]
    },
    {
      "cell_type": "code",
      "execution_count": 2,
      "metadata": {
        "colab": {
          "base_uri": "https://localhost:8080/"
        },
        "id": "YSzDFkJFJAO7",
        "outputId": "d046b9c9-a427-4c01-e2af-4dd93be7ac6a"
      },
      "outputs": [
        {
          "output_type": "stream",
          "name": "stderr",
          "text": [
            "\n",
            "PYDEV DEBUGGER WARNING:\n",
            "sys.settrace() should not be used when the debugger is being used.\n",
            "This may cause the debugger to stop working correctly.\n",
            "If this is needed, please check: \n",
            "http://pydev.blogspot.com/2007/06/why-cant-pydev-debugger-work-with.html\n",
            "to see how to restore the debug tracing back correctly.\n",
            "Call Location:\n",
            "  File \"/usr/local/lib/python3.7/dist-packages/snoop/tracer.py\", line 207, in __enter__\n",
            "    sys.settrace(self.trace)\n",
            "\n",
            "12:13:06.40 >>> Call to binarySearch in File \"<ipython-input-2-8afbaba16312>\", line 4\n",
            "12:13:06.40 ...... lst = [1, 2, 3, 4, 5, 6, 7, 8, 9, 10]\n",
            "12:13:06.40 ...... len(lst) = 10\n",
            "12:13:06.40 ...... item = 100\n",
            "12:13:06.40    4 | def binarySearch(lst, item):\n",
            "12:13:06.41    6 |     low = 0\n",
            "12:13:06.41    7 |     high = len(lst) - 1\n",
            "12:13:06.41 .......... high = 9\n",
            "12:13:06.41    9 |     while low < high:\n",
            "12:13:06.41   11 |         mid = (low + high)//2\n",
            "12:13:06.42 .............. mid = 4\n",
            "12:13:06.42   13 |         if lst[mid] == item:\n",
            "12:13:06.42   15 |         elif lst[mid] > item:\n",
            "12:13:06.43   18 |             low = mid + 1\n",
            "12:13:06.43 .................. low = 5\n",
            "12:13:06.43    9 |     while low < high:\n",
            "12:13:06.43   11 |         mid = (low + high)//2\n",
            "12:13:06.44 .............. mid = 7\n",
            "12:13:06.44   13 |         if lst[mid] == item:\n",
            "12:13:06.44   15 |         elif lst[mid] > item:\n",
            "12:13:06.44   18 |             low = mid + 1\n",
            "12:13:06.45 .................. low = 8\n",
            "12:13:06.45    9 |     while low < high:\n",
            "12:13:06.45   11 |         mid = (low + high)//2\n",
            "12:13:06.45 .............. mid = 8\n",
            "12:13:06.45   13 |         if lst[mid] == item:\n",
            "12:13:06.45   15 |         elif lst[mid] > item:\n",
            "12:13:06.46   18 |             low = mid + 1\n",
            "12:13:06.46 .................. low = 9\n",
            "12:13:06.46    9 |     while low < high:\n",
            "12:13:06.46   20 |     return -1\n",
            "12:13:06.47 <<< Return value from binarySearch: -1\n",
            "\n",
            "PYDEV DEBUGGER WARNING:\n",
            "sys.settrace() should not be used when the debugger is being used.\n",
            "This may cause the debugger to stop working correctly.\n",
            "If this is needed, please check: \n",
            "http://pydev.blogspot.com/2007/06/why-cant-pydev-debugger-work-with.html\n",
            "to see how to restore the debug tracing back correctly.\n",
            "Call Location:\n",
            "  File \"/usr/local/lib/python3.7/dist-packages/snoop/tracer.py\", line 214, in __exit__\n",
            "    sys.settrace(previous_trace)\n",
            "\n"
          ]
        },
        {
          "output_type": "stream",
          "name": "stdout",
          "text": [
            "search failed\n"
          ]
        }
      ],
      "source": [
        "import snoop\n",
        "\n",
        "@snoop\n",
        "def binarySearch(lst, item):\n",
        "    \n",
        "    low = 0\n",
        "    high = len(lst) - 1\n",
        "    \n",
        "    while low < high:\n",
        "        \n",
        "        mid = (low + high)//2\n",
        "        \n",
        "        if lst[mid] == item:\n",
        "            return mid\n",
        "        elif lst[mid] > item:\n",
        "            high = mid - 1\n",
        "        else:\n",
        "            low = mid + 1\n",
        "    \n",
        "    return -1\n",
        "\n",
        "if __name__ == \"__main__\":\n",
        "    \n",
        "    samp = [1,2,3,4,5,6,7,8,9,10]\n",
        "    result = binarySearch(samp,100)\n",
        "    \n",
        "    if result == -1:\n",
        "        print(\"search failed\")\n",
        "    else: \n",
        "        print(f\"element found at {result}\")"
      ]
    }
  ]
}