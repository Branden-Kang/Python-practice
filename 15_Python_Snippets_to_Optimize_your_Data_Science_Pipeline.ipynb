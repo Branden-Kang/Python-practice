{
  "nbformat": 4,
  "nbformat_minor": 0,
  "metadata": {
    "colab": {
      "name": "15 Python Snippets to Optimize your Data Science Pipeline.ipynb",
      "provenance": [],
      "authorship_tag": "ABX9TyOIYMh17S+6QvOycI6ghX4C"
    },
    "kernelspec": {
      "name": "python3",
      "display_name": "Python 3"
    },
    "language_info": {
      "name": "python"
    }
  },
  "cells": [
    {
      "cell_type": "markdown",
      "metadata": {
        "id": "eqc2qAOhN9YZ"
      },
      "source": [
        "[Reference](https://python.plainenglish.io/15-data-science-snippets-to-optimize-your-coding-pipeline-93a5625d48cd)"
      ]
    },
    {
      "cell_type": "markdown",
      "metadata": {
        "id": "fOKybPh2OEdn"
      },
      "source": [
        "# 1. Loading multiple files with glob and list comprehension\n",
        "\n"
      ]
    },
    {
      "cell_type": "code",
      "metadata": {
        "id": "rXtUiFncNl1P"
      },
      "source": [
        "import glob\n",
        "import pandas as pd\n",
        "csv_files = glob.glob(\"path/to/folder/with/csvs/*.csv\")\n",
        "dfs = [pd.read_csv(filename) for filename in csv_files]"
      ],
      "execution_count": 1,
      "outputs": []
    },
    {
      "cell_type": "markdown",
      "metadata": {
        "id": "y7fLja_wOQiV"
      },
      "source": [
        "# 2. Getting unique values from a column table"
      ]
    },
    {
      "cell_type": "code",
      "metadata": {
        "id": "f70CwPMVOPPR"
      },
      "source": [
        "import pandas as pd\n",
        "df = pd.read_csv(\"path/to/csv/file.csv\")\n",
        "df[\"Item_Identifier\"].unique()array(['FDA15', 'DRC01', 'FDN15', ..., 'NCF55', 'NCW30', 'NCW05'],\n",
        "      dtype=object)"
      ],
      "execution_count": 2,
      "outputs": []
    },
    {
      "cell_type": "markdown",
      "metadata": {
        "id": "w-Goa_qmOUZv"
      },
      "source": [
        "# 3. Display pandas dataframes side by side"
      ]
    },
    {
      "cell_type": "code",
      "metadata": {
        "id": "H6lD7KtROS9U"
      },
      "source": [
        "from IPython.display import display_html\n",
        "from itertools import chain,cycledef display_side_by_side(*args,titles=cycle([''])):\n",
        "    # source: https://stackoverflow.com/questions/38783027/jupyter-notebook-display-two-pandas-tables-side-by-side\n",
        "    html_str=''\n",
        "    for df,title in zip(args, chain(titles,cycle(['</br>'])) ):\n",
        "        html_str+='<th style=\"text-align:center\"><td style=\"vertical-align:top\">'\n",
        "        html_str+=\"<br>\"\n",
        "        html_str+=f'<h2>{title}</h2>'\n",
        "        html_str+=df.to_html().replace('table','table style=\"display:inline\"')\n",
        "        html_str+='</td></th>'\n",
        "    display_html(html_str,raw=True)\n",
        "df1 = pd.read_csv(\"file.csv\")\n",
        "df2 = pd.read_csv(\"file2\")\n",
        "display_side_by_side(df1.head(),df2.head(), titles=['Sales','Advertising'])\n",
        "### Output"
      ],
      "execution_count": 3,
      "outputs": []
    },
    {
      "cell_type": "markdown",
      "metadata": {
        "id": "biPu9W1kOXIj"
      },
      "source": [
        "# 4. Remove all NaNs in pandas dataframe"
      ]
    },
    {
      "cell_type": "code",
      "metadata": {
        "colab": {
          "base_uri": "https://localhost:8080/",
          "height": 142
        },
        "id": "JhjJdHqkOV5F",
        "outputId": "f901b0ee-19dc-49e8-a144-88344c042a19"
      },
      "source": [
        "import pandas as pd\n",
        "df = pd.DataFrame(dict(a=[1,2,3,None]))\n",
        "df\n",
        "df.dropna(inplace=True)\n",
        "df"
      ],
      "execution_count": 7,
      "outputs": [
        {
          "output_type": "execute_result",
          "data": {
            "text/html": [
              "<div>\n",
              "<style scoped>\n",
              "    .dataframe tbody tr th:only-of-type {\n",
              "        vertical-align: middle;\n",
              "    }\n",
              "\n",
              "    .dataframe tbody tr th {\n",
              "        vertical-align: top;\n",
              "    }\n",
              "\n",
              "    .dataframe thead th {\n",
              "        text-align: right;\n",
              "    }\n",
              "</style>\n",
              "<table border=\"1\" class=\"dataframe\">\n",
              "  <thead>\n",
              "    <tr style=\"text-align: right;\">\n",
              "      <th></th>\n",
              "      <th>a</th>\n",
              "    </tr>\n",
              "  </thead>\n",
              "  <tbody>\n",
              "    <tr>\n",
              "      <th>0</th>\n",
              "      <td>1.0</td>\n",
              "    </tr>\n",
              "    <tr>\n",
              "      <th>1</th>\n",
              "      <td>2.0</td>\n",
              "    </tr>\n",
              "    <tr>\n",
              "      <th>2</th>\n",
              "      <td>3.0</td>\n",
              "    </tr>\n",
              "  </tbody>\n",
              "</table>\n",
              "</div>"
            ],
            "text/plain": [
              "     a\n",
              "0  1.0\n",
              "1  2.0\n",
              "2  3.0"
            ]
          },
          "metadata": {},
          "execution_count": 7
        }
      ]
    },
    {
      "cell_type": "markdown",
      "metadata": {
        "id": "nbiJyz5YOd7e"
      },
      "source": [
        "# 5. Show number of NaN entries in DataFrame columns"
      ]
    },
    {
      "cell_type": "code",
      "metadata": {
        "colab": {
          "base_uri": "https://localhost:8080/"
        },
        "id": "TFswgveROYYT",
        "outputId": "406d6e96-1bb6-4c37-c3e6-8b3645dae0ee"
      },
      "source": [
        "def findNaNCols(df):\n",
        "    for col in df:\n",
        "        print(f\"Column: {col}\")\n",
        "        num_NaNs = df[col].isnull().sum()\n",
        "        print(f\"Number of NaNs: {num_NaNs}\")\n",
        "df = pd.DataFrame(dict(a=[1,2,3,None],b=[None,None,5,6]))\n",
        "findNaNCols(df)"
      ],
      "execution_count": 8,
      "outputs": [
        {
          "output_type": "stream",
          "name": "stdout",
          "text": [
            "Column: a\n",
            "Number of NaNs: 1\n",
            "Column: b\n",
            "Number of NaNs: 2\n"
          ]
        }
      ]
    },
    {
      "cell_type": "markdown",
      "metadata": {
        "id": "DojIYEHAOlSj"
      },
      "source": [
        "# 6. Transforming columns with .apply and lambda functions"
      ]
    },
    {
      "cell_type": "code",
      "metadata": {
        "colab": {
          "base_uri": "https://localhost:8080/",
          "height": 204
        },
        "id": "vkv8zY-DOkQn",
        "outputId": "7711b025-6983-44e4-a283-adb29d61bd54"
      },
      "source": [
        "df = pd.DataFrame(dict(a=[10,20,30,40,50]))\n",
        "square = lambda x: x**2\n",
        "df[\"a\"]=df[\"a\"].apply(square)\n",
        "df"
      ],
      "execution_count": 9,
      "outputs": [
        {
          "output_type": "execute_result",
          "data": {
            "text/html": [
              "<div>\n",
              "<style scoped>\n",
              "    .dataframe tbody tr th:only-of-type {\n",
              "        vertical-align: middle;\n",
              "    }\n",
              "\n",
              "    .dataframe tbody tr th {\n",
              "        vertical-align: top;\n",
              "    }\n",
              "\n",
              "    .dataframe thead th {\n",
              "        text-align: right;\n",
              "    }\n",
              "</style>\n",
              "<table border=\"1\" class=\"dataframe\">\n",
              "  <thead>\n",
              "    <tr style=\"text-align: right;\">\n",
              "      <th></th>\n",
              "      <th>a</th>\n",
              "    </tr>\n",
              "  </thead>\n",
              "  <tbody>\n",
              "    <tr>\n",
              "      <th>0</th>\n",
              "      <td>100</td>\n",
              "    </tr>\n",
              "    <tr>\n",
              "      <th>1</th>\n",
              "      <td>400</td>\n",
              "    </tr>\n",
              "    <tr>\n",
              "      <th>2</th>\n",
              "      <td>900</td>\n",
              "    </tr>\n",
              "    <tr>\n",
              "      <th>3</th>\n",
              "      <td>1600</td>\n",
              "    </tr>\n",
              "    <tr>\n",
              "      <th>4</th>\n",
              "      <td>2500</td>\n",
              "    </tr>\n",
              "  </tbody>\n",
              "</table>\n",
              "</div>"
            ],
            "text/plain": [
              "      a\n",
              "0   100\n",
              "1   400\n",
              "2   900\n",
              "3  1600\n",
              "4  2500"
            ]
          },
          "metadata": {},
          "execution_count": 9
        }
      ]
    },
    {
      "cell_type": "markdown",
      "metadata": {
        "id": "T_5yCJ5wOn8n"
      },
      "source": [
        "# 7. Transforming 2 DataFrame columns into a dictionary"
      ]
    },
    {
      "cell_type": "code",
      "metadata": {
        "colab": {
          "base_uri": "https://localhost:8080/"
        },
        "id": "HEWsx6L2Omkk",
        "outputId": "083976f4-ea2d-426f-b3d2-e1f9f18f7b9b"
      },
      "source": [
        "df = pd.DataFrame(dict(a=[\"a\",\"b\",\"c\"],b=[1,2,3]))\n",
        "df_dictionary = dict(zip(df[\"a\"],df[\"b\"]))\n",
        "df_dictionary"
      ],
      "execution_count": 10,
      "outputs": [
        {
          "output_type": "execute_result",
          "data": {
            "text/plain": [
              "{'a': 1, 'b': 2, 'c': 3}"
            ]
          },
          "metadata": {},
          "execution_count": 10
        }
      ]
    },
    {
      "cell_type": "markdown",
      "metadata": {
        "id": "NDrh1OKGOqUF"
      },
      "source": [
        "# 8. Plotting grid of distributions with conditionals on columns"
      ]
    },
    {
      "cell_type": "code",
      "metadata": {
        "colab": {
          "base_uri": "https://localhost:8080/",
          "height": 317
        },
        "id": "4YudIjPbOpTO",
        "outputId": "984a6668-7c01-49c5-8f3d-b4b8c52741af"
      },
      "source": [
        "import numpy as np\n",
        "import matplotlib.pyplot as plt\n",
        "import seaborn as sns\n",
        "sns.set()\n",
        "import pandas as pd\n",
        "\n",
        "df = pd.DataFrame(dict(a=np.random.randint(0,100,100),b=np.arange(0,100,1)))\n",
        "plt.figure(figsize=(15,7))\n",
        "plt.subplot(1,2,1)\n",
        "df[\"b\"][df[\"a\"]>50].hist(color=\"green\",label=\"bigger than 50\")\n",
        "plt.legend()\n",
        "plt.subplot(1,2,2)\n",
        "df[\"b\"][df[\"a\"]<50].hist(color=\"orange\",label=\"smaller than 50\")\n",
        "plt.legend()\n",
        "plt.show()"
      ],
      "execution_count": 12,
      "outputs": [
        {
          "output_type": "display_data",
          "data": {
            "image/png": "[encoded data removed]",
            "text/plain": [
              "<Figure size 1080x504 with 2 Axes>"
            ]
          },
          "metadata": {}
        }
      ]
    },
    {
      "cell_type": "markdown",
      "metadata": {
        "id": "9DLueEL8OtF1"
      },
      "source": [
        "# 9. Running t-tests for values of different columns in pandas"
      ]
    },
    {
      "cell_type": "code",
      "metadata": {
        "colab": {
          "base_uri": "https://localhost:8080/"
        },
        "id": "2FB8mQzqOsAQ",
        "outputId": "c1e6156b-f8f9-4291-9305-8687ef902cb6"
      },
      "source": [
        "from scipy.stats import ttest_rel\n",
        "\n",
        "data = np.arange(0,1000,1)\n",
        "data_plus_noise = np.arange(0,1000,1) + np.random.normal(0,1,1000)\n",
        "df = pd.DataFrame(dict(data=data, data_plus_noise=data_plus_noise))\n",
        "print(ttest_rel(df[\"data\"],df[\"data_plus_noise\"]))"
      ],
      "execution_count": 13,
      "outputs": [
        {
          "output_type": "stream",
          "name": "stdout",
          "text": [
            "Ttest_relResult(statistic=0.7425669803805108, pvalue=0.4579184491694954)\n"
          ]
        }
      ]
    },
    {
      "cell_type": "markdown",
      "metadata": {
        "id": "RQif1pB-OxfN"
      },
      "source": [
        "# 10. Merging dataframes on a given column"
      ]
    },
    {
      "cell_type": "code",
      "metadata": {
        "colab": {
          "base_uri": "https://localhost:8080/",
          "height": 142
        },
        "id": "YrFGD8k7Ov1T",
        "outputId": "354055bd-bc0d-458d-d59a-1332f1416231"
      },
      "source": [
        "df1 = pd.DataFrame(dict(a=[1,2,3],b=[10,20,30],col_to_merge=[\"a\",\"b\",\"c\"]))\n",
        "df2 = pd.DataFrame(dict(d=[10,20,100],col_to_merge=[\"a\",\"b\",\"c\"]))\n",
        "df_merged = df1.merge(df2, on='col_to_merge')\n",
        "df_merged"
      ],
      "execution_count": 14,
      "outputs": [
        {
          "output_type": "execute_result",
          "data": {
            "text/html": [
              "<div>\n",
              "<style scoped>\n",
              "    .dataframe tbody tr th:only-of-type {\n",
              "        vertical-align: middle;\n",
              "    }\n",
              "\n",
              "    .dataframe tbody tr th {\n",
              "        vertical-align: top;\n",
              "    }\n",
              "\n",
              "    .dataframe thead th {\n",
              "        text-align: right;\n",
              "    }\n",
              "</style>\n",
              "<table border=\"1\" class=\"dataframe\">\n",
              "  <thead>\n",
              "    <tr style=\"text-align: right;\">\n",
              "      <th></th>\n",
              "      <th>a</th>\n",
              "      <th>b</th>\n",
              "      <th>col_to_merge</th>\n",
              "      <th>d</th>\n",
              "    </tr>\n",
              "  </thead>\n",
              "  <tbody>\n",
              "    <tr>\n",
              "      <th>0</th>\n",
              "      <td>1</td>\n",
              "      <td>10</td>\n",
              "      <td>a</td>\n",
              "      <td>10</td>\n",
              "    </tr>\n",
              "    <tr>\n",
              "      <th>1</th>\n",
              "      <td>2</td>\n",
              "      <td>20</td>\n",
              "      <td>b</td>\n",
              "      <td>20</td>\n",
              "    </tr>\n",
              "    <tr>\n",
              "      <th>2</th>\n",
              "      <td>3</td>\n",
              "      <td>30</td>\n",
              "      <td>c</td>\n",
              "      <td>100</td>\n",
              "    </tr>\n",
              "  </tbody>\n",
              "</table>\n",
              "</div>"
            ],
            "text/plain": [
              "   a   b col_to_merge    d\n",
              "0  1  10            a   10\n",
              "1  2  20            b   20\n",
              "2  3  30            c  100"
            ]
          },
          "metadata": {},
          "execution_count": 14
        }
      ]
    },
    {
      "cell_type": "markdown",
      "metadata": {
        "id": "-dnKKPjuO1_g"
      },
      "source": [
        "# 11. Normalizing values in a pandas column with sklearn"
      ]
    },
    {
      "cell_type": "code",
      "metadata": {
        "id": "2HZ2HoM_Oy12"
      },
      "source": [
        "from sklearn.preprocessing import MinMaxScaler\n",
        "scaler = MinMaxScaler()\n",
        "scores = scaler.fit_transform(df[\"a\"].values.reshape(-1,1))"
      ],
      "execution_count": 16,
      "outputs": []
    },
    {
      "cell_type": "markdown",
      "metadata": {
        "id": "Z0r0jDw6O4Pn"
      },
      "source": [
        "# 12. Dropping NaNs in a specific column in pandas"
      ]
    },
    {
      "cell_type": "code",
      "metadata": {
        "id": "Vka3YGl7O3U5"
      },
      "source": [
        "df.dropna(subset=[\"col_to_remove_NaNs_from\"],inplace=True)"
      ],
      "execution_count": 17,
      "outputs": []
    },
    {
      "cell_type": "markdown",
      "metadata": {
        "id": "pX4c6nwcO8H0"
      },
      "source": [
        "# 13. Selecting subset of a dataframe with conditionals and or statement"
      ]
    },
    {
      "cell_type": "code",
      "metadata": {
        "id": "ocfeezXSO7Ap"
      },
      "source": [
        "df = pd.DataFrame(dict(result=[\"Pass\",\"Fail\",\"Pass\",\"Fail\",\"Distinction\",\"Distinction\"]))\n",
        "pass_index = (df[\"result\"]==\"Pass\") | (df[\"result\"]==\"Distinction\")\n",
        "df_pass = df[pass_index]\n",
        "df_pass"
      ],
      "execution_count": 18,
      "outputs": []
    },
    {
      "cell_type": "markdown",
      "metadata": {
        "id": "nJ0j1IXOO-Z-"
      },
      "source": [
        "# 14. Basic pie chart"
      ]
    },
    {
      "cell_type": "code",
      "metadata": {
        "colab": {
          "base_uri": "https://localhost:8080/",
          "height": 252
        },
        "id": "nHDUXXHgO9Sj",
        "outputId": "a617e316-dff8-4334-f178-ebd64a853b77"
      },
      "source": [
        "import matplotlib.pyplot as plt\n",
        "\n",
        "df = pd.DataFrame(dict(a=[10,20,50,10,10],b=[\"A\",\"B\",\"C\",\"D\",\"E\"]))\n",
        "labels = df[\"b\"]\n",
        "sizes = df[\"a\"]\n",
        "plt.pie(sizes, labels=labels, autopct='%1.1f%%', shadow=True, startangle=140)\n",
        "plt.axis('equal')\n",
        "plt.show()"
      ],
      "execution_count": 19,
      "outputs": [
        {
          "output_type": "display_data",
          "data": {
            "image/png": "[encoded data removed]",
            "text/plain": [
              "<Figure size 432x288 with 1 Axes>"
            ]
          },
          "metadata": {}
        }
      ]
    },
    {
      "cell_type": "markdown",
      "metadata": {
        "id": "eqIV6MtlPAyG"
      },
      "source": [
        "# 15. Changing a percentage string to a numerical value using .apply()"
      ]
    },
    {
      "cell_type": "code",
      "metadata": {
        "colab": {
          "base_uri": "https://localhost:8080/",
          "height": 142
        },
        "id": "dxdb_i8TO_qA",
        "outputId": "5c76b769-e2fe-4289-8780-19e0eab9570c"
      },
      "source": [
        "def change_to_numerical(x):\n",
        "    try:\n",
        "        x = int(x.strip(\"%\")[:2])\n",
        "    except:\n",
        "        x = int(x.strip(\"%\")[:1])\n",
        "    return x\n",
        "\n",
        "df = pd.DataFrame(dict(a=[\"A\",\"B\",\"C\"],col_with_percentage=[\"10%\",\"70%\",\"20%\"]))\n",
        "df[\"col_with_percentage\"] = df[\"col_with_percentage\"].apply(change_to_numerical)\n",
        "df"
      ],
      "execution_count": 20,
      "outputs": [
        {
          "output_type": "execute_result",
          "data": {
            "text/html": [
              "<div>\n",
              "<style scoped>\n",
              "    .dataframe tbody tr th:only-of-type {\n",
              "        vertical-align: middle;\n",
              "    }\n",
              "\n",
              "    .dataframe tbody tr th {\n",
              "        vertical-align: top;\n",
              "    }\n",
              "\n",
              "    .dataframe thead th {\n",
              "        text-align: right;\n",
              "    }\n",
              "</style>\n",
              "<table border=\"1\" class=\"dataframe\">\n",
              "  <thead>\n",
              "    <tr style=\"text-align: right;\">\n",
              "      <th></th>\n",
              "      <th>a</th>\n",
              "      <th>col_with_percentage</th>\n",
              "    </tr>\n",
              "  </thead>\n",
              "  <tbody>\n",
              "    <tr>\n",
              "      <th>0</th>\n",
              "      <td>A</td>\n",
              "      <td>10</td>\n",
              "    </tr>\n",
              "    <tr>\n",
              "      <th>1</th>\n",
              "      <td>B</td>\n",
              "      <td>70</td>\n",
              "    </tr>\n",
              "    <tr>\n",
              "      <th>2</th>\n",
              "      <td>C</td>\n",
              "      <td>20</td>\n",
              "    </tr>\n",
              "  </tbody>\n",
              "</table>\n",
              "</div>"
            ],
            "text/plain": [
              "   a  col_with_percentage\n",
              "0  A                   10\n",
              "1  B                   70\n",
              "2  C                   20"
            ]
          },
          "metadata": {},
          "execution_count": 20
        }
      ]
    }
  ]
}