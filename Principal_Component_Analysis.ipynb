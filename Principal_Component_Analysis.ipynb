{
  "nbformat": 4,
  "nbformat_minor": 0,
  "metadata": {
    "colab": {
      "name": "Principal Component Analysis.ipynb",
      "provenance": [],
      "collapsed_sections": [],
      "authorship_tag": "ABX9TyPENyfR5WOiL64U0FFFEgLf"
    },
    "kernelspec": {
      "name": "python3",
      "display_name": "Python 3"
    }
  },
  "cells": [
    {
      "cell_type": "markdown",
      "metadata": {
        "id": "PiW5ZrmB_vcn",
        "colab_type": "text"
      },
      "source": [
        "[Reference](https://medium.com/free-code-camp/an-overview-of-principal-component-analysis-6340e3bc4073)"
      ]
    },
    {
      "cell_type": "markdown",
      "metadata": {
        "id": "bwR8u11ZALWz",
        "colab_type": "text"
      },
      "source": [
        "# 1) Load the dataset to a matrix:"
      ]
    },
    {
      "cell_type": "code",
      "metadata": {
        "id": "MPJTHFVg_pr0",
        "colab_type": "code",
        "colab": {}
      },
      "source": [
        "import numpy as np\n",
        "import pandas as pd\n",
        "from sklearn.datasets import load_iris\n",
        "irisModule = load_iris()\n",
        "dataset = np.array(irisModule.data)"
      ],
      "execution_count": 1,
      "outputs": []
    },
    {
      "cell_type": "markdown",
      "metadata": {
        "id": "SqvkssfYAJiQ",
        "colab_type": "text"
      },
      "source": [
        "# 2) Calculate the covariance matrix:"
      ]
    },
    {
      "cell_type": "code",
      "metadata": {
        "id": "gEFCT2Fd_1we",
        "colab_type": "code",
        "colab": {}
      },
      "source": [
        "covarianceMatrix = pd.DataFrame(data = np.cov(dataset, rowvar = False), columns = irisModule.feature_names, index = irisModule.feature_names)"
      ],
      "execution_count": 2,
      "outputs": []
    },
    {
      "cell_type": "code",
      "metadata": {
        "id": "TKR2EbX9_7_-",
        "colab_type": "code",
        "colab": {
          "base_uri": "https://localhost:8080/",
          "height": 173
        },
        "outputId": "4f80b930-e79c-483d-c903-af3a1ecb5406"
      },
      "source": [
        "covarianceMatrix"
      ],
      "execution_count": 3,
      "outputs": [
        {
          "output_type": "execute_result",
          "data": {
            "text/html": [
              "<div>\n",
              "<style scoped>\n",
              "    .dataframe tbody tr th:only-of-type {\n",
              "        vertical-align: middle;\n",
              "    }\n",
              "\n",
              "    .dataframe tbody tr th {\n",
              "        vertical-align: top;\n",
              "    }\n",
              "\n",
              "    .dataframe thead th {\n",
              "        text-align: right;\n",
              "    }\n",
              "</style>\n",
              "<table border=\"1\" class=\"dataframe\">\n",
              "  <thead>\n",
              "    <tr style=\"text-align: right;\">\n",
              "      <th></th>\n",
              "      <th>sepal length (cm)</th>\n",
              "      <th>sepal width (cm)</th>\n",
              "      <th>petal length (cm)</th>\n",
              "      <th>petal width (cm)</th>\n",
              "    </tr>\n",
              "  </thead>\n",
              "  <tbody>\n",
              "    <tr>\n",
              "      <th>sepal length (cm)</th>\n",
              "      <td>0.685694</td>\n",
              "      <td>-0.042434</td>\n",
              "      <td>1.274315</td>\n",
              "      <td>0.516271</td>\n",
              "    </tr>\n",
              "    <tr>\n",
              "      <th>sepal width (cm)</th>\n",
              "      <td>-0.042434</td>\n",
              "      <td>0.189979</td>\n",
              "      <td>-0.329656</td>\n",
              "      <td>-0.121639</td>\n",
              "    </tr>\n",
              "    <tr>\n",
              "      <th>petal length (cm)</th>\n",
              "      <td>1.274315</td>\n",
              "      <td>-0.329656</td>\n",
              "      <td>3.116278</td>\n",
              "      <td>1.295609</td>\n",
              "    </tr>\n",
              "    <tr>\n",
              "      <th>petal width (cm)</th>\n",
              "      <td>0.516271</td>\n",
              "      <td>-0.121639</td>\n",
              "      <td>1.295609</td>\n",
              "      <td>0.581006</td>\n",
              "    </tr>\n",
              "  </tbody>\n",
              "</table>\n",
              "</div>"
            ],
            "text/plain": [
              "                   sepal length (cm)  ...  petal width (cm)\n",
              "sepal length (cm)           0.685694  ...          0.516271\n",
              "sepal width (cm)           -0.042434  ...         -0.121639\n",
              "petal length (cm)           1.274315  ...          1.295609\n",
              "petal width (cm)            0.516271  ...          0.581006\n",
              "\n",
              "[4 rows x 4 columns]"
            ]
          },
          "metadata": {
            "tags": []
          },
          "execution_count": 3
        }
      ]
    },
    {
      "cell_type": "markdown",
      "metadata": {
        "id": "ayrnpxQ9AGOW",
        "colab_type": "text"
      },
      "source": [
        "# 3) Calculate the eigenvalues and eigenvectors:"
      ]
    },
    {
      "cell_type": "code",
      "metadata": {
        "id": "h9cBHvMc_8rh",
        "colab_type": "code",
        "colab": {}
      },
      "source": [
        "eigenvalues, eigenvectors = np.linalg.eig(covarianceMatrix)"
      ],
      "execution_count": 4,
      "outputs": []
    },
    {
      "cell_type": "code",
      "metadata": {
        "id": "nRUfFjYxAF6Y",
        "colab_type": "code",
        "colab": {
          "base_uri": "https://localhost:8080/",
          "height": 34
        },
        "outputId": "303c952e-81c0-4191-bbf7-4b72f78b0a5d"
      },
      "source": [
        "eigenvalues"
      ],
      "execution_count": 5,
      "outputs": [
        {
          "output_type": "execute_result",
          "data": {
            "text/plain": [
              "array([4.22824171, 0.24267075, 0.0782095 , 0.02383509])"
            ]
          },
          "metadata": {
            "tags": []
          },
          "execution_count": 5
        }
      ]
    },
    {
      "cell_type": "code",
      "metadata": {
        "id": "lgouewz7AjUh",
        "colab_type": "code",
        "colab": {
          "base_uri": "https://localhost:8080/",
          "height": 85
        },
        "outputId": "6f77bb9f-7530-4647-d327-8e6ba2f3b48f"
      },
      "source": [
        "eigenvectors"
      ],
      "execution_count": 6,
      "outputs": [
        {
          "output_type": "execute_result",
          "data": {
            "text/plain": [
              "array([[ 0.36138659, -0.65658877, -0.58202985,  0.31548719],\n",
              "       [-0.08452251, -0.73016143,  0.59791083, -0.3197231 ],\n",
              "       [ 0.85667061,  0.17337266,  0.07623608, -0.47983899],\n",
              "       [ 0.3582892 ,  0.07548102,  0.54583143,  0.75365743]])"
            ]
          },
          "metadata": {
            "tags": []
          },
          "execution_count": 6
        }
      ]
    },
    {
      "cell_type": "markdown",
      "metadata": {
        "id": "fOWNoWKIAs5N",
        "colab_type": "text"
      },
      "source": [
        "# 4) Choose the first K eigenvalues (K principal components/axises):"
      ]
    },
    {
      "cell_type": "code",
      "metadata": {
        "id": "857xb5JRAkb6",
        "colab_type": "code",
        "colab": {}
      },
      "source": [
        "totalSum = sum(eigenvalues)\n",
        "variablesExplained = [(i / totalSum) for i in sorted(eigenvalues, reverse = True)]"
      ],
      "execution_count": 7,
      "outputs": []
    },
    {
      "cell_type": "code",
      "metadata": {
        "id": "gksBjyrNAthx",
        "colab_type": "code",
        "colab": {
          "base_uri": "https://localhost:8080/",
          "height": 85
        },
        "outputId": "84063480-f641-4929-e141-5111b17bb555"
      },
      "source": [
        "variablesExplained "
      ],
      "execution_count": 8,
      "outputs": [
        {
          "output_type": "execute_result",
          "data": {
            "text/plain": [
              "[0.9246187232017268,\n",
              " 0.05306648311706791,\n",
              " 0.017102609807929672,\n",
              " 0.005212183873275513]"
            ]
          },
          "metadata": {
            "tags": []
          },
          "execution_count": 8
        }
      ]
    },
    {
      "cell_type": "code",
      "metadata": {
        "id": "CP__21gOAvII",
        "colab_type": "code",
        "colab": {}
      },
      "source": [
        "featureVector = eigenvectors[:,:2]"
      ],
      "execution_count": 9,
      "outputs": []
    },
    {
      "cell_type": "code",
      "metadata": {
        "id": "nSMBohCfA6q5",
        "colab_type": "code",
        "colab": {
          "base_uri": "https://localhost:8080/",
          "height": 85
        },
        "outputId": "d4cea3e6-0349-4efa-d800-ac9bf4aedd8f"
      },
      "source": [
        "featureVector"
      ],
      "execution_count": 10,
      "outputs": [
        {
          "output_type": "execute_result",
          "data": {
            "text/plain": [
              "array([[ 0.36138659, -0.65658877],\n",
              "       [-0.08452251, -0.73016143],\n",
              "       [ 0.85667061,  0.17337266],\n",
              "       [ 0.3582892 ,  0.07548102]])"
            ]
          },
          "metadata": {
            "tags": []
          },
          "execution_count": 10
        }
      ]
    },
    {
      "cell_type": "markdown",
      "metadata": {
        "id": "vOGCbKUkA4x1",
        "colab_type": "text"
      },
      "source": [
        "# 5) Build the new reduced dataset:"
      ]
    },
    {
      "cell_type": "code",
      "metadata": {
        "id": "AKwc3wA5A0Dx",
        "colab_type": "code",
        "colab": {}
      },
      "source": [
        "featureVectorTranspose = np.transpose(featureVector)\n",
        "datasetTranspose = np.transpose(dataset)\n",
        "newDatasetTranspose = np.matmul(featureVectorTranspose, datasetTranspose)\n",
        "newDataset = np.transpose(newDatasetTranspose)"
      ],
      "execution_count": 11,
      "outputs": []
    }
  ]
}