{
  "nbformat": 4,
  "nbformat_minor": 0,
  "metadata": {
    "colab": {
      "name": "5 lesser-known Python features.ipynb",
      "provenance": [],
      "authorship_tag": "ABX9TyP/d+EL3FiMSGvG+1luYCJ2"
    },
    "kernelspec": {
      "name": "python3",
      "display_name": "Python 3"
    }
  },
  "cells": [
    {
      "cell_type": "markdown",
      "metadata": {
        "id": "WBQ_MbOlWtqN"
      },
      "source": [
        "[Reference](https://towardsdatascience.com/5-lesser-known-python-features-19989db6e13e)"
      ]
    },
    {
      "cell_type": "markdown",
      "metadata": {
        "id": "0q-DE6BmXTXs"
      },
      "source": [
        "# 1. Else statements with for and while loops"
      ]
    },
    {
      "cell_type": "code",
      "metadata": {
        "id": "WK-hsUqJFwxW",
        "colab": {
          "base_uri": "https://localhost:8080/"
        },
        "outputId": "c94e02b4-e389-4bdc-d665-468c41917dd6"
      },
      "source": [
        "# list of numbers\n",
        "numbers = [1, 2, 3, 4, 5]\n",
        "\n",
        "for number in numbers:\n",
        "    if number == 6:\n",
        "        break\n",
        "    print(number, end=' ')\n",
        "\n",
        "else:\n",
        "    print('Unbroken loop')"
      ],
      "execution_count": 1,
      "outputs": [
        {
          "output_type": "stream",
          "text": [
            "1 2 3 4 5 Unbroken loop\n"
          ],
          "name": "stdout"
        }
      ]
    },
    {
      "cell_type": "code",
      "metadata": {
        "colab": {
          "base_uri": "https://localhost:8080/"
        },
        "id": "8PeZaLNAX6HI",
        "outputId": "32ef2921-b2a0-4093-859a-99a13a72b999"
      },
      "source": [
        "numbers = [1, 2, 3, 4, 5, 6, 7, 8, 9, 10]\n",
        "\n",
        "for number in numbers:\n",
        "    if number == 6:\n",
        "        break\n",
        "    print(number, end=' ')\n",
        "\n",
        "else:\n",
        "    print('Unbroken loop')"
      ],
      "execution_count": 2,
      "outputs": [
        {
          "output_type": "stream",
          "text": [
            "1 2 3 4 5 "
          ],
          "name": "stdout"
        }
      ]
    },
    {
      "cell_type": "markdown",
      "metadata": {
        "id": "N7GBdyajYc6V"
      },
      "source": [
        "# 2. Ternary operator"
      ]
    },
    {
      "cell_type": "code",
      "metadata": {
        "colab": {
          "base_uri": "https://localhost:8080/"
        },
        "id": "D4tWx4M6YD5-",
        "outputId": "acb18a2f-98ac-47a9-d78d-838c69b0b599"
      },
      "source": [
        "price = 400\n",
        "\n",
        "price_bin = 'Expensive' if price > 500 else 'Low-Medium'\n",
        "print(price_bin)\n",
        "# Low-Medium\n",
        "\n",
        "a = 15\n",
        "b = 10\n",
        "\n",
        "# determine the minimum number using a ternary operator\n",
        "min_number = a if a < b else b\n",
        "print(min_number)"
      ],
      "execution_count": 3,
      "outputs": [
        {
          "output_type": "stream",
          "text": [
            "Low-Medium\n",
            "10\n"
          ],
          "name": "stdout"
        }
      ]
    },
    {
      "cell_type": "markdown",
      "metadata": {
        "id": "FLgW3szRZdL6"
      },
      "source": [
        "# 3. Operator precedence in expressions"
      ]
    },
    {
      "cell_type": "code",
      "metadata": {
        "colab": {
          "base_uri": "https://localhost:8080/"
        },
        "id": "SgnbAOhNZbAM",
        "outputId": "e007603a-67a6-41e7-b5a9-c336464bc7b7"
      },
      "source": [
        "5 * 2**2"
      ],
      "execution_count": 6,
      "outputs": [
        {
          "output_type": "execute_result",
          "data": {
            "text/plain": [
              "20"
            ]
          },
          "metadata": {
            "tags": []
          },
          "execution_count": 6
        }
      ]
    },
    {
      "cell_type": "code",
      "metadata": {
        "colab": {
          "base_uri": "https://localhost:8080/"
        },
        "id": "jzzW-2JPZg0R",
        "outputId": "fd8a97ff-b828-4b9a-e7cb-b6cce86e8362"
      },
      "source": [
        "a = None\n",
        "is_object = a is None\n",
        "is_object"
      ],
      "execution_count": 7,
      "outputs": [
        {
          "output_type": "execute_result",
          "data": {
            "text/plain": [
              "True"
            ]
          },
          "metadata": {
            "tags": []
          },
          "execution_count": 7
        }
      ]
    },
    {
      "cell_type": "code",
      "metadata": {
        "colab": {
          "base_uri": "https://localhost:8080/"
        },
        "id": "RUAcSra3Zk9i",
        "outputId": "cc9a11f6-065a-47e2-9235-6befef0d38f3"
      },
      "source": [
        "5 == 5 and 1 == 1"
      ],
      "execution_count": 8,
      "outputs": [
        {
          "output_type": "execute_result",
          "data": {
            "text/plain": [
              "True"
            ]
          },
          "metadata": {
            "tags": []
          },
          "execution_count": 8
        }
      ]
    },
    {
      "cell_type": "markdown",
      "metadata": {
        "id": "_BEQrkAxaFUL"
      },
      "source": [
        "# 4. None"
      ]
    },
    {
      "cell_type": "code",
      "metadata": {
        "colab": {
          "base_uri": "https://localhost:8080/"
        },
        "id": "rCtNfsZ1Zmxe",
        "outputId": "dd148a75-626e-4958-c337-ef5d043dbbd1"
      },
      "source": [
        "numbers = [1, 2, 3, 4, 5]\n",
        "\n",
        "return_len = len(numbers)\n",
        "return_len"
      ],
      "execution_count": 9,
      "outputs": [
        {
          "output_type": "execute_result",
          "data": {
            "text/plain": [
              "5"
            ]
          },
          "metadata": {
            "tags": []
          },
          "execution_count": 9
        }
      ]
    },
    {
      "cell_type": "code",
      "metadata": {
        "colab": {
          "base_uri": "https://localhost:8080/"
        },
        "id": "zgtevV-zbHiy",
        "outputId": "c91d9fbd-45c9-49c4-efc9-490f65aab03f"
      },
      "source": [
        "return_min = min(numbers)\n",
        "return_min"
      ],
      "execution_count": 10,
      "outputs": [
        {
          "output_type": "execute_result",
          "data": {
            "text/plain": [
              "1"
            ]
          },
          "metadata": {
            "tags": []
          },
          "execution_count": 10
        }
      ]
    },
    {
      "cell_type": "code",
      "metadata": {
        "colab": {
          "base_uri": "https://localhost:8080/"
        },
        "id": "LyQuM_3SbJN0",
        "outputId": "f99afdfa-a287-4262-8915-379ce1252457"
      },
      "source": [
        "return_eval = eval('1 + 8')\n",
        "return_eval"
      ],
      "execution_count": 11,
      "outputs": [
        {
          "output_type": "execute_result",
          "data": {
            "text/plain": [
              "9"
            ]
          },
          "metadata": {
            "tags": []
          },
          "execution_count": 11
        }
      ]
    },
    {
      "cell_type": "code",
      "metadata": {
        "colab": {
          "base_uri": "https://localhost:8080/"
        },
        "id": "Q8GtAIX1bJiR",
        "outputId": "02ed9f59-c2d6-4162-d678-f97cad39802c"
      },
      "source": [
        "return_print = print(numbers)\n",
        "return_print"
      ],
      "execution_count": 12,
      "outputs": [
        {
          "output_type": "stream",
          "text": [
            "[1, 2, 3, 4, 5]\n"
          ],
          "name": "stdout"
        }
      ]
    },
    {
      "cell_type": "code",
      "metadata": {
        "colab": {
          "base_uri": "https://localhost:8080/"
        },
        "id": "Y_YFxbKObLp9",
        "outputId": "ac574cd7-0430-4898-d513-24a20bdd4d01"
      },
      "source": [
        "return_append = numbers.append(6)\n",
        "numbers"
      ],
      "execution_count": 13,
      "outputs": [
        {
          "output_type": "execute_result",
          "data": {
            "text/plain": [
              "[1, 2, 3, 4, 5, 6]"
            ]
          },
          "metadata": {
            "tags": []
          },
          "execution_count": 13
        }
      ]
    },
    {
      "cell_type": "code",
      "metadata": {
        "id": "NC8KwahNbNZU"
      },
      "source": [
        "return_append"
      ],
      "execution_count": 14,
      "outputs": []
    },
    {
      "cell_type": "code",
      "metadata": {
        "id": "OTqehWyjbOtv"
      },
      "source": [
        "num1 = 4\n",
        "num2 = 5\n",
        "\n",
        "def sum_numbers(num1, num2):\n",
        "    num1 + num2"
      ],
      "execution_count": 15,
      "outputs": []
    },
    {
      "cell_type": "code",
      "metadata": {
        "id": "EI8hTizQbRkM"
      },
      "source": [
        "def sum_numbers_return(num1, num2):\n",
        "    return num1 + num2"
      ],
      "execution_count": 16,
      "outputs": []
    },
    {
      "cell_type": "code",
      "metadata": {
        "id": "xzy_d9yibSY7"
      },
      "source": [
        "sum_numbers(num1, num2)"
      ],
      "execution_count": 17,
      "outputs": []
    },
    {
      "cell_type": "code",
      "metadata": {
        "colab": {
          "base_uri": "https://localhost:8080/"
        },
        "id": "q6_JCEvObUVK",
        "outputId": "1dd03325-e891-4289-9d33-b6682abd5ed6"
      },
      "source": [
        "sum_numbers_return(num1, num2)"
      ],
      "execution_count": 18,
      "outputs": [
        {
          "output_type": "execute_result",
          "data": {
            "text/plain": [
              "9"
            ]
          },
          "metadata": {
            "tags": []
          },
          "execution_count": 18
        }
      ]
    },
    {
      "cell_type": "markdown",
      "metadata": {
        "id": "pjfFGCtWbVzV"
      },
      "source": [
        "# 5. Function arguments: *args and **kwargs"
      ]
    },
    {
      "cell_type": "code",
      "metadata": {
        "colab": {
          "base_uri": "https://localhost:8080/"
        },
        "id": "iUefHvIDbUoh",
        "outputId": "d0615b27-bd11-4ef0-bf8c-bffdc101e4dd"
      },
      "source": [
        "def variable_arguments(*args):\n",
        "    print(type(args), args)\n",
        "    \n",
        "variable_arguments(1, 2, 3, 4, 5)"
      ],
      "execution_count": 19,
      "outputs": [
        {
          "output_type": "stream",
          "text": [
            "<class 'tuple'> (1, 2, 3, 4, 5)\n"
          ],
          "name": "stdout"
        }
      ]
    },
    {
      "cell_type": "code",
      "metadata": {
        "colab": {
          "base_uri": "https://localhost:8080/"
        },
        "id": "Y5ZCVb7IcLo1",
        "outputId": "6bffe6cf-f2e0-4fd4-97cd-bd7827330134"
      },
      "source": [
        "def variable_arguments_2(*numbers):\n",
        "    for number in numbers:\n",
        "        if number%2 == 0:\n",
        "            print(number)\n",
        "\n",
        "variable_arguments_2(1, 2, 3, 4, 5)"
      ],
      "execution_count": 23,
      "outputs": [
        {
          "output_type": "stream",
          "text": [
            "2\n",
            "4\n"
          ],
          "name": "stdout"
        }
      ]
    },
    {
      "cell_type": "code",
      "metadata": {
        "colab": {
          "base_uri": "https://localhost:8080/"
        },
        "id": "tz0FNfv1dpS0",
        "outputId": "b468f07d-2322-4e94-ecfc-a4ab152ec01d"
      },
      "source": [
        "def variable_keywords(**kwargs):\n",
        "    print(type(kwargs), kwargs)\n",
        "    \n",
        "variable_keywords(num1=5, num2=7, num3=2)"
      ],
      "execution_count": 21,
      "outputs": [
        {
          "output_type": "stream",
          "text": [
            "<class 'dict'> {'num1': 5, 'num2': 7, 'num3': 2}\n"
          ],
          "name": "stdout"
        }
      ]
    },
    {
      "cell_type": "code",
      "metadata": {
        "colab": {
          "base_uri": "https://localhost:8080/"
        },
        "id": "Hb9JVYxAdsIB",
        "outputId": "3dbc3585-9693-448c-f0f4-5f66b827506b"
      },
      "source": [
        "def variable_keywords_2(**numbers):\n",
        "    for name, number in numbers.items():\n",
        "        if number%2 == 0:\n",
        "            print(name +' is even')\n",
        "        else:\n",
        "            print(name +' is odd')\n",
        "\n",
        "variable_keywords_2(num1=5, num2=7, num3=2)"
      ],
      "execution_count": 24,
      "outputs": [
        {
          "output_type": "stream",
          "text": [
            "num1 is odd\n",
            "num2 is odd\n",
            "num3 is even\n"
          ],
          "name": "stdout"
        }
      ]
    },
    {
      "cell_type": "code",
      "metadata": {
        "colab": {
          "base_uri": "https://localhost:8080/"
        },
        "id": "Gt2LvpXNdz07",
        "outputId": "e7d44092-3a78-4069-de18-521a9d22f546"
      },
      "source": [
        "def multiple_type_arguments(arg, *args, **kwargs):\n",
        "    print('standard argument: ', arg)\n",
        "    print('*args: ', args)\n",
        "    print('**kwargs: ', kwargs)\n",
        "    \n",
        "multiple_type_arguments(1, 2, 3, 4, num1=5, num2=6)"
      ],
      "execution_count": 25,
      "outputs": [
        {
          "output_type": "stream",
          "text": [
            "standard argument:  1\n",
            "*args:  (2, 3, 4)\n",
            "**kwargs:  {'num1': 5, 'num2': 6}\n"
          ],
          "name": "stdout"
        }
      ]
    }
  ]
}