{
  "nbformat": 4,
  "nbformat_minor": 0,
  "metadata": {
    "colab": {
      "provenance": [],
      "authorship_tag": "ABX9TyOj0o/a6vpyMD5ixxGHKhAx"
    },
    "kernelspec": {
      "name": "python3",
      "display_name": "Python 3"
    },
    "language_info": {
      "name": "python"
    }
  },
  "cells": [
    {
      "cell_type": "markdown",
      "source": [
        "[Reference](https://medium.com/@ramanbazhanau/advanced-type-annotations-in-python-part-1-3c9a592e394)"
      ],
      "metadata": {
        "id": "E9xfEk4axmyL"
      }
    },
    {
      "cell_type": "code",
      "execution_count": 1,
      "metadata": {
        "id": "0ePY3J6AwvSy"
      },
      "outputs": [],
      "source": [
        "from typing import List, TypeVar\n",
        "\n",
        "T = TypeVar('T')\n",
        "\n",
        "\n",
        "def first_and_last(items: List[T]) -> T:\n",
        "    return items[0]\n",
        "\n",
        "\n",
        "result = first_and_last([1, 2, 3, 4])"
      ]
    },
    {
      "cell_type": "code",
      "source": [
        "from typing import Type\n",
        "\n",
        "\n",
        "class Animal:\n",
        "    @classmethod\n",
        "    def make_sound(cls):\n",
        "        pass\n",
        "\n",
        "\n",
        "def mimic(animal_class: Type[Animal]):  # animal_class is a class, not an instance\n",
        "    animal_class.make_sound()\n",
        "\n",
        "\n",
        "mimic(Animal)"
      ],
      "metadata": {
        "id": "hvObRFJYxp-h"
      },
      "execution_count": 2,
      "outputs": []
    },
    {
      "cell_type": "code",
      "source": [
        "from typing import TypedDict\n",
        "\n",
        "\n",
        "class Person(TypedDict):\n",
        "    name: str\n",
        "    age: int\n",
        "\n",
        "\n",
        "# This is valid\n",
        "person1: Person = {\"name\": \"Alice\", \"age\": 30}\n",
        "\n",
        "# This would raise a type error\n",
        "person2: Person = {\"name\": \"Bob\", \"age\": \"thirty\"}"
      ],
      "metadata": {
        "id": "fsbrOoFLxq64"
      },
      "execution_count": 3,
      "outputs": []
    },
    {
      "cell_type": "code",
      "source": [
        "from typing import TypedDict\n",
        "\n",
        "\n",
        "class OptionalPerson(TypedDict, total=False):\n",
        "    name: str\n",
        "    age: int\n",
        "\n",
        "\n",
        "# This is valid even without the 'age' key\n",
        "person1: OptionalPerson = {\"name\": \"Charlie\"}"
      ],
      "metadata": {
        "id": "SvGPm8SSxsIZ"
      },
      "execution_count": 4,
      "outputs": []
    },
    {
      "cell_type": "code",
      "source": [
        "from typing import List, Dict\n",
        "\n",
        "# Using TypeAlias for better readability\n",
        "Matrix = List[List[int]]\n",
        "PersonData = Dict[str, Union[str, int, float]]\n",
        "\n",
        "\n",
        "# This is now a valid type annotation\n",
        "def determinant(m: Matrix) -> float:\n",
        "    # Implementation here...\n",
        "    pass"
      ],
      "metadata": {
        "id": "c7tesPEoxtQ7"
      },
      "execution_count": 6,
      "outputs": []
    },
    {
      "cell_type": "code",
      "source": [
        "from typing import Any, TypeGuard\n",
        "\n",
        "\n",
        "def is_integer(value: Any) -> TypeGuard[int]:\n",
        "    return isinstance(value, int)"
      ],
      "metadata": {
        "id": "0HsG9I_SxuNQ"
      },
      "execution_count": 7,
      "outputs": []
    },
    {
      "cell_type": "code",
      "source": [
        "from typing import List, Union, TypeGuard\n",
        "\n",
        "\n",
        "def is_string_list(values: List[Union[int, str]]) -> TypeGuard[List[str]]:\n",
        "    return all(isinstance(value, str) for value in values)\n",
        "\n",
        "\n",
        "def process(values: List[Union[int, str]]):\n",
        "    if is_string_list(values):\n",
        "        # Within this block, 'values' is treated as List[str] by the type checker\n",
        "        concatenated = \" \".join(values)\n",
        "        print(concatenated)\n",
        "    else:\n",
        "        # Here, 'values' is still List[Union[int, str]]\n",
        "        print(\"List contains non-string values.\")"
      ],
      "metadata": {
        "id": "a4ijBLO0xwaL"
      },
      "execution_count": 8,
      "outputs": []
    },
    {
      "cell_type": "code",
      "source": [
        "from typing import Generic, TypeVar\n",
        "\n",
        "T = TypeVar('T')\n",
        "\n",
        "\n",
        "class Box(Generic[T]):\n",
        "    def __init__(self, item: T):\n",
        "        self.item = item\n",
        "\n",
        "\n",
        "class Container(Generic[T]):\n",
        "    def __init__(self, value: T):\n",
        "        self.value = value\n",
        "\n",
        "\n",
        "box_int = Box(5)  # box_int: Box[int], class Box(item: int)\n",
        "box_str = Box(\"Hello\")  # box_str: Box[str], class Box(item: str)\n",
        "\n",
        "# This allows for type-safe operations on the container\n",
        "int_container = Container[int](5)\n",
        "str_container = Container[str](\"Hello\")"
      ],
      "metadata": {
        "id": "ywSp69ALxy6v"
      },
      "execution_count": 9,
      "outputs": []
    },
    {
      "cell_type": "code",
      "source": [
        "def reverse_content(container: Container[T]) -> Container[T]:\n",
        "    reversed_content = container.value[::-1]\n",
        "    return Container(reversed_content)\n",
        "\n",
        "\n",
        "reversed_str_container = reverse_content(str_container)"
      ],
      "metadata": {
        "id": "5KX0I7QGxz5D"
      },
      "execution_count": 10,
      "outputs": []
    },
    {
      "cell_type": "code",
      "source": [
        "U = TypeVar('U', int, float)\n",
        "\n",
        "\n",
        "class NumericContainer(Generic[U]):\n",
        "    pass\n",
        "\n",
        "\n",
        "# This is valid\n",
        "numeric_container = NumericContainer[int](10)\n",
        "\n",
        "# This would raise a type error\n",
        "string_container = NumericContainer[str](\"Invalid\")"
      ],
      "metadata": {
        "id": "7bhpU_V7x1bu"
      },
      "execution_count": 12,
      "outputs": []
    }
  ]
}