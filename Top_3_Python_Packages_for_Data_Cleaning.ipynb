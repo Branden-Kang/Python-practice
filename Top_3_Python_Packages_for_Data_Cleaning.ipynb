{
  "nbformat": 4,
  "nbformat_minor": 0,
  "metadata": {
    "colab": {
      "name": "Top 3 Python Packages for Data Cleaning.ipynb",
      "provenance": [],
      "authorship_tag": "ABX9TyMT5BBpI3qzre4HkSAYDRgJ"
    },
    "kernelspec": {
      "name": "python3",
      "display_name": "Python 3"
    },
    "language_info": {
      "name": "python"
    }
  },
  "cells": [
    {
      "cell_type": "markdown",
      "source": [
        "[Reference](https://medium.com/trymito/top-3-python-packages-for-data-cleaning-6bc23941e73b)"
      ],
      "metadata": {
        "id": "2g9rE4c-aNGy"
      }
    },
    {
      "cell_type": "markdown",
      "source": [
        "# 1. Mito"
      ],
      "metadata": {
        "id": "lkBYwcEaaP6X"
      }
    },
    {
      "cell_type": "code",
      "execution_count": 1,
      "metadata": {
        "colab": {
          "base_uri": "https://localhost:8080/"
        },
        "id": "EPIdYaTdaLu0",
        "outputId": "3154e681-f20f-4b3c-cd82-b51d50b38fb6"
      },
      "outputs": [
        {
          "output_type": "stream",
          "name": "stdout",
          "text": [
            "Collecting mitoinstaller\n",
            "  Downloading mitoinstaller-0.0.106.tar.gz (15 kB)\n",
            "Collecting analytics-python\n",
            "  Downloading analytics_python-1.4.0-py2.py3-none-any.whl (15 kB)\n",
            "Collecting colorama\n",
            "  Downloading colorama-0.4.4-py2.py3-none-any.whl (16 kB)\n",
            "Requirement already satisfied: termcolor in /usr/local/lib/python3.7/dist-packages (from mitoinstaller) (1.1.0)\n",
            "Requirement already satisfied: six>=1.5 in /usr/local/lib/python3.7/dist-packages (from analytics-python->mitoinstaller) (1.15.0)\n",
            "Requirement already satisfied: python-dateutil>2.1 in /usr/local/lib/python3.7/dist-packages (from analytics-python->mitoinstaller) (2.8.2)\n",
            "Requirement already satisfied: requests<3.0,>=2.7 in /usr/local/lib/python3.7/dist-packages (from analytics-python->mitoinstaller) (2.23.0)\n",
            "Collecting monotonic>=1.5\n",
            "  Downloading monotonic-1.6-py2.py3-none-any.whl (8.2 kB)\n",
            "Collecting backoff==1.10.0\n",
            "  Downloading backoff-1.10.0-py2.py3-none-any.whl (31 kB)\n",
            "Requirement already satisfied: urllib3!=1.25.0,!=1.25.1,<1.26,>=1.21.1 in /usr/local/lib/python3.7/dist-packages (from requests<3.0,>=2.7->analytics-python->mitoinstaller) (1.24.3)\n",
            "Requirement already satisfied: chardet<4,>=3.0.2 in /usr/local/lib/python3.7/dist-packages (from requests<3.0,>=2.7->analytics-python->mitoinstaller) (3.0.4)\n",
            "Requirement already satisfied: idna<3,>=2.5 in /usr/local/lib/python3.7/dist-packages (from requests<3.0,>=2.7->analytics-python->mitoinstaller) (2.10)\n",
            "Requirement already satisfied: certifi>=2017.4.17 in /usr/local/lib/python3.7/dist-packages (from requests<3.0,>=2.7->analytics-python->mitoinstaller) (2021.10.8)\n",
            "Building wheels for collected packages: mitoinstaller\n",
            "  Building wheel for mitoinstaller (setup.py) ... \u001b[?25l\u001b[?25hdone\n",
            "  Created wheel for mitoinstaller: filename=mitoinstaller-0.0.106-py3-none-any.whl size=22728 sha256=8c70be0086023f926c159f9eb5eb28e4d1d080b8ba482033c816fb2c04f1f653\n",
            "  Stored in directory: /root/.cache/pip/wheels/eb/0c/19/3500982ef996bb0fcd51c8a4008852b3b93e3d4afdacec67d6\n",
            "Successfully built mitoinstaller\n",
            "Installing collected packages: monotonic, backoff, colorama, analytics-python, mitoinstaller\n",
            "Successfully installed analytics-python-1.4.0 backoff-1.10.0 colorama-0.4.4 mitoinstaller-0.0.106 monotonic-1.6\n",
            "Starting install...\n",
            "Create mito user\n",
            "Upgrading mitoinstaller\n",
            "Checking dependencies\n",
            "Installing mitosheet3\n",
            "Create import mito startup file\n",
            "Creating a Mitosheet starter notebook\n",
            "Start JupyterLab\n",
            "Finish Installation\n",
            "\n",
            "----------------------------------------------------------------------------\n",
            "Mito has finished installing\n",
            "\n",
            "Launch JupyterLab with:\t\u001b[32mpython -m jupyter lab\u001b[0m\n",
            "\n",
            "\u001b[32mThen render a mitosheet following the instructions here: https://docs.trymito.io/how-to/creating-a-mitosheet\u001b[0m\n",
            "----------------------------------------------------------------------------\n",
            "\u001b[0m"
          ]
        }
      ],
      "source": [
        "!python -m pip install mitoinstaller\n",
        "!python -m mitoinstaller install"
      ]
    },
    {
      "cell_type": "code",
      "source": [
        "import mitosheet\n",
        "mitosheet.sheet()"
      ],
      "metadata": {
        "id": "9RNJvLeNaTaF"
      },
      "execution_count": 4,
      "outputs": []
    },
    {
      "cell_type": "markdown",
      "source": [
        "# 2. Arrow"
      ],
      "metadata": {
        "id": "O_dSzRaeaV9I"
      }
    },
    {
      "cell_type": "code",
      "source": [
        "pip install -U arrow"
      ],
      "metadata": {
        "colab": {
          "base_uri": "https://localhost:8080/"
        },
        "id": "dEaeEn15aURz",
        "outputId": "4ff21acd-d1f9-4b1d-96d3-8f88fa320f76"
      },
      "execution_count": 5,
      "outputs": [
        {
          "output_type": "stream",
          "name": "stdout",
          "text": [
            "Collecting arrow\n",
            "  Downloading arrow-1.2.2-py3-none-any.whl (64 kB)\n",
            "\u001b[?25l\r\u001b[K     |█████▏                          | 10 kB 25.0 MB/s eta 0:00:01\r\u001b[K     |██████████▎                     | 20 kB 11.0 MB/s eta 0:00:01\r\u001b[K     |███████████████▍                | 30 kB 8.7 MB/s eta 0:00:01\r\u001b[K     |████████████████████▌           | 40 kB 8.0 MB/s eta 0:00:01\r\u001b[K     |█████████████████████████▋      | 51 kB 5.0 MB/s eta 0:00:01\r\u001b[K     |██████████████████████████████▊ | 61 kB 5.2 MB/s eta 0:00:01\r\u001b[K     |████████████████████████████████| 64 kB 1.6 MB/s \n",
            "\u001b[?25hRequirement already satisfied: typing-extensions in /usr/local/lib/python3.7/dist-packages (from arrow) (3.10.0.2)\n",
            "Requirement already satisfied: python-dateutil>=2.7.0 in /usr/local/lib/python3.7/dist-packages (from arrow) (2.8.2)\n",
            "Requirement already satisfied: six>=1.5 in /usr/local/lib/python3.7/dist-packages (from python-dateutil>=2.7.0->arrow) (1.15.0)\n",
            "Installing collected packages: arrow\n",
            "Successfully installed arrow-1.2.2\n"
          ]
        }
      ]
    },
    {
      "cell_type": "code",
      "source": [
        "import arrow\n",
        "arrow.get('2013-05-11T21:23:58.970460+07:00')"
      ],
      "metadata": {
        "colab": {
          "base_uri": "https://localhost:8080/"
        },
        "id": "3CivqIxmai0r",
        "outputId": "efb5309a-47c4-49f3-ecc1-4362be4e1b0d"
      },
      "execution_count": 6,
      "outputs": [
        {
          "output_type": "execute_result",
          "data": {
            "text/plain": [
              "<Arrow [2013-05-11T21:23:58.970460+07:00]>"
            ]
          },
          "metadata": {},
          "execution_count": 6
        }
      ]
    },
    {
      "cell_type": "code",
      "source": [
        "utc = arrow.utcnow()\n",
        "utc"
      ],
      "metadata": {
        "colab": {
          "base_uri": "https://localhost:8080/"
        },
        "id": "vfVFayWFaoGu",
        "outputId": "133ed967-dcbf-4669-ad52-37fd4a37ece9"
      },
      "execution_count": 7,
      "outputs": [
        {
          "output_type": "execute_result",
          "data": {
            "text/plain": [
              "<Arrow [2022-02-09T12:17:12.356168+00:00]>"
            ]
          },
          "metadata": {},
          "execution_count": 7
        }
      ]
    },
    {
      "cell_type": "code",
      "source": [
        "utc = utc.shift(hours=-1)\n",
        "utc"
      ],
      "metadata": {
        "colab": {
          "base_uri": "https://localhost:8080/"
        },
        "id": "BF8g2D9oappa",
        "outputId": "c62a9215-77b0-4b60-c411-e146ea83d18e"
      },
      "execution_count": 8,
      "outputs": [
        {
          "output_type": "execute_result",
          "data": {
            "text/plain": [
              "<Arrow [2022-02-09T11:17:12.356168+00:00]>"
            ]
          },
          "metadata": {},
          "execution_count": 8
        }
      ]
    },
    {
      "cell_type": "code",
      "source": [
        "local = utc.to('US/Pacific')\n",
        "local"
      ],
      "metadata": {
        "colab": {
          "base_uri": "https://localhost:8080/"
        },
        "id": "EqlT-E7narJa",
        "outputId": "40f8a7fd-6f01-4902-a4d1-5f759e862d34"
      },
      "execution_count": 9,
      "outputs": [
        {
          "output_type": "execute_result",
          "data": {
            "text/plain": [
              "<Arrow [2022-02-09T03:17:12.356168-08:00]>"
            ]
          },
          "metadata": {},
          "execution_count": 9
        }
      ]
    },
    {
      "cell_type": "code",
      "source": [
        "local.timestamp()"
      ],
      "metadata": {
        "colab": {
          "base_uri": "https://localhost:8080/"
        },
        "id": "H_CV45BAast7",
        "outputId": "637d5d58-e4ef-4c66-a3d0-c52ac5f79d8f"
      },
      "execution_count": 10,
      "outputs": [
        {
          "output_type": "execute_result",
          "data": {
            "text/plain": [
              "1644405432.356168"
            ]
          },
          "metadata": {},
          "execution_count": 10
        }
      ]
    },
    {
      "cell_type": "code",
      "source": [
        "local.format()"
      ],
      "metadata": {
        "colab": {
          "base_uri": "https://localhost:8080/",
          "height": 37
        },
        "id": "GAo18BN5attl",
        "outputId": "8fbeef74-8285-4057-a695-4bf4898e74fe"
      },
      "execution_count": 11,
      "outputs": [
        {
          "output_type": "execute_result",
          "data": {
            "application/vnd.google.colaboratory.intrinsic+json": {
              "type": "string"
            },
            "text/plain": [
              "'2022-02-09 03:17:12-08:00'"
            ]
          },
          "metadata": {},
          "execution_count": 11
        }
      ]
    },
    {
      "cell_type": "code",
      "source": [
        "local.format('YYYY-MM-DD HH:mm:ss ZZ')"
      ],
      "metadata": {
        "colab": {
          "base_uri": "https://localhost:8080/",
          "height": 37
        },
        "id": "aMiSHrZDauxe",
        "outputId": "48bf6ea8-257b-4974-f341-7fc2d36f4463"
      },
      "execution_count": 12,
      "outputs": [
        {
          "output_type": "execute_result",
          "data": {
            "application/vnd.google.colaboratory.intrinsic+json": {
              "type": "string"
            },
            "text/plain": [
              "'2022-02-09 03:17:12 -08:00'"
            ]
          },
          "metadata": {},
          "execution_count": 12
        }
      ]
    },
    {
      "cell_type": "code",
      "source": [
        "local.humanize()"
      ],
      "metadata": {
        "colab": {
          "base_uri": "https://localhost:8080/",
          "height": 37
        },
        "id": "lqtvgdFCavt2",
        "outputId": "49b48455-b567-4df3-8e95-0cd9545298e3"
      },
      "execution_count": 13,
      "outputs": [
        {
          "output_type": "execute_result",
          "data": {
            "application/vnd.google.colaboratory.intrinsic+json": {
              "type": "string"
            },
            "text/plain": [
              "'an hour ago'"
            ]
          },
          "metadata": {},
          "execution_count": 13
        }
      ]
    },
    {
      "cell_type": "code",
      "source": [
        "local.humanize(locale='ko-kr')"
      ],
      "metadata": {
        "colab": {
          "base_uri": "https://localhost:8080/",
          "height": 37
        },
        "id": "GbTqEw1kawpG",
        "outputId": "a6500a38-60f6-4dc8-b091-9f59be38577f"
      },
      "execution_count": 14,
      "outputs": [
        {
          "output_type": "execute_result",
          "data": {
            "application/vnd.google.colaboratory.intrinsic+json": {
              "type": "string"
            },
            "text/plain": [
              "'한시간 전'"
            ]
          },
          "metadata": {},
          "execution_count": 14
        }
      ]
    },
    {
      "cell_type": "markdown",
      "source": [
        "# 3. Scrubadub"
      ],
      "metadata": {
        "id": "Lj7d_HDAac1_"
      }
    },
    {
      "cell_type": "code",
      "source": [
        "pip install scrubadub"
      ],
      "metadata": {
        "colab": {
          "base_uri": "https://localhost:8080/"
        },
        "id": "JQF3oBSaaYiM",
        "outputId": "d1dcc771-cd46-40e8-82be-924a96078540"
      },
      "execution_count": 15,
      "outputs": [
        {
          "output_type": "stream",
          "name": "stdout",
          "text": [
            "Collecting scrubadub\n",
            "  Downloading scrubadub-2.0.0-py3-none-any.whl (65 kB)\n",
            "\u001b[?25l\r\u001b[K     |█████                           | 10 kB 26.3 MB/s eta 0:00:01\r\u001b[K     |██████████                      | 20 kB 12.1 MB/s eta 0:00:01\r\u001b[K     |███████████████                 | 30 kB 9.3 MB/s eta 0:00:01\r\u001b[K     |████████████████████▏           | 40 kB 8.3 MB/s eta 0:00:01\r\u001b[K     |█████████████████████████▏      | 51 kB 5.5 MB/s eta 0:00:01\r\u001b[K     |██████████████████████████████▏ | 61 kB 5.5 MB/s eta 0:00:01\r\u001b[K     |████████████████████████████████| 65 kB 2.2 MB/s \n",
            "\u001b[?25hRequirement already satisfied: sklearn in /usr/local/lib/python3.7/dist-packages (from scrubadub) (0.0)\n",
            "Collecting python-stdnum\n",
            "  Downloading python_stdnum-1.17-py2.py3-none-any.whl (943 kB)\n",
            "\u001b[K     |████████████████████████████████| 943 kB 10.7 MB/s \n",
            "\u001b[?25hRequirement already satisfied: typing-extensions in /usr/local/lib/python3.7/dist-packages (from scrubadub) (3.10.0.2)\n",
            "Collecting dateparser\n",
            "  Downloading dateparser-1.1.0-py2.py3-none-any.whl (288 kB)\n",
            "\u001b[K     |████████████████████████████████| 288 kB 58.4 MB/s \n",
            "\u001b[?25hCollecting faker\n",
            "  Downloading Faker-12.1.0-py3-none-any.whl (1.5 MB)\n",
            "\u001b[K     |████████████████████████████████| 1.5 MB 43.3 MB/s \n",
            "\u001b[?25hCollecting phonenumbers\n",
            "  Downloading phonenumbers-8.12.42-py2.py3-none-any.whl (2.6 MB)\n",
            "\u001b[K     |████████████████████████████████| 2.6 MB 42.6 MB/s \n",
            "\u001b[?25hRequirement already satisfied: catalogue in /usr/local/lib/python3.7/dist-packages (from scrubadub) (1.0.0)\n",
            "Requirement already satisfied: textblob==0.15.3 in /usr/local/lib/python3.7/dist-packages (from scrubadub) (0.15.3)\n",
            "Requirement already satisfied: nltk>=3.1 in /usr/local/lib/python3.7/dist-packages (from textblob==0.15.3->scrubadub) (3.2.5)\n",
            "Requirement already satisfied: six in /usr/local/lib/python3.7/dist-packages (from nltk>=3.1->textblob==0.15.3->scrubadub) (1.15.0)\n",
            "Requirement already satisfied: importlib-metadata>=0.20 in /usr/local/lib/python3.7/dist-packages (from catalogue->scrubadub) (4.10.1)\n",
            "Requirement already satisfied: zipp>=0.5 in /usr/local/lib/python3.7/dist-packages (from importlib-metadata>=0.20->catalogue->scrubadub) (3.7.0)\n",
            "Requirement already satisfied: pytz in /usr/local/lib/python3.7/dist-packages (from dateparser->scrubadub) (2018.9)\n",
            "Requirement already satisfied: tzlocal in /usr/local/lib/python3.7/dist-packages (from dateparser->scrubadub) (1.5.1)\n",
            "Requirement already satisfied: regex!=2019.02.19,!=2021.8.27 in /usr/local/lib/python3.7/dist-packages (from dateparser->scrubadub) (2019.12.20)\n",
            "Requirement already satisfied: python-dateutil in /usr/local/lib/python3.7/dist-packages (from dateparser->scrubadub) (2.8.2)\n",
            "Requirement already satisfied: scikit-learn in /usr/local/lib/python3.7/dist-packages (from sklearn->scrubadub) (1.0.2)\n",
            "Requirement already satisfied: joblib>=0.11 in /usr/local/lib/python3.7/dist-packages (from scikit-learn->sklearn->scrubadub) (1.1.0)\n",
            "Requirement already satisfied: scipy>=1.1.0 in /usr/local/lib/python3.7/dist-packages (from scikit-learn->sklearn->scrubadub) (1.4.1)\n",
            "Requirement already satisfied: numpy>=1.14.6 in /usr/local/lib/python3.7/dist-packages (from scikit-learn->sklearn->scrubadub) (1.19.5)\n",
            "Requirement already satisfied: threadpoolctl>=2.0.0 in /usr/local/lib/python3.7/dist-packages (from scikit-learn->sklearn->scrubadub) (3.1.0)\n",
            "Installing collected packages: python-stdnum, phonenumbers, faker, dateparser, scrubadub\n",
            "Successfully installed dateparser-1.1.0 faker-12.1.0 phonenumbers-8.12.42 python-stdnum-1.17 scrubadub-2.0.0\n"
          ]
        }
      ]
    },
    {
      "cell_type": "code",
      "source": [
        "import scrubadub\n",
        "scrubber = scrubadub.Scrubber()\n",
        "scrubber.add_detector(scrubadub.detectors.DateOfBirthDetector)\n",
        "scrubber.clean(\"I was born on 5th December 1983\")"
      ],
      "metadata": {
        "colab": {
          "base_uri": "https://localhost:8080/",
          "height": 37
        },
        "id": "xwtYoyDZaeon",
        "outputId": "0ea8db34-a1f6-492d-94e4-d4ee412de5df"
      },
      "execution_count": 16,
      "outputs": [
        {
          "output_type": "execute_result",
          "data": {
            "application/vnd.google.colaboratory.intrinsic+json": {
              "type": "string"
            },
            "text/plain": [
              "'I was born {{DATE_OF_BIRTH}}'"
            ]
          },
          "metadata": {},
          "execution_count": 16
        }
      ]
    },
    {
      "cell_type": "code",
      "source": [
        "import scrubadub\n",
        "scrubber = scrubadub.Scrubber(locale='de_DE')\n",
        "scrubber.clean('Meine Telefonnummer ist 05086 63680')"
      ],
      "metadata": {
        "colab": {
          "base_uri": "https://localhost:8080/",
          "height": 37
        },
        "id": "nieiKDwja3hL",
        "outputId": "1f02f88d-c970-42c8-e0e9-6fc3261ee21f"
      },
      "execution_count": 18,
      "outputs": [
        {
          "output_type": "execute_result",
          "data": {
            "application/vnd.google.colaboratory.intrinsic+json": {
              "type": "string"
            },
            "text/plain": [
              "'Meine Telefonnummer ist {{PHONE}}'"
            ]
          },
          "metadata": {},
          "execution_count": 18
        }
      ]
    }
  ]
}