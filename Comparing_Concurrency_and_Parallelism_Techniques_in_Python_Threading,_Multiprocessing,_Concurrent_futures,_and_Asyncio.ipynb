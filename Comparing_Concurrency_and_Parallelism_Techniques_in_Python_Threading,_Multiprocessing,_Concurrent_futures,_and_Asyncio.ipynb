{
  "nbformat": 4,
  "nbformat_minor": 0,
  "metadata": {
    "colab": {
      "provenance": [],
      "authorship_tag": "ABX9TyNqQ0Ah7I4bpY2BhyH/FSWB"
    },
    "kernelspec": {
      "name": "python3",
      "display_name": "Python 3"
    },
    "language_info": {
      "name": "python"
    }
  },
  "cells": [
    {
      "cell_type": "markdown",
      "source": [
        "[Reference](https://levelup.gitconnected.com/comparing-concurrency-and-parallelism-techniques-in-python-threading-multiprocessing-concurrent-f-7e28c1bf8340)"
      ],
      "metadata": {
        "id": "guf3Atiuvgkm"
      }
    },
    {
      "cell_type": "markdown",
      "source": [
        "# Threading:"
      ],
      "metadata": {
        "id": "tsxmhor9vkNt"
      }
    },
    {
      "cell_type": "code",
      "execution_count": 1,
      "metadata": {
        "colab": {
          "base_uri": "https://localhost:8080/"
        },
        "id": "k7yIMfvgve47",
        "outputId": "96aa90b7-5948-4d12-f687-e58a5d2d8354"
      },
      "outputs": [
        {
          "output_type": "stream",
          "name": "stdout",
          "text": [
            "1\n",
            "2\n",
            "3\n",
            "4\n",
            "5\n",
            "A\n",
            "B\n",
            "C\n",
            "D\n",
            "E\n"
          ]
        }
      ],
      "source": [
        "import threading\n",
        "\n",
        "def print_numbers():\n",
        "    for i in range(1, 6):\n",
        "        print(i)\n",
        "\n",
        "def print_letters():\n",
        "    for letter in 'ABCDE':\n",
        "        print(letter)\n",
        "\n",
        "thread1 = threading.Thread(target=print_numbers)\n",
        "thread2 = threading.Thread(target=print_letters)\n",
        "\n",
        "thread1.start()\n",
        "thread2.start()\n",
        "\n",
        "thread1.join()\n",
        "thread2.join()"
      ]
    },
    {
      "cell_type": "markdown",
      "source": [
        "# Multiprocessing:"
      ],
      "metadata": {
        "id": "BNLVe4GBvna6"
      }
    },
    {
      "cell_type": "code",
      "source": [
        "import multiprocessing\n",
        "\n",
        "def calculate_square(num):\n",
        "    result = num * num\n",
        "    print(result)\n",
        "\n",
        "if __name__ == '__main__':\n",
        "    processes = []\n",
        "\n",
        "    for i in range(1, 6):\n",
        "        process = multiprocessing.Process(target=calculate_square, args=(i,))\n",
        "        processes.append(process)\n",
        "        process.start()\n",
        "\n",
        "    for process in processes:\n",
        "        process.join()"
      ],
      "metadata": {
        "colab": {
          "base_uri": "https://localhost:8080/"
        },
        "id": "jDcGN283vmOx",
        "outputId": "eeb7826e-47cf-4861-bc73-348429998d35"
      },
      "execution_count": 2,
      "outputs": [
        {
          "output_type": "stream",
          "name": "stdout",
          "text": [
            "1\n",
            "4169\n",
            "\n",
            "\n",
            "25\n"
          ]
        }
      ]
    },
    {
      "cell_type": "markdown",
      "source": [
        "# Concurrent.futures:"
      ],
      "metadata": {
        "id": "dIFSHgIUvsGT"
      }
    },
    {
      "cell_type": "markdown",
      "source": [
        "## v"
      ],
      "metadata": {
        "id": "MUka1EV7vwVm"
      }
    },
    {
      "cell_type": "code",
      "source": [
        "import concurrent.futures\n",
        "\n",
        "# Define a simple function to be executed\n",
        "def task(n):\n",
        "    return n ** 2\n",
        "\n",
        "# Create a ThreadPoolExecutor with maximum 2 worker threads\n",
        "with concurrent.futures.ThreadPoolExecutor(max_workers=2) as executor:\n",
        "    # Submit tasks to the executor\n",
        "    results = [executor.submit(task, i) for i in range(5)]\n",
        "\n",
        "    # Retrieve results as they become available\n",
        "    for future in concurrent.futures.as_completed(results):\n",
        "        result = future.result()\n",
        "        print(result)"
      ],
      "metadata": {
        "colab": {
          "base_uri": "https://localhost:8080/"
        },
        "id": "bLmtKpFZvp7y",
        "outputId": "3ae743d3-b7c0-4485-d69f-0e01a0f60ac2"
      },
      "execution_count": 3,
      "outputs": [
        {
          "output_type": "stream",
          "name": "stdout",
          "text": [
            "1\n",
            "4\n",
            "0\n",
            "9\n",
            "16\n"
          ]
        }
      ]
    },
    {
      "cell_type": "markdown",
      "source": [
        "## ProcessPoolExecutor example:"
      ],
      "metadata": {
        "id": "zBsjTjjCvzDc"
      }
    },
    {
      "cell_type": "code",
      "source": [
        "import concurrent.futures\n",
        "\n",
        "# Define a simple function to be executed\n",
        "def task(n):\n",
        "    return n ** 2\n",
        "\n",
        "# Create a ProcessPoolExecutor with maximum 2 worker processes\n",
        "with concurrent.futures.ProcessPoolExecutor(max_workers=2) as executor:\n",
        "    # Submit tasks to the executor\n",
        "    results = [executor.submit(task, i) for i in range(5)]\n",
        "\n",
        "    # Retrieve results as they become available\n",
        "    for future in concurrent.futures.as_completed(results):\n",
        "        result = future.result()\n",
        "        print(result)"
      ],
      "metadata": {
        "colab": {
          "base_uri": "https://localhost:8080/"
        },
        "id": "1OZ7wBSMvvRn",
        "outputId": "e414bfec-2a94-4472-e696-5bb1be10e291"
      },
      "execution_count": 4,
      "outputs": [
        {
          "output_type": "stream",
          "name": "stdout",
          "text": [
            "0\n",
            "1\n",
            "4\n",
            "9\n",
            "16\n"
          ]
        }
      ]
    },
    {
      "cell_type": "markdown",
      "source": [
        "# Asyncio:"
      ],
      "metadata": {
        "id": "A33c4TgNv1oX"
      }
    },
    {
      "cell_type": "code",
      "source": [
        "import asyncio\n",
        "\n",
        "async def print_numbers():\n",
        "    for i in range(1, 6):\n",
        "        print(i)\n",
        "        await asyncio.sleep(1)\n",
        "\n",
        "async def print_letters():\n",
        "    for letter in 'ABCDE':\n",
        "        print(letter)\n",
        "        await asyncio.sleep(1)\n",
        "\n",
        "async def main():\n",
        "    task1 = asyncio.create_task(print_numbers())\n",
        "    task2 = asyncio.create_task(print_letters())\n",
        "\n",
        "    await asyncio.gather(task1, task2)\n",
        "\n",
        "asyncio.run(main())"
      ],
      "metadata": {
        "id": "-ywsOz3Ev0W2"
      },
      "execution_count": 6,
      "outputs": []
    }
  ]
}