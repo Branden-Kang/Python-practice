{
  "nbformat": 4,
  "nbformat_minor": 0,
  "metadata": {
    "colab": {
      "provenance": [],
      "authorship_tag": "ABX9TyP5MAu1Qr+UcswHbcZI17b7"
    },
    "kernelspec": {
      "name": "python3",
      "display_name": "Python 3"
    },
    "language_info": {
      "name": "python"
    }
  },
  "cells": [
    {
      "cell_type": "markdown",
      "source": [
        "[Reference](https://python.plainenglish.io/introduction-to-cython-5f590739298f)"
      ],
      "metadata": {
        "id": "-80ZCH0yFHNV"
      }
    },
    {
      "cell_type": "code",
      "execution_count": 1,
      "metadata": {
        "colab": {
          "base_uri": "https://localhost:8080/"
        },
        "id": "e8eDvN-SEvBI",
        "outputId": "73cc5469-7623-40bf-fa43-d58444185605"
      },
      "outputs": [
        {
          "output_type": "stream",
          "name": "stdout",
          "text": [
            "Requirement already satisfied: cython in /usr/local/lib/python3.10/dist-packages (3.0.2)\n"
          ]
        }
      ],
      "source": [
        "pip install cython"
      ]
    },
    {
      "cell_type": "markdown",
      "source": [
        "# Writing Cython Code"
      ],
      "metadata": {
        "id": "olUZ1bRVFMbb"
      }
    },
    {
      "cell_type": "code",
      "source": [
        "# hello_cython.pyx\n",
        "def say_hello(name: str) -> str:\n",
        "    return f\"Hello, {name}!\""
      ],
      "metadata": {
        "id": "wPRz0VxFFKVn"
      },
      "execution_count": 2,
      "outputs": []
    },
    {
      "cell_type": "markdown",
      "source": [
        "# Compiling Cython Code"
      ],
      "metadata": {
        "id": "e5mKx7MGFOT6"
      }
    },
    {
      "cell_type": "code",
      "source": [
        "# setup.py\n",
        "from setuptools import setup\n",
        "from Cython.Build import cythonize\n",
        "\n",
        "setup(\n",
        "    ext_modules=cythonize(\"hello_cython.pyx\"),\n",
        ")"
      ],
      "metadata": {
        "id": "qZ_HIQRvFOhy"
      },
      "execution_count": 3,
      "outputs": []
    },
    {
      "cell_type": "code",
      "source": [
        "python setup.py build_ext --inplace"
      ],
      "metadata": {
        "id": "Lgqq3rZYFkmJ"
      },
      "execution_count": 4,
      "outputs": []
    },
    {
      "cell_type": "markdown",
      "source": [
        "# Using Cython Code"
      ],
      "metadata": {
        "id": "G6iDKtwqFoX5"
      }
    },
    {
      "cell_type": "code",
      "source": [
        "# main.py\n",
        "import hello_cython\n",
        "\n",
        "message = hello_cython.say_hello(\"Cython\")\n",
        "print(message)  # Output: Hello, Cython!"
      ],
      "metadata": {
        "id": "M_F6TFo3FnI2"
      },
      "execution_count": 5,
      "outputs": []
    },
    {
      "cell_type": "markdown",
      "source": [
        "# Type Annotations"
      ],
      "metadata": {
        "id": "L_ddmPwAFq-2"
      }
    },
    {
      "cell_type": "code",
      "source": [
        "def add_numbers(int a, int b) -> int:\n",
        "    return a + b"
      ],
      "metadata": {
        "id": "u85JVf6nFpyV"
      },
      "execution_count": 6,
      "outputs": []
    },
    {
      "cell_type": "markdown",
      "source": [
        "# C-Style Declarations"
      ],
      "metadata": {
        "id": "CkcmpjaGFtiy"
      }
    },
    {
      "cell_type": "code",
      "source": [
        "cdef int a, b\n",
        "cdef double result"
      ],
      "metadata": {
        "id": "Uhki9qsIFsJY"
      },
      "execution_count": 7,
      "outputs": []
    }
  ]
}