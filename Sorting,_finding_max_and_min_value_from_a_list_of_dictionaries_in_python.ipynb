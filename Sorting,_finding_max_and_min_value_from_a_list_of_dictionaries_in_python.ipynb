{
  "nbformat": 4,
  "nbformat_minor": 0,
  "metadata": {
    "colab": {
      "name": "Sorting, finding max and min value from a list of dictionaries in python.ipynb",
      "provenance": [],
      "authorship_tag": "ABX9TyOz4ND0j1PqlO5EirdkuWZ8"
    },
    "kernelspec": {
      "name": "python3",
      "display_name": "Python 3"
    },
    "language_info": {
      "name": "python"
    }
  },
  "cells": [
    {
      "cell_type": "markdown",
      "metadata": {
        "id": "bhQ-5bteuBP2"
      },
      "source": [
        "[Reference](https://allwin-raju-12.medium.com/sorting-finding-max-and-min-value-from-a-list-of-dictionaries-in-python-f85fbb16d28f)"
      ]
    },
    {
      "cell_type": "markdown",
      "metadata": {
        "id": "_BCsijuRuEp7"
      },
      "source": [
        "# 1. Sorting"
      ]
    },
    {
      "cell_type": "code",
      "metadata": {
        "colab": {
          "base_uri": "https://localhost:8080/"
        },
        "id": "2NDe8suZt7aV",
        "outputId": "6334bfec-f3d5-4451-bf37-f9fcad6d8bfa"
      },
      "source": [
        "my_list = [{'name': 'A', 'age': 3}, \n",
        "           {'name': 'C', 'age': 9}, \n",
        "           {'name': 'B', 'age': 12}, \n",
        "           {'name': 'D', 'age': 15}]\n",
        "x\n",
        "sorted_list = sorted(my_list, key=lambda x: x['age'])\n",
        "print(sorted_list)"
      ],
      "execution_count": 1,
      "outputs": [
        {
          "output_type": "stream",
          "text": [
            "[{'name': 'A', 'age': 3}, {'name': 'C', 'age': 9}, {'name': 'B', 'age': 12}, {'name': 'D', 'age': 15}]\n"
          ],
          "name": "stdout"
        }
      ]
    },
    {
      "cell_type": "code",
      "metadata": {
        "colab": {
          "base_uri": "https://localhost:8080/"
        },
        "id": "unnGLp2xuPEv",
        "outputId": "cb116552-62f6-43bf-87cd-0231f66c3fb0"
      },
      "source": [
        "my_list = [{'name': 'A', 'age': 3}, \n",
        "           {'name': 'C', 'age': 9}, \n",
        "           {'name': 'B', 'age': 12}, \n",
        "           {'name': 'D', 'age': 15}]\n",
        "\n",
        "sorted_list = sorted(my_list, key=lambda x: x['age'], reverse=True)\n",
        "print(sorted_list)"
      ],
      "execution_count": 3,
      "outputs": [
        {
          "output_type": "stream",
          "text": [
            "[{'name': 'D', 'age': 15}, {'name': 'B', 'age': 12}, {'name': 'C', 'age': 9}, {'name': 'A', 'age': 3}]\n"
          ],
          "name": "stdout"
        }
      ]
    },
    {
      "cell_type": "markdown",
      "metadata": {
        "id": "yTSh8mYsuXGk"
      },
      "source": [
        "# 2. max"
      ]
    },
    {
      "cell_type": "code",
      "metadata": {
        "colab": {
          "base_uri": "https://localhost:8080/"
        },
        "id": "u3CUvHRouSQ4",
        "outputId": "ccb8d102-77b0-4694-8bf7-3c273c16828f"
      },
      "source": [
        "my_list = [{'name': 'A', 'age': 3}, \n",
        "           {'name': 'C', 'age': 9}, \n",
        "           {'name': 'B', 'age': 12}, \n",
        "           {'name': 'D', 'age': 15}]\n",
        "\n",
        "max_age = max(my_list, key=lambda x: x['age'])\n",
        "print(max_age)\n",
        "print('name {}, age {}'.format(max_age['name'], max_age['age']))"
      ],
      "execution_count": 4,
      "outputs": [
        {
          "output_type": "stream",
          "text": [
            "{'name': 'D', 'age': 15}\n",
            "name D, age 15\n"
          ],
          "name": "stdout"
        }
      ]
    },
    {
      "cell_type": "markdown",
      "metadata": {
        "id": "WPJFAKVJunHh"
      },
      "source": [
        "# 3. min"
      ]
    },
    {
      "cell_type": "code",
      "metadata": {
        "colab": {
          "base_uri": "https://localhost:8080/"
        },
        "id": "MAx95zKpui3H",
        "outputId": "50a184d6-1c49-4658-9ade-e84753090ec7"
      },
      "source": [
        "my_list = [{'name': 'A', 'age': 3}, \n",
        "           {'name': 'C', 'age': 9}, \n",
        "           {'name': 'B', 'age': 12}, \n",
        "           {'name': 'D', 'age': 15}]\n",
        "\n",
        "min_age = min(my_list, key=lambda x: x['age'])\n",
        "print(min_age)\n",
        "print('name {}, age {}'.format(min_age['name'], min_age['age']))"
      ],
      "execution_count": 5,
      "outputs": [
        {
          "output_type": "stream",
          "text": [
            "{'name': 'A', 'age': 3}\n",
            "name A, age 3\n"
          ],
          "name": "stdout"
        }
      ]
    }
  ]
}