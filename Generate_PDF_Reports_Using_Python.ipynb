{
  "nbformat": 4,
  "nbformat_minor": 0,
  "metadata": {
    "colab": {
      "name": "Generate PDF Reports Using Python.ipynb",
      "provenance": [],
      "authorship_tag": "ABX9TyO24LEgSo+UQFlVk3CLBPXi"
    },
    "kernelspec": {
      "name": "python3",
      "display_name": "Python 3"
    },
    "language_info": {
      "name": "python"
    }
  },
  "cells": [
    {
      "cell_type": "markdown",
      "metadata": {
        "id": "RnsR5mihQZpC"
      },
      "source": [
        "[Reference](https://david-kyn.medium.com/workplace-automation-generate-pdf-reports-using-python-fa75c50e7715)\n"
      ]
    },
    {
      "cell_type": "code",
      "metadata": {
        "colab": {
          "base_uri": "https://localhost:8080/"
        },
        "id": "xxzlukgcPDO3",
        "outputId": "d34814b4-d013-4ef9-8cb5-a2e2bef968cf"
      },
      "source": [
        "!pip install fpdf\n",
        "!pip install kaleido\n",
        "!pip install dataframe_image\n",
        "!pip install pandas"
      ],
      "execution_count": 1,
      "outputs": [
        {
          "output_type": "stream",
          "text": [
            "Collecting fpdf\n",
            "  Downloading fpdf-1.7.2.tar.gz (39 kB)\n",
            "Building wheels for collected packages: fpdf\n",
            "  Building wheel for fpdf (setup.py) ... \u001b[?25l\u001b[?25hdone\n",
            "  Created wheel for fpdf: filename=fpdf-1.7.2-py2.py3-none-any.whl size=40722 sha256=4d374321c52e3e37b653a4d4ea0340cc57613116642cb6865c1918520d64da5f\n",
            "  Stored in directory: /root/.cache/pip/wheels/d7/ca/c8/86467e7957bbbcbdf4cf4870fc7dc95e9a16404b2e3c3a98c3\n",
            "Successfully built fpdf\n",
            "Installing collected packages: fpdf\n",
            "Successfully installed fpdf-1.7.2\n",
            "Collecting kaleido\n",
            "  Downloading kaleido-0.2.1-py2.py3-none-manylinux1_x86_64.whl (79.9 MB)\n",
            "\u001b[K     |████████████████████████████████| 79.9 MB 45 kB/s \n",
            "\u001b[?25hInstalling collected packages: kaleido\n",
            "Successfully installed kaleido-0.2.1\n",
            "Collecting dataframe_image\n",
            "  Downloading dataframe_image-0.1.1-py3-none-any.whl (32 kB)\n",
            "Collecting aiohttp\n",
            "  Downloading aiohttp-3.7.4.post0-cp37-cp37m-manylinux2014_x86_64.whl (1.3 MB)\n",
            "\u001b[K     |████████████████████████████████| 1.3 MB 5.3 MB/s \n",
            "\u001b[?25hRequirement already satisfied: pandas>=0.24 in /usr/local/lib/python3.7/dist-packages (from dataframe_image) (1.1.5)\n",
            "Requirement already satisfied: matplotlib>=3.1 in /usr/local/lib/python3.7/dist-packages (from dataframe_image) (3.2.2)\n",
            "Requirement already satisfied: nbconvert>=5 in /usr/local/lib/python3.7/dist-packages (from dataframe_image) (5.6.1)\n",
            "Requirement already satisfied: requests in /usr/local/lib/python3.7/dist-packages (from dataframe_image) (2.23.0)\n",
            "Requirement already satisfied: beautifulsoup4 in /usr/local/lib/python3.7/dist-packages (from dataframe_image) (4.6.3)\n",
            "Requirement already satisfied: numpy>=1.11 in /usr/local/lib/python3.7/dist-packages (from matplotlib>=3.1->dataframe_image) (1.19.5)\n",
            "Requirement already satisfied: python-dateutil>=2.1 in /usr/local/lib/python3.7/dist-packages (from matplotlib>=3.1->dataframe_image) (2.8.1)\n",
            "Requirement already satisfied: cycler>=0.10 in /usr/local/lib/python3.7/dist-packages (from matplotlib>=3.1->dataframe_image) (0.10.0)\n",
            "Requirement already satisfied: pyparsing!=2.0.4,!=2.1.2,!=2.1.6,>=2.0.1 in /usr/local/lib/python3.7/dist-packages (from matplotlib>=3.1->dataframe_image) (2.4.7)\n",
            "Requirement already satisfied: kiwisolver>=1.0.1 in /usr/local/lib/python3.7/dist-packages (from matplotlib>=3.1->dataframe_image) (1.3.1)\n",
            "Requirement already satisfied: six in /usr/local/lib/python3.7/dist-packages (from cycler>=0.10->matplotlib>=3.1->dataframe_image) (1.15.0)\n",
            "Requirement already satisfied: mistune<2,>=0.8.1 in /usr/local/lib/python3.7/dist-packages (from nbconvert>=5->dataframe_image) (0.8.4)\n",
            "Requirement already satisfied: defusedxml in /usr/local/lib/python3.7/dist-packages (from nbconvert>=5->dataframe_image) (0.7.1)\n",
            "Requirement already satisfied: pygments in /usr/local/lib/python3.7/dist-packages (from nbconvert>=5->dataframe_image) (2.6.1)\n",
            "Requirement already satisfied: traitlets>=4.2 in /usr/local/lib/python3.7/dist-packages (from nbconvert>=5->dataframe_image) (5.0.5)\n",
            "Requirement already satisfied: nbformat>=4.4 in /usr/local/lib/python3.7/dist-packages (from nbconvert>=5->dataframe_image) (5.1.3)\n",
            "Requirement already satisfied: pandocfilters>=1.4.1 in /usr/local/lib/python3.7/dist-packages (from nbconvert>=5->dataframe_image) (1.4.3)\n",
            "Requirement already satisfied: jupyter-core in /usr/local/lib/python3.7/dist-packages (from nbconvert>=5->dataframe_image) (4.7.1)\n",
            "Requirement already satisfied: entrypoints>=0.2.2 in /usr/local/lib/python3.7/dist-packages (from nbconvert>=5->dataframe_image) (0.3)\n",
            "Requirement already satisfied: jinja2>=2.4 in /usr/local/lib/python3.7/dist-packages (from nbconvert>=5->dataframe_image) (2.11.3)\n",
            "Requirement already satisfied: testpath in /usr/local/lib/python3.7/dist-packages (from nbconvert>=5->dataframe_image) (0.5.0)\n",
            "Requirement already satisfied: bleach in /usr/local/lib/python3.7/dist-packages (from nbconvert>=5->dataframe_image) (3.3.0)\n",
            "Requirement already satisfied: MarkupSafe>=0.23 in /usr/local/lib/python3.7/dist-packages (from jinja2>=2.4->nbconvert>=5->dataframe_image) (2.0.1)\n",
            "Requirement already satisfied: jsonschema!=2.5.0,>=2.4 in /usr/local/lib/python3.7/dist-packages (from nbformat>=4.4->nbconvert>=5->dataframe_image) (2.6.0)\n",
            "Requirement already satisfied: ipython-genutils in /usr/local/lib/python3.7/dist-packages (from nbformat>=4.4->nbconvert>=5->dataframe_image) (0.2.0)\n",
            "Requirement already satisfied: pytz>=2017.2 in /usr/local/lib/python3.7/dist-packages (from pandas>=0.24->dataframe_image) (2018.9)\n",
            "Collecting yarl<2.0,>=1.0\n",
            "  Downloading yarl-1.6.3-cp37-cp37m-manylinux2014_x86_64.whl (294 kB)\n",
            "\u001b[K     |████████████████████████████████| 294 kB 69.3 MB/s \n",
            "\u001b[?25hRequirement already satisfied: attrs>=17.3.0 in /usr/local/lib/python3.7/dist-packages (from aiohttp->dataframe_image) (21.2.0)\n",
            "Collecting multidict<7.0,>=4.5\n",
            "  Downloading multidict-5.1.0-cp37-cp37m-manylinux2014_x86_64.whl (142 kB)\n",
            "\u001b[K     |████████████████████████████████| 142 kB 70.5 MB/s \n",
            "\u001b[?25hRequirement already satisfied: typing-extensions>=3.6.5 in /usr/local/lib/python3.7/dist-packages (from aiohttp->dataframe_image) (3.7.4.3)\n",
            "Collecting async-timeout<4.0,>=3.0\n",
            "  Downloading async_timeout-3.0.1-py3-none-any.whl (8.2 kB)\n",
            "Requirement already satisfied: chardet<5.0,>=2.0 in /usr/local/lib/python3.7/dist-packages (from aiohttp->dataframe_image) (3.0.4)\n",
            "Requirement already satisfied: idna>=2.0 in /usr/local/lib/python3.7/dist-packages (from yarl<2.0,>=1.0->aiohttp->dataframe_image) (2.10)\n",
            "Requirement already satisfied: packaging in /usr/local/lib/python3.7/dist-packages (from bleach->nbconvert>=5->dataframe_image) (21.0)\n",
            "Requirement already satisfied: webencodings in /usr/local/lib/python3.7/dist-packages (from bleach->nbconvert>=5->dataframe_image) (0.5.1)\n",
            "Requirement already satisfied: certifi>=2017.4.17 in /usr/local/lib/python3.7/dist-packages (from requests->dataframe_image) (2021.5.30)\n",
            "Requirement already satisfied: urllib3!=1.25.0,!=1.25.1,<1.26,>=1.21.1 in /usr/local/lib/python3.7/dist-packages (from requests->dataframe_image) (1.24.3)\n",
            "Installing collected packages: multidict, yarl, async-timeout, aiohttp, dataframe-image\n",
            "Successfully installed aiohttp-3.7.4.post0 async-timeout-3.0.1 dataframe-image-0.1.1 multidict-5.1.0 yarl-1.6.3\n",
            "Requirement already satisfied: pandas in /usr/local/lib/python3.7/dist-packages (1.1.5)\n",
            "Requirement already satisfied: numpy>=1.15.4 in /usr/local/lib/python3.7/dist-packages (from pandas) (1.19.5)\n",
            "Requirement already satisfied: pytz>=2017.2 in /usr/local/lib/python3.7/dist-packages (from pandas) (2018.9)\n",
            "Requirement already satisfied: python-dateutil>=2.7.3 in /usr/local/lib/python3.7/dist-packages (from pandas) (2.8.1)\n",
            "Requirement already satisfied: six>=1.5 in /usr/local/lib/python3.7/dist-packages (from python-dateutil>=2.7.3->pandas) (1.15.0)\n"
          ],
          "name": "stdout"
        }
      ]
    },
    {
      "cell_type": "code",
      "metadata": {
        "id": "jOPRBXXUQq0Z"
      },
      "source": [
        "import fpdf\n",
        "from fpdf import FPDF\n",
        "import time\n",
        "import pandas as pd\n",
        "import matplotlib.pyplot as plt\n",
        "import dataframe_image as dfi"
      ],
      "execution_count": 2,
      "outputs": []
    },
    {
      "cell_type": "code",
      "metadata": {
        "id": "sNKZewLaQxZZ"
      },
      "source": [
        "def color_pos_neg_value(value):\n",
        "if value < 0:\n",
        "        color = 'red'\n",
        "    elif value > 0:\n",
        "        color = 'green'\n",
        "    else:\n",
        "        color = 'black'\n",
        "return 'color: %s' % color\n",
        "\n",
        "# Apply styling to dataframe\n",
        "styled_df = df.style.format({'Year of Release': \"{:.0f}\",\n",
        "                      'NA Sales': \"{:.2f}\",\n",
        "                      'EU Sales': \"{:.2f}\",\n",
        "                      'JP Sales': \"{:.2f}\",\n",
        "                      'Other Sales': \"{:.2f}\",\n",
        "                      'Global Sales': \"{:.2f}\",\n",
        "                      'Total Sales': \"{:.2f}\",\n",
        "                      'Sales Pct Change': \"{:.2f}%\",\n",
        "                     }).hide_index().bar(subset=[\"Total Sales\",], color='lightgreen').applymap(color_pos_neg_value, subset=['Sales Pct Change'])"
      ],
      "execution_count": 3,
      "outputs": []
    },
    {
      "cell_type": "code",
      "metadata": {
        "id": "bBEwcyaQQ0pu"
      },
      "source": [
        "dfi.export(styled_df, 'resources/annual_sales.png')"
      ],
      "execution_count": 4,
      "outputs": []
    },
    {
      "cell_type": "code",
      "metadata": {
        "id": "jzJcqi2mQ2jn"
      },
      "source": [
        "def generate_matplotlib_stackbars(df, filename):\n",
        "    \n",
        "    # Create subplot and bar\n",
        "    fig, ax = plt.subplots()\n",
        "    ax.plot(df['Year of Release'].values, df['Total Sales'].values, color=\"#E63946\", marker='D') \n",
        "\n",
        "    # Set Title\n",
        "    ax.set_title('Heicoders Academy Annual Sales', fontweight=\"bold\")\n",
        "\n",
        "    # Set xticklabels\n",
        "    ax.set_xticklabels(df['Year of Release'].values, rotation=90)\n",
        "    plt.xticks(df['Year of Release'].values)\n",
        "\n",
        "    # Set ylabel\n",
        "    ax.set_ylabel('Total Sales (USD $)') \n",
        "\n",
        "    # Save the plot as a PNG\n",
        "    plt.savefig(filename, dpi=300, bbox_inches='tight', pad_inches=0)\n",
        "    \n",
        "    plt.show()\n",
        "    \n",
        "def generate_matplotlib_piechart(df, filename):\n",
        "    \n",
        "    # Pie chart, where the slices will be ordered and plotted counter-clockwise:\n",
        "    labels = [\"NA Sales\", \"EU Sales\", \"JP Sales\", \"Other Sales\", \"Global Sales\"]\n",
        "    sales_value = df[[\"NA Sales\", \"EU Sales\", \"JP Sales\", \"Other Sales\", \"Global Sales\"]].tail(1)\n",
        "    \n",
        "    # Colors\n",
        "    colors = ['#E63946','#F1FAEE','#A8DADC','#457B9D','#1D3557', '#9BF6FF']\n",
        "    \n",
        "    # Create subplot\n",
        "    fig, ax = plt.subplots()\n",
        "    \n",
        "    # Generate pie chart\n",
        "    ax.pie(sales_value, labels=labels, autopct='%1.1f%%', startangle=90, colors = colors)\n",
        "    ax.axis('equal')  # Equal aspect ratio ensures that pie is drawn as a circle.\n",
        "    \n",
        "    # Set Title\n",
        "    ax.set_title('Heicoders Academy 2016 Sales Breakdown', fontweight=\"bold\")\n",
        "    \n",
        "    # Save the plot as a PNG\n",
        "    plt.savefig(filename, dpi=300, bbox_inches='tight', pad_inches=0)\n",
        "    \n",
        "    plt.show()"
      ],
      "execution_count": 5,
      "outputs": []
    },
    {
      "cell_type": "code",
      "metadata": {
        "id": "om2nME7-Q6dP"
      },
      "source": [
        "generate_matplotlib_stackbars(df, 'resources/heicoders_annual_sales.png')\n",
        "generate_matplotlib_piechart(df, 'resources/heicoders_2016_sales_breakdown.png')"
      ],
      "execution_count": 6,
      "outputs": []
    },
    {
      "cell_type": "code",
      "metadata": {
        "id": "nc-_BT4WQ8hA"
      },
      "source": [
        "def create_letterhead(pdf, WIDTH):\n",
        "    pdf.image(\"./resources/heicoders_letterhead_cropped.png\", 0, 0, WIDTH)\n",
        "\n",
        "def create_title(title, pdf):\n",
        "    \n",
        "    # Add main title\n",
        "    pdf.set_font('Helvetica', 'b', 20)  \n",
        "    pdf.ln(40)\n",
        "    pdf.write(5, title)\n",
        "    pdf.ln(10)\n",
        "    \n",
        "    # Add date of report\n",
        "    pdf.set_font('Helvetica', '', 14)\n",
        "    pdf.set_text_color(r=128,g=128,b=128)\n",
        "    today = time.strftime(\"%d/%m/%Y\")\n",
        "    pdf.write(4, f'{today}')\n",
        "    \n",
        "    # Add line break\n",
        "    pdf.ln(10)\n",
        "\n",
        "def write_to_pdf(pdf, words):\n",
        "    \n",
        "    # Set text colour, font size, and font type\n",
        "    pdf.set_text_color(r=0,g=0,b=0)\n",
        "    pdf.set_font('Helvetica', '', 12)\n",
        "    \n",
        "    pdf.write(5, words)"
      ],
      "execution_count": 7,
      "outputs": []
    },
    {
      "cell_type": "code",
      "metadata": {
        "id": "TZaHtxbbQ_vQ"
      },
      "source": [
        "class PDF(FPDF):\n",
        "\n",
        "    def footer(self):\n",
        "        self.set_y(-15)\n",
        "        self.set_font('Helvetica', 'I', 8)\n",
        "        self.set_text_color(128)\n",
        "        self.cell(0, 10, 'Page ' + str(self.page_no()), 0, 0, 'C')"
      ],
      "execution_count": 8,
      "outputs": []
    },
    {
      "cell_type": "code",
      "metadata": {
        "id": "a8P6ggVPRBiA"
      },
      "source": [
        "# Global Variables\n",
        "TITLE = \"Monthly Business Report\"\n",
        "WIDTH = 210\n",
        "HEIGHT = 297\n",
        "\n",
        "# Create PDF\n",
        "pdf = PDF() # A4 (210 by 297 mm)\n",
        "\n",
        "\n",
        "'''\n",
        "First Page of PDF\n",
        "'''\n",
        "# Add Page\n",
        "pdf.add_page()\n",
        "\n",
        "# Add lettterhead and title\n",
        "create_letterhead(pdf, WIDTH)\n",
        "create_title(TITLE, pdf)\n",
        "\n",
        "# Add some words to PDF\n",
        "write_to_pdf(pdf, \"1. The table below illustrates the annual sales of Heicoders Academy:\")\n",
        "pdf.ln(15)\n",
        "\n",
        "# Add table\n",
        "pdf.image(\"./resources/annual_sales.png\", w=170)\n",
        "pdf.ln(10)\n",
        "\n",
        "# Add some words to PDF\n",
        "write_to_pdf(pdf, \"2. The visualisations below shows the trend of total sales for Heicoders Academy and the breakdown of revenue for year 2016:\")\n",
        "\n",
        "# Add the generated visualisations to the PDF\n",
        "pdf.image(\"resources/heicoders_annual_sales.png\", 5, 200, WIDTH/2-10)\n",
        "pdf.image(\"resources/heicoders_2016_sales_breakdown.png\", WIDTH/2, 200, WIDTH/2-10)\n",
        "pdf.ln(10)\n",
        "\n",
        "\n",
        "'''\n",
        "Second Page of PDF\n",
        "'''\n",
        "\n",
        "# Add Page\n",
        "pdf.add_page()\n",
        "\n",
        "# Add lettterhead\n",
        "create_letterhead(pdf, WIDTH)\n",
        "\n",
        "# Add some words to PDF\n",
        "pdf.ln(40)\n",
        "write_to_pdf(pdf, \"3. In conclusion, the year-on-year sales of Heicoders Academy continue to show a healthy upward trend. Majority of the sales could be attributed to the global sales which accounts for 58.0% of sales in 2016.\")\n",
        "pdf.ln(15)\n",
        "\n",
        "# Generate the PDF\n",
        "pdf.output(\"annual_performance_report.pdf\", 'F')"
      ],
      "execution_count": 9,
      "outputs": []
    }
  ]
}