{
  "nbformat": 4,
  "nbformat_minor": 0,
  "metadata": {
    "colab": {
      "name": "Graph Theory: Creating a Relationship Network in Python.ipynb",
      "provenance": [],
      "authorship_tag": "ABX9TyPfPiYDNBtolDaUYJPwWFd8"
    },
    "kernelspec": {
      "name": "python3",
      "display_name": "Python 3"
    },
    "language_info": {
      "name": "python"
    }
  },
  "cells": [
    {
      "cell_type": "markdown",
      "metadata": {
        "id": "aLs17iuonaqz"
      },
      "source": [
        "[Reference](https://pub.towardsai.net/graph-theory-creating-a-relationship-network-in-python-f7b6ecf7f50)"
      ]
    },
    {
      "cell_type": "code",
      "metadata": {
        "colab": {
          "base_uri": "https://localhost:8080/"
        },
        "id": "C5yCf5W1l4b-",
        "outputId": "10646333-3bf3-49b7-c2ca-e449770e0a54"
      },
      "source": [
        "class person():\n",
        "  def __init__(self):\n",
        "    self.value_map = dict()  \n",
        "    \n",
        "  def set_relationship(self, obj1, value):\n",
        "    self.value_map[obj1] = value\n",
        "    \n",
        "class object():\n",
        "  def __init__(self):\n",
        "    pass\n",
        "    \n",
        "p1 = person()\n",
        "\n",
        "obj1 = object()\n",
        "obj2 = object()\n",
        "\n",
        "p1.set_relationship(obj1, {'metric1':4, 'metric2':30})\n",
        "p1.set_relationship(obj2, {'metric1':12, 'metric2':100})\n",
        "print(p1.value_map)"
      ],
      "execution_count": 1,
      "outputs": [
        {
          "output_type": "stream",
          "name": "stdout",
          "text": [
            "{<__main__.object object at 0x7fa5c46abcd0>: {'metric1': 4, 'metric2': 30}, <__main__.object object at 0x7fa5c46abd90>: {'metric1': 12, 'metric2': 100}}\n"
          ]
        }
      ]
    },
    {
      "cell_type": "code",
      "metadata": {
        "colab": {
          "base_uri": "https://localhost:8080/"
        },
        "id": "r8AQP0aInHHA",
        "outputId": "bf45a0a9-c4ef-4ef6-8d72-68801d08f03b"
      },
      "source": [
        "import random\n",
        "\n",
        "def relationship_network(n_people, n_values):\n",
        "  class person():\n",
        "    def __init__(self):\n",
        "      self.value_map = dict()    \n",
        "      \n",
        "    def set_relationship(self, obj1, value):\n",
        "      self.value_map[obj1] = value\n",
        "\n",
        "#create a list of people\n",
        "  person_list = [person() for x in range(n_people)]\n",
        "  \n",
        "#create relationships between those people\n",
        "  final_list = list()\n",
        "  #iterate through the original list\n",
        "  for person_index in range(len(person_list)):\n",
        "    #make an exact copy, so we can extract a person every time and then reset it\n",
        "    person_list_ = person_list.copy()\n",
        "    popped = person_list_.pop(person_index)\n",
        "    #after extracting a person, create relationship with all the others, and place it in a final list\n",
        "    for remaining in person_list_:\n",
        "      popped.set_relationship(remaining, {'metric_'+str(x+1):random.randint(0, 100) for x in range(n_values)}) #{'metric1': random.randint(0, 100), 'metric2': random.randint(0, 100)})\n",
        "    final_list.append(popped)\n",
        "    \n",
        "    #contains the relationship between every element in the system\n",
        "  return final_list\n",
        "  \n",
        "relationship_table = relationship_network(3, 3)\n",
        "[print(x.value_map) for x in relationship_table]\n",
        "print('person_3')\n",
        "relationship_table[2].value_map"
      ],
      "execution_count": 2,
      "outputs": [
        {
          "output_type": "stream",
          "name": "stdout",
          "text": [
            "{<__main__.relationship_network.<locals>.person object at 0x7fa5c1c614d0>: {'metric_1': 35, 'metric_2': 50, 'metric_3': 13}, <__main__.relationship_network.<locals>.person object at 0x7fa5c1c61510>: {'metric_1': 64, 'metric_2': 55, 'metric_3': 34}}\n",
            "{<__main__.relationship_network.<locals>.person object at 0x7fa5c1c61350>: {'metric_1': 57, 'metric_2': 84, 'metric_3': 47}, <__main__.relationship_network.<locals>.person object at 0x7fa5c1c61510>: {'metric_1': 58, 'metric_2': 24, 'metric_3': 34}}\n",
            "{<__main__.relationship_network.<locals>.person object at 0x7fa5c1c61350>: {'metric_1': 5, 'metric_2': 100, 'metric_3': 89}, <__main__.relationship_network.<locals>.person object at 0x7fa5c1c614d0>: {'metric_1': 79, 'metric_2': 0, 'metric_3': 78}}\n",
            "person_3\n"
          ]
        },
        {
          "output_type": "execute_result",
          "data": {
            "text/plain": [
              "{<__main__.relationship_network.<locals>.person at 0x7fa5c1c61350>: {'metric_1': 5,\n",
              "  'metric_2': 100,\n",
              "  'metric_3': 89},\n",
              " <__main__.relationship_network.<locals>.person at 0x7fa5c1c614d0>: {'metric_1': 79,\n",
              "  'metric_2': 0,\n",
              "  'metric_3': 78}}"
            ]
          },
          "metadata": {},
          "execution_count": 2
        }
      ]
    }
  ]
}