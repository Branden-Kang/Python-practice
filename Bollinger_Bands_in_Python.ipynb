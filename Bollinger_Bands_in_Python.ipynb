{
  "nbformat": 4,
  "nbformat_minor": 0,
  "metadata": {
    "colab": {
      "name": "Bollinger Bands in Python.ipynb",
      "provenance": [],
      "authorship_tag": "ABX9TyOB/2wBJ6SfLINtSpM8vFYI"
    },
    "kernelspec": {
      "name": "python3",
      "display_name": "Python 3"
    }
  },
  "cells": [
    {
      "cell_type": "markdown",
      "metadata": {
        "id": "2yJ3R6rZzahH"
      },
      "source": [
        "[Reference](https://medium.com/ai-in-plain-english/a-new-modified-version-of-the-bollinger-bands-in-python-a616c25821b8)"
      ]
    },
    {
      "cell_type": "markdown",
      "metadata": {
        "id": "Pe8-hHmVzTUd"
      },
      "source": [
        "![Bollinger Bands](https://miro.medium.com/max/1400/1*loG3ag5aWeEKHAzamPFOvQ.png)"
      ]
    },
    {
      "cell_type": "code",
      "metadata": {
        "id": "lyNzOZM7PPaz"
      },
      "source": [
        "def ma(Data, period, onwhat, where):\n",
        "    \n",
        "    for i in range(len(Data)):\n",
        "            try:\n",
        "                Data[i, where] = (Data[i - period + 1:i + 1, onwhat].mean())\n",
        "        \n",
        "            except IndexError:\n",
        "                pass\n",
        "    return Data\n",
        "\n",
        "def BollingerBands(Data, boll_lookback, standard_distance, onwhat, where_ma, where_vol, where_up, where_down):\n",
        "       \n",
        "    # Calculating means\n",
        "    ma(Data, boll_lookback, onwhat, where_ma)\n",
        "    \n",
        "    volatility(Data, boll_lookback, onwhat, where_vol)\n",
        "    \n",
        "    Data[:, where_up]   =  Data[:, where_ma] + (standard_distance * Data[:, where_vol])\n",
        "    Data[:, where_down] =  Data[:, where_ma] - (standard_distance * Data[:, where_vol])\n",
        "        \n",
        "    return Data"
      ],
      "execution_count": 2,
      "outputs": []
    },
    {
      "cell_type": "code",
      "metadata": {
        "id": "ZlgWLsePzntT"
      },
      "source": [
        "def lwma(Data, period):\n",
        "    \n",
        "    weighted = []\n",
        "    for i in range(len(Data)):\n",
        "            try:\n",
        "                total = np.arange(1, period + 1, 1)\n",
        "                \n",
        "                matrix = Data[i - period + 1: i + 1, 3:4]\n",
        "                matrix = np.ndarray.flatten(matrix)\n",
        "                matrix = total * matrix\n",
        "                wma = (matrix.sum()) / (total.sum())\n",
        "                weighted = np.append(weighted, wma)\n",
        "                \n",
        "            except ValueError:\n",
        "                pass\n",
        "            \n",
        "    return weighted"
      ],
      "execution_count": 6,
      "outputs": []
    }
  ]
}