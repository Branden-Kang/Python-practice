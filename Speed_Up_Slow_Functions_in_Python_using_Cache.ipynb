{
  "nbformat": 4,
  "nbformat_minor": 0,
  "metadata": {
    "colab": {
      "name": "Speed Up Slow Functions in Python using Cache.ipynb",
      "provenance": [],
      "authorship_tag": "ABX9TyPL9r+5ie6Ir4zIujYT2Ekj"
    },
    "kernelspec": {
      "name": "python3",
      "display_name": "Python 3"
    },
    "language_info": {
      "name": "python"
    }
  },
  "cells": [
    {
      "cell_type": "markdown",
      "metadata": {
        "id": "-Z_UOnvFX7E5"
      },
      "source": [
        "[Reference](https://medium.com/hackerdawn/speed-up-slow-functions-in-python-using-cache-49dd7f7eb13c)"
      ]
    },
    {
      "cell_type": "markdown",
      "metadata": {
        "id": "dj35hIbcX-Yj"
      },
      "source": [
        "# LRU Cache"
      ]
    },
    {
      "cell_type": "code",
      "metadata": {
        "id": "MWtTLb1OXipE"
      },
      "source": [
        "def factorial(n):\n",
        "    return n * factorial(n-1) if n else 1"
      ],
      "execution_count": 1,
      "outputs": []
    },
    {
      "cell_type": "code",
      "metadata": {
        "id": "jIP3JcZAYDbS"
      },
      "source": [
        "from functools import lru_cache\n",
        "\n",
        "@lru_cache(maxsize=None)\n",
        "def factorial_lru_cache(n):\n",
        "    return n * factorial(n-1) if n else 1"
      ],
      "execution_count": 2,
      "outputs": []
    },
    {
      "cell_type": "code",
      "metadata": {
        "colab": {
          "base_uri": "https://localhost:8080/"
        },
        "id": "i7J6PmvqYE27",
        "outputId": "58a830a6-5d77-4974-bf3e-e52940c47ba4"
      },
      "source": [
        "# Without LRU Cache\n",
        "import time\n",
        "start_time = time.time_ns()\n",
        "factorial(50)\n",
        "print(time.time_ns() - start_time)"
      ],
      "execution_count": 3,
      "outputs": [
        {
          "output_type": "stream",
          "text": [
            "136093\n"
          ],
          "name": "stdout"
        }
      ]
    },
    {
      "cell_type": "code",
      "metadata": {
        "colab": {
          "base_uri": "https://localhost:8080/"
        },
        "id": "rxXwXGM1YG_j",
        "outputId": "cf6eac5a-0ffa-4083-cb3e-287292c8c6e2"
      },
      "source": [
        "# With LRU Cache\n",
        "start_time = time.time_ns()\n",
        "factorial_lru_cache(50)\n",
        "print(time.time_ns() - start_time)"
      ],
      "execution_count": 4,
      "outputs": [
        {
          "output_type": "stream",
          "text": [
            "89278\n"
          ],
          "name": "stdout"
        }
      ]
    },
    {
      "cell_type": "code",
      "metadata": {
        "colab": {
          "base_uri": "https://localhost:8080/"
        },
        "id": "5lFPRO5EYkJk",
        "outputId": "3ea9a2f4-9ed2-4804-e04e-4a834d5ce67e"
      },
      "source": [
        "136093/89278"
      ],
      "execution_count": 10,
      "outputs": [
        {
          "output_type": "execute_result",
          "data": {
            "text/plain": [
              "1.5243733058536257"
            ]
          },
          "metadata": {
            "tags": []
          },
          "execution_count": 10
        }
      ]
    },
    {
      "cell_type": "markdown",
      "metadata": {
        "id": "Cd-XPtGFYR33"
      },
      "source": [
        "# Fibonacci Function"
      ]
    },
    {
      "cell_type": "code",
      "metadata": {
        "id": "JMM-5K5zYJaJ"
      },
      "source": [
        "def fibonacci(n):\n",
        "    if n <= 1:\n",
        "        return n\n",
        "    return fibonacci(n - 1) + fibonacci(n - 2)"
      ],
      "execution_count": 11,
      "outputs": []
    },
    {
      "cell_type": "code",
      "metadata": {
        "id": "BBJemuFWYT7Z"
      },
      "source": [
        "@lru_cache(maxsize=None)\n",
        "def fibonacci_lru_cache(n):\n",
        "    if n <= 1:\n",
        "        return n\n",
        "    return fibonacci(n - 1) + fibonacci(n - 2)"
      ],
      "execution_count": 12,
      "outputs": []
    },
    {
      "cell_type": "code",
      "metadata": {
        "colab": {
          "base_uri": "https://localhost:8080/"
        },
        "id": "XnohshwxYVVZ",
        "outputId": "d92a3248-ebba-4428-ed27-e4cf17d24d45"
      },
      "source": [
        "# Without LRU Cache\n",
        "start_time = time.time_ns()\n",
        "fibonacci(30)\n",
        "print(time.time_ns() - start_time)"
      ],
      "execution_count": 13,
      "outputs": [
        {
          "output_type": "stream",
          "text": [
            "380797103\n"
          ],
          "name": "stdout"
        }
      ]
    },
    {
      "cell_type": "code",
      "metadata": {
        "colab": {
          "base_uri": "https://localhost:8080/"
        },
        "id": "LjBCdNMKYWeB",
        "outputId": "76ee1a10-dfd8-4c8a-bcda-5000b9dc3d93"
      },
      "source": [
        "# With LRU Cache\n",
        "start_time = time.time_ns()\n",
        "fibonacci_lru_cache(30)\n",
        "print(time.time_ns() - start_time)"
      ],
      "execution_count": 14,
      "outputs": [
        {
          "output_type": "stream",
          "text": [
            "376829212\n"
          ],
          "name": "stdout"
        }
      ]
    },
    {
      "cell_type": "code",
      "metadata": {
        "colab": {
          "base_uri": "https://localhost:8080/"
        },
        "id": "wg1Qds0JYX6H",
        "outputId": "5df16d8c-c5df-4470-f3bc-2753ebc7725a"
      },
      "source": [
        "378143530/368280319"
      ],
      "execution_count": 9,
      "outputs": [
        {
          "output_type": "execute_result",
          "data": {
            "text/plain": [
              "1.026781803129697"
            ]
          },
          "metadata": {
            "tags": []
          },
          "execution_count": 9
        }
      ]
    }
  ]
}