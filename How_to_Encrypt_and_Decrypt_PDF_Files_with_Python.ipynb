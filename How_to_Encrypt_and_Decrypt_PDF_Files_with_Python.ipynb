{
  "nbformat": 4,
  "nbformat_minor": 0,
  "metadata": {
    "colab": {
      "provenance": [],
      "authorship_tag": "ABX9TyN7GwUXMJgDBZt5HPIeRYGw"
    },
    "kernelspec": {
      "name": "python3",
      "display_name": "Python 3"
    },
    "language_info": {
      "name": "python"
    }
  },
  "cells": [
    {
      "cell_type": "markdown",
      "source": [
        "[Reference](https://medium.com/@alice.yang_10652/how-to-encrypt-and-decrypt-pdf-files-with-python-124d86a70718)"
      ],
      "metadata": {
        "id": "t5OkQM-K68sf"
      }
    },
    {
      "cell_type": "code",
      "execution_count": 1,
      "metadata": {
        "colab": {
          "base_uri": "https://localhost:8080/"
        },
        "id": "OHn77F3x6yxL",
        "outputId": "5e6729d2-ee5c-4de1-86a9-d815bb92e80d"
      },
      "outputs": [
        {
          "output_type": "stream",
          "name": "stdout",
          "text": [
            "Collecting Spire.Pdf\n",
            "  Downloading Spire.Pdf-10.7.1-py3-none-manylinux1_x86_64.whl.metadata (7.0 kB)\n",
            "Collecting plum-dispatch==1.7.4 (from Spire.Pdf)\n",
            "  Downloading plum_dispatch-1.7.4-py3-none-any.whl.metadata (1.8 kB)\n",
            "Downloading Spire.Pdf-10.7.1-py3-none-manylinux1_x86_64.whl (41.6 MB)\n",
            "\u001b[2K   \u001b[90m━━━━━━━━━━━━━━━━━━━━━━━━━━━━━━━━━━━━━━━━\u001b[0m \u001b[32m41.6/41.6 MB\u001b[0m \u001b[31m12.0 MB/s\u001b[0m eta \u001b[36m0:00:00\u001b[0m\n",
            "\u001b[?25hDownloading plum_dispatch-1.7.4-py3-none-any.whl (24 kB)\n",
            "Installing collected packages: plum-dispatch, Spire.Pdf\n",
            "Successfully installed Spire.Pdf-10.7.1 plum-dispatch-1.7.4\n"
          ]
        }
      ],
      "source": [
        "pip install Spire.Pdf\n",
        "# pip install - upgrade Spire.Pdf"
      ]
    },
    {
      "cell_type": "markdown",
      "source": [
        "# Encrypt a PDF with Python"
      ],
      "metadata": {
        "id": "Aya9YyN47DvP"
      }
    },
    {
      "cell_type": "code",
      "source": [
        "from spire.pdf.common import *\n",
        "from spire.pdf import *\n",
        "\n",
        "# Create a PdfDocument object\n",
        "pdf = PdfDocument()\n",
        "# Load an existing PDF file that needs to be encrypted\n",
        "pdf.LoadFromFile(\"Sample.pdf\")\n",
        "\n",
        "# Create a security policy and set the user password required to open the document\n",
        "securityPolicy = PdfPasswordSecurityPolicy(\"userpassword\", str())\n",
        "\n",
        "# Specify the encryption algorithm to use for securing the PDF\n",
        "securityPolicy.EncryptionAlgorithm = PdfEncryptionAlgorithm.AES_256\n",
        "\n",
        "# Apply the security policy to encrypt the PDF document\n",
        "pdf.Encrypt(securityPolicy)\n",
        "\n",
        "# Save the encrypted PDF document to a new file\n",
        "pdf.SaveToFile(\"Encrypt.pdf\")\n",
        "pdf.Close()"
      ],
      "metadata": {
        "id": "IOxYMiJc7BC8"
      },
      "execution_count": 3,
      "outputs": []
    },
    {
      "cell_type": "markdown",
      "source": [
        "# Set Security Permissions in a PDF with Python"
      ],
      "metadata": {
        "id": "PSebdMlW7QMt"
      }
    },
    {
      "cell_type": "code",
      "source": [
        "from spire.pdf.common import *\n",
        "from spire.pdf import *\n",
        "\n",
        "# Create a PdfDocument object\n",
        "pdf = PdfDocument()\n",
        "# Load an existing PDF file that needs to be encrypted\n",
        "pdf.LoadFromFile(\"Sample.pdf\")\n",
        "\n",
        "# Create a security policy and set the user password to open the document and the owner password to restrict permissions\n",
        "securityPolicy = PdfPasswordSecurityPolicy(\"userpassword\", \"ownerpassword\")\n",
        "\n",
        "# Set the encryption algorithm\n",
        "securityPolicy.EncryptionAlgorithm = PdfEncryptionAlgorithm.AES_256\n",
        "\n",
        "# Restrict all permissions\n",
        "securityPolicy.DocumentPrivilege = PdfDocumentPrivilege.ForbidAll()\n",
        "# Only allow printing of the document\n",
        "securityPolicy.DocumentPrivilege.AllowPrint = True\n",
        "\n",
        "# Encrypt all document content except metadata (optional, it allows search engines to access the document’s metadata)\n",
        "# securityPolicy.EncryptMetadata = False\n",
        "\n",
        "# Apply the security policy to encrypt the PDF document\n",
        "pdf.Encrypt(securityPolicy)\n",
        "\n",
        "# Save the encrypted PDF document to a new file\n",
        "pdf.SaveToFile(\"EncryptWithPermissions.pdf\")\n",
        "pdf.Close()"
      ],
      "metadata": {
        "id": "m-pNhYQC7OcH"
      },
      "execution_count": 4,
      "outputs": []
    },
    {
      "cell_type": "markdown",
      "source": [
        "# Decrypt a PDF with Python"
      ],
      "metadata": {
        "id": "gij_A0MF7X5j"
      }
    },
    {
      "cell_type": "code",
      "source": [
        "from spire.pdf.common import *\n",
        "from spire.pdf import *\n",
        "\n",
        "# Create a PdfDocument object\n",
        "pdf = PdfDocument()\n",
        "# Load an encrypted PDF document with either its user password or owner password\n",
        "pdf.LoadFromFile(\"EncryptWithPermissions.pdf\", \"userpassword\")\n",
        "\n",
        "# Decrypt the PDF document\n",
        "pdf.Decrypt(\"ownerpassword\")\n",
        "\n",
        "# Save the resulting document to a new file\n",
        "pdf.SaveToFile(\"Decrypt.pdf\")\n",
        "pdf.Close()"
      ],
      "metadata": {
        "id": "JXDg09am7VDD"
      },
      "execution_count": 5,
      "outputs": []
    }
  ]
}