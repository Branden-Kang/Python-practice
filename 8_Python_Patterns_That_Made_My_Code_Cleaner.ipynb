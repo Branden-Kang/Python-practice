{
  "nbformat": 4,
  "nbformat_minor": 0,
  "metadata": {
    "colab": {
      "provenance": [],
      "authorship_tag": "ABX9TyP6gikkq63lHTFGd0BsWoDI"
    },
    "kernelspec": {
      "name": "python3",
      "display_name": "Python 3"
    },
    "language_info": {
      "name": "python"
    }
  },
  "cells": [
    {
      "cell_type": "markdown",
      "source": [
        "[Reference](https://medium.com/pythoneers/8-python-patterns-that-made-my-code-cleaner-449d4f3860f6)"
      ],
      "metadata": {
        "id": "kzGRw0FV4tTt"
      }
    },
    {
      "cell_type": "markdown",
      "source": [
        "# 1. Guard Clauses Instead of Nested Ifs\n"
      ],
      "metadata": {
        "id": "cT_jomCe4wSo"
      }
    },
    {
      "cell_type": "code",
      "execution_count": 1,
      "metadata": {
        "id": "x3-OnvgF4q-i"
      },
      "outputs": [],
      "source": [
        "def process(user):\n",
        "    if user:\n",
        "        if user[\"active\"]:\n",
        "            print(\"Processing user\")"
      ]
    },
    {
      "cell_type": "code",
      "source": [
        "def process(user):\n",
        "    if not user or not user[\"active\"]:\n",
        "        return\n",
        "    print(\"Processing user\")"
      ],
      "metadata": {
        "id": "SVmq_MyE4ylz"
      },
      "execution_count": 2,
      "outputs": []
    },
    {
      "cell_type": "markdown",
      "source": [
        "# 2. Using with Statements for Resource Management\n"
      ],
      "metadata": {
        "id": "LvateLe440bl"
      }
    },
    {
      "cell_type": "code",
      "source": [
        "file = open(\"data.txt\")\n",
        "content = file.read()\n",
        "file.close()"
      ],
      "metadata": {
        "id": "XXLpBvIk4yw-"
      },
      "execution_count": 3,
      "outputs": []
    },
    {
      "cell_type": "code",
      "source": [
        "with open(\"data.txt\") as file:\n",
        "    content = file.read()"
      ],
      "metadata": {
        "id": "T5hbAnLX43NX"
      },
      "execution_count": 4,
      "outputs": []
    },
    {
      "cell_type": "markdown",
      "source": [
        "# 3. Dictionary Dispatch Instead of If-Else Chains\n"
      ],
      "metadata": {
        "id": "zEoWcXe-465d"
      }
    },
    {
      "cell_type": "code",
      "source": [
        "def operation(op, x, y):\n",
        "    if op == \"add\":\n",
        "        return x + y\n",
        "    elif op == \"sub\":\n",
        "        return x - y"
      ],
      "metadata": {
        "id": "s1uHMnOA446L"
      },
      "execution_count": 5,
      "outputs": []
    },
    {
      "cell_type": "code",
      "source": [
        "def operation(op, x, y):\n",
        "    ops = {\n",
        "        \"add\": lambda a, b: a + b,\n",
        "        \"sub\": lambda a, b: a - b,\n",
        "    }\n",
        "    return ops[op](x, y)"
      ],
      "metadata": {
        "id": "c-qeiwEJ48VT"
      },
      "execution_count": 6,
      "outputs": []
    },
    {
      "cell_type": "markdown",
      "source": [
        "# 4. Using zip() to Pair Iterables\n"
      ],
      "metadata": {
        "id": "O-9vo1N04-xH"
      }
    },
    {
      "cell_type": "code",
      "source": [
        "names = [\"Alice\", \"Bob\", \"Charlie\"]\n",
        "scores = [85, 90, 78]\n",
        "for name, score in zip(names, scores):\n",
        "    print(name, score)"
      ],
      "metadata": {
        "colab": {
          "base_uri": "https://localhost:8080/"
        },
        "id": "QoRxs4iB49lN",
        "outputId": "55dfe82d-7f9b-4c7a-979b-c9dcdb45cfe6"
      },
      "execution_count": 7,
      "outputs": [
        {
          "output_type": "stream",
          "name": "stdout",
          "text": [
            "Alice 85\n",
            "Bob 90\n",
            "Charlie 78\n"
          ]
        }
      ]
    },
    {
      "cell_type": "markdown",
      "source": [
        "# 5. Data Classes Over Manual __init__\n"
      ],
      "metadata": {
        "id": "kJ3DRrWg5BOT"
      }
    },
    {
      "cell_type": "code",
      "source": [
        "class User:\n",
        "    def __init__(self, name, age):\n",
        "        self.name = name\n",
        "        self.age = age"
      ],
      "metadata": {
        "id": "HLc-QIKY5AX1"
      },
      "execution_count": 8,
      "outputs": []
    },
    {
      "cell_type": "code",
      "source": [
        "from dataclasses import dataclass\n",
        "@dataclass\n",
        "class User:\n",
        "    name: str\n",
        "    age: int"
      ],
      "metadata": {
        "id": "_cDL0f7X5CqS"
      },
      "execution_count": 9,
      "outputs": []
    },
    {
      "cell_type": "markdown",
      "source": [
        "# 6. F-Strings for Readable Formatting\n"
      ],
      "metadata": {
        "id": "KwZ08I_c5Ez8"
      }
    },
    {
      "cell_type": "code",
      "source": [
        "name, age = \"Alice\", 25\n",
        "print(f\"My name is {name} and I am {age} years old\")"
      ],
      "metadata": {
        "colab": {
          "base_uri": "https://localhost:8080/"
        },
        "id": "vihFLFzB5DnL",
        "outputId": "bf2f53b7-a3ab-4293-8e23-cfd1fa283eb8"
      },
      "execution_count": 10,
      "outputs": [
        {
          "output_type": "stream",
          "name": "stdout",
          "text": [
            "My name is Alice and I am 25 years old\n"
          ]
        }
      ]
    },
    {
      "cell_type": "markdown",
      "source": [
        "# 7. Using defaultdict to Avoid Key Errors"
      ],
      "metadata": {
        "id": "a3u6c1xJ5HAW"
      }
    },
    {
      "cell_type": "code",
      "source": [
        "from collections import defaultdict\n",
        "counts = defaultdict(int)\n",
        "words = [\"a\", \"b\", \"a\"]\n",
        "for w in words:\n",
        "    counts[w] += 1\n",
        "print(counts)"
      ],
      "metadata": {
        "colab": {
          "base_uri": "https://localhost:8080/"
        },
        "id": "QMJbYZ9G5GCn",
        "outputId": "5251898c-82ac-4792-858b-52503bced6bc"
      },
      "execution_count": 11,
      "outputs": [
        {
          "output_type": "stream",
          "name": "stdout",
          "text": [
            "defaultdict(<class 'int'>, {'a': 2, 'b': 1})\n"
          ]
        }
      ]
    },
    {
      "cell_type": "markdown",
      "source": [
        "# 8. itertools for Complex Iteration"
      ],
      "metadata": {
        "id": "rjEkB5Fq5JdF"
      }
    },
    {
      "cell_type": "code",
      "source": [
        "from itertools import combinations\n",
        "items = [\"a\", \"b\", \"c\"]\n",
        "for combo in combinations(items, 2):\n",
        "    print(combo)"
      ],
      "metadata": {
        "colab": {
          "base_uri": "https://localhost:8080/"
        },
        "id": "Mz1XtVXg5IbF",
        "outputId": "7db47775-f5d8-4fae-9b83-d48959eb5fa4"
      },
      "execution_count": 12,
      "outputs": [
        {
          "output_type": "stream",
          "name": "stdout",
          "text": [
            "('a', 'b')\n",
            "('a', 'c')\n",
            "('b', 'c')\n"
          ]
        }
      ]
    }
  ]
}