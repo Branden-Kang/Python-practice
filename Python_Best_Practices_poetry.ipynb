{
  "nbformat": 4,
  "nbformat_minor": 0,
  "metadata": {
    "colab": {
      "name": "Python Best Practices - poetry.ipynb",
      "provenance": [],
      "authorship_tag": "ABX9TyPL4j7/XQ5X5uv4dC+Kr0lw"
    },
    "kernelspec": {
      "name": "python3",
      "display_name": "Python 3"
    },
    "language_info": {
      "name": "python"
    }
  },
  "cells": [
    {
      "cell_type": "markdown",
      "metadata": {
        "id": "k4HUABw8nYUe"
      },
      "source": [
        "[Reference](https://medium.com/edge-analytics/python-best-practices-2934de825fd2)"
      ]
    },
    {
      "cell_type": "code",
      "metadata": {
        "colab": {
          "base_uri": "https://localhost:8080/"
        },
        "id": "nLuCiEMVniC3",
        "outputId": "60cfaf19-23f4-4041-f878-5bb8d693bbb8"
      },
      "source": [
        "pip install --user poetry"
      ],
      "execution_count": 2,
      "outputs": [
        {
          "output_type": "stream",
          "text": [
            "Collecting poetry\n",
            "  Downloading poetry-1.1.7-py2.py3-none-any.whl (173 kB)\n",
            "\u001b[K     |████████████████████████████████| 173 kB 14.3 MB/s \n",
            "\u001b[?25hCollecting packaging<21.0,>=20.4\n",
            "  Downloading packaging-20.9-py2.py3-none-any.whl (40 kB)\n",
            "\u001b[K     |████████████████████████████████| 40 kB 4.7 MB/s \n",
            "\u001b[?25hCollecting requests-toolbelt<0.10.0,>=0.9.1\n",
            "  Downloading requests_toolbelt-0.9.1-py2.py3-none-any.whl (54 kB)\n",
            "\u001b[K     |████████████████████████████████| 54 kB 1.9 MB/s \n",
            "\u001b[?25hRequirement already satisfied: cachecontrol[filecache]<0.13.0,>=0.12.4 in /usr/local/lib/python3.7/dist-packages (from poetry) (0.12.6)\n",
            "Collecting crashtest<0.4.0,>=0.3.0\n",
            "  Downloading crashtest-0.3.1-py3-none-any.whl (7.0 kB)\n",
            "Collecting cleo<0.9.0,>=0.8.1\n",
            "  Downloading cleo-0.8.1-py2.py3-none-any.whl (21 kB)\n",
            "Collecting virtualenv<21.0.0,>=20.0.26\n",
            "  Downloading virtualenv-20.6.0-py2.py3-none-any.whl (5.3 MB)\n",
            "\u001b[K     |████████████████████████████████| 5.3 MB 21.9 MB/s \n",
            "\u001b[?25hRequirement already satisfied: html5lib<2.0,>=1.0 in /usr/local/lib/python3.7/dist-packages (from poetry) (1.0.1)\n",
            "Collecting clikit<0.7.0,>=0.6.2\n",
            "  Downloading clikit-0.6.2-py2.py3-none-any.whl (91 kB)\n",
            "\u001b[K     |████████████████████████████████| 91 kB 8.1 MB/s \n",
            "\u001b[?25hCollecting importlib-metadata<2.0.0,>=1.6.0\n",
            "  Downloading importlib_metadata-1.7.0-py2.py3-none-any.whl (31 kB)\n",
            "Collecting cachy<0.4.0,>=0.3.0\n",
            "  Downloading cachy-0.3.0-py2.py3-none-any.whl (20 kB)\n",
            "Requirement already satisfied: pexpect<5.0.0,>=4.7.0 in /usr/local/lib/python3.7/dist-packages (from poetry) (4.8.0)\n",
            "Collecting pkginfo<2.0,>=1.4\n",
            "  Downloading pkginfo-1.7.1-py2.py3-none-any.whl (25 kB)\n",
            "Collecting keyring<22.0.0,>=21.2.0\n",
            "  Downloading keyring-21.8.0-py3-none-any.whl (32 kB)\n",
            "Requirement already satisfied: requests<3.0,>=2.18 in /usr/local/lib/python3.7/dist-packages (from poetry) (2.23.0)\n",
            "Collecting shellingham<2.0,>=1.1\n",
            "  Downloading shellingham-1.4.0-py2.py3-none-any.whl (9.4 kB)\n",
            "Collecting tomlkit<1.0.0,>=0.7.0\n",
            "  Downloading tomlkit-0.7.2-py2.py3-none-any.whl (32 kB)\n",
            "Collecting poetry-core<1.1.0,>=1.0.3\n",
            "  Downloading poetry_core-1.0.3-py2.py3-none-any.whl (424 kB)\n",
            "\u001b[K     |████████████████████████████████| 424 kB 59.9 MB/s \n",
            "\u001b[?25hRequirement already satisfied: msgpack>=0.5.2 in /usr/local/lib/python3.7/dist-packages (from cachecontrol[filecache]<0.13.0,>=0.12.4->poetry) (1.0.2)\n",
            "Collecting lockfile>=0.9\n",
            "  Downloading lockfile-0.12.2-py2.py3-none-any.whl (13 kB)\n",
            "Collecting pylev<2.0,>=1.3\n",
            "  Downloading pylev-1.4.0-py2.py3-none-any.whl (6.1 kB)\n",
            "Collecting pastel<0.3.0,>=0.2.0\n",
            "  Downloading pastel-0.2.1-py2.py3-none-any.whl (6.0 kB)\n",
            "Requirement already satisfied: webencodings in /usr/local/lib/python3.7/dist-packages (from html5lib<2.0,>=1.0->poetry) (0.5.1)\n",
            "Requirement already satisfied: six>=1.9 in /usr/local/lib/python3.7/dist-packages (from html5lib<2.0,>=1.0->poetry) (1.15.0)\n",
            "Requirement already satisfied: zipp>=0.5 in /usr/local/lib/python3.7/dist-packages (from importlib-metadata<2.0.0,>=1.6.0->poetry) (3.5.0)\n",
            "Collecting SecretStorage>=3.2\n",
            "  Downloading SecretStorage-3.3.1-py3-none-any.whl (15 kB)\n",
            "Collecting jeepney>=0.4.2\n",
            "  Downloading jeepney-0.7.0-py3-none-any.whl (53 kB)\n",
            "\u001b[K     |████████████████████████████████| 53 kB 1.4 MB/s \n",
            "\u001b[?25hRequirement already satisfied: pyparsing>=2.0.2 in /usr/local/lib/python3.7/dist-packages (from packaging<21.0,>=20.4->poetry) (2.4.7)\n",
            "Requirement already satisfied: ptyprocess>=0.5 in /usr/local/lib/python3.7/dist-packages (from pexpect<5.0.0,>=4.7.0->poetry) (0.7.0)\n",
            "Requirement already satisfied: urllib3!=1.25.0,!=1.25.1,<1.26,>=1.21.1 in /usr/local/lib/python3.7/dist-packages (from requests<3.0,>=2.18->poetry) (1.24.3)\n",
            "Requirement already satisfied: chardet<4,>=3.0.2 in /usr/local/lib/python3.7/dist-packages (from requests<3.0,>=2.18->poetry) (3.0.4)\n",
            "Requirement already satisfied: certifi>=2017.4.17 in /usr/local/lib/python3.7/dist-packages (from requests<3.0,>=2.18->poetry) (2021.5.30)\n",
            "Requirement already satisfied: idna<3,>=2.5 in /usr/local/lib/python3.7/dist-packages (from requests<3.0,>=2.18->poetry) (2.10)\n",
            "Collecting cryptography>=2.0\n",
            "  Downloading cryptography-3.4.7-cp36-abi3-manylinux2014_x86_64.whl (3.2 MB)\n",
            "\u001b[K     |████████████████████████████████| 3.2 MB 59.3 MB/s \n",
            "\u001b[?25hRequirement already satisfied: cffi>=1.12 in /usr/local/lib/python3.7/dist-packages (from cryptography>=2.0->SecretStorage>=3.2->keyring<22.0.0,>=21.2.0->poetry) (1.14.6)\n",
            "Requirement already satisfied: pycparser in /usr/local/lib/python3.7/dist-packages (from cffi>=1.12->cryptography>=2.0->SecretStorage>=3.2->keyring<22.0.0,>=21.2.0->poetry) (2.20)\n",
            "Requirement already satisfied: filelock<4,>=3.0.0 in /usr/local/lib/python3.7/dist-packages (from virtualenv<21.0.0,>=20.0.26->poetry) (3.0.12)\n",
            "Collecting platformdirs<3,>=2\n",
            "  Downloading platformdirs-2.0.2-py2.py3-none-any.whl (10 kB)\n",
            "Collecting backports.entry-points-selectable>=1.0.4\n",
            "  Downloading backports.entry_points_selectable-1.1.0-py2.py3-none-any.whl (6.2 kB)\n",
            "Collecting distlib<1,>=0.3.1\n",
            "  Downloading distlib-0.3.2-py2.py3-none-any.whl (338 kB)\n",
            "\u001b[K     |████████████████████████████████| 338 kB 80.2 MB/s \n",
            "\u001b[?25hInstalling collected packages: pylev, pastel, jeepney, importlib-metadata, cryptography, crashtest, SecretStorage, platformdirs, lockfile, distlib, clikit, backports.entry-points-selectable, virtualenv, tomlkit, shellingham, requests-toolbelt, poetry-core, pkginfo, packaging, keyring, cleo, cachy, poetry\n",
            "\u001b[33m  WARNING: The script virtualenv is installed in '/root/.local/bin' which is not on PATH.\n",
            "  Consider adding this directory to PATH or, if you prefer to suppress this warning, use --no-warn-script-location.\u001b[0m\n",
            "\u001b[33m  WARNING: The script pkginfo is installed in '/root/.local/bin' which is not on PATH.\n",
            "  Consider adding this directory to PATH or, if you prefer to suppress this warning, use --no-warn-script-location.\u001b[0m\n",
            "\u001b[33m  WARNING: The script keyring is installed in '/root/.local/bin' which is not on PATH.\n",
            "  Consider adding this directory to PATH or, if you prefer to suppress this warning, use --no-warn-script-location.\u001b[0m\n",
            "\u001b[33m  WARNING: The script poetry is installed in '/root/.local/bin' which is not on PATH.\n",
            "  Consider adding this directory to PATH or, if you prefer to suppress this warning, use --no-warn-script-location.\u001b[0m\n",
            "\u001b[31mERROR: pip's dependency resolver does not currently take into account all the packages that are installed. This behaviour is the source of the following dependency conflicts.\n",
            "datascience 0.10.6 requires folium==0.2.1, but you have folium 0.8.3 which is incompatible.\u001b[0m\n",
            "Successfully installed SecretStorage-3.3.1 backports.entry-points-selectable-1.1.0 cachy-0.3.0 cleo-0.8.1 clikit-0.6.2 crashtest-0.3.1 cryptography-3.4.7 distlib-0.3.2 importlib-metadata-1.7.0 jeepney-0.7.0 keyring-21.8.0 lockfile-0.12.2 packaging-20.9 pastel-0.2.1 pkginfo-1.7.1 platformdirs-2.0.2 poetry-1.1.7 poetry-core-1.0.3 pylev-1.4.0 requests-toolbelt-0.9.1 shellingham-1.4.0 tomlkit-0.7.2 virtualenv-20.6.0\n"
          ],
          "name": "stdout"
        }
      ]
    },
    {
      "cell_type": "code",
      "metadata": {
        "id": "mkKxIMLjk-2X"
      },
      "source": [
        "!poetry install"
      ],
      "execution_count": 3,
      "outputs": []
    },
    {
      "cell_type": "code",
      "metadata": {
        "id": "plQLcRconXbv"
      },
      "source": [
        "!poetry add numpy"
      ],
      "execution_count": 2,
      "outputs": []
    },
    {
      "cell_type": "code",
      "metadata": {
        "id": "6S5Rrxpynich"
      },
      "source": [
        "!poetry run flake8"
      ],
      "execution_count": 4,
      "outputs": []
    },
    {
      "cell_type": "code",
      "metadata": {
        "id": "FuNT8VgmnoKF"
      },
      "source": [
        "!poetry shell"
      ],
      "execution_count": 5,
      "outputs": []
    },
    {
      "cell_type": "code",
      "metadata": {
        "id": "8asoTdEVnprf"
      },
      "source": [
        "exit"
      ],
      "execution_count": 6,
      "outputs": []
    }
  ]
}