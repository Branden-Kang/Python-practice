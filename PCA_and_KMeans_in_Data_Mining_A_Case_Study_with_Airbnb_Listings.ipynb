{
  "nbformat": 4,
  "nbformat_minor": 0,
  "metadata": {
    "colab": {
      "provenance": [],
      "authorship_tag": "ABX9TyPDLbak0OW5yU8xQZgzR43J"
    },
    "kernelspec": {
      "name": "python3",
      "display_name": "Python 3"
    },
    "language_info": {
      "name": "python"
    }
  },
  "cells": [
    {
      "cell_type": "markdown",
      "source": [
        "[Reference](https://drlee.io/pca-and-kmeans-in-data-mining-a-case-study-with-airbnb-listings-aacf8f76a668)"
      ],
      "metadata": {
        "id": "76C1eOEJyPz4"
      }
    },
    {
      "cell_type": "markdown",
      "source": [
        "# Dataset Overview"
      ],
      "metadata": {
        "id": "4mtocpnLyS7F"
      }
    },
    {
      "cell_type": "code",
      "execution_count": 7,
      "metadata": {
        "id": "n7bwqVK9vLAE"
      },
      "outputs": [],
      "source": [
        "import pandas as pd\n",
        "from sklearn.preprocessing import StandardScaler, LabelEncoder\n",
        "from sklearn.decomposition import PCA\n",
        "from sklearn.cluster import KMeans\n",
        "\n",
        "# Load the dataframe from the CSV file\n",
        "df = pd.read_csv('https://raw.githubusercontent.com/fenago/datasets/main/airbnb.csv')"
      ]
    },
    {
      "cell_type": "markdown",
      "source": [
        "# Data Preprocessing Steps"
      ],
      "metadata": {
        "id": "j9VEOdSlyUyi"
      }
    },
    {
      "cell_type": "code",
      "source": [
        "# Fill missing values with the mean of the column\n",
        "# df = df.fillna(df.mean())\n",
        "\n",
        "# Convert categorical columns to numeric using label encoding\n",
        "# Initialize label encoder\n",
        "label_encoder = LabelEncoder()\n",
        "\n",
        "# Columns to label encode\n",
        "label_encode_columns = ['host_is_superhost', 'neighbourhood', 'property_type', 'instant_bookable']\n",
        "\n",
        "# Apply label encoding to each column\n",
        "for column in label_encode_columns:\n",
        "    df[column] = label_encoder.fit_transform(df[column])\n",
        "\n",
        "# Apply one-hot encoding to 'city' using get_dummies\n",
        "df = pd.get_dummies(df, columns=['city'])\n",
        "\n",
        "df = df.fillna(df.mean())\n",
        "# Redefine and refit the scaler to the current dataset\n",
        "scaler = StandardScaler()\n",
        "scaled_features = scaler.fit_transform(df)"
      ],
      "metadata": {
        "id": "nySbLDXWyNmS"
      },
      "execution_count": 8,
      "outputs": []
    },
    {
      "cell_type": "markdown",
      "source": [
        "# PCA Application\n"
      ],
      "metadata": {
        "id": "JvXIXXiLym8M"
      }
    },
    {
      "cell_type": "code",
      "source": [
        "# Apply PCA\n",
        "pca = PCA(n_components=3)\n",
        "pca_result = pca.fit_transform(scaled_features)"
      ],
      "metadata": {
        "id": "sQhmpHoByWOW"
      },
      "execution_count": 9,
      "outputs": []
    },
    {
      "cell_type": "markdown",
      "source": [
        "# KMeans Clustering"
      ],
      "metadata": {
        "id": "oaBIpT17yv07"
      }
    },
    {
      "cell_type": "code",
      "source": [
        "# Apply KMeans clustering on the PCA result\n",
        "kmeans_pca = KMeans(n_clusters=4, random_state=42)\n",
        "kmeans_pca.fit(pca_result)"
      ],
      "metadata": {
        "colab": {
          "base_uri": "https://localhost:8080/",
          "height": 128
        },
        "id": "-p-W6tSzyoHW",
        "outputId": "d52cb70f-3c09-494a-b979-c9dbeb30ec53"
      },
      "execution_count": 10,
      "outputs": [
        {
          "output_type": "stream",
          "name": "stderr",
          "text": [
            "/usr/local/lib/python3.10/dist-packages/sklearn/cluster/_kmeans.py:870: FutureWarning: The default value of `n_init` will change from 10 to 'auto' in 1.4. Set the value of `n_init` explicitly to suppress the warning\n",
            "  warnings.warn(\n"
          ]
        },
        {
          "output_type": "execute_result",
          "data": {
            "text/plain": [
              "KMeans(n_clusters=4, random_state=42)"
            ],
            "text/html": [
              "<style>#sk-container-id-1 {color: black;background-color: white;}#sk-container-id-1 pre{padding: 0;}#sk-container-id-1 div.sk-toggleable {background-color: white;}#sk-container-id-1 label.sk-toggleable__label {cursor: pointer;display: block;width: 100%;margin-bottom: 0;padding: 0.3em;box-sizing: border-box;text-align: center;}#sk-container-id-1 label.sk-toggleable__label-arrow:before {content: \"▸\";float: left;margin-right: 0.25em;color: #696969;}#sk-container-id-1 label.sk-toggleable__label-arrow:hover:before {color: black;}#sk-container-id-1 div.sk-estimator:hover label.sk-toggleable__label-arrow:before {color: black;}#sk-container-id-1 div.sk-toggleable__content {max-height: 0;max-width: 0;overflow: hidden;text-align: left;background-color: #f0f8ff;}#sk-container-id-1 div.sk-toggleable__content pre {margin: 0.2em;color: black;border-radius: 0.25em;background-color: #f0f8ff;}#sk-container-id-1 input.sk-toggleable__control:checked~div.sk-toggleable__content {max-height: 200px;max-width: 100%;overflow: auto;}#sk-container-id-1 input.sk-toggleable__control:checked~label.sk-toggleable__label-arrow:before {content: \"▾\";}#sk-container-id-1 div.sk-estimator input.sk-toggleable__control:checked~label.sk-toggleable__label {background-color: #d4ebff;}#sk-container-id-1 div.sk-label input.sk-toggleable__control:checked~label.sk-toggleable__label {background-color: #d4ebff;}#sk-container-id-1 input.sk-hidden--visually {border: 0;clip: rect(1px 1px 1px 1px);clip: rect(1px, 1px, 1px, 1px);height: 1px;margin: -1px;overflow: hidden;padding: 0;position: absolute;width: 1px;}#sk-container-id-1 div.sk-estimator {font-family: monospace;background-color: #f0f8ff;border: 1px dotted black;border-radius: 0.25em;box-sizing: border-box;margin-bottom: 0.5em;}#sk-container-id-1 div.sk-estimator:hover {background-color: #d4ebff;}#sk-container-id-1 div.sk-parallel-item::after {content: \"\";width: 100%;border-bottom: 1px solid gray;flex-grow: 1;}#sk-container-id-1 div.sk-label:hover label.sk-toggleable__label {background-color: #d4ebff;}#sk-container-id-1 div.sk-serial::before {content: \"\";position: absolute;border-left: 1px solid gray;box-sizing: border-box;top: 0;bottom: 0;left: 50%;z-index: 0;}#sk-container-id-1 div.sk-serial {display: flex;flex-direction: column;align-items: center;background-color: white;padding-right: 0.2em;padding-left: 0.2em;position: relative;}#sk-container-id-1 div.sk-item {position: relative;z-index: 1;}#sk-container-id-1 div.sk-parallel {display: flex;align-items: stretch;justify-content: center;background-color: white;position: relative;}#sk-container-id-1 div.sk-item::before, #sk-container-id-1 div.sk-parallel-item::before {content: \"\";position: absolute;border-left: 1px solid gray;box-sizing: border-box;top: 0;bottom: 0;left: 50%;z-index: -1;}#sk-container-id-1 div.sk-parallel-item {display: flex;flex-direction: column;z-index: 1;position: relative;background-color: white;}#sk-container-id-1 div.sk-parallel-item:first-child::after {align-self: flex-end;width: 50%;}#sk-container-id-1 div.sk-parallel-item:last-child::after {align-self: flex-start;width: 50%;}#sk-container-id-1 div.sk-parallel-item:only-child::after {width: 0;}#sk-container-id-1 div.sk-dashed-wrapped {border: 1px dashed gray;margin: 0 0.4em 0.5em 0.4em;box-sizing: border-box;padding-bottom: 0.4em;background-color: white;}#sk-container-id-1 div.sk-label label {font-family: monospace;font-weight: bold;display: inline-block;line-height: 1.2em;}#sk-container-id-1 div.sk-label-container {text-align: center;}#sk-container-id-1 div.sk-container {/* jupyter's `normalize.less` sets `[hidden] { display: none; }` but bootstrap.min.css set `[hidden] { display: none !important; }` so we also need the `!important` here to be able to override the default hidden behavior on the sphinx rendered scikit-learn.org. See: https://github.com/scikit-learn/scikit-learn/issues/21755 */display: inline-block !important;position: relative;}#sk-container-id-1 div.sk-text-repr-fallback {display: none;}</style><div id=\"sk-container-id-1\" class=\"sk-top-container\"><div class=\"sk-text-repr-fallback\"><pre>KMeans(n_clusters=4, random_state=42)</pre><b>In a Jupyter environment, please rerun this cell to show the HTML representation or trust the notebook. <br />On GitHub, the HTML representation is unable to render, please try loading this page with nbviewer.org.</b></div><div class=\"sk-container\" hidden><div class=\"sk-item\"><div class=\"sk-estimator sk-toggleable\"><input class=\"sk-toggleable__control sk-hidden--visually\" id=\"sk-estimator-id-1\" type=\"checkbox\" checked><label for=\"sk-estimator-id-1\" class=\"sk-toggleable__label sk-toggleable__label-arrow\">KMeans</label><div class=\"sk-toggleable__content\"><pre>KMeans(n_clusters=4, random_state=42)</pre></div></div></div></div></div>"
            ]
          },
          "metadata": {},
          "execution_count": 10
        }
      ]
    },
    {
      "cell_type": "markdown",
      "source": [
        "# Analysis of PCA Components"
      ],
      "metadata": {
        "id": "eSHBtn2ryxm9"
      }
    },
    {
      "cell_type": "code",
      "source": [
        "# Get the PCA components (loadings)\n",
        "pca_components = pca.components_"
      ],
      "metadata": {
        "id": "Koh3eFh1yw7R"
      },
      "execution_count": 11,
      "outputs": []
    },
    {
      "cell_type": "markdown",
      "source": [
        "# Inverse Transformation"
      ],
      "metadata": {
        "id": "J06W7ehSy0Qp"
      }
    },
    {
      "cell_type": "code",
      "source": [
        "# Inverse transform the cluster centers from PCA space back to the original feature space\n",
        "original_space_centroids = scaler.inverse_transform(pca.inverse_transform(kmeans_pca.cluster_centers_))\n",
        "\n",
        "# Create a new DataFrame for the inverse transformed cluster centers with column names\n",
        "centroids_df = pd.DataFrame(original_space_centroids, columns=df.columns)\n",
        "\n",
        "# Calculate the mean of the original data for comparison\n",
        "original_means = df.mean(axis=0)\n",
        "\n",
        "# Prepare the PCA loadings DataFrame\n",
        "pca_loadings_df = pd.DataFrame(pca_components, columns=df.columns, index=[f'PC{i+1}' for i in range(3)])"
      ],
      "metadata": {
        "id": "hIG47-CIyyz_"
      },
      "execution_count": 13,
      "outputs": []
    },
    {
      "cell_type": "markdown",
      "source": [
        "# Centroid Analysis"
      ],
      "metadata": {
        "id": "GNmxbZXTy6QY"
      }
    },
    {
      "cell_type": "code",
      "source": [
        "# Append the mean of the original data to the centroids for comparison\n",
        "centroids_comparison_df = centroids_df.append(original_means, ignore_index=True)\n",
        "\n",
        "# Store the PCA loadings and centroids comparison DataFrame for further analysis\n",
        "pca_loadings_df.to_csv('/mnt/data/pca_loadings.csv', index=True)\n",
        "centroids_comparison_df.to_csv('/mnt/data/centroids_comparison.csv', index=False)\n",
        "\n",
        "pca_loadings_df, centroids_comparison_df.head()  # Displaying the PCA loadings and the first few rows of the centroids comparison DataFrame"
      ],
      "metadata": {
        "id": "khjVZlKTy3UW"
      },
      "execution_count": 15,
      "outputs": []
    }
  ]
}