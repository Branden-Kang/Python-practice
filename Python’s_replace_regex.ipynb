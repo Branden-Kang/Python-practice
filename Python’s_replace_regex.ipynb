{
  "nbformat": 4,
  "nbformat_minor": 0,
  "metadata": {
    "colab": {
      "name": "Python’s replace regex.ipynb",
      "provenance": [],
      "authorship_tag": "ABX9TyNZ+KX6PhJHKtIHlB7Bgfql"
    },
    "kernelspec": {
      "name": "python3",
      "display_name": "Python 3"
    }
  },
  "cells": [
    {
      "cell_type": "markdown",
      "metadata": {
        "id": "blfR9Ii3quuA"
      },
      "source": [
        "[Reference](https://medium.com/python-in-plain-english/the-incredible-power-of-pythons-replace-regex-6cc217643f37)"
      ]
    },
    {
      "cell_type": "markdown",
      "metadata": {
        "id": "U0nAcefkqyaF"
      },
      "source": [
        "# Template strings and groups"
      ]
    },
    {
      "cell_type": "code",
      "metadata": {
        "colab": {
          "base_uri": "https://localhost:8080/"
        },
        "id": "5iWwdXLTqqj6",
        "outputId": "81d258fc-2cfc-4bd2-d089-2a72f3b0202e"
      },
      "source": [
        "import re\n",
        "\n",
        "def phone_numbers(text):\n",
        "    return re.sub(\"(\\d{3})(\\d{3})(\\d{4})\",\"(\\\\1) \\\\2-\\\\3\", text)\n",
        "\n",
        "print(phone_numbers(\"   5102349123 9184572893\"))"
      ],
      "execution_count": 1,
      "outputs": [
        {
          "output_type": "stream",
          "text": [
            "   (510) 234-9123 (918) 457-2893\n"
          ],
          "name": "stdout"
        }
      ]
    },
    {
      "cell_type": "code",
      "metadata": {
        "colab": {
          "base_uri": "https://localhost:8080/",
          "height": 37
        },
        "id": "-V311BOvrKPN",
        "outputId": "4bbf54c9-bb09-40a0-8bd3-fd740146cb03"
      },
      "source": [
        "import re\n",
        "re.sub(\"print\\((.+)\\)\", \"font(\\\\1)\", \"print('yo') print('u')\")\n",
        "re.sub(\"print\\((.+?)\\)\", \"font(\\\\1)\", \"print('yo') print('u')\")\n",
        "re.sub(\"print\\((.+)\\)\", \"font(\\\\1)\", \"print('u', print('r'))\")"
      ],
      "execution_count": 2,
      "outputs": [
        {
          "output_type": "execute_result",
          "data": {
            "application/vnd.google.colaboratory.intrinsic+json": {
              "type": "string"
            },
            "text/plain": [
              "\"font('u', print('r'))\""
            ]
          },
          "metadata": {
            "tags": []
          },
          "execution_count": 2
        }
      ]
    },
    {
      "cell_type": "code",
      "metadata": {
        "colab": {
          "base_uri": "https://localhost:8080/"
        },
        "id": "aSV2oHjBsqmK",
        "outputId": "bc05ecb1-57f2-483f-a646-36cd4ad1f152"
      },
      "source": [
        "import re\n",
        "  \n",
        "def add_replacer(match_obj):\n",
        "    return str(int(match_obj.group(1)) + int(match_obj.group(2)))\n",
        "\n",
        "def eval_adds(string):\n",
        "    return re.sub(\"(\\d|[1-9]\\d+)\\s*\\+\\s*(\\d|[0-9]\\d+)\", add_replacer, string)\n",
        "\n",
        "print(eval_adds(\"the result is 5 + 4.\"))"
      ],
      "execution_count": 3,
      "outputs": [
        {
          "output_type": "stream",
          "text": [
            "the result is 9.\n"
          ],
          "name": "stdout"
        }
      ]
    },
    {
      "cell_type": "code",
      "metadata": {
        "colab": {
          "base_uri": "https://localhost:8080/"
        },
        "id": "b1YPCCm5syF8",
        "outputId": "2a5f4f65-1fb1-4bb8-9919-6eb3e40662e4"
      },
      "source": [
        "import re\n",
        "  \n",
        "recur_arith = \"(\\d|[1-9]\\d+)\\s*\\+\\s*(.*)\"\n",
        "\n",
        "def add_replacer(match_obj):\n",
        "    try:\n",
        "        return str(int(match_obj.group(1)) + int(re.sub(recur_arith, add_replacer, match_obj.group(2))))\n",
        "    except ValueError:\n",
        "        return match_obj.group(1)\n",
        "\n",
        "def eval_adds(string):\n",
        "    return re.sub(recur_arith, add_replacer, string)\n",
        "\n",
        "print(eval_adds(\"the result is 5 + 4 + 2+3+1 + .\"))"
      ],
      "execution_count": 4,
      "outputs": [
        {
          "output_type": "stream",
          "text": [
            "the result is 15\n"
          ],
          "name": "stdout"
        }
      ]
    },
    {
      "cell_type": "code",
      "metadata": {
        "colab": {
          "base_uri": "https://localhost:8080/"
        },
        "id": "Zydm8IPHs1Jm",
        "outputId": "8606f1ad-c795-4837-cf84-bbc5b929fd10"
      },
      "source": [
        "import re\n",
        "  \n",
        "recur_arith = \"(\\d|[1-9]\\d+)\\s*([\\+\\-\\*\\/])\\s*(.*)\"\n",
        "\n",
        "def add_replacer(match_obj):\n",
        "    oper = match_obj.group(2)\n",
        "    try:\n",
        "        if oper == '+':\n",
        "            return str(int(match_obj.group(1)) + int(re.sub(recur_arith, add_replacer, match_obj.group(3))))\n",
        "        elif oper == '-':\n",
        "            return str(int(match_obj.group(1)) - int(re.sub(recur_arith, add_replacer, match_obj.group(3))))\n",
        "        elif oper == '*':\n",
        "            return str(int(match_obj.group(1)) * int(re.sub(recur_arith, add_replacer, match_obj.group(3))))\n",
        "        elif oper == '/':\n",
        "            return str(int(match_obj.group(1)) / int(re.sub(recur_arith, add_replacer, match_obj.group(3))))\n",
        "\n",
        "    except ValueError:\n",
        "        return match_obj.group(1)\n",
        "\n",
        "def eval_adds(string):\n",
        "    return re.sub(recur_arith, add_replacer, string)\n",
        "\n",
        "print(eval_adds(\"the result is 5 + 4 + 2 * 3 / 1 + .\"))"
      ],
      "execution_count": 5,
      "outputs": [
        {
          "output_type": "stream",
          "text": [
            "the result is 11\n"
          ],
          "name": "stdout"
        }
      ]
    },
    {
      "cell_type": "code",
      "metadata": {
        "id": "f9OF89uSs4e9"
      },
      "source": [
        ""
      ],
      "execution_count": null,
      "outputs": []
    }
  ]
}