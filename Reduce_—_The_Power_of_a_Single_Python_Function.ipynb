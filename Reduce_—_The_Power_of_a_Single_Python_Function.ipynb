{
  "nbformat": 4,
  "nbformat_minor": 0,
  "metadata": {
    "colab": {
      "provenance": [],
      "authorship_tag": "ABX9TyMFhGz62XG6SBVgOZCrZlzD"
    },
    "kernelspec": {
      "name": "python3",
      "display_name": "Python 3"
    },
    "language_info": {
      "name": "python"
    }
  },
  "cells": [
    {
      "cell_type": "markdown",
      "source": [
        "[Reference](https://betterprogramming.pub/reduce-the-power-of-a-single-python-function-21f9aaa2c18e)"
      ],
      "metadata": {
        "id": "5xnVblHHXV-S"
      }
    },
    {
      "cell_type": "code",
      "execution_count": 3,
      "metadata": {
        "colab": {
          "base_uri": "https://localhost:8080/"
        },
        "id": "BPP6vyOAXJaq",
        "outputId": "3511baa8-f76a-42dd-d0f0-93279c9dd6d7"
      },
      "outputs": [
        {
          "output_type": "execute_result",
          "data": {
            "text/plain": [
              "120"
            ]
          },
          "metadata": {},
          "execution_count": 3
        }
      ],
      "source": [
        "from functools import reduce\n",
        "import operator\n",
        "\n",
        "# Signature:\n",
        "# reduce(function, iterable[, initializer])\n",
        "\n",
        "# Factorial\n",
        "reduce(lambda x, y: y*x, range(1, 6), 1)\n",
        "reduce(operator.mul, range(1, 6))\n",
        "(((((1 * 1) * 2) * 3) * 4) * 5)\n",
        "# 120"
      ]
    },
    {
      "cell_type": "code",
      "source": [
        "from functools import reduce\n",
        "import operator\n",
        "\n",
        "_sum = lambda d: reduce(operator.add, d, 0)  # sum()\n",
        "\n",
        "f = str\n",
        "_map = lambda d: reduce(lambda x, y: x + [f(y)], d, [])  # map()\n",
        "\n",
        "is_prime = lambda n: all(n%j for j in range(2, int(n**0.5)+1)) and n > 1\n",
        "_filter = lambda d: reduce(lambda x, y: x + [y] if is_prime(y) else x, d, [])  # filter(is_prime, range(10))\n",
        "\n",
        "_reversed = lambda d: reduce(lambda x, y: [y] + x, d, [])  # reversed(data)\n",
        "\n",
        "_min = lambda d: reduce(lambda x, y: x if x < y else y, d)  # min(data)\n",
        "\n",
        "_max = lambda d: reduce(lambda x, y: x if x > y else y, d)  # max(data)"
      ],
      "metadata": {
        "id": "PPkxio7yXXua"
      },
      "execution_count": 4,
      "outputs": []
    },
    {
      "cell_type": "code",
      "source": [
        "data = [7, 4, 3, 6, 2]\n",
        "# foldr = lambda f, d: reduce(lambda x, y: f(y, x), d[::-1])\n",
        "# foldr(data) == (7 - (4 - (3 - (6 - 2))))  # True\n",
        "\n",
        "reduce(operator.sub, [7, 4, 3, 6, 2]) == ((((7 - 4) - 3) - 6) - 2)  # True"
      ],
      "metadata": {
        "colab": {
          "base_uri": "https://localhost:8080/"
        },
        "id": "ZeZmqVKtXaDW",
        "outputId": "c05f41fb-6fc5-4869-97be-5c4800a4795d"
      },
      "execution_count": 7,
      "outputs": [
        {
          "output_type": "execute_result",
          "data": {
            "text/plain": [
              "True"
            ]
          },
          "metadata": {},
          "execution_count": 7
        }
      ]
    },
    {
      "cell_type": "code",
      "source": [
        "import functools\n",
        "\n",
        "def compose(*funcs):\n",
        "    return lambda x: functools.reduce(lambda acc, f: f(acc), funcs, x)\n",
        "\n",
        "# f3(f2(f1(value)))\n",
        "# func = compose(f1, f2, f3)\n",
        "# func(value)"
      ],
      "metadata": {
        "id": "f72PameQXbHS"
      },
      "execution_count": 9,
      "outputs": []
    },
    {
      "cell_type": "code",
      "source": [
        "class SomeClass:\n",
        "    pass\n",
        "\n",
        "c = SomeClass()\n",
        "c.one = SomeClass()\n",
        "c.one.two = SomeClass()\n",
        "c.one.two.three = \"data\"\n",
        "\n",
        "attrs = [\"one\", \"two\", \"three\"]\n",
        "\n",
        "reduce(getattr, attrs, c)\n",
        "# prints: \"data\""
      ],
      "metadata": {
        "colab": {
          "base_uri": "https://localhost:8080/",
          "height": 35
        },
        "id": "mRT7hdckXlHr",
        "outputId": "5baab15d-05c6-4f09-e107-154fae80129c"
      },
      "execution_count": 10,
      "outputs": [
        {
          "output_type": "execute_result",
          "data": {
            "text/plain": [
              "'data'"
            ],
            "application/vnd.google.colaboratory.intrinsic+json": {
              "type": "string"
            }
          },
          "metadata": {},
          "execution_count": 10
        }
      ]
    },
    {
      "cell_type": "code",
      "source": [
        "import operator\n",
        "\n",
        "from random import choice\n",
        "from string import ascii_uppercase\n",
        "\n",
        "# 100 random uppercase characters\n",
        "random_string = ''.join(choice(ascii_uppercase) for i in range(100))\n",
        "\n",
        "def _hash(data):\n",
        "    n = 5\n",
        "    # Break into chunks of 5 chars and compute their hash\n",
        "    chunks = [hash(data[i:i+n]) for i in range(0, len(data), n)]\n",
        "    # Reduce hash components into single value\n",
        "    return reduce(operator.xor, chunks, 0)\n",
        "\n",
        "print(_hash(random_string))\n",
        "# 5469166689487367977"
      ],
      "metadata": {
        "colab": {
          "base_uri": "https://localhost:8080/"
        },
        "id": "RDVbAnJqXpEB",
        "outputId": "f612452a-0d32-43a9-bedf-0f4c5883b557"
      },
      "execution_count": 11,
      "outputs": [
        {
          "output_type": "stream",
          "name": "stdout",
          "text": [
            "-4658387962273216690\n"
          ]
        }
      ]
    },
    {
      "cell_type": "code",
      "source": [
        "data = {\"key\": 4, \"other-key\": 6, \"another\": 7}\n",
        "print(reduce(lambda x, key: x + data[key], data, 0))"
      ],
      "metadata": {
        "colab": {
          "base_uri": "https://localhost:8080/"
        },
        "id": "Y-uYP7tIXqFs",
        "outputId": "dae9df48-ebc7-41fa-e1d2-148501ffbc65"
      },
      "execution_count": 12,
      "outputs": [
        {
          "output_type": "stream",
          "name": "stdout",
          "text": [
            "17\n"
          ]
        }
      ]
    },
    {
      "cell_type": "code",
      "source": [
        "import operator as op\n",
        "from functools import reduce\n",
        "\n",
        "# https://en.wikipedia.org/wiki/Combination\n",
        "def comb(n, k):\n",
        "    k = min(k, n-k)\n",
        "    numerator = reduce(op.mul, range(n, n-k, -1), 1)\n",
        "    denominator = reduce(op.mul, range(1, k+1), 1)\n",
        "    return numerator // denominator"
      ],
      "metadata": {
        "id": "8mOA944yXrdE"
      },
      "execution_count": 13,
      "outputs": []
    },
    {
      "cell_type": "code",
      "source": [
        "import pandas as pd\n",
        "\n",
        "dfs = [pd.DataFrame([(1, 2, 3), (4, 5, 6), (7, 8, 9)]),\n",
        "       pd.DataFrame([(3, 7, 9), (1, 3, 5), (0, 1, 2)]),\n",
        "       pd.DataFrame([(9, 7, 1), (6, 2, 5), (1, 2, 4)])]\n",
        "\n",
        "df = reduce(pd.DataFrame.add, dfs)\n",
        "print(df)"
      ],
      "metadata": {
        "colab": {
          "base_uri": "https://localhost:8080/"
        },
        "id": "FJWJ3kpBXs2p",
        "outputId": "28be59f2-2b0b-48c4-bfb8-0001b1a10ff2"
      },
      "execution_count": 14,
      "outputs": [
        {
          "output_type": "stream",
          "name": "stdout",
          "text": [
            "    0   1   2\n",
            "0  13  16  13\n",
            "1  11  10  16\n",
            "2   8  11  15\n"
          ]
        }
      ]
    },
    {
      "cell_type": "code",
      "source": [
        "data = [(\"John\", \"Smith\", 5300.0), (\"Ben\", \"Greene\", 1532.30), (\"Amy\", \"Holmes\", 3550.75)]\n",
        "\n",
        "# With list comprehension\n",
        "print(reduce(lambda a, b: a+b, [sub[2] for sub in data]))\n",
        "# Simpler\n",
        "print(reduce(lambda a, b: a+b[2], data, 0))\n",
        "# 10383.05"
      ],
      "metadata": {
        "colab": {
          "base_uri": "https://localhost:8080/"
        },
        "id": "LwL0eD5gXt4w",
        "outputId": "883158d2-0aaf-4352-f841-ec6a36819982"
      },
      "execution_count": 15,
      "outputs": [
        {
          "output_type": "stream",
          "name": "stdout",
          "text": [
            "10383.05\n",
            "10383.05\n"
          ]
        }
      ]
    },
    {
      "cell_type": "code",
      "source": [
        "data = [\n",
        "  [1, 6, 8, 2, 3],\n",
        "  [2, 9, 4, 1, 6],\n",
        "  [1, 7, 5, 6, 2]\n",
        "]\n",
        "\n",
        "print(reduce(set.intersection, map(set, data)))\n",
        "# {1, 2, 6}"
      ],
      "metadata": {
        "colab": {
          "base_uri": "https://localhost:8080/"
        },
        "id": "IOzELawNXwT7",
        "outputId": "e0c4818a-0e13-4cb4-b2c0-ea4a87b939ea"
      },
      "execution_count": 16,
      "outputs": [
        {
          "output_type": "stream",
          "name": "stdout",
          "text": [
            "{1, 2, 6}\n"
          ]
        }
      ]
    }
  ]
}