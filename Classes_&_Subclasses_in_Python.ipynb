{
  "nbformat": 4,
  "nbformat_minor": 0,
  "metadata": {
    "colab": {
      "name": "Classes & Subclasses in Python.ipynb",
      "provenance": [],
      "authorship_tag": "ABX9TyPPhcwHdG7LWwUF/Uvq9oe8"
    },
    "kernelspec": {
      "name": "python3",
      "display_name": "Python 3"
    }
  },
  "cells": [
    {
      "cell_type": "markdown",
      "metadata": {
        "id": "sFiI2vCcXOSO"
      },
      "source": [
        "[Reference](https://medium.com/swlh/classes-subclasses-in-python-12b6013d9f3)"
      ]
    },
    {
      "cell_type": "code",
      "metadata": {
        "colab": {
          "base_uri": "https://localhost:8080/"
        },
        "id": "6IgdC3gaXM4T",
        "outputId": "88ce552e-5b16-44b4-ae97-49f6c432ff3c"
      },
      "source": [
        "class cube(object):\n",
        "    \"\"\"This class makes cubes\"\"\"\n",
        "    # __init__ runs when a new cube is made\n",
        "    def __init__(self, name):\n",
        "        self.name = name\n",
        "    # custom method (a function) that \n",
        "    # simply returns the name variable\n",
        "    def query(self):\n",
        "        return('I am a cube, my name is: ' + self.name)\n",
        "# make  2 cubes:\n",
        "cube1 = cube('BOB')\n",
        "cube2 = cube('SUE')\n",
        "# Query 2 cubes:\n",
        "print(cube1.query())\n",
        "print(cube2.query())"
      ],
      "execution_count": 1,
      "outputs": [
        {
          "output_type": "stream",
          "text": [
            "I am a cube, my name is: BOB\n",
            "I am a cube, my name is: SUE\n"
          ],
          "name": "stdout"
        }
      ]
    },
    {
      "cell_type": "code",
      "metadata": {
        "colab": {
          "base_uri": "https://localhost:8080/"
        },
        "id": "-T7vamSXXUdq",
        "outputId": "13d95a1e-9cf4-4be8-fe85-0d5149400671"
      },
      "source": [
        "import random\n",
        "# we use random.choice to pick one of a few colors at random\n",
        "class cube(object):\n",
        "    def __init__(self, name):\n",
        "        self.name = name\n",
        "    def query(self):\n",
        "        return('I am a cube, my name is: ' + self.name)\n",
        "class colorCube(cube):\n",
        "    # Add color attribute, note we also call the parents init \n",
        "    # method\n",
        "    def __init__(self,name):\n",
        "        self.color = random.choice(['BLUE', 'RED', 'PURPLE'])\n",
        "        super().__init__(name)\n",
        "    # Call the parent's query method and add new behavior\n",
        "    def query(self):\n",
        "        return super().query() + (' my color is: ' + self.color)\n",
        "colorCube1 = colorCube('BOB')\n",
        "colorCube2 = colorCube('SUE')\n",
        "\n",
        "print(colorCube1.query())\n",
        "print(colorCube2.query())"
      ],
      "execution_count": 2,
      "outputs": [
        {
          "output_type": "stream",
          "text": [
            "I am a cube, my name is: BOB my color is: RED\n",
            "I am a cube, my name is: SUE my color is: PURPLE\n"
          ],
          "name": "stdout"
        }
      ]
    },
    {
      "cell_type": "code",
      "metadata": {
        "colab": {
          "base_uri": "https://localhost:8080/"
        },
        "id": "1abk-QUzXdJq",
        "outputId": "1245f48e-9f71-4d88-f77f-e193db9b9e32"
      },
      "source": [
        "import random\n",
        "class cube(object):\n",
        "    def __init__(self, name):\n",
        "        self.name = name\n",
        "    def query(self):\n",
        "        return('I am a cube, my name is: ' + self.name)\n",
        "# Our second class we are going to inherit from:\n",
        "class dimensions():\n",
        "    def __init__(self):\n",
        "        self.width = 20\n",
        "        self.height = 20\n",
        "class colorCubeWithDimensions(cube,dimensions):\n",
        "    def __init__(self,name):\n",
        "        self.color = random.choice(['BLUE', 'RED', 'PURPLE'])\n",
        "        cube.__init__(self,name)\n",
        "        dimensions.__init__(self)\n",
        "    def query(self):\n",
        "        return super().query() + (' my color is: ' + self.color ) + '\\n' + ('My Dimensions are: WIDTH:' + str(self.width) + ' HEIGHT:' + str(self.height))\n",
        "colorCube1 = colorCubeWithDimensions('BOB')\n",
        "colorCube2 = colorCubeWithDimensions('SUE')\n",
        "print(colorCube1.query())\n",
        "print ('----------')\n",
        "print(colorCube2.query())"
      ],
      "execution_count": 4,
      "outputs": [
        {
          "output_type": "stream",
          "text": [
            "I am a cube, my name is: BOB my color is: PURPLE\n",
            "My Dimensions are: WIDTH:20 HEIGHT:20\n",
            "----------\n",
            "I am a cube, my name is: SUE my color is: PURPLE\n",
            "My Dimensions are: WIDTH:20 HEIGHT:20\n"
          ],
          "name": "stdout"
        }
      ]
    },
    {
      "cell_type": "code",
      "metadata": {
        "colab": {
          "base_uri": "https://localhost:8080/"
        },
        "id": "88qEoYSsXon8",
        "outputId": "920876e7-34e6-4ea7-dbf2-9f8e61cdf1f9"
      },
      "source": [
        "import random\n",
        "class cube(object):\n",
        "    def __init__(self, name):\n",
        "        self.name = name\n",
        "class colorCube(cube):\n",
        "    def __init__(self,name):\n",
        "        self.color = random.choice(['BLUE', 'RED', 'PURPLE'])\n",
        "        cube.__init__(self,name)\n",
        "        # you can also use super().__init__(name)\n",
        "class stripedColorCube(colorCube):\n",
        "    def query(self):\n",
        "        return('I am a cube, my name is: ' + self.name + '\\nMy Color is: ' + self.color + ' and I am also striped' )\n",
        "colorCube1 = stripedColorCube('BOB')\n",
        "colorCube2 = stripedColorCube('SUE')\n",
        "print(colorCube1.query())\n",
        "print ('----------')\n",
        "print(colorCube2.query())"
      ],
      "execution_count": 5,
      "outputs": [
        {
          "output_type": "stream",
          "text": [
            "I am a cube, my name is: BOB\n",
            "My Color is: RED and I am also striped\n",
            "----------\n",
            "I am a cube, my name is: SUE\n",
            "My Color is: PURPLE and I am also striped\n"
          ],
          "name": "stdout"
        }
      ]
    },
    {
      "cell_type": "code",
      "metadata": {
        "colab": {
          "base_uri": "https://localhost:8080/"
        },
        "id": "Slg11niVXtyE",
        "outputId": "f76e212c-054f-4bfe-def5-16364e4902f1"
      },
      "source": [
        "# This example uses NO subclasses or inheritance\n",
        "#CLASSES:\n",
        "class colorCube():\n",
        "    def __init__(self, name):\n",
        "         self.name = name\n",
        "         self.color = 'BLUE'\n",
        "    def query(self):\n",
        "        return('I am a cube, my name is: ' + self.name + ' my color is ' + self.color)\n",
        "class stripedCube():\n",
        "    def __init__(self, name):\n",
        "         self.name = name\n",
        "         self.stripes = True\n",
        "    def query(self):\n",
        "        return('I am a cube, my name is: ' + self.name + ' and I have stripes')\n",
        "class polkaDotCube():\n",
        "    def __init__(self, name):\n",
        "         self.name = name\n",
        "         self.polkadots = True\n",
        "    def query(self):\n",
        "        return('I am a cube, my name is: ' + self.name + ' and I have polkadots')\n",
        "#INSTANCES:\n",
        "cube1 = colorCube('BOB')\n",
        "cube2 = stripedCube('SUE')\n",
        "cube3 = polkaDotCube('TIM')\n",
        "#METHODS:\n",
        "print(cube1.query())\n",
        "print(cube2.query())\n",
        "print(cube3.query())"
      ],
      "execution_count": 6,
      "outputs": [
        {
          "output_type": "stream",
          "text": [
            "I am a cube, my name is: BOB my color is BLUE\n",
            "I am a cube, my name is: SUE and I have stripes\n",
            "I am a cube, my name is: TIM and I have polkadots\n"
          ],
          "name": "stdout"
        }
      ]
    }
  ]
}