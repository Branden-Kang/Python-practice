{
  "nbformat": 4,
  "nbformat_minor": 0,
  "metadata": {
    "colab": {
      "name": "Level Up For-Loops.ipynb",
      "provenance": [],
      "authorship_tag": "ABX9TyP6CStB1D0XIr0EtL7U0ICj"
    },
    "kernelspec": {
      "name": "python3",
      "display_name": "Python 3"
    }
  },
  "cells": [
    {
      "cell_type": "markdown",
      "metadata": {
        "id": "XcR4cpV1zpmU"
      },
      "source": [
        "[Reference](https://medium.com/swlh/level-up-for-loops-in-python-with-4-simple-functions-da01173a834c)"
      ]
    },
    {
      "cell_type": "code",
      "metadata": {
        "id": "_ynT071OzoZg",
        "outputId": "1d7ae10a-5e05-4469-8f25-34c1e42ad018",
        "colab": {
          "base_uri": "https://localhost:8080/",
          "height": 68
        }
      },
      "source": [
        "employees = ['John', 'Danny', 'Jennifer']\n",
        "for id_number, name in enumerate(employees, start=30001):\n",
        "    print(f\"{name}'s employee ID #: {id_number}\")"
      ],
      "execution_count": 1,
      "outputs": [
        {
          "output_type": "stream",
          "text": [
            "John's employee ID #: 30001\n",
            "Danny's employee ID #: 30002\n",
            "Jennifer's employee ID #: 30003\n"
          ],
          "name": "stdout"
        }
      ]
    },
    {
      "cell_type": "code",
      "metadata": {
        "id": "vPX1omzDz3TN",
        "outputId": "fe9fa526-2c60-4f1e-9845-e01c75b2f871",
        "colab": {
          "base_uri": "https://localhost:8080/",
          "height": 102
        }
      },
      "source": [
        "meals = ['pizza', 'hamberger', 'pasta', 'ramen', 'salad']\n",
        "for meal in reversed(meals):\n",
        "    print(meal)"
      ],
      "execution_count": 3,
      "outputs": [
        {
          "output_type": "stream",
          "text": [
            "salad\n",
            "ramen\n",
            "pasta\n",
            "hamberger\n",
            "pizza\n"
          ],
          "name": "stdout"
        }
      ]
    },
    {
      "cell_type": "code",
      "metadata": {
        "id": "vZEpRnZe2gj8",
        "outputId": "d57e4b7e-d94d-4526-8882-9498bf8ed6a6",
        "colab": {
          "base_uri": "https://localhost:8080/",
          "height": 181
        }
      },
      "source": [
        "for meal in meals.reverse():\n",
        "    print(meal)"
      ],
      "execution_count": 4,
      "outputs": [
        {
          "output_type": "error",
          "ename": "TypeError",
          "evalue": "ignored",
          "traceback": [
            "\u001b[0;31m---------------------------------------------------------------------------\u001b[0m",
            "\u001b[0;31mTypeError\u001b[0m                                 Traceback (most recent call last)",
            "\u001b[0;32m<ipython-input-4-0e4343365367>\u001b[0m in \u001b[0;36m<module>\u001b[0;34m()\u001b[0m\n\u001b[0;32m----> 1\u001b[0;31m \u001b[0;32mfor\u001b[0m \u001b[0mmeal\u001b[0m \u001b[0;32min\u001b[0m \u001b[0mmeals\u001b[0m\u001b[0;34m.\u001b[0m\u001b[0mreverse\u001b[0m\u001b[0;34m(\u001b[0m\u001b[0;34m)\u001b[0m\u001b[0;34m:\u001b[0m\u001b[0;34m\u001b[0m\u001b[0;34m\u001b[0m\u001b[0m\n\u001b[0m\u001b[1;32m      2\u001b[0m     \u001b[0mprint\u001b[0m\u001b[0;34m(\u001b[0m\u001b[0mmeal\u001b[0m\u001b[0;34m)\u001b[0m\u001b[0;34m\u001b[0m\u001b[0;34m\u001b[0m\u001b[0m\n",
            "\u001b[0;31mTypeError\u001b[0m: 'NoneType' object is not iterable"
          ]
        }
      ]
    },
    {
      "cell_type": "code",
      "metadata": {
        "id": "C1S7I9yL2jsv"
      },
      "source": [
        "class Employee:\n",
        "    def __init__(self, name, score):\n",
        "        self.name = name\n",
        "        self.score = score\n",
        "\n",
        "employee0 = Employee('John Smith', 95)\n",
        "employee1 = Employee('Mike Brown', 99)\n",
        "employee2 = Employee('Jennifer Thompson', 97)\n",
        "employees = [employee0, employee1, employee2]"
      ],
      "execution_count": 5,
      "outputs": []
    },
    {
      "cell_type": "code",
      "metadata": {
        "id": "f-c7CGfs21DK",
        "outputId": "03333a70-aaa7-4a55-c599-727ee71e004d",
        "colab": {
          "base_uri": "https://localhost:8080/",
          "height": 68
        }
      },
      "source": [
        "for employee in sorted(employees, key=lambda x: x.score, reverse=True):\n",
        "    print(f'{employee.name} Score: {employee.score}')"
      ],
      "execution_count": 6,
      "outputs": [
        {
          "output_type": "stream",
          "text": [
            "Mike Brown Score: 99\n",
            "Jennifer Thompson Score: 97\n",
            "John Smith Score: 95\n"
          ],
          "name": "stdout"
        }
      ]
    },
    {
      "cell_type": "code",
      "metadata": {
        "id": "c2Cvkrxc22MO",
        "outputId": "8e8e120d-c814-4010-fc5a-79331ac93391",
        "colab": {
          "base_uri": "https://localhost:8080/",
          "height": 68
        }
      },
      "source": [
        "numbers0 = [4, 5, 6]\n",
        "numbers1 = [11, 12, 13]\n",
        "for j, k in zip(numbers0, numbers1):\n",
        "    print(f'{j} * {k} = {j*k}')"
      ],
      "execution_count": 7,
      "outputs": [
        {
          "output_type": "stream",
          "text": [
            "4 * 11 = 44\n",
            "5 * 12 = 60\n",
            "6 * 13 = 78\n"
          ],
          "name": "stdout"
        }
      ]
    },
    {
      "cell_type": "code",
      "metadata": {
        "id": "v9n98k_w3Ho9",
        "outputId": "ba2bf95e-f0ce-4a5c-d71b-5318ed6c5217",
        "colab": {
          "base_uri": "https://localhost:8080/",
          "height": 34
        }
      },
      "source": [
        "letters0 = 'abcde'\n",
        "letters1 = 'xyz'\n",
        "list(zip(letters0, letters1))"
      ],
      "execution_count": 8,
      "outputs": [
        {
          "output_type": "execute_result",
          "data": {
            "text/plain": [
              "[('a', 'x'), ('b', 'y'), ('c', 'z')]"
            ]
          },
          "metadata": {
            "tags": []
          },
          "execution_count": 8
        }
      ]
    }
  ]
}