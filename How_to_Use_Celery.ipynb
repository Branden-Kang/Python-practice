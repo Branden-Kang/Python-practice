{
  "nbformat": 4,
  "nbformat_minor": 0,
  "metadata": {
    "colab": {
      "provenance": [],
      "authorship_tag": "ABX9TyOGIbDAhij8WCnrnKmjJ+cd"
    },
    "kernelspec": {
      "name": "python3",
      "display_name": "Python 3"
    },
    "language_info": {
      "name": "python"
    }
  },
  "cells": [
    {
      "cell_type": "markdown",
      "source": [
        "[Reference](https://medium.com/@kasperjuunge/how-to-use-celery-c34310e6bcba)"
      ],
      "metadata": {
        "id": "yMODM-bWBHwi"
      }
    },
    {
      "cell_type": "markdown",
      "source": [
        "# Creating Tasks"
      ],
      "metadata": {
        "id": "zjwcaOI2BLSe"
      }
    },
    {
      "cell_type": "code",
      "execution_count": 1,
      "metadata": {
        "id": "9J2XxkRqBEnC"
      },
      "outputs": [],
      "source": [
        "from celery import Celery\n",
        "\n",
        "app = Celery('my_tasks', broker='pyamqp://guest@localhost//')\n",
        "@app.task\n",
        "def add(x, y):\n",
        "    return x + y"
      ]
    },
    {
      "cell_type": "markdown",
      "source": [
        "# Running Tasks"
      ],
      "metadata": {
        "id": "QAjjNVl-BOjs"
      }
    },
    {
      "cell_type": "code",
      "source": [
        "result = add.delay(4, 6)"
      ],
      "metadata": {
        "id": "3rM7Y8gwBM5w"
      },
      "execution_count": 2,
      "outputs": []
    },
    {
      "cell_type": "markdown",
      "source": [
        "# Checking Task States"
      ],
      "metadata": {
        "id": "_txAG_fVBRX1"
      }
    },
    {
      "cell_type": "code",
      "source": [
        "if result.ready():\n",
        "    print('Task result: ', result.get(timeout=1))"
      ],
      "metadata": {
        "id": "ZhC2A8moBQj8"
      },
      "execution_count": 4,
      "outputs": []
    },
    {
      "cell_type": "markdown",
      "source": [
        "# Retry Failed Tasks"
      ],
      "metadata": {
        "id": "PY83a4UIBXIt"
      }
    },
    {
      "cell_type": "code",
      "source": [
        "@app.task(bind=True, max_retries=3)\n",
        "def data_fetcher(self, url):\n",
        "    try:\n",
        "        response = requests.get(url)\n",
        "        return response.status_code\n",
        "    except Exception as e:\n",
        "        raise self.retry(exc=e, countdown=60)"
      ],
      "metadata": {
        "id": "oJAnwN_JBT7d"
      },
      "execution_count": 5,
      "outputs": []
    },
    {
      "cell_type": "markdown",
      "source": [
        "# Periodic Tasks"
      ],
      "metadata": {
        "id": "fl2mSMACBavx"
      }
    },
    {
      "cell_type": "code",
      "source": [
        "app.conf.beat_schedule = {\n",
        "    'add-every-30-seconds': {\n",
        "        'task': 'tasks.add',\n",
        "        'schedule': 30.0,\n",
        "        'args': (16, 16)\n",
        "    },\n",
        "}"
      ],
      "metadata": {
        "id": "zBkttL1DBZV-"
      },
      "execution_count": 6,
      "outputs": []
    },
    {
      "cell_type": "code",
      "source": [
        "from celery.schedules import crontab\n",
        "\n",
        "app.conf.beat_schedule = {\n",
        "    'add-every-monday-morning': {\n",
        "        'task': 'tasks.add',\n",
        "        'schedule': crontab(hour=7, minute=30, day_of_week=1),\n",
        "        'args': (16, 16),\n",
        "    },\n",
        "}"
      ],
      "metadata": {
        "id": "7OWE1BpRBcHX"
      },
      "execution_count": 7,
      "outputs": []
    },
    {
      "cell_type": "markdown",
      "source": [
        "# Task Routing"
      ],
      "metadata": {
        "id": "LuaIVKMmBfx5"
      }
    },
    {
      "cell_type": "code",
      "source": [
        "@app.task(queue='io_intensive')\n",
        "def io_task():\n",
        "    pass\n",
        "\n",
        "@app.task(queue='cpu_intensive')\n",
        "def cpu_task():\n",
        "    pass"
      ],
      "metadata": {
        "id": "Y1P05dilBeHB"
      },
      "execution_count": 8,
      "outputs": []
    },
    {
      "cell_type": "markdown",
      "source": [
        "# Task Chaining"
      ],
      "metadata": {
        "id": "9wxdHoRgBjGr"
      }
    },
    {
      "cell_type": "code",
      "source": [
        "from celery import chain\n",
        "\n",
        "chain(add.s(4, 4), add.s(5), add.s(6))()"
      ],
      "metadata": {
        "id": "oC0QXPPLBhYQ"
      },
      "execution_count": 9,
      "outputs": []
    },
    {
      "cell_type": "markdown",
      "source": [
        "# Task Grouping"
      ],
      "metadata": {
        "id": "F_664wndBm1C"
      }
    },
    {
      "cell_type": "code",
      "source": [
        "from celery import group\n",
        "\n",
        "job = group(add.s(i, i) for i in range(10))\n",
        "result = job.apply_async()"
      ],
      "metadata": {
        "id": "N5qTKWWXBlmW"
      },
      "execution_count": 10,
      "outputs": []
    },
    {
      "cell_type": "markdown",
      "source": [
        "# Rate Limiting"
      ],
      "metadata": {
        "id": "SINeJn8hBpbV"
      }
    },
    {
      "cell_type": "code",
      "source": [
        "@app.task(rate_limit='100/m')  # Allow 100 tasks per minute\n",
        "def my_task():\n",
        "    pass"
      ],
      "metadata": {
        "id": "wxx6yuYeBoIh"
      },
      "execution_count": 11,
      "outputs": []
    },
    {
      "cell_type": "markdown",
      "source": [
        "# Task Inheritance"
      ],
      "metadata": {
        "id": "tDXao8vlBsUR"
      }
    },
    {
      "cell_type": "code",
      "source": [
        "class BaseTask(app.Task):\n",
        "    def on_failure(self, exc, task_id, args, kwargs, einfo):\n",
        "        print(f'Task {task_id} failed: {exc}')\n",
        "\n",
        "@app.task(base=BaseTask)\n",
        "def add(x, y):\n",
        "    return x + y"
      ],
      "metadata": {
        "id": "Z64VHvtkBrPb"
      },
      "execution_count": 12,
      "outputs": []
    },
    {
      "cell_type": "markdown",
      "source": [
        "# Task Results"
      ],
      "metadata": {
        "id": "_YTmcTe7BwxB"
      }
    },
    {
      "cell_type": "code",
      "source": [
        "@app.task(ignore_result=True)  # Ignore results, don't store them\n",
        "def add(x, y):\n",
        "    return x + y"
      ],
      "metadata": {
        "id": "clBdS-LKBvjS"
      },
      "execution_count": 13,
      "outputs": []
    },
    {
      "cell_type": "markdown",
      "source": [
        "# Exception Handling"
      ],
      "metadata": {
        "id": "PdRI1V99Bza7"
      }
    },
    {
      "cell_type": "code",
      "source": [
        "@app.task(throws=(MyCustomException,))\n",
        "def task_that_might_fail():\n",
        "    if something_bad:\n",
        "        raise MyCustomException('Something bad happened')"
      ],
      "metadata": {
        "id": "Avw7mIBwByGE"
      },
      "execution_count": 14,
      "outputs": []
    },
    {
      "cell_type": "markdown",
      "source": [
        "```\n",
        "celery -A your_project_name worker --loglevel=info\n",
        "```"
      ],
      "metadata": {
        "id": "z0neoVbvB38G"
      }
    }
  ]
}