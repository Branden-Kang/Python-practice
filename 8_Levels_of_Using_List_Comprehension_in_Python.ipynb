{
  "nbformat": 4,
  "nbformat_minor": 0,
  "metadata": {
    "colab": {
      "name": "8 Levels of Using List Comprehension in Python.ipynb",
      "provenance": [],
      "authorship_tag": "ABX9TyNzDH6t4c6gOIxUkGUKVJwW"
    },
    "kernelspec": {
      "name": "python3",
      "display_name": "Python 3"
    }
  },
  "cells": [
    {
      "cell_type": "markdown",
      "metadata": {
        "id": "SqrEERveKRE2"
      },
      "source": [
        "[Reference](https://medium.com/techtofreedom/8-levels-of-using-list-comprehension-in-python-efc3c339a1f0)"
      ]
    },
    {
      "cell_type": "code",
      "metadata": {
        "id": "xP6x3FgtKOlX",
        "outputId": "945b6820-2c7e-49bc-b969-49c22dc13e2d",
        "colab": {
          "base_uri": "https://localhost:8080/"
        }
      },
      "source": [
        "full_name = \"Yang Zhou\"\n",
        "characters = [char for char in full_name]\n",
        "print(full_name)\n",
        "print(characters)"
      ],
      "execution_count": 1,
      "outputs": [
        {
          "output_type": "stream",
          "text": [
            "Yang Zhou\n",
            "['Y', 'a', 'n', 'g', ' ', 'Z', 'h', 'o', 'u']\n"
          ],
          "name": "stdout"
        }
      ]
    },
    {
      "cell_type": "code",
      "metadata": {
        "id": "WhltA_zWKZ8E",
        "outputId": "aae8df4e-95cc-444e-b8a4-a9b9b8f00b14",
        "colab": {
          "base_uri": "https://localhost:8080/"
        }
      },
      "source": [
        "full_name = \"Yang Zhou\"\n",
        "characters = []\n",
        "for char in full_name:\n",
        "    characters.append(char)\n",
        "print(full_name)\n",
        "print(characters)"
      ],
      "execution_count": 2,
      "outputs": [
        {
          "output_type": "stream",
          "text": [
            "Yang Zhou\n",
            "['Y', 'a', 'n', 'g', ' ', 'Z', 'h', 'o', 'u']\n"
          ],
          "name": "stdout"
        }
      ]
    },
    {
      "cell_type": "code",
      "metadata": {
        "id": "BIJ9zFYWKb0f",
        "outputId": "eb4ce05c-e3cc-48a2-9b84-42ccbb518b95",
        "colab": {
          "base_uri": "https://localhost:8080/"
        }
      },
      "source": [
        "Matrix = [[2, 1, 5],\n",
        "          [5, 99, 0],\n",
        "          [33, 2, 4]]\n",
        "row_max = [max(row) for row in Matrix]\n",
        "print(row_max)"
      ],
      "execution_count": 3,
      "outputs": [
        {
          "output_type": "stream",
          "text": [
            "[5, 99, 33]\n"
          ],
          "name": "stdout"
        }
      ]
    },
    {
      "cell_type": "code",
      "metadata": {
        "id": "16y9yhvZKdvo",
        "outputId": "173c2ab9-ab18-4f91-e774-4ccdebdd9bf0",
        "colab": {
          "base_uri": "https://localhost:8080/"
        }
      },
      "source": [
        "Genius = [\"Yang\", \"Tom\", \"Jerry\", \"Jack\", \"tom\", \"yang\"]\n",
        "L1 = [name for name in Genius if name.startswith('Y')]\n",
        "L2 = [name for name in Genius if name.startswith('Y') or len(name) < 4]\n",
        "L3 = [name for name in Genius if len(name) < 4 and name.islower()]\n",
        "print(L1, L2, L3)"
      ],
      "execution_count": 4,
      "outputs": [
        {
          "output_type": "stream",
          "text": [
            "['Yang'] ['Yang', 'Tom', 'tom'] ['tom']\n"
          ],
          "name": "stdout"
        }
      ]
    },
    {
      "cell_type": "code",
      "metadata": {
        "id": "QKQ0H9lrKiFx",
        "outputId": "eb302148-861f-4fb3-d059-14dd591bea04",
        "colab": {
          "base_uri": "https://localhost:8080/"
        }
      },
      "source": [
        "Genius = [\"Jerry\", \"Jack\", \"tom\", \"yang\"]\n",
        "L1 = [name.capitalize() for name in Genius]\n",
        "print(L1)"
      ],
      "execution_count": 5,
      "outputs": [
        {
          "output_type": "stream",
          "text": [
            "['Jerry', 'Jack', 'Tom', 'Yang']\n"
          ],
          "name": "stdout"
        }
      ]
    },
    {
      "cell_type": "code",
      "metadata": {
        "id": "7e1iHA35Kjwc",
        "outputId": "004b702b-1ba1-4330-ee7e-83b99d0bbcca",
        "colab": {
          "base_uri": "https://localhost:8080/"
        }
      },
      "source": [
        "Genius = [\"Jerry\", \"Jack\", \"tom\", \"yang\"]\n",
        "L1 = [name if name.startswith('y') else 'Not Genius' for name in Genius]\n",
        "print(L1)"
      ],
      "execution_count": 6,
      "outputs": [
        {
          "output_type": "stream",
          "text": [
            "['Not Genius', 'Not Genius', 'Not Genius', 'yang']\n"
          ],
          "name": "stdout"
        }
      ]
    },
    {
      "cell_type": "code",
      "metadata": {
        "id": "X0x6Q_TZKlwu",
        "outputId": "d15d33ef-d707-47e4-b059-93a7131b69c0",
        "colab": {
          "base_uri": "https://localhost:8080/",
          "height": 130
        }
      },
      "source": [
        "a = 1\n",
        "b = 2 if a>0 # SyntaxError: invalid syntax\n",
        "\n",
        "b = 2 if a > 0 else -1  "
      ],
      "execution_count": 7,
      "outputs": [
        {
          "output_type": "error",
          "ename": "SyntaxError",
          "evalue": "ignored",
          "traceback": [
            "\u001b[0;36m  File \u001b[0;32m\"<ipython-input-7-00d89a0c6a7b>\"\u001b[0;36m, line \u001b[0;32m2\u001b[0m\n\u001b[0;31m    b = 2 if a>0 # SyntaxError: invalid syntax\u001b[0m\n\u001b[0m                                              ^\u001b[0m\n\u001b[0;31mSyntaxError\u001b[0m\u001b[0;31m:\u001b[0m invalid syntax\n"
          ]
        }
      ]
    },
    {
      "cell_type": "code",
      "metadata": {
        "id": "BD2FIn1qKnsS",
        "outputId": "e6610344-80b6-4bb7-a96e-0649dfca3622",
        "colab": {
          "base_uri": "https://localhost:8080/"
        }
      },
      "source": [
        "Genius = [\"Jerry\", \"Jack\", \"tom\", \"yang\"]\n",
        "L1 = [char for name in Genius for char in name]\n",
        "print(L1)"
      ],
      "execution_count": 8,
      "outputs": [
        {
          "output_type": "stream",
          "text": [
            "['J', 'e', 'r', 'r', 'y', 'J', 'a', 'c', 'k', 't', 'o', 'm', 'y', 'a', 'n', 'g']\n"
          ],
          "name": "stdout"
        }
      ]
    },
    {
      "cell_type": "code",
      "metadata": {
        "id": "Fe_M9X0lKrfn",
        "outputId": "6c32d055-ce69-4653-dd40-1cdd96623d95",
        "colab": {
          "base_uri": "https://localhost:8080/"
        }
      },
      "source": [
        "Genius = [\"Jerry\", \"Jack\", \"tom\", \"yang\"]\n",
        "L1 = []\n",
        "for name in Genius:\n",
        "    for char in name:\n",
        "        L1.append(char)\n",
        "print(L1)"
      ],
      "execution_count": 9,
      "outputs": [
        {
          "output_type": "stream",
          "text": [
            "['J', 'e', 'r', 'r', 'y', 'J', 'a', 'c', 'k', 't', 'o', 'm', 'y', 'a', 'n', 'g']\n"
          ],
          "name": "stdout"
        }
      ]
    },
    {
      "cell_type": "code",
      "metadata": {
        "id": "oZD7ozuLKs4e",
        "outputId": "2fc6ad3e-ac65-4f17-da56-513e010f73c9",
        "colab": {
          "base_uri": "https://localhost:8080/"
        }
      },
      "source": [
        "Genius = [\"Jerry\", \"Jack\", \"tom\", \"yang\"]\n",
        "L1 = [char for name in Genius if len(name) < 4 for char in name]\n",
        "print(L1)"
      ],
      "execution_count": 10,
      "outputs": [
        {
          "output_type": "stream",
          "text": [
            "['t', 'o', 'm']\n"
          ],
          "name": "stdout"
        }
      ]
    },
    {
      "cell_type": "code",
      "metadata": {
        "id": "MA972YOUKuM5",
        "outputId": "412dd55c-0d1c-477a-ae5b-c557dd34061c",
        "colab": {
          "base_uri": "https://localhost:8080/",
          "height": 232
        }
      },
      "source": [
        "L = map(func, iterable)\n",
        "# can be replaced to:\n",
        "L = [func(a) for a in iterable]"
      ],
      "execution_count": 11,
      "outputs": [
        {
          "output_type": "error",
          "ename": "NameError",
          "evalue": "ignored",
          "traceback": [
            "\u001b[0;31m---------------------------------------------------------------------------\u001b[0m",
            "\u001b[0;31mNameError\u001b[0m                                 Traceback (most recent call last)",
            "\u001b[0;32m<ipython-input-11-8e1e32ef8b1f>\u001b[0m in \u001b[0;36m<module>\u001b[0;34m()\u001b[0m\n\u001b[0;32m----> 1\u001b[0;31m \u001b[0mL\u001b[0m \u001b[0;34m=\u001b[0m \u001b[0mmap\u001b[0m\u001b[0;34m(\u001b[0m\u001b[0mfunc\u001b[0m\u001b[0;34m,\u001b[0m \u001b[0miterable\u001b[0m\u001b[0;34m)\u001b[0m\u001b[0;34m\u001b[0m\u001b[0;34m\u001b[0m\u001b[0m\n\u001b[0m\u001b[1;32m      2\u001b[0m \u001b[0;31m# can be replaced to:\u001b[0m\u001b[0;34m\u001b[0m\u001b[0;34m\u001b[0m\u001b[0;34m\u001b[0m\u001b[0m\n\u001b[1;32m      3\u001b[0m \u001b[0mL\u001b[0m \u001b[0;34m=\u001b[0m \u001b[0;34m[\u001b[0m\u001b[0mfunc\u001b[0m\u001b[0;34m(\u001b[0m\u001b[0ma\u001b[0m\u001b[0;34m)\u001b[0m \u001b[0;32mfor\u001b[0m \u001b[0ma\u001b[0m \u001b[0;32min\u001b[0m \u001b[0miterable\u001b[0m\u001b[0;34m]\u001b[0m\u001b[0;34m\u001b[0m\u001b[0;34m\u001b[0m\u001b[0m\n",
            "\u001b[0;31mNameError\u001b[0m: name 'func' is not defined"
          ]
        }
      ]
    },
    {
      "cell_type": "code",
      "metadata": {
        "id": "jVYaO357Kvrz",
        "outputId": "b2f8d227-494e-4d0a-b26c-9d2f675a15ed",
        "colab": {
          "base_uri": "https://localhost:8080/",
          "height": 232
        }
      },
      "source": [
        "L = filter(condition_func, iterable)\n",
        "# can be converted to\n",
        "L = [a for a in iterable if condition]"
      ],
      "execution_count": 12,
      "outputs": [
        {
          "output_type": "error",
          "ename": "NameError",
          "evalue": "ignored",
          "traceback": [
            "\u001b[0;31m---------------------------------------------------------------------------\u001b[0m",
            "\u001b[0;31mNameError\u001b[0m                                 Traceback (most recent call last)",
            "\u001b[0;32m<ipython-input-12-53349c40ec1f>\u001b[0m in \u001b[0;36m<module>\u001b[0;34m()\u001b[0m\n\u001b[0;32m----> 1\u001b[0;31m \u001b[0mL\u001b[0m \u001b[0;34m=\u001b[0m \u001b[0mfilter\u001b[0m\u001b[0;34m(\u001b[0m\u001b[0mcondition_func\u001b[0m\u001b[0;34m,\u001b[0m \u001b[0miterable\u001b[0m\u001b[0;34m)\u001b[0m\u001b[0;34m\u001b[0m\u001b[0;34m\u001b[0m\u001b[0m\n\u001b[0m\u001b[1;32m      2\u001b[0m \u001b[0;31m# can be converted to\u001b[0m\u001b[0;34m\u001b[0m\u001b[0;34m\u001b[0m\u001b[0;34m\u001b[0m\u001b[0m\n\u001b[1;32m      3\u001b[0m \u001b[0mL\u001b[0m \u001b[0;34m=\u001b[0m \u001b[0;34m[\u001b[0m\u001b[0ma\u001b[0m \u001b[0;32mfor\u001b[0m \u001b[0ma\u001b[0m \u001b[0;32min\u001b[0m \u001b[0miterable\u001b[0m \u001b[0;32mif\u001b[0m \u001b[0mcondition\u001b[0m\u001b[0;34m]\u001b[0m\u001b[0;34m\u001b[0m\u001b[0;34m\u001b[0m\u001b[0m\n",
            "\u001b[0;31mNameError\u001b[0m: name 'condition_func' is not defined"
          ]
        }
      ]
    },
    {
      "cell_type": "code",
      "metadata": {
        "id": "npaYNVdhKxAN",
        "outputId": "98b6458a-cf40-4879-b805-8f53f2976158",
        "colab": {
          "base_uri": "https://localhost:8080/"
        }
      },
      "source": [
        "Genius = [\"Jerry\", \"Jack\", \"tom\", \"yang\"]\n",
        "L1 = filter(lambda a: len(a) < 4, Genius)\n",
        "print(list(L1))\n",
        "# ['tom']\n",
        "L2 = [a for a in Genius if len(a) < 4]\n",
        "print(L2)\n",
        "# ['tom']"
      ],
      "execution_count": 13,
      "outputs": [
        {
          "output_type": "stream",
          "text": [
            "['tom']\n",
            "['tom']\n"
          ],
          "name": "stdout"
        }
      ]
    },
    {
      "cell_type": "code",
      "metadata": {
        "id": "l2u4U8Y_Kyf2",
        "outputId": "7ed52505-929a-41a4-f3bb-18dfbaac73fa",
        "colab": {
          "base_uri": "https://localhost:8080/"
        }
      },
      "source": [
        "large_list = [x for x in range(1_000_000)]\n",
        "large_list_g = (x for x in range(1_000_000))\n",
        "print(large_list.__sizeof__())\n",
        "print(large_list_g.__sizeof__())"
      ],
      "execution_count": 14,
      "outputs": [
        {
          "output_type": "stream",
          "text": [
            "8697440\n",
            "64\n"
          ],
          "name": "stdout"
        }
      ]
    }
  ]
}