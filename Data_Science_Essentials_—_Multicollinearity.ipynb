{
  "nbformat": 4,
  "nbformat_minor": 0,
  "metadata": {
    "colab": {
      "name": "Data Science Essentials — Multicollinearity.ipynb",
      "provenance": [],
      "collapsed_sections": [],
      "authorship_tag": "ABX9TyMjavO7zC5rFjHpyieavcIS"
    },
    "kernelspec": {
      "name": "python3",
      "display_name": "Python 3"
    },
    "language_info": {
      "name": "python"
    }
  },
  "cells": [
    {
      "cell_type": "markdown",
      "source": [
        "[Reference](https://pub.towardsai.net/data-science-essentials-multicollinearity-5ab8a0629a65)"
      ],
      "metadata": {
        "id": "wMYpK7bb9Ven"
      }
    },
    {
      "cell_type": "markdown",
      "source": [
        "# Types of Multicollinearity\n",
        "1. Structural multicollinearity\n",
        "2. Data Multicollinearity\n",
        "\n",
        "# Visual inspection of multicollinearity\n",
        "- Perfect multicollinearity\n",
        "- High multicollinearity"
      ],
      "metadata": {
        "id": "XR8DlhIe-K_I"
      }
    },
    {
      "cell_type": "code",
      "source": [
        "import pandas as pd\n",
        "# Import library for VIF\n",
        "from statsmodels.stats.outliers_influence import variance_inflation_factor\n",
        "\n",
        "def calc_vif(X):\n",
        "\n",
        "    # Calculating VIF\n",
        "    vif = pd.DataFrame()\n",
        "    vif[\"variables\"] = X.columns\n",
        "    vif[\"VIF\"] = [variance_inflation_factor(X.values, i) for i in range(X.shape[1])]\n",
        "\n",
        "    return(vif)\n",
        "    \n",
        "result = calc_vif(newdf)\n",
        "# Identify variables with high multi-collinearity\n",
        "result[result['VIF']>10]"
      ],
      "metadata": {
        "id": "KaifQ5Ik-5Fa"
      },
      "execution_count": 2,
      "outputs": []
    }
  ]
}