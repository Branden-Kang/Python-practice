{
  "nbformat": 4,
  "nbformat_minor": 0,
  "metadata": {
    "colab": {
      "provenance": [],
      "authorship_tag": "ABX9TyMhluKarDGUQoJ8XDGJXWk/"
    },
    "kernelspec": {
      "name": "python3",
      "display_name": "Python 3"
    },
    "language_info": {
      "name": "python"
    }
  },
  "cells": [
    {
      "cell_type": "markdown",
      "source": [
        "[Reference](https://medium.com/@sandeep.dhakal/efficiently-dissolving-adjacent-polygons-by-attributes-in-a-large-gis-database-5492e54ef951)"
      ],
      "metadata": {
        "id": "LBQ8TisgYGDC"
      }
    },
    {
      "cell_type": "code",
      "execution_count": 1,
      "metadata": {
        "id": "JHqySRabYCtI"
      },
      "outputs": [],
      "source": [
        "import psycopg\n",
        "from sqlalchemy import create_engine\n",
        "\n",
        "# database configuration\n",
        "user = '<username>'\n",
        "host = 'localhost'\n",
        "database = '<dbname>'\n",
        "driver = 'postgresql+psycopg'\n",
        "connection_str = f'{driver}://{user}@{host}/{database}'\n",
        "\n",
        "engine = create_engine(connection_str)"
      ]
    },
    {
      "cell_type": "code",
      "source": [
        "import geopandas as gpd\n",
        "\n",
        "sql = \"\"\"\n",
        "SELECT alumv8, geometry\n",
        "FROM vic_landuse\n",
        "WHERE ST_DWithin(geometry,\n",
        "                    ST_GeomFromText('POINT(144.1 -36.8)', 7844), 0.025)\n",
        "    AND ST_geometrytype(geometry) = 'ST_Polygon'\n",
        "\"\"\"\n",
        "\n",
        "sample = gpd.read_postgis(sql, engine, geom_col=\"geometry\")\n",
        "sample['alumv8'] = sample['alumv8'].astype('category')\n",
        "\n",
        "ax = sample.plot(\n",
        "    'alumv8',\n",
        "    legend=True,\n",
        "    legend_kwds=dict(loc='upper left',\n",
        "    bbox_to_anchor=(1.05, 1),\n",
        "    title='ALUM codes')\n",
        ")\n",
        "ax.tick_params('x', rotation=45)"
      ],
      "metadata": {
        "id": "F5yuch_OYLzK"
      },
      "execution_count": 2,
      "outputs": []
    },
    {
      "cell_type": "markdown",
      "source": [
        "```sql\n",
        "BEGIN\n",
        "-- the new table\n",
        "CREATE TABLE landuse_dissolved (alumv8 int, geometry geometry);\n",
        "\n",
        "FOR alum_code IN\n",
        "    SELECT DISTINCT alumv8 FROM sample_landuse\n",
        "LOOP\n",
        "    EXECUTE format('DROP VIEW IF EXISTS landuse_%s', alum_code);\n",
        "\n",
        "    -- create view for the code\n",
        "    EXECUTE format('\n",
        "    CREATE VIEW landuse_%s AS\n",
        "    SELECT * FROM sample_landuse\n",
        "    WHERE alumv8 = %L',\n",
        "    alum_code, alum_code);\n",
        "    \n",
        "    -- create clustered table\n",
        "    EXECUTE format(\n",
        "        'CREATE TABLE landuse_%s_clustered AS\n",
        "        SELECT\n",
        "            alumv8,\n",
        "            ST_ClusterDBSCAN(geometry, 0, 2) OVER() AS cluster_id,\n",
        "            geometry\n",
        "        FROM landuse_%s', alum_code, alum_code\n",
        "    );\n",
        "\n",
        "    -- dissolve adjacent geometries\n",
        "    EXECUTE format(\n",
        "        'CREATE TABLE landuse_%s_dissolved AS\n",
        "        SELECT alumv8, ST_Union(geometry) as geometry\n",
        "        FROM landuse_%s_clustered\n",
        "        GROUP BY alumv8, cluster_id',\n",
        "        alum_code, alum_code\n",
        "    );\n",
        "\n",
        "    -- add dissolved geometries to new table\n",
        "    EXECUTE format('\n",
        "        INSERT INTO landuse_dissolved (alumv8, geometry)\n",
        "        SELECT alumv8, geometry\n",
        "        FROM landuse_%s_dissolved', alum_code\n",
        "    );\n",
        "\n",
        "    -- cleanup intermediary views and tables\n",
        "    EXECUTE format('DROP TABLE landuse_%s_clustered', alum_code);\n",
        "    EXECUTE format('DROP VIEW landuse_%s', alum_code);\n",
        "    EXECUTE format('DROP TABLE landuse_%s_dissolved', alum_code);\n",
        "\n",
        "    COMMIT;\n",
        "END LOOP;\n",
        "END $$\n",
        "```"
      ],
      "metadata": {
        "id": "agz_eoCRYUkN"
      }
    },
    {
      "cell_type": "code",
      "source": [
        "original_rows = %sql SELECT COUNT(*) FROM sample_landuse;\n",
        "new_rows = %sql SELECT COUNT(*) FROM landuse_dissolved;\n",
        "\n",
        "print(f\"original rows = {original_rows[0].count}\")\n",
        "print(f\"rows after dissolving = {new_rows[0].count}\")"
      ],
      "metadata": {
        "id": "frp7QF_8YNIN"
      },
      "execution_count": 3,
      "outputs": []
    },
    {
      "cell_type": "code",
      "source": [
        "import matplotlib.pyplot as plt\n",
        "\n",
        "sql = \"SELECT * FROM landuse_dissolved\"\n",
        "sample_dis = gpd.read_postgis(sql, engine, geom_col=\"geometry\")\n",
        "sample_dis['alumv8'] = sample_dis['alumv8'].astype('category')\n",
        "\n",
        "fig, (ax1, ax2) = plt.subplots(1, 2, sharey=True)\n",
        "\n",
        "sample.plot('alumv8', ax=ax1)\n",
        "sample_dis.plot('alumv8', ax=ax2)\n",
        "\n",
        "for ax in [ax1, ax2]:\n",
        "    ax.set_xticks([])\n",
        "    ax.set_yticks([])"
      ],
      "metadata": {
        "id": "0zvbj3kdYWbc"
      },
      "execution_count": 4,
      "outputs": []
    }
  ]
}