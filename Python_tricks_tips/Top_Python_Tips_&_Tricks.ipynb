{
  "nbformat": 4,
  "nbformat_minor": 0,
  "metadata": {
    "colab": {
      "name": "Top Python Tips & Tricks.ipynb",
      "provenance": [],
      "authorship_tag": "ABX9TyOCHNZGE7vsaQVIc6q+X74M"
    },
    "kernelspec": {
      "name": "python3",
      "display_name": "Python 3"
    }
  },
  "cells": [
    {
      "cell_type": "markdown",
      "metadata": {
        "id": "v-_gmm4y-eQC",
        "colab_type": "text"
      },
      "source": [
        "[Reference](https://medium.com/fintechexplained/top-python-tips-tricks-dd996b807865)"
      ]
    },
    {
      "cell_type": "markdown",
      "metadata": {
        "id": "j-T-gVHu-jU6",
        "colab_type": "text"
      },
      "source": [
        "# 1. Unpacking Array Items"
      ]
    },
    {
      "cell_type": "code",
      "metadata": {
        "id": "7vJUR3z68s07",
        "colab_type": "code",
        "colab": {
          "base_uri": "https://localhost:8080/",
          "height": 51
        },
        "outputId": "a89a4978-71c0-4980-d5da-fb075e04de84"
      },
      "source": [
        "first_name, last_name = ['Farhad', 'Malik']\n",
        "print(first_name) #It will print Farhad\n",
        "print(last_name) #It will print Malik"
      ],
      "execution_count": 1,
      "outputs": [
        {
          "output_type": "stream",
          "text": [
            "Farhad\n",
            "Malik\n"
          ],
          "name": "stdout"
        }
      ]
    },
    {
      "cell_type": "markdown",
      "metadata": {
        "id": "agxcGG3J-ly_",
        "colab_type": "text"
      },
      "source": [
        "# 2. Swapping Variables"
      ]
    },
    {
      "cell_type": "code",
      "metadata": {
        "id": "NlbuYFxu-dFC",
        "colab_type": "code",
        "colab": {
          "base_uri": "https://localhost:8080/",
          "height": 51
        },
        "outputId": "51170bcb-bbc8-40a7-a725-938d5b2bb485"
      },
      "source": [
        "first_name, last_name = ['Farhad', 'Malik']\n",
        "last_name, first_name = first_name, last_name\n",
        "print(first_name) #It will print Malik\n",
        "print(last_name) #It will print Farhad"
      ],
      "execution_count": 2,
      "outputs": [
        {
          "output_type": "stream",
          "text": [
            "Malik\n",
            "Farhad\n"
          ],
          "name": "stdout"
        }
      ]
    },
    {
      "cell_type": "markdown",
      "metadata": {
        "id": "v_Yp73as-o6u",
        "colab_type": "text"
      },
      "source": [
        "# 3. Repeat String"
      ]
    },
    {
      "cell_type": "code",
      "metadata": {
        "id": "ttmfMsCo-nq2",
        "colab_type": "code",
        "colab": {
          "base_uri": "https://localhost:8080/",
          "height": 37
        },
        "outputId": "12688955-4c5b-4580-d449-32448a6fa441"
      },
      "source": [
        "'A'*3"
      ],
      "execution_count": 8,
      "outputs": [
        {
          "output_type": "execute_result",
          "data": {
            "application/vnd.google.colaboratory.intrinsic+json": {
              "type": "string"
            },
            "text/plain": [
              "'AAA'"
            ]
          },
          "metadata": {
            "tags": []
          },
          "execution_count": 8
        }
      ]
    },
    {
      "cell_type": "markdown",
      "metadata": {
        "id": "3EUOO3U3_QDR",
        "colab_type": "text"
      },
      "source": [
        "# 4. Reversing"
      ]
    },
    {
      "cell_type": "code",
      "metadata": {
        "id": "itVmPnYk-qgl",
        "colab_type": "code",
        "colab": {}
      },
      "source": [
        "x = 'abc'\n",
        "x = x[::-1]"
      ],
      "execution_count": 14,
      "outputs": []
    },
    {
      "cell_type": "code",
      "metadata": {
        "id": "GC9M-kgZ_SNM",
        "colab_type": "code",
        "colab": {
          "base_uri": "https://localhost:8080/",
          "height": 37
        },
        "outputId": "4a652699-cfac-4788-8b3f-31719fd06dea"
      },
      "source": [
        "x"
      ],
      "execution_count": 15,
      "outputs": [
        {
          "output_type": "execute_result",
          "data": {
            "application/vnd.google.colaboratory.intrinsic+json": {
              "type": "string"
            },
            "text/plain": [
              "'cba'"
            ]
          },
          "metadata": {
            "tags": []
          },
          "execution_count": 15
        }
      ]
    },
    {
      "cell_type": "markdown",
      "metadata": {
        "id": "K2vFKhve_l9V",
        "colab_type": "text"
      },
      "source": [
        "# 5. Negative Index"
      ]
    },
    {
      "cell_type": "code",
      "metadata": {
        "id": "vcDWvOcz_jFu",
        "colab_type": "code",
        "colab": {
          "base_uri": "https://localhost:8080/",
          "height": 34
        },
        "outputId": "9d255ebf-f7f2-4672-d3c6-e2587a9185fb"
      },
      "source": [
        "y = 'abc'\n",
        "print(y[-1])"
      ],
      "execution_count": 16,
      "outputs": [
        {
          "output_type": "stream",
          "text": [
            "c\n"
          ],
          "name": "stdout"
        }
      ]
    },
    {
      "cell_type": "markdown",
      "metadata": {
        "id": "oAqlQb0F_s05",
        "colab_type": "text"
      },
      "source": [
        "# 6. Intersect Sets"
      ]
    },
    {
      "cell_type": "code",
      "metadata": {
        "id": "qPCxVTsu_ny0",
        "colab_type": "code",
        "colab": {
          "base_uri": "https://localhost:8080/",
          "height": 34
        },
        "outputId": "05a9c3bf-ee25-4ff4-8646-0dbe60470e97"
      },
      "source": [
        "a = {1,2,3}\n",
        "b = {3,4,5}\n",
        "c = a.intersection(b)\n",
        "c"
      ],
      "execution_count": 17,
      "outputs": [
        {
          "output_type": "execute_result",
          "data": {
            "text/plain": [
              "{3}"
            ]
          },
          "metadata": {
            "tags": []
          },
          "execution_count": 17
        }
      ]
    },
    {
      "cell_type": "markdown",
      "metadata": {
        "id": "9svr05fz_xZm",
        "colab_type": "text"
      },
      "source": [
        "# 7. Difference In Sets"
      ]
    },
    {
      "cell_type": "code",
      "metadata": {
        "id": "gtuqngMR_vEe",
        "colab_type": "code",
        "colab": {
          "base_uri": "https://localhost:8080/",
          "height": 34
        },
        "outputId": "8a744fc7-2951-4d0b-9cef-48fc9d5caaef"
      },
      "source": [
        "a = {1,2,3}\n",
        "b = {3,4,5}\n",
        "c = a.difference(b)\n",
        "c"
      ],
      "execution_count": 18,
      "outputs": [
        {
          "output_type": "execute_result",
          "data": {
            "text/plain": [
              "{1, 2}"
            ]
          },
          "metadata": {
            "tags": []
          },
          "execution_count": 18
        }
      ]
    },
    {
      "cell_type": "markdown",
      "metadata": {
        "id": "gIzTWwbJ_2Rn",
        "colab_type": "text"
      },
      "source": [
        "# 8. Union Of Collections"
      ]
    },
    {
      "cell_type": "code",
      "metadata": {
        "id": "j5S8aFYM_zmh",
        "colab_type": "code",
        "colab": {}
      },
      "source": [
        "a = {1,2,3}\n",
        "b = {3,4,5}\n",
        "c = a.union(b)"
      ],
      "execution_count": 19,
      "outputs": []
    },
    {
      "cell_type": "code",
      "metadata": {
        "id": "Uy7Y-kgh_4wG",
        "colab_type": "code",
        "colab": {
          "base_uri": "https://localhost:8080/",
          "height": 34
        },
        "outputId": "5b6001c6-2a18-4950-9af4-6a0b76d51801"
      },
      "source": [
        "c"
      ],
      "execution_count": 20,
      "outputs": [
        {
          "output_type": "execute_result",
          "data": {
            "text/plain": [
              "{1, 2, 3, 4, 5}"
            ]
          },
          "metadata": {
            "tags": []
          },
          "execution_count": 20
        }
      ]
    },
    {
      "cell_type": "markdown",
      "metadata": {
        "id": "ny05RmiQ_6Um",
        "colab_type": "text"
      },
      "source": [
        "# 9. Optional Arguments"
      ]
    },
    {
      "cell_type": "code",
      "metadata": {
        "id": "nP31pxzx_5CE",
        "colab_type": "code",
        "colab": {}
      },
      "source": [
        "def my_new_function(my_value='hello'):\n",
        "  print(my_value)"
      ],
      "execution_count": 21,
      "outputs": []
    },
    {
      "cell_type": "code",
      "metadata": {
        "id": "6vSQBvW1_8OR",
        "colab_type": "code",
        "colab": {
          "base_uri": "https://localhost:8080/",
          "height": 34
        },
        "outputId": "7cb4cb5a-7e1c-4b1d-9722-9c5b2ffaf99f"
      },
      "source": [
        "my_new_function()"
      ],
      "execution_count": 22,
      "outputs": [
        {
          "output_type": "stream",
          "text": [
            "hello\n"
          ],
          "name": "stdout"
        }
      ]
    },
    {
      "cell_type": "code",
      "metadata": {
        "id": "zntrY6d2_9Wj",
        "colab_type": "code",
        "colab": {
          "base_uri": "https://localhost:8080/",
          "height": 34
        },
        "outputId": "757a3c77-890f-43e3-bbcd-75e5304b230f"
      },
      "source": [
        "my_new_function('test')"
      ],
      "execution_count": 23,
      "outputs": [
        {
          "output_type": "stream",
          "text": [
            "test\n"
          ],
          "name": "stdout"
        }
      ]
    },
    {
      "cell_type": "markdown",
      "metadata": {
        "id": "-hh9AdPV__8d",
        "colab_type": "text"
      },
      "source": [
        "# 10. Unknown Arguments Using *arguments"
      ]
    },
    {
      "cell_type": "code",
      "metadata": {
        "id": "iXK34Qx9__CI",
        "colab_type": "code",
        "colab": {}
      },
      "source": [
        "def myfunc(*arguments):\n",
        " for a in arguments:\n",
        "   print(a)"
      ],
      "execution_count": 25,
      "outputs": []
    },
    {
      "cell_type": "code",
      "metadata": {
        "id": "sSwmiMg7ABuD",
        "colab_type": "code",
        "colab": {
          "base_uri": "https://localhost:8080/",
          "height": 119
        },
        "outputId": "3c6ecc93-e2dc-47a1-8f57-f7096c508c61"
      },
      "source": [
        "myfunc(a)\n",
        "myfunc(a,b)\n",
        "myfunc(a,b,c)"
      ],
      "execution_count": 26,
      "outputs": [
        {
          "output_type": "stream",
          "text": [
            "{1, 2, 3}\n",
            "{1, 2, 3}\n",
            "{3, 4, 5}\n",
            "{1, 2, 3}\n",
            "{3, 4, 5}\n",
            "{1, 2, 3, 4, 5}\n"
          ],
          "name": "stdout"
        }
      ]
    },
    {
      "cell_type": "markdown",
      "metadata": {
        "id": "FMo8zTzcAvmh",
        "colab_type": "text"
      },
      "source": [
        "# 11. Dictionary As Arguments Using **arguments"
      ]
    },
    {
      "cell_type": "code",
      "metadata": {
        "id": "4_tbzNyfAFtJ",
        "colab_type": "code",
        "colab": {}
      },
      "source": [
        "def myfunc(**arguments):\n",
        "  return arguments['key']"
      ],
      "execution_count": 27,
      "outputs": []
    },
    {
      "cell_type": "markdown",
      "metadata": {
        "id": "VfSxrROBAzIM",
        "colab_type": "text"
      },
      "source": [
        "# 12. Function With Multiple Outputs"
      ]
    },
    {
      "cell_type": "code",
      "metadata": {
        "id": "oco83RcbAx3y",
        "colab_type": "code",
        "colab": {}
      },
      "source": [
        "# resultA, resultB = get_result()"
      ],
      "execution_count": 30,
      "outputs": []
    },
    {
      "cell_type": "markdown",
      "metadata": {
        "id": "nzCfqssSA8Zl",
        "colab_type": "text"
      },
      "source": [
        "# 13. One Liner For Loops"
      ]
    },
    {
      "cell_type": "code",
      "metadata": {
        "id": "Yj_OC30RA3gM",
        "colab_type": "code",
        "colab": {}
      },
      "source": [
        "# [Variable] AggregateFunction([Value] for [item] in [collection])"
      ],
      "execution_count": 31,
      "outputs": []
    },
    {
      "cell_type": "markdown",
      "metadata": {
        "id": "qRRB8QtnBAUu",
        "colab_type": "text"
      },
      "source": [
        "# 14. Combining Lists Using Zip"
      ]
    },
    {
      "cell_type": "code",
      "metadata": {
        "id": "yE1GKlDGA_GT",
        "colab_type": "code",
        "colab": {
          "base_uri": "https://localhost:8080/",
          "height": 34
        },
        "outputId": "bb186013-ddb5-4d98-dfcb-ed2bad16f9f9"
      },
      "source": [
        "name = 'farhad'\n",
        "suffix = [1,2,3,4,5,6]\n",
        "zip(name, suffix)"
      ],
      "execution_count": 32,
      "outputs": [
        {
          "output_type": "execute_result",
          "data": {
            "text/plain": [
              "<zip at 0x7f0f23b89388>"
            ]
          },
          "metadata": {
            "tags": []
          },
          "execution_count": 32
        }
      ]
    },
    {
      "cell_type": "markdown",
      "metadata": {
        "id": "H3p_6BkhBEiC",
        "colab_type": "text"
      },
      "source": [
        "# 15. Free up Memory"
      ]
    },
    {
      "cell_type": "code",
      "metadata": {
        "id": "hnIJmqd6BC8H",
        "colab_type": "code",
        "colab": {}
      },
      "source": [
        "import gc\n",
        "collected_objects = gc.collect()"
      ],
      "execution_count": 33,
      "outputs": []
    },
    {
      "cell_type": "markdown",
      "metadata": {
        "id": "I2lIjwa8BI8F",
        "colab_type": "text"
      },
      "source": [
        "# 16. Using Decorators"
      ]
    },
    {
      "cell_type": "code",
      "metadata": {
        "id": "bb7P5V2OBdt9",
        "colab_type": "code",
        "colab": {}
      },
      "source": [
        "import functools"
      ],
      "execution_count": 36,
      "outputs": []
    },
    {
      "cell_type": "code",
      "metadata": {
        "id": "ZS_mGRCsBGez",
        "colab_type": "code",
        "colab": {}
      },
      "source": [
        "def my_logger(function):\n",
        "  @functools.wraps(function)\n",
        "  def logger(*args, **kwargs):\n",
        "      print(function.__name__)\n",
        "      return function(*args, **kwargs)\n",
        "  return logger"
      ],
      "execution_count": 34,
      "outputs": []
    },
    {
      "cell_type": "code",
      "metadata": {
        "id": "M9Ysy9Q-BOFp",
        "colab_type": "code",
        "colab": {}
      },
      "source": [
        "@my_logger\n",
        "def hi():\n",
        "  print('hi')\n",
        "\n",
        "@my_logger\n",
        "def bye(a):\n",
        "  print('bye' + a)"
      ],
      "execution_count": 37,
      "outputs": []
    },
    {
      "cell_type": "markdown",
      "metadata": {
        "id": "hVt6E9c8BfgS",
        "colab_type": "text"
      },
      "source": [
        "# 17. Unzipping"
      ]
    },
    {
      "cell_type": "code",
      "metadata": {
        "id": "GWDzGLdsBWJX",
        "colab_type": "code",
        "colab": {}
      },
      "source": [
        "name = 'farhad'\n",
        "suffix = [1,2,3,4,5,6]\n",
        "result = zip(name, suffix)"
      ],
      "execution_count": 38,
      "outputs": []
    },
    {
      "cell_type": "code",
      "metadata": {
        "id": "LFR_jRdXBjDS",
        "colab_type": "code",
        "colab": {}
      },
      "source": [
        "unzipped = zip(*result)"
      ],
      "execution_count": 39,
      "outputs": []
    },
    {
      "cell_type": "code",
      "metadata": {
        "id": "k0jfjvueBjZO",
        "colab_type": "code",
        "colab": {
          "base_uri": "https://localhost:8080/",
          "height": 34
        },
        "outputId": "6a658374-c2a5-4b35-f939-ca3933c2c254"
      },
      "source": [
        "unzipped"
      ],
      "execution_count": 40,
      "outputs": [
        {
          "output_type": "execute_result",
          "data": {
            "text/plain": [
              "<zip at 0x7f0f2424a488>"
            ]
          },
          "metadata": {
            "tags": []
          },
          "execution_count": 40
        }
      ]
    },
    {
      "cell_type": "markdown",
      "metadata": {
        "id": "B9cJBFH8Bm6z",
        "colab_type": "text"
      },
      "source": [
        "# 18. Joining Collection"
      ]
    },
    {
      "cell_type": "code",
      "metadata": {
        "id": "hsPn-2yBBkbT",
        "colab_type": "code",
        "colab": {
          "base_uri": "https://localhost:8080/",
          "height": 34
        },
        "outputId": "7a4e69a9-93b6-4fb9-bf59-1d0b3e51c697"
      },
      "source": [
        "name = [\"FinTech\", \"Explained\"] \n",
        "print(\" \".join(name))"
      ],
      "execution_count": 41,
      "outputs": [
        {
          "output_type": "stream",
          "text": [
            "FinTech Explained\n"
          ],
          "name": "stdout"
        }
      ]
    },
    {
      "cell_type": "markdown",
      "metadata": {
        "id": "oul7WO_wBq26",
        "colab_type": "text"
      },
      "source": [
        "# 19. Memory Footprint Of An Object"
      ]
    },
    {
      "cell_type": "code",
      "metadata": {
        "id": "47wRWx-7Bpdv",
        "colab_type": "code",
        "colab": {
          "base_uri": "https://localhost:8080/",
          "height": 34
        },
        "outputId": "a2070dd8-ede1-40a0-c554-9d55339c890e"
      },
      "source": [
        "import sys \n",
        "x = 'farhadmalik'\n",
        "print(sys.getsizeof(x))"
      ],
      "execution_count": 42,
      "outputs": [
        {
          "output_type": "stream",
          "text": [
            "60\n"
          ],
          "name": "stdout"
        }
      ]
    },
    {
      "cell_type": "markdown",
      "metadata": {
        "id": "PsKoRpTrBugD",
        "colab_type": "text"
      },
      "source": [
        "# 20. Print Current Directory"
      ]
    },
    {
      "cell_type": "code",
      "metadata": {
        "id": "m5YWtagNBtAo",
        "colab_type": "code",
        "colab": {
          "base_uri": "https://localhost:8080/",
          "height": 34
        },
        "outputId": "9c58eeba-28a8-47c0-8b81-f96747c428f5"
      },
      "source": [
        "import os\n",
        "print(os.getcwd())"
      ],
      "execution_count": 43,
      "outputs": [
        {
          "output_type": "stream",
          "text": [
            "/content\n"
          ],
          "name": "stdout"
        }
      ]
    },
    {
      "cell_type": "markdown",
      "metadata": {
        "id": "6C3RS0TqBxzw",
        "colab_type": "text"
      },
      "source": [
        "# 21. Print Imported Modules"
      ]
    },
    {
      "cell_type": "code",
      "metadata": {
        "id": "YPckIBzPBwcc",
        "colab_type": "code",
        "colab": {}
      },
      "source": [
        "import sys\n",
        "imported_modules = [m.__name__ for m in sys.modules.values() if m]"
      ],
      "execution_count": 44,
      "outputs": []
    },
    {
      "cell_type": "code",
      "metadata": {
        "id": "seNdNhSHBz0u",
        "colab_type": "code",
        "colab": {
          "base_uri": "https://localhost:8080/",
          "height": 1000
        },
        "outputId": "047f9121-b4c1-45ee-def3-aa3657547ca0"
      },
      "source": [
        "imported_modules"
      ],
      "execution_count": 45,
      "outputs": [
        {
          "output_type": "execute_result",
          "data": {
            "text/plain": [
              "['builtins',\n",
              " 'sys',\n",
              " 'importlib._bootstrap',\n",
              " '_imp',\n",
              " '_warnings',\n",
              " '_thread',\n",
              " '_weakref',\n",
              " 'importlib._bootstrap_external',\n",
              " 'io',\n",
              " 'marshal',\n",
              " 'posix',\n",
              " 'zipimport',\n",
              " 'encodings',\n",
              " 'codecs',\n",
              " '_codecs',\n",
              " 'encodings.aliases',\n",
              " 'encodings.utf_8',\n",
              " '_signal',\n",
              " '__main__',\n",
              " 'encodings.latin_1',\n",
              " 'io',\n",
              " 'abc',\n",
              " '_weakrefset',\n",
              " '_bootlocale',\n",
              " '_locale',\n",
              " 'warnings',\n",
              " 're',\n",
              " 'enum',\n",
              " 'types',\n",
              " 'functools',\n",
              " '_functools',\n",
              " 'collections',\n",
              " 'collections.abc',\n",
              " 'operator',\n",
              " '_operator',\n",
              " 'keyword',\n",
              " 'heapq',\n",
              " '_heapq',\n",
              " 'itertools',\n",
              " 'reprlib',\n",
              " '_collections',\n",
              " 'weakref',\n",
              " 'collections.abc',\n",
              " 'sre_compile',\n",
              " '_sre',\n",
              " 'sre_parse',\n",
              " 'sre_constants',\n",
              " 'copyreg',\n",
              " 'site',\n",
              " 'os',\n",
              " 'errno',\n",
              " 'stat',\n",
              " '_stat',\n",
              " 'posixpath',\n",
              " 'genericpath',\n",
              " 'posixpath',\n",
              " '_sitebuiltins',\n",
              " 'sysconfig',\n",
              " '_sysconfigdata_m_linux_x86_64-linux-gnu',\n",
              " 'importlib',\n",
              " 'importlib._bootstrap',\n",
              " 'importlib._bootstrap_external',\n",
              " 'importlib.util',\n",
              " 'importlib.abc',\n",
              " 'importlib.machinery',\n",
              " 'contextlib',\n",
              " 'google',\n",
              " 'google.cloud',\n",
              " 'google.logging',\n",
              " 'mpl_toolkits',\n",
              " 'sphinxcontrib',\n",
              " 'sitecustomize',\n",
              " 'runpy',\n",
              " 'pkgutil',\n",
              " 'ipykernel',\n",
              " 'ipykernel._version',\n",
              " 'ipykernel.connect',\n",
              " '__future__',\n",
              " 'json',\n",
              " 'json.decoder',\n",
              " 'json.scanner',\n",
              " '_json',\n",
              " 'json.encoder',\n",
              " 'subprocess',\n",
              " 'time',\n",
              " 'signal',\n",
              " '_posixsubprocess',\n",
              " 'select',\n",
              " 'selectors',\n",
              " 'math',\n",
              " 'threading',\n",
              " 'traceback',\n",
              " 'linecache',\n",
              " 'tokenize',\n",
              " 'token',\n",
              " 'IPython',\n",
              " 'IPython.core',\n",
              " 'IPython.core.getipython',\n",
              " 'IPython.core.release',\n",
              " 'IPython.core.application',\n",
              " 'atexit',\n",
              " 'copy',\n",
              " 'glob',\n",
              " 'fnmatch',\n",
              " 'logging',\n",
              " 'string',\n",
              " '_string',\n",
              " 'shutil',\n",
              " 'zlib',\n",
              " 'bz2',\n",
              " '_compression',\n",
              " '_bz2',\n",
              " 'lzma',\n",
              " '_lzma',\n",
              " 'pwd',\n",
              " 'grp',\n",
              " 'traitlets',\n",
              " 'traitlets.traitlets',\n",
              " 'inspect',\n",
              " 'ast',\n",
              " '_ast',\n",
              " 'dis',\n",
              " 'opcode',\n",
              " '_opcode',\n",
              " 'six',\n",
              " 'struct',\n",
              " '_struct',\n",
              " 'traitlets.utils',\n",
              " 'traitlets.utils.getargspec',\n",
              " 'traitlets.utils.importstring',\n",
              " 'ipython_genutils',\n",
              " 'ipython_genutils._version',\n",
              " 'ipython_genutils.py3compat',\n",
              " 'ipython_genutils.encoding',\n",
              " 'locale',\n",
              " 'platform',\n",
              " 'traitlets.utils.sentinel',\n",
              " 'traitlets.utils.bunch',\n",
              " 'traitlets._version',\n",
              " 'traitlets.config',\n",
              " 'traitlets.config.application',\n",
              " 'decorator',\n",
              " 'traitlets.config.configurable',\n",
              " 'traitlets.config.loader',\n",
              " 'argparse',\n",
              " 'textwrap',\n",
              " 'gettext',\n",
              " 'ipython_genutils.path',\n",
              " 'random',\n",
              " 'hashlib',\n",
              " '_hashlib',\n",
              " '_blake2',\n",
              " '_sha3',\n",
              " 'bisect',\n",
              " '_bisect',\n",
              " '_random',\n",
              " 'ipython_genutils.text',\n",
              " 'ipython_genutils.importstring',\n",
              " 'IPython.core.crashhandler',\n",
              " 'pprint',\n",
              " 'IPython.core.ultratb',\n",
              " 'pydoc',\n",
              " 'urllib',\n",
              " 'urllib.parse',\n",
              " 'IPython.core.debugger',\n",
              " 'bdb',\n",
              " 'IPython.utils',\n",
              " 'IPython.utils.PyColorize',\n",
              " 'IPython.utils.coloransi',\n",
              " 'IPython.utils.ipstruct',\n",
              " 'IPython.utils.py3compat',\n",
              " 'IPython.utils.encoding',\n",
              " 'IPython.utils.colorable',\n",
              " 'pygments',\n",
              " 'pygments.util',\n",
              " 'IPython.utils.ulinecache',\n",
              " 'IPython.utils.openpy',\n",
              " 'IPython.core.excolors',\n",
              " 'IPython.testing',\n",
              " 'IPython.testing.skipdoctest',\n",
              " 'pdb',\n",
              " 'cmd',\n",
              " 'code',\n",
              " 'codeop',\n",
              " 'IPython.core.display_trap',\n",
              " 'IPython.utils.path',\n",
              " 'IPython.utils.process',\n",
              " 'IPython.utils._process_posix',\n",
              " 'pexpect',\n",
              " 'pexpect.exceptions',\n",
              " 'pexpect.utils',\n",
              " 'pexpect.expect',\n",
              " 'pexpect.pty_spawn',\n",
              " 'pty',\n",
              " 'tty',\n",
              " 'termios',\n",
              " 'ptyprocess',\n",
              " 'ptyprocess.ptyprocess',\n",
              " 'fcntl',\n",
              " 'resource',\n",
              " 'ptyprocess.util',\n",
              " 'pexpect.spawnbase',\n",
              " 'pexpect.run',\n",
              " 'IPython.utils._process_common',\n",
              " 'shlex',\n",
              " 'IPython.utils.decorators',\n",
              " 'IPython.utils.data',\n",
              " 'IPython.utils.terminal',\n",
              " 'IPython.utils.sysinfo',\n",
              " 'IPython.utils._sysinfo',\n",
              " 'IPython.core.profiledir',\n",
              " 'IPython.paths',\n",
              " 'tempfile',\n",
              " 'IPython.utils.importstring',\n",
              " 'IPython.terminal',\n",
              " 'IPython.terminal.embed',\n",
              " 'IPython.core.compilerop',\n",
              " 'IPython.core.magic_arguments',\n",
              " 'IPython.core.error',\n",
              " 'IPython.utils.text',\n",
              " 'pathlib',\n",
              " 'ntpath',\n",
              " 'IPython.core.magic',\n",
              " 'getopt',\n",
              " 'IPython.core.oinspect',\n",
              " 'IPython.core.page',\n",
              " 'IPython.core.display',\n",
              " 'base64',\n",
              " 'binascii',\n",
              " 'mimetypes',\n",
              " 'IPython.lib',\n",
              " 'IPython.lib.security',\n",
              " 'getpass',\n",
              " 'IPython.lib.pretty',\n",
              " 'datetime',\n",
              " '_datetime',\n",
              " 'IPython.utils.dir2',\n",
              " 'IPython.utils.wildcard',\n",
              " 'IPython.utils.signatures',\n",
              " 'pygments.lexers',\n",
              " 'pygments.lexers._mapping',\n",
              " 'pygments.modeline',\n",
              " 'pygments.plugin',\n",
              " 'pkg_resources',\n",
              " 'zipfile',\n",
              " 'plistlib',\n",
              " 'xml',\n",
              " 'xml.parsers',\n",
              " 'xml.parsers.expat',\n",
              " 'pyexpat.errors',\n",
              " 'pyexpat.model',\n",
              " 'pyexpat',\n",
              " 'pyexpat.model',\n",
              " 'pyexpat.errors',\n",
              " 'email',\n",
              " 'email.parser',\n",
              " 'email.feedparser',\n",
              " 'email.errors',\n",
              " 'email._policybase',\n",
              " 'email.header',\n",
              " 'email.quoprimime',\n",
              " 'email.base64mime',\n",
              " 'email.charset',\n",
              " 'email.encoders',\n",
              " 'quopri',\n",
              " 'email.utils',\n",
              " 'socket',\n",
              " '_socket',\n",
              " 'email._parseaddr',\n",
              " 'calendar',\n",
              " 'pkg_resources.extern',\n",
              " 'pkg_resources._vendor',\n",
              " 'pkg_resources._vendor.six',\n",
              " 'pkg_resources._vendor.six',\n",
              " 'pkg_resources._vendor.six.moves',\n",
              " 'pkg_resources._vendor.six.moves',\n",
              " 'pkg_resources._vendor.appdirs',\n",
              " 'pkg_resources._vendor.appdirs',\n",
              " 'pkg_resources._vendor.packaging',\n",
              " 'pkg_resources._vendor.packaging.__about__',\n",
              " 'pkg_resources._vendor.packaging',\n",
              " 'pkg_resources.extern.packaging.version',\n",
              " 'pkg_resources.extern.packaging._structures',\n",
              " 'pkg_resources.extern.packaging._typing',\n",
              " 'pkg_resources.extern.packaging.specifiers',\n",
              " 'pkg_resources.extern.packaging._compat',\n",
              " 'pkg_resources.extern.packaging.utils',\n",
              " 'pkg_resources.extern.packaging.requirements',\n",
              " 'pkg_resources._vendor.pyparsing',\n",
              " 'pkg_resources._vendor.pyparsing',\n",
              " 'pkg_resources._vendor.six.moves.urllib',\n",
              " 'pkg_resources._vendor.six.moves.urllib',\n",
              " 'pkg_resources.extern.packaging.markers',\n",
              " 'pygments.lexers.python',\n",
              " 'pygments.lexer',\n",
              " 'pygments.filter',\n",
              " 'pygments.filters',\n",
              " 'pygments.token',\n",
              " 'pygments.regexopt',\n",
              " 'pygments.unistring',\n",
              " 'pygments.formatters',\n",
              " 'pygments.formatters._mapping',\n",
              " 'pygments.formatters.html',\n",
              " 'pygments.formatter',\n",
              " 'pygments.styles',\n",
              " 'IPython.core.inputsplitter',\n",
              " 'IPython.core.inputtransformer',\n",
              " 'IPython.core.splitinput',\n",
              " 'IPython.utils.tokenize2',\n",
              " 'IPython.utils._tokenize_py3',\n",
              " 'IPython.core.interactiveshell',\n",
              " 'pickleshare',\n",
              " 'pickle',\n",
              " '_compat_pickle',\n",
              " '_pickle',\n",
              " 'IPython.core.prefilter',\n",
              " 'IPython.core.autocall',\n",
              " 'IPython.core.macro',\n",
              " 'IPython.core.shadowns',\n",
              " 'IPython.core.alias',\n",
              " 'IPython.core.builtin_trap',\n",
              " 'IPython.core.events',\n",
              " 'IPython.core.displayhook',\n",
              " 'IPython.core.displaypub',\n",
              " 'IPython.core.extensions',\n",
              " 'IPython.core.formatters',\n",
              " 'IPython.utils.sentinel',\n",
              " 'IPython.core.history',\n",
              " 'sqlite3',\n",
              " 'sqlite3.dbapi2',\n",
              " '_sqlite3',\n",
              " 'IPython.core.logger',\n",
              " 'IPython.core.payload',\n",
              " 'IPython.core.usage',\n",
              " 'IPython.display',\n",
              " 'IPython.lib.display',\n",
              " 'IPython.utils.io',\n",
              " 'IPython.utils.capture',\n",
              " 'IPython.utils.strdispatch',\n",
              " 'IPython.core.hooks',\n",
              " 'IPython.utils.syspathcontext',\n",
              " 'IPython.utils.tempdir',\n",
              " 'IPython.utils.contexts',\n",
              " 'IPython.terminal.interactiveshell',\n",
              " 'prompt_toolkit',\n",
              " 'prompt_toolkit.interface',\n",
              " 'prompt_toolkit.application',\n",
              " 'prompt_toolkit.buffer',\n",
              " 'prompt_toolkit.auto_suggest',\n",
              " 'prompt_toolkit.filters',\n",
              " 'prompt_toolkit.filters.base',\n",
              " 'prompt_toolkit.utils',\n",
              " 'wcwidth',\n",
              " 'wcwidth.wcwidth',\n",
              " 'wcwidth.table_wide',\n",
              " 'wcwidth.table_zero',\n",
              " 'wcwidth.unicode_versions',\n",
              " 'six.moves',\n",
              " 'prompt_toolkit.filters.cli',\n",
              " 'prompt_toolkit.enums',\n",
              " 'prompt_toolkit.key_binding',\n",
              " 'prompt_toolkit.key_binding.vi_state',\n",
              " 'prompt_toolkit.cache',\n",
              " 'prompt_toolkit.filters.types',\n",
              " 'prompt_toolkit.filters.utils',\n",
              " 'prompt_toolkit.clipboard',\n",
              " 'prompt_toolkit.clipboard.base',\n",
              " 'prompt_toolkit.selection',\n",
              " 'prompt_toolkit.clipboard.in_memory',\n",
              " 'prompt_toolkit.completion',\n",
              " 'prompt_toolkit.document',\n",
              " 'prompt_toolkit.history',\n",
              " 'prompt_toolkit.search_state',\n",
              " 'prompt_toolkit.validation',\n",
              " 'prompt_toolkit.buffer_mapping',\n",
              " 'prompt_toolkit.key_binding.bindings',\n",
              " 'prompt_toolkit.key_binding.bindings.basic',\n",
              " 'prompt_toolkit.keys',\n",
              " 'prompt_toolkit.layout',\n",
              " 'prompt_toolkit.layout.containers',\n",
              " 'prompt_toolkit.layout.controls',\n",
              " 'prompt_toolkit.mouse_events',\n",
              " 'prompt_toolkit.token',\n",
              " 'prompt_toolkit.layout.lexers',\n",
              " 'prompt_toolkit.layout.utils',\n",
              " 'prompt_toolkit.layout.processors',\n",
              " 'prompt_toolkit.reactive',\n",
              " 'prompt_toolkit.layout.screen',\n",
              " 'prompt_toolkit.layout.dimension',\n",
              " 'prompt_toolkit.layout.margins',\n",
              " 'prompt_toolkit.renderer',\n",
              " 'prompt_toolkit.layout.mouse_handlers',\n",
              " 'prompt_toolkit.output',\n",
              " 'prompt_toolkit.styles',\n",
              " 'prompt_toolkit.styles.base',\n",
              " 'prompt_toolkit.styles.defaults',\n",
              " 'prompt_toolkit.styles.from_dict',\n",
              " 'prompt_toolkit.styles.utils',\n",
              " 'prompt_toolkit.styles.from_pygments',\n",
              " 'pygments.style',\n",
              " 'pygments.styles.default',\n",
              " 'prompt_toolkit.key_binding.bindings.named_commands',\n",
              " 'prompt_toolkit.key_binding.bindings.completion',\n",
              " 'prompt_toolkit.key_binding.registry',\n",
              " 'prompt_toolkit.key_binding.input_processor',\n",
              " 'prompt_toolkit.key_binding.bindings.emacs',\n",
              " 'prompt_toolkit.key_binding.bindings.scroll',\n",
              " 'prompt_toolkit.key_binding.bindings.vi',\n",
              " 'prompt_toolkit.key_binding.digraphs',\n",
              " 'prompt_toolkit.key_binding.defaults',\n",
              " 'prompt_toolkit.eventloop',\n",
              " 'prompt_toolkit.eventloop.base',\n",
              " 'prompt_toolkit.eventloop.callbacks',\n",
              " 'prompt_toolkit.input',\n",
              " 'prompt_toolkit.terminal',\n",
              " 'prompt_toolkit.terminal.vt100_input',\n",
              " 'prompt_toolkit.shortcuts',\n",
              " 'prompt_toolkit.layout.menus',\n",
              " 'prompt_toolkit.layout.prompt',\n",
              " 'prompt_toolkit.layout.toolbars',\n",
              " 'prompt_toolkit.terminal.vt100_output',\n",
              " 'array',\n",
              " 'prompt_toolkit.key_binding.manager',\n",
              " 'IPython.terminal.debugger',\n",
              " 'IPython.core.completer',\n",
              " 'unicodedata',\n",
              " 'IPython.core.latex_symbols',\n",
              " 'IPython.utils.generics',\n",
              " 'simplegeneric',\n",
              " 'IPython.terminal.ptutils',\n",
              " 'IPython.terminal.shortcuts',\n",
              " 'IPython.terminal.magics',\n",
              " 'IPython.lib.clipboard',\n",
              " 'IPython.terminal.pt_inputhooks',\n",
              " 'IPython.terminal.prompts',\n",
              " 'IPython.terminal.ipapp',\n",
              " 'IPython.core.magics',\n",
              " 'IPython.core.magics.auto',\n",
              " 'IPython.core.magics.basic',\n",
              " 'IPython.core.magics.code',\n",
              " 'IPython.core.magics.config',\n",
              " 'IPython.core.magics.display',\n",
              " 'IPython.core.magics.execution',\n",
              " 'gc',\n",
              " 'timeit',\n",
              " 'cProfile',\n",
              " '_lsprof',\n",
              " 'profile',\n",
              " 'optparse',\n",
              " 'pstats',\n",
              " 'IPython.utils.module_paths',\n",
              " 'imp',\n",
              " 'IPython.utils.timing',\n",
              " 'IPython.core.magics.extension',\n",
              " 'IPython.core.magics.history',\n",
              " 'IPython.core.magics.logging',\n",
              " 'IPython.core.magics.namespace',\n",
              " 'IPython.core.magics.osm',\n",
              " 'IPython.core.magics.pylab',\n",
              " 'IPython.core.pylabtools',\n",
              " 'IPython.core.magics.script',\n",
              " 'IPython.lib.backgroundjobs',\n",
              " 'IPython.core.shellapp',\n",
              " 'IPython.extensions',\n",
              " 'IPython.extensions.storemagic',\n",
              " 'IPython.utils.frame',\n",
              " 'jupyter_client',\n",
              " 'jupyter_client._version',\n",
              " 'jupyter_client.connect',\n",
              " 'zmq',\n",
              " 'ctypes',\n",
              " '_ctypes',\n",
              " 'ctypes._endian',\n",
              " 'zmq.backend',\n",
              " 'zmq.backend.select',\n",
              " 'zmq.backend.cython',\n",
              " 'zmq.backend.cython.constants',\n",
              " 'cython_runtime',\n",
              " 'zmq.backend.cython.error',\n",
              " '_cython_0_29_21',\n",
              " 'zmq.backend.cython.message',\n",
              " 'zmq.error',\n",
              " 'zmq.backend.cython.context',\n",
              " 'zmq.backend.cython.socket',\n",
              " 'zmq.backend.cython.utils',\n",
              " 'zmq.backend.cython._poll',\n",
              " 'zmq.backend.cython._version',\n",
              " 'zmq.backend.cython._device',\n",
              " 'zmq.backend.cython._proxy_steerable',\n",
              " 'zmq.sugar',\n",
              " 'zmq.sugar.constants',\n",
              " 'zmq.utils',\n",
              " 'zmq.utils.constant_names',\n",
              " 'zmq.sugar.context',\n",
              " 'zmq.sugar.attrsettr',\n",
              " 'zmq.sugar.socket',\n",
              " 'zmq.sugar.poll',\n",
              " 'zmq.utils.jsonapi',\n",
              " 'zmq.utils.strtypes',\n",
              " 'zmq.sugar.frame',\n",
              " 'zmq.sugar.tracker',\n",
              " 'zmq.sugar.version',\n",
              " 'zmq.sugar.stopwatch',\n",
              " 'jupyter_client.localinterfaces',\n",
              " 'jupyter_core',\n",
              " 'jupyter_core.version',\n",
              " 'jupyter_core.paths',\n",
              " 'distutils',\n",
              " 'distutils.util',\n",
              " 'distutils.errors',\n",
              " 'distutils.dep_util',\n",
              " 'distutils.spawn',\n",
              " 'distutils.debug',\n",
              " 'distutils.log',\n",
              " 'jupyter_client.launcher',\n",
              " 'traitlets.log',\n",
              " 'jupyter_client.client',\n",
              " 'jupyter_client.channels',\n",
              " 'jupyter_client.channelsabc',\n",
              " 'jupyter_client.clientabc',\n",
              " 'jupyter_client.manager',\n",
              " 'jupyter_client.kernelspec',\n",
              " 'jupyter_client.managerabc',\n",
              " 'jupyter_client.blocking',\n",
              " 'jupyter_client.blocking.client',\n",
              " 'queue',\n",
              " 'jupyter_client.blocking.channels',\n",
              " 'jupyter_client.multikernelmanager',\n",
              " 'uuid',\n",
              " 'ctypes.util',\n",
              " 'ipykernel.kernelapp',\n",
              " 'tornado',\n",
              " 'tornado.ioloop',\n",
              " 'numbers',\n",
              " 'tornado.concurrent',\n",
              " 'tornado.log',\n",
              " 'logging.handlers',\n",
              " 'tornado.escape',\n",
              " 'tornado.util',\n",
              " 'typing',\n",
              " 'typing.io',\n",
              " 'typing.re',\n",
              " 'tornado.speedups',\n",
              " 'html',\n",
              " 'html.entities',\n",
              " 'curses',\n",
              " '_curses',\n",
              " 'tornado.stack_context',\n",
              " 'concurrent',\n",
              " 'concurrent.futures',\n",
              " 'concurrent.futures._base',\n",
              " 'concurrent.futures.process',\n",
              " 'multiprocessing',\n",
              " 'multiprocessing.context',\n",
              " 'multiprocessing.process',\n",
              " 'multiprocessing.reduction',\n",
              " '__main__',\n",
              " 'multiprocessing.connection',\n",
              " '_multiprocessing',\n",
              " 'multiprocessing.util',\n",
              " 'concurrent.futures.thread',\n",
              " 'asyncio',\n",
              " 'asyncio.base_events',\n",
              " 'asyncio.compat',\n",
              " 'asyncio.coroutines',\n",
              " 'asyncio.constants',\n",
              " 'asyncio.events',\n",
              " 'asyncio.base_futures',\n",
              " 'asyncio.log',\n",
              " 'asyncio.futures',\n",
              " 'asyncio.base_tasks',\n",
              " '_asyncio',\n",
              " 'asyncio.tasks',\n",
              " 'asyncio.locks',\n",
              " 'asyncio.protocols',\n",
              " 'asyncio.queues',\n",
              " 'asyncio.streams',\n",
              " 'asyncio.subprocess',\n",
              " 'asyncio.transports',\n",
              " 'asyncio.unix_events',\n",
              " 'asyncio.base_subprocess',\n",
              " 'asyncio.selector_events',\n",
              " 'ssl',\n",
              " 'ipaddress',\n",
              " '_ssl',\n",
              " 'asyncio.sslproto',\n",
              " 'tornado.platform',\n",
              " 'tornado.platform.auto',\n",
              " 'tornado.platform.posix',\n",
              " 'tornado.platform.common',\n",
              " 'tornado.platform.interface',\n",
              " 'zmq.eventloop',\n",
              " 'zmq.eventloop.ioloop',\n",
              " 'tornado.platform.asyncio',\n",
              " 'tornado.gen',\n",
              " 'zmq.eventloop.zmqstream',\n",
              " 'ipykernel.iostream',\n",
              " 'jupyter_client.session',\n",
              " 'hmac',\n",
              " 'jupyter_client.jsonutil',\n",
              " 'dateutil',\n",
              " 'dateutil._version',\n",
              " 'dateutil.parser',\n",
              " 'dateutil.parser._parser',\n",
              " 'decimal',\n",
              " 'decimal',\n",
              " 'dateutil.relativedelta',\n",
              " 'dateutil._common',\n",
              " 'dateutil.tz',\n",
              " 'dateutil.tz.tz',\n",
              " 'dateutil.tz._common',\n",
              " 'dateutil.tz._factories',\n",
              " 'dateutil.parser.isoparser',\n",
              " '_strptime',\n",
              " 'jupyter_client.adapter',\n",
              " 'ipykernel.heartbeat',\n",
              " 'ipykernel.ipkernel',\n",
              " 'IPython.utils.tokenutil',\n",
              " 'ipykernel.comm',\n",
              " 'ipykernel.comm.manager',\n",
              " 'ipykernel.comm.comm',\n",
              " 'ipykernel.kernelbase',\n",
              " 'ipykernel.jsonutil',\n",
              " 'ipykernel.zmqshell',\n",
              " 'IPython.core.payloadpage',\n",
              " 'ipykernel.displayhook',\n",
              " 'ipykernel.parentpoller',\n",
              " 'google.colab',\n",
              " 'google.colab._import_hooks',\n",
              " 'google.colab._import_hooks._altair',\n",
              " 'google.colab._import_hooks._bokeh',\n",
              " 'google.colab._import_hooks._cv2',\n",
              " 'google.colab._import_magics',\n",
              " 'google.colab._installation_commands',\n",
              " 'google.colab._reprs',\n",
              " 'IPython.utils.traitlets',\n",
              " 'google.colab._shell_customizations',\n",
              " 'google.colab._ipython',\n",
              " 'google.colab._system_commands',\n",
              " 'google.colab._message',\n",
              " 'google.colab.errors',\n",
              " 'google.colab.output',\n",
              " 'google.colab.output._area',\n",
              " 'google.colab.output._js_builder',\n",
              " 'google.colab.output._js',\n",
              " 'google.colab.output._publish',\n",
              " 'google.colab.output._tags',\n",
              " 'google.colab.output._util',\n",
              " 'google.colab._tensorflow_magics',\n",
              " 'google.colab.auth',\n",
              " 'google.colab.data_table',\n",
              " 'google.colab._interactive_table_helper',\n",
              " 'pandas',\n",
              " 'numpy',\n",
              " 'numpy._globals',\n",
              " 'numpy.__config__',\n",
              " 'numpy.version',\n",
              " 'numpy._distributor_init',\n",
              " 'numpy.core',\n",
              " 'numpy.core.multiarray',\n",
              " 'numpy.core.overrides',\n",
              " 'numpy.core._multiarray_umath',\n",
              " 'numpy.compat',\n",
              " 'numpy.compat._inspect',\n",
              " 'numpy.compat.py3k',\n",
              " 'numpy.core.umath',\n",
              " 'numpy.core.numerictypes',\n",
              " 'numpy.core._string_helpers',\n",
              " 'numpy.core._type_aliases',\n",
              " 'numpy.core._dtype',\n",
              " 'numpy.core.numeric',\n",
              " 'numpy.core.shape_base',\n",
              " 'numpy.core._asarray',\n",
              " 'numpy.core.fromnumeric',\n",
              " 'numpy.core._methods',\n",
              " 'numpy.core._exceptions',\n",
              " 'numpy.core._ufunc_config',\n",
              " 'numpy.core.arrayprint',\n",
              " 'numpy.core.defchararray',\n",
              " 'numpy.core.records',\n",
              " 'numpy.core.memmap',\n",
              " 'numpy.core.function_base',\n",
              " 'numpy.core.machar',\n",
              " 'numpy.core.getlimits',\n",
              " 'numpy.core.einsumfunc',\n",
              " 'numpy.core._add_newdocs',\n",
              " 'numpy.core._multiarray_tests',\n",
              " 'numpy.core._dtype_ctypes',\n",
              " 'numpy.core._internal',\n",
              " 'numpy._pytesttester',\n",
              " 'numpy.lib',\n",
              " 'numpy.lib.mixins',\n",
              " 'numpy.lib.scimath',\n",
              " 'numpy.lib.type_check',\n",
              " 'numpy.lib.ufunclike',\n",
              " 'numpy.lib.index_tricks',\n",
              " 'numpy.matrixlib',\n",
              " 'numpy.matrixlib.defmatrix',\n",
              " 'numpy.linalg',\n",
              " 'numpy.linalg.linalg',\n",
              " 'numpy.lib.twodim_base',\n",
              " 'numpy.linalg.lapack_lite',\n",
              " 'numpy.linalg._umath_linalg',\n",
              " 'numpy.lib.function_base',\n",
              " 'numpy.lib.histograms',\n",
              " 'numpy.lib.stride_tricks',\n",
              " 'numpy.lib.nanfunctions',\n",
              " 'numpy.lib.shape_base',\n",
              " 'numpy.lib.polynomial',\n",
              " 'numpy.lib.utils',\n",
              " 'numpy.lib.arraysetops',\n",
              " 'numpy.lib.npyio',\n",
              " 'numpy.lib.format',\n",
              " 'numpy.lib._datasource',\n",
              " 'numpy.lib._iotools',\n",
              " 'numpy.lib.financial',\n",
              " 'numpy.lib.arrayterator',\n",
              " 'numpy.lib.arraypad',\n",
              " 'numpy.lib._version',\n",
              " 'numpy.fft',\n",
              " 'numpy.fft._pocketfft',\n",
              " 'numpy.fft._pocketfft_internal',\n",
              " 'numpy.fft.helper',\n",
              " 'numpy.polynomial',\n",
              " 'numpy.polynomial.polynomial',\n",
              " 'numpy.polynomial.polyutils',\n",
              " 'numpy.polynomial._polybase',\n",
              " 'numpy.polynomial.chebyshev',\n",
              " 'numpy.polynomial.legendre',\n",
              " 'numpy.polynomial.hermite',\n",
              " 'numpy.polynomial.hermite_e',\n",
              " 'numpy.polynomial.laguerre',\n",
              " 'numpy.random',\n",
              " 'numpy.random._pickle',\n",
              " 'numpy.random.mtrand',\n",
              " 'numpy.random._bit_generator',\n",
              " '_cython_0_29_19',\n",
              " 'numpy.random._common',\n",
              " 'secrets',\n",
              " 'numpy.random._bounded_integers',\n",
              " 'numpy.random._mt19937',\n",
              " 'numpy.random._philox',\n",
              " 'numpy.random._pcg64',\n",
              " 'numpy.random._sfc64',\n",
              " 'numpy.random._generator',\n",
              " 'numpy.ctypeslib',\n",
              " 'numpy.ma',\n",
              " 'numpy.ma.core',\n",
              " 'numpy.ma.extras',\n",
              " 'numpy.testing',\n",
              " 'unittest',\n",
              " 'unittest.result',\n",
              " 'unittest.util',\n",
              " 'unittest.case',\n",
              " 'difflib',\n",
              " 'unittest.suite',\n",
              " 'unittest.loader',\n",
              " 'unittest.main',\n",
              " 'unittest.runner',\n",
              " 'unittest.signals',\n",
              " 'numpy.testing._private',\n",
              " 'numpy.testing._private.utils',\n",
              " 'numpy.testing._private.decorators',\n",
              " 'numpy.testing._private.nosetester',\n",
              " 'pytz',\n",
              " 'pytz.exceptions',\n",
              " 'pytz.lazy',\n",
              " 'pytz.tzinfo',\n",
              " 'pytz.tzfile',\n",
              " 'pandas.compat',\n",
              " 'pandas.compat.numpy',\n",
              " 'distutils.version',\n",
              " 'pandas._libs',\n",
              " 'pandas._libs.tslibs',\n",
              " 'pandas._libs.tslibs.conversion',\n",
              " 'pandas._libs.tslibs.c_timestamp',\n",
              " 'pandas._libs.tslibs.nattype',\n",
              " '_cython_0_29_16',\n",
              " 'pandas._libs.missing',\n",
              " 'pandas._libs.tslibs.np_datetime',\n",
              " 'pandas._libs.ops_dispatch',\n",
              " 'pandas._libs.tslibs.timezones',\n",
              " 'pandas._libs.tslibs.tzconversion',\n",
              " 'pandas._libs.tslibs.timedeltas',\n",
              " 'pandas._libs.tslibs.offsets',\n",
              " 'pandas._libs.tslibs.ccalendar',\n",
              " 'pandas._config',\n",
              " 'pandas._config.config',\n",
              " 'pandas._config.dates',\n",
              " 'pandas._config.display',\n",
              " 'pandas._config.localization',\n",
              " 'pandas._libs.tslibs.strptime',\n",
              " 'pandas._libs.tslibs.fields',\n",
              " 'pandas._libs.tslibs.parsing',\n",
              " 'pandas._libs.tslibs.frequencies',\n",
              " 'pandas._libs.tslibs.period',\n",
              " 'pandas._libs.tslibs.timestamps',\n",
              " 'pandas._libs.tslibs.resolution',\n",
              " 'pandas._libs.hashtable',\n",
              " 'pandas._libs.lib',\n",
              " 'fractions',\n",
              " 'pandas._libs.tslib',\n",
              " 'pandas.core',\n",
              " 'pandas.core.config_init',\n",
              " 'pandas.core.api',\n",
              " 'pandas.core.dtypes',\n",
              " 'pandas.core.dtypes.dtypes',\n",
              " 'pandas._libs.interval',\n",
              " 'pandas._libs.algos',\n",
              " 'pandas._typing',\n",
              " 'pandas.core.dtypes.base',\n",
              " 'pandas.errors',\n",
              " 'pandas.core.dtypes.generic',\n",
              " 'pandas.core.dtypes.inference',\n",
              " 'pandas.core.dtypes.missing',\n",
              " 'pandas.core.dtypes.common',\n",
              " 'pandas.core.algorithms',\n",
              " 'pandas.util',\n",
              " 'pandas.util._decorators',\n",
              " 'pandas._libs.properties',\n",
              " 'pandas.core.util',\n",
              " 'pandas.core.util.hashing',\n",
              " 'pandas._libs.hashing',\n",
              " 'pandas.core.dtypes.cast',\n",
              " 'pandas.util._validators',\n",
              " 'pandas.core.common',\n",
              " 'pandas.core.construction',\n",
              " 'pandas.core.indexers',\n",
              " 'pandas.core.arrays',\n",
              " 'pandas.core.arrays.base',\n",
              " 'pandas.compat.numpy.function',\n",
              " 'pandas.core.ops',\n",
              " 'pandas.core.ops.array_ops',\n",
              " 'pandas._libs.ops',\n",
              " 'pandas.core.ops.missing',\n",
              " 'pandas.core.ops.roperator',\n",
              " 'pandas.core.ops.dispatch',\n",
              " 'pandas.core.ops.invalid',\n",
              " 'pandas.core.ops.common',\n",
              " 'pandas.core.ops.docstrings',\n",
              " 'pandas.core.ops.mask_ops',\n",
              " 'pandas.core.ops.methods',\n",
              " 'pandas.core.missing',\n",
              " 'pandas.compat._optional',\n",
              " 'pandas.core.sorting',\n",
              " 'pandas.core.arrays.boolean',\n",
              " 'pandas.core.nanops',\n",
              " 'bottleneck',\n",
              " 'bottleneck.reduce',\n",
              " 'bottleneck.nonreduce',\n",
              " 'bottleneck.nonreduce_axis',\n",
              " 'bottleneck.move',\n",
              " 'bottleneck.slow',\n",
              " 'bottleneck.slow.reduce',\n",
              " 'bottleneck.slow.nonreduce',\n",
              " 'bottleneck.slow.nonreduce_axis',\n",
              " 'bottleneck.slow.move',\n",
              " 'bottleneck.benchmark',\n",
              " 'bottleneck.benchmark.bench',\n",
              " 'bottleneck.benchmark.autotimeit',\n",
              " 'bottleneck.benchmark.bench_detailed',\n",
              " 'bottleneck.tests',\n",
              " 'bottleneck.tests.util',\n",
              " 'bottleneck._pytesttester',\n",
              " 'bottleneck._version',\n",
              " 'pandas.core.arrays.masked',\n",
              " 'pandas.core.arrays.categorical',\n",
              " 'pandas.core.accessor',\n",
              " 'pandas.core.base',\n",
              " 'pandas.io',\n",
              " 'pandas.io.formats',\n",
              " 'pandas.io.formats.console',\n",
              " 'pandas.core.arrays.datetimes',\n",
              " 'pandas.core.arrays.datetimelike',\n",
              " 'pandas.tseries',\n",
              " 'pandas.tseries.frequencies',\n",
              " 'pandas.tseries.offsets',\n",
              " 'dateutil.easter',\n",
              " 'pandas.core.arrays._ranges',\n",
              " 'pandas.core.arrays.integer',\n",
              " 'pandas.core.tools',\n",
              " 'pandas.core.tools.numeric',\n",
              " 'pandas.core.arrays.interval',\n",
              " 'pandas.core.indexes',\n",
              " 'pandas.core.indexes.base',\n",
              " 'pandas._libs.index',\n",
              " 'pandas._libs.join',\n",
              " 'pandas.core.dtypes.concat',\n",
              " 'pandas.core.indexes.frozen',\n",
              " 'pandas.io.formats.printing',\n",
              " 'pandas.core.strings',\n",
              " 'pandas.core.arrays.numpy_',\n",
              " 'pandas.core.arrays.period',\n",
              " 'pandas.core.arrays.sparse',\n",
              " 'pandas.core.arrays.sparse.accessor',\n",
              " 'pandas.core.arrays.sparse.array',\n",
              " 'pandas._libs.sparse',\n",
              " 'pandas.core.arrays.sparse.dtype',\n",
              " 'pandas.core.arrays.string_',\n",
              " 'pandas.core.arrays.timedeltas',\n",
              " 'pandas.core.groupby',\n",
              " 'pandas.core.groupby.generic',\n",
              " 'pandas.core.frame',\n",
              " 'pandas.core.generic',\n",
              " 'pandas.core.indexes.api',\n",
              " 'pandas.core.indexes.category',\n",
              " 'pandas.core.indexes.extension',\n",
              " 'pandas.core.indexes.datetimes',\n",
              " 'pandas.core.indexes.datetimelike',\n",
              " 'pandas.core.indexes.numeric',\n",
              " 'pandas.core.tools.timedeltas',\n",
              " 'pandas.core.tools.datetimes',\n",
              " 'pandas.arrays',\n",
              " 'pandas.core.indexes.interval',\n",
              " 'pandas.util._exceptions',\n",
              " 'pandas.core.indexes.multi',\n",
              " 'pandas.core.indexes.timedeltas',\n",
              " 'pandas.core.indexes.period',\n",
              " 'pandas.core.indexes.range',\n",
              " 'pandas.core.indexing',\n",
              " 'pandas._libs.indexing',\n",
              " 'pandas.core.internals',\n",
              " 'pandas.core.internals.blocks',\n",
              " 'pandas._libs.writers',\n",
              " 'pandas._libs.internals',\n",
              " 'pandas.core.internals.managers',\n",
              " 'pandas.core.internals.concat',\n",
              " 'pandas.io.formats.format',\n",
              " 'pandas.io.common',\n",
              " 'gzip',\n",
              " 'mmap',\n",
              " 'pandas.core.internals.construction',\n",
              " 'pandas.core.series',\n",
              " 'pandas._libs.reshape',\n",
              " 'pandas.core.indexes.accessors',\n",
              " 'pandas.plotting',\n",
              " 'pandas.plotting._core',\n",
              " 'pandas.plotting._misc',\n",
              " 'pandas.core.window',\n",
              " 'pandas.core.window.ewm',\n",
              " 'pandas._libs.window',\n",
              " 'pandas._libs.window.aggregations',\n",
              " 'pandas.core.window.common',\n",
              " 'pandas.core.groupby.base',\n",
              " 'pandas.core.window.rolling',\n",
              " 'pandas.core.window.indexers',\n",
              " 'pandas._libs.window.indexers',\n",
              " 'pandas.core.window.numba_',\n",
              " 'pandas.core.window.expanding',\n",
              " 'pandas.core.groupby.groupby',\n",
              " 'pandas._libs.groupby',\n",
              " 'pandas.core.groupby.ops',\n",
              " 'pandas._libs.reduction',\n",
              " 'pandas.core.groupby.grouper',\n",
              " 'pandas.core.groupby.categorical',\n",
              " 'pandas.tseries.api',\n",
              " 'pandas.core.computation',\n",
              " 'pandas.core.computation.api',\n",
              " 'pandas.core.computation.eval',\n",
              " 'pandas.core.computation.engines',\n",
              " 'pandas.core.computation.align',\n",
              " 'pandas.core.computation.common',\n",
              " 'pandas.core.computation.ops',\n",
              " 'pandas.core.computation.scope',\n",
              " 'pandas.compat.chainmap',\n",
              " 'pandas.core.computation.expr',\n",
              " 'pandas.core.computation.parsing',\n",
              " 'pandas.core.reshape',\n",
              " 'pandas.core.reshape.api',\n",
              " 'pandas.core.reshape.concat',\n",
              " 'pandas.core.reshape.melt',\n",
              " 'pandas.core.reshape.merge',\n",
              " 'pandas.core.reshape.pivot',\n",
              " 'pandas.core.reshape.util',\n",
              " 'pandas.core.reshape.reshape',\n",
              " 'pandas.core.reshape.tile',\n",
              " 'pandas.api',\n",
              " 'pandas.api.extensions',\n",
              " 'pandas.api.indexers',\n",
              " 'pandas.api.types',\n",
              " 'pandas.core.dtypes.api',\n",
              " 'pandas.util._print_versions',\n",
              " 'pandas.io.api',\n",
              " 'pandas.io.clipboards',\n",
              " 'pandas.io.excel',\n",
              " 'pandas.io.excel._base',\n",
              " 'pandas._libs.parsers',\n",
              " 'csv',\n",
              " '_csv',\n",
              " 'pandas.io.excel._util',\n",
              " 'pandas.io.parsers',\n",
              " 'pandas.io.date_converters',\n",
              " 'pandas.io.excel._odfreader',\n",
              " 'pandas.io.excel._openpyxl',\n",
              " 'pandas.io.excel._xlrd',\n",
              " 'pandas.io.excel._pyxlsb',\n",
              " 'pandas.io.excel._xlsxwriter',\n",
              " 'pandas._libs.json',\n",
              " 'pandas.io.excel._xlwt',\n",
              " 'pandas.io.feather_format',\n",
              " ...]"
            ]
          },
          "metadata": {
            "tags": []
          },
          "execution_count": 45
        }
      ]
    },
    {
      "cell_type": "markdown",
      "metadata": {
        "id": "xx1-qg-BB49g",
        "colab_type": "text"
      },
      "source": [
        "# 22. Get Current Process Id"
      ]
    },
    {
      "cell_type": "code",
      "metadata": {
        "id": "QuxovA78B09Y",
        "colab_type": "code",
        "colab": {
          "base_uri": "https://localhost:8080/",
          "height": 34
        },
        "outputId": "aa784d82-6bbd-47af-bc69-a97e33e7cc35"
      },
      "source": [
        "import os\n",
        "\n",
        "os.getpid()"
      ],
      "execution_count": 46,
      "outputs": [
        {
          "output_type": "execute_result",
          "data": {
            "text/plain": [
              "98"
            ]
          },
          "metadata": {
            "tags": []
          },
          "execution_count": 46
        }
      ]
    }
  ]
}