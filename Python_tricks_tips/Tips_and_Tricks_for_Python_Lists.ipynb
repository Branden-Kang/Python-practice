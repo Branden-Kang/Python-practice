{
  "nbformat": 4,
  "nbformat_minor": 0,
  "metadata": {
    "colab": {
      "name": "Tips and Tricks for Python Lists.ipynb",
      "provenance": [],
      "authorship_tag": "ABX9TyPIraSy1n2bSo0Cf3Lu50mU"
    },
    "kernelspec": {
      "name": "python3",
      "display_name": "Python 3"
    },
    "language_info": {
      "name": "python"
    }
  },
  "cells": [
    {
      "cell_type": "markdown",
      "metadata": {
        "id": "r0lgcKY5Mjr0"
      },
      "source": [
        "[Reference](https://medium.com/nerd-for-tech/tips-and-tricks-for-python-lists-ee096eb39a1c)"
      ]
    },
    {
      "cell_type": "code",
      "metadata": {
        "colab": {
          "base_uri": "https://localhost:8080/"
        },
        "id": "jjXDYX3GMhuw",
        "outputId": "bd34eddc-a172-4da6-eb3a-af24d3b037c6"
      },
      "source": [
        "a = ['a1','a2','a3']\n",
        "b = ['b1','b2','b3']\n",
        "c = a + b\n",
        "print('a + b = ', c)"
      ],
      "execution_count": 2,
      "outputs": [
        {
          "output_type": "stream",
          "text": [
            "a + b =  ['a1', 'a2', 'a3', 'b1', 'b2', 'b3']\n"
          ],
          "name": "stdout"
        }
      ]
    },
    {
      "cell_type": "code",
      "metadata": {
        "colab": {
          "base_uri": "https://localhost:8080/"
        },
        "id": "olQZBHkJMm-J",
        "outputId": "131a4bfd-79f8-4f7d-bda8-4792a5f9228b"
      },
      "source": [
        "for x in a:\n",
        "    for y in b:\n",
        "        z = x + y\n",
        "        print(z) "
      ],
      "execution_count": 3,
      "outputs": [
        {
          "output_type": "stream",
          "text": [
            "a1b1\n",
            "a1b2\n",
            "a1b3\n",
            "a2b1\n",
            "a2b2\n",
            "a2b3\n",
            "a3b1\n",
            "a3b2\n",
            "a3b3\n"
          ],
          "name": "stdout"
        }
      ]
    },
    {
      "cell_type": "code",
      "metadata": {
        "colab": {
          "base_uri": "https://localhost:8080/"
        },
        "id": "73bMIVjHMtYg",
        "outputId": "a65bb34a-e9d1-4580-f928-c91368c2cfb4"
      },
      "source": [
        "for x, y in zip(a, b):\n",
        "    z = x + y\n",
        "    print(z)"
      ],
      "execution_count": 4,
      "outputs": [
        {
          "output_type": "stream",
          "text": [
            "a1b1\n",
            "a2b2\n",
            "a3b3\n"
          ],
          "name": "stdout"
        }
      ]
    },
    {
      "cell_type": "code",
      "metadata": {
        "id": "u4qYmAB-MzbW"
      },
      "source": [
        "results = []\n",
        "for x, y in zip(a, b):\n",
        "    z = x + y\n",
        "    results.append(z)"
      ],
      "execution_count": 5,
      "outputs": []
    },
    {
      "cell_type": "code",
      "metadata": {
        "colab": {
          "base_uri": "https://localhost:8080/"
        },
        "id": "8RIsj3sfM07A",
        "outputId": "06800d50-2786-4daa-e5e3-f6de4fc42ed2"
      },
      "source": [
        "def add(list_1, list_2, solution):\n",
        "    for x, y in zip(list_1, list_2):\n",
        "        z = x + y\n",
        "        solution.append(z)    \n",
        "        \n",
        "    return solution\n",
        "\n",
        "a = [1,2,3,4,5]\n",
        "b = [6,7,8,9,10]\n",
        "c = []\n",
        "\n",
        "add(a, b, c)"
      ],
      "execution_count": 7,
      "outputs": [
        {
          "output_type": "execute_result",
          "data": {
            "text/plain": [
              "[7, 9, 11, 13, 15]"
            ]
          },
          "metadata": {
            "tags": []
          },
          "execution_count": 7
        }
      ]
    },
    {
      "cell_type": "code",
      "metadata": {
        "colab": {
          "base_uri": "https://localhost:8080/"
        },
        "id": "6sd6exysM2mf",
        "outputId": "98efae59-20dc-4cb8-eb80-526727378323"
      },
      "source": [
        "def zip_dict(keys, values, new_dict):\n",
        "    for key, value in zip(keys, values):\n",
        "        new_dict[key] = value    \n",
        "        \n",
        "    return new_dict\n",
        "\n",
        "keys = ['key_1', 'key_2', 'key_3']\n",
        "values = [1, 2, 3]\n",
        "new_dict = {}\n",
        "\n",
        "zip_dict(keys, values, new_dict)"
      ],
      "execution_count": 8,
      "outputs": [
        {
          "output_type": "execute_result",
          "data": {
            "text/plain": [
              "{'key_1': 1, 'key_2': 2, 'key_3': 3}"
            ]
          },
          "metadata": {
            "tags": []
          },
          "execution_count": 8
        }
      ]
    },
    {
      "cell_type": "code",
      "metadata": {
        "colab": {
          "base_uri": "https://localhost:8080/"
        },
        "id": "ulBaEHuRM7h7",
        "outputId": "125d1e0f-4403-463d-ec8b-05361b7f7379"
      },
      "source": [
        "def partition(list_1, new_list, n):\n",
        "    for i in range(0, len(list_1), n):\n",
        "        group = list_1[i:i+n]\n",
        "        new_list.append(group)    \n",
        "        \n",
        "    return new_list\n",
        "    \n",
        "list_1 = [1, 2, 3, 4, 5, 6, 7]\n",
        "new_list = []\n",
        "n = 2\n",
        "\n",
        "partition(list_1, new_list, n)"
      ],
      "execution_count": 9,
      "outputs": [
        {
          "output_type": "execute_result",
          "data": {
            "text/plain": [
              "[[1, 2], [3, 4], [5, 6], [7]]"
            ]
          },
          "metadata": {
            "tags": []
          },
          "execution_count": 9
        }
      ]
    },
    {
      "cell_type": "code",
      "metadata": {
        "colab": {
          "base_uri": "https://localhost:8080/"
        },
        "id": "DriVEGvnM_ew",
        "outputId": "48f944cf-0c3a-4ee8-d3ff-cb745c2b1dd3"
      },
      "source": [
        "def tup_partition(list_1, new_list, n):\n",
        "    for i in range(0, len(list_1), n):\n",
        "        group = list_1[i:i+n]\n",
        "        tup_group = tuple(group)\n",
        "        new_list.append(tup_group)    \n",
        "        \n",
        "    return new_list\n",
        "\n",
        "list_2 = [1,3,2,4,6,5]\n",
        "new_list = []\n",
        "n = 2\n",
        "\n",
        "tup_partition(list_2, new_list, n)"
      ],
      "execution_count": 10,
      "outputs": [
        {
          "output_type": "execute_result",
          "data": {
            "text/plain": [
              "[(1, 3), (2, 4), (6, 5)]"
            ]
          },
          "metadata": {
            "tags": []
          },
          "execution_count": 10
        }
      ]
    },
    {
      "cell_type": "code",
      "metadata": {
        "colab": {
          "base_uri": "https://localhost:8080/"
        },
        "id": "dM8y-qvONCzp",
        "outputId": "65280cd9-c78c-45bc-d0c1-f38369e6b233"
      },
      "source": [
        "def flatten(lists, new_list):\n",
        "    for list in lists:\n",
        "        for item in list:\n",
        "            new_list.append(item)\n",
        "    \n",
        "    return new_list\n",
        "lists = [[1, 2], [3, 4], [5, 6], [7]]\n",
        "new_list = []\n",
        "\n",
        "flatten(lists, new_list)"
      ],
      "execution_count": 11,
      "outputs": [
        {
          "output_type": "execute_result",
          "data": {
            "text/plain": [
              "[1, 2, 3, 4, 5, 6, 7]"
            ]
          },
          "metadata": {
            "tags": []
          },
          "execution_count": 11
        }
      ]
    },
    {
      "cell_type": "code",
      "metadata": {
        "colab": {
          "base_uri": "https://localhost:8080/"
        },
        "id": "kqmlvDjGNFRK",
        "outputId": "2acbd58f-87fb-48d5-ecc2-69f7187dfb2c"
      },
      "source": [
        "a = [1,2,3]\n",
        "b = a.copy()\n",
        "c = b.copy()\n",
        "\n",
        "a.remove(2)    # Use .remove() to delete a specific element\n",
        "b.pop(0)       # Use .pop() to delete an element at a specific index print('a = ', a)\n",
        "print('b = ', b)\n",
        "print('c = ', c)"
      ],
      "execution_count": 12,
      "outputs": [
        {
          "output_type": "stream",
          "text": [
            "b =  [2, 3]\n",
            "c =  [1, 2, 3]\n"
          ],
          "name": "stdout"
        }
      ]
    },
    {
      "cell_type": "code",
      "metadata": {
        "colab": {
          "base_uri": "https://localhost:8080/"
        },
        "id": "o6lDAWPTNHzH",
        "outputId": "8fab4532-8140-4070-d28d-a3aa438b66ab"
      },
      "source": [
        "a = [1, 3]\n",
        "b = [2, 3]\n",
        "\n",
        "a.clear()\n",
        "b.clear()\n",
        "\n",
        "b.append('done')\n",
        "\n",
        "print(a)\n",
        "print(b)"
      ],
      "execution_count": 13,
      "outputs": [
        {
          "output_type": "stream",
          "text": [
            "[]\n",
            "['done']\n"
          ],
          "name": "stdout"
        }
      ]
    }
  ]
}