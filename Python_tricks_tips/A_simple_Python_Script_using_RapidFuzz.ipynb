{
  "nbformat": 4,
  "nbformat_minor": 0,
  "metadata": {
    "colab": {
      "provenance": [],
      "authorship_tag": "ABX9TyNpyGEV5MycZGD9FPDU3Snh"
    },
    "kernelspec": {
      "name": "python3",
      "display_name": "Python 3"
    },
    "language_info": {
      "name": "python"
    }
  },
  "cells": [
    {
      "cell_type": "markdown",
      "source": [
        "[Reference](https://python.plainenglish.io/150-5-minute-data-matching-gig-6a5c10ce75d6)"
      ],
      "metadata": {
        "id": "irzfFeGP-j-b"
      }
    },
    {
      "cell_type": "code",
      "execution_count": 2,
      "metadata": {
        "id": "dAufhE3Z-hj5"
      },
      "outputs": [],
      "source": [
        "import pandas as pd\n",
        "from rapidfuzz import fuzz"
      ]
    },
    {
      "cell_type": "code",
      "source": [
        "# df = pd.read_excel('CompanyNamesLookup.xlsx', sheet_name = 'List 1')\n",
        "# ef = pd.read_excel('CompanyNamesLookup.xlsx', sheet_name = 'List 2')"
      ],
      "metadata": {
        "id": "QeBf4m1k-n6L"
      },
      "execution_count": 3,
      "outputs": []
    },
    {
      "cell_type": "code",
      "source": [
        "%%time\n",
        "df['Match'] = ''\n",
        "for index, row in df.iterrows():\n",
        "    matches = []\n",
        "    for i, r in ef.iterrows():\n",
        "        score = fuzz.ratio(row['Customer_Name'], r['Company Name'])\n",
        "        if score >= 90:\n",
        "            matches.append([r['Company Name'], r['CaseSafe ACCT ID']])\n",
        "    df.at[index, 'Match'] = matches\n",
        "    if matches:\n",
        "        print(index, row['Customer_Name'], ': ', matches)"
      ],
      "metadata": {
        "id": "93SVXpDS-ob_"
      },
      "execution_count": 4,
      "outputs": []
    }
  ]
}
