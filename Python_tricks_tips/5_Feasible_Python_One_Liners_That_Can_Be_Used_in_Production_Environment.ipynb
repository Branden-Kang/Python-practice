{
  "nbformat": 4,
  "nbformat_minor": 0,
  "metadata": {
    "colab": {
      "provenance": [],
      "authorship_tag": "ABX9TyOiHbLEmux/xEGurfTLZDJm"
    },
    "kernelspec": {
      "name": "python3",
      "display_name": "Python 3"
    },
    "language_info": {
      "name": "python"
    }
  },
  "cells": [
    {
      "cell_type": "markdown",
      "source": [
        "[Reference](https://medium.com/techtofreedom/5-feasible-python-one-liners-that-can-be-used-in-production-environment-2e74ee548376)"
      ],
      "metadata": {
        "id": "6pgggDIOeQPi"
      }
    },
    {
      "cell_type": "markdown",
      "source": [
        "# 1. A One-Liner Function To Get Fibonacci Number"
      ],
      "metadata": {
        "id": "kz8UBW_OeTCi"
      }
    },
    {
      "cell_type": "code",
      "execution_count": 1,
      "metadata": {
        "colab": {
          "base_uri": "https://localhost:8080/"
        },
        "id": "abacT09TdS5C",
        "outputId": "ed624044-7113-43de-f85e-9724985b9452"
      },
      "outputs": [
        {
          "output_type": "execute_result",
          "data": {
            "text/plain": [
              "<function __main__.<lambda>(x)>"
            ]
          },
          "metadata": {},
          "execution_count": 1
        }
      ],
      "source": [
        "fib = lambda x: x if x <= 1 else fib(x - 1) + fib(x - 2)\n",
        "fib "
      ]
    },
    {
      "cell_type": "markdown",
      "source": [
        "# 2. Calculate Distance Between Two Vectors"
      ],
      "metadata": {
        "id": "6nTmFeZLeeYR"
      }
    },
    {
      "cell_type": "code",
      "source": [
        "dist = lambda w,v : (sum((wi - vi)**2 for wi,vi in zip(w,v)))**.5\n",
        "dist "
      ],
      "metadata": {
        "colab": {
          "base_uri": "https://localhost:8080/"
        },
        "id": "gyl-nFCqeUqK",
        "outputId": "3d231792-4081-484b-f905-ed86867ce7a5"
      },
      "execution_count": 2,
      "outputs": [
        {
          "output_type": "execute_result",
          "data": {
            "text/plain": [
              "<function __main__.<lambda>(w, v)>"
            ]
          },
          "metadata": {},
          "execution_count": 2
        }
      ]
    },
    {
      "cell_type": "code",
      "source": [
        "add_vec= lambda A,B:[ai+bi for (ai, bi) in zip(A, B)]"
      ],
      "metadata": {
        "id": "npSeC6_7egFT"
      },
      "execution_count": 3,
      "outputs": []
    },
    {
      "cell_type": "code",
      "source": [
        "invert_mat =lambda A:[list(i) for i in zip(*A)]"
      ],
      "metadata": {
        "id": "LZDJV7o1eg-8"
      },
      "execution_count": 4,
      "outputs": []
    },
    {
      "cell_type": "markdown",
      "source": [
        "# 3. Start an HTTP Server Right Now"
      ],
      "metadata": {
        "id": "AZ3ZkRt_eiKE"
      }
    },
    {
      "cell_type": "code",
      "source": [
        "python3 -m http.server"
      ],
      "metadata": {
        "id": "FMU4J7_5ehkB"
      },
      "execution_count": 5,
      "outputs": []
    },
    {
      "cell_type": "markdown",
      "source": [
        "# 4. Merge Multiple Python Dictionaries"
      ],
      "metadata": {
        "id": "ym4OPuh1el74"
      }
    },
    {
      "cell_type": "code",
      "source": [
        "# D={**d1,**d2,**d3}"
      ],
      "metadata": {
        "id": "DQDMqZPDemK5"
      },
      "execution_count": 7,
      "outputs": []
    },
    {
      "cell_type": "markdown",
      "source": [
        "# 5. Leverage the Power of List Comprehensions"
      ],
      "metadata": {
        "id": "laesZHlmfAjR"
      }
    },
    {
      "cell_type": "code",
      "source": [
        "Genius = [\"Yang\", \"Tom\", \"Jerry\", \"Jack\", \"tom\", \"yang\"]\n",
        "L1 = [name for name in Genius if name.startswith('Y')]\n",
        "L2 = [name for name in Genius if name.startswith('Y') or len(name) < 4]\n",
        "L3 = [name for name in Genius if len(name) < 4 and name.islower()]\n",
        "print(L1, L2, L3)"
      ],
      "metadata": {
        "colab": {
          "base_uri": "https://localhost:8080/"
        },
        "id": "H-H0QT46eq8k",
        "outputId": "1164762f-fdca-4e07-e554-179f35cbc429"
      },
      "execution_count": 8,
      "outputs": [
        {
          "output_type": "stream",
          "name": "stdout",
          "text": [
            "['Yang'] ['Yang', 'Tom', 'tom'] ['tom']\n"
          ]
        }
      ]
    }
  ]
}
