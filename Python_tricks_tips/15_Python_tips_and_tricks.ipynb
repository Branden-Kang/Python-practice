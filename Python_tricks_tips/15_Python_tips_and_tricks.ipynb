{
  "nbformat": 4,
  "nbformat_minor": 0,
  "metadata": {
    "colab": {
      "name": "15 Python tips and tricks.ipynb",
      "provenance": [],
      "authorship_tag": "ABX9TyNMqUH4wn7WxiXZQo0U9Ccw"
    },
    "kernelspec": {
      "name": "python3",
      "display_name": "Python 3"
    }
  },
  "cells": [
    {
      "cell_type": "markdown",
      "metadata": {
        "id": "jGtUMUYxDQKv",
        "colab_type": "text"
      },
      "source": [
        "[Reference](https://medium.com/@george.seif94/15-python-tips-and-tricks-so-you-dont-have-to-look-them-up-on-stack-overflow-90cec02705ae)"
      ]
    },
    {
      "cell_type": "markdown",
      "metadata": {
        "id": "8I3TpdLtDMFU",
        "colab_type": "text"
      },
      "source": [
        "# Swapping values"
      ]
    },
    {
      "cell_type": "code",
      "metadata": {
        "id": "6yHe_wKtDEBE",
        "colab_type": "code",
        "colab": {
          "base_uri": "https://localhost:8080/",
          "height": 51
        },
        "outputId": "85c0788f-8d9d-4fca-9b97-79ddea29532b"
      },
      "source": [
        "x, y = 3, 5\n",
        "print(x, y)\n",
        "x, y = y, x\n",
        "print(x, y)"
      ],
      "execution_count": 3,
      "outputs": [
        {
          "output_type": "stream",
          "text": [
            "3 5\n",
            "5 3\n"
          ],
          "name": "stdout"
        }
      ]
    },
    {
      "cell_type": "markdown",
      "metadata": {
        "id": "UrKss3qiDYvt",
        "colab_type": "text"
      },
      "source": [
        "# Combining a list of strings into a single one"
      ]
    },
    {
      "cell_type": "code",
      "metadata": {
        "id": "ynLaYmJCDXek",
        "colab_type": "code",
        "colab": {
          "base_uri": "https://localhost:8080/",
          "height": 34
        },
        "outputId": "cd01b216-0aaa-4ccb-f5c8-6a836f353289"
      },
      "source": [
        "sentence_list = [\"my\", \"name\", \"is\", \"Branden\"]\n",
        "sentence_string = \" \".join(sentence_list)\n",
        "print(sentence_string)"
      ],
      "execution_count": 2,
      "outputs": [
        {
          "output_type": "stream",
          "text": [
            "my name is Branden\n"
          ],
          "name": "stdout"
        }
      ]
    },
    {
      "cell_type": "markdown",
      "metadata": {
        "id": "HqVaEXwmDgZR",
        "colab_type": "text"
      },
      "source": [
        "# Splitting a string into a list of substrings"
      ]
    },
    {
      "cell_type": "code",
      "metadata": {
        "id": "WT06JRkdDe8W",
        "colab_type": "code",
        "colab": {
          "base_uri": "https://localhost:8080/",
          "height": 34
        },
        "outputId": "b4c35038-3703-4bf2-a3ba-f674961fea15"
      },
      "source": [
        "sentence_string = \"my name is Branden\"\n",
        "sentence_string.split()\n",
        "print(sentence_string)"
      ],
      "execution_count": 5,
      "outputs": [
        {
          "output_type": "stream",
          "text": [
            "my name is Branden\n"
          ],
          "name": "stdout"
        }
      ]
    },
    {
      "cell_type": "markdown",
      "metadata": {
        "id": "Bg62ULgoDjZA",
        "colab_type": "text"
      },
      "source": [
        "# Initialising a list filled with some number"
      ]
    },
    {
      "cell_type": "code",
      "metadata": {
        "id": "b4ZJ2TzuDiPV",
        "colab_type": "code",
        "colab": {
          "base_uri": "https://localhost:8080/",
          "height": 1000
        },
        "outputId": "1ae5523b-ea82-4e31-bf42-edf3f9a40147"
      },
      "source": [
        "[0]*1000 # List of 1000 zeros \n",
        "[8.2]*1000 # List of 1000 8.2's"
      ],
      "execution_count": 6,
      "outputs": [
        {
          "output_type": "execute_result",
          "data": {
            "text/plain": [
              "[8.2,\n",
              " 8.2,\n",
              " 8.2,\n",
              " 8.2,\n",
              " 8.2,\n",
              " 8.2,\n",
              " 8.2,\n",
              " 8.2,\n",
              " 8.2,\n",
              " 8.2,\n",
              " 8.2,\n",
              " 8.2,\n",
              " 8.2,\n",
              " 8.2,\n",
              " 8.2,\n",
              " 8.2,\n",
              " 8.2,\n",
              " 8.2,\n",
              " 8.2,\n",
              " 8.2,\n",
              " 8.2,\n",
              " 8.2,\n",
              " 8.2,\n",
              " 8.2,\n",
              " 8.2,\n",
              " 8.2,\n",
              " 8.2,\n",
              " 8.2,\n",
              " 8.2,\n",
              " 8.2,\n",
              " 8.2,\n",
              " 8.2,\n",
              " 8.2,\n",
              " 8.2,\n",
              " 8.2,\n",
              " 8.2,\n",
              " 8.2,\n",
              " 8.2,\n",
              " 8.2,\n",
              " 8.2,\n",
              " 8.2,\n",
              " 8.2,\n",
              " 8.2,\n",
              " 8.2,\n",
              " 8.2,\n",
              " 8.2,\n",
              " 8.2,\n",
              " 8.2,\n",
              " 8.2,\n",
              " 8.2,\n",
              " 8.2,\n",
              " 8.2,\n",
              " 8.2,\n",
              " 8.2,\n",
              " 8.2,\n",
              " 8.2,\n",
              " 8.2,\n",
              " 8.2,\n",
              " 8.2,\n",
              " 8.2,\n",
              " 8.2,\n",
              " 8.2,\n",
              " 8.2,\n",
              " 8.2,\n",
              " 8.2,\n",
              " 8.2,\n",
              " 8.2,\n",
              " 8.2,\n",
              " 8.2,\n",
              " 8.2,\n",
              " 8.2,\n",
              " 8.2,\n",
              " 8.2,\n",
              " 8.2,\n",
              " 8.2,\n",
              " 8.2,\n",
              " 8.2,\n",
              " 8.2,\n",
              " 8.2,\n",
              " 8.2,\n",
              " 8.2,\n",
              " 8.2,\n",
              " 8.2,\n",
              " 8.2,\n",
              " 8.2,\n",
              " 8.2,\n",
              " 8.2,\n",
              " 8.2,\n",
              " 8.2,\n",
              " 8.2,\n",
              " 8.2,\n",
              " 8.2,\n",
              " 8.2,\n",
              " 8.2,\n",
              " 8.2,\n",
              " 8.2,\n",
              " 8.2,\n",
              " 8.2,\n",
              " 8.2,\n",
              " 8.2,\n",
              " 8.2,\n",
              " 8.2,\n",
              " 8.2,\n",
              " 8.2,\n",
              " 8.2,\n",
              " 8.2,\n",
              " 8.2,\n",
              " 8.2,\n",
              " 8.2,\n",
              " 8.2,\n",
              " 8.2,\n",
              " 8.2,\n",
              " 8.2,\n",
              " 8.2,\n",
              " 8.2,\n",
              " 8.2,\n",
              " 8.2,\n",
              " 8.2,\n",
              " 8.2,\n",
              " 8.2,\n",
              " 8.2,\n",
              " 8.2,\n",
              " 8.2,\n",
              " 8.2,\n",
              " 8.2,\n",
              " 8.2,\n",
              " 8.2,\n",
              " 8.2,\n",
              " 8.2,\n",
              " 8.2,\n",
              " 8.2,\n",
              " 8.2,\n",
              " 8.2,\n",
              " 8.2,\n",
              " 8.2,\n",
              " 8.2,\n",
              " 8.2,\n",
              " 8.2,\n",
              " 8.2,\n",
              " 8.2,\n",
              " 8.2,\n",
              " 8.2,\n",
              " 8.2,\n",
              " 8.2,\n",
              " 8.2,\n",
              " 8.2,\n",
              " 8.2,\n",
              " 8.2,\n",
              " 8.2,\n",
              " 8.2,\n",
              " 8.2,\n",
              " 8.2,\n",
              " 8.2,\n",
              " 8.2,\n",
              " 8.2,\n",
              " 8.2,\n",
              " 8.2,\n",
              " 8.2,\n",
              " 8.2,\n",
              " 8.2,\n",
              " 8.2,\n",
              " 8.2,\n",
              " 8.2,\n",
              " 8.2,\n",
              " 8.2,\n",
              " 8.2,\n",
              " 8.2,\n",
              " 8.2,\n",
              " 8.2,\n",
              " 8.2,\n",
              " 8.2,\n",
              " 8.2,\n",
              " 8.2,\n",
              " 8.2,\n",
              " 8.2,\n",
              " 8.2,\n",
              " 8.2,\n",
              " 8.2,\n",
              " 8.2,\n",
              " 8.2,\n",
              " 8.2,\n",
              " 8.2,\n",
              " 8.2,\n",
              " 8.2,\n",
              " 8.2,\n",
              " 8.2,\n",
              " 8.2,\n",
              " 8.2,\n",
              " 8.2,\n",
              " 8.2,\n",
              " 8.2,\n",
              " 8.2,\n",
              " 8.2,\n",
              " 8.2,\n",
              " 8.2,\n",
              " 8.2,\n",
              " 8.2,\n",
              " 8.2,\n",
              " 8.2,\n",
              " 8.2,\n",
              " 8.2,\n",
              " 8.2,\n",
              " 8.2,\n",
              " 8.2,\n",
              " 8.2,\n",
              " 8.2,\n",
              " 8.2,\n",
              " 8.2,\n",
              " 8.2,\n",
              " 8.2,\n",
              " 8.2,\n",
              " 8.2,\n",
              " 8.2,\n",
              " 8.2,\n",
              " 8.2,\n",
              " 8.2,\n",
              " 8.2,\n",
              " 8.2,\n",
              " 8.2,\n",
              " 8.2,\n",
              " 8.2,\n",
              " 8.2,\n",
              " 8.2,\n",
              " 8.2,\n",
              " 8.2,\n",
              " 8.2,\n",
              " 8.2,\n",
              " 8.2,\n",
              " 8.2,\n",
              " 8.2,\n",
              " 8.2,\n",
              " 8.2,\n",
              " 8.2,\n",
              " 8.2,\n",
              " 8.2,\n",
              " 8.2,\n",
              " 8.2,\n",
              " 8.2,\n",
              " 8.2,\n",
              " 8.2,\n",
              " 8.2,\n",
              " 8.2,\n",
              " 8.2,\n",
              " 8.2,\n",
              " 8.2,\n",
              " 8.2,\n",
              " 8.2,\n",
              " 8.2,\n",
              " 8.2,\n",
              " 8.2,\n",
              " 8.2,\n",
              " 8.2,\n",
              " 8.2,\n",
              " 8.2,\n",
              " 8.2,\n",
              " 8.2,\n",
              " 8.2,\n",
              " 8.2,\n",
              " 8.2,\n",
              " 8.2,\n",
              " 8.2,\n",
              " 8.2,\n",
              " 8.2,\n",
              " 8.2,\n",
              " 8.2,\n",
              " 8.2,\n",
              " 8.2,\n",
              " 8.2,\n",
              " 8.2,\n",
              " 8.2,\n",
              " 8.2,\n",
              " 8.2,\n",
              " 8.2,\n",
              " 8.2,\n",
              " 8.2,\n",
              " 8.2,\n",
              " 8.2,\n",
              " 8.2,\n",
              " 8.2,\n",
              " 8.2,\n",
              " 8.2,\n",
              " 8.2,\n",
              " 8.2,\n",
              " 8.2,\n",
              " 8.2,\n",
              " 8.2,\n",
              " 8.2,\n",
              " 8.2,\n",
              " 8.2,\n",
              " 8.2,\n",
              " 8.2,\n",
              " 8.2,\n",
              " 8.2,\n",
              " 8.2,\n",
              " 8.2,\n",
              " 8.2,\n",
              " 8.2,\n",
              " 8.2,\n",
              " 8.2,\n",
              " 8.2,\n",
              " 8.2,\n",
              " 8.2,\n",
              " 8.2,\n",
              " 8.2,\n",
              " 8.2,\n",
              " 8.2,\n",
              " 8.2,\n",
              " 8.2,\n",
              " 8.2,\n",
              " 8.2,\n",
              " 8.2,\n",
              " 8.2,\n",
              " 8.2,\n",
              " 8.2,\n",
              " 8.2,\n",
              " 8.2,\n",
              " 8.2,\n",
              " 8.2,\n",
              " 8.2,\n",
              " 8.2,\n",
              " 8.2,\n",
              " 8.2,\n",
              " 8.2,\n",
              " 8.2,\n",
              " 8.2,\n",
              " 8.2,\n",
              " 8.2,\n",
              " 8.2,\n",
              " 8.2,\n",
              " 8.2,\n",
              " 8.2,\n",
              " 8.2,\n",
              " 8.2,\n",
              " 8.2,\n",
              " 8.2,\n",
              " 8.2,\n",
              " 8.2,\n",
              " 8.2,\n",
              " 8.2,\n",
              " 8.2,\n",
              " 8.2,\n",
              " 8.2,\n",
              " 8.2,\n",
              " 8.2,\n",
              " 8.2,\n",
              " 8.2,\n",
              " 8.2,\n",
              " 8.2,\n",
              " 8.2,\n",
              " 8.2,\n",
              " 8.2,\n",
              " 8.2,\n",
              " 8.2,\n",
              " 8.2,\n",
              " 8.2,\n",
              " 8.2,\n",
              " 8.2,\n",
              " 8.2,\n",
              " 8.2,\n",
              " 8.2,\n",
              " 8.2,\n",
              " 8.2,\n",
              " 8.2,\n",
              " 8.2,\n",
              " 8.2,\n",
              " 8.2,\n",
              " 8.2,\n",
              " 8.2,\n",
              " 8.2,\n",
              " 8.2,\n",
              " 8.2,\n",
              " 8.2,\n",
              " 8.2,\n",
              " 8.2,\n",
              " 8.2,\n",
              " 8.2,\n",
              " 8.2,\n",
              " 8.2,\n",
              " 8.2,\n",
              " 8.2,\n",
              " 8.2,\n",
              " 8.2,\n",
              " 8.2,\n",
              " 8.2,\n",
              " 8.2,\n",
              " 8.2,\n",
              " 8.2,\n",
              " 8.2,\n",
              " 8.2,\n",
              " 8.2,\n",
              " 8.2,\n",
              " 8.2,\n",
              " 8.2,\n",
              " 8.2,\n",
              " 8.2,\n",
              " 8.2,\n",
              " 8.2,\n",
              " 8.2,\n",
              " 8.2,\n",
              " 8.2,\n",
              " 8.2,\n",
              " 8.2,\n",
              " 8.2,\n",
              " 8.2,\n",
              " 8.2,\n",
              " 8.2,\n",
              " 8.2,\n",
              " 8.2,\n",
              " 8.2,\n",
              " 8.2,\n",
              " 8.2,\n",
              " 8.2,\n",
              " 8.2,\n",
              " 8.2,\n",
              " 8.2,\n",
              " 8.2,\n",
              " 8.2,\n",
              " 8.2,\n",
              " 8.2,\n",
              " 8.2,\n",
              " 8.2,\n",
              " 8.2,\n",
              " 8.2,\n",
              " 8.2,\n",
              " 8.2,\n",
              " 8.2,\n",
              " 8.2,\n",
              " 8.2,\n",
              " 8.2,\n",
              " 8.2,\n",
              " 8.2,\n",
              " 8.2,\n",
              " 8.2,\n",
              " 8.2,\n",
              " 8.2,\n",
              " 8.2,\n",
              " 8.2,\n",
              " 8.2,\n",
              " 8.2,\n",
              " 8.2,\n",
              " 8.2,\n",
              " 8.2,\n",
              " 8.2,\n",
              " 8.2,\n",
              " 8.2,\n",
              " 8.2,\n",
              " 8.2,\n",
              " 8.2,\n",
              " 8.2,\n",
              " 8.2,\n",
              " 8.2,\n",
              " 8.2,\n",
              " 8.2,\n",
              " 8.2,\n",
              " 8.2,\n",
              " 8.2,\n",
              " 8.2,\n",
              " 8.2,\n",
              " 8.2,\n",
              " 8.2,\n",
              " 8.2,\n",
              " 8.2,\n",
              " 8.2,\n",
              " 8.2,\n",
              " 8.2,\n",
              " 8.2,\n",
              " 8.2,\n",
              " 8.2,\n",
              " 8.2,\n",
              " 8.2,\n",
              " 8.2,\n",
              " 8.2,\n",
              " 8.2,\n",
              " 8.2,\n",
              " 8.2,\n",
              " 8.2,\n",
              " 8.2,\n",
              " 8.2,\n",
              " 8.2,\n",
              " 8.2,\n",
              " 8.2,\n",
              " 8.2,\n",
              " 8.2,\n",
              " 8.2,\n",
              " 8.2,\n",
              " 8.2,\n",
              " 8.2,\n",
              " 8.2,\n",
              " 8.2,\n",
              " 8.2,\n",
              " 8.2,\n",
              " 8.2,\n",
              " 8.2,\n",
              " 8.2,\n",
              " 8.2,\n",
              " 8.2,\n",
              " 8.2,\n",
              " 8.2,\n",
              " 8.2,\n",
              " 8.2,\n",
              " 8.2,\n",
              " 8.2,\n",
              " 8.2,\n",
              " 8.2,\n",
              " 8.2,\n",
              " 8.2,\n",
              " 8.2,\n",
              " 8.2,\n",
              " 8.2,\n",
              " 8.2,\n",
              " 8.2,\n",
              " 8.2,\n",
              " 8.2,\n",
              " 8.2,\n",
              " 8.2,\n",
              " 8.2,\n",
              " 8.2,\n",
              " 8.2,\n",
              " 8.2,\n",
              " 8.2,\n",
              " 8.2,\n",
              " 8.2,\n",
              " 8.2,\n",
              " 8.2,\n",
              " 8.2,\n",
              " 8.2,\n",
              " 8.2,\n",
              " 8.2,\n",
              " 8.2,\n",
              " 8.2,\n",
              " 8.2,\n",
              " 8.2,\n",
              " 8.2,\n",
              " 8.2,\n",
              " 8.2,\n",
              " 8.2,\n",
              " 8.2,\n",
              " 8.2,\n",
              " 8.2,\n",
              " 8.2,\n",
              " 8.2,\n",
              " 8.2,\n",
              " 8.2,\n",
              " 8.2,\n",
              " 8.2,\n",
              " 8.2,\n",
              " 8.2,\n",
              " 8.2,\n",
              " 8.2,\n",
              " 8.2,\n",
              " 8.2,\n",
              " 8.2,\n",
              " 8.2,\n",
              " 8.2,\n",
              " 8.2,\n",
              " 8.2,\n",
              " 8.2,\n",
              " 8.2,\n",
              " 8.2,\n",
              " 8.2,\n",
              " 8.2,\n",
              " 8.2,\n",
              " 8.2,\n",
              " 8.2,\n",
              " 8.2,\n",
              " 8.2,\n",
              " 8.2,\n",
              " 8.2,\n",
              " 8.2,\n",
              " 8.2,\n",
              " 8.2,\n",
              " 8.2,\n",
              " 8.2,\n",
              " 8.2,\n",
              " 8.2,\n",
              " 8.2,\n",
              " 8.2,\n",
              " 8.2,\n",
              " 8.2,\n",
              " 8.2,\n",
              " 8.2,\n",
              " 8.2,\n",
              " 8.2,\n",
              " 8.2,\n",
              " 8.2,\n",
              " 8.2,\n",
              " 8.2,\n",
              " 8.2,\n",
              " 8.2,\n",
              " 8.2,\n",
              " 8.2,\n",
              " 8.2,\n",
              " 8.2,\n",
              " 8.2,\n",
              " 8.2,\n",
              " 8.2,\n",
              " 8.2,\n",
              " 8.2,\n",
              " 8.2,\n",
              " 8.2,\n",
              " 8.2,\n",
              " 8.2,\n",
              " 8.2,\n",
              " 8.2,\n",
              " 8.2,\n",
              " 8.2,\n",
              " 8.2,\n",
              " 8.2,\n",
              " 8.2,\n",
              " 8.2,\n",
              " 8.2,\n",
              " 8.2,\n",
              " 8.2,\n",
              " 8.2,\n",
              " 8.2,\n",
              " 8.2,\n",
              " 8.2,\n",
              " 8.2,\n",
              " 8.2,\n",
              " 8.2,\n",
              " 8.2,\n",
              " 8.2,\n",
              " 8.2,\n",
              " 8.2,\n",
              " 8.2,\n",
              " 8.2,\n",
              " 8.2,\n",
              " 8.2,\n",
              " 8.2,\n",
              " 8.2,\n",
              " 8.2,\n",
              " 8.2,\n",
              " 8.2,\n",
              " 8.2,\n",
              " 8.2,\n",
              " 8.2,\n",
              " 8.2,\n",
              " 8.2,\n",
              " 8.2,\n",
              " 8.2,\n",
              " 8.2,\n",
              " 8.2,\n",
              " 8.2,\n",
              " 8.2,\n",
              " 8.2,\n",
              " 8.2,\n",
              " 8.2,\n",
              " 8.2,\n",
              " 8.2,\n",
              " 8.2,\n",
              " 8.2,\n",
              " 8.2,\n",
              " 8.2,\n",
              " 8.2,\n",
              " 8.2,\n",
              " 8.2,\n",
              " 8.2,\n",
              " 8.2,\n",
              " 8.2,\n",
              " 8.2,\n",
              " 8.2,\n",
              " 8.2,\n",
              " 8.2,\n",
              " 8.2,\n",
              " 8.2,\n",
              " 8.2,\n",
              " 8.2,\n",
              " 8.2,\n",
              " 8.2,\n",
              " 8.2,\n",
              " 8.2,\n",
              " 8.2,\n",
              " 8.2,\n",
              " 8.2,\n",
              " 8.2,\n",
              " 8.2,\n",
              " 8.2,\n",
              " 8.2,\n",
              " 8.2,\n",
              " 8.2,\n",
              " 8.2,\n",
              " 8.2,\n",
              " 8.2,\n",
              " 8.2,\n",
              " 8.2,\n",
              " 8.2,\n",
              " 8.2,\n",
              " 8.2,\n",
              " 8.2,\n",
              " 8.2,\n",
              " 8.2,\n",
              " 8.2,\n",
              " 8.2,\n",
              " 8.2,\n",
              " 8.2,\n",
              " 8.2,\n",
              " 8.2,\n",
              " 8.2,\n",
              " 8.2,\n",
              " 8.2,\n",
              " 8.2,\n",
              " 8.2,\n",
              " 8.2,\n",
              " 8.2,\n",
              " 8.2,\n",
              " 8.2,\n",
              " 8.2,\n",
              " 8.2,\n",
              " 8.2,\n",
              " 8.2,\n",
              " 8.2,\n",
              " 8.2,\n",
              " 8.2,\n",
              " 8.2,\n",
              " 8.2,\n",
              " 8.2,\n",
              " 8.2,\n",
              " 8.2,\n",
              " 8.2,\n",
              " 8.2,\n",
              " 8.2,\n",
              " 8.2,\n",
              " 8.2,\n",
              " 8.2,\n",
              " 8.2,\n",
              " 8.2,\n",
              " 8.2,\n",
              " 8.2,\n",
              " 8.2,\n",
              " 8.2,\n",
              " 8.2,\n",
              " 8.2,\n",
              " 8.2,\n",
              " 8.2,\n",
              " 8.2,\n",
              " 8.2,\n",
              " 8.2,\n",
              " 8.2,\n",
              " 8.2,\n",
              " 8.2,\n",
              " 8.2,\n",
              " 8.2,\n",
              " 8.2,\n",
              " 8.2,\n",
              " 8.2,\n",
              " 8.2,\n",
              " 8.2,\n",
              " 8.2,\n",
              " 8.2,\n",
              " 8.2,\n",
              " 8.2,\n",
              " 8.2,\n",
              " 8.2,\n",
              " 8.2,\n",
              " 8.2,\n",
              " 8.2,\n",
              " 8.2,\n",
              " 8.2,\n",
              " 8.2,\n",
              " 8.2,\n",
              " 8.2,\n",
              " 8.2,\n",
              " 8.2,\n",
              " 8.2,\n",
              " 8.2,\n",
              " 8.2,\n",
              " 8.2,\n",
              " 8.2,\n",
              " 8.2,\n",
              " 8.2,\n",
              " 8.2,\n",
              " 8.2,\n",
              " 8.2,\n",
              " 8.2,\n",
              " 8.2,\n",
              " 8.2,\n",
              " 8.2,\n",
              " 8.2,\n",
              " 8.2,\n",
              " 8.2,\n",
              " 8.2,\n",
              " 8.2,\n",
              " 8.2,\n",
              " 8.2,\n",
              " 8.2,\n",
              " 8.2,\n",
              " 8.2,\n",
              " 8.2,\n",
              " 8.2,\n",
              " 8.2,\n",
              " 8.2,\n",
              " 8.2,\n",
              " 8.2,\n",
              " 8.2,\n",
              " 8.2,\n",
              " 8.2,\n",
              " 8.2,\n",
              " 8.2,\n",
              " 8.2,\n",
              " 8.2,\n",
              " 8.2,\n",
              " 8.2,\n",
              " 8.2,\n",
              " 8.2,\n",
              " 8.2,\n",
              " 8.2,\n",
              " 8.2,\n",
              " 8.2,\n",
              " 8.2,\n",
              " 8.2,\n",
              " 8.2,\n",
              " 8.2,\n",
              " 8.2,\n",
              " 8.2,\n",
              " 8.2,\n",
              " 8.2,\n",
              " 8.2,\n",
              " 8.2,\n",
              " 8.2,\n",
              " 8.2,\n",
              " 8.2,\n",
              " 8.2,\n",
              " 8.2,\n",
              " 8.2,\n",
              " 8.2,\n",
              " 8.2,\n",
              " 8.2,\n",
              " 8.2,\n",
              " 8.2,\n",
              " 8.2,\n",
              " 8.2,\n",
              " 8.2,\n",
              " 8.2,\n",
              " 8.2,\n",
              " 8.2,\n",
              " 8.2,\n",
              " 8.2,\n",
              " 8.2,\n",
              " 8.2,\n",
              " 8.2,\n",
              " 8.2,\n",
              " 8.2,\n",
              " 8.2,\n",
              " 8.2,\n",
              " 8.2,\n",
              " 8.2,\n",
              " 8.2,\n",
              " 8.2,\n",
              " 8.2,\n",
              " 8.2,\n",
              " 8.2,\n",
              " 8.2,\n",
              " 8.2,\n",
              " 8.2,\n",
              " 8.2,\n",
              " 8.2,\n",
              " 8.2,\n",
              " 8.2,\n",
              " 8.2,\n",
              " 8.2,\n",
              " 8.2,\n",
              " 8.2,\n",
              " 8.2,\n",
              " 8.2,\n",
              " 8.2,\n",
              " 8.2,\n",
              " 8.2,\n",
              " 8.2,\n",
              " 8.2,\n",
              " 8.2,\n",
              " 8.2,\n",
              " 8.2,\n",
              " 8.2,\n",
              " 8.2,\n",
              " 8.2,\n",
              " 8.2,\n",
              " 8.2,\n",
              " 8.2,\n",
              " 8.2,\n",
              " 8.2,\n",
              " 8.2,\n",
              " 8.2,\n",
              " 8.2,\n",
              " 8.2,\n",
              " 8.2,\n",
              " 8.2,\n",
              " 8.2,\n",
              " 8.2,\n",
              " 8.2,\n",
              " 8.2,\n",
              " 8.2,\n",
              " 8.2,\n",
              " 8.2,\n",
              " 8.2,\n",
              " 8.2,\n",
              " 8.2,\n",
              " 8.2,\n",
              " 8.2,\n",
              " 8.2,\n",
              " 8.2,\n",
              " 8.2,\n",
              " 8.2,\n",
              " 8.2,\n",
              " 8.2,\n",
              " 8.2,\n",
              " 8.2,\n",
              " 8.2,\n",
              " 8.2,\n",
              " 8.2,\n",
              " 8.2,\n",
              " 8.2,\n",
              " 8.2,\n",
              " 8.2,\n",
              " 8.2,\n",
              " 8.2,\n",
              " 8.2,\n",
              " 8.2,\n",
              " 8.2,\n",
              " 8.2,\n",
              " 8.2,\n",
              " 8.2,\n",
              " 8.2,\n",
              " 8.2,\n",
              " 8.2,\n",
              " 8.2,\n",
              " 8.2,\n",
              " 8.2,\n",
              " 8.2,\n",
              " 8.2,\n",
              " 8.2,\n",
              " 8.2,\n",
              " 8.2,\n",
              " 8.2,\n",
              " 8.2,\n",
              " 8.2,\n",
              " 8.2,\n",
              " 8.2,\n",
              " 8.2,\n",
              " 8.2,\n",
              " 8.2,\n",
              " 8.2,\n",
              " 8.2,\n",
              " 8.2,\n",
              " 8.2,\n",
              " 8.2,\n",
              " 8.2,\n",
              " 8.2,\n",
              " 8.2,\n",
              " 8.2,\n",
              " 8.2,\n",
              " 8.2,\n",
              " 8.2,\n",
              " 8.2,\n",
              " 8.2,\n",
              " 8.2,\n",
              " 8.2,\n",
              " 8.2,\n",
              " 8.2,\n",
              " 8.2,\n",
              " 8.2,\n",
              " 8.2,\n",
              " 8.2,\n",
              " 8.2,\n",
              " 8.2,\n",
              " 8.2,\n",
              " 8.2,\n",
              " 8.2,\n",
              " 8.2,\n",
              " 8.2,\n",
              " 8.2,\n",
              " 8.2,\n",
              " 8.2,\n",
              " 8.2,\n",
              " 8.2,\n",
              " 8.2,\n",
              " 8.2,\n",
              " 8.2,\n",
              " 8.2,\n",
              " 8.2,\n",
              " 8.2,\n",
              " 8.2,\n",
              " 8.2,\n",
              " 8.2,\n",
              " 8.2,\n",
              " 8.2,\n",
              " 8.2,\n",
              " 8.2,\n",
              " 8.2,\n",
              " 8.2,\n",
              " 8.2,\n",
              " 8.2,\n",
              " 8.2,\n",
              " 8.2,\n",
              " 8.2,\n",
              " 8.2,\n",
              " 8.2,\n",
              " 8.2,\n",
              " 8.2,\n",
              " 8.2,\n",
              " 8.2]"
            ]
          },
          "metadata": {
            "tags": []
          },
          "execution_count": 6
        }
      ]
    },
    {
      "cell_type": "markdown",
      "metadata": {
        "id": "GbQuToYTDrAo",
        "colab_type": "text"
      },
      "source": [
        "# Merging dictionaries"
      ]
    },
    {
      "cell_type": "code",
      "metadata": {
        "id": "HDK1hE94Dprn",
        "colab_type": "code",
        "colab": {}
      },
      "source": [
        "x = {'a': 3, 'b': 5}\n",
        "y = {'b': 4, 'c': 2}\n",
        "z = {**x, **y}"
      ],
      "execution_count": 9,
      "outputs": []
    },
    {
      "cell_type": "code",
      "metadata": {
        "id": "NYx-mr8kDsOt",
        "colab_type": "code",
        "colab": {
          "base_uri": "https://localhost:8080/",
          "height": 34
        },
        "outputId": "769588a1-a877-467e-fb0b-5859437c32b4"
      },
      "source": [
        "z"
      ],
      "execution_count": 10,
      "outputs": [
        {
          "output_type": "execute_result",
          "data": {
            "text/plain": [
              "{'a': 3, 'b': 4, 'c': 2}"
            ]
          },
          "metadata": {
            "tags": []
          },
          "execution_count": 10
        }
      ]
    },
    {
      "cell_type": "markdown",
      "metadata": {
        "id": "ZbXaAqSbDxPo",
        "colab_type": "text"
      },
      "source": [
        "# Reversing a string"
      ]
    },
    {
      "cell_type": "code",
      "metadata": {
        "id": "vv72owjIDsqy",
        "colab_type": "code",
        "colab": {
          "base_uri": "https://localhost:8080/",
          "height": 37
        },
        "outputId": "6e8b618d-6964-43d6-f101-9a33e78d6fdc"
      },
      "source": [
        "name = \"Branden\"\n",
        "name[::-1]"
      ],
      "execution_count": 11,
      "outputs": [
        {
          "output_type": "execute_result",
          "data": {
            "application/vnd.google.colaboratory.intrinsic+json": {
              "type": "string"
            },
            "text/plain": [
              "'nednarB'"
            ]
          },
          "metadata": {
            "tags": []
          },
          "execution_count": 11
        }
      ]
    },
    {
      "cell_type": "markdown",
      "metadata": {
        "id": "bOFdZFtgD3vI",
        "colab_type": "text"
      },
      "source": [
        "# Returning multiple values from a function"
      ]
    },
    {
      "cell_type": "code",
      "metadata": {
        "id": "ltCJw-E5D14a",
        "colab_type": "code",
        "colab": {}
      },
      "source": [
        "def get_a_string():\n",
        "    x = \"Branden\"\n",
        "    y = \"is\"\n",
        "    z = \"smart\"\n",
        "    return x, y, z\n",
        "sentence = get_a_string()\n",
        "(x, y, z) = sentence"
      ],
      "execution_count": 12,
      "outputs": []
    },
    {
      "cell_type": "code",
      "metadata": {
        "id": "1EsrjagiD9vA",
        "colab_type": "code",
        "colab": {
          "base_uri": "https://localhost:8080/",
          "height": 34
        },
        "outputId": "026fe007-97e2-4f7f-f867-56646a8155d5"
      },
      "source": [
        "x, y, z"
      ],
      "execution_count": 13,
      "outputs": [
        {
          "output_type": "execute_result",
          "data": {
            "text/plain": [
              "('Branden', 'is', 'smart')"
            ]
          },
          "metadata": {
            "tags": []
          },
          "execution_count": 13
        }
      ]
    },
    {
      "cell_type": "markdown",
      "metadata": {
        "id": "JdimUpx1ECFx",
        "colab_type": "text"
      },
      "source": [
        "# List comprehension"
      ]
    },
    {
      "cell_type": "code",
      "metadata": {
        "id": "OHFK2v8tEACj",
        "colab_type": "code",
        "colab": {}
      },
      "source": [
        "x = [3, 6, 9]\n",
        "y = [num*2 for num in x]"
      ],
      "execution_count": 16,
      "outputs": []
    },
    {
      "cell_type": "code",
      "metadata": {
        "id": "lE6RUR-3EDJc",
        "colab_type": "code",
        "colab": {
          "base_uri": "https://localhost:8080/",
          "height": 34
        },
        "outputId": "7e31fda9-f652-4388-85e4-83fe68a0dd8a"
      },
      "source": [
        "y"
      ],
      "execution_count": 17,
      "outputs": [
        {
          "output_type": "execute_result",
          "data": {
            "text/plain": [
              "[6, 12, 18]"
            ]
          },
          "metadata": {
            "tags": []
          },
          "execution_count": 17
        }
      ]
    },
    {
      "cell_type": "markdown",
      "metadata": {
        "id": "DlL9YRBVELXv",
        "colab_type": "text"
      },
      "source": [
        "# Iterating over a dictionary"
      ]
    },
    {
      "cell_type": "code",
      "metadata": {
        "id": "6gbAoY1vEF4F",
        "colab_type": "code",
        "colab": {
          "base_uri": "https://localhost:8080/",
          "height": 85
        },
        "outputId": "eaa078c1-0c8a-4283-e7a7-bc46a2a82df1"
      },
      "source": [
        "m = {'a': 1, 'b': 2, 'c': 3, 'd': 4} \n",
        "for key, value in m.items():\n",
        "    print('{0}: {1}'.format(key, value))"
      ],
      "execution_count": 18,
      "outputs": [
        {
          "output_type": "stream",
          "text": [
            "a: 1\n",
            "b: 2\n",
            "c: 3\n",
            "d: 4\n"
          ],
          "name": "stdout"
        }
      ]
    },
    {
      "cell_type": "markdown",
      "metadata": {
        "id": "9VEi9U7HEN9U",
        "colab_type": "text"
      },
      "source": [
        "# Iterating over list values while getting the index too"
      ]
    },
    {
      "cell_type": "code",
      "metadata": {
        "id": "BVAujRujEMwL",
        "colab_type": "code",
        "colab": {
          "base_uri": "https://localhost:8080/",
          "height": 85
        },
        "outputId": "683e4e9d-3593-46ab-e50f-b998a9c646ea"
      },
      "source": [
        "m = ['a', 'b', 'c', 'd']\n",
        "for index, value in enumerate(m):\n",
        "    print('{0}: {1}'.format(index, value))"
      ],
      "execution_count": 19,
      "outputs": [
        {
          "output_type": "stream",
          "text": [
            "0: a\n",
            "1: b\n",
            "2: c\n",
            "3: d\n"
          ],
          "name": "stdout"
        }
      ]
    },
    {
      "cell_type": "markdown",
      "metadata": {
        "id": "UB233TUPEQmA",
        "colab_type": "text"
      },
      "source": [
        "# Initialising empty containers"
      ]
    },
    {
      "cell_type": "code",
      "metadata": {
        "id": "v56ic44ZEPVY",
        "colab_type": "code",
        "colab": {}
      },
      "source": [
        "# a_list = list()\n",
        "# a_dict = dict()\n",
        "# a_map = map()\n",
        "# a_set = set()"
      ],
      "execution_count": 21,
      "outputs": []
    },
    {
      "cell_type": "markdown",
      "metadata": {
        "id": "dcpO-W2_EWV9",
        "colab_type": "text"
      },
      "source": [
        "# Removing useless characters on the end of your string"
      ]
    },
    {
      "cell_type": "code",
      "metadata": {
        "id": "Vux4_89qER0L",
        "colab_type": "code",
        "colab": {
          "base_uri": "https://localhost:8080/",
          "height": 37
        },
        "outputId": "75d64c03-4f2e-4890-e9f8-1b5c1d10b9b8"
      },
      "source": [
        "name = \"  George \"\n",
        "name_2 = \"George///\"\n",
        "name.strip() # prints \"George\"\n",
        "name_2.strip(\"/\") # prints \"George\""
      ],
      "execution_count": 22,
      "outputs": [
        {
          "output_type": "execute_result",
          "data": {
            "application/vnd.google.colaboratory.intrinsic+json": {
              "type": "string"
            },
            "text/plain": [
              "'George'"
            ]
          },
          "metadata": {
            "tags": []
          },
          "execution_count": 22
        }
      ]
    },
    {
      "cell_type": "markdown",
      "metadata": {
        "id": "3Qh1xKq2Eabx",
        "colab_type": "text"
      },
      "source": [
        "# Find the most frequent element in a list"
      ]
    },
    {
      "cell_type": "code",
      "metadata": {
        "id": "_34zo-xwESfA",
        "colab_type": "code",
        "colab": {
          "base_uri": "https://localhost:8080/",
          "height": 34
        },
        "outputId": "f27b6367-ee3a-42f2-82e7-0f868be5d544"
      },
      "source": [
        "test = [1, 2, 3, 4, 2, 2, 3, 1, 4, 4, 4]\n",
        "print(max(set(test), key = test.count))"
      ],
      "execution_count": 23,
      "outputs": [
        {
          "output_type": "stream",
          "text": [
            "4\n"
          ],
          "name": "stdout"
        }
      ]
    },
    {
      "cell_type": "markdown",
      "metadata": {
        "id": "-dGca2LLEd9V",
        "colab_type": "text"
      },
      "source": [
        "# Check the memory usage of an object"
      ]
    },
    {
      "cell_type": "code",
      "metadata": {
        "id": "wSW8MohYEcEy",
        "colab_type": "code",
        "colab": {
          "base_uri": "https://localhost:8080/",
          "height": 34
        },
        "outputId": "b9448d13-fefa-41af-ea80-b776773b171c"
      },
      "source": [
        "import sys\n",
        "x = 1\n",
        "print(sys.getsizeof(x))"
      ],
      "execution_count": 24,
      "outputs": [
        {
          "output_type": "stream",
          "text": [
            "28\n"
          ],
          "name": "stdout"
        }
      ]
    },
    {
      "cell_type": "markdown",
      "metadata": {
        "id": "EX-40xyUEgT8",
        "colab_type": "text"
      },
      "source": [
        "# Convert a dict to XML"
      ]
    },
    {
      "cell_type": "code",
      "metadata": {
        "id": "KFHeaB6LEfja",
        "colab_type": "code",
        "colab": {}
      },
      "source": [
        "from xml.etree.ElementTree import Element\n",
        "\n",
        "def dict_to_xml(tag, d):\n",
        "    '''\n",
        "    Turn a simple dict of key/value pairs into XML\n",
        "    '''\n",
        "    elem = Element(tag)\n",
        "    for key, val in d.items():\n",
        "        child = Element(key)\n",
        "        child.text = str(val)\n",
        "        elem.append(child)\n",
        "    return elem"
      ],
      "execution_count": 26,
      "outputs": []
    }
  ]
}