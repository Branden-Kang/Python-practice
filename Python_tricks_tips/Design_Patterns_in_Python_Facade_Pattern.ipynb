{
  "nbformat": 4,
  "nbformat_minor": 0,
  "metadata": {
    "colab": {
      "name": "Design Patterns in Python: Facade Pattern.ipynb",
      "provenance": [],
      "collapsed_sections": [],
      "authorship_tag": "ABX9TyNYmOLiggNcpL70R1yLMQ0L"
    },
    "kernelspec": {
      "name": "python3",
      "display_name": "Python 3"
    },
    "language_info": {
      "name": "python"
    }
  },
  "cells": [
    {
      "cell_type": "markdown",
      "source": [
        "[Reference](https://faun.pub/design-patterns-in-python-facade-pattern-4f495746301d)"
      ],
      "metadata": {
        "id": "Uxy2xAnTiP_U"
      }
    },
    {
      "cell_type": "code",
      "execution_count": 1,
      "metadata": {
        "id": "r8NqiptUiNgy"
      },
      "outputs": [],
      "source": [
        "class RawMaterials:\n",
        "    \n",
        "    def get_materials(self):\n",
        "        return \"Materials arrived.\"\n",
        "    \n",
        "class Mixing:\n",
        "    \n",
        "    def mix_materials(self):\n",
        "        return \"Mixing done.\"\n",
        "    \n",
        "class Calenders:\n",
        "    \n",
        "    def cut_cords(self):\n",
        "        return \"Cord materials are cut.\"\n",
        "\n",
        "class Building:\n",
        "    \n",
        "    def assembly_tires(self):\n",
        "        return \"Green tire is obtained.\"\n",
        "    \n",
        "class Curing: \n",
        "    \n",
        "    def cure_tires(self):\n",
        "        return \"Tires are cured.\"\n",
        "    \n",
        "class FinalFinish:\n",
        "    \n",
        "    def test_tires(self):\n",
        "        return \"Tires are tested.\"\n",
        "    \n",
        "class Logistics:\n",
        "    \n",
        "    def send_tires(self):\n",
        "        return \"Tires are sold. You can buy a new Maserati\"\n",
        "\n",
        "    \n",
        "class FacadeTire:\n",
        "    \n",
        "    def __init__(self):\n",
        "        self.raw = RawMaterials()\n",
        "        self.mixer = Mixing()\n",
        "        self.calender = Calenders()\n",
        "        self.builder = Building()\n",
        "        self.cure = Curing()\n",
        "        self.tester = FinalFinish()\n",
        "        self.trucks = Logistics()\n",
        "        \n",
        "    def sell_tires(self):\n",
        "        result = self.raw.get_materials()\n",
        "        result += \" \" + self.mixer.mix_materials()\n",
        "        result += \" \" + self.calender.cut_cords()\n",
        "        result += \" \" + self.builder.assembly_tires()\n",
        "        result += \" \" + self.cure.cure_tires()\n",
        "        result += \" \" + self.tester.test_tires()\n",
        "        result += \" \" + self.trucks.send_tires()\n",
        "        return result"
      ]
    },
    {
      "cell_type": "code",
      "source": [
        "FACADE = FacadeTire()\n",
        "result = FACADE.sell_tires()\n",
        "print(result)"
      ],
      "metadata": {
        "colab": {
          "base_uri": "https://localhost:8080/"
        },
        "id": "EtxynynxiVz_",
        "outputId": "68dc2c5c-0979-43ce-bbb9-35fd50755c57"
      },
      "execution_count": 2,
      "outputs": [
        {
          "output_type": "stream",
          "name": "stdout",
          "text": [
            "Materials arrived. Mixing done. Cord materials are cut. Green tire is obtained. Tires are cured. Tires are tested. Tires are sold. You can buy a new Maserati\n"
          ]
        }
      ]
    }
  ]
}
