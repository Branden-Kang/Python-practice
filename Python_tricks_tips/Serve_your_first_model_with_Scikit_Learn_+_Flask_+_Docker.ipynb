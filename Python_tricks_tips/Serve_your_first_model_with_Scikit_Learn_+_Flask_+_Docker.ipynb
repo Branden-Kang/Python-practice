{
  "nbformat": 4,
  "nbformat_minor": 0,
  "metadata": {
    "colab": {
      "name": "Serve your first model with Scikit-Learn + Flask + Docker.ipynb",
      "provenance": [],
      "authorship_tag": "ABX9TyNRcmKURSbP6FgVRKkEjN5j"
    },
    "kernelspec": {
      "name": "python3",
      "display_name": "Python 3"
    },
    "language_info": {
      "name": "python"
    }
  },
  "cells": [
    {
      "cell_type": "markdown",
      "source": [
        "[Reference](https://engineering.rappi.com/serve-your-first-model-with-scikit-learn-flask-docker-df95efbbd35e)"
      ],
      "metadata": {
        "id": "OXQDDucMMZti"
      }
    },
    {
      "cell_type": "code",
      "execution_count": 1,
      "metadata": {
        "id": "fkBvdrdXLK13"
      },
      "outputs": [],
      "source": [
        "# Import packages\n",
        "from sklearn.ensemble import VotingClassifier\n",
        "from sklearn.model_selection import train_test_split\n",
        "from sklearn.linear_model import LogisticRegression\n",
        "from sklearn.tree import DecisionTreeClassifier\n",
        "from sklearn.svm import SVC\n",
        "from sklearn.preprocessing import MinMaxScaler\n",
        "from sklearn.impute import SimpleImputer\n",
        "from sklearn.pipeline import Pipeline\n",
        "from sklearn.metrics import ConfusionMatrixDisplay\n",
        "import matplotlib.pyplot as plt\n",
        "import pandas as pd\n",
        "import joblib\n",
        "import gzip\n",
        "\n",
        "\n",
        "# Load the dataset\n",
        "data = pd.read_csv('data/breast_cancer.csv')\n",
        "\n",
        "# Preprocess dataset\n",
        "data = data.set_index('id')\n",
        "del data['Unnamed: 32']\n",
        "data['diagnosis'] = data['diagnosis'].replace(['B', 'M'], [0, 1])  # Encode y, B -> 0 , M -> 1\n",
        "\n",
        "# Split into train and test set, 80%-20%\n",
        "y = data.pop('diagnosis')\n",
        "X = data\n",
        "X_train, X_test, y_train, y_test = train_test_split(X, y, test_size=0.2, random_state=42)\n",
        "\n",
        "# Create an ensemble of 3 models\n",
        "estimators = []\n",
        "estimators.append(('logistic', LogisticRegression()))\n",
        "estimators.append(('cart', DecisionTreeClassifier()))\n",
        "estimators.append(('svm', SVC()))\n",
        "\n",
        "# Create the Ensemble Model\n",
        "ensemble = VotingClassifier(estimators)\n",
        "\n",
        "# Make preprocess Pipeline\n",
        "pipe = Pipeline([\n",
        "    ('imputer', SimpleImputer()),  # Missing value Imputer\n",
        "    ('scaler', MinMaxScaler(feature_range=(0, 1))),  # Min Max Scaler\n",
        "    ('model', ensemble)  # Ensemble Model\n",
        "])\n",
        "\n",
        "# Train the model\n",
        "pipe.fit(X_train, y_train)\n",
        "\n",
        "# Test Accuracy\n",
        "print(\"Accuracy: %s\" % str(pipe.score(X_test, y_test)))\n",
        "\n",
        "# Plot confusion matrix\n",
        "print(ConfusionMatrixDisplay.from_estimator(pipe, X_test, y_test))\n",
        "plt.show()\n",
        "\n",
        "# Export model\n",
        "joblib.dump(pipe, gzip.open('model/model_binary.dat.gz', \"wb\"))"
      ]
    },
    {
      "cell_type": "code",
      "source": [
        "# Local imports\n",
        "import datetime\n",
        "\n",
        "# Third part imports\n",
        "from flask import request\n",
        "import pandas as pd\n",
        "\n",
        "from ms import app\n",
        "from ms.functions import get_model_response\n",
        "\n",
        "\n",
        "model_name = \"Breast Cancer Wisconsin (Diagnostic)\"\n",
        "model_file = 'model_binary.dat.gz'\n",
        "version = \"v1.0.0\"\n",
        "\n",
        "\n",
        "@app.route('/info', methods=['GET'])\n",
        "def info():\n",
        "    \"\"\"Return model information, version, how to call\"\"\"\n",
        "    result = {}\n",
        "\n",
        "    result[\"name\"] = model_name\n",
        "    result[\"version\"] = version\n",
        "\n",
        "    return result\n",
        "\n",
        "\n",
        "@app.route('/health', methods=['GET'])\n",
        "def health():\n",
        "    \"\"\"Return service health\"\"\"\n",
        "    return 'ok'\n",
        "\n",
        "\n",
        "@app.route('/predict', methods=['POST'])\n",
        "def predict():\n",
        "    feature_dict = request.get_json()\n",
        "    if not feature_dict:\n",
        "        return {\n",
        "            'error': 'Body is empty.'\n",
        "        }, 500\n",
        "\n",
        "    try:\n",
        "        response = get_model_response(feature_dict)\n",
        "    except ValueError as e:\n",
        "        return {'error': str(e).split('\\n')[-1].strip()}, 500\n",
        "\n",
        "    return response, 200\n",
        "\n",
        "\n",
        "if __name__ == '__main__':\n",
        "    app.run(host='0.0.0.0')"
      ],
      "metadata": {
        "id": "5Npw3lmzMvrB"
      },
      "execution_count": 2,
      "outputs": []
    },
    {
      "cell_type": "code",
      "source": [
        "import pandas as pd\n",
        "from ms import model\n",
        "\n",
        "\n",
        "def predict(X, model):\n",
        "    prediction = model.predict(X)[0]\n",
        "    return prediction\n",
        "\n",
        "\n",
        "def get_model_response(json_data):\n",
        "    X = pd.DataFrame.from_dict(json_data)\n",
        "    prediction = predict(X, model)\n",
        "    if prediction == 1:\n",
        "        label = \"M\"\n",
        "    else:\n",
        "        label = \"B\"\n",
        "    return {\n",
        "        'status': 200,\n",
        "        'label': label,\n",
        "        'prediction': int(prediction)\n",
        "    }"
      ],
      "metadata": {
        "id": "Qs8i5jjfMyWr"
      },
      "execution_count": 3,
      "outputs": []
    },
    {
      "cell_type": "code",
      "source": [
        "# # Base image\n",
        "# FROM python:3.9\n",
        "\n",
        "# # Set working directory\n",
        "# WORKDIR /app\n",
        "\n",
        "# # Copy files\n",
        "# COPY app.py /app\n",
        "# COPY requirements.txt /app\n",
        "# COPY model /app/model\n",
        "# COPY ms /app/ms\n",
        "\n",
        "# # Install dependencies\n",
        "# RUN pip install -r requirements.txt\n",
        "\n",
        "# # Run the application\n",
        "# EXPOSE 8000\n",
        "# ENTRYPOINT [\"gunicorn\", \"-b\", \"0.0.0.0:8000\", \"--access-logfile\", \"-\", \"--error-logfile\", \"-\", \"--timeout\", \"120\"]\n",
        "# CMD [\"app:app\"]"
      ],
      "metadata": {
        "id": "PVVNNPc4M1B7"
      },
      "execution_count": 4,
      "outputs": []
    }
  ]
}
