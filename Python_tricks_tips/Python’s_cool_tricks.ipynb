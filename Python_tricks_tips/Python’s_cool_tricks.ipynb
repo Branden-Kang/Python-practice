{
  "nbformat": 4,
  "nbformat_minor": 0,
  "metadata": {
    "colab": {
      "name": "Python’s cool tricks.ipynb",
      "provenance": [],
      "authorship_tag": "ABX9TyP0VinTTnjMn/7gIV0GpR7P"
    },
    "kernelspec": {
      "name": "python3",
      "display_name": "Python 3"
    }
  },
  "cells": [
    {
      "cell_type": "markdown",
      "metadata": {
        "id": "YeRZP3l6oBtL"
      },
      "source": [
        "[Reference](https://medium.com/analytics-vidhya/pythons-cool-tricks-for-programming-e0940c555747)"
      ]
    },
    {
      "cell_type": "code",
      "metadata": {
        "colab": {
          "base_uri": "https://localhost:8080/"
        },
        "id": "kNsYYb8ln9Ox",
        "outputId": "db7ddfcc-feab-4bea-d8e4-3c686f7641cb"
      },
      "source": [
        "string = 'John Wick'\n",
        "print(string[::-1]) # logs: 'kciW nhoJ'\n",
        "\n",
        "tup = (23, 45, 12, 56)\n",
        "print(tup[::-1]) # logs: (56, 12, 45, 23)\n",
        "\n",
        "l = ['john', 'baba', 'yaga', 'wick']\n",
        "print(l[::-1]) # logs: ['wick', 'yaga', 'baba', 'john']"
      ],
      "execution_count": 9,
      "outputs": [
        {
          "output_type": "stream",
          "text": [
            "kciW nhoJ\n",
            "(56, 12, 45, 23)\n",
            "['wick', 'yaga', 'baba', 'john']\n"
          ],
          "name": "stdout"
        }
      ]
    },
    {
      "cell_type": "code",
      "metadata": {
        "colab": {
          "base_uri": "https://localhost:8080/"
        },
        "id": "3wqHL46VoHNL",
        "outputId": "c596c15d-e6ec-4408-e5da-bd4e72df4efe"
      },
      "source": [
        "string = 'aibohphobia'\n",
        "print('Palindrome' if string == string[::-1] else 'No Plaindrome')\n",
        "# print: Palindrome\n",
        "\n",
        "string = 'johnwick'\n",
        "print('Palindrome' if string == string[::-1] else 'No Plaindrome')\n",
        "# print: No Plaindrome"
      ],
      "execution_count": 10,
      "outputs": [
        {
          "output_type": "stream",
          "text": [
            "Palindrome\n",
            "No Plaindrome\n"
          ],
          "name": "stdout"
        }
      ]
    },
    {
      "cell_type": "code",
      "metadata": {
        "colab": {
          "base_uri": "https://localhost:8080/"
        },
        "id": "d1m-DNjsoJre",
        "outputId": "07eaa6f7-b54d-4323-e1ee-176f1e845cab"
      },
      "source": [
        "lis = [23, 9, 34, 22, 43, 21, 5, 40]\n",
        "\n",
        "import heapq\n",
        "heapq.heapify(lis) # Convert list into min heap\n",
        "print(heapq.nlargest(4, lis)) # will print 4 largest elements\n",
        "# print: [43, 40, 34, 23]\n",
        "print(heapq.nsmallest(4, lis)) # will print 4 smallest element\n",
        "# print: [5, 9, 21, 22]"
      ],
      "execution_count": 11,
      "outputs": [
        {
          "output_type": "stream",
          "text": [
            "[43, 40, 34, 23]\n",
            "[5, 9, 21, 22]\n"
          ],
          "name": "stdout"
        }
      ]
    },
    {
      "cell_type": "code",
      "metadata": {
        "colab": {
          "base_uri": "https://localhost:8080/"
        },
        "id": "vSKxcA6HoNDT",
        "outputId": "87d316ef-8570-4c3f-abb9-9f060b2ff875"
      },
      "source": [
        "a = 10\n",
        "b = 25\n",
        "print(f'a: {a}, b: {b}') # print: a: 10, b: 25\n",
        "a,b = b,a # swapping variable \n",
        "print(f'a: {a}, b: {b}') # print: a: 25, b: 10"
      ],
      "execution_count": 12,
      "outputs": [
        {
          "output_type": "stream",
          "text": [
            "a: 10, b: 25\n",
            "a: 25, b: 10\n"
          ],
          "name": "stdout"
        }
      ]
    },
    {
      "cell_type": "code",
      "metadata": {
        "colab": {
          "base_uri": "https://localhost:8080/"
        },
        "id": "uwMrJOoboYHP",
        "outputId": "7627c359-9d3e-4393-ad04-8e1c51691c65"
      },
      "source": [
        "a,b = 10, 25\n",
        "a = a ^ b\n",
        "b = a ^ b \n",
        "a = a ^ b\n",
        "print(f'a: {a}, b: {b}') # print: a: 25, b: 10"
      ],
      "execution_count": 13,
      "outputs": [
        {
          "output_type": "stream",
          "text": [
            "a: 25, b: 10\n"
          ],
          "name": "stdout"
        }
      ]
    },
    {
      "cell_type": "code",
      "metadata": {
        "colab": {
          "base_uri": "https://localhost:8080/"
        },
        "id": "gkLWV4LHoa_j",
        "outputId": "3f601d60-e486-4a9d-879a-9fad9222e6a7"
      },
      "source": [
        "quoteFromGeeta = '''senses exists beyond body\n",
        "           mind exists beyond senses\n",
        "           intelligence exists beyond mind\n",
        "           and knowing yourself exists beyond intelligence'''\n",
        "           \n",
        "word_list = quoteFromGeeta.split()\n",
        "print(word_list)"
      ],
      "execution_count": 14,
      "outputs": [
        {
          "output_type": "stream",
          "text": [
            "['senses', 'exists', 'beyond', 'body', 'mind', 'exists', 'beyond', 'senses', 'intelligence', 'exists', 'beyond', 'mind', 'and', 'knowing', 'yourself', 'exists', 'beyond', 'intelligence']\n"
          ],
          "name": "stdout"
        }
      ]
    },
    {
      "cell_type": "code",
      "metadata": {
        "colab": {
          "base_uri": "https://localhost:8080/"
        },
        "id": "lb1VaoYKoiax",
        "outputId": "b130b3ac-bd99-4f8a-e667-4985c44d8f7f"
      },
      "source": [
        "from collections import Counter\n",
        "\n",
        "c = Counter(word_list) # pass your list to Counter\n",
        "\n",
        "[print(f'Word: {word}, Count: {count}') for word,count in c.items()]"
      ],
      "execution_count": 15,
      "outputs": [
        {
          "output_type": "stream",
          "text": [
            "Word: senses, Count: 2\n",
            "Word: exists, Count: 4\n",
            "Word: beyond, Count: 4\n",
            "Word: body, Count: 1\n",
            "Word: mind, Count: 2\n",
            "Word: intelligence, Count: 2\n",
            "Word: and, Count: 1\n",
            "Word: knowing, Count: 1\n",
            "Word: yourself, Count: 1\n"
          ],
          "name": "stdout"
        },
        {
          "output_type": "execute_result",
          "data": {
            "text/plain": [
              "[None, None, None, None, None, None, None, None, None]"
            ]
          },
          "metadata": {
            "tags": []
          },
          "execution_count": 15
        }
      ]
    },
    {
      "cell_type": "code",
      "metadata": {
        "colab": {
          "base_uri": "https://localhost:8080/"
        },
        "id": "sMv3hLz-omcN",
        "outputId": "86472161-df60-492d-e575-93cbbd16799a"
      },
      "source": [
        "common_words = c.most_common(3)\n",
        "[print(word, count) for word,count in common_words]"
      ],
      "execution_count": 16,
      "outputs": [
        {
          "output_type": "stream",
          "text": [
            "exists 4\n",
            "beyond 4\n",
            "senses 2\n"
          ],
          "name": "stdout"
        },
        {
          "output_type": "execute_result",
          "data": {
            "text/plain": [
              "[None, None, None]"
            ]
          },
          "metadata": {
            "tags": []
          },
          "execution_count": 16
        }
      ]
    },
    {
      "cell_type": "code",
      "metadata": {
        "colab": {
          "base_uri": "https://localhost:8080/",
          "height": 232
        },
        "id": "eVtZf7uVoodC",
        "outputId": "d41facfe-1429-43a2-febe-679893ee632e"
      },
      "source": [
        "from collections import Counter\n",
        "str1 = 'abcd'\n",
        "str2 = 'dabc'\n",
        "c1 = Counter(name1)\n",
        "c2 = Counter(name2)\n",
        "print(c1 == c2) # print True"
      ],
      "execution_count": 18,
      "outputs": [
        {
          "output_type": "error",
          "ename": "NameError",
          "evalue": "ignored",
          "traceback": [
            "\u001b[0;31m---------------------------------------------------------------------------\u001b[0m",
            "\u001b[0;31mNameError\u001b[0m                                 Traceback (most recent call last)",
            "\u001b[0;32m<ipython-input-18-dd516ffec13e>\u001b[0m in \u001b[0;36m<module>\u001b[0;34m()\u001b[0m\n\u001b[1;32m      2\u001b[0m \u001b[0mstr1\u001b[0m \u001b[0;34m=\u001b[0m \u001b[0;34m'abcd'\u001b[0m\u001b[0;34m\u001b[0m\u001b[0;34m\u001b[0m\u001b[0m\n\u001b[1;32m      3\u001b[0m \u001b[0mstr2\u001b[0m \u001b[0;34m=\u001b[0m \u001b[0;34m'dabc'\u001b[0m\u001b[0;34m\u001b[0m\u001b[0;34m\u001b[0m\u001b[0m\n\u001b[0;32m----> 4\u001b[0;31m \u001b[0mc1\u001b[0m \u001b[0;34m=\u001b[0m \u001b[0mCounter\u001b[0m\u001b[0;34m(\u001b[0m\u001b[0mname1\u001b[0m\u001b[0;34m)\u001b[0m\u001b[0;34m\u001b[0m\u001b[0;34m\u001b[0m\u001b[0m\n\u001b[0m\u001b[1;32m      5\u001b[0m \u001b[0mc2\u001b[0m \u001b[0;34m=\u001b[0m \u001b[0mCounter\u001b[0m\u001b[0;34m(\u001b[0m\u001b[0mname2\u001b[0m\u001b[0;34m)\u001b[0m\u001b[0;34m\u001b[0m\u001b[0;34m\u001b[0m\u001b[0m\n\u001b[1;32m      6\u001b[0m \u001b[0mprint\u001b[0m\u001b[0;34m(\u001b[0m\u001b[0mc1\u001b[0m \u001b[0;34m==\u001b[0m \u001b[0mc2\u001b[0m\u001b[0;34m)\u001b[0m \u001b[0;31m# print True\u001b[0m\u001b[0;34m\u001b[0m\u001b[0;34m\u001b[0m\u001b[0m\n",
            "\u001b[0;31mNameError\u001b[0m: name 'name1' is not defined"
          ]
        }
      ]
    },
    {
      "cell_type": "code",
      "metadata": {
        "id": "HODFiXQFopnv"
      },
      "source": [
        "if a > 5 and a < 20:\n",
        "    pass"
      ],
      "execution_count": 19,
      "outputs": []
    },
    {
      "cell_type": "code",
      "metadata": {
        "id": "FuhjkPlforI_"
      },
      "source": [
        "if 5 < a < 20:\n",
        "    pass"
      ],
      "execution_count": 20,
      "outputs": []
    },
    {
      "cell_type": "code",
      "metadata": {
        "colab": {
          "base_uri": "https://localhost:8080/",
          "height": 232
        },
        "id": "WLlYbFDrosga",
        "outputId": "c059e387-6b6a-42fe-e1df-e7e5f72d6101"
      },
      "source": [
        "l = ['john', '40', 'assassin']\n",
        "#with out unpacking feature\n",
        "name = l[0]\n",
        "age = age[1]\n",
        "profession = l[2]\n",
        "\n",
        "#with unpacking feature\n",
        "name, age, profession = l  "
      ],
      "execution_count": 21,
      "outputs": [
        {
          "output_type": "error",
          "ename": "NameError",
          "evalue": "ignored",
          "traceback": [
            "\u001b[0;31m---------------------------------------------------------------------------\u001b[0m",
            "\u001b[0;31mNameError\u001b[0m                                 Traceback (most recent call last)",
            "\u001b[0;32m<ipython-input-21-ea0f56b54d5e>\u001b[0m in \u001b[0;36m<module>\u001b[0;34m()\u001b[0m\n\u001b[1;32m      2\u001b[0m \u001b[0;31m#with out unpacking feature\u001b[0m\u001b[0;34m\u001b[0m\u001b[0;34m\u001b[0m\u001b[0;34m\u001b[0m\u001b[0m\n\u001b[1;32m      3\u001b[0m \u001b[0mname\u001b[0m \u001b[0;34m=\u001b[0m \u001b[0ml\u001b[0m\u001b[0;34m[\u001b[0m\u001b[0;36m0\u001b[0m\u001b[0;34m]\u001b[0m\u001b[0;34m\u001b[0m\u001b[0;34m\u001b[0m\u001b[0m\n\u001b[0;32m----> 4\u001b[0;31m \u001b[0mage\u001b[0m \u001b[0;34m=\u001b[0m \u001b[0mage\u001b[0m\u001b[0;34m[\u001b[0m\u001b[0;36m1\u001b[0m\u001b[0;34m]\u001b[0m\u001b[0;34m\u001b[0m\u001b[0;34m\u001b[0m\u001b[0m\n\u001b[0m\u001b[1;32m      5\u001b[0m \u001b[0mprofession\u001b[0m \u001b[0;34m=\u001b[0m \u001b[0ml\u001b[0m\u001b[0;34m[\u001b[0m\u001b[0;36m2\u001b[0m\u001b[0;34m]\u001b[0m\u001b[0;34m\u001b[0m\u001b[0;34m\u001b[0m\u001b[0m\n\u001b[1;32m      6\u001b[0m \u001b[0;34m\u001b[0m\u001b[0m\n",
            "\u001b[0;31mNameError\u001b[0m: name 'age' is not defined"
          ]
        }
      ]
    },
    {
      "cell_type": "code",
      "metadata": {
        "id": "u6lMkzqFouXW"
      },
      "source": [
        "l = ['john', '40', 'assassin']\n",
        "print(l[-1]) # 'assassin'"
      ],
      "execution_count": null,
      "outputs": []
    },
    {
      "cell_type": "code",
      "metadata": {
        "id": "aK-avRsHov-d"
      },
      "source": [
        "temp = []\n",
        "if len(temp) == 0:\n",
        "   pass\n",
        "if len(temp):\n",
        "   pass"
      ],
      "execution_count": null,
      "outputs": []
    },
    {
      "cell_type": "code",
      "metadata": {
        "id": "9bGUyLt_oxuL"
      },
      "source": [
        "# On list\n",
        "list1 = [1,2,3,4,5]\n",
        "list2 = [6,7,8,9,10]\n",
        "list_new = list1 + list2\n",
        "print(list_new) # print [1, 2, 3, 4, 5, 6, 7, 8, 9, 10]\n",
        "\n",
        "# On tuple\n",
        "tuple1 = (1,2,3,4,5)\n",
        "tuple2 = (6,7,8,9,10)\n",
        "tuple3 = (11,12,13,14,15)\n",
        "tuple_new = tuple1 + tuple2 + tuple3\n",
        "print(tuple_new)"
      ],
      "execution_count": null,
      "outputs": []
    },
    {
      "cell_type": "code",
      "metadata": {
        "id": "SeQN2Xsyo0De"
      },
      "source": [
        "l = ['John Wick', 45, 'assassin']\n",
        "new_l =  l # this will copy the reference of l in new_l\n",
        "\n",
        "print(new_l) # print  ['John Wick', 45, 'assassin']\n",
        "\n",
        "l[0] = 'Baba Yaga' # any change in l will reflect to new_l also\n",
        "\n",
        "print(new_l) # print ['Baba Yaga', 45, 'assassin']"
      ],
      "execution_count": null,
      "outputs": []
    },
    {
      "cell_type": "code",
      "metadata": {
        "id": "cmUSGLuDo7SW",
        "outputId": "ec3d90ab-3334-45c7-d559-0f2be2e381f6",
        "colab": {
          "base_uri": "https://localhost:8080/"
        }
      },
      "source": [
        "l = ['John Wick', 45, 'assassin']\n",
        "new_l =  l[:] # this will create the new list\n",
        "print(new_l) # print  ['John Wick', 45, 'assassin']\n",
        "l[0] = 'Baba Yaga' # any change in l will reflect to new_l also\n",
        "print(new_l) # print ['John Wick', 45, 'assassin']"
      ],
      "execution_count": 22,
      "outputs": [
        {
          "output_type": "stream",
          "text": [
            "['John Wick', 45, 'assassin']\n",
            "['John Wick', 45, 'assassin']\n"
          ],
          "name": "stdout"
        }
      ]
    }
  ]
}