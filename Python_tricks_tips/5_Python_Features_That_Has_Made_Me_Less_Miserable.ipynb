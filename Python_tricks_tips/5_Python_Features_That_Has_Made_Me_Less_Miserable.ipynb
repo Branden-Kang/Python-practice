{
  "nbformat": 4,
  "nbformat_minor": 0,
  "metadata": {
    "colab": {
      "name": "5 Python Features That Has Made Me Less Miserable.ipynb",
      "provenance": [],
      "collapsed_sections": [],
      "authorship_tag": "ABX9TyPRv+HHNyHgULFYExSAPqQC"
    },
    "kernelspec": {
      "name": "python3",
      "display_name": "Python 3"
    },
    "language_info": {
      "name": "python"
    }
  },
  "cells": [
    {
      "cell_type": "markdown",
      "source": [
        "[Reference](https://python.plainenglish.io/5-python-features-that-has-made-me-less-miserable-d0342cfde9f1?gi=60fc40d9fcad)"
      ],
      "metadata": {
        "id": "Ff-YWAM0vzBa"
      }
    },
    {
      "cell_type": "markdown",
      "source": [
        "# 1) Tuple Unpacking"
      ],
      "metadata": {
        "id": "pF50BuNlv1eN"
      }
    },
    {
      "cell_type": "code",
      "execution_count": null,
      "metadata": {
        "id": "V2tjm7OfvSg3"
      },
      "outputs": [],
      "source": [
        "dog = [\"pipi\", 6, \"poodle\", \"male\", \"brown\"]\n",
        "name = dog[0]\n",
        "age = dog[1]\n",
        "breed = dog[2]\n",
        "gender = dog[3]\n",
        "color = dog[4]"
      ]
    },
    {
      "cell_type": "code",
      "source": [
        "name, age, breed, gender, color = dog"
      ],
      "metadata": {
        "id": "gWAKdBLmv3ix"
      },
      "execution_count": null,
      "outputs": []
    },
    {
      "cell_type": "markdown",
      "source": [
        "# 2) Pprint (Pretty-Print)"
      ],
      "metadata": {
        "id": "LOdJnshkv6MT"
      }
    },
    {
      "cell_type": "code",
      "source": [
        "dogs = [\n",
        "    [\"pipi\", 6, \"poodle\", \"male\", [\"brown\"]],\n",
        "    [\"rocky\", 8, \"german shepherd\", \"male\", [\"brown\", \"black\"]],\n",
        "    [\"fifi\", 15, \"german shepherd\", \"female\", [\"brown\", \"black\"]],\n",
        "    [\"lexi\", 2, \"mongrel\", \"female\", [\"yellow\"]],\n",
        "]"
      ],
      "metadata": {
        "id": "JZMWMg0ev464"
      },
      "execution_count": null,
      "outputs": []
    },
    {
      "cell_type": "code",
      "source": [
        "print(dogs)"
      ],
      "metadata": {
        "colab": {
          "base_uri": "https://localhost:8080/"
        },
        "id": "RvWqb6bev8CU",
        "outputId": "2226edf1-4720-4924-abeb-f6ef34672725"
      },
      "execution_count": null,
      "outputs": [
        {
          "output_type": "stream",
          "name": "stdout",
          "text": [
            "[['pipi', 6, 'poodle', 'male', ['brown']], ['rocky', 8, 'german shepherd', 'male', ['brown', 'black']], ['fifi', 15, 'german shepherd', 'female', ['brown', 'black']], ['lexi', 2, 'mongrel', 'female', ['yellow']]]\n"
          ]
        }
      ]
    },
    {
      "cell_type": "code",
      "source": [
        "for dog in dogs:\n",
        "    print(dog)# this prints each dog list line by line"
      ],
      "metadata": {
        "colab": {
          "base_uri": "https://localhost:8080/"
        },
        "id": "AGLZen4Sv-p-",
        "outputId": "4f88ff87-6f53-4333-c9b6-a027d5db397a"
      },
      "execution_count": null,
      "outputs": [
        {
          "output_type": "stream",
          "name": "stdout",
          "text": [
            "['pipi', 6, 'poodle', 'male', ['brown']]\n",
            "['rocky', 8, 'german shepherd', 'male', ['brown', 'black']]\n",
            "['fifi', 15, 'german shepherd', 'female', ['brown', 'black']]\n",
            "['lexi', 2, 'mongrel', 'female', ['yellow']]\n"
          ]
        }
      ]
    },
    {
      "cell_type": "code",
      "source": [
        "from pprint import pprint\n",
        "pprint(dogs)"
      ],
      "metadata": {
        "colab": {
          "base_uri": "https://localhost:8080/"
        },
        "id": "nP2WpKJxv-9k",
        "outputId": "bb8d0c48-aead-469f-8c4a-4fccd0dbad99"
      },
      "execution_count": null,
      "outputs": [
        {
          "output_type": "stream",
          "name": "stdout",
          "text": [
            "[['pipi', 6, 'poodle', 'male', ['brown']],\n",
            " ['rocky', 8, 'german shepherd', 'male', ['brown', 'black']],\n",
            " ['fifi', 15, 'german shepherd', 'female', ['brown', 'black']],\n",
            " ['lexi', 2, 'mongrel', 'female', ['yellow']]]\n"
          ]
        }
      ]
    },
    {
      "cell_type": "markdown",
      "source": [
        "# 3) Writing To An Output File"
      ],
      "metadata": {
        "id": "msz6MV3mwCnZ"
      }
    },
    {
      "cell_type": "code",
      "source": [
        "# with open(\"out.txt\", \"w\") as f:\n",
        "#     f.write(stuff)\n",
        "# print(stuff)"
      ],
      "metadata": {
        "id": "TXbKmYUewBby"
      },
      "execution_count": null,
      "outputs": []
    },
    {
      "cell_type": "code",
      "source": [
        "# python run.py > out.txt"
      ],
      "metadata": {
        "id": "b5AYBQMowF2K"
      },
      "execution_count": null,
      "outputs": []
    },
    {
      "cell_type": "markdown",
      "source": [
        "# 4) The Zip Function"
      ],
      "metadata": {
        "id": "Q6FTWGQDwM2Z"
      }
    },
    {
      "cell_type": "code",
      "source": [
        "fruits = [\"apple\", \"orange\", \"pear\", \"pineapple\"]\n",
        "prices = [4, 5, 6, 7]\n",
        "origins = [\"malaysia\", \"thailand\", \"vietnam\", \"indonesia\"]"
      ],
      "metadata": {
        "id": "GsjacqVawPV2"
      },
      "execution_count": null,
      "outputs": []
    },
    {
      "cell_type": "code",
      "source": [
        "smallest = min(len(fruits), len(prices), len(origins))\n",
        "\n",
        "for i in range(smallest):\n",
        "    fruit = fruits[i]\n",
        "    price = prices[i]\n",
        "    origin = origins[i]    \n",
        "    \n",
        "    print(fruit, price, origin)   # do stuff with info"
      ],
      "metadata": {
        "colab": {
          "base_uri": "https://localhost:8080/"
        },
        "id": "cqBCNgq4wPhc",
        "outputId": "bab5a4aa-9938-468c-adf4-60a48a612684"
      },
      "execution_count": null,
      "outputs": [
        {
          "output_type": "stream",
          "name": "stdout",
          "text": [
            "apple 4 malaysia\n",
            "orange 5 thailand\n",
            "pear 6 vietnam\n",
            "pineapple 7 indonesia\n"
          ]
        }
      ]
    },
    {
      "cell_type": "code",
      "source": [
        "for fruit, price, origin in zip(fruits, prices, origins):\n",
        "    print(fruit, price, origin)   # do stuff with info"
      ],
      "metadata": {
        "colab": {
          "base_uri": "https://localhost:8080/"
        },
        "id": "kKf0NmPmwTOl",
        "outputId": "115cdf73-28e3-423f-ad91-e4646921254a"
      },
      "execution_count": null,
      "outputs": [
        {
          "output_type": "stream",
          "name": "stdout",
          "text": [
            "apple 4 malaysia\n",
            "orange 5 thailand\n",
            "pear 6 vietnam\n",
            "pineapple 7 indonesia\n"
          ]
        }
      ]
    },
    {
      "cell_type": "markdown",
      "source": [
        "# 5) Ternary Operator"
      ],
      "metadata": {
        "id": "Jg4QD80Ewak1"
      }
    },
    {
      "cell_type": "code",
      "source": [
        "score = 85\n",
        "\n",
        "if score >= 50:\n",
        "    grade = \"pass\"\n",
        "else:\n",
        "    grade = \"fail\""
      ],
      "metadata": {
        "id": "5QzUO8IfwZQU"
      },
      "execution_count": null,
      "outputs": []
    },
    {
      "cell_type": "code",
      "source": [
        "score = 85\n",
        "grade = \"pass\" if score>=50 else \"fail\""
      ],
      "metadata": {
        "id": "5WX4K2oxwcEp"
      },
      "execution_count": null,
      "outputs": []
    },
    {
      "cell_type": "code",
      "source": [
        "score = 85\n",
        "\n",
        "if score >= 75:\n",
        "    grade = \"A\"\n",
        "    \n",
        "elif score >= 50:\n",
        "    grade = \"B\"\n",
        "    \n",
        "else:\n",
        "    grade = \"F\""
      ],
      "metadata": {
        "id": "36mNfiXbwfBo"
      },
      "execution_count": null,
      "outputs": []
    },
    {
      "cell_type": "code",
      "source": [
        "score = 85\n",
        "grade = \"A\" if score>=75 else \"B\" if score>=50 else \"F\""
      ],
      "metadata": {
        "id": "NYZR5x8Cwh66"
      },
      "execution_count": null,
      "outputs": []
    }
  ]
}
