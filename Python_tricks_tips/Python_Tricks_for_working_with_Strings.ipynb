{
  "nbformat": 4,
  "nbformat_minor": 0,
  "metadata": {
    "colab": {
      "name": "Python Tricks for working with Strings.ipynb",
      "provenance": [],
      "authorship_tag": "ABX9TyMzeQj4NCeEk26uG5b+8KjH"
    },
    "kernelspec": {
      "name": "python3",
      "display_name": "Python 3"
    }
  },
  "cells": [
    {
      "cell_type": "markdown",
      "metadata": {
        "id": "-D0P6T8TIZv4"
      },
      "source": [
        "[Reference](https://medium.com/analytics-vidhya/interesting-cool-python-tricks-for-working-with-strings-d37fcf8842b2)"
      ]
    },
    {
      "cell_type": "code",
      "metadata": {
        "id": "4CERMQGhIYea",
        "outputId": "7a7beb24-0d1d-4444-860b-5ae2d66d2b17",
        "colab": {
          "base_uri": "https://localhost:8080/"
        }
      },
      "source": [
        "word = 'Sample'\n",
        "len(word)"
      ],
      "execution_count": 1,
      "outputs": [
        {
          "output_type": "execute_result",
          "data": {
            "text/plain": [
              "6"
            ]
          },
          "metadata": {
            "tags": []
          },
          "execution_count": 1
        }
      ]
    },
    {
      "cell_type": "code",
      "metadata": {
        "id": "Vl5sIAIkJgBi",
        "outputId": "84ecdf6e-bfa5-4359-851f-d6b1a8d7311d",
        "colab": {
          "base_uri": "https://localhost:8080/",
          "height": 37
        }
      },
      "source": [
        "word = 'Sample'\n",
        "word + ' ' + 'trick'"
      ],
      "execution_count": 2,
      "outputs": [
        {
          "output_type": "execute_result",
          "data": {
            "application/vnd.google.colaboratory.intrinsic+json": {
              "type": "string"
            },
            "text/plain": [
              "'Sample trick'"
            ]
          },
          "metadata": {
            "tags": []
          },
          "execution_count": 2
        }
      ]
    },
    {
      "cell_type": "code",
      "metadata": {
        "id": "zdvZYlXvJiqL",
        "outputId": "7340011d-a2d6-490e-bc1e-7fcdcdc2b687",
        "colab": {
          "base_uri": "https://localhost:8080/",
          "height": 37
        }
      },
      "source": [
        "word = 'Sample'\n",
        "word[3]"
      ],
      "execution_count": 3,
      "outputs": [
        {
          "output_type": "execute_result",
          "data": {
            "application/vnd.google.colaboratory.intrinsic+json": {
              "type": "string"
            },
            "text/plain": [
              "'p'"
            ]
          },
          "metadata": {
            "tags": []
          },
          "execution_count": 3
        }
      ]
    },
    {
      "cell_type": "code",
      "metadata": {
        "id": "KWECPtkbJlcr",
        "outputId": "e4ecfff7-6ad8-43b2-f890-7d6b83e4349d",
        "colab": {
          "base_uri": "https://localhost:8080/",
          "height": 37
        }
      },
      "source": [
        "word = 'Sample'\n",
        "word[-2]"
      ],
      "execution_count": 4,
      "outputs": [
        {
          "output_type": "execute_result",
          "data": {
            "application/vnd.google.colaboratory.intrinsic+json": {
              "type": "string"
            },
            "text/plain": [
              "'l'"
            ]
          },
          "metadata": {
            "tags": []
          },
          "execution_count": 4
        }
      ]
    },
    {
      "cell_type": "code",
      "metadata": {
        "id": "tXGIOuDmJmR_",
        "outputId": "058f5964-8ad5-42ff-dec9-ddd1a1442399",
        "colab": {
          "base_uri": "https://localhost:8080/",
          "height": 37
        }
      },
      "source": [
        "word = 'Sample'\n",
        "word[::-1]"
      ],
      "execution_count": 5,
      "outputs": [
        {
          "output_type": "execute_result",
          "data": {
            "application/vnd.google.colaboratory.intrinsic+json": {
              "type": "string"
            },
            "text/plain": [
              "'elpmaS'"
            ]
          },
          "metadata": {
            "tags": []
          },
          "execution_count": 5
        }
      ]
    },
    {
      "cell_type": "code",
      "metadata": {
        "id": "svo9PB0YJq1E",
        "outputId": "cb9f4f34-8925-4c88-8e06-268971a3b372",
        "colab": {
          "base_uri": "https://localhost:8080/"
        }
      },
      "source": [
        "word = 'Sample'\n",
        "for char in reversed(word):    \n",
        "    print(char)"
      ],
      "execution_count": 6,
      "outputs": [
        {
          "output_type": "stream",
          "text": [
            "e\n",
            "l\n",
            "p\n",
            "m\n",
            "a\n",
            "S\n"
          ],
          "name": "stdout"
        }
      ]
    },
    {
      "cell_type": "code",
      "metadata": {
        "id": "IWLK7a4rJsGz",
        "outputId": "e901c62d-b7ac-496a-d03c-3f92e4b56e9e",
        "colab": {
          "base_uri": "https://localhost:8080/",
          "height": 37
        }
      },
      "source": [
        "word = 'Sample'\n",
        "word[0:3] "
      ],
      "execution_count": 7,
      "outputs": [
        {
          "output_type": "execute_result",
          "data": {
            "application/vnd.google.colaboratory.intrinsic+json": {
              "type": "string"
            },
            "text/plain": [
              "'Sam'"
            ]
          },
          "metadata": {
            "tags": []
          },
          "execution_count": 7
        }
      ]
    },
    {
      "cell_type": "code",
      "metadata": {
        "id": "mmvp0ab1Jtq9",
        "outputId": "8bb05573-3f09-459a-c60d-dceef2089d79",
        "colab": {
          "base_uri": "https://localhost:8080/",
          "height": 37
        }
      },
      "source": [
        "word = 'Sample'\n",
        "word[4:5] "
      ],
      "execution_count": 8,
      "outputs": [
        {
          "output_type": "execute_result",
          "data": {
            "application/vnd.google.colaboratory.intrinsic+json": {
              "type": "string"
            },
            "text/plain": [
              "'l'"
            ]
          },
          "metadata": {
            "tags": []
          },
          "execution_count": 8
        }
      ]
    },
    {
      "cell_type": "code",
      "metadata": {
        "id": "BId-V1MIJyXv",
        "outputId": "61ff56ef-e2ea-459e-96ce-4c97b897cc49",
        "colab": {
          "base_uri": "https://localhost:8080/",
          "height": 37
        }
      },
      "source": [
        "word = 'Sample'\n",
        "word[:5] "
      ],
      "execution_count": 9,
      "outputs": [
        {
          "output_type": "execute_result",
          "data": {
            "application/vnd.google.colaboratory.intrinsic+json": {
              "type": "string"
            },
            "text/plain": [
              "'Sampl'"
            ]
          },
          "metadata": {
            "tags": []
          },
          "execution_count": 9
        }
      ]
    },
    {
      "cell_type": "code",
      "metadata": {
        "id": "bZEs08tGJzWF",
        "outputId": "3ede7008-d9f4-4fb6-8809-9cd43979c3c9",
        "colab": {
          "base_uri": "https://localhost:8080/",
          "height": 37
        }
      },
      "source": [
        "'   Sample   '.strip()"
      ],
      "execution_count": 10,
      "outputs": [
        {
          "output_type": "execute_result",
          "data": {
            "application/vnd.google.colaboratory.intrinsic+json": {
              "type": "string"
            },
            "text/plain": [
              "'Sample'"
            ]
          },
          "metadata": {
            "tags": []
          },
          "execution_count": 10
        }
      ]
    },
    {
      "cell_type": "code",
      "metadata": {
        "id": "lTJSa86KJ0iD",
        "outputId": "4a84e197-ace6-4341-9fae-2968ff648f5d",
        "colab": {
          "base_uri": "https://localhost:8080/",
          "height": 37
        }
      },
      "source": [
        "'sample'.strip('ple')"
      ],
      "execution_count": 11,
      "outputs": [
        {
          "output_type": "execute_result",
          "data": {
            "application/vnd.google.colaboratory.intrinsic+json": {
              "type": "string"
            },
            "text/plain": [
              "'sam'"
            ]
          },
          "metadata": {
            "tags": []
          },
          "execution_count": 11
        }
      ]
    },
    {
      "cell_type": "code",
      "metadata": {
        "id": "lXKCsjiHJ2e8",
        "outputId": "4095b26b-fcd5-4b6b-e67c-6c45d7090744",
        "colab": {
          "base_uri": "https://localhost:8080/",
          "height": 37
        }
      },
      "source": [
        "\"10\".zfill(6)"
      ],
      "execution_count": 12,
      "outputs": [
        {
          "output_type": "execute_result",
          "data": {
            "application/vnd.google.colaboratory.intrinsic+json": {
              "type": "string"
            },
            "text/plain": [
              "'000010'"
            ]
          },
          "metadata": {
            "tags": []
          },
          "execution_count": 12
        }
      ]
    },
    {
      "cell_type": "code",
      "metadata": {
        "id": "7u0YMmBjJ3nv",
        "outputId": "13b82151-8933-4e72-86fe-9ddbeed97786",
        "colab": {
          "base_uri": "https://localhost:8080/",
          "height": 37
        }
      },
      "source": [
        "\"-10\".zfill(6)"
      ],
      "execution_count": 13,
      "outputs": [
        {
          "output_type": "execute_result",
          "data": {
            "application/vnd.google.colaboratory.intrinsic+json": {
              "type": "string"
            },
            "text/plain": [
              "'-00010'"
            ]
          },
          "metadata": {
            "tags": []
          },
          "execution_count": 13
        }
      ]
    },
    {
      "cell_type": "code",
      "metadata": {
        "id": "OLEf_whPJ4-C",
        "outputId": "44a2ef90-ce38-41e2-909b-56e18203638b",
        "colab": {
          "base_uri": "https://localhost:8080/"
        }
      },
      "source": [
        "'sample'.find('am',0,5)"
      ],
      "execution_count": 14,
      "outputs": [
        {
          "output_type": "execute_result",
          "data": {
            "text/plain": [
              "1"
            ]
          },
          "metadata": {
            "tags": []
          },
          "execution_count": 14
        }
      ]
    },
    {
      "cell_type": "code",
      "metadata": {
        "id": "dXLttZ6lJ6VV",
        "outputId": "62999e2c-699f-475c-c0e1-5a9fc243eba2",
        "colab": {
          "base_uri": "https://localhost:8080/"
        }
      },
      "source": [
        "'sam' in 'sample'"
      ],
      "execution_count": 15,
      "outputs": [
        {
          "output_type": "execute_result",
          "data": {
            "text/plain": [
              "True"
            ]
          },
          "metadata": {
            "tags": []
          },
          "execution_count": 15
        }
      ]
    },
    {
      "cell_type": "code",
      "metadata": {
        "id": "7THCtIgmJ7M5",
        "outputId": "6b2428d9-ca2a-4395-ef70-371e712deb64",
        "colab": {
          "base_uri": "https://localhost:8080/"
        }
      },
      "source": [
        "'123'.isalpha()"
      ],
      "execution_count": 16,
      "outputs": [
        {
          "output_type": "execute_result",
          "data": {
            "text/plain": [
              "False"
            ]
          },
          "metadata": {
            "tags": []
          },
          "execution_count": 16
        }
      ]
    },
    {
      "cell_type": "code",
      "metadata": {
        "id": "Cq6ty12DJ8Ka",
        "outputId": "4ca5c703-3a31-40b1-e072-d5ddac9cb5df",
        "colab": {
          "base_uri": "https://localhost:8080/"
        }
      },
      "source": [
        "'abc'.isalpha()"
      ],
      "execution_count": 17,
      "outputs": [
        {
          "output_type": "execute_result",
          "data": {
            "text/plain": [
              "True"
            ]
          },
          "metadata": {
            "tags": []
          },
          "execution_count": 17
        }
      ]
    },
    {
      "cell_type": "code",
      "metadata": {
        "id": "D3EPOSH7J88a",
        "outputId": "f5f207cf-84e8-4b20-ce08-c0660a78f140",
        "colab": {
          "base_uri": "https://localhost:8080/"
        }
      },
      "source": [
        "'1abc'.isalpha()"
      ],
      "execution_count": 18,
      "outputs": [
        {
          "output_type": "execute_result",
          "data": {
            "text/plain": [
              "False"
            ]
          },
          "metadata": {
            "tags": []
          },
          "execution_count": 18
        }
      ]
    },
    {
      "cell_type": "code",
      "metadata": {
        "id": "8r6g7IiYJ-PL",
        "outputId": "626cea79-ed7f-4b07-98e8-32c6338cfe83",
        "colab": {
          "base_uri": "https://localhost:8080/"
        }
      },
      "source": [
        "' '.isalnum()"
      ],
      "execution_count": 19,
      "outputs": [
        {
          "output_type": "execute_result",
          "data": {
            "text/plain": [
              "False"
            ]
          },
          "metadata": {
            "tags": []
          },
          "execution_count": 19
        }
      ]
    },
    {
      "cell_type": "code",
      "metadata": {
        "id": "nnPb6XDJJ_vM",
        "outputId": "040934c8-50b3-4ea8-d286-b6a9316170cd",
        "colab": {
          "base_uri": "https://localhost:8080/"
        }
      },
      "source": [
        "'abc'.isalnum()"
      ],
      "execution_count": 20,
      "outputs": [
        {
          "output_type": "execute_result",
          "data": {
            "text/plain": [
              "True"
            ]
          },
          "metadata": {
            "tags": []
          },
          "execution_count": 20
        }
      ]
    },
    {
      "cell_type": "code",
      "metadata": {
        "id": "mzsYTzTfKAum",
        "outputId": "65401182-d94c-40f0-8640-831d66a5282a",
        "colab": {
          "base_uri": "https://localhost:8080/"
        }
      },
      "source": [
        "' '.isspace()"
      ],
      "execution_count": 21,
      "outputs": [
        {
          "output_type": "execute_result",
          "data": {
            "text/plain": [
              "True"
            ]
          },
          "metadata": {
            "tags": []
          },
          "execution_count": 21
        }
      ]
    },
    {
      "cell_type": "code",
      "metadata": {
        "id": "of4LQuX0KCoH",
        "outputId": "03a28b8a-da11-4e3e-8fce-6e91d9d00bab",
        "colab": {
          "base_uri": "https://localhost:8080/"
        }
      },
      "source": [
        "'Sample  '.isspace()"
      ],
      "execution_count": 22,
      "outputs": [
        {
          "output_type": "execute_result",
          "data": {
            "text/plain": [
              "False"
            ]
          },
          "metadata": {
            "tags": []
          },
          "execution_count": 22
        }
      ]
    },
    {
      "cell_type": "code",
      "metadata": {
        "id": "fTe-5yE-KDlL",
        "outputId": "e006db44-5f82-48b4-bffc-07622234cb29",
        "colab": {
          "base_uri": "https://localhost:8080/",
          "height": 37
        }
      },
      "source": [
        "'   sample   '.lstrip()"
      ],
      "execution_count": 23,
      "outputs": [
        {
          "output_type": "execute_result",
          "data": {
            "application/vnd.google.colaboratory.intrinsic+json": {
              "type": "string"
            },
            "text/plain": [
              "'sample   '"
            ]
          },
          "metadata": {
            "tags": []
          },
          "execution_count": 23
        }
      ]
    },
    {
      "cell_type": "code",
      "metadata": {
        "id": "FsM-i7pkKFAv",
        "outputId": "642bb51f-10d3-42c0-c94b-c64aa69fb4e7",
        "colab": {
          "base_uri": "https://localhost:8080/",
          "height": 37
        }
      },
      "source": [
        "'www.example.com'.lstrip('cmowz.')"
      ],
      "execution_count": 24,
      "outputs": [
        {
          "output_type": "execute_result",
          "data": {
            "application/vnd.google.colaboratory.intrinsic+json": {
              "type": "string"
            },
            "text/plain": [
              "'example.com'"
            ]
          },
          "metadata": {
            "tags": []
          },
          "execution_count": 24
        }
      ]
    },
    {
      "cell_type": "code",
      "metadata": {
        "id": "5zIOPmGVKG8K",
        "outputId": "4ce835a5-555b-48ea-ae10-637038d5f457",
        "colab": {
          "base_uri": "https://localhost:8080/",
          "height": 37
        }
      },
      "source": [
        "'   sample   '.rstrip()"
      ],
      "execution_count": 25,
      "outputs": [
        {
          "output_type": "execute_result",
          "data": {
            "application/vnd.google.colaboratory.intrinsic+json": {
              "type": "string"
            },
            "text/plain": [
              "'   sample'"
            ]
          },
          "metadata": {
            "tags": []
          },
          "execution_count": 25
        }
      ]
    },
    {
      "cell_type": "code",
      "metadata": {
        "id": "z2tj79C0KIKm",
        "outputId": "a888fbc2-8c89-476a-eb68-4e15241f46db",
        "colab": {
          "base_uri": "https://localhost:8080/",
          "height": 37
        }
      },
      "source": [
        "'mississippi'.rstrip('ipz')"
      ],
      "execution_count": 26,
      "outputs": [
        {
          "output_type": "execute_result",
          "data": {
            "application/vnd.google.colaboratory.intrinsic+json": {
              "type": "string"
            },
            "text/plain": [
              "'mississ'"
            ]
          },
          "metadata": {
            "tags": []
          },
          "execution_count": 26
        }
      ]
    },
    {
      "cell_type": "code",
      "metadata": {
        "id": "CAPAkrSYKJte",
        "outputId": "314b78b0-963a-4610-acf4-1d0f685c5834",
        "colab": {
          "base_uri": "https://localhost:8080/",
          "height": 37
        }
      },
      "source": [
        "word = \"Sample\"\n",
        "f\"THis is a {word!r} string.\""
      ],
      "execution_count": 27,
      "outputs": [
        {
          "output_type": "execute_result",
          "data": {
            "application/vnd.google.colaboratory.intrinsic+json": {
              "type": "string"
            },
            "text/plain": [
              "\"THis is a 'Sample' string.\""
            ]
          },
          "metadata": {
            "tags": []
          },
          "execution_count": 27
        }
      ]
    },
    {
      "cell_type": "code",
      "metadata": {
        "id": "qElB5c5DKMFZ",
        "outputId": "a99ee99e-a0ca-4bd8-8e44-489354151572",
        "colab": {
          "base_uri": "https://localhost:8080/"
        }
      },
      "source": [
        "Test = [\"This\",\"is\",\"Sample\"]\n",
        "print(\" \".join(Test))"
      ],
      "execution_count": 28,
      "outputs": [
        {
          "output_type": "stream",
          "text": [
            "This is Sample\n"
          ],
          "name": "stdout"
        }
      ]
    },
    {
      "cell_type": "code",
      "metadata": {
        "id": "EptdTcl1KO-B",
        "outputId": "8558d5d9-fd6a-4251-bbb4-9a448a6bb806",
        "colab": {
          "base_uri": "https://localhost:8080/"
        }
      },
      "source": [
        "word = \"Sample\"\n",
        "print(word*3)"
      ],
      "execution_count": 29,
      "outputs": [
        {
          "output_type": "stream",
          "text": [
            "SampleSampleSample\n"
          ],
          "name": "stdout"
        }
      ]
    },
    {
      "cell_type": "code",
      "metadata": {
        "id": "c03u2a7-KQTY",
        "outputId": "84c3dcd3-160e-4317-a846-4aa1642322ac",
        "colab": {
          "base_uri": "https://localhost:8080/"
        }
      },
      "source": [
        "\"sample\".startswith((\"sam\",\"Sam\"))"
      ],
      "execution_count": 30,
      "outputs": [
        {
          "output_type": "execute_result",
          "data": {
            "text/plain": [
              "True"
            ]
          },
          "metadata": {
            "tags": []
          },
          "execution_count": 30
        }
      ]
    },
    {
      "cell_type": "code",
      "metadata": {
        "id": "JZbbAISiKRja",
        "outputId": "3c36c894-12d8-48ff-95f8-70073cf12b3e",
        "colab": {
          "base_uri": "https://localhost:8080/"
        }
      },
      "source": [
        "\"sample\".endswith((\"ple\",\"ple.\"))"
      ],
      "execution_count": 31,
      "outputs": [
        {
          "output_type": "execute_result",
          "data": {
            "text/plain": [
              "True"
            ]
          },
          "metadata": {
            "tags": []
          },
          "execution_count": 31
        }
      ]
    },
    {
      "cell_type": "code",
      "metadata": {
        "id": "7sCwFMCXKSaw",
        "outputId": "fab416fb-9675-46fc-d723-9e9e7dbffe55",
        "colab": {
          "base_uri": "https://localhost:8080/"
        }
      },
      "source": [
        "\"This is a Sample\".split()"
      ],
      "execution_count": 32,
      "outputs": [
        {
          "output_type": "execute_result",
          "data": {
            "text/plain": [
              "['This', 'is', 'a', 'Sample']"
            ]
          },
          "metadata": {
            "tags": []
          },
          "execution_count": 32
        }
      ]
    },
    {
      "cell_type": "code",
      "metadata": {
        "id": "uvzSDibMKTbk",
        "outputId": "5503c8e4-2c43-4226-f033-3f5751147d9f",
        "colab": {
          "base_uri": "https://localhost:8080/",
          "height": 37
        }
      },
      "source": [
        "sentence = \"She was young the way an actual young person is young\".split()\n",
        "most_frequent_word = max(set(sentence),key=sentence.count)\n",
        "most_frequent_word"
      ],
      "execution_count": 33,
      "outputs": [
        {
          "output_type": "execute_result",
          "data": {
            "application/vnd.google.colaboratory.intrinsic+json": {
              "type": "string"
            },
            "text/plain": [
              "'young'"
            ]
          },
          "metadata": {
            "tags": []
          },
          "execution_count": 33
        }
      ]
    },
    {
      "cell_type": "code",
      "metadata": {
        "id": "hUfxp_gjKYxF",
        "outputId": "85408c5d-ad50-413a-f74d-a59d7c1ace76",
        "colab": {
          "base_uri": "https://localhost:8080/"
        }
      },
      "source": [
        "from collections import Counter\n",
        "sentence = \"She was young the way an actual young person is young\".split()\n",
        "Counter(sentence)"
      ],
      "execution_count": 34,
      "outputs": [
        {
          "output_type": "execute_result",
          "data": {
            "text/plain": [
              "Counter({'She': 1,\n",
              "         'actual': 1,\n",
              "         'an': 1,\n",
              "         'is': 1,\n",
              "         'person': 1,\n",
              "         'the': 1,\n",
              "         'was': 1,\n",
              "         'way': 1,\n",
              "         'young': 3})"
            ]
          },
          "metadata": {
            "tags": []
          },
          "execution_count": 34
        }
      ]
    },
    {
      "cell_type": "code",
      "metadata": {
        "id": "mpk1tDKtKcKm",
        "outputId": "beaadc79-96c3-44b5-9c15-4fa73abcaf50",
        "colab": {
          "base_uri": "https://localhost:8080/"
        }
      },
      "source": [
        "sentence = \"Quick brown fox\".split()\n",
        "list(map(str.capitalize,sentence))"
      ],
      "execution_count": 35,
      "outputs": [
        {
          "output_type": "execute_result",
          "data": {
            "text/plain": [
              "['Quick', 'Brown', 'Fox']"
            ]
          },
          "metadata": {
            "tags": []
          },
          "execution_count": 35
        }
      ]
    },
    {
      "cell_type": "code",
      "metadata": {
        "id": "ZW3AcSBUKeH_",
        "outputId": "9c05bac7-f3f1-4d13-8a3c-1099cd7a9a14",
        "colab": {
          "base_uri": "https://localhost:8080/"
        }
      },
      "source": [
        "sentence = \"The sound sounds sound\".split()\n",
        "list(set(sentence))"
      ],
      "execution_count": 36,
      "outputs": [
        {
          "output_type": "execute_result",
          "data": {
            "text/plain": [
              "['The', 'sounds', 'sound']"
            ]
          },
          "metadata": {
            "tags": []
          },
          "execution_count": 36
        }
      ]
    },
    {
      "cell_type": "code",
      "metadata": {
        "id": "yxHunrN2Kghz",
        "outputId": "4e050f16-c353-4dca-dcf2-3330a9cf34ba",
        "colab": {
          "base_uri": "https://localhost:8080/"
        }
      },
      "source": [
        "from collections import OrderedDict\n",
        "sentence = \"The sound sounds sound\".split()\n",
        "list(OrderedDict.fromkeys(sentence).keys())"
      ],
      "execution_count": 37,
      "outputs": [
        {
          "output_type": "execute_result",
          "data": {
            "text/plain": [
              "['The', 'sound', 'sounds']"
            ]
          },
          "metadata": {
            "tags": []
          },
          "execution_count": 37
        }
      ]
    },
    {
      "cell_type": "code",
      "metadata": {
        "id": "hqMzHcaWKjRD",
        "outputId": "43e77be7-e110-4745-a91d-66555a57291f",
        "colab": {
          "base_uri": "https://localhost:8080/"
        }
      },
      "source": [
        "sentence = \"This is Sample\".split()\n",
        "sentence.reverse()\n",
        "print(sentence)"
      ],
      "execution_count": 38,
      "outputs": [
        {
          "output_type": "stream",
          "text": [
            "['Sample', 'is', 'This']\n"
          ],
          "name": "stdout"
        }
      ]
    },
    {
      "cell_type": "code",
      "metadata": {
        "id": "QmgR-uwiKlxL",
        "outputId": "a4a696e9-bc10-4d2e-eab7-535145df5f19",
        "colab": {
          "base_uri": "https://localhost:8080/"
        }
      },
      "source": [
        "sentence = \"This is Sample\".split()\n",
        "first_word, second_word, third_word = sentence\n",
        "print(first_word)\n",
        "print(second_word)\n",
        "print(third_word)"
      ],
      "execution_count": 39,
      "outputs": [
        {
          "output_type": "stream",
          "text": [
            "This\n",
            "is\n",
            "Sample\n"
          ],
          "name": "stdout"
        }
      ]
    },
    {
      "cell_type": "code",
      "metadata": {
        "id": "fVou4H6GKnbt",
        "outputId": "f4cfdd37-4016-43c3-f4bc-e199f6780abf",
        "colab": {
          "base_uri": "https://localhost:8080/"
        }
      },
      "source": [
        "Name = ['Tom', 'Marry', 'Jon']\n",
        "Age = ['35', '30', '40']\n",
        "for Name, Age in zip(Name,Age):\n",
        "    print(Name,Age)"
      ],
      "execution_count": 40,
      "outputs": [
        {
          "output_type": "stream",
          "text": [
            "Tom 35\n",
            "Marry 30\n",
            "Jon 40\n"
          ],
          "name": "stdout"
        }
      ]
    },
    {
      "cell_type": "code",
      "metadata": {
        "id": "C6wH9hBvKoZA",
        "outputId": "4c00df16-ca12-4d2d-8611-39a596b2f47a",
        "colab": {
          "base_uri": "https://localhost:8080/"
        }
      },
      "source": [
        "sorted(['string1','string2','string3'],reverse=True)"
      ],
      "execution_count": 41,
      "outputs": [
        {
          "output_type": "execute_result",
          "data": {
            "text/plain": [
              "['string3', 'string2', 'string1']"
            ]
          },
          "metadata": {
            "tags": []
          },
          "execution_count": 41
        }
      ]
    }
  ]
}