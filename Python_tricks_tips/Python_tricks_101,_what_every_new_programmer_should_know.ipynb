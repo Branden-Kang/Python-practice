{
  "nbformat": 4,
  "nbformat_minor": 0,
  "metadata": {
    "colab": {
      "name": "Python tricks 101, what every new programmer should know.ipynb",
      "provenance": [],
      "authorship_tag": "ABX9TyOuTwPwPti1R1fSQO5FeTEl"
    },
    "kernelspec": {
      "name": "python3",
      "display_name": "Python 3"
    },
    "language_info": {
      "name": "python"
    }
  },
  "cells": [
    {
      "cell_type": "markdown",
      "metadata": {
        "id": "8nBrphc7Jd_3"
      },
      "source": [
        "[Reference](https://towardsdatascience.com/python-tricks-101-what-every-new-programmer-should-know-c512a9787022)"
      ]
    },
    {
      "cell_type": "markdown",
      "metadata": {
        "id": "dpbZG5lrJgIr"
      },
      "source": [
        "# 1: String manipulation"
      ]
    },
    {
      "cell_type": "code",
      "metadata": {
        "colab": {
          "base_uri": "https://localhost:8080/"
        },
        "id": "jx7PfZAXI_--",
        "outputId": "f0697b13-0e8d-44e3-a040-eb9cbd0c06b0"
      },
      "source": [
        "my_string = \"Hi Medium..!\"\n",
        "print(my_string * 2)"
      ],
      "execution_count": 1,
      "outputs": [
        {
          "output_type": "stream",
          "text": [
            "Hi Medium..!Hi Medium..!\n"
          ],
          "name": "stdout"
        }
      ]
    },
    {
      "cell_type": "code",
      "metadata": {
        "colab": {
          "base_uri": "https://localhost:8080/"
        },
        "id": "6FlztHjbJiGB",
        "outputId": "e2347e29-e175-4433-c116-3f680d396f6d"
      },
      "source": [
        "print(my_string + \" I love Python\" * 2)"
      ],
      "execution_count": 2,
      "outputs": [
        {
          "output_type": "stream",
          "text": [
            "Hi Medium..! I love Python I love Python\n"
          ],
          "name": "stdout"
        }
      ]
    },
    {
      "cell_type": "code",
      "metadata": {
        "colab": {
          "base_uri": "https://localhost:8080/"
        },
        "id": "ydxywqBKJ0xb",
        "outputId": "bee7cd9d-64b7-497e-9745-22b8041ca15f"
      },
      "source": [
        "print(my_string[::-1])"
      ],
      "execution_count": 3,
      "outputs": [
        {
          "output_type": "stream",
          "text": [
            "!..muideM iH\n"
          ],
          "name": "stdout"
        }
      ]
    },
    {
      "cell_type": "code",
      "metadata": {
        "colab": {
          "base_uri": "https://localhost:8080/"
        },
        "id": "Gic7IfLMJ2WE",
        "outputId": "be7ffd5e-4109-485f-92ca-742deb5ed071"
      },
      "source": [
        "my_list = [1,2,3,4,5]\n",
        "print(my_list[::-1])"
      ],
      "execution_count": 4,
      "outputs": [
        {
          "output_type": "stream",
          "text": [
            "[5, 4, 3, 2, 1]\n"
          ],
          "name": "stdout"
        }
      ]
    },
    {
      "cell_type": "code",
      "metadata": {
        "colab": {
          "base_uri": "https://localhost:8080/"
        },
        "id": "GgAWJDx0J3gz",
        "outputId": "dfc0e630-c13e-45db-86df-3a5dc93dfdaf"
      },
      "source": [
        "word_list = [\"awesome\", \"is\", \"this\"]\n",
        "print(' '.join(word_list[::-1]) + '!')"
      ],
      "execution_count": 5,
      "outputs": [
        {
          "output_type": "stream",
          "text": [
            "this is awesome!\n"
          ],
          "name": "stdout"
        }
      ]
    },
    {
      "cell_type": "markdown",
      "metadata": {
        "id": "9ce-4NuRKUEX"
      },
      "source": [
        "# 2: List comprehensions"
      ]
    },
    {
      "cell_type": "code",
      "metadata": {
        "id": "Ytq7_DiiJ46Q"
      },
      "source": [
        "def stupid_func(x):\n",
        "     return x**2 + 5"
      ],
      "execution_count": 6,
      "outputs": []
    },
    {
      "cell_type": "code",
      "metadata": {
        "colab": {
          "base_uri": "https://localhost:8080/"
        },
        "id": "Tk7VLdp7KWU8",
        "outputId": "7edc2732-7966-4ddb-8d72-5d3bfc67c6cd"
      },
      "source": [
        "my_list = [1, 2, 3, 4, 5]\n",
        "new_list = []\n",
        "for x in my_list:\n",
        "    if x % 2 != 0:\n",
        "        new_list.append(stupid_func(x))\n",
        "print(new_list)"
      ],
      "execution_count": 7,
      "outputs": [
        {
          "output_type": "stream",
          "text": [
            "[6, 14, 30]\n"
          ],
          "name": "stdout"
        }
      ]
    },
    {
      "cell_type": "code",
      "metadata": {
        "colab": {
          "base_uri": "https://localhost:8080/"
        },
        "id": "RZ5g1Y8sKaqP",
        "outputId": "8b619be2-7ee5-4e6f-da9d-7f4ef89b8551"
      },
      "source": [
        "my_list = [1, 2, 3, 4, 5]\n",
        "print([stupid_func(x) for x in my_list if x % 2 != 0])"
      ],
      "execution_count": 8,
      "outputs": [
        {
          "output_type": "stream",
          "text": [
            "[6, 14, 30]\n"
          ],
          "name": "stdout"
        }
      ]
    },
    {
      "cell_type": "code",
      "metadata": {
        "colab": {
          "base_uri": "https://localhost:8080/"
        },
        "id": "Qhu1Rbo6KdDR",
        "outputId": "3b6b03b8-50b2-43bb-957b-dbbd883e95e4"
      },
      "source": [
        "print([x ** 2 + 5 for x in my_list if x % 2 != 0])"
      ],
      "execution_count": 9,
      "outputs": [
        {
          "output_type": "stream",
          "text": [
            "[6, 14, 30]\n"
          ],
          "name": "stdout"
        }
      ]
    },
    {
      "cell_type": "markdown",
      "metadata": {
        "id": "Ylx6T6x4KrMG"
      },
      "source": [
        "# 3: Lambda & Map"
      ]
    },
    {
      "cell_type": "code",
      "metadata": {
        "colab": {
          "base_uri": "https://localhost:8080/"
        },
        "id": "3FXbXm8tKh2J",
        "outputId": "dfe6d63f-aed4-4a6f-bbbd-ecc3df9d264c"
      },
      "source": [
        "stupid_func = (lambda x : x ** 2 + 5)\n",
        "print([stupid_func(1), stupid_func(3), stupid_func(5)])"
      ],
      "execution_count": 10,
      "outputs": [
        {
          "output_type": "stream",
          "text": [
            "[6, 14, 30]\n"
          ],
          "name": "stdout"
        }
      ]
    },
    {
      "cell_type": "code",
      "metadata": {
        "colab": {
          "base_uri": "https://localhost:8080/"
        },
        "id": "xrceZrWaKt8C",
        "outputId": "1bb7f60b-10db-48c6-f582-3cae7fd28165"
      },
      "source": [
        "my_list = [2, 1, 0, -1, -2]\n",
        "print(sorted(my_list))"
      ],
      "execution_count": 11,
      "outputs": [
        {
          "output_type": "stream",
          "text": [
            "[-2, -1, 0, 1, 2]\n"
          ],
          "name": "stdout"
        }
      ]
    },
    {
      "cell_type": "code",
      "metadata": {
        "colab": {
          "base_uri": "https://localhost:8080/"
        },
        "id": "eXBg3vnQKvpH",
        "outputId": "555eaea0-6e29-470e-d1be-96488920ee6d"
      },
      "source": [
        "print(sorted(my_list, key = lambda x : x ** 2))"
      ],
      "execution_count": 12,
      "outputs": [
        {
          "output_type": "stream",
          "text": [
            "[0, 1, -1, 2, -2]\n"
          ],
          "name": "stdout"
        }
      ]
    },
    {
      "cell_type": "code",
      "metadata": {
        "colab": {
          "base_uri": "https://localhost:8080/"
        },
        "id": "SUBwBPbIKx6l",
        "outputId": "7208a202-805b-4bd4-cac6-578abf1ad176"
      },
      "source": [
        "print(list(map(lambda x, y : x * y, [1, 2, 3], [4, 5, 6])))"
      ],
      "execution_count": 13,
      "outputs": [
        {
          "output_type": "stream",
          "text": [
            "[4, 10, 18]\n"
          ],
          "name": "stdout"
        }
      ]
    },
    {
      "cell_type": "code",
      "metadata": {
        "colab": {
          "base_uri": "https://localhost:8080/"
        },
        "id": "MgaabIqhKzFE",
        "outputId": "f4ebda96-3415-4c1d-ea59-54197bf61d1e"
      },
      "source": [
        "x, y = [1, 2, 3], [4, 5, 6]\n",
        "z = []\n",
        "for i in range(len(x)):\n",
        "    z.append(x[i] * y[i])\n",
        "print(z)"
      ],
      "execution_count": 14,
      "outputs": [
        {
          "output_type": "stream",
          "text": [
            "[4, 10, 18]\n"
          ],
          "name": "stdout"
        }
      ]
    },
    {
      "cell_type": "markdown",
      "metadata": {
        "id": "h2WcMgF1LU4d"
      },
      "source": [
        ""
      ]
    },
    {
      "cell_type": "markdown",
      "metadata": {
        "id": "MwriDNTfK8oQ"
      },
      "source": [
        "# 4: if, elif and else condition one-liners"
      ]
    },
    {
      "cell_type": "code",
      "metadata": {
        "colab": {
          "base_uri": "https://localhost:8080/"
        },
        "id": "xInB4A4pK0gj",
        "outputId": "8da51b92-038d-4ed6-fe8c-11d1b3145e00"
      },
      "source": [
        "x = int(input())\n",
        "if x >= 10:\n",
        "    print(\"Horse\")\n",
        "elif 1 < x < 10:\n",
        "    print(\"Duck\")\n",
        "else:\n",
        "    print(\"Baguette\")"
      ],
      "execution_count": 15,
      "outputs": [
        {
          "output_type": "stream",
          "text": [
            "11\n",
            "Horse\n"
          ],
          "name": "stdout"
        }
      ]
    },
    {
      "cell_type": "code",
      "metadata": {
        "colab": {
          "base_uri": "https://localhost:8080/"
        },
        "id": "PQ010KJbK5Bg",
        "outputId": "1d1b2efd-a93d-44d6-b038-ec3877c311a1"
      },
      "source": [
        "print(\"Horse\" if x >= 10 else \"Duck\" if 1 < x < 10 else \"Baguette\")"
      ],
      "execution_count": 16,
      "outputs": [
        {
          "output_type": "stream",
          "text": [
            "Horse\n"
          ],
          "name": "stdout"
        }
      ]
    }
  ]
}