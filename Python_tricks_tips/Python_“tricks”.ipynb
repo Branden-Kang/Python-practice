{
  "nbformat": 4,
  "nbformat_minor": 0,
  "metadata": {
    "colab": {
      "name": "Python “tricks”.ipynb",
      "provenance": [],
      "authorship_tag": "ABX9TyP2ZGnf0STgL5bO7iXWzbAp"
    },
    "kernelspec": {
      "name": "python3",
      "display_name": "Python 3"
    }
  },
  "cells": [
    {
      "cell_type": "markdown",
      "metadata": {
        "id": "6KBgLDsiXx5W"
      },
      "source": [
        "[Reference](https://levelup.gitconnected.com/python-tricks-i-can-not-live-without-87ae6aff3af8)"
      ]
    },
    {
      "cell_type": "markdown",
      "metadata": {
        "id": "DjEo_CTAX5ER"
      },
      "source": [
        "# Sets"
      ]
    },
    {
      "cell_type": "code",
      "metadata": {
        "colab": {
          "base_uri": "https://localhost:8080/"
        },
        "id": "1wG1Z5r5Xv-D",
        "outputId": "cd4eeea4-5441-414e-ccd8-96212ecad2a6"
      },
      "source": [
        "myword = \"NanananaBatman\"\n",
        "set(myword)"
      ],
      "execution_count": 1,
      "outputs": [
        {
          "output_type": "execute_result",
          "data": {
            "text/plain": [
              "{'B', 'N', 'a', 'm', 'n', 't'}"
            ]
          },
          "metadata": {
            "tags": []
          },
          "execution_count": 1
        }
      ]
    },
    {
      "cell_type": "code",
      "metadata": {
        "colab": {
          "base_uri": "https://localhost:8080/"
        },
        "id": "vgZkiPsDX317",
        "outputId": "54124572-a8a9-4d4e-b590-02a66bd1a8f5"
      },
      "source": [
        "# first you can easily change set to list and other way aroundmy\n",
        "\n",
        "mylist = [\"a\", \"b\", \"c\", \"c\"]\n",
        "\n",
        "# let's make a set out of it\n",
        "\n",
        "myset = set(mylist)\n",
        "myset"
      ],
      "execution_count": 2,
      "outputs": [
        {
          "output_type": "execute_result",
          "data": {
            "text/plain": [
              "{'a', 'b', 'c'}"
            ]
          },
          "metadata": {
            "tags": []
          },
          "execution_count": 2
        }
      ]
    },
    {
      "cell_type": "code",
      "metadata": {
        "colab": {
          "base_uri": "https://localhost:8080/"
        },
        "id": "QhyWwLmsYNjx",
        "outputId": "805dfaf3-369c-487a-a066-35579567dc43"
      },
      "source": [
        "# and, it's already iterable so you can do:\n",
        "for element in myset:\n",
        "    print(element)\n",
        "    \n",
        "# but you can also convert it to list again:\n",
        "mynewlist = list(myset)\n",
        "mynewlist"
      ],
      "execution_count": 3,
      "outputs": [
        {
          "output_type": "stream",
          "text": [
            "b\n",
            "a\n",
            "c\n"
          ],
          "name": "stdout"
        },
        {
          "output_type": "execute_result",
          "data": {
            "text/plain": [
              "['b', 'a', 'c']"
            ]
          },
          "metadata": {
            "tags": []
          },
          "execution_count": 3
        }
      ]
    },
    {
      "cell_type": "code",
      "metadata": {
        "colab": {
          "base_uri": "https://localhost:8080/"
        },
        "id": "I4A1X6iWYSjH",
        "outputId": "c0703756-daf8-4ed2-f27b-3df5aad3c318"
      },
      "source": [
        "mylist = [\"c\", \"c\", \"a\", \"b\"]\n",
        "mynewlist = list(set(mylist))\n",
        "mynewlist"
      ],
      "execution_count": 4,
      "outputs": [
        {
          "output_type": "execute_result",
          "data": {
            "text/plain": [
              "['b', 'a', 'c']"
            ]
          },
          "metadata": {
            "tags": []
          },
          "execution_count": 4
        }
      ]
    },
    {
      "cell_type": "code",
      "metadata": {
        "id": "b8MI-6s0YcZU"
      },
      "source": [
        "# this is the set of permissions before change;\n",
        "original_permission_set = {\"is_admin\", \"can_post_entry\", \"can_edit_entry\", \"can_view_settings\"}"
      ],
      "execution_count": 5,
      "outputs": []
    },
    {
      "cell_type": "code",
      "metadata": {
        "id": "YjcguxoCYiYw"
      },
      "source": [
        "# this is new set of permissions;\n",
        "new_permission_set = {\"can_edit_settings\", \"is_member\", \"can_view_entry\", \"can_edit_entry\"}"
      ],
      "execution_count": 6,
      "outputs": []
    },
    {
      "cell_type": "code",
      "metadata": {
        "colab": {
          "base_uri": "https://localhost:8080/"
        },
        "id": "e5fRtjIWYjMR",
        "outputId": "d6477682-9855-4e39-ff51-604f90812776"
      },
      "source": [
        "# now permissions to add will be:\n",
        "new_permission_set.difference(original_permission_set)"
      ],
      "execution_count": 7,
      "outputs": [
        {
          "output_type": "execute_result",
          "data": {
            "text/plain": [
              "{'can_edit_settings', 'can_view_entry', 'is_member'}"
            ]
          },
          "metadata": {
            "tags": []
          },
          "execution_count": 7
        }
      ]
    },
    {
      "cell_type": "code",
      "metadata": {
        "colab": {
          "base_uri": "https://localhost:8080/"
        },
        "id": "2dPq81aMYknC",
        "outputId": "40b3a899-9219-4b0e-80dc-2cd56c13e651"
      },
      "source": [
        "# now permissions to remove will be:\n",
        "original_permission_set.difference(new_permission_set)"
      ],
      "execution_count": 8,
      "outputs": [
        {
          "output_type": "execute_result",
          "data": {
            "text/plain": [
              "{'can_post_entry', 'can_view_settings', 'is_admin'}"
            ]
          },
          "metadata": {
            "tags": []
          },
          "execution_count": 8
        }
      ]
    },
    {
      "cell_type": "markdown",
      "metadata": {
        "id": "W7KZxIvmYo8N"
      },
      "source": [
        "# Calendar fun"
      ]
    },
    {
      "cell_type": "code",
      "metadata": {
        "colab": {
          "base_uri": "https://localhost:8080/"
        },
        "id": "n7EE8-kFYm7J",
        "outputId": "d84ed861-fd5c-4fcf-e51f-7e91b9af3b9d"
      },
      "source": [
        "import calendar\n",
        "\n",
        "calendar.monthrange(2020, 12)"
      ],
      "execution_count": 9,
      "outputs": [
        {
          "output_type": "execute_result",
          "data": {
            "text/plain": [
              "(1, 31)"
            ]
          },
          "metadata": {
            "tags": []
          },
          "execution_count": 9
        }
      ]
    },
    {
      "cell_type": "code",
      "metadata": {
        "colab": {
          "base_uri": "https://localhost:8080/"
        },
        "id": "tvHSidkiZd1m",
        "outputId": "e2c6f6e6-051d-4e79-ccca-8e276f2ab332"
      },
      "source": [
        "help(calendar.monthrange)"
      ],
      "execution_count": 10,
      "outputs": [
        {
          "output_type": "stream",
          "text": [
            "Help on function monthrange in module calendar:\n",
            "\n",
            "monthrange(year, month)\n",
            "    Return weekday (0-6 ~ Mon-Sun) and number of days (28-31) for\n",
            "    year, month.\n",
            "\n"
          ],
          "name": "stdout"
        }
      ]
    },
    {
      "cell_type": "code",
      "metadata": {
        "colab": {
          "base_uri": "https://localhost:8080/"
        },
        "id": "ZbCKttb7ZeZq",
        "outputId": "e14c33b3-5eea-4324-a4b0-8297cc75eb59"
      },
      "source": [
        "calendar.monthrange(2021, 12)"
      ],
      "execution_count": 11,
      "outputs": [
        {
          "output_type": "execute_result",
          "data": {
            "text/plain": [
              "(2, 31)"
            ]
          },
          "metadata": {
            "tags": []
          },
          "execution_count": 11
        }
      ]
    },
    {
      "cell_type": "code",
      "metadata": {
        "colab": {
          "base_uri": "https://localhost:8080/"
        },
        "id": "3BFtjnnVZp08",
        "outputId": "72209737-016b-4acf-ef52-7498eb263e06"
      },
      "source": [
        "calendar.monthrange(2022, 2)"
      ],
      "execution_count": 17,
      "outputs": [
        {
          "output_type": "execute_result",
          "data": {
            "text/plain": [
              "(1, 28)"
            ]
          },
          "metadata": {
            "tags": []
          },
          "execution_count": 17
        }
      ]
    },
    {
      "cell_type": "code",
      "metadata": {
        "colab": {
          "base_uri": "https://localhost:8080/"
        },
        "id": "q96h5WsNZ2TJ",
        "outputId": "276c971d-875c-4b81-a186-74426f238198"
      },
      "source": [
        "calendar.monthrange(2023, 2)"
      ],
      "execution_count": 18,
      "outputs": [
        {
          "output_type": "execute_result",
          "data": {
            "text/plain": [
              "(2, 28)"
            ]
          },
          "metadata": {
            "tags": []
          },
          "execution_count": 18
        }
      ]
    },
    {
      "cell_type": "code",
      "metadata": {
        "colab": {
          "base_uri": "https://localhost:8080/"
        },
        "id": "VMAfHyniZ2sz",
        "outputId": "708b78ba-8057-4b44-89de-4afbd5f45053"
      },
      "source": [
        "calendar.monthrange(2024, 2)"
      ],
      "execution_count": 19,
      "outputs": [
        {
          "output_type": "execute_result",
          "data": {
            "text/plain": [
              "(3, 29)"
            ]
          },
          "metadata": {
            "tags": []
          },
          "execution_count": 19
        }
      ]
    },
    {
      "cell_type": "code",
      "metadata": {
        "colab": {
          "base_uri": "https://localhost:8080/"
        },
        "id": "nTHDKGwOZ23c",
        "outputId": "9f9e6284-7485-449e-9a7d-37e719092a3d"
      },
      "source": [
        "calendar.monthrange(2025, 2)"
      ],
      "execution_count": 20,
      "outputs": [
        {
          "output_type": "execute_result",
          "data": {
            "text/plain": [
              "(5, 28)"
            ]
          },
          "metadata": {
            "tags": []
          },
          "execution_count": 20
        }
      ]
    },
    {
      "cell_type": "code",
      "metadata": {
        "id": "kaHCVySgZ3Lg"
      },
      "source": [
        "weekdays = [\"Monday\", \"Tuesday\", \"Wednesday\", \"Thursday\", \"Friday\", \"Satruday\", \"Sunday\"]"
      ],
      "execution_count": 21,
      "outputs": []
    },
    {
      "cell_type": "code",
      "metadata": {
        "colab": {
          "base_uri": "https://localhost:8080/",
          "height": 37
        },
        "id": "zW0vh1mUaJSm",
        "outputId": "6e52d928-711d-4973-ad9a-8cec1ea84f8d"
      },
      "source": [
        "weekdays[3]"
      ],
      "execution_count": 22,
      "outputs": [
        {
          "output_type": "execute_result",
          "data": {
            "application/vnd.google.colaboratory.intrinsic+json": {
              "type": "string"
            },
            "text/plain": [
              "'Thursday'"
            ]
          },
          "metadata": {
            "tags": []
          },
          "execution_count": 22
        }
      ]
    },
    {
      "cell_type": "code",
      "metadata": {
        "id": "e5qbuRzRaJ9q"
      },
      "source": [
        "offset = 3  # it's the first value from monthrange"
      ],
      "execution_count": 23,
      "outputs": []
    },
    {
      "cell_type": "code",
      "metadata": {
        "colab": {
          "base_uri": "https://localhost:8080/"
        },
        "id": "BWLzQe8GaKzg",
        "outputId": "50943bde-2c22-41a7-afd6-f280ccd7741f"
      },
      "source": [
        "for day in range(1, 29):\n",
        "    print(day, weekdays[(day + offset - 1) % 7])"
      ],
      "execution_count": 24,
      "outputs": [
        {
          "output_type": "stream",
          "text": [
            "1 Thursday\n",
            "2 Friday\n",
            "3 Satruday\n",
            "4 Sunday\n",
            "5 Monday\n",
            "6 Tuesday\n",
            "7 Wednesday\n",
            "8 Thursday\n",
            "9 Friday\n",
            "10 Satruday\n",
            "11 Sunday\n",
            "12 Monday\n",
            "13 Tuesday\n",
            "14 Wednesday\n",
            "15 Thursday\n",
            "16 Friday\n",
            "17 Satruday\n",
            "18 Sunday\n",
            "19 Monday\n",
            "20 Tuesday\n",
            "21 Wednesday\n",
            "22 Thursday\n",
            "23 Friday\n",
            "24 Satruday\n",
            "25 Sunday\n",
            "26 Monday\n",
            "27 Tuesday\n",
            "28 Wednesday\n"
          ],
          "name": "stdout"
        }
      ]
    },
    {
      "cell_type": "code",
      "metadata": {
        "colab": {
          "base_uri": "https://localhost:8080/"
        },
        "id": "y3jE0USnaLqK",
        "outputId": "0f6503be-3b74-4190-d3d5-1623c6e10a95"
      },
      "source": [
        "from datetime import datetime\n",
        "mydate = datetime(2024, 2, 15)\n",
        "datetime.weekday(mydate)"
      ],
      "execution_count": 27,
      "outputs": [
        {
          "output_type": "execute_result",
          "data": {
            "text/plain": [
              "3"
            ]
          },
          "metadata": {
            "tags": []
          },
          "execution_count": 27
        }
      ]
    },
    {
      "cell_type": "code",
      "metadata": {
        "colab": {
          "base_uri": "https://localhost:8080/",
          "height": 37
        },
        "id": "RfmQBS7iaOR4",
        "outputId": "d3703bf0-b3a8-466d-9fd2-af8cfe9eb1b5"
      },
      "source": [
        "datetime.strftime(mydate, \"%A\")"
      ],
      "execution_count": 28,
      "outputs": [
        {
          "output_type": "execute_result",
          "data": {
            "application/vnd.google.colaboratory.intrinsic+json": {
              "type": "string"
            },
            "text/plain": [
              "'Thursday'"
            ]
          },
          "metadata": {
            "tags": []
          },
          "execution_count": 28
        }
      ]
    },
    {
      "cell_type": "code",
      "metadata": {
        "colab": {
          "base_uri": "https://localhost:8080/"
        },
        "id": "H1nuU-c2aOb7",
        "outputId": "9e6f5495-a6f1-425b-f1b2-ebdd8046b704"
      },
      "source": [
        "calendar.isleap(2021)  # False\n",
        "calendar.isleap(2024)  # True"
      ],
      "execution_count": 29,
      "outputs": [
        {
          "output_type": "execute_result",
          "data": {
            "text/plain": [
              "True"
            ]
          },
          "metadata": {
            "tags": []
          },
          "execution_count": 29
        }
      ]
    },
    {
      "cell_type": "code",
      "metadata": {
        "colab": {
          "base_uri": "https://localhost:8080/"
        },
        "id": "JpdK3mGPaSHU",
        "outputId": "ad0fb606-3369-456c-e46a-7814e20b67be"
      },
      "source": [
        "calendar.leapdays(2021, 2026)  # 1\n",
        "calendar.leapdays(2020, 2026)  # 2"
      ],
      "execution_count": 30,
      "outputs": [
        {
          "output_type": "execute_result",
          "data": {
            "text/plain": [
              "2"
            ]
          },
          "metadata": {
            "tags": []
          },
          "execution_count": 30
        }
      ]
    },
    {
      "cell_type": "code",
      "metadata": {
        "colab": {
          "base_uri": "https://localhost:8080/"
        },
        "id": "_YLooCz-aT3f",
        "outputId": "6747fe63-85ca-4fb4-f4fb-81c5a4b86e5c"
      },
      "source": [
        "calendar.leapdays(2020, 2024)  # 1"
      ],
      "execution_count": 31,
      "outputs": [
        {
          "output_type": "execute_result",
          "data": {
            "text/plain": [
              "1"
            ]
          },
          "metadata": {
            "tags": []
          },
          "execution_count": 31
        }
      ]
    },
    {
      "cell_type": "markdown",
      "metadata": {
        "id": "VNwcodxFcCAF"
      },
      "source": [
        "# Enumerate has a second argument"
      ]
    },
    {
      "cell_type": "code",
      "metadata": {
        "colab": {
          "base_uri": "https://localhost:8080/"
        },
        "id": "60YhrC8aaUyu",
        "outputId": "38c804e2-9a04-4afb-f7a9-cd2241f2b390"
      },
      "source": [
        "mylist = ['a', 'b', 'd', 'c', 'g', 'e']\n",
        "\n",
        "for i, item in enumerate(mylist):\n",
        "    print(i, item)"
      ],
      "execution_count": 32,
      "outputs": [
        {
          "output_type": "stream",
          "text": [
            "0 a\n",
            "1 b\n",
            "2 d\n",
            "3 c\n",
            "4 g\n",
            "5 e\n"
          ],
          "name": "stdout"
        }
      ]
    },
    {
      "cell_type": "code",
      "metadata": {
        "colab": {
          "base_uri": "https://localhost:8080/"
        },
        "id": "qxD_KVeUcD9z",
        "outputId": "1c34fea4-ff48-4b56-8cc3-bac7673c80c1"
      },
      "source": [
        "for i, item in enumerate(mylist, 16):\n",
        "    print(i, item)"
      ],
      "execution_count": 33,
      "outputs": [
        {
          "output_type": "stream",
          "text": [
            "16 a\n",
            "17 b\n",
            "18 d\n",
            "19 c\n",
            "20 g\n",
            "21 e\n"
          ],
          "name": "stdout"
        }
      ]
    },
    {
      "cell_type": "markdown",
      "metadata": {
        "id": "JWi2TvRWcF_2"
      },
      "source": [
        "# Handling if-else logic"
      ]
    },
    {
      "cell_type": "code",
      "metadata": {
        "colab": {
          "base_uri": "https://localhost:8080/"
        },
        "id": "1rG0Opq1cFGn",
        "outputId": "5455c9e6-00b2-4d49-e7d8-2ea976a2717a"
      },
      "source": [
        "OPEN = 1\n",
        "IN_PROGRESS = 2\n",
        "CLOSED = 3\n",
        "\n",
        "def handle_open_status():\n",
        "    print('Handling open status')\n",
        "    \n",
        "def handle_in_progress_status():\n",
        "    print('Handling in progress status')\n",
        "    \n",
        "def handle_closed_status():\n",
        "    print('Handling closed status')\n",
        "    \n",
        "def handle_status_change(status):\n",
        "    if status == OPEN:\n",
        "        handle_open_status()\n",
        "    elif status == IN_PROGRESS:\n",
        "        handle_in_progress_status()\n",
        "    elif status == CLOSED:\n",
        "        handle_closed_status()\n",
        "\n",
        "handle_status_change(1)  # Handling open status\n",
        "handle_status_change(2)  # Handling in progress status\n",
        "handle_status_change(3)  # Handling closed status"
      ],
      "execution_count": 34,
      "outputs": [
        {
          "output_type": "stream",
          "text": [
            "Handling open status\n",
            "Handling in progress status\n",
            "Handling closed status\n"
          ],
          "name": "stdout"
        }
      ]
    },
    {
      "cell_type": "code",
      "metadata": {
        "colab": {
          "base_uri": "https://localhost:8080/",
          "height": 436
        },
        "id": "hIsuc7rzcPXS",
        "outputId": "1261eb20-5188-4c3b-fc38-7db05a24cf02"
      },
      "source": [
        "from enum import IntEnum\n",
        "\n",
        "class StatusE(IntEnum):\n",
        "    OPEN = 1\n",
        "    IN_PROGRESS = 2\n",
        "    CLOSED = 3\n",
        "    \n",
        "def handle_open_status():\n",
        "    print('Handling open status')\n",
        "    \n",
        "def handle_in_progress_status():\n",
        "    print('Handling in progress status')\n",
        "    \n",
        "def handle_closed_status():\n",
        "    print('Handling closed status')\n",
        "\n",
        "handlers = {\n",
        "    StatusE.OPEN.value: handle_open_status,\n",
        "    StatusE.IN_PROGRESS.value: handle_in_progress_status,\n",
        "    StatusE.CLOSED.value: handle_closed_status\n",
        "}\n",
        "\n",
        "def handle_status_change(status):\n",
        "    if status not in handlers:\n",
        "         raise Exception(f'No handler found for status: {status}')\n",
        "    handler = handlers[status]\n",
        "    handler()\n",
        "    \n",
        "handle_status_change(StatusE.OPEN.value)  # Handling open status\n",
        "handle_status_change(StatusE.IN_PROGRESS.value)  # Handling in progress status\n",
        "handle_status_change(StatusE.CLOSED.value)  # Handling closed status\n",
        "handle_status_change(4)  # Will raise the exception"
      ],
      "execution_count": 35,
      "outputs": [
        {
          "output_type": "stream",
          "text": [
            "Handling open status\n",
            "Handling in progress status\n",
            "Handling closed status\n"
          ],
          "name": "stdout"
        },
        {
          "output_type": "error",
          "ename": "Exception",
          "evalue": "ignored",
          "traceback": [
            "\u001b[0;31m---------------------------------------------------------------------------\u001b[0m",
            "\u001b[0;31mException\u001b[0m                                 Traceback (most recent call last)",
            "\u001b[0;32m<ipython-input-35-59565cdd7dbe>\u001b[0m in \u001b[0;36m<module>\u001b[0;34m()\u001b[0m\n\u001b[1;32m     30\u001b[0m \u001b[0mhandle_status_change\u001b[0m\u001b[0;34m(\u001b[0m\u001b[0mStatusE\u001b[0m\u001b[0;34m.\u001b[0m\u001b[0mIN_PROGRESS\u001b[0m\u001b[0;34m.\u001b[0m\u001b[0mvalue\u001b[0m\u001b[0;34m)\u001b[0m  \u001b[0;31m# Handling in progress status\u001b[0m\u001b[0;34m\u001b[0m\u001b[0;34m\u001b[0m\u001b[0m\n\u001b[1;32m     31\u001b[0m \u001b[0mhandle_status_change\u001b[0m\u001b[0;34m(\u001b[0m\u001b[0mStatusE\u001b[0m\u001b[0;34m.\u001b[0m\u001b[0mCLOSED\u001b[0m\u001b[0;34m.\u001b[0m\u001b[0mvalue\u001b[0m\u001b[0;34m)\u001b[0m  \u001b[0;31m# Handling closed status\u001b[0m\u001b[0;34m\u001b[0m\u001b[0;34m\u001b[0m\u001b[0m\n\u001b[0;32m---> 32\u001b[0;31m \u001b[0mhandle_status_change\u001b[0m\u001b[0;34m(\u001b[0m\u001b[0;36m4\u001b[0m\u001b[0;34m)\u001b[0m  \u001b[0;31m# Will raise the exception\u001b[0m\u001b[0;34m\u001b[0m\u001b[0;34m\u001b[0m\u001b[0m\n\u001b[0m",
            "\u001b[0;32m<ipython-input-35-59565cdd7dbe>\u001b[0m in \u001b[0;36mhandle_status_change\u001b[0;34m(status)\u001b[0m\n\u001b[1;32m     23\u001b[0m \u001b[0;32mdef\u001b[0m \u001b[0mhandle_status_change\u001b[0m\u001b[0;34m(\u001b[0m\u001b[0mstatus\u001b[0m\u001b[0;34m)\u001b[0m\u001b[0;34m:\u001b[0m\u001b[0;34m\u001b[0m\u001b[0;34m\u001b[0m\u001b[0m\n\u001b[1;32m     24\u001b[0m     \u001b[0;32mif\u001b[0m \u001b[0mstatus\u001b[0m \u001b[0;32mnot\u001b[0m \u001b[0;32min\u001b[0m \u001b[0mhandlers\u001b[0m\u001b[0;34m:\u001b[0m\u001b[0;34m\u001b[0m\u001b[0;34m\u001b[0m\u001b[0m\n\u001b[0;32m---> 25\u001b[0;31m          \u001b[0;32mraise\u001b[0m \u001b[0mException\u001b[0m\u001b[0;34m(\u001b[0m\u001b[0;34mf'No handler found for status: {status}'\u001b[0m\u001b[0;34m)\u001b[0m\u001b[0;34m\u001b[0m\u001b[0;34m\u001b[0m\u001b[0m\n\u001b[0m\u001b[1;32m     26\u001b[0m     \u001b[0mhandler\u001b[0m \u001b[0;34m=\u001b[0m \u001b[0mhandlers\u001b[0m\u001b[0;34m[\u001b[0m\u001b[0mstatus\u001b[0m\u001b[0;34m]\u001b[0m\u001b[0;34m\u001b[0m\u001b[0;34m\u001b[0m\u001b[0m\n\u001b[1;32m     27\u001b[0m     \u001b[0mhandler\u001b[0m\u001b[0;34m(\u001b[0m\u001b[0;34m)\u001b[0m\u001b[0;34m\u001b[0m\u001b[0;34m\u001b[0m\u001b[0m\n",
            "\u001b[0;31mException\u001b[0m: No handler found for status: 4"
          ]
        }
      ]
    },
    {
      "cell_type": "markdown",
      "metadata": {
        "id": "YZQUiG7ocjM6"
      },
      "source": [
        "# Enum module"
      ]
    },
    {
      "cell_type": "code",
      "metadata": {
        "colab": {
          "base_uri": "https://localhost:8080/"
        },
        "id": "dW8Xbujlcd8N",
        "outputId": "f44ce7c0-9348-4087-d4a6-7ed36f80925f"
      },
      "source": [
        "from enum import Enum, IntEnum, Flag, IntFlag\n",
        "\n",
        "class MyEnum(Enum):\n",
        "    FIRST = \"first\"\n",
        "    SECOND = \"second\"\n",
        "    THIRD = \"third\"\n",
        "class MyIntEnum(IntEnum):\n",
        "    ONE = 1\n",
        "    TWO = 2\n",
        "    THREE = 3\n",
        "    \n",
        "# Now we can do things like:\n",
        "\n",
        "MyEnum.FIRST  # <MyEnum.FIRST: 'first'>\n",
        "\n",
        "# it has value and name attributes, which are handy:\n",
        "\n",
        "MyEnum.FIRST.value  # 'first'\n",
        "MyEnum.FIRST.name  # 'FIRST'\n",
        "\n",
        "# additionally we can do things like:\n",
        "\n",
        "MyEnum('first')  # <MyEnum.FIRST: 'first'>, get enum by value\n",
        "MyEnum['FIRST']  # <MyEnum.FIRST: 'first'>, get enum by name"
      ],
      "execution_count": 36,
      "outputs": [
        {
          "output_type": "execute_result",
          "data": {
            "text/plain": [
              "<MyEnum.FIRST: 'first'>"
            ]
          },
          "metadata": {
            "tags": []
          },
          "execution_count": 36
        }
      ]
    },
    {
      "cell_type": "code",
      "metadata": {
        "colab": {
          "base_uri": "https://localhost:8080/"
        },
        "id": "OR1fwf_scr9A",
        "outputId": "143637a7-ff6c-4fe7-c854-f109b372453a"
      },
      "source": [
        "MyEnum.FIRST == \"first\"  # False"
      ],
      "execution_count": 37,
      "outputs": [
        {
          "output_type": "execute_result",
          "data": {
            "text/plain": [
              "False"
            ]
          },
          "metadata": {
            "tags": []
          },
          "execution_count": 37
        }
      ]
    },
    {
      "cell_type": "code",
      "metadata": {
        "colab": {
          "base_uri": "https://localhost:8080/"
        },
        "id": "w6N7-5ZOctnP",
        "outputId": "0b6de164-f414-4f6d-ce2c-c4650f38fd27"
      },
      "source": [
        "MyIntEnum.ONE == 1  # True"
      ],
      "execution_count": 38,
      "outputs": [
        {
          "output_type": "execute_result",
          "data": {
            "text/plain": [
              "True"
            ]
          },
          "metadata": {
            "tags": []
          },
          "execution_count": 38
        }
      ]
    },
    {
      "cell_type": "code",
      "metadata": {
        "colab": {
          "base_uri": "https://localhost:8080/"
        },
        "id": "vprMnohdcuhJ",
        "outputId": "f35defa4-865b-46b0-f27a-096960cf163c"
      },
      "source": [
        "MyEnum.FIRST.value == \"first\"  # True"
      ],
      "execution_count": 39,
      "outputs": [
        {
          "output_type": "execute_result",
          "data": {
            "text/plain": [
              "True"
            ]
          },
          "metadata": {
            "tags": []
          },
          "execution_count": 39
        }
      ]
    },
    {
      "cell_type": "code",
      "metadata": {
        "id": "1v89KFWjcvas"
      },
      "source": [
        "from enum import Enum\n",
        "\n",
        "from django.utils.translation import gettext_lazy as _\n",
        "\n",
        "class MyEnum(Enum):\n",
        "    FIRST = \"first\"\n",
        "    SECOND = \"second\"\n",
        "    THIRD = \"third\"    \n",
        "    \n",
        "    @classmethod\n",
        "    def choices(cls):\n",
        "        return [\n",
        "             (cls.FIRST.value, _('first')),\n",
        "             (cls.SECOND.value, _('second')),\n",
        "             (cls.THIRD.value, _('third'))\n",
        "         ]\n",
        "         \n",
        "# And later in eg. model definiton:   \n",
        "some_field = models.CharField(max_length=10, choices=MyEnum.choices())"
      ],
      "execution_count": 41,
      "outputs": []
    },
    {
      "cell_type": "markdown",
      "metadata": {
        "id": "zhiu56SRc8Gt"
      },
      "source": [
        "# iPython FTW"
      ]
    },
    {
      "cell_type": "code",
      "metadata": {
        "id": "roaaB0dxc399"
      },
      "source": [
        "pip install ipython"
      ],
      "execution_count": 42,
      "outputs": []
    }
  ]
}