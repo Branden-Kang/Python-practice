{
  "nbformat": 4,
  "nbformat_minor": 0,
  "metadata": {
    "colab": {
      "name": "5 Hardest Python Questions.ipynb",
      "provenance": [],
      "collapsed_sections": [],
      "authorship_tag": "ABX9TyN6jvwxegajxGzsHpcuyAQ8"
    },
    "kernelspec": {
      "name": "python3",
      "display_name": "Python 3"
    },
    "language_info": {
      "name": "python"
    }
  },
  "cells": [
    {
      "cell_type": "markdown",
      "source": [
        "[Reference](https://medium.com/codex/5-hardest-python-questions-497a6df140d3)"
      ],
      "metadata": {
        "id": "9w8yJsnz5zO8"
      }
    },
    {
      "cell_type": "markdown",
      "source": [
        "# 1.) round() function"
      ],
      "metadata": {
        "id": "HsV9psrI52V0"
      }
    },
    {
      "cell_type": "code",
      "execution_count": 1,
      "metadata": {
        "colab": {
          "base_uri": "https://localhost:8080/"
        },
        "id": "nv5U__4F5xwy",
        "outputId": "b9e861d1-95c9-4ebd-cbb6-f3ac9e3ecc6c"
      },
      "outputs": [
        {
          "output_type": "stream",
          "name": "stdout",
          "text": [
            "4\n",
            "4\n",
            "2\n"
          ]
        }
      ],
      "source": [
        "print(round(9/2))\n",
        "print(round(7/2))\n",
        "print(round(3/2))"
      ]
    },
    {
      "cell_type": "markdown",
      "source": [
        "# 2.) Instances!"
      ],
      "metadata": {
        "id": "Nrfpxf1Q55mO"
      }
    },
    {
      "cell_type": "code",
      "source": [
        "class A:\n",
        "    ans = 9   \n",
        "    def __init__(self):\n",
        "        self.answer = 10\n",
        "        self.__add__ = lambda x, y: x.answer + y    \n",
        "    \n",
        "    def __add__(self, y):\n",
        "        return self.answer - y\n",
        "print(A() + 4)"
      ],
      "metadata": {
        "colab": {
          "base_uri": "https://localhost:8080/"
        },
        "id": "hoHTop-655QP",
        "outputId": "138aa604-6c9d-470f-d949-f5586c773194"
      },
      "execution_count": 2,
      "outputs": [
        {
          "output_type": "stream",
          "name": "stdout",
          "text": [
            "6\n"
          ]
        }
      ]
    },
    {
      "cell_type": "markdown",
      "source": [
        "# 3.) Where math doesn’t work"
      ],
      "metadata": {
        "id": "SSyzSoZX6BQP"
      }
    },
    {
      "cell_type": "code",
      "source": [
        "print(max(-0.0, 0.0))"
      ],
      "metadata": {
        "colab": {
          "base_uri": "https://localhost:8080/"
        },
        "id": "GuLJ-AXN590X",
        "outputId": "4478848d-6c52-4203-b7bc-91f06e7a0f06"
      },
      "execution_count": 3,
      "outputs": [
        {
          "output_type": "stream",
          "name": "stdout",
          "text": [
            "-0.0\n"
          ]
        }
      ]
    },
    {
      "cell_type": "markdown",
      "source": [
        "# 4.) Lazy Operators"
      ],
      "metadata": {
        "id": "lY9COPpQ6E6A"
      }
    },
    {
      "cell_type": "code",
      "source": [
        "print(all([]))\n",
        "print(any([]))"
      ],
      "metadata": {
        "colab": {
          "base_uri": "https://localhost:8080/"
        },
        "id": "ojdoECYp6De3",
        "outputId": "a79dffe0-87ff-4bba-8881-eb2a6d07a5b8"
      },
      "execution_count": 4,
      "outputs": [
        {
          "output_type": "stream",
          "name": "stdout",
          "text": [
            "True\n",
            "False\n"
          ]
        }
      ]
    },
    {
      "cell_type": "markdown",
      "source": [
        "# 5.) I want -n times more"
      ],
      "metadata": {
        "id": "Nfd6RO396IjI"
      }
    },
    {
      "cell_type": "code",
      "source": [
        "print(\"Can you give 50 claps to this story?\" * (-1))"
      ],
      "metadata": {
        "colab": {
          "base_uri": "https://localhost:8080/"
        },
        "id": "3e0_95B-6GjT",
        "outputId": "188b3d9d-ba50-44ad-a166-3ad6f264e02d"
      },
      "execution_count": 5,
      "outputs": [
        {
          "output_type": "stream",
          "name": "stdout",
          "text": [
            "\n"
          ]
        }
      ]
    }
  ]
}
