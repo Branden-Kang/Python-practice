{
  "nbformat": 4,
  "nbformat_minor": 0,
  "metadata": {
    "colab": {
      "name": "How To Easily Print and Format Tables in Python.ipynb",
      "provenance": [],
      "collapsed_sections": [],
      "authorship_tag": "ABX9TyOERbhqU6qbd1xTmkc3utfi"
    },
    "kernelspec": {
      "name": "python3",
      "display_name": "Python 3"
    },
    "language_info": {
      "name": "python"
    }
  },
  "cells": [
    {
      "cell_type": "markdown",
      "source": [
        "[Reference](https://blog.devgenius.io/how-to-easily-print-and-format-tables-in-python-18bbe2e59f5f)"
      ],
      "metadata": {
        "id": "1HrHhOft7FMn"
      }
    },
    {
      "cell_type": "markdown",
      "source": [
        "# 1. Tabulate library\n"
      ],
      "metadata": {
        "id": "wwhx90yd7IPT"
      }
    },
    {
      "cell_type": "code",
      "execution_count": 1,
      "metadata": {
        "colab": {
          "base_uri": "https://localhost:8080/"
        },
        "id": "R0l3FPRG6_og",
        "outputId": "213f7677-0fc9-4781-bce5-6564b9a315b5"
      },
      "outputs": [
        {
          "output_type": "stream",
          "name": "stdout",
          "text": [
            "Looking in indexes: https://pypi.org/simple, https://us-python.pkg.dev/colab-wheels/public/simple/\n",
            "Requirement already satisfied: tabulate in /usr/local/lib/python3.7/dist-packages (0.8.10)\n"
          ]
        }
      ],
      "source": [
        "pip install tabulate"
      ]
    },
    {
      "cell_type": "code",
      "source": [
        "from tabulate import tabulate"
      ],
      "metadata": {
        "id": "SlgqPFmB7KhG"
      },
      "execution_count": 2,
      "outputs": []
    },
    {
      "cell_type": "markdown",
      "source": [
        "# 2. Use Tabulate\n"
      ],
      "metadata": {
        "id": "IrNxrjg57LtQ"
      }
    },
    {
      "cell_type": "code",
      "source": [
        "nba_players = [['LeBron James',' Los Angeles Lakers'], ['Kevin Durant', 'Brooklyn Nets'], ['Stephen Curry', 'Golden State Warriors']]\n",
        "print(tabulate(nba_players,headers =['Player','Team']))"
      ],
      "metadata": {
        "colab": {
          "base_uri": "https://localhost:8080/"
        },
        "id": "8PCe-y6r7Kpv",
        "outputId": "9f2faf2b-dcbc-402d-c3ea-4b245ab49e46"
      },
      "execution_count": 3,
      "outputs": [
        {
          "output_type": "stream",
          "name": "stdout",
          "text": [
            "Player         Team\n",
            "-------------  ---------------------\n",
            "LeBron James   Los Angeles Lakers\n",
            "Kevin Durant   Brooklyn Nets\n",
            "Stephen Curry  Golden State Warriors\n"
          ]
        }
      ]
    },
    {
      "cell_type": "markdown",
      "source": [
        "# 3. Format your table\n"
      ],
      "metadata": {
        "id": "cyYYph477PPu"
      }
    },
    {
      "cell_type": "markdown",
      "source": [
        "## a. tablefmt\n"
      ],
      "metadata": {
        "id": "rp3YRcMh72Yt"
      }
    },
    {
      "cell_type": "code",
      "source": [
        "print(tabulate(nba_players,headers =['Player','Team'],tablefmt = 'fancy_grid'))"
      ],
      "metadata": {
        "colab": {
          "base_uri": "https://localhost:8080/"
        },
        "id": "0S3ihTxq7OCJ",
        "outputId": "4c3bdf5b-777e-467e-e568-1f19cb43ec21"
      },
      "execution_count": 4,
      "outputs": [
        {
          "output_type": "stream",
          "name": "stdout",
          "text": [
            "╒═══════════════╤═══════════════════════╕\n",
            "│ Player        │ Team                  │\n",
            "╞═══════════════╪═══════════════════════╡\n",
            "│ LeBron James  │ Los Angeles Lakers    │\n",
            "├───────────────┼───────────────────────┤\n",
            "│ Kevin Durant  │ Brooklyn Nets         │\n",
            "├───────────────┼───────────────────────┤\n",
            "│ Stephen Curry │ Golden State Warriors │\n",
            "╘═══════════════╧═══════════════════════╛\n"
          ]
        }
      ]
    },
    {
      "cell_type": "markdown",
      "source": [
        "## b. Column Alignment\n"
      ],
      "metadata": {
        "id": "_jROnD4-8bbW"
      }
    },
    {
      "cell_type": "code",
      "source": [
        "print(tabulate(nba_players,headers =['Player','Team'],tablefmt = 'fancy_grid',stralign='center'))"
      ],
      "metadata": {
        "colab": {
          "base_uri": "https://localhost:8080/"
        },
        "id": "mPykh9-b8M47",
        "outputId": "e95b0076-98f0-4410-9104-b31ccf11d664"
      },
      "execution_count": 5,
      "outputs": [
        {
          "output_type": "stream",
          "name": "stdout",
          "text": [
            "╒═══════════════╤═══════════════════════╕\n",
            "│    Player     │         Team          │\n",
            "╞═══════════════╪═══════════════════════╡\n",
            "│ LeBron James  │  Los Angeles Lakers   │\n",
            "├───────────────┼───────────────────────┤\n",
            "│ Kevin Durant  │     Brooklyn Nets     │\n",
            "├───────────────┼───────────────────────┤\n",
            "│ Stephen Curry │ Golden State Warriors │\n",
            "╘═══════════════╧═══════════════════════╛\n"
          ]
        }
      ]
    }
  ]
}
