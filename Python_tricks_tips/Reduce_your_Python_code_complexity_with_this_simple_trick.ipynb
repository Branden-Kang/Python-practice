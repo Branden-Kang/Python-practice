{
  "nbformat": 4,
  "nbformat_minor": 0,
  "metadata": {
    "colab": {
      "name": "Reduce your Python code complexity with this simple trick.ipynb",
      "provenance": [],
      "authorship_tag": "ABX9TyO4jQfxv7nfMxljymEPIkbq"
    },
    "kernelspec": {
      "name": "python3",
      "display_name": "Python 3"
    },
    "language_info": {
      "name": "python"
    }
  },
  "cells": [
    {
      "cell_type": "markdown",
      "metadata": {
        "id": "3DeEB8_K-7bS"
      },
      "source": [
        "[Reference](https://isenberg-ran.medium.com/reduce-your-python-code-complexity-with-this-simple-trick-7046b7c54e7a)"
      ]
    },
    {
      "cell_type": "code",
      "metadata": {
        "id": "cSi8lKAW-53l"
      },
      "source": [
        "request1 = {\n",
        "    \"action\": \"create\",\n",
        "    \"customer\": \"customer1\",\n",
        "}\n",
        "\n",
        "request2 = {\n",
        "    \"action\": \"activate\",\n",
        "    \"customer\": \"customer2\",\n",
        "}\n",
        "\n",
        "request3 = {\n",
        "    \"action\": \"suspend\",\n",
        "    \"customer\": \"customer2\",\n",
        "}\n",
        "\n",
        "request4 = {\n",
        "    \"action\": \"delete\",\n",
        "    \"customer\": \"customer2\",\n",
        "}\n",
        "\n",
        "from typing import Any, Dict\n",
        "\n",
        "\n",
        "def function_handler(request: Dict[str, Any]) -> None:\n",
        "    action = request.get(\"action\")\n",
        "    customer_name = request.get(\"customer\")\n",
        "    # validate input\n",
        "    \n",
        "    if action == \"create\":\n",
        "        _handle_create_request(customer_name)\n",
        "    elif action == \"activate\":\n",
        "        _handle_activate_request(customer_name)\n",
        "    elif action == \"suspend\":\n",
        "        _handle_suspend_suspend(customer_name)\n",
        "    elif action == \"delete\":\n",
        "        _handle_delete_request(customer_name)\n",
        "\n",
        "\n",
        "def _handle_create_request(customer_name: str) -> None:\n",
        "    # do something related to create\n",
        "    return\n",
        "\n",
        "\n",
        "def _handle_activate_request(customer_name: str) -> None:\n",
        "    # do something related to activate\n",
        "    return\n",
        "\n",
        "\n",
        "def _handle_suspend_suspend(customer_name: str) -> None:\n",
        "    # do something related to suspend\n",
        "    return\n",
        "\n",
        "\n",
        "def _handle_delete_request(customer_name: str) -> None:\n",
        "    # do something related to delete\n",
        "    return"
      ],
      "execution_count": 1,
      "outputs": []
    },
    {
      "cell_type": "code",
      "metadata": {
        "id": "m4pzBhAq_Aph"
      },
      "source": [
        "from typing import Any, Dict\n",
        "\n",
        "ACTION_MAPPING = {\n",
        "    \"create\": _handle_create_request,\n",
        "    \"activate\": _handle_activate_request,\n",
        "    \"suspend\": _handle_suspend_suspend,\n",
        "    \"delete\": _handle_delete_request,\n",
        "}\n",
        "\n",
        "def function_handler(request: Dict[str, Any]) -> None:\n",
        "    action = request.get(\"action\")\n",
        "    customer_name = request.get(\"customer\")\n",
        "    # validate input\n",
        "    _handle_request(action, customer_name)\n",
        "\n",
        "\n",
        "def _handle_request(action: str, customer_name: str) -> None:\n",
        "    action_handler = ACTION_MAPPING.get(action)\n",
        "    # handle action\n",
        "    action_handler(customer_name)\n",
        "\n",
        "\n",
        "def _handle_create_request(customer_name: str) -> None:\n",
        "    # do something related to create\n",
        "    return\n",
        "\n",
        "\n",
        "def _handle_activate_request(customer_name: str) -> None:\n",
        "    # do something related to activate\n",
        "    return\n",
        "\n",
        "\n",
        "def _handle_suspend_suspend(customer_name: str) -> None:\n",
        "    # do something related to suspend\n",
        "    return\n",
        "\n",
        "\n",
        "def _handle_delete_request(customer_name: str) -> None:\n",
        "    # do something related to delete\n",
        "    return"
      ],
      "execution_count": 2,
      "outputs": []
    }
  ]
}