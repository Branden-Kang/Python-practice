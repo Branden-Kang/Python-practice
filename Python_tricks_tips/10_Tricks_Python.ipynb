{
  "nbformat": 4,
  "nbformat_minor": 0,
  "metadata": {
    "colab": {
      "name": "10 Tricks Python.ipynb",
      "provenance": [],
      "authorship_tag": "ABX9TyP/y2pONjV7dCaMy2ECHw5s"
    },
    "kernelspec": {
      "name": "python3",
      "display_name": "Python 3"
    }
  },
  "cells": [
    {
      "cell_type": "markdown",
      "metadata": {
        "id": "K3-3_ZUKyRC5",
        "colab_type": "text"
      },
      "source": [
        "[Reference](https://towardsdatascience.com/write-better-python-code-with-these-10-tricks-30b7018e247a)"
      ]
    },
    {
      "cell_type": "markdown",
      "metadata": {
        "id": "TOC-y6b_yTSS",
        "colab_type": "text"
      },
      "source": [
        "# 1. Negative Indexing"
      ]
    },
    {
      "cell_type": "code",
      "metadata": {
        "id": "iVqrQkcTyOoh",
        "colab_type": "code",
        "colab": {
          "base_uri": "https://localhost:8080/",
          "height": 68
        },
        "outputId": "5ee1e38e-e09a-4835-b2c0-6702801f2588"
      },
      "source": [
        "# Positive Indexing\n",
        "numbers = [1, 2, 3, 4, 5, 6, 7, 8]\n",
        "print(\"First Number:\", numbers[0])\n",
        "print(\"First Four Numbers:\", numbers[:4])\n",
        "print(\"Odd Numbers:\", numbers[::2])"
      ],
      "execution_count": 1,
      "outputs": [
        {
          "output_type": "stream",
          "text": [
            "First Number: 1\n",
            "First Four Numbers: [1, 2, 3, 4]\n",
            "Odd Numbers: [1, 3, 5, 7]\n"
          ],
          "name": "stdout"
        }
      ]
    },
    {
      "cell_type": "code",
      "metadata": {
        "id": "DPSuPjYMyYYx",
        "colab_type": "code",
        "colab": {
          "base_uri": "https://localhost:8080/",
          "height": 68
        },
        "outputId": "be3dc3c2-98ff-4169-8d87-46b5a70106f0"
      },
      "source": [
        "# Negative Indexing\n",
        "data_shape = (100, 50, 4)\n",
        "names = [\"John\", \"Aaron\", \"Mike\", \"Danny\"]\n",
        "hello = \"Hello World!\"\n",
        "\n",
        "print(data_shape[-1])\n",
        "print(names[-3:-1])\n",
        "print(hello[1:-1:2])"
      ],
      "execution_count": 2,
      "outputs": [
        {
          "output_type": "stream",
          "text": [
            "4\n",
            "['Aaron', 'Mike']\n",
            "el ol\n"
          ],
          "name": "stdout"
        }
      ]
    },
    {
      "cell_type": "markdown",
      "metadata": {
        "id": "RADVbB8KyinU",
        "colab_type": "text"
      },
      "source": [
        "# 2. Check Emptiness of Containers"
      ]
    },
    {
      "cell_type": "code",
      "metadata": {
        "id": "Cz9pUt_tye1z",
        "colab_type": "code",
        "colab": {}
      },
      "source": [
        "# if len(some_list) > 0:\n",
        "#     # do something here when the list is not empty\n",
        "#     pass\n",
        "# else:\n",
        "#     # do something else when the list is empty\n",
        "#     pass"
      ],
      "execution_count": 5,
      "outputs": []
    },
    {
      "cell_type": "code",
      "metadata": {
        "id": "Ml6V0aSDyj83",
        "colab_type": "code",
        "colab": {
          "base_uri": "https://localhost:8080/",
          "height": 85
        },
        "outputId": "7fdaf8b8-a9be-407f-9224-eae97da00a2b"
      },
      "source": [
        "def check_container_empty(container):\n",
        "  if container:\n",
        "    print(f\"{container} has elements.\")\n",
        "  else:\n",
        "    print(f\"{container} doesn't have elements.\")\n",
        "\n",
        "check_container_empty([1, 2, 3])\n",
        "check_container_empty(set())\n",
        "check_container_empty({\"zero\": 0, \"one\": 1})\n",
        "check_container_empty(tuple())"
      ],
      "execution_count": 6,
      "outputs": [
        {
          "output_type": "stream",
          "text": [
            "[1, 2, 3] has elements.\n",
            "set() doesn't have elements.\n",
            "{'zero': 0, 'one': 1} has elements.\n",
            "() doesn't have elements.\n"
          ],
          "name": "stdout"
        }
      ]
    },
    {
      "cell_type": "markdown",
      "metadata": {
        "id": "3AjWBhJRyyoB",
        "colab_type": "text"
      },
      "source": [
        "# 3. Create List of Strings With Split()"
      ]
    },
    {
      "cell_type": "code",
      "metadata": {
        "id": "_i1wI5YryxCF",
        "colab_type": "code",
        "colab": {
          "base_uri": "https://localhost:8080/",
          "height": 34
        },
        "outputId": "041ed346-4164-46aa-d9a4-3280e46621d9"
      },
      "source": [
        "# List of strings\n",
        "columns = ['name', 'age', 'gender', 'address', 'account_type']\n",
        "print(\"* Literals:\", columns)"
      ],
      "execution_count": 7,
      "outputs": [
        {
          "output_type": "stream",
          "text": [
            "* Literals: ['name', 'age', 'gender', 'address', 'account_type']\n"
          ],
          "name": "stdout"
        }
      ]
    },
    {
      "cell_type": "code",
      "metadata": {
        "id": "40i2A-Mhy141",
        "colab_type": "code",
        "colab": {
          "base_uri": "https://localhost:8080/",
          "height": 34
        },
        "outputId": "4c40fadc-032e-43c5-a846-b65bd0ffea7a"
      },
      "source": [
        "columns = 'name age gender address account_type'.split()\n",
        "print(\"* Split with spaces:\", columns)"
      ],
      "execution_count": 8,
      "outputs": [
        {
          "output_type": "stream",
          "text": [
            "* Split with spaces: ['name', 'age', 'gender', 'address', 'account_type']\n"
          ],
          "name": "stdout"
        }
      ]
    },
    {
      "cell_type": "code",
      "metadata": {
        "id": "jeBfSuJ3y381",
        "colab_type": "code",
        "colab": {
          "base_uri": "https://localhost:8080/",
          "height": 34
        },
        "outputId": "b38935fb-3be8-4a38-bf71-6d4ebb24b358"
      },
      "source": [
        "columns = 'name, age, gender, address, account type'.split(', ')\n",
        "print(\"* Split with commas:\", columns)"
      ],
      "execution_count": 9,
      "outputs": [
        {
          "output_type": "stream",
          "text": [
            "* Split with commas: ['name', 'age', 'gender', 'address', 'account type']\n"
          ],
          "name": "stdout"
        }
      ]
    },
    {
      "cell_type": "markdown",
      "metadata": {
        "id": "-JVHw6A_y9VZ",
        "colab_type": "text"
      },
      "source": [
        "# 4. Ternary Expression"
      ]
    },
    {
      "cell_type": "code",
      "metadata": {
        "id": "f_zX-xUny70e",
        "colab_type": "code",
        "colab": {}
      },
      "source": [
        "# # The typical way\n",
        "# if score > 90:\n",
        "#     reward = \"1000 dollars\"\n",
        "# else:\n",
        "#     reward = \"500 dollars\"# Do this instead\n",
        "# reward = \"1000 dollars\" if score > 90 else \"500 dollars\""
      ],
      "execution_count": 11,
      "outputs": []
    },
    {
      "cell_type": "markdown",
      "metadata": {
        "id": "Nnj3PhV7zCq5",
        "colab_type": "text"
      },
      "source": [
        "# 5. With Statement For File Object"
      ]
    },
    {
      "cell_type": "code",
      "metadata": {
        "id": "kZGbY9i1y_RL",
        "colab_type": "code",
        "colab": {}
      },
      "source": [
        "# Create a text file that has the text: Hello World!"
      ],
      "execution_count": 12,
      "outputs": []
    },
    {
      "cell_type": "code",
      "metadata": {
        "id": "DFnpW5QFzD73",
        "colab_type": "code",
        "colab": {
          "base_uri": "https://localhost:8080/",
          "height": 34
        },
        "outputId": "49d809e2-c51d-42dc-994f-1be7c0ed4371"
      },
      "source": [
        "# Open the file and append some new data\n",
        "text_file0 = open(\"hello_world.txt\", \"a\")\n",
        "text_file0.write(\"Hello Python!\")"
      ],
      "execution_count": 13,
      "outputs": [
        {
          "output_type": "execute_result",
          "data": {
            "text/plain": [
              "13"
            ]
          },
          "metadata": {
            "tags": []
          },
          "execution_count": 13
        }
      ]
    },
    {
      "cell_type": "code",
      "metadata": {
        "id": "qbkDgrfpzIBm",
        "colab_type": "code",
        "colab": {
          "base_uri": "https://localhost:8080/",
          "height": 34
        },
        "outputId": "724e50e0-c645-48be-a703-e5f09f96abff"
      },
      "source": [
        "text_file1 = open(\"hello_world.txt\")\n",
        "print(text_file1.read())"
      ],
      "execution_count": 15,
      "outputs": [
        {
          "output_type": "stream",
          "text": [
            "\n"
          ],
          "name": "stdout"
        }
      ]
    },
    {
      "cell_type": "markdown",
      "metadata": {
        "id": "dYjLQRYSzL1A",
        "colab_type": "text"
      },
      "source": [
        "# 6. Evaluate Multiple Conditions"
      ]
    },
    {
      "cell_type": "code",
      "metadata": {
        "id": "UpbZQPD5zJPy",
        "colab_type": "code",
        "colab": {}
      },
      "source": [
        "# # Multiple Comparisons\n",
        "# # The typical way\n",
        "# if a < 4 and a > 1:\n",
        "#     # do something here# Do this instead\n",
        "# if 1 < a < 4:\n",
        "#     # do somerthing here"
      ],
      "execution_count": 17,
      "outputs": []
    },
    {
      "cell_type": "code",
      "metadata": {
        "id": "RVoguuj_zM9M",
        "colab_type": "code",
        "colab": {}
      },
      "source": [
        "# # The typical way\n",
        "# if b == \"Mon\" or b == \"Wed\" or b == \"Fri\" or b == \"Sun\":\n",
        "#     # do something here# Do this instead, you can also specify a tuple (\"Mon\", \"Wed\", \"Fri\", \"Sun\")\n",
        "# if b in \"Mon Wed Fri Sun\".split():\n",
        "#     # do something here"
      ],
      "execution_count": 18,
      "outputs": []
    },
    {
      "cell_type": "code",
      "metadata": {
        "id": "e-tYrIuuzQF3",
        "colab_type": "code",
        "colab": {}
      },
      "source": [
        "# # The typical ways\n",
        "# if a < 10 and b > 5 and c == 4:\n",
        "#     # do somethingif a < 10 or b > 5 or c == 4:\n",
        "#     # do something# Do these instead\n",
        "# if all([a < 10, b > 5, c == 4]):\n",
        "#     # do somethingif any([a < 10, b > 5, c == 4]):\n",
        "#     # do something"
      ],
      "execution_count": 19,
      "outputs": []
    },
    {
      "cell_type": "markdown",
      "metadata": {
        "id": "OpyzoL2KzTiS",
        "colab_type": "text"
      },
      "source": [
        "# 7. Use Default Values in Function Declarations"
      ]
    },
    {
      "cell_type": "code",
      "metadata": {
        "id": "8JIgru9PzRoq",
        "colab_type": "code",
        "colab": {}
      },
      "source": [
        "# # The original form:\n",
        "# def generate_plot(data, image_name):\n",
        "#     \"\"\"This function creates a scatter plot for the data\"\"\"\n",
        "#     # create the plot based on the data\n",
        "#     ...\n",
        "#     if image_name:\n",
        "#         # save the image\n",
        "#         ...# In many cases, we don't need to save the image\n",
        "# generate_plot(data, None)# The one with a default value\n",
        "# def generate_plot(data, image_name=None):\n",
        "#     pass# Now, we can omit the second parameter\n",
        "# generate_plot(data)"
      ],
      "execution_count": 20,
      "outputs": []
    },
    {
      "cell_type": "markdown",
      "metadata": {
        "id": "EZxdoa1xzWxL",
        "colab_type": "text"
      },
      "source": [
        "# 8. Use Counter for Element Counting"
      ]
    },
    {
      "cell_type": "code",
      "metadata": {
        "id": "s0NZaT2LzVTf",
        "colab_type": "code",
        "colab": {
          "base_uri": "https://localhost:8080/",
          "height": 119
        },
        "outputId": "ba292def-2776-45c4-a89d-9c6582c714f6"
      },
      "source": [
        "words = ['an', 'boy', 'girl', 'an', 'boy', 'dog', 'cat', 'Dog', 'CAT', 'an','GIRL', 'AN', 'dog', 'cat', 'cat', 'bag', 'BAG', 'BOY', 'boy', 'an']\n",
        "unique_words = {x.lower() for x in set(words)}\n",
        "for word in unique_words:\n",
        "  print(f\"* Count of {word}: {words.count(word)}\")"
      ],
      "execution_count": 21,
      "outputs": [
        {
          "output_type": "stream",
          "text": [
            "* Count of girl: 1\n",
            "* Count of boy: 3\n",
            "* Count of an: 4\n",
            "* Count of bag: 1\n",
            "* Count of dog: 2\n",
            "* Count of cat: 3\n"
          ],
          "name": "stdout"
        }
      ]
    },
    {
      "cell_type": "code",
      "metadata": {
        "id": "DZuMyYXfzZ_t",
        "colab_type": "code",
        "colab": {
          "base_uri": "https://localhost:8080/",
          "height": 54
        },
        "outputId": "51c2f5a1-3331-4b13-a014-4ba7592a385b"
      },
      "source": [
        "from collections import Counter\n",
        "word_counter = Counter(x.lower() for x in words)\n",
        "print(\"Word Counts:\", word_counter)"
      ],
      "execution_count": 22,
      "outputs": [
        {
          "output_type": "stream",
          "text": [
            "Word Counts: Counter({'an': 5, 'boy': 4, 'cat': 4, 'dog': 3, 'girl': 2, 'bag': 2})\n"
          ],
          "name": "stdout"
        }
      ]
    },
    {
      "cell_type": "code",
      "metadata": {
        "id": "5JoMIF1-zdVJ",
        "colab_type": "code",
        "colab": {
          "base_uri": "https://localhost:8080/",
          "height": 34
        },
        "outputId": "5f5cd41b-179f-4894-85be-939a43746488"
      },
      "source": [
        "# Find out the most common item\n",
        "print(\"Most Frequent:\", word_counter.most_common(1))"
      ],
      "execution_count": 23,
      "outputs": [
        {
          "output_type": "stream",
          "text": [
            "Most Frequent: [('an', 5)]\n"
          ],
          "name": "stdout"
        }
      ]
    },
    {
      "cell_type": "code",
      "metadata": {
        "id": "i9UdI8qvzg4k",
        "colab_type": "code",
        "colab": {
          "base_uri": "https://localhost:8080/",
          "height": 34
        },
        "outputId": "bb979dc3-f672-4428-8f38-d51a7b73bc1d"
      },
      "source": [
        "# Find out the most common 2 items\n",
        "print(\"Most Frequent:\", word_counter.most_common(2))"
      ],
      "execution_count": 24,
      "outputs": [
        {
          "output_type": "stream",
          "text": [
            "Most Frequent: [('an', 5), ('boy', 4)]\n"
          ],
          "name": "stdout"
        }
      ]
    },
    {
      "cell_type": "markdown",
      "metadata": {
        "id": "2mgcch3_zj3h",
        "colab_type": "text"
      },
      "source": [
        "# 9. Sorting With Different Order Requirements"
      ]
    },
    {
      "cell_type": "code",
      "metadata": {
        "id": "iP2UDhf4zi14",
        "colab_type": "code",
        "colab": {
          "base_uri": "https://localhost:8080/",
          "height": 51
        },
        "outputId": "68e62dbb-9bda-44a0-95aa-60ef7adebca8"
      },
      "source": [
        "# A list of numbers and strings\n",
        "numbers = [1, 3, 7, 2, 5, 4]\n",
        "words = ['yay', 'bill', 'zen', 'del']\n",
        "# Sort them\n",
        "print(sorted(numbers))\n",
        "print(sorted(words))"
      ],
      "execution_count": 25,
      "outputs": [
        {
          "output_type": "stream",
          "text": [
            "[1, 2, 3, 4, 5, 7]\n",
            "['bill', 'del', 'yay', 'zen']\n"
          ],
          "name": "stdout"
        }
      ]
    },
    {
      "cell_type": "code",
      "metadata": {
        "id": "xsb7ny1EzpPR",
        "colab_type": "code",
        "colab": {
          "base_uri": "https://localhost:8080/",
          "height": 51
        },
        "outputId": "591fef32-cf25-499b-9f21-a3ff971c12c5"
      },
      "source": [
        "# Sort them in descending order\n",
        "print(sorted(numbers, reverse=True))\n",
        "print(sorted(words, reverse=True))"
      ],
      "execution_count": 26,
      "outputs": [
        {
          "output_type": "stream",
          "text": [
            "[7, 5, 4, 3, 2, 1]\n",
            "['zen', 'yay', 'del', 'bill']\n"
          ],
          "name": "stdout"
        }
      ]
    },
    {
      "cell_type": "code",
      "metadata": {
        "id": "trQir4gLzsV6",
        "colab_type": "code",
        "colab": {
          "base_uri": "https://localhost:8080/",
          "height": 153
        },
        "outputId": "79536d9e-8549-4460-b2a8-ad670c1ce98a"
      },
      "source": [
        "# Create a list of tuples\n",
        "grades = [('John', 95), ('Aaron', 99), ('Zack', 97), ('Don', 92), ('Jennifer', 100), ('Abby', 94), ('Zoe', 99), ('Dee', 93)]\n",
        "# Sort by the grades, descending\n",
        "sorted(grades, key=lambda x: x[1], reverse=True)\n",
        "# Sort by the name's initial letter, ascending\n",
        "sorted(grades, key=lambda x: x[0][0])"
      ],
      "execution_count": 27,
      "outputs": [
        {
          "output_type": "execute_result",
          "data": {
            "text/plain": [
              "[('Aaron', 99),\n",
              " ('Abby', 94),\n",
              " ('Don', 92),\n",
              " ('Dee', 93),\n",
              " ('John', 95),\n",
              " ('Jennifer', 100),\n",
              " ('Zack', 97),\n",
              " ('Zoe', 99)]"
            ]
          },
          "metadata": {
            "tags": []
          },
          "execution_count": 27
        }
      ]
    },
    {
      "cell_type": "code",
      "metadata": {
        "id": "rRNfEWYtzzxC",
        "colab_type": "code",
        "colab": {
          "base_uri": "https://localhost:8080/",
          "height": 153
        },
        "outputId": "d685d65a-5157-4b16-84fb-7e6bee7294cc"
      },
      "source": [
        "# Requirement: sort by name initial ascending, and by grades, descending\n",
        "sorted(grades, key=lambda x: (x[0][0], x[1]), reverse=True)"
      ],
      "execution_count": 28,
      "outputs": [
        {
          "output_type": "execute_result",
          "data": {
            "text/plain": [
              "[('Zoe', 99),\n",
              " ('Zack', 97),\n",
              " ('Jennifer', 100),\n",
              " ('John', 95),\n",
              " ('Dee', 93),\n",
              " ('Don', 92),\n",
              " ('Aaron', 99),\n",
              " ('Abby', 94)]"
            ]
          },
          "metadata": {
            "tags": []
          },
          "execution_count": 28
        }
      ]
    },
    {
      "cell_type": "code",
      "metadata": {
        "id": "UjpLuHTkz2kL",
        "colab_type": "code",
        "colab": {
          "base_uri": "https://localhost:8080/",
          "height": 153
        },
        "outputId": "8154ed56-526d-4d83-dc43-77ad106f98e6"
      },
      "source": [
        "sorted(grades, key=lambda x: (x[0][0], x[1]), reverse=False)"
      ],
      "execution_count": 29,
      "outputs": [
        {
          "output_type": "execute_result",
          "data": {
            "text/plain": [
              "[('Abby', 94),\n",
              " ('Aaron', 99),\n",
              " ('Don', 92),\n",
              " ('Dee', 93),\n",
              " ('John', 95),\n",
              " ('Jennifer', 100),\n",
              " ('Zack', 97),\n",
              " ('Zoe', 99)]"
            ]
          },
          "metadata": {
            "tags": []
          },
          "execution_count": 29
        }
      ]
    },
    {
      "cell_type": "code",
      "metadata": {
        "id": "oSLKK3Ncz3r9",
        "colab_type": "code",
        "colab": {
          "base_uri": "https://localhost:8080/",
          "height": 153
        },
        "outputId": "74b46389-9f36-45b2-9a2f-26b5007114e4"
      },
      "source": [
        "sorted(grades, key=lambda x: (x[0][0], -x[1]))"
      ],
      "execution_count": 30,
      "outputs": [
        {
          "output_type": "execute_result",
          "data": {
            "text/plain": [
              "[('Aaron', 99),\n",
              " ('Abby', 94),\n",
              " ('Dee', 93),\n",
              " ('Don', 92),\n",
              " ('Jennifer', 100),\n",
              " ('John', 95),\n",
              " ('Zoe', 99),\n",
              " ('Zack', 97)]"
            ]
          },
          "metadata": {
            "tags": []
          },
          "execution_count": 30
        }
      ]
    },
    {
      "cell_type": "markdown",
      "metadata": {
        "id": "mtdS1qt0z50D",
        "colab_type": "text"
      },
      "source": [
        "# 10. Don’t Forget defaultdict"
      ]
    },
    {
      "cell_type": "code",
      "metadata": {
        "id": "62x2cLhOz41Q",
        "colab_type": "code",
        "colab": {}
      },
      "source": [
        "student = {'name': \"John\", 'age': 18}"
      ],
      "execution_count": 31,
      "outputs": []
    },
    {
      "cell_type": "code",
      "metadata": {
        "id": "-ypZC1Wcz7DO",
        "colab_type": "code",
        "colab": {
          "base_uri": "https://localhost:8080/",
          "height": 198
        },
        "outputId": "d323ab90-e758-4441-c36d-8dded309c230"
      },
      "source": [
        "student['gender']"
      ],
      "execution_count": 32,
      "outputs": [
        {
          "output_type": "error",
          "ename": "KeyError",
          "evalue": "ignored",
          "traceback": [
            "\u001b[0;31m---------------------------------------------------------------------------\u001b[0m",
            "\u001b[0;31mKeyError\u001b[0m                                  Traceback (most recent call last)",
            "\u001b[0;32m<ipython-input-32-2f63fee4905d>\u001b[0m in \u001b[0;36m<module>\u001b[0;34m()\u001b[0m\n\u001b[0;32m----> 1\u001b[0;31m \u001b[0mstudent\u001b[0m\u001b[0;34m[\u001b[0m\u001b[0;34m'gender'\u001b[0m\u001b[0;34m]\u001b[0m\u001b[0;34m\u001b[0m\u001b[0;34m\u001b[0m\u001b[0m\n\u001b[0m",
            "\u001b[0;31mKeyError\u001b[0m: 'gender'"
          ]
        }
      ]
    },
    {
      "cell_type": "code",
      "metadata": {
        "id": "sqLMQpgIz77X",
        "colab_type": "code",
        "colab": {}
      },
      "source": [
        "letters = [\"a\", \"a\", \"c\", \"d\", \"d\", \"c\", \"a\", \"b\"]"
      ],
      "execution_count": 33,
      "outputs": []
    },
    {
      "cell_type": "code",
      "metadata": {
        "id": "_2adtsq8z9ZM",
        "colab_type": "code",
        "colab": {
          "base_uri": "https://localhost:8080/",
          "height": 54
        },
        "outputId": "4b187193-4bda-4aed-e23c-66923b76bbb6"
      },
      "source": [
        "final_dict = {}\n",
        "for letter in letters:\n",
        "  if letter not in final_dict:\n",
        "    final_dict[letter] = []\n",
        "  final_dict[letter].append(letter)\n",
        "print(\"Final Dict:\", final_dict)"
      ],
      "execution_count": 34,
      "outputs": [
        {
          "output_type": "stream",
          "text": [
            "Final Dict: {'a': ['a', 'a', 'a'], 'c': ['c', 'c'], 'd': ['d', 'd'], 'b': ['b']}\n"
          ],
          "name": "stdout"
        }
      ]
    },
    {
      "cell_type": "code",
      "metadata": {
        "id": "jxd0xUnS0Dtu",
        "colab_type": "code",
        "colab": {
          "base_uri": "https://localhost:8080/",
          "height": 54
        },
        "outputId": "3df88c57-f976-4e11-b576-365e591b4486"
      },
      "source": [
        "from collections import defaultdict\n",
        "final_defaultdict = defaultdict(list)\n",
        "for letter in letters:\n",
        "  final_defaultdict[letter].append(letter)\n",
        "print(\"Final Default Dict:\", final_defaultdict)"
      ],
      "execution_count": 35,
      "outputs": [
        {
          "output_type": "stream",
          "text": [
            "Final Default Dict: defaultdict(<class 'list'>, {'a': ['a', 'a', 'a'], 'c': ['c', 'c'], 'd': ['d', 'd'], 'b': ['b']})\n"
          ],
          "name": "stdout"
        }
      ]
    }
  ]
}