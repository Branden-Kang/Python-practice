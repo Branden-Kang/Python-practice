{
  "nbformat": 4,
  "nbformat_minor": 0,
  "metadata": {
    "colab": {
      "name": "10 Useful Python Tricks.ipynb",
      "provenance": [],
      "collapsed_sections": [],
      "authorship_tag": "ABX9TyNV2KEc3ztA6+U2gu64VWi7"
    },
    "kernelspec": {
      "name": "python3",
      "display_name": "Python 3"
    },
    "language_info": {
      "name": "python"
    }
  },
  "cells": [
    {
      "cell_type": "markdown",
      "metadata": {
        "id": "ctfdfubYDsUN"
      },
      "source": [
        "[Reference](https://oliviawl.medium.com/10-useful-python-tricks-check-wether-you-know-them-all-cb97489b6985)"
      ]
    },
    {
      "cell_type": "markdown",
      "metadata": {
        "id": "3ZiCqcNbDvYn"
      },
      "source": [
        "# 1. Merge two dictionaries\n"
      ]
    },
    {
      "cell_type": "code",
      "metadata": {
        "colab": {
          "base_uri": "https://localhost:8080/"
        },
        "id": "9TIcW81VDq6A",
        "outputId": "ab6b94f1-f16f-4078-9263-669022922ded"
      },
      "source": [
        "# using ** to unzip dictionary\n",
        "def merge_dict(dict1, dict2):\n",
        "    merged_dict = {**dict1, **dict2}\n",
        "    return merged_dict\n",
        "dict1 = {\"programming language1\": \"python\"}\n",
        "dict2 = {\"programming language2\": \"java\"}\n",
        "dict3 = merge_dict(dict1, dict2)\n",
        "print(dict3)"
      ],
      "execution_count": null,
      "outputs": [
        {
          "output_type": "stream",
          "name": "stdout",
          "text": [
            "{'programming language1': 'python', 'programming language2': 'java'}\n"
          ]
        }
      ]
    },
    {
      "cell_type": "markdown",
      "metadata": {
        "id": "nhWrH6LGDxmJ"
      },
      "source": [
        "# 2. Chain Comparison\n"
      ]
    },
    {
      "cell_type": "code",
      "metadata": {
        "colab": {
          "base_uri": "https://localhost:8080/"
        },
        "id": "Q0ZJCsTaDwyI",
        "outputId": "3af415f1-e5f5-4a98-fe53-09a066b05ee6"
      },
      "source": [
        "date = \"2021-5-20\"\n",
        "num = 2\n",
        "print(\"2020-5-1\" < date < \"2021-5-31\")\n",
        "print(2 == num > 5)"
      ],
      "execution_count": null,
      "outputs": [
        {
          "output_type": "stream",
          "name": "stdout",
          "text": [
            "True\n",
            "False\n"
          ]
        }
      ]
    },
    {
      "cell_type": "markdown",
      "metadata": {
        "id": "pa0o74FSD1IW"
      },
      "source": [
        "# 3. Find the Most Frequent Element Appeared in the List"
      ]
    },
    {
      "cell_type": "code",
      "metadata": {
        "colab": {
          "base_uri": "https://localhost:8080/"
        },
        "id": "PyfQrFweDz4u",
        "outputId": "cf1ad39a-5908-4db2-a3a1-a675bdf7311b"
      },
      "source": [
        "def most_frequent(list_):\n",
        "    n = max(set(list_), key = list_.count)\n",
        "    return n\n",
        "list_ = [1, 1, 2, 2, 3, 3, 3]\n",
        "print(most_frequent(list_))"
      ],
      "execution_count": null,
      "outputs": [
        {
          "output_type": "stream",
          "name": "stdout",
          "text": [
            "3\n"
          ]
        }
      ]
    },
    {
      "cell_type": "markdown",
      "metadata": {
        "id": "1xnYVVF2D3O8"
      },
      "source": [
        "# 4. Convert two lists to a dictionary\n"
      ]
    },
    {
      "cell_type": "code",
      "metadata": {
        "colab": {
          "base_uri": "https://localhost:8080/"
        },
        "id": "vnydCJQ8D2RD",
        "outputId": "d7906625-4871-4b06-fe34-afe6179a619b"
      },
      "source": [
        "def list_to_dict(key, value):\n",
        "    return dict(zip(key, value))\n",
        "key = [\"name\", \"age\", \"city\"]\n",
        "value = [\"Olivia\", \"24\", \"San Diego\"]\n",
        "print(list_to_dict(key, value))"
      ],
      "execution_count": null,
      "outputs": [
        {
          "output_type": "stream",
          "name": "stdout",
          "text": [
            "{'name': 'Olivia', 'age': '24', 'city': 'San Diego'}\n"
          ]
        }
      ]
    },
    {
      "cell_type": "markdown",
      "metadata": {
        "id": "CIvWGjYUD5iQ"
      },
      "source": [
        "# 5. Return a value to return if the specified key does not exist"
      ]
    },
    {
      "cell_type": "code",
      "metadata": {
        "colab": {
          "base_uri": "https://localhost:8080/"
        },
        "id": "vUIw-EStD4nh",
        "outputId": "33533d25-71cb-46fa-b1de-82e23facf847"
      },
      "source": [
        "dict_ = {'name': 'Olivia', 'age': '24', 'city': 'San Diego'}\n",
        "print(dict_.get('name'),  dict_.get('gender', 'Female')) # 'gender' does not exist in dict_"
      ],
      "execution_count": null,
      "outputs": [
        {
          "output_type": "stream",
          "name": "stdout",
          "text": [
            "Olivia Female\n"
          ]
        }
      ]
    },
    {
      "cell_type": "markdown",
      "metadata": {
        "id": "6-v6WgjFD7Xm"
      },
      "source": [
        "# 6. Filter certain elements in a list\n"
      ]
    },
    {
      "cell_type": "code",
      "metadata": {
        "colab": {
          "base_uri": "https://localhost:8080/"
        },
        "id": "XMvVcdRYD6lK",
        "outputId": "383cda79-4670-4c05-8747-cbf3a92dbae9"
      },
      "source": [
        "# find odd numbers in the list\n",
        "nums = [0, 1, 2, 3, 4, 5, 6, 7, 8] \n",
        "odd_nums = filter(lambda x: x % 2 != 0, nums)\n",
        "print(list(odd_nums))"
      ],
      "execution_count": null,
      "outputs": [
        {
          "output_type": "stream",
          "name": "stdout",
          "text": [
            "[1, 3, 5, 7]\n"
          ]
        }
      ]
    },
    {
      "cell_type": "markdown",
      "metadata": {
        "id": "yoL7nBJXEBRj"
      },
      "source": [
        "# 7. Map functions to every element in the list\n"
      ]
    },
    {
      "cell_type": "code",
      "metadata": {
        "colab": {
          "base_uri": "https://localhost:8080/"
        },
        "id": "V0gJ5eGID8iO",
        "outputId": "ff020dd1-9858-4c51-8508-93e3319bf107"
      },
      "source": [
        "animal_list = [\"dog\", \"dog\", \"dog\", \"cat\", \"cat\", \"cat\", \"panda\"]\n",
        " \n",
        "# here we intend to change all animal names\n",
        "# to upper case and return the same\n",
        "uppered_animals = list(map(lambda animal: str.upper(animal), animal_list))\n",
        " \n",
        "print(uppered_animals)"
      ],
      "execution_count": null,
      "outputs": [
        {
          "output_type": "stream",
          "name": "stdout",
          "text": [
            "['DOG', 'DOG', 'DOG', 'CAT', 'CAT', 'CAT', 'PANDA']\n"
          ]
        }
      ]
    },
    {
      "cell_type": "markdown",
      "metadata": {
        "id": "eC4KSefhEDLq"
      },
      "source": [
        "# 8. Count word frequency\n"
      ]
    },
    {
      "cell_type": "code",
      "metadata": {
        "colab": {
          "base_uri": "https://localhost:8080/"
        },
        "id": "XKz9X-pXECUC",
        "outputId": "be59bad5-4a41-4798-f66b-67d0b26c4544"
      },
      "source": [
        "from collections import Counter\n",
        "animal_list = [\"dog\", \"dog\", \"dog\", \"cat\", \"cat\", \"cat\", \"panda\"]\n",
        "result = Counter(animal_list)\n",
        "print(result)"
      ],
      "execution_count": null,
      "outputs": [
        {
          "output_type": "stream",
          "name": "stdout",
          "text": [
            "Counter({'dog': 3, 'cat': 3, 'panda': 1})\n"
          ]
        }
      ]
    },
    {
      "cell_type": "markdown",
      "metadata": {
        "id": "Gc25E4ioEC-e"
      },
      "source": [
        "# 9. Apply functions with conditions"
      ]
    },
    {
      "cell_type": "code",
      "metadata": {
        "colab": {
          "base_uri": "https://localhost:8080/"
        },
        "id": "nxj7IUFHEG4d",
        "outputId": "6f6f29eb-2eda-441a-c891-70db3e00d147"
      },
      "source": [
        "def add(x, y):\n",
        "    return x+y\n",
        "def divide(x, y):\n",
        "    return x/y\n",
        "x, y = 1, 2\n",
        "result = (add if x > y else divide)(x, y)\n",
        "print(result)"
      ],
      "execution_count": null,
      "outputs": [
        {
          "output_type": "stream",
          "name": "stdout",
          "text": [
            "0.5\n"
          ]
        }
      ]
    },
    {
      "cell_type": "markdown",
      "metadata": {
        "id": "I6MJLdnDEIsp"
      },
      "source": [
        "# 10. Remove duplicated elements in the list\n"
      ]
    },
    {
      "cell_type": "code",
      "metadata": {
        "colab": {
          "base_uri": "https://localhost:8080/"
        },
        "id": "_NNopggIEH6W",
        "outputId": "57c385ce-248b-4b1d-c342-54096abd22f0"
      },
      "source": [
        "# Method 1\n",
        "def remove_duplicate(list_):\n",
        "    return list(set(list_))\n",
        "list_ = [1, 1, 1, \"Olivia\", \"Olivia\", \"John\", \"John\"]\n",
        "print(remove_duplicate(list_))"
      ],
      "execution_count": null,
      "outputs": [
        {
          "output_type": "stream",
          "name": "stdout",
          "text": [
            "[1, 'Olivia', 'John']\n"
          ]
        }
      ]
    },
    {
      "cell_type": "code",
      "metadata": {
        "id": "GabApJc7EKbG",
        "colab": {
          "base_uri": "https://localhost:8080/"
        },
        "outputId": "ec875459-283d-41c4-a1d0-94d690fea147"
      },
      "source": [
        "# Method 2\n",
        "list_ = [1, 1, 1, \"Olivia\", \"Olivia\", \"John\", \"John\"]\n",
        "result = []\n",
        "[result.append(x) for x in list_ if x not in result]\n",
        "print(result)"
      ],
      "execution_count": null,
      "outputs": [
        {
          "output_type": "stream",
          "name": "stdout",
          "text": [
            "[1, 'Olivia', 'John']\n"
          ]
        }
      ]
    }
  ]
}