{
  "nbformat": 4,
  "nbformat_minor": 0,
  "metadata": {
    "colab": {
      "name": "7 Useful Tricks for Python Regex.ipynb",
      "provenance": [],
      "authorship_tag": "ABX9TyMwI1tPO6LBuLgd9ZdHtwBT"
    },
    "kernelspec": {
      "name": "python3",
      "display_name": "Python 3"
    }
  },
  "cells": [
    {
      "cell_type": "markdown",
      "metadata": {
        "id": "tUx2lsPJkBlZ"
      },
      "source": [
        "[Reference](https://towardsdatascience.com/7-useful-tricks-for-python-regex-you-should-know-ec20381e22f2)"
      ]
    },
    {
      "cell_type": "code",
      "metadata": {
        "colab": {
          "base_uri": "https://localhost:8080/",
          "height": 37
        },
        "id": "uT6FMx1Oi-BR",
        "outputId": "789db662-db61-46ce-fa61-1312111365bc"
      },
      "source": [
        "s = 'I\\'m Chris'\n",
        "s"
      ],
      "execution_count": 1,
      "outputs": [
        {
          "output_type": "execute_result",
          "data": {
            "application/vnd.google.colaboratory.intrinsic+json": {
              "type": "string"
            },
            "text/plain": [
              "\"I'm Chris\""
            ]
          },
          "metadata": {
            "tags": []
          },
          "execution_count": 1
        }
      ]
    },
    {
      "cell_type": "code",
      "metadata": {
        "colab": {
          "base_uri": "https://localhost:8080/"
        },
        "id": "mENyNDvIkJzF",
        "outputId": "1b66ba03-bf46-46cb-b682-13009ef70f7c"
      },
      "source": [
        "print('a\\nb')"
      ],
      "execution_count": 2,
      "outputs": [
        {
          "output_type": "stream",
          "text": [
            "a\n",
            "b\n"
          ],
          "name": "stdout"
        }
      ]
    },
    {
      "cell_type": "code",
      "metadata": {
        "colab": {
          "base_uri": "https://localhost:8080/"
        },
        "id": "nhaJ9yd4kLLC",
        "outputId": "c3507627-7643-4029-ada1-a87a034911ea"
      },
      "source": [
        "print(r'a\\nb')"
      ],
      "execution_count": 3,
      "outputs": [
        {
          "output_type": "stream",
          "text": [
            "a\\nb\n"
          ],
          "name": "stdout"
        }
      ]
    },
    {
      "cell_type": "code",
      "metadata": {
        "colab": {
          "base_uri": "https://localhost:8080/"
        },
        "id": "at-kj7VZkMlb",
        "outputId": "fdd81577-e4e8-4d20-e29a-33a648de3885"
      },
      "source": [
        "import re\n",
        "re.search(r'(\\w+)\\s+\\1', 'abc   abc')"
      ],
      "execution_count": 5,
      "outputs": [
        {
          "output_type": "execute_result",
          "data": {
            "text/plain": [
              "<re.Match object; span=(0, 9), match='abc   abc'>"
            ]
          },
          "metadata": {
            "tags": []
          },
          "execution_count": 5
        }
      ]
    },
    {
      "cell_type": "code",
      "metadata": {
        "id": "HwIiu1u4kSTl"
      },
      "source": [
        "re.search('(\\w+)\\s+\\1', 'abc   abc')"
      ],
      "execution_count": 6,
      "outputs": []
    },
    {
      "cell_type": "code",
      "metadata": {
        "colab": {
          "base_uri": "https://localhost:8080/"
        },
        "id": "fjvqpreIkWcf",
        "outputId": "3a9f0933-8cc4-433d-d1ab-28cc187654f0"
      },
      "source": [
        "re.search(r'[a-zA-Z]+', 'AbCdEfG')"
      ],
      "execution_count": 7,
      "outputs": [
        {
          "output_type": "execute_result",
          "data": {
            "text/plain": [
              "<re.Match object; span=(0, 7), match='AbCdEfG'>"
            ]
          },
          "metadata": {
            "tags": []
          },
          "execution_count": 7
        }
      ]
    },
    {
      "cell_type": "code",
      "metadata": {
        "colab": {
          "base_uri": "https://localhost:8080/"
        },
        "id": "lVabQS5ykYf5",
        "outputId": "9ea7d405-9158-49a0-9ae3-44a0d7d75a43"
      },
      "source": [
        "re.search(r'[a-z]+', 'AbCdEfG', re.IGNORECASE)\n",
        "re.search(r'[a-z]+', 'AbCdEfG', re.I)"
      ],
      "execution_count": 8,
      "outputs": [
        {
          "output_type": "execute_result",
          "data": {
            "text/plain": [
              "<re.Match object; span=(0, 7), match='AbCdEfG'>"
            ]
          },
          "metadata": {
            "tags": []
          },
          "execution_count": 8
        }
      ]
    },
    {
      "cell_type": "code",
      "metadata": {
        "colab": {
          "base_uri": "https://localhost:8080/"
        },
        "id": "LKopy3p2kbK_",
        "outputId": "4e535109-6fbc-4672-8941-6df867e3a4d7"
      },
      "source": [
        "re.search(r'''\n",
        "    (\\w+)   # Group 1: Match one or more letters, numbers or underscore\n",
        "    \\s+     # Match one or more whitespaces\n",
        "    \\1      # Match the Group 1 whatever it is\n",
        "''', 'abc   abc', re.VERBOSE)"
      ],
      "execution_count": 9,
      "outputs": [
        {
          "output_type": "execute_result",
          "data": {
            "text/plain": [
              "<re.Match object; span=(0, 9), match='abc   abc'>"
            ]
          },
          "metadata": {
            "tags": []
          },
          "execution_count": 9
        }
      ]
    },
    {
      "cell_type": "code",
      "metadata": {
        "colab": {
          "base_uri": "https://localhost:8080/",
          "height": 37
        },
        "id": "kFOWmf8XksfJ",
        "outputId": "520e7800-65bd-4cf2-c2b5-2c38e8783bda"
      },
      "source": [
        "re.sub(r'\\d', '*', 'User\\'s mobile number is 1234567890')"
      ],
      "execution_count": 10,
      "outputs": [
        {
          "output_type": "execute_result",
          "data": {
            "application/vnd.google.colaboratory.intrinsic+json": {
              "type": "string"
            },
            "text/plain": [
              "\"User's mobile number is **********\""
            ]
          },
          "metadata": {
            "tags": []
          },
          "execution_count": 10
        }
      ]
    },
    {
      "cell_type": "code",
      "metadata": {
        "id": "owxO7gPMkw1_"
      },
      "source": [
        "def hide_reserve_3(s):\n",
        "    return '*' * (len(s[0])-3) + s[0][-3:]"
      ],
      "execution_count": 11,
      "outputs": []
    },
    {
      "cell_type": "code",
      "metadata": {
        "colab": {
          "base_uri": "https://localhost:8080/",
          "height": 37
        },
        "id": "vPp2fa21k0KL",
        "outputId": "01e2cd5a-0b2e-434c-cb40-fd1e9749e8e9"
      },
      "source": [
        "re.sub(r'\\d+', hide_reserve_3, 'User\\'s mobile number is 1234567890')"
      ],
      "execution_count": 12,
      "outputs": [
        {
          "output_type": "execute_result",
          "data": {
            "application/vnd.google.colaboratory.intrinsic+json": {
              "type": "string"
            },
            "text/plain": [
              "\"User's mobile number is *******890\""
            ]
          },
          "metadata": {
            "tags": []
          },
          "execution_count": 12
        }
      ]
    },
    {
      "cell_type": "code",
      "metadata": {
        "colab": {
          "base_uri": "https://localhost:8080/",
          "height": 37
        },
        "id": "kDrzAzYdk4p-",
        "outputId": "14837f9e-1206-4ab8-8e7e-08318546d5d8"
      },
      "source": [
        "re.sub(r'\\d+', lambda s: '*' * (len(s[0])-3) + s[0][-3:], 'User\\'s mobile number is 1234567890')"
      ],
      "execution_count": 13,
      "outputs": [
        {
          "output_type": "execute_result",
          "data": {
            "application/vnd.google.colaboratory.intrinsic+json": {
              "type": "string"
            },
            "text/plain": [
              "\"User's mobile number is *******890\""
            ]
          },
          "metadata": {
            "tags": []
          },
          "execution_count": 13
        }
      ]
    },
    {
      "cell_type": "code",
      "metadata": {
        "id": "sOaSSVNyk7aF"
      },
      "source": [
        "pattern = re.compile('abc')"
      ],
      "execution_count": 14,
      "outputs": []
    },
    {
      "cell_type": "code",
      "metadata": {
        "colab": {
          "base_uri": "https://localhost:8080/"
        },
        "id": "1FHJoiMNk-g2",
        "outputId": "4376f9e9-8983-4c97-994d-718319d0d7dd"
      },
      "source": [
        "pattern.search('abc abc')"
      ],
      "execution_count": 15,
      "outputs": [
        {
          "output_type": "execute_result",
          "data": {
            "text/plain": [
              "<re.Match object; span=(0, 3), match='abc'>"
            ]
          },
          "metadata": {
            "tags": []
          },
          "execution_count": 15
        }
      ]
    },
    {
      "cell_type": "code",
      "metadata": {
        "colab": {
          "base_uri": "https://localhost:8080/"
        },
        "id": "ToyAGqellAHJ",
        "outputId": "3f056933-2e14-4c7a-fc9a-04bbcf6ec781"
      },
      "source": [
        "pattern.match('abcdef')"
      ],
      "execution_count": 16,
      "outputs": [
        {
          "output_type": "execute_result",
          "data": {
            "text/plain": [
              "<re.Match object; span=(0, 3), match='abc'>"
            ]
          },
          "metadata": {
            "tags": []
          },
          "execution_count": 16
        }
      ]
    },
    {
      "cell_type": "code",
      "metadata": {
        "colab": {
          "base_uri": "https://localhost:8080/"
        },
        "id": "RxukcjIXlDbZ",
        "outputId": "4227ee7d-c05f-4052-9e4d-ec37fcea65af"
      },
      "source": [
        "pattern.findall('abc def abc')"
      ],
      "execution_count": 17,
      "outputs": [
        {
          "output_type": "execute_result",
          "data": {
            "text/plain": [
              "['abc', 'abc']"
            ]
          },
          "metadata": {
            "tags": []
          },
          "execution_count": 17
        }
      ]
    },
    {
      "cell_type": "code",
      "metadata": {
        "colab": {
          "base_uri": "https://localhost:8080/"
        },
        "id": "8v9MiSAelGBK",
        "outputId": "a99e64b8-f102-46ba-9749-48bfc952f02f"
      },
      "source": [
        "re.match(\n",
        "    r\"My name is (?P<first_name>\\w+) (?P<last_name>\\w+) and I like (?P<preference>\\w+).\", \n",
        "    \"My name is Christopher Tao and I like Python.\"\n",
        ").groupdict()"
      ],
      "execution_count": 18,
      "outputs": [
        {
          "output_type": "execute_result",
          "data": {
            "text/plain": [
              "{'first_name': 'Christopher', 'last_name': 'Tao', 'preference': 'Python'}"
            ]
          },
          "metadata": {
            "tags": []
          },
          "execution_count": 18
        }
      ]
    },
    {
      "cell_type": "code",
      "metadata": {
        "colab": {
          "base_uri": "https://localhost:8080/",
          "height": 37
        },
        "id": "i3E1UmAIlIEx",
        "outputId": "56f1b13f-d802-4fd1-bcf5-5c0fac66ce4f"
      },
      "source": [
        "pair = re.compile(r'''\n",
        "    .*    # Match any number of any charaters\n",
        "    (.)   # Match 1 character, whatever it is (except new-line), this will be the \"group 1\"\n",
        "    .*    # Match any number of any charaters\n",
        "    \\1    # Match the group 1\n",
        "''', re.VERBOSE)\n",
        "\n",
        "pair.match('abcdefgc').groups()[0]"
      ],
      "execution_count": 19,
      "outputs": [
        {
          "output_type": "execute_result",
          "data": {
            "application/vnd.google.colaboratory.intrinsic+json": {
              "type": "string"
            },
            "text/plain": [
              "'c'"
            ]
          },
          "metadata": {
            "tags": []
          },
          "execution_count": 19
        }
      ]
    }
  ]
}