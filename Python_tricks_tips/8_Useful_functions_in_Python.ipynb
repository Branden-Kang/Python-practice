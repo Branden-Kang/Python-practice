{
  "nbformat": 4,
  "nbformat_minor": 0,
  "metadata": {
    "colab": {
      "provenance": [],
      "authorship_tag": "ABX9TyO1WtIEAFFlMn55qSs/u1Sa"
    },
    "kernelspec": {
      "name": "python3",
      "display_name": "Python 3"
    },
    "language_info": {
      "name": "python"
    }
  },
  "cells": [
    {
      "cell_type": "markdown",
      "source": [
        "[Reference](https://towardsdev.com/8-useful-functions-in-python-5aefa1e0d629)"
      ],
      "metadata": {
        "id": "PgBGsF_RWHFc"
      }
    },
    {
      "cell_type": "markdown",
      "source": [
        "# 1. sorted()"
      ],
      "metadata": {
        "id": "pcoLAh5xWMCC"
      }
    },
    {
      "cell_type": "code",
      "execution_count": 28,
      "metadata": {
        "colab": {
          "base_uri": "https://localhost:8080/"
        },
        "id": "Nn7RzAppWCPt",
        "outputId": "f5bcfea9-b7c6-438f-b728-98582741f34a"
      },
      "outputs": [
        {
          "output_type": "stream",
          "name": "stdout",
          "text": [
            "[1, 2, 3, 4, 5, 6]\n"
          ]
        }
      ],
      "source": [
        "sorted_list = sorted([3, 4, 2, 6, 5, 1])\n",
        "print(sorted_list)"
      ]
    },
    {
      "cell_type": "code",
      "source": [
        "sorted_string = sorted(\"string\")\n",
        "print(sorted_string)"
      ],
      "metadata": {
        "colab": {
          "base_uri": "https://localhost:8080/"
        },
        "id": "6HQm2QNuWQNA",
        "outputId": "2b955822-bab2-4e75-a809-5eec2c62f367"
      },
      "execution_count": 29,
      "outputs": [
        {
          "output_type": "stream",
          "name": "stdout",
          "text": [
            "['g', 'i', 'n', 'r', 's', 't']\n"
          ]
        }
      ]
    },
    {
      "cell_type": "code",
      "source": [
        "sorted_list = sorted([3, 4, 2, 6, 5, 1], reverse=True)\n",
        "print(sorted_list)"
      ],
      "metadata": {
        "colab": {
          "base_uri": "https://localhost:8080/"
        },
        "id": "O1M1E3JuWTZH",
        "outputId": "a724ad14-ff09-4b02-c868-4672f0d77814"
      },
      "execution_count": 30,
      "outputs": [
        {
          "output_type": "stream",
          "name": "stdout",
          "text": [
            "[6, 5, 4, 3, 2, 1]\n"
          ]
        }
      ]
    },
    {
      "cell_type": "markdown",
      "source": [
        "# 2. reversed()"
      ],
      "metadata": {
        "id": "N9CTvZgjWZ5s"
      }
    },
    {
      "cell_type": "code",
      "source": [
        "reversed_list = list(reversed([1, 2, 4, 3, 6]))\n",
        "print(reversed_list)"
      ],
      "metadata": {
        "colab": {
          "base_uri": "https://localhost:8080/"
        },
        "id": "pccx6fyEWYVE",
        "outputId": "e425f369-c4d2-4c06-db73-6617695e7cb0"
      },
      "execution_count": 31,
      "outputs": [
        {
          "output_type": "stream",
          "name": "stdout",
          "text": [
            "[6, 3, 4, 2, 1]\n"
          ]
        }
      ]
    },
    {
      "cell_type": "code",
      "source": [
        "reversed_string = list(reversed(\"This is a string\"))\n",
        "print(reversed_string)"
      ],
      "metadata": {
        "colab": {
          "base_uri": "https://localhost:8080/"
        },
        "id": "dTo3vzhvWfi5",
        "outputId": "d0714c54-0c3c-4da6-8ca9-013c806aef46"
      },
      "execution_count": 32,
      "outputs": [
        {
          "output_type": "stream",
          "name": "stdout",
          "text": [
            "['g', 'n', 'i', 'r', 't', 's', ' ', 'a', ' ', 's', 'i', ' ', 's', 'i', 'h', 'T']\n"
          ]
        }
      ]
    },
    {
      "cell_type": "markdown",
      "source": [
        "# 3. map()"
      ],
      "metadata": {
        "id": "gV26fGUWWk3q"
      }
    },
    {
      "cell_type": "code",
      "source": [
        "squared = map(lambda x : x*x, [1,2,3,4,5])\n",
        "print(squared)\n",
        "print(list(squared))"
      ],
      "metadata": {
        "colab": {
          "base_uri": "https://localhost:8080/"
        },
        "id": "YYvIc45sWjw5",
        "outputId": "0d76e5f6-825e-41e5-dd79-1c41fa336ab0"
      },
      "execution_count": 33,
      "outputs": [
        {
          "output_type": "stream",
          "name": "stdout",
          "text": [
            "<map object at 0x7f8876f07990>\n",
            "[1, 4, 9, 16, 25]\n"
          ]
        }
      ]
    },
    {
      "cell_type": "code",
      "source": [
        "squared = list(map(lambda x: x.upper(), 'python'))\n",
        "print(squared)"
      ],
      "metadata": {
        "colab": {
          "base_uri": "https://localhost:8080/"
        },
        "id": "sfTKpCtwWqhW",
        "outputId": "3ee46259-bca1-4398-98b8-30983efd4944"
      },
      "execution_count": 34,
      "outputs": [
        {
          "output_type": "stream",
          "name": "stdout",
          "text": [
            "['P', 'Y', 'T', 'H', 'O', 'N']\n"
          ]
        }
      ]
    },
    {
      "cell_type": "code",
      "source": [
        "def square(x):\n",
        "    return x*x\n",
        "\n",
        "squared = list(map(square, [1,2,3,4,5]))\n",
        "print(squared)"
      ],
      "metadata": {
        "colab": {
          "base_uri": "https://localhost:8080/"
        },
        "id": "5Wj6zG_MWu0i",
        "outputId": "0c651c2b-a226-45c9-92c4-946b580477c0"
      },
      "execution_count": 35,
      "outputs": [
        {
          "output_type": "stream",
          "name": "stdout",
          "text": [
            "[1, 4, 9, 16, 25]\n"
          ]
        }
      ]
    },
    {
      "cell_type": "markdown",
      "source": [
        "# 4. filter()"
      ],
      "metadata": {
        "id": "HnzrAq2qW5cE"
      }
    },
    {
      "cell_type": "code",
      "source": [
        "l = [1,2,3,4,5]\n",
        "answer = filter(lambda x: x%2 == 0, l)\n",
        "print(answer)\n",
        "print(list(answer))"
      ],
      "metadata": {
        "colab": {
          "base_uri": "https://localhost:8080/"
        },
        "id": "CZnAuKrXW206",
        "outputId": "2a8badf2-f57e-4901-a6ff-0f7b94b2a793"
      },
      "execution_count": 36,
      "outputs": [
        {
          "output_type": "stream",
          "name": "stdout",
          "text": [
            "<filter object at 0x7f8876f4a310>\n",
            "[2, 4]\n"
          ]
        }
      ]
    },
    {
      "cell_type": "code",
      "source": [
        "l = \"Some random text\"\n",
        "answer = filter(lambda x: x in 'aeiou', l)\n",
        "print(answer)\n",
        "print(list(answer))"
      ],
      "metadata": {
        "colab": {
          "base_uri": "https://localhost:8080/"
        },
        "id": "BFp3eP0VXA5p",
        "outputId": "3848a336-df46-40d3-82f3-2aa8cd54cfa7"
      },
      "execution_count": 37,
      "outputs": [
        {
          "output_type": "stream",
          "name": "stdout",
          "text": [
            "<filter object at 0x7f8876f4aa90>\n",
            "['o', 'e', 'a', 'o', 'e']\n"
          ]
        }
      ]
    },
    {
      "cell_type": "code",
      "source": [
        "l = [0,1,2,3,4,0,5,6]\n",
        "answer = filter(None, l)\n",
        "print(list(answer))"
      ],
      "metadata": {
        "colab": {
          "base_uri": "https://localhost:8080/"
        },
        "id": "0FJth6tGXJkX",
        "outputId": "af409e6a-3122-4392-806f-dbc42561d8cd"
      },
      "execution_count": 38,
      "outputs": [
        {
          "output_type": "stream",
          "name": "stdout",
          "text": [
            "[1, 2, 3, 4, 5, 6]\n"
          ]
        }
      ]
    },
    {
      "cell_type": "markdown",
      "source": [
        "# 5. enumerate()"
      ],
      "metadata": {
        "id": "adIaynB6XSxq"
      }
    },
    {
      "cell_type": "code",
      "source": [
        "months = [\"January\", \"February\", \"March\", \"April\", \"May\", \"June\", \"July\", \"August\", \"September\", \"October\", \"November\",\n",
        "          \"December\"]\n",
        "\n",
        "print(list(enumerate(months)))"
      ],
      "metadata": {
        "colab": {
          "base_uri": "https://localhost:8080/"
        },
        "id": "8oasXDyKXRno",
        "outputId": "c5674640-4c70-4cb9-af3d-4dedc2308f1c"
      },
      "execution_count": 39,
      "outputs": [
        {
          "output_type": "stream",
          "name": "stdout",
          "text": [
            "[(0, 'January'), (1, 'February'), (2, 'March'), (3, 'April'), (4, 'May'), (5, 'June'), (6, 'July'), (7, 'August'), (8, 'September'), (9, 'October'), (10, 'November'), (11, 'December')]\n"
          ]
        }
      ]
    },
    {
      "cell_type": "code",
      "source": [
        "months = [\"January\", \"February\", \"March\", \"April\", \"May\", \"June\", \"July\", \"August\", \"September\", \"October\", \"November\",\n",
        "          \"December\"]\n",
        "\n",
        "print(list(enumerate(months, start=1)))"
      ],
      "metadata": {
        "colab": {
          "base_uri": "https://localhost:8080/"
        },
        "id": "xtntSJSaXgvI",
        "outputId": "2a4c288e-168d-4304-d5ed-b626549afe8d"
      },
      "execution_count": 40,
      "outputs": [
        {
          "output_type": "stream",
          "name": "stdout",
          "text": [
            "[(1, 'January'), (2, 'February'), (3, 'March'), (4, 'April'), (5, 'May'), (6, 'June'), (7, 'July'), (8, 'August'), (9, 'September'), (10, 'October'), (11, 'November'), (12, 'December')]\n"
          ]
        }
      ]
    },
    {
      "cell_type": "markdown",
      "source": [
        "# 6. min()/max()"
      ],
      "metadata": {
        "id": "pxtr2dVtXk3C"
      }
    },
    {
      "cell_type": "code",
      "source": [
        "l = [1,2,3,4,5,6,7,8,9,10]\n",
        "print(min(l))\n",
        "print(max(l))"
      ],
      "metadata": {
        "colab": {
          "base_uri": "https://localhost:8080/"
        },
        "id": "XMac7d6EXjTy",
        "outputId": "e3ffa3c0-191d-4ef8-f746-ba444c62f0c0"
      },
      "execution_count": 41,
      "outputs": [
        {
          "output_type": "stream",
          "name": "stdout",
          "text": [
            "1\n",
            "10\n"
          ]
        }
      ]
    },
    {
      "cell_type": "code",
      "source": [
        "d = {'a':1, 'b':2, 'c':3, 'd':4, 'e':5}\n",
        "print(min(d))\n",
        "print(max(d))"
      ],
      "metadata": {
        "colab": {
          "base_uri": "https://localhost:8080/"
        },
        "id": "4iWC5Co3Xo1d",
        "outputId": "50733588-7971-45f8-c24a-f494782ba22b"
      },
      "execution_count": 42,
      "outputs": [
        {
          "output_type": "stream",
          "name": "stdout",
          "text": [
            "a\n",
            "e\n"
          ]
        }
      ]
    },
    {
      "cell_type": "code",
      "source": [
        "d = {'a':1, 'b':2, 'c':3, 'd':4, 'e':5}\n",
        "print(min(d.values()))\n",
        "print(max(d.values()))"
      ],
      "metadata": {
        "colab": {
          "base_uri": "https://localhost:8080/"
        },
        "id": "fRXV8KtBXvy_",
        "outputId": "d6a0e966-f30f-4c99-88e8-4955662b3e94"
      },
      "execution_count": 43,
      "outputs": [
        {
          "output_type": "stream",
          "name": "stdout",
          "text": [
            "1\n",
            "5\n"
          ]
        }
      ]
    },
    {
      "cell_type": "code",
      "source": [
        "d = {'a':'Trial', 'b':'Text', 'c':'For', 'd':'Mi', 'e':'A'}\n",
        "print(min(d.values(), key=len))\n",
        "print(max(d.values(), key=len))"
      ],
      "metadata": {
        "colab": {
          "base_uri": "https://localhost:8080/"
        },
        "id": "twVmkGJ9Xzug",
        "outputId": "471d43ab-1514-4754-b615-acdd6067ef7b"
      },
      "execution_count": 44,
      "outputs": [
        {
          "output_type": "stream",
          "name": "stdout",
          "text": [
            "A\n",
            "Trial\n"
          ]
        }
      ]
    },
    {
      "cell_type": "code",
      "source": [
        "d = {}\n",
        "print(max(d.values(), default=None))"
      ],
      "metadata": {
        "colab": {
          "base_uri": "https://localhost:8080/"
        },
        "id": "xwffBcZ5X-5K",
        "outputId": "9ac638c9-3b4f-48b5-dd7f-0ec980c82762"
      },
      "execution_count": 45,
      "outputs": [
        {
          "output_type": "stream",
          "name": "stdout",
          "text": [
            "None\n"
          ]
        }
      ]
    },
    {
      "cell_type": "markdown",
      "source": [
        "# 7. all()/any()"
      ],
      "metadata": {
        "id": "XC57D68HYEBo"
      }
    },
    {
      "cell_type": "code",
      "source": [
        "l = [1,2,3,4,5]\n",
        "print(all(l))\n",
        "print(any(l))"
      ],
      "metadata": {
        "colab": {
          "base_uri": "https://localhost:8080/"
        },
        "id": "SRIVR3fqYC7R",
        "outputId": "6e14f853-30d7-4ccf-c199-7fcf2ec7da5a"
      },
      "execution_count": 46,
      "outputs": [
        {
          "output_type": "stream",
          "name": "stdout",
          "text": [
            "True\n",
            "True\n"
          ]
        }
      ]
    },
    {
      "cell_type": "code",
      "source": [
        "l = [1,2,0,3,4,5]\n",
        "print(all(l))\n",
        "print(any(l))"
      ],
      "metadata": {
        "colab": {
          "base_uri": "https://localhost:8080/"
        },
        "id": "HC7H738mYHUY",
        "outputId": "5928d341-61a9-4f2b-8a0a-2e6b6bc31428"
      },
      "execution_count": 47,
      "outputs": [
        {
          "output_type": "stream",
          "name": "stdout",
          "text": [
            "False\n",
            "True\n"
          ]
        }
      ]
    },
    {
      "cell_type": "code",
      "source": [
        "l = {}\n",
        "print(all(l))\n",
        "print(any(l))"
      ],
      "metadata": {
        "colab": {
          "base_uri": "https://localhost:8080/"
        },
        "id": "02npC97bYKuo",
        "outputId": "733ae88d-31de-4bea-e23e-0031169df558"
      },
      "execution_count": 48,
      "outputs": [
        {
          "output_type": "stream",
          "name": "stdout",
          "text": [
            "True\n",
            "False\n"
          ]
        }
      ]
    },
    {
      "cell_type": "code",
      "source": [
        "l = [0, False, None]\n",
        "print(all(l))\n",
        "print(any(l))"
      ],
      "metadata": {
        "colab": {
          "base_uri": "https://localhost:8080/"
        },
        "id": "7lfpfNCgYMIO",
        "outputId": "7d61394d-23a1-4475-c3c8-920d7fbc8489"
      },
      "execution_count": 49,
      "outputs": [
        {
          "output_type": "stream",
          "name": "stdout",
          "text": [
            "False\n",
            "False\n"
          ]
        }
      ]
    },
    {
      "cell_type": "code",
      "source": [
        "l = [1,2,3,4,5]\n",
        "a = all(x%2 == 0 for x in l)\n",
        "b = any(x%2 == 0 for x in l)\n",
        "print(a)\n",
        "print(b)"
      ],
      "metadata": {
        "colab": {
          "base_uri": "https://localhost:8080/"
        },
        "id": "02YYhvWFYPYU",
        "outputId": "b4ff96de-c788-467e-9e96-12ca9d332105"
      },
      "execution_count": 50,
      "outputs": [
        {
          "output_type": "stream",
          "name": "stdout",
          "text": [
            "False\n",
            "True\n"
          ]
        }
      ]
    },
    {
      "cell_type": "code",
      "source": [
        "l = [0,2,4,6,8]\n",
        "a = all(x%2 == 0 for x in l)\n",
        "b = any(x%2 == 0 for x in l)\n",
        "print(a)\n",
        "print(b)"
      ],
      "metadata": {
        "colab": {
          "base_uri": "https://localhost:8080/"
        },
        "id": "hGsOjd22YWWI",
        "outputId": "da859eae-5b57-435f-9832-a28b74298ed2"
      },
      "execution_count": 51,
      "outputs": [
        {
          "output_type": "stream",
          "name": "stdout",
          "text": [
            "True\n",
            "True\n"
          ]
        }
      ]
    },
    {
      "cell_type": "markdown",
      "source": [
        "# 8. zip()"
      ],
      "metadata": {
        "id": "BCsZBMnjYZvb"
      }
    },
    {
      "cell_type": "code",
      "source": [
        "test_list = [1,2,3]\n",
        "zip_result = zip(test_list)\n",
        "for i in zip_result:\n",
        "    print(i)"
      ],
      "metadata": {
        "colab": {
          "base_uri": "https://localhost:8080/"
        },
        "id": "TdYv9gvMYYtS",
        "outputId": "072d8e10-f600-44ad-a43f-03070906f5f2"
      },
      "execution_count": 53,
      "outputs": [
        {
          "output_type": "stream",
          "name": "stdout",
          "text": [
            "(1,)\n",
            "(2,)\n",
            "(3,)\n"
          ]
        }
      ]
    },
    {
      "cell_type": "code",
      "source": [
        "test_list1 = [1,2,3]\n",
        "test_list2 = ['a','b','c']\n",
        "zip_result = zip(test_list1, test_list2)\n",
        "for i in zip_result:\n",
        "    print(i)"
      ],
      "metadata": {
        "colab": {
          "base_uri": "https://localhost:8080/"
        },
        "id": "6okyOVUdYhK3",
        "outputId": "dbb7048a-d6be-4df5-e87b-02e3a50d62f0"
      },
      "execution_count": 54,
      "outputs": [
        {
          "output_type": "stream",
          "name": "stdout",
          "text": [
            "(1, 'a')\n",
            "(2, 'b')\n",
            "(3, 'c')\n"
          ]
        }
      ]
    }
  ]
}
