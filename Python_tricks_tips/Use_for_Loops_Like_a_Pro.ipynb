{
  "nbformat": 4,
  "nbformat_minor": 0,
  "metadata": {
    "colab": {
      "name": "Use ‘for’ Loops Like a Pro.ipynb",
      "provenance": [],
      "collapsed_sections": [],
      "authorship_tag": "ABX9TyMGjhY6g6Vhf73/5Zk/GxUz"
    },
    "kernelspec": {
      "name": "python3",
      "display_name": "Python 3"
    },
    "language_info": {
      "name": "python"
    }
  },
  "cells": [
    {
      "cell_type": "markdown",
      "source": [
        "[Reference](https://python.plainenglish.io/use-for-loops-like-a-pro-c30daea78ef8)"
      ],
      "metadata": {
        "id": "OusBHc-q8j9E"
      }
    },
    {
      "cell_type": "markdown",
      "source": [
        "# 1. Enumerate\n"
      ],
      "metadata": {
        "id": "oTld-5ed8mHN"
      }
    },
    {
      "cell_type": "code",
      "execution_count": 1,
      "metadata": {
        "colab": {
          "base_uri": "https://localhost:8080/"
        },
        "id": "51cwK-6p8XUl",
        "outputId": "35feba38-b23a-47a1-fb48-c1a2852e75ad"
      },
      "outputs": [
        {
          "output_type": "stream",
          "name": "stdout",
          "text": [
            "1\n",
            "2\n",
            "3\n",
            "4\n"
          ]
        }
      ],
      "source": [
        "my_list = [1, 2, 3, 4]\n",
        "for element in my_list:\n",
        "  print(element)"
      ]
    },
    {
      "cell_type": "code",
      "source": [
        "my_list = [1,2,3,4]\n",
        "for index, element in enumerate(my_list):\n",
        "  print(element, \"is at index:\", index) "
      ],
      "metadata": {
        "colab": {
          "base_uri": "https://localhost:8080/"
        },
        "id": "qZrYzt458oGO",
        "outputId": "f14b18b1-80f9-4c10-85af-338b79637a31"
      },
      "execution_count": 2,
      "outputs": [
        {
          "output_type": "stream",
          "name": "stdout",
          "text": [
            "1 is at index: 0\n",
            "2 is at index: 1\n",
            "3 is at index: 2\n",
            "4 is at index: 3\n"
          ]
        }
      ]
    },
    {
      "cell_type": "markdown",
      "source": [
        "# 2. Iterate over two lists\n"
      ],
      "metadata": {
        "id": "BNfN4hBC8pCz"
      }
    },
    {
      "cell_type": "code",
      "source": [
        "names = [\"John\", \"Sam\", \"Simon\", \"Lisa\"]\n",
        "ages = [24, 31, 45, 27]\n",
        "for (name, age) in zip(names, ages):\n",
        "  print(names, \"is\", age, \"years old\")"
      ],
      "metadata": {
        "colab": {
          "base_uri": "https://localhost:8080/"
        },
        "id": "O3i57hvu8oRu",
        "outputId": "62389b3b-418b-4b82-9002-bf3b9ecd29c6"
      },
      "execution_count": 3,
      "outputs": [
        {
          "output_type": "stream",
          "name": "stdout",
          "text": [
            "['John', 'Sam', 'Simon', 'Lisa'] is 24 years old\n",
            "['John', 'Sam', 'Simon', 'Lisa'] is 31 years old\n",
            "['John', 'Sam', 'Simon', 'Lisa'] is 45 years old\n",
            "['John', 'Sam', 'Simon', 'Lisa'] is 27 years old\n"
          ]
        }
      ]
    },
    {
      "cell_type": "markdown",
      "source": [
        "# 3. Iterate over a Dict\n"
      ],
      "metadata": {
        "id": "8ciwFyhh8rsR"
      }
    },
    {
      "cell_type": "code",
      "source": [
        "my_dict = {\"a\": 2, \"b\": 3, \"c\": 4, \"d\": 5}\n",
        "for key in my_dict:\n",
        "  print(key, \"is present in the dictionary\")"
      ],
      "metadata": {
        "colab": {
          "base_uri": "https://localhost:8080/"
        },
        "id": "qy3yb9AN8q8H",
        "outputId": "d1bc95f6-3080-47b7-90d8-bdd2394a64df"
      },
      "execution_count": 4,
      "outputs": [
        {
          "output_type": "stream",
          "name": "stdout",
          "text": [
            "a is present in the dictionary\n",
            "b is present in the dictionary\n",
            "c is present in the dictionary\n",
            "d is present in the dictionary\n"
          ]
        }
      ]
    },
    {
      "cell_type": "markdown",
      "source": [
        "# Values\n"
      ],
      "metadata": {
        "id": "HKYVptqw8tzn"
      }
    },
    {
      "cell_type": "code",
      "source": [
        "my_dict = {\"a\": 2, \"b\": 3, \"c\": 4, \"d\": 5}\n",
        "for val in my_dict.values():\n",
        "  print(\"the dict contain this value:\", val)"
      ],
      "metadata": {
        "colab": {
          "base_uri": "https://localhost:8080/"
        },
        "id": "Ln8-6v3Z8s-s",
        "outputId": "88ed8300-e5fb-416d-ff9c-c0ffe312fa0c"
      },
      "execution_count": 5,
      "outputs": [
        {
          "output_type": "stream",
          "name": "stdout",
          "text": [
            "the dict contain this value: 2\n",
            "the dict contain this value: 3\n",
            "the dict contain this value: 4\n",
            "the dict contain this value: 5\n"
          ]
        }
      ]
    },
    {
      "cell_type": "markdown",
      "source": [
        "# Keys and Values\n"
      ],
      "metadata": {
        "id": "JM2EL9078wG6"
      }
    },
    {
      "cell_type": "code",
      "source": [
        "my_dict = {\"a\": 2, \"b\": 3, \"c\": 4, \"d\": 5}\n",
        "for (key, val) in my_dict.items():\n",
        "  print(key, \"has value\", val)"
      ],
      "metadata": {
        "colab": {
          "base_uri": "https://localhost:8080/"
        },
        "id": "q73sgE-s8u9i",
        "outputId": "9bec35dc-1947-4b8f-987a-f6f963bef957"
      },
      "execution_count": 6,
      "outputs": [
        {
          "output_type": "stream",
          "name": "stdout",
          "text": [
            "a has value 2\n",
            "b has value 3\n",
            "c has value 4\n",
            "d has value 5\n"
          ]
        }
      ]
    },
    {
      "cell_type": "markdown",
      "source": [
        "# 4. Break\n"
      ],
      "metadata": {
        "id": "PE2x9D0J8x2D"
      }
    },
    {
      "cell_type": "code",
      "source": [
        "# my_list = [\"Hello\", \"my\", \"name\", \"is\", \"John\", \"bye\", \"not\", \"add\", \"this\"]\n",
        "# idx = 0\n",
        "# result = \"\"\n",
        "# while idx < len(my_list) and my_list[idx] != \"bye\":\n",
        "#   result += my_list[idx] + \" \"\n",
        "# print(result)"
      ],
      "metadata": {
        "id": "lDo7OMjT8xMV"
      },
      "execution_count": 7,
      "outputs": []
    },
    {
      "cell_type": "code",
      "source": [
        "my_list = [\"Hello\", \"my\", \"name\", \"is\", \"John\", \"bye\", \"not\", \"add\", \"this\"]\n",
        "result = \"\"\n",
        "for word in my_list:\n",
        "  if word == \"bye\":\n",
        "    break\n",
        "  result += word + \" \"\n",
        "print(result)"
      ],
      "metadata": {
        "colab": {
          "base_uri": "https://localhost:8080/"
        },
        "id": "O_pNs9ex8zVF",
        "outputId": "8d944ef0-88bb-475a-cd3e-0a9b4f80facd"
      },
      "execution_count": 8,
      "outputs": [
        {
          "output_type": "stream",
          "name": "stdout",
          "text": [
            "Hello my name is John \n"
          ]
        }
      ]
    },
    {
      "cell_type": "markdown",
      "source": [
        "# 5. Continue\n"
      ],
      "metadata": {
        "id": "zQ17fSVi8271"
      }
    },
    {
      "cell_type": "code",
      "source": [
        "my_list = [\"Hello\", \"my\", \"name\", \"is\", \"John\", \"bye\", \"I\", \"skip\", \"bye\", \"words\"]\n",
        "result = \"\"\n",
        "for word in my_list:\n",
        "  if word != \"bye\":\n",
        "    result += word + \" \"\n",
        "print(result)"
      ],
      "metadata": {
        "colab": {
          "base_uri": "https://localhost:8080/"
        },
        "id": "Y767ylKh81vm",
        "outputId": "3841f7df-0137-4b95-b510-fb03d9d75242"
      },
      "execution_count": 9,
      "outputs": [
        {
          "output_type": "stream",
          "name": "stdout",
          "text": [
            "Hello my name is John I skip words \n"
          ]
        }
      ]
    },
    {
      "cell_type": "code",
      "source": [
        "my_list = [\"Hello\", \"my\", \"name\", \"is\", \"John\", \"bye\", \"I\", \"skip\", \"bye\", \"words\"]\n",
        "result = \"\"\n",
        "for word in my_list:\n",
        "  if word == \"bye\":\n",
        "    continue\n",
        "  result += word + \" \"\n",
        "print(result)"
      ],
      "metadata": {
        "colab": {
          "base_uri": "https://localhost:8080/"
        },
        "id": "2QDaMA3T84pY",
        "outputId": "7853d906-d722-45dc-b5df-dfa61ec70f64"
      },
      "execution_count": 10,
      "outputs": [
        {
          "output_type": "stream",
          "name": "stdout",
          "text": [
            "Hello my name is John I skip words \n"
          ]
        }
      ]
    }
  ]
}
