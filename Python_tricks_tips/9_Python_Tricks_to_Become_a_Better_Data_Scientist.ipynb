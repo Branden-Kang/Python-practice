{
  "nbformat": 4,
  "nbformat_minor": 0,
  "metadata": {
    "colab": {
      "name": "9 Python Tricks to Become a Better Data Scientist.ipynb",
      "provenance": [],
      "authorship_tag": "ABX9TyP6NLzZ97AcxiO82/kfi7iY"
    },
    "kernelspec": {
      "name": "python3",
      "display_name": "Python 3"
    },
    "language_info": {
      "name": "python"
    }
  },
  "cells": [
    {
      "cell_type": "markdown",
      "metadata": {
        "id": "JK3evl7tAjjx"
      },
      "source": [
        "[Reference](https://python.plainenglish.io/9-python-tricks-to-become-a-better-data-scientist-eb26970b4160)"
      ]
    },
    {
      "cell_type": "code",
      "metadata": {
        "colab": {
          "base_uri": "https://localhost:8080/"
        },
        "id": "E0v816kgAe8P",
        "outputId": "7c4aa696-bbf7-4d0f-e1d9-e8f73f26e83b"
      },
      "source": [
        "a = 2\n",
        "b = 3\n",
        "print(a, b)\n",
        "a, b = b, a\n",
        "print(a, b)"
      ],
      "execution_count": 2,
      "outputs": [
        {
          "output_type": "stream",
          "text": [
            "2 3\n",
            "3 2\n"
          ],
          "name": "stdout"
        }
      ]
    },
    {
      "cell_type": "code",
      "metadata": {
        "colab": {
          "base_uri": "https://localhost:8080/"
        },
        "id": "QPVRSMV0AomC",
        "outputId": "933620e6-eb76-4af1-96b3-9f65efd39f90"
      },
      "source": [
        "c = \"hello\"\n",
        "d = \"world\"\n",
        "print(c, d)\n",
        "c, d = d, c\n",
        "print(c, d)"
      ],
      "execution_count": 3,
      "outputs": [
        {
          "output_type": "stream",
          "text": [
            "hello world\n",
            "world hello\n"
          ],
          "name": "stdout"
        }
      ]
    },
    {
      "cell_type": "code",
      "metadata": {
        "colab": {
          "base_uri": "https://localhost:8080/"
        },
        "id": "qXOCsXJ0AmxQ",
        "outputId": "24dc13ce-f2aa-49b9-d403-cc8400abef38"
      },
      "source": [
        "from random import shuffle\n",
        "\n",
        "numbers = [1, 2, 3, 4, 5]\n",
        "shuffle(numbers)\n",
        "\n",
        "print(numbers)"
      ],
      "execution_count": 4,
      "outputs": [
        {
          "output_type": "stream",
          "text": [
            "[2, 4, 3, 1, 5]\n"
          ],
          "name": "stdout"
        }
      ]
    },
    {
      "cell_type": "code",
      "metadata": {
        "colab": {
          "base_uri": "https://localhost:8080/"
        },
        "id": "AIfRwwisAsHU",
        "outputId": "f4fcefe7-021c-4040-f8aa-e84acff234a1"
      },
      "source": [
        "from random import shuffle\n",
        "seasons = ['winter', 'spring', 'summer', 'fall']\n",
        "shuffle(seasons)\n",
        "print(seasons)"
      ],
      "execution_count": 5,
      "outputs": [
        {
          "output_type": "stream",
          "text": [
            "['winter', 'fall', 'spring', 'summer']\n"
          ],
          "name": "stdout"
        }
      ]
    },
    {
      "cell_type": "code",
      "metadata": {
        "colab": {
          "base_uri": "https://localhost:8080/"
        },
        "id": "4iRYuYB6AuVH",
        "outputId": "0380f983-e27f-47fe-d8a2-9e9c73b12b20"
      },
      "source": [
        "from itertools import combinations\n",
        "\n",
        "numbers = [1, 2, 3, 4]\n",
        "combination_numbers = combinations(numbers, 2)\n",
        "\n",
        "print(list(combination_numbers))"
      ],
      "execution_count": 6,
      "outputs": [
        {
          "output_type": "stream",
          "text": [
            "[(1, 2), (1, 3), (1, 4), (2, 3), (2, 4), (3, 4)]\n"
          ],
          "name": "stdout"
        }
      ]
    },
    {
      "cell_type": "code",
      "metadata": {
        "colab": {
          "base_uri": "https://localhost:8080/"
        },
        "id": "my9U363cAw5a",
        "outputId": "551005c2-0c43-496b-d7c8-764f3b1e6adf"
      },
      "source": [
        "from itertools import combinations\n",
        "\n",
        "seasons = ['winter', 'spring', 'summer', 'fall']\n",
        "combination_seasons = combinations(seasons, 3)\n",
        "\n",
        "print(list(combination_seasons))"
      ],
      "execution_count": 7,
      "outputs": [
        {
          "output_type": "stream",
          "text": [
            "[('winter', 'spring', 'summer'), ('winter', 'spring', 'fall'), ('winter', 'summer', 'fall'), ('spring', 'summer', 'fall')]\n"
          ],
          "name": "stdout"
        }
      ]
    },
    {
      "cell_type": "code",
      "metadata": {
        "colab": {
          "base_uri": "https://localhost:8080/"
        },
        "id": "2uGbNSsiAzI7",
        "outputId": "aa2a0063-df75-4253-ef3f-25cecf3ed809"
      },
      "source": [
        "s = \"Parrot\"\n",
        "print(s * 3)"
      ],
      "execution_count": 8,
      "outputs": [
        {
          "output_type": "stream",
          "text": [
            "ParrotParrotParrot\n"
          ],
          "name": "stdout"
        }
      ]
    },
    {
      "cell_type": "code",
      "metadata": {
        "colab": {
          "base_uri": "https://localhost:8080/"
        },
        "id": "iUcWmMEzA0pH",
        "outputId": "ddc33de6-f096-4669-dde2-8a5719902662"
      },
      "source": [
        "print(\"=\" * 25)"
      ],
      "execution_count": 9,
      "outputs": [
        {
          "output_type": "stream",
          "text": [
            "=========================\n"
          ],
          "name": "stdout"
        }
      ]
    },
    {
      "cell_type": "code",
      "metadata": {
        "colab": {
          "base_uri": "https://localhost:8080/"
        },
        "id": "lUamOlHeA2wl",
        "outputId": "612442af-1ebf-409b-c016-1c944ea7c28e"
      },
      "source": [
        "from sys import getsizeof\n",
        "\n",
        "number = 5\n",
        "print(getsizeof(number))"
      ],
      "execution_count": 10,
      "outputs": [
        {
          "output_type": "stream",
          "text": [
            "28\n"
          ],
          "name": "stdout"
        }
      ]
    },
    {
      "cell_type": "code",
      "metadata": {
        "colab": {
          "base_uri": "https://localhost:8080/"
        },
        "id": "wWu2tJLfA4cq",
        "outputId": "619384fe-c6da-44b5-dd92-f929a76327ce"
      },
      "source": [
        "from sys import getsizeof\n",
        "\n",
        "seasons = ['winter', 'spring', 'summer', 'fall']\n",
        "print(getsizeof(seasons))"
      ],
      "execution_count": 11,
      "outputs": [
        {
          "output_type": "stream",
          "text": [
            "104\n"
          ],
          "name": "stdout"
        }
      ]
    },
    {
      "cell_type": "code",
      "metadata": {
        "colab": {
          "base_uri": "https://localhost:8080/"
        },
        "id": "pN0UAiRJA517",
        "outputId": "00f4578a-0b2b-4629-cd7f-6b8c7cc9d2c5"
      },
      "source": [
        "def palindrome(s):\n",
        "    return s == s[::-1]\n",
        "    \n",
        "is_palindrome = palindrome('radar')\n",
        "print(is_palindrome)"
      ],
      "execution_count": 12,
      "outputs": [
        {
          "output_type": "stream",
          "text": [
            "True\n"
          ],
          "name": "stdout"
        }
      ]
    },
    {
      "cell_type": "code",
      "metadata": {
        "colab": {
          "base_uri": "https://localhost:8080/"
        },
        "id": "pKBgXBK_A7nL",
        "outputId": "556704a2-d62b-4f75-ddfb-939cc4f6f49f"
      },
      "source": [
        "def palindrome(s):\n",
        "    return s == s[::-1]\n",
        "    \n",
        "is_palindrome = palindrome('python')\n",
        "print(is_palindrome)"
      ],
      "execution_count": 14,
      "outputs": [
        {
          "output_type": "stream",
          "text": [
            "False\n"
          ],
          "name": "stdout"
        }
      ]
    },
    {
      "cell_type": "code",
      "metadata": {
        "colab": {
          "base_uri": "https://localhost:8080/"
        },
        "id": "3ySDwciGA9TO",
        "outputId": "3a6f6fe2-c7e9-495a-dc20-a79c6096895b"
      },
      "source": [
        "a = 7\n",
        "print(3 < a <= 7)"
      ],
      "execution_count": 15,
      "outputs": [
        {
          "output_type": "stream",
          "text": [
            "True\n"
          ],
          "name": "stdout"
        }
      ]
    },
    {
      "cell_type": "code",
      "metadata": {
        "colab": {
          "base_uri": "https://localhost:8080/"
        },
        "id": "MMG5dpDPA_uJ",
        "outputId": "7e372838-f3cb-4112-d45f-97dd8d9e88ed"
      },
      "source": [
        "a = 2\n",
        "print(3 == a < 5)"
      ],
      "execution_count": 16,
      "outputs": [
        {
          "output_type": "stream",
          "text": [
            "False\n"
          ],
          "name": "stdout"
        }
      ]
    },
    {
      "cell_type": "code",
      "metadata": {
        "colab": {
          "base_uri": "https://localhost:8080/"
        },
        "id": "Ha8q4m4FBBM_",
        "outputId": "07cb2a6a-ed89-4ac8-9218-eb59992db6fa"
      },
      "source": [
        "s = \"This sentence is going to be split.\"\n",
        "\n",
        "s_split = s.split()\n",
        "print(s_split)"
      ],
      "execution_count": 18,
      "outputs": [
        {
          "output_type": "stream",
          "text": [
            "['This', 'sentence', 'is', 'going', 'to', 'be', 'split.']\n"
          ],
          "name": "stdout"
        }
      ]
    },
    {
      "cell_type": "code",
      "metadata": {
        "colab": {
          "base_uri": "https://localhost:8080/"
        },
        "id": "rHtWqpPkBCHo",
        "outputId": "274e8d96-2470-4ed4-c406-a5192eebaab6"
      },
      "source": [
        "s = '11-12-13-14-15'\n",
        "s_split = s.split('-')\n",
        "print(s_split)"
      ],
      "execution_count": 19,
      "outputs": [
        {
          "output_type": "stream",
          "text": [
            "['11', '12', '13', '14', '15']\n"
          ],
          "name": "stdout"
        }
      ]
    },
    {
      "cell_type": "code",
      "metadata": {
        "colab": {
          "base_uri": "https://localhost:8080/"
        },
        "id": "crwbVQn4BEEG",
        "outputId": "6fc30433-e9db-4bbb-e43a-20e4eff99edb"
      },
      "source": [
        "def merge_two_dicts(dict1, dict2):\n",
        "    dict3 = dict1.copy()\n",
        "    dict3.update(dict2)\n",
        "    return dict3\n",
        "    \n",
        "x = {\"A\": 1, \"B\": 2}\n",
        "y = {\"C\": 3, \"D\": 4}\n",
        "z = merge_two_dicts(x, y)\n",
        "\n",
        "print(z)"
      ],
      "execution_count": 20,
      "outputs": [
        {
          "output_type": "stream",
          "text": [
            "{'A': 1, 'B': 2, 'C': 3, 'D': 4}\n"
          ],
          "name": "stdout"
        }
      ]
    },
    {
      "cell_type": "code",
      "metadata": {
        "colab": {
          "base_uri": "https://localhost:8080/"
        },
        "id": "lPHgnKoCBG7d",
        "outputId": "f8189ac2-6cda-405b-c119-5bf998e02645"
      },
      "source": [
        "def merge_two_dicts(dict1, dict2):\n",
        "    dict3 = dict1.copy()\n",
        "    dict3.update(dict2)\n",
        "    return dict3\n",
        "    \n",
        "x = {1: \"These\", 2: \"dictionaries\"}\n",
        "y = {3: \"will be\", 4: \"merged\"}\n",
        "z = merge_two_dicts(x, y)\n",
        "print(z)"
      ],
      "execution_count": 21,
      "outputs": [
        {
          "output_type": "stream",
          "text": [
            "{1: 'These', 2: 'dictionaries', 3: 'will be', 4: 'merged'}\n"
          ],
          "name": "stdout"
        }
      ]
    }
  ]
}