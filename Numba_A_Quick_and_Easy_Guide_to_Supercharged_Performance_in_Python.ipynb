{
  "nbformat": 4,
  "nbformat_minor": 0,
  "metadata": {
    "colab": {
      "provenance": [],
      "authorship_tag": "ABX9TyMvDDrwtTSFadA5zhTvMht0"
    },
    "kernelspec": {
      "name": "python3",
      "display_name": "Python 3"
    },
    "language_info": {
      "name": "python"
    }
  },
  "cells": [
    {
      "cell_type": "markdown",
      "source": [
        "[Reference](https://medium.com/@HeCanThink/numba-a-quick-and-easy-guide-to-supercharged-performance-in-python-734fdfe01ded)"
      ],
      "metadata": {
        "id": "JopBDEwYSTYP"
      }
    },
    {
      "cell_type": "code",
      "execution_count": 1,
      "metadata": {
        "colab": {
          "base_uri": "https://localhost:8080/"
        },
        "id": "-LDEhWx5SJ-F",
        "outputId": "77ee18e5-de3b-423c-f202-2aa070fb9434"
      },
      "outputs": [
        {
          "output_type": "stream",
          "name": "stdout",
          "text": [
            "Requirement already satisfied: numba in /usr/local/lib/python3.10/dist-packages (0.56.4)\n",
            "Requirement already satisfied: llvmlite<0.40,>=0.39.0dev0 in /usr/local/lib/python3.10/dist-packages (from numba) (0.39.1)\n",
            "Requirement already satisfied: numpy<1.24,>=1.18 in /usr/local/lib/python3.10/dist-packages (from numba) (1.23.5)\n",
            "Requirement already satisfied: setuptools in /usr/local/lib/python3.10/dist-packages (from numba) (67.7.2)\n"
          ]
        }
      ],
      "source": [
        "pip install numba"
      ]
    },
    {
      "cell_type": "code",
      "source": [
        "from numba import jit\n",
        "import numpy as np\n",
        "\n",
        "x = np.arange(100).reshape(10, 10)\n",
        "\n",
        "@jit(nopython=True)\n",
        "def go_fast(a):\n",
        "    trace = 0.0\n",
        "    for i in range(a.shape[0]):\n",
        "        trace += np.tanh(a[i, i])\n",
        "    return a + trace\n",
        "\n",
        "print(go_fast(x))"
      ],
      "metadata": {
        "id": "yIH7ZUegSZN-",
        "outputId": "c5c3f4f8-4292-4dc6-e1a3-6475e5ed9f6b",
        "colab": {
          "base_uri": "https://localhost:8080/"
        }
      },
      "execution_count": 2,
      "outputs": [
        {
          "output_type": "stream",
          "name": "stdout",
          "text": [
            "[[  9.  10.  11.  12.  13.  14.  15.  16.  17.  18.]\n",
            " [ 19.  20.  21.  22.  23.  24.  25.  26.  27.  28.]\n",
            " [ 29.  30.  31.  32.  33.  34.  35.  36.  37.  38.]\n",
            " [ 39.  40.  41.  42.  43.  44.  45.  46.  47.  48.]\n",
            " [ 49.  50.  51.  52.  53.  54.  55.  56.  57.  58.]\n",
            " [ 59.  60.  61.  62.  63.  64.  65.  66.  67.  68.]\n",
            " [ 69.  70.  71.  72.  73.  74.  75.  76.  77.  78.]\n",
            " [ 79.  80.  81.  82.  83.  84.  85.  86.  87.  88.]\n",
            " [ 89.  90.  91.  92.  93.  94.  95.  96.  97.  98.]\n",
            " [ 99. 100. 101. 102. 103. 104. 105. 106. 107. 108.]]\n"
          ]
        }
      ]
    },
    {
      "cell_type": "code",
      "source": [
        "from numba import jit\n",
        "import pandas as pd\n",
        "\n",
        "x = {'a': [1, 2, 3], 'b': [20, 30, 40]}\n",
        "\n",
        "@jit\n",
        "def use_pandas(a):\n",
        "    df = pd.DataFrame.from_dict(a)\n",
        "    df += 1\n",
        "    return df.cov()\n",
        "\n",
        "print(use_pandas(x))"
      ],
      "metadata": {
        "id": "RZXzXaJ9SaTQ",
        "outputId": "d18eb85c-f758-4948-dc14-b3b47ce4db83",
        "colab": {
          "base_uri": "https://localhost:8080/"
        }
      },
      "execution_count": 3,
      "outputs": [
        {
          "output_type": "stream",
          "name": "stdout",
          "text": [
            "      a      b\n",
            "a   1.0   10.0\n",
            "b  10.0  100.0\n"
          ]
        },
        {
          "output_type": "stream",
          "name": "stderr",
          "text": [
            "<ipython-input-3-e61b9ba4df1a>:6: NumbaWarning: \n",
            "Compilation is falling back to object mode WITH looplifting enabled because Function \"use_pandas\" failed type inference due to: non-precise type pyobject\n",
            "During: typing of argument at <ipython-input-3-e61b9ba4df1a> (8)\n",
            "\n",
            "File \"<ipython-input-3-e61b9ba4df1a>\", line 8:\n",
            "def use_pandas(a):\n",
            "    df = pd.DataFrame.from_dict(a)\n",
            "    ^\n",
            "\n",
            "  @jit\n",
            "/usr/local/lib/python3.10/dist-packages/numba/core/object_mode_passes.py:151: NumbaWarning: Function \"use_pandas\" was compiled in object mode without forceobj=True.\n",
            "\n",
            "File \"<ipython-input-3-e61b9ba4df1a>\", line 7:\n",
            "@jit\n",
            "def use_pandas(a):\n",
            "^\n",
            "\n",
            "  warnings.warn(errors.NumbaWarning(warn_msg,\n",
            "/usr/local/lib/python3.10/dist-packages/numba/core/object_mode_passes.py:161: NumbaDeprecationWarning: \n",
            "Fall-back from the nopython compilation path to the object mode compilation path has been detected, this is deprecated behaviour.\n",
            "\n",
            "For more information visit https://numba.readthedocs.io/en/stable/reference/deprecation.html#deprecation-of-object-mode-fall-back-behaviour-when-using-jit\n",
            "\n",
            "File \"<ipython-input-3-e61b9ba4df1a>\", line 7:\n",
            "@jit\n",
            "def use_pandas(a):\n",
            "^\n",
            "\n",
            "  warnings.warn(errors.NumbaDeprecationWarning(msg,\n"
          ]
        }
      ]
    }
  ]
}