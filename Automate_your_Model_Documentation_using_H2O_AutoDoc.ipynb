{
  "nbformat": 4,
  "nbformat_minor": 0,
  "metadata": {
    "colab": {
      "name": "Automate your Model Documentation using H2O AutoDoc.ipynb",
      "provenance": [],
      "authorship_tag": "ABX9TyO/iXIkZBCRkV4qPFCjkL+h"
    },
    "kernelspec": {
      "name": "python3",
      "display_name": "Python 3"
    }
  },
  "cells": [
    {
      "cell_type": "markdown",
      "metadata": {
        "id": "PRYPEpX_Cyb7"
      },
      "source": [
        "[Reference](https://towardsdatascience.com/automate-your-model-documentation-using-h2o-autodoc-46ce82701a4d)"
      ]
    },
    {
      "cell_type": "markdown",
      "metadata": {
        "id": "mjoSthBwC01h"
      },
      "source": [
        "![docu](https://miro.medium.com/max/1112/0*Edtw1uZSvSoG2q9W)"
      ]
    },
    {
      "cell_type": "markdown",
      "metadata": {
        "id": "7mm3ik1QDxS8"
      },
      "source": [
        "# 1. H2O AutoDoc for models created in H2O-3"
      ]
    },
    {
      "cell_type": "markdown",
      "metadata": {
        "id": "pw3R7AQqDSLj"
      },
      "source": [
        "Prepare dataset for H2O-3 Algorithms -> Build H2O-3 model -> Render an AutoDoc Report in .docx/.md"
      ]
    },
    {
      "cell_type": "markdown",
      "metadata": {
        "id": "-3pSoD6xDPlF"
      },
      "source": [
        "```python\n",
        "from h2o_autodoc import Config\n",
        "from h2o_autodoc import render_autodoc# get the H2O-3 model object required to create an H2O AutoDoc\n",
        "model = h2o.get_model(“my_gbm_model”)# configure and render an AutoDoc\n",
        "Config = Config(output_path=\"full/path/AutoDoc_H2O3.docx\")\n",
        "render_autodoc(h2o, config, model)\n",
        "```"
      ]
    },
    {
      "cell_type": "markdown",
      "metadata": {
        "id": "nHqbYEg7Dv0h"
      },
      "source": [
        "# 2. H2O AutoDoc for models created in Scikit-learn"
      ]
    },
    {
      "cell_type": "markdown",
      "metadata": {
        "id": "9-MFmNncDfcG"
      },
      "source": [
        "Prepare dataset for Scikit-Learn Algorithms -> Build H2O-3 model -> Render an AutoDoc Report in .docx/.md"
      ]
    },
    {
      "cell_type": "markdown",
      "metadata": {
        "id": "b-YrugNQDjht"
      },
      "source": [
        "```python\n",
        "from h2o_autodoc import Config\n",
        "from h2o_autodoc.scikit.autodoc import render_autodoc# build a logistic regression model\n",
        "model = LogisticRegression()\n",
        "model.fit(X_train, y_train)# configure and render an AutoDoc\n",
        "Config = Config(output_path=\"full/path/AutoDoc_ScikitLearn.docx\")\n",
        "render_autodoc(config, model, X_train, y_train)\n",
        "```"
      ]
    },
    {
      "cell_type": "markdown",
      "metadata": {
        "id": "zSeZUVRrDzAt"
      },
      "source": [
        "# 3. Steam: H2O AutoDoc"
      ]
    },
    {
      "cell_type": "markdown",
      "metadata": {
        "id": "cDk6iRDmD40R"
      },
      "source": [
        "```python\n",
        "import h2osteam\n",
        "from h2osteam.clients import H2oClient# login to steam\n",
        "h2osteam.login(url=\"https://steam.h2o.ai:9555\", username=\"user01\", password=\"token-here\", verify_ssl=True)\n",
        "cluster = H2oClient.get_cluster(\"test-cluster\")from h2osteam import AutoDocConfig# get H2O-3 objects using their keys\n",
        "model = h2o.get_model(\"gbm_model\")\n",
        "train = h2o.get_frame(\"CreditCard_TRAIN\")# use default configuration settings\n",
        "config = AutoDocConfig()# specify the path to the output file\n",
        "output_file_path = \"autodoc_report.docx\"# download an H2O AutoDoc\n",
        "cluster.download_autodoc(model, config, train, output_file_path)\n",
        "```"
      ]
    }
  ]
}