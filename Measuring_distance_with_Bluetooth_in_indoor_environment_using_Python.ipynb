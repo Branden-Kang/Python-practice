{
  "nbformat": 4,
  "nbformat_minor": 0,
  "metadata": {
    "colab": {
      "name": "Measuring distance with Bluetooth in indoor environment using Python.ipynb",
      "provenance": [],
      "authorship_tag": "ABX9TyMoSLjVCczEcfEcEOy09FWZ"
    },
    "kernelspec": {
      "name": "python3",
      "display_name": "Python 3"
    },
    "language_info": {
      "name": "python"
    }
  },
  "cells": [
    {
      "cell_type": "markdown",
      "source": [
        "[Reference](https://blog.devgenius.io/measuring-distance-with-bluetooth-in-indoor-environment-using-python-a36b344f9711)"
      ],
      "metadata": {
        "id": "iAwh9BOZvX2x"
      }
    },
    {
      "cell_type": "code",
      "execution_count": 3,
      "metadata": {
        "id": "G93f0eBQvU_0"
      },
      "outputs": [],
      "source": [
        "import serial\n",
        "import time\n",
        "your_com_port = \"COM18\"  # Change this to the com port your dongle is connected to.\n",
        "connecting_to_dongle = True\n",
        "print(\"Connecting to dongle...\")\n",
        "# Trying to connect to dongle until connected. Make sure the port and baudrate is the same as your dongle.\n",
        "# You can check in the device manager to see what port then right-click and choose properties then the Port Settings\n",
        "# tab to see the other settings\n",
        "while connecting_to_dongle:\n",
        "    try:\n",
        "        console = serial.Serial(\n",
        "            port=your_com_port,\n",
        "            baudrate=57600,\n",
        "            parity=\"N\",\n",
        "            stopbits=1,\n",
        "            bytesize=8,\n",
        "            timeout=0,\n",
        "        )\n",
        "        if console.is_open.__bool__():\n",
        "            connecting_to_dongle = False\n",
        "    except:\n",
        "        print(\"Dongle not connected. Please reconnect Dongle.\")\n",
        "        time.sleep(5)\n",
        "print(\"Connected to Dongle.\")\n",
        "# function to convert rssi to distance in meter\n",
        "def rssiToDistance(rssi):    \n",
        "  n=2\n",
        "  mp=-69\n",
        "  return round(10 ** ((mp - (int(rssi)))/(10 * n)),2)    \n",
        "#put the dongle in dual role, so we can scan for nearby device\n",
        "console.write(str.encode(\"AT+CENTRAL\"))\n",
        "console.write(\"\\r\".encode())\n",
        "print(\"Putting dongle in Central role.\")\n",
        "time.sleep(0.1)\n",
        "# Scan for nearby devices for 3 seconds\n",
        "console.write(str.encode(\"AT+GAPSCAN=3\"))\n",
        "console.write(\"\\r\".encode())\n",
        "time.sleep(0.1)\n",
        "print(\"Looking for nearby Bluetooth devices ...\")\n",
        "dongle_output2 = console.read(console.in_waiting)\n",
        "time.sleep(3)\n",
        "print(\"Scan Complete!\")\n",
        "filtered = []\n",
        "# Filter out unncecssary outputs and keep only the list of devices (also remove index)\n",
        "for dev in dongle_output2.decode().splitlines():\n",
        "    if len(dev)>20:\n",
        "        filtered.append(dev.split(maxsplit=1)[1])\n",
        "# Get unique device by device id and add distance to each raw        \n",
        "seen = set()\n",
        "out = []\n",
        "for elem in filtered:\n",
        "    prefix = elem.split(' ')[1]\n",
        "    if prefix not in seen:\n",
        "        seen.add(prefix)\n",
        "        out.append(elem + \" Distance: \"+str(rssiToDistance(elem.split()[3]))+\" meter\") \n",
        "# sort list by closest device\n",
        "out.sort(key=lambda x:int(x.split()[3]),reverse=True)\n",
        "# print(out)\n",
        "for i in range(0, len(out)):\n",
        "    print (out[i]) \n",
        "time.sleep(0.1)\n",
        "console.close()"
      ]
    }
  ]
}