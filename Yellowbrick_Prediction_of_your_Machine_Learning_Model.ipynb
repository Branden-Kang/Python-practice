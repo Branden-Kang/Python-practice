{
  "nbformat": 4,
  "nbformat_minor": 0,
  "metadata": {
    "colab": {
      "name": "Yellowbrick: Prediction of your Machine Learning Model.ipynb",
      "provenance": [],
      "authorship_tag": "ABX9TyNhTMUoo2n1O42/pl0yu0Sy"
    },
    "kernelspec": {
      "name": "python3",
      "display_name": "Python 3"
    }
  },
  "cells": [
    {
      "cell_type": "markdown",
      "metadata": {
        "id": "neJ-N-TJLrRn",
        "colab_type": "text"
      },
      "source": [
        "[Reference](https://towardsdatascience.com/introduction-to-yellowbrick-a-python-library-to-explain-the-prediction-of-your-machine-learning-d63ecee10ecc)"
      ]
    },
    {
      "cell_type": "code",
      "metadata": {
        "id": "lIkSHx9BLnx-",
        "colab_type": "code",
        "colab": {
          "base_uri": "https://localhost:8080/",
          "height": 224
        },
        "outputId": "749d4a2e-a9d9-4bcd-c3ca-3ad2f8058010"
      },
      "source": [
        "!pip install yellowbrick"
      ],
      "execution_count": 1,
      "outputs": [
        {
          "output_type": "stream",
          "text": [
            "Requirement already satisfied: yellowbrick in /usr/local/lib/python3.6/dist-packages (0.9.1)\n",
            "Requirement already satisfied: scipy>=1.0.0 in /usr/local/lib/python3.6/dist-packages (from yellowbrick) (1.4.1)\n",
            "Requirement already satisfied: numpy>=1.13.0 in /usr/local/lib/python3.6/dist-packages (from yellowbrick) (1.18.5)\n",
            "Requirement already satisfied: scikit-learn>=0.20 in /usr/local/lib/python3.6/dist-packages (from yellowbrick) (0.22.2.post1)\n",
            "Requirement already satisfied: matplotlib!=3.0.0,>=1.5.1 in /usr/local/lib/python3.6/dist-packages (from yellowbrick) (3.2.2)\n",
            "Requirement already satisfied: cycler>=0.10.0 in /usr/local/lib/python3.6/dist-packages (from yellowbrick) (0.10.0)\n",
            "Requirement already satisfied: joblib>=0.11 in /usr/local/lib/python3.6/dist-packages (from scikit-learn>=0.20->yellowbrick) (0.16.0)\n",
            "Requirement already satisfied: python-dateutil>=2.1 in /usr/local/lib/python3.6/dist-packages (from matplotlib!=3.0.0,>=1.5.1->yellowbrick) (2.8.1)\n",
            "Requirement already satisfied: pyparsing!=2.0.4,!=2.1.2,!=2.1.6,>=2.0.1 in /usr/local/lib/python3.6/dist-packages (from matplotlib!=3.0.0,>=1.5.1->yellowbrick) (2.4.7)\n",
            "Requirement already satisfied: kiwisolver>=1.0.1 in /usr/local/lib/python3.6/dist-packages (from matplotlib!=3.0.0,>=1.5.1->yellowbrick) (1.2.0)\n",
            "Requirement already satisfied: six in /usr/local/lib/python3.6/dist-packages (from cycler>=0.10.0->yellowbrick) (1.15.0)\n"
          ],
          "name": "stdout"
        }
      ]
    },
    {
      "cell_type": "code",
      "metadata": {
        "id": "24j-JVXYMA0L",
        "colab_type": "code",
        "colab": {
          "base_uri": "https://localhost:8080/",
          "height": 429
        },
        "outputId": "0eb50408-da2e-4319-c69e-1fa8fbc52d2a"
      },
      "source": [
        "!pip install \"yellowbrick==1.1\""
      ],
      "execution_count": 3,
      "outputs": [
        {
          "output_type": "stream",
          "text": [
            "Collecting yellowbrick==1.1\n",
            "\u001b[?25l  Downloading https://files.pythonhosted.org/packages/13/95/a14e4fdfb8b1c8753bbe74a626e910a98219ef9c87c6763585bbd30d84cf/yellowbrick-1.1-py3-none-any.whl (263kB)\n",
            "\r\u001b[K     |█▎                              | 10kB 6.6MB/s eta 0:00:01\r\u001b[K     |██▌                             | 20kB 1.7MB/s eta 0:00:01\r\u001b[K     |███▊                            | 30kB 2.4MB/s eta 0:00:01\r\u001b[K     |█████                           | 40kB 1.8MB/s eta 0:00:01\r\u001b[K     |██████▏                         | 51kB 2.2MB/s eta 0:00:01\r\u001b[K     |███████▌                        | 61kB 2.6MB/s eta 0:00:01\r\u001b[K     |████████▊                       | 71kB 3.0MB/s eta 0:00:01\r\u001b[K     |██████████                      | 81kB 3.4MB/s eta 0:00:01\r\u001b[K     |███████████▏                    | 92kB 3.8MB/s eta 0:00:01\r\u001b[K     |████████████▍                   | 102kB 3.1MB/s eta 0:00:01\r\u001b[K     |█████████████▊                  | 112kB 3.1MB/s eta 0:00:01\r\u001b[K     |███████████████                 | 122kB 3.1MB/s eta 0:00:01\r\u001b[K     |████████████████▏               | 133kB 3.1MB/s eta 0:00:01\r\u001b[K     |█████████████████▍              | 143kB 3.1MB/s eta 0:00:01\r\u001b[K     |██████████████████▋             | 153kB 3.1MB/s eta 0:00:01\r\u001b[K     |███████████████████▉            | 163kB 3.1MB/s eta 0:00:01\r\u001b[K     |█████████████████████▏          | 174kB 3.1MB/s eta 0:00:01\r\u001b[K     |██████████████████████▍         | 184kB 3.1MB/s eta 0:00:01\r\u001b[K     |███████████████████████▋        | 194kB 3.1MB/s eta 0:00:01\r\u001b[K     |████████████████████████▉       | 204kB 3.1MB/s eta 0:00:01\r\u001b[K     |██████████████████████████      | 215kB 3.1MB/s eta 0:00:01\r\u001b[K     |███████████████████████████▍    | 225kB 3.1MB/s eta 0:00:01\r\u001b[K     |████████████████████████████▋   | 235kB 3.1MB/s eta 0:00:01\r\u001b[K     |█████████████████████████████▉  | 245kB 3.1MB/s eta 0:00:01\r\u001b[K     |███████████████████████████████ | 256kB 3.1MB/s eta 0:00:01\r\u001b[K     |████████████████████████████████| 266kB 3.1MB/s \n",
            "\u001b[?25hRequirement already satisfied: numpy>=1.13.0 in /usr/local/lib/python3.6/dist-packages (from yellowbrick==1.1) (1.18.5)\n",
            "Requirement already satisfied: scipy>=1.0.0 in /usr/local/lib/python3.6/dist-packages (from yellowbrick==1.1) (1.4.1)\n",
            "Requirement already satisfied: cycler>=0.10.0 in /usr/local/lib/python3.6/dist-packages (from yellowbrick==1.1) (0.10.0)\n",
            "Requirement already satisfied: matplotlib!=3.0.0,>=2.0.2 in /usr/local/lib/python3.6/dist-packages (from yellowbrick==1.1) (3.2.2)\n",
            "Requirement already satisfied: scikit-learn>=0.20 in /usr/local/lib/python3.6/dist-packages (from yellowbrick==1.1) (0.22.2.post1)\n",
            "Requirement already satisfied: six in /usr/local/lib/python3.6/dist-packages (from cycler>=0.10.0->yellowbrick==1.1) (1.15.0)\n",
            "Requirement already satisfied: python-dateutil>=2.1 in /usr/local/lib/python3.6/dist-packages (from matplotlib!=3.0.0,>=2.0.2->yellowbrick==1.1) (2.8.1)\n",
            "Requirement already satisfied: pyparsing!=2.0.4,!=2.1.2,!=2.1.6,>=2.0.1 in /usr/local/lib/python3.6/dist-packages (from matplotlib!=3.0.0,>=2.0.2->yellowbrick==1.1) (2.4.7)\n",
            "Requirement already satisfied: kiwisolver>=1.0.1 in /usr/local/lib/python3.6/dist-packages (from matplotlib!=3.0.0,>=2.0.2->yellowbrick==1.1) (1.2.0)\n",
            "Requirement already satisfied: joblib>=0.11 in /usr/local/lib/python3.6/dist-packages (from scikit-learn>=0.20->yellowbrick==1.1) (0.16.0)\n",
            "Installing collected packages: yellowbrick\n",
            "  Found existing installation: yellowbrick 0.9.1\n",
            "    Uninstalling yellowbrick-0.9.1:\n",
            "      Successfully uninstalled yellowbrick-0.9.1\n",
            "Successfully installed yellowbrick-1.1\n"
          ],
          "name": "stdout"
        },
        {
          "output_type": "display_data",
          "data": {
            "application/vnd.colab-display-data+json": {
              "pip_warning": {
                "packages": [
                  "yellowbrick"
                ]
              }
            }
          },
          "metadata": {
            "tags": []
          }
        }
      ]
    },
    {
      "cell_type": "code",
      "metadata": {
        "id": "vpqA5-3mMjyD",
        "colab_type": "code",
        "colab": {}
      },
      "source": [
        "import pandas as pd\n",
        "import numpy as np\n",
        "import matplotlib.pyplot as plt\n",
        "%matplotlib inline\n",
        "from yellowbrick.features import Rank1D\n",
        "import warnings\n",
        "warnings.filterwarnings('ignore')"
      ],
      "execution_count": 8,
      "outputs": []
    },
    {
      "cell_type": "code",
      "metadata": {
        "id": "1d3qmsBXLwXd",
        "colab_type": "code",
        "colab": {
          "base_uri": "https://localhost:8080/",
          "height": 306
        },
        "outputId": "abf664eb-6835-4857-e0fb-034a7ba19d7d"
      },
      "source": [
        "df = pd.read_csv('https://raw.githubusercontent.com/parulnith/Analysing-Machine-Learning-Models-with-Yellowbrick/master/data/occupancy/occupancy.csv')\n",
        "df.head()"
      ],
      "execution_count": 9,
      "outputs": [
        {
          "output_type": "execute_result",
          "data": {
            "text/html": [
              "<div>\n",
              "<style scoped>\n",
              "    .dataframe tbody tr th:only-of-type {\n",
              "        vertical-align: middle;\n",
              "    }\n",
              "\n",
              "    .dataframe tbody tr th {\n",
              "        vertical-align: top;\n",
              "    }\n",
              "\n",
              "    .dataframe thead th {\n",
              "        text-align: right;\n",
              "    }\n",
              "</style>\n",
              "<table border=\"1\" class=\"dataframe\">\n",
              "  <thead>\n",
              "    <tr style=\"text-align: right;\">\n",
              "      <th></th>\n",
              "      <th>datetime</th>\n",
              "      <th>temperature</th>\n",
              "      <th>relative humidity</th>\n",
              "      <th>light</th>\n",
              "      <th>C02</th>\n",
              "      <th>humidity</th>\n",
              "      <th>occupancy</th>\n",
              "    </tr>\n",
              "  </thead>\n",
              "  <tbody>\n",
              "    <tr>\n",
              "      <th>0</th>\n",
              "      <td>2015-02-04 17:51:00</td>\n",
              "      <td>23.18</td>\n",
              "      <td>27.2720</td>\n",
              "      <td>426.0</td>\n",
              "      <td>721.25</td>\n",
              "      <td>0.004793</td>\n",
              "      <td>1</td>\n",
              "    </tr>\n",
              "    <tr>\n",
              "      <th>1</th>\n",
              "      <td>2015-02-04 17:51:59</td>\n",
              "      <td>23.15</td>\n",
              "      <td>27.2675</td>\n",
              "      <td>429.5</td>\n",
              "      <td>714.00</td>\n",
              "      <td>0.004783</td>\n",
              "      <td>1</td>\n",
              "    </tr>\n",
              "    <tr>\n",
              "      <th>2</th>\n",
              "      <td>2015-02-04 17:53:00</td>\n",
              "      <td>23.15</td>\n",
              "      <td>27.2450</td>\n",
              "      <td>426.0</td>\n",
              "      <td>713.50</td>\n",
              "      <td>0.004779</td>\n",
              "      <td>1</td>\n",
              "    </tr>\n",
              "    <tr>\n",
              "      <th>3</th>\n",
              "      <td>2015-02-04 17:54:00</td>\n",
              "      <td>23.15</td>\n",
              "      <td>27.2000</td>\n",
              "      <td>426.0</td>\n",
              "      <td>708.25</td>\n",
              "      <td>0.004772</td>\n",
              "      <td>1</td>\n",
              "    </tr>\n",
              "    <tr>\n",
              "      <th>4</th>\n",
              "      <td>2015-02-04 17:55:00</td>\n",
              "      <td>23.10</td>\n",
              "      <td>27.2000</td>\n",
              "      <td>426.0</td>\n",
              "      <td>704.50</td>\n",
              "      <td>0.004757</td>\n",
              "      <td>1</td>\n",
              "    </tr>\n",
              "  </tbody>\n",
              "</table>\n",
              "</div>"
            ],
            "text/plain": [
              "              datetime  temperature  ...  humidity  occupancy\n",
              "0  2015-02-04 17:51:00        23.18  ...  0.004793          1\n",
              "1  2015-02-04 17:51:59        23.15  ...  0.004783          1\n",
              "2  2015-02-04 17:53:00        23.15  ...  0.004779          1\n",
              "3  2015-02-04 17:54:00        23.15  ...  0.004772          1\n",
              "4  2015-02-04 17:55:00        23.10  ...  0.004757          1\n",
              "\n",
              "[5 rows x 7 columns]"
            ]
          },
          "metadata": {
            "tags": []
          },
          "execution_count": 9
        }
      ]
    },
    {
      "cell_type": "code",
      "metadata": {
        "id": "kju6uEcYLzwN",
        "colab_type": "code",
        "colab": {}
      },
      "source": [
        "feature_names = ['temperature', 'relative humidity', 'light', 'C02','humidity']\n",
        "target_name = 'occupancy'\n",
        "X = df[feature_names].to_numpy()\n",
        "y = df[target_name].to_numpy()"
      ],
      "execution_count": 10,
      "outputs": []
    },
    {
      "cell_type": "code",
      "metadata": {
        "id": "IR9hHPUQMkkG",
        "colab_type": "code",
        "colab": {
          "base_uri": "https://localhost:8080/",
          "height": 486
        },
        "outputId": "7d5635aa-bbff-4cfd-e1bb-f97e938ad265"
      },
      "source": [
        "from yellowbrick.features import Rank2D\n",
        "\n",
        "visualizer = Rank2D(algorithm='pearson')\n",
        "visualizer.fit(X, y)           \n",
        "visualizer.transform(X)"
      ],
      "execution_count": 12,
      "outputs": [
        {
          "output_type": "execute_result",
          "data": {
            "text/plain": [
              "array([[2.31800000e+01, 2.72720000e+01, 4.26000000e+02, 7.21250000e+02,\n",
              "        4.79298818e-03],\n",
              "       [2.31500000e+01, 2.72675000e+01, 4.29500000e+02, 7.14000000e+02,\n",
              "        4.78344095e-03],\n",
              "       [2.31500000e+01, 2.72450000e+01, 4.26000000e+02, 7.13500000e+02,\n",
              "        4.77946352e-03],\n",
              "       ...,\n",
              "       [2.08900000e+01, 2.77450000e+01, 4.23500000e+02, 1.52150000e+03,\n",
              "        4.23681810e-03],\n",
              "       [2.08900000e+01, 2.80225000e+01, 4.18750000e+02, 1.63200000e+03,\n",
              "        4.27948547e-03],\n",
              "       [2.10000000e+01, 2.81000000e+01, 4.09000000e+02, 1.86400000e+03,\n",
              "        4.32073200e-03]])"
            ]
          },
          "metadata": {
            "tags": []
          },
          "execution_count": 12
        },
        {
          "output_type": "display_data",
          "data": {
            "image/png": "[encoded data removed]",
            "text/plain": [
              "<Figure size 432x288 with 2 Axes>"
            ]
          },
          "metadata": {
            "tags": [],
            "needs_background": "light"
          }
        }
      ]
    },
    {
      "cell_type": "code",
      "metadata": {
        "id": "7Vuq4zlVMm4K",
        "colab_type": "code",
        "colab": {
          "base_uri": "https://localhost:8080/",
          "height": 319
        },
        "outputId": "1a15630e-89e1-4ea0-a35b-0ca07507df4c"
      },
      "source": [
        "from yellowbrick.target import ClassBalance\n",
        "\n",
        "visualizer = ClassBalance(labels=[\"unoccupied\", \"occupied\"])\n",
        "\n",
        "visualizer.fit(y)        # Fit the data to the visualizer"
      ],
      "execution_count": 14,
      "outputs": [
        {
          "output_type": "execute_result",
          "data": {
            "text/plain": [
              "ClassBalance(ax=<matplotlib.axes._subplots.AxesSubplot object at 0x7f7ea7910f28>,\n",
              "             labels=['unoccupied', 'occupied'])"
            ]
          },
          "metadata": {
            "tags": []
          },
          "execution_count": 14
        },
        {
          "output_type": "display_data",
          "data": {
            "image/png": "[encoded data removed]",
            "text/plain": [
              "<Figure size 432x288 with 1 Axes>"
            ]
          },
          "metadata": {
            "tags": [],
            "needs_background": "light"
          }
        }
      ]
    },
    {
      "cell_type": "code",
      "metadata": {
        "id": "fs_h67lFM-RL",
        "colab_type": "code",
        "colab": {}
      },
      "source": [
        "from sklearn.naive_bayes import GaussianNB\n",
        "from sklearn.linear_model import LogisticRegression \n",
        "from sklearn.ensemble import RandomForestClassifier\n",
        "from sklearn.model_selection import train_test_split\n",
        "\n",
        "from yellowbrick.classifier import ClassificationReport,ConfusionMatrix"
      ],
      "execution_count": 16,
      "outputs": []
    },
    {
      "cell_type": "code",
      "metadata": {
        "id": "tKbESyb0NBjD",
        "colab_type": "code",
        "colab": {}
      },
      "source": [
        "X_train, X_test, y_train, y_test = train_test_split(X, y, test_size=0.2)"
      ],
      "execution_count": 17,
      "outputs": []
    },
    {
      "cell_type": "code",
      "metadata": {
        "id": "6m18QoccMrOO",
        "colab_type": "code",
        "colab": {
          "base_uri": "https://localhost:8080/",
          "height": 278
        },
        "outputId": "3c0f8379-918e-405f-fddb-df047879b972"
      },
      "source": [
        "from yellowbrick.classifier import ConfusionMatrix\n",
        "\n",
        "logReg = LogisticRegression()\n",
        "\n",
        "cm = ConfusionMatrix(logReg)\n",
        "\n",
        "cm.fit(X_train, y_train)\n",
        "\n",
        "cm.score(X_test, y_test)"
      ],
      "execution_count": 22,
      "outputs": [
        {
          "output_type": "execute_result",
          "data": {
            "text/plain": [
              "0.9885700389105059"
            ]
          },
          "metadata": {
            "tags": []
          },
          "execution_count": 22
        },
        {
          "output_type": "display_data",
          "data": {
            "image/png": "[encoded data removed]",
            "text/plain": [
              "<Figure size 432x288 with 1 Axes>"
            ]
          },
          "metadata": {
            "tags": [],
            "needs_background": "light"
          }
        }
      ]
    },
    {
      "cell_type": "code",
      "metadata": {
        "id": "nvyaOUpWM25K",
        "colab_type": "code",
        "colab": {
          "base_uri": "https://localhost:8080/",
          "height": 282
        },
        "outputId": "34d54ee3-6959-41c8-ae4e-db927bcfeb01"
      },
      "source": [
        "from yellowbrick.classifier import ROCAUC\n",
        "\n",
        "visualizer = ROCAUC(logReg)\n",
        "visualizer.fit(X_train, y_train)        \n",
        "visualizer.score(X_test, y_test)"
      ],
      "execution_count": 24,
      "outputs": [
        {
          "output_type": "execute_result",
          "data": {
            "text/plain": [
              "0.9885700389105059"
            ]
          },
          "metadata": {
            "tags": []
          },
          "execution_count": 24
        },
        {
          "output_type": "display_data",
          "data": {
            "image/png": "[encoded data removed]",
            "text/plain": [
              "<Figure size 432x288 with 1 Axes>"
            ]
          },
          "metadata": {
            "tags": [],
            "needs_background": "light"
          }
        }
      ]
    },
    {
      "cell_type": "code",
      "metadata": {
        "id": "z7sInSIdN9J_",
        "colab_type": "code",
        "colab": {
          "base_uri": "https://localhost:8080/",
          "height": 404
        },
        "outputId": "6b381a06-7127-4a6e-9809-88429f136d0f"
      },
      "source": [
        "from yellowbrick.model_selection import LearningCurve\n",
        "from sklearn.model_selection import StratifiedKFold\n",
        "\n",
        "#Create the learning curve visualizer\n",
        "cv = StratifiedKFold(n_splits=12)\n",
        "sizes = np.linspace(0.3, 1.0, 10)\n",
        "\n",
        "visualizer = LearningCurve(\n",
        "    logReg, cv=cv, scoring='f1', train_sizes=sizes, \n",
        ")\n",
        "\n",
        "visualizer.fit(X, y)        # Fit the data to the visualizer"
      ],
      "execution_count": 30,
      "outputs": [
        {
          "output_type": "execute_result",
          "data": {
            "text/plain": [
              "LearningCurve(ax=<matplotlib.axes._subplots.AxesSubplot object at 0x7f7ea46b44e0>,\n",
              "              cv=StratifiedKFold(n_splits=12, random_state=None, shuffle=False),\n",
              "              exploit_incremental_learning=False, groups=None, model=None,\n",
              "              n_jobs=1, pre_dispatch='all', random_state=None, scoring='f1',\n",
              "              shuffle=False,\n",
              "              train_sizes=array([0.3       , 0.37777778, 0.45555556, 0.53333333, 0.61111111,\n",
              "       0.68888889, 0.76666667, 0.84444444, 0.92222222, 1.        ]))"
            ]
          },
          "metadata": {
            "tags": []
          },
          "execution_count": 30
        },
        {
          "output_type": "display_data",
          "data": {
            "image/png": "[encoded data removed]",
            "text/plain": [
              "<Figure size 432x288 with 1 Axes>"
            ]
          },
          "metadata": {
            "tags": [],
            "needs_background": "light"
          }
        }
      ]
    },
    {
      "cell_type": "code",
      "metadata": {
        "id": "am7Wq5-AOQ47",
        "colab_type": "code",
        "colab": {
          "base_uri": "https://localhost:8080/",
          "height": 353
        },
        "outputId": "addcfe1c-f6d7-45af-b5a2-820f3953cc4e"
      },
      "source": [
        "from yellowbrick.model_selection import FeatureImportances\n",
        "\n",
        "viz = FeatureImportances(logReg)\n",
        "viz.fit(X, y)"
      ],
      "execution_count": 31,
      "outputs": [
        {
          "output_type": "execute_result",
          "data": {
            "text/plain": [
              "FeatureImportances(absolute=False,\n",
              "                   ax=<matplotlib.axes._subplots.AxesSubplot object at 0x7f7ea4631b38>,\n",
              "                   colormap=None, colors=None, is_fitted=None, labels=None,\n",
              "                   model=None, relative=True, stack=False, xlabel=None)"
            ]
          },
          "metadata": {
            "tags": []
          },
          "execution_count": 31
        },
        {
          "output_type": "display_data",
          "data": {
            "image/png": "[encoded data removed]",
            "text/plain": [
              "<Figure size 432x288 with 1 Axes>"
            ]
          },
          "metadata": {
            "tags": [],
            "needs_background": "light"
          }
        }
      ]
    }
  ]
}