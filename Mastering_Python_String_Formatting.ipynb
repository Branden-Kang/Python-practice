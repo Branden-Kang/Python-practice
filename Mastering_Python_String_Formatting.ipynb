{
  "nbformat": 4,
  "nbformat_minor": 0,
  "metadata": {
    "colab": {
      "name": "Mastering Python String Formatting.ipynb",
      "provenance": [],
      "authorship_tag": "ABX9TyNldg52w3heAYiRsl9Mbgzn"
    },
    "kernelspec": {
      "name": "python3",
      "display_name": "Python 3"
    },
    "language_info": {
      "name": "python"
    }
  },
  "cells": [
    {
      "cell_type": "markdown",
      "metadata": {
        "id": "BNbP_13GIdMi"
      },
      "source": [
        "[Reference](https://towardsdatascience.com/mastering-python-string-formatting-400d326c6f82)"
      ]
    },
    {
      "cell_type": "code",
      "metadata": {
        "id": "y6FZnJn7IYtW"
      },
      "source": [
        "def get_message_pct(name, email):\n",
        "    print(\"%s's email is %s.\"%(name, email))"
      ],
      "execution_count": 1,
      "outputs": []
    },
    {
      "cell_type": "code",
      "metadata": {
        "colab": {
          "base_uri": "https://localhost:8080/"
        },
        "id": "UMWWVXysIf3S",
        "outputId": "8a4b8fb8-a9f1-4d2d-d70f-cd98d5c217cc"
      },
      "source": [
        "get_message_pct('John', 'johnadams@gmail.com')"
      ],
      "execution_count": 2,
      "outputs": [
        {
          "output_type": "stream",
          "text": [
            "John's email is johnadams@gmail.com.\n"
          ],
          "name": "stdout"
        }
      ]
    },
    {
      "cell_type": "code",
      "metadata": {
        "colab": {
          "base_uri": "https://localhost:8080/"
        },
        "id": "cmPsFmumIg1w",
        "outputId": "ccbe661d-298c-4a86-956a-a290b7ccaae4"
      },
      "source": [
        "def get_message_pct(name, email, age, height, weight):\n",
        "    print(\"%s's email is %s. He is %s years old, %s feet tall, and weighs %s.\"%(name, email,  age, height, weight))\n",
        "    \n",
        "get_message_pct('John', 'johnadams@gmail.com', 50,  \"6\",  '180 pounds')"
      ],
      "execution_count": 3,
      "outputs": [
        {
          "output_type": "stream",
          "text": [
            "John's email is johnadams@gmail.com. He is 50 years old, 6 feet tall, and weighs 180 pounds.\n"
          ],
          "name": "stdout"
        }
      ]
    },
    {
      "cell_type": "code",
      "metadata": {
        "colab": {
          "base_uri": "https://localhost:8080/"
        },
        "id": "pm6W6bTjIjNi",
        "outputId": "9b5767bd-c11f-4703-d0ee-ced011543bd2"
      },
      "source": [
        "def get_message_format(name, email, age, height, weight):\n",
        "    print(\"{}'s email is {}. He is {} years old, {} feet tall, and weighs {}.\".format(name, email,  age, height, weight))\n",
        "    \n",
        "get_message_format('John', 'johnadams@gmail.com', 50,  \"6\",  '180 pounds')"
      ],
      "execution_count": 4,
      "outputs": [
        {
          "output_type": "stream",
          "text": [
            "John's email is johnadams@gmail.com. He is 50 years old, 6 feet tall, and weighs 180 pounds.\n"
          ],
          "name": "stdout"
        }
      ]
    },
    {
      "cell_type": "code",
      "metadata": {
        "colab": {
          "base_uri": "https://localhost:8080/"
        },
        "id": "hTDJjvq0Ipxa",
        "outputId": "23ea7e79-3d4d-4f7a-d488-a717d23a6c69"
      },
      "source": [
        "jake_info = {'name': 'Jake', 'email': 'jake@gmail.com', 'age':30, 'height':\"6\", 'weight':'170 pounds'}\n",
        "get_message_format(**jake_info)"
      ],
      "execution_count": 5,
      "outputs": [
        {
          "output_type": "stream",
          "text": [
            "Jake's email is jake@gmail.com. He is 30 years old, 6 feet tall, and weighs 170 pounds.\n"
          ],
          "name": "stdout"
        }
      ]
    },
    {
      "cell_type": "code",
      "metadata": {
        "colab": {
          "base_uri": "https://localhost:8080/"
        },
        "id": "6v3T0vOYIrpH",
        "outputId": "69484289-b5fb-404a-8d00-f995e5528099"
      },
      "source": [
        "def get_message_fstrings(name, email, age, height, weight):\n",
        "    print(f\"{name}'s email is {email}. He is {age} years old, {height} feet tall, and weighs {weight}.\")\n",
        "    \n",
        "get_message_fstrings('Sarah', 'sarah@yahoo.com', 20, '5', '120 pounds')"
      ],
      "execution_count": 6,
      "outputs": [
        {
          "output_type": "stream",
          "text": [
            "Sarah's email is sarah@yahoo.com. He is 20 years old, 5 feet tall, and weighs 120 pounds.\n"
          ],
          "name": "stdout"
        }
      ]
    }
  ]
}