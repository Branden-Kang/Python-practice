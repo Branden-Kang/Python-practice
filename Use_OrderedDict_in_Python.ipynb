{
  "nbformat": 4,
  "nbformat_minor": 0,
  "metadata": {
    "colab": {
      "name": "Use OrderedDict in Python.ipynb",
      "provenance": [],
      "authorship_tag": "ABX9TyN3jenal4gQ080Zx/xcDa9y"
    },
    "kernelspec": {
      "name": "python3",
      "display_name": "Python 3"
    }
  },
  "cells": [
    {
      "cell_type": "markdown",
      "metadata": {
        "id": "HYeG2mSOKwMq"
      },
      "source": [
        "[Reference](https://python.plainenglish.io/should-we-still-use-ordereddict-in-python-f223c85a01d5)"
      ]
    },
    {
      "cell_type": "code",
      "metadata": {
        "colab": {
          "base_uri": "https://localhost:8080/"
        },
        "id": "_RrssMkCJyhr",
        "outputId": "3b3c36ad-d424-4db9-fe48-d3e219a5cb7b"
      },
      "source": [
        "%%timeit\n",
        "from collections import OrderedDict\n",
        "\n",
        "def perform_operations(dictionary):\n",
        "    dictionary[200] = 'goodbye'\n",
        "    is_50_included = 50 in dictionary\n",
        "    item_20 = dictionary.get(20)\n",
        "    nonexistent_item = dictionary.get('a')\n",
        "\n",
        "def ordereddict():\n",
        "    dictionary = OrderedDict.fromkeys(range(100), 'hello world')\n",
        "    perform_operations(dictionary)\n",
        "\n",
        "def standard_dict():\n",
        "    dictionary = dict.fromkeys(range(100), 'hello world')\n",
        "    perform_operations(dictionary)"
      ],
      "execution_count": 5,
      "outputs": [
        {
          "output_type": "stream",
          "text": [
            "The slowest run took 9.64 times longer than the fastest. This could mean that an intermediate result is being cached.\n",
            "1000000 loops, best of 5: 960 ns per loop\n"
          ],
          "name": "stdout"
        }
      ]
    },
    {
      "cell_type": "code",
      "metadata": {
        "colab": {
          "base_uri": "https://localhost:8080/"
        },
        "id": "MzIJ9khEKJ3v",
        "outputId": "42326e92-e5b4-493d-b320-c0ab054ab03a"
      },
      "source": [
        "%%timeit\n",
        "from collections import OrderedDict\n",
        "\n",
        "def perform_operations(dictionary):\n",
        "    dictionary[20000] = 'goodbye'\n",
        "    is_5000_included = 5000 in dictionary\n",
        "    item_2000 = dictionary.get(2000)\n",
        "    nonexistent_item = dictionary.get('a')\n",
        "\n",
        "def ordereddict():\n",
        "    dictionary = OrderedDict.fromkeys(range(10000), 'hello world')\n",
        "    perform_operations(dictionary)\n",
        "\n",
        "def standard_dict():\n",
        "    dictionary = dict.fromkeys(range(10000), 'hello world')\n",
        "    perform_operations(dictionary)"
      ],
      "execution_count": 4,
      "outputs": [
        {
          "output_type": "stream",
          "text": [
            "The slowest run took 11.07 times longer than the fastest. This could mean that an intermediate result is being cached.\n",
            "1000000 loops, best of 5: 958 ns per loop\n"
          ],
          "name": "stdout"
        }
      ]
    }
  ]
}