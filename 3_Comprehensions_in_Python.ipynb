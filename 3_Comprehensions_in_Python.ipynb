{
  "nbformat": 4,
  "nbformat_minor": 0,
  "metadata": {
    "colab": {
      "name": "3 Comprehensions in Python.ipynb",
      "provenance": [],
      "authorship_tag": "ABX9TyNGKAKNUn5PFj+6aDVlwDRH"
    },
    "kernelspec": {
      "name": "python3",
      "display_name": "Python 3"
    },
    "language_info": {
      "name": "python"
    }
  },
  "cells": [
    {
      "cell_type": "markdown",
      "metadata": {
        "id": "ENKOYgBcW-vT"
      },
      "source": [
        "[Reference](https://daniela-s-alzate.medium.com/comprehensions-in-python-b23542475ba4)"
      ]
    },
    {
      "cell_type": "markdown",
      "metadata": {
        "id": "e0rLkLZMXCP9"
      },
      "source": [
        "# List Comprehension\n"
      ]
    },
    {
      "cell_type": "code",
      "metadata": {
        "id": "um3MOWrfW8a0"
      },
      "source": [
        "odd_nums = []\n",
        "for i in range(0, 100):\n",
        "  if i%2 != 0: \n",
        "    odd_nums.append(i)"
      ],
      "execution_count": 1,
      "outputs": []
    },
    {
      "cell_type": "code",
      "metadata": {
        "id": "s-NdzN-GXEBe"
      },
      "source": [
        "odd_nums = [i for i in range(0, 100) if i%2!=0]"
      ],
      "execution_count": 2,
      "outputs": []
    },
    {
      "cell_type": "markdown",
      "metadata": {
        "id": "mHwZFe8BXGNq"
      },
      "source": [
        "# Dictionary Comprehension\n"
      ]
    },
    {
      "cell_type": "code",
      "metadata": {
        "id": "YcFf12h1XFLV"
      },
      "source": [
        "fruits = {\"apples\":2, \"grapes\":3, \"bananas\":1, \"oranges\":4}\n",
        "tax_fruits = {}\n",
        "for key, value in fruits.items():\n",
        "    tax_fruits[key] = value+value*0.02"
      ],
      "execution_count": 3,
      "outputs": []
    },
    {
      "cell_type": "code",
      "metadata": {
        "id": "zmL-jwbAXJcc"
      },
      "source": [
        "fruits = {\"apples\":2, \"grapes\":3, \"bananas\":1, \"oranges\":4}\n",
        "tax_fruits = {key:value+value*0.02 for key, value in fruits.items()}"
      ],
      "execution_count": 4,
      "outputs": []
    },
    {
      "cell_type": "markdown",
      "metadata": {
        "id": "nbwiec-zXKFL"
      },
      "source": [
        "# Set Comprehension\n"
      ]
    },
    {
      "cell_type": "code",
      "metadata": {
        "id": "Z5aGVMTXXJrY"
      },
      "source": [
        "powers_2 = set()\n",
        "for s in range(10):\n",
        "    powers_2.add(2**s)"
      ],
      "execution_count": 5,
      "outputs": []
    },
    {
      "cell_type": "code",
      "metadata": {
        "id": "qI0qYifgXMZL"
      },
      "source": [
        "powers_2 = {2**s for s in range(10)}"
      ],
      "execution_count": 6,
      "outputs": []
    }
  ]
}