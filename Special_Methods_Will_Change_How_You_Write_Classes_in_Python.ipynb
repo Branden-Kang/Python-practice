{
  "nbformat": 4,
  "nbformat_minor": 0,
  "metadata": {
    "colab": {
      "name": "Special Methods Will Change How You Write Classes in Python.ipynb",
      "provenance": [],
      "authorship_tag": "ABX9TyNcX0FxPo6AXQo8OSQunCP6"
    },
    "kernelspec": {
      "name": "python3",
      "display_name": "Python 3"
    },
    "language_info": {
      "name": "python"
    }
  },
  "cells": [
    {
      "cell_type": "markdown",
      "metadata": {
        "id": "QCVRR_m7MrYI"
      },
      "source": [
        "[Reference](https://python.plainenglish.io/special-methods-that-will-change-how-you-build-classes-in-python-cd0226b52eb6)"
      ]
    },
    {
      "cell_type": "code",
      "metadata": {
        "id": "w_lsEGimGSGs"
      },
      "source": [
        "class Point:\n",
        "  def __init__(self, x, y):\n",
        "    self.x = x\n",
        "    self.y = y\n",
        "\n",
        "  def __repr__(self):\n",
        "      return (self.x, self.y)\n",
        "  def __str__(self):\n",
        "      return \"Point(\" + str(self.x) + \", \"+ str(self.y) + \")\"\n",
        "  def __eq__(self, other):\n",
        "    if not isinstance(other, Point):\n",
        "        return False\n",
        "    return self.x == other.x and self.y == other.y\n",
        "  def __gt__(self, other):\n",
        "    if not isinstance(other, Point):\n",
        "        raise TypeError\n",
        "    return self.x > other.x or (self.x == other.x and self.y > self.y)\n",
        "  def __lt__(self, other):\n",
        "    if not isinstance(other, Point):\n",
        "        raise TypeError\n",
        "    return self.x < other.x or (self.x == other.x and self.y < self.y)\n",
        "  def __ge__(self, other):\n",
        "    # Defined recursively\n",
        "    return self > other or self == other\n",
        "  def __le__(self, other):\n",
        "    # Defined recursively\n",
        "    return self < other or self == other\n",
        "  def __add__(self, other):\n",
        "    if not isinstance(other, Point):\n",
        "        raise TypeError\n",
        "    return Point(self.x+other.x, self.y+other.y)\n",
        "  def __sub__(self, other):\n",
        "    if not isinstance(other, Point):\n",
        "        raise TypeError\n",
        "    return Point(self.x-other.x, self.y-other.y)"
      ],
      "execution_count": 3,
      "outputs": []
    },
    {
      "cell_type": "code",
      "metadata": {
        "id": "f0x2PeTsNWXr"
      },
      "source": [
        "class Point:\n",
        "  def __init__(self, x, y):\n",
        "    self.__x = x\n",
        "    self.__y = y  \n",
        "  @property  \n",
        "  def x(self):\n",
        "    return self.__x  \n",
        "  @property\n",
        "  def y(self):\n",
        "    return self.__y  \n",
        "    \n",
        "  def __eq__(self, other):\n",
        "    if not isinstance(other, Point):\n",
        "      return False\n",
        "    return self.x == other.x and self.y == other.y  \n",
        "  def __hash__(self):\n",
        "    return hash((self.x, self.y))\n",
        "  def __len__(self):\n",
        "    return abs(self.x)+abs(self.y)\n",
        "  def __bool__(self):\n",
        "    # Return False if it is the origin\n",
        "    return self.x == 0 or self.y == 0"
      ],
      "execution_count": 6,
      "outputs": []
    },
    {
      "cell_type": "code",
      "metadata": {
        "colab": {
          "base_uri": "https://localhost:8080/"
        },
        "id": "HVwtL1cENa6C",
        "outputId": "65a21005-e1b4-4f62-cbc7-00f4228637dd"
      },
      "source": [
        "len( Point(1, -3) )"
      ],
      "execution_count": 5,
      "outputs": [
        {
          "output_type": "execute_result",
          "data": {
            "text/plain": [
              "4"
            ]
          },
          "metadata": {},
          "execution_count": 5
        }
      ]
    }
  ]
}