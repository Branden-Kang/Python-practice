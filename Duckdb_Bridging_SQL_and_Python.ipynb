{
  "nbformat": 4,
  "nbformat_minor": 0,
  "metadata": {
    "colab": {
      "provenance": [],
      "authorship_tag": "ABX9TyNphXBJIZKinBhpugVgphw+"
    },
    "kernelspec": {
      "name": "python3",
      "display_name": "Python 3"
    },
    "language_info": {
      "name": "python"
    }
  },
  "cells": [
    {
      "cell_type": "markdown",
      "source": [
        "[Reference](https://medium.com/learning-data/duckdb-bridging-sql-and-python-997e8d2de1b5)"
      ],
      "metadata": {
        "id": "hNNm1v1VZ5BO"
      }
    },
    {
      "cell_type": "code",
      "execution_count": 1,
      "metadata": {
        "id": "HA8CTK0mZIUw"
      },
      "outputs": [],
      "source": [
        "import numpy as np\n",
        "import pandas as pd\n",
        "import polars as pl\n",
        "import duckdb as db"
      ]
    },
    {
      "cell_type": "code",
      "source": [
        "db.sql('''\n",
        "    CREATE TABLE IF NOT EXISTS beers (\n",
        "        CodC integer,\n",
        "        Package varchar(255),\n",
        "        Capacity float,\n",
        "        Stock integer\n",
        "    )\n",
        "''')"
      ],
      "metadata": {
        "id": "OloUd7KiaRRQ"
      },
      "execution_count": 2,
      "outputs": []
    },
    {
      "cell_type": "code",
      "source": [
        "db.sql('''\n",
        "    INSERT INTO beers\n",
        "    VALUES (1, 'Botella', 0.2, 3600),\n",
        "        (2, 'Botella', 0.33, 1200),\n",
        "        (3, 'Lata', 0.33, 2400),\n",
        "        (4, 'Botella', 1, 288),\n",
        "        (5, 'Barril', 60, 30)\n",
        "''')"
      ],
      "metadata": {
        "id": "djWgM4gHaTjL"
      },
      "execution_count": 3,
      "outputs": []
    },
    {
      "cell_type": "code",
      "source": [
        "# Showing in polars dataframe\n",
        "db.sql(\"SELECT * FROM beers\").pl()"
      ],
      "metadata": {
        "colab": {
          "base_uri": "https://localhost:8080/",
          "height": 252
        },
        "id": "umUyTiKFaUhg",
        "outputId": "b38fba01-2708-45cd-ef39-cd93fae6823c"
      },
      "execution_count": 4,
      "outputs": [
        {
          "output_type": "execute_result",
          "data": {
            "text/plain": [
              "shape: (5, 4)\n",
              "┌──────┬─────────┬──────────┬───────┐\n",
              "│ CodC ┆ Package ┆ Capacity ┆ Stock │\n",
              "│ ---  ┆ ---     ┆ ---      ┆ ---   │\n",
              "│ i32  ┆ str     ┆ f32      ┆ i32   │\n",
              "╞══════╪═════════╪══════════╪═══════╡\n",
              "│ 1    ┆ Botella ┆ 0.2      ┆ 3600  │\n",
              "│ 2    ┆ Botella ┆ 0.33     ┆ 1200  │\n",
              "│ 3    ┆ Lata    ┆ 0.33     ┆ 2400  │\n",
              "│ 4    ┆ Botella ┆ 1.0      ┆ 288   │\n",
              "│ 5    ┆ Barril  ┆ 60.0     ┆ 30    │\n",
              "└──────┴─────────┴──────────┴───────┘"
            ],
            "text/html": [
              "<div><style>\n",
              ".dataframe > thead > tr,\n",
              ".dataframe > tbody > tr {\n",
              "  text-align: right;\n",
              "  white-space: pre-wrap;\n",
              "}\n",
              "</style>\n",
              "<small>shape: (5, 4)</small><table border=\"1\" class=\"dataframe\"><thead><tr><th>CodC</th><th>Package</th><th>Capacity</th><th>Stock</th></tr><tr><td>i32</td><td>str</td><td>f32</td><td>i32</td></tr></thead><tbody><tr><td>1</td><td>&quot;Botella&quot;</td><td>0.2</td><td>3600</td></tr><tr><td>2</td><td>&quot;Botella&quot;</td><td>0.33</td><td>1200</td></tr><tr><td>3</td><td>&quot;Lata&quot;</td><td>0.33</td><td>2400</td></tr><tr><td>4</td><td>&quot;Botella&quot;</td><td>1.0</td><td>288</td></tr><tr><td>5</td><td>&quot;Barril&quot;</td><td>60.0</td><td>30</td></tr></tbody></table></div>"
            ]
          },
          "metadata": {},
          "execution_count": 4
        }
      ]
    },
    {
      "cell_type": "code",
      "source": [
        "db.sql(\n",
        "    '''\n",
        "    SELECT r.Delivery_date\n",
        "        ,e.Name\n",
        "        ,b.Name\n",
        "    FROM delivery AS r\n",
        "    LEFT JOIN employees AS e ON r.CodE = e.CodE\n",
        "    LEFT JOIN bars AS b ON r.CodB = b.CodB\n",
        "    WHERE b.Name = 'Stop'\n",
        "        AND r.Delivery_date BETWEEN '2005-10-17' AND '2005-10-23'\n",
        "    '''\n",
        ")"
      ],
      "metadata": {
        "id": "vRwG-b3raVWA"
      },
      "execution_count": 7,
      "outputs": []
    },
    {
      "cell_type": "code",
      "source": [
        "# Insert new record\n",
        "db.sql(\n",
        "    '''\n",
        "    INSERT INTO delivery (CodE, CodB, CodC, Delivery_date, Quantity)\n",
        "    VALUES (2, 1, 3, '2005-10-26', 48)\n",
        "    '''\n",
        ")\n",
        "\n",
        "# verify inserted record\n",
        "db.sql(\n",
        "    '''\n",
        "    SELECT *\n",
        "    FROM delivery\n",
        "    WHERE Delivery_date = '2005-10-26'\n",
        "    '''\n",
        ")"
      ],
      "metadata": {
        "id": "Id8YWjdAaaCR"
      },
      "execution_count": 8,
      "outputs": []
    }
  ]
}