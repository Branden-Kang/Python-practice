{
  "nbformat": 4,
  "nbformat_minor": 0,
  "metadata": {
    "colab": {
      "name": "3 Ways to Explore a Python Object.ipynb",
      "provenance": [],
      "authorship_tag": "ABX9TyPoOlVU1qRr68hi5JkZ6ZbJ"
    },
    "kernelspec": {
      "name": "python3",
      "display_name": "Python 3"
    }
  },
  "cells": [
    {
      "cell_type": "markdown",
      "metadata": {
        "id": "VlIYM9ZO8BFf"
      },
      "source": [
        "[Reference](https://medium.com/techtofreedom/3-ways-to-explore-a-python-object-8ea74072b307)"
      ]
    },
    {
      "cell_type": "markdown",
      "metadata": {
        "id": "7pt2Dgwm8EIZ"
      },
      "source": [
        "# 1. Get the Type Information of Objects"
      ]
    },
    {
      "cell_type": "code",
      "metadata": {
        "colab": {
          "base_uri": "https://localhost:8080/"
        },
        "id": "oiFcREJZ7117",
        "outputId": "f1af29ed-ce54-465f-801a-dd4a602b60a1"
      },
      "source": [
        "a = 'yang'\n",
        "b = 100\n",
        "\n",
        "class Person:\n",
        "  def __init__(self, first_name=\"\", last_name= \"\"):\n",
        "    self.first_name = first_name\n",
        "    self.last_name = last_name\n",
        "Author = Person(\"Yang\", \"Zhou\")\n",
        "\n",
        "print(type(a))\n",
        "print(type(b))\n",
        "print(type(Author))"
      ],
      "execution_count": 1,
      "outputs": [
        {
          "output_type": "stream",
          "text": [
            "<class 'str'>\n",
            "<class 'int'>\n",
            "<class '__main__.Person'>\n"
          ],
          "name": "stdout"
        }
      ]
    },
    {
      "cell_type": "code",
      "metadata": {
        "colab": {
          "base_uri": "https://localhost:8080/"
        },
        "id": "mlbjUby18Mwm",
        "outputId": "0e5ce8e3-e451-4131-ca8a-1fab9472f1a8"
      },
      "source": [
        "a = 'yang'\n",
        "b = 100\n",
        "print(type(a)==type('developer'))\n",
        "print(type(b)==type(a))\n",
        "print(type(b)==int)"
      ],
      "execution_count": 2,
      "outputs": [
        {
          "output_type": "stream",
          "text": [
            "True\n",
            "False\n",
            "True\n"
          ],
          "name": "stdout"
        }
      ]
    },
    {
      "cell_type": "code",
      "metadata": {
        "colab": {
          "base_uri": "https://localhost:8080/"
        },
        "id": "78pjZXKH8Zvd",
        "outputId": "8a916b3d-622f-4a67-c45f-d3294310325a"
      },
      "source": [
        "print(type(int))"
      ],
      "execution_count": 3,
      "outputs": [
        {
          "output_type": "stream",
          "text": [
            "<class 'type'>\n"
          ],
          "name": "stdout"
        }
      ]
    },
    {
      "cell_type": "code",
      "metadata": {
        "colab": {
          "base_uri": "https://localhost:8080/"
        },
        "id": "JWY6tJd78bxm",
        "outputId": "759fd45f-c940-4d4c-e1d1-2ae3ca1e75ca"
      },
      "source": [
        "import types\n",
        "def func():\n",
        "  return \"Yang\"\n",
        "print(type(func)==types.FunctionType)\n",
        "print(type(lambda x: x)==types.LambdaType)"
      ],
      "execution_count": 4,
      "outputs": [
        {
          "output_type": "stream",
          "text": [
            "True\n",
            "True\n"
          ],
          "name": "stdout"
        }
      ]
    },
    {
      "cell_type": "markdown",
      "metadata": {
        "id": "kFpT_mCJ8fIe"
      },
      "source": [
        "# 2. Get Inheritance Information of Classes"
      ]
    },
    {
      "cell_type": "code",
      "metadata": {
        "colab": {
          "base_uri": "https://localhost:8080/"
        },
        "id": "GjbtMoWG8dhq",
        "outputId": "c5a7ef30-6393-4839-877d-dd1da367606e"
      },
      "source": [
        "class Person:\n",
        "  def __init__(self, first_name=\"\", last_name= \"\"):\n",
        "    self.first_name = first_name\n",
        "    self.last_name = last_name\n",
        "\n",
        "class Developer(Person):\n",
        "  pass\n",
        "\n",
        "class TopDeveloper(Developer):\n",
        "  pass\n",
        "one_guy = Developer() \n",
        "Yang = TopDeveloper(first_name=\"Yang\",last_name=\"Zhou\")\n",
        "\n",
        "print(isinstance(Yang,Person))\n",
        "print(isinstance(one_guy,TopDeveloper))\n",
        "print(isinstance(one_guy,Developer))"
      ],
      "execution_count": 5,
      "outputs": [
        {
          "output_type": "stream",
          "text": [
            "True\n",
            "False\n",
            "True\n"
          ],
          "name": "stdout"
        }
      ]
    },
    {
      "cell_type": "code",
      "metadata": {
        "colab": {
          "base_uri": "https://localhost:8080/"
        },
        "id": "zJCBJ14885lT",
        "outputId": "43829da0-f557-42a1-e7f5-7cf900279cc6"
      },
      "source": [
        "print(isinstance('123',(str,int)))\n",
        "print(isinstance([1,2,3],(list,tuple)))"
      ],
      "execution_count": 6,
      "outputs": [
        {
          "output_type": "stream",
          "text": [
            "True\n",
            "True\n"
          ],
          "name": "stdout"
        }
      ]
    },
    {
      "cell_type": "code",
      "metadata": {
        "colab": {
          "base_uri": "https://localhost:8080/"
        },
        "id": "XRAwN4ej865x",
        "outputId": "c4db0097-e611-4a50-903f-68a048a53556"
      },
      "source": [
        "class Person:\n",
        "    def __init__(self, first_name=\"\", last_name=\"\"):\n",
        "        self.first_name = first_name\n",
        "        self.last_name = last_name\n",
        "\n",
        "class Developer(Person):\n",
        "    pass\n",
        "\n",
        "class TopDeveloper(Developer):\n",
        "    pass\n",
        "\n",
        "Yang = TopDeveloper(first_name=\"Yang\", last_name=\"Zhou\")\n",
        "print(type(Yang).mro())"
      ],
      "execution_count": 7,
      "outputs": [
        {
          "output_type": "stream",
          "text": [
            "[<class '__main__.TopDeveloper'>, <class '__main__.Developer'>, <class '__main__.Person'>, <class 'object'>]\n"
          ],
          "name": "stdout"
        }
      ]
    },
    {
      "cell_type": "markdown",
      "metadata": {
        "id": "Oe9bJf9n8-x9"
      },
      "source": [
        "# 3. Get all Attributes and Methods of Objects"
      ]
    },
    {
      "cell_type": "code",
      "metadata": {
        "colab": {
          "base_uri": "https://localhost:8080/"
        },
        "id": "kq2pzIMe889b",
        "outputId": "24ecc999-7ccb-4bef-bd98-c6a998616839"
      },
      "source": [
        "class Person:\n",
        "  def __init__(self, first_name=\"\", last_name= \"\"):\n",
        "    self.first_name = first_name\n",
        "    self.last_name = last_name\n",
        "\n",
        "print(dir(Person()))"
      ],
      "execution_count": 8,
      "outputs": [
        {
          "output_type": "stream",
          "text": [
            "['__class__', '__delattr__', '__dict__', '__dir__', '__doc__', '__eq__', '__format__', '__ge__', '__getattribute__', '__gt__', '__hash__', '__init__', '__init_subclass__', '__le__', '__lt__', '__module__', '__ne__', '__new__', '__reduce__', '__reduce_ex__', '__repr__', '__setattr__', '__sizeof__', '__str__', '__subclasshook__', '__weakref__', 'first_name', 'last_name']\n"
          ],
          "name": "stdout"
        }
      ]
    },
    {
      "cell_type": "code",
      "metadata": {
        "colab": {
          "base_uri": "https://localhost:8080/"
        },
        "id": "_OoPd-qK9BEo",
        "outputId": "bcd7e0ae-c059-4800-b381-b036a1543896"
      },
      "source": [
        "class Person:\n",
        "  def __init__(self, first_name=\"\", last_name= \"\"):\n",
        "    self.first_name = first_name\n",
        "    self.last_name = last_name\n",
        "\n",
        "Yang = Person(\"Yang\")\n",
        "\n",
        "# Check an attribute is existed or not\n",
        "print(hasattr(Yang,'first_name'))\n",
        "print(hasattr(Yang,'age'))\n",
        "\n",
        "# Set a new attribute to an object\n",
        "setattr(Yang,'sex','male')\n",
        "print(getattr(Yang,'sex'))"
      ],
      "execution_count": 9,
      "outputs": [
        {
          "output_type": "stream",
          "text": [
            "True\n",
            "False\n",
            "male\n"
          ],
          "name": "stdout"
        }
      ]
    },
    {
      "cell_type": "code",
      "metadata": {
        "colab": {
          "base_uri": "https://localhost:8080/",
          "height": 266
        },
        "id": "ofeCI8CZ9FUo",
        "outputId": "e47d8f43-2d6d-4472-f4ec-57d3809b1ce1"
      },
      "source": [
        "class Person:\n",
        "  def __init__(self, first_name=\"\", last_name= \"\"):\n",
        "    self.first_name = first_name\n",
        "    self.last_name = last_name\n",
        "\n",
        "Yang = Person(\"Yang\")\n",
        "print(getattr(Yang,'age'))\n",
        "\n",
        "print(getattr(Yang,'age',404))"
      ],
      "execution_count": 10,
      "outputs": [
        {
          "output_type": "error",
          "ename": "AttributeError",
          "evalue": "ignored",
          "traceback": [
            "\u001b[0;31m---------------------------------------------------------------------------\u001b[0m",
            "\u001b[0;31mAttributeError\u001b[0m                            Traceback (most recent call last)",
            "\u001b[0;32m<ipython-input-10-90be09eee808>\u001b[0m in \u001b[0;36m<module>\u001b[0;34m()\u001b[0m\n\u001b[1;32m      5\u001b[0m \u001b[0;34m\u001b[0m\u001b[0m\n\u001b[1;32m      6\u001b[0m \u001b[0mYang\u001b[0m \u001b[0;34m=\u001b[0m \u001b[0mPerson\u001b[0m\u001b[0;34m(\u001b[0m\u001b[0;34m\"Yang\"\u001b[0m\u001b[0;34m)\u001b[0m\u001b[0;34m\u001b[0m\u001b[0;34m\u001b[0m\u001b[0m\n\u001b[0;32m----> 7\u001b[0;31m \u001b[0mprint\u001b[0m\u001b[0;34m(\u001b[0m\u001b[0mgetattr\u001b[0m\u001b[0;34m(\u001b[0m\u001b[0mYang\u001b[0m\u001b[0;34m,\u001b[0m\u001b[0;34m'age'\u001b[0m\u001b[0;34m)\u001b[0m\u001b[0;34m)\u001b[0m\u001b[0;34m\u001b[0m\u001b[0;34m\u001b[0m\u001b[0m\n\u001b[0m\u001b[1;32m      8\u001b[0m \u001b[0;34m\u001b[0m\u001b[0m\n\u001b[1;32m      9\u001b[0m \u001b[0mprint\u001b[0m\u001b[0;34m(\u001b[0m\u001b[0mgetattr\u001b[0m\u001b[0;34m(\u001b[0m\u001b[0mYang\u001b[0m\u001b[0;34m,\u001b[0m\u001b[0;34m'age'\u001b[0m\u001b[0;34m,\u001b[0m\u001b[0;36m404\u001b[0m\u001b[0;34m)\u001b[0m\u001b[0;34m)\u001b[0m\u001b[0;34m\u001b[0m\u001b[0;34m\u001b[0m\u001b[0m\n",
            "\u001b[0;31mAttributeError\u001b[0m: 'Person' object has no attribute 'age'"
          ]
        }
      ]
    }
  ]
}