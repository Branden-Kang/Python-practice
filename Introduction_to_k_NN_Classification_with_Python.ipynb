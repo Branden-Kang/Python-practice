{
  "nbformat": 4,
  "nbformat_minor": 0,
  "metadata": {
    "colab": {
      "name": "Introduction to k-NN Classification with Python.ipynb",
      "provenance": [],
      "authorship_tag": "ABX9TyOH6OTKFxuIv/k5VNS+X6US"
    },
    "kernelspec": {
      "name": "python3",
      "display_name": "Python 3"
    },
    "language_info": {
      "name": "python"
    }
  },
  "cells": [
    {
      "cell_type": "markdown",
      "metadata": {
        "id": "jazoYNyRMotW"
      },
      "source": [
        "[Reference](https://hspeterj.medium.com/introduction-to-k-nn-classification-with-python-6afaadc5735b)"
      ]
    },
    {
      "cell_type": "code",
      "metadata": {
        "id": "r5lGg4E4MUX5"
      },
      "source": [
        "import matplotlib.pyplot as plt\n",
        "from sklearn.neighbors import KNeighborsClassifier\n",
        "import pandas as pd"
      ],
      "execution_count": 1,
      "outputs": []
    },
    {
      "cell_type": "code",
      "metadata": {
        "id": "LMLVhji_MtJQ"
      },
      "source": [
        "# Phone data\n",
        "phone_height = [122.4, 125.3, 136.6, 136.6, 142.0, 143.4, 142.4, 148.9, 147.7, 157.6, 151.7, 151.7, 115.5, 115.2, 123.8, 123.8, 138.1, 158.2, 138.3, 138.4, 143.6, 150.9, 158.0, 146.85, 151.1, 151.2, 153.5, 153.2, 157.9, 153.5, 162.5, 161.9, 151.0]\n",
        "phone_width = [64.2, 66.1, 70.6, 69.8, 72.5, 70.5, 69.6, 68.1, 68.7, 74.1, 69.1, 71.2, 62.1, 59.0, 58.6, 58.6, 67.0, 77.9, 67.1, 67.3, 70.9, 75.7, 77.8, 82.95, 80.5, 79.2, 78.6, 76.1, 76.4, 73.7, 74.8, 76.4, 71.8]\n",
        "\n",
        "# Tablet data\n",
        "tablet_height = [243.0, 241.2, 240.0, 250.6, 247.6, 280.6, 245.0, 193.7, 186.9, 244.5, 292.0, 274.6, 267.0, 292.1]\n",
        "tablet_width = [190.0, 185.7, 169.5, 174.1, 178.5, 214.9, 149.0, 122.4, 107.9, 159.5, 201.0, 172.5, 187.0, 201.42]"
      ],
      "execution_count": 2,
      "outputs": []
    },
    {
      "cell_type": "code",
      "metadata": {
        "colab": {
          "base_uri": "https://localhost:8080/",
          "height": 295
        },
        "id": "PeqhRANWMul7",
        "outputId": "7bb911f9-f876-42c9-bf43-5881bf2f478f"
      },
      "source": [
        "plt.scatter(phone_height, phone_width)\n",
        "plt.scatter(tablet_height, tablet_width)\n",
        "plt.title(\"Height vs. Width\")\n",
        "plt.xlabel('Height')\n",
        "plt.ylabel('Width')\n",
        "plt.legend(['Phone', 'Tablet'])\n",
        "plt.show()"
      ],
      "execution_count": 3,
      "outputs": [
        {
          "output_type": "display_data",
          "data": {
            "image/png": "[encoded data removed]",
            "text/plain": [
              "<Figure size 432x288 with 1 Axes>"
            ]
          },
          "metadata": {
            "tags": [],
            "needs_background": "light"
          }
        }
      ]
    },
    {
      "cell_type": "code",
      "metadata": {
        "id": "MjZxgsvRMwA1"
      },
      "source": [
        "# Add two lists into each features\n",
        "height = phone_height + tablet_height\n",
        "width = phone_width + tablet_width"
      ],
      "execution_count": 4,
      "outputs": []
    },
    {
      "cell_type": "code",
      "metadata": {
        "id": "HEil7KGuMxKI"
      },
      "source": [
        "train_data = [[h, w] for h, w in zip(height, width)]"
      ],
      "execution_count": 5,
      "outputs": []
    },
    {
      "cell_type": "code",
      "metadata": {
        "id": "P4-EvdHMMybY"
      },
      "source": [
        "label = [1, 1, 1, 1, 1, 1, 1, 1, 1, 1, 1, 1, 1, 1, 1, 1, 1, 1, 1, 1, 1, 1, 1, 1, 1, 1, 1, 1, 1, 1, 1, 1, 1, 0, 0, 0, 0, 0, 0, 0, 0, 0, 0, 0, 0, 0, 0]"
      ],
      "execution_count": 6,
      "outputs": []
    },
    {
      "cell_type": "code",
      "metadata": {
        "colab": {
          "base_uri": "https://localhost:8080/"
        },
        "id": "RTTU-HD0M0I5",
        "outputId": "89421036-d48a-44a0-ce7a-af8dbb3de705"
      },
      "source": [
        "knn = KNeighborsClassifier()\n",
        "knn.fit(train_data, label)\n",
        "knn.score(train_data, label)"
      ],
      "execution_count": 7,
      "outputs": [
        {
          "output_type": "execute_result",
          "data": {
            "text/plain": [
              "0.9574468085106383"
            ]
          },
          "metadata": {
            "tags": []
          },
          "execution_count": 7
        }
      ]
    },
    {
      "cell_type": "code",
      "metadata": {
        "colab": {
          "base_uri": "https://localhost:8080/",
          "height": 295
        },
        "id": "oTCKLncgM2Q0",
        "outputId": "f6d1dc03-20fc-4e86-c305-8de0d94ef743"
      },
      "source": [
        "plt.scatter(phone_height, phone_width)\n",
        "plt.scatter(tablet_height, tablet_width)\n",
        "plt.scatter(161.6, 75.2) # Phone (Sample Input)\n",
        "plt.scatter(250.60, 174.1) # Tablet (Sample Input)\n",
        "plt.title(\"Height vs. Width\")\n",
        "plt.xlabel('Height')\n",
        "plt.ylabel('Width')\n",
        "plt.legend(['Phone', 'Tablet', 'Tablet (Sample Input)', 'Phone (Sample Input)'])\n",
        "plt.show()"
      ],
      "execution_count": 8,
      "outputs": [
        {
          "output_type": "display_data",
          "data": {
            "image/png": "[encoded data removed]",
            "text/plain": [
              "<Figure size 432x288 with 1 Axes>"
            ]
          },
          "metadata": {
            "tags": [],
            "needs_background": "light"
          }
        }
      ]
    },
    {
      "cell_type": "code",
      "metadata": {
        "id": "CWcc7Y0fM4Zy"
      },
      "source": [
        "def isPhone(x):\n",
        "    if(x == [1]):\n",
        "        print(\"k-NN predicts that the input is a PHONE\")\n",
        "    else:\n",
        "        print(\"k-NN predicts that the input is a TABLET\")"
      ],
      "execution_count": 9,
      "outputs": []
    }
  ]
}