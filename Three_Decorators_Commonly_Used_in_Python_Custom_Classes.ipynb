{
  "nbformat": 4,
  "nbformat_minor": 0,
  "metadata": {
    "colab": {
      "name": "Three Decorators Commonly Used in Python Custom Classes.ipynb",
      "provenance": [],
      "authorship_tag": "ABX9TyPuRZR9kXfoAJ5GWJkbEvxV"
    },
    "kernelspec": {
      "name": "python3",
      "display_name": "Python 3"
    }
  },
  "cells": [
    {
      "cell_type": "markdown",
      "metadata": {
        "id": "GRia3PVxui6K"
      },
      "source": [
        "[Reference](https://medium.com/swlh/three-decorators-commonly-used-in-python-custom-classes-acc34a145dcf)"
      ]
    },
    {
      "cell_type": "code",
      "metadata": {
        "id": "3vSV-3rmuhqF"
      },
      "source": [
        "def show_start_end(func):\n",
        "      def inner_func():\n",
        "          print(f\"Before calling func {func.__name__}\")\n",
        "          func()\n",
        "          print(f\"After calling func {func.__name__}\")\n",
        "      return inner_func"
      ],
      "execution_count": 1,
      "outputs": []
    },
    {
      "cell_type": "code",
      "metadata": {
        "id": "BQXS5NTbuoB6"
      },
      "source": [
        "@show_start_end\n",
        "def say_hello():\n",
        "    print(f\"Hello, World!\")"
      ],
      "execution_count": 2,
      "outputs": []
    },
    {
      "cell_type": "code",
      "metadata": {
        "colab": {
          "base_uri": "https://localhost:8080/"
        },
        "id": "4Dj740FbuqUR",
        "outputId": "e7799230-b2e5-426a-a4d9-942416dcbafd"
      },
      "source": [
        "say_hello()"
      ],
      "execution_count": 3,
      "outputs": [
        {
          "output_type": "stream",
          "text": [
            "Before calling func say_hello\n",
            "Hello, World!\n",
            "After calling func say_hello\n"
          ],
          "name": "stdout"
        }
      ]
    },
    {
      "cell_type": "code",
      "metadata": {
        "id": "A0VzbLs8urjh"
      },
      "source": [
        "class User:\n",
        "     def __init__(self, username, email):\n",
        "         self.username = username\n",
        "         self.email = email\n",
        "\n",
        "     # Greet another user\n",
        "     def greet(self, other_user):\n",
        "         print(f\"{self.username}: Hello, {other_user.username}!\")"
      ],
      "execution_count": 4,
      "outputs": []
    },
    {
      "cell_type": "code",
      "metadata": {
        "id": "b8ymBUByuwOf"
      },
      "source": [
        "user0 = User(\"Superman\", \"superman@dc.com\")"
      ],
      "execution_count": 5,
      "outputs": []
    },
    {
      "cell_type": "code",
      "metadata": {
        "colab": {
          "base_uri": "https://localhost:8080/",
          "height": 37
        },
        "id": "fk-dB-Yrux0a",
        "outputId": "f6955911-535a-4719-eb8b-932c43736df1"
      },
      "source": [
        "user0.username"
      ],
      "execution_count": 6,
      "outputs": [
        {
          "output_type": "execute_result",
          "data": {
            "application/vnd.google.colaboratory.intrinsic+json": {
              "type": "string"
            },
            "text/plain": [
              "'Superman'"
            ]
          },
          "metadata": {
            "tags": []
          },
          "execution_count": 6
        }
      ]
    },
    {
      "cell_type": "code",
      "metadata": {
        "colab": {
          "base_uri": "https://localhost:8080/",
          "height": 37
        },
        "id": "U3_DwdhJuysu",
        "outputId": "7b545e3f-66a8-40cb-eaa3-793789cead0e"
      },
      "source": [
        "user0.email"
      ],
      "execution_count": 7,
      "outputs": [
        {
          "output_type": "execute_result",
          "data": {
            "application/vnd.google.colaboratory.intrinsic+json": {
              "type": "string"
            },
            "text/plain": [
              "'superman@dc.com'"
            ]
          },
          "metadata": {
            "tags": []
          },
          "execution_count": 7
        }
      ]
    },
    {
      "cell_type": "code",
      "metadata": {
        "id": "M1QPZdyzuzwF"
      },
      "source": [
        "user1 = User(\"Batman\", \"batman@dc.com\")"
      ],
      "execution_count": 8,
      "outputs": []
    },
    {
      "cell_type": "code",
      "metadata": {
        "colab": {
          "base_uri": "https://localhost:8080/"
        },
        "id": "COqPto0iu0_L",
        "outputId": "7847d099-2376-4009-db48-889ab9b48999"
      },
      "source": [
        "user1.greet(user0)"
      ],
      "execution_count": 9,
      "outputs": [
        {
          "output_type": "stream",
          "text": [
            "Batman: Hello, Superman!\n"
          ],
          "name": "stdout"
        }
      ]
    },
    {
      "cell_type": "code",
      "metadata": {
        "id": "LqMQ4fG2u1-n"
      },
      "source": [
        "class User:\n",
        "     def __init__(self, username, email):\n",
        "         self.username = username\n",
        "         self.email = email\n",
        "\n",
        "     # Greet another user\n",
        "     def greet(self, other_user):\n",
        "         print(f\"{self.username}: Hello, {other_user.username}!\")\n",
        "\n",
        "     @classmethod\n",
        "     def user_from_dict(cls, user_dict):\n",
        "         username = user_dict[\"username\"]\n",
        "         email = user_dict[\"email\"]\n",
        "         return cls(username, email)"
      ],
      "execution_count": 12,
      "outputs": []
    },
    {
      "cell_type": "code",
      "metadata": {
        "id": "OxZeOjrYu9g_"
      },
      "source": [
        "user_dict = {\"username\": \"Spider-Man\", \"email\": \"spider@marvel.com\"}\n",
        "user2 = User.user_from_dict(user_dict)"
      ],
      "execution_count": 13,
      "outputs": []
    },
    {
      "cell_type": "code",
      "metadata": {
        "colab": {
          "base_uri": "https://localhost:8080/"
        },
        "id": "G_Ij-C0AvNFv",
        "outputId": "0cc17ddc-705a-402e-9f63-559cb3e84434"
      },
      "source": [
        "isinstance(user2, User)"
      ],
      "execution_count": 14,
      "outputs": [
        {
          "output_type": "execute_result",
          "data": {
            "text/plain": [
              "True"
            ]
          },
          "metadata": {
            "tags": []
          },
          "execution_count": 14
        }
      ]
    },
    {
      "cell_type": "code",
      "metadata": {
        "colab": {
          "base_uri": "https://localhost:8080/",
          "height": 37
        },
        "id": "IILKSKwrv5u0",
        "outputId": "8c0fb359-7700-457b-cae2-047a5d833e1c"
      },
      "source": [
        "user2.username"
      ],
      "execution_count": 15,
      "outputs": [
        {
          "output_type": "execute_result",
          "data": {
            "application/vnd.google.colaboratory.intrinsic+json": {
              "type": "string"
            },
            "text/plain": [
              "'Spider-Man'"
            ]
          },
          "metadata": {
            "tags": []
          },
          "execution_count": 15
        }
      ]
    },
    {
      "cell_type": "code",
      "metadata": {
        "colab": {
          "base_uri": "https://localhost:8080/"
        },
        "id": "Qk0bgJVfv6ff",
        "outputId": "6103fc05-7ada-4c7f-8072-6f39942b0c8e"
      },
      "source": [
        "user2.greet(user0)"
      ],
      "execution_count": 16,
      "outputs": [
        {
          "output_type": "stream",
          "text": [
            "Spider-Man: Hello, Superman!\n"
          ],
          "name": "stdout"
        }
      ]
    },
    {
      "cell_type": "code",
      "metadata": {
        "id": "zBuQTYnzv7T6"
      },
      "source": [
        "class User:\n",
        "     def __init__(self, username, email):\n",
        "         self.username = username\n",
        "         self.email = email\n",
        "\n",
        "     # Greet another user\n",
        "     def greet(self, other_user):\n",
        "         print(f\"{self.username}: Hello, {other_user.username}!\")\n",
        "\n",
        "     @classmethod\n",
        "     def user_from_dict(cls, user_dict):\n",
        "         username = user_dict[\"username\"]\n",
        "         email = user_dict[\"email\"]\n",
        "         return cls(username, email)\n",
        "\n",
        "     @staticmethod\n",
        "     def username_valid(username):\n",
        "         return len(username) < 10 and username.endswith(\"man\")"
      ],
      "execution_count": 17,
      "outputs": []
    },
    {
      "cell_type": "code",
      "metadata": {
        "colab": {
          "base_uri": "https://localhost:8080/"
        },
        "id": "4joLp7Q0wLu3",
        "outputId": "c76272ff-5977-4473-cce3-bb4178ab9365"
      },
      "source": [
        "User.username_valid(\"Superman\")"
      ],
      "execution_count": 18,
      "outputs": [
        {
          "output_type": "execute_result",
          "data": {
            "text/plain": [
              "True"
            ]
          },
          "metadata": {
            "tags": []
          },
          "execution_count": 18
        }
      ]
    },
    {
      "cell_type": "code",
      "metadata": {
        "colab": {
          "base_uri": "https://localhost:8080/"
        },
        "id": "4aW9iGJfwNVO",
        "outputId": "24c0d94e-cdbb-43f4-ccfc-28b29cda1586"
      },
      "source": [
        "User.username_valid(\"Superboy\")"
      ],
      "execution_count": 19,
      "outputs": [
        {
          "output_type": "execute_result",
          "data": {
            "text/plain": [
              "False"
            ]
          },
          "metadata": {
            "tags": []
          },
          "execution_count": 19
        }
      ]
    },
    {
      "cell_type": "code",
      "metadata": {
        "colab": {
          "base_uri": "https://localhost:8080/"
        },
        "id": "2wZhJQKiwOx4",
        "outputId": "4154762c-7f4c-4796-c178-0a9bde9ee8a4"
      },
      "source": [
        "User.username_valid(\"Super-Superman\")"
      ],
      "execution_count": 21,
      "outputs": [
        {
          "output_type": "execute_result",
          "data": {
            "text/plain": [
              "False"
            ]
          },
          "metadata": {
            "tags": []
          },
          "execution_count": 21
        }
      ]
    },
    {
      "cell_type": "code",
      "metadata": {
        "id": "2z6FZLF-wPwO"
      },
      "source": [
        "class User:\n",
        "     def __init__(self, username, email):\n",
        "         self.username = username\n",
        "         self.email = email\n",
        "         self._display_name = f\"@{username}\"\n",
        "\n",
        "     @property\n",
        "     def display_name(self):\n",
        "         print(\"display_name is called\")\n",
        "         return self._display_name"
      ],
      "execution_count": 22,
      "outputs": []
    },
    {
      "cell_type": "code",
      "metadata": {
        "colab": {
          "base_uri": "https://localhost:8080/",
          "height": 54
        },
        "id": "LEDaZymjwbKN",
        "outputId": "cad5b4c4-a1ed-49f0-efb7-da006fbc720b"
      },
      "source": [
        "user0 = User(\"Superman\", \"superman@dc.com\")\n",
        "user0.display_name"
      ],
      "execution_count": 23,
      "outputs": [
        {
          "output_type": "stream",
          "text": [
            "display_name is called\n"
          ],
          "name": "stdout"
        },
        {
          "output_type": "execute_result",
          "data": {
            "application/vnd.google.colaboratory.intrinsic+json": {
              "type": "string"
            },
            "text/plain": [
              "'@Superman'"
            ]
          },
          "metadata": {
            "tags": []
          },
          "execution_count": 23
        }
      ]
    },
    {
      "cell_type": "code",
      "metadata": {
        "colab": {
          "base_uri": "https://localhost:8080/",
          "height": 198
        },
        "id": "p2vqDLwkw40Q",
        "outputId": "fac60c0e-77ee-4cf7-ffab-5a0f3f7b1dc0"
      },
      "source": [
        "user0.display_name = '@Super Duper Man'"
      ],
      "execution_count": 26,
      "outputs": [
        {
          "output_type": "error",
          "ename": "AttributeError",
          "evalue": "ignored",
          "traceback": [
            "\u001b[0;31m---------------------------------------------------------------------------\u001b[0m",
            "\u001b[0;31mAttributeError\u001b[0m                            Traceback (most recent call last)",
            "\u001b[0;32m<ipython-input-26-591abb9d0604>\u001b[0m in \u001b[0;36m<module>\u001b[0;34m()\u001b[0m\n\u001b[0;32m----> 1\u001b[0;31m \u001b[0muser0\u001b[0m\u001b[0;34m.\u001b[0m\u001b[0mdisplay_name\u001b[0m \u001b[0;34m=\u001b[0m \u001b[0;34m'@Super Duper Man'\u001b[0m\u001b[0;34m\u001b[0m\u001b[0;34m\u001b[0m\u001b[0m\n\u001b[0m",
            "\u001b[0;31mAttributeError\u001b[0m: can't set attribute"
          ]
        }
      ]
    },
    {
      "cell_type": "code",
      "metadata": {
        "id": "hpWUWyFnwdaE"
      },
      "source": [
        "class User:\n",
        "     def __init__(self, username, email):\n",
        "         self.username = username\n",
        "         self.email = email\n",
        "\n",
        "     # Greet another user\n",
        "     def greet(self, other_user):\n",
        "         print(f\"{self.username}: Hello, {other_user.username}!\")\n",
        "\n",
        "     @classmethod\n",
        "     def user_from_dict(cls, user_dict):\n",
        "         username = user_dict[\"username\"]\n",
        "         email = user_dict[\"email\"]\n",
        "         return cls(username, email)\n",
        "\n",
        "     @staticmethod\n",
        "     def username_valid(username):\n",
        "         return len(username) < 10 and username.endswith(\"man\")\n",
        "\n",
        "     @property\n",
        "     def display_name(self):\n",
        "         print(\"display_name is called\")\n",
        "         return self._display_name   \n",
        "\n",
        "     @display_name.setter\n",
        "     def display_name(self, new_name):\n",
        "         print(\"Setter method is called\")\n",
        "         self._display_name = new_name"
      ],
      "execution_count": 28,
      "outputs": []
    },
    {
      "cell_type": "code",
      "metadata": {
        "colab": {
          "base_uri": "https://localhost:8080/",
          "height": 37
        },
        "id": "TtD5uXuFwiHz",
        "outputId": "575c6dd9-45f6-45fc-fa6d-e906d420fdd3"
      },
      "source": [
        "User.display_name = 'Super Duper Man'\n",
        "User.display_name"
      ],
      "execution_count": 30,
      "outputs": [
        {
          "output_type": "execute_result",
          "data": {
            "application/vnd.google.colaboratory.intrinsic+json": {
              "type": "string"
            },
            "text/plain": [
              "'Super Duper Man'"
            ]
          },
          "metadata": {
            "tags": []
          },
          "execution_count": 30
        }
      ]
    }
  ]
}