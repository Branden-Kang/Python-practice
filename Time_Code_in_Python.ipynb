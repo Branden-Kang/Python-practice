{
  "nbformat": 4,
  "nbformat_minor": 0,
  "metadata": {
    "colab": {
      "name": "Time Code in Python.ipynb",
      "provenance": [],
      "authorship_tag": "ABX9TyMy9e6aCEIlaYjc2rw1BVNh"
    },
    "kernelspec": {
      "name": "python3",
      "display_name": "Python 3"
    }
  },
  "cells": [
    {
      "cell_type": "markdown",
      "metadata": {
        "id": "84U6rEoPWmA6"
      },
      "source": [
        "[Reference](https://towardsdatascience.com/a-simple-way-to-time-code-in-python-a9a175eb0172)"
      ]
    },
    {
      "cell_type": "code",
      "metadata": {
        "id": "NOD0BLg9Wk9W"
      },
      "source": [
        "\"\"\"Build the timefunc decorator.\"\"\"\n",
        "\n",
        "import time\n",
        "import functools\n",
        "\n",
        "\n",
        "def timefunc(func):\n",
        "    \"\"\"timefunc's doc\"\"\"\n",
        "\n",
        "    @functools.wraps(func)\n",
        "    def time_closure(*args, **kwargs):\n",
        "        \"\"\"time_wrapper's doc string\"\"\"\n",
        "        start = time.perf_counter()\n",
        "        result = func(*args, **kwargs)\n",
        "        time_elapsed = time.perf_counter() - start\n",
        "        print(f\"Function: {func.__name__}, Time: {time_elapsed}\")\n",
        "        return result\n",
        "\n",
        "    return time_closure"
      ],
      "execution_count": 1,
      "outputs": []
    },
    {
      "cell_type": "code",
      "metadata": {
        "id": "n38fwd8-7NuZ"
      },
      "source": [
        "from random import randint\n",
        "\n",
        "@timefunc\n",
        "def single_thread(inputs):\n",
        "    \"\"\"\n",
        "    Compute single threaded.\n",
        "    \"\"\"\n",
        "    return [f(x) for x in inputs]\n",
        "\n",
        "\n",
        "if __name__ == \"__main__\":\n",
        "\n",
        "    demo_inputs = [randint(1, 100) for _ in range(10_000)]\n",
        "\n",
        "    single_thread(demo_inputs)"
      ],
      "execution_count": 5,
      "outputs": []
    }
  ]
}