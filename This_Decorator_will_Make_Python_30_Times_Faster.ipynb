{
  "nbformat": 4,
  "nbformat_minor": 0,
  "metadata": {
    "colab": {
      "provenance": [],
      "collapsed_sections": [],
      "authorship_tag": "ABX9TyNQzmwC3U7rEjsC7CBFs7y2"
    },
    "kernelspec": {
      "name": "python3",
      "display_name": "Python 3"
    },
    "language_info": {
      "name": "python"
    }
  },
  "cells": [
    {
      "cell_type": "markdown",
      "source": [
        "[Reference](https://towardsdatascience.com/this-decorator-will-make-python-30-times-faster-715ca5a66d5f)"
      ],
      "metadata": {
        "id": "hmB6O7hwyrkr"
      }
    },
    {
      "cell_type": "code",
      "execution_count": 1,
      "metadata": {
        "colab": {
          "base_uri": "https://localhost:8080/"
        },
        "id": "o66zHDh3yTTF",
        "outputId": "8b75495e-40b9-4e6d-a0d9-49bb7ba9f08c"
      },
      "outputs": [
        {
          "output_type": "stream",
          "name": "stdout",
          "text": [
            "Looking in indexes: https://pypi.org/simple, https://us-python.pkg.dev/colab-wheels/public/simple/\n",
            "Requirement already satisfied: numba in /usr/local/lib/python3.7/dist-packages (0.56.2)\n",
            "Requirement already satisfied: importlib-metadata in /usr/local/lib/python3.7/dist-packages (from numba) (4.12.0)\n",
            "Requirement already satisfied: setuptools<60 in /usr/local/lib/python3.7/dist-packages (from numba) (57.4.0)\n",
            "Requirement already satisfied: numpy<1.24,>=1.18 in /usr/local/lib/python3.7/dist-packages (from numba) (1.21.6)\n",
            "Requirement already satisfied: llvmlite<0.40,>=0.39.0dev0 in /usr/local/lib/python3.7/dist-packages (from numba) (0.39.1)\n",
            "Requirement already satisfied: typing-extensions>=3.6.4 in /usr/local/lib/python3.7/dist-packages (from importlib-metadata->numba) (4.1.1)\n",
            "Requirement already satisfied: zipp>=0.5 in /usr/local/lib/python3.7/dist-packages (from importlib-metadata->numba) (3.8.1)\n"
          ]
        }
      ],
      "source": [
        "pip install numba"
      ]
    },
    {
      "cell_type": "code",
      "source": [
        "import random\n",
        "\n",
        "# import njit from numba\n",
        "from numba import njit\n",
        "\n",
        "\n",
        "def monte_carlo_pi_without_numba(nsamples):\n",
        "    acc = 0\n",
        "    for i in range(nsamples):\n",
        "        x = random.random()\n",
        "        y = random.random()\n",
        "        if (x ** 2 + y ** 2) < 1.0:\n",
        "            acc += 1\n",
        "    return 4.0 * acc / nsamples\n",
        "\n",
        "# Add numba's decorator to make the function faster\n",
        "@njit\n",
        "def monte_carlo_pi_with_numba(nsamples):\n",
        "    acc = 0\n",
        "    for i in range(nsamples):\n",
        "        x = random.random()\n",
        "        y = random.random()\n",
        "        if (x ** 2 + y ** 2) < 1.0:\n",
        "            acc += 1\n",
        "    return 4.0 * acc / nsamples"
      ],
      "metadata": {
        "id": "0sMNQ7ljyT_K"
      },
      "execution_count": 2,
      "outputs": []
    },
    {
      "cell_type": "code",
      "source": [
        "%timeit monte_carlo_pi_with_numba(100_000)\n",
        "# 1.24 ms ± 10.4 µs per loop (mean ± std. dev. of 7 runs, 1000 loops each)\n",
        "\n",
        "%timeit monte_carlo_pi_without_numba(100_000)\n",
        "# 40.6 ms ± 814 µs per loop (mean ± std. dev. of 7 runs, 10 loops each)"
      ],
      "metadata": {
        "colab": {
          "base_uri": "https://localhost:8080/"
        },
        "id": "vFHDyiNyyWS_",
        "outputId": "d5e4e1c0-0761-44d0-afda-74bcfa23fa4a"
      },
      "execution_count": 3,
      "outputs": [
        {
          "output_type": "stream",
          "name": "stdout",
          "text": [
            "1.24 ms ± 14.8 µs per loop (mean ± std. dev. of 7 runs, 1 loop each)\n",
            "44.2 ms ± 5.51 ms per loop (mean ± std. dev. of 7 runs, 10 loops each)\n"
          ]
        }
      ]
    },
    {
      "cell_type": "code",
      "source": [
        "import numpy as np\n",
        "import pandas as pd\n",
        "\n",
        "n = 1_000_000\n",
        "\n",
        "df = pd.DataFrame({\n",
        "    'height': 1 + 1.3 * np.random.random(n),\n",
        "    'weight': 40 + 260 * np.random.random(n),\n",
        "    'hip_circumference': 94 + 14 * np.random.random(n)\n",
        "})"
      ],
      "metadata": {
        "id": "DC6YDWktyacN"
      },
      "execution_count": 4,
      "outputs": []
    },
    {
      "cell_type": "code",
      "source": [
        "from numba import vectorize\n",
        "\n",
        "def get_squared_height_without_numba(height):\n",
        "  return height ** 2\n",
        "\n",
        "@vectorize\n",
        "def get_squared_height_with_numba(height):\n",
        "  return height ** 2\n",
        "\n",
        "\n",
        "%timeit df['height'].apply(get_squared_height_without_numba)\n",
        "# 279 ms ± 7.31 ms per loop (mean ± std. dev. of 7 runs, 1 loop each)\n",
        "\n",
        "\n",
        "%timeit df['height'] ** 2\n",
        "# 2.04 ms ± 229 µs per loop (mean ± std. dev. of 7 runs, 1000 loops each)\n",
        "\n",
        "# We convert the column to a numpy array first\n",
        "# since numba is compatible with numpy ( not pandas )\n",
        "%timeit get_squared_height_with_numba(df['height'].to_numpy())\n",
        "# 1.6 ms ± 51.5 µs per loop (mean ± std. dev. of 7 runs, 1000 loops each)"
      ],
      "metadata": {
        "colab": {
          "base_uri": "https://localhost:8080/"
        },
        "id": "HSNKzPSdykdS",
        "outputId": "71df8ebf-939b-4a09-918e-9e9fac97f40b"
      },
      "execution_count": 5,
      "outputs": [
        {
          "output_type": "stream",
          "name": "stdout",
          "text": [
            "521 ms ± 203 ms per loop (mean ± std. dev. of 7 runs, 1 loop each)\n",
            "2.44 ms ± 626 µs per loop (mean ± std. dev. of 7 runs, 100 loops each)\n",
            "1.44 ms ± 325 µs per loop (mean ± std. dev. of 7 runs, 1 loop each)\n"
          ]
        }
      ]
    },
    {
      "cell_type": "code",
      "source": [
        "from numba import njit\n",
        "\n",
        "@njit\n",
        "def get_bmi(weight_col, height_col):\n",
        "  n = len(weight_col)\n",
        "  result = np.empty(n, dtype=\"float64\")\n",
        "\n",
        "  # numba's loops are very fast compared to python loops\n",
        "  for i, (weight, height) in enumerate(zip(weight_col, height_col)):\n",
        "    result[i] = weight / (height ** 2)\n",
        "\n",
        "  return result\n",
        "\n",
        "\n",
        "# don't forget to convert columns to numpy \n",
        "%timeit df['bmi'] = get_bmi(df['weight'].to_numpy(), df['height'].to_numpy())\n",
        "# 6.77 ms ± 230 µs per loop (mean ± std. dev. of 7 runs, 100 loops each)\n",
        "\n",
        "%timeit df['bmi'] = df['weight']  / (df['height'] ** 2)\n",
        "# 8.63 ms ± 316 µs per loop (mean ± std. dev. of 7 runs, 100 loops each)"
      ],
      "metadata": {
        "colab": {
          "base_uri": "https://localhost:8080/"
        },
        "id": "F8oi4np9ymrs",
        "outputId": "53509348-cf19-4c21-9e36-039466a953f5"
      },
      "execution_count": 6,
      "outputs": [
        {
          "output_type": "stream",
          "name": "stdout",
          "text": [
            "The slowest run took 5.26 times longer than the fastest. This could mean that an intermediate result is being cached.\n",
            "14.7 ms ± 9.93 ms per loop (mean ± std. dev. of 7 runs, 1 loop each)\n",
            "9.24 ms ± 1.72 ms per loop (mean ± std. dev. of 7 runs, 100 loops each)\n"
          ]
        }
      ]
    }
  ]
}