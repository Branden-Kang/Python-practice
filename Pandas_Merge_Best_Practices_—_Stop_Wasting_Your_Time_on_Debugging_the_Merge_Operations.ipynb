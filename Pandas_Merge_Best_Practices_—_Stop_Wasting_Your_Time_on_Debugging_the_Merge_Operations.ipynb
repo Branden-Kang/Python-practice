{
  "nbformat": 4,
  "nbformat_minor": 0,
  "metadata": {
    "colab": {
      "provenance": [],
      "authorship_tag": "ABX9TyN8+HjuMaAiP4HxGlhEQKlb"
    },
    "kernelspec": {
      "name": "python3",
      "display_name": "Python 3"
    },
    "language_info": {
      "name": "python"
    }
  },
  "cells": [
    {
      "cell_type": "markdown",
      "source": [
        "[Reference](https://medium.com/@akarabaev96/pandas-merge-best-practices-stop-wasting-your-time-on-debugging-the-merge-operations-72778845d9b7)"
      ],
      "metadata": {
        "id": "1ZoKub2q-lZ_"
      }
    },
    {
      "cell_type": "code",
      "execution_count": 1,
      "metadata": {
        "id": "iV-2C2V5-gwn"
      },
      "outputs": [],
      "source": [
        "import pandas as pd\n",
        "\n",
        "\n",
        "countries_population = pd.DataFrame({\n",
        "    'country': [\n",
        "      'China', 'United States', 'Brazil', 'Nigeria', 'Japan', 'Japan'\n",
        "    ],\n",
        "    'population_in_mln': [1439.3, 331, 212.6, 206.1, 126.4, 126.4]\n",
        "})\n",
        "\n",
        "countries_gdp_per_capita = pd.DataFrame({\n",
        "    'country': [\n",
        "      'China', 'China', 'United States', 'Brazil', 'Nigeria', 'Japan'\n",
        "    ],\n",
        "    'gdp_per_capita': [12970, 12970, 75180, 8857, 2326, 34358]\n",
        "})"
      ]
    },
    {
      "cell_type": "code",
      "source": [
        "pd.merge(\n",
        "  countries_population, countries_gdp_per_capita,\n",
        "  how='left', on='country',\n",
        "  validate=\"one_to_one\"\n",
        ")"
      ],
      "metadata": {
        "colab": {
          "base_uri": "https://localhost:8080/",
          "height": 443
        },
        "id": "yNKlmqkn-oU1",
        "outputId": "92b6f173-74f9-42a6-9205-36c6e21979ff"
      },
      "execution_count": 2,
      "outputs": [
        {
          "output_type": "error",
          "ename": "MergeError",
          "evalue": "ignored",
          "traceback": [
            "\u001b[0;31m---------------------------------------------------------------------------\u001b[0m",
            "\u001b[0;31mMergeError\u001b[0m                                Traceback (most recent call last)",
            "\u001b[0;32m<ipython-input-2-73789794b651>\u001b[0m in \u001b[0;36m<cell line: 1>\u001b[0;34m()\u001b[0m\n\u001b[0;32m----> 1\u001b[0;31m pd.merge(\n\u001b[0m\u001b[1;32m      2\u001b[0m   \u001b[0mcountries_population\u001b[0m\u001b[0;34m,\u001b[0m \u001b[0mcountries_gdp_per_capita\u001b[0m\u001b[0;34m,\u001b[0m\u001b[0;34m\u001b[0m\u001b[0;34m\u001b[0m\u001b[0m\n\u001b[1;32m      3\u001b[0m   \u001b[0mhow\u001b[0m\u001b[0;34m=\u001b[0m\u001b[0;34m'left'\u001b[0m\u001b[0;34m,\u001b[0m \u001b[0mon\u001b[0m\u001b[0;34m=\u001b[0m\u001b[0;34m'country'\u001b[0m\u001b[0;34m,\u001b[0m\u001b[0;34m\u001b[0m\u001b[0;34m\u001b[0m\u001b[0m\n\u001b[1;32m      4\u001b[0m   \u001b[0mvalidate\u001b[0m\u001b[0;34m=\u001b[0m\u001b[0;34m\"one_to_one\"\u001b[0m\u001b[0;34m\u001b[0m\u001b[0;34m\u001b[0m\u001b[0m\n\u001b[1;32m      5\u001b[0m )\n",
            "\u001b[0;32m/usr/local/lib/python3.10/dist-packages/pandas/core/reshape/merge.py\u001b[0m in \u001b[0;36mmerge\u001b[0;34m(left, right, how, on, left_on, right_on, left_index, right_index, sort, suffixes, copy, indicator, validate)\u001b[0m\n\u001b[1;32m    108\u001b[0m     \u001b[0mvalidate\u001b[0m\u001b[0;34m:\u001b[0m \u001b[0mstr\u001b[0m \u001b[0;34m|\u001b[0m \u001b[0;32mNone\u001b[0m \u001b[0;34m=\u001b[0m \u001b[0;32mNone\u001b[0m\u001b[0;34m,\u001b[0m\u001b[0;34m\u001b[0m\u001b[0;34m\u001b[0m\u001b[0m\n\u001b[1;32m    109\u001b[0m ) -> DataFrame:\n\u001b[0;32m--> 110\u001b[0;31m     op = _MergeOperation(\n\u001b[0m\u001b[1;32m    111\u001b[0m         \u001b[0mleft\u001b[0m\u001b[0;34m,\u001b[0m\u001b[0;34m\u001b[0m\u001b[0;34m\u001b[0m\u001b[0m\n\u001b[1;32m    112\u001b[0m         \u001b[0mright\u001b[0m\u001b[0;34m,\u001b[0m\u001b[0;34m\u001b[0m\u001b[0;34m\u001b[0m\u001b[0m\n",
            "\u001b[0;32m/usr/local/lib/python3.10/dist-packages/pandas/core/reshape/merge.py\u001b[0m in \u001b[0;36m__init__\u001b[0;34m(self, left, right, how, on, left_on, right_on, axis, left_index, right_index, sort, suffixes, indicator, validate)\u001b[0m\n\u001b[1;32m    711\u001b[0m         \u001b[0;31m# are in fact unique.\u001b[0m\u001b[0;34m\u001b[0m\u001b[0;34m\u001b[0m\u001b[0m\n\u001b[1;32m    712\u001b[0m         \u001b[0;32mif\u001b[0m \u001b[0mvalidate\u001b[0m \u001b[0;32mis\u001b[0m \u001b[0;32mnot\u001b[0m \u001b[0;32mNone\u001b[0m\u001b[0;34m:\u001b[0m\u001b[0;34m\u001b[0m\u001b[0;34m\u001b[0m\u001b[0m\n\u001b[0;32m--> 713\u001b[0;31m             \u001b[0mself\u001b[0m\u001b[0;34m.\u001b[0m\u001b[0m_validate\u001b[0m\u001b[0;34m(\u001b[0m\u001b[0mvalidate\u001b[0m\u001b[0;34m)\u001b[0m\u001b[0;34m\u001b[0m\u001b[0;34m\u001b[0m\u001b[0m\n\u001b[0m\u001b[1;32m    714\u001b[0m \u001b[0;34m\u001b[0m\u001b[0m\n\u001b[1;32m    715\u001b[0m     def _reindex_and_concat(\n",
            "\u001b[0;32m/usr/local/lib/python3.10/dist-packages/pandas/core/reshape/merge.py\u001b[0m in \u001b[0;36m_validate\u001b[0;34m(self, validate)\u001b[0m\n\u001b[1;32m   1508\u001b[0m         \u001b[0;32mif\u001b[0m \u001b[0mvalidate\u001b[0m \u001b[0;32min\u001b[0m \u001b[0;34m[\u001b[0m\u001b[0;34m\"one_to_one\"\u001b[0m\u001b[0;34m,\u001b[0m \u001b[0;34m\"1:1\"\u001b[0m\u001b[0;34m]\u001b[0m\u001b[0;34m:\u001b[0m\u001b[0;34m\u001b[0m\u001b[0;34m\u001b[0m\u001b[0m\n\u001b[1;32m   1509\u001b[0m             \u001b[0;32mif\u001b[0m \u001b[0;32mnot\u001b[0m \u001b[0mleft_unique\u001b[0m \u001b[0;32mand\u001b[0m \u001b[0;32mnot\u001b[0m \u001b[0mright_unique\u001b[0m\u001b[0;34m:\u001b[0m\u001b[0;34m\u001b[0m\u001b[0;34m\u001b[0m\u001b[0m\n\u001b[0;32m-> 1510\u001b[0;31m                 raise MergeError(\n\u001b[0m\u001b[1;32m   1511\u001b[0m                     \u001b[0;34m\"Merge keys are not unique in either left \"\u001b[0m\u001b[0;34m\u001b[0m\u001b[0;34m\u001b[0m\u001b[0m\n\u001b[1;32m   1512\u001b[0m                     \u001b[0;34m\"or right dataset; not a one-to-one merge\"\u001b[0m\u001b[0;34m\u001b[0m\u001b[0;34m\u001b[0m\u001b[0m\n",
            "\u001b[0;31mMergeError\u001b[0m: Merge keys are not unique in either left or right dataset; not a one-to-one merge"
          ]
        }
      ]
    },
    {
      "cell_type": "code",
      "source": [
        "import pandas as pd\n",
        "\n",
        "\n",
        "countries_population = pd.DataFrame({\n",
        "    'country': ['China', 'United States', 'Brazil', 'Nigeria', 'Japan'],\n",
        "    'source': [\n",
        "      'World Bank', 'World Bank', 'World Bank', 'World Bank', 'World Bank'\n",
        "    ],\n",
        "    'population_in_mln': [1439.3, 331, 212.6, 206.1, 126.4]\n",
        "})\n",
        "\n",
        "countries_gdp_per_capita = pd.DataFrame({\n",
        "    'country': ['China', 'United States', 'Brazil', 'Nigeria', 'Japan'],\n",
        "    'source': [\n",
        "      'World Bank', 'World Bank', 'World Bank', 'World Bank', 'World Bank'\n",
        "    ],\n",
        "    'gdp_per_capita': [12970, 75180, 8857, 2326, 34358]\n",
        "})"
      ],
      "metadata": {
        "id": "kw5s66Bt-pmm"
      },
      "execution_count": 3,
      "outputs": []
    },
    {
      "cell_type": "code",
      "source": [
        "merged_df = pd.merge(\n",
        "  countries_population,\n",
        "  countries_gdp_per_capita,\n",
        "  on='country', how='left', validate=\"one_to_one\",\n",
        "  suffixes=(None, '_overlapping')\n",
        ")\n",
        "merged_df = merged_df.loc[:, ~merged_df.columns.str.endswith('_overlapping')]"
      ],
      "metadata": {
        "id": "fHTUm-JH-wn8"
      },
      "execution_count": 4,
      "outputs": []
    }
  ]
}