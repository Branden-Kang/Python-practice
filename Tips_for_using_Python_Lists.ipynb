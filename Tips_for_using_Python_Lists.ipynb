{
  "nbformat": 4,
  "nbformat_minor": 0,
  "metadata": {
    "colab": {
      "name": "Tips for using Python Lists",
      "provenance": [],
      "authorship_tag": "ABX9TyPXR08dGEknkPUxaeKR2+V7"
    },
    "kernelspec": {
      "name": "python3",
      "display_name": "Python 3"
    }
  },
  "cells": [
    {
      "cell_type": "markdown",
      "metadata": {
        "id": "Fufz6LnAknTM"
      },
      "source": [
        "[Reference](https://medium.com/python-in-plain-english/tips-when-using-python-lists-5c3a98fdc888)"
      ]
    },
    {
      "cell_type": "markdown",
      "metadata": {
        "id": "Wh_kaQ9Qk2JQ"
      },
      "source": [
        "# 1. Initialization"
      ]
    },
    {
      "cell_type": "code",
      "metadata": {
        "colab": {
          "base_uri": "https://localhost:8080/"
        },
        "id": "o-buPTuEkYEk",
        "outputId": "24cf7644-a799-430d-eeaf-853a3e5155c2"
      },
      "source": [
        "some_list = [1, 2, 3, 4]\n",
        "some_list = [1]*5\n",
        "print(some_list)"
      ],
      "execution_count": null,
      "outputs": [
        {
          "output_type": "stream",
          "text": [
            "[1, 1, 1, 1, 1]\n"
          ],
          "name": "stdout"
        }
      ]
    },
    {
      "cell_type": "code",
      "metadata": {
        "colab": {
          "base_uri": "https://localhost:8080/"
        },
        "id": "2qVRuKGEktvM",
        "outputId": "d36b63dd-fed9-4632-e75e-04d672fbd4bc"
      },
      "source": [
        "some_list = range(5)\n",
        "some_list"
      ],
      "execution_count": null,
      "outputs": [
        {
          "output_type": "execute_result",
          "data": {
            "text/plain": [
              "range(0, 5)"
            ]
          },
          "metadata": {
            "tags": []
          },
          "execution_count": 2
        }
      ]
    },
    {
      "cell_type": "code",
      "metadata": {
        "colab": {
          "base_uri": "https://localhost:8080/"
        },
        "id": "cfoHeZQOkzh5",
        "outputId": "d4e9c0a0-e5e0-4fb9-abb4-5ef0cc4a4a32"
      },
      "source": [
        "some_list = range(4, -1, -1)\n",
        "some_list"
      ],
      "execution_count": null,
      "outputs": [
        {
          "output_type": "execute_result",
          "data": {
            "text/plain": [
              "range(4, -1, -1)"
            ]
          },
          "metadata": {
            "tags": []
          },
          "execution_count": 3
        }
      ]
    },
    {
      "cell_type": "markdown",
      "metadata": {
        "id": "CNzt7Z5Ok3hb"
      },
      "source": [
        "# 2. Accessing Values"
      ]
    },
    {
      "cell_type": "code",
      "metadata": {
        "colab": {
          "base_uri": "https://localhost:8080/"
        },
        "id": "uYDQPGPsk1Lu",
        "outputId": "4ed9f2f9-bf3f-41d9-e8ac-139bb66c0fed"
      },
      "source": [
        "some_list = [1, 2, 3, 4]\n",
        "some_list[1]"
      ],
      "execution_count": null,
      "outputs": [
        {
          "output_type": "execute_result",
          "data": {
            "text/plain": [
              "2"
            ]
          },
          "metadata": {
            "tags": []
          },
          "execution_count": 4
        }
      ]
    },
    {
      "cell_type": "code",
      "metadata": {
        "colab": {
          "base_uri": "https://localhost:8080/"
        },
        "id": "Rn99omRWk5un",
        "outputId": "15f23f5b-ee61-4b87-e73c-ecf32f364b7a"
      },
      "source": [
        "some_list[-1]"
      ],
      "execution_count": null,
      "outputs": [
        {
          "output_type": "execute_result",
          "data": {
            "text/plain": [
              "4"
            ]
          },
          "metadata": {
            "tags": []
          },
          "execution_count": 5
        }
      ]
    },
    {
      "cell_type": "code",
      "metadata": {
        "colab": {
          "base_uri": "https://localhost:8080/"
        },
        "id": "vOHoHU_Hk8Tf",
        "outputId": "baede015-709e-45a2-8ee1-906ec3d1109b"
      },
      "source": [
        "some_list[-2]"
      ],
      "execution_count": null,
      "outputs": [
        {
          "output_type": "execute_result",
          "data": {
            "text/plain": [
              "3"
            ]
          },
          "metadata": {
            "tags": []
          },
          "execution_count": 6
        }
      ]
    },
    {
      "cell_type": "code",
      "metadata": {
        "colab": {
          "base_uri": "https://localhost:8080/"
        },
        "id": "P9C7lksSk867",
        "outputId": "0365e8e6-8db0-47b1-89c7-470d5bfc6d3d"
      },
      "source": [
        "some_list[1:4]"
      ],
      "execution_count": null,
      "outputs": [
        {
          "output_type": "execute_result",
          "data": {
            "text/plain": [
              "[2, 3, 4]"
            ]
          },
          "metadata": {
            "tags": []
          },
          "execution_count": 7
        }
      ]
    },
    {
      "cell_type": "code",
      "metadata": {
        "colab": {
          "base_uri": "https://localhost:8080/"
        },
        "id": "z_VwYlvrk-a2",
        "outputId": "37a4fa44-b43f-41c6-951e-fb5e98e5378c"
      },
      "source": [
        "some_list[1:2]"
      ],
      "execution_count": null,
      "outputs": [
        {
          "output_type": "execute_result",
          "data": {
            "text/plain": [
              "[2]"
            ]
          },
          "metadata": {
            "tags": []
          },
          "execution_count": 8
        }
      ]
    },
    {
      "cell_type": "code",
      "metadata": {
        "colab": {
          "base_uri": "https://localhost:8080/"
        },
        "id": "lUCb5WKHk_k2",
        "outputId": "881ab97b-7120-4c79-e50f-8f3a54be59c8"
      },
      "source": [
        "some_list[2:]"
      ],
      "execution_count": null,
      "outputs": [
        {
          "output_type": "execute_result",
          "data": {
            "text/plain": [
              "[3, 4]"
            ]
          },
          "metadata": {
            "tags": []
          },
          "execution_count": 9
        }
      ]
    },
    {
      "cell_type": "markdown",
      "metadata": {
        "id": "DbLumKZWlBaJ"
      },
      "source": [
        "# 3. Iterating Over Lists:"
      ]
    },
    {
      "cell_type": "code",
      "metadata": {
        "colab": {
          "base_uri": "https://localhost:8080/"
        },
        "id": "MTD-XVy0lAi1",
        "outputId": "6ef805f5-87ea-4cb3-9b74-5df07e85e996"
      },
      "source": [
        "some_list = [\"This\",\"is\",\"Great\"]\n",
        "for value in some_list:\n",
        "    print(value)"
      ],
      "execution_count": null,
      "outputs": [
        {
          "output_type": "stream",
          "text": [
            "This\n",
            "is\n",
            "Great\n"
          ],
          "name": "stdout"
        }
      ]
    },
    {
      "cell_type": "code",
      "metadata": {
        "colab": {
          "base_uri": "https://localhost:8080/"
        },
        "id": "9KfsGdSMlGdq",
        "outputId": "6db23024-1bd1-41b4-f9c3-5de0aefe5fb5"
      },
      "source": [
        "some_list = [\"This\",\"is\",\"Great\"]\n",
        "for value in range(len(some_list)):\n",
        "    print(value)"
      ],
      "execution_count": null,
      "outputs": [
        {
          "output_type": "stream",
          "text": [
            "0\n",
            "1\n",
            "2\n"
          ],
          "name": "stdout"
        }
      ]
    },
    {
      "cell_type": "code",
      "metadata": {
        "colab": {
          "base_uri": "https://localhost:8080/"
        },
        "id": "QzSdK1_DlLgw",
        "outputId": "3bd1a59d-20e2-4836-c88c-09884f7b6729"
      },
      "source": [
        "some_list = [\"This\",\"is\",\"Great\"]\n",
        "for i, value in enumerate(some_list):\n",
        "    print(\"%s %s\" %(i,value))"
      ],
      "execution_count": null,
      "outputs": [
        {
          "output_type": "stream",
          "text": [
            "0 This\n",
            "1 is\n",
            "2 Great\n"
          ],
          "name": "stdout"
        }
      ]
    },
    {
      "cell_type": "markdown",
      "metadata": {
        "id": "FsaO7xfNlWqv"
      },
      "source": [
        "# 4. List Comprehension"
      ]
    },
    {
      "cell_type": "code",
      "metadata": {
        "colab": {
          "base_uri": "https://localhost:8080/"
        },
        "id": "N4lhac5qlPZm",
        "outputId": "a070d8f2-cc52-49d0-dc59-a69fdba24689"
      },
      "source": [
        "output = []\n",
        "some_list = [1,2,3,4]\n",
        "for value in some_list:\n",
        "    if value >= 2:\n",
        "        output.append(value)\n",
        "output"
      ],
      "execution_count": null,
      "outputs": [
        {
          "output_type": "execute_result",
          "data": {
            "text/plain": [
              "[2, 3, 4]"
            ]
          },
          "metadata": {
            "tags": []
          },
          "execution_count": 17
        }
      ]
    },
    {
      "cell_type": "code",
      "metadata": {
        "colab": {
          "base_uri": "https://localhost:8080/"
        },
        "id": "iToY_zqAlbIY",
        "outputId": "589eb2ec-01a0-4deb-bf6c-e35317d341d8"
      },
      "source": [
        "output = [x for x in some_list if x >= 2]\n",
        "output"
      ],
      "execution_count": null,
      "outputs": [
        {
          "output_type": "execute_result",
          "data": {
            "text/plain": [
              "[2, 3, 4]"
            ]
          },
          "metadata": {
            "tags": []
          },
          "execution_count": 18
        }
      ]
    },
    {
      "cell_type": "markdown",
      "metadata": {
        "id": "AkLV1ZABlin3"
      },
      "source": [
        "# 5. Operations:"
      ]
    },
    {
      "cell_type": "code",
      "metadata": {
        "colab": {
          "base_uri": "https://localhost:8080/"
        },
        "id": "ZBUuqU7Plhw7",
        "outputId": "3af84d31-ab5b-43d1-afb4-e010661b3e5a"
      },
      "source": [
        "print(sum([1, 2, 3, 4]))"
      ],
      "execution_count": null,
      "outputs": [
        {
          "output_type": "stream",
          "text": [
            "10\n"
          ],
          "name": "stdout"
        }
      ]
    },
    {
      "cell_type": "code",
      "metadata": {
        "colab": {
          "base_uri": "https://localhost:8080/"
        },
        "id": "LAof19_Ill89",
        "outputId": "3908e0aa-71c3-4e0c-edb4-1119999fb06a"
      },
      "source": [
        "some_list = [1, 2, 3, 4]\n",
        "print(3 in some_list)"
      ],
      "execution_count": null,
      "outputs": [
        {
          "output_type": "stream",
          "text": [
            "True\n"
          ],
          "name": "stdout"
        }
      ]
    },
    {
      "cell_type": "code",
      "metadata": {
        "colab": {
          "base_uri": "https://localhost:8080/"
        },
        "id": "dDr_30kUloX6",
        "outputId": "60738fb9-2e19-49e5-c841-97179c0c94a9"
      },
      "source": [
        "print(some_list.index(3))"
      ],
      "execution_count": null,
      "outputs": [
        {
          "output_type": "stream",
          "text": [
            "2\n"
          ],
          "name": "stdout"
        }
      ]
    },
    {
      "cell_type": "code",
      "metadata": {
        "colab": {
          "base_uri": "https://localhost:8080/"
        },
        "id": "bq5agQxjlrEo",
        "outputId": "001b7fd9-a298-40d5-baef-b81bb44dbbac"
      },
      "source": [
        "print(max(some_list))"
      ],
      "execution_count": null,
      "outputs": [
        {
          "output_type": "stream",
          "text": [
            "4\n"
          ],
          "name": "stdout"
        }
      ]
    },
    {
      "cell_type": "code",
      "metadata": {
        "colab": {
          "base_uri": "https://localhost:8080/"
        },
        "id": "mSnT1OYmlt6o",
        "outputId": "7b932c1f-f377-4404-a3b0-c20953b0f0ed"
      },
      "source": [
        "print(min(some_list))"
      ],
      "execution_count": null,
      "outputs": [
        {
          "output_type": "stream",
          "text": [
            "1\n"
          ],
          "name": "stdout"
        }
      ]
    },
    {
      "cell_type": "code",
      "metadata": {
        "colab": {
          "base_uri": "https://localhost:8080/"
        },
        "id": "DZ331szrluxH",
        "outputId": "0c0e577e-b118-44b0-b3ef-29678dae557e"
      },
      "source": [
        "some_list = [4, 1, 3, 2]\n",
        "some_list.sort()\n",
        "print(some_list)"
      ],
      "execution_count": null,
      "outputs": [
        {
          "output_type": "stream",
          "text": [
            "[1, 2, 3, 4]\n"
          ],
          "name": "stdout"
        }
      ]
    },
    {
      "cell_type": "code",
      "metadata": {
        "colab": {
          "base_uri": "https://localhost:8080/"
        },
        "id": "kmxKqRB6lxwZ",
        "outputId": "4b9d5e58-a657-49dd-baac-2777760d46ba"
      },
      "source": [
        "some_list = [4, 1, 3, 2]\n",
        "output = sorted(some_list)\n",
        "print(some_list)\n",
        "print(output)"
      ],
      "execution_count": null,
      "outputs": [
        {
          "output_type": "stream",
          "text": [
            "[4, 1, 3, 2]\n",
            "[1, 2, 3, 4]\n"
          ],
          "name": "stdout"
        }
      ]
    },
    {
      "cell_type": "code",
      "metadata": {
        "id": "usF8V7OBl4Tu"
      },
      "source": [
        "some_list = [1, 2, 3, 4]\n",
        "some_list.reverse()\n",
        "print(some_list)"
      ],
      "execution_count": null,
      "outputs": []
    }
  ]
}