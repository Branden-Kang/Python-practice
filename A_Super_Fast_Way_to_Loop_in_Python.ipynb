{
  "nbformat": 4,
  "nbformat_minor": 0,
  "metadata": {
    "colab": {
      "name": "A Super-Fast Way to Loop in Python.ipynb",
      "provenance": [],
      "authorship_tag": "ABX9TyPdH17/DRDJJWlIP7AnI9ul"
    },
    "kernelspec": {
      "name": "python3",
      "display_name": "Python 3"
    },
    "language_info": {
      "name": "python"
    }
  },
  "cells": [
    {
      "cell_type": "markdown",
      "source": [
        "[Reference](https://towardsdatascience.com/a-super-fast-way-to-loop-in-python-6e58ba377a00)"
      ],
      "metadata": {
        "id": "irPUDJQjtv7_"
      }
    },
    {
      "cell_type": "markdown",
      "source": [
        "# The average loop"
      ],
      "metadata": {
        "id": "Tp-5VRCbt0j7"
      }
    },
    {
      "cell_type": "code",
      "execution_count": 1,
      "metadata": {
        "colab": {
          "base_uri": "https://localhost:8080/"
        },
        "id": "hkLnLg4Mtti5",
        "outputId": "c3c185e9-5c2f-43d9-8fac-74a80d921a87"
      },
      "outputs": [
        {
          "output_type": "stream",
          "name": "stdout",
          "text": [
            "Sum: 4999999950000000\n",
            "For loop: 15.697114706039429 seconds\n"
          ]
        }
      ],
      "source": [
        "import time\n",
        "start = time.time()\n",
        "\n",
        "total_sum = 0\n",
        "for i in range(100000000):\n",
        "    total_sum += i\n",
        "\n",
        "print(f'Sum: {total_sum}')\n",
        "print(f'For loop: {time.time() - start} seconds')"
      ]
    },
    {
      "cell_type": "markdown",
      "source": [
        "# A faster way to loop using built-in functions"
      ],
      "metadata": {
        "id": "OAcRm95duR0R"
      }
    },
    {
      "cell_type": "code",
      "source": [
        "import time\n",
        "start = time.time()\n",
        "\n",
        "total_sum = sum(range(100000000))\n",
        "\n",
        "print(f'Sum: {total_sum}')\n",
        "print(f'Sum/range: {time.time() - start} seconds')"
      ],
      "metadata": {
        "colab": {
          "base_uri": "https://localhost:8080/"
        },
        "id": "nwvWzTubuQ0U",
        "outputId": "8aa08aca-8b55-4232-80c4-6b7dd78356f3"
      },
      "execution_count": 2,
      "outputs": [
        {
          "output_type": "stream",
          "name": "stdout",
          "text": [
            "Sum: 4999999950000000\n",
            "Sum/range: 2.00111985206604 seconds\n"
          ]
        }
      ]
    },
    {
      "cell_type": "markdown",
      "source": [
        "# A super-fast way to loop using Numpy"
      ],
      "metadata": {
        "id": "OCM-WhaluUPs"
      }
    },
    {
      "cell_type": "code",
      "source": [
        "import time\n",
        "import numpy as np\n",
        "start = time.time()\n",
        "total_sum = np.sum(np.arange(100000000))\n",
        "\n",
        "print(f'Sum: {total_sum}')\n",
        "print(f'Duration: {time.time() - start} seconds')"
      ],
      "metadata": {
        "colab": {
          "base_uri": "https://localhost:8080/"
        },
        "id": "PCWUuVTWuTI1",
        "outputId": "6348991f-613d-4c24-8b5a-894a0f00d6b6"
      },
      "execution_count": 3,
      "outputs": [
        {
          "output_type": "stream",
          "name": "stdout",
          "text": [
            "Sum: 4999999950000000\n",
            "Duration: 0.40356016159057617 seconds\n"
          ]
        }
      ]
    },
    {
      "cell_type": "markdown",
      "source": [
        "# Putting loops and Numpy to the test with more computations"
      ],
      "metadata": {
        "id": "VpRBqZ-AuX6K"
      }
    },
    {
      "cell_type": "code",
      "source": [
        "import time\n",
        "import numpy as np\n",
        "\n",
        "random_scores = np.random.randint(1, 100, size=100000010)\n",
        "\n",
        "# SOL1: solving problem using a for loop\n",
        "start = time.time()\n",
        "\n",
        "count_failed = 0\n",
        "sum_failed = 0\n",
        "for score in random_scores:\n",
        "    if score < 70:\n",
        "        sum_failed += score\n",
        "        count_failed += 1\n",
        "\n",
        "print(sum_failed/count_failed)\n",
        "print(f'For Loop: {time.time() - start} seconds')"
      ],
      "metadata": {
        "colab": {
          "base_uri": "https://localhost:8080/"
        },
        "id": "C-xSfhGQuV9B",
        "outputId": "2c0dfb97-a2c4-47be-bf52-501a5fb2822b"
      },
      "execution_count": 4,
      "outputs": [
        {
          "output_type": "stream",
          "name": "stdout",
          "text": [
            "35.00151958489598\n",
            "For Loop: 38.89660882949829 seconds\n"
          ]
        }
      ]
    },
    {
      "cell_type": "code",
      "source": [
        "import time\n",
        "import numpy as np\n",
        "\n",
        "random_scores = np.random.randint(1, 100, size=100000010)\n",
        "\n",
        "# SOL2: solving problem using vector operations\n",
        "start = time.time()\n",
        "\n",
        "mean_failed = (random_scores[random_scores < 70]).mean()\n",
        "print(mean_failed)\n",
        "\n",
        "print(f'Numpy: {time.time() - start} seconds')"
      ],
      "metadata": {
        "colab": {
          "base_uri": "https://localhost:8080/"
        },
        "id": "8reashWEuZ6I",
        "outputId": "0630a259-affb-420a-c40a-e4483eb08799"
      },
      "execution_count": 5,
      "outputs": [
        {
          "output_type": "stream",
          "name": "stdout",
          "text": [
            "35.00037563269826\n",
            "Numpy: 0.862046480178833 seconds\n"
          ]
        }
      ]
    }
  ]
}