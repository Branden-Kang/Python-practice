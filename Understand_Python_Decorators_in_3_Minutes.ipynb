{
  "nbformat": 4,
  "nbformat_minor": 0,
  "metadata": {
    "colab": {
      "name": "Understand Python Decorators in 3 Minutes.ipynb",
      "provenance": [],
      "authorship_tag": "ABX9TyNpLW9Lq5u6JPJnM1LDzspV"
    },
    "kernelspec": {
      "name": "python3",
      "display_name": "Python 3"
    },
    "language_info": {
      "name": "python"
    }
  },
  "cells": [
    {
      "cell_type": "markdown",
      "metadata": {
        "id": "GkS3ONLb15if"
      },
      "source": [
        "[Reference](https://betterprogramming.pub/understand-python-decorators-in-3-minutes-ec48fdc8e2cf)"
      ]
    },
    {
      "cell_type": "code",
      "metadata": {
        "id": "WZj6VT-l14al"
      },
      "source": [
        "def guard_zero(operate):\n",
        "    def inner(x, y):\n",
        "        if y == 0:\n",
        "            print(\"Cannot divide by 0.\")\n",
        "            return\n",
        "        return operate(x, y)\n",
        "    return inner"
      ],
      "execution_count": 1,
      "outputs": []
    },
    {
      "cell_type": "code",
      "metadata": {
        "id": "rC5pq8jS2vFI"
      },
      "source": [
        "def divide(x, y):\n",
        "    return x / y"
      ],
      "execution_count": 3,
      "outputs": []
    },
    {
      "cell_type": "code",
      "metadata": {
        "id": "auZCEzBj2jK2"
      },
      "source": [
        "divide = guard_zero(divide)"
      ],
      "execution_count": 4,
      "outputs": []
    },
    {
      "cell_type": "code",
      "metadata": {
        "id": "qM6Nh3sT2rig"
      },
      "source": [
        "@guard_zero\n",
        "def divide(x, y):\n",
        "    return x / y"
      ],
      "execution_count": 5,
      "outputs": []
    },
    {
      "cell_type": "code",
      "metadata": {
        "colab": {
          "base_uri": "https://localhost:8080/"
        },
        "id": "HpDf7uOL2yHw",
        "outputId": "aec3ae79-f448-4899-a104-ec27069d42db"
      },
      "source": [
        "print(divide(5, 0))\n",
        "print(divide(5, 2))"
      ],
      "execution_count": 6,
      "outputs": [
        {
          "output_type": "stream",
          "text": [
            "Cannot divide by 0.\n",
            "None\n",
            "2.5\n"
          ],
          "name": "stdout"
        }
      ]
    }
  ]
}