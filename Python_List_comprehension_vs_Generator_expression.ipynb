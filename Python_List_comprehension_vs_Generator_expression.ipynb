{
  "nbformat": 4,
  "nbformat_minor": 0,
  "metadata": {
    "colab": {
      "name": "Python: List comprehension vs Generator expression.ipynb",
      "provenance": [],
      "collapsed_sections": [],
      "authorship_tag": "ABX9TyN+AtFcXB6K6+O7K9O77RCh"
    },
    "kernelspec": {
      "name": "python3",
      "display_name": "Python 3"
    },
    "language_info": {
      "name": "python"
    }
  },
  "cells": [
    {
      "cell_type": "markdown",
      "metadata": {
        "id": "g6uC5noXnaQc"
      },
      "source": [
        "[Reference](https://medium.com/dsc-ghrce/python-list-comprehension-vs-generator-expression-db1a66dc7e69)"
      ]
    },
    {
      "cell_type": "markdown",
      "metadata": {
        "id": "LVl726sBnrGk"
      },
      "source": [
        "# LIST COMPREHENSION:\n"
      ]
    },
    {
      "cell_type": "code",
      "metadata": {
        "colab": {
          "base_uri": "https://localhost:8080/"
        },
        "id": "vo7VkpPqnUT3",
        "outputId": "4a61e4d8-9a94-4c0d-b792-fe749c6cb1cf"
      },
      "source": [
        "names = [\"vidhanshu\",\"vidit\",\"sobhan\",\"laksh\"]\n",
        "empty = []\n",
        "for name in names:\n",
        "    if name[0] == 'v':\n",
        "        empty.append(name)\n",
        "print(empty)"
      ],
      "execution_count": 1,
      "outputs": [
        {
          "output_type": "stream",
          "name": "stdout",
          "text": [
            "['vidhanshu', 'vidit']\n"
          ]
        }
      ]
    },
    {
      "cell_type": "code",
      "metadata": {
        "colab": {
          "base_uri": "https://localhost:8080/"
        },
        "id": "FzjN6KRsntRd",
        "outputId": "871ed8a9-35a3-4c12-aad9-338d7c96d8ed"
      },
      "source": [
        "names = [\"vidhanshu\",\"vidit\",\"sobhan\",\"laksh\"]\n",
        "[name for name in names if name[0] == 'v']"
      ],
      "execution_count": 2,
      "outputs": [
        {
          "output_type": "execute_result",
          "data": {
            "text/plain": [
              "['vidhanshu', 'vidit']"
            ]
          },
          "metadata": {},
          "execution_count": 2
        }
      ]
    },
    {
      "cell_type": "code",
      "metadata": {
        "colab": {
          "base_uri": "https://localhost:8080/"
        },
        "id": "-WsP6xiAn2el",
        "outputId": "f29e49c6-dcc5-42ba-cea5-578b5c3d1827"
      },
      "source": [
        "eemp = []\n",
        "for num in range(10):\n",
        "    if num < 6:\n",
        "        eemp.append(num)\n",
        "print(eemp)"
      ],
      "execution_count": 3,
      "outputs": [
        {
          "output_type": "stream",
          "name": "stdout",
          "text": [
            "[0, 1, 2, 3, 4, 5]\n"
          ]
        }
      ]
    },
    {
      "cell_type": "code",
      "metadata": {
        "colab": {
          "base_uri": "https://localhost:8080/"
        },
        "id": "7hr8xMOrn3iI",
        "outputId": "1ec60009-f792-4dc2-9528-697885afd92e"
      },
      "source": [
        "eemp = [num for num in range(10) if num <6]\n",
        "print(eemp)"
      ],
      "execution_count": 4,
      "outputs": [
        {
          "output_type": "stream",
          "name": "stdout",
          "text": [
            "[0, 1, 2, 3, 4, 5]\n"
          ]
        }
      ]
    },
    {
      "cell_type": "code",
      "metadata": {
        "colab": {
          "base_uri": "https://localhost:8080/"
        },
        "id": "Eh5tNdOzn4Lw",
        "outputId": "7e9b53fa-9fb2-43ca-e861-b969b047b754"
      },
      "source": [
        "emp = [num < 6 for num in range(10)]\n",
        "print(emp)"
      ],
      "execution_count": 5,
      "outputs": [
        {
          "output_type": "stream",
          "name": "stdout",
          "text": [
            "[True, True, True, True, True, True, False, False, False, False]\n"
          ]
        }
      ]
    },
    {
      "cell_type": "code",
      "metadata": {
        "colab": {
          "base_uri": "https://localhost:8080/"
        },
        "id": "Y8ry2n-Zn5RF",
        "outputId": "92444e02-9e72-458c-9d74-5d3a21e0fc68"
      },
      "source": [
        "names = [\"vidhanshu\",\"vidit\",\"sobhan\",\"laksh\"]\n",
        "empty = [name[0] == 'v' for name in names]\n",
        "print(empty)"
      ],
      "execution_count": 6,
      "outputs": [
        {
          "output_type": "stream",
          "name": "stdout",
          "text": [
            "[True, True, False, False]\n"
          ]
        }
      ]
    },
    {
      "cell_type": "code",
      "metadata": {
        "colab": {
          "base_uri": "https://localhost:8080/"
        },
        "id": "E5sJnnkgn6OE",
        "outputId": "76ce8984-a60b-441f-9b09-1f3a6582ba2b"
      },
      "source": [
        "all([num for num in [0,1,2,3]])"
      ],
      "execution_count": 7,
      "outputs": [
        {
          "output_type": "execute_result",
          "data": {
            "text/plain": [
              "False"
            ]
          },
          "metadata": {},
          "execution_count": 7
        }
      ]
    },
    {
      "cell_type": "code",
      "metadata": {
        "colab": {
          "base_uri": "https://localhost:8080/"
        },
        "id": "btXXuFq4n7tK",
        "outputId": "86d11ccc-7c78-4e13-bfc2-dd2ce550000f"
      },
      "source": [
        "all([])"
      ],
      "execution_count": 8,
      "outputs": [
        {
          "output_type": "execute_result",
          "data": {
            "text/plain": [
              "True"
            ]
          },
          "metadata": {},
          "execution_count": 8
        }
      ]
    },
    {
      "cell_type": "code",
      "metadata": {
        "colab": {
          "base_uri": "https://localhost:8080/"
        },
        "id": "dxkvtP2Tn9Bt",
        "outputId": "b708412f-8afe-4e27-ba32-e29001beb25c"
      },
      "source": [
        "all([num < 6 for num in range(6)])"
      ],
      "execution_count": 9,
      "outputs": [
        {
          "output_type": "execute_result",
          "data": {
            "text/plain": [
              "True"
            ]
          },
          "metadata": {},
          "execution_count": 9
        }
      ]
    },
    {
      "cell_type": "code",
      "metadata": {
        "colab": {
          "base_uri": "https://localhost:8080/"
        },
        "id": "tK1O7q9Un-v0",
        "outputId": "3f8d74f7-e144-4bbc-a6cc-1330ea22a28a"
      },
      "source": [
        "all([num < 6 for num in range(10)])"
      ],
      "execution_count": 10,
      "outputs": [
        {
          "output_type": "execute_result",
          "data": {
            "text/plain": [
              "False"
            ]
          },
          "metadata": {},
          "execution_count": 10
        }
      ]
    },
    {
      "cell_type": "code",
      "metadata": {
        "colab": {
          "base_uri": "https://localhost:8080/"
        },
        "id": "HLBzVcDKn_qO",
        "outputId": "98e1909f-b770-4bea-a9cb-bb89eccb1d8a"
      },
      "source": [
        "any([num for num in [0,1,2,3]])"
      ],
      "execution_count": 11,
      "outputs": [
        {
          "output_type": "execute_result",
          "data": {
            "text/plain": [
              "True"
            ]
          },
          "metadata": {},
          "execution_count": 11
        }
      ]
    },
    {
      "cell_type": "code",
      "metadata": {
        "colab": {
          "base_uri": "https://localhost:8080/"
        },
        "id": "jTP9tpqooFM2",
        "outputId": "75df99bf-710c-488b-a52b-8c39ec32326b"
      },
      "source": [
        "any([])"
      ],
      "execution_count": 12,
      "outputs": [
        {
          "output_type": "execute_result",
          "data": {
            "text/plain": [
              "False"
            ]
          },
          "metadata": {},
          "execution_count": 12
        }
      ]
    },
    {
      "cell_type": "code",
      "metadata": {
        "colab": {
          "base_uri": "https://localhost:8080/"
        },
        "id": "t1GojWdMoGHP",
        "outputId": "3ef84488-79d4-4472-ba33-4f7003e62a59"
      },
      "source": [
        "any([num < 6 for num in range(10)])"
      ],
      "execution_count": 13,
      "outputs": [
        {
          "output_type": "execute_result",
          "data": {
            "text/plain": [
              "True"
            ]
          },
          "metadata": {},
          "execution_count": 13
        }
      ]
    },
    {
      "cell_type": "code",
      "metadata": {
        "colab": {
          "base_uri": "https://localhost:8080/"
        },
        "id": "vDlX7T5DoHUI",
        "outputId": "1587f61d-f84f-432c-e7a4-6b470019758a"
      },
      "source": [
        "any([num % 2 == 0 for num in [10,2,16,18,21]])"
      ],
      "execution_count": 14,
      "outputs": [
        {
          "output_type": "execute_result",
          "data": {
            "text/plain": [
              "True"
            ]
          },
          "metadata": {},
          "execution_count": 14
        }
      ]
    },
    {
      "cell_type": "code",
      "metadata": {
        "colab": {
          "base_uri": "https://localhost:8080/"
        },
        "id": "-P7-oKFFoIQ3",
        "outputId": "e9dcd9c2-06d9-4fbb-c200-d4212b5cbac4"
      },
      "source": [
        "any([num % 2 == 1 for num in [10,2,16,18,21]])"
      ],
      "execution_count": 15,
      "outputs": [
        {
          "output_type": "execute_result",
          "data": {
            "text/plain": [
              "True"
            ]
          },
          "metadata": {},
          "execution_count": 15
        }
      ]
    },
    {
      "cell_type": "code",
      "metadata": {
        "colab": {
          "base_uri": "https://localhost:8080/"
        },
        "id": "tPklwzB0oLVJ",
        "outputId": "34533dd9-af5e-4420-c166-b42028cf5ea2"
      },
      "source": [
        "any([num % 2 == 2 for num in [10,2,16,18,21]])"
      ],
      "execution_count": 16,
      "outputs": [
        {
          "output_type": "execute_result",
          "data": {
            "text/plain": [
              "False"
            ]
          },
          "metadata": {},
          "execution_count": 16
        }
      ]
    },
    {
      "cell_type": "code",
      "metadata": {
        "colab": {
          "base_uri": "https://localhost:8080/"
        },
        "id": "WLlA1by2oMSZ",
        "outputId": "518ae0c1-5e4f-4b28-8c45-92eb44ea7a6f"
      },
      "source": [
        "any(num % 2 == 1 for num in [10,2,16,18,21])"
      ],
      "execution_count": 17,
      "outputs": [
        {
          "output_type": "execute_result",
          "data": {
            "text/plain": [
              "True"
            ]
          },
          "metadata": {},
          "execution_count": 17
        }
      ]
    },
    {
      "cell_type": "code",
      "metadata": {
        "colab": {
          "base_uri": "https://localhost:8080/"
        },
        "id": "e0ermfXLoNSE",
        "outputId": "8c7a5850-e720-4c44-beb6-de0d78dd5698"
      },
      "source": [
        "any(num % 2 == 2 for num in [10,2,16,18,21])"
      ],
      "execution_count": 18,
      "outputs": [
        {
          "output_type": "execute_result",
          "data": {
            "text/plain": [
              "False"
            ]
          },
          "metadata": {},
          "execution_count": 18
        }
      ]
    },
    {
      "cell_type": "code",
      "metadata": {
        "colab": {
          "base_uri": "https://localhost:8080/"
        },
        "id": "IJoBUp-EoORf",
        "outputId": "7bed598c-9b87-4678-eeaa-67ae25faba3b"
      },
      "source": [
        "all(num < 6 for num in range(10))"
      ],
      "execution_count": 19,
      "outputs": [
        {
          "output_type": "execute_result",
          "data": {
            "text/plain": [
              "False"
            ]
          },
          "metadata": {},
          "execution_count": 19
        }
      ]
    },
    {
      "cell_type": "code",
      "metadata": {
        "colab": {
          "base_uri": "https://localhost:8080/"
        },
        "id": "_dQKX4f_oO8Q",
        "outputId": "53b7c46a-6a90-43dc-c18a-90e5c9185be4"
      },
      "source": [
        "names = [\"vidhanshu\",\"vidit\",\"sobhan\",\"laksh\"]\n",
        "all(name[0] == 'v' for name in names)"
      ],
      "execution_count": 20,
      "outputs": [
        {
          "output_type": "execute_result",
          "data": {
            "text/plain": [
              "False"
            ]
          },
          "metadata": {},
          "execution_count": 20
        }
      ]
    },
    {
      "cell_type": "code",
      "metadata": {
        "colab": {
          "base_uri": "https://localhost:8080/"
        },
        "id": "kNoeM4kqoQHn",
        "outputId": "8dd57fd3-0cd8-4fdf-fd6c-97bdc30f03a7"
      },
      "source": [
        "names = [\"vidhanshu\",\"vidit\",\"sobhan\",\"laksh\"]\n",
        "(name[0] == 'v' for name in names)"
      ],
      "execution_count": 21,
      "outputs": [
        {
          "output_type": "execute_result",
          "data": {
            "text/plain": [
              "<generator object <genexpr> at 0x7fcabb83fd50>"
            ]
          },
          "metadata": {},
          "execution_count": 21
        }
      ]
    },
    {
      "cell_type": "markdown",
      "metadata": {
        "id": "rNkktkatoRgE"
      },
      "source": [
        "# GENERATOR EXPRESSION"
      ]
    },
    {
      "cell_type": "code",
      "metadata": {
        "colab": {
          "base_uri": "https://localhost:8080/"
        },
        "id": "JGYtgK3SoQ5e",
        "outputId": "f76f38ee-e922-4e97-e100-7a200fd5aba0"
      },
      "source": [
        "generator = (num ** 3 for num in range(5))\n",
        "for num in generator:\n",
        "    print (num)"
      ],
      "execution_count": 22,
      "outputs": [
        {
          "output_type": "stream",
          "name": "stdout",
          "text": [
            "0\n",
            "1\n",
            "8\n",
            "27\n",
            "64\n"
          ]
        }
      ]
    },
    {
      "cell_type": "code",
      "metadata": {
        "colab": {
          "base_uri": "https://localhost:8080/"
        },
        "id": "WNtEIzu2oTKO",
        "outputId": "a89f3a6c-52ac-4075-f906-487267a0f32b"
      },
      "source": [
        "generator = ([num ** 3 for num in range(5)])\n",
        "print(generator)"
      ],
      "execution_count": 23,
      "outputs": [
        {
          "output_type": "stream",
          "name": "stdout",
          "text": [
            "[0, 1, 8, 27, 64]\n"
          ]
        }
      ]
    },
    {
      "cell_type": "code",
      "metadata": {
        "colab": {
          "base_uri": "https://localhost:8080/"
        },
        "id": "B70Jcv7-oUMQ",
        "outputId": "2e2f9994-9aca-4e03-cff1-b916ac613e82"
      },
      "source": [
        "generator = (num ** 3 for num in range(5))\n",
        "print(list(generator))"
      ],
      "execution_count": 24,
      "outputs": [
        {
          "output_type": "stream",
          "name": "stdout",
          "text": [
            "[0, 1, 8, 27, 64]\n"
          ]
        }
      ]
    },
    {
      "cell_type": "code",
      "metadata": {
        "colab": {
          "base_uri": "https://localhost:8080/"
        },
        "id": "JRR2fcisoVPp",
        "outputId": "41c1b559-d7ac-413d-c159-b1166ffbfad8"
      },
      "source": [
        "import sys\n",
        "\n",
        "%timeit listcomp = sys.getsizeof([x*10 for x in range(500)])\n",
        "%timeit generatorexp = sys.getsizeof(x*10 for x in range(500))\n",
        "\n",
        "\n",
        "listcomp = sys.getsizeof([x*10 for x in range(500)])\n",
        "generatorexp = sys.getsizeof(x*10 for x in range(500))\n",
        "print(f\"List comprehension takes {listcomp} bytes\")\n",
        "print(f\"Generator expression takes {generatorexp} bytes\")"
      ],
      "execution_count": 25,
      "outputs": [
        {
          "output_type": "stream",
          "name": "stdout",
          "text": [
            "The slowest run took 10.14 times longer than the fastest. This could mean that an intermediate result is being cached.\n",
            "10000 loops, best of 5: 36.3 µs per loop\n",
            "The slowest run took 7.60 times longer than the fastest. This could mean that an intermediate result is being cached.\n",
            "1000000 loops, best of 5: 794 ns per loop\n",
            "List comprehension takes 4280 bytes\n",
            "Generator expression takes 128 bytes\n"
          ]
        }
      ]
    }
  ]
}