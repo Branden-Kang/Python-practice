{
  "nbformat": 4,
  "nbformat_minor": 0,
  "metadata": {
    "colab": {
      "name": "A Geologist’s Introduction to Object-Oriented Programming in Python.ipynb",
      "provenance": [],
      "authorship_tag": "ABX9TyM7NtP5ceH7D8yFpnL4vAHp",
      "include_colab_link": true
    },
    "kernelspec": {
      "name": "python3",
      "display_name": "Python 3"
    },
    "language_info": {
      "name": "python"
    }
  },
  "cells": [
    {
      "cell_type": "markdown",
      "metadata": {
        "id": "view-in-github",
        "colab_type": "text"
      },
      "source": [
        "<a href=\"https://colab.research.google.com/github/Branden-Kang/Python-practice/blob/master/A_Geologist%E2%80%99s_Introduction_to_Object_Oriented_Programming_in_Python.ipynb\" target=\"_parent\"><img src=\"https://colab.research.google.com/assets/colab-badge.svg\" alt=\"Open In Colab\"/></a>"
      ]
    },
    {
      "cell_type": "markdown",
      "metadata": {
        "id": "nYhM3mLXBFy1"
      },
      "source": [
        "[Reference](https://medium.com/pythonland/a-geologists-introduction-to-object-oriented-programming-in-python-3ba51f55ebbc)"
      ]
    },
    {
      "cell_type": "markdown",
      "metadata": {
        "id": "c8GvvfMxBcm6"
      },
      "source": [
        "# Defining Class Variables"
      ]
    },
    {
      "cell_type": "code",
      "metadata": {
        "id": "pPg2blbsFxAw"
      },
      "source": [
        "class Car:\n",
        "    total = 0 \n",
        "    def __init__(self, name, size, color):\n",
        "\n",
        "        self.name = name\n",
        "        self.size = size\n",
        "        self.color = color\n",
        "        car.total+=1"
      ],
      "execution_count": 27,
      "outputs": []
    },
    {
      "cell_type": "code",
      "metadata": {
        "colab": {
          "base_uri": "https://localhost:8080/"
        },
        "id": "Hj33RX3-F5uF",
        "outputId": "3a1abe65-c6cf-4e77-b511-f4a5acc54222"
      },
      "source": [
        "audi = Car('Audi', 'Big', color='Blue')\n",
        "print('total object: ' + str(car.total))\n",
        "bmw = Car('bmw','Medium', color='White')\n",
        "print('total object: ' + str(car.total))"
      ],
      "execution_count": 28,
      "outputs": [
        {
          "output_type": "stream",
          "text": [
            "total object: 1\n",
            "total object: 2\n"
          ],
          "name": "stdout"
        }
      ]
    },
    {
      "cell_type": "code",
      "metadata": {
        "colab": {
          "base_uri": "https://localhost:8080/"
        },
        "id": "reK34cYbGynW",
        "outputId": "a5156d43-bc91-4733-a422-fa0e5be6bb39"
      },
      "source": [
        "print(audi.size)\n",
        "print(bmw.size)"
      ],
      "execution_count": 29,
      "outputs": [
        {
          "output_type": "stream",
          "text": [
            "Big\n",
            "Medium\n"
          ],
          "name": "stdout"
        }
      ]
    },
    {
      "cell_type": "code",
      "metadata": {
        "colab": {
          "base_uri": "https://localhost:8080/"
        },
        "id": "MGggGd5cG0IH",
        "outputId": "6ad98d7b-a03f-45c3-c869-db783f61a5b4"
      },
      "source": [
        "print(audi.__dict__)\n",
        "print(bmw.__dict__)"
      ],
      "execution_count": 30,
      "outputs": [
        {
          "output_type": "stream",
          "text": [
            "{'name': 'Audi', 'size': 'Big', 'color': 'Blue'}\n",
            "{'name': 'bmw', 'size': 'Medium', 'color': 'White'}\n"
          ],
          "name": "stdout"
        }
      ]
    },
    {
      "cell_type": "code",
      "metadata": {
        "id": "4j7lCmpVH-3b"
      },
      "source": [
        "class BMW(Car):\n",
        "    def __init__(self, year, size, color):\n",
        "        super().__init__(name='BMW', size=size, color=color)\n",
        "        self.year = year"
      ],
      "execution_count": 31,
      "outputs": []
    },
    {
      "cell_type": "code",
      "metadata": {
        "colab": {
          "base_uri": "https://localhost:8080/"
        },
        "id": "c-ZnfCvBIAwG",
        "outputId": "b9a5510a-2527-4dd6-adf6-4b0ed498a23a"
      },
      "source": [
        "bmw = BMW(year=2021, size='Big', color='White')\n",
        "print(bmw.__dict__)"
      ],
      "execution_count": 32,
      "outputs": [
        {
          "output_type": "stream",
          "text": [
            "{'name': 'BMW', 'size': 'Big', 'color': 'White', 'year': 2021}\n"
          ],
          "name": "stdout"
        }
      ]
    },
    {
      "cell_type": "code",
      "metadata": {
        "colab": {
          "base_uri": "https://localhost:8080/"
        },
        "id": "ZOkmpWlEKrzO",
        "outputId": "223f6d7b-d31c-48ea-9223-86dd30946f39"
      },
      "source": [
        "class Car:\n",
        "    def __init__(self, name, size, color):\n",
        "\n",
        "        self.name = name\n",
        "        self.size = size\n",
        "        self.color = color\n",
        "    def add_additional_cost(self, price):\n",
        "        self.extra_cost = price*0.1\n",
        "\n",
        "audi = Car('Audi', 'Big', 'Blue')\n",
        "Car.add_additional_cost(audi,100)\n",
        "print(audi.__dict__)"
      ],
      "execution_count": 35,
      "outputs": [
        {
          "output_type": "stream",
          "text": [
            "{'name': 'Audi', 'size': 'Big', 'color': 'Blue', 'extra_cost': 10.0}\n"
          ],
          "name": "stdout"
        }
      ]
    },
    {
      "cell_type": "code",
      "metadata": {
        "id": "4FBqXZKeF2ah"
      },
      "source": [
        "# define object and print total object\n",
        "limestone = rock('limestone','mesozoic', 'lagoon')\n",
        "print('total object: ' + str(rock.total))\n",
        "sandstone = rock('sandstone','lower permian', 'fan delta')\n",
        "print('total object: ' + str(rock.total))"
      ],
      "execution_count": null,
      "outputs": []
    },
    {
      "cell_type": "code",
      "metadata": {
        "id": "s2aW8h9DAe1L"
      },
      "source": [
        "class rock:\n",
        "    total=0\n",
        "    \n",
        "    def __init__(self, lithology, age,  environment):\n",
        "        self.lithology = lithology\n",
        "        self.age = age\n",
        "        self.environment = environment\n",
        "        rock.total+=1"
      ],
      "execution_count": 2,
      "outputs": []
    },
    {
      "cell_type": "code",
      "metadata": {
        "colab": {
          "base_uri": "https://localhost:8080/"
        },
        "id": "oLjXtV88BKmw",
        "outputId": "4fe9bf88-b220-4c15-ab6d-838fccdb68f1"
      },
      "source": [
        "# define object and print total object\n",
        "limestone = rock('limestone','mesozoic', 'lagoon')\n",
        "print('total object: ' + str(rock.total))\n",
        "sandstone = rock('sandstone','lower permian', 'fan delta')\n",
        "print('total object: ' + str(rock.total))"
      ],
      "execution_count": 3,
      "outputs": [
        {
          "output_type": "stream",
          "text": [
            "total object: 1\n",
            "total object: 2\n"
          ],
          "name": "stdout"
        }
      ]
    },
    {
      "cell_type": "code",
      "metadata": {
        "colab": {
          "base_uri": "https://localhost:8080/"
        },
        "id": "Ok0plewTBRcP",
        "outputId": "556827f5-f319-4084-dc21-ef8b10069900"
      },
      "source": [
        "print(sandstone.age)\n",
        "print(limestone.age)"
      ],
      "execution_count": 4,
      "outputs": [
        {
          "output_type": "stream",
          "text": [
            "lower permian\n",
            "mesozoic\n"
          ],
          "name": "stdout"
        }
      ]
    },
    {
      "cell_type": "code",
      "metadata": {
        "colab": {
          "base_uri": "https://localhost:8080/"
        },
        "id": "61_nEggXBTdH",
        "outputId": "11b3c02e-cdc6-4349-a8b0-a6e54495eb71"
      },
      "source": [
        "print(sandstone.__dict__)\n",
        "print(limestone.__dict__)"
      ],
      "execution_count": 5,
      "outputs": [
        {
          "output_type": "stream",
          "text": [
            "{'lithology': 'sandstone', 'age': 'lower permian', 'environment': 'fan delta'}\n",
            "{'lithology': 'limestone', 'age': 'mesozoic', 'environment': 'lagoon'}\n"
          ],
          "name": "stdout"
        }
      ]
    },
    {
      "cell_type": "markdown",
      "metadata": {
        "id": "MIFzPq7EBbDV"
      },
      "source": [
        "# Converting to DataFrame"
      ]
    },
    {
      "cell_type": "code",
      "metadata": {
        "colab": {
          "base_uri": "https://localhost:8080/"
        },
        "id": "UDJ9h4zDBU1m",
        "outputId": "6b1e3d9d-9458-4c02-ec4c-2d702d69a438"
      },
      "source": [
        "import pandas as pd\n",
        "\n",
        "rocklist = [sandstone, limestone] #define list of all objects\n",
        "df1 = pd.DataFrame.from_records([r.__dict__ for r in rocklist])\n",
        "print(df1)"
      ],
      "execution_count": 6,
      "outputs": [
        {
          "output_type": "stream",
          "text": [
            "   lithology            age environment\n",
            "0  sandstone  lower permian   fan delta\n",
            "1  limestone       mesozoic      lagoon\n"
          ],
          "name": "stdout"
        }
      ]
    },
    {
      "cell_type": "markdown",
      "metadata": {
        "id": "RXBehFw9BhJB"
      },
      "source": [
        " # Inheritance"
      ]
    },
    {
      "cell_type": "code",
      "metadata": {
        "id": "N3gt9L7TBYn7"
      },
      "source": [
        "class geophysics(rock):\n",
        "    def __init__(self, lithology, age, environment, velocity):\n",
        "        super().__init__(lithology, age, environment)\n",
        "        self.velocity = velocity"
      ],
      "execution_count": 7,
      "outputs": []
    },
    {
      "cell_type": "code",
      "metadata": {
        "colab": {
          "base_uri": "https://localhost:8080/"
        },
        "id": "E1xC3OPmBnyr",
        "outputId": "586dfaf5-36d6-4813-c0e1-570804ccfab9"
      },
      "source": [
        "sandstone = geophysics('sandstone','lower permian', 'fan delta', 5800)\n",
        "print(sandstone.__dict__)"
      ],
      "execution_count": 8,
      "outputs": [
        {
          "output_type": "stream",
          "text": [
            "{'lithology': 'sandstone', 'age': 'lower permian', 'environment': 'fan delta', 'velocity': 5800}\n"
          ],
          "name": "stdout"
        }
      ]
    },
    {
      "cell_type": "markdown",
      "metadata": {
        "id": "VhjRHxcbCODo"
      },
      "source": [
        "# Defining Behaviour with Methods (Calculating attributes)"
      ]
    },
    {
      "cell_type": "code",
      "metadata": {
        "id": "QWYI8oaDBoSv"
      },
      "source": [
        "class geophysics(rock):\n",
        "    def __init__(self, lithology, age, environment, velocity):\n",
        "        super().__init__(lithology, age, environment)\n",
        "        self.velocity = velocity\n",
        "    \n",
        "    def P_impedance(self, density):\n",
        "        self.p_impedance = self.velocity*density"
      ],
      "execution_count": 9,
      "outputs": []
    },
    {
      "cell_type": "code",
      "metadata": {
        "colab": {
          "base_uri": "https://localhost:8080/"
        },
        "id": "pYHW1Ev4CTyw",
        "outputId": "efbe77ff-c94f-40bf-db80-7211041bd38d"
      },
      "source": [
        "geophysics.P_impedance(sandstone,2.2)\n",
        "print(sandstone.__dict__)"
      ],
      "execution_count": 10,
      "outputs": [
        {
          "output_type": "stream",
          "text": [
            "{'lithology': 'sandstone', 'age': 'lower permian', 'environment': 'fan delta', 'velocity': 5800, 'p_impedance': 12760.000000000002}\n"
          ],
          "name": "stdout"
        }
      ]
    },
    {
      "cell_type": "code",
      "metadata": {
        "colab": {
          "base_uri": "https://localhost:8080/"
        },
        "id": "1nJVPWm5CUMj",
        "outputId": "8771c335-eec7-4e0d-dba5-cb92c01d3120"
      },
      "source": [
        "#change attributes with function\n",
        "geophysics.P_impedance(sandstone,2.5)\n",
        "print('Sandstone P Impedance: ' + str(sandstone.p_impedance))"
      ],
      "execution_count": 11,
      "outputs": [
        {
          "output_type": "stream",
          "text": [
            "Sandstone P Impedance: 14500.0\n"
          ],
          "name": "stdout"
        }
      ]
    },
    {
      "cell_type": "code",
      "metadata": {
        "colab": {
          "base_uri": "https://localhost:8080/"
        },
        "id": "M-PznunGCV6q",
        "outputId": "cd4605de-e8a2-4a62-e5a2-106d5d72a8e0"
      },
      "source": [
        "rocklist = [sandstone, limestone] #re-define list of all objects\n",
        "df2 = pd.DataFrame.from_records([r.__dict__ for r in rocklist])\n",
        "print(df2)"
      ],
      "execution_count": 19,
      "outputs": [
        {
          "output_type": "stream",
          "text": [
            "   lithology            age environment  velocity  p_impedance\n",
            "0  sandstone  lower permian   fan delta    5800.0      14500.0\n",
            "1  limestone       mesozoic      lagoon       NaN          NaN\n"
          ],
          "name": "stdout"
        }
      ]
    },
    {
      "cell_type": "markdown",
      "metadata": {
        "id": "eg_mBJgKCe0v"
      },
      "source": [
        "# Defining Behaviour/Method (Using convert())"
      ]
    },
    {
      "cell_type": "code",
      "metadata": {
        "id": "cKTlMKY5CcQv"
      },
      "source": [
        "import pandas as pd\n",
        "\n",
        "class rock:\n",
        "    total=0\n",
        "    \n",
        "    def __init__(self, lithology, age,  environment):\n",
        "        self.lithology = lithology\n",
        "        self.age = age\n",
        "        self.environment = environment\n",
        "        rock.total+=1\n",
        "    \n",
        "    def convert(self):\n",
        "        return {'lithology' : self.lithology, 'age':self.age,\n",
        "                'environment': self.environment}\n",
        "    \n",
        "\n",
        "class geophysics(rock):\n",
        "    def __init__(self, lithology, age, environment, velocity):\n",
        "        super().__init__(lithology, age, environment)\n",
        "        self.velocity = velocity\n",
        "    \n",
        "    def P_impedance(self, density):\n",
        "        self.p_impedance = self.velocity*density"
      ],
      "execution_count": 22,
      "outputs": []
    },
    {
      "cell_type": "code",
      "metadata": {
        "colab": {
          "base_uri": "https://localhost:8080/",
          "height": 317
        },
        "id": "wsokxRNfClaB",
        "outputId": "2111185c-04d8-467f-f13c-13f013c076be"
      },
      "source": [
        "#not include velocity & p impedance in dataframe\n",
        "df3 = pd.DataFrame.from_records([r.convert() for r in rocklist])\n",
        "print(df3)"
      ],
      "execution_count": 23,
      "outputs": [
        {
          "output_type": "error",
          "ename": "AttributeError",
          "evalue": "ignored",
          "traceback": [
            "\u001b[0;31m---------------------------------------------------------------------------\u001b[0m",
            "\u001b[0;31mAttributeError\u001b[0m                            Traceback (most recent call last)",
            "\u001b[0;32m<ipython-input-23-d91b917deaac>\u001b[0m in \u001b[0;36m<module>\u001b[0;34m()\u001b[0m\n\u001b[1;32m      1\u001b[0m \u001b[0;31m#not include velocity & p impedance in dataframe\u001b[0m\u001b[0;34m\u001b[0m\u001b[0;34m\u001b[0m\u001b[0;34m\u001b[0m\u001b[0m\n\u001b[0;32m----> 2\u001b[0;31m \u001b[0mdf3\u001b[0m \u001b[0;34m=\u001b[0m \u001b[0mpd\u001b[0m\u001b[0;34m.\u001b[0m\u001b[0mDataFrame\u001b[0m\u001b[0;34m.\u001b[0m\u001b[0mfrom_records\u001b[0m\u001b[0;34m(\u001b[0m\u001b[0;34m[\u001b[0m\u001b[0mr\u001b[0m\u001b[0;34m.\u001b[0m\u001b[0mconvert\u001b[0m\u001b[0;34m(\u001b[0m\u001b[0;34m)\u001b[0m \u001b[0;32mfor\u001b[0m \u001b[0mr\u001b[0m \u001b[0;32min\u001b[0m \u001b[0mrocklist\u001b[0m\u001b[0;34m]\u001b[0m\u001b[0;34m)\u001b[0m\u001b[0;34m\u001b[0m\u001b[0;34m\u001b[0m\u001b[0m\n\u001b[0m\u001b[1;32m      3\u001b[0m \u001b[0mprint\u001b[0m\u001b[0;34m(\u001b[0m\u001b[0mdf3\u001b[0m\u001b[0;34m)\u001b[0m\u001b[0;34m\u001b[0m\u001b[0;34m\u001b[0m\u001b[0m\n",
            "\u001b[0;32m<ipython-input-23-d91b917deaac>\u001b[0m in \u001b[0;36m<listcomp>\u001b[0;34m(.0)\u001b[0m\n\u001b[1;32m      1\u001b[0m \u001b[0;31m#not include velocity & p impedance in dataframe\u001b[0m\u001b[0;34m\u001b[0m\u001b[0;34m\u001b[0m\u001b[0;34m\u001b[0m\u001b[0m\n\u001b[0;32m----> 2\u001b[0;31m \u001b[0mdf3\u001b[0m \u001b[0;34m=\u001b[0m \u001b[0mpd\u001b[0m\u001b[0;34m.\u001b[0m\u001b[0mDataFrame\u001b[0m\u001b[0;34m.\u001b[0m\u001b[0mfrom_records\u001b[0m\u001b[0;34m(\u001b[0m\u001b[0;34m[\u001b[0m\u001b[0mr\u001b[0m\u001b[0;34m.\u001b[0m\u001b[0mconvert\u001b[0m\u001b[0;34m(\u001b[0m\u001b[0;34m)\u001b[0m \u001b[0;32mfor\u001b[0m \u001b[0mr\u001b[0m \u001b[0;32min\u001b[0m \u001b[0mrocklist\u001b[0m\u001b[0;34m]\u001b[0m\u001b[0;34m)\u001b[0m\u001b[0;34m\u001b[0m\u001b[0;34m\u001b[0m\u001b[0m\n\u001b[0m\u001b[1;32m      3\u001b[0m \u001b[0mprint\u001b[0m\u001b[0;34m(\u001b[0m\u001b[0mdf3\u001b[0m\u001b[0;34m)\u001b[0m\u001b[0;34m\u001b[0m\u001b[0;34m\u001b[0m\u001b[0m\n",
            "\u001b[0;31mAttributeError\u001b[0m: 'geophysics' object has no attribute 'convert'"
          ]
        }
      ]
    }
  ]
}