{
  "nbformat": 4,
  "nbformat_minor": 0,
  "metadata": {
    "colab": {
      "name": "split() vs. partition() in Python.ipynb",
      "provenance": [],
      "authorship_tag": "ABX9TyPKXbM74wHZbG0dJ7Ap+2//"
    },
    "kernelspec": {
      "name": "python3",
      "display_name": "Python 3"
    }
  },
  "cells": [
    {
      "cell_type": "markdown",
      "metadata": {
        "id": "29BYud-SU_2Q"
      },
      "source": [
        "[Reference](https://medium.com/better-programming/split-vs-partition-in-python-strings-9505d070af55)"
      ]
    },
    {
      "cell_type": "markdown",
      "metadata": {
        "id": "WdpSK-a6VCua"
      },
      "source": [
        "# split()"
      ]
    },
    {
      "cell_type": "code",
      "metadata": {
        "id": "DGPyIb5LVCc3",
        "outputId": "1e6e5d1a-0474-4667-d71d-a578638ec8dc",
        "colab": {
          "base_uri": "https://localhost:8080/",
          "height": 34
        }
      },
      "source": [
        "a=\"Hello Python\"\n",
        "print (a.split())"
      ],
      "execution_count": 1,
      "outputs": [
        {
          "output_type": "stream",
          "text": [
            "['Hello', 'Python']\n"
          ],
          "name": "stdout"
        }
      ]
    },
    {
      "cell_type": "code",
      "metadata": {
        "id": "PsPnRavkU-gP",
        "outputId": "8b32b630-1b07-4b45-8bdc-79c301c66d9c",
        "colab": {
          "base_uri": "https://localhost:8080/",
          "height": 34
        }
      },
      "source": [
        "colors='red-green-blue-yellow'\n",
        "print (colors.split(\"-\"))"
      ],
      "execution_count": 2,
      "outputs": [
        {
          "output_type": "stream",
          "text": [
            "['red', 'green', 'blue', 'yellow']\n"
          ],
          "name": "stdout"
        }
      ]
    },
    {
      "cell_type": "code",
      "metadata": {
        "id": "nP3pzPuLVFJF",
        "outputId": "28b076e6-e036-4a30-ca78-4fd0a01ed815",
        "colab": {
          "base_uri": "https://localhost:8080/",
          "height": 34
        }
      },
      "source": [
        "a=\"three times by three makes nine\"\n",
        "print (a.split(sep=\"three\"))"
      ],
      "execution_count": 3,
      "outputs": [
        {
          "output_type": "stream",
          "text": [
            "['', ' times by ', ' makes nine']\n"
          ],
          "name": "stdout"
        }
      ]
    },
    {
      "cell_type": "code",
      "metadata": {
        "id": "uzCVUx4OVGaH",
        "outputId": "605d7914-5bc6-4325-ae0b-899b8909ed3d",
        "colab": {
          "base_uri": "https://localhost:8080/",
          "height": 34
        }
      },
      "source": [
        "colors=\"red-orange-yellow-purple\"\n",
        "\n",
        "print (colors.split(\"-\",maxsplit=1))"
      ],
      "execution_count": 4,
      "outputs": [
        {
          "output_type": "stream",
          "text": [
            "['red', 'orange-yellow-purple']\n"
          ],
          "name": "stdout"
        }
      ]
    },
    {
      "cell_type": "code",
      "metadata": {
        "id": "8n72dUyNVJWt",
        "outputId": "cb0cdd47-8fc5-404b-fb47-c1a19f56de77",
        "colab": {
          "base_uri": "https://localhost:8080/",
          "height": 34
        }
      },
      "source": [
        "\n",
        "print (colors.split(\"-\",maxsplit=2))"
      ],
      "execution_count": 5,
      "outputs": [
        {
          "output_type": "stream",
          "text": [
            "['red', 'orange', 'yellow-purple']\n"
          ],
          "name": "stdout"
        }
      ]
    },
    {
      "cell_type": "code",
      "metadata": {
        "id": "pxAkIl0WVMEs",
        "outputId": "7cdaf17a-5a78-4524-cd80-613fd38bd48a",
        "colab": {
          "base_uri": "https://localhost:8080/",
          "height": 34
        }
      },
      "source": [
        "s=\"HelloPython\"\n",
        "print (s.split())"
      ],
      "execution_count": 6,
      "outputs": [
        {
          "output_type": "stream",
          "text": [
            "['HelloPython']\n"
          ],
          "name": "stdout"
        }
      ]
    },
    {
      "cell_type": "code",
      "metadata": {
        "id": "SZPvCfxAVN93",
        "outputId": "a994fd5f-1ff5-4c6e-b560-3ec2eef444a2",
        "colab": {
          "base_uri": "https://localhost:8080/",
          "height": 34
        }
      },
      "source": [
        "colors=\"red<>green<>yellow<>blue<orange\"\n",
        "print(colors.split(\"<>\"))"
      ],
      "execution_count": 7,
      "outputs": [
        {
          "output_type": "stream",
          "text": [
            "['red', 'green', 'yellow', 'blue<orange']\n"
          ],
          "name": "stdout"
        }
      ]
    },
    {
      "cell_type": "markdown",
      "metadata": {
        "id": "mExSwiHnVQfY"
      },
      "source": [
        "# rsplit()"
      ]
    },
    {
      "cell_type": "code",
      "metadata": {
        "id": "Q6lk0dMqVPXf",
        "outputId": "110af60d-d9ac-4716-9bc1-073b6126b11b",
        "colab": {
          "base_uri": "https://localhost:8080/",
          "height": 34
        }
      },
      "source": [
        "a=\"Hello Python\"\n",
        "print (a.rsplit())"
      ],
      "execution_count": 8,
      "outputs": [
        {
          "output_type": "stream",
          "text": [
            "['Hello', 'Python']\n"
          ],
          "name": "stdout"
        }
      ]
    },
    {
      "cell_type": "code",
      "metadata": {
        "id": "3BWMGxyEVUpZ",
        "outputId": "d4a899f7-d385-4784-eeb2-c741e08bdb56",
        "colab": {
          "base_uri": "https://localhost:8080/",
          "height": 34
        }
      },
      "source": [
        "colors=\"red-orange-yellow-purple\"\n",
        "\n",
        "print (colors.rsplit(\"-\",maxsplit=1))"
      ],
      "execution_count": 9,
      "outputs": [
        {
          "output_type": "stream",
          "text": [
            "['red-orange-yellow', 'purple']\n"
          ],
          "name": "stdout"
        }
      ]
    },
    {
      "cell_type": "code",
      "metadata": {
        "id": "wrZ3Aik_VWuI",
        "outputId": "7db3247b-af22-42c4-c164-51e352c21b36",
        "colab": {
          "base_uri": "https://localhost:8080/",
          "height": 34
        }
      },
      "source": [
        "print (colors.rsplit(\"-\",maxsplit=2))"
      ],
      "execution_count": 10,
      "outputs": [
        {
          "output_type": "stream",
          "text": [
            "['red-orange', 'yellow', 'purple']\n"
          ],
          "name": "stdout"
        }
      ]
    },
    {
      "cell_type": "markdown",
      "metadata": {
        "id": "sPHKM94sVal2"
      },
      "source": [
        "# splitlines()"
      ]
    },
    {
      "cell_type": "code",
      "metadata": {
        "id": "9YE4Hf88VXup",
        "outputId": "99b3d7a4-3e3b-4d2d-8009-d824d8968752",
        "colab": {
          "base_uri": "https://localhost:8080/",
          "height": 34
        }
      },
      "source": [
        "colors=\"red\\norange\\nyellow\\npurple\"\n",
        "print (colors.splitlines())"
      ],
      "execution_count": 11,
      "outputs": [
        {
          "output_type": "stream",
          "text": [
            "['red', 'orange', 'yellow', 'purple']\n"
          ],
          "name": "stdout"
        }
      ]
    },
    {
      "cell_type": "code",
      "metadata": {
        "id": "GXiJzEeTVdIL",
        "outputId": "6abb6e75-3b02-4a5e-c50f-344b981584d5",
        "colab": {
          "base_uri": "https://localhost:8080/",
          "height": 34
        }
      },
      "source": [
        "colors=\"red\\norange\\nyellow\\npurple\"\n",
        "print (colors.splitlines(keepends=True))"
      ],
      "execution_count": 12,
      "outputs": [
        {
          "output_type": "stream",
          "text": [
            "['red\\n', 'orange\\n', 'yellow\\n', 'purple']\n"
          ],
          "name": "stdout"
        }
      ]
    },
    {
      "cell_type": "code",
      "metadata": {
        "id": "yYWC1z-bVfa4",
        "outputId": "591fd336-7495-46a8-eb58-489900f8088a",
        "colab": {
          "base_uri": "https://localhost:8080/",
          "height": 34
        }
      },
      "source": [
        "colors=\"red\\norange\\nyellow\\npurple\\n\"\n",
        "print (colors.splitlines())"
      ],
      "execution_count": 13,
      "outputs": [
        {
          "output_type": "stream",
          "text": [
            "['red', 'orange', 'yellow', 'purple']\n"
          ],
          "name": "stdout"
        }
      ]
    },
    {
      "cell_type": "code",
      "metadata": {
        "id": "D69QUA2bVhX-",
        "outputId": "23d56f1f-6da8-4096-a58c-1920cec195b4",
        "colab": {
          "base_uri": "https://localhost:8080/",
          "height": 34
        }
      },
      "source": [
        "print(colors.split(\"\\n\"))"
      ],
      "execution_count": 14,
      "outputs": [
        {
          "output_type": "stream",
          "text": [
            "['red', 'orange', 'yellow', 'purple', '']\n"
          ],
          "name": "stdout"
        }
      ]
    },
    {
      "cell_type": "markdown",
      "metadata": {
        "id": "j0SRQAwbVjJP"
      },
      "source": [
        "# partition()"
      ]
    },
    {
      "cell_type": "code",
      "metadata": {
        "id": "nihePB9NViSO",
        "outputId": "bde79bff-cf3f-44df-a933-cde01b40c7c0",
        "colab": {
          "base_uri": "https://localhost:8080/",
          "height": 34
        }
      },
      "source": [
        "colors=\"red-orange-yellow-purple\"\n",
        "print (colors.partition(\"-\"))"
      ],
      "execution_count": 15,
      "outputs": [
        {
          "output_type": "stream",
          "text": [
            "('red', '-', 'orange-yellow-purple')\n"
          ],
          "name": "stdout"
        }
      ]
    },
    {
      "cell_type": "code",
      "metadata": {
        "id": "RjZP3-HCVmAN",
        "outputId": "127895f5-301f-4310-d7fc-2e994b20d972",
        "colab": {
          "base_uri": "https://localhost:8080/",
          "height": 34
        }
      },
      "source": [
        "s=\"Hello Python\"\n",
        "print (s.partition(\" \"))"
      ],
      "execution_count": 16,
      "outputs": [
        {
          "output_type": "stream",
          "text": [
            "('Hello', ' ', 'Python')\n"
          ],
          "name": "stdout"
        }
      ]
    },
    {
      "cell_type": "code",
      "metadata": {
        "id": "DR1N8knPVomH",
        "outputId": "16376724-8009-438f-ba4a-b8de193d1fa8",
        "colab": {
          "base_uri": "https://localhost:8080/",
          "height": 215
        }
      },
      "source": [
        "s=\"Hello Python\"\n",
        "print (s.partition())"
      ],
      "execution_count": 17,
      "outputs": [
        {
          "output_type": "error",
          "ename": "TypeError",
          "evalue": "ignored",
          "traceback": [
            "\u001b[0;31m---------------------------------------------------------------------------\u001b[0m",
            "\u001b[0;31mTypeError\u001b[0m                                 Traceback (most recent call last)",
            "\u001b[0;32m<ipython-input-17-cd3ea7bfa520>\u001b[0m in \u001b[0;36m<module>\u001b[0;34m()\u001b[0m\n\u001b[1;32m      1\u001b[0m \u001b[0ms\u001b[0m\u001b[0;34m=\u001b[0m\u001b[0;34m\"Hello Python\"\u001b[0m\u001b[0;34m\u001b[0m\u001b[0;34m\u001b[0m\u001b[0m\n\u001b[0;32m----> 2\u001b[0;31m \u001b[0mprint\u001b[0m \u001b[0;34m(\u001b[0m\u001b[0ms\u001b[0m\u001b[0;34m.\u001b[0m\u001b[0mpartition\u001b[0m\u001b[0;34m(\u001b[0m\u001b[0;34m)\u001b[0m\u001b[0;34m)\u001b[0m\u001b[0;34m\u001b[0m\u001b[0;34m\u001b[0m\u001b[0m\n\u001b[0m",
            "\u001b[0;31mTypeError\u001b[0m: partition() takes exactly one argument (0 given)"
          ]
        }
      ]
    },
    {
      "cell_type": "code",
      "metadata": {
        "id": "kTiiLeyqVrAz",
        "outputId": "bf5876aa-9364-4c99-e8e9-d3986dce9498",
        "colab": {
          "base_uri": "https://localhost:8080/",
          "height": 34
        }
      },
      "source": [
        "s=\"HelloPython\"\n",
        "print (s.partition(\" \"))"
      ],
      "execution_count": 18,
      "outputs": [
        {
          "output_type": "stream",
          "text": [
            "('HelloPython', '', '')\n"
          ],
          "name": "stdout"
        }
      ]
    },
    {
      "cell_type": "markdown",
      "metadata": {
        "id": "R_8ngH4PVwjT"
      },
      "source": [
        "# re.split()"
      ]
    },
    {
      "cell_type": "code",
      "metadata": {
        "id": "ZTL7a8XmVseA",
        "outputId": "3415d02e-757d-47d4-9bce-aa08dba8d06f",
        "colab": {
          "base_uri": "https://localhost:8080/",
          "height": 34
        }
      },
      "source": [
        "s=\"Hello Python\"\n",
        "import re\n",
        "print (re.split(\" \",s))"
      ],
      "execution_count": 19,
      "outputs": [
        {
          "output_type": "stream",
          "text": [
            "['Hello', 'Python']\n"
          ],
          "name": "stdout"
        }
      ]
    },
    {
      "cell_type": "code",
      "metadata": {
        "id": "FdEQkJN3Vzvj",
        "outputId": "573918fa-10ef-4b03-9362-a5a3cca6637c",
        "colab": {
          "base_uri": "https://localhost:8080/",
          "height": 34
        }
      },
      "source": [
        "colors=\"red-orange-yellow-purple\"\n",
        "import re\n",
        "print (re.split(\"-\",colors))"
      ],
      "execution_count": 20,
      "outputs": [
        {
          "output_type": "stream",
          "text": [
            "['red', 'orange', 'yellow', 'purple']\n"
          ],
          "name": "stdout"
        }
      ]
    },
    {
      "cell_type": "code",
      "metadata": {
        "id": "kZFyS4JMV1uN",
        "outputId": "2e57ed6d-cc76-467c-c318-253cbdcba94d",
        "colab": {
          "base_uri": "https://localhost:8080/",
          "height": 34
        }
      },
      "source": [
        "colors=\"red&orange-yellow$purple\"\n",
        "import re\n",
        "print (re.split('[&$-]',colors))"
      ],
      "execution_count": 21,
      "outputs": [
        {
          "output_type": "stream",
          "text": [
            "['red', 'orange', 'yellow', 'purple']\n"
          ],
          "name": "stdout"
        }
      ]
    },
    {
      "cell_type": "markdown",
      "metadata": {
        "id": "zUWFXXH0WHNK"
      },
      "source": [
        "\\W → Matches all characters except a-z, A-Z, and 0-9"
      ]
    },
    {
      "cell_type": "code",
      "metadata": {
        "id": "B6x3zuOVV_pr",
        "outputId": "dada3fbb-9125-4454-e91d-ebc55cac67d9",
        "colab": {
          "base_uri": "https://localhost:8080/",
          "height": 34
        }
      },
      "source": [
        "colors=\"red%yellow,blue!orange@purple\"\n",
        "import re\n",
        "print (re.split('\\W',colors))"
      ],
      "execution_count": 22,
      "outputs": [
        {
          "output_type": "stream",
          "text": [
            "['red', 'yellow', 'blue', 'orange', 'purple']\n"
          ],
          "name": "stdout"
        }
      ]
    },
    {
      "cell_type": "markdown",
      "metadata": {
        "id": "rpHvxLL3WJ2S"
      },
      "source": [
        "\\D → Matches all characters except 0-9"
      ]
    },
    {
      "cell_type": "code",
      "metadata": {
        "id": "NAsfbcooWF5m",
        "outputId": "22dad805-77bb-4bc5-cde7-698dfef499b1",
        "colab": {
          "base_uri": "https://localhost:8080/",
          "height": 34
        }
      },
      "source": [
        "num=\"1,2%3&4!5@6\"\n",
        "import re\n",
        "print (re.split('\\D',num))"
      ],
      "execution_count": 23,
      "outputs": [
        {
          "output_type": "stream",
          "text": [
            "['1', '2', '3', '4', '5', '6']\n"
          ],
          "name": "stdout"
        }
      ]
    },
    {
      "cell_type": "code",
      "metadata": {
        "id": "0au_NrERWMG5",
        "outputId": "3165630b-91c8-4ec7-dcd7-3fe9f2e593c2",
        "colab": {
          "base_uri": "https://localhost:8080/",
          "height": 34
        }
      },
      "source": [
        "colors=\"red-orange-yellow-purple\"\n",
        "import re\n",
        "print (re.split(\"-\",colors,maxsplit=1))"
      ],
      "execution_count": 24,
      "outputs": [
        {
          "output_type": "stream",
          "text": [
            "['red', 'orange-yellow-purple']\n"
          ],
          "name": "stdout"
        }
      ]
    },
    {
      "cell_type": "code",
      "metadata": {
        "id": "bwTyBUUJWMQR",
        "outputId": "118ef5bb-e164-4862-aa62-4d828a19a4f1",
        "colab": {
          "base_uri": "https://localhost:8080/",
          "height": 34
        }
      },
      "source": [
        "print (re.split(\"-\",colors,maxsplit=2))"
      ],
      "execution_count": 25,
      "outputs": [
        {
          "output_type": "stream",
          "text": [
            "['red', 'orange', 'yellow-purple']\n"
          ],
          "name": "stdout"
        }
      ]
    }
  ]
}