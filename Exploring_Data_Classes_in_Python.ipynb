{
  "nbformat": 4,
  "nbformat_minor": 0,
  "metadata": {
    "colab": {
      "name": "Exploring Data Classes in Python.ipynb",
      "provenance": [],
      "authorship_tag": "ABX9TyNp0sJ+smmcVrAO1/p9jDjs"
    },
    "kernelspec": {
      "name": "python3",
      "display_name": "Python 3"
    }
  },
  "cells": [
    {
      "cell_type": "markdown",
      "metadata": {
        "id": "0ckjQjbDpuoz"
      },
      "source": [
        "[Reference](https://medium.com/better-programming/exploring-data-classes-in-python-66b696506e55)"
      ]
    },
    {
      "cell_type": "markdown",
      "metadata": {
        "id": "L3Bix19bpyE7"
      },
      "source": [
        "# Data Class"
      ]
    },
    {
      "cell_type": "code",
      "metadata": {
        "id": "vS4atmlcptj5"
      },
      "source": [
        "# @dataclass\n",
        "class Employee:\n",
        "    name: str\n",
        "    id: int\n",
        "    salary: int\n",
        "    designation: str"
      ],
      "execution_count": 2,
      "outputs": []
    },
    {
      "cell_type": "code",
      "metadata": {
        "id": "e7nODjM5qAOi"
      },
      "source": [
        "class EmployeeRegularClass:\n",
        "    def __init__(self, name: str,  id: int, designation: str, salary : int):\n",
        "        self.name = name\n",
        "        self.id = id\n",
        "        self.designation = designation\n",
        "        self.salary = salary\n",
        "\n",
        "    def __repr__(self):\n",
        "        return (f'{self.__class__.__name__}'\n",
        "                f'(rank={self.name!r}, suit={self.id!r}, suit={self.designation!r}, suit={self.salary!r})')\n",
        "\n",
        "    def __eq__(self, other):\n",
        "        if other.__class__ is not self.__class__:\n",
        "            return NotImplemented"
      ],
      "execution_count": 7,
      "outputs": []
    },
    {
      "cell_type": "code",
      "metadata": {
        "id": "BDz-MjZapxE6",
        "outputId": "941ed844-0163-4c07-f416-5a340fb8d0b2",
        "colab": {
          "base_uri": "https://localhost:8080/"
        }
      },
      "source": [
        "employee = EmployeeRegularClass(\"Jessica\", 2, 10000, \"Manager\")\n",
        "\n",
        "print(employee) \n",
        "\n",
        "print(employee.name) "
      ],
      "execution_count": 8,
      "outputs": [
        {
          "output_type": "stream",
          "text": [
            "EmployeeRegularClass(rank='Jessica', suit=2, suit=10000, suit='Manager')\n",
            "Jessica\n"
          ],
          "name": "stdout"
        }
      ]
    }
  ]
}