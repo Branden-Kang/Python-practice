{
  "nbformat": 4,
  "nbformat_minor": 0,
  "metadata": {
    "colab": {
      "provenance": [],
      "authorship_tag": "ABX9TyNaRJzhr5KM240dJca7WBGH"
    },
    "kernelspec": {
      "name": "python3",
      "display_name": "Python 3"
    },
    "language_info": {
      "name": "python"
    }
  },
  "cells": [
    {
      "cell_type": "markdown",
      "source": [
        "[Reference](https://martinxpn.medium.com/why-python-does-not-have-tuple-comprehension-26-100-days-of-python-62362128f60e)"
      ],
      "metadata": {
        "id": "mkleV_qiWPA4"
      }
    },
    {
      "cell_type": "code",
      "execution_count": 1,
      "metadata": {
        "id": "cGDeAXB2VEaD"
      },
      "outputs": [],
      "source": [
        "squares = [x**2 for x in range(10)]         # List comprehension\n",
        "num2square = {x: x**2 for x in range(10)}   # Dict comprehension\n",
        "unique_squares = {x**2 for x in range(10)}  # Set  comprehension\n",
        "\n",
        "experiment = (x**2 for x in range(10))      # This is not a tuple!"
      ]
    },
    {
      "cell_type": "code",
      "source": [
        "gen = (x*x for x in range(5))\n",
        "print(next(gen)) # prints 0\n",
        "print(next(gen)) # prints 1\n",
        "print(next(gen)) # prints 4\n",
        "print(next(gen)) # prints 9\n",
        "print(next(gen)) # prints 16\n",
        "print(next(gen)) # StopIteration"
      ],
      "metadata": {
        "colab": {
          "base_uri": "https://localhost:8080/",
          "height": 317
        },
        "id": "ys3jTH0_WR0o",
        "outputId": "581f4b47-511d-4cc1-85cd-8b5f025823c0"
      },
      "execution_count": 2,
      "outputs": [
        {
          "output_type": "stream",
          "name": "stdout",
          "text": [
            "0\n",
            "1\n",
            "4\n",
            "9\n",
            "16\n"
          ]
        },
        {
          "output_type": "error",
          "ename": "StopIteration",
          "evalue": "ignored",
          "traceback": [
            "\u001b[0;31m---------------------------------------------------------------------------\u001b[0m",
            "\u001b[0;31mStopIteration\u001b[0m                             Traceback (most recent call last)",
            "\u001b[0;32m<ipython-input-2-283224b617e2>\u001b[0m in \u001b[0;36m<cell line: 7>\u001b[0;34m()\u001b[0m\n\u001b[1;32m      5\u001b[0m \u001b[0mprint\u001b[0m\u001b[0;34m(\u001b[0m\u001b[0mnext\u001b[0m\u001b[0;34m(\u001b[0m\u001b[0mgen\u001b[0m\u001b[0;34m)\u001b[0m\u001b[0;34m)\u001b[0m \u001b[0;31m# prints 9\u001b[0m\u001b[0;34m\u001b[0m\u001b[0;34m\u001b[0m\u001b[0m\n\u001b[1;32m      6\u001b[0m \u001b[0mprint\u001b[0m\u001b[0;34m(\u001b[0m\u001b[0mnext\u001b[0m\u001b[0;34m(\u001b[0m\u001b[0mgen\u001b[0m\u001b[0;34m)\u001b[0m\u001b[0;34m)\u001b[0m \u001b[0;31m# prints 16\u001b[0m\u001b[0;34m\u001b[0m\u001b[0;34m\u001b[0m\u001b[0m\n\u001b[0;32m----> 7\u001b[0;31m \u001b[0mprint\u001b[0m\u001b[0;34m(\u001b[0m\u001b[0mnext\u001b[0m\u001b[0;34m(\u001b[0m\u001b[0mgen\u001b[0m\u001b[0;34m)\u001b[0m\u001b[0;34m)\u001b[0m \u001b[0;31m# StopIteration\u001b[0m\u001b[0;34m\u001b[0m\u001b[0;34m\u001b[0m\u001b[0m\n\u001b[0m",
            "\u001b[0;31mStopIteration\u001b[0m: "
          ]
        }
      ]
    },
    {
      "cell_type": "code",
      "source": [
        "# Wrap the generator expression with a tuple\n",
        "squares = tuple(x**2 for x in range(10))\n",
        "print(squares)\n",
        "# (0, 1, 4, 9, 16, 25, 36, 49, 64, 81)\n",
        "\n",
        "# Or create a list first and then wrap it with tuple\n",
        "squares = tuple([x**2 for x in range(10)])\n",
        "print(squares)\n",
        "# (0, 1, 4, 9, 16, 25, 36, 49, 64, 81)"
      ],
      "metadata": {
        "colab": {
          "base_uri": "https://localhost:8080/"
        },
        "id": "tGoMmZLzWSzE",
        "outputId": "fa82ec13-a487-4c28-c73f-bcc7f999016e"
      },
      "execution_count": 3,
      "outputs": [
        {
          "output_type": "stream",
          "name": "stdout",
          "text": [
            "(0, 1, 4, 9, 16, 25, 36, 49, 64, 81)\n",
            "(0, 1, 4, 9, 16, 25, 36, 49, 64, 81)\n"
          ]
        }
      ]
    }
  ]
}
