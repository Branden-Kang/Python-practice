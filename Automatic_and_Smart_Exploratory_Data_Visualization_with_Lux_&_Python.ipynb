{
  "nbformat": 4,
  "nbformat_minor": 0,
  "metadata": {
    "colab": {
      "name": "Automatic and Smart Exploratory Data Visualization with Lux & Python.ipynb",
      "provenance": [],
      "authorship_tag": "ABX9TyND+fHhJa3XXNHZrzXfphKs"
    },
    "kernelspec": {
      "name": "python3",
      "display_name": "Python 3"
    },
    "language_info": {
      "name": "python"
    }
  },
  "cells": [
    {
      "cell_type": "markdown",
      "source": [
        "[Reference](https://medium.com/spatial-data-science/automatic-and-smart-exploratory-data-visualization-with-lux-python-9347865c6361)"
      ],
      "metadata": {
        "id": "azD6ENc4Uxmc"
      }
    },
    {
      "cell_type": "code",
      "execution_count": 1,
      "metadata": {
        "id": "dhgI58XvT_MH"
      },
      "outputs": [],
      "source": [
        "!pip install lux-api\n",
        "!conda install -c conda-forge lux-api"
      ]
    },
    {
      "cell_type": "code",
      "source": [
        "# Jupyter Notebook\n",
        "!jupyter nbextension install --py luxwidget\n",
        "!jupyter nbextension enable --py luxwidget"
      ],
      "metadata": {
        "id": "EYo5RzkJU2Fk"
      },
      "execution_count": 2,
      "outputs": []
    },
    {
      "cell_type": "code",
      "source": [
        "# Jupyter Lab\n",
        "!jupyter nbextension install --py luxwidget\n",
        "!jupyter nbextension enable --py luxwidget"
      ],
      "metadata": {
        "id": "bbt1VH5gU5wh"
      },
      "execution_count": 3,
      "outputs": []
    },
    {
      "cell_type": "code",
      "source": [
        "import pandas as pd\n",
        "import lux\n",
        "df = pd.read_csv(\"https://raw.githubusercontent.com/plotly/datasets/master/gapminderDataFiveYear.csv\", parse_dates=[\"year\"])\n",
        "df"
      ],
      "metadata": {
        "id": "m_eTMkC2VIIa"
      },
      "execution_count": 4,
      "outputs": []
    },
    {
      "cell_type": "code",
      "source": [
        "df.intent = [“gdpPercap”]\n",
        "df"
      ],
      "metadata": {
        "id": "jjS-6pBJVdOG"
      },
      "execution_count": 5,
      "outputs": []
    }
  ]
}