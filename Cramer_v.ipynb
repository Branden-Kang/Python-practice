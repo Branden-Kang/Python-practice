{
  "nbformat": 4,
  "nbformat_minor": 0,
  "metadata": {
    "colab": {
      "provenance": [],
      "authorship_tag": "ABX9TyPR7v4u6hIcX9znGpp2RBH/"
    },
    "kernelspec": {
      "name": "python3",
      "display_name": "Python 3"
    },
    "language_info": {
      "name": "python"
    }
  },
  "cells": [
    {
      "cell_type": "code",
      "execution_count": 1,
      "metadata": {
        "id": "LT1Q8piLbRBl"
      },
      "outputs": [],
      "source": [
        "from scipy import stats\n",
        "import seaborn as sns\n",
        "import matplotlib.pyplot as plt\n",
        "import pandas as pd\n",
        "\n",
        "def cramers_v(x, y):\n",
        "    '''\n",
        "    Returns cramers_v for 2 categorical features\n",
        "    '''\n",
        "    confusion_matrix = pd.crosstab(x,y)\n",
        "    chi2 = stats.chi2_contingency(confusion_matrix)[0]\n",
        "    n = confusion_matrix.sum().sum()\n",
        "    phi2 = chi2/n\n",
        "    r,k = confusion_matrix.shape\n",
        "    phi2corr = max(0, phi2-((k-1)*(r-1))/(n-1))\n",
        "    rcorr = r-((r-1)**2)/(n-1)\n",
        "    kcorr = k-((k-1)**2)/(n-1)\n",
        "    return np.sqrt(phi2corr/min((kcorr-1),(rcorr-1)))\n",
        "\n",
        "\n",
        "def heatmap_categorical_columns_w_dependant_categorical(df, dependent_variable, columns):\n",
        "    '''\n",
        "    Takes df, a dependant variable as str\n",
        "    Returns a heatmap of catecorical columns cramers_v with dependent variable\n",
        "    '''\n",
        "    plt.figure(figsize=(8, 10))\n",
        "    corrM = [cramers_v(df[dependent_variable], df[column]) for column in columns]\n",
        "    corr = pd.DataFrame(corrM, index=columns, columns=[dependent_variable])\n",
        "    ax = sns.heatmap(corr,\n",
        "            annot=True,\n",
        "            cmap='coolwarm',\n",
        "            vmin=-1,\n",
        "            vmax=1,\n",
        "           )\n",
        "    ax.set_title(\"Cramer V Correlation between Variables\")\n",
        "    return ax"
      ]
    }
  ]
}