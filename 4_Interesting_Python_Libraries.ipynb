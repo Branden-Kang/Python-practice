{
  "nbformat": 4,
  "nbformat_minor": 0,
  "metadata": {
    "colab": {
      "name": "4 Interesting Python Libraries.ipynb",
      "provenance": [],
      "authorship_tag": "ABX9TyPktALT1QwJO9dWrCcnlC8j"
    },
    "kernelspec": {
      "name": "python3",
      "display_name": "Python 3"
    },
    "language_info": {
      "name": "python"
    }
  },
  "cells": [
    {
      "cell_type": "markdown",
      "metadata": {
        "id": "nnFlcVFtgMaA"
      },
      "source": [
        "[Reference](https://learnbydoing.medium.com/4-intresting-python-libraries-fcc960c47618)"
      ]
    },
    {
      "cell_type": "markdown",
      "metadata": {
        "id": "2OlYU8bxgOlo"
      },
      "source": [
        "# 1.Howdoi: instant coding answers via the command line"
      ]
    },
    {
      "cell_type": "code",
      "metadata": {
        "colab": {
          "base_uri": "https://localhost:8080/"
        },
        "id": "ZKARDDozfELv",
        "outputId": "b5a01d96-e7fe-4be4-dc0f-5930ba64942b"
      },
      "source": [
        "pip install howdoi"
      ],
      "execution_count": 1,
      "outputs": [
        {
          "output_type": "stream",
          "name": "stdout",
          "text": [
            "Collecting howdoi\n",
            "  Downloading howdoi-2.0.19.tar.gz (27 kB)\n",
            "Requirement already satisfied: Pygments in /usr/local/lib/python3.7/dist-packages (from howdoi) (2.6.1)\n",
            "Collecting cssselect\n",
            "  Downloading cssselect-1.1.0-py2.py3-none-any.whl (16 kB)\n",
            "Requirement already satisfied: lxml in /usr/local/lib/python3.7/dist-packages (from howdoi) (4.2.6)\n",
            "Collecting pyquery\n",
            "  Downloading pyquery-1.4.3-py3-none-any.whl (22 kB)\n",
            "Requirement already satisfied: requests in /usr/local/lib/python3.7/dist-packages (from howdoi) (2.23.0)\n",
            "Collecting cachelib\n",
            "  Downloading cachelib-0.3.0-py3-none-any.whl (12 kB)\n",
            "Requirement already satisfied: appdirs in /usr/local/lib/python3.7/dist-packages (from howdoi) (1.4.4)\n",
            "Collecting keep\n",
            "  Downloading keep-2.10.1-py3-none-any.whl (15 kB)\n",
            "Collecting terminaltables\n",
            "  Downloading terminaltables-3.1.0.tar.gz (12 kB)\n",
            "Requirement already satisfied: click in /usr/local/lib/python3.7/dist-packages (from keep->howdoi) (7.1.2)\n",
            "Collecting PyGithub\n",
            "  Downloading PyGithub-1.55-py3-none-any.whl (291 kB)\n",
            "\u001b[K     |████████████████████████████████| 291 kB 8.5 MB/s \n",
            "\u001b[?25hCollecting deprecated\n",
            "  Downloading Deprecated-1.2.13-py2.py3-none-any.whl (9.6 kB)\n",
            "Collecting pynacl>=1.4.0\n",
            "  Downloading PyNaCl-1.4.0-cp35-abi3-manylinux1_x86_64.whl (961 kB)\n",
            "\u001b[K     |████████████████████████████████| 961 kB 29.7 MB/s \n",
            "\u001b[?25hCollecting pyjwt>=2.0\n",
            "  Downloading PyJWT-2.1.0-py3-none-any.whl (16 kB)\n",
            "Requirement already satisfied: cffi>=1.4.1 in /usr/local/lib/python3.7/dist-packages (from pynacl>=1.4.0->PyGithub->keep->howdoi) (1.14.6)\n",
            "Requirement already satisfied: six in /usr/local/lib/python3.7/dist-packages (from pynacl>=1.4.0->PyGithub->keep->howdoi) (1.15.0)\n",
            "Requirement already satisfied: pycparser in /usr/local/lib/python3.7/dist-packages (from cffi>=1.4.1->pynacl>=1.4.0->PyGithub->keep->howdoi) (2.20)\n",
            "Requirement already satisfied: certifi>=2017.4.17 in /usr/local/lib/python3.7/dist-packages (from requests->howdoi) (2021.5.30)\n",
            "Requirement already satisfied: idna<3,>=2.5 in /usr/local/lib/python3.7/dist-packages (from requests->howdoi) (2.10)\n",
            "Requirement already satisfied: chardet<4,>=3.0.2 in /usr/local/lib/python3.7/dist-packages (from requests->howdoi) (3.0.4)\n",
            "Requirement already satisfied: urllib3!=1.25.0,!=1.25.1,<1.26,>=1.21.1 in /usr/local/lib/python3.7/dist-packages (from requests->howdoi) (1.24.3)\n",
            "Requirement already satisfied: wrapt<2,>=1.10 in /usr/local/lib/python3.7/dist-packages (from deprecated->PyGithub->keep->howdoi) (1.12.1)\n",
            "Building wheels for collected packages: howdoi, terminaltables\n",
            "  Building wheel for howdoi (setup.py) ... \u001b[?25l\u001b[?25hdone\n",
            "  Created wheel for howdoi: filename=howdoi-2.0.19-py3-none-any.whl size=16040 sha256=4c526ea4fcfe24c3ab670d21c9622cb3b3c99021f011350f9b906ae9aaae03d0\n",
            "  Stored in directory: /root/.cache/pip/wheels/35/07/5f/4e873a76ce9e5127b4cadc6806dcbed462561d61414b734ef0\n",
            "  Building wheel for terminaltables (setup.py) ... \u001b[?25l\u001b[?25hdone\n",
            "  Created wheel for terminaltables: filename=terminaltables-3.1.0-py3-none-any.whl size=15354 sha256=8b410fb621caf467130676f9aa8a6f09525091dbf46355735e15170d95dd05ac\n",
            "  Stored in directory: /root/.cache/pip/wheels/ba/ad/c8/2d98360791161cd3db6daf6b5e730f34021fc9367d5879f497\n",
            "Successfully built howdoi terminaltables\n",
            "Installing collected packages: pynacl, pyjwt, deprecated, terminaltables, PyGithub, cssselect, pyquery, keep, cachelib, howdoi\n",
            "Successfully installed PyGithub-1.55 cachelib-0.3.0 cssselect-1.1.0 deprecated-1.2.13 howdoi-2.0.19 keep-2.10.1 pyjwt-2.1.0 pynacl-1.4.0 pyquery-1.4.3 terminaltables-3.1.0\n"
          ]
        }
      ]
    },
    {
      "cell_type": "code",
      "metadata": {
        "colab": {
          "base_uri": "https://localhost:8080/"
        },
        "id": "PZq6eK66gSEt",
        "outputId": "8403f5a8-4bed-471a-a666-c16f9fc98384"
      },
      "source": [
        "!howdoi commit in git"
      ],
      "execution_count": 3,
      "outputs": [
        {
          "output_type": "stream",
          "name": "stdout",
          "text": [
            "git commit\n"
          ]
        }
      ]
    },
    {
      "cell_type": "code",
      "metadata": {
        "colab": {
          "base_uri": "https://localhost:8080/"
        },
        "id": "W6FO_2WRhGmK",
        "outputId": "df16980d-17c2-4f8f-f4a8-3de43015a101"
      },
      "source": [
        "!howdoi make trees in etc."
      ],
      "execution_count": 4,
      "outputs": [
        {
          "output_type": "stream",
          "name": "stdout",
          "text": [
            "My best advice would be that there is no standard tree data structure because there are so many ways you could implement it that it would be impossible to cover all bases with one solution.  The more specific a solution, the less likely it is applicable to any given problem.  I even get annoyed with LinkedList - what if I want a circular linked list?\n",
            "\n",
            "\n",
            "\n",
            "The basic structure you'll need to implement will be a collection of nodes, and here are some options to get you started.  Let's assume that the class Node is the base class of the entire solution.\n",
            "\n",
            "\n",
            "\n",
            "If you need to only navigate down the tree, then a Node class needs a List of children.\n",
            "\n",
            "\n",
            "\n",
            "If you need to navigate up the tree, then the Node class needs a link to its parent node.\n",
            "\n",
            "\n",
            "\n",
            "Build an AddChild method that takes care of all the minutia of these two points and any other business logic that must be implemented (child limits, sorting the children, etc.)\n"
          ]
        }
      ]
    },
    {
      "cell_type": "markdown",
      "metadata": {
        "id": "HqTIiAt0hL_f"
      },
      "source": [
        "# 2. Emoji for Python"
      ]
    },
    {
      "cell_type": "code",
      "metadata": {
        "colab": {
          "base_uri": "https://localhost:8080/",
          "height": 402
        },
        "id": "sR3YtwEchJVD",
        "outputId": "2406f651-9f8f-4e49-d5f8-fd3ffc7b831f"
      },
      "source": [
        "import emoji\n",
        "print(emoji.emojize('Python is :thumbs_up:'))\n",
        "print(emoji.emojize(\"Python is fun :red_heart:\"))"
      ],
      "execution_count": 7,
      "outputs": [
        {
          "output_type": "error",
          "ename": "ModuleNotFoundError",
          "evalue": "ignored",
          "traceback": [
            "\u001b[0;31m---------------------------------------------------------------------------\u001b[0m",
            "\u001b[0;31mModuleNotFoundError\u001b[0m                       Traceback (most recent call last)",
            "\u001b[0;32m<ipython-input-7-25669bac533c>\u001b[0m in \u001b[0;36m<module>\u001b[0;34m()\u001b[0m\n\u001b[0;32m----> 1\u001b[0;31m \u001b[0;32mimport\u001b[0m \u001b[0memoji\u001b[0m\u001b[0;34m\u001b[0m\u001b[0;34m\u001b[0m\u001b[0m\n\u001b[0m\u001b[1;32m      2\u001b[0m \u001b[0mprint\u001b[0m\u001b[0;34m(\u001b[0m\u001b[0memoji\u001b[0m\u001b[0;34m.\u001b[0m\u001b[0memojize\u001b[0m\u001b[0;34m(\u001b[0m\u001b[0;34m'Python is :thumbs_up:'\u001b[0m\u001b[0;34m)\u001b[0m\u001b[0;34m)\u001b[0m\u001b[0;34m\u001b[0m\u001b[0;34m\u001b[0m\u001b[0m\n\u001b[1;32m      3\u001b[0m \u001b[0mprint\u001b[0m\u001b[0;34m(\u001b[0m\u001b[0memoji\u001b[0m\u001b[0;34m.\u001b[0m\u001b[0memojize\u001b[0m\u001b[0;34m(\u001b[0m\u001b[0;34m\"Python is fun :red_heart:\"\u001b[0m\u001b[0;34m)\u001b[0m\u001b[0;34m)\u001b[0m\u001b[0;34m\u001b[0m\u001b[0;34m\u001b[0m\u001b[0m\n",
            "\u001b[0;31mModuleNotFoundError\u001b[0m: No module named 'emoji'",
            "",
            "\u001b[0;31m---------------------------------------------------------------------------\u001b[0;32m\nNOTE: If your import is failing due to a missing package, you can\nmanually install dependencies using either !pip or !apt.\n\nTo view examples of installing some common dependencies, click the\n\"Open Examples\" button below.\n\u001b[0;31m---------------------------------------------------------------------------\u001b[0m\n"
          ],
          "errorDetails": {
            "actions": [
              {
                "action": "open_url",
                "actionText": "Open Examples",
                "url": "/notebooks/snippets/importing_libraries.ipynb"
              }
            ]
          }
        }
      ]
    },
    {
      "cell_type": "markdown",
      "metadata": {
        "id": "qc7I5FXDhQRR"
      },
      "source": [
        "# 3. Phonenumbers Python Library"
      ]
    },
    {
      "cell_type": "code",
      "metadata": {
        "colab": {
          "base_uri": "https://localhost:8080/"
        },
        "id": "64aKF5OPhtAo",
        "outputId": "f7f65b61-3568-47d2-a19d-9be284c465f5"
      },
      "source": [
        "!pip install phonenumbers"
      ],
      "execution_count": 9,
      "outputs": [
        {
          "output_type": "stream",
          "name": "stdout",
          "text": [
            "Collecting phonenumbers\n",
            "  Downloading phonenumbers-8.12.31-py2.py3-none-any.whl (2.6 MB)\n",
            "\u001b[K     |████████████████████████████████| 2.6 MB 5.3 MB/s \n",
            "\u001b[?25hInstalling collected packages: phonenumbers\n",
            "Successfully installed phonenumbers-8.12.31\n"
          ]
        }
      ]
    },
    {
      "cell_type": "code",
      "metadata": {
        "id": "-Na58bxrhOyI"
      },
      "source": [
        "import phonenumbers\n",
        "from phonenumbers import carrier\n",
        "from phonenumbers import geocoder\n",
        "\n",
        "def number_scan(phone):\n",
        "    #geting the phone number\n",
        "    phone_number = phonenumbers.parse(phone)\n",
        "    \n",
        "    country = geocoder.description_for_number(phone_number,'en')   \n",
        "    \n",
        "    supplier = carrier.name_for_number(phone_number,'en')    \n",
        "    \n",
        "    info = f\"Country: {country}, Supplier: {supplier}\"\n",
        "    return info\n",
        "    \n",
        "if __name__==\"__main__\":\n",
        "    phone_number= input(\"Enter PhoneNumer: \")\n",
        "    print(number_scan(phone_number))"
      ],
      "execution_count": 12,
      "outputs": []
    },
    {
      "cell_type": "markdown",
      "metadata": {
        "id": "xlT4Urexh693"
      },
      "source": [
        "# 4. PyDictionary: A “Real” Dictionary Module for Python"
      ]
    },
    {
      "cell_type": "code",
      "metadata": {
        "colab": {
          "base_uri": "https://localhost:8080/"
        },
        "id": "zXQVnVAoiAae",
        "outputId": "eb5c0553-30c2-454e-dc73-582c41ef6ba3"
      },
      "source": [
        "!pip install PyDictionary"
      ],
      "execution_count": 14,
      "outputs": [
        {
          "output_type": "stream",
          "name": "stdout",
          "text": [
            "Collecting PyDictionary\n",
            "  Downloading PyDictionary-2.0.1-py3-none-any.whl (6.1 kB)\n",
            "Collecting goslate\n",
            "  Downloading goslate-1.5.1.tar.gz (17 kB)\n",
            "Requirement already satisfied: click in /usr/local/lib/python3.7/dist-packages (from PyDictionary) (7.1.2)\n",
            "Requirement already satisfied: requests in /usr/local/lib/python3.7/dist-packages (from PyDictionary) (2.23.0)\n",
            "Requirement already satisfied: bs4 in /usr/local/lib/python3.7/dist-packages (from PyDictionary) (0.0.1)\n",
            "Requirement already satisfied: beautifulsoup4 in /usr/local/lib/python3.7/dist-packages (from bs4->PyDictionary) (4.6.3)\n",
            "Collecting futures\n",
            "  Downloading futures-3.1.1-py3-none-any.whl (2.8 kB)\n",
            "Requirement already satisfied: idna<3,>=2.5 in /usr/local/lib/python3.7/dist-packages (from requests->PyDictionary) (2.10)\n",
            "Requirement already satisfied: chardet<4,>=3.0.2 in /usr/local/lib/python3.7/dist-packages (from requests->PyDictionary) (3.0.4)\n",
            "Requirement already satisfied: certifi>=2017.4.17 in /usr/local/lib/python3.7/dist-packages (from requests->PyDictionary) (2021.5.30)\n",
            "Requirement already satisfied: urllib3!=1.25.0,!=1.25.1,<1.26,>=1.21.1 in /usr/local/lib/python3.7/dist-packages (from requests->PyDictionary) (1.24.3)\n",
            "Building wheels for collected packages: goslate\n",
            "  Building wheel for goslate (setup.py) ... \u001b[?25l\u001b[?25hdone\n",
            "  Created wheel for goslate: filename=goslate-1.5.1-py3-none-any.whl size=11411 sha256=717341c367a37bdb8c4881bb466fdeb872b488e6183b40e20947acbb3bc83d63\n",
            "  Stored in directory: /root/.cache/pip/wheels/16/5c/86/f561bb944dc9f853f9502427bde8fe557a6fafe146d4a432f2\n",
            "Successfully built goslate\n",
            "Installing collected packages: futures, goslate, PyDictionary\n",
            "Successfully installed PyDictionary-2.0.1 futures-3.1.1 goslate-1.5.1\n"
          ]
        }
      ]
    },
    {
      "cell_type": "code",
      "metadata": {
        "colab": {
          "base_uri": "https://localhost:8080/"
        },
        "id": "gOoHUhmAhqkw",
        "outputId": "fff0d34c-e6f9-4f72-c729-3192ae93c200"
      },
      "source": [
        "from PyDictionary import PyDictionary\n",
        "\n",
        "word = PyDictionary(\"hotel\",\"ambush\",\"nonchalant\",\"perceptive\")\n",
        "\n",
        "def dictionary(word):\n",
        "    dictionary=PyDictionary()\n",
        "    print(dictionary.antonym(word))\n",
        "    \n",
        "if __name__==\"__main__\":\n",
        "    print(word.printMeanings())\n",
        "    print(word.getSynonyms())"
      ],
      "execution_count": 19,
      "outputs": [
        {
          "output_type": "stream",
          "name": "stdout",
          "text": [
            "Hotel:\n",
            "Noun:\n",
            "a building where travelers can pay for lodging and meals and other services\n",
            "Ambush:\n",
            "Noun:\n",
            "the act of concealing yourself and lying in wait to attack by surprise\n",
            "Verb:\n",
            "wait in hiding to attack\n",
            "hunt (quarry\n",
            "Nonchalant:\n",
            "Adjective:\n",
            "marked by blithe unconcern\n",
            "Perceptive:\n",
            "Adjective:\n",
            "of or relating to perception\n",
            "having the ability to perceive or understand; keen in discernment\n",
            "None\n",
            "hotel has no Synonyms in the API\n",
            "ambush has no Synonyms in the API\n",
            "nonchalant has no Synonyms in the API\n",
            "perceptive has no Synonyms in the API\n",
            "[None, None, None, None]\n"
          ]
        }
      ]
    }
  ]
}