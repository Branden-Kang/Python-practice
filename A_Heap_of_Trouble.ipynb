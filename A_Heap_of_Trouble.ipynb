{
  "nbformat": 4,
  "nbformat_minor": 0,
  "metadata": {
    "colab": {
      "name": "A Heap of Trouble.ipynb",
      "provenance": [],
      "authorship_tag": "ABX9TyNhktMDTCLzxa3EgRkxMTZ1"
    },
    "kernelspec": {
      "name": "python3",
      "display_name": "Python 3"
    },
    "language_info": {
      "name": "python"
    }
  },
  "cells": [
    {
      "cell_type": "markdown",
      "metadata": {
        "id": "Gn-xH3AE7ZZC"
      },
      "source": [
        "[Reference](https://medium.com/pragmatic-programmers/a-heap-of-trouble-51a3e0af87b0)"
      ]
    },
    {
      "cell_type": "code",
      "metadata": {
        "colab": {
          "base_uri": "https://localhost:8080/",
          "height": 232
        },
        "id": "nRlW_uGM7SW9",
        "outputId": "048d8f1d-0ca2-41cc-857f-527b52aef6b2"
      },
      "source": [
        "from heapq import heappush, heappop\n",
        "from collections import namedtuple\n",
        "\n",
        "# Python's heap is min-heap\n",
        "HIGH, MEDIUM, LOW = 10, 20, 30\n",
        "\n",
        "Job = namedtuple('Job', 'priority func args')\n",
        "\n",
        "queue = []\n",
        "heappush(queue, Job(HIGH, print, ['j.hi']))\n",
        "heappush(queue, Job(LOW, print, ['j.lo']))\n",
        "heappush(queue, Job(HIGH, print, [0xCAFFE]))  # coffee is important\n",
        "\n",
        "while queue:\n",
        "    job = heappop(queue)\n",
        "    job.func(*job.args)"
      ],
      "execution_count": 1,
      "outputs": [
        {
          "output_type": "error",
          "ename": "TypeError",
          "evalue": "ignored",
          "traceback": [
            "\u001b[0;31m---------------------------------------------------------------------------\u001b[0m",
            "\u001b[0;31mTypeError\u001b[0m                                 Traceback (most recent call last)",
            "\u001b[0;32m<ipython-input-1-9c483d526d8c>\u001b[0m in \u001b[0;36m<module>\u001b[0;34m()\u001b[0m\n\u001b[1;32m     10\u001b[0m \u001b[0mheappush\u001b[0m\u001b[0;34m(\u001b[0m\u001b[0mqueue\u001b[0m\u001b[0;34m,\u001b[0m \u001b[0mJob\u001b[0m\u001b[0;34m(\u001b[0m\u001b[0mHIGH\u001b[0m\u001b[0;34m,\u001b[0m \u001b[0mprint\u001b[0m\u001b[0;34m,\u001b[0m \u001b[0;34m[\u001b[0m\u001b[0;34m'j.hi'\u001b[0m\u001b[0;34m]\u001b[0m\u001b[0;34m)\u001b[0m\u001b[0;34m)\u001b[0m\u001b[0;34m\u001b[0m\u001b[0;34m\u001b[0m\u001b[0m\n\u001b[1;32m     11\u001b[0m \u001b[0mheappush\u001b[0m\u001b[0;34m(\u001b[0m\u001b[0mqueue\u001b[0m\u001b[0;34m,\u001b[0m \u001b[0mJob\u001b[0m\u001b[0;34m(\u001b[0m\u001b[0mLOW\u001b[0m\u001b[0;34m,\u001b[0m \u001b[0mprint\u001b[0m\u001b[0;34m,\u001b[0m \u001b[0;34m[\u001b[0m\u001b[0;34m'j.lo'\u001b[0m\u001b[0;34m]\u001b[0m\u001b[0;34m)\u001b[0m\u001b[0;34m)\u001b[0m\u001b[0;34m\u001b[0m\u001b[0;34m\u001b[0m\u001b[0m\n\u001b[0;32m---> 12\u001b[0;31m \u001b[0mheappush\u001b[0m\u001b[0;34m(\u001b[0m\u001b[0mqueue\u001b[0m\u001b[0;34m,\u001b[0m \u001b[0mJob\u001b[0m\u001b[0;34m(\u001b[0m\u001b[0mHIGH\u001b[0m\u001b[0;34m,\u001b[0m \u001b[0mprint\u001b[0m\u001b[0;34m,\u001b[0m \u001b[0;34m[\u001b[0m\u001b[0;36m0xCAFFE\u001b[0m\u001b[0;34m]\u001b[0m\u001b[0;34m)\u001b[0m\u001b[0;34m)\u001b[0m  \u001b[0;31m# coffee is important\u001b[0m\u001b[0;34m\u001b[0m\u001b[0;34m\u001b[0m\u001b[0m\n\u001b[0m\u001b[1;32m     13\u001b[0m \u001b[0;34m\u001b[0m\u001b[0m\n\u001b[1;32m     14\u001b[0m \u001b[0;32mwhile\u001b[0m \u001b[0mqueue\u001b[0m\u001b[0;34m:\u001b[0m\u001b[0;34m\u001b[0m\u001b[0;34m\u001b[0m\u001b[0m\n",
            "\u001b[0;31mTypeError\u001b[0m: '<' not supported between instances of 'int' and 'str'"
          ]
        }
      ]
    },
    {
      "cell_type": "code",
      "metadata": {
        "colab": {
          "base_uri": "https://localhost:8080/"
        },
        "id": "zJ8PX7Ke7dIw",
        "outputId": "964181ff-8818-4a61-d7bc-979fc0834cf0"
      },
      "source": [
        "from heapq import heappush, heappop\n",
        "from collections import namedtuple\n",
        "\n",
        "# Python's heap is min-heap\n",
        "HIGH, MEDIUM, LOW = 10, 20, 30\n",
        "\n",
        "Job = namedtuple('Job', 'priority func args')\n",
        "# Compare only priority\n",
        "Job.__lt__ = lambda self, other: self.priority < other.priority\n",
        "\n",
        "queue = []\n",
        "heappush(queue, Job(HIGH, print, ['j.hi']))\n",
        "heappush(queue, Job(LOW, print, ['j.lo']))\n",
        "heappush(queue, Job(HIGH, print, [0xCAFFE]))  # coffee is important\n",
        "\n",
        "while queue:\n",
        "    job = heappop(queue)\n",
        "    job.func(*job.args)"
      ],
      "execution_count": 2,
      "outputs": [
        {
          "output_type": "stream",
          "name": "stdout",
          "text": [
            "j.hi\n",
            "831486\n",
            "j.lo\n"
          ]
        }
      ]
    }
  ]
}