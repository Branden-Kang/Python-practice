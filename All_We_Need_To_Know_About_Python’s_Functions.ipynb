{
  "nbformat": 4,
  "nbformat_minor": 0,
  "metadata": {
    "colab": {
      "name": "All We Need To Know About Python’s Functions.ipynb",
      "provenance": [],
      "authorship_tag": "ABX9TyN9kqcTFNcMgQ3Jjj+Ig7RX"
    },
    "kernelspec": {
      "name": "python3",
      "display_name": "Python 3"
    }
  },
  "cells": [
    {
      "cell_type": "markdown",
      "metadata": {
        "id": "lGx9s9nfsnGt"
      },
      "source": [
        "[Reference](https://medium.com/python-features/all-we-need-to-know-about-pythons-functions-960231e510af)"
      ]
    },
    {
      "cell_type": "code",
      "metadata": {
        "colab": {
          "base_uri": "https://localhost:8080/",
          "height": 37
        },
        "id": "zS0rgqh1sl7S",
        "outputId": "c044460e-0ce5-4fdc-a929-70759dcf4b80"
      },
      "source": [
        "def greet(name):\n",
        "    return \"Welcome {}!!\".format(name)\n",
        "    \n",
        "greet('Sarah')"
      ],
      "execution_count": 1,
      "outputs": [
        {
          "output_type": "execute_result",
          "data": {
            "application/vnd.google.colaboratory.intrinsic+json": {
              "type": "string"
            },
            "text/plain": [
              "'Welcome Sarah!!'"
            ]
          },
          "metadata": {
            "tags": []
          },
          "execution_count": 1
        }
      ]
    },
    {
      "cell_type": "code",
      "metadata": {
        "colab": {
          "base_uri": "https://localhost:8080/",
          "height": 37
        },
        "id": "JMT4TNqPssLf",
        "outputId": "708a66f7-637f-4546-f672-ca4104eed4fa"
      },
      "source": [
        "receive = greet\n",
        "receive('Sarah')"
      ],
      "execution_count": 2,
      "outputs": [
        {
          "output_type": "execute_result",
          "data": {
            "application/vnd.google.colaboratory.intrinsic+json": {
              "type": "string"
            },
            "text/plain": [
              "'Welcome Sarah!!'"
            ]
          },
          "metadata": {
            "tags": []
          },
          "execution_count": 2
        }
      ]
    },
    {
      "cell_type": "code",
      "metadata": {
        "colab": {
          "base_uri": "https://localhost:8080/",
          "height": 215
        },
        "id": "V-oRKqA-swLE",
        "outputId": "2723d598-bc55-4fcf-b2c0-e835aa71cc4b"
      },
      "source": [
        "del greet\n",
        "greet('Sarah')"
      ],
      "execution_count": 3,
      "outputs": [
        {
          "output_type": "error",
          "ename": "NameError",
          "evalue": "ignored",
          "traceback": [
            "\u001b[0;31m---------------------------------------------------------------------------\u001b[0m",
            "\u001b[0;31mNameError\u001b[0m                                 Traceback (most recent call last)",
            "\u001b[0;32m<ipython-input-3-76a5d11d5b7d>\u001b[0m in \u001b[0;36m<module>\u001b[0;34m()\u001b[0m\n\u001b[1;32m      1\u001b[0m \u001b[0;32mdel\u001b[0m \u001b[0mgreet\u001b[0m\u001b[0;34m\u001b[0m\u001b[0;34m\u001b[0m\u001b[0m\n\u001b[0;32m----> 2\u001b[0;31m \u001b[0mgreet\u001b[0m\u001b[0;34m(\u001b[0m\u001b[0;34m'Sarah'\u001b[0m\u001b[0;34m)\u001b[0m\u001b[0;34m\u001b[0m\u001b[0;34m\u001b[0m\u001b[0m\n\u001b[0m",
            "\u001b[0;31mNameError\u001b[0m: name 'greet' is not defined"
          ]
        }
      ]
    },
    {
      "cell_type": "code",
      "metadata": {
        "colab": {
          "base_uri": "https://localhost:8080/",
          "height": 37
        },
        "id": "zUotmRbhtFg5",
        "outputId": "8cd8bd6a-ff1a-4377-e29b-9d76430f2edd"
      },
      "source": [
        "receive('Sarah')"
      ],
      "execution_count": 4,
      "outputs": [
        {
          "output_type": "execute_result",
          "data": {
            "application/vnd.google.colaboratory.intrinsic+json": {
              "type": "string"
            },
            "text/plain": [
              "'Welcome Sarah!!'"
            ]
          },
          "metadata": {
            "tags": []
          },
          "execution_count": 4
        }
      ]
    },
    {
      "cell_type": "code",
      "metadata": {
        "colab": {
          "base_uri": "https://localhost:8080/"
        },
        "id": "DrWhYMHVtFrw",
        "outputId": "e27e1d33-2b07-4247-82e2-6b0de7a0292e"
      },
      "source": [
        "funcs = [len, str.isdigit, str.lower]\n",
        "funcs"
      ],
      "execution_count": 5,
      "outputs": [
        {
          "output_type": "execute_result",
          "data": {
            "text/plain": [
              "[<function len>,\n",
              " <method 'isdigit' of 'str' objects>,\n",
              " <method 'lower' of 'str' objects>]"
            ]
          },
          "metadata": {
            "tags": []
          },
          "execution_count": 5
        }
      ]
    },
    {
      "cell_type": "code",
      "metadata": {
        "colab": {
          "base_uri": "https://localhost:8080/"
        },
        "id": "9Y5Qgz_ktMeH",
        "outputId": "886f7e82-2ae2-4187-f386-f41335ffe9dd"
      },
      "source": [
        "for f in funcs:\n",
        "    print(f, f('Hello World!'))"
      ],
      "execution_count": 6,
      "outputs": [
        {
          "output_type": "stream",
          "text": [
            "<built-in function len> 12\n",
            "<method 'isdigit' of 'str' objects> False\n",
            "<method 'lower' of 'str' objects> hello world!\n"
          ],
          "name": "stdout"
        }
      ]
    },
    {
      "cell_type": "code",
      "metadata": {
        "id": "QLk8DquRta6N"
      },
      "source": [
        "def greet(name):\n",
        "    return \"Welcome {}!!\".format(name)"
      ],
      "execution_count": 8,
      "outputs": []
    },
    {
      "cell_type": "code",
      "metadata": {
        "colab": {
          "base_uri": "https://localhost:8080/"
        },
        "id": "6qgOqu3vtPXz",
        "outputId": "045bc8a4-48d3-4860-adf0-6cb951c5c7ed"
      },
      "source": [
        "def accept(func):\n",
        "    msg = func('Roark')\n",
        "    print(msg)\n",
        "accept(greet)"
      ],
      "execution_count": 9,
      "outputs": [
        {
          "output_type": "stream",
          "text": [
            "Welcome Roark!!\n"
          ],
          "name": "stdout"
        }
      ]
    },
    {
      "cell_type": "code",
      "metadata": {
        "colab": {
          "base_uri": "https://localhost:8080/"
        },
        "id": "uDIR9NNQtXPD",
        "outputId": "79030efc-93e9-4ba9-fd36-a5daba353220"
      },
      "source": [
        "def leave(name):\n",
        "    return \"Good Bye {}!\".format(name)\n",
        "\n",
        "accept(leave)"
      ],
      "execution_count": 11,
      "outputs": [
        {
          "output_type": "stream",
          "text": [
            "Good Bye Roark!\n"
          ],
          "name": "stdout"
        }
      ]
    },
    {
      "cell_type": "code",
      "metadata": {
        "id": "3YRjaXUAtbyP"
      },
      "source": [
        "def speak(text):\n",
        "    def whisper(t):\n",
        "        return t.lower + \"...\"\n",
        "    return whisper(text)\n",
        "speak('Hello World')"
      ],
      "execution_count": 13,
      "outputs": []
    },
    {
      "cell_type": "code",
      "metadata": {
        "id": "UQ2fn0H9tgFv"
      },
      "source": [
        "def get_func(flag):\n",
        "    def add(a, b):\n",
        "        return a + b\n",
        "    def multiply(a, b):\n",
        "        return a * b\n",
        "    if flag > 0.5:\n",
        "        return multiply\n",
        "    else:\n",
        "        return add"
      ],
      "execution_count": 14,
      "outputs": []
    },
    {
      "cell_type": "code",
      "metadata": {
        "id": "_Pwn-Qu3t2q6"
      },
      "source": [
        "func_inst = get_func(0.7)"
      ],
      "execution_count": 15,
      "outputs": []
    },
    {
      "cell_type": "code",
      "metadata": {
        "colab": {
          "base_uri": "https://localhost:8080/"
        },
        "id": "S2o-mTd7t4Vc",
        "outputId": "ef9f3560-1392-43ed-f134-e63acaff61a7"
      },
      "source": [
        "func_inst"
      ],
      "execution_count": 16,
      "outputs": [
        {
          "output_type": "execute_result",
          "data": {
            "text/plain": [
              "<function __main__.get_func.<locals>.multiply>"
            ]
          },
          "metadata": {
            "tags": []
          },
          "execution_count": 16
        }
      ]
    },
    {
      "cell_type": "code",
      "metadata": {
        "colab": {
          "base_uri": "https://localhost:8080/"
        },
        "id": "f0ZtGLxVt4hq",
        "outputId": "63b9fd3a-0125-4c61-fbcc-e3218e2d7025"
      },
      "source": [
        "func_inst(10, 6)"
      ],
      "execution_count": 17,
      "outputs": [
        {
          "output_type": "execute_result",
          "data": {
            "text/plain": [
              "60"
            ]
          },
          "metadata": {
            "tags": []
          },
          "execution_count": 17
        }
      ]
    },
    {
      "cell_type": "code",
      "metadata": {
        "colab": {
          "base_uri": "https://localhost:8080/"
        },
        "id": "dTyjZvKUt52I",
        "outputId": "5038e780-0423-4a1f-8633-7c10f7eae7bb"
      },
      "source": [
        "class Foo:\n",
        "    def __init__(self):\n",
        "        print(\"init\")\n",
        "    def __call__(self):\n",
        "        print(\"call\")\n",
        "obj = Foo()\n",
        "obj()"
      ],
      "execution_count": 18,
      "outputs": [
        {
          "output_type": "stream",
          "text": [
            "init\n",
            "call\n"
          ],
          "name": "stdout"
        }
      ]
    }
  ]
}