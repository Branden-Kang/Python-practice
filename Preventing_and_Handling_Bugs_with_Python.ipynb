{
  "nbformat": 4,
  "nbformat_minor": 0,
  "metadata": {
    "colab": {
      "name": "Preventing and Handling Bugs with Python.ipynb",
      "provenance": [],
      "authorship_tag": "ABX9TyMXc82zMAzhEV/sYQtuzrxM"
    },
    "kernelspec": {
      "name": "python3",
      "display_name": "Python 3"
    }
  },
  "cells": [
    {
      "cell_type": "markdown",
      "metadata": {
        "id": "5xZd9LtHLgE3"
      },
      "source": [
        "[Reference](https://levelup.gitconnected.com/preventing-and-handling-bugs-with-python-562c78568166)"
      ]
    },
    {
      "cell_type": "code",
      "metadata": {
        "id": "fXo50HRDLeS6",
        "outputId": "5b607f4a-1e72-441c-f784-2084b164899f",
        "colab": {
          "base_uri": "https://localhost:8080/",
          "height": 266
        }
      },
      "source": [
        "print('What is your name?')\n",
        "name = input()\n",
        "if name != 'Joe':\n",
        "  raise Exception('Wrong name')"
      ],
      "execution_count": 1,
      "outputs": [
        {
          "output_type": "stream",
          "text": [
            "What is your name?\n",
            "Branden\n"
          ],
          "name": "stdout"
        },
        {
          "output_type": "error",
          "ename": "Exception",
          "evalue": "ignored",
          "traceback": [
            "\u001b[0;31m---------------------------------------------------------------------------\u001b[0m",
            "\u001b[0;31mException\u001b[0m                                 Traceback (most recent call last)",
            "\u001b[0;32m<ipython-input-1-4ac291df0f75>\u001b[0m in \u001b[0;36m<module>\u001b[0;34m()\u001b[0m\n\u001b[1;32m      2\u001b[0m \u001b[0mname\u001b[0m \u001b[0;34m=\u001b[0m \u001b[0minput\u001b[0m\u001b[0;34m(\u001b[0m\u001b[0;34m)\u001b[0m\u001b[0;34m\u001b[0m\u001b[0;34m\u001b[0m\u001b[0m\n\u001b[1;32m      3\u001b[0m \u001b[0;32mif\u001b[0m \u001b[0mname\u001b[0m \u001b[0;34m!=\u001b[0m \u001b[0;34m'Joe'\u001b[0m\u001b[0;34m:\u001b[0m\u001b[0;34m\u001b[0m\u001b[0;34m\u001b[0m\u001b[0m\n\u001b[0;32m----> 4\u001b[0;31m   \u001b[0;32mraise\u001b[0m \u001b[0mException\u001b[0m\u001b[0;34m(\u001b[0m\u001b[0;34m'Wrong name'\u001b[0m\u001b[0;34m)\u001b[0m\u001b[0;34m\u001b[0m\u001b[0;34m\u001b[0m\u001b[0m\n\u001b[0m",
            "\u001b[0;31mException\u001b[0m: Wrong name"
          ]
        }
      ]
    },
    {
      "cell_type": "code",
      "metadata": {
        "id": "mC8akYTMLjxi"
      },
      "source": [
        "import traceback\n",
        "\n",
        "print('What is your name?')\n",
        "name = input()\n",
        "try:\n",
        "  if name != 'Joe':\n",
        "    raise Exception('Wrong name')\n",
        "except Exception as err:\n",
        "  error_file = open('error_info.txt', 'w')\n",
        "  error_file.write(traceback.format_exc())\n",
        "  error_file.close()\n",
        "  print(str(err))"
      ],
      "execution_count": 2,
      "outputs": []
    },
    {
      "cell_type": "code",
      "metadata": {
        "id": "9CCI311OLugM"
      },
      "source": [
        "print('What is your name?')\n",
        "name = input()\n",
        "try:\n",
        "  assert name == 'Joe', 'Wrong name'\n",
        "except AssertionError as err:\n",
        "  print(str(err))"
      ],
      "execution_count": 3,
      "outputs": []
    },
    {
      "cell_type": "code",
      "metadata": {
        "id": "OR7B_61xLy4T"
      },
      "source": [
        "import logging\n",
        "logging.basicConfig(level=logging.DEBUG, format=' %(asctime)s -  %(levelname)s -  %(message)s')\n",
        "logging.debug('Start of program')\n",
        "\n",
        "print('What is your name?')\n",
        "name = input()\n",
        "try:\n",
        "  assert name == 'Joe', 'Wrong name'\n",
        "except AssertionError as err:\n",
        "  logging.debug(str(err))"
      ],
      "execution_count": 4,
      "outputs": []
    },
    {
      "cell_type": "code",
      "metadata": {
        "id": "FTqS9zqDLyNU"
      },
      "source": [
        "import logging\n",
        "logging.basicConfig(level=logging.DEBUG, format=' %(asctime)s -  %(levelname)s -  %(message)s')\n",
        "logging.debug('Start of program')\n",
        "print('What is your name?')\n",
        "name = input()\n",
        "try:\n",
        "  assert name == 'Joe', 'Wrong name'\n",
        "except AssertionError as err:\n",
        "  logging.debug(str(err))\n",
        "  logging.disable(logging.CRITICAL)\n",
        "  logging.critical('Critical error')"
      ],
      "execution_count": 5,
      "outputs": []
    },
    {
      "cell_type": "code",
      "metadata": {
        "id": "aEhxbNkmMGig"
      },
      "source": [
        "import logging\n",
        "logging.basicConfig(filename='log.txt', level=logging.DEBUG, format=' %(asctime)s -  %(levelname)s -  %(message)s')\n",
        "logging.debug('Start of program')\n",
        "print('What is your name?')\n",
        "name = input()\n",
        "try:\n",
        "  assert name == 'Joe', 'Wrong name'\n",
        "except AssertionError as err:\n",
        "  logging.debug(str(err))"
      ],
      "execution_count": 6,
      "outputs": []
    }
  ]
}