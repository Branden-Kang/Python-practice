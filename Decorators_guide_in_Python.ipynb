{
  "nbformat": 4,
  "nbformat_minor": 0,
  "metadata": {
    "colab": {
      "name": "Decorators guide in Python.ipynb",
      "provenance": [],
      "authorship_tag": "ABX9TyMq6JvohZcfHpp8GFOYMR5a"
    },
    "kernelspec": {
      "name": "python3",
      "display_name": "Python 3"
    },
    "language_info": {
      "name": "python"
    }
  },
  "cells": [
    {
      "cell_type": "markdown",
      "metadata": {
        "id": "sWGSnT5yvM3Z"
      },
      "source": [
        "[Reference](https://probhakar-95.medium.com/decorators-in-python-bce92d0e91cd)"
      ]
    },
    {
      "cell_type": "code",
      "metadata": {
        "id": "G1y_p60IvDyK"
      },
      "source": [
        "import inspect"
      ],
      "execution_count": 1,
      "outputs": []
    },
    {
      "cell_type": "code",
      "metadata": {
        "colab": {
          "base_uri": "https://localhost:8080/"
        },
        "id": "kTp0P-C-vR_3",
        "outputId": "2fcfde90-0ff7-429c-e067-d79cafedf0b7"
      },
      "source": [
        "def give_wing(func):\n",
        "    def wrapper():\n",
        "        print('adding wings')\n",
        "        func()\n",
        "    return wrapper\n",
        "\n",
        "def snow_queen():\n",
        "    print('I am snow queen')\n",
        "\n",
        "print('before applying the decorator the snow_queen function: ')\n",
        "print(inspect.getsource(snow_queen))"
      ],
      "execution_count": 2,
      "outputs": [
        {
          "output_type": "stream",
          "name": "stdout",
          "text": [
            "before applying the decorator the snow_queen function: \n",
            "def snow_queen():\n",
            "    print('I am snow queen')\n",
            "\n"
          ]
        }
      ]
    },
    {
      "cell_type": "code",
      "metadata": {
        "colab": {
          "base_uri": "https://localhost:8080/"
        },
        "id": "KPC60uaVvhUU",
        "outputId": "03c6e0db-ce15-44cb-f5a3-9ca468be2a4a"
      },
      "source": [
        "@give_wing\n",
        "def snow_queen():\n",
        "    print('I am snow queen')\n",
        "\n",
        "print('after applying the decorator the snow_queen function: ')\n",
        "print(inspect.getsource(snow_queen))"
      ],
      "execution_count": 3,
      "outputs": [
        {
          "output_type": "stream",
          "name": "stdout",
          "text": [
            "after applying the decorator the snow_queen function: \n",
            "    def wrapper():\n",
            "        print('adding wings')\n",
            "        func()\n",
            "\n"
          ]
        }
      ]
    },
    {
      "cell_type": "code",
      "metadata": {
        "colab": {
          "base_uri": "https://localhost:8080/"
        },
        "id": "d3138BEtvmzL",
        "outputId": "bf80f78d-7546-43f9-bb62-14ded2b23765"
      },
      "source": [
        "def give_wing_factory(color = 'white'):\n",
        "    def give_wing(func):\n",
        "        def wrapper():\n",
        "            print(f'adding wings of color {color}')\n",
        "            func()\n",
        "        return wrapper\n",
        "    return give_wing\n",
        "\n",
        "\n",
        "def snow_queen():\n",
        "    print('I am snow queen')\n",
        "\n",
        "@give_wing_factory(color='blue')\n",
        "def snow_queen():\n",
        "    print('I am snow queen')\n",
        "\n",
        "snow_queen()"
      ],
      "execution_count": 4,
      "outputs": [
        {
          "output_type": "stream",
          "name": "stdout",
          "text": [
            "adding wings of color blue\n",
            "I am snow queen\n"
          ]
        }
      ]
    },
    {
      "cell_type": "code",
      "metadata": {
        "colab": {
          "base_uri": "https://localhost:8080/"
        },
        "id": "ZYGH7lx9vxR4",
        "outputId": "1a6cc99f-2e47-4a1e-888f-1df4f65d84eb"
      },
      "source": [
        "class give_wing:\n",
        "    def __init__(self, color='white'):\n",
        "        self.color = color\n",
        "\n",
        "    def __call__(self, func):\n",
        "        def wrapper():\n",
        "            print(f'adding wings of color {self.color}')\n",
        "            func()\n",
        "        return wrapper\n",
        "\n",
        "def snow_queen():\n",
        "    print('I am snow queen')\n",
        "\n",
        "@give_wing_factory(color='blue')\n",
        "def snow_queen():\n",
        "    print('I am snow queen')\n",
        "\n",
        "snow_queen()"
      ],
      "execution_count": 5,
      "outputs": [
        {
          "output_type": "stream",
          "name": "stdout",
          "text": [
            "adding wings of color blue\n",
            "I am snow queen\n"
          ]
        }
      ]
    },
    {
      "cell_type": "code",
      "metadata": {
        "colab": {
          "base_uri": "https://localhost:8080/"
        },
        "id": "dAagDXSvwzJK",
        "outputId": "c333796a-4e7d-46c0-ae1f-d1fc0be06dd0"
      },
      "source": [
        "class Flask:\n",
        "    def __init__(self, import_name):\n",
        "        self.import_name = import_name\n",
        "        self.route_mapping = {} # empty dict to store all the route mapping\n",
        "        \n",
        "    def route(self, route_name): # parameterized decorator\n",
        "        def wrapper(view_func):\n",
        "            self.route_mapping[route_name] = view_func\n",
        "            return view_func # here we are just returning the original function not modifying it\n",
        "        return wrapper \n",
        "    \n",
        "    # just making this function to demonstrate a server request from WSGI server\n",
        "    def get_response_for_this_route(self, route_name):\n",
        "        try:\n",
        "            return self.route_mapping.get(route_name)()\n",
        "        except TypeError as e:\n",
        "            return '404 requested url not found!'\n",
        "        \n",
        "        \n",
        "app = Flask(__name__)\n",
        "\n",
        "@app.route('/')\n",
        "def home():\n",
        "    return 'this is home page'\n",
        "\n",
        "@app.route('/signin')\n",
        "def home():\n",
        "    return 'this is signin page'\n",
        "\n",
        "#----------let's test the web app-------\n",
        "print(app.get_response_for_this_route('/'))\n",
        "print(app.get_response_for_this_route('/signin'))\n",
        "print(app.get_response_for_this_route('/route that does not exists'))"
      ],
      "execution_count": 6,
      "outputs": [
        {
          "output_type": "stream",
          "name": "stdout",
          "text": [
            "this is home page\n",
            "this is signin page\n",
            "404 requested url not found!\n"
          ]
        }
      ]
    },
    {
      "cell_type": "code",
      "metadata": {
        "colab": {
          "base_uri": "https://localhost:8080/"
        },
        "id": "6fG9Bx3CG7h2",
        "outputId": "aac70a05-0532-45a0-a269-15a01e83dd60"
      },
      "source": [
        "def give_wing(func):\n",
        "    def wrapper():\n",
        "        print(f'adding wings')\n",
        "        func()\n",
        "    setattr(wrapper, '__name__',getattr(func, '__name__'))\n",
        "    return wrapper\n",
        "\n",
        "@give_wing\n",
        "def snow_queen():\n",
        "    print('I am snow queen')\n",
        "\n",
        "def harry_potter():\n",
        "    print('I am snow queen')\n",
        "\n",
        "people_at_gate = [snow_queen, harry_potter]\n",
        "\n",
        "invited_people_list = ['snow_queen', 'harry_potter']\n",
        "\n",
        "for each_people in people_at_gate:\n",
        "    if each_people.__name__ in invited_people_list:\n",
        "        print(f'hey {each_people.__name__} please come inside')\n",
        "    else:\n",
        "        print(f'Stop {each_people.__name__} you are not invited')"
      ],
      "execution_count": 8,
      "outputs": [
        {
          "output_type": "stream",
          "name": "stdout",
          "text": [
            "hey snow_queen please come inside\n",
            "hey harry_potter please come inside\n"
          ]
        }
      ]
    },
    {
      "cell_type": "code",
      "metadata": {
        "colab": {
          "base_uri": "https://localhost:8080/"
        },
        "id": "4Bm9EVpTHxo1",
        "outputId": "d082bb5a-d436-4ef5-986c-f90794f8085d"
      },
      "source": [
        "import functools\n",
        "\n",
        "functools.WRAPPER_ASSIGNMENTS"
      ],
      "execution_count": 1,
      "outputs": [
        {
          "output_type": "execute_result",
          "data": {
            "text/plain": [
              "('__module__', '__name__', '__qualname__', '__doc__', '__annotations__')"
            ]
          },
          "metadata": {},
          "execution_count": 1
        }
      ]
    },
    {
      "cell_type": "code",
      "metadata": {
        "colab": {
          "base_uri": "https://localhost:8080/"
        },
        "id": "pE0efTsZ4eSX",
        "outputId": "974d856b-04d2-4a14-c88d-52abe3b5c389"
      },
      "source": [
        "functools.WRAPPER_UPDATES"
      ],
      "execution_count": 2,
      "outputs": [
        {
          "output_type": "execute_result",
          "data": {
            "text/plain": [
              "('__dict__',)"
            ]
          },
          "metadata": {},
          "execution_count": 2
        }
      ]
    },
    {
      "cell_type": "code",
      "metadata": {
        "colab": {
          "base_uri": "https://localhost:8080/"
        },
        "id": "M7dyKnrH4fYx",
        "outputId": "b315c3cf-8f24-4b08-ed7a-16da0c1b7cc1"
      },
      "source": [
        "from functools import wraps\n",
        "\n",
        "def give_wing(func):\n",
        "    @wraps(func)\n",
        "    def wrapper():\n",
        "        print(f'adding wings')\n",
        "        func()\n",
        "    return wrapper\n",
        "\n",
        "@give_wing\n",
        "def snow_queen():\n",
        "    print('I am snow queen')\n",
        "\n",
        "def harry_potter():\n",
        "    print('I am snow queen')\n",
        "\n",
        "people_at_gate = [snow_queen, harry_potter]\n",
        "\n",
        "invited_people_list = ['snow_queen', 'harry_potter']\n",
        "\n",
        "for each_people in people_at_gate:\n",
        "    if each_people.__name__ in invited_people_list:\n",
        "        print(f'hey {each_people.__name__} please come inside')\n",
        "    else:\n",
        "        print(f'Stop {each_people.__name__} you are not invited')"
      ],
      "execution_count": 3,
      "outputs": [
        {
          "output_type": "stream",
          "name": "stdout",
          "text": [
            "hey snow_queen please come inside\n",
            "hey harry_potter please come inside\n"
          ]
        }
      ]
    }
  ]
}