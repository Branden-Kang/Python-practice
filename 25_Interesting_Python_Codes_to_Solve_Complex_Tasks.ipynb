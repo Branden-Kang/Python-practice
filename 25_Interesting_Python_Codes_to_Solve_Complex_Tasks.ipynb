{
  "nbformat": 4,
  "nbformat_minor": 0,
  "metadata": {
    "colab": {
      "name": "25 Interesting Python Codes to Solve Complex Tasks.ipynb",
      "provenance": [],
      "authorship_tag": "ABX9TyMOb0Tk5G2UllsrRVMl0T2i"
    },
    "kernelspec": {
      "name": "python3",
      "display_name": "Python 3"
    },
    "language_info": {
      "name": "python"
    }
  },
  "cells": [
    {
      "cell_type": "markdown",
      "metadata": {
        "id": "a2I-vUGB_QxN"
      },
      "source": [
        "[Reference](https://python.plainenglish.io/25-interesting-python-lines-of-code-733f5b2956b6)"
      ]
    },
    {
      "cell_type": "markdown",
      "metadata": {
        "id": "9sJP3aHJ_TAw"
      },
      "source": [
        "# 1. Letter Anagram"
      ]
    },
    {
      "cell_type": "code",
      "metadata": {
        "colab": {
          "base_uri": "https://localhost:8080/"
        },
        "id": "oO3-CLPJ-4P9",
        "outputId": "2cc75be6-5146-4696-9f9d-ea8a240803cd"
      },
      "source": [
        "from collections import Counter\n",
        "\n",
        "s1 = 'below'\n",
        "s2 = 'elbow'\n",
        "\n",
        "print('anagram') if Counter(s1) == Counter(s2) else print('not an anagram')"
      ],
      "execution_count": 1,
      "outputs": [
        {
          "output_type": "stream",
          "name": "stdout",
          "text": [
            "anagram\n"
          ]
        }
      ]
    },
    {
      "cell_type": "markdown",
      "metadata": {
        "id": "wL9hJKOK_U7B"
      },
      "source": [
        "# 2. Binary to Decimal"
      ]
    },
    {
      "cell_type": "code",
      "metadata": {
        "colab": {
          "base_uri": "https://localhost:8080/"
        },
        "id": "5m0Cor1e_WNi",
        "outputId": "6723d08b-ffad-4348-cade-8709da277949"
      },
      "source": [
        "decimal = int('1010', 2)\n",
        "print(decimal) #10"
      ],
      "execution_count": 2,
      "outputs": [
        {
          "output_type": "stream",
          "name": "stdout",
          "text": [
            "10\n"
          ]
        }
      ]
    },
    {
      "cell_type": "markdown",
      "metadata": {
        "id": "tnWTV-co_U1c"
      },
      "source": [
        "# 3. Convert String to Lowercase"
      ]
    },
    {
      "cell_type": "code",
      "metadata": {
        "colab": {
          "base_uri": "https://localhost:8080/"
        },
        "id": "v1f2N6G1_UIB",
        "outputId": "d2884aec-153b-41fd-ab70-81a5a19b4d73"
      },
      "source": [
        "print(\"Hi my name is Tony Xu\".lower())\n",
        "# 'hi my name is tony xu'\n",
        "\n",
        "print(\"Hi my name is Tony Xu\".casefold())\n",
        "# 'hi my name is tony xu'"
      ],
      "execution_count": 3,
      "outputs": [
        {
          "output_type": "stream",
          "name": "stdout",
          "text": [
            "hi my name is tony xu\n",
            "hi my name is tony xu\n"
          ]
        }
      ]
    },
    {
      "cell_type": "markdown",
      "metadata": {
        "id": "vHGDxJKd_Y0k"
      },
      "source": [
        "# 4. Convert String to Uppercase"
      ]
    },
    {
      "cell_type": "code",
      "metadata": {
        "colab": {
          "base_uri": "https://localhost:8080/"
        },
        "id": "7UddS4XU_X6a",
        "outputId": "7f1b5553-74c1-4e13-9fb1-c862bff74972"
      },
      "source": [
        "print(\"hi my name is Tony Xu\".upper())\n",
        "# 'HI MY NAME IS Tony Xu'"
      ],
      "execution_count": 4,
      "outputs": [
        {
          "output_type": "stream",
          "name": "stdout",
          "text": [
            "HI MY NAME IS TONY XU\n"
          ]
        }
      ]
    },
    {
      "cell_type": "markdown",
      "metadata": {
        "id": "RpWPVjZ__apY"
      },
      "source": [
        "# 5. Convert String to Bytes"
      ]
    },
    {
      "cell_type": "code",
      "metadata": {
        "colab": {
          "base_uri": "https://localhost:8080/"
        },
        "id": "IEeGnzTz_Zle",
        "outputId": "664cddc2-c72f-4d06-e0a4-4e3b9d955273"
      },
      "source": [
        "print(\"convert string to bytes using encode method\".encode())\n",
        "# b'convert string to bytes using encode method'"
      ],
      "execution_count": 5,
      "outputs": [
        {
          "output_type": "stream",
          "name": "stdout",
          "text": [
            "b'convert string to bytes using encode method'\n"
          ]
        }
      ]
    },
    {
      "cell_type": "markdown",
      "metadata": {
        "id": "ikH44_fM_cm7"
      },
      "source": [
        "# 6. Copy File"
      ]
    },
    {
      "cell_type": "code",
      "metadata": {
        "id": "7-LJFrDq_bhd"
      },
      "source": [
        "import shutil\n",
        "\n",
        "shutil.copyfile('source.txt', 'dest.txt')"
      ],
      "execution_count": 6,
      "outputs": []
    },
    {
      "cell_type": "markdown",
      "metadata": {
        "id": "1ZvWb01Q_fMh"
      },
      "source": [
        "# 7. Quick Sort"
      ]
    },
    {
      "cell_type": "code",
      "metadata": {
        "colab": {
          "base_uri": "https://localhost:8080/"
        },
        "id": "dH2uqhNy_d3d",
        "outputId": "d2a597f9-0bfe-4460-b834-e1c3320649bf"
      },
      "source": [
        "qsort = lambda l: l if len(l) <= 1 else qsort([x for x in l[1:] if x < l[0]]) + [l[0]] + qsort([x for x in l[1:] if x >= l[0]])\n",
        "\n",
        "print(qsort([17, 29, 11, 97, 103, 5]))\n",
        "# [5, 11, 17, 29, 97, 103]"
      ],
      "execution_count": 7,
      "outputs": [
        {
          "output_type": "stream",
          "name": "stdout",
          "text": [
            "[5, 11, 17, 29, 97, 103]\n"
          ]
        }
      ]
    },
    {
      "cell_type": "markdown",
      "metadata": {
        "id": "vJqZeeSm_jGL"
      },
      "source": [
        "# 8. Sum of N Numbers"
      ]
    },
    {
      "cell_type": "code",
      "metadata": {
        "colab": {
          "base_uri": "https://localhost:8080/"
        },
        "id": "b0yUBKc-_gvq",
        "outputId": "ddad31c7-c3d6-4a37-da6f-1bdbe963fd2c"
      },
      "source": [
        "n = 10\n",
        "\n",
        "print(sum(range(0, n+1)))\n",
        "# 55"
      ],
      "execution_count": 8,
      "outputs": [
        {
          "output_type": "stream",
          "name": "stdout",
          "text": [
            "55\n"
          ]
        }
      ]
    },
    {
      "cell_type": "markdown",
      "metadata": {
        "id": "nFxfopbH_lCT"
      },
      "source": [
        "# 9. Switch the Value of Two Variables"
      ]
    },
    {
      "cell_type": "code",
      "metadata": {
        "id": "KeuAfjaP_kSp"
      },
      "source": [
        "a, b = b, a"
      ],
      "execution_count": 9,
      "outputs": []
    },
    {
      "cell_type": "markdown",
      "metadata": {
        "id": "Q96vzZn4_nlW"
      },
      "source": [
        "# 10. Fibonacci"
      ]
    },
    {
      "cell_type": "code",
      "metadata": {
        "colab": {
          "base_uri": "https://localhost:8080/"
        },
        "id": "ji0EP763_mLP",
        "outputId": "b98abe66-cb94-483e-e531-9a3910deda0b"
      },
      "source": [
        "fib = lambda x: x if x<=1 else fib(x-1) + fib(x-2)\n",
        "\n",
        "print(fib(20))\n",
        "# 6765"
      ],
      "execution_count": 10,
      "outputs": [
        {
          "output_type": "stream",
          "name": "stdout",
          "text": [
            "6765\n"
          ]
        }
      ]
    },
    {
      "cell_type": "markdown",
      "metadata": {
        "id": "lsz0JHKt_pck"
      },
      "source": [
        "# 11. Combine Nested Lists into One List"
      ]
    },
    {
      "cell_type": "code",
      "metadata": {
        "colab": {
          "base_uri": "https://localhost:8080/"
        },
        "id": "pAqqttHe_ovC",
        "outputId": "980e85bd-72b0-44ad-bd78-1b3029c78c7e"
      },
      "source": [
        "main_list = [[0, 1, 2], [11, 12, 13], [52, 53, 54]]\n",
        "\n",
        "result = [item for sublist in main_list for item in sublist]\n",
        "print(result)"
      ],
      "execution_count": 11,
      "outputs": [
        {
          "output_type": "stream",
          "name": "stdout",
          "text": [
            "[0, 1, 2, 11, 12, 13, 52, 53, 54]\n"
          ]
        }
      ]
    },
    {
      "cell_type": "markdown",
      "metadata": {
        "id": "3jXghz8p_rbw"
      },
      "source": [
        "# 12. Run an HTTP Server"
      ]
    },
    {
      "cell_type": "code",
      "metadata": {
        "id": "JfEKlD4W_qhm"
      },
      "source": [
        "python3 -m http.server 8000\n",
        "python2 -m SimpleHTTPServer"
      ],
      "execution_count": 12,
      "outputs": []
    },
    {
      "cell_type": "markdown",
      "metadata": {
        "id": "n6Sb4nK-_tcq"
      },
      "source": [
        "# 13. Reverse a List"
      ]
    },
    {
      "cell_type": "code",
      "metadata": {
        "colab": {
          "base_uri": "https://localhost:8080/"
        },
        "id": "1S8rpCuc_sZr",
        "outputId": "fb246932-69dd-4171-98ff-60ffb8077365"
      },
      "source": [
        "numbers = [0, 1, 2, 11, 12, 13, 52, 53, 54]\n",
        "\n",
        "print(numbers[::-1])"
      ],
      "execution_count": 13,
      "outputs": [
        {
          "output_type": "stream",
          "name": "stdout",
          "text": [
            "[54, 53, 52, 13, 12, 11, 2, 1, 0]\n"
          ]
        }
      ]
    },
    {
      "cell_type": "markdown",
      "metadata": {
        "id": "RjF0lask_vXU"
      },
      "source": [
        "# 14. Factorial"
      ]
    },
    {
      "cell_type": "code",
      "metadata": {
        "colab": {
          "base_uri": "https://localhost:8080/"
        },
        "id": "8QSPHMlD_uc6",
        "outputId": "880a3832-8a12-46d5-9384-a9d8e2bd1022"
      },
      "source": [
        "import math\n",
        "\n",
        "fact_5 = math.factorial(5)\n",
        "print(fact_5)"
      ],
      "execution_count": 14,
      "outputs": [
        {
          "output_type": "stream",
          "name": "stdout",
          "text": [
            "120\n"
          ]
        }
      ]
    },
    {
      "cell_type": "markdown",
      "metadata": {
        "id": "nb8ij5Hc_xdy"
      },
      "source": [
        "# 15. Use for and if in List Comprehensions"
      ]
    },
    {
      "cell_type": "code",
      "metadata": {
        "colab": {
          "base_uri": "https://localhost:8080/"
        },
        "id": "IkABkDo-_wos",
        "outputId": "fc6aecdc-a8f1-4c1a-a153-9797df9ff23a"
      },
      "source": [
        "even_list = [number for number in [1, 2, 3, 4] if number % 2 == 0]\n",
        "\n",
        "print(even_list)"
      ],
      "execution_count": 15,
      "outputs": [
        {
          "output_type": "stream",
          "name": "stdout",
          "text": [
            "[2, 4]\n"
          ]
        }
      ]
    },
    {
      "cell_type": "markdown",
      "metadata": {
        "id": "6KPfenaS_y1q"
      },
      "source": [
        "# 16. The Longest String in List"
      ]
    },
    {
      "cell_type": "code",
      "metadata": {
        "colab": {
          "base_uri": "https://localhost:8080/"
        },
        "id": "exhoxHRx_yS-",
        "outputId": "0186e39e-2117-48be-d1bb-b0697e6f7c7c"
      },
      "source": [
        "words = ['This', 'is', 'a', 'list', 'of', 'words']\n",
        "\n",
        "result = max(words, key=len)\n",
        "print(result)"
      ],
      "execution_count": 16,
      "outputs": [
        {
          "output_type": "stream",
          "name": "stdout",
          "text": [
            "words\n"
          ]
        }
      ]
    },
    {
      "cell_type": "markdown",
      "metadata": {
        "id": "H_FIKYDI_0iD"
      },
      "source": [
        "# 17. List Comprehension"
      ]
    },
    {
      "cell_type": "code",
      "metadata": {
        "colab": {
          "base_uri": "https://localhost:8080/"
        },
        "id": "k-Rm9wTQ_z3C",
        "outputId": "9a894d14-bef6-4113-fe6c-4944e946963d"
      },
      "source": [
        "li = [num for num in range(0, 10)]\n",
        "\n",
        "print(li)"
      ],
      "execution_count": 17,
      "outputs": [
        {
          "output_type": "stream",
          "name": "stdout",
          "text": [
            "[0, 1, 2, 3, 4, 5, 6, 7, 8, 9]\n"
          ]
        }
      ]
    },
    {
      "cell_type": "markdown",
      "metadata": {
        "id": "CFbpWM8o_3iy"
      },
      "source": [
        "# 18. Set Comprehension"
      ]
    },
    {
      "cell_type": "code",
      "metadata": {
        "colab": {
          "base_uri": "https://localhost:8080/"
        },
        "id": "8T2IXcgd_2rM",
        "outputId": "ab17ea68-709e-4f24-c077-b3a40bba87a7"
      },
      "source": [
        "num_set = {num for num in range(0, 10)}\n",
        "\n",
        "print(num_set)"
      ],
      "execution_count": 18,
      "outputs": [
        {
          "output_type": "stream",
          "name": "stdout",
          "text": [
            "{0, 1, 2, 3, 4, 5, 6, 7, 8, 9}\n"
          ]
        }
      ]
    },
    {
      "cell_type": "markdown",
      "metadata": {
        "id": "jgxcYdle_5JL"
      },
      "source": [
        "# 19. Dict Comprehension"
      ]
    },
    {
      "cell_type": "code",
      "metadata": {
        "colab": {
          "base_uri": "https://localhost:8080/"
        },
        "id": "bJ88Zg3A_4cG",
        "outputId": "a74d2ef3-c92c-40c5-85f2-ab573433da45"
      },
      "source": [
        "dict_numbers = {x: x*x for x in range(1, 5)}\n",
        "\n",
        "print(dict_numbers)"
      ],
      "execution_count": 19,
      "outputs": [
        {
          "output_type": "stream",
          "name": "stdout",
          "text": [
            "{1: 1, 2: 4, 3: 9, 4: 16}\n"
          ]
        }
      ]
    },
    {
      "cell_type": "markdown",
      "metadata": {
        "id": "EOhK6CgM_7hV"
      },
      "source": [
        "# 21. Print with if and else"
      ]
    },
    {
      "cell_type": "code",
      "metadata": {
        "colab": {
          "base_uri": "https://localhost:8080/"
        },
        "id": "MK2gGiDX_61V",
        "outputId": "181a01a5-56ca-4789-c83d-bd31e69bd5e1"
      },
      "source": [
        "print(\"even\") if 4 % 2==0 else print(\"odd\")"
      ],
      "execution_count": 20,
      "outputs": [
        {
          "output_type": "stream",
          "name": "stdout",
          "text": [
            "even\n"
          ]
        }
      ]
    },
    {
      "cell_type": "markdown",
      "metadata": {
        "id": "S21XLbjI_-HI"
      },
      "source": [
        "# 22. Infinite Loop"
      ]
    },
    {
      "cell_type": "code",
      "metadata": {
        "id": "WKip_kZs_9VN"
      },
      "source": [
        "while 1:0"
      ],
      "execution_count": 22,
      "outputs": []
    },
    {
      "cell_type": "markdown",
      "metadata": {
        "id": "f0tth2nlABM2"
      },
      "source": [
        "# 23. Check Data Type"
      ]
    },
    {
      "cell_type": "code",
      "metadata": {
        "colab": {
          "base_uri": "https://localhost:8080/"
        },
        "id": "BzoNxz3j__FG",
        "outputId": "3ae34b23-edcb-4d68-b628-3df367d5841e"
      },
      "source": [
        "print(isinstance(2, int))\n",
        "# True\n",
        "\n",
        "print(isinstance(\"allwin\", str))\n",
        "# True\n",
        "\n",
        "print(isinstance([3, 4, 1997], list))\n",
        "# True"
      ],
      "execution_count": 23,
      "outputs": [
        {
          "output_type": "stream",
          "name": "stdout",
          "text": [
            "True\n",
            "True\n",
            "True\n"
          ]
        }
      ]
    },
    {
      "cell_type": "markdown",
      "metadata": {
        "id": "aiz4L05iADfO"
      },
      "source": [
        "# 24. Print to File"
      ]
    },
    {
      "cell_type": "code",
      "metadata": {
        "id": "i-TIOGCTACr8"
      },
      "source": [
        "print(\"Hello, World!\", file=open('file.txt', 'w'))"
      ],
      "execution_count": 24,
      "outputs": []
    },
    {
      "cell_type": "markdown",
      "metadata": {
        "id": "cO3Nz2QEAFcd"
      },
      "source": [
        "# 25. Frequency of a Character in a String"
      ]
    },
    {
      "cell_type": "code",
      "metadata": {
        "colab": {
          "base_uri": "https://localhost:8080/"
        },
        "id": "B8HdwMSjAEf1",
        "outputId": "3257a4e2-5404-475e-d023-505bb5e8d9a2"
      },
      "source": [
        "print(\"umbrella\".count('l'))"
      ],
      "execution_count": 25,
      "outputs": [
        {
          "output_type": "stream",
          "name": "stdout",
          "text": [
            "2\n"
          ]
        }
      ]
    }
  ]
}