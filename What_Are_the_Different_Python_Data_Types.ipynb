{
  "nbformat": 4,
  "nbformat_minor": 0,
  "metadata": {
    "colab": {
      "provenance": [],
      "authorship_tag": "ABX9TyO9eXULfOGRCzsvRDXrg97A"
    },
    "kernelspec": {
      "name": "python3",
      "display_name": "Python 3"
    },
    "language_info": {
      "name": "python"
    }
  },
  "cells": [
    {
      "cell_type": "markdown",
      "source": [
        "[Reference](https://erickleppen.medium.com/what-are-the-different-python-data-types-475ebaf72384)"
      ],
      "metadata": {
        "id": "UkFKYPhudt5-"
      }
    },
    {
      "cell_type": "code",
      "execution_count": 3,
      "metadata": {
        "colab": {
          "base_uri": "https://localhost:8080/"
        },
        "id": "ktKaQp9cdJjf",
        "outputId": "bdb06c82-c959-4cc6-b1aa-fcfdb5ad00cc"
      },
      "outputs": [
        {
          "output_type": "stream",
          "name": "stdout",
          "text": [
            "<class 'bool'>\n",
            "<class 'bool'>\n"
          ]
        }
      ],
      "source": [
        "#Examples of Boolean data type. Boolean is either True or False.\n",
        "print(type(True))\n",
        "print(type(False))"
      ]
    },
    {
      "cell_type": "code",
      "source": [
        "#Boolean data type can return when evaluating an expression too.\n",
        "var_bool = 4==4\n",
        "print(type(var_bool))"
      ],
      "metadata": {
        "colab": {
          "base_uri": "https://localhost:8080/"
        },
        "id": "pQKH3jitdhWQ",
        "outputId": "063a2acd-43c3-45ab-b4ae-64cb95614e08"
      },
      "execution_count": 4,
      "outputs": [
        {
          "output_type": "stream",
          "name": "stdout",
          "text": [
            "<class 'bool'>\n"
          ]
        }
      ]
    },
    {
      "cell_type": "code",
      "source": [
        "#Examples of the Integer Data type.\n",
        "print(type(2))"
      ],
      "metadata": {
        "colab": {
          "base_uri": "https://localhost:8080/"
        },
        "id": "qn1ATkjediUC",
        "outputId": "96abb12d-9c92-48c8-9c2f-841737f7e733"
      },
      "execution_count": 5,
      "outputs": [
        {
          "output_type": "stream",
          "name": "stdout",
          "text": [
            "<class 'int'>\n"
          ]
        }
      ]
    },
    {
      "cell_type": "code",
      "source": [
        "#int values can be very long.\n",
        "print(type(648165234234234234363466184))#int values can be assigned to variables\n",
        "var = 5489\n",
        "print(type(var))"
      ],
      "metadata": {
        "colab": {
          "base_uri": "https://localhost:8080/"
        },
        "id": "AJHHFRMLdjYH",
        "outputId": "2d4fad3b-4727-4cba-e478-f92c91013d25"
      },
      "execution_count": 6,
      "outputs": [
        {
          "output_type": "stream",
          "name": "stdout",
          "text": [
            "<class 'int'>\n",
            "<class 'int'>\n"
          ]
        }
      ]
    },
    {
      "cell_type": "code",
      "source": [
        "#Examples of the Float Data type.\n",
        "print(type(2.58))"
      ],
      "metadata": {
        "colab": {
          "base_uri": "https://localhost:8080/"
        },
        "id": "b-6PzbrEdzcP",
        "outputId": "163956c5-c367-4f02-f1bd-af7623ac06b3"
      },
      "execution_count": 7,
      "outputs": [
        {
          "output_type": "stream",
          "name": "stdout",
          "text": [
            "<class 'float'>\n"
          ]
        }
      ]
    },
    {
      "cell_type": "code",
      "source": [
        "#float values can use e for scientific notation.\n",
        "var_float = 578.34e10\n",
        "print(type(var_float))"
      ],
      "metadata": {
        "colab": {
          "base_uri": "https://localhost:8080/"
        },
        "id": "FuKNzwV-d0V8",
        "outputId": "1c6e9dc4-e6c1-48e1-b7d3-7cdeeceee477"
      },
      "execution_count": 8,
      "outputs": [
        {
          "output_type": "stream",
          "name": "stdout",
          "text": [
            "<class 'float'>\n"
          ]
        }
      ]
    },
    {
      "cell_type": "code",
      "source": [
        "#Examples of the complex Data type.\n",
        "print(type(4j))"
      ],
      "metadata": {
        "colab": {
          "base_uri": "https://localhost:8080/"
        },
        "id": "5WqdpPkkd1Cd",
        "outputId": "41e60c44-829c-4959-9fbc-dd84d92cd8ae"
      },
      "execution_count": 9,
      "outputs": [
        {
          "output_type": "stream",
          "name": "stdout",
          "text": [
            "<class 'complex'>\n"
          ]
        }
      ]
    },
    {
      "cell_type": "code",
      "source": [
        "#float values can also be used in complex numeric data types\n",
        "var_complex = 45 + 5.5j\n",
        "print(type(var_complex))"
      ],
      "metadata": {
        "colab": {
          "base_uri": "https://localhost:8080/"
        },
        "id": "jaPGWjj1d1pO",
        "outputId": "1fbb9f39-32d8-4bf4-92d5-e50bd3841c6e"
      },
      "execution_count": 10,
      "outputs": [
        {
          "output_type": "stream",
          "name": "stdout",
          "text": [
            "<class 'complex'>\n"
          ]
        }
      ]
    },
    {
      "cell_type": "code",
      "source": [
        "#Example of string (str) data types. \n",
        "print(type('single quotes'))\n",
        "print(type(\"double quotes\"))\n",
        "print(type('''triple quotes'''))"
      ],
      "metadata": {
        "colab": {
          "base_uri": "https://localhost:8080/"
        },
        "id": "3LaJvAHed2VU",
        "outputId": "f845e716-02da-4dc2-c249-f5b08278dec5"
      },
      "execution_count": 11,
      "outputs": [
        {
          "output_type": "stream",
          "name": "stdout",
          "text": [
            "<class 'str'>\n",
            "<class 'str'>\n",
            "<class 'str'>\n"
          ]
        }
      ]
    },
    {
      "cell_type": "code",
      "source": [
        "string = 'CareerFoundry.com rocks!'"
      ],
      "metadata": {
        "id": "y5nwVNXNd3cv"
      },
      "execution_count": 12,
      "outputs": []
    },
    {
      "cell_type": "code",
      "source": [
        "#this will return the 3rd character in a string.\n",
        "print(string[2])#A range of values can be returned. This is called a substring.\n",
        "print(string[0:6])#Negative numbers can be used to return the end of the string first. \n",
        "#-1 would return the last character in the string\n",
        "print(string[-1])#You can even print a string in reverse!\n",
        "print(string[::-1])"
      ],
      "metadata": {
        "colab": {
          "base_uri": "https://localhost:8080/"
        },
        "id": "TQARqTyzd4Vb",
        "outputId": "7caeab5b-3bd7-4acb-daa0-6bfd6e2cb0e1"
      },
      "execution_count": 13,
      "outputs": [
        {
          "output_type": "stream",
          "name": "stdout",
          "text": [
            "r\n",
            "Career\n",
            "!\n",
            "!skcor moc.yrdnuoFreeraC\n"
          ]
        }
      ]
    },
    {
      "cell_type": "code",
      "source": [
        "#Example of Python data type list\n",
        "print(type([1,3,'g', 5, 'z']))"
      ],
      "metadata": {
        "colab": {
          "base_uri": "https://localhost:8080/"
        },
        "id": "MzDFbgN1d442",
        "outputId": "2d039d2a-2e40-4708-a71d-2df12ceea751"
      },
      "execution_count": 14,
      "outputs": [
        {
          "output_type": "stream",
          "name": "stdout",
          "text": [
            "<class 'list'>\n"
          ]
        }
      ]
    },
    {
      "cell_type": "code",
      "source": [
        "#you can have lists within lists!\n",
        "print(type(['a', 'b', 3, [123, 9, 2], 'y']))"
      ],
      "metadata": {
        "colab": {
          "base_uri": "https://localhost:8080/"
        },
        "id": "mRyQ95vid6_5",
        "outputId": "960e560e-6c29-499a-a5ad-0c0c790b19cb"
      },
      "execution_count": 15,
      "outputs": [
        {
          "output_type": "stream",
          "name": "stdout",
          "text": [
            "<class 'list'>\n"
          ]
        }
      ]
    },
    {
      "cell_type": "code",
      "source": [
        "#lists have indexes\n",
        "var_list = ['a', 'b', 3, [123, 9, 2], 'y']\n",
        "print(var_list[0])"
      ],
      "metadata": {
        "colab": {
          "base_uri": "https://localhost:8080/"
        },
        "id": "-FaH_rNed9Ad",
        "outputId": "12603ebe-f797-4049-f899-2ab98c64bddf"
      },
      "execution_count": 16,
      "outputs": [
        {
          "output_type": "stream",
          "name": "stdout",
          "text": [
            "a\n"
          ]
        }
      ]
    },
    {
      "cell_type": "code",
      "source": [
        "#The sublist index can be accessed with an additional []\n",
        "print(var_list[3][1])"
      ],
      "metadata": {
        "colab": {
          "base_uri": "https://localhost:8080/"
        },
        "id": "hROC2fcad9py",
        "outputId": "47d5a143-cf13-4ec0-91f9-c49fd699c8f7"
      },
      "execution_count": 17,
      "outputs": [
        {
          "output_type": "stream",
          "name": "stdout",
          "text": [
            "9\n"
          ]
        }
      ]
    },
    {
      "cell_type": "code",
      "source": [
        "#Example of Python data type tuple\n",
        "print(type((1,3,'g', 5, 'z')))"
      ],
      "metadata": {
        "colab": {
          "base_uri": "https://localhost:8080/"
        },
        "id": "zH6VUgs6d-cf",
        "outputId": "753d69df-b856-4ee5-f625-e321c24ba34c"
      },
      "execution_count": 18,
      "outputs": [
        {
          "output_type": "stream",
          "name": "stdout",
          "text": [
            "<class 'tuple'>\n"
          ]
        }
      ]
    },
    {
      "cell_type": "code",
      "source": [
        "#You can have tuples within tuples!\n",
        "print(type(('a', 'b', 3, (123, 9, 2), 'y')))"
      ],
      "metadata": {
        "colab": {
          "base_uri": "https://localhost:8080/"
        },
        "id": "4v5nfmdCd_IS",
        "outputId": "7cfbb7e3-de77-4925-b368-decaacf9874e"
      },
      "execution_count": 19,
      "outputs": [
        {
          "output_type": "stream",
          "name": "stdout",
          "text": [
            "<class 'tuple'>\n"
          ]
        }
      ]
    },
    {
      "cell_type": "code",
      "source": [
        "#Example of Python data type set\n",
        "var_set_list = [1,1,2,3,4,4,5,'a','a','b','c']\n",
        "var_set = set(var_set_list)"
      ],
      "metadata": {
        "id": "jTvYDePweAMN"
      },
      "execution_count": 20,
      "outputs": []
    },
    {
      "cell_type": "code",
      "source": [
        "print(type(var_set))"
      ],
      "metadata": {
        "colab": {
          "base_uri": "https://localhost:8080/"
        },
        "id": "GcMVuOeXeBHU",
        "outputId": "4b5707f7-1df2-447f-e315-4651c1f1617b"
      },
      "execution_count": 21,
      "outputs": [
        {
          "output_type": "stream",
          "name": "stdout",
          "text": [
            "<class 'set'>\n"
          ]
        }
      ]
    },
    {
      "cell_type": "code",
      "source": [
        "print(var_set)"
      ],
      "metadata": {
        "colab": {
          "base_uri": "https://localhost:8080/"
        },
        "id": "hFqNQRgPeBsL",
        "outputId": "023c84a9-2b97-4117-d6eb-145b4bf87de4"
      },
      "execution_count": 22,
      "outputs": [
        {
          "output_type": "stream",
          "name": "stdout",
          "text": [
            "{1, 2, 3, 4, 5, 'c', 'b', 'a'}\n"
          ]
        }
      ]
    },
    {
      "cell_type": "code",
      "source": [
        "#Example of Python data type dictionary\n",
        "var_dictionary = {'person1':'Eric', 'person2':'Kristen'}"
      ],
      "metadata": {
        "id": "QsGBrVLSeCuK"
      },
      "execution_count": 23,
      "outputs": []
    },
    {
      "cell_type": "code",
      "source": [
        "print(type(var_dictionary))"
      ],
      "metadata": {
        "colab": {
          "base_uri": "https://localhost:8080/"
        },
        "id": "_EWxUmtAeDvv",
        "outputId": "dc3d9ec2-57a5-4658-b360-f5c64ceb0d00"
      },
      "execution_count": 24,
      "outputs": [
        {
          "output_type": "stream",
          "name": "stdout",
          "text": [
            "<class 'dict'>\n"
          ]
        }
      ]
    },
    {
      "cell_type": "code",
      "source": [
        "print(var_dictionary.keys())"
      ],
      "metadata": {
        "colab": {
          "base_uri": "https://localhost:8080/"
        },
        "id": "Foc2rZfMeEdi",
        "outputId": "75eeac62-5788-493d-85eb-478116367df9"
      },
      "execution_count": 25,
      "outputs": [
        {
          "output_type": "stream",
          "name": "stdout",
          "text": [
            "dict_keys(['person1', 'person2'])\n"
          ]
        }
      ]
    },
    {
      "cell_type": "code",
      "source": [
        "print(var_dictionary.values())"
      ],
      "metadata": {
        "colab": {
          "base_uri": "https://localhost:8080/"
        },
        "id": "CkxDS6JgeFYd",
        "outputId": "60950f8e-23bc-4836-9e45-59ec80116260"
      },
      "execution_count": 26,
      "outputs": [
        {
          "output_type": "stream",
          "name": "stdout",
          "text": [
            "dict_values(['Eric', 'Kristen'])\n"
          ]
        }
      ]
    },
    {
      "cell_type": "code",
      "source": [
        "print(var_dictionary['person1'])"
      ],
      "metadata": {
        "id": "nF8OrkxleGBp",
        "outputId": "e07f5f89-638a-4a41-c9ed-4e82f26a5814",
        "colab": {
          "base_uri": "https://localhost:8080/"
        }
      },
      "execution_count": 27,
      "outputs": [
        {
          "output_type": "stream",
          "name": "stdout",
          "text": [
            "Eric\n"
          ]
        }
      ]
    }
  ]
}