{
  "nbformat": 4,
  "nbformat_minor": 0,
  "metadata": {
    "colab": {
      "name": "Modeling UEFA Euro 2020.ipynb",
      "provenance": [],
      "authorship_tag": "ABX9TyMsM2Tjhb6T1r6vc4PUnvis"
    },
    "kernelspec": {
      "name": "python3",
      "display_name": "Python 3"
    },
    "language_info": {
      "name": "python"
    }
  },
  "cells": [
    {
      "cell_type": "markdown",
      "metadata": {
        "id": "2OzozBz-0_zW"
      },
      "source": [
        "[Reference](https://medium.com/pragmatic-programmers/modeling-uefa-euro-2020-4b0b80a3df3b)"
      ]
    },
    {
      "cell_type": "code",
      "metadata": {
        "id": "VB2LqOYd0-Ba"
      },
      "source": [
        "import random as rnd\n",
        "class Team:\n",
        "    LUCK = 0.0    \n",
        "    \n",
        "    def __init__(self, name, strength = None):\n",
        "        self.name = name\n",
        "        self.strength = strength if strength else rnd.uniform(0,1)"
      ],
      "execution_count": 2,
      "outputs": []
    },
    {
      "cell_type": "code",
      "metadata": {
        "colab": {
          "base_uri": "https://localhost:8080/"
        },
        "id": "Sfh-zbpS1DA0",
        "outputId": "159aa025-60f2-46ba-d461-5d7163101c15"
      },
      "source": [
        "t = Team(\"Hungary\")\n",
        "t"
      ],
      "execution_count": 3,
      "outputs": [
        {
          "output_type": "execute_result",
          "data": {
            "text/plain": [
              "<__main__.Team at 0x7f03fbb62b50>"
            ]
          },
          "metadata": {
            "tags": []
          },
          "execution_count": 3
        }
      ]
    },
    {
      "cell_type": "code",
      "metadata": {
        "id": "OkZQETX_1Ga7"
      },
      "source": [
        "class Team:\n",
        "    LUCK = 0.0    \n",
        "    \n",
        "    def __init__(self, name, strength = None):\n",
        "        self.name = name\n",
        "        self.strength = strength if strength else rnd.uniform(0,1)\n",
        "    def __str__(self):\n",
        "        return self.name\n",
        "    def __repr__(self):\n",
        "        return self.name"
      ],
      "execution_count": 4,
      "outputs": []
    },
    {
      "cell_type": "code",
      "metadata": {
        "colab": {
          "base_uri": "https://localhost:8080/"
        },
        "id": "2rjrAlCg1LH-",
        "outputId": "e91654e1-be30-4e91-91b7-a3526a051aed"
      },
      "source": [
        "t = Team(\"Hungary\")\n",
        "t"
      ],
      "execution_count": 5,
      "outputs": [
        {
          "output_type": "execute_result",
          "data": {
            "text/plain": [
              "Hungary"
            ]
          },
          "metadata": {
            "tags": []
          },
          "execution_count": 5
        }
      ]
    },
    {
      "cell_type": "code",
      "metadata": {
        "id": "71hqgZNX1Mfa"
      },
      "source": [
        "class Team:\n",
        "    LUCK = 0.0    \n",
        "    \n",
        "    def __init__(self, name, strength = None):\n",
        "        self.name = name\n",
        "        self.strength = strength if strength else rnd.uniform(0,1)\n",
        "    def __str__(self):\n",
        "        return self.name\n",
        "    def __repr__(self):\n",
        "        return self.name\n",
        "    def __lt__(self, t):\n",
        "        return self.strength < t.strength + rnd.gauss(0, Team.LUCK)"
      ],
      "execution_count": 6,
      "outputs": []
    },
    {
      "cell_type": "code",
      "metadata": {
        "id": "fSG1vBxg1QFW"
      },
      "source": [
        "teams_data = [[(\"Italy\", 7), (\"Wales\", 17), (\"Switzerland\", 13), (\"Turkey\", 29)], [(\"Belgium\", 1), (\"Denmark\", 10), (\"Finland\", 54), (\"Russia\", 38)], [(\"Netherlands\", 16), (\"Austria\", 23), (\"Ukraine\", 24), (\"North Macedonia\", 62)], [(\"England\", 4), (\"Croatia\", 14), (\"Czech Republic\", 40), (\"Scotland\", 44)], [(\"Sweden\", 18), (\"Spain\", 6), (\"Slovakia\", 36), (\"Poland\", 21)], [(\"France\", 2), (\"Germany\", 12), (\"Portugal\", 5), (\"Hungary\", 37)]]"
      ],
      "execution_count": 7,
      "outputs": []
    },
    {
      "cell_type": "code",
      "metadata": {
        "id": "gbzjOMVh1R1q"
      },
      "source": [
        "ratings = sum([[rating for _,rating in group_data] \n",
        "               for group_data in teams_data], [])\n",
        "smallest = min(ratings)\n",
        "largest = max(ratings)\n",
        "teams = [[Team(name, 1 - (rating - smallest) / (largest - smallest))\n",
        "         for name,rating in group_data] for group_data in teams_data]"
      ],
      "execution_count": 8,
      "outputs": []
    },
    {
      "cell_type": "code",
      "metadata": {
        "id": "bejwtmkr1UC5"
      },
      "source": [
        "after_groups = [sorted(group, reverse=True) for group in teams]\n",
        "third_placers = sorted([g[2] for g in after_groups], reverse=True)[:4]\n",
        "winners = sum([g[:2] for g in after_groups], [])\n",
        "teams16 = winners + third_placers"
      ],
      "execution_count": 9,
      "outputs": []
    },
    {
      "cell_type": "code",
      "metadata": {
        "id": "97LVwxDR1VA4"
      },
      "source": [
        "rnd.shuffle(teams16)\n",
        "pairs16 = zip(teams16[::2], teams16[1::2])"
      ],
      "execution_count": 10,
      "outputs": []
    },
    {
      "cell_type": "code",
      "metadata": {
        "id": "hfe25H9T1WHR"
      },
      "source": [
        "teams8 = [sorted(g, reverse=True)[0] for g in pairs16]\n",
        "pairs8 = zip(teams8[::2], teams8[1::2])\n",
        "teams4 = [sorted(g, reverse=True)[0] for g in pairs8]\n",
        "pairs4 = zip(teams4[::2], teams4[1::2])"
      ],
      "execution_count": 11,
      "outputs": []
    },
    {
      "cell_type": "code",
      "metadata": {
        "id": "GcSVdSej1XGF"
      },
      "source": [
        "teams2 = [sorted(g, reverse=True) for g in pairs4]\n",
        "first, second = sorted([teams2[0][0], teams2[1][0]], reverse=True)\n",
        "third, _      = sorted([teams2[0][1], teams2[1][1]], reverse=True)"
      ],
      "execution_count": 12,
      "outputs": []
    },
    {
      "cell_type": "code",
      "metadata": {
        "colab": {
          "base_uri": "https://localhost:8080/"
        },
        "id": "qQz0_xtq1X-H",
        "outputId": "5785b721-169b-4d90-9cb6-a976d75f6075"
      },
      "source": [
        "_"
      ],
      "execution_count": 13,
      "outputs": [
        {
          "output_type": "execute_result",
          "data": {
            "text/plain": [
              "Denmark"
            ]
          },
          "metadata": {
            "tags": []
          },
          "execution_count": 13
        }
      ]
    },
    {
      "cell_type": "code",
      "metadata": {
        "colab": {
          "base_uri": "https://localhost:8080/"
        },
        "id": "RKwOSZZG1Zu-",
        "outputId": "0a836fd1-63a7-415a-bef2-d7e7b2e200a5"
      },
      "source": [
        "first"
      ],
      "execution_count": 14,
      "outputs": [
        {
          "output_type": "execute_result",
          "data": {
            "text/plain": [
              "Belgium"
            ]
          },
          "metadata": {
            "tags": []
          },
          "execution_count": 14
        }
      ]
    },
    {
      "cell_type": "code",
      "metadata": {
        "colab": {
          "base_uri": "https://localhost:8080/"
        },
        "id": "DG4IFpzK1axc",
        "outputId": "1604681f-3896-40a8-f692-cfb8f239f6d1"
      },
      "source": [
        "second"
      ],
      "execution_count": 15,
      "outputs": [
        {
          "output_type": "execute_result",
          "data": {
            "text/plain": [
              "France"
            ]
          },
          "metadata": {
            "tags": []
          },
          "execution_count": 15
        }
      ]
    },
    {
      "cell_type": "code",
      "metadata": {
        "colab": {
          "base_uri": "https://localhost:8080/"
        },
        "id": "TUVKJTV31bky",
        "outputId": "8abb504f-ce2b-4214-b5d4-ed782ee13a9a"
      },
      "source": [
        "third"
      ],
      "execution_count": 16,
      "outputs": [
        {
          "output_type": "execute_result",
          "data": {
            "text/plain": [
              "England"
            ]
          },
          "metadata": {
            "tags": []
          },
          "execution_count": 16
        }
      ]
    }
  ]
}