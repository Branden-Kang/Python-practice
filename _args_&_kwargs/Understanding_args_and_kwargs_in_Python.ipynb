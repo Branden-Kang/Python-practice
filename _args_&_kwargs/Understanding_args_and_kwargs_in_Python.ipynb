{
  "nbformat": 4,
  "nbformat_minor": 0,
  "metadata": {
    "colab": {
      "name": "Understanding *args and **kwargs in Python.ipynb",
      "provenance": [],
      "authorship_tag": "ABX9TyMDyRqGiDBuoOAgRJFj871g"
    },
    "kernelspec": {
      "name": "python3",
      "display_name": "Python 3"
    },
    "language_info": {
      "name": "python"
    }
  },
  "cells": [
    {
      "cell_type": "markdown",
      "metadata": {
        "id": "4qw02bcolU44"
      },
      "source": [
        "[Reference](https://towardsdatascience.com/understanding-args-and-kwargs-in-python-321937f49c5b)"
      ]
    },
    {
      "cell_type": "code",
      "metadata": {
        "id": "pshYXbrplRKP"
      },
      "source": [
        "def do_something(num1, num2, *args):\n",
        "    print(num1)\n",
        "    print(num2)"
      ],
      "execution_count": 1,
      "outputs": []
    },
    {
      "cell_type": "code",
      "metadata": {
        "colab": {
          "base_uri": "https://localhost:8080/"
        },
        "id": "lgd_jBGrlXVf",
        "outputId": "30b48fd4-5f84-4d4d-cb0a-ecc767375018"
      },
      "source": [
        "do_something(5,6)"
      ],
      "execution_count": 2,
      "outputs": [
        {
          "output_type": "stream",
          "text": [
            "5\n",
            "6\n"
          ],
          "name": "stdout"
        }
      ]
    },
    {
      "cell_type": "code",
      "metadata": {
        "colab": {
          "base_uri": "https://localhost:8080/"
        },
        "id": "8F_69A6AlYqT",
        "outputId": "1245d588-f1fa-4622-ab17-789bac50ecfd"
      },
      "source": [
        "do_something(5,6,7,8,9)"
      ],
      "execution_count": 3,
      "outputs": [
        {
          "output_type": "stream",
          "text": [
            "5\n",
            "6\n"
          ],
          "name": "stdout"
        }
      ]
    },
    {
      "cell_type": "code",
      "metadata": {
        "id": "zfvFliCylZl-"
      },
      "source": [
        "def do_something(num1, num2, *args, **kwargs):\n",
        "    print(num1)\n",
        "    print(num2)\n",
        "    for arg in args:\n",
        "        print(arg)"
      ],
      "execution_count": 4,
      "outputs": []
    },
    {
      "cell_type": "code",
      "metadata": {
        "colab": {
          "base_uri": "https://localhost:8080/"
        },
        "id": "qwySdNG9laxR",
        "outputId": "141b0d56-90c2-482c-f5bb-4e2812156bab"
      },
      "source": [
        "do_something(5,6,7)\n",
        "do_something(5,6,7,8)\n",
        "do_something(5,6,7,8,9)\n",
        "do_something(5,6,7,8,9,True)\n",
        "do_something(5,6,7,8,9,True,3.14)"
      ],
      "execution_count": 5,
      "outputs": [
        {
          "output_type": "stream",
          "text": [
            "5\n",
            "6\n",
            "7\n",
            "5\n",
            "6\n",
            "7\n",
            "8\n",
            "5\n",
            "6\n",
            "7\n",
            "8\n",
            "9\n",
            "5\n",
            "6\n",
            "7\n",
            "8\n",
            "9\n",
            "True\n",
            "5\n",
            "6\n",
            "7\n",
            "8\n",
            "9\n",
            "True\n",
            "3.14\n"
          ],
          "name": "stdout"
        }
      ]
    },
    {
      "cell_type": "code",
      "metadata": {
        "colab": {
          "base_uri": "https://localhost:8080/"
        },
        "id": "MPnauT-XlcFf",
        "outputId": "5baa5e21-f808-4f54-9dc3-dc53cb8b5969"
      },
      "source": [
        "def average(*args):\n",
        "    return sum(args) / len(args)\n",
        "    \n",
        "print(average(1,2))            # 1.5\n",
        "print(average(1,2,3))          # 2.0\n",
        "print(average(1,2,3,4,5))      # 3.0\n",
        "print(average(1,2,3,4,5, 6.1)) # 3.516666666666667"
      ],
      "execution_count": 7,
      "outputs": [
        {
          "output_type": "stream",
          "text": [
            "1.5\n",
            "2.0\n",
            "3.0\n",
            "3.516666666666667\n"
          ],
          "name": "stdout"
        }
      ]
    },
    {
      "cell_type": "code",
      "metadata": {
        "colab": {
          "base_uri": "https://localhost:8080/"
        },
        "id": "9sWk904KldXu",
        "outputId": "c30cd0e5-7a51-42d0-9ce6-5fc207f219de"
      },
      "source": [
        "do_something(5,6,7,8,9)"
      ],
      "execution_count": 8,
      "outputs": [
        {
          "output_type": "stream",
          "text": [
            "5\n",
            "6\n",
            "7\n",
            "8\n",
            "9\n"
          ],
          "name": "stdout"
        }
      ]
    },
    {
      "cell_type": "code",
      "metadata": {
        "id": "8d3dCoxNlfJu"
      },
      "source": [
        "values = (7,8,9)   # tuple"
      ],
      "execution_count": 9,
      "outputs": []
    },
    {
      "cell_type": "code",
      "metadata": {
        "colab": {
          "base_uri": "https://localhost:8080/"
        },
        "id": "tOkZMM_Wlf7g",
        "outputId": "8562ab93-01f7-4afa-9489-1c88d788821f"
      },
      "source": [
        "do_something(5,6,*values)"
      ],
      "execution_count": 10,
      "outputs": [
        {
          "output_type": "stream",
          "text": [
            "5\n",
            "6\n",
            "7\n",
            "8\n",
            "9\n"
          ],
          "name": "stdout"
        }
      ]
    },
    {
      "cell_type": "code",
      "metadata": {
        "colab": {
          "base_uri": "https://localhost:8080/"
        },
        "id": "rJ67h1hElg4m",
        "outputId": "f0109538-14cf-4a54-d69d-29bf86584a6f"
      },
      "source": [
        "values = [7,8,9]   # list\n",
        "do_something(5,6,*values)"
      ],
      "execution_count": 11,
      "outputs": [
        {
          "output_type": "stream",
          "text": [
            "5\n",
            "6\n",
            "7\n",
            "8\n",
            "9\n"
          ],
          "name": "stdout"
        }
      ]
    },
    {
      "cell_type": "code",
      "metadata": {
        "colab": {
          "base_uri": "https://localhost:8080/"
        },
        "id": "uNkWifQ6li7O",
        "outputId": "760e856c-9829-48bf-ca11-a3f3d947535e"
      },
      "source": [
        "do_something(5,6,x=7)\n",
        "do_something(5,6,x=7,y=8)"
      ],
      "execution_count": 12,
      "outputs": [
        {
          "output_type": "stream",
          "text": [
            "5\n",
            "6\n",
            "5\n",
            "6\n"
          ],
          "name": "stdout"
        }
      ]
    },
    {
      "cell_type": "code",
      "metadata": {
        "id": "oJBwE5B_lkcC"
      },
      "source": [
        "def do_something(num1, num2, **kwargs):\n",
        "    print(num1)\n",
        "    print(num2)\n",
        "    for k,v in kwargs.items():   # get each key/value pair one at a \n",
        "        print(k,v)               # time"
      ],
      "execution_count": 13,
      "outputs": []
    },
    {
      "cell_type": "code",
      "metadata": {
        "id": "bDhfrYkplmA2"
      },
      "source": [
        "def do_something(num1, num2, **kwargs):\n",
        "    print(num1)\n",
        "    print(num2)\n",
        "    for k in kwargs.keys():    # retrieve all the keys\n",
        "        print(k, kwargs[k])    # then get the value based on the key"
      ],
      "execution_count": 14,
      "outputs": []
    },
    {
      "cell_type": "code",
      "metadata": {
        "colab": {
          "base_uri": "https://localhost:8080/",
          "height": 204
        },
        "id": "YEqYJCdElocY",
        "outputId": "bee9f4f0-99af-4b62-b48d-162151275627"
      },
      "source": [
        "import pandas as pd\n",
        "import numpy as np\n",
        "\n",
        "df = pd.DataFrame(np.random.randn(5,4), \n",
        "                  columns=['Summer','Winter','Autumn','Spring'])\n",
        "df"
      ],
      "execution_count": 16,
      "outputs": [
        {
          "output_type": "execute_result",
          "data": {
            "text/html": [
              "<div>\n",
              "<style scoped>\n",
              "    .dataframe tbody tr th:only-of-type {\n",
              "        vertical-align: middle;\n",
              "    }\n",
              "\n",
              "    .dataframe tbody tr th {\n",
              "        vertical-align: top;\n",
              "    }\n",
              "\n",
              "    .dataframe thead th {\n",
              "        text-align: right;\n",
              "    }\n",
              "</style>\n",
              "<table border=\"1\" class=\"dataframe\">\n",
              "  <thead>\n",
              "    <tr style=\"text-align: right;\">\n",
              "      <th></th>\n",
              "      <th>Summer</th>\n",
              "      <th>Winter</th>\n",
              "      <th>Autumn</th>\n",
              "      <th>Spring</th>\n",
              "    </tr>\n",
              "  </thead>\n",
              "  <tbody>\n",
              "    <tr>\n",
              "      <th>0</th>\n",
              "      <td>0.773433</td>\n",
              "      <td>2.080715</td>\n",
              "      <td>-0.138742</td>\n",
              "      <td>-2.305345</td>\n",
              "    </tr>\n",
              "    <tr>\n",
              "      <th>1</th>\n",
              "      <td>-1.105263</td>\n",
              "      <td>-0.782013</td>\n",
              "      <td>2.027793</td>\n",
              "      <td>-0.215979</td>\n",
              "    </tr>\n",
              "    <tr>\n",
              "      <th>2</th>\n",
              "      <td>-0.856643</td>\n",
              "      <td>-2.536010</td>\n",
              "      <td>-1.939978</td>\n",
              "      <td>1.790229</td>\n",
              "    </tr>\n",
              "    <tr>\n",
              "      <th>3</th>\n",
              "      <td>0.793903</td>\n",
              "      <td>-1.478404</td>\n",
              "      <td>-1.482841</td>\n",
              "      <td>-0.481181</td>\n",
              "    </tr>\n",
              "    <tr>\n",
              "      <th>4</th>\n",
              "      <td>0.343594</td>\n",
              "      <td>-1.582932</td>\n",
              "      <td>1.086373</td>\n",
              "      <td>-0.403291</td>\n",
              "    </tr>\n",
              "  </tbody>\n",
              "</table>\n",
              "</div>"
            ],
            "text/plain": [
              "     Summer    Winter    Autumn    Spring\n",
              "0  0.773433  2.080715 -0.138742 -2.305345\n",
              "1 -1.105263 -0.782013  2.027793 -0.215979\n",
              "2 -0.856643 -2.536010 -1.939978  1.790229\n",
              "3  0.793903 -1.478404 -1.482841 -0.481181\n",
              "4  0.343594 -1.582932  1.086373 -0.403291"
            ]
          },
          "metadata": {
            "tags": []
          },
          "execution_count": 16
        }
      ]
    },
    {
      "cell_type": "code",
      "metadata": {
        "id": "MNhHceUWluVP"
      },
      "source": [
        "def fetch_data(**kwargs):\n",
        "    for k,v in kwargs.items():\n",
        "        print(df[[k]][df[k]>v])        # df[[k]] first returns the specified column (k) as a \n",
        "        # dataframe, then [df[k]>v] retrieves all the rows whose \n",
        "        # cell value is more than the value specified (v)"
      ],
      "execution_count": 18,
      "outputs": []
    },
    {
      "cell_type": "code",
      "metadata": {
        "colab": {
          "base_uri": "https://localhost:8080/"
        },
        "id": "EzkQk6EulqkF",
        "outputId": "f8571bce-f5b8-4658-9dd0-4dfd27d0c1dc"
      },
      "source": [
        "fetch_data(Summer=0.5)             # retrieve only the Summer column\n",
        "fetch_data(Summer=0.5, Winter=0.2) # retrieve the Summer and Winter \n",
        "                                   # columns"
      ],
      "execution_count": 19,
      "outputs": [
        {
          "output_type": "stream",
          "text": [
            "     Summer\n",
            "0  0.773433\n",
            "3  0.793903\n",
            "     Summer\n",
            "0  0.773433\n",
            "3  0.793903\n",
            "     Winter\n",
            "0  2.080715\n"
          ],
          "name": "stdout"
        }
      ]
    },
    {
      "cell_type": "code",
      "metadata": {
        "colab": {
          "base_uri": "https://localhost:8080/"
        },
        "id": "5SJ-8riKltE2",
        "outputId": "f3de45a1-e5f9-401d-b6d0-bc379ace0150"
      },
      "source": [
        "fetch_data(Summer=0.5, Winter=0.2)"
      ],
      "execution_count": 20,
      "outputs": [
        {
          "output_type": "stream",
          "text": [
            "     Summer\n",
            "0  0.773433\n",
            "3  0.793903\n",
            "     Winter\n",
            "0  2.080715\n"
          ],
          "name": "stdout"
        }
      ]
    },
    {
      "cell_type": "code",
      "metadata": {
        "colab": {
          "base_uri": "https://localhost:8080/"
        },
        "id": "gN4sTM2glwm1",
        "outputId": "c4dd282c-54c5-4a48-dd89-b9957948e725"
      },
      "source": [
        "kwpairs = {'Summer':0.5, 'Winter':0.2}    # dictionary\n",
        "fetch_data(**kwpairs)\n",
        "# same as\n",
        "fetch_data(Summer=0.5, Winter=0.2)"
      ],
      "execution_count": 21,
      "outputs": [
        {
          "output_type": "stream",
          "text": [
            "     Summer\n",
            "0  0.773433\n",
            "3  0.793903\n",
            "     Winter\n",
            "0  2.080715\n",
            "     Summer\n",
            "0  0.773433\n",
            "3  0.793903\n",
            "     Winter\n",
            "0  2.080715\n"
          ],
          "name": "stdout"
        }
      ]
    }
  ]
}