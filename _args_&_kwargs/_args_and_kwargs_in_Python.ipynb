{
  "nbformat": 4,
  "nbformat_minor": 0,
  "metadata": {
    "colab": {
      "name": "*args and **kwargs in Python.ipynb",
      "provenance": [],
      "authorship_tag": "ABX9TyN9mCdQZSH392sYVRCQ2Onh"
    },
    "kernelspec": {
      "name": "python3",
      "display_name": "Python 3"
    }
  },
  "cells": [
    {
      "cell_type": "markdown",
      "metadata": {
        "id": "BvMKyDNgWZRK",
        "colab_type": "text"
      },
      "source": [
        "[Reference](https://medium.com/better-programming/stop-abusing-args-and-kwargs-in-python-560ce6645e14)"
      ]
    },
    {
      "cell_type": "markdown",
      "metadata": {
        "id": "saz3a7LeWrQ4",
        "colab_type": "text"
      },
      "source": [
        "*args allows you to pass an arbitrary number of positional arguments to your function."
      ]
    },
    {
      "cell_type": "code",
      "metadata": {
        "id": "KgdCVaeJVfFk",
        "colab_type": "code",
        "colab": {}
      },
      "source": [
        "def foo(*args):\n",
        "    print(type(args))\n",
        "    for arg in args:\n",
        "        print(arg)"
      ],
      "execution_count": 1,
      "outputs": []
    },
    {
      "cell_type": "code",
      "metadata": {
        "id": "OwPvD-XmWlgg",
        "colab_type": "code",
        "colab": {
          "base_uri": "https://localhost:8080/",
          "height": 85
        },
        "outputId": "488db79e-92d4-453c-cf1a-c3561dc7ffe2"
      },
      "source": [
        "foo(1, 2, 'end')"
      ],
      "execution_count": 2,
      "outputs": [
        {
          "output_type": "stream",
          "text": [
            "<class 'tuple'>\n",
            "1\n",
            "2\n",
            "end\n"
          ],
          "name": "stdout"
        }
      ]
    },
    {
      "cell_type": "markdown",
      "metadata": {
        "id": "0qI98PGXWtlN",
        "colab_type": "text"
      },
      "source": [
        "**kwargs allows you to pass a varying number of keyworded arguments to your function"
      ]
    },
    {
      "cell_type": "code",
      "metadata": {
        "id": "upbrPUXiWmDV",
        "colab_type": "code",
        "colab": {}
      },
      "source": [
        "def foo2(**kwargs):\n",
        "    print(type(kwargs))\n",
        "    for keyword, value in kwargs.items():\n",
        "        print(f'{keyword}={value}')"
      ],
      "execution_count": 3,
      "outputs": []
    },
    {
      "cell_type": "code",
      "metadata": {
        "id": "tBKKy3bXWx8k",
        "colab_type": "code",
        "colab": {
          "base_uri": "https://localhost:8080/",
          "height": 85
        },
        "outputId": "d53c07e8-5fc1-4b76-e656-b85fd4bccba9"
      },
      "source": [
        "foo2(a=1, b=2, z='end')"
      ],
      "execution_count": 4,
      "outputs": [
        {
          "output_type": "stream",
          "text": [
            "<class 'dict'>\n",
            "a=1\n",
            "b=2\n",
            "z=end\n"
          ],
          "name": "stdout"
        }
      ]
    },
    {
      "cell_type": "code",
      "metadata": {
        "id": "JOP9g0eVWybd",
        "colab_type": "code",
        "colab": {}
      },
      "source": [
        "def trace(func):\n",
        "    def print_in(*args, **kwargs):\n",
        "        print('Executing function', func.__name__)\n",
        "        return func(*args, **kwargs)\n",
        "    return print_in"
      ],
      "execution_count": 5,
      "outputs": []
    },
    {
      "cell_type": "code",
      "metadata": {
        "id": "kflslggGW9LK",
        "colab_type": "code",
        "colab": {}
      },
      "source": [
        "@trace\n",
        "def calc(a,b):\n",
        "    print(f'a+b is {a+b}, a-b is {a-b}.')  "
      ],
      "execution_count": 6,
      "outputs": []
    },
    {
      "cell_type": "code",
      "metadata": {
        "id": "MPhEkFioW-xU",
        "colab_type": "code",
        "colab": {
          "base_uri": "https://localhost:8080/",
          "height": 51
        },
        "outputId": "56f59940-b08a-49cd-f7a3-e6010b960638"
      },
      "source": [
        "calc(1,2)\n",
        "# Executing function calc\n",
        "# a+b is 3, a-b is -1."
      ],
      "execution_count": 7,
      "outputs": [
        {
          "output_type": "stream",
          "text": [
            "Executing function calc\n",
            "a+b is 3, a-b is -1.\n"
          ],
          "name": "stdout"
        }
      ]
    },
    {
      "cell_type": "code",
      "metadata": {
        "id": "-LfXimeyXAAV",
        "colab_type": "code",
        "colab": {
          "base_uri": "https://localhost:8080/",
          "height": 51
        },
        "outputId": "a8bfe271-2675-4123-d532-3ca79581954b"
      },
      "source": [
        "# Import reduce from functools\n",
        "from functools import reduce\n",
        "\n",
        "@trace\n",
        "def add_all(*args):\n",
        "    print(reduce(lambda a,b:a+b, args))\n",
        "\n",
        "a = add_all(1,2,3,4,5)"
      ],
      "execution_count": 10,
      "outputs": [
        {
          "output_type": "stream",
          "text": [
            "Executing function add_all\n",
            "15\n"
          ],
          "name": "stdout"
        }
      ]
    }
  ]
}