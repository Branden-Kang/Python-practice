{
  "nbformat": 4,
  "nbformat_minor": 0,
  "metadata": {
    "colab": {
      "name": "*args & **kwargs in Python.ipynb",
      "provenance": [],
      "authorship_tag": "ABX9TyOQqXuNHSjS81DzLVfjT3FP"
    },
    "kernelspec": {
      "name": "python3",
      "display_name": "Python 3"
    }
  },
  "cells": [
    {
      "cell_type": "markdown",
      "metadata": {
        "id": "FvLWJKzQszab"
      },
      "source": [
        "[Reference](https://levelup.gitconnected.com/args-kwargs-in-python-8d483f9f253e)"
      ]
    },
    {
      "cell_type": "code",
      "metadata": {
        "colab": {
          "base_uri": "https://localhost:8080/"
        },
        "id": "qUXSkyuksyRR",
        "outputId": "199d7aef-294a-43d1-859a-e780f894aa1c"
      },
      "source": [
        "def simpleFunction(arg):\n",
        "    return( 'I am a function, this is my argument: ' + arg )\n",
        "    \n",
        "print(simpleFunction('Argy'))"
      ],
      "execution_count": 2,
      "outputs": [
        {
          "output_type": "stream",
          "text": [
            "I am a function, this is my argument: Argy\n"
          ],
          "name": "stdout"
        }
      ]
    },
    {
      "cell_type": "code",
      "metadata": {
        "id": "a7_gPDgHs4Ag"
      },
      "source": [
        "def simpleFunctionNamedArgs(arg1='Argy', arg2=2):\n",
        "    return( 'I am a function, these are my named arguments: arg1=' + arg1 + ', arg2=' + str(arg2))"
      ],
      "execution_count": 3,
      "outputs": []
    },
    {
      "cell_type": "code",
      "metadata": {
        "colab": {
          "base_uri": "https://localhost:8080/"
        },
        "id": "6uXHRz9os8Qa",
        "outputId": "0c20f0df-cb00-4461-abf6-d4b7a1e80200"
      },
      "source": [
        "print(simpleFunctionNamedArgs())"
      ],
      "execution_count": 4,
      "outputs": [
        {
          "output_type": "stream",
          "text": [
            "I am a function, these are my named arguments: arg1=Argy, arg2=2\n"
          ],
          "name": "stdout"
        }
      ]
    },
    {
      "cell_type": "code",
      "metadata": {
        "colab": {
          "base_uri": "https://localhost:8080/"
        },
        "id": "R2vRZ_hWs9pv",
        "outputId": "b50c700f-9624-4b7a-a9bb-0c7664c33135"
      },
      "source": [
        "print(simpleFunctionNamedArgs('Argidio', 4))"
      ],
      "execution_count": 5,
      "outputs": [
        {
          "output_type": "stream",
          "text": [
            "I am a function, these are my named arguments: arg1=Argidio, arg2=4\n"
          ],
          "name": "stdout"
        }
      ]
    },
    {
      "cell_type": "code",
      "metadata": {
        "colab": {
          "base_uri": "https://localhost:8080/"
        },
        "id": "95RBCulqs-8P",
        "outputId": "209567ab-2fc9-4919-c976-853973c16a6c"
      },
      "source": [
        "print(simpleFunctionNamedArgs(arg2=6, arg1='Argos'))"
      ],
      "execution_count": 9,
      "outputs": [
        {
          "output_type": "stream",
          "text": [
            "I am a function, these are my named arguments: arg1=Argos, arg2=6\n"
          ],
          "name": "stdout"
        }
      ]
    },
    {
      "cell_type": "markdown",
      "metadata": {
        "id": "dDoT8eN0tEOg"
      },
      "source": [
        "# *args"
      ]
    },
    {
      "cell_type": "code",
      "metadata": {
        "colab": {
          "base_uri": "https://localhost:8080/"
        },
        "id": "q0ByjKZ8tAbZ",
        "outputId": "47754f51-9b44-49a0-8f36-99291cd12268"
      },
      "source": [
        "def multiArguments(*args):\n",
        "    return(args) #returns a tuple\n",
        "    \n",
        "print (multiArguments('one', 'two', 'three'))"
      ],
      "execution_count": 10,
      "outputs": [
        {
          "output_type": "stream",
          "text": [
            "('one', 'two', 'three')\n"
          ],
          "name": "stdout"
        }
      ]
    },
    {
      "cell_type": "code",
      "metadata": {
        "colab": {
          "base_uri": "https://localhost:8080/"
        },
        "id": "N2wlMTlItG1b",
        "outputId": "bf95d8ea-6141-4a22-b2d6-a60d97917789"
      },
      "source": [
        "def multiArguments(*args):\n",
        "    for arg in args:\n",
        "        print(arg + 2)\n",
        "\n",
        "multiArguments(10, 20, 30)"
      ],
      "execution_count": 11,
      "outputs": [
        {
          "output_type": "stream",
          "text": [
            "12\n",
            "22\n",
            "32\n"
          ],
          "name": "stdout"
        }
      ]
    },
    {
      "cell_type": "markdown",
      "metadata": {
        "id": "b34xeWxAtLY1"
      },
      "source": [
        "# key-worded arguments **kwargs"
      ]
    },
    {
      "cell_type": "code",
      "metadata": {
        "colab": {
          "base_uri": "https://localhost:8080/"
        },
        "id": "ZD9gNhmstIuA",
        "outputId": "4edbf6db-008d-4b65-cbe1-6fbf40333fe5"
      },
      "source": [
        "def multiKeywordedArguments(**kwargs):\n",
        "    return(kwargs)\n",
        "    \n",
        "print(multiKeywordedArguments(kwarg1 = 'uno', kwarg2 = 'dos', kwarg3 = 'tres'))"
      ],
      "execution_count": 12,
      "outputs": [
        {
          "output_type": "stream",
          "text": [
            "{'kwarg1': 'uno', 'kwarg2': 'dos', 'kwarg3': 'tres'}\n"
          ],
          "name": "stdout"
        }
      ]
    },
    {
      "cell_type": "code",
      "metadata": {
        "colab": {
          "base_uri": "https://localhost:8080/"
        },
        "id": "xlQ4nlDDtOOU",
        "outputId": "a31498e1-f5a4-47f8-e4e9-b3c536a8f9a9"
      },
      "source": [
        "def multiKeywordedArguments(**kwargs):\n",
        "    for name,value in kwargs.items():\n",
        "        print('name: ' + name + ' value: ' + value)\n",
        "        \n",
        "multiKeywordedArguments(kwarg1 = 'uno', kwarg2 = 'dos', kwarg3 = 'tres')"
      ],
      "execution_count": 13,
      "outputs": [
        {
          "output_type": "stream",
          "text": [
            "name: kwarg1 value: uno\n",
            "name: kwarg2 value: dos\n",
            "name: kwarg3 value: tres\n"
          ],
          "name": "stdout"
        }
      ]
    },
    {
      "cell_type": "code",
      "metadata": {
        "colab": {
          "base_uri": "https://localhost:8080/"
        },
        "id": "Hmt6j5WVtRjy",
        "outputId": "9a4631f4-3725-4708-e8df-57b2e949340f"
      },
      "source": [
        "def multiKeywordedArgumentsComprehension(**kwargs):\n",
        "    modifiedDict = {key:value + 100 for (key,value) in kwargs.items()}\n",
        "    print(modifiedDict)\n",
        "    \n",
        "multiKeywordedArgumentsComprehension(kwarg1 = 100, kwarg2 = 200, kwarg3 = 300)"
      ],
      "execution_count": 14,
      "outputs": [
        {
          "output_type": "stream",
          "text": [
            "{'kwarg1': 200, 'kwarg2': 300, 'kwarg3': 400}\n"
          ],
          "name": "stdout"
        }
      ]
    },
    {
      "cell_type": "markdown",
      "metadata": {
        "id": "opHzq0lstXCB"
      },
      "source": [
        "# Mix and Match"
      ]
    },
    {
      "cell_type": "code",
      "metadata": {
        "colab": {
          "base_uri": "https://localhost:8080/"
        },
        "id": "s5z6cibYtUE8",
        "outputId": "5f87fc8e-20bf-44f6-f2a3-76b16920c0f2"
      },
      "source": [
        "def mixAndMatch(*args, **kwargs):\n",
        "    print(f' Args: {args}' )\n",
        "    print(f' Kwargs: {kwargs}' )\n",
        "    \n",
        "mixAndMatch('one', 'two', arg3 = 'three', arg4 = 'four')"
      ],
      "execution_count": 15,
      "outputs": [
        {
          "output_type": "stream",
          "text": [
            " Args: ('one', 'two')\n",
            " Kwargs: {'arg3': 'three', 'arg4': 'four'}\n"
          ],
          "name": "stdout"
        }
      ]
    },
    {
      "cell_type": "code",
      "metadata": {
        "colab": {
          "base_uri": "https://localhost:8080/"
        },
        "id": "97QMBa3EtaIK",
        "outputId": "9be4ce5e-cf08-4644-a63b-95f54eba13f5"
      },
      "source": [
        "def mixAndMatch(regArg, *args, **kwargs):\n",
        "    print(f' Regular Argument: {regArg}' )\n",
        "    print(f' Args: {args}' )\n",
        "    print(f' Kwargs: {kwargs}' )\n",
        "\n",
        "mixAndMatch('zero', 'one', 'two', arg3 = 'three', arg4 = 'four')"
      ],
      "execution_count": 16,
      "outputs": [
        {
          "output_type": "stream",
          "text": [
            " Regular Argument: zero\n",
            " Args: ('one', 'two')\n",
            " Kwargs: {'arg3': 'three', 'arg4': 'four'}\n"
          ],
          "name": "stdout"
        }
      ]
    },
    {
      "cell_type": "markdown",
      "metadata": {
        "id": "NRWQ0A89thNl"
      },
      "source": [
        "# Classes"
      ]
    },
    {
      "cell_type": "code",
      "metadata": {
        "colab": {
          "base_uri": "https://localhost:8080/"
        },
        "id": "Zo2FaWRFtfp_",
        "outputId": "4eadca00-fa37-41b4-8dfc-3f72166f7cdb"
      },
      "source": [
        "class simpleclass(object):\n",
        "    def __init__(self, *args, **kwargs):\n",
        "        print (args, kwargs)    \n",
        "        \n",
        "    def classMethod(self, *args, **kwargs):\n",
        "        print (args, kwargs)\n",
        "        \n",
        "classInstance = simpleclass('one', 'two', arg3 = 'three', arg4 = 'four')"
      ],
      "execution_count": 17,
      "outputs": [
        {
          "output_type": "stream",
          "text": [
            "('one', 'two') {'arg3': 'three', 'arg4': 'four'}\n"
          ],
          "name": "stdout"
        }
      ]
    },
    {
      "cell_type": "code",
      "metadata": {
        "colab": {
          "base_uri": "https://localhost:8080/"
        },
        "id": "Lo-3ipf4tk-D",
        "outputId": "3b9a1019-52c7-4edc-febf-1d0c56da06d5"
      },
      "source": [
        "classInstance.classMethod('uno', 'dos', arg3 = 'tres', arg4 = 'cuatro')"
      ],
      "execution_count": 18,
      "outputs": [
        {
          "output_type": "stream",
          "text": [
            "('uno', 'dos') {'arg3': 'tres', 'arg4': 'cuatro'}\n"
          ],
          "name": "stdout"
        }
      ]
    },
    {
      "cell_type": "code",
      "metadata": {
        "colab": {
          "base_uri": "https://localhost:8080/"
        },
        "id": "fbsSvQDrtmeO",
        "outputId": "32e60951-728e-4a69-e537-c85010fc97cc"
      },
      "source": [
        "class parentClass(object):\n",
        "    def __init__(*args, **kwargs):\n",
        "        print('parentArgs:', args, kwargs)\n",
        "        \n",
        "class childClass(parentClass):\n",
        "    def __init__(self, *args, **kwargs):\n",
        "        print('childArgs:', args, kwargs)\n",
        "        parentClass.__init__(*args, **kwargs)\n",
        "        \n",
        "subclassInstance = childClass('one', 'two', arg3 = 'three', arg4 = 'four')"
      ],
      "execution_count": 19,
      "outputs": [
        {
          "output_type": "stream",
          "text": [
            "childArgs: ('one', 'two') {'arg3': 'three', 'arg4': 'four'}\n",
            "parentArgs: ('one', 'two') {'arg3': 'three', 'arg4': 'four'}\n"
          ],
          "name": "stdout"
        }
      ]
    },
    {
      "cell_type": "markdown",
      "metadata": {
        "id": "_vvB_VAitu2u"
      },
      "source": [
        "# Unpacking with * & **"
      ]
    },
    {
      "cell_type": "code",
      "metadata": {
        "id": "K0fVPyeYtrbs"
      },
      "source": [
        "def needsUnpacking(arg1, arg2,arg3):\n",
        "    print('My arguments:', arg1, arg2, arg3)\n",
        "    \n",
        "commonTuple = ('One','Two', 'Three')\n",
        "commonList = ['uno','dos', 'tres']"
      ],
      "execution_count": 20,
      "outputs": []
    },
    {
      "cell_type": "code",
      "metadata": {
        "colab": {
          "base_uri": "https://localhost:8080/"
        },
        "id": "pOEu1iYMtyo6",
        "outputId": "51f137c7-3947-461b-bd56-ef6da149611a"
      },
      "source": [
        "needsUnpacking(*commonList)"
      ],
      "execution_count": 21,
      "outputs": [
        {
          "output_type": "stream",
          "text": [
            "My arguments: uno dos tres\n"
          ],
          "name": "stdout"
        }
      ]
    },
    {
      "cell_type": "code",
      "metadata": {
        "colab": {
          "base_uri": "https://localhost:8080/"
        },
        "id": "yor31TB-t0DB",
        "outputId": "9b55bc21-d835-4b5c-fe93-9e3c07f0b046"
      },
      "source": [
        "needsUnpacking(*commonTuple)"
      ],
      "execution_count": 22,
      "outputs": [
        {
          "output_type": "stream",
          "text": [
            "My arguments: One Two Three\n"
          ],
          "name": "stdout"
        }
      ]
    },
    {
      "cell_type": "code",
      "metadata": {
        "colab": {
          "base_uri": "https://localhost:8080/"
        },
        "id": "liEQDYRkt1Mu",
        "outputId": "3e07e01c-d9ce-4e70-e9d4-9c9e91e17062"
      },
      "source": [
        "def needsUnpacking(arg1='ONE', arg2='TWO',arg3='THREE'):\n",
        "    print('My arguments:', arg1, arg2, arg3)\n",
        "    \n",
        "commonDict = {'arg1':'un', 'arg2':'deux', 'arg3':'trois'}\n",
        "    \n",
        "needsUnpacking(commonDict) "
      ],
      "execution_count": 24,
      "outputs": [
        {
          "output_type": "stream",
          "text": [
            "My arguments: {'arg1': 'un', 'arg2': 'deux', 'arg3': 'trois'} TWO THREE\n"
          ],
          "name": "stdout"
        }
      ]
    },
    {
      "cell_type": "code",
      "metadata": {
        "colab": {
          "base_uri": "https://localhost:8080/"
        },
        "id": "UR7LATLIt4qf",
        "outputId": "e59625c4-f656-4924-989f-27d95decedda"
      },
      "source": [
        "needsUnpacking(**commonDict)"
      ],
      "execution_count": 25,
      "outputs": [
        {
          "output_type": "stream",
          "text": [
            "My arguments: un deux trois\n"
          ],
          "name": "stdout"
        }
      ]
    }
  ]
}