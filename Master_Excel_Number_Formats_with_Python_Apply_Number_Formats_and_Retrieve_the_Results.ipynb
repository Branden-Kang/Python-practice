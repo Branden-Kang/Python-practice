{
  "nbformat": 4,
  "nbformat_minor": 0,
  "metadata": {
    "colab": {
      "provenance": [],
      "authorship_tag": "ABX9TyMo/3FmOwQCg0pDzQq5VkLM"
    },
    "kernelspec": {
      "name": "python3",
      "display_name": "Python 3"
    },
    "language_info": {
      "name": "python"
    }
  },
  "cells": [
    {
      "cell_type": "markdown",
      "source": [
        "[Reference](https://medium.com/@alice.yang_10652/master-excel-number-formats-with-python-apply-number-formats-and-retrieve-the-results-95dbc8ecac12)"
      ],
      "metadata": {
        "id": "4bCoGt9b9yAL"
      }
    },
    {
      "cell_type": "code",
      "execution_count": 1,
      "metadata": {
        "colab": {
          "base_uri": "https://localhost:8080/"
        },
        "id": "X2XZd41M9wBi",
        "outputId": "0b9ac46f-be3a-4519-acfa-7df2f4542871"
      },
      "outputs": [
        {
          "output_type": "stream",
          "name": "stdout",
          "text": [
            "Collecting Spire.Xls\n",
            "  Downloading Spire.Xls-14.7.3-py3-none-manylinux1_x86_64.whl.metadata (12 kB)\n",
            "Collecting plum-dispatch==1.7.4 (from Spire.Xls)\n",
            "  Downloading plum_dispatch-1.7.4-py3-none-any.whl.metadata (1.8 kB)\n",
            "Downloading Spire.Xls-14.7.3-py3-none-manylinux1_x86_64.whl (37.3 MB)\n",
            "\u001b[2K   \u001b[90m━━━━━━━━━━━━━━━━━━━━━━━━━━━━━━━━━━━━━━━━\u001b[0m \u001b[32m37.3/37.3 MB\u001b[0m \u001b[31m14.5 MB/s\u001b[0m eta \u001b[36m0:00:00\u001b[0m\n",
            "\u001b[?25hDownloading plum_dispatch-1.7.4-py3-none-any.whl (24 kB)\n",
            "Installing collected packages: plum-dispatch, Spire.Xls\n",
            "Successfully installed Spire.Xls-14.7.3 plum-dispatch-1.7.4\n"
          ]
        }
      ],
      "source": [
        "pip install Spire.Xls"
      ]
    },
    {
      "cell_type": "markdown",
      "source": [
        "# Apply Number Formats to Excel Cells with Python"
      ],
      "metadata": {
        "id": "7vI2IJuF-Q9Z"
      }
    },
    {
      "cell_type": "code",
      "source": [
        "from spire.xls import *\n",
        "from spire.xls.common import *\n",
        "\n",
        "# Instantiate a Workbook object\n",
        "workbook = Workbook()\n",
        "# Load an Excel file\n",
        "workbook.LoadFromFile(\"Example.xlsx\")\n",
        "\n",
        "# Get the first worksheet\n",
        "sheet = workbook.Worksheets[0]\n",
        "\n",
        "sheet.Range[\"A1\"].Text = \"Number Format\"\n",
        "sheet.Range[\"B1\"].Text = \"Example Input\"\n",
        "sheet.Range[\"C1\"].Text = \"Example Output\"\n",
        "sheet.Range[\"A1:C1\"].Style.Font.IsBold = True\n",
        "sheet.Range[\"A1:C1\"].Style.HorizontalAlignment = HorizontalAlignType.Center\n",
        "\n",
        "# Apply different types of number formats\n",
        "sheet.Range[\"A2\"].Text = \"Number\"\n",
        "sheet.Range[\"B2\"].Text = \"1234.5678\"\n",
        "sheet.Range[\"C2\"].NumberValue = 1234.5678\n",
        "sheet.Range[\"C2\"].NumberFormat = \"0\"\n",
        "\n",
        "sheet.Range[\"A3\"].Text = \"Number\"\n",
        "sheet.Range[\"B3\"].Text = \"1234.5678\"\n",
        "sheet.Range[\"C3\"].NumberValue = 1234.5678\n",
        "sheet.Range[\"C3\"].NumberFormat = \"0.00\"\n",
        "\n",
        "sheet.Range[\"A4\"].Text = \"Number\"\n",
        "sheet.Range[\"B4\"].Text = \"1234.5678\"\n",
        "sheet.Range[\"C4\"].NumberValue = 1234.5678\n",
        "sheet.Range[\"C4\"].NumberFormat = \"#,##0.00\"\n",
        "\n",
        "# Apply currency format\n",
        "sheet.Range[\"A5\"].Text = \"Currency\"\n",
        "sheet.Range[\"B5\"].Text = \"1234.5678\"\n",
        "sheet.Range[\"C5\"].NumberValue = 1234.5678\n",
        "sheet.Range[\"C5\"].NumberFormat = \"\\\"$\\\"#,##0.00\"\n",
        "\n",
        "# Apply date format\n",
        "sheet.Range[\"A6\"].Text = \"Date\"\n",
        "sheet.Range[\"B6\"].Text = DateTime.get_Today().ToShortDateString()\n",
        "sheet.Range[\"C6\"].DateTimeValue = DateTime.get_Today()\n",
        "sheet.Range[\"C6\"].NumberFormat = \"mm/dd/yyyy\"\n",
        "\n",
        "# Apply scientific format\n",
        "sheet.Range[\"A7\"].Text = \"Scientific\"\n",
        "sheet.Range[\"B7\"].Text = \"1234567.0005\"\n",
        "sheet.Range[\"C7\"].NumberValue = 1234.5678\n",
        "sheet.Range[\"C7\"].NumberFormat = \"0.00E+00\"\n",
        "\n",
        "# Apply accounting format\n",
        "sheet.Range[\"A8\"].Text = \"Accounting\"\n",
        "# Positive value\n",
        "sheet.Range[\"B8\"].Text = \"5\"\n",
        "sheet.Range[\"C8\"].NumberValue = 5\n",
        "sheet.Range[\"A9\"].Text = \"Accounting\"\n",
        "# Negative value\n",
        "sheet.Range[\"B9\"].Text = \"-5\"\n",
        "sheet.Range[\"C9\"].NumberValue = -5\n",
        "sheet.Range[\"A10\"].Text = \"Accounting\"\n",
        "# Zero\n",
        "sheet.Range[\"B10\"].Text = \"0\"\n",
        "sheet.Range[\"C10\"].NumberValue = 0\n",
        "sheet.Range[\"C8:C10\"].NumberFormat = \"_(\\\"$\\\"* #,##0_);_(\\\"$\\\"* (#,##0);_(\\\"$\\\"* \\\"-\\\"_);_(@_)\"\n",
        "\n",
        "# Apply custom format\n",
        "sheet.Range[\"A11\"].Text = \"Custom\"\n",
        "# Positive value\n",
        "sheet.Range[\"B11\"].Text = \"5\"\n",
        "sheet.Range[\"C11\"].NumberValue = 5\n",
        "sheet.Range[\"A12\"].Text = \"Custom\"\n",
        "# Negative value\n",
        "sheet.Range[\"B12\"].Text = \"-5\"\n",
        "sheet.Range[\"C12\"].NumberValue = -5\n",
        "sheet.Range[\"A13\"].Text = \"Custom\"\n",
        "# Zero\n",
        "sheet.Range[\"B13\"].Text = \"0\"\n",
        "sheet.Range[\"C13\"].NumberValue = 0\n",
        "sheet.Range[\"C11:C13\"].NumberFormat = \"[Green]0.00;[Red]-0.00;[Blue]0.00\"\n",
        "\n",
        "# Apply percentage format\n",
        "sheet.Range[\"A14\"].Text = \"Percentage\"\n",
        "sheet.Range[\"B14\"].Text = \"0.58\"\n",
        "sheet.Range[\"C14\"].NumberValue = 0.58\n",
        "sheet.Range[\"C14\"].NumberFormat = \"0.00%\"\n",
        "\n",
        "# Apply fraction format\n",
        "sheet.Range[\"A15\"].Text = \"Fraction\"\n",
        "sheet.Range[\"B15\"].Text = \"0.25\"\n",
        "sheet.Range[\"C15\"].NumberValue = 0.25\n",
        "sheet.Range[\"C15\"].NumberFormat = \"# ?/?\"\n",
        "\n",
        "# Apply fraction format\n",
        "sheet.Range[\"A16\"].Text = \"Text\"\n",
        "sheet.Range[\"B16\"].Text = \"001\"\n",
        "sheet.Range[\"C16\"].Value = \"001\"\n",
        "sheet.Range[\"C16\"].NumberFormat = \"@\"\n",
        "\n",
        "# Set column widths\n",
        "sheet.SetColumnWidth(1, 23)\n",
        "sheet.SetColumnWidth(2, 44)\n",
        "sheet.SetColumnWidth(3, 23)\n",
        "\n",
        "# Save the result file\n",
        "workbook.SaveToFile(\"ApplyNumberFormats.xlsx\", ExcelVersion.Version2016)\n",
        "workbook.Dispose()"
      ],
      "metadata": {
        "id": "uSVp434V902P"
      },
      "execution_count": 2,
      "outputs": []
    },
    {
      "cell_type": "markdown",
      "source": [
        "# Apply Number Formats to Hide Values in Excel Cells with Python"
      ],
      "metadata": {
        "id": "On2-8zqr-N1O"
      }
    },
    {
      "cell_type": "code",
      "source": [
        "from spire.xls import *\n",
        "from spire.xls.common import *\n",
        "\n",
        "# Instantiate a Workbook object\n",
        "workbook = Workbook()\n",
        "# Load an Excel file\n",
        "workbook.LoadFromFile(\"Sample Data.xlsx\")\n",
        "\n",
        "# Get the first worksheet\n",
        "sheet = workbook.Worksheets[0]\n",
        "\n",
        "# Hide the zero values in the used cell range\n",
        "sheet.Range.NumberFormat = \"0;-0;;@\"\n",
        "\n",
        "# Hide the entire value in cell C3\n",
        "sheet.Range[\"C3\"].NumberFormat = \";;;\"\n",
        "\n",
        "# Save the result file\n",
        "workbook.SaveToFile(\"HideCellValues.xlsx\", ExcelVersion.Version2016)\n",
        "workbook.Dispose()"
      ],
      "metadata": {
        "id": "YOFPUfOn-GA-"
      },
      "execution_count": 3,
      "outputs": []
    },
    {
      "cell_type": "markdown",
      "source": [
        "# Get the Displayed Value of Excel Cells that Have Applied Number Formats with Python"
      ],
      "metadata": {
        "id": "1xGstGlY-Wsg"
      }
    },
    {
      "cell_type": "code",
      "source": [
        "from spire.xls import *\n",
        "from spire.xls.common import *\n",
        "\n",
        "# Instantiate a Workbook object\n",
        "workbook = Workbook()\n",
        "# Load an Excel file\n",
        "workbook.LoadFromFile(\"ApplyNumberFormats.xlsx\")\n",
        "\n",
        "# Get the first worksheet\n",
        "sheet = workbook.Worksheets[0]\n",
        "\n",
        "# Get the displayed text of cell C2\n",
        "displayedText = sheet.Range[\"C2\"].DisplayedText\n",
        "print(displayedText)\n",
        "\n",
        "workbook.Dispose()"
      ],
      "metadata": {
        "id": "Dc1MDYt_-VZX"
      },
      "execution_count": 4,
      "outputs": []
    }
  ]
}