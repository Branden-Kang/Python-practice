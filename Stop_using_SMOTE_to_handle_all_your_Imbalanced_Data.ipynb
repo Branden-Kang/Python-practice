{
  "nbformat": 4,
  "nbformat_minor": 0,
  "metadata": {
    "colab": {
      "name": "Stop using SMOTE to handle all your Imbalanced Data.ipynb",
      "provenance": [],
      "authorship_tag": "ABX9TyPoxBmZ4qtxavGFU1dARJtm"
    },
    "kernelspec": {
      "name": "python3",
      "display_name": "Python 3"
    },
    "language_info": {
      "name": "python"
    }
  },
  "cells": [
    {
      "cell_type": "markdown",
      "metadata": {
        "id": "-x43I_7mIIia"
      },
      "source": [
        "[Reference](https://towardsdatascience.com/stop-using-smote-to-handle-all-your-imbalanced-data-34403399d3be)"
      ]
    },
    {
      "cell_type": "code",
      "metadata": {
        "id": "-juhlEd9HOQA"
      },
      "source": [
        "from imblearn.combine import SMOTETomek\n",
        "\n",
        "smt = SMOTETomek(random_state=42)\n",
        "X, y = smt.fit_sample(X, y)"
      ],
      "execution_count": 1,
      "outputs": []
    },
    {
      "cell_type": "code",
      "metadata": {
        "id": "51kkhkmqIDzq"
      },
      "source": [
        "from imblearn.combine import SMOTEENN\n",
        "\n",
        "smt = SMOTEENN(random_state=42)\n",
        "X, y = smt.fit_sample(X, y)"
      ],
      "execution_count": 2,
      "outputs": []
    }
  ]
}