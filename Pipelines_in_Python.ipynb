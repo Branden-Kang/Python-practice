{
  "nbformat": 4,
  "nbformat_minor": 0,
  "metadata": {
    "colab": {
      "provenance": [],
      "authorship_tag": "ABX9TyMHUJt+Lf4tEMv64dcHg01w"
    },
    "kernelspec": {
      "name": "python3",
      "display_name": "Python 3"
    },
    "language_info": {
      "name": "python"
    }
  },
  "cells": [
    {
      "cell_type": "markdown",
      "source": [
        "[Reference](https://medium.com/@ayush-thakur02/wait-what-are-pipelines-in-python-628f4b5021fd)"
      ],
      "metadata": {
        "id": "vrLxb0yRzL1D"
      }
    },
    {
      "cell_type": "code",
      "execution_count": 1,
      "metadata": {
        "colab": {
          "base_uri": "https://localhost:8080/"
        },
        "id": "pL4KY3AezBPb",
        "outputId": "eea54110-2836-4958-d06f-1964c921fc85"
      },
      "outputs": [
        {
          "output_type": "stream",
          "name": "stdout",
          "text": [
            "65.0\n"
          ]
        }
      ],
      "source": [
        "numbers = [1, 2, 3, 4, 5, 6, 7, 8, 9, 10]\n",
        "filtered = []\n",
        "for n in numbers:\n",
        "    if n % 2 == 0:\n",
        "        filtered.append(n)\n",
        "multiplied = []\n",
        "for n in filtered:\n",
        "    multiplied.append(n * 10)\n",
        "added = []\n",
        "for n in multiplied:\n",
        "    added.append(n + 5)\n",
        "total = 0\n",
        "count = 0\n",
        "for n in added:\n",
        "    total += n\n",
        "    count += 1\n",
        "average = total / count\n",
        "print(average)"
      ]
    },
    {
      "cell_type": "code",
      "source": [
        "numbers = [1, 2, 3, 4, 5, 6, 7, 8, 9, 10]\n",
        "average = sum(map(lambda n: n + 5, map(lambda n: n * 10, filter(lambda n: n % 2 == 0, numbers)))) / len(numbers)\n",
        "print(average)"
      ],
      "metadata": {
        "colab": {
          "base_uri": "https://localhost:8080/"
        },
        "id": "GcnVLmA4zO7P",
        "outputId": "05e37d79-9a72-43db-dcfa-02444fb3c211"
      },
      "execution_count": 2,
      "outputs": [
        {
          "output_type": "stream",
          "name": "stdout",
          "text": [
            "32.5\n"
          ]
        }
      ]
    },
    {
      "cell_type": "code",
      "source": [
        "from toolz import pipe\n",
        "numbers = [1, 2, 3, 4, 5, 6, 7, 8, 9, 10]\n",
        "average = pipe(numbers,\n",
        "               filter(lambda n: n % 2 == 0),\n",
        "               map(lambda n: n * 10),\n",
        "               map(lambda n: n + 5),\n",
        "               lambda x: sum(x) / len(x))\n",
        "print(average)"
      ],
      "metadata": {
        "id": "6EIOWwmRzRGU"
      },
      "execution_count": 10,
      "outputs": []
    }
  ]
}