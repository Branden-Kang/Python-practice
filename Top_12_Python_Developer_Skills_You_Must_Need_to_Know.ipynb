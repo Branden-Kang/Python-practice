{
  "nbformat": 4,
  "nbformat_minor": 0,
  "metadata": {
    "colab": {
      "name": "Top 12 Python Developer Skills You Must Need to Know.ipynb",
      "provenance": [],
      "authorship_tag": "ABX9TyOYDHvZZ92Q77AwtNgkFb0J"
    },
    "kernelspec": {
      "name": "python3",
      "display_name": "Python 3"
    }
  },
  "cells": [
    {
      "cell_type": "markdown",
      "metadata": {
        "id": "bce21OvaEheK"
      },
      "source": [
        "[Reference](https://towardsdatascience.com/top-12-python-developer-skills-you-must-need-to-know-9e2b6c7fc6c)"
      ]
    },
    {
      "cell_type": "markdown",
      "metadata": {
        "id": "Lwwi6VmOEuN9"
      },
      "source": [
        "# 1. Expertise In Core Python\n",
        "- Variables & Data Types\n",
        "- Data Structure\n",
        "- Exception Handling\n",
        "- File Handling\n",
        "- Object-Oriented Programming"
      ]
    },
    {
      "cell_type": "markdown",
      "metadata": {
        "id": "-KlJlIncFQOM"
      },
      "source": [
        "# 2. Python Frameworks\n",
        "Django, Flask, Web2Py, Bottle"
      ]
    },
    {
      "cell_type": "markdown",
      "metadata": {
        "id": "7MuI9w73FYGP"
      },
      "source": [
        "# 3. Python Libraries\n",
        "Python has one of the largest collections of libraries"
      ]
    },
    {
      "cell_type": "markdown",
      "metadata": {
        "id": "ByHJXHq9FaNP"
      },
      "source": [
        "# 4. Front-End Technologies Knowledge\n",
        "A decent knowledge of a handful of front-end technologies like JavaScript, CSS, and HTML will prove beneficial"
      ]
    },
    {
      "cell_type": "markdown",
      "metadata": {
        "id": "UNuR4pseFmp9"
      },
      "source": [
        "# 5. Machine Learning and AI\n",
        "As ML and AI are both highly in-demand technologies, a Python developer should dive into their foundational concepts and algorithms to get a clear understanding"
      ]
    },
    {
      "cell_type": "markdown",
      "metadata": {
        "id": "UEqAvKu7Fw21"
      },
      "source": [
        "# 6. Deep Learning\n",
        "- Recommendation Systems\n",
        "- Natural Language Processing\n",
        "- Image Recognition\n",
        "- Automatic Speech Recognition\n",
        "- Image Restoration\n",
        "- and much more"
      ]
    },
    {
      "cell_type": "markdown",
      "metadata": {
        "id": "DWwpjCmlH5HJ"
      },
      "source": [
        "# 7. Familiarity with ORM Libraries\n",
        "ORMs or Object-Relational Mappers are essentially a class of libraries that facilitates the transfer of data from a relational database to Python objects"
      ]
    },
    {
      "cell_type": "markdown",
      "metadata": {
        "id": "TDD4ASHVIEx3"
      },
      "source": [
        "# 8. Version Control\n",
        "There are a few top version control tools such as Git, Mercurial, Apache Subversion, and many more, but Git is the most favorite of them all"
      ]
    },
    {
      "cell_type": "markdown",
      "metadata": {
        "id": "A65paKkcII71"
      },
      "source": [
        "# 9. Understanding of Multi-Process Architecture\n",
        "While developing a web application, a Python developer must pick a development architecture or framework to separate the internal working of the application from the users"
      ]
    },
    {
      "cell_type": "markdown",
      "metadata": {
        "id": "3GD9SP_iIRwu"
      },
      "source": [
        "# 10. Communication Skills\n",
        "Clear communication with your team members can solve many problems and bring success to any organization"
      ]
    },
    {
      "cell_type": "markdown",
      "metadata": {
        "id": "3OE8se5pIVxY"
      },
      "source": [
        "# 11. Analytical Skills\n",
        "A developer working with any programming language should have strong analytical skills with a solid experience and a good understanding of the algorithms"
      ]
    },
    {
      "cell_type": "markdown",
      "metadata": {
        "id": "y-0UOfo0Iie-"
      },
      "source": [
        "# 12. Design Skills\n",
        "By design skills, we refer to designing highly scalable systems"
      ]
    }
  ]
}