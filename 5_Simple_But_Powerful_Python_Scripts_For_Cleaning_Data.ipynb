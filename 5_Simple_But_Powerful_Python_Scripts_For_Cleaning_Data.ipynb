{
  "nbformat": 4,
  "nbformat_minor": 0,
  "metadata": {
    "colab": {
      "provenance": [],
      "authorship_tag": "ABX9TyN2X2RB1l6yj9M+u/MSrYSx"
    },
    "kernelspec": {
      "name": "python3",
      "display_name": "Python 3"
    },
    "language_info": {
      "name": "python"
    }
  },
  "cells": [
    {
      "cell_type": "markdown",
      "source": [
        "[Reference](https://medium.com/@rlsteelman/5-simple-but-powerful-python-scripts-for-cleaning-data-5ba0bb75abe1)"
      ],
      "metadata": {
        "id": "hoboJVyx7O81"
      }
    },
    {
      "cell_type": "markdown",
      "source": [
        "# Converting PDF to CSV\n"
      ],
      "metadata": {
        "id": "PmFsqPKj7Rlk"
      }
    },
    {
      "cell_type": "code",
      "execution_count": 1,
      "metadata": {
        "id": "2Pf7HaDZ7Lg6"
      },
      "outputs": [],
      "source": [
        "# import tabula\n",
        "# # Grab the file\n",
        "# pdf_filename = input (\"Enter the full path and filename: \")\n",
        "# # Extract the contents of the PDF\n",
        "# frame = tabula.read_pdf(pdf_filename, spreadsheet = True, encoding = 'utf-8')\n",
        "# # Create a CSV file from the contents\n",
        "# frame.to_csv('pdf_conversion.csv')"
      ]
    },
    {
      "cell_type": "markdown",
      "source": [
        "# Merge CSV Files\n"
      ],
      "metadata": {
        "id": "HAjqh3yY7V8K"
      }
    },
    {
      "cell_type": "code",
      "source": [
        "# from time import strftime\n",
        "# import pandas as pd\n",
        "# import glob\n",
        "# # Define the path of the folder containing the CSV files\n",
        "# path = input('Please enter the full folder path: ')\n",
        "# # Make sure there is a trailing slash\n",
        "# if path[:-1] != \"/\":\n",
        "#     path = path + \"/\"\n",
        "# # Grab the CSV files as a list\n",
        "# csv_files = glob.glob(path + '*.csv')\n",
        "# # Open each CSV file and merge into a single file\n",
        "# merged_file = pd.concat( [ pd.read_csv(c) for c in csv_files ] )\n",
        "# # Create the new file\n",
        "# merged_file.to_csv(path + 'merged_{}.csv'.format(strftime(\"%m-%d-%yT%H:%M:%S\")), index=False)\n",
        "# print('Merge complete.')"
      ],
      "metadata": {
        "id": "MkHAonkC7U4N"
      },
      "execution_count": 2,
      "outputs": []
    },
    {
      "cell_type": "markdown",
      "source": [
        "# Delete Duplicate Rows From CSV Files\n"
      ],
      "metadata": {
        "id": "v2IM0gYc7Y5U"
      }
    },
    {
      "cell_type": "code",
      "source": [
        "# import pandas as pd\n",
        "# # Get the filename\n",
        "# filename = input('Please enter the full folder path and filename: ')\n",
        "# # Define the CSV column name you want to check for duplicates on\n",
        "# duplicate_header = input('Please enter the header name to check for duplicates: ')\n",
        "# # Get the contents of the file\n",
        "# file_contents = pd.read_csv(filename)\n",
        "# # Remove the duplicate rows\n",
        "# deduplicated_data = file_contents.drop_duplicates(subset=[duplicate_header], keep=\"last\", inplace=True)\n",
        "# # Create the new file\n",
        "# deduplicated_data.to_csv('deduplicated_data.csv')"
      ],
      "metadata": {
        "id": "6GVXkm6h7YHH"
      },
      "execution_count": 3,
      "outputs": []
    },
    {
      "cell_type": "markdown",
      "source": [
        "# Split a CSV Column\n"
      ],
      "metadata": {
        "id": "hij8KQov7bly"
      }
    },
    {
      "cell_type": "code",
      "source": [
        "# import pandas as pd\n",
        "# # Get the filename and define the columns\n",
        "# filename = input('Please enter the full folder path and filename: ')\n",
        "# col_to_split = input('Please enter the column name you want to split: ')\n",
        "# col_name_one = input('Name of first new column: ')\n",
        "# col_name_two = input('Name of second new column: ')\n",
        "# # Add the CSV data to a dataframe\n",
        "# df = pd.read_csv(filename)\n",
        "# # Split the column\n",
        "# df[[col_name_one,col_name_two]] = df[col_to_split].str.split(\",\", expand=True)\n",
        "# # Create the new file\n",
        "# df.to_csv('split_data.csv')"
      ],
      "metadata": {
        "id": "TADqNZo17aux"
      },
      "execution_count": 4,
      "outputs": []
    },
    {
      "cell_type": "markdown",
      "source": [
        "# Merging Different Datasets\n"
      ],
      "metadata": {
        "id": "Y-71NEDQ7es6"
      }
    },
    {
      "cell_type": "code",
      "source": [
        "# import pandas as pd\n",
        "# # Get the filenames and define user inputs\n",
        "# left_filename = input('Please enter the full LEFT folder path and filename: ')\n",
        "# right_filename = input('Please enter the full RIGHT folder path and filename: ')\n",
        "# join_type = input('Specify the join type (outer, inner, left, right): ')\n",
        "# join_column_name = input('What is the column name to join on (i.e. Account_ID): ')\n",
        "# # Read the files into dataframes\n",
        "# df_left = pd.read_csv(left_filename)\n",
        "# df_right = pd.read_csv(right_filename)\n",
        "# # Join the dataframes\n",
        "# joined_data = pd.merge(left = df_left, right = df_right, how = join_type, on = join_column_name)\n",
        "# # Create the new file\n",
        "# joined_data.to_csv('joined_data.csv')"
      ],
      "metadata": {
        "id": "9vj1_p1-7dmq"
      },
      "execution_count": 5,
      "outputs": []
    }
  ]
}