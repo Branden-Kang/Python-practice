{
  "nbformat": 4,
  "nbformat_minor": 0,
  "metadata": {
    "colab": {
      "provenance": [],
      "authorship_tag": "ABX9TyP9ebfRm/pH1GlhXkhoJpgl"
    },
    "kernelspec": {
      "name": "python3",
      "display_name": "Python 3"
    },
    "language_info": {
      "name": "python"
    }
  },
  "cells": [
    {
      "cell_type": "markdown",
      "source": [
        "[Reference](https://robertochiosa.medium.com/a-python-guide-to-compress-csv-data-into-parquet-8c797136aa38)"
      ],
      "metadata": {
        "id": "MsWkVmPS6bSM"
      }
    },
    {
      "cell_type": "code",
      "execution_count": 1,
      "metadata": {
        "id": "1Y91IzDB6Y4O"
      },
      "outputs": [],
      "source": [
        "# Step 1: First, you need to import the required Python libraries.\n",
        "import pandas as pd\n",
        "import pyarrow as pa\n",
        "import pyarrow.parquet as pq\n",
        "\n",
        "# Step 2: Use pandas to read the CSV file into a DataFrame.\n",
        "csv_file_path = \"./path/to/your/data.csv\"\n",
        "df = pd.read_csv(csv_file_path)\n",
        "\n",
        "# Step 3: Convert the DataFrame to a Parquet format using pyarrow.\n",
        "table = pa.Table.from_pandas(df)\n",
        "\n",
        "# Step 4: Save the Parquet file.\n",
        "parquet_file_path = \"./path/to/your/data.parquet\"\n",
        "pq.write_table(table, parquet_file_path)"
      ]
    }
  ]
}
