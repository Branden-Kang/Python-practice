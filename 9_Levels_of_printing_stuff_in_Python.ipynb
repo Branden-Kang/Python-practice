{
  "nbformat": 4,
  "nbformat_minor": 0,
  "metadata": {
    "colab": {
      "provenance": [],
      "authorship_tag": "ABX9TyNpvksL0JI2qoKKeYClGzpl"
    },
    "kernelspec": {
      "name": "python3",
      "display_name": "Python 3"
    },
    "language_info": {
      "name": "python"
    }
  },
  "cells": [
    {
      "cell_type": "markdown",
      "source": [
        "[Reference](https://python.plainenglish.io/9-levels-of-printing-stuff-in-python-6396bfd79ce2)"
      ],
      "metadata": {
        "id": "q7UDHKwNaFe9"
      }
    },
    {
      "cell_type": "code",
      "execution_count": 1,
      "metadata": {
        "colab": {
          "base_uri": "https://localhost:8080/"
        },
        "id": "dkVdDTFJZ3bQ",
        "outputId": "ddb25c33-b391-417d-9fe2-81905e99d973"
      },
      "outputs": [
        {
          "output_type": "stream",
          "name": "stdout",
          "text": [
            "hello\n"
          ]
        }
      ],
      "source": [
        "#1 Basic Print Function\n",
        "print('hello')"
      ]
    },
    {
      "cell_type": "code",
      "source": [
        "#2 Printing with Multiple Arguments\n",
        "print(\"apple\", \"orange\", \"pear\")"
      ],
      "metadata": {
        "colab": {
          "base_uri": "https://localhost:8080/"
        },
        "id": "dNOz6F7yaPTS",
        "outputId": "f3a0e219-365f-4465-f33d-fdc2b195e137"
      },
      "execution_count": 2,
      "outputs": [
        {
          "output_type": "stream",
          "name": "stdout",
          "text": [
            "apple orange pear\n"
          ]
        }
      ]
    },
    {
      "cell_type": "code",
      "source": [
        "#3 Print with the end argument\n",
        "print(\"apple\", end = \" \")\n",
        "print(\"apple\", end = \" \")\n",
        "print(\"apple\", end = \" \")"
      ],
      "metadata": {
        "colab": {
          "base_uri": "https://localhost:8080/"
        },
        "id": "CwsaV2T9aUxd",
        "outputId": "9a13139c-f35f-41ab-d63d-386835f6da5a"
      },
      "execution_count": 3,
      "outputs": [
        {
          "output_type": "stream",
          "name": "stdout",
          "text": [
            "apple apple apple "
          ]
        }
      ]
    },
    {
      "cell_type": "code",
      "source": [
        "#3 Print with the end argument\n",
        "print(\"apple\", end = \";\")\n",
        "print(\"apple\", end = \"!!\")\n",
        "print(\"apple\", end = \"end\")"
      ],
      "metadata": {
        "colab": {
          "base_uri": "https://localhost:8080/"
        },
        "id": "aNbTJvrSadV9",
        "outputId": "28a150ad-72ca-43b9-e41e-fae87c80bf10"
      },
      "execution_count": 4,
      "outputs": [
        {
          "output_type": "stream",
          "name": "stdout",
          "text": [
            "apple;apple!!appleend"
          ]
        }
      ]
    },
    {
      "cell_type": "code",
      "source": [
        "#4 Print with the Separator Argument\n",
        "print(1, 2, 3)\n",
        "print(1, 2, 3, sep=\";\")\n",
        "print(1, 2, 3, sep=\"#\")\n",
        "print(1, 2, 3, sep=\"4\")"
      ],
      "metadata": {
        "colab": {
          "base_uri": "https://localhost:8080/"
        },
        "id": "Rfh-zhavahI9",
        "outputId": "989b34f6-ee0d-4efc-a909-f8d11bd90f14"
      },
      "execution_count": 5,
      "outputs": [
        {
          "output_type": "stream",
          "name": "stdout",
          "text": [
            "1 2 3\n",
            "1;2;3\n",
            "1#2#3\n",
            "14243\n"
          ]
        }
      ]
    },
    {
      "cell_type": "code",
      "source": [
        "#5 Pretty Printing with pprint\n",
        "data = [\n",
        "    [[1,2,3],[1,2,3],[1,2,3]],\n",
        "    [[4,5,6],[4,5,6],[4,5,6]],\n",
        "    [[7,8,9],[7,8,9],[7,8,9]]\n",
        "]"
      ],
      "metadata": {
        "id": "M3w3CKzUauMt"
      },
      "execution_count": 6,
      "outputs": []
    },
    {
      "cell_type": "code",
      "source": [
        "from pprint import pprint\n",
        "pprint(data)"
      ],
      "metadata": {
        "colab": {
          "base_uri": "https://localhost:8080/"
        },
        "id": "gsGqgCvpbA5V",
        "outputId": "4802ab64-4eed-49ca-b242-47c49ff85546"
      },
      "execution_count": 7,
      "outputs": [
        {
          "output_type": "stream",
          "name": "stdout",
          "text": [
            "[[[1, 2, 3], [1, 2, 3], [1, 2, 3]],\n",
            " [[4, 5, 6], [4, 5, 6], [4, 5, 6]],\n",
            " [[7, 8, 9], [7, 8, 9], [7, 8, 9]]]\n"
          ]
        }
      ]
    },
    {
      "cell_type": "code",
      "source": [
        "#6 Pretty printing with the indent argument\n",
        "from pprint import pprint\n",
        "pprint(data, indent=4)"
      ],
      "metadata": {
        "colab": {
          "base_uri": "https://localhost:8080/"
        },
        "id": "HwtgMzM3bEy9",
        "outputId": "7ab20482-4254-4f4d-b035-bf719f73ba86"
      },
      "execution_count": 8,
      "outputs": [
        {
          "output_type": "stream",
          "name": "stdout",
          "text": [
            "[   [[1, 2, 3], [1, 2, 3], [1, 2, 3]],\n",
            "    [[4, 5, 6], [4, 5, 6], [4, 5, 6]],\n",
            "    [[7, 8, 9], [7, 8, 9], [7, 8, 9]]]\n"
          ]
        }
      ]
    },
    {
      "cell_type": "code",
      "source": [
        "#7 Printing in color using Colorama\n",
        "!pip install colorama\n",
        "from colorama import Fore\n",
        "print(Fore.RED + \"hello world\")\n",
        "print(Fore.BLUE + \"hello world\")\n",
        "print(Fore.GREEN + \"hello world\")"
      ],
      "metadata": {
        "colab": {
          "base_uri": "https://localhost:8080/"
        },
        "id": "MghpxIykbNWt",
        "outputId": "3dbfc47e-99dc-4a67-9904-9812aa90b5f7"
      },
      "execution_count": 9,
      "outputs": [
        {
          "output_type": "stream",
          "name": "stdout",
          "text": [
            "Looking in indexes: https://pypi.org/simple, https://us-python.pkg.dev/colab-wheels/public/simple/\n",
            "Collecting colorama\n",
            "  Downloading colorama-0.4.6-py2.py3-none-any.whl (25 kB)\n",
            "Installing collected packages: colorama\n",
            "Successfully installed colorama-0.4.6\n",
            "\u001b[31mhello world\n",
            "\u001b[34mhello world\n",
            "\u001b[32mhello world\n"
          ]
        }
      ]
    },
    {
      "cell_type": "code",
      "source": [
        "#8 Printing to a file\n",
        "print(\"hello\", file=open(\"out.txt\",\"w\"))"
      ],
      "metadata": {
        "id": "L74gsebxbcdX"
      },
      "execution_count": 10,
      "outputs": []
    },
    {
      "cell_type": "code",
      "source": [
        "# #9 Writing all printed output to a file\n",
        "# print(\"hello world\")\n",
        "# print(\"apple\")\n",
        "# print(\"orange\")\n",
        "# print(\"pear\")\n",
        "\n",
        "# python run.py > out.txt"
      ],
      "metadata": {
        "id": "FvIBQQbrblb3"
      },
      "execution_count": 11,
      "outputs": []
    }
  ]
}