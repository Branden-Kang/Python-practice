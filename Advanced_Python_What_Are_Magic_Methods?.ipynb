{
  "nbformat": 4,
  "nbformat_minor": 0,
  "metadata": {
    "colab": {
      "name": "Advanced Python: What Are Magic Methods?.ipynb",
      "provenance": [],
      "authorship_tag": "ABX9TyNYa1NlU6xVvWWHjXqISKmL"
    },
    "kernelspec": {
      "name": "python3",
      "display_name": "Python 3"
    }
  },
  "cells": [
    {
      "cell_type": "markdown",
      "metadata": {
        "id": "2W88IMlnG098"
      },
      "source": [
        "[Reference](https://medium.com/fintechexplained/advanced-python-what-are-magic-methods-d21891cf9a08)"
      ]
    },
    {
      "cell_type": "code",
      "metadata": {
        "id": "gOvnfOxIFjoY"
      },
      "source": [
        "class Human:\n",
        "    def __init__(self, id, name, addresses=[], maps={}):\n",
        "        self.id = id\n",
        "        self.name = name\n",
        "        self.addresses = addresses\n",
        "        self.maps = maps\n",
        "        \n",
        "human = Human(1, 'Farhad', ['Address1', 'Address1'], {'London':2, 'UK':3})"
      ],
      "execution_count": 1,
      "outputs": []
    },
    {
      "cell_type": "code",
      "metadata": {
        "id": "v2cK3XoiFy6Y"
      },
      "source": [
        "def __delattr__(self, item):\n",
        "    print('Deleting attribute ' + item)\n",
        "    return object.__delattr__(self, item)"
      ],
      "execution_count": 3,
      "outputs": []
    },
    {
      "cell_type": "code",
      "metadata": {
        "id": "vcw9Ei40F18V"
      },
      "source": [
        "# del first.name\n",
        "# print(first.name)\n",
        "# #Returns Deleting attribute name\n",
        "\n",
        "# print(first.name)"
      ],
      "execution_count": 6,
      "outputs": []
    },
    {
      "cell_type": "code",
      "metadata": {
        "id": "hlrpxbppFnoD",
        "outputId": "cffb4252-8caf-4319-b028-a31e4f77ac67",
        "colab": {
          "base_uri": "https://localhost:8080/"
        }
      },
      "source": [
        "human = Human(2, 'Malik').__dict__\n",
        "print(human)"
      ],
      "execution_count": 2,
      "outputs": [
        {
          "output_type": "stream",
          "text": [
            "{'id': 2, 'name': 'Malik', 'addresses': [], 'maps': {}}\n"
          ],
          "name": "stdout"
        }
      ]
    },
    {
      "cell_type": "code",
      "metadata": {
        "id": "5bFFpJiiFvnZ",
        "outputId": "a7d0a16b-6e89-4bd4-c8e9-505babcd8906",
        "colab": {
          "base_uri": "https://localhost:8080/"
        }
      },
      "source": [
        "def __dir__(self):\n",
        "    return list(filter(lambda x: not x.startswith('_'), object.__dir__(self)))\n",
        "    \n",
        "print(dir(human))"
      ],
      "execution_count": 7,
      "outputs": [
        {
          "output_type": "stream",
          "text": [
            "['__class__', '__contains__', '__delattr__', '__delitem__', '__dir__', '__doc__', '__eq__', '__format__', '__ge__', '__getattribute__', '__getitem__', '__gt__', '__hash__', '__init__', '__init_subclass__', '__iter__', '__le__', '__len__', '__lt__', '__ne__', '__new__', '__reduce__', '__reduce_ex__', '__repr__', '__setattr__', '__setitem__', '__sizeof__', '__str__', '__subclasshook__', 'clear', 'copy', 'fromkeys', 'get', 'items', 'keys', 'pop', 'popitem', 'setdefault', 'update', 'values']\n"
          ],
          "name": "stdout"
        }
      ]
    },
    {
      "cell_type": "code",
      "metadata": {
        "id": "wMJKu0KnGAF3"
      },
      "source": [
        "def __eq__(self, other):\n",
        "    return self.id == other.id"
      ],
      "execution_count": 8,
      "outputs": []
    },
    {
      "cell_type": "code",
      "metadata": {
        "id": "q1BR2ROZGBvE",
        "outputId": "eaa638d7-4263-4b49-c916-ab3a9dd70a1c",
        "colab": {
          "base_uri": "https://localhost:8080/"
        }
      },
      "source": [
        "first = Human(1, 'Farhad')\n",
        "second = Human(1, 'Malik')\n",
        "print(first == second)"
      ],
      "execution_count": 9,
      "outputs": [
        {
          "output_type": "stream",
          "text": [
            "False\n"
          ],
          "name": "stdout"
        }
      ]
    },
    {
      "cell_type": "code",
      "metadata": {
        "id": "9uyiNt5NGCu4"
      },
      "source": [
        "first = Human(1, 'Farhad')\n",
        "second = Human(2, 'Malik')"
      ],
      "execution_count": 10,
      "outputs": []
    },
    {
      "cell_type": "code",
      "metadata": {
        "id": "Wo5hlo4aGE8u"
      },
      "source": [
        "def __ge__(self, other):\n",
        "    return self.id >= other.id"
      ],
      "execution_count": 11,
      "outputs": []
    },
    {
      "cell_type": "code",
      "metadata": {
        "id": "hkuIJy0AGGS4"
      },
      "source": [
        "# print(first >= second)"
      ],
      "execution_count": 13,
      "outputs": []
    },
    {
      "cell_type": "code",
      "metadata": {
        "id": "aE2TEtrKGHgi"
      },
      "source": [
        "def __hash__(self):\n",
        "    return self.id"
      ],
      "execution_count": 14,
      "outputs": []
    },
    {
      "cell_type": "code",
      "metadata": {
        "id": "czo6o57RGKg8",
        "outputId": "576cbf64-75ed-4e0b-e01a-1beee97c99e6",
        "colab": {
          "base_uri": "https://localhost:8080/"
        }
      },
      "source": [
        "first = Human(1, 'Farhad')\n",
        "second = Human(2, 'Malik')\n",
        "my_set = set([first, second])\n",
        "print(len(my_set))"
      ],
      "execution_count": 15,
      "outputs": [
        {
          "output_type": "stream",
          "text": [
            "2\n"
          ],
          "name": "stdout"
        }
      ]
    },
    {
      "cell_type": "code",
      "metadata": {
        "id": "RVlmZPuyGNyT"
      },
      "source": [
        "human = Human(1, 'farhad')"
      ],
      "execution_count": 16,
      "outputs": []
    },
    {
      "cell_type": "code",
      "metadata": {
        "id": "9HB5sJESGQ9m"
      },
      "source": [
        "def __init__(self, id, name, addresses=[], maps={}):\n",
        "        self.id = id\n",
        "        self.name = name\n",
        "        self.addresses = addresses\n",
        "        self.maps = maps"
      ],
      "execution_count": 17,
      "outputs": []
    },
    {
      "cell_type": "code",
      "metadata": {
        "id": "ieTa0aHLGSFM",
        "outputId": "7c740c0c-69c2-43a7-edc5-7ca774c964c9",
        "colab": {
          "base_uri": "https://localhost:8080/"
        }
      },
      "source": [
        "class Human:\n",
        "    def __init__(self, id, name, addresses=[], maps={}):\n",
        "        self.id = id\n",
        "        self.name = name\n",
        "        self.addresses = addresses\n",
        "        self.maps = maps\n",
        "        \n",
        "    def __str__(self):\n",
        "        return f'id={self.id}. name={self.name}'\n",
        "\n",
        "human = Human(1, 'Farhad', ['Address1', 'Address1'], {'London':2, 'UK':3})\n",
        "print(human)"
      ],
      "execution_count": 19,
      "outputs": [
        {
          "output_type": "stream",
          "text": [
            "id=1. name=Farhad\n"
          ],
          "name": "stdout"
        }
      ]
    },
    {
      "cell_type": "code",
      "metadata": {
        "id": "bYAqAI6XGU52"
      },
      "source": [
        "# print(len(list(filter(lambda x: x.startswith('__') and x.endswith('__'), dir(human1.id)))))"
      ],
      "execution_count": 21,
      "outputs": []
    },
    {
      "cell_type": "code",
      "metadata": {
        "id": "74kDU-M7Gaxg",
        "outputId": "e3b90784-eafc-47a2-b196-e6bafc50d3de",
        "colab": {
          "base_uri": "https://localhost:8080/"
        }
      },
      "source": [
        "first = Human(1, 'Farhad')\n",
        "print(~first.id)"
      ],
      "execution_count": 22,
      "outputs": [
        {
          "output_type": "stream",
          "text": [
            "-2\n"
          ],
          "name": "stdout"
        }
      ]
    },
    {
      "cell_type": "code",
      "metadata": {
        "id": "yX9Z00yqGfPL",
        "outputId": "086a17b3-4b2c-44f3-f1b3-df28483036c1",
        "colab": {
          "base_uri": "https://localhost:8080/"
        }
      },
      "source": [
        "first = Human(1, 'Farhad')\n",
        "print(first.id.__invert__())"
      ],
      "execution_count": 23,
      "outputs": [
        {
          "output_type": "stream",
          "text": [
            "-2\n"
          ],
          "name": "stdout"
        }
      ]
    },
    {
      "cell_type": "code",
      "metadata": {
        "id": "0vY9o_0TGgTO",
        "outputId": "67b74acd-b1b5-4662-eaa3-ec251001f33f",
        "colab": {
          "base_uri": "https://localhost:8080/"
        }
      },
      "source": [
        "print(len(list(filter(lambda x: x.startswith('__') and x.endswith('__'), dir(human.name)))))"
      ],
      "execution_count": 25,
      "outputs": [
        {
          "output_type": "stream",
          "text": [
            "33\n"
          ],
          "name": "stdout"
        }
      ]
    },
    {
      "cell_type": "code",
      "metadata": {
        "id": "-FhyVvrbGihU",
        "outputId": "bf07ef67-dc58-4cb4-b10d-d94707402b7f",
        "colab": {
          "base_uri": "https://localhost:8080/"
        }
      },
      "source": [
        "def __repr__(self):\n",
        "    return f'id={self.id} ({type(self.id)}). name={self.name} ({type(self.name)})'\n",
        "    \n",
        "print(Human(1, 'Farhad'))"
      ],
      "execution_count": 26,
      "outputs": [
        {
          "output_type": "stream",
          "text": [
            "id=1. name=Farhad\n"
          ],
          "name": "stdout"
        }
      ]
    },
    {
      "cell_type": "code",
      "metadata": {
        "id": "cclZVvtYGnWT",
        "outputId": "6176b448-fcfd-4854-dcd6-b94c9d26a5bb",
        "colab": {
          "base_uri": "https://localhost:8080/"
        }
      },
      "source": [
        "print(len(list(filter(lambda x: x.startswith('__') and x.endswith('__'), dir(human.addresses)))))"
      ],
      "execution_count": 28,
      "outputs": [
        {
          "output_type": "stream",
          "text": [
            "35\n"
          ],
          "name": "stdout"
        }
      ]
    },
    {
      "cell_type": "code",
      "metadata": {
        "id": "-_EFIAJ1Gqrs",
        "outputId": "cfbf1e64-8a09-4177-9989-96eb8c3d0eed",
        "colab": {
          "base_uri": "https://localhost:8080/"
        }
      },
      "source": [
        "print(len(list(filter(lambda x: x.startswith('__') and x.endswith('__'), dir(human.maps)))))"
      ],
      "execution_count": 29,
      "outputs": [
        {
          "output_type": "stream",
          "text": [
            "29\n"
          ],
          "name": "stdout"
        }
      ]
    }
  ]
}