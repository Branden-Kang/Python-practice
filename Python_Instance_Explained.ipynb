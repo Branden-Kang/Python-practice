{
  "nbformat": 4,
  "nbformat_minor": 0,
  "metadata": {
    "colab": {
      "provenance": [],
      "authorship_tag": "ABX9TyNT0xuSQ5Pd3nr0cK/SuyeO"
    },
    "kernelspec": {
      "name": "python3",
      "display_name": "Python 3"
    },
    "language_info": {
      "name": "python"
    }
  },
  "cells": [
    {
      "cell_type": "markdown",
      "source": [
        "[Reference](https://medium.com/@techclaw/python-instance-explained-879800faa96d)"
      ],
      "metadata": {
        "id": "WkuQ1jnI-7v8"
      }
    },
    {
      "cell_type": "code",
      "execution_count": 1,
      "metadata": {
        "id": "jrvxKnVt-034"
      },
      "outputs": [],
      "source": [
        "class Person:\n",
        "    def __init__(self, name, age):\n",
        "        self.name = name\n",
        "        self.age = age"
      ]
    },
    {
      "cell_type": "code",
      "source": [
        "# Creating instances of the Person class\n",
        "person1 = Person(\"Alice\", 30)\n",
        "person2 = Person(\"Bob\", 25)"
      ],
      "metadata": {
        "id": "goV8zMZo-_X2"
      },
      "execution_count": 2,
      "outputs": []
    },
    {
      "cell_type": "code",
      "source": [
        "class Car:\n",
        "    def __init__(self, make, model):\n",
        "        self.make = make\n",
        "        self.model = model\n",
        "    def start_engine(self):\n",
        "        return f\"The {self.make} {self.model}'s engine is now running.\"\n",
        "\n",
        "# Creating an instance of the Car class\n",
        "my_car = Car(\"Toyota\", \"Corolla\")\n",
        "# Accessing instance attributes\n",
        "print(my_car.make)  # Output: Toyota\n",
        "# Calling instance methods\n",
        "print(my_car.start_engine())  # Output: The Toyota Corolla's engine is now running."
      ],
      "metadata": {
        "colab": {
          "base_uri": "https://localhost:8080/"
        },
        "id": "xMwp47cJ-_lB",
        "outputId": "512aee31-6cd8-42a3-8379-9664594dcd9f"
      },
      "execution_count": 3,
      "outputs": [
        {
          "output_type": "stream",
          "name": "stdout",
          "text": [
            "Toyota\n",
            "The Toyota Corolla's engine is now running.\n"
          ]
        }
      ]
    },
    {
      "cell_type": "code",
      "source": [
        "class Circle:\n",
        "    def __init__(self, radius):\n",
        "        self.radius = radius\n",
        "        self.area = 3.14 * radius * radius\n",
        "\n",
        "# Creating an instance of the Circle class\n",
        "circle1 = Circle(5)\n",
        "# Accessing instance attributes\n",
        "print(circle1.radius)  # Output: 5\n",
        "# Calculating the area using instance attributes\n",
        "print(circle1.area)  # Output: 78.5"
      ],
      "metadata": {
        "colab": {
          "base_uri": "https://localhost:8080/"
        },
        "id": "e2eD8LPg_DDE",
        "outputId": "67ed8927-04ef-4de3-cf95-f94140718561"
      },
      "execution_count": 4,
      "outputs": [
        {
          "output_type": "stream",
          "name": "stdout",
          "text": [
            "5\n",
            "78.5\n"
          ]
        }
      ]
    },
    {
      "cell_type": "code",
      "source": [
        "class Student:\n",
        "    def __init__(self, name, age):\n",
        "        self.name = name\n",
        "        self.age = age\n",
        "    def introduce(self):\n",
        "        return f\"Hi, I am {self.name}, and I am {self.age} years old.\"\n",
        "\n",
        "# Creating an instance of the Student class\n",
        "student1 = Student(\"John\", 20)\n",
        "# Calling the introduce method\n",
        "print(student1.introduce())  # Output: Hi, I am John, and I am 20 years old."
      ],
      "metadata": {
        "colab": {
          "base_uri": "https://localhost:8080/"
        },
        "id": "qWmWZ49X_FNS",
        "outputId": "b07394f8-776c-4828-a0f1-43f21a6c15d3"
      },
      "execution_count": 5,
      "outputs": [
        {
          "output_type": "stream",
          "name": "stdout",
          "text": [
            "Hi, I am John, and I am 20 years old.\n"
          ]
        }
      ]
    },
    {
      "cell_type": "code",
      "source": [
        "class BankAccount:\n",
        "    def __init__(self, account_number, balance):\n",
        "        self.account_number = account_number\n",
        "        self._balance = balance  # Protected attribute\n",
        "    def _deduct_balance(self, amount):  # Protected method\n",
        "        self._balance -= amount\n",
        "    def show_balance(self):  # Public method\n",
        "        return f\"Account Number: {self.account_number}, Balance: ${self._balance}\"\n",
        "\n",
        "# Creating an instance of the BankAccount class\n",
        "account1 = BankAccount(\"12345\", 1000)\n",
        "# Accessing public and protected attributes/methods\n",
        "print(account1.show_balance())  # Output: Account Number: 12345, Balance: $1000\n",
        "account1._deduct_balance(200)  # Deducting $200 from the balance\n",
        "print(account1.show_balance())  # Output: Account Number: 12345, Balance: $800"
      ],
      "metadata": {
        "colab": {
          "base_uri": "https://localhost:8080/"
        },
        "id": "6JK27lak_IWO",
        "outputId": "3343fd97-2518-44e2-d61a-b8d662701a96"
      },
      "execution_count": 6,
      "outputs": [
        {
          "output_type": "stream",
          "name": "stdout",
          "text": [
            "Account Number: 12345, Balance: $1000\n",
            "Account Number: 12345, Balance: $800\n"
          ]
        }
      ]
    },
    {
      "cell_type": "code",
      "source": [
        "class Animal:\n",
        "    def __init__(self, species):\n",
        "        self.species = species\n",
        "    def make_sound(self):\n",
        "        return \"Some generic animal sound.\"\n",
        "class Dog(Animal):\n",
        "    def __init__(self, breed):\n",
        "        super().__init__(\"Dog\")\n",
        "        self.breed = breed\n",
        "    def make_sound(self):\n",
        "        return \"Woof!\"\n",
        "# Creating instances of the Dog class\n",
        "dog1 = Dog(\"Labrador\")\n",
        "dog2 = Dog(\"Poodle\")\n",
        "# Accessing attributes/methods from both classes\n",
        "print(dog1.species)  # Output: Dog\n",
        "print(dog1.make_sound())  # Output: Woof!\n",
        "print(dog2.species)  # Output: Dog\n",
        "print(dog2.make_sound())  # Output: Woof!"
      ],
      "metadata": {
        "colab": {
          "base_uri": "https://localhost:8080/"
        },
        "id": "acxq_bnN_LKn",
        "outputId": "75345e65-df3f-4897-e1c5-f51b4c7998c7"
      },
      "execution_count": 7,
      "outputs": [
        {
          "output_type": "stream",
          "name": "stdout",
          "text": [
            "Dog\n",
            "Woof!\n",
            "Dog\n",
            "Woof!\n"
          ]
        }
      ]
    },
    {
      "cell_type": "code",
      "source": [
        "class Shape:\n",
        "    def calculate_area(self):\n",
        "        pass\n",
        "class Square(Shape):\n",
        "    def __init__(self, side):\n",
        "        self.side = side\n",
        "    def calculate_area(self):\n",
        "        return self.side * self.side\n",
        "class Circle(Shape):\n",
        "    def __init__(self, radius):\n",
        "        self.radius = radius\n",
        "    def calculate_area(self):\n",
        "        return 3.14 * self.radius * self.radius\n",
        "# Creating instances of the Square and Circle classes\n",
        "square1 = Square(5)\n",
        "circle1 = Circle(3)\n",
        "# Calculating areas using polymorphism\n",
        "print(square1.calculate_area())  # Output: 25\n",
        "print(circle1.calculate_area())  # Output: 28.26"
      ],
      "metadata": {
        "colab": {
          "base_uri": "https://localhost:8080/"
        },
        "id": "IF5CfihG_OS_",
        "outputId": "1ee6f87c-f4c3-4169-ca29-80e9cdb480ca"
      },
      "execution_count": 8,
      "outputs": [
        {
          "output_type": "stream",
          "name": "stdout",
          "text": [
            "25\n",
            "28.259999999999998\n"
          ]
        }
      ]
    },
    {
      "cell_type": "code",
      "source": [
        "class BankAccount:\n",
        "    def __init__(self, account_number, balance):\n",
        "        self._account_number = account_number\n",
        "        self._balance = balance\n",
        "    def deposit(self, amount):\n",
        "        self._balance += amount\n",
        "    def withdraw(self, amount):\n",
        "        if self._balance >= amount:\n",
        "            self._balance -= amount\n",
        "            return True\n",
        "        else:\n",
        "            return False\n",
        "    def get_balance(self):\n",
        "        return self._balance\n",
        "# Creating an instance of the BankAccount class\n",
        "account1 = BankAccount(\"12345\", 1000)\n",
        "# Using methods to access and modify attributes\n",
        "account1.deposit(500)\n",
        "print(account1.get_balance())  # Output: 1500\n",
        "account1.withdraw(2000)\n",
        "print(account1.get_balance())  # Output: 1500 (Insufficient balance, withdrawal failed)"
      ],
      "metadata": {
        "colab": {
          "base_uri": "https://localhost:8080/"
        },
        "id": "vptRUuTZ_RXi",
        "outputId": "f55c3f0d-e676-4166-df87-271a86f1e3cf"
      },
      "execution_count": 9,
      "outputs": [
        {
          "output_type": "stream",
          "name": "stdout",
          "text": [
            "1500\n",
            "1500\n"
          ]
        }
      ]
    },
    {
      "cell_type": "code",
      "source": [
        "class Animal:\n",
        "    def make_sound(self):\n",
        "        return \"Some generic animal sound.\"\n",
        "\n",
        "class Cat(Animal):\n",
        "    def make_sound(self):\n",
        "        return \"Meow!\"\n",
        "# Creating instances of the Animal and Cat classes\n",
        "animal1 = Animal()\n",
        "cat1 = Cat()\n",
        "# Using method overriding\n",
        "print(animal1.make_sound())  # Output: Some generic animal sound.\n",
        "print(cat1.make_sound())  # Output: Meow!"
      ],
      "metadata": {
        "colab": {
          "base_uri": "https://localhost:8080/"
        },
        "id": "8kvNLcIP_a4o",
        "outputId": "af0981d2-769a-4330-d030-2eab3f46738a"
      },
      "execution_count": 10,
      "outputs": [
        {
          "output_type": "stream",
          "name": "stdout",
          "text": [
            "Some generic animal sound.\n",
            "Meow!\n"
          ]
        }
      ]
    },
    {
      "cell_type": "code",
      "source": [
        "class Circle:\n",
        "    # Class variable\n",
        "    pi = 3.14\n",
        "    def __init__(self, radius):\n",
        "        # Instance variable\n",
        "        self.radius = radius\n",
        "    def calculate_area(self):\n",
        "        return Circle.pi * self.radius * self.radius\n",
        "# Creating instances of the Circle class\n",
        "circle1 = Circle(5)\n",
        "circle2 = Circle(3)\n",
        "# Accessing class and instance variables\n",
        "print(circle1.calculate_area())  # Output: 78.5\n",
        "print(circle2.calculate_area())  # Output: 28.26"
      ],
      "metadata": {
        "colab": {
          "base_uri": "https://localhost:8080/"
        },
        "id": "vsbSYzKh_da4",
        "outputId": "41625b38-4ed2-453c-8ad0-4669e59c38e8"
      },
      "execution_count": 11,
      "outputs": [
        {
          "output_type": "stream",
          "name": "stdout",
          "text": [
            "78.5\n",
            "28.259999999999998\n"
          ]
        }
      ]
    },
    {
      "cell_type": "code",
      "source": [
        "class MyClass:\n",
        "    class_variable = 10\n",
        "    def __init__(self, instance_variable):\n",
        "        self.instance_variable = instance_variable\n",
        "    def instance_method(self):\n",
        "        return f\"Instance variable value: {self.instance_variable}\"\n",
        "    @classmethod\n",
        "    def class_method(cls):\n",
        "        return f\"Class variable value: {cls.class_variable}\"\n",
        "# Creating an instance of the MyClass class\n",
        "my_instance = MyClass(20)\n",
        "# Using instance and class methods\n",
        "print(my_instance.instance_method())  # Output: Instance variable value: 20\n",
        "print(MyClass.class_method())  # Output: Class variable value: 10"
      ],
      "metadata": {
        "colab": {
          "base_uri": "https://localhost:8080/"
        },
        "id": "cmMT89jT_gva",
        "outputId": "63191d7d-484a-4c65-be5c-99be240b50d0"
      },
      "execution_count": 12,
      "outputs": [
        {
          "output_type": "stream",
          "name": "stdout",
          "text": [
            "Instance variable value: 20\n",
            "Class variable value: 10\n"
          ]
        }
      ]
    },
    {
      "cell_type": "code",
      "source": [
        "class Singleton:\n",
        "    _instance = None\n",
        "    def __new__(cls):\n",
        "        if cls._instance is None:\n",
        "            cls._instance = super().__new__(cls)\n",
        "        return cls._instance\n",
        "# Creating instances of the Singleton class\n",
        "singleton1 = Singleton()\n",
        "singleton2 = Singleton()\n",
        "# Both instances are the same\n",
        "print(singleton1 == singleton2)  # Output: True"
      ],
      "metadata": {
        "colab": {
          "base_uri": "https://localhost:8080/"
        },
        "id": "oaXtE2eB_j7v",
        "outputId": "ad1f2082-8287-4b39-cb21-e597993f76b7"
      },
      "execution_count": 13,
      "outputs": [
        {
          "output_type": "stream",
          "name": "stdout",
          "text": [
            "True\n"
          ]
        }
      ]
    }
  ]
}