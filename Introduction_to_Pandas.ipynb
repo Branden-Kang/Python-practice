{
  "nbformat": 4,
  "nbformat_minor": 0,
  "metadata": {
    "colab": {
      "name": "Introduction to Pandas.ipynb",
      "provenance": [],
      "authorship_tag": "ABX9TyP6wrAFGN4oN/rJhb3PeFJN"
    },
    "kernelspec": {
      "name": "python3",
      "display_name": "Python 3"
    }
  },
  "cells": [
    {
      "cell_type": "markdown",
      "metadata": {
        "id": "IefUAYHk_Q9H"
      },
      "source": [
        "[Reference](https://levelup.gitconnected.com/introducing-pandas-e0581a6683c9)"
      ]
    },
    {
      "cell_type": "markdown",
      "metadata": {
        "id": "fK7wsu7R_YxR"
      },
      "source": [
        "# Installing Pandas"
      ]
    },
    {
      "cell_type": "code",
      "metadata": {
        "id": "Pg8uEFOj_N7o"
      },
      "source": [
        "# jupyter cell\n",
        "!pip install pandas\n",
        "\n",
        "Terminal\n",
        "pip install pandas"
      ],
      "execution_count": 1,
      "outputs": []
    },
    {
      "cell_type": "markdown",
      "metadata": {
        "id": "fSeSe3mc_aPh"
      },
      "source": [
        "# Importing"
      ]
    },
    {
      "cell_type": "code",
      "metadata": {
        "id": "wjz3yg-r_ZJG"
      },
      "source": [
        "import pandas as pd"
      ],
      "execution_count": 2,
      "outputs": []
    },
    {
      "cell_type": "markdown",
      "metadata": {
        "id": "JRErXOaB_fm9"
      },
      "source": [
        "# Reading Data Files\n",
        "\n",
        "## CSV"
      ]
    },
    {
      "cell_type": "code",
      "metadata": {
        "id": "6AUQpC2g_b0b"
      },
      "source": [
        "df = pd.read_csv('file_path.csv', sep='separator character')\n",
        "df = pd.read_csv('sales_202005.csv', sep=';')"
      ],
      "execution_count": 3,
      "outputs": []
    },
    {
      "cell_type": "markdown",
      "metadata": {
        "id": "Ep3-XOPV_m0J"
      },
      "source": [
        "## Excel"
      ]
    },
    {
      "cell_type": "code",
      "metadata": {
        "id": "BQUN1ZjC_iTa"
      },
      "source": [
        "df = pd.read_excel('file_path.xlsx', sheet_name='')\n",
        "df = pd.read_excel('sales_202005.xlsx', sheet_name='Jan')"
      ],
      "execution_count": 4,
      "outputs": []
    },
    {
      "cell_type": "markdown",
      "metadata": {
        "id": "TFqLBeYO_qz7"
      },
      "source": [
        "# Show Data\n",
        "\n",
        "## Head"
      ]
    },
    {
      "cell_type": "code",
      "metadata": {
        "id": "zi0QXda7_paA"
      },
      "source": [
        "df.head()"
      ],
      "execution_count": 5,
      "outputs": []
    },
    {
      "cell_type": "markdown",
      "metadata": {
        "id": "lcdMDwud_tpd"
      },
      "source": [
        "## T (Transposition)"
      ]
    },
    {
      "cell_type": "code",
      "metadata": {
        "id": "boNO3Dxg_uMB"
      },
      "source": [
        "df.T"
      ],
      "execution_count": 6,
      "outputs": []
    },
    {
      "cell_type": "markdown",
      "metadata": {
        "id": "sTonrO_1_yNu"
      },
      "source": [
        "## Dimensions"
      ]
    },
    {
      "cell_type": "code",
      "metadata": {
        "id": "hb3HQ9TJ_wnk"
      },
      "source": [
        "df.shape"
      ],
      "execution_count": 7,
      "outputs": []
    },
    {
      "cell_type": "markdown",
      "metadata": {
        "id": "abivamh-_1tb"
      },
      "source": [
        "## Information"
      ]
    },
    {
      "cell_type": "code",
      "metadata": {
        "id": "VWPCOaFN_0Sd"
      },
      "source": [
        "df.info()"
      ],
      "execution_count": 8,
      "outputs": []
    },
    {
      "cell_type": "markdown",
      "metadata": {
        "id": "pxGl3v4j_5X1"
      },
      "source": [
        "## Descriptive Statistics"
      ]
    },
    {
      "cell_type": "code",
      "metadata": {
        "id": "Jfy5-8M5_4IO"
      },
      "source": [
        "df.describe()"
      ],
      "execution_count": 9,
      "outputs": []
    },
    {
      "cell_type": "markdown",
      "metadata": {
        "id": "UiB8mbn0_-Jx"
      },
      "source": [
        "# Working With Columns\n",
        "## Add new columns"
      ]
    },
    {
      "cell_type": "code",
      "metadata": {
        "id": "x1vXL1Zl_6e9"
      },
      "source": [
        "df['column_name'] = value\n",
        "df['month_nm'] = df['date'].dt.month_name()"
      ],
      "execution_count": 10,
      "outputs": []
    },
    {
      "cell_type": "markdown",
      "metadata": {
        "id": "NkFXQMV3AA-m"
      },
      "source": [
        "## Delete column"
      ]
    },
    {
      "cell_type": "code",
      "metadata": {
        "id": "bU8CEmlf__ck"
      },
      "source": [
        "del df['column_name']"
      ],
      "execution_count": 11,
      "outputs": []
    },
    {
      "cell_type": "markdown",
      "metadata": {
        "id": "rX8pYZ67ADtY"
      },
      "source": [
        "## Filtering Data Frame"
      ]
    },
    {
      "cell_type": "code",
      "metadata": {
        "id": "_8_3Zfx3ACe0"
      },
      "source": [
        "#OneCondition\n",
        "df[ df['column_name' == 'XPTO' ]\n",
        "   \n",
        "#MultipleCondition\n",
        "df[ (condition 1) & (condition 2) ...  ]\n",
        "\n",
        "#Exemple\n",
        "df[ (df['date'] >= '2020-05-01') & (df['date'] <= '2020-05-31') ]"
      ],
      "execution_count": 12,
      "outputs": []
    },
    {
      "cell_type": "markdown",
      "metadata": {
        "id": "rsc0pdjyAI5H"
      },
      "source": [
        "# Pivot or Group By\n",
        "## Pivot"
      ]
    },
    {
      "cell_type": "code",
      "metadata": {
        "id": "jjlQvjz2AHjy"
      },
      "source": [
        "pd.pivot_table(df      #DataFrame Name\n",
        ", index   = \"day\"      #Lines\n",
        ", columns = \"month_nm\" #Columns\n",
        ", values  = \"price\"    #Values\n",
        ", aggfunc = \"mean\"     #Aggregation funtction\n",
        ")"
      ],
      "execution_count": 13,
      "outputs": []
    },
    {
      "cell_type": "markdown",
      "metadata": {
        "id": "xsb69hSxAMvv"
      },
      "source": [
        "## Group By"
      ]
    },
    {
      "cell_type": "code",
      "metadata": {
        "id": "hyenQT3eALP3"
      },
      "source": [
        "df.groupby(['month_nm', 'day']).agg(\n",
        "{  'price':   pd.Series.mean\n",
        ", 'order_id': pd.Series.count\n",
        "}\n",
        ").reset_index()"
      ],
      "execution_count": 14,
      "outputs": []
    },
    {
      "cell_type": "markdown",
      "metadata": {
        "id": "q_D3q1ZlAQ6P"
      },
      "source": [
        "# Visualization"
      ]
    },
    {
      "cell_type": "markdown",
      "metadata": {
        "id": "WKhmTcAJASby"
      },
      "source": [
        "## BoxPlot"
      ]
    },
    {
      "cell_type": "code",
      "metadata": {
        "id": "3Mdf0pddAOrL"
      },
      "source": [
        "ax = df.boxplot(column=['price'])"
      ],
      "execution_count": 15,
      "outputs": []
    },
    {
      "cell_type": "markdown",
      "metadata": {
        "id": "JYDR5F84KztF"
      },
      "source": [
        "## Bar"
      ]
    },
    {
      "cell_type": "code",
      "metadata": {
        "id": "An5qMZDgKyZf"
      },
      "source": [
        "ax = df.plot.bar(x='month', y='price', figsize=(16,5), rot=0)"
      ],
      "execution_count": 16,
      "outputs": []
    },
    {
      "cell_type": "markdown",
      "metadata": {
        "id": "bEN0RzoQK2-N"
      },
      "source": [
        "## Line"
      ]
    },
    {
      "cell_type": "code",
      "metadata": {
        "id": "st-moQ1AK1B1"
      },
      "source": [
        "ax = df.plot.line(x='date', y='price', figsize=(16,5), marker='o', legend=['price'])ax.set_xlabel('Date')\n",
        "ax.set_ylabel('Price')\n",
        "ax.set_title('Day Over Day x Total Sales Price')\n",
        "ax"
      ],
      "execution_count": 17,
      "outputs": []
    },
    {
      "cell_type": "markdown",
      "metadata": {
        "id": "Mtxdag1pK6yu"
      },
      "source": [
        "## Pie"
      ]
    },
    {
      "cell_type": "code",
      "metadata": {
        "id": "BhvfT75mK5Gc"
      },
      "source": [
        "ax = df.plot.pie(x='month_nm', y='price', figsize=(8,8))"
      ],
      "execution_count": 18,
      "outputs": []
    },
    {
      "cell_type": "markdown",
      "metadata": {
        "id": "TGmm2o4sK92q"
      },
      "source": [
        "## Histogram"
      ]
    },
    {
      "cell_type": "code",
      "metadata": {
        "id": "jM8UpaEyK8W9"
      },
      "source": [
        "ax = df['price'].hist(figsize=(10,5))"
      ],
      "execution_count": 19,
      "outputs": []
    },
    {
      "cell_type": "markdown",
      "metadata": {
        "id": "QUr95w5JLBJz"
      },
      "source": [
        "## Lmplot — Seborn"
      ]
    },
    {
      "cell_type": "code",
      "metadata": {
        "id": "kb7iq7NRK_KF"
      },
      "source": [
        "#New DF\n",
        "dfLR = pd.DataFrame(\n",
        " df.groupby(['day', 'month_nm', 'month'])\n",
        "  .agg(\n",
        "   {'price': pd.Series.mean}\n",
        "   ).reset_index()\n",
        ")#Chart\n",
        "ax = sns.lmplot(\n",
        "data  = dfLR       # DataFrame Name\n",
        ", x   = \"day\"      # Line\n",
        ", y   = \"price\"    # Column\n",
        ", hue = \"month_nm\" # Points break (colors)\n",
        ", col = \"month\"    # Charts break\n",
        ")"
      ],
      "execution_count": 20,
      "outputs": []
    }
  ]
}