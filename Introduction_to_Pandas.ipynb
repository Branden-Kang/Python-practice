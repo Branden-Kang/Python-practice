{
  "nbformat": 4,
  "nbformat_minor": 0,
  "metadata": {
    "colab": {
      "name": "Introduction to Pandas.ipynb",
      "provenance": [],
      "authorship_tag": "ABX9TyNedn7tl0S7nQXUYAczB03t"
    },
    "kernelspec": {
      "name": "python3",
      "display_name": "Python 3"
    }
  },
  "cells": [
    {
      "cell_type": "markdown",
      "metadata": {
        "id": "IefUAYHk_Q9H"
      },
      "source": [
        "[Reference](https://levelup.gitconnected.com/introducing-pandas-e0581a6683c9)"
      ]
    },
    {
      "cell_type": "markdown",
      "metadata": {
        "id": "fK7wsu7R_YxR"
      },
      "source": [
        "# Installing Pandas"
      ]
    },
    {
      "cell_type": "code",
      "metadata": {
        "id": "Pg8uEFOj_N7o"
      },
      "source": [
        "# jupyter cell\n",
        "!pip install pandas\n",
        "\n",
        "Terminal\n",
        "pip install pandas"
      ],
      "execution_count": null,
      "outputs": []
    },
    {
      "cell_type": "markdown",
      "metadata": {
        "id": "fSeSe3mc_aPh"
      },
      "source": [
        "# Importing"
      ]
    },
    {
      "cell_type": "code",
      "metadata": {
        "id": "wjz3yg-r_ZJG"
      },
      "source": [
        "import pandas as pd"
      ],
      "execution_count": null,
      "outputs": []
    },
    {
      "cell_type": "markdown",
      "metadata": {
        "id": "JRErXOaB_fm9"
      },
      "source": [
        "# Reading Data Files\n",
        "\n",
        "## CSV"
      ]
    },
    {
      "cell_type": "code",
      "metadata": {
        "id": "6AUQpC2g_b0b"
      },
      "source": [
        "df = pd.read_csv('file_path.csv', sep='separator character')\n",
        "df = pd.read_csv('sales_202005.csv', sep=';')"
      ],
      "execution_count": null,
      "outputs": []
    },
    {
      "cell_type": "markdown",
      "metadata": {
        "id": "Ep3-XOPV_m0J"
      },
      "source": [
        "## Excel"
      ]
    },
    {
      "cell_type": "code",
      "metadata": {
        "id": "BQUN1ZjC_iTa"
      },
      "source": [
        "df = pd.read_excel('file_path.xlsx', sheet_name='')\n",
        "df = pd.read_excel('sales_202005.xlsx', sheet_name='Jan')"
      ],
      "execution_count": null,
      "outputs": []
    },
    {
      "cell_type": "markdown",
      "metadata": {
        "id": "TFqLBeYO_qz7"
      },
      "source": [
        "# Show Data\n",
        "\n",
        "## Head"
      ]
    },
    {
      "cell_type": "code",
      "metadata": {
        "id": "zi0QXda7_paA"
      },
      "source": [
        "df.head()"
      ],
      "execution_count": null,
      "outputs": []
    },
    {
      "cell_type": "markdown",
      "metadata": {
        "id": "lcdMDwud_tpd"
      },
      "source": [
        "## T (Transposition)"
      ]
    },
    {
      "cell_type": "code",
      "metadata": {
        "id": "boNO3Dxg_uMB"
      },
      "source": [
        "df.T"
      ],
      "execution_count": null,
      "outputs": []
    },
    {
      "cell_type": "markdown",
      "metadata": {
        "id": "sTonrO_1_yNu"
      },
      "source": [
        "## Dimensions"
      ]
    },
    {
      "cell_type": "code",
      "metadata": {
        "id": "hb3HQ9TJ_wnk"
      },
      "source": [
        "df.shape"
      ],
      "execution_count": null,
      "outputs": []
    },
    {
      "cell_type": "markdown",
      "metadata": {
        "id": "abivamh-_1tb"
      },
      "source": [
        "## Information"
      ]
    },
    {
      "cell_type": "code",
      "metadata": {
        "id": "VWPCOaFN_0Sd"
      },
      "source": [
        "df.info()"
      ],
      "execution_count": null,
      "outputs": []
    },
    {
      "cell_type": "markdown",
      "metadata": {
        "id": "izpA_PUuR3aM"
      },
      "source": [
        "## Data Type"
      ]
    },
    {
      "cell_type": "code",
      "metadata": {
        "id": "IgUupfkUR7TI"
      },
      "source": [
        "df.dtypes"
      ],
      "execution_count": 21,
      "outputs": []
    },
    {
      "cell_type": "code",
      "metadata": {
        "id": "k9ErhfqyR8c-"
      },
      "source": [
        "df['Date'] = df['Date'].astype(\"datetime64\")\n",
        "df.dtypes"
      ],
      "execution_count": 22,
      "outputs": []
    },
    {
      "cell_type": "code",
      "metadata": {
        "id": "-L2C1EFNSC38"
      },
      "source": [
        "df['Date'] = pd.to_datetime(df['Date'])"
      ],
      "execution_count": 23,
      "outputs": []
    },
    {
      "cell_type": "markdown",
      "metadata": {
        "id": "pxGl3v4j_5X1"
      },
      "source": [
        "## Descriptive Statistics"
      ]
    },
    {
      "cell_type": "code",
      "metadata": {
        "id": "Jfy5-8M5_4IO"
      },
      "source": [
        "df.describe()"
      ],
      "execution_count": null,
      "outputs": []
    },
    {
      "cell_type": "markdown",
      "metadata": {
        "id": "U-hBj6C1SSQA"
      },
      "source": [
        "## Index"
      ]
    },
    {
      "cell_type": "code",
      "metadata": {
        "id": "_KTvALw4STLt"
      },
      "source": [
        "df.set_index('Date', inplace=True)"
      ],
      "execution_count": 25,
      "outputs": []
    },
    {
      "cell_type": "code",
      "metadata": {
        "id": "si0K8RRXSW1O"
      },
      "source": [
        "df.reset_index(drop=True, inplace=True)"
      ],
      "execution_count": 26,
      "outputs": []
    },
    {
      "cell_type": "markdown",
      "metadata": {
        "id": "I3VprmUhSbhZ"
      },
      "source": [
        "## Unique values"
      ]
    },
    {
      "cell_type": "code",
      "metadata": {
        "id": "gKT7b9pMSdIC"
      },
      "source": [
        "df['itemDescription'].unique()[:5]"
      ],
      "execution_count": 27,
      "outputs": []
    },
    {
      "cell_type": "code",
      "metadata": {
        "id": "QxGn6xjSSg7i"
      },
      "source": [
        "df.nunique()"
      ],
      "execution_count": 28,
      "outputs": []
    },
    {
      "cell_type": "markdown",
      "metadata": {
        "id": "emEldSj9SoaZ"
      },
      "source": [
        "## Sampling"
      ]
    },
    {
      "cell_type": "code",
      "metadata": {
        "id": "yNHjg1BfSkQp"
      },
      "source": [
        "df = df[df.AmountSpent < 300].sample(n=400, replace=True)\n",
        "df.shape"
      ],
      "execution_count": 29,
      "outputs": []
    },
    {
      "cell_type": "markdown",
      "metadata": {
        "id": "x0_rLSOmSrdK"
      },
      "source": [
        "## Datetime"
      ]
    },
    {
      "cell_type": "code",
      "metadata": {
        "id": "j4oF7AyHSyIO"
      },
      "source": [
        "df['Year'] = df['Date'].dt.year\n",
        "df['Month'] = df['Date'].dt.month"
      ],
      "execution_count": 30,
      "outputs": []
    },
    {
      "cell_type": "code",
      "metadata": {
        "id": "A52blp2hTeYu"
      },
      "source": [
        "df['Month'] = df['Date'].dt.month_name()"
      ],
      "execution_count": 38,
      "outputs": []
    },
    {
      "cell_type": "markdown",
      "metadata": {
        "id": "MfOJuZN0S2_6"
      },
      "source": [
        "## Select rows and columns"
      ]
    },
    {
      "cell_type": "code",
      "metadata": {
        "id": "9Z1cbOZ9S6Ro"
      },
      "source": [
        "df.loc[toselect,['OwnHome','Location','Children']]"
      ],
      "execution_count": 31,
      "outputs": []
    },
    {
      "cell_type": "code",
      "metadata": {
        "id": "Kh4y1MorTE2k"
      },
      "source": [
        "df.iloc[:4,:3]"
      ],
      "execution_count": 33,
      "outputs": []
    },
    {
      "cell_type": "code",
      "metadata": {
        "id": "hIIGXMKZTA-j"
      },
      "source": [
        "toselect = np.random.randint(100, size=7)\n",
        "df.iloc[toselect, [2,4,6]]"
      ],
      "execution_count": 32,
      "outputs": []
    },
    {
      "cell_type": "markdown",
      "metadata": {
        "id": "EU8quoQ8TYOE"
      },
      "source": [
        "## Replace values"
      ]
    },
    {
      "cell_type": "code",
      "metadata": {
        "id": "CGguWXdyTZj0"
      },
      "source": [
        "month_names = {1:'January', 2:'February', 3:'March', 4:'April',\n",
        "5: 'May', 6:'June', 7:'July', 8:'August', 9:'September',\n",
        "10:'October', 11:'November', 12:'December'}\n",
        "df.Month.replace(month_names, inplace=True)"
      ],
      "execution_count": 37,
      "outputs": []
    },
    {
      "cell_type": "markdown",
      "metadata": {
        "id": "mkxA7kbqTjON"
      },
      "source": [
        "## Filter"
      ]
    },
    {
      "cell_type": "code",
      "metadata": {
        "id": "BztqlPjGTkQf"
      },
      "source": [
        "df.itemDescription.str.contains('milk').sum()\n",
        "df.itemDescription.str.contains('whole milk').sum()"
      ],
      "execution_count": 39,
      "outputs": []
    },
    {
      "cell_type": "code",
      "metadata": {
        "id": "nfaddIlkToPL"
      },
      "source": [
        "df[df.itemDescription.str.len() > 20]\\\n",
        ".itemDescription.unique()"
      ],
      "execution_count": 40,
      "outputs": []
    },
    {
      "cell_type": "markdown",
      "metadata": {
        "id": "UiB8mbn0_-Jx"
      },
      "source": [
        "# Working With Columns\n",
        "## Add new columns"
      ]
    },
    {
      "cell_type": "code",
      "metadata": {
        "id": "x1vXL1Zl_6e9"
      },
      "source": [
        "df['column_name'] = value\n",
        "df['month_nm'] = df['date'].dt.month_name()"
      ],
      "execution_count": null,
      "outputs": []
    },
    {
      "cell_type": "code",
      "metadata": {
        "id": "8Nz2AgKmTO1l"
      },
      "source": [
        "year = df['Date'].dt.year\n",
        "month = df['Date'].dt.month\n",
        "df.insert(1, 'Month', month)\n",
        "df.insert(2, 'Year', year)"
      ],
      "execution_count": 36,
      "outputs": []
    },
    {
      "cell_type": "markdown",
      "metadata": {
        "id": "NkFXQMV3AA-m"
      },
      "source": [
        "## Delete column"
      ]
    },
    {
      "cell_type": "code",
      "metadata": {
        "id": "bU8CEmlf__ck"
      },
      "source": [
        "del df['column_name']"
      ],
      "execution_count": null,
      "outputs": []
    },
    {
      "cell_type": "code",
      "metadata": {
        "id": "9TIDkhN4TLrS"
      },
      "source": [
        "df.drop(['Year','Month'], axis=1, inplace=True)"
      ],
      "execution_count": 34,
      "outputs": []
    },
    {
      "cell_type": "markdown",
      "metadata": {
        "id": "rX8pYZ67ADtY"
      },
      "source": [
        "## Filtering Data Frame"
      ]
    },
    {
      "cell_type": "code",
      "metadata": {
        "id": "_8_3Zfx3ACe0"
      },
      "source": [
        "#OneCondition\n",
        "df[ df['column_name' == 'XPTO' ]\n",
        "   \n",
        "#MultipleCondition\n",
        "df[ (condition 1) & (condition 2) ...  ]\n",
        "\n",
        "#Exemple\n",
        "df[ (df['date'] >= '2020-05-01') & (df['date'] <= '2020-05-31') ]"
      ],
      "execution_count": null,
      "outputs": []
    },
    {
      "cell_type": "markdown",
      "metadata": {
        "id": "GCLtdYZ_SK3n"
      },
      "source": [
        "## Tilde operator(~)"
      ]
    },
    {
      "cell_type": "code",
      "metadata": {
        "id": "S0uOwQxDSNDu"
      },
      "source": [
        "df[~df.Member_number.isin([3737, 2433, 3915, 2625])].shape"
      ],
      "execution_count": 24,
      "outputs": []
    },
    {
      "cell_type": "markdown",
      "metadata": {
        "id": "ryghWTuIU-ge"
      },
      "source": [
        "# Crosstab function"
      ]
    },
    {
      "cell_type": "code",
      "metadata": {
        "id": "4_AmBtIHU_4H"
      },
      "source": [
        "pd.crosstab(index=marketing.Age, columns=marketing.Gender, values=marketing.Salary, aggfunc='mean').round(1)"
      ],
      "execution_count": 56,
      "outputs": []
    },
    {
      "cell_type": "code",
      "metadata": {
        "id": "TkC72O_-VBgU"
      },
      "source": [
        "pd.crosstab(index=[marketing.Age, marketing.Married], columns=marketing.Gender,values=marketing.Salary, aggfunc='mean',\n",
        "margins=True).round(1)"
      ],
      "execution_count": 57,
      "outputs": []
    },
    {
      "cell_type": "markdown",
      "metadata": {
        "id": "rsc0pdjyAI5H"
      },
      "source": [
        "# Pivot or Group By\n",
        "## Pivot"
      ]
    },
    {
      "cell_type": "code",
      "metadata": {
        "id": "jjlQvjz2AHjy"
      },
      "source": [
        "pd.pivot_table(df      #DataFrame Name\n",
        ", index   = \"day\"      #Lines\n",
        ", columns = \"month_nm\" #Columns\n",
        ", values  = \"price\"    #Values\n",
        ", aggfunc = \"mean\"     #Aggregation funtction\n",
        ")"
      ],
      "execution_count": null,
      "outputs": []
    },
    {
      "cell_type": "code",
      "metadata": {
        "id": "yCj35Y_NU6yK"
      },
      "source": [
        "pd.pivot_table(data=marketing, index=['Age', 'Married'], columns='Gender', values='Salary', aggfunc='mean',\n",
        "margins=True).round(1)"
      ],
      "execution_count": 55,
      "outputs": []
    },
    {
      "cell_type": "markdown",
      "metadata": {
        "id": "xsb69hSxAMvv"
      },
      "source": [
        "## Group By"
      ]
    },
    {
      "cell_type": "code",
      "metadata": {
        "id": "hyenQT3eALP3"
      },
      "source": [
        "df.groupby(['month_nm', 'day']).agg(\n",
        "{  'price':   pd.Series.mean\n",
        ", 'order_id': pd.Series.count\n",
        "}\n",
        ").reset_index()"
      ],
      "execution_count": null,
      "outputs": []
    },
    {
      "cell_type": "markdown",
      "metadata": {
        "id": "q_D3q1ZlAQ6P"
      },
      "source": [
        "# Visualization"
      ]
    },
    {
      "cell_type": "markdown",
      "metadata": {
        "id": "ypOm0P09Ts4o"
      },
      "source": [
        "## Plot"
      ]
    },
    {
      "cell_type": "code",
      "metadata": {
        "id": "KuEae5CyTtwm"
      },
      "source": [
        "marketing.Salary.plot(kind='kde', title='Distribution of Salary', figsize=(10,6))"
      ],
      "execution_count": 41,
      "outputs": []
    },
    {
      "cell_type": "code",
      "metadata": {
        "id": "hpdZt0EMTx31"
      },
      "source": [
        "marketing.Salary.plot(kind='hist', title='Distribution of Salary',\n",
        "figsize=(10,6))"
      ],
      "execution_count": 42,
      "outputs": []
    },
    {
      "cell_type": "code",
      "metadata": {
        "id": "uqvxEgAGT1AO"
      },
      "source": [
        "groceries['month_name'] = groceries['Date'].dt.month_name()\n",
        "groceries[['month_name','Date']].groupby('month_name')\\\n",
        ".count().plot(title=\"Monthly Sales\", figsize=(10,6))"
      ],
      "execution_count": 44,
      "outputs": []
    },
    {
      "cell_type": "markdown",
      "metadata": {
        "id": "WKhmTcAJASby"
      },
      "source": [
        "## BoxPlot"
      ]
    },
    {
      "cell_type": "code",
      "metadata": {
        "id": "3Mdf0pddAOrL"
      },
      "source": [
        "ax = df.boxplot(column=['price'])"
      ],
      "execution_count": null,
      "outputs": []
    },
    {
      "cell_type": "markdown",
      "metadata": {
        "id": "JYDR5F84KztF"
      },
      "source": [
        "## Bar"
      ]
    },
    {
      "cell_type": "code",
      "metadata": {
        "id": "An5qMZDgKyZf"
      },
      "source": [
        "ax = df.plot.bar(x='month', y='price', figsize=(16,5), rot=0)"
      ],
      "execution_count": null,
      "outputs": []
    },
    {
      "cell_type": "markdown",
      "metadata": {
        "id": "bEN0RzoQK2-N"
      },
      "source": [
        "## Line"
      ]
    },
    {
      "cell_type": "code",
      "metadata": {
        "id": "st-moQ1AK1B1"
      },
      "source": [
        "ax = df.plot.line(x='date', y='price', figsize=(16,5), marker='o', legend=['price'])ax.set_xlabel('Date')\n",
        "ax.set_ylabel('Price')\n",
        "ax.set_title('Day Over Day x Total Sales Price')\n",
        "ax"
      ],
      "execution_count": null,
      "outputs": []
    },
    {
      "cell_type": "markdown",
      "metadata": {
        "id": "Mtxdag1pK6yu"
      },
      "source": [
        "## Pie"
      ]
    },
    {
      "cell_type": "code",
      "metadata": {
        "id": "BhvfT75mK5Gc"
      },
      "source": [
        "ax = df.plot.pie(x='month_nm', y='price', figsize=(8,8))"
      ],
      "execution_count": null,
      "outputs": []
    },
    {
      "cell_type": "markdown",
      "metadata": {
        "id": "TGmm2o4sK92q"
      },
      "source": [
        "## Histogram"
      ]
    },
    {
      "cell_type": "code",
      "metadata": {
        "id": "jM8UpaEyK8W9"
      },
      "source": [
        "ax = df['price'].hist(figsize=(10,5))"
      ],
      "execution_count": null,
      "outputs": []
    },
    {
      "cell_type": "markdown",
      "metadata": {
        "id": "QUr95w5JLBJz"
      },
      "source": [
        "## Lmplot — Seborn"
      ]
    },
    {
      "cell_type": "code",
      "metadata": {
        "id": "kb7iq7NRK_KF"
      },
      "source": [
        "#New DF\n",
        "dfLR = pd.DataFrame(\n",
        " df.groupby(['day', 'month_nm', 'month'])\n",
        "  .agg(\n",
        "   {'price': pd.Series.mean}\n",
        "   ).reset_index()\n",
        ")#Chart\n",
        "ax = sns.lmplot(\n",
        "data  = dfLR       # DataFrame Name\n",
        ", x   = \"day\"      # Line\n",
        ", y   = \"price\"    # Column\n",
        ", hue = \"month_nm\" # Points break (colors)\n",
        ", col = \"month\"    # Charts break\n",
        ")"
      ],
      "execution_count": null,
      "outputs": []
    },
    {
      "cell_type": "markdown",
      "metadata": {
        "id": "QTX8ZU19U0gq"
      },
      "source": [
        "# Splitting strings"
      ]
    },
    {
      "cell_type": "code",
      "metadata": {
        "id": "6mocBSvzU3ag"
      },
      "source": [
        "groceries['month'] = groceries['Date']\\\n",
        ".str.split('-', expand=True)[1]"
      ],
      "execution_count": 54,
      "outputs": []
    },
    {
      "cell_type": "markdown",
      "metadata": {
        "id": "QM-T_6JWUxEF"
      },
      "source": [
        "#  Splitting strings on character level"
      ]
    },
    {
      "cell_type": "code",
      "metadata": {
        "id": "8onb5YNrUx-i"
      },
      "source": [
        "groceries['year'] = groceries['Date']\\\n",
        ".str.split('-', expand=True)[2].str[-2:]"
      ],
      "execution_count": 53,
      "outputs": []
    },
    {
      "cell_type": "markdown",
      "metadata": {
        "id": "IcekfPb6UpSI"
      },
      "source": [
        "# Sidetable"
      ]
    },
    {
      "cell_type": "code",
      "metadata": {
        "id": "zABsz8lVUqZs"
      },
      "source": [
        "pip install sidetable\n",
        "import sidetable\n",
        "groceries.stb.freq(['itemDescription'], thresh=25)"
      ],
      "execution_count": 52,
      "outputs": []
    },
    {
      "cell_type": "markdown",
      "metadata": {
        "id": "JzAoomMpUDs9"
      },
      "source": [
        "# Correlation"
      ]
    },
    {
      "cell_type": "code",
      "metadata": {
        "id": "x8ex94QxUE11"
      },
      "source": [
        "df.corr()"
      ],
      "execution_count": 45,
      "outputs": []
    },
    {
      "cell_type": "markdown",
      "metadata": {
        "id": "uAG3087NUd9H"
      },
      "source": [
        "# Handling missing values"
      ]
    },
    {
      "cell_type": "code",
      "metadata": {
        "id": "qptuLoZQUmqP"
      },
      "source": [
        "groceries.isna().sum()"
      ],
      "execution_count": 51,
      "outputs": []
    },
    {
      "cell_type": "code",
      "metadata": {
        "id": "ETOAkHQcUfde"
      },
      "source": [
        "groceries.iloc[[1,10,30], [1,2]] = np.nan\n",
        "groceries.isna().sum()"
      ],
      "execution_count": 49,
      "outputs": []
    },
    {
      "cell_type": "code",
      "metadata": {
        "id": "MbkwS8OXUiQa"
      },
      "source": [
        "groceries['itemDescription']\\\n",
        ".fillna(value=groceries['itemDescription'].mode()[0], inplace=True)\n",
        "\n",
        "groceries['Date'].fillna(method='ffill', inplace=True)\n",
        "\n",
        "groceries.isna().sum()"
      ],
      "execution_count": 50,
      "outputs": []
    },
    {
      "cell_type": "markdown",
      "metadata": {
        "id": "j_XPBirXUXab"
      },
      "source": [
        "# Selecting data types"
      ]
    },
    {
      "cell_type": "code",
      "metadata": {
        "id": "MRz6DQR9UZAw"
      },
      "source": [
        "marketing.select_dtypes(include='object').columns\n",
        "\n",
        "marketing.select_dtypes(exclude='object').columns"
      ],
      "execution_count": 48,
      "outputs": []
    },
    {
      "cell_type": "markdown",
      "metadata": {
        "id": "b0AwVlQsUNpn"
      },
      "source": [
        "# Creating dataframes"
      ]
    },
    {
      "cell_type": "code",
      "metadata": {
        "id": "oi-HegTgUP5u"
      },
      "source": [
        "unique_items = groceries.itemDescription.unique()\n",
        "\n",
        "prices = pd.DataFrame({\n",
        "    'itemDescription': unique_items,\n",
        "    'prices':np.random.randint(10, size=len(unique_items))\n",
        "})"
      ],
      "execution_count": 47,
      "outputs": []
    },
    {
      "cell_type": "markdown",
      "metadata": {
        "id": "8O1baZcaUJlS"
      },
      "source": [
        "## Merging dataframes"
      ]
    },
    {
      "cell_type": "code",
      "metadata": {
        "id": "etpLWkBHUKHL"
      },
      "source": [
        "merged_df = groceries.merge(prices, on='itemDescription')"
      ],
      "execution_count": 46,
      "outputs": []
    }
  ]
}