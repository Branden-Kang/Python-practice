{
  "nbformat": 4,
  "nbformat_minor": 0,
  "metadata": {
    "colab": {
      "name": "Python Tips and Tricks You Are Probably Not Aware Of.ipynb",
      "provenance": [],
      "authorship_tag": "ABX9TyO0+B8YDahYAZ85eDv1ieMm"
    },
    "kernelspec": {
      "name": "python3",
      "display_name": "Python 3"
    },
    "language_info": {
      "name": "python"
    }
  },
  "cells": [
    {
      "cell_type": "markdown",
      "metadata": {
        "id": "2sKlpwFtlR_M"
      },
      "source": [
        "[Reference](https://betterprogramming.pub/25-python-tips-and-tricks-you-are-probably-not-aware-of-cc122b079e18)"
      ]
    },
    {
      "cell_type": "code",
      "metadata": {
        "colab": {
          "base_uri": "https://localhost:8080/"
        },
        "id": "YyFWYuAHksh0",
        "outputId": "2766c314-3ada-498d-abb1-0a8f32ecb6ec"
      },
      "source": [
        "x = [ True , True , False ]\n",
        "if any ( x ) : \n",
        "    print ( \"At least one True\" )\n",
        "if all ( x ) : \n",
        "    print ( \"None False\" )\n",
        "if any ( x ) and not all ( x ) : \n",
        "    print ( \"At least one True and one False\" )"
      ],
      "execution_count": 1,
      "outputs": [
        {
          "output_type": "stream",
          "text": [
            "At least one True\n",
            "At least one True and one False\n"
          ],
          "name": "stdout"
        }
      ]
    },
    {
      "cell_type": "code",
      "metadata": {
        "colab": {
          "base_uri": "https://localhost:8080/"
        },
        "id": "VdWdhTTWlWj_",
        "outputId": "4cc82f35-f5d5-4cfb-c032-619a8d83a3c2"
      },
      "source": [
        "from collections import OrderedDict, Counter\n",
        "# memorize the order of adding keys\n",
        "x = OrderedDict ( a = 1 , b = 2 , c = 3 )\n",
        "# count the frequency of each character\n",
        "y = Counter (\"Hello World!\")\n",
        "y"
      ],
      "execution_count": 2,
      "outputs": [
        {
          "output_type": "execute_result",
          "data": {
            "text/plain": [
              "Counter({' ': 1,\n",
              "         '!': 1,\n",
              "         'H': 1,\n",
              "         'W': 1,\n",
              "         'd': 1,\n",
              "         'e': 1,\n",
              "         'l': 3,\n",
              "         'o': 2,\n",
              "         'r': 1})"
            ]
          },
          "metadata": {
            "tags": []
          },
          "execution_count": 2
        }
      ]
    },
    {
      "cell_type": "code",
      "metadata": {
        "colab": {
          "base_uri": "https://localhost:8080/"
        },
        "id": "0XfBMBU6lbuC",
        "outputId": "af3b1ab6-4ab9-43a2-d93c-aeb7d2742e68"
      },
      "source": [
        "dir(\"Hello World\")"
      ],
      "execution_count": 3,
      "outputs": [
        {
          "output_type": "execute_result",
          "data": {
            "text/plain": [
              "['__add__',\n",
              " '__class__',\n",
              " '__contains__',\n",
              " '__delattr__',\n",
              " '__dir__',\n",
              " '__doc__',\n",
              " '__eq__',\n",
              " '__format__',\n",
              " '__ge__',\n",
              " '__getattribute__',\n",
              " '__getitem__',\n",
              " '__getnewargs__',\n",
              " '__gt__',\n",
              " '__hash__',\n",
              " '__init__',\n",
              " '__init_subclass__',\n",
              " '__iter__',\n",
              " '__le__',\n",
              " '__len__',\n",
              " '__lt__',\n",
              " '__mod__',\n",
              " '__mul__',\n",
              " '__ne__',\n",
              " '__new__',\n",
              " '__reduce__',\n",
              " '__reduce_ex__',\n",
              " '__repr__',\n",
              " '__rmod__',\n",
              " '__rmul__',\n",
              " '__setattr__',\n",
              " '__sizeof__',\n",
              " '__str__',\n",
              " '__subclasshook__',\n",
              " 'capitalize',\n",
              " 'casefold',\n",
              " 'center',\n",
              " 'count',\n",
              " 'encode',\n",
              " 'endswith',\n",
              " 'expandtabs',\n",
              " 'find',\n",
              " 'format',\n",
              " 'format_map',\n",
              " 'index',\n",
              " 'isalnum',\n",
              " 'isalpha',\n",
              " 'isascii',\n",
              " 'isdecimal',\n",
              " 'isdigit',\n",
              " 'isidentifier',\n",
              " 'islower',\n",
              " 'isnumeric',\n",
              " 'isprintable',\n",
              " 'isspace',\n",
              " 'istitle',\n",
              " 'isupper',\n",
              " 'join',\n",
              " 'ljust',\n",
              " 'lower',\n",
              " 'lstrip',\n",
              " 'maketrans',\n",
              " 'partition',\n",
              " 'replace',\n",
              " 'rfind',\n",
              " 'rindex',\n",
              " 'rjust',\n",
              " 'rpartition',\n",
              " 'rsplit',\n",
              " 'rstrip',\n",
              " 'split',\n",
              " 'splitlines',\n",
              " 'startswith',\n",
              " 'strip',\n",
              " 'swapcase',\n",
              " 'title',\n",
              " 'translate',\n",
              " 'upper',\n",
              " 'zfill']"
            ]
          },
          "metadata": {
            "tags": []
          },
          "execution_count": 3
        }
      ]
    },
    {
      "cell_type": "code",
      "metadata": {
        "colab": {
          "base_uri": "https://localhost:8080/"
        },
        "id": "XDGtP4njlgPz",
        "outputId": "8fec933a-1854-4afc-9a03-a6f70790c4c1"
      },
      "source": [
        "!pip install emoji\n",
        "from emoji import emojize\n",
        "print ( emojize ( \": thumbs_up:\" ))"
      ],
      "execution_count": 5,
      "outputs": [
        {
          "output_type": "stream",
          "text": [
            "Collecting emoji\n",
            "\u001b[?25l  Downloading https://files.pythonhosted.org/packages/24/fa/b3368f41b95a286f8d300e323449ab4e86b85334c2e0b477e94422b8ed0f/emoji-1.2.0-py3-none-any.whl (131kB)\n",
            "\r\u001b[K     |██▌                             | 10kB 14.8MB/s eta 0:00:01\r\u001b[K     |█████                           | 20kB 12.6MB/s eta 0:00:01\r\u001b[K     |███████▌                        | 30kB 9.3MB/s eta 0:00:01\r\u001b[K     |██████████                      | 40kB 7.6MB/s eta 0:00:01\r\u001b[K     |████████████▌                   | 51kB 4.5MB/s eta 0:00:01\r\u001b[K     |███████████████                 | 61kB 5.1MB/s eta 0:00:01\r\u001b[K     |█████████████████▌              | 71kB 5.1MB/s eta 0:00:01\r\u001b[K     |████████████████████            | 81kB 5.4MB/s eta 0:00:01\r\u001b[K     |██████████████████████▌         | 92kB 5.9MB/s eta 0:00:01\r\u001b[K     |█████████████████████████       | 102kB 4.4MB/s eta 0:00:01\r\u001b[K     |███████████████████████████▌    | 112kB 4.4MB/s eta 0:00:01\r\u001b[K     |██████████████████████████████  | 122kB 4.4MB/s eta 0:00:01\r\u001b[K     |████████████████████████████████| 133kB 4.4MB/s \n",
            "\u001b[?25hInstalling collected packages: emoji\n",
            "Successfully installed emoji-1.2.0\n",
            ": thumbs_up:\n"
          ],
          "name": "stdout"
        }
      ]
    },
    {
      "cell_type": "code",
      "metadata": {
        "colab": {
          "base_uri": "https://localhost:8080/"
        },
        "id": "8jnseQ30ljKc",
        "outputId": "0d36af49-305c-4ecd-925e-46a321f20067"
      },
      "source": [
        "from __future__ import print_function\n",
        "print ( \"Hello World!\")"
      ],
      "execution_count": 6,
      "outputs": [
        {
          "output_type": "stream",
          "text": [
            "Hello World!\n"
          ],
          "name": "stdout"
        }
      ]
    },
    {
      "cell_type": "code",
      "metadata": {
        "colab": {
          "base_uri": "https://localhost:8080/"
        },
        "id": "jCNc1LMOloVM",
        "outputId": "32de143c-87cf-4c55-ba6b-15e6684230ad"
      },
      "source": [
        "pip install geopy"
      ],
      "execution_count": 7,
      "outputs": [
        {
          "output_type": "stream",
          "text": [
            "Requirement already satisfied: geopy in /usr/local/lib/python3.7/dist-packages (1.17.0)\n",
            "Requirement already satisfied: geographiclib<2,>=1.49 in /usr/local/lib/python3.7/dist-packages (from geopy) (1.50)\n"
          ],
          "name": "stdout"
        }
      ]
    },
    {
      "cell_type": "code",
      "metadata": {
        "colab": {
          "base_uri": "https://localhost:8080/",
          "height": 480
        },
        "id": "mjQdXH7dlsb6",
        "outputId": "80d81809-5094-43e3-ca68-1ab6d07b9c7a"
      },
      "source": [
        "from geopy import GoogleV3\n",
        "place = \"37 Tavistock Pl, Saint Pancras, London\"\n",
        "location = GoogleV3 () . geocode ( place )\n",
        "print ( location. address )\n",
        "print ( location. location )"
      ],
      "execution_count": 8,
      "outputs": [
        {
          "output_type": "stream",
          "text": [
            "/usr/local/lib/python3.7/dist-packages/geopy/geocoders/googlev3.py:122: UserWarning: Since July 2018 Google requires each request to have an API key. Pass a valid `api_key` to GoogleV3 geocoder to hide this warning. See https://developers.google.com/maps/documentation/geocoding/usage-and-billing\n",
            "  UserWarning\n"
          ],
          "name": "stderr"
        },
        {
          "output_type": "error",
          "ename": "GeocoderQueryError",
          "evalue": "ignored",
          "traceback": [
            "\u001b[0;31m---------------------------------------------------------------------------\u001b[0m",
            "\u001b[0;31mGeocoderQueryError\u001b[0m                        Traceback (most recent call last)",
            "\u001b[0;32m<ipython-input-8-16ee9af53879>\u001b[0m in \u001b[0;36m<module>\u001b[0;34m()\u001b[0m\n\u001b[1;32m      1\u001b[0m \u001b[0;32mfrom\u001b[0m \u001b[0mgeopy\u001b[0m \u001b[0;32mimport\u001b[0m \u001b[0mGoogleV3\u001b[0m\u001b[0;34m\u001b[0m\u001b[0;34m\u001b[0m\u001b[0m\n\u001b[1;32m      2\u001b[0m \u001b[0mplace\u001b[0m \u001b[0;34m=\u001b[0m \u001b[0;34m\"37 Tavistock Pl, Saint Pancras, London\"\u001b[0m\u001b[0;34m\u001b[0m\u001b[0;34m\u001b[0m\u001b[0m\n\u001b[0;32m----> 3\u001b[0;31m \u001b[0mlocation\u001b[0m \u001b[0;34m=\u001b[0m \u001b[0mGoogleV3\u001b[0m \u001b[0;34m(\u001b[0m\u001b[0;34m)\u001b[0m \u001b[0;34m.\u001b[0m \u001b[0mgeocode\u001b[0m \u001b[0;34m(\u001b[0m \u001b[0mplace\u001b[0m \u001b[0;34m)\u001b[0m\u001b[0;34m\u001b[0m\u001b[0;34m\u001b[0m\u001b[0m\n\u001b[0m\u001b[1;32m      4\u001b[0m \u001b[0mprint\u001b[0m \u001b[0;34m(\u001b[0m \u001b[0mlocation\u001b[0m\u001b[0;34m.\u001b[0m \u001b[0maddress\u001b[0m \u001b[0;34m)\u001b[0m\u001b[0;34m\u001b[0m\u001b[0;34m\u001b[0m\u001b[0m\n\u001b[1;32m      5\u001b[0m \u001b[0mprint\u001b[0m \u001b[0;34m(\u001b[0m \u001b[0mlocation\u001b[0m\u001b[0;34m.\u001b[0m \u001b[0mlocation\u001b[0m \u001b[0;34m)\u001b[0m\u001b[0;34m\u001b[0m\u001b[0;34m\u001b[0m\u001b[0m\n",
            "\u001b[0;32m/usr/local/lib/python3.7/dist-packages/geopy/geocoders/googlev3.py\u001b[0m in \u001b[0;36mgeocode\u001b[0;34m(self, query, exactly_one, timeout, bounds, region, components, language, sensor)\u001b[0m\n\u001b[1;32m    260\u001b[0m         \u001b[0mlogger\u001b[0m\u001b[0;34m.\u001b[0m\u001b[0mdebug\u001b[0m\u001b[0;34m(\u001b[0m\u001b[0;34m\"%s.geocode: %s\"\u001b[0m\u001b[0;34m,\u001b[0m \u001b[0mself\u001b[0m\u001b[0;34m.\u001b[0m\u001b[0m__class__\u001b[0m\u001b[0;34m.\u001b[0m\u001b[0m__name__\u001b[0m\u001b[0;34m,\u001b[0m \u001b[0murl\u001b[0m\u001b[0;34m)\u001b[0m\u001b[0;34m\u001b[0m\u001b[0;34m\u001b[0m\u001b[0m\n\u001b[1;32m    261\u001b[0m         return self._parse_json(\n\u001b[0;32m--> 262\u001b[0;31m             \u001b[0mself\u001b[0m\u001b[0;34m.\u001b[0m\u001b[0m_call_geocoder\u001b[0m\u001b[0;34m(\u001b[0m\u001b[0murl\u001b[0m\u001b[0;34m,\u001b[0m \u001b[0mtimeout\u001b[0m\u001b[0;34m=\u001b[0m\u001b[0mtimeout\u001b[0m\u001b[0;34m)\u001b[0m\u001b[0;34m,\u001b[0m \u001b[0mexactly_one\u001b[0m\u001b[0;34m\u001b[0m\u001b[0;34m\u001b[0m\u001b[0m\n\u001b[0m\u001b[1;32m    263\u001b[0m         )\n\u001b[1;32m    264\u001b[0m \u001b[0;34m\u001b[0m\u001b[0m\n",
            "\u001b[0;32m/usr/local/lib/python3.7/dist-packages/geopy/geocoders/googlev3.py\u001b[0m in \u001b[0;36m_parse_json\u001b[0;34m(self, page, exactly_one)\u001b[0m\n\u001b[1;32m    402\u001b[0m         \u001b[0mplaces\u001b[0m \u001b[0;34m=\u001b[0m \u001b[0mpage\u001b[0m\u001b[0;34m.\u001b[0m\u001b[0mget\u001b[0m\u001b[0;34m(\u001b[0m\u001b[0;34m'results'\u001b[0m\u001b[0;34m,\u001b[0m \u001b[0;34m[\u001b[0m\u001b[0;34m]\u001b[0m\u001b[0;34m)\u001b[0m\u001b[0;34m\u001b[0m\u001b[0;34m\u001b[0m\u001b[0m\n\u001b[1;32m    403\u001b[0m         \u001b[0;32mif\u001b[0m \u001b[0;32mnot\u001b[0m \u001b[0mlen\u001b[0m\u001b[0;34m(\u001b[0m\u001b[0mplaces\u001b[0m\u001b[0;34m)\u001b[0m\u001b[0;34m:\u001b[0m\u001b[0;34m\u001b[0m\u001b[0;34m\u001b[0m\u001b[0m\n\u001b[0;32m--> 404\u001b[0;31m             \u001b[0mself\u001b[0m\u001b[0;34m.\u001b[0m\u001b[0m_check_status\u001b[0m\u001b[0;34m(\u001b[0m\u001b[0mpage\u001b[0m\u001b[0;34m.\u001b[0m\u001b[0mget\u001b[0m\u001b[0;34m(\u001b[0m\u001b[0;34m'status'\u001b[0m\u001b[0;34m)\u001b[0m\u001b[0;34m)\u001b[0m\u001b[0;34m\u001b[0m\u001b[0;34m\u001b[0m\u001b[0m\n\u001b[0m\u001b[1;32m    405\u001b[0m             \u001b[0;32mreturn\u001b[0m \u001b[0;32mNone\u001b[0m\u001b[0;34m\u001b[0m\u001b[0;34m\u001b[0m\u001b[0m\n\u001b[1;32m    406\u001b[0m \u001b[0;34m\u001b[0m\u001b[0m\n",
            "\u001b[0;32m/usr/local/lib/python3.7/dist-packages/geopy/geocoders/googlev3.py\u001b[0m in \u001b[0;36m_check_status\u001b[0;34m(status)\u001b[0m\n\u001b[1;32m    433\u001b[0m         \u001b[0;32melif\u001b[0m \u001b[0mstatus\u001b[0m \u001b[0;34m==\u001b[0m \u001b[0;34m'REQUEST_DENIED'\u001b[0m\u001b[0;34m:\u001b[0m\u001b[0;34m\u001b[0m\u001b[0;34m\u001b[0m\u001b[0m\n\u001b[1;32m    434\u001b[0m             raise GeocoderQueryError(\n\u001b[0;32m--> 435\u001b[0;31m                 \u001b[0;34m'Your request was denied.'\u001b[0m\u001b[0;34m\u001b[0m\u001b[0;34m\u001b[0m\u001b[0m\n\u001b[0m\u001b[1;32m    436\u001b[0m             )\n\u001b[1;32m    437\u001b[0m         \u001b[0;32melif\u001b[0m \u001b[0mstatus\u001b[0m \u001b[0;34m==\u001b[0m \u001b[0;34m'INVALID_REQUEST'\u001b[0m\u001b[0;34m:\u001b[0m\u001b[0;34m\u001b[0m\u001b[0;34m\u001b[0m\u001b[0m\n",
            "\u001b[0;31mGeocoderQueryError\u001b[0m: Your request was denied."
          ]
        }
      ]
    },
    {
      "cell_type": "code",
      "metadata": {
        "colab": {
          "base_uri": "https://localhost:8080/"
        },
        "id": "TPMjBlKmltbD",
        "outputId": "2a61568e-95a9-458c-f3c6-1611a83d77ae"
      },
      "source": [
        "import inspect\n",
        "print ( inspect. getsource ( inspect. getsource ))\n",
        "print ( inspect. getmodule ( inspect. getmodule ))\n",
        "print ( inspect. currentframe () . f_lineno )"
      ],
      "execution_count": 9,
      "outputs": [
        {
          "output_type": "stream",
          "text": [
            "def getsource(object):\n",
            "    \"\"\"Return the text of the source code for an object.\n",
            "\n",
            "    The argument may be a module, class, method, function, traceback, frame,\n",
            "    or code object.  The source code is returned as a single string.  An\n",
            "    OSError is raised if the source code cannot be retrieved.\"\"\"\n",
            "    lines, lnum = getsourcelines(object)\n",
            "    return ''.join(lines)\n",
            "\n",
            "<module 'inspect' from '/usr/lib/python3.7/inspect.py'>\n",
            "4\n"
          ],
          "name": "stdout"
        }
      ]
    },
    {
      "cell_type": "code",
      "metadata": {
        "colab": {
          "base_uri": "https://localhost:8080/"
        },
        "id": "SGpvm0NElxlI",
        "outputId": "81c7ed8c-1e50-460d-9090-995f29ced11b"
      },
      "source": [
        "dictionary = { \"a\" : 1 , \"b\" : 2 }\n",
        "def someFunction ( a, b ) : \n",
        "    print ( a + b )\n",
        "    return\n",
        "    \n",
        "# 2 applications of the function aFunction identical:\n",
        "someFunction ( ** dictionary )\n",
        "someFunction ( a = 1 , b = 2 )"
      ],
      "execution_count": 10,
      "outputs": [
        {
          "output_type": "stream",
          "text": [
            "3\n",
            "3\n"
          ],
          "name": "stdout"
        }
      ]
    },
    {
      "cell_type": "code",
      "metadata": {
        "colab": {
          "base_uri": "https://localhost:8080/"
        },
        "id": "c9cZsVyxl0gE",
        "outputId": "0b72ab71-b53d-4028-b313-895ca31bbad4"
      },
      "source": [
        "numbers = [ 1 , 2 , 3 , 4 , 5 , 6 , 7 ]\n",
        "evens = [ x for x in numbers if x% 2 is 0 ]\n",
        "odds = [ y for y in numbers if y not in evens ]\n",
        "cities = [ 'London' , 'Dublin' , 'Copenhagen' ]\n",
        "def visit ( city ) : \n",
        "    print ( \"Welcome to\" + city )\n",
        "    \n",
        "for city in cities:\n",
        "    visit ( city )"
      ],
      "execution_count": 11,
      "outputs": [
        {
          "output_type": "stream",
          "text": [
            "Welcome toLondon\n",
            "Welcome toDublin\n",
            "Welcome toCopenhagen\n"
          ],
          "name": "stdout"
        }
      ]
    },
    {
      "cell_type": "code",
      "metadata": {
        "colab": {
          "base_uri": "https://localhost:8080/"
        },
        "id": "stC90hRml2KE",
        "outputId": "2887ec6a-7ca9-477f-9477-efc358b91b59"
      },
      "source": [
        "x = [ 1 , 2 , 3 ]\n",
        "y = map ( lambda x : x + 1 , x )# poster [2,3,4]\n",
        "print ( list ( y ))"
      ],
      "execution_count": 12,
      "outputs": [
        {
          "output_type": "stream",
          "text": [
            "[2, 3, 4]\n"
          ],
          "name": "stdout"
        }
      ]
    },
    {
      "cell_type": "code",
      "metadata": {
        "colab": {
          "base_uri": "https://localhost:8080/",
          "height": 232
        },
        "id": "CgW76gZHl3xH",
        "outputId": "6387e9e1-e7b1-4476-f2ec-5d76726fba28"
      },
      "source": [
        "class Thing:\n",
        "    \n",
        "    def __init__ ( self, value ) : \n",
        "        self. __value = value\n",
        "    \n",
        "    def __gt__ ( self, other ) : \n",
        "        return self. __value > other. __value \n",
        "    \n",
        "    def __lt__ ( self, other ) : \n",
        "        return self. __value < other. __value \n",
        "        \n",
        "something = Thing ( 100 )\n",
        "nothing = Thing ( 0 )\n",
        "# True\n",
        "something > nothing\n",
        "# False\n",
        "something < nothing\n",
        "# Error\n",
        "something + nothing"
      ],
      "execution_count": 13,
      "outputs": [
        {
          "output_type": "error",
          "ename": "TypeError",
          "evalue": "ignored",
          "traceback": [
            "\u001b[0;31m---------------------------------------------------------------------------\u001b[0m",
            "\u001b[0;31mTypeError\u001b[0m                                 Traceback (most recent call last)",
            "\u001b[0;32m<ipython-input-13-d077cd352a6f>\u001b[0m in \u001b[0;36m<module>\u001b[0;34m()\u001b[0m\n\u001b[1;32m     17\u001b[0m \u001b[0msomething\u001b[0m \u001b[0;34m<\u001b[0m \u001b[0mnothing\u001b[0m\u001b[0;34m\u001b[0m\u001b[0;34m\u001b[0m\u001b[0m\n\u001b[1;32m     18\u001b[0m \u001b[0;31m# Error\u001b[0m\u001b[0;34m\u001b[0m\u001b[0;34m\u001b[0m\u001b[0;34m\u001b[0m\u001b[0m\n\u001b[0;32m---> 19\u001b[0;31m \u001b[0msomething\u001b[0m \u001b[0;34m+\u001b[0m \u001b[0mnothing\u001b[0m\u001b[0;34m\u001b[0m\u001b[0;34m\u001b[0m\u001b[0m\n\u001b[0m",
            "\u001b[0;31mTypeError\u001b[0m: unsupported operand type(s) for +: 'Thing' and 'Thing'"
          ]
        }
      ]
    },
    {
      "cell_type": "code",
      "metadata": {
        "colab": {
          "base_uri": "https://localhost:8080/",
          "height": 130
        },
        "id": "JLmVd0Ibl7sj",
        "outputId": "d8ce27cd-48fa-49a0-dfca-5fdecd6cab7e"
      },
      "source": [
        "import requests\n",
        "import pprinturl = 'https://randomuser.me/api/?results=1'\n",
        "users = requests. get ( url ) . json ()\n",
        "\n",
        "pprint. pprint ( users )"
      ],
      "execution_count": 14,
      "outputs": [
        {
          "output_type": "error",
          "ename": "SyntaxError",
          "evalue": "ignored",
          "traceback": [
            "\u001b[0;36m  File \u001b[0;32m\"<ipython-input-14-634220a34af6>\"\u001b[0;36m, line \u001b[0;32m2\u001b[0m\n\u001b[0;31m    import pprinturl = 'https://randomuser.me/api/?results=1'\u001b[0m\n\u001b[0m                     ^\u001b[0m\n\u001b[0;31mSyntaxError\u001b[0m\u001b[0;31m:\u001b[0m invalid syntax\n"
          ]
        }
      ]
    },
    {
      "cell_type": "code",
      "metadata": {
        "id": "TS_szIoIl-sQ"
      },
      "source": [
        "import shsh. pwd ()\n",
        "sh. mkdir ( 'new_folder' )\n",
        "sh. touch ( 'new_file.txt' )\n",
        "sh. whoami ()\n",
        "sh. echo ( 'This is great!' )"
      ],
      "execution_count": 15,
      "outputs": []
    },
    {
      "cell_type": "code",
      "metadata": {
        "id": "Yi_AV0dmmCR2"
      },
      "source": [
        "from typing import List\n",
        "Vector = List [ float ]\n",
        "Matrix = List [ Vector ]\n",
        "def addMatrix ( a : Matrix, b : Matrix ) -> Matrix: \n",
        "  result = []\n",
        "  for i, row in enumerate ( a ) : \n",
        "    result_row = []\n",
        "    for j, col in enumerate ( row ) : \n",
        "      result_row += [ a [ i ] [ j ] + b [ i ] [ j ]]\n",
        "    result += [ result_row ]\n",
        "  return result\n",
        "  \n",
        "x = [[ 1.0 , 0.0 ] , [ 0.0 , 1.0 ]]\n",
        "y = [[ 2.0 , 1.0 ] , [ 0.0 , -2.0 ]]\n",
        "z = addMatrix ( x, y )"
      ],
      "execution_count": 20,
      "outputs": []
    },
    {
      "cell_type": "code",
      "metadata": {
        "colab": {
          "base_uri": "https://localhost:8080/"
        },
        "id": "DLpVKZpemEke",
        "outputId": "4719b166-63b4-4fec-f0a2-97def3dad2ad"
      },
      "source": [
        "import uuid\n",
        "user_id = uuid. uuid4 ()\n",
        "print ( user_id )"
      ],
      "execution_count": 22,
      "outputs": [
        {
          "output_type": "stream",
          "text": [
            "a0d70160-f5d0-4bc0-9c10-3de7741aad74\n"
          ],
          "name": "stdout"
        }
      ]
    },
    {
      "cell_type": "code",
      "metadata": {
        "colab": {
          "base_uri": "https://localhost:8080/"
        },
        "id": "aJrajzq_mPPj",
        "outputId": "76b69d2a-a6b6-4518-9387-67458eb1c69f"
      },
      "source": [
        "pip install wikipedia"
      ],
      "execution_count": 24,
      "outputs": [
        {
          "output_type": "stream",
          "text": [
            "Collecting wikipedia\n",
            "  Downloading https://files.pythonhosted.org/packages/67/35/25e68fbc99e672127cc6fbb14b8ec1ba3dfef035bf1e4c90f78f24a80b7d/wikipedia-1.4.0.tar.gz\n",
            "Requirement already satisfied: beautifulsoup4 in /usr/local/lib/python3.7/dist-packages (from wikipedia) (4.6.3)\n",
            "Requirement already satisfied: requests<3.0.0,>=2.0.0 in /usr/local/lib/python3.7/dist-packages (from wikipedia) (2.23.0)\n",
            "Requirement already satisfied: idna<3,>=2.5 in /usr/local/lib/python3.7/dist-packages (from requests<3.0.0,>=2.0.0->wikipedia) (2.10)\n",
            "Requirement already satisfied: urllib3!=1.25.0,!=1.25.1,<1.26,>=1.21.1 in /usr/local/lib/python3.7/dist-packages (from requests<3.0.0,>=2.0.0->wikipedia) (1.24.3)\n",
            "Requirement already satisfied: certifi>=2017.4.17 in /usr/local/lib/python3.7/dist-packages (from requests<3.0.0,>=2.0.0->wikipedia) (2020.12.5)\n",
            "Requirement already satisfied: chardet<4,>=3.0.2 in /usr/local/lib/python3.7/dist-packages (from requests<3.0.0,>=2.0.0->wikipedia) (3.0.4)\n",
            "Building wheels for collected packages: wikipedia\n",
            "  Building wheel for wikipedia (setup.py) ... \u001b[?25l\u001b[?25hdone\n",
            "  Created wheel for wikipedia: filename=wikipedia-1.4.0-cp37-none-any.whl size=11686 sha256=c34e6031b2bc79d12b350f7ca1b2c69efb0708651f727d9e0a5429d10acf53e7\n",
            "  Stored in directory: /root/.cache/pip/wheels/87/2a/18/4e471fd96d12114d16fe4a446d00c3b38fb9efcb744bd31f4a\n",
            "Successfully built wikipedia\n",
            "Installing collected packages: wikipedia\n",
            "Successfully installed wikipedia-1.4.0\n"
          ],
          "name": "stdout"
        }
      ]
    },
    {
      "cell_type": "code",
      "metadata": {
        "colab": {
          "base_uri": "https://localhost:8080/"
        },
        "id": "YXjr9_q9mK3Z",
        "outputId": "fd49a41b-5f78-4b9b-a884-3544e9b5fc63"
      },
      "source": [
        "import wikipedia\n",
        "\n",
        "result = wikipedia. page ( 'freeCodeCamp' )\n",
        "print ( result. summary )\n",
        "for link in result. links :\n",
        "    print ( link )"
      ],
      "execution_count": 25,
      "outputs": [
        {
          "output_type": "stream",
          "text": [
            "freeCodeCamp (also referred to as “Free Code Camp”) is a non-profit organization that consists of an interactive learning web platform, an online community forum, chat rooms, online publications and local organizations that intend to make learning web development accessible to anyone. Beginning with tutorials that introduce students to HTML, CSS and JavaScript, students progress to project assignments that they complete either alone or in pairs. Upon completion of all project tasks, students are partnered with other nonprofits to build web applications, giving the students practical development experience.\n",
            "Air1\n",
            "Algorithm\n",
            "AngularJS\n",
            "Application programming interface\n",
            "Associations Now\n",
            "Bootstrap (front-end framework)\n",
            "Cascading Style Sheets\n",
            "Code School\n",
            "Codecademy\n",
            "D3.js\n",
            "Data Visualization\n",
            "Data structure\n",
            "Express.js\n",
            "Forbes\n",
            "Git\n",
            "GitHub\n",
            "HTML5\n",
            "Impostor syndrome\n",
            "Inc. (magazine)\n",
            "Information security\n",
            "JQuery\n",
            "JavaScript\n",
            "KSL-TV\n",
            "Kopernik (organization)\n",
            "MailChimp\n",
            "Microservices\n",
            "MongoDB\n",
            "Node.js\n",
            "Nonprofit organization\n",
            "Open-source\n",
            "Pair programming\n",
            "Python (programming language)\n",
            "Quality assurance\n",
            "React (JavaScript library)\n",
            "Reddit\n",
            "Responsive Web Design\n",
            "San Francisco, California\n",
            "Sass (stylesheet language)\n",
            "Stanford\n",
            "TechCrunch\n",
            "The Oklahoman\n",
            "Twitter\n",
            "Web development\n",
            "Wired (magazine)\n"
          ],
          "name": "stdout"
        }
      ]
    },
    {
      "cell_type": "code",
      "metadata": {
        "colab": {
          "base_uri": "https://localhost:8080/"
        },
        "id": "QXagiWcemN2-",
        "outputId": "b2dd4e26-739f-4dcd-8edd-8ccd385214e7"
      },
      "source": [
        "keys = [ 'a' , 'b' , 'c' ]\n",
        "vals = [ 1 , 2 , 3 ]\n",
        "zipped = dict ( zip ( keys, vals ))\n",
        "zipped"
      ],
      "execution_count": 26,
      "outputs": [
        {
          "output_type": "execute_result",
          "data": {
            "text/plain": [
              "{'a': 1, 'b': 2, 'c': 3}"
            ]
          },
          "metadata": {
            "tags": []
          },
          "execution_count": 26
        }
      ]
    }
  ]
}