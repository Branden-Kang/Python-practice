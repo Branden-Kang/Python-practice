{
  "nbformat": 4,
  "nbformat_minor": 0,
  "metadata": {
    "colab": {
      "provenance": [],
      "authorship_tag": "ABX9TyMJapNAQP34J/JWmRQ2dbgd"
    },
    "kernelspec": {
      "name": "python3",
      "display_name": "Python 3"
    },
    "language_info": {
      "name": "python"
    }
  },
  "cells": [
    {
      "cell_type": "markdown",
      "source": [
        "[Reference](https://python.plainenglish.io/how-to-build-a-data-pipeline-for-api-integration-using-python-and-postgresql-d61a637e7a77)"
      ],
      "metadata": {
        "id": "Fw3s5_PWyZXv"
      }
    },
    {
      "cell_type": "markdown",
      "source": [
        "# Step 1: Setting Up Your Environment"
      ],
      "metadata": {
        "id": "PDXofGSeycZt"
      }
    },
    {
      "cell_type": "code",
      "execution_count": 1,
      "metadata": {
        "colab": {
          "base_uri": "https://localhost:8080/"
        },
        "id": "E3tIKb-lyWwY",
        "outputId": "cff74589-cf29-47fd-8efa-7de6f6e71249"
      },
      "outputs": [
        {
          "output_type": "stream",
          "name": "stdout",
          "text": [
            "Requirement already satisfied: requests in /usr/local/lib/python3.10/dist-packages (2.32.3)\n",
            "Requirement already satisfied: psycopg2 in /usr/local/lib/python3.10/dist-packages (2.9.10)\n",
            "Requirement already satisfied: pandas in /usr/local/lib/python3.10/dist-packages (2.2.2)\n",
            "Requirement already satisfied: charset-normalizer<4,>=2 in /usr/local/lib/python3.10/dist-packages (from requests) (3.4.0)\n",
            "Requirement already satisfied: idna<4,>=2.5 in /usr/local/lib/python3.10/dist-packages (from requests) (3.10)\n",
            "Requirement already satisfied: urllib3<3,>=1.21.1 in /usr/local/lib/python3.10/dist-packages (from requests) (2.2.3)\n",
            "Requirement already satisfied: certifi>=2017.4.17 in /usr/local/lib/python3.10/dist-packages (from requests) (2024.8.30)\n",
            "Requirement already satisfied: numpy>=1.22.4 in /usr/local/lib/python3.10/dist-packages (from pandas) (1.26.4)\n",
            "Requirement already satisfied: python-dateutil>=2.8.2 in /usr/local/lib/python3.10/dist-packages (from pandas) (2.8.2)\n",
            "Requirement already satisfied: pytz>=2020.1 in /usr/local/lib/python3.10/dist-packages (from pandas) (2024.2)\n",
            "Requirement already satisfied: tzdata>=2022.7 in /usr/local/lib/python3.10/dist-packages (from pandas) (2024.2)\n",
            "Requirement already satisfied: six>=1.5 in /usr/local/lib/python3.10/dist-packages (from python-dateutil>=2.8.2->pandas) (1.16.0)\n"
          ]
        }
      ],
      "source": [
        "pip install requests psycopg2 pandas"
      ]
    },
    {
      "cell_type": "markdown",
      "source": [
        "# Setting Up PostgreSQL Database"
      ],
      "metadata": {
        "id": "AI3sA0TpyiIu"
      }
    },
    {
      "cell_type": "markdown",
      "source": [
        "```\n",
        "CREATE DATABASE api_data;\n",
        "```"
      ],
      "metadata": {
        "id": "cNzDxJbfykFL"
      }
    },
    {
      "cell_type": "markdown",
      "source": [
        "# Step 2: Fetching Data from an API"
      ],
      "metadata": {
        "id": "aRH-hS9yymIf"
      }
    },
    {
      "cell_type": "code",
      "source": [
        "import requests\n",
        "\n",
        "# Define the API endpoint\n",
        "api_url = \"https://api.open-meteo.com/v1/forecast\"\n",
        "params = {\n",
        "    \"latitude\": 35.6895,\n",
        "    \"longitude\": 139.6917,\n",
        "    \"hourly\": \"temperature_2m\"\n",
        "}\n",
        "\n",
        "# Make a GET request to fetch data\n",
        "response = requests.get(api_url, params=params)\n",
        "\n",
        "# Check if the request was successful\n",
        "if response.status_code == 200:\n",
        "    data = response.json()\n",
        "    print(\"Data fetched successfully!\")\n",
        "else:\n",
        "    print(\"Failed to fetch data:\", response.status_code)"
      ],
      "metadata": {
        "colab": {
          "base_uri": "https://localhost:8080/"
        },
        "id": "YctESX3Yyd_v",
        "outputId": "78782c36-206b-4e2e-977e-49fdf774971b"
      },
      "execution_count": 2,
      "outputs": [
        {
          "output_type": "stream",
          "name": "stdout",
          "text": [
            "Data fetched successfully!\n"
          ]
        }
      ]
    },
    {
      "cell_type": "markdown",
      "source": [
        "# Step 3: Transforming Data for Storage"
      ],
      "metadata": {
        "id": "Z1jkQ5NTyvF6"
      }
    },
    {
      "cell_type": "code",
      "source": [
        "import pandas as pd\n",
        "\n",
        "# Extract the relevant data from the JSON response\n",
        "temperature_data = data['hourly']['temperature_2m']\n",
        "timestamps = data['hourly']['time']\n",
        "\n",
        "# Create a DataFrame\n",
        "df = pd.DataFrame({'timestamp': timestamps, 'temperature': temperature_data})\n",
        "\n",
        "# Convert timestamp to datetime format\n",
        "df['timestamp'] = pd.to_datetime(df['timestamp'])\n",
        "print(df.head())"
      ],
      "metadata": {
        "colab": {
          "base_uri": "https://localhost:8080/"
        },
        "id": "mpDsjr-7ynkx",
        "outputId": "d84a3347-65a7-4c2c-9cbc-99f7589d4924"
      },
      "execution_count": 3,
      "outputs": [
        {
          "output_type": "stream",
          "name": "stdout",
          "text": [
            "            timestamp  temperature\n",
            "0 2024-11-30 00:00:00          9.0\n",
            "1 2024-11-30 01:00:00         11.4\n",
            "2 2024-11-30 02:00:00         12.9\n",
            "3 2024-11-30 03:00:00         13.6\n",
            "4 2024-11-30 04:00:00         14.2\n"
          ]
        }
      ]
    },
    {
      "cell_type": "markdown",
      "source": [
        "# Step 4: Creating a Table in PostgreSQL"
      ],
      "metadata": {
        "id": "qOUEzvvMy0JV"
      }
    },
    {
      "cell_type": "markdown",
      "source": [
        "```\n",
        "CREATE TABLE weather_data (\n",
        "    id SERIAL PRIMARY KEY,\n",
        "    timestamp TIMESTAMP,\n",
        "    temperature FLOAT\n",
        ");\n",
        "```"
      ],
      "metadata": {
        "id": "nue8Ugduy2PO"
      }
    },
    {
      "cell_type": "markdown",
      "source": [
        "# Step 5: Loading Data into PostgreSQL"
      ],
      "metadata": {
        "id": "2MRnD4cky4gf"
      }
    },
    {
      "cell_type": "code",
      "source": [
        "import psycopg2\n",
        "\n",
        "# Connect to PostgreSQL\n",
        "conn = psycopg2.connect(\n",
        "    dbname=\"api_data\", user=\"your_user\", password=\"your_password\", host=\"localhost\"\n",
        ")\n",
        "cur = conn.cursor()\n",
        "\n",
        "# Insert DataFrame into PostgreSQL\n",
        "for _, row in df.iterrows():\n",
        "    cur.execute(\n",
        "        \"INSERT INTO weather_data (timestamp, temperature) VALUES (%s, %s)\",\n",
        "        (row['timestamp'], row['temperature'])\n",
        "    )\n",
        "\n",
        "# Commit changes and close connection\n",
        "conn.commit()\n",
        "cur.close()\n",
        "conn.close()\n",
        "print(\"Data inserted into PostgreSQL successfully!\")"
      ],
      "metadata": {
        "id": "wjYCg1bkyzBC"
      },
      "execution_count": 5,
      "outputs": []
    },
    {
      "cell_type": "markdown",
      "source": [
        "# Step 6: Automating the Data Pipeline"
      ],
      "metadata": {
        "id": "YEmzeQv1y8Gw"
      }
    },
    {
      "cell_type": "markdown",
      "source": [
        "## 1. Open the crontab editor:\n",
        "```\n",
        "crontab -e\n",
        "```"
      ],
      "metadata": {
        "id": "rIEhJbIVzI5F"
      }
    },
    {
      "cell_type": "markdown",
      "source": [
        "## 2. Schedule your script to run every day at midnight:\n",
        "```\n",
        "0 0 * * * /usr/bin/python3 /path/to/data_pipeline.py\n",
        "```"
      ],
      "metadata": {
        "id": "BtS4K6cHzPAl"
      }
    },
    {
      "cell_type": "markdown",
      "source": [
        "# Step 7: Querying Data for Analysis"
      ],
      "metadata": {
        "id": "x5OfCRuRzVqJ"
      }
    },
    {
      "cell_type": "code",
      "source": [
        "conn = psycopg2.connect(\n",
        "    dbname=\"api_data\", user=\"your_user\", password=\"your_password\", host=\"localhost\"\n",
        ")\n",
        "cur = conn.cursor()\n",
        "\n",
        "cur.execute(\"SELECT * FROM weather_data WHERE timestamp > NOW() - INTERVAL '1 day'\")\n",
        "rows = cur.fetchall()\n",
        "\n",
        "for row in rows:\n",
        "    print(row)\n",
        "\n",
        "cur.close()\n",
        "conn.close()"
      ],
      "metadata": {
        "id": "aE2CuqDIy1Ny"
      },
      "execution_count": 6,
      "outputs": []
    }
  ]
}