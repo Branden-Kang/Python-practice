{
  "nbformat": 4,
  "nbformat_minor": 0,
  "metadata": {
    "colab": {
      "provenance": [],
      "authorship_tag": "ABX9TyPiDAaVCZYEDQrtpGHa2fxC"
    },
    "kernelspec": {
      "name": "python3",
      "display_name": "Python 3"
    },
    "language_info": {
      "name": "python"
    }
  },
  "cells": [
    {
      "cell_type": "markdown",
      "source": [
        "[Reference](https://medium.com/@nepalsobit1/streamlit-building-interactive-python-applications-made-easy-647e28427d37)"
      ],
      "metadata": {
        "id": "XZvjbLeoFINW"
      }
    },
    {
      "cell_type": "code",
      "execution_count": 1,
      "metadata": {
        "id": "qY80lz6QEWwv"
      },
      "outputs": [],
      "source": [
        "#pip install streamlit\n",
        "import streamlit as st\n",
        "import pandas as pd\n",
        "# Load dataset\n",
        "data = pd.read_csv(\"data.csv\")\n",
        "# Add widgets for filtering\n",
        "selected_columns = st.multiselect(\"Select columns\", data.columns)\n",
        "# Filter and display data\n",
        "filtered_data = data[selected_columns]\n",
        "st.dataframe(filtered_data)\n",
        "\n",
        "import streamlit as st\n",
        "import pandas as pd\n",
        "from sklearn.ensemble import RandomForestClassifier\n",
        "# Load dataset\n",
        "data = pd.read_csv(\"data.csv\")\n",
        "# Create input widgets\n",
        "feature1 = st.slider(\"Feature 1\", 0, 100)\n",
        "feature2 = st.slider(\"Feature 2\", 0, 100)\n",
        "# Train model\n",
        "model = RandomForestClassifier()\n",
        "model.fit(data[[\"Feature1\", \"Feature2\"]], data[\"Label\"])\n",
        "# Make predictions\n",
        "prediction = model.predict([[feature1, feature2]])\n",
        "st.write(\"Prediction:\", prediction)\n",
        "\n",
        "import streamlit as st\n",
        "from PIL import Image\n",
        "import cv2\n",
        "# Upload image\n",
        "uploaded_file = st.file_uploader(\"Choose an image\", type=[\"jpg\", \"png\"])\n",
        "if uploaded_file is not None:\n",
        " # Read and display image\n",
        " image = Image.open(uploaded_file)\n",
        " st.image(image, caption=\"Uploaded Image\", use_column_width=True)\n",
        "# Perform image processing\n",
        " grayscale_image = image.convert(\"L\")\n",
        " st.image(grayscale_image, caption=\"Grayscale Image\", use_column_width=True)\n",
        "# Process video\n",
        " video_file = st.file_uploader(\"Choose a video\", type=[\"mp4\"])\n",
        "\n",
        " if video_file is not None:\n",
        " # Read video\n",
        "    video = cv2.VideoCapture(video_file.name)\n",
        " # Display video frame by frame\n",
        " while video.isOpened():\n",
        "    ret, frame = video.read()\n",
        " if not ret:\n",
        "    break\n",
        " st.image(frame, channels=\"BGR\", caption=\"Video Frame\")\n",
        " video.release()"
      ]
    }
  ]
}