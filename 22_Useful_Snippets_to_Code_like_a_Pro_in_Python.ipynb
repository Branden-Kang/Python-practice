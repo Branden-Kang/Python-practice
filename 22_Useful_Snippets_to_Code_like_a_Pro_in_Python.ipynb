{
  "nbformat": 4,
  "nbformat_minor": 0,
  "metadata": {
    "colab": {
      "name": "22 Useful Snippets to Code like a Pro in Python.ipynb",
      "provenance": [],
      "authorship_tag": "ABX9TyPMa6uyjaIysa0tpLo7ixIa"
    },
    "kernelspec": {
      "name": "python3",
      "display_name": "Python 3"
    },
    "language_info": {
      "name": "python"
    }
  },
  "cells": [
    {
      "cell_type": "markdown",
      "metadata": {
        "id": "ECFIEa2ruiv9"
      },
      "source": [
        "[Reference](https://python.plainenglish.io/22-useful-snippets-to-code-like-a-pro-in-python-1d0dcaacac69)"
      ]
    },
    {
      "cell_type": "code",
      "metadata": {
        "colab": {
          "base_uri": "https://localhost:8080/"
        },
        "id": "f6gvDjYOub9I",
        "outputId": "78028a32-1cf5-49ae-e0b9-d02a21db6674"
      },
      "source": [
        "def get_vowels(String):\n",
        "    return [each for each in String if each in \"aeiou\"]\n",
        "    \n",
        "get_vowels(\"animal\") # [a, i, a]\n",
        "get_vowels(\"sky\") # []\n",
        "get_vowels(\"football\") # [o, o, a]"
      ],
      "execution_count": 1,
      "outputs": [
        {
          "output_type": "execute_result",
          "data": {
            "text/plain": [
              "['o', 'o', 'a']"
            ]
          },
          "metadata": {
            "tags": []
          },
          "execution_count": 1
        }
      ]
    },
    {
      "cell_type": "code",
      "metadata": {
        "colab": {
          "base_uri": "https://localhost:8080/",
          "height": 37
        },
        "id": "H-rcMuEoula9",
        "outputId": "b4ac0a55-b5cf-44d5-83bd-94f154992fcc"
      },
      "source": [
        "def capitalize(String):\n",
        "    return String.title()\n",
        "    \n",
        "capitalize(\"shop\") # [Shop]\n",
        "capitalize(\"python programming\") # [Python Programming]\n",
        "capitalize(\"how are you!\") # [How Are You!]"
      ],
      "execution_count": 2,
      "outputs": [
        {
          "output_type": "execute_result",
          "data": {
            "application/vnd.google.colaboratory.intrinsic+json": {
              "type": "string"
            },
            "text/plain": [
              "'How Are You!'"
            ]
          },
          "metadata": {
            "tags": []
          },
          "execution_count": 2
        }
      ]
    },
    {
      "cell_type": "code",
      "metadata": {
        "colab": {
          "base_uri": "https://localhost:8080/"
        },
        "id": "KcTMStrbunIL",
        "outputId": "f7b3df0b-a464-4aef-c65b-6b8bb3d6690a"
      },
      "source": [
        "n=5\n",
        "string=\"Hello World \"\n",
        "print(string * n) "
      ],
      "execution_count": 3,
      "outputs": [
        {
          "output_type": "stream",
          "text": [
            "Hello World Hello World Hello World Hello World Hello World \n"
          ],
          "name": "stdout"
        }
      ]
    },
    {
      "cell_type": "code",
      "metadata": {
        "colab": {
          "base_uri": "https://localhost:8080/"
        },
        "id": "yw527XS2upGN",
        "outputId": "0067d56d-295a-43d7-b5fa-0f4bf8ded828"
      },
      "source": [
        "def merge(dic1,dic2):\n",
        "    dic3=dic1.copy()\n",
        "    dic3.update(dic2)\n",
        "    return dic3\n",
        "\n",
        "dic1={1:\"hello\", 2:\"world\"}\n",
        "dic2={3:\"Python\", 4:\"Programming\"}\n",
        "merge(dic1,dic2)"
      ],
      "execution_count": 5,
      "outputs": [
        {
          "output_type": "execute_result",
          "data": {
            "text/plain": [
              "{1: 'hello', 2: 'world', 3: 'Python', 4: 'Programming'}"
            ]
          },
          "metadata": {
            "tags": []
          },
          "execution_count": 5
        }
      ]
    },
    {
      "cell_type": "code",
      "metadata": {
        "colab": {
          "base_uri": "https://localhost:8080/"
        },
        "id": "_fSLIeVFuqTK",
        "outputId": "90e0b93c-314b-4d93-835e-a15cb5c0b370"
      },
      "source": [
        "import time\n",
        "\n",
        "start_time= time.time()\n",
        "\n",
        "def fun():\n",
        "    a=2\n",
        "    b=3\n",
        "    c=a+b\n",
        "\n",
        "end_time= time.time()\n",
        "timetaken = end_time - start_time\n",
        "print(\"Your program takes: \", timetaken)"
      ],
      "execution_count": 6,
      "outputs": [
        {
          "output_type": "stream",
          "text": [
            "Your program takes:  0.0009729862213134766\n"
          ],
          "name": "stdout"
        }
      ]
    },
    {
      "cell_type": "code",
      "metadata": {
        "colab": {
          "base_uri": "https://localhost:8080/"
        },
        "id": "mdM8N5gYuwAx",
        "outputId": "56c5425a-2ee5-4439-d42d-a6ef1344ea43"
      },
      "source": [
        "a=3\n",
        "b=4\n",
        "\n",
        "a, b = b, a\n",
        "print(a, b)"
      ],
      "execution_count": 8,
      "outputs": [
        {
          "output_type": "stream",
          "text": [
            "4 3\n"
          ],
          "name": "stdout"
        }
      ]
    },
    {
      "cell_type": "code",
      "metadata": {
        "colab": {
          "base_uri": "https://localhost:8080/"
        },
        "id": "NEncJlh_uxQ0",
        "outputId": "73dfae2e-ee6d-4c35-9339-10cc5e0691c3"
      },
      "source": [
        "def check_duplicate(lst):\n",
        "    return len(lst) != len(set(lst))\n",
        "    \n",
        "check_duplicate([1,2,3,4,5,4,6]) # True\n",
        "check_duplicate([1,2,3]) # False\n",
        "check_duplicate([1,2,3,4,9])"
      ],
      "execution_count": 9,
      "outputs": [
        {
          "output_type": "execute_result",
          "data": {
            "text/plain": [
              "False"
            ]
          },
          "metadata": {
            "tags": []
          },
          "execution_count": 9
        }
      ]
    },
    {
      "cell_type": "code",
      "metadata": {
        "colab": {
          "base_uri": "https://localhost:8080/"
        },
        "id": "JqJlgQaku0J3",
        "outputId": "501e22de-5e75-4acb-bf48-1d140e75a701"
      },
      "source": [
        "def Filtering(lst):\n",
        "    return list(filter(None,lst))\n",
        "    \n",
        "lst=[None,1,3,0,\"\",5,7]\n",
        "Filtering(lst)"
      ],
      "execution_count": 10,
      "outputs": [
        {
          "output_type": "execute_result",
          "data": {
            "text/plain": [
              "[1, 3, 5, 7]"
            ]
          },
          "metadata": {
            "tags": []
          },
          "execution_count": 10
        }
      ]
    },
    {
      "cell_type": "code",
      "metadata": {
        "colab": {
          "base_uri": "https://localhost:8080/"
        },
        "id": "tuYpdzLyu2S8",
        "outputId": "81eb302a-63aa-4b9a-d7c2-d90e6c413ce7"
      },
      "source": [
        "def ByteSize(string):\n",
        "    return len(string.encode(\"utf8\"))\n",
        "    \n",
        "ByteSize(\"Python\") #6\n",
        "ByteSize(\"Data\")"
      ],
      "execution_count": 11,
      "outputs": [
        {
          "output_type": "execute_result",
          "data": {
            "text/plain": [
              "4"
            ]
          },
          "metadata": {
            "tags": []
          },
          "execution_count": 11
        }
      ]
    },
    {
      "cell_type": "code",
      "metadata": {
        "colab": {
          "base_uri": "https://localhost:8080/"
        },
        "id": "DpWT5j7nu4Yg",
        "outputId": "98571532-170b-45b5-b694-521e54d82f2a"
      },
      "source": [
        "import sys\n",
        "\n",
        "var1=\"Python\"\n",
        "var2=100\n",
        "var3=True\n",
        "\n",
        "print(sys.getsizeof(var1)) #55\n",
        "print(sys.getsizeof(var2)) #28\n",
        "print(sys.getsizeof(var3)) #28"
      ],
      "execution_count": 12,
      "outputs": [
        {
          "output_type": "stream",
          "text": [
            "55\n",
            "28\n",
            "28\n"
          ],
          "name": "stdout"
        }
      ]
    },
    {
      "cell_type": "code",
      "metadata": {
        "colab": {
          "base_uri": "https://localhost:8080/"
        },
        "id": "P8G1kBZDu6I_",
        "outputId": "42996a5f-53b2-4b62-cd85-2da530ca8c25"
      },
      "source": [
        "from collections import Counter\n",
        "\n",
        "def anagrams(str1, str2):\n",
        "    return Counter(str1) == Counter(str2)\n",
        "    \n",
        "anagrams(\"abc1\", \"1bac\") # True"
      ],
      "execution_count": 13,
      "outputs": [
        {
          "output_type": "execute_result",
          "data": {
            "text/plain": [
              "True"
            ]
          },
          "metadata": {
            "tags": []
          },
          "execution_count": 13
        }
      ]
    },
    {
      "cell_type": "code",
      "metadata": {
        "colab": {
          "base_uri": "https://localhost:8080/"
        },
        "id": "dQHaytaTu8Kt",
        "outputId": "e6294552-637a-452f-c189-ece4f7250b40"
      },
      "source": [
        "my_list = [\"leaf\", \"cherry\", \"fish\"]\n",
        "my_list1 = [\"D\",\"C\",\"B\",\"A\"]\n",
        "my_list2 = [1,2,3,4,5]\n",
        "\n",
        "my_list.sort() # ['cherry', 'fish', 'leaf']\n",
        "my_list1.sort() # ['A', 'B', 'C', 'D']\n",
        "print(sorted(my_list2, reverse=True)) "
      ],
      "execution_count": 14,
      "outputs": [
        {
          "output_type": "stream",
          "text": [
            "[5, 4, 3, 2, 1]\n"
          ],
          "name": "stdout"
        }
      ]
    },
    {
      "cell_type": "code",
      "metadata": {
        "colab": {
          "base_uri": "https://localhost:8080/"
        },
        "id": "Q3lAEsRxu-GB",
        "outputId": "f3750581-d472-4606-c6b4-a8a6822d4d83"
      },
      "source": [
        "orders = {\n",
        " 'pizza': 200,\n",
        " 'burger': 56,\n",
        " 'pepsi': 25,\n",
        "    'Coffee': 14\n",
        "}\n",
        "\n",
        "sorted_dic= sorted(orders.items(), key=lambda x: x[1])\n",
        "print(sorted_dic) "
      ],
      "execution_count": 15,
      "outputs": [
        {
          "output_type": "stream",
          "text": [
            "[('Coffee', 14), ('pepsi', 25), ('burger', 56), ('pizza', 200)]\n"
          ],
          "name": "stdout"
        }
      ]
    },
    {
      "cell_type": "code",
      "metadata": {
        "colab": {
          "base_uri": "https://localhost:8080/"
        },
        "id": "VQgA-Voau_84",
        "outputId": "3f2feeba-49f6-42bc-a85b-a25d726e2ac6"
      },
      "source": [
        "my_list = [\"Python\", \"JavaScript\", \"C++\", \"Java\", \"C#\", \"Dart\"]\n",
        "\n",
        "#method 1\n",
        "print(my_list[-1])  # Dart\n",
        "\n",
        "#method 2\n",
        "print(my_list.pop()) "
      ],
      "execution_count": 16,
      "outputs": [
        {
          "output_type": "stream",
          "text": [
            "Dart\n",
            "Dart\n"
          ],
          "name": "stdout"
        }
      ]
    },
    {
      "cell_type": "code",
      "metadata": {
        "colab": {
          "base_uri": "https://localhost:8080/"
        },
        "id": "Q7IC7A1FvC3j",
        "outputId": "7f7a73d9-73a7-4373-993e-db8b0b26fbd3"
      },
      "source": [
        "my_list1=[\"Python\",\"JavaScript\",\"C++\"]\n",
        "my_list2=[\"Java\", \"Flutter\", \"Swift\"]\n",
        "\n",
        "#example 1\n",
        "print(\"My favourite Programming Languages are\" , \", \".join(my_list1)) \n",
        "\n",
        "# My favourite Programming Languages are Python, JavaScript, C++\n",
        "print(\", \".join(my_list2))  "
      ],
      "execution_count": 18,
      "outputs": [
        {
          "output_type": "stream",
          "text": [
            "My favourite Programming Languages are Python, JavaScript, C++\n",
            "Java, Flutter, Swift\n"
          ],
          "name": "stdout"
        }
      ]
    },
    {
      "cell_type": "code",
      "metadata": {
        "colab": {
          "base_uri": "https://localhost:8080/"
        },
        "id": "QDUabAI_vG7V",
        "outputId": "f436a73c-5830-4d0b-df07-bb57853e14fc"
      },
      "source": [
        "def palindrome(data):\n",
        "    return data == data[::-1]\n",
        "    \n",
        "palindrome(\"level\") #True\n",
        "palindrome(\"madaa\") "
      ],
      "execution_count": 19,
      "outputs": [
        {
          "output_type": "execute_result",
          "data": {
            "text/plain": [
              "False"
            ]
          },
          "metadata": {
            "tags": []
          },
          "execution_count": 19
        }
      ]
    },
    {
      "cell_type": "code",
      "metadata": {
        "id": "7o60Xo5HvOnT"
      },
      "source": [
        "from random import shuffle\n",
        "\n",
        "my_list1=[1,2,3,4,5,6]\n",
        "my_list2=[\"A\",\"B\",\"C\",\"D\"]\n",
        "\n",
        "shuffle(my_list1) # [4, 6, 1, 3, 2, 5]\n",
        "shuffle(my_list2) "
      ],
      "execution_count": 20,
      "outputs": []
    },
    {
      "cell_type": "code",
      "metadata": {
        "colab": {
          "base_uri": "https://localhost:8080/"
        },
        "id": "iF3N8SurvRjx",
        "outputId": "334b8fc4-3208-4dfc-cb4c-b1e5e6f56afb"
      },
      "source": [
        "str1 =\"Python Programming\"\n",
        "str2 =\"IM A PROGRAMMER\"\n",
        "\n",
        "print(str1.upper()) #PYTHON PROGRAMMING\n",
        "print(str2.lower()) #im a programmer"
      ],
      "execution_count": 21,
      "outputs": [
        {
          "output_type": "stream",
          "text": [
            "PYTHON PROGRAMMING\n",
            "im a programmer\n"
          ],
          "name": "stdout"
        }
      ]
    },
    {
      "cell_type": "code",
      "metadata": {
        "id": "5iOD8_7FvTB9"
      },
      "source": [
        "#example 1\n",
        "str1 =\"Python Programming\"\n",
        "str2 =\"I'm a {}\".format(str1)   # I'm a Python Programming\n",
        "\n",
        "#example 2 - another way\n",
        "str1 =\"Python Programming\"\n",
        "str2 =f\"I'm a {str1}\"   "
      ],
      "execution_count": 22,
      "outputs": []
    },
    {
      "cell_type": "code",
      "metadata": {
        "colab": {
          "base_uri": "https://localhost:8080/"
        },
        "id": "RR1asB9BvVL_",
        "outputId": "05905534-8d5e-47d8-8541-84eaf10d3650"
      },
      "source": [
        "programmers = [\"I'm an expert Python Programmer\",\n",
        "               \"I'm an expert Javascript Programmer\",\n",
        "               \"I'm a professional Python Programmer\"\n",
        "               \"I'm a beginner C++ Programmer\"\n",
        "]\n",
        "\n",
        "#method 1\n",
        "for p in programmers:\n",
        "    if p.find(\"Python\"):\n",
        "        print(p)\n",
        "\n",
        "#method 2\n",
        "for p in programmers:\n",
        "    if \"Python\" in p:\n",
        "        print(p)"
      ],
      "execution_count": 23,
      "outputs": [
        {
          "output_type": "stream",
          "text": [
            "I'm an expert Python Programmer\n",
            "I'm an expert Javascript Programmer\n",
            "I'm a professional Python ProgrammerI'm a beginner C++ Programmer\n",
            "I'm an expert Python Programmer\n",
            "I'm a professional Python ProgrammerI'm a beginner C++ Programmer\n"
          ],
          "name": "stdout"
        }
      ]
    },
    {
      "cell_type": "code",
      "metadata": {
        "colab": {
          "base_uri": "https://localhost:8080/"
        },
        "id": "xLFB3D4cvXIH",
        "outputId": "54cb5554-9da1-4491-850c-8a1b8c727f78"
      },
      "source": [
        "# fastest way\n",
        "import sys\n",
        "sys.stdout.write(\"Call of duty \")\n",
        "sys.stdout.write(\"and Black Ops\")\n",
        "# output: Call of duty and Black Ops\n",
        "\n",
        "#another way but only for python 3\n",
        "print(\"Python \", end=\"\")\n",
        "print(\"Programming\") "
      ],
      "execution_count": 24,
      "outputs": [
        {
          "output_type": "stream",
          "text": [
            "Call of duty and Black OpsPython Programming\n"
          ],
          "name": "stdout"
        }
      ]
    },
    {
      "cell_type": "code",
      "metadata": {
        "colab": {
          "base_uri": "https://localhost:8080/"
        },
        "id": "Wrb4dUtHva93",
        "outputId": "df6d257d-4804-43fa-9473-ffa2aeb9b66a"
      },
      "source": [
        "def chunk(my_list, size):\n",
        "    return [my_list[i:i+size] for i in range(0,len(my_list), size)]\n",
        "    \n",
        "my_list = [1, 2, 3, 4, 5, 6]\n",
        "chunk(my_list, 2) # [[1, 2], [3, 4], [5, 6]]"
      ],
      "execution_count": 25,
      "outputs": [
        {
          "output_type": "execute_result",
          "data": {
            "text/plain": [
              "[[1, 2], [3, 4], [5, 6]]"
            ]
          },
          "metadata": {
            "tags": []
          },
          "execution_count": 25
        }
      ]
    }
  ]
}