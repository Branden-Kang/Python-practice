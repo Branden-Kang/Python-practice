{
  "nbformat": 4,
  "nbformat_minor": 0,
  "metadata": {
    "colab": {
      "name": "Magic of Python Context Managers.ipynb",
      "provenance": [],
      "authorship_tag": "ABX9TyMbZLy4JZBKkBVT2Lf7KzBp"
    },
    "kernelspec": {
      "name": "python3",
      "display_name": "Python 3"
    }
  },
  "cells": [
    {
      "cell_type": "markdown",
      "metadata": {
        "id": "p83I_iO3UKke"
      },
      "source": [
        "[Reference](https://towardsdatascience.com/the-magic-of-python-context-managers-adb92ace1dd0)"
      ]
    },
    {
      "cell_type": "code",
      "metadata": {
        "id": "xiJTZYJZUizF"
      },
      "source": [
        "class Timer:\n",
        "    def __init__(self):\n",
        "        self._start = None\n",
        "        self.elapsed = 0.0\n",
        "\n",
        "    def start(self):\n",
        "        if self._start is not None:\n",
        "            raise RuntimeError('Timer already started...')\n",
        "        self._start = time.perf_counter()\n",
        "\n",
        "    def stop(self):\n",
        "        if self._start is None:\n",
        "            raise RuntimeError('Timer not yet started...')\n",
        "        end = time.perf_counter()\n",
        "        self.elapsed += end - self._start\n",
        "        self._start = None\n",
        "\n",
        "    def __enter__(self):  # Setup\n",
        "        self.start()\n",
        "        return self\n",
        "\n",
        "    def __exit__(self, *args):  # Teardown\n",
        "        self.stop()"
      ],
      "execution_count": 3,
      "outputs": []
    },
    {
      "cell_type": "code",
      "metadata": {
        "colab": {
          "base_uri": "https://localhost:8080/"
        },
        "id": "oR1oNAf8UGFY",
        "outputId": "4a7258e9-6ec7-4d28-bd21-61cf59aec575"
      },
      "source": [
        "# Using try/finally\n",
        "import time\n",
        "\n",
        "start = time.perf_counter()  # Setup\n",
        "try:  # Actual body\n",
        "    time.sleep(3)\n",
        "finally:  # Teardown\n",
        "    end = time.perf_counter()\n",
        "    elapsed = end - start\n",
        "    \n",
        "print(elapsed)\n",
        "\n",
        "# Using Context Manager\n",
        "with Timer() as t:\n",
        "    time.sleep(3)\n",
        "\n",
        "print(t.elapsed)"
      ],
      "execution_count": 4,
      "outputs": [
        {
          "output_type": "stream",
          "text": [
            "3.003182623999976\n",
            "3.0009505369999943\n"
          ],
          "name": "stdout"
        }
      ]
    },
    {
      "cell_type": "code",
      "metadata": {
        "colab": {
          "base_uri": "https://localhost:8080/"
        },
        "id": "O-cnBoATUR8n",
        "outputId": "0be6356f-bc3f-4b2c-a259-246a4372e656"
      },
      "source": [
        "manager = Timer()\n",
        "manager.__enter__()  # Setup\n",
        "time.sleep(3)  # Body\n",
        "manager.__exit__(None, None, None)  # Teardown\n",
        "print(manager.elapsed)"
      ],
      "execution_count": 5,
      "outputs": [
        {
          "output_type": "stream",
          "text": [
            "3.003279851000059\n"
          ],
          "name": "stdout"
        }
      ]
    },
    {
      "cell_type": "code",
      "metadata": {
        "colab": {
          "base_uri": "https://localhost:8080/"
        },
        "id": "ZCBPMygWUrIj",
        "outputId": "0cb32a54-62e2-4a50-c831-038f72985b85"
      },
      "source": [
        "from contextlib import contextmanager\n",
        "from time import time, sleep\n",
        "\n",
        "@contextmanager\n",
        "def timed(label):\n",
        "    start = time()  # Setup - __enter__\n",
        "    print(f\"{label}: Start at {start}\")\n",
        "    try:  \n",
        "        yield  # yield to body of `with` statement\n",
        "    finally:  # Teardown - __exit__\n",
        "        end = time()\n",
        "        print(f\"{label}: End at {end} ({end - start} elapsed)\")\n",
        "\n",
        "with timed(\"Counter\"):\n",
        "    sleep(3)"
      ],
      "execution_count": 6,
      "outputs": [
        {
          "output_type": "stream",
          "text": [
            "Counter: Start at 1613185079.9902718\n",
            "Counter: End at 1613185082.9938965 (3.003624677658081 elapsed)\n"
          ],
          "name": "stdout"
        }
      ]
    },
    {
      "cell_type": "code",
      "metadata": {
        "colab": {
          "base_uri": "https://localhost:8080/"
        },
        "id": "p_FcERAUUtlN",
        "outputId": "e83fb015-30cd-4a6f-cd17-e8482efa06c9"
      },
      "source": [
        "import logging\n",
        "from contextlib import contextmanager\n",
        "\n",
        "@contextmanager\n",
        "def log(level):\n",
        "    logger = logging.getLogger()\n",
        "    current_level = logger.getEffectiveLevel()\n",
        "    logger.setLevel(level)\n",
        "    try:\n",
        "        yield\n",
        "    finally:\n",
        "        logger.setLevel(current_level)\n",
        "\n",
        "def some_function():\n",
        "    logging.debug(\"Some debug level information...\")\n",
        "    logging.error('Serious error...')\n",
        "    logging.warning('Some warning message...')\n",
        "\n",
        "with log(logging.DEBUG):\n",
        "    some_function()"
      ],
      "execution_count": 7,
      "outputs": [
        {
          "output_type": "stream",
          "text": [
            "DEBUG:root:Some debug level information...\n",
            "ERROR:root:Serious error...\n",
            "WARNING:root:Some warning message...\n"
          ],
          "name": "stderr"
        }
      ]
    },
    {
      "cell_type": "code",
      "metadata": {
        "id": "8yo0BZgZVHor"
      },
      "source": [
        "import signal\n",
        "from time import sleep\n",
        "\n",
        "class timeout:\n",
        "    def __init__(self, seconds, *, timeout_message=\"\"):\n",
        "        self.seconds = int(seconds)\n",
        "        self.timeout_message = timeout_message\n",
        "\n",
        "    def _timeout_handler(self, signum, frame):\n",
        "        raise TimeoutError(self.timeout_message)\n",
        "\n",
        "    def __enter__(self):\n",
        "        signal.signal(signal.SIGALRM, self._timeout_handler)  # Set handler for SIGALRM\n",
        "        signal.alarm(self.seconds)  # start countdown for SIGALRM to be raised\n",
        "\n",
        "    def __exit__(self, exc_type, exc_val, exc_tb):\n",
        "        signal.alarm(0)  # Cancel SIGALRM if it's scheduled\n",
        "        return exc_type is TimeoutError  # Suppress TimeoutError\n",
        "\n",
        "\n",
        "with timeout(3):\n",
        "    # Some long running task...\n",
        "    sleep(10)"
      ],
      "execution_count": 8,
      "outputs": []
    },
    {
      "cell_type": "code",
      "metadata": {
        "colab": {
          "base_uri": "https://localhost:8080/"
        },
        "id": "UERh1yDwVKE5",
        "outputId": "e23d7ecd-a855-4e58-e676-2c202653f09c"
      },
      "source": [
        "from decimal import getcontext, Decimal, setcontext, localcontext, Context\n",
        "\n",
        "# Bad\n",
        "old_context = getcontext().copy()\n",
        "getcontext().prec = 40\n",
        "print(Decimal(22) / Decimal(7))\n",
        "setcontext(old_context)\n",
        "\n",
        "# Good\n",
        "with localcontext(Context(prec=50)):\n",
        "    print(Decimal(22) / Decimal(7))  # 3.1428571428571428571428571428571428571428571428571\n",
        "\n",
        "print(Decimal(22) / Decimal(7))      "
      ],
      "execution_count": 9,
      "outputs": [
        {
          "output_type": "stream",
          "text": [
            "3.142857142857142857142857142857142857143\n",
            "3.1428571428571428571428571428571428571428571428571\n",
            "3.142857142857142857142857143\n"
          ],
          "name": "stdout"
        }
      ]
    }
  ]
}