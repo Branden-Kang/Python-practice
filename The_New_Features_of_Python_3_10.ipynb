{
  "nbformat": 4,
  "nbformat_minor": 0,
  "metadata": {
    "colab": {
      "name": "The New Features of Python 3.10.ipynb",
      "provenance": [],
      "authorship_tag": "ABX9TyMjbL396CaSGQDP3ZdbqyBw"
    },
    "kernelspec": {
      "name": "python3",
      "display_name": "Python 3"
    },
    "language_info": {
      "name": "python"
    }
  },
  "cells": [
    {
      "cell_type": "markdown",
      "metadata": {
        "id": "pIHoFGgU8Zyu"
      },
      "source": [
        "[Reference](https://betterprogramming.pub/the-best-features-of-python-3-10-fa0048bc0e53)"
      ]
    },
    {
      "cell_type": "markdown",
      "metadata": {
        "id": "8OjPrYEI8ebZ"
      },
      "source": [
        "# 1. Helpful Syntax Errors\n",
        "```\n",
        "if rocket.position > event_horizon\n",
        "\n",
        "File \"<stdin>\", line 1\n",
        "\n",
        "if rocket.position > event_horizon\n",
        "\n",
        "^\n",
        "\n",
        "SyntaxError: expected ':\n",
        "\n",
        "{x,y for x,y in zip(‘abcd’, ‘1234’)}\n",
        "\n",
        "File “<stdin>”, line 1\n",
        "\n",
        "{x,y for x,y in zip(‘abcd’, ‘1234’)}\n",
        "\n",
        "^^^\n",
        "SyntaxError: did you forget parentheses around the comprehension target?\n",
        "```"
      ]
    },
    {
      "cell_type": "markdown",
      "metadata": {
        "id": "GQNIbjQh8mxY"
      },
      "source": [
        "# 2. Structural Pattern Matching\n",
        "\n",
        "```python\n",
        "numbers = [1,2,3,4]\n",
        "for n in numbers:\n",
        "    match n:\n",
        "        case 1:\n",
        "            print(\"Number is 1\")\n",
        "        case 2:\n",
        "            print(\"Number is 2\")\n",
        "        case 3:\n",
        "            print(\"Number is 3\")\n",
        "        case _:\n",
        "            print(\"Number is not 1,2 or 3\")\n",
        "\n",
        "def human_age(person):  # person = (name, age, gender)\n",
        "    match person:\n",
        "        case (name, _, \"male\"):\n",
        "            print(f\"{name} is man.\")\n",
        "        case (name, _, \"female\"):\n",
        "            print(f\"{name} is woman.\")\n",
        "        case (name, age, gender):\n",
        "            print(f\"{name} is {age} old.\")\n",
        "```\n"
      ]
    },
    {
      "cell_type": "markdown",
      "metadata": {
        "id": "CkduhBOx82SX"
      },
      "source": [
        "# 3. New Type Union Operator\n",
        "```python\n",
        "\n",
        "def square(number: int|float):\n",
        "    return number ** 2\n",
        "\n",
        "isinstance(\"3\",int|str)\n",
        "# [Output] True\n",
        "\n",
        "isinstance(\"GoodBye\",int|str)\n",
        "# [Output] True\n",
        "```"
      ]
    },
    {
      "cell_type": "markdown",
      "metadata": {
        "id": "0Fg9C3qW8_EK"
      },
      "source": [
        "# 4. Improved Modules\n",
        "\n",
        "## 1. pprint()\n",
        "\n",
        "```python\n",
        "pprint.pformat(int(1e9),underscore_numbers=True)\n",
        "\n",
        "# [Output] '1_000_000_000'\n",
        "```"
      ]
    },
    {
      "cell_type": "markdown",
      "metadata": {
        "id": "KXmLdWzM9Mai"
      },
      "source": [
        "## 2. Population count\n",
        "```python\n",
        "value = 50\n",
        "print(bin(value))\n",
        "# [Output] 0b101010\n",
        "print(value.bit_count())\n",
        "# [Output] 3\n",
        "```"
      ]
    },
    {
      "cell_type": "markdown",
      "metadata": {
        "id": "_ulpHnwz9Y-H"
      },
      "source": [
        "## 3. Statistics\n",
        "\n",
        "```python\n",
        "import statistics\n",
        "x = [1, 2, 3, 4, 5, 6, 7, 8, 9]\n",
        "y = [1, 2, 3, 1, 2, 3, 1, 2, 3]\n",
        "statistics.covariance(x,y)\n",
        "# [Output] 0.75\n",
        "\n",
        "x = [1, 2, 3, 4, 5, 6, 7, 8, 9]\n",
        "y = [1, 2, 3, 1, 2, 3, 1, 2]\n",
        "statistics.covariance(x,y)\n",
        "# [Output] statistics.StatisticsError: covariance requires that both inputs have same number of data points\n",
        "\n",
        "x = [1, 2, 3, 4, 5, 6, 7, 8, 9]\n",
        "y = [9, 8, 7, 6, 5, 4, 3, 2, 1]\n",
        "correlation(x, x)\n",
        "# [Output] 1.0\n",
        "\n",
        "years = [2001,2005,2010]\n",
        "houses_built = [5,8,14]\n",
        "slope, intercept = statistics.linear_regression(years, houses_built)>>> round(slope * 2017 + intercept)\n",
        "# [Output] 21\n",
        "```"
      ]
    }
  ]
}