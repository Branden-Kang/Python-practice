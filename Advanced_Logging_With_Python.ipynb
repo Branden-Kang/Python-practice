{
  "nbformat": 4,
  "nbformat_minor": 0,
  "metadata": {
    "colab": {
      "name": "Advanced Logging With Python.ipynb",
      "provenance": [],
      "authorship_tag": "ABX9TyOtJ2rLuDFWQHLc4c95w5iQ"
    },
    "kernelspec": {
      "name": "python3",
      "display_name": "Python 3"
    }
  },
  "cells": [
    {
      "cell_type": "markdown",
      "metadata": {
        "id": "9DxF3uYjfVi7"
      },
      "source": [
        "[Reference](https://medium.com/python-in-plain-english/advanced-logging-with-python-32e5b0c1c4d8)"
      ]
    },
    {
      "cell_type": "code",
      "metadata": {
        "id": "u-TisTDjfUVb"
      },
      "source": [
        "import logging\n",
        "import logging.config\n",
        "\n",
        "logging.config.fileConfig(\"log.config\")\n",
        "logger = logging.getLogger(\"main\")\n",
        "\n",
        "for index in range(1000):\n",
        "    logger.debug(f'Shows in the logging file {index}')\n",
        "    logger.info(f'Shows on the console and in the logging file {index}')"
      ],
      "execution_count": 2,
      "outputs": []
    }
  ]
}