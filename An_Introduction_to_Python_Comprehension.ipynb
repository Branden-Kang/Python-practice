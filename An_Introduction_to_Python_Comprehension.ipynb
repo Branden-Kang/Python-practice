{
  "nbformat": 4,
  "nbformat_minor": 0,
  "metadata": {
    "colab": {
      "name": "An Introduction to Python Comprehension.ipynb",
      "provenance": [],
      "authorship_tag": "ABX9TyOfdtkFy6S/+Bzu6fZ5aL6x"
    },
    "kernelspec": {
      "name": "python3",
      "display_name": "Python 3"
    },
    "language_info": {
      "name": "python"
    }
  },
  "cells": [
    {
      "cell_type": "markdown",
      "metadata": {
        "id": "1a70U0WzlB6b"
      },
      "source": [
        "[Reference](https://medium.com/geekculture/an-introduction-to-python-comprehension-dc936f0607ff)"
      ]
    },
    {
      "cell_type": "code",
      "metadata": {
        "colab": {
          "base_uri": "https://localhost:8080/"
        },
        "id": "k-C78YUXk15H",
        "outputId": "fc9553f0-30bd-456c-9599-95326f644049"
      },
      "source": [
        "square_list = [1, 4, 9, 16, 25, 36, 49, 64, 81, 100]\n",
        "square_list"
      ],
      "execution_count": 1,
      "outputs": [
        {
          "output_type": "execute_result",
          "data": {
            "text/plain": [
              "[1, 4, 9, 16, 25, 36, 49, 64, 81, 100]"
            ]
          },
          "metadata": {
            "tags": []
          },
          "execution_count": 1
        }
      ]
    },
    {
      "cell_type": "code",
      "metadata": {
        "id": "yEABYHHUlEzV"
      },
      "source": [
        "square_list = []\n",
        "for i in range(1, 11):\n",
        "       square_list.append(i * i)"
      ],
      "execution_count": 2,
      "outputs": []
    },
    {
      "cell_type": "code",
      "metadata": {
        "colab": {
          "base_uri": "https://localhost:8080/"
        },
        "id": "PIdkWR6qlGtO",
        "outputId": "7c7e41c6-2190-4b8a-ce1f-bb23075122ea"
      },
      "source": [
        "def square(x):\n",
        "       return x * x\n",
        "\n",
        "numbers = [1, 2, 3, 4, 5, 6, 7, 8, 9, 10]\n",
        "square_list = map(square, numbers)\n",
        "square_list"
      ],
      "execution_count": 3,
      "outputs": [
        {
          "output_type": "execute_result",
          "data": {
            "text/plain": [
              "<map at 0x7f0bff0851d0>"
            ]
          },
          "metadata": {
            "tags": []
          },
          "execution_count": 3
        }
      ]
    },
    {
      "cell_type": "code",
      "metadata": {
        "colab": {
          "base_uri": "https://localhost:8080/"
        },
        "id": "WGErOuBBlJEg",
        "outputId": "c8d48a95-afd4-420a-9f78-402f92bb9fe3"
      },
      "source": [
        "square_list = [i * i for i in range(1, 11)]\n",
        "square_list"
      ],
      "execution_count": 4,
      "outputs": [
        {
          "output_type": "execute_result",
          "data": {
            "text/plain": [
              "[1, 4, 9, 16, 25, 36, 49, 64, 81, 100]"
            ]
          },
          "metadata": {
            "tags": []
          },
          "execution_count": 4
        }
      ]
    },
    {
      "cell_type": "code",
      "metadata": {
        "id": "euLiradKlLCE"
      },
      "source": [
        "nums = [1, 2, 3, 4, 5, 6, 7, 8, 9, 10, 11, 12, 13, 14, 15, 16, 17, 18, 19, 20]\n",
        "even_nums = []\n",
        "odd_nums = []\n",
        "for i in nums:\n",
        "     if i % 2 == 0:\n",
        "         even_nums.append(i)\n",
        "     else:\n",
        "         odd_nums.append(i)"
      ],
      "execution_count": 5,
      "outputs": []
    },
    {
      "cell_type": "code",
      "metadata": {
        "colab": {
          "base_uri": "https://localhost:8080/"
        },
        "id": "WnNKoC_FlNyu",
        "outputId": "fbbd1f83-a3e3-4a35-c2c2-4824d2ba2650"
      },
      "source": [
        "nums = [1, 2, 3, 4, 5, 6, 7, 8, 9, 10, 11, 12, 13, 14, 15, 16,         17, 18, 19, 20]\n",
        "even_nums = [i for i in nums if i%2 == 0]\n",
        "even_nums"
      ],
      "execution_count": 6,
      "outputs": [
        {
          "output_type": "execute_result",
          "data": {
            "text/plain": [
              "[2, 4, 6, 8, 10, 12, 14, 16, 18, 20]"
            ]
          },
          "metadata": {
            "tags": []
          },
          "execution_count": 6
        }
      ]
    },
    {
      "cell_type": "code",
      "metadata": {
        "colab": {
          "base_uri": "https://localhost:8080/"
        },
        "id": "Db4jKq9ZlQsp",
        "outputId": "103350ed-b672-4d48-aa2b-bc3183fa5232"
      },
      "source": [
        "odd_nums = [i for i in nums if i%2 != 0]\n",
        "odd_nums"
      ],
      "execution_count": 7,
      "outputs": [
        {
          "output_type": "execute_result",
          "data": {
            "text/plain": [
              "[1, 3, 5, 7, 9, 11, 13, 15, 17, 19]"
            ]
          },
          "metadata": {
            "tags": []
          },
          "execution_count": 7
        }
      ]
    },
    {
      "cell_type": "code",
      "metadata": {
        "colab": {
          "base_uri": "https://localhost:8080/"
        },
        "id": "BiQlBxzflQ0_",
        "outputId": "15f4bf68-c34e-4389-8c20-8d98b17d4eea"
      },
      "source": [
        "a = [1, 2, 3, 4, 5]\n",
        "b = [11, 22]\n",
        "cart_prod = []\n",
        "for i in a:\n",
        "     for j in b:\n",
        "         cart_prod.append((i, j))\n",
        "\n",
        "cart_prod"
      ],
      "execution_count": 8,
      "outputs": [
        {
          "output_type": "execute_result",
          "data": {
            "text/plain": [
              "[(1, 11),\n",
              " (1, 22),\n",
              " (2, 11),\n",
              " (2, 22),\n",
              " (3, 11),\n",
              " (3, 22),\n",
              " (4, 11),\n",
              " (4, 22),\n",
              " (5, 11),\n",
              " (5, 22)]"
            ]
          },
          "metadata": {
            "tags": []
          },
          "execution_count": 8
        }
      ]
    },
    {
      "cell_type": "code",
      "metadata": {
        "colab": {
          "base_uri": "https://localhost:8080/"
        },
        "id": "lUbWLkGRlTPC",
        "outputId": "23333a1f-8162-4c7c-91e9-0f6faaabccbd"
      },
      "source": [
        "nums = [1, 2, 3, 4, 5, 6, 7, 8, 9]\n",
        "new_lst = []\n",
        "for i in nums:\n",
        "     if i % 2 == 0:\n",
        "         new_lst.append(i*i)\n",
        "     else:\n",
        "         new_lst.append(i*i*i)\n",
        "\n",
        "new_lst"
      ],
      "execution_count": 9,
      "outputs": [
        {
          "output_type": "execute_result",
          "data": {
            "text/plain": [
              "[1, 4, 27, 16, 125, 36, 343, 64, 729]"
            ]
          },
          "metadata": {
            "tags": []
          },
          "execution_count": 9
        }
      ]
    },
    {
      "cell_type": "code",
      "metadata": {
        "colab": {
          "base_uri": "https://localhost:8080/"
        },
        "id": "hAeCWpOQlXIw",
        "outputId": "1e9d1536-b117-40ae-98a8-774e0e3a9b02"
      },
      "source": [
        "nums = [1, 2, 3, 4, 5, 6, 7, 8, 9]\n",
        "new_lst = [i*i if i%2==0 else i*i*i for i in nums]\n",
        "new_lst"
      ],
      "execution_count": 10,
      "outputs": [
        {
          "output_type": "execute_result",
          "data": {
            "text/plain": [
              "[1, 4, 27, 16, 125, 36, 343, 64, 729]"
            ]
          },
          "metadata": {
            "tags": []
          },
          "execution_count": 10
        }
      ]
    },
    {
      "cell_type": "code",
      "metadata": {
        "colab": {
          "base_uri": "https://localhost:8080/"
        },
        "id": "bsLUyT7klZFK",
        "outputId": "957735f9-1a92-4cfb-caa0-6144e7f99247"
      },
      "source": [
        "square_set = {i*i for i in range(1, 11)}\n",
        "square_set"
      ],
      "execution_count": 11,
      "outputs": [
        {
          "output_type": "execute_result",
          "data": {
            "text/plain": [
              "{1, 4, 9, 16, 25, 36, 49, 64, 81, 100}"
            ]
          },
          "metadata": {
            "tags": []
          },
          "execution_count": 11
        }
      ]
    },
    {
      "cell_type": "code",
      "metadata": {
        "colab": {
          "base_uri": "https://localhost:8080/"
        },
        "id": "SF9C9DAHlaz5",
        "outputId": "d48c9a15-4fbf-4f9b-b42e-548966aa0455"
      },
      "source": [
        "nums = [1, 2, 3, 4, 5, 6, 7, 8, 9]\n",
        "square_dict = {i:i*i for i in nums}\n",
        "square_dict"
      ],
      "execution_count": 12,
      "outputs": [
        {
          "output_type": "execute_result",
          "data": {
            "text/plain": [
              "{1: 1, 2: 4, 3: 9, 4: 16, 5: 25, 6: 36, 7: 49, 8: 64, 9: 81}"
            ]
          },
          "metadata": {
            "tags": []
          },
          "execution_count": 12
        }
      ]
    }
  ]
}