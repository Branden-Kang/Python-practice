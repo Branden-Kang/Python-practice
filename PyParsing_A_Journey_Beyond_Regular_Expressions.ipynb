{
  "nbformat": 4,
  "nbformat_minor": 0,
  "metadata": {
    "colab": {
      "provenance": [],
      "authorship_tag": "ABX9TyN71EbujLzASCtUboogGLJb"
    },
    "kernelspec": {
      "name": "python3",
      "display_name": "Python 3"
    },
    "language_info": {
      "name": "python"
    }
  },
  "cells": [
    {
      "cell_type": "markdown",
      "source": [
        "[Reference](https://medium.com/@HeCanThink/pyparsing-a-journey-beyond-regular-expressions-%EF%B8%8F-905a4d9b2baa)"
      ],
      "metadata": {
        "id": "kDtyznQCHIdw"
      }
    },
    {
      "cell_type": "code",
      "execution_count": 1,
      "metadata": {
        "colab": {
          "base_uri": "https://localhost:8080/"
        },
        "id": "2bOEhvlyHG46",
        "outputId": "24a072df-afb7-4ae3-dd42-a0cc381aedd7"
      },
      "outputs": [
        {
          "output_type": "stream",
          "name": "stdout",
          "text": [
            "Requirement already satisfied: pyparsing in /usr/local/lib/python3.10/dist-packages (3.1.1)\n"
          ]
        }
      ],
      "source": [
        "pip install pyparsing"
      ]
    },
    {
      "cell_type": "code",
      "source": [
        "from pyparsing import Word, Literal, Combine, Group, Optional"
      ],
      "metadata": {
        "id": "rmMhgDNSHL_r"
      },
      "execution_count": 2,
      "outputs": []
    },
    {
      "cell_type": "code",
      "source": [
        "# Example grammar for parsing a simple arithmetic expression\n",
        "integer = Word(\"0123456789\")\n",
        "operator = Literal(\"+\") | Literal(\"-\") | Literal(\"*\") | Literal(\"/\")\n",
        "expression = integer + operator + integer"
      ],
      "metadata": {
        "id": "hAMTbO9dHMxm"
      },
      "execution_count": 3,
      "outputs": []
    },
    {
      "cell_type": "code",
      "source": [
        "input_string = \"42 + 23\"\n",
        "result = expression.parseString(input_string)"
      ],
      "metadata": {
        "id": "nrERg1vpHN8Z"
      },
      "execution_count": 4,
      "outputs": []
    },
    {
      "cell_type": "code",
      "source": [
        "print(result[0])  # Output: 42\n",
        "print(result[1])  # Output: +\n",
        "print(result[2])  # Output: 23"
      ],
      "metadata": {
        "colab": {
          "base_uri": "https://localhost:8080/"
        },
        "id": "LrXkZ9QTHPBK",
        "outputId": "fb096f61-0276-475b-a723-018222ed8845"
      },
      "execution_count": 5,
      "outputs": [
        {
          "output_type": "stream",
          "name": "stdout",
          "text": [
            "42\n",
            "+\n",
            "23\n"
          ]
        }
      ]
    },
    {
      "cell_type": "code",
      "source": [
        "# Example: Perform arithmetic calculation\n",
        "a = int(result[0])\n",
        "operator = result[1]\n",
        "b = int(result[2])\n",
        "\n",
        "if operator == '+':\n",
        "    result = a + b\n",
        "elif operator == '-':\n",
        "    result = a - b\n",
        "elif operator == '*':\n",
        "    result = a * b\n",
        "elif operator == '/':\n",
        "    result = a / b\n",
        "\n",
        "print(result)  # Output: 65"
      ],
      "metadata": {
        "colab": {
          "base_uri": "https://localhost:8080/"
        },
        "id": "x_C-hqemHP4N",
        "outputId": "ce3f238c-a520-43e5-8b4c-d57a3d294c0a"
      },
      "execution_count": 6,
      "outputs": [
        {
          "output_type": "stream",
          "name": "stdout",
          "text": [
            "65\n"
          ]
        }
      ]
    },
    {
      "cell_type": "code",
      "source": [
        "import re\n",
        "\n",
        "# Define the regex pattern for parsing a date string\n",
        "date_pattern = r'^(\\d{4})-(\\d{2})-(\\d{2})$'\n",
        "\n",
        "# Parse a sample date string\n",
        "input_string = \"2023-06-23\"\n",
        "match = re.match(date_pattern, input_string)\n",
        "\n",
        "if match:\n",
        "    parsed_year = match.group(1)\n",
        "    parsed_month = match.group(2)\n",
        "    parsed_day = match.group(3)\n",
        "\n",
        "    print(parsed_year)  # Output: 2023\n",
        "    print(parsed_month)  # Output: 06\n",
        "    print(parsed_day)  # Output: 23\n",
        "else:\n",
        "    print(\"Invalid date format.\")"
      ],
      "metadata": {
        "colab": {
          "base_uri": "https://localhost:8080/"
        },
        "id": "9gBRoOuHHQxT",
        "outputId": "5559caaa-352e-4c91-c31d-955c87cb2b1d"
      },
      "execution_count": 7,
      "outputs": [
        {
          "output_type": "stream",
          "name": "stdout",
          "text": [
            "2023\n",
            "06\n",
            "23\n"
          ]
        }
      ]
    },
    {
      "cell_type": "code",
      "source": [
        "from pyparsing import Word, nums\n",
        "\n",
        "# Define the grammar for parsing a date string\n",
        "year = Word(nums, exact=4)\n",
        "month = Word(nums, exact=2)\n",
        "day = Word(nums, exact=2)\n",
        "date_parser = year + '-' + month + '-' + day\n",
        "\n",
        "# Parse a sample date string\n",
        "input_string = \"2023-06-23\"\n",
        "parsed_result = date_parser.parseString(input_string)\n",
        "\n",
        "# Access the parsed elements\n",
        "parsed_year = parsed_result[0]\n",
        "parsed_month = parsed_result[1]\n",
        "parsed_day = parsed_result[2]\n",
        "\n",
        "print(parsed_year)  # Output: 2023\n",
        "print(parsed_month)  # Output: 06\n",
        "print(parsed_day)  # Output: 23"
      ],
      "metadata": {
        "colab": {
          "base_uri": "https://localhost:8080/"
        },
        "id": "4lKduNDnHSAr",
        "outputId": "713288e5-2a4a-4cdf-ca30-ec7a1efa1f2e"
      },
      "execution_count": 8,
      "outputs": [
        {
          "output_type": "stream",
          "name": "stdout",
          "text": [
            "2023\n",
            "-\n",
            "06\n"
          ]
        }
      ]
    }
  ]
}