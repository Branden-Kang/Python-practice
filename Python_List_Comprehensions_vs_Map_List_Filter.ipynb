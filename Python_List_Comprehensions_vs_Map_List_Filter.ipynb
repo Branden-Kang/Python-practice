{
  "nbformat": 4,
  "nbformat_minor": 0,
  "metadata": {
    "colab": {
      "name": "Python List Comprehensions vs. Map/List/Filter.ipynb",
      "provenance": [],
      "authorship_tag": "ABX9TyMJEQ2Af7QANEalpvlmhZ5M"
    },
    "kernelspec": {
      "name": "python3",
      "display_name": "Python 3"
    }
  },
  "cells": [
    {
      "cell_type": "markdown",
      "metadata": {
        "id": "fB7j0fv0Gwyk"
      },
      "source": [
        "[Reference](https://medium.com/swlh/python-list-comprehensions-vs-map-list-filter-functions-ebf0f8efe0e9)"
      ]
    },
    {
      "cell_type": "markdown",
      "metadata": {
        "id": "JrYUvNGlKGLB"
      },
      "source": [
        "# Map()"
      ]
    },
    {
      "cell_type": "code",
      "metadata": {
        "id": "HvfHo283Ivz0"
      },
      "source": [
        "numbers = [1, 2, 3, 4, 5, 6, 7, 8, 9, 10]\n",
        "\n",
        "def power_of_two(number):\n",
        "    return number ** 2\n",
        "\n",
        "worst_way_to_get_a_list_ever = list(map(power_of_two, numbers))"
      ],
      "execution_count": 4,
      "outputs": []
    },
    {
      "cell_type": "code",
      "metadata": {
        "colab": {
          "base_uri": "https://localhost:8080/"
        },
        "id": "OjfW_DPWKbS4",
        "outputId": "21437a66-46e5-4c52-8551-6e408f65cecc"
      },
      "source": [
        "worst_way_to_get_a_list_ever"
      ],
      "execution_count": 9,
      "outputs": [
        {
          "output_type": "execute_result",
          "data": {
            "text/plain": [
              "[1, 4, 9, 16, 25, 36, 49, 64, 81, 100]"
            ]
          },
          "metadata": {
            "tags": []
          },
          "execution_count": 9
        }
      ]
    },
    {
      "cell_type": "markdown",
      "metadata": {
        "id": "AEGM0VH5KMSm"
      },
      "source": [
        "# List Comprehension Version"
      ]
    },
    {
      "cell_type": "code",
      "metadata": {
        "id": "9ovwprCDGu7o"
      },
      "source": [
        "numbers = [1, 2, 3, 4, 5, 6, 7, 8, 9, 10]\n",
        "def power_of_two(number):\n",
        "    return number ** 2\n",
        "omg_so_much_better = [power_of_two(number) for number in numbers]"
      ],
      "execution_count": 5,
      "outputs": []
    },
    {
      "cell_type": "code",
      "metadata": {
        "colab": {
          "base_uri": "https://localhost:8080/"
        },
        "id": "iXMr3CYQKaYm",
        "outputId": "a63125d5-8b56-472c-e5fb-c3546889b846"
      },
      "source": [
        "omg_so_much_better"
      ],
      "execution_count": 8,
      "outputs": [
        {
          "output_type": "execute_result",
          "data": {
            "text/plain": [
              "[1, 4, 9, 16, 25, 36, 49, 64, 81, 100]"
            ]
          },
          "metadata": {
            "tags": []
          },
          "execution_count": 8
        }
      ]
    },
    {
      "cell_type": "markdown",
      "metadata": {
        "id": "Z4a_I0lIKRdl"
      },
      "source": [
        "# Super Powers Version"
      ]
    },
    {
      "cell_type": "code",
      "metadata": {
        "id": "sFgLATTeIrKF"
      },
      "source": [
        "numbers = [1, 2, 3, 4, 5, 6, 7, 8, 9, 10]\n",
        "def power_of_two(number):\n",
        "    return number ** 2\n",
        "    \n",
        "def power_up_hero(name, value):\n",
        "    return '{} now has power: {}'.format(name, power_of_two(value))\n",
        "\n",
        "hero = 'Thor'\n",
        "holy_smokes = [power_up_hero(hero, number) for number in numbers]"
      ],
      "execution_count": 6,
      "outputs": []
    },
    {
      "cell_type": "code",
      "metadata": {
        "colab": {
          "base_uri": "https://localhost:8080/"
        },
        "id": "Tmi-QFs9KXaG",
        "outputId": "b3749765-bbe6-4ce7-a090-28f4f7577f39"
      },
      "source": [
        "holy_smokes"
      ],
      "execution_count": 7,
      "outputs": [
        {
          "output_type": "execute_result",
          "data": {
            "text/plain": [
              "['Thor now has power: 1',\n",
              " 'Thor now has power: 4',\n",
              " 'Thor now has power: 9',\n",
              " 'Thor now has power: 16',\n",
              " 'Thor now has power: 25',\n",
              " 'Thor now has power: 36',\n",
              " 'Thor now has power: 49',\n",
              " 'Thor now has power: 64',\n",
              " 'Thor now has power: 81',\n",
              " 'Thor now has power: 100']"
            ]
          },
          "metadata": {
            "tags": []
          },
          "execution_count": 7
        }
      ]
    },
    {
      "cell_type": "code",
      "metadata": {
        "id": "UpnR2fhEKYyZ"
      },
      "source": [
        "numbers = [1, 2, 3, 4, 5, 6, 7, 8, 9, 10]\n",
        "powers = [11, 12, 13, 14, 15, 16, 17, 18, 19, 20]\n",
        "\n",
        "def power_of(number, power):\n",
        "    return number ** power\n",
        "    \n",
        "not_bad = list(map(power_of, numbers, powers))\n",
        "\n",
        "icky = [power_of(num, power) for num, power in zip(numbers, powers)]"
      ],
      "execution_count": 10,
      "outputs": []
    },
    {
      "cell_type": "code",
      "metadata": {
        "colab": {
          "base_uri": "https://localhost:8080/"
        },
        "id": "VXRf9PARKhZJ",
        "outputId": "3fe5bbf7-b9ef-4080-d658-5a7f4c9289d8"
      },
      "source": [
        "not_bad"
      ],
      "execution_count": 11,
      "outputs": [
        {
          "output_type": "execute_result",
          "data": {
            "text/plain": [
              "[1,\n",
              " 4096,\n",
              " 1594323,\n",
              " 268435456,\n",
              " 30517578125,\n",
              " 2821109907456,\n",
              " 232630513987207,\n",
              " 18014398509481984,\n",
              " 1350851717672992089,\n",
              " 100000000000000000000]"
            ]
          },
          "metadata": {
            "tags": []
          },
          "execution_count": 11
        }
      ]
    },
    {
      "cell_type": "code",
      "metadata": {
        "colab": {
          "base_uri": "https://localhost:8080/"
        },
        "id": "qh8Z8kWKKiRN",
        "outputId": "ed7b636b-10c6-4af2-e49f-f28aa88426b7"
      },
      "source": [
        "icky"
      ],
      "execution_count": 12,
      "outputs": [
        {
          "output_type": "execute_result",
          "data": {
            "text/plain": [
              "[1,\n",
              " 4096,\n",
              " 1594323,\n",
              " 268435456,\n",
              " 30517578125,\n",
              " 2821109907456,\n",
              " 232630513987207,\n",
              " 18014398509481984,\n",
              " 1350851717672992089,\n",
              " 100000000000000000000]"
            ]
          },
          "metadata": {
            "tags": []
          },
          "execution_count": 12
        }
      ]
    },
    {
      "cell_type": "markdown",
      "metadata": {
        "id": "QWtygqtUKk8p"
      },
      "source": [
        "# Filter()"
      ]
    },
    {
      "cell_type": "code",
      "metadata": {
        "id": "58T8V_gbKjV-"
      },
      "source": [
        "numbers = [1, 2, 3, 4, 5, 6, 7, 8, 9, 10]\n",
        "def is_odd(number):\n",
        "    return number % 2\n",
        "gross = list(filter(is_odd, numbers))"
      ],
      "execution_count": 13,
      "outputs": []
    },
    {
      "cell_type": "code",
      "metadata": {
        "colab": {
          "base_uri": "https://localhost:8080/"
        },
        "id": "mNQpU6ddKoMr",
        "outputId": "e391aaaa-93d7-4b6d-b9e9-06ff8b0002c9"
      },
      "source": [
        "gross"
      ],
      "execution_count": 14,
      "outputs": [
        {
          "output_type": "execute_result",
          "data": {
            "text/plain": [
              "[1, 3, 5, 7, 9]"
            ]
          },
          "metadata": {
            "tags": []
          },
          "execution_count": 14
        }
      ]
    },
    {
      "cell_type": "code",
      "metadata": {
        "id": "KXoJ8-NdKo_l"
      },
      "source": [
        "numbers = [1, 2, 3, 4, 5, 6, 7, 8, 9, 10]\n",
        "def is_odd(number):\n",
        "    return number % 2\n",
        "    \n",
        "pretty = [number for number in numbers if is_odd(number)]"
      ],
      "execution_count": 15,
      "outputs": []
    },
    {
      "cell_type": "code",
      "metadata": {
        "colab": {
          "base_uri": "https://localhost:8080/"
        },
        "id": "EvPlY9GZKshM",
        "outputId": "daa059aa-649b-41e5-d7b8-b92ffe8a23ff"
      },
      "source": [
        "pretty"
      ],
      "execution_count": 16,
      "outputs": [
        {
          "output_type": "execute_result",
          "data": {
            "text/plain": [
              "[1, 3, 5, 7, 9]"
            ]
          },
          "metadata": {
            "tags": []
          },
          "execution_count": 16
        }
      ]
    },
    {
      "cell_type": "code",
      "metadata": {
        "id": "DZ2dFpGQKtXC"
      },
      "source": [
        "names = ['thor', 'ironman', 'spiderman']\n",
        "\n",
        "def not_none(name):\n",
        "    return name.upper()\n",
        "    \n",
        "bad_results = list(filter(not_none, names))"
      ],
      "execution_count": 17,
      "outputs": []
    },
    {
      "cell_type": "code",
      "metadata": {
        "colab": {
          "base_uri": "https://localhost:8080/"
        },
        "id": "m3aezsGcKzGh",
        "outputId": "6fa3f578-8541-411d-bf14-7f069e597dc3"
      },
      "source": [
        "bad_results"
      ],
      "execution_count": 18,
      "outputs": [
        {
          "output_type": "execute_result",
          "data": {
            "text/plain": [
              "['thor', 'ironman', 'spiderman']"
            ]
          },
          "metadata": {
            "tags": []
          },
          "execution_count": 18
        }
      ]
    }
  ]
}