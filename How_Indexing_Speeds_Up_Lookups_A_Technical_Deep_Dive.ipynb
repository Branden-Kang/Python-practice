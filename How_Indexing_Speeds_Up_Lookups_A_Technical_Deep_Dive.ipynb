{
  "nbformat": 4,
  "nbformat_minor": 0,
  "metadata": {
    "colab": {
      "provenance": [],
      "authorship_tag": "ABX9TyPIXetBswRtip/4B1JQ/KU6"
    },
    "kernelspec": {
      "name": "python3",
      "display_name": "Python 3"
    },
    "language_info": {
      "name": "python"
    }
  },
  "cells": [
    {
      "cell_type": "markdown",
      "source": [
        "[Reference](https://code.likeagirl.io/how-indexing-speeds-up-lookups-a-technical-deep-dive-0fe64b98b4d8)"
      ],
      "metadata": {
        "id": "Zj1W09K_CB4h"
      }
    },
    {
      "cell_type": "code",
      "execution_count": 1,
      "metadata": {
        "id": "ID2lXP0lCAdN"
      },
      "outputs": [],
      "source": [
        "import time\n",
        "from sqlalchemy import create_engine, Column, Integer, String\n",
        "from sqlalchemy.orm import sessionmaker\n",
        "\n",
        "# Create tables with and without an index\n",
        "engine = create_engine('sqlite:///example.db')\n",
        "Base = declarative_base()\n",
        "\n",
        "class Book(Base):\n",
        "    __tablename__ = 'books'\n",
        "    id = Column(Integer, primary_key=True)\n",
        "    title = Column(String)\n",
        "Base.metadata.create_all(engine)\n",
        "\n",
        "# Generate sample data\n",
        "session = sessionmaker(bind=engine)()\n",
        "for i in range(10000):\n",
        "    session.add(Book(title=f'Book {i}'))\n",
        "session.commit()\n",
        "# Measure query times with and without indexing\n",
        "\n",
        "def query_with_index():\n",
        "    start_time = time.time()\n",
        "    books = session.query(Book).filter(Book.title == 'Book 9999').all()\n",
        "    end_time = time.time()\n",
        "    print(f\"Index scan time: {end_time - start_time:.3f} seconds\")\n",
        "\n",
        "def query_without_index():\n",
        "    start_time = time.time()\n",
        "    books = session.query(Book).filter(Book.title == 'Book 9999').all()\n",
        "    end_time = time.time()\n",
        "    print(f\"Sequential scan time: {end_time - start_time:.3f} seconds\")\n",
        "\n",
        "query_without_index()\n",
        "\n",
        "# Create an index on the title column\n",
        "session.execute('CREATE INDEX idx_title ON books (title)')\n",
        "\n",
        "# Run the queries\n",
        "query_with_index()\n",
        "# Close the session\n",
        "session.close()"
      ]
    }
  ]
}