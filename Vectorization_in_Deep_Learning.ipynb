{
  "nbformat": 4,
  "nbformat_minor": 0,
  "metadata": {
    "colab": {
      "provenance": [],
      "authorship_tag": "ABX9TyPveV4QsZclEocEQ5yq02zS"
    },
    "kernelspec": {
      "name": "python3",
      "display_name": "Python 3"
    },
    "language_info": {
      "name": "python"
    }
  },
  "cells": [
    {
      "cell_type": "markdown",
      "source": [
        "[Reference](https://medium.com/@jwbtmf/vectorization-in-deep-learning-c47f0d171d0a)"
      ],
      "metadata": {
        "id": "6GLu3WRpGE0_"
      }
    },
    {
      "cell_type": "code",
      "execution_count": 4,
      "metadata": {
        "colab": {
          "base_uri": "https://localhost:8080/"
        },
        "id": "JuSHmk9JFvQU",
        "outputId": "ef52f5ba-e7d4-4882-c239-df8ebb1a5689"
      },
      "outputs": [
        {
          "output_type": "stream",
          "name": "stdout",
          "text": [
            "249725.03976204304\n",
            "Vectorized version: 1.5180110931396484ms\n",
            "249725.03976205198\n",
            "For loop:  494.0662384033203ms\n"
          ]
        }
      ],
      "source": [
        "import time\n",
        "import numpy as np\n",
        "\n",
        "w = np.random.rand(1000000)\n",
        "x = np.random.rand(1000000)\n",
        "tic = time.time()\n",
        "c= np.dot(w,x)\n",
        "toc = time.time()\n",
        "print(c)\n",
        "\n",
        "print('Vectorized version: '+ str(1000*(toc-tic))+'ms')\n",
        "c= 0\n",
        "tic = time.time()\n",
        "for i in range(1000000):\n",
        "    c +=w[i]*x[i]\n",
        "    \n",
        "toc = time.time()\n",
        "    \n",
        "print(c)\n",
        "print(\"For loop: \",str(1000*(toc-tic))+'ms')"
      ]
    }
  ]
}