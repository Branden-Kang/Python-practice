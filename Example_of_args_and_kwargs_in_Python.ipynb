{
  "nbformat": 4,
  "nbformat_minor": 0,
  "metadata": {
    "colab": {
      "provenance": [],
      "authorship_tag": "ABX9TyOj9RJlmQrZfyrGvLcRdTuk"
    },
    "kernelspec": {
      "name": "python3",
      "display_name": "Python 3"
    },
    "language_info": {
      "name": "python"
    }
  },
  "cells": [
    {
      "cell_type": "markdown",
      "source": [
        "[Reference](https://medium.com/geekculture/example-of-args-and-kwargs-in-python-dfe6b13f34af)"
      ],
      "metadata": {
        "id": "_FfZ5xb-Jw25"
      }
    },
    {
      "cell_type": "code",
      "execution_count": 1,
      "metadata": {
        "colab": {
          "base_uri": "https://localhost:8080/"
        },
        "id": "L-BGgvOlJp_P",
        "outputId": "23a7de78-ee53-4600-e0c0-f1cc5660f5ac"
      },
      "outputs": [
        {
          "output_type": "stream",
          "name": "stdout",
          "text": [
            "10\n"
          ]
        }
      ],
      "source": [
        "def sum_func(*args):\n",
        "    my_sum = 0\n",
        "    for n in args:\n",
        "        my_sum+=n\n",
        "    return(my_sum)\n",
        "    \n",
        "print(sum_func(1,2,3,4))"
      ]
    },
    {
      "cell_type": "code",
      "source": [
        "def sum_func(**kwargs):\n",
        "    my_sum = 0\n",
        "    for k, v in kwargs.items():\n",
        "        my_sum+=v\n",
        "    return(my_sum)\n",
        "\n",
        "print(sum_func(salary=1000, rent=-300))"
      ],
      "metadata": {
        "colab": {
          "base_uri": "https://localhost:8080/"
        },
        "id": "o56NOltlJz0k",
        "outputId": "c7f5d7df-8b81-481e-afb6-5a92d0e5217e"
      },
      "execution_count": 2,
      "outputs": [
        {
          "output_type": "stream",
          "name": "stdout",
          "text": [
            "700\n"
          ]
        }
      ]
    }
  ]
}