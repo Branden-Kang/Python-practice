{
  "nbformat": 4,
  "nbformat_minor": 0,
  "metadata": {
    "colab": {
      "provenance": [],
      "authorship_tag": "ABX9TyOYzpBe9tCuc54TzS7CT6K7"
    },
    "kernelspec": {
      "name": "python3",
      "display_name": "Python 3"
    },
    "language_info": {
      "name": "python"
    }
  },
  "cells": [
    {
      "cell_type": "markdown",
      "source": [
        "[Reference](https://medium.com/@moraneus/understanding-object-oriented-programming-oop-in-python-d8b695fe6586)"
      ],
      "metadata": {
        "id": "Jx4rsYW6ui3f"
      }
    },
    {
      "cell_type": "markdown",
      "source": [
        "# Creating a Simple Class"
      ],
      "metadata": {
        "id": "UDkyW9_juonq"
      }
    },
    {
      "cell_type": "code",
      "execution_count": 1,
      "metadata": {
        "colab": {
          "base_uri": "https://localhost:8080/"
        },
        "id": "CX0nIMbRuhHB",
        "outputId": "d5dc3375-f127-4bae-8c74-a0f12d5e90cb"
      },
      "outputs": [
        {
          "output_type": "stream",
          "name": "stdout",
          "text": [
            "Buddy is barking.\n"
          ]
        }
      ],
      "source": [
        "class Dog:\n",
        "    def __init__(self, name: str, age: int) -> None:\n",
        "        self.name = name\n",
        "        self.age = age\n",
        "\n",
        "    def bark(self) -> str:\n",
        "        return f\"{self.name} is barking.\"\n",
        "\n",
        "# Usage\n",
        "my_dog = Dog(\"Buddy\", 3)\n",
        "print(my_dog.bark())"
      ]
    },
    {
      "cell_type": "markdown",
      "source": [
        "# Adding Inheritance"
      ],
      "metadata": {
        "id": "MlrTbkkGutgJ"
      }
    },
    {
      "cell_type": "code",
      "source": [
        "class Animal:\n",
        "    def __init__(self, species: str) -> None:\n",
        "        self.species = species\n",
        "\n",
        "    def make_sound(self) -> str:\n",
        "        return \"Some generic sound\"\n",
        "\n",
        "class Dog(Animal):\n",
        "    def __init__(self, name: str, age: int) -> None:\n",
        "        super().__init__(\"Dog\")\n",
        "        self.name = name\n",
        "        self.age = age\n",
        "\n",
        "    def make_sound(self) -> str:\n",
        "        return f\"{self.name} says Woof!\"\n",
        "\n",
        "class Cat(Animal):\n",
        "    def __init__(self, name: str, age: int) -> None:\n",
        "        super().__init__(\"Cat\")\n",
        "        self.name = name\n",
        "        self.age = age\n",
        "\n",
        "    def make_sound(self) -> str:\n",
        "        return f\"{self.name} says Meow!\"\n",
        "\n",
        "# Usage\n",
        "my_dog = Dog(\"Buddy\", 3)\n",
        "my_cat = Cat(\"Whiskers\", 2)\n",
        "print(my_dog.species)\n",
        "print(my_dog.make_sound())\n",
        "print(my_cat.species)\n",
        "print(my_cat.make_sound())"
      ],
      "metadata": {
        "colab": {
          "base_uri": "https://localhost:8080/"
        },
        "id": "HVq1zg5UurHe",
        "outputId": "a646c970-1a7e-4775-bb3b-7ea08edfe944"
      },
      "execution_count": 2,
      "outputs": [
        {
          "output_type": "stream",
          "name": "stdout",
          "text": [
            "Dog\n",
            "Buddy says Woof!\n",
            "Cat\n",
            "Whiskers says Meow!\n"
          ]
        }
      ]
    },
    {
      "cell_type": "markdown",
      "source": [
        "# Encapsulation and Property Methods"
      ],
      "metadata": {
        "id": "dusZyuIBuz4Y"
      }
    },
    {
      "cell_type": "code",
      "source": [
        "class Bird:\n",
        "    def __init__(self, name: str, species: str, wingspan: float) -> None:\n",
        "        self.name = name\n",
        "        self.species = species\n",
        "        self.__wingspan = wingspan\n",
        "\n",
        "    def fly(self) -> str:\n",
        "        return f\"{self.name} is flying.\"\n",
        "\n",
        "    @property\n",
        "    def wingspan(self) -> float:\n",
        "        return self.__wingspan\n",
        "\n",
        "# Usage\n",
        "my_bird = Bird(\"Tweety\", \"Canary\", 0.25)\n",
        "print(my_bird.fly())\n",
        "print(my_bird.wingspan)"
      ],
      "metadata": {
        "colab": {
          "base_uri": "https://localhost:8080/"
        },
        "id": "bZb-DW_AuyOD",
        "outputId": "a8a2f2f1-55b3-4597-dcd1-b22645cc9e54"
      },
      "execution_count": 3,
      "outputs": [
        {
          "output_type": "stream",
          "name": "stdout",
          "text": [
            "Tweety is flying.\n",
            "0.25\n"
          ]
        }
      ]
    },
    {
      "cell_type": "markdown",
      "source": [
        "# Polymorphism and Abstract Base Classes"
      ],
      "metadata": {
        "id": "dw63vERfu4LD"
      }
    },
    {
      "cell_type": "code",
      "source": [
        "from abc import ABC, abstractmethod\n",
        "\n",
        "class Animal(ABC):\n",
        "    @abstractmethod\n",
        "    def sound(self) -> str:\n",
        "        pass\n",
        "\n",
        "    @abstractmethod\n",
        "    def move(self) -> str:\n",
        "        pass\n",
        "\n",
        "class Dog(Animal):\n",
        "    def sound(self) -> str:\n",
        "        return \"Woof\"\n",
        "\n",
        "    def move(self) -> str:\n",
        "        return \"Runs\"\n",
        "\n",
        "class Fish(Animal):\n",
        "    def sound(self) -> str:\n",
        "        return \"Blub\"\n",
        "\n",
        "    def move(self) -> str:\n",
        "        return \"Swims\"\n",
        "\n",
        "# Usage\n",
        "animals = [Dog(), Fish()]\n",
        "for animal in animals:\n",
        "    print(f\"Sound: {animal.sound()}, Movement: {animal.move()}\")"
      ],
      "metadata": {
        "colab": {
          "base_uri": "https://localhost:8080/"
        },
        "id": "2gXs0o6Mu2tN",
        "outputId": "dcd876e8-e6a7-44ff-c49b-ef732fbcfa8a"
      },
      "execution_count": 4,
      "outputs": [
        {
          "output_type": "stream",
          "name": "stdout",
          "text": [
            "Sound: Woof, Movement: Runs\n",
            "Sound: Blub, Movement: Swims\n"
          ]
        }
      ]
    }
  ]
}