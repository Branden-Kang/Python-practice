{
  "nbformat": 4,
  "nbformat_minor": 0,
  "metadata": {
    "colab": {
      "provenance": [],
      "authorship_tag": "ABX9TyMmE7Tb2GXUb7jnSVLEqdHQ"
    },
    "kernelspec": {
      "name": "python3",
      "display_name": "Python 3"
    },
    "language_info": {
      "name": "python"
    }
  },
  "cells": [
    {
      "cell_type": "markdown",
      "source": [
        "[Reference](https://code.likeagirl.io/python-schema-validation-with-marshmallow-d4c3b9752655)"
      ],
      "metadata": {
        "id": "SgSivZQ9Sh4w"
      }
    },
    {
      "cell_type": "code",
      "source": [
        "pip install marshmallow"
      ],
      "metadata": {
        "colab": {
          "base_uri": "https://localhost:8080/"
        },
        "id": "F6a4ormOUUC9",
        "outputId": "0c69c272-757b-485c-daf5-b128e1a0791a"
      },
      "execution_count": 2,
      "outputs": [
        {
          "output_type": "stream",
          "name": "stdout",
          "text": [
            "Collecting marshmallow\n",
            "  Downloading marshmallow-3.19.0-py3-none-any.whl (49 kB)\n",
            "\u001b[?25l     \u001b[90m━━━━━━━━━━━━━━━━━━━━━━━━━━━━━━━━━━━━━━━━\u001b[0m \u001b[32m0.0/49.1 kB\u001b[0m \u001b[31m?\u001b[0m eta \u001b[36m-:--:--\u001b[0m\r\u001b[2K     \u001b[90m━━━━━━━━━━━━━━━━━━━━━━━━━━━━━━━━━━━━━━━━\u001b[0m \u001b[32m49.1/49.1 kB\u001b[0m \u001b[31m2.0 MB/s\u001b[0m eta \u001b[36m0:00:00\u001b[0m\n",
            "\u001b[?25hRequirement already satisfied: packaging>=17.0 in /usr/local/lib/python3.10/dist-packages (from marshmallow) (23.1)\n",
            "Installing collected packages: marshmallow\n",
            "Successfully installed marshmallow-3.19.0\n"
          ]
        }
      ]
    },
    {
      "cell_type": "code",
      "execution_count": 3,
      "metadata": {
        "id": "lyoRLQiNSRN_"
      },
      "outputs": [],
      "source": [
        "from marshmallow import Schema, fields\n",
        "class PersonSchema(Schema):\n",
        "    name = fields.Str(required=True)\n",
        "    age = fields.Integer(required=True)\n",
        "    address = fields.Str()"
      ]
    },
    {
      "cell_type": "code",
      "source": [
        "person_data = {\"name\": \"John Doe\", \"age\": 30, \"address\": \"123 Main St\"}\n",
        "schema = PersonSchema()\n",
        "errors = schema.validate(person_data)\n",
        "if errors:\n",
        "    print(errors)\n",
        "else:\n",
        "    # Save person to database\n",
        "    pass"
      ],
      "metadata": {
        "id": "Z62_Cu6LSk8r"
      },
      "execution_count": 4,
      "outputs": []
    },
    {
      "cell_type": "code",
      "source": [
        "import psycopg2\n",
        "def add_person(data):\n",
        "    # Connect to the database\n",
        "    conn = psycopg2.connect(dbname=\"mydb\", user=\"myuser\", password=\"mypassword\")\n",
        "    cur = conn.cursor()\n",
        "    # Deserialize and validate the input data\n",
        "    person, errors = PersonSchema().load(data)\n",
        "    if errors:\n",
        "        return {\"error\": errors}\n",
        "    # Insert the data into the \"person\" table\n",
        "    cur.execute(\"INSERT INTO person (name, age, address) VALUES (%s, %s, %s)\", (person[\"name\"], person[\"age\"], person[\"address\"]))\n",
        "    conn.commit()\n",
        "    # Close the connection\n",
        "    cur.close()\n",
        "    conn.close()\n",
        "    return {\"message\": \"Person added successfully\"}"
      ],
      "metadata": {
        "id": "mLH29oxfUXI6"
      },
      "execution_count": 5,
      "outputs": []
    }
  ]
}