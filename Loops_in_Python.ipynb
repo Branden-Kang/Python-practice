{
  "nbformat": 4,
  "nbformat_minor": 0,
  "metadata": {
    "colab": {
      "name": "Loops in Python.ipynb",
      "provenance": [],
      "collapsed_sections": [],
      "authorship_tag": "ABX9TyMGO+PKBF7gz/HZ6JaqaL5t"
    },
    "kernelspec": {
      "name": "python3",
      "display_name": "Python 3"
    }
  },
  "cells": [
    {
      "cell_type": "markdown",
      "metadata": {
        "id": "4n15m5zvQKBh"
      },
      "source": [
        "[Reference](https://medium.com/better-programming/how-to-use-for-loops-better-in-python-1dfbc3d9e91f)"
      ]
    },
    {
      "cell_type": "code",
      "metadata": {
        "id": "IMB9IFerQBsN",
        "outputId": "40bf20e7-4e4e-48cd-a5c2-77d657e8e050",
        "colab": {
          "base_uri": "https://localhost:8080/",
          "height": 102
        }
      },
      "source": [
        "students = [\"Kang\", \"Park\", \"Lee\", \"Choi\", \"Kim\"]\n",
        "for student in students:\n",
        "    print(student)"
      ],
      "execution_count": 2,
      "outputs": [
        {
          "output_type": "stream",
          "text": [
            "Kang\n",
            "Park\n",
            "Lee\n",
            "Choi\n",
            "Kim\n"
          ],
          "name": "stdout"
        }
      ]
    },
    {
      "cell_type": "markdown",
      "metadata": {
        "id": "DCDNwZdYQfYb"
      },
      "source": [
        "# 1. items() and values()"
      ]
    },
    {
      "cell_type": "code",
      "metadata": {
        "id": "rJTLrup4QZgx"
      },
      "source": [
        "scores = {\"Kang\": 100, \"Park\": 95, \"Lee\": 98, \"Choi\": 95, \"Kim\": 80}"
      ],
      "execution_count": 3,
      "outputs": []
    },
    {
      "cell_type": "code",
      "metadata": {
        "id": "sLqoINtOQl5N",
        "outputId": "0a14a66c-ae8d-4213-cdaf-359ad194a182",
        "colab": {
          "base_uri": "https://localhost:8080/",
          "height": 102
        }
      },
      "source": [
        "for score in scores:\n",
        "    print(score)"
      ],
      "execution_count": 4,
      "outputs": [
        {
          "output_type": "stream",
          "text": [
            "Kang\n",
            "Park\n",
            "Lee\n",
            "Choi\n",
            "Kim\n"
          ],
          "name": "stdout"
        }
      ]
    },
    {
      "cell_type": "code",
      "metadata": {
        "id": "JQumtcj5Qphv",
        "outputId": "8f935247-4aaa-4b67-fc77-af0c532459ca",
        "colab": {
          "base_uri": "https://localhost:8080/",
          "height": 102
        }
      },
      "source": [
        "for score in scores.items():\n",
        "    print(score)"
      ],
      "execution_count": 5,
      "outputs": [
        {
          "output_type": "stream",
          "text": [
            "('Kang', 100)\n",
            "('Park', 95)\n",
            "('Lee', 98)\n",
            "('Choi', 95)\n",
            "('Kim', 80)\n"
          ],
          "name": "stdout"
        }
      ]
    },
    {
      "cell_type": "code",
      "metadata": {
        "id": "k-q-vQ2xQsb7",
        "outputId": "3a35325f-e0df-44ed-c769-ebc8623480f2",
        "colab": {
          "base_uri": "https://localhost:8080/",
          "height": 102
        }
      },
      "source": [
        "for name, score in scores.items():\n",
        "    print(\"Name: \" + name + \", Score: \" + str(score))"
      ],
      "execution_count": 7,
      "outputs": [
        {
          "output_type": "stream",
          "text": [
            "Name: Kang, Score: 100\n",
            "Name: Park, Score: 95\n",
            "Name: Lee, Score: 98\n",
            "Name: Choi, Score: 95\n",
            "Name: Kim, Score: 80\n"
          ],
          "name": "stdout"
        }
      ]
    },
    {
      "cell_type": "code",
      "metadata": {
        "id": "KL3EmZuZQ2bh",
        "outputId": "ce3ac58c-f87f-423b-a5f2-6d2b214074f4",
        "colab": {
          "base_uri": "https://localhost:8080/",
          "height": 102
        }
      },
      "source": [
        "for score in scores.values():\n",
        "    print(score)"
      ],
      "execution_count": 8,
      "outputs": [
        {
          "output_type": "stream",
          "text": [
            "100\n",
            "95\n",
            "98\n",
            "95\n",
            "80\n"
          ],
          "name": "stdout"
        }
      ]
    },
    {
      "cell_type": "markdown",
      "metadata": {
        "id": "W8Z8Aok_Q7Ho"
      },
      "source": [
        "# 2. enumerate()"
      ]
    },
    {
      "cell_type": "code",
      "metadata": {
        "id": "a9hug52KQ5_6",
        "outputId": "0a0b21da-2002-4b5c-b30f-86b8e4f12115",
        "colab": {
          "base_uri": "https://localhost:8080/",
          "height": 85
        }
      },
      "source": [
        "grades = [\"Freshman\", \"Sophomore\", \"Junior\", \"Senior\"]\n",
        "for grade in enumerate(grades):\n",
        "    print(grade)"
      ],
      "execution_count": 9,
      "outputs": [
        {
          "output_type": "stream",
          "text": [
            "(0, 'Freshman')\n",
            "(1, 'Sophomore')\n",
            "(2, 'Junior')\n",
            "(3, 'Senior')\n"
          ],
          "name": "stdout"
        }
      ]
    },
    {
      "cell_type": "code",
      "metadata": {
        "id": "2qiWVcR4RBcF",
        "outputId": "1361486c-816b-4a80-a4cc-83021329ce2e",
        "colab": {
          "base_uri": "https://localhost:8080/",
          "height": 85
        }
      },
      "source": [
        "for year, name in enumerate(grades, start=1):\n",
        "    print(\"Year \" + str(year) + \": \" + name)"
      ],
      "execution_count": 10,
      "outputs": [
        {
          "output_type": "stream",
          "text": [
            "Year 1: Freshman\n",
            "Year 2: Sophomore\n",
            "Year 3: Junior\n",
            "Year 4: Senior\n"
          ],
          "name": "stdout"
        }
      ]
    },
    {
      "cell_type": "markdown",
      "metadata": {
        "id": "qgJ2-UvjRJ6G"
      },
      "source": [
        "# 3. reversed()"
      ]
    },
    {
      "cell_type": "code",
      "metadata": {
        "id": "n2QqehGuRIm1",
        "outputId": "b4db8780-3dfd-4561-aac3-81961b7b8d90",
        "colab": {
          "base_uri": "https://localhost:8080/",
          "height": 102
        }
      },
      "source": [
        "students = [\"Kang\", \"Park\", \"Lee\", \"Choi\", \"Kim\"]\n",
        "for student in reversed(students):\n",
        "    print(student)"
      ],
      "execution_count": 14,
      "outputs": [
        {
          "output_type": "stream",
          "text": [
            "Kim\n",
            "Choi\n",
            "Lee\n",
            "Park\n",
            "Kang\n"
          ],
          "name": "stdout"
        }
      ]
    },
    {
      "cell_type": "markdown",
      "metadata": {
        "id": "H0dMK76wRXFq"
      },
      "source": [
        "# 4. sorted()"
      ]
    },
    {
      "cell_type": "code",
      "metadata": {
        "id": "RQ_AqOkBRSRJ",
        "outputId": "5529b057-a980-4d55-fd67-b397815e38f7",
        "colab": {
          "base_uri": "https://localhost:8080/",
          "height": 102
        }
      },
      "source": [
        "students = [\"Kang\", \"Park\", \"Lee\", \"Choi\", \"Kim\"]\n",
        "for student in sorted(students):\n",
        "    print(student)"
      ],
      "execution_count": 15,
      "outputs": [
        {
          "output_type": "stream",
          "text": [
            "Choi\n",
            "Kang\n",
            "Kim\n",
            "Lee\n",
            "Park\n"
          ],
          "name": "stdout"
        }
      ]
    },
    {
      "cell_type": "code",
      "metadata": {
        "id": "l3ZVcMexRccP",
        "outputId": "4714ce5d-e7ee-4ede-8005-5226bef2affe",
        "colab": {
          "base_uri": "https://localhost:8080/",
          "height": 102
        }
      },
      "source": [
        "students = [\"Kang\", \"Park\", \"Lee\", \"Choi\", \"Kim\"]\n",
        "for student in sorted(students, reverse=True):\n",
        "    print(student)"
      ],
      "execution_count": 16,
      "outputs": [
        {
          "output_type": "stream",
          "text": [
            "Park\n",
            "Lee\n",
            "Kim\n",
            "Kang\n",
            "Choi\n"
          ],
          "name": "stdout"
        }
      ]
    },
    {
      "cell_type": "code",
      "metadata": {
        "id": "ny0GjpurRijp",
        "outputId": "90ac019c-6492-4d64-ba95-ae39cce39add",
        "colab": {
          "base_uri": "https://localhost:8080/"
        }
      },
      "source": [
        "students = [{\"name\": \"Kang\", \"id\": 1}, {\"name\": \"Kim\", \"id\": 4}, {\"name\": \"Sandra\", \"id\": 2}, {\"name\": \"Park\", \"id\": 3}]\n",
        "for student in sorted(students, key = lambda x: x[\"id\"], reverse=True):\n",
        "    print(student)"
      ],
      "execution_count": 19,
      "outputs": [
        {
          "output_type": "stream",
          "text": [
            "{'name': 'Kim', 'id': 4}\n",
            "{'name': 'Park', 'id': 3}\n",
            "{'name': 'Sandra', 'id': 2}\n",
            "{'name': 'Kang', 'id': 1}\n"
          ],
          "name": "stdout"
        }
      ]
    },
    {
      "cell_type": "markdown",
      "metadata": {
        "id": "EG0mlN3mRvIj"
      },
      "source": [
        "# 5. filter()"
      ]
    },
    {
      "cell_type": "code",
      "metadata": {
        "id": "jid1QpIgRt8O",
        "outputId": "5a68bd11-5bd0-466a-a764-af97351c70d7",
        "colab": {
          "base_uri": "https://localhost:8080/",
          "height": 51
        }
      },
      "source": [
        "students = [{\"name\": \"Kang\", \"id\": 1}, {\"name\": \"Kim\", \"id\": 4}, {\"name\": \"Sandra\", \"id\": 2}, {\"name\": \"Park\", \"id\": 3}]\n",
        "for student in filter(lambda x: x[\"id\"] % 2 == 0, students):\n",
        "    print(student)"
      ],
      "execution_count": 18,
      "outputs": [
        {
          "output_type": "stream",
          "text": [
            "{'name': 'Kim', 'id': 4}\n",
            "{'name': 'Sandra', 'id': 2}\n"
          ],
          "name": "stdout"
        }
      ]
    },
    {
      "cell_type": "markdown",
      "metadata": {
        "id": "pCdV0Dc3Ski7"
      },
      "source": [
        "# 6. zip()"
      ]
    },
    {
      "cell_type": "code",
      "metadata": {
        "id": "186FAyK3S7Fi",
        "outputId": "4004904b-9707-46ed-cca3-108524d41b8b",
        "colab": {
          "base_uri": "https://localhost:8080/",
          "height": 102
        }
      },
      "source": [
        "names = [\"Kang\", \"Park\", \"Lee\", \"Choi\", \"Kim\"]\n",
        "ids = [1, 3, 2, 4, 5]\n",
        "\n",
        "for student in zip(names, ids):\n",
        "    print(student)"
      ],
      "execution_count": 21,
      "outputs": [
        {
          "output_type": "stream",
          "text": [
            "('Kang', 1)\n",
            "('Park', 3)\n",
            "('Lee', 2)\n",
            "('Choi', 4)\n",
            "('Kim', 5)\n"
          ],
          "name": "stdout"
        }
      ]
    }
  ]
}