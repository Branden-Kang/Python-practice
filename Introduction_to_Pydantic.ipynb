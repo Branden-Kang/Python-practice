{
  "nbformat": 4,
  "nbformat_minor": 0,
  "metadata": {
    "colab": {
      "name": "Introduction to Pydantic.ipynb",
      "provenance": [],
      "authorship_tag": "ABX9TyPi+jX0hlL+Q3uAWLGHb2XT"
    },
    "kernelspec": {
      "name": "python3",
      "display_name": "Python 3"
    }
  },
  "cells": [
    {
      "cell_type": "markdown",
      "metadata": {
        "id": "5Zm6BVMl-0j5"
      },
      "source": [
        "[Reference](https://medium.com/better-programming/the-beginners-guide-to-pydantic-ba33b26cde89)"
      ]
    },
    {
      "cell_type": "code",
      "metadata": {
        "id": "njbZcMw59wkt",
        "outputId": "31246230-9599-4905-dc81-91cdb55e8919",
        "colab": {
          "base_uri": "https://localhost:8080/",
          "height": 139
        }
      },
      "source": [
        "!pip install pydantic"
      ],
      "execution_count": 1,
      "outputs": [
        {
          "output_type": "stream",
          "text": [
            "Collecting pydantic\n",
            "\u001b[?25l  Downloading https://files.pythonhosted.org/packages/aa/5f/855412ad12817ae87f1c77d3af2fc384eaed3adfb8f3994816d75483fa20/pydantic-1.6.1-cp36-cp36m-manylinux2014_x86_64.whl (8.7MB)\n",
            "\u001b[K     |████████████████████████████████| 8.7MB 3.7MB/s \n",
            "\u001b[?25hRequirement already satisfied: dataclasses>=0.6; python_version < \"3.7\" in /usr/local/lib/python3.6/dist-packages (from pydantic) (0.7)\n",
            "Installing collected packages: pydantic\n",
            "Successfully installed pydantic-1.6.1\n"
          ],
          "name": "stdout"
        }
      ]
    },
    {
      "cell_type": "code",
      "metadata": {
        "id": "OlWQaL1e-BK9",
        "outputId": "43800ddf-5c74-4a2d-b15a-ed0acc3ff4d8",
        "colab": {
          "base_uri": "https://localhost:8080/",
          "height": 258
        }
      },
      "source": [
        "# install email-validator\n",
        "!pip install email-validator\n",
        "\n",
        "# install typing-extensions\n",
        "!pip install typing_extensions\n",
        "\n",
        "# install python-dotenv\n",
        "!pip install python-dotenv"
      ],
      "execution_count": 2,
      "outputs": [
        {
          "output_type": "stream",
          "text": [
            "Collecting email-validator\n",
            "  Downloading https://files.pythonhosted.org/packages/8b/f5/26dc56e8e5b3441e766c8c359be9a28d2355902ab8b2140a2d5988da675e/email_validator-1.1.1-py2.py3-none-any.whl\n",
            "Requirement already satisfied: idna>=2.0.0 in /usr/local/lib/python3.6/dist-packages (from email-validator) (2.10)\n",
            "Collecting dnspython>=1.15.0\n",
            "\u001b[?25l  Downloading https://files.pythonhosted.org/packages/90/49/cb426577c28ca3e35332815b795a99e467523843fc83cc85ca0d6be2515a/dnspython-2.0.0-py3-none-any.whl (208kB)\n",
            "\u001b[K     |████████████████████████████████| 215kB 5.9MB/s \n",
            "\u001b[?25hInstalling collected packages: dnspython, email-validator\n",
            "Successfully installed dnspython-2.0.0 email-validator-1.1.1\n",
            "Requirement already satisfied: typing_extensions in /usr/local/lib/python3.6/dist-packages (3.7.4.3)\n",
            "Collecting python-dotenv\n",
            "  Downloading https://files.pythonhosted.org/packages/f2/16/28d434b28c5be29a6af8fd0e3a2bda3bd30500ef0cd17bc79f7a6793a8d4/python_dotenv-0.14.0-py2.py3-none-any.whl\n",
            "Installing collected packages: python-dotenv\n",
            "Successfully installed python-dotenv-0.14.0\n"
          ],
          "name": "stdout"
        }
      ]
    },
    {
      "cell_type": "code",
      "metadata": {
        "id": "FepZDFAs-FyN"
      },
      "source": [
        "from datetime import datetime\n",
        "from typing import List, Optional\n",
        "from pydantic import BaseModel"
      ],
      "execution_count": 3,
      "outputs": []
    },
    {
      "cell_type": "code",
      "metadata": {
        "id": "hUcKrE2f-Jdq"
      },
      "source": [
        "class User(BaseModel):\n",
        "    id: int\n",
        "    username : str\n",
        "    password : str\n",
        "    confirm_password : str\n",
        "    alias = 'anonymous'\n",
        "    timestamp: Optional[datetime] = None\n",
        "    friends: List[int] = []"
      ],
      "execution_count": 4,
      "outputs": []
    },
    {
      "cell_type": "code",
      "metadata": {
        "id": "iqNa6UwF-Klp"
      },
      "source": [
        "data = {'id': '1234', 'username': 'wai foong', 'password': 'Password123', 'confirm_password': 'Password123', 'timestamp': '2020-08-03 10:30', 'friends': [1, '2', b'3']}\n",
        "\n",
        "user = User(**data)"
      ],
      "execution_count": 5,
      "outputs": []
    },
    {
      "cell_type": "code",
      "metadata": {
        "id": "Q5_bW2wW-Tb8",
        "outputId": "91e4ae81-72e8-4224-8849-4ce6431497f6",
        "colab": {
          "base_uri": "https://localhost:8080/",
          "height": 54
        }
      },
      "source": [
        "user"
      ],
      "execution_count": 6,
      "outputs": [
        {
          "output_type": "execute_result",
          "data": {
            "text/plain": [
              "User(id=1234, username='wai foong', password='Password123', confirm_password='Password123', timestamp=datetime.datetime(2020, 8, 3, 10, 30), friends=[1, 2, 3], alias='anonymous')"
            ]
          },
          "metadata": {
            "tags": []
          },
          "execution_count": 6
        }
      ]
    },
    {
      "cell_type": "code",
      "metadata": {
        "id": "QaoOwBOi-VME",
        "outputId": "bed83249-fa42-409a-aa63-b0cec2ccb993",
        "colab": {
          "base_uri": "https://localhost:8080/",
          "height": 351
        }
      },
      "source": [
        "data = {'id': 'a random string', 'username': 'wai foong', 'password': 'Password123', 'confirm_password': 'Password123', 'timestamp': '2020-08-03 10:30', 'friends': [1, '2', b'3']}\n",
        "\n",
        "user = User(**data)"
      ],
      "execution_count": 7,
      "outputs": [
        {
          "output_type": "error",
          "ename": "ValidationError",
          "evalue": "ignored",
          "traceback": [
            "\u001b[0;31m---------------------------------------------------------------------------\u001b[0m",
            "\u001b[0;31mValidationError\u001b[0m                           Traceback (most recent call last)",
            "\u001b[0;32m<ipython-input-7-cc822c82f1c4>\u001b[0m in \u001b[0;36m<module>\u001b[0;34m()\u001b[0m\n\u001b[1;32m      1\u001b[0m \u001b[0mdata\u001b[0m \u001b[0;34m=\u001b[0m \u001b[0;34m{\u001b[0m\u001b[0;34m'id'\u001b[0m\u001b[0;34m:\u001b[0m \u001b[0;34m'a random string'\u001b[0m\u001b[0;34m,\u001b[0m \u001b[0;34m'username'\u001b[0m\u001b[0;34m:\u001b[0m \u001b[0;34m'wai foong'\u001b[0m\u001b[0;34m,\u001b[0m \u001b[0;34m'password'\u001b[0m\u001b[0;34m:\u001b[0m \u001b[0;34m'Password123'\u001b[0m\u001b[0;34m,\u001b[0m \u001b[0;34m'confirm_password'\u001b[0m\u001b[0;34m:\u001b[0m \u001b[0;34m'Password123'\u001b[0m\u001b[0;34m,\u001b[0m \u001b[0;34m'timestamp'\u001b[0m\u001b[0;34m:\u001b[0m \u001b[0;34m'2020-08-03 10:30'\u001b[0m\u001b[0;34m,\u001b[0m \u001b[0;34m'friends'\u001b[0m\u001b[0;34m:\u001b[0m \u001b[0;34m[\u001b[0m\u001b[0;36m1\u001b[0m\u001b[0;34m,\u001b[0m \u001b[0;34m'2'\u001b[0m\u001b[0;34m,\u001b[0m \u001b[0;34mb'3'\u001b[0m\u001b[0;34m]\u001b[0m\u001b[0;34m}\u001b[0m\u001b[0;34m\u001b[0m\u001b[0;34m\u001b[0m\u001b[0m\n\u001b[1;32m      2\u001b[0m \u001b[0;34m\u001b[0m\u001b[0m\n\u001b[0;32m----> 3\u001b[0;31m \u001b[0muser\u001b[0m \u001b[0;34m=\u001b[0m \u001b[0mUser\u001b[0m\u001b[0;34m(\u001b[0m\u001b[0;34m**\u001b[0m\u001b[0mdata\u001b[0m\u001b[0;34m)\u001b[0m\u001b[0;34m\u001b[0m\u001b[0;34m\u001b[0m\u001b[0m\n\u001b[0m",
            "\u001b[0;32m/usr/local/lib/python3.6/dist-packages/pydantic/main.cpython-36m-x86_64-linux-gnu.so\u001b[0m in \u001b[0;36mpydantic.main.BaseModel.__init__\u001b[0;34m()\u001b[0m\n",
            "\u001b[0;31mValidationError\u001b[0m: 1 validation error for User\nid\n  value is not a valid integer (type=type_error.integer)"
          ]
        }
      ]
    },
    {
      "cell_type": "code",
      "metadata": {
        "id": "6DrpgU_m-bNI",
        "outputId": "9ef00b2e-906a-4233-87c9-a9643d630f98",
        "colab": {
          "base_uri": "https://localhost:8080/",
          "height": 170
        }
      },
      "source": [
        "from pydantic import BaseModel, ValidationError\n",
        "\n",
        "# ... codes for User class\n",
        "\n",
        "data = {'id': 'a random string', 'username': 'wai foong', 'password': 'Password123', 'confirm_password': 'Password123', 'timestamp': '2020-08-03 10:30', 'friends': [1, '2', b'3']}\n",
        "\n",
        "try:\n",
        "    user = User(**data)\n",
        "except ValidationError as e:\n",
        "    print(e.json())"
      ],
      "execution_count": 8,
      "outputs": [
        {
          "output_type": "stream",
          "text": [
            "[\n",
            "  {\n",
            "    \"loc\": [\n",
            "      \"id\"\n",
            "    ],\n",
            "    \"msg\": \"value is not a valid integer\",\n",
            "    \"type\": \"type_error.integer\"\n",
            "  }\n",
            "]\n"
          ],
          "name": "stdout"
        }
      ]
    },
    {
      "cell_type": "code",
      "metadata": {
        "id": "SER-cWPC-gPb"
      },
      "source": [
        "from pydantic import (\n",
        "    BaseModel,\n",
        "    NegativeInt,\n",
        "    PositiveInt,\n",
        "    conint,\n",
        "    conlist,\n",
        "    constr\n",
        ")\n",
        "\n",
        "class Model(BaseModel):\n",
        "    # minimum length of 2 and maximum length of 10\n",
        "    short_str: constr(min_length=2, max_length=10)    \n",
        "    \n",
        "    # regex\n",
        "    regex_str: constr(regex=r'^apple (pie|tart|sandwich)$')    \n",
        "    \n",
        "    # remove whitespace from string\n",
        "    strip_str: constr(strip_whitespace=True)\n",
        "\n",
        "    # value must be greater than 1000 and less than 1024\n",
        "    big_int: conint(gt=1000, lt=1024)\n",
        "    \n",
        "    # value is multiple of 5\n",
        "    mod_int: conint(multiple_of=5)\n",
        "    \n",
        "    # must be a positive integer\n",
        "    pos_int: PositiveInt\n",
        "    \n",
        "    # must be a negative integer\n",
        "    neg_int: NegativeInt\n",
        "\n",
        "    # list of integers that contains 1 to 4 items\n",
        "    short_list: conlist(int, min_items=1, max_items=4)"
      ],
      "execution_count": 9,
      "outputs": []
    },
    {
      "cell_type": "code",
      "metadata": {
        "id": "6bHxGYTO-oR_"
      },
      "source": [
        "from pydantic import BaseModel, StrictBool\n",
        "\n",
        "class StrictBoolModel(BaseModel):\n",
        "    strict_bool: StrictBool"
      ],
      "execution_count": 11,
      "outputs": []
    },
    {
      "cell_type": "code",
      "metadata": {
        "id": "OBcaTkPj-qTc"
      },
      "source": [
        "from datetime import datetime\n",
        "from typing import List, Optional\n",
        "from pydantic import BaseModel, ValidationError, validator\n",
        "\n",
        "class User(BaseModel):\n",
        "    id: int\n",
        "    username : str\n",
        "    password : str\n",
        "    confirm_password : str\n",
        "    alias = 'anonymous'\n",
        "    timestamp: Optional[datetime] = None\n",
        "    friends: List[int] = []    \n",
        "    \n",
        "    @validator('id')\n",
        "    def id_must_be_4_digits(cls, v):\n",
        "        if len(str(v)) != 4:\n",
        "            raise ValueError('must be 4 digits')\n",
        "        return v    \n",
        "        \n",
        "    @validator('confirm_password')\n",
        "    def passwords_match(cls, v, values, **kwargs):\n",
        "        if 'password' in values and v != values['password']:\n",
        "            raise ValueError('passwords do not match')\n",
        "        return v"
      ],
      "execution_count": 12,
      "outputs": []
    }
  ]
}