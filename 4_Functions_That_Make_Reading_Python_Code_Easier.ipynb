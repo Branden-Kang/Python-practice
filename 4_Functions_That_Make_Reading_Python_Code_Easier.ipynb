{
  "nbformat": 4,
  "nbformat_minor": 0,
  "metadata": {
    "colab": {
      "name": "4 Functions That Make Reading Python Code Easier.ipynb",
      "provenance": [],
      "authorship_tag": "ABX9TyMtA3TvpVRNLIgrQDsQ0n6W"
    },
    "kernelspec": {
      "name": "python3",
      "display_name": "Python 3"
    }
  },
  "cells": [
    {
      "cell_type": "markdown",
      "metadata": {
        "id": "waSEX1MefqrU"
      },
      "source": [
        "[Reference](https://medium.com/techtofreedom/4-functions-that-make-reading-python-code-easier-eb68dceef3b8)"
      ]
    },
    {
      "cell_type": "markdown",
      "metadata": {
        "id": "34x7U-6eftet"
      },
      "source": [
        "# 1. globals()"
      ]
    },
    {
      "cell_type": "code",
      "metadata": {
        "colab": {
          "base_uri": "https://localhost:8080/"
        },
        "id": "2aMvTaDTfpTM",
        "outputId": "340b29b4-e78a-42bd-895f-1952bf64b5ac"
      },
      "source": [
        "globals()"
      ],
      "execution_count": 1,
      "outputs": [
        {
          "output_type": "execute_result",
          "data": {
            "text/plain": [
              "{'In': ['', 'globals()'],\n",
              " 'Out': {},\n",
              " '_': '',\n",
              " '__': '',\n",
              " '___': '',\n",
              " '__builtin__': <module 'builtins' (built-in)>,\n",
              " '__builtins__': <module 'builtins' (built-in)>,\n",
              " '__doc__': 'Automatically created module for IPython interactive environment',\n",
              " '__loader__': None,\n",
              " '__name__': '__main__',\n",
              " '__package__': None,\n",
              " '__spec__': None,\n",
              " '_dh': ['/content'],\n",
              " '_i': '',\n",
              " '_i1': 'globals()',\n",
              " '_ih': ['', 'globals()'],\n",
              " '_ii': '',\n",
              " '_iii': '',\n",
              " '_oh': {},\n",
              " '_sh': <module 'IPython.core.shadowns' from '/usr/local/lib/python3.6/dist-packages/IPython/core/shadowns.py'>,\n",
              " 'exit': <IPython.core.autocall.ZMQExitAutocall at 0x7f77d526e9b0>,\n",
              " 'get_ipython': <bound method InteractiveShell.get_ipython of <google.colab._shell.Shell object at 0x7f77d5257470>>,\n",
              " 'quit': <IPython.core.autocall.ZMQExitAutocall at 0x7f77d526e9b0>}"
            ]
          },
          "metadata": {
            "tags": []
          },
          "execution_count": 1
        }
      ]
    },
    {
      "cell_type": "code",
      "metadata": {
        "id": "OMw-SHbGfum5"
      },
      "source": [
        "Master = \"Branden\""
      ],
      "execution_count": 2,
      "outputs": []
    },
    {
      "cell_type": "code",
      "metadata": {
        "colab": {
          "base_uri": "https://localhost:8080/"
        },
        "id": "r6qLGSr4fzZd",
        "outputId": "f8ba98f6-5f97-4f43-a815-1d1349325703"
      },
      "source": [
        "globals()"
      ],
      "execution_count": 4,
      "outputs": [
        {
          "output_type": "execute_result",
          "data": {
            "text/plain": [
              "{'In': ['', 'globals()', 'Master = \"Branden\"', 'globals', 'globals()'],\n",
              " 'Master': 'Branden',\n",
              " 'Out': {1: {...}, 3: <function globals>},\n",
              " '_': <function globals>,\n",
              " '_1': {...},\n",
              " '_3': <function globals>,\n",
              " '__': {...},\n",
              " '___': '',\n",
              " '__builtin__': <module 'builtins' (built-in)>,\n",
              " '__builtins__': <module 'builtins' (built-in)>,\n",
              " '__doc__': 'Automatically created module for IPython interactive environment',\n",
              " '__loader__': None,\n",
              " '__name__': '__main__',\n",
              " '__package__': None,\n",
              " '__spec__': None,\n",
              " '_dh': ['/content'],\n",
              " '_i': 'globals',\n",
              " '_i1': 'globals()',\n",
              " '_i2': 'Master = \"Branden\"',\n",
              " '_i3': 'globals',\n",
              " '_i4': 'globals()',\n",
              " '_ih': ['', 'globals()', 'Master = \"Branden\"', 'globals', 'globals()'],\n",
              " '_ii': 'Master = \"Branden\"',\n",
              " '_iii': 'globals()',\n",
              " '_oh': {1: {...}, 3: <function globals>},\n",
              " '_sh': <module 'IPython.core.shadowns' from '/usr/local/lib/python3.6/dist-packages/IPython/core/shadowns.py'>,\n",
              " 'exit': <IPython.core.autocall.ZMQExitAutocall at 0x7f77d526e9b0>,\n",
              " 'get_ipython': <bound method InteractiveShell.get_ipython of <google.colab._shell.Shell object at 0x7f77d5257470>>,\n",
              " 'quit': <IPython.core.autocall.ZMQExitAutocall at 0x7f77d526e9b0>}"
            ]
          },
          "metadata": {
            "tags": []
          },
          "execution_count": 4
        }
      ]
    },
    {
      "cell_type": "code",
      "metadata": {
        "colab": {
          "base_uri": "https://localhost:8080/"
        },
        "id": "XtMS2iokfzpC",
        "outputId": "51049022-d2d6-4ab8-f637-76fcdfe7e34e"
      },
      "source": [
        "[n for n in globals() if not n.startswith('__')]"
      ],
      "execution_count": 5,
      "outputs": [
        {
          "output_type": "execute_result",
          "data": {
            "text/plain": [
              "['_ih',\n",
              " '_oh',\n",
              " '_dh',\n",
              " '_sh',\n",
              " 'In',\n",
              " 'Out',\n",
              " 'get_ipython',\n",
              " 'exit',\n",
              " 'quit',\n",
              " '_',\n",
              " '_i',\n",
              " '_ii',\n",
              " '_iii',\n",
              " '_i1',\n",
              " '_1',\n",
              " '_i2',\n",
              " 'Master',\n",
              " '_i3',\n",
              " '_3',\n",
              " '_i4',\n",
              " '_4',\n",
              " '_i5']"
            ]
          },
          "metadata": {
            "tags": []
          },
          "execution_count": 5
        }
      ]
    },
    {
      "cell_type": "markdown",
      "metadata": {
        "id": "Cf2Ojuvsf8rF"
      },
      "source": [
        "# 2. locals()"
      ]
    },
    {
      "cell_type": "code",
      "metadata": {
        "colab": {
          "base_uri": "https://localhost:8080/"
        },
        "id": "KsriCfKGf4PG",
        "outputId": "11ca73ba-98db-48d5-a972-e72aad627050"
      },
      "source": [
        "def top_developer():\n",
        "    name = \"Branden\"\n",
        "    country = \"Korea\"\n",
        "    print(locals())\n",
        "\n",
        "top_developer()"
      ],
      "execution_count": 6,
      "outputs": [
        {
          "output_type": "stream",
          "text": [
            "{'country': 'Korea', 'name': 'Branden'}\n"
          ],
          "name": "stdout"
        }
      ]
    },
    {
      "cell_type": "code",
      "metadata": {
        "colab": {
          "base_uri": "https://localhost:8080/"
        },
        "id": "3nYumC1TgATC",
        "outputId": "231a53f8-83a0-4202-9385-bf9472b659b1"
      },
      "source": [
        "globals() is locals()"
      ],
      "execution_count": 7,
      "outputs": [
        {
          "output_type": "execute_result",
          "data": {
            "text/plain": [
              "True"
            ]
          },
          "metadata": {
            "tags": []
          },
          "execution_count": 7
        }
      ]
    },
    {
      "cell_type": "markdown",
      "metadata": {
        "id": "SVJdDOFVgEyS"
      },
      "source": [
        "# 3. vars()"
      ]
    },
    {
      "cell_type": "code",
      "metadata": {
        "colab": {
          "base_uri": "https://localhost:8080/"
        },
        "id": "MK7j4SJlgCiR",
        "outputId": "547d68b3-24ec-4fbe-f850-1f1881b7f5f9"
      },
      "source": [
        "class TopDeveloper:\n",
        "    def __init__(self):\n",
        "        self.name = \"Branden\"\n",
        "        self.country = \"Korea\"\n",
        "\n",
        "me = TopDeveloper()\n",
        "print(vars(me))\n",
        "print(vars(me) is me.__dict__)"
      ],
      "execution_count": 8,
      "outputs": [
        {
          "output_type": "stream",
          "text": [
            "{'name': 'Branden', 'country': 'Korea'}\n",
            "True\n"
          ],
          "name": "stdout"
        }
      ]
    },
    {
      "cell_type": "code",
      "metadata": {
        "colab": {
          "base_uri": "https://localhost:8080/",
          "height": 215
        },
        "id": "cvYBM2zvgK1l",
        "outputId": "12f4b88a-4a7f-4ead-cc0a-51af4304c594"
      },
      "source": [
        "year = 2020\n",
        "vars(year)"
      ],
      "execution_count": 9,
      "outputs": [
        {
          "output_type": "error",
          "ename": "TypeError",
          "evalue": "ignored",
          "traceback": [
            "\u001b[0;31m---------------------------------------------------------------------------\u001b[0m",
            "\u001b[0;31mTypeError\u001b[0m                                 Traceback (most recent call last)",
            "\u001b[0;32m<ipython-input-9-b74772436404>\u001b[0m in \u001b[0;36m<module>\u001b[0;34m()\u001b[0m\n\u001b[1;32m      1\u001b[0m \u001b[0myear\u001b[0m \u001b[0;34m=\u001b[0m \u001b[0;36m2020\u001b[0m\u001b[0;34m\u001b[0m\u001b[0;34m\u001b[0m\u001b[0m\n\u001b[0;32m----> 2\u001b[0;31m \u001b[0mvars\u001b[0m\u001b[0;34m(\u001b[0m\u001b[0myear\u001b[0m\u001b[0;34m)\u001b[0m\u001b[0;34m\u001b[0m\u001b[0;34m\u001b[0m\u001b[0m\n\u001b[0m",
            "\u001b[0;31mTypeError\u001b[0m: vars() argument must have __dict__ attribute"
          ]
        }
      ]
    },
    {
      "cell_type": "markdown",
      "metadata": {
        "id": "K58YgTuQgVRb"
      },
      "source": [
        "# 4. dir()"
      ]
    },
    {
      "cell_type": "code",
      "metadata": {
        "colab": {
          "base_uri": "https://localhost:8080/"
        },
        "id": "hm_0iNoGgMf5",
        "outputId": "cb9884b1-761a-4eaa-8709-c94f7a17ec3a"
      },
      "source": [
        "class TopDeveloper:\n",
        "    def __init__(self):\n",
        "        self.name = \"Branden\"\n",
        "        self.country = \"Korea\"\n",
        "me = TopDeveloper()\n",
        "print(dir(me))"
      ],
      "execution_count": 10,
      "outputs": [
        {
          "output_type": "stream",
          "text": [
            "['__class__', '__delattr__', '__dict__', '__dir__', '__doc__', '__eq__', '__format__', '__ge__', '__getattribute__', '__gt__', '__hash__', '__init__', '__init_subclass__', '__le__', '__lt__', '__module__', '__ne__', '__new__', '__reduce__', '__reduce_ex__', '__repr__', '__setattr__', '__sizeof__', '__str__', '__subclasshook__', '__weakref__', 'country', 'name']\n"
          ],
          "name": "stdout"
        }
      ]
    },
    {
      "cell_type": "code",
      "metadata": {
        "colab": {
          "base_uri": "https://localhost:8080/"
        },
        "id": "IgKxokvQgZ-a",
        "outputId": "0d244946-b9d1-4c7e-8446-c94fa2da4fed"
      },
      "source": [
        "class TopDeveloper:\n",
        "    def __init__(self):\n",
        "        self.name = \"Branden\"\n",
        "        self.country = \"Korea\"\n",
        "    def __dir__(self):\n",
        "        return [1, 2, 3]\n",
        "me = TopDeveloper()\n",
        "print(dir(me))"
      ],
      "execution_count": 11,
      "outputs": [
        {
          "output_type": "stream",
          "text": [
            "[1, 2, 3]\n"
          ],
          "name": "stdout"
        }
      ]
    }
  ]
}