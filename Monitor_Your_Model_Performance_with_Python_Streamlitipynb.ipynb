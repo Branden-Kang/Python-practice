{
  "nbformat": 4,
  "nbformat_minor": 0,
  "metadata": {
    "colab": {
      "name": "Monitor Your Model Performance with Python Streamlitipynb",
      "provenance": [],
      "authorship_tag": "ABX9TyOjsSOYLU9Ifu9AcPW55f/H"
    },
    "kernelspec": {
      "name": "python3",
      "display_name": "Python 3"
    },
    "language_info": {
      "name": "python"
    }
  },
  "cells": [
    {
      "cell_type": "markdown",
      "metadata": {
        "id": "2muGiQM4f5dQ"
      },
      "source": [
        "[Reference](https://medium.com/dataman-in-ai/monitor-your-model-performance-with-python-streamlit-e0db20f09023)"
      ]
    },
    {
      "cell_type": "code",
      "metadata": {
        "id": "pg6mxQMAf4Xs"
      },
      "source": [
        "#!pip install streamlit\n",
        "import streamlit as st\n",
        "import pandas as pd\n",
        "import numpy as np\n",
        "import seaborn as sns\n",
        "from datetime import datetime\n",
        "import matplotlib.pyplot as plt\n",
        "\n",
        "# Create some data\n",
        "df = pd.DataFrame({'state_CA':np.random.randint(low = 40, high=60, size=15),\n",
        "                   'state_TX':np.random.randint(low = 20, high=30, size=15),\n",
        "                   'state_NY':np.random.randint(low = 10, high=15, size=15),\n",
        "                   'volume':np.random.randint(low = 300, high=350, size=15),\n",
        "                   'pred':np.random.randint(low = 60, high=99, size=15),\n",
        "                   'TP':np.random.randint(low = 68, high=75, size=15),\n",
        "                   'TN':np.random.randint(low = 15, high=20, size=15),\n",
        "                   'FP':np.random.randint(low = 3, high=5, size=15)\n",
        "                 },\n",
        "                 index=pd.date_range(start=\"2019-01-01\",end=\"2020-03-31\", freq='M'))\n",
        "df['FN'] = 100 - df['TP'] - df['TN'] - df['FP']\n",
        "df.index = df.index.strftime('%Y-%m-%d')"
      ],
      "execution_count": 4,
      "outputs": []
    },
    {
      "cell_type": "code",
      "metadata": {
        "id": "b6d-e2umf-r1"
      },
      "source": [
        "##################\n",
        "# Plots          #\n",
        "##################\n",
        "# Plot 1 #\n",
        "fig1, ax1 = plt.subplots(figsize=(6,4))\n",
        "s1 = sns.barplot(x = df.index, y = 'state_CA', data = df, color = 'red',label='state_CA',ax=ax1)\n",
        "s2 = sns.barplot(x = df.index, y = 'state_TX', data = df, color = 'blue',label='state_TX',ax=ax1)\n",
        "s3 = sns.barplot(x = df.index, y = 'state_NY', data = df, color = 'green',label='state_NY',ax=ax1)\n",
        "plt.ylim(0,70)\n",
        "z, _ = plt.xticks(rotation=90)\n",
        "plt.legend(ncol=3, loc='best', frameon=True)\n",
        "\n",
        "# plot 2\n",
        "fig2, ax2 = plt.subplots(figsize=(6,4))\n",
        "sns.set(style=\"whitegrid\")\n",
        "sns.barplot(x=df.index, y=\"volume\", color=\"b\",  data=df, ax=ax2)\n",
        "z, _ = plt.xticks(rotation=90)\n",
        "\n",
        "\n",
        "# Plot 3\n",
        "fig3, ax3 = plt.subplots(figsize=(6,4))\n",
        "sns.set(style=\"whitegrid\")\n",
        "sns.lineplot(x=df.index, y=\"pred\", color=\"b\",  data=df, ax=ax3)\n",
        "plt.ylim(0,100)\n",
        "z, _ = plt.xticks(rotation=90)\n",
        "\n",
        "# Plot 4\n",
        "fig4, ax4 = plt.subplots(figsize=(6,4))\n",
        "t1 = sns.lineplot(x = df.index, y = 'TP', data = df, color = 'red',label='True Positive',ax=ax4)\n",
        "t2 = sns.lineplot(x = df.index, y = 'TN', data = df, color = 'blue',label='True Negative',ax=ax4)\n",
        "t3 = sns.lineplot(x = df.index, y = 'FP', data = df, color = 'green',label='False Positive',ax=ax4)\n",
        "t4 = sns.lineplot(x = df.index, y = 'FN', data = df, color = 'black',label='False Negative',ax=ax4)\n",
        "plt.ylim(0,100)\n",
        "z, _ = plt.xticks(rotation=90)\n",
        "plt.legend(ncol=2, loc='best', frameon=True)"
      ],
      "execution_count": null,
      "outputs": []
    },
    {
      "cell_type": "code",
      "metadata": {
        "id": "yiHPDHjdgCN6"
      },
      "source": [
        "##################\n",
        "# Set up sidebar #\n",
        "##################\n",
        "\n",
        "option = st.sidebar.write('More functions')\n",
        "\n",
        "###################\n",
        "# Set up main app #\n",
        "###################\n",
        "\n",
        "col1, col2 = st.beta_columns(2)\n",
        "col1.header(\"State\")\n",
        "col1.write(fig1)\n",
        "col2.header(\"Volume\")\n",
        "col2.write(fig2)\n",
        "\n",
        "col3, col4 = st.beta_columns(2)\n",
        "col3.header(\"Prediction\")\n",
        "col3.write(fig3)\n",
        "col4.header(\"Confusion Matrix\")\n",
        "col4.write(fig4)"
      ],
      "execution_count": 5,
      "outputs": []
    },
    {
      "cell_type": "code",
      "metadata": {
        "id": "6DG61-PXgETU"
      },
      "source": [
        "!streamlit run stock.py"
      ],
      "execution_count": 6,
      "outputs": []
    }
  ]
}