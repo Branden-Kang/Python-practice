{
  "nbformat": 4,
  "nbformat_minor": 0,
  "metadata": {
    "colab": {
      "name": "Write Your First Python Unit Test.ipynb",
      "provenance": [],
      "authorship_tag": "ABX9TyOfToGsW0dpqGaSwTSiifkQ"
    },
    "kernelspec": {
      "name": "python3",
      "display_name": "Python 3"
    },
    "language_info": {
      "name": "python"
    }
  },
  "cells": [
    {
      "cell_type": "markdown",
      "metadata": {
        "id": "_uQmK63YHo7M"
      },
      "source": [
        "[Reference](https://medium.com/geekculture/write-your-first-python-unit-test-today-be4a06307031)"
      ]
    },
    {
      "cell_type": "code",
      "metadata": {
        "id": "GEafwGFpHm4w"
      },
      "source": [
        "import numpy as np\n",
        "\n",
        "\n",
        "def probabilities(my_data):\n",
        "    \"\"\"Compute probability corresponding to each positive numerical value in data\"\"\"\n",
        "    # Initialize numpy probability array\n",
        "    my_prob_array = np.zeros(len(my_data))\n",
        "\n",
        "    # Normalize input\n",
        "    for i in range(len(my_data)):\n",
        "        my_prob_array[i] = max(0, my_data[i]) / sum(my_data)\n",
        "\n",
        "    return my_prob_array"
      ],
      "execution_count": 1,
      "outputs": []
    },
    {
      "cell_type": "code",
      "metadata": {
        "id": "oR_eOl7OHt28"
      },
      "source": [
        "import unittest\n",
        "\n",
        "class TestProbabilities(unittest.TestCase):\n",
        "\n",
        "    def test_list(self):\n",
        "        \"\"\"Test probability function for list input\"\"\"\n",
        "        test_input = [13, 2, 5, 7]\n",
        "        test_output = sum(probabilities(test_input))\n",
        "        expected_output = 1\n",
        "        error_message =  \"Should sum to 1\"\n",
        "        self.assertEqual(test_output, expected_output, error_message)"
      ],
      "execution_count": 2,
      "outputs": []
    },
    {
      "cell_type": "code",
      "metadata": {
        "id": "KkMvuhhEHxJH"
      },
      "source": [
        "import unittest\n",
        "\n",
        "class TestProbabilities(unittest.TestCase):\n",
        "    def test_list(self):\n",
        "        \"\"\"Test function for list input\"\"\"\n",
        "        self.assertEqual(sum(probabilities([13, 2, 5, 7])), 1, \"Should sum to 1\")\n",
        "        self.assertEqual(sum(probabilities([22.2511, 8.583332, 7.9937])), 1, \"Should sum to 1\")\n",
        "        self.assertEqual(sum(probabilities([3])), 1, \"Should sum to 1\")"
      ],
      "execution_count": 4,
      "outputs": []
    },
    {
      "cell_type": "code",
      "metadata": {
        "id": "EbxRGoHzH23J"
      },
      "source": [
        "import unittest\n",
        "import numpy as np\n",
        "\n",
        "\n",
        "class TestProbabilities(unittest.TestCase):\n",
        "    def test_list(self):\n",
        "        \"\"\"Test function for list input\"\"\"\n",
        "        self.assertAlmostEqual(sum(probabilities([13, 2, 5, 7])), 1,5, \"Should sum to 1\")\n",
        "        self.assertAlmostEqual(sum(probabilities([22.2511, 8.583332, 7.9937])), 1, 5, \"Should sum to 1\")\n",
        "        self.assertAlmostEqual(sum(probabilities([3])), 1, 5, \"Should sum to 1\")\n",
        "\n",
        "    def test_tuple(self):\n",
        "        \"\"\"Test function for tuple input\"\"\"\n",
        "        self.assertAlmostEqual(sum(probabilities((13, 2, 5, 7))), 1,5, \"Should sum to 1\")\n",
        "        self.assertAlmostEqual(sum(probabilities((22.2511, 8.583332, 7.9937))), 1, 5, \"Should sum to 1\")\n",
        "        self.assertAlmostEqual(sum(probabilities((3))), 1, 5, \"Should sum to 1\")\n",
        "        \n",
        "    def test_nparray(self):\n",
        "        \"\"\"Test function for np.array input\"\"\"\n",
        "        self.assertAlmostEqual(sum(probabilities(np.array([13, 2, 5, 7]))), 1, 5, \"Should sum to 1\")\n",
        "        self.assertAlmostEqual(sum(probabilities(np.array([22.2511, 8.583332, 7.9937]))), 1, 5, \"Should sum to 1\")\n",
        "        self.assertAlmostEqual(sum(probabilities(np.array([3]))), 1, 5, \"Should sum to 1\")\n",
        "\n",
        "    def test_output_type(self):\n",
        "        \"\"\"Test whether output is np.array\"\"\"\n",
        "        self.assertIsInstance(probabilities([13, 2, 5, 7]), np.ndarray, \"Output should be np.array\")\n",
        "        self.assertIsInstance(probabilities((13, 2, 5, 7)), np.ndarray, \"Output should be np.array\")\n",
        "        self.assertIsInstance(probabilities(np.array([13, 2, 5, 7])), np.ndarray, \"Output should be np.array\")"
      ],
      "execution_count": 6,
      "outputs": []
    }
  ]
}