{
  "nbformat": 4,
  "nbformat_minor": 0,
  "metadata": {
    "colab": {
      "provenance": [],
      "authorship_tag": "ABX9TyMxV4/wz1xRY738ABfIKYcx"
    },
    "kernelspec": {
      "name": "python3",
      "display_name": "Python 3"
    },
    "language_info": {
      "name": "python"
    }
  },
  "cells": [
    {
      "cell_type": "markdown",
      "source": [
        "[Reference](https://python.plainenglish.io/pydantic-is-a-game-changer-40d632518c35)"
      ],
      "metadata": {
        "id": "zBXgHMz4InL0"
      }
    },
    {
      "cell_type": "markdown",
      "source": [
        "# 1. Type checking and detailed error messages without boilerplate code"
      ],
      "metadata": {
        "id": "Y0nwQDctI2Ke"
      }
    },
    {
      "cell_type": "code",
      "execution_count": 1,
      "metadata": {
        "colab": {
          "base_uri": "https://localhost:8080/"
        },
        "id": "z4TWiU7fGs3U",
        "outputId": "5f7a005b-b295-47e7-f2ca-cded1286743c"
      },
      "outputs": [
        {
          "output_type": "stream",
          "name": "stdout",
          "text": [
            "age must be an integer\n"
          ]
        }
      ],
      "source": [
        "class User:\n",
        "    def __init__(self, name, age, is_active):\n",
        "        assert isinstance(name, str), \"name must be a string\"\n",
        "        assert isinstance(age, int), \"age must be an integer\"\n",
        "        assert isinstance(is_active, bool), \"is_active must be a boolean\"\n",
        "        self.name = name\n",
        "        self.age = age\n",
        "        self.is_active = is_active\n",
        "\n",
        "try:\n",
        "    user = User(name='Alice', age='thirty', is_active=True)\n",
        "except Exception as e:\n",
        "    print(e)"
      ]
    },
    {
      "cell_type": "code",
      "source": [
        "from pydantic import BaseModel, ValidationError\n",
        "class User(BaseModel):\n",
        "    name: str\n",
        "    age: int\n",
        "    is_active: bool\n",
        "\n",
        "try:\n",
        "    user = User(name='Alice', age='thirty', is_active=True)\n",
        "except ValidationError as e:\n",
        "    print(e)"
      ],
      "metadata": {
        "colab": {
          "base_uri": "https://localhost:8080/"
        },
        "id": "5-P4OgT3IuBP",
        "outputId": "1795d2d1-ca7c-41fe-e9f9-bef8a5004f93"
      },
      "execution_count": 2,
      "outputs": [
        {
          "output_type": "stream",
          "name": "stdout",
          "text": [
            "1 validation error for User\n",
            "age\n",
            "  Input should be a valid integer, unable to parse string as an integer [type=int_parsing, input_value='thirty', input_type=str]\n",
            "    For further information visit https://errors.pydantic.dev/2.6/v/int_parsing\n"
          ]
        }
      ]
    },
    {
      "cell_type": "markdown",
      "source": [
        "# 2. Data serialization and deserialization of complex object is easy!"
      ],
      "metadata": {
        "id": "N7bjUzOdI30A"
      }
    },
    {
      "cell_type": "code",
      "source": [
        "import json\n",
        "\n",
        "class Item:\n",
        "    def __init__(self, name, price):\n",
        "        self.name = name\n",
        "        self.price = price\n",
        "\n",
        "class Order:\n",
        "    def __init__(self, id, items):\n",
        "        self.id = id\n",
        "        self.items = items\n",
        "\n",
        "    def to_json(self):\n",
        "        return json.dumps({\n",
        "            'id': self.id,\n",
        "            'items': [{'name': item.name, 'price': item.price} for item in self.items]\n",
        "        })\n",
        "\n",
        "# Manual serialization to JSON\n",
        "order = Order(id=123, items=[Item('Widget', 34.99)])\n",
        "print(order.to_json())\n",
        "\n",
        "# Manual deserialization from JSON\n",
        "data = {\"id\": 123, \"items\": [{\"name\": \"Widget\", \"price\": 34.99}]}\n",
        "items = [Item(**x) for x in data['items']]\n",
        "order = Order(id = data['id'],items = items)"
      ],
      "metadata": {
        "colab": {
          "base_uri": "https://localhost:8080/"
        },
        "id": "jVbG7NFjI4WO",
        "outputId": "6e2db8fc-a7e2-40e8-8606-b8db546019f2"
      },
      "execution_count": 3,
      "outputs": [
        {
          "output_type": "stream",
          "name": "stdout",
          "text": [
            "{\"id\": 123, \"items\": [{\"name\": \"Widget\", \"price\": 34.99}]}\n"
          ]
        }
      ]
    },
    {
      "cell_type": "code",
      "source": [
        "from pydantic import BaseModel\n",
        "from typing import List\n",
        "\n",
        "class Item(BaseModel):\n",
        "    name: str\n",
        "    price: float\n",
        "\n",
        "class Order(BaseModel):\n",
        "    id: int\n",
        "    items: List[Item]\n",
        "\n",
        "# Serializes the object to a JSON string\n",
        "order = Order(id=123, items=[{'name': 'Widget', 'price': 34.99}])\n",
        "print(order.model_dump_json())\n",
        "\n",
        "# Deserializes the object from a JSON string\n",
        "data = {\"id\": 123, \"items\": [{\"name\": \"Widget\", \"price\": 34.99}]}\n",
        "order = Order(**data)"
      ],
      "metadata": {
        "colab": {
          "base_uri": "https://localhost:8080/"
        },
        "id": "WthJBuh8I6cn",
        "outputId": "26d48246-835a-4250-d544-e625fdc1aabf"
      },
      "execution_count": 4,
      "outputs": [
        {
          "output_type": "stream",
          "name": "stdout",
          "text": [
            "{\"id\":123,\"items\":[{\"name\":\"Widget\",\"price\":34.99}]}\n"
          ]
        }
      ]
    },
    {
      "cell_type": "markdown",
      "source": [
        "# 3. Automatic schema documentation"
      ],
      "metadata": {
        "id": "yrMFMRwBI-CJ"
      }
    },
    {
      "cell_type": "code",
      "source": [
        "print(Order.schema_json(indent=2))"
      ],
      "metadata": {
        "colab": {
          "base_uri": "https://localhost:8080/"
        },
        "id": "Ec_QFrRxI840",
        "outputId": "1fda3515-c197-474d-b6c8-e45b9032486f"
      },
      "execution_count": 5,
      "outputs": [
        {
          "output_type": "stream",
          "name": "stdout",
          "text": [
            "{\n",
            "  \"$defs\": {\n",
            "    \"Item\": {\n",
            "      \"properties\": {\n",
            "        \"name\": {\n",
            "          \"title\": \"Name\",\n",
            "          \"type\": \"string\"\n",
            "        },\n",
            "        \"price\": {\n",
            "          \"title\": \"Price\",\n",
            "          \"type\": \"number\"\n",
            "        }\n",
            "      },\n",
            "      \"required\": [\n",
            "        \"name\",\n",
            "        \"price\"\n",
            "      ],\n",
            "      \"title\": \"Item\",\n",
            "      \"type\": \"object\"\n",
            "    }\n",
            "  },\n",
            "  \"properties\": {\n",
            "    \"id\": {\n",
            "      \"title\": \"Id\",\n",
            "      \"type\": \"integer\"\n",
            "    },\n",
            "    \"items\": {\n",
            "      \"items\": {\n",
            "        \"$ref\": \"#/$defs/Item\"\n",
            "      },\n",
            "      \"title\": \"Items\",\n",
            "      \"type\": \"array\"\n",
            "    }\n",
            "  },\n",
            "  \"required\": [\n",
            "    \"id\",\n",
            "    \"items\"\n",
            "  ],\n",
            "  \"title\": \"Order\",\n",
            "  \"type\": \"object\"\n",
            "}\n"
          ]
        }
      ]
    }
  ]
}