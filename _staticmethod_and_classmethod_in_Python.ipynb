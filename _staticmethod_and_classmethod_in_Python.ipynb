{
  "nbformat": 4,
  "nbformat_minor": 0,
  "metadata": {
    "colab": {
      "name": "@staticmethod and @classmethod in Python.ipynb",
      "provenance": [],
      "authorship_tag": "ABX9TyO9VAFXTKK/KURDMS7vxSEH"
    },
    "kernelspec": {
      "name": "python3",
      "display_name": "Python 3"
    },
    "language_info": {
      "name": "python"
    }
  },
  "cells": [
    {
      "cell_type": "markdown",
      "source": [
        "[Reference](https://blog.devgenius.io/why-python-developers-should-use-staticmethod-and-classmethod-d5fe60497f23)"
      ],
      "metadata": {
        "id": "UZ6Izr8Kdmhn"
      }
    },
    {
      "cell_type": "markdown",
      "source": [
        "# @staticmethod\n"
      ],
      "metadata": {
        "id": "ACft8IgVdxhw"
      }
    },
    {
      "cell_type": "code",
      "execution_count": 1,
      "metadata": {
        "id": "K-2W0OnLdL_9"
      },
      "outputs": [],
      "source": [
        "class Supermarket:\n",
        "    product = \"Milk\"  # class attribute\n",
        "    \n",
        "    def __init__(self, product, best_before):\n",
        "        self.best_before = best_before  # instance attribute\n",
        "        self.product = product\n",
        "    @staticmethod    \n",
        "    def normalize_product_name(product):\n",
        "        product = product.capitalize().strip()        \n",
        "        return product"
      ]
    },
    {
      "cell_type": "code",
      "source": [
        "norm_product = Supermarket.normalize_product_name(\"milk  \")"
      ],
      "metadata": {
        "id": "d7Z94GOedshi"
      },
      "execution_count": 2,
      "outputs": []
    },
    {
      "cell_type": "code",
      "source": [
        "obj = Supermarket(\"Bread\", \"2022-05-18\")\n",
        "obj.normalize_product_name(\"milk  \")"
      ],
      "metadata": {
        "colab": {
          "base_uri": "https://localhost:8080/",
          "height": 37
        },
        "id": "E53KPPjZdvBR",
        "outputId": "60e1e92b-7e52-47e4-cb12-6b10a29e0711"
      },
      "execution_count": 3,
      "outputs": [
        {
          "output_type": "execute_result",
          "data": {
            "text/plain": [
              "'Milk'"
            ],
            "application/vnd.google.colaboratory.intrinsic+json": {
              "type": "string"
            }
          },
          "metadata": {},
          "execution_count": 3
        }
      ]
    },
    {
      "cell_type": "markdown",
      "source": [
        "# @classmethod\n"
      ],
      "metadata": {
        "id": "wKkbWprfdzPS"
      }
    },
    {
      "cell_type": "code",
      "source": [
        "class Supermarket:\n",
        "    product = \"Milk\"  # class attribute\n",
        "    \n",
        "    def __init__(self, product, best_before):\n",
        "        self.best_before = best_before  # instance attribute\n",
        "        self.product = product\n",
        "    @classmethod    \n",
        "    def get_product(cls):\n",
        "        print(\"product=\" + cls.product)"
      ],
      "metadata": {
        "id": "TAcgk3O8dv58"
      },
      "execution_count": 4,
      "outputs": []
    },
    {
      "cell_type": "code",
      "source": [
        "Supermarket.get_product()"
      ],
      "metadata": {
        "colab": {
          "base_uri": "https://localhost:8080/"
        },
        "id": "mC8ZUa2Vd4nE",
        "outputId": "1504cc97-8ab8-4a1c-e06b-80c9c388c46e"
      },
      "execution_count": 5,
      "outputs": [
        {
          "output_type": "stream",
          "name": "stdout",
          "text": [
            "product=Milk\n"
          ]
        }
      ]
    },
    {
      "cell_type": "code",
      "source": [
        "obj = Supermarket()\n",
        "obj.get_product()"
      ],
      "metadata": {
        "colab": {
          "base_uri": "https://localhost:8080/",
          "height": 181
        },
        "id": "4rMheCrhd69k",
        "outputId": "67d7a9e5-9767-4f3c-ce5b-8e5823319bd3"
      },
      "execution_count": 6,
      "outputs": [
        {
          "output_type": "error",
          "ename": "TypeError",
          "evalue": "ignored",
          "traceback": [
            "\u001b[0;31m---------------------------------------------------------------------------\u001b[0m",
            "\u001b[0;31mTypeError\u001b[0m                                 Traceback (most recent call last)",
            "\u001b[0;32m<ipython-input-6-3762af15dac6>\u001b[0m in \u001b[0;36m<module>\u001b[0;34m()\u001b[0m\n\u001b[0;32m----> 1\u001b[0;31m \u001b[0mobj\u001b[0m \u001b[0;34m=\u001b[0m \u001b[0mSupermarket\u001b[0m\u001b[0;34m(\u001b[0m\u001b[0;34m)\u001b[0m\u001b[0;34m\u001b[0m\u001b[0;34m\u001b[0m\u001b[0m\n\u001b[0m\u001b[1;32m      2\u001b[0m \u001b[0mobj\u001b[0m\u001b[0;34m.\u001b[0m\u001b[0mget_product\u001b[0m\u001b[0;34m(\u001b[0m\u001b[0;34m)\u001b[0m\u001b[0;34m\u001b[0m\u001b[0;34m\u001b[0m\u001b[0m\n",
            "\u001b[0;31mTypeError\u001b[0m: __init__() missing 2 required positional arguments: 'product' and 'best_before'"
          ]
        }
      ]
    },
    {
      "cell_type": "code",
      "source": [
        "class Supermarket:\n",
        "    product = \"Milk\"  # class attribute\n",
        "    \n",
        "    def __init__(self, product, best_before):\n",
        "        self.best_before = best_before  # instance attribute\n",
        "        self.product = product\n",
        "    @classmethod    \n",
        "    def get_product(cls):\n",
        "        print(f\"product={cls.product}, age={cls.best_before}\")\n",
        "\n",
        "Supermarket.get_product()"
      ],
      "metadata": {
        "colab": {
          "base_uri": "https://localhost:8080/",
          "height": 317
        },
        "id": "EFq81Aa2d79Y",
        "outputId": "3ae52130-c87c-4460-ad33-fb53ce969184"
      },
      "execution_count": 7,
      "outputs": [
        {
          "output_type": "error",
          "ename": "AttributeError",
          "evalue": "ignored",
          "traceback": [
            "\u001b[0;31m---------------------------------------------------------------------------\u001b[0m",
            "\u001b[0;31mAttributeError\u001b[0m                            Traceback (most recent call last)",
            "\u001b[0;32m<ipython-input-7-0f8513d3a7ee>\u001b[0m in \u001b[0;36m<module>\u001b[0;34m()\u001b[0m\n\u001b[1;32m      9\u001b[0m         \u001b[0mprint\u001b[0m\u001b[0;34m(\u001b[0m\u001b[0;34mf\"product={cls.product}, age={cls.best_before}\"\u001b[0m\u001b[0;34m)\u001b[0m\u001b[0;34m\u001b[0m\u001b[0;34m\u001b[0m\u001b[0m\n\u001b[1;32m     10\u001b[0m \u001b[0;34m\u001b[0m\u001b[0m\n\u001b[0;32m---> 11\u001b[0;31m \u001b[0mSupermarket\u001b[0m\u001b[0;34m.\u001b[0m\u001b[0mget_product\u001b[0m\u001b[0;34m(\u001b[0m\u001b[0;34m)\u001b[0m\u001b[0;34m\u001b[0m\u001b[0;34m\u001b[0m\u001b[0m\n\u001b[0m",
            "\u001b[0;32m<ipython-input-7-0f8513d3a7ee>\u001b[0m in \u001b[0;36mget_product\u001b[0;34m(cls)\u001b[0m\n\u001b[1;32m      7\u001b[0m     \u001b[0;34m@\u001b[0m\u001b[0mclassmethod\u001b[0m\u001b[0;34m\u001b[0m\u001b[0;34m\u001b[0m\u001b[0m\n\u001b[1;32m      8\u001b[0m     \u001b[0;32mdef\u001b[0m \u001b[0mget_product\u001b[0m\u001b[0;34m(\u001b[0m\u001b[0mcls\u001b[0m\u001b[0;34m)\u001b[0m\u001b[0;34m:\u001b[0m\u001b[0;34m\u001b[0m\u001b[0;34m\u001b[0m\u001b[0m\n\u001b[0;32m----> 9\u001b[0;31m         \u001b[0mprint\u001b[0m\u001b[0;34m(\u001b[0m\u001b[0;34mf\"product={cls.product}, age={cls.best_before}\"\u001b[0m\u001b[0;34m)\u001b[0m\u001b[0;34m\u001b[0m\u001b[0;34m\u001b[0m\u001b[0m\n\u001b[0m\u001b[1;32m     10\u001b[0m \u001b[0;34m\u001b[0m\u001b[0m\n\u001b[1;32m     11\u001b[0m \u001b[0mSupermarket\u001b[0m\u001b[0;34m.\u001b[0m\u001b[0mget_product\u001b[0m\u001b[0;34m(\u001b[0m\u001b[0;34m)\u001b[0m\u001b[0;34m\u001b[0m\u001b[0;34m\u001b[0m\u001b[0m\n",
            "\u001b[0;31mAttributeError\u001b[0m: type object 'Supermarket' has no attribute 'best_before'"
          ]
        }
      ]
    },
    {
      "cell_type": "code",
      "source": [
        "from datetime import datetime\n",
        "\n",
        "class Supermarket:    \n",
        "    def __init__(self, product, best_before):\n",
        "        self.best_before = \"2022-05-18\"\n",
        "        self.product = \"Milk\"\n",
        "    \n",
        "    @staticmethod    \n",
        "    def change_date_format(best_before):\n",
        "        best_before = datetime.strptime(best_before, \"%Y-%m-%d\")\n",
        "        best_before = best_before.strftime(\"%d-%m-%Y\")\n",
        "        return best_before\n",
        "Supermarket.change_date_format(\"2022-08-06\")"
      ],
      "metadata": {
        "colab": {
          "base_uri": "https://localhost:8080/",
          "height": 37
        },
        "id": "AH6sbW2meEgQ",
        "outputId": "2d6cbf64-2378-4f7a-cbf0-ea6760bb8cd0"
      },
      "execution_count": 8,
      "outputs": [
        {
          "output_type": "execute_result",
          "data": {
            "text/plain": [
              "'06-08-2022'"
            ],
            "application/vnd.google.colaboratory.intrinsic+json": {
              "type": "string"
            }
          },
          "metadata": {},
          "execution_count": 8
        }
      ]
    },
    {
      "cell_type": "code",
      "source": [
        "from datetime import datetime\n",
        "\n",
        "class Supermarket:    \n",
        "    def __init__(self, product, best_before):\n",
        "        self.best_before = best_before\n",
        "        self.product = product\n",
        "        \n",
        "    def get_best_before_date(self):\n",
        "        return self.best_before\n",
        "    \n",
        "    @staticmethod    \n",
        "    def change_date_format(best_before):\n",
        "        best_before = datetime.strptime(best_before, \"%Y-%m-%d\")\n",
        "        best_before = best_before.strftime(\"%d-%m-%Y\")\n",
        "        return best_before\n",
        "\n",
        "class GroceryStore(Supermarket):\n",
        "    def get_best_before_date(self):\n",
        "        return Supermarket.change_date_format(self.best_before)\n",
        "    \n",
        "    \n",
        "supermarket = Supermarket(\"Milk\", \"2022-05-18\")\n",
        "grocery = GroceryStore(\"Milk\", \"2022-05-18\")\n",
        "supermarket.get_best_before_date()\n",
        "grocery.get_best_before_date()"
      ],
      "metadata": {
        "colab": {
          "base_uri": "https://localhost:8080/",
          "height": 37
        },
        "id": "Q9ZKrhI-eICZ",
        "outputId": "4e7d0777-3574-45c8-e23c-7008a81659ca"
      },
      "execution_count": 9,
      "outputs": [
        {
          "output_type": "execute_result",
          "data": {
            "text/plain": [
              "'18-05-2022'"
            ],
            "application/vnd.google.colaboratory.intrinsic+json": {
              "type": "string"
            }
          },
          "metadata": {},
          "execution_count": 9
        }
      ]
    },
    {
      "cell_type": "code",
      "source": [
        "class Supermarket:    \n",
        "    def __init__(self, product, best_before):\n",
        "        self.best_before = \"2022-05-18\"\n",
        "        self.product = \"Milk\"\n",
        "    \n",
        "    @classmethod    \n",
        "    def add_product(cls):\n",
        "        return cls(\"Bread\", \"2022-05-29\")\n",
        "\n",
        "obj = Supermarket.add_product()\n",
        "print(obj.product)\n",
        "print(obj.best_before)"
      ],
      "metadata": {
        "colab": {
          "base_uri": "https://localhost:8080/"
        },
        "id": "hnRZDEI_eL10",
        "outputId": "25e207e7-709b-4b8d-960a-858acd1bd336"
      },
      "execution_count": 10,
      "outputs": [
        {
          "output_type": "stream",
          "name": "stdout",
          "text": [
            "Milk\n",
            "2022-05-18\n"
          ]
        }
      ]
    },
    {
      "cell_type": "code",
      "source": [
        "class Supermarket:\n",
        "    product_price = {\"Milk\": 1}\n",
        "    def __init__(self, product, best_before):\n",
        "        self.best_before = \"2022-05-18\"\n",
        "        self.product = \"Milk\"\n",
        "    @staticmethod\n",
        "    def add_import_product(product, best_before):\n",
        "        return Supermarket(product, best_before)\n",
        "    @classmethod    \n",
        "    def add_product(cls, product, best_before):\n",
        "        return cls(product, best_before)\n",
        "\n",
        "class GroceryStore(Supermarket):\n",
        "    product_price = {\"Milk\": 2}\n",
        "grocery1 = GroceryStore.add_import_product(\"Bread\", \"2022-06-05\")\n",
        "isinstance(grocery1, GroceryStore)\n",
        "grocery2 = GroceryStore.add_product(\"Apple\", \"2022-06-10\")\n",
        "isinstance(grocery2, GroceryStore)"
      ],
      "metadata": {
        "colab": {
          "base_uri": "https://localhost:8080/"
        },
        "id": "C7TiPq4VeUu6",
        "outputId": "c0b41715-8c83-42e6-a0bf-7de24b0fd340"
      },
      "execution_count": 11,
      "outputs": [
        {
          "output_type": "execute_result",
          "data": {
            "text/plain": [
              "True"
            ]
          },
          "metadata": {},
          "execution_count": 11
        }
      ]
    }
  ]
}