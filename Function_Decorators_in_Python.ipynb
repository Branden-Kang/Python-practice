{
  "nbformat": 4,
  "nbformat_minor": 0,
  "metadata": {
    "colab": {
      "name": "Function Decorators in Python.ipynb",
      "provenance": [],
      "authorship_tag": "ABX9TyMD4d/LyxNuzcw5bu02KMwd"
    },
    "kernelspec": {
      "name": "python3",
      "display_name": "Python 3"
    },
    "language_info": {
      "name": "python"
    }
  },
  "cells": [
    {
      "cell_type": "markdown",
      "metadata": {
        "id": "muMzIAzHSNv5"
      },
      "source": [
        "[Reference](https://towardsdatascience.com/function-decorators-in-python-a17958b9d618)"
      ]
    },
    {
      "cell_type": "code",
      "metadata": {
        "id": "1KD_XY7eSKvX"
      },
      "source": [
        "def sum_up(n, m):\n",
        "    return n + m"
      ],
      "execution_count": 10,
      "outputs": []
    },
    {
      "cell_type": "code",
      "metadata": {
        "colab": {
          "base_uri": "https://localhost:8080/"
        },
        "id": "5W3Urz14SRbq",
        "outputId": "bc4b7249-d440-4209-f909-80984b951c2a"
      },
      "source": [
        "print(sum_up(3, 7))"
      ],
      "execution_count": 2,
      "outputs": [
        {
          "output_type": "stream",
          "name": "stdout",
          "text": [
            "10\n"
          ]
        }
      ]
    },
    {
      "cell_type": "code",
      "metadata": {
        "id": "lThpE8X1SSZm"
      },
      "source": [
        "def log_computation(func):\n",
        "    def wrapper(n, m):\n",
        "        res = func(n, m)\n",
        "        print('Adding up {} and {}. '\n",
        "        'The result equals to {}.'.format(n, m , res))\n",
        "        return res\n",
        "\n",
        "    return wrapper"
      ],
      "execution_count": 3,
      "outputs": []
    },
    {
      "cell_type": "code",
      "metadata": {
        "id": "FOdhypHxSjLw"
      },
      "source": [
        "@log_computation\n",
        "def sum_up(n, m):\n",
        "    return n + m"
      ],
      "execution_count": 4,
      "outputs": []
    },
    {
      "cell_type": "code",
      "metadata": {
        "colab": {
          "base_uri": "https://localhost:8080/"
        },
        "id": "5u89NTtWVBQg",
        "outputId": "b7441213-81e9-4467-f5aa-fca909017ea3"
      },
      "source": [
        "print(sum_up(3, 7))"
      ],
      "execution_count": 5,
      "outputs": [
        {
          "output_type": "stream",
          "name": "stdout",
          "text": [
            "Adding up 3 and 7. The result equals to 10.\n",
            "10\n"
          ]
        }
      ]
    },
    {
      "cell_type": "code",
      "metadata": {
        "id": "f2V5KY4LVBZv"
      },
      "source": [
        "def log_computation(func):\n",
        "    def wrapper(*args):\n",
        "        numbers = args\n",
        "        res = func(*args)\n",
        "        print('Adding up the following numbers:\\n'\n",
        "        '{}\\n'\n",
        "        'The result equals to {}.'.format(numbers, res))\n",
        "        return res\n",
        "    return wrapper"
      ],
      "execution_count": 13,
      "outputs": []
    },
    {
      "cell_type": "code",
      "metadata": {
        "id": "fcBXYdjMVRjQ"
      },
      "source": [
        "@log_computation\n",
        "def sum_up(n, m, o, p ):\n",
        "    return n + m + o + p"
      ],
      "execution_count": 16,
      "outputs": []
    },
    {
      "cell_type": "code",
      "metadata": {
        "colab": {
          "base_uri": "https://localhost:8080/"
        },
        "id": "zKO_jaNYVIc3",
        "outputId": "6a345e67-42cf-4692-87f1-e483fe39846a"
      },
      "source": [
        "sum_up(3, 7, 11, 50)"
      ],
      "execution_count": 17,
      "outputs": [
        {
          "output_type": "stream",
          "name": "stdout",
          "text": [
            "Adding up the following numbers:\n",
            "(3, 7, 11, 50)\n",
            "The result equals to 71.\n"
          ]
        },
        {
          "output_type": "execute_result",
          "data": {
            "text/plain": [
              "71"
            ]
          },
          "metadata": {},
          "execution_count": 17
        }
      ]
    }
  ]
}