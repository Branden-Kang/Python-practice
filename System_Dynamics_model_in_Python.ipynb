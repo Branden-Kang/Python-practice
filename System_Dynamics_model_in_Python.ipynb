{
  "nbformat": 4,
  "nbformat_minor": 0,
  "metadata": {
    "colab": {
      "name": "System Dynamics model in Python.ipynb",
      "provenance": [],
      "authorship_tag": "ABX9TyPTQZriDaXYGc5Ru4EOjIbw"
    },
    "kernelspec": {
      "name": "python3",
      "display_name": "Python 3"
    },
    "language_info": {
      "name": "python"
    }
  },
  "cells": [
    {
      "cell_type": "markdown",
      "source": [
        "[Reference](https://medium.com/@darrellkwei/how-i-used-python-to-create-a-system-dynamics-model-10166f0510fa)"
      ],
      "metadata": {
        "id": "X68fT8vEcJV5"
      }
    },
    {
      "cell_type": "code",
      "execution_count": 4,
      "metadata": {
        "colab": {
          "base_uri": "https://localhost:8080/"
        },
        "id": "d_HUNtkPcG2e",
        "outputId": "2dd939ba-ad85-4828-f93e-f50ea2e1010a"
      },
      "outputs": [
        {
          "output_type": "stream",
          "name": "stdout",
          "text": [
            "{0: 11}\n",
            "{1: 15}\n",
            "{2: 19}\n",
            "{3: 23}\n",
            "{4: 27}\n",
            "{5: 31}\n",
            "{6: 35}\n",
            "{7: 39}\n",
            "{8: 43}\n",
            "{9: 47}\n",
            "{10: 51}\n",
            "{11: 55}\n",
            "{12: 59}\n",
            "{13: 63}\n",
            "{14: 67}\n",
            "{15: 71}\n",
            "{16: 75}\n",
            "{17: 79}\n",
            "{18: 83}\n",
            "{19: 87}\n",
            "{20: 91}\n",
            "{21: 95}\n",
            "{22: 99}\n",
            "{23: 103}\n",
            "{24: 107}\n",
            "{25: 111}\n",
            "{26: 115}\n",
            "{27: 119}\n",
            "{28: 123}\n",
            "{29: 127}\n",
            "{30: 131}\n",
            "The initial value of the stock is 11\n",
            "The value of the inflow is 11\n",
            "The value of the outflow is 7\n"
          ]
        }
      ],
      "source": [
        "Stock_Initial = 11\n",
        "Start_time = 0\n",
        "End_time = 30\n",
        "inflow = 11\n",
        "outflow = 7\n",
        "\n",
        "class DynamicModel:\n",
        "    def __init__(self, Stck_Initial=0, Start_time=0, End_time=0, inflow=0, outflow=0):\n",
        "        self.Stock_Initial = Stock_Initial\n",
        "        self.Start_time = Start_time\n",
        "        self.End_time = End_time\n",
        "        self.inflow = inflow\n",
        "        self.outflow = outflow\n",
        "\n",
        "    def Stock_behavior(self):\n",
        "        Difference = self.inflow - self.outflow\n",
        "        for time in range(self.Start_time, self.End_time + 1, 1):\n",
        "            Net_flow = Difference * time\n",
        "            print({time: self.Stock_Initial + Net_flow})\n",
        "\n",
        "SysDyn1 = DynamicModel(11, 0, 30, 11, 7)\n",
        "\n",
        "SysDyn1.Stock_behavior()\n",
        "a = SysDyn1.Stock_Initial\n",
        "b = SysDyn1.inflow\n",
        "c = SysDyn1.outflow\n",
        "print(\"The initial value of the stock is\", a)\n",
        "print(\"The value of the inflow is\", b)\n",
        "print(\"The value of the outflow is\", c)"
      ]
    }
  ]
}