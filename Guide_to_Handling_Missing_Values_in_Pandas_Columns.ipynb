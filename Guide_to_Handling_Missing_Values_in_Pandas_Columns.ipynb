{
  "nbformat": 4,
  "nbformat_minor": 0,
  "metadata": {
    "colab": {
      "provenance": [],
      "authorship_tag": "ABX9TyNjlzWS7dP8V7O+kY2OMbez"
    },
    "kernelspec": {
      "name": "python3",
      "display_name": "Python 3"
    },
    "language_info": {
      "name": "python"
    }
  },
  "cells": [
    {
      "cell_type": "markdown",
      "source": [
        "[Reference](https://medium.com/@tubelwj/guide-to-handling-missing-values-in-pandas-columns-e9580a139400)"
      ],
      "metadata": {
        "id": "1JiImtbdxK1c"
      }
    },
    {
      "cell_type": "markdown",
      "source": [
        "# Missing Value Statistics"
      ],
      "metadata": {
        "id": "40upjYbHxVt3"
      }
    },
    {
      "cell_type": "code",
      "execution_count": 1,
      "metadata": {
        "colab": {
          "base_uri": "https://localhost:8080/"
        },
        "id": "eEBrY1OXxCfL",
        "outputId": "6cc74fc3-f77e-428c-9412-c1d5402fa71d"
      },
      "outputs": [
        {
          "output_type": "stream",
          "name": "stdout",
          "text": [
            "+---+-------+-------+-------+-------+-------+\n",
            "|   | col_A | col_B | col_C | col_D | col_E |\n",
            "+---+-------+-------+-------+-------+-------+\n",
            "| 0 | 0.09  |  nan  | 0.12  | 0.88  | 0.26  |\n",
            "| 1 | 0.61  |  nan  | 0.86  | 0.41  |  nan  |\n",
            "| 2 | 0.68  | 0.68  |  nan  | 0.48  | 0.72  |\n",
            "| 3 | 0.13  | 0.68  |  0.2  |  nan  |  nan  |\n",
            "| 4 | 0.25  | 0.12  | 0.51  | 0.35  |  nan  |\n",
            "| 6 | 0.98  |  nan  | 0.98  | 0.25  | 0.39  |\n",
            "| 8 | 0.35  | 0.46  | 0.17  |  nan  | 0.45  |\n",
            "| 9 | 0.66  | 0.78  | 0.28  |  nan  | 0.38  |\n",
            "+---+-------+-------+-------+-------+-------+\n"
          ]
        }
      ],
      "source": [
        "import pandas as pd\n",
        "import numpy as np\n",
        "from tabulate import tabulate  # Import tabulate to format the output\n",
        "\n",
        "# Create a DataFrame with random missing values\n",
        "def get_random_missing_data(rows=10, cols=5, missing_ratio=0.2):\n",
        "    # Generate a random DataFrame with decimal values rounded to 2 places\n",
        "    data = np.random.rand(rows, cols).round(2)\n",
        "    df = pd.DataFrame(data, columns=[f\"col_{chr(65+i)}\" for i in range(cols)])  # col_A, col_B, ...\n",
        "\n",
        "    # Introduce missing values based on the missing ratio\n",
        "    num_missing = int(rows * cols * missing_ratio)\n",
        "    missing_indices = np.random.choice(df.size, num_missing, replace=False)\n",
        "\n",
        "    for idx in missing_indices:\n",
        "        row = idx // cols\n",
        "        col = idx % cols\n",
        "        df.iat[row, col] = np.nan  # Set missing values\n",
        "\n",
        "    # Return the rows that contain missing values\n",
        "    return df[df.isna().any(axis=1)]  # Only return rows that have at least one missing value\n",
        "\n",
        "# Call the function to get rows with missing values\n",
        "df = get_random_missing_data()\n",
        "\n",
        "# Print the DataFrame using tabulate for better readability\n",
        "print(tabulate(df, headers='keys', tablefmt='pretty'))"
      ]
    },
    {
      "cell_type": "code",
      "source": [
        "df.isna().sum()"
      ],
      "metadata": {
        "colab": {
          "base_uri": "https://localhost:8080/",
          "height": 238
        },
        "id": "Wo0Dl7lKxREF",
        "outputId": "74a2b4b5-b99f-494b-ac03-d724d7d3d413"
      },
      "execution_count": 2,
      "outputs": [
        {
          "output_type": "execute_result",
          "data": {
            "text/plain": [
              "col_A    0\n",
              "col_B    3\n",
              "col_C    1\n",
              "col_D    3\n",
              "col_E    3\n",
              "dtype: int64"
            ],
            "text/html": [
              "<div>\n",
              "<style scoped>\n",
              "    .dataframe tbody tr th:only-of-type {\n",
              "        vertical-align: middle;\n",
              "    }\n",
              "\n",
              "    .dataframe tbody tr th {\n",
              "        vertical-align: top;\n",
              "    }\n",
              "\n",
              "    .dataframe thead th {\n",
              "        text-align: right;\n",
              "    }\n",
              "</style>\n",
              "<table border=\"1\" class=\"dataframe\">\n",
              "  <thead>\n",
              "    <tr style=\"text-align: right;\">\n",
              "      <th></th>\n",
              "      <th>0</th>\n",
              "    </tr>\n",
              "  </thead>\n",
              "  <tbody>\n",
              "    <tr>\n",
              "      <th>col_A</th>\n",
              "      <td>0</td>\n",
              "    </tr>\n",
              "    <tr>\n",
              "      <th>col_B</th>\n",
              "      <td>3</td>\n",
              "    </tr>\n",
              "    <tr>\n",
              "      <th>col_C</th>\n",
              "      <td>1</td>\n",
              "    </tr>\n",
              "    <tr>\n",
              "      <th>col_D</th>\n",
              "      <td>3</td>\n",
              "    </tr>\n",
              "    <tr>\n",
              "      <th>col_E</th>\n",
              "      <td>3</td>\n",
              "    </tr>\n",
              "  </tbody>\n",
              "</table>\n",
              "</div><br><label><b>dtype:</b> int64</label>"
            ]
          },
          "metadata": {},
          "execution_count": 2
        }
      ]
    },
    {
      "cell_type": "code",
      "source": [
        "df.isna().mean()"
      ],
      "metadata": {
        "colab": {
          "base_uri": "https://localhost:8080/",
          "height": 238
        },
        "id": "2x4vPK8AxSq2",
        "outputId": "85441b11-23dc-4f33-d9be-c34f7a1a816c"
      },
      "execution_count": 3,
      "outputs": [
        {
          "output_type": "execute_result",
          "data": {
            "text/plain": [
              "col_A    0.000\n",
              "col_B    0.375\n",
              "col_C    0.125\n",
              "col_D    0.375\n",
              "col_E    0.375\n",
              "dtype: float64"
            ],
            "text/html": [
              "<div>\n",
              "<style scoped>\n",
              "    .dataframe tbody tr th:only-of-type {\n",
              "        vertical-align: middle;\n",
              "    }\n",
              "\n",
              "    .dataframe tbody tr th {\n",
              "        vertical-align: top;\n",
              "    }\n",
              "\n",
              "    .dataframe thead th {\n",
              "        text-align: right;\n",
              "    }\n",
              "</style>\n",
              "<table border=\"1\" class=\"dataframe\">\n",
              "  <thead>\n",
              "    <tr style=\"text-align: right;\">\n",
              "      <th></th>\n",
              "      <th>0</th>\n",
              "    </tr>\n",
              "  </thead>\n",
              "  <tbody>\n",
              "    <tr>\n",
              "      <th>col_A</th>\n",
              "      <td>0.000</td>\n",
              "    </tr>\n",
              "    <tr>\n",
              "      <th>col_B</th>\n",
              "      <td>0.375</td>\n",
              "    </tr>\n",
              "    <tr>\n",
              "      <th>col_C</th>\n",
              "      <td>0.125</td>\n",
              "    </tr>\n",
              "    <tr>\n",
              "      <th>col_D</th>\n",
              "      <td>0.375</td>\n",
              "    </tr>\n",
              "    <tr>\n",
              "      <th>col_E</th>\n",
              "      <td>0.375</td>\n",
              "    </tr>\n",
              "  </tbody>\n",
              "</table>\n",
              "</div><br><label><b>dtype:</b> float64</label>"
            ]
          },
          "metadata": {},
          "execution_count": 3
        }
      ]
    },
    {
      "cell_type": "markdown",
      "source": [
        "# Deleting Missing Values"
      ],
      "metadata": {
        "id": "HhrU-yxPxZIm"
      }
    },
    {
      "cell_type": "code",
      "source": [
        "import pandas as pd\n",
        "import numpy as np\n",
        "\n",
        "# Create a DataFrame with columns named 'col_A', 'col_B', etc., and random floating-point numbers\n",
        "df = pd.DataFrame(\n",
        "    {\n",
        "        \"col_A\": [1.23, 2.34, 3.45, np.nan],\n",
        "        \"col_B\": [1.12, np.nan, 3.67, 4.89],\n",
        "        \"col_C\": [1.78, 2.56, np.nan, 4.23],\n",
        "        \"col_D\": [1.22, 2.34, 3.45, 4.56],\n",
        "    }\n",
        ")\n",
        "\n",
        "# Drop rows with any missing values\n",
        "df_cleaned = df.dropna(how=\"any\", axis=0)\n",
        "\n",
        "# Print the cleaned DataFrame\n",
        "print(df_cleaned)"
      ],
      "metadata": {
        "colab": {
          "base_uri": "https://localhost:8080/"
        },
        "id": "Trf5E63wxTvB",
        "outputId": "73fd5743-e12f-4a83-eeab-627c42a43ecb"
      },
      "execution_count": 4,
      "outputs": [
        {
          "output_type": "stream",
          "name": "stdout",
          "text": [
            "   col_A  col_B  col_C  col_D\n",
            "0   1.23   1.12   1.78   1.22\n"
          ]
        }
      ]
    },
    {
      "cell_type": "code",
      "source": [
        "import pandas as pd\n",
        "import numpy as np\n",
        "\n",
        "# Create a DataFrame with random float values and missing values\n",
        "df = pd.DataFrame(\n",
        "    {\n",
        "        \"col_A\": [1.23, np.nan, 3.45, np.nan],\n",
        "        \"col_B\": [1.67, np.nan, 3.89, 4.56],\n",
        "        \"col_C\": [1.01, np.nan, np.nan, 4.23],\n",
        "        \"col_D\": [1.11, np.nan, 3.67, 4.89],\n",
        "    }\n",
        ")\n",
        "\n",
        "# Drop rows where all values are missing\n",
        "df_cleaned = df.dropna(how=\"all\", axis=0)\n",
        "\n",
        "print(df_cleaned)"
      ],
      "metadata": {
        "colab": {
          "base_uri": "https://localhost:8080/"
        },
        "id": "XKSR4CkTxbRz",
        "outputId": "30d98dac-779e-4e70-ed82-022f0eea1d36"
      },
      "execution_count": 5,
      "outputs": [
        {
          "output_type": "stream",
          "name": "stdout",
          "text": [
            "   col_A  col_B  col_C  col_D\n",
            "0   1.23   1.67   1.01   1.11\n",
            "2   3.45   3.89    NaN   3.67\n",
            "3    NaN   4.56   4.23   4.89\n"
          ]
        }
      ]
    },
    {
      "cell_type": "code",
      "source": [
        "import pandas as pd\n",
        "import numpy as np\n",
        "\n",
        "# Create a DataFrame with random float values and missing values\n",
        "df = pd.DataFrame(\n",
        "    {\n",
        "        \"col_A\": [1.23, 2.34, 3.45, np.nan],\n",
        "        \"col_B\": [1.56, np.nan, 3.67, 4.78],\n",
        "        \"col_C\": [1.89, 2.90, np.nan, 4.12],\n",
        "        \"col_D\": [1.01, 2.11, 3.22, 4.33],\n",
        "    }\n",
        ")\n",
        "\n",
        "# Drop columns where any value is missing\n",
        "df_cleaned = df.dropna(how=\"any\", axis=1)\n",
        "\n",
        "print(df_cleaned)"
      ],
      "metadata": {
        "colab": {
          "base_uri": "https://localhost:8080/"
        },
        "id": "Y-CWe5IfxeIS",
        "outputId": "81a5a933-1328-4776-bb28-3b095089c279"
      },
      "execution_count": 6,
      "outputs": [
        {
          "output_type": "stream",
          "name": "stdout",
          "text": [
            "   col_D\n",
            "0   1.01\n",
            "1   2.11\n",
            "2   3.22\n",
            "3   4.33\n"
          ]
        }
      ]
    },
    {
      "cell_type": "code",
      "source": [
        "import pandas as pd\n",
        "import numpy as np\n",
        "\n",
        "# Create a DataFrame with random float values and missing values\n",
        "df = pd.DataFrame(\n",
        "    {\n",
        "        \"col_A\": [np.nan, np.nan, np.nan, np.nan],\n",
        "        \"col_B\": [1.23, np.nan, 3.45, 4.56],\n",
        "        \"col_C\": [1.67, 2.89, np.nan, 4.12],\n",
        "        \"col_D\": [1.11, np.nan, 3.33, 4.44],\n",
        "    }\n",
        ")\n",
        "\n",
        "# Drop columns where all values are missing\n",
        "df_cleaned = df.dropna(how=\"all\", axis=1)\n",
        "\n",
        "print(df_cleaned)"
      ],
      "metadata": {
        "colab": {
          "base_uri": "https://localhost:8080/"
        },
        "id": "VMMGPXQ_xgDk",
        "outputId": "b28492a3-5b38-4299-a236-3ae2c5fda695"
      },
      "execution_count": 7,
      "outputs": [
        {
          "output_type": "stream",
          "name": "stdout",
          "text": [
            "   col_B  col_C  col_D\n",
            "0   1.23   1.67   1.11\n",
            "1    NaN   2.89    NaN\n",
            "2   3.45    NaN   3.33\n",
            "3   4.56   4.12   4.44\n"
          ]
        }
      ]
    },
    {
      "cell_type": "markdown",
      "source": [
        "# Filling Missing Values"
      ],
      "metadata": {
        "id": "CHijHxOwxy34"
      }
    },
    {
      "cell_type": "code",
      "source": [
        "import pandas as pd\n",
        "import numpy as np\n",
        "\n",
        "# DataFrame with NaN values, columns named col_A, col_B, etc., and floating point values rounded to two decimal places\n",
        "df = pd.DataFrame(\n",
        "    {\n",
        "        \"col_A\": [1.00, 2.00, 3.00, np.nan],\n",
        "        \"col_B\": [1.00, np.nan, 3.00, 4.00],\n",
        "        \"col_C\": [1.00, 2.00, np.nan, 4.00],\n",
        "        \"col_D\": [1.00, 2.00, 3.00, 4.00],\n",
        "    }\n",
        ")\n",
        "\n",
        "# Fill missing values with -1\n",
        "print(\"Fill NaN with -1:\")\n",
        "print(df.fillna(-1))"
      ],
      "metadata": {
        "colab": {
          "base_uri": "https://localhost:8080/"
        },
        "id": "uhnO-4JHxsrj",
        "outputId": "de83f6e4-efd3-44ca-e344-321b0ec834f3"
      },
      "execution_count": 8,
      "outputs": [
        {
          "output_type": "stream",
          "name": "stdout",
          "text": [
            "Fill NaN with -1:\n",
            "   col_A  col_B  col_C  col_D\n",
            "0    1.0    1.0    1.0    1.0\n",
            "1    2.0   -1.0    2.0    2.0\n",
            "2    3.0    3.0   -1.0    3.0\n",
            "3   -1.0    4.0    4.0    4.0\n"
          ]
        }
      ]
    },
    {
      "cell_type": "code",
      "source": [
        "import pandas as pd\n",
        "import numpy as np\n",
        "\n",
        "# DataFrame with NaN values, columns named col_A, col_B, etc., and floating point values rounded to two decimal places\n",
        "df = pd.DataFrame(\n",
        "    {\n",
        "        \"col_A\": [1.00, 2.00, 3.00, np.nan],\n",
        "        \"col_B\": [1.00, np.nan, 3.00, 4.00],\n",
        "        \"col_C\": [1.00, 2.00, np.nan, 4.00],\n",
        "        \"col_D\": [1.00, 2.00, 3.00, 4.00],\n",
        "    }\n",
        ")\n",
        "\n",
        "# Fill missing values with -1\n",
        "print(\"Fill NaN with -1:\")\n",
        "print(df.fillna(-1))"
      ],
      "metadata": {
        "colab": {
          "base_uri": "https://localhost:8080/"
        },
        "id": "5BQ2XgYxx0H3",
        "outputId": "2683cec4-3edc-426e-919e-f88cf4e5a5b1"
      },
      "execution_count": 9,
      "outputs": [
        {
          "output_type": "stream",
          "name": "stdout",
          "text": [
            "Fill NaN with -1:\n",
            "   col_A  col_B  col_C  col_D\n",
            "0    1.0    1.0    1.0    1.0\n",
            "1    2.0   -1.0    2.0    2.0\n",
            "2    3.0    3.0   -1.0    3.0\n",
            "3   -1.0    4.0    4.0    4.0\n"
          ]
        }
      ]
    },
    {
      "cell_type": "code",
      "source": [
        "import pandas as pd\n",
        "import numpy as np\n",
        "\n",
        "# DataFrame with NaN values, columns named col_A, col_B, etc., and floating point values rounded to two decimal places\n",
        "df = pd.DataFrame(\n",
        "    {\n",
        "        \"col_A\": [1.00, 2.00, 3.00, np.nan],\n",
        "        \"col_B\": [1.00, np.nan, 3.00, 4.00],\n",
        "        \"col_C\": [1.00, 2.00, np.nan, 4.00],\n",
        "        \"col_D\": [1.00, 2.00, 3.00, 4.00],\n",
        "    }\n",
        ")\n",
        "\n",
        "# Fill missing values with -1\n",
        "print(\"Fill NaN with -1:\")\n",
        "print(df.fillna(-1))"
      ],
      "metadata": {
        "colab": {
          "base_uri": "https://localhost:8080/"
        },
        "id": "xT9dxt25x1ah",
        "outputId": "bb2286f4-3c72-4a18-b55d-15f4acd2220a"
      },
      "execution_count": 10,
      "outputs": [
        {
          "output_type": "stream",
          "name": "stdout",
          "text": [
            "Fill NaN with -1:\n",
            "   col_A  col_B  col_C  col_D\n",
            "0    1.0    1.0    1.0    1.0\n",
            "1    2.0   -1.0    2.0    2.0\n",
            "2    3.0    3.0   -1.0    3.0\n",
            "3   -1.0    4.0    4.0    4.0\n"
          ]
        }
      ]
    }
  ]
}