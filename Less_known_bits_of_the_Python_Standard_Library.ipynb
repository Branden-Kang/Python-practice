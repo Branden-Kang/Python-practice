{
  "nbformat": 4,
  "nbformat_minor": 0,
  "metadata": {
    "colab": {
      "name": "Less known bits of the Python Standard Library.ipynb",
      "provenance": [],
      "authorship_tag": "ABX9TyNWy+EOcPepsJNhdHMzm10k"
    },
    "kernelspec": {
      "name": "python3",
      "display_name": "Python 3"
    },
    "language_info": {
      "name": "python"
    }
  },
  "cells": [
    {
      "cell_type": "markdown",
      "metadata": {
        "id": "xRLTNW4DiMvv"
      },
      "source": [
        "[Reference](https://medium.com/@vmsp/less-known-bits-of-the-python-standard-library-46dc88490115)"
      ]
    },
    {
      "cell_type": "code",
      "metadata": {
        "colab": {
          "base_uri": "https://localhost:8080/"
        },
        "id": "JZCqrLuMiCXw",
        "outputId": "d98f2cff-3fb7-496c-95c0-5547b5db86c0"
      },
      "source": [
        "import textwrap\n",
        "text = 'Lorem ipsum dolor sit amet, consectetur adipiscing elit, sed do eiusmod tempor incididunt ut labore et dolore magna aliqua. Ut enim ad minim veniam, quis nostrud exercitation ullamco laboris nisi ut aliquip ex ea commodo consequat. Duis aute irure dolor in reprehenderit in voluptate velit esse cillum dolore eu fugiat nulla pariatur.'\n",
        "for line in textwrap.wrap(text, 50):\n",
        "     print(line)"
      ],
      "execution_count": 1,
      "outputs": [
        {
          "output_type": "stream",
          "text": [
            "Lorem ipsum dolor sit amet, consectetur adipiscing\n",
            "elit, sed do eiusmod tempor incididunt ut labore\n",
            "et dolore magna aliqua. Ut enim ad minim veniam,\n",
            "quis nostrud exercitation ullamco laboris nisi ut\n",
            "aliquip ex ea commodo consequat. Duis aute irure\n",
            "dolor in reprehenderit in voluptate velit esse\n",
            "cillum dolore eu fugiat nulla pariatur.\n"
          ],
          "name": "stdout"
        }
      ]
    },
    {
      "cell_type": "code",
      "metadata": {
        "colab": {
          "base_uri": "https://localhost:8080/"
        },
        "id": "SM6n9-SKiRjq",
        "outputId": "e0ef5aaa-60d5-4a94-a38e-15a8e0d0bef2"
      },
      "source": [
        "from pprint import pprint\n",
        "data = {\n",
        "     'name': 'Michael Audrey Meyers',\n",
        "     'birth_date': 'October 19, 1957',\n",
        "     'relatives' : [\n",
        "         'Donald Meyers',\n",
        "         'Edith Meyers',\n",
        "         'Judith Meyers',\n",
        "     ],\n",
        " }\n",
        "print(data)"
      ],
      "execution_count": 2,
      "outputs": [
        {
          "output_type": "stream",
          "text": [
            "{'name': 'Michael Audrey Meyers', 'birth_date': 'October 19, 1957', 'relatives': ['Donald Meyers', 'Edith Meyers', 'Judith Meyers']}\n"
          ],
          "name": "stdout"
        }
      ]
    },
    {
      "cell_type": "code",
      "metadata": {
        "colab": {
          "base_uri": "https://localhost:8080/"
        },
        "id": "MKHARfd_iVx5",
        "outputId": "eb63813f-3c86-425d-e1dc-0341348cbeb7"
      },
      "source": [
        "from enum import Enum\n",
        "class Color(Enum):\n",
        "     RED = 1\n",
        "     GREEN = 2\n",
        "     BLUE = 3\n",
        "\n",
        "print(Color.RED)\n",
        "print(Color.RED.name)\n",
        "print(Color.RED.value)"
      ],
      "execution_count": 3,
      "outputs": [
        {
          "output_type": "stream",
          "text": [
            "Color.RED\n",
            "RED\n",
            "1\n"
          ],
          "name": "stdout"
        }
      ]
    },
    {
      "cell_type": "code",
      "metadata": {
        "colab": {
          "base_uri": "https://localhost:8080/"
        },
        "id": "SiuvmOl4icKn",
        "outputId": "3485814a-afe9-41cd-8446-501e96db1e9a"
      },
      "source": [
        "import shelve\n",
        "with shelve.open('default.db') as shelf:\n",
        "     shelf['first_name'] = 'Vitor'\n",
        "     shelf['last_name'] = 'Pereira'\n",
        "\n",
        "with shelve.open('default.db') as shelf:\n",
        "     print(shelf['first_name'], shelf['last_name'])"
      ],
      "execution_count": 4,
      "outputs": [
        {
          "output_type": "stream",
          "text": [
            "Vitor Pereira\n"
          ],
          "name": "stdout"
        }
      ]
    },
    {
      "cell_type": "code",
      "metadata": {
        "colab": {
          "base_uri": "https://localhost:8080/",
          "height": 266
        },
        "id": "NsaRUQ4Sig1j",
        "outputId": "508cb3a6-71ee-4d54-f0eb-b1b9e6e6ebe8"
      },
      "source": [
        "import smtplib\n",
        "from email.message import EmailMessage\n",
        "\n",
        "textfile = 'stored_email.txt'\n",
        "\n",
        "# Open the plain text file whose name is in textfile for reading.\n",
        "with open(textfile) as fp:\n",
        "    # Create a text/plain message\n",
        "    msg = EmailMessage()\n",
        "    msg.set_content(fp.read())\n",
        "\n",
        "msg['Subject'] = f'The contents of {textfile}'\n",
        "msg['From'] = 'roger@hmail.com'\n",
        "msg['To'] = 'tobias@imail.com'\n",
        "\n",
        "# Send the message via our own SMTP server.\n",
        "s = smtplib.SMTP('localhost')\n",
        "s.send_message(msg)\n",
        "s.quit()"
      ],
      "execution_count": 6,
      "outputs": [
        {
          "output_type": "error",
          "ename": "FileNotFoundError",
          "evalue": "ignored",
          "traceback": [
            "\u001b[0;31m---------------------------------------------------------------------------\u001b[0m",
            "\u001b[0;31mFileNotFoundError\u001b[0m                         Traceback (most recent call last)",
            "\u001b[0;32m<ipython-input-6-2e3636154535>\u001b[0m in \u001b[0;36m<module>\u001b[0;34m()\u001b[0m\n\u001b[1;32m      5\u001b[0m \u001b[0;34m\u001b[0m\u001b[0m\n\u001b[1;32m      6\u001b[0m \u001b[0;31m# Open the plain text file whose name is in textfile for reading.\u001b[0m\u001b[0;34m\u001b[0m\u001b[0;34m\u001b[0m\u001b[0;34m\u001b[0m\u001b[0m\n\u001b[0;32m----> 7\u001b[0;31m \u001b[0;32mwith\u001b[0m \u001b[0mopen\u001b[0m\u001b[0;34m(\u001b[0m\u001b[0mtextfile\u001b[0m\u001b[0;34m)\u001b[0m \u001b[0;32mas\u001b[0m \u001b[0mfp\u001b[0m\u001b[0;34m:\u001b[0m\u001b[0;34m\u001b[0m\u001b[0;34m\u001b[0m\u001b[0m\n\u001b[0m\u001b[1;32m      8\u001b[0m     \u001b[0;31m# Create a text/plain message\u001b[0m\u001b[0;34m\u001b[0m\u001b[0;34m\u001b[0m\u001b[0;34m\u001b[0m\u001b[0m\n\u001b[1;32m      9\u001b[0m     \u001b[0mmsg\u001b[0m \u001b[0;34m=\u001b[0m \u001b[0mEmailMessage\u001b[0m\u001b[0;34m(\u001b[0m\u001b[0;34m)\u001b[0m\u001b[0;34m\u001b[0m\u001b[0;34m\u001b[0m\u001b[0m\n",
            "\u001b[0;31mFileNotFoundError\u001b[0m: [Errno 2] No such file or directory: 'stored_email.txt'"
          ]
        }
      ]
    }
  ]
}