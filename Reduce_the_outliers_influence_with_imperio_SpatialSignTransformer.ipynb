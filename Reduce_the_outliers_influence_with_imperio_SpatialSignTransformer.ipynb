{
  "nbformat": 4,
  "nbformat_minor": 0,
  "metadata": {
    "colab": {
      "name": "Reduce the outliers influence with  imperio SpatialSignTransformer.ipynb",
      "provenance": [],
      "authorship_tag": "ABX9TyPZdKsXXGsvtU9KTaSHzitv"
    },
    "kernelspec": {
      "name": "python3",
      "display_name": "Python 3"
    },
    "language_info": {
      "name": "python"
    }
  },
  "cells": [
    {
      "cell_type": "markdown",
      "source": [
        "[Reference](https://medium.com/softplus-publication/reduce-the-outlaiers-influence-with-imperio-spatialsigntransformer-47ca688aa11b)"
      ],
      "metadata": {
        "id": "-YU9MQoqbFFN"
      }
    },
    {
      "cell_type": "code",
      "execution_count": 1,
      "metadata": {
        "id": "5ZLNRUuca4_z"
      },
      "outputs": [],
      "source": [
        "pip install imperio"
      ]
    },
    {
      "cell_type": "code",
      "source": [
        "from imperio import SpatialSignTransformer\n",
        "spatial_sign = SpatialSignTransformer()\n",
        "spatial_sign.fit(X_train, y_train)\n",
        "X_transformed = spatial_sign.transform(X_test)"
      ],
      "metadata": {
        "id": "VqC4yecla7cv"
      },
      "execution_count": 2,
      "outputs": []
    },
    {
      "cell_type": "code",
      "source": [
        "X_transformed = spatial_sign.fit_transform(X_train, y_train)"
      ],
      "metadata": {
        "id": "qIk_Br3Ka8ds"
      },
      "execution_count": 3,
      "outputs": []
    },
    {
      "cell_type": "code",
      "source": [
        "from sklearn.pipeline import Pipeline\n",
        "from imperio import SpatialSignTransformer\n",
        "from sklearn.linear_model import LogisticRegression\n",
        "from sklearn.preprocessing import StandardScaler\n",
        "pipe = Pipeline(\n",
        "    [\n",
        "     ('scaler', StandardScaler()),\n",
        "     ('spatial_sign', SpatialSignTransformer()),\n",
        "     ('model', LogisticRegression())\n",
        "])"
      ],
      "metadata": {
        "id": "pR0r_K9oa94q"
      },
      "execution_count": 4,
      "outputs": []
    },
    {
      "cell_type": "code",
      "source": [
        "new_df = spatial_sign.apply(df, target='target', columns=['col1'])"
      ],
      "metadata": {
        "id": "H3HiC2ACa-4o"
      },
      "execution_count": 5,
      "outputs": []
    }
  ]
}