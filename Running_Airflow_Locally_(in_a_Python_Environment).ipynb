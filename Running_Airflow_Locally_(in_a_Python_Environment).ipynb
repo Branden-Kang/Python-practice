{
  "nbformat": 4,
  "nbformat_minor": 0,
  "metadata": {
    "colab": {
      "provenance": [],
      "authorship_tag": "ABX9TyMbN/lfqzwJSADuSLpy4/MS"
    },
    "kernelspec": {
      "name": "python3",
      "display_name": "Python 3"
    },
    "language_info": {
      "name": "python"
    }
  },
  "cells": [
    {
      "cell_type": "markdown",
      "source": [
        "[Reference](https://medium.com/@thehippieandtheboss/how-to-run-airflow-3d693770b0c9)"
      ],
      "metadata": {
        "id": "j6RJz0egyuI8"
      }
    },
    {
      "cell_type": "code",
      "execution_count": 1,
      "metadata": {
        "colab": {
          "base_uri": "https://localhost:8080/"
        },
        "id": "gSI5IyoryjMC",
        "outputId": "e8bee0a0-f2fd-4805-b10b-fc8bd6ae466b"
      },
      "outputs": [
        {
          "output_type": "stream",
          "name": "stdout",
          "text": [
            "/bin/bash: line 0: cd: data_pipelines_with_airflow: No such file or directory\n",
            "The virtual environment was not created successfully because ensurepip is not\n",
            "available.  On Debian/Ubuntu systems, you need to install the python3-venv\n",
            "package using the following command.\n",
            "\n",
            "    apt install python3.8-venv\n",
            "\n",
            "You may need to use sudo with that command.  After installing the python3-venv\n",
            "package, recreate your virtual environment.\n",
            "\n",
            "Failing command: ['/content/venv/bin/python3', '-Im', 'ensurepip', '--upgrade', '--default-pip']\n",
            "\n",
            "/bin/bash: venv/bin/activate: No such file or directory\n"
          ]
        }
      ],
      "source": [
        "!cd data_pipelines_with_airflow\n",
        "!python3 -m venv venv\n",
        "!source venv/bin/activate"
      ]
    },
    {
      "cell_type": "code",
      "source": [
        "!which pip"
      ],
      "metadata": {
        "colab": {
          "base_uri": "https://localhost:8080/"
        },
        "id": "ECpcI_yhyxBF",
        "outputId": "11da2a32-9647-437a-d9fd-9670116c45de"
      },
      "execution_count": 2,
      "outputs": [
        {
          "output_type": "stream",
          "name": "stdout",
          "text": [
            "/usr/local/bin/pip\n"
          ]
        }
      ]
    },
    {
      "cell_type": "code",
      "source": [
        "!pip install apache-airflow"
      ],
      "metadata": {
        "colab": {
          "base_uri": "https://localhost:8080/"
        },
        "id": "pDC9CMeFyy_T",
        "outputId": "2ce7deb3-7452-4c5a-edd8-e9f0ac4f5e4f"
      },
      "execution_count": 3,
      "outputs": [
        {
          "output_type": "stream",
          "name": "stdout",
          "text": [
            "Looking in indexes: https://pypi.org/simple, https://us-python.pkg.dev/colab-wheels/public/simple/\n",
            "Collecting apache-airflow\n",
            "  Downloading apache_airflow-2.5.1-py3-none-any.whl (11.8 MB)\n",
            "\u001b[2K     \u001b[90m━━━━━━━━━━━━━━━━━━━━━━━━━━━━━━━━━━━━━━━━\u001b[0m \u001b[32m11.8/11.8 MB\u001b[0m \u001b[31m49.0 MB/s\u001b[0m eta \u001b[36m0:00:00\u001b[0m\n",
            "\u001b[?25hCollecting flask-login>=0.6.2\n",
            "  Downloading Flask_Login-0.6.2-py3-none-any.whl (17 kB)\n",
            "Requirement already satisfied: tenacity>=6.2.0 in /usr/local/lib/python3.8/dist-packages (from apache-airflow) (8.2.1)\n",
            "Collecting apache-airflow-providers-imap\n",
            "  Downloading apache_airflow_providers_imap-3.1.1-py3-none-any.whl (17 kB)\n",
            "Collecting unicodecsv>=0.14.1\n",
            "  Downloading unicodecsv-0.14.1.tar.gz (10 kB)\n",
            "  Preparing metadata (setup.py) ... \u001b[?25l\u001b[?25hdone\n",
            "Collecting apache-airflow-providers-ftp\n",
            "  Downloading apache_airflow_providers_ftp-3.3.1-py3-none-any.whl (19 kB)\n",
            "Requirement already satisfied: tabulate>=0.7.5 in /usr/local/lib/python3.8/dist-packages (from apache-airflow) (0.8.10)\n",
            "Requirement already satisfied: attrs>=22.1.0 in /usr/local/lib/python3.8/dist-packages (from apache-airflow) (22.2.0)\n",
            "Collecting werkzeug>=2.0\n",
            "  Downloading Werkzeug-2.2.3-py3-none-any.whl (233 kB)\n",
            "\u001b[2K     \u001b[90m━━━━━━━━━━━━━━━━━━━━━━━━━━━━━━━━━━━━━━\u001b[0m \u001b[32m233.6/233.6 KB\u001b[0m \u001b[31m11.9 MB/s\u001b[0m eta \u001b[36m0:00:00\u001b[0m\n",
            "\u001b[?25hCollecting sqlalchemy-jsonfield>=1.0\n",
            "  Downloading SQLAlchemy_JSONField-1.0.1.post0-py3-none-any.whl (10 kB)\n",
            "Requirement already satisfied: importlib-metadata>=1.7 in /usr/local/lib/python3.8/dist-packages (from apache-airflow) (6.0.0)\n",
            "Collecting apache-airflow-providers-http\n",
            "  Downloading apache_airflow_providers_http-4.2.0-py3-none-any.whl (22 kB)\n",
            "Collecting pendulum>=2.0\n",
            "  Downloading pendulum-2.1.2-cp38-cp38-manylinux1_x86_64.whl (155 kB)\n",
            "\u001b[2K     \u001b[90m━━━━━━━━━━━━━━━━━━━━━━━━━━━━━━━━━━━━━━━\u001b[0m \u001b[32m155.7/155.7 KB\u001b[0m \u001b[31m1.9 MB/s\u001b[0m eta \u001b[36m0:00:00\u001b[0m\n",
            "\u001b[?25hCollecting colorlog<5.0,>=4.0.2\n",
            "  Downloading colorlog-4.8.0-py2.py3-none-any.whl (10 kB)\n",
            "Collecting python-daemon>=2.2.4\n",
            "  Downloading python_daemon-2.3.2-py3-none-any.whl (34 kB)\n",
            "Collecting marshmallow-oneofschema>=2.0.1\n",
            "  Downloading marshmallow_oneofschema-3.0.1-py2.py3-none-any.whl (5.8 kB)\n",
            "Collecting pathspec~=0.9.0\n",
            "  Downloading pathspec-0.9.0-py2.py3-none-any.whl (31 kB)\n",
            "Collecting setproctitle>=1.1.8\n",
            "  Downloading setproctitle-1.3.2-cp38-cp38-manylinux_2_5_x86_64.manylinux1_x86_64.manylinux_2_17_x86_64.manylinux2014_x86_64.whl (31 kB)\n",
            "Collecting deprecated>=1.2.13\n",
            "  Downloading Deprecated-1.2.13-py2.py3-none-any.whl (9.6 kB)\n",
            "Requirement already satisfied: sqlalchemy<2.0,>=1.4 in /usr/local/lib/python3.8/dist-packages (from apache-airflow) (1.4.46)\n",
            "Collecting httpx\n",
            "  Downloading httpx-0.23.3-py3-none-any.whl (71 kB)\n",
            "\u001b[2K     \u001b[90m━━━━━━━━━━━━━━━━━━━━━━━━━━━━━━━━━━━━━━━━\u001b[0m \u001b[32m71.5/71.5 KB\u001b[0m \u001b[31m4.3 MB/s\u001b[0m eta \u001b[36m0:00:00\u001b[0m\n",
            "\u001b[?25hRequirement already satisfied: python-dateutil>=2.3 in /usr/local/lib/python3.8/dist-packages (from apache-airflow) (2.8.2)\n",
            "Requirement already satisfied: typing-extensions>=4.0.0 in /usr/local/lib/python3.8/dist-packages (from apache-airflow) (4.5.0)\n",
            "Requirement already satisfied: dill>=0.2.2 in /usr/local/lib/python3.8/dist-packages (from apache-airflow) (0.3.6)\n",
            "Collecting flask-session>=0.4.0\n",
            "  Downloading Flask_Session-0.4.0-py2.py3-none-any.whl (7.5 kB)\n",
            "Collecting graphviz>=0.12\n",
            "  Downloading graphviz-0.20.1-py3-none-any.whl (47 kB)\n",
            "\u001b[2K     \u001b[90m━━━━━━━━━━━━━━━━━━━━━━━━━━━━━━━━━━━━━━━━\u001b[0m \u001b[32m47.0/47.0 KB\u001b[0m \u001b[31m1.8 MB/s\u001b[0m eta \u001b[36m0:00:00\u001b[0m\n",
            "\u001b[?25hCollecting lockfile>=0.12.2\n",
            "  Downloading lockfile-0.12.2-py2.py3-none-any.whl (13 kB)\n",
            "Collecting itsdangerous>=2.0\n",
            "  Downloading itsdangerous-2.1.2-py3-none-any.whl (15 kB)\n",
            "Requirement already satisfied: importlib-resources>=5.2 in /usr/local/lib/python3.8/dist-packages (from apache-airflow) (5.12.0)\n",
            "Collecting croniter>=0.3.17\n",
            "  Downloading croniter-1.3.8-py2.py3-none-any.whl (18 kB)\n",
            "Collecting flask<2.3,>=2.2\n",
            "  Downloading Flask-2.2.3-py3-none-any.whl (101 kB)\n",
            "\u001b[2K     \u001b[90m━━━━━━━━━━━━━━━━━━━━━━━━━━━━━━━━━━━━━━━\u001b[0m \u001b[32m101.8/101.8 KB\u001b[0m \u001b[31m5.6 MB/s\u001b[0m eta \u001b[36m0:00:00\u001b[0m\n",
            "\u001b[?25hCollecting lazy-object-proxy\n",
            "  Downloading lazy_object_proxy-1.9.0-cp38-cp38-manylinux_2_5_x86_64.manylinux1_x86_64.manylinux_2_17_x86_64.manylinux2014_x86_64.whl (61 kB)\n",
            "\u001b[2K     \u001b[90m━━━━━━━━━━━━━━━━━━━━━━━━━━━━━━━━━━━━━━━━\u001b[0m \u001b[32m61.4/61.4 KB\u001b[0m \u001b[31m2.4 MB/s\u001b[0m eta \u001b[36m0:00:00\u001b[0m\n",
            "\u001b[?25hCollecting pyjwt>=2.0.0\n",
            "  Downloading PyJWT-2.6.0-py3-none-any.whl (20 kB)\n",
            "Collecting gunicorn>=20.1.0\n",
            "  Downloading gunicorn-20.1.0-py3-none-any.whl (79 kB)\n",
            "\u001b[2K     \u001b[90m━━━━━━━━━━━━━━━━━━━━━━━━━━━━━━━━━━━━━━━━\u001b[0m \u001b[32m79.5/79.5 KB\u001b[0m \u001b[31m4.8 MB/s\u001b[0m eta \u001b[36m0:00:00\u001b[0m\n",
            "\u001b[?25hCollecting alembic<2.0,>=1.6.3\n",
            "  Downloading alembic-1.9.4-py3-none-any.whl (210 kB)\n",
            "\u001b[2K     \u001b[90m━━━━━━━━━━━━━━━━━━━━━━━━━━━━━━━━━━━━━━\u001b[0m \u001b[32m210.5/210.5 KB\u001b[0m \u001b[31m12.4 MB/s\u001b[0m eta \u001b[36m0:00:00\u001b[0m\n",
            "\u001b[?25hCollecting apache-airflow-providers-common-sql\n",
            "  Downloading apache_airflow_providers_common_sql-1.3.3-py3-none-any.whl (31 kB)\n",
            "Collecting connexion[flask]>=2.10.0\n",
            "  Downloading connexion-2.14.2-py2.py3-none-any.whl (95 kB)\n",
            "\u001b[2K     \u001b[90m━━━━━━━━━━━━━━━━━━━━━━━━━━━━━━━━━━━━━━━━\u001b[0m \u001b[32m95.1/95.1 KB\u001b[0m \u001b[31m4.6 MB/s\u001b[0m eta \u001b[36m0:00:00\u001b[0m\n",
            "\u001b[?25hCollecting apache-airflow-providers-sqlite\n",
            "  Downloading apache_airflow_providers_sqlite-3.3.1-py3-none-any.whl (14 kB)\n",
            "Requirement already satisfied: termcolor>=1.1.0 in /usr/local/lib/python3.8/dist-packages (from apache-airflow) (2.2.0)\n",
            "Collecting configupdater>=3.1.1\n",
            "  Downloading ConfigUpdater-3.1.1-py2.py3-none-any.whl (34 kB)\n",
            "Collecting cryptography>=0.9.3\n",
            "  Downloading cryptography-39.0.1-cp36-abi3-manylinux_2_28_x86_64.whl (4.2 MB)\n",
            "\u001b[2K     \u001b[90m━━━━━━━━━━━━━━━━━━━━━━━━━━━━━━━━━━━━━━━━\u001b[0m \u001b[32m4.2/4.2 MB\u001b[0m \u001b[31m34.0 MB/s\u001b[0m eta \u001b[36m0:00:00\u001b[0m\n",
            "\u001b[?25hRequirement already satisfied: markdown>=3.0 in /usr/local/lib/python3.8/dist-packages (from apache-airflow) (3.4.1)\n",
            "Requirement already satisfied: jsonschema>=3.2.0 in /usr/local/lib/python3.8/dist-packages (from apache-airflow) (4.3.3)\n",
            "Requirement already satisfied: markupsafe>=1.1.1 in /usr/local/lib/python3.8/dist-packages (from apache-airflow) (2.0.1)\n",
            "Collecting linkify-it-py>=2.0.0\n",
            "  Downloading linkify_it_py-2.0.0-py3-none-any.whl (19 kB)\n",
            "Requirement already satisfied: psutil>=4.2.0 in /usr/local/lib/python3.8/dist-packages (from apache-airflow) (5.4.8)\n",
            "Collecting argcomplete>=1.10\n",
            "  Downloading argcomplete-2.0.0-py2.py3-none-any.whl (37 kB)\n",
            "Collecting cron-descriptor>=1.2.24\n",
            "  Downloading cron_descriptor-1.2.35.tar.gz (29 kB)\n",
            "  Preparing metadata (setup.py) ... \u001b[?25l\u001b[?25hdone\n",
            "Collecting mdit-py-plugins>=0.3.0\n",
            "  Downloading mdit_py_plugins-0.3.4-py3-none-any.whl (52 kB)\n",
            "\u001b[2K     \u001b[90m━━━━━━━━━━━━━━━━━━━━━━━━━━━━━━━━━━━━━━━━\u001b[0m \u001b[32m52.1/52.1 KB\u001b[0m \u001b[31m3.2 MB/s\u001b[0m eta \u001b[36m0:00:00\u001b[0m\n",
            "\u001b[?25hRequirement already satisfied: pygments>=2.0.1 in /usr/local/lib/python3.8/dist-packages (from apache-airflow) (2.6.1)\n",
            "Collecting python-nvd3>=0.15.0\n",
            "  Downloading python-nvd3-0.15.0.tar.gz (31 kB)\n",
            "  Preparing metadata (setup.py) ... \u001b[?25l\u001b[?25hdone\n",
            "Collecting cattrs>=22.1.0\n",
            "  Downloading cattrs-22.2.0-py3-none-any.whl (35 kB)\n",
            "Collecting flask-appbuilder==4.1.4\n",
            "  Downloading Flask_AppBuilder-4.1.4-py3-none-any.whl (1.8 MB)\n",
            "\u001b[2K     \u001b[90m━━━━━━━━━━━━━━━━━━━━━━━━━━━━━━━━━━━━━━━━\u001b[0m \u001b[32m1.8/1.8 MB\u001b[0m \u001b[31m68.6 MB/s\u001b[0m eta \u001b[36m0:00:00\u001b[0m\n",
            "\u001b[?25hRequirement already satisfied: packaging>=14.0 in /usr/local/lib/python3.8/dist-packages (from apache-airflow) (23.0)\n",
            "Collecting pluggy>=1.0\n",
            "  Downloading pluggy-1.0.0-py2.py3-none-any.whl (13 kB)\n",
            "Collecting flask-wtf>=0.15\n",
            "  Downloading Flask_WTF-1.1.1-py3-none-any.whl (12 kB)\n",
            "Requirement already satisfied: python-slugify>=5.0 in /usr/local/lib/python3.8/dist-packages (from apache-airflow) (8.0.0)\n",
            "Collecting markdown-it-py>=2.1.0\n",
            "  Downloading markdown_it_py-2.2.0-py3-none-any.whl (84 kB)\n",
            "\u001b[2K     \u001b[90m━━━━━━━━━━━━━━━━━━━━━━━━━━━━━━━━━━━━━━━━\u001b[0m \u001b[32m84.5/84.5 KB\u001b[0m \u001b[31m9.1 MB/s\u001b[0m eta \u001b[36m0:00:00\u001b[0m\n",
            "\u001b[?25hCollecting blinker\n",
            "  Downloading blinker-1.5-py2.py3-none-any.whl (12 kB)\n",
            "Collecting rich>=12.4.4\n",
            "  Downloading rich-13.3.1-py3-none-any.whl (239 kB)\n",
            "\u001b[2K     \u001b[90m━━━━━━━━━━━━━━━━━━━━━━━━━━━━━━━━━━━━━━\u001b[0m \u001b[32m239.0/239.0 KB\u001b[0m \u001b[31m22.4 MB/s\u001b[0m eta \u001b[36m0:00:00\u001b[0m\n",
            "\u001b[?25hCollecting flask-caching>=1.5.0\n",
            "  Downloading Flask_Caching-2.0.2-py3-none-any.whl (28 kB)\n",
            "Collecting jinja2>=3.0.0\n",
            "  Downloading Jinja2-3.1.2-py3-none-any.whl (133 kB)\n",
            "\u001b[2K     \u001b[90m━━━━━━━━━━━━━━━━━━━━━━━━━━━━━━━━━━━━━━\u001b[0m \u001b[32m133.1/133.1 KB\u001b[0m \u001b[31m14.8 MB/s\u001b[0m eta \u001b[36m0:00:00\u001b[0m\n",
            "\u001b[?25hCollecting marshmallow-sqlalchemy<0.27.0,>=0.22.0\n",
            "  Downloading marshmallow_sqlalchemy-0.26.1-py2.py3-none-any.whl (15 kB)\n",
            "Collecting email-validator<2,>=1.0.5\n",
            "  Downloading email_validator-1.3.1-py2.py3-none-any.whl (22 kB)\n",
            "Collecting click<9,>=8\n",
            "  Downloading click-8.1.3-py3-none-any.whl (96 kB)\n",
            "\u001b[2K     \u001b[90m━━━━━━━━━━━━━━━━━━━━━━━━━━━━━━━━━━━━━━━━\u001b[0m \u001b[32m96.6/96.6 KB\u001b[0m \u001b[31m6.7 MB/s\u001b[0m eta \u001b[36m0:00:00\u001b[0m\n",
            "\u001b[?25hCollecting Flask-SQLAlchemy<3,>=2.4\n",
            "  Downloading Flask_SQLAlchemy-2.5.1-py2.py3-none-any.whl (17 kB)\n",
            "Collecting Flask-JWT-Extended<5.0.0,>=4.0.0\n",
            "  Downloading Flask_JWT_Extended-4.4.4-py2.py3-none-any.whl (22 kB)\n",
            "Requirement already satisfied: marshmallow<4,>=3 in /usr/local/lib/python3.8/dist-packages (from flask-appbuilder==4.1.4->apache-airflow) (3.19.0)\n",
            "Collecting colorama<1,>=0.3.9\n",
            "  Downloading colorama-0.4.6-py2.py3-none-any.whl (25 kB)\n",
            "Collecting Flask-Babel<3,>=1\n",
            "  Downloading Flask_Babel-2.0.0-py3-none-any.whl (9.3 kB)\n",
            "Collecting sqlalchemy-utils<1,>=0.32.21\n",
            "  Downloading SQLAlchemy_Utils-0.40.0-py3-none-any.whl (92 kB)\n",
            "\u001b[2K     \u001b[90m━━━━━━━━━━━━━━━━━━━━━━━━━━━━━━━━━━━━━━━━\u001b[0m \u001b[32m92.5/92.5 KB\u001b[0m \u001b[31m11.6 MB/s\u001b[0m eta \u001b[36m0:00:00\u001b[0m\n",
            "\u001b[?25hCollecting WTForms<4\n",
            "  Downloading WTForms-3.0.1-py3-none-any.whl (136 kB)\n",
            "\u001b[2K     \u001b[90m━━━━━━━━━━━━━━━━━━━━━━━━━━━━━━━━━━━━━━\u001b[0m \u001b[32m136.5/136.5 KB\u001b[0m \u001b[31m15.0 MB/s\u001b[0m eta \u001b[36m0:00:00\u001b[0m\n",
            "\u001b[?25hCollecting apispec[yaml]<4,>=3.3\n",
            "  Downloading apispec-3.3.2-py2.py3-none-any.whl (27 kB)\n",
            "Collecting prison<1.0.0,>=0.2.1\n",
            "  Downloading prison-0.2.1-py2.py3-none-any.whl (5.8 kB)\n",
            "Collecting marshmallow-enum<2,>=1.5.1\n",
            "  Downloading marshmallow_enum-1.5.1-py2.py3-none-any.whl (4.2 kB)\n",
            "Collecting Mako\n",
            "  Downloading Mako-1.2.4-py3-none-any.whl (78 kB)\n",
            "\u001b[2K     \u001b[90m━━━━━━━━━━━━━━━━━━━━━━━━━━━━━━━━━━━━━━━━\u001b[0m \u001b[32m78.7/78.7 KB\u001b[0m \u001b[31m8.6 MB/s\u001b[0m eta \u001b[36m0:00:00\u001b[0m\n",
            "\u001b[?25hCollecting exceptiongroup\n",
            "  Downloading exceptiongroup-1.1.0-py3-none-any.whl (14 kB)\n",
            "Collecting clickclick<21,>=1.2\n",
            "  Downloading clickclick-20.10.2-py2.py3-none-any.whl (7.4 kB)\n",
            "Requirement already satisfied: requests<3,>=2.9.1 in /usr/local/lib/python3.8/dist-packages (from connexion[flask]>=2.10.0->apache-airflow) (2.25.1)\n",
            "Collecting inflection<0.6,>=0.3.1\n",
            "  Downloading inflection-0.5.1-py2.py3-none-any.whl (9.5 kB)\n",
            "Requirement already satisfied: PyYAML<7,>=5.1 in /usr/local/lib/python3.8/dist-packages (from connexion[flask]>=2.10.0->apache-airflow) (6.0)\n",
            "Requirement already satisfied: cffi>=1.12 in /usr/local/lib/python3.8/dist-packages (from cryptography>=0.9.3->apache-airflow) (1.15.1)\n",
            "Requirement already satisfied: wrapt<2,>=1.10 in /usr/local/lib/python3.8/dist-packages (from deprecated>=1.2.13->apache-airflow) (1.14.1)\n",
            "Collecting cachelib<0.10.0,>=0.9.0\n",
            "  Downloading cachelib-0.9.0-py3-none-any.whl (15 kB)\n",
            "Requirement already satisfied: setuptools>=3.0 in /usr/local/lib/python3.8/dist-packages (from gunicorn>=20.1.0->apache-airflow) (57.4.0)\n",
            "Requirement already satisfied: zipp>=0.5 in /usr/local/lib/python3.8/dist-packages (from importlib-metadata>=1.7->apache-airflow) (3.14.0)\n",
            "Requirement already satisfied: pyrsistent!=0.17.0,!=0.17.1,!=0.17.2,>=0.14.0 in /usr/local/lib/python3.8/dist-packages (from jsonschema>=3.2.0->apache-airflow) (0.19.3)\n",
            "Collecting uc-micro-py\n",
            "  Downloading uc_micro_py-1.0.1-py3-none-any.whl (6.2 kB)\n",
            "Collecting mdurl~=0.1\n",
            "  Downloading mdurl-0.1.2-py3-none-any.whl (10.0 kB)\n",
            "Collecting pytzdata>=2020.1\n",
            "  Downloading pytzdata-2020.1-py2.py3-none-any.whl (489 kB)\n",
            "\u001b[2K     \u001b[90m━━━━━━━━━━━━━━━━━━━━━━━━━━━━━━━━━━━━━━\u001b[0m \u001b[32m490.0/490.0 KB\u001b[0m \u001b[31m27.9 MB/s\u001b[0m eta \u001b[36m0:00:00\u001b[0m\n",
            "\u001b[?25hRequirement already satisfied: docutils in /usr/local/lib/python3.8/dist-packages (from python-daemon>=2.2.4->apache-airflow) (0.16)\n",
            "Requirement already satisfied: six>=1.5 in /usr/local/lib/python3.8/dist-packages (from python-dateutil>=2.3->apache-airflow) (1.15.0)\n",
            "Requirement already satisfied: text-unidecode>=1.3 in /usr/local/lib/python3.8/dist-packages (from python-slugify>=5.0->apache-airflow) (1.3)\n",
            "Collecting pygments>=2.0.1\n",
            "  Downloading Pygments-2.14.0-py3-none-any.whl (1.1 MB)\n",
            "\u001b[2K     \u001b[90m━━━━━━━━━━━━━━━━━━━━━━━━━━━━━━━━━━━━━━━━\u001b[0m \u001b[32m1.1/1.1 MB\u001b[0m \u001b[31m50.7 MB/s\u001b[0m eta \u001b[36m0:00:00\u001b[0m\n",
            "\u001b[?25hRequirement already satisfied: greenlet!=0.4.17 in /usr/local/lib/python3.8/dist-packages (from sqlalchemy<2.0,>=1.4->apache-airflow) (2.0.2)\n",
            "Collecting markupsafe>=1.1.1\n",
            "  Downloading MarkupSafe-2.1.2-cp38-cp38-manylinux_2_17_x86_64.manylinux2014_x86_64.whl (25 kB)\n",
            "Requirement already satisfied: sqlparse>=0.4.2 in /usr/local/lib/python3.8/dist-packages (from apache-airflow-providers-common-sql->apache-airflow) (0.4.3)\n",
            "Collecting asgiref\n",
            "  Downloading asgiref-3.6.0-py3-none-any.whl (23 kB)\n",
            "Collecting requests-toolbelt\n",
            "  Downloading requests_toolbelt-0.10.1-py2.py3-none-any.whl (54 kB)\n",
            "\u001b[2K     \u001b[90m━━━━━━━━━━━━━━━━━━━━━━━━━━━━━━━━━━━━━━━━\u001b[0m \u001b[32m54.5/54.5 KB\u001b[0m \u001b[31m5.7 MB/s\u001b[0m eta \u001b[36m0:00:00\u001b[0m\n",
            "\u001b[?25hCollecting requests<3,>=2.9.1\n",
            "  Downloading requests-2.28.2-py3-none-any.whl (62 kB)\n",
            "\u001b[2K     \u001b[90m━━━━━━━━━━━━━━━━━━━━━━━━━━━━━━━━━━━━━━━━\u001b[0m \u001b[32m62.8/62.8 KB\u001b[0m \u001b[31m7.8 MB/s\u001b[0m eta \u001b[36m0:00:00\u001b[0m\n",
            "\u001b[?25hRequirement already satisfied: aiohttp in /usr/local/lib/python3.8/dist-packages (from apache-airflow-providers-http->apache-airflow) (3.8.4)\n",
            "Collecting httpcore<0.17.0,>=0.15.0\n",
            "  Downloading httpcore-0.16.3-py3-none-any.whl (69 kB)\n",
            "\u001b[2K     \u001b[90m━━━━━━━━━━━━━━━━━━━━━━━━━━━━━━━━━━━━━━━━\u001b[0m \u001b[32m69.6/69.6 KB\u001b[0m \u001b[31m5.0 MB/s\u001b[0m eta \u001b[36m0:00:00\u001b[0m\n",
            "\u001b[?25hRequirement already satisfied: certifi in /usr/local/lib/python3.8/dist-packages (from httpx->apache-airflow) (2022.12.7)\n",
            "Collecting sniffio\n",
            "  Downloading sniffio-1.3.0-py3-none-any.whl (10 kB)\n",
            "Collecting rfc3986[idna2008]<2,>=1.3\n",
            "  Downloading rfc3986-1.5.0-py2.py3-none-any.whl (31 kB)\n",
            "Requirement already satisfied: pycparser in /usr/local/lib/python3.8/dist-packages (from cffi>=1.12->cryptography>=0.9.3->apache-airflow) (2.21)\n",
            "Requirement already satisfied: dnspython>=1.15.0 in /usr/local/lib/python3.8/dist-packages (from email-validator<2,>=1.0.5->flask-appbuilder==4.1.4->apache-airflow) (2.3.0)\n",
            "Requirement already satisfied: idna>=2.0.0 in /usr/local/lib/python3.8/dist-packages (from email-validator<2,>=1.0.5->flask-appbuilder==4.1.4->apache-airflow) (2.10)\n",
            "Requirement already satisfied: pytz in /usr/local/lib/python3.8/dist-packages (from Flask-Babel<3,>=1->flask-appbuilder==4.1.4->apache-airflow) (2022.7.1)\n",
            "Requirement already satisfied: Babel>=2.3 in /usr/local/lib/python3.8/dist-packages (from Flask-Babel<3,>=1->flask-appbuilder==4.1.4->apache-airflow) (2.11.0)\n",
            "Collecting anyio<5.0,>=3.0\n",
            "  Downloading anyio-3.6.2-py3-none-any.whl (80 kB)\n",
            "\u001b[2K     \u001b[90m━━━━━━━━━━━━━━━━━━━━━━━━━━━━━━━━━━━━━━━━\u001b[0m \u001b[32m80.6/80.6 KB\u001b[0m \u001b[31m9.2 MB/s\u001b[0m eta \u001b[36m0:00:00\u001b[0m\n",
            "\u001b[?25hCollecting h11<0.15,>=0.13\n",
            "  Downloading h11-0.14.0-py3-none-any.whl (58 kB)\n",
            "\u001b[2K     \u001b[90m━━━━━━━━━━━━━━━━━━━━━━━━━━━━━━━━━━━━━━━━\u001b[0m \u001b[32m58.3/58.3 KB\u001b[0m \u001b[31m6.0 MB/s\u001b[0m eta \u001b[36m0:00:00\u001b[0m\n",
            "\u001b[?25hRequirement already satisfied: charset-normalizer<4,>=2 in /usr/local/lib/python3.8/dist-packages (from requests<3,>=2.9.1->connexion[flask]>=2.10.0->apache-airflow) (3.0.1)\n",
            "Requirement already satisfied: urllib3<1.27,>=1.21.1 in /usr/local/lib/python3.8/dist-packages (from requests<3,>=2.9.1->connexion[flask]>=2.10.0->apache-airflow) (1.24.3)\n",
            "Requirement already satisfied: async-timeout<5.0,>=4.0.0a3 in /usr/local/lib/python3.8/dist-packages (from aiohttp->apache-airflow-providers-http->apache-airflow) (4.0.2)\n",
            "Requirement already satisfied: frozenlist>=1.1.1 in /usr/local/lib/python3.8/dist-packages (from aiohttp->apache-airflow-providers-http->apache-airflow) (1.3.3)\n",
            "Requirement already satisfied: multidict<7.0,>=4.5 in /usr/local/lib/python3.8/dist-packages (from aiohttp->apache-airflow-providers-http->apache-airflow) (6.0.4)\n",
            "Requirement already satisfied: yarl<2.0,>=1.0 in /usr/local/lib/python3.8/dist-packages (from aiohttp->apache-airflow-providers-http->apache-airflow) (1.8.2)\n",
            "Requirement already satisfied: aiosignal>=1.1.2 in /usr/local/lib/python3.8/dist-packages (from aiohttp->apache-airflow-providers-http->apache-airflow) (1.3.1)\n",
            "Building wheels for collected packages: cron-descriptor, python-nvd3, unicodecsv\n",
            "  Building wheel for cron-descriptor (setup.py) ... \u001b[?25l\u001b[?25hdone\n",
            "  Created wheel for cron-descriptor: filename=cron_descriptor-1.2.35-py3-none-any.whl size=48440 sha256=6645392c52d5f5f94156a6433e336e146adddd9d423f2ca7a66236255cacd9ba\n",
            "  Stored in directory: /root/.cache/pip/wheels/9a/18/14/eab5f0ccb2005353aff06f527e78a657a8fa63900c7f24809d\n",
            "  Building wheel for python-nvd3 (setup.py) ... \u001b[?25l\u001b[?25hdone\n",
            "  Created wheel for python-nvd3: filename=python_nvd3-0.15.0-py3-none-any.whl size=38164 sha256=18a5a2b3d527a68aa2b88d6165891cba2d62a85fdab036516c179bcbc88d5505\n",
            "  Stored in directory: /root/.cache/pip/wheels/8c/92/61/c1d567a155a1f15d2e1a633eef32ed3a7c7906c323d49fa3a2\n",
            "  Building wheel for unicodecsv (setup.py) ... \u001b[?25l\u001b[?25hdone\n",
            "  Created wheel for unicodecsv: filename=unicodecsv-0.14.1-py3-none-any.whl size=10766 sha256=8e9aef362e5c4846ad3d91369acca9c4685bccb66b932862d72e04927845184e\n",
            "  Stored in directory: /root/.cache/pip/wheels/35/dd/44/ccb37563a01457f5de74ccedccaee81b01a53e12addeab5e0f\n",
            "Successfully built cron-descriptor python-nvd3 unicodecsv\n",
            "Installing collected packages: unicodecsv, rfc3986, lockfile, cron-descriptor, colorlog, uc-micro-py, sniffio, setproctitle, requests, pytzdata, python-daemon, pyjwt, pygments, prison, pluggy, pathspec, mdurl, markupsafe, lazy-object-proxy, itsdangerous, inflection, h11, gunicorn, graphviz, exceptiongroup, email-validator, deprecated, configupdater, colorama, click, cachelib, blinker, asgiref, argcomplete, apispec, apache-airflow-providers-imap, apache-airflow-providers-ftp, apache-airflow-providers-common-sql, WTForms, werkzeug, sqlalchemy-utils, sqlalchemy-jsonfield, requests-toolbelt, pendulum, marshmallow-sqlalchemy, marshmallow-oneofschema, marshmallow-enum, markdown-it-py, Mako, linkify-it-py, jinja2, cryptography, croniter, clickclick, cattrs, apache-airflow-providers-sqlite, anyio, rich, python-nvd3, mdit-py-plugins, httpcore, flask, apache-airflow-providers-http, alembic, httpx, flask-wtf, Flask-SQLAlchemy, flask-session, flask-login, Flask-JWT-Extended, flask-caching, Flask-Babel, connexion, flask-appbuilder, apache-airflow\n",
            "  Attempting uninstall: requests\n",
            "    Found existing installation: requests 2.25.1\n",
            "    Uninstalling requests-2.25.1:\n",
            "      Successfully uninstalled requests-2.25.1\n",
            "  Attempting uninstall: pygments\n",
            "    Found existing installation: Pygments 2.6.1\n",
            "    Uninstalling Pygments-2.6.1:\n",
            "      Successfully uninstalled Pygments-2.6.1\n",
            "  Attempting uninstall: pluggy\n",
            "    Found existing installation: pluggy 0.7.1\n",
            "    Uninstalling pluggy-0.7.1:\n",
            "      Successfully uninstalled pluggy-0.7.1\n",
            "  Attempting uninstall: markupsafe\n",
            "    Found existing installation: MarkupSafe 2.0.1\n",
            "    Uninstalling MarkupSafe-2.0.1:\n",
            "      Successfully uninstalled MarkupSafe-2.0.1\n",
            "  Attempting uninstall: itsdangerous\n",
            "    Found existing installation: itsdangerous 1.1.0\n",
            "    Uninstalling itsdangerous-1.1.0:\n",
            "      Successfully uninstalled itsdangerous-1.1.0\n",
            "  Attempting uninstall: graphviz\n",
            "    Found existing installation: graphviz 0.10.1\n",
            "    Uninstalling graphviz-0.10.1:\n",
            "      Successfully uninstalled graphviz-0.10.1\n",
            "  Attempting uninstall: click\n",
            "    Found existing installation: click 7.1.2\n",
            "    Uninstalling click-7.1.2:\n",
            "      Successfully uninstalled click-7.1.2\n",
            "  Attempting uninstall: werkzeug\n",
            "    Found existing installation: Werkzeug 1.0.1\n",
            "    Uninstalling Werkzeug-1.0.1:\n",
            "      Successfully uninstalled Werkzeug-1.0.1\n",
            "  Attempting uninstall: jinja2\n",
            "    Found existing installation: Jinja2 2.11.3\n",
            "    Uninstalling Jinja2-2.11.3:\n",
            "      Successfully uninstalled Jinja2-2.11.3\n",
            "  Attempting uninstall: flask\n",
            "    Found existing installation: Flask 1.1.4\n",
            "    Uninstalling Flask-1.1.4:\n",
            "      Successfully uninstalled Flask-1.1.4\n",
            "\u001b[31mERROR: pip's dependency resolver does not currently take into account all the packages that are installed. This behaviour is the source of the following dependency conflicts.\n",
            "ipython 7.9.0 requires jedi>=0.10, which is not installed.\n",
            "pytest 3.6.4 requires pluggy<0.8,>=0.5, but you have pluggy 1.0.0 which is incompatible.\u001b[0m\u001b[31m\n",
            "\u001b[0mSuccessfully installed Flask-Babel-2.0.0 Flask-JWT-Extended-4.4.4 Flask-SQLAlchemy-2.5.1 Mako-1.2.4 WTForms-3.0.1 alembic-1.9.4 anyio-3.6.2 apache-airflow-2.5.1 apache-airflow-providers-common-sql-1.3.3 apache-airflow-providers-ftp-3.3.1 apache-airflow-providers-http-4.2.0 apache-airflow-providers-imap-3.1.1 apache-airflow-providers-sqlite-3.3.1 apispec-3.3.2 argcomplete-2.0.0 asgiref-3.6.0 blinker-1.5 cachelib-0.9.0 cattrs-22.2.0 click-8.1.3 clickclick-20.10.2 colorama-0.4.6 colorlog-4.8.0 configupdater-3.1.1 connexion-2.14.2 cron-descriptor-1.2.35 croniter-1.3.8 cryptography-39.0.1 deprecated-1.2.13 email-validator-1.3.1 exceptiongroup-1.1.0 flask-2.2.3 flask-appbuilder-4.1.4 flask-caching-2.0.2 flask-login-0.6.2 flask-session-0.4.0 flask-wtf-1.1.1 graphviz-0.20.1 gunicorn-20.1.0 h11-0.14.0 httpcore-0.16.3 httpx-0.23.3 inflection-0.5.1 itsdangerous-2.1.2 jinja2-3.1.2 lazy-object-proxy-1.9.0 linkify-it-py-2.0.0 lockfile-0.12.2 markdown-it-py-2.2.0 markupsafe-2.1.2 marshmallow-enum-1.5.1 marshmallow-oneofschema-3.0.1 marshmallow-sqlalchemy-0.26.1 mdit-py-plugins-0.3.4 mdurl-0.1.2 pathspec-0.9.0 pendulum-2.1.2 pluggy-1.0.0 prison-0.2.1 pygments-2.14.0 pyjwt-2.6.0 python-daemon-2.3.2 python-nvd3-0.15.0 pytzdata-2020.1 requests-2.28.2 requests-toolbelt-0.10.1 rfc3986-1.5.0 rich-13.3.1 setproctitle-1.3.2 sniffio-1.3.0 sqlalchemy-jsonfield-1.0.1.post0 sqlalchemy-utils-0.40.0 uc-micro-py-1.0.1 unicodecsv-0.14.1 werkzeug-2.2.3\n"
          ]
        }
      ]
    },
    {
      "cell_type": "code",
      "source": [
        "!AIRFLOW_VERSION=2.4.1\n",
        "!PYTHON_VERSION=\"$(python --version | cut -d \" \" -f 2 | cut -d \".\" -f 1-2)\"\n",
        "!CONSTRAINT_URL=\"https://raw.githubusercontent.com/apache/airflow/constraints-${AIRFLOW_VERSION}/constraints-no-providers-${PYTHON_VERSION}.txt\"\n",
        "!pip install \"apache-airflow==${AIRFLOW_VERSION}\" --constraint \"${CONSTRAINT_URL}\""
      ],
      "metadata": {
        "colab": {
          "base_uri": "https://localhost:8080/"
        },
        "id": "XIHgD3F7yz4U",
        "outputId": "7f4b7407-a588-412d-84df-4ac9fcaf30af"
      },
      "execution_count": 4,
      "outputs": [
        {
          "output_type": "stream",
          "name": "stdout",
          "text": [
            "\u001b[31mERROR: Could not open requirements file: [Errno 2] No such file or directory: ''\u001b[0m\u001b[31m\n",
            "\u001b[0m"
          ]
        }
      ]
    },
    {
      "cell_type": "code",
      "source": [
        "!airflow db init"
      ],
      "metadata": {
        "colab": {
          "base_uri": "https://localhost:8080/"
        },
        "id": "JEbdme0iy_U0",
        "outputId": "bcff6de4-8c72-4d8a-e387-1275b3af85b7"
      },
      "execution_count": 5,
      "outputs": [
        {
          "output_type": "stream",
          "name": "stdout",
          "text": [
            "DB: sqlite:////root/airflow/airflow.db\n",
            "[\u001b[34m2023-02-27 12:15:08,296\u001b[0m] {\u001b[34mmigration.py:\u001b[0m205} INFO\u001b[0m - Context impl \u001b[01mSQLiteImpl\u001b[22m.\u001b[0m\n",
            "[\u001b[34m2023-02-27 12:15:08,297\u001b[0m] {\u001b[34mmigration.py:\u001b[0m208} INFO\u001b[0m - Will assume \u001b[01mnon-transactional\u001b[22m DDL.\u001b[0m\n",
            "INFO  [alembic.runtime.migration] Context impl SQLiteImpl.\n",
            "INFO  [alembic.runtime.migration] Will assume non-transactional DDL.\n",
            "INFO  [alembic.runtime.migration] Running stamp_revision  -> 290244fb8b83\n",
            "WARNI [airflow.models.crypto] empty cryptography key - values will not be stored encrypted.\n",
            "Initialization done\n"
          ]
        }
      ]
    },
    {
      "cell_type": "code",
      "source": [
        "# airflow users create --username admin --password admin --firstname <YOUR FIRSTNAME> --lastname <YOUR LASTNAME> --role Admin --email <YOUR EMAIL>"
      ],
      "metadata": {
        "id": "DE2tNjJmzAUu"
      },
      "execution_count": 6,
      "outputs": []
    },
    {
      "cell_type": "code",
      "source": [
        "# cp download_rocket_launches.py ~/airflow/dags/"
      ],
      "metadata": {
        "id": "DMOTPiO-zCYh"
      },
      "execution_count": 7,
      "outputs": []
    },
    {
      "cell_type": "code",
      "source": [
        "# airflow webserver"
      ],
      "metadata": {
        "id": "ldwyHV_IzDta"
      },
      "execution_count": 8,
      "outputs": []
    },
    {
      "cell_type": "code",
      "source": [
        "# airflow scheduler"
      ],
      "metadata": {
        "id": "cJbj73PdzE93"
      },
      "execution_count": 9,
      "outputs": []
    }
  ]
}