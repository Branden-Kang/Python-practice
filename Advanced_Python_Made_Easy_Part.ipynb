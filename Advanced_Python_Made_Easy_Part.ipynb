{
  "nbformat": 4,
  "nbformat_minor": 0,
  "metadata": {
    "colab": {
      "name": "Advanced Python Made Easy Part.ipynb",
      "provenance": [],
      "authorship_tag": "ABX9TyNTNyQ+qvqo8dCdh+1/+Ne1"
    },
    "kernelspec": {
      "name": "python3",
      "display_name": "Python 3"
    },
    "language_info": {
      "name": "python"
    }
  },
  "cells": [
    {
      "cell_type": "markdown",
      "metadata": {
        "id": "tSzsL2T_a_ce"
      },
      "source": [
        "[Reference](https://medium.datadriveninvestor.com/advanced-python-made-easy-part-2-b741b76b2411)"
      ]
    },
    {
      "cell_type": "code",
      "metadata": {
        "colab": {
          "base_uri": "https://localhost:8080/"
        },
        "id": "XvpSLxsDa9Kg",
        "outputId": "7e94ee5c-521c-4134-afa8-b794ee458b80"
      },
      "source": [
        "x = lambda a, b, c : a * b + c\n",
        "print(x(5, 6, 8))"
      ],
      "execution_count": 1,
      "outputs": [
        {
          "output_type": "stream",
          "text": [
            "38\n"
          ],
          "name": "stdout"
        }
      ]
    },
    {
      "cell_type": "code",
      "metadata": {
        "colab": {
          "base_uri": "https://localhost:8080/"
        },
        "id": "2z08NLsmbG8a",
        "outputId": "3713c65e-618a-4197-f9b6-28c715731861"
      },
      "source": [
        "def cal(n):\n",
        "    return lambda t : t ** n\n",
        "    \n",
        "var = cal(3)\n",
        "    \n",
        "print(var(12))"
      ],
      "execution_count": 2,
      "outputs": [
        {
          "output_type": "stream",
          "text": [
            "1728\n"
          ],
          "name": "stdout"
        }
      ]
    },
    {
      "cell_type": "code",
      "metadata": {
        "colab": {
          "base_uri": "https://localhost:8080/"
        },
        "id": "Bxu1NC0LbPrE",
        "outputId": "6f96eaf0-f302-4cc8-d0b9-5fc928e634ba"
      },
      "source": [
        "def addNum(*add_numbers):\n",
        "    result=2+add_numbers[2]+add_numbers[6]\n",
        "    return result\n",
        "    \n",
        "#call the function\n",
        "addNum(5,3,19,46,66,26,10)"
      ],
      "execution_count": 3,
      "outputs": [
        {
          "output_type": "execute_result",
          "data": {
            "text/plain": [
              "31"
            ]
          },
          "metadata": {
            "tags": []
          },
          "execution_count": 3
        }
      ]
    },
    {
      "cell_type": "code",
      "metadata": {
        "colab": {
          "base_uri": "https://localhost:8080/"
        },
        "id": "Ygm9Jv7RbSas",
        "outputId": "a08c1c23-d8b7-4021-ce63-9bd8d44fd2b4"
      },
      "source": [
        "def my_function(**legend):\n",
        "    print(\"His last name is \" + legend[\"lname\"])\n",
        "    \n",
        "my_function(fname = \"Steve\", lname = \"Jobs\")"
      ],
      "execution_count": 4,
      "outputs": [
        {
          "output_type": "stream",
          "text": [
            "His last name is Jobs\n"
          ],
          "name": "stdout"
        }
      ]
    },
    {
      "cell_type": "code",
      "metadata": {
        "colab": {
          "base_uri": "https://localhost:8080/"
        },
        "id": "GD69JaOHbUZ0",
        "outputId": "2e948c59-3e2f-47e2-978f-faf59853c923"
      },
      "source": [
        "def cal(x:int, y: float, z: int) -> float: \n",
        "    print(x * y + z)\n",
        "\n",
        "cal(5,6.5,7)"
      ],
      "execution_count": 5,
      "outputs": [
        {
          "output_type": "stream",
          "text": [
            "39.5\n"
          ],
          "name": "stdout"
        }
      ]
    },
    {
      "cell_type": "code",
      "metadata": {
        "colab": {
          "base_uri": "https://localhost:8080/"
        },
        "id": "-0dRCKiKbXJk",
        "outputId": "3c3da115-8204-4dc5-8342-d2711657ce2a"
      },
      "source": [
        "import collections\n",
        "print ('Ordered Dict')\n",
        "dict2 = collections.OrderedDict()\n",
        "dict2['a'] = 'A'\n",
        "dict2['b'] = 'B'\n",
        "dict2['c'] = 'C'\n",
        "for key, value in dict2.items():\n",
        "    print (key, value)"
      ],
      "execution_count": 7,
      "outputs": [
        {
          "output_type": "stream",
          "text": [
            "Ordered Dict\n",
            "a A\n",
            "b B\n",
            "c C\n"
          ],
          "name": "stdout"
        }
      ]
    }
  ]
}