{
  "nbformat": 4,
  "nbformat_minor": 0,
  "metadata": {
    "colab": {
      "name": "Advanced Python Made Easy Part.ipynb",
      "provenance": [],
      "authorship_tag": "ABX9TyO00++pUJF/s54vU3EyYDI6"
    },
    "kernelspec": {
      "name": "python3",
      "display_name": "Python 3"
    },
    "language_info": {
      "name": "python"
    }
  },
  "cells": [
    {
      "cell_type": "markdown",
      "metadata": {
        "id": "1OnRLfK1Vx-e"
      },
      "source": [
        "[Reference](https://medium.datadriveninvestor.com/advanced-python-made-easy-part-2-b741b76b2411)"
      ]
    },
    {
      "cell_type": "code",
      "metadata": {
        "colab": {
          "base_uri": "https://localhost:8080/"
        },
        "id": "hWhKvKhjVjHY",
        "outputId": "2cc6b25a-a6e5-45a5-875d-6b3939c15577"
      },
      "source": [
        "x = lambda a, b, c : a * b + c\n",
        "print(x(5, 6, 8))"
      ],
      "execution_count": 1,
      "outputs": [
        {
          "output_type": "stream",
          "text": [
            "38\n"
          ],
          "name": "stdout"
        }
      ]
    },
    {
      "cell_type": "code",
      "metadata": {
        "colab": {
          "base_uri": "https://localhost:8080/"
        },
        "id": "kYyLnhh5WChx",
        "outputId": "1f68c0b3-9f82-4f93-a02a-92c0c8d556bd"
      },
      "source": [
        "def cal(n):\n",
        "    return lambda t : t ** n\n",
        "    \n",
        "var = cal(3)\n",
        "print(var(12))"
      ],
      "execution_count": 2,
      "outputs": [
        {
          "output_type": "stream",
          "text": [
            "1728\n"
          ],
          "name": "stdout"
        }
      ]
    },
    {
      "cell_type": "code",
      "metadata": {
        "colab": {
          "base_uri": "https://localhost:8080/"
        },
        "id": "uSPKk-8wWFdm",
        "outputId": "95b9fccb-4c6d-4ddc-e1ab-ef4f80245bd8"
      },
      "source": [
        "def addNum(*add_numbers):\n",
        "    result=2+add_numbers[2]+add_numbers[6]\n",
        "    return result#call the function\n",
        "addNum(5,3,19,46,66,26,10)"
      ],
      "execution_count": 3,
      "outputs": [
        {
          "output_type": "execute_result",
          "data": {
            "text/plain": [
              "31"
            ]
          },
          "metadata": {
            "tags": []
          },
          "execution_count": 3
        }
      ]
    },
    {
      "cell_type": "code",
      "metadata": {
        "colab": {
          "base_uri": "https://localhost:8080/"
        },
        "id": "yCpRz07aWG8p",
        "outputId": "f2f1ca5c-9311-4da2-f6c7-320da95c7c03"
      },
      "source": [
        "def my_function(**legend):\n",
        "    print(\"His last name is \" + legend[\"lname\"])\n",
        "    \n",
        "my_function(fname = \"Steve\", lname = \"Jobs\")"
      ],
      "execution_count": 4,
      "outputs": [
        {
          "output_type": "stream",
          "text": [
            "His last name is Jobs\n"
          ],
          "name": "stdout"
        }
      ]
    },
    {
      "cell_type": "code",
      "metadata": {
        "colab": {
          "base_uri": "https://localhost:8080/"
        },
        "id": "vMRuAl8LWQDz",
        "outputId": "682db65d-43de-41bb-bbcc-23427387254e"
      },
      "source": [
        "def cal(x:int, y: float, z: int) -> float: \n",
        "    print(x * y + z)\n",
        "\n",
        "cal(5,6.5,7)"
      ],
      "execution_count": 5,
      "outputs": [
        {
          "output_type": "stream",
          "text": [
            "39.5\n"
          ],
          "name": "stdout"
        }
      ]
    },
    {
      "cell_type": "code",
      "metadata": {
        "id": "u1SDU-pgWZSD"
      },
      "source": [
        "import collections"
      ],
      "execution_count": 7,
      "outputs": []
    },
    {
      "cell_type": "code",
      "metadata": {
        "colab": {
          "base_uri": "https://localhost:8080/"
        },
        "id": "klm9w2AyWS8i",
        "outputId": "7fb04a06-0b55-4b30-fa98-bc46b74aa1e4"
      },
      "source": [
        "print ('Ordered Dict')\n",
        "dict2 = collections.OrderedDict()\n",
        "dict2['a'] = 'A'\n",
        "dict2['b'] = 'B'\n",
        "dict2['c'] = 'C'\n",
        "\n",
        "for key, value in dict2.items():\n",
        "    print (key, value)"
      ],
      "execution_count": 8,
      "outputs": [
        {
          "output_type": "stream",
          "text": [
            "Ordered Dict\n",
            "a A\n",
            "b B\n",
            "c C\n"
          ],
          "name": "stdout"
        }
      ]
    }
  ]
}