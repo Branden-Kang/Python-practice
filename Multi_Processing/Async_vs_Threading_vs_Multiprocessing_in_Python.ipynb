{
  "nbformat": 4,
  "nbformat_minor": 0,
  "metadata": {
    "colab": {
      "provenance": [],
      "authorship_tag": "ABX9TyMYbFW1dmnJfE5TTgpyMC0K"
    },
    "kernelspec": {
      "name": "python3",
      "display_name": "Python 3"
    },
    "language_info": {
      "name": "python"
    }
  },
  "cells": [
    {
      "cell_type": "markdown",
      "source": [
        "[Reference](https://rawheel.medium.com/async-vs-threading-vs-multiprocessing-in-python-e35dd69c9696)"
      ],
      "metadata": {
        "id": "ZL0dfw97oyAy"
      }
    },
    {
      "cell_type": "code",
      "execution_count": 1,
      "metadata": {
        "id": "BzXdTm1CowqP"
      },
      "outputs": [],
      "source": [
        "import asyncio\n",
        "\n",
        "async def download_file(url):\n",
        "  \"\"\"Download a file from a URL.\"\"\"\n",
        "  with open(url, \"wb\") as f:\n",
        "    response = await asyncio.get(url)\n",
        "    f.write(response.content)\n",
        "\n",
        "async def main():\n",
        "  \"\"\"Download two files concurrently.\"\"\"\n",
        "  tasks = [download_file(\"https://www.example.com/file1.txt\"),\n",
        "           download_file(\"https://www.example.com/file2.txt\")]\n",
        "  await asyncio.gather(*tasks)\n",
        "\n",
        "if __name__ == \"__main__\":\n",
        "  asyncio.run(main())"
      ]
    },
    {
      "cell_type": "code",
      "source": [
        "import threading\n",
        "\n",
        "def do_something_threaded():\n",
        "  \"\"\"Do something that takes a long time.\"\"\"\n",
        "  time.sleep(1)\n",
        "  print(\"Done!\")\n",
        "\n",
        "def main():\n",
        "  \"\"\"Start two threads.\"\"\"\n",
        "  threads = []\n",
        "  for _ in range(2):\n",
        "    thread = threading.Thread(target=do_something_threaded)\n",
        "    threads.append(thread)\n",
        "  for thread in threads:\n",
        "    thread.start()\n",
        "  for thread in threads:\n",
        "    thread.join()\n",
        "\n",
        "if __name__ == \"__main__\":\n",
        "  main()"
      ],
      "metadata": {
        "id": "dGMqSNh3o030"
      },
      "execution_count": 2,
      "outputs": []
    },
    {
      "cell_type": "code",
      "source": [
        "import multiprocessing\n",
        "\n",
        "def do_something_multiprocessed():\n",
        "  \"\"\"Do something that takes a long time.\"\"\"\n",
        "  time.sleep(1)\n",
        "  print(\"Done!\")\n",
        "\n",
        "def main():\n",
        "  \"\"\"Start two processes.\"\"\"\n",
        "  processes = []\n",
        "  for _ in range(2):\n",
        "    process = multiprocessing.Process(target=do_something_multiprocessed)\n",
        "    processes.append(process)\n",
        "  for process in processes:\n",
        "    process.start()\n",
        "  for process in processes:\n",
        "    process"
      ],
      "metadata": {
        "id": "9N0gYDFlo2t4"
      },
      "execution_count": 3,
      "outputs": []
    }
  ]
}
