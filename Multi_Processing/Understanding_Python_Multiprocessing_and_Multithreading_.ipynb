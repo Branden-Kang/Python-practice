{
  "nbformat": 4,
  "nbformat_minor": 0,
  "metadata": {
    "colab": {
      "provenance": [],
      "authorship_tag": "ABX9TyNAO8TLbxfBeDLWRw7VTJqw"
    },
    "kernelspec": {
      "name": "python3",
      "display_name": "Python 3"
    },
    "language_info": {
      "name": "python"
    }
  },
  "cells": [
    {
      "cell_type": "markdown",
      "source": [
        "[Reference](https://medium.com/@pritam7798sonawane/understanding-python-multiprocessing-and-multithreading-eda6e68d81b6)"
      ],
      "metadata": {
        "id": "o5Gq5YjB2QTR"
      }
    },
    {
      "cell_type": "markdown",
      "source": [
        "# Example 1: Without Using Multiprocessing or Multithreading"
      ],
      "metadata": {
        "id": "uyJ8ostJ2enM"
      }
    },
    {
      "cell_type": "code",
      "execution_count": 1,
      "metadata": {
        "colab": {
          "base_uri": "https://localhost:8080/"
        },
        "id": "1COS04Yf2NWA",
        "outputId": "fc48a65d-1a80-438a-f74c-6bc8badb5313"
      },
      "outputs": [
        {
          "output_type": "stream",
          "name": "stdout",
          "text": [
            "Mean calculation results:\n",
            "Mean: 0.4999752765239687\n",
            "Execution time: 0.10077691078186035 seconds\n"
          ]
        }
      ],
      "source": [
        "import numpy as np\n",
        "import time\n",
        "\n",
        "# Generate random 100 million data points\n",
        "n = 100000000\n",
        "d = np.random.rand(n)\n",
        "\n",
        "def calculate_mean():\n",
        "    sum_ = np.sum(d)\n",
        "    mean = sum_ / n\n",
        "    return mean\n",
        "\n",
        "# Time the execution\n",
        "start_time = time.time()\n",
        "m = calculate_mean()\n",
        "end_time = time.time()\n",
        "execution_time = end_time - start_time\n",
        "\n",
        "# Print the results\n",
        "print(\"Mean calculation results:\")\n",
        "print(\"Mean:\", m)\n",
        "print(\"Execution time:\", execution_time, \"seconds\")"
      ]
    },
    {
      "cell_type": "markdown",
      "source": [
        "# Example 2: Using Multiprocessing"
      ],
      "metadata": {
        "id": "CwSnfd4Z2f_5"
      }
    },
    {
      "cell_type": "code",
      "source": [
        "from multiprocessing import Process, Queue\n",
        "import math\n",
        "import time\n",
        "\n",
        "def mean_multiprocessing(s, e, q, data):\n",
        "    total_sum = 0\n",
        "    for i in range(s, e + 1):\n",
        "        total_sum += data[i]\n",
        "    mean = total_sum / (e - s + 1)\n",
        "    q.put(mean)\n",
        "\n",
        "if __name__ == '__main__':\n",
        "    # Generate random 100 million data points\n",
        "    n = 100000000\n",
        "    data = [i / n for i in range(n)]\n",
        "\n",
        "    n1 = math.floor(n / 2)\n",
        "\n",
        "    q = Queue()\n",
        "    p1 = Process(target=mean_multiprocessing, args=(0, n1, q, data))\n",
        "    p2 = Process(target=mean_multiprocessing, args=(n1 + 1, n - 1, q, data))\n",
        "\n",
        "    start_time = time.time()\n",
        "\n",
        "    p1.start()\n",
        "    p2.start()\n",
        "\n",
        "    p1.join()  # Wait till p1 finishes\n",
        "    p2.join()\n",
        "\n",
        "    mean = 0\n",
        "    while not q.empty():\n",
        "        mean += q.get()\n",
        "    mean /= 2\n",
        "\n",
        "    end_time = time.time()\n",
        "\n",
        "    execution_time = end_time - start_time\n",
        "\n",
        "    # Print the results\n",
        "    print(\"Mean calculation results:\")\n",
        "    print(\"Mean:\", mean)\n",
        "    print(\"Execution time using multiprocessing:\", execution_time, \"seconds\")"
      ],
      "metadata": {
        "colab": {
          "base_uri": "https://localhost:8080/"
        },
        "id": "ry6B6cC82cLz",
        "outputId": "0a3f7a7e-6179-41a2-a60b-19888b68828d"
      },
      "execution_count": 2,
      "outputs": [
        {
          "output_type": "stream",
          "name": "stdout",
          "text": [
            "Mean calculation results:\n",
            "Mean: 0.4999999999999998\n",
            "Execution time using multiprocessing: 12.789156436920166 seconds\n"
          ]
        }
      ]
    },
    {
      "cell_type": "markdown",
      "source": [
        "# Example 3: Using Multithreading"
      ],
      "metadata": {
        "id": "wABr9d3_2irm"
      }
    },
    {
      "cell_type": "code",
      "source": [
        "from threading import Thread\n",
        "import math\n",
        "import time\n",
        "\n",
        "means = [0, 0]\n",
        "\n",
        "def calculate_mean(start, end, thread_num):\n",
        "    sum_ = 0\n",
        "    for i in range(start, end+1):\n",
        "        sum_ += d[i]\n",
        "\n",
        "    mean = sum_ / (end - start + 1)\n",
        "    means[thread_num] = mean\n",
        "\n",
        "n = 100000000\n",
        "n1 = math.floor(n/2)\n",
        "d = [1] * n\n",
        "\n",
        "t1 = Thread(target=calculate_mean, args=(0, n1, 0))\n",
        "t2 = Thread(target=calculate_mean, args=(n1+1, n-1, 1))\n",
        "\n",
        "start_time = time.time()\n",
        "\n",
        "t1.start()\n",
        "t2.start()\n",
        "\n",
        "t1.join()\n",
        "t2.join()\n",
        "\n",
        "mean1 = means[0]\n",
        "mean2 = means[1]\n",
        "mean = (mean1 + mean2) / 2\n",
        "\n",
        "end_time = time.time()\n",
        "\n",
        "execution_time = end_time - start_time\n",
        "\n",
        "print(\"Mean calculation results:\")\n",
        "print(\"Mean:\", mean)\n",
        "print(\"Execution time using multithreading:\", execution_time, \"seconds\")"
      ],
      "metadata": {
        "colab": {
          "base_uri": "https://localhost:8080/"
        },
        "id": "k7tXYHk32hh_",
        "outputId": "6cd75b51-46f0-4fe2-b1d0-983309b0a4b2"
      },
      "execution_count": 3,
      "outputs": [
        {
          "output_type": "stream",
          "name": "stdout",
          "text": [
            "Mean calculation results:\n",
            "Mean: 1.0\n",
            "Execution time using multithreading: 11.182257890701294 seconds\n"
          ]
        }
      ]
    }
  ]
}
