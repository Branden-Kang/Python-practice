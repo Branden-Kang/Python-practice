{
  "nbformat": 4,
  "nbformat_minor": 0,
  "metadata": {
    "colab": {
      "provenance": [],
      "authorship_tag": "ABX9TyNoKVEYUn0Xk+xmFiUAs7QV"
    },
    "kernelspec": {
      "name": "python3",
      "display_name": "Python 3"
    },
    "language_info": {
      "name": "python"
    }
  },
  "cells": [
    {
      "cell_type": "markdown",
      "source": [
        "[Reference](https://heyashy.medium.com/blazing-fast-etls-with-simultaneous-multiprocessing-and-multithreading-214865b56516)"
      ],
      "metadata": {
        "id": "acJ07lnuAaP6"
      }
    },
    {
      "cell_type": "code",
      "execution_count": 1,
      "metadata": {
        "colab": {
          "base_uri": "https://localhost:8080/"
        },
        "id": "AGUaNiE8AUCc",
        "outputId": "e0614dbf-fc10-4aa1-e21b-307db3c3ba80"
      },
      "outputs": [
        {
          "output_type": "stream",
          "name": "stderr",
          "text": [
            "100%|██████████| 10000/10000 [00:00<00:00, 44723.88it/s]"
          ]
        },
        {
          "output_type": "stream",
          "name": "stdout",
          "text": [
            "Time taken: 0.2496776580810547 seconds\n"
          ]
        },
        {
          "output_type": "stream",
          "name": "stderr",
          "text": [
            "\n"
          ]
        }
      ],
      "source": [
        "import time\n",
        "from multiprocessing.pool import ThreadPool\n",
        "from tqdm import tqdm\n",
        "\n",
        "\n",
        "def get_data_from_db() -> list:\n",
        "    \"\"\"Simulate getting data from a database.\"\"\"\n",
        "    return [i for i in range(10000)]\n",
        "\n",
        "\n",
        "def process_data(data):\n",
        "    \"\"\"Simulate processing of data.\"\"\"\n",
        "    time.sleep(0.0001)\n",
        "    return data * 2\n",
        "\n",
        "\n",
        "def main():\n",
        "    \"\"\"Our main function\"\"\"\n",
        "    data = get_data_from_db()\n",
        "    with ThreadPool(10) as pool:\n",
        "        for _ in tqdm(pool.imap_unordered(process_data, data), total=len(data)):\n",
        "            # You can add logic here\n",
        "            pass\n",
        "\n",
        "\n",
        "if __name__ == \"__main__\":\n",
        "    start_time = time.time()\n",
        "    main()\n",
        "    end_time = time.time()\n",
        "    print(f\"Time taken: {end_time - start_time} seconds\")"
      ]
    }
  ]
}
