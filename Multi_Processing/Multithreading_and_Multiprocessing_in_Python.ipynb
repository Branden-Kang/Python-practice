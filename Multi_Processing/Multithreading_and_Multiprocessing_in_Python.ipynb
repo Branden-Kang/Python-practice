{
  "nbformat": 4,
  "nbformat_minor": 0,
  "metadata": {
    "colab": {
      "name": "Multithreading and Multiprocessing in Python.ipynb",
      "provenance": [],
      "authorship_tag": "ABX9TyMts2Hmi1qB4yJK3bUD6bjl"
    },
    "kernelspec": {
      "name": "python3",
      "display_name": "Python 3"
    },
    "language_info": {
      "name": "python"
    }
  },
  "cells": [
    {
      "cell_type": "markdown",
      "metadata": {
        "id": "XhVLd3vgOmz7"
      },
      "source": [
        "[Reference](https://medium.com/analytics-vidhya/multithreading-and-multiprocessing-in-python-1f773d1d160d)"
      ]
    },
    {
      "cell_type": "markdown",
      "metadata": {
        "id": "bt66m2fFOvX0"
      },
      "source": [
        "# Multithreading\n"
      ]
    },
    {
      "cell_type": "code",
      "metadata": {
        "colab": {
          "base_uri": "https://localhost:8080/"
        },
        "id": "pXRcvZmlNtam",
        "outputId": "09fbadaa-5607-4c30-b8e4-7c19ff59e1bc"
      },
      "source": [
        "import time\n",
        "import threading\n",
        "\n",
        "def some_task():\n",
        "    time.sleep(1)\n",
        "    print(\"Finished task\")\n",
        "\n",
        "if __name__ == \"__main__\":\n",
        "    start = time.time()\n",
        "\n",
        "    # Create two threads\n",
        "    t1 = threading.Thread(target=some_task)\n",
        "    t2 = threading.Thread(target=some_task)\n",
        "\n",
        "    # Start running both threads\n",
        "    t1.start()\n",
        "    t2.start()\n",
        "\n",
        "    # Wait until both threads are complete, and join the process into a single thread\n",
        "    t1.join()\n",
        "    t2.join()\n",
        "    \n",
        "    end = time.time()\n",
        "\n",
        "    print(f\"Finished process in {end - start} seconds\")"
      ],
      "execution_count": 1,
      "outputs": [
        {
          "output_type": "stream",
          "name": "stdout",
          "text": [
            "Finished task\n",
            "Finished task\n",
            "Finished process in 1.0078458786010742 seconds\n"
          ]
        }
      ]
    },
    {
      "cell_type": "markdown",
      "metadata": {
        "id": "89TSWQIhOwqs"
      },
      "source": [
        "# Multiprocessing\n"
      ]
    },
    {
      "cell_type": "code",
      "metadata": {
        "colab": {
          "base_uri": "https://localhost:8080/"
        },
        "id": "3T9D7wfhOuFB",
        "outputId": "d11c3082-aba8-40b0-8314-90aaa07b9c3f"
      },
      "source": [
        "import time\n",
        "import multiprocessing\n",
        "def some_task():\n",
        "    for _ in range(100_000_000):\n",
        "        x = 1 + 1\n",
        "    print(\"Finished task\")\n",
        "if __name__ == \"__main__\":\n",
        "    start = time.time()\n",
        "    # Create two threads\n",
        "    p1 = multiprocessing.Process(target=some_task)\n",
        "    p2 = multiprocessing.Process(target=some_task)\n",
        "    # Start running both threads\n",
        "    p1.start()\n",
        "    p2.start()\n",
        "    # Wait until both threads are complete, and join the process into a single thread\n",
        "    p1.join()\n",
        "    p2.join()\n",
        "    end = time.time()\n",
        "    print(f\"Finished process in {end - start} seconds\")"
      ],
      "execution_count": 2,
      "outputs": [
        {
          "output_type": "stream",
          "name": "stdout",
          "text": [
            "Finished task\n",
            "Finished task\n",
            "Finished process in 7.56775689125061 seconds\n"
          ]
        }
      ]
    }
  ]
}