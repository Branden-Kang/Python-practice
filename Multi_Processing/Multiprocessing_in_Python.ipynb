{
  "nbformat": 4,
  "nbformat_minor": 0,
  "metadata": {
    "colab": {
      "name": "Multiprocessing in Python.ipynb",
      "provenance": [],
      "authorship_tag": "ABX9TyNx3xYUX1zXcWHgTS+syCTH"
    },
    "kernelspec": {
      "name": "python3",
      "display_name": "Python 3"
    },
    "language_info": {
      "name": "python"
    }
  },
  "cells": [
    {
      "cell_type": "markdown",
      "source": [
        "[Reference](https://hiteshmishra708.medium.com/multiprocessing-in-python-c6735fa70f3f)"
      ],
      "metadata": {
        "id": "lXDe4Q4Se_TQ"
      }
    },
    {
      "cell_type": "code",
      "execution_count": 1,
      "metadata": {
        "colab": {
          "base_uri": "https://localhost:8080/"
        },
        "id": "G_CdHyvGeWTA",
        "outputId": "78aab982-4303-4de2-a4fd-39f49890e02e"
      },
      "outputs": [
        {
          "output_type": "stream",
          "name": "stdout",
          "text": [
            "[1, 4, 9]\n"
          ]
        }
      ],
      "source": [
        "from multiprocessing import Pool\n",
        "\n",
        "def f(x):\n",
        "    return x*x\n",
        "\n",
        "if __name__ == '__main__':\n",
        "    with Pool(5) as p:\n",
        "        print(p.map(f, [1, 2, 3]))"
      ]
    },
    {
      "cell_type": "markdown",
      "source": [
        "# The Process class"
      ],
      "metadata": {
        "id": "ClB8DJXifB9D"
      }
    },
    {
      "cell_type": "code",
      "source": [
        "from multiprocessing import Process\n",
        "\n",
        "def f(name):\n",
        "    print('hello', name)\n",
        "\n",
        "if __name__ == '__main__':\n",
        "    p = Process(target=f, args=('bob',))\n",
        "    p.start()\n",
        "    p.join()"
      ],
      "metadata": {
        "colab": {
          "base_uri": "https://localhost:8080/"
        },
        "id": "oIJZ8o3tfAXa",
        "outputId": "8a574ceb-6d8e-414e-c548-48533aa24952"
      },
      "execution_count": 2,
      "outputs": [
        {
          "output_type": "stream",
          "name": "stdout",
          "text": [
            "hello bob\n"
          ]
        }
      ]
    },
    {
      "cell_type": "code",
      "source": [
        "from multiprocessing import Process\n",
        "import os\n",
        "\n",
        "def info(title):\n",
        "    print(title)\n",
        "    print('module name:', __name__)\n",
        "    print('parent process:', os.getppid())\n",
        "    print('process id:', os.getpid())\n",
        "\n",
        "def f(name):\n",
        "    info('function f')\n",
        "    print('hello', name)\n",
        "\n",
        "if __name__ == '__main__':\n",
        "    info('main line')\n",
        "    p = Process(target=f, args=('bob',))\n",
        "    p.start()\n",
        "    p.join()"
      ],
      "metadata": {
        "id": "2-x3C-gcfDId",
        "outputId": "943d2d02-9410-477c-c379-16dd599c6bb2",
        "colab": {
          "base_uri": "https://localhost:8080/"
        }
      },
      "execution_count": 3,
      "outputs": [
        {
          "output_type": "stream",
          "name": "stdout",
          "text": [
            "main line\n",
            "module name: __main__\n",
            "parent process: 41\n",
            "process id: 54\n",
            "function f\n",
            "module name: __main__\n",
            "parent process: 54\n",
            "process id: 121\n",
            "hello bob\n"
          ]
        }
      ]
    }
  ]
}
