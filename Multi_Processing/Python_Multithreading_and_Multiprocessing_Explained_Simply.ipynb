{
  "nbformat": 4,
  "nbformat_minor": 0,
  "metadata": {
    "colab": {
      "provenance": [],
      "authorship_tag": "ABX9TyOADd0orTOYx+PdyxyH0MHb"
    },
    "kernelspec": {
      "name": "python3",
      "display_name": "Python 3"
    },
    "language_info": {
      "name": "python"
    }
  },
  "cells": [
    {
      "cell_type": "markdown",
      "source": [
        "[Reference](https://medium.com/@ashfaq.sayeem/python-multithreading-and-multiprocessing-explained-simply-6b758aa78ddd)"
      ],
      "metadata": {
        "id": "J3HNRKa_3J4I"
      }
    },
    {
      "cell_type": "markdown",
      "source": [
        "# Multithreading in Python"
      ],
      "metadata": {
        "id": "ahq-WMZm3SkP"
      }
    },
    {
      "cell_type": "code",
      "execution_count": 1,
      "metadata": {
        "colab": {
          "base_uri": "https://localhost:8080/"
        },
        "id": "YSRiTxZk3Hyh",
        "outputId": "7fa05b48-a5a9-45fc-9b8e-36abbf37af71"
      },
      "outputs": [
        {
          "output_type": "stream",
          "name": "stdout",
          "text": [
            "Number: 0\n",
            "Letter: a\n",
            "Number: 1\n",
            "Letter: b\n",
            "Number: 2\n",
            "Letter: c\n",
            "Number: 3\n",
            "Letter: d\n",
            "Number: 4\n",
            "Letter: e\n",
            "Execution Time: 10.035696506500244 seconds\n"
          ]
        }
      ],
      "source": [
        "import threading\n",
        "import time\n",
        "\n",
        "def print_numbers():\n",
        "    for i in range(5):\n",
        "        time.sleep(2)\n",
        "        print(f\"Number: {i}\")\n",
        "\n",
        "def print_letters():\n",
        "    for letter in \"abcde\":\n",
        "        time.sleep(2)\n",
        "        print(f\"Letter: {letter}\")\n",
        "\n",
        "start_time = time.time()\n",
        "\n",
        "# Without threading (runs sequentially)\n",
        "# print_numbers()\n",
        "# print_letter()\n",
        "\n",
        "# With threading (runs in parallel)\n",
        "# Threads running concurrently\n",
        "t1 = threading.Thread(target=print_numbers)\n",
        "t2 = threading.Thread(target=print_letters)\n",
        "\n",
        "t1.start()\n",
        "t2.start()\n",
        "\n",
        "t1.join()\n",
        "t2.join()\n",
        "\n",
        "print(f\"Execution Time: {time.time() - start_time} seconds\")"
      ]
    },
    {
      "cell_type": "markdown",
      "source": [
        "# Multiprocessing in Python"
      ],
      "metadata": {
        "id": "O8OJ0B6N3V0D"
      }
    },
    {
      "cell_type": "code",
      "source": [
        "import multiprocessing\n",
        "import time\n",
        "\n",
        "def square_numbers():\n",
        "    for i in range(5):\n",
        "        time.sleep(1)\n",
        "        print(f\"Square: {i * i}\")\n",
        "\n",
        "def cube_numbers():\n",
        "    for i in range(5):\n",
        "        time.sleep(1.5)\n",
        "        print(f\"Cube: {i * i * i}\")\n",
        "\n",
        "if __name__ == \"__main__\":\n",
        "\n",
        "    # Create 2 processes\n",
        "    p1 = multiprocessing.Process(target=square_numbers)\n",
        "    p2 = multiprocessing.Process(target=cube_numbers)\n",
        "\n",
        "    start_time = time.time()\n",
        "\n",
        "    # Start the processes\n",
        "    p1.start()\n",
        "    p2.start()\n",
        "\n",
        "    # Wait for the processes to complete\n",
        "    p1.join()\n",
        "    p2.join()\n",
        "    print(f\"Execution Time: {time.time() - start_time} seconds\")"
      ],
      "metadata": {
        "colab": {
          "base_uri": "https://localhost:8080/"
        },
        "id": "MJF5BNHr3OpZ",
        "outputId": "6ea01d8c-7f56-4a33-cd29-77fdf49881c4"
      },
      "execution_count": 2,
      "outputs": [
        {
          "output_type": "stream",
          "name": "stdout",
          "text": [
            "Square: 0\n",
            "Cube: 0\n",
            "Square: 1\n",
            "Square: 4\n",
            "Cube: 1\n",
            "Square: 9\n",
            "Cube: 8\n",
            "Square: 16\n",
            "Cube: 27\n",
            "Cube: 64\n",
            "Execution Time: 7.578942537307739 seconds\n"
          ]
        }
      ]
    },
    {
      "cell_type": "markdown",
      "source": [
        "## Advanced Multithreading with ThreadPoolExecutor"
      ],
      "metadata": {
        "id": "vBupV4uj3b1B"
      }
    },
    {
      "cell_type": "code",
      "source": [
        "from concurrent.futures import ThreadPoolExecutor\n",
        "import time\n",
        "\n",
        "def print_number(number):\n",
        "    time.sleep(1)\n",
        "    return f\"Number: {number}\"\n",
        "\n",
        "numbers = [1, 2, 3, 4, 5]\n",
        "\n",
        "with ThreadPoolExecutor(max_workers=3) as executor:\n",
        "    results = executor.map(print_number, numbers)\n",
        "\n",
        "for result in results:\n",
        "    print(result)"
      ],
      "metadata": {
        "colab": {
          "base_uri": "https://localhost:8080/"
        },
        "id": "5gdS_swr3YTT",
        "outputId": "5667dfd5-90db-4f9a-fe3e-13c37797a860"
      },
      "execution_count": 3,
      "outputs": [
        {
          "output_type": "stream",
          "name": "stdout",
          "text": [
            "Number: 1\n",
            "Number: 2\n",
            "Number: 3\n",
            "Number: 4\n",
            "Number: 5\n"
          ]
        }
      ]
    },
    {
      "cell_type": "markdown",
      "source": [
        "## Multiprocessing with ProcessPoolExecutor"
      ],
      "metadata": {
        "id": "DAUbw7H63dYA"
      }
    },
    {
      "cell_type": "code",
      "source": [
        "from concurrent.futures import ProcessPoolExecutor\n",
        "import time\n",
        "\n",
        "def square_number(number):\n",
        "    time.sleep(2)\n",
        "    return f\"Square: {number * number}\"\n",
        "\n",
        "numbers = [1, 2, 3, 4, 5, 6, 7, 8, 9, 11, 2, 3, 12, 14]\n",
        "\n",
        "if __name__ == \"__main__\":\n",
        "    with ProcessPoolExecutor(max_workers=3) as executor:\n",
        "        results = executor.map(square_number, numbers)\n",
        "\n",
        "    for result in results:\n",
        "        print(result)"
      ],
      "metadata": {
        "colab": {
          "base_uri": "https://localhost:8080/"
        },
        "id": "leiQJ1KU3aKY",
        "outputId": "a2686e80-bf30-4e1c-a719-1f0882e8c37f"
      },
      "execution_count": 4,
      "outputs": [
        {
          "output_type": "stream",
          "name": "stdout",
          "text": [
            "Square: 1\n",
            "Square: 4\n",
            "Square: 9\n",
            "Square: 16\n",
            "Square: 25\n",
            "Square: 36\n",
            "Square: 49\n",
            "Square: 64\n",
            "Square: 81\n",
            "Square: 121\n",
            "Square: 4\n",
            "Square: 9\n",
            "Square: 144\n",
            "Square: 196\n"
          ]
        }
      ]
    }
  ]
}
