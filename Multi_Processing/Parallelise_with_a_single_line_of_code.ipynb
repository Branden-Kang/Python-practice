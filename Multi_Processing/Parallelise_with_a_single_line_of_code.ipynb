{
  "nbformat": 4,
  "nbformat_minor": 0,
  "metadata": {
    "colab": {
      "name": "Parallelisewith a single line of code.ipynb",
      "provenance": [],
      "authorship_tag": "ABX9TyM/H8hciFDwaoxd28YdyvjS"
    },
    "kernelspec": {
      "name": "python3",
      "display_name": "Python 3"
    },
    "language_info": {
      "name": "python"
    }
  },
  "cells": [
    {
      "cell_type": "code",
      "metadata": {
        "colab": {
          "base_uri": "https://localhost:8080/"
        },
        "id": "9JGc8Nj-GsKu",
        "outputId": "2cf1c424-e8af-4046-e412-e652e5ed1b75"
      },
      "source": [
        "pip install verstack"
      ],
      "execution_count": 1,
      "outputs": [
        {
          "output_type": "stream",
          "name": "stdout",
          "text": [
            "Collecting verstack\n",
            "  Downloading verstack-0.5.1.tar.gz (24 kB)\n",
            "Requirement already satisfied: pandas in /usr/local/lib/python3.7/dist-packages (from verstack) (1.1.5)\n",
            "Requirement already satisfied: numpy in /usr/local/lib/python3.7/dist-packages (from verstack) (1.19.5)\n",
            "Requirement already satisfied: xgboost in /usr/local/lib/python3.7/dist-packages (from verstack) (0.90)\n",
            "Requirement already satisfied: sklearn in /usr/local/lib/python3.7/dist-packages (from verstack) (0.0)\n",
            "Requirement already satisfied: python-dateutil>=2.7.3 in /usr/local/lib/python3.7/dist-packages (from pandas->verstack) (2.8.2)\n",
            "Requirement already satisfied: pytz>=2017.2 in /usr/local/lib/python3.7/dist-packages (from pandas->verstack) (2018.9)\n",
            "Requirement already satisfied: six>=1.5 in /usr/local/lib/python3.7/dist-packages (from python-dateutil>=2.7.3->pandas->verstack) (1.15.0)\n",
            "Requirement already satisfied: scikit-learn in /usr/local/lib/python3.7/dist-packages (from sklearn->verstack) (0.22.2.post1)\n",
            "Requirement already satisfied: joblib>=0.11 in /usr/local/lib/python3.7/dist-packages (from scikit-learn->sklearn->verstack) (1.0.1)\n",
            "Requirement already satisfied: scipy>=0.17.0 in /usr/local/lib/python3.7/dist-packages (from scikit-learn->sklearn->verstack) (1.4.1)\n",
            "Building wheels for collected packages: verstack\n",
            "  Building wheel for verstack (setup.py) ... \u001b[?25l\u001b[?25hdone\n",
            "  Created wheel for verstack: filename=verstack-0.5.1-py3-none-any.whl size=20876 sha256=d198af1c1bf6edf763c7c6ea610fa97331c1f52b244665b8f10384118c5e585d\n",
            "  Stored in directory: /root/.cache/pip/wheels/3e/f0/61/0318d9b5fd85dba3b977e6a66ee6fd96c7cb474eadf5f34a47\n",
            "Successfully built verstack\n",
            "Installing collected packages: verstack\n",
            "Successfully installed verstack-0.5.1\n"
          ]
        }
      ]
    },
    {
      "cell_type": "code",
      "metadata": {
        "colab": {
          "base_uri": "https://localhost:8080/"
        },
        "id": "c_RC540ZHfRn",
        "outputId": "dd9ec2cb-4c84-42b4-cc55-7a305e27ea44"
      },
      "source": [
        "# added pickle.dump the result to local directory\n",
        "\n",
        "iterable = range(0,1000000)\n",
        "\n",
        "def func(n):\n",
        "    # Real hard work here\n",
        "    return n**2\n",
        "\n",
        "def execute_func_using_verstack():\n",
        "    from verstack import Multicore\n",
        "    import pickle\n",
        "    worker = Multicore()\n",
        "    result = worker.execute(func, iterable)\n",
        "    pickle.dump(result, open('iteration_result.p', 'wb'))\n",
        "\n",
        "if __name__ == '__main__':\n",
        "    execute_func_using_verstack()"
      ],
      "execution_count": 2,
      "outputs": [
        {
          "output_type": "stream",
          "name": "stdout",
          "text": [
            "Multicore(workers = 2,            \n",
            "          multiple_iterables = False\n",
            "\n",
            "Initializing 2 workers for func execution\n",
            "\n",
            "Time elapsed for execute execution: 0.42007 seconds\n",
            "\n"
          ]
        }
      ]
    },
    {
      "cell_type": "code",
      "metadata": {
        "colab": {
          "base_uri": "https://localhost:8080/"
        },
        "id": "cLiRly3OHgrg",
        "outputId": "c149b679-20c2-4792-d0a5-f775c27037fc"
      },
      "source": [
        "# iteration function that takes as input a value from iterable and returns an output\n",
        "iterable = range(0,1000000)\n",
        "def func(n):\n",
        "    # Real hard work here\n",
        "    return n**2\n",
        "\n",
        "from verstack import Multicore\n",
        "worker = Multicore()\n",
        "result = worker.execute(func, iterable)"
      ],
      "execution_count": 3,
      "outputs": [
        {
          "output_type": "stream",
          "name": "stdout",
          "text": [
            "Multicore(workers = 2,            \n",
            "          multiple_iterables = False\n",
            "\n",
            "Initializing 2 workers for func execution\n",
            "\n",
            "Time elapsed for execute execution: 0.41541 seconds\n",
            "\n"
          ]
        }
      ]
    },
    {
      "cell_type": "code",
      "metadata": {
        "colab": {
          "base_uri": "https://localhost:8080/"
        },
        "id": "oTK4YzfgHiPk",
        "outputId": "52cb5c2c-78b3-4ff4-82f4-67dbaacb1f8d"
      },
      "source": [
        "iterable = range(0,10)\n",
        "\n",
        "def return_two_outputs(n):\n",
        "    # Real hard work here\n",
        "    return n**2, n**3\n",
        "\n",
        "from verstack import Multicore\n",
        "worker = Multicore()\n",
        "result = worker.execute(return_two_outputs, iterable)\n",
        "print(result)"
      ],
      "execution_count": 4,
      "outputs": [
        {
          "output_type": "stream",
          "name": "stdout",
          "text": [
            "Multicore(workers = 2,            \n",
            "          multiple_iterables = False\n",
            "\n",
            "Initializing 2 workers for return_two_outputs execution\n",
            "\n",
            "Time elapsed for execute execution: 0.17015 seconds\n",
            "\n",
            "[[0, 1, 4, 9, 16, 25, 36, 49, 64, 81], [0, 1, 8, 27, 64, 125, 216, 343, 512, 729]]\n"
          ]
        }
      ]
    },
    {
      "cell_type": "code",
      "metadata": {
        "colab": {
          "base_uri": "https://localhost:8080/"
        },
        "id": "Wr7QokHXHjW5",
        "outputId": "1b62b116-f4e8-4f8d-884b-f3be0016bfdd"
      },
      "source": [
        "# iterate over a pd.DataFrame\n",
        "import pandas as pd\n",
        "\n",
        "df = pd.DataFrame(\n",
        "    {'col1':range(5,15), \n",
        "     'col2':range(10,20), \n",
        "     'col3':list('abcdefghij')})\n",
        "\n",
        "def iterate_dataframe(df):\n",
        "    # Real hard work here\n",
        "    result = df['col1'] * (df['col2']**2)\n",
        "    return result    \n",
        "\n",
        "from verstack import Multicore\n",
        "worker = Multicore()\n",
        "result = worker.execute(iterate_dataframe, df)"
      ],
      "execution_count": 5,
      "outputs": [
        {
          "output_type": "stream",
          "name": "stdout",
          "text": [
            "Multicore(workers = 2,            \n",
            "          multiple_iterables = False\n",
            "\n",
            "Initializing 2 workers for iterate_dataframe execution\n",
            "\n",
            "Time elapsed for execute execution: 0.19709 seconds\n",
            "\n"
          ]
        }
      ]
    },
    {
      "cell_type": "code",
      "metadata": {
        "colab": {
          "base_uri": "https://localhost:8080/"
        },
        "id": "Dp8Ei3wtHkjv",
        "outputId": "1f0e7dc7-267a-48e2-de01-55ef5c528962"
      },
      "source": [
        "# iterate over multiple iterables\n",
        "iterable1 = range(0,10)\n",
        "iterable2 = range(10,20)\n",
        "iterable3 = range(20,30)\n",
        "\n",
        "def process_multiple_iterables(lst1, lst2, lst3):\n",
        "    result_1 = lst1**2\n",
        "    result_2 = lst2**2\n",
        "    result_3 = lst3**2\n",
        "    result = result_1 + result_2 + result_3\n",
        "    return result\n",
        "\n",
        "from verstack import Multicore\n",
        "# notice the multiple_iterables parameter\n",
        "worker = Multicore(multiple_iterables = True) \n",
        "# notice how multiple iterables are passed in a list\n",
        "result = worker.execute(process_multiple_iterables, [iterable1, iterable2, iterable3])"
      ],
      "execution_count": 6,
      "outputs": [
        {
          "output_type": "stream",
          "name": "stdout",
          "text": [
            "Multicore(workers = 2,            \n",
            "          multiple_iterables = True\n",
            "\n",
            "Initializing 2 workers for process_multiple_iterables execution\n",
            "\n",
            "Time elapsed for execute execution: 0.21804 seconds\n",
            "\n"
          ]
        }
      ]
    },
    {
      "cell_type": "code",
      "metadata": {
        "colab": {
          "base_uri": "https://localhost:8080/"
        },
        "id": "_RKFkh-CHoTT",
        "outputId": "3eb497f2-31ae-42e1-a5f8-1a8f5fd81f9e"
      },
      "source": [
        "# iterate over a pd.DataFrame and a list\n",
        "iterable_list = list(range(0,10))\n",
        "\n",
        "iterable_df = pd.DataFrame(\n",
        "    {'col1':range(5,15), \n",
        "     'col2':range(10,20), \n",
        "     'col3':list('abcdefghij')})\n",
        "\n",
        "def iterate_dataframe_and_iterable(iterable, df):\n",
        "    # Real hard work here\n",
        "    result = df['col1'] * iterable / (df['col2']**2)\n",
        "    return result    \n",
        "\n",
        "from verstack import Multicore\n",
        "worker = Multicore(multiple_iterables = True,\n",
        "                  workers = 2) # notice the workers parameter\n",
        "result = worker.execute(iterate_dataframe_and_iterable, [iterable_list, iterable_df])"
      ],
      "execution_count": 7,
      "outputs": [
        {
          "output_type": "stream",
          "name": "stdout",
          "text": [
            "Multicore(workers = 2,            \n",
            "          multiple_iterables = True\n",
            "\n",
            "Initializing 2 workers for iterate_dataframe_and_iterable execution\n",
            "\n",
            "Time elapsed for execute execution: 0.32887 seconds\n",
            "\n"
          ]
        }
      ]
    },
    {
      "cell_type": "code",
      "metadata": {
        "colab": {
          "base_uri": "https://localhost:8080/"
        },
        "id": "8N-xV39oHp85",
        "outputId": "416ea03f-d691-4200-a91c-1921a4fd0f57"
      },
      "source": [
        "# Pass one iterable and one non_iterable object\n",
        "# function will iterate over iterable list and if value is present in dictionary\n",
        "    # will perform calculations on item\n",
        "dictionary = {'a':list(range(50,100))}\n",
        "iterable = list(range(50,100))\n",
        "\n",
        "def include_dictionary(dictionary, iterable):\n",
        "    # Real hard work here\n",
        "    result = []\n",
        "    for item in iterable:\n",
        "        if item in list(dictionary.values())[0]:\n",
        "            result.append(item**3)\n",
        "    return result\n",
        "\n",
        "from verstack import Multicore\n",
        "worker = Multicore()\n",
        "result = worker.execute(include_dictionary, iterable, dictionary)"
      ],
      "execution_count": 8,
      "outputs": [
        {
          "output_type": "stream",
          "name": "stdout",
          "text": [
            "Multicore(workers = 2,            \n",
            "          multiple_iterables = False\n",
            "\n",
            "Initializing 2 workers for include_dictionary execution\n",
            "\n",
            "Time elapsed for execute execution: 0.1844 seconds\n",
            "\n"
          ]
        }
      ]
    }
  ]
}