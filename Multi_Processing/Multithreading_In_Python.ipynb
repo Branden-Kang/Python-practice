{
  "nbformat": 4,
  "nbformat_minor": 0,
  "metadata": {
    "colab": {
      "provenance": [],
      "authorship_tag": "ABX9TyOZRQgVsJWi7aNYTdrXs8BY"
    },
    "kernelspec": {
      "name": "python3",
      "display_name": "Python 3"
    },
    "language_info": {
      "name": "python"
    }
  },
  "cells": [
    {
      "cell_type": "markdown",
      "source": [
        "[Reference](https://medium.com/@shahooda637/multithreading-in-python-b84cd5a9caca)"
      ],
      "metadata": {
        "id": "zwDKV6AhU27u"
      }
    },
    {
      "cell_type": "code",
      "execution_count": 1,
      "metadata": {
        "colab": {
          "base_uri": "https://localhost:8080/"
        },
        "id": "XhWqNqhPSaBl",
        "outputId": "91747db5-c9e7-4caa-9615-1357f7e75062"
      },
      "outputs": [
        {
          "output_type": "stream",
          "name": "stdout",
          "text": [
            "this is thread  1\n",
            "this is thread  2\n",
            "this is thread  3\n",
            "this is thread  4\n"
          ]
        }
      ],
      "source": [
        "# import the threading module\n",
        "import threading\n",
        "import time\n",
        "\n",
        "# defining a function for the tread\n",
        "def my_func(x):\n",
        "  # the logic or the body of the function\n",
        "  print('this is thread ', x)\n",
        "\n",
        "# creating threads\n",
        "thread01 = [threading.Thread(target=my_func, args = (i ,)) for i in [1,2,3,4]]\n",
        "\n",
        "#start thread\n",
        "for t in thread01:\n",
        "  t.start()"
      ]
    },
    {
      "cell_type": "code",
      "source": [
        "import urllib.request\n",
        "\n",
        "def file_download(url , filename):\n",
        "    urllib.request.urlretrieve(url , filename)\n",
        "\n",
        "url_list = ['https://raw.githubusercontent.com/itsfoss/text-files/master/agatha.txt' ,\n",
        "            'https://raw.githubusercontent.com/itsfoss/text-files/master/sherlock.txt',\n",
        "            'https://raw.githubusercontent.com/itsfoss/text-files/master/sample_log_file.txt']\n",
        "\n",
        "print(url_list)"
      ],
      "metadata": {
        "colab": {
          "base_uri": "https://localhost:8080/"
        },
        "id": "Fz77GP1MVDrm",
        "outputId": "bde17408-91f5-4fbb-e557-70ed5ddfb675"
      },
      "execution_count": 2,
      "outputs": [
        {
          "output_type": "stream",
          "name": "stdout",
          "text": [
            "['https://raw.githubusercontent.com/itsfoss/text-files/master/agatha.txt', 'https://raw.githubusercontent.com/itsfoss/text-files/master/sherlock.txt', 'https://raw.githubusercontent.com/itsfoss/text-files/master/sample_log_file.txt']\n"
          ]
        }
      ]
    },
    {
      "cell_type": "code",
      "source": [
        "data_file_list = ['data1.txt', 'data2.txt','data3.txt']\n",
        "thread2 = [threading.Thread(target=file_download , args=(url_list[i],data_file_list[i])) for i in range(len(url_list))]\n",
        "for t in thread2:\n",
        "    t.start()"
      ],
      "metadata": {
        "id": "nJQhmqZIVKB4"
      },
      "execution_count": 3,
      "outputs": []
    },
    {
      "cell_type": "code",
      "source": [
        "import time\n",
        "\n",
        "def time_test(x) :\n",
        "    for i in range(5) :\n",
        "        print(\" This is the thread for the value x %d and for the value of i %d \" %(x,i))\n",
        "\n",
        "thread3 = [threading.Thread(target=time_test , args=(i,)) for i in [100 , 10,20,5]]\n",
        "for t in thread3:\n",
        "    t.start()"
      ],
      "metadata": {
        "colab": {
          "base_uri": "https://localhost:8080/"
        },
        "id": "1n7b8AXIVOEl",
        "outputId": "9c489bf9-9057-4f95-f5b3-0d686a3c7a7c"
      },
      "execution_count": 4,
      "outputs": [
        {
          "output_type": "stream",
          "name": "stdout",
          "text": [
            " This is the thread for the value x 100 and for the value of i 0 \n",
            " This is the thread for the value x 100 and for the value of i 1 \n",
            " This is the thread for the value x 100 and for the value of i 2 \n",
            " This is the thread for the value x 100 and for the value of i 3 \n",
            " This is the thread for the value x 100 and for the value of i 4 \n",
            " This is the thread for the value x 10 and for the value of i 0 \n",
            " This is the thread for the value x 10 and for the value of i 1 \n",
            " This is the thread for the value x 10 and for the value of i 2  This is the thread for the value x 20 and for the value of i 0 \n",
            "\n",
            " This is the thread for the value x 10 and for the value of i 3  This is the thread for the value x 20 and for the value of i 1 \n",
            "\n",
            " This is the thread for the value x 5 and for the value of i 0 \n",
            " This is the thread for the value x 5 and for the value of i 1 \n",
            " This is the thread for the value x 5 and for the value of i 2 \n",
            " This is the thread for the value x 5 and for the value of i 3 \n",
            " This is the thread for the value x 5 and for the value of i 4 \n",
            " This is the thread for the value x 10 and for the value of i 4 \n",
            " This is the thread for the value x 20 and for the value of i 2 \n",
            " This is the thread for the value x 20 and for the value of i 3 \n",
            " This is the thread for the value x 20 and for the value of i 4 \n"
          ]
        }
      ]
    },
    {
      "cell_type": "code",
      "source": [
        "def test2(x) :\n",
        "    for i in range(5) :\n",
        "        print(\" test1 print the value of x %d and print the value of i %d \" %(x,i))\n",
        "        time.sleep(0.05)\n",
        "\n",
        "thread4 = [threading.Thread(target=test2 , args=(i,)) for i in [100 , 10,20,5]]\n",
        "for t in thread4:\n",
        "    t.start()"
      ],
      "metadata": {
        "colab": {
          "base_uri": "https://localhost:8080/"
        },
        "id": "NajC3H-bVf6R",
        "outputId": "0ea952e0-e3f0-4225-c4c1-bd633f4e89a0"
      },
      "execution_count": 5,
      "outputs": [
        {
          "output_type": "stream",
          "name": "stdout",
          "text": [
            " test1 print the value of x 100 and print the value of i 0 \n",
            " test1 print the value of x 10 and print the value of i 0 \n",
            " test1 print the value of x 20 and print the value of i 0 \n",
            " test1 print the value of x 5 and print the value of i 0 "
          ]
        }
      ]
    }
  ]
}
