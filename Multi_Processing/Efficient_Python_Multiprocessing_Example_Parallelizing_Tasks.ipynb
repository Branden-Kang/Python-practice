{
  "nbformat": 4,
  "nbformat_minor": 0,
  "metadata": {
    "colab": {
      "provenance": [],
      "authorship_tag": "ABX9TyP44NG0O8Wcehw+GbDpIhoR"
    },
    "kernelspec": {
      "name": "python3",
      "display_name": "Python 3"
    },
    "language_info": {
      "name": "python"
    }
  },
  "cells": [
    {
      "cell_type": "markdown",
      "source": [
        "[Reference](https://medium.com/@patelharsh7458/efficient-python-multiprocessing-example-parallelizing-tasks-99b0a6b838d4)"
      ],
      "metadata": {
        "id": "ptAlA1HFxrKb"
      }
    },
    {
      "cell_type": "code",
      "execution_count": 1,
      "metadata": {
        "colab": {
          "base_uri": "https://localhost:8080/"
        },
        "id": "gBsWaJ_TxiRe",
        "outputId": "433f4d76-4168-4269-d751-72d0d23e3893"
      },
      "outputs": [
        {
          "output_type": "stream",
          "name": "stdout",
          "text": [
            "Original numbers: [1, 2, 3, 4, 5, 6, 7, 8, 9, 10]\n",
            "Squared numbers: [1, 4, 9, 16, 25, 36, 49, 64, 81, 100]\n"
          ]
        }
      ],
      "source": [
        "import multiprocessing\n",
        "\n",
        "# Define a function to perform the task\n",
        "def calculate_square(number):\n",
        "    result = number * number\n",
        "    return result\n",
        "\n",
        "# Define a function for parallel processing\n",
        "def parallel_processing(numbers, pool_size):\n",
        "    # Create a multiprocessing pool\n",
        "    pool = multiprocessing.Pool(pool_size)\n",
        "\n",
        "    # Use the map function to distribute the work to the pool of processes\n",
        "    results = pool.map(calculate_square, numbers)\n",
        "\n",
        "    # Close the pool and wait for all tasks to complete\n",
        "    pool.close()\n",
        "    pool.join()\n",
        "\n",
        "    return results\n",
        "\n",
        "if __name__ == \"__main__\":\n",
        "    # Define the list of numbers to calculate squares\n",
        "    numbers_to_square = [1, 2, 3, 4, 5, 6, 7, 8, 9, 10]\n",
        "\n",
        "    # Specify the number of processes to use (adjust according to your CPU cores)\n",
        "    pool_size = multiprocessing.cpu_count()\n",
        "\n",
        "    # Perform the parallel processing\n",
        "    results = parallel_processing(numbers_to_square, pool_size)\n",
        "\n",
        "    # Print the results\n",
        "    print(\"Original numbers:\", numbers_to_square)\n",
        "    print(\"Squared numbers:\", results)"
      ]
    },
    {
      "cell_type": "code",
      "source": [
        "import multiprocessing\n",
        "\n",
        "# Function to put data into the queue\n",
        "def put_data(q):\n",
        "    for item in range(5):\n",
        "        q.put(item)\n",
        "    q.put(None)  # Use a sentinel to indicate the end of data\n",
        "\n",
        "# Function to get and process data from the queue\n",
        "def process_data(q):\n",
        "    while True:\n",
        "        item = q.get()\n",
        "        if item is None:\n",
        "            break  # Exit when the sentinel is encountered\n",
        "        print(f\"Processed: {item}\")\n",
        "\n",
        "if __name__ == \"__main__\":\n",
        "    # Create a multiprocessing queue\n",
        "    my_queue = multiprocessing.Queue()\n",
        "\n",
        "    # Create two processes to put and process data\n",
        "    put_process = multiprocessing.Process(target=put_data, args=(my_queue,))\n",
        "    process_process = multiprocessing.Process(target=process_data, args=(my_queue,))\n",
        "\n",
        "    # Start the processes\n",
        "    put_process.start()\n",
        "    process_process.start()\n",
        "\n",
        "    # Wait for both processes to finish\n",
        "    put_process.join()\n",
        "    process_process.join()\n",
        "\n",
        "    print(\"Both processes have finished.\")"
      ],
      "metadata": {
        "colab": {
          "base_uri": "https://localhost:8080/"
        },
        "id": "WHz-VJpIxtfl",
        "outputId": "56ac8f9c-a0cb-4809-88c7-4d0b841329af"
      },
      "execution_count": 2,
      "outputs": [
        {
          "output_type": "stream",
          "name": "stdout",
          "text": [
            "Processed: 0\n",
            "Processed: 1\n",
            "Processed: 2\n",
            "Processed: 3\n",
            "Processed: 4\n",
            "Both processes have finished.\n"
          ]
        }
      ]
    },
    {
      "cell_type": "code",
      "source": [
        "import multiprocessing\n",
        "\n",
        "# Function to increment a shared counter safely using a lock\n",
        "def increment_counter(counter, lock):\n",
        "    for _ in range(100000):\n",
        "        with lock:\n",
        "            counter.value += 1\n",
        "\n",
        "if __name__ == \"__main__\":\n",
        "    # Create a shared counter and a lock to protect it\n",
        "    counter = multiprocessing.Value(\"i\", 0)\n",
        "    lock = multiprocessing.Lock()\n",
        "\n",
        "    # Create two processes to increment the counter\n",
        "    process1 = multiprocessing.Process(target=increment_counter, args=(counter, lock))\n",
        "    process2 = multiprocessing.Process(target=increment_counter, args=(counter, lock))\n",
        "\n",
        "    # Start the processes\n",
        "    process1.start()\n",
        "    process2.start()\n",
        "\n",
        "    # Wait for both processes to finish\n",
        "    process1.join()\n",
        "    process2.join()\n",
        "\n",
        "    print(\"Counter:\", counter.value)"
      ],
      "metadata": {
        "colab": {
          "base_uri": "https://localhost:8080/"
        },
        "id": "Qy1M87mxxwsX",
        "outputId": "149d228a-c6e3-4c38-b088-adfcf68f4502"
      },
      "execution_count": 3,
      "outputs": [
        {
          "output_type": "stream",
          "name": "stdout",
          "text": [
            "Counter: 200000\n"
          ]
        }
      ]
    },
    {
      "cell_type": "code",
      "source": [
        "import multiprocessing\n",
        "\n",
        "def worker(d):\n",
        "    d[\"key\"] = \"value\"\n",
        "\n",
        "if __name__ == \"__main__\":\n",
        "    with multiprocessing.Manager() as manager:\n",
        "        shared_dict = manager.dict()\n",
        "        p = multiprocessing.Process(target=worker, args=(shared_dict,))\n",
        "        p.start()\n",
        "        p.join()\n",
        "        print(shared_dict)"
      ],
      "metadata": {
        "id": "bWLICPUdxx-1",
        "outputId": "3709e7e2-2a8d-4287-f539-de4c34be78f2",
        "colab": {
          "base_uri": "https://localhost:8080/"
        }
      },
      "execution_count": 4,
      "outputs": [
        {
          "output_type": "stream",
          "name": "stdout",
          "text": [
            "{'key': 'value'}\n"
          ]
        }
      ]
    }
  ]
}
