{
  "nbformat": 4,
  "nbformat_minor": 0,
  "metadata": {
    "colab": {
      "name": "Multithreaded HTTP requests in Python.ipynb",
      "provenance": [],
      "authorship_tag": "ABX9TyOaIQOR4Va5dsT+c1ESNlaD"
    },
    "kernelspec": {
      "name": "python3",
      "display_name": "Python 3"
    },
    "language_info": {
      "name": "python"
    }
  },
  "cells": [
    {
      "cell_type": "markdown",
      "source": [
        "[Reference](https://towardsdev.com/multithreaded-http-requests-in-python-453f07db98e1)"
      ],
      "metadata": {
        "id": "u78D-UMJMGWD"
      }
    },
    {
      "cell_type": "markdown",
      "source": [
        "# Part 1 — concurrent.futures & requests\n"
      ],
      "metadata": {
        "id": "A9IT9WY8MJnY"
      }
    },
    {
      "cell_type": "code",
      "source": [
        "!pip install aiohttp"
      ],
      "metadata": {
        "colab": {
          "base_uri": "https://localhost:8080/"
        },
        "id": "vEwM65mdMgTL",
        "outputId": "fab37768-8bba-4c44-8ef3-31e5cb1d64ad"
      },
      "execution_count": 11,
      "outputs": [
        {
          "output_type": "stream",
          "name": "stdout",
          "text": [
            "Collecting aiohttp\n",
            "  Downloading aiohttp-3.8.1-cp37-cp37m-manylinux_2_5_x86_64.manylinux1_x86_64.manylinux_2_12_x86_64.manylinux2010_x86_64.whl (1.1 MB)\n",
            "\u001b[K     |████████████████████████████████| 1.1 MB 12.3 MB/s \n",
            "\u001b[?25hCollecting yarl<2.0,>=1.0\n",
            "  Downloading yarl-1.7.2-cp37-cp37m-manylinux_2_5_x86_64.manylinux1_x86_64.manylinux_2_12_x86_64.manylinux2010_x86_64.whl (271 kB)\n",
            "\u001b[K     |████████████████████████████████| 271 kB 11.7 MB/s \n",
            "\u001b[?25hCollecting frozenlist>=1.1.1\n",
            "  Downloading frozenlist-1.3.0-cp37-cp37m-manylinux_2_5_x86_64.manylinux1_x86_64.manylinux_2_17_x86_64.manylinux2014_x86_64.whl (144 kB)\n",
            "\u001b[K     |████████████████████████████████| 144 kB 54.3 MB/s \n",
            "\u001b[?25hRequirement already satisfied: typing-extensions>=3.7.4 in /usr/local/lib/python3.7/dist-packages (from aiohttp) (3.10.0.2)\n",
            "Collecting aiosignal>=1.1.2\n",
            "  Downloading aiosignal-1.2.0-py3-none-any.whl (8.2 kB)\n",
            "Requirement already satisfied: attrs>=17.3.0 in /usr/local/lib/python3.7/dist-packages (from aiohttp) (21.4.0)\n",
            "Collecting asynctest==0.13.0\n",
            "  Downloading asynctest-0.13.0-py3-none-any.whl (26 kB)\n",
            "Requirement already satisfied: charset-normalizer<3.0,>=2.0 in /usr/local/lib/python3.7/dist-packages (from aiohttp) (2.0.12)\n",
            "Collecting multidict<7.0,>=4.5\n",
            "  Downloading multidict-6.0.2-cp37-cp37m-manylinux_2_17_x86_64.manylinux2014_x86_64.whl (94 kB)\n",
            "\u001b[K     |████████████████████████████████| 94 kB 3.5 MB/s \n",
            "\u001b[?25hCollecting async-timeout<5.0,>=4.0.0a3\n",
            "  Downloading async_timeout-4.0.2-py3-none-any.whl (5.8 kB)\n",
            "Requirement already satisfied: idna>=2.0 in /usr/local/lib/python3.7/dist-packages (from yarl<2.0,>=1.0->aiohttp) (2.10)\n",
            "Installing collected packages: multidict, frozenlist, yarl, asynctest, async-timeout, aiosignal, aiohttp\n",
            "Successfully installed aiohttp-3.8.1 aiosignal-1.2.0 async-timeout-4.0.2 asynctest-0.13.0 frozenlist-1.3.0 multidict-6.0.2 yarl-1.7.2\n"
          ]
        }
      ]
    },
    {
      "cell_type": "code",
      "source": [
        "import asyncio\n",
        "import json\n",
        "import time\n",
        "from typing import Dict, Any, List, Tuple\n",
        "import requests\n",
        "from concurrent.futures import ThreadPoolExecutor, ProcessPoolExecutor\n",
        "from itertools import repeat\n",
        "from aiohttp import ClientSession"
      ],
      "metadata": {
        "id": "IA-822ChMfPh"
      },
      "execution_count": 12,
      "outputs": []
    },
    {
      "cell_type": "code",
      "execution_count": 13,
      "metadata": {
        "id": "1cWNnbxIL6ph"
      },
      "outputs": [],
      "source": [
        "def http_get_with_requests(url: str, headers: Dict = {}, proxies: Dict = {}, timeout: int = 10) -> (int, Dict[str, Any], bytes):\n",
        "    response = requests.get(url, headers=headers, proxies=proxies, timeout=timeout)\n",
        "\n",
        "    response_json = None\n",
        "    try:\n",
        "        response_json = response.json()\n",
        "    except:\n",
        "        pass\n",
        "\n",
        "    response_content = None\n",
        "    try:\n",
        "        response_content = response.content\n",
        "    except:\n",
        "        pass\n",
        "\n",
        "    return (response.status_code, response_json, response_content)"
      ]
    },
    {
      "cell_type": "code",
      "source": [
        "def http_get_with_requests_parallel(list_of_urls: List[str], headers: Dict = {}, proxies: Dict = {}, timeout: int = 10) -> (List[Tuple[int, Dict[str, Any], bytes]], float):\n",
        "    t1 = time.time()\n",
        "    results = []\n",
        "    executor = ThreadPoolExecutor(max_workers=100)\n",
        "    for result in executor.map(http_get_with_requests, list_of_urls, repeat(headers), repeat(proxies), repeat(timeout)):\n",
        "        results.append(result)\n",
        "    t2 = time.time()\n",
        "    t = t2 - t1\n",
        "    return results, t"
      ],
      "metadata": {
        "id": "2WANL9mzMLo7"
      },
      "execution_count": 14,
      "outputs": []
    },
    {
      "cell_type": "markdown",
      "source": [
        "# Part 2 — asyncio & aiohttp\n"
      ],
      "metadata": {
        "id": "wITWgQXgMN9v"
      }
    },
    {
      "cell_type": "code",
      "source": [
        "async def http_get_with_aiohttp(session: ClientSession, url: str, headers: Dict = {}, proxy: str = None, timeout: int = 10) -> (int, Dict[str, Any], bytes):\n",
        "    response = await session.get(url=url, headers=headers, proxy=proxy, timeout=timeout)\n",
        "\n",
        "    response_json = None\n",
        "    try:\n",
        "        response_json = await response.json(content_type=None)\n",
        "    except json.decoder.JSONDecodeError as e:\n",
        "        pass\n",
        "\n",
        "    response_content = None\n",
        "    try:\n",
        "        response_content = await response.read()\n",
        "    except:\n",
        "        pass\n",
        "\n",
        "    return (response.status, response_json, response_content)"
      ],
      "metadata": {
        "id": "OsLp5pqhMM-M"
      },
      "execution_count": 15,
      "outputs": []
    },
    {
      "cell_type": "code",
      "source": [
        "async def http_get_with_aiohttp_parallel(session: ClientSession, list_of_urls: List[str], headers: Dict = {}, proxy: str = None, timeout: int = 10) -> (List[Tuple[int, Dict[str, Any], bytes]], float):\n",
        "    t1 = time.time()\n",
        "    results = await asyncio.gather(*[http_get_with_aiohttp(session, url, headers, proxy, timeout) for url in list_of_urls])\n",
        "    t2 = time.time()\n",
        "    t = t2 - t1\n",
        "    return results, t"
      ],
      "metadata": {
        "id": "aCVAs_2PMSRH"
      },
      "execution_count": 16,
      "outputs": []
    },
    {
      "cell_type": "markdown",
      "source": [
        "# Part 3 — Benchmarking\n"
      ],
      "metadata": {
        "id": "GMcYv9wcMVID"
      }
    },
    {
      "cell_type": "code",
      "source": [
        "async def main():\n",
        "    print('--------------------')\n",
        "\n",
        "    # URL list\n",
        "    urls = [\"https://api.myip.com/\" for i in range(0, 1000)]\n",
        "\n",
        "    # Benchmark aiohttp\n",
        "    session = ClientSession()\n",
        "    speeds_aiohttp = []\n",
        "    for i in range(0, 10):\n",
        "        results, t = await http_get_with_aiohttp_parallel(session, urls)\n",
        "        v = len(urls) / t\n",
        "        print('AIOHTTP: Took ' + str(round(t, 2)) + ' s, with speed of ' + str(round(v, 2)) + ' r/s')\n",
        "        speeds_aiohttp.append(v)\n",
        "    await session.close()\n",
        "\n",
        "    print('--------------------')\n",
        "\n",
        "    # Benchmark requests\n",
        "    speeds_requests = []\n",
        "    for i in range(0, 10):\n",
        "        results, t = http_get_with_requests_parallel(urls)\n",
        "        v = len(urls) / t\n",
        "        print('REQUESTS: Took ' + str(round(t, 2)) + ' s, with speed of ' + str(round(v, 2)) + ' r/s')\n",
        "        speeds_requests.append(v)\n",
        "\n",
        "    # Calculate averages\n",
        "    avg_speed_aiohttp = sum(speeds_aiohttp) / len(speeds_aiohttp)\n",
        "    avg_speed_requests = sum(speeds_requests) / len(speeds_requests)\n",
        "    print('--------------------')\n",
        "    print('AVG SPEED AIOHTTP: ' + str(round(avg_speed_aiohttp, 2)) + ' r/s')\n",
        "    print('AVG SPEED REQUESTS: ' + str(round(avg_speed_requests, 2)) + ' r/s')"
      ],
      "metadata": {
        "id": "Rm_0cwFWMT84"
      },
      "execution_count": 17,
      "outputs": []
    },
    {
      "cell_type": "code",
      "source": [
        "asyncio.run(main())"
      ],
      "metadata": {
        "id": "uksRn0EgMXLW"
      },
      "execution_count": 19,
      "outputs": []
    }
  ]
}