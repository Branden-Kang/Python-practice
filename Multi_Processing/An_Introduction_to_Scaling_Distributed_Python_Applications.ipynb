{
  "nbformat": 4,
  "nbformat_minor": 0,
  "metadata": {
    "colab": {
      "provenance": [],
      "authorship_tag": "ABX9TyOCs6CsdkjxsnZ+1KEm6afZ"
    },
    "kernelspec": {
      "name": "python3",
      "display_name": "Python 3"
    },
    "language_info": {
      "name": "python"
    }
  },
  "cells": [
    {
      "cell_type": "markdown",
      "source": [
        "[Reference](https://learningdaily.dev/an-introduction-to-scaling-distributed-python-applications-7a87da2d868f)"
      ],
      "metadata": {
        "id": "ceVFBldC6ApK"
      }
    },
    {
      "cell_type": "code",
      "execution_count": 1,
      "metadata": {
        "colab": {
          "base_uri": "https://localhost:8080/"
        },
        "id": "X7bYJEr01tQP",
        "outputId": "73c4cf37-aeb9-4d7d-a06e-fb0de06de3f3"
      },
      "outputs": [
        {
          "output_type": "stream",
          "name": "stdout",
          "text": [
            "hellothread started\n",
            "\n"
          ]
        }
      ],
      "source": [
        "import threading\n",
        "def print_something(something):\n",
        "    print(something)\n",
        "t = threading.Thread(target=print_something, args=(\"hello\",))\n",
        "t.start()\n",
        "print(\"thread started\")\n",
        "t.join()"
      ]
    },
    {
      "cell_type": "code",
      "source": [
        "import threading\n",
        "def print_something(something):\n",
        "    print(something)\n",
        "t = threading.Thread(target=print_something, args=(\"hello\",))\n",
        "t.daemon = True\n",
        "t.start()\n",
        "print(\"thread started\")"
      ],
      "metadata": {
        "colab": {
          "base_uri": "https://localhost:8080/"
        },
        "id": "AfeltkHy6NYZ",
        "outputId": "d1ce9d03-5d88-419f-b81d-3db5ee65993e"
      },
      "execution_count": 2,
      "outputs": [
        {
          "output_type": "stream",
          "name": "stdout",
          "text": [
            "hello\n",
            "thread started\n"
          ]
        }
      ]
    },
    {
      "cell_type": "code",
      "source": [
        "import random\n",
        "import multiprocessing\n",
        "def compute(results):\n",
        "    results.append(sum(\n",
        "        [random.randint(1, 100) for i in range(1000000)]))\n",
        "if __name__ == \"__main__\":\n",
        "    with multiprocessing.Manager() as manager:\n",
        "        results = manager.list()\n",
        "        workers = [multiprocessing.Process(target=compute, args=(results,))\n",
        "                   for x in range(8)]\n",
        "        for worker in workers:\n",
        "            worker.start()\n",
        "        for worker in workers:\n",
        "            worker.join()\n",
        "        print(\"Results: %s\" % results)"
      ],
      "metadata": {
        "colab": {
          "base_uri": "https://localhost:8080/"
        },
        "id": "afkG9QT-6O-Y",
        "outputId": "f7cd96d1-6d78-4f87-b876-3036b726f786"
      },
      "execution_count": 3,
      "outputs": [
        {
          "output_type": "stream",
          "name": "stdout",
          "text": [
            "Results: [50541927, 50537705, 50460246, 50468711, 50564449, 50549544, 50482926, 50512707]\n"
          ]
        }
      ]
    },
    {
      "cell_type": "code",
      "source": [
        "import multiprocessing\n",
        "import random\n",
        "def compute(n):\n",
        "    return sum(\n",
        "        [random.randint(1, 100) for i in range(1000000)])\n",
        "if __name__ == \"__main__\":\n",
        "    # Start 8 workers\n",
        "    pool = multiprocessing.Pool(processes=8)\n",
        "    print(\"Results: %s\" % pool.map(compute, range(8)))"
      ],
      "metadata": {
        "colab": {
          "base_uri": "https://localhost:8080/"
        },
        "id": "H9GyaDzm6Q4Q",
        "outputId": "fe928b6d-e747-48b8-afbc-3791ac6f5b56"
      },
      "execution_count": 4,
      "outputs": [
        {
          "output_type": "stream",
          "name": "stdout",
          "text": [
            "Results: [50493912, 50530072, 50519792, 50532288, 50446482, 50510540, 50533191, 50512362]\n"
          ]
        }
      ]
    },
    {
      "cell_type": "code",
      "source": [
        "!pip install cotyledon"
      ],
      "metadata": {
        "colab": {
          "base_uri": "https://localhost:8080/"
        },
        "id": "BkcXUN6y6Z6Y",
        "outputId": "a7114883-5eb5-4a3b-a472-c60f64bc6a69"
      },
      "execution_count": 5,
      "outputs": [
        {
          "output_type": "stream",
          "name": "stdout",
          "text": [
            "Looking in indexes: https://pypi.org/simple, https://us-python.pkg.dev/colab-wheels/public/simple/\n",
            "Collecting cotyledon\n",
            "  Downloading cotyledon-1.7.3-py2.py3-none-any.whl (42 kB)\n",
            "\u001b[K     |████████████████████████████████| 42 kB 1.0 MB/s \n",
            "\u001b[?25hCollecting setproctitle\n",
            "  Downloading setproctitle-1.3.2-cp38-cp38-manylinux_2_5_x86_64.manylinux1_x86_64.manylinux_2_17_x86_64.manylinux2014_x86_64.whl (31 kB)\n",
            "Installing collected packages: setproctitle, cotyledon\n",
            "Successfully installed cotyledon-1.7.3 setproctitle-1.3.2\n"
          ]
        }
      ]
    },
    {
      "cell_type": "code",
      "source": [
        "# import threading\n",
        "# import time\n",
        "# import cotyledon\n",
        "# class PrinterService(cotyledon.Service):\n",
        "#     name = \"printer\"\n",
        "#     def __init__(self, worker_id):\n",
        "#         super(PrinterService, self).__init__(worker_id)\n",
        "#         self._shutdown = threading.Event()\n",
        "#     def run(self):\n",
        "#         while not self._shutdown.is_set():\n",
        "#             print(\"Doing stuff\")\n",
        "#             time.sleep(1)\n",
        "#     def terminate(self):\n",
        "#         self._shutdown.set()\n",
        "# # Create a manager\n",
        "# manager = cotyledon.ServiceManager()\n",
        "# # Add 2 PrinterService to run\n",
        "# manager.add(PrinterService, 2)\n",
        "# # Run all of that\n",
        "# manager.run()"
      ],
      "metadata": {
        "id": "-jcF1LS36SZQ"
      },
      "execution_count": 6,
      "outputs": []
    },
    {
      "cell_type": "code",
      "source": [
        "# import asyncio\n",
        "# async def hello_world():\n",
        "#     print(\"hello world!\")\n",
        "#     return 42\n",
        "# hello_world_coroutine = hello_world()\n",
        "# print(hello_world_coroutine)\n",
        "# event_loop = asyncio.get_event_loop()\n",
        "# try:\n",
        "#     print(\"entering event loop\")\n",
        "#     result = event_loop.run_until_complete(hello_world_coroutine)\n",
        "#     print(result)\n",
        "# finally:\n",
        "#     event_loop.close()"
      ],
      "metadata": {
        "id": "UDgwiQvs6UzA"
      },
      "execution_count": 8,
      "outputs": []
    }
  ]
}
