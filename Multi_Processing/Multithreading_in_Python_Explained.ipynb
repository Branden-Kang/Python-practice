{
  "nbformat": 4,
  "nbformat_minor": 0,
  "metadata": {
    "colab": {
      "provenance": [],
      "authorship_tag": "ABX9TyMC4PBgVFexHXea5HJIA6p2"
    },
    "kernelspec": {
      "name": "python3",
      "display_name": "Python 3"
    },
    "language_info": {
      "name": "python"
    }
  },
  "cells": [
    {
      "cell_type": "markdown",
      "source": [
        "[Reference](https://medium.com/@aryagupta2108.ag/multithreading-in-python-explained-735d9189971b)"
      ],
      "metadata": {
        "id": "TtmkYjC0lDvb"
      }
    },
    {
      "cell_type": "code",
      "source": [
        "import threading\n",
        "\n",
        "def hello():\n",
        "  print(\"Hello threading!\")\n",
        "\n",
        "my_thread = threading.Thread(target=hello) # target param reference the function hello\n",
        "\n",
        "# starting a thread\n",
        "my_thread.start() # prints 'Hello threading!'"
      ],
      "metadata": {
        "colab": {
          "base_uri": "https://localhost:8080/"
        },
        "id": "O1gmXj4_kpOV",
        "outputId": "8150fc06-46b1-42bc-9c84-b6a5c33626eb"
      },
      "execution_count": 1,
      "outputs": [
        {
          "output_type": "stream",
          "name": "stdout",
          "text": [
            "Hello threading!\n"
          ]
        }
      ]
    },
    {
      "cell_type": "code",
      "source": [
        "import threading\n",
        "import time\n",
        "\n",
        "# Shared flag to control the thread\n",
        "stop_flag = False\n",
        "\n",
        "def worker():\n",
        "    while not stop_flag:\n",
        "        print(\"Thread is running...\")\n",
        "        time.sleep(1)\n",
        "    print(\"Thread stopped!\")\n",
        "\n",
        "# Create and start the thread\n",
        "thread = threading.Thread(target=worker)\n",
        "thread.start()\n",
        "\n",
        "# Let the thread run for 5 seconds\n",
        "time.sleep(5)\n",
        "\n",
        "# Set the stop flag to stop the thread\n",
        "stop_flag = True\n",
        "\n",
        "# Wait for the thread to finish\n",
        "thread.join()\n",
        "print(\"Main program finished.\")"
      ],
      "metadata": {
        "colab": {
          "base_uri": "https://localhost:8080/"
        },
        "id": "E0xx79sIkvZw",
        "outputId": "7f2cac3c-342b-4448-b32f-43d051ad9d4e"
      },
      "execution_count": 2,
      "outputs": [
        {
          "output_type": "stream",
          "name": "stdout",
          "text": [
            "Thread is running...\n",
            "Thread is running...\n",
            "Thread is running...\n",
            "Thread is running...\n",
            "Thread is running...\n",
            "Thread stopped!\n",
            "Main program finished.\n"
          ]
        }
      ]
    },
    {
      "cell_type": "code",
      "source": [
        "import threading\n",
        "import time\n",
        "\n",
        "def worker():\n",
        "    for i in range(10):\n",
        "        print(f\"Thread is running... {i}\")\n",
        "        time.sleep(1)\n",
        "\n",
        "# Create and start the thread\n",
        "thread = threading.Thread(target=worker)\n",
        "thread.start()\n",
        "\n",
        "# Use join with a timeout to stop the thread after 5 seconds\n",
        "thread.join(timeout=5)\n",
        "\n",
        "if thread.is_alive():\n",
        "    print(\"Thread is still running after timeout. Stopping the main program.\")\n",
        "else:\n",
        "    print(\"Thread completed within the timeout.\")"
      ],
      "metadata": {
        "colab": {
          "base_uri": "https://localhost:8080/"
        },
        "id": "zUdI9z-FlKaB",
        "outputId": "23bb7338-3fb3-4fe0-81fd-55a01bd10888"
      },
      "execution_count": 3,
      "outputs": [
        {
          "output_type": "stream",
          "name": "stdout",
          "text": [
            "Thread is running... 0\n",
            "Thread is running... 1\n",
            "Thread is running... 2\n",
            "Thread is running... 3\n",
            "Thread is running... 4\n",
            "Thread is still running after timeout. Stopping the main program.\n"
          ]
        }
      ]
    },
    {
      "cell_type": "code",
      "source": [
        "import threading\n",
        "import time\n",
        "\n",
        "def worker():\n",
        "    for i in range(10):\n",
        "        print(f\"Thread is running... {i}\")\n",
        "        time.sleep(1)\n",
        "\n",
        "# Create and start the daemon thread\n",
        "thread = threading.Thread(target=worker, daemon=True)\n",
        "thread.start()\n",
        "\n",
        "# Let the thread run for 5 seconds\n",
        "time.sleep(5)\n",
        "\n",
        "print(\"Main program finished. Daemon thread will stop automatically.\")"
      ],
      "metadata": {
        "colab": {
          "base_uri": "https://localhost:8080/"
        },
        "id": "N8444KhrlNAL",
        "outputId": "21bb2c95-726c-4c5c-b7c3-127036eb0ef4"
      },
      "execution_count": 4,
      "outputs": [
        {
          "output_type": "stream",
          "name": "stdout",
          "text": [
            "Thread is running... 0\n",
            "Thread is running... 6\n",
            "Thread is running... 1\n",
            "Thread is running... 7\n",
            "Thread is running... 2\n",
            "Thread is running... 8\n",
            "Thread is running... 3\n",
            "Thread is running... 9\n",
            "Thread is running... 4\n",
            "Main program finished. Daemon thread will stop automatically.\n",
            "Thread is running... 5\n"
          ]
        }
      ]
    },
    {
      "cell_type": "code",
      "source": [
        "import threading\n",
        "import time\n",
        "\n",
        "# Define a worker function for the thread\n",
        "def worker():\n",
        "    print(f\"Thread '{threading.current_thread().getName()}' is starting...\")\n",
        "    for i in range(5):\n",
        "        print(f\"Thread '{threading.current_thread().getName()}' is running... {i}\")\n",
        "        time.sleep(1)\n",
        "    print(f\"Thread '{threading.current_thread().getName()}' is finished.\")\n",
        "\n",
        "# Create a thread\n",
        "thread = threading.Thread(target=worker)\n",
        "\n",
        "# Set the name of the thread\n",
        "thread.setName(\"MyWorkerThread\")\n",
        "\n",
        "# Get the name of the thread\n",
        "print(f\"Thread name before starting: {thread.getName()}\")\n",
        "\n",
        "# Check if the thread is alive (before starting)\n",
        "print(f\"Is thread alive before starting? {thread.is_alive()}\")\n",
        "\n",
        "# Start the thread\n",
        "print(\"Starting the thread...\")\n",
        "thread.start()\n",
        "\n",
        "# Check if the thread is alive (after starting)\n",
        "print(f\"Is thread alive after starting? {thread.is_alive()}\")\n",
        "\n",
        "# Wait for the thread to finish using join\n",
        "print(\"Main program is waiting for the thread to finish...\")\n",
        "thread.join()\n",
        "\n",
        "# Check if the thread is alive (after join)\n",
        "print(f\"Is thread alive after join? {thread.is_alive()}\")\n",
        "\n",
        "# Demonstrate running the function in the current thread\n",
        "print(\"Running the worker function in the main thread...\")\n",
        "worker()\n",
        "\n",
        "print(\"Main program finished.\")"
      ],
      "metadata": {
        "colab": {
          "base_uri": "https://localhost:8080/"
        },
        "id": "uGHEAjOjlOp_",
        "outputId": "548acb2f-5d48-425d-f842-856a098f8428"
      },
      "execution_count": 5,
      "outputs": [
        {
          "output_type": "stream",
          "name": "stderr",
          "text": [
            "<ipython-input-5-4256fb28e3b5>:16: DeprecationWarning: setName() is deprecated, set the name attribute instead\n",
            "  thread.setName(\"MyWorkerThread\")\n",
            "<ipython-input-5-4256fb28e3b5>:19: DeprecationWarning: getName() is deprecated, get the name attribute instead\n",
            "  print(f\"Thread name before starting: {thread.getName()}\")\n",
            "<ipython-input-5-4256fb28e3b5>:6: DeprecationWarning: getName() is deprecated, get the name attribute instead\n",
            "  print(f\"Thread '{threading.current_thread().getName()}' is starting...\")\n",
            "<ipython-input-5-4256fb28e3b5>:8: DeprecationWarning: getName() is deprecated, get the name attribute instead\n",
            "  print(f\"Thread '{threading.current_thread().getName()}' is running... {i}\")\n"
          ]
        },
        {
          "output_type": "stream",
          "name": "stdout",
          "text": [
            "Thread name before starting: MyWorkerThread\n",
            "Is thread alive before starting? False\n",
            "Starting the thread...\n",
            "Is thread alive after starting? True\n",
            "Main program is waiting for the thread to finish...Thread 'MyWorkerThread' is starting...\n",
            "Thread 'MyWorkerThread' is running... 0\n",
            "\n",
            "Thread 'MyWorkerThread' is running... 1\n",
            "Thread 'MyWorkerThread' is running... 2\n",
            "Thread 'MyWorkerThread' is running... 3\n",
            "Thread 'MyWorkerThread' is running... 4\n"
          ]
        },
        {
          "output_type": "stream",
          "name": "stderr",
          "text": [
            "<ipython-input-5-4256fb28e3b5>:10: DeprecationWarning: getName() is deprecated, get the name attribute instead\n",
            "  print(f\"Thread '{threading.current_thread().getName()}' is finished.\")\n"
          ]
        },
        {
          "output_type": "stream",
          "name": "stdout",
          "text": [
            "Thread 'MyWorkerThread' is finished.\n",
            "Is thread alive after join? False\n",
            "Running the worker function in the main thread...\n",
            "Thread 'MainThread' is starting...\n",
            "Thread 'MainThread' is running... 0\n",
            "Thread 'MainThread' is running... 1\n",
            "Thread 'MainThread' is running... 2\n",
            "Thread 'MainThread' is running... 3\n",
            "Thread 'MainThread' is running... 4\n",
            "Thread 'MainThread' is finished.\n",
            "Main program finished.\n"
          ]
        }
      ]
    }
  ]
}
