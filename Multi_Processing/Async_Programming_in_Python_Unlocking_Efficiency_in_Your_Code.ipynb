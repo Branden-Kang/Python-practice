{
  "nbformat": 4,
  "nbformat_minor": 0,
  "metadata": {
    "colab": {
      "provenance": [],
      "authorship_tag": "ABX9TyPvMm7YyhmkHtImDseaKnHZ"
    },
    "kernelspec": {
      "name": "python3",
      "display_name": "Python 3"
    },
    "language_info": {
      "name": "python"
    }
  },
  "cells": [
    {
      "cell_type": "markdown",
      "source": [
        "[Reference](https://medium.com/@piyushkashyap045/async-programming-in-python-unlocking-efficiency-in-your-code-0e428061988a)"
      ],
      "metadata": {
        "id": "b3HExO7H6R8x"
      }
    },
    {
      "cell_type": "code",
      "execution_count": 2,
      "metadata": {
        "id": "QQqVdGWK6OvD"
      },
      "outputs": [],
      "source": [
        "import asyncio\n",
        "\n",
        "async def task():\n",
        "    print(\"Starting task\")\n",
        "    await asyncio.sleep(1)  # Simulate a delay\n",
        "    print(\"Task finished\")\n",
        "\n",
        "# Run the event loop\n",
        "asyncio.run(task())"
      ]
    },
    {
      "cell_type": "markdown",
      "source": [
        "# Coroutines: Building Blocks of Async Code"
      ],
      "metadata": {
        "id": "Dfi12jAo6kkq"
      }
    },
    {
      "cell_type": "code",
      "source": [
        "async def greet():\n",
        "    print(\"Hello\")\n",
        "    await asyncio.sleep(1)\n",
        "    print(\"World!\")\n",
        "\n",
        "asyncio.run(greet())"
      ],
      "metadata": {
        "id": "bHAwJEcS6b3p"
      },
      "execution_count": 3,
      "outputs": []
    },
    {
      "cell_type": "markdown",
      "source": [
        "# Working with Tasks in Asyncio"
      ],
      "metadata": {
        "id": "aD3jl2Ii6mF7"
      }
    },
    {
      "cell_type": "code",
      "source": [
        "async def fetch_data(id, delay):\n",
        "    await asyncio.sleep(delay)\n",
        "    return f\"Data {id} fetched after {delay}s\"\n",
        "\n",
        "async def main():\n",
        "    task1 = asyncio.create_task(fetch_data(1, 2))\n",
        "    task2 = asyncio.create_task(fetch_data(2, 3))\n",
        "    await task1\n",
        "    await task2\n",
        "\n",
        "asyncio.run(main())"
      ],
      "metadata": {
        "id": "MVssyQCl6iTt"
      },
      "execution_count": 4,
      "outputs": []
    },
    {
      "cell_type": "markdown",
      "source": [
        "# Using Futures in Python"
      ],
      "metadata": {
        "id": "VLpcRpyT6vsQ"
      }
    },
    {
      "cell_type": "code",
      "source": [
        "async def fetch_data():\n",
        "    return \"Fetched data\"\n",
        "\n",
        "async def main():\n",
        "    future = asyncio.ensure_future(fetch_data())\n",
        "    result = await future\n",
        "    print(result)\n",
        "asyncio.run(main())"
      ],
      "metadata": {
        "id": "qRWoMgoT6tj1"
      },
      "execution_count": 5,
      "outputs": []
    },
    {
      "cell_type": "markdown",
      "source": [
        "# Synchronization Tools for Asyncio: Locks, Semaphores, and Events"
      ],
      "metadata": {
        "id": "H7Fudv8O613X"
      }
    },
    {
      "cell_type": "code",
      "source": [
        "# Create a lock\n",
        "lock = asyncio.Lock()\n",
        "async def protected_task(id):\n",
        "    print(f\"Task {id} is waiting to acquire the lock.\")\n",
        "    async with lock:\n",
        "        print(f\"Task {id} has acquired the lock.\")\n",
        "        await asyncio.sleep(1)\n",
        "    print(f\"Task {id} has released the lock.\")\n",
        "async def main():\n",
        "    tasks = [protected_task(i) for i in range(3)]\n",
        "    await asyncio.gather(*tasks)\n",
        "asyncio.run(main())"
      ],
      "metadata": {
        "id": "iCSuL4iO6zvW"
      },
      "execution_count": 6,
      "outputs": []
    },
    {
      "cell_type": "code",
      "source": [
        "# Create a lock\n",
        "lock = asyncio.Lock()\n",
        "async def protected_task(id):\n",
        "    print(f\"Task {id} is waiting to acquire the lock.\")\n",
        "    async with lock:\n",
        "        print(f\"Task {id} has acquired the lock.\")\n",
        "        await asyncio.sleep(1)\n",
        "    print(f\"Task {id} has released the lock.\")\n",
        "async def main():\n",
        "    tasks = [protected_task(i) for i in range(3)]\n",
        "    await asyncio.gather(*tasks)\n",
        "asyncio.run(main())"
      ],
      "metadata": {
        "id": "91gKomYH633E"
      },
      "execution_count": 7,
      "outputs": []
    }
  ]
}
