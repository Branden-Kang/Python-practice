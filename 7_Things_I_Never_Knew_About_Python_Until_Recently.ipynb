{
  "nbformat": 4,
  "nbformat_minor": 0,
  "metadata": {
    "colab": {
      "name": "7 Things I Never Knew About Python Until Recently.ipynb",
      "provenance": [],
      "collapsed_sections": [],
      "authorship_tag": "ABX9TyMEtXMMGdEzFgbBhPrqSOFo"
    },
    "kernelspec": {
      "name": "python3",
      "display_name": "Python 3"
    },
    "language_info": {
      "name": "python"
    }
  },
  "cells": [
    {
      "cell_type": "markdown",
      "source": [
        "[Reference](https://python.plainenglish.io/7-things-i-knew-about-python-only-after-5-years-83408647d05c?gi=140b26d81223)"
      ],
      "metadata": {
        "id": "ZNd2CpwSx7au"
      }
    },
    {
      "cell_type": "markdown",
      "source": [
        "# 1) Private Variables In Classes Are Not Really Private"
      ],
      "metadata": {
        "id": "0Zl_2A_0x9Z5"
      }
    },
    {
      "cell_type": "code",
      "execution_count": 1,
      "metadata": {
        "id": "usAeK1GJx6FL"
      },
      "outputs": [],
      "source": [
        "class Dog():\n",
        "    def __init__(self, name):\n",
        "        self.__name = name    \n",
        "        \n",
        "    @property\n",
        "    def name(self):\n",
        "        return self.__name"
      ]
    },
    {
      "cell_type": "code",
      "source": [
        "dog = Dog(\"rocky\")\n",
        "print(dog.__dict__)   # {'_Dog__name': 'rocky'}"
      ],
      "metadata": {
        "colab": {
          "base_uri": "https://localhost:8080/"
        },
        "id": "5vX1sp0qx_V-",
        "outputId": "4f30e65d-40ca-43d9-d716-3a5ec056e3a9"
      },
      "execution_count": 2,
      "outputs": [
        {
          "output_type": "stream",
          "name": "stdout",
          "text": [
            "{'_Dog__name': 'rocky'}\n"
          ]
        }
      ]
    },
    {
      "cell_type": "code",
      "source": [
        "dog.__dict__[\"_Dog__name\"] = \"fifi\"\n",
        "print(dog.name)"
      ],
      "metadata": {
        "colab": {
          "base_uri": "https://localhost:8080/"
        },
        "id": "LIzzkTSryA5f",
        "outputId": "37c59253-2092-477e-abbc-9f3769d35571"
      },
      "execution_count": 3,
      "outputs": [
        {
          "output_type": "stream",
          "name": "stdout",
          "text": [
            "fifi\n"
          ]
        }
      ]
    },
    {
      "cell_type": "markdown",
      "source": [
        "# 2) We Can Use type() To Create Classes Without The ‘class’ Keyword"
      ],
      "metadata": {
        "id": "Xgtsz-IsyIuP"
      }
    },
    {
      "cell_type": "code",
      "source": [
        "class Dog():\n",
        "    def __init__(self, name, age):\n",
        "        self.name = name\n",
        "        self.age = age    \n",
        "        \n",
        "    def bark(self):\n",
        "        print(\"woof\")\n",
        "    \n",
        "# Dog = type(\"Dog\", (), {\"__init__\":init, \"bark\":bark})"
      ],
      "metadata": {
        "id": "-CT09kifyF7c"
      },
      "execution_count": 4,
      "outputs": []
    },
    {
      "cell_type": "markdown",
      "source": [
        "# 3) We Get This If We Add A List To Itself"
      ],
      "metadata": {
        "id": "_UKESTt5yiLr"
      }
    },
    {
      "cell_type": "code",
      "source": [
        "lis = [4,5,6]\n",
        "lis.append(lis)\n",
        "print(lis) # [4, 5, 6, [...]]"
      ],
      "metadata": {
        "colab": {
          "base_uri": "https://localhost:8080/"
        },
        "id": "zzIUkLc7yLyu",
        "outputId": "7d545aa7-c4c3-41b1-f6a4-dd5a66c8d8e6"
      },
      "execution_count": 5,
      "outputs": [
        {
          "output_type": "stream",
          "name": "stdout",
          "text": [
            "[4, 5, 6, [...]]\n"
          ]
        }
      ]
    },
    {
      "cell_type": "markdown",
      "source": [
        "# 4) Infinity Values In Python"
      ],
      "metadata": {
        "id": "c1JyhxfLylXB"
      }
    },
    {
      "cell_type": "code",
      "source": [
        "a = float(\"inf\")\n",
        "b = float(\"-inf\")\n",
        "print(a, b)   # inf -inf"
      ],
      "metadata": {
        "colab": {
          "base_uri": "https://localhost:8080/"
        },
        "id": "cvQDgPueyWk8",
        "outputId": "04fcae29-df69-48fb-9b76-1a4a1e3eaa8f"
      },
      "execution_count": 6,
      "outputs": [
        {
          "output_type": "stream",
          "name": "stdout",
          "text": [
            "inf -inf\n"
          ]
        }
      ]
    },
    {
      "cell_type": "code",
      "source": [
        "print(10**100000 > float(\"inf\"))      # False\n",
        "print(-(10**10000) < float(\"-inf\"))   # False"
      ],
      "metadata": {
        "colab": {
          "base_uri": "https://localhost:8080/"
        },
        "id": "6vD6iqwNynDC",
        "outputId": "aa4f0460-c1b1-4e6c-e1e8-c3c738ba2e03"
      },
      "execution_count": 7,
      "outputs": [
        {
          "output_type": "stream",
          "name": "stdout",
          "text": [
            "False\n",
            "False\n"
          ]
        }
      ]
    },
    {
      "cell_type": "markdown",
      "source": [
        "# 5) We Can Use Classes As Decorators"
      ],
      "metadata": {
        "id": "G4Su7jCoyqQx"
      }
    },
    {
      "cell_type": "code",
      "source": [
        "def hello(name):\n",
        "    return \"hello \" + name\n",
        "    \n",
        "print(hello(\"fifi\"))    # hello fifi"
      ],
      "metadata": {
        "colab": {
          "base_uri": "https://localhost:8080/"
        },
        "id": "KrCyigR1ypZU",
        "outputId": "1782de05-c440-4109-c7a3-bca20bebca06"
      },
      "execution_count": 8,
      "outputs": [
        {
          "output_type": "stream",
          "name": "stdout",
          "text": [
            "hello fifi\n"
          ]
        }
      ]
    },
    {
      "cell_type": "code",
      "source": [
        "class append():\n",
        "    def __init__(self, char):\n",
        "        self.char = char    \n",
        "        \n",
        "    def __call__(self, function):\n",
        "        def inner(*args):\n",
        "            return function(*args) + self.char\n",
        "        return inner\n",
        "\n",
        "@append(\"!\")\n",
        "def hello(name):\n",
        "    return \"hello \" + name\n",
        "\n",
        "print(hello(\"fifi\"))    # hello fifi!"
      ],
      "metadata": {
        "colab": {
          "base_uri": "https://localhost:8080/"
        },
        "id": "5dlimpP5ys9z",
        "outputId": "f0f8a238-d956-4586-84a0-501742590089"
      },
      "execution_count": 9,
      "outputs": [
        {
          "output_type": "stream",
          "name": "stdout",
          "text": [
            "hello fifi!\n"
          ]
        }
      ]
    },
    {
      "cell_type": "code",
      "source": [
        "@append(\"?\")\n",
        "@append(\"!\")\n",
        "def hello(name):\n",
        "    return \"hello \" + name\n",
        "    \n",
        "print(hello(\"fifi\"))    # hello fifi!?"
      ],
      "metadata": {
        "colab": {
          "base_uri": "https://localhost:8080/"
        },
        "id": "32PfCiESyxFc",
        "outputId": "e25035c1-29f8-4917-a3a3-e8b4c46b0880"
      },
      "execution_count": 10,
      "outputs": [
        {
          "output_type": "stream",
          "name": "stdout",
          "text": [
            "hello fifi!?\n"
          ]
        }
      ]
    },
    {
      "cell_type": "markdown",
      "source": [
        "# 6) We Can Use Chinese Characters As Variable Names"
      ],
      "metadata": {
        "id": "dcKxGhOsy1ZU"
      }
    },
    {
      "cell_type": "code",
      "source": [
        "我 = 4\n",
        "你 = 5\n",
        "print(我 + 你)    # 9"
      ],
      "metadata": {
        "colab": {
          "base_uri": "https://localhost:8080/"
        },
        "id": "QuZbtE0hy0Yr",
        "outputId": "06d214da-6df5-4181-b5cc-4404229f746f"
      },
      "execution_count": 11,
      "outputs": [
        {
          "output_type": "stream",
          "name": "stdout",
          "text": [
            "9\n"
          ]
        }
      ]
    },
    {
      "cell_type": "markdown",
      "source": [
        "# 7) We Can Use eval() To Run Python Code In Strings"
      ],
      "metadata": {
        "id": "j8HgXEc7y4oy"
      }
    },
    {
      "cell_type": "code",
      "source": [
        "x = 4\n",
        "y = eval(\"x + 10\")\n",
        "\n",
        "print(y)    # 14"
      ],
      "metadata": {
        "id": "4ukce8rjy3Fi",
        "outputId": "fdb054d8-c1e4-4fb3-a4bf-cf083fc6aaea",
        "colab": {
          "base_uri": "https://localhost:8080/"
        }
      },
      "execution_count": 12,
      "outputs": [
        {
          "output_type": "stream",
          "name": "stdout",
          "text": [
            "14\n"
          ]
        }
      ]
    },
    {
      "cell_type": "code",
      "source": [
        "string = \"print('hello world')\"\n",
        "eval(string)  # prints hello world\n",
        "\n",
        "string = \"1+2+3\"\n",
        "eval(string)  # returns 6"
      ],
      "metadata": {
        "id": "4FOoMQL2y6T0",
        "outputId": "41311c62-106b-461e-c4c3-567f1b4ac026",
        "colab": {
          "base_uri": "https://localhost:8080/"
        }
      },
      "execution_count": 13,
      "outputs": [
        {
          "output_type": "stream",
          "name": "stdout",
          "text": [
            "hello world\n"
          ]
        },
        {
          "output_type": "execute_result",
          "data": {
            "text/plain": [
              "6"
            ]
          },
          "metadata": {},
          "execution_count": 13
        }
      ]
    }
  ]
}