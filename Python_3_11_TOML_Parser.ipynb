{
  "nbformat": 4,
  "nbformat_minor": 0,
  "metadata": {
    "colab": {
      "provenance": [],
      "authorship_tag": "ABX9TyMjgqnQv39ht/uqJC4Cceaz"
    },
    "kernelspec": {
      "name": "python3",
      "display_name": "Python 3"
    },
    "language_info": {
      "name": "python"
    }
  },
  "cells": [
    {
      "cell_type": "markdown",
      "source": [
        "[Reference](https://towardsdev.com/python-3-11-toml-parser-20fb06e79bd1)"
      ],
      "metadata": {
        "id": "L5bK6-oMP6W7"
      }
    },
    {
      "cell_type": "markdown",
      "source": [
        "```\n",
        "# example.toml\n",
        "\n",
        "# This is a TOML document\n",
        "\n",
        "title = \"TOML Example\"\n",
        "\n",
        "[owner]\n",
        "name = \"Tom Preston-Werner\"\n",
        "dob = 1979-05-27T07:32:00-08:00\n",
        "\n",
        "[database]\n",
        "enabled = true\n",
        "ports = [ 8000, 8001, 8002 ]\n",
        "data = [ [\"delta\", \"phi\"], [3.14] ]\n",
        "temp_targets = { cpu = 79.5, case = 72.0 }\n",
        "\n",
        "[servers]\n",
        "\n",
        "[servers.alpha]\n",
        "ip = \"10.0.0.1\"\n",
        "role = \"frontend\"\n",
        "\n",
        "[servers.beta]\n",
        "ip = \"10.0.0.2\"\n",
        "role = \"backend\"\n",
        "```"
      ],
      "metadata": {
        "id": "gQcBn6wBP82x"
      }
    },
    {
      "cell_type": "code",
      "execution_count": 1,
      "metadata": {
        "id": "HVwqxN_OO1vk"
      },
      "outputs": [],
      "source": [
        "import pprint\n",
        "import tomllib\n",
        "\n",
        "with open(\"example.toml\", \"rb\") as f:\n",
        "    data = tomllib.load(f)\n",
        "\n",
        "pp = pprint.PrettyPrinter(depth=4)\n",
        "pp.pprint(data)"
      ]
    },
    {
      "cell_type": "code",
      "source": [
        "import pprint\n",
        "import tomllib\n",
        "document = \"\"\"\n",
        "title = \"TOML Example\"\n",
        "\n",
        "[owner]\n",
        "name = \"Tom Preston-Werner\"\n",
        "dob = 1979-05-27T07:32:00-08:00\n",
        "\n",
        "[database]\n",
        "enabled = true\n",
        "ports = [ 8000, 8001, 8002 ]\n",
        "data = [ [\"delta\", \"phi\"], [3.14] ]\n",
        "temp_targets = { cpu = 79.5, case = 72.0 }\n",
        "\n",
        "[servers]\n",
        "\n",
        "[servers.alpha]\n",
        "ip = \"10.0.0.1\"\n",
        "role = \"frontend\"\n",
        "\n",
        "[servers.beta]\n",
        "ip = \"10.0.0.2\"\n",
        "role = \"backend\"\n",
        "\"\"\"\n",
        "\n",
        "data1=tomllib.loads(document)\n",
        "pp = pprint.PrettyPrinter(depth=4)\n",
        "pp.pprint(data1)"
      ],
      "metadata": {
        "id": "3iMT0srRQHya"
      },
      "execution_count": 4,
      "outputs": []
    }
  ]
}