{
  "nbformat": 4,
  "nbformat_minor": 0,
  "metadata": {
    "colab": {
      "name": "Stop Using “or” to Check Multiple Conditions in Python.ipynb",
      "provenance": [],
      "authorship_tag": "ABX9TyOWy8c0YIFS2W00vg2rTCa6"
    },
    "kernelspec": {
      "name": "python3",
      "display_name": "Python 3"
    },
    "language_info": {
      "name": "python"
    }
  },
  "cells": [
    {
      "cell_type": "markdown",
      "source": [
        "[Reference](https://betterprogramming.pub/stop-using-or-to-check-multiple-conditions-in-python-404d31f2b569)"
      ],
      "metadata": {
        "id": "MrfA8kROacwH"
      }
    },
    {
      "cell_type": "code",
      "execution_count": 1,
      "metadata": {
        "id": "ArgrAgByaXGq"
      },
      "outputs": [],
      "source": [
        "if number == 1 or number == 2 or number == 3 or number == 4:\n",
        "    do_smt()"
      ]
    },
    {
      "cell_type": "markdown",
      "source": [
        "# “in” operator in Python\n"
      ],
      "metadata": {
        "id": "NZ15NrHqag-K"
      }
    },
    {
      "cell_type": "code",
      "source": [
        "seasons = [\"winter\", \"spring\", \"summer\", \"autumn\"]\n",
        "\n",
        "for season in seasons:\n",
        "    print(season)"
      ],
      "metadata": {
        "colab": {
          "base_uri": "https://localhost:8080/"
        },
        "id": "LEEe8KLGaf8O",
        "outputId": "ece241a2-6d42-4914-f4ae-2681d63c46ea"
      },
      "execution_count": 2,
      "outputs": [
        {
          "output_type": "stream",
          "name": "stdout",
          "text": [
            "winter\n",
            "spring\n",
            "summer\n",
            "autumn\n"
          ]
        }
      ]
    },
    {
      "cell_type": "code",
      "source": [
        "seasons = [\"winter\", \"spring\", \"summer\", \"autumn\"]\n",
        "\n",
        "print(\"summer\" in seasons)\n",
        "print(\"july\" in seasons)"
      ],
      "metadata": {
        "colab": {
          "base_uri": "https://localhost:8080/"
        },
        "id": "RbR4GeyaaiUQ",
        "outputId": "f20b3e75-08e4-4f02-8b71-2ac2133d24c2"
      },
      "execution_count": 3,
      "outputs": [
        {
          "output_type": "stream",
          "name": "stdout",
          "text": [
            "True\n",
            "False\n"
          ]
        }
      ]
    },
    {
      "cell_type": "code",
      "source": [
        "print(\"in\" in \"in operator in Python\")"
      ],
      "metadata": {
        "colab": {
          "base_uri": "https://localhost:8080/"
        },
        "id": "6pb2qezeajdb",
        "outputId": "d50dfe3b-2943-48b1-a027-3c9b9a5b72f1"
      },
      "execution_count": 4,
      "outputs": [
        {
          "output_type": "stream",
          "name": "stdout",
          "text": [
            "True\n"
          ]
        }
      ]
    },
    {
      "cell_type": "markdown",
      "source": [
        "# Use “in” instead of “or”\n",
        "```python\n",
        "if number == 1 or number == 2 or number == 3 or number == 4:\n",
        "    do_smt()\n",
        "\n",
        "if number in [1, 2, 3, 4]:\n",
        "    do_smt()\n",
        "```"
      ],
      "metadata": {
        "id": "3_KgmTteam10"
      }
    },
    {
      "cell_type": "code",
      "source": [
        "if request.method in permissions.SAFE_METHODS:\n",
        "    # Whether it is a read-only request"
      ],
      "metadata": {
        "id": "-9O2rq6kaoMx"
      },
      "execution_count": 6,
      "outputs": []
    },
    {
      "cell_type": "code",
      "source": [
        "if request.method in (\"GET\", \"HEAD\", \"OPTIONS\"):\n",
        "    # Whether it is a read-only request"
      ],
      "metadata": {
        "id": "lxHRyKm9a2E4"
      },
      "execution_count": 7,
      "outputs": []
    },
    {
      "cell_type": "code",
      "source": [
        "import timeit\n",
        "\n",
        "method = \"GET\"\n",
        "\n",
        "print(timeit.timeit('method in [\"GET\", \"HEAD\", \"OPTIONS\"]', globals=globals(), number=100000))\n",
        "print(timeit.timeit('method in (\"GET\", \"HEAD\", \"OPTIONS\")', globals=globals(), number=100000))\n",
        "print(timeit.timeit('method in {\"GET\", \"HEAD\", \"OPTIONS\"}', globals=globals(), number=100000))\n",
        "print(timeit.timeit('method == \"GET\" or method == \"HEAD\" or method == \"OPTIONS\"', globals=globals(), number=100000))"
      ],
      "metadata": {
        "colab": {
          "base_uri": "https://localhost:8080/"
        },
        "id": "rW7dVQENa3PJ",
        "outputId": "560da65a-495d-47b1-a805-ef49d9360709"
      },
      "execution_count": 8,
      "outputs": [
        {
          "output_type": "stream",
          "name": "stdout",
          "text": [
            "0.006411419000016849\n",
            "0.007903260000006185\n",
            "0.0055543870000178686\n",
            "0.005836248999997906\n"
          ]
        }
      ]
    },
    {
      "cell_type": "code",
      "source": [
        "import timeit\n",
        "\n",
        "method = \"OPTIONS\"\n",
        "\n",
        "print(timeit.timeit('method in [\"GET\", \"HEAD\", \"OPTIONS\"]', globals=globals(), number=100000))\n",
        "print(timeit.timeit('method in (\"GET\", \"HEAD\", \"OPTIONS\")', globals=globals(), number=100000))\n",
        "print(timeit.timeit('method in {\"GET\", \"HEAD\", \"OPTIONS\"}', globals=globals(), number=100000))\n",
        "print(timeit.timeit('method == \"GET\" or method == \"HEAD\" or method == \"OPTIONS\"', globals=globals(), number=100000))"
      ],
      "metadata": {
        "colab": {
          "base_uri": "https://localhost:8080/"
        },
        "id": "q-9dDocSa6ks",
        "outputId": "06f74989-7fa1-4eb3-e745-af8e7e9cd007"
      },
      "execution_count": 9,
      "outputs": [
        {
          "output_type": "stream",
          "name": "stdout",
          "text": [
            "0.010759325000009312\n",
            "0.008829800000000887\n",
            "0.0054470629999912035\n",
            "0.015468183000024283\n"
          ]
        }
      ]
    },
    {
      "cell_type": "code",
      "source": [
        "import sys\n",
        "\n",
        "print(sys.getsizeof([\"GET\", \"HEAD\", \"OPTIONS\"]))\n",
        "print(sys.getsizeof((\"GET\", \"HEAD\", \"OPTIONS\")))\n",
        "print(sys.getsizeof({\"GET\", \"HEAD\", \"OPTIONS\"}))"
      ],
      "metadata": {
        "id": "QNm8PJtva-iz",
        "outputId": "4f7250fb-1dcf-4662-8f7a-bc1010495518",
        "colab": {
          "base_uri": "https://localhost:8080/"
        }
      },
      "execution_count": 10,
      "outputs": [
        {
          "output_type": "stream",
          "name": "stdout",
          "text": [
            "96\n",
            "80\n",
            "232\n"
          ]
        }
      ]
    }
  ]
}