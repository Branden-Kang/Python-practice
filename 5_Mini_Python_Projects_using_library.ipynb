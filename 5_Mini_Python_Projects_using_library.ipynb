{
  "nbformat": 4,
  "nbformat_minor": 0,
  "metadata": {
    "colab": {
      "provenance": [],
      "authorship_tag": "ABX9TyOzS7XQbgIfdQi5KRIkYURk"
    },
    "kernelspec": {
      "name": "python3",
      "display_name": "Python 3"
    },
    "language_info": {
      "name": "python"
    }
  },
  "cells": [
    {
      "cell_type": "markdown",
      "source": [
        "[Reference](https://levelup.gitconnected.com/5-mini-python-projects-using-library-640d73f2d8dd)"
      ],
      "metadata": {
        "id": "AiQVwinlH5wl"
      }
    },
    {
      "cell_type": "markdown",
      "source": [
        "# 1. Program to encrypt and decrypt a message"
      ],
      "metadata": {
        "id": "IGaFt_eUHPKO"
      }
    },
    {
      "cell_type": "code",
      "source": [
        "!pip install pynacl"
      ],
      "metadata": {
        "colab": {
          "base_uri": "https://localhost:8080/"
        },
        "id": "y6wZ1_sJHgLW",
        "outputId": "c2362215-bd92-4cde-d71a-26fd16101284"
      },
      "execution_count": 3,
      "outputs": [
        {
          "output_type": "stream",
          "name": "stdout",
          "text": [
            "Looking in indexes: https://pypi.org/simple, https://us-python.pkg.dev/colab-wheels/public/simple/\n",
            "Collecting pynacl\n",
            "  Downloading PyNaCl-1.5.0-cp36-abi3-manylinux_2_17_x86_64.manylinux2014_x86_64.manylinux_2_24_x86_64.whl (856 kB)\n",
            "\u001b[2K     \u001b[90m━━━━━━━━━━━━━━━━━━━━━━━━━━━━━━━━━━━━━━\u001b[0m \u001b[32m856.7/856.7 kB\u001b[0m \u001b[31m15.1 MB/s\u001b[0m eta \u001b[36m0:00:00\u001b[0m\n",
            "\u001b[?25hRequirement already satisfied: cffi>=1.4.1 in /usr/local/lib/python3.9/dist-packages (from pynacl) (1.15.1)\n",
            "Requirement already satisfied: pycparser in /usr/local/lib/python3.9/dist-packages (from cffi>=1.4.1->pynacl) (2.21)\n",
            "Installing collected packages: pynacl\n",
            "Successfully installed pynacl-1.5.0\n"
          ]
        }
      ]
    },
    {
      "cell_type": "code",
      "source": [
        "import nacl.secret\n",
        "import nacl.utils\n",
        "\n",
        "secret = nacl.utils.random(nacl.secret.SecretBox.KEY_SIZE)\n",
        "box = nacl.secret.SecretBox(secret)\n",
        "message = b\"\"\n",
        "encrypted_text = box.encrypt(message)\n",
        "decrypted_text = box.decrypt(encrypted_text)\n",
        "print(\"Original Text:\", message)\n",
        "print(\"Decrypted Text:\", decrypted_text)                                               "
      ],
      "metadata": {
        "colab": {
          "base_uri": "https://localhost:8080/"
        },
        "id": "_BbxWQ_7HYIz",
        "outputId": "95d381f8-75c0-4228-fc6a-8c25c20c29f8"
      },
      "execution_count": 4,
      "outputs": [
        {
          "output_type": "stream",
          "name": "stdout",
          "text": [
            "Original Text: b''\n",
            "Decrypted Text: b''\n"
          ]
        }
      ]
    },
    {
      "cell_type": "markdown",
      "source": [
        "# 2. ASCII art with pyfiglet"
      ],
      "metadata": {
        "id": "lMwr7X8-HjM8"
      }
    },
    {
      "cell_type": "code",
      "source": [
        "pip install pyfiglet"
      ],
      "metadata": {
        "colab": {
          "base_uri": "https://localhost:8080/"
        },
        "id": "pT96FbgeHfd4",
        "outputId": "7f2021f1-000c-4a55-af63-360d1675a5a5"
      },
      "execution_count": 5,
      "outputs": [
        {
          "output_type": "stream",
          "name": "stdout",
          "text": [
            "Looking in indexes: https://pypi.org/simple, https://us-python.pkg.dev/colab-wheels/public/simple/\n",
            "Collecting pyfiglet\n",
            "  Downloading pyfiglet-0.8.post1-py2.py3-none-any.whl (865 kB)\n",
            "\u001b[2K     \u001b[90m━━━━━━━━━━━━━━━━━━━━━━━━━━━━━━━━━━━━━━\u001b[0m \u001b[32m865.8/865.8 kB\u001b[0m \u001b[31m18.0 MB/s\u001b[0m eta \u001b[36m0:00:00\u001b[0m\n",
            "\u001b[?25hInstalling collected packages: pyfiglet\n",
            "Successfully installed pyfiglet-0.8.post1\n"
          ]
        }
      ]
    },
    {
      "cell_type": "code",
      "source": [
        "import pyfiglet\n",
        "\n",
        "# Generate ASCII art from text\n",
        "ascii_art = pyfiglet.figlet_format(\"MEDIUM!\")                                 \n",
        "\n",
        "# Print the ASCII art\n",
        "print(ascii_art)                                         "
      ],
      "metadata": {
        "colab": {
          "base_uri": "https://localhost:8080/"
        },
        "id": "Hn94l6nXHkh4",
        "outputId": "d040b33a-69d1-4012-b05a-1c7434767989"
      },
      "execution_count": 6,
      "outputs": [
        {
          "output_type": "stream",
          "name": "stdout",
          "text": [
            " __  __ _____ ____ ___ _   _ __  __ _ \n",
            "|  \\/  | ____|  _ \\_ _| | | |  \\/  | |\n",
            "| |\\/| |  _| | | | | || | | | |\\/| | |\n",
            "| |  | | |___| |_| | || |_| | |  | |_|\n",
            "|_|  |_|_____|____/___|\\___/|_|  |_(_)\n",
            "                                      \n",
            "\n"
          ]
        }
      ]
    },
    {
      "cell_type": "markdown",
      "source": [
        "# 3. Program to decode the Emoji\n"
      ],
      "metadata": {
        "id": "eFVOmotmHmsW"
      }
    },
    {
      "cell_type": "code",
      "source": [
        "pip install demoji"
      ],
      "metadata": {
        "colab": {
          "base_uri": "https://localhost:8080/"
        },
        "id": "QU-FGntiHlXO",
        "outputId": "0e32acc1-ef98-4297-9383-47dc7dea33da"
      },
      "execution_count": 7,
      "outputs": [
        {
          "output_type": "stream",
          "name": "stdout",
          "text": [
            "Looking in indexes: https://pypi.org/simple, https://us-python.pkg.dev/colab-wheels/public/simple/\n",
            "Collecting demoji\n",
            "  Downloading demoji-1.1.0-py3-none-any.whl (42 kB)\n",
            "\u001b[2K     \u001b[90m━━━━━━━━━━━━━━━━━━━━━━━━━━━━━━━━━━━━━━━━\u001b[0m \u001b[32m42.9/42.9 kB\u001b[0m \u001b[31m4.6 MB/s\u001b[0m eta \u001b[36m0:00:00\u001b[0m\n",
            "\u001b[?25hInstalling collected packages: demoji\n",
            "Successfully installed demoji-1.1.0\n"
          ]
        }
      ]
    },
    {
      "cell_type": "code",
      "source": [
        "import demoji\n",
        "\n",
        "demoji.download_codes()\n",
        "text = 'There is 🔥 in 🌋!'                                                   \n",
        "\n",
        "emojis = demoji.findall(text)\n",
        "print(emojis)"
      ],
      "metadata": {
        "colab": {
          "base_uri": "https://localhost:8080/"
        },
        "id": "KTadkZTjHp_R",
        "outputId": "5742b1d4-4e1a-465a-84c7-b48e838730e1"
      },
      "execution_count": 9,
      "outputs": [
        {
          "output_type": "stream",
          "name": "stdout",
          "text": [
            "{'🔥': 'fire', '🌋': 'volcano'}\n"
          ]
        },
        {
          "output_type": "stream",
          "name": "stderr",
          "text": [
            "<ipython-input-9-31aa50566a79>:3: FutureWarning: The demoji.download_codes attribute is deprecated and will be removed from demoji in a future version. It is an unused attribute as emoji codes are now distributed directly with the demoji package.\n",
            "  demoji.download_codes()\n"
          ]
        }
      ]
    },
    {
      "cell_type": "markdown",
      "source": [
        "# 4. Create a QR CODE for the URL"
      ],
      "metadata": {
        "id": "6UdNqOf3Hs2t"
      }
    },
    {
      "cell_type": "code",
      "source": [
        "!pip install pyqrcode"
      ],
      "metadata": {
        "colab": {
          "base_uri": "https://localhost:8080/"
        },
        "id": "Qbx-P4NNHu0D",
        "outputId": "e9414ab1-7fca-450a-a3a4-dd76f5c4f5ce"
      },
      "execution_count": 11,
      "outputs": [
        {
          "output_type": "stream",
          "name": "stdout",
          "text": [
            "Looking in indexes: https://pypi.org/simple, https://us-python.pkg.dev/colab-wheels/public/simple/\n",
            "Collecting pyqrcode\n",
            "  Downloading PyQRCode-1.2.1.zip (41 kB)\n",
            "\u001b[2K     \u001b[90m━━━━━━━━━━━━━━━━━━━━━━━━━━━━━━━━━━━━━━━━\u001b[0m \u001b[32m41.9/41.9 kB\u001b[0m \u001b[31m4.3 MB/s\u001b[0m eta \u001b[36m0:00:00\u001b[0m\n",
            "\u001b[?25h  Preparing metadata (setup.py) ... \u001b[?25l\u001b[?25hdone\n",
            "Building wheels for collected packages: pyqrcode\n",
            "  Building wheel for pyqrcode (setup.py) ... \u001b[?25l\u001b[?25hdone\n",
            "  Created wheel for pyqrcode: filename=PyQRCode-1.2.1-py3-none-any.whl size=36241 sha256=66a8a9bec026b50a428cd0989e6aa08277e2e63b8e2f635f9b2366e33a3298b1\n",
            "  Stored in directory: /root/.cache/pip/wheels/da/75/c0/38c7f82750de2725429b6b8571dca254249d73f6c882c5d9b1\n",
            "Successfully built pyqrcode\n",
            "Installing collected packages: pyqrcode\n",
            "Successfully installed pyqrcode-1.2.1\n"
          ]
        }
      ]
    },
    {
      "cell_type": "code",
      "source": [
        "# import pyqrcode\n",
        "\n",
        "# url = 'https://www.example.com'\n",
        "# qr = pyqrcode.create(url)\n",
        "# qr.png('example.png', scale=8)                                                  "
      ],
      "metadata": {
        "id": "uWelHU9iHq04"
      },
      "execution_count": 14,
      "outputs": []
    },
    {
      "cell_type": "markdown",
      "source": [
        "# 5. Draw a chess board using python"
      ],
      "metadata": {
        "id": "lSWekej0Hw7U"
      }
    },
    {
      "cell_type": "code",
      "source": [
        "# import turtle\n",
        "# screen = turtle.Screen()\n",
        "# pen = turtle.Turtle()\n",
        "# pen.speed(0)\n",
        "# light_square_color = \"white\"\n",
        "# dark_square_color = \"gray\"\n",
        "# board_size = 8\n",
        "# square_size = 50\n",
        "# for row in range(board_size):\n",
        "#     for column in range(board_size):\n",
        "#         if (row + column) % 2 == 0:\n",
        "#             pen.fillcolor(light_square_color)\n",
        "#         else:\n",
        "#             pen.fillcolor(dark_square_color)\n",
        "#         pen.penup()\n",
        "#         pen.goto(column * square_size, row * square_size)\n",
        "#         pen.pendown()\n",
        "#         pen.begin_fill()\n",
        "#         for _ in range(4):\n",
        "#             pen.forward(square_size)\n",
        "#             pen.right(90)\n",
        "#         pen.end_fill()\n",
        "# turtle.done()"
      ],
      "metadata": {
        "id": "tXdJC804Ht6V"
      },
      "execution_count": 15,
      "outputs": []
    }
  ]
}