{
  "nbformat": 4,
  "nbformat_minor": 0,
  "metadata": {
    "colab": {
      "name": "7 Python Iterators.ipynb",
      "provenance": [],
      "authorship_tag": "ABX9TyNRX9hV2HiAX42KUCv4nt3D"
    },
    "kernelspec": {
      "name": "python3",
      "display_name": "Python 3"
    }
  },
  "cells": [
    {
      "cell_type": "markdown",
      "metadata": {
        "id": "FDRcXVGArc4h"
      },
      "source": [
        "[Reference](https://towardsdatascience.com/7-python-iterators-you-maybe-didnt-know-about-a8f4c9aea981)"
      ]
    },
    {
      "cell_type": "markdown",
      "metadata": {
        "id": "xEo1z1U1sF05"
      },
      "source": [
        "# count"
      ]
    },
    {
      "cell_type": "code",
      "metadata": {
        "id": "oW9OA-v-rbu2"
      },
      "source": [
        "import itertools\n",
        "\n",
        "def sqr(n):\n",
        "   return n*n\n",
        "   \n",
        "for i in map(sqr, itertools.count(10)):\n",
        "   if i > 1000:\n",
        "      break\n",
        "   print(i)"
      ],
      "execution_count": null,
      "outputs": []
    },
    {
      "cell_type": "markdown",
      "metadata": {
        "id": "nqH02w8428W9"
      },
      "source": [
        "# cycle"
      ]
    },
    {
      "cell_type": "code",
      "metadata": {
        "colab": {
          "base_uri": "https://localhost:8080/"
        },
        "id": "hiTlPNxdsJr7",
        "outputId": "7b4ab196-1c54-4cbb-c246-0f8a448d498b"
      },
      "source": [
        "import itertools\n",
        "a = 'ABCDEFGH'\n",
        "print(list(zip(a, itertools.cycle(range(2)))))"
      ],
      "execution_count": 1,
      "outputs": [
        {
          "output_type": "stream",
          "text": [
            "[('A', 0), ('B', 1), ('C', 0), ('D', 1), ('E', 0), ('F', 1), ('G', 0), ('H', 1)]\n"
          ],
          "name": "stdout"
        }
      ]
    },
    {
      "cell_type": "markdown",
      "metadata": {
        "id": "tBc-1neh3DEg"
      },
      "source": [
        "# chain"
      ]
    },
    {
      "cell_type": "code",
      "metadata": {
        "colab": {
          "base_uri": "https://localhost:8080/"
        },
        "id": "20W0ArFw3Cge",
        "outputId": "02785a04-f685-4b3c-b537-5f4533d79ca1"
      },
      "source": [
        "import itertools\n",
        "\n",
        "a = 'ABCD'\n",
        "b = 'EFGH'\n",
        "print(list(itertools.chain(a,b)))"
      ],
      "execution_count": 2,
      "outputs": [
        {
          "output_type": "stream",
          "text": [
            "['A', 'B', 'C', 'D', 'E', 'F', 'G', 'H']\n"
          ],
          "name": "stdout"
        }
      ]
    },
    {
      "cell_type": "markdown",
      "metadata": {
        "id": "VXb9d6T13I4A"
      },
      "source": [
        "# starmap"
      ]
    },
    {
      "cell_type": "code",
      "metadata": {
        "colab": {
          "base_uri": "https://localhost:8080/"
        },
        "id": "V4hgp88A3Alh",
        "outputId": "5c8ac04e-1eb3-475b-ca2b-b3fc81e44f2f"
      },
      "source": [
        "import itertools\n",
        "\n",
        "def compute_sqr_sum(x, y):\n",
        "   return x**2 + y**2\n",
        "   \n",
        "a = [(x,x+1) for x in range(4)]\n",
        "print(list(itertools.starmap(compute_sqr_sum, a)))"
      ],
      "execution_count": 3,
      "outputs": [
        {
          "output_type": "stream",
          "text": [
            "[1, 5, 13, 25]\n"
          ],
          "name": "stdout"
        }
      ]
    },
    {
      "cell_type": "markdown",
      "metadata": {
        "id": "LLqGZeFU3Mq1"
      },
      "source": [
        "# product"
      ]
    },
    {
      "cell_type": "code",
      "metadata": {
        "colab": {
          "base_uri": "https://localhost:8080/"
        },
        "id": "u8lBhTJJ3LnI",
        "outputId": "0161410d-423e-47ca-c853-872896c3bf83"
      },
      "source": [
        "import itertools\n",
        "\n",
        "a = [1, 2, 3]\n",
        "print(list(itertools.product(a,repeat=2)))"
      ],
      "execution_count": 4,
      "outputs": [
        {
          "output_type": "stream",
          "text": [
            "[(1, 1), (1, 2), (1, 3), (2, 1), (2, 2), (2, 3), (3, 1), (3, 2), (3, 3)]\n"
          ],
          "name": "stdout"
        }
      ]
    },
    {
      "cell_type": "markdown",
      "metadata": {
        "id": "-aWR0Sd63PJG"
      },
      "source": [
        "# islice"
      ]
    },
    {
      "cell_type": "code",
      "metadata": {
        "colab": {
          "base_uri": "https://localhost:8080/"
        },
        "id": "NoRnA5cC3OXA",
        "outputId": "472a4173-40b0-4587-db73-b1c88723670f"
      },
      "source": [
        "import itertools\n",
        "\n",
        "gen = itertools.count()\n",
        "print(list(itertools.islice(gen, 2, 5)))"
      ],
      "execution_count": 5,
      "outputs": [
        {
          "output_type": "stream",
          "text": [
            "[2, 3, 4]\n"
          ],
          "name": "stdout"
        }
      ]
    },
    {
      "cell_type": "markdown",
      "metadata": {
        "id": "lqWUcJJX3R7C"
      },
      "source": [
        "# accumulate"
      ]
    },
    {
      "cell_type": "code",
      "metadata": {
        "colab": {
          "base_uri": "https://localhost:8080/"
        },
        "id": "HfleK9jD3RI0",
        "outputId": "8e888908-957a-41f2-ce11-9f65b13974f1"
      },
      "source": [
        "import itertools\n",
        "import operator\n",
        "\n",
        "gen = itertools.count(1)\n",
        "factorials = itertools.accumulate(itertools.count(1), func=operator.mul)\n",
        "fac_and_nums = zip(gen, factorials)\n",
        "print(list(itertools.islice(fac_and_nums, 2, 5)))"
      ],
      "execution_count": 7,
      "outputs": [
        {
          "output_type": "stream",
          "text": [
            "[(3, 6), (4, 24), (5, 120)]\n"
          ],
          "name": "stdout"
        }
      ]
    },
    {
      "cell_type": "code",
      "metadata": {
        "colab": {
          "base_uri": "https://localhost:8080/"
        },
        "id": "sZtos0Aa3UsP",
        "outputId": "14e876ed-2257-4c9f-cb56-b61908ba134b"
      },
      "source": [
        "import itertools\n",
        "import operator\n",
        "\n",
        "gen = itertools.count(1)\n",
        "factorials = itertools.accumulate(gen, func=operator.mul)\n",
        "fac_and_nums = zip(gen, factorials)\n",
        "\n",
        "print(list(itertools.islice(fac_and_nums, 2, 5)))"
      ],
      "execution_count": 8,
      "outputs": [
        {
          "output_type": "stream",
          "text": [
            "[(5, 48), (7, 384), (9, 3840)]\n"
          ],
          "name": "stdout"
        }
      ]
    }
  ]
}