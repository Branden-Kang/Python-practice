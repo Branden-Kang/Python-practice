{
  "nbformat": 4,
  "nbformat_minor": 0,
  "metadata": {
    "colab": {
      "name": "5 more things in Python.ipynb",
      "provenance": [],
      "collapsed_sections": [],
      "authorship_tag": "ABX9TyMJ8u1xujeUSjxfG/Ew4788"
    },
    "kernelspec": {
      "name": "python3",
      "display_name": "Python 3"
    },
    "language_info": {
      "name": "python"
    }
  },
  "cells": [
    {
      "cell_type": "markdown",
      "source": [
        "[Reference](https://python.plainenglish.io/5-more-things-i-didnt-know-about-python-until-recently-6d206a7769df)"
      ],
      "metadata": {
        "id": "sZa4fJ_8FafZ"
      }
    },
    {
      "cell_type": "markdown",
      "source": [
        "# 1) backspace character"
      ],
      "metadata": {
        "id": "uQqKapR9Fnu5"
      }
    },
    {
      "cell_type": "code",
      "execution_count": 1,
      "metadata": {
        "colab": {
          "base_uri": "https://localhost:8080/"
        },
        "id": "_2Iu5E-WCiBa",
        "outputId": "918c8429-4083-45c4-b95d-1255a42f6cf2"
      },
      "outputs": [
        {
          "output_type": "stream",
          "name": "stdout",
          "text": [
            "\b\n"
          ]
        }
      ],
      "source": [
        "print(\"\\b\")"
      ]
    },
    {
      "cell_type": "code",
      "source": [
        "print(\"abcde\\b\\b\\b123\")"
      ],
      "metadata": {
        "colab": {
          "base_uri": "https://localhost:8080/"
        },
        "id": "XiI2Uw3vFj9I",
        "outputId": "eba9e756-691d-45fb-cd01-3335b0931e6e"
      },
      "execution_count": 2,
      "outputs": [
        {
          "output_type": "stream",
          "name": "stdout",
          "text": [
            "abcde\b\b\b123\n"
          ]
        }
      ]
    },
    {
      "cell_type": "markdown",
      "source": [
        "# 2) create dictionaries"
      ],
      "metadata": {
        "id": "VJzcLPIsFrF2"
      }
    },
    {
      "cell_type": "code",
      "source": [
        "d = {\"apple\":\"pie\",\"orange\":\"juice\",\"pear\":\"cake\"}\n",
        "d"
      ],
      "metadata": {
        "colab": {
          "base_uri": "https://localhost:8080/"
        },
        "id": "jXpv6AxEFmGa",
        "outputId": "5431352f-1438-4078-8fe8-228ef3221979"
      },
      "execution_count": 3,
      "outputs": [
        {
          "output_type": "execute_result",
          "data": {
            "text/plain": [
              "{'apple': 'pie', 'orange': 'juice', 'pear': 'cake'}"
            ]
          },
          "metadata": {},
          "execution_count": 3
        }
      ]
    },
    {
      "cell_type": "code",
      "source": [
        "d = dict(apple=\"pie\",orange=\"juice\",pear=\"cake\")\n",
        "d"
      ],
      "metadata": {
        "colab": {
          "base_uri": "https://localhost:8080/"
        },
        "id": "yarG9f-pF1Ik",
        "outputId": "2b1c192c-6ec4-481d-8ee2-1ba75dfbf124"
      },
      "execution_count": 4,
      "outputs": [
        {
          "output_type": "execute_result",
          "data": {
            "text/plain": [
              "{'apple': 'pie', 'orange': 'juice', 'pear': 'cake'}"
            ]
          },
          "metadata": {},
          "execution_count": 4
        }
      ]
    },
    {
      "cell_type": "markdown",
      "source": [
        "# 3) The -O flag allows us to ignore 'assert' statements"
      ],
      "metadata": {
        "id": "WruK4eRwGAYv"
      }
    },
    {
      "cell_type": "code",
      "source": [
        "print(\"hello\")\n",
        "assert 1==2\n",
        "print(\"world\")"
      ],
      "metadata": {
        "colab": {
          "base_uri": "https://localhost:8080/",
          "height": 215
        },
        "id": "65nDEnGLF_hW",
        "outputId": "76de835c-26d1-46c0-fb3b-4b7708921222"
      },
      "execution_count": 5,
      "outputs": [
        {
          "output_type": "stream",
          "name": "stdout",
          "text": [
            "hello\n"
          ]
        },
        {
          "output_type": "error",
          "ename": "AssertionError",
          "evalue": "ignored",
          "traceback": [
            "\u001b[0;31m---------------------------------------------------------------------------\u001b[0m",
            "\u001b[0;31mAssertionError\u001b[0m                            Traceback (most recent call last)",
            "\u001b[0;32m<ipython-input-5-7f895f4f8e5c>\u001b[0m in \u001b[0;36m<module>\u001b[0;34m\u001b[0m\n\u001b[1;32m      1\u001b[0m \u001b[0mprint\u001b[0m\u001b[0;34m(\u001b[0m\u001b[0;34m\"hello\"\u001b[0m\u001b[0;34m)\u001b[0m\u001b[0;34m\u001b[0m\u001b[0;34m\u001b[0m\u001b[0m\n\u001b[0;32m----> 2\u001b[0;31m \u001b[0;32massert\u001b[0m \u001b[0;36m1\u001b[0m\u001b[0;34m==\u001b[0m\u001b[0;36m2\u001b[0m\u001b[0;34m\u001b[0m\u001b[0;34m\u001b[0m\u001b[0m\n\u001b[0m\u001b[1;32m      3\u001b[0m \u001b[0mprint\u001b[0m\u001b[0;34m(\u001b[0m\u001b[0;34m\"world\"\u001b[0m\u001b[0;34m)\u001b[0m\u001b[0;34m\u001b[0m\u001b[0;34m\u001b[0m\u001b[0m\n",
            "\u001b[0;31mAssertionError\u001b[0m: "
          ]
        }
      ]
    },
    {
      "cell_type": "code",
      "source": [
        "# python3 -O run.py"
      ],
      "metadata": {
        "id": "h_lGwfhdGI67"
      },
      "execution_count": null,
      "outputs": []
    },
    {
      "cell_type": "markdown",
      "source": [
        "# 4) make pythnon a bell sound"
      ],
      "metadata": {
        "id": "Jt5-4gXAGUb-"
      }
    },
    {
      "cell_type": "code",
      "source": [
        "# print(\"\\a\")"
      ],
      "metadata": {
        "id": "wwqCmPKRGTpf"
      },
      "execution_count": null,
      "outputs": []
    },
    {
      "cell_type": "markdown",
      "source": [
        "# 5) The round() function accepts negative decimal places"
      ],
      "metadata": {
        "id": "oYVwD-GCGZzh"
      }
    },
    {
      "cell_type": "code",
      "source": [
        "number = round(3.14159265, 2)\n",
        "number"
      ],
      "metadata": {
        "id": "3B0LjmJ9GYzE"
      },
      "execution_count": null,
      "outputs": []
    },
    {
      "cell_type": "code",
      "source": [
        "print(round(1234567,-1))\n",
        "print(round(1234567,-2))\n",
        "print(round(1234567,-3))\n",
        "print(round(1234567,-4))\n",
        "print(round(1234567,-5))"
      ],
      "metadata": {
        "id": "QdzqQ7TZGi9O"
      },
      "execution_count": null,
      "outputs": []
    }
  ]
}