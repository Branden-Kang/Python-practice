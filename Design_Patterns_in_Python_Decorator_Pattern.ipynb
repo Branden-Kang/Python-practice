{
  "nbformat": 4,
  "nbformat_minor": 0,
  "metadata": {
    "colab": {
      "provenance": [],
      "authorship_tag": "ABX9TyM7Nrrw2De3jHnj/OJorkxk"
    },
    "kernelspec": {
      "name": "python3",
      "display_name": "Python 3"
    },
    "language_info": {
      "name": "python"
    }
  },
  "cells": [
    {
      "cell_type": "markdown",
      "source": [
        "[Reference](https://faun.pub/design-patterns-in-python-decorator-pattern-b85e1cab097a)"
      ],
      "metadata": {
        "id": "Pq5anfL6a-eW"
      }
    },
    {
      "cell_type": "code",
      "execution_count": 1,
      "metadata": {
        "id": "iz3eXMmIaGLG"
      },
      "outputs": [],
      "source": [
        "from abc import ABC, abstractmethod\n",
        "\n",
        "class IKumpir(ABC):\n",
        "\n",
        "    @abstractmethod\n",
        "    def calculate_total_price(self):\n",
        "        \"\"\"returns total price\"\"\"\n",
        "\n",
        "    @abstractmethod\n",
        "    def get_ingredients(self):\n",
        "        \"\"\"collects ingredients\"\"\"\n",
        "\n",
        "class Ingredient(IKumpir):\n",
        "\n",
        "    def __init__(self, kumpir,name,price):\n",
        "        self.kumpir = kumpir\n",
        "        self.name = name\n",
        "        self.price = price\n",
        "\n",
        "    def calculate_total_price(self):\n",
        "        return self.kumpir.calculate_total_price() + self.price\n",
        "\n",
        "    def get_ingredients(self):\n",
        "        liste = self.kumpir.get_ingredients()\n",
        "        liste.append(self)\n",
        "        return liste\n",
        "\n",
        "\n",
        "class BakedPotato(IKumpir):\n",
        "\n",
        "    def __init__(self,price):\n",
        "        self.name = \"Potato\"\n",
        "        self.price = price\n",
        "\n",
        "    def calculate_total_price(self):\n",
        "        return self.price\n",
        "\n",
        "    def get_ingredients(self):\n",
        "        return [self]\n",
        "\n",
        "class Cheese(Ingredient):\n",
        "\n",
        "    def __init__(self,ingredients,price):\n",
        "        super().__init__(ingredients,\"Cheese\",price)\n",
        "\n",
        "\n",
        "class Corn(Ingredient):\n",
        "\n",
        "    def __init__(self,ingredients,price):\n",
        "        super().__init__(ingredients,\"Corn\",price)\n",
        "\n",
        "class Ham(Ingredient):\n",
        "\n",
        "    def __init__(self,ingredients,price):\n",
        "        super().__init__(ingredients,\"Ham\",price)\n",
        "\n",
        "class Olive(Ingredient):\n",
        "\n",
        "    def __init__(self,ingredients,price):\n",
        "        super().__init__(ingredients,\"Olive\",price)\n",
        "\n",
        "class Sausage(Ingredient):\n",
        "\n",
        "    def __init__(self,ingredients,price):\n",
        "        super().__init__(ingredients,\"Sausage\",price)\n",
        "\n",
        "class Tomato(Ingredient):\n",
        "\n",
        "    def __init__(self,ingredients,price):\n",
        "        super().__init__(ingredients,\"Tomato\",price)"
      ]
    },
    {
      "cell_type": "code",
      "source": [
        "kumpir = BakedPotato(10)\n",
        "kumpir = Cheese(kumpir,5)\n",
        "kumpir = Corn(kumpir,3)\n",
        "kumpir = Ham(kumpir,2)\n",
        "kumpir = Olive(kumpir,10)\n",
        "kumpir = Sausage(kumpir,2)\n",
        "kumpir = Tomato(kumpir,8)"
      ],
      "metadata": {
        "id": "jgh57IhQbChT"
      },
      "execution_count": 2,
      "outputs": []
    },
    {
      "cell_type": "code",
      "source": [
        "kumpir.calculate_total_price()"
      ],
      "metadata": {
        "colab": {
          "base_uri": "https://localhost:8080/"
        },
        "id": "-EsjehxWbDmB",
        "outputId": "daef13bf-7ca7-456d-c591-9d62ccecd20c"
      },
      "execution_count": 3,
      "outputs": [
        {
          "output_type": "execute_result",
          "data": {
            "text/plain": [
              "40"
            ]
          },
          "metadata": {},
          "execution_count": 3
        }
      ]
    },
    {
      "cell_type": "code",
      "source": [
        "kumpir.get_ingredients()"
      ],
      "metadata": {
        "colab": {
          "base_uri": "https://localhost:8080/"
        },
        "id": "JDqas8zfbE6m",
        "outputId": "cd49da5c-0a8b-4bbf-eb32-570901dd2842"
      },
      "execution_count": 4,
      "outputs": [
        {
          "output_type": "execute_result",
          "data": {
            "text/plain": [
              "[<__main__.BakedPotato at 0x7a92c032bfd0>,\n",
              " <__main__.Cheese at 0x7a92c0328c10>,\n",
              " <__main__.Corn at 0x7a92c032b6d0>,\n",
              " <__main__.Ham at 0x7a92c032b7f0>,\n",
              " <__main__.Olive at 0x7a92c032b580>,\n",
              " <__main__.Sausage at 0x7a92c032bac0>,\n",
              " <__main__.Tomato at 0x7a92c032beb0>]"
            ]
          },
          "metadata": {},
          "execution_count": 4
        }
      ]
    }
  ]
}