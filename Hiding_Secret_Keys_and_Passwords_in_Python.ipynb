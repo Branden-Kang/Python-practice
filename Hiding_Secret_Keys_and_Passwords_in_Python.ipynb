{
  "nbformat": 4,
  "nbformat_minor": 0,
  "metadata": {
    "colab": {
      "name": "Hiding Secret Keys and Passwords in Python.ipynb",
      "provenance": [],
      "authorship_tag": "ABX9TyM60LZjF9YT4NaGa+Vcq81a"
    },
    "kernelspec": {
      "name": "python3",
      "display_name": "Python 3"
    },
    "language_info": {
      "name": "python"
    }
  },
  "cells": [
    {
      "cell_type": "markdown",
      "metadata": {
        "id": "NUMQm0hCmkHS"
      },
      "source": [
        "[Reference](https://medium.com/analytics-vidhya/hiding-secret-keys-and-passwords-in-python-2950c6a4359)"
      ]
    },
    {
      "cell_type": "code",
      "metadata": {
        "colab": {
          "base_uri": "https://localhost:8080/"
        },
        "id": "iRFSVzyImZDD",
        "outputId": "6bbd9bf2-0c3f-4486-9942-7a0d3387f909"
      },
      "source": [
        "userID = 'shivi_020'\n",
        "password = 'thenightwing'\n",
        "\n",
        "print(userID, password)"
      ],
      "execution_count": 1,
      "outputs": [
        {
          "output_type": "stream",
          "text": [
            "shivi_020 thenightwing\n"
          ],
          "name": "stdout"
        }
      ]
    },
    {
      "cell_type": "code",
      "metadata": {
        "colab": {
          "base_uri": "https://localhost:8080/"
        },
        "id": "VQ5YE4oumZ-i",
        "outputId": "c7bb78c4-4780-4596-b356-ecc2453eadb7"
      },
      "source": [
        "pip install python-decouple"
      ],
      "execution_count": 2,
      "outputs": [
        {
          "output_type": "stream",
          "text": [
            "Collecting python-decouple\n",
            "  Downloading https://files.pythonhosted.org/packages/8e/67/05621304d723cc65342f96254a128f0d59a502701ff18823f829b88fdbb9/python_decouple-3.4-py3-none-any.whl\n",
            "Installing collected packages: python-decouple\n",
            "Successfully installed python-decouple-3.4\n"
          ],
          "name": "stdout"
        }
      ]
    },
    {
      "cell_type": "code",
      "metadata": {
        "colab": {
          "base_uri": "https://localhost:8080/"
        },
        "id": "HlrSuf5wmb8n",
        "outputId": "6bd2795b-9e7d-4b1a-dfe9-a401626a9dd6"
      },
      "source": [
        "from decouple import config\n",
        "\n",
        "userID = config('userID',default='')\n",
        "password = config('password',default='')\n",
        "\n",
        "print(userID, password)"
      ],
      "execution_count": 3,
      "outputs": [
        {
          "output_type": "stream",
          "text": [
            " \n"
          ],
          "name": "stdout"
        }
      ]
    }
  ]
}