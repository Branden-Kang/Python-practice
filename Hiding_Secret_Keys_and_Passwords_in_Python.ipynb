{
  "nbformat": 4,
  "nbformat_minor": 0,
  "metadata": {
    "colab": {
      "name": "Hiding Secret Keys and Passwords in Python.ipynb",
      "provenance": [],
      "authorship_tag": "ABX9TyOQcps2nRMq6vJgsbT03i6V"
    },
    "kernelspec": {
      "name": "python3",
      "display_name": "Python 3"
    },
    "language_info": {
      "name": "python"
    }
  },
  "cells": [
    {
      "cell_type": "markdown",
      "metadata": {
        "id": "Wz8TvAoXOIEW"
      },
      "source": [
        "[Reference](Hiding Secret Keys and Passwords in Python)"
      ]
    },
    {
      "cell_type": "code",
      "metadata": {
        "colab": {
          "base_uri": "https://localhost:8080/"
        },
        "id": "TEa6Zlq9Nzva",
        "outputId": "c9cb10a4-4e5e-4497-8b67-e15267e89f51"
      },
      "source": [
        "userID = 'branden'\n",
        "password = '1234'\n",
        "\n",
        "print(userID, password)"
      ],
      "execution_count": 2,
      "outputs": [
        {
          "output_type": "stream",
          "text": [
            "branden 1234\n"
          ],
          "name": "stdout"
        }
      ]
    },
    {
      "cell_type": "code",
      "metadata": {
        "colab": {
          "base_uri": "https://localhost:8080/"
        },
        "id": "7l2PQ-W9N0-b",
        "outputId": "d966351c-82d2-4add-aade-b8edba4d4f36"
      },
      "source": [
        "pip install python-decouple"
      ],
      "execution_count": 3,
      "outputs": [
        {
          "output_type": "stream",
          "text": [
            "Collecting python-decouple\n",
            "  Downloading https://files.pythonhosted.org/packages/8e/67/05621304d723cc65342f96254a128f0d59a502701ff18823f829b88fdbb9/python_decouple-3.4-py3-none-any.whl\n",
            "Installing collected packages: python-decouple\n",
            "Successfully installed python-decouple-3.4\n"
          ],
          "name": "stdout"
        }
      ]
    },
    {
      "cell_type": "code",
      "metadata": {
        "colab": {
          "base_uri": "https://localhost:8080/"
        },
        "id": "jfCScNUBN5Us",
        "outputId": "c38baf3b-d9e9-4f24-df8c-712bfe597ce7"
      },
      "source": [
        "from decouple import config\n",
        "\n",
        "userID = config('userID',default='')\n",
        "password = config('password',default='')\n",
        "\n",
        "print(userID, password)"
      ],
      "execution_count": 4,
      "outputs": [
        {
          "output_type": "stream",
          "text": [
            " \n"
          ],
          "name": "stdout"
        }
      ]
    },
    {
      "cell_type": "code",
      "metadata": {
        "colab": {
          "base_uri": "https://localhost:8080/"
        },
        "id": "X0MDAEHyN6vb",
        "outputId": "9a7bb212-444f-40d0-d6e0-0825df6e8b0e"
      },
      "source": [
        "!ls"
      ],
      "execution_count": 5,
      "outputs": [
        {
          "output_type": "stream",
          "text": [
            "sample_data\n"
          ],
          "name": "stdout"
        }
      ]
    }
  ]
}