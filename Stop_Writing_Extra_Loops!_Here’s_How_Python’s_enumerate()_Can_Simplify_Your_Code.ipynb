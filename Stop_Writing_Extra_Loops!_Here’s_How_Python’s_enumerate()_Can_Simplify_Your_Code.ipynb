{
  "nbformat": 4,
  "nbformat_minor": 0,
  "metadata": {
    "colab": {
      "provenance": [],
      "authorship_tag": "ABX9TyNUkF8kK2FIfIlp1O7NPmLl"
    },
    "kernelspec": {
      "name": "python3",
      "display_name": "Python 3"
    },
    "language_info": {
      "name": "python"
    }
  },
  "cells": [
    {
      "cell_type": "markdown",
      "source": [
        "[Reference](https://medium.com/@aliyannshaikhh/3793799446eb)"
      ],
      "metadata": {
        "id": "UuxREMybjlka"
      }
    },
    {
      "cell_type": "code",
      "execution_count": 1,
      "metadata": {
        "colab": {
          "base_uri": "https://localhost:8080/"
        },
        "id": "GpmV81JajRdU",
        "outputId": "7b13a891-b74e-4b9b-c86a-7cf09d1d207e"
      },
      "outputs": [
        {
          "output_type": "stream",
          "name": "stdout",
          "text": [
            "0 10\n",
            "1 20\n",
            "2 30\n",
            "3 40\n"
          ]
        }
      ],
      "source": [
        "numbers = [10, 20, 30, 40]\n",
        "for i in range(len(numbers)):\n",
        "    print(i, numbers[i])"
      ]
    },
    {
      "cell_type": "code",
      "source": [
        "numbers = [10, 20, 30, 40]\n",
        "\n",
        "for index, value in enumerate(numbers):\n",
        "    print(f\"Index: {index}, Value: {value}\")"
      ],
      "metadata": {
        "colab": {
          "base_uri": "https://localhost:8080/"
        },
        "id": "S5rqTlojjoU_",
        "outputId": "9738ddc1-219b-4a58-ada9-3da5a7bd075b"
      },
      "execution_count": 2,
      "outputs": [
        {
          "output_type": "stream",
          "name": "stdout",
          "text": [
            "Index: 0, Value: 10\n",
            "Index: 1, Value: 20\n",
            "Index: 2, Value: 30\n",
            "Index: 3, Value: 40\n"
          ]
        }
      ]
    },
    {
      "cell_type": "code",
      "source": [
        "numbers = [10, 20, 30, 40]\n",
        "\n",
        "for index, value in enumerate(numbers, start=1):\n",
        "    print(f\"Index: {index}, Value: {value}\")"
      ],
      "metadata": {
        "colab": {
          "base_uri": "https://localhost:8080/"
        },
        "id": "NlBiJ0-PjrOx",
        "outputId": "d781fedf-aa81-464b-eb8b-f12e37d1de93"
      },
      "execution_count": 3,
      "outputs": [
        {
          "output_type": "stream",
          "name": "stdout",
          "text": [
            "Index: 1, Value: 10\n",
            "Index: 2, Value: 20\n",
            "Index: 3, Value: 30\n",
            "Index: 4, Value: 40\n"
          ]
        }
      ]
    },
    {
      "cell_type": "code",
      "source": [
        "word = \"Aliyan\"\n",
        "\n",
        "for index, letter in enumerate(word):\n",
        "    print(f\"Index: {index}, Letter: {letter}\")"
      ],
      "metadata": {
        "colab": {
          "base_uri": "https://localhost:8080/"
        },
        "id": "USF6I1IxjtyC",
        "outputId": "d46365d2-82df-42d2-e33b-88ae0da5b2a7"
      },
      "execution_count": 4,
      "outputs": [
        {
          "output_type": "stream",
          "name": "stdout",
          "text": [
            "Index: 0, Letter: A\n",
            "Index: 1, Letter: l\n",
            "Index: 2, Letter: i\n",
            "Index: 3, Letter: y\n",
            "Index: 4, Letter: a\n",
            "Index: 5, Letter: n\n"
          ]
        }
      ]
    },
    {
      "cell_type": "code",
      "source": [
        "items = {\"grapes\": 1, \"pear\": 4, \"fig\": 5}\n",
        "\n",
        "for index, (key, value) in enumerate(items.items()):\n",
        "    print(f\"Index: {index}, Key: {key}, Value: {value}\")"
      ],
      "metadata": {
        "colab": {
          "base_uri": "https://localhost:8080/"
        },
        "id": "Bmit6RBHjvnK",
        "outputId": "489b3157-f380-49cf-9ee2-82cb4076bcc7"
      },
      "execution_count": 5,
      "outputs": [
        {
          "output_type": "stream",
          "name": "stdout",
          "text": [
            "Index: 0, Key: grapes, Value: 1\n",
            "Index: 1, Key: pear, Value: 4\n",
            "Index: 2, Key: fig, Value: 5\n"
          ]
        }
      ]
    },
    {
      "cell_type": "code",
      "source": [
        "names = [\"Aliyan\", \"Rahim\", \"Ahad\"]\n",
        "scores = [97, 80, 82]\n",
        "\n",
        "for index, (name, score) in enumerate(zip(names, scores)):\n",
        "    print(f\"Index: {index}, Name: {name}, Score: {score}\")"
      ],
      "metadata": {
        "id": "FSmaTTCwjxOR",
        "outputId": "d5d6a392-ffb9-4ee8-9db1-92058e4c0c97",
        "colab": {
          "base_uri": "https://localhost:8080/"
        }
      },
      "execution_count": 6,
      "outputs": [
        {
          "output_type": "stream",
          "name": "stdout",
          "text": [
            "Index: 0, Name: Aliyan, Score: 97\n",
            "Index: 1, Name: Rahim, Score: 80\n",
            "Index: 2, Name: Ahad, Score: 82\n"
          ]
        }
      ]
    }
  ]
}