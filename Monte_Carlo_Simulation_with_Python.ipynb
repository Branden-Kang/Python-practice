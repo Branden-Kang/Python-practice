{
  "nbformat": 4,
  "nbformat_minor": 0,
  "metadata": {
    "colab": {
      "name": "Monte Carlo Simulation with Python.ipynb",
      "provenance": [],
      "collapsed_sections": [],
      "authorship_tag": "ABX9TyOvZ35NKyyiVeb4mUMs1e5r"
    },
    "kernelspec": {
      "name": "python3",
      "display_name": "Python 3"
    },
    "language_info": {
      "name": "python"
    }
  },
  "cells": [
    {
      "cell_type": "markdown",
      "source": [
        "[Reference](https://kbarreiro.medium.com/monte-carlo-simulation-with-python-3f19dd4f531f)"
      ],
      "metadata": {
        "id": "i6BGnLqQdCBu"
      }
    },
    {
      "cell_type": "code",
      "execution_count": 1,
      "metadata": {
        "id": "xHtrG2pxbffQ"
      },
      "outputs": [],
      "source": [
        "import numpy as np\n",
        "import pandas as pd\n",
        "import scipy.stats as st\n",
        "import matplotlib.pyplot as plt\n",
        "import seaborn as sns\n",
        "import math\n",
        "sns.set_theme(style=\"ticks\", palette=\"ch:s=.25,rot=-.25\")"
      ]
    },
    {
      "cell_type": "code",
      "source": [
        "RA = 300  # rooms available\n",
        "RP = 120  # room price\n",
        "OC = 100  # overbooking cost\n",
        "RL = 310  # reservation limit\n",
        "demand_μ = 320  # mean for customer demand\n",
        "demand_σ = 15  # standard deviation for customer demand\n",
        "cancellation_p = 0.04  # probability of cancellation"
      ],
      "metadata": {
        "id": "XzVa8b9kdEiI"
      },
      "execution_count": 2,
      "outputs": []
    },
    {
      "cell_type": "code",
      "source": [
        "# random number generator\n",
        "rng = np.random.default_rng()\n",
        "# generate random number from normal distribution\n",
        "CD = rng.normal(loc=demand_μ, scale=demand_σ)"
      ],
      "metadata": {
        "id": "UGVfIurCdFvv"
      },
      "execution_count": 3,
      "outputs": []
    },
    {
      "cell_type": "markdown",
      "source": [
        "# Reservations Made (RM)\n"
      ],
      "metadata": {
        "id": "RkbKYSSVdI5w"
      }
    },
    {
      "cell_type": "code",
      "source": [
        "RM = min(RL, CD)"
      ],
      "metadata": {
        "id": "IATYhoLXdHv8"
      },
      "execution_count": 4,
      "outputs": []
    },
    {
      "cell_type": "markdown",
      "source": [
        "# Cancellations (CN)\n"
      ],
      "metadata": {
        "id": "weLqfTLEdMh9"
      }
    },
    {
      "cell_type": "code",
      "source": [
        "CN = rng.binomial(n=RM, p=cancellation_p)"
      ],
      "metadata": {
        "id": "jeyklxhTdK_a"
      },
      "execution_count": 5,
      "outputs": []
    },
    {
      "cell_type": "markdown",
      "source": [
        "# Customer Arrivals (CA)\n"
      ],
      "metadata": {
        "id": "DnMUsBN4dPi2"
      }
    },
    {
      "cell_type": "code",
      "source": [
        "CA = RM - CN"
      ],
      "metadata": {
        "id": "ZUpg43ZXdOhb"
      },
      "execution_count": 6,
      "outputs": []
    },
    {
      "cell_type": "markdown",
      "source": [
        "# Overbooked Customers (OS)\n"
      ],
      "metadata": {
        "id": "PbjhJHNqdSiR"
      }
    },
    {
      "cell_type": "code",
      "source": [
        "OS = max(0, CA - RA)"
      ],
      "metadata": {
        "id": "5CE_dltfdRMX"
      },
      "execution_count": 7,
      "outputs": []
    },
    {
      "cell_type": "markdown",
      "source": [
        "# Net Revenue (NR)\n"
      ],
      "metadata": {
        "id": "Q9ocN7aLdW3N"
      }
    },
    {
      "cell_type": "code",
      "source": [
        "NR = (min(CA, RA) * RP) - (OS * OC)"
      ],
      "metadata": {
        "id": "lbGbea2odUK2"
      },
      "execution_count": 8,
      "outputs": []
    },
    {
      "cell_type": "code",
      "source": [
        "def net_revenue(n=0, RA=0, RP=0, OC=0, RL=[],loc=0, scale=0, CNP=0):\n",
        "    \"\"\"\n",
        "    net_revenue simulates net revenue for \n",
        "    the hotel model described in the notebook, \n",
        "    given a list of reservation limits (RL).\n",
        "    :param n: net revenue simulations to make per reservation limit\n",
        "    :param RA: rooms available\n",
        "    :param RP: room price\n",
        "    :param OC: overbooking cost\n",
        "    :param RL: reservation limits\n",
        "    :param loc: mean for customer demand\n",
        "    :param scale: standard deviation for customer demand\n",
        "    :param CNP: probability of cancellation\n",
        "    :return: pandas.DataFrame containing n simulated net revenue \n",
        "    values for each reservation limit.\n",
        "    \"\"\"\n",
        "    \n",
        "    # Simulated net revenue (NR) values for \n",
        "    # each reservation limit (RL)\n",
        "    net_revenue_df = pd.DataFrame({})\n",
        "       \n",
        "    # Simulated Data\n",
        "    for i in range(len(RL)):\n",
        "        NR_arr = []  # Array of n net revenue simulations\n",
        "        \n",
        "        # Simulate n net revenue values for \n",
        "        # the reservation limit RL[i]\n",
        "        for s in range(n):\n",
        "            # random number generator\n",
        "            rng = np.random.default_rng()  \n",
        "            # random number from normal distribution \n",
        "            # for customer demand\n",
        "            CD = rng.normal(loc=loc, scale=scale)\n",
        "            # reservations made\n",
        "            RM = min(RL[i], CD)\n",
        "            # random number from binomial distribution \n",
        "            # for cancellations            \n",
        "            CN = rng.binomial(n=RM, p=cancellation_p)  \n",
        "            # customer arrivals\n",
        "            CA = RM - CN\n",
        "            # overbooked customers\n",
        "            OS = max(0, CA - RA)\n",
        "            # net revenue\n",
        "            NR = round((min(CA, RA) * RP) - (OS * OC), 2)\n",
        "            # Populate NR_arr\n",
        "            NR_arr.append(NR)\n",
        "            \n",
        "        # Add the simulated net revenue  array for \n",
        "        # the current reservation limit to net_revenue_df\n",
        "        net_revenue_df[RL[i]] = pd.Series(data=NR_arr)\n",
        "    \n",
        "    return net_revenue_df"
      ],
      "metadata": {
        "id": "53Oi53ycdVsN"
      },
      "execution_count": 9,
      "outputs": []
    },
    {
      "cell_type": "code",
      "source": [
        "simulation = net_revenue(\n",
        "    n=2500, \n",
        "    RA=300, \n",
        "    RP=120, \n",
        "    OC=100, \n",
        "    RL=[300, 305, 310, 315, 320, 325, 330],\n",
        "    loc=320, \n",
        "    scale=15, \n",
        "    CNP=0.04\n",
        ")\n",
        "print(simulation)\n"
      ],
      "metadata": {
        "colab": {
          "base_uri": "https://localhost:8080/"
        },
        "id": "kBYeekXmdZxL",
        "outputId": "39baf195-39e2-4fa6-8876-63163e6c7c51"
      },
      "execution_count": 10,
      "outputs": [
        {
          "output_type": "stream",
          "name": "stdout",
          "text": [
            "          300       305       310       315       320       325       330\n",
            "0     35040.0  35280.00  33393.70  34853.11  35200.00  34640.45  34806.51\n",
            "1     34560.0  34800.00  36000.00  35920.93  35213.47  34425.36  34100.00\n",
            "2     34560.0  35040.00  35880.00  35800.00  35480.77  35000.00  34939.40\n",
            "3     34800.0  35040.00  35400.00  35735.33  35700.00  34616.30  33600.00\n",
            "4     33960.0  34320.00  35880.00  35400.00  35729.18  34600.00  34300.00\n",
            "...       ...       ...       ...       ...       ...       ...       ...\n",
            "2495  33360.0  35400.00  35400.00  35998.41  35200.00  35687.47  34800.00\n",
            "2496  33720.0  34800.00  35743.51  35576.08  33514.38  35886.89  35482.57\n",
            "2497  34680.0  35520.00  35880.00  35700.00  35700.00  34300.00  35585.11\n",
            "2498  34200.0  35160.00  35520.00  35800.00  35905.50  34600.00  35200.00\n",
            "2499  34680.0  34873.63  35880.00  35924.92  35200.00  35700.00  34100.00\n",
            "\n",
            "[2500 rows x 7 columns]\n"
          ]
        }
      ]
    },
    {
      "cell_type": "markdown",
      "source": [
        "# Simulation Results\n"
      ],
      "metadata": {
        "id": "gZZb4McodecZ"
      }
    },
    {
      "cell_type": "code",
      "source": [
        "stats = simulation.describe()\n",
        "print(stats)"
      ],
      "metadata": {
        "colab": {
          "base_uri": "https://localhost:8080/"
        },
        "id": "6h3TNBZSdbUQ",
        "outputId": "d99bfb72-0b4b-464f-d3a9-27da86141337"
      },
      "execution_count": 11,
      "outputs": [
        {
          "output_type": "stream",
          "name": "stdout",
          "text": [
            "                300           305           310           315           320  \\\n",
            "count   2500.000000   2500.000000   2500.000000   2500.000000   2500.000000   \n",
            "mean   34497.498512  34964.493116  35362.545936  35384.906824  35192.120504   \n",
            "std      512.639821    633.745197    686.955689    680.605405    644.645116   \n",
            "min    31022.140000  31129.510000  30673.320000  30598.720000  29974.210000   \n",
            "25%    34200.000000  34680.000000  35160.000000  35293.150000  35000.000000   \n",
            "50%    34560.000000  35040.000000  35600.000000  35600.000000  35300.000000   \n",
            "75%    34800.000000  35400.000000  35800.000000  35800.000000  35600.000000   \n",
            "max    35520.000000  36000.000000  36000.000000  36000.000000  36000.000000   \n",
            "\n",
            "                325           330  \n",
            "count   2500.000000   2500.000000  \n",
            "mean   34961.652896  34833.005192  \n",
            "std      681.401906    697.238352  \n",
            "min    31201.360000  28109.260000  \n",
            "25%    34600.000000  34315.632500  \n",
            "50%    35000.000000  34838.580000  \n",
            "75%    35442.325000  35394.860000  \n",
            "max    36000.000000  35999.730000  \n"
          ]
        }
      ]
    },
    {
      "cell_type": "code",
      "source": [
        "sns.boxplot(data=simulation)\n",
        "plt.xlabel(\"Net Revenue\")\n",
        "plt.ylabel(\"Reservation Limit\")\n",
        "plt.title(\"Net Revenue Simulation Box Plot\") \n",
        "plt.show()"
      ],
      "metadata": {
        "colab": {
          "base_uri": "https://localhost:8080/",
          "height": 301
        },
        "id": "DLgHTRVKdgFV",
        "outputId": "4aa25b49-92da-40b8-b84f-d9a68d16eaec"
      },
      "execution_count": 12,
      "outputs": [
        {
          "output_type": "display_data",
          "data": {
            "text/plain": [
              "<Figure size 432x288 with 1 Axes>"
            ],
            "image/png": "[encoded data removed]"
          },
          "metadata": {
            "needs_background": "light"
          }
        }
      ]
    },
    {
      "cell_type": "code",
      "source": [
        "ci_df = pd.DataFrame({})\n",
        "for index, rl in enumerate(simulation.keys()):\n",
        "    ci_df[rl] = st.t.interval(alpha=0.95, \n",
        "                              df=simulation.count()[rl]-1, \n",
        "                              loc=simulation.mean()[rl], \n",
        "                              scale=st.sem(simulation[rl]))\n",
        "ci_df = ci_df.transpose()\n",
        "ci_df = ci_df.rename(columns={0: \"lower CI\", 1: \"upper CI\"})\n",
        "ci_df[\"standard error\"] = [st.sem(simulation[rl]) for i, rl in enumerate(simulation.keys())]\n",
        "ci_df.transpose()"
      ],
      "metadata": {
        "colab": {
          "base_uri": "https://localhost:8080/",
          "height": 142
        },
        "id": "4OD_EGx5dhl3",
        "outputId": "1eb26fed-6ec1-4a89-9f05-714df8aa8fe0"
      },
      "execution_count": 13,
      "outputs": [
        {
          "output_type": "execute_result",
          "data": {
            "text/plain": [
              "                         300           305           310           315  \\\n",
              "lower CI        34477.393663  34939.638723  35335.604719  35358.214654   \n",
              "upper CI        34517.603361  34989.347509  35389.487153  35411.598994   \n",
              "standard error     10.252796     12.674904     13.739114     13.612108   \n",
              "\n",
              "                         320           325           330  \n",
              "lower CI        35166.838635  34934.929489  34805.660707  \n",
              "upper CI        35217.402373  34988.376303  34860.349677  \n",
              "standard error     12.892902     13.628038     13.944767  "
            ],
            "text/html": [
              "\n",
              "  <div id=\"df-0b17b1cb-f071-49ac-9050-e77186f9d22a\">\n",
              "    <div class=\"colab-df-container\">\n",
              "      <div>\n",
              "<style scoped>\n",
              "    .dataframe tbody tr th:only-of-type {\n",
              "        vertical-align: middle;\n",
              "    }\n",
              "\n",
              "    .dataframe tbody tr th {\n",
              "        vertical-align: top;\n",
              "    }\n",
              "\n",
              "    .dataframe thead th {\n",
              "        text-align: right;\n",
              "    }\n",
              "</style>\n",
              "<table border=\"1\" class=\"dataframe\">\n",
              "  <thead>\n",
              "    <tr style=\"text-align: right;\">\n",
              "      <th></th>\n",
              "      <th>300</th>\n",
              "      <th>305</th>\n",
              "      <th>310</th>\n",
              "      <th>315</th>\n",
              "      <th>320</th>\n",
              "      <th>325</th>\n",
              "      <th>330</th>\n",
              "    </tr>\n",
              "  </thead>\n",
              "  <tbody>\n",
              "    <tr>\n",
              "      <th>lower CI</th>\n",
              "      <td>34477.393663</td>\n",
              "      <td>34939.638723</td>\n",
              "      <td>35335.604719</td>\n",
              "      <td>35358.214654</td>\n",
              "      <td>35166.838635</td>\n",
              "      <td>34934.929489</td>\n",
              "      <td>34805.660707</td>\n",
              "    </tr>\n",
              "    <tr>\n",
              "      <th>upper CI</th>\n",
              "      <td>34517.603361</td>\n",
              "      <td>34989.347509</td>\n",
              "      <td>35389.487153</td>\n",
              "      <td>35411.598994</td>\n",
              "      <td>35217.402373</td>\n",
              "      <td>34988.376303</td>\n",
              "      <td>34860.349677</td>\n",
              "    </tr>\n",
              "    <tr>\n",
              "      <th>standard error</th>\n",
              "      <td>10.252796</td>\n",
              "      <td>12.674904</td>\n",
              "      <td>13.739114</td>\n",
              "      <td>13.612108</td>\n",
              "      <td>12.892902</td>\n",
              "      <td>13.628038</td>\n",
              "      <td>13.944767</td>\n",
              "    </tr>\n",
              "  </tbody>\n",
              "</table>\n",
              "</div>\n",
              "      <button class=\"colab-df-convert\" onclick=\"convertToInteractive('df-0b17b1cb-f071-49ac-9050-e77186f9d22a')\"\n",
              "              title=\"Convert this dataframe to an interactive table.\"\n",
              "              style=\"display:none;\">\n",
              "        \n",
              "  <svg xmlns=\"http://www.w3.org/2000/svg\" height=\"24px\"viewBox=\"0 0 24 24\"\n",
              "       width=\"24px\">\n",
              "    <path d=\"M0 0h24v24H0V0z\" fill=\"none\"/>\n",
              "    <path d=\"M18.56 5.44l.94 2.06.94-2.06 2.06-.94-2.06-.94-.94-2.06-.94 2.06-2.06.94zm-11 1L8.5 8.5l.94-2.06 2.06-.94-2.06-.94L8.5 2.5l-.94 2.06-2.06.94zm10 10l.94 2.06.94-2.06 2.06-.94-2.06-.94-.94-2.06-.94 2.06-2.06.94z\"/><path d=\"M17.41 7.96l-1.37-1.37c-.4-.4-.92-.59-1.43-.59-.52 0-1.04.2-1.43.59L10.3 9.45l-7.72 7.72c-.78.78-.78 2.05 0 2.83L4 21.41c.39.39.9.59 1.41.59.51 0 1.02-.2 1.41-.59l7.78-7.78 2.81-2.81c.8-.78.8-2.07 0-2.86zM5.41 20L4 18.59l7.72-7.72 1.47 1.35L5.41 20z\"/>\n",
              "  </svg>\n",
              "      </button>\n",
              "      \n",
              "  <style>\n",
              "    .colab-df-container {\n",
              "      display:flex;\n",
              "      flex-wrap:wrap;\n",
              "      gap: 12px;\n",
              "    }\n",
              "\n",
              "    .colab-df-convert {\n",
              "      background-color: #E8F0FE;\n",
              "      border: none;\n",
              "      border-radius: 50%;\n",
              "      cursor: pointer;\n",
              "      display: none;\n",
              "      fill: #1967D2;\n",
              "      height: 32px;\n",
              "      padding: 0 0 0 0;\n",
              "      width: 32px;\n",
              "    }\n",
              "\n",
              "    .colab-df-convert:hover {\n",
              "      background-color: #E2EBFA;\n",
              "      box-shadow: 0px 1px 2px rgba(60, 64, 67, 0.3), 0px 1px 3px 1px rgba(60, 64, 67, 0.15);\n",
              "      fill: #174EA6;\n",
              "    }\n",
              "\n",
              "    [theme=dark] .colab-df-convert {\n",
              "      background-color: #3B4455;\n",
              "      fill: #D2E3FC;\n",
              "    }\n",
              "\n",
              "    [theme=dark] .colab-df-convert:hover {\n",
              "      background-color: #434B5C;\n",
              "      box-shadow: 0px 1px 3px 1px rgba(0, 0, 0, 0.15);\n",
              "      filter: drop-shadow(0px 1px 2px rgba(0, 0, 0, 0.3));\n",
              "      fill: #FFFFFF;\n",
              "    }\n",
              "  </style>\n",
              "\n",
              "      <script>\n",
              "        const buttonEl =\n",
              "          document.querySelector('#df-0b17b1cb-f071-49ac-9050-e77186f9d22a button.colab-df-convert');\n",
              "        buttonEl.style.display =\n",
              "          google.colab.kernel.accessAllowed ? 'block' : 'none';\n",
              "\n",
              "        async function convertToInteractive(key) {\n",
              "          const element = document.querySelector('#df-0b17b1cb-f071-49ac-9050-e77186f9d22a');\n",
              "          const dataTable =\n",
              "            await google.colab.kernel.invokeFunction('convertToInteractive',\n",
              "                                                     [key], {});\n",
              "          if (!dataTable) return;\n",
              "\n",
              "          const docLinkHtml = 'Like what you see? Visit the ' +\n",
              "            '<a target=\"_blank\" href=https://colab.research.google.com/notebooks/data_table.ipynb>data table notebook</a>'\n",
              "            + ' to learn more about interactive tables.';\n",
              "          element.innerHTML = '';\n",
              "          dataTable['output_type'] = 'display_data';\n",
              "          await google.colab.output.renderOutput(dataTable, element);\n",
              "          const docLink = document.createElement('div');\n",
              "          docLink.innerHTML = docLinkHtml;\n",
              "          element.appendChild(docLink);\n",
              "        }\n",
              "      </script>\n",
              "    </div>\n",
              "  </div>\n",
              "  "
            ]
          },
          "metadata": {},
          "execution_count": 13
        }
      ]
    },
    {
      "cell_type": "code",
      "source": [
        "stats = round(stats.append(ci_df.transpose()), 2)\n",
        "print(stats)"
      ],
      "metadata": {
        "colab": {
          "base_uri": "https://localhost:8080/"
        },
        "id": "l4RNi2L4djx6",
        "outputId": "993dea0c-8cbf-4b18-e2c9-d1ab06dd63db"
      },
      "execution_count": 14,
      "outputs": [
        {
          "output_type": "stream",
          "name": "stdout",
          "text": [
            "                     300       305       310       315       320       325  \\\n",
            "count            2500.00   2500.00   2500.00   2500.00   2500.00   2500.00   \n",
            "mean            34497.50  34964.49  35362.55  35384.91  35192.12  34961.65   \n",
            "std               512.64    633.75    686.96    680.61    644.65    681.40   \n",
            "min             31022.14  31129.51  30673.32  30598.72  29974.21  31201.36   \n",
            "25%             34200.00  34680.00  35160.00  35293.15  35000.00  34600.00   \n",
            "50%             34560.00  35040.00  35600.00  35600.00  35300.00  35000.00   \n",
            "75%             34800.00  35400.00  35800.00  35800.00  35600.00  35442.32   \n",
            "max             35520.00  36000.00  36000.00  36000.00  36000.00  36000.00   \n",
            "lower CI        34477.39  34939.64  35335.60  35358.21  35166.84  34934.93   \n",
            "upper CI        34517.60  34989.35  35389.49  35411.60  35217.40  34988.38   \n",
            "standard error     10.25     12.67     13.74     13.61     12.89     13.63   \n",
            "\n",
            "                     330  \n",
            "count            2500.00  \n",
            "mean            34833.01  \n",
            "std               697.24  \n",
            "min             28109.26  \n",
            "25%             34315.63  \n",
            "50%             34838.58  \n",
            "75%             35394.86  \n",
            "max             35999.73  \n",
            "lower CI        34805.66  \n",
            "upper CI        34860.35  \n",
            "standard error     13.94  \n"
          ]
        }
      ]
    },
    {
      "cell_type": "code",
      "source": [
        "percentiles = np.arange(0, 1.05, 0.05) \n",
        "net_revenue = [round(np.percentile(simulation, q * 100), 2) for q in percentiles]\n",
        "net_revenue = pd.DataFrame({\n",
        "    \"Percentile\": percentiles,\n",
        "    \"Net Revenue\": net_revenue\n",
        "})\n",
        "print(net_revenue)"
      ],
      "metadata": {
        "colab": {
          "base_uri": "https://localhost:8080/"
        },
        "id": "MDkpMI3NdlIY",
        "outputId": "7ceadf90-d652-4ca5-a23d-51fe15f69017"
      },
      "execution_count": 15,
      "outputs": [
        {
          "output_type": "stream",
          "name": "stdout",
          "text": [
            "    Percentile  Net Revenue\n",
            "0         0.00     28109.26\n",
            "1         0.05     33800.00\n",
            "2         0.10     34152.72\n",
            "3         0.15     34320.00\n",
            "4         0.20     34500.00\n",
            "5         0.25     34600.00\n",
            "6         0.30     34725.09\n",
            "7         0.35     34813.00\n",
            "8         0.40     34920.00\n",
            "9         0.45     35040.00\n",
            "10        0.50     35160.00\n",
            "11        0.55     35227.15\n",
            "12        0.60     35300.00\n",
            "13        0.65     35400.00\n",
            "14        0.70     35500.00\n",
            "15        0.75     35600.00\n",
            "16        0.80     35644.08\n",
            "17        0.85     35760.00\n",
            "18        0.90     35834.75\n",
            "19        0.95     35900.00\n",
            "20        1.00     36000.00\n"
          ]
        }
      ]
    },
    {
      "cell_type": "code",
      "source": [
        "bins = np.arange(20000, 50000, 2500)\n",
        "hist, bins = np.histogram(simulation, bins=bins)\n",
        "freq_dist = pd.DataFrame({\n",
        "    \"Net Revenue\": pd.Series(bins),\n",
        "    \"Frequency\": pd.Series(hist)\n",
        "})\n",
        "print(freq_dist)"
      ],
      "metadata": {
        "colab": {
          "base_uri": "https://localhost:8080/"
        },
        "id": "gDj-ani0dnUH",
        "outputId": "1f896a55-65cb-4af8-aed4-181a3410d0da"
      },
      "execution_count": 16,
      "outputs": [
        {
          "output_type": "stream",
          "name": "stdout",
          "text": [
            "    Net Revenue  Frequency\n",
            "0         20000        0.0\n",
            "1         22500        0.0\n",
            "2         25000        0.0\n",
            "3         27500        2.0\n",
            "4         30000      130.0\n",
            "5         32500     7190.0\n",
            "6         35000    10178.0\n",
            "7         37500        0.0\n",
            "8         40000        0.0\n",
            "9         42500        0.0\n",
            "10        45000        0.0\n",
            "11        47500        NaN\n"
          ]
        }
      ]
    },
    {
      "cell_type": "code",
      "source": [
        "hist = sns.barplot(\n",
        "           x=freq_dist[\"Net Revenue\"], \n",
        "           y=freq_dist[\"Frequency\"],\n",
        "           palette=\"rocket\").hist#.set_xlim(2, 8)\n",
        "print(hist)"
      ],
      "metadata": {
        "colab": {
          "base_uri": "https://localhost:8080/",
          "height": 302
        },
        "id": "XSljC5Gkdon-",
        "outputId": "5b0d3f3d-7827-4fad-e38d-e7997116c257"
      },
      "execution_count": 17,
      "outputs": [
        {
          "output_type": "stream",
          "name": "stdout",
          "text": [
            "<bound method Axes.hist of <matplotlib.axes._subplots.AxesSubplot object at 0x7f989a1d8b10>>\n"
          ]
        },
        {
          "output_type": "display_data",
          "data": {
            "text/plain": [
              "<Figure size 432x288 with 1 Axes>"
            ],
            "image/png": "[encoded data removed]"
          },
          "metadata": {
            "needs_background": "light"
          }
        }
      ]
    }
  ]
}