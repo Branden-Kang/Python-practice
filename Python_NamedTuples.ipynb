{
  "nbformat": 4,
  "nbformat_minor": 0,
  "metadata": {
    "colab": {
      "name": "Python NamedTuples.ipynb",
      "provenance": [],
      "authorship_tag": "ABX9TyNMopwYHHtM72ov1bcN+NZ6"
    },
    "kernelspec": {
      "name": "python3",
      "display_name": "Python 3"
    }
  },
  "cells": [
    {
      "cell_type": "markdown",
      "metadata": {
        "id": "vKkyhM4b2LJm"
      },
      "source": [
        "[Reference](https://erdemisbilen.medium.com/python-namedtuples-how-they-help-you-to-write-readable-code-13a899d85dc3)"
      ]
    },
    {
      "cell_type": "code",
      "metadata": {
        "colab": {
          "base_uri": "https://localhost:8080/",
          "height": 266
        },
        "id": "bHKLIxAW2J2d",
        "outputId": "1c5d0525-9f82-4f75-ae01-f79308730a77"
      },
      "source": [
        "a_tuple = tuple()\n",
        "a_tuple = (1,2,3,4,5)\n",
        "\n",
        "print (a_tuple[2]) #accessing the element with only positional index\n",
        "a_tuple[0] = 10"
      ],
      "execution_count": 2,
      "outputs": [
        {
          "output_type": "stream",
          "text": [
            "3\n"
          ],
          "name": "stdout"
        },
        {
          "output_type": "error",
          "ename": "TypeError",
          "evalue": "ignored",
          "traceback": [
            "\u001b[0;31m---------------------------------------------------------------------------\u001b[0m",
            "\u001b[0;31mTypeError\u001b[0m                                 Traceback (most recent call last)",
            "\u001b[0;32m<ipython-input-2-007c442f8be6>\u001b[0m in \u001b[0;36m<module>\u001b[0;34m()\u001b[0m\n\u001b[1;32m      3\u001b[0m \u001b[0;34m\u001b[0m\u001b[0m\n\u001b[1;32m      4\u001b[0m \u001b[0mprint\u001b[0m \u001b[0;34m(\u001b[0m\u001b[0ma_tuple\u001b[0m\u001b[0;34m[\u001b[0m\u001b[0;36m2\u001b[0m\u001b[0;34m]\u001b[0m\u001b[0;34m)\u001b[0m \u001b[0;31m#accessing the element with only positional index\u001b[0m\u001b[0;34m\u001b[0m\u001b[0;34m\u001b[0m\u001b[0m\n\u001b[0;32m----> 5\u001b[0;31m \u001b[0ma_tuple\u001b[0m\u001b[0;34m[\u001b[0m\u001b[0;36m0\u001b[0m\u001b[0;34m]\u001b[0m \u001b[0;34m=\u001b[0m \u001b[0;36m10\u001b[0m\u001b[0;34m\u001b[0m\u001b[0;34m\u001b[0m\u001b[0m\n\u001b[0m",
            "\u001b[0;31mTypeError\u001b[0m: 'tuple' object does not support item assignment"
          ]
        }
      ]
    },
    {
      "cell_type": "code",
      "metadata": {
        "colab": {
          "base_uri": "https://localhost:8080/"
        },
        "id": "dX_ynuO_2PCZ",
        "outputId": "90ac307f-8487-4089-e091-3e1e668f9913"
      },
      "source": [
        "from collections import namedtuple\n",
        "import math\n",
        "\n",
        "Polar_Coordinate = namedtuple('Polar_Coordinate', 'r theta')\n",
        "\n",
        "\n",
        "def convert_cartesian_to_polar(x, y):  #Calculate Polar Cooordinates\n",
        "  r0 = (x**2 + y**2)**0.5\n",
        "  theta0 = math.atan2(y,x)  #Convert from radians to degrees\n",
        "  theta0 = math.degrees(theta0)\n",
        "  \n",
        "  return Polar_Coordinate(theta=theta0, r=r0)\n",
        "  \n",
        "\n",
        "box_position = convert_cartesian_to_polar(10, 10)\n",
        "\n",
        "print(box_position)\n",
        "print(box_position.r)\n",
        "print(box_position.theta)\n",
        "print(type(box_position))"
      ],
      "execution_count": 3,
      "outputs": [
        {
          "output_type": "stream",
          "text": [
            "Polar_Coordinate(r=14.142135623730951, theta=45.0)\n",
            "14.142135623730951\n",
            "45.0\n",
            "<class '__main__.Polar_Coordinate'>\n"
          ],
          "name": "stdout"
        }
      ]
    }
  ]
}