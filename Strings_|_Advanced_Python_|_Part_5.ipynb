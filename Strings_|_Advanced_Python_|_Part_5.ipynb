{
  "nbformat": 4,
  "nbformat_minor": 0,
  "metadata": {
    "colab": {
      "provenance": [],
      "authorship_tag": "ABX9TyOQmyq46zwdS8WXKHRSg+Ea"
    },
    "kernelspec": {
      "name": "python3",
      "display_name": "Python 3"
    },
    "language_info": {
      "name": "python"
    }
  },
  "cells": [
    {
      "cell_type": "markdown",
      "source": [
        "[Reference](https://blog.jovian.ai/strings-advanced-python-part-5-c4b3a56c18e4)"
      ],
      "metadata": {
        "id": "AyCme8WCzT0N"
      }
    },
    {
      "cell_type": "code",
      "execution_count": 1,
      "metadata": {
        "colab": {
          "base_uri": "https://localhost:8080/"
        },
        "id": "XRsBIv76zSgG",
        "outputId": "8e7f1bdf-5a8f-4093-d606-26c492d9aad3"
      },
      "outputs": [
        {
          "output_type": "stream",
          "name": "stdout",
          "text": [
            "I' m  a 'Geek'\n"
          ]
        }
      ],
      "source": [
        "my_string = 'Hello'\n",
        "my_string = \"Hello\"\n",
        "my_string = \"I' m  a 'Geek'\"\n",
        "print(my_string)"
      ]
    },
    {
      "cell_type": "code",
      "source": [
        "my_string = 'I\\' m  a \"Geek\"'\n",
        "my_string = 'I\\' m a \\'Geek\\''\n",
        "print(my_string)"
      ],
      "metadata": {
        "colab": {
          "base_uri": "https://localhost:8080/"
        },
        "id": "bisx-qe6zaHE",
        "outputId": "f5507253-7668-408b-ec3b-020ff88e23ad"
      },
      "execution_count": 2,
      "outputs": [
        {
          "output_type": "stream",
          "name": "stdout",
          "text": [
            "I' m a 'Geek'\n"
          ]
        }
      ]
    },
    {
      "cell_type": "code",
      "source": [
        "my_string = \"\"\"Hello\n",
        "World\"\"\"\n",
        "print(my_string)"
      ],
      "metadata": {
        "colab": {
          "base_uri": "https://localhost:8080/"
        },
        "id": "ILLzFL8NzbG7",
        "outputId": "0131eed1-cba4-4c23-b33d-f661e647bafb"
      },
      "execution_count": 3,
      "outputs": [
        {
          "output_type": "stream",
          "name": "stdout",
          "text": [
            "Hello\n",
            "World\n"
          ]
        }
      ]
    },
    {
      "cell_type": "code",
      "source": [
        "my_string = \"Hello \\\n",
        "World\"\n",
        "print(my_string)"
      ],
      "metadata": {
        "colab": {
          "base_uri": "https://localhost:8080/"
        },
        "id": "Rm8RMYtyzeYz",
        "outputId": "55a43749-407d-462f-810a-5d64ac36bd1b"
      },
      "execution_count": 4,
      "outputs": [
        {
          "output_type": "stream",
          "name": "stdout",
          "text": [
            "Hello World\n"
          ]
        }
      ]
    },
    {
      "cell_type": "code",
      "source": [
        "b = my_string[0]\n",
        "print(b) # H"
      ],
      "metadata": {
        "colab": {
          "base_uri": "https://localhost:8080/"
        },
        "id": "Y5cxzjpgzeiL",
        "outputId": "f4af47ee-8dcc-4bcd-a801-52832c82704c"
      },
      "execution_count": 5,
      "outputs": [
        {
          "output_type": "stream",
          "name": "stdout",
          "text": [
            "H\n"
          ]
        }
      ]
    },
    {
      "cell_type": "code",
      "source": [
        "b = my_string[1:3] # Note that the last index is not included\n",
        "print(b) # el\n",
        "b = my_string[:5] # From beginning\n",
        "print(b) # Hello\n",
        "b = my_string[6:] # Until the end\n",
        "print(b) # World\n",
        "b = my_string[::2] # Start to end with every second item\n",
        "print(b) # HloWrd\n",
        "b = my_string[::-1] # Reverse the string with a negative step:\n",
        "print(b) # dlroW olleH"
      ],
      "metadata": {
        "colab": {
          "base_uri": "https://localhost:8080/"
        },
        "id": "FlKxnqlPzk78",
        "outputId": "4c9eb0cb-4b99-44ed-9211-8f272f63a3ac"
      },
      "execution_count": 6,
      "outputs": [
        {
          "output_type": "stream",
          "name": "stdout",
          "text": [
            "el\n",
            "Hello\n",
            "World\n",
            "HloWrd\n",
            "dlroW olleH\n"
          ]
        }
      ]
    },
    {
      "cell_type": "code",
      "source": [
        "greeting = \"Hello\"\n",
        "name = \"Tom\"\n",
        "sentence = greeting + ' ' + name\n",
        "print(sentence)"
      ],
      "metadata": {
        "colab": {
          "base_uri": "https://localhost:8080/"
        },
        "id": "L7t2uyxTzmd9",
        "outputId": "fb158a91-2f62-425a-d1cd-84a6498f7716"
      },
      "execution_count": 7,
      "outputs": [
        {
          "output_type": "stream",
          "name": "stdout",
          "text": [
            "Hello Tom\n"
          ]
        }
      ]
    },
    {
      "cell_type": "code",
      "source": [
        "my_string = 'Hello'\n",
        "for i in my_string:\n",
        "    print(i)"
      ],
      "metadata": {
        "colab": {
          "base_uri": "https://localhost:8080/"
        },
        "id": "D5RkgewFzoHk",
        "outputId": "60aeec8c-6fdb-4d28-d8be-767c8ef6bc1a"
      },
      "execution_count": 8,
      "outputs": [
        {
          "output_type": "stream",
          "name": "stdout",
          "text": [
            "H\n",
            "e\n",
            "l\n",
            "l\n",
            "o\n"
          ]
        }
      ]
    },
    {
      "cell_type": "code",
      "source": [
        "if \"e\" in \"Hello\":\n",
        "    print(\"yes\")\n",
        "if \"llo\" in \"Hello\":\n",
        "    print(\"yes\")"
      ],
      "metadata": {
        "colab": {
          "base_uri": "https://localhost:8080/"
        },
        "id": "2rZAxqDqzpF0",
        "outputId": "d5738316-c56c-4484-9707-de3bfca0e8ab"
      },
      "execution_count": 9,
      "outputs": [
        {
          "output_type": "stream",
          "name": "stdout",
          "text": [
            "yes\n",
            "yes\n"
          ]
        }
      ]
    },
    {
      "cell_type": "code",
      "source": [
        "my_string = my_string.strip()\n",
        "print(my_string)"
      ],
      "metadata": {
        "colab": {
          "base_uri": "https://localhost:8080/"
        },
        "id": "giNNBpL7zqD8",
        "outputId": "8e441693-9a07-46d5-cbcb-eca1abbe2466"
      },
      "execution_count": 10,
      "outputs": [
        {
          "output_type": "stream",
          "name": "stdout",
          "text": [
            "Hello\n"
          ]
        }
      ]
    },
    {
      "cell_type": "code",
      "source": [
        "print(len(my_string))"
      ],
      "metadata": {
        "colab": {
          "base_uri": "https://localhost:8080/"
        },
        "id": "yk_RXgW1zrSU",
        "outputId": "d2fd795b-08d3-455c-b929-8d085de170b5"
      },
      "execution_count": 11,
      "outputs": [
        {
          "output_type": "stream",
          "name": "stdout",
          "text": [
            "5\n"
          ]
        }
      ]
    },
    {
      "cell_type": "code",
      "source": [
        "print(my_string.upper())\n",
        "print(my_string.lower())"
      ],
      "metadata": {
        "colab": {
          "base_uri": "https://localhost:8080/"
        },
        "id": "_VT5miqYzuL1",
        "outputId": "1b347eff-2232-40a4-972d-6ed9b2c9ad4c"
      },
      "execution_count": 12,
      "outputs": [
        {
          "output_type": "stream",
          "name": "stdout",
          "text": [
            "HELLO\n",
            "hello\n"
          ]
        }
      ]
    },
    {
      "cell_type": "code",
      "source": [
        "print(\"hello\".startswith(\"he\"))\n",
        "print(\"hello\".endswith(\"llo\"))"
      ],
      "metadata": {
        "colab": {
          "base_uri": "https://localhost:8080/"
        },
        "id": "ONe1qlrwzvH-",
        "outputId": "728e8a12-5aa7-499b-f687-a365369680b4"
      },
      "execution_count": 13,
      "outputs": [
        {
          "output_type": "stream",
          "name": "stdout",
          "text": [
            "True\n",
            "True\n"
          ]
        }
      ]
    },
    {
      "cell_type": "code",
      "source": [
        "print(\"Hello\".find(\"o\"))"
      ],
      "metadata": {
        "colab": {
          "base_uri": "https://localhost:8080/"
        },
        "id": "3x5WmPAezwBt",
        "outputId": "c3e045a6-4371-468d-c0b9-85837965c6c0"
      },
      "execution_count": 14,
      "outputs": [
        {
          "output_type": "stream",
          "name": "stdout",
          "text": [
            "4\n"
          ]
        }
      ]
    },
    {
      "cell_type": "code",
      "source": [
        "print(\"Hello\".count(\"e\"))"
      ],
      "metadata": {
        "colab": {
          "base_uri": "https://localhost:8080/"
        },
        "id": "VSzF6gyqzxNd",
        "outputId": "11af2178-14f9-423d-f1e8-e71ee80eb50c"
      },
      "execution_count": 15,
      "outputs": [
        {
          "output_type": "stream",
          "name": "stdout",
          "text": [
            "1\n"
          ]
        }
      ]
    },
    {
      "cell_type": "code",
      "source": [
        "message = \"Hello World\"\n",
        "new_message = message.replace(\"World\", \"Universe\")\n",
        "print(new_message)"
      ],
      "metadata": {
        "colab": {
          "base_uri": "https://localhost:8080/"
        },
        "id": "w3tHjYV4zyPd",
        "outputId": "c20ebf5c-90a9-48b3-a428-b7c817317797"
      },
      "execution_count": 16,
      "outputs": [
        {
          "output_type": "stream",
          "name": "stdout",
          "text": [
            "Hello Universe\n"
          ]
        }
      ]
    },
    {
      "cell_type": "code",
      "source": [
        "my_string = \"how are you doing\"\n",
        "a = my_string.split() # default argument is \" \"\n",
        "print(a)\n",
        "my_string = \"one,two,three\"\n",
        "a = my_string.split(\",\")\n",
        "print(a)"
      ],
      "metadata": {
        "colab": {
          "base_uri": "https://localhost:8080/"
        },
        "id": "1WMU305-zzgN",
        "outputId": "2c4ba94f-93eb-49b6-8440-4a25616b4d76"
      },
      "execution_count": 17,
      "outputs": [
        {
          "output_type": "stream",
          "name": "stdout",
          "text": [
            "['how', 'are', 'you', 'doing']\n",
            "['one', 'two', 'three']\n"
          ]
        }
      ]
    },
    {
      "cell_type": "code",
      "source": [
        "my_list = ['How', 'are', 'you', 'doing']\n",
        "a = ' '.join(my_list) # the given string is the separator, e.g. ' ' between each argument\n",
        "print(a)"
      ],
      "metadata": {
        "colab": {
          "base_uri": "https://localhost:8080/"
        },
        "id": "KNHFTyoKz0uG",
        "outputId": "2467921e-04d7-4a65-b8ed-065bf7d9d629"
      },
      "execution_count": 18,
      "outputs": [
        {
          "output_type": "stream",
          "name": "stdout",
          "text": [
            "How are you doing\n"
          ]
        }
      ]
    },
    {
      "cell_type": "code",
      "source": [
        "a = \"Hello {0} and {1}\".format(\"Bob\", \"Tom\")\n",
        "print(a)"
      ],
      "metadata": {
        "colab": {
          "base_uri": "https://localhost:8080/"
        },
        "id": "zWzWG7dxz3dm",
        "outputId": "58d509ae-2a72-4bd4-8b69-21bd154ddf9d"
      },
      "execution_count": 19,
      "outputs": [
        {
          "output_type": "stream",
          "name": "stdout",
          "text": [
            "Hello Bob and Tom\n"
          ]
        }
      ]
    },
    {
      "cell_type": "code",
      "source": [
        "a = \"Hello {} and {}\".format(\"Bob\", \"Tom\")\n",
        "print(a) \n",
        "a = \"The integer value is {}\".format(2)\n",
        "print(a)"
      ],
      "metadata": {
        "colab": {
          "base_uri": "https://localhost:8080/"
        },
        "id": "fdwKkP1K0Kpe",
        "outputId": "287dab4b-8eab-40ed-af67-2be3ecb30981"
      },
      "execution_count": 20,
      "outputs": [
        {
          "output_type": "stream",
          "name": "stdout",
          "text": [
            "Hello Bob and Tom\n",
            "The integer value is 2\n"
          ]
        }
      ]
    },
    {
      "cell_type": "code",
      "source": [
        "a = \"The float value is {0:.3f}\".format(2.1234)\n",
        "print(a) # \n",
        "a = \"The float value is {0:e}\".format(2.1234)\n",
        "print(a) \n",
        "a = \"The binary value is {0:b}\".format(2)\n",
        "print(a)"
      ],
      "metadata": {
        "colab": {
          "base_uri": "https://localhost:8080/"
        },
        "id": "msop6Dam0Lnf",
        "outputId": "4e8e3182-f729-45c3-c2b1-6652fcc432e6"
      },
      "execution_count": 21,
      "outputs": [
        {
          "output_type": "stream",
          "name": "stdout",
          "text": [
            "The float value is 2.123\n",
            "The float value is 2.123400e+00\n",
            "The binary value is 10\n"
          ]
        }
      ]
    },
    {
      "cell_type": "code",
      "source": [
        "print(\"Hello %s and %s\" % (\"Bob\", \"Tom\")) \n",
        "val =  3.14159265359\n",
        "print(\"The decimal value is %d\" % val)\n",
        "print(\"The float value is %f\" % val)\n",
        "print(\"The float value is %.2f\" % val)"
      ],
      "metadata": {
        "colab": {
          "base_uri": "https://localhost:8080/"
        },
        "id": "hwh78WKk0QLR",
        "outputId": "54f56b36-d151-46e8-d9bd-8b4543623363"
      },
      "execution_count": 22,
      "outputs": [
        {
          "output_type": "stream",
          "name": "stdout",
          "text": [
            "Hello Bob and Tom\n",
            "The decimal value is 3\n",
            "The float value is 3.141593\n",
            "The float value is 3.14\n"
          ]
        }
      ]
    },
    {
      "cell_type": "code",
      "source": [
        "name = \"Eric\"\n",
        "age = 25\n",
        "a = f\"Hello, {name}. You are {age}.\"\n",
        "print(a)\n",
        "pi = 3.14159\n",
        "a = f\"Pi is {pi:.3f}\"\n",
        "print(a)"
      ],
      "metadata": {
        "colab": {
          "base_uri": "https://localhost:8080/"
        },
        "id": "hrZRmJSU0R_f",
        "outputId": "bf50cc71-2e0c-43ec-9fd8-3c4bf2beda99"
      },
      "execution_count": 23,
      "outputs": [
        {
          "output_type": "stream",
          "name": "stdout",
          "text": [
            "Hello, Eric. You are 25.\n",
            "Pi is 3.142\n"
          ]
        }
      ]
    },
    {
      "cell_type": "code",
      "source": [
        "a = f\"The value is {2*60}\"\n",
        "print(a)"
      ],
      "metadata": {
        "colab": {
          "base_uri": "https://localhost:8080/"
        },
        "id": "B6eM7JV60TgH",
        "outputId": "70ca5b2d-fb4e-4897-8f44-d5290aff9b75"
      },
      "execution_count": 24,
      "outputs": [
        {
          "output_type": "stream",
          "name": "stdout",
          "text": [
            "The value is 120\n"
          ]
        }
      ]
    },
    {
      "cell_type": "code",
      "source": [
        "from timeit import default_timer as timer\n",
        "my_list = [\"a\"] * 1000000\n",
        "# Bad\n",
        "start = timer()\n",
        "a = \"\"\n",
        "for i in my_list:\n",
        "    a += i\n",
        "end = timer()\n",
        "print(\"concatenate string with + : %.5f\" % (end - start))\n",
        "# Good\n",
        "start = timer()\n",
        "a = \"\".join(my_list)\n",
        "end = timer()\n",
        "print(\"concatenate string with join(): %.5f\" % (end - start))"
      ],
      "metadata": {
        "colab": {
          "base_uri": "https://localhost:8080/"
        },
        "id": "gkeXbcVU0U4Q",
        "outputId": "af6ee163-04ff-4516-8dbe-100dd2148210"
      },
      "execution_count": 25,
      "outputs": [
        {
          "output_type": "stream",
          "name": "stdout",
          "text": [
            "concatenate string with + : 0.45706\n",
            "concatenate string with join(): 0.01122\n"
          ]
        }
      ]
    }
  ]
}