{
  "nbformat": 4,
  "nbformat_minor": 0,
  "metadata": {
    "colab": {
      "provenance": [],
      "authorship_tag": "ABX9TyO5JEJT6AJGCjm7qLpSelZL"
    },
    "kernelspec": {
      "name": "python3",
      "display_name": "Python 3"
    },
    "language_info": {
      "name": "python"
    }
  },
  "cells": [
    {
      "cell_type": "markdown",
      "source": [
        "[Reference](https://medium.com/@techclaw/count-occurrences-of-items-in-a-python-list-a-comprehensive-guide-8d2e1fc95964)"
      ],
      "metadata": {
        "id": "F4ZjrtUjWeIl"
      }
    },
    {
      "cell_type": "code",
      "execution_count": 1,
      "metadata": {
        "id": "-0i4Y4xRH_aV"
      },
      "outputs": [],
      "source": [
        "def count_occurrences(lst):\n",
        "    counts = {}\n",
        "    for item in lst:\n",
        "        if item in counts:\n",
        "            counts[item] += 1\n",
        "        else:\n",
        "            counts[item] = 1\n",
        "    return counts"
      ]
    },
    {
      "cell_type": "code",
      "source": [
        "from collections import Counter\n",
        "def count_occurrences(lst):\n",
        "    return Counter(lst)"
      ],
      "metadata": {
        "id": "I2GlWjwzWgmP"
      },
      "execution_count": 2,
      "outputs": []
    }
  ]
}