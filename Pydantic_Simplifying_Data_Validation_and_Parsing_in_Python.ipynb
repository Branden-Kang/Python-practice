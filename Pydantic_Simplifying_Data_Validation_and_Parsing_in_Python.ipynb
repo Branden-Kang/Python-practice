{
  "nbformat": 4,
  "nbformat_minor": 0,
  "metadata": {
    "colab": {
      "provenance": [],
      "authorship_tag": "ABX9TyOaTeKHStE8ZpG07k0YDmWC"
    },
    "kernelspec": {
      "name": "python3",
      "display_name": "Python 3"
    },
    "language_info": {
      "name": "python"
    }
  },
  "cells": [
    {
      "cell_type": "markdown",
      "source": [
        "[Reference](https://code.likeagirl.io/pydantic-simplifying-data-validation-and-parsing-in-python-5b8edd76897)"
      ],
      "metadata": {
        "id": "nqHRJDq9u3mQ"
      }
    },
    {
      "cell_type": "code",
      "execution_count": 1,
      "metadata": {
        "colab": {
          "base_uri": "https://localhost:8080/"
        },
        "id": "i2cvppcIuJ6v",
        "outputId": "3fa112d1-4553-45c7-e4f8-0e67d7b8468f"
      },
      "outputs": [
        {
          "output_type": "stream",
          "name": "stdout",
          "text": [
            "Requirement already satisfied: pydantic in /usr/local/lib/python3.10/dist-packages (1.10.13)\n",
            "Requirement already satisfied: typing-extensions>=4.2.0 in /usr/local/lib/python3.10/dist-packages (from pydantic) (4.5.0)\n"
          ]
        }
      ],
      "source": [
        "pip install pydantic"
      ]
    },
    {
      "cell_type": "markdown",
      "source": [
        "# Define a Pydantic Model"
      ],
      "metadata": {
        "id": "uRJ2g1qTvHj4"
      }
    },
    {
      "cell_type": "code",
      "source": [
        "from pydantic import BaseModel\n",
        "\n",
        "class Person(BaseModel):\n",
        "    name: str\n",
        "    age: int\n",
        "    email: str"
      ],
      "metadata": {
        "id": "BeaP238IvFhF"
      },
      "execution_count": 2,
      "outputs": []
    },
    {
      "cell_type": "markdown",
      "source": [
        "# Using the Pydantic Model"
      ],
      "metadata": {
        "id": "nrq4wSh5vIf4"
      }
    },
    {
      "cell_type": "code",
      "source": [
        "from typing import List\n",
        "import json\n",
        "\n",
        "# Sample JSON data\n",
        "json_data = '''\n",
        "{\n",
        "    \"name\": \"Alice\",\n",
        "    \"age\": 30,\n",
        "    \"email\": \"alice@example.com\"\n",
        "}\n",
        "'''\n",
        "\n",
        "# Parse JSON data into a Person object\n",
        "person_data = json.loads(json_data)\n",
        "person = Person(**person_data)\n",
        "\n",
        "# Access validated data\n",
        "print(f\"Name: {person.name}\")\n",
        "print(f\"Age: {person.age}\")\n",
        "print(f\"Email: {person.email}\")"
      ],
      "metadata": {
        "colab": {
          "base_uri": "https://localhost:8080/"
        },
        "id": "uGJtU9hnvLTG",
        "outputId": "1b8b5eb1-57fe-40ea-ccdd-2e901d687b89"
      },
      "execution_count": 3,
      "outputs": [
        {
          "output_type": "stream",
          "name": "stdout",
          "text": [
            "Name: Alice\n",
            "Age: 30\n",
            "Email: alice@example.com\n"
          ]
        }
      ]
    }
  ]
}