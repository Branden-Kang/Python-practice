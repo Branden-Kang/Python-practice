{
  "nbformat": 4,
  "nbformat_minor": 0,
  "metadata": {
    "colab": {
      "name": "How to Take Multiple Inputs From Users In Python.ipynb",
      "provenance": [],
      "authorship_tag": "ABX9TyP3Dqv16PuLU97+k962xwf0"
    },
    "kernelspec": {
      "name": "python3",
      "display_name": "Python 3"
    },
    "language_info": {
      "name": "python"
    }
  },
  "cells": [
    {
      "cell_type": "markdown",
      "metadata": {
        "id": "G9rG3naRLLgx"
      },
      "source": [
        "[Reference](https://python.plainenglish.io/taking-multiple-inputs-from-user-in-python-3-6cbe02d03a95)"
      ]
    },
    {
      "cell_type": "code",
      "metadata": {
        "colab": {
          "base_uri": "https://localhost:8080/"
        },
        "id": "y7uvZvADKQl1",
        "outputId": "4e9f0ee5-6cec-456f-d423-c971468dbee6"
      },
      "source": [
        "a,b = input(\"Enter 2 variables\").split()\n",
        "print(\"a is:\",a)\n",
        "print(\"b is:\",b)"
      ],
      "execution_count": 1,
      "outputs": [
        {
          "output_type": "stream",
          "text": [
            "Enter 2 variableshi branden\n",
            "a is: hi\n",
            "b is: branden\n"
          ],
          "name": "stdout"
        }
      ]
    },
    {
      "cell_type": "code",
      "metadata": {
        "colab": {
          "base_uri": "https://localhost:8080/"
        },
        "id": "Neiu_iL5LRXg",
        "outputId": "8af3ed46-5309-42dc-a1bb-810a8a099bae"
      },
      "source": [
        "a,b = input(\"Enter 2 variables\").split()\n",
        "print(\"a is:\",a)\n",
        "print(\"b is:\",b)"
      ],
      "execution_count": 2,
      "outputs": [
        {
          "output_type": "stream",
          "text": [
            "Enter 2 variables12 34\n",
            "a is: 12\n",
            "b is: 34\n"
          ],
          "name": "stdout"
        }
      ]
    },
    {
      "cell_type": "code",
      "metadata": {
        "colab": {
          "base_uri": "https://localhost:8080/"
        },
        "id": "DlMsE0SzLWX4",
        "outputId": "8de5016e-abf0-4879-f688-588a9dd62553"
      },
      "source": [
        "x,y,z = input(\"Enter variables: \").split(\",\",3)\n",
        "print(x,y,z)"
      ],
      "execution_count": 3,
      "outputs": [
        {
          "output_type": "stream",
          "text": [
            "Enter variables: how,are,you\n",
            "how are you\n"
          ],
          "name": "stdout"
        }
      ]
    },
    {
      "cell_type": "code",
      "metadata": {
        "colab": {
          "base_uri": "https://localhost:8080/"
        },
        "id": "dWg1dJgdLaMf",
        "outputId": "82a58a8c-f379-410a-a8df-4cce0ca4ddb5"
      },
      "source": [
        "x,y,z = input(\"Enter variables: \").split(\",\")\n",
        "print(x,y,z)"
      ],
      "execution_count": 4,
      "outputs": [
        {
          "output_type": "stream",
          "text": [
            "Enter variables: how,are,you\n",
            "how are you\n"
          ],
          "name": "stdout"
        }
      ]
    },
    {
      "cell_type": "code",
      "metadata": {
        "colab": {
          "base_uri": "https://localhost:8080/"
        },
        "id": "hOB4pkUuLdLZ",
        "outputId": "56c5ec40-86a1-4cea-8b79-4407139f589d"
      },
      "source": [
        "x= input(\"Enter variables: \").split(\",\")\n",
        "print(x)"
      ],
      "execution_count": 5,
      "outputs": [
        {
          "output_type": "stream",
          "text": [
            "Enter variables: how,are,you,branden\n",
            "['how', 'are', 'you', 'branden']\n"
          ],
          "name": "stdout"
        }
      ]
    },
    {
      "cell_type": "code",
      "metadata": {
        "colab": {
          "base_uri": "https://localhost:8080/"
        },
        "id": "dwfzY8eTLgZt",
        "outputId": "dff085f2-59b7-4c69-ddb1-74e26e6d4169"
      },
      "source": [
        "x = list(map(int, input(\"Enter multiple value: \").split()))\n",
        "print(\"List of students: \", x)"
      ],
      "execution_count": 6,
      "outputs": [
        {
          "output_type": "stream",
          "text": [
            "Enter multiple value: 100 90 80 70 50\n",
            "List of students:  [100, 90, 80, 70, 50]\n"
          ],
          "name": "stdout"
        }
      ]
    },
    {
      "cell_type": "code",
      "metadata": {
        "colab": {
          "base_uri": "https://localhost:8080/"
        },
        "id": "Sk7ePyozLnvy",
        "outputId": "02a05eda-36e9-4507-f7b4-2eadf0364517"
      },
      "source": [
        "x = list(input(\"Enter multiple value: \").split())\n",
        "print(\"List of students: \", x)"
      ],
      "execution_count": 7,
      "outputs": [
        {
          "output_type": "stream",
          "text": [
            "Enter multiple value: Hi I am 21 and I am Data Scientist\n",
            "List of students:  ['Hi', 'I', 'am', '21', 'and', 'I', 'am', 'Data', 'Scientist']\n"
          ],
          "name": "stdout"
        }
      ]
    },
    {
      "cell_type": "code",
      "metadata": {
        "colab": {
          "base_uri": "https://localhost:8080/"
        },
        "id": "-NNYL3eKLr1Q",
        "outputId": "26e4737e-33e0-443c-9d27-f5f50d78d5d7"
      },
      "source": [
        "x,y = [int(x) for x in input(\"Enter 2 values: \").split()]\n",
        "print(\"x is \",x)\n",
        "print(\"y is\",y)"
      ],
      "execution_count": 8,
      "outputs": [
        {
          "output_type": "stream",
          "text": [
            "Enter 2 values: 100 90\n",
            "x is  100\n",
            "y is 90\n"
          ],
          "name": "stdout"
        }
      ]
    },
    {
      "cell_type": "code",
      "metadata": {
        "colab": {
          "base_uri": "https://localhost:8080/"
        },
        "id": "n5digjbELxSF",
        "outputId": "284149f6-be31-4997-9671-1b39384ecbd3"
      },
      "source": [
        "x,y = [int(x) for x in input().split()]\n",
        "print(\"x is \",x)\n",
        "print(\"y is\",y)"
      ],
      "execution_count": 9,
      "outputs": [
        {
          "output_type": "stream",
          "text": [
            "100 80\n",
            "x is  100\n",
            "y is 80\n"
          ],
          "name": "stdout"
        }
      ]
    },
    {
      "cell_type": "code",
      "metadata": {
        "colab": {
          "base_uri": "https://localhost:8080/"
        },
        "id": "8iahnwN3L1pe",
        "outputId": "50223ac9-eb3b-4496-9674-3bbd3cb33a7b"
      },
      "source": [
        "x = [int(x) for x in input().split()]\n",
        "print(\"Number of list is: \", x)"
      ],
      "execution_count": 10,
      "outputs": [
        {
          "output_type": "stream",
          "text": [
            "100 80 90 70 100 90 99\n",
            "Number of list is:  [100, 80, 90, 70, 100, 90, 99]\n"
          ],
          "name": "stdout"
        }
      ]
    },
    {
      "cell_type": "code",
      "metadata": {
        "colab": {
          "base_uri": "https://localhost:8080/"
        },
        "id": "hlz6R7jDL5gE",
        "outputId": "f060acd6-0a1e-4641-a480-227783d8be9d"
      },
      "source": [
        "n = int(input())\n",
        "\n",
        "# defining empy list:\n",
        "\n",
        "L= []\n",
        "\n",
        "# Taking multiple inputs based on n:\n",
        "\n",
        "for i in range(n):\n",
        "    t = input().split()"
      ],
      "execution_count": 12,
      "outputs": [
        {
          "output_type": "stream",
          "text": [
            "2\n",
            "10 20\n",
            "30 30\n"
          ],
          "name": "stdout"
        }
      ]
    },
    {
      "cell_type": "code",
      "metadata": {
        "colab": {
          "base_uri": "https://localhost:8080/"
        },
        "id": "0o7jmb5qL_q8",
        "outputId": "3cfdaacf-27ca-44b7-9854-82c885e59cfc"
      },
      "source": [
        "x = [int(x) for x in input().split(\",\")]\n",
        "print(\"Number of list is: \", x)"
      ],
      "execution_count": 13,
      "outputs": [
        {
          "output_type": "stream",
          "text": [
            "1,2,3,4,5,6,7,8,9\n",
            "Number of list is:  [1, 2, 3, 4, 5, 6, 7, 8, 9]\n"
          ],
          "name": "stdout"
        }
      ]
    },
    {
      "cell_type": "code",
      "metadata": {
        "colab": {
          "base_uri": "https://localhost:8080/"
        },
        "id": "T1lgSgWpMKf-",
        "outputId": "995bdab4-33df-4782-877d-2ae67a4e943a"
      },
      "source": [
        "string = \" the King has the largest army in the entire world the\"\n",
        "# prints the string after removing \"the\" from beginning and end\n",
        "print(string.strip(\" the\"))\n",
        "# prints the string after removing \".the\" from beginning and end\n",
        "print(string.strip(\" .the\"))"
      ],
      "execution_count": 14,
      "outputs": [
        {
          "output_type": "stream",
          "text": [
            "King has the largest army in the entire world\n",
            "King has the largest army in the entire world\n"
          ],
          "name": "stdout"
        }
      ]
    }
  ]
}