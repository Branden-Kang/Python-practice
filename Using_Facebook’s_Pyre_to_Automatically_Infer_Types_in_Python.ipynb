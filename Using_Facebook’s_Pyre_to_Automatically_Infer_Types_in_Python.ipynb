{
  "nbformat": 4,
  "nbformat_minor": 0,
  "metadata": {
    "colab": {
      "name": " Using Facebook’s Pyre to Automatically Infer Types in Python.ipynb",
      "provenance": [],
      "authorship_tag": "ABX9TyMqX+IV1D20G+D3ro6ja7Hv"
    },
    "kernelspec": {
      "name": "python3",
      "display_name": "Python 3"
    },
    "language_info": {
      "name": "python"
    }
  },
  "cells": [
    {
      "cell_type": "markdown",
      "metadata": {
        "id": "z9lMI0W_R12_"
      },
      "source": [
        "[Reference](https://python.plainenglish.io/using-facebooks-pyre-to-infer-types-in-python-automatically-718d028fe57d)"
      ]
    },
    {
      "cell_type": "code",
      "metadata": {
        "colab": {
          "base_uri": "https://localhost:8080/"
        },
        "id": "ZKtX4kUWRtGL",
        "outputId": "77cbc454-8c10-44d8-cae1-38ef2df91219"
      },
      "source": [
        "from typing import Optional\n",
        "\n",
        "\n",
        "class Test:\n",
        "    test_attribute: Optional[str] = None\n",
        "\n",
        "\n",
        "def some_func(attr: str) -> None:\n",
        "    print(attr)\n",
        "\n",
        "\n",
        "test = Test()\n",
        "\n",
        "test.test_attribute = \"some string\"\n",
        "\n",
        "some_func(test.test_attribute)"
      ],
      "execution_count": 1,
      "outputs": [
        {
          "output_type": "stream",
          "name": "stdout",
          "text": [
            "some string\n"
          ]
        }
      ]
    },
    {
      "cell_type": "code",
      "metadata": {
        "colab": {
          "base_uri": "https://localhost:8080/"
        },
        "id": "O7LRjAnxR4kn",
        "outputId": "66727e7e-35ea-40cb-e26f-3323ecd16054"
      },
      "source": [
        "from typing import Optional\n",
        "\n",
        "\n",
        "class Test:\n",
        "    test_attribute: Optional[str] = None\n",
        "\n",
        "\n",
        "def some_func(attr: str) -> None:\n",
        "    print(attr)\n",
        "\n",
        "\n",
        "test = Test()\n",
        "\n",
        "test.test_attribute = \"some string\"\n",
        "\n",
        "attr = test.test_attribute\n",
        "\n",
        "if attr is None:\n",
        "    raise ValueError(\"Attr can't be None\")\n",
        "\n",
        "some_func(attr)"
      ],
      "execution_count": 2,
      "outputs": [
        {
          "output_type": "stream",
          "name": "stdout",
          "text": [
            "some string\n"
          ]
        }
      ]
    },
    {
      "cell_type": "code",
      "metadata": {
        "colab": {
          "base_uri": "https://localhost:8080/"
        },
        "id": "GX0tZL0ZR56C",
        "outputId": "6e71cb91-f055-4303-d8b7-6362371a103c"
      },
      "source": [
        "!pip install pyre-check\n",
        "!pyre init"
      ],
      "execution_count": null,
      "outputs": [
        {
          "output_type": "stream",
          "name": "stdout",
          "text": [
            "Collecting pyre-check\n",
            "  Downloading pyre_check-0.9.8-py3-none-manylinux1_x86_64.whl (19.4 MB)\n",
            "\u001b[K     |████████████████████████████████| 19.4 MB 1.2 MB/s \n",
            "\u001b[?25hCollecting async-generator\n",
            "  Downloading async_generator-1.10-py3-none-any.whl (18 kB)\n",
            "Requirement already satisfied: psutil in /usr/local/lib/python3.7/dist-packages (from pyre-check) (5.4.8)\n",
            "Collecting libcst>=0.3.6\n",
            "  Downloading libcst-0.3.21-py3-none-any.whl (514 kB)\n",
            "\u001b[K     |████████████████████████████████| 514 kB 64.5 MB/s \n",
            "\u001b[?25hRequirement already satisfied: tabulate in /usr/local/lib/python3.7/dist-packages (from pyre-check) (0.8.9)\n",
            "Collecting pywatchman\n",
            "  Downloading pywatchman-1.4.1.tar.gz (29 kB)\n",
            "Collecting pyre-extensions\n",
            "  Downloading pyre_extensions-0.0.22-py3-none-any.whl (10 kB)\n",
            "Requirement already satisfied: typing-extensions in /usr/local/lib/python3.7/dist-packages (from pyre-check) (3.7.4.3)\n",
            "Collecting dataclasses-json\n",
            "  Downloading dataclasses_json-0.5.6-py3-none-any.whl (25 kB)\n",
            "Requirement already satisfied: click in /usr/local/lib/python3.7/dist-packages (from pyre-check) (7.1.2)\n",
            "Collecting pyyaml>=5.2\n",
            "  Downloading PyYAML-6.0-cp37-cp37m-manylinux_2_5_x86_64.manylinux1_x86_64.manylinux_2_12_x86_64.manylinux2010_x86_64.whl (596 kB)\n",
            "\u001b[K     |████████████████████████████████| 596 kB 50.1 MB/s \n",
            "\u001b[?25hCollecting typing-inspect>=0.4.0\n",
            "  Downloading typing_inspect-0.7.1-py3-none-any.whl (8.4 kB)\n",
            "Collecting mypy-extensions>=0.3.0\n",
            "  Downloading mypy_extensions-0.4.3-py2.py3-none-any.whl (4.5 kB)\n",
            "Collecting marshmallow<4.0.0,>=3.3.0\n",
            "  Downloading marshmallow-3.14.0-py3-none-any.whl (47 kB)\n",
            "\u001b[K     |████████████████████████████████| 47 kB 5.7 MB/s \n",
            "\u001b[?25hCollecting marshmallow-enum<2.0.0,>=1.5.1\n",
            "  Downloading marshmallow_enum-1.5.1-py2.py3-none-any.whl (4.2 kB)\n",
            "Building wheels for collected packages: pywatchman\n",
            "  Building wheel for pywatchman (setup.py) ... \u001b[?25l\u001b[?25hdone\n",
            "  Created wheel for pywatchman: filename=pywatchman-1.4.1-cp37-cp37m-linux_x86_64.whl size=58977 sha256=59c5a4fdfe31e375cced3a14d34113ba8f921335081ac323b97550d73295ab2d\n",
            "  Stored in directory: /root/.cache/pip/wheels/ba/41/26/787a91116da103d96b56e66a8b4d3a5f89d7f5ce26c4eaa78b\n",
            "Successfully built pywatchman\n",
            "Installing collected packages: mypy-extensions, marshmallow, typing-inspect, pyyaml, marshmallow-enum, pywatchman, pyre-extensions, libcst, dataclasses-json, async-generator, pyre-check\n",
            "  Attempting uninstall: pyyaml\n",
            "    Found existing installation: PyYAML 3.13\n",
            "    Uninstalling PyYAML-3.13:\n",
            "      Successfully uninstalled PyYAML-3.13\n",
            "Successfully installed async-generator-1.10 dataclasses-json-0.5.6 libcst-0.3.21 marshmallow-3.14.0 marshmallow-enum-1.5.1 mypy-extensions-0.4.3 pyre-check-0.9.8 pyre-extensions-0.0.22 pywatchman-1.4.1 pyyaml-6.0 typing-inspect-0.7.1\n",
            "\n",
            "\u001b[0G\u001b[K\u001b[1A\u001b[?25lƛ\u001b[0m \u001b[?7lBinary found at `/usr/local/bin/pyre.bin`\u001b[0G\u001b[Kƛ\u001b[0m \u001b[?7lTypeshed found at `/usr/local/lib/pyre_check/typeshed``\u001b[0G\u001b[K\u001b[33mƛ\u001b[0m \u001b[?7hWhich directory(ies) should pyre analyze? (Default: `.`): "
          ]
        }
      ]
    },
    {
      "cell_type": "code",
      "metadata": {
        "id": "2vFmnBhYR8Ex"
      },
      "source": [
        "!pyre infer -i"
      ],
      "execution_count": null,
      "outputs": []
    }
  ]
}