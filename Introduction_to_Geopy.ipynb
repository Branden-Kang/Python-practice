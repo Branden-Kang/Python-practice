{
  "nbformat": 4,
  "nbformat_minor": 0,
  "metadata": {
    "colab": {
      "name": "Introduction to Geopy.ipynb",
      "provenance": [],
      "authorship_tag": "ABX9TyP5XSDVP4+g8eKBl+kA0ruK"
    },
    "kernelspec": {
      "name": "python3",
      "display_name": "Python 3"
    }
  },
  "cells": [
    {
      "cell_type": "markdown",
      "metadata": {
        "id": "iiYPkr7hJBHa"
      },
      "source": [
        "[Reference](https://towardsdatascience.com/things-to-do-with-latitude-longitude-data-using-geopy-python-1d356ed1ae30)"
      ]
    },
    {
      "cell_type": "code",
      "metadata": {
        "colab": {
          "base_uri": "https://localhost:8080/"
        },
        "id": "R7WZk4Xv72We",
        "outputId": "463d1f05-0cdc-4972-83e7-ea86425a60f9"
      },
      "source": [
        "pip install geopy"
      ],
      "execution_count": 1,
      "outputs": [
        {
          "output_type": "stream",
          "text": [
            "Requirement already satisfied: geopy in /usr/local/lib/python3.6/dist-packages (1.17.0)\n",
            "Requirement already satisfied: geographiclib<2,>=1.49 in /usr/local/lib/python3.6/dist-packages (from geopy) (1.50)\n"
          ],
          "name": "stdout"
        }
      ]
    },
    {
      "cell_type": "code",
      "metadata": {
        "id": "KIwiEsDcQ4JD"
      },
      "source": [
        "from geopy.geocoders import Nominatim\n",
        "geocoder = Nominatim(user_agent = 'your_app_name')"
      ],
      "execution_count": 2,
      "outputs": []
    },
    {
      "cell_type": "code",
      "metadata": {
        "id": "OekWOKwfQ7De"
      },
      "source": [
        "from geopy.extra.rate_limiter import RateLimiter\n",
        "geocode = RateLimiter(geocoder.geocode, min_delay_seconds = 1,   return_value_on_exception = None) \n",
        "# adding 1 second padding between calls"
      ],
      "execution_count": 3,
      "outputs": []
    },
    {
      "cell_type": "code",
      "metadata": {
        "id": "GNbTu93vTksQ"
      },
      "source": [
        "location = geocode.reverse((lat, long))"
      ],
      "execution_count": 5,
      "outputs": []
    },
    {
      "cell_type": "code",
      "metadata": {
        "id": "bPHUuryYTmsJ"
      },
      "source": [
        "location.raw\n",
        "# returns a dictionary\n",
        "zipcode = location.raw['address']['postcode']"
      ],
      "execution_count": 6,
      "outputs": []
    },
    {
      "cell_type": "code",
      "metadata": {
        "id": "63OEw2JSTqvX"
      },
      "source": [
        "# after initiating geocoder\n",
        "location = geocode(address)"
      ],
      "execution_count": 8,
      "outputs": []
    },
    {
      "cell_type": "code",
      "metadata": {
        "id": "CBAZ2q5dTuaC"
      },
      "source": [
        "from geopy.distance import geodesicdistance_in_miles = geodesic(coordinate1, coordinate2).miles\n",
        "distannce_in_km = geodesic(coordinate1, coordinate2).km\n",
        "# note: coordinates must be in a tuple of (lat, long)"
      ],
      "execution_count": 9,
      "outputs": []
    }
  ]
}