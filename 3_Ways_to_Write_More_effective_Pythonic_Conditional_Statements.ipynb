{
  "nbformat": 4,
  "nbformat_minor": 0,
  "metadata": {
    "colab": {
      "name": "3 Ways to Write More effective Pythonic Conditional Statements.ipynb",
      "provenance": [],
      "authorship_tag": "ABX9TyMKjF632xLR1BKhtiMFuoAf"
    },
    "kernelspec": {
      "name": "python3",
      "display_name": "Python 3"
    },
    "language_info": {
      "name": "python"
    }
  },
  "cells": [
    {
      "cell_type": "markdown",
      "metadata": {
        "id": "nJyqS2CsAih4"
      },
      "source": [
        "[Reference](https://medium.com/spatial-data-science/3-ways-to-write-more-effective-pythonic-conditional-statements-50293b7cd281)"
      ]
    },
    {
      "cell_type": "markdown",
      "metadata": {
        "id": "a5pSjPDbBIDU"
      },
      "source": [
        "# Use If/Else statements in one Line"
      ]
    },
    {
      "cell_type": "code",
      "metadata": {
        "colab": {
          "base_uri": "https://localhost:8080/"
        },
        "id": "8FpEd6F_AgW3",
        "outputId": "2876328d-9363-45a2-e1bc-8584b1a863a8"
      },
      "source": [
        "lat = 32.56\n",
        "long = -84.12\n",
        "\n",
        "# Latitude\n",
        "if lat < 0:\n",
        "    print(\"N\")\n",
        "else:\n",
        "    print(\"S\")\n",
        "\n",
        "# Longitude\n",
        "if long < 0:\n",
        "    print(\"E\")\n",
        "else:\n",
        "    print(\"W\")"
      ],
      "execution_count": 1,
      "outputs": [
        {
          "output_type": "stream",
          "text": [
            "S\n",
            "E\n"
          ],
          "name": "stdout"
        }
      ]
    },
    {
      "cell_type": "code",
      "metadata": {
        "colab": {
          "base_uri": "https://localhost:8080/"
        },
        "id": "VvX_nuRKBDUH",
        "outputId": "51a32c44-4696-4afa-92c3-7962bbe4acb4"
      },
      "source": [
        "print(\"N\" if lat < 0 else \"S\")\n",
        "print(\"E\" if long < 0 else \"W\")"
      ],
      "execution_count": 2,
      "outputs": [
        {
          "output_type": "stream",
          "text": [
            "S\n",
            "E\n"
          ],
          "name": "stdout"
        }
      ]
    },
    {
      "cell_type": "markdown",
      "metadata": {
        "id": "qsFYOcv-BxBU"
      },
      "source": [
        "# Use Table Functions for Multiple If/Elif statements."
      ]
    },
    {
      "cell_type": "code",
      "metadata": {
        "id": "gActrL9EBF6R"
      },
      "source": [
        "def plot_heatmap(gdf):\n",
        "    print(\"Plotting Heatmap\")\n",
        "\n",
        "def plot_animation(gdf):\n",
        "    print(\"Plotting Animation\")\n",
        "\n",
        "def plot_bubblemap(gdf):\n",
        "    print(\"Plotting Bubblemap\")\n",
        "\n",
        "gdf = \"\"\n",
        "n = 3"
      ],
      "execution_count": 3,
      "outputs": []
    },
    {
      "cell_type": "code",
      "metadata": {
        "colab": {
          "base_uri": "https://localhost:8080/"
        },
        "id": "V51usyoXB0eZ",
        "outputId": "95478210-0a8b-490c-854f-31f6221f4da9"
      },
      "source": [
        "if n == 1:\n",
        "    plot_choropleth(gdf)\n",
        "elif n == 2:\n",
        "    plot_heatmap(gdf)\n",
        "elif n == 3:\n",
        "    plot_animation(gdf)\n",
        "elif n == 4:\n",
        "    plot_bubblemap(gdf)"
      ],
      "execution_count": 4,
      "outputs": [
        {
          "output_type": "stream",
          "text": [
            "Plotting Animation\n"
          ],
          "name": "stdout"
        }
      ]
    },
    {
      "cell_type": "code",
      "metadata": {
        "colab": {
          "base_uri": "https://localhost:8080/"
        },
        "id": "aDbpzjv4B22k",
        "outputId": "aa3b3869-379a-4f95-d48a-825be4455d2f"
      },
      "source": [
        "func_list = [plot_heatmap, plot_animation, plot_bubblemap][n-1]\n",
        "func_list(gdf)"
      ],
      "execution_count": 6,
      "outputs": [
        {
          "output_type": "stream",
          "text": [
            "Plotting Bubblemap\n"
          ],
          "name": "stdout"
        }
      ]
    },
    {
      "cell_type": "markdown",
      "metadata": {
        "id": "KhycUvYeCA2l"
      },
      "source": [
        "# Take Advantage of the Boolean Values Effectively"
      ]
    },
    {
      "cell_type": "code",
      "metadata": {
        "colab": {
          "base_uri": "https://localhost:8080/"
        },
        "id": "CnNCaybpB5aE",
        "outputId": "d4dac196-ef2c-48fa-e2ee-728a3a5ad1ae"
      },
      "source": [
        "lat1, long1  = 57.792017, 12.054745\n",
        "lat2, long2  = -14.896547, -3.132567\n",
        "\n",
        "print('NS'[lat1 < 0])\n",
        "print('NS'[lat2 < 0])\n",
        "\n",
        "print('EW'[long1 < 0])\n",
        "print('EW'[long2 < 0])"
      ],
      "execution_count": 7,
      "outputs": [
        {
          "output_type": "stream",
          "text": [
            "N\n",
            "S\n",
            "E\n",
            "W\n"
          ],
          "name": "stdout"
        }
      ]
    },
    {
      "cell_type": "code",
      "metadata": {
        "colab": {
          "base_uri": "https://localhost:8080/"
        },
        "id": "jmtUqpnHB_8k",
        "outputId": "7c0b50af-f26a-4212-d299-ca8b37d0c731"
      },
      "source": [
        "[lat1 < 0], [lat2 < 0]"
      ],
      "execution_count": 8,
      "outputs": [
        {
          "output_type": "execute_result",
          "data": {
            "text/plain": [
              "([False], [True])"
            ]
          },
          "metadata": {
            "tags": []
          },
          "execution_count": 8
        }
      ]
    },
    {
      "cell_type": "code",
      "metadata": {
        "colab": {
          "base_uri": "https://localhost:8080/"
        },
        "id": "0at1qmUDCCmV",
        "outputId": "7e3c88df-8a32-4c00-e3a0-53bb2b34a1f2"
      },
      "source": [
        "def print_coords(lat, long):\n",
        "    ns = 'NS'[lat < 0]  #True (1) defaults to \"N\" and False(0) defaults to \"S\"\n",
        "    we = 'EW'[long < 0] # True (1) defaults to \"E\" and False(0) defaults to \"W\n",
        "    print(f'{abs(lat):.2f}°{ns}, {abs(long):.2f}°{we}')\n",
        "\n",
        "lat, long = 57.682605, 11.983421\n",
        "\n",
        "print_coords(lat, long)"
      ],
      "execution_count": 9,
      "outputs": [
        {
          "output_type": "stream",
          "text": [
            "57.68°N, 11.98°E\n"
          ],
          "name": "stdout"
        }
      ]
    }
  ]
}