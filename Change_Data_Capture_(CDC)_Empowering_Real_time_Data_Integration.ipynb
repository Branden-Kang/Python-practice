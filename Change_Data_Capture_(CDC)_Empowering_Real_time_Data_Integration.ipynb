{
  "nbformat": 4,
  "nbformat_minor": 0,
  "metadata": {
    "colab": {
      "provenance": [],
      "authorship_tag": "ABX9TyO+KWjLx/bQ1Y/XDoT1xWmC"
    },
    "kernelspec": {
      "name": "python3",
      "display_name": "Python 3"
    },
    "language_info": {
      "name": "python"
    }
  },
  "cells": [
    {
      "cell_type": "markdown",
      "source": [
        "[Reference](https://medium.com/@evertongomede/change-data-capture-cdc-empowering-real-time-data-integration-d83317af82ef)"
      ],
      "metadata": {
        "id": "PlTFe0R0XGz9"
      }
    },
    {
      "cell_type": "code",
      "execution_count": 1,
      "metadata": {
        "id": "8MLm-JgSW8A3"
      },
      "outputs": [],
      "source": [
        "import sqlite3\n",
        "import time\n",
        "\n",
        "# Function to monitor and capture changes in the database\n",
        "def capture_changes():\n",
        "    connection = sqlite3.connect('your_database.db')\n",
        "    cursor = connection.cursor()\n",
        "\n",
        "    last_rowid = 0\n",
        "\n",
        "    while True:\n",
        "        # Get the maximum rowid from the source table\n",
        "        cursor.execute(\"SELECT MAX(rowid) FROM your_source_table\")\n",
        "        max_rowid = cursor.fetchone()[0]\n",
        "\n",
        "        # If the maximum rowid is greater than the last captured rowid, there are new changes\n",
        "        if max_rowid > last_rowid:\n",
        "            cursor.execute(\"SELECT * FROM your_source_table WHERE rowid > ?\", (last_rowid,))\n",
        "            changes = cursor.fetchall()\n",
        "\n",
        "            print(\"Changes captured:\")\n",
        "            for change in changes:\n",
        "                print(change)\n",
        "\n",
        "            # Update the last captured rowid to the maximum rowid for the next iteration\n",
        "            last_rowid = max_rowid\n",
        "\n",
        "        # Wait for a short period before checking for new changes again\n",
        "        time.sleep(1)\n",
        "\n",
        "if __name__ == \"__main__\":\n",
        "    capture_changes()"
      ]
    }
  ]
}