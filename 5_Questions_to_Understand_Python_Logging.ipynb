{
  "nbformat": 4,
  "nbformat_minor": 0,
  "metadata": {
    "colab": {
      "name": "5 Questions to Understand Python Logging.ipynb",
      "provenance": [],
      "authorship_tag": "ABX9TyMmFGIFmhE05rp4phYNvGHF"
    },
    "kernelspec": {
      "name": "python3",
      "display_name": "Python 3"
    }
  },
  "cells": [
    {
      "cell_type": "markdown",
      "metadata": {
        "id": "MeqZFVvpBY6J"
      },
      "source": [
        "[Reference](https://medium.com/better-programming/address-these-5-questions-to-understand-python-logging-e8a45718819)"
      ]
    },
    {
      "cell_type": "code",
      "metadata": {
        "id": "YpUtpOrxBNgq"
      },
      "source": [
        "import logging\n",
        "logger_not_good = logging.Logger(\"my_app\")"
      ],
      "execution_count": 1,
      "outputs": []
    },
    {
      "cell_type": "code",
      "metadata": {
        "id": "1GEqsRhkBxig"
      },
      "source": [
        "logger_good = logging.getLogger(\"my_app\")"
      ],
      "execution_count": 2,
      "outputs": []
    },
    {
      "cell_type": "code",
      "metadata": {
        "colab": {
          "base_uri": "https://localhost:8080/"
        },
        "id": "uOjj0LPqB5jB",
        "outputId": "12aa4da6-99e7-47b2-cbb1-771136ed87b2"
      },
      "source": [
        "id(logging.getLogger(\"my_app\"))"
      ],
      "execution_count": 3,
      "outputs": [
        {
          "output_type": "execute_result",
          "data": {
            "text/plain": [
              "140307060459560"
            ]
          },
          "metadata": {
            "tags": []
          },
          "execution_count": 3
        }
      ]
    },
    {
      "cell_type": "code",
      "metadata": {
        "colab": {
          "base_uri": "https://localhost:8080/"
        },
        "id": "fMXNBzQUB6kv",
        "outputId": "9d14d91e-9d5c-41dd-f1d5-ec60ef3eaac8"
      },
      "source": [
        "id(logging.getLogger(\"my_app\"))"
      ],
      "execution_count": 4,
      "outputs": [
        {
          "output_type": "execute_result",
          "data": {
            "text/plain": [
              "140307060459560"
            ]
          },
          "metadata": {
            "tags": []
          },
          "execution_count": 4
        }
      ]
    },
    {
      "cell_type": "code",
      "metadata": {
        "colab": {
          "base_uri": "https://localhost:8080/"
        },
        "id": "BB6cRZWOB7do",
        "outputId": "de7c57ec-de2e-4fac-9f04-f6c1e548beab"
      },
      "source": [
        "id(logging.Logger(\"my_app\"))"
      ],
      "execution_count": 5,
      "outputs": [
        {
          "output_type": "execute_result",
          "data": {
            "text/plain": [
              "140307060459952"
            ]
          },
          "metadata": {
            "tags": []
          },
          "execution_count": 5
        }
      ]
    },
    {
      "cell_type": "code",
      "metadata": {
        "colab": {
          "base_uri": "https://localhost:8080/"
        },
        "id": "tqWoDYldB8Xc",
        "outputId": "623b9473-6d86-4ca7-dd97-ebbddd186520"
      },
      "source": [
        "id(logging.Logger(\"my_app\"))"
      ],
      "execution_count": 6,
      "outputs": [
        {
          "output_type": "execute_result",
          "data": {
            "text/plain": [
              "140307060459952"
            ]
          },
          "metadata": {
            "tags": []
          },
          "execution_count": 6
        }
      ]
    },
    {
      "cell_type": "code",
      "metadata": {
        "colab": {
          "base_uri": "https://localhost:8080/"
        },
        "id": "7AQUdTSJB9M2",
        "outputId": "142c5761-3afe-4e2b-ae8d-d99e0ad7fdfc"
      },
      "source": [
        "logging_levels = [logging.DEBUG, logging.INFO, logging.WARNING, logging.ERROR, logging.CRITICAL]\n",
        "for logging_level in logging_levels:\n",
        "    print(f\"Logging Level {logging._levelToName[logging_level]}: {logging_level}\")"
      ],
      "execution_count": 7,
      "outputs": [
        {
          "output_type": "stream",
          "text": [
            "Logging Level DEBUG: 10\n",
            "Logging Level INFO: 20\n",
            "Logging Level WARNING: 30\n",
            "Logging Level ERROR: 40\n",
            "Logging Level CRITICAL: 50\n"
          ],
          "name": "stdout"
        }
      ]
    },
    {
      "cell_type": "code",
      "metadata": {
        "id": "e_cg5syECJVM"
      },
      "source": [
        "logger = logging.getLogger(\"my_app\")\n",
        "logger.setLevel(logging.WARNING)"
      ],
      "execution_count": 8,
      "outputs": []
    },
    {
      "cell_type": "code",
      "metadata": {
        "colab": {
          "base_uri": "https://localhost:8080/"
        },
        "id": "RZts_aObCKxr",
        "outputId": "dccdefaf-3470-40d5-9385-db22a5815bb6"
      },
      "source": [
        "# Add a file handler\n",
        "fh = logging.FileHandler(\"my_app_logging.log\")\n",
        "logger.addHandler(fh)\n",
        "\n",
        "# Send some log events\n",
        "logger.error(\"This is an error message.\")\n",
        "logger.critical(\"This is a critical message.\")\n",
        "logger.info(\"This is an info message.\")\n",
        "# Check the log\n",
        "with open(\"my_app_logging.log\") as file:\n",
        "     print(file.read())"
      ],
      "execution_count": 9,
      "outputs": [
        {
          "output_type": "stream",
          "text": [
            "This is an error message.\n",
            "This is a critical message.\n",
            "\n"
          ],
          "name": "stdout"
        }
      ]
    },
    {
      "cell_type": "code",
      "metadata": {
        "colab": {
          "base_uri": "https://localhost:8080/"
        },
        "id": "WxsRKndnCYlS",
        "outputId": "bd8bcb3d-68be-45b6-b3c4-2e5aa671129a"
      },
      "source": [
        "# Add a stream handler\n",
        "sh = logging.StreamHandler()\n",
        "logger.addHandler(sh)\n",
        "\n",
        "logger.critical(\"Just a random critical event.\")"
      ],
      "execution_count": 10,
      "outputs": [
        {
          "output_type": "stream",
          "text": [
            "Just a random critical event.\n"
          ],
          "name": "stderr"
        }
      ]
    },
    {
      "cell_type": "code",
      "metadata": {
        "colab": {
          "base_uri": "https://localhost:8080/"
        },
        "id": "gknLSPf9Ck0f",
        "outputId": "02939a9c-34e3-4369-abdb-ed73d419b77a"
      },
      "source": [
        "logger.critical(\"This is a critical message.\")\n",
        "logger.error(\"This is an error message.\")\n",
        "logger.warning(\"This is a warning message.\")\n",
        "logger.info(\"This is an info message.\")\n",
        "logger.debug(\"This is a debug message.\")"
      ],
      "execution_count": 11,
      "outputs": [
        {
          "output_type": "stream",
          "text": [
            "This is a critical message.\n",
            "This is an error message.\n",
            "This is a warning message.\n"
          ],
          "name": "stderr"
        }
      ]
    },
    {
      "cell_type": "code",
      "metadata": {
        "colab": {
          "base_uri": "https://localhost:8080/"
        },
        "id": "CRtpsJMRCsu6",
        "outputId": "89e716ad-e160-496f-8d7c-a798101dcb1b"
      },
      "source": [
        "# Create a new file handler with formatting\n",
        "fh = logging.FileHandler(\"formatted_log.log\")\n",
        "fh_formatter = logging.Formatter('%(asctime)s - %(levelname)s - %(message)s')\n",
        "fh.setFormatter(fh_formatter)\n",
        "logger.addHandler(fh)\n",
        "\n",
        "# Logging events\n",
        "logger.warning(\"Warning message with formatting\")\n",
        "logger.error(\"Error message with formatting\")\n",
        "logger.critical(\"Critical message with formatting\")\n",
        "\n",
        "# Check the log\n",
        "with open(\"formatted_log.log\") as file:\n",
        "     print(file.read())"
      ],
      "execution_count": 12,
      "outputs": [
        {
          "output_type": "stream",
          "text": [
            "Warning message with formatting\n",
            "Error message with formatting\n",
            "Critical message with formatting\n"
          ],
          "name": "stderr"
        },
        {
          "output_type": "stream",
          "text": [
            "2021-01-31 01:25:39,559 - WARNING - Warning message with formatting\n",
            "2021-01-31 01:25:39,563 - ERROR - Error message with formatting\n",
            "2021-01-31 01:25:39,565 - CRITICAL - Critical message with formatting\n",
            "\n"
          ],
          "name": "stdout"
        }
      ]
    }
  ]
}