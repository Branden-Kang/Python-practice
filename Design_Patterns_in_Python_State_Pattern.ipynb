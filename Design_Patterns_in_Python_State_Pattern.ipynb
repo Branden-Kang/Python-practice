{
  "nbformat": 4,
  "nbformat_minor": 0,
  "metadata": {
    "colab": {
      "provenance": [],
      "authorship_tag": "ABX9TyO6aCtVywjOfi/85PX7XXji"
    },
    "kernelspec": {
      "name": "python3",
      "display_name": "Python 3"
    },
    "language_info": {
      "name": "python"
    }
  },
  "cells": [
    {
      "cell_type": "markdown",
      "source": [
        "[Reference](https://blog.devgenius.io/design-patterns-in-python-state-pattern-e646423969d5)"
      ],
      "metadata": {
        "id": "Uy114YwfxDFW"
      }
    },
    {
      "cell_type": "code",
      "execution_count": 1,
      "metadata": {
        "colab": {
          "base_uri": "https://localhost:8080/"
        },
        "id": "BUjtS6CEwzR3",
        "outputId": "6e73c7ff-bce2-4197-dc62-23fce4891e28"
      },
      "outputs": [
        {
          "output_type": "stream",
          "name": "stdout",
          "text": [
            "Opening the door...\n",
            "Closing the door...\n",
            "The door is already closed.\n",
            "Opening the door...\n",
            "The door is already open.\n",
            "Closing the door...\n"
          ]
        }
      ],
      "source": [
        "from abc import ABC, abstractmethod\n",
        "\n",
        "class DoorState(ABC):\n",
        "\n",
        "    @abstractmethod\n",
        "    def open(self):\n",
        "        pass\n",
        "\n",
        "    @abstractmethod\n",
        "    def close(self):\n",
        "        pass\n",
        "\n",
        "class OpenState(DoorState):\n",
        "    def open(self):\n",
        "        print(\"The door is already open.\")\n",
        "        return self\n",
        "\n",
        "    def close(self):\n",
        "        print(\"Closing the door...\")\n",
        "        # Perform door closing process\n",
        "        return ClosedState()\n",
        "\n",
        "class ClosedState(DoorState):\n",
        "    def open(self):\n",
        "        print(\"Opening the door...\")\n",
        "        # Perform door opening process\n",
        "        return OpenState()\n",
        "\n",
        "    def close(self):\n",
        "        print(\"The door is already closed.\")\n",
        "        return self\n",
        "\n",
        "class Door:\n",
        "    def __init__(self):\n",
        "        self.current_state = ClosedState()\n",
        "\n",
        "    def change_state(self, state):\n",
        "        self.current_state = state\n",
        "\n",
        "    def open(self):\n",
        "        self.change_state(self.current_state.open())\n",
        "\n",
        "    def close(self):\n",
        "        self.change_state(self.current_state.close())\n",
        "\n",
        "# Example usage\n",
        "door = Door()\n",
        "\n",
        "door.open() #Opening the door...\n",
        "door.close() #Closing the door...\n",
        "door.close() # Output: \"The door is already closed.\"\n",
        "door.open() # Output: \"Opening the door...\"\n",
        "door.open() # Output: \"The door is already open.\"\n",
        "door.close() # Output: \"Closing the door...\""
      ]
    }
  ]
}