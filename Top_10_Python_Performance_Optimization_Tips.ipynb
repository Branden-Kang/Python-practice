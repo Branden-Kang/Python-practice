{
  "nbformat": 4,
  "nbformat_minor": 0,
  "metadata": {
    "colab": {
      "provenance": [],
      "authorship_tag": "ABX9TyPYXnp5uusuqgfktrYN27ik"
    },
    "kernelspec": {
      "name": "python3",
      "display_name": "Python 3"
    },
    "language_info": {
      "name": "python"
    }
  },
  "cells": [
    {
      "cell_type": "markdown",
      "source": [
        "[Reference](https://medium.com/@pythonshield/top-10-python-performance-optimization-tips-5fdd5c9f31b7)"
      ],
      "metadata": {
        "id": "WkcGn0fuHOY4"
      }
    },
    {
      "cell_type": "markdown",
      "source": [
        "# 1. Use Built-in Functions and Libraries"
      ],
      "metadata": {
        "id": "N0x-6HBvHjTr"
      }
    },
    {
      "cell_type": "code",
      "execution_count": 1,
      "metadata": {
        "id": "MoPaA42JG2qj"
      },
      "outputs": [],
      "source": [
        "# Using sum() instead of a loop\n",
        "numbers = [1, 2, 3, 4, 5]\n",
        "total = sum(numbers)"
      ]
    },
    {
      "cell_type": "markdown",
      "source": [
        "# 2. Leverage List Comprehensions and Generator Expressions"
      ],
      "metadata": {
        "id": "eNQzHJBKHl8T"
      }
    },
    {
      "cell_type": "code",
      "source": [
        "# List comprehension\n",
        "squares = [x**2 for x in range(1000)]\n",
        "\n",
        "# Generator expression\n",
        "squares_gen = (x**2 for x in range(1000))"
      ],
      "metadata": {
        "id": "y-g-eUQDHkwv"
      },
      "execution_count": 2,
      "outputs": []
    },
    {
      "cell_type": "markdown",
      "source": [
        "# 3. Optimize Loops"
      ],
      "metadata": {
        "id": "D_Qoks_8HwbT"
      }
    },
    {
      "cell_type": "code",
      "source": [
        "# Optimizing loop with local variable\n",
        "def compute():\n",
        "    total = 0\n",
        "    append = total.__add__\n",
        "    for i in range(1000):\n",
        "        total = append(i)\n",
        "    return total"
      ],
      "metadata": {
        "id": "apKk6zdwHoub"
      },
      "execution_count": 3,
      "outputs": []
    },
    {
      "cell_type": "code",
      "source": [
        "# Unrolled loop processing two items per iteration\n",
        "def compute_unrolled(n):\n",
        "    total = 0\n",
        "    i = 0\n",
        "    while i < n - 1:\n",
        "        total += i + (i + 1)\n",
        "        i += 2\n",
        "    if i < n:\n",
        "        total += i\n",
        "    return total"
      ],
      "metadata": {
        "id": "IJpdqn-uHyA2"
      },
      "execution_count": 4,
      "outputs": []
    },
    {
      "cell_type": "markdown",
      "source": [
        "# 4. Choose Efficient Data Structures"
      ],
      "metadata": {
        "id": "M7jhGYc_H0s0"
      }
    },
    {
      "cell_type": "code",
      "source": [
        "# Using set for membership testing\n",
        "items = set([1, 2, 3, 4, 5])\n",
        "if 3 in items:\n",
        "    print(\"Found\")"
      ],
      "metadata": {
        "colab": {
          "base_uri": "https://localhost:8080/"
        },
        "id": "gA1WNSowHzfd",
        "outputId": "83a6f266-c58f-4128-d42a-e4a093ec0a45"
      },
      "execution_count": 5,
      "outputs": [
        {
          "output_type": "stream",
          "name": "stdout",
          "text": [
            "Found\n"
          ]
        }
      ]
    },
    {
      "cell_type": "markdown",
      "source": [
        "# 5. Minimize Global Variable Access"
      ],
      "metadata": {
        "id": "zKOpZYfwIYNq"
      }
    },
    {
      "cell_type": "code",
      "source": [
        "# Before optimization\n",
        "global_var = 10\n",
        "\n",
        "def compute():\n",
        "    return global_var * 2\n",
        "\n",
        "# After optimization\n",
        "def compute():\n",
        "    local_var = global_var\n",
        "    return local_var * 2"
      ],
      "metadata": {
        "id": "Fc_gpeE0IXVP"
      },
      "execution_count": 6,
      "outputs": []
    },
    {
      "cell_type": "markdown",
      "source": [
        "# 6. Implement Caching and Memoization"
      ],
      "metadata": {
        "id": "cABDQ3AkIa8T"
      }
    },
    {
      "cell_type": "code",
      "source": [
        "from functools import lru_cache\n",
        "\n",
        "@lru_cache(maxsize=None)\n",
        "def fibonacci(n):\n",
        "    if n < 2:\n",
        "        return n\n",
        "    return fibonacci(n-1) + fibonacci(n-2)"
      ],
      "metadata": {
        "id": "cqpw_KtHIZlQ"
      },
      "execution_count": 7,
      "outputs": []
    },
    {
      "cell_type": "code",
      "source": [
        "cache = {}\n",
        "\n",
        "def compute_expensive_operation(x):\n",
        "    if x in cache:\n",
        "        return cache[x]\n",
        "    result = x * x  # Placeholder for an expensive computation\n",
        "    cache[x] = result\n",
        "    return result"
      ],
      "metadata": {
        "id": "wGa_5qlxIcQ4"
      },
      "execution_count": 8,
      "outputs": []
    },
    {
      "cell_type": "markdown",
      "source": [
        "# 7. Utilize Multi-threading and Multi-processing"
      ],
      "metadata": {
        "id": "-x_xb9JAIf2T"
      }
    },
    {
      "cell_type": "code",
      "source": [
        "import threading\n",
        "\n",
        "def fetch_data(url):\n",
        "    # Simulate I/O-bound operation\n",
        "    pass\n",
        "\n",
        "threads = []\n",
        "for url in urls:\n",
        "    thread = threading.Thread(target=fetch_data, args=(url,))\n",
        "    threads.append(thread)\n",
        "    thread.start()\n",
        "\n",
        "for thread in threads:\n",
        "    thread.join()"
      ],
      "metadata": {
        "id": "zkUiXzhqIex3"
      },
      "execution_count": 10,
      "outputs": []
    },
    {
      "cell_type": "code",
      "source": [
        "from multiprocessing import Pool\n",
        "\n",
        "def square(x):\n",
        "    return x * x\n",
        "\n",
        "if __name__ == '__main__':\n",
        "    with Pool(4) as p:\n",
        "        results = p.map(square, range(1000))"
      ],
      "metadata": {
        "id": "0cpzw88zIi65"
      },
      "execution_count": 11,
      "outputs": []
    },
    {
      "cell_type": "markdown",
      "source": [
        "# 8. Profile Your Code"
      ],
      "metadata": {
        "id": "DSbYRvGbIoe_"
      }
    },
    {
      "cell_type": "code",
      "source": [
        "import cProfile\n",
        "import pstats\n",
        "from io import StringIO\n",
        "\n",
        "def main():\n",
        "    # Sample code to profile\n",
        "    total = 0\n",
        "    for i in range(1000000):\n",
        "        total += i\n",
        "    return total\n",
        "\n",
        "if __name__ == '__main__':\n",
        "    profiler = cProfile.Profile()\n",
        "    profiler.enable()\n",
        "\n",
        "    main()\n",
        "\n",
        "    profiler.disable()\n",
        "    s = StringIO()\n",
        "    sortby = 'cumulative'\n",
        "    ps = pstats.Stats(profiler, stream=s).sort_stats(sortby)\n",
        "    ps.print_stats(10)  # Print top 10 results\n",
        "    print(s.getvalue())"
      ],
      "metadata": {
        "colab": {
          "base_uri": "https://localhost:8080/"
        },
        "id": "eweYFoDxIngG",
        "outputId": "8aa944f7-9bad-4886-ffb3-903f777d67d4"
      },
      "execution_count": 12,
      "outputs": [
        {
          "output_type": "stream",
          "name": "stdout",
          "text": [
            "         2 function calls in 0.144 seconds\n",
            "\n",
            "   Ordered by: cumulative time\n",
            "\n",
            "   ncalls  tottime  percall  cumtime  percall filename:lineno(function)\n",
            "        1    0.144    0.144    0.144    0.144 <ipython-input-12-ef8037f904c7>:5(main)\n",
            "        1    0.000    0.000    0.000    0.000 {method 'disable' of '_lsprof.Profiler' objects}\n",
            "\n",
            "\n",
            "\n"
          ]
        }
      ]
    },
    {
      "cell_type": "markdown",
      "source": [
        "# 9. Optimize Algorithm Complexity"
      ],
      "metadata": {
        "id": "dH9i8GyeIsok"
      }
    },
    {
      "cell_type": "code",
      "source": [
        "# Inefficient O(n^2) approach\n",
        "def find_duplicates(lst):\n",
        "    duplicates = []\n",
        "    for i in lst:\n",
        "        if lst.count(i) > 1 and i not in duplicates:\n",
        "            duplicates.append(i)\n",
        "    return duplicates\n",
        "\n",
        "# Optimized O(n) approach\n",
        "def find_duplicates(lst):\n",
        "    seen = set()\n",
        "    duplicates = set()\n",
        "    for item in lst:\n",
        "        if item in seen:\n",
        "            duplicates.add(item)\n",
        "        else:\n",
        "            seen.add(item)\n",
        "    return list(duplicates)"
      ],
      "metadata": {
        "id": "ODOw79aDIqS9"
      },
      "execution_count": 13,
      "outputs": []
    },
    {
      "cell_type": "code",
      "source": [
        "import time\n",
        "\n",
        "def find_duplicates_n2(lst):\n",
        "    duplicates = []\n",
        "    for i in lst:\n",
        "        if lst.count(i) > 1 and i not in duplicates:\n",
        "            duplicates.append(i)\n",
        "    return duplicates\n",
        "\n",
        "def find_duplicates_n(lst):\n",
        "    seen = set()\n",
        "    duplicates = set()\n",
        "    for item in lst:\n",
        "        if item in seen:\n",
        "            duplicates.add(item)\n",
        "        else:\n",
        "            seen.add(item)\n",
        "    return list(duplicates)\n",
        "\n",
        "# Generate a large list with duplicates\n",
        "large_list = list(range(10000)) * 2\n",
        "\n",
        "# Benchmark O(n^2) approach\n",
        "start_time = time.time()\n",
        "find_duplicates_n2(large_list)\n",
        "end_time = time.time()\n",
        "print(f\"O(n^2) approach took {end_time - start_time:.4f} seconds\")\n",
        "\n",
        "# Benchmark O(n) approach\n",
        "start_time = time.time()\n",
        "find_duplicates_n(large_list)\n",
        "end_time = time.time()\n",
        "print(f\"O(n) approach took {end_time - start_time:.4f} seconds\")"
      ],
      "metadata": {
        "colab": {
          "base_uri": "https://localhost:8080/"
        },
        "id": "tB4OPoWaIuWs",
        "outputId": "5b67fbff-2ea6-42fa-f9c6-3318570d0262"
      },
      "execution_count": 14,
      "outputs": [
        {
          "output_type": "stream",
          "name": "stdout",
          "text": [
            "O(n^2) approach took 7.3142 seconds\n",
            "O(n) approach took 0.0044 seconds\n"
          ]
        }
      ]
    },
    {
      "cell_type": "markdown",
      "source": [
        "# 10. Leverage Just-In-Time Compilers and C Extensions"
      ],
      "metadata": {
        "id": "QY8kErCMI-4B"
      }
    },
    {
      "cell_type": "code",
      "source": [
        "from numba import jit\n",
        "import numpy as np\n",
        "\n",
        "@jit(nopython=True)\n",
        "def compute_squares(n):\n",
        "    result = np.empty(n, dtype=np.int64)\n",
        "    for i in range(n):\n",
        "        result[i] = i * i\n",
        "    return result\n",
        "\n",
        "# Benchmark\n",
        "import time\n",
        "\n",
        "start_time = time.time()\n",
        "compute_squares(1000000)\n",
        "end_time = time.time()\n",
        "print(f\"Numba JIT compiled function took {end_time - start_time:.4f} seconds\")"
      ],
      "metadata": {
        "colab": {
          "base_uri": "https://localhost:8080/"
        },
        "id": "4TqyfDhpIzlM",
        "outputId": "fa14dbcc-c1e2-479e-bb57-090d9f42d928"
      },
      "execution_count": 15,
      "outputs": [
        {
          "output_type": "stream",
          "name": "stdout",
          "text": [
            "Numba JIT compiled function took 1.4295 seconds\n"
          ]
        }
      ]
    },
    {
      "cell_type": "code",
      "source": [
        "import asyncio\n",
        "import time\n",
        "\n",
        "async def fetch_data(delay, data):\n",
        "    await asyncio.sleep(delay)\n",
        "    return data\n",
        "\n",
        "async def main():\n",
        "    start = time.time()\n",
        "    tasks = [\n",
        "        fetch_data(1, \"data1\"),\n",
        "        fetch_data(2, \"data2\"),\n",
        "        fetch_data(1, \"data3\"),\n",
        "        fetch_data(3, \"data4\")\n",
        "    ]\n",
        "    results = await asyncio.gather(*tasks)\n",
        "    end = time.time()\n",
        "    print(f\"Results: {results}\")\n",
        "    print(f\"Total time: {end - start:.2f} seconds\")\n",
        "\n",
        "if __name__ == '__main__':\n",
        "    asyncio.run(main())"
      ],
      "metadata": {
        "id": "kLB_uj2WJCGU"
      },
      "execution_count": 17,
      "outputs": []
    }
  ]
}