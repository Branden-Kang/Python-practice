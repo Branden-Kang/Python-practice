{
  "nbformat": 4,
  "nbformat_minor": 0,
  "metadata": {
    "colab": {
      "name": "Ultimate Pandas Guide.ipynb",
      "provenance": [],
      "authorship_tag": "ABX9TyO3z+eYLt4Ouirelf5nEOe/"
    },
    "kernelspec": {
      "name": "python3",
      "display_name": "Python 3"
    }
  },
  "cells": [
    {
      "cell_type": "markdown",
      "metadata": {
        "id": "kwDYLiV3DCVx"
      },
      "source": [
        "[Reference](https://towardsdatascience.com/ultimate-pandas-guide-creating-a-dataframe-9f063e590e78)"
      ]
    },
    {
      "cell_type": "code",
      "metadata": {
        "colab": {
          "base_uri": "https://localhost:8080/",
          "height": 32
        },
        "id": "G8eIN0_TCUjp",
        "outputId": "63a561a8-b976-4434-b37b-1ef3bb14c01e"
      },
      "source": [
        "import pandas as pd\n",
        "empty_df = pd.DataFrame()\n",
        "empty_df"
      ],
      "execution_count": 2,
      "outputs": [
        {
          "output_type": "execute_result",
          "data": {
            "text/html": [
              "<div>\n",
              "<style scoped>\n",
              "    .dataframe tbody tr th:only-of-type {\n",
              "        vertical-align: middle;\n",
              "    }\n",
              "\n",
              "    .dataframe tbody tr th {\n",
              "        vertical-align: top;\n",
              "    }\n",
              "\n",
              "    .dataframe thead th {\n",
              "        text-align: right;\n",
              "    }\n",
              "</style>\n",
              "<table border=\"1\" class=\"dataframe\">\n",
              "  <thead>\n",
              "    <tr style=\"text-align: right;\">\n",
              "      <th></th>\n",
              "    </tr>\n",
              "  </thead>\n",
              "  <tbody>\n",
              "  </tbody>\n",
              "</table>\n",
              "</div>"
            ],
            "text/plain": [
              "Empty DataFrame\n",
              "Columns: []\n",
              "Index: []"
            ]
          },
          "metadata": {
            "tags": []
          },
          "execution_count": 2
        }
      ]
    },
    {
      "cell_type": "code",
      "metadata": {
        "colab": {
          "base_uri": "https://localhost:8080/",
          "height": 111
        },
        "id": "MtNWiXW3C5NS",
        "outputId": "a462efd4-dd36-4dd4-9d67-e72662154f3f"
      },
      "source": [
        "data = [['panda', 'bamboo', 100], \n",
        "       ['koala', 'eucalyptus', 100]]\n",
        "pd.DataFrame(data, columns = ['animal', 'favorite_food', 'cuteness_level'])"
      ],
      "execution_count": 3,
      "outputs": [
        {
          "output_type": "execute_result",
          "data": {
            "text/html": [
              "<div>\n",
              "<style scoped>\n",
              "    .dataframe tbody tr th:only-of-type {\n",
              "        vertical-align: middle;\n",
              "    }\n",
              "\n",
              "    .dataframe tbody tr th {\n",
              "        vertical-align: top;\n",
              "    }\n",
              "\n",
              "    .dataframe thead th {\n",
              "        text-align: right;\n",
              "    }\n",
              "</style>\n",
              "<table border=\"1\" class=\"dataframe\">\n",
              "  <thead>\n",
              "    <tr style=\"text-align: right;\">\n",
              "      <th></th>\n",
              "      <th>animal</th>\n",
              "      <th>favorite_food</th>\n",
              "      <th>cuteness_level</th>\n",
              "    </tr>\n",
              "  </thead>\n",
              "  <tbody>\n",
              "    <tr>\n",
              "      <th>0</th>\n",
              "      <td>panda</td>\n",
              "      <td>bamboo</td>\n",
              "      <td>100</td>\n",
              "    </tr>\n",
              "    <tr>\n",
              "      <th>1</th>\n",
              "      <td>koala</td>\n",
              "      <td>eucalyptus</td>\n",
              "      <td>100</td>\n",
              "    </tr>\n",
              "  </tbody>\n",
              "</table>\n",
              "</div>"
            ],
            "text/plain": [
              "  animal favorite_food  cuteness_level\n",
              "0  panda        bamboo             100\n",
              "1  koala    eucalyptus             100"
            ]
          },
          "metadata": {
            "tags": []
          },
          "execution_count": 3
        }
      ]
    },
    {
      "cell_type": "code",
      "metadata": {
        "colab": {
          "base_uri": "https://localhost:8080/",
          "height": 111
        },
        "id": "ydgghn1BDMfP",
        "outputId": "1aaab821-991c-4788-99a8-bf320c8e51b5"
      },
      "source": [
        "data = {'animal': ['panda', 'koala'],\n",
        "        'favorite_food': ['bamboo', 'eucalyptus'],\n",
        "        'cuteness_level': [100, 100]}\n",
        "pd.DataFrame(data)"
      ],
      "execution_count": 5,
      "outputs": [
        {
          "output_type": "execute_result",
          "data": {
            "text/html": [
              "<div>\n",
              "<style scoped>\n",
              "    .dataframe tbody tr th:only-of-type {\n",
              "        vertical-align: middle;\n",
              "    }\n",
              "\n",
              "    .dataframe tbody tr th {\n",
              "        vertical-align: top;\n",
              "    }\n",
              "\n",
              "    .dataframe thead th {\n",
              "        text-align: right;\n",
              "    }\n",
              "</style>\n",
              "<table border=\"1\" class=\"dataframe\">\n",
              "  <thead>\n",
              "    <tr style=\"text-align: right;\">\n",
              "      <th></th>\n",
              "      <th>animal</th>\n",
              "      <th>favorite_food</th>\n",
              "      <th>cuteness_level</th>\n",
              "    </tr>\n",
              "  </thead>\n",
              "  <tbody>\n",
              "    <tr>\n",
              "      <th>0</th>\n",
              "      <td>panda</td>\n",
              "      <td>bamboo</td>\n",
              "      <td>100</td>\n",
              "    </tr>\n",
              "    <tr>\n",
              "      <th>1</th>\n",
              "      <td>koala</td>\n",
              "      <td>eucalyptus</td>\n",
              "      <td>100</td>\n",
              "    </tr>\n",
              "  </tbody>\n",
              "</table>\n",
              "</div>"
            ],
            "text/plain": [
              "  animal favorite_food  cuteness_level\n",
              "0  panda        bamboo             100\n",
              "1  koala    eucalyptus             100"
            ]
          },
          "metadata": {
            "tags": []
          },
          "execution_count": 5
        }
      ]
    },
    {
      "cell_type": "code",
      "metadata": {
        "colab": {
          "base_uri": "https://localhost:8080/",
          "height": 142
        },
        "id": "FEvsnifzDRhI",
        "outputId": "c572e18e-0f02-4d83-ee9b-9b19bd676940"
      },
      "source": [
        "data = {'animal': ['panda', 'koala'],\n",
        "        'favorite_food': ['bamboo', 'eucalyptus'],\n",
        "        'cuteness_level': [100, 100]}\n",
        "\n",
        "pd.DataFrame.from_dict(data, orient = 'index', columns = ['first_animal', 'second_animal'])"
      ],
      "execution_count": 6,
      "outputs": [
        {
          "output_type": "execute_result",
          "data": {
            "text/html": [
              "<div>\n",
              "<style scoped>\n",
              "    .dataframe tbody tr th:only-of-type {\n",
              "        vertical-align: middle;\n",
              "    }\n",
              "\n",
              "    .dataframe tbody tr th {\n",
              "        vertical-align: top;\n",
              "    }\n",
              "\n",
              "    .dataframe thead th {\n",
              "        text-align: right;\n",
              "    }\n",
              "</style>\n",
              "<table border=\"1\" class=\"dataframe\">\n",
              "  <thead>\n",
              "    <tr style=\"text-align: right;\">\n",
              "      <th></th>\n",
              "      <th>first_animal</th>\n",
              "      <th>second_animal</th>\n",
              "    </tr>\n",
              "  </thead>\n",
              "  <tbody>\n",
              "    <tr>\n",
              "      <th>animal</th>\n",
              "      <td>panda</td>\n",
              "      <td>koala</td>\n",
              "    </tr>\n",
              "    <tr>\n",
              "      <th>favorite_food</th>\n",
              "      <td>bamboo</td>\n",
              "      <td>eucalyptus</td>\n",
              "    </tr>\n",
              "    <tr>\n",
              "      <th>cuteness_level</th>\n",
              "      <td>100</td>\n",
              "      <td>100</td>\n",
              "    </tr>\n",
              "  </tbody>\n",
              "</table>\n",
              "</div>"
            ],
            "text/plain": [
              "               first_animal second_animal\n",
              "animal                panda         koala\n",
              "favorite_food        bamboo    eucalyptus\n",
              "cuteness_level          100           100"
            ]
          },
          "metadata": {
            "tags": []
          },
          "execution_count": 6
        }
      ]
    },
    {
      "cell_type": "code",
      "metadata": {
        "colab": {
          "base_uri": "https://localhost:8080/",
          "height": 111
        },
        "id": "UuEjlnYWDZRQ",
        "outputId": "93b1a16c-cc34-4134-e762-6939a315810f"
      },
      "source": [
        "data = [{'animal': 'panda', \n",
        "         'favorite_food': 'bamboo', \n",
        "         'cuteness_level': 100},         {'animal': 'koala', \n",
        "          'favorite_food': 'eucalyptus', \n",
        "           'cuteness_level': 100}]\n",
        "           \n",
        "pd.DataFrame(data)"
      ],
      "execution_count": 7,
      "outputs": [
        {
          "output_type": "execute_result",
          "data": {
            "text/html": [
              "<div>\n",
              "<style scoped>\n",
              "    .dataframe tbody tr th:only-of-type {\n",
              "        vertical-align: middle;\n",
              "    }\n",
              "\n",
              "    .dataframe tbody tr th {\n",
              "        vertical-align: top;\n",
              "    }\n",
              "\n",
              "    .dataframe thead th {\n",
              "        text-align: right;\n",
              "    }\n",
              "</style>\n",
              "<table border=\"1\" class=\"dataframe\">\n",
              "  <thead>\n",
              "    <tr style=\"text-align: right;\">\n",
              "      <th></th>\n",
              "      <th>animal</th>\n",
              "      <th>favorite_food</th>\n",
              "      <th>cuteness_level</th>\n",
              "    </tr>\n",
              "  </thead>\n",
              "  <tbody>\n",
              "    <tr>\n",
              "      <th>0</th>\n",
              "      <td>panda</td>\n",
              "      <td>bamboo</td>\n",
              "      <td>100</td>\n",
              "    </tr>\n",
              "    <tr>\n",
              "      <th>1</th>\n",
              "      <td>koala</td>\n",
              "      <td>eucalyptus</td>\n",
              "      <td>100</td>\n",
              "    </tr>\n",
              "  </tbody>\n",
              "</table>\n",
              "</div>"
            ],
            "text/plain": [
              "  animal favorite_food  cuteness_level\n",
              "0  panda        bamboo             100\n",
              "1  koala    eucalyptus             100"
            ]
          },
          "metadata": {
            "tags": []
          },
          "execution_count": 7
        }
      ]
    },
    {
      "cell_type": "code",
      "metadata": {
        "colab": {
          "base_uri": "https://localhost:8080/",
          "height": 111
        },
        "id": "wsc3nMxaDb-N",
        "outputId": "cd04c1a4-b1de-4446-e3c6-d749300e5345"
      },
      "source": [
        "import numpy as np\n",
        "data = np.array([('panda', 'bamboo', 100), \n",
        "                 ('koala', 'eucalyptus', 100)],\n",
        "               dtype=[('animal', 'U6'), \n",
        "              ('favorite_food', 'U6'), \n",
        "               ('cuteness_level', int)])\n",
        "pd.DataFrame(data)"
      ],
      "execution_count": 10,
      "outputs": [
        {
          "output_type": "execute_result",
          "data": {
            "text/html": [
              "<div>\n",
              "<style scoped>\n",
              "    .dataframe tbody tr th:only-of-type {\n",
              "        vertical-align: middle;\n",
              "    }\n",
              "\n",
              "    .dataframe tbody tr th {\n",
              "        vertical-align: top;\n",
              "    }\n",
              "\n",
              "    .dataframe thead th {\n",
              "        text-align: right;\n",
              "    }\n",
              "</style>\n",
              "<table border=\"1\" class=\"dataframe\">\n",
              "  <thead>\n",
              "    <tr style=\"text-align: right;\">\n",
              "      <th></th>\n",
              "      <th>animal</th>\n",
              "      <th>favorite_food</th>\n",
              "      <th>cuteness_level</th>\n",
              "    </tr>\n",
              "  </thead>\n",
              "  <tbody>\n",
              "    <tr>\n",
              "      <th>0</th>\n",
              "      <td>panda</td>\n",
              "      <td>bamboo</td>\n",
              "      <td>100</td>\n",
              "    </tr>\n",
              "    <tr>\n",
              "      <th>1</th>\n",
              "      <td>koala</td>\n",
              "      <td>eucaly</td>\n",
              "      <td>100</td>\n",
              "    </tr>\n",
              "  </tbody>\n",
              "</table>\n",
              "</div>"
            ],
            "text/plain": [
              "  animal favorite_food  cuteness_level\n",
              "0  panda        bamboo             100\n",
              "1  koala        eucaly             100"
            ]
          },
          "metadata": {
            "tags": []
          },
          "execution_count": 10
        }
      ]
    }
  ]
}