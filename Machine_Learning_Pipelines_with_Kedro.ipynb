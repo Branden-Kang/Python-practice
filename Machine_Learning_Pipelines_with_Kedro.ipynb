{
  "nbformat": 4,
  "nbformat_minor": 0,
  "metadata": {
    "colab": {
      "name": "Machine Learning Pipelines with Kedro.ipynb",
      "provenance": [],
      "authorship_tag": "ABX9TyMapjMiM8RoQWKxqz/CzHJw"
    },
    "kernelspec": {
      "name": "python3",
      "display_name": "Python 3"
    },
    "language_info": {
      "name": "python"
    }
  },
  "cells": [
    {
      "cell_type": "markdown",
      "metadata": {
        "id": "2HCCG5ob_-FZ"
      },
      "source": [
        "[Reference](https://medium.com/indiciumtech/how-to-build-models-as-products-using-mlops-part-2-machine-learning-pipelines-with-kedro-10337c48de92)"
      ]
    },
    {
      "cell_type": "code",
      "metadata": {
        "colab": {
          "base_uri": "https://localhost:8080/"
        },
        "id": "ymJX9AEN_8Ea",
        "outputId": "254c13da-1176-48b3-f49d-f7084ba4ae81"
      },
      "source": [
        "pip install kedro"
      ],
      "execution_count": 1,
      "outputs": [
        {
          "output_type": "stream",
          "name": "stdout",
          "text": [
            "Collecting kedro\n",
            "  Downloading kedro-0.17.5-py3-none-any.whl (18.4 MB)\n",
            "\u001b[K     |████████████████████████████████| 18.4 MB 1.3 MB/s \n",
            "\u001b[?25hRequirement already satisfied: toml~=0.10 in /usr/local/lib/python3.7/dist-packages (from kedro) (0.10.2)\n",
            "Collecting fsspec<2022.01,>=2021.04\n",
            "  Downloading fsspec-2021.10.1-py3-none-any.whl (125 kB)\n",
            "\u001b[K     |████████████████████████████████| 125 kB 56.8 MB/s \n",
            "\u001b[?25hCollecting cookiecutter~=1.7.0\n",
            "  Downloading cookiecutter-1.7.3-py2.py3-none-any.whl (34 kB)\n",
            "Requirement already satisfied: cachetools~=4.1 in /usr/local/lib/python3.7/dist-packages (from kedro) (4.2.4)\n",
            "Collecting dynaconf<3.1.6\n",
            "  Downloading dynaconf-3.1.5-py2.py3-none-any.whl (198 kB)\n",
            "\u001b[K     |████████████████████████████████| 198 kB 51.6 MB/s \n",
            "\u001b[?25hCollecting python-json-logger~=2.0\n",
            "  Downloading python_json_logger-2.0.2-py3-none-any.whl (7.4 kB)\n",
            "Collecting rope~=0.19.0\n",
            "  Downloading rope-0.19.0.tar.gz (252 kB)\n",
            "\u001b[K     |████████████████████████████████| 252 kB 48.5 MB/s \n",
            "\u001b[?25hCollecting jmespath<1.0,>=0.9.5\n",
            "  Downloading jmespath-0.10.0-py2.py3-none-any.whl (24 kB)\n",
            "Requirement already satisfied: jupyter-client<7.0,>=5.1 in /usr/local/lib/python3.7/dist-packages (from kedro) (5.3.5)\n",
            "Collecting pluggy~=0.13.0\n",
            "  Downloading pluggy-0.13.1-py2.py3-none-any.whl (18 kB)\n",
            "Collecting toposort~=1.5\n",
            "  Downloading toposort-1.7-py2.py3-none-any.whl (9.0 kB)\n",
            "Requirement already satisfied: setuptools>=38.0 in /usr/local/lib/python3.7/dist-packages (from kedro) (57.4.0)\n",
            "Collecting anyconfig~=0.10.0\n",
            "  Downloading anyconfig-0.10.1-py2.py3-none-any.whl (64 kB)\n",
            "\u001b[K     |████████████████████████████████| 64 kB 3.3 MB/s \n",
            "\u001b[?25hCollecting PyYAML<6.0,>=4.2\n",
            "  Downloading PyYAML-5.4.1-cp37-cp37m-manylinux1_x86_64.whl (636 kB)\n",
            "\u001b[K     |████████████████████████████████| 636 kB 45.8 MB/s \n",
            "\u001b[?25hCollecting gitpython~=3.0\n",
            "  Downloading GitPython-3.1.24-py3-none-any.whl (180 kB)\n",
            "\u001b[K     |████████████████████████████████| 180 kB 53.6 MB/s \n",
            "\u001b[?25hCollecting pip-tools~=5.0\n",
            "  Downloading pip_tools-5.5.0-py2.py3-none-any.whl (45 kB)\n",
            "\u001b[K     |████████████████████████████████| 45 kB 3.1 MB/s \n",
            "\u001b[?25hRequirement already satisfied: click<8.0 in /usr/local/lib/python3.7/dist-packages (from kedro) (7.1.2)\n",
            "Collecting poyo>=0.5.0\n",
            "  Downloading poyo-0.5.0-py2.py3-none-any.whl (10 kB)\n",
            "Requirement already satisfied: requests>=2.23.0 in /usr/local/lib/python3.7/dist-packages (from cookiecutter~=1.7.0->kedro) (2.23.0)\n",
            "Requirement already satisfied: six>=1.10 in /usr/local/lib/python3.7/dist-packages (from cookiecutter~=1.7.0->kedro) (1.15.0)\n",
            "Requirement already satisfied: Jinja2<4.0.0,>=2.7 in /usr/local/lib/python3.7/dist-packages (from cookiecutter~=1.7.0->kedro) (2.11.3)\n",
            "Collecting binaryornot>=0.4.4\n",
            "  Downloading binaryornot-0.4.4-py2.py3-none-any.whl (9.0 kB)\n",
            "Requirement already satisfied: python-slugify>=4.0.0 in /usr/local/lib/python3.7/dist-packages (from cookiecutter~=1.7.0->kedro) (5.0.2)\n",
            "Collecting jinja2-time>=0.2.0\n",
            "  Downloading jinja2_time-0.2.0-py2.py3-none-any.whl (6.4 kB)\n",
            "Requirement already satisfied: chardet>=3.0.2 in /usr/local/lib/python3.7/dist-packages (from binaryornot>=0.4.4->cookiecutter~=1.7.0->kedro) (3.0.4)\n",
            "Collecting gitdb<5,>=4.0.1\n",
            "  Downloading gitdb-4.0.9-py3-none-any.whl (63 kB)\n",
            "\u001b[K     |████████████████████████████████| 63 kB 1.9 MB/s \n",
            "\u001b[?25hRequirement already satisfied: typing-extensions>=3.7.4.3 in /usr/local/lib/python3.7/dist-packages (from gitpython~=3.0->kedro) (3.7.4.3)\n",
            "Collecting smmap<6,>=3.0.1\n",
            "  Downloading smmap-5.0.0-py3-none-any.whl (24 kB)\n",
            "Requirement already satisfied: MarkupSafe>=0.23 in /usr/local/lib/python3.7/dist-packages (from Jinja2<4.0.0,>=2.7->cookiecutter~=1.7.0->kedro) (2.0.1)\n",
            "Collecting arrow\n",
            "  Downloading arrow-1.2.1-py3-none-any.whl (63 kB)\n",
            "\u001b[K     |████████████████████████████████| 63 kB 2.2 MB/s \n",
            "\u001b[?25hRequirement already satisfied: traitlets in /usr/local/lib/python3.7/dist-packages (from jupyter-client<7.0,>=5.1->kedro) (5.1.0)\n",
            "Requirement already satisfied: tornado>=4.1 in /usr/local/lib/python3.7/dist-packages (from jupyter-client<7.0,>=5.1->kedro) (5.1.1)\n",
            "Requirement already satisfied: pyzmq>=13 in /usr/local/lib/python3.7/dist-packages (from jupyter-client<7.0,>=5.1->kedro) (22.3.0)\n",
            "Requirement already satisfied: jupyter-core>=4.6.0 in /usr/local/lib/python3.7/dist-packages (from jupyter-client<7.0,>=5.1->kedro) (4.8.1)\n",
            "Requirement already satisfied: python-dateutil>=2.1 in /usr/local/lib/python3.7/dist-packages (from jupyter-client<7.0,>=5.1->kedro) (2.8.2)\n",
            "Requirement already satisfied: pip>=20.1 in /usr/local/lib/python3.7/dist-packages (from pip-tools~=5.0->kedro) (21.1.3)\n",
            "Requirement already satisfied: importlib-metadata>=0.12 in /usr/local/lib/python3.7/dist-packages (from pluggy~=0.13.0->kedro) (4.8.1)\n",
            "Requirement already satisfied: zipp>=0.5 in /usr/local/lib/python3.7/dist-packages (from importlib-metadata>=0.12->pluggy~=0.13.0->kedro) (3.6.0)\n",
            "Requirement already satisfied: text-unidecode>=1.3 in /usr/local/lib/python3.7/dist-packages (from python-slugify>=4.0.0->cookiecutter~=1.7.0->kedro) (1.3)\n",
            "Requirement already satisfied: urllib3!=1.25.0,!=1.25.1,<1.26,>=1.21.1 in /usr/local/lib/python3.7/dist-packages (from requests>=2.23.0->cookiecutter~=1.7.0->kedro) (1.24.3)\n",
            "Requirement already satisfied: certifi>=2017.4.17 in /usr/local/lib/python3.7/dist-packages (from requests>=2.23.0->cookiecutter~=1.7.0->kedro) (2021.5.30)\n",
            "Requirement already satisfied: idna<3,>=2.5 in /usr/local/lib/python3.7/dist-packages (from requests>=2.23.0->cookiecutter~=1.7.0->kedro) (2.10)\n",
            "Building wheels for collected packages: rope\n",
            "  Building wheel for rope (setup.py) ... \u001b[?25l\u001b[?25hdone\n",
            "  Created wheel for rope: filename=rope-0.19.0-py3-none-any.whl size=182060 sha256=fe8392037be6e549957878adb4714bc9f9bfcfc37a6ed78c8c64e1d8aff211a9\n",
            "  Stored in directory: /root/.cache/pip/wheels/0c/cd/52/101929db784777f166df406c8b0200fc1b6f01391b76669294\n",
            "Successfully built rope\n",
            "Installing collected packages: smmap, arrow, poyo, jinja2-time, gitdb, binaryornot, toposort, rope, PyYAML, python-json-logger, pluggy, pip-tools, jmespath, gitpython, fsspec, dynaconf, cookiecutter, anyconfig, kedro\n",
            "  Attempting uninstall: PyYAML\n",
            "    Found existing installation: PyYAML 3.13\n",
            "    Uninstalling PyYAML-3.13:\n",
            "      Successfully uninstalled PyYAML-3.13\n",
            "  Attempting uninstall: pluggy\n",
            "    Found existing installation: pluggy 0.7.1\n",
            "    Uninstalling pluggy-0.7.1:\n",
            "      Successfully uninstalled pluggy-0.7.1\n",
            "  Attempting uninstall: pip-tools\n",
            "    Found existing installation: pip-tools 6.2.0\n",
            "    Uninstalling pip-tools-6.2.0:\n",
            "      Successfully uninstalled pip-tools-6.2.0\n",
            "\u001b[31mERROR: pip's dependency resolver does not currently take into account all the packages that are installed. This behaviour is the source of the following dependency conflicts.\n",
            "pytest 3.6.4 requires pluggy<0.8,>=0.5, but you have pluggy 0.13.1 which is incompatible.\n",
            "datascience 0.10.6 requires folium==0.2.1, but you have folium 0.8.3 which is incompatible.\u001b[0m\n",
            "Successfully installed PyYAML-5.4.1 anyconfig-0.10.1 arrow-1.2.1 binaryornot-0.4.4 cookiecutter-1.7.3 dynaconf-3.1.5 fsspec-2021.10.1 gitdb-4.0.9 gitpython-3.1.24 jinja2-time-0.2.0 jmespath-0.10.0 kedro-0.17.5 pip-tools-5.5.0 pluggy-0.13.1 poyo-0.5.0 python-json-logger-2.0.2 rope-0.19.0 smmap-5.0.0 toposort-1.7\n"
          ]
        }
      ]
    },
    {
      "cell_type": "code",
      "metadata": {
        "colab": {
          "base_uri": "https://localhost:8080/"
        },
        "id": "gx3iXdJ8_9Uj",
        "outputId": "cbf1b830-da8d-47e9-827e-1fa0af6efe73"
      },
      "source": [
        "!kedro info"
      ],
      "execution_count": 3,
      "outputs": [
        {
          "output_type": "stream",
          "name": "stdout",
          "text": [
            "/usr/local/lib/python3.7/dist-packages/jsonschema/compat.py:6: DeprecationWarning: Using or importing the ABCs from 'collections' instead of from 'collections.abc' is deprecated since Python 3.3,and in 3.9 it will stop working\n",
            "  from collections import MutableMapping, Sequence  # noqa\n",
            "\u001b[32m\n",
            " _            _\n",
            "| | _____  __| |_ __ ___\n",
            "| |/ / _ \\/ _` | '__/ _ \\\n",
            "|   <  __/ (_| | | | (_) |\n",
            "|_|\\_\\___|\\__,_|_|  \\___/\n",
            "v0.17.5\n",
            "\u001b[0m\n",
            "kedro allows teams to create analytics\n",
            "projects. It is developed as part of\n",
            "the Kedro initiative at QuantumBlack.\n",
            "\n",
            "No plugins installed\n"
          ]
        }
      ]
    },
    {
      "cell_type": "code",
      "metadata": {
        "colab": {
          "base_uri": "https://localhost:8080/"
        },
        "id": "B45WbDWuADzj",
        "outputId": "4daa83a3-afbc-405e-ec0d-a53ffc26df68"
      },
      "source": [
        "!kedro new"
      ],
      "execution_count": 4,
      "outputs": [
        {
          "output_type": "stream",
          "name": "stdout",
          "text": [
            "/usr/local/lib/python3.7/dist-packages/jsonschema/compat.py:6: DeprecationWarning: Using or importing the ABCs from 'collections' instead of from 'collections.abc' is deprecated since Python 3.3,and in 3.9 it will stop working\n",
            "  from collections import MutableMapping, Sequence  # noqa\n",
            "\n",
            "\u001b[1mProject Name:\n",
            "=============\u001b[0m\n",
            "Please enter a human readable name for your new project.\n",
            "Spaces and punctuation are allowed.\n",
            " [New Kedro Project]: Kang\n",
            "\n",
            "\u001b[1mRepository Name:\n",
            "================\u001b[0m\n",
            "Please enter a directory name for your new project repository.\n",
            "Alphanumeric characters, hyphens and underscores are allowed.\n",
            "Lowercase is recommended.\n",
            " [kang]: Aborted!\n",
            "^C\n"
          ]
        }
      ]
    },
    {
      "cell_type": "code",
      "metadata": {
        "colab": {
          "base_uri": "https://localhost:8080/"
        },
        "id": "OKPn87DyAGGg",
        "outputId": "24e75e03-81e7-40e4-fcbd-86f1ddc9ef8d"
      },
      "source": [
        "!git init"
      ],
      "execution_count": 5,
      "outputs": [
        {
          "output_type": "stream",
          "name": "stdout",
          "text": [
            "Initialized empty Git repository in /content/.git/\n"
          ]
        }
      ]
    }
  ]
}