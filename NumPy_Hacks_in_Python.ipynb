{
  "nbformat": 4,
  "nbformat_minor": 0,
  "metadata": {
    "colab": {
      "name": "NumPy Hacks in Python.ipynb",
      "provenance": [],
      "authorship_tag": "ABX9TyNz46ToMaXbAfsgm2jHFZhu"
    },
    "kernelspec": {
      "name": "python3",
      "display_name": "Python 3"
    }
  },
  "cells": [
    {
      "cell_type": "markdown",
      "metadata": {
        "id": "JvJCEZHDRS5E"
      },
      "source": [
        "# random.choice() | random.poisson() | random.rand()"
      ]
    },
    {
      "cell_type": "code",
      "metadata": {
        "colab": {
          "base_uri": "https://localhost:8080/",
          "height": 669
        },
        "id": "ASSgiaVYQxvG",
        "outputId": "78622617-6a59-4796-a961-77cf01df53f4"
      },
      "source": [
        "import pandas as pd\n",
        "import numpy as np\n",
        "\n",
        "# set a random seed\n",
        "np.random.seed(5)\n",
        "\n",
        "# gender 60% male 40% female\n",
        "# age from poisson distribution with lambda=25\n",
        "# score a random integer from 0 to 100\n",
        "df = pd.DataFrame({'gender':np.random.choice(a=['m','f'], size=20, p=[0.6,0.4]),\n",
        "                   'age':np.random.poisson(lam=25, size=20),\n",
        "                   'score_a':np.random.randint(100, size=20),\n",
        "                   'score_b':np.random.randint(100, size=20),\n",
        "                   'score_c':np.random.randint(100, size=20)})\n",
        "\n",
        "df"
      ],
      "execution_count": 1,
      "outputs": [
        {
          "output_type": "execute_result",
          "data": {
            "text/html": [
              "<div>\n",
              "<style scoped>\n",
              "    .dataframe tbody tr th:only-of-type {\n",
              "        vertical-align: middle;\n",
              "    }\n",
              "\n",
              "    .dataframe tbody tr th {\n",
              "        vertical-align: top;\n",
              "    }\n",
              "\n",
              "    .dataframe thead th {\n",
              "        text-align: right;\n",
              "    }\n",
              "</style>\n",
              "<table border=\"1\" class=\"dataframe\">\n",
              "  <thead>\n",
              "    <tr style=\"text-align: right;\">\n",
              "      <th></th>\n",
              "      <th>gender</th>\n",
              "      <th>age</th>\n",
              "      <th>score_a</th>\n",
              "      <th>score_b</th>\n",
              "      <th>score_c</th>\n",
              "    </tr>\n",
              "  </thead>\n",
              "  <tbody>\n",
              "    <tr>\n",
              "      <th>0</th>\n",
              "      <td>m</td>\n",
              "      <td>26</td>\n",
              "      <td>83</td>\n",
              "      <td>57</td>\n",
              "      <td>2</td>\n",
              "    </tr>\n",
              "    <tr>\n",
              "      <th>1</th>\n",
              "      <td>f</td>\n",
              "      <td>22</td>\n",
              "      <td>92</td>\n",
              "      <td>19</td>\n",
              "      <td>2</td>\n",
              "    </tr>\n",
              "    <tr>\n",
              "      <th>2</th>\n",
              "      <td>m</td>\n",
              "      <td>22</td>\n",
              "      <td>83</td>\n",
              "      <td>64</td>\n",
              "      <td>91</td>\n",
              "    </tr>\n",
              "    <tr>\n",
              "      <th>3</th>\n",
              "      <td>f</td>\n",
              "      <td>38</td>\n",
              "      <td>49</td>\n",
              "      <td>8</td>\n",
              "      <td>65</td>\n",
              "    </tr>\n",
              "    <tr>\n",
              "      <th>4</th>\n",
              "      <td>m</td>\n",
              "      <td>28</td>\n",
              "      <td>4</td>\n",
              "      <td>8</td>\n",
              "      <td>45</td>\n",
              "    </tr>\n",
              "    <tr>\n",
              "      <th>5</th>\n",
              "      <td>f</td>\n",
              "      <td>21</td>\n",
              "      <td>82</td>\n",
              "      <td>71</td>\n",
              "      <td>87</td>\n",
              "    </tr>\n",
              "    <tr>\n",
              "      <th>6</th>\n",
              "      <td>f</td>\n",
              "      <td>30</td>\n",
              "      <td>36</td>\n",
              "      <td>12</td>\n",
              "      <td>1</td>\n",
              "    </tr>\n",
              "    <tr>\n",
              "      <th>7</th>\n",
              "      <td>m</td>\n",
              "      <td>29</td>\n",
              "      <td>41</td>\n",
              "      <td>20</td>\n",
              "      <td>23</td>\n",
              "    </tr>\n",
              "    <tr>\n",
              "      <th>8</th>\n",
              "      <td>m</td>\n",
              "      <td>10</td>\n",
              "      <td>20</td>\n",
              "      <td>59</td>\n",
              "      <td>50</td>\n",
              "    </tr>\n",
              "    <tr>\n",
              "      <th>9</th>\n",
              "      <td>m</td>\n",
              "      <td>18</td>\n",
              "      <td>32</td>\n",
              "      <td>72</td>\n",
              "      <td>86</td>\n",
              "    </tr>\n",
              "    <tr>\n",
              "      <th>10</th>\n",
              "      <td>m</td>\n",
              "      <td>30</td>\n",
              "      <td>10</td>\n",
              "      <td>74</td>\n",
              "      <td>19</td>\n",
              "    </tr>\n",
              "    <tr>\n",
              "      <th>11</th>\n",
              "      <td>f</td>\n",
              "      <td>27</td>\n",
              "      <td>31</td>\n",
              "      <td>86</td>\n",
              "      <td>54</td>\n",
              "    </tr>\n",
              "    <tr>\n",
              "      <th>12</th>\n",
              "      <td>m</td>\n",
              "      <td>30</td>\n",
              "      <td>15</td>\n",
              "      <td>72</td>\n",
              "      <td>24</td>\n",
              "    </tr>\n",
              "    <tr>\n",
              "      <th>13</th>\n",
              "      <td>m</td>\n",
              "      <td>23</td>\n",
              "      <td>22</td>\n",
              "      <td>32</td>\n",
              "      <td>64</td>\n",
              "    </tr>\n",
              "    <tr>\n",
              "      <th>14</th>\n",
              "      <td>f</td>\n",
              "      <td>26</td>\n",
              "      <td>70</td>\n",
              "      <td>15</td>\n",
              "      <td>77</td>\n",
              "    </tr>\n",
              "    <tr>\n",
              "      <th>15</th>\n",
              "      <td>m</td>\n",
              "      <td>14</td>\n",
              "      <td>9</td>\n",
              "      <td>69</td>\n",
              "      <td>73</td>\n",
              "    </tr>\n",
              "    <tr>\n",
              "      <th>16</th>\n",
              "      <td>m</td>\n",
              "      <td>23</td>\n",
              "      <td>63</td>\n",
              "      <td>35</td>\n",
              "      <td>1</td>\n",
              "    </tr>\n",
              "    <tr>\n",
              "      <th>17</th>\n",
              "      <td>m</td>\n",
              "      <td>30</td>\n",
              "      <td>94</td>\n",
              "      <td>62</td>\n",
              "      <td>9</td>\n",
              "    </tr>\n",
              "    <tr>\n",
              "      <th>18</th>\n",
              "      <td>f</td>\n",
              "      <td>27</td>\n",
              "      <td>14</td>\n",
              "      <td>43</td>\n",
              "      <td>64</td>\n",
              "    </tr>\n",
              "    <tr>\n",
              "      <th>19</th>\n",
              "      <td>m</td>\n",
              "      <td>26</td>\n",
              "      <td>66</td>\n",
              "      <td>0</td>\n",
              "      <td>23</td>\n",
              "    </tr>\n",
              "  </tbody>\n",
              "</table>\n",
              "</div>"
            ],
            "text/plain": [
              "   gender  age  score_a  score_b  score_c\n",
              "0       m   26       83       57        2\n",
              "1       f   22       92       19        2\n",
              "2       m   22       83       64       91\n",
              "3       f   38       49        8       65\n",
              "4       m   28        4        8       45\n",
              "5       f   21       82       71       87\n",
              "6       f   30       36       12        1\n",
              "7       m   29       41       20       23\n",
              "8       m   10       20       59       50\n",
              "9       m   18       32       72       86\n",
              "10      m   30       10       74       19\n",
              "11      f   27       31       86       54\n",
              "12      m   30       15       72       24\n",
              "13      m   23       22       32       64\n",
              "14      f   26       70       15       77\n",
              "15      m   14        9       69       73\n",
              "16      m   23       63       35        1\n",
              "17      m   30       94       62        9\n",
              "18      f   27       14       43       64\n",
              "19      m   26       66        0       23"
            ]
          },
          "metadata": {
            "tags": []
          },
          "execution_count": 1
        }
      ]
    },
    {
      "cell_type": "markdown",
      "metadata": {
        "id": "sqD30WclRRAU"
      },
      "source": [
        "# random.shuffle()"
      ]
    },
    {
      "cell_type": "code",
      "metadata": {
        "colab": {
          "base_uri": "https://localhost:8080/"
        },
        "id": "YXoceIfnQ8PP",
        "outputId": "8e787a90-5b92-474b-f665-b870a1a02985"
      },
      "source": [
        "# set a random seed \n",
        "np.random.seed(5) \n",
        "arr = df.values \n",
        "np.random.shuffle(arr) \n",
        "arr"
      ],
      "execution_count": 2,
      "outputs": [
        {
          "output_type": "execute_result",
          "data": {
            "text/plain": [
              "array([['m', 22, 83, 64, 91],\n",
              "       ['f', 21, 82, 71, 87],\n",
              "       ['m', 30, 94, 62, 9],\n",
              "       ['m', 26, 66, 0, 23],\n",
              "       ['m', 30, 15, 72, 24],\n",
              "       ['f', 22, 92, 19, 2],\n",
              "       ['f', 27, 31, 86, 54],\n",
              "       ['m', 30, 10, 74, 19],\n",
              "       ['m', 23, 22, 32, 64],\n",
              "       ['f', 27, 14, 43, 64],\n",
              "       ['m', 29, 41, 20, 23],\n",
              "       ['m', 28, 4, 8, 45],\n",
              "       ['m', 10, 20, 59, 50],\n",
              "       ['m', 18, 32, 72, 86],\n",
              "       ['m', 26, 83, 57, 2],\n",
              "       ['m', 23, 63, 35, 1],\n",
              "       ['f', 30, 36, 12, 1],\n",
              "       ['m', 14, 9, 69, 73],\n",
              "       ['f', 26, 70, 15, 77],\n",
              "       ['f', 38, 49, 8, 65]], dtype=object)"
            ]
          },
          "metadata": {
            "tags": []
          },
          "execution_count": 2
        }
      ]
    },
    {
      "cell_type": "markdown",
      "metadata": {
        "id": "q2wvzzIlRPot"
      },
      "source": [
        "# logical_and() | logical_or()"
      ]
    },
    {
      "cell_type": "code",
      "metadata": {
        "colab": {
          "base_uri": "https://localhost:8080/"
        },
        "id": "emyQN9lIRA99",
        "outputId": "2e45fd25-9656-4038-f9c5-7de5dba04407"
      },
      "source": [
        "x = np.arange(5) \n",
        "np.logical_and(x>1, x<4)"
      ],
      "execution_count": 3,
      "outputs": [
        {
          "output_type": "execute_result",
          "data": {
            "text/plain": [
              "array([False, False,  True,  True, False])"
            ]
          },
          "metadata": {
            "tags": []
          },
          "execution_count": 3
        }
      ]
    },
    {
      "cell_type": "code",
      "metadata": {
        "colab": {
          "base_uri": "https://localhost:8080/"
        },
        "id": "jvPfL7JtRERv",
        "outputId": "9ead3dae-77eb-4a9b-8a86-181e1e0834e9"
      },
      "source": [
        "np.logical_or(x < 1, x > 3)"
      ],
      "execution_count": 4,
      "outputs": [
        {
          "output_type": "execute_result",
          "data": {
            "text/plain": [
              "array([ True, False, False, False,  True])"
            ]
          },
          "metadata": {
            "tags": []
          },
          "execution_count": 4
        }
      ]
    },
    {
      "cell_type": "markdown",
      "metadata": {
        "id": "w48m-PUgRNu0"
      },
      "source": [
        "# where()"
      ]
    },
    {
      "cell_type": "code",
      "metadata": {
        "colab": {
          "base_uri": "https://localhost:8080/",
          "height": 204
        },
        "id": "yRI_AH4oRIfw",
        "outputId": "e35ee6fb-a70a-466f-fee0-22c62b99762d"
      },
      "source": [
        "df['score_a_pass'] = np.where(df.score_a>=50,\"Pass\",\"Fail\") \n",
        "\n",
        "df.head()"
      ],
      "execution_count": 5,
      "outputs": [
        {
          "output_type": "execute_result",
          "data": {
            "text/html": [
              "<div>\n",
              "<style scoped>\n",
              "    .dataframe tbody tr th:only-of-type {\n",
              "        vertical-align: middle;\n",
              "    }\n",
              "\n",
              "    .dataframe tbody tr th {\n",
              "        vertical-align: top;\n",
              "    }\n",
              "\n",
              "    .dataframe thead th {\n",
              "        text-align: right;\n",
              "    }\n",
              "</style>\n",
              "<table border=\"1\" class=\"dataframe\">\n",
              "  <thead>\n",
              "    <tr style=\"text-align: right;\">\n",
              "      <th></th>\n",
              "      <th>gender</th>\n",
              "      <th>age</th>\n",
              "      <th>score_a</th>\n",
              "      <th>score_b</th>\n",
              "      <th>score_c</th>\n",
              "      <th>score_a_pass</th>\n",
              "    </tr>\n",
              "  </thead>\n",
              "  <tbody>\n",
              "    <tr>\n",
              "      <th>0</th>\n",
              "      <td>m</td>\n",
              "      <td>26</td>\n",
              "      <td>83</td>\n",
              "      <td>57</td>\n",
              "      <td>2</td>\n",
              "      <td>Pass</td>\n",
              "    </tr>\n",
              "    <tr>\n",
              "      <th>1</th>\n",
              "      <td>f</td>\n",
              "      <td>22</td>\n",
              "      <td>92</td>\n",
              "      <td>19</td>\n",
              "      <td>2</td>\n",
              "      <td>Pass</td>\n",
              "    </tr>\n",
              "    <tr>\n",
              "      <th>2</th>\n",
              "      <td>m</td>\n",
              "      <td>22</td>\n",
              "      <td>83</td>\n",
              "      <td>64</td>\n",
              "      <td>91</td>\n",
              "      <td>Pass</td>\n",
              "    </tr>\n",
              "    <tr>\n",
              "      <th>3</th>\n",
              "      <td>f</td>\n",
              "      <td>38</td>\n",
              "      <td>49</td>\n",
              "      <td>8</td>\n",
              "      <td>65</td>\n",
              "      <td>Fail</td>\n",
              "    </tr>\n",
              "    <tr>\n",
              "      <th>4</th>\n",
              "      <td>m</td>\n",
              "      <td>28</td>\n",
              "      <td>4</td>\n",
              "      <td>8</td>\n",
              "      <td>45</td>\n",
              "      <td>Fail</td>\n",
              "    </tr>\n",
              "  </tbody>\n",
              "</table>\n",
              "</div>"
            ],
            "text/plain": [
              "  gender  age  score_a  score_b  score_c score_a_pass\n",
              "0      m   26       83       57        2         Pass\n",
              "1      f   22       92       19        2         Pass\n",
              "2      m   22       83       64       91         Pass\n",
              "3      f   38       49        8       65         Fail\n",
              "4      m   28        4        8       45         Fail"
            ]
          },
          "metadata": {
            "tags": []
          },
          "execution_count": 5
        }
      ]
    },
    {
      "cell_type": "markdown",
      "metadata": {
        "id": "dJTegFqiRMro"
      },
      "source": [
        "# select()"
      ]
    },
    {
      "cell_type": "code",
      "metadata": {
        "colab": {
          "base_uri": "https://localhost:8080/",
          "height": 359
        },
        "id": "2NdNVgAwRKza",
        "outputId": "6640a01e-522c-4e42-db4e-15d9aa488f30"
      },
      "source": [
        "choices = ['Mister','Lady','Boy', 'Girl']\n",
        "\n",
        "conditions = [\n",
        "    (df['gender'] == 'm') & (df['age']>20),\n",
        "    (df['gender'] == 'f') & (df['age']>20),\n",
        "    (df['gender'] == 'm') & (df['age']<=20),\n",
        "    (df['gender'] == 'f') & (df['age']<=20)\n",
        "    ]\n",
        "    \n",
        "df['demo'] = np.select(conditions, choices, default=np.nan)\n",
        "df.head(10)"
      ],
      "execution_count": 6,
      "outputs": [
        {
          "output_type": "execute_result",
          "data": {
            "text/html": [
              "<div>\n",
              "<style scoped>\n",
              "    .dataframe tbody tr th:only-of-type {\n",
              "        vertical-align: middle;\n",
              "    }\n",
              "\n",
              "    .dataframe tbody tr th {\n",
              "        vertical-align: top;\n",
              "    }\n",
              "\n",
              "    .dataframe thead th {\n",
              "        text-align: right;\n",
              "    }\n",
              "</style>\n",
              "<table border=\"1\" class=\"dataframe\">\n",
              "  <thead>\n",
              "    <tr style=\"text-align: right;\">\n",
              "      <th></th>\n",
              "      <th>gender</th>\n",
              "      <th>age</th>\n",
              "      <th>score_a</th>\n",
              "      <th>score_b</th>\n",
              "      <th>score_c</th>\n",
              "      <th>score_a_pass</th>\n",
              "      <th>demo</th>\n",
              "    </tr>\n",
              "  </thead>\n",
              "  <tbody>\n",
              "    <tr>\n",
              "      <th>0</th>\n",
              "      <td>m</td>\n",
              "      <td>26</td>\n",
              "      <td>83</td>\n",
              "      <td>57</td>\n",
              "      <td>2</td>\n",
              "      <td>Pass</td>\n",
              "      <td>Mister</td>\n",
              "    </tr>\n",
              "    <tr>\n",
              "      <th>1</th>\n",
              "      <td>f</td>\n",
              "      <td>22</td>\n",
              "      <td>92</td>\n",
              "      <td>19</td>\n",
              "      <td>2</td>\n",
              "      <td>Pass</td>\n",
              "      <td>Lady</td>\n",
              "    </tr>\n",
              "    <tr>\n",
              "      <th>2</th>\n",
              "      <td>m</td>\n",
              "      <td>22</td>\n",
              "      <td>83</td>\n",
              "      <td>64</td>\n",
              "      <td>91</td>\n",
              "      <td>Pass</td>\n",
              "      <td>Mister</td>\n",
              "    </tr>\n",
              "    <tr>\n",
              "      <th>3</th>\n",
              "      <td>f</td>\n",
              "      <td>38</td>\n",
              "      <td>49</td>\n",
              "      <td>8</td>\n",
              "      <td>65</td>\n",
              "      <td>Fail</td>\n",
              "      <td>Lady</td>\n",
              "    </tr>\n",
              "    <tr>\n",
              "      <th>4</th>\n",
              "      <td>m</td>\n",
              "      <td>28</td>\n",
              "      <td>4</td>\n",
              "      <td>8</td>\n",
              "      <td>45</td>\n",
              "      <td>Fail</td>\n",
              "      <td>Mister</td>\n",
              "    </tr>\n",
              "    <tr>\n",
              "      <th>5</th>\n",
              "      <td>f</td>\n",
              "      <td>21</td>\n",
              "      <td>82</td>\n",
              "      <td>71</td>\n",
              "      <td>87</td>\n",
              "      <td>Pass</td>\n",
              "      <td>Lady</td>\n",
              "    </tr>\n",
              "    <tr>\n",
              "      <th>6</th>\n",
              "      <td>f</td>\n",
              "      <td>30</td>\n",
              "      <td>36</td>\n",
              "      <td>12</td>\n",
              "      <td>1</td>\n",
              "      <td>Fail</td>\n",
              "      <td>Lady</td>\n",
              "    </tr>\n",
              "    <tr>\n",
              "      <th>7</th>\n",
              "      <td>m</td>\n",
              "      <td>29</td>\n",
              "      <td>41</td>\n",
              "      <td>20</td>\n",
              "      <td>23</td>\n",
              "      <td>Fail</td>\n",
              "      <td>Mister</td>\n",
              "    </tr>\n",
              "    <tr>\n",
              "      <th>8</th>\n",
              "      <td>m</td>\n",
              "      <td>10</td>\n",
              "      <td>20</td>\n",
              "      <td>59</td>\n",
              "      <td>50</td>\n",
              "      <td>Fail</td>\n",
              "      <td>Boy</td>\n",
              "    </tr>\n",
              "    <tr>\n",
              "      <th>9</th>\n",
              "      <td>m</td>\n",
              "      <td>18</td>\n",
              "      <td>32</td>\n",
              "      <td>72</td>\n",
              "      <td>86</td>\n",
              "      <td>Fail</td>\n",
              "      <td>Boy</td>\n",
              "    </tr>\n",
              "  </tbody>\n",
              "</table>\n",
              "</div>"
            ],
            "text/plain": [
              "  gender  age  score_a  score_b  score_c score_a_pass    demo\n",
              "0      m   26       83       57        2         Pass  Mister\n",
              "1      f   22       92       19        2         Pass    Lady\n",
              "2      m   22       83       64       91         Pass  Mister\n",
              "3      f   38       49        8       65         Fail    Lady\n",
              "4      m   28        4        8       45         Fail  Mister\n",
              "5      f   21       82       71       87         Pass    Lady\n",
              "6      f   30       36       12        1         Fail    Lady\n",
              "7      m   29       41       20       23         Fail  Mister\n",
              "8      m   10       20       59       50         Fail     Boy\n",
              "9      m   18       32       72       86         Fail     Boy"
            ]
          },
          "metadata": {
            "tags": []
          },
          "execution_count": 6
        }
      ]
    },
    {
      "cell_type": "markdown",
      "metadata": {
        "id": "9nDSNsN1RcCm"
      },
      "source": [
        "# digitize()"
      ]
    },
    {
      "cell_type": "code",
      "metadata": {
        "colab": {
          "base_uri": "https://localhost:8080/",
          "height": 359
        },
        "id": "_oSI-_s1RbC6",
        "outputId": "28aec281-85e3-4d13-c796-540fc4818b09"
      },
      "source": [
        "bins = np.array([0, 20, 40, 60, 80, 100])\n",
        "df['Bins'] = np.digitize(df.score_a, bins)\n",
        "df.head(10)"
      ],
      "execution_count": 7,
      "outputs": [
        {
          "output_type": "execute_result",
          "data": {
            "text/html": [
              "<div>\n",
              "<style scoped>\n",
              "    .dataframe tbody tr th:only-of-type {\n",
              "        vertical-align: middle;\n",
              "    }\n",
              "\n",
              "    .dataframe tbody tr th {\n",
              "        vertical-align: top;\n",
              "    }\n",
              "\n",
              "    .dataframe thead th {\n",
              "        text-align: right;\n",
              "    }\n",
              "</style>\n",
              "<table border=\"1\" class=\"dataframe\">\n",
              "  <thead>\n",
              "    <tr style=\"text-align: right;\">\n",
              "      <th></th>\n",
              "      <th>gender</th>\n",
              "      <th>age</th>\n",
              "      <th>score_a</th>\n",
              "      <th>score_b</th>\n",
              "      <th>score_c</th>\n",
              "      <th>score_a_pass</th>\n",
              "      <th>demo</th>\n",
              "      <th>Bins</th>\n",
              "    </tr>\n",
              "  </thead>\n",
              "  <tbody>\n",
              "    <tr>\n",
              "      <th>0</th>\n",
              "      <td>m</td>\n",
              "      <td>26</td>\n",
              "      <td>83</td>\n",
              "      <td>57</td>\n",
              "      <td>2</td>\n",
              "      <td>Pass</td>\n",
              "      <td>Mister</td>\n",
              "      <td>5</td>\n",
              "    </tr>\n",
              "    <tr>\n",
              "      <th>1</th>\n",
              "      <td>f</td>\n",
              "      <td>22</td>\n",
              "      <td>92</td>\n",
              "      <td>19</td>\n",
              "      <td>2</td>\n",
              "      <td>Pass</td>\n",
              "      <td>Lady</td>\n",
              "      <td>5</td>\n",
              "    </tr>\n",
              "    <tr>\n",
              "      <th>2</th>\n",
              "      <td>m</td>\n",
              "      <td>22</td>\n",
              "      <td>83</td>\n",
              "      <td>64</td>\n",
              "      <td>91</td>\n",
              "      <td>Pass</td>\n",
              "      <td>Mister</td>\n",
              "      <td>5</td>\n",
              "    </tr>\n",
              "    <tr>\n",
              "      <th>3</th>\n",
              "      <td>f</td>\n",
              "      <td>38</td>\n",
              "      <td>49</td>\n",
              "      <td>8</td>\n",
              "      <td>65</td>\n",
              "      <td>Fail</td>\n",
              "      <td>Lady</td>\n",
              "      <td>3</td>\n",
              "    </tr>\n",
              "    <tr>\n",
              "      <th>4</th>\n",
              "      <td>m</td>\n",
              "      <td>28</td>\n",
              "      <td>4</td>\n",
              "      <td>8</td>\n",
              "      <td>45</td>\n",
              "      <td>Fail</td>\n",
              "      <td>Mister</td>\n",
              "      <td>1</td>\n",
              "    </tr>\n",
              "    <tr>\n",
              "      <th>5</th>\n",
              "      <td>f</td>\n",
              "      <td>21</td>\n",
              "      <td>82</td>\n",
              "      <td>71</td>\n",
              "      <td>87</td>\n",
              "      <td>Pass</td>\n",
              "      <td>Lady</td>\n",
              "      <td>5</td>\n",
              "    </tr>\n",
              "    <tr>\n",
              "      <th>6</th>\n",
              "      <td>f</td>\n",
              "      <td>30</td>\n",
              "      <td>36</td>\n",
              "      <td>12</td>\n",
              "      <td>1</td>\n",
              "      <td>Fail</td>\n",
              "      <td>Lady</td>\n",
              "      <td>2</td>\n",
              "    </tr>\n",
              "    <tr>\n",
              "      <th>7</th>\n",
              "      <td>m</td>\n",
              "      <td>29</td>\n",
              "      <td>41</td>\n",
              "      <td>20</td>\n",
              "      <td>23</td>\n",
              "      <td>Fail</td>\n",
              "      <td>Mister</td>\n",
              "      <td>3</td>\n",
              "    </tr>\n",
              "    <tr>\n",
              "      <th>8</th>\n",
              "      <td>m</td>\n",
              "      <td>10</td>\n",
              "      <td>20</td>\n",
              "      <td>59</td>\n",
              "      <td>50</td>\n",
              "      <td>Fail</td>\n",
              "      <td>Boy</td>\n",
              "      <td>2</td>\n",
              "    </tr>\n",
              "    <tr>\n",
              "      <th>9</th>\n",
              "      <td>m</td>\n",
              "      <td>18</td>\n",
              "      <td>32</td>\n",
              "      <td>72</td>\n",
              "      <td>86</td>\n",
              "      <td>Fail</td>\n",
              "      <td>Boy</td>\n",
              "      <td>2</td>\n",
              "    </tr>\n",
              "  </tbody>\n",
              "</table>\n",
              "</div>"
            ],
            "text/plain": [
              "  gender  age  score_a  score_b  score_c score_a_pass    demo  Bins\n",
              "0      m   26       83       57        2         Pass  Mister     5\n",
              "1      f   22       92       19        2         Pass    Lady     5\n",
              "2      m   22       83       64       91         Pass  Mister     5\n",
              "3      f   38       49        8       65         Fail    Lady     3\n",
              "4      m   28        4        8       45         Fail  Mister     1\n",
              "5      f   21       82       71       87         Pass    Lady     5\n",
              "6      f   30       36       12        1         Fail    Lady     2\n",
              "7      m   29       41       20       23         Fail  Mister     3\n",
              "8      m   10       20       59       50         Fail     Boy     2\n",
              "9      m   18       32       72       86         Fail     Boy     2"
            ]
          },
          "metadata": {
            "tags": []
          },
          "execution_count": 7
        }
      ]
    },
    {
      "cell_type": "markdown",
      "metadata": {
        "id": "FnjkG8CCRgq3"
      },
      "source": [
        "# split()"
      ]
    },
    {
      "cell_type": "code",
      "metadata": {
        "colab": {
          "base_uri": "https://localhost:8080/"
        },
        "id": "jUL9lGDEReAD",
        "outputId": "0cea5c17-8cdb-4a4a-fd9a-eef3e1511ed0"
      },
      "source": [
        "data_a, data_b, data_c = np.split(df.values,  [int(0.6 * len(df.values)), int(0.8*len(df.values))])\n",
        "data_a"
      ],
      "execution_count": 8,
      "outputs": [
        {
          "output_type": "execute_result",
          "data": {
            "text/plain": [
              "array([['m', 26, 83, 57, 2, 'Pass', 'Mister', 5],\n",
              "       ['f', 22, 92, 19, 2, 'Pass', 'Lady', 5],\n",
              "       ['m', 22, 83, 64, 91, 'Pass', 'Mister', 5],\n",
              "       ['f', 38, 49, 8, 65, 'Fail', 'Lady', 3],\n",
              "       ['m', 28, 4, 8, 45, 'Fail', 'Mister', 1],\n",
              "       ['f', 21, 82, 71, 87, 'Pass', 'Lady', 5],\n",
              "       ['f', 30, 36, 12, 1, 'Fail', 'Lady', 2],\n",
              "       ['m', 29, 41, 20, 23, 'Fail', 'Mister', 3],\n",
              "       ['m', 10, 20, 59, 50, 'Fail', 'Boy', 2],\n",
              "       ['m', 18, 32, 72, 86, 'Fail', 'Boy', 2],\n",
              "       ['m', 30, 10, 74, 19, 'Fail', 'Mister', 1],\n",
              "       ['f', 27, 31, 86, 54, 'Fail', 'Lady', 2]], dtype=object)"
            ]
          },
          "metadata": {
            "tags": []
          },
          "execution_count": 8
        }
      ]
    },
    {
      "cell_type": "code",
      "metadata": {
        "colab": {
          "base_uri": "https://localhost:8080/"
        },
        "id": "X0Lmjt9kRieY",
        "outputId": "739a36a8-a4fe-404f-d57e-18d59676e361"
      },
      "source": [
        "data_b"
      ],
      "execution_count": 9,
      "outputs": [
        {
          "output_type": "execute_result",
          "data": {
            "text/plain": [
              "array([['m', 30, 15, 72, 24, 'Fail', 'Mister', 1],\n",
              "       ['m', 23, 22, 32, 64, 'Fail', 'Mister', 2],\n",
              "       ['f', 26, 70, 15, 77, 'Pass', 'Lady', 4],\n",
              "       ['m', 14, 9, 69, 73, 'Fail', 'Boy', 1]], dtype=object)"
            ]
          },
          "metadata": {
            "tags": []
          },
          "execution_count": 9
        }
      ]
    },
    {
      "cell_type": "code",
      "metadata": {
        "colab": {
          "base_uri": "https://localhost:8080/"
        },
        "id": "GYMv6iTXRjte",
        "outputId": "7561ed39-51de-4eaf-8388-06cc6293d7e5"
      },
      "source": [
        "data_c"
      ],
      "execution_count": 10,
      "outputs": [
        {
          "output_type": "execute_result",
          "data": {
            "text/plain": [
              "array([['m', 23, 63, 35, 1, 'Pass', 'Mister', 4],\n",
              "       ['m', 30, 94, 62, 9, 'Pass', 'Mister', 5],\n",
              "       ['f', 27, 14, 43, 64, 'Fail', 'Lady', 1],\n",
              "       ['m', 26, 66, 0, 23, 'Pass', 'Mister', 4]], dtype=object)"
            ]
          },
          "metadata": {
            "tags": []
          },
          "execution_count": 10
        }
      ]
    },
    {
      "cell_type": "markdown",
      "metadata": {
        "id": "F3cfoaM_RuoD"
      },
      "source": [
        "# clip()"
      ]
    },
    {
      "cell_type": "code",
      "metadata": {
        "colab": {
          "base_uri": "https://localhost:8080/"
        },
        "id": "EYL0UTiVRmGo",
        "outputId": "6a6becfb-ca9a-426e-ec6a-e5a67e7d7ae7"
      },
      "source": [
        "x = np.array([30, 20, 50, 70, 50, 100, 10, 130, -20, -10, 200]) \n",
        "\n",
        "np.clip(x,0,100)"
      ],
      "execution_count": 13,
      "outputs": [
        {
          "output_type": "execute_result",
          "data": {
            "text/plain": [
              "array([ 30,  20,  50,  70,  50, 100,  10, 100,   0,   0, 100])"
            ]
          },
          "metadata": {
            "tags": []
          },
          "execution_count": 13
        }
      ]
    },
    {
      "cell_type": "markdown",
      "metadata": {
        "id": "TQ-DoMjMRxGR"
      },
      "source": [
        "# extract()"
      ]
    },
    {
      "cell_type": "code",
      "metadata": {
        "colab": {
          "base_uri": "https://localhost:8080/"
        },
        "id": "WBC2HGVuRwTK",
        "outputId": "bfcdd766-0c2b-45c8-9f98-9f40831d6960"
      },
      "source": [
        "np.extract( (x>100) | (x<0), x )"
      ],
      "execution_count": 14,
      "outputs": [
        {
          "output_type": "execute_result",
          "data": {
            "text/plain": [
              "array([130, -20, -10, 200])"
            ]
          },
          "metadata": {
            "tags": []
          },
          "execution_count": 14
        }
      ]
    },
    {
      "cell_type": "markdown",
      "metadata": {
        "id": "kvU9oGiPRzcJ"
      },
      "source": [
        "# unique()"
      ]
    },
    {
      "cell_type": "code",
      "metadata": {
        "colab": {
          "base_uri": "https://localhost:8080/"
        },
        "id": "z3vgASbORyJw",
        "outputId": "5356a2e9-891e-467c-dc9d-b19f486edf27"
      },
      "source": [
        "# How to count the unique values of an array\n",
        "x = np.array([0,0,0,1,1,1,0,0,2,2])\n",
        "unique, counts = np.unique(x, return_counts=True)\n",
        "dict(zip(unique, counts))"
      ],
      "execution_count": 15,
      "outputs": [
        {
          "output_type": "execute_result",
          "data": {
            "text/plain": [
              "{0: 5, 1: 3, 2: 2}"
            ]
          },
          "metadata": {
            "tags": []
          },
          "execution_count": 15
        }
      ]
    },
    {
      "cell_type": "markdown",
      "metadata": {
        "id": "b06OpFJoR4Kr"
      },
      "source": [
        "# argmax() | argmin() | argsort() | argpartition()"
      ]
    },
    {
      "cell_type": "code",
      "metadata": {
        "colab": {
          "base_uri": "https://localhost:8080/"
        },
        "id": "AhctBSniR3DK",
        "outputId": "2b826b2f-c2b0-406a-d74c-95b2b6e97f8b"
      },
      "source": [
        "np.argmax(np.array(df.score_a))"
      ],
      "execution_count": 16,
      "outputs": [
        {
          "output_type": "execute_result",
          "data": {
            "text/plain": [
              "17"
            ]
          },
          "metadata": {
            "tags": []
          },
          "execution_count": 16
        }
      ]
    },
    {
      "cell_type": "code",
      "metadata": {
        "colab": {
          "base_uri": "https://localhost:8080/"
        },
        "id": "1o2xGDixR5UK",
        "outputId": "513badfc-a09d-4abb-ec8d-83ff05369969"
      },
      "source": [
        "df.iloc[np.argmax(np.array(df.score_a))]"
      ],
      "execution_count": 17,
      "outputs": [
        {
          "output_type": "execute_result",
          "data": {
            "text/plain": [
              "gender               m\n",
              "age                 30\n",
              "score_a             94\n",
              "score_b             62\n",
              "score_c              9\n",
              "score_a_pass      Pass\n",
              "demo            Mister\n",
              "Bins                 5\n",
              "Name: 17, dtype: object"
            ]
          },
          "metadata": {
            "tags": []
          },
          "execution_count": 17
        }
      ]
    },
    {
      "cell_type": "code",
      "metadata": {
        "colab": {
          "base_uri": "https://localhost:8080/",
          "height": 669
        },
        "id": "CAt3fW4sR6Pj",
        "outputId": "c0b94541-5aaf-4bdb-a354-2e4cf3cccf52"
      },
      "source": [
        "df.iloc[np.argsort(np.array(df.score_a))]"
      ],
      "execution_count": 18,
      "outputs": [
        {
          "output_type": "execute_result",
          "data": {
            "text/html": [
              "<div>\n",
              "<style scoped>\n",
              "    .dataframe tbody tr th:only-of-type {\n",
              "        vertical-align: middle;\n",
              "    }\n",
              "\n",
              "    .dataframe tbody tr th {\n",
              "        vertical-align: top;\n",
              "    }\n",
              "\n",
              "    .dataframe thead th {\n",
              "        text-align: right;\n",
              "    }\n",
              "</style>\n",
              "<table border=\"1\" class=\"dataframe\">\n",
              "  <thead>\n",
              "    <tr style=\"text-align: right;\">\n",
              "      <th></th>\n",
              "      <th>gender</th>\n",
              "      <th>age</th>\n",
              "      <th>score_a</th>\n",
              "      <th>score_b</th>\n",
              "      <th>score_c</th>\n",
              "      <th>score_a_pass</th>\n",
              "      <th>demo</th>\n",
              "      <th>Bins</th>\n",
              "    </tr>\n",
              "  </thead>\n",
              "  <tbody>\n",
              "    <tr>\n",
              "      <th>4</th>\n",
              "      <td>m</td>\n",
              "      <td>28</td>\n",
              "      <td>4</td>\n",
              "      <td>8</td>\n",
              "      <td>45</td>\n",
              "      <td>Fail</td>\n",
              "      <td>Mister</td>\n",
              "      <td>1</td>\n",
              "    </tr>\n",
              "    <tr>\n",
              "      <th>15</th>\n",
              "      <td>m</td>\n",
              "      <td>14</td>\n",
              "      <td>9</td>\n",
              "      <td>69</td>\n",
              "      <td>73</td>\n",
              "      <td>Fail</td>\n",
              "      <td>Boy</td>\n",
              "      <td>1</td>\n",
              "    </tr>\n",
              "    <tr>\n",
              "      <th>10</th>\n",
              "      <td>m</td>\n",
              "      <td>30</td>\n",
              "      <td>10</td>\n",
              "      <td>74</td>\n",
              "      <td>19</td>\n",
              "      <td>Fail</td>\n",
              "      <td>Mister</td>\n",
              "      <td>1</td>\n",
              "    </tr>\n",
              "    <tr>\n",
              "      <th>18</th>\n",
              "      <td>f</td>\n",
              "      <td>27</td>\n",
              "      <td>14</td>\n",
              "      <td>43</td>\n",
              "      <td>64</td>\n",
              "      <td>Fail</td>\n",
              "      <td>Lady</td>\n",
              "      <td>1</td>\n",
              "    </tr>\n",
              "    <tr>\n",
              "      <th>12</th>\n",
              "      <td>m</td>\n",
              "      <td>30</td>\n",
              "      <td>15</td>\n",
              "      <td>72</td>\n",
              "      <td>24</td>\n",
              "      <td>Fail</td>\n",
              "      <td>Mister</td>\n",
              "      <td>1</td>\n",
              "    </tr>\n",
              "    <tr>\n",
              "      <th>8</th>\n",
              "      <td>m</td>\n",
              "      <td>10</td>\n",
              "      <td>20</td>\n",
              "      <td>59</td>\n",
              "      <td>50</td>\n",
              "      <td>Fail</td>\n",
              "      <td>Boy</td>\n",
              "      <td>2</td>\n",
              "    </tr>\n",
              "    <tr>\n",
              "      <th>13</th>\n",
              "      <td>m</td>\n",
              "      <td>23</td>\n",
              "      <td>22</td>\n",
              "      <td>32</td>\n",
              "      <td>64</td>\n",
              "      <td>Fail</td>\n",
              "      <td>Mister</td>\n",
              "      <td>2</td>\n",
              "    </tr>\n",
              "    <tr>\n",
              "      <th>11</th>\n",
              "      <td>f</td>\n",
              "      <td>27</td>\n",
              "      <td>31</td>\n",
              "      <td>86</td>\n",
              "      <td>54</td>\n",
              "      <td>Fail</td>\n",
              "      <td>Lady</td>\n",
              "      <td>2</td>\n",
              "    </tr>\n",
              "    <tr>\n",
              "      <th>9</th>\n",
              "      <td>m</td>\n",
              "      <td>18</td>\n",
              "      <td>32</td>\n",
              "      <td>72</td>\n",
              "      <td>86</td>\n",
              "      <td>Fail</td>\n",
              "      <td>Boy</td>\n",
              "      <td>2</td>\n",
              "    </tr>\n",
              "    <tr>\n",
              "      <th>6</th>\n",
              "      <td>f</td>\n",
              "      <td>30</td>\n",
              "      <td>36</td>\n",
              "      <td>12</td>\n",
              "      <td>1</td>\n",
              "      <td>Fail</td>\n",
              "      <td>Lady</td>\n",
              "      <td>2</td>\n",
              "    </tr>\n",
              "    <tr>\n",
              "      <th>7</th>\n",
              "      <td>m</td>\n",
              "      <td>29</td>\n",
              "      <td>41</td>\n",
              "      <td>20</td>\n",
              "      <td>23</td>\n",
              "      <td>Fail</td>\n",
              "      <td>Mister</td>\n",
              "      <td>3</td>\n",
              "    </tr>\n",
              "    <tr>\n",
              "      <th>3</th>\n",
              "      <td>f</td>\n",
              "      <td>38</td>\n",
              "      <td>49</td>\n",
              "      <td>8</td>\n",
              "      <td>65</td>\n",
              "      <td>Fail</td>\n",
              "      <td>Lady</td>\n",
              "      <td>3</td>\n",
              "    </tr>\n",
              "    <tr>\n",
              "      <th>16</th>\n",
              "      <td>m</td>\n",
              "      <td>23</td>\n",
              "      <td>63</td>\n",
              "      <td>35</td>\n",
              "      <td>1</td>\n",
              "      <td>Pass</td>\n",
              "      <td>Mister</td>\n",
              "      <td>4</td>\n",
              "    </tr>\n",
              "    <tr>\n",
              "      <th>19</th>\n",
              "      <td>m</td>\n",
              "      <td>26</td>\n",
              "      <td>66</td>\n",
              "      <td>0</td>\n",
              "      <td>23</td>\n",
              "      <td>Pass</td>\n",
              "      <td>Mister</td>\n",
              "      <td>4</td>\n",
              "    </tr>\n",
              "    <tr>\n",
              "      <th>14</th>\n",
              "      <td>f</td>\n",
              "      <td>26</td>\n",
              "      <td>70</td>\n",
              "      <td>15</td>\n",
              "      <td>77</td>\n",
              "      <td>Pass</td>\n",
              "      <td>Lady</td>\n",
              "      <td>4</td>\n",
              "    </tr>\n",
              "    <tr>\n",
              "      <th>5</th>\n",
              "      <td>f</td>\n",
              "      <td>21</td>\n",
              "      <td>82</td>\n",
              "      <td>71</td>\n",
              "      <td>87</td>\n",
              "      <td>Pass</td>\n",
              "      <td>Lady</td>\n",
              "      <td>5</td>\n",
              "    </tr>\n",
              "    <tr>\n",
              "      <th>2</th>\n",
              "      <td>m</td>\n",
              "      <td>22</td>\n",
              "      <td>83</td>\n",
              "      <td>64</td>\n",
              "      <td>91</td>\n",
              "      <td>Pass</td>\n",
              "      <td>Mister</td>\n",
              "      <td>5</td>\n",
              "    </tr>\n",
              "    <tr>\n",
              "      <th>0</th>\n",
              "      <td>m</td>\n",
              "      <td>26</td>\n",
              "      <td>83</td>\n",
              "      <td>57</td>\n",
              "      <td>2</td>\n",
              "      <td>Pass</td>\n",
              "      <td>Mister</td>\n",
              "      <td>5</td>\n",
              "    </tr>\n",
              "    <tr>\n",
              "      <th>1</th>\n",
              "      <td>f</td>\n",
              "      <td>22</td>\n",
              "      <td>92</td>\n",
              "      <td>19</td>\n",
              "      <td>2</td>\n",
              "      <td>Pass</td>\n",
              "      <td>Lady</td>\n",
              "      <td>5</td>\n",
              "    </tr>\n",
              "    <tr>\n",
              "      <th>17</th>\n",
              "      <td>m</td>\n",
              "      <td>30</td>\n",
              "      <td>94</td>\n",
              "      <td>62</td>\n",
              "      <td>9</td>\n",
              "      <td>Pass</td>\n",
              "      <td>Mister</td>\n",
              "      <td>5</td>\n",
              "    </tr>\n",
              "  </tbody>\n",
              "</table>\n",
              "</div>"
            ],
            "text/plain": [
              "   gender  age  score_a  score_b  score_c score_a_pass    demo  Bins\n",
              "4       m   28        4        8       45         Fail  Mister     1\n",
              "15      m   14        9       69       73         Fail     Boy     1\n",
              "10      m   30       10       74       19         Fail  Mister     1\n",
              "18      f   27       14       43       64         Fail    Lady     1\n",
              "12      m   30       15       72       24         Fail  Mister     1\n",
              "8       m   10       20       59       50         Fail     Boy     2\n",
              "13      m   23       22       32       64         Fail  Mister     2\n",
              "11      f   27       31       86       54         Fail    Lady     2\n",
              "9       m   18       32       72       86         Fail     Boy     2\n",
              "6       f   30       36       12        1         Fail    Lady     2\n",
              "7       m   29       41       20       23         Fail  Mister     3\n",
              "3       f   38       49        8       65         Fail    Lady     3\n",
              "16      m   23       63       35        1         Pass  Mister     4\n",
              "19      m   26       66        0       23         Pass  Mister     4\n",
              "14      f   26       70       15       77         Pass    Lady     4\n",
              "5       f   21       82       71       87         Pass    Lady     5\n",
              "2       m   22       83       64       91         Pass  Mister     5\n",
              "0       m   26       83       57        2         Pass  Mister     5\n",
              "1       f   22       92       19        2         Pass    Lady     5\n",
              "17      m   30       94       62        9         Pass  Mister     5"
            ]
          },
          "metadata": {
            "tags": []
          },
          "execution_count": 18
        }
      ]
    },
    {
      "cell_type": "code",
      "metadata": {
        "colab": {
          "base_uri": "https://localhost:8080/"
        },
        "id": "5-Xj0NIMR8YS",
        "outputId": "e28f703b-4d9f-4c70-b7e5-08a1006b34a6"
      },
      "source": [
        "x =  np.array([30, 20, 50, 70, 50, 100, 10, 130, -20, -10, 200])\n",
        "indexes = np.argpartition(x, -5)[-5:]\n",
        "indexes"
      ],
      "execution_count": 19,
      "outputs": [
        {
          "output_type": "execute_result",
          "data": {
            "text/plain": [
              "array([ 2,  3,  5,  7, 10])"
            ]
          },
          "metadata": {
            "tags": []
          },
          "execution_count": 19
        }
      ]
    },
    {
      "cell_type": "code",
      "metadata": {
        "colab": {
          "base_uri": "https://localhost:8080/"
        },
        "id": "LrVLdru9R-f3",
        "outputId": "73cddd3b-2391-4673-c4cc-99039dd57249"
      },
      "source": [
        "x[indexes]"
      ],
      "execution_count": 20,
      "outputs": [
        {
          "output_type": "execute_result",
          "data": {
            "text/plain": [
              "array([ 50,  70, 100, 130, 200])"
            ]
          },
          "metadata": {
            "tags": []
          },
          "execution_count": 20
        }
      ]
    },
    {
      "cell_type": "code",
      "metadata": {
        "colab": {
          "base_uri": "https://localhost:8080/",
          "height": 669
        },
        "id": "-FSlSloqR_gU",
        "outputId": "67783a91-611c-4394-9ba0-66a956af89c5"
      },
      "source": [
        "Tops =pd.DataFrame(df[['score_a','score_b','score_c']].\\\n",
        "                   apply(lambda x:list(df[['score_a','score_b','score_c']].\\\n",
        "                                       columns[np.array(x).argsort()[::-1][:3]]), axis=1).\\\n",
        "                   to_list(),  columns=['Top1', 'Top2', 'Top3'])\n",
        "Tops"
      ],
      "execution_count": 21,
      "outputs": [
        {
          "output_type": "execute_result",
          "data": {
            "text/html": [
              "<div>\n",
              "<style scoped>\n",
              "    .dataframe tbody tr th:only-of-type {\n",
              "        vertical-align: middle;\n",
              "    }\n",
              "\n",
              "    .dataframe tbody tr th {\n",
              "        vertical-align: top;\n",
              "    }\n",
              "\n",
              "    .dataframe thead th {\n",
              "        text-align: right;\n",
              "    }\n",
              "</style>\n",
              "<table border=\"1\" class=\"dataframe\">\n",
              "  <thead>\n",
              "    <tr style=\"text-align: right;\">\n",
              "      <th></th>\n",
              "      <th>Top1</th>\n",
              "      <th>Top2</th>\n",
              "      <th>Top3</th>\n",
              "    </tr>\n",
              "  </thead>\n",
              "  <tbody>\n",
              "    <tr>\n",
              "      <th>0</th>\n",
              "      <td>score_a</td>\n",
              "      <td>score_b</td>\n",
              "      <td>score_c</td>\n",
              "    </tr>\n",
              "    <tr>\n",
              "      <th>1</th>\n",
              "      <td>score_a</td>\n",
              "      <td>score_b</td>\n",
              "      <td>score_c</td>\n",
              "    </tr>\n",
              "    <tr>\n",
              "      <th>2</th>\n",
              "      <td>score_c</td>\n",
              "      <td>score_a</td>\n",
              "      <td>score_b</td>\n",
              "    </tr>\n",
              "    <tr>\n",
              "      <th>3</th>\n",
              "      <td>score_c</td>\n",
              "      <td>score_a</td>\n",
              "      <td>score_b</td>\n",
              "    </tr>\n",
              "    <tr>\n",
              "      <th>4</th>\n",
              "      <td>score_c</td>\n",
              "      <td>score_b</td>\n",
              "      <td>score_a</td>\n",
              "    </tr>\n",
              "    <tr>\n",
              "      <th>5</th>\n",
              "      <td>score_c</td>\n",
              "      <td>score_a</td>\n",
              "      <td>score_b</td>\n",
              "    </tr>\n",
              "    <tr>\n",
              "      <th>6</th>\n",
              "      <td>score_a</td>\n",
              "      <td>score_b</td>\n",
              "      <td>score_c</td>\n",
              "    </tr>\n",
              "    <tr>\n",
              "      <th>7</th>\n",
              "      <td>score_a</td>\n",
              "      <td>score_c</td>\n",
              "      <td>score_b</td>\n",
              "    </tr>\n",
              "    <tr>\n",
              "      <th>8</th>\n",
              "      <td>score_b</td>\n",
              "      <td>score_c</td>\n",
              "      <td>score_a</td>\n",
              "    </tr>\n",
              "    <tr>\n",
              "      <th>9</th>\n",
              "      <td>score_c</td>\n",
              "      <td>score_b</td>\n",
              "      <td>score_a</td>\n",
              "    </tr>\n",
              "    <tr>\n",
              "      <th>10</th>\n",
              "      <td>score_b</td>\n",
              "      <td>score_c</td>\n",
              "      <td>score_a</td>\n",
              "    </tr>\n",
              "    <tr>\n",
              "      <th>11</th>\n",
              "      <td>score_b</td>\n",
              "      <td>score_c</td>\n",
              "      <td>score_a</td>\n",
              "    </tr>\n",
              "    <tr>\n",
              "      <th>12</th>\n",
              "      <td>score_b</td>\n",
              "      <td>score_c</td>\n",
              "      <td>score_a</td>\n",
              "    </tr>\n",
              "    <tr>\n",
              "      <th>13</th>\n",
              "      <td>score_c</td>\n",
              "      <td>score_b</td>\n",
              "      <td>score_a</td>\n",
              "    </tr>\n",
              "    <tr>\n",
              "      <th>14</th>\n",
              "      <td>score_c</td>\n",
              "      <td>score_a</td>\n",
              "      <td>score_b</td>\n",
              "    </tr>\n",
              "    <tr>\n",
              "      <th>15</th>\n",
              "      <td>score_c</td>\n",
              "      <td>score_b</td>\n",
              "      <td>score_a</td>\n",
              "    </tr>\n",
              "    <tr>\n",
              "      <th>16</th>\n",
              "      <td>score_a</td>\n",
              "      <td>score_b</td>\n",
              "      <td>score_c</td>\n",
              "    </tr>\n",
              "    <tr>\n",
              "      <th>17</th>\n",
              "      <td>score_a</td>\n",
              "      <td>score_b</td>\n",
              "      <td>score_c</td>\n",
              "    </tr>\n",
              "    <tr>\n",
              "      <th>18</th>\n",
              "      <td>score_c</td>\n",
              "      <td>score_b</td>\n",
              "      <td>score_a</td>\n",
              "    </tr>\n",
              "    <tr>\n",
              "      <th>19</th>\n",
              "      <td>score_a</td>\n",
              "      <td>score_c</td>\n",
              "      <td>score_b</td>\n",
              "    </tr>\n",
              "  </tbody>\n",
              "</table>\n",
              "</div>"
            ],
            "text/plain": [
              "       Top1     Top2     Top3\n",
              "0   score_a  score_b  score_c\n",
              "1   score_a  score_b  score_c\n",
              "2   score_c  score_a  score_b\n",
              "3   score_c  score_a  score_b\n",
              "4   score_c  score_b  score_a\n",
              "5   score_c  score_a  score_b\n",
              "6   score_a  score_b  score_c\n",
              "7   score_a  score_c  score_b\n",
              "8   score_b  score_c  score_a\n",
              "9   score_c  score_b  score_a\n",
              "10  score_b  score_c  score_a\n",
              "11  score_b  score_c  score_a\n",
              "12  score_b  score_c  score_a\n",
              "13  score_c  score_b  score_a\n",
              "14  score_c  score_a  score_b\n",
              "15  score_c  score_b  score_a\n",
              "16  score_a  score_b  score_c\n",
              "17  score_a  score_b  score_c\n",
              "18  score_c  score_b  score_a\n",
              "19  score_a  score_c  score_b"
            ]
          },
          "metadata": {
            "tags": []
          },
          "execution_count": 21
        }
      ]
    }
  ]
}