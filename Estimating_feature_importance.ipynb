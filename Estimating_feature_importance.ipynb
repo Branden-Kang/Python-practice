{
  "nbformat": 4,
  "nbformat_minor": 0,
  "metadata": {
    "colab": {
      "name": "Estimating feature importance.ipynb",
      "provenance": [],
      "authorship_tag": "ABX9TyN2lf/3AnoaVRroYpo9A9Be"
    },
    "kernelspec": {
      "name": "python3",
      "display_name": "Python 3"
    }
  },
  "cells": [
    {
      "cell_type": "markdown",
      "metadata": {
        "id": "Naiz9ZeyRnLe"
      },
      "source": [
        "[Reference](https://romainlhardy.medium.com/estimating-feature-importance-the-easy-way-2ebe970c600c)"
      ]
    },
    {
      "cell_type": "code",
      "metadata": {
        "id": "lxOFMQ3aRlj1"
      },
      "source": [
        "# Imports\n",
        "import numpy as np\n",
        "import sklearn\n",
        "from sklearn.datasets import load_iris\n",
        "from sklearn.preprocessing import StandardScaler\n",
        "from sklearn.model_selection import train_test_split\n",
        "from sklearn.neural_network import MLPClassifier\n",
        "from sklearn.metrics import accuracy_score\n",
        "\n",
        "# Load the data\n",
        "iris = load_iris()\n",
        "X = iris.data\n",
        "y = iris.target\n",
        "\n",
        "# Create a train/test split\n",
        "X_train, X_test, y_train, y_test = train_test_split(X, y, test_size=0.2)\n",
        "\n",
        "# Preprocess the data\n",
        "scaler = StandardScaler()\n",
        "X_train = scaler.fit_transform(X_train)\n",
        "X_test = scaler.transform(X_test)"
      ],
      "execution_count": 2,
      "outputs": []
    },
    {
      "cell_type": "code",
      "metadata": {
        "colab": {
          "base_uri": "https://localhost:8080/"
        },
        "id": "uJLGECL_RsBh",
        "outputId": "4d9cf03f-17d0-4014-edeb-f4cf7152cc70"
      },
      "source": [
        "# Create a classifier\n",
        "clf = MLPClassifier(hidden_layer_sizes=(8, 4),learning_rate_init=0.01)\n",
        "\n",
        "# Fit the classifier using the training set\n",
        "clf.fit(X_train, y_train)\n",
        "\n",
        "y_pred = clf.predict(X_test)\n",
        "\n",
        "# Evaluate the classifier using the test set\n",
        "acc = accuracy_score(y_test, y_pred)\n",
        "print(acc)"
      ],
      "execution_count": 6,
      "outputs": [
        {
          "output_type": "stream",
          "text": [
            "0.9333333333333333\n"
          ],
          "name": "stdout"
        },
        {
          "output_type": "stream",
          "text": [
            "/usr/local/lib/python3.6/dist-packages/sklearn/neural_network/_multilayer_perceptron.py:571: ConvergenceWarning: Stochastic Optimizer: Maximum iterations (200) reached and the optimization hasn't converged yet.\n",
            "  % self.max_iter, ConvergenceWarning)\n"
          ],
          "name": "stderr"
        }
      ]
    },
    {
      "cell_type": "code",
      "metadata": {
        "id": "CxchJ57TSZZy"
      },
      "source": [
        "def get_feature_importance(j, n):\n",
        "  s = accuracy_score(y_test, y_pred) # baseline score\n",
        "  total = 0.0\n",
        "  for i in range(n):\n",
        "    perm = np.random.permutation(range(X_test.shape[0]))\n",
        "    X_test_ = X_test.copy()\n",
        "    X_test_[:, j] = X_test[perm, j]\n",
        "    y_pred_ = clf.predict(X_test_)\n",
        "    s_ij = accuracy_score(y_test, y_pred_)\n",
        "    total += s_ij\n",
        "  return s - total / n"
      ],
      "execution_count": 7,
      "outputs": []
    },
    {
      "cell_type": "code",
      "metadata": {
        "colab": {
          "base_uri": "https://localhost:8080/",
          "height": 350
        },
        "id": "5bvjiqTMS6AU",
        "outputId": "3ec2b97d-617f-4997-cc6a-33f1e5bd0de6"
      },
      "source": [
        "import matplotlib.pyplot as plt\n",
        "# Feature importances\n",
        "f = []\n",
        "for j in range(X_test.shape[1]):\n",
        "  f_j = get_feature_importance(j, 100)\n",
        "  f.append(f_j)# Plot\n",
        "plt.figure(figsize=(10, 5))\n",
        "plt.bar(range(X_test.shape[1]), f, color=\"r\", alpha=0.7)\n",
        "plt.xticks(ticks=range(X_test.shape[1]))\n",
        "plt.xlabel(\"Feature\")\n",
        "plt.ylabel(\"Importance\")\n",
        "plt.title(\"Feature importances (Iris data set)\")\n",
        "plt.show()"
      ],
      "execution_count": 9,
      "outputs": [
        {
          "output_type": "display_data",
          "data": {
            "image/png": "[encoded data removed]",
            "text/plain": [
              "<Figure size 720x360 with 1 Axes>"
            ]
          },
          "metadata": {
            "tags": [],
            "needs_background": "light"
          }
        }
      ]
    }
  ]
}