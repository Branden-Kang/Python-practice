{
  "nbformat": 4,
  "nbformat_minor": 0,
  "metadata": {
    "colab": {
      "provenance": [],
      "authorship_tag": "ABX9TyOlCwIY7SLUPQWMl7DQDR1X"
    },
    "kernelspec": {
      "name": "python3",
      "display_name": "Python 3"
    },
    "language_info": {
      "name": "python"
    }
  },
  "cells": [
    {
      "cell_type": "markdown",
      "source": [
        "[Reference](https://medium.com/@WojtekFulmyk/standardizing-data-for-machine-learning-2cf687e621f9)"
      ],
      "metadata": {
        "id": "WKCl4OLED4VF"
      }
    },
    {
      "cell_type": "code",
      "execution_count": 1,
      "metadata": {
        "colab": {
          "base_uri": "https://localhost:8080/"
        },
        "id": "FQkZDJ9MDsF2",
        "outputId": "840fb2ca-850e-4345-a381-5e3a882f5ebf"
      },
      "outputs": [
        {
          "output_type": "stream",
          "name": "stdout",
          "text": [
            "[[-0.08661013 -0.56062517  1.59276076]\n",
            " [-1.35872574 -0.45468999 -1.18028139]\n",
            " [ 1.18947673 -0.93125799  0.0772955 ]\n",
            " [ 1.0861257  -0.84521636 -1.2097578 ]\n",
            " [-1.19203992  1.38406333  0.77313354]\n",
            " [ 0.36177336  1.40772618 -0.05315062]]\n"
          ]
        }
      ],
      "source": [
        "import numpy as np\n",
        "import pandas as pd\n",
        "from sklearn.preprocessing import StandardScaler\n",
        "\n",
        "# example df of 6 rows and 3 columns\n",
        "df = pd.DataFrame(np.random.randn(6, 3))\n",
        "\n",
        "scaler = StandardScaler()\n",
        "scaler.fit(df)\n",
        "\n",
        "# transforms the df\n",
        "standardized = scaler.transform(df)\n",
        "\n",
        "print(standardized)"
      ]
    }
  ]
}