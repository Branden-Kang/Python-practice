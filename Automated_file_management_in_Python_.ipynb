{
  "nbformat": 4,
  "nbformat_minor": 0,
  "metadata": {
    "colab": {
      "name": "Automated file management in Python..ipynb",
      "provenance": [],
      "authorship_tag": "ABX9TyMTOVVJpSMt9lUrX6uxEvc+"
    },
    "kernelspec": {
      "name": "python3",
      "display_name": "Python 3"
    },
    "language_info": {
      "name": "python"
    }
  },
  "cells": [
    {
      "cell_type": "markdown",
      "metadata": {
        "id": "zolETcxhNM4c"
      },
      "source": [
        "[Reference](https://brendanfrrs.medium.com/automated-file-management-in-python-a5703554a2e7)"
      ]
    },
    {
      "cell_type": "code",
      "metadata": {
        "id": "VQKSRL9KL72x"
      },
      "source": [
        "def encode_doi(text):\n",
        "    \"\"\"Input text/number and this method encodes it into base64 for file naming.\n",
        "    (To avoid conflict with special characters in file names)\n",
        "    For example:\n",
        "    original number/string --> 10.1145/2396556.2396603\n",
        "    base64 encoded string --> b'MTAuMTE0NS8yMzk2NTU2LjIzOTY2MDM='\n",
        "    ascii --> MTAuMTE0NS8yMzk2NTU2LjIzOTY2MDM=\n",
        "    *special characters are removed from the base64 encodings. So in the above example, the equals\n",
        "    sign is removed for file naming.\n",
        "    \"\"\"\n",
        "    string = bytes(text, 'utf-8')\n",
        "    text_encoded = base64.b64encode(string)\n",
        "\n",
        "    # return encoded doi in ASCII format for file naming\n",
        "    return re.sub('[^A-Za-z0-9]+', '', text_encoded.decode('ascii'))\n",
        "\n",
        "\n",
        "def decode_doi(base64_text):\n",
        "    \"\"\"\n",
        "    Input the base64 encoded string, return the original string.\n",
        "    Example:\n",
        "    input --> MTAuMTE0NS8yMzk2NTU2LjIzOTY2MDM\n",
        "    returns --> 10.1145/2396556.2396603\n",
        "    Note: Padding needs to be added back to the string to decode\n",
        "    https://stackoverflow.com/questions/2941995/python-ignore-incorrect-padding-error-when-base64-decoding\n",
        "    \"\"\"\n",
        "    altchars = b'+/'\n",
        "    added_padding = base64_text + '='\n",
        "    decoded = base64.b64decode(added_padding, altchars)\n",
        "    result = decoded.decode(\"utf-8\")\n",
        "    return result"
      ],
      "execution_count": 1,
      "outputs": []
    },
    {
      "cell_type": "code",
      "metadata": {
        "id": "Y7KMG6jdNZ6F"
      },
      "source": [
        "import os"
      ],
      "execution_count": 3,
      "outputs": []
    },
    {
      "cell_type": "code",
      "metadata": {
        "colab": {
          "base_uri": "https://localhost:8080/"
        },
        "id": "jqDkyXeONWuI",
        "outputId": "438330f0-3f12-4700-cefb-f2644bbbfd8e"
      },
      "source": [
        "os.listdir()"
      ],
      "execution_count": 4,
      "outputs": [
        {
          "output_type": "execute_result",
          "data": {
            "text/plain": [
              "['.config', 'sample_data']"
            ]
          },
          "metadata": {
            "tags": []
          },
          "execution_count": 4
        }
      ]
    }
  ]
}