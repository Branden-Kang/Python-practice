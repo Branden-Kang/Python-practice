{
  "nbformat": 4,
  "nbformat_minor": 0,
  "metadata": {
    "colab": {
      "provenance": [],
      "authorship_tag": "ABX9TyOomOYIm+UVe0Vzfn7OfY7a"
    },
    "kernelspec": {
      "name": "python3",
      "display_name": "Python 3"
    },
    "language_info": {
      "name": "python"
    }
  },
  "cells": [
    {
      "cell_type": "markdown",
      "source": [
        "[Reference](https://towardsdatascience.com/pytorch-tabular-a-review-b99abc663dbe)"
      ],
      "metadata": {
        "id": "-Nt8L4NJNvb6"
      }
    },
    {
      "cell_type": "code",
      "execution_count": 2,
      "metadata": {
        "id": "8CLJ86TsNtX7"
      },
      "outputs": [],
      "source": [
        "from pytorch_tabular import TabularModel\n",
        "from pytorch_tabular.models import CategoryEmbeddingModelConfig\n",
        "from pytorch_tabular.config import (\n",
        "    DataConfig,\n",
        "    OptimizerConfig,\n",
        "    TrainerConfig,\n",
        ")\n",
        "\n",
        "data_config = DataConfig(\n",
        "    target=[\n",
        "        \"target\"\n",
        "    ],  # target should always be a list. Multi-targets are only supported for regression. Multi-Task Classification is not implemented\n",
        "    continuous_cols=num_col_names,\n",
        "    categorical_cols=cat_col_names,\n",
        ")\n",
        "trainer_config = TrainerConfig(\n",
        "    auto_lr_find=True,  # Runs the LRFinder to automatically derive a learning rate\n",
        "    batch_size=1024,\n",
        "    max_epochs=100,\n",
        ")\n",
        "optimizer_config = OptimizerConfig()\n",
        "\n",
        "model_config = CategoryEmbeddingModelConfig(\n",
        "    task=\"classification\",\n",
        "    layers=\"1024-512-512\",  # Number of nodes in each layer\n",
        "    activation=\"LeakyReLU\",  # Activation between each layers\n",
        "    learning_rate=1e-3,\n",
        ")\n",
        "\n",
        "tabular_model = TabularModel(\n",
        "    data_config=data_config,\n",
        "    model_config=model_config,\n",
        "    optimizer_config=optimizer_config,\n",
        "    trainer_config=trainer_config,\n",
        ")\n",
        "tabular_model.fit(train=train, validation=val)\n",
        "result = tabular_model.evaluate(test)\n",
        "pred_df = tabular_model.predict(test)\n",
        "tabular_model.save_model(\"examples/basic\")\n",
        "loaded_model = TabularModel.load_model(\"examples/basic\")"
      ]
    }
  ]
}