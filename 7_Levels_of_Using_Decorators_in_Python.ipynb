{
  "nbformat": 4,
  "nbformat_minor": 0,
  "metadata": {
    "colab": {
      "name": "7 Levels of Using Decorators in Python.ipynb",
      "provenance": [],
      "authorship_tag": "ABX9TyOMQSxWbLDSk90f1Cr4Gns4"
    },
    "kernelspec": {
      "name": "python3",
      "display_name": "Python 3"
    },
    "language_info": {
      "name": "python"
    }
  },
  "cells": [
    {
      "cell_type": "markdown",
      "metadata": {
        "id": "0TGo6DubxsD9"
      },
      "source": [
        "[Reference](https://medium.com/techtofreedom/7-levels-of-using-decorators-in-python-370473fcbe76)"
      ]
    },
    {
      "cell_type": "code",
      "metadata": {
        "colab": {
          "base_uri": "https://localhost:8080/"
        },
        "id": "OQYSJo6pxkKU",
        "outputId": "8214459a-3cda-4f53-c1da-87e16fafaa35"
      },
      "source": [
        "def add_author(func):\n",
        "    print('Yang Zhou')\n",
        "    return func\n",
        "    \n",
        "@add_author\n",
        "def get_title():\n",
        "    return '7 Levels of Using Decorators in Python'\n",
        "\n",
        "print(get_title())"
      ],
      "execution_count": 1,
      "outputs": [
        {
          "output_type": "stream",
          "text": [
            "Yang Zhou\n",
            "7 Levels of Using Decorators in Python\n"
          ],
          "name": "stdout"
        }
      ]
    },
    {
      "cell_type": "code",
      "metadata": {
        "colab": {
          "base_uri": "https://localhost:8080/"
        },
        "id": "iEolKcxyxvO_",
        "outputId": "c14f4409-5b5a-45f1-9e67-ce1ef90d42cd"
      },
      "source": [
        "def add_author(func):\n",
        "    print('Yang Zhou')\n",
        "    return func\n",
        "\n",
        "def get_title():\n",
        "    return '7 Levels of Using Decorators in Python'\n",
        "\n",
        "get_title = add_author(get_title)\n",
        "print(get_title())"
      ],
      "execution_count": 2,
      "outputs": [
        {
          "output_type": "stream",
          "text": [
            "Yang Zhou\n",
            "7 Levels of Using Decorators in Python\n"
          ],
          "name": "stdout"
        }
      ]
    },
    {
      "cell_type": "code",
      "metadata": {
        "colab": {
          "base_uri": "https://localhost:8080/"
        },
        "id": "ROERNtuyxxkr",
        "outputId": "6d8427c0-451e-4573-9a45-da6ea0256be7"
      },
      "source": [
        "def add_things(func):\n",
        "    def wrapper():\n",
        "        title = func()\n",
        "        new_title = title + ' !!!'\n",
        "        return new_title\n",
        "    return wrapper\n",
        "\n",
        "@add_things\n",
        "def get_title():\n",
        "    return '7 Levels of Using Decorators in Python'\n",
        "\n",
        "print(get_title())"
      ],
      "execution_count": 3,
      "outputs": [
        {
          "output_type": "stream",
          "text": [
            "7 Levels of Using Decorators in Python !!!\n"
          ],
          "name": "stdout"
        }
      ]
    },
    {
      "cell_type": "code",
      "metadata": {
        "colab": {
          "base_uri": "https://localhost:8080/"
        },
        "id": "UOaongwMxz_a",
        "outputId": "73c39702-3911-43a7-f989-bd7a7ae1fb80"
      },
      "source": [
        "def add_author(func):\n",
        "    def wrapper():\n",
        "        author = 'Yang Zhou'\n",
        "        return author + '\\n' + func()\n",
        "    return wrapper\n",
        "\n",
        "def add_publication(func):\n",
        "    def wrapper():\n",
        "        pub = 'TechToFreedom'\n",
        "        return pub + '\\n' + func()\n",
        "    return wrapper\n",
        "\n",
        "@add_publication\n",
        "@add_author\n",
        "def get_title():\n",
        "    return '7 Levels of Using Decorators in Python'\n",
        "\n",
        "print(get_title())"
      ],
      "execution_count": 4,
      "outputs": [
        {
          "output_type": "stream",
          "text": [
            "TechToFreedom\n",
            "Yang Zhou\n",
            "7 Levels of Using Decorators in Python\n"
          ],
          "name": "stdout"
        }
      ]
    },
    {
      "cell_type": "code",
      "metadata": {
        "colab": {
          "base_uri": "https://localhost:8080/"
        },
        "id": "QBh2S2Kkx1w6",
        "outputId": "cdb87aac-0e43-439d-e493-7cf293d1b248"
      },
      "source": [
        "@add_author\n",
        "@add_publication\n",
        "def get_title():\n",
        "    return '7 Levels of Using Decorators in Python'\n",
        "\n",
        "print(get_title())"
      ],
      "execution_count": 5,
      "outputs": [
        {
          "output_type": "stream",
          "text": [
            "Yang Zhou\n",
            "TechToFreedom\n",
            "7 Levels of Using Decorators in Python\n"
          ],
          "name": "stdout"
        }
      ]
    },
    {
      "cell_type": "code",
      "metadata": {
        "colab": {
          "base_uri": "https://localhost:8080/"
        },
        "id": "uC-8oRHdx3Ma",
        "outputId": "aa34e35a-8bf8-410c-969f-f6ee6e3b44e4"
      },
      "source": [
        "def get_title():\n",
        "    return '7 Levels of Using Decorators in Python'\n",
        "\n",
        "get_title = add_author(add_publication(get_title))\n",
        "\n",
        "print(get_title())"
      ],
      "execution_count": 6,
      "outputs": [
        {
          "output_type": "stream",
          "text": [
            "Yang Zhou\n",
            "TechToFreedom\n",
            "7 Levels of Using Decorators in Python\n"
          ],
          "name": "stdout"
        }
      ]
    },
    {
      "cell_type": "code",
      "metadata": {
        "colab": {
          "base_uri": "https://localhost:8080/"
        },
        "id": "C5h54hlKx4Ox",
        "outputId": "242e424a-6e02-42cc-e2bc-b71694396a08"
      },
      "source": [
        "def add_author(func):\n",
        "    def wrapper(title):\n",
        "        author = 'Yang Zhou'\n",
        "        return author + '\\n' + func(title)\n",
        "    return wrapper\n",
        "\n",
        "@add_author\n",
        "def get_title(title):\n",
        "    return title\n",
        "\n",
        "print(get_title('Harry Potter'))"
      ],
      "execution_count": 7,
      "outputs": [
        {
          "output_type": "stream",
          "text": [
            "Yang Zhou\n",
            "Harry Potter\n"
          ],
          "name": "stdout"
        }
      ]
    },
    {
      "cell_type": "code",
      "metadata": {
        "colab": {
          "base_uri": "https://localhost:8080/"
        },
        "id": "3fhotsbZx56K",
        "outputId": "90acd53d-bac8-451d-e792-56372f8cd252"
      },
      "source": [
        "def add_author(func):\n",
        "    def wrapper(*args, **kwargs):\n",
        "        author = 'Yang Zhou'\n",
        "        return author + '\\n' + func(*args, **kwargs)\n",
        "    return wrapper\n",
        "\n",
        "@add_author\n",
        "def get_title(title):\n",
        "    return title\n",
        "\n",
        "print(get_title('Harry Potter'))\n",
        "# Yang Zhou\n",
        "# Harry Potter\n",
        "\n",
        "@add_author\n",
        "def get_many_title(t1, t2):\n",
        "    return t1+'\\n'+t2\n",
        "\n",
        "print(get_many_title('Harry Potter 1','Harry Potter 2'))"
      ],
      "execution_count": 8,
      "outputs": [
        {
          "output_type": "stream",
          "text": [
            "Yang Zhou\n",
            "Harry Potter\n",
            "Yang Zhou\n",
            "Harry Potter 1\n",
            "Harry Potter 2\n"
          ],
          "name": "stdout"
        }
      ]
    },
    {
      "cell_type": "code",
      "metadata": {
        "colab": {
          "base_uri": "https://localhost:8080/"
        },
        "id": "sf5x9-Enx7pR",
        "outputId": "4e65aafd-705c-461b-a3f3-54b6fb1fd1f4"
      },
      "source": [
        "def add_author_with_name(author):\n",
        "    def add_author(func):\n",
        "        def wrapper(*args, **kwargs):\n",
        "            return author + '\\n' + func(*args, **kwargs)\n",
        "        return wrapper\n",
        "    return add_author\n",
        "\n",
        "@add_author_with_name('J. K. Rowling')\n",
        "def get_title(title):\n",
        "    return title\n",
        "\n",
        "print(get_title('Harry Potter'))"
      ],
      "execution_count": 9,
      "outputs": [
        {
          "output_type": "stream",
          "text": [
            "J. K. Rowling\n",
            "Harry Potter\n"
          ],
          "name": "stdout"
        }
      ]
    },
    {
      "cell_type": "code",
      "metadata": {
        "colab": {
          "base_uri": "https://localhost:8080/"
        },
        "id": "9x5ukeffx9Ed",
        "outputId": "e4533b7e-2ca7-469a-e7e5-0615542f43d0"
      },
      "source": [
        "def add_author_with_name(author):\n",
        "    def add_author(func):\n",
        "        def wrapper(*args, **kwargs):\n",
        "            return author + '\\n' + func(*args, **kwargs)\n",
        "        return wrapper\n",
        "    return add_author\n",
        "\n",
        "def get_title(title):\n",
        "    return title\n",
        "\n",
        "get_title = add_author_with_name('J. K. Rowling')(get_title)\n",
        "\n",
        "print(get_title('Harry Potter'))"
      ],
      "execution_count": 10,
      "outputs": [
        {
          "output_type": "stream",
          "text": [
            "J. K. Rowling\n",
            "Harry Potter\n"
          ],
          "name": "stdout"
        }
      ]
    },
    {
      "cell_type": "code",
      "metadata": {
        "colab": {
          "base_uri": "https://localhost:8080/"
        },
        "id": "XN21jH37x-gE",
        "outputId": "448e96fb-afb9-4a84-a709-0d77e6b7f80b"
      },
      "source": [
        "def add_author(func):\n",
        "    def wrapper(*args, **kwargs):\n",
        "        author = 'Yang Zhou'\n",
        "        return author + '\\n' + func(*args, **kwargs)\n",
        "    return wrapper\n",
        "\n",
        "@add_author\n",
        "def get_title(title):\n",
        "    \"\"\"\n",
        "    A func that receives and returns a title.\n",
        "    \"\"\"\n",
        "    return title\n",
        "\n",
        "print(get_title.__name__)\n",
        "# wrapper\n",
        "print(get_title.__doc__)"
      ],
      "execution_count": 11,
      "outputs": [
        {
          "output_type": "stream",
          "text": [
            "wrapper\n",
            "None\n"
          ],
          "name": "stdout"
        }
      ]
    },
    {
      "cell_type": "code",
      "metadata": {
        "colab": {
          "base_uri": "https://localhost:8080/"
        },
        "id": "3iZ86TNlx_4c",
        "outputId": "3bf3aea0-c047-40b4-d469-237d1485ebe7"
      },
      "source": [
        "from functools import wraps\n",
        "\n",
        "def add_author(func):\n",
        "    @wraps(func)\n",
        "    def wrapper(*args, **kwargs):\n",
        "        author = 'Yang Zhou'\n",
        "        return author + '\\n' + func(*args, **kwargs)\n",
        "    return wrapper\n",
        "\n",
        "@add_author\n",
        "def get_title(title):\n",
        "    \"\"\"\n",
        "    A function that receives and returns a title string.\n",
        "    \"\"\"\n",
        "    return title\n",
        "\n",
        "print(get_title.__name__)\n",
        "# get_title\n",
        "print(get_title.__doc__)"
      ],
      "execution_count": 12,
      "outputs": [
        {
          "output_type": "stream",
          "text": [
            "get_title\n",
            "\n",
            "    A function that receives and returns a title string.\n",
            "    \n"
          ],
          "name": "stdout"
        }
      ]
    }
  ]
}