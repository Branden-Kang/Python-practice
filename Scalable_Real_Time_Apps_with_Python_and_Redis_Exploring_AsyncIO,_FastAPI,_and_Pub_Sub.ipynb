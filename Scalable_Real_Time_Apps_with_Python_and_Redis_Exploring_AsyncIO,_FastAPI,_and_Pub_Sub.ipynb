{
  "nbformat": 4,
  "nbformat_minor": 0,
  "metadata": {
    "colab": {
      "provenance": [],
      "authorship_tag": "ABX9TyNQ33mTAKEgw0lm74Ayvbei"
    },
    "kernelspec": {
      "name": "python3",
      "display_name": "Python 3"
    },
    "language_info": {
      "name": "python"
    }
  },
  "cells": [
    {
      "cell_type": "markdown",
      "source": [
        "[Reference](https://itnext.io/scalable-real-time-apps-with-python-and-redis-exploring-asyncio-fastapi-and-pub-sub-79b56a9d2b94)"
      ],
      "metadata": {
        "id": "SAuG1iZtxOnr"
      }
    },
    {
      "cell_type": "code",
      "execution_count": 2,
      "metadata": {
        "id": "rsJhe11xwtbW"
      },
      "outputs": [],
      "source": [
        "import asyncio\n",
        "from dataclasses import dataclass\n",
        "from typing import Dict\n",
        "\n",
        "from fastapi import FastAPI\n",
        "\n",
        "app = FastAPI()\n",
        "\n",
        "\n",
        "@dataclass\n",
        "class UserInfo:\n",
        "    id: int\n",
        "    name: str\n",
        "    score: int\n",
        "\n",
        "\n",
        "users: Dict[int, UserInfo] = {\n",
        "    1: UserInfo(1, \"Amir\", 12),\n",
        "    2: UserInfo(2, \"Alex\", 15),\n",
        "    3: UserInfo(3, \"Sara\", 9),\n",
        "}\n",
        "\n",
        "\n",
        "@app.get(\"/user/{user_id}\")\n",
        "async def get_user(user_id: int):\n",
        "    await asyncio.sleep(0.2) # for exaggeration\n",
        "    if user_id in users:\n",
        "        return {\"ok\": True, \"user\": users[user_id]}\n",
        "    return {\"ok\": False, \"error\": \"user not founded\"}\n",
        "\n",
        "def get_user_info(user_id: int) -> dict | None:\n",
        "    response = requests.get(f\"http://127.0.0.1:8000/user/{user_id}\").json()\n",
        "    if 'ok' not in response or not response['ok']:\n",
        "        return None\n",
        "    return response['user']\n",
        "\n",
        "def combine_scores(ids: List[int]) -> None:\n",
        "    users = [get_user_info(user_id) for user_id in ids]\n",
        "    scores = [user['score'] for user in users if user is not None]\n",
        "    print(sum(scores))\n",
        "\n",
        "def run_and_analyze(method: Callable) -> None:\n",
        "    start = time.time_ns()\n",
        "    method()\n",
        "    duration = time.time_ns() - start\n",
        "    duration_ms = duration / 1_000_000\n",
        "    print(\"took {}ms\".format(duration_ms))\n",
        "\n",
        "ids = [1, 2, 3]\n",
        "\n",
        "\n",
        "def test_sync():\n",
        "    combine_scores(ids)\n",
        "\n",
        "\n",
        "if __name__ == \"__main__\":\n",
        "    print(\"Sync:\")\n",
        "    run_and_analyze(test_sync)"
      ]
    }
  ]
}