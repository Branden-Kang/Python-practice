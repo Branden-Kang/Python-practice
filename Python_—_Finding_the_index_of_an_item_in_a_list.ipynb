{
  "nbformat": 4,
  "nbformat_minor": 0,
  "metadata": {
    "colab": {
      "name": "Python — Finding the index of an item in a list.ipynb",
      "provenance": [],
      "authorship_tag": "ABX9TyNy+y5A6CVvokCHp7i8Y6UK"
    },
    "kernelspec": {
      "name": "python3",
      "display_name": "Python 3"
    },
    "language_info": {
      "name": "python"
    }
  },
  "cells": [
    {
      "cell_type": "markdown",
      "metadata": {
        "id": "o71xOhLWhpS9"
      },
      "source": [
        "[Reference](https://macxima.medium.com/python-finding-the-index-of-an-item-in-a-list-dd23df7e20c5)"
      ]
    },
    {
      "cell_type": "code",
      "metadata": {
        "colab": {
          "base_uri": "https://localhost:8080/"
        },
        "id": "WLj-h0lhhWk1",
        "outputId": "13285fb7-db5c-4c9a-c599-2251fd6782f6"
      },
      "source": [
        "# list of items\n",
        "MyList = ['Mango', 'Orange', 'Banana', 'Apple', 'Grapes', 'Apple']\n",
        "\n",
        "#searchable item value\n",
        "SeachItem='Apple'\n",
        "\n",
        "#store matching values through enumerate into a list comprehension\n",
        "indexes = [n for n, x in enumerate(MyList) if x==SeachItem]\n",
        "\n",
        "#matching indexed value\n",
        "indexes"
      ],
      "execution_count": 1,
      "outputs": [
        {
          "output_type": "execute_result",
          "data": {
            "text/plain": [
              "[3, 5]"
            ]
          },
          "metadata": {
            "tags": []
          },
          "execution_count": 1
        }
      ]
    },
    {
      "cell_type": "code",
      "metadata": {
        "colab": {
          "base_uri": "https://localhost:8080/"
        },
        "id": "hibevHeehabV",
        "outputId": "5c6f7158-fb22-4011-b461-413483d87ad5"
      },
      "source": [
        "# pandas library for data manipulation in python\n",
        "import pandas as pd\n",
        "\n",
        "# list of items\n",
        "MyList = ['Mango', 'Orange', 'Banana', 'Apple', 'Grapes', 'Apple']\n",
        "\n",
        "#convert list into series variable\n",
        "series = pd.Series(MyList)\n",
        "#values in series variable \n",
        "series"
      ],
      "execution_count": 2,
      "outputs": [
        {
          "output_type": "execute_result",
          "data": {
            "text/plain": [
              "0     Mango\n",
              "1    Orange\n",
              "2    Banana\n",
              "3     Apple\n",
              "4    Grapes\n",
              "5     Apple\n",
              "dtype: object"
            ]
          },
          "metadata": {
            "tags": []
          },
          "execution_count": 2
        }
      ]
    },
    {
      "cell_type": "code",
      "metadata": {
        "colab": {
          "base_uri": "https://localhost:8080/"
        },
        "id": "ipZ9mA6nhc4B",
        "outputId": "2cbb133e-ae75-4a5e-8d2b-137afbb9a40a"
      },
      "source": [
        "#searchable item value\n",
        "SeachItem='Apple'\n",
        "\n",
        "#comparison check\n",
        "series == SeachItem"
      ],
      "execution_count": 3,
      "outputs": [
        {
          "output_type": "execute_result",
          "data": {
            "text/plain": [
              "0    False\n",
              "1    False\n",
              "2    False\n",
              "3     True\n",
              "4    False\n",
              "5     True\n",
              "dtype: bool"
            ]
          },
          "metadata": {
            "tags": []
          },
          "execution_count": 3
        }
      ]
    },
    {
      "cell_type": "code",
      "metadata": {
        "colab": {
          "base_uri": "https://localhost:8080/"
        },
        "id": "zekn3zXGhe1T",
        "outputId": "d0032c44-609c-4f1b-9833-0e6878cd8a9f"
      },
      "source": [
        "series[series == SeachItem]"
      ],
      "execution_count": 4,
      "outputs": [
        {
          "output_type": "execute_result",
          "data": {
            "text/plain": [
              "3    Apple\n",
              "5    Apple\n",
              "dtype: object"
            ]
          },
          "metadata": {
            "tags": []
          },
          "execution_count": 4
        }
      ]
    },
    {
      "cell_type": "code",
      "metadata": {
        "colab": {
          "base_uri": "https://localhost:8080/"
        },
        "id": "pg9hk7yhhhBt",
        "outputId": "286bd317-6e49-49ac-f0bb-c0fa3be3b128"
      },
      "source": [
        "#list or tuple\n",
        "list(series[series == SeachItem].index)"
      ],
      "execution_count": 5,
      "outputs": [
        {
          "output_type": "execute_result",
          "data": {
            "text/plain": [
              "[3, 5]"
            ]
          },
          "metadata": {
            "tags": []
          },
          "execution_count": 5
        }
      ]
    },
    {
      "cell_type": "code",
      "metadata": {
        "colab": {
          "base_uri": "https://localhost:8080/"
        },
        "id": "0hNYAPIwhiBP",
        "outputId": "cd5e19a8-0c0d-4d87-e800-b9c2e7c2f894"
      },
      "source": [
        "# list of items\n",
        "MyList = ['Mango', 'Orange', 'Banana', 'Apple', 'Grapes', 'Apple']\n",
        "\n",
        "#searchable item valie\n",
        "SeachItem='Apple'\n",
        "\n",
        "# converting a list comprehension\n",
        "mlist = enumerate(MyList)\n",
        "\n",
        "#for loop\n",
        "for index, item in mlist:\n",
        "    if item == SeachItem:\n",
        "        print(index, item)"
      ],
      "execution_count": 6,
      "outputs": [
        {
          "output_type": "stream",
          "text": [
            "3 Apple\n",
            "5 Apple\n"
          ],
          "name": "stdout"
        }
      ]
    }
  ]
}