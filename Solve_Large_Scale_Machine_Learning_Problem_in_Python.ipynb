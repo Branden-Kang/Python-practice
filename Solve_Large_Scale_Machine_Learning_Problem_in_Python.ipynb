{
  "nbformat": 4,
  "nbformat_minor": 0,
  "metadata": {
    "colab": {
      "provenance": [],
      "collapsed_sections": [],
      "authorship_tag": "ABX9TyOZCkbiWZYesmrYiQVF16CW"
    },
    "kernelspec": {
      "name": "python3",
      "display_name": "Python 3"
    },
    "language_info": {
      "name": "python"
    }
  },
  "cells": [
    {
      "cell_type": "markdown",
      "source": [
        "[Reference](https://medium.com/@fareedkhandev/solve-large-scale-machine-learning-problem-in-python-58416f67c0ef)"
      ],
      "metadata": {
        "id": "Vn4jdsjSVLbY"
      }
    },
    {
      "cell_type": "code",
      "execution_count": 1,
      "metadata": {
        "colab": {
          "base_uri": "https://localhost:8080/"
        },
        "id": "nwcgGu4xUyqb",
        "outputId": "b70d2196-30e9-4412-9540-bb1990222137"
      },
      "outputs": [
        {
          "output_type": "stream",
          "name": "stdout",
          "text": [
            "Looking in indexes: https://pypi.org/simple, https://us-python.pkg.dev/colab-wheels/public/simple/\n",
            "Collecting xlearn\n",
            "  Downloading xlearn-0.40a1.tar.gz (4.9 MB)\n",
            "\u001b[K     |████████████████████████████████| 4.9 MB 16.3 MB/s \n",
            "\u001b[?25hBuilding wheels for collected packages: xlearn\n",
            "  Building wheel for xlearn (setup.py) ... \u001b[?25l\u001b[?25hdone\n",
            "  Created wheel for xlearn: filename=xlearn-0.40a1-py3-none-any.whl size=229987 sha256=8a40cc8f92e9e1e6108b52dde37d31e3e7bd3407bbc7e97fd94cf1f2904bbde9\n",
            "  Stored in directory: /root/.cache/pip/wheels/1e/6d/eb/256faaf8142a9363431e2dc3f6a3d1c9080f526a1e5475049d\n",
            "Successfully built xlearn\n",
            "Installing collected packages: xlearn\n",
            "Successfully installed xlearn-0.40a1\n"
          ]
        }
      ],
      "source": [
        "pip install xlearn"
      ]
    },
    {
      "cell_type": "code",
      "source": [
        "import xlearn as xl"
      ],
      "metadata": {
        "id": "sXCq71L5VOrG"
      },
      "execution_count": 2,
      "outputs": []
    },
    {
      "cell_type": "markdown",
      "source": [
        "# 1) Linear Model\n"
      ],
      "metadata": {
        "id": "hDGtbGeyVV5R"
      }
    },
    {
      "cell_type": "code",
      "source": [
        "lr_model = xl.create_linear()"
      ],
      "metadata": {
        "id": "rjAS45GIVQWl"
      },
      "execution_count": 3,
      "outputs": []
    },
    {
      "cell_type": "markdown",
      "source": [
        "# 2) Factorization Machine (FM)\n"
      ],
      "metadata": {
        "id": "zHhTeXREVW_f"
      }
    },
    {
      "cell_type": "code",
      "source": [
        "fm_model = xl.create_fm()"
      ],
      "metadata": {
        "id": "pnLQFnnWVTUq"
      },
      "execution_count": 4,
      "outputs": []
    },
    {
      "cell_type": "markdown",
      "source": [
        "# 3) Field-aware factorization machine (FFM)\n"
      ],
      "metadata": {
        "id": "50_tlJEHVaJD"
      }
    },
    {
      "cell_type": "code",
      "source": [
        "ffm_model = xl.create_ffm()"
      ],
      "metadata": {
        "id": "fITMqU9QVZSN"
      },
      "execution_count": 5,
      "outputs": []
    },
    {
      "cell_type": "code",
      "source": [
        "ffm_model.setTrain(\"https://raw.githubusercontent.com/aksnzhy/xlearn/master/demo/classification/criteo_ctr/small_train.txt\")"
      ],
      "metadata": {
        "id": "dT5SFKkNVcHO"
      },
      "execution_count": 6,
      "outputs": []
    },
    {
      "cell_type": "code",
      "source": [
        "param = {'task':'binary','lr':0.2,'lambda':0.002}\n",
        "# Training the model\n",
        "ffm_model.fit(param,'model.out')"
      ],
      "metadata": {
        "id": "w9ztqGaQVow0"
      },
      "execution_count": null,
      "outputs": []
    },
    {
      "cell_type": "code",
      "source": [
        "ffm_model.setSign()\n",
        "ffm_model.setTest('https://raw.githubusercontent.com/aksnzhy/xlearn/master/demo/classification/criteo_ctr/small_test.txt')\n",
        "ffm_model.predict('model.out','output.txt')"
      ],
      "metadata": {
        "id": "DdDfg8bzV1hq"
      },
      "execution_count": null,
      "outputs": []
    }
  ]
}