{
  "nbformat": 4,
  "nbformat_minor": 0,
  "metadata": {
    "colab": {
      "name": "Python: Find the Largest File in a Directory.ipynb",
      "provenance": [],
      "authorship_tag": "ABX9TyPQTkT22e8YXIGbpbuOrKq5"
    },
    "kernelspec": {
      "name": "python3",
      "display_name": "Python 3"
    },
    "language_info": {
      "name": "python"
    }
  },
  "cells": [
    {
      "cell_type": "markdown",
      "metadata": {
        "id": "TK7prx0EPYnS"
      },
      "source": [
        "[Reference](https://medium.com/@technicadil_001/python-find-the-largest-file-in-a-directory-4bedf0802d77)"
      ]
    },
    {
      "cell_type": "code",
      "metadata": {
        "id": "QD2s3_mvOxoR"
      },
      "source": [
        "import os# folder path input\n",
        "\n",
        "print(\"Enter folder path\")\n",
        "\n",
        "#It will return a absolute path name of the input passed to this function\n",
        "\n",
        "path = os.path.abspath(input())# for storing size of each filesize = 0# for storing the size of# the largest filemax_size = 0\n",
        "\n",
        "# for storing the path to the\n",
        "\n",
        "# largest file\n",
        "\n",
        "max_file =\"\"\n",
        "# walking through the entire folder,\n",
        "# including subdirectories\n",
        "for folder, subfolders, files in os.walk(path):\n",
        "    # checking the size of each file\n",
        "    for file in files:\n",
        "        size = os.stat(os.path.join( folder, file  )).st_size\n",
        "        # updating maximum size\n",
        "        if size>max_size:\n",
        "            max_size = size\n",
        "            max_file = os.path.join( folder, file  )\n",
        "print(\"The largest file is: \"+max_file)\n",
        "print('Size: '+str(max_size)+' bytes')"
      ],
      "execution_count": 1,
      "outputs": []
    }
  ]
}