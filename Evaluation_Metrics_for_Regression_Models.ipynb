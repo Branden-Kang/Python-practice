{
  "nbformat": 4,
  "nbformat_minor": 0,
  "metadata": {
    "colab": {
      "provenance": [],
      "authorship_tag": "ABX9TyM8X0X5mCFd2seBixhlXim/"
    },
    "kernelspec": {
      "name": "python3",
      "display_name": "Python 3"
    },
    "language_info": {
      "name": "python"
    }
  },
  "cells": [
    {
      "cell_type": "markdown",
      "source": [
        "[Reference](https://medium.com/@luuisotorres/evaluation-metrics-for-regression-models-03f2143ecec2)"
      ],
      "metadata": {
        "id": "Q9a5zuX2dAOg"
      }
    },
    {
      "cell_type": "markdown",
      "source": [
        "# Mean Absolute Error"
      ],
      "metadata": {
        "id": "6fMsUfbpdeIw"
      }
    },
    {
      "cell_type": "code",
      "execution_count": 1,
      "metadata": {
        "id": "O7eNJDw8c1ae"
      },
      "outputs": [],
      "source": [
        "# Creating a list of true values\n",
        "y_true = [23.5, 45.1, 34.7, 29.8, 48.3, 56.4, 21.2, 33.5, 39.8, 41.6,\n",
        "          27.4, 36.7, 45.9, 50.3, 31.6, 28.9, 42.7, 37.8, 34.1, 29.5]\n",
        "\n",
        "# Creating a list of predicted values\n",
        "y_pred = [25.7, 43.0, 35.5, 30.1, 49.8, 54.2, 22.5, 34.2, 38.9, 42.4,\n",
        "          26.3, 37.6, 46.7, 51.1, 33.5, 27.7, 43.2, 36.9, 33.4, 31.0]"
      ]
    },
    {
      "cell_type": "code",
      "source": [
        "def custom_mae(y_true, y_pred):\n",
        "    absolute_sum = 0 # Initiating a variable for the accumulation of the absolute differences\n",
        "\n",
        "    # Iterating over each data point in both y_true and y_pred\n",
        "    for true, predicted in zip(y_true, y_pred):\n",
        "\n",
        "        # Subtracting predicted value from the true value to obtain the difference\n",
        "        absolute_error = true - predicted\n",
        "\n",
        "        # Obtaining the absolute value\n",
        "        # If the difference is below 0,\n",
        "        if absolute_error < 0:\n",
        "            absolute_error = -absolute_error # We make it positive by obtaining its negation{ (-)-n = +n }\n",
        "\n",
        "        # We add the absolute error value to the current absolute sum value\n",
        "        absolute_sum += absolute_error\n",
        "\n",
        "    # After iterating through every data point, we divide the absolute_sum by the total number of data values in y_true\n",
        "    mae = absolute_sum / len(y_true)\n",
        "\n",
        "    return mae # Returning value"
      ],
      "metadata": {
        "id": "xaneBBZGdi7s"
      },
      "execution_count": 2,
      "outputs": []
    },
    {
      "cell_type": "code",
      "source": [
        "# Using custom function\n",
        "print('\\nMean Absolute Error\\n')\n",
        "round(custom_mae(y_true, y_pred), 3)"
      ],
      "metadata": {
        "colab": {
          "base_uri": "https://localhost:8080/"
        },
        "id": "y1rwO_9OdkaG",
        "outputId": "13ad3637-bd32-4336-e072-0b642fecab93"
      },
      "execution_count": 3,
      "outputs": [
        {
          "output_type": "stream",
          "name": "stdout",
          "text": [
            "\n",
            "Mean Absolute Error\n",
            "\n"
          ]
        },
        {
          "output_type": "execute_result",
          "data": {
            "text/plain": [
              "1.155"
            ]
          },
          "metadata": {},
          "execution_count": 3
        }
      ]
    },
    {
      "cell_type": "markdown",
      "source": [
        "# Mean Squared Error"
      ],
      "metadata": {
        "id": "oK-TYTyAdq2A"
      }
    },
    {
      "cell_type": "code",
      "source": [
        "def custom_mse(y_true, y_pred):\n",
        "\n",
        "    squared_sum = 0 # Initiating a squared sum variable equal to 0\n",
        "\n",
        "    # Iterating over y_true and y_pred\n",
        "    for true, predicted in zip(y_true, y_pred):\n",
        "\n",
        "        # Subtracting predicted from true and squaring the result\n",
        "        squared_error = (true - predicted) ** 2\n",
        "\n",
        "        # Adding the squared error result to the squared_sum variable\n",
        "        squared_sum += squared_error\n",
        "\n",
        "    # Obtaining the MSE by dividing the squared sum to the total number of data points in y_true\n",
        "    mse = squared_sum / len(y_true)\n",
        "\n",
        "    return mse # Returning result"
      ],
      "metadata": {
        "id": "BONObynRdmKs"
      },
      "execution_count": 4,
      "outputs": []
    },
    {
      "cell_type": "code",
      "source": [
        "# Using custom function\n",
        "print('\\nMean Squared Error\\n')\n",
        "round(custom_mse(y_true, y_pred), 3)"
      ],
      "metadata": {
        "colab": {
          "base_uri": "https://localhost:8080/"
        },
        "id": "Ls8Ldblqd1bE",
        "outputId": "b222fdb0-97fd-4ee5-d0dd-2ebea473e90b"
      },
      "execution_count": 5,
      "outputs": [
        {
          "output_type": "stream",
          "name": "stdout",
          "text": [
            "\n",
            "Mean Squared Error\n",
            "\n"
          ]
        },
        {
          "output_type": "execute_result",
          "data": {
            "text/plain": [
              "1.642"
            ]
          },
          "metadata": {},
          "execution_count": 5
        }
      ]
    },
    {
      "cell_type": "markdown",
      "source": [
        "# Root Mean Squared Error"
      ],
      "metadata": {
        "id": "WByx1RTGd3cl"
      }
    },
    {
      "cell_type": "code",
      "source": [
        "def custom_rmse(y_true, y_pred):\n",
        "\n",
        "    squared_sum = 0 # Initiating a squared sum variable equal to 0\n",
        "\n",
        "    # Iterating over y_true and y_pred\n",
        "    for true, predicted in zip(y_true, y_pred):\n",
        "\n",
        "        # Subtracting predicted from true and squaring the result\n",
        "        squared_error = (true - predicted)**2\n",
        "\n",
        "        # Adding the squared error result to the squared_sum variable\n",
        "        squared_sum += squared_error\n",
        "\n",
        "    # Obtaining the MSE by dividing the squared sum to the total number of data points in y_true\n",
        "    mse = squared_sum / len(y_true)\n",
        "\n",
        "    # To find the square root, we raise the mse to the power of 0.5\n",
        "    rmse = mse**0.5\n",
        "\n",
        "    return rmse # Returning result"
      ],
      "metadata": {
        "id": "UmwDUtqgd1pv"
      },
      "execution_count": 6,
      "outputs": []
    },
    {
      "cell_type": "code",
      "source": [
        "# Using custom function\n",
        "print('\\nRoot Mean Squared Error\\n')\n",
        "round(custom_rmse(y_true, y_pred), 3)"
      ],
      "metadata": {
        "colab": {
          "base_uri": "https://localhost:8080/"
        },
        "id": "gt-dB8Qkd5ou",
        "outputId": "326a39f2-a39b-42ef-d143-bc642fd79514"
      },
      "execution_count": 7,
      "outputs": [
        {
          "output_type": "stream",
          "name": "stdout",
          "text": [
            "\n",
            "Root Mean Squared Error\n",
            "\n"
          ]
        },
        {
          "output_type": "execute_result",
          "data": {
            "text/plain": [
              "1.282"
            ]
          },
          "metadata": {},
          "execution_count": 7
        }
      ]
    },
    {
      "cell_type": "markdown",
      "source": [
        "# Median Absolute Error"
      ],
      "metadata": {
        "id": "fSIshEWsd90W"
      }
    },
    {
      "cell_type": "code",
      "source": [
        "def custom_medae(y_true, y_pred):\n",
        "\n",
        "    # Creating an empty list of absolute errors\n",
        "    absolute_errors = []\n",
        "\n",
        "    # Iterating through actual and predicted values for y\n",
        "    for true, predicted in zip(y_true, y_pred):\n",
        "\n",
        "        # Computing the differences(i.e., errors)\n",
        "        error = true - predicted\n",
        "        # Obtaining the absolute value\n",
        "        if error < 0:  # If the difference is a negative number,\n",
        "            error = -error # We obtain the negative of the negative, which is a positive number\n",
        "\n",
        "        absolute_errors.append(error) # Adding absolute value to the list of absolute errors\n",
        "\n",
        "    # Ordering absolute_errors list in ascending order\n",
        "    sorted_absolute_errors = sorted(absolute_errors)\n",
        "    # Obtaining the total number of elements in the sorted_absolute_errors list\n",
        "    n = len(sorted_absolute_errors)\n",
        "\n",
        "    # Obtaining the middle index of the list by dividing the total length of the list by half\n",
        "    middle = n // 2 # Floor division to return an integer\n",
        "\n",
        "    # We must check if we have an even or odd number of elements\n",
        "    if n % 2 ==0: # If we have an even number of elements,\n",
        "        # The median will be equal to the mean of the two elements in the middle of the list\n",
        "        medae = (sorted_absolute_errors[middle - 1] + sorted_absolute_errors[middle]) / 2\n",
        "    else:\n",
        "        # For an odd number of elements, the median will be equal to the value in the middle of the list\n",
        "        medae = sorted_absolute_errors[middle]\n",
        "    return medae"
      ],
      "metadata": {
        "id": "NJAOjysRd7E0"
      },
      "execution_count": 8,
      "outputs": []
    },
    {
      "cell_type": "code",
      "source": [
        "# Using custom function\n",
        "print('\\nMedian Absolute Error\\n')\n",
        "round(custom_medae(y_true, y_pred), 3)"
      ],
      "metadata": {
        "colab": {
          "base_uri": "https://localhost:8080/"
        },
        "id": "GF_0blB5d_sU",
        "outputId": "628f3152-96b0-4f4e-e287-fadfa68e44ba"
      },
      "execution_count": 9,
      "outputs": [
        {
          "output_type": "stream",
          "name": "stdout",
          "text": [
            "\n",
            "Median Absolute Error\n",
            "\n"
          ]
        },
        {
          "output_type": "execute_result",
          "data": {
            "text/plain": [
              "0.9"
            ]
          },
          "metadata": {},
          "execution_count": 9
        }
      ]
    },
    {
      "cell_type": "markdown",
      "source": [
        "# Maximum Error"
      ],
      "metadata": {
        "id": "XKDcJ1W9eFi0"
      }
    },
    {
      "cell_type": "code",
      "source": [
        "def custom_max_error(y_true, y_pred):\n",
        "\n",
        "    # Creating an empty list of absolute errors\n",
        "    absolute_errors = []\n",
        "\n",
        "    # Iterating through actual and predicted values for y\n",
        "    for true, predicted in zip(y_true, y_pred):\n",
        "\n",
        "        # Computing the differences(i.e., errors)\n",
        "        error = true - predicted\n",
        "        # Obtaining the absolute value\n",
        "        if error < 0:  # If the difference is a negative number,\n",
        "            error = -error # We obtain the negative of the negative, which is a positive number\n",
        "\n",
        "        absolute_errors.append(error) # Adding absolute value to the list of empty errors\n",
        "\n",
        "    # Obtaining the largest error in the absolute_errors list using the max() function\n",
        "    maximum_error = max(absolute_errors)\n",
        "\n",
        "    return maximum_error"
      ],
      "metadata": {
        "id": "wFSkF5zweBFe"
      },
      "execution_count": 10,
      "outputs": []
    },
    {
      "cell_type": "code",
      "source": [
        "# Using custom function\n",
        "print('\\nMaximum Error\\n')\n",
        "round(custom_max_error(y_true, y_pred), 3)"
      ],
      "metadata": {
        "colab": {
          "base_uri": "https://localhost:8080/"
        },
        "id": "D6pE9Tf2eH1N",
        "outputId": "30c3290c-f376-453f-f79c-96d1c43c2c6c"
      },
      "execution_count": 11,
      "outputs": [
        {
          "output_type": "stream",
          "name": "stdout",
          "text": [
            "\n",
            "Maximum Error\n",
            "\n"
          ]
        },
        {
          "output_type": "execute_result",
          "data": {
            "text/plain": [
              "2.2"
            ]
          },
          "metadata": {},
          "execution_count": 11
        }
      ]
    },
    {
      "cell_type": "markdown",
      "source": [
        "# Mean Absolute Percentage Error"
      ],
      "metadata": {
        "id": "R_QXhi28eJhF"
      }
    },
    {
      "cell_type": "code",
      "source": [
        "def custom_mape(y_true, y_pred):\n",
        "\n",
        "    # Intiating an empty variable for the sum of absolute errors\n",
        "    sum_absolute_errors = 0\n",
        "\n",
        "    # Iterating over true and predicted values\n",
        "    for actual, predicted in zip(y_true, y_pred):\n",
        "        # Computing the differences between them\n",
        "        absolute_error = actual - predicted\n",
        "\n",
        "        # Obtaining the absolute value\n",
        "        # If any number is below 0, we obtain the negative of this number to make it positive\n",
        "        if absolute_error < 0:\n",
        "            absolute_error = -absolute_error\n",
        "        # We do the same for the value in y_true\n",
        "        absolute_actual = actual\n",
        "        if absolute_actual < 0:\n",
        "            absolute_actual = -absolute_actual\n",
        "\n",
        "        # We divide the absolute error by the absolute value of y_true\n",
        "        absolute_error = absolute_error / absolute_actual\n",
        "\n",
        "        # We sum the values in absolute_error\n",
        "        sum_absolute_errors += absolute_error\n",
        "\n",
        "    # We divide the sum of absolute errors by the length of y_true to compute the MAPE score\n",
        "    mape = (sum_absolute_errors/len(y_true))\n",
        "\n",
        "    return mape"
      ],
      "metadata": {
        "id": "Lt3tQN6beH_w"
      },
      "execution_count": 12,
      "outputs": []
    },
    {
      "cell_type": "code",
      "source": [
        "# Using custom function\n",
        "print('\\nMean Absolute Percentage Error\\n')\n",
        "round(custom_mape(y_true, y_pred), 3)"
      ],
      "metadata": {
        "colab": {
          "base_uri": "https://localhost:8080/"
        },
        "id": "fWUtGwb4eLA_",
        "outputId": "e6e0656f-34c5-401b-bf95-f5fcc939a70a"
      },
      "execution_count": 13,
      "outputs": [
        {
          "output_type": "stream",
          "name": "stdout",
          "text": [
            "\n",
            "Mean Absolute Percentage Error\n",
            "\n"
          ]
        },
        {
          "output_type": "execute_result",
          "data": {
            "text/plain": [
              "0.034"
            ]
          },
          "metadata": {},
          "execution_count": 13
        }
      ]
    },
    {
      "cell_type": "markdown",
      "source": [
        "# Coefficient of Determination (R²)"
      ],
      "metadata": {
        "id": "hc9OxBpteOvf"
      }
    },
    {
      "cell_type": "code",
      "source": [
        "def custom_rsquared(y_true, y_pred):\n",
        "\n",
        "    # Obtaining the mean of actual values\n",
        "    mean_ytrue = sum(y_true) / len(y_true)\n",
        "\n",
        "    # Obtaining the sum of the squared differences between actual and predicted valyes\n",
        "    sum_of_squared_residuals = 0\n",
        "    for true, predicted in zip (y_true, y_pred):\n",
        "        sum_of_squared_residuals += (true - predicted) ** 2\n",
        "\n",
        "    # Obtaining the total sum of squares\n",
        "    total_sum_of_squares = 0\n",
        "    for true in y_true:\n",
        "        total_sum_of_squares += (true - mean_ytrue) ** 2\n",
        "\n",
        "    # Computing the R-Squared score\n",
        "    r_squared_score = 1 - (sum_of_squared_residuals / total_sum_of_squares)\n",
        "\n",
        "    return r_squared_score"
      ],
      "metadata": {
        "id": "fzyMnQkxeNfu"
      },
      "execution_count": 14,
      "outputs": []
    },
    {
      "cell_type": "code",
      "source": [
        "# Using custom function\n",
        "print('\\nCoefficient of Determination (R²)\\n')\n",
        "round(custom_rsquared(y_true, y_pred), 3)"
      ],
      "metadata": {
        "colab": {
          "base_uri": "https://localhost:8080/"
        },
        "id": "vPJ8WvKseTxR",
        "outputId": "f322ccbb-9815-4cdf-facc-03ca527e94da"
      },
      "execution_count": 15,
      "outputs": [
        {
          "output_type": "stream",
          "name": "stdout",
          "text": [
            "\n",
            "Coefficient of Determination (R²)\n",
            "\n"
          ]
        },
        {
          "output_type": "execute_result",
          "data": {
            "text/plain": [
              "0.98"
            ]
          },
          "metadata": {},
          "execution_count": 15
        }
      ]
    }
  ]
}