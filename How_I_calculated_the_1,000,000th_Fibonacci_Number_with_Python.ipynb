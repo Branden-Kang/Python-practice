{
  "nbformat": 4,
  "nbformat_minor": 0,
  "metadata": {
    "colab": {
      "name": "How I calculated the 1,000,000th Fibonacci Number with Python.ipynb",
      "provenance": [],
      "authorship_tag": "ABX9TyMpijwtKxPJpJifgkqKU1D6"
    },
    "kernelspec": {
      "name": "python3",
      "display_name": "Python 3"
    },
    "language_info": {
      "name": "python"
    }
  },
  "cells": [
    {
      "cell_type": "markdown",
      "metadata": {
        "id": "CFoSOdiX6JLe"
      },
      "source": [
        "[Reference](https://python.plainenglish.io/how-i-calculated-the-1-000-000th-fibonacci-number-with-python-e921d3642dbf)"
      ]
    },
    {
      "cell_type": "code",
      "metadata": {
        "id": "vywAsnUV6GAI"
      },
      "source": [
        "def recursiveFib(n):\n",
        "    if n == 1 or n == 2:\n",
        "        return 1\n",
        "\n",
        "    return recursiveFib(n - 1) + recursiveFib(n - 2)"
      ],
      "execution_count": 1,
      "outputs": []
    },
    {
      "cell_type": "code",
      "metadata": {
        "id": "4vU73tOa6LTM"
      },
      "source": [
        "from functools import lru_cache\n",
        "\n",
        "@lru_cache()\n",
        "def recursiveFibCached(n):\n",
        "    if n == 1 or n == 2:\n",
        "        return 1\n",
        "\n",
        "    return recursiveFibCached(n - 1) + recursiveFibCached (n - 2)"
      ],
      "execution_count": 2,
      "outputs": []
    },
    {
      "cell_type": "code",
      "metadata": {
        "id": "H8OTVJPm6Mi0"
      },
      "source": [
        "import sys\n",
        "\n",
        "sys.setrecursionlimit(5000)"
      ],
      "execution_count": 3,
      "outputs": []
    },
    {
      "cell_type": "code",
      "metadata": {
        "id": "g0RFPdBV6NmD"
      },
      "source": [
        "def iterativeFib(n):\n",
        "    a, b = 0, 1\n",
        "\n",
        "    for i in range(n):\n",
        "        a, b = b, a + b\n",
        "\n",
        "    return a"
      ],
      "execution_count": 4,
      "outputs": []
    },
    {
      "cell_type": "code",
      "metadata": {
        "id": "VGq0nz8t6Ojy"
      },
      "source": [
        "def formulaFib(n):\n",
        "    root_5 = 5 ** 0.5\n",
        "    phi = ((1 + root_5) / 2)\n",
        "\n",
        "    a = ((phi ** n) - ((-phi) ** -n)) / root_5\n",
        "\n",
        "    return round(a)"
      ],
      "execution_count": 5,
      "outputs": []
    },
    {
      "cell_type": "code",
      "metadata": {
        "id": "3o07bw3P6QZ_"
      },
      "source": [
        "import decimal\n",
        "\n",
        "def formulaFibWithDecimal(n):\n",
        "    decimal.getcontext().prec = 10000\n",
        "\n",
        "    root_5 = decimal.Decimal(5).sqrt()\n",
        "    phi = ((1 + root_5) / 2)\n",
        "\n",
        "    a = ((phi ** n) - ((-phi) ** -n)) / root_5\n",
        "\n",
        "    return round(a)"
      ],
      "execution_count": 6,
      "outputs": []
    }
  ]
}