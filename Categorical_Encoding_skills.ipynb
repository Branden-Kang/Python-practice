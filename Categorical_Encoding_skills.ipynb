{
  "nbformat": 4,
  "nbformat_minor": 0,
  "metadata": {
    "colab": {
      "provenance": [],
      "authorship_tag": "ABX9TyOqmAXzbeEM5a2DxWfSYH9d"
    },
    "kernelspec": {
      "name": "python3",
      "display_name": "Python 3"
    },
    "language_info": {
      "name": "python"
    }
  },
  "cells": [
    {
      "cell_type": "markdown",
      "source": [
        "[Reference](https://medium.com/@kaoningyu/dont-use-one-hot-encoding-anymore-25b5882e533f)"
      ],
      "metadata": {
        "id": "8VDjnLg70vFd"
      }
    },
    {
      "cell_type": "markdown",
      "source": [
        "# Target Encoding\n"
      ],
      "metadata": {
        "id": "-y7oL90S0zfq"
      }
    },
    {
      "cell_type": "code",
      "execution_count": 1,
      "metadata": {
        "id": "xxxudLLj0nxv"
      },
      "outputs": [],
      "source": [
        "# use target encoding\n",
        "te = TargetEncoder(cols=['A', 'B'])\n",
        "\n",
        "# transform the datasets\n",
        "training_data = te.fit_transform(X_train, y_train)\n",
        "testing_data = te.transform(X_test)"
      ]
    },
    {
      "cell_type": "markdown",
      "source": [
        "# Leave-One-Out Encoding (LOO Encoding)\n"
      ],
      "metadata": {
        "id": "naGSyfDH00qy"
      }
    },
    {
      "cell_type": "code",
      "source": [
        "import category_encoders as ce\n",
        "loo_encoder = ce.LeaveOneOutEncoder(cols=[A, B], sigma=0.05)\n",
        "loo_encoder.fit(X, y)\n",
        "X_encoded = loo_encoder.transform(X)"
      ],
      "metadata": {
        "id": "60lvxqSH0xvK"
      },
      "execution_count": 2,
      "outputs": []
    },
    {
      "cell_type": "markdown",
      "source": [
        "# Generalized Linearn Mixed Model (GLMM)\n"
      ],
      "metadata": {
        "id": "ebFHI6s71DGL"
      }
    },
    {
      "cell_type": "code",
      "source": [
        "import category_encoders as ce\n",
        "glmm_encoder = ce.GLMMEncoder(cols=[A, B], binary_target=True)\n",
        "# binomial_target = True (for Classification)\n",
        "# binomial_target = False (for Regression)\n",
        "glmm_encoder.fit(X, y)\n",
        "X_encoded = glmm_encoder.transform(X)"
      ],
      "metadata": {
        "id": "pAVQBYy00_0b"
      },
      "execution_count": 3,
      "outputs": []
    }
  ]
}