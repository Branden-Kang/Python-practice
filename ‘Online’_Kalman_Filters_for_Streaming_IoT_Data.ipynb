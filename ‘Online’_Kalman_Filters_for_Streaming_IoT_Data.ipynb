{
  "nbformat": 4,
  "nbformat_minor": 0,
  "metadata": {
    "colab": {
      "name": "‘Online’ Kalman Filters for Streaming IoT Data.ipynb",
      "provenance": [],
      "authorship_tag": "ABX9TyPXXVSdqfiGHADFhHIJdsoE"
    },
    "kernelspec": {
      "name": "python3",
      "display_name": "Python 3"
    },
    "language_info": {
      "name": "python"
    }
  },
  "cells": [
    {
      "cell_type": "markdown",
      "metadata": {
        "id": "5bG3wcNnCJBm"
      },
      "source": [
        "[Reference](https://sam-black.medium.com/online-kalman-filters-for-streaming-iot-data-43d8c861599b)"
      ]
    },
    {
      "cell_type": "code",
      "metadata": {
        "colab": {
          "base_uri": "https://localhost:8080/"
        },
        "id": "0f19lO1wCL61",
        "outputId": "4f12ef54-141b-4de2-c52b-b489d2ac8b9c"
      },
      "source": [
        "!pip install pykalman"
      ],
      "execution_count": 2,
      "outputs": [
        {
          "output_type": "stream",
          "text": [
            "Collecting pykalman\n",
            "\u001b[?25l  Downloading https://files.pythonhosted.org/packages/2f/62/a4adc4516bd5974aa5583090199dd4b78d1e87018d14e9279f72ccbf0b9b/pykalman-0.9.5.tar.gz (228kB)\n",
            "\r\u001b[K     |█▍                              | 10kB 13.4MB/s eta 0:00:01\r\u001b[K     |██▉                             | 20kB 9.8MB/s eta 0:00:01\r\u001b[K     |████▎                           | 30kB 5.9MB/s eta 0:00:01\r\u001b[K     |█████▊                          | 40kB 5.5MB/s eta 0:00:01\r\u001b[K     |███████▏                        | 51kB 3.0MB/s eta 0:00:01\r\u001b[K     |████████▋                       | 61kB 3.3MB/s eta 0:00:01\r\u001b[K     |██████████                      | 71kB 3.6MB/s eta 0:00:01\r\u001b[K     |███████████▌                    | 81kB 3.8MB/s eta 0:00:01\r\u001b[K     |████████████▉                   | 92kB 4.0MB/s eta 0:00:01\r\u001b[K     |██████████████▎                 | 102kB 4.0MB/s eta 0:00:01\r\u001b[K     |███████████████▊                | 112kB 4.0MB/s eta 0:00:01\r\u001b[K     |█████████████████▏              | 122kB 4.0MB/s eta 0:00:01\r\u001b[K     |██████████████████▋             | 133kB 4.0MB/s eta 0:00:01\r\u001b[K     |████████████████████            | 143kB 4.0MB/s eta 0:00:01\r\u001b[K     |█████████████████████▌          | 153kB 4.0MB/s eta 0:00:01\r\u001b[K     |███████████████████████         | 163kB 4.0MB/s eta 0:00:01\r\u001b[K     |████████████████████████▍       | 174kB 4.0MB/s eta 0:00:01\r\u001b[K     |█████████████████████████▊      | 184kB 4.0MB/s eta 0:00:01\r\u001b[K     |███████████████████████████▏    | 194kB 4.0MB/s eta 0:00:01\r\u001b[K     |████████████████████████████▋   | 204kB 4.0MB/s eta 0:00:01\r\u001b[K     |██████████████████████████████  | 215kB 4.0MB/s eta 0:00:01\r\u001b[K     |███████████████████████████████▌| 225kB 4.0MB/s eta 0:00:01\r\u001b[K     |████████████████████████████████| 235kB 4.0MB/s \n",
            "\u001b[?25hBuilding wheels for collected packages: pykalman\n",
            "  Building wheel for pykalman (setup.py) ... \u001b[?25l\u001b[?25hdone\n",
            "  Created wheel for pykalman: filename=pykalman-0.9.5-cp37-none-any.whl size=48464 sha256=38afe6a3a3e93b8e45eae46eee6489db61178cb5cd2a415be53e98d929471045\n",
            "  Stored in directory: /root/.cache/pip/wheels/d9/e8/6a/553d9832679cb74a8434fa597c3abdb07313e40054a0adf9ac\n",
            "Successfully built pykalman\n",
            "Installing collected packages: pykalman\n",
            "Successfully installed pykalman-0.9.5\n"
          ],
          "name": "stdout"
        }
      ]
    },
    {
      "cell_type": "code",
      "metadata": {
        "id": "Jw4fE3E9AUwb"
      },
      "source": [
        "import pykalman\n",
        "from collections import deque\n",
        "from typing import Sequence, Tuple, Union \n",
        "\n",
        "class OnlineUnivariateKalmanFilter:\n",
        "  \"\"\"\n",
        "    An online kalman filter for a univariate time series. This periodically updates the\n",
        "    internal state for every `update_interval` observations it's observed. It also\n",
        "    maintains an internal window, which will compute mean/covariance updates using\n",
        "    all of the observations in the window.\n",
        "\n",
        "    This performs better than simply using the online method as described here:\n",
        "    https://pykalman.github.io/kf_users_guide.html?#inferring-states\n",
        "\n",
        "    Control the computational complexity by setting reasonable values for the\n",
        "    internal window\n",
        "  \"\"\"\n",
        "\n",
        "  def __init__(self, n_initialize: int = 25, update_interval: int = 25, \n",
        "               internal_window: int=500, filter_type: str = 'normal',\n",
        "               reparameterize: bool = True, **kwargs):\n",
        "    \n",
        "    _FILTER_TYPES = {\n",
        "      'unscented': pykalman.UnscentedKalmanFilter,\n",
        "      'unscented-additive': pykalman.AdditiveUnscentedKalmanFilter,\n",
        "      'normal': pykalman.KalmanFilter\n",
        "    }\n",
        "    self.is_initialized = False\n",
        "    self.n_initialize = n_initialize\n",
        "    self.update_interval = update_interval\n",
        "    self.internal_window = internal_window\n",
        "    self.filter_type = filter_type\n",
        "    self.reparameterize = reparameterize\n",
        "    self.F = _FILTER_TYPES[filter_type](**kwargs)\n",
        "    self.observations = deque(maxlen=internal_window)\n",
        "    self.observed = 0\n",
        "\n",
        "\n",
        "  def initialize(self, X: Sequence, n_iter: int = 10) -> None:\n",
        "    \"\"\"\n",
        "    Initializes the kalman filter, setting the parameters \n",
        "    using expectation-maximization as defined in\n",
        "    https://pykalman.github.io/#pykalman.KalmanFilter.em\n",
        "\n",
        "    Parameters\n",
        "    ----------\n",
        "    X : Sequence\n",
        "        a sequence of observations, must be at least n_initialize in length\n",
        "    n_iter : int\n",
        "        number of iterations to run the em algorithm, default = 5\n",
        "    \"\"\"\n",
        "    if len(X) < self.n_initialize:\n",
        "      raise Exception(f\"need at least {self.n_initialize} observations to initialize the filter\")\n",
        "    \n",
        "    if self.filter_type == \"normal\":\n",
        "      self.F.em(X, n_iter)\n",
        "    \n",
        "    for val in X:\n",
        "      self.observations.append(val)\n",
        "    self.is_initialized = True\n",
        "\n",
        "  def _em(self):\n",
        "    \"\"\"\n",
        "    runs expectation-maximization on the internal window\n",
        "    if the kalman filter type is normal\n",
        "    \"\"\"\n",
        "    if self.filter_type == \"normal\":\n",
        "      self.F.em(self.observations)\n",
        "\n",
        "  def add_observation(self, X: Union[float, Sequence]) -> None:\n",
        "    \"\"\"\n",
        "    adds an observation to this filter's internal window but\n",
        "    does not produce an update. Use this to \"warm up\" the\n",
        "    filter in an online setting\n",
        "    \n",
        "    Parameters\n",
        "    ----------\n",
        "    X : Union[float, Sequence]\n",
        "        a single observation\n",
        "    \n",
        "    \"\"\"\n",
        "    self.observations.append(X)\n",
        "\n",
        "  def observe(self, X: Union[float, Sequence], is_window: bool = False) -> Tuple[float, float]:\n",
        "    \"\"\"\n",
        "    'observes' a time window of length n to produce the filtered result\n",
        "    \"\"\"\n",
        "    means, covs = None, None\n",
        "    if not self.is_initialized:\n",
        "      raise Exception(\"Initialize the filter by running `initialize()`\")\n",
        "    else:\n",
        "      if is_window:\n",
        "        self.observations.append(X[-1])\n",
        "        means, covs = self.F.filter(X)\n",
        "      else:\n",
        "        self.observations.append(X)\n",
        "        means, covs = self.F.filter(self.observations)\n",
        "    \n",
        "    self.observed += 1\n",
        "\n",
        "    if self.observed % self.update_interval == 0:\n",
        "      if self.reparameterize:\n",
        "        self._em()\n",
        "\n",
        "    next_mean, next_cov = self.F.filter_update(means[-1], covs[-1])\n",
        "\n",
        "    return next_mean, next_cov"
      ],
      "execution_count": 3,
      "outputs": []
    }
  ]
}