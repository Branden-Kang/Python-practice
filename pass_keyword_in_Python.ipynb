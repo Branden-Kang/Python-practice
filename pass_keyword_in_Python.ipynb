{
  "nbformat": 4,
  "nbformat_minor": 0,
  "metadata": {
    "colab": {
      "provenance": [],
      "authorship_tag": "ABX9TyMTZP12UGT1fUkj+FIym5Eh"
    },
    "kernelspec": {
      "name": "python3",
      "display_name": "Python 3"
    },
    "language_info": {
      "name": "python"
    }
  },
  "cells": [
    {
      "cell_type": "markdown",
      "source": [
        "[Reference](https://medium.com/@aliyannshaikhh/3aa749792fca)"
      ],
      "metadata": {
        "id": "_3ZDZG7Y5cVx"
      }
    },
    {
      "cell_type": "markdown",
      "source": [
        "# What Is the pass Statement in Python and How to Use It"
      ],
      "metadata": {
        "id": "oIcKGp-r7Okw"
      }
    },
    {
      "cell_type": "code",
      "execution_count": 1,
      "metadata": {
        "id": "mULUZnWx5Y21"
      },
      "outputs": [],
      "source": [
        "def future_function():\n",
        "    pass"
      ]
    },
    {
      "cell_type": "code",
      "source": [
        "class Vehicle:\n",
        "    pass"
      ],
      "metadata": {
        "id": "XDEkFkED7O9z"
      },
      "execution_count": 2,
      "outputs": []
    },
    {
      "cell_type": "code",
      "source": [
        "for item in [1, 2, 3]:\n",
        "    pass # just looping through for now"
      ],
      "metadata": {
        "id": "Z_juYfAD7QsC"
      },
      "execution_count": 3,
      "outputs": []
    },
    {
      "cell_type": "code",
      "source": [
        "x = 10\n",
        "\n",
        "if x > 0:\n",
        "    pass # logic to be added later\n",
        "else:\n",
        "    print(\"x is not positive\")"
      ],
      "metadata": {
        "id": "cLPzxL7x7SHO"
      },
      "execution_count": 4,
      "outputs": []
    },
    {
      "cell_type": "markdown",
      "source": [
        "# Using Ellipses (…) as a pass Alternative"
      ],
      "metadata": {
        "id": "d3QPiq9z7Uvr"
      }
    },
    {
      "cell_type": "code",
      "source": [
        "def future_function():\n",
        "    ..."
      ],
      "metadata": {
        "id": "PK4GJfUK7TWx"
      },
      "execution_count": 5,
      "outputs": []
    }
  ]
}