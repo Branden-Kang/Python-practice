{
  "nbformat": 4,
  "nbformat_minor": 0,
  "metadata": {
    "colab": {
      "name": "Filtering a Python dict using flattening.ipynb",
      "provenance": [],
      "authorship_tag": "ABX9TyPQWnwPhzpHDtkumiK63v0v"
    },
    "kernelspec": {
      "name": "python3",
      "display_name": "Python 3"
    }
  },
  "cells": [
    {
      "cell_type": "markdown",
      "metadata": {
        "id": "JGEyh4D9v0uW"
      },
      "source": [
        "[Reference](https://medium.com/python-in-plain-english/filtering-a-python-dict-through-flattening-c5827097bc91)"
      ]
    },
    {
      "cell_type": "code",
      "metadata": {
        "colab": {
          "base_uri": "https://localhost:8080/"
        },
        "id": "uIM-w5SEv4I8",
        "outputId": "aae5ab15-d012-4d96-e5b6-ce0c31ccf726"
      },
      "source": [
        "!pip install flatten-dict"
      ],
      "execution_count": 1,
      "outputs": [
        {
          "output_type": "stream",
          "text": [
            "Collecting flatten-dict\n",
            "  Downloading https://files.pythonhosted.org/packages/9f/30/02e342a45b85c17cdf8238c7e9b612998fc59c7314e13fcd00fbb806dafb/flatten_dict-0.3.0-py2.py3-none-any.whl\n",
            "Requirement already satisfied: six<2.0,>=1.12 in /usr/local/lib/python3.6/dist-packages (from flatten-dict) (1.15.0)\n",
            "Collecting pathlib2<3.0,>=2.3\n",
            "  Downloading https://files.pythonhosted.org/packages/e9/45/9c82d3666af4ef9f221cbb954e1d77ddbb513faf552aea6df5f37f1a4859/pathlib2-2.3.5-py2.py3-none-any.whl\n",
            "Installing collected packages: pathlib2, flatten-dict\n",
            "Successfully installed flatten-dict-0.3.0 pathlib2-2.3.5\n"
          ],
          "name": "stdout"
        }
      ]
    },
    {
      "cell_type": "code",
      "metadata": {
        "id": "U2M4GcnevYRA"
      },
      "source": [
        "user = {\n",
        "    \"name\": \"Bob Robertson\",\n",
        "    \"classification\": {\n",
        "        \"kingdom\": \"animalia\",\n",
        "        \"phylum\": \"chordata\",\n",
        "        \"class\": \"mammalia\",\n",
        "        \"order\": \"primates\",\n",
        "        \"suborder\": \"haplorhini\",\n",
        "        \"infraorder\": \"simiiformes\",\n",
        "        \"family\": \"hominidae\",\n",
        "        \"subfamily\": \"homininae\",\n",
        "        \"tribe\": \"hominini\",\n",
        "        \"genus\": \"homo\",\n",
        "        \"species\": \"h. sapiens\",\n",
        "    },\n",
        "    \"statistics\": {\n",
        "        \"dimensions\": {\n",
        "            \"height_cm\": 194.2,\n",
        "            \"weight_kg\": 96.52,\n",
        "        },\n",
        "        \"digits\": {\n",
        "            \"toes\": 10,\n",
        "            \"fingers\": 10,\n",
        "        }\n",
        "    },\n",
        "}"
      ],
      "execution_count": 2,
      "outputs": []
    },
    {
      "cell_type": "code",
      "metadata": {
        "id": "TNCeOlyZv56x"
      },
      "source": [
        "from flatten_dict import flatten\n",
        "\n",
        "flattened_user_doc = flatten(user, reducer=\"dot\")"
      ],
      "execution_count": 4,
      "outputs": []
    },
    {
      "cell_type": "code",
      "metadata": {
        "colab": {
          "base_uri": "https://localhost:8080/"
        },
        "id": "-_5-U_t2v8uC",
        "outputId": "8b0cab5f-2f7d-4a7c-b158-0c8b91fff9f6"
      },
      "source": [
        "flattened_user_doc"
      ],
      "execution_count": 5,
      "outputs": [
        {
          "output_type": "execute_result",
          "data": {
            "text/plain": [
              "{'classification.class': 'mammalia',\n",
              " 'classification.family': 'hominidae',\n",
              " 'classification.genus': 'homo',\n",
              " 'classification.infraorder': 'simiiformes',\n",
              " 'classification.kingdom': 'animalia',\n",
              " 'classification.order': 'primates',\n",
              " 'classification.phylum': 'chordata',\n",
              " 'classification.species': 'h. sapiens',\n",
              " 'classification.subfamily': 'homininae',\n",
              " 'classification.suborder': 'haplorhini',\n",
              " 'classification.tribe': 'hominini',\n",
              " 'name': 'Bob Robertson',\n",
              " 'statistics.digits.fingers': 10,\n",
              " 'statistics.digits.toes': 10,\n",
              " 'statistics.dimensions.height_cm': 194.2,\n",
              " 'statistics.dimensions.weight_kg': 96.52}"
            ]
          },
          "metadata": {
            "tags": []
          },
          "execution_count": 5
        }
      ]
    },
    {
      "cell_type": "code",
      "metadata": {
        "id": "vbgMDcJlwAtp"
      },
      "source": [
        "import re\n",
        "\n",
        "filters = [\n",
        "    re.compile(\"^name$\"),\n",
        "    re.compile(\"^classification.species$\"),\n",
        "    re.compile(\"^statistics.dimensions\"),\n",
        "]\n",
        "\n",
        "filtered_flattened_user_doc = {\n",
        "    k: v\n",
        "    for k, v in flattened_user_doc.items()\n",
        "    if [True for f in filters if f.match(k)]\n",
        "}\n",
        "\n",
        "from flatten_dict import unflatten\n",
        "\n",
        "filtered_user_doc = unflatten(filtered_flattened_user_doc, splitter=\"dot\")"
      ],
      "execution_count": 7,
      "outputs": []
    },
    {
      "cell_type": "code",
      "metadata": {
        "colab": {
          "base_uri": "https://localhost:8080/"
        },
        "id": "ZZHDeiuVwH0R",
        "outputId": "87ebc9c8-0fc1-43bf-e6a3-e071647eade4"
      },
      "source": [
        "filtered_flattened_user_doc"
      ],
      "execution_count": 8,
      "outputs": [
        {
          "output_type": "execute_result",
          "data": {
            "text/plain": [
              "{'classification.species': 'h. sapiens',\n",
              " 'name': 'Bob Robertson',\n",
              " 'statistics.dimensions.height_cm': 194.2,\n",
              " 'statistics.dimensions.weight_kg': 96.52}"
            ]
          },
          "metadata": {
            "tags": []
          },
          "execution_count": 8
        }
      ]
    },
    {
      "cell_type": "code",
      "metadata": {
        "colab": {
          "base_uri": "https://localhost:8080/"
        },
        "id": "7JMQpr5QwJ3q",
        "outputId": "2a5d6b15-df28-4aea-d0a5-dff62793a674"
      },
      "source": [
        "filtered_user_doc"
      ],
      "execution_count": 9,
      "outputs": [
        {
          "output_type": "execute_result",
          "data": {
            "text/plain": [
              "{'classification': {'species': 'h. sapiens'},\n",
              " 'name': 'Bob Robertson',\n",
              " 'statistics': {'dimensions': {'height_cm': 194.2, 'weight_kg': 96.52}}}"
            ]
          },
          "metadata": {
            "tags": []
          },
          "execution_count": 9
        }
      ]
    }
  ]
}