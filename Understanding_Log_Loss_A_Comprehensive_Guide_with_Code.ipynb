{
  "nbformat": 4,
  "nbformat_minor": 0,
  "metadata": {
    "colab": {
      "provenance": [],
      "authorship_tag": "ABX9TyORJJOmNg4SkwO+5d0tcogZ"
    },
    "kernelspec": {
      "name": "python3",
      "display_name": "Python 3"
    },
    "language_info": {
      "name": "python"
    }
  },
  "cells": [
    {
      "cell_type": "markdown",
      "source": [
        "[Reference](https://medium.com/biased-algorithms/understanding-log-loss-a-comprehensive-guide-with-code-0a603bf3eff5)"
      ],
      "metadata": {
        "id": "4fNUk2h9-VTo"
      }
    },
    {
      "cell_type": "code",
      "execution_count": 1,
      "metadata": {
        "colab": {
          "base_uri": "https://localhost:8080/"
        },
        "id": "1i5dcUOb-SYf",
        "outputId": "a1b6fdf3-7e10-463e-9f52-5f919870f877"
      },
      "outputs": [
        {
          "output_type": "stream",
          "name": "stdout",
          "text": [
            "Log Loss: 0.22708064055624455\n"
          ]
        }
      ],
      "source": [
        "from sklearn.metrics import log_loss\n",
        "\n",
        "y_true = [1, 0, 1, 1]  # Actual labels\n",
        "y_pred = [0.9, 0.2, 0.8, 0.7]  # Predicted probabilities\n",
        "\n",
        "loss = log_loss(y_true, y_pred)\n",
        "print(f\"Log Loss: {loss}\")"
      ]
    },
    {
      "cell_type": "code",
      "source": [
        "from sklearn.metrics import log_loss\n",
        "\n",
        "# Actual labels (1 = spam, 0 = not spam)\n",
        "y_true = [1, 0, 0, 1, 1]\n",
        "\n",
        "# Predicted probabilities (model output)\n",
        "y_pred = [0.8, 0.1, 0.3, 0.9, 0.7]\n",
        "\n",
        "# Calculate log loss\n",
        "loss = log_loss(y_true, y_pred)\n",
        "print(f\"Log Loss: {loss}\")"
      ],
      "metadata": {
        "colab": {
          "base_uri": "https://localhost:8080/"
        },
        "id": "no1w7JhZ-Z_p",
        "outputId": "8716a822-ddd9-4475-cca8-7a319d0216a4"
      },
      "execution_count": 2,
      "outputs": [
        {
          "output_type": "stream",
          "name": "stdout",
          "text": [
            "Log Loss: 0.22944289410146546\n"
          ]
        }
      ]
    },
    {
      "cell_type": "code",
      "source": [
        "from sklearn.metrics import log_loss\n",
        "\n",
        "# Actual class labels (2 = bird, 1 = dog, 0 = cat)\n",
        "y_true = [2, 1, 0, 2]\n",
        "\n",
        "# Predicted probabilities for each class (cat, dog, bird)\n",
        "y_pred = [\n",
        "    [0.1, 0.3, 0.6],  # Sample 1 predicted probabilities\n",
        "    [0.3, 0.5, 0.2],  # Sample 2 predicted probabilities\n",
        "    [0.7, 0.2, 0.1],  # Sample 3 predicted probabilities\n",
        "    [0.2, 0.2, 0.6]   # Sample 4 predicted probabilities\n",
        "]\n",
        "\n",
        "# Calculate log loss\n",
        "loss = log_loss(y_true, y_pred)\n",
        "print(f\"Log Loss (Multi-Class): {loss}\")"
      ],
      "metadata": {
        "colab": {
          "base_uri": "https://localhost:8080/"
        },
        "id": "Bt_UPX70-bVp",
        "outputId": "6257701f-68b3-4684-aa9b-6ca23d3deb95"
      },
      "execution_count": 3,
      "outputs": [
        {
          "output_type": "stream",
          "name": "stdout",
          "text": [
            "Log Loss (Multi-Class): 0.5178683430076647\n"
          ]
        }
      ]
    },
    {
      "cell_type": "markdown",
      "source": [
        "```\n",
        "from sklearn.calibration import CalibratedClassifierCV\n",
        "\n",
        "# Assuming you have a trained model 'clf'\n",
        "calibrated_clf = CalibratedClassifierCV(clf, method='sigmoid')\n",
        "calibrated_clf.fit(X_train, y_train)\n",
        "```"
      ],
      "metadata": {
        "id": "h1O_MNpc-hWj"
      }
    },
    {
      "cell_type": "markdown",
      "source": [
        "```\n",
        "from sklearn.calibration import CalibratedClassifierCV\n",
        "\n",
        "# Assuming you have a trained model 'clf'\n",
        "calibrated_clf = CalibratedClassifierCV(clf, method='sigmoid')\n",
        "calibrated_clf.fit(X_train, y_train)\n",
        "```"
      ],
      "metadata": {
        "id": "KypQ73uL-joL"
      }
    }
  ]
}