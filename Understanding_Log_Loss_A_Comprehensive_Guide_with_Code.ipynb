{
  "nbformat": 4,
  "nbformat_minor": 0,
  "metadata": {
    "colab": {
      "provenance": [],
      "authorship_tag": "ABX9TyN3xV8i+1wOx2mP6I40fj5g"
    },
    "kernelspec": {
      "name": "python3",
      "display_name": "Python 3"
    },
    "language_info": {
      "name": "python"
    }
  },
  "cells": [
    {
      "cell_type": "markdown",
      "source": [
        "[Reference](https://medium.com/biased-algorithms/understanding-log-loss-a-comprehensive-guide-with-code-0a603bf3eff5)"
      ],
      "metadata": {
        "id": "fSgwBTXOlfEW"
      }
    },
    {
      "cell_type": "markdown",
      "source": [
        "# Implementation in Python"
      ],
      "metadata": {
        "id": "xe6A0sxymNcc"
      }
    },
    {
      "cell_type": "code",
      "execution_count": 1,
      "metadata": {
        "colab": {
          "base_uri": "https://localhost:8080/"
        },
        "id": "desfyKwEk_Q-",
        "outputId": "1f9116a7-ec26-4830-dd31-ebb7b6223786"
      },
      "outputs": [
        {
          "output_type": "stream",
          "name": "stdout",
          "text": [
            "Log Loss: 0.22708064055624455\n"
          ]
        }
      ],
      "source": [
        "from sklearn.metrics import log_loss\n",
        "\n",
        "y_true = [1, 0, 1, 1]  # Actual labels\n",
        "y_pred = [0.9, 0.2, 0.8, 0.7]  # Predicted probabilities\n",
        "\n",
        "loss = log_loss(y_true, y_pred)\n",
        "print(f\"Log Loss: {loss}\")"
      ]
    },
    {
      "cell_type": "markdown",
      "source": [
        "# Binary Classification"
      ],
      "metadata": {
        "id": "SPZA2KpImPMc"
      }
    },
    {
      "cell_type": "code",
      "source": [
        "from sklearn.metrics import log_loss\n",
        "\n",
        "# Actual labels (1 = spam, 0 = not spam)\n",
        "y_true = [1, 0, 0, 1, 1]\n",
        "\n",
        "# Predicted probabilities (model output)\n",
        "y_pred = [0.8, 0.1, 0.3, 0.9, 0.7]\n",
        "\n",
        "# Calculate log loss\n",
        "loss = log_loss(y_true, y_pred)\n",
        "print(f\"Log Loss: {loss}\")"
      ],
      "metadata": {
        "colab": {
          "base_uri": "https://localhost:8080/"
        },
        "id": "uQmpwu0OmDQZ",
        "outputId": "53424bb7-2998-4b86-ac3f-3a23485d19b2"
      },
      "execution_count": 2,
      "outputs": [
        {
          "output_type": "stream",
          "name": "stdout",
          "text": [
            "Log Loss: 0.22944289410146546\n"
          ]
        }
      ]
    },
    {
      "cell_type": "markdown",
      "source": [
        "# Multi-Class Classification"
      ],
      "metadata": {
        "id": "8_25PZ4SmXvE"
      }
    },
    {
      "cell_type": "code",
      "source": [
        "from sklearn.metrics import log_loss\n",
        "\n",
        "# Actual class labels (2 = bird, 1 = dog, 0 = cat)\n",
        "y_true = [2, 1, 0, 2]\n",
        "\n",
        "# Predicted probabilities for each class (cat, dog, bird)\n",
        "y_pred = [\n",
        "    [0.1, 0.3, 0.6],  # Sample 1 predicted probabilities\n",
        "    [0.3, 0.5, 0.2],  # Sample 2 predicted probabilities\n",
        "    [0.7, 0.2, 0.1],  # Sample 3 predicted probabilities\n",
        "    [0.2, 0.2, 0.6]   # Sample 4 predicted probabilities\n",
        "]\n",
        "\n",
        "# Calculate log loss\n",
        "loss = log_loss(y_true, y_pred)\n",
        "print(f\"Log Loss (Multi-Class): {loss}\")"
      ],
      "metadata": {
        "colab": {
          "base_uri": "https://localhost:8080/"
        },
        "id": "mdu82RMimR0_",
        "outputId": "aadc3d22-7e73-46a5-e612-f40000e7434c"
      },
      "execution_count": 3,
      "outputs": [
        {
          "output_type": "stream",
          "name": "stdout",
          "text": [
            "Log Loss (Multi-Class): 0.5178683430076647\n"
          ]
        }
      ]
    },
    {
      "cell_type": "markdown",
      "source": [
        "# Calibrating Model Predictions"
      ],
      "metadata": {
        "id": "i1FGZ1yTmk0B"
      }
    },
    {
      "cell_type": "code",
      "source": [
        "from sklearn.calibration import CalibratedClassifierCV\n",
        "\n",
        "# Assuming you have a trained model 'clf'\n",
        "calibrated_clf = CalibratedClassifierCV(clf, method='sigmoid')\n",
        "calibrated_clf.fit(X_train, y_train)\n",
        "\n",
        "from sklearn.linear_model import LogisticRegression\n",
        "\n",
        "# Logistic regression with L2 regularization\n",
        "model = LogisticRegression(penalty='l2', C=1.0)  # C controls regularization strength\n",
        "model.fit(X_train, y_train)"
      ],
      "metadata": {
        "id": "a6e2Iz3HmbeX"
      },
      "execution_count": 5,
      "outputs": []
    }
  ]
}