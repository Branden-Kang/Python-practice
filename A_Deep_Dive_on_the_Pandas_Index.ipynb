{
  "nbformat": 4,
  "nbformat_minor": 0,
  "metadata": {
    "colab": {
      "provenance": [],
      "authorship_tag": "ABX9TyMijYPVXK0bzNrNP5EJzyuL"
    },
    "kernelspec": {
      "name": "python3",
      "display_name": "Python 3"
    },
    "language_info": {
      "name": "python"
    }
  },
  "cells": [
    {
      "cell_type": "markdown",
      "source": [
        "[Reference](https://medium.com/data-professor/day-10-of-the-66-days-of-data-77e64664d19e)"
      ],
      "metadata": {
        "id": "3W4ga5m2VsYX"
      }
    },
    {
      "cell_type": "code",
      "source": [
        "import pandas as pd"
      ],
      "metadata": {
        "id": "dWhMN73CV4Ke"
      },
      "execution_count": 2,
      "outputs": []
    },
    {
      "cell_type": "code",
      "execution_count": 3,
      "metadata": {
        "colab": {
          "base_uri": "https://localhost:8080/"
        },
        "id": "cI5IwnGmVdQI",
        "outputId": "39eab594-3f08-4209-9ab6-75a937b0b304"
      },
      "outputs": [
        {
          "output_type": "execute_result",
          "data": {
            "text/plain": [
              "Index(['X', 'Y'], dtype='object')"
            ]
          },
          "metadata": {},
          "execution_count": 3
        }
      ],
      "source": [
        "# Create a Pandas DataFrame\n",
        "df = pd.DataFrame({\"X\": [1, 2, 3], \"Y\": [4, 5, 6]})\n",
        "\n",
        "# To print the Index (row names) of a DataFrame\n",
        "df.index\n",
        "\n",
        "# To print the column names of a DataFrame\n",
        "df.columns"
      ]
    },
    {
      "cell_type": "code",
      "source": [
        "# Create a Pandas Series\n",
        "s1 = pd.Series([1, 2, 3])\n",
        "\n",
        "# To print the Series name\n",
        "s1.name"
      ],
      "metadata": {
        "id": "1Wsg8E8gVyFh"
      },
      "execution_count": 4,
      "outputs": []
    }
  ]
}