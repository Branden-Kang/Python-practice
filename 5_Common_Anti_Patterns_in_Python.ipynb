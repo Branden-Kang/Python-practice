{
  "nbformat": 4,
  "nbformat_minor": 0,
  "metadata": {
    "colab": {
      "name": "5 Common Anti-Patterns in Python.ipynb",
      "provenance": [],
      "authorship_tag": "ABX9TyP9vF+xZjq3ibuq23soLbPu"
    },
    "kernelspec": {
      "name": "python3",
      "display_name": "Python 3"
    },
    "language_info": {
      "name": "python"
    }
  },
  "cells": [
    {
      "cell_type": "markdown",
      "metadata": {
        "id": "UyTAIXWBj3Qo"
      },
      "source": [
        "[Reference](https://betterprogramming.pub/5-common-anti-patterns-in-python-a9d6443fabe4)"
      ]
    },
    {
      "cell_type": "code",
      "metadata": {
        "colab": {
          "base_uri": "https://localhost:8080/"
        },
        "id": "tGp5apE4i0IZ",
        "outputId": "1bd31a63-3a97-4a24-9904-10af93580f14"
      },
      "source": [
        "my_list = [1, 2, 3, 4 ,5, 6, 7, 8, 9, 10]\n",
        "\n",
        "# Multiply each element by 2\n",
        "print(list(map(lambda x: x * 2, my_list)))\n",
        "\n",
        "# Filters out even numbers\n",
        "print(list(filter(lambda x: x % 2 == 0, my_list))) "
      ],
      "execution_count": 1,
      "outputs": [
        {
          "output_type": "stream",
          "text": [
            "[2, 4, 6, 8, 10, 12, 14, 16, 18, 20]\n",
            "[2, 4, 6, 8, 10]\n"
          ],
          "name": "stdout"
        }
      ]
    },
    {
      "cell_type": "code",
      "metadata": {
        "colab": {
          "base_uri": "https://localhost:8080/"
        },
        "id": "SeM9Cvanj8-Y",
        "outputId": "90ce494a-fd2f-4309-e729-a3a119b3f2cf"
      },
      "source": [
        "my_list = [1, 2, 3, 4, 5, 6, 7, 8, 9, 10]\n",
        "\n",
        "# Same as map\n",
        "print([x * 2 for x in my_list])\n",
        "\n",
        "# Same as filter\n",
        "print([x for x in my_list if x % 2 == 0])"
      ],
      "execution_count": 2,
      "outputs": [
        {
          "output_type": "stream",
          "text": [
            "[2, 4, 6, 8, 10, 12, 14, 16, 18, 20]\n",
            "[2, 4, 6, 8, 10]\n"
          ],
          "name": "stdout"
        }
      ]
    },
    {
      "cell_type": "code",
      "metadata": {
        "colab": {
          "base_uri": "https://localhost:8080/"
        },
        "id": "_s_kl4LJj_Dn",
        "outputId": "68e37543-4a5f-400d-87b3-82c39fe60db9"
      },
      "source": [
        "my_list = [1, 2, 3, 4 ,5, 6, 7, 8, 9, 10]\n",
        "\n",
        "my_gen_expr = (x * 2 for x in my_list)\n",
        "\n",
        "print(next(my_gen_expr))\n",
        "print(next(my_gen_expr))\n",
        "\n",
        "for x in my_gen_expr:\n",
        "    print(x)"
      ],
      "execution_count": 3,
      "outputs": [
        {
          "output_type": "stream",
          "text": [
            "2\n",
            "4\n",
            "6\n",
            "8\n",
            "10\n",
            "12\n",
            "14\n",
            "16\n",
            "18\n",
            "20\n"
          ],
          "name": "stdout"
        }
      ]
    },
    {
      "cell_type": "code",
      "metadata": {
        "colab": {
          "base_uri": "https://localhost:8080/"
        },
        "id": "Op1IIXhkkDKv",
        "outputId": "196d3131-e6a7-4e56-9f69-a40ca3fbe743"
      },
      "source": [
        "my_list = [2, 4, 6, 8, 10]\n",
        "\n",
        "for item in my_list:\n",
        "    print(item)"
      ],
      "execution_count": 4,
      "outputs": [
        {
          "output_type": "stream",
          "text": [
            "2\n",
            "4\n",
            "6\n",
            "8\n",
            "10\n"
          ],
          "name": "stdout"
        }
      ]
    },
    {
      "cell_type": "code",
      "metadata": {
        "colab": {
          "base_uri": "https://localhost:8080/"
        },
        "id": "nFRgPMszkFed",
        "outputId": "093d138d-8a4b-46e1-c252-9c197128b6ff"
      },
      "source": [
        "my_list = [2, 4, 6, 8, 10]\n",
        "\n",
        "for i in range(len(my_list)):\n",
        "    print(\"index: \", i, \"value: \", my_list[i])"
      ],
      "execution_count": 5,
      "outputs": [
        {
          "output_type": "stream",
          "text": [
            "index:  0 value:  2\n",
            "index:  1 value:  4\n",
            "index:  2 value:  6\n",
            "index:  3 value:  8\n",
            "index:  4 value:  10\n"
          ],
          "name": "stdout"
        }
      ]
    },
    {
      "cell_type": "code",
      "metadata": {
        "colab": {
          "base_uri": "https://localhost:8080/"
        },
        "id": "Nx6T8Y6hkHJu",
        "outputId": "f1915187-2389-41a9-e792-9bdcd72e9ba6"
      },
      "source": [
        "my_list = [2, 4, 6, 8, 10]\n",
        "\n",
        "for i, v in enumerate(my_list):\n",
        "    print(\"index: \", i, \"value: \", v)"
      ],
      "execution_count": 6,
      "outputs": [
        {
          "output_type": "stream",
          "text": [
            "index:  0 value:  2\n",
            "index:  1 value:  4\n",
            "index:  2 value:  6\n",
            "index:  3 value:  8\n",
            "index:  4 value:  10\n"
          ],
          "name": "stdout"
        }
      ]
    },
    {
      "cell_type": "code",
      "metadata": {
        "colab": {
          "base_uri": "https://localhost:8080/",
          "height": 232
        },
        "id": "gB3OZFdmkIf2",
        "outputId": "30373764-29f4-4578-c4ba-65fd5bd1e878"
      },
      "source": [
        "crypto_price = {\n",
        "  \"Bitcoin\": 64000,\n",
        "  \"Ethereum\": 2300,\n",
        "  \"Dogecoin\": 0.12\n",
        "}\n",
        "\n",
        "crypto_price[\"XRP\"]"
      ],
      "execution_count": 7,
      "outputs": [
        {
          "output_type": "error",
          "ename": "KeyError",
          "evalue": "ignored",
          "traceback": [
            "\u001b[0;31m---------------------------------------------------------------------------\u001b[0m",
            "\u001b[0;31mKeyError\u001b[0m                                  Traceback (most recent call last)",
            "\u001b[0;32m<ipython-input-7-58a57fd43ba6>\u001b[0m in \u001b[0;36m<module>\u001b[0;34m()\u001b[0m\n\u001b[1;32m      5\u001b[0m }\n\u001b[1;32m      6\u001b[0m \u001b[0;34m\u001b[0m\u001b[0m\n\u001b[0;32m----> 7\u001b[0;31m \u001b[0mcrypto_price\u001b[0m\u001b[0;34m[\u001b[0m\u001b[0;34m\"XRP\"\u001b[0m\u001b[0;34m]\u001b[0m\u001b[0;34m\u001b[0m\u001b[0;34m\u001b[0m\u001b[0m\n\u001b[0m",
            "\u001b[0;31mKeyError\u001b[0m: 'XRP'"
          ]
        }
      ]
    },
    {
      "cell_type": "code",
      "metadata": {
        "colab": {
          "base_uri": "https://localhost:8080/"
        },
        "id": "GbHw7JjckJ-0",
        "outputId": "94a7e424-0f91-4c8f-8155-7e7c15a9d6d1"
      },
      "source": [
        "key = \"XRP\"\n",
        "\n",
        "if key not in crypto_price:\n",
        "    crypto_price[key] = 1.2\n",
        "    \n",
        "print(crypto_price[key])"
      ],
      "execution_count": 8,
      "outputs": [
        {
          "output_type": "stream",
          "text": [
            "1.2\n"
          ],
          "name": "stdout"
        }
      ]
    },
    {
      "cell_type": "code",
      "metadata": {
        "id": "O9Nfi7fHkLbe"
      },
      "source": [
        "key = \"XRP\"\n",
        "\n",
        "try:\n",
        "    xrp = crypto_price[key]\n",
        "\n",
        "except KeyError:\n",
        "    xrp = 1.2\n",
        "    \n",
        "crypto_price[key] = xrp"
      ],
      "execution_count": 10,
      "outputs": []
    },
    {
      "cell_type": "code",
      "metadata": {
        "id": "InjBNCIZkMpI"
      },
      "source": [
        "key = \"XRP\"\n",
        "\n",
        "if crypto_price.get(\"XRP\") is None:\n",
        "  crypto_price[\"XRP\"] = 1.2"
      ],
      "execution_count": 11,
      "outputs": []
    },
    {
      "cell_type": "code",
      "metadata": {
        "colab": {
          "base_uri": "https://localhost:8080/"
        },
        "id": "p6dt0c05kRSN",
        "outputId": "78723313-2380-4fb7-f62c-cb320788f827"
      },
      "source": [
        "ada = crypto_price.get(\"ADA\", 0)\n",
        "\n",
        "# Prints 0\n",
        "print(ada)"
      ],
      "execution_count": 12,
      "outputs": [
        {
          "output_type": "stream",
          "text": [
            "0\n"
          ],
          "name": "stdout"
        }
      ]
    },
    {
      "cell_type": "code",
      "metadata": {
        "colab": {
          "base_uri": "https://localhost:8080/"
        },
        "id": "_YvPXl5jkSsD",
        "outputId": "4dee602b-2c3b-4164-db50-8ebc0a19e1bb"
      },
      "source": [
        "# Compound Interest calculator compounded annually/monthly\n",
        "def calculate_compound_interest(principal, rate, time_in_years,\n",
        "                                compounded_monthly, to_string):\n",
        "  t = 1\n",
        "  if compounded_monthly:\n",
        "    t = 12\n",
        "  amt = principal * (1 + rate/(t * 100)) ** (time_in_years * t)\n",
        "  if to_string:\n",
        "    return f\"${amt - principal:.2f}\"\n",
        "\n",
        "  return amt - principal\n",
        "   \n",
        "  \n",
        "calculate_compound_interest(100, 5, 2, False, False)"
      ],
      "execution_count": 13,
      "outputs": [
        {
          "output_type": "execute_result",
          "data": {
            "text/plain": [
              "10.25"
            ]
          },
          "metadata": {
            "tags": []
          },
          "execution_count": 13
        }
      ]
    },
    {
      "cell_type": "code",
      "metadata": {
        "id": "Ze91zVN1kU_1"
      },
      "source": [
        "# Compound Interest calculator compounded annually/monthly\n",
        "def calculate_compound_interest(principal, rate, time_in_years,\n",
        "                                compounded_monthly=False, to_string=False):\n",
        "  t = 1\n",
        "  if compounded_monthly:\n",
        "    t = 12\n",
        "  amt = principal * (1 + rate/(t * 100)) ** (time_in_years * t)\n",
        "  if to_string:\n",
        "    return f\"${amt - principal:.2f}\"\n",
        "\n",
        "  return amt - principal"
      ],
      "execution_count": 14,
      "outputs": []
    },
    {
      "cell_type": "code",
      "metadata": {
        "colab": {
          "base_uri": "https://localhost:8080/"
        },
        "id": "FrvGr9yrkaHj",
        "outputId": "15861bc7-e720-4426-d0ce-8d879648afbe"
      },
      "source": [
        "calculate_compound_interest(100, 5, 2, compounded_monthly=True)"
      ],
      "execution_count": 15,
      "outputs": [
        {
          "output_type": "execute_result",
          "data": {
            "text/plain": [
              "10.49413355583269"
            ]
          },
          "metadata": {
            "tags": []
          },
          "execution_count": 15
        }
      ]
    },
    {
      "cell_type": "code",
      "metadata": {
        "colab": {
          "base_uri": "https://localhost:8080/",
          "height": 37
        },
        "id": "HzQmMp09kaaa",
        "outputId": "78fa4509-37d5-4f05-94e7-3b81b0e35637"
      },
      "source": [
        "calculate_compound_interest(100, 5, 2, to_string=True)"
      ],
      "execution_count": 16,
      "outputs": [
        {
          "output_type": "execute_result",
          "data": {
            "application/vnd.google.colaboratory.intrinsic+json": {
              "type": "string"
            },
            "text/plain": [
              "'$10.25'"
            ]
          },
          "metadata": {
            "tags": []
          },
          "execution_count": 16
        }
      ]
    }
  ]
}