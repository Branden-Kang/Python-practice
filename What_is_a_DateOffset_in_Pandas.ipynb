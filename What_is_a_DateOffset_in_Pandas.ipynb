{
  "nbformat": 4,
  "nbformat_minor": 0,
  "metadata": {
    "colab": {
      "provenance": [],
      "authorship_tag": "ABX9TyMyip1VBzTRTwBE6dUtw2IT"
    },
    "kernelspec": {
      "name": "python3",
      "display_name": "Python 3"
    },
    "language_info": {
      "name": "python"
    }
  },
  "cells": [
    {
      "cell_type": "markdown",
      "source": [
        "[Reference](https://medium.com/@anala007/what-is-a-dateoffset-in-pandas-fe2f69c02e2)"
      ],
      "metadata": {
        "id": "OlIZ_DKbFX8K"
      }
    },
    {
      "cell_type": "code",
      "execution_count": 1,
      "metadata": {
        "colab": {
          "base_uri": "https://localhost:8080/"
        },
        "id": "TyJEVhiNFWO6",
        "outputId": "1bc30fdf-2387-4f9e-9b74-d3fb072016f9"
      },
      "outputs": [
        {
          "output_type": "stream",
          "name": "stdout",
          "text": [
            "Original Value:  2022-12-01 00:00:00\n",
            "Using DateOffset:  2022-12-15 00:00:00\n"
          ]
        }
      ],
      "source": [
        "import pandas as pd\n",
        "from pandas.tseries.offsets import * \n",
        "import pandas as pd\n",
        "from pandas.tseries.offsets import * \n",
        "dt = pd.to_datetime('2022-12-01')\n",
        "print('Original Value: ', dt) \n",
        "print('Using DateOffset: ', dt + DateOffset(weeks=2))"
      ]
    },
    {
      "cell_type": "code",
      "source": [
        "from dateutil.relativedelta import relativedelta\n",
        "dt = pd.to_datetime('2022-12-01')\n",
        "print('Original Value: ', dt) \n",
        "print('Using relativedelta: ', dt + relativedelta(weeks=2))"
      ],
      "metadata": {
        "colab": {
          "base_uri": "https://localhost:8080/"
        },
        "id": "jdHWkAzDFcss",
        "outputId": "1ae806aa-f543-4b94-f2ab-91d9615106f3"
      },
      "execution_count": 2,
      "outputs": [
        {
          "output_type": "stream",
          "name": "stdout",
          "text": [
            "Original Value:  2022-12-01 00:00:00\n",
            "Using relativedelta:  2022-12-15 00:00:00\n"
          ]
        }
      ]
    },
    {
      "cell_type": "code",
      "source": [
        "dt = pd.to_datetime('2022-12-05')\n",
        "print('Original Value: ', dt, ' ', dt.day_name()) \n",
        "dt_1 = dt + DateOffset(days = 4)\n",
        "print('New Value: ', dt_1, ' ', dt_1.day_name())"
      ],
      "metadata": {
        "id": "let5TcgMFfbT",
        "outputId": "304af4cf-7343-4735-e840-68797ad317f0",
        "colab": {
          "base_uri": "https://localhost:8080/"
        }
      },
      "execution_count": 3,
      "outputs": [
        {
          "output_type": "stream",
          "name": "stdout",
          "text": [
            "Original Value:  2022-12-05 00:00:00   Monday\n",
            "New Value:  2022-12-09 00:00:00   Friday\n"
          ]
        }
      ]
    },
    {
      "cell_type": "code",
      "source": [
        "dt = pd.to_datetime('2022-12-05')\n",
        "print('Original Value: ', dt, ' ', dt.day_name()) \n",
        "dt_1 = dt + DateOffset(days = -2)\n",
        "print('New Value: ', dt_1, ' ', dt_1.day_name())"
      ],
      "metadata": {
        "id": "trUkp5opFiJj",
        "outputId": "9c24d288-586f-4fd1-8850-85747265ac25",
        "colab": {
          "base_uri": "https://localhost:8080/"
        }
      },
      "execution_count": 4,
      "outputs": [
        {
          "output_type": "stream",
          "name": "stdout",
          "text": [
            "Original Value:  2022-12-05 00:00:00   Monday\n",
            "New Value:  2022-12-03 00:00:00   Saturday\n"
          ]
        }
      ]
    },
    {
      "cell_type": "code",
      "source": [],
      "metadata": {
        "id": "VHGcY668Fjn-"
      },
      "execution_count": 4,
      "outputs": []
    }
  ]
}