{
  "nbformat": 4,
  "nbformat_minor": 0,
  "metadata": {
    "colab": {
      "provenance": [],
      "authorship_tag": "ABX9TyO1qFDQlb5h6yX+asJ/xAkM"
    },
    "kernelspec": {
      "name": "python3",
      "display_name": "Python 3"
    },
    "language_info": {
      "name": "python"
    }
  },
  "cells": [
    {
      "cell_type": "markdown",
      "source": [
        "[Reference](https://python.plainenglish.io/how-to-implement-pagination-using-fastapi-in-python-6d57be902fd5)"
      ],
      "metadata": {
        "id": "46bSS1vXWbyl"
      }
    },
    {
      "cell_type": "code",
      "source": [
        "# !pip install fastapi\n",
        "# !pip install uvicorn\n",
        "# !uvicorn my_pagination:app --reload"
      ],
      "metadata": {
        "id": "IHr8US5UWjkK"
      },
      "execution_count": 1,
      "outputs": []
    },
    {
      "cell_type": "markdown",
      "source": [
        "# Python Code to connect to MySQL database:"
      ],
      "metadata": {
        "id": "PiCJF-O_WreX"
      }
    },
    {
      "cell_type": "code",
      "source": [
        "from sqlalchemy import create_engine, text\n",
        "from sqlalchemy.exc import SQLAlchemyError\n",
        "from sqlalchemy.orm import sessionmaker\n",
        "from urllib.parse import quote\n",
        "\n",
        "\n",
        "def connect_to_db():\n",
        "\n",
        "    connection_url = \"mysql+pymysql://<username>:<password>@<hostname>:3306/<databasename>\"\n",
        "\n",
        "    try:\n",
        "        engine = create_engine(url=connection_url)\n",
        "\n",
        "        # create a session\n",
        "        session = sessionmaker(bind=engine)\n",
        "        conn = session()\n",
        "\n",
        "        if session:\n",
        "            return conn\n",
        "\n",
        "    except SQLAlchemyError as se:\n",
        "        print(se)"
      ],
      "metadata": {
        "id": "7RI3TbxpWqun"
      },
      "execution_count": 3,
      "outputs": []
    },
    {
      "cell_type": "markdown",
      "source": [
        "# Populate fake data to mysql using Faker:"
      ],
      "metadata": {
        "id": "Lks7kineWt69"
      }
    },
    {
      "cell_type": "code",
      "source": [
        "pip install Faker"
      ],
      "metadata": {
        "id": "RG_SM6Z5Wu1-"
      },
      "execution_count": 4,
      "outputs": []
    },
    {
      "cell_type": "code",
      "source": [
        "def insert_fake_data_to_db():\n",
        "    fake = Faker()\n",
        "    for i in range(1000):\n",
        "        name = fake.name()\n",
        "        id = random.randint(0, 2000)\n",
        "        dept = random.randint(10, 20)\n",
        "        dob = fake.date_of_birth()\n",
        "        loc = fake.country()\n",
        "\n",
        "        # prepare the insert query\n",
        "        sql = text(\"insert into employee(empid, empname, dept, location, dob) values ({},'{}',{},'{}','{}')\".format(id, name, dept, loc, dob))\n",
        "\n",
        "        cnx = connect_to_db()\n",
        "\n",
        "        cnx.execute(sql)\n",
        "        cnx.commit()\n",
        "\n",
        "\n",
        "insert_fake_data_to_db()"
      ],
      "metadata": {
        "id": "XUAEusj9WyG3"
      },
      "execution_count": 5,
      "outputs": []
    },
    {
      "cell_type": "markdown",
      "source": [
        "# Database Schema using SQLAlchemy:"
      ],
      "metadata": {
        "id": "G8YtPw1JW7qr"
      }
    },
    {
      "cell_type": "code",
      "source": [
        "from sqlalchemy.orm import sessionmaker, declarative_base\n",
        "\n",
        "Base = declarative_base()\n",
        "\n",
        "app = FastAPI(title=\" A simple pagination learning exercise\",\n",
        "              debug=True)\n",
        "\n",
        "class Employee(Base):\n",
        "\n",
        "    __tablename__ = \"employee\"\n",
        "\n",
        "    empid = Column(Integer, primary_key=True)\n",
        "    empname = Column(String)\n",
        "    dept = Column(Integer)\n",
        "    location = Column(String)\n",
        "    dob = Column(Date)\n",
        "\n",
        "@app.get(path=\"/api/employees/all\", name=\"Gets all employees\")\n",
        "async def get_all_employees():\n",
        "    conn = connect_to_db()\n",
        "    results = conn.query(Employee).all()\n",
        "    return {\"all_employees\": results}"
      ],
      "metadata": {
        "id": "CTMr-5qgW8-s"
      },
      "execution_count": 7,
      "outputs": []
    },
    {
      "cell_type": "code",
      "source": [
        "from fastapi_pagination import Page, paginate, add_pagination\n",
        "from pydantic import BaseModel\n",
        "from fastapi import FastAPI\n",
        "from sqlalchemy.exc import SQLAlchemyError\n",
        "from sqlalchemy.orm import sessionmaker, declarative_base\n",
        "from datetime import date\n",
        "\n",
        "app = FastAPI(title=\" A simple pagination learning exercise\",\n",
        "              debug=True)\n",
        "add_pagination(app)\n",
        "\n",
        "class Employee(Base):\n",
        "\n",
        "    __tablename__ = \"employee\"\n",
        "\n",
        "    empid = Column(Integer, primary_key=True)\n",
        "    empname = Column(String)\n",
        "    dept = Column(Integer)\n",
        "    location = Column(String)\n",
        "    dob = Column(Date)\n",
        "\n",
        "class EmployeeOut(BaseModel):\n",
        "    empid: int\n",
        "    empname: str\n",
        "    dept: int\n",
        "    location: str\n",
        "    dob: date\n",
        "\n",
        "    class Config:\n",
        "        orm_mode = True\n",
        "\n",
        "@app.get(path=\"/api/employees/all\", name=\"Gets all employees\", response_model=Page[EmployeeOut])\n",
        "async def get_all_employees():\n",
        "    conn = connect_to_db()\n",
        "    results = conn.query(Employee).all()\n",
        "    return paginate(results)"
      ],
      "metadata": {
        "id": "Z4Z2ISU7XFdB"
      },
      "execution_count": 8,
      "outputs": []
    },
    {
      "cell_type": "code",
      "execution_count": 2,
      "metadata": {
        "id": "Q1Je5hJiV_IH"
      },
      "outputs": [],
      "source": [
        "from fastapi import FastAPI\n",
        "\n",
        "app = FastAPI(title=\" A simple pagination learning exercise\",\n",
        "              debug=True)\n",
        "\n",
        "\n",
        "@app.get(path=\"/api/hello\", name=\"hello endpoint\")\n",
        "async def hello():\n",
        "    return {\"exercise\": \"pagination\"}"
      ]
    }
  ]
}