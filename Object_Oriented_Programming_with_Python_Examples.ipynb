{
  "nbformat": 4,
  "nbformat_minor": 0,
  "metadata": {
    "colab": {
      "provenance": [],
      "authorship_tag": "ABX9TyM0I7ownAsSh0s2c/vQoECi"
    },
    "kernelspec": {
      "name": "python3",
      "display_name": "Python 3"
    },
    "language_info": {
      "name": "python"
    }
  },
  "cells": [
    {
      "cell_type": "markdown",
      "source": [
        "[Reference](https://pub.towardsai.net/object-oriented-programming-with-python-examples-38eb63a27e0e)"
      ],
      "metadata": {
        "id": "wbwL5AAaJuj9"
      }
    },
    {
      "cell_type": "code",
      "execution_count": 1,
      "metadata": {
        "colab": {
          "base_uri": "https://localhost:8080/"
        },
        "id": "APfUBTVVJRWh",
        "outputId": "814d18db-07e3-4801-cbae-f86738e3b446"
      },
      "outputs": [
        {
          "output_type": "stream",
          "name": "stdout",
          "text": [
            "John\n",
            "Name: John\n",
            "Age: 25\n",
            "Gender: Male\n"
          ]
        }
      ],
      "source": [
        "class Person:\n",
        "    def __init__(self, name, age, gender):\n",
        "        self.name = name\n",
        "        self.age = age\n",
        "        self.gender = gender\n",
        "\n",
        "    def display_details(self):\n",
        "        print(\"Name:\", self.name)\n",
        "        print(\"Age:\", self.age)\n",
        "        print(\"Gender:\", self.gender)\n",
        "\n",
        "    def say_hello(self):\n",
        "        print(\"Hello, my name is\", self.name)\n",
        "\n",
        "# Create objects of the Person class\n",
        "person1 = Person(\"John\", 25, \"Male\")\n",
        "\n",
        "# Access attributes of the objects\n",
        "print(person1.name)   # Output: \"John\"\n",
        "\n",
        "# Call methods on the objects\n",
        "person1.display_details()  # Output: Display details of person1"
      ]
    },
    {
      "cell_type": "code",
      "source": [
        "# Define a class\n",
        "class Dog:\n",
        "    def __init__(self, name, age):\n",
        "        self.name = name\n",
        "        self.age = age\n",
        "\n",
        "    def bark(self):\n",
        "        print(\"Woof!\")\n",
        "\n",
        "# instance/object creation of class Dog\n",
        "my_dog = Dog(\"Buddy\", 3)\n",
        "\n",
        "# Access attributes of the object\n",
        "print(my_dog.name)   # Output: \"Buddy\"\n",
        "print(my_dog.age)    # Output: 3\n",
        "\n",
        "# Call a method on the object\n",
        "my_dog.bark()        # Output: \"Woof!\""
      ],
      "metadata": {
        "colab": {
          "base_uri": "https://localhost:8080/"
        },
        "id": "PQn1wZuZJ1D-",
        "outputId": "eabfdd77-b9c1-47ab-aaf7-3a3a7d07a9c2"
      },
      "execution_count": 4,
      "outputs": [
        {
          "output_type": "stream",
          "name": "stdout",
          "text": [
            "Buddy\n",
            "3\n",
            "Woof!\n"
          ]
        }
      ]
    },
    {
      "cell_type": "code",
      "source": [
        "class BankAccount:\n",
        "    def __init__(self, account_number, balance=0):\n",
        "        self.__account_number = account_number     # private attribute\n",
        "        self._balance = balance                   # protected attribute\n",
        "\n",
        "    def display_details(self):\n",
        "        print(\"Account Number:\", self.__account_number)\n",
        "        print(\"Balance:\", self._balance)\n",
        "\n",
        "    def deposit(self, amount):\n",
        "        if amount > 0:\n",
        "            self._balance += amount\n",
        "            print(\"Deposited:\", amount)\n",
        "        else:\n",
        "            print(\"Invalid deposit amount.\")\n",
        "\n",
        "    def withdraw(self, amount):\n",
        "        if amount > 0 and amount <= self._balance:\n",
        "            self._balance -= amount\n",
        "            print(\"Withdrawn:\", amount)\n",
        "        else:\n",
        "            print(\"Invalid withdrawal amount or insufficient balance.\")\n",
        "\n",
        "# Create an object of the BankAccount class\n",
        "account = BankAccount(\"A001\", 1000)\n",
        "\n",
        "# Access attributes using encapsulation\n",
        "print(account._balance)                     # Output: 1000 (protected access)\n",
        "# print(account.__account_number)           # Error: '__account_number' is private\n",
        "\n",
        "# Call methods on the object\n",
        "account.display_details()                   # Output: Display details of account\n",
        "account.deposit(500)                        # Output: \"Deposited: 500\"\n",
        "account.withdraw(200)                       # Output: \"Withdrawn: 200\""
      ],
      "metadata": {
        "colab": {
          "base_uri": "https://localhost:8080/"
        },
        "id": "zt8Yqbi-J2dZ",
        "outputId": "d9875979-4fb6-4a28-8e5b-8cf7c3840d54"
      },
      "execution_count": 5,
      "outputs": [
        {
          "output_type": "stream",
          "name": "stdout",
          "text": [
            "1000\n",
            "Account Number: A001\n",
            "Balance: 1000\n",
            "Deposited: 500\n",
            "Withdrawn: 200\n"
          ]
        }
      ]
    },
    {
      "cell_type": "code",
      "source": [
        "# Define a superclass\n",
        "class Animal:\n",
        "    def __init__(self, name, species):\n",
        "        self.name = name\n",
        "        self.species = species\n",
        "\n",
        "    def make_sound(self):\n",
        "        print(\"The animal makes a sound.\")\n",
        "\n",
        "# Define a subclass that inherits from Animal class\n",
        "class Dog(Animal):\n",
        "    def __init__(self, name, breed):\n",
        "        # Call the superclass's __init__ method to initialize common attributes\n",
        "        super().__init__(name, species=\"Dog\")\n",
        "        self.breed = breed\n",
        "\n",
        "    def make_sound(self):\n",
        "        print(\"Woof!\")\n",
        "\n",
        "    def fetch(self):\n",
        "        print(\"The dog fetches a ball.\")\n",
        "\n",
        "# instance/object creation of class Dog\n",
        "my_dog = Dog(\"Buddy\", \"Labrador\")\n",
        "\n",
        "# Access attributes and call methods of the superclass\n",
        "print(my_dog.name)       # Output: \"Buddy\"\n",
        "print(my_dog.species)    # Output: \"Dog\"\n",
        "my_dog.make_sound()      # Output: \"Woof!\"\n",
        "\n",
        "# Call methods of the subclass\n",
        "my_dog.fetch()           # Output: \"The dog fetches a ball.\""
      ],
      "metadata": {
        "colab": {
          "base_uri": "https://localhost:8080/"
        },
        "id": "iLEVElSCJ4vh",
        "outputId": "3a09f8d1-401a-41cd-8780-8512ca8d0c48"
      },
      "execution_count": 6,
      "outputs": [
        {
          "output_type": "stream",
          "name": "stdout",
          "text": [
            "Buddy\n",
            "Dog\n",
            "Woof!\n",
            "The dog fetches a ball.\n"
          ]
        }
      ]
    },
    {
      "cell_type": "code",
      "source": [
        "# Define a class for a generic shape\n",
        "class Shape:\n",
        "    def area(self):\n",
        "        pass\n",
        "\n",
        "# Define subclasses for specific shapes\n",
        "class Rectangle(Shape):\n",
        "    def __init__(self, length, width):\n",
        "        self.length = length\n",
        "        self.width = width\n",
        "\n",
        "    def area(self):\n",
        "        return self.length * self.width\n",
        "\n",
        "class Circle(Shape):\n",
        "    def __init__(self, radius):\n",
        "        self.radius = radius\n",
        "\n",
        "    def area(self):\n",
        "        return 3.14 * self.radius * self.radius\n",
        "\n",
        "class Triangle(Shape):\n",
        "    def __init__(self, base, height):\n",
        "        self.base = base\n",
        "        self.height = height\n",
        "\n",
        "    def area(self):\n",
        "        return 0.5 * self.base * self.height\n",
        "\n",
        "# Create objects of different shape classes\n",
        "rectangle = Rectangle(5, 10)\n",
        "circle = Circle(7)\n",
        "triangle = Triangle(4, 8)\n",
        "\n",
        "# calling the area function in the class\n",
        "print(\"Area of rectangle:\", rectangle.area())   # Output: 50\n",
        "print(\"Area of circle:\", circle.area())         # Output: 153.94 (approx.)\n",
        "print(\"Area of triangle:\", triangle.area())     # Output: 16\n",
        "\n",
        "# Create a list of shape objects\n",
        "shapes = [rectangle, circle, triangle]\n",
        "\n",
        "# Call the area method on each shape object using polymorphism\n",
        "for shape in shapes:\n",
        "    print(\"Area of shape:\", shape.area())"
      ],
      "metadata": {
        "colab": {
          "base_uri": "https://localhost:8080/"
        },
        "id": "6fTs8FDRJ6HK",
        "outputId": "ca608482-f707-4f6e-e9d8-ea4ef54c5b2e"
      },
      "execution_count": 7,
      "outputs": [
        {
          "output_type": "stream",
          "name": "stdout",
          "text": [
            "Area of rectangle: 50\n",
            "Area of circle: 153.86\n",
            "Area of triangle: 16.0\n",
            "Area of shape: 50\n",
            "Area of shape: 153.86\n",
            "Area of shape: 16.0\n"
          ]
        }
      ]
    }
  ]
}