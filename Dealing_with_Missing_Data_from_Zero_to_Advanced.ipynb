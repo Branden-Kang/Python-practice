{
  "nbformat": 4,
  "nbformat_minor": 0,
  "metadata": {
    "colab": {
      "provenance": [],
      "authorship_tag": "ABX9TyPegWRGbxAJtYVW6MX3PDRe"
    },
    "kernelspec": {
      "name": "python3",
      "display_name": "Python 3"
    },
    "language_info": {
      "name": "python"
    }
  },
  "cells": [
    {
      "cell_type": "markdown",
      "source": [
        "[Reference](https://medium.com/@hhuseyincosgun/dealing-with-missing-data-from-zero-to-advanced-4fb734ee5998)"
      ],
      "metadata": {
        "id": "yHh_YmFRue5t"
      }
    },
    {
      "cell_type": "markdown",
      "source": [
        "# Types of Missing Data\n",
        "- Missing completely at random (MCAR)\n",
        "- Missing at random (MAR)\n",
        "- Not missing at random (NMAR)"
      ],
      "metadata": {
        "id": "hcVOuEmUut6_"
      }
    },
    {
      "cell_type": "markdown",
      "source": [
        "# Identify missing data"
      ],
      "metadata": {
        "id": "dx_fAi7vu10K"
      }
    },
    {
      "cell_type": "code",
      "source": [
        "import pandas as pd\n",
        "import numpy as np\n",
        "import matplotlib.pyplot as plt"
      ],
      "metadata": {
        "id": "9-SpP2H6u9dN"
      },
      "execution_count": 10,
      "outputs": []
    },
    {
      "cell_type": "code",
      "execution_count": 1,
      "metadata": {
        "id": "7eFELYT-rh4S"
      },
      "outputs": [],
      "source": [
        "def load():\n",
        "    data = pd.read_csv(\"/kaggle/input/diabetes-data-set/diabetes.csv\")\n",
        "    return data\n",
        "df = load()\n",
        "df.head()"
      ]
    },
    {
      "cell_type": "code",
      "source": [
        "import missingno as msno\n",
        "msno.matrix(df)"
      ],
      "metadata": {
        "id": "4B2GqnLLupFr"
      },
      "execution_count": 3,
      "outputs": []
    },
    {
      "cell_type": "code",
      "source": [
        "# Analysis of missing values\n",
        "missing_plot(df, 'Outcome')"
      ],
      "metadata": {
        "id": "syp9SJmJurns"
      },
      "execution_count": 4,
      "outputs": []
    },
    {
      "cell_type": "markdown",
      "source": [
        "# Handling Missing Data"
      ],
      "metadata": {
        "id": "jBv5rc_Ju6Kj"
      }
    },
    {
      "cell_type": "code",
      "source": [
        "#This function about missing data\n",
        "miss_cols_info = missing_percent(data)\n",
        "miss_cols_info"
      ],
      "metadata": {
        "id": "QwOZDkRZu4xR"
      },
      "execution_count": 5,
      "outputs": []
    },
    {
      "cell_type": "markdown",
      "source": [
        "## 1. Data Dropping"
      ],
      "metadata": {
        "id": "3WAPn5wGvA9d"
      }
    },
    {
      "cell_type": "code",
      "source": [
        "#Columns with more than 25% missing data\n",
        "drop_cols = miss_cols_info[miss_cols_info['Percent of Total Values'] > 25]\n",
        "drop_cols"
      ],
      "metadata": {
        "id": "OtZsFMHnu8eg"
      },
      "execution_count": 7,
      "outputs": []
    },
    {
      "cell_type": "code",
      "source": [
        "col_names = drop_cols.index.tolist()\n",
        "col_names"
      ],
      "metadata": {
        "id": "du_qe-UrvCaw"
      },
      "execution_count": 8,
      "outputs": []
    },
    {
      "cell_type": "code",
      "source": [
        "data.drop(col_names, axis = 1, inplace=True)\n",
        "data.head()"
      ],
      "metadata": {
        "id": "SVHiUBySvEkq"
      },
      "execution_count": 9,
      "outputs": []
    },
    {
      "cell_type": "markdown",
      "source": [
        "## 2.Simple Imputation Methods\n",
        "### 2.1 Mean Imputation"
      ],
      "metadata": {
        "id": "IQlinBc-vG4r"
      }
    },
    {
      "cell_type": "code",
      "source": [
        "print(round(data_mean['Insulin'].mean(), 2))\n",
        "\n",
        "from sklearn.impute import SimpleImputer\n",
        "mean_imputer = SimpleImputer(missing_values = np.nan,\n",
        "                        strategy ='mean')\n",
        "\n",
        "data_mean['Insulin'] = mean_imputer.fit_transform(\n",
        "data_mean['Insulin'].values.reshape(-1,1))"
      ],
      "metadata": {
        "id": "t_hpRPAPvFVL"
      },
      "execution_count": 11,
      "outputs": []
    },
    {
      "cell_type": "code",
      "source": [
        "# Analyze visually with scatter plot\n",
        "plt.style.use('seaborn')\n",
        "fig = plt.Figure()\n",
        "null_values = data['Insulin'].isnull()\n",
        "fig = data_mean.plot(x=\"BMI\", y='Insulin', kind='scatter',\n",
        "                     c=null_values, cmap='plasma',s = 10,\n",
        "                     title='Mean Imputation', colorbar=False)"
      ],
      "metadata": {
        "id": "iG-GB9NhvQG7"
      },
      "execution_count": 12,
      "outputs": []
    },
    {
      "cell_type": "markdown",
      "source": [
        "## 2.2 Median Imputation"
      ],
      "metadata": {
        "id": "gQ7ZhYudvUNV"
      }
    },
    {
      "cell_type": "code",
      "source": [
        "print(round(data_median['Insulin'].median(), 2))\n",
        "#Median\n",
        "median_imputer = SimpleImputer(missing_values = np.nan,\n",
        "                        strategy ='median')\n",
        "data_median['Insulin'] = median_imputer.fit_transform(\n",
        "data_median['Insulin'].values.reshape(-1,1)))"
      ],
      "metadata": {
        "id": "tsyjP97jvRuD"
      },
      "execution_count": 13,
      "outputs": []
    },
    {
      "cell_type": "code",
      "source": [
        "# Analyze visually with scatter plot\n",
        "plt.style.use('seaborn')\n",
        "fig = plt.Figure()\n",
        "null_values = data['Insulin'].isnull()\n",
        "fig = data_median.plot(x=\"BMI\", y='Insulin', kind='scatter',\n",
        "                     c=null_values, cmap='winter',s = 10,\n",
        "                     title='Median Imputation', colorbar=False)"
      ],
      "metadata": {
        "id": "Y876j3WrvZr1"
      },
      "execution_count": 14,
      "outputs": []
    },
    {
      "cell_type": "markdown",
      "source": [
        "## 3. Advanced Imputation Methods\n",
        "### 3.1 K-Nearest Neighbour (KNN) Imputation"
      ],
      "metadata": {
        "id": "wNLynkIZvhFR"
      }
    },
    {
      "cell_type": "code",
      "source": [
        "# Imputing with KNNImputer\n",
        "from sklearn.impute import KNNImputer\n",
        "from sklearn.preprocessing import MinMaxScaler\n",
        "\n",
        "# Define scaler to set values between 0 and 1\n",
        "scaler = MinMaxScaler(feature_range=(0, 1))\n",
        "df_knn = pd.DataFrame(scaler.fit_transform(df_knn), columns = df_knn.columns)\n",
        "\n",
        "# Define KNN imputer and fill missing values\n",
        "knn_imputer = KNNImputer(n_neighbors=5, weights='uniform', metric='nan_euclidean')\n",
        "df_knn_imputed = pd.DataFrame(knn_imputer.fit_transform(df_knn), columns=df_knn.columns)\n",
        "\n",
        "# Converting the dataset to its original form after scaling\n",
        "original_data = scaler.inverse_transform(df_knn_imputed)\n",
        "\n",
        "# Convert the original data to a DataFrame\n",
        "df_original = pd.DataFrame(original_data, columns=df_knn.columns)"
      ],
      "metadata": {
        "id": "lbJJAFwavbXC"
      },
      "execution_count": 15,
      "outputs": []
    },
    {
      "cell_type": "markdown",
      "source": [
        "### 3.2 Multivariate Imputation by Chained Equation — MICE"
      ],
      "metadata": {
        "id": "pbmhNzHtvrCR"
      }
    },
    {
      "cell_type": "code",
      "source": [
        "# Imputing with MICE\n",
        "from sklearn.experimental import enable_iterative_imputer\n",
        "from sklearn.impute import IterativeImputer\n",
        "from sklearn import linear_model\n",
        "\n",
        "df_mice = data.filter(['Pregnancies','Glucose','BloodPressure','BMI','DPF','Age','Insulin'], axis=1).copy()\n",
        "\n",
        "# Define MICE Imputer and fill missing values\n",
        "mice_imputer = IterativeImputer(estimator=linear_model.BayesianRidge(), n_nearest_features=None, imputation_order='ascending')\n",
        "\n",
        "df_mice_imputed = pd.DataFrame(mice_imputer.fit_transform(df_mice), columns=df_mice.columns)"
      ],
      "metadata": {
        "id": "6tpvC_GFvpH2"
      },
      "execution_count": 16,
      "outputs": []
    }
  ]
}