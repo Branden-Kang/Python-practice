{
  "nbformat": 4,
  "nbformat_minor": 0,
  "metadata": {
    "colab": {
      "name": "Six Bad Manners that Make Your Python Program Slower.ipynb",
      "provenance": [],
      "authorship_tag": "ABX9TyPMk0R6Wk0dOpiYoSAL2COu"
    },
    "kernelspec": {
      "name": "python3",
      "display_name": "Python 3"
    },
    "language_info": {
      "name": "python"
    }
  },
  "cells": [
    {
      "cell_type": "markdown",
      "metadata": {
        "id": "4g8O8sou4eSu"
      },
      "source": [
        "[Reference](https://towardsdatascience.com/6-bad-manners-makes-your-python-program-slower-15b6fce62927)"
      ]
    },
    {
      "cell_type": "code",
      "metadata": {
        "colab": {
          "base_uri": "https://localhost:8080/"
        },
        "id": "v3qaQgRm4Ze_",
        "outputId": "ac2b3fb5-6ecf-4327-b745-096a48ebb819"
      },
      "source": [
        "import math\n",
        "math.sqrt(100)"
      ],
      "execution_count": 1,
      "outputs": [
        {
          "output_type": "execute_result",
          "data": {
            "text/plain": [
              "10.0"
            ]
          },
          "metadata": {},
          "execution_count": 1
        }
      ]
    },
    {
      "cell_type": "code",
      "metadata": {
        "colab": {
          "base_uri": "https://localhost:8080/"
        },
        "id": "9zSxjM4I6dvI",
        "outputId": "75c3d8d3-9d7e-4a1c-e301-1fdfdf9f7bc1"
      },
      "source": [
        "from math import sqrt\n",
        "sqrt(100)"
      ],
      "execution_count": 2,
      "outputs": [
        {
          "output_type": "execute_result",
          "data": {
            "text/plain": [
              "10.0"
            ]
          },
          "metadata": {},
          "execution_count": 2
        }
      ]
    },
    {
      "cell_type": "code",
      "metadata": {
        "id": "m5_iVhbn6fE9"
      },
      "source": [
        "my_list = [1, 2, 3]\n",
        "\n",
        "my_list.append(4)\n",
        "my_list.remove(4)"
      ],
      "execution_count": 3,
      "outputs": []
    },
    {
      "cell_type": "code",
      "metadata": {
        "id": "TID0IbE86hN3"
      },
      "source": [
        "my_list = [1, 2, 3]\n",
        "\n",
        "append = my_list.append\n",
        "remove = my_list.remove\n",
        "\n",
        "append(4)\n",
        "remove(4)"
      ],
      "execution_count": 4,
      "outputs": []
    },
    {
      "cell_type": "code",
      "metadata": {
        "id": "widKvjBo6jvv"
      },
      "source": [
        "strs = ['Life', 'is', 'short,', 'I', 'use', 'Python']\n",
        "\n",
        "def join_strs(strs):\n",
        "    result = ''\n",
        "    for s in strs:\n",
        "        result += ' ' + s\n",
        "    return result[1:]"
      ],
      "execution_count": 5,
      "outputs": []
    },
    {
      "cell_type": "code",
      "metadata": {
        "colab": {
          "base_uri": "https://localhost:8080/"
        },
        "id": "oyq8ghEp6oiS",
        "outputId": "37d68b7b-8164-46e2-c5a4-6dd45364b525"
      },
      "source": [
        "%%timeit\n",
        "join_strs(strs)"
      ],
      "execution_count": 6,
      "outputs": [
        {
          "output_type": "stream",
          "name": "stdout",
          "text": [
            "The slowest run took 5.99 times longer than the fastest. This could mean that an intermediate result is being cached.\n",
            "1000000 loops, best of 5: 1.07 µs per loop\n"
          ]
        }
      ]
    },
    {
      "cell_type": "code",
      "metadata": {
        "colab": {
          "base_uri": "https://localhost:8080/",
          "height": 37
        },
        "id": "2ZXZ2-Lk6sSj",
        "outputId": "a29ad7c6-5d90-4258-c282-2142282a9511"
      },
      "source": [
        "def join_strs_better(strs):\n",
        "    return ' '.join(strs)\n",
        "\n",
        "join_strs_better(strs)"
      ],
      "execution_count": 7,
      "outputs": [
        {
          "output_type": "execute_result",
          "data": {
            "application/vnd.google.colaboratory.intrinsic+json": {
              "type": "string"
            },
            "text/plain": [
              "'Life is short, I use Python'"
            ]
          },
          "metadata": {},
          "execution_count": 7
        }
      ]
    },
    {
      "cell_type": "code",
      "metadata": {
        "colab": {
          "base_uri": "https://localhost:8080/"
        },
        "id": "hKtFC3zr6vHo",
        "outputId": "f866eb7d-8270-4bab-88bc-5a31dd477930"
      },
      "source": [
        "%%timeit\n",
        "a = 1\n",
        "b = 2\n",
        "temp = a\n",
        "a = b\n",
        "b = temp"
      ],
      "execution_count": 8,
      "outputs": [
        {
          "output_type": "stream",
          "name": "stdout",
          "text": [
            "The slowest run took 20.27 times longer than the fastest. This could mean that an intermediate result is being cached.\n",
            "10000000 loops, best of 5: 55.5 ns per loop\n"
          ]
        }
      ]
    },
    {
      "cell_type": "code",
      "metadata": {
        "id": "YIfktov16y-y"
      },
      "source": [
        "a = 1\n",
        "b = 2\n",
        "a, b = b, a"
      ],
      "execution_count": 9,
      "outputs": []
    },
    {
      "cell_type": "code",
      "metadata": {
        "id": "-DHyjEAT60d-"
      },
      "source": [
        "my_dict = [\n",
        "    {\n",
        "        'name': 'Alice',\n",
        "        'age': 28\n",
        "    },\n",
        "    {\n",
        "        'name': 'Bob',\n",
        "        'age': 23\n",
        "    },\n",
        "    {\n",
        "        'name': 'Chris',\n",
        "        'age': 33\n",
        "    },\n",
        "    {\n",
        "        'name': 'Chelsea',\n",
        "        'age': 2\n",
        "    },\n",
        "    {\n",
        "        'name': 'Carol',\n",
        "        'age': 24\n",
        "    }\n",
        "]"
      ],
      "execution_count": 10,
      "outputs": []
    },
    {
      "cell_type": "code",
      "metadata": {
        "id": "hMoKuZ5b63Oq"
      },
      "source": [
        "filtered_list = []\n",
        "for person in my_dict:\n",
        "    if person['name'].startswith('C') and person['age'] >= 30:\n",
        "        filtered_list.append(person)"
      ],
      "execution_count": 11,
      "outputs": []
    },
    {
      "cell_type": "code",
      "metadata": {
        "id": "vBNROkhk65gU"
      },
      "source": [
        "result = 0\n",
        "max_number = 10\n",
        "\n",
        "i = 0\n",
        "while i < 10:\n",
        "    result += i\n",
        "    i +=1"
      ],
      "execution_count": 12,
      "outputs": []
    },
    {
      "cell_type": "code",
      "metadata": {
        "id": "0dvHll-M6-CM"
      },
      "source": [
        "result = 0\n",
        "max_number = 10\n",
        "\n",
        "for i in range(max_number):\n",
        "    result += i"
      ],
      "execution_count": 13,
      "outputs": []
    }
  ]
}