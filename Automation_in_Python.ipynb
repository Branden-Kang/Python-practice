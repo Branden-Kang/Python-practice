{
  "nbformat": 4,
  "nbformat_minor": 0,
  "metadata": {
    "colab": {
      "name": "Automation in Python.ipynb",
      "provenance": [],
      "authorship_tag": "ABX9TyOrBwmp28mfeJMcxgS6u/h8"
    },
    "kernelspec": {
      "name": "python3",
      "display_name": "Python 3"
    }
  },
  "cells": [
    {
      "cell_type": "markdown",
      "metadata": {
        "id": "6gkNKPcxE3g1"
      },
      "source": [
        "[Reference](https://medium.com/swlh/automation-python-organizing-files-5d2b6b933402)"
      ]
    },
    {
      "cell_type": "code",
      "metadata": {
        "id": "Kjm0lBgEE15i"
      },
      "source": [
        "# automation.py\n",
        "\n",
        "import os\n",
        "from shutil import move\n",
        "\n",
        "# directory paths\n",
        "user = os.getenv('USER')\n",
        "\n",
        "root_dir = '/Users/{}/Downloads/'.format(user)\n",
        "image_dir = '/Users/{}/Downloads/images/'.format(user)\n",
        "documents_dir = '/Users/{}/Downloads/documents/'.format(user)\n",
        "others_dir = '/Users/{}/Downloads/others/'.format(user)\n",
        "software_dir = '/Users/{}/Downloads/softwares/'.format(user)\n",
        "# category wise file types\n",
        "doc_types = ('.doc', '.docx', '.txt', '.pdf', '.xls', '.ppt', '.xlsx', '.pptx')\n",
        "img_types = ('.jpg', '.jpeg', '.png', '.svg', '.gif', '.tif', '.tiff')\n",
        "software_types = ('.exe', '.pkg', '.dmg')\n",
        "def get_non_hidden_files_except_current_file(root_dir):  \n",
        "    return [f for f in os.listdir(root_dir) if os.path.isfile(f) and not f.startswith('.') and not f.__eq__(__file__)]\n",
        "    \n",
        "def move_files(files):  \n",
        "    for file in files:    \n",
        "        # file moved and overwritten if already exists    \n",
        "        if file.endswith(doc_types):      \n",
        "            move(file, '{}/{}'.format(documents_dir, file))      \n",
        "            print('file {} moved to {}'.format(file, documents_dir))    \n",
        "        elif file.endswith(img_types):      \n",
        "            move(file, '{}/{}'.format(image_dir, file))      \n",
        "            print('file {} moved to {}'.format(file, image_dir))    \n",
        "        elif file.endswith(software_types):      \n",
        "            move(file, '{}/{}'.format(software_dir, file))      \n",
        "            print('file {} moved to {}'.format(file, others_dir))    \n",
        "        else:      \n",
        "            move(file, '{}/{}'.format(others_dir, file))      \n",
        "            print('file {} moved to {}'.format(file, others_dir))\n",
        "\n",
        "if __name__ == \"__main__\":\n",
        "    files = get_non_hidden_files_except_current_file(root_dir)\n",
        "    move_files(files)"
      ],
      "execution_count": 1,
      "outputs": []
    },
    {
      "cell_type": "code",
      "metadata": {
        "id": "6RWEMvdhFXSJ"
      },
      "source": [
        "import os\n",
        "user = os.getenv('USER')\n",
        "\n",
        "root_dir = '/Users/{}/Downloads/'.format(user)\n",
        "image_dir = '/Users/{}/Downloads/images/'.format(user)\n",
        "documents_dir = '/Users/{}/Downloads/documents/'.format(user)\n",
        "others_dir = '/Users/{}/Downloads/others/'.format(user)\n",
        "software_dir = '/Users/{}/Downloads/softwares/'.format(user)"
      ],
      "execution_count": 3,
      "outputs": []
    }
  ]
}