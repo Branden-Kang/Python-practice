{
  "nbformat": 4,
  "nbformat_minor": 0,
  "metadata": {
    "colab": {
      "provenance": [],
      "authorship_tag": "ABX9TyNKf3Hht8ptsLJxQPs7r1vr"
    },
    "kernelspec": {
      "name": "python3",
      "display_name": "Python 3"
    },
    "language_info": {
      "name": "python"
    }
  },
  "cells": [
    {
      "cell_type": "markdown",
      "source": [
        "[Reference](https://blog.det.life/pydantic-for-experts-reusing-importing-validators-2a4300bdcc81)"
      ],
      "metadata": {
        "id": "VzlNwBMFKE47"
      }
    },
    {
      "cell_type": "code",
      "execution_count": 1,
      "metadata": {
        "id": "ZBgHJuwLJTXV"
      },
      "outputs": [],
      "source": [
        "from pydantic import field_validator, BaseModel\n",
        "\n",
        "\n",
        "class Model(BaseModel):\n",
        "    first_name: str = \"Samuel\"\n",
        "\n",
        "    @field_validator('first_name')\n",
        "    def must_be_title_case(cls, v: str) -> str:\n",
        "        if v != v.title():\n",
        "            raise ValueError(\"must be title cased\")\n",
        "        return v"
      ]
    },
    {
      "cell_type": "code",
      "source": [
        "from pydantic import field_validator, BaseModel\n",
        "\n",
        "\n",
        "def must_be_title_case(v: str) -> str:\n",
        "    \"\"\"Validator to be used throughout\"\"\"\n",
        "    if v != v.title():\n",
        "        raise ValueError(\"must be title cased\")\n",
        "    return v\n",
        "\n",
        "\n",
        "class Model1(BaseModel):\n",
        "    first_name: str = \"Samuel\"\n",
        "    last_name: str = \"Colvin\"\n",
        "\n",
        "    validate_fields = field_validator(\"first_name\", \"last_name\")(must_be_title_case)\n",
        "\n",
        "\n",
        "class Model2(Model1):\n",
        "    \"\"\"Inherits fields from Model1\"\"\"\n",
        "    organization: str = \"Pydantic\"\n",
        "\n",
        "    validate_fields = field_validator(\"organization\")(must_be_title_case)"
      ],
      "metadata": {
        "id": "_5XkAIzdKOzY"
      },
      "execution_count": 2,
      "outputs": []
    },
    {
      "cell_type": "code",
      "source": [
        "from pydantic import BaseModel, field_validator, ValidationError\n",
        "\n",
        "\n",
        "def must_be_title_case(v: str) -> str:\n",
        "    \"\"\"Validator to be used throughout\"\"\"\n",
        "    if v != v.title():\n",
        "        raise ValueError(\"must be title cased\")\n",
        "    return v\n",
        "\n",
        "\n",
        "class Model1(BaseModel):\n",
        "    first_name: str = \"Samuel\"\n",
        "    last_name: str = \"Colvin\"\n",
        "\n",
        "    # Defined as decorator to avoid issue of validators\n",
        "    # not propagating to child\n",
        "    @field_validator('first_name', 'last_name')\n",
        "    @classmethod\n",
        "    def wrap_must_be_title_case(cls, v):\n",
        "        return must_be_title_case(v)\n",
        "\n",
        "\n",
        "def cannot_contain_letter_L(v):\n",
        "    \"\"\"Some arbitrary rule\"\"\"\n",
        "    if 'L' in v.upper():\n",
        "        raise ValueError\n",
        "    return v\n",
        "\n",
        "class Model2(Model1):\n",
        "    \"\"\"Inherits fields from Model1\"\"\"\n",
        "    organization: str = \"Pydantic\"\n",
        "\n",
        "    validate_fields = field_validator(\"organization\", \"last_name\")(cannot_contain_letter_L)\n",
        "\n",
        "\n",
        "for v in [\n",
        "    \"colvin\",  # Will fail for the parent's validators, must be title case\n",
        "    \"Colvin\"   # Will fail for the child's validators, cannot contain letter L\n",
        "]:\n",
        "  try:\n",
        "\n",
        "    m = Model2(last_name=\"colvin\")\n",
        "  except ValidationError as e:\n",
        "    print(e)"
      ],
      "metadata": {
        "colab": {
          "base_uri": "https://localhost:8080/"
        },
        "id": "_E3c94vgKRzD",
        "outputId": "3965ba21-6592-488d-a84d-2bb40693463d"
      },
      "execution_count": 4,
      "outputs": [
        {
          "output_type": "stream",
          "name": "stdout",
          "text": [
            "1 validation error for Model2\n",
            "last_name\n",
            "  Value error, must be title cased [type=value_error, input_value='colvin', input_type=str]\n",
            "    For further information visit https://errors.pydantic.dev/2.7/v/value_error\n",
            "1 validation error for Model2\n",
            "last_name\n",
            "  Value error, must be title cased [type=value_error, input_value='colvin', input_type=str]\n",
            "    For further information visit https://errors.pydantic.dev/2.7/v/value_error\n"
          ]
        }
      ]
    },
    {
      "cell_type": "code",
      "source": [
        "from typing_extensions import Annotated\n",
        "\n",
        "from pydantic import BaseModel, ValidationError, field_validator\n",
        "from pydantic.functional_validators import AfterValidator\n",
        "\n",
        "\n",
        "# Same function as before\n",
        "def must_be_title_case(v: str) -> str:\n",
        "    \"\"\"Validator to be used throughout\"\"\"\n",
        "    if v != v.title():\n",
        "        raise ValueError(\"must be title cased\")\n",
        "    return v\n",
        "\n",
        "\n",
        "# Define your annotated (validated) type:\n",
        "MySpecialString = Annotated[str, AfterValidator(must_be_title_case)]\n",
        "\n",
        "\n",
        "# Now use the custom type in your models\n",
        "class Model1(BaseModel):\n",
        "    first_name: MySpecialString = \"Samuel\"\n",
        "    last_name: MySpecialString = \"Colvin\"\n",
        "\n",
        "\n",
        "class Model2(Model1):\n",
        "    organization: MySpecialString = \"Pydantic\""
      ],
      "metadata": {
        "id": "i-gDqO4HKWmN"
      },
      "execution_count": 5,
      "outputs": []
    },
    {
      "cell_type": "code",
      "source": [
        "def cannot_contain_letter_L(v):\n",
        "    if 'L' in v.upper():\n",
        "        raise ValueError\n",
        "    return v\n",
        "\n",
        "\n",
        "MySpecialString2 = Annotated[\n",
        "  MySpecialString, AfterValidator(cannot_contain_letter_L)\n",
        "]\n",
        "\n",
        "\n",
        "class Model1(BaseModel):\n",
        "    first_name: MySpecialString2 = \"Samuel\"\n",
        "    last_name: MySpecialString2 = \"Colvin\""
      ],
      "metadata": {
        "id": "7PLMwFgZKhj6"
      },
      "execution_count": 6,
      "outputs": []
    },
    {
      "cell_type": "code",
      "source": [
        "class ValidatorBase(BaseModel):\n",
        "    \"\"\"Base class used for declaring reused validators\"\"\"\n",
        "\n",
        "    @model_validator(mode=\"after\")\n",
        "    def validate_fields(self):\n",
        "        if self.organization == self.last_name:\n",
        "            raise ValueError()\n",
        "        return self\n",
        "\n",
        "\n",
        "class Model1(ValidatorBase):\n",
        "    first_name: str = \"Samuel\"\n",
        "    last_name: str = \"Colvin\"\n",
        "    organization: str = \"Pydantic\"\n",
        "\n",
        "try:\n",
        "  m = Model1(last_name=\"Pydantic\", organization=\"Pydantic\")\n",
        "except ValidationError as e:\n",
        "  print(e)"
      ],
      "metadata": {
        "id": "MXqFmqMTKjxr"
      },
      "execution_count": 8,
      "outputs": []
    },
    {
      "cell_type": "code",
      "source": [
        "# create some custom rules\n",
        "def rule_1(self):\n",
        "    if self.organization == self.last_name:\n",
        "        raise ValueError()\n",
        "    return self\n",
        "\n",
        "def rule_2(self):\n",
        "    ...\n",
        "    return self\n",
        "\n",
        "\n",
        "VALIDATOR_MAPPING = {\n",
        "    \"rule_1\": rule_1,\n",
        "    \"rule_2\": rule_2\n",
        "}\n",
        "\n",
        "\n",
        "class ValidationBase(BaseModel):\n",
        "    \"\"\"Base which enforces model validation\"\"\"\n",
        "    ...\n",
        "\n",
        "    @model_validator(mode=\"after\")\n",
        "    def validate_fields(self):\n",
        "        for rule in self._rules:\n",
        "            # mutate self, in case validators alter values\n",
        "            self = VALIDATOR_MAPPING[rule](self)\n",
        "\n",
        "        return self\n",
        "\n",
        "class Model1(ValidationBase):\n",
        "    # Alternatively, you can store the rules as functions in the set directly\n",
        "    _rules = {'rule_1', 'rule_2'}\n",
        "\n",
        "    first_name: str = \"Samuel\"\n",
        "    last_name: str = \"Colvin\"\n",
        "    organization: str = \"Pydantic\""
      ],
      "metadata": {
        "id": "uDdr9DshKlQE"
      },
      "execution_count": 10,
      "outputs": []
    }
  ]
}