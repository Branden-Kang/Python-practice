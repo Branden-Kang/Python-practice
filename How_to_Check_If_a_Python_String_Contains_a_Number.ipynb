{
  "nbformat": 4,
  "nbformat_minor": 0,
  "metadata": {
    "colab": {
      "name": "How to Check If a Python String Contains a Number.ipynb",
      "provenance": [],
      "authorship_tag": "ABX9TyM772sn5wnbfN8aW6dKCIpK"
    },
    "kernelspec": {
      "name": "python3",
      "display_name": "Python 3"
    },
    "language_info": {
      "name": "python"
    }
  },
  "cells": [
    {
      "cell_type": "markdown",
      "metadata": {
        "id": "MFlsFbbNns9f"
      },
      "source": [
        "[Reference](https://codefather-tech.medium.com/how-to-check-if-a-python-string-contains-a-number-codefather-290d55f6c6d8)"
      ]
    },
    {
      "cell_type": "code",
      "metadata": {
        "id": "OHe8Fbt7noyk"
      },
      "source": [
        "def containsNumber(value):\n",
        "    for character in value:\n",
        "        if character.isdigit():\n",
        "            return True\n",
        "    return False"
      ],
      "execution_count": 1,
      "outputs": []
    },
    {
      "cell_type": "code",
      "metadata": {
        "colab": {
          "base_uri": "https://localhost:8080/"
        },
        "id": "zIjaQI_Dn0Jc",
        "outputId": "da27f153-f492-4786-83e5-12bc685fd4f7"
      },
      "source": [
        "print(containsNumber('1s4f6h'))"
      ],
      "execution_count": 2,
      "outputs": [
        {
          "output_type": "stream",
          "text": [
            "True\n"
          ],
          "name": "stdout"
        }
      ]
    },
    {
      "cell_type": "code",
      "metadata": {
        "colab": {
          "base_uri": "https://localhost:8080/"
        },
        "id": "92cUS5sOn4wC",
        "outputId": "5102b93f-e2f2-44e2-a298-88675954d115"
      },
      "source": [
        "print(containsNumber('python'))"
      ],
      "execution_count": 3,
      "outputs": [
        {
          "output_type": "stream",
          "text": [
            "False\n"
          ],
          "name": "stdout"
        }
      ]
    },
    {
      "cell_type": "code",
      "metadata": {
        "colab": {
          "base_uri": "https://localhost:8080/"
        },
        "id": "PHXNlJhHn6Jk",
        "outputId": "6ddb045d-652f-4d44-ae6f-fa64fa184686"
      },
      "source": [
        "print(containsNumber('python3'))"
      ],
      "execution_count": 4,
      "outputs": [
        {
          "output_type": "stream",
          "text": [
            "True\n"
          ],
          "name": "stdout"
        }
      ]
    },
    {
      "cell_type": "code",
      "metadata": {
        "colab": {
          "base_uri": "https://localhost:8080/"
        },
        "id": "q1rxeJT9n7SQ",
        "outputId": "f374790b-36a8-4410-8411-2c83e07e356d"
      },
      "source": [
        "'123'.isdigit()"
      ],
      "execution_count": 5,
      "outputs": [
        {
          "output_type": "execute_result",
          "data": {
            "text/plain": [
              "True"
            ]
          },
          "metadata": {
            "tags": []
          },
          "execution_count": 5
        }
      ]
    },
    {
      "cell_type": "code",
      "metadata": {
        "colab": {
          "base_uri": "https://localhost:8080/"
        },
        "id": "kZAzkA_eoW8A",
        "outputId": "23096079-4629-492d-d60b-e7d6805a1d24"
      },
      "source": [
        "'1'.isdigit()"
      ],
      "execution_count": 6,
      "outputs": [
        {
          "output_type": "execute_result",
          "data": {
            "text/plain": [
              "True"
            ]
          },
          "metadata": {
            "tags": []
          },
          "execution_count": 6
        }
      ]
    },
    {
      "cell_type": "code",
      "metadata": {
        "colab": {
          "base_uri": "https://localhost:8080/"
        },
        "id": "PtbXg80XoXxB",
        "outputId": "7cb0d142-49bf-4b3c-c6f4-20bf803049a2"
      },
      "source": [
        "'a'.isdigit()"
      ],
      "execution_count": 7,
      "outputs": [
        {
          "output_type": "execute_result",
          "data": {
            "text/plain": [
              "False"
            ]
          },
          "metadata": {
            "tags": []
          },
          "execution_count": 7
        }
      ]
    },
    {
      "cell_type": "code",
      "metadata": {
        "colab": {
          "base_uri": "https://localhost:8080/"
        },
        "id": "w0XZbz4voZbP",
        "outputId": "1c978e75-0491-4e0f-c26d-529013db5980"
      },
      "source": [
        "'a1'.isdigit()"
      ],
      "execution_count": 8,
      "outputs": [
        {
          "output_type": "execute_result",
          "data": {
            "text/plain": [
              "False"
            ]
          },
          "metadata": {
            "tags": []
          },
          "execution_count": 8
        }
      ]
    },
    {
      "cell_type": "code",
      "metadata": {
        "colab": {
          "base_uri": "https://localhost:8080/"
        },
        "id": "u9w3BQ45oZ57",
        "outputId": "4c843784-c474-41da-fcdb-b34574fe1bb6"
      },
      "source": [
        "''.isdigit()"
      ],
      "execution_count": 9,
      "outputs": [
        {
          "output_type": "execute_result",
          "data": {
            "text/plain": [
              "False"
            ]
          },
          "metadata": {
            "tags": []
          },
          "execution_count": 9
        }
      ]
    },
    {
      "cell_type": "code",
      "metadata": {
        "colab": {
          "base_uri": "https://localhost:8080/"
        },
        "id": "nMBVd5-uoaxt",
        "outputId": "1d7ea912-402e-41ea-8121-0680093e2348"
      },
      "source": [
        "value = 'adf2'\n",
        "[char.isdigit() for char in value]"
      ],
      "execution_count": 10,
      "outputs": [
        {
          "output_type": "execute_result",
          "data": {
            "text/plain": [
              "[False, False, False, True]"
            ]
          },
          "metadata": {
            "tags": []
          },
          "execution_count": 10
        }
      ]
    },
    {
      "cell_type": "code",
      "metadata": {
        "colab": {
          "base_uri": "https://localhost:8080/"
        },
        "id": "fFLuPGJyod16",
        "outputId": "4c046a18-2703-4051-94e1-9a79f7a7f55f"
      },
      "source": [
        "if True in [char.isdigit() for char in value]:\n",
        "    print(\"The string contains a number\")\n",
        "else:\n",
        "    print(\"The string doesn't contain a number\")"
      ],
      "execution_count": 11,
      "outputs": [
        {
          "output_type": "stream",
          "text": [
            "The string contains a number\n"
          ],
          "name": "stdout"
        }
      ]
    },
    {
      "cell_type": "code",
      "metadata": {
        "id": "ti4g7rcOog-t"
      },
      "source": [
        "def containsNumber(value):\n",
        "    if True in [char.isdigit() for char in value]:\n",
        "        return True\n",
        "    return False"
      ],
      "execution_count": 12,
      "outputs": []
    },
    {
      "cell_type": "code",
      "metadata": {
        "colab": {
          "base_uri": "https://localhost:8080/"
        },
        "id": "vlwbDHfwoitB",
        "outputId": "eb7a5d77-ff92-41fc-8676-1914a86cbaec"
      },
      "source": [
        "print(containsNumber(''))"
      ],
      "execution_count": 13,
      "outputs": [
        {
          "output_type": "stream",
          "text": [
            "False\n"
          ],
          "name": "stdout"
        }
      ]
    },
    {
      "cell_type": "code",
      "metadata": {
        "colab": {
          "base_uri": "https://localhost:8080/"
        },
        "id": "0yPllNvuokQe",
        "outputId": "4ba96e94-39f8-490b-e8c1-68c7f13a3641"
      },
      "source": [
        "print(containsNumber('awirfd'))"
      ],
      "execution_count": 14,
      "outputs": [
        {
          "output_type": "stream",
          "text": [
            "False\n"
          ],
          "name": "stdout"
        }
      ]
    },
    {
      "cell_type": "code",
      "metadata": {
        "colab": {
          "base_uri": "https://localhost:8080/"
        },
        "id": "8rZJicQTolsU",
        "outputId": "6399e276-2d9a-45c7-97d4-cc23b7cbfdb1"
      },
      "source": [
        "print(containsNumber('dfgh3'))"
      ],
      "execution_count": 15,
      "outputs": [
        {
          "output_type": "stream",
          "text": [
            "True\n"
          ],
          "name": "stdout"
        }
      ]
    },
    {
      "cell_type": "code",
      "metadata": {
        "colab": {
          "base_uri": "https://localhost:8080/"
        },
        "id": "_gARoX2YonIZ",
        "outputId": "67ba3a8f-6b18-4346-9317-3e55ac3b22cb"
      },
      "source": [
        "print(containsNumber('12345'))"
      ],
      "execution_count": 16,
      "outputs": [
        {
          "output_type": "stream",
          "text": [
            "True\n"
          ],
          "name": "stdout"
        }
      ]
    },
    {
      "cell_type": "code",
      "metadata": {
        "id": "BeIyt6ywoodA"
      },
      "source": [
        "def containsNumber(value):\n",
        "    return any([char.isdigit() for char in value])"
      ],
      "execution_count": 17,
      "outputs": []
    },
    {
      "cell_type": "code",
      "metadata": {
        "colab": {
          "base_uri": "https://localhost:8080/"
        },
        "id": "DAION4yuorzD",
        "outputId": "55a5fc0e-3dd6-4390-ab95-4191d340598d"
      },
      "source": [
        "print(containsNumber(''))\n",
        "\n",
        "print(containsNumber('awirfd'))\n",
        "\n",
        "print(containsNumber('dfgh3'))\n",
        "\n",
        "print(containsNumber('12345'))"
      ],
      "execution_count": 18,
      "outputs": [
        {
          "output_type": "stream",
          "text": [
            "False\n",
            "False\n",
            "True\n",
            "True\n"
          ],
          "name": "stdout"
        }
      ]
    },
    {
      "cell_type": "code",
      "metadata": {
        "id": "boJwqqGnpToK"
      },
      "source": [
        "import re"
      ],
      "execution_count": 20,
      "outputs": []
    },
    {
      "cell_type": "code",
      "metadata": {
        "colab": {
          "base_uri": "https://localhost:8080/"
        },
        "id": "meypCy43pPKq",
        "outputId": "ff139194-5691-4cde-901e-3389c6790eea"
      },
      "source": [
        "print(re.findall('[0-9]+', ''))"
      ],
      "execution_count": 21,
      "outputs": [
        {
          "output_type": "stream",
          "text": [
            "[]\n"
          ],
          "name": "stdout"
        }
      ]
    },
    {
      "cell_type": "code",
      "metadata": {
        "colab": {
          "base_uri": "https://localhost:8080/"
        },
        "id": "PZFCOC42pR1w",
        "outputId": "e4bda9b8-c503-4ac3-a5ae-89dd512588e4"
      },
      "source": [
        "print(re.findall('[0-9]+', 'awirfd'))"
      ],
      "execution_count": 22,
      "outputs": [
        {
          "output_type": "stream",
          "text": [
            "[]\n"
          ],
          "name": "stdout"
        }
      ]
    },
    {
      "cell_type": "code",
      "metadata": {
        "colab": {
          "base_uri": "https://localhost:8080/"
        },
        "id": "PhCRgdgmpWS3",
        "outputId": "d63976d6-3331-4d38-d2d0-e663c8b3f34b"
      },
      "source": [
        "print(re.findall('[0-9]+', 'dfgh3'))"
      ],
      "execution_count": 23,
      "outputs": [
        {
          "output_type": "stream",
          "text": [
            "['3']\n"
          ],
          "name": "stdout"
        }
      ]
    },
    {
      "cell_type": "code",
      "metadata": {
        "colab": {
          "base_uri": "https://localhost:8080/"
        },
        "id": "Rn1-ZGZHpXp-",
        "outputId": "82e73d9e-4c93-41b6-8737-8e01d74e3e04"
      },
      "source": [
        "print(re.findall('[0-9]+', '12345'))"
      ],
      "execution_count": 24,
      "outputs": [
        {
          "output_type": "stream",
          "text": [
            "['12345']\n"
          ],
          "name": "stdout"
        }
      ]
    },
    {
      "cell_type": "code",
      "metadata": {
        "colab": {
          "base_uri": "https://localhost:8080/"
        },
        "id": "lQbhgYQ7pZJP",
        "outputId": "bfd62d14-d176-46a6-f07d-4e8110f67f4d"
      },
      "source": [
        "print(re.findall('[0-9]+', '12az3dr45'))"
      ],
      "execution_count": 25,
      "outputs": [
        {
          "output_type": "stream",
          "text": [
            "['12', '3', '45']\n"
          ],
          "name": "stdout"
        }
      ]
    },
    {
      "cell_type": "code",
      "metadata": {
        "id": "w_nxEZyGpa1p"
      },
      "source": [
        "import re\n",
        "\n",
        "def containsNumber(value):\n",
        "    numbers = re.findall('[0-9]+', value)\n",
        "    return True if numbers else False"
      ],
      "execution_count": 27,
      "outputs": []
    },
    {
      "cell_type": "code",
      "metadata": {
        "id": "x4L82Mnnpcpz"
      },
      "source": [
        "import re\n",
        "def containsNumber(value):\n",
        "    return bool(re.findall('[0-9]+', value))"
      ],
      "execution_count": 29,
      "outputs": []
    },
    {
      "cell_type": "code",
      "metadata": {
        "colab": {
          "base_uri": "https://localhost:8080/"
        },
        "id": "nrGTB47rpfF_",
        "outputId": "6f015b9f-306d-487b-92e1-5e7e0e5bfe84"
      },
      "source": [
        "print(containsNumber(''))\n",
        "\n",
        "print(containsNumber('awirfd'))\n",
        "\n",
        "print(containsNumber('dfgh3'))\n",
        "\n",
        "print(containsNumber('12345'))\n",
        "\n",
        "print(containsNumber('12as34rt5'))"
      ],
      "execution_count": 30,
      "outputs": [
        {
          "output_type": "stream",
          "text": [
            "False\n",
            "False\n",
            "True\n",
            "True\n",
            "True\n"
          ],
          "name": "stdout"
        }
      ]
    },
    {
      "cell_type": "code",
      "metadata": {
        "colab": {
          "base_uri": "https://localhost:8080/"
        },
        "id": "9bNsBv27pidE",
        "outputId": "118816fd-7c1a-4cdd-b7e6-4b2ecd601bf2"
      },
      "source": [
        "list(map(str.isdigit, '12r45'))"
      ],
      "execution_count": 32,
      "outputs": [
        {
          "output_type": "execute_result",
          "data": {
            "text/plain": [
              "[True, True, False, True, True]"
            ]
          },
          "metadata": {
            "tags": []
          },
          "execution_count": 32
        }
      ]
    },
    {
      "cell_type": "code",
      "metadata": {
        "colab": {
          "base_uri": "https://localhost:8080/"
        },
        "id": "DY9PjU4tpkTl",
        "outputId": "231aef62-49ec-47b0-9322-7174ca768a6a"
      },
      "source": [
        "any(map(str.isdigit, '12r45'))"
      ],
      "execution_count": 33,
      "outputs": [
        {
          "output_type": "execute_result",
          "data": {
            "text/plain": [
              "True"
            ]
          },
          "metadata": {
            "tags": []
          },
          "execution_count": 33
        }
      ]
    },
    {
      "cell_type": "code",
      "metadata": {
        "colab": {
          "base_uri": "https://localhost:8080/"
        },
        "id": "bZJYf343pnN9",
        "outputId": "27a06b2e-3aaf-4ad8-f0b0-aab456532f4c"
      },
      "source": [
        "any(map(str.isdigit, 'etdgr'))"
      ],
      "execution_count": 34,
      "outputs": [
        {
          "output_type": "execute_result",
          "data": {
            "text/plain": [
              "False"
            ]
          },
          "metadata": {
            "tags": []
          },
          "execution_count": 34
        }
      ]
    }
  ]
}