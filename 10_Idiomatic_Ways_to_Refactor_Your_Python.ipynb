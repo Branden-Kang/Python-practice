{
  "nbformat": 4,
  "nbformat_minor": 0,
  "metadata": {
    "colab": {
      "name": "10 Idiomatic Ways to Refactor Your Python.ipynb",
      "provenance": [],
      "authorship_tag": "ABX9TyNnu/Qte0RuVsn0Ep578MFh"
    },
    "kernelspec": {
      "name": "python3",
      "display_name": "Python 3"
    }
  },
  "cells": [
    {
      "cell_type": "markdown",
      "metadata": {
        "id": "NrPsTXmQlOTq"
      },
      "source": [
        "[Reference](https://towardsdatascience.com/10-idiotic-ways-to-refactor-your-python-code-cbb05bb0c820)"
      ]
    },
    {
      "cell_type": "markdown",
      "metadata": {
        "id": "anAIcexelQbS"
      },
      "source": [
        "# 1. Comprehensions"
      ]
    },
    {
      "cell_type": "code",
      "metadata": {
        "colab": {
          "base_uri": "https://localhost:8080/"
        },
        "id": "acFVLEHOlM_B",
        "outputId": "e5e14fe3-daab-492a-b826-d38ec19ed0e2"
      },
      "source": [
        "# Create a list of numbers as our start point\n",
        "numbers = list(range(5))\n",
        "print(numbers)\n",
        "\n",
        "# Instead of doing this:\n",
        "squares0 = []\n",
        "for number in numbers:\n",
        "     if number%2 == 0:\n",
        "         squares0.append(number*number)\n",
        " \n",
        "print(squares0)\n",
        "\n",
        "\n",
        "# The idiomatic way:\n",
        "squares1 = [x*x for x in numbers if x%2 == 0]\n",
        "print(squares1)"
      ],
      "execution_count": 1,
      "outputs": [
        {
          "output_type": "stream",
          "text": [
            "[0, 1, 2, 3, 4]\n",
            "[0, 4, 16]\n",
            "[0, 4, 16]\n"
          ],
          "name": "stdout"
        }
      ]
    },
    {
      "cell_type": "code",
      "metadata": {
        "colab": {
          "base_uri": "https://localhost:8080/"
        },
        "id": "V4jtmlFFlWU_",
        "outputId": "983fd1c4-26bd-4b1b-d530-f7e85086f41d"
      },
      "source": [
        "# Dictionary comprehension\n",
        "{x: x*x for x in range(5)}"
      ],
      "execution_count": 3,
      "outputs": [
        {
          "output_type": "execute_result",
          "data": {
            "text/plain": [
              "{0: 0, 1: 1, 2: 4, 3: 9, 4: 16}"
            ]
          },
          "metadata": {
            "tags": []
          },
          "execution_count": 3
        }
      ]
    },
    {
      "cell_type": "code",
      "metadata": {
        "colab": {
          "base_uri": "https://localhost:8080/"
        },
        "id": "R1VlBl78lad1",
        "outputId": "180c8e82-69f1-43bd-da9f-7420740b43f9"
      },
      "source": [
        "# Set comprehension\n",
        "{x*x for x in range(5)}"
      ],
      "execution_count": 4,
      "outputs": [
        {
          "output_type": "execute_result",
          "data": {
            "text/plain": [
              "{0, 1, 4, 9, 16}"
            ]
          },
          "metadata": {
            "tags": []
          },
          "execution_count": 4
        }
      ]
    },
    {
      "cell_type": "markdown",
      "metadata": {
        "id": "AZEt-BpKldJN"
      },
      "source": [
        "# 2. F-Stings"
      ]
    },
    {
      "cell_type": "code",
      "metadata": {
        "colab": {
          "base_uri": "https://localhost:8080/"
        },
        "id": "P3viwXnelb-D",
        "outputId": "2a4be1ab-913e-4f56-86dc-b38f544f6bdb"
      },
      "source": [
        "# Define the conversion ratio\n",
        "usd_to_eur = 0.89\n",
        "\n",
        "# Instead of doing these:\n",
        "print('1 USD = {rate:.2f} EUR'.format(rate=usd_to_eur))\n",
        "print('1 USD = %.2f EUR' % usd_to_eur)\n",
        "\n",
        "# The idiomatic way:\n",
        "print(f'1 USD = {usd_to_eur:.2f} EUR')"
      ],
      "execution_count": 5,
      "outputs": [
        {
          "output_type": "stream",
          "text": [
            "1 USD = 0.89 EUR\n",
            "1 USD = 0.89 EUR\n",
            "1 USD = 0.89 EUR\n"
          ],
          "name": "stdout"
        }
      ]
    },
    {
      "cell_type": "markdown",
      "metadata": {
        "id": "8-_t6s72lkXp"
      },
      "source": [
        "# 3. Multiple Assignment and Tuple Unpacking"
      ]
    },
    {
      "cell_type": "code",
      "metadata": {
        "id": "aqxP3pNEljDw"
      },
      "source": [
        "# Instead of doing this:\n",
        "code = 404\n",
        "message = \"Not Found\"\n",
        "\n",
        "# The idiomatic way:\n",
        "code, message = 404, \"Not Found\""
      ],
      "execution_count": 6,
      "outputs": []
    },
    {
      "cell_type": "code",
      "metadata": {
        "colab": {
          "base_uri": "https://localhost:8080/"
        },
        "id": "Ks33cJhFlnLZ",
        "outputId": "ac48fae0-12bb-450c-cfeb-14487216a53e"
      },
      "source": [
        "# Define a tuple and unpack it\n",
        "http_response = (404, \"Not Found\")\n",
        "code, message = http_response\n",
        "print(f'code: {code}; message: {message}')"
      ],
      "execution_count": 7,
      "outputs": [
        {
          "output_type": "stream",
          "text": [
            "code: 404; message: Not Found\n"
          ],
          "name": "stdout"
        }
      ]
    },
    {
      "cell_type": "markdown",
      "metadata": {
        "id": "ctYSjA21l7u5"
      },
      "source": [
        "# 4. Catch-All Unpacking"
      ]
    },
    {
      "cell_type": "code",
      "metadata": {
        "colab": {
          "base_uri": "https://localhost:8080/"
        },
        "id": "3pA2qT4XlsLS",
        "outputId": "4215c013-051f-4713-b273-3eccb88b7092"
      },
      "source": [
        "# Define the tuple for unpacking\n",
        "numbers = tuple(range(8))\n",
        "numbers\n",
        "(0, 1, 2, 3, 4, 5, 6, 7)\n",
        "\n",
        "# Instead of doing this:\n",
        "first_number0 = numbers[0]\n",
        "middle_numbers0 = numbers[1:-1]\n",
        "last_number0 = numbers[-1]\n",
        "\n",
        "# The idiotic way:\n",
        "first_number1, *middle_numbers1, last_number1 = numbers\n",
        "\n",
        "# Verify the results\n",
        "print(first_number0 == first_number1)\n",
        "\n",
        "print(middle_numbers0 == middle_numbers1)\n",
        "\n",
        "print(last_number0 == last_number0)"
      ],
      "execution_count": 8,
      "outputs": [
        {
          "output_type": "stream",
          "text": [
            "True\n",
            "False\n",
            "True\n"
          ],
          "name": "stdout"
        }
      ]
    },
    {
      "cell_type": "code",
      "metadata": {
        "colab": {
          "base_uri": "https://localhost:8080/"
        },
        "id": "tidqtlYzmA-1",
        "outputId": "9b256ec5-f351-4aac-9a3b-67e606d03ae7"
      },
      "source": [
        "# Convert the unpacked list to tuple\n",
        "print(middle_numbers0 == tuple(middle_numbers1))"
      ],
      "execution_count": 9,
      "outputs": [
        {
          "output_type": "stream",
          "text": [
            "True\n"
          ],
          "name": "stdout"
        }
      ]
    },
    {
      "cell_type": "markdown",
      "metadata": {
        "id": "MfLzRcq5mECY"
      },
      "source": [
        "# 5. Assignment Expression"
      ]
    },
    {
      "cell_type": "code",
      "metadata": {
        "id": "xvb6_G0zmDZv"
      },
      "source": [
        "# Define some helper functions\n",
        "def get_account(social_security_number):\n",
        "     pass\n",
        " \n",
        "def withdraw_money(account_number):\n",
        "     pass\n",
        " \n",
        "def found_no_account():\n",
        "     pass\n",
        " \n",
        "# Instead of doing this:\n",
        "account_number = get_account(\"123-45-6789\")\n",
        "if account_number:\n",
        "     withdraw_money(account_number)\n",
        "else:\n",
        "     found_no_account()\n",
        " \n",
        "# The idiomatic way:\n",
        "if account_number := get_account(\"123-45-6789\"):\n",
        "     withdraw_money(account_number)\n",
        "else:\n",
        "     found_no_account()"
      ],
      "execution_count": 12,
      "outputs": []
    },
    {
      "cell_type": "markdown",
      "metadata": {
        "id": "09n1ulGUmOL4"
      },
      "source": [
        "# 6. Iteration with enumerate"
      ]
    },
    {
      "cell_type": "code",
      "metadata": {
        "colab": {
          "base_uri": "https://localhost:8080/"
        },
        "id": "5mLmlHS7mJKs",
        "outputId": "98ac0500-6226-42bf-a703-6a153d4c33d0"
      },
      "source": [
        "# Create a list of students for iteration\n",
        "students = ['John', 'Jack', 'Jennifer', 'June']\n",
        "\n",
        "# Instead of doing this:\n",
        "for i in range(len(students)):\n",
        "     student = students[i]\n",
        "     print(f\"# {i+1}: {student}\")\n",
        "\n",
        "# The idiomatic way:\n",
        "for i, student in enumerate(students, 1):\n",
        "     print(f\"# {i}: {student}\")"
      ],
      "execution_count": 13,
      "outputs": [
        {
          "output_type": "stream",
          "text": [
            "# 1: John\n",
            "# 2: Jack\n",
            "# 3: Jennifer\n",
            "# 4: June\n",
            "# 1: John\n",
            "# 2: Jack\n",
            "# 3: Jennifer\n",
            "# 4: June\n"
          ],
          "name": "stdout"
        }
      ]
    },
    {
      "cell_type": "markdown",
      "metadata": {
        "id": "Xf9NaRiemTde"
      },
      "source": [
        "# 7. Join Iterables With zip/zip_longest"
      ]
    },
    {
      "cell_type": "code",
      "metadata": {
        "colab": {
          "base_uri": "https://localhost:8080/"
        },
        "id": "UK8E2Km-mQGp",
        "outputId": "ac87129c-007b-417f-df21-8724e1f70ef4"
      },
      "source": [
        "# Create two lists of objects for zipping\n",
        "students = ['John', 'Mike', 'Sam', 'David', 'Danny']\n",
        "grades = [95, 90, 98, 97]\n",
        "\n",
        "# Instead of doing this:\n",
        "grade_tracking0 = {}\n",
        "for i in range(min(len(students), len(grades))):\n",
        "     grade_tracking0[students[i]] = grades[i]\n",
        " \n",
        "print(grade_tracking0)\n",
        "\n",
        "# The idiomatic ways:\n",
        "grade_tracking1 = dict(zip(students, grades))\n",
        "print(grade_tracking1)\n",
        "\n",
        "from itertools import zip_longest\n",
        "grade_tracking2 = dict(zip_longest(students, grades))\n",
        "print(grade_tracking2)"
      ],
      "execution_count": 14,
      "outputs": [
        {
          "output_type": "stream",
          "text": [
            "{'John': 95, 'Mike': 90, 'Sam': 98, 'David': 97}\n",
            "{'John': 95, 'Mike': 90, 'Sam': 98, 'David': 97}\n",
            "{'John': 95, 'Mike': 90, 'Sam': 98, 'David': 97, 'Danny': None}\n"
          ],
          "name": "stdout"
        }
      ]
    },
    {
      "cell_type": "code",
      "metadata": {
        "colab": {
          "base_uri": "https://localhost:8080/"
        },
        "id": "C1URWtR2mY2A",
        "outputId": "43c6feda-3770-4c8f-eaac-eb061bdbca78"
      },
      "source": [
        "for student, grade in zip(students, grades):\n",
        "     print(f\"{student}: {grade}\")"
      ],
      "execution_count": 15,
      "outputs": [
        {
          "output_type": "stream",
          "text": [
            "John: 95\n",
            "Mike: 90\n",
            "Sam: 98\n",
            "David: 97\n"
          ],
          "name": "stdout"
        }
      ]
    },
    {
      "cell_type": "markdown",
      "metadata": {
        "id": "NjVNBtxLmdCC"
      },
      "source": [
        "# 8. Concatenate Iterables"
      ]
    },
    {
      "cell_type": "code",
      "metadata": {
        "id": "RX-YTKwbmcLi"
      },
      "source": [
        "# Define the data and a helper function\n",
        "from itertools import chain\n",
        "group0 = ['Jack', 'John', 'David']\n",
        "group1 = ['Ann', 'Bill', 'Cathy']\n",
        "\n",
        "def present_project(student):\n",
        "     pass\n",
        " \n",
        "# Instead of doing these:\n",
        "for group in [group0, group1]:\n",
        "     for student in group:\n",
        "         present_project(student)\n",
        " \n",
        "for student in group0 + group1:\n",
        "     present_project(student)\n",
        " \n",
        "# The idiomatic way:\n",
        "for student in chain(group0, group1):\n",
        "     present_project(student)"
      ],
      "execution_count": 16,
      "outputs": []
    },
    {
      "cell_type": "markdown",
      "metadata": {
        "id": "9Pa5TSrhmh3U"
      },
      "source": [
        "# 9. Ternary Expression"
      ]
    },
    {
      "cell_type": "code",
      "metadata": {
        "id": "FUH2x00QmgfW"
      },
      "source": [
        "# Define a helper function\n",
        "from random import randint\n",
        "def got_even_number():\n",
        "     return randint(1, 10) % 2 == 0\n",
        " \n",
        "# Instead of doing these: \n",
        "if got_even_number():\n",
        "     state = \"Even\"\n",
        "else:\n",
        "     state = \"Odd\"\n",
        " \n",
        "state = \"Odd\"\n",
        "if got_even_number():\n",
        "     state = \"Even\"\n",
        " \n",
        "# The idiomatic way:\n",
        "state = \"Even\" if got_even_number() else \"Odd\""
      ],
      "execution_count": 18,
      "outputs": []
    },
    {
      "cell_type": "markdown",
      "metadata": {
        "id": "l5vfwLx8m5g-"
      },
      "source": [
        "# 10. Use of Generators"
      ]
    },
    {
      "cell_type": "code",
      "metadata": {
        "id": "ok-0vpHmm2E4"
      },
      "source": [
        "# Define a helper function\n",
        "def process_data(row_data):\n",
        "     pass\n",
        " \n",
        "# Instead of doing this:\n",
        "with open('large_file') as file:\n",
        "     read_data = file.read().split(\"\\n\")\n",
        "     for row_data in read_data:\n",
        "         process_data(row_data)\n",
        "\n",
        "# The idiomatic way:\n",
        "with open('large_file') as file:\n",
        "     for row_data in file:\n",
        "         process_data(row_data)"
      ],
      "execution_count": 20,
      "outputs": []
    }
  ]
}