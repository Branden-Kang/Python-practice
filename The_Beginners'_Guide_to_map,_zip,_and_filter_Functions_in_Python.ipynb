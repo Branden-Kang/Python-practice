{
  "nbformat": 4,
  "nbformat_minor": 0,
  "metadata": {
    "colab": {
      "name": "The Beginners' Guide to map, zip, and filter Functions in Python.ipynb",
      "provenance": [],
      "authorship_tag": "ABX9TyMk+UUU6Vhu5UqyK1aHnYun"
    },
    "kernelspec": {
      "name": "python3",
      "display_name": "Python 3"
    }
  },
  "cells": [
    {
      "cell_type": "markdown",
      "metadata": {
        "id": "jrO8G5GNzq-q"
      },
      "source": [
        "[Reference](https://medium.com/towards-artificial-intelligence/the-beginners-guide-to-map-zip-and-filter-functions-in-python-827d5897dcf)"
      ]
    },
    {
      "cell_type": "markdown",
      "metadata": {
        "id": "yhfggLrO0HbO"
      },
      "source": [
        "# map"
      ]
    },
    {
      "cell_type": "code",
      "metadata": {
        "colab": {
          "base_uri": "https://localhost:8080/"
        },
        "id": "NwDZbjZ9zoza",
        "outputId": "ee886568-825a-4be5-e2e9-babdc2728219"
      },
      "source": [
        "a = [1, 2, 3, 4, 5, 6, 7, 8, 9, 10]\n",
        "\n",
        "def cube_func(x):\n",
        "    return x**3\n",
        "\n",
        "result = list(map(cube_func, a))\n",
        "print(result)"
      ],
      "execution_count": 1,
      "outputs": [
        {
          "output_type": "stream",
          "text": [
            "[1, 8, 27, 64, 125, 216, 343, 512, 729, 1000]\n"
          ],
          "name": "stdout"
        }
      ]
    },
    {
      "cell_type": "code",
      "metadata": {
        "colab": {
          "base_uri": "https://localhost:8080/"
        },
        "id": "ituJNFg9zvxX",
        "outputId": "e3e49549-c90b-44df-ab66-2122f9170c30"
      },
      "source": [
        "result = list(map(lambda x: x**3, a))\n",
        "print(result)"
      ],
      "execution_count": 2,
      "outputs": [
        {
          "output_type": "stream",
          "text": [
            "[1, 8, 27, 64, 125, 216, 343, 512, 729, 1000]\n"
          ],
          "name": "stdout"
        }
      ]
    },
    {
      "cell_type": "code",
      "metadata": {
        "colab": {
          "base_uri": "https://localhost:8080/"
        },
        "id": "swSNzTKrzwBC",
        "outputId": "b74c3dd5-a2a9-48e6-c3ab-aaed637e4e4a"
      },
      "source": [
        "result = [ x**3 for x in a ]\n",
        "print(result)"
      ],
      "execution_count": 3,
      "outputs": [
        {
          "output_type": "stream",
          "text": [
            "[1, 8, 27, 64, 125, 216, 343, 512, 729, 1000]\n"
          ],
          "name": "stdout"
        }
      ]
    },
    {
      "cell_type": "code",
      "metadata": {
        "colab": {
          "base_uri": "https://localhost:8080/"
        },
        "id": "NdfptIM6zw77",
        "outputId": "554cf110-ff8c-48b2-d73a-8c6b93a0f617"
      },
      "source": [
        "list1 = [1, 2, 3, 4, 5, 6, 7, 8, 9, 10]\n",
        "list2 = [1, 2, 3, 4, 5, 6, 7, 8, 9, 10]\n",
        "\n",
        "def map_example(a, b):\n",
        "    return a * b\n",
        "\n",
        "result = list(map(map_example, list1, list2))\n",
        "print(result)"
      ],
      "execution_count": 4,
      "outputs": [
        {
          "output_type": "stream",
          "text": [
            "[1, 4, 9, 16, 25, 36, 49, 64, 81, 100]\n"
          ],
          "name": "stdout"
        }
      ]
    },
    {
      "cell_type": "code",
      "metadata": {
        "colab": {
          "base_uri": "https://localhost:8080/"
        },
        "id": "FNKSxL6szzll",
        "outputId": "2d469b12-a389-4040-b7ec-d2e953c196df"
      },
      "source": [
        "list1 = [1, 2, 3, 4, 5, 6, 7, 8, 9, 10]\n",
        "list2 = [1, 2, 3, 4, 5, 6, 7, 8, 9, 10]\n",
        "\n",
        "result = [x*y for x, y in zip(list1, list2)]\n",
        "print(result)"
      ],
      "execution_count": 5,
      "outputs": [
        {
          "output_type": "stream",
          "text": [
            "[1, 4, 9, 16, 25, 36, 49, 64, 81, 100]\n"
          ],
          "name": "stdout"
        }
      ]
    },
    {
      "cell_type": "code",
      "metadata": {
        "colab": {
          "base_uri": "https://localhost:8080/"
        },
        "id": "VDgUnUlcz16Y",
        "outputId": "f9e32161-520e-4c64-f428-2f8ed34e4cbe"
      },
      "source": [
        "list1 = [1, 2, 3, 4, 5]\n",
        "list2 = [1, 2, 3, 4, 5, 6, 7]\n",
        "list3 = [1, 2, 3, 4, 5, 6, 7, 8, 9, 10]\n",
        "\n",
        "def map_example(a, b, c):\n",
        "    return a * b * c\n",
        "\n",
        "result = list(map(map_example, list1, list2, list3))\n",
        "print(result)"
      ],
      "execution_count": 6,
      "outputs": [
        {
          "output_type": "stream",
          "text": [
            "[1, 8, 27, 64, 125]\n"
          ],
          "name": "stdout"
        }
      ]
    },
    {
      "cell_type": "code",
      "metadata": {
        "colab": {
          "base_uri": "https://localhost:8080/"
        },
        "id": "CXhER3Q_z3aQ",
        "outputId": "4aa6792d-8aca-4df2-f40e-507a840b4baa"
      },
      "source": [
        "list1 = [1, 2, 3, 4, 5]\n",
        "list2 = [1, 2, 3, 4, 5, 6, 7]\n",
        "list3 = [1, 2, 3, 4, 5, 6, 7, 8, 9, 10]\n",
        "\n",
        "result = list(map(lambda a,b,c: a*b*c,  list1, list2, list3))\n",
        "print(result)"
      ],
      "execution_count": 7,
      "outputs": [
        {
          "output_type": "stream",
          "text": [
            "[1, 8, 27, 64, 125]\n"
          ],
          "name": "stdout"
        }
      ]
    },
    {
      "cell_type": "code",
      "metadata": {
        "colab": {
          "base_uri": "https://localhost:8080/"
        },
        "id": "ltHGz3sRz4zA",
        "outputId": "84343dc0-1a3d-49e5-c56b-d5e84cade3ec"
      },
      "source": [
        "list1 = [1, 2, 3, 4, 5]\n",
        "list2 = [1, 2, 3, 4, 5, 6, 7]\n",
        "list3 = [1, 2, 3, 4, 5, 6, 7, 8, 9, 10]\n",
        "\n",
        "result = [x*y*z for x, y, z in zip(list1, list2, list3)]\n",
        "print(result)"
      ],
      "execution_count": 8,
      "outputs": [
        {
          "output_type": "stream",
          "text": [
            "[1, 8, 27, 64, 125]\n"
          ],
          "name": "stdout"
        }
      ]
    },
    {
      "cell_type": "code",
      "metadata": {
        "colab": {
          "base_uri": "https://localhost:8080/"
        },
        "id": "tcqs61nkz7eT",
        "outputId": "7da4450a-38fd-45ce-c76d-8a3a0260ee16"
      },
      "source": [
        "a = range(1,11)\n",
        "map(lambda x: x**3, a)"
      ],
      "execution_count": 9,
      "outputs": [
        {
          "output_type": "execute_result",
          "data": {
            "text/plain": [
              "<map at 0x7f07c5db0d30>"
            ]
          },
          "metadata": {
            "tags": []
          },
          "execution_count": 9
        }
      ]
    },
    {
      "cell_type": "code",
      "metadata": {
        "colab": {
          "base_uri": "https://localhost:8080/"
        },
        "id": "LNP4V4cF0BHA",
        "outputId": "cda45095-908e-41de-93b3-ecb51948ec78"
      },
      "source": [
        "list(map(lambda x: x**3, a))"
      ],
      "execution_count": 10,
      "outputs": [
        {
          "output_type": "execute_result",
          "data": {
            "text/plain": [
              "[1, 8, 27, 64, 125, 216, 343, 512, 729, 1000]"
            ]
          },
          "metadata": {
            "tags": []
          },
          "execution_count": 10
        }
      ]
    },
    {
      "cell_type": "code",
      "metadata": {
        "colab": {
          "base_uri": "https://localhost:8080/"
        },
        "id": "jdPigByO0DwX",
        "outputId": "f628e2ce-f5fd-4317-ce40-ce6643983b2c"
      },
      "source": [
        "tuple(map(lambda x: x**3, a))"
      ],
      "execution_count": 11,
      "outputs": [
        {
          "output_type": "execute_result",
          "data": {
            "text/plain": [
              "(1, 8, 27, 64, 125, 216, 343, 512, 729, 1000)"
            ]
          },
          "metadata": {
            "tags": []
          },
          "execution_count": 11
        }
      ]
    },
    {
      "cell_type": "code",
      "metadata": {
        "colab": {
          "base_uri": "https://localhost:8080/"
        },
        "id": "d_MTL19E0Ep-",
        "outputId": "4ba662bb-4e4d-4c7f-eb28-7f464a79da9c"
      },
      "source": [
        "set(map(lambda x: x**3, a))"
      ],
      "execution_count": 12,
      "outputs": [
        {
          "output_type": "execute_result",
          "data": {
            "text/plain": [
              "{1, 8, 27, 64, 125, 216, 343, 512, 729, 1000}"
            ]
          },
          "metadata": {
            "tags": []
          },
          "execution_count": 12
        }
      ]
    },
    {
      "cell_type": "markdown",
      "metadata": {
        "id": "YWQvdkOw0JNA"
      },
      "source": [
        "# filter"
      ]
    },
    {
      "cell_type": "code",
      "metadata": {
        "colab": {
          "base_uri": "https://localhost:8080/"
        },
        "id": "xBcGtHdx0FcJ",
        "outputId": "16b40cb9-b2c0-4597-8e03-58b5fd8547fa"
      },
      "source": [
        "a = [i**2 for i in range(1, 11)]\n",
        "print(a)"
      ],
      "execution_count": 13,
      "outputs": [
        {
          "output_type": "stream",
          "text": [
            "[1, 4, 9, 16, 25, 36, 49, 64, 81, 100]\n"
          ],
          "name": "stdout"
        }
      ]
    },
    {
      "cell_type": "code",
      "metadata": {
        "colab": {
          "base_uri": "https://localhost:8080/"
        },
        "id": "6itsXWuo0KBW",
        "outputId": "031ae3e6-4ce2-47ae-f6c5-de37944b0e76"
      },
      "source": [
        "def filter_example(x):\n",
        "    if x < 50:\n",
        "        return x\n",
        "\n",
        "result = list(filter(filter_example, a))\n",
        "print(result)"
      ],
      "execution_count": 14,
      "outputs": [
        {
          "output_type": "stream",
          "text": [
            "[1, 4, 9, 16, 25, 36, 49]\n"
          ],
          "name": "stdout"
        }
      ]
    },
    {
      "cell_type": "code",
      "metadata": {
        "colab": {
          "base_uri": "https://localhost:8080/"
        },
        "id": "-1FJH-NO0LNm",
        "outputId": "7fd3b11d-2924-4116-9f59-730210725674"
      },
      "source": [
        "result = [x for x in a if x < 50]\n",
        "print(result)"
      ],
      "execution_count": 15,
      "outputs": [
        {
          "output_type": "stream",
          "text": [
            "[1, 4, 9, 16, 25, 36, 49]\n"
          ],
          "name": "stdout"
        }
      ]
    },
    {
      "cell_type": "code",
      "metadata": {
        "colab": {
          "base_uri": "https://localhost:8080/"
        },
        "id": "CY9sUuy90MX3",
        "outputId": "cbf5a878-9d1d-4559-cde3-0bee4026d74f"
      },
      "source": [
        "print(a)"
      ],
      "execution_count": 16,
      "outputs": [
        {
          "output_type": "stream",
          "text": [
            "[1, 4, 9, 16, 25, 36, 49, 64, 81, 100]\n"
          ],
          "name": "stdout"
        }
      ]
    },
    {
      "cell_type": "code",
      "metadata": {
        "colab": {
          "base_uri": "https://localhost:8080/"
        },
        "id": "j9cJA4Ml0Nyz",
        "outputId": "b6800068-5cb0-427e-847e-de0bc8280fd5"
      },
      "source": [
        "result = list(filter(None, a))\n",
        "print(result)"
      ],
      "execution_count": 17,
      "outputs": [
        {
          "output_type": "stream",
          "text": [
            "[1, 4, 9, 16, 25, 36, 49, 64, 81, 100]\n"
          ],
          "name": "stdout"
        }
      ]
    },
    {
      "cell_type": "code",
      "metadata": {
        "colab": {
          "base_uri": "https://localhost:8080/"
        },
        "id": "KfZJP_Bu0Okc",
        "outputId": "00478da0-b1d8-4e39-f8dc-3ea9f29ef8ed"
      },
      "source": [
        "filter(lambda x: x < 50, a)"
      ],
      "execution_count": 18,
      "outputs": [
        {
          "output_type": "execute_result",
          "data": {
            "text/plain": [
              "<filter at 0x7f07c5d57a20>"
            ]
          },
          "metadata": {
            "tags": []
          },
          "execution_count": 18
        }
      ]
    },
    {
      "cell_type": "code",
      "metadata": {
        "colab": {
          "base_uri": "https://localhost:8080/"
        },
        "id": "pE4MH5Y80UJ9",
        "outputId": "e2ae326c-6f6c-4a18-a25f-bce93f736ffa"
      },
      "source": [
        "list(filter(lambda x: x < 50, a))"
      ],
      "execution_count": 19,
      "outputs": [
        {
          "output_type": "execute_result",
          "data": {
            "text/plain": [
              "[1, 4, 9, 16, 25, 36, 49]"
            ]
          },
          "metadata": {
            "tags": []
          },
          "execution_count": 19
        }
      ]
    },
    {
      "cell_type": "code",
      "metadata": {
        "colab": {
          "base_uri": "https://localhost:8080/"
        },
        "id": "YJdbc_2b0U8g",
        "outputId": "30844e5e-7404-4cf4-f5dd-b1670121053a"
      },
      "source": [
        "tuple(filter(lambda x: x < 50, a))"
      ],
      "execution_count": 21,
      "outputs": [
        {
          "output_type": "execute_result",
          "data": {
            "text/plain": [
              "(1, 4, 9, 16, 25, 36, 49)"
            ]
          },
          "metadata": {
            "tags": []
          },
          "execution_count": 21
        }
      ]
    },
    {
      "cell_type": "code",
      "metadata": {
        "colab": {
          "base_uri": "https://localhost:8080/"
        },
        "id": "j3aHKO0W0V8X",
        "outputId": "747b3f1b-0050-4bc4-d4c9-163751768b31"
      },
      "source": [
        "set(filter(lambda x: x < 50, a))"
      ],
      "execution_count": 22,
      "outputs": [
        {
          "output_type": "execute_result",
          "data": {
            "text/plain": [
              "{1, 4, 9, 16, 25, 36, 49}"
            ]
          },
          "metadata": {
            "tags": []
          },
          "execution_count": 22
        }
      ]
    },
    {
      "cell_type": "markdown",
      "metadata": {
        "id": "W1VUehaQ0Yqu"
      },
      "source": [
        "# zip"
      ]
    },
    {
      "cell_type": "code",
      "metadata": {
        "colab": {
          "base_uri": "https://localhost:8080/"
        },
        "id": "QK_yLRyK0XmS",
        "outputId": "e9327186-7b44-4ff2-e30d-18dc358781d0"
      },
      "source": [
        "list1 = [i for i in range(1,6)]\n",
        "list2 = [i**2 for i in list1]\n",
        "\n",
        "print(list1)\n",
        "print(list2)"
      ],
      "execution_count": 23,
      "outputs": [
        {
          "output_type": "stream",
          "text": [
            "[1, 2, 3, 4, 5]\n",
            "[1, 4, 9, 16, 25]\n"
          ],
          "name": "stdout"
        }
      ]
    },
    {
      "cell_type": "code",
      "metadata": {
        "colab": {
          "base_uri": "https://localhost:8080/"
        },
        "id": "NBX9hXz50Z9L",
        "outputId": "b98f7e9c-c614-499f-ca19-f2ee300f4bde"
      },
      "source": [
        "result = list(zip(list1, list2))\n",
        "print(result)"
      ],
      "execution_count": 24,
      "outputs": [
        {
          "output_type": "stream",
          "text": [
            "[(1, 1), (2, 4), (3, 9), (4, 16), (5, 25)]\n"
          ],
          "name": "stdout"
        }
      ]
    },
    {
      "cell_type": "code",
      "metadata": {
        "colab": {
          "base_uri": "https://localhost:8080/"
        },
        "id": "9twSBqNG0bRC",
        "outputId": "38be0569-ecad-44bd-8cd1-f3eb3d400f4a"
      },
      "source": [
        "list1 = [i for i in range(1, 6)]\n",
        "list2 = [i**2 for i in list1]\n",
        "list3 = [i**3 for i in list1]\n",
        "\n",
        "print(list1)\n",
        "print(list2)\n",
        "print(list3)"
      ],
      "execution_count": 25,
      "outputs": [
        {
          "output_type": "stream",
          "text": [
            "[1, 2, 3, 4, 5]\n",
            "[1, 4, 9, 16, 25]\n",
            "[1, 8, 27, 64, 125]\n"
          ],
          "name": "stdout"
        }
      ]
    },
    {
      "cell_type": "code",
      "metadata": {
        "colab": {
          "base_uri": "https://localhost:8080/"
        },
        "id": "ZHCS4Scx0c5Q",
        "outputId": "d53f5e9a-7984-4554-ef74-30fff4a598d3"
      },
      "source": [
        "result = list(zip(list1, list2, list3))\n",
        "print(result)"
      ],
      "execution_count": 26,
      "outputs": [
        {
          "output_type": "stream",
          "text": [
            "[(1, 1, 1), (2, 4, 8), (3, 9, 27), (4, 16, 64), (5, 25, 125)]\n"
          ],
          "name": "stdout"
        }
      ]
    },
    {
      "cell_type": "code",
      "metadata": {
        "colab": {
          "base_uri": "https://localhost:8080/"
        },
        "id": "op99CdUx0eDZ",
        "outputId": "6d95cf1a-758a-4354-9a19-03ec4e5ccba3"
      },
      "source": [
        "list1 = ['a','b','c','d','e','f','g']\n",
        "list2 = [i**2 for i in range(1,10)]\n",
        "list3 = [i**3 for i in range(1,6)]\n",
        "\n",
        "print(list1)\n",
        "print(list2)\n",
        "print(list3)"
      ],
      "execution_count": 27,
      "outputs": [
        {
          "output_type": "stream",
          "text": [
            "['a', 'b', 'c', 'd', 'e', 'f', 'g']\n",
            "[1, 4, 9, 16, 25, 36, 49, 64, 81]\n",
            "[1, 8, 27, 64, 125]\n"
          ],
          "name": "stdout"
        }
      ]
    },
    {
      "cell_type": "code",
      "metadata": {
        "colab": {
          "base_uri": "https://localhost:8080/"
        },
        "id": "o-w4vzNa0fUh",
        "outputId": "e4ca818b-846f-4fe7-c2d3-322edacaa2bd"
      },
      "source": [
        "result = list(zip(list1, list2, list3))\n",
        "print(result)"
      ],
      "execution_count": 28,
      "outputs": [
        {
          "output_type": "stream",
          "text": [
            "[('a', 1, 1), ('b', 4, 8), ('c', 9, 27), ('d', 16, 64), ('e', 25, 125)]\n"
          ],
          "name": "stdout"
        }
      ]
    },
    {
      "cell_type": "code",
      "metadata": {
        "colab": {
          "base_uri": "https://localhost:8080/"
        },
        "id": "egG1UnQR0gkt",
        "outputId": "4b8af292-1e70-4792-9ff2-bbf59d4ac502"
      },
      "source": [
        "list1 = [i for i in range(1,6)]\n",
        "list2 = [i**2 for i in list1]\n",
        "\n",
        "print(list1)\n",
        "print(list2)"
      ],
      "execution_count": 29,
      "outputs": [
        {
          "output_type": "stream",
          "text": [
            "[1, 2, 3, 4, 5]\n",
            "[1, 4, 9, 16, 25]\n"
          ],
          "name": "stdout"
        }
      ]
    },
    {
      "cell_type": "code",
      "metadata": {
        "colab": {
          "base_uri": "https://localhost:8080/"
        },
        "id": "ApmpTax10pFw",
        "outputId": "56391eaf-2218-43cf-82c0-a2d04a4bba6b"
      },
      "source": [
        "zip(list1, list2)"
      ],
      "execution_count": 30,
      "outputs": [
        {
          "output_type": "execute_result",
          "data": {
            "text/plain": [
              "<zip at 0x7f07bdf59288>"
            ]
          },
          "metadata": {
            "tags": []
          },
          "execution_count": 30
        }
      ]
    },
    {
      "cell_type": "code",
      "metadata": {
        "colab": {
          "base_uri": "https://localhost:8080/"
        },
        "id": "Vvj5OHc90rnw",
        "outputId": "c147133e-a9b0-46e9-b221-3f20d92bc6b2"
      },
      "source": [
        "list(zip(list1, list2))"
      ],
      "execution_count": 31,
      "outputs": [
        {
          "output_type": "execute_result",
          "data": {
            "text/plain": [
              "[(1, 1), (2, 4), (3, 9), (4, 16), (5, 25)]"
            ]
          },
          "metadata": {
            "tags": []
          },
          "execution_count": 31
        }
      ]
    },
    {
      "cell_type": "code",
      "metadata": {
        "colab": {
          "base_uri": "https://localhost:8080/"
        },
        "id": "lsdh7FO70sdo",
        "outputId": "66b4df19-db2e-4e20-90da-6e9f5463e0d7"
      },
      "source": [
        "tuple(zip(list1, list2))"
      ],
      "execution_count": 32,
      "outputs": [
        {
          "output_type": "execute_result",
          "data": {
            "text/plain": [
              "((1, 1), (2, 4), (3, 9), (4, 16), (5, 25))"
            ]
          },
          "metadata": {
            "tags": []
          },
          "execution_count": 32
        }
      ]
    },
    {
      "cell_type": "code",
      "metadata": {
        "colab": {
          "base_uri": "https://localhost:8080/"
        },
        "id": "EGBL00gx0tSC",
        "outputId": "7ccf34f7-08ec-40d4-c3d0-6bfafe84a252"
      },
      "source": [
        "set(zip(list1, list2))"
      ],
      "execution_count": 33,
      "outputs": [
        {
          "output_type": "execute_result",
          "data": {
            "text/plain": [
              "{(1, 1), (2, 4), (3, 9), (4, 16), (5, 25)}"
            ]
          },
          "metadata": {
            "tags": []
          },
          "execution_count": 33
        }
      ]
    }
  ]
}