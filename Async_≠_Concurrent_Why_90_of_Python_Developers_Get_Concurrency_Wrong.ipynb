{
  "nbformat": 4,
  "nbformat_minor": 0,
  "metadata": {
    "colab": {
      "provenance": [],
      "authorship_tag": "ABX9TyOCrwyzuv+BXmM1hb1mh5Mi"
    },
    "kernelspec": {
      "name": "python3",
      "display_name": "Python 3"
    },
    "language_info": {
      "name": "python"
    }
  },
  "cells": [
    {
      "cell_type": "markdown",
      "source": [
        "[Reference](https://medium.com/@dhruvahuja2330/async-concurrent-why-90-of-python-developers-get-concurrency-wrong-0a79dfae362e)"
      ],
      "metadata": {
        "id": "dTo6u_N00OSR"
      }
    },
    {
      "cell_type": "code",
      "execution_count": 1,
      "metadata": {
        "colab": {
          "base_uri": "https://localhost:8080/"
        },
        "id": "2yq07fbLzS2H",
        "outputId": "51d2b62b-2390-4d93-993d-8bee1114e08d"
      },
      "outputs": [
        {
          "output_type": "execute_result",
          "data": {
            "text/plain": [
              "<coroutine object greet at 0x7be0bd574ac0>"
            ]
          },
          "metadata": {},
          "execution_count": 1
        }
      ],
      "source": [
        "import asyncio\n",
        "\n",
        "async def greet():\n",
        "    print(\"Hello\")\n",
        "    await asyncio.sleep(1)   # pause here\n",
        "    print(\"World\")\n",
        "\n",
        "greet()"
      ]
    },
    {
      "cell_type": "code",
      "source": [
        "import asyncio, time\n",
        "\n",
        "async def fetch_data(url):\n",
        "    print(f\"Fetching {url}\")\n",
        "    await asyncio.sleep(2)\n",
        "    return f\"Data from {url}\"\n",
        "\n",
        "async def main():\n",
        "    start = time.time()\n",
        "    result1 = await fetch_data(\"https://api1.com\")\n",
        "    result2 = await fetch_data(\"https://api2.com\")\n",
        "    result3 = await fetch_data(\"https://api3.com\")\n",
        "    end = time.time()\n",
        "    print(f\"Total time: {end - start:.2f}s\")\n",
        "\n",
        "asyncio.run(main())"
      ],
      "metadata": {
        "id": "P2Fzk-p_0Sbj"
      },
      "execution_count": 3,
      "outputs": []
    },
    {
      "cell_type": "markdown",
      "source": [
        "# Scheduling With create_task()"
      ],
      "metadata": {
        "id": "YjauzPVR0ZiT"
      }
    },
    {
      "cell_type": "code",
      "source": [
        "import asyncio, time\n",
        "\n",
        "async def fetch_data(url):\n",
        "    print(f\"Fetching {url}\")\n",
        "    await asyncio.sleep(2)\n",
        "    return f\"Data from {url}\"\n",
        "\n",
        "async def main():\n",
        "    start = time.time()\n",
        "    task1 = asyncio.create_task(fetch_data(\"https://api1.com\"))\n",
        "    task2 = asyncio.create_task(fetch_data(\"https://api2.com\"))\n",
        "    task3 = asyncio.create_task(fetch_data(\"https://api3.com\"))\n",
        "    results = await asyncio.gather(task1, task2, task3)\n",
        "    end = time.time()\n",
        "    print(f\"Total time: {end - start:.2f}s\")\n",
        "    print(\"Results:\", results)\n",
        "\n",
        "asyncio.run(main())"
      ],
      "metadata": {
        "id": "vlJss9X20Usm"
      },
      "execution_count": 4,
      "outputs": []
    },
    {
      "cell_type": "code",
      "source": [
        "import asyncio, aiohttp\n",
        "from asyncio import Semaphore\n",
        "\n",
        "class APIClient:\n",
        "    def __init__(self, max_concurrent=5):\n",
        "        self.sem = Semaphore(max_concurrent)\n",
        "\n",
        "    async def fetch(self, session, uid):\n",
        "        async with self.sem:   # only N tasks allowed at once\n",
        "            async with session.get(f\"https://api.com/users/{uid}\") as resp:\n",
        "                return await resp.json()\n",
        "\n",
        "    async def fetch_all(self, uids):\n",
        "        async with aiohttp.ClientSession() as s:\n",
        "            tasks = [asyncio.create_task(self.fetch(s, uid)) for uid in uids]\n",
        "            return await asyncio.gather(*tasks)\n",
        "\n",
        "client = APIClient(max_concurrent=10)\n",
        "results = asyncio.run(client.fetch_all(range(50)))"
      ],
      "metadata": {
        "id": "fjCSmAen0ar3"
      },
      "execution_count": 5,
      "outputs": []
    }
  ]
}