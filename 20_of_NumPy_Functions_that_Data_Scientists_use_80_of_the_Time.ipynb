{
  "nbformat": 4,
  "nbformat_minor": 0,
  "metadata": {
    "colab": {
      "name": "20% of NumPy Functions that Data Scientists use 80% of the Time.ipynb",
      "provenance": [],
      "authorship_tag": "ABX9TyOZCwRZW12E3Xv6r5S9rr2L"
    },
    "kernelspec": {
      "name": "python3",
      "display_name": "Python 3"
    },
    "language_info": {
      "name": "python"
    }
  },
  "cells": [
    {
      "cell_type": "markdown",
      "source": [
        "[Reference](https://towardsdatascience.com/20-of-numpy-functions-that-data-scientists-use-80-of-the-time-d8bd9c7d144b)"
      ],
      "metadata": {
        "id": "V0zcdLYFPk2q"
      }
    },
    {
      "cell_type": "code",
      "execution_count": 52,
      "metadata": {
        "id": "my0SqvxYPjLd"
      },
      "outputs": [],
      "source": [
        "import numpy as np\n",
        "import pandas as pd"
      ]
    },
    {
      "cell_type": "markdown",
      "source": [
        "# #1 Numpy Array Creation Methods\n"
      ],
      "metadata": {
        "id": "3ieaw13aQgkd"
      }
    },
    {
      "cell_type": "markdown",
      "source": [
        "## 1/n: Create a NumPy array from a python list\n"
      ],
      "metadata": {
        "id": "suPyMZwvP7ix"
      }
    },
    {
      "cell_type": "code",
      "source": [
        "a = [1, 2, 3]\n",
        "np.array(a)"
      ],
      "metadata": {
        "colab": {
          "base_uri": "https://localhost:8080/"
        },
        "id": "OmnVyuXtP4dn",
        "outputId": "33aa86dd-3c22-4947-9343-f1cd18c1d6c8"
      },
      "execution_count": 53,
      "outputs": [
        {
          "output_type": "execute_result",
          "data": {
            "text/plain": [
              "array([1, 2, 3])"
            ]
          },
          "metadata": {},
          "execution_count": 53
        }
      ]
    },
    {
      "cell_type": "code",
      "source": [
        "a = [1, 2, 3]\n",
        "type(np.array(a))"
      ],
      "metadata": {
        "colab": {
          "base_uri": "https://localhost:8080/"
        },
        "id": "ZirX3iBbP9bA",
        "outputId": "192d500e-28a9-4816-fc7a-af7fe7feecbc"
      },
      "execution_count": 54,
      "outputs": [
        {
          "output_type": "execute_result",
          "data": {
            "text/plain": [
              "numpy.ndarray"
            ]
          },
          "metadata": {},
          "execution_count": 54
        }
      ]
    },
    {
      "cell_type": "code",
      "source": [
        "a = [[1,2,3], [4,5,6]]\n",
        "np.array(a)"
      ],
      "metadata": {
        "colab": {
          "base_uri": "https://localhost:8080/"
        },
        "id": "j42thmkeP-M7",
        "outputId": "2cf3ca3b-fed5-4a66-bcb4-89d256f8f870"
      },
      "execution_count": 55,
      "outputs": [
        {
          "output_type": "execute_result",
          "data": {
            "text/plain": [
              "array([[1, 2, 3],\n",
              "       [4, 5, 6]])"
            ]
          },
          "metadata": {},
          "execution_count": 55
        }
      ]
    },
    {
      "cell_type": "code",
      "source": [
        "a = [[1,2,3], [4,5,6]]\n",
        "np.array(a, dtype = np.float32)"
      ],
      "metadata": {
        "colab": {
          "base_uri": "https://localhost:8080/"
        },
        "id": "cOlZjBcvP_Sw",
        "outputId": "1c4b12f9-63cb-4ad6-edf7-9b37f7eaa597"
      },
      "execution_count": 56,
      "outputs": [
        {
          "output_type": "execute_result",
          "data": {
            "text/plain": [
              "array([[1., 2., 3.],\n",
              "       [4., 5., 6.]], dtype=float32)"
            ]
          },
          "metadata": {},
          "execution_count": 56
        }
      ]
    },
    {
      "cell_type": "markdown",
      "source": [
        "## 2/n: Create a NumPy array of Zeros\n"
      ],
      "metadata": {
        "id": "byXww5rKQBNG"
      }
    },
    {
      "cell_type": "code",
      "source": [
        "np.zeros(5)"
      ],
      "metadata": {
        "colab": {
          "base_uri": "https://localhost:8080/"
        },
        "id": "ekV0X2tZQAK8",
        "outputId": "303ddb18-890f-4621-f103-a35e1514728f"
      },
      "execution_count": 57,
      "outputs": [
        {
          "output_type": "execute_result",
          "data": {
            "text/plain": [
              "array([0., 0., 0., 0., 0.])"
            ]
          },
          "metadata": {},
          "execution_count": 57
        }
      ]
    },
    {
      "cell_type": "code",
      "source": [
        "np.zeros((2, 3))"
      ],
      "metadata": {
        "colab": {
          "base_uri": "https://localhost:8080/"
        },
        "id": "jRDFErpgQDLz",
        "outputId": "42c83ea1-6502-4459-f1d0-c6b40d1d35d8"
      },
      "execution_count": 58,
      "outputs": [
        {
          "output_type": "execute_result",
          "data": {
            "text/plain": [
              "array([[0., 0., 0.],\n",
              "       [0., 0., 0.]])"
            ]
          },
          "metadata": {},
          "execution_count": 58
        }
      ]
    },
    {
      "cell_type": "markdown",
      "source": [
        "## 3/n: Create a NumPy array of Ones\n"
      ],
      "metadata": {
        "id": "nqon2y87QFUb"
      }
    },
    {
      "cell_type": "code",
      "source": [
        "np.ones((2, 3))"
      ],
      "metadata": {
        "colab": {
          "base_uri": "https://localhost:8080/"
        },
        "id": "NeJWiJcPQETs",
        "outputId": "355804cd-ea4c-413b-dac5-a248c1047787"
      },
      "execution_count": 59,
      "outputs": [
        {
          "output_type": "execute_result",
          "data": {
            "text/plain": [
              "array([[1., 1., 1.],\n",
              "       [1., 1., 1.]])"
            ]
          },
          "metadata": {},
          "execution_count": 59
        }
      ]
    },
    {
      "cell_type": "markdown",
      "source": [
        "## 4/n: Create an Identity Numpy Array\n"
      ],
      "metadata": {
        "id": "ZPRslRsXQIf5"
      }
    },
    {
      "cell_type": "code",
      "source": [
        "np.eye(3)"
      ],
      "metadata": {
        "colab": {
          "base_uri": "https://localhost:8080/"
        },
        "id": "rWWel1V7QHFB",
        "outputId": "1f6ada23-ede6-4d6b-c4dc-e3a0f891b2ac"
      },
      "execution_count": 60,
      "outputs": [
        {
          "output_type": "execute_result",
          "data": {
            "text/plain": [
              "array([[1., 0., 0.],\n",
              "       [0., 1., 0.],\n",
              "       [0., 0., 1.]])"
            ]
          },
          "metadata": {},
          "execution_count": 60
        }
      ]
    },
    {
      "cell_type": "markdown",
      "source": [
        "## 5/n: Create an equally spaced Numpy Array with a specific step\n"
      ],
      "metadata": {
        "id": "DHVMVWm4QMDf"
      }
    },
    {
      "cell_type": "code",
      "source": [
        "np.arange(10)"
      ],
      "metadata": {
        "colab": {
          "base_uri": "https://localhost:8080/"
        },
        "id": "rZ4gjFkeQKlq",
        "outputId": "a7bfd986-a26c-4b30-a520-50e6e75f3948"
      },
      "execution_count": 61,
      "outputs": [
        {
          "output_type": "execute_result",
          "data": {
            "text/plain": [
              "array([0, 1, 2, 3, 4, 5, 6, 7, 8, 9])"
            ]
          },
          "metadata": {},
          "execution_count": 61
        }
      ]
    },
    {
      "cell_type": "code",
      "source": [
        "np.arange(5, 11)"
      ],
      "metadata": {
        "colab": {
          "base_uri": "https://localhost:8080/"
        },
        "id": "kNGKiBKJQN5D",
        "outputId": "99644f9f-e057-4fb8-a4de-576d5255666e"
      },
      "execution_count": 62,
      "outputs": [
        {
          "output_type": "execute_result",
          "data": {
            "text/plain": [
              "array([ 5,  6,  7,  8,  9, 10])"
            ]
          },
          "metadata": {},
          "execution_count": 62
        }
      ]
    },
    {
      "cell_type": "code",
      "source": [
        "np.arange(5, 11, 2)"
      ],
      "metadata": {
        "colab": {
          "base_uri": "https://localhost:8080/"
        },
        "id": "_fDmdV2zQOxT",
        "outputId": "e265fb57-1cae-497e-bdbd-030880144b49"
      },
      "execution_count": 63,
      "outputs": [
        {
          "output_type": "execute_result",
          "data": {
            "text/plain": [
              "array([5, 7, 9])"
            ]
          },
          "metadata": {},
          "execution_count": 63
        }
      ]
    },
    {
      "cell_type": "markdown",
      "source": [
        "## 6/n: Create an equally spaced Numpy Array with a specific array size\n"
      ],
      "metadata": {
        "id": "O5xTIvnvQQrz"
      }
    },
    {
      "cell_type": "code",
      "source": [
        "np.linspace(start = 10, stop = 20, num = 5)"
      ],
      "metadata": {
        "colab": {
          "base_uri": "https://localhost:8080/"
        },
        "id": "l3YXrfHuQPs5",
        "outputId": "a1ff2e79-3de2-4dd3-b91d-a9df5c0fa68a"
      },
      "execution_count": 64,
      "outputs": [
        {
          "output_type": "execute_result",
          "data": {
            "text/plain": [
              "array([10. , 12.5, 15. , 17.5, 20. ])"
            ]
          },
          "metadata": {},
          "execution_count": 64
        }
      ]
    },
    {
      "cell_type": "markdown",
      "source": [
        "## 7/n: Generate a random numpy array\n"
      ],
      "metadata": {
        "id": "-aAo6XGnQTNb"
      }
    },
    {
      "cell_type": "code",
      "source": [
        "np.random.randint(low = 5, high = 16, size = 5)"
      ],
      "metadata": {
        "colab": {
          "base_uri": "https://localhost:8080/"
        },
        "id": "e9M2OzXuQSNg",
        "outputId": "1fac4f18-c2e4-49b3-9d27-7a65f753100e"
      },
      "execution_count": 65,
      "outputs": [
        {
          "output_type": "execute_result",
          "data": {
            "text/plain": [
              "array([ 9, 14,  6, 14,  8])"
            ]
          },
          "metadata": {},
          "execution_count": 65
        }
      ]
    },
    {
      "cell_type": "code",
      "source": [
        "np.random.random(size = 10)"
      ],
      "metadata": {
        "colab": {
          "base_uri": "https://localhost:8080/"
        },
        "id": "oxC5uIArQVoh",
        "outputId": "13c6f449-042d-4520-ecb6-410278d59bba"
      },
      "execution_count": 66,
      "outputs": [
        {
          "output_type": "execute_result",
          "data": {
            "text/plain": [
              "array([0.24157292, 0.81108708, 0.49576498, 0.506603  , 0.73011095,\n",
              "       0.48800441, 0.34341007, 0.2807585 , 0.14171665, 0.06952923])"
            ]
          },
          "metadata": {},
          "execution_count": 66
        }
      ]
    },
    {
      "cell_type": "markdown",
      "source": [
        "## 8/n: Generate NumPy Array from a Pandas Series\n"
      ],
      "metadata": {
        "id": "45oxdJ9kQYLX"
      }
    },
    {
      "cell_type": "code",
      "source": [
        "s = pd.Series([1,2,3,4], name = \"col\")\n",
        "np.array(s)"
      ],
      "metadata": {
        "colab": {
          "base_uri": "https://localhost:8080/"
        },
        "id": "0FdaSnXCQWvr",
        "outputId": "26a2e625-7990-4164-bcc5-fb481a878dc7"
      },
      "execution_count": 67,
      "outputs": [
        {
          "output_type": "execute_result",
          "data": {
            "text/plain": [
              "array([1, 2, 3, 4])"
            ]
          },
          "metadata": {},
          "execution_count": 67
        }
      ]
    },
    {
      "cell_type": "code",
      "source": [
        "s = pd.Series([1,2,3,4], name = \"col\")\n",
        "np.asarray(s)"
      ],
      "metadata": {
        "colab": {
          "base_uri": "https://localhost:8080/"
        },
        "id": "uqJI3W9gQbj6",
        "outputId": "c036a51f-1724-4071-afb7-678530269f6a"
      },
      "execution_count": 68,
      "outputs": [
        {
          "output_type": "execute_result",
          "data": {
            "text/plain": [
              "array([1, 2, 3, 4])"
            ]
          },
          "metadata": {},
          "execution_count": 68
        }
      ]
    },
    {
      "cell_type": "markdown",
      "source": [
        "# #2 NumPy Array Manipulation Methods\n"
      ],
      "metadata": {
        "id": "EpsxJeMOQdeb"
      }
    },
    {
      "cell_type": "markdown",
      "source": [
        "## 1/n: Shape of the NumPy Array\n"
      ],
      "metadata": {
        "id": "78XGm3NbQoYt"
      }
    },
    {
      "cell_type": "code",
      "source": [
        "a = np.ones((2, 3))\n",
        "print(\"Shape of the array - Method 1:\", np.shape(a))\n",
        "print(\"Shape of the array - Method 2:\", a.shape)"
      ],
      "metadata": {
        "colab": {
          "base_uri": "https://localhost:8080/"
        },
        "id": "dn6sIFTqQb26",
        "outputId": "1a860401-ddce-44a2-8b8c-eff6b6bffcc0"
      },
      "execution_count": 69,
      "outputs": [
        {
          "output_type": "stream",
          "name": "stdout",
          "text": [
            "Shape of the array - Method 1: (2, 3)\n",
            "Shape of the array - Method 2: (2, 3)\n"
          ]
        }
      ]
    },
    {
      "cell_type": "markdown",
      "source": [
        "## 2/n: Reshape the NumPy Array\n"
      ],
      "metadata": {
        "id": "wV0n_zvFQrC8"
      }
    },
    {
      "cell_type": "code",
      "source": [
        "a = np.arange(10)\n",
        "a.reshape((2, 5))"
      ],
      "metadata": {
        "colab": {
          "base_uri": "https://localhost:8080/"
        },
        "id": "b_KZU6K0Qqdn",
        "outputId": "02537f4c-743c-4cde-89ef-dfc98b81b09c"
      },
      "execution_count": 70,
      "outputs": [
        {
          "output_type": "execute_result",
          "data": {
            "text/plain": [
              "array([[0, 1, 2, 3, 4],\n",
              "       [5, 6, 7, 8, 9]])"
            ]
          },
          "metadata": {},
          "execution_count": 70
        }
      ]
    },
    {
      "cell_type": "markdown",
      "source": [
        "## 3/n: Transpose the NumPy Array\n"
      ],
      "metadata": {
        "id": "F0JFHBGGQtpw"
      }
    },
    {
      "cell_type": "code",
      "source": [
        "a = np.arange(12).reshape((6, 2))\n",
        "a.transpose()"
      ],
      "metadata": {
        "colab": {
          "base_uri": "https://localhost:8080/"
        },
        "id": "kfP1prZbQsgv",
        "outputId": "5c7eb6b7-6295-49a0-efc1-aade520fdfcd"
      },
      "execution_count": 71,
      "outputs": [
        {
          "output_type": "execute_result",
          "data": {
            "text/plain": [
              "array([[ 0,  2,  4,  6,  8, 10],\n",
              "       [ 1,  3,  5,  7,  9, 11]])"
            ]
          },
          "metadata": {},
          "execution_count": 71
        }
      ]
    },
    {
      "cell_type": "code",
      "source": [
        "a = np.arange(12).reshape((6, 2))\n",
        "a.T"
      ],
      "metadata": {
        "colab": {
          "base_uri": "https://localhost:8080/"
        },
        "id": "FSHb-RjyQw5L",
        "outputId": "b194cfca-2dea-449c-b988-ce6edfc586dc"
      },
      "execution_count": 72,
      "outputs": [
        {
          "output_type": "execute_result",
          "data": {
            "text/plain": [
              "array([[ 0,  2,  4,  6,  8, 10],\n",
              "       [ 1,  3,  5,  7,  9, 11]])"
            ]
          },
          "metadata": {},
          "execution_count": 72
        }
      ]
    },
    {
      "cell_type": "markdown",
      "source": [
        "## 4/n: Concatenate multiple NumPy arrays to form one NumPy Array\n"
      ],
      "metadata": {
        "id": "2g92fQZ4QzF-"
      }
    },
    {
      "cell_type": "code",
      "source": [
        "## Concatenate Row-wise\n",
        "\n",
        "a = np.array([[1, 2], [3, 4]])\n",
        "b = np.array([[5, 6]])\n",
        "np.concatenate((a, b), axis=0)"
      ],
      "metadata": {
        "colab": {
          "base_uri": "https://localhost:8080/"
        },
        "id": "Gi0-anwPQylL",
        "outputId": "1455c473-af1b-4cbe-b312-4c254f669cf2"
      },
      "execution_count": 73,
      "outputs": [
        {
          "output_type": "execute_result",
          "data": {
            "text/plain": [
              "array([[1, 2],\n",
              "       [3, 4],\n",
              "       [5, 6]])"
            ]
          },
          "metadata": {},
          "execution_count": 73
        }
      ]
    },
    {
      "cell_type": "code",
      "source": [
        "## Concatenate Column-wise\n",
        "\n",
        "a = np.array([[1, 2], [3, 4]])\n",
        "b = np.array([[5, 6]])\n",
        "np.concatenate((a, b.T), axis=1)"
      ],
      "metadata": {
        "colab": {
          "base_uri": "https://localhost:8080/"
        },
        "id": "vgGzAq64Q13Y",
        "outputId": "cbc31bea-fd84-4e97-ec9b-0dac954a9e13"
      },
      "execution_count": 74,
      "outputs": [
        {
          "output_type": "execute_result",
          "data": {
            "text/plain": [
              "array([[1, 2, 5],\n",
              "       [3, 4, 6]])"
            ]
          },
          "metadata": {},
          "execution_count": 74
        }
      ]
    },
    {
      "cell_type": "code",
      "source": [
        "## Concatenate to generate a flat NumPy Array\n",
        "\n",
        "a = np.array([[1, 2], [3, 4]])\n",
        "b = np.array([[5, 6]])\n",
        "np.concatenate((a, b), axis=None)"
      ],
      "metadata": {
        "colab": {
          "base_uri": "https://localhost:8080/"
        },
        "id": "hMwzmEo-Q19i",
        "outputId": "76a9604f-22cb-4da9-9c73-dd234f98314d"
      },
      "execution_count": 75,
      "outputs": [
        {
          "output_type": "execute_result",
          "data": {
            "text/plain": [
              "array([1, 2, 3, 4, 5, 6])"
            ]
          },
          "metadata": {},
          "execution_count": 75
        }
      ]
    },
    {
      "cell_type": "markdown",
      "source": [
        "## 5/n: Flatten NumPy Array\n"
      ],
      "metadata": {
        "id": "y0BdRlbmQ5YZ"
      }
    },
    {
      "cell_type": "code",
      "source": [
        "a = np.array([[1,2], [3,4]])\n",
        "a.flatten()"
      ],
      "metadata": {
        "colab": {
          "base_uri": "https://localhost:8080/"
        },
        "id": "O5pghwTOQ4Ot",
        "outputId": "49da215b-1477-4b7c-99ed-863158ddb01e"
      },
      "execution_count": 76,
      "outputs": [
        {
          "output_type": "execute_result",
          "data": {
            "text/plain": [
              "array([1, 2, 3, 4])"
            ]
          },
          "metadata": {},
          "execution_count": 76
        }
      ]
    },
    {
      "cell_type": "markdown",
      "source": [
        "## 6/n: Unique Elements of a NumPy Array\n"
      ],
      "metadata": {
        "id": "IvVSTl8kQ8v5"
      }
    },
    {
      "cell_type": "code",
      "source": [
        "a = np.array([[1, 2], [2, 3]])\n",
        "np.unique(a)"
      ],
      "metadata": {
        "colab": {
          "base_uri": "https://localhost:8080/"
        },
        "id": "wVHGxCxXQ8Nm",
        "outputId": "2d509366-93a3-4344-bb32-a6021d1f08f9"
      },
      "execution_count": 77,
      "outputs": [
        {
          "output_type": "execute_result",
          "data": {
            "text/plain": [
              "array([1, 2, 3])"
            ]
          },
          "metadata": {},
          "execution_count": 77
        }
      ]
    },
    {
      "cell_type": "code",
      "source": [
        "## Return Unique Rows\n",
        "\n",
        "a = np.array([[1, 2, 3], [1, 2, 3], [2, 3, 4]])\n",
        "np.unique(a, axis=0)"
      ],
      "metadata": {
        "colab": {
          "base_uri": "https://localhost:8080/"
        },
        "id": "RjC7Uv_iQ_z_",
        "outputId": "bc1bf100-7cf5-4a1c-fb03-a5b836af8b17"
      },
      "execution_count": 78,
      "outputs": [
        {
          "output_type": "execute_result",
          "data": {
            "text/plain": [
              "array([[1, 2, 3],\n",
              "       [2, 3, 4]])"
            ]
          },
          "metadata": {},
          "execution_count": 78
        }
      ]
    },
    {
      "cell_type": "code",
      "source": [
        "## Return Unique Columns\n",
        "\n",
        "a = np.array([[1, 1, 3], [1, 1, 3], [1, 1, 4]])\n",
        "np.unique(a, axis=1)"
      ],
      "metadata": {
        "colab": {
          "base_uri": "https://localhost:8080/"
        },
        "id": "b1AEbMTdQ_6l",
        "outputId": "693e0787-0823-4ad4-d409-5cf387d88d1c"
      },
      "execution_count": 79,
      "outputs": [
        {
          "output_type": "execute_result",
          "data": {
            "text/plain": [
              "array([[1, 3],\n",
              "       [1, 3],\n",
              "       [1, 4]])"
            ]
          },
          "metadata": {},
          "execution_count": 79
        }
      ]
    },
    {
      "cell_type": "markdown",
      "source": [
        "## 7/n: Squeeze a NumPy Array\n"
      ],
      "metadata": {
        "id": "LRzid2F5RCS5"
      }
    },
    {
      "cell_type": "code",
      "source": [
        "x = np.array([[[0], [1], [2]]])\n",
        "x.shape"
      ],
      "metadata": {
        "colab": {
          "base_uri": "https://localhost:8080/"
        },
        "id": "JAAcgPG2RBPj",
        "outputId": "42a96c21-9bd2-4e8d-d100-54778b4beca7"
      },
      "execution_count": 80,
      "outputs": [
        {
          "output_type": "execute_result",
          "data": {
            "text/plain": [
              "(1, 3, 1)"
            ]
          },
          "metadata": {},
          "execution_count": 80
        }
      ]
    },
    {
      "cell_type": "code",
      "source": [
        "np.squeeze(x).shape"
      ],
      "metadata": {
        "colab": {
          "base_uri": "https://localhost:8080/"
        },
        "id": "XA-ZMtTDRGV4",
        "outputId": "80d9f808-7294-4511-d5d9-360c3d9df99b"
      },
      "execution_count": 81,
      "outputs": [
        {
          "output_type": "execute_result",
          "data": {
            "text/plain": [
              "(3,)"
            ]
          },
          "metadata": {},
          "execution_count": 81
        }
      ]
    },
    {
      "cell_type": "markdown",
      "source": [
        "## 8/n: Transform NumPy Array to Python List\n"
      ],
      "metadata": {
        "id": "U9aMEUgzRH8z"
      }
    },
    {
      "cell_type": "code",
      "source": [
        "a = np.array([[1, 1, 3], [1, 1, 3], [1, 1, 4]])\n",
        "a.tolist()"
      ],
      "metadata": {
        "colab": {
          "base_uri": "https://localhost:8080/"
        },
        "id": "P5hfzmHGRGrK",
        "outputId": "be1e5425-007e-4ece-b764-4f15abf57a1c"
      },
      "execution_count": 82,
      "outputs": [
        {
          "output_type": "execute_result",
          "data": {
            "text/plain": [
              "[[1, 1, 3], [1, 1, 3], [1, 1, 4]]"
            ]
          },
          "metadata": {},
          "execution_count": 82
        }
      ]
    },
    {
      "cell_type": "markdown",
      "source": [
        "# #3 Mathematical Operations on NumPy Arrays\n"
      ],
      "metadata": {
        "id": "ooXen9gjRKou"
      }
    },
    {
      "cell_type": "markdown",
      "source": [
        "## 1/n: Trigonometric Functions"
      ],
      "metadata": {
        "id": "bXZ8-qt8RSWQ"
      }
    },
    {
      "cell_type": "code",
      "source": [
        "a = np.array([1,2,3])\n",
        "print(\"Trigonometric Sine   :\", np.sin(a))\n",
        "print(\"Trigonometric Cosine :\", np.cos(a))\n",
        "print(\"Trigonometric Tangent:\", np.tan(a))"
      ],
      "metadata": {
        "colab": {
          "base_uri": "https://localhost:8080/"
        },
        "id": "Dzadxw-bRKG7",
        "outputId": "9abcc61c-24da-4d28-d17d-5e28d377e998"
      },
      "execution_count": 83,
      "outputs": [
        {
          "output_type": "stream",
          "name": "stdout",
          "text": [
            "Trigonometric Sine   : [0.84147098 0.90929743 0.14112001]\n",
            "Trigonometric Cosine : [ 0.54030231 -0.41614684 -0.9899925 ]\n",
            "Trigonometric Tangent: [ 1.55740772 -2.18503986 -0.14254654]\n"
          ]
        }
      ]
    },
    {
      "cell_type": "markdown",
      "source": [
        "## 2/n: Rounding Functions\n"
      ],
      "metadata": {
        "id": "aJGgz7xWRQ0-"
      }
    },
    {
      "cell_type": "code",
      "source": [
        "a = np.linspace(1, 2, 5)\n",
        "\n",
        "\n",
        "print(np.floor(a))\n",
        "print(np.ceil(a))\n",
        "print(np.rint(a))"
      ],
      "metadata": {
        "colab": {
          "base_uri": "https://localhost:8080/"
        },
        "id": "e7UXEl5xRNUw",
        "outputId": "ac06e446-17e8-47bb-e003-28cf90ace385"
      },
      "execution_count": 84,
      "outputs": [
        {
          "output_type": "stream",
          "name": "stdout",
          "text": [
            "[1. 1. 1. 1. 2.]\n",
            "[1. 2. 2. 2. 2.]\n",
            "[1. 1. 2. 2. 2.]\n"
          ]
        }
      ]
    },
    {
      "cell_type": "markdown",
      "source": [
        "## 3/n: Exponents and logarithms\n"
      ],
      "metadata": {
        "id": "Oq9GPFWrRZt0"
      }
    },
    {
      "cell_type": "code",
      "source": [
        "a = np.arange(1, 6)\n",
        "\n",
        "print(np.exp(a).round(2))\n",
        "print(np.log(a).round(2))"
      ],
      "metadata": {
        "colab": {
          "base_uri": "https://localhost:8080/"
        },
        "id": "b0qvvVPsRYqy",
        "outputId": "33261238-aae2-4a81-cbcc-e9e90ed0507c"
      },
      "execution_count": 85,
      "outputs": [
        {
          "output_type": "stream",
          "name": "stdout",
          "text": [
            "[  2.72   7.39  20.09  54.6  148.41]\n",
            "[0.   0.69 1.1  1.39 1.61]\n"
          ]
        }
      ]
    },
    {
      "cell_type": "markdown",
      "source": [
        "# 4/n: Sum and Product\n"
      ],
      "metadata": {
        "id": "6X4R1xATRgeo"
      }
    },
    {
      "cell_type": "code",
      "source": [
        "a = np.array([[1, 2], [3, 4]])\n",
        "\n",
        "print(np.sum(a))\n",
        "print(np.sum(a, axis = 0))\n",
        "print(np.sum(a, axis = 1))"
      ],
      "metadata": {
        "colab": {
          "base_uri": "https://localhost:8080/"
        },
        "id": "7DU2dAwGRfic",
        "outputId": "023892e9-3b06-4d63-9af6-0f94f1600c35"
      },
      "execution_count": 86,
      "outputs": [
        {
          "output_type": "stream",
          "name": "stdout",
          "text": [
            "10\n",
            "[4 6]\n",
            "[3 7]\n"
          ]
        }
      ]
    },
    {
      "cell_type": "code",
      "source": [
        "a = np.array([[1, 2], [3, 4]])\n",
        "\n",
        "print(np.prod(a))\n",
        "print(np.prod(a, axis = 0))\n",
        "print(np.sum(a, axis = 1))"
      ],
      "metadata": {
        "colab": {
          "base_uri": "https://localhost:8080/"
        },
        "id": "B-4EmJYuRmVj",
        "outputId": "d24e943f-c409-4c5d-c8e3-a4eb1be68070"
      },
      "execution_count": 87,
      "outputs": [
        {
          "output_type": "stream",
          "name": "stdout",
          "text": [
            "24\n",
            "[3 8]\n",
            "[3 7]\n"
          ]
        }
      ]
    },
    {
      "cell_type": "markdown",
      "source": [
        "## 5/n: Square Root\n"
      ],
      "metadata": {
        "id": "4dBjSIIBRrsJ"
      }
    },
    {
      "cell_type": "code",
      "source": [
        "a = np.array([[1, 2], [3, 4]])\n",
        "np.sqrt(a)"
      ],
      "metadata": {
        "colab": {
          "base_uri": "https://localhost:8080/"
        },
        "id": "X-WP3uMiRqYx",
        "outputId": "c3b42d2e-158a-4bf0-a24c-230b5f90cd46"
      },
      "execution_count": 88,
      "outputs": [
        {
          "output_type": "execute_result",
          "data": {
            "text/plain": [
              "array([[1.        , 1.41421356],\n",
              "       [1.73205081, 2.        ]])"
            ]
          },
          "metadata": {},
          "execution_count": 88
        }
      ]
    },
    {
      "cell_type": "markdown",
      "source": [
        "# #4 Matrix and Vector Operations"
      ],
      "metadata": {
        "id": "cRDUSGp6RudI"
      }
    },
    {
      "cell_type": "markdown",
      "source": [
        "## 1/n: Dot Product"
      ],
      "metadata": {
        "id": "078doqOQRwRV"
      }
    },
    {
      "cell_type": "code",
      "source": [
        "a = np.array([[1, 2], [3, 4]])\n",
        "b = np.array([[1, 1], [1, 1]])\n",
        "np.dot(a, b)"
      ],
      "metadata": {
        "colab": {
          "base_uri": "https://localhost:8080/"
        },
        "id": "xqnowRpxRtSv",
        "outputId": "d8c00fd9-e07d-43a1-d718-028a90e41136"
      },
      "execution_count": 89,
      "outputs": [
        {
          "output_type": "execute_result",
          "data": {
            "text/plain": [
              "array([[3, 3],\n",
              "       [7, 7]])"
            ]
          },
          "metadata": {},
          "execution_count": 89
        }
      ]
    },
    {
      "cell_type": "markdown",
      "source": [
        "## 2/n: Matrix Product\n"
      ],
      "metadata": {
        "id": "4LmPpc5zRy3F"
      }
    },
    {
      "cell_type": "code",
      "source": [
        "a = np.array([[1, 2], [3, 4]])\n",
        "b = np.array([[1, 1], [1, 1]])\n",
        "\n",
        "np.matmul(a, b)"
      ],
      "metadata": {
        "colab": {
          "base_uri": "https://localhost:8080/"
        },
        "id": "3h1dBgIBRzXk",
        "outputId": "0e354ded-3c92-446d-c15b-efab7659bcae"
      },
      "execution_count": 90,
      "outputs": [
        {
          "output_type": "execute_result",
          "data": {
            "text/plain": [
              "array([[3, 3],\n",
              "       [7, 7]])"
            ]
          },
          "metadata": {},
          "execution_count": 90
        }
      ]
    },
    {
      "cell_type": "code",
      "source": [
        "a@b"
      ],
      "metadata": {
        "colab": {
          "base_uri": "https://localhost:8080/"
        },
        "id": "z52BodiKR1cI",
        "outputId": "90386277-614c-42a2-de24-6c928fc64e77"
      },
      "execution_count": 91,
      "outputs": [
        {
          "output_type": "execute_result",
          "data": {
            "text/plain": [
              "array([[3, 3],\n",
              "       [7, 7]])"
            ]
          },
          "metadata": {},
          "execution_count": 91
        }
      ]
    },
    {
      "cell_type": "markdown",
      "source": [
        "## 3/n: Vector Norm\n"
      ],
      "metadata": {
        "id": "AaxgMU3YR4Bh"
      }
    },
    {
      "cell_type": "code",
      "source": [
        "a = np.arange(-4, 5)\n",
        "\n",
        "print(np.linalg.norm(a)) ## L2 Norm\n",
        "print(np.linalg.norm(a, 1)) ## L1 Norm"
      ],
      "metadata": {
        "colab": {
          "base_uri": "https://localhost:8080/"
        },
        "id": "uaqV72OuR2p4",
        "outputId": "d67d6238-93f0-43a6-b9fb-3e7db0a2e00f"
      },
      "execution_count": 92,
      "outputs": [
        {
          "output_type": "stream",
          "name": "stdout",
          "text": [
            "7.745966692414834\n",
            "20.0\n"
          ]
        }
      ]
    },
    {
      "cell_type": "markdown",
      "source": [
        "# #5 Sorting Methods\n"
      ],
      "metadata": {
        "id": "pMYZWAt_R84L"
      }
    },
    {
      "cell_type": "markdown",
      "source": [
        "## 1/n: Sort a NumPy Array\n"
      ],
      "metadata": {
        "id": "jmAvvcSbR-DB"
      }
    },
    {
      "cell_type": "code",
      "source": [
        "a = np.array([[1,4],[3,1]])\n",
        "\n",
        "print(np.sort(a)) ## sort based on rows\n",
        "print(np.sort(a, axis=None)) ## sort the flattened array\n",
        "print(np.sort(a, axis=0)) ## sort based on columns"
      ],
      "metadata": {
        "colab": {
          "base_uri": "https://localhost:8080/"
        },
        "id": "4oTGMuHfR7yJ",
        "outputId": "3580d1c2-f79d-48f4-c576-6a3eb0f805d6"
      },
      "execution_count": 93,
      "outputs": [
        {
          "output_type": "stream",
          "name": "stdout",
          "text": [
            "[[1 4]\n",
            " [1 3]]\n",
            "[1 1 3 4]\n",
            "[[1 1]\n",
            " [3 4]]\n"
          ]
        }
      ]
    },
    {
      "cell_type": "markdown",
      "source": [
        "## 2/n: Order of Indices in a Sorted NumPy Array\n"
      ],
      "metadata": {
        "id": "S9MFS6Z5SFOn"
      }
    },
    {
      "cell_type": "code",
      "source": [
        "x = np.array([3, 1, 2])\n",
        "np.argsort(x)"
      ],
      "metadata": {
        "colab": {
          "base_uri": "https://localhost:8080/"
        },
        "id": "E7vpZYVNSDr5",
        "outputId": "09313dea-b709-4ae5-e3ad-7318736c6feb"
      },
      "execution_count": 94,
      "outputs": [
        {
          "output_type": "execute_result",
          "data": {
            "text/plain": [
              "array([1, 2, 0])"
            ]
          },
          "metadata": {},
          "execution_count": 94
        }
      ]
    },
    {
      "cell_type": "markdown",
      "source": [
        "# #6 Searching Methods\n"
      ],
      "metadata": {
        "id": "rIublvmaSHWz"
      }
    },
    {
      "cell_type": "markdown",
      "source": [
        "## 1/n: Indices corresponding to Maximum Values\n"
      ],
      "metadata": {
        "id": "ihrScIpVSIVB"
      }
    },
    {
      "cell_type": "code",
      "source": [
        "a = np.random.randint(1, 20, 10).reshape(2,5)\n",
        "\n",
        "print(np.argmax(a)) ## index in a flattend array\n",
        "print(np.argmax(a, axis=0)) ## indices along columns\n",
        "print(np.argmax(a, axis=1)) ## indices along rows"
      ],
      "metadata": {
        "colab": {
          "base_uri": "https://localhost:8080/"
        },
        "id": "1wyk8WMSSGaj",
        "outputId": "6eb4e910-b7db-4f35-eaa9-f4ef490a1b66"
      },
      "execution_count": 95,
      "outputs": [
        {
          "output_type": "stream",
          "name": "stdout",
          "text": [
            "6\n",
            "[0 1 1 0 1]\n",
            "[0 1]\n"
          ]
        }
      ]
    },
    {
      "cell_type": "code",
      "source": [
        "ind = np.unravel_index(np.argmax(a), a.shape)\n",
        "ind"
      ],
      "metadata": {
        "colab": {
          "base_uri": "https://localhost:8080/"
        },
        "id": "73dmLAHtSNqa",
        "outputId": "cce99fa4-75be-4831-9d08-be8682b224ca"
      },
      "execution_count": 96,
      "outputs": [
        {
          "output_type": "execute_result",
          "data": {
            "text/plain": [
              "(1, 1)"
            ]
          },
          "metadata": {},
          "execution_count": 96
        }
      ]
    },
    {
      "cell_type": "markdown",
      "source": [
        "## 2/n: Indices corresponding to Minimum Values\n"
      ],
      "metadata": {
        "id": "IXAzfrrNSQAz"
      }
    },
    {
      "cell_type": "code",
      "source": [
        "a = np.random.randint(1, 20, 10).reshape(2,5)\n",
        "\n",
        "print(np.argmin(a)) ## index in a flattend array\n",
        "print(np.argmin(a, axis=0)) ## indices along columns\n",
        "print(np.argmin(a, axis=1)) ## indices along rows"
      ],
      "metadata": {
        "colab": {
          "base_uri": "https://localhost:8080/"
        },
        "id": "gY7vKnXUSPOg",
        "outputId": "94e04e38-39db-4fa0-faa6-784bc41be364"
      },
      "execution_count": 97,
      "outputs": [
        {
          "output_type": "stream",
          "name": "stdout",
          "text": [
            "5\n",
            "[1 1 0 0 1]\n",
            "[2 0]\n"
          ]
        }
      ]
    },
    {
      "cell_type": "markdown",
      "source": [
        "## 3/n: Search based on condition\n"
      ],
      "metadata": {
        "id": "2Bo-R2JISXhe"
      }
    },
    {
      "cell_type": "code",
      "source": [
        "a = np.random.randint(-10, 10, 10)\n",
        "np.where(a < 0, 0, a)"
      ],
      "metadata": {
        "colab": {
          "base_uri": "https://localhost:8080/"
        },
        "id": "RctLR_-USWOj",
        "outputId": "73779f8e-850b-450b-d2d8-348b55a35038"
      },
      "execution_count": 98,
      "outputs": [
        {
          "output_type": "execute_result",
          "data": {
            "text/plain": [
              "array([0, 4, 0, 0, 0, 4, 6, 0, 0, 0])"
            ]
          },
          "metadata": {},
          "execution_count": 98
        }
      ]
    },
    {
      "cell_type": "markdown",
      "source": [
        "## 4/n: Indices of Non-Zero Elements\n"
      ],
      "metadata": {
        "id": "xTYdlrCYSbkn"
      }
    },
    {
      "cell_type": "code",
      "source": [
        "a = np.array([[3, 0, 0], [0, 4, 0], [5, 6, 0]])\n",
        "np.nonzero(a)"
      ],
      "metadata": {
        "colab": {
          "base_uri": "https://localhost:8080/"
        },
        "id": "iZGgt9YMSas0",
        "outputId": "84062862-e25f-413c-fe33-dfc92ad86e58"
      },
      "execution_count": 99,
      "outputs": [
        {
          "output_type": "execute_result",
          "data": {
            "text/plain": [
              "(array([0, 1, 2, 2]), array([0, 1, 0, 1]))"
            ]
          },
          "metadata": {},
          "execution_count": 99
        }
      ]
    },
    {
      "cell_type": "markdown",
      "source": [
        "# #7 Statistical Methods\n"
      ],
      "metadata": {
        "id": "Vmg1JS8vSd8u"
      }
    },
    {
      "cell_type": "markdown",
      "source": [
        "## 1/n: Mean\n"
      ],
      "metadata": {
        "id": "_yoWv1wdSe_Y"
      }
    },
    {
      "cell_type": "code",
      "source": [
        "a = np.array([[1, 2], [3, 4]])\n",
        "\n",
        "print(np.mean(a))\n",
        "print(np.mean(a, axis = 1)) ## along the row axis\n",
        "print(np.mean(a, axis = 0)) ## along the column axis"
      ],
      "metadata": {
        "colab": {
          "base_uri": "https://localhost:8080/"
        },
        "id": "_uMmHCFPSc03",
        "outputId": "9f967545-3255-4fd9-afd0-9882f6a52f2a"
      },
      "execution_count": 100,
      "outputs": [
        {
          "output_type": "stream",
          "name": "stdout",
          "text": [
            "2.5\n",
            "[1.5 3.5]\n",
            "[2. 3.]\n"
          ]
        }
      ]
    },
    {
      "cell_type": "markdown",
      "source": [
        "## 2/n: Median\n"
      ],
      "metadata": {
        "id": "bYaqZOuxSnNB"
      }
    },
    {
      "cell_type": "code",
      "source": [
        "a = np.array([[1, 2], [3, 4]])\n",
        "\n",
        "print(np.median(a))\n",
        "print(np.median(a, axis = 1)) ## along the row axis\n",
        "print(np.median(a, axis = 0)) ## along the column axis"
      ],
      "metadata": {
        "colab": {
          "base_uri": "https://localhost:8080/"
        },
        "id": "7sZhDcTeSla2",
        "outputId": "b5d21f90-2b14-4d5e-c7d2-eca4668536e2"
      },
      "execution_count": 101,
      "outputs": [
        {
          "output_type": "stream",
          "name": "stdout",
          "text": [
            "2.5\n",
            "[1.5 3.5]\n",
            "[2. 3.]\n"
          ]
        }
      ]
    },
    {
      "cell_type": "markdown",
      "source": [
        "## 3/n: Standard Deviation\n"
      ],
      "metadata": {
        "id": "5rw3eC5CSu5L"
      }
    },
    {
      "cell_type": "code",
      "source": [
        "a = np.array([[1, 2], [3, 4]])\n",
        "\n",
        "print(np.std(a))\n",
        "print(np.std(a, axis = 1)) ## along the row axis\n",
        "print(np.std(a, axis = 0)) ## along the column axis"
      ],
      "metadata": {
        "colab": {
          "base_uri": "https://localhost:8080/"
        },
        "id": "ZmKXCg8UStkt",
        "outputId": "f0cf41af-23bc-469a-dbcd-c7487a89200b"
      },
      "execution_count": 102,
      "outputs": [
        {
          "output_type": "stream",
          "name": "stdout",
          "text": [
            "1.118033988749895\n",
            "[0.5 0.5]\n",
            "[1. 1.]\n"
          ]
        }
      ]
    }
  ]
}