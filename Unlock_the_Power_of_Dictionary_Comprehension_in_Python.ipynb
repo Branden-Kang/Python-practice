{
  "nbformat": 4,
  "nbformat_minor": 0,
  "metadata": {
    "colab": {
      "provenance": [],
      "authorship_tag": "ABX9TyNZ3aXPpe5XZZ41jE/zGwn1"
    },
    "kernelspec": {
      "name": "python3",
      "display_name": "Python 3"
    },
    "language_info": {
      "name": "python"
    }
  },
  "cells": [
    {
      "cell_type": "markdown",
      "source": [
        "[Reference](https://medium.com/django-unleashed/unlock-the-power-of-dictionary-comprehension-in-python-986dd9212cfa)"
      ],
      "metadata": {
        "id": "3YU7nqFWvFWc"
      }
    },
    {
      "cell_type": "code",
      "execution_count": 1,
      "metadata": {
        "colab": {
          "base_uri": "https://localhost:8080/"
        },
        "id": "3gL1xQYDvCqX",
        "outputId": "aa92583a-f278-49c8-deb7-8c6635c052b3"
      },
      "outputs": [
        {
          "output_type": "stream",
          "name": "stdout",
          "text": [
            "Original Dictionary: {'a': 1, 'b': 2, 'c': 3, 'd': 4}\n",
            "Inverted Dictionary: {1: 'a', 2: 'b', 3: 'c', 4: 'd'}\n"
          ]
        }
      ],
      "source": [
        "original_dict = {'a': 1, 'b': 2, 'c': 3, 'd': 4}\n",
        "\n",
        "# Inverting the dictionary using dictionary comprehension\n",
        "inverted_dict = {value: key for key, value in original_dict.items()}\n",
        "\n",
        "print(f\"Original Dictionary: {original_dict}\")\n",
        "print(f\"Inverted Dictionary: {inverted_dict}\")"
      ]
    }
  ]
}