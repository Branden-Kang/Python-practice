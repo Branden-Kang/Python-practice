{
  "nbformat": 4,
  "nbformat_minor": 0,
  "metadata": {
    "colab": {
      "name": "Create Tables in Python.ipynb",
      "provenance": [],
      "authorship_tag": "ABX9TyP4YQVflSrxxPrEJ7S2bguH"
    },
    "kernelspec": {
      "name": "python3",
      "display_name": "Python 3"
    }
  },
  "cells": [
    {
      "cell_type": "markdown",
      "metadata": {
        "id": "rgfBPLRrIFfd"
      },
      "source": [
        "[Reference](https://towardsdatascience.com/how-to-easily-create-tables-in-python-2eaea447d8fd)"
      ]
    },
    {
      "cell_type": "code",
      "metadata": {
        "colab": {
          "base_uri": "https://localhost:8080/"
        },
        "id": "5jFpWA0sGgiL",
        "outputId": "e952f0de-10e5-4ac0-c93d-2f77bdd573bb"
      },
      "source": [
        "pip install tabulate"
      ],
      "execution_count": 1,
      "outputs": [
        {
          "output_type": "stream",
          "text": [
            "Requirement already satisfied: tabulate in /usr/local/lib/python3.7/dist-packages (0.8.9)\n"
          ],
          "name": "stdout"
        }
      ]
    },
    {
      "cell_type": "code",
      "metadata": {
        "id": "ZHZYBScpIIvO"
      },
      "source": [
        "from tabulate import tabulate"
      ],
      "execution_count": 2,
      "outputs": []
    },
    {
      "cell_type": "code",
      "metadata": {
        "id": "aMhJ2ii0IJwl"
      },
      "source": [
        "table = [['First Name', 'Last Name', 'Age'], ['John', 'Smith', 39], ['Mary', 'Jane', 25], ['Jennifer', 'Doe', 28]]"
      ],
      "execution_count": 3,
      "outputs": []
    },
    {
      "cell_type": "code",
      "metadata": {
        "colab": {
          "base_uri": "https://localhost:8080/"
        },
        "id": "7ByxEHJpIMIT",
        "outputId": "f8ebb89b-3418-43ff-bd7d-2e46cf06f2ee"
      },
      "source": [
        "print(tabulate(table))"
      ],
      "execution_count": 4,
      "outputs": [
        {
          "output_type": "stream",
          "text": [
            "----------  ---------  ---\n",
            "First Name  Last Name  Age\n",
            "John        Smith      39\n",
            "Mary        Jane       25\n",
            "Jennifer    Doe        28\n",
            "----------  ---------  ---\n"
          ],
          "name": "stdout"
        }
      ]
    },
    {
      "cell_type": "code",
      "metadata": {
        "colab": {
          "base_uri": "https://localhost:8080/"
        },
        "id": "EXHfmv4dINKC",
        "outputId": "4844d942-684d-4a94-8667-e6e7e3418c7d"
      },
      "source": [
        "print(tabulate(table, headers='firstrow'))"
      ],
      "execution_count": 6,
      "outputs": [
        {
          "output_type": "stream",
          "text": [
            "First Name    Last Name      Age\n",
            "------------  -----------  -----\n",
            "John          Smith           39\n",
            "Mary          Jane            25\n",
            "Jennifer      Doe             28\n"
          ],
          "name": "stdout"
        }
      ]
    },
    {
      "cell_type": "code",
      "metadata": {
        "colab": {
          "base_uri": "https://localhost:8080/"
        },
        "id": "NiMaXXl5KKuT",
        "outputId": "f2ece277-8494-43aa-c0dc-62f0e22bcce2"
      },
      "source": [
        "print(tabulate(table, headers='firstrow', tablefmt='grid'))"
      ],
      "execution_count": 7,
      "outputs": [
        {
          "output_type": "stream",
          "text": [
            "+--------------+-------------+-------+\n",
            "| First Name   | Last Name   |   Age |\n",
            "+==============+=============+=======+\n",
            "| John         | Smith       |    39 |\n",
            "+--------------+-------------+-------+\n",
            "| Mary         | Jane        |    25 |\n",
            "+--------------+-------------+-------+\n",
            "| Jennifer     | Doe         |    28 |\n",
            "+--------------+-------------+-------+\n"
          ],
          "name": "stdout"
        }
      ]
    },
    {
      "cell_type": "code",
      "metadata": {
        "colab": {
          "base_uri": "https://localhost:8080/"
        },
        "id": "BzdjVloLKNrv",
        "outputId": "60e2dc2b-9ee5-42fc-fb28-6db9dd64e40f"
      },
      "source": [
        "print(tabulate(table, headers='firstrow', tablefmt='fancy_grid'))"
      ],
      "execution_count": 8,
      "outputs": [
        {
          "output_type": "stream",
          "text": [
            "╒══════════════╤═════════════╤═══════╕\n",
            "│ First Name   │ Last Name   │   Age │\n",
            "╞══════════════╪═════════════╪═══════╡\n",
            "│ John         │ Smith       │    39 │\n",
            "├──────────────┼─────────────┼───────┤\n",
            "│ Mary         │ Jane        │    25 │\n",
            "├──────────────┼─────────────┼───────┤\n",
            "│ Jennifer     │ Doe         │    28 │\n",
            "╘══════════════╧═════════════╧═══════╛\n"
          ],
          "name": "stdout"
        }
      ]
    },
    {
      "cell_type": "code",
      "metadata": {
        "id": "pDd5oL-BKPKr"
      },
      "source": [
        "info = {'First Name': ['John', 'Mary', 'Jennifer'], 'Last Name': ['Smith', 'Jane', 'Doe'], 'Age': [39, 25, 28]}"
      ],
      "execution_count": 9,
      "outputs": []
    },
    {
      "cell_type": "code",
      "metadata": {
        "colab": {
          "base_uri": "https://localhost:8080/"
        },
        "id": "MBY0jc4XKQtB",
        "outputId": "3d6c6d3b-dc80-4734-e301-6ca27e025289"
      },
      "source": [
        "print(tabulate(info, headers='keys'))"
      ],
      "execution_count": 10,
      "outputs": [
        {
          "output_type": "stream",
          "text": [
            "First Name    Last Name      Age\n",
            "------------  -----------  -----\n",
            "John          Smith           39\n",
            "Mary          Jane            25\n",
            "Jennifer      Doe             28\n"
          ],
          "name": "stdout"
        }
      ]
    },
    {
      "cell_type": "code",
      "metadata": {
        "colab": {
          "base_uri": "https://localhost:8080/"
        },
        "id": "GV4VlE2nKRsi",
        "outputId": "18cfea3c-3f76-4408-cf27-7c30c2ee731e"
      },
      "source": [
        "print(tabulate(info, headers='keys', tablefmt='fancy_grid'))"
      ],
      "execution_count": 11,
      "outputs": [
        {
          "output_type": "stream",
          "text": [
            "╒══════════════╤═════════════╤═══════╕\n",
            "│ First Name   │ Last Name   │   Age │\n",
            "╞══════════════╪═════════════╪═══════╡\n",
            "│ John         │ Smith       │    39 │\n",
            "├──────────────┼─────────────┼───────┤\n",
            "│ Mary         │ Jane        │    25 │\n",
            "├──────────────┼─────────────┼───────┤\n",
            "│ Jennifer     │ Doe         │    28 │\n",
            "╘══════════════╧═════════════╧═══════╛\n"
          ],
          "name": "stdout"
        }
      ]
    },
    {
      "cell_type": "code",
      "metadata": {
        "colab": {
          "base_uri": "https://localhost:8080/"
        },
        "id": "8WCw8L3wKS_A",
        "outputId": "63b3d67d-d85f-4d07-8201-a45c781a09e0"
      },
      "source": [
        "print(tabulate(info, headers='keys', tablefmt='fancy_grid', showindex=True))"
      ],
      "execution_count": 12,
      "outputs": [
        {
          "output_type": "stream",
          "text": [
            "╒════╤══════════════╤═════════════╤═══════╕\n",
            "│    │ First Name   │ Last Name   │   Age │\n",
            "╞════╪══════════════╪═════════════╪═══════╡\n",
            "│  0 │ John         │ Smith       │    39 │\n",
            "├────┼──────────────┼─────────────┼───────┤\n",
            "│  1 │ Mary         │ Jane        │    25 │\n",
            "├────┼──────────────┼─────────────┼───────┤\n",
            "│  2 │ Jennifer     │ Doe         │    28 │\n",
            "╘════╧══════════════╧═════════════╧═══════╛\n"
          ],
          "name": "stdout"
        }
      ]
    },
    {
      "cell_type": "code",
      "metadata": {
        "colab": {
          "base_uri": "https://localhost:8080/"
        },
        "id": "9XWjdOIOKW9y",
        "outputId": "e8b6c75d-ec25-4839-d488-c7aefdbc7533"
      },
      "source": [
        "print(tabulate(info, headers='keys', tablefmt='fancy_grid', showindex=range(1,4)))"
      ],
      "execution_count": 13,
      "outputs": [
        {
          "output_type": "stream",
          "text": [
            "╒════╤══════════════╤═════════════╤═══════╕\n",
            "│    │ First Name   │ Last Name   │   Age │\n",
            "╞════╪══════════════╪═════════════╪═══════╡\n",
            "│  1 │ John         │ Smith       │    39 │\n",
            "├────┼──────────────┼─────────────┼───────┤\n",
            "│  2 │ Mary         │ Jane        │    25 │\n",
            "├────┼──────────────┼─────────────┼───────┤\n",
            "│  3 │ Jennifer     │ Doe         │    28 │\n",
            "╘════╧══════════════╧═════════════╧═══════╛\n"
          ],
          "name": "stdout"
        }
      ]
    },
    {
      "cell_type": "code",
      "metadata": {
        "colab": {
          "base_uri": "https://localhost:8080/"
        },
        "id": "PxqAPFzuKZgJ",
        "outputId": "7b8df796-7942-4bad-e34e-81494610ebb5"
      },
      "source": [
        "print(tabulate({'First Name': ['John', 'Mary'], 'Last Name': ['Smith', 'Jane', 'Doe'], 'Age': [39, 25, 28]}, headers=\"keys\", tablefmt='fancy_grid'))"
      ],
      "execution_count": 14,
      "outputs": [
        {
          "output_type": "stream",
          "text": [
            "╒══════════════╤═════════════╤═══════╕\n",
            "│ First Name   │ Last Name   │   Age │\n",
            "╞══════════════╪═════════════╪═══════╡\n",
            "│ John         │ Smith       │    39 │\n",
            "├──────────────┼─────────────┼───────┤\n",
            "│ Mary         │ Jane        │    25 │\n",
            "├──────────────┼─────────────┼───────┤\n",
            "│              │ Doe         │    28 │\n",
            "╘══════════════╧═════════════╧═══════╛\n"
          ],
          "name": "stdout"
        }
      ]
    },
    {
      "cell_type": "code",
      "metadata": {
        "colab": {
          "base_uri": "https://localhost:8080/"
        },
        "id": "xOOCc3XHKatD",
        "outputId": "430a7152-932f-4cbb-cd23-7895d092d84b"
      },
      "source": [
        "print(tabulate({'First Name': ['John', 'Mary'], 'Last Name': ['Smith', 'Jane', 'Doe'], 'Age': [39, 25, 28]}, headers=\"keys\", tablefmt='fancy_grid', missingval='N/A'))"
      ],
      "execution_count": 15,
      "outputs": [
        {
          "output_type": "stream",
          "text": [
            "╒══════════════╤═════════════╤═══════╕\n",
            "│ First Name   │ Last Name   │   Age │\n",
            "╞══════════════╪═════════════╪═══════╡\n",
            "│ John         │ Smith       │    39 │\n",
            "├──────────────┼─────────────┼───────┤\n",
            "│ Mary         │ Jane        │    25 │\n",
            "├──────────────┼─────────────┼───────┤\n",
            "│ N/A          │ Doe         │    28 │\n",
            "╘══════════════╧═════════════╧═══════╛\n"
          ],
          "name": "stdout"
        }
      ]
    }
  ]
}