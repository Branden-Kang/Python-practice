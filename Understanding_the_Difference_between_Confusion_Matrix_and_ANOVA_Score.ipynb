{
  "nbformat": 4,
  "nbformat_minor": 0,
  "metadata": {
    "colab": {
      "provenance": [],
      "authorship_tag": "ABX9TyN03drn6V20CDmAhKxFdoK8"
    },
    "kernelspec": {
      "name": "python3",
      "display_name": "Python 3"
    },
    "language_info": {
      "name": "python"
    }
  },
  "cells": [
    {
      "cell_type": "markdown",
      "source": [
        "[Reference](https://medium.com/@maheshhkanagavell/understanding-the-difference-between-confusion-matrix-and-anova-score-4dc182e41f40)"
      ],
      "metadata": {
        "id": "gEgaMjfOi3BP"
      }
    },
    {
      "cell_type": "code",
      "execution_count": 1,
      "metadata": {
        "colab": {
          "base_uri": "https://localhost:8080/"
        },
        "id": "DxwTOEAKiyCC",
        "outputId": "e2d0fc24-2275-4f61-c5ee-77e585a05352"
      },
      "outputs": [
        {
          "output_type": "stream",
          "name": "stdout",
          "text": [
            "[[2 2]\n",
            " [0 4]]\n"
          ]
        }
      ],
      "source": [
        "from sklearn.metrics import confusion_matrix\n",
        "\n",
        "# Actual values\n",
        "y_true = [1, 0, 1, 0, 1, 0, 0, 1]\n",
        "\n",
        "# Predicted values\n",
        "y_pred = [1, 1, 1, 0, 1, 0, 1, 1]\n",
        "\n",
        "# Create confusion matrix\n",
        "confusion_matrix = confusion_matrix(y_true, y_pred)\n",
        "\n",
        "print(confusion_matrix)"
      ]
    },
    {
      "cell_type": "code",
      "source": [
        "import pandas as pd\n",
        "from scipy.stats import f_oneway\n",
        "\n",
        "# Create data\n",
        "data = {'job_category': ['Manager', 'Engineer', 'Technician', 'Clerk', 'Sales'],\n",
        "        'salary': [50000, 60000, 45000, 35000, 55000]}\n",
        "\n",
        "# Convert data to dataframe\n",
        "df = pd.DataFrame(data)\n",
        "\n",
        "# Perform ANOVA analysis\n",
        "f_statistic, p_value = f_oneway(df[df['job_category'] == 'Manager']['salary'],\n",
        "                                 df[df['job_category'] == 'Engineer']['salary'],\n",
        "                                 df[df['job_category'] == 'Technician']['salary'],\n",
        "                                 df[df['job_category'] == 'Clerk']['salary'],\n",
        "                                 df[df['job_category'] == 'Sales']['salary'])\n",
        "\n",
        "print(\"F-Statistic:\", f_statistic)\n",
        "print(\"P-Value:\", p_value)"
      ],
      "metadata": {
        "colab": {
          "base_uri": "https://localhost:8080/"
        },
        "id": "1fz8Phr6jBZx",
        "outputId": "f52b545e-61dd-4f97-dbbd-1cd54e76e4fc"
      },
      "execution_count": 2,
      "outputs": [
        {
          "output_type": "stream",
          "name": "stdout",
          "text": [
            "F-Statistic: nan\n",
            "P-Value: nan\n"
          ]
        },
        {
          "output_type": "stream",
          "name": "stderr",
          "text": [
            "/usr/local/lib/python3.10/dist-packages/scipy/stats/_stats_py.py:4141: DegenerateDataWarning: all input arrays have length 1.  f_oneway requires that at least one input has length greater than 1.\n",
            "  warnings.warn(stats.DegenerateDataWarning(msg))\n"
          ]
        }
      ]
    },
    {
      "cell_type": "code",
      "source": [
        "from sklearn.model_selection import cross_val_score\n",
        "from sklearn.metrics import roc_auc_score, f1_score\n",
        "from sklearn.ensemble import RandomForestClassifier\n",
        "from sklearn.datasets import make_classification\n",
        "\n",
        "# Generate some example data\n",
        "X, y = make_classification(n_samples=1000, n_features=10, random_state=42)\n",
        "\n",
        "# Initialize a Random Forest Classifier model\n",
        "rfc = RandomForestClassifier(random_state=42)\n",
        "rfc.fit(X, y)\n",
        "# Calculate the Cross Validation Score\n",
        "cv_score = cross_val_score(rfc, X, y, cv=5)\n",
        "\n",
        "# Calculate the ROC AUC Score\n",
        "y_pred_prob = rfc.predict_proba(X)[:, 1]\n",
        "roc_auc = roc_auc_score(y, y_pred_prob)\n",
        "\n",
        "# Calculate the F1 Score\n",
        "y_pred = rfc.predict(X)\n",
        "f1 = f1_score(y, y_pred)\n",
        "\n",
        "# Print the results\n",
        "print(f\"Cross Validation Score: {cv_score}\")\n",
        "print(f\"ROC AUC Score: {roc_auc}\")\n",
        "print(f\"F1 Score: {f1}\")"
      ],
      "metadata": {
        "colab": {
          "base_uri": "https://localhost:8080/"
        },
        "id": "JVaK4-FqjD21",
        "outputId": "0f108764-09c2-4e9c-b37a-a81c62e7fadb"
      },
      "execution_count": 4,
      "outputs": [
        {
          "output_type": "stream",
          "name": "stdout",
          "text": [
            "Cross Validation Score: [0.915 0.895 0.915 0.885 0.91 ]\n",
            "ROC AUC Score: 1.0\n",
            "F1 Score: 1.0\n"
          ]
        }
      ]
    }
  ]
}