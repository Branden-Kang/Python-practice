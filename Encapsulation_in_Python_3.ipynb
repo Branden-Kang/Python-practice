{
  "nbformat": 4,
  "nbformat_minor": 0,
  "metadata": {
    "colab": {
      "name": "Encapsulation in Python 3.ipynb",
      "provenance": [],
      "authorship_tag": "ABX9TyNYPPth71xj+mlUc3Pww0SB"
    },
    "kernelspec": {
      "name": "python3",
      "display_name": "Python 3"
    }
  },
  "cells": [
    {
      "cell_type": "markdown",
      "metadata": {
        "id": "tjtlAjeigItM"
      },
      "source": [
        "[Reference](https://medium.com/@kateolenya/encapsulation-in-python-3-1a93fd8fa9cd)"
      ]
    },
    {
      "cell_type": "code",
      "metadata": {
        "colab": {
          "base_uri": "https://localhost:8080/",
          "height": 71
        },
        "id": "j0K5EINbgHPQ",
        "outputId": "7af2f0a1-189d-45d0-89b9-2f7c8548cc8d"
      },
      "source": [
        "class Phone:\n",
        "    number = \"111-11-11\"\n",
        "    def print_number(self):\n",
        "        print( \"Phone number is: \", self.number )\n",
        "\n",
        "my_phone = Phone()\n",
        "my_phone.print_number()\n",
        "\n",
        "input( \"Press Enter to exit\" )"
      ],
      "execution_count": 1,
      "outputs": [
        {
          "output_type": "stream",
          "text": [
            "Phone number is:  111-11-11\n",
            "Press Enter to exitexit\n"
          ],
          "name": "stdout"
        },
        {
          "output_type": "execute_result",
          "data": {
            "application/vnd.google.colaboratory.intrinsic+json": {
              "type": "string"
            },
            "text/plain": [
              "'exit'"
            ]
          },
          "metadata": {
            "tags": []
          },
          "execution_count": 1
        }
      ]
    },
    {
      "cell_type": "code",
      "metadata": {
        "colab": {
          "base_uri": "https://localhost:8080/",
          "height": 88
        },
        "id": "qp_45ReegUjv",
        "outputId": "6ec7dbe4-d18b-4e63-97e1-f3821ac21a26"
      },
      "source": [
        "class Phone:\n",
        "    username = \"Kate\"                # public variable\n",
        "    __how_many_times_turned_on = 0   # private variable\n",
        "\n",
        "    def call(self):                  # public method\n",
        "        print( \"Ring-ring!\" )\n",
        "\n",
        "    def __turn_on(self):             # private method\n",
        "        self.__how_many_times_turned_on += 1 \n",
        "        print( \"Times was turned on: \", self.__how_many_times_turned_on )\n",
        "\n",
        "my_phone = Phone()\n",
        "\n",
        "my_phone.call()\n",
        "print( \"The username is \", my_phone.username )\n",
        "\n",
        "input( \"Press Enter to exit\" )"
      ],
      "execution_count": 2,
      "outputs": [
        {
          "output_type": "stream",
          "text": [
            "Ring-ring!\n",
            "The username is  Kate\n",
            "Press Enter to exitexit\n"
          ],
          "name": "stdout"
        },
        {
          "output_type": "execute_result",
          "data": {
            "application/vnd.google.colaboratory.intrinsic+json": {
              "type": "string"
            },
            "text/plain": [
              "'exit'"
            ]
          },
          "metadata": {
            "tags": []
          },
          "execution_count": 2
        }
      ]
    },
    {
      "cell_type": "code",
      "metadata": {
        "colab": {
          "base_uri": "https://localhost:8080/",
          "height": 88
        },
        "id": "e8RxWbCVgfFw",
        "outputId": "3e8d965f-1344-4ce2-b66a-1632bc409e55"
      },
      "source": [
        "class Phone:\n",
        "    username = \"Kate\"                # public variable\n",
        "    __serial_number = \"11.22.33\"     # private variable\n",
        "    __how_many_times_turned_on = 0   # private variable\n",
        "\n",
        "    def call(self):                  # public method\n",
        "        print( \"Ring-ring!\" )\n",
        "\n",
        "    def __turn_on(self):             # private method\n",
        "        self.__how_many_times_turned_on += 1 \n",
        "        print( \"Times was turned on: \", self.__how_many_times_turned_on )\n",
        "\n",
        "my_phone = Phone()\n",
        "\n",
        "my_phone._Phone__turn_on()\n",
        "my_phone._Phone__serial_number = \"44.55.66\"\n",
        "print( \"New serial number is \", my_phone._Phone__serial_number )\n",
        "\n",
        "input( \"Press Enter to exit\" )"
      ],
      "execution_count": 3,
      "outputs": [
        {
          "output_type": "stream",
          "text": [
            "Times was turned on:  1\n",
            "New serial number is  44.55.66\n",
            "Press Enter to exitexit\n"
          ],
          "name": "stdout"
        },
        {
          "output_type": "execute_result",
          "data": {
            "application/vnd.google.colaboratory.intrinsic+json": {
              "type": "string"
            },
            "text/plain": [
              "'exit'"
            ]
          },
          "metadata": {
            "tags": []
          },
          "execution_count": 3
        }
      ]
    },
    {
      "cell_type": "code",
      "metadata": {
        "colab": {
          "base_uri": "https://localhost:8080/",
          "height": 139
        },
        "id": "CrylAJnYgljC",
        "outputId": "a4ae64f8-c43e-48e0-8755-a2f5bc8bccb9"
      },
      "source": [
        "class Phone:\n",
        "    def __init__(self, number):      # magic method / inititalizer\n",
        "        print( \"The Phone object was created\" )\n",
        "        self.number = number\n",
        "\n",
        "    def __lt__(self, other):         # magic method / rich comparison\n",
        "        return self.number < other.number\n",
        "\n",
        "\n",
        "my_phone = Phone(20)\n",
        "other_phone = Phone(30)\n",
        "\n",
        "if my_phone < other_phone:\n",
        "    print( \"Two instances of custom class were compared\" )\n",
        "    print( \"'__lt__' was called implicitly\" )\n",
        "\n",
        "if my_phone.__lt__(other_phone):\n",
        "    print( \"Now, '__lt__' was used explicitly\" )\n",
        "\n",
        "input( \"Press Enter to exit\" )"
      ],
      "execution_count": 4,
      "outputs": [
        {
          "output_type": "stream",
          "text": [
            "The Phone object was created\n",
            "The Phone object was created\n",
            "Two instances of custom class were compared\n",
            "'__lt__' was called implicitly\n",
            "Now, '__lt__' was used explicitly\n",
            "Press Enter to exitexit\n"
          ],
          "name": "stdout"
        },
        {
          "output_type": "execute_result",
          "data": {
            "application/vnd.google.colaboratory.intrinsic+json": {
              "type": "string"
            },
            "text/plain": [
              "'exit'"
            ]
          },
          "metadata": {
            "tags": []
          },
          "execution_count": 4
        }
      ]
    }
  ]
}