{
  "nbformat": 4,
  "nbformat_minor": 0,
  "metadata": {
    "colab": {
      "provenance": [],
      "authorship_tag": "ABX9TyNjPfRVA3zT6+4xGzmgf4e5"
    },
    "kernelspec": {
      "name": "python3",
      "display_name": "Python 3"
    },
    "language_info": {
      "name": "python"
    }
  },
  "cells": [
    {
      "cell_type": "markdown",
      "source": [
        "[Reference](https://medium.com/@yaduvanshineelam09/object-oriented-programming-oop-in-python-a-guide-for-beginners-a2f410eafa4e)"
      ],
      "metadata": {
        "id": "fNWGbZxJQkR1"
      }
    },
    {
      "cell_type": "code",
      "execution_count": 1,
      "metadata": {
        "id": "eiXKizkqQGod"
      },
      "outputs": [],
      "source": [
        "class Dog:\n",
        "    species = \"Canis familiaris\"  # Class attribute\n",
        "\n",
        "    def __init__(self, name, age):  # Constructor method\n",
        "        self.name = name  # Instance attribute\n",
        "        self.age = age\n",
        "    def speak(self, sound):\n",
        "        return f\"{self.name} says {sound}\""
      ]
    },
    {
      "cell_type": "code",
      "source": [
        "buddy = Dog(\"Buddy\", 5)\n",
        "print(buddy.speak(\"Woof\"))"
      ],
      "metadata": {
        "colab": {
          "base_uri": "https://localhost:8080/"
        },
        "id": "jgEGjrvfQq8I",
        "outputId": "3ecc726f-8b99-4f9b-e5a3-f269efa149e0"
      },
      "execution_count": 2,
      "outputs": [
        {
          "output_type": "stream",
          "name": "stdout",
          "text": [
            "Buddy says Woof\n"
          ]
        }
      ]
    },
    {
      "cell_type": "code",
      "source": [
        "class BankAccount:\n",
        "    def __init__(self, balance=0):\n",
        "        self.balance = balance\n",
        "    def deposit(self, amount):\n",
        "        self.balance += amount\n",
        "        return self.balance\n",
        "    def withdraw(self, amount):\n",
        "        if amount > self.balance:\n",
        "            raise ValueError(\"Insufficient funds\")\n",
        "        self.balance -= amount\n",
        "        return self.balance\n",
        "    def get_balance(self):\n",
        "        return self.balance"
      ],
      "metadata": {
        "id": "uQXhTy5OQr5K"
      },
      "execution_count": 3,
      "outputs": []
    },
    {
      "cell_type": "code",
      "source": [
        "class SavingsAccount(BankAccount):\n",
        "    interest_rate = 0.02  # Additional property\n",
        "    def apply_interest(self):\n",
        "        interest = self.balance * self.interest_rate\n",
        "        self.deposit(interest)"
      ],
      "metadata": {
        "id": "Lv2R12QpQuW9"
      },
      "execution_count": 5,
      "outputs": []
    },
    {
      "cell_type": "code",
      "source": [
        "accounts = [BankAccount(1000), SavingsAccount(2000)]"
      ],
      "metadata": {
        "id": "Y8U5cY4cQvfo"
      },
      "execution_count": 6,
      "outputs": []
    },
    {
      "cell_type": "code",
      "source": [
        "for account in accounts:\n",
        "    print(f\"Balance: {account.get_balance()}\")\n",
        "    if isinstance(account, SavingsAccount):\n",
        "        account.apply_interest()\n",
        "    print(f\"New Balance: {account.get_balance()}\")"
      ],
      "metadata": {
        "colab": {
          "base_uri": "https://localhost:8080/"
        },
        "id": "ZJdpwarzQyNI",
        "outputId": "eb41663a-bf9b-4c96-b664-783072b23a3f"
      },
      "execution_count": 7,
      "outputs": [
        {
          "output_type": "stream",
          "name": "stdout",
          "text": [
            "Balance: 1000\n",
            "New Balance: 1000\n",
            "Balance: 2000\n",
            "New Balance: 2040.0\n"
          ]
        }
      ]
    },
    {
      "cell_type": "code",
      "source": [
        "try:\n",
        "    account = BankAccount(-1000)  # Attempt to create an account with a negative balance\n",
        "except ValueError as e:\n",
        "    print(f\"Error: {e}\")"
      ],
      "metadata": {
        "id": "fKFQjgy2QztE"
      },
      "execution_count": 8,
      "outputs": []
    }
  ]
}