{
  "nbformat": 4,
  "nbformat_minor": 0,
  "metadata": {
    "colab": {
      "provenance": [],
      "authorship_tag": "ABX9TyN+1+/bnwD4JTXvaJ5QiVIp"
    },
    "kernelspec": {
      "name": "python3",
      "display_name": "Python 3"
    },
    "language_info": {
      "name": "python"
    }
  },
  "cells": [
    {
      "cell_type": "markdown",
      "source": [
        "[Reference](https://medium.com/@Scofield_Idehen/sqlite-with-python-f705d8b79e41)"
      ],
      "metadata": {
        "id": "DpI9riNMTa__"
      }
    },
    {
      "cell_type": "markdown",
      "source": [
        "# Creating Tables"
      ],
      "metadata": {
        "id": "qFHWEP5VTe_r"
      }
    },
    {
      "cell_type": "code",
      "source": [
        "import sqlite3\n",
        "db = sqlite3.connect('database.db')\n",
        "cursor = db.cursor()\n",
        "\n",
        "def create_table():\n",
        "  db = sqlite3.connect('database.db')\n",
        "  cursor = db.cursor()\n",
        "  cursor.execute(\"\"\"\n",
        "    CREATE TABLE IF NOT EXISTS inventory (\n",
        "      id integer PRIMARY KEY,\n",
        "      name text NOT NULL,\n",
        "      quantity integer,\n",
        "      price real\n",
        "    )\n",
        "  \"\"\")\n",
        "\n",
        "db.commit()\n",
        "db.close()"
      ],
      "metadata": {
        "id": "ZzZPyNAkTgFa"
      },
      "execution_count": 1,
      "outputs": []
    },
    {
      "cell_type": "markdown",
      "source": [
        "# Inserting Data"
      ],
      "metadata": {
        "id": "UF-Qt1QyTmGa"
      }
    },
    {
      "cell_type": "code",
      "source": [
        "data = (2, 'Oranges', 200, 2.49)\n",
        "cursor.execute(\"INSERT INTO inventory VALUES (?, ?, ?, ?)\", data)"
      ],
      "metadata": {
        "id": "EN6GbyuiTpO_"
      },
      "execution_count": 2,
      "outputs": []
    },
    {
      "cell_type": "code",
      "source": [
        "def insert_data(values):\n",
        "  db = sqlite3.connect('database.db')\n",
        "  cursor = db.cursor()\n",
        "  cursor.execute(\"INSERT INTO inventory VALUES (?, ?, ?, ?)\", values)\n",
        "  db.commit()\n",
        "  db.close()\n",
        "# Usage:\n",
        "insert_data((3, 'Apples', 75, 1.25))"
      ],
      "metadata": {
        "id": "Szbc2DjsTrWW"
      },
      "execution_count": 3,
      "outputs": []
    },
    {
      "cell_type": "markdown",
      "source": [
        "# Viewing Data"
      ],
      "metadata": {
        "id": "oeMlEcniTtwY"
      }
    },
    {
      "cell_type": "code",
      "source": [
        "def get_all_data():\n",
        "  db = sqlite3.connect('database.db')\n",
        "  cursor = db.cursor()\n",
        "  cursor.execute(\"SELECT * FROM inventory\")\n",
        "  rows = cursor.fetchall()\n",
        "  db.close()\n",
        "  return rows\n",
        "\n",
        "def get_by_name(name):\n",
        "  db = sqlite3.connect('database.db')\n",
        "  cursor = db.cursor()\n",
        "  cursor.execute(\"SELECT * FROM inventory WHERE name=?\", (name,))\n",
        "  row = cursor.fetchone()\n",
        "  db.close()\n",
        "  return row"
      ],
      "metadata": {
        "id": "nUsyg3RKTstj"
      },
      "execution_count": 4,
      "outputs": []
    },
    {
      "cell_type": "markdown",
      "source": [
        "# Updating Data"
      ],
      "metadata": {
        "id": "nT3cFrDMTyDZ"
      }
    },
    {
      "cell_type": "code",
      "source": [
        "def update_data(new_quantity, name):\n",
        "  db = sqlite3.connect('database.db')\n",
        "  cursor = db.cursor()\n",
        "  cursor.execute(\"UPDATE inventory SET quantity =? WHERE name=?\",\n",
        "                 (new_quantity, name))\n",
        "  db.commit()\n",
        "  db.close()\n",
        "# Usage:\n",
        "update_data(350, 'Bananas')"
      ],
      "metadata": {
        "id": "u5SkmELMTw89"
      },
      "execution_count": 5,
      "outputs": []
    },
    {
      "cell_type": "markdown",
      "source": [
        "# Deleting Data"
      ],
      "metadata": {
        "id": "2B1_xtsgT029"
      }
    },
    {
      "cell_type": "code",
      "source": [
        "def delete_data(name):\n",
        "  db = sqlite3.connect('database.db')\n",
        "  cursor = db.cursor()\n",
        "  cursor.execute(\"DELETE FROM inventory WHERE name=?\", (name,))\n",
        "  db.commit()\n",
        "  db.close()\n",
        "# Usage:\n",
        "delete_data('Oranges')"
      ],
      "metadata": {
        "id": "AWmtQj5ZTzth"
      },
      "execution_count": 6,
      "outputs": []
    }
  ]
}