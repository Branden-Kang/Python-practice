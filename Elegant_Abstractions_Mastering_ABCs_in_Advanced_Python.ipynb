{
  "nbformat": 4,
  "nbformat_minor": 0,
  "metadata": {
    "colab": {
      "provenance": [],
      "authorship_tag": "ABX9TyMDD0+pPqCueY5h+0i+c53E"
    },
    "kernelspec": {
      "name": "python3",
      "display_name": "Python 3"
    },
    "language_info": {
      "name": "python"
    }
  },
  "cells": [
    {
      "cell_type": "markdown",
      "source": [
        "[Reference](https://leapcell.medium.com/elegant-abstractions-mastering-abstract-base-classes-in-advanced-python-bf3739dd815e)"
      ],
      "metadata": {
        "id": "55X79yfOkFNZ"
      }
    },
    {
      "cell_type": "code",
      "execution_count": 1,
      "metadata": {
        "id": "aGHHLGqFkCQF"
      },
      "outputs": [],
      "source": [
        "class LeapCellFileHandler:\n",
        "    def read(self, filename):\n",
        "        pass\n",
        "\n",
        "    def write(self, filename, data):\n",
        "        pass\n",
        "class LeapCellJsonHandler(LeapCellFileHandler):\n",
        "    def read(self, filename):\n",
        "        import json\n",
        "        with open(filename, 'r') as f:\n",
        "            return json.load(f)\n",
        "    def write(self, filename, data):\n",
        "        import json\n",
        "        with open(filename, 'w') as f:\n",
        "            json.dump(data, f)\n",
        "class LeapCellCsvHandler(LeapCellFileHandler):\n",
        "    def read(self, filename):\n",
        "        import csv\n",
        "        with open(filename, 'r') as f:\n",
        "            return list(csv.reader(f))"
      ]
    },
    {
      "cell_type": "code",
      "source": [
        "from abc import ABC, abstractmethod\n",
        "\n",
        "class LeapCellFileHandler(ABC):\n",
        "    @abstractmethod\n",
        "    def read(self, filename: str):\n",
        "        \"\"\"Read the content of the file\"\"\"\n",
        "        pass\n",
        "    @abstractmethod\n",
        "    def write(self, filename: str, data: any):\n",
        "        \"\"\"Write content to the file\"\"\"\n",
        "        pass\n",
        "class LeapCellJsonHandler(LeapCellFileHandler):\n",
        "    def read(self, filename: str):\n",
        "        import json\n",
        "        with open(filename, 'r') as f:\n",
        "            return json.load(f)\n",
        "    def write(self, filename: str, data: any):\n",
        "        import json\n",
        "        with open(filename, 'w') as f:\n",
        "            json.dump(data, f)"
      ],
      "metadata": {
        "id": "f-6nQ8AakIR4"
      },
      "execution_count": 2,
      "outputs": []
    },
    {
      "cell_type": "code",
      "source": [
        "# This class lacks the implementation of the write method\n",
        "class LeapCellBrokenHandler(LeapCellFileHandler):\n",
        "    def read(self, filename: str):\n",
        "        return \"some data\"\n",
        "\n",
        "# This line of code will raise a TypeError\n",
        "handler = LeapCellBrokenHandler()  # TypeError: Can't instantiate abstract class LeapCellBrokenHandler with abstract method write"
      ],
      "metadata": {
        "colab": {
          "base_uri": "https://localhost:8080/",
          "height": 173
        },
        "id": "PJkc46K-kJtM",
        "outputId": "3ddb294c-f00e-436f-f37a-7a41f11ef53c"
      },
      "execution_count": 3,
      "outputs": [
        {
          "output_type": "error",
          "ename": "TypeError",
          "evalue": "Can't instantiate abstract class LeapCellBrokenHandler with abstract method write",
          "traceback": [
            "\u001b[0;31m---------------------------------------------------------------------------\u001b[0m",
            "\u001b[0;31mTypeError\u001b[0m                                 Traceback (most recent call last)",
            "\u001b[0;32m<ipython-input-3-d6bcda5fec74>\u001b[0m in \u001b[0;36m<cell line: 0>\u001b[0;34m()\u001b[0m\n\u001b[1;32m      5\u001b[0m \u001b[0;34m\u001b[0m\u001b[0m\n\u001b[1;32m      6\u001b[0m \u001b[0;31m# This line of code will raise a TypeError\u001b[0m\u001b[0;34m\u001b[0m\u001b[0;34m\u001b[0m\u001b[0m\n\u001b[0;32m----> 7\u001b[0;31m \u001b[0mhandler\u001b[0m \u001b[0;34m=\u001b[0m \u001b[0mLeapCellBrokenHandler\u001b[0m\u001b[0;34m(\u001b[0m\u001b[0;34m)\u001b[0m  \u001b[0;31m# TypeError: Can't instantiate abstract class LeapCellBrokenHandler with abstract method write\u001b[0m\u001b[0;34m\u001b[0m\u001b[0;34m\u001b[0m\u001b[0m\n\u001b[0m",
            "\u001b[0;31mTypeError\u001b[0m: Can't instantiate abstract class LeapCellBrokenHandler with abstract method write"
          ]
        }
      ]
    },
    {
      "cell_type": "code",
      "source": [
        "from abc import ABC, abstractmethod\n",
        "from typing import Any, List, Dict, Union\n",
        "\n",
        "class LeapCellFileHandler(ABC):\n",
        "    @abstractmethod\n",
        "    def read(self, filename: str) -> Union[Dict, List]:\n",
        "        \"\"\"Read the file content and return the parsed data structure\"\"\"\n",
        "        pass\n",
        "    @abstractmethod\n",
        "    def write(self, filename: str, data: Union[Dict, List]) -> None:\n",
        "        \"\"\"Write the data structure to the file\"\"\"\n",
        "        pass\n",
        "    @property\n",
        "    @abstractmethod\n",
        "    def supported_extensions(self) -> List[str]:\n",
        "        \"\"\"Return the list of supported file extensions\"\"\"\n",
        "        pass\n",
        "class LeapCellJsonHandler(LeapCellFileHandler):\n",
        "    def read(self, filename: str) -> Dict:\n",
        "        import json\n",
        "        with open(filename, 'r') as f:\n",
        "            return json.load(f)\n",
        "    def write(self, filename: str, data: Dict) -> None:\n",
        "        import json\n",
        "        with open(filename, 'w') as f:\n",
        "            json.dump(data, f)\n",
        "    @property\n",
        "    def supported_extensions(self) -> List[str]:\n",
        "        return ['.json']\n",
        "# Usage example\n",
        "def process_leapcell_file(handler: LeapCellFileHandler, filename: str) -> None:\n",
        "    if any(filename.endswith(ext) for ext in handler.supported_extensions):\n",
        "        data = handler.read(filename)\n",
        "        # Process the data...\n",
        "        handler.write(f'processed_{filename}', data)\n",
        "    else:\n",
        "        raise ValueError(f\"Unsupported file extension for {filename}\")"
      ],
      "metadata": {
        "id": "gyID7Xw-kMlC"
      },
      "execution_count": 4,
      "outputs": []
    },
    {
      "cell_type": "code",
      "source": [
        "class LeapCellFileHandler:\n",
        "    def read(self, filename: str) -> Dict:\n",
        "        raise NotImplementedError(\"Subclass must implement read method\")\n",
        "\n",
        "    def write(self, filename: str, data: Dict) -> None:\n",
        "        raise NotImplementedError(\"Subclass must implement write method\")"
      ],
      "metadata": {
        "id": "l_EjFCSOkRDp"
      },
      "execution_count": 5,
      "outputs": []
    },
    {
      "cell_type": "code",
      "source": [
        "# The case of using NotImplementedError\n",
        "class LeapCellBadHandler(LeapCellFileHandler):\n",
        "    pass\n",
        "handler = LeapCellBadHandler()  # This line of code can be executed\n",
        "handler.read(\"test.txt\")  # An error will only be reported here\n",
        "# The case of using ABC\n",
        "from abc import ABC, abstractmethod\n",
        "class LeapCellFileHandler(ABC):\n",
        "    @abstractmethod\n",
        "    def read(self, filename: str) -> Dict:\n",
        "        pass\n",
        "class LeapCellBadHandler(LeapCellFileHandler):\n",
        "    pass\n",
        "handler = LeapCellBadHandler()  # An error will be reported directly here"
      ],
      "metadata": {
        "colab": {
          "base_uri": "https://localhost:8080/",
          "height": 326
        },
        "id": "PedYz-uEkTzd",
        "outputId": "d3e569c1-fb3e-4bc1-86f0-3bb1f0951857"
      },
      "execution_count": 6,
      "outputs": [
        {
          "output_type": "error",
          "ename": "NotImplementedError",
          "evalue": "Subclass must implement read method",
          "traceback": [
            "\u001b[0;31m---------------------------------------------------------------------------\u001b[0m",
            "\u001b[0;31mNotImplementedError\u001b[0m                       Traceback (most recent call last)",
            "\u001b[0;32m<ipython-input-6-5db65adccded>\u001b[0m in \u001b[0;36m<cell line: 0>\u001b[0;34m()\u001b[0m\n\u001b[1;32m      3\u001b[0m     \u001b[0;32mpass\u001b[0m\u001b[0;34m\u001b[0m\u001b[0;34m\u001b[0m\u001b[0m\n\u001b[1;32m      4\u001b[0m \u001b[0mhandler\u001b[0m \u001b[0;34m=\u001b[0m \u001b[0mLeapCellBadHandler\u001b[0m\u001b[0;34m(\u001b[0m\u001b[0;34m)\u001b[0m  \u001b[0;31m# This line of code can be executed\u001b[0m\u001b[0;34m\u001b[0m\u001b[0;34m\u001b[0m\u001b[0m\n\u001b[0;32m----> 5\u001b[0;31m \u001b[0mhandler\u001b[0m\u001b[0;34m.\u001b[0m\u001b[0mread\u001b[0m\u001b[0;34m(\u001b[0m\u001b[0;34m\"test.txt\"\u001b[0m\u001b[0;34m)\u001b[0m  \u001b[0;31m# An error will only be reported here\u001b[0m\u001b[0;34m\u001b[0m\u001b[0;34m\u001b[0m\u001b[0m\n\u001b[0m\u001b[1;32m      6\u001b[0m \u001b[0;31m# The case of using ABC\u001b[0m\u001b[0;34m\u001b[0m\u001b[0;34m\u001b[0m\u001b[0m\n\u001b[1;32m      7\u001b[0m \u001b[0;32mfrom\u001b[0m \u001b[0mabc\u001b[0m \u001b[0;32mimport\u001b[0m \u001b[0mABC\u001b[0m\u001b[0;34m,\u001b[0m \u001b[0mabstractmethod\u001b[0m\u001b[0;34m\u001b[0m\u001b[0;34m\u001b[0m\u001b[0m\n",
            "\u001b[0;32m<ipython-input-5-c7148db57e75>\u001b[0m in \u001b[0;36mread\u001b[0;34m(self, filename)\u001b[0m\n\u001b[1;32m      1\u001b[0m \u001b[0;32mclass\u001b[0m \u001b[0mLeapCellFileHandler\u001b[0m\u001b[0;34m:\u001b[0m\u001b[0;34m\u001b[0m\u001b[0;34m\u001b[0m\u001b[0m\n\u001b[1;32m      2\u001b[0m     \u001b[0;32mdef\u001b[0m \u001b[0mread\u001b[0m\u001b[0;34m(\u001b[0m\u001b[0mself\u001b[0m\u001b[0;34m,\u001b[0m \u001b[0mfilename\u001b[0m\u001b[0;34m:\u001b[0m \u001b[0mstr\u001b[0m\u001b[0;34m)\u001b[0m \u001b[0;34m->\u001b[0m \u001b[0mDict\u001b[0m\u001b[0;34m:\u001b[0m\u001b[0;34m\u001b[0m\u001b[0;34m\u001b[0m\u001b[0m\n\u001b[0;32m----> 3\u001b[0;31m         \u001b[0;32mraise\u001b[0m \u001b[0mNotImplementedError\u001b[0m\u001b[0;34m(\u001b[0m\u001b[0;34m\"Subclass must implement read method\"\u001b[0m\u001b[0;34m)\u001b[0m\u001b[0;34m\u001b[0m\u001b[0;34m\u001b[0m\u001b[0m\n\u001b[0m\u001b[1;32m      4\u001b[0m \u001b[0;34m\u001b[0m\u001b[0m\n\u001b[1;32m      5\u001b[0m     \u001b[0;32mdef\u001b[0m \u001b[0mwrite\u001b[0m\u001b[0;34m(\u001b[0m\u001b[0mself\u001b[0m\u001b[0;34m,\u001b[0m \u001b[0mfilename\u001b[0m\u001b[0;34m:\u001b[0m \u001b[0mstr\u001b[0m\u001b[0;34m,\u001b[0m \u001b[0mdata\u001b[0m\u001b[0;34m:\u001b[0m \u001b[0mDict\u001b[0m\u001b[0;34m)\u001b[0m \u001b[0;34m->\u001b[0m \u001b[0;32mNone\u001b[0m\u001b[0;34m:\u001b[0m\u001b[0;34m\u001b[0m\u001b[0;34m\u001b[0m\u001b[0m\n",
            "\u001b[0;31mNotImplementedError\u001b[0m: Subclass must implement read method"
          ]
        }
      ]
    },
    {
      "cell_type": "code",
      "source": [
        "from abc import ABC, abstractmethod\n",
        "\n",
        "class LeapCellFileHandler(ABC):\n",
        "    @abstractmethod\n",
        "    def read(self, filename: str) -> Dict:\n",
        "        pass\n",
        "    def process(self, filename: str) -> Dict:\n",
        "        data = self.read(filename)\n",
        "        if not self._validate(data):\n",
        "            raise ValueError(\"Invalid data format\")\n",
        "        return self._transform(data)\n",
        "    def _validate(self, data: Dict) -> bool:\n",
        "        raise NotImplementedError(\"Subclass should implement validation\")\n",
        "    def _transform(self, data: Dict) -> Dict:\n",
        "        # Default implementation\n",
        "        return data"
      ],
      "metadata": {
        "id": "7vNn0SldkVjB"
      },
      "execution_count": 7,
      "outputs": []
    },
    {
      "cell_type": "code",
      "source": [
        "# pylint: disable=missing-module-docstring\n",
        "from abc import ABC, abstractmethod\n",
        "\n",
        "class LeapCellBase(ABC):\n",
        "    @abstractmethod\n",
        "    def foo(self):\n",
        "        pass\n",
        "class LeapCellDerived(LeapCellBase):  # pylint: error: Abstract method 'foo' not implemented\n",
        "    pass"
      ],
      "metadata": {
        "id": "mmHxxyEskXMI"
      },
      "execution_count": 8,
      "outputs": []
    },
    {
      "cell_type": "code",
      "source": [
        "# Method 1: Directly inherit from ABC\n",
        "from abc import ABC, abstractmethod\n",
        "\n",
        "class LeapCellFileHandler(ABC):\n",
        "    @abstractmethod\n",
        "    def read(self):\n",
        "        pass\n",
        "# Method 2: Use metaclass\n",
        "from abc import ABCMeta, abstractmethod\n",
        "class LeapCellFileHandler(metaclass=ABCMeta):\n",
        "    @abstractmethod\n",
        "    def read(self):\n",
        "        pass"
      ],
      "metadata": {
        "id": "heTOUk_Ckaaf"
      },
      "execution_count": 11,
      "outputs": []
    },
    {
      "cell_type": "code",
      "source": [
        "class ABC(metaclass=ABCMeta):\n",
        "    \"\"\"Helper class that provides a standard way to create an ABC using\n",
        "    inheritance.\n",
        "    \"\"\"\n",
        "    pass"
      ],
      "metadata": {
        "id": "Ra8LnCoYkeKz"
      },
      "execution_count": 12,
      "outputs": []
    },
    {
      "cell_type": "code",
      "source": [
        "class MyMeta(type):\n",
        "    def __new__(cls, name, bases, namespace):\n",
        "        # Custom metaclass behavior\n",
        "        return super().__new__(cls, name, bases, namespace)\n",
        "\n",
        "class CombinedMeta(ABCMeta, MyMeta):\n",
        "    pass\n",
        "class LeapCellMyHandler(metaclass=CombinedMeta):\n",
        "    @abstractmethod\n",
        "    def handle(self):\n",
        "        pass"
      ],
      "metadata": {
        "id": "94RCkr3QkfXr"
      },
      "execution_count": 13,
      "outputs": []
    }
  ]
}