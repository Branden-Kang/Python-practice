{
  "nbformat": 4,
  "nbformat_minor": 0,
  "metadata": {
    "colab": {
      "name": "3 Seemingly Simple Python Features.ipynb",
      "provenance": [],
      "authorship_tag": "ABX9TyNpoZFdb3F1vQWD0dtdi9J0"
    },
    "kernelspec": {
      "name": "python3",
      "display_name": "Python 3"
    },
    "language_info": {
      "name": "python"
    }
  },
  "cells": [
    {
      "cell_type": "markdown",
      "metadata": {
        "id": "195Hv29QXtVP"
      },
      "source": [
        "[Reference](https://betterprogramming.pub/3-seemingly-simple-python-features-that-confuse-beginners-313575312dcf)"
      ]
    },
    {
      "cell_type": "code",
      "metadata": {
        "colab": {
          "base_uri": "https://localhost:8080/"
        },
        "id": "5rR2jNMQUvL1",
        "outputId": "3d20656e-fd6f-438b-e201-21f8fed47f33"
      },
      "source": [
        "number = 5 or 4\n",
        "number"
      ],
      "execution_count": 1,
      "outputs": [
        {
          "output_type": "execute_result",
          "data": {
            "text/plain": [
              "5"
            ]
          },
          "metadata": {
            "tags": []
          },
          "execution_count": 1
        }
      ]
    },
    {
      "cell_type": "code",
      "metadata": {
        "colab": {
          "base_uri": "https://localhost:8080/",
          "height": 37
        },
        "id": "eqg2SZVrUyWD",
        "outputId": "8a542050-b8c9-4ccc-8eff-3c7ebc300845"
      },
      "source": [
        "text = \"\" or \"Hello, World!\"\n",
        "text"
      ],
      "execution_count": 2,
      "outputs": [
        {
          "output_type": "execute_result",
          "data": {
            "application/vnd.google.colaboratory.intrinsic+json": {
              "type": "string"
            },
            "text/plain": [
              "'Hello, World!'"
            ]
          },
          "metadata": {
            "tags": []
          },
          "execution_count": 2
        }
      ]
    },
    {
      "cell_type": "code",
      "metadata": {
        "colab": {
          "base_uri": "https://localhost:8080/"
        },
        "id": "zY4DXtQDUy5l",
        "outputId": "66de6ec1-ba33-4dcc-9bab-41487e61d581"
      },
      "source": [
        "numbers = [1, 2, 3, 4]\n",
        "eval(str(numbers))"
      ],
      "execution_count": 3,
      "outputs": [
        {
          "output_type": "execute_result",
          "data": {
            "text/plain": [
              "[1, 2, 3, 4]"
            ]
          },
          "metadata": {
            "tags": []
          },
          "execution_count": 3
        }
      ]
    },
    {
      "cell_type": "code",
      "metadata": {
        "colab": {
          "base_uri": "https://localhost:8080/",
          "height": 130
        },
        "id": "IlxICZQqWoec",
        "outputId": "31c2e915-2694-4fab-97d0-22dea4f8c05f"
      },
      "source": [
        "eval(\"numbers = [1, 2, 3, 4]\")"
      ],
      "execution_count": 4,
      "outputs": [
        {
          "output_type": "error",
          "ename": "SyntaxError",
          "evalue": "ignored",
          "traceback": [
            "\u001b[0;36m  File \u001b[0;32m\"<string>\"\u001b[0;36m, line \u001b[0;32m1\u001b[0m\n\u001b[0;31m    numbers = [1, 2, 3, 4]\u001b[0m\n\u001b[0m            ^\u001b[0m\n\u001b[0;31mSyntaxError\u001b[0m\u001b[0;31m:\u001b[0m invalid syntax\n"
          ]
        }
      ]
    },
    {
      "cell_type": "code",
      "metadata": {
        "colab": {
          "base_uri": "https://localhost:8080/"
        },
        "id": "BDObyB4fXWLO",
        "outputId": "54b3a2a7-5cde-4528-d83a-1882a9b3fdf9"
      },
      "source": [
        "numbers = [1, 2, 3, 4]\n",
        "from itertools import accumulate\n",
        "list(accumulate(numbers))"
      ],
      "execution_count": 6,
      "outputs": [
        {
          "output_type": "execute_result",
          "data": {
            "text/plain": [
              "[1, 3, 6, 10]"
            ]
          },
          "metadata": {
            "tags": []
          },
          "execution_count": 6
        }
      ]
    }
  ]
}