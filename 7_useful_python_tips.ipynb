{
  "nbformat": 4,
  "nbformat_minor": 0,
  "metadata": {
    "colab": {
      "name": "7 useful python tips.ipynb",
      "provenance": [],
      "authorship_tag": "ABX9TyMKodD/asw5DYnEes1nEqH5"
    },
    "kernelspec": {
      "name": "python3",
      "display_name": "Python 3"
    },
    "language_info": {
      "name": "python"
    }
  },
  "cells": [
    {
      "cell_type": "markdown",
      "metadata": {
        "id": "japD7JIZxZxN"
      },
      "source": [
        "[Reference](https://sonikabaniya.medium.com/7-useful-python-tips-96070071e736)"
      ]
    },
    {
      "cell_type": "code",
      "metadata": {
        "colab": {
          "base_uri": "https://localhost:8080/"
        },
        "id": "mCyYrpYOwTx7",
        "outputId": "4714254d-6203-49c6-d063-978938e52bc7"
      },
      "source": [
        "a,b,c = 4, 'Sonika', {'name':'Sonika','lastname':'Baniya'}\n",
        "print(a,b,c)"
      ],
      "execution_count": 11,
      "outputs": [
        {
          "output_type": "stream",
          "name": "stdout",
          "text": [
            "4 Sonika {'name': 'Sonika', 'lastname': 'Baniya'}\n"
          ]
        }
      ]
    },
    {
      "cell_type": "code",
      "metadata": {
        "colab": {
          "base_uri": "https://localhost:8080/"
        },
        "id": "f1In0BBYxdmR",
        "outputId": "5b2bec73-f255-4640-c615-52b18ac16c9d"
      },
      "source": [
        "def contains_even_number(l):\n",
        "    for num in l:\n",
        "        if num % 2 == 0:\n",
        "            print (\"True,list contains an even number\")\n",
        "            break\n",
        "        else: \n",
        "            print (\"False, list does not contain an even number\")\n",
        "  \n",
        "print (\"For List 1:\")\n",
        "contains_even_number([1, 3, 6])\n",
        "print(\"For List 2:\")\n",
        "contains_even_number([1, 7, 3])"
      ],
      "execution_count": 3,
      "outputs": [
        {
          "output_type": "stream",
          "name": "stdout",
          "text": [
            "For List 1:\n",
            "False, list does not contain an even number\n",
            "False, list does not contain an even number\n",
            "True,list contains an even number\n",
            "For List 2:\n",
            "False, list does not contain an even number\n",
            "False, list does not contain an even number\n",
            "False, list does not contain an even number\n"
          ]
        }
      ]
    },
    {
      "cell_type": "code",
      "metadata": {
        "colab": {
          "base_uri": "https://localhost:8080/"
        },
        "id": "BlKvgO9jxgH9",
        "outputId": "3fdb1859-78f8-4b08-d0d5-4f46bb529a59"
      },
      "source": [
        "5 < 8 < 9                    #returns true\n",
        "6 > 8 < 10 < 15              #returns false"
      ],
      "execution_count": 4,
      "outputs": [
        {
          "output_type": "execute_result",
          "data": {
            "text/plain": [
              "False"
            ]
          },
          "metadata": {},
          "execution_count": 4
        }
      ]
    },
    {
      "cell_type": "code",
      "metadata": {
        "colab": {
          "base_uri": "https://localhost:8080/"
        },
        "id": "i-Od-lRHxnNn",
        "outputId": "04164c74-530a-4074-b1d3-a04dbbe087ad"
      },
      "source": [
        "#floor method\n",
        "\n",
        "import math\n",
        "print (\"math.floor(-23.11) : \", math.floor(-2.22))\n",
        "print (\"math.floor(300.16) : \", math.floor(40.17))\n",
        "print (\"math.floor(300.72) : \", math.floor(40.72))\n",
        "\n",
        "#output\n",
        "math.floor(-2.22) # :  -3.0\n",
        "math.floor(40.17) # :  40.0\n",
        "math.floor(40.72) # :  40.0\n",
        "\n",
        "#ceil method\n",
        "\n",
        "import math\n",
        "# prints the ceil using floor() method\n",
        "print (\"math.ceil(-23.11) : \", math.ceil(-2.22))\n",
        "print (\"math.ceil(300.16) : \", math.ceil(40.17))\n",
        "print (\"math.ceil(300.72) : \", math.ceil(40.72))\n",
        "\n",
        "#output\n",
        "math.ceil(-2.22) # :  -2.0\n",
        "math.ceil(40.17) # :  41.0\n",
        "math.ceil(40.72) # :  41.0"
      ],
      "execution_count": 6,
      "outputs": [
        {
          "output_type": "stream",
          "name": "stdout",
          "text": [
            "math.floor(-23.11) :  -3\n",
            "math.floor(300.16) :  40\n",
            "math.floor(300.72) :  40\n",
            "math.ceil(-23.11) :  -2\n",
            "math.ceil(300.16) :  41\n",
            "math.ceil(300.72) :  41\n"
          ]
        },
        {
          "output_type": "execute_result",
          "data": {
            "text/plain": [
              "41"
            ]
          },
          "metadata": {},
          "execution_count": 6
        }
      ]
    },
    {
      "cell_type": "code",
      "metadata": {
        "colab": {
          "base_uri": "https://localhost:8080/"
        },
        "id": "2EPTVQrUxt7x",
        "outputId": "5cfb6535-c101-4034-b975-3e0029172099"
      },
      "source": [
        "test = \"Sonika\"\n",
        "print(dir(test))"
      ],
      "execution_count": 7,
      "outputs": [
        {
          "output_type": "stream",
          "name": "stdout",
          "text": [
            "['__add__', '__class__', '__contains__', '__delattr__', '__dir__', '__doc__', '__eq__', '__format__', '__ge__', '__getattribute__', '__getitem__', '__getnewargs__', '__gt__', '__hash__', '__init__', '__init_subclass__', '__iter__', '__le__', '__len__', '__lt__', '__mod__', '__mul__', '__ne__', '__new__', '__reduce__', '__reduce_ex__', '__repr__', '__rmod__', '__rmul__', '__setattr__', '__sizeof__', '__str__', '__subclasshook__', 'capitalize', 'casefold', 'center', 'count', 'encode', 'endswith', 'expandtabs', 'find', 'format', 'format_map', 'index', 'isalnum', 'isalpha', 'isascii', 'isdecimal', 'isdigit', 'isidentifier', 'islower', 'isnumeric', 'isprintable', 'isspace', 'istitle', 'isupper', 'join', 'ljust', 'lower', 'lstrip', 'maketrans', 'partition', 'replace', 'rfind', 'rindex', 'rjust', 'rpartition', 'rsplit', 'rstrip', 'split', 'splitlines', 'startswith', 'strip', 'swapcase', 'title', 'translate', 'upper', 'zfill']\n"
          ]
        }
      ]
    },
    {
      "cell_type": "code",
      "metadata": {
        "colab": {
          "base_uri": "https://localhost:8080/"
        },
        "id": "L5PKxE0Jx2Ea",
        "outputId": "2d85ff48-b154-4a81-8955-370e52578fa8"
      },
      "source": [
        "test = [1,2]\n",
        "print(dir(test))"
      ],
      "execution_count": 8,
      "outputs": [
        {
          "output_type": "stream",
          "name": "stdout",
          "text": [
            "['__add__', '__class__', '__contains__', '__delattr__', '__delitem__', '__dir__', '__doc__', '__eq__', '__format__', '__ge__', '__getattribute__', '__getitem__', '__gt__', '__hash__', '__iadd__', '__imul__', '__init__', '__init_subclass__', '__iter__', '__le__', '__len__', '__lt__', '__mul__', '__ne__', '__new__', '__reduce__', '__reduce_ex__', '__repr__', '__reversed__', '__rmul__', '__setattr__', '__setitem__', '__sizeof__', '__str__', '__subclasshook__', 'append', 'clear', 'copy', 'count', 'extend', 'index', 'insert', 'pop', 'remove', 'reverse', 'sort']\n"
          ]
        }
      ]
    },
    {
      "cell_type": "code",
      "metadata": {
        "colab": {
          "base_uri": "https://localhost:8080/"
        },
        "id": "EsAtgWtIx5El",
        "outputId": "12088953-9a30-4077-fbce-9e1138cbb512"
      },
      "source": [
        "print(\"Sonika\"[::-1])"
      ],
      "execution_count": 9,
      "outputs": [
        {
          "output_type": "stream",
          "name": "stdout",
          "text": [
            "akinoS\n"
          ]
        }
      ]
    },
    {
      "cell_type": "code",
      "metadata": {
        "colab": {
          "base_uri": "https://localhost:8080/"
        },
        "id": "Ro0zJ7Xwx6xv",
        "outputId": "d54a05e3-55f3-4edd-c32f-6ae33a8ffe7d"
      },
      "source": [
        "print(\"S\" + \"o\"*2 + \"n\"*3 + \"i\"*4 +\"k\"*5 +\"a\"*6)"
      ],
      "execution_count": 10,
      "outputs": [
        {
          "output_type": "stream",
          "name": "stdout",
          "text": [
            "Soonnniiiikkkkkaaaaaa\n"
          ]
        }
      ]
    }
  ]
}