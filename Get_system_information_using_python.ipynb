{
  "nbformat": 4,
  "nbformat_minor": 0,
  "metadata": {
    "colab": {
      "name": "Get system information using python.ipynb",
      "provenance": [],
      "authorship_tag": "ABX9TyNNYZpnMzv8tus3+56vU3LG"
    },
    "kernelspec": {
      "name": "python3",
      "display_name": "Python 3"
    },
    "language_info": {
      "name": "python"
    }
  },
  "cells": [
    {
      "cell_type": "markdown",
      "metadata": {
        "id": "hLNB1jto0p60"
      },
      "source": [
        "[Reference](https://allwin-raju-12.medium.com/get-system-information-using-python-26928d750ba2)"
      ]
    },
    {
      "cell_type": "markdown",
      "metadata": {
        "id": "8v_DYFRo0xpu"
      },
      "source": [
        "# 1. Machine type\n"
      ]
    },
    {
      "cell_type": "code",
      "metadata": {
        "colab": {
          "base_uri": "https://localhost:8080/"
        },
        "id": "OZGwSLj40Zy4",
        "outputId": "be4639e9-a02f-4768-db1f-8eb3f3a010cf"
      },
      "source": [
        "import platform\n",
        "print(platform.machine())"
      ],
      "execution_count": 1,
      "outputs": [
        {
          "output_type": "stream",
          "name": "stdout",
          "text": [
            "x86_64\n"
          ]
        }
      ]
    },
    {
      "cell_type": "markdown",
      "metadata": {
        "id": "M1N4ahky0y0q"
      },
      "source": [
        "# 2. Computer’s name\n"
      ]
    },
    {
      "cell_type": "code",
      "metadata": {
        "colab": {
          "base_uri": "https://localhost:8080/"
        },
        "id": "kgZKSEFG0wbq",
        "outputId": "d33937a9-5913-4e16-8701-b24bb5c37f5e"
      },
      "source": [
        "import platform\n",
        "print(platform.node())"
      ],
      "execution_count": 2,
      "outputs": [
        {
          "output_type": "stream",
          "name": "stdout",
          "text": [
            "dcfa57b73c09\n"
          ]
        }
      ]
    },
    {
      "cell_type": "markdown",
      "metadata": {
        "id": "Qs282Sil01_b"
      },
      "source": [
        "# 3. System OS\n"
      ]
    },
    {
      "cell_type": "code",
      "metadata": {
        "colab": {
          "base_uri": "https://localhost:8080/"
        },
        "id": "orhNJolu01Lr",
        "outputId": "acbe2164-2ed8-4190-e0bc-39763ef41133"
      },
      "source": [
        "import platform\n",
        "print(platform.platform())"
      ],
      "execution_count": 3,
      "outputs": [
        {
          "output_type": "stream",
          "name": "stdout",
          "text": [
            "Linux-5.4.104+-x86_64-with-Ubuntu-18.04-bionic\n"
          ]
        }
      ]
    },
    {
      "cell_type": "markdown",
      "metadata": {
        "id": "J6Lmhqt90-YT"
      },
      "source": [
        "# 4. Processor name\n"
      ]
    },
    {
      "cell_type": "code",
      "metadata": {
        "colab": {
          "base_uri": "https://localhost:8080/"
        },
        "id": "UT3ot-T-044K",
        "outputId": "2dbd8ba4-c08c-4045-9274-5b4dc15cabe6"
      },
      "source": [
        "import platform\n",
        "print(platform.processor())"
      ],
      "execution_count": 4,
      "outputs": [
        {
          "output_type": "stream",
          "name": "stdout",
          "text": [
            "x86_64\n"
          ]
        }
      ]
    },
    {
      "cell_type": "markdown",
      "metadata": {
        "id": "wX81jvmH0_Rf"
      },
      "source": [
        "# 5. Python version\n"
      ]
    },
    {
      "cell_type": "code",
      "metadata": {
        "colab": {
          "base_uri": "https://localhost:8080/"
        },
        "id": "zjvAnXrk07jV",
        "outputId": "198a5a1d-6100-459f-c703-7c7a024b1c04"
      },
      "source": [
        "import platform\n",
        "print(platform.python_version())"
      ],
      "execution_count": 5,
      "outputs": [
        {
          "output_type": "stream",
          "name": "stdout",
          "text": [
            "3.7.12\n"
          ]
        }
      ]
    },
    {
      "cell_type": "markdown",
      "metadata": {
        "id": "GYFsMvge1Dx5"
      },
      "source": [
        "# 6. System’s release\n"
      ]
    },
    {
      "cell_type": "code",
      "metadata": {
        "colab": {
          "base_uri": "https://localhost:8080/"
        },
        "id": "KfwLPSif1C3Z",
        "outputId": "5460fe80-b010-40e9-936c-9c0ec1d8f05e"
      },
      "source": [
        "import platform\n",
        "print(platform.release())"
      ],
      "execution_count": 6,
      "outputs": [
        {
          "output_type": "stream",
          "name": "stdout",
          "text": [
            "5.4.104+\n"
          ]
        }
      ]
    },
    {
      "cell_type": "markdown",
      "metadata": {
        "id": "X4pFHYXj1He1"
      },
      "source": [
        "# 7. Return all the information\n"
      ]
    },
    {
      "cell_type": "code",
      "metadata": {
        "colab": {
          "base_uri": "https://localhost:8080/"
        },
        "id": "qEHUt3wB1Gcj",
        "outputId": "554d9ed1-88c9-4d14-ffd1-d415df197053"
      },
      "source": [
        "import platform\n",
        "print(platform.uname())"
      ],
      "execution_count": 7,
      "outputs": [
        {
          "output_type": "stream",
          "name": "stdout",
          "text": [
            "uname_result(system='Linux', node='dcfa57b73c09', release='5.4.104+', version='#1 SMP Sat Jun 5 09:50:34 PDT 2021', machine='x86_64', processor='x86_64')\n"
          ]
        }
      ]
    }
  ]
}