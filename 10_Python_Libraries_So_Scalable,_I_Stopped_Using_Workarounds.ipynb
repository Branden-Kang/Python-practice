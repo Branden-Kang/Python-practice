{
  "nbformat": 4,
  "nbformat_minor": 0,
  "metadata": {
    "colab": {
      "provenance": [],
      "authorship_tag": "ABX9TyNBSQowu9ZbuKuQ99n4nrrG"
    },
    "kernelspec": {
      "name": "python3",
      "display_name": "Python 3"
    },
    "language_info": {
      "name": "python"
    }
  },
  "cells": [
    {
      "cell_type": "markdown",
      "source": [
        "[Reference](https://python.plainenglish.io/10-python-libraries-so-scalable-i-stopped-using-workarounds-be3312a2c2f0)"
      ],
      "metadata": {
        "id": "E8QQ1Z2Yseec"
      }
    },
    {
      "cell_type": "markdown",
      "source": [
        "# 1. Ray (Cluster Computing Without Losing Your Mind)"
      ],
      "metadata": {
        "id": "NNfsiVjKsnOl"
      }
    },
    {
      "cell_type": "code",
      "source": [
        "!pip install ray"
      ],
      "metadata": {
        "colab": {
          "base_uri": "https://localhost:8080/"
        },
        "id": "O65gRMIcstNr",
        "outputId": "bf2abd4c-a410-4dce-f59d-0a3d5ea9e7c2"
      },
      "execution_count": 2,
      "outputs": [
        {
          "output_type": "stream",
          "name": "stdout",
          "text": [
            "Collecting ray\n",
            "  Downloading ray-2.49.1-cp312-cp312-manylinux2014_x86_64.whl.metadata (21 kB)\n",
            "Requirement already satisfied: click>=7.0 in /usr/local/lib/python3.12/dist-packages (from ray) (8.2.1)\n",
            "Requirement already satisfied: filelock in /usr/local/lib/python3.12/dist-packages (from ray) (3.19.1)\n",
            "Requirement already satisfied: jsonschema in /usr/local/lib/python3.12/dist-packages (from ray) (4.25.1)\n",
            "Requirement already satisfied: msgpack<2.0.0,>=1.0.0 in /usr/local/lib/python3.12/dist-packages (from ray) (1.1.1)\n",
            "Requirement already satisfied: packaging in /usr/local/lib/python3.12/dist-packages (from ray) (25.0)\n",
            "Requirement already satisfied: protobuf>=3.20.3 in /usr/local/lib/python3.12/dist-packages (from ray) (5.29.5)\n",
            "Requirement already satisfied: pyyaml in /usr/local/lib/python3.12/dist-packages (from ray) (6.0.2)\n",
            "Requirement already satisfied: requests in /usr/local/lib/python3.12/dist-packages (from ray) (2.32.4)\n",
            "Requirement already satisfied: attrs>=22.2.0 in /usr/local/lib/python3.12/dist-packages (from jsonschema->ray) (25.3.0)\n",
            "Requirement already satisfied: jsonschema-specifications>=2023.03.6 in /usr/local/lib/python3.12/dist-packages (from jsonschema->ray) (2025.4.1)\n",
            "Requirement already satisfied: referencing>=0.28.4 in /usr/local/lib/python3.12/dist-packages (from jsonschema->ray) (0.36.2)\n",
            "Requirement already satisfied: rpds-py>=0.7.1 in /usr/local/lib/python3.12/dist-packages (from jsonschema->ray) (0.27.1)\n",
            "Requirement already satisfied: charset_normalizer<4,>=2 in /usr/local/lib/python3.12/dist-packages (from requests->ray) (3.4.3)\n",
            "Requirement already satisfied: idna<4,>=2.5 in /usr/local/lib/python3.12/dist-packages (from requests->ray) (3.10)\n",
            "Requirement already satisfied: urllib3<3,>=1.21.1 in /usr/local/lib/python3.12/dist-packages (from requests->ray) (2.5.0)\n",
            "Requirement already satisfied: certifi>=2017.4.17 in /usr/local/lib/python3.12/dist-packages (from requests->ray) (2025.8.3)\n",
            "Requirement already satisfied: typing-extensions>=4.4.0 in /usr/local/lib/python3.12/dist-packages (from referencing>=0.28.4->jsonschema->ray) (4.15.0)\n",
            "Downloading ray-2.49.1-cp312-cp312-manylinux2014_x86_64.whl (70.1 MB)\n",
            "\u001b[2K   \u001b[90m━━━━━━━━━━━━━━━━━━━━━━━━━━━━━━━━━━━━━━━━\u001b[0m \u001b[32m70.1/70.1 MB\u001b[0m \u001b[31m10.9 MB/s\u001b[0m eta \u001b[36m0:00:00\u001b[0m\n",
            "\u001b[?25hInstalling collected packages: ray\n",
            "Successfully installed ray-2.49.1\n"
          ]
        }
      ]
    },
    {
      "cell_type": "code",
      "execution_count": 3,
      "metadata": {
        "colab": {
          "base_uri": "https://localhost:8080/"
        },
        "id": "OR1a0xw5saeq",
        "outputId": "5cced6dd-cf54-408e-eeb6-5048a6deb990"
      },
      "outputs": [
        {
          "output_type": "stream",
          "name": "stderr",
          "text": [
            "2025-09-12 02:13:58,208\tINFO worker.py:1951 -- Started a local Ray instance.\n"
          ]
        },
        {
          "output_type": "stream",
          "name": "stdout",
          "text": [
            "[0, 1, 4, 9, 16, 25, 36, 49, 64, 81]\n"
          ]
        }
      ],
      "source": [
        "import ray\n",
        "ray.init()\n",
        "\n",
        "@ray.remote\n",
        "def square(x):\n",
        "    return x * x\n",
        "\n",
        "futures = [square.remote(i) for i in range(10)]\n",
        "print(ray.get(futures))"
      ]
    },
    {
      "cell_type": "markdown",
      "source": [
        "# 2. Polars (DataFrames That Don’t Crawl)"
      ],
      "metadata": {
        "id": "1SSLhJvQssPV"
      }
    },
    {
      "cell_type": "code",
      "source": [
        "import polars as pl\n",
        "\n",
        "df = pl.read_csv(\"bigdata.csv\")\n",
        "result = df.filter(pl.col(\"sales\") > 1000).groupby(\"region\").agg(pl.sum(\"sales\"))\n",
        "print(result)"
      ],
      "metadata": {
        "id": "9j97Bij9spZx"
      },
      "execution_count": 4,
      "outputs": []
    },
    {
      "cell_type": "markdown",
      "source": [
        "# 3. FastAPI (APIs Without the Pain)"
      ],
      "metadata": {
        "id": "i5mH5KZKsyMB"
      }
    },
    {
      "cell_type": "code",
      "source": [
        "from fastapi import FastAPI\n",
        "\n",
        "app = FastAPI()\n",
        "\n",
        "@app.get(\"/hello\")\n",
        "def hello(name: str):\n",
        "    return {\"message\": f\"Hello {name}\"}"
      ],
      "metadata": {
        "id": "R5sk948Fsx_g"
      },
      "execution_count": 5,
      "outputs": []
    },
    {
      "cell_type": "markdown",
      "source": [
        "# 4. Prefect (Workflow Orchestration Without Cron Jobs)"
      ],
      "metadata": {
        "id": "lIaCTU6cs1mg"
      }
    },
    {
      "cell_type": "code",
      "source": [
        "!pip install prefect"
      ],
      "metadata": {
        "colab": {
          "base_uri": "https://localhost:8080/",
          "height": 1000
        },
        "id": "fqMEL4oGs8Xn",
        "outputId": "6bbea15b-18cc-46f9-a19d-b0b326da5721"
      },
      "execution_count": 7,
      "outputs": [
        {
          "output_type": "stream",
          "name": "stdout",
          "text": [
            "Collecting prefect\n",
            "  Downloading prefect-3.4.17-py3-none-any.whl.metadata (13 kB)\n",
            "Collecting aiosqlite<1.0.0,>=0.17.0 (from prefect)\n",
            "  Downloading aiosqlite-0.21.0-py3-none-any.whl.metadata (4.3 kB)\n",
            "Requirement already satisfied: alembic<2.0.0,>=1.7.5 in /usr/local/lib/python3.12/dist-packages (from prefect) (1.16.5)\n",
            "Requirement already satisfied: anyio<5.0.0,>=4.4.0 in /usr/local/lib/python3.12/dist-packages (from prefect) (4.10.0)\n",
            "Collecting apprise<2.0.0,>=1.1.0 (from prefect)\n",
            "  Downloading apprise-1.9.4-py3-none-any.whl.metadata (55 kB)\n",
            "\u001b[2K     \u001b[90m━━━━━━━━━━━━━━━━━━━━━━━━━━━━━━━━━━━━━━━━\u001b[0m \u001b[32m55.8/55.8 kB\u001b[0m \u001b[31m2.4 MB/s\u001b[0m eta \u001b[36m0:00:00\u001b[0m\n",
            "\u001b[?25hCollecting asgi-lifespan<3.0,>=1.0 (from prefect)\n",
            "  Downloading asgi_lifespan-2.1.0-py3-none-any.whl.metadata (10 kB)\n",
            "Collecting asyncpg<1.0.0,>=0.23 (from prefect)\n",
            "  Downloading asyncpg-0.30.0-cp312-cp312-manylinux_2_17_x86_64.manylinux2014_x86_64.whl.metadata (5.0 kB)\n",
            "Requirement already satisfied: cachetools<7.0,>=5.3 in /usr/local/lib/python3.12/dist-packages (from prefect) (5.5.2)\n",
            "Requirement already satisfied: click<9,>=8.0 in /usr/local/lib/python3.12/dist-packages (from prefect) (8.2.1)\n",
            "Requirement already satisfied: cloudpickle<4.0,>=2.0 in /usr/local/lib/python3.12/dist-packages (from prefect) (3.1.1)\n",
            "Collecting coolname<3.0.0,>=1.0.4 (from prefect)\n",
            "  Downloading coolname-2.2.0-py2.py3-none-any.whl.metadata (6.2 kB)\n",
            "Requirement already satisfied: cryptography>=36.0.1 in /usr/local/lib/python3.12/dist-packages (from prefect) (43.0.3)\n",
            "Collecting dateparser<2.0.0,>=1.1.1 (from prefect)\n",
            "  Downloading dateparser-1.2.2-py3-none-any.whl.metadata (29 kB)\n",
            "Collecting docker<8.0,>=4.0 (from prefect)\n",
            "  Downloading docker-7.1.0-py3-none-any.whl.metadata (3.8 kB)\n",
            "Collecting exceptiongroup>=1.0.0 (from prefect)\n",
            "  Downloading exceptiongroup-1.3.0-py3-none-any.whl.metadata (6.7 kB)\n",
            "Requirement already satisfied: fastapi<1.0.0,>=0.111.0 in /usr/local/lib/python3.12/dist-packages (from prefect) (0.116.1)\n",
            "Requirement already satisfied: fsspec>=2022.5.0 in /usr/local/lib/python3.12/dist-packages (from prefect) (2025.3.0)\n",
            "Requirement already satisfied: graphviz>=0.20.1 in /usr/local/lib/python3.12/dist-packages (from prefect) (0.21)\n",
            "Collecting griffe<2.0.0,>=0.49.0 (from prefect)\n",
            "  Downloading griffe-1.14.0-py3-none-any.whl.metadata (5.1 kB)\n",
            "Requirement already satisfied: httpcore<2.0.0,>=1.0.5 in /usr/local/lib/python3.12/dist-packages (from prefect) (1.0.9)\n",
            "Requirement already satisfied: httpx!=0.23.2,>=0.23 in /usr/local/lib/python3.12/dist-packages (from httpx[http2]!=0.23.2,>=0.23->prefect) (0.28.1)\n",
            "Requirement already satisfied: humanize<5.0.0,>=4.9.0 in /usr/local/lib/python3.12/dist-packages (from prefect) (4.13.0)\n",
            "Collecting jinja2-humanize-extension>=0.4.0 (from prefect)\n",
            "  Downloading jinja2_humanize_extension-0.4.0-py3-none-any.whl.metadata (3.6 kB)\n",
            "Requirement already satisfied: jinja2<4.0.0,>=3.1.6 in /usr/local/lib/python3.12/dist-packages (from prefect) (3.1.6)\n",
            "Requirement already satisfied: jsonpatch<2.0,>=1.32 in /usr/local/lib/python3.12/dist-packages (from prefect) (1.33)\n",
            "Requirement already satisfied: jsonschema<5.0.0,>=4.18.0 in /usr/local/lib/python3.12/dist-packages (from prefect) (4.25.1)\n",
            "Requirement already satisfied: opentelemetry-api<2.0.0,>=1.27.0 in /usr/local/lib/python3.12/dist-packages (from prefect) (1.36.0)\n",
            "Requirement already satisfied: orjson<4.0,>=3.7 in /usr/local/lib/python3.12/dist-packages (from prefect) (3.11.3)\n",
            "Requirement already satisfied: packaging<25.1,>=21.3 in /usr/local/lib/python3.12/dist-packages (from prefect) (25.0)\n",
            "Collecting pathspec>=0.8.0 (from prefect)\n",
            "  Downloading pathspec-0.12.1-py3-none-any.whl.metadata (21 kB)\n",
            "Collecting pendulum<4,>=3.0.0 (from prefect)\n",
            "  Downloading pendulum-3.1.0-cp312-cp312-manylinux_2_17_x86_64.manylinux2014_x86_64.whl.metadata (6.8 kB)\n",
            "Requirement already satisfied: prometheus-client>=0.20.0 in /usr/local/lib/python3.12/dist-packages (from prefect) (0.22.1)\n",
            "Requirement already satisfied: pydantic!=2.11.0,!=2.11.1,!=2.11.2,!=2.11.3,!=2.11.4,<3.0.0,>=2.10.1 in /usr/local/lib/python3.12/dist-packages (from prefect) (2.11.7)\n",
            "Requirement already satisfied: pydantic-core<3.0.0,>=2.12.0 in /usr/local/lib/python3.12/dist-packages (from prefect) (2.33.2)\n",
            "Collecting pydantic-extra-types<3.0.0,>=2.8.2 (from prefect)\n",
            "  Downloading pydantic_extra_types-2.10.5-py3-none-any.whl.metadata (3.9 kB)\n",
            "Requirement already satisfied: pydantic-settings!=2.9.0,<3.0.0,>2.2.1 in /usr/local/lib/python3.12/dist-packages (from prefect) (2.10.1)\n",
            "Requirement already satisfied: python-dateutil<3.0.0,>=2.8.2 in /usr/local/lib/python3.12/dist-packages (from prefect) (2.9.0.post0)\n",
            "Requirement already satisfied: python-slugify<9.0,>=5.0 in /usr/local/lib/python3.12/dist-packages (from prefect) (8.0.4)\n",
            "Collecting python-socks<3.0,>=2.5.3 (from python-socks[asyncio]<3.0,>=2.5.3->prefect)\n",
            "  Downloading python_socks-2.7.2-py3-none-any.whl.metadata (8.0 kB)\n",
            "Requirement already satisfied: pytz<2026,>=2021.1 in /usr/local/lib/python3.12/dist-packages (from prefect) (2025.2)\n",
            "Requirement already satisfied: pyyaml<7.0.0,>=5.4.1 in /usr/local/lib/python3.12/dist-packages (from prefect) (6.0.2)\n",
            "Collecting readchar<5.0.0,>=4.0.0 (from prefect)\n",
            "  Downloading readchar-4.2.1-py3-none-any.whl.metadata (7.5 kB)\n",
            "Requirement already satisfied: rfc3339-validator<0.2.0,>=0.1.4 in /usr/local/lib/python3.12/dist-packages (from prefect) (0.1.4)\n",
            "Requirement already satisfied: rich<15.0,>=11.0 in /usr/local/lib/python3.12/dist-packages (from prefect) (13.9.4)\n",
            "Collecting ruamel-yaml>=0.17.0 (from prefect)\n",
            "  Downloading ruamel.yaml-0.18.15-py3-none-any.whl.metadata (25 kB)\n",
            "Collecting semver>=3.0.4 (from prefect)\n",
            "  Downloading semver-3.0.4-py3-none-any.whl.metadata (6.8 kB)\n",
            "Requirement already satisfied: sniffio<2.0.0,>=1.3.0 in /usr/local/lib/python3.12/dist-packages (from prefect) (1.3.1)\n",
            "Requirement already satisfied: sqlalchemy<3.0.0,>=2.0 in /usr/local/lib/python3.12/dist-packages (from sqlalchemy[asyncio]<3.0.0,>=2.0->prefect) (2.0.43)\n",
            "Requirement already satisfied: toml>=0.10.0 in /usr/local/lib/python3.12/dist-packages (from prefect) (0.10.2)\n",
            "Requirement already satisfied: typer!=0.12.2,<0.18.0,>=0.12.0 in /usr/local/lib/python3.12/dist-packages (from prefect) (0.17.3)\n",
            "Requirement already satisfied: typing-extensions<5.0.0,>=4.10.0 in /usr/local/lib/python3.12/dist-packages (from prefect) (4.15.0)\n",
            "Collecting uv>=0.6.0 (from prefect)\n",
            "  Downloading uv-0.8.17-py3-none-manylinux_2_17_x86_64.manylinux2014_x86_64.whl.metadata (11 kB)\n",
            "Requirement already satisfied: uvicorn!=0.29.0,>=0.14.0 in /usr/local/lib/python3.12/dist-packages (from prefect) (0.35.0)\n",
            "Requirement already satisfied: websockets<16.0,>=13.0 in /usr/local/lib/python3.12/dist-packages (from prefect) (15.0.1)\n",
            "Requirement already satisfied: Mako in /usr/local/lib/python3.12/dist-packages (from alembic<2.0.0,>=1.7.5->prefect) (1.3.10)\n",
            "Requirement already satisfied: idna>=2.8 in /usr/local/lib/python3.12/dist-packages (from anyio<5.0.0,>=4.4.0->prefect) (3.10)\n",
            "Requirement already satisfied: requests in /usr/local/lib/python3.12/dist-packages (from apprise<2.0.0,>=1.1.0->prefect) (2.32.4)\n",
            "Requirement already satisfied: requests-oauthlib in /usr/local/lib/python3.12/dist-packages (from apprise<2.0.0,>=1.1.0->prefect) (2.0.0)\n",
            "Requirement already satisfied: markdown in /usr/local/lib/python3.12/dist-packages (from apprise<2.0.0,>=1.1.0->prefect) (3.9)\n",
            "Requirement already satisfied: certifi in /usr/local/lib/python3.12/dist-packages (from apprise<2.0.0,>=1.1.0->prefect) (2025.8.3)\n",
            "Requirement already satisfied: cffi>=1.12 in /usr/local/lib/python3.12/dist-packages (from cryptography>=36.0.1->prefect) (1.17.1)\n",
            "Requirement already satisfied: regex>=2024.9.11 in /usr/local/lib/python3.12/dist-packages (from dateparser<2.0.0,>=1.1.1->prefect) (2024.11.6)\n",
            "Requirement already satisfied: tzlocal>=0.2 in /usr/local/lib/python3.12/dist-packages (from dateparser<2.0.0,>=1.1.1->prefect) (5.3.1)\n",
            "Requirement already satisfied: urllib3>=1.26.0 in /usr/local/lib/python3.12/dist-packages (from docker<8.0,>=4.0->prefect) (2.5.0)\n",
            "Requirement already satisfied: starlette<0.48.0,>=0.40.0 in /usr/local/lib/python3.12/dist-packages (from fastapi<1.0.0,>=0.111.0->prefect) (0.47.3)\n",
            "Collecting colorama>=0.4 (from griffe<2.0.0,>=0.49.0->prefect)\n",
            "  Downloading colorama-0.4.6-py2.py3-none-any.whl.metadata (17 kB)\n",
            "Requirement already satisfied: h11>=0.16 in /usr/local/lib/python3.12/dist-packages (from httpcore<2.0.0,>=1.0.5->prefect) (0.16.0)\n",
            "Requirement already satisfied: h2<5,>=3 in /usr/local/lib/python3.12/dist-packages (from httpx[http2]!=0.23.2,>=0.23->prefect) (4.3.0)\n",
            "Requirement already satisfied: MarkupSafe>=2.0 in /usr/local/lib/python3.12/dist-packages (from jinja2<4.0.0,>=3.1.6->prefect) (3.0.2)\n",
            "Requirement already satisfied: jsonpointer>=1.9 in /usr/local/lib/python3.12/dist-packages (from jsonpatch<2.0,>=1.32->prefect) (3.0.0)\n",
            "Requirement already satisfied: attrs>=22.2.0 in /usr/local/lib/python3.12/dist-packages (from jsonschema<5.0.0,>=4.18.0->prefect) (25.3.0)\n",
            "Requirement already satisfied: jsonschema-specifications>=2023.03.6 in /usr/local/lib/python3.12/dist-packages (from jsonschema<5.0.0,>=4.18.0->prefect) (2025.4.1)\n",
            "Requirement already satisfied: referencing>=0.28.4 in /usr/local/lib/python3.12/dist-packages (from jsonschema<5.0.0,>=4.18.0->prefect) (0.36.2)\n",
            "Requirement already satisfied: rpds-py>=0.7.1 in /usr/local/lib/python3.12/dist-packages (from jsonschema<5.0.0,>=4.18.0->prefect) (0.27.1)\n",
            "Requirement already satisfied: importlib-metadata<8.8.0,>=6.0 in /usr/local/lib/python3.12/dist-packages (from opentelemetry-api<2.0.0,>=1.27.0->prefect) (8.7.0)\n",
            "Requirement already satisfied: tzdata>=2020.1 in /usr/local/lib/python3.12/dist-packages (from pendulum<4,>=3.0.0->prefect) (2025.2)\n",
            "Requirement already satisfied: annotated-types>=0.6.0 in /usr/local/lib/python3.12/dist-packages (from pydantic!=2.11.0,!=2.11.1,!=2.11.2,!=2.11.3,!=2.11.4,<3.0.0,>=2.10.1->prefect) (0.7.0)\n",
            "Requirement already satisfied: typing-inspection>=0.4.0 in /usr/local/lib/python3.12/dist-packages (from pydantic!=2.11.0,!=2.11.1,!=2.11.2,!=2.11.3,!=2.11.4,<3.0.0,>=2.10.1->prefect) (0.4.1)\n",
            "Requirement already satisfied: python-dotenv>=0.21.0 in /usr/local/lib/python3.12/dist-packages (from pydantic-settings!=2.9.0,<3.0.0,>2.2.1->prefect) (1.1.1)\n",
            "Requirement already satisfied: six>=1.5 in /usr/local/lib/python3.12/dist-packages (from python-dateutil<3.0.0,>=2.8.2->prefect) (1.17.0)\n",
            "Requirement already satisfied: text-unidecode>=1.3 in /usr/local/lib/python3.12/dist-packages (from python-slugify<9.0,>=5.0->prefect) (1.3)\n",
            "Requirement already satisfied: markdown-it-py>=2.2.0 in /usr/local/lib/python3.12/dist-packages (from rich<15.0,>=11.0->prefect) (4.0.0)\n",
            "Requirement already satisfied: pygments<3.0.0,>=2.13.0 in /usr/local/lib/python3.12/dist-packages (from rich<15.0,>=11.0->prefect) (2.19.2)\n",
            "Collecting ruamel.yaml.clib>=0.2.7 (from ruamel-yaml>=0.17.0->prefect)\n",
            "  Downloading ruamel.yaml.clib-0.2.12-cp312-cp312-manylinux_2_17_x86_64.manylinux2014_x86_64.whl.metadata (2.7 kB)\n",
            "Requirement already satisfied: greenlet>=1 in /usr/local/lib/python3.12/dist-packages (from sqlalchemy<3.0.0,>=2.0->sqlalchemy[asyncio]<3.0.0,>=2.0->prefect) (3.2.4)\n",
            "Requirement already satisfied: shellingham>=1.3.0 in /usr/local/lib/python3.12/dist-packages (from typer!=0.12.2,<0.18.0,>=0.12.0->prefect) (1.5.4)\n",
            "Requirement already satisfied: pycparser in /usr/local/lib/python3.12/dist-packages (from cffi>=1.12->cryptography>=36.0.1->prefect) (2.22)\n",
            "Requirement already satisfied: hyperframe<7,>=6.1 in /usr/local/lib/python3.12/dist-packages (from h2<5,>=3->httpx[http2]!=0.23.2,>=0.23->prefect) (6.1.0)\n",
            "Requirement already satisfied: hpack<5,>=4.1 in /usr/local/lib/python3.12/dist-packages (from h2<5,>=3->httpx[http2]!=0.23.2,>=0.23->prefect) (4.1.0)\n",
            "Requirement already satisfied: zipp>=3.20 in /usr/local/lib/python3.12/dist-packages (from importlib-metadata<8.8.0,>=6.0->opentelemetry-api<2.0.0,>=1.27.0->prefect) (3.23.0)\n",
            "Requirement already satisfied: mdurl~=0.1 in /usr/local/lib/python3.12/dist-packages (from markdown-it-py>=2.2.0->rich<15.0,>=11.0->prefect) (0.1.2)\n",
            "Requirement already satisfied: charset_normalizer<4,>=2 in /usr/local/lib/python3.12/dist-packages (from requests->apprise<2.0.0,>=1.1.0->prefect) (3.4.3)\n",
            "Requirement already satisfied: oauthlib>=3.0.0 in /usr/local/lib/python3.12/dist-packages (from requests-oauthlib->apprise<2.0.0,>=1.1.0->prefect) (3.3.1)\n",
            "Downloading prefect-3.4.17-py3-none-any.whl (6.1 MB)\n",
            "\u001b[2K   \u001b[90m━━━━━━━━━━━━━━━━━━━━━━━━━━━━━━━━━━━━━━━━\u001b[0m \u001b[32m6.1/6.1 MB\u001b[0m \u001b[31m53.8 MB/s\u001b[0m eta \u001b[36m0:00:00\u001b[0m\n",
            "\u001b[?25hDownloading aiosqlite-0.21.0-py3-none-any.whl (15 kB)\n",
            "Downloading apprise-1.9.4-py3-none-any.whl (1.4 MB)\n",
            "\u001b[2K   \u001b[90m━━━━━━━━━━━━━━━━━━━━━━━━━━━━━━━━━━━━━━━━\u001b[0m \u001b[32m1.4/1.4 MB\u001b[0m \u001b[31m53.9 MB/s\u001b[0m eta \u001b[36m0:00:00\u001b[0m\n",
            "\u001b[?25hDownloading asgi_lifespan-2.1.0-py3-none-any.whl (10 kB)\n",
            "Downloading asyncpg-0.30.0-cp312-cp312-manylinux_2_17_x86_64.manylinux2014_x86_64.whl (3.6 MB)\n",
            "\u001b[2K   \u001b[90m━━━━━━━━━━━━━━━━━━━━━━━━━━━━━━━━━━━━━━━━\u001b[0m \u001b[32m3.6/3.6 MB\u001b[0m \u001b[31m73.6 MB/s\u001b[0m eta \u001b[36m0:00:00\u001b[0m\n",
            "\u001b[?25hDownloading coolname-2.2.0-py2.py3-none-any.whl (37 kB)\n",
            "Downloading dateparser-1.2.2-py3-none-any.whl (315 kB)\n",
            "\u001b[2K   \u001b[90m━━━━━━━━━━━━━━━━━━━━━━━━━━━━━━━━━━━━━━━━\u001b[0m \u001b[32m315.5/315.5 kB\u001b[0m \u001b[31m15.4 MB/s\u001b[0m eta \u001b[36m0:00:00\u001b[0m\n",
            "\u001b[?25hDownloading docker-7.1.0-py3-none-any.whl (147 kB)\n",
            "\u001b[2K   \u001b[90m━━━━━━━━━━━━━━━━━━━━━━━━━━━━━━━━━━━━━━━━\u001b[0m \u001b[32m147.8/147.8 kB\u001b[0m \u001b[31m10.6 MB/s\u001b[0m eta \u001b[36m0:00:00\u001b[0m\n",
            "\u001b[?25hDownloading exceptiongroup-1.3.0-py3-none-any.whl (16 kB)\n",
            "Downloading griffe-1.14.0-py3-none-any.whl (144 kB)\n",
            "\u001b[2K   \u001b[90m━━━━━━━━━━━━━━━━━━━━━━━━━━━━━━━━━━━━━━━━\u001b[0m \u001b[32m144.4/144.4 kB\u001b[0m \u001b[31m10.0 MB/s\u001b[0m eta \u001b[36m0:00:00\u001b[0m\n",
            "\u001b[?25hDownloading jinja2_humanize_extension-0.4.0-py3-none-any.whl (4.8 kB)\n",
            "Downloading pathspec-0.12.1-py3-none-any.whl (31 kB)\n",
            "Downloading pendulum-3.1.0-cp312-cp312-manylinux_2_17_x86_64.manylinux2014_x86_64.whl (351 kB)\n",
            "\u001b[2K   \u001b[90m━━━━━━━━━━━━━━━━━━━━━━━━━━━━━━━━━━━━━━━━\u001b[0m \u001b[32m351.2/351.2 kB\u001b[0m \u001b[31m19.3 MB/s\u001b[0m eta \u001b[36m0:00:00\u001b[0m\n",
            "\u001b[?25hDownloading pydantic_extra_types-2.10.5-py3-none-any.whl (38 kB)\n",
            "Downloading python_socks-2.7.2-py3-none-any.whl (55 kB)\n",
            "\u001b[2K   \u001b[90m━━━━━━━━━━━━━━━━━━━━━━━━━━━━━━━━━━━━━━━━\u001b[0m \u001b[32m55.0/55.0 kB\u001b[0m \u001b[31m3.8 MB/s\u001b[0m eta \u001b[36m0:00:00\u001b[0m\n",
            "\u001b[?25hDownloading readchar-4.2.1-py3-none-any.whl (9.3 kB)\n",
            "Downloading ruamel.yaml-0.18.15-py3-none-any.whl (119 kB)\n",
            "\u001b[2K   \u001b[90m━━━━━━━━━━━━━━━━━━━━━━━━━━━━━━━━━━━━━━━━\u001b[0m \u001b[32m119.7/119.7 kB\u001b[0m \u001b[31m8.3 MB/s\u001b[0m eta \u001b[36m0:00:00\u001b[0m\n",
            "\u001b[?25hDownloading semver-3.0.4-py3-none-any.whl (17 kB)\n",
            "Downloading uv-0.8.17-py3-none-manylinux_2_17_x86_64.manylinux2014_x86_64.whl (21.1 MB)\n",
            "\u001b[2K   \u001b[90m━━━━━━━━━━━━━━━━━━━━━━━━━━━━━━━━━━━━━━━━\u001b[0m \u001b[32m21.1/21.1 MB\u001b[0m \u001b[31m55.3 MB/s\u001b[0m eta \u001b[36m0:00:00\u001b[0m\n",
            "\u001b[?25hDownloading colorama-0.4.6-py2.py3-none-any.whl (25 kB)\n",
            "Downloading ruamel.yaml.clib-0.2.12-cp312-cp312-manylinux_2_17_x86_64.manylinux2014_x86_64.whl (754 kB)\n",
            "\u001b[2K   \u001b[90m━━━━━━━━━━━━━━━━━━━━━━━━━━━━━━━━━━━━━━━━\u001b[0m \u001b[32m754.1/754.1 kB\u001b[0m \u001b[31m34.1 MB/s\u001b[0m eta \u001b[36m0:00:00\u001b[0m\n",
            "\u001b[?25hInstalling collected packages: coolname, uv, semver, ruamel.yaml.clib, readchar, python-socks, pathspec, exceptiongroup, colorama, asyncpg, asgi-lifespan, aiosqlite, ruamel-yaml, pendulum, jinja2-humanize-extension, griffe, docker, dateparser, pydantic-extra-types, apprise, prefect\n",
            "Successfully installed aiosqlite-0.21.0 apprise-1.9.4 asgi-lifespan-2.1.0 asyncpg-0.30.0 colorama-0.4.6 coolname-2.2.0 dateparser-1.2.2 docker-7.1.0 exceptiongroup-1.3.0 griffe-1.14.0 jinja2-humanize-extension-0.4.0 pathspec-0.12.1 pendulum-3.1.0 prefect-3.4.17 pydantic-extra-types-2.10.5 python-socks-2.7.2 readchar-4.2.1 ruamel-yaml-0.18.15 ruamel.yaml.clib-0.2.12 semver-3.0.4 uv-0.8.17\n"
          ]
        },
        {
          "output_type": "display_data",
          "data": {
            "application/vnd.colab-display-data+json": {
              "pip_warning": {
                "packages": [
                  "colorama"
                ]
              },
              "id": "eb4d5f9928d148dda6ac11d7563e3492"
            }
          },
          "metadata": {}
        }
      ]
    },
    {
      "cell_type": "code",
      "source": [
        "from prefect import flow, task\n",
        "\n",
        "@task\n",
        "def add(x, y):\n",
        "    return x + y\n",
        "\n",
        "@flow\n",
        "def math_flow():\n",
        "    print(add(1, 2))\n",
        "\n",
        "math_flow()"
      ],
      "metadata": {
        "id": "_fHgdcRisws8"
      },
      "execution_count": 2,
      "outputs": []
    },
    {
      "cell_type": "markdown",
      "source": [
        "# 5. PyO3 / Maturin (Python Meets Rust, at Scale)"
      ],
      "metadata": {
        "id": "0W_9bE6Ds4Z5"
      }
    },
    {
      "cell_type": "code",
      "source": [
        "use pyo3::prelude::*;\n",
        "\n",
        "#[pyfunction]\n",
        "fn fast_add(a: i64, b: i64) -> i64 {\n",
        "    a + b\n",
        "}\n",
        "\n",
        "#[pymodule]\n",
        "fn rustmath(py: Python, m: &PyModule) -> PyResult<()> {\n",
        "    m.add_function(wrap_pyfunction!(fast_add, m)?)?;\n",
        "    Ok(())\n",
        "}"
      ],
      "metadata": {
        "id": "A8DTqcbWs43F"
      },
      "execution_count": 3,
      "outputs": []
    },
    {
      "cell_type": "markdown",
      "source": [
        "# 6. Orjson (JSON That Doesn’t Sleep on the Job)\n"
      ],
      "metadata": {
        "id": "IBciXjjUtBJH"
      }
    },
    {
      "cell_type": "code",
      "source": [
        "pip install orjson"
      ],
      "metadata": {
        "colab": {
          "base_uri": "https://localhost:8080/"
        },
        "id": "wxk2Hc3RtHcy",
        "outputId": "8ecb796f-280a-4a34-8909-940075020a45"
      },
      "execution_count": 4,
      "outputs": [
        {
          "output_type": "stream",
          "name": "stdout",
          "text": [
            "Requirement already satisfied: orjson in /usr/local/lib/python3.12/dist-packages (3.11.3)\n"
          ]
        }
      ]
    },
    {
      "cell_type": "code",
      "source": [
        "import orjson\n",
        "\n",
        "data = {\"name\": \"Python\", \"scalable\": True}\n",
        "print(orjson.dumps(data))"
      ],
      "metadata": {
        "colab": {
          "base_uri": "https://localhost:8080/"
        },
        "id": "Ta8j13cWtI8j",
        "outputId": "adb6de51-f38e-45ec-c333-4ba5d36c2fa0"
      },
      "execution_count": 5,
      "outputs": [
        {
          "output_type": "stream",
          "name": "stdout",
          "text": [
            "b'{\"name\":\"Python\",\"scalable\":true}'\n"
          ]
        }
      ]
    },
    {
      "cell_type": "markdown",
      "source": [
        "# 7. SQLModel (Databases Without ORM Headaches)"
      ],
      "metadata": {
        "id": "LM9wsjDvtPpU"
      }
    },
    {
      "cell_type": "code",
      "source": [
        "!pip install sqlmodel"
      ],
      "metadata": {
        "colab": {
          "base_uri": "https://localhost:8080/"
        },
        "id": "r_Ud6ROFtVNq",
        "outputId": "638b298e-eda1-434b-fc91-e5f67f4e6361"
      },
      "execution_count": 7,
      "outputs": [
        {
          "output_type": "stream",
          "name": "stdout",
          "text": [
            "Collecting sqlmodel\n",
            "  Downloading sqlmodel-0.0.24-py3-none-any.whl.metadata (10 kB)\n",
            "Requirement already satisfied: SQLAlchemy<2.1.0,>=2.0.14 in /usr/local/lib/python3.12/dist-packages (from sqlmodel) (2.0.43)\n",
            "Requirement already satisfied: pydantic<3.0.0,>=1.10.13 in /usr/local/lib/python3.12/dist-packages (from sqlmodel) (2.11.7)\n",
            "Requirement already satisfied: annotated-types>=0.6.0 in /usr/local/lib/python3.12/dist-packages (from pydantic<3.0.0,>=1.10.13->sqlmodel) (0.7.0)\n",
            "Requirement already satisfied: pydantic-core==2.33.2 in /usr/local/lib/python3.12/dist-packages (from pydantic<3.0.0,>=1.10.13->sqlmodel) (2.33.2)\n",
            "Requirement already satisfied: typing-extensions>=4.12.2 in /usr/local/lib/python3.12/dist-packages (from pydantic<3.0.0,>=1.10.13->sqlmodel) (4.15.0)\n",
            "Requirement already satisfied: typing-inspection>=0.4.0 in /usr/local/lib/python3.12/dist-packages (from pydantic<3.0.0,>=1.10.13->sqlmodel) (0.4.1)\n",
            "Requirement already satisfied: greenlet>=1 in /usr/local/lib/python3.12/dist-packages (from SQLAlchemy<2.1.0,>=2.0.14->sqlmodel) (3.2.4)\n",
            "Downloading sqlmodel-0.0.24-py3-none-any.whl (28 kB)\n",
            "Installing collected packages: sqlmodel\n",
            "Successfully installed sqlmodel-0.0.24\n"
          ]
        }
      ]
    },
    {
      "cell_type": "code",
      "source": [
        "from sqlmodel import SQLModel, Field, create_engine\n",
        "\n",
        "class Hero(SQLModel, table=True):\n",
        "    id: int | None = Field(default=None, primary_key=True)\n",
        "    name: str\n",
        "    age: int\n",
        "\n",
        "engine = create_engine(\"sqlite:///heroes.db\")\n",
        "SQLModel.metadata.create_all(engine)"
      ],
      "metadata": {
        "id": "tOpHInLUtJd6"
      },
      "execution_count": 8,
      "outputs": []
    },
    {
      "cell_type": "markdown",
      "source": [
        "# 8. Dask (Parallel Computing for Data Nerds)"
      ],
      "metadata": {
        "id": "kI67rbYctS95"
      }
    },
    {
      "cell_type": "code",
      "source": [
        "import dask.dataframe as dd\n",
        "\n",
        "df = dd.read_csv(\"hugefile.csv\")\n",
        "result = df.groupby(\"category\").value.mean().compute()\n",
        "print(result)"
      ],
      "metadata": {
        "id": "SdD7wkIqtRot"
      },
      "execution_count": 9,
      "outputs": []
    },
    {
      "cell_type": "markdown",
      "source": [
        "# 9. PySpark (with Arrow) (Big Data Without Tears)"
      ],
      "metadata": {
        "id": "xvc6uvXJtdqk"
      }
    },
    {
      "cell_type": "code",
      "source": [
        "from pyspark.sql import SparkSession\n",
        "\n",
        "spark = SparkSession.builder.appName(\"scalable\").getOrCreate()\n",
        "df = spark.read.csv(\"bigfile.csv\", header=True, inferSchema=True)\n",
        "df.groupBy(\"region\").sum(\"sales\").show()"
      ],
      "metadata": {
        "id": "qSH_Un-htcB7"
      },
      "execution_count": 10,
      "outputs": []
    },
    {
      "cell_type": "markdown",
      "source": [
        "# 10. Celery (Distributed Task Queues That Just Work)"
      ],
      "metadata": {
        "id": "XhsmVEAAthbR"
      }
    },
    {
      "cell_type": "code",
      "source": [
        "from celery import Celery\n",
        "\n",
        "app = Celery('tasks', broker='redis://localhost:6379/0')\n",
        "\n",
        "@app.task\n",
        "def add(x, y):\n",
        "    return x + y"
      ],
      "metadata": {
        "id": "gAxZM3wPtf4O"
      },
      "execution_count": 11,
      "outputs": []
    }
  ]
}