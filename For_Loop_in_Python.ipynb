{
  "nbformat": 4,
  "nbformat_minor": 0,
  "metadata": {
    "colab": {
      "name": "For Loop in Python.ipynb",
      "provenance": [],
      "authorship_tag": "ABX9TyOqiq/cPxdClnEOCL9wBA5T"
    },
    "kernelspec": {
      "name": "python3",
      "display_name": "Python 3"
    }
  },
  "cells": [
    {
      "cell_type": "markdown",
      "metadata": {
        "id": "LlkYC1HG584x"
      },
      "source": [
        "[Reference](https://geomario1984.medium.com/python-pandas-for-loop-d52a9a547329)"
      ]
    },
    {
      "cell_type": "code",
      "metadata": {
        "id": "Eds_GlBg59EU"
      },
      "source": [
        "import pandas as pd\n",
        "\n",
        "data = {'foo':['one','one','one','two','two','two'],\n",
        "        'bar':['A','B','C','A','B','C'],\n",
        "        'baz':[1,2,3,4,5,6],\n",
        "        'zoo':['x','y','z','q','w','t']}"
      ],
      "execution_count": 1,
      "outputs": []
    },
    {
      "cell_type": "code",
      "metadata": {
        "colab": {
          "base_uri": "https://localhost:8080/"
        },
        "id": "DosS-6CI5xwm",
        "outputId": "a261b981-796f-4f49-b67a-2dc1c84d4387"
      },
      "source": [
        "df = pd.DataFrame (data, columns = ['foo','bar','baz','zoo'])\n",
        "print(df)"
      ],
      "execution_count": 2,
      "outputs": [
        {
          "output_type": "stream",
          "text": [
            "   foo bar  baz zoo\n",
            "0  one   A    1   x\n",
            "1  one   B    2   y\n",
            "2  one   C    3   z\n",
            "3  two   A    4   q\n",
            "4  two   B    5   w\n",
            "5  two   C    6   t\n"
          ],
          "name": "stdout"
        }
      ]
    },
    {
      "cell_type": "code",
      "metadata": {
        "colab": {
          "base_uri": "https://localhost:8080/"
        },
        "id": "yzyO6OK86nZF",
        "outputId": "4cf5fc79-0b8f-4424-b11f-45768e0c0ca6"
      },
      "source": [
        "for index, row in df.iterrows():\n",
        "    print(index, row)"
      ],
      "execution_count": 3,
      "outputs": [
        {
          "output_type": "stream",
          "text": [
            "0 foo    one\n",
            "bar      A\n",
            "baz      1\n",
            "zoo      x\n",
            "Name: 0, dtype: object\n",
            "1 foo    one\n",
            "bar      B\n",
            "baz      2\n",
            "zoo      y\n",
            "Name: 1, dtype: object\n",
            "2 foo    one\n",
            "bar      C\n",
            "baz      3\n",
            "zoo      z\n",
            "Name: 2, dtype: object\n",
            "3 foo    two\n",
            "bar      A\n",
            "baz      4\n",
            "zoo      q\n",
            "Name: 3, dtype: object\n",
            "4 foo    two\n",
            "bar      B\n",
            "baz      5\n",
            "zoo      w\n",
            "Name: 4, dtype: object\n",
            "5 foo    two\n",
            "bar      C\n",
            "baz      6\n",
            "zoo      t\n",
            "Name: 5, dtype: object\n"
          ],
          "name": "stdout"
        }
      ]
    },
    {
      "cell_type": "code",
      "metadata": {
        "colab": {
          "base_uri": "https://localhost:8080/"
        },
        "id": "P6SgVunx6q_0",
        "outputId": "300bd00c-c407-4392-fc67-2348d592b0bb"
      },
      "source": [
        "for index, row in df.iterrows():\n",
        "    print(row[\"foo\"])"
      ],
      "execution_count": 4,
      "outputs": [
        {
          "output_type": "stream",
          "text": [
            "one\n",
            "one\n",
            "one\n",
            "two\n",
            "two\n",
            "two\n"
          ],
          "name": "stdout"
        }
      ]
    }
  ]
}