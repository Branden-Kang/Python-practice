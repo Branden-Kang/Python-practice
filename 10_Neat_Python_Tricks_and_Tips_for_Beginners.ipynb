{
  "nbformat": 4,
  "nbformat_minor": 0,
  "metadata": {
    "colab": {
      "name": "10 Neat Python Tricks and Tips for Beginners.ipynb",
      "provenance": [],
      "authorship_tag": "ABX9TyOe/AXooOcxDHWI1TbqiOZu"
    },
    "kernelspec": {
      "name": "python3",
      "display_name": "Python 3"
    }
  },
  "cells": [
    {
      "cell_type": "markdown",
      "metadata": {
        "id": "h8W28a_HA-wP"
      },
      "source": [
        "[Reference](https://towardsdatascience.com/10-neat-python-tricks-and-tips-beginners-should-know-805d92649592)"
      ]
    },
    {
      "cell_type": "markdown",
      "metadata": {
        "id": "QDbsiEdaBPqB"
      },
      "source": [
        "# 1. String input"
      ]
    },
    {
      "cell_type": "code",
      "metadata": {
        "id": "z06u_Q2UAxuK"
      },
      "source": [
        "return = map(lambda x:int(x) ,raw_input().split())\n",
        "return"
      ],
      "execution_count": 5,
      "outputs": []
    },
    {
      "cell_type": "markdown",
      "metadata": {
        "id": "pYEytT9QBjML"
      },
      "source": [
        "# 2. Checking anagrams"
      ]
    },
    {
      "cell_type": "code",
      "metadata": {
        "id": "cR2yxLw6BSXO"
      },
      "source": [
        "def is_anagram(word1, word2):\n",
        "   \"\"\"Checking whether the words are anagrams.\n",
        "   word1 : string \n",
        "   word2 : string \n",
        "   returns : boolean\n",
        "   \"\"\""
      ],
      "execution_count": 6,
      "outputs": []
    },
    {
      "cell_type": "code",
      "metadata": {
        "id": "n1EusTx-BY6-"
      },
      "source": [
        "from collections import Counter\n",
        "def is_anagram(str1, str2):\n",
        "   return Counter(str1)== Counter(str2)"
      ],
      "execution_count": 7,
      "outputs": []
    },
    {
      "cell_type": "code",
      "metadata": {
        "colab": {
          "base_uri": "https://localhost:8080/"
        },
        "id": "LuFISy7lBo93",
        "outputId": "c5d646e4-7b99-40da-d2b5-1251d5995936"
      },
      "source": [
        "is_anagram('abcd','dbca')"
      ],
      "execution_count": 8,
      "outputs": [
        {
          "output_type": "execute_result",
          "data": {
            "text/plain": [
              "True"
            ]
          },
          "metadata": {
            "tags": []
          },
          "execution_count": 8
        }
      ]
    },
    {
      "cell_type": "code",
      "metadata": {
        "colab": {
          "base_uri": "https://localhost:8080/"
        },
        "id": "pciRa7t_BqeJ",
        "outputId": "325c6beb-ddbf-4bbd-d491-7bbfd913e6bd"
      },
      "source": [
        "is_anagram('abcd','dbaa')"
      ],
      "execution_count": 10,
      "outputs": [
        {
          "output_type": "execute_result",
          "data": {
            "text/plain": [
              "False"
            ]
          },
          "metadata": {
            "tags": []
          },
          "execution_count": 10
        }
      ]
    },
    {
      "cell_type": "markdown",
      "metadata": {
        "id": "9b7dXnXcB0M1"
      },
      "source": [
        "# 3. Convert it to a single list without using any loops"
      ]
    },
    {
      "cell_type": "code",
      "metadata": {
        "colab": {
          "base_uri": "https://localhost:8080/"
        },
        "id": "KfFgz8UgB9e1",
        "outputId": "2a4487eb-4920-4c15-94a0-a2d50a090e30"
      },
      "source": [
        "import itertools\n",
        "a = [[1,2],[3,4],[5,6]]\n",
        "list(itertools.chain.from_iterable(a))"
      ],
      "execution_count": 12,
      "outputs": [
        {
          "output_type": "execute_result",
          "data": {
            "text/plain": [
              "[1, 2, 3, 4, 5, 6]"
            ]
          },
          "metadata": {
            "tags": []
          },
          "execution_count": 12
        }
      ]
    },
    {
      "cell_type": "markdown",
      "metadata": {
        "id": "1zCdGKciB8Wq"
      },
      "source": [
        "# 4. Print “BrandenBrandenBranden SmartSmartSmart” without using loops:"
      ]
    },
    {
      "cell_type": "code",
      "metadata": {
        "colab": {
          "base_uri": "https://localhost:8080/"
        },
        "id": "K2g8MEMpBt0u",
        "outputId": "1faeb688-3a08-4d7f-eb69-5e763cc9dbd7"
      },
      "source": [
        "print((\"Branden\"*3)+ ' ' + (\"Smart\"*3))"
      ],
      "execution_count": 17,
      "outputs": [
        {
          "output_type": "stream",
          "text": [
            "BrandenBrandenBranden SmartSmartSmart\n"
          ],
          "name": "stdout"
        }
      ]
    },
    {
      "cell_type": "markdown",
      "metadata": {
        "id": "JDIEksMwCzIW"
      },
      "source": [
        "# 5. Swap two numbers"
      ]
    },
    {
      "cell_type": "code",
      "metadata": {
        "colab": {
          "base_uri": "https://localhost:8080/"
        },
        "id": "CdSVRGJfClS6",
        "outputId": "b72229c0-8219-495c-e7c8-6a525665e70b"
      },
      "source": [
        "a = 4\n",
        "b = 5\n",
        "b,a = a,b\n",
        "print(a)\n",
        "print(b)"
      ],
      "execution_count": 18,
      "outputs": [
        {
          "output_type": "stream",
          "text": [
            "5\n",
            "4\n"
          ],
          "name": "stdout"
        }
      ]
    },
    {
      "cell_type": "markdown",
      "metadata": {
        "id": "L0BQTRrVDRLd"
      },
      "source": [
        "# 6. Combine two lists"
      ]
    },
    {
      "cell_type": "code",
      "metadata": {
        "id": "qIyQ_aT7C4bQ"
      },
      "source": [
        "list1 = [1,2,3,4]\n",
        "list2 = ['a','b','c','d']"
      ],
      "execution_count": 19,
      "outputs": []
    },
    {
      "cell_type": "code",
      "metadata": {
        "colab": {
          "base_uri": "https://localhost:8080/"
        },
        "id": "Pr33292aDLQT",
        "outputId": "0b883cb7-9133-4158-973a-e3ae88af8364"
      },
      "source": [
        "for x, y in zip(list1,list2):\n",
        "    print(x,y)"
      ],
      "execution_count": 20,
      "outputs": [
        {
          "output_type": "stream",
          "text": [
            "1 a\n",
            "2 b\n",
            "3 c\n",
            "4 d\n"
          ],
          "name": "stdout"
        }
      ]
    },
    {
      "cell_type": "markdown",
      "metadata": {
        "id": "vrc1rysxDQZp"
      },
      "source": [
        "# 7.Combine all the elements in the list"
      ]
    },
    {
      "cell_type": "code",
      "metadata": {
        "colab": {
          "base_uri": "https://localhost:8080/"
        },
        "id": "4Q2j-nmoDOqg",
        "outputId": "eafb343a-077a-4cdc-81bb-a032808f6ae8"
      },
      "source": [
        "a = [\"My\",\"Name\",\"is\",\"Branden\"]\n",
        "print(\" \".join(a))"
      ],
      "execution_count": 21,
      "outputs": [
        {
          "output_type": "stream",
          "text": [
            "My Name is Branden\n"
          ],
          "name": "stdout"
        }
      ]
    },
    {
      "cell_type": "markdown",
      "metadata": {
        "id": "zrXeyK0BDkST"
      },
      "source": [
        "# 8. Store all three values of the list in 3 new variables"
      ]
    },
    {
      "cell_type": "code",
      "metadata": {
        "colab": {
          "base_uri": "https://localhost:8080/"
        },
        "id": "DzH_fhR6Dh8D",
        "outputId": "fd61c24f-e324-4d32-dc4d-28c3d04bce3e"
      },
      "source": [
        "a = [1, 2, 3]\n",
        "x, y, z = a\n",
        "print(x)\n",
        "print(y)\n",
        "print(z)"
      ],
      "execution_count": 22,
      "outputs": [
        {
          "output_type": "stream",
          "text": [
            "1\n",
            "2\n",
            "3\n"
          ],
          "name": "stdout"
        }
      ]
    },
    {
      "cell_type": "markdown",
      "metadata": {
        "id": "t9bsCTZvD0an"
      },
      "source": [
        "# 9. Transposing a Matrix"
      ]
    },
    {
      "cell_type": "code",
      "metadata": {
        "colab": {
          "base_uri": "https://localhost:8080/"
        },
        "id": "3p7423_KDzTM",
        "outputId": "8562d6e9-30c8-463d-df87-77c21f2747e3"
      },
      "source": [
        "matrix = [[1, 2, 3], [4, 5, 6]]\n",
        "list(zip(*matrix))"
      ],
      "execution_count": 24,
      "outputs": [
        {
          "output_type": "execute_result",
          "data": {
            "text/plain": [
              "[(1, 4), (2, 5), (3, 6)]"
            ]
          },
          "metadata": {
            "tags": []
          },
          "execution_count": 24
        }
      ]
    },
    {
      "cell_type": "markdown",
      "metadata": {
        "id": "ZDJ3oTOtD7_i"
      },
      "source": [
        "# 10. Reversing a string in Python:"
      ]
    },
    {
      "cell_type": "code",
      "metadata": {
        "colab": {
          "base_uri": "https://localhost:8080/"
        },
        "id": "3eH5sIM9D5SD",
        "outputId": "1e19de59-9c4f-46ad-ed1c-4a646d325262"
      },
      "source": [
        "a = \"AdvancePython\"\n",
        "print(\"Reverse is\", a[::-1])"
      ],
      "execution_count": 25,
      "outputs": [
        {
          "output_type": "stream",
          "text": [
            "Reverse is nohtyPecnavdA\n"
          ],
          "name": "stdout"
        }
      ]
    }
  ]
}