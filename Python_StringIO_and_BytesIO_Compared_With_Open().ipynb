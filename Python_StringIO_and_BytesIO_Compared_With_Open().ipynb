{
  "nbformat": 4,
  "nbformat_minor": 0,
  "metadata": {
    "colab": {
      "name": "Python StringIO and BytesIO Compared With Open().ipynb",
      "provenance": [],
      "authorship_tag": "ABX9TyPcmY/GL7JWrmx9Casssy2R"
    },
    "kernelspec": {
      "name": "python3",
      "display_name": "Python 3"
    },
    "language_info": {
      "name": "python"
    }
  },
  "cells": [
    {
      "cell_type": "markdown",
      "metadata": {
        "id": "TXf-LdGAEak-"
      },
      "source": [
        "[Reference](https://medium.com/swlh/python-stringio-and-bytesio-compared-with-open-c0e99b9def31)"
      ]
    },
    {
      "cell_type": "code",
      "metadata": {
        "colab": {
          "base_uri": "https://localhost:8080/"
        },
        "id": "nqACWkrLEZTl",
        "outputId": "2a8bf749-5bfd-41f2-e44b-978251aa5a81"
      },
      "source": [
        "import io \n",
        "s = io.StringIO()\n",
        "print(s.write(\"Hello World/n\"))\n",
        "# ------->Output: 13\n",
        "\n",
        "# adding to the memory buffer using print statement\n",
        "print(\"adding using the print\",file = s)\n",
        "\n",
        "\n",
        "# get all of the data written in the file\n",
        "print(s.getvalue())\n",
        "# ------>Output: Hello World/nadding using the print\n",
        "\n",
        "# wrapping a file interface around a string\n",
        "s = io.StringIO(\"Hello\\nWorld\\n\")\n",
        "print(s.readlines())\n",
        "# ------>Output: ['Hello\\n', 'World\\n']\n",
        "\n",
        "# StringIO class should be only used for strings\n",
        "\n",
        "\n",
        "\n",
        "\n",
        "# if we are dealing with bytes we should use BytesIO\n",
        "s = io.BytesIO()\n",
        "s.write(b\"This is a binary string\")\n",
        "print(s.getbuffer())\n",
        "print(s.getvalue())"
      ],
      "execution_count": 1,
      "outputs": [
        {
          "output_type": "stream",
          "text": [
            "13\n",
            "Hello World/nadding using the print\n",
            "\n",
            "['Hello\\n', 'World\\n']\n",
            "<memory at 0x7f55c709a940>\n",
            "b'This is a binary string'\n"
          ],
          "name": "stdout"
        }
      ]
    },
    {
      "cell_type": "code",
      "metadata": {
        "id": "jZpJ36cMEehq"
      },
      "source": [
        "with open(\"test.bin\",\"wb\") as f:\n",
        "    f.write(b\"Hello world\")\n",
        "    f.write(b\"Hello world\")\n",
        "    f.write(b\"Hello world\")\n",
        "    f.write(b\"Hello world\")\n",
        "    f.write(b\"Hello world\")"
      ],
      "execution_count": 2,
      "outputs": []
    },
    {
      "cell_type": "code",
      "metadata": {
        "id": "_GgbQOvAEhoV"
      },
      "source": [
        "with io.BytesIO() as f:\n",
        "    f.write(b\"Hello world\")\n",
        "    f.write(b\"Hello world\")\n",
        "    f.write(b\"Hello world\")\n",
        "    f.write(b\"Hello world\")\n",
        "    f.write(b\"Hello world\")"
      ],
      "execution_count": 3,
      "outputs": []
    },
    {
      "cell_type": "code",
      "metadata": {
        "id": "f-JVeQRAEi3J"
      },
      "source": [
        "space = b\"\"\n",
        "space += b\"Hello world\"\n",
        "space += b\"Hello world\"\n",
        "space += b\"Hello world\"\n",
        "space += b\"Hello world\"\n",
        "space += b\"Hello world\""
      ],
      "execution_count": 4,
      "outputs": []
    },
    {
      "cell_type": "code",
      "metadata": {
        "colab": {
          "base_uri": "https://localhost:8080/"
        },
        "id": "kD1fYZSWEkOO",
        "outputId": "a6527335-ecc5-470c-c507-1e34dd36249e"
      },
      "source": [
        "# then why not simply use the above mentioned.\n",
        "\n",
        "# optimization and performance\n",
        "\n",
        "import io\n",
        "import time\n",
        "\n",
        "start = time.time()\n",
        "buffer = b\"\"\n",
        "for i in range(0,90000):\n",
        "    buffer += b\"Hello World\"\n",
        "end = time.time()\n",
        "total = end - start\n",
        "print(total)\n",
        "\n",
        "\n",
        "start = time.time()\n",
        "buffer = io.BytesIO()\n",
        "for i in range(0,90000):\n",
        "    buffer.write(b\"Hello World\")\n",
        "end = time.time()\n",
        "total = end - start\n",
        "print(total)"
      ],
      "execution_count": 5,
      "outputs": [
        {
          "output_type": "stream",
          "text": [
            "6.32073974609375\n",
            "0.014832735061645508\n"
          ],
          "name": "stdout"
        }
      ]
    },
    {
      "cell_type": "code",
      "metadata": {
        "colab": {
          "base_uri": "https://localhost:8080/"
        },
        "id": "oMkSOg54EmlJ",
        "outputId": "48b76f3e-ed3e-4bc3-971c-2493184b551a"
      },
      "source": [
        "import os\n",
        "def read_into_buffer(filename):\n",
        "    buffer = bytearray(os.path.getsize(filename))\n",
        "    with open(filename,'rb') as f:\n",
        "        f.readinto(buffer)\n",
        "    return buffer\n",
        "\n",
        "\n",
        "with open(\"example.bin\",'wb') as f:\n",
        "    f.write(b\"This is the text written into a example binary file\")\n",
        "\n",
        "\n",
        "buf = read_into_buffer(\"example.bin\")\n",
        "print(buf)\n",
        "# Output: bytearray(b'This is the text written into a example binary file')\n",
        "\n",
        "\n",
        "buf = buf + b\"Now I am appending something to the binary file\"\n",
        "\n",
        "with open(\"new_example.bin\",\"wb\") as f:\n",
        "    f.write(buf)"
      ],
      "execution_count": 6,
      "outputs": [
        {
          "output_type": "stream",
          "text": [
            "bytearray(b'This is the text written into a example binary file')\n"
          ],
          "name": "stdout"
        }
      ]
    }
  ]
}