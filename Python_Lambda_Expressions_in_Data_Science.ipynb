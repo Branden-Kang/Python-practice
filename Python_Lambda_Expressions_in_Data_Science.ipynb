{
  "nbformat": 4,
  "nbformat_minor": 0,
  "metadata": {
    "colab": {
      "name": "Python Lambda Expressions in Data Science.ipynb",
      "provenance": [],
      "authorship_tag": "ABX9TyO/JdTPwio5yV3re6o2ZiXN"
    },
    "kernelspec": {
      "name": "python3",
      "display_name": "Python 3"
    }
  },
  "cells": [
    {
      "cell_type": "markdown",
      "metadata": {
        "id": "lzcNGJFYdlvf",
        "colab_type": "text"
      },
      "source": [
        "[Reference](https://medium.com/code-python/python-lambda-expressions-in-data-science-a25625e3038d)"
      ]
    },
    {
      "cell_type": "code",
      "metadata": {
        "id": "DiKaBUmojJmG",
        "colab_type": "code",
        "colab": {}
      },
      "source": [
        "def identity(x):\n",
        "  return x + 10"
      ],
      "execution_count": 1,
      "outputs": []
    },
    {
      "cell_type": "code",
      "metadata": {
        "id": "hyVX4K_XdueL",
        "colab_type": "code",
        "colab": {}
      },
      "source": [
        "identity = lambda a : a + 10"
      ],
      "execution_count": 2,
      "outputs": []
    },
    {
      "cell_type": "code",
      "metadata": {
        "id": "FBL7Tr90dwM6",
        "colab_type": "code",
        "colab": {
          "base_uri": "https://localhost:8080/",
          "height": 34
        },
        "outputId": "1dd9e69d-14a5-44f4-d5f0-1b12193c7ec2"
      },
      "source": [
        "identity(10) "
      ],
      "execution_count": 3,
      "outputs": [
        {
          "output_type": "execute_result",
          "data": {
            "text/plain": [
              "20"
            ]
          },
          "metadata": {
            "tags": []
          },
          "execution_count": 3
        }
      ]
    },
    {
      "cell_type": "code",
      "metadata": {
        "id": "6DujQ_godx2R",
        "colab_type": "code",
        "colab": {}
      },
      "source": [
        "myfunc = lambda a, b, c : a + b + c"
      ],
      "execution_count": 4,
      "outputs": []
    },
    {
      "cell_type": "code",
      "metadata": {
        "id": "6-UcKKGTdzuK",
        "colab_type": "code",
        "colab": {
          "base_uri": "https://localhost:8080/",
          "height": 34
        },
        "outputId": "3b6c33c7-a17b-422b-911f-cabdb1103614"
      },
      "source": [
        "myfunc(2,3,4)"
      ],
      "execution_count": 5,
      "outputs": [
        {
          "output_type": "execute_result",
          "data": {
            "text/plain": [
              "9"
            ]
          },
          "metadata": {
            "tags": []
          },
          "execution_count": 5
        }
      ]
    },
    {
      "cell_type": "code",
      "metadata": {
        "id": "nTc6IObxd0dG",
        "colab_type": "code",
        "colab": {}
      },
      "source": [
        "def myfunc(n):\n",
        "   return lambda a : a * n"
      ],
      "execution_count": 6,
      "outputs": []
    },
    {
      "cell_type": "code",
      "metadata": {
        "id": "ctaIdmGmd2Ob",
        "colab_type": "code",
        "colab": {
          "base_uri": "https://localhost:8080/",
          "height": 34
        },
        "outputId": "70aac6fc-5180-4032-e124-9b68f8bd1bd6"
      },
      "source": [
        "mydoubler = myfunc(2)\n",
        "mytripler = myfunc(3)"
      ],
      "execution_count": 7,
      "outputs": [
        {
          "output_type": "execute_result",
          "data": {
            "text/plain": [
              "<function __main__.myfunc.<locals>.<lambda>>"
            ]
          },
          "metadata": {
            "tags": []
          },
          "execution_count": 7
        }
      ]
    },
    {
      "cell_type": "code",
      "metadata": {
        "id": "yW0ez6hId45j",
        "colab_type": "code",
        "colab": {
          "base_uri": "https://localhost:8080/",
          "height": 51
        },
        "outputId": "32844768-cd8b-40a6-c0be-e4d79e1d03db"
      },
      "source": [
        "print(mydoubler(11))\n",
        "print(mytripler(11))"
      ],
      "execution_count": 8,
      "outputs": [
        {
          "output_type": "stream",
          "text": [
            "22\n",
            "33\n"
          ],
          "name": "stdout"
        }
      ]
    },
    {
      "cell_type": "code",
      "metadata": {
        "id": "SXGTn4Mxd8G_",
        "colab_type": "code",
        "colab": {}
      },
      "source": [
        "def f(x): \n",
        "    return 2*x"
      ],
      "execution_count": 9,
      "outputs": []
    },
    {
      "cell_type": "code",
      "metadata": {
        "id": "xa8bE2jSeB7W",
        "colab_type": "code",
        "colab": {}
      },
      "source": [
        "mu = lambda x: sum(x) / len(x)"
      ],
      "execution_count": 10,
      "outputs": []
    },
    {
      "cell_type": "code",
      "metadata": {
        "id": "1W_435HceFuv",
        "colab_type": "code",
        "colab": {}
      },
      "source": [
        "variance = lambda x: sum((x - mu(x))**2) / (len(x) - 1)"
      ],
      "execution_count": 11,
      "outputs": []
    }
  ]
}