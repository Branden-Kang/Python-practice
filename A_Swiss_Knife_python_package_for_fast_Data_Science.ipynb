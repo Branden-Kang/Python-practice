{
  "nbformat": 4,
  "nbformat_minor": 0,
  "metadata": {
    "colab": {
      "name": "A Swiss Knife python package for fast Data Science.ipynb",
      "provenance": [],
      "authorship_tag": "ABX9TyO9HzwQL1OjSk/2sWFht+k+"
    },
    "kernelspec": {
      "name": "python3",
      "display_name": "Python 3"
    },
    "language_info": {
      "name": "python"
    }
  },
  "cells": [
    {
      "cell_type": "markdown",
      "metadata": {
        "id": "s5m9hv3zj-Ib"
      },
      "source": [
        "[Reference](https://datas-science.medium.com/a-swiss-knife-python-package-for-fast-data-science-4bc3295d830a)"
      ]
    },
    {
      "cell_type": "code",
      "metadata": {
        "colab": {
          "base_uri": "https://localhost:8080/"
        },
        "id": "nGQMkPoXkdph",
        "outputId": "0c682374-3405-461e-b4e6-f5e85d1b37f6"
      },
      "source": [
        "!pip install utilmy"
      ],
      "execution_count": 5,
      "outputs": [
        {
          "output_type": "stream",
          "text": [
            "Collecting utilmy\n",
            "\u001b[?25l  Downloading https://files.pythonhosted.org/packages/f9/64/63bfeefc2989d7ae51522aeae977ef9db34f0771e068fd6ee1d5fb9d5461/utilmy-0.1.16263143-py3-none-any.whl (82kB)\n",
            "\r\u001b[K     |████                            | 10kB 12.4MB/s eta 0:00:01\r\u001b[K     |████████                        | 20kB 17.6MB/s eta 0:00:01\r\u001b[K     |████████████                    | 30kB 19.5MB/s eta 0:00:01\r\u001b[K     |████████████████                | 40kB 21.8MB/s eta 0:00:01\r\u001b[K     |████████████████████            | 51kB 23.8MB/s eta 0:00:01\r\u001b[K     |████████████████████████        | 61kB 25.3MB/s eta 0:00:01\r\u001b[K     |████████████████████████████    | 71kB 26.3MB/s eta 0:00:01\r\u001b[K     |████████████████████████████████| 81kB 27.2MB/s eta 0:00:01\r\u001b[K     |████████████████████████████████| 92kB 7.7MB/s \n",
            "\u001b[?25hRequirement already satisfied: pyyaml in /usr/local/lib/python3.7/dist-packages (from utilmy) (3.13)\n",
            "Installing collected packages: utilmy\n",
            "Successfully installed utilmy-0.1.16263143\n"
          ],
          "name": "stdout"
        }
      ]
    },
    {
      "cell_type": "code",
      "metadata": {
        "id": "0X_ZQ64oh40y"
      },
      "source": [
        "from utilmy import pd_read_file"
      ],
      "execution_count": 6,
      "outputs": []
    },
    {
      "cell_type": "code",
      "metadata": {
        "id": "jd3UYtz5kA0X"
      },
      "source": [
        "from utilmy import pd_read_file\n",
        "\n",
        "df = pd_read_file([\"path1/data*.parquet\", 'path2/datab_*.csv'], n_pool=4)"
      ],
      "execution_count": 7,
      "outputs": []
    },
    {
      "cell_type": "code",
      "metadata": {
        "id": "hX8WmZKYkKyY"
      },
      "source": [
        "from utilmy import pd_to_file\n",
        "pd_to_file(df, \"data.csv\")"
      ],
      "execution_count": 8,
      "outputs": []
    },
    {
      "cell_type": "code",
      "metadata": {
        "id": "hYnqjCVBkplV"
      },
      "source": [
        "from utilmy import pd_plot_multi\n",
        "cols = ['T (degC)', 'Tpot (K)']\n",
        "pd_plot_multi(df_weather, cols)"
      ],
      "execution_count": 9,
      "outputs": []
    },
    {
      "cell_type": "code",
      "metadata": {
        "id": "zKWhOGHKkrrt"
      },
      "source": [
        "from utilmy import pd_sample_strat\n",
        "pd_sample_strat(df1, col, n)"
      ],
      "execution_count": 10,
      "outputs": []
    },
    {
      "cell_type": "code",
      "metadata": {
        "id": "85xe42r7k1dO"
      },
      "source": [
        "from utilmy import pd_col_bins\n",
        "pd_col_bins(df1, col, nbins=10)"
      ],
      "execution_count": 11,
      "outputs": []
    },
    {
      "cell_type": "code",
      "metadata": {
        "colab": {
          "base_uri": "https://localhost:8080/"
        },
        "id": "YOSLikoXk3DP",
        "outputId": "355fee4c-e7e6-42d5-b221-92494a6a49ca"
      },
      "source": [
        "from utilmy import to_timeunix\n",
        "to_timeunix(\"2020-05-15\")"
      ],
      "execution_count": 12,
      "outputs": [
        {
          "output_type": "execute_result",
          "data": {
            "text/plain": [
              "1589500800000"
            ]
          },
          "metadata": {
            "tags": []
          },
          "execution_count": 12
        }
      ]
    },
    {
      "cell_type": "code",
      "metadata": {
        "colab": {
          "base_uri": "https://localhost:8080/"
        },
        "id": "Kbgr1BQ5k4pX",
        "outputId": "9cba5918-9c66-4840-d086-eb25a973636a"
      },
      "source": [
        "from utilmy import os_memory\n",
        "os_memory()"
      ],
      "execution_count": 13,
      "outputs": [
        {
          "output_type": "execute_result",
          "data": {
            "text/plain": [
              "{'free': 12661916, 'total': 13305360, 'used': 643444}"
            ]
          },
          "metadata": {
            "tags": []
          },
          "execution_count": 13
        }
      ]
    },
    {
      "cell_type": "code",
      "metadata": {
        "colab": {
          "base_uri": "https://localhost:8080/"
        },
        "id": "2nSMAEKhk53h",
        "outputId": "21552f3e-2e6b-489b-d50c-2e3061eff592"
      },
      "source": [
        "from utilmy import os_cpu\n",
        "os_cpu()"
      ],
      "execution_count": 14,
      "outputs": [
        {
          "output_type": "execute_result",
          "data": {
            "text/plain": [
              "2"
            ]
          },
          "metadata": {
            "tags": []
          },
          "execution_count": 14
        }
      ]
    },
    {
      "cell_type": "code",
      "metadata": {
        "colab": {
          "base_uri": "https://localhost:8080/",
          "height": 37
        },
        "id": "iQEVZH5hk7x4",
        "outputId": "daca3de1-11ef-4aa7-df70-a96d8f37c380"
      },
      "source": [
        "from utilmy import os_getcwd\n",
        "os_getcwd()"
      ],
      "execution_count": 15,
      "outputs": [
        {
          "output_type": "execute_result",
          "data": {
            "application/vnd.google.colaboratory.intrinsic+json": {
              "type": "string"
            },
            "text/plain": [
              "'/content/'"
            ]
          },
          "metadata": {
            "tags": []
          },
          "execution_count": 15
        }
      ]
    },
    {
      "cell_type": "code",
      "metadata": {
        "id": "FCOQ997tk9H2",
        "outputId": "e5796c50-f53d-4e3e-d3b4-12d1d505d0d9",
        "colab": {
          "base_uri": "https://localhost:8080/"
        }
      },
      "source": [
        "from utilmy import np_list_intersection\n",
        "np_list_intersection([1, 2, 3, 4], [3, 4, 5, 6])"
      ],
      "execution_count": 16,
      "outputs": [
        {
          "output_type": "execute_result",
          "data": {
            "text/plain": [
              "[3, 4]"
            ]
          },
          "metadata": {
            "tags": []
          },
          "execution_count": 16
        }
      ]
    }
  ]
}