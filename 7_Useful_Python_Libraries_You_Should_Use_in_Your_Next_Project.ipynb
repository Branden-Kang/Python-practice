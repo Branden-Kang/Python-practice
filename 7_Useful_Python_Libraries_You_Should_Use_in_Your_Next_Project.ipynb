{
  "nbformat": 4,
  "nbformat_minor": 0,
  "metadata": {
    "colab": {
      "provenance": [],
      "authorship_tag": "ABX9TyPRVTgrpz4MRaL8T2HLs4PT"
    },
    "kernelspec": {
      "name": "python3",
      "display_name": "Python 3"
    },
    "language_info": {
      "name": "python"
    }
  },
  "cells": [
    {
      "cell_type": "markdown",
      "source": [
        "[Reference](https://python.plainenglish.io/7-useful-python-libraries-you-should-use-in-your-next-project-7f5ff4b15b6c)"
      ],
      "metadata": {
        "id": "fsJ9gW8zT-81"
      }
    },
    {
      "cell_type": "markdown",
      "source": [
        "# 1. yapf"
      ],
      "metadata": {
        "id": "Fpt5PBjtUBIs"
      }
    },
    {
      "cell_type": "code",
      "execution_count": 1,
      "metadata": {
        "id": "D74yoNtXTTJP"
      },
      "outputs": [],
      "source": [
        "x = {'a': 37, 'b': 42, 'c': 927}\n",
        "y = 'hello' 'world'\n",
        "z = 'hello' + 'world'\n",
        "a = 'hello {}'.format('world')\n",
        "\n",
        "class foo(object):\n",
        "    def f(self):\n",
        "        return 37 * -+2\n",
        "    \n",
        "    def g(self, x, y=42):\n",
        "        return y\n",
        "\n",
        "def f(a):\n",
        "    return 37 + -_a[42 - x:y**3]"
      ]
    },
    {
      "cell_type": "markdown",
      "source": [
        "# 2. wdb"
      ],
      "metadata": {
        "id": "2aoZdhQmUh8c"
      }
    },
    {
      "cell_type": "markdown",
      "source": [
        "# 3. wtforms"
      ],
      "metadata": {
        "id": "-6xSgnVBUjam"
      }
    },
    {
      "cell_type": "code",
      "source": [
        "# def edit_profile(request):\n",
        "#     user = user.objects.get(pk=request.session['User'])\n",
        "#     form = EditProfileForm(request.POST, obj=user)\n",
        "\n",
        "#     if request.POST and form.validate():\n",
        "#         form.populate_obj(user)\n",
        "#         user.save()\n",
        "#         return redirect('/home')\n",
        "\n",
        "#     return render_to_response('edit_profile.html', form=form)"
      ],
      "metadata": {
        "id": "am3eRGSXUeP0"
      },
      "execution_count": 2,
      "outputs": []
    },
    {
      "cell_type": "markdown",
      "source": [
        "# 4. toolz"
      ],
      "metadata": {
        "id": "1afXURzdU8y7"
      }
    },
    {
      "cell_type": "code",
      "source": [
        "pip install toolz"
      ],
      "metadata": {
        "colab": {
          "base_uri": "https://localhost:8080/"
        },
        "id": "6kpSf2HiVEiB",
        "outputId": "bedcaa67-682f-4015-d51c-c60f81461f98"
      },
      "execution_count": 3,
      "outputs": [
        {
          "output_type": "stream",
          "name": "stdout",
          "text": [
            "Looking in indexes: https://pypi.org/simple, https://us-python.pkg.dev/colab-wheels/public/simple/\n",
            "Requirement already satisfied: toolz in /usr/local/lib/python3.8/dist-packages (0.12.0)\n"
          ]
        }
      ]
    },
    {
      "cell_type": "code",
      "source": [
        "def stem(word):\n",
        "     \"\"\" Stem word to primitive form \"\"\"\n",
        "     return word.lower().rstrip(\",.!:;'-\\\"\").lstrip(\"'\\\"\")\n",
        "\n",
        "from toolz import compose, frequencies\n",
        "from toolz.curried import map\n",
        "wordcount = compose(frequencies, map(stem), str.split)\n",
        "\n",
        "sentence = \"This cat jumped over this other cat!\"\n",
        "wordcount(sentence)"
      ],
      "metadata": {
        "colab": {
          "base_uri": "https://localhost:8080/"
        },
        "id": "-7K6tTnjU7s-",
        "outputId": "d729c46c-9f7e-4ae8-fbb0-73ccc85b3996"
      },
      "execution_count": 4,
      "outputs": [
        {
          "output_type": "execute_result",
          "data": {
            "text/plain": [
              "{'this': 2, 'cat': 2, 'jumped': 1, 'over': 1, 'other': 1}"
            ]
          },
          "metadata": {},
          "execution_count": 4
        }
      ]
    },
    {
      "cell_type": "markdown",
      "source": [
        "# 5. geopy"
      ],
      "metadata": {
        "id": "SGrFgz6YVNbZ"
      }
    },
    {
      "cell_type": "code",
      "source": [
        "pip install geopy"
      ],
      "metadata": {
        "colab": {
          "base_uri": "https://localhost:8080/"
        },
        "id": "swMwdm2HVEvV",
        "outputId": "6215e292-8bff-4ebd-d2cb-60c958814443"
      },
      "execution_count": 5,
      "outputs": [
        {
          "output_type": "stream",
          "name": "stdout",
          "text": [
            "Looking in indexes: https://pypi.org/simple, https://us-python.pkg.dev/colab-wheels/public/simple/\n",
            "Requirement already satisfied: geopy in /usr/local/lib/python3.8/dist-packages (1.17.0)\n",
            "Requirement already satisfied: geographiclib<2,>=1.49 in /usr/local/lib/python3.8/dist-packages (from geopy) (1.52)\n",
            "\n"
          ]
        }
      ]
    },
    {
      "cell_type": "code",
      "source": [
        "from geopy.geocoders import Nominatim\n",
        "geolocator = Nominatim(user_agent=\"specify_your_app_name_here\")\n",
        "location = geolocator.geocode(\"175 5th Avenue NYC\")\n",
        "print(location.address)\n",
        "print((location.latitude, location.longitude))\n",
        "print(location.raw)"
      ],
      "metadata": {
        "colab": {
          "base_uri": "https://localhost:8080/"
        },
        "id": "XQSqtodPVJcM",
        "outputId": "efea8e5d-70a0-4292-c8fd-024ded3679a8"
      },
      "execution_count": 6,
      "outputs": [
        {
          "output_type": "stream",
          "name": "stdout",
          "text": [
            "Flatiron Building, 175, 5th Avenue, Manhattan Community Board 5, Manhattan, New York County, City of New York, New York, 10010, United States\n",
            "(40.741059199999995, -73.98964162240998)\n",
            "{'place_id': 171259179, 'licence': 'Data © OpenStreetMap contributors, ODbL 1.0. https://osm.org/copyright', 'osm_type': 'way', 'osm_id': 264768896, 'boundingbox': ['40.7407596', '40.7413004', '-73.9898715', '-73.9895014'], 'lat': '40.741059199999995', 'lon': '-73.98964162240998', 'display_name': 'Flatiron Building, 175, 5th Avenue, Manhattan Community Board 5, Manhattan, New York County, City of New York, New York, 10010, United States', 'class': 'tourism', 'type': 'attraction', 'importance': 0.7405988542685404, 'icon': 'https://nominatim.openstreetmap.org/ui/mapicons/poi_point_of_interest.p.20.png'}\n"
          ]
        }
      ]
    },
    {
      "cell_type": "markdown",
      "source": [
        "# 6. pyfilesystem2"
      ],
      "metadata": {
        "id": "urgUJHGFVOd5"
      }
    },
    {
      "cell_type": "code",
      "source": [
        "def count_python_loc(fs):\n",
        "    \"\"\"Count non-blank lines of Python code.\"\"\"\n",
        "    count = 0\n",
        "    for path in fs.walk.files(filter=['*.py']):\n",
        "        with fs.open(path) as python_file:\n",
        "            count += sum(1 for line in python_file if line.strip())\n",
        "    return count"
      ],
      "metadata": {
        "id": "HpBFsVbsVMbc"
      },
      "execution_count": 7,
      "outputs": []
    },
    {
      "cell_type": "markdown",
      "source": [
        "# 7. html5lib-python"
      ],
      "metadata": {
        "id": "2u3o2U2MVSZv"
      }
    },
    {
      "cell_type": "code",
      "source": [
        "import html5lib\n",
        "with open('mydocument.html','rb') as f:\n",
        "    document =html5lib.parse(f)"
      ],
      "metadata": {
        "id": "1_TrZmO7VRmm"
      },
      "execution_count": 8,
      "outputs": []
    }
  ]
}