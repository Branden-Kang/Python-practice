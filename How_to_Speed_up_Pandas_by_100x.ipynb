{
  "nbformat": 4,
  "nbformat_minor": 0,
  "metadata": {
    "colab": {
      "provenance": [],
      "authorship_tag": "ABX9TyN7d+USC1NkgozAi1gBetBb"
    },
    "kernelspec": {
      "name": "python3",
      "display_name": "Python 3"
    },
    "language_info": {
      "name": "python"
    }
  },
  "cells": [
    {
      "cell_type": "markdown",
      "source": [
        "[Reference](https://jadhav-pritish.medium.com/simple-tricks-to-speed-up-pandas-by-100x-3b7e705783a8)"
      ],
      "metadata": {
        "id": "gu6mGug-lZKl"
      }
    },
    {
      "cell_type": "code",
      "execution_count": 1,
      "metadata": {
        "id": "LQKD-nR-lU7e"
      },
      "outputs": [],
      "source": [
        "import pandas as pd\n",
        "import random\n",
        "\n",
        "def simple_sum(a: int, b: int) -> int:\n",
        "    return a + b\n",
        "    \n",
        "# create a datframe with two columns filled with random integers. \n",
        "df = pd.DataFrame(\n",
        "    {\n",
        "        \"col1\": [random.randint(0, 1000) for _ in range(100000)],\n",
        "        \"col2\": [random.randint(1000, 2000) for _ in range(100000)],\n",
        "    }\n",
        ")"
      ]
    },
    {
      "cell_type": "code",
      "source": [
        "# depends on https://gist.github.com/jadhavpritish/909eaf33cfa2ed8f8b47fce38475f258\n",
        "\n",
        "%%time\n",
        "\n",
        "answers_list = []\n",
        "for index, row in df.iterrows():\n",
        "    answers_list.append(simple_sum(row[\"col1\"], row[\"col2\"]))"
      ],
      "metadata": {
        "colab": {
          "base_uri": "https://localhost:8080/"
        },
        "id": "Op2T6fJgleTK",
        "outputId": "32ae23f4-3da0-4059-fdac-6fd7a307a6c9"
      },
      "execution_count": 4,
      "outputs": [
        {
          "output_type": "stream",
          "name": "stdout",
          "text": [
            "CPU times: user 4.87 s, sys: 1.35 ms, total: 4.87 s\n",
            "Wall time: 4.96 s\n"
          ]
        }
      ]
    },
    {
      "cell_type": "code",
      "source": [
        "# depends on https://gist.github.com/jadhavpritish/909eaf33cfa2ed8f8b47fce38475f258\n",
        "\n",
        "%%time\n",
        "\n",
        "answers_list = []\n",
        "\n",
        "for row in df.itertuples():\n",
        "    answers_list.append(simple_sum(row.col1, row.col2))"
      ],
      "metadata": {
        "colab": {
          "base_uri": "https://localhost:8080/"
        },
        "id": "7c_CyAPilhuM",
        "outputId": "30ac11b3-6c81-4ca7-b384-34c8da6c0c5d"
      },
      "execution_count": 5,
      "outputs": [
        {
          "output_type": "stream",
          "name": "stdout",
          "text": [
            "CPU times: user 109 ms, sys: 694 µs, total: 110 ms\n",
            "Wall time: 114 ms\n"
          ]
        }
      ]
    },
    {
      "cell_type": "code",
      "source": [
        "%%time\n",
        "\n",
        "new_df = pd.DataFrame()\n",
        "\n",
        "for row in df.itertuples():\n",
        "    new_row = pd.DataFrame(\n",
        "        {\"col1\": [row.col1], \"col2\": [row.col2], \"col3\": [simple_sum(row.col1, row.col2)]}\n",
        "    )\n",
        "    new_df = pd.concat([new_df, new_row], ignore_index=True)"
      ],
      "metadata": {
        "colab": {
          "base_uri": "https://localhost:8080/"
        },
        "id": "REWQZZABlnVz",
        "outputId": "d38eed47-f572-4d89-f8d8-8fdbf0e9e528"
      },
      "execution_count": 6,
      "outputs": [
        {
          "output_type": "stream",
          "name": "stdout",
          "text": [
            "CPU times: user 1min 41s, sys: 3.74 s, total: 1min 45s\n",
            "Wall time: 1min 46s\n"
          ]
        }
      ]
    },
    {
      "cell_type": "code",
      "source": [
        "%%time\n",
        "\n",
        "new_list = []\n",
        "\n",
        "for row in df.itertuples():\n",
        "\n",
        "    new_row = {\"col1\": [row.col1], \"col2\": [row.col2], \"col3\": [simple_sum(row.col1, row.col2)]}\n",
        "    new_list.append(new_row)\n",
        "    \n",
        "new_df = pd.DataFrame(new_list)"
      ],
      "metadata": {
        "colab": {
          "base_uri": "https://localhost:8080/"
        },
        "id": "QiXZCyMfoJdy",
        "outputId": "eae76318-7115-427c-d5ae-32d34366d9bf"
      },
      "execution_count": 7,
      "outputs": [
        {
          "output_type": "stream",
          "name": "stdout",
          "text": [
            "CPU times: user 646 ms, sys: 31 ms, total: 677 ms\n",
            "Wall time: 679 ms\n"
          ]
        }
      ]
    },
    {
      "cell_type": "code",
      "source": [
        "%%time \n",
        "\n",
        "def conditional_multiplication(a: int) -> int:\n",
        "    \"\"\"\n",
        "    Multiply by 2 if input is > 1000 else multiply by 3\n",
        "    \"\"\"\n",
        "    if a >= 1000:\n",
        "        return a * 2\n",
        "    else:\n",
        "        return a * 3\n",
        "    \n",
        "df[\"conditional_mul_result\"] = df[\"col2\"].apply(conditional_multiplication)"
      ],
      "metadata": {
        "colab": {
          "base_uri": "https://localhost:8080/"
        },
        "id": "-whQm781oLiw",
        "outputId": "da467aa5-ff2a-4ff9-acc6-8738e4b59987"
      },
      "execution_count": 8,
      "outputs": [
        {
          "output_type": "stream",
          "name": "stdout",
          "text": [
            "CPU times: user 46.1 ms, sys: 3.01 ms, total: 49.1 ms\n",
            "Wall time: 49.6 ms\n"
          ]
        }
      ]
    },
    {
      "cell_type": "code",
      "source": [
        "import numpy as np"
      ],
      "metadata": {
        "id": "tjB1b2tKoRWm"
      },
      "execution_count": 10,
      "outputs": []
    },
    {
      "cell_type": "code",
      "source": [
        "%%time\n",
        "\n",
        "df[\"conditional_mul_result_optimized\"] = np.where(df[\"col2\"] >= 1000, df[\"col2\"]* 2, df[\"col2\"] * 3)"
      ],
      "metadata": {
        "colab": {
          "base_uri": "https://localhost:8080/"
        },
        "id": "IZ1S9M89oNvD",
        "outputId": "7951d535-073c-4828-981d-46ef1268b87b"
      },
      "execution_count": 11,
      "outputs": [
        {
          "output_type": "stream",
          "name": "stdout",
          "text": [
            "CPU times: user 6.4 ms, sys: 0 ns, total: 6.4 ms\n",
            "Wall time: 6.51 ms\n"
          ]
        }
      ]
    }
  ]
}