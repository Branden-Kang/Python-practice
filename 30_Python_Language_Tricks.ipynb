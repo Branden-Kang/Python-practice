{
  "nbformat": 4,
  "nbformat_minor": 0,
  "metadata": {
    "colab": {
      "name": "30 Python Language Tricks.ipynb",
      "provenance": [],
      "authorship_tag": "ABX9TyM3OikbpM0yUtewFfcG1I8/"
    },
    "kernelspec": {
      "name": "python3",
      "display_name": "Python 3"
    }
  },
  "cells": [
    {
      "cell_type": "markdown",
      "metadata": {
        "id": "ZQR85DpY9Nrk"
      },
      "source": [
        "[Reference](https://medium.com/pythonland/30-python-language-tricks-that-will-make-you-a-better-coder-f08f811a7b0f)"
      ]
    },
    {
      "cell_type": "markdown",
      "metadata": {
        "id": "sGiDgv2i9KNV"
      },
      "source": [
        "# 1. The Python Ellipsis"
      ]
    },
    {
      "cell_type": "code",
      "metadata": {
        "colab": {
          "base_uri": "https://localhost:8080/"
        },
        "id": "XBZit29_9FtN",
        "outputId": "7d52acb2-be7a-4065-ecda-70e14f630a42"
      },
      "source": [
        "..."
      ],
      "execution_count": 1,
      "outputs": [
        {
          "output_type": "execute_result",
          "data": {
            "text/plain": [
              "Ellipsis"
            ]
          },
          "metadata": {
            "tags": []
          },
          "execution_count": 1
        }
      ]
    },
    {
      "cell_type": "code",
      "metadata": {
        "id": "bFSAn86E9QTi"
      },
      "source": [
        "my_awesome_func():\n",
        "    ..."
      ],
      "execution_count": 3,
      "outputs": []
    },
    {
      "cell_type": "markdown",
      "metadata": {
        "id": "NjQF4Xv49S9j"
      },
      "source": [
        "# 2. Data classes"
      ]
    },
    {
      "cell_type": "code",
      "metadata": {
        "colab": {
          "base_uri": "https://localhost:8080/"
        },
        "id": "QNlh9oJw9Rqh",
        "outputId": "fc5e622e-47c3-4dad-daa0-24b6bb875d63"
      },
      "source": [
        "from dataclasses import dataclass\n",
        "\n",
        "@dataclass\n",
        "class Card:\n",
        "    rank: str\n",
        "    suit: str\n",
        "    \n",
        "card = Card(\"Q\", \"hearts\")\n",
        "\n",
        "print(card == card)\n",
        "# True\n",
        "\n",
        "print(card.rank)\n",
        "# 'Q'\n",
        "\n",
        "print(card)\n",
        "Card(rank='Q', suit='hearts')"
      ],
      "execution_count": 4,
      "outputs": [
        {
          "output_type": "stream",
          "text": [
            "True\n",
            "Q\n",
            "Card(rank='Q', suit='hearts')\n"
          ],
          "name": "stdout"
        },
        {
          "output_type": "execute_result",
          "data": {
            "text/plain": [
              "Card(rank='Q', suit='hearts')"
            ]
          },
          "metadata": {
            "tags": []
          },
          "execution_count": 4
        }
      ]
    },
    {
      "cell_type": "markdown",
      "metadata": {
        "id": "wTaTVvqj9gRo"
      },
      "source": [
        "# 3. The Zen of Python"
      ]
    },
    {
      "cell_type": "code",
      "metadata": {
        "colab": {
          "base_uri": "https://localhost:8080/"
        },
        "id": "PY1NX2JX9aMp",
        "outputId": "e023373e-e62e-4160-f085-753d7597892c"
      },
      "source": [
        "import this"
      ],
      "execution_count": 5,
      "outputs": [
        {
          "output_type": "stream",
          "text": [
            "The Zen of Python, by Tim Peters\n",
            "\n",
            "Beautiful is better than ugly.\n",
            "Explicit is better than implicit.\n",
            "Simple is better than complex.\n",
            "Complex is better than complicated.\n",
            "Flat is better than nested.\n",
            "Sparse is better than dense.\n",
            "Readability counts.\n",
            "Special cases aren't special enough to break the rules.\n",
            "Although practicality beats purity.\n",
            "Errors should never pass silently.\n",
            "Unless explicitly silenced.\n",
            "In the face of ambiguity, refuse the temptation to guess.\n",
            "There should be one-- and preferably only one --obvious way to do it.\n",
            "Although that way may not be obvious at first unless you're Dutch.\n",
            "Now is better than never.\n",
            "Although never is often better than *right* now.\n",
            "If the implementation is hard to explain, it's a bad idea.\n",
            "If the implementation is easy to explain, it may be a good idea.\n",
            "Namespaces are one honking great idea -- let's do more of those!\n"
          ],
          "name": "stdout"
        }
      ]
    },
    {
      "cell_type": "markdown",
      "metadata": {
        "id": "8lxcc6MA9rkj"
      },
      "source": [
        "# 4. Anonymous functions"
      ]
    },
    {
      "cell_type": "code",
      "metadata": {
        "colab": {
          "base_uri": "https://localhost:8080/"
        },
        "id": "EjyUqveH9lR6",
        "outputId": "aa194788-da44-44da-a855-f83cfce3bdff"
      },
      "source": [
        "add_one = lambda x: x + 1\n",
        "add_one(3)"
      ],
      "execution_count": 6,
      "outputs": [
        {
          "output_type": "execute_result",
          "data": {
            "text/plain": [
              "4"
            ]
          },
          "metadata": {
            "tags": []
          },
          "execution_count": 6
        }
      ]
    },
    {
      "cell_type": "code",
      "metadata": {
        "colab": {
          "base_uri": "https://localhost:8080/"
        },
        "id": "xah6XjSP9vMc",
        "outputId": "fbd986fb-3203-400c-a8c0-da962d04bd6b"
      },
      "source": [
        "numbers = [1, 2, 3, 4]\n",
        "times_two = map(lambda x: x * 2, numbers)\n",
        "list(times_two)"
      ],
      "execution_count": 7,
      "outputs": [
        {
          "output_type": "execute_result",
          "data": {
            "text/plain": [
              "[2, 4, 6, 8]"
            ]
          },
          "metadata": {
            "tags": []
          },
          "execution_count": 7
        }
      ]
    },
    {
      "cell_type": "markdown",
      "metadata": {
        "id": "9UVbiWLW9yCY"
      },
      "source": [
        "# 5. List Comprehensions"
      ]
    },
    {
      "cell_type": "code",
      "metadata": {
        "colab": {
          "base_uri": "https://localhost:8080/"
        },
        "id": "eVvHbuGq9w4I",
        "outputId": "feff9f60-b222-4754-cca4-0e0c8629ccba"
      },
      "source": [
        "mylist = [i for i in range(10)]\n",
        "print(mylist)"
      ],
      "execution_count": 8,
      "outputs": [
        {
          "output_type": "stream",
          "text": [
            "[0, 1, 2, 3, 4, 5, 6, 7, 8, 9]\n"
          ],
          "name": "stdout"
        }
      ]
    },
    {
      "cell_type": "code",
      "metadata": {
        "colab": {
          "base_uri": "https://localhost:8080/"
        },
        "id": "d2CkYbhU9zdg",
        "outputId": "aff7488b-f9a1-4504-b04f-362927da976a"
      },
      "source": [
        "squares = [x**2 for x in range(10)]\n",
        "print(squares)"
      ],
      "execution_count": 9,
      "outputs": [
        {
          "output_type": "stream",
          "text": [
            "[0, 1, 4, 9, 16, 25, 36, 49, 64, 81]\n"
          ],
          "name": "stdout"
        }
      ]
    },
    {
      "cell_type": "code",
      "metadata": {
        "colab": {
          "base_uri": "https://localhost:8080/"
        },
        "id": "cxUyFtr290Ny",
        "outputId": "1a4a0f43-ef3a-47ac-a810-5c89ab4cac43"
      },
      "source": [
        "def some_function(a):\n",
        "    return (a + 5) / 2\n",
        "    \n",
        "my_formula = [some_function(i) for i in range(10)]\n",
        "print(my_formula)"
      ],
      "execution_count": 10,
      "outputs": [
        {
          "output_type": "stream",
          "text": [
            "[2.5, 3.0, 3.5, 4.0, 4.5, 5.0, 5.5, 6.0, 6.5, 7.0]\n"
          ],
          "name": "stdout"
        }
      ]
    },
    {
      "cell_type": "code",
      "metadata": {
        "colab": {
          "base_uri": "https://localhost:8080/"
        },
        "id": "YEK_Q_2191lD",
        "outputId": "447ccf7a-8c86-449b-9767-cb2d62c65870"
      },
      "source": [
        "filtered = [i for i in range(20) if i%2==0]\n",
        "print(filtered)"
      ],
      "execution_count": 11,
      "outputs": [
        {
          "output_type": "stream",
          "text": [
            "[0, 2, 4, 6, 8, 10, 12, 14, 16, 18]\n"
          ],
          "name": "stdout"
        }
      ]
    },
    {
      "cell_type": "markdown",
      "metadata": {
        "id": "8h_5AnNO93gy"
      },
      "source": [
        "# 6. In place variable swapping"
      ]
    },
    {
      "cell_type": "code",
      "metadata": {
        "colab": {
          "base_uri": "https://localhost:8080/"
        },
        "id": "VdQzkTpG92pQ",
        "outputId": "7f3268ee-0c46-4e52-d10c-22298b197554"
      },
      "source": [
        "a = 1\n",
        "b = 2\n",
        "a, b = b, a\n",
        "print(a)\n",
        "print(b)"
      ],
      "execution_count": 12,
      "outputs": [
        {
          "output_type": "stream",
          "text": [
            "2\n",
            "1\n"
          ],
          "name": "stdout"
        }
      ]
    },
    {
      "cell_type": "markdown",
      "metadata": {
        "id": "KKu_5VOZ96p0"
      },
      "source": [
        "# 7. Named String Formatting"
      ]
    },
    {
      "cell_type": "code",
      "metadata": {
        "colab": {
          "base_uri": "https://localhost:8080/",
          "height": 37
        },
        "id": "sawOxOut958I",
        "outputId": "105dd709-6dda-4fc3-8fb1-60cedd4dc46b"
      },
      "source": [
        "data = {'name':'Branden',\n",
        "        'age':20,\n",
        "        'country':'USA'}\n",
        "\"%(name)s is %(age)i and lives in %(country)s\" % data"
      ],
      "execution_count": 16,
      "outputs": [
        {
          "output_type": "execute_result",
          "data": {
            "application/vnd.google.colaboratory.intrinsic+json": {
              "type": "string"
            },
            "text/plain": [
              "'Branden is 20 and lives in USA'"
            ]
          },
          "metadata": {
            "tags": []
          },
          "execution_count": 16
        }
      ]
    },
    {
      "cell_type": "code",
      "metadata": {
        "colab": {
          "base_uri": "https://localhost:8080/",
          "height": 37
        },
        "id": "wl9pEtVp-GSe",
        "outputId": "462f4ad3-6888-4d96-ec4d-543eb7f10511"
      },
      "source": [
        "foo, bar = 'question', 123\n",
        "\"The %(foo)s is %(bar)i.\" % locals()"
      ],
      "execution_count": 17,
      "outputs": [
        {
          "output_type": "execute_result",
          "data": {
            "application/vnd.google.colaboratory.intrinsic+json": {
              "type": "string"
            },
            "text/plain": [
              "'The question is 123.'"
            ]
          },
          "metadata": {
            "tags": []
          },
          "execution_count": 17
        }
      ]
    },
    {
      "cell_type": "markdown",
      "metadata": {
        "id": "_Ejpa17i-ck8"
      },
      "source": [
        "# 8. Nested list comprehensions"
      ]
    },
    {
      "cell_type": "code",
      "metadata": {
        "colab": {
          "base_uri": "https://localhost:8080/"
        },
        "id": "4tmoH__h-YQr",
        "outputId": "16dce0d9-35f8-4092-b518-5528c7fcf0bc"
      },
      "source": [
        "[[j for j in range(3)] for i in range(4)]"
      ],
      "execution_count": 18,
      "outputs": [
        {
          "output_type": "execute_result",
          "data": {
            "text/plain": [
              "[[0, 1, 2], [0, 1, 2], [0, 1, 2], [0, 1, 2]]"
            ]
          },
          "metadata": {
            "tags": []
          },
          "execution_count": 18
        }
      ]
    },
    {
      "cell_type": "code",
      "metadata": {
        "colab": {
          "base_uri": "https://localhost:8080/"
        },
        "id": "l1zIB5oU-g_G",
        "outputId": "b6a2a9ad-ec8a-4c39-8424-6baf3de8d0b5"
      },
      "source": [
        "m = [[j for j in range(3)] for i in range(4)]\n",
        "[value\n",
        "      for sublist in m\n",
        "      for value in sublist]"
      ],
      "execution_count": 20,
      "outputs": [
        {
          "output_type": "execute_result",
          "data": {
            "text/plain": [
              "[0, 1, 2, 0, 1, 2, 0, 1, 2, 0, 1, 2]"
            ]
          },
          "metadata": {
            "tags": []
          },
          "execution_count": 20
        }
      ]
    },
    {
      "cell_type": "markdown",
      "metadata": {
        "id": "19AwJdLa-wOC"
      },
      "source": [
        "# 9. Required Keyword Arguments"
      ]
    },
    {
      "cell_type": "code",
      "metadata": {
        "colab": {
          "base_uri": "https://localhost:8080/",
          "height": 232
        },
        "id": "RnS7LIcY-nCS",
        "outputId": "e5dd1a54-c762-4a34-b987-4ae80a4cc44b"
      },
      "source": [
        "def f(*, a, b):\n",
        "     print(a, b)\n",
        "\n",
        "f(1, 2)"
      ],
      "execution_count": 21,
      "outputs": [
        {
          "output_type": "error",
          "ename": "TypeError",
          "evalue": "ignored",
          "traceback": [
            "\u001b[0;31m---------------------------------------------------------------------------\u001b[0m",
            "\u001b[0;31mTypeError\u001b[0m                                 Traceback (most recent call last)",
            "\u001b[0;32m<ipython-input-21-cb10d903c4e4>\u001b[0m in \u001b[0;36m<module>\u001b[0;34m()\u001b[0m\n\u001b[1;32m      2\u001b[0m      \u001b[0mprint\u001b[0m\u001b[0;34m(\u001b[0m\u001b[0ma\u001b[0m\u001b[0;34m,\u001b[0m \u001b[0mb\u001b[0m\u001b[0;34m)\u001b[0m\u001b[0;34m\u001b[0m\u001b[0;34m\u001b[0m\u001b[0m\n\u001b[1;32m      3\u001b[0m \u001b[0;34m\u001b[0m\u001b[0m\n\u001b[0;32m----> 4\u001b[0;31m \u001b[0mf\u001b[0m\u001b[0;34m(\u001b[0m\u001b[0;36m1\u001b[0m\u001b[0;34m,\u001b[0m \u001b[0;36m2\u001b[0m\u001b[0;34m)\u001b[0m\u001b[0;34m\u001b[0m\u001b[0;34m\u001b[0m\u001b[0m\n\u001b[0m",
            "\u001b[0;31mTypeError\u001b[0m: f() takes 0 positional arguments but 2 were given"
          ]
        }
      ]
    },
    {
      "cell_type": "code",
      "metadata": {
        "colab": {
          "base_uri": "https://localhost:8080/"
        },
        "id": "Kt9FG3oX-yP7",
        "outputId": "b69b6354-25d8-489d-b6bd-52935ec66c13"
      },
      "source": [
        "f(a=1, b=2)"
      ],
      "execution_count": 22,
      "outputs": [
        {
          "output_type": "stream",
          "text": [
            "1 2\n"
          ],
          "name": "stdout"
        }
      ]
    },
    {
      "cell_type": "markdown",
      "metadata": {
        "id": "W13Cwg0W-0m1"
      },
      "source": [
        "# 10. Use The Underscore in The REPL"
      ]
    },
    {
      "cell_type": "code",
      "metadata": {
        "colab": {
          "base_uri": "https://localhost:8080/"
        },
        "id": "KMrE6fDr-zXo",
        "outputId": "24205fbf-ea44-4df7-9036-fedf7ca90897"
      },
      "source": [
        "3 * 3"
      ],
      "execution_count": 23,
      "outputs": [
        {
          "output_type": "execute_result",
          "data": {
            "text/plain": [
              "9"
            ]
          },
          "metadata": {
            "tags": []
          },
          "execution_count": 23
        }
      ]
    },
    {
      "cell_type": "code",
      "metadata": {
        "colab": {
          "base_uri": "https://localhost:8080/"
        },
        "id": "fkQzIg4b-2cj",
        "outputId": "71df980e-a8a6-43e6-b292-1e650733fe76"
      },
      "source": [
        "_ + 3"
      ],
      "execution_count": 24,
      "outputs": [
        {
          "output_type": "execute_result",
          "data": {
            "text/plain": [
              "12"
            ]
          },
          "metadata": {
            "tags": []
          },
          "execution_count": 24
        }
      ]
    },
    {
      "cell_type": "markdown",
      "metadata": {
        "id": "bCknD0UD-4gu"
      },
      "source": [
        "# 11. Check for a minimum required Python version"
      ]
    },
    {
      "cell_type": "code",
      "metadata": {
        "id": "8vgZ-bPK-3gQ"
      },
      "source": [
        "if not sys.version_info > (2, 7):\n",
        "   # berate your user for running a 10 year\n",
        "   # python version\n",
        "elif not sys.version_info >= (3, 5):\n",
        "   # Kindly tell your user (s)he needs to upgrade\n",
        "   # because you're using 3.5 features"
      ],
      "execution_count": 26,
      "outputs": []
    },
    {
      "cell_type": "markdown",
      "metadata": {
        "id": "kH9_kyNC--tV"
      },
      "source": [
        "# 12. Decorate your functions"
      ]
    },
    {
      "cell_type": "code",
      "metadata": {
        "colab": {
          "base_uri": "https://localhost:8080/"
        },
        "id": "YsNtEhvR-8Vz",
        "outputId": "4fa213e3-f4d4-477c-ff18-83644aa985c1"
      },
      "source": [
        "def print_argument(func):\n",
        "    def wrapper(the_number):\n",
        "        print(\"Argument for\", \n",
        "              func.__name__, \n",
        "              \"is\", the_number)        \n",
        "        return func(the_number)\n",
        "    return wrapper\n",
        "\n",
        "@print_argument\n",
        "def add_one(x):\n",
        "    return x + 1\n",
        "print(add_one(1))"
      ],
      "execution_count": 29,
      "outputs": [
        {
          "output_type": "stream",
          "text": [
            "Argument for add_one is 1\n",
            "2\n"
          ],
          "name": "stdout"
        }
      ]
    },
    {
      "cell_type": "markdown",
      "metadata": {
        "id": "7yrecy4i_Ljn"
      },
      "source": [
        "# 13. Return multiple values"
      ]
    },
    {
      "cell_type": "code",
      "metadata": {
        "id": "BX6pS2ek_CYb"
      },
      "source": [
        "def get_user(id):\n",
        "    # fetch user from database\n",
        "    # ....\n",
        "    return name, birthdate\n",
        "\n",
        "name, birthdate = get_user(4)"
      ],
      "execution_count": 31,
      "outputs": []
    },
    {
      "cell_type": "markdown",
      "metadata": {
        "id": "Xnt1FLUO_RPV"
      },
      "source": [
        "# 14. Merging dictionaries"
      ]
    },
    {
      "cell_type": "code",
      "metadata": {
        "id": "LjIxauaB_NHI"
      },
      "source": [
        "dict1 = { 'a': 1, 'b': 2 }\n",
        "dict2 = { 'b': 3, 'c': 4 }\n",
        "merged = { **dict1, **dict2 }\n",
        "\n",
        "print (merged)\n",
        "# {'a': 1, 'b': 3, 'c': 4}\n",
        "\n",
        "# Python >= 3.9 only\n",
        "merged = dict1 | dict2\n",
        "\n",
        "print (merged)"
      ],
      "execution_count": 33,
      "outputs": []
    },
    {
      "cell_type": "markdown",
      "metadata": {
        "id": "lTbp3i26_VRV"
      },
      "source": [
        "# 15. Slicing a list"
      ]
    },
    {
      "cell_type": "code",
      "metadata": {
        "colab": {
          "base_uri": "https://localhost:8080/"
        },
        "id": "MMsa7WB4_TWl",
        "outputId": "2a72697f-030c-41a6-f72e-0606f503ff9a"
      },
      "source": [
        "first_two = [1, 2, 3, 4, 5][0:2]\n",
        "print(first_two)"
      ],
      "execution_count": 34,
      "outputs": [
        {
          "output_type": "stream",
          "text": [
            "[1, 2]\n"
          ],
          "name": "stdout"
        }
      ]
    },
    {
      "cell_type": "code",
      "metadata": {
        "colab": {
          "base_uri": "https://localhost:8080/"
        },
        "id": "llXoDfzI_W7R",
        "outputId": "0b24fd3e-6213-4522-c052-fba99ab42119"
      },
      "source": [
        "steps = [1, 2, 3, 4, 5][0:5:2]\n",
        "print(steps)"
      ],
      "execution_count": 35,
      "outputs": [
        {
          "output_type": "stream",
          "text": [
            "[1, 3, 5]\n"
          ],
          "name": "stdout"
        }
      ]
    },
    {
      "cell_type": "code",
      "metadata": {
        "colab": {
          "base_uri": "https://localhost:8080/"
        },
        "id": "DSnYJSK6_YZI",
        "outputId": "9bfcb2e0-318e-4d46-a88f-363df8c90848"
      },
      "source": [
        "mystring = \"abcdefdn nimt\"[::2]\n",
        "print(mystring)"
      ],
      "execution_count": 36,
      "outputs": [
        {
          "output_type": "stream",
          "text": [
            "aced it\n"
          ],
          "name": "stdout"
        }
      ]
    },
    {
      "cell_type": "markdown",
      "metadata": {
        "id": "C0acL2WJ_agX"
      },
      "source": [
        "# 16. Check memory usage of your objects"
      ]
    },
    {
      "cell_type": "code",
      "metadata": {
        "colab": {
          "base_uri": "https://localhost:8080/"
        },
        "id": "c35ovM_s_ZlC",
        "outputId": "2b374d9d-20aa-4c08-c724-8379c8bea9c4"
      },
      "source": [
        "import sys\n",
        "\n",
        "mylist = range(0, 10000)\n",
        "print(sys.getsizeof(mylist))"
      ],
      "execution_count": 37,
      "outputs": [
        {
          "output_type": "stream",
          "text": [
            "48\n"
          ],
          "name": "stdout"
        }
      ]
    },
    {
      "cell_type": "code",
      "metadata": {
        "colab": {
          "base_uri": "https://localhost:8080/"
        },
        "id": "bS2gfY-m_bxS",
        "outputId": "7b5d1ec8-aed4-4e09-f586-7062c68318e0"
      },
      "source": [
        "import sys\n",
        "\n",
        "myreallist = [x for x in range(0, 10000)]\n",
        "print(sys.getsizeof(myreallist))"
      ],
      "execution_count": 38,
      "outputs": [
        {
          "output_type": "stream",
          "text": [
            "87624\n"
          ],
          "name": "stdout"
        }
      ]
    },
    {
      "cell_type": "markdown",
      "metadata": {
        "id": "nd56S2Tl_eo2"
      },
      "source": [
        "# 18. String to title case"
      ]
    },
    {
      "cell_type": "code",
      "metadata": {
        "colab": {
          "base_uri": "https://localhost:8080/"
        },
        "id": "atTh0YUV_dpw",
        "outputId": "ef4a90f7-7edb-4ece-8fa5-c1f8fa2266a2"
      },
      "source": [
        "mystring = \"10 awesome python tricks\"\n",
        "print(mystring.title())"
      ],
      "execution_count": 39,
      "outputs": [
        {
          "output_type": "stream",
          "text": [
            "10 Awesome Python Tricks\n"
          ],
          "name": "stdout"
        }
      ]
    },
    {
      "cell_type": "markdown",
      "metadata": {
        "id": "P1eL25t1_nk3"
      },
      "source": [
        "# 19. Split a string into a list"
      ]
    },
    {
      "cell_type": "code",
      "metadata": {
        "colab": {
          "base_uri": "https://localhost:8080/"
        },
        "id": "ApT6AjDa_mu-",
        "outputId": "5f5f725e-e091-4a7f-84dc-bbe761d5d58c"
      },
      "source": [
        "mystring = \"The quick brown fox\"\n",
        "mylist = mystring.split(' ')\n",
        "print(mylist)"
      ],
      "execution_count": 40,
      "outputs": [
        {
          "output_type": "stream",
          "text": [
            "['The', 'quick', 'brown', 'fox']\n"
          ],
          "name": "stdout"
        }
      ]
    },
    {
      "cell_type": "markdown",
      "metadata": {
        "id": "SqJZx3n7_sb2"
      },
      "source": [
        "# 20. Create a string from a list of strings"
      ]
    },
    {
      "cell_type": "code",
      "metadata": {
        "colab": {
          "base_uri": "https://localhost:8080/"
        },
        "id": "1yHTytAN_pfe",
        "outputId": "adb0be09-43f1-482a-c3eb-2130470cb9b1"
      },
      "source": [
        "mylist = ['The', 'quick', 'brown', 'fox']\n",
        "mystring = \" \".join(mylist)\n",
        "print(mystring)"
      ],
      "execution_count": 41,
      "outputs": [
        {
          "output_type": "stream",
          "text": [
            "The quick brown fox\n"
          ],
          "name": "stdout"
        }
      ]
    },
    {
      "cell_type": "markdown",
      "metadata": {
        "id": "Jz8V9Nr1_vHb"
      },
      "source": [
        "# 21. Query JSON"
      ]
    },
    {
      "cell_type": "code",
      "metadata": {
        "colab": {
          "base_uri": "https://localhost:8080/"
        },
        "id": "Ym18JA8N_0rK",
        "outputId": "d413ca36-e1c8-428b-e50a-36df7452eec7"
      },
      "source": [
        "!pip install jmespath"
      ],
      "execution_count": 43,
      "outputs": [
        {
          "output_type": "stream",
          "text": [
            "Collecting jmespath\n",
            "  Downloading https://files.pythonhosted.org/packages/07/cb/5f001272b6faeb23c1c9e0acc04d48eaaf5c862c17709d20e3469c6e0139/jmespath-0.10.0-py2.py3-none-any.whl\n",
            "Installing collected packages: jmespath\n",
            "Successfully installed jmespath-0.10.0\n"
          ],
          "name": "stdout"
        }
      ]
    },
    {
      "cell_type": "code",
      "metadata": {
        "colab": {
          "base_uri": "https://localhost:8080/"
        },
        "id": "REL_-PI4_tsG",
        "outputId": "d2c13c0a-b458-4ce3-84e8-4b277639baac"
      },
      "source": [
        "import jmespath\n",
        "\n",
        "persons = {\n",
        "   \"persons\": [\n",
        "     { \"name\": \"erik\", \"age\": 38 },\n",
        "     { \"name\": \"john\", \"age\": 45 },\n",
        "     { \"name\": \"rob\", \"age\": 14 }\n",
        "   ]\n",
        " }\n",
        "\n",
        "jmespath.search('persons[*].age', persons)"
      ],
      "execution_count": 44,
      "outputs": [
        {
          "output_type": "execute_result",
          "data": {
            "text/plain": [
              "[38, 45, 14]"
            ]
          },
          "metadata": {
            "tags": []
          },
          "execution_count": 44
        }
      ]
    },
    {
      "cell_type": "markdown",
      "metadata": {
        "id": "4lT1tjrj_-K-"
      },
      "source": [
        "# 22. Reversing strings and lists"
      ]
    },
    {
      "cell_type": "code",
      "metadata": {
        "colab": {
          "base_uri": "https://localhost:8080/"
        },
        "id": "a08vgdfb_z8F",
        "outputId": "b672f876-2375-4da2-e07d-2fe07770ff69"
      },
      "source": [
        "revstring = \"abcdefg\"[::-1]\n",
        "print(revstring)"
      ],
      "execution_count": 45,
      "outputs": [
        {
          "output_type": "stream",
          "text": [
            "gfedcba\n"
          ],
          "name": "stdout"
        }
      ]
    },
    {
      "cell_type": "code",
      "metadata": {
        "colab": {
          "base_uri": "https://localhost:8080/"
        },
        "id": "Q0Ulfo1G__dx",
        "outputId": "b6ae4284-4367-4537-b524-0c0177e22b1d"
      },
      "source": [
        "revarray = [1, 2, 3, 4, 5][::-1]\n",
        "print(revarray)"
      ],
      "execution_count": 46,
      "outputs": [
        {
          "output_type": "stream",
          "text": [
            "[5, 4, 3, 2, 1]\n"
          ],
          "name": "stdout"
        }
      ]
    },
    {
      "cell_type": "markdown",
      "metadata": {
        "id": "9Y3pitgbABmE"
      },
      "source": [
        "# 23. Get unique elements from a list or string"
      ]
    },
    {
      "cell_type": "code",
      "metadata": {
        "colab": {
          "base_uri": "https://localhost:8080/"
        },
        "id": "t2vCrUq3AAgw",
        "outputId": "41dd1d03-191b-46e0-9686-f6c0fd1e3be7"
      },
      "source": [
        "mylist = [1, 1, 2, 3, 4, 5, 5, 5, 6, 6]\n",
        "print (set(mylist))"
      ],
      "execution_count": 47,
      "outputs": [
        {
          "output_type": "stream",
          "text": [
            "{1, 2, 3, 4, 5, 6}\n"
          ],
          "name": "stdout"
        }
      ]
    },
    {
      "cell_type": "code",
      "metadata": {
        "colab": {
          "base_uri": "https://localhost:8080/"
        },
        "id": "bnZ3vU4mACoU",
        "outputId": "2180ac2b-feee-4aee-cfd7-925c81f483aa"
      },
      "source": [
        "print (set(\"aaabbbcccdddeeefff\"))"
      ],
      "execution_count": 48,
      "outputs": [
        {
          "output_type": "stream",
          "text": [
            "{'d', 'c', 'a', 'b', 'f', 'e'}\n"
          ],
          "name": "stdout"
        }
      ]
    },
    {
      "cell_type": "markdown",
      "metadata": {
        "id": "Qqm3pzlpAE8x"
      },
      "source": [
        "# 24. Use the _ in an interactive shell"
      ]
    },
    {
      "cell_type": "code",
      "metadata": {
        "colab": {
          "base_uri": "https://localhost:8080/"
        },
        "id": "2O-ArGc7ADr-",
        "outputId": "5e766845-7efb-46ac-86f4-32b25e76a1da"
      },
      "source": [
        "3*3"
      ],
      "execution_count": 49,
      "outputs": [
        {
          "output_type": "execute_result",
          "data": {
            "text/plain": [
              "9"
            ]
          },
          "metadata": {
            "tags": []
          },
          "execution_count": 49
        }
      ]
    },
    {
      "cell_type": "code",
      "metadata": {
        "colab": {
          "base_uri": "https://localhost:8080/"
        },
        "id": "gwJ0RdCJAIKr",
        "outputId": "c4e8c57b-2b89-485f-f66b-5608d3cb035e"
      },
      "source": [
        "_ + 3"
      ],
      "execution_count": 50,
      "outputs": [
        {
          "output_type": "execute_result",
          "data": {
            "text/plain": [
              "12"
            ]
          },
          "metadata": {
            "tags": []
          },
          "execution_count": 50
        }
      ]
    },
    {
      "cell_type": "markdown",
      "metadata": {
        "id": "8kxPEWKAAKPY"
      },
      "source": [
        "# 25. Ternary Operator For Conditional Assignment"
      ]
    },
    {
      "cell_type": "code",
      "metadata": {
        "id": "CkcX-hTsAJHM"
      },
      "source": [
        "y = 3\n",
        "x = \"Success!\" if (y == 2) else \"Failed!\""
      ],
      "execution_count": 52,
      "outputs": []
    },
    {
      "cell_type": "code",
      "metadata": {
        "colab": {
          "base_uri": "https://localhost:8080/",
          "height": 37
        },
        "id": "_q7gF-WqAMJ3",
        "outputId": "5460da84-149e-4c14-fe85-fa418819c4e8"
      },
      "source": [
        "x"
      ],
      "execution_count": 53,
      "outputs": [
        {
          "output_type": "execute_result",
          "data": {
            "application/vnd.google.colaboratory.intrinsic+json": {
              "type": "string"
            },
            "text/plain": [
              "'Failed!'"
            ]
          },
          "metadata": {
            "tags": []
          },
          "execution_count": 53
        }
      ]
    },
    {
      "cell_type": "markdown",
      "metadata": {
        "id": "H3pft-oMASre"
      },
      "source": [
        "# 26. Counting occurrences in a list"
      ]
    },
    {
      "cell_type": "code",
      "metadata": {
        "colab": {
          "base_uri": "https://localhost:8080/"
        },
        "id": "M8poRp2eAQje",
        "outputId": "97f2de27-3c2a-4ca7-955f-23c3b4b9c954"
      },
      "source": [
        "from collections import Counter\n",
        "\n",
        "mylist = [1, 1, 2, 3, 4, 5, 5, 5, 6, 6]\n",
        "c = Counter(mylist)\n",
        "print(c)\n",
        "\n",
        "# And it works on strings too:\n",
        "print(Counter(\"aaaaabbbbbccccc\"))"
      ],
      "execution_count": 54,
      "outputs": [
        {
          "output_type": "stream",
          "text": [
            "Counter({5: 3, 1: 2, 6: 2, 2: 1, 3: 1, 4: 1})\n",
            "Counter({'a': 5, 'b': 5, 'c': 5})\n"
          ],
          "name": "stdout"
        }
      ]
    },
    {
      "cell_type": "markdown",
      "metadata": {
        "id": "a-13saSmAW-h"
      },
      "source": [
        "# 27. Chaining comparison operators"
      ]
    },
    {
      "cell_type": "code",
      "metadata": {
        "colab": {
          "base_uri": "https://localhost:8080/"
        },
        "id": "_ERU6LXXAVgI",
        "outputId": "c47d7a41-f18a-4d73-e55e-ef3aafa93849"
      },
      "source": [
        "x = 10\n",
        "\n",
        "# Instead of:\n",
        "if x > 5 and x < 15:\n",
        "    print(\"Yes\")\n",
        "# yes\n",
        "\n",
        "# You can also write:\n",
        "if 5 < x < 15:\n",
        "    print(\"Yes\")"
      ],
      "execution_count": 55,
      "outputs": [
        {
          "output_type": "stream",
          "text": [
            "Yes\n",
            "Yes\n"
          ],
          "name": "stdout"
        }
      ]
    },
    {
      "cell_type": "markdown",
      "metadata": {
        "id": "WP6V9pcmAZ9_"
      },
      "source": [
        "# 28. Working with dates"
      ]
    },
    {
      "cell_type": "code",
      "metadata": {
        "colab": {
          "base_uri": "https://localhost:8080/"
        },
        "id": "cFEbORdjAcDh",
        "outputId": "c5b3b6c7-bd45-4a89-c73b-f5e4bd471d74"
      },
      "source": [
        "from dateutil.parser import parse\n",
        "\n",
        "logline = 'INFO 2020-01-01T00:00:01 Happy new year, human.'\n",
        "timestamp = parse(logline, fuzzy=True)\n",
        "print(timestamp)"
      ],
      "execution_count": 57,
      "outputs": [
        {
          "output_type": "stream",
          "text": [
            "2020-01-01 00:00:01\n"
          ],
          "name": "stdout"
        }
      ]
    },
    {
      "cell_type": "markdown",
      "metadata": {
        "id": "YMUiYj2JAkzi"
      },
      "source": [
        "# 29. Using map()"
      ]
    },
    {
      "cell_type": "code",
      "metadata": {
        "colab": {
          "base_uri": "https://localhost:8080/"
        },
        "id": "nOv7-Yb7Aewx",
        "outputId": "adede522-b5fc-464d-9f23-c6bafc1016cf"
      },
      "source": [
        "def upper(s):\n",
        "    return s.upper()\n",
        "    \n",
        "mylist = list(map(upper, ['sentence', 'fragment']))\n",
        "print(mylist)"
      ],
      "execution_count": 58,
      "outputs": [
        {
          "output_type": "stream",
          "text": [
            "['SENTENCE', 'FRAGMENT']\n"
          ],
          "name": "stdout"
        }
      ]
    },
    {
      "cell_type": "code",
      "metadata": {
        "colab": {
          "base_uri": "https://localhost:8080/"
        },
        "id": "e5-3dHItAn1i",
        "outputId": "eef6f82b-4b0e-42f3-9a6d-211282d38341"
      },
      "source": [
        "list_of_ints = list(map(int, \"1234567\"))\n",
        "print(list_of_ints)"
      ],
      "execution_count": 60,
      "outputs": [
        {
          "output_type": "stream",
          "text": [
            "[1, 2, 3, 4, 5, 6, 7]\n"
          ],
          "name": "stdout"
        }
      ]
    },
    {
      "cell_type": "markdown",
      "metadata": {
        "id": "WdsipjtQAqj6"
      },
      "source": [
        "# 30. Dictionary and set comprehensions"
      ]
    },
    {
      "cell_type": "code",
      "metadata": {
        "colab": {
          "base_uri": "https://localhost:8080/"
        },
        "id": "ryF2eQ_aApZa",
        "outputId": "2eb3f26f-4987-41f2-8682-a944d3dcf59e"
      },
      "source": [
        "{x: x**2 for x in (2, 4, 6)}"
      ],
      "execution_count": 61,
      "outputs": [
        {
          "output_type": "execute_result",
          "data": {
            "text/plain": [
              "{2: 4, 4: 16, 6: 36}"
            ]
          },
          "metadata": {
            "tags": []
          },
          "execution_count": 61
        }
      ]
    },
    {
      "cell_type": "code",
      "metadata": {
        "colab": {
          "base_uri": "https://localhost:8080/"
        },
        "id": "DCAaLGVaAt5j",
        "outputId": "e1de942a-1ba8-4d9c-d975-dbc39b640934"
      },
      "source": [
        "{s for s in range(1,5) if s % 2}"
      ],
      "execution_count": 62,
      "outputs": [
        {
          "output_type": "execute_result",
          "data": {
            "text/plain": [
              "{1, 3}"
            ]
          },
          "metadata": {
            "tags": []
          },
          "execution_count": 62
        }
      ]
    }
  ]
}