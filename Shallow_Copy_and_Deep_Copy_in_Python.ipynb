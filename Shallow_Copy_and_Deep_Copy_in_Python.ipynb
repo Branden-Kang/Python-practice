{
  "nbformat": 4,
  "nbformat_minor": 0,
  "metadata": {
    "colab": {
      "provenance": [],
      "authorship_tag": "ABX9TyOVlNrdk5xISgwE4P/hWTen"
    },
    "kernelspec": {
      "name": "python3",
      "display_name": "Python 3"
    },
    "language_info": {
      "name": "python"
    }
  },
  "cells": [
    {
      "cell_type": "markdown",
      "source": [
        "[Reference](https://medium.com/aatomz-research/youll-never-forget-shallow-copy-and-deep-copy-in-python-after-reading-this-b2bef9aa57a)"
      ],
      "metadata": {
        "id": "jkCwWShDBBOC"
      }
    },
    {
      "cell_type": "markdown",
      "source": [
        "# 1. Using Reference (Both Pain and Benefits)\n"
      ],
      "metadata": {
        "id": "_wSjFxs0BDxT"
      }
    },
    {
      "cell_type": "code",
      "execution_count": 1,
      "metadata": {
        "colab": {
          "base_uri": "https://localhost:8080/"
        },
        "id": "hlGA0Xk3A-72",
        "outputId": "a23ffb4a-4267-4c2c-a07c-2ff3a6c3f333"
      },
      "outputs": [
        {
          "output_type": "stream",
          "name": "stdout",
          "text": [
            "Original: [5 6 7 8 9]\n",
            "Reference: [5 6 7 8 9]\n"
          ]
        }
      ],
      "source": [
        "import pandas as pd\n",
        "import numpy as np\n",
        "original_array=np.array([5,6,7,8,9])\n",
        "ref_array=original_array\n",
        "print(f'Original: {original_array}')\n",
        "print(f'Reference: {ref_array}')"
      ]
    },
    {
      "cell_type": "code",
      "source": [
        "original_array[2]=4\n",
        "print(f'Original:{original_array}')\n",
        "print(f'ref_array:{ref_array}')"
      ],
      "metadata": {
        "colab": {
          "base_uri": "https://localhost:8080/"
        },
        "id": "o2D7dq93BFZN",
        "outputId": "3d169f3e-a6ac-4c46-e2b9-7c21192e9c59"
      },
      "execution_count": 3,
      "outputs": [
        {
          "output_type": "stream",
          "name": "stdout",
          "text": [
            "Original:[5 6 4 8 9]\n",
            "ref_array:[5 6 4 8 9]\n"
          ]
        }
      ]
    },
    {
      "cell_type": "markdown",
      "source": [
        "# 2. Using Shallow Copy (Only Pain, No Benefits)\n"
      ],
      "metadata": {
        "id": "5o25gI8sBHKx"
      }
    },
    {
      "cell_type": "code",
      "source": [
        "import copy\n",
        "original=np.array([1,3,5,7])\n",
        "new=copy.copy(original)\n",
        "print(f'Original :{original}')\n",
        "print(f'New Value :{new}')"
      ],
      "metadata": {
        "colab": {
          "base_uri": "https://localhost:8080/"
        },
        "id": "2fEKX1n4BGUk",
        "outputId": "3451057c-7cf9-49ac-9399-ee5644e8cacd"
      },
      "execution_count": 5,
      "outputs": [
        {
          "output_type": "stream",
          "name": "stdout",
          "text": [
            "Original :[1 3 5 7]\n",
            "New Value :[1 3 5 7]\n"
          ]
        }
      ]
    },
    {
      "cell_type": "code",
      "source": [
        "original=np.append(original,[9])\n",
        "print(f'After appending 9 the Orginal if: {original}')\n",
        "print(f'New Value is : {new}')"
      ],
      "metadata": {
        "colab": {
          "base_uri": "https://localhost:8080/"
        },
        "id": "GcRAfLTXBUqE",
        "outputId": "125174d1-b027-45e0-926c-b6c453791afb"
      },
      "execution_count": 6,
      "outputs": [
        {
          "output_type": "stream",
          "name": "stdout",
          "text": [
            "After appending 9 the Orginal if: [1 3 5 7 9]\n",
            "New Value is : [1 3 5 7]\n"
          ]
        }
      ]
    },
    {
      "cell_type": "code",
      "source": [
        "import copy\n",
        "old = [[1,3,5],[2,4,6]]\n",
        "new = copy.copy(old)\n",
        "old[1][1] = 8\n",
        "print(\"Old list:\", old)\n",
        "print(\"New list:\", new)"
      ],
      "metadata": {
        "colab": {
          "base_uri": "https://localhost:8080/"
        },
        "id": "pwexm6OvBbtn",
        "outputId": "b2238968-b7c1-458c-afb8-d790586d3318"
      },
      "execution_count": 7,
      "outputs": [
        {
          "output_type": "stream",
          "name": "stdout",
          "text": [
            "Old list: [[1, 3, 5], [2, 8, 6]]\n",
            "New list: [[1, 3, 5], [2, 8, 6]]\n"
          ]
        }
      ]
    },
    {
      "cell_type": "markdown",
      "source": [
        "# 3. Using Deep Copy (No Pain, No Benefits)\n"
      ],
      "metadata": {
        "id": "TLhH3QkoBg2m"
      }
    },
    {
      "cell_type": "code",
      "source": [
        "import copy\n",
        "old = [[1,3,5],[2,4,6]]\n",
        "new = copy.deepcopy(old)\n",
        "old[1][2] = 8\n",
        "print(\"Old list:\", old)\n",
        "print(\"New list:\", new)"
      ],
      "metadata": {
        "colab": {
          "base_uri": "https://localhost:8080/"
        },
        "id": "OvqlZwtQBedT",
        "outputId": "010d5485-7234-4519-dcea-28154f7e6a7c"
      },
      "execution_count": 8,
      "outputs": [
        {
          "output_type": "stream",
          "name": "stdout",
          "text": [
            "Old list: [[1, 3, 5], [2, 4, 8]]\n",
            "New list: [[1, 3, 5], [2, 4, 6]]\n"
          ]
        }
      ]
    }
  ]
}