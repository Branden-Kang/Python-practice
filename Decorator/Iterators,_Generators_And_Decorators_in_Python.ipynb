{
  "nbformat": 4,
  "nbformat_minor": 0,
  "metadata": {
    "colab": {
      "name": "Iterators, Generators And Decorators in Python.ipynb",
      "provenance": [],
      "authorship_tag": "ABX9TyN9YpAuz8yj0XCgLU+5pNO7"
    },
    "kernelspec": {
      "name": "python3",
      "display_name": "Python 3"
    }
  },
  "cells": [
    {
      "cell_type": "markdown",
      "metadata": {
        "id": "pET_peEePgjn"
      },
      "source": [
        "[Reference](https://medium.com/python-in-plain-english/python-iterators-generators-and-decorators-made-easy-659cae26054f)"
      ]
    },
    {
      "cell_type": "markdown",
      "metadata": {
        "id": "59CsglbtP12S"
      },
      "source": [
        "# Iterators"
      ]
    },
    {
      "cell_type": "code",
      "metadata": {
        "id": "EBgP9V13PQtT"
      },
      "source": [
        "class example_range:\n",
        "    def __init__(self, n):\n",
        "        self.i = 4\n",
        "        self.n = n\n",
        "        \n",
        "    def __iter__(self):\n",
        "        return self\n",
        "    \n",
        "    def __next__(self):\n",
        "        if self.i < self.n:\n",
        "            i = self.i\n",
        "            self.i += 1\n",
        "            return i\n",
        "        else:\n",
        "            raise StopIteration()"
      ],
      "execution_count": 2,
      "outputs": []
    },
    {
      "cell_type": "code",
      "metadata": {
        "id": "KBc_eegLPjac",
        "outputId": "d0412930-5c16-4299-a8da-e3de27e43d08",
        "colab": {
          "base_uri": "https://localhost:8080/"
        }
      },
      "source": [
        "n= example_range(10)\n",
        "list(n)"
      ],
      "execution_count": 3,
      "outputs": [
        {
          "output_type": "execute_result",
          "data": {
            "text/plain": [
              "[4, 5, 6, 7, 8, 9]"
            ]
          },
          "metadata": {
            "tags": []
          },
          "execution_count": 3
        }
      ]
    },
    {
      "cell_type": "markdown",
      "metadata": {
        "id": "uQCm7IgUP0R0"
      },
      "source": [
        "# Generators"
      ]
    },
    {
      "cell_type": "code",
      "metadata": {
        "id": "ZIAttjM8PoeL",
        "outputId": "dbb8a20d-d17e-47b9-b227-d41440d5fc57",
        "colab": {
          "base_uri": "https://localhost:8080/"
        }
      },
      "source": [
        "def test_sequence():\n",
        "    num = 0\n",
        "    while num<10:\n",
        "        yield num\n",
        "        num += 1\n",
        "for i in test_sequence():\n",
        "       print(i, end=\",\")"
      ],
      "execution_count": 4,
      "outputs": [
        {
          "output_type": "stream",
          "text": [
            "0,1,2,3,4,5,6,7,8,9,"
          ],
          "name": "stdout"
        }
      ]
    },
    {
      "cell_type": "code",
      "metadata": {
        "id": "VZ3XBHXsP5En",
        "outputId": "25fc0900-6442-4329-ffd5-c84cffabc505",
        "colab": {
          "base_uri": "https://localhost:8080/"
        }
      },
      "source": [
        "#Reverse a string\n",
        "def reverse_str(test_str):\n",
        "    length = len(test_str)\n",
        "    for i in range(length - 1, -1, -1):\n",
        "        yield test_str[i]\n",
        "\n",
        "for char in reverse_str(\"Trojan\"):\n",
        "    print(char,end =\" \")"
      ],
      "execution_count": 5,
      "outputs": [
        {
          "output_type": "stream",
          "text": [
            "n a j o r T "
          ],
          "name": "stdout"
        }
      ]
    },
    {
      "cell_type": "code",
      "metadata": {
        "id": "mylxonH-P9FI",
        "outputId": "f48c251e-b7b3-474c-e257-19aa38d5977b",
        "colab": {
          "base_uri": "https://localhost:8080/"
        }
      },
      "source": [
        "# Initialize the list\n",
        "test_list = [1, 3, 6, 10]# list comprehension\n",
        "list_comprehension = [x**3 for x in test_list]# generator expression\n",
        "test_generator = (x**3 for x in test_list)\n",
        "\n",
        "print(list_comprehension)\n",
        "print(type(test_generator))\n",
        "print(tuple(test_generator))"
      ],
      "execution_count": 8,
      "outputs": [
        {
          "output_type": "stream",
          "text": [
            "[1, 27, 216, 1000]\n",
            "<class 'generator'>\n",
            "(1, 27, 216, 1000)\n"
          ],
          "name": "stdout"
        }
      ]
    },
    {
      "cell_type": "code",
      "metadata": {
        "id": "frdMv0bKP_xE",
        "outputId": "87075134-e80b-46f1-edd4-ae1aedcc0dde",
        "colab": {
          "base_uri": "https://localhost:8080/"
        }
      },
      "source": [
        "import sys\n",
        "cubed_list = [i ** 3 for i in range(10000)]\n",
        "print(\"List comprehension size(bytes):\", sys.getsizeof(cubed_list))\n",
        "\n",
        "cubed_generator = (i ** 3 for i in range(10000))\n",
        "print(\"Generator Expression object(bytes):\", sys.getsizeof(cubed_generator))"
      ],
      "execution_count": 9,
      "outputs": [
        {
          "output_type": "stream",
          "text": [
            "List comprehension size(bytes): 87624\n",
            "Generator Expression object(bytes): 88\n"
          ],
          "name": "stdout"
        }
      ]
    },
    {
      "cell_type": "code",
      "metadata": {
        "id": "pDqavak1QJb8",
        "outputId": "cf8cd04c-da2f-4600-962c-efacd7865903",
        "colab": {
          "base_uri": "https://localhost:8080/"
        }
      },
      "source": [
        "import cProfile as profiling \n",
        "#list comprehension profiling\n",
        "profiling.run('sum([i ** 3 for i in range(10000)])')\n",
        "#Generator Expression profiling\n",
        "profiling.run('sum((i ** 3 for i in range(10000)))')"
      ],
      "execution_count": 10,
      "outputs": [
        {
          "output_type": "stream",
          "text": [
            "         5 function calls in 0.004 seconds\n",
            "\n",
            "   Ordered by: standard name\n",
            "\n",
            "   ncalls  tottime  percall  cumtime  percall filename:lineno(function)\n",
            "        1    0.003    0.003    0.003    0.003 <string>:1(<listcomp>)\n",
            "        1    0.000    0.000    0.004    0.004 <string>:1(<module>)\n",
            "        1    0.000    0.000    0.004    0.004 {built-in method builtins.exec}\n",
            "        1    0.000    0.000    0.000    0.000 {built-in method builtins.sum}\n",
            "        1    0.000    0.000    0.000    0.000 {method 'disable' of '_lsprof.Profiler' objects}\n",
            "\n",
            "\n",
            "         10005 function calls in 0.004 seconds\n",
            "\n",
            "   Ordered by: standard name\n",
            "\n",
            "   ncalls  tottime  percall  cumtime  percall filename:lineno(function)\n",
            "    10001    0.003    0.000    0.003    0.000 <string>:1(<genexpr>)\n",
            "        1    0.000    0.000    0.004    0.004 <string>:1(<module>)\n",
            "        1    0.000    0.000    0.004    0.004 {built-in method builtins.exec}\n",
            "        1    0.001    0.001    0.004    0.004 {built-in method builtins.sum}\n",
            "        1    0.000    0.000    0.000    0.000 {method 'disable' of '_lsprof.Profiler' objects}\n",
            "\n",
            "\n"
          ],
          "name": "stdout"
        }
      ]
    },
    {
      "cell_type": "markdown",
      "metadata": {
        "id": "B-Hg_CfVQOh8"
      },
      "source": [
        "# Decorator"
      ]
    },
    {
      "cell_type": "code",
      "metadata": {
        "id": "fPrGovpxQL4n",
        "outputId": "4ab27e70-c900-4061-8438-dc8eb2d7bad6",
        "colab": {
          "base_uri": "https://localhost:8080/"
        }
      },
      "source": [
        "def test_decorator(func):\n",
        "    def function_wrapper(x):\n",
        "        print(\"Before calling \" + func.__name__)\n",
        "        res = func(x)\n",
        "        print(res)\n",
        "        print(\"After calling \" + func.__name__)\n",
        "    return function_wrapper\n",
        "    \n",
        "@test_decorator\n",
        "def sqr(n):\n",
        "    return n ** 2\n",
        "    \n",
        "sqr(54)"
      ],
      "execution_count": 12,
      "outputs": [
        {
          "output_type": "stream",
          "text": [
            "Before calling sqr\n",
            "2916\n",
            "After calling sqr\n"
          ],
          "name": "stdout"
        }
      ]
    },
    {
      "cell_type": "code",
      "metadata": {
        "id": "mq2IKazNQR-d",
        "outputId": "0626c447-98ca-42af-ee57-3b1006210529",
        "colab": {
          "base_uri": "https://localhost:8080/"
        }
      },
      "source": [
        "def lowercase_decorator(function):\n",
        "    def wrapper():\n",
        "        func = function()\n",
        "        make_lowercase = func.lower()\n",
        "        return make_lowercase\n",
        "    return wrapper\n",
        "\n",
        "def split_string(function):\n",
        "    def wrapper():\n",
        "        func = function()\n",
        "        split_string = func.split()\n",
        "        return split_string\n",
        "    return wrapper\n",
        "\n",
        "@split_string\n",
        "@lowercase_decorator\n",
        "def test_func():\n",
        "    return 'MOTHER OF DRAGONS'\n",
        "test_func()"
      ],
      "execution_count": 15,
      "outputs": [
        {
          "output_type": "execute_result",
          "data": {
            "text/plain": [
              "['mother', 'of', 'dragons']"
            ]
          },
          "metadata": {
            "tags": []
          },
          "execution_count": 15
        }
      ]
    }
  ]
}