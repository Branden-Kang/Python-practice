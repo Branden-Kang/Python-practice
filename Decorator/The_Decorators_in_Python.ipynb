{
  "nbformat": 4,
  "nbformat_minor": 0,
  "metadata": {
    "colab": {
      "name": "The Decorators in Python.ipynb",
      "provenance": [],
      "authorship_tag": "ABX9TyOnlOCqyzNp3HJn3Z1rL2lg"
    },
    "kernelspec": {
      "name": "python3",
      "display_name": "Python 3"
    },
    "language_info": {
      "name": "python"
    }
  },
  "cells": [
    {
      "cell_type": "markdown",
      "metadata": {
        "id": "ogWLDf0BOR9I"
      },
      "source": [
        "[Reference](https://medium.com/analytics-vidhya/decorators-in-python-eb05dbf9949b)"
      ]
    },
    {
      "cell_type": "code",
      "metadata": {
        "colab": {
          "base_uri": "https://localhost:8080/"
        },
        "id": "FD61dLITOMTj",
        "outputId": "a42f3b97-4a54-4818-df2a-0aa1035c29e3"
      },
      "source": [
        "# Function to calculate factorial\n",
        "\n",
        "def factorial(n):\n",
        "    factorial = 1\n",
        "    if n == 0:\n",
        "        print(\"The factorial of 0 is\", factorial)\n",
        "    else:\n",
        "        for i in range(1,n+1):\n",
        "            factorial = factorial*i\n",
        "        print(\"The factorial of\", n , \"is\", factorial)\n",
        "    \n",
        "print(\"Case 1 - Factorial of 50\")\n",
        "factorial(50)\n",
        "\n",
        "print(\"\\n\")\n",
        "print(\"Case 2 - Factorial of 0\")\n",
        "factorial(0)"
      ],
      "execution_count": 2,
      "outputs": [
        {
          "output_type": "stream",
          "text": [
            "Case 1 - Factorial of 50\n",
            "The factorial of 50 is 30414093201713378043612608166064768844377641568960512000000000000\n",
            "\n",
            "\n",
            "Case 2 - Factorial of 0\n",
            "The factorial of 0 is 1\n"
          ],
          "name": "stdout"
        }
      ]
    },
    {
      "cell_type": "code",
      "metadata": {
        "colab": {
          "base_uri": "https://localhost:8080/",
          "height": 385
        },
        "id": "BNEBjbSFPAcO",
        "outputId": "a77a5111-4700-472b-a51d-e6aecd3940b7"
      },
      "source": [
        "# Case 1. Factorial of an integer\n",
        "factorial(10)\n",
        "\n",
        "# Case 2 - Factorial of a negative number\n",
        "factorial(-10)\n",
        "\n",
        "# Case 3 - Factorial of a non-integer\n",
        "factorial(10.5)"
      ],
      "execution_count": 3,
      "outputs": [
        {
          "output_type": "stream",
          "text": [
            "The factorial of 10 is 3628800\n",
            "The factorial of -10 is 1\n"
          ],
          "name": "stdout"
        },
        {
          "output_type": "error",
          "ename": "TypeError",
          "evalue": "ignored",
          "traceback": [
            "\u001b[0;31m---------------------------------------------------------------------------\u001b[0m",
            "\u001b[0;31mTypeError\u001b[0m                                 Traceback (most recent call last)",
            "\u001b[0;32m<ipython-input-3-1c715a47f0ba>\u001b[0m in \u001b[0;36m<module>\u001b[0;34m()\u001b[0m\n\u001b[1;32m      6\u001b[0m \u001b[0;34m\u001b[0m\u001b[0m\n\u001b[1;32m      7\u001b[0m \u001b[0;31m# Case 3 - Factorial of a non-integer\u001b[0m\u001b[0;34m\u001b[0m\u001b[0;34m\u001b[0m\u001b[0;34m\u001b[0m\u001b[0m\n\u001b[0;32m----> 8\u001b[0;31m \u001b[0mfactorial\u001b[0m\u001b[0;34m(\u001b[0m\u001b[0;36m10.5\u001b[0m\u001b[0;34m)\u001b[0m\u001b[0;34m\u001b[0m\u001b[0;34m\u001b[0m\u001b[0m\n\u001b[0m",
            "\u001b[0;32m<ipython-input-2-12aa45742130>\u001b[0m in \u001b[0;36mfactorial\u001b[0;34m(n)\u001b[0m\n\u001b[1;32m      6\u001b[0m         \u001b[0mprint\u001b[0m\u001b[0;34m(\u001b[0m\u001b[0;34m\"The factorial of 0 is\"\u001b[0m\u001b[0;34m,\u001b[0m \u001b[0mfactorial\u001b[0m\u001b[0;34m)\u001b[0m\u001b[0;34m\u001b[0m\u001b[0;34m\u001b[0m\u001b[0m\n\u001b[1;32m      7\u001b[0m     \u001b[0;32melse\u001b[0m\u001b[0;34m:\u001b[0m\u001b[0;34m\u001b[0m\u001b[0;34m\u001b[0m\u001b[0m\n\u001b[0;32m----> 8\u001b[0;31m         \u001b[0;32mfor\u001b[0m \u001b[0mi\u001b[0m \u001b[0;32min\u001b[0m \u001b[0mrange\u001b[0m\u001b[0;34m(\u001b[0m\u001b[0;36m1\u001b[0m\u001b[0;34m,\u001b[0m\u001b[0mn\u001b[0m\u001b[0;34m+\u001b[0m\u001b[0;36m1\u001b[0m\u001b[0;34m)\u001b[0m\u001b[0;34m:\u001b[0m\u001b[0;34m\u001b[0m\u001b[0;34m\u001b[0m\u001b[0m\n\u001b[0m\u001b[1;32m      9\u001b[0m             \u001b[0mfactorial\u001b[0m \u001b[0;34m=\u001b[0m \u001b[0mfactorial\u001b[0m\u001b[0;34m*\u001b[0m\u001b[0mi\u001b[0m\u001b[0;34m\u001b[0m\u001b[0;34m\u001b[0m\u001b[0m\n\u001b[1;32m     10\u001b[0m         \u001b[0mprint\u001b[0m\u001b[0;34m(\u001b[0m\u001b[0;34m\"The factorial of\"\u001b[0m\u001b[0;34m,\u001b[0m \u001b[0mn\u001b[0m \u001b[0;34m,\u001b[0m \u001b[0;34m\"is\"\u001b[0m\u001b[0;34m,\u001b[0m \u001b[0mfactorial\u001b[0m\u001b[0;34m)\u001b[0m\u001b[0;34m\u001b[0m\u001b[0;34m\u001b[0m\u001b[0m\n",
            "\u001b[0;31mTypeError\u001b[0m: 'float' object cannot be interpreted as an integer"
          ]
        }
      ]
    },
    {
      "cell_type": "code",
      "metadata": {
        "colab": {
          "base_uri": "https://localhost:8080/"
        },
        "id": "e3u1itWkPEfs",
        "outputId": "fe852c59-f98e-47b4-b6bf-df484ed68f86"
      },
      "source": [
        "def check_parameters (func):\n",
        "    def inner(*args):\n",
        "        for i in args:\n",
        "            if i < 0:\n",
        "                print(\"Do you really not know that factorial doesn't exist for the negative numbers ?\")\n",
        "                return\n",
        "            elif not isinstance(i,int):\n",
        "                print(\"Do'h! Only the integers have factorial.\")\n",
        "                return\n",
        "            return func(*args)\n",
        "    return inner\n",
        "\n",
        "@check_parameters\n",
        "def factorial(n):\n",
        "    factorial = 1\n",
        "    if n == 0:\n",
        "        print(\"The factorial of 0 is\", factorial)\n",
        "    else:\n",
        "        for i in range(1,n+1):\n",
        "            factorial = factorial*i\n",
        "        print(\"The factorial of\", n , \"is\", factorial)\n",
        "        \n",
        "print(\"Case 1. Factorial of an integer\")\n",
        "factorial(10)\n",
        "\n",
        "print(\"\\nCase 2 - Factorial of a negative number\")\n",
        "factorial(-10)\n",
        "\n",
        "print(\"\\nCase 3 - Factorial of a non-integer\")\n",
        "factorial(10.5)\n"
      ],
      "execution_count": 4,
      "outputs": [
        {
          "output_type": "stream",
          "text": [
            "Case 1. Factorial of an integer\n",
            "The factorial of 10 is 3628800\n",
            "\n",
            "Case 2 - Factorial of a negative number\n",
            "Do you really not know that factorial doesn't exist for the negative numbers ?\n",
            "\n",
            "Case 3 - Factorial of a non-integer\n",
            "Do'h! Only the integers have factorial.\n"
          ],
          "name": "stdout"
        }
      ]
    },
    {
      "cell_type": "code",
      "metadata": {
        "colab": {
          "base_uri": "https://localhost:8080/"
        },
        "id": "MHHSeg56PHgA",
        "outputId": "6fdcfa8e-4569-49ec-c436-c2c324e59ed2"
      },
      "source": [
        "# Another way to call the decorators\n",
        "\n",
        "check_parameters(factorial(5))\n",
        "\n",
        "check_parameters(factorial(-5))"
      ],
      "execution_count": 5,
      "outputs": [
        {
          "output_type": "stream",
          "text": [
            "The factorial of 5 is 120\n",
            "Do you really not know that factorial doesn't exist for the negative numbers ?\n"
          ],
          "name": "stdout"
        },
        {
          "output_type": "execute_result",
          "data": {
            "text/plain": [
              "<function __main__.check_parameters.<locals>.inner>"
            ]
          },
          "metadata": {
            "tags": []
          },
          "execution_count": 5
        }
      ]
    },
    {
      "cell_type": "code",
      "metadata": {
        "colab": {
          "base_uri": "https://localhost:8080/"
        },
        "id": "UjiJ9Jw4PKVa",
        "outputId": "2d418199-2a97-4e0a-9e96-f4035a87b7cd"
      },
      "source": [
        "#Decorator to calculate execution time of a function\n",
        "\n",
        "import time\n",
        "from decimal import Decimal\n",
        "\n",
        "def timer(func):\n",
        "    def inner1(*args, **kwargs):\n",
        "        # Store time before execution of the fucntion\n",
        "        begin = time.time()\n",
        "        \n",
        "        func(*args, **kwargs)\n",
        "        \n",
        "        # Store time after execution of the function\n",
        "        end = time.time()\n",
        "        \n",
        "        print(\"Total time taken to calculate factorial: \", end - begin)\n",
        "    return inner1\n",
        "\n",
        "@timer\n",
        "def factorial(n):\n",
        "    factorial = 1\n",
        "    if n == 0:\n",
        "        print(\"The factorial of 0 is\", factorial)\n",
        "    else:\n",
        "        for i in range(1,n+1):\n",
        "            factorial = factorial*i\n",
        "        print(\"The factorial of\", n , \"is\", \"{:.2E}\".format(Decimal(factorial)))\n",
        "        \n",
        "print(\"Case 1. Factorial of small number\")\n",
        "factorial(1000)\n",
        "\n",
        "print(\"\\nCase2. Factorial of huge number\")\n",
        "factorial(100000)"
      ],
      "execution_count": 6,
      "outputs": [
        {
          "output_type": "stream",
          "text": [
            "Case 1. Factorial of small number\n",
            "The factorial of 1000 is 4.02E+2567\n",
            "Total time taken to calculate factorial:  0.0011057853698730469\n",
            "\n",
            "Case2. Factorial of huge number\n",
            "The factorial of 100000 is 2.82E+456573\n",
            "Total time taken to calculate factorial:  23.71483826637268\n"
          ],
          "name": "stdout"
        }
      ]
    },
    {
      "cell_type": "code",
      "metadata": {
        "colab": {
          "base_uri": "https://localhost:8080/"
        },
        "id": "bODZy-yZPPcz",
        "outputId": "949759f7-a346-4756-bb6d-05d9cb3bdb0c"
      },
      "source": [
        "@check_parameters\n",
        "@timer\n",
        "def factorial(n):\n",
        "    factorial = 1\n",
        "    if n == 0:\n",
        "        print(\"The factorial of 0 is\", factorial)\n",
        "    else:\n",
        "        for i in range(1,n+1):\n",
        "            factorial = factorial*i\n",
        "        print(\"The factorial of\", n , \"is\", \"{:.2E}\".format(Decimal(factorial)))\n",
        "\n",
        "print(\"Case 1. Factorial of 1000\")\n",
        "factorial(1000)\n",
        "\n",
        "print(\"\\nCase 2. Factorial of 10000\")\n",
        "factorial(10000)\n",
        "\n",
        "print(\"\\nCase 3. Factorial of Negative Number\")\n",
        "factorial(-10)\n",
        "\n",
        "print(\"\\nCase 4. Factorial of Non-Integer\")\n",
        "factorial(10.5)"
      ],
      "execution_count": 7,
      "outputs": [
        {
          "output_type": "stream",
          "text": [
            "Case 1. Factorial of 1000\n",
            "The factorial of 1000 is 4.02E+2567\n",
            "Total time taken to calculate factorial:  0.001104593276977539\n",
            "\n",
            "Case 2. Factorial of 10000\n",
            "The factorial of 10000 is 2.85E+35659\n",
            "Total time taken to calculate factorial:  0.15308618545532227\n",
            "\n",
            "Case 3. Factorial of Negative Number\n",
            "Do you really not know that factorial doesn't exist for the negative numbers ?\n",
            "\n",
            "Case 4. Factorial of Non-Integer\n",
            "Do'h! Only the integers have factorial.\n"
          ],
          "name": "stdout"
        }
      ]
    }
  ]
}