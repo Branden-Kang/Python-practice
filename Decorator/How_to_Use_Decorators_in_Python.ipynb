{
  "nbformat": 4,
  "nbformat_minor": 0,
  "metadata": {
    "colab": {
      "name": "How to Use Decorators in Python.ipynb",
      "provenance": [],
      "authorship_tag": "ABX9TyNeSk9BwzpJfhDLnOaCD5e4"
    },
    "kernelspec": {
      "name": "python3",
      "display_name": "Python 3"
    },
    "language_info": {
      "name": "python"
    }
  },
  "cells": [
    {
      "cell_type": "markdown",
      "metadata": {
        "id": "OksYpIuuyDxF"
      },
      "source": [
        "[Reference](https://towardsdatascience.com/how-to-use-decorators-in-python-by-example-b398328163b)"
      ]
    },
    {
      "cell_type": "markdown",
      "metadata": {
        "id": "rDpF2F0MyHYm"
      },
      "source": [
        "# 1. add_together function"
      ]
    },
    {
      "cell_type": "code",
      "metadata": {
        "colab": {
          "base_uri": "https://localhost:8080/"
        },
        "id": "zP2zxuj8x_x6",
        "outputId": "522c68e9-0580-4d2c-9395-17082d3134d5"
      },
      "source": [
        "def add_together(a, b):\n",
        "    return a + b\n",
        "\n",
        "print(add_together(4, 6))"
      ],
      "execution_count": 1,
      "outputs": [
        {
          "output_type": "stream",
          "text": [
            "10\n"
          ],
          "name": "stdout"
        }
      ]
    },
    {
      "cell_type": "code",
      "metadata": {
        "id": "wx3FhwzfyRHa"
      },
      "source": [
        "def decorator_list(fnc):\n",
        "    def inner(list_of_tuples):\n",
        "        return [fnc(val[0], val[1]) for val in list_of_tuples]\n",
        "    return inner"
      ],
      "execution_count": 3,
      "outputs": []
    },
    {
      "cell_type": "code",
      "metadata": {
        "id": "hoJf7gZbyM7A"
      },
      "source": [
        "add_together = decorator_list(add_together)"
      ],
      "execution_count": 4,
      "outputs": []
    },
    {
      "cell_type": "code",
      "metadata": {
        "colab": {
          "base_uri": "https://localhost:8080/"
        },
        "id": "nVo-dHhCyQLe",
        "outputId": "965c4169-dd76-4684-bac5-b0edb9c79807"
      },
      "source": [
        "@decorator_list\n",
        "def add_together(a, b):\n",
        "    return a + b\n",
        "\n",
        "print(add_together([(1, 3), (3, 17), (5, 5), (6, 7)]))"
      ],
      "execution_count": 5,
      "outputs": [
        {
          "output_type": "stream",
          "text": [
            "[4, 20, 10, 13]\n"
          ],
          "name": "stdout"
        }
      ]
    },
    {
      "cell_type": "markdown",
      "metadata": {
        "id": "T-LPUDMsymxE"
      },
      "source": [
        "# 2. Decorators that can take arguments themselves"
      ]
    },
    {
      "cell_type": "code",
      "metadata": {
        "colab": {
          "base_uri": "https://localhost:8080/"
        },
        "id": "tn1CosHJykQc",
        "outputId": "17b64756-cab0-4e9a-e8d5-21c0f47d87bd"
      },
      "source": [
        "# Part 2\n",
        "def meta_decorator(power):\n",
        "    def decorator_list(fnc):\n",
        "        def inner(list_of_tuples):\n",
        "            return [(fnc(val[0], val[1])) ** power for val in list_of_tuples]\n",
        "        return inner\n",
        "    return decorator_list\n",
        "\n",
        "\n",
        "@meta_decorator(2)\n",
        "def add_together(a, b):\n",
        "    return a + b\n",
        "\n",
        "\n",
        "print(add_together([(1, 3), (3, 17), (5, 5), (6, 7)]))"
      ],
      "execution_count": 6,
      "outputs": [
        {
          "output_type": "stream",
          "text": [
            "[16, 400, 100, 169]\n"
          ],
          "name": "stdout"
        }
      ]
    },
    {
      "cell_type": "markdown",
      "metadata": {
        "id": "7l7G1VM6zanu"
      },
      "source": [
        "# 3. Default arguments in Decorator"
      ]
    },
    {
      "cell_type": "code",
      "metadata": {
        "id": "Z3AiE4GtysDo"
      },
      "source": [
        "def meta_decorator(arg):\n",
        "    def decorator_list(fnc):\n",
        "        def inner(list_of_tuples):\n",
        "            return [(fnc(val[0], val[1])) ** power for val in list_of_tuples]\n",
        "        return inner\n",
        "    if callable(arg):\n",
        "        power = 2\n",
        "        return decorator_list(arg)\n",
        "    else:\n",
        "        power = arg\n",
        "        return decorator_list\n",
        "\n",
        "\n",
        "@meta_decorator\n",
        "def add_together(a, b):\n",
        "    return a + b"
      ],
      "execution_count": 7,
      "outputs": []
    }
  ]
}