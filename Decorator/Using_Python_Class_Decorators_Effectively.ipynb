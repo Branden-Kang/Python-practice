{
  "nbformat": 4,
  "nbformat_minor": 0,
  "metadata": {
    "colab": {
      "provenance": [],
      "authorship_tag": "ABX9TyN1NHcKx2uSq4fOBWWWxtzW"
    },
    "kernelspec": {
      "name": "python3",
      "display_name": "Python 3"
    },
    "language_info": {
      "name": "python"
    }
  },
  "cells": [
    {
      "cell_type": "markdown",
      "source": [
        "[Reference](https://learningdaily.dev/using-python-class-decorators-effectively-2a6a1a400dec)"
      ],
      "metadata": {
        "id": "aiUDuhWVs9AQ"
      }
    },
    {
      "cell_type": "code",
      "execution_count": 1,
      "metadata": {
        "colab": {
          "base_uri": "https://localhost:8080/"
        },
        "id": "NLBd9EHBs43y",
        "outputId": "0f7a2c52-63f3-4e5d-d9ce-150379431edd"
      },
      "outputs": [
        {
          "output_type": "stream",
          "name": "stdout",
          "text": [
            "Debugging:\n",
            "You are John from Los Angeles\n"
          ]
        }
      ],
      "source": [
        "def debug(function):\n",
        "    def wrapper(name, address):\n",
        "      print ('Debugging:')\n",
        "      func = function(name, address)\n",
        "      print (func)\n",
        "    return wrapper\n",
        "\n",
        "@debug\n",
        "def typical_crunching_function(name, city):\n",
        "  return 'You are '+ name + ' from '+ city\n",
        "\n",
        "typical_crunching_function('John','Los Angeles')"
      ]
    },
    {
      "cell_type": "code",
      "source": [
        "class Accolade:\n",
        "  def __init__(self, function):\n",
        "    self.function = function\n",
        "\n",
        "\n",
        "  def __call__ (self, name):\n",
        "    # Adding Excellency before name\n",
        "    name = \"Excellency \" + name\n",
        "    self.function(name)\n",
        "    # Saluting after the name\n",
        "    print(\"Thanks \"+ name+ \" for gracing the occasion\")\n",
        "\n",
        "@Accolade\n",
        "def simple_function(name):\n",
        "  print (name)\n",
        "\n",
        "simple_function('John McKinsey')"
      ],
      "metadata": {
        "colab": {
          "base_uri": "https://localhost:8080/"
        },
        "id": "0VahKm7os__f",
        "outputId": "f6e1ae3c-4afc-498a-ab7a-c8e6477938cc"
      },
      "execution_count": 2,
      "outputs": [
        {
          "output_type": "stream",
          "name": "stdout",
          "text": [
            "Excellency John McKinsey\n",
            "Thanks Excellency John McKinsey for gracing the occasion\n"
          ]
        }
      ]
    },
    {
      "cell_type": "code",
      "source": [
        "from functools import cache\n",
        "\n",
        "@cache\n",
        "def factorial(n):\n",
        "    return n * factorial(n-1) if n else 1\n",
        "\n",
        "print(factorial(10))"
      ],
      "metadata": {
        "colab": {
          "base_uri": "https://localhost:8080/"
        },
        "id": "8s9MrYeOtCG2",
        "outputId": "03fa72b5-1421-43f7-fd23-8e8bb6c03963"
      },
      "execution_count": 3,
      "outputs": [
        {
          "output_type": "stream",
          "name": "stdout",
          "text": [
            "3628800\n"
          ]
        }
      ]
    },
    {
      "cell_type": "code",
      "source": [
        "class Pencil:\n",
        "  def __init__(self, count):\n",
        "    self._counter=count\n",
        "\n",
        "  @property\n",
        "  def counter(self):\n",
        "    return self._counter\n",
        "\n",
        "  @counter.setter\n",
        "  def counter(self, count):\n",
        "    self._counter = count\n",
        "\n",
        "  @counter.getter\n",
        "  def counter(self):\n",
        "    return self._counter\n",
        "\n",
        "HB = Pencil(100)\n",
        "print (HB.counter)\n",
        "HB.counter = 20\n",
        "print (HB.counter)"
      ],
      "metadata": {
        "colab": {
          "base_uri": "https://localhost:8080/"
        },
        "id": "rBTWuqnetEJX",
        "outputId": "722af633-127e-4233-937a-8278c0a4132a"
      },
      "execution_count": 4,
      "outputs": [
        {
          "output_type": "stream",
          "name": "stdout",
          "text": [
            "100\n",
            "20\n"
          ]
        }
      ]
    }
  ]
}
