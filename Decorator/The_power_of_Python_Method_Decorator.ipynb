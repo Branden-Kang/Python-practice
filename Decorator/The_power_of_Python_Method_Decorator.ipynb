{
  "nbformat": 4,
  "nbformat_minor": 0,
  "metadata": {
    "colab": {
      "name": "The power of Python Method Decorator.ipynb",
      "provenance": [],
      "authorship_tag": "ABX9TyOumLqP3w06/jYPRSL6BMn1"
    },
    "kernelspec": {
      "name": "python3",
      "display_name": "Python 3"
    },
    "language_info": {
      "name": "python"
    }
  },
  "cells": [
    {
      "cell_type": "markdown",
      "metadata": {
        "id": "mRTDe-OScXUg"
      },
      "source": [
        "[Reference](https://medium.com/dev-today/the-power-of-python-method-decorator-fc481e29d678)"
      ]
    },
    {
      "cell_type": "code",
      "metadata": {
        "id": "NzDrdZwscRv_"
      },
      "source": [
        "def user_profile():\n",
        "    userName = \"Test name\"\n",
        "    userEmail = \"test@me.com\"\n",
        "    birthday = \"00/00/00\"\n",
        "    \n",
        "    return {\n",
        "        \"username\": userName, \n",
        "        \"userEmail\": userEmail, \n",
        "        \"birthday\": birthday\n",
        "        }"
      ],
      "execution_count": 1,
      "outputs": []
    },
    {
      "cell_type": "code",
      "metadata": {
        "id": "5d2KQJQcccx5"
      },
      "source": [
        "def validate_user(func):\n",
        "    def inner_func():\n",
        "        # Check if user is allow to see\n",
        "        return \"You can't access it\"\n",
        "        \n",
        "    return inner_func"
      ],
      "execution_count": 2,
      "outputs": []
    },
    {
      "cell_type": "code",
      "metadata": {
        "id": "-tDdCI1icfCq"
      },
      "source": [
        "@validate_user\n",
        "def user_profile():\n",
        "    userName = \"Test name\"\n",
        "    userEmail = \"test@me.com\"\n",
        "    birthday = \"00/00/00\"\n",
        "    \n",
        "    return {\n",
        "        \"username\": userName, \n",
        "        \"userEmail\": userEmail, \n",
        "        \"birthday\": birthday\n",
        "        }"
      ],
      "execution_count": 3,
      "outputs": []
    },
    {
      "cell_type": "code",
      "metadata": {
        "id": "qReKM5yAcgmk"
      },
      "source": [
        "class User():\n",
        "    \n",
        "    def __init__(self, name, email, birthday):\n",
        "        self.name = name\n",
        "        self.email = email\n",
        "        self.birthday = birthday\n",
        "        \n",
        "\n",
        "def validate_user(func):\n",
        "    def inner_func(*arg, **kargs):\n",
        "        # Check if user is allow to see\n",
        "        if arg[0] == \"Felipe\":\n",
        "            # You could retrieve this user from\n",
        "            # the database or something like\n",
        "            # for test reasons we \n",
        "            # have this test user\n",
        "            return func(\n",
        "                    User(\n",
        "                    \"Felipe dev\", \n",
        "                    \"felipe@mail.com\", \n",
        "                    \"31/31/21\"\n",
        "                    ))\n",
        "            \n",
        "        return \"You can't access it\"\n",
        "        \n",
        "    return inner_func\n",
        "\n",
        "@validate_user\n",
        "def user_profile(user):\n",
        "    return {\n",
        "        \"username\": user.name, \n",
        "        \"userEmail\": user.email, \n",
        "        \"birthday\": user.birthday\n",
        "        }"
      ],
      "execution_count": 4,
      "outputs": []
    }
  ]
}