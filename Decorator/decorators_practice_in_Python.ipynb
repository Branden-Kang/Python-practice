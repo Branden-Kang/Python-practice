{
  "nbformat": 4,
  "nbformat_minor": 0,
  "metadata": {
    "colab": {
      "name": "decorators practice in Python.ipynb",
      "provenance": [],
      "collapsed_sections": [],
      "authorship_tag": "ABX9TyOwZZVIk56C/YgkLXIuCkSL"
    },
    "kernelspec": {
      "name": "python3",
      "display_name": "Python 3"
    }
  },
  "cells": [
    {
      "cell_type": "markdown",
      "metadata": {
        "id": "DYTZw-fuGKYR"
      },
      "source": [
        "[Reference](https://towardsdatascience.com/why-decorators-in-python-are-pure-genius-1e812949a81e)"
      ]
    },
    {
      "cell_type": "code",
      "metadata": {
        "colab": {
          "base_uri": "https://localhost:8080/",
          "height": 37
        },
        "id": "H_0Q-5HKGGRR",
        "outputId": "c4be56f7-27a4-4c71-8633-cae4a93cc5cf"
      },
      "source": [
        "def greet(name):\n",
        "    return f\"Hello, {name}!\"\n",
        "def simon(func):\n",
        "    return func(\"Simon\")\n",
        "simon(greet)"
      ],
      "execution_count": 8,
      "outputs": [
        {
          "output_type": "execute_result",
          "data": {
            "application/vnd.google.colaboratory.intrinsic+json": {
              "type": "string"
            },
            "text/plain": [
              "'Hello, Simon!'"
            ]
          },
          "metadata": {
            "tags": []
          },
          "execution_count": 8
        }
      ]
    },
    {
      "cell_type": "code",
      "metadata": {
        "id": "50Zy1NcXG659"
      },
      "source": [
        "def respect(maybe):\n",
        "    def congrats():\n",
        "        return \"Congrats, bro!\"\n",
        "    def insult():\n",
        "        return \"You're silly!\"    \n",
        "        \n",
        "    if maybe == \"yes\":\n",
        "        return congrats\n",
        "    else:\n",
        "        return insult"
      ],
      "execution_count": 9,
      "outputs": []
    },
    {
      "cell_type": "code",
      "metadata": {
        "id": "iEYZn3OcHChn"
      },
      "source": [
        "def startstop(func):\n",
        "    def wrapper():\n",
        "        print(\"Starting...\")\n",
        "        func()\n",
        "        print(\"Finished!\")\n",
        "    return wrapper\n",
        "    \n",
        "def roll():\n",
        "    print(\"Rolling on the floor laughing XD\")\n",
        "    \n",
        "roll = startstop(roll)"
      ],
      "execution_count": 10,
      "outputs": []
    },
    {
      "cell_type": "code",
      "metadata": {
        "colab": {
          "base_uri": "https://localhost:8080/"
        },
        "id": "x-n603zUHI3m",
        "outputId": "75e61b26-21f0-4a87-e1ac-8125218c1791"
      },
      "source": [
        "roll()"
      ],
      "execution_count": 11,
      "outputs": [
        {
          "output_type": "stream",
          "text": [
            "Starting...\n",
            "Rolling on the floor laughing XD\n",
            "Finished!\n"
          ],
          "name": "stdout"
        }
      ]
    },
    {
      "cell_type": "code",
      "metadata": {
        "id": "3lC253j9HKe-"
      },
      "source": [
        "@startstop\n",
        "def roll():\n",
        "    print(\"Rolling on the floor laughing XD\")"
      ],
      "execution_count": 12,
      "outputs": []
    },
    {
      "cell_type": "code",
      "metadata": {
        "id": "BFS5ArvqHRQk"
      },
      "source": [
        "# from decorators import startstop, exectime\n",
        "\n",
        "# @exectime\n",
        "# @startstop\n",
        "# def roll():\n",
        "#     print(\"Rolling on the floor laughing XD\")"
      ],
      "execution_count": 13,
      "outputs": []
    },
    {
      "cell_type": "code",
      "metadata": {
        "id": "j43TOhqnHsY1"
      },
      "source": [
        "# roll = exectime(startstop(roll))"
      ],
      "execution_count": 14,
      "outputs": []
    },
    {
      "cell_type": "code",
      "metadata": {
        "colab": {
          "base_uri": "https://localhost:8080/"
        },
        "id": "8eRz5n2AHtrJ",
        "outputId": "d315ece8-e705-409a-c5cf-ab95ba8400d8"
      },
      "source": [
        "import time\n",
        "\n",
        "def measuretime(func):\n",
        "    def wrapper():\n",
        "        starttime = time.perf_counter()\n",
        "        func()\n",
        "        endtime = time.perf_counter()\n",
        "        print(f\"Time needed: {endtime - starttime} seconds\")\n",
        "    return wrapper\n",
        "    \n",
        "@measuretime\n",
        "def wastetime():\n",
        "    sum([i**2 for i in range(1000000)])\n",
        "    \n",
        "wastetime()"
      ],
      "execution_count": 15,
      "outputs": [
        {
          "output_type": "stream",
          "text": [
            "Time needed: 0.36225856299995485 seconds\n"
          ],
          "name": "stdout"
        }
      ]
    },
    {
      "cell_type": "code",
      "metadata": {
        "colab": {
          "base_uri": "https://localhost:8080/"
        },
        "id": "naISgG3kH3Fn",
        "outputId": "660fb5d8-f15a-400a-e367-60ea987f1b02"
      },
      "source": [
        "import time\n",
        "\n",
        "def sleep(func):\n",
        "    def wrapper():\n",
        "        time.sleep(300)\n",
        "        return func()\n",
        "    return wrapper\n",
        "    \n",
        "@sleep\n",
        "def wakeup():\n",
        "    print(\"Get up! Your break is over.\")\n",
        "    \n",
        "wakeup()"
      ],
      "execution_count": 16,
      "outputs": [
        {
          "output_type": "stream",
          "text": [
            "Get up! Your break is over.\n"
          ],
          "name": "stdout"
        }
      ]
    },
    {
      "cell_type": "code",
      "metadata": {
        "id": "tqs-AL5OH77o"
      },
      "source": [
        "def debug(func):\n",
        "    def wrapper():\n",
        "        print(f\"Calling {func.__name__}\")\n",
        "    return wrapper\n",
        "    \n",
        "@debug\n",
        "def scare():\n",
        "    print(\"Boo!\")scare()"
      ],
      "execution_count": 16,
      "outputs": []
    }
  ]
}