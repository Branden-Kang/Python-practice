{
  "nbformat": 4,
  "nbformat_minor": 0,
  "metadata": {
    "colab": {
      "name": "Closure — Python.ipynb",
      "provenance": [],
      "authorship_tag": "ABX9TyMcqow86Qxp3+6E8LhZ4AUZ"
    },
    "kernelspec": {
      "name": "python3",
      "display_name": "Python 3"
    },
    "language_info": {
      "name": "python"
    }
  },
  "cells": [
    {
      "cell_type": "markdown",
      "metadata": {
        "id": "lyJjTlJShbO1"
      },
      "source": [
        "[Reference](https://medium.com/devtechtoday/closure-python-53c7f896aef)"
      ]
    },
    {
      "cell_type": "code",
      "metadata": {
        "colab": {
          "base_uri": "https://localhost:8080/"
        },
        "id": "z0dVao_kgPaR",
        "outputId": "6359ef2e-50aa-42b6-d148-65889a473a36"
      },
      "source": [
        "def multiply(a, b):\n",
        "    c = a*b\n",
        "    print(f\"local()= {locals()}\\n\")\n",
        "    return c\n",
        "\n",
        "prod0 = multiply(3, 'd')\n",
        "prod1 = multiply(200, 100)"
      ],
      "execution_count": 1,
      "outputs": [
        {
          "output_type": "stream",
          "name": "stdout",
          "text": [
            "local()= {'a': 3, 'b': 'd', 'c': 'ddd'}\n",
            "\n",
            "local()= {'a': 200, 'b': 100, 'c': 20000}\n",
            "\n"
          ]
        }
      ]
    },
    {
      "cell_type": "code",
      "metadata": {
        "colab": {
          "base_uri": "https://localhost:8080/"
        },
        "id": "_PlEFEzohjci",
        "outputId": "16f674a4-5907-4314-bc7a-8b17ff8f30c1"
      },
      "source": [
        "count = 0\n",
        "def multiply(a, b):\n",
        "    global count\n",
        "    count += 1\n",
        "    c = a*b\n",
        "    print(f\"function count #{count}'s local()= {locals()}\\n\")\n",
        "    return c\n",
        "\n",
        "prod0 = multiply(3, 'd')\n",
        "prod1 = multiply(200, 100)"
      ],
      "execution_count": 2,
      "outputs": [
        {
          "output_type": "stream",
          "name": "stdout",
          "text": [
            "function count #1's local()= {'a': 3, 'b': 'd', 'c': 'ddd'}\n",
            "\n",
            "function count #2's local()= {'a': 200, 'b': 100, 'c': 20000}\n",
            "\n"
          ]
        }
      ]
    },
    {
      "cell_type": "code",
      "metadata": {
        "colab": {
          "base_uri": "https://localhost:8080/"
        },
        "id": "Uro0_J_6hm4W",
        "outputId": "96a08a1b-c343-4810-e9d1-bcc7ff882b88"
      },
      "source": [
        "def outer_func():\n",
        "    x = 'Harry'\n",
        "    print(f\"[BEFORE] outer_func's x's value: {x}, id: {id(x)}\")\n",
        "    def inner_func():\n",
        "        x = 'Potter'\n",
        "        print(f\"inner_func's x's value: {x}, id: {id(x)}\")\n",
        "    inner_func()\n",
        "    print(f\"[AFTER] outer_func's x's value: {x}, id: {id(x)}\")\n",
        "    \n",
        "outer_func()"
      ],
      "execution_count": 3,
      "outputs": [
        {
          "output_type": "stream",
          "name": "stdout",
          "text": [
            "[BEFORE] outer_func's x's value: Harry, id: 140255161739184\n",
            "inner_func's x's value: Potter, id: 140255161738672\n",
            "[AFTER] outer_func's x's value: Harry, id: 140255161739184\n"
          ]
        }
      ]
    },
    {
      "cell_type": "code",
      "metadata": {
        "colab": {
          "base_uri": "https://localhost:8080/"
        },
        "id": "neieTHn5hp8p",
        "outputId": "e573290d-4086-481c-900b-8275c55a78c4"
      },
      "source": [
        "def outer_func():\n",
        "    x = 'Harry'\n",
        "    print(f\"[BEFORE] outer_func's x's value: {x}, id: {id(x)}\")\n",
        "    def inner_func():\n",
        "        nonlocal x\n",
        "        x = 'Potter'\n",
        "        print(f\"inner_func's x's value: {x}, id: {id(x)}\")\n",
        "    inner_func()\n",
        "    print(f\"[AFTER] outer_func's x's value: {x}, id: {id(x)}\")\n",
        "    \n",
        "outer_func()"
      ],
      "execution_count": 4,
      "outputs": [
        {
          "output_type": "stream",
          "name": "stdout",
          "text": [
            "[BEFORE] outer_func's x's value: Harry, id: 140255161739184\n",
            "inner_func's x's value: Potter, id: 140255161738672\n",
            "[AFTER] outer_func's x's value: Potter, id: 140255161738672\n"
          ]
        }
      ]
    },
    {
      "cell_type": "code",
      "metadata": {
        "colab": {
          "base_uri": "https://localhost:8080/"
        },
        "id": "uhQEhcgehrXR",
        "outputId": "6cbe04f5-c07c-48aa-8174-53d162a6be08"
      },
      "source": [
        "def greeting_translator():\n",
        "    greet_translator = dict(english='Hello', mandarin='Ni hao', french='Bonjour', italian='Ciao', swahili='Jambo', german='Guten Tag')\n",
        "    print(f'[BEFORE]: {greet_translator.keys()}, id: {id(greet_translator)}')\n",
        "    def greet(name, nationality, greet):\n",
        "        nationality = nationality.lower()\n",
        "        if nationality not in greet_translator.keys():\n",
        "           greet_translator[nationality] = greet\n",
        "\n",
        "        print(f'[INNER]: {greet_translator.keys()}, id: {id(greet_translator)}')\n",
        "        return f\"{greet_translator.get(nationality)} {name}!\"\n",
        "    greet('Kabelo', 'Motswana', 'Dumela')\n",
        "    print(f'[AFTER]: {greet_translator.keys()}, id: {id(greet_translator)}')\n",
        "\n",
        "greeting_translator()"
      ],
      "execution_count": 5,
      "outputs": [
        {
          "output_type": "stream",
          "name": "stdout",
          "text": [
            "[BEFORE]: dict_keys(['english', 'mandarin', 'french', 'italian', 'swahili', 'german']), id: 140255161841136\n",
            "[INNER]: dict_keys(['english', 'mandarin', 'french', 'italian', 'swahili', 'german', 'motswana']), id: 140255161841136\n",
            "[AFTER]: dict_keys(['english', 'mandarin', 'french', 'italian', 'swahili', 'german', 'motswana']), id: 140255161841136\n"
          ]
        }
      ]
    },
    {
      "cell_type": "code",
      "metadata": {
        "colab": {
          "base_uri": "https://localhost:8080/"
        },
        "id": "ccyYbIoMhuX7",
        "outputId": "0c7f1d31-df0b-4943-c394-1f923e53468e"
      },
      "source": [
        "def multliplication_table(num):\n",
        "    def multiply(i):\n",
        "        return f'{num}*{i}={num*i}'\n",
        "    return multiply\n",
        "\n",
        "table = multliplication_table(19)\n",
        "print(table(2))\n",
        "print(table(3))"
      ],
      "execution_count": 6,
      "outputs": [
        {
          "output_type": "stream",
          "name": "stdout",
          "text": [
            "19*2=38\n",
            "19*3=57\n"
          ]
        }
      ]
    },
    {
      "cell_type": "code",
      "metadata": {
        "colab": {
          "base_uri": "https://localhost:8080/"
        },
        "id": "yi3brEnghx8O",
        "outputId": "2d6d6d10-700e-4760-e134-e5aafdb97e6b"
      },
      "source": [
        "table.__closure__"
      ],
      "execution_count": 7,
      "outputs": [
        {
          "output_type": "execute_result",
          "data": {
            "text/plain": [
              "(<cell at 0x7f8fb319d5d0: int object at 0x55df5977dc40>,)"
            ]
          },
          "metadata": {},
          "execution_count": 7
        }
      ]
    }
  ]
}