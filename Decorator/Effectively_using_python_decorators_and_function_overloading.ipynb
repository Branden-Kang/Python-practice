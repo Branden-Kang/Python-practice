{
  "nbformat": 4,
  "nbformat_minor": 0,
  "metadata": {
    "colab": {
      "name": "Effectively using python decorators and function overloading.ipynb",
      "provenance": [],
      "authorship_tag": "ABX9TyMoX5bAHxINtXxKLSoDX3PC"
    },
    "kernelspec": {
      "name": "python3",
      "display_name": "Python 3"
    }
  },
  "cells": [
    {
      "cell_type": "markdown",
      "metadata": {
        "id": "_NELBzSsZFcX"
      },
      "source": [
        "[Reference](https://medium.com/@asingh21/effectively-using-python-decorators-and-function-overloading-14a195e76bd0)"
      ]
    },
    {
      "cell_type": "code",
      "metadata": {
        "colab": {
          "base_uri": "https://localhost:8080/"
        },
        "id": "hE7t3yhRZEMA",
        "outputId": "33dfac85-714a-48af-de9e-faccae5ab660"
      },
      "source": [
        "def adding_cheese(func):\n",
        "    def inner_function():\n",
        "        print('Just adding more cheese here...')\n",
        "        func()\n",
        "        print('And Done!')\n",
        "    return inner_function\n",
        "\n",
        "@adding_cheese\n",
        "def baking_pizza():\n",
        "    print('Just baking pizza here...')\n",
        "    \n",
        "if __name__ == '__main__':\n",
        "    baking_pizza()"
      ],
      "execution_count": 1,
      "outputs": [
        {
          "output_type": "stream",
          "text": [
            "Just adding more cheese here...\n",
            "Just baking pizza here...\n",
            "And Done!\n"
          ],
          "name": "stdout"
        }
      ]
    },
    {
      "cell_type": "code",
      "metadata": {
        "colab": {
          "base_uri": "https://localhost:8080/"
        },
        "id": "UNjEzavMZHkR",
        "outputId": "5ef434ca-7fac-4055-c037-3cf331e7ed16"
      },
      "source": [
        "toppings = list()\n",
        "\n",
        "def adding_toppings(func):\n",
        "    print(f\"Adding topping {func}...\")\n",
        "    toppings.append(func)\n",
        "    return func\n",
        "\n",
        "@adding_toppings\n",
        "def adding_olives():\n",
        "    print('Added Olives...')\n",
        "    \n",
        "@adding_toppings\n",
        "def adding_onions():\n",
        "    print('Added Onions...')\n",
        "    \n",
        "@adding_toppings\n",
        "def adding_tomatoes():\n",
        "    print('Added tomatoes...')\n",
        "    \n",
        "def adding_apple():\n",
        "    print('This is getting out of hand now. GET OUT!!!')\n",
        "    \n",
        "if __name__ == '__main__':\n",
        "    print('Stated adding toppings')\n",
        "    print(f'Toppings added so far {toppings}')\n",
        "    adding_olives()\n",
        "    adding_onions()\n",
        "    adding_tomatoes()\n",
        "    adding_apple()"
      ],
      "execution_count": 2,
      "outputs": [
        {
          "output_type": "stream",
          "text": [
            "Adding topping <function adding_olives at 0x7f199261f2f0>...\n",
            "Adding topping <function adding_onions at 0x7f199261f510>...\n",
            "Adding topping <function adding_tomatoes at 0x7f199261f6a8>...\n",
            "Stated adding toppings\n",
            "Toppings added so far [<function adding_olives at 0x7f199261f2f0>, <function adding_onions at 0x7f199261f510>, <function adding_tomatoes at 0x7f199261f6a8>]\n",
            "Added Olives...\n",
            "Added Onions...\n",
            "Added tomatoes...\n",
            "This is getting out of hand now. GET OUT!!!\n"
          ],
          "name": "stdout"
        }
      ]
    },
    {
      "cell_type": "code",
      "metadata": {
        "colab": {
          "base_uri": "https://localhost:8080/"
        },
        "id": "ICqlWrLWZLb4",
        "outputId": "87ad2037-8ef5-4b0a-98ec-572c12d052ea"
      },
      "source": [
        "def adding_cheese(func):\n",
        "    def inner_function():\n",
        "        print('Just adding more cheese here...')\n",
        "        func()\n",
        "        print('And Done!')\n",
        "    return inner_function\n",
        "\n",
        "def adding_more_cheese(func):\n",
        "    def inner_function():\n",
        "        print('Just adding some more cheese here...')\n",
        "        func()\n",
        "    return inner_function\n",
        "\n",
        "@adding_cheese\n",
        "@adding_more_cheese\n",
        "def baking_pizza():\n",
        "    print('Just baking pizza here...')\n",
        "    \n",
        "if __name__ == '__main__':\n",
        "    baking_pizza()"
      ],
      "execution_count": 3,
      "outputs": [
        {
          "output_type": "stream",
          "text": [
            "Just adding more cheese here...\n",
            "Just adding some more cheese here...\n",
            "Just baking pizza here...\n",
            "And Done!\n"
          ],
          "name": "stdout"
        }
      ]
    },
    {
      "cell_type": "code",
      "metadata": {
        "colab": {
          "base_uri": "https://localhost:8080/"
        },
        "id": "VDVngET3ZNwX",
        "outputId": "873fac19-8777-4f87-8837-55aad22d04bb"
      },
      "source": [
        "def adding_cheese(func):\n",
        "    def inner_function(*args, **kwargs):\n",
        "        print('Just adding more cheese here...')\n",
        "        ret_val = func(*args, **kwargs)\n",
        "        return ret_val\n",
        "    return inner_function\n",
        "\n",
        "@adding_cheese\n",
        "def baking_pizza(name=None):\n",
        "    print(f'{name} baking pizza here...')\n",
        "    return \"And done!\"\n",
        "\n",
        "if __name__ == '__main__':\n",
        "    ret_val = baking_pizza(name=\"Blah Blah\")\n",
        "    print(ret_val)"
      ],
      "execution_count": 4,
      "outputs": [
        {
          "output_type": "stream",
          "text": [
            "Just adding more cheese here...\n",
            "Blah Blah baking pizza here...\n",
            "And done!\n"
          ],
          "name": "stdout"
        }
      ]
    },
    {
      "cell_type": "code",
      "metadata": {
        "colab": {
          "base_uri": "https://localhost:8080/"
        },
        "id": "aUSHjBRiZQuH",
        "outputId": "27f000b4-b709-4e27-ba95-7f79910dc094"
      },
      "source": [
        "class pizza():\n",
        "    @classmethod\n",
        "    def adding_cheese(cls, func):\n",
        "        def inner_function(*args, **kwargs):\n",
        "            print('Just adding more cheese here...')\n",
        "            ret_val = func(*args, **kwargs)\n",
        "            return ret_val\n",
        "        return inner_function\n",
        "    \n",
        "@pizza.adding_cheese\n",
        "def baking_pizza(name=None):\n",
        "    print(f'{name} baking pizza here...')\n",
        "    return \"And Done!\"\n",
        "\n",
        "if __name__ == '__main__':\n",
        "    ret_val = baking_pizza(name=\"Blah Blah\")\n",
        "    print(ret_val)"
      ],
      "execution_count": 5,
      "outputs": [
        {
          "output_type": "stream",
          "text": [
            "Just adding more cheese here...\n",
            "Blah Blah baking pizza here...\n",
            "And Done!\n"
          ],
          "name": "stdout"
        }
      ]
    },
    {
      "cell_type": "code",
      "metadata": {
        "colab": {
          "base_uri": "https://localhost:8080/"
        },
        "id": "1jjYnkt1ZSRV",
        "outputId": "058fb0ba-11ee-4237-aae6-084b124666af"
      },
      "source": [
        "def pizza_crust(crust='normal'):\n",
        "    def adding_pizza_crust(func):\n",
        "        def inner_function():\n",
        "            name = func.__name__\n",
        "            print(f'Baking {name} pizza with {crust} crust')\n",
        "            func()\n",
        "            print('And Done!')\n",
        "        return inner_function\n",
        "    return adding_pizza_crust\n",
        "\n",
        "@pizza_crust(crust='thin')\n",
        "def supreme_veggie_pizza():\n",
        "    print('Just baking pizza here...')\n",
        "    \n",
        "@pizza_crust()\n",
        "def farmhouse_pizza():\n",
        "    print('Just baking pizza here...')\n",
        "    \n",
        "if __name__ == '__main__':\n",
        "    supreme_veggie_pizza()\n",
        "    farmhouse_pizza()"
      ],
      "execution_count": 6,
      "outputs": [
        {
          "output_type": "stream",
          "text": [
            "Baking supreme_veggie_pizza pizza with thin crust\n",
            "Just baking pizza here...\n",
            "And Done!\n",
            "Baking farmhouse_pizza pizza with normal crust\n",
            "Just baking pizza here...\n",
            "And Done!\n"
          ],
          "name": "stdout"
        }
      ]
    },
    {
      "cell_type": "code",
      "metadata": {
        "colab": {
          "base_uri": "https://localhost:8080/"
        },
        "id": "5K4P7y1qZUl7",
        "outputId": "1df5b3e6-cc3c-4008-f066-3bceab6cec93"
      },
      "source": [
        "discounts = list()\n",
        "\n",
        "def get_discount(func):\n",
        "    discounts.append(func)\n",
        "    return func\n",
        "    \n",
        "@get_discount\n",
        "def seasonal_discount(order_dict):\n",
        "    discount = 0.1\n",
        "    return discount\n",
        "    \n",
        "@get_discount\n",
        "def buy_2_pizza(order_dict):\n",
        "    pizza_count = order_dict.get('pizza_count')\n",
        "    return 0.12 if pizza_count >= 2 else 0\n",
        "    \n",
        "@get_discount\n",
        "def new_customer(order_dict):\n",
        "    special_discount = order_dict.get('special_discount')\n",
        "    return 0.2 if special_discount else 0\n",
        "    \n",
        "if __name__ == '__main__':\n",
        "    order_dict = {'bill_amount': 100,\n",
        "                  'pizza_count': 3,\n",
        "                  'special_discount': True\n",
        "                  }\n",
        "    discount = max(discount(order_dict) for discount in discounts)\n",
        "    print(f'discount = {discount}')"
      ],
      "execution_count": 7,
      "outputs": [
        {
          "output_type": "stream",
          "text": [
            "discount = 0.2\n"
          ],
          "name": "stdout"
        }
      ]
    },
    {
      "cell_type": "code",
      "metadata": {
        "colab": {
          "base_uri": "https://localhost:8080/"
        },
        "id": "q8meAsTlZW3_",
        "outputId": "3a08b18c-0555-4a93-f135-a822c0713e3f"
      },
      "source": [
        "from dataclasses import dataclass\n",
        "from functools import singledispatch\n",
        "\n",
        "@dataclass\n",
        "class ThinCrust:\n",
        "    cost: int\n",
        "    discount: int\n",
        "      \n",
        "@dataclass\n",
        "class NormalCrust:\n",
        "    cost: int\n",
        "    discount: int\n",
        "      \n",
        "@dataclass\n",
        "class ThickCrust:\n",
        "    cost: int\n",
        "    discount: int\n",
        "      \n",
        "@singledispatch\n",
        "def get_cost(obj=None):\n",
        "    return 20\n",
        "  \n",
        "@get_cost.register(ThinCrust)\n",
        "def _(obj):\n",
        "    return obj.cost\n",
        "  \n",
        "@get_cost.register(NormalCrust)\n",
        "def _(obj):\n",
        "    return obj.cost\n",
        "  \n",
        "@get_cost.register(ThickCrust)\n",
        "def _(obj):\n",
        "    return obj.cost\n",
        "  \n",
        "if __name__ == '__main__':\n",
        "    thin_crust_obj = ThinCrust(cost=25, discount=10)\n",
        "    thin_crust_cost = get_cost(thin_crust_obj)\n",
        "    print(f'thin_crust_cost = {thin_crust_cost}')"
      ],
      "execution_count": 8,
      "outputs": [
        {
          "output_type": "stream",
          "text": [
            "thin_crust_cost = 25\n"
          ],
          "name": "stdout"
        }
      ]
    }
  ]
}