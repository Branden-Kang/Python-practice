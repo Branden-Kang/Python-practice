{
  "nbformat": 4,
  "nbformat_minor": 0,
  "metadata": {
    "colab": {
      "name": "Write your own decorators in Python.ipynb",
      "provenance": [],
      "authorship_tag": "ABX9TyM0L6qoMtbVKQhgc8rKJqmi"
    },
    "kernelspec": {
      "name": "python3",
      "display_name": "Python 3"
    },
    "language_info": {
      "name": "python"
    }
  },
  "cells": [
    {
      "cell_type": "markdown",
      "metadata": {
        "id": "CMyINNXVTVBS"
      },
      "source": [
        "[Reference](https://levelup.gitconnected.com/write-your-own-decorators-in-python-in-5-minutes-f32171c50241)"
      ]
    },
    {
      "cell_type": "code",
      "metadata": {
        "colab": {
          "base_uri": "https://localhost:8080/"
        },
        "id": "2UXwLgzRSPeh",
        "outputId": "5fcb5ab6-98d7-4165-a9da-02a42b3ac22f"
      },
      "source": [
        "def only_bob(f):\n",
        "  def wrapper(user):\n",
        "    if user == \"Bob\":\n",
        "       f(user)\n",
        "    else:\n",
        "       print(\"not authorized\")\n",
        "  return wrapper\n",
        "\n",
        "@only_bob\n",
        "def show_info(user):\n",
        "  print(f\"Hi {user}, here is my secret, don't tell anyone\")\n",
        "\n",
        "show_info(\"Bob\")\n",
        "show_info(\"Eve\")"
      ],
      "execution_count": 1,
      "outputs": [
        {
          "output_type": "stream",
          "text": [
            "Hi Bob, here is my secret, don't tell anyone\n",
            "not authorized\n"
          ],
          "name": "stdout"
        }
      ]
    },
    {
      "cell_type": "code",
      "metadata": {
        "colab": {
          "base_uri": "https://localhost:8080/"
        },
        "id": "2B4vxjh2TeSI",
        "outputId": "acbd9072-5126-4286-90cd-24e0747765d6"
      },
      "source": [
        "def only_bob(f):\n",
        "  def wrapper(user):\n",
        "    if user == \"Bob\":\n",
        "       f(\"Bobby\") # change\n",
        "    else:\n",
        "       print(\"not authorized\")\n",
        "  return wrapper\n",
        "\n",
        "@only_bob\n",
        "def show_info(user):\n",
        "  print(f\"Hi {user}, here is my secret, don't tell anyone\")\n",
        "\n",
        "show_info(\"Bob\")\n",
        "show_info(\"Eve\")"
      ],
      "execution_count": 2,
      "outputs": [
        {
          "output_type": "stream",
          "text": [
            "Hi Bobby, here is my secret, don't tell anyone\n",
            "not authorized\n"
          ],
          "name": "stdout"
        }
      ]
    },
    {
      "cell_type": "code",
      "metadata": {
        "colab": {
          "base_uri": "https://localhost:8080/"
        },
        "id": "nizt-GCgTsLp",
        "outputId": "bebf5e34-681f-4957-badd-167dc7e623c5"
      },
      "source": [
        "def stripper(f):\n",
        "  def stripped(user):\n",
        "    f(user.strip())\n",
        "  return stripped\n",
        "\n",
        "def only_bob(f):\n",
        "  def wrapper(user):\n",
        "    if user == \"Bob\":\n",
        "       f(\"Bobby\")\n",
        "    else:\n",
        "       print(\"not authorized\")\n",
        "  return wrapper\n",
        "\n",
        "@stripper\n",
        "@only_bob\n",
        "def show_info(user):\n",
        "  print(f\"Hi {user}, here is my secret, don't tell anyone\")\n",
        "  \n",
        "show_info(\"Bob\")\n",
        "show_info(\"Eve\")\n",
        "show_info(\" Bob \")"
      ],
      "execution_count": 3,
      "outputs": [
        {
          "output_type": "stream",
          "text": [
            "Hi Bobby, here is my secret, don't tell anyone\n",
            "not authorized\n",
            "Hi Bobby, here is my secret, don't tell anyone\n"
          ],
          "name": "stdout"
        }
      ]
    },
    {
      "cell_type": "code",
      "metadata": {
        "colab": {
          "base_uri": "https://localhost:8080/"
        },
        "id": "O7dH6YJeT0t1",
        "outputId": "e682e774-cc53-48fa-a5a1-fb941c09641b"
      },
      "source": [
        "def stripper(f):\n",
        "  def stripped(user):\n",
        "    f(user.strip())\n",
        "  return stripped\n",
        "\n",
        "def only_bob(f):\n",
        "  def wrapper(user):\n",
        "    if user == \"Bob\":\n",
        "       f(\"Bobby\")\n",
        "    else:\n",
        "       print(\"not authorized\")\n",
        "  return wrapper\n",
        "\n",
        "@only_bob\n",
        "@stripper\n",
        "def show_info(user):\n",
        "  print(f\"Hi {user}, here is my secret, don't tell anyone\")\n",
        "  \n",
        "show_info(\"Bob\")\n",
        "show_info(\"Eve\")\n",
        "show_info(\" Bob \")"
      ],
      "execution_count": 4,
      "outputs": [
        {
          "output_type": "stream",
          "text": [
            "Hi Bobby, here is my secret, don't tell anyone\n",
            "not authorized\n",
            "not authorized\n"
          ],
          "name": "stdout"
        }
      ]
    }
  ]
}