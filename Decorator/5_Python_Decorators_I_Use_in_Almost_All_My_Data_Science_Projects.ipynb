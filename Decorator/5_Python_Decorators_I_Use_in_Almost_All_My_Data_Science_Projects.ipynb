{
  "nbformat": 4,
  "nbformat_minor": 0,
  "metadata": {
    "colab": {
      "provenance": [],
      "authorship_tag": "ABX9TyO7EuuGcLr4mBZkL/T1b0ql"
    },
    "kernelspec": {
      "name": "python3",
      "display_name": "Python 3"
    },
    "language_info": {
      "name": "python"
    }
  },
  "cells": [
    {
      "cell_type": "markdown",
      "source": [
        "[Reference](https://towardsdatascience.com/python-decorators-for-data-science-6913f717669a)"
      ],
      "metadata": {
        "id": "fGbY_ennGn5v"
      }
    },
    {
      "cell_type": "code",
      "execution_count": 1,
      "metadata": {
        "id": "qjA15m8zGdnC"
      },
      "outputs": [],
      "source": [
        "import time\n",
        "from functools import wraps"
      ]
    },
    {
      "cell_type": "code",
      "source": [
        "def retry(max_tries=3, delay_seconds=1):\n",
        "    def decorator_retry(func):\n",
        "        @wraps(func)\n",
        "        def wrapper_retry(*args, **kwargs):\n",
        "            tries = 0\n",
        "            while tries < max_tries:\n",
        "                try:\n",
        "                    return func(*args, **kwargs)\n",
        "                except Exception as e:\n",
        "                    tries += 1\n",
        "                    if tries == max_tries:\n",
        "                        raise e\n",
        "                    time.sleep(delay_seconds)\n",
        "        return wrapper_retry\n",
        "    return decorator_retry@retry(max_tries=5, delay_seconds=2)\n",
        "def call_dummy_api():\n",
        "    response = requests.get(\"https://jsonplaceholder.typicode.com/todos/1\")\n",
        "    return response"
      ],
      "metadata": {
        "id": "Ljwug8JHGr63"
      },
      "execution_count": 2,
      "outputs": []
    },
    {
      "cell_type": "code",
      "source": [
        "def memoize(func):\n",
        "    cache = {}\n",
        "    def wrapper(*args):\n",
        "        if args in cache:\n",
        "            return cache[args]\n",
        "        else:\n",
        "            result = func(*args)\n",
        "            cache[args] = result\n",
        "            return result\n",
        "    return wrapper"
      ],
      "metadata": {
        "id": "MsOkkql8Gsfx"
      },
      "execution_count": 3,
      "outputs": []
    },
    {
      "cell_type": "code",
      "source": [
        "@memoize\n",
        "def fibonacci(n):\n",
        "    if n <= 1:\n",
        "        return n\n",
        "    else:\n",
        "        return fibonacci(n-1) + fibonacci(n-2)"
      ],
      "metadata": {
        "id": "F1z_mpH0GtyK"
      },
      "execution_count": 4,
      "outputs": []
    },
    {
      "cell_type": "code",
      "source": [
        "import time\n",
        "\n",
        "def timing_decorator(func):\n",
        "    def wrapper(*args, **kwargs):\n",
        "        start_time = time.time()\n",
        "        result = func(*args, **kwargs)\n",
        "        end_time = time.time()\n",
        "        print(f\"Function {func.__name__} took {end_time - start_time} seconds to run.\")\n",
        "        return result\n",
        "    return wrapper"
      ],
      "metadata": {
        "id": "56TP1o_iGu0w"
      },
      "execution_count": 5,
      "outputs": []
    },
    {
      "cell_type": "code",
      "source": [
        "@timing_decorator\n",
        "def my_function():\n",
        "    # some code here\n",
        "    time.sleep(1)  # simulate some time-consuming operation\n",
        "    return"
      ],
      "metadata": {
        "id": "q1vgIwJYGwSF"
      },
      "execution_count": 6,
      "outputs": []
    },
    {
      "cell_type": "code",
      "source": [
        "my_function()"
      ],
      "metadata": {
        "colab": {
          "base_uri": "https://localhost:8080/"
        },
        "id": "gf2B1HVcGxRs",
        "outputId": "30e0fd0d-8502-4f51-b033-cce61dea14c1"
      },
      "execution_count": 7,
      "outputs": [
        {
          "output_type": "stream",
          "name": "stdout",
          "text": [
            "Function my_function took 1.0003669261932373 seconds to run.\n"
          ]
        }
      ]
    },
    {
      "cell_type": "code",
      "source": [
        "import logging\n",
        "import functools\n",
        "\n",
        "logging.basicConfig(level=logging.INFO)\n",
        "\n",
        "def log_execution(func):\n",
        "    @functools.wraps(func)\n",
        "    def wrapper(*args, **kwargs):\n",
        "        logging.info(f\"Executing {func.__name__}\")\n",
        "        result = func(*args, **kwargs)\n",
        "        logging.info(f\"Finished executing {func.__name__}\")\n",
        "        return result\n",
        "    return wrapper\n",
        "\n",
        "@log_execution\n",
        "def extract_data(source):\n",
        "    # extract data from source\n",
        "    data = ...\n",
        "\n",
        "    return data\n",
        "\n",
        "@log_execution\n",
        "def transform_data(data):\n",
        "    # transform data\n",
        "    transformed_data = ...\n",
        "\n",
        "    return transformed_data\n",
        "\n",
        "@log_execution\n",
        "def load_data(data, target):\n",
        "    # load data into target\n",
        "    ...\n",
        "\n",
        "def main():\n",
        "    # extract data\n",
        "    data = extract_data(source)\n",
        "\n",
        "    # transform data\n",
        "    transformed_data = transform_data(data)\n",
        "\n",
        "    # load data\n",
        "    load_data(transformed_data, target)"
      ],
      "metadata": {
        "id": "PD6faSdKGyI6"
      },
      "execution_count": 8,
      "outputs": []
    },
    {
      "cell_type": "code",
      "source": [
        "@log_execution\n",
        "@timing_decorator\n",
        "def my_function(x, y):\n",
        "    time.sleep(1)\n",
        "    return x + y"
      ],
      "metadata": {
        "id": "1QWTpWN6GzhM"
      },
      "execution_count": 9,
      "outputs": []
    },
    {
      "cell_type": "code",
      "source": [
        "import smtplib\n",
        "import traceback\n",
        "from email.mime.text import MIMEText\n",
        "\n",
        "def email_on_failure(sender_email, password, recipient_email):\n",
        "    def decorator(func):\n",
        "        def wrapper(*args, **kwargs):\n",
        "            try:\n",
        "                return func(*args, **kwargs)\n",
        "            except Exception as e:\n",
        "                # format the error message and traceback\n",
        "                err_msg = f\"Error: {str(e)}\\n\\nTraceback:\\n{traceback.format_exc()}\"\n",
        "                \n",
        "                # create the email message\n",
        "                message = MIMEText(err_msg)\n",
        "                message['Subject'] = f\"{func.__name__} failed\"\n",
        "                message['From'] = sender_email\n",
        "                message['To'] = recipient_email\n",
        "                \n",
        "                # send the email\n",
        "                with smtplib.SMTP_SSL('smtp.gmail.com', 465) as smtp:\n",
        "                    smtp.login(sender_email, password)\n",
        "                    smtp.sendmail(sender_email, recipient_email, message.as_string())\n",
        "                    \n",
        "                # re-raise the exception\n",
        "                raise\n",
        "                \n",
        "        return wrapper\n",
        "    \n",
        "    return decorator\n",
        "\n",
        "@email_on_failure(sender_email='your_email@gmail.com', password='your_password', recipient_email='recipient_email@gmail.com')\n",
        "def my_function():\n",
        "    # code that might fail\n",
        "    pass"
      ],
      "metadata": {
        "id": "YP_frdadG02X"
      },
      "execution_count": 11,
      "outputs": []
    }
  ]
}
