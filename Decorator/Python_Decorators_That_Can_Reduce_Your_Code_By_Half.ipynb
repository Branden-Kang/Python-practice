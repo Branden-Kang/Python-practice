{
  "nbformat": 4,
  "nbformat_minor": 0,
  "metadata": {
    "colab": {
      "provenance": [],
      "authorship_tag": "ABX9TyPU6+wDPQF0xKscQKVKh/Vq"
    },
    "kernelspec": {
      "name": "python3",
      "display_name": "Python 3"
    },
    "language_info": {
      "name": "python"
    }
  },
  "cells": [
    {
      "cell_type": "markdown",
      "source": [
        "[Reference](https://medium.com/@ayush-thakur02/python-decorators-that-can-reduce-your-code-by-half-b19f673bc7d8)"
      ],
      "metadata": {
        "id": "hQMLnMvXcFPg"
      }
    },
    {
      "cell_type": "code",
      "execution_count": 1,
      "metadata": {
        "id": "JgugzniBbkMi"
      },
      "outputs": [],
      "source": [
        "def hello():\n",
        "    print(\"Hello, world!\")"
      ]
    },
    {
      "cell_type": "code",
      "source": [
        "import time\n",
        "\n",
        "def measure_time(func):\n",
        "    def wrapper():\n",
        "        start = time.time()\n",
        "        func()\n",
        "        end = time.time()\n",
        "        print(f\"Execution time: {end - start} seconds\")\n",
        "    return wrapper"
      ],
      "metadata": {
        "id": "34IDEoEbcPvt"
      },
      "execution_count": 2,
      "outputs": []
    },
    {
      "cell_type": "code",
      "source": [
        "hello = measure_time(hello)\n",
        "hello()"
      ],
      "metadata": {
        "colab": {
          "base_uri": "https://localhost:8080/"
        },
        "id": "oovGHLndcSCV",
        "outputId": "ea600ed9-9509-45bb-9c5a-ba6c84b02533"
      },
      "execution_count": 3,
      "outputs": [
        {
          "output_type": "stream",
          "name": "stdout",
          "text": [
            "Hello, world!\n",
            "Execution time: 4.887580871582031e-05 seconds\n"
          ]
        }
      ]
    },
    {
      "cell_type": "code",
      "source": [
        "@measure_time\n",
        "def hello():\n",
        "    print(\"Hello, world!\")\n",
        "\n",
        "hello()"
      ],
      "metadata": {
        "colab": {
          "base_uri": "https://localhost:8080/"
        },
        "id": "J06UJsrLcTcy",
        "outputId": "b5801414-b93b-4aa6-d4a1-c901ed9daff2"
      },
      "execution_count": 4,
      "outputs": [
        {
          "output_type": "stream",
          "name": "stdout",
          "text": [
            "Hello, world!\n",
            "Execution time: 4.2438507080078125e-05 seconds\n"
          ]
        }
      ]
    },
    {
      "cell_type": "markdown",
      "source": [
        "# 1. The @timer decorator"
      ],
      "metadata": {
        "id": "tYM0gktydC7t"
      }
    },
    {
      "cell_type": "code",
      "source": [
        "import time\n",
        "from functools import wraps\n",
        "\n",
        "def timer(func):\n",
        "    @wraps(func)\n",
        "    def wrapper(*args, **kwargs):\n",
        "        start = time.time()\n",
        "        result = func(*args, **kwargs)\n",
        "        end = time.time()\n",
        "        print(f\"Execution time of {func.__name__}: {end - start} seconds\")\n",
        "        return result\n",
        "    return wrapper"
      ],
      "metadata": {
        "id": "5zwwVRRWcsCr"
      },
      "execution_count": 5,
      "outputs": []
    },
    {
      "cell_type": "code",
      "source": [
        "@timer\n",
        "def factorial(n):\n",
        "    \"\"\"Returns the factorial of n\"\"\"\n",
        "    if n == 0 or n == 1:\n",
        "        return 1\n",
        "    else:\n",
        "        return n * factorial(n - 1)\n",
        "\n",
        "@timer\n",
        "def fibonacci(n):\n",
        "    \"\"\"Returns the nth Fibonacci number\"\"\"\n",
        "    if n == 0 or n == 1:\n",
        "        return n\n",
        "    else:\n",
        "        return fibonacci(n - 1) + fibonacci(n - 2)\n",
        "\n",
        "print(factorial(10))\n",
        "print(fibonacci(10))"
      ],
      "metadata": {
        "colab": {
          "base_uri": "https://localhost:8080/"
        },
        "id": "IhdC9hQldEGj",
        "outputId": "35fba0d5-217a-43e8-b3c0-db828096b61a"
      },
      "execution_count": 6,
      "outputs": [
        {
          "output_type": "stream",
          "name": "stdout",
          "text": [
            "Execution time of factorial: 9.5367431640625e-07 seconds\n",
            "Execution time of factorial: 9.489059448242188e-05 seconds\n",
            "Execution time of factorial: 0.00011682510375976562 seconds\n",
            "Execution time of factorial: 0.000133514404296875 seconds\n",
            "Execution time of factorial: 0.00019097328186035156 seconds\n",
            "Execution time of factorial: 0.00020694732666015625 seconds\n",
            "Execution time of factorial: 0.00021958351135253906 seconds\n",
            "Execution time of factorial: 0.0002315044403076172 seconds\n",
            "Execution time of factorial: 0.0002682209014892578 seconds\n",
            "Execution time of factorial: 0.00028228759765625 seconds\n",
            "3628800\n",
            "Execution time of fibonacci: 4.76837158203125e-07 seconds\n",
            "Execution time of fibonacci: 4.76837158203125e-07 seconds\n",
            "Execution time of fibonacci: 7.033348083496094e-05 seconds\n",
            "Execution time of fibonacci: 2.384185791015625e-07 seconds\n",
            "Execution time of fibonacci: 9.417533874511719e-05 seconds\n",
            "Execution time of fibonacci: 2.384185791015625e-07 seconds\n",
            "Execution time of fibonacci: 4.76837158203125e-07 seconds\n",
            "Execution time of fibonacci: 5.435943603515625e-05 seconds\n",
            "Execution time of fibonacci: 0.00017118453979492188 seconds\n",
            "Execution time of fibonacci: 4.76837158203125e-07 seconds\n",
            "Execution time of fibonacci: 4.76837158203125e-07 seconds\n",
            "Execution time of fibonacci: 4.863739013671875e-05 seconds\n",
            "Execution time of fibonacci: 4.76837158203125e-07 seconds\n",
            "Execution time of fibonacci: 7.343292236328125e-05 seconds\n",
            "Execution time of fibonacci: 0.00026607513427734375 seconds\n",
            "Execution time of fibonacci: 2.384185791015625e-07 seconds\n",
            "Execution time of fibonacci: 4.76837158203125e-07 seconds\n",
            "Execution time of fibonacci: 4.839897155761719e-05 seconds\n",
            "Execution time of fibonacci: 2.384185791015625e-07 seconds\n",
            "Execution time of fibonacci: 7.033348083496094e-05 seconds\n",
            "Execution time of fibonacci: 2.384185791015625e-07 seconds\n",
            "Execution time of fibonacci: 2.384185791015625e-07 seconds\n",
            "Execution time of fibonacci: 6.389617919921875e-05 seconds\n",
            "Execution time of fibonacci: 0.0001633167266845703 seconds\n",
            "Execution time of fibonacci: 0.00045180320739746094 seconds\n",
            "Execution time of fibonacci: 2.384185791015625e-07 seconds\n",
            "Execution time of fibonacci: 7.152557373046875e-07 seconds\n",
            "Execution time of fibonacci: 3.886222839355469e-05 seconds\n",
            "Execution time of fibonacci: 2.384185791015625e-07 seconds\n",
            "Execution time of fibonacci: 0.00010561943054199219 seconds\n",
            "Execution time of fibonacci: 4.76837158203125e-07 seconds\n",
            "Execution time of fibonacci: 4.76837158203125e-07 seconds\n",
            "Execution time of fibonacci: 5.9604644775390625e-05 seconds\n",
            "Execution time of fibonacci: 0.0002071857452392578 seconds\n",
            "Execution time of fibonacci: 4.76837158203125e-07 seconds\n",
            "Execution time of fibonacci: 4.76837158203125e-07 seconds\n",
            "Execution time of fibonacci: 0.00039887428283691406 seconds\n",
            "Execution time of fibonacci: 9.5367431640625e-07 seconds\n",
            "Execution time of fibonacci: 0.0004410743713378906 seconds\n",
            "Execution time of fibonacci: 0.0006804466247558594 seconds\n",
            "Execution time of fibonacci: 0.001180887222290039 seconds\n",
            "Execution time of fibonacci: 4.76837158203125e-07 seconds\n",
            "Execution time of fibonacci: 4.76837158203125e-07 seconds\n",
            "Execution time of fibonacci: 3.123283386230469e-05 seconds\n",
            "Execution time of fibonacci: 4.76837158203125e-07 seconds\n",
            "Execution time of fibonacci: 6.031990051269531e-05 seconds\n",
            "Execution time of fibonacci: 2.384185791015625e-07 seconds\n",
            "Execution time of fibonacci: 2.384185791015625e-07 seconds\n",
            "Execution time of fibonacci: 3.695487976074219e-05 seconds\n",
            "Execution time of fibonacci: 0.00012755393981933594 seconds\n",
            "Execution time of fibonacci: 2.384185791015625e-07 seconds\n",
            "Execution time of fibonacci: 2.384185791015625e-07 seconds\n",
            "Execution time of fibonacci: 2.288818359375e-05 seconds\n",
            "Execution time of fibonacci: 3.409385681152344e-05 seconds\n",
            "Execution time of fibonacci: 9.059906005859375e-05 seconds\n",
            "Execution time of fibonacci: 0.0002474784851074219 seconds\n",
            "Execution time of fibonacci: 2.384185791015625e-07 seconds\n",
            "Execution time of fibonacci: 2.384185791015625e-07 seconds\n",
            "Execution time of fibonacci: 2.6702880859375e-05 seconds\n",
            "Execution time of fibonacci: 7.152557373046875e-07 seconds\n",
            "Execution time of fibonacci: 0.00017023086547851562 seconds\n",
            "Execution time of fibonacci: 7.152557373046875e-07 seconds\n",
            "Execution time of fibonacci: 2.384185791015625e-07 seconds\n",
            "Execution time of fibonacci: 2.7894973754882812e-05 seconds\n",
            "Execution time of fibonacci: 0.00022721290588378906 seconds\n",
            "Execution time of fibonacci: 0.0004975795745849609 seconds\n",
            "Execution time of fibonacci: 0.0017027854919433594 seconds\n",
            "Execution time of fibonacci: 2.384185791015625e-07 seconds\n",
            "Execution time of fibonacci: 2.384185791015625e-07 seconds\n",
            "Execution time of fibonacci: 2.6702880859375e-05 seconds\n",
            "Execution time of fibonacci: 4.76837158203125e-07 seconds\n",
            "Execution time of fibonacci: 5.3882598876953125e-05 seconds\n",
            "Execution time of fibonacci: 4.76837158203125e-07 seconds\n",
            "Execution time of fibonacci: 4.76837158203125e-07 seconds\n",
            "Execution time of fibonacci: 2.5272369384765625e-05 seconds\n",
            "Execution time of fibonacci: 0.00010395050048828125 seconds\n",
            "Execution time of fibonacci: 4.76837158203125e-07 seconds\n",
            "Execution time of fibonacci: 2.384185791015625e-07 seconds\n",
            "Execution time of fibonacci: 3.409385681152344e-05 seconds\n",
            "Execution time of fibonacci: 7.152557373046875e-07 seconds\n",
            "Execution time of fibonacci: 6.437301635742188e-05 seconds\n",
            "Execution time of fibonacci: 0.00020933151245117188 seconds\n",
            "Execution time of fibonacci: 2.384185791015625e-07 seconds\n",
            "Execution time of fibonacci: 2.384185791015625e-07 seconds\n",
            "Execution time of fibonacci: 2.8371810913085938e-05 seconds\n",
            "Execution time of fibonacci: 4.76837158203125e-07 seconds\n",
            "Execution time of fibonacci: 5.459785461425781e-05 seconds\n",
            "Execution time of fibonacci: 2.384185791015625e-07 seconds\n",
            "Execution time of fibonacci: 7.152557373046875e-07 seconds\n",
            "Execution time of fibonacci: 2.8133392333984375e-05 seconds\n",
            "Execution time of fibonacci: 0.00010800361633300781 seconds\n",
            "Execution time of fibonacci: 0.0003437995910644531 seconds\n",
            "Execution time of fibonacci: 2.384185791015625e-07 seconds\n",
            "Execution time of fibonacci: 2.384185791015625e-07 seconds\n",
            "Execution time of fibonacci: 3.075599670410156e-05 seconds\n",
            "Execution time of fibonacci: 4.76837158203125e-07 seconds\n",
            "Execution time of fibonacci: 5.936622619628906e-05 seconds\n",
            "Execution time of fibonacci: 4.76837158203125e-07 seconds\n",
            "Execution time of fibonacci: 4.76837158203125e-07 seconds\n",
            "Execution time of fibonacci: 6.747245788574219e-05 seconds\n",
            "Execution time of fibonacci: 0.00015616416931152344 seconds\n",
            "Execution time of fibonacci: 2.956390380859375e-05 seconds\n",
            "Execution time of fibonacci: 4.76837158203125e-07 seconds\n",
            "Execution time of fibonacci: 7.867813110351562e-05 seconds\n",
            "Execution time of fibonacci: 4.76837158203125e-07 seconds\n",
            "Execution time of fibonacci: 0.00015664100646972656 seconds\n",
            "Execution time of fibonacci: 0.00035071372985839844 seconds\n",
            "Execution time of fibonacci: 0.0008263587951660156 seconds\n",
            "Execution time of fibonacci: 0.0025625228881835938 seconds\n",
            "Execution time of fibonacci: 4.76837158203125e-07 seconds\n",
            "Execution time of fibonacci: 4.76837158203125e-07 seconds\n",
            "Execution time of fibonacci: 3.790855407714844e-05 seconds\n",
            "Execution time of fibonacci: 4.76837158203125e-07 seconds\n",
            "Execution time of fibonacci: 7.152557373046875e-05 seconds\n",
            "Execution time of fibonacci: 2.384185791015625e-07 seconds\n",
            "Execution time of fibonacci: 4.76837158203125e-07 seconds\n",
            "Execution time of fibonacci: 3.170967102050781e-05 seconds\n",
            "Execution time of fibonacci: 0.0001361370086669922 seconds\n",
            "Execution time of fibonacci: 2.384185791015625e-07 seconds\n",
            "Execution time of fibonacci: 7.152557373046875e-07 seconds\n",
            "Execution time of fibonacci: 4.00543212890625e-05 seconds\n",
            "Execution time of fibonacci: 4.76837158203125e-07 seconds\n",
            "Execution time of fibonacci: 7.319450378417969e-05 seconds\n",
            "Execution time of fibonacci: 0.00024509429931640625 seconds\n",
            "Execution time of fibonacci: 2.384185791015625e-07 seconds\n",
            "Execution time of fibonacci: 7.152557373046875e-07 seconds\n",
            "Execution time of fibonacci: 3.933906555175781e-05 seconds\n",
            "Execution time of fibonacci: 4.76837158203125e-07 seconds\n",
            "Execution time of fibonacci: 0.00011372566223144531 seconds\n",
            "Execution time of fibonacci: 2.384185791015625e-07 seconds\n",
            "Execution time of fibonacci: 4.76837158203125e-07 seconds\n",
            "Execution time of fibonacci: 3.457069396972656e-05 seconds\n",
            "Execution time of fibonacci: 0.000179290771484375 seconds\n",
            "Execution time of fibonacci: 0.0004622936248779297 seconds\n",
            "Execution time of fibonacci: 2.384185791015625e-07 seconds\n",
            "Execution time of fibonacci: 7.152557373046875e-07 seconds\n",
            "Execution time of fibonacci: 2.8848648071289062e-05 seconds\n",
            "Execution time of fibonacci: 4.76837158203125e-07 seconds\n",
            "Execution time of fibonacci: 5.459785461425781e-05 seconds\n",
            "Execution time of fibonacci: 4.76837158203125e-07 seconds\n",
            "Execution time of fibonacci: 2.384185791015625e-07 seconds\n",
            "Execution time of fibonacci: 2.3126602172851562e-05 seconds\n",
            "Execution time of fibonacci: 0.00010180473327636719 seconds\n",
            "Execution time of fibonacci: 4.76837158203125e-07 seconds\n",
            "Execution time of fibonacci: 2.384185791015625e-07 seconds\n",
            "Execution time of fibonacci: 2.86102294921875e-05 seconds\n",
            "Execution time of fibonacci: 4.76837158203125e-07 seconds\n",
            "Execution time of fibonacci: 5.626678466796875e-05 seconds\n",
            "Execution time of fibonacci: 0.00018215179443359375 seconds\n",
            "Execution time of fibonacci: 0.0006701946258544922 seconds\n",
            "Execution time of fibonacci: 2.384185791015625e-07 seconds\n",
            "Execution time of fibonacci: 4.76837158203125e-07 seconds\n",
            "Execution time of fibonacci: 0.00045037269592285156 seconds\n",
            "Execution time of fibonacci: 4.76837158203125e-07 seconds\n",
            "Execution time of fibonacci: 0.0004858970642089844 seconds\n",
            "Execution time of fibonacci: 2.384185791015625e-07 seconds\n",
            "Execution time of fibonacci: 4.76837158203125e-07 seconds\n",
            "Execution time of fibonacci: 2.7418136596679688e-05 seconds\n",
            "Execution time of fibonacci: 0.0005714893341064453 seconds\n",
            "Execution time of fibonacci: 2.384185791015625e-07 seconds\n",
            "Execution time of fibonacci: 4.76837158203125e-07 seconds\n",
            "Execution time of fibonacci: 3.647804260253906e-05 seconds\n",
            "Execution time of fibonacci: 2.384185791015625e-07 seconds\n",
            "Execution time of fibonacci: 6.604194641113281e-05 seconds\n",
            "Execution time of fibonacci: 0.0006611347198486328 seconds\n",
            "Execution time of fibonacci: 2.384185791015625e-07 seconds\n",
            "Execution time of fibonacci: 7.152557373046875e-07 seconds\n",
            "Execution time of fibonacci: 3.075599670410156e-05 seconds\n",
            "Execution time of fibonacci: 2.384185791015625e-07 seconds\n",
            "Execution time of fibonacci: 5.53131103515625e-05 seconds\n",
            "Execution time of fibonacci: 4.76837158203125e-07 seconds\n",
            "Execution time of fibonacci: 7.152557373046875e-07 seconds\n",
            "Execution time of fibonacci: 2.6464462280273438e-05 seconds\n",
            "Execution time of fibonacci: 0.00010633468627929688 seconds\n",
            "Execution time of fibonacci: 0.0007901191711425781 seconds\n",
            "Execution time of fibonacci: 0.0015392303466796875 seconds\n",
            "Execution time of fibonacci: 0.004130840301513672 seconds\n",
            "55\n"
          ]
        }
      ]
    },
    {
      "cell_type": "markdown",
      "source": [
        "# 2. The @debug decorator"
      ],
      "metadata": {
        "id": "ueGScSMsdTjw"
      }
    },
    {
      "cell_type": "code",
      "source": [
        "from functools import wraps\n",
        "\n",
        "def debug(func):\n",
        "    @wraps(func)\n",
        "    def wrapper(*args, **kwargs):\n",
        "        print(f\"Calling {func.__name__} with args: {args} and kwargs: {kwargs}\")\n",
        "        result = func(*args, **kwargs)\n",
        "        print(f\"{func.__name__} returned: {result}\")\n",
        "        return result\n",
        "    return wrapper"
      ],
      "metadata": {
        "id": "xkC8qw7rdIr1"
      },
      "execution_count": 7,
      "outputs": []
    },
    {
      "cell_type": "code",
      "source": [
        "@debug\n",
        "def add(x, y):\n",
        "    \"\"\"Returns the sum of x and y\"\"\"\n",
        "    return x + y\n",
        "\n",
        "@debug\n",
        "def greet(name, message=\"Hello\"):\n",
        "    \"\"\"Returns a greeting message with the name\"\"\"\n",
        "    return f\"{message}, {name}!\"\n",
        "\n",
        "print(add(2, 3))\n",
        "print(greet(\"Alice\"))\n",
        "print(greet(\"Bob\", message=\"Hi\"))"
      ],
      "metadata": {
        "colab": {
          "base_uri": "https://localhost:8080/"
        },
        "id": "tKbtTLewdVF5",
        "outputId": "f0c8b4b9-1f85-4ffc-b433-e24c0ffc657a"
      },
      "execution_count": 8,
      "outputs": [
        {
          "output_type": "stream",
          "name": "stdout",
          "text": [
            "Calling add with args: (2, 3) and kwargs: {}\n",
            "add returned: 5\n",
            "5\n",
            "Calling greet with args: ('Alice',) and kwargs: {}\n",
            "greet returned: Hello, Alice!\n",
            "Hello, Alice!\n",
            "Calling greet with args: ('Bob',) and kwargs: {'message': 'Hi'}\n",
            "greet returned: Hi, Bob!\n",
            "Hi, Bob!\n"
          ]
        }
      ]
    },
    {
      "cell_type": "markdown",
      "source": [
        "# 3. The @memoize decorator"
      ],
      "metadata": {
        "id": "X3WDv1Agdc6N"
      }
    },
    {
      "cell_type": "code",
      "source": [
        "from functools import wraps\n",
        "\n",
        "def memoize(func):\n",
        "    cache = {}\n",
        "    @wraps(func)\n",
        "    def wrapper(*args):\n",
        "        if args in cache:\n",
        "            return cache[args]\n",
        "        else:\n",
        "            result = func(*args)\n",
        "            cache[args] = result\n",
        "            return result\n",
        "    return wrapper"
      ],
      "metadata": {
        "id": "-vfDS8igdXXN"
      },
      "execution_count": 9,
      "outputs": []
    },
    {
      "cell_type": "code",
      "source": [
        "@memoize\n",
        "def factorial(n):\n",
        "    \"\"\"Returns the factorial of n\"\"\"\n",
        "    if n == 0 or n == 1:\n",
        "        return 1\n",
        "    else:\n",
        "        return n * factorial(n - 1)\n",
        "@memoize\n",
        "def fibonacci(n):\n",
        "    \"\"\"Returns the nth Fibonacci number\"\"\"\n",
        "    if n == 0 or n == 1:\n",
        "        return n\n",
        "    else:\n",
        "        return fibonacci(n - 1) + fibonacci(n - 2)\n",
        "print(factorial(10))\n",
        "print(fibonacci(10))"
      ],
      "metadata": {
        "colab": {
          "base_uri": "https://localhost:8080/"
        },
        "id": "UhAzInEFdeVA",
        "outputId": "de5fd665-0398-41de-b885-12a14a11e504"
      },
      "execution_count": 10,
      "outputs": [
        {
          "output_type": "stream",
          "name": "stdout",
          "text": [
            "3628800\n",
            "55\n"
          ]
        }
      ]
    }
  ]
}
