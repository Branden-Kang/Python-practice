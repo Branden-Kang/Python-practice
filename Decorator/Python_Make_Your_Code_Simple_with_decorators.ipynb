{
  "nbformat": 4,
  "nbformat_minor": 0,
  "metadata": {
    "colab": {
      "name": "Python: Make Your Code Simple with decorators.ipynb",
      "provenance": [],
      "authorship_tag": "ABX9TyNFLj+vaXj0EPUiALz5SSW/"
    },
    "kernelspec": {
      "name": "python3",
      "display_name": "Python 3"
    },
    "language_info": {
      "name": "python"
    }
  },
  "cells": [
    {
      "cell_type": "markdown",
      "metadata": {
        "id": "QKlkH4wr3pwl"
      },
      "source": [
        "[Reference](https://medium.com/geekculture/make-your-code-simple-with-python-decorators-598b25a3e93a)"
      ]
    },
    {
      "cell_type": "code",
      "metadata": {
        "colab": {
          "base_uri": "https://localhost:8080/"
        },
        "id": "WKSv04dq2oH4",
        "outputId": "29b5cad2-d077-46eb-bf42-136551d023b8"
      },
      "source": [
        "def my_function():\n",
        "    print(\"Decorators example\")\n",
        "\n",
        "my_function()"
      ],
      "execution_count": 1,
      "outputs": [
        {
          "output_type": "stream",
          "text": [
            "Decorators example\n"
          ],
          "name": "stdout"
        }
      ]
    },
    {
      "cell_type": "code",
      "metadata": {
        "colab": {
          "base_uri": "https://localhost:8080/"
        },
        "id": "IXgwbNK73tVr",
        "outputId": "02345fd3-8814-443e-9701-def02295cad2"
      },
      "source": [
        "print(my_function)"
      ],
      "execution_count": 2,
      "outputs": [
        {
          "output_type": "stream",
          "text": [
            "<function my_function at 0x7fcfbae80170>\n"
          ],
          "name": "stdout"
        }
      ]
    },
    {
      "cell_type": "code",
      "metadata": {
        "colab": {
          "base_uri": "https://localhost:8080/"
        },
        "id": "lpipHLD33u_M",
        "outputId": "c2fa8af6-5037-460c-b04d-f11493cd744b"
      },
      "source": [
        "def my_function_type_1():\n",
        "    print(\"type1\")\n",
        "\n",
        "\n",
        "def my_function_type_2():\n",
        "    print(\"type2\")\n",
        "\n",
        "\n",
        "def my_function_type_3():\n",
        "    print(\"type3\")\n",
        "\n",
        "\n",
        "types = {\n",
        "    'type1': my_function_type_1,\n",
        "    'type2': my_function_type_2,\n",
        "    'type3': my_function_type_3\n",
        "}\n",
        "\n",
        "\n",
        "def typeHandler(type):\n",
        "    types[type]()\n",
        "\n",
        "\n",
        "typeHandler('type1')\n",
        "typeHandler('type2')\n",
        "typeHandler('type3')"
      ],
      "execution_count": 3,
      "outputs": [
        {
          "output_type": "stream",
          "text": [
            "type1\n",
            "type2\n",
            "type3\n"
          ],
          "name": "stdout"
        }
      ]
    },
    {
      "cell_type": "code",
      "metadata": {
        "colab": {
          "base_uri": "https://localhost:8080/"
        },
        "id": "-BLsE7cY3xOT",
        "outputId": "b17afc1e-78da-4f93-94c0-505effd1e978"
      },
      "source": [
        "def my_callback_function():\n",
        "    print(\"Callback\")\n",
        "\n",
        "\n",
        "def my_function(callback):\n",
        "    print(\"Doing my stuff\")\n",
        "    # when my logic is done call the parameter function\n",
        "    callback()\n",
        "    print(\"Callback done\")\n",
        "\n",
        "\n",
        "my_function(my_callback_function)"
      ],
      "execution_count": 4,
      "outputs": [
        {
          "output_type": "stream",
          "text": [
            "Doing my stuff\n",
            "Callback\n",
            "Callback done\n"
          ],
          "name": "stdout"
        }
      ]
    },
    {
      "cell_type": "code",
      "metadata": {
        "colab": {
          "base_uri": "https://localhost:8080/"
        },
        "id": "JUsV1z5V3zWr",
        "outputId": "7eecd1f8-0167-4912-81db-ea4e0dc31317"
      },
      "source": [
        "import datetime as dt\n",
        "\n",
        "def time_compute(compute_function):\n",
        "    def wrap():\n",
        "        begin = dt.datetime.utcnow()\n",
        "        compute_function()\n",
        "        end = dt.datetime.utcnow()\n",
        "        print(\"Time: \", end - begin)\n",
        "    wrap()\n",
        "\n",
        "def my_compute_function():\n",
        "    print(\"My compute stuff\")\n",
        "    \n",
        "time_compute(my_compute_function)"
      ],
      "execution_count": 5,
      "outputs": [
        {
          "output_type": "stream",
          "text": [
            "My compute stuff\n",
            "Time:  0:00:00.000511\n"
          ],
          "name": "stdout"
        }
      ]
    },
    {
      "cell_type": "code",
      "metadata": {
        "colab": {
          "base_uri": "https://localhost:8080/"
        },
        "id": "CIHbMX_733SD",
        "outputId": "ac132933-572a-476f-c9c8-91dfad2b5060"
      },
      "source": [
        "import datetime as dt\n",
        "\n",
        "def time_compute(compute_function):\n",
        "    def wrap(*args, **kwargs):\n",
        "        begin = dt.datetime.utcnow()\n",
        "        compute_function(*args, **kwargs)\n",
        "        end = dt.datetime.utcnow()\n",
        "        print(\"Time: \", end - begin)\n",
        "    return wrap\n",
        "\n",
        "def my_compute_function(number):\n",
        "    for i in range(number):\n",
        "        print(\"{} my compute function\".format(i))\n",
        "\n",
        "time_compute(my_compute_function)(2)"
      ],
      "execution_count": 6,
      "outputs": [
        {
          "output_type": "stream",
          "text": [
            "0 my compute function\n",
            "1 my compute function\n",
            "Time:  0:00:00.001798\n"
          ],
          "name": "stdout"
        }
      ]
    },
    {
      "cell_type": "code",
      "metadata": {
        "colab": {
          "base_uri": "https://localhost:8080/"
        },
        "id": "hhFRi__04Dd9",
        "outputId": "bb3c5d70-70d6-4a50-9b05-53917cfa3d6f"
      },
      "source": [
        "import datetime as dt\n",
        "\n",
        "def time_compute(compute_function):\n",
        "    def wrap(*args, **kwargs):\n",
        "        begin = dt.datetime.utcnow()\n",
        "        compute_function(*args, **kwargs)\n",
        "        end = dt.datetime.utcnow()\n",
        "        print(\"Time: \", end - begin)\n",
        "    return wrap\n",
        "\n",
        "@time_compute\n",
        "def my_compute_function(number):\n",
        "    for i in range(number):\n",
        "        print(\"{} my compute function\".format(i))\n",
        "\n",
        "my_compute_function(2)"
      ],
      "execution_count": 7,
      "outputs": [
        {
          "output_type": "stream",
          "text": [
            "0 my compute function\n",
            "1 my compute function\n",
            "Time:  0:00:00.003115\n"
          ],
          "name": "stdout"
        }
      ]
    },
    {
      "cell_type": "code",
      "metadata": {
        "colab": {
          "base_uri": "https://localhost:8080/"
        },
        "id": "YFK_vWTT4RTb",
        "outputId": "078aff29-5fc5-4206-e7a7-10467675a9d0"
      },
      "source": [
        "import datetime as dt\n",
        "\n",
        "def time_compute(compute_function):\n",
        "    def wrap(*args, **kwargs):\n",
        "        begin = dt.datetime.utcnow()\n",
        "        ret_value = compute_function(*args, **kwargs)\n",
        "        end = dt.datetime.utcnow()\n",
        "        print(\"Time: \", end - begin)\n",
        "        return ret_value\n",
        "    return wrap\n",
        "\n",
        "@time_compute\n",
        "def my_compute_function(number):\n",
        "    value = 0\n",
        "    for i in range(number):\n",
        "        print(\"{} my compute function\".format(i))\n",
        "        value += i\n",
        "    return value\n",
        "\n",
        "value = my_compute_function(2)\n",
        "print(\"Value: \", value)"
      ],
      "execution_count": 8,
      "outputs": [
        {
          "output_type": "stream",
          "text": [
            "0 my compute function\n",
            "1 my compute function\n",
            "Time:  0:00:00.000254\n",
            "Value:  1\n"
          ],
          "name": "stdout"
        }
      ]
    },
    {
      "cell_type": "code",
      "metadata": {
        "colab": {
          "base_uri": "https://localhost:8080/"
        },
        "id": "s70MQD8q4VDp",
        "outputId": "7046dcc7-b190-4e8e-f4c4-995033728d5e"
      },
      "source": [
        "import datetime as dt\n",
        "\n",
        "def logg_function(compute_function):\n",
        "    def wrap(*args, **kwargs):\n",
        "        print(\"Call\", str(compute_function), \"with args:\", [str(arg) for arg in args], \"with kwargs\", [key + '_' + str(arg) for key, arg in kwargs.items()])\n",
        "        ret_value = compute_function(*args, **kwargs)\n",
        "        return ret_value\n",
        "    return wrap\n",
        "\n",
        "def time_compute(compute_function):\n",
        "    def wrap(*args, **kwargs):\n",
        "        begin = dt.datetime.utcnow()\n",
        "        ret_value = compute_function(*args, **kwargs)\n",
        "        end = dt.datetime.utcnow()\n",
        "        print(\"Time: \", end - begin)\n",
        "        return ret_value\n",
        "    return wrap\n",
        "\n",
        "@logg_function\n",
        "@time_compute\n",
        "def my_compute_function(number):\n",
        "    value = 0\n",
        "    for i in range(number):\n",
        "        print(\"{} my compute function\".format(i))\n",
        "        value += i\n",
        "    return value\n",
        "\n",
        "value = my_compute_function(2)\n",
        "print(\"Value: \", value)"
      ],
      "execution_count": 9,
      "outputs": [
        {
          "output_type": "stream",
          "text": [
            "Call <function time_compute.<locals>.wrap at 0x7fcfb8be1440> with args: ['2'] with kwargs []\n",
            "0 my compute function\n",
            "1 my compute function\n",
            "Time:  0:00:00.000374\n",
            "Value:  1\n"
          ],
          "name": "stdout"
        }
      ]
    }
  ]
}