{
  "nbformat": 4,
  "nbformat_minor": 0,
  "metadata": {
    "colab": {
      "name": "Python’s Closures.ipynb",
      "provenance": [],
      "authorship_tag": "ABX9TyN5Ybt07KnwdEM9G9t5zT6i"
    },
    "kernelspec": {
      "name": "python3",
      "display_name": "Python 3"
    }
  },
  "cells": [
    {
      "cell_type": "markdown",
      "metadata": {
        "id": "RHCoHsBH2bwX"
      },
      "source": [
        "[Reference](https://medium.com/swlh/anatomize-pythons-closures-dbf0fa217d38)"
      ]
    },
    {
      "cell_type": "code",
      "metadata": {
        "colab": {
          "base_uri": "https://localhost:8080/"
        },
        "id": "rn8a9zrv15lP",
        "outputId": "dcc60556-07e4-4d2a-83c8-7d71a3a01240"
      },
      "source": [
        "def make_incrementer(step):\n",
        "     # Track the count\n",
        "     counter = 0\n",
        "     # Define the incrementer function\n",
        "     def incrementer():\n",
        "         nonlocal counter\n",
        "         counter += step\n",
        "         return counter\n",
        "     # Return the incrementer function\n",
        "     return incrementer\n",
        " \n",
        "incrementer_ten = make_incrementer(10)\n",
        "incrementer_ten"
      ],
      "execution_count": 1,
      "outputs": [
        {
          "output_type": "execute_result",
          "data": {
            "text/plain": [
              "<function __main__.make_incrementer.<locals>.incrementer>"
            ]
          },
          "metadata": {
            "tags": []
          },
          "execution_count": 1
        }
      ]
    },
    {
      "cell_type": "code",
      "metadata": {
        "colab": {
          "base_uri": "https://localhost:8080/",
          "height": 351
        },
        "id": "mULtYVqz2iVW",
        "outputId": "c6ed7ac0-92ee-447e-ca83-9744f437cea9"
      },
      "source": [
        "def outer_function():\n",
        "     number = 0\n",
        "     def inner_function():\n",
        "         number += 1\n",
        "         return number\n",
        "     return inner_function\n",
        " \n",
        "outer_function()()"
      ],
      "execution_count": 2,
      "outputs": [
        {
          "output_type": "error",
          "ename": "UnboundLocalError",
          "evalue": "ignored",
          "traceback": [
            "\u001b[0;31m---------------------------------------------------------------------------\u001b[0m",
            "\u001b[0;31mUnboundLocalError\u001b[0m                         Traceback (most recent call last)",
            "\u001b[0;32m<ipython-input-2-0bed3faf3157>\u001b[0m in \u001b[0;36m<module>\u001b[0;34m()\u001b[0m\n\u001b[1;32m      6\u001b[0m      \u001b[0;32mreturn\u001b[0m \u001b[0minner_function\u001b[0m\u001b[0;34m\u001b[0m\u001b[0;34m\u001b[0m\u001b[0m\n\u001b[1;32m      7\u001b[0m \u001b[0;34m\u001b[0m\u001b[0m\n\u001b[0;32m----> 8\u001b[0;31m \u001b[0mouter_function\u001b[0m\u001b[0;34m(\u001b[0m\u001b[0;34m)\u001b[0m\u001b[0;34m(\u001b[0m\u001b[0;34m)\u001b[0m\u001b[0;34m\u001b[0m\u001b[0;34m\u001b[0m\u001b[0m\n\u001b[0m",
            "\u001b[0;32m<ipython-input-2-0bed3faf3157>\u001b[0m in \u001b[0;36minner_function\u001b[0;34m()\u001b[0m\n\u001b[1;32m      2\u001b[0m      \u001b[0mnumber\u001b[0m \u001b[0;34m=\u001b[0m \u001b[0;36m0\u001b[0m\u001b[0;34m\u001b[0m\u001b[0;34m\u001b[0m\u001b[0m\n\u001b[1;32m      3\u001b[0m      \u001b[0;32mdef\u001b[0m \u001b[0minner_function\u001b[0m\u001b[0;34m(\u001b[0m\u001b[0;34m)\u001b[0m\u001b[0;34m:\u001b[0m\u001b[0;34m\u001b[0m\u001b[0;34m\u001b[0m\u001b[0m\n\u001b[0;32m----> 4\u001b[0;31m          \u001b[0mnumber\u001b[0m \u001b[0;34m+=\u001b[0m \u001b[0;36m1\u001b[0m\u001b[0;34m\u001b[0m\u001b[0;34m\u001b[0m\u001b[0m\n\u001b[0m\u001b[1;32m      5\u001b[0m          \u001b[0;32mreturn\u001b[0m \u001b[0mnumber\u001b[0m\u001b[0;34m\u001b[0m\u001b[0;34m\u001b[0m\u001b[0m\n\u001b[1;32m      6\u001b[0m      \u001b[0;32mreturn\u001b[0m \u001b[0minner_function\u001b[0m\u001b[0;34m\u001b[0m\u001b[0;34m\u001b[0m\u001b[0m\n",
            "\u001b[0;31mUnboundLocalError\u001b[0m: local variable 'number' referenced before assignment"
          ]
        }
      ]
    },
    {
      "cell_type": "code",
      "metadata": {
        "colab": {
          "base_uri": "https://localhost:8080/"
        },
        "id": "9z5_QX4H2o42",
        "outputId": "c38a3749-6cc6-43bf-e945-b3f2f2b92b50"
      },
      "source": [
        "incrementer_ten()"
      ],
      "execution_count": 3,
      "outputs": [
        {
          "output_type": "execute_result",
          "data": {
            "text/plain": [
              "10"
            ]
          },
          "metadata": {
            "tags": []
          },
          "execution_count": 3
        }
      ]
    },
    {
      "cell_type": "code",
      "metadata": {
        "id": "tjdMbI2o2qe6"
      },
      "source": [
        "del make_incrementer"
      ],
      "execution_count": 4,
      "outputs": []
    },
    {
      "cell_type": "code",
      "metadata": {
        "colab": {
          "base_uri": "https://localhost:8080/",
          "height": 198
        },
        "id": "xyou61v82rYF",
        "outputId": "f167021c-37cf-462c-c2e5-3eb05826685b"
      },
      "source": [
        "make_incrementer(10)"
      ],
      "execution_count": 5,
      "outputs": [
        {
          "output_type": "error",
          "ename": "NameError",
          "evalue": "ignored",
          "traceback": [
            "\u001b[0;31m---------------------------------------------------------------------------\u001b[0m",
            "\u001b[0;31mNameError\u001b[0m                                 Traceback (most recent call last)",
            "\u001b[0;32m<ipython-input-5-1b33eb7ce2d0>\u001b[0m in \u001b[0;36m<module>\u001b[0;34m()\u001b[0m\n\u001b[0;32m----> 1\u001b[0;31m \u001b[0mmake_incrementer\u001b[0m\u001b[0;34m(\u001b[0m\u001b[0;36m10\u001b[0m\u001b[0;34m)\u001b[0m\u001b[0;34m\u001b[0m\u001b[0;34m\u001b[0m\u001b[0m\n\u001b[0m",
            "\u001b[0;31mNameError\u001b[0m: name 'make_incrementer' is not defined"
          ]
        }
      ]
    },
    {
      "cell_type": "code",
      "metadata": {
        "colab": {
          "base_uri": "https://localhost:8080/"
        },
        "id": "_lWlvTLS2sL3",
        "outputId": "38ada1ce-dddf-4bb4-c1d6-867caa61596a"
      },
      "source": [
        "incrementer_ten.__code__.co_freevars"
      ],
      "execution_count": 6,
      "outputs": [
        {
          "output_type": "execute_result",
          "data": {
            "text/plain": [
              "('counter', 'step')"
            ]
          },
          "metadata": {
            "tags": []
          },
          "execution_count": 6
        }
      ]
    },
    {
      "cell_type": "code",
      "metadata": {
        "colab": {
          "base_uri": "https://localhost:8080/"
        },
        "id": "tNiVQMgs2uKm",
        "outputId": "9938bd03-0300-41ec-c4fe-fe9f45a50010"
      },
      "source": [
        "incrementer_ten.__closure__"
      ],
      "execution_count": 7,
      "outputs": [
        {
          "output_type": "execute_result",
          "data": {
            "text/plain": [
              "(<cell at 0x7f5dad54b498: int object at 0xa68be0>,\n",
              " <cell at 0x7f5dad54b2b8: int object at 0xa68be0>)"
            ]
          },
          "metadata": {
            "tags": []
          },
          "execution_count": 7
        }
      ]
    },
    {
      "cell_type": "code",
      "metadata": {
        "colab": {
          "base_uri": "https://localhost:8080/"
        },
        "id": "wj3i8MaF2vkI",
        "outputId": "c15cac6c-cf8c-4bb3-c678-c4cb611e4c43"
      },
      "source": [
        "incrementer_ten.__closure__[0].cell_contents"
      ],
      "execution_count": 8,
      "outputs": [
        {
          "output_type": "execute_result",
          "data": {
            "text/plain": [
              "10"
            ]
          },
          "metadata": {
            "tags": []
          },
          "execution_count": 8
        }
      ]
    },
    {
      "cell_type": "code",
      "metadata": {
        "colab": {
          "base_uri": "https://localhost:8080/"
        },
        "id": "RDT5TYps2wm0",
        "outputId": "0f7ac320-195e-4a18-fa06-5a5e0c98a6ad"
      },
      "source": [
        "incrementer_ten.__closure__[1].cell_contents"
      ],
      "execution_count": 9,
      "outputs": [
        {
          "output_type": "execute_result",
          "data": {
            "text/plain": [
              "10"
            ]
          },
          "metadata": {
            "tags": []
          },
          "execution_count": 9
        }
      ]
    },
    {
      "cell_type": "code",
      "metadata": {
        "colab": {
          "base_uri": "https://localhost:8080/"
        },
        "id": "FmsNaZCo2xI7",
        "outputId": "18796eb2-a506-4d06-8949-71d068852035"
      },
      "source": [
        "type(incrementer_ten)"
      ],
      "execution_count": 10,
      "outputs": [
        {
          "output_type": "execute_result",
          "data": {
            "text/plain": [
              "function"
            ]
          },
          "metadata": {
            "tags": []
          },
          "execution_count": 10
        }
      ]
    },
    {
      "cell_type": "code",
      "metadata": {
        "colab": {
          "base_uri": "https://localhost:8080/"
        },
        "id": "K7ZQnJUG2ypr",
        "outputId": "2021b8c5-a7d9-4f07-d883-be9852f430d3"
      },
      "source": [
        "incrementer_ten()"
      ],
      "execution_count": 11,
      "outputs": [
        {
          "output_type": "execute_result",
          "data": {
            "text/plain": [
              "20"
            ]
          },
          "metadata": {
            "tags": []
          },
          "execution_count": 11
        }
      ]
    },
    {
      "cell_type": "code",
      "metadata": {
        "colab": {
          "base_uri": "https://localhost:8080/"
        },
        "id": "KLhBKTN22zd2",
        "outputId": "936f21f5-6352-45ce-fcc4-f643862adff9"
      },
      "source": [
        "incrementer_ten()"
      ],
      "execution_count": 12,
      "outputs": [
        {
          "output_type": "execute_result",
          "data": {
            "text/plain": [
              "30"
            ]
          },
          "metadata": {
            "tags": []
          },
          "execution_count": 12
        }
      ]
    },
    {
      "cell_type": "code",
      "metadata": {
        "id": "HC_yOzIr2zli"
      },
      "source": [
        "def make_incrementer(step):\n",
        "     # Track the count\n",
        "     counter = 0\n",
        "     # Define the incrementer function\n",
        "     def incrementer():\n",
        "         nonlocal counter\n",
        "         counter += step\n",
        "         return counter\n",
        "     # Return the incrementer function\n",
        "     return incrementer\n",
        " \n",
        "incrementer_five = make_incrementer(5)"
      ],
      "execution_count": 14,
      "outputs": []
    },
    {
      "cell_type": "code",
      "metadata": {
        "colab": {
          "base_uri": "https://localhost:8080/"
        },
        "id": "T7II5zJ620XY",
        "outputId": "9c71456e-3db4-4b10-950a-f050b134c85b"
      },
      "source": [
        "incrementer_five()"
      ],
      "execution_count": 15,
      "outputs": [
        {
          "output_type": "execute_result",
          "data": {
            "text/plain": [
              "5"
            ]
          },
          "metadata": {
            "tags": []
          },
          "execution_count": 15
        }
      ]
    },
    {
      "cell_type": "code",
      "metadata": {
        "colab": {
          "base_uri": "https://localhost:8080/"
        },
        "id": "H4jPmYIJ24AM",
        "outputId": "9d3a2fcb-e052-4271-f30e-3606de24562b"
      },
      "source": [
        "incrementer_five()"
      ],
      "execution_count": 16,
      "outputs": [
        {
          "output_type": "execute_result",
          "data": {
            "text/plain": [
              "10"
            ]
          },
          "metadata": {
            "tags": []
          },
          "execution_count": 16
        }
      ]
    },
    {
      "cell_type": "code",
      "metadata": {
        "colab": {
          "base_uri": "https://localhost:8080/"
        },
        "id": "8Cu-vYDS246z",
        "outputId": "b67c2099-1c6f-49ab-8b5f-67f1ec912552"
      },
      "source": [
        "incrementer_ten.__code__.co_freevars"
      ],
      "execution_count": 17,
      "outputs": [
        {
          "output_type": "execute_result",
          "data": {
            "text/plain": [
              "('counter', 'step')"
            ]
          },
          "metadata": {
            "tags": []
          },
          "execution_count": 17
        }
      ]
    },
    {
      "cell_type": "code",
      "metadata": {
        "colab": {
          "base_uri": "https://localhost:8080/"
        },
        "id": "40VJ5D4I25q0",
        "outputId": "3447df49-326b-4719-e7b0-722eca9b0379"
      },
      "source": [
        "incrementer_five.__code__.co_freevars"
      ],
      "execution_count": 18,
      "outputs": [
        {
          "output_type": "execute_result",
          "data": {
            "text/plain": [
              "('counter', 'step')"
            ]
          },
          "metadata": {
            "tags": []
          },
          "execution_count": 18
        }
      ]
    },
    {
      "cell_type": "code",
      "metadata": {
        "colab": {
          "base_uri": "https://localhost:8080/"
        },
        "id": "ydXf2aE626wX",
        "outputId": "ca2a1c1d-6827-4fb8-f601-4067955be438"
      },
      "source": [
        "incrementer_ten.__closure__"
      ],
      "execution_count": 19,
      "outputs": [
        {
          "output_type": "execute_result",
          "data": {
            "text/plain": [
              "(<cell at 0x7f5dad54b498: int object at 0xa68e60>,\n",
              " <cell at 0x7f5dad54b2b8: int object at 0xa68be0>)"
            ]
          },
          "metadata": {
            "tags": []
          },
          "execution_count": 19
        }
      ]
    },
    {
      "cell_type": "code",
      "metadata": {
        "colab": {
          "base_uri": "https://localhost:8080/"
        },
        "id": "_-4tWRKt27vo",
        "outputId": "a6651379-2a99-4854-c77f-e264b3b19b63"
      },
      "source": [
        "incrementer_five.__closure__"
      ],
      "execution_count": 20,
      "outputs": [
        {
          "output_type": "execute_result",
          "data": {
            "text/plain": [
              "(<cell at 0x7f5dacc73288: int object at 0xa68be0>,\n",
              " <cell at 0x7f5dacc731f8: int object at 0xa68b40>)"
            ]
          },
          "metadata": {
            "tags": []
          },
          "execution_count": 20
        }
      ]
    },
    {
      "cell_type": "code",
      "metadata": {
        "colab": {
          "base_uri": "https://localhost:8080/"
        },
        "id": "WjTWv1a828xp",
        "outputId": "8324edb5-9132-472e-e56c-f3939166bc50"
      },
      "source": [
        "incrementer_ten.__closure__[0].cell_contents"
      ],
      "execution_count": 21,
      "outputs": [
        {
          "output_type": "execute_result",
          "data": {
            "text/plain": [
              "30"
            ]
          },
          "metadata": {
            "tags": []
          },
          "execution_count": 21
        }
      ]
    },
    {
      "cell_type": "code",
      "metadata": {
        "colab": {
          "base_uri": "https://localhost:8080/"
        },
        "id": "58Gy5z_-29vH",
        "outputId": "ddd89d9e-f052-4831-bcb0-279ffc24abab"
      },
      "source": [
        "incrementer_ten.__closure__[1].cell_contents"
      ],
      "execution_count": 22,
      "outputs": [
        {
          "output_type": "execute_result",
          "data": {
            "text/plain": [
              "10"
            ]
          },
          "metadata": {
            "tags": []
          },
          "execution_count": 22
        }
      ]
    },
    {
      "cell_type": "code",
      "metadata": {
        "colab": {
          "base_uri": "https://localhost:8080/"
        },
        "id": "g6E-9ayK2_Ac",
        "outputId": "4a8080c4-0f73-4f05-8c0a-9d2bdedeb47c"
      },
      "source": [
        "incrementer_five.__closure__[0].cell_contents"
      ],
      "execution_count": 23,
      "outputs": [
        {
          "output_type": "execute_result",
          "data": {
            "text/plain": [
              "10"
            ]
          },
          "metadata": {
            "tags": []
          },
          "execution_count": 23
        }
      ]
    },
    {
      "cell_type": "code",
      "metadata": {
        "colab": {
          "base_uri": "https://localhost:8080/"
        },
        "id": "nEtaaDqS3AcU",
        "outputId": "30762a01-7ae7-4064-fa32-68a3faaed793"
      },
      "source": [
        "incrementer_five.__closure__[1].cell_contents"
      ],
      "execution_count": 24,
      "outputs": [
        {
          "output_type": "execute_result",
          "data": {
            "text/plain": [
              "5"
            ]
          },
          "metadata": {
            "tags": []
          },
          "execution_count": 24
        }
      ]
    }
  ]
}