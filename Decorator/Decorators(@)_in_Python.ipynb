{
  "nbformat": 4,
  "nbformat_minor": 0,
  "metadata": {
    "colab": {
      "name": "Decorators(@) in Python.ipynb",
      "provenance": [],
      "authorship_tag": "ABX9TyNLCYOSzamaa3UKf9KZTDRx"
    },
    "kernelspec": {
      "name": "python3",
      "display_name": "Python 3"
    },
    "language_info": {
      "name": "python"
    }
  },
  "cells": [
    {
      "cell_type": "markdown",
      "metadata": {
        "id": "TbpGxB7VMEL-"
      },
      "source": [
        "[Reference](https://probhakar-95.medium.com/decorators-in-python-bce92d0e91cd)"
      ]
    },
    {
      "cell_type": "code",
      "metadata": {
        "colab": {
          "base_uri": "https://localhost:8080/"
        },
        "id": "H6z3dTIWMBSs",
        "outputId": "f7fddae8-f12d-4053-fdd6-5b66d53ba72f"
      },
      "source": [
        "class Flask:\n",
        "    def __init__(self, import_name):\n",
        "        self.import_name = import_name\n",
        "        self.route_mapping = {} # empty dict to store all the route mapping\n",
        "        \n",
        "    def route(self, route_name): # parameterized decorator\n",
        "        def wrapper(view_func):\n",
        "            self.route_mapping[route_name] = view_func\n",
        "            return view_func # here we are just returning the original function not modifying it\n",
        "        return wrapper \n",
        "    \n",
        "    # just making this function to demonstrate a server request from WSGI server\n",
        "    def get_response_for_this_route(self, route_name):\n",
        "        try:\n",
        "            return self.route_mapping.get(route_name)()\n",
        "        except TypeError as e:\n",
        "            return '404 requested url not found!'\n",
        "        \n",
        "        \n",
        "app = Flask(__name__)\n",
        "\n",
        "@app.route('/')\n",
        "def home():\n",
        "    return 'this is home page'\n",
        "\n",
        "@app.route('/signin')\n",
        "def home():\n",
        "    return 'this is signin page'\n",
        "\n",
        "#----------let's test the web app-------\n",
        "print(app.get_response_for_this_route('/'))\n",
        "print(app.get_response_for_this_route('/signin'))\n",
        "print(app.get_response_for_this_route('/route that does not exists'))"
      ],
      "execution_count": 1,
      "outputs": [
        {
          "output_type": "stream",
          "name": "stdout",
          "text": [
            "this is home page\n",
            "this is signin page\n",
            "404 requested url not found!\n"
          ]
        }
      ]
    }
  ]
}