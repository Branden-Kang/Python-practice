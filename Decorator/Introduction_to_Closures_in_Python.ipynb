{
  "nbformat": 4,
  "nbformat_minor": 0,
  "metadata": {
    "colab": {
      "name": "Introduction to Closures in Python.ipynb",
      "provenance": [],
      "authorship_tag": "ABX9TyNFdkzgUMTtrfEmfWkF9JdL"
    },
    "kernelspec": {
      "name": "python3",
      "display_name": "Python 3"
    },
    "language_info": {
      "name": "python"
    }
  },
  "cells": [
    {
      "cell_type": "markdown",
      "metadata": {
        "id": "1TqTgRhvrAqC"
      },
      "source": [
        "[Reference](https://medium.com/python-features/introduction-to-closures-in-python-8d697ff9e44d)"
      ]
    },
    {
      "cell_type": "code",
      "metadata": {
        "colab": {
          "base_uri": "https://localhost:8080/"
        },
        "id": "g9OI33wNq_mu",
        "outputId": "3178bcf5-fa63-4050-f77b-1836fd1a8689"
      },
      "source": [
        "age = 27\n",
        "def birthday(): \n",
        "  age = 28\n",
        "  \n",
        "birthday()\n",
        "print(age)"
      ],
      "execution_count": 1,
      "outputs": [
        {
          "output_type": "stream",
          "text": [
            "27\n"
          ],
          "name": "stdout"
        }
      ]
    },
    {
      "cell_type": "code",
      "metadata": {
        "colab": {
          "base_uri": "https://localhost:8080/"
        },
        "id": "f084-ZdFrJaV",
        "outputId": "a264d7dc-6838-433e-a165-ec8f36ee77c7"
      },
      "source": [
        "age = 27\n",
        "name = \"Sarah\"\n",
        "def birthday(): \n",
        "  global age       # 'age' is in global namespace \n",
        "  age = 28\n",
        "  name = \"Roark\"\n",
        "\n",
        "birthday()  \n",
        "print(age)"
      ],
      "execution_count": 3,
      "outputs": [
        {
          "output_type": "stream",
          "text": [
            "28\n"
          ],
          "name": "stdout"
        }
      ]
    },
    {
      "cell_type": "code",
      "metadata": {
        "colab": {
          "base_uri": "https://localhost:8080/"
        },
        "id": "6rzQkopNrN4J",
        "outputId": "8dc3eb7e-df82-4a4c-853c-b67e987312b7"
      },
      "source": [
        "def countdown(start):\n",
        "    # This is the outer enclosing function  \n",
        "    def display():\n",
        "        # This is the nested function\n",
        "        n = start\n",
        "        while n > 0:\n",
        "            n-=1\n",
        "            print('T-minus %d' % n)\n",
        " \n",
        "    display()\n",
        "\n",
        "# We execute the function\n",
        "countdown(3)"
      ],
      "execution_count": 6,
      "outputs": [
        {
          "output_type": "stream",
          "text": [
            "T-minus 2\n",
            "T-minus 1\n",
            "T-minus 0\n"
          ],
          "name": "stdout"
        }
      ]
    },
    {
      "cell_type": "code",
      "metadata": {
        "colab": {
          "base_uri": "https://localhost:8080/"
        },
        "id": "HAjgKwJurloJ",
        "outputId": "e71f7f85-d92a-41ec-8125-9b40fe40deb1"
      },
      "source": [
        "def countdown(start):\n",
        "  # This is the outer enclosing function  def display():\n",
        "    # This is the nested function\n",
        "    n = start\n",
        "    while n > 0:\n",
        "      n-=1\n",
        "      print('T-minus %d' % n)  \n",
        "      \n",
        "    return display# Now let's try calling this function.\n",
        "counter1 = countdown(2)\n",
        "counter1()"
      ],
      "execution_count": 7,
      "outputs": [
        {
          "output_type": "stream",
          "text": [
            "T-minus 1\n",
            "T-minus 0\n"
          ],
          "name": "stdout"
        }
      ]
    },
    {
      "cell_type": "code",
      "metadata": {
        "id": "utloT3TSrtfC"
      },
      "source": [
        "del countdown"
      ],
      "execution_count": 8,
      "outputs": []
    },
    {
      "cell_type": "code",
      "metadata": {
        "id": "JBPPC2kDrw1e"
      },
      "source": [
        "counter1()"
      ],
      "execution_count": 9,
      "outputs": []
    },
    {
      "cell_type": "code",
      "metadata": {
        "colab": {
          "base_uri": "https://localhost:8080/",
          "height": 198
        },
        "id": "0b755NkKryHa",
        "outputId": "0bde77a9-de4a-4d55-a974-49250832338b"
      },
      "source": [
        "countdown(2)"
      ],
      "execution_count": 10,
      "outputs": [
        {
          "output_type": "error",
          "ename": "NameError",
          "evalue": "ignored",
          "traceback": [
            "\u001b[0;31m---------------------------------------------------------------------------\u001b[0m",
            "\u001b[0;31mNameError\u001b[0m                                 Traceback (most recent call last)",
            "\u001b[0;32m<ipython-input-10-7e69f7b2cb40>\u001b[0m in \u001b[0;36m<module>\u001b[0;34m()\u001b[0m\n\u001b[0;32m----> 1\u001b[0;31m \u001b[0mcountdown\u001b[0m\u001b[0;34m(\u001b[0m\u001b[0;36m2\u001b[0m\u001b[0;34m)\u001b[0m\u001b[0;34m\u001b[0m\u001b[0;34m\u001b[0m\u001b[0m\n\u001b[0m",
            "\u001b[0;31mNameError\u001b[0m: name 'countdown' is not defined"
          ]
        }
      ]
    },
    {
      "cell_type": "code",
      "metadata": {
        "id": "snwjJNoarz-o"
      },
      "source": [
        "from urllib.request import urlopen\n",
        "\n",
        "def page(url): \n",
        "  def get(): \n",
        "    return urlopen(url).read() \n",
        "  return get"
      ],
      "execution_count": 12,
      "outputs": []
    },
    {
      "cell_type": "code",
      "metadata": {
        "colab": {
          "base_uri": "https://localhost:8080/"
        },
        "id": "Hx2MtiwEr59X",
        "outputId": "8eef5dd7-e5ee-4772-daa0-4d3a2486dd80"
      },
      "source": [
        "url1 = page(\"http://www.google.com\") \n",
        "url2 = page(\"http://www.bing.com\") \n",
        "url1"
      ],
      "execution_count": 13,
      "outputs": [
        {
          "output_type": "execute_result",
          "data": {
            "text/plain": [
              "<function __main__.page.<locals>.get>"
            ]
          },
          "metadata": {
            "tags": []
          },
          "execution_count": 13
        }
      ]
    },
    {
      "cell_type": "code",
      "metadata": {
        "colab": {
          "base_uri": "https://localhost:8080/"
        },
        "id": "MhXEG-t-r9HD",
        "outputId": "be097694-eaa6-47f0-828a-343a00995017"
      },
      "source": [
        "url2"
      ],
      "execution_count": 14,
      "outputs": [
        {
          "output_type": "execute_result",
          "data": {
            "text/plain": [
              "<function __main__.page.<locals>.get>"
            ]
          },
          "metadata": {
            "tags": []
          },
          "execution_count": 14
        }
      ]
    },
    {
      "cell_type": "code",
      "metadata": {
        "id": "celpN0D-r9Ux"
      },
      "source": [
        "gdata = url1()"
      ],
      "execution_count": 15,
      "outputs": []
    },
    {
      "cell_type": "code",
      "metadata": {
        "id": "lHZ0kvjwr--f"
      },
      "source": [
        "bdata = url2()"
      ],
      "execution_count": 16,
      "outputs": []
    },
    {
      "cell_type": "code",
      "metadata": {
        "id": "2rx0CeofsADj"
      },
      "source": [
        "page.__closure__"
      ],
      "execution_count": 17,
      "outputs": []
    },
    {
      "cell_type": "code",
      "metadata": {
        "colab": {
          "base_uri": "https://localhost:8080/"
        },
        "id": "okiEeeQzsCRP",
        "outputId": "db778636-a7d6-4be1-8f41-f743a9b7e3d7"
      },
      "source": [
        "url1.__closure__"
      ],
      "execution_count": 18,
      "outputs": [
        {
          "output_type": "execute_result",
          "data": {
            "text/plain": [
              "(<cell at 0x7f86f8b76290: str object at 0x7f86f8b7b940>,)"
            ]
          },
          "metadata": {
            "tags": []
          },
          "execution_count": 18
        }
      ]
    },
    {
      "cell_type": "code",
      "metadata": {
        "colab": {
          "base_uri": "https://localhost:8080/",
          "height": 37
        },
        "id": "vmhCdCd0sDGQ",
        "outputId": "e3b7383e-ff4a-4697-f92d-96a7f24547e5"
      },
      "source": [
        "url1.__closure__[0].cell_contents"
      ],
      "execution_count": 19,
      "outputs": [
        {
          "output_type": "execute_result",
          "data": {
            "application/vnd.google.colaboratory.intrinsic+json": {
              "type": "string"
            },
            "text/plain": [
              "'http://www.google.com'"
            ]
          },
          "metadata": {
            "tags": []
          },
          "execution_count": 19
        }
      ]
    },
    {
      "cell_type": "code",
      "metadata": {
        "id": "LD8Mov53sEMP",
        "outputId": "e71c0eb4-f53b-40f6-f3cb-0f398623e468",
        "colab": {
          "base_uri": "https://localhost:8080/",
          "height": 37
        }
      },
      "source": [
        "url2.__closure__[0].cell_contents"
      ],
      "execution_count": 20,
      "outputs": [
        {
          "output_type": "execute_result",
          "data": {
            "application/vnd.google.colaboratory.intrinsic+json": {
              "type": "string"
            },
            "text/plain": [
              "'http://www.bing.com'"
            ]
          },
          "metadata": {
            "tags": []
          },
          "execution_count": 20
        }
      ]
    }
  ]
}