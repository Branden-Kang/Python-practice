{
  "nbformat": 4,
  "nbformat_minor": 0,
  "metadata": {
    "colab": {
      "name": "Decorators basic.ipynb",
      "provenance": [],
      "authorship_tag": "ABX9TyNNdSnCntScSqEQSU8khqet"
    },
    "kernelspec": {
      "name": "python3",
      "display_name": "Python 3"
    }
  },
  "cells": [
    {
      "cell_type": "markdown",
      "metadata": {
        "id": "14kdINkaZnJV"
      },
      "source": [
        "[Reference](https://medium.com/better-programming/how-to-write-python-decorators-that-take-parameters-b5a07d7fe393)"
      ]
    },
    {
      "cell_type": "code",
      "metadata": {
        "id": "6YTUvxpvZlng"
      },
      "source": [
        "def echo_wrapper(func):\n",
        "    def wrapper():\n",
        "        func()\n",
        "        func()\n",
        "    return wrapper"
      ],
      "execution_count": 8,
      "outputs": []
    },
    {
      "cell_type": "code",
      "metadata": {
        "id": "KOpBs1lPZ407",
        "outputId": "2eedfcbe-1deb-48eb-b978-d5bfb8179928",
        "colab": {
          "base_uri": "https://localhost:8080/"
        }
      },
      "source": [
        "@echo_wrapper\n",
        "def say_hello():\n",
        "    print('Hello!')"
      ],
      "execution_count": 7,
      "outputs": [
        {
          "output_type": "stream",
          "text": [
            "Hello!\n",
            "Hello!\n"
          ],
          "name": "stdout"
        }
      ]
    },
    {
      "cell_type": "code",
      "metadata": {
        "id": "2YBQKZi4Z9I6",
        "outputId": "3ae06044-a6e3-4672-d699-4d32560a7fa4",
        "colab": {
          "base_uri": "https://localhost:8080/"
        }
      },
      "source": [
        "say_hello()"
      ],
      "execution_count": 4,
      "outputs": [
        {
          "output_type": "stream",
          "text": [
            "Hello!\n",
            "Hello!\n"
          ],
          "name": "stdout"
        }
      ]
    },
    {
      "cell_type": "code",
      "metadata": {
        "id": "wbhemz9KaUAQ",
        "outputId": "06cf1a38-0598-433c-cbd3-f24e99cff395",
        "colab": {
          "base_uri": "https://localhost:8080/"
        }
      },
      "source": [
        "def say_hi():\n",
        "    print('Hi!')\n",
        "\n",
        "echo_wrapper(say_hi)()"
      ],
      "execution_count": 9,
      "outputs": [
        {
          "output_type": "stream",
          "text": [
            "Hi!\n",
            "Hi!\n"
          ],
          "name": "stdout"
        }
      ]
    },
    {
      "cell_type": "code",
      "metadata": {
        "id": "xJwRNt8NbzoN",
        "outputId": "387d5536-0a53-4d69-808b-445b6e94334e",
        "colab": {
          "base_uri": "https://localhost:8080/"
        }
      },
      "source": [
        "def echo_wrapper_count(func, count=1):\n",
        "    def wrapper():\n",
        "        for _ in range(count+1):\n",
        "            func()\n",
        "    return wrapper\n",
        "\n",
        "echo_wrapper_count(say_hi, count=3)()"
      ],
      "execution_count": 13,
      "outputs": [
        {
          "output_type": "stream",
          "text": [
            "Hi!\n",
            "Hi!\n",
            "Hi!\n",
            "Hi!\n"
          ],
          "name": "stdout"
        }
      ]
    },
    {
      "cell_type": "code",
      "metadata": {
        "id": "eLOSQutzcCzm",
        "outputId": "75c5eef1-8115-44fa-d641-ff94c7b60972",
        "colab": {
          "base_uri": "https://localhost:8080/",
          "height": 249
        }
      },
      "source": [
        "@echo_wrapper_count(count=3)\n",
        "def greet():\n",
        "    print(\"Hello World\")"
      ],
      "execution_count": 14,
      "outputs": [
        {
          "output_type": "error",
          "ename": "TypeError",
          "evalue": "ignored",
          "traceback": [
            "\u001b[0;31m---------------------------------------------------------------------------\u001b[0m",
            "\u001b[0;31mTypeError\u001b[0m                                 Traceback (most recent call last)",
            "\u001b[0;32m<ipython-input-14-a8feff213001>\u001b[0m in \u001b[0;36m<module>\u001b[0;34m()\u001b[0m\n\u001b[0;32m----> 1\u001b[0;31m \u001b[0;34m@\u001b[0m\u001b[0mecho_wrapper_count\u001b[0m\u001b[0;34m(\u001b[0m\u001b[0mcount\u001b[0m\u001b[0;34m=\u001b[0m\u001b[0;36m3\u001b[0m\u001b[0;34m)\u001b[0m\u001b[0;34m\u001b[0m\u001b[0;34m\u001b[0m\u001b[0m\n\u001b[0m\u001b[1;32m      2\u001b[0m \u001b[0;32mdef\u001b[0m \u001b[0mgreet\u001b[0m\u001b[0;34m(\u001b[0m\u001b[0;34m)\u001b[0m\u001b[0;34m:\u001b[0m\u001b[0;34m\u001b[0m\u001b[0;34m\u001b[0m\u001b[0m\n\u001b[1;32m      3\u001b[0m     \u001b[0mprint\u001b[0m\u001b[0;34m(\u001b[0m\u001b[0;34m\"Hello World\"\u001b[0m\u001b[0;34m)\u001b[0m\u001b[0;34m\u001b[0m\u001b[0;34m\u001b[0m\u001b[0m\n",
            "\u001b[0;31mTypeError\u001b[0m: echo_wrapper_count() missing 1 required positional argument: 'func'"
          ]
        }
      ]
    },
    {
      "cell_type": "code",
      "metadata": {
        "id": "nVVO6XWZcgbQ",
        "outputId": "db141704-c572-4ed3-e7a3-c8af65a6edb3",
        "colab": {
          "base_uri": "https://localhost:8080/",
          "height": 198
        }
      },
      "source": [
        "greet()"
      ],
      "execution_count": 15,
      "outputs": [
        {
          "output_type": "error",
          "ename": "NameError",
          "evalue": "ignored",
          "traceback": [
            "\u001b[0;31m---------------------------------------------------------------------------\u001b[0m",
            "\u001b[0;31mNameError\u001b[0m                                 Traceback (most recent call last)",
            "\u001b[0;32m<ipython-input-15-db845682bfe7>\u001b[0m in \u001b[0;36m<module>\u001b[0;34m()\u001b[0m\n\u001b[0;32m----> 1\u001b[0;31m \u001b[0mgreet\u001b[0m\u001b[0;34m(\u001b[0m\u001b[0;34m)\u001b[0m\u001b[0;34m\u001b[0m\u001b[0;34m\u001b[0m\u001b[0m\n\u001b[0m",
            "\u001b[0;31mNameError\u001b[0m: name 'greet' is not defined"
          ]
        }
      ]
    },
    {
      "cell_type": "code",
      "metadata": {
        "id": "gtG36azhcjCW",
        "outputId": "d6886d64-eec5-4ecf-9e99-9bc6106eccb3",
        "colab": {
          "base_uri": "https://localhost:8080/"
        }
      },
      "source": [
        "def better_echo_wrapper_count(count=1):\n",
        "    print(f'Inside better_echo_wrapper_count: {count}')\n",
        "    def decorator(func):\n",
        "        print('Inside decorator')\n",
        "        def wrapper():\n",
        "            print('Inside wrapper')\n",
        "            for _ in range(count+1):\n",
        "                func()\n",
        "        return wrapper\n",
        "    return decorator\n",
        "\n",
        "@better_echo_wrapper_count(count=3)\n",
        "def greet():\n",
        "    print(\"Hi Python Learner\")"
      ],
      "execution_count": 16,
      "outputs": [
        {
          "output_type": "stream",
          "text": [
            "Inside better_echo_wrapper_count: 3\n",
            "Inside decorator\n"
          ],
          "name": "stdout"
        }
      ]
    },
    {
      "cell_type": "code",
      "metadata": {
        "id": "vE9FaO3Fc4FV",
        "outputId": "16e01e7c-2d9e-4cd0-ef48-23b054989639",
        "colab": {
          "base_uri": "https://localhost:8080/"
        }
      },
      "source": [
        "def good_morning():\n",
        "    print('Good Morning!')\n",
        "decorator = better_echo_wrapper_count(count=3)\n",
        "wrapper = decorator(good_morning)"
      ],
      "execution_count": 17,
      "outputs": [
        {
          "output_type": "stream",
          "text": [
            "Inside better_echo_wrapper_count: 3\n",
            "Inside decorator\n"
          ],
          "name": "stdout"
        }
      ]
    },
    {
      "cell_type": "code",
      "metadata": {
        "id": "5bQFAaM_eVgS",
        "outputId": "13ee2283-36bf-4bea-c2be-707a71086970",
        "colab": {
          "base_uri": "https://localhost:8080/"
        }
      },
      "source": [
        "wrapper()"
      ],
      "execution_count": 18,
      "outputs": [
        {
          "output_type": "stream",
          "text": [
            "Inside wrapper\n",
            "Good Morning!\n",
            "Good Morning!\n",
            "Good Morning!\n",
            "Good Morning!\n"
          ],
          "name": "stdout"
        }
      ]
    },
    {
      "cell_type": "code",
      "metadata": {
        "id": "nOCO_stUeZJw",
        "outputId": "d1049626-2262-4cbe-dfb0-022e553d094b",
        "colab": {
          "base_uri": "https://localhost:8080/"
        }
      },
      "source": [
        "@better_echo_wrapper_count()\n",
        "def foo():\n",
        "    print(\"Foo\")"
      ],
      "execution_count": 19,
      "outputs": [
        {
          "output_type": "stream",
          "text": [
            "Inside better_echo_wrapper_count: 1\n",
            "Inside decorator\n"
          ],
          "name": "stdout"
        }
      ]
    },
    {
      "cell_type": "code",
      "metadata": {
        "id": "K18_uhBNlJjQ",
        "outputId": "0ad709f2-bcec-40db-c9ea-11263767b660",
        "colab": {
          "base_uri": "https://localhost:8080/"
        }
      },
      "source": [
        "foo()"
      ],
      "execution_count": 20,
      "outputs": [
        {
          "output_type": "stream",
          "text": [
            "Inside wrapper\n",
            "Foo\n",
            "Foo\n"
          ],
          "name": "stdout"
        }
      ]
    },
    {
      "cell_type": "code",
      "metadata": {
        "id": "1AqGAIXblLVt",
        "outputId": "874dc704-d2d2-4407-ec5d-20bcf07b3e76",
        "colab": {
          "base_uri": "https://localhost:8080/",
          "height": 249
        }
      },
      "source": [
        "@better_echo_wrapper_count\n",
        "def bar():\n",
        "    print(\"Bar\")\n",
        "\n",
        "bar()"
      ],
      "execution_count": 21,
      "outputs": [
        {
          "output_type": "stream",
          "text": [
            "Inside better_echo_wrapper_count: <function bar at 0x7fbf54c348c8>\n"
          ],
          "name": "stdout"
        },
        {
          "output_type": "error",
          "ename": "TypeError",
          "evalue": "ignored",
          "traceback": [
            "\u001b[0;31m---------------------------------------------------------------------------\u001b[0m",
            "\u001b[0;31mTypeError\u001b[0m                                 Traceback (most recent call last)",
            "\u001b[0;32m<ipython-input-21-3ef7a19be722>\u001b[0m in \u001b[0;36m<module>\u001b[0;34m()\u001b[0m\n\u001b[1;32m      3\u001b[0m     \u001b[0mprint\u001b[0m\u001b[0;34m(\u001b[0m\u001b[0;34m\"Bar\"\u001b[0m\u001b[0;34m)\u001b[0m\u001b[0;34m\u001b[0m\u001b[0;34m\u001b[0m\u001b[0m\n\u001b[1;32m      4\u001b[0m \u001b[0;34m\u001b[0m\u001b[0m\n\u001b[0;32m----> 5\u001b[0;31m \u001b[0mbar\u001b[0m\u001b[0;34m(\u001b[0m\u001b[0;34m)\u001b[0m\u001b[0;34m\u001b[0m\u001b[0;34m\u001b[0m\u001b[0m\n\u001b[0m",
            "\u001b[0;31mTypeError\u001b[0m: decorator() missing 1 required positional argument: 'func'"
          ]
        }
      ]
    },
    {
      "cell_type": "code",
      "metadata": {
        "id": "bOkiNfwtlZc-"
      },
      "source": [
        "def best_echo_wrapper_count(func=None, count=1):\n",
        "    print(f'Inside best_echo_wrapper_count: {count}')\n",
        "    # Branch 1: @decorator using ()\n",
        "    if func is None:\n",
        "        print('func is None')\n",
        "        def decorator(func):\n",
        "            print('Inside decorator')\n",
        "            def wrapper():\n",
        "                print('Inside wrapper 1')\n",
        "                for _ in range(count+1):\n",
        "                    func()\n",
        "            return wrapper\n",
        "        return decorator\n",
        "    # Branch 2 @decorator not using ()\n",
        "    def wrapper():\n",
        "        print('Inside wrapper 2')\n",
        "        for _ in range(count+1):\n",
        "            func()\n",
        "    return wrapper"
      ],
      "execution_count": 22,
      "outputs": []
    },
    {
      "cell_type": "code",
      "metadata": {
        "id": "LlkOuRcGl2_p",
        "outputId": "5a674e69-0ff8-4162-b729-5041f5efa481",
        "colab": {
          "base_uri": "https://localhost:8080/"
        }
      },
      "source": [
        "@best_echo_wrapper_count\n",
        "def hello1():\n",
        "    print('Hello 1')"
      ],
      "execution_count": 23,
      "outputs": [
        {
          "output_type": "stream",
          "text": [
            "Inside best_echo_wrapper_count: 1\n"
          ],
          "name": "stdout"
        }
      ]
    },
    {
      "cell_type": "code",
      "metadata": {
        "id": "FgZTg1jIl-Z6",
        "outputId": "3700467d-31cc-49dd-ded3-9ad0e20d218e",
        "colab": {
          "base_uri": "https://localhost:8080/"
        }
      },
      "source": [
        "hello1()"
      ],
      "execution_count": 24,
      "outputs": [
        {
          "output_type": "stream",
          "text": [
            "Inside wrapper 2\n",
            "Hello 1\n",
            "Hello 1\n"
          ],
          "name": "stdout"
        }
      ]
    },
    {
      "cell_type": "code",
      "metadata": {
        "id": "06xMoPO2l_JF",
        "outputId": "2029cb57-a0a4-4ed8-b4c2-f6542e310cba",
        "colab": {
          "base_uri": "https://localhost:8080/"
        }
      },
      "source": [
        "@best_echo_wrapper_count(count=2)\n",
        "def hello2():\n",
        "    print('Hello 2')"
      ],
      "execution_count": 25,
      "outputs": [
        {
          "output_type": "stream",
          "text": [
            "Inside best_echo_wrapper_count: 2\n",
            "func is None\n",
            "Inside decorator\n"
          ],
          "name": "stdout"
        }
      ]
    },
    {
      "cell_type": "code",
      "metadata": {
        "id": "309AqKoRmCiR",
        "outputId": "40604902-d010-4ad7-8ffe-5a67cd0df4a2",
        "colab": {
          "base_uri": "https://localhost:8080/"
        }
      },
      "source": [
        "hello2()"
      ],
      "execution_count": 26,
      "outputs": [
        {
          "output_type": "stream",
          "text": [
            "Inside wrapper 1\n",
            "Hello 2\n",
            "Hello 2\n",
            "Hello 2\n"
          ],
          "name": "stdout"
        }
      ]
    },
    {
      "cell_type": "code",
      "metadata": {
        "id": "WiOOV-gEmEDS"
      },
      "source": [
        "def outer_decorator0(func=None, count=1):\n",
        "    if func is None:\n",
        "        def outer_decorator1(func):\n",
        "            def wrapper():\n",
        "                # wrapping operation\n",
        "                return wrapper\n",
        "        return outer_decorator1\n",
        "    def wrapper():\n",
        "        # wrapping operation\n",
        "        return wrapper"
      ],
      "execution_count": 29,
      "outputs": []
    },
    {
      "cell_type": "code",
      "metadata": {
        "id": "U4ZAQFmdmGFe"
      },
      "source": [
        "from functools import partial\n",
        "\n",
        "def best_echo_wrapper_count_v2(func=None, count=1):\n",
        "    if func is None:\n",
        "        return partial(best_echo_wrapper_count_v2, count=count)\n",
        "    def wrapper():\n",
        "        for _ in range(count+1):\n",
        "            func()\n",
        "    return wrapper"
      ],
      "execution_count": 30,
      "outputs": []
    },
    {
      "cell_type": "code",
      "metadata": {
        "id": "XocWKeoin09n"
      },
      "source": [
        "@best_echo_wrapper_count_v2\n",
        "def get_better():\n",
        "    print(\"Get Better\")"
      ],
      "execution_count": 31,
      "outputs": []
    },
    {
      "cell_type": "code",
      "metadata": {
        "id": "awJRbV2hn2j-"
      },
      "source": [
        "@best_echo_wrapper_count_v2(count=2)\n",
        "def get_better2():\n",
        "    print(\"Get Better2\")"
      ],
      "execution_count": 32,
      "outputs": []
    },
    {
      "cell_type": "code",
      "metadata": {
        "id": "zQHIzTeGn7KT",
        "outputId": "450542c2-69b4-472f-88a9-40dbc828f3f8",
        "colab": {
          "base_uri": "https://localhost:8080/"
        }
      },
      "source": [
        "get_better()"
      ],
      "execution_count": 33,
      "outputs": [
        {
          "output_type": "stream",
          "text": [
            "Get Better\n",
            "Get Better\n"
          ],
          "name": "stdout"
        }
      ]
    },
    {
      "cell_type": "code",
      "metadata": {
        "id": "36biXohan8I1",
        "outputId": "7fd86847-b2ee-41b9-fe30-bb5f9a3aa858",
        "colab": {
          "base_uri": "https://localhost:8080/"
        }
      },
      "source": [
        "get_better2()"
      ],
      "execution_count": 34,
      "outputs": [
        {
          "output_type": "stream",
          "text": [
            "Get Better2\n",
            "Get Better2\n",
            "Get Better2\n"
          ],
          "name": "stdout"
        }
      ]
    }
  ]
}