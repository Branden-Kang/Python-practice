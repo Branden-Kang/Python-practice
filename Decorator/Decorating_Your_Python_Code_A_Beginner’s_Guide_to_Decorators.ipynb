{
  "nbformat": 4,
  "nbformat_minor": 0,
  "metadata": {
    "colab": {
      "provenance": [],
      "authorship_tag": "ABX9TyOBwu1c8stZyTV7iD23tyUx"
    },
    "kernelspec": {
      "name": "python3",
      "display_name": "Python 3"
    },
    "language_info": {
      "name": "python"
    }
  },
  "cells": [
    {
      "cell_type": "markdown",
      "source": [
        "[Reference](https://moez-62905.medium.com/decorating-your-python-code-a-beginners-guide-to-decorators-3bedb022cfe7)"
      ],
      "metadata": {
        "id": "VtCR-S1_4jT6"
      }
    },
    {
      "cell_type": "markdown",
      "source": [
        "# 1. Timing Functions"
      ],
      "metadata": {
        "id": "t7C5TTqd4gop"
      }
    },
    {
      "cell_type": "code",
      "execution_count": 4,
      "metadata": {
        "colab": {
          "base_uri": "https://localhost:8080/"
        },
        "id": "TZ5_NpFx4eXE",
        "outputId": "e3b705eb-8ba4-4f25-dd91-ec4967c818d1"
      },
      "outputs": [
        {
          "output_type": "stream",
          "name": "stdout",
          "text": [
            "Hello, World!\n",
            "Execution time: 0.00504302978515625 seconds\n"
          ]
        }
      ],
      "source": [
        "import time\n",
        "\n",
        "def timer(func):\n",
        "    def wrapper(*args, **kwargs):\n",
        "        start = time.time()\n",
        "        result = func(*args, **kwargs)\n",
        "        end = time.time()\n",
        "        print(f\"Execution time: {end - start} seconds\")\n",
        "        return result\n",
        "    return wrapper\n",
        "\n",
        "@timer\n",
        "def my_func():\n",
        "    print(\"Hello, World!\")\n",
        "\n",
        "my_func()"
      ]
    },
    {
      "cell_type": "markdown",
      "source": [
        "# 2. Debugging Functions"
      ],
      "metadata": {
        "id": "Y6D9mPIL4mij"
      }
    },
    {
      "cell_type": "code",
      "source": [
        "def debug(func):\n",
        "    def wrapper(*args, **kwargs):\n",
        "        print(f\"Calling {func.__name__} with args {args} and kwargs {kwargs}\")\n",
        "        result = func(*args, **kwargs)\n",
        "        print(f\"{func.__name__} returned {result}\")\n",
        "        return result\n",
        "    return wrapper\n",
        "\n",
        "@debug\n",
        "def my_func(x, y):\n",
        "    return x + y\n",
        "\n",
        "my_func(1,2)"
      ],
      "metadata": {
        "colab": {
          "base_uri": "https://localhost:8080/"
        },
        "id": "9s--gGom4keM",
        "outputId": "18b0c997-8d60-468a-a62a-3ec54c061cd4"
      },
      "execution_count": 6,
      "outputs": [
        {
          "output_type": "stream",
          "name": "stdout",
          "text": [
            "Calling my_func with args (1, 2) and kwargs {}\n",
            "my_func returned 3\n"
          ]
        },
        {
          "output_type": "execute_result",
          "data": {
            "text/plain": [
              "3"
            ]
          },
          "metadata": {},
          "execution_count": 6
        }
      ]
    },
    {
      "cell_type": "markdown",
      "source": [
        "# 3. Authentication"
      ],
      "metadata": {
        "id": "CD0338pV4pM3"
      }
    },
    {
      "cell_type": "code",
      "source": [
        "def authenticate(func):\n",
        "    def wrapper(*args, **kwargs):\n",
        "        if not logged_in:\n",
        "            return \"Not authenticated\"\n",
        "        return func(*args, **kwargs)\n",
        "    return wrapper\n",
        "\n",
        "@authenticate\n",
        "def my_func():\n",
        "    print(\"Hello, World!\")"
      ],
      "metadata": {
        "id": "ir_q76Ta4n1X"
      },
      "execution_count": 8,
      "outputs": []
    },
    {
      "cell_type": "markdown",
      "source": [
        "# 4. Caching Results\n",
        "\n"
      ],
      "metadata": {
        "id": "p22jvSl-4yg2"
      }
    },
    {
      "cell_type": "code",
      "source": [
        "def cache(func):\n",
        "    cache = {}\n",
        "    def wrapper(*args, **kwargs):\n",
        "        key = (args, tuple(kwargs.items()))\n",
        "        if key in cache:\n",
        "            return cache[key]\n",
        "        result = func(*args, **kwargs)\n",
        "        cache[key] = result\n",
        "        return result\n",
        "    return wrapper\n",
        "\n",
        "@cache\n",
        "def my_func(x, y):\n",
        "    return x + y"
      ],
      "metadata": {
        "id": "voifpzNl4rGM"
      },
      "execution_count": 9,
      "outputs": []
    },
    {
      "cell_type": "code",
      "source": [
        "my_func(1, 2)"
      ],
      "metadata": {
        "colab": {
          "base_uri": "https://localhost:8080/"
        },
        "id": "8JrLlJb_47Jn",
        "outputId": "1af3fe57-1ab7-4b42-ea7b-403dd01256aa"
      },
      "execution_count": 10,
      "outputs": [
        {
          "output_type": "execute_result",
          "data": {
            "text/plain": [
              "3"
            ]
          },
          "metadata": {},
          "execution_count": 10
        }
      ]
    },
    {
      "cell_type": "markdown",
      "source": [
        "# 5. Enforcing Access Restrictions"
      ],
      "metadata": {
        "id": "XPCkVZjx5V06"
      }
    },
    {
      "cell_type": "code",
      "source": [
        "def restrict_access(roles_allowed):\n",
        "    def decorator(func):\n",
        "        def wrapper(*args, **kwargs):\n",
        "            user_role = get_current_user_role()\n",
        "            if user_role not in roles_allowed:\n",
        "                return \"Access Denied\"\n",
        "            return func(*args, **kwargs)\n",
        "        return wrapper\n",
        "    return decorator\n",
        "\n",
        "@restrict_access([\"admin\", \"moderator\"])\n",
        "def my_func():\n",
        "    print(\"Hello, World!\")"
      ],
      "metadata": {
        "id": "-nVvW0hn5UjX"
      },
      "execution_count": 12,
      "outputs": []
    }
  ]
}
