{
  "nbformat": 4,
  "nbformat_minor": 0,
  "metadata": {
    "colab": {
      "provenance": [],
      "authorship_tag": "ABX9TyOpd/GfUuM5i/TbFsGZJmG1"
    },
    "kernelspec": {
      "name": "python3",
      "display_name": "Python 3"
    },
    "language_info": {
      "name": "python"
    }
  },
  "cells": [
    {
      "cell_type": "markdown",
      "source": [
        "[Reference](https://betterprogramming.pub/5-essential-aspects-of-python-closures-494a04e7b65e)"
      ],
      "metadata": {
        "id": "SoO11rIPYGfA"
      }
    },
    {
      "cell_type": "markdown",
      "source": [
        "# 1. Inner and Outer Functions"
      ],
      "metadata": {
        "id": "EhE4fMDVYKjn"
      }
    },
    {
      "cell_type": "code",
      "execution_count": 1,
      "metadata": {
        "id": "X-cv7l1oYE5h"
      },
      "outputs": [],
      "source": [
        "def multiplier_creator(n):\n",
        "    def multiplier(number):\n",
        "        return number * n\n",
        "\n",
        "    return multiplier\n",
        "\n",
        "\n",
        "double_multiplier = multiplier_creator(2)\n",
        "triple_multiplier = multiplier_creator(3)"
      ]
    },
    {
      "cell_type": "markdown",
      "source": [
        "# 2. Local and Nonlocal Variables\n",
        "Besides the distinction of local and nonlocal variables, some of you may have also heard of global variables, which are variables defined at the module level. Some related terms include global and built-in scopes."
      ],
      "metadata": {
        "id": "Yf1hd5JhYLpm"
      }
    },
    {
      "cell_type": "markdown",
      "source": [
        "# 3. Nonlocal Variable Binding"
      ],
      "metadata": {
        "id": "V1DSnImPYT2f"
      }
    },
    {
      "cell_type": "code",
      "source": [
        "del multiplier_creator\n",
        "double_multiplier(5)\n",
        "triple_multiplier(5)"
      ],
      "metadata": {
        "colab": {
          "base_uri": "https://localhost:8080/"
        },
        "id": "DNaJ4khPYJTr",
        "outputId": "a18aeb87-dc39-44bb-a970-033cbe2e5d7b"
      },
      "execution_count": 2,
      "outputs": [
        {
          "output_type": "execute_result",
          "data": {
            "text/plain": [
              "15"
            ]
          },
          "metadata": {},
          "execution_count": 2
        }
      ]
    },
    {
      "cell_type": "code",
      "source": [
        "double_multiplier.__code__.co_freevars"
      ],
      "metadata": {
        "colab": {
          "base_uri": "https://localhost:8080/"
        },
        "id": "wgwoJoE5YWUC",
        "outputId": "d904ef92-bbda-47ee-d7b9-8beb77260ba6"
      },
      "execution_count": 3,
      "outputs": [
        {
          "output_type": "execute_result",
          "data": {
            "text/plain": [
              "('n',)"
            ]
          },
          "metadata": {},
          "execution_count": 3
        }
      ]
    },
    {
      "cell_type": "code",
      "source": [
        "double_multiplier.__closure__[0].cell_contents"
      ],
      "metadata": {
        "colab": {
          "base_uri": "https://localhost:8080/"
        },
        "id": "EZ4P90z2YYF6",
        "outputId": "698e6eff-f5cc-4598-a1eb-abfc71e44095"
      },
      "execution_count": 4,
      "outputs": [
        {
          "output_type": "execute_result",
          "data": {
            "text/plain": [
              "2"
            ]
          },
          "metadata": {},
          "execution_count": 4
        }
      ]
    },
    {
      "cell_type": "code",
      "source": [
        "triple_multiplier.__code__.co_freevars"
      ],
      "metadata": {
        "colab": {
          "base_uri": "https://localhost:8080/"
        },
        "id": "8khBtvEiYYOR",
        "outputId": "935c5411-49be-499b-b6c0-4d2869d327b7"
      },
      "execution_count": 5,
      "outputs": [
        {
          "output_type": "execute_result",
          "data": {
            "text/plain": [
              "('n',)"
            ]
          },
          "metadata": {},
          "execution_count": 5
        }
      ]
    },
    {
      "cell_type": "code",
      "source": [
        "triple_multiplier.__closure__[0].cell_contents"
      ],
      "metadata": {
        "colab": {
          "base_uri": "https://localhost:8080/"
        },
        "id": "4X0jAs7SYZBH",
        "outputId": "5707be01-a686-4d8c-8b05-e1a4d5f46916"
      },
      "execution_count": 6,
      "outputs": [
        {
          "output_type": "execute_result",
          "data": {
            "text/plain": [
              "3"
            ]
          },
          "metadata": {},
          "execution_count": 6
        }
      ]
    },
    {
      "cell_type": "markdown",
      "source": [
        "# 4. The Nonlocal Keyword and the Unboundlocalerror Exception"
      ],
      "metadata": {
        "id": "HH1vwidfYa0P"
      }
    },
    {
      "cell_type": "code",
      "source": [
        "def running_total_multiplier_creator(n):\n",
        "     running_total = 0\n",
        "     def multiplier(number):\n",
        "         product = number * n\n",
        "         running_total += product\n",
        "         return running_total\n",
        "     return multiplier"
      ],
      "metadata": {
        "id": "6Az1JByFYZ2X"
      },
      "execution_count": 7,
      "outputs": []
    },
    {
      "cell_type": "code",
      "source": [
        "running_doubler = running_total_multiplier_creator(2)\n",
        "running_doubler(5)"
      ],
      "metadata": {
        "colab": {
          "base_uri": "https://localhost:8080/",
          "height": 351
        },
        "id": "HoQH6P8rYc2g",
        "outputId": "efacf344-cbd3-47a9-d8ca-bbb9fca4a9d2"
      },
      "execution_count": 8,
      "outputs": [
        {
          "output_type": "error",
          "ename": "UnboundLocalError",
          "evalue": "ignored",
          "traceback": [
            "\u001b[0;31m---------------------------------------------------------------------------\u001b[0m",
            "\u001b[0;31mUnboundLocalError\u001b[0m                         Traceback (most recent call last)",
            "\u001b[0;32m<ipython-input-8-d3244c19bf7f>\u001b[0m in \u001b[0;36m<module>\u001b[0;34m\u001b[0m\n\u001b[1;32m      1\u001b[0m \u001b[0mrunning_doubler\u001b[0m \u001b[0;34m=\u001b[0m \u001b[0mrunning_total_multiplier_creator\u001b[0m\u001b[0;34m(\u001b[0m\u001b[0;36m2\u001b[0m\u001b[0;34m)\u001b[0m\u001b[0;34m\u001b[0m\u001b[0;34m\u001b[0m\u001b[0m\n\u001b[0;32m----> 2\u001b[0;31m \u001b[0mrunning_doubler\u001b[0m\u001b[0;34m(\u001b[0m\u001b[0;36m5\u001b[0m\u001b[0;34m)\u001b[0m\u001b[0;34m\u001b[0m\u001b[0;34m\u001b[0m\u001b[0m\n\u001b[0m",
            "\u001b[0;32m<ipython-input-7-b2bc02538aa0>\u001b[0m in \u001b[0;36mmultiplier\u001b[0;34m(number)\u001b[0m\n\u001b[1;32m      3\u001b[0m      \u001b[0;32mdef\u001b[0m \u001b[0mmultiplier\u001b[0m\u001b[0;34m(\u001b[0m\u001b[0mnumber\u001b[0m\u001b[0;34m)\u001b[0m\u001b[0;34m:\u001b[0m\u001b[0;34m\u001b[0m\u001b[0;34m\u001b[0m\u001b[0m\n\u001b[1;32m      4\u001b[0m          \u001b[0mproduct\u001b[0m \u001b[0;34m=\u001b[0m \u001b[0mnumber\u001b[0m \u001b[0;34m*\u001b[0m \u001b[0mn\u001b[0m\u001b[0;34m\u001b[0m\u001b[0;34m\u001b[0m\u001b[0m\n\u001b[0;32m----> 5\u001b[0;31m          \u001b[0mrunning_total\u001b[0m \u001b[0;34m+=\u001b[0m \u001b[0mproduct\u001b[0m\u001b[0;34m\u001b[0m\u001b[0;34m\u001b[0m\u001b[0m\n\u001b[0m\u001b[1;32m      6\u001b[0m          \u001b[0;32mreturn\u001b[0m \u001b[0mrunning_total\u001b[0m\u001b[0;34m\u001b[0m\u001b[0;34m\u001b[0m\u001b[0m\n\u001b[1;32m      7\u001b[0m      \u001b[0;32mreturn\u001b[0m \u001b[0mmultiplier\u001b[0m\u001b[0;34m\u001b[0m\u001b[0;34m\u001b[0m\u001b[0m\n",
            "\u001b[0;31mUnboundLocalError\u001b[0m: local variable 'running_total' referenced before assignment"
          ]
        }
      ]
    },
    {
      "cell_type": "code",
      "source": [
        "def running_total_multiplier_creator(n):\n",
        "     running_total = 0\n",
        "     def multiplier(number):\n",
        "         nonlocal running_total\n",
        "         product = number * n\n",
        "         running_total += product\n",
        "         return running_total\n",
        "     return multiplier\n",
        " \n",
        "running_doubler = running_total_multiplier_creator(2)\n",
        "running_doubler(5)"
      ],
      "metadata": {
        "colab": {
          "base_uri": "https://localhost:8080/"
        },
        "id": "rydhkh-dYekz",
        "outputId": "385ad486-b9b3-4f62-fda3-32d61eb3ed3b"
      },
      "execution_count": 9,
      "outputs": [
        {
          "output_type": "execute_result",
          "data": {
            "text/plain": [
              "10"
            ]
          },
          "metadata": {},
          "execution_count": 9
        }
      ]
    },
    {
      "cell_type": "markdown",
      "source": [
        "# v"
      ],
      "metadata": {
        "id": "NGYrabekYivb"
      }
    },
    {
      "cell_type": "code",
      "source": [
        "def simple_logger(func):\n",
        "    def decorated(*args, **kwargs):\n",
        "        print(f\"You're about to call {func}\")\n",
        "        result = func(*args, **kwargs)\n",
        "        print(f\"You just called {func}\")\n",
        "        return result\n",
        "\n",
        "    return decorated\n",
        "\n",
        "\n",
        "@simple_logger\n",
        "def hello_world():\n",
        "    print(\"Hello, World!\")"
      ],
      "metadata": {
        "id": "rsAH0o4bYhwA"
      },
      "execution_count": 10,
      "outputs": []
    },
    {
      "cell_type": "code",
      "source": [
        "hello_world()"
      ],
      "metadata": {
        "colab": {
          "base_uri": "https://localhost:8080/"
        },
        "id": "NLZuy07BYmIM",
        "outputId": "22542490-c9f1-43e6-b1d2-b4696f7860e4"
      },
      "execution_count": 11,
      "outputs": [
        {
          "output_type": "stream",
          "name": "stdout",
          "text": [
            "You're about to call <function hello_world at 0x7effe458e040>\n",
            "Hello, World!\n",
            "You just called <function hello_world at 0x7effe458e040>\n"
          ]
        }
      ]
    },
    {
      "cell_type": "code",
      "source": [
        "# Step 1\n",
        "def hello_world():\n",
        "    print(\"Hello, World!\")# Step 2\n",
        "hello_world = simple_logger(hello_world)"
      ],
      "metadata": {
        "id": "0-7IPODSYnWm"
      },
      "execution_count": 12,
      "outputs": []
    },
    {
      "cell_type": "code",
      "source": [
        "hello_world.__code__.co_freevars"
      ],
      "metadata": {
        "colab": {
          "base_uri": "https://localhost:8080/"
        },
        "id": "3POCV6X5YpCn",
        "outputId": "1163966f-6469-4e64-92b5-0489b088ea9c"
      },
      "execution_count": 13,
      "outputs": [
        {
          "output_type": "execute_result",
          "data": {
            "text/plain": [
              "('func',)"
            ]
          },
          "metadata": {},
          "execution_count": 13
        }
      ]
    },
    {
      "cell_type": "code",
      "source": [
        "hello_world.__closure__[0].cell_contents"
      ],
      "metadata": {
        "colab": {
          "base_uri": "https://localhost:8080/"
        },
        "id": "KoRXbsliYqa4",
        "outputId": "d99b5e6b-7249-4045-836e-83c0a341dcda"
      },
      "execution_count": 14,
      "outputs": [
        {
          "output_type": "execute_result",
          "data": {
            "text/plain": [
              "<function __main__.hello_world()>"
            ]
          },
          "metadata": {},
          "execution_count": 14
        }
      ]
    }
  ]
}
