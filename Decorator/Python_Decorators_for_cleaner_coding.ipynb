{
  "nbformat": 4,
  "nbformat_minor": 0,
  "metadata": {
    "colab": {
      "name": "Python Decorators for cleaner coding.ipynb",
      "provenance": [],
      "authorship_tag": "ABX9TyPk++JRwJYhHvfY9M+IIy85"
    },
    "kernelspec": {
      "name": "python3",
      "display_name": "Python 3"
    },
    "language_info": {
      "name": "python"
    }
  },
  "cells": [
    {
      "cell_type": "markdown",
      "metadata": {
        "id": "gHnIm7SY8-80"
      },
      "source": [
        "[Reference](https://levelup.gitconnected.com/python-decorators-b530bff0f3e3)"
      ]
    },
    {
      "cell_type": "code",
      "metadata": {
        "id": "uXnZ78gy83Sy"
      },
      "source": [
        "op_switch = {\n",
        "    'sqr': lambda x: x**2,\n",
        "    'sqrt': lambda x: x**0.5,\n",
        "    'abs': lambda x: abs(x)\n",
        "}"
      ],
      "execution_count": 1,
      "outputs": []
    },
    {
      "cell_type": "code",
      "metadata": {
        "colab": {
          "base_uri": "https://localhost:8080/"
        },
        "id": "cO6dltQU9Ljb",
        "outputId": "4e0374e7-ed92-472a-e8a0-7284e254ff80"
      },
      "source": [
        "op_switch['sqr'](12)"
      ],
      "execution_count": 3,
      "outputs": [
        {
          "output_type": "execute_result",
          "data": {
            "text/plain": [
              "144"
            ]
          },
          "metadata": {
            "tags": []
          },
          "execution_count": 3
        }
      ]
    },
    {
      "cell_type": "code",
      "metadata": {
        "colab": {
          "base_uri": "https://localhost:8080/"
        },
        "id": "AKqOqxhI9M2A",
        "outputId": "156ebd34-5f1e-4a63-dbef-5272104db317"
      },
      "source": [
        "op_switch['sqrt'](25)"
      ],
      "execution_count": 4,
      "outputs": [
        {
          "output_type": "execute_result",
          "data": {
            "text/plain": [
              "5.0"
            ]
          },
          "metadata": {
            "tags": []
          },
          "execution_count": 4
        }
      ]
    },
    {
      "cell_type": "code",
      "metadata": {
        "id": "YbajtVDX9OB3"
      },
      "source": [
        "def deco_function(func, *args):\n",
        "    try:\n",
        "        return func(*args)\n",
        "    except:\n",
        "        print(\"Error occured\")\n",
        "        return None\n",
        "    \n",
        "def divide(a, b):\n",
        "    return a/b"
      ],
      "execution_count": 5,
      "outputs": []
    },
    {
      "cell_type": "code",
      "metadata": {
        "colab": {
          "base_uri": "https://localhost:8080/"
        },
        "id": "eSmz4cX89U-1",
        "outputId": "36f513e2-4969-49ec-db08-ea4ac51866ab"
      },
      "source": [
        "deco_function(divide, 10, 2)"
      ],
      "execution_count": 6,
      "outputs": [
        {
          "output_type": "execute_result",
          "data": {
            "text/plain": [
              "5.0"
            ]
          },
          "metadata": {
            "tags": []
          },
          "execution_count": 6
        }
      ]
    },
    {
      "cell_type": "code",
      "metadata": {
        "colab": {
          "base_uri": "https://localhost:8080/"
        },
        "id": "kmhQCpzCGPlT",
        "outputId": "e784b2a5-88fa-4f8b-df66-98569fb05ac3"
      },
      "source": [
        "deco_function(divide, 10, 0)"
      ],
      "execution_count": 7,
      "outputs": [
        {
          "output_type": "stream",
          "text": [
            "Error occured\n"
          ],
          "name": "stdout"
        }
      ]
    },
    {
      "cell_type": "code",
      "metadata": {
        "id": "UwgiZogpGQnF"
      },
      "source": [
        "def deco_function(func):\n",
        "    def wrapped(*args):\n",
        "        \"\"\"\n",
        "        This is the wrapper for a function to be fail safe\n",
        "        \"\"\"\n",
        "        try:\n",
        "            return func(*args)\n",
        "        except:\n",
        "            print(\"Error occured\")\n",
        "            return None\n",
        "    return wrapped\n",
        "    \n",
        "@deco_function\n",
        "def divide(a, b):    \n",
        "    \"\"\"\n",
        "    This is a function to divide two numbers\n",
        "    \"\"\"\n",
        "    return a/b"
      ],
      "execution_count": 8,
      "outputs": []
    },
    {
      "cell_type": "code",
      "metadata": {
        "id": "e3R9SHqmGUBD"
      },
      "source": [
        "divide = deco_function(divide)"
      ],
      "execution_count": 9,
      "outputs": []
    },
    {
      "cell_type": "code",
      "metadata": {
        "colab": {
          "base_uri": "https://localhost:8080/",
          "height": 37
        },
        "id": "XJzc_merGZMB",
        "outputId": "5513e2e8-9eae-436c-e8a9-e42547a6e42b"
      },
      "source": [
        "divide.__name__"
      ],
      "execution_count": 10,
      "outputs": [
        {
          "output_type": "execute_result",
          "data": {
            "application/vnd.google.colaboratory.intrinsic+json": {
              "type": "string"
            },
            "text/plain": [
              "'wrapped'"
            ]
          },
          "metadata": {
            "tags": []
          },
          "execution_count": 10
        }
      ]
    },
    {
      "cell_type": "code",
      "metadata": {
        "colab": {
          "base_uri": "https://localhost:8080/"
        },
        "id": "CLo3zcEjHWKH",
        "outputId": "caf515b0-8507-4e26-9be7-f3da213d3795"
      },
      "source": [
        "print(divide.__doc__)"
      ],
      "execution_count": 11,
      "outputs": [
        {
          "output_type": "stream",
          "text": [
            "\n",
            "        This is the wrapper for a function to be fail safe\n",
            "        \n"
          ],
          "name": "stdout"
        }
      ]
    },
    {
      "cell_type": "code",
      "metadata": {
        "id": "RqGeyxTzHXE9"
      },
      "source": [
        "import functools\n",
        "\n",
        "def deco_function(func):\n",
        "    @functools.wraps(func)\n",
        "    def wrapped(*args):\n",
        "        \"\"\"\n",
        "        This is the wrapper for a function to be fail safe\n",
        "        \"\"\"\n",
        "        try:\n",
        "            return func(*args)\n",
        "        except:\n",
        "            print(\"Error occured\")\n",
        "            return None\n",
        "    return wrapped\n",
        "    \n",
        "@deco_function\n",
        "def divide(a, b):    \n",
        "    \"\"\"\n",
        "    This is a function to divide two numbers\n",
        "    \"\"\"\n",
        "    return a/b"
      ],
      "execution_count": 12,
      "outputs": []
    },
    {
      "cell_type": "code",
      "metadata": {
        "colab": {
          "base_uri": "https://localhost:8080/"
        },
        "id": "X4LqgoY0HhKj",
        "outputId": "24744bbb-c2c0-46ff-d212-70a8907c550f"
      },
      "source": [
        "print(divide.__name__)\n",
        "print(divide.__doc__)"
      ],
      "execution_count": 13,
      "outputs": [
        {
          "output_type": "stream",
          "text": [
            "divide\n",
            "\n",
            "    This is a function to divide two numbers\n",
            "    \n"
          ],
          "name": "stdout"
        }
      ]
    },
    {
      "cell_type": "code",
      "metadata": {
        "id": "-fZl9tDKHkyG"
      },
      "source": [
        "import functools\n",
        "\n",
        "def print_args(func):\n",
        "    @functools.wraps(func)\n",
        "    def wrapped(*args, **kwargs):\n",
        "        args_arr = [(n, a) for n, a in enumerate(args)]                      \n",
        "        kwargs_arr = [(k, v) for k, v in kwargs.items()]\n",
        "        \n",
        "        for k, v in args_arr + kwargs_arr:\n",
        "           print(k, v)\n",
        "    return wrapped\n",
        "    \n",
        "@print_args\n",
        "def test_function(*args, **kwargs):    \n",
        "    return a/b"
      ],
      "execution_count": 17,
      "outputs": []
    },
    {
      "cell_type": "code",
      "metadata": {
        "colab": {
          "base_uri": "https://localhost:8080/"
        },
        "id": "pGGIeESnHoJH",
        "outputId": "8fe61ddc-80a3-4393-b6b7-d670a91e9930"
      },
      "source": [
        "test_function('name', 'age', height=150, weight=50)"
      ],
      "execution_count": 18,
      "outputs": [
        {
          "output_type": "stream",
          "text": [
            "0 name\n",
            "1 age\n",
            "height 150\n",
            "weight 50\n"
          ],
          "name": "stdout"
        }
      ]
    },
    {
      "cell_type": "code",
      "metadata": {
        "id": "seAfQXamH52V"
      },
      "source": [
        "def powered(power):\n",
        "    def powered_decorator(func):\n",
        "        def wrapper(*args):\n",
        "            return func(*args)**power\n",
        "        return wrapper\n",
        "    return powered_decorator\n",
        "    \n",
        "@powered(2)\n",
        "def add(*args):\n",
        "    return sum(args)"
      ],
      "execution_count": 19,
      "outputs": []
    },
    {
      "cell_type": "code",
      "metadata": {
        "id": "VrHBQK-aH-jn"
      },
      "source": [
        "import functools\n",
        "\n",
        "\n",
        "def try_safe(func):\n",
        "    @functools.wraps(func)\n",
        "    def wrapped(*args):\n",
        "        try:\n",
        "            return func(*args)\n",
        "        except:\n",
        "            print(\"Error occured\")\n",
        "            return None\n",
        "    return wrapped\n",
        "    \n",
        "class Calculator:\n",
        "    \n",
        "    def __init__(self):\n",
        "        pass\n",
        "    \n",
        "    @try_safe\n",
        "    def add(self, *args):\n",
        "        return sum(args)\n",
        "    \n",
        "    @try_safe\n",
        "    def divide(self, a, b):\n",
        "        return a/b"
      ],
      "execution_count": 20,
      "outputs": []
    },
    {
      "cell_type": "code",
      "metadata": {
        "colab": {
          "base_uri": "https://localhost:8080/"
        },
        "id": "QRBq9bcGICYI",
        "outputId": "97053c18-ad49-4710-b9b0-93f2303ae608"
      },
      "source": [
        "calc = Calculator()\n",
        "calc.divide(10, 2)"
      ],
      "execution_count": 21,
      "outputs": [
        {
          "output_type": "execute_result",
          "data": {
            "text/plain": [
              "5.0"
            ]
          },
          "metadata": {
            "tags": []
          },
          "execution_count": 21
        }
      ]
    },
    {
      "cell_type": "code",
      "metadata": {
        "id": "sv3u__45JiuC"
      },
      "source": [
        "import functools\n",
        "\n",
        "def try_safe(cls):\n",
        "    @functools.wraps(cls)\n",
        "    def wrapped(*args):\n",
        "        try:\n",
        "            return cls(*args)\n",
        "        except:\n",
        "            print(\"Error occured\")\n",
        "            return None\n",
        "    return wrapped@try_safe\n",
        "class Calculator:\n",
        "    \n",
        "    def __init__(self, a, b):\n",
        "        self.ratio = a/b"
      ],
      "execution_count": 23,
      "outputs": []
    },
    {
      "cell_type": "code",
      "metadata": {
        "id": "701luhsFJmh-"
      },
      "source": [
        "import functools\n",
        "\n",
        "def record(func):\n",
        "    @functools.wraps(func)\n",
        "    def wrapped(*args):\n",
        "        wrapped.record += 1\n",
        "        print(f\"Ran for {wrapped.record} time(s)\")\n",
        "        return func(*args)\n",
        "    wrapped.record = 0\n",
        "    return wrapped\n",
        "    \n",
        "    \n",
        "@record\n",
        "def test():\n",
        "    print(\"Running\")"
      ],
      "execution_count": 25,
      "outputs": []
    },
    {
      "cell_type": "code",
      "metadata": {
        "colab": {
          "base_uri": "https://localhost:8080/"
        },
        "id": "RyIdv0dZJqTe",
        "outputId": "5b4ef854-69ac-4714-f4ee-96fb837a8253"
      },
      "source": [
        "test()"
      ],
      "execution_count": 26,
      "outputs": [
        {
          "output_type": "stream",
          "text": [
            "Ran for 1 time(s)\n",
            "Running\n"
          ],
          "name": "stdout"
        }
      ]
    },
    {
      "cell_type": "code",
      "metadata": {
        "colab": {
          "base_uri": "https://localhost:8080/"
        },
        "id": "CJCmhOrtJtRg",
        "outputId": "825c8831-b61f-4fa0-e382-732783866fbb"
      },
      "source": [
        "test()"
      ],
      "execution_count": 27,
      "outputs": [
        {
          "output_type": "stream",
          "text": [
            "Ran for 2 time(s)\n",
            "Running\n"
          ],
          "name": "stdout"
        }
      ]
    },
    {
      "cell_type": "code",
      "metadata": {
        "colab": {
          "base_uri": "https://localhost:8080/"
        },
        "id": "9QKt4YunJtuc",
        "outputId": "bcb3a67f-24d9-4984-849e-161594e84b19"
      },
      "source": [
        "test()"
      ],
      "execution_count": 28,
      "outputs": [
        {
          "output_type": "stream",
          "text": [
            "Ran for 3 time(s)\n",
            "Running\n"
          ],
          "name": "stdout"
        }
      ]
    },
    {
      "cell_type": "code",
      "metadata": {
        "id": "8ChrdCbzJuF5"
      },
      "source": [
        "import functools\n",
        "\n",
        "def singleton(cls):\n",
        "    @functools.wraps(cls)\n",
        "    def wrapped(*args, **kwargs):\n",
        "        if not wrapped.object:\n",
        "            wrapped.object = cls(*args, **kwargs)\n",
        "        return wrapped.object\n",
        "    wrapped.object = None\n",
        "    return wrapped\n",
        "    \n",
        "@singleton\n",
        "class SingularObject:\n",
        "    def __init__(self):\n",
        "        print(\"The object is being created\")"
      ],
      "execution_count": 29,
      "outputs": []
    },
    {
      "cell_type": "code",
      "metadata": {
        "colab": {
          "base_uri": "https://localhost:8080/"
        },
        "id": "h6PNupXTJzT4",
        "outputId": "29e78727-d914-4bd9-bc22-b3b157929b67"
      },
      "source": [
        "first = SingularObject()"
      ],
      "execution_count": 30,
      "outputs": [
        {
          "output_type": "stream",
          "text": [
            "The object is being created\n"
          ],
          "name": "stdout"
        }
      ]
    },
    {
      "cell_type": "code",
      "metadata": {
        "id": "LeZKt9wMJxyd"
      },
      "source": [
        "second = SingularObject()"
      ],
      "execution_count": 31,
      "outputs": []
    },
    {
      "cell_type": "code",
      "metadata": {
        "colab": {
          "base_uri": "https://localhost:8080/"
        },
        "id": "70IpTLhnJ1EH",
        "outputId": "52cf8351-ac16-4113-a881-d5e335422bfc"
      },
      "source": [
        "second is first"
      ],
      "execution_count": 32,
      "outputs": [
        {
          "output_type": "execute_result",
          "data": {
            "text/plain": [
              "True"
            ]
          },
          "metadata": {
            "tags": []
          },
          "execution_count": 32
        }
      ]
    },
    {
      "cell_type": "code",
      "metadata": {
        "id": "Vyo_4qt_J29Q"
      },
      "source": [
        "import functools\n",
        "\n",
        "class Record:\n",
        "    def __init__(self, func):\n",
        "        functools.update_wrapper(self, func)\n",
        "        self.func = func\n",
        "        self.record = 0\n",
        "        \n",
        "    def __call__(self, *args, **kwargs):\n",
        "        self.record += 1\n",
        "        print(f\"Ran for {self.record} time(s)\")\n",
        "        return self.func(*args, **kwargs)\n",
        "        \n",
        "@Record\n",
        "def test():\n",
        "    print(\"Run\")"
      ],
      "execution_count": 33,
      "outputs": []
    },
    {
      "cell_type": "code",
      "metadata": {
        "colab": {
          "base_uri": "https://localhost:8080/"
        },
        "id": "Bwp_EUCCJ8EG",
        "outputId": "c8ef9763-7e82-4223-c797-efb5328b83c8"
      },
      "source": [
        "test()"
      ],
      "execution_count": 34,
      "outputs": [
        {
          "output_type": "stream",
          "text": [
            "Ran for 1 time(s)\n",
            "Run\n"
          ],
          "name": "stdout"
        }
      ]
    },
    {
      "cell_type": "code",
      "metadata": {
        "colab": {
          "base_uri": "https://localhost:8080/"
        },
        "id": "nb-h9qsOJ_Oz",
        "outputId": "3776c73b-ee9c-44e5-c52f-865fd9b2a6f9"
      },
      "source": [
        "test()"
      ],
      "execution_count": 35,
      "outputs": [
        {
          "output_type": "stream",
          "text": [
            "Ran for 2 time(s)\n",
            "Run\n"
          ],
          "name": "stdout"
        }
      ]
    },
    {
      "cell_type": "code",
      "metadata": {
        "colab": {
          "base_uri": "https://localhost:8080/"
        },
        "id": "3yjFfjXPJ_Yp",
        "outputId": "5abe378a-c617-40ea-da9c-56865b8fb009"
      },
      "source": [
        "test()"
      ],
      "execution_count": 36,
      "outputs": [
        {
          "output_type": "stream",
          "text": [
            "Ran for 3 time(s)\n",
            "Run\n"
          ],
          "name": "stdout"
        }
      ]
    }
  ]
}