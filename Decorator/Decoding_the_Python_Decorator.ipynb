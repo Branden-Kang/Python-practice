{
  "nbformat": 4,
  "nbformat_minor": 0,
  "metadata": {
    "colab": {
      "name": "Decoding the Python Decorator.ipynb",
      "provenance": [],
      "authorship_tag": "ABX9TyOgb1czhOKtzfI4jMEbyYZg"
    },
    "kernelspec": {
      "name": "python3",
      "display_name": "Python 3"
    }
  },
  "cells": [
    {
      "cell_type": "markdown",
      "metadata": {
        "id": "N5i9EOgORmlX"
      },
      "source": [
        "[Reference](https://medium.com/@preyansh.10607/decoding-the-mysterious-python-decorator-55b1b5e0c0e1)"
      ]
    },
    {
      "cell_type": "code",
      "metadata": {
        "colab": {
          "base_uri": "https://localhost:8080/"
        },
        "id": "aSpT-BV9Rj2e",
        "outputId": "bffc5930-e66f-4cbc-fb11-842997f77799"
      },
      "source": [
        "def append_something(name):\n",
        "    return \"Appending to {}\".format(name)\n",
        "\n",
        "append_var = append_something\n",
        "\n",
        "print(append_something(\"John\"))"
      ],
      "execution_count": 1,
      "outputs": [
        {
          "output_type": "stream",
          "text": [
            "Appending to John\n"
          ],
          "name": "stdout"
        }
      ]
    },
    {
      "cell_type": "code",
      "metadata": {
        "colab": {
          "base_uri": "https://localhost:8080/"
        },
        "id": "vrIIzkuNSDTv",
        "outputId": "b29250f3-6653-4fc1-bd86-27293b75e18b"
      },
      "source": [
        "def append_something(name):\n",
        "    return \"Appending to {}\".format(name)\n",
        "\n",
        "def calling_func(func):\n",
        "    name = \"John\"\n",
        "    return func(name)\n",
        "\n",
        "print(calling_func(append_something))"
      ],
      "execution_count": 2,
      "outputs": [
        {
          "output_type": "stream",
          "text": [
            "Appending to John\n"
          ],
          "name": "stdout"
        }
      ]
    },
    {
      "cell_type": "code",
      "metadata": {
        "colab": {
          "base_uri": "https://localhost:8080/"
        },
        "id": "nnjQ4B4KSOjJ",
        "outputId": "0b7767a8-aa79-49eb-fed5-0fdb1fce9590"
      },
      "source": [
        "def out_func():\n",
        "    def inner_func():\n",
        "        return \"This function will be returned by out_func\"\n",
        "    return inner_func\n",
        "\n",
        "out = out_func()\n",
        "print(out())"
      ],
      "execution_count": 3,
      "outputs": [
        {
          "output_type": "stream",
          "text": [
            "This function will be returned by out_func\n"
          ],
          "name": "stdout"
        }
      ]
    },
    {
      "cell_type": "code",
      "metadata": {
        "colab": {
          "base_uri": "https://localhost:8080/"
        },
        "id": "kqGTu5OjSanE",
        "outputId": "13a69852-b8c6-41cc-eaed-cec70c1919bc"
      },
      "source": [
        "def out_func(name):\n",
        "    def inner_func():\n",
        "        return \"We are using the name {} inside inner_func\".format(name)\n",
        "    return inner_func\n",
        "\n",
        "out = out_func(\"Mark\")\n",
        "print(out())"
      ],
      "execution_count": 5,
      "outputs": [
        {
          "output_type": "stream",
          "text": [
            "We are using the name Mark inside inner_func\n"
          ],
          "name": "stdout"
        }
      ]
    },
    {
      "cell_type": "code",
      "metadata": {
        "colab": {
          "base_uri": "https://localhost:8080/"
        },
        "id": "J78sKOCbSrLc",
        "outputId": "af3ce5bb-0f2a-4723-ee64-09fa9f8a10a7"
      },
      "source": [
        "def get_txt(name):\n",
        "    return \"my name is {}\".format(name)\n",
        "\n",
        "def lets_decorate(func):\n",
        "    def func_wrapper(name):\n",
        "        return \"Hi there, {0}. How are you?\".format(func(name))\n",
        "    return func_wrapper\n",
        "\n",
        "my_output = lets_decorate(get_txt)\n",
        "\n",
        "print(my_output(\"Mark\"))"
      ],
      "execution_count": 7,
      "outputs": [
        {
          "output_type": "stream",
          "text": [
            "Hi there, my name is Mark. How are you?\n"
          ],
          "name": "stdout"
        }
      ]
    },
    {
      "cell_type": "code",
      "metadata": {
        "colab": {
          "base_uri": "https://localhost:8080/"
        },
        "id": "oRglaz2wTGHu",
        "outputId": "e8c4d105-e779-4995-852b-1838bb945645"
      },
      "source": [
        "def lets_decorate(func):\n",
        "    def func_wrapper(name):\n",
        "        return \"Hi there, {0}. How are you?\".format(func(name))\n",
        "    return func_wrapper\n",
        "\n",
        "@lets_decorate\n",
        "def get_txt(name):\n",
        "    return \"my name is {}\".format(name)\n",
        "\n",
        "print(get_txt(\"Mark\"))"
      ],
      "execution_count": 8,
      "outputs": [
        {
          "output_type": "stream",
          "text": [
            "Hi there, my name is Mark. How are you?\n"
          ],
          "name": "stdout"
        }
      ]
    },
    {
      "cell_type": "code",
      "metadata": {
        "colab": {
          "base_uri": "https://localhost:8080/"
        },
        "id": "wpwoNPEmTZzC",
        "outputId": "05280eea-6bcb-4d7e-891e-acdfd4c63013"
      },
      "source": [
        "def lets_decorate(func):\n",
        "    def func_wrapper(self):\n",
        "        print(\"Something before the method execution\")\n",
        "        print(func(self))\n",
        "        print(\"Something after the method execution\")\n",
        "    return func_wrapper\n",
        "\n",
        "class Example(object):\n",
        "    def __init__(self):\n",
        "        self.firststr = \"first\"\n",
        "        self.secondstr = \"second\"\n",
        "\n",
        "    @lets_decorate\n",
        "    def concat_strings(self):\n",
        "        return \"Full string is {} {}\".format(self.firststr,self.secondstr)\n",
        "\n",
        "out = Example()\n",
        "out.concat_strings()"
      ],
      "execution_count": 10,
      "outputs": [
        {
          "output_type": "stream",
          "text": [
            "Something before the method execution\n",
            "Full string is first second\n",
            "Something after the method execution\n"
          ],
          "name": "stdout"
        }
      ]
    },
    {
      "cell_type": "code",
      "metadata": {
        "colab": {
          "base_uri": "https://localhost:8080/"
        },
        "id": "Fpd2p0qlUNAx",
        "outputId": "30345d83-e98f-4cf1-ac08-da631cc24000"
      },
      "source": [
        "def lets_decorate(func):\n",
        "    def func_wrapper(*args, **kwargs):\n",
        "        print(\"Something before the method execution\")\n",
        "        print(func(*args, **kwargs))\n",
        "        print(\"Something after the method execution\")\n",
        "    return func_wrapper\n",
        "\n",
        "class Example(object):\n",
        "    def __init__(self):\n",
        "        self.firststr = \"first\"\n",
        "        self.secondstr = \"second\"\n",
        "\n",
        "    @lets_decorate\n",
        "    def concat_strings(self):\n",
        "        return \"Full string is {} {}\".format(self.firststr,self.secondstr)\n",
        "\n",
        "out = Example()\n",
        "out.concat_strings()"
      ],
      "execution_count": 11,
      "outputs": [
        {
          "output_type": "stream",
          "text": [
            "Something before the method execution\n",
            "Full string is first second\n",
            "Something after the method execution\n"
          ],
          "name": "stdout"
        }
      ]
    },
    {
      "cell_type": "code",
      "metadata": {
        "colab": {
          "base_uri": "https://localhost:8080/"
        },
        "id": "QcONg7ODUhXn",
        "outputId": "1fe4d1bb-2cf1-4ae8-85ff-098e8fec9dac"
      },
      "source": [
        "def greet_tag(tag):\n",
        "    def lets_decorate(func):\n",
        "        def func_wrapper(name):\n",
        "            return \"{}, {}. How are you?\".format(tag, func(name))\n",
        "        return func_wrapper\n",
        "\n",
        "    return lets_decorate\n",
        "\n",
        "@greet_tag('Hi There')\n",
        "def get_txt(name):\n",
        "    return \"my name is {}\".format(name)\n",
        "\n",
        "print(get_txt('Susan'))"
      ],
      "execution_count": 13,
      "outputs": [
        {
          "output_type": "stream",
          "text": [
            "Hi There, my name is Susan. How are you?\n"
          ],
          "name": "stdout"
        }
      ]
    },
    {
      "cell_type": "code",
      "metadata": {
        "colab": {
          "base_uri": "https://localhost:8080/"
        },
        "id": "0Udw2oosU4oc",
        "outputId": "5b27831b-c72d-4bd1-e334-c041d08d78d5"
      },
      "source": [
        "print(get_txt.__name__)"
      ],
      "execution_count": 14,
      "outputs": [
        {
          "output_type": "stream",
          "text": [
            "func_wrapper\n"
          ],
          "name": "stdout"
        }
      ]
    },
    {
      "cell_type": "code",
      "metadata": {
        "colab": {
          "base_uri": "https://localhost:8080/"
        },
        "id": "qcP3g6isU-so",
        "outputId": "de652b16-ba44-4563-ad15-fc4dfacfb66b"
      },
      "source": [
        "from functools import wraps\n",
        "\n",
        "def greet_tag(tag):\n",
        "    def lets_decorate(func):\n",
        "        @wraps(func)\n",
        "        def func_wrapper(name):\n",
        "            return \"{}, {}. How are you?\".format(tag, func(name))\n",
        "        return func_wrapper\n",
        "    return lets_decorate\n",
        "\n",
        "    return lets_decorate\n",
        "\n",
        "@greet_tag('Hi There')\n",
        "def get_txt(name):\n",
        "    return \"my name is {}\".format(name)\n",
        "\n",
        "print(get_txt('Susan'))"
      ],
      "execution_count": 15,
      "outputs": [
        {
          "output_type": "stream",
          "text": [
            "Hi There, my name is Susan. How are you?\n"
          ],
          "name": "stdout"
        }
      ]
    }
  ]
}