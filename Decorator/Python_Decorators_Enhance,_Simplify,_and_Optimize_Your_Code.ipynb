{
  "nbformat": 4,
  "nbformat_minor": 0,
  "metadata": {
    "colab": {
      "provenance": [],
      "authorship_tag": "ABX9TyM1ZOT9UTqiUzGcWMjySgHW"
    },
    "kernelspec": {
      "name": "python3",
      "display_name": "Python 3"
    },
    "language_info": {
      "name": "python"
    }
  },
  "cells": [
    {
      "cell_type": "markdown",
      "source": [
        "[Reference](https://medium.com/@mr.stucknet/python-decorators-enhance-simplify-and-optimize-your-code-2ce49849a1d8)"
      ],
      "metadata": {
        "id": "YaLDvUo-NQwc"
      }
    },
    {
      "cell_type": "code",
      "execution_count": 1,
      "metadata": {
        "colab": {
          "base_uri": "https://localhost:8080/"
        },
        "id": "h-VvHuzLMt4F",
        "outputId": "e89adae9-a5e0-4261-ae0f-dd86d4182c97"
      },
      "outputs": [
        {
          "output_type": "stream",
          "name": "stdout",
          "text": [
            "f took: 0.3005547523498535\n",
            "g took: 0.5008342266082764\n"
          ]
        }
      ],
      "source": [
        "from time import sleep, time\n",
        "def f():\n",
        "  sleep(.3)\n",
        "def g():\n",
        "  sleep(.5)\n",
        "t = time()\n",
        "f()\n",
        "print('f took:', time() - t)# f took: 0.3001396656036377\n",
        "t = time()\n",
        "g()\n",
        "print('g took:', time() - t)# g took: 0.5039339065551758"
      ]
    },
    {
      "cell_type": "code",
      "source": [
        "from time import sleep, time\n",
        "def f():\n",
        "  sleep(.3)\n",
        "def g():\n",
        "  sleep(.5)\n",
        "def measure(func):\n",
        "  t = time()\n",
        "  func()\n",
        "  print(func.__name__, 'took:', time() - t)\n",
        "measure(f)\n",
        "measure(g)"
      ],
      "metadata": {
        "colab": {
          "base_uri": "https://localhost:8080/"
        },
        "id": "psXg_rWgNTj3",
        "outputId": "b457e73c-5903-423c-d857-15a094d71cbf"
      },
      "execution_count": 2,
      "outputs": [
        {
          "output_type": "stream",
          "name": "stdout",
          "text": [
            "f took: 0.3003413677215576\n",
            "g took: 0.5006072521209717\n"
          ]
        }
      ]
    },
    {
      "cell_type": "code",
      "source": [
        "from time import sleep, time\n",
        "def f(sleep_time=0.1):\n",
        "  sleep(sleep_time)\n",
        "def measure(func, *args, **kwargs):\n",
        "  t = time()\n",
        "  func(*args, **kwargs)\n",
        "  print(func.__name__, 'took:', time() - t)\n",
        "measure(f, sleep_time=0.3)\n",
        "measure(f, 0.2)"
      ],
      "metadata": {
        "colab": {
          "base_uri": "https://localhost:8080/"
        },
        "id": "ng3c2O-hNWKz",
        "outputId": "c26376d2-f138-4d30-9c68-786a14187b5e"
      },
      "execution_count": 3,
      "outputs": [
        {
          "output_type": "stream",
          "name": "stdout",
          "text": [
            "f took: 0.3012726306915283\n",
            "f took: 0.200822114944458\n"
          ]
        }
      ]
    },
    {
      "cell_type": "code",
      "source": [
        "from time import sleep, time\n",
        "def f(sleep_time=0.1):\n",
        "  sleep(sleep_time)\n",
        "def measure(func, *args, **kwargs):\n",
        "  t = time()\n",
        "  func(*args, **kwargs)\n",
        "  print(func.__name__, 'took:', time() - t)\n",
        "measure(f, sleep_time=0.3)\n",
        "measure(f, 0.2)"
      ],
      "metadata": {
        "colab": {
          "base_uri": "https://localhost:8080/"
        },
        "id": "g__0J2_UNY8U",
        "outputId": "1fe3bdad-fbcc-49ce-f932-b5150edd222a"
      },
      "execution_count": 4,
      "outputs": [
        {
          "output_type": "stream",
          "name": "stdout",
          "text": [
            "f took: 0.3012659549713135\n",
            "f took: 0.20030450820922852\n"
          ]
        }
      ]
    }
  ]
}
