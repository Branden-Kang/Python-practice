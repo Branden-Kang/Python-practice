{
  "nbformat": 4,
  "nbformat_minor": 0,
  "metadata": {
    "colab": {
      "name": "Understand and Master the Decorator in Python..ipynb",
      "provenance": [],
      "authorship_tag": "ABX9TyOJyWuOePoBvOeqHUsX999n"
    },
    "kernelspec": {
      "name": "python3",
      "display_name": "Python 3"
    },
    "language_info": {
      "name": "python"
    }
  },
  "cells": [
    {
      "cell_type": "markdown",
      "metadata": {
        "id": "M_PGjUM8Pmo8"
      },
      "source": [
        "[Reference](https://medium.com/codex/understand-and-master-the-decorator-in-python-481aa444933f)"
      ]
    },
    {
      "cell_type": "code",
      "metadata": {
        "colab": {
          "base_uri": "https://localhost:8080/"
        },
        "id": "uqp6RHGEPk7j",
        "outputId": "12ed17ea-70d1-41d6-c992-b5b5420afcb0"
      },
      "source": [
        "def func1():\n",
        "    print(\"Inside func1.\")\n",
        "    \n",
        "func1()"
      ],
      "execution_count": null,
      "outputs": [
        {
          "output_type": "stream",
          "text": [
            "Inside func1.\n"
          ],
          "name": "stdout"
        }
      ]
    },
    {
      "cell_type": "code",
      "metadata": {
        "id": "ymIV_w9IL89c"
      },
      "source": [
        "def decorator(func):\n",
        "    print(\"In decorator.\")\n",
        "    def wrapper():\n",
        "        print(\"Inside wrapper.\")\n",
        "        print(\"Do something before the function is executed.\")        \n",
        "        \n",
        "        # Execute the function and get the return value.      \n",
        "        value = func()        \n",
        "        print(\"Inside wrapper.\")\n",
        "        print(\"Do something after the function is executed.\")        \n",
        "        \n",
        "        # We need to return the value explicitly.\n",
        "        return value    \n",
        "    \n",
        "    # Return the wrapper which is the wrapped/decorated function.\n",
        "    return wrapper"
      ],
      "execution_count": null,
      "outputs": []
    },
    {
      "cell_type": "code",
      "metadata": {
        "colab": {
          "base_uri": "https://localhost:8080/"
        },
        "id": "Hc-hf8_QMD_n",
        "outputId": "f66f37d4-d180-4b39-f764-d4a913b101bc"
      },
      "source": [
        "func1_decorated = decorator(func1)"
      ],
      "execution_count": null,
      "outputs": [
        {
          "output_type": "stream",
          "text": [
            "In decorator.\n"
          ],
          "name": "stdout"
        }
      ]
    },
    {
      "cell_type": "code",
      "metadata": {
        "colab": {
          "base_uri": "https://localhost:8080/"
        },
        "id": "LjQjBmnBMFqg",
        "outputId": "4161205c-6bbe-4af9-d09d-b4c0f7b5ad41"
      },
      "source": [
        "func1_decorated()"
      ],
      "execution_count": null,
      "outputs": [
        {
          "output_type": "stream",
          "text": [
            "Inside wrapper.\n",
            "Do something before the function is executed.\n",
            "Inside func1.\n",
            "Inside wrapper.\n",
            "Do something after the function is executed.\n"
          ],
          "name": "stdout"
        }
      ]
    },
    {
      "cell_type": "code",
      "metadata": {
        "colab": {
          "base_uri": "https://localhost:8080/"
        },
        "id": "6TUI_GY7MKU6",
        "outputId": "a55af9b2-6e5b-40a1-858f-3f3c4ed84620"
      },
      "source": [
        "@decorator\n",
        "def func2():\n",
        "    print(\"Inside func2.\")"
      ],
      "execution_count": null,
      "outputs": [
        {
          "output_type": "stream",
          "text": [
            "In decorator.\n"
          ],
          "name": "stdout"
        }
      ]
    },
    {
      "cell_type": "code",
      "metadata": {
        "colab": {
          "base_uri": "https://localhost:8080/"
        },
        "id": "Eppg-7rVMM2E",
        "outputId": "7b43ec1b-7eae-4469-9b05-f0f10917cdc0"
      },
      "source": [
        "func2()"
      ],
      "execution_count": null,
      "outputs": [
        {
          "output_type": "stream",
          "text": [
            "Inside wrapper.\n",
            "Do something before the function is executed.\n",
            "Inside func2.\n",
            "Inside wrapper.\n",
            "Do something after the function is executed.\n"
          ],
          "name": "stdout"
        }
      ]
    },
    {
      "cell_type": "code",
      "metadata": {
        "id": "P9DRXp_3MSpI"
      },
      "source": [
        "def decorator2(func):\n",
        "    print(\"Inside decorator.\")    \n",
        "    \n",
        "    # Note the parameters are passed to wrapper.\n",
        "    def wrapper(*args, **kwargs):\n",
        "        print(\"Inside wrapper.\")\n",
        "        print(\"Do something before the function is executed.\")        \n",
        "        \n",
        "        # Execute the function and get the return value.\n",
        "        value = func(*args, **kwargs)        \n",
        "        \n",
        "        print(\"Inside wrapper.\")\n",
        "        print(\"Do something after the function is executed.\")        \n",
        "        \n",
        "        # We need to return the value explicitly.\n",
        "        return value    \n",
        "        \n",
        "    # Return the wrapper which is the wrapped/decorated function.\n",
        "    return wrapper"
      ],
      "execution_count": null,
      "outputs": []
    },
    {
      "cell_type": "code",
      "metadata": {
        "colab": {
          "base_uri": "https://localhost:8080/"
        },
        "id": "giTrtJidMYYA",
        "outputId": "d0654a23-a093-44f8-e85a-d803e6b9ba15"
      },
      "source": [
        "@decorator2\n",
        "def multi_10(number, times=1):\n",
        "    print(\"Inside the original function.\")\n",
        "    return number * 10 ** times"
      ],
      "execution_count": null,
      "outputs": [
        {
          "output_type": "stream",
          "text": [
            "Inside decorator.\n"
          ],
          "name": "stdout"
        }
      ]
    },
    {
      "cell_type": "code",
      "metadata": {
        "colab": {
          "base_uri": "https://localhost:8080/"
        },
        "id": "8L5rSgeVMasA",
        "outputId": "6fe03afe-2ff2-4420-f478-8540fd3a393a"
      },
      "source": [
        "print(multi_10(1))"
      ],
      "execution_count": null,
      "outputs": [
        {
          "output_type": "stream",
          "text": [
            "Inside wrapper.\n",
            "Do something before the function is executed.\n",
            "Inside the original function.\n",
            "Inside wrapper.\n",
            "Do something after the function is executed.\n",
            "10\n"
          ],
          "name": "stdout"
        }
      ]
    },
    {
      "cell_type": "code",
      "metadata": {
        "colab": {
          "base_uri": "https://localhost:8080/"
        },
        "id": "9F9S0rGZMcr4",
        "outputId": "782e6b7b-bd4d-4133-8e42-9b0d9a46b12c"
      },
      "source": [
        "print(multi_10(1, times=3))"
      ],
      "execution_count": null,
      "outputs": [
        {
          "output_type": "stream",
          "text": [
            "Inside wrapper.\n",
            "Do something before the function is executed.\n",
            "Inside the original function.\n",
            "Inside wrapper.\n",
            "Do something after the function is executed.\n",
            "1000\n"
          ],
          "name": "stdout"
        }
      ]
    },
    {
      "cell_type": "code",
      "metadata": {
        "colab": {
          "base_uri": "https://localhost:8080/"
        },
        "id": "P8OkDEa6Md0u",
        "outputId": "c12e25d8-8fcb-4deb-8dd8-e8f0e01af79a"
      },
      "source": [
        "print(multi_10.__name__)"
      ],
      "execution_count": null,
      "outputs": [
        {
          "output_type": "stream",
          "text": [
            "wrapper\n"
          ],
          "name": "stdout"
        }
      ]
    },
    {
      "cell_type": "code",
      "metadata": {
        "colab": {
          "base_uri": "https://localhost:8080/"
        },
        "id": "_a-KjqAgMgLV",
        "outputId": "9f4b4c0c-6a43-44a7-aaba-bc896d8ede7f"
      },
      "source": [
        "from functools import wraps\n",
        "\n",
        "def decorator3(func):\n",
        "    print(\"Inside the decoractor.\")    \n",
        "    \n",
        "    # The wraps decorator is used preserve the properties of the\n",
        "    # original function.\n",
        "    # Note the parameters are passed to wrapper.\n",
        "    @wraps(func)\n",
        "    def wrapper(*args, **kwargs):\n",
        "        print(\"In wrapper.\")\n",
        "        print(\"Do something before the function is executed.\")        \n",
        "        \n",
        "        # Execute the function and get the return value.\n",
        "        value = func(*args, **kwargs)        \n",
        "        \n",
        "        print(\"In wrapper.\")\n",
        "        print(\"Do something after the function is executed.\")        \n",
        "        \n",
        "        # We need to return the value explicitly.\n",
        "        return value    \n",
        "    \n",
        "    # Return the wrapper which is the wrapped/decorated function.\n",
        "    return wrapper\n",
        "    \n",
        "@decorator3\n",
        "def multi_10(number, times=1):\n",
        "    print(\"Inside the original function.\")\n",
        "    return number * 10 ** times"
      ],
      "execution_count": null,
      "outputs": [
        {
          "output_type": "stream",
          "text": [
            "Inside the decoractor.\n"
          ],
          "name": "stdout"
        }
      ]
    },
    {
      "cell_type": "code",
      "metadata": {
        "colab": {
          "base_uri": "https://localhost:8080/"
        },
        "id": "KbAcyezaM-hs",
        "outputId": "d0ab1278-9ded-4bcd-cabf-81050fbbf019"
      },
      "source": [
        "print(multi_10.__name__)"
      ],
      "execution_count": null,
      "outputs": [
        {
          "output_type": "stream",
          "text": [
            "multi_10\n"
          ],
          "name": "stdout"
        }
      ]
    },
    {
      "cell_type": "code",
      "metadata": {
        "id": "3OVck56DM_5H"
      },
      "source": [
        "def decoractor_factory(add_to_log=False):\n",
        "    print(\"Inside the decoractor_factory.\")    \n",
        "    \n",
        "    # The fucntion to decorate is passed to the decorator function.\n",
        "    def decorator(func):\n",
        "        print(\"Inside the decoractor.\")        \n",
        "        \n",
        "        # The wraps decorator is used preserve the properties of the\n",
        "        # original function.\n",
        "        # Note the parameters are passed to wrapper.\n",
        "        @wraps(func)\n",
        "        def wrapper(*args, **kwargs):\n",
        "            print(\"In wrapper.\")\n",
        "            print(\"Do something before the function is executed.\")            # Execute the function and get the return value.\n",
        "            value = func(*args, **kwargs)            \n",
        "            \n",
        "            # The parameters passed to factory can be used in nested\n",
        "            # functions.\n",
        "            if add_to_log:  \n",
        "                print(\"In wrapper.\")\n",
        "                print(\"The function is logged after execution.\")            # We need to return the value explicitly.\n",
        "            return value        \n",
        "        # Return the wrapper from the decorator function.\n",
        "        return wrapper    \n",
        "    \n",
        "    # Return the decorator from the decorator factory.\n",
        "    return decorator"
      ],
      "execution_count": null,
      "outputs": []
    },
    {
      "cell_type": "code",
      "metadata": {
        "colab": {
          "base_uri": "https://localhost:8080/"
        },
        "id": "W-dQI7r2NOr3",
        "outputId": "212d4005-84da-4368-fd7e-5d720f3aae30"
      },
      "source": [
        "@decoractor_factory(add_to_log=True)\n",
        "def multi_10(number, times=1):\n",
        "    print(\"Inside the original function.\")\n",
        "    return number * 10 ** times"
      ],
      "execution_count": null,
      "outputs": [
        {
          "output_type": "stream",
          "text": [
            "Inside the decoractor_factory.\n",
            "Inside the decoractor.\n"
          ],
          "name": "stdout"
        }
      ]
    },
    {
      "cell_type": "code",
      "metadata": {
        "colab": {
          "base_uri": "https://localhost:8080/"
        },
        "id": "jh8RBAqfNPcF",
        "outputId": "04f6d657-c0af-4840-907d-7f9827948f6d"
      },
      "source": [
        "multi_10(1)"
      ],
      "execution_count": null,
      "outputs": [
        {
          "output_type": "stream",
          "text": [
            "In wrapper.\n",
            "Do something before the function is executed.\n",
            "Inside the original function.\n",
            "In wrapper.\n",
            "The function is logged after execution.\n"
          ],
          "name": "stdout"
        },
        {
          "output_type": "execute_result",
          "data": {
            "text/plain": [
              "10"
            ]
          },
          "metadata": {
            "tags": []
          },
          "execution_count": 16
        }
      ]
    },
    {
      "cell_type": "code",
      "metadata": {
        "colab": {
          "base_uri": "https://localhost:8080/"
        },
        "id": "3SimghumNTa8",
        "outputId": "41f29dca-37a1-4cfa-a1e1-c078eac10b1a"
      },
      "source": [
        "@decoractor_factory\n",
        "def multi_10(number, times=1):\n",
        "    print(\"Inside the original function.\")\n",
        "    return number * 10 ** times\n",
        "    \n",
        "multi_10(1)"
      ],
      "execution_count": null,
      "outputs": [
        {
          "output_type": "stream",
          "text": [
            "Inside the decoractor_factory.\n",
            "Inside the decoractor.\n"
          ],
          "name": "stdout"
        },
        {
          "output_type": "execute_result",
          "data": {
            "text/plain": [
              "<function __main__.decoractor_factory.<locals>.decorator.<locals>.wrapper>"
            ]
          },
          "metadata": {
            "tags": []
          },
          "execution_count": 17
        }
      ]
    },
    {
      "cell_type": "code",
      "metadata": {
        "colab": {
          "base_uri": "https://localhost:8080/"
        },
        "id": "qW_roAvxNVrd",
        "outputId": "f1d11e64-9b40-4f31-e1c3-3ad47e4afe02"
      },
      "source": [
        "@decoractor_factory()\n",
        "def multi_10(number, times=1):\n",
        "    print(\"Inside the original function.\")\n",
        "    return number * 10 ** times\n",
        "    \n",
        "multi_10(1)"
      ],
      "execution_count": null,
      "outputs": [
        {
          "output_type": "stream",
          "text": [
            "Inside the decoractor_factory.\n",
            "Inside the decoractor.\n",
            "In wrapper.\n",
            "Do something before the function is executed.\n",
            "Inside the original function.\n"
          ],
          "name": "stdout"
        },
        {
          "output_type": "execute_result",
          "data": {
            "text/plain": [
              "10"
            ]
          },
          "metadata": {
            "tags": []
          },
          "execution_count": 18
        }
      ]
    },
    {
      "cell_type": "code",
      "metadata": {
        "id": "5BKcquE7Na6X"
      },
      "source": [
        "from functools import wraps\n",
        "from datetime import datetime, timedelta\n",
        "\n",
        "def debug_timer(exec_time=True):\n",
        "    def decorator(func):\n",
        "        @wraps(func)\n",
        "        def wrapper(*args, **kwargs):\n",
        "            start_time = datetime.now()\n",
        "\n",
        "            value = func(*args, **kwargs)\n",
        "\n",
        "            end_time = datetime.now()\n",
        "            run_time = (end_time - start_time).total_seconds()\n",
        "            \n",
        "            # Print execution time.\n",
        "            if exec_time:\n",
        "                print(f\"{func.__name__} finished in {run_time:.4f} seconds.\")\n",
        "  \n",
        "            # Return the value of the function\n",
        "            return value\n",
        "        # Return the decorated funtion\n",
        "        return wrapper\n",
        "    # Return the decorator\n",
        "    return decorator"
      ],
      "execution_count": null,
      "outputs": []
    },
    {
      "cell_type": "code",
      "metadata": {
        "colab": {
          "base_uri": "https://localhost:8080/"
        },
        "id": "p1eeibJWNfvM",
        "outputId": "0c922553-85d5-43aa-fcc4-d91460a7c1c4"
      },
      "source": [
        "@debug_timer()\n",
        "def multi_10(number, times=1):\n",
        "    print(\"Inside the original function.\")\n",
        "    return number * 10 ** times\n",
        "    \n",
        "multi_10(1)"
      ],
      "execution_count": null,
      "outputs": [
        {
          "output_type": "stream",
          "text": [
            "Inside the original function.\n",
            "multi_10 finished in 0.0001 seconds.\n"
          ],
          "name": "stdout"
        },
        {
          "output_type": "execute_result",
          "data": {
            "text/plain": [
              "10"
            ]
          },
          "metadata": {
            "tags": []
          },
          "execution_count": 20
        }
      ]
    }
  ]
}