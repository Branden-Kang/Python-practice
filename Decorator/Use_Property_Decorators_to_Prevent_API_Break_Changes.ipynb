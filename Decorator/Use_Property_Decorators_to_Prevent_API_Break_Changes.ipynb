{
  "nbformat": 4,
  "nbformat_minor": 0,
  "metadata": {
    "colab": {
      "name": "Use Property Decorators to Prevent API Break Changes.ipynb",
      "provenance": [],
      "authorship_tag": "ABX9TyNL4dB6NblCoD2bsyo15BEq"
    },
    "kernelspec": {
      "name": "python3",
      "display_name": "Python 3"
    }
  },
  "cells": [
    {
      "cell_type": "markdown",
      "metadata": {
        "id": "z7ULbPGhjjZh"
      },
      "source": [
        "[Reference](https://medium.com/better-programming/how-to-use-property-decorators-to-prevent-api-break-changes-ed0e8c8b4949)"
      ]
    },
    {
      "cell_type": "code",
      "metadata": {
        "id": "aR5ltHANjhnR"
      },
      "source": [
        "class ClientV0:\n",
        "    def __init__(self, first_name, last_name, middle_initial='-'):\n",
        "        print(\"Instantiate Client Class V0\")\n",
        "        self.first_name = first_name\n",
        "        self.last_name = last_name\n",
        "        self.middle_initial = middle_initial\n",
        "        self.initials = first_name[0] + middle_initial + last_name[0]"
      ],
      "execution_count": 3,
      "outputs": []
    },
    {
      "cell_type": "code",
      "metadata": {
        "id": "WByStB8ekXJ-"
      },
      "source": [
        "class ClientV1:\n",
        "    def __init__(self, first_name, last_name, middle_initial='-'):\n",
        "        print(\"Instantiate Client Class V1\")\n",
        "        self.first_name = first_name\n",
        "        self.last_name = last_name\n",
        "        self.middle_initial = middle_initial\n",
        "    \n",
        "    def initials(self):\n",
        "        return self.first_name[0] + self.middle_initial + self.last_name[0]"
      ],
      "execution_count": 1,
      "outputs": []
    },
    {
      "cell_type": "code",
      "metadata": {
        "colab": {
          "base_uri": "https://localhost:8080/"
        },
        "id": "me0eOx2OkaEL",
        "outputId": "5b385e6b-c502-4f78-a264-98768603fa75"
      },
      "source": [
        "client = ClientV0(\"Jack\", \"Davis\", \"E\")\n",
        "print(\"Client V0 Initials:\", client.initials)"
      ],
      "execution_count": 4,
      "outputs": [
        {
          "output_type": "stream",
          "text": [
            "Instantiate Client Class V0\n",
            "Client V0 Initials: JED\n"
          ],
          "name": "stdout"
        }
      ]
    },
    {
      "cell_type": "code",
      "metadata": {
        "colab": {
          "base_uri": "https://localhost:8080/"
        },
        "id": "0JlyugK7kb6X",
        "outputId": "9549fdf6-6cb8-4970-d0bd-ab2d6a667756"
      },
      "source": [
        "client = ClientV1(\"Jack\", \"Davis\", \"E\")\n",
        "print(\"Client V1 Initials:\", client.initials)\n",
        "print(\"Updated API Call - Client V1 Initials:\", client.initials())"
      ],
      "execution_count": 5,
      "outputs": [
        {
          "output_type": "stream",
          "text": [
            "Instantiate Client Class V1\n",
            "Client V1 Initials: <bound method ClientV1.initials of <__main__.ClientV1 object at 0x7fce89036ac8>>\n",
            "Updated API Call - Client V1 Initials: JED\n"
          ],
          "name": "stdout"
        }
      ]
    },
    {
      "cell_type": "code",
      "metadata": {
        "id": "HSEpKEr2kft8"
      },
      "source": [
        "class ClientV2:\n",
        "    def __init__(self, first_name, last_name, middle_initial='-'):\n",
        "        print(\"Instantiate Client Class V2\")\n",
        "        self.first_name = first_name\n",
        "        self.last_name = last_name\n",
        "        self.middle_initial = middle_initial\n",
        "\n",
        "    @property\n",
        "    def initials(self):\n",
        "        return self.first_name[0] + self.middle_initial + self.last_name[0]"
      ],
      "execution_count": 6,
      "outputs": []
    },
    {
      "cell_type": "code",
      "metadata": {
        "colab": {
          "base_uri": "https://localhost:8080/"
        },
        "id": "fOcUHObzkh4_",
        "outputId": "b42e0c75-fd21-4965-f7d6-728d3b67d627"
      },
      "source": [
        "client = ClientV0(\"Jack\", \"Davis\", \"E\")\n",
        "print(\"Client V0 Initials:\", client.initials)"
      ],
      "execution_count": 7,
      "outputs": [
        {
          "output_type": "stream",
          "text": [
            "Instantiate Client Class V0\n",
            "Client V0 Initials: JED\n"
          ],
          "name": "stdout"
        }
      ]
    },
    {
      "cell_type": "code",
      "metadata": {
        "colab": {
          "base_uri": "https://localhost:8080/"
        },
        "id": "dPFkztFFkmfl",
        "outputId": "23637a04-74cb-4788-bce9-8066309860fc"
      },
      "source": [
        "client = ClientV2(\"Jack\", \"Davis\", \"E\")\n",
        "print(\"Client V2 Initials:\", client.initials)"
      ],
      "execution_count": 8,
      "outputs": [
        {
          "output_type": "stream",
          "text": [
            "Instantiate Client Class V2\n",
            "Client V2 Initials: JED\n"
          ],
          "name": "stdout"
        }
      ]
    },
    {
      "cell_type": "code",
      "metadata": {
        "colab": {
          "base_uri": "https://localhost:8080/"
        },
        "id": "t3wS234CkoDm",
        "outputId": "a7e6d44a-13a1-434d-b7ac-58ee70f5b52c"
      },
      "source": [
        "client0 = ClientV0(\"Jack\", \"Davis\", \"E\")\n",
        "print(\"Before Changing Initials:\", client0.initials)\n",
        "client0.initials = \"ABC\"\n",
        "print(\"After Changing Initials:\", client0.initials)"
      ],
      "execution_count": 9,
      "outputs": [
        {
          "output_type": "stream",
          "text": [
            "Instantiate Client Class V0\n",
            "Before Changing Initials: JED\n",
            "After Changing Initials: ABC\n"
          ],
          "name": "stdout"
        }
      ]
    },
    {
      "cell_type": "code",
      "metadata": {
        "colab": {
          "base_uri": "https://localhost:8080/",
          "height": 283
        },
        "id": "WIj8lpZLkrV5",
        "outputId": "9af28388-51ec-4623-a8aa-743e91f41096"
      },
      "source": [
        "client2 = ClientV2(\"Jack\", \"Davis\", \"E\")\n",
        "print(\"Before Changing Initials:\", client2.initials)\n",
        "client2.initials = \"ABC\"\n",
        "print(\"After Changing Initials:\", client2.initials)"
      ],
      "execution_count": 10,
      "outputs": [
        {
          "output_type": "stream",
          "text": [
            "Instantiate Client Class V2\n",
            "Before Changing Initials: JED\n"
          ],
          "name": "stdout"
        },
        {
          "output_type": "error",
          "ename": "AttributeError",
          "evalue": "ignored",
          "traceback": [
            "\u001b[0;31m---------------------------------------------------------------------------\u001b[0m",
            "\u001b[0;31mAttributeError\u001b[0m                            Traceback (most recent call last)",
            "\u001b[0;32m<ipython-input-10-bf8b73b25a28>\u001b[0m in \u001b[0;36m<module>\u001b[0;34m()\u001b[0m\n\u001b[1;32m      1\u001b[0m \u001b[0mclient2\u001b[0m \u001b[0;34m=\u001b[0m \u001b[0mClientV2\u001b[0m\u001b[0;34m(\u001b[0m\u001b[0;34m\"Jack\"\u001b[0m\u001b[0;34m,\u001b[0m \u001b[0;34m\"Davis\"\u001b[0m\u001b[0;34m,\u001b[0m \u001b[0;34m\"E\"\u001b[0m\u001b[0;34m)\u001b[0m\u001b[0;34m\u001b[0m\u001b[0;34m\u001b[0m\u001b[0m\n\u001b[1;32m      2\u001b[0m \u001b[0mprint\u001b[0m\u001b[0;34m(\u001b[0m\u001b[0;34m\"Before Changing Initials:\"\u001b[0m\u001b[0;34m,\u001b[0m \u001b[0mclient2\u001b[0m\u001b[0;34m.\u001b[0m\u001b[0minitials\u001b[0m\u001b[0;34m)\u001b[0m\u001b[0;34m\u001b[0m\u001b[0;34m\u001b[0m\u001b[0m\n\u001b[0;32m----> 3\u001b[0;31m \u001b[0mclient2\u001b[0m\u001b[0;34m.\u001b[0m\u001b[0minitials\u001b[0m \u001b[0;34m=\u001b[0m \u001b[0;34m\"ABC\"\u001b[0m\u001b[0;34m\u001b[0m\u001b[0;34m\u001b[0m\u001b[0m\n\u001b[0m\u001b[1;32m      4\u001b[0m \u001b[0mprint\u001b[0m\u001b[0;34m(\u001b[0m\u001b[0;34m\"After Changing Initials:\"\u001b[0m\u001b[0;34m,\u001b[0m \u001b[0mclient2\u001b[0m\u001b[0;34m.\u001b[0m\u001b[0minitials\u001b[0m\u001b[0;34m)\u001b[0m\u001b[0;34m\u001b[0m\u001b[0;34m\u001b[0m\u001b[0m\n",
            "\u001b[0;31mAttributeError\u001b[0m: can't set attribute"
          ]
        }
      ]
    },
    {
      "cell_type": "code",
      "metadata": {
        "colab": {
          "base_uri": "https://localhost:8080/"
        },
        "id": "OqvHY20PkszI",
        "outputId": "016f6d49-88c7-44d7-b16b-f6f595f5d9c6"
      },
      "source": [
        "class ClientV2:\n",
        "    def __init__(self, first_name, last_name, middle_initial='-'):\n",
        "        print(\"Instantiate Client Class V2\")\n",
        "        self.first_name = first_name\n",
        "        self.last_name = last_name\n",
        "        self.middle_initial = middle_initial\n",
        "\n",
        "    @property\n",
        "    def initials(self):\n",
        "        print(\"Alert! Someone is accessing the initials.\")\n",
        "        return self.first_name[0] + self.middle_initial + self.last_name[0]\n",
        "\n",
        "\n",
        "# With V2\n",
        "client = ClientV2(\"Jack\", \"Davis\", \"E\")\n",
        "print(\"Client V2 Initials:\", client.initials)"
      ],
      "execution_count": 11,
      "outputs": [
        {
          "output_type": "stream",
          "text": [
            "Instantiate Client Class V2\n",
            "Alert! Someone is accessing the initials.\n",
            "Client V2 Initials: JED\n"
          ],
          "name": "stdout"
        }
      ]
    }
  ]
}