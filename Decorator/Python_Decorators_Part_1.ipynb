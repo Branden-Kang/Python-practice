{
  "nbformat": 4,
  "nbformat_minor": 0,
  "metadata": {
    "colab": {
      "name": "Python Decorators: Part 1.ipynb",
      "provenance": [],
      "authorship_tag": "ABX9TyOasbjTtpSL4/Gm4P8Ec82P"
    },
    "kernelspec": {
      "name": "python3",
      "display_name": "Python 3"
    }
  },
  "cells": [
    {
      "cell_type": "markdown",
      "metadata": {
        "id": "ZmLhYp6_p2hZ"
      },
      "source": [
        "[Reference](https://medium.com/analytics-vidhya/delving-into-python-decorators-part-1-a95b57d3a7bc)\n",
        "\n",
        "```python\n",
        "@test_decorator\n",
        "def test_function():\n",
        "    print('Hello')\n",
        "```"
      ]
    },
    {
      "cell_type": "code",
      "metadata": {
        "colab": {
          "base_uri": "https://localhost:8080/"
        },
        "id": "jv5YfqVAp1J3",
        "outputId": "2a3a52d2-fea0-4652-eda2-dfea588beb22"
      },
      "source": [
        "def test_decorator(function):\n",
        "    def innerFunc():\n",
        "        print(\"Called before the test_function.\")\n",
        "        function()\n",
        "        print(\"Called after the test_function.\")\n",
        "    return innerFunc()\n",
        "\n",
        "@test_decorator\n",
        "def test_function():\n",
        "    print('test_function was called.')"
      ],
      "execution_count": 2,
      "outputs": [
        {
          "output_type": "stream",
          "text": [
            "Called before the test_function.\n",
            "test_function was called.\n",
            "Called after the test_function.\n"
          ],
          "name": "stdout"
        }
      ]
    },
    {
      "cell_type": "code",
      "metadata": {
        "colab": {
          "base_uri": "https://localhost:8080/"
        },
        "id": "QXgVf6epp9VX",
        "outputId": "74014b9e-4ebc-40be-c754-a43820a10dca"
      },
      "source": [
        "def test_decorator(function):\n",
        "    def innerFunc():\n",
        "        print(\"Called before the test_function.\")\n",
        "        function()\n",
        "        print(\"Called after the test_function.\")\n",
        "        print('')\n",
        "    return innerFunc()\n",
        "\n",
        "@test_decorator\n",
        "def test_function():\n",
        "    print('test_function was called.')\n",
        "\n",
        "@test_decorator\n",
        "def second_function():\n",
        "    print('second_function was called.')"
      ],
      "execution_count": 3,
      "outputs": [
        {
          "output_type": "stream",
          "text": [
            "Called before the test_function.\n",
            "test_function was called.\n",
            "Called after the test_function.\n",
            "\n",
            "Called before the test_function.\n",
            "second_function was called.\n",
            "Called after the test_function.\n",
            "\n"
          ],
          "name": "stdout"
        }
      ]
    }
  ]
}