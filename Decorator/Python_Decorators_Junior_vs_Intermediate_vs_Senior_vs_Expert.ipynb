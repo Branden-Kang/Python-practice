{
  "nbformat": 4,
  "nbformat_minor": 0,
  "metadata": {
    "colab": {
      "provenance": [],
      "authorship_tag": "ABX9TyMbz0d6ve+qVY3yMdDyMz8h"
    },
    "kernelspec": {
      "name": "python3",
      "display_name": "Python 3"
    },
    "language_info": {
      "name": "python"
    }
  },
  "cells": [
    {
      "cell_type": "markdown",
      "source": [
        "[Reference](https://levelup.gitconnected.com/python-decorators-junior-vs-intermediate-vs-senior-vs-expert-62d9ab0c00c3)"
      ],
      "metadata": {
        "id": "I483XjS5sC2M"
      }
    },
    {
      "cell_type": "code",
      "execution_count": 1,
      "metadata": {
        "colab": {
          "base_uri": "https://localhost:8080/"
        },
        "id": "a1cjLHOlrxvI",
        "outputId": "bae7c808-0861-4a38-92eb-7d243a668b84"
      },
      "outputs": [
        {
          "output_type": "stream",
          "name": "stdout",
          "text": [
            "junior_level_function took 2.00222110748291 seconds to execute.\n"
          ]
        }
      ],
      "source": [
        "import time\n",
        "\n",
        "# Junior-level decorator\n",
        "def measure_time(func):\n",
        "    def wrapper(*args, **kwargs):\n",
        "        start_time = time.time()\n",
        "        result = func(*args, **kwargs)\n",
        "        end_time = time.time()\n",
        "        print(f\"{func.__name__} took {end_time - start_time} seconds to execute.\")\n",
        "        return result\n",
        "    return wrapper\n",
        "@measure_time\n",
        "def junior_level_function():\n",
        "    time.sleep(2)\n",
        "junior_level_function()"
      ]
    },
    {
      "cell_type": "code",
      "source": [
        "# Intermediate-level decorator\n",
        "def authenticate(func):\n",
        "    def wrapper(*args, **kwargs):\n",
        "        if is_user_authenticated():\n",
        "            return func(*args, **kwargs)\n",
        "        else:\n",
        "            return \"Access denied\"\n",
        "    return wrapper\n",
        "\n",
        "@authenticate\n",
        "def intermediate_level_function():\n",
        "    return \"Welcome to the secure area!\"\n",
        "def is_user_authenticated():\n",
        "    # Check user authentication logic here\n",
        "    return True\n",
        "print(intermediate_level_function())"
      ],
      "metadata": {
        "colab": {
          "base_uri": "https://localhost:8080/"
        },
        "id": "gn6x1rYdsA3M",
        "outputId": "6fa65228-ae69-4be4-9c5e-4bbd57b4a20d"
      },
      "execution_count": 2,
      "outputs": [
        {
          "output_type": "stream",
          "name": "stdout",
          "text": [
            "Welcome to the secure area!\n"
          ]
        }
      ]
    }
  ]
}
