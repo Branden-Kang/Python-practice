{
  "nbformat": 4,
  "nbformat_minor": 0,
  "metadata": {
    "colab": {
      "name": "@Decorators in Python (Advanced).ipynb",
      "provenance": [],
      "authorship_tag": "ABX9TyOLikYRoCKPMNT5r0ZXo5YC"
    },
    "kernelspec": {
      "name": "python3",
      "display_name": "Python 3"
    },
    "language_info": {
      "name": "python"
    }
  },
  "cells": [
    {
      "cell_type": "markdown",
      "metadata": {
        "id": "dN3AdkeqZa9q"
      },
      "source": [
        "[Reference](https://towardsdatascience.com/decorators-in-python-advanced-8e6d3e509ffe)"
      ]
    },
    {
      "cell_type": "code",
      "metadata": {
        "colab": {
          "base_uri": "https://localhost:8080/",
          "height": 37
        },
        "id": "fu9yaAENY_K3",
        "outputId": "67b469e0-f807-4592-f2b2-c04f6791e331"
      },
      "source": [
        "def func(x):\n",
        "     return x.upper()\n",
        "func(\"roar\")"
      ],
      "execution_count": 4,
      "outputs": [
        {
          "output_type": "execute_result",
          "data": {
            "application/vnd.google.colaboratory.intrinsic+json": {
              "type": "string"
            },
            "text/plain": [
              "'ROAR'"
            ]
          },
          "metadata": {
            "tags": []
          },
          "execution_count": 4
        }
      ]
    },
    {
      "cell_type": "code",
      "metadata": {
        "id": "lMq3Jhz4ZCDJ"
      },
      "source": [
        "new_func = func"
      ],
      "execution_count": 5,
      "outputs": []
    },
    {
      "cell_type": "code",
      "metadata": {
        "colab": {
          "base_uri": "https://localhost:8080/",
          "height": 37
        },
        "id": "aByw6XCLZGLu",
        "outputId": "b9933103-e136-44e1-b09f-8fa295370ede"
      },
      "source": [
        "new_func(\"meow\")"
      ],
      "execution_count": 6,
      "outputs": [
        {
          "output_type": "execute_result",
          "data": {
            "application/vnd.google.colaboratory.intrinsic+json": {
              "type": "string"
            },
            "text/plain": [
              "'MEOW'"
            ]
          },
          "metadata": {
            "tags": []
          },
          "execution_count": 6
        }
      ]
    },
    {
      "cell_type": "code",
      "metadata": {
        "colab": {
          "base_uri": "https://localhost:8080/",
          "height": 37
        },
        "id": "2K0hFnorZ1MO",
        "outputId": "b5e48851-9e01-478b-d5a6-8e0517fd01a9"
      },
      "source": [
        "del func\n",
        "new_func(\"meow \"*2)"
      ],
      "execution_count": 7,
      "outputs": [
        {
          "output_type": "execute_result",
          "data": {
            "application/vnd.google.colaboratory.intrinsic+json": {
              "type": "string"
            },
            "text/plain": [
              "'MEOW MEOW '"
            ]
          },
          "metadata": {
            "tags": []
          },
          "execution_count": 7
        }
      ]
    },
    {
      "cell_type": "code",
      "metadata": {
        "id": "Shg8lHYWZ4WO"
      },
      "source": [
        "def factorial(n):\n",
        "    \"\"\" \n",
        "    Calculates the factorial of n, \n",
        "    n => integer and n >= 0.\n",
        "    \"\"\"\n",
        "    if type(n) == int and n >= 0:\n",
        "        if n == 0:\n",
        "            return 1\n",
        "        else:\n",
        "            return n * factorial(n-1) # Recursive Call\n",
        "    else:\n",
        "        raise TypeError(\"n should be an integer and n >= 0\")"
      ],
      "execution_count": 8,
      "outputs": []
    },
    {
      "cell_type": "code",
      "metadata": {
        "id": "cAjwP18_Z6Ow"
      },
      "source": [
        "def factorial(n):\n",
        "    \"\"\" \n",
        "    Calculates the factorial of n, \n",
        "    n => integer and n >= 0.\n",
        "    \"\"\"\n",
        "    def inner_factorial(n):\n",
        "        if n == 0:\n",
        "            return 1\n",
        "        else:\n",
        "            return n * inner_factorial(n-1)\n",
        "    if type(n) == int and n >=0:\n",
        "        return inner_factorial(n)\n",
        "    else:\n",
        "        raise TypeError(\"n should be an integer and n >= 0\")"
      ],
      "execution_count": 9,
      "outputs": []
    },
    {
      "cell_type": "code",
      "metadata": {
        "colab": {
          "base_uri": "https://localhost:8080/"
        },
        "id": "xIDM7unxZ9F_",
        "outputId": "9d82f717-b259-48df-d792-69130bb58b63"
      },
      "source": [
        "import math\n",
        "def sin_cos(func, var):\n",
        "    print(\"Call this\" + func.__name__ +\"function\")\n",
        "    print(func(var))\n",
        "    \n",
        "sin_cos(math.sin, 60) # -0.3048106211022167\n",
        "sin_cos(math.cos, 45) # 0.5253219888177297"
      ],
      "execution_count": 11,
      "outputs": [
        {
          "output_type": "stream",
          "text": [
            "Call thissinfunction\n",
            "-0.3048106211022167\n",
            "Call thiscosfunction\n",
            "0.5253219888177297\n"
          ],
          "name": "stdout"
        }
      ]
    },
    {
      "cell_type": "code",
      "metadata": {
        "colab": {
          "base_uri": "https://localhost:8080/"
        },
        "id": "NY_Z_uUGZ-bO",
        "outputId": "c075158f-af3c-4ddb-b421-4e32ac97d888"
      },
      "source": [
        "def sound(range):    \n",
        "    \"\"\" \n",
        "    Args: range (Type of sound). (<class 'str'>)\n",
        "    Return: function object of the sound (<class 'function'>)\n",
        "    \"\"\" \n",
        "    def loud(x):\n",
        "        print(x.upper() + '🐯')\n",
        "    def low(x):\n",
        "        print(x.lower() + '🐱')\n",
        "    if range == 'loud':\n",
        "        return loud\n",
        "    else:\n",
        "        return low\n",
        "        \n",
        "tiger = sound(\"loud\") # you can use this as a functions.\n",
        "tiger(\"roar..\") # ROAR..🐯\n",
        "cat = sound(\"low\")\n",
        "cat(\"MEOW..\") # meow..🐱"
      ],
      "execution_count": 12,
      "outputs": [
        {
          "output_type": "stream",
          "text": [
            "ROAR..🐯\n",
            "meow..🐱\n"
          ],
          "name": "stdout"
        }
      ]
    },
    {
      "cell_type": "code",
      "metadata": {
        "colab": {
          "base_uri": "https://localhost:8080/"
        },
        "id": "hRY4LlfnaDEb",
        "outputId": "3275966c-b5f9-4eb1-953c-1c947f0ad999"
      },
      "source": [
        "def polynomial_creator(a, b, c):\n",
        "    \"\"\"\n",
        "    Creates 2nd degree polynomial functions\n",
        "    \"\"\"\n",
        "    def polynomial(x):\n",
        "        return a * x**2 + b * x + c\n",
        "    return polynomial\n",
        "    \n",
        "p1 = polynomial_creator(2, 3, -1)\n",
        "p2 = polynomial_creator(-1, 2, 1)\n",
        "x = -2\n",
        "print(x, p1(x), p2(x)) # -2 1 -7"
      ],
      "execution_count": 14,
      "outputs": [
        {
          "output_type": "stream",
          "text": [
            "-2 1 -7\n"
          ],
          "name": "stdout"
        }
      ]
    },
    {
      "cell_type": "code",
      "metadata": {
        "id": "Yd5IxV4aaHWV"
      },
      "source": [
        "def func_name_printer(func):\n",
        "    def wrapper(*args):\n",
        "        print(\"Function that started running is \" + func.__name__)\n",
        "        func(*args)\n",
        "    return wrapper\n",
        "\n",
        "def add(*args):\n",
        "    tot_sum = 0\n",
        "    for arg in args:\n",
        "        tot_sum += arg\n",
        "    print(\"result = \" + str(tot_sum))\n",
        "\n",
        "sample = func_name_printer(add)"
      ],
      "execution_count": 15,
      "outputs": []
    },
    {
      "cell_type": "code",
      "metadata": {
        "colab": {
          "base_uri": "https://localhost:8080/"
        },
        "id": "9LJNTah1aXHh",
        "outputId": "0a4c0025-3dae-4a7b-e666-864d5d473c02"
      },
      "source": [
        "sample(1,2)"
      ],
      "execution_count": 16,
      "outputs": [
        {
          "output_type": "stream",
          "text": [
            "Function that started running is add\n",
            "result = 3\n"
          ],
          "name": "stdout"
        }
      ]
    },
    {
      "cell_type": "code",
      "metadata": {
        "colab": {
          "base_uri": "https://localhost:8080/"
        },
        "id": "79tMSsSAaXQJ",
        "outputId": "86fdde1c-2ed2-4ead-ff47-d521c69437b6"
      },
      "source": [
        "sample(1,2,3)"
      ],
      "execution_count": 17,
      "outputs": [
        {
          "output_type": "stream",
          "text": [
            "Function that started running is add\n",
            "result = 6\n"
          ],
          "name": "stdout"
        }
      ]
    },
    {
      "cell_type": "code",
      "metadata": {
        "colab": {
          "base_uri": "https://localhost:8080/"
        },
        "id": "HW5skLvjaYGX",
        "outputId": "8c957fa7-04be-451b-f1ef-2858d168c2f1"
      },
      "source": [
        "sample(1,2,3,4)"
      ],
      "execution_count": 18,
      "outputs": [
        {
          "output_type": "stream",
          "text": [
            "Function that started running is add\n",
            "result = 10\n"
          ],
          "name": "stdout"
        }
      ]
    },
    {
      "cell_type": "code",
      "metadata": {
        "colab": {
          "base_uri": "https://localhost:8080/"
        },
        "id": "q5ByopRlaZId",
        "outputId": "eb5d521c-0350-4bea-90bd-fadfc4d70e77"
      },
      "source": [
        "def func_name_printer(func):\n",
        "    def wrapper(*args):\n",
        "        print(\"Function that started running is \" + func.__name__)\n",
        "        func(*args)\n",
        "    return wrapper\n",
        "\n",
        "@func_name_printer\n",
        "def add(*args):\n",
        "    tot_sum = 0\n",
        "    for arg in args:\n",
        "        tot_sum += arg\n",
        "    print(\"result = \" + str(tot_sum))\n",
        "    \n",
        "@func_name_printer\n",
        "def sub(*args):\n",
        "    tot_sub = args[0]-args[1]\n",
        "    print(\"result = \" + str(tot_sub))\n",
        "\n",
        "@func_name_printer\n",
        "def mul(*args):\n",
        "    tot_mul = 1\n",
        "    for arg in args:\n",
        "        tot_mul *= arg\n",
        "    print(\"result = \" + str(tot_mul))   \n",
        "    \n",
        "add(1,2)\n",
        "mul(1,2,3)\n",
        "sub(400, 150)"
      ],
      "execution_count": 19,
      "outputs": [
        {
          "output_type": "stream",
          "text": [
            "Function that started running is add\n",
            "result = 3\n",
            "Function that started running is mul\n",
            "result = 6\n",
            "Function that started running is sub\n",
            "result = 250\n"
          ],
          "name": "stdout"
        }
      ]
    },
    {
      "cell_type": "code",
      "metadata": {
        "colab": {
          "base_uri": "https://localhost:8080/"
        },
        "id": "kQGnbSv7aen8",
        "outputId": "f634449c-7a88-4633-f4bd-a7e0739c4a9e"
      },
      "source": [
        "from functools import wraps\n",
        "\n",
        "def func_name_printer(func):\n",
        "    @wraps(func)\n",
        "    def wrapper(*args):\n",
        "        \"\"\"Prints the Name of the function.\n",
        "        \"\"\"\n",
        "        print(\"Function that started running is \" + func.__name__)\n",
        "        result = func(*args)\n",
        "        return result # Extra Return \n",
        "    return wrapper\n",
        "\n",
        "@func_name_printer\n",
        "def add(*args):\n",
        "    \"\"\"\n",
        "    Args: Tuple of Numbers:\n",
        "    Returns: Sum of the numbers in Tuple\n",
        "    \"\"\"\n",
        "    tot_sum = 0\n",
        "    for arg in args:\n",
        "        tot_sum += arg\n",
        "    return \"result = \" + str(tot_sum)\n",
        "\n",
        "print(add.__name__)\n",
        "print(add.__doc__)\n",
        "print(add.__module__)\n",
        "\n",
        "print(add(5,6,7))"
      ],
      "execution_count": 20,
      "outputs": [
        {
          "output_type": "stream",
          "text": [
            "add\n",
            "\n",
            "    Args: Tuple of Numbers:\n",
            "    Returns: Sum of the numbers in Tuple\n",
            "    \n",
            "__main__\n",
            "Function that started running is add\n",
            "result = 18\n"
          ],
          "name": "stdout"
        }
      ]
    },
    {
      "cell_type": "code",
      "metadata": {
        "colab": {
          "base_uri": "https://localhost:8080/"
        },
        "id": "ga0O2WV2a6lo",
        "outputId": "569d7443-824f-459f-c032-fc5f83464836"
      },
      "source": [
        "from functools import wraps\n",
        "import time\n",
        "\n",
        "def timeit(func):\n",
        "    @wraps(func)\n",
        "    def wrapper(*args, **kwargs):\n",
        "        print(\"Tracking function: \" + func.__name__ + \"()\")\n",
        "        start = time.time()\n",
        "        func(*args, **kwargs)\n",
        "        end = time.time()\n",
        "        print(\"Time taken by the function to run is \" + str(end-start))\n",
        "    return wrapper\n",
        "\n",
        "@timeit\n",
        "def looper(*args, **kwargs):\n",
        "    print(f\"args = {args}\")\n",
        "    print(f\"kwargs = {kwargs}\")\n",
        "    \n",
        "    for loop in kwargs.values(): \n",
        "        for i in range(loop):\n",
        "            return \"Watch Looper If you haven't | rating=9/10\"\n",
        "\n",
        "looper(2, 3, 4, loop1=10, loop2=11, loop3=12, loop4=15)"
      ],
      "execution_count": 21,
      "outputs": [
        {
          "output_type": "stream",
          "text": [
            "Tracking function: looper()\n",
            "args = (2, 3, 4)\n",
            "kwargs = {'loop1': 10, 'loop2': 11, 'loop3': 12, 'loop4': 15}\n",
            "Time taken by the function to run is 0.00019407272338867188\n"
          ],
          "name": "stdout"
        }
      ]
    },
    {
      "cell_type": "code",
      "metadata": {
        "colab": {
          "base_uri": "https://localhost:8080/",
          "height": 266
        },
        "id": "q2hYE9d6a65X",
        "outputId": "acddd371-ae4d-4765-9d6d-5e30f6087e74"
      },
      "source": [
        "@concurrent # We add this for the concurrent function\n",
        "def process_lat_lon(lat, lon, data):\n",
        "  #Does some work which takes a while\n",
        "  return result\n",
        "\n",
        "# And we add this for the function which calls the concurrent function\n",
        "@synchronized\n",
        "def process_data_set(data):\n",
        "  results = defaultdict(dict)\n",
        "  for lat in range(...):\n",
        "    for lon in range(...):\n",
        "      results[lat][lon] = process_lat_lon(lat, lon, data)\n",
        "  return results"
      ],
      "execution_count": 22,
      "outputs": [
        {
          "output_type": "error",
          "ename": "NameError",
          "evalue": "ignored",
          "traceback": [
            "\u001b[0;31m---------------------------------------------------------------------------\u001b[0m",
            "\u001b[0;31mNameError\u001b[0m                                 Traceback (most recent call last)",
            "\u001b[0;32m<ipython-input-22-20aefbebe62c>\u001b[0m in \u001b[0;36m<module>\u001b[0;34m()\u001b[0m\n\u001b[0;32m----> 1\u001b[0;31m \u001b[0;34m@\u001b[0m\u001b[0mconcurrent\u001b[0m \u001b[0;31m# We add this for the concurrent function\u001b[0m\u001b[0;34m\u001b[0m\u001b[0;34m\u001b[0m\u001b[0m\n\u001b[0m\u001b[1;32m      2\u001b[0m \u001b[0;32mdef\u001b[0m \u001b[0mprocess_lat_lon\u001b[0m\u001b[0;34m(\u001b[0m\u001b[0mlat\u001b[0m\u001b[0;34m,\u001b[0m \u001b[0mlon\u001b[0m\u001b[0;34m,\u001b[0m \u001b[0mdata\u001b[0m\u001b[0;34m)\u001b[0m\u001b[0;34m:\u001b[0m\u001b[0;34m\u001b[0m\u001b[0;34m\u001b[0m\u001b[0m\n\u001b[1;32m      3\u001b[0m   \u001b[0;31m#Does some work which takes a while\u001b[0m\u001b[0;34m\u001b[0m\u001b[0;34m\u001b[0m\u001b[0;34m\u001b[0m\u001b[0m\n\u001b[1;32m      4\u001b[0m   \u001b[0;32mreturn\u001b[0m \u001b[0mresult\u001b[0m\u001b[0;34m\u001b[0m\u001b[0;34m\u001b[0m\u001b[0m\n\u001b[1;32m      5\u001b[0m \u001b[0;34m\u001b[0m\u001b[0m\n",
            "\u001b[0;31mNameError\u001b[0m: name 'concurrent' is not defined"
          ]
        }
      ]
    }
  ]
}