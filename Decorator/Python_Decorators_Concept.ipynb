{
  "nbformat": 4,
  "nbformat_minor": 0,
  "metadata": {
    "colab": {
      "name": "Python Decorators Concept.ipynb",
      "provenance": [],
      "authorship_tag": "ABX9TyOExlzNPkMUi22FlN+Hf8Hs"
    },
    "kernelspec": {
      "name": "python3",
      "display_name": "Python 3"
    },
    "language_info": {
      "name": "python"
    }
  },
  "cells": [
    {
      "cell_type": "markdown",
      "metadata": {
        "id": "kJpclbNgWDgt"
      },
      "source": [
        "[Reference](https://python.plainenglish.io/python-decorators-95867a824058)"
      ]
    },
    {
      "cell_type": "code",
      "metadata": {
        "id": "91F6ElquVMs7"
      },
      "source": [
        "def make_pretty(func):\n",
        "    def inner():\n",
        "        print(\"I got decorated!\")\n",
        "        func()\n",
        "    return inner\n",
        "\n",
        "def ordinary():\n",
        "    print(\"I am ordinary\")"
      ],
      "execution_count": 1,
      "outputs": []
    },
    {
      "cell_type": "code",
      "metadata": {
        "colab": {
          "base_uri": "https://localhost:8080/"
        },
        "id": "yrQGmLmoWTfd",
        "outputId": "4c658ddd-3d0f-44f3-a1c4-c80e1e6295e9"
      },
      "source": [
        "ordinary()"
      ],
      "execution_count": 2,
      "outputs": [
        {
          "output_type": "stream",
          "name": "stdout",
          "text": [
            "I am ordinary\n"
          ]
        }
      ]
    },
    {
      "cell_type": "code",
      "metadata": {
        "colab": {
          "base_uri": "https://localhost:8080/"
        },
        "id": "PUqZxRx-WUKS",
        "outputId": "c9920d80-9b2c-4a8f-f5fb-5153f880e3b1"
      },
      "source": [
        "new_ordinary = make_pretty(ordinary)\n",
        "new_ordinary()"
      ],
      "execution_count": 3,
      "outputs": [
        {
          "output_type": "stream",
          "name": "stdout",
          "text": [
            "I got decorated!\n",
            "I am ordinary\n"
          ]
        }
      ]
    },
    {
      "cell_type": "code",
      "metadata": {
        "id": "7OKeNQx5WaTg"
      },
      "source": [
        "@division\n",
        "def divide(a,b):\n",
        "    print(a/b)"
      ],
      "execution_count": 7,
      "outputs": []
    },
    {
      "cell_type": "code",
      "metadata": {
        "id": "mdeiSGJJWfWV"
      },
      "source": [
        "def general_dec(func):\n",
        "    def inner_func(*args, **kwargs):\n",
        "        print(\"This is a general decorator\")\n",
        "        return func(*args, **kwargs)\n",
        "    return inner_func"
      ],
      "execution_count": 9,
      "outputs": []
    }
  ]
}