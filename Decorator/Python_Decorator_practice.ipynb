{
  "nbformat": 4,
  "nbformat_minor": 0,
  "metadata": {
    "colab": {
      "name": "Python Decorator practice.ipynb",
      "provenance": [],
      "authorship_tag": "ABX9TyMI2582YA76tU5j4W7gMQlt"
    },
    "kernelspec": {
      "name": "python3",
      "display_name": "Python 3"
    }
  },
  "cells": [
    {
      "cell_type": "markdown",
      "metadata": {
        "id": "VxyUhXUa6l_v"
      },
      "source": [
        "[Reference](https://codeforests.medium.com/why-you-should-use-python-decorator-e4d203a94c15)"
      ]
    },
    {
      "cell_type": "code",
      "metadata": {
        "id": "09q-SOIT6kOC"
      },
      "source": [
        "def add_log(func):\n",
        "    def log(*args, **kwargs): \n",
        "        for arg in args: \n",
        "            print(f\"{func.__name__} - args: {arg}\") \n",
        "        for key, val in kwargs.items(): \n",
        "            print(f\"{func.__name__} - {key}, {val}\") \n",
        "        \n",
        "        return func(*args, **kwargs) \n",
        "    return log \n",
        "    \n",
        "def send_email(subject, to, **kwargs): \n",
        "    #send email logic\n",
        "    print(f\"email sent to {to} with subject {subject}.\")"
      ],
      "execution_count": 1,
      "outputs": []
    },
    {
      "cell_type": "code",
      "metadata": {
        "colab": {
          "base_uri": "https://localhost:8080/"
        },
        "id": "8ulpB_9H6pTJ",
        "outputId": "0298ab6a-26f4-40e1-c7b5-de134ca70c2d"
      },
      "source": [
        "sender = add_log(send_email) \n",
        "sender(\"hello\", \"contact@codeforests.com\", attachment=\"debug.log\", urgent_flag=True)"
      ],
      "execution_count": 2,
      "outputs": [
        {
          "output_type": "stream",
          "text": [
            "send_email - args: hello\n",
            "send_email - args: contact@codeforests.com\n",
            "send_email - attachment, debug.log\n",
            "send_email - urgent_flag, True\n",
            "email sent to contact@codeforests.com with subject hello.\n"
          ],
          "name": "stdout"
        }
      ]
    },
    {
      "cell_type": "code",
      "metadata": {
        "id": "BpKWSb486u0H"
      },
      "source": [
        "class PermissionDenied(Exception): \n",
        "    pass \n",
        "\n",
        "def permission_required(func): \n",
        "    whitelist = [\"John\", \"Jane\", \"Joe\"] \n",
        "    def wrapper(*args, **kwargs): \n",
        "        user = args[0] \n",
        "        if not user in whitelist: \n",
        "            raise PermissionDenied\n",
        "        func(*args, **kwargs) \n",
        "    \n",
        "    return wrapper"
      ],
      "execution_count": 4,
      "outputs": []
    },
    {
      "cell_type": "code",
      "metadata": {
        "id": "Ka_ckUZJ-nhu"
      },
      "source": [
        "@permission_required \n",
        "def read_file(user, file_path): \n",
        "     with open(file_path, \"r\") as f: \n",
        "         #print out the first line of the file \n",
        "         print(f.readline())"
      ],
      "execution_count": 5,
      "outputs": []
    },
    {
      "cell_type": "code",
      "metadata": {
        "id": "D0PChbUw-rMW"
      },
      "source": [
        "read_file(\"John\", r\"C:\\pwd.txt\")"
      ],
      "execution_count": 6,
      "outputs": []
    },
    {
      "cell_type": "code",
      "metadata": {
        "id": "fIvcJ0p_-ttL"
      },
      "source": [
        "from functools import update_wrapper \n",
        "\n",
        "class PermissionRequired: \n",
        "    def __init__(self, func):        \n",
        "        self._whitelist = [\"John\", \"Jane\", \"Joe\"] \n",
        "        update_wrapper(self, func) \n",
        "        self._func = func     \n",
        "        \n",
        "    def __call__(self, *args, **kwargs): \n",
        "        user = args[0] \n",
        "        if not user in self._whitelist: \n",
        "            raise PermissionDenied \n",
        "        return self._func(*args, **kwargs)"
      ],
      "execution_count": 8,
      "outputs": []
    },
    {
      "cell_type": "code",
      "metadata": {
        "id": "HykyQOjO-xTA"
      },
      "source": [
        "@PermissionRequired \n",
        "def read_file(user, file_path): \n",
        "    with open(file_path, \"r\") as f: \n",
        "    #print out the first line of the file \n",
        "        print(f.readline())"
      ],
      "execution_count": 11,
      "outputs": []
    }
  ]
}