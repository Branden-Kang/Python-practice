{
  "nbformat": 4,
  "nbformat_minor": 0,
  "metadata": {
    "colab": {
      "name": "Decorators In Python.ipynb",
      "provenance": [],
      "authorship_tag": "ABX9TyPO75yTkMp/SBh0kTOZgWuq"
    },
    "kernelspec": {
      "name": "python3",
      "display_name": "Python 3"
    }
  },
  "cells": [
    {
      "cell_type": "markdown",
      "metadata": {
        "id": "JB5n-8byMLIR"
      },
      "source": [
        "[Reference](https://medium.com/python-in-plain-english/decorators-in-python-824bb0f71183)"
      ]
    },
    {
      "cell_type": "code",
      "metadata": {
        "id": "EjOG0eCWMCAg"
      },
      "source": [
        "def decorate(func):\n",
        "    def wrapper():\n",
        "         print(\"Before Hello World\") \n",
        "         func()\n",
        "         print(\"After Hello World\")\n",
        "    return wrapper\n",
        "\n",
        "def hello_world():\n",
        "    print(\"Hello World\")\n",
        "\n",
        "something = decorate(hello_world)"
      ],
      "execution_count": 1,
      "outputs": []
    },
    {
      "cell_type": "code",
      "metadata": {
        "colab": {
          "base_uri": "https://localhost:8080/"
        },
        "id": "p6Xn90RtMTLm",
        "outputId": "5b3fedfb-35f7-46ed-ada0-c3cd657df19d"
      },
      "source": [
        "def decorate(func):\n",
        "   def wrapper():\n",
        "       print(\"Before Hello World\")\n",
        "       func()\n",
        "       print(\"After Hello World\")\n",
        "   return wrapper\n",
        "\n",
        "@decorate\n",
        "def hello_world():\n",
        "     print(\"Hello World\")\n",
        "\n",
        "hello_world()"
      ],
      "execution_count": 2,
      "outputs": [
        {
          "output_type": "stream",
          "text": [
            "Before Hello World\n",
            "Hello World\n",
            "After Hello World\n"
          ],
          "name": "stdout"
        }
      ]
    },
    {
      "cell_type": "code",
      "metadata": {
        "colab": {
          "base_uri": "https://localhost:8080/"
        },
        "id": "Ri2w6EPmMWP2",
        "outputId": "af17af33-00d1-4aa7-d9ea-8eba777eda26"
      },
      "source": [
        "def validate(func):\n",
        "   def wrapper(*args):\n",
        "      if args[0] < args[1]:\n",
        "   \t   print(\"Warning: a is less than b\")\n",
        "   \t   func(*args)\n",
        "   return wrapper\n",
        "\n",
        "@validate\n",
        "def hello_world(int_a, int_b):\n",
        "   print(\"Hello World\")\n",
        "\n",
        "hello_world(1, 2)"
      ],
      "execution_count": 5,
      "outputs": [
        {
          "output_type": "stream",
          "text": [
            "Warning: a is less than b\n",
            "Hello World\n"
          ],
          "name": "stdout"
        }
      ]
    },
    {
      "cell_type": "code",
      "metadata": {
        "colab": {
          "base_uri": "https://localhost:8080/"
        },
        "id": "J15KWt8cMYpx",
        "outputId": "3820966b-416e-4a3a-d55a-9754dd053e9d"
      },
      "source": [
        "def decorate(func):\n",
        "    def wrapper():\n",
        "        print(\"Before Hello World\")\n",
        "        func()\n",
        "        print(\"After Hello World\")\n",
        "    return wrapper\n",
        "\n",
        "def validate(func):\n",
        "    def wrapper():\n",
        "        print(\"Validating User\")\n",
        "        func()\n",
        "    return wrapper\n",
        "\n",
        "@decorate\n",
        "@validate\n",
        "def hello_world():\n",
        "     print(\"Hello World\")\n",
        "\n",
        "hello_world()"
      ],
      "execution_count": 9,
      "outputs": [
        {
          "output_type": "stream",
          "text": [
            "Before Hello World\n",
            "Validating User\n",
            "Hello World\n",
            "After Hello World\n"
          ],
          "name": "stdout"
        }
      ]
    }
  ]
}