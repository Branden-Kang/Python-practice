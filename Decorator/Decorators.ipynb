{
  "nbformat": 4,
  "nbformat_minor": 0,
  "metadata": {
    "colab": {
      "name": "Decorators.ipynb",
      "provenance": [],
      "authorship_tag": "ABX9TyPPdUdwPvDWWOE7efn1+/B0"
    },
    "kernelspec": {
      "name": "python3",
      "display_name": "Python 3"
    }
  },
  "cells": [
    {
      "cell_type": "markdown",
      "metadata": {
        "id": "XtTeyRISURgl"
      },
      "source": [
        "[Reference](https://www.learnpython.org/)"
      ]
    },
    {
      "cell_type": "code",
      "metadata": {
        "id": "B_zna5mJTNyk"
      },
      "source": [
        "def repeater(old_function):\n",
        "    def new_function(*args, **kwds): # See learnpython.org/en/Multiple%20Function%20Arguments for how *args and **kwds works\n",
        "        old_function(*args, **kwds) # we run the old function\n",
        "        old_function(*args, **kwds) # we do it twice\n",
        "    return new_function # we have to return the new_function, or it wouldn't reassign it to the value"
      ],
      "execution_count": 1,
      "outputs": []
    },
    {
      "cell_type": "code",
      "metadata": {
        "id": "cMDmF5plTXuT"
      },
      "source": [
        "@repeater\n",
        "def multiply(num1, num2):\n",
        "    print(num1 * num2)"
      ],
      "execution_count": 2,
      "outputs": []
    },
    {
      "cell_type": "code",
      "metadata": {
        "id": "jNFPkwgzTZJE"
      },
      "source": [
        "def double_out(old_function):\n",
        "    def new_function(*args, **kwds):\n",
        "        return 2 * old_function(*args, **kwds) # modify the return value\n",
        "    return new_function"
      ],
      "execution_count": 3,
      "outputs": []
    },
    {
      "cell_type": "code",
      "metadata": {
        "id": "y-aC9f_cTxZF"
      },
      "source": [
        "def double_Ii(old_function):\n",
        "    def new_function(arg): # only works if the old function has one argument\n",
        "        return old_function(arg * 2) # modify the argument passed\n",
        "    return new_function"
      ],
      "execution_count": 4,
      "outputs": []
    },
    {
      "cell_type": "code",
      "metadata": {
        "id": "cB0A4OkNT0_J"
      },
      "source": [
        "def check(old_function):\n",
        "    def new_function(arg):\n",
        "        if arg < 0: raise (ValueError, \"Negative Argument\") # This causes an error, which is better than it doing the wrong thing\n",
        "        old_function(arg)\n",
        "    return new_function"
      ],
      "execution_count": 5,
      "outputs": []
    },
    {
      "cell_type": "code",
      "metadata": {
        "id": "jpAfwBHpT27p",
        "outputId": "fadf62ef-9c1a-4d0a-ecf6-2740251b2041",
        "colab": {
          "base_uri": "https://localhost:8080/",
          "height": 34
        }
      },
      "source": [
        "def multiply(multiplier):\n",
        "    def multiply_generator(old_function):\n",
        "        def new_function(*args, **kwds):\n",
        "            return multiplier * old_function(*args, **kwds)\n",
        "        return new_function\n",
        "    return multiply_generator # it returns the new generator\n",
        "\n",
        "# Usage\n",
        "@multiply(3) # multiply is not a generator, but multiply(3) is\n",
        "def return_num(num):\n",
        "    return num\n",
        "\n",
        "# Now return_num is decorated and reassigned into itself\n",
        "return_num(5) # should return 15"
      ],
      "execution_count": 6,
      "outputs": [
        {
          "output_type": "execute_result",
          "data": {
            "text/plain": [
              "15"
            ]
          },
          "metadata": {
            "tags": []
          },
          "execution_count": 6
        }
      ]
    }
  ]
}