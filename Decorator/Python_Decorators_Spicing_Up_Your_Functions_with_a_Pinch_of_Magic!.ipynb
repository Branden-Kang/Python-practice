{
  "nbformat": 4,
  "nbformat_minor": 0,
  "metadata": {
    "colab": {
      "provenance": [],
      "authorship_tag": "ABX9TyOjKrTTVSrBM83ofxl4FRHj"
    },
    "kernelspec": {
      "name": "python3",
      "display_name": "Python 3"
    },
    "language_info": {
      "name": "python"
    }
  },
  "cells": [
    {
      "cell_type": "markdown",
      "source": [
        "[Reference](https://python.plainenglish.io/python-decorators-spicing-up-your-functions-with-a-pinch-of-magic-d8ee9bc28b62)"
      ],
      "metadata": {
        "id": "xr3CazNyHRoA"
      }
    },
    {
      "cell_type": "code",
      "execution_count": 1,
      "metadata": {
        "id": "VFG4WfmDGEsI"
      },
      "outputs": [],
      "source": [
        "# @my_decorator\n",
        "# def my_function():\n",
        "#  # Your function code here"
      ]
    },
    {
      "cell_type": "code",
      "source": [
        "def my_decorator(func):\n",
        " def wrapper():\n",
        "  print(\"«Enhanced!»\")\n",
        "  func()\n",
        " return wrapper\n",
        "\n",
        "@my_decorator\n",
        "def ordinary_function():\n",
        " print(\"I'm just an ordinary function.»\")\n",
        "\n",
        "ordinary_function()"
      ],
      "metadata": {
        "colab": {
          "base_uri": "https://localhost:8080/"
        },
        "id": "e8kHKkQLHUwa",
        "outputId": "968a988a-9052-4b6c-b5ef-c97ff112a246"
      },
      "execution_count": 3,
      "outputs": [
        {
          "output_type": "stream",
          "name": "stdout",
          "text": [
            "«Enhanced!»\n",
            "I'm just an ordinary function.»\n"
          ]
        }
      ]
    },
    {
      "cell_type": "code",
      "source": [
        "def flavor_decorator(flavor):\n",
        " def decorator(func):\n",
        "  def wrapper():\n",
        "   print(f\"»Enhanced with {flavor} flavor!»\")\n",
        "   func()\n",
        "  return wrapper\n",
        " return decorator\n",
        "\n",
        "@flavor_decorator(\"«chocolate»\")\n",
        "def dessert():\n",
        " print(\"«I'm a delicious dessert.»\")\n",
        "\n",
        "@flavor_decorator(\"«vanilla»\")\n",
        "def ice_cream():\n",
        " print(\"«I'm a cool ice cream.»\")\n",
        "\n",
        "dessert()\n",
        "ice_cream()"
      ],
      "metadata": {
        "colab": {
          "base_uri": "https://localhost:8080/"
        },
        "id": "Gdv8XKTWHXVL",
        "outputId": "f08f6069-f102-4d14-c359-c38b20615947"
      },
      "execution_count": 5,
      "outputs": [
        {
          "output_type": "stream",
          "name": "stdout",
          "text": [
            "»Enhanced with «chocolate» flavor!»\n",
            "«I'm a delicious dessert.»\n",
            "»Enhanced with «vanilla» flavor!»\n",
            "«I'm a cool ice cream.»\n"
          ]
        }
      ]
    }
  ]
}
