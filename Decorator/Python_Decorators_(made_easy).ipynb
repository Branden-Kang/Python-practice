{
  "nbformat": 4,
  "nbformat_minor": 0,
  "metadata": {
    "colab": {
      "provenance": [],
      "authorship_tag": "ABX9TyNeFvZ3CU2vQXrwnaqDQwa8"
    },
    "kernelspec": {
      "name": "python3",
      "display_name": "Python 3"
    },
    "language_info": {
      "name": "python"
    }
  },
  "cells": [
    {
      "cell_type": "markdown",
      "source": [
        "[Reference](https://medium.com/@coder033/python-decorator-made-easy-d6be1b7240a3)"
      ],
      "metadata": {
        "id": "77MtZuEgV181"
      }
    },
    {
      "cell_type": "code",
      "execution_count": 1,
      "metadata": {
        "colab": {
          "base_uri": "https://localhost:8080/"
        },
        "id": "iMuYvpdHVqAD",
        "outputId": "36a3db75-4c16-4469-b9cd-c95acac62f7d"
      },
      "outputs": [
        {
          "output_type": "stream",
          "name": "stdout",
          "text": [
            "Hello World\n"
          ]
        }
      ],
      "source": [
        "# Normal function\n",
        "def hello():\n",
        "    print(\"Hello World\")\n",
        "hello()"
      ]
    },
    {
      "cell_type": "code",
      "source": [
        "#Example 1\n",
        "def name():\n",
        "   print(\"Coder033\")\n",
        "\n",
        "def op(func):\n",
        "   print(\"Welcome to\")\n",
        "   func()\n",
        "   print(\"This is simple decorator\")\n",
        "op(name)"
      ],
      "metadata": {
        "colab": {
          "base_uri": "https://localhost:8080/"
        },
        "id": "-Mf6HpS_V5s0",
        "outputId": "89f389cd-da5f-4b48-92fa-bb0812b1e714"
      },
      "execution_count": 2,
      "outputs": [
        {
          "output_type": "stream",
          "name": "stdout",
          "text": [
            "Welcome to\n",
            "Coder033\n",
            "This is simple decorator\n"
          ]
        }
      ]
    },
    {
      "cell_type": "code",
      "source": [
        "#Example 2\n",
        "def name1():\n",
        "    print(\"Coder033\")\n",
        "def op1(func):\n",
        "    def hello1():\n",
        "        print(\"Welcome to\")\n",
        "        func()\n",
        "        print(\"This is return decorator\")\n",
        "        #returning function\n",
        "        return hello1\n",
        "   \n",
        "call=op1(name1())\n",
        "call"
      ],
      "metadata": {
        "colab": {
          "base_uri": "https://localhost:8080/"
        },
        "id": "GMtAV0mWV9IJ",
        "outputId": "17d3a640-5b77-45bc-be42-54722083b60b"
      },
      "execution_count": 12,
      "outputs": [
        {
          "output_type": "stream",
          "name": "stdout",
          "text": [
            "Coder033\n"
          ]
        }
      ]
    },
    {
      "cell_type": "code",
      "source": [
        "#Example 3\n",
        "def op2(func):\n",
        "   def hello2():\n",
        "      print('Welcome to')\n",
        "      func()\n",
        "      print('Alternate installation of decorator')\n",
        "   return hello2\n",
        "@op2\n",
        "def name2(): \n",
        "   print('Coder033')\n",
        "name2()    "
      ],
      "metadata": {
        "colab": {
          "base_uri": "https://localhost:8080/"
        },
        "id": "5BzQy9u9WGCy",
        "outputId": "d21bac23-f67e-45bb-e119-2a0ed4837867"
      },
      "execution_count": 8,
      "outputs": [
        {
          "output_type": "stream",
          "name": "stdout",
          "text": [
            "Welcome to\n",
            "Coder033\n",
            "Alternate installation of decorator\n"
          ]
        }
      ]
    },
    {
      "cell_type": "code",
      "source": [
        "#Example 4\n",
        "def op3(func):\n",
        "   def hello3(arg):\n",
        "      print(\"Welcome\",arg)\n",
        "      func(arg)\n",
        "   return hello3\n",
        "@op3\n",
        "def name3(arg):\n",
        "   print(\"Hello\",arg)\n",
        "name3(\"Naren\")"
      ],
      "metadata": {
        "colab": {
          "base_uri": "https://localhost:8080/"
        },
        "id": "0ManNDNZWdnQ",
        "outputId": "ab60c686-6167-4679-a99b-38d0a6f7e582"
      },
      "execution_count": 10,
      "outputs": [
        {
          "output_type": "stream",
          "name": "stdout",
          "text": [
            "Welcome Naren\n",
            "Hello Naren\n"
          ]
        }
      ]
    },
    {
      "cell_type": "code",
      "source": [
        "#Example5\n",
        "def one(func):\n",
        "   def a():\n",
        "      print(\"From one\")\n",
        "      func()\n",
        "      print(\"End\")\n",
        "      return a\n",
        "      \n",
        "def two(func):\n",
        "   def b():\n",
        "      print(\"From two\")\n",
        "      func()\n",
        "      return b\n",
        "@one\n",
        "@two\n",
        "def three():\n",
        "   print(\"From three\")\n",
        "three()"
      ],
      "metadata": {
        "id": "q0VW4HU_WrJV"
      },
      "execution_count": 14,
      "outputs": []
    }
  ]
}
