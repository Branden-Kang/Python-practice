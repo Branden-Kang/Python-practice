{
  "nbformat": 4,
  "nbformat_minor": 0,
  "metadata": {
    "colab": {
      "name": "A Simple Guide to Inplace Operations in Pandas.ipynb",
      "provenance": [],
      "collapsed_sections": [],
      "authorship_tag": "ABX9TyM2wRSDOP3/9mXMLZ14T3gz"
    },
    "kernelspec": {
      "name": "python3",
      "display_name": "Python 3"
    },
    "language_info": {
      "name": "python"
    }
  },
  "cells": [
    {
      "cell_type": "markdown",
      "source": [
        "[Reference](https://towardsdatascience.com/a-simple-guide-to-inplace-operations-in-pandas-7a1d97ecce24)"
      ],
      "metadata": {
        "id": "TcmF_hWrXvom"
      }
    },
    {
      "cell_type": "code",
      "source": [
        "import pandas as pd\n",
        "from time import time"
      ],
      "metadata": {
        "id": "prAY1AYiYM7C"
      },
      "execution_count": 3,
      "outputs": []
    },
    {
      "cell_type": "code",
      "execution_count": 4,
      "metadata": {
        "colab": {
          "base_uri": "https://localhost:8080/"
        },
        "id": "uVOLpis9Xu__",
        "outputId": "b63f652b-0211-42cc-d5c5-b6da5e84198f"
      },
      "outputs": [
        {
          "output_type": "stream",
          "name": "stdout",
          "text": [
            "Avg Standard Run time : 0.00010802364349365234\n",
            "Avg Inplace  Run time : 2.2778749465942382e-05\n"
          ]
        }
      ],
      "source": [
        "avg_time_standard, avg_time_inplace = 0, 0\n",
        "runs = 1000\n",
        "\n",
        "for i in range(runs):\n",
        "\n",
        "    df = pd.DataFrame([[1,\"A\",1.3], [2, \"B\", 2.9], [6, \"C\", 5.6]], \n",
        "                      columns = [\"Col1\", \"Col2\", \"Col3\"])\n",
        "    \n",
        "    ## Standard Run-time\n",
        "    start = time() ## start clock\n",
        "    df1 = df.reset_index(drop = True) ## Standard Assignment\n",
        "    end = time() ## end clock\n",
        "    avg_time_standard += end-start\n",
        "\n",
        "    ## Inplace Run-time\n",
        "    start = time() ## start clock\n",
        "    df.reset_index(drop = True, inplace = True) ## Inplace Assignment\n",
        "    end = time() ## end clock\n",
        "    avg_time_inplace += end-start\n",
        "    \n",
        "print(\"Avg Standard Run time :\", avg_time_standard/runs)\n",
        "print(\"Avg Inplace  Run time :\", avg_time_inplace/runs)"
      ]
    }
  ]
}