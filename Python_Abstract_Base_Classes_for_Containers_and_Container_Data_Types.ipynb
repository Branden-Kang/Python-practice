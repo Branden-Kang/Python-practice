{
  "nbformat": 4,
  "nbformat_minor": 0,
  "metadata": {
    "colab": {
      "name": "Python Abstract Base Classes for Containers and Container Data Types.ipynb",
      "provenance": [],
      "authorship_tag": "ABX9TyMZ7Dj9CDjbgGK03aTBglap"
    },
    "kernelspec": {
      "name": "python3",
      "display_name": "Python 3"
    },
    "language_info": {
      "name": "python"
    }
  },
  "cells": [
    {
      "cell_type": "markdown",
      "metadata": {
        "id": "sVDMEviyNwMh"
      },
      "source": [
        "[Reference](https://elfi-y.medium.com/python-abstract-base-classes-for-containers-and-container-data-types-cc132cc5dcd8)"
      ]
    },
    {
      "cell_type": "code",
      "metadata": {
        "colab": {
          "base_uri": "https://localhost:8080/"
        },
        "id": "BzKiZI3TNp-N",
        "outputId": "d8309db1-c330-4763-83ae-40851111331f"
      },
      "source": [
        "from collections import Counter\n",
        "\n",
        "print(Counter(['A','A','A','B','B','C']))\n",
        "print(Counter({'A':3, 'B':2, 'C':1}))\n",
        "print(Counter(A=3, B=2, C=1))"
      ],
      "execution_count": 1,
      "outputs": [
        {
          "output_type": "stream",
          "text": [
            "Counter({'A': 3, 'B': 2, 'C': 1})\n",
            "Counter({'A': 3, 'B': 2, 'C': 1})\n",
            "Counter({'A': 3, 'B': 2, 'C': 1})\n"
          ],
          "name": "stdout"
        }
      ]
    },
    {
      "cell_type": "code",
      "metadata": {
        "colab": {
          "base_uri": "https://localhost:8080/"
        },
        "id": "TIhyyJxZN5Nj",
        "outputId": "4064702b-e7a6-458a-d470-7ad86aec060b"
      },
      "source": [
        "from collections import OrderedDict\n",
        "letters = OrderedDict([(\"B\", 2), (\"A\", 3), (\"C\", 1)])\n",
        "for key, value in letters.items():\n",
        "    print(key, value)"
      ],
      "execution_count": 2,
      "outputs": [
        {
          "output_type": "stream",
          "text": [
            "B 2\n",
            "A 3\n",
            "C 1\n"
          ],
          "name": "stdout"
        }
      ]
    },
    {
      "cell_type": "code",
      "metadata": {
        "colab": {
          "base_uri": "https://localhost:8080/"
        },
        "id": "Z203kzFvN7FR",
        "outputId": "7628fbf0-5dfe-4aac-938a-47e3ced764fa"
      },
      "source": [
        "from collections import defaultdict\n",
        "\n",
        "example_dict = defaultdict(object)\n",
        "print(example_dict['tea'])\n",
        "\n",
        "#object at 0x9g231a23u3018\n",
        "\n",
        "def get_default():\n",
        "    return 'value not exist'\n",
        "    \n",
        "example_dict = defaultdict(get_default)\n",
        "print(example_dict['coffee'])"
      ],
      "execution_count": 3,
      "outputs": [
        {
          "output_type": "stream",
          "text": [
            "<object object at 0x7fd1c658bef0>\n",
            "value not exist\n"
          ],
          "name": "stdout"
        }
      ]
    },
    {
      "cell_type": "code",
      "metadata": {
        "id": "Lb0wTm16OBqT"
      },
      "source": [
        "from collections import ChainMap\n",
        "\n",
        "dic1={'red':5,'black':1,'white':2}\n",
        "dic2={'B': 2, 'A': 3, 'C': 1}\n",
        "my_chain = ChainMap(dic1,dic2)\n",
        "my_chain.maps\n",
        "\n",
        "(list(my_chain.keys()))\n",
        "(list(my_chain.values()))\n",
        "\n",
        "dict3={'F':10,'D':12} \n",
        "new_chain=my_chain.new_child(dict3)"
      ],
      "execution_count": 4,
      "outputs": []
    },
    {
      "cell_type": "code",
      "metadata": {
        "colab": {
          "base_uri": "https://localhost:8080/"
        },
        "id": "zSWX6sTCOKuR",
        "outputId": "b0eedb33-9a9f-4488-8d7c-c73908a2da67"
      },
      "source": [
        "from collections import namedtuple\n",
        "\n",
        "Tea = namedtuple('Tea', 'type price temp')\n",
        "white_tea = Tea(type=\"silver needle\", price=30, temp=98)\n",
        "\n",
        "white_tea"
      ],
      "execution_count": 7,
      "outputs": [
        {
          "output_type": "execute_result",
          "data": {
            "text/plain": [
              "Tea(type='silver needle', price=30, temp=98)"
            ]
          },
          "metadata": {
            "tags": []
          },
          "execution_count": 7
        }
      ]
    },
    {
      "cell_type": "code",
      "metadata": {
        "colab": {
          "base_uri": "https://localhost:8080/",
          "height": 37
        },
        "id": "0-XBdcNYOSOe",
        "outputId": "912b4049-e38e-467e-d7aa-1408ff2ca0d8"
      },
      "source": [
        "white_tea.type"
      ],
      "execution_count": 9,
      "outputs": [
        {
          "output_type": "execute_result",
          "data": {
            "application/vnd.google.colaboratory.intrinsic+json": {
              "type": "string"
            },
            "text/plain": [
              "'silver needle'"
            ]
          },
          "metadata": {
            "tags": []
          },
          "execution_count": 9
        }
      ]
    },
    {
      "cell_type": "code",
      "metadata": {
        "colab": {
          "base_uri": "https://localhost:8080/"
        },
        "id": "4d4Czi8qOejk",
        "outputId": "e7da7c40-7788-43d2-bcd0-7d37a773f4c8"
      },
      "source": [
        "white_tea = Tea(type=\"silver needle\", price=30, temp=98)\n",
        "white_tea._replace(price=35)"
      ],
      "execution_count": 10,
      "outputs": [
        {
          "output_type": "execute_result",
          "data": {
            "text/plain": [
              "Tea(type='silver needle', price=35, temp=98)"
            ]
          },
          "metadata": {
            "tags": []
          },
          "execution_count": 10
        }
      ]
    },
    {
      "cell_type": "code",
      "metadata": {
        "colab": {
          "base_uri": "https://localhost:8080/"
        },
        "id": "pUYuJNVjOiTw",
        "outputId": "cab855aa-bf60-4453-8f4f-5efdc49e28f7"
      },
      "source": [
        "# convert namedtuple to dictionary \n",
        "\n",
        "Tea = namedtuple('Tea', 'type price temp')\n",
        "white_tea = Tea(type=\"silver needle\", price=30, temp=98)\n",
        "white_tea._asdict()\n",
        "\n",
        "# convert dictionary to namedtuple\n",
        "dict_tea=dict({\"name\":\"silver needle\", \"price\":30, \"temp\":98})\n",
        "white_tea = namedtuple('tea',['name','price','temp'])\n",
        "white_tea(**dict_tea)"
      ],
      "execution_count": 13,
      "outputs": [
        {
          "output_type": "execute_result",
          "data": {
            "text/plain": [
              "tea(name='silver needle', price=30, temp=98)"
            ]
          },
          "metadata": {
            "tags": []
          },
          "execution_count": 13
        }
      ]
    },
    {
      "cell_type": "code",
      "metadata": {
        "colab": {
          "base_uri": "https://localhost:8080/"
        },
        "id": "2EjaaSu1Ooh8",
        "outputId": "ec390ac5-217e-4593-ad6c-c72dd2aed3f8"
      },
      "source": [
        "from collections import deque\n",
        "d = deque([1,2,3,4])\n",
        "d.append(5) #[1,2,3,4,5]\n",
        "d.appendleft(6) #[6,1,2,3,4,5]\n",
        "d.pop() #[6,1,2,3,4]\n",
        "d.popleft() #[1,2,3,4]"
      ],
      "execution_count": 14,
      "outputs": [
        {
          "output_type": "execute_result",
          "data": {
            "text/plain": [
              "6"
            ]
          },
          "metadata": {
            "tags": []
          },
          "execution_count": 14
        }
      ]
    },
    {
      "cell_type": "code",
      "metadata": {
        "id": "7xzJvytiPPru"
      },
      "source": [
        "from collections import UserDict \n",
        "\n",
        "class my_tea(UserDict):       \n",
        "    def pop(self, s = None):\n",
        "        raise Exception(\"Not possible to throw the tea\")\n",
        "        \n",
        "custom_tea = UserDict(my_tea) \n",
        "white_tea = custom_tea({\"name\":\"silver needle\", \"price\":30, \"temp\":98})\n",
        "\n",
        "white_tea.pop()"
      ],
      "execution_count": 18,
      "outputs": []
    }
  ]
}