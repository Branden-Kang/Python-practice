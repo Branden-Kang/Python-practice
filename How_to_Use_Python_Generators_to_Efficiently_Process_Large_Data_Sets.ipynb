{
  "nbformat": 4,
  "nbformat_minor": 0,
  "metadata": {
    "colab": {
      "name": "How to Use Python Generators to Efficiently Process Large Data Sets.ipynb",
      "provenance": [],
      "authorship_tag": "ABX9TyN3leMXFyOJhiimaHJtP9tt"
    },
    "kernelspec": {
      "name": "python3",
      "display_name": "Python 3"
    },
    "language_info": {
      "name": "python"
    }
  },
  "cells": [
    {
      "cell_type": "markdown",
      "metadata": {
        "id": "W9lBJMrAlx3U"
      },
      "source": [
        "[Reference](https://medium.com/programming-for-beginners/how-to-use-python-generators-to-efficiently-process-large-data-sets-38e18bd8ae29)"
      ]
    },
    {
      "cell_type": "code",
      "metadata": {
        "id": "uu3d27iclwrc"
      },
      "source": [
        "def file_reader(file_path):\n",
        "    rows = []\n",
        "    for row in open(file_path, \"r\"):\n",
        "        rows.append(row)\n",
        "    return rows\n",
        "  \n",
        "def print_row_count():\n",
        "    count = 0\n",
        "    for row in file_reader(\"large_file\"):\n",
        "        count += 1\n",
        "    print(f\"Total count is {count}\")\n",
        "\n",
        "print_row_count()"
      ],
      "execution_count": 3,
      "outputs": []
    },
    {
      "cell_type": "code",
      "metadata": {
        "id": "2id6SxqCl1An"
      },
      "source": [
        "def gen_file_reader(file_path):\n",
        "    for row in open(file_path, \"r\"):\n",
        "         yield row\n",
        "        \n",
        "def gen_print_row_count():\n",
        "    count = 0\n",
        "    for row in gen_file_reader(\"large_file\"):\n",
        "        count += 1\n",
        "    print(f\"Total count is {count}\")\n",
        "    \n",
        "gen_print_row_count()"
      ],
      "execution_count": 4,
      "outputs": []
    }
  ]
}