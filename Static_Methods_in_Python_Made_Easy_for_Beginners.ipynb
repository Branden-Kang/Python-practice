{
  "nbformat": 4,
  "nbformat_minor": 0,
  "metadata": {
    "colab": {
      "provenance": [],
      "authorship_tag": "ABX9TyO/Qws7e/s+AV79n+db37JR"
    },
    "kernelspec": {
      "name": "python3",
      "display_name": "Python 3"
    },
    "language_info": {
      "name": "python"
    }
  },
  "cells": [
    {
      "cell_type": "markdown",
      "source": [
        "[Reference](https://medium.com/@aliyannshaikhh/d16018a2d09e)"
      ],
      "metadata": {
        "id": "4tCPAqowyllu"
      }
    },
    {
      "cell_type": "markdown",
      "source": [
        "1. Using the staticmethod() Function"
      ],
      "metadata": {
        "id": "m4YMWiqHyp0V"
      }
    },
    {
      "cell_type": "code",
      "execution_count": 2,
      "metadata": {
        "colab": {
          "base_uri": "https://localhost:8080/"
        },
        "id": "6hyqYkq_yiA_",
        "outputId": "d08aa771-3a67-4b87-80f4-324d321418c9"
      },
      "outputs": [
        {
          "output_type": "stream",
          "name": "stdout",
          "text": [
            "8\n"
          ]
        }
      ],
      "source": [
        "class Calculator:\n",
        "    def add(x, y):\n",
        "        return x + y\n",
        "\n",
        "# Convert it into a static method\n",
        "Calculator.add = staticmethod(Calculator.add)\n",
        "\n",
        "# Call it without creating an object\n",
        "print(Calculator.add(5, 3))  # Output: 8"
      ]
    },
    {
      "cell_type": "markdown",
      "source": [
        "# 2. Using the @staticmethod Decorator"
      ],
      "metadata": {
        "id": "2VbHAS4Byy_s"
      }
    },
    {
      "cell_type": "code",
      "source": [
        "class Calculator:\n",
        "    @staticmethod\n",
        "    def add(x, y):\n",
        "        return x + y\n",
        "\n",
        "print(Calculator.add(5, 3))  # Output: 8"
      ],
      "metadata": {
        "colab": {
          "base_uri": "https://localhost:8080/"
        },
        "id": "0XOa6xpGytys",
        "outputId": "9aca6f04-a267-4bee-9942-a8b931ace8a3"
      },
      "execution_count": 3,
      "outputs": [
        {
          "output_type": "stream",
          "name": "stdout",
          "text": [
            "8\n"
          ]
        }
      ]
    }
  ]
}