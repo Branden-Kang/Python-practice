{
  "nbformat": 4,
  "nbformat_minor": 0,
  "metadata": {
    "colab": {
      "name": "Qt 6 Applications In Python With PySide6.ipynb",
      "provenance": [],
      "authorship_tag": "ABX9TyMXzpMQPw6Fulfb78e1c26Z"
    },
    "kernelspec": {
      "name": "python3",
      "display_name": "Python 3"
    },
    "language_info": {
      "name": "python"
    }
  },
  "cells": [
    {
      "cell_type": "markdown",
      "metadata": {
        "id": "UA43x674bg5_"
      },
      "source": [
        "[Reference](https://medium.com/weekly-python/getting-started-writing-qt-6-applications-in-python-with-pyside6-389ee4c384ee)"
      ]
    },
    {
      "cell_type": "code",
      "metadata": {
        "colab": {
          "base_uri": "https://localhost:8080/"
        },
        "id": "F5ySpVQobmFP",
        "outputId": "085c5987-6fca-424b-ab17-5b5526189184"
      },
      "source": [
        "pip install pyside6"
      ],
      "execution_count": 2,
      "outputs": [
        {
          "output_type": "stream",
          "text": [
            "Collecting pyside6\n",
            "\u001b[?25l  Downloading https://files.pythonhosted.org/packages/b4/61/ec68ef6088aa499413f14e82678476bbb021a40da1918ca43a77eb974d75/PySide6-6.1.2-6.1.2-cp36.cp37.cp38.cp39-abi3-manylinux1_x86_64.whl (212.8MB)\n",
            "\u001b[K     |████████████████████████████████| 212.8MB 67kB/s \n",
            "\u001b[?25hCollecting shiboken6==6.1.2\n",
            "\u001b[?25l  Downloading https://files.pythonhosted.org/packages/d5/bf/103f57d1c89babc1122b175a9c5fdb35b1e70c8a3bbfc8ab4f5aab397daf/shiboken6-6.1.2-6.1.2-cp36.cp37.cp38.cp39-abi3-manylinux1_x86_64.whl (1.1MB)\n",
            "\u001b[K     |████████████████████████████████| 1.1MB 16.3MB/s \n",
            "\u001b[?25hInstalling collected packages: shiboken6, pyside6\n",
            "Successfully installed pyside6-6.1.2 shiboken6-6.1.2\n"
          ],
          "name": "stdout"
        }
      ]
    },
    {
      "cell_type": "code",
      "metadata": {
        "id": "1vY-jOWmbOG7"
      },
      "source": [
        "import sys\n",
        "\n",
        "from PySide6.QtWidgets import QApplication, QWidget, QPushButton, QMessageBox\n",
        "from PySide6.QtGui import QCloseEvent\n",
        "\n",
        "\n",
        "class ExampleWindow(QWidget):\n",
        "    def __init__(self):\n",
        "        super().__init__()\n",
        "\n",
        "        self.setup()\n",
        "\n",
        "    def setup(self):\n",
        "        btn_quit = QPushButton('Force Quit', self)\n",
        "        btn_quit.clicked.connect(QApplication.instance().quit)\n",
        "        btn_quit.resize(btn_quit.sizeHint())\n",
        "        btn_quit.move(90, 100)\n",
        "\n",
        "        self.setGeometry(100, 100, 200, 150)\n",
        "        self.setWindowTitle('Window Example')\n",
        "\n",
        "        self.show()\n",
        "\n",
        "    def closeEvent(self, event: QCloseEvent):\n",
        "        reply = QMessageBox.question(self, 'Message', 'Are you sure you want to quit?',\n",
        "                                     QMessageBox.Yes | QMessageBox.No, QMessageBox.No)\n",
        "\n",
        "        if reply == QMessageBox.Yes:\n",
        "            event.accept()\n",
        "        else:\n",
        "            event.ignore()\n",
        "\n",
        "\n",
        "def run():\n",
        "    app = QApplication(sys.argv)\n",
        "\n",
        "    ex = ExampleWindow()\n",
        "\n",
        "    sys.exit(app.exec_())\n",
        "\n",
        "\n",
        "if __name__ == '__main__':\n",
        "    run()"
      ],
      "execution_count": 4,
      "outputs": []
    }
  ]
}