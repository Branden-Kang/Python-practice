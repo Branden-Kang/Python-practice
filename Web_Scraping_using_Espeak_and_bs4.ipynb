{
  "nbformat": 4,
  "nbformat_minor": 0,
  "metadata": {
    "colab": {
      "name": "Web Scraping using Espeak and bs4.ipynb",
      "provenance": [],
      "authorship_tag": "ABX9TyPCEQT5BjSCQPXqxFF+51Ob"
    },
    "kernelspec": {
      "name": "python3",
      "display_name": "Python 3"
    }
  },
  "cells": [
    {
      "cell_type": "markdown",
      "metadata": {
        "id": "VsKe_lSn1nwx",
        "colab_type": "text"
      },
      "source": [
        "[Reference](https://medium.com/swlh/create-simple-news-reader-app-using-pythons-espeak-and-beautiful-soup-bs4-436c2c674b4c)"
      ]
    },
    {
      "cell_type": "code",
      "metadata": {
        "id": "mT7fXgr-JFtI",
        "colab_type": "code",
        "colab": {}
      },
      "source": [
        "#required packages : BeautifulSoup, espeak.\n",
        "from urllib.request import urlopen       # Open url using urlopen\n",
        "from bs4 import BeautifulSoup    # Import BeautifulSoup for scraping.\n",
        "import subprocess, os,re\t\n",
        "from time import sleep"
      ],
      "execution_count": 2,
      "outputs": []
    },
    {
      "cell_type": "code",
      "metadata": {
        "id": "BW3tu2Qy1WrE",
        "colab_type": "code",
        "colab": {
          "base_uri": "https://localhost:8080/",
          "height": 105
        },
        "outputId": "514cd409-b329-4428-a460-2b00cc3ffb77"
      },
      "source": [
        "!pip install py-espeak-ng"
      ],
      "execution_count": 9,
      "outputs": [
        {
          "output_type": "stream",
          "text": [
            "Collecting py-espeak-ng\n",
            "  Downloading https://files.pythonhosted.org/packages/de/84/cef855b15184bfcc3666ece53399373d4dc02585b5206d8a4ab62ae1ad83/py_espeak_ng-0.1.8-py2.py3-none-any.whl\n",
            "Installing collected packages: py-espeak-ng\n",
            "Successfully installed py-espeak-ng-0.1.8\n"
          ],
          "name": "stdout"
        }
      ]
    },
    {
      "cell_type": "code",
      "metadata": {
        "id": "tCxjulJeJYvk",
        "colab_type": "code",
        "colab": {}
      },
      "source": [
        "#This part does the reading, parsing and speech part of the program.\n",
        "html = urlopen(\"https://inshorts.com/en/read\")       #open the url using urlopen.\n",
        "bsObj = BeautifulSoup(html.read().decode('utf-8'),\"html.parser\")     # get the beautiful soup object after parsing the html page\n",
        "News_headlines = bsObj.find_all('div', attrs={'itemprop':'articleBody'})   #finding in the html page all the divs with item propertie as articleBody\n",
        "sleep(2)"
      ],
      "execution_count": 15,
      "outputs": []
    },
    {
      "cell_type": "code",
      "metadata": {
        "id": "BzzaKP6rJrN7",
        "colab_type": "code",
        "colab": {
          "base_uri": "https://localhost:8080/",
          "height": 496
        },
        "outputId": "4602dd6d-c460-422f-de37-2b774dad6b58"
      },
      "source": [
        "for x in News_headlines:\n",
        "  st=x.string\n",
        "  news= \"\"\n",
        "  # st=st.encode('utf8','ignore') #encode the string as utf8\n",
        "  regex = re.compile('[^.,a-zA-Z\\w\\s]'+'') #regular expression to get the text out of the News_headlines string 'st'.\n",
        "  news=regex.sub(' ',st)\n",
        "  news= \"espeak \"+ \"'\"+news+\"'\"+\"  -s 100\"  #create the command for reading the news using espeak module.\n",
        "  print(news)\n",
        "  os.system(news) #execute the command of espeak. \n",
        "  sleep(2) #wait for 3 seconds for reading the second news"
      ],
      "execution_count": 17,
      "outputs": [
        {
          "output_type": "stream",
          "text": [
            "espeak 'OPPO has announced that the Reno4 Pro smartphone with 3D Borderless Sense Screen technology will launch in India on July 31. Featuring 6.5 inch screen with 55.9  curvature, it will support 90Hz Refresh Rate, 92.01  screen to body ratio and up to 180Hz touch sample rate. The display innovation in the Reno4 Pro stems from OPPO s user centric technologies that enhance the user experience.'  -s 100\n",
            "espeak 'The coronavirus recovery rate in Delhi has risen to 85.21  as 1,07,650 coronavirus patients have recovered from the virus in the national capital. As many as 1,227 new coronavirus cases were reported in the capital in the last 24 hours, taking the total number of positive cases to 1,26,323. The coronavirus death toll in Delhi stands at 3,719.'  -s 100\n",
            "espeak 'Kim Kardashian spoke publicly for the first time about her husband Kanye West s bipolar disorder after he claimed in a now deleted tweet that he has been trying to divorce her.  Those  who  understand mental illness...know the family is powerless,  she wrote on Instagram Stories.  Those who are close with Kanye...understand his words sometimes don t align with his intentions,  she added.'  -s 100\n",
            "espeak 'A 4 year old UK boy has landed a book deal for his poetry collection and will become one of the world s youngest published authors. Nadim Shamma Sourgen penned several poems including  Coming Home ,  Love  and  Baddies . Sri Lanka s Thanuwana Serasinghe, who was four years and 356 days old when he released his book, holds Guinness record for the youngest published male author.'  -s 100\n",
            "espeak 'WHO s emergencies programme head Dr Mike Ryan has said researchers are making  good progress  in developing vaccines against the coronavirus but their first use can t be expected until early 2021. Ryan noted that several vaccines are now in late stage trials and none had failed in terms of safety or ability to generate an immune response so far.'  -s 100\n",
            "espeak 'Madhya Pradesh Home Minister Narottam Mishra said that a 10 day total lockdown will be clamped in Bhopal starting from July 24 evening in the wake of rising COVID 19 cases in the district.  Only milk supply parlours, medicine shops, vegetable vendors, and government ration shops will be allowed to open along with the industry and government offices,  said Mishra.'  -s 100\n",
            "espeak 'A day after joining the BJP, former Indian footballer Mehtab Hossain on Wednesday said he wasn t associated with any political party.  No one has forced me to take this decision. This is completely my personal decision to stay away from politics,  he added.  My family  was  hurt by my decision  of joining politics  like my friends and supporters,  he said.'  -s 100\n",
            "espeak 'Researchers at Oregon State University, US, have revealed the first active leak of methane from the seabed in Antarctica. Divers first discovered the active leak in 2011 and the second leak was found in 2016. Microbes that consume methane before it reaches the atmosphere had arrived in small numbers after five years, allowing the greenhouse gas to escape, researchers said.'  -s 100\n",
            "espeak 'US Secretary of State Mike Pompeo on Wednesday called India  one of a few trusted, like minded countries  and added that US and India are  global powers, really good friends.  Pompeo added,  It s important that democracies like ours work together, especially as we see more clearly than ever the true scope of the challenge posed by the Chinese Communist Party. '  -s 100\n",
            "espeak 'Telangana government has appointed Santoshi, wife of Galwan martyr Colonel B Santosh Babu, as Deputy Collector. CM K Chandrashekar Rao handed over the appointment letter to her on Wednesday and instructed officials to post Santoshi in Hyderabad and its surrounding areas. Rao has also asked his secretary Smita Sabharwal to give Santoshi proper training for the post.'  -s 100\n",
            "espeak 'A policeman was on Wednesday shot dead by unknown terrorists in Kulgam district of Jammu and Kashmir, the police said. The policeman has been identified as 58 year old Abdul Rashid Dar.  The terrorists fired upon at Dar, leaving him critically injured. He was shifted to a hospital where he later succumbed to his injuries,  Inspector General of Police Kashmir Vijay Kumar said.'  -s 100\n",
            "espeak 'Around five lakh people in nearly a dozen districts of Bihar have been affected by the flood, the disaster management department said on Wednesday. A total of 4.6 lakh people in 10 districts have been affected and over 13,000 have been displaced, an official release said. So far, 4,845 people have been shifted in 16 relief camps, the release stated.'  -s 100\n",
            "espeak 'A Delhi court sentenced 35 year old sex racket operator Sonu Punjaban to 24 years in prison in a case related to forcing a 12 year old girl into prostitution in 2009. The court stated Punjaban had  crossed all limits to be called a woman .  She forcibly administered drugs to...victim...applied chilli powder on...victim s breast...and also put it into her mouth...to create fear,  court said.\n",
            "\n",
            "'  -s 100\n",
            "espeak 'Private schools in the state cannot charge any kind of fee from students for tuition or other co curricular activities as long as the schools are closed, a resolution by the Gujarat government s education department said. It also said schools cannot hike the fee for academic session 2020 21 and the amount already deposited will be adjusted against the fee later.'  -s 100\n",
            "espeak 'A group of delivery men in China s Hangzhou lifted and moved a car in 11 seconds to rescue a woman who had been run over. The incident was captured by CCTV cameras at a traffic signal. The video shows dozens of delivery men rushing to the spot to help the woman who was trapped underneath.'  -s 100\n",
            "espeak 'US Secretary of State Mike Pompeo on Wednesday said India has an opportunity to move supply chains away from China because of ongoing global tensions with China.  India is in this position because it has earned the trust of many nations including the US,  he added. Pompeo urged India to reduce its dependence on China for telecommunications and medical supplies.'  -s 100\n",
            "espeak 'Actress producer Pooja Bhatt, while commenting on nepotism in Bollywood, tweeted,  I know more insiders who are outsiders and even more outsiders who are insiders.  She added that some people  are born to packs, yet remain lone wolves .  Others prefer the safety of the herd no matter who or where they are born...what profession they aspire to or choose,  Pooja tweeted.'  -s 100\n",
            "espeak 'Talking about shooting  Taarak Mehta Ka Ooltah Chashmah  amid the coronavirus pandemic, actor Dilip Joshi said that initially, the team felt they were shooting in a hospital.  There was a strong smell of sanitisers...everyone was wearing masks,  he added.  We wondered how to do comedy. But I feel the situation is such that we can t do anything,  Dilip further said. '  -s 100\n",
            "espeak 'The total number of coronavirus cases rose to over 1.5 crore on Wednesday, according to Johns Hopkins University tracker. The global coronavirus death toll increased to 6,17,902 during the same period, it showed. The US is the worst coronavirus hit country with over 39 lakh cases, followed by Brazil at over 21.59 lakh cases and India with nearly 12 lakh cases.'  -s 100\n",
            "espeak 'The WHO and the Africa Centres for Disease Control and Prevention have launched a 25 member expert advisory panel to explore the role of traditional medicine in COVID 19 pandemic. The panel will support countries in conducting clinical trials and enhance research and development of traditional therapies. The African continent has reported 7.48 lakh cases with 15,685 deaths, as per WHO data. '  -s 100\n",
            "espeak 'The areas under the Greater Hyderabad Municipal Corporation  GHMC  reported 842 of Telangana s 1,554 new coronavirus cases on Wednesday, Telangana s Health Minister Eatala Rajender tweeted. Telangana reported nine deaths from COVID 19 during the same period, taking its total death to 438, he added. Telangana has reported 49,259 coronavirus cases so far, the minister further said.'  -s 100\n",
            "espeak 'Google is planning to approach the CCI in the next two weeks to seek its approval for its nearly  4.5 billion investment in Jio Platforms for a 7.73  stake, media reports said. The deal was announced on 15 July. Earlier, Facebook had received CCI s approval for acquiring a 9.99  stake in Jio Platforms.'  -s 100\n",
            "espeak 'Facebook announced it s working on controls that would allow users to control who can send them messages or call them directly on Messenger. The controls would also allow users to decide which users go to their requests folder and who can t message or call them at all. Facebook will test a feature to blur images in users  message requests folder.'  -s 100\n",
            "espeak 'A Survey of India team has begun the survey of eleven villages in Gurugram district using a drone, to declare them  Lal Dora free . This is a part of Haryana government s initiative to end the century old system under which ownership of land depends on possession. After their areas are  Lal Dora free , people living there can become legal owners of their homes.'  -s 100\n",
            "espeak 'The recent clashes  initiated  by the Chinese military against India in Ladakh are the latest examples of the  unacceptable behaviour  of the Chinese Communist Party, US Secretary of State Mike Pompeo said.  I m confident that with our concerted efforts, we can protect our interest,  he added.  It s important that democracies like ours work together,  Pompeo further said.'  -s 100\n"
          ],
          "name": "stdout"
        }
      ]
    },
    {
      "cell_type": "code",
      "metadata": {
        "id": "19Y-Y-PR1HCX",
        "colab_type": "code",
        "colab": {}
      },
      "source": [
        ""
      ],
      "execution_count": null,
      "outputs": []
    }
  ]
}