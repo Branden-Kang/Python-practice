{
  "nbformat": 4,
  "nbformat_minor": 0,
  "metadata": {
    "colab": {
      "provenance": [],
      "authorship_tag": "ABX9TyNhXyLxpTJ0g3U9mC4ho4zc"
    },
    "kernelspec": {
      "name": "python3",
      "display_name": "Python 3"
    },
    "language_info": {
      "name": "python"
    }
  },
  "cells": [
    {
      "cell_type": "markdown",
      "source": [
        "[Reference](https://medium.com/@ghanshyamsavaliya/110-quick-smart-filter-ways-in-python-dataframe-b48c0833fc91)"
      ],
      "metadata": {
        "id": "KO1GQm9lka_f"
      }
    },
    {
      "cell_type": "code",
      "execution_count": 1,
      "metadata": {
        "id": "NoPng4Exjhcw"
      },
      "outputs": [],
      "source": [
        "import pandas as pd\n",
        "\n",
        "# Create a sample DataFrame\n",
        "data = {'A': [1, 2, 3], 'B': [4, 5, 6]}\n",
        "df = pd.DataFrame(data)\n",
        "\n",
        "# Select column 'A'\n",
        "column_A = df['A']\n",
        "# Select column 'A' using dot notation\n",
        "column_A_dot = df.A"
      ]
    },
    {
      "cell_type": "code",
      "source": [
        "# Select column 'A'\n",
        "column_A = df['A']\n",
        "print(column_A)"
      ],
      "metadata": {
        "colab": {
          "base_uri": "https://localhost:8080/"
        },
        "id": "CVUQBbGokc75",
        "outputId": "d170a89c-a594-4d84-a1a5-c4a661876d38"
      },
      "execution_count": 2,
      "outputs": [
        {
          "output_type": "stream",
          "name": "stdout",
          "text": [
            "0    1\n",
            "1    2\n",
            "2    3\n",
            "Name: A, dtype: int64\n"
          ]
        }
      ]
    },
    {
      "cell_type": "code",
      "source": [
        "# Select column 'A' using dot notation\n",
        "column_A_dot = df.A\n",
        "print(column_A_dot)"
      ],
      "metadata": {
        "colab": {
          "base_uri": "https://localhost:8080/"
        },
        "id": "Qjkpkpt7kdv-",
        "outputId": "879680d5-9a84-4c0d-d010-a82a647644d6"
      },
      "execution_count": 3,
      "outputs": [
        {
          "output_type": "stream",
          "name": "stdout",
          "text": [
            "0    1\n",
            "1    2\n",
            "2    3\n",
            "Name: A, dtype: int64\n"
          ]
        }
      ]
    },
    {
      "cell_type": "code",
      "source": [
        "# Select column 'A' using loc[]\n",
        "column_A_loc = df.loc[:, 'A']\n",
        "print(column_A_loc)"
      ],
      "metadata": {
        "colab": {
          "base_uri": "https://localhost:8080/"
        },
        "id": "OU9qgq9Hkehy",
        "outputId": "93bcb595-4d3f-43a1-8dbb-105836b5f446"
      },
      "execution_count": 4,
      "outputs": [
        {
          "output_type": "stream",
          "name": "stdout",
          "text": [
            "0    1\n",
            "1    2\n",
            "2    3\n",
            "Name: A, dtype: int64\n"
          ]
        }
      ]
    },
    {
      "cell_type": "code",
      "source": [
        "# Select column at index 0 using iloc[]\n",
        "column_0_iloc = df.iloc[:, 0]\n",
        "print(column_0_iloc)"
      ],
      "metadata": {
        "colab": {
          "base_uri": "https://localhost:8080/"
        },
        "id": "YXNfEspakfz9",
        "outputId": "6fc11ea1-33a0-42a3-a371-0068952222a9"
      },
      "execution_count": 5,
      "outputs": [
        {
          "output_type": "stream",
          "name": "stdout",
          "text": [
            "0    1\n",
            "1    2\n",
            "2    3\n",
            "Name: A, dtype: int64\n"
          ]
        }
      ]
    },
    {
      "cell_type": "code",
      "source": [
        "# # Select column 'A' using ix[]\n",
        "# column_A_ix = df.ix[:, 'A']\n",
        "# print(column_A_ix)"
      ],
      "metadata": {
        "id": "438QRC_akhDO"
      },
      "execution_count": 7,
      "outputs": []
    },
    {
      "cell_type": "code",
      "source": [
        "# Select column 'A' using get()\n",
        "column_A_get = df.get('A')\n",
        "print(column_A_get)"
      ],
      "metadata": {
        "colab": {
          "base_uri": "https://localhost:8080/"
        },
        "id": "HfN_DQmpkjmf",
        "outputId": "25491a10-83b0-4164-c8df-9166a0e64311"
      },
      "execution_count": 8,
      "outputs": [
        {
          "output_type": "stream",
          "name": "stdout",
          "text": [
            "0    1\n",
            "1    2\n",
            "2    3\n",
            "Name: A, dtype: int64\n"
          ]
        }
      ]
    },
    {
      "cell_type": "code",
      "source": [
        "# Select columns 'A' and 'B' using loc[]\n",
        "columns_AB_loc = df.loc[:, ['A', 'B']]\n",
        "print(columns_AB_loc)"
      ],
      "metadata": {
        "colab": {
          "base_uri": "https://localhost:8080/"
        },
        "id": "wGnF01vWkmpX",
        "outputId": "9bc4f83a-8aa9-4496-9856-d7a23918a71e"
      },
      "execution_count": 9,
      "outputs": [
        {
          "output_type": "stream",
          "name": "stdout",
          "text": [
            "   A  B\n",
            "0  1  4\n",
            "1  2  5\n",
            "2  3  6\n"
          ]
        }
      ]
    },
    {
      "cell_type": "code",
      "source": [
        "# Select columns at index 0 and 1 using iloc[]\n",
        "columns_01_iloc = df.iloc[:, [0, 1]]\n",
        "print(columns_01_iloc)"
      ],
      "metadata": {
        "colab": {
          "base_uri": "https://localhost:8080/"
        },
        "id": "7g6uTxcmkn25",
        "outputId": "c0b94e66-7965-4b20-9774-36ec5526f1d5"
      },
      "execution_count": 10,
      "outputs": [
        {
          "output_type": "stream",
          "name": "stdout",
          "text": [
            "   A  B\n",
            "0  1  4\n",
            "1  2  5\n",
            "2  3  6\n"
          ]
        }
      ]
    },
    {
      "cell_type": "code",
      "source": [
        "# Select columns 'A' and 'B' using loc[] and slicing\n",
        "columns_AB_slice_loc = df.loc[:, 'A':'B']\n",
        "print(columns_AB_slice_loc)"
      ],
      "metadata": {
        "colab": {
          "base_uri": "https://localhost:8080/"
        },
        "id": "b78nhtJvko4A",
        "outputId": "0559f5a9-6d2e-445d-e8b0-97f649cd6f20"
      },
      "execution_count": 11,
      "outputs": [
        {
          "output_type": "stream",
          "name": "stdout",
          "text": [
            "   A  B\n",
            "0  1  4\n",
            "1  2  5\n",
            "2  3  6\n"
          ]
        }
      ]
    },
    {
      "cell_type": "code",
      "source": [
        "# Select columns at index 0 and 1 using iloc[] and slicing\n",
        "columns_01_slice_iloc = df.iloc[:, 0:2]\n",
        "print(columns_01_slice_iloc)"
      ],
      "metadata": {
        "colab": {
          "base_uri": "https://localhost:8080/"
        },
        "id": "FKdzgDWMkqNq",
        "outputId": "784d1722-c883-429d-c476-9c81be4b60da"
      },
      "execution_count": 12,
      "outputs": [
        {
          "output_type": "stream",
          "name": "stdout",
          "text": [
            "   A  B\n",
            "0  1  4\n",
            "1  2  5\n",
            "2  3  6\n"
          ]
        }
      ]
    },
    {
      "cell_type": "code",
      "source": [
        "# Select columns 'A' where values in column 'B' are greater than 4\n",
        "columns_A_where_B_loc = df.loc[df['B'] > 4, 'A']\n",
        "print(columns_A_where_B_loc)"
      ],
      "metadata": {
        "colab": {
          "base_uri": "https://localhost:8080/"
        },
        "id": "LktE-k1xkrBe",
        "outputId": "2c3be9ac-6d7b-4e9c-d1e2-c6f8721d1bb5"
      },
      "execution_count": 13,
      "outputs": [
        {
          "output_type": "stream",
          "name": "stdout",
          "text": [
            "1    2\n",
            "2    3\n",
            "Name: A, dtype: int64\n"
          ]
        }
      ]
    },
    {
      "cell_type": "code",
      "source": [
        "# # Select columns at index 0 where values in column 'B' are greater than 4\n",
        "# columns_0_where_B_iloc = df.iloc[df['B'] > 4, 0]\n",
        "# print(columns_0_where_B_iloc)"
      ],
      "metadata": {
        "id": "kM5lw_SAkr94"
      },
      "execution_count": 15,
      "outputs": []
    },
    {
      "cell_type": "code",
      "source": [
        "# Select columns where the mean of each column is greater than 2\n",
        "columns_mean_greater_than_2 = df.loc[:, lambda df: df.mean() > 2]\n",
        "print(columns_mean_greater_than_2)"
      ],
      "metadata": {
        "colab": {
          "base_uri": "https://localhost:8080/"
        },
        "id": "bsvGNPh0ks4i",
        "outputId": "bcfea1bc-a212-4455-98f1-6551495aad40"
      },
      "execution_count": 16,
      "outputs": [
        {
          "output_type": "stream",
          "name": "stdout",
          "text": [
            "   B\n",
            "0  4\n",
            "1  5\n",
            "2  6\n"
          ]
        }
      ]
    },
    {
      "cell_type": "code",
      "source": [
        "# Select columns using callable function\n",
        "columns_callable_iloc = df.iloc[:, lambda df: [0, 1]]\n",
        "print(columns_callable_iloc)"
      ],
      "metadata": {
        "colab": {
          "base_uri": "https://localhost:8080/"
        },
        "id": "W23sepsTk0Gj",
        "outputId": "2249eb05-720a-4a2d-f4fc-55473977ae5a"
      },
      "execution_count": 17,
      "outputs": [
        {
          "output_type": "stream",
          "name": "stdout",
          "text": [
            "   A  B\n",
            "0  1  4\n",
            "1  2  5\n",
            "2  3  6\n"
          ]
        }
      ]
    },
    {
      "cell_type": "code",
      "source": [
        "# Select columns where column names contain 'A'\n",
        "columns_with_A = df.filter(like='A')\n",
        "print(columns_with_A)"
      ],
      "metadata": {
        "colab": {
          "base_uri": "https://localhost:8080/"
        },
        "id": "yLpn0hKOk0-z",
        "outputId": "3611c4b2-6841-4ca9-bcbc-6a09ffa67642"
      },
      "execution_count": 18,
      "outputs": [
        {
          "output_type": "stream",
          "name": "stdout",
          "text": [
            "   A\n",
            "0  1\n",
            "1  2\n",
            "2  3\n"
          ]
        }
      ]
    },
    {
      "cell_type": "code",
      "source": [
        "# Select columns where values in column 'A' are greater than 2\n",
        "columns_A_query = df.query('A > 2')\n",
        "print(columns_A_query)"
      ],
      "metadata": {
        "colab": {
          "base_uri": "https://localhost:8080/"
        },
        "id": "St8RCuynk1-R",
        "outputId": "9ee4bf84-35a8-458a-808e-13f72ae0ded4"
      },
      "execution_count": 19,
      "outputs": [
        {
          "output_type": "stream",
          "name": "stdout",
          "text": [
            "   A  B\n",
            "2  3  6\n"
          ]
        }
      ]
    },
    {
      "cell_type": "code",
      "source": [
        "# Select columns at indices 0 and 1 using iloc[]\n",
        "columns_01_index_iloc = df.iloc[:, [0, 1]]\n",
        "print(columns_01_index_iloc)"
      ],
      "metadata": {
        "colab": {
          "base_uri": "https://localhost:8080/"
        },
        "id": "MGhJt3jrk27W",
        "outputId": "c228b365-e698-420f-9b7a-05576def927a"
      },
      "execution_count": 20,
      "outputs": [
        {
          "output_type": "stream",
          "name": "stdout",
          "text": [
            "   A  B\n",
            "0  1  4\n",
            "1  2  5\n",
            "2  3  6\n"
          ]
        }
      ]
    },
    {
      "cell_type": "code",
      "source": [
        "# Select columns 'A' and 'B' using loc[]\n",
        "columns_AB_index_loc = df.loc[:, ['A', 'B']]\n",
        "print(columns_AB_index_loc)"
      ],
      "metadata": {
        "colab": {
          "base_uri": "https://localhost:8080/"
        },
        "id": "CV10maCok36x",
        "outputId": "a59bb240-9649-4bd9-c645-25a477c1df36"
      },
      "execution_count": 21,
      "outputs": [
        {
          "output_type": "stream",
          "name": "stdout",
          "text": [
            "   A  B\n",
            "0  1  4\n",
            "1  2  5\n",
            "2  3  6\n"
          ]
        }
      ]
    },
    {
      "cell_type": "code",
      "source": [
        "# Select column 'A' at row index 0 using loc[]\n",
        "column_A_row_0_loc = df.loc[0, 'A']\n",
        "print(column_A_row_0_loc)"
      ],
      "metadata": {
        "colab": {
          "base_uri": "https://localhost:8080/"
        },
        "id": "a6JzVdjdk4t8",
        "outputId": "06122b5b-17c4-455b-f159-8530afe06bc4"
      },
      "execution_count": 22,
      "outputs": [
        {
          "output_type": "stream",
          "name": "stdout",
          "text": [
            "1\n"
          ]
        }
      ]
    },
    {
      "cell_type": "code",
      "source": [
        "# Select column at index 0 at row index 0 using iloc[]\n",
        "column_0_row_0_iloc = df.iloc[0, 0]\n",
        "print(column_0_row_0_iloc)"
      ],
      "metadata": {
        "colab": {
          "base_uri": "https://localhost:8080/"
        },
        "id": "nX8kZU5klC4A",
        "outputId": "a585237d-f970-4e4d-e2d1-e51c2b2f1ba7"
      },
      "execution_count": 23,
      "outputs": [
        {
          "output_type": "stream",
          "name": "stdout",
          "text": [
            "1\n"
          ]
        }
      ]
    },
    {
      "cell_type": "code",
      "source": [
        "# Select column 'A' at row index 0 using at[]\n",
        "column_A_row_0_at = df.at[0, 'A']\n",
        "print(column_A_row_0_at)"
      ],
      "metadata": {
        "colab": {
          "base_uri": "https://localhost:8080/"
        },
        "id": "b42x5OlZlEGo",
        "outputId": "4b566e4c-7d7c-4ae6-ef79-be02f6e533db"
      },
      "execution_count": 24,
      "outputs": [
        {
          "output_type": "stream",
          "name": "stdout",
          "text": [
            "1\n"
          ]
        }
      ]
    },
    {
      "cell_type": "code",
      "source": [
        "# Select column at index 0 at row index 0 using iat[]\n",
        "column_0_row_0_iat = df.iat[0, 0]\n",
        "print(column_0_row_0_iat)"
      ],
      "metadata": {
        "colab": {
          "base_uri": "https://localhost:8080/"
        },
        "id": "jnOBC1malhJf",
        "outputId": "89bbf3df-9868-4e0e-f86c-99a1baff1da7"
      },
      "execution_count": 25,
      "outputs": [
        {
          "output_type": "stream",
          "name": "stdout",
          "text": [
            "1\n"
          ]
        }
      ]
    },
    {
      "cell_type": "code",
      "source": [
        "# Select columns with names containing 'A' or 'B' using filter and regex\n",
        "columns_AB_filter = df.filter(regex='A|B')\n",
        "print(columns_AB_filter)"
      ],
      "metadata": {
        "colab": {
          "base_uri": "https://localhost:8080/"
        },
        "id": "UG1v2t8MliPl",
        "outputId": "120903c3-998d-4db1-a692-ed5bef6ef90f"
      },
      "execution_count": 26,
      "outputs": [
        {
          "output_type": "stream",
          "name": "stdout",
          "text": [
            "   A  B\n",
            "0  1  4\n",
            "1  2  5\n",
            "2  3  6\n"
          ]
        }
      ]
    },
    {
      "cell_type": "code",
      "source": [
        "# Select column 'A' using style function\n",
        "column_A_style = df.style.apply(lambda x: ['background: yellow' if val > 2 else '' for val in x], subset=['A'])\n",
        "print(column_A_style)"
      ],
      "metadata": {
        "colab": {
          "base_uri": "https://localhost:8080/"
        },
        "id": "9UKLd3poljMi",
        "outputId": "a7a0cf44-6474-40ea-ed56-212408b8e681"
      },
      "execution_count": 27,
      "outputs": [
        {
          "output_type": "stream",
          "name": "stdout",
          "text": [
            "<pandas.io.formats.style.Styler object at 0x7d4e58bfd150>\n"
          ]
        }
      ]
    },
    {
      "cell_type": "code",
      "source": [
        "import numpy as np\n",
        "# Select columns using numpy array slicing\n",
        "columns_np_slicing = df.iloc[:, np.s_[:2]]  # Select columns 0 and 1\n",
        "print(columns_np_slicing)"
      ],
      "metadata": {
        "colab": {
          "base_uri": "https://localhost:8080/"
        },
        "id": "RVi1224IlkDW",
        "outputId": "d731fc24-67d2-4cbe-9933-ba35b466ccda"
      },
      "execution_count": 29,
      "outputs": [
        {
          "output_type": "stream",
          "name": "stdout",
          "text": [
            "   A  B\n",
            "0  1  4\n",
            "1  2  5\n",
            "2  3  6\n"
          ]
        }
      ]
    },
    {
      "cell_type": "code",
      "source": [
        "# Select columns where column names contain 'A'\n",
        "columns_with_A_lc = df[[col for col in df.columns if 'A' in col]]\n",
        "print(columns_with_A_lc)"
      ],
      "metadata": {
        "colab": {
          "base_uri": "https://localhost:8080/"
        },
        "id": "7HjOUC8kllEG",
        "outputId": "18249afc-a3b1-4c67-e9ed-ba68c3ac858e"
      },
      "execution_count": 30,
      "outputs": [
        {
          "output_type": "stream",
          "name": "stdout",
          "text": [
            "   A\n",
            "0  1\n",
            "1  2\n",
            "2  3\n"
          ]
        }
      ]
    },
    {
      "cell_type": "code",
      "source": [
        "# Define a function to select columns\n",
        "def select_columns(data_frame, col_prefix):\n",
        "    return data_frame.filter(like=col_prefix)\n",
        "\n",
        "# Select columns with names containing 'A'\n",
        "selected_columns = select_columns(df, 'A')\n",
        "print(selected_columns)"
      ],
      "metadata": {
        "colab": {
          "base_uri": "https://localhost:8080/"
        },
        "id": "UiulBBQLlzwE",
        "outputId": "6497f496-266e-4aa3-9ca9-e9843c08960a"
      },
      "execution_count": 31,
      "outputs": [
        {
          "output_type": "stream",
          "name": "stdout",
          "text": [
            "   A\n",
            "0  1\n",
            "1  2\n",
            "2  3\n"
          ]
        }
      ]
    },
    {
      "cell_type": "code",
      "source": [
        "# Select column 'A' using the .xs() method\n",
        "column_A_xs = df.xs('A', axis=1)\n",
        "print(column_A_xs)"
      ],
      "metadata": {
        "colab": {
          "base_uri": "https://localhost:8080/"
        },
        "id": "ONjlfKEUl2L2",
        "outputId": "05e74b48-704c-41ea-dafb-3e12b2054799"
      },
      "execution_count": 32,
      "outputs": [
        {
          "output_type": "stream",
          "name": "stdout",
          "text": [
            "0    1\n",
            "1    2\n",
            "2    3\n",
            "Name: A, dtype: int64\n"
          ]
        }
      ]
    },
    {
      "cell_type": "code",
      "source": [
        "# Drop columns 'A' and 'B'\n",
        "remaining_columns = df.drop(columns=['A', 'B'])\n",
        "print(remaining_columns)"
      ],
      "metadata": {
        "colab": {
          "base_uri": "https://localhost:8080/"
        },
        "id": "swmrwoFKmB4y",
        "outputId": "4ff33330-b200-4be5-c5f0-f34083facce0"
      },
      "execution_count": 33,
      "outputs": [
        {
          "output_type": "stream",
          "name": "stdout",
          "text": [
            "Empty DataFrame\n",
            "Columns: []\n",
            "Index: [0, 1, 2]\n"
          ]
        }
      ]
    },
    {
      "cell_type": "code",
      "source": [
        "# Select all columns except 'A'\n",
        "columns_except_A = df[df.columns.difference(['A'])]\n",
        "print(columns_except_A)"
      ],
      "metadata": {
        "colab": {
          "base_uri": "https://localhost:8080/"
        },
        "id": "vTMDE56ymCti",
        "outputId": "a4125f19-787f-4376-e3ff-88f86b7cadf7"
      },
      "execution_count": 34,
      "outputs": [
        {
          "output_type": "stream",
          "name": "stdout",
          "text": [
            "   B\n",
            "0  4\n",
            "1  5\n",
            "2  6\n"
          ]
        }
      ]
    },
    {
      "cell_type": "code",
      "source": [
        "# Sort columns in alphabetical order\n",
        "columns_alphabetical = df[sorted(df.columns)]\n",
        "print(columns_alphabetical)"
      ],
      "metadata": {
        "colab": {
          "base_uri": "https://localhost:8080/"
        },
        "id": "4dbr8BzomDjk",
        "outputId": "e7c9aaf0-dd19-439f-eb3d-40d0e12fb1a7"
      },
      "execution_count": 35,
      "outputs": [
        {
          "output_type": "stream",
          "name": "stdout",
          "text": [
            "   A  B\n",
            "0  1  4\n",
            "1  2  5\n",
            "2  3  6\n"
          ]
        }
      ]
    },
    {
      "cell_type": "code",
      "source": [
        "# Select column 'A' using index operator\n",
        "column_A_index = df['A']\n",
        "print(column_A_index)"
      ],
      "metadata": {
        "colab": {
          "base_uri": "https://localhost:8080/"
        },
        "id": "8OaJjfdLmEb9",
        "outputId": "c8570eb9-92b7-42a4-fc37-98596f82ed96"
      },
      "execution_count": 36,
      "outputs": [
        {
          "output_type": "stream",
          "name": "stdout",
          "text": [
            "0    1\n",
            "1    2\n",
            "2    3\n",
            "Name: A, dtype: int64\n"
          ]
        }
      ]
    },
    {
      "cell_type": "code",
      "source": [
        "# Create a sample MultiIndex DataFrame\n",
        "multi_index = pd.MultiIndex.from_tuples([('A', 'X'), ('A', 'Y'), ('B', 'X')], names=['First', 'Second'])\n",
        "df_multi = pd.DataFrame({'Value': [1, 2, 3]}, index=multi_index)\n",
        "\n",
        "# Select rows where 'First' level is 'A'\n",
        "row_A_xs = df_multi.xs('A', level='First')\n",
        "print(row_A_xs)"
      ],
      "metadata": {
        "colab": {
          "base_uri": "https://localhost:8080/"
        },
        "id": "GDIzEdS5mFX_",
        "outputId": "a2d56ea3-f1c9-4a31-bf75-4bbfca98d238"
      },
      "execution_count": 40,
      "outputs": [
        {
          "output_type": "stream",
          "name": "stdout",
          "text": [
            "        Value\n",
            "Second       \n",
            "X           1\n",
            "Y           2\n"
          ]
        }
      ]
    },
    {
      "cell_type": "code",
      "source": [
        "# Create a sample DataFrame with MultiIndex columns\n",
        "df_multi_columns = pd.DataFrame({('A', 'X'): [1, 2], ('B', 'Y'): [3, 4]})\n",
        "\n",
        "# Select column ('A', 'X')\n",
        "column_AX_multi = df_multi_columns[('A', 'X')]\n",
        "print(column_AX_multi)"
      ],
      "metadata": {
        "colab": {
          "base_uri": "https://localhost:8080/"
        },
        "id": "TkakBJ46mGcf",
        "outputId": "0e62c2c2-83d1-4dee-b7a1-b76d6cdcce79"
      },
      "execution_count": 41,
      "outputs": [
        {
          "output_type": "stream",
          "name": "stdout",
          "text": [
            "0    1\n",
            "1    2\n",
            "Name: (A, X), dtype: int64\n"
          ]
        }
      ]
    },
    {
      "cell_type": "code",
      "source": [
        "# Get the integer index of column 'A'\n",
        "column_A_index_loc = df.columns.get_loc('A')\n",
        "print(column_A_index_loc)"
      ],
      "metadata": {
        "colab": {
          "base_uri": "https://localhost:8080/"
        },
        "id": "JmM13Al7mMLV",
        "outputId": "d4d17895-4613-4838-f2d9-65581ed5aa8b"
      },
      "execution_count": 42,
      "outputs": [
        {
          "output_type": "stream",
          "name": "stdout",
          "text": [
            "0\n"
          ]
        }
      ]
    },
    {
      "cell_type": "code",
      "source": [
        "# Get the integer indices of columns 'A' and 'B'\n",
        "columns_AB_indices = df.columns.get_indexer(['A', 'B'])\n",
        "print(columns_AB_indices)"
      ],
      "metadata": {
        "colab": {
          "base_uri": "https://localhost:8080/"
        },
        "id": "tbg1aPREmNDB",
        "outputId": "96990667-6da0-4ff6-894e-7d53221eafcc"
      },
      "execution_count": 43,
      "outputs": [
        {
          "output_type": "stream",
          "name": "stdout",
          "text": [
            "[0 1]\n"
          ]
        }
      ]
    },
    {
      "cell_type": "code",
      "source": [
        "# Select columns using regular expression\n",
        "columns_regex_filter = df.filter(regex='[A-B]')\n",
        "print(columns_regex_filter)"
      ],
      "metadata": {
        "colab": {
          "base_uri": "https://localhost:8080/"
        },
        "id": "O4E312GWmPa9",
        "outputId": "5813fd53-5387-41cb-be70-8c008edd722b"
      },
      "execution_count": 44,
      "outputs": [
        {
          "output_type": "stream",
          "name": "stdout",
          "text": [
            "   A  B\n",
            "0  1  4\n",
            "1  2  5\n",
            "2  3  6\n"
          ]
        }
      ]
    },
    {
      "cell_type": "code",
      "source": [
        "# Create another DataFrame with different column order\n",
        "data_other = {'B': [4, 5, 6], 'A': [1, 2, 3]}\n",
        "df_other = pd.DataFrame(data_other)\n",
        "\n",
        "# Select columns from df_other in the order of df\n",
        "columns_order_other = df_other[df.columns]\n",
        "print(columns_order_other)"
      ],
      "metadata": {
        "colab": {
          "base_uri": "https://localhost:8080/"
        },
        "id": "GzZjZt9_mQcK",
        "outputId": "86690397-6a4e-41a6-efa0-130cdfbd2d1e"
      },
      "execution_count": 45,
      "outputs": [
        {
          "output_type": "stream",
          "name": "stdout",
          "text": [
            "   A  B\n",
            "0  1  4\n",
            "1  2  5\n",
            "2  3  6\n"
          ]
        }
      ]
    },
    {
      "cell_type": "code",
      "source": [
        "# Create another DataFrame with different column order\n",
        "data_other = {'B': [4, 5, 6], 'A': [1, 2, 3]}\n",
        "df_other = pd.DataFrame(data_other)\n",
        "\n",
        "# Select columns from df_other based on column indices of df\n",
        "columns_index_order_other = df_other.iloc[:, df.columns.get_indexer(df_other.columns)]\n",
        "print(columns_index_order_other)"
      ],
      "metadata": {
        "colab": {
          "base_uri": "https://localhost:8080/"
        },
        "id": "UB0exAAUmRbj",
        "outputId": "29d3976e-d8d3-40fe-9097-1c947f575963"
      },
      "execution_count": 46,
      "outputs": [
        {
          "output_type": "stream",
          "name": "stdout",
          "text": [
            "   A  B\n",
            "0  1  4\n",
            "1  2  5\n",
            "2  3  6\n"
          ]
        }
      ]
    },
    {
      "cell_type": "code",
      "source": [
        "# Reorder columns using .reindex()\n",
        "columns_reorder = df.reindex(columns=['B', 'A'])\n",
        "print(columns_reorder)"
      ],
      "metadata": {
        "colab": {
          "base_uri": "https://localhost:8080/"
        },
        "id": "F0mSShSDmiUa",
        "outputId": "e9bd0b28-5662-45ce-edab-62b138847e2b"
      },
      "execution_count": 47,
      "outputs": [
        {
          "output_type": "stream",
          "name": "stdout",
          "text": [
            "   B  A\n",
            "0  4  1\n",
            "1  5  2\n",
            "2  6  3\n"
          ]
        }
      ]
    },
    {
      "cell_type": "code",
      "source": [
        "# # Create a sample DataFrame with duplicate column names\n",
        "# data_duplicates = {'A': [1, 2, 3], 'B': [4, 5, 6], 'A': [7, 8, 9]}\n",
        "# df_duplicates = pd.DataFrame(data_duplicates)\n",
        "\n",
        "# # Use pivot_table to aggregate duplicate columns and select 'A' column\n",
        "# column_A_pivot = df_duplicates.pivot_table(index=df_duplicates.index, columns=df_duplicates.columns, aggfunc='sum')['A']\n",
        "# print(column_A_pivot)"
      ],
      "metadata": {
        "id": "MZZP2bxjmi_Z"
      },
      "execution_count": 49,
      "outputs": []
    },
    {
      "cell_type": "code",
      "source": [
        "# Select columns with names containing 'A'\n",
        "columns_with_A_str = df.loc[:, df.columns.str.contains('A')]\n",
        "print(columns_with_A_str)"
      ],
      "metadata": {
        "colab": {
          "base_uri": "https://localhost:8080/"
        },
        "id": "UIT5pbz4mj6Q",
        "outputId": "6b603638-26aa-43aa-aaec-882fd71f8e00"
      },
      "execution_count": 50,
      "outputs": [
        {
          "output_type": "stream",
          "name": "stdout",
          "text": [
            "   A\n",
            "0  1\n",
            "1  2\n",
            "2  3\n"
          ]
        }
      ]
    },
    {
      "cell_type": "code",
      "source": [
        "# Select column elements where the element is greater than 2\n",
        "column_elements_greater_than_2 = df.applymap(lambda x: x if x > 2 else None)['A']\n",
        "print(column_elements_greater_than_2)"
      ],
      "metadata": {
        "colab": {
          "base_uri": "https://localhost:8080/"
        },
        "id": "5QGhfWKHmlt8",
        "outputId": "f13313a5-c06a-482b-ec11-e71f4fc8db53"
      },
      "execution_count": 51,
      "outputs": [
        {
          "output_type": "stream",
          "name": "stdout",
          "text": [
            "0    NaN\n",
            "1    NaN\n",
            "2    3.0\n",
            "Name: A, dtype: float64\n"
          ]
        }
      ]
    },
    {
      "cell_type": "code",
      "source": [
        "# Set 'A' column as index\n",
        "df.set_index('A', inplace=True)\n",
        "\n",
        "# Select rows where index values are greater than 1\n",
        "rows_index_greater_than_1 = df.query('index > 1')\n",
        "print(rows_index_greater_than_1)"
      ],
      "metadata": {
        "colab": {
          "base_uri": "https://localhost:8080/"
        },
        "id": "t6kYkvWMmmrt",
        "outputId": "d17531bb-a80b-40d7-94a0-f7d4783b4ccf"
      },
      "execution_count": 52,
      "outputs": [
        {
          "output_type": "stream",
          "name": "stdout",
          "text": [
            "   B\n",
            "A   \n",
            "2  5\n",
            "3  6\n"
          ]
        }
      ]
    },
    {
      "cell_type": "code",
      "source": [
        "# Iterate over columns and select specific columns\n",
        "selected_columns = [col for col_name, col in df.items() if 'A' in col_name]\n",
        "print(selected_columns)"
      ],
      "metadata": {
        "colab": {
          "base_uri": "https://localhost:8080/"
        },
        "id": "MiaFtwlJmnWM",
        "outputId": "ffd70b5f-2f81-4bb4-8dc6-3ec8c8fe4d81"
      },
      "execution_count": 53,
      "outputs": [
        {
          "output_type": "stream",
          "name": "stdout",
          "text": [
            "[]\n"
          ]
        }
      ]
    },
    {
      "cell_type": "code",
      "source": [
        "# Select columns where column names do not contain 'A'\n",
        "columns_not_with_A = df.loc[:, ~df.columns.str.contains('A')]\n",
        "print(columns_not_with_A)"
      ],
      "metadata": {
        "colab": {
          "base_uri": "https://localhost:8080/"
        },
        "id": "4PZJ7bCzmok2",
        "outputId": "1c2ae930-577f-488e-9b69-2b948c8d7ecc"
      },
      "execution_count": 54,
      "outputs": [
        {
          "output_type": "stream",
          "name": "stdout",
          "text": [
            "   B\n",
            "A   \n",
            "1  4\n",
            "2  5\n",
            "3  6\n"
          ]
        }
      ]
    },
    {
      "cell_type": "code",
      "source": [
        "# Select numeric columns\n",
        "numeric_columns = df.select_dtypes(include=['number'])\n",
        "print(numeric_columns)"
      ],
      "metadata": {
        "colab": {
          "base_uri": "https://localhost:8080/"
        },
        "id": "vbqPlp1nmrDS",
        "outputId": "dd441fa5-73fc-4c7a-8404-0a83351ea26a"
      },
      "execution_count": 55,
      "outputs": [
        {
          "output_type": "stream",
          "name": "stdout",
          "text": [
            "   B\n",
            "A   \n",
            "1  4\n",
            "2  5\n",
            "3  6\n"
          ]
        }
      ]
    },
    {
      "cell_type": "code",
      "source": [
        "# # Select columns 'A' and 'B' using a list of column names\n",
        "# columns_list = df[['A', 'B']]\n",
        "# print(columns_list)"
      ],
      "metadata": {
        "id": "ib0IfLYamsNj"
      },
      "execution_count": 57,
      "outputs": []
    },
    {
      "cell_type": "code",
      "source": [
        "# Select column 'C' with default value 0\n",
        "column_C_with_default = df.get('C', default=0)\n",
        "print(column_C_with_default)"
      ],
      "metadata": {
        "colab": {
          "base_uri": "https://localhost:8080/"
        },
        "id": "OVVcAq2-mtDB",
        "outputId": "1a10a27d-70d0-43b1-f54b-b8cfaa555dd6"
      },
      "execution_count": 58,
      "outputs": [
        {
          "output_type": "stream",
          "name": "stdout",
          "text": [
            "0\n"
          ]
        }
      ]
    },
    {
      "cell_type": "code",
      "source": [
        "# # Select column 'A' as a Series\n",
        "# column_A_series = df['A']\n",
        "# print(type(column_A_series))"
      ],
      "metadata": {
        "id": "b-GASpNQmuNf"
      },
      "execution_count": 60,
      "outputs": []
    },
    {
      "cell_type": "code",
      "source": [],
      "metadata": {
        "id": "5d5uSrVqmxrB"
      },
      "execution_count": null,
      "outputs": []
    }
  ]
}