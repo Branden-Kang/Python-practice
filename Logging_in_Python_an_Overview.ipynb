{
  "nbformat": 4,
  "nbformat_minor": 0,
  "metadata": {
    "colab": {
      "name": "Logging in Python: an Overview.ipynb",
      "provenance": [],
      "authorship_tag": "ABX9TyPx3uHLsvCnxq4eDoSY5QcH"
    },
    "kernelspec": {
      "name": "python3",
      "display_name": "Python 3"
    },
    "language_info": {
      "name": "python"
    }
  },
  "cells": [
    {
      "cell_type": "markdown",
      "metadata": {
        "id": "swHot15QRiv2"
      },
      "source": [
        "[Reference](https://python.plainenglish.io/logging-in-python-an-overview-cbc6769c6510)"
      ]
    },
    {
      "cell_type": "code",
      "metadata": {
        "colab": {
          "base_uri": "https://localhost:8080/"
        },
        "id": "EqpOMfhLRg5V",
        "outputId": "457d156e-f1b1-4592-b520-5260119cf894"
      },
      "source": [
        "import logging\n",
        "logging.error(\"An example error\")"
      ],
      "execution_count": 1,
      "outputs": [
        {
          "output_type": "stream",
          "name": "stderr",
          "text": [
            "ERROR:root:An example error\n"
          ]
        }
      ]
    },
    {
      "cell_type": "code",
      "metadata": {
        "id": "XqZCylqVRnMC"
      },
      "source": [
        "CRITICAL = 50\n",
        "ERROR = 40\n",
        "WARNING = 30\n",
        "INFO = 20\n",
        "DEBUG = 10\n",
        "NOTSET = 0"
      ],
      "execution_count": 2,
      "outputs": []
    },
    {
      "cell_type": "code",
      "metadata": {
        "id": "PEuEQdo1RrIj"
      },
      "source": [
        "logging.basicConfig(level=logging.DEBUG)"
      ],
      "execution_count": 3,
      "outputs": []
    },
    {
      "cell_type": "code",
      "metadata": {
        "id": "QIp8re7WRseM"
      },
      "source": [
        "logging.basicConfig(filename=\"mylogs.txt\")"
      ],
      "execution_count": 4,
      "outputs": []
    },
    {
      "cell_type": "markdown",
      "metadata": {
        "id": "JD9AMFv_Rvfc"
      },
      "source": [
        "# Formatting the logs\n"
      ]
    },
    {
      "cell_type": "code",
      "metadata": {
        "id": "tcCwwxizRuLE"
      },
      "source": [
        "format_str = \"%(asctime)s - %(name)s - %(levelname)s - %(message)s\"\n",
        "logging.basicConfig(format = format_str)"
      ],
      "execution_count": 5,
      "outputs": []
    },
    {
      "cell_type": "code",
      "metadata": {
        "id": "AV-_UJIQRxlV"
      },
      "source": [
        "format_str = \"%(asctime)s - %(name)s - %(levelname)-8s - %(message)s\"\n",
        "logging.basicConfig(format = format_str)"
      ],
      "execution_count": 6,
      "outputs": []
    },
    {
      "cell_type": "markdown",
      "metadata": {
        "id": "KnRYmVjGR3sI"
      },
      "source": [
        "# Change Time Format\n"
      ]
    },
    {
      "cell_type": "code",
      "metadata": {
        "id": "NYGIQ2ilR2mb"
      },
      "source": [
        "fmt_str = \"%(asctime)s - %(name)s - %(levelname)-8s - %(message)s\"\n",
        "fmt_date_str = \"%d/%m/%Y %H:%M\"\n",
        "logging.basicConfig(format = fmt_str, datefmt = fmt_date_str)"
      ],
      "execution_count": 7,
      "outputs": []
    }
  ]
}