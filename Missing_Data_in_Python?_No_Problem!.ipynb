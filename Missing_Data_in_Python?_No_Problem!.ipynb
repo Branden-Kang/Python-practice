{
  "nbformat": 4,
  "nbformat_minor": 0,
  "metadata": {
    "colab": {
      "provenance": [],
      "authorship_tag": "ABX9TyPLBVd1xPS+DBBX7o3G8Mew"
    },
    "kernelspec": {
      "name": "python3",
      "display_name": "Python 3"
    },
    "language_info": {
      "name": "python"
    }
  },
  "cells": [
    {
      "cell_type": "markdown",
      "source": [
        "[Reference](https://faun.pub/missing-data-in-python-no-problem-a7b8d7c91a0a)"
      ],
      "metadata": {
        "id": "E5rXPqH4vQJ9"
      }
    },
    {
      "cell_type": "markdown",
      "source": [
        "# Creating a Sample Dataset"
      ],
      "metadata": {
        "id": "SDeaVPf5vapD"
      }
    },
    {
      "cell_type": "code",
      "execution_count": 1,
      "metadata": {
        "colab": {
          "base_uri": "https://localhost:8080/"
        },
        "id": "Y8JLewLNvG3c",
        "outputId": "5b9b5ab9-9a5d-44a2-dbc5-03b92847a55a"
      },
      "outputs": [
        {
          "output_type": "stream",
          "name": "stdout",
          "text": [
            "Sample DataFrame:\n",
            "       Name   Age   Salary\n",
            "0    Alice  25.0  50000.0\n",
            "1      Bob   NaN  54000.0\n",
            "2  Charlie  30.0      NaN\n",
            "3    David   NaN  62000.0\n",
            "4      Eve  28.0  58000.0\n"
          ]
        }
      ],
      "source": [
        "import pandas as pd\n",
        "import numpy as np\n",
        "\n",
        "# Creating a sample dataset\n",
        "data = {\n",
        "    'Name': ['Alice', 'Bob', 'Charlie', 'David', 'Eve'],\n",
        "    'Age': [25, np.nan, 30, np.nan, 28],\n",
        "    'Salary': [50000, 54000, np.nan, 62000, 58000]\n",
        "}\n",
        "df = pd.DataFrame(data)\n",
        "\n",
        "print(\"Sample DataFrame:\\n\", df)"
      ]
    },
    {
      "cell_type": "markdown",
      "source": [
        "# Total sum of Missing Values"
      ],
      "metadata": {
        "id": "qw4fiI1Hvbz2"
      }
    },
    {
      "cell_type": "code",
      "source": [
        "import pandas as pd\n",
        "import numpy as np\n",
        "\n",
        "# Creating a sample dataset\n",
        "data = {\n",
        "    'Name': ['Alice', 'Bob', 'Charlie', 'David', 'Eve'],\n",
        "    'Age': [25, np.nan, 30, np.nan, 28],\n",
        "    'Salary': [50000, 54000, np.nan, 62000, 58000]\n",
        "}\n",
        "df = pd.DataFrame(data)\n",
        "\n",
        "# print(\"Sample DataFrame:\\n\", df)\n",
        "# Calculating the total number of null values in the DataFrame\n",
        "total_null_values = df.isnull().sum().sum()\n",
        "\n",
        "\n",
        "print(\"Total number of null values in the DataFrame:\", total_null_values)"
      ],
      "metadata": {
        "colab": {
          "base_uri": "https://localhost:8080/"
        },
        "id": "92V8qIxDvS5j",
        "outputId": "5c3d6812-585c-4b7b-a15a-1d92c133c2a5"
      },
      "execution_count": 3,
      "outputs": [
        {
          "output_type": "stream",
          "name": "stdout",
          "text": [
            "Total number of null values in the DataFrame: 3\n"
          ]
        }
      ]
    },
    {
      "cell_type": "markdown",
      "source": [
        "# Total sum of Missing Values in Each Column"
      ],
      "metadata": {
        "id": "Pt6taUkCvejx"
      }
    },
    {
      "cell_type": "code",
      "source": [
        "import pandas as pd\n",
        "import numpy as np\n",
        "\n",
        "# Creating a sample dataset\n",
        "data = {\n",
        "    'Name': ['Alice', 'Bob', 'Charlie', 'David', 'Eve'],\n",
        "    'Age': [25, np.nan, 30, np.nan, 28],\n",
        "    'Salary': [50000, 54000, np.nan, 62000, 58000]\n",
        "}\n",
        "df = pd.DataFrame(data)\n",
        "\n",
        "# print(\"Sample DataFrame:\\n\", df)\n",
        "\n",
        "\n",
        "\n",
        "# Summing up all the null values in each column\n",
        "null_values_sum = df.isnull().sum()\n",
        "\n",
        "\n",
        "print(\"Sum of null values in each column:\\n\", null_values_sum)"
      ],
      "metadata": {
        "colab": {
          "base_uri": "https://localhost:8080/"
        },
        "id": "LdSYYwv4vT1b",
        "outputId": "f6697650-46ce-40e7-d45c-740325928a42"
      },
      "execution_count": 4,
      "outputs": [
        {
          "output_type": "stream",
          "name": "stdout",
          "text": [
            "Sum of null values in each column:\n",
            " Name      0\n",
            "Age       2\n",
            "Salary    1\n",
            "dtype: int64\n"
          ]
        }
      ]
    },
    {
      "cell_type": "markdown",
      "source": [
        "# Checking the Percentage of Missing Values"
      ],
      "metadata": {
        "id": "vBVN5foKvgHI"
      }
    },
    {
      "cell_type": "code",
      "source": [
        "# Percentage of missing values per column\n",
        "missing_percentage = (df.isnull().sum() / len(df)) * 100\n",
        "print(\"\\nPercentage of missing values per column:\\n\", missing_percentage)"
      ],
      "metadata": {
        "colab": {
          "base_uri": "https://localhost:8080/"
        },
        "id": "XW1D-hfqvVrC",
        "outputId": "f191df84-16cd-48a9-a00c-a72da4baf7c0"
      },
      "execution_count": 5,
      "outputs": [
        {
          "output_type": "stream",
          "name": "stdout",
          "text": [
            "\n",
            "Percentage of missing values per column:\n",
            " Name       0.0\n",
            "Age       40.0\n",
            "Salary    20.0\n",
            "dtype: float64\n"
          ]
        }
      ]
    },
    {
      "cell_type": "markdown",
      "source": [
        "# Dropping Missing Values"
      ],
      "metadata": {
        "id": "uZVVzpNfviVg"
      }
    },
    {
      "cell_type": "code",
      "source": [
        "# Drop rows with any missing values\n",
        "df_dropped_rows = df.dropna()\n",
        "print(\"\\nDataFrame after dropping rows with missing values:\\n\", df_dropped_rows)"
      ],
      "metadata": {
        "colab": {
          "base_uri": "https://localhost:8080/"
        },
        "id": "5L2BFrtZvhVo",
        "outputId": "1af6a590-df92-4af9-b945-09c49140d4c3"
      },
      "execution_count": 6,
      "outputs": [
        {
          "output_type": "stream",
          "name": "stdout",
          "text": [
            "\n",
            "DataFrame after dropping rows with missing values:\n",
            "     Name   Age   Salary\n",
            "0  Alice  25.0  50000.0\n",
            "4    Eve  28.0  58000.0\n"
          ]
        }
      ]
    },
    {
      "cell_type": "code",
      "source": [
        "# Drop columns with any missing values\n",
        "df_dropped_columns = df.dropna(axis=1)\n",
        "print(\"\\nDataFrame after dropping columns with missing values:\\n\", df_dropped_columns)"
      ],
      "metadata": {
        "colab": {
          "base_uri": "https://localhost:8080/"
        },
        "id": "vYFpeSI7vjew",
        "outputId": "4dd93746-b1de-45f7-f368-02e96cbf2cc7"
      },
      "execution_count": 7,
      "outputs": [
        {
          "output_type": "stream",
          "name": "stdout",
          "text": [
            "\n",
            "DataFrame after dropping columns with missing values:\n",
            "       Name\n",
            "0    Alice\n",
            "1      Bob\n",
            "2  Charlie\n",
            "3    David\n",
            "4      Eve\n"
          ]
        }
      ]
    },
    {
      "cell_type": "markdown",
      "source": [
        "# Filling Missing Values"
      ],
      "metadata": {
        "id": "VOJCgo1GvmH3"
      }
    },
    {
      "cell_type": "code",
      "source": [
        "# Fill missing values with a specific value\n",
        "df_filled_zero = df.fillna(0)\n",
        "print(\"\\nDataFrame after filling missing values with 0:\\n\", df_filled_zero)"
      ],
      "metadata": {
        "colab": {
          "base_uri": "https://localhost:8080/"
        },
        "id": "_bTVqqErvk3d",
        "outputId": "61b594cf-24a9-4168-bb61-32b7fc65dce7"
      },
      "execution_count": 8,
      "outputs": [
        {
          "output_type": "stream",
          "name": "stdout",
          "text": [
            "\n",
            "DataFrame after filling missing values with 0:\n",
            "       Name   Age   Salary\n",
            "0    Alice  25.0  50000.0\n",
            "1      Bob   0.0  54000.0\n",
            "2  Charlie  30.0      0.0\n",
            "3    David   0.0  62000.0\n",
            "4      Eve  28.0  58000.0\n"
          ]
        }
      ]
    },
    {
      "cell_type": "code",
      "source": [
        "# Fill missing values with the mean of the column\n",
        "df_filled_mean = df.copy()\n",
        "df_filled_mean['Age'].fillna(df['Age'].mean(), inplace=True)\n",
        "print(\"\\nDataFrame after filling 'Age' missing values with mean:\\n\", df_filled_mean)\n",
        "\n",
        "# Sometimes you might need to use np.mean instead of .mean()\n",
        "\n",
        "# Fill missing values with the mean of the 'Age' column using np.mean\n",
        "df_filled_mean = df.copy()\n",
        "df_filled_mean['Age'].fillna(np.mean(df['Age']), inplace=True)\n",
        "print(\"\\nDataFrame after filling 'Age' missing values with mean:\\n\", df_filled_mean)"
      ],
      "metadata": {
        "colab": {
          "base_uri": "https://localhost:8080/"
        },
        "id": "W61BFbN9vnfs",
        "outputId": "3d257301-d188-4dd0-9fd9-f91fa97c63d2"
      },
      "execution_count": 9,
      "outputs": [
        {
          "output_type": "stream",
          "name": "stdout",
          "text": [
            "\n",
            "DataFrame after filling 'Age' missing values with mean:\n",
            "       Name        Age   Salary\n",
            "0    Alice  25.000000  50000.0\n",
            "1      Bob  27.666667  54000.0\n",
            "2  Charlie  30.000000      NaN\n",
            "3    David  27.666667  62000.0\n",
            "4      Eve  28.000000  58000.0\n",
            "\n",
            "DataFrame after filling 'Age' missing values with mean:\n",
            "       Name        Age   Salary\n",
            "0    Alice  25.000000  50000.0\n",
            "1      Bob  27.666667  54000.0\n",
            "2  Charlie  30.000000      NaN\n",
            "3    David  27.666667  62000.0\n",
            "4      Eve  28.000000  58000.0\n"
          ]
        },
        {
          "output_type": "stream",
          "name": "stderr",
          "text": [
            "<ipython-input-9-4a581817a27a>:3: FutureWarning: A value is trying to be set on a copy of a DataFrame or Series through chained assignment using an inplace method.\n",
            "The behavior will change in pandas 3.0. This inplace method will never work because the intermediate object on which we are setting values always behaves as a copy.\n",
            "\n",
            "For example, when doing 'df[col].method(value, inplace=True)', try using 'df.method({col: value}, inplace=True)' or df[col] = df[col].method(value) instead, to perform the operation inplace on the original object.\n",
            "\n",
            "\n",
            "  df_filled_mean['Age'].fillna(df['Age'].mean(), inplace=True)\n",
            "<ipython-input-9-4a581817a27a>:10: FutureWarning: A value is trying to be set on a copy of a DataFrame or Series through chained assignment using an inplace method.\n",
            "The behavior will change in pandas 3.0. This inplace method will never work because the intermediate object on which we are setting values always behaves as a copy.\n",
            "\n",
            "For example, when doing 'df[col].method(value, inplace=True)', try using 'df.method({col: value}, inplace=True)' or df[col] = df[col].method(value) instead, to perform the operation inplace on the original object.\n",
            "\n",
            "\n",
            "  df_filled_mean['Age'].fillna(np.mean(df['Age']), inplace=True)\n"
          ]
        }
      ]
    },
    {
      "cell_type": "code",
      "source": [
        "# Forward fill (fill missing values with previous row's value)\n",
        "df_ffill = df.fillna(method='ffill')\n",
        "print(\"\\nDataFrame after forward fill:\\n\", df_ffill)\n",
        "\n",
        "# Backward fill (fill missing values with next row's value)\n",
        "df_bfill = df.fillna(method='bfill')\n",
        "print(\"\\nDataFrame after backward fill:\\n\", df_bfill)"
      ],
      "metadata": {
        "colab": {
          "base_uri": "https://localhost:8080/"
        },
        "id": "PzkO8DmqvoqH",
        "outputId": "3d63a2c3-e37d-4ae8-f3b7-2c8d92edd104"
      },
      "execution_count": 10,
      "outputs": [
        {
          "output_type": "stream",
          "name": "stdout",
          "text": [
            "\n",
            "DataFrame after forward fill:\n",
            "       Name   Age   Salary\n",
            "0    Alice  25.0  50000.0\n",
            "1      Bob  25.0  54000.0\n",
            "2  Charlie  30.0  54000.0\n",
            "3    David  30.0  62000.0\n",
            "4      Eve  28.0  58000.0\n",
            "\n",
            "DataFrame after backward fill:\n",
            "       Name   Age   Salary\n",
            "0    Alice  25.0  50000.0\n",
            "1      Bob  30.0  54000.0\n",
            "2  Charlie  30.0  62000.0\n",
            "3    David  28.0  62000.0\n",
            "4      Eve  28.0  58000.0\n"
          ]
        },
        {
          "output_type": "stream",
          "name": "stderr",
          "text": [
            "<ipython-input-10-d776695405e6>:2: FutureWarning: DataFrame.fillna with 'method' is deprecated and will raise in a future version. Use obj.ffill() or obj.bfill() instead.\n",
            "  df_ffill = df.fillna(method='ffill')\n",
            "<ipython-input-10-d776695405e6>:6: FutureWarning: DataFrame.fillna with 'method' is deprecated and will raise in a future version. Use obj.ffill() or obj.bfill() instead.\n",
            "  df_bfill = df.fillna(method='bfill')\n"
          ]
        }
      ]
    },
    {
      "cell_type": "markdown",
      "source": [
        "# Using Interpolation for Numerical Data"
      ],
      "metadata": {
        "id": "LSlMXZwJvrLO"
      }
    },
    {
      "cell_type": "code",
      "source": [
        "# Interpolate missing values\n",
        "df_interpolated = df.interpolate()\n",
        "print(\"\\nDataFrame after interpolation:\\n\", df_interpolated)"
      ],
      "metadata": {
        "colab": {
          "base_uri": "https://localhost:8080/"
        },
        "id": "1CXj2HvsvqCO",
        "outputId": "618bc6f8-9828-4c52-9d3b-dffa62f26d8c"
      },
      "execution_count": 11,
      "outputs": [
        {
          "output_type": "stream",
          "name": "stdout",
          "text": [
            "\n",
            "DataFrame after interpolation:\n",
            "       Name   Age   Salary\n",
            "0    Alice  25.0  50000.0\n",
            "1      Bob  27.5  54000.0\n",
            "2  Charlie  30.0  58000.0\n",
            "3    David  29.0  62000.0\n",
            "4      Eve  28.0  58000.0\n"
          ]
        },
        {
          "output_type": "stream",
          "name": "stderr",
          "text": [
            "<ipython-input-11-3b19db0f75b4>:2: FutureWarning: DataFrame.interpolate with object dtype is deprecated and will raise in a future version. Call obj.infer_objects(copy=False) before interpolating instead.\n",
            "  df_interpolated = df.interpolate()\n"
          ]
        }
      ]
    },
    {
      "cell_type": "markdown",
      "source": [
        "# Using Scikit-Learn’s Imputer for Machine Learning"
      ],
      "metadata": {
        "id": "aRObJrulvt97"
      }
    },
    {
      "cell_type": "code",
      "source": [
        "from sklearn.impute import SimpleImputer\n",
        "\n",
        "# Impute missing values in the Salary column with the median\n",
        "imputer = SimpleImputer(strategy='median')\n",
        "df[['Salary']] = imputer.fit_transform(df[['Salary']])\n",
        "\n",
        "print(\"\\nDataFrame after imputing 'Salary' with median:\\n\", df)"
      ],
      "metadata": {
        "colab": {
          "base_uri": "https://localhost:8080/"
        },
        "id": "9anEc12WvtOc",
        "outputId": "24738a6f-b10d-4b09-9ea3-f061e9bda1c6"
      },
      "execution_count": 12,
      "outputs": [
        {
          "output_type": "stream",
          "name": "stdout",
          "text": [
            "\n",
            "DataFrame after imputing 'Salary' with median:\n",
            "       Name   Age   Salary\n",
            "0    Alice  25.0  50000.0\n",
            "1      Bob   NaN  54000.0\n",
            "2  Charlie  30.0  56000.0\n",
            "3    David   NaN  62000.0\n",
            "4      Eve  28.0  58000.0\n"
          ]
        }
      ]
    },
    {
      "cell_type": "code",
      "source": [],
      "metadata": {
        "id": "JhDGYxtIvvig"
      },
      "execution_count": null,
      "outputs": []
    }
  ]
}