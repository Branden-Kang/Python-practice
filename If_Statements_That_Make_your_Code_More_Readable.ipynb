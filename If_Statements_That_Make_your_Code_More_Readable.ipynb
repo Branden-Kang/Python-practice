{
  "nbformat": 4,
  "nbformat_minor": 0,
  "metadata": {
    "colab": {
      "name": "If Statements That Make your Code More Readable.ipynb",
      "provenance": [],
      "authorship_tag": "ABX9TyNEQwXFq+iOiiLKMHcBPOMz"
    },
    "kernelspec": {
      "name": "python3",
      "display_name": "Python 3"
    }
  },
  "cells": [
    {
      "cell_type": "markdown",
      "metadata": {
        "id": "Atd9Edti8T4X"
      },
      "source": [
        "[Reference](https://medium.com/swlh/3-alternatives-to-if-statements-to-make-your-python-code-more-readable-91a9991fb353)"
      ]
    },
    {
      "cell_type": "markdown",
      "metadata": {
        "id": "Yqx-c-Pa8ix1"
      },
      "source": [
        "Don't repeat yourself"
      ]
    },
    {
      "cell_type": "markdown",
      "metadata": {
        "id": "nIrQw8kI8dJI"
      },
      "source": [
        "## The Bad way"
      ]
    },
    {
      "cell_type": "code",
      "metadata": {
        "id": "hidB_ZjL8SNS"
      },
      "source": [
        "user_type = \"regular\"\n",
        "\n",
        "if user_type == \"admin\" or user_type == \"superadmin\" or user_type == \"moderator\":\n",
        "  give_access()"
      ],
      "execution_count": 1,
      "outputs": []
    },
    {
      "cell_type": "markdown",
      "metadata": {
        "id": "419es2G28fDE"
      },
      "source": [
        "## The Better way"
      ]
    },
    {
      "cell_type": "code",
      "metadata": {
        "id": "HeUYr_L78X0k"
      },
      "source": [
        "user_type = \"regular\"\n",
        "\n",
        "allowed_user_types = [\"admin\", \"superadmin\", \"moderator\"]\n",
        "\n",
        "if user_type in allowed_user_types:\n",
        "  give_access()"
      ],
      "execution_count": 2,
      "outputs": []
    },
    {
      "cell_type": "markdown",
      "metadata": {
        "id": "ROjAwMEp8opn"
      },
      "source": [
        "# Use a dictionary!"
      ]
    },
    {
      "cell_type": "code",
      "metadata": {
        "id": "6H6sAxzO8cO0"
      },
      "source": [
        "def show_info_about_item(chosen_item=\"phone\"):\n",
        "  if chosen_item == \"phone\":\n",
        "    return \"Handheld communication device\"\n",
        "  elif chosen_item == \"car\":\n",
        "    return \"Self-propelled ground vehicle\"\n",
        "  elif chosen_item == \"dinosaur\":\n",
        "    return \"Extinct lizard\"\n",
        "  else:\n",
        "    return \"No info available\""
      ],
      "execution_count": 3,
      "outputs": []
    },
    {
      "cell_type": "code",
      "metadata": {
        "id": "JgwCVaUI8qiJ"
      },
      "source": [
        "def show_info_about_item(chosen_item=\"phone\"):\n",
        "  info_dict = {\n",
        "    \"phone\": \"Handheld communication device\",\n",
        "    \"car\": \"Self-propelled ground vehicle\",\n",
        "    \"dinosaur\": \"Extinct lizard\"\n",
        "  }\n",
        "  \n",
        "  return info_dict.get(chosen_item, \"No info available\")"
      ],
      "execution_count": 4,
      "outputs": []
    },
    {
      "cell_type": "code",
      "metadata": {
        "id": "_8lDdCCv8sfH"
      },
      "source": [
        "def add_one(x):\n",
        "  return x + 1\n",
        "\n",
        "def divide_by_two(x):\n",
        "  return x/2\n",
        "\n",
        "def square(x):\n",
        "  return x**2\n",
        "\n",
        "# The not-so-good way:\n",
        "def perform_operation(x, chosen_operation=\"add_one\"):\n",
        "  if chosen_operation == \"add_one\":\n",
        "    x = add_one(x)\n",
        "  elif chosen_operation == \"divide_by_two\":\n",
        "    x = divide_by_two(x)\n",
        "  elif chosen_operation == \"square\":\n",
        "    x = square(x)\n",
        "  else:\n",
        "    raise Exception(\"Invalid operation\")\n",
        "  \n",
        "  return x"
      ],
      "execution_count": 5,
      "outputs": []
    },
    {
      "cell_type": "code",
      "metadata": {
        "id": "ETzEgWR78yme"
      },
      "source": [
        "def add_one(x):\n",
        "  return x + 1\n",
        "\n",
        "def divide_by_two(x):\n",
        "  return x/2\n",
        "\n",
        "def square(x):\n",
        "  return x**2\n",
        "\n",
        "def invalid_op(x):\n",
        "  raise Exception(\"Invalid operation\")\n",
        "\n",
        "# The better way:\n",
        "def perform_operation(x, chosen_operation=\"add_one\"):\n",
        "  ops = {\n",
        "    \"add_one\": add_one,\n",
        "    \"divide_by_two\": divide_by_two,\n",
        "    \"square\": square\n",
        "  }\n",
        "  \n",
        "  chosen_operation_function = ops.get(chosen_operation, invalid_op)\n",
        "  \n",
        "  return chosen_operation_function(x)"
      ],
      "execution_count": 6,
      "outputs": []
    },
    {
      "cell_type": "markdown",
      "metadata": {
        "id": "RpTqSw2I84OP"
      },
      "source": [
        "# custom arguments"
      ]
    },
    {
      "cell_type": "code",
      "metadata": {
        "colab": {
          "base_uri": "https://localhost:8080/",
          "height": 37
        },
        "id": "4zIK1bNf80_D",
        "outputId": "afb063e0-fb81-44e2-d6dc-0afe21cb281d"
      },
      "source": [
        "def user_print(user_name, user_type=\"regular\", user_logged_in=False):\n",
        "  return f\"{user_name} is a(n) {user_type} user and they are {'not ' if not user_logged_in else ''}logged in.\"\n",
        "\n",
        "\n",
        "# 1. Without dictionary unpacking:\n",
        "user_print(user_name=\"testuser1\", user_type=\"admin\", user_logged_in=True)\n",
        "\n",
        "# 2. With dictionary unpacking:\n",
        "args = {\n",
        "  \"user_name\": \"testuser1\",\n",
        "  \"user_type\": \"admin\",\n",
        "  \"user_logged_in\": True\n",
        "}\n",
        "user_print(**args)"
      ],
      "execution_count": 7,
      "outputs": [
        {
          "output_type": "execute_result",
          "data": {
            "application/vnd.google.colaboratory.intrinsic+json": {
              "type": "string"
            },
            "text/plain": [
              "'testuser1 is a(n) admin user and they are logged in.'"
            ]
          },
          "metadata": {
            "tags": []
          },
          "execution_count": 7
        }
      ]
    },
    {
      "cell_type": "code",
      "metadata": {
        "id": "SK9csXr785s2"
      },
      "source": [
        "def add(x, to=1):\n",
        "  return x + to\n",
        "\n",
        "def divide(x, by=2):\n",
        "  return x/by\n",
        "\n",
        "def square(x):\n",
        "  return x**2\n",
        "\n",
        "def invalid_op(x):\n",
        "  raise Exception(\"Invalid operation\")\n",
        "\n",
        "def perform_operation(x, chosen_operation, operation_args={}):\n",
        "  ops = {\n",
        "    \"add\": add,\n",
        "    \"divide\": divide,\n",
        "    \"square\": square\n",
        "  }\n",
        "  \n",
        "  chosen_operation_function = ops.get(chosen_operation, invalid_op)\n",
        "  \n",
        "  return chosen_operation_function(x, **operation_args)\n",
        "  \n",
        "def example_usage():\n",
        "  x = 1\n",
        "  x = perform_operation(x, \"add\", {\"to\": 4}) # Adds 4\n",
        "  x = perform_operation(x, \"add\") # Adds 1 since that's the default for 'add'\n",
        "  x = perform_operation(x, \"divide\", {\"by\": 2}) # Divides by 2\n",
        "  x = perform_operation(x, \"square\") # Squares the number"
      ],
      "execution_count": 8,
      "outputs": []
    }
  ]
}