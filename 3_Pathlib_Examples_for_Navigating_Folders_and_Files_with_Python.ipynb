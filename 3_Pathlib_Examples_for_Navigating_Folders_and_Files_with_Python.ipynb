{
  "nbformat": 4,
  "nbformat_minor": 0,
  "metadata": {
    "colab": {
      "name": "3 Pathlib Examples for Navigating Folders and Files with Python.ipynb",
      "provenance": [],
      "authorship_tag": "ABX9TyNkndc+P46jFuVhNQzeMYaH"
    },
    "kernelspec": {
      "name": "python3",
      "display_name": "Python 3"
    },
    "language_info": {
      "name": "python"
    }
  },
  "cells": [
    {
      "cell_type": "markdown",
      "metadata": {
        "id": "y6P8gfhzOjd6"
      },
      "source": [
        "[Reference](https://medium.com/short-bits/3-pathlib-examples-for-navigating-folders-and-files-with-python-9954f0333e64)"
      ]
    },
    {
      "cell_type": "markdown",
      "metadata": {
        "id": "KXzQIQbIO8WJ"
      },
      "source": [
        "# Find Files in Folder Tree\n"
      ]
    },
    {
      "cell_type": "code",
      "metadata": {
        "id": "etIJ7nABOa5l"
      },
      "source": [
        "from pathlib import Path\n",
        "\n",
        "def find_fiels(name: str, path: Path):\n",
        "    if all((path, path.is_file(), name in path.name)):\n",
        "        yield path\n",
        "    elif path and path.is_dir():\n",
        "        for p in path.iterdir():\n",
        "            yield from find_files(name=name, path=p.absolute())\n",
        "\n",
        "for path in find_files(\"example\", Path(\".\")):\n",
        "    print(path)"
      ],
      "execution_count": 1,
      "outputs": []
    },
    {
      "cell_type": "markdown",
      "metadata": {
        "id": "GX_tyz07O-ih"
      },
      "source": [
        "# Create a File Within Non-Existing Folders\n"
      ]
    },
    {
      "cell_type": "code",
      "metadata": {
        "id": "XZPnUrVXO4MD"
      },
      "source": [
        "p = Path(\"./docs/getting-started/page-1.md\")\n",
        "p.parent.mkdir(parents=True, exist_ok=True)\n",
        "p.absolute().write_text(\"welcome to the getting started page!\", encoding=\"utf-8\")"
      ],
      "execution_count": 2,
      "outputs": []
    },
    {
      "cell_type": "markdown",
      "metadata": {
        "id": "sn1MgBsBPMjG"
      },
      "source": [
        "# Find Relative Paths from full ones\n"
      ]
    },
    {
      "cell_type": "code",
      "metadata": {
        "id": "phkzJoJ_PLHV"
      },
      "source": [
        "p1 = Path(\"./docs/\")\n",
        "p2 = Path(\"./docs/getting-started/page-1.md\")\n",
        "print(p2.relative_to(p1))"
      ],
      "execution_count": 4,
      "outputs": []
    }
  ]
}