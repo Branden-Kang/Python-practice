{
  "nbformat": 4,
  "nbformat_minor": 0,
  "metadata": {
    "colab": {
      "name": "Python Code Bug free.ipynb",
      "provenance": [],
      "authorship_tag": "ABX9TyPIGHRgkrpbGhTB3VID0Y32"
    },
    "kernelspec": {
      "name": "python3",
      "display_name": "Python 3"
    }
  },
  "cells": [
    {
      "cell_type": "markdown",
      "metadata": {
        "id": "P-UxbZdhswt4",
        "colab_type": "text"
      },
      "source": [
        "[Reference](https://medium.com/@gaganmanku96/make-your-python-code-bug-free-ce917d0705b5)"
      ]
    },
    {
      "cell_type": "markdown",
      "metadata": {
        "id": "d1RlsUHhszZd",
        "colab_type": "text"
      },
      "source": [
        "# Passing arguments to a method"
      ]
    },
    {
      "cell_type": "code",
      "metadata": {
        "id": "lCm1NPNMsXpa",
        "colab_type": "code",
        "colab": {}
      },
      "source": [
        "def add(first_value: int, second_value: int):\n",
        "    pass"
      ],
      "execution_count": 1,
      "outputs": []
    },
    {
      "cell_type": "markdown",
      "metadata": {
        "id": "L-IQGYq9s1bI",
        "colab_type": "text"
      },
      "source": [
        "# Returning Values from a method"
      ]
    },
    {
      "cell_type": "code",
      "metadata": {
        "id": "uDd-o1QOs0la",
        "colab_type": "code",
        "colab": {}
      },
      "source": [
        "# def add(first_value: int, second_value: int) -> int:\n",
        "#     return first_value + second value"
      ],
      "execution_count": 5,
      "outputs": []
    },
    {
      "cell_type": "markdown",
      "metadata": {
        "id": "pkhjnfgts7Zq",
        "colab_type": "text"
      },
      "source": [
        "# When you are returning multiple values"
      ]
    },
    {
      "cell_type": "code",
      "metadata": {
        "id": "dJBFrEkMs6Df",
        "colab_type": "code",
        "colab": {}
      },
      "source": [
        "from typing import Tuple\n",
        "def add(first_value: int, second_value: int) -> Tuple[int, int]:\n",
        "    print(f\"Sum = {first_value+second_value}\")\n",
        "    return first_value, second_value"
      ],
      "execution_count": 3,
      "outputs": []
    },
    {
      "cell_type": "code",
      "metadata": {
        "id": "frUrA9S0s-Jy",
        "colab_type": "code",
        "colab": {}
      },
      "source": [
        "# from typing import Union\n",
        "# def add(first_value: int, second_value: int) -> Union(int, bool):\n",
        "#     if first_value == 0:\n",
        "#         return False\n",
        "#     return first_value + second_value"
      ],
      "execution_count": 6,
      "outputs": []
    }
  ]
}