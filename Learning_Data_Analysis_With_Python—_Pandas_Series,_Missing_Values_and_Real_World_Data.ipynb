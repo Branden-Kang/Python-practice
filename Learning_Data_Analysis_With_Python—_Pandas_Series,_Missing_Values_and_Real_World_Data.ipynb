{
  "nbformat": 4,
  "nbformat_minor": 0,
  "metadata": {
    "colab": {
      "name": "Learning Data Analysis With Python— Pandas Series, Missing Values and Real World Data.ipynb",
      "provenance": [],
      "authorship_tag": "ABX9TyPoYMc0xAS0pJoMjLzfEylP"
    },
    "kernelspec": {
      "name": "python3",
      "display_name": "Python 3"
    },
    "language_info": {
      "name": "python"
    }
  },
  "cells": [
    {
      "cell_type": "markdown",
      "metadata": {
        "id": "x-eYiDpI1EHL"
      },
      "source": [
        "[Reference](https://medium.com/byte-tales/learning-data-analysis-with-python-pandas-series-missing-values-and-real-world-data-41caf0795f68)"
      ]
    },
    {
      "cell_type": "code",
      "metadata": {
        "id": "jo04-ujl1bKE"
      },
      "source": [
        "import pandas as pd"
      ],
      "execution_count": 2,
      "outputs": []
    },
    {
      "cell_type": "code",
      "metadata": {
        "colab": {
          "base_uri": "https://localhost:8080/"
        },
        "id": "ElHDl0ax1CFf",
        "outputId": "50389605-6fae-4eb7-f17f-0974d724eeb8"
      },
      "source": [
        "s = pd.Series([0.0, 1, 1, 2, 3, 5, 8], index=[1, 2, 3, 4, 5, 6, 7])\n",
        "s"
      ],
      "execution_count": 3,
      "outputs": [
        {
          "output_type": "execute_result",
          "data": {
            "text/plain": [
              "1    0.0\n",
              "2    1.0\n",
              "3    1.0\n",
              "4    2.0\n",
              "5    3.0\n",
              "6    5.0\n",
              "7    8.0\n",
              "dtype: float64"
            ]
          },
          "metadata": {
            "tags": []
          },
          "execution_count": 3
        }
      ]
    },
    {
      "cell_type": "code",
      "metadata": {
        "colab": {
          "base_uri": "https://localhost:8080/"
        },
        "id": "uVVbj6b-1XyJ",
        "outputId": "56290e0d-c164-453f-c6aa-b4ad52b599cf"
      },
      "source": [
        "s.loc[3]"
      ],
      "execution_count": 4,
      "outputs": [
        {
          "output_type": "execute_result",
          "data": {
            "text/plain": [
              "1.0"
            ]
          },
          "metadata": {
            "tags": []
          },
          "execution_count": 4
        }
      ]
    },
    {
      "cell_type": "code",
      "metadata": {
        "colab": {
          "base_uri": "https://localhost:8080/"
        },
        "id": "cAKcaWdX1er-",
        "outputId": "061c0709-9011-4ec9-8a9f-00baa6bf1a7b"
      },
      "source": [
        "s.iloc[3]"
      ],
      "execution_count": 5,
      "outputs": [
        {
          "output_type": "execute_result",
          "data": {
            "text/plain": [
              "2.0"
            ]
          },
          "metadata": {
            "tags": []
          },
          "execution_count": 5
        }
      ]
    },
    {
      "cell_type": "code",
      "metadata": {
        "colab": {
          "base_uri": "https://localhost:8080/",
          "height": 266
        },
        "id": "CCb2ML2b1fUp",
        "outputId": "dc8a5f89-645e-401b-e5e9-cfe3cf9beb92"
      },
      "source": [
        "s.reset_index()"
      ],
      "execution_count": 6,
      "outputs": [
        {
          "output_type": "execute_result",
          "data": {
            "text/html": [
              "<div>\n",
              "<style scoped>\n",
              "    .dataframe tbody tr th:only-of-type {\n",
              "        vertical-align: middle;\n",
              "    }\n",
              "\n",
              "    .dataframe tbody tr th {\n",
              "        vertical-align: top;\n",
              "    }\n",
              "\n",
              "    .dataframe thead th {\n",
              "        text-align: right;\n",
              "    }\n",
              "</style>\n",
              "<table border=\"1\" class=\"dataframe\">\n",
              "  <thead>\n",
              "    <tr style=\"text-align: right;\">\n",
              "      <th></th>\n",
              "      <th>index</th>\n",
              "      <th>0</th>\n",
              "    </tr>\n",
              "  </thead>\n",
              "  <tbody>\n",
              "    <tr>\n",
              "      <th>0</th>\n",
              "      <td>1</td>\n",
              "      <td>0.0</td>\n",
              "    </tr>\n",
              "    <tr>\n",
              "      <th>1</th>\n",
              "      <td>2</td>\n",
              "      <td>1.0</td>\n",
              "    </tr>\n",
              "    <tr>\n",
              "      <th>2</th>\n",
              "      <td>3</td>\n",
              "      <td>1.0</td>\n",
              "    </tr>\n",
              "    <tr>\n",
              "      <th>3</th>\n",
              "      <td>4</td>\n",
              "      <td>2.0</td>\n",
              "    </tr>\n",
              "    <tr>\n",
              "      <th>4</th>\n",
              "      <td>5</td>\n",
              "      <td>3.0</td>\n",
              "    </tr>\n",
              "    <tr>\n",
              "      <th>5</th>\n",
              "      <td>6</td>\n",
              "      <td>5.0</td>\n",
              "    </tr>\n",
              "    <tr>\n",
              "      <th>6</th>\n",
              "      <td>7</td>\n",
              "      <td>8.0</td>\n",
              "    </tr>\n",
              "  </tbody>\n",
              "</table>\n",
              "</div>"
            ],
            "text/plain": [
              "   index    0\n",
              "0      1  0.0\n",
              "1      2  1.0\n",
              "2      3  1.0\n",
              "3      4  2.0\n",
              "4      5  3.0\n",
              "5      6  5.0\n",
              "6      7  8.0"
            ]
          },
          "metadata": {
            "tags": []
          },
          "execution_count": 6
        }
      ]
    },
    {
      "cell_type": "code",
      "metadata": {
        "colab": {
          "base_uri": "https://localhost:8080/"
        },
        "id": "uWkDu7G41hIl",
        "outputId": "e233640d-d1e6-4617-b2ee-7910cd06d178"
      },
      "source": [
        "mass = pd.Series([0.33, 4.87, 5.97, 0.642, 1898, 568, 86.8, 102, 0.0146],index=['Mercury', 'Venus', 'Earth', 'Mars', 'Jupiter', 'Saturn', 'Uranus', 'Neptune', 'Pluto'])\n",
        "print(mass)"
      ],
      "execution_count": 8,
      "outputs": [
        {
          "output_type": "stream",
          "text": [
            "Mercury       0.3300\n",
            "Venus         4.8700\n",
            "Earth         5.9700\n",
            "Mars          0.6420\n",
            "Jupiter    1898.0000\n",
            "Saturn      568.0000\n",
            "Uranus       86.8000\n",
            "Neptune     102.0000\n",
            "Pluto         0.0146\n",
            "dtype: float64\n"
          ],
          "name": "stdout"
        }
      ]
    },
    {
      "cell_type": "code",
      "metadata": {
        "colab": {
          "base_uri": "https://localhost:8080/"
        },
        "id": "e41adLTP10BO",
        "outputId": "ac529c34-2dfc-4c60-c03c-aa87b928cafd"
      },
      "source": [
        "diameter = pd.Series([4879, 12104, 12756, 3475, 6792, 142984, 120536, 51118, 49528, 2370],index=['Mercury', 'Venus', 'Earth', 'Moon', 'Mars', 'Jupiter', 'Saturn',  'Uranus', 'Neptune', 'Pluto'])    \n",
        "print(diameter)"
      ],
      "execution_count": 9,
      "outputs": [
        {
          "output_type": "stream",
          "text": [
            "Mercury      4879\n",
            "Venus       12104\n",
            "Earth       12756\n",
            "Moon         3475\n",
            "Mars         6792\n",
            "Jupiter    142984\n",
            "Saturn     120536\n",
            "Uranus      51118\n",
            "Neptune     49528\n",
            "Pluto        2370\n",
            "dtype: int64\n"
          ],
          "name": "stdout"
        }
      ]
    },
    {
      "cell_type": "code",
      "metadata": {
        "colab": {
          "base_uri": "https://localhost:8080/"
        },
        "id": "L75xHiGs14D9",
        "outputId": "64f8018d-6cbe-42aa-fd55-a30e1cbf7fad"
      },
      "source": [
        "import numpy as np\n",
        "density = mass / (np.pi * np.power(diameter, 3) / 6)\n",
        "print(density)"
      ],
      "execution_count": 11,
      "outputs": [
        {
          "output_type": "stream",
          "text": [
            "Earth      5.493286e-12\n",
            "Jupiter    1.240039e-12\n",
            "Mars       3.913302e-12\n",
            "Mercury    5.426538e-12\n",
            "Moon                NaN\n",
            "Neptune    1.603427e-12\n",
            "Pluto      2.094639e-12\n",
            "Saturn     6.194402e-13\n",
            "Uranus     1.241079e-12\n",
            "Venus      5.244977e-12\n",
            "dtype: float64\n"
          ],
          "name": "stdout"
        }
      ]
    },
    {
      "cell_type": "code",
      "metadata": {
        "colab": {
          "base_uri": "https://localhost:8080/"
        },
        "id": "ZCsNfEm8188Y",
        "outputId": "1a9558ba-4866-4037-ea05-dc71cbe773fc"
      },
      "source": [
        "pd.isna(density)"
      ],
      "execution_count": 12,
      "outputs": [
        {
          "output_type": "execute_result",
          "data": {
            "text/plain": [
              "Earth      False\n",
              "Jupiter    False\n",
              "Mars       False\n",
              "Mercury    False\n",
              "Moon        True\n",
              "Neptune    False\n",
              "Pluto      False\n",
              "Saturn     False\n",
              "Uranus     False\n",
              "Venus      False\n",
              "dtype: bool"
            ]
          },
          "metadata": {
            "tags": []
          },
          "execution_count": 12
        }
      ]
    },
    {
      "cell_type": "code",
      "metadata": {
        "colab": {
          "base_uri": "https://localhost:8080/"
        },
        "id": "C6ONND3Y2AfV",
        "outputId": "b58acf3f-5f71-4281-a1e8-50394d085d41"
      },
      "source": [
        "density[pd.isna(density)] = np.mean(density)\n",
        "print(density)"
      ],
      "execution_count": 13,
      "outputs": [
        {
          "output_type": "stream",
          "text": [
            "Earth      5.493286e-12\n",
            "Jupiter    1.240039e-12\n",
            "Mars       3.913302e-12\n",
            "Mercury    5.426538e-12\n",
            "Moon       2.986303e-12\n",
            "Neptune    1.603427e-12\n",
            "Pluto      2.094639e-12\n",
            "Saturn     6.194402e-13\n",
            "Uranus     1.241079e-12\n",
            "Venus      5.244977e-12\n",
            "dtype: float64\n"
          ],
          "name": "stdout"
        }
      ]
    }
  ]
}