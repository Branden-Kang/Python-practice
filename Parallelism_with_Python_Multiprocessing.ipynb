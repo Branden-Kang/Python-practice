{
  "nbformat": 4,
  "nbformat_minor": 0,
  "metadata": {
    "colab": {
      "name": "Parallelism with Python Multiprocessing.ipynb",
      "provenance": [],
      "authorship_tag": "ABX9TyNiOcKQXT61wb6nxv/4+XD0"
    },
    "kernelspec": {
      "name": "python3",
      "display_name": "Python 3"
    },
    "language_info": {
      "name": "python"
    }
  },
  "cells": [
    {
      "cell_type": "markdown",
      "metadata": {
        "id": "CBJhZ-T1mAR0"
      },
      "source": [
        "[Reference](https://python.plainenglish.io/parallelism-with-python-multiprocessing-50982d908388)"
      ]
    },
    {
      "cell_type": "code",
      "metadata": {
        "colab": {
          "base_uri": "https://localhost:8080/"
        },
        "id": "7Qh6f2I4jlAU",
        "outputId": "0f68cd34-7fa5-4106-b390-ea56a571df53"
      },
      "source": [
        "from datetime import datetime\n",
        "\n",
        "\n",
        "start = datetime.now()\n",
        "def loop(r):\n",
        "    for n in range(r):\n",
        "        result = (n*(n+1))/2\n",
        "    return result\n",
        "    \n",
        "ranges = [100000000, 200000000, 300000000]\n",
        "results = []\n",
        "\n",
        "if __name__ == \"__main__\":\n",
        "    for r in ranges:\n",
        "        results.append(loop(r))    \n",
        "        \n",
        "    print(f\"Result: {sum(results)}\")\n",
        "    print(f\"Time spent: {datetime.now() - start}\")"
      ],
      "execution_count": 1,
      "outputs": [
        {
          "output_type": "stream",
          "text": [
            "Result: 6.99999997e+16\n",
            "Time spent: 0:01:44.294721\n"
          ],
          "name": "stdout"
        }
      ]
    },
    {
      "cell_type": "code",
      "metadata": {
        "colab": {
          "base_uri": "https://localhost:8080/",
          "height": 793
        },
        "id": "TYrKAT1umu9V",
        "outputId": "1123f210-35eb-4327-9d1b-d4b3aa1f947d"
      },
      "source": [
        "from datetime import datetime\n",
        "import multiprocessing as mp\n",
        "import psutil\n",
        "\n",
        "start = datetime.now()\n",
        "def loop(core, r):\n",
        "    proc = psutil.Process()\n",
        "    proc.cpu_affinity([core])\n",
        "    for n in range(r):\n",
        "        result = (n*(n+1))/2\n",
        "    return result\n",
        "    \n",
        "    \n",
        "cores = [0, 1, 2]\n",
        "ranges = [100000000, 200000000, 300000000]\n",
        "results = []\n",
        "\n",
        "if __name__ == \"__main__\":\n",
        "    with mp.Pool() as pool:\n",
        "        for core in cores:\n",
        "            p = pool.apply_async(func=loop, args=(core, ranges[core],))\n",
        "            results.append(p)\n",
        "        pool.close()\n",
        "        pool.join()    \n",
        "        \n",
        "        result = 0    \n",
        "        \n",
        "        for p in results:\n",
        "            result = result + p.get()    \n",
        "            \n",
        "    print(f\"Result: {result}\")\n",
        "    print(f\"Time spent: {datetime.now() - start}\")"
      ],
      "execution_count": 2,
      "outputs": [
        {
          "output_type": "error",
          "ename": "ValueError",
          "evalue": "ignored",
          "traceback": [
            "\u001b[0;31m---------------------------------------------------------------------------\u001b[0m",
            "\u001b[0;31mRemoteTraceback\u001b[0m                           Traceback (most recent call last)",
            "\u001b[0;31mRemoteTraceback\u001b[0m: \n\"\"\"\nTraceback (most recent call last):\n  File \"/usr/local/lib/python3.7/dist-packages/psutil/_pslinux.py\", line 1931, in cpu_affinity_set\n    cext.proc_cpu_affinity_set(self.pid, cpus)\nOSError: [Errno 22] Invalid argument\n\nDuring handling of the above exception, another exception occurred:\n\nTraceback (most recent call last):\n  File \"/usr/lib/python3.7/multiprocessing/pool.py\", line 121, in worker\n    result = (True, func(*args, **kwds))\n  File \"<ipython-input-2-ea5a7423969c>\", line 8, in loop\n    proc.cpu_affinity([core])\n  File \"/usr/local/lib/python3.7/dist-packages/psutil/__init__.py\", line 813, in cpu_affinity\n    self._proc.cpu_affinity_set(list(set(cpus)))\n  File \"/usr/local/lib/python3.7/dist-packages/psutil/_pslinux.py\", line 1508, in wrapper\n    return fun(self, *args, **kwargs)\n  File \"/usr/local/lib/python3.7/dist-packages/psutil/_pslinux.py\", line 1940, in cpu_affinity_set\n    cpu, eligible_cpus))\nValueError: invalid CPU number 2; choose between [0, 1]\n\"\"\"",
            "\nThe above exception was the direct cause of the following exception:\n",
            "\u001b[0;31mValueError\u001b[0m                                Traceback (most recent call last)",
            "\u001b[0;32m<ipython-input-2-ea5a7423969c>\u001b[0m in \u001b[0;36m<module>\u001b[0;34m()\u001b[0m\n\u001b[1;32m     27\u001b[0m \u001b[0;34m\u001b[0m\u001b[0m\n\u001b[1;32m     28\u001b[0m         \u001b[0;32mfor\u001b[0m \u001b[0mp\u001b[0m \u001b[0;32min\u001b[0m \u001b[0mresults\u001b[0m\u001b[0;34m:\u001b[0m\u001b[0;34m\u001b[0m\u001b[0;34m\u001b[0m\u001b[0m\n\u001b[0;32m---> 29\u001b[0;31m             \u001b[0mresult\u001b[0m \u001b[0;34m=\u001b[0m \u001b[0mresult\u001b[0m \u001b[0;34m+\u001b[0m \u001b[0mp\u001b[0m\u001b[0;34m.\u001b[0m\u001b[0mget\u001b[0m\u001b[0;34m(\u001b[0m\u001b[0;34m)\u001b[0m\u001b[0;34m\u001b[0m\u001b[0;34m\u001b[0m\u001b[0m\n\u001b[0m\u001b[1;32m     30\u001b[0m \u001b[0;34m\u001b[0m\u001b[0m\n\u001b[1;32m     31\u001b[0m     \u001b[0mprint\u001b[0m\u001b[0;34m(\u001b[0m\u001b[0;34mf\"Result: {result}\"\u001b[0m\u001b[0;34m)\u001b[0m\u001b[0;34m\u001b[0m\u001b[0;34m\u001b[0m\u001b[0m\n",
            "\u001b[0;32m/usr/lib/python3.7/multiprocessing/pool.py\u001b[0m in \u001b[0;36mget\u001b[0;34m(self, timeout)\u001b[0m\n\u001b[1;32m    655\u001b[0m             \u001b[0;32mreturn\u001b[0m \u001b[0mself\u001b[0m\u001b[0;34m.\u001b[0m\u001b[0m_value\u001b[0m\u001b[0;34m\u001b[0m\u001b[0;34m\u001b[0m\u001b[0m\n\u001b[1;32m    656\u001b[0m         \u001b[0;32melse\u001b[0m\u001b[0;34m:\u001b[0m\u001b[0;34m\u001b[0m\u001b[0;34m\u001b[0m\u001b[0m\n\u001b[0;32m--> 657\u001b[0;31m             \u001b[0;32mraise\u001b[0m \u001b[0mself\u001b[0m\u001b[0;34m.\u001b[0m\u001b[0m_value\u001b[0m\u001b[0;34m\u001b[0m\u001b[0;34m\u001b[0m\u001b[0m\n\u001b[0m\u001b[1;32m    658\u001b[0m \u001b[0;34m\u001b[0m\u001b[0m\n\u001b[1;32m    659\u001b[0m     \u001b[0;32mdef\u001b[0m \u001b[0m_set\u001b[0m\u001b[0;34m(\u001b[0m\u001b[0mself\u001b[0m\u001b[0;34m,\u001b[0m \u001b[0mi\u001b[0m\u001b[0;34m,\u001b[0m \u001b[0mobj\u001b[0m\u001b[0;34m)\u001b[0m\u001b[0;34m:\u001b[0m\u001b[0;34m\u001b[0m\u001b[0;34m\u001b[0m\u001b[0m\n",
            "\u001b[0;31mValueError\u001b[0m: invalid CPU number 2; choose between [0, 1]"
          ]
        }
      ]
    }
  ]
}