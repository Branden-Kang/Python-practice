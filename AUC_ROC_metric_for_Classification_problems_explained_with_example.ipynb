{
  "nbformat": 4,
  "nbformat_minor": 0,
  "metadata": {
    "colab": {
      "provenance": [],
      "authorship_tag": "ABX9TyPr6IpLxqA2jBXu+RHiPzWl"
    },
    "kernelspec": {
      "name": "python3",
      "display_name": "Python 3"
    },
    "language_info": {
      "name": "python"
    }
  },
  "cells": [
    {
      "cell_type": "markdown",
      "source": [
        "[Reference](https://medium.com/data-science-in-your-pocket/auc-roc-metric-for-classification-problems-explained-with-example-4e73b2ea0c4e)"
      ],
      "metadata": {
        "id": "2keVolgFI_xO"
      }
    },
    {
      "cell_type": "code",
      "execution_count": 1,
      "metadata": {
        "colab": {
          "base_uri": "https://localhost:8080/"
        },
        "id": "bliJl4W0I9MO",
        "outputId": "392795c4-1c1a-454a-aad4-2db63702eea1"
      },
      "outputs": [
        {
          "output_type": "stream",
          "name": "stdout",
          "text": [
            "Optimal Threshold: 0.8\n"
          ]
        }
      ],
      "source": [
        "import numpy as np\n",
        "from sklearn.metrics import roc_curve\n",
        "\n",
        "# Sample data: true labels and predicted probabilities\n",
        "y_true = [0, 0, 1, 1]  # True labels\n",
        "y_scores = [0.1, 0.4, 0.35, 0.8]  # Predicted probabilities\n",
        "\n",
        "# Calculate the ROC curve\n",
        "fpr, tpr, thresholds = roc_curve(y_true, y_scores)\n",
        "\n",
        "# Calculate Youden's J statistic\n",
        "youden_j = tpr - fpr\n",
        "\n",
        "# Find the index of the maximum Youden's J statistic\n",
        "optimal_idx = np.argmax(youden_j)\n",
        "\n",
        "# Get the optimal threshold\n",
        "optimal_threshold = thresholds[optimal_idx]\n",
        "\n",
        "print(f'Optimal Threshold: {optimal_threshold}')"
      ]
    },
    {
      "cell_type": "code",
      "source": [
        "from sklearn.metrics import roc_auc_score\n",
        "\n",
        "auc = roc_auc_score(y_true, y_scores)\n",
        "print(f'AUC-ROC Score: {auc:.2f}')"
      ],
      "metadata": {
        "colab": {
          "base_uri": "https://localhost:8080/"
        },
        "id": "QG3AAxZnJWjy",
        "outputId": "e214fd72-8b9b-4949-d6fb-9e33d04738ce"
      },
      "execution_count": 2,
      "outputs": [
        {
          "output_type": "stream",
          "name": "stdout",
          "text": [
            "AUC-ROC Score: 0.75\n"
          ]
        }
      ]
    }
  ]
}