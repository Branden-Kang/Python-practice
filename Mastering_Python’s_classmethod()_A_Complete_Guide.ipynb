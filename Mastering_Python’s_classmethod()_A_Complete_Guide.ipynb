{
  "nbformat": 4,
  "nbformat_minor": 0,
  "metadata": {
    "colab": {
      "provenance": [],
      "authorship_tag": "ABX9TyPHZz/hXPKgiZeqFAfec2FO"
    },
    "kernelspec": {
      "name": "python3",
      "display_name": "Python 3"
    },
    "language_info": {
      "name": "python"
    }
  },
  "cells": [
    {
      "cell_type": "markdown",
      "source": [
        "[Reference](https://medium.com/@etirismagazine/mastering-pythons-classmethod-a-complete-guide-2f43bff51ed6)"
      ],
      "metadata": {
        "id": "9_YFl0ljWdIk"
      }
    },
    {
      "cell_type": "code",
      "execution_count": 3,
      "metadata": {
        "colab": {
          "base_uri": "https://localhost:8080/"
        },
        "id": "DMUWEfEHWbud",
        "outputId": "4af01d20-1322-46d6-d8fc-fe3bd09a0047"
      },
      "outputs": [
        {
          "output_type": "stream",
          "name": "stdout",
          "text": [
            "John\n",
            "33\n"
          ]
        }
      ],
      "source": [
        "import datetime\n",
        "\n",
        "class Person:\n",
        "    def __init__(self, name, age):\n",
        "        self.name = name\n",
        "        self.age = age\n",
        "\n",
        "    @classmethod\n",
        "    def from_birth_year(cls, name, birth_year):\n",
        "        age = cls.get_age(birth_year)\n",
        "        return cls(name, age)\n",
        "\n",
        "    @staticmethod\n",
        "    def get_age(birth_year):\n",
        "        return datetime.date.today().year - birth_year\n",
        "\n",
        "person = Person.from_birth_year('John', 1990)\n",
        "print(person.name)  # John\n",
        "print(person.age)  # 33"
      ]
    },
    {
      "cell_type": "code",
      "source": [
        "class Point:\n",
        "    def __init__(self, x, y):\n",
        "        self.x = x\n",
        "        self.y = y\n",
        "\n",
        "    @classmethod\n",
        "    def from_tuple(cls, tuple):\n",
        "        x, y = tuple\n",
        "        return cls(x, y)\n",
        "\n",
        "point = Point.from_tuple((3, 4))\n",
        "print(point.x)  # 3\n",
        "print(point.y)  # 4"
      ],
      "metadata": {
        "colab": {
          "base_uri": "https://localhost:8080/"
        },
        "id": "lilRiK9aWqVh",
        "outputId": "64fb0ec3-4985-4506-a4e8-9db0350ada8f"
      },
      "execution_count": 4,
      "outputs": [
        {
          "output_type": "stream",
          "name": "stdout",
          "text": [
            "3\n",
            "4\n"
          ]
        }
      ]
    },
    {
      "cell_type": "code",
      "source": [
        "class Car:\n",
        "    total_cars_sold = 0\n",
        "\n",
        "    def __init__(self, make, model):\n",
        "        self.make = make\n",
        "        self.model = model\n",
        "        Car.total_cars_sold += 1\n",
        "\n",
        "    @classmethod\n",
        "    def get_total_cars_sold(cls):\n",
        "        return cls.total_cars_sold\n",
        "\n",
        "car1 = Car('Toyota', 'Camry')\n",
        "car2 = Car('Honda', 'Civic')\n",
        "\n",
        "print(Car.get_total_cars_sold())  # 2"
      ],
      "metadata": {
        "colab": {
          "base_uri": "https://localhost:8080/"
        },
        "id": "aNAZjrEQW1K5",
        "outputId": "928f124c-bd66-4867-b56a-25751c5966e9"
      },
      "execution_count": 5,
      "outputs": [
        {
          "output_type": "stream",
          "name": "stdout",
          "text": [
            "2\n"
          ]
        }
      ]
    },
    {
      "cell_type": "code",
      "source": [
        "class Car:\n",
        "    total_cars_sold = 0\n",
        "\n",
        "    def __init__(self, make, model):\n",
        "        self.make = make\n",
        "        self.model = model\n",
        "        Car.total_cars_sold += 1\n",
        "\n",
        "    @classmethod\n",
        "    def get_total_cars_sold(cls):\n",
        "        return cls.total_cars_sold\n",
        "\n",
        "car1 = Car('Toyota', 'Camry')\n",
        "car2 = Car('Honda', 'Civic')\n",
        "\n",
        "print(Car.get_total_cars_sold())  # 2"
      ],
      "metadata": {
        "colab": {
          "base_uri": "https://localhost:8080/"
        },
        "id": "c2jccwVoW2kI",
        "outputId": "75a97af4-30fe-4644-bbe3-39c6da56d4f5"
      },
      "execution_count": 6,
      "outputs": [
        {
          "output_type": "stream",
          "name": "stdout",
          "text": [
            "2\n"
          ]
        }
      ]
    },
    {
      "cell_type": "code",
      "source": [
        "class Student:\n",
        "    all_students = []\n",
        "\n",
        "    def __init__(self, name, grade):\n",
        "        self.name = name\n",
        "        self.grade = grade\n",
        "        Student.all_students.append(self)\n",
        "\n",
        "    @classmethod\n",
        "    def get_highest_grade(cls):\n",
        "        return max(cls.all_students, key=lambda student: student.grade)\n",
        "\n",
        "    @classmethod\n",
        "    def get_lowest_grade(cls):\n",
        "        return min(cls.all_students, key=lambda student: student.grade)\n",
        "\n",
        "student1 = Student('John', 90)\n",
        "student2 = Student('Jane', 95)\n",
        "student3 = Student('Alice', 80)\n",
        "\n",
        "print(Student.get_highest_grade().name)  # Jane\n",
        "print(Student.get_lowest_grade().name)  # Alice"
      ],
      "metadata": {
        "colab": {
          "base_uri": "https://localhost:8080/"
        },
        "id": "DBbqTzmdXAUK",
        "outputId": "3b5fde98-c6bc-479c-90b3-630fa7ec1308"
      },
      "execution_count": 7,
      "outputs": [
        {
          "output_type": "stream",
          "name": "stdout",
          "text": [
            "Jane\n",
            "Alice\n"
          ]
        }
      ]
    }
  ]
}