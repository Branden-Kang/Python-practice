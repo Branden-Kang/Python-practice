{
  "nbformat": 4,
  "nbformat_minor": 0,
  "metadata": {
    "colab": {
      "provenance": [],
      "authorship_tag": "ABX9TyP5FzvCVtlNsO2w8eRMt8cN"
    },
    "kernelspec": {
      "name": "python3",
      "display_name": "Python 3"
    },
    "language_info": {
      "name": "python"
    }
  },
  "cells": [
    {
      "cell_type": "markdown",
      "source": [
        "[Reference](https://python.plainenglish.io/a-guide-to-python-data-classes-4b1fb75f6bbe)"
      ],
      "metadata": {
        "id": "QX-vMqdoI4nY"
      }
    },
    {
      "cell_type": "code",
      "execution_count": 1,
      "metadata": {
        "id": "aFFjkh5OI2e-"
      },
      "outputs": [],
      "source": [
        "class Book:\n",
        "  '''Class that contains info about a book.'''\n",
        "  title: str\n",
        "  author: str\n",
        "  pages: int"
      ]
    },
    {
      "cell_type": "code",
      "source": [
        "class Book:\n",
        "    '''Class that contains info about a book.'''\n",
        "    title: str\n",
        "    author: str\n",
        "    pages: int\n",
        "    \n",
        "    def __init__(self, title: str, author: str, pages: int) -> None:\n",
        "        self.title = title\n",
        "        self.author = author\n",
        "        self.pages = pages\n",
        "    \n",
        "    def __repr__(self) -> str:\n",
        "        return f'Book (title={self.title}, author={self.author}, pages={self.pages})'\n",
        "  \n",
        "    def __eq__(self, other) -> bool:\n",
        "        if self.__class__ is other.__class__:\n",
        "            return (\n",
        "                (self.title, self.author, self.pages) == \n",
        "                (other.title, other.author, other.pages)\n",
        "            )\n",
        "        return NotImplemented"
      ],
      "metadata": {
        "id": "TY89BUWzI8WA"
      },
      "execution_count": 2,
      "outputs": []
    },
    {
      "cell_type": "code",
      "source": [
        "from dataclasses import dataclass\n",
        "\n",
        "@dataclass\n",
        "class Book:\n",
        "    '''Class that contains info about a book.'''\n",
        "    title: str\n",
        "    author: str\n",
        "    pages: int"
      ],
      "metadata": {
        "id": "p3U32t-FI9zk"
      },
      "execution_count": 3,
      "outputs": []
    },
    {
      "cell_type": "code",
      "source": [
        "# from book_dataclass import Book\n",
        "b = Book('Title', 'Me', 200)\n",
        "print(b)"
      ],
      "metadata": {
        "colab": {
          "base_uri": "https://localhost:8080/"
        },
        "id": "CPUze7ZLJAM0",
        "outputId": "a3ba78cf-59ee-4a92-e92a-13b4be039a6e"
      },
      "execution_count": 6,
      "outputs": [
        {
          "output_type": "stream",
          "name": "stdout",
          "text": [
            "Book(title='Title', author='Me', pages=200)\n"
          ]
        }
      ]
    },
    {
      "cell_type": "code",
      "source": [
        "from dataclasses import dataclass\n",
        "\n",
        "@dataclass(frozen=True)\n",
        "class Book:\n",
        "    '''Class that contains info about a book.'''\n",
        "    title: str\n",
        "    author: str\n",
        "    pages: int"
      ],
      "metadata": {
        "id": "JtXKa3neJCHH"
      },
      "execution_count": 7,
      "outputs": []
    },
    {
      "cell_type": "code",
      "source": [
        "from dataclasses import dataclass\n",
        "\n",
        "@dataclass\n",
        "class Book:\n",
        "  '''Class that contains info about a book.'''\n",
        "  title: str\n",
        "  author: str\n",
        "  pages: int = 0"
      ],
      "metadata": {
        "id": "1OyTvVR0JIWV"
      },
      "execution_count": 10,
      "outputs": []
    },
    {
      "cell_type": "code",
      "source": [
        "from dataclasses import dataclass, field\n",
        "\n",
        "@dataclass()\n",
        "class Book:\n",
        "    '''Class that contains info about a book.'''\n",
        "    title: str\n",
        "    author: str\n",
        "    # The pages field will not be on repr\n",
        "    # And will not be used on comparisons\n",
        "    pages: int = field(default=0, repr=False, compare=False)"
      ],
      "metadata": {
        "id": "yQgVdKKMJMg6"
      },
      "execution_count": 11,
      "outputs": []
    },
    {
      "cell_type": "code",
      "source": [
        "b = Book('No pages', 'Me')\n",
        "print(b)"
      ],
      "metadata": {
        "colab": {
          "base_uri": "https://localhost:8080/"
        },
        "id": "sZghWCg9JS4T",
        "outputId": "ea029c01-9d92-4acc-a6d4-4c05e2bff9f0"
      },
      "execution_count": 12,
      "outputs": [
        {
          "output_type": "stream",
          "name": "stdout",
          "text": [
            "Book(title='No pages', author='Me')\n"
          ]
        }
      ]
    },
    {
      "cell_type": "code",
      "source": [
        "from dataclasses import dataclass, field\n",
        "\n",
        "@dataclass\n",
        "class Rectangle:\n",
        "    width: float\n",
        "    height: float\n",
        "    area: float = field(init=False)\n",
        "    perimeter: float = field(init=False)\n",
        "      \n",
        "    def __post_init__(self):\n",
        "        self.area = self.width * self.height\n",
        "        self.perimeter = 2 * (self.width + self.height)"
      ],
      "metadata": {
        "id": "MvS-t0mBJUVl"
      },
      "execution_count": 13,
      "outputs": []
    },
    {
      "cell_type": "code",
      "source": [
        "rect = Rectangle(2, 4)\n",
        "print(rect)"
      ],
      "metadata": {
        "colab": {
          "base_uri": "https://localhost:8080/"
        },
        "id": "bhIpO_yqJYM1",
        "outputId": "3505f879-644c-4e14-be2a-279a174b08ff"
      },
      "execution_count": 14,
      "outputs": [
        {
          "output_type": "stream",
          "name": "stdout",
          "text": [
            "Rectangle(width=2, height=4, area=8, perimeter=12)\n"
          ]
        }
      ]
    },
    {
      "cell_type": "code",
      "source": [
        "from dataclasses import dataclass\n",
        "\n",
        "@dataclass\n",
        "class Book:\n",
        "    title: str\n",
        "    author: str\n",
        "    pages: int\n",
        "      \n",
        "@dataclass\n",
        "class Ebook(Book):\n",
        "    platform: str"
      ],
      "metadata": {
        "id": "iB0APb_1JZb5"
      },
      "execution_count": 15,
      "outputs": []
    },
    {
      "cell_type": "code",
      "source": [
        "eb = Ebook('Title','Me',100,'kindle')\n",
        "print(eb)"
      ],
      "metadata": {
        "colab": {
          "base_uri": "https://localhost:8080/"
        },
        "id": "09fD-VuwJaza",
        "outputId": "4e0a7da6-e0be-47f5-d7d1-a16d752437f7"
      },
      "execution_count": 16,
      "outputs": [
        {
          "output_type": "stream",
          "name": "stdout",
          "text": [
            "Ebook(title='Title', author='Me', pages=100, platform='kindle')\n"
          ]
        }
      ]
    },
    {
      "cell_type": "code",
      "source": [
        "from dataclasses import dataclass\n",
        "\n",
        "@dataclass\n",
        "class Book:\n",
        "    title: str\n",
        "    author: str\n",
        "    pages: int = 0\n",
        "      \n",
        "@dataclass\n",
        "class Ebook(Book):\n",
        "    platform: str = 'kindle'"
      ],
      "metadata": {
        "id": "ExP8ZqzBJb7P"
      },
      "execution_count": 17,
      "outputs": []
    }
  ]
}