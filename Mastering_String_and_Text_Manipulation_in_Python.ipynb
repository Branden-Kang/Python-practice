{
  "nbformat": 4,
  "nbformat_minor": 0,
  "metadata": {
    "colab": {
      "provenance": [],
      "authorship_tag": "ABX9TyMkHx0csk2MJQC2obsSyV+Q"
    },
    "kernelspec": {
      "name": "python3",
      "display_name": "Python 3"
    },
    "language_info": {
      "name": "python"
    }
  },
  "cells": [
    {
      "cell_type": "markdown",
      "source": [
        "[Reference](https://medium.com/@ccpythonprogramming/mastering-string-and-text-manipulation-in-python-c80915c6c424)"
      ],
      "metadata": {
        "id": "xSYs0au28TQ5"
      }
    },
    {
      "cell_type": "markdown",
      "source": [
        "# CONCATATING STRINGS (Concatenation)"
      ],
      "metadata": {
        "id": "XjI4WVe08Y2x"
      }
    },
    {
      "cell_type": "code",
      "execution_count": 1,
      "metadata": {
        "id": "9LUDR0_08RrH"
      },
      "outputs": [],
      "source": [
        "message = \"Welcome to Python string manipulation!\""
      ]
    },
    {
      "cell_type": "code",
      "source": [
        "greeting = \"Hello, \"\n",
        "name = \"Alice\"\n",
        "welcome_message = greeting + name\n",
        "print(welcome_message)  # Outputs: Hello, Alice"
      ],
      "metadata": {
        "colab": {
          "base_uri": "https://localhost:8080/"
        },
        "id": "LJKgn-cV8WHs",
        "outputId": "fd66c24c-bf14-4101-8ebe-562b842c2424"
      },
      "execution_count": 2,
      "outputs": [
        {
          "output_type": "stream",
          "name": "stdout",
          "text": [
            "Hello, Alice\n"
          ]
        }
      ]
    },
    {
      "cell_type": "markdown",
      "source": [
        "# STRING METHODS"
      ],
      "metadata": {
        "id": "VQ-gx0P_8agC"
      }
    },
    {
      "cell_type": "markdown",
      "source": [
        "## 1. Upper and Lower Case:"
      ],
      "metadata": {
        "id": "QrQsbu5x8cca"
      }
    },
    {
      "cell_type": "code",
      "source": [
        "message = \"Python is fun!\"\n",
        "print(message.upper())  # Outputs: PYTHON IS FUN!\n",
        "print(message.lower())  # Outputs: python is fun!"
      ],
      "metadata": {
        "colab": {
          "base_uri": "https://localhost:8080/"
        },
        "id": "rXN3YXgg8XFm",
        "outputId": "cd9fdc0a-554c-4456-c32d-d915aeb69e4d"
      },
      "execution_count": 3,
      "outputs": [
        {
          "output_type": "stream",
          "name": "stdout",
          "text": [
            "PYTHON IS FUN!\n",
            "python is fun!\n"
          ]
        }
      ]
    },
    {
      "cell_type": "markdown",
      "source": [
        "## 2. Strip:"
      ],
      "metadata": {
        "id": "t6DaRLJ38e7h"
      }
    },
    {
      "cell_type": "code",
      "source": [
        "user_input = \"   hello world   \"\n",
        "clean_input = user_input.strip()\n",
        "print(clean_input)  # Outputs: hello world"
      ],
      "metadata": {
        "colab": {
          "base_uri": "https://localhost:8080/"
        },
        "id": "aOcZBTTO8dsi",
        "outputId": "be873c89-d4d6-412e-fc6a-38b39d169567"
      },
      "execution_count": 4,
      "outputs": [
        {
          "output_type": "stream",
          "name": "stdout",
          "text": [
            "hello world\n"
          ]
        }
      ]
    },
    {
      "cell_type": "markdown",
      "source": [
        "## 3. Replace:"
      ],
      "metadata": {
        "id": "jcoe78eB8iQt"
      }
    },
    {
      "cell_type": "code",
      "source": [
        "template = \"Dear [name], thank you for using our service.\"\n",
        "personalized = template.replace(\"[name]\", \"Alice\")\n",
        "print(personalized)  # Outputs: Dear Alice, thank you for using our service."
      ],
      "metadata": {
        "colab": {
          "base_uri": "https://localhost:8080/"
        },
        "id": "F5viEsUT8h9k",
        "outputId": "d81e8c81-a8a6-4eba-a015-06266272639d"
      },
      "execution_count": 5,
      "outputs": [
        {
          "output_type": "stream",
          "name": "stdout",
          "text": [
            "Dear Alice, thank you for using our service.\n"
          ]
        }
      ]
    },
    {
      "cell_type": "markdown",
      "source": [
        "# SLICING STRINGS"
      ],
      "metadata": {
        "id": "9K83bG4I8xiT"
      }
    },
    {
      "cell_type": "code",
      "source": [
        "text = \"PythonProgramming\"\n",
        "print(text[0:6])  # Outputs: Python"
      ],
      "metadata": {
        "colab": {
          "base_uri": "https://localhost:8080/"
        },
        "id": "aAodPbd18gRM",
        "outputId": "2ef892b5-e697-471e-c8f1-6b67fd18940c"
      },
      "execution_count": 6,
      "outputs": [
        {
          "output_type": "stream",
          "name": "stdout",
          "text": [
            "Python\n"
          ]
        }
      ]
    },
    {
      "cell_type": "code",
      "source": [
        "email = \"contact@website.com\"\n",
        "domain = email[email.index(\"@\") + 1:]\n",
        "print(domain)  # Outputs: website.com"
      ],
      "metadata": {
        "colab": {
          "base_uri": "https://localhost:8080/"
        },
        "id": "GklzDGLd8zMD",
        "outputId": "98797ec8-a44a-4d28-83c9-5dff1e6ec4db"
      },
      "execution_count": 7,
      "outputs": [
        {
          "output_type": "stream",
          "name": "stdout",
          "text": [
            "website.com\n"
          ]
        }
      ]
    },
    {
      "cell_type": "markdown",
      "source": [
        "# STRING FORMATTING"
      ],
      "metadata": {
        "id": "SkPfZCIu81Qo"
      }
    },
    {
      "cell_type": "code",
      "source": [
        "name = \"Alice\"\n",
        "age = 25\n",
        "info = f\"My name is {name}, and I am {age} years old.\"\n",
        "print(info)  # Outputs: My name is Alice, and I am 25 years old."
      ],
      "metadata": {
        "colab": {
          "base_uri": "https://localhost:8080/"
        },
        "id": "IoYO7xfK80Ya",
        "outputId": "92c1900e-084c-4995-a6ba-359771a3e5bb"
      },
      "execution_count": 8,
      "outputs": [
        {
          "output_type": "stream",
          "name": "stdout",
          "text": [
            "My name is Alice, and I am 25 years old.\n"
          ]
        }
      ]
    },
    {
      "cell_type": "markdown",
      "source": [
        "# REGULAR EXPRESSIONS (Regex)"
      ],
      "metadata": {
        "id": "hsriLOom838X"
      }
    },
    {
      "cell_type": "markdown",
      "source": [
        "## Matching Patterns"
      ],
      "metadata": {
        "id": "sznz5tbV85Rb"
      }
    },
    {
      "cell_type": "code",
      "source": [
        "import re\n",
        "\n",
        "email = \"test.email@example.com\"\n",
        "pattern = r\"[^@]+@[^@]+\\.[^@]+\"\n",
        "if re.match(pattern, email):\n",
        "    print(\"Valid email!\")\n",
        "else:\n",
        "    print(\"Invalid email!\")"
      ],
      "metadata": {
        "colab": {
          "base_uri": "https://localhost:8080/"
        },
        "id": "tMlmB0-6825N",
        "outputId": "36b6744d-173f-42d3-ca1f-6242f43a0954"
      },
      "execution_count": 9,
      "outputs": [
        {
          "output_type": "stream",
          "name": "stdout",
          "text": [
            "Valid email!\n"
          ]
        }
      ]
    },
    {
      "cell_type": "markdown",
      "source": [
        "## Finding Patterns"
      ],
      "metadata": {
        "id": "XBi3iYZR8-Cq"
      }
    },
    {
      "cell_type": "code",
      "source": [
        "text = \"Call me at (123) 456-7890 or (987) 654-3210.\"\n",
        "phone_pattern = r\"\\(\\d{3}\\) \\d{3}-\\d{4}\"\n",
        "phones = re.findall(phone_pattern, text)\n",
        "print(phones)  # Outputs: ['(123) 456-7890', '(987) 654-3210']"
      ],
      "metadata": {
        "colab": {
          "base_uri": "https://localhost:8080/"
        },
        "id": "J3Y2ikGN87OF",
        "outputId": "23e9ac63-2b81-4452-9aa8-92fac93c87f5"
      },
      "execution_count": 10,
      "outputs": [
        {
          "output_type": "stream",
          "name": "stdout",
          "text": [
            "['(123) 456-7890', '(987) 654-3210']\n"
          ]
        }
      ]
    },
    {
      "cell_type": "markdown",
      "source": [
        "## Replacing Text"
      ],
      "metadata": {
        "id": "t7cWYSd89Dhz"
      }
    },
    {
      "cell_type": "code",
      "source": [
        "text = \"Contact me at (123) 456-7890 or email me at test@example.com.\"\n",
        "masked_text = re.sub(r\"\\(\\d{3}\\) \\d{3}-\\d{4}\", \"[REDACTED]\", text)\n",
        "masked_text = re.sub(r\"[^@]+@[^@]+\\.[^@]+\", \"[EMAIL REDACTED]\", masked_text)\n",
        "print(masked_text)"
      ],
      "metadata": {
        "colab": {
          "base_uri": "https://localhost:8080/"
        },
        "id": "Z8RFrWLy9BzI",
        "outputId": "cece20c9-45a5-458f-a481-e0302b181cd7"
      },
      "execution_count": 11,
      "outputs": [
        {
          "output_type": "stream",
          "name": "stdout",
          "text": [
            "[EMAIL REDACTED]\n"
          ]
        }
      ]
    },
    {
      "cell_type": "markdown",
      "source": [
        "## Splitting Strings"
      ],
      "metadata": {
        "id": "27qnoBCR9GZ3"
      }
    },
    {
      "cell_type": "code",
      "source": [
        "text = \"apple, orange;banana  grape\"\n",
        "items = re.split(r\"[,; ]+\", text)\n",
        "print(items)  # Outputs: ['apple', 'orange', 'banana', 'grape']"
      ],
      "metadata": {
        "colab": {
          "base_uri": "https://localhost:8080/"
        },
        "id": "eYh1hAur9E9O",
        "outputId": "6656b923-89d6-4963-a49e-4899554cbc2f"
      },
      "execution_count": 12,
      "outputs": [
        {
          "output_type": "stream",
          "name": "stdout",
          "text": [
            "['apple', 'orange', 'banana', 'grape']\n"
          ]
        }
      ]
    },
    {
      "cell_type": "markdown",
      "source": [
        "# WORKING WITH FILES"
      ],
      "metadata": {
        "id": "1SOA1bfe9L_Q"
      }
    },
    {
      "cell_type": "code",
      "source": [
        "# Writing to a file\n",
        "with open(\"logs.txt\", \"a\") as file:\n",
        "    file.write(\"User Alice logged in\\n\")\n",
        "\n",
        "# Reading from a file\n",
        "with open(\"logs.txt\", \"r\") as file:\n",
        "    content = file.read()\n",
        "    print(content)"
      ],
      "metadata": {
        "colab": {
          "base_uri": "https://localhost:8080/"
        },
        "id": "gOhpguYW9Hzf",
        "outputId": "35e0e26f-0cfc-431f-bf18-86b88a322afe"
      },
      "execution_count": 13,
      "outputs": [
        {
          "output_type": "stream",
          "name": "stdout",
          "text": [
            "User Alice logged in\n",
            "\n"
          ]
        }
      ]
    },
    {
      "cell_type": "markdown",
      "source": [
        "# REAL-WORLD EXAMPLE (URL Handling)"
      ],
      "metadata": {
        "id": "8CQdRpnb9OrU"
      }
    },
    {
      "cell_type": "code",
      "source": [
        "long_url = \"https://www.example.com/some/long/path/to/a/resource\"\n",
        "base_url = long_url.split(\"/\")[2]\n",
        "print(base_url)  # Outputs: www.example.com"
      ],
      "metadata": {
        "colab": {
          "base_uri": "https://localhost:8080/"
        },
        "id": "L6J84iE09Nl_",
        "outputId": "e6fdb1cf-2c2c-4e7f-b428-ab0a2d832122"
      },
      "execution_count": 14,
      "outputs": [
        {
          "output_type": "stream",
          "name": "stdout",
          "text": [
            "www.example.com\n"
          ]
        }
      ]
    },
    {
      "cell_type": "markdown",
      "source": [
        "# HANDLING SPECIAL CHARACTERS"
      ],
      "metadata": {
        "id": "Wvt0h4BB9RU2"
      }
    },
    {
      "cell_type": "code",
      "source": [
        "text = \"Hello\\nWorld!\"\n",
        "print(text)"
      ],
      "metadata": {
        "colab": {
          "base_uri": "https://localhost:8080/"
        },
        "id": "cXYMxC1J9QRQ",
        "outputId": "d4b47250-bd0f-4dbb-9ff0-b7e9f0562bfc"
      },
      "execution_count": 15,
      "outputs": [
        {
          "output_type": "stream",
          "name": "stdout",
          "text": [
            "Hello\n",
            "World!\n"
          ]
        }
      ]
    },
    {
      "cell_type": "markdown",
      "source": [
        "# DEDENT()"
      ],
      "metadata": {
        "id": "Ittfa2DA9fVu"
      }
    },
    {
      "cell_type": "code",
      "source": [
        "from textwrap import dedent\n",
        "\n",
        "text = \"\"\"\n",
        "    This is a block of text.\n",
        "    It is indented but doesn't need to be.\n",
        "    The dedent function will fix that.\n",
        "\"\"\"\n",
        "cleaned_text = dedent(text)\n",
        "print(cleaned_text)"
      ],
      "metadata": {
        "colab": {
          "base_uri": "https://localhost:8080/"
        },
        "id": "mDwHRdSI9SoM",
        "outputId": "c431f36c-b674-4392-94e9-f32be3fd93f0"
      },
      "execution_count": 16,
      "outputs": [
        {
          "output_type": "stream",
          "name": "stdout",
          "text": [
            "\n",
            "This is a block of text.\n",
            "It is indented but doesn't need to be.\n",
            "The dedent function will fix that.\n",
            "\n"
          ]
        }
      ]
    }
  ]
}