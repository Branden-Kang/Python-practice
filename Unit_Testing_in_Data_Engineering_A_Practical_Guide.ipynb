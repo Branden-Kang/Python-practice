{
  "nbformat": 4,
  "nbformat_minor": 0,
  "metadata": {
    "colab": {
      "provenance": [],
      "authorship_tag": "ABX9TyNqBglbWTjKCujCuoVKTE7v"
    },
    "kernelspec": {
      "name": "python3",
      "display_name": "Python 3"
    },
    "language_info": {
      "name": "python"
    }
  },
  "cells": [
    {
      "cell_type": "markdown",
      "source": [
        "[Reference](https://medium.com/@samzamany/unit-testing-in-data-engineering-a-practical-guide-91196afdf32a)"
      ],
      "metadata": {
        "id": "LnBqUoV4gs-Y"
      }
    },
    {
      "cell_type": "code",
      "execution_count": 1,
      "metadata": {
        "id": "SD0h0ejXgkXB"
      },
      "outputs": [],
      "source": [
        "import pandas as pd\n",
        "from sqlalchemy import create_engine\n",
        "\n",
        "# Function to load the CSV\n",
        "def load_data(file_name):\n",
        "    data = pd.read_csv(file_name)\n",
        "    return data\n",
        "\n",
        "# Function to clean the data\n",
        "def clean_data(data):\n",
        "    data = data.dropna()\n",
        "    return data\n",
        "\n",
        "# Function to save the data to a SQL database\n",
        "def save_data(data, db_string, table_name):\n",
        "    engine = create_engine(db_string)\n",
        "    data.to_sql(table_name, engine, if_exists='replace')\n",
        "\n",
        "# Run pipeline\n",
        "data = load_data('data.csv')\n",
        "data = clean_data(data)\n",
        "save_data(data, 'sqlite:///database.db', 'my_table')"
      ]
    },
    {
      "cell_type": "code",
      "source": [
        "import os\n",
        "import pandas as pd\n",
        "import pytest\n",
        "from sqlalchemy import create_engine, inspect\n",
        "\n",
        "# Use pytest fixtures to set up a temporary CSV file and SQLite database\n",
        "@pytest.fixture\n",
        "def csv_file(tmp_path):\n",
        "    data = pd.DataFrame({\n",
        "        'name': ['John', 'Jane', 'Doe'],\n",
        "        'age': [34, None, 56]  # Jane's age is missing\n",
        "    })\n",
        "    file_path = tmp_path / \"data.csv\"\n",
        "    data.to_csv(file_path, index=False)\n",
        "    return file_path\n",
        "\n",
        "\n",
        "@pytest.fixture\n",
        "def sqlite_db(tmp_path):\n",
        "    file_path = tmp_path / \"database.db\"\n",
        "    return 'sqlite:///' + str(file_path)\n",
        "\n",
        "\n",
        "def test_load_data(csv_file):\n",
        "    data = load_data(csv_file)\n",
        "\n",
        "    assert 'name' in data.columns\n",
        "    assert 'age' in data.columns\n",
        "    assert len(data) == 3\n",
        "\n",
        "\n",
        "def test_clean_data(csv_file):\n",
        "    data = load_data(csv_file)\n",
        "    data = clean_data(data)\n",
        "\n",
        "    assert data['age'].isna().sum() == 0\n",
        "    assert len(data) == 2  # Jane's record should be removed\n",
        "\n",
        "\n",
        "def test_save_data(csv_file, sqlite_db):\n",
        "    data = load_data(csv_file)\n",
        "    data = clean_data(data)\n",
        "    save_data(data, sqlite_db, 'my_table')\n",
        "\n",
        "    # Check the data was saved correctly\n",
        "    engine = create_engine(sqlite_db)\n",
        "    inspector = inspect(engine)\n",
        "    tables = inspector.get_table_names()\n",
        "\n",
        "    assert 'my_table' in tables\n",
        "\n",
        "    loaded_data = pd.read_sql('my_table', engine)\n",
        "    assert len(loaded_data) == 2  # Only John and Doe's records should be present"
      ],
      "metadata": {
        "id": "7EBkCKnmgzNR"
      },
      "execution_count": 2,
      "outputs": []
    },
    {
      "cell_type": "code",
      "source": [
        "import pandas as pd\n",
        "import pytest\n",
        "\n",
        "def test_convert_date():\n",
        "    # Test with valid dates\n",
        "    test_data = pd.DataFrame({\n",
        "        'date': ['2021-01-01', '2021-01-02']\n",
        "    })\n",
        "\n",
        "    converted_data = convert_date(test_data.copy(), 'date')\n",
        "\n",
        "    assert pd.api.types.is_datetime64_any_dtype(converted_data['date'])\n",
        "    assert converted_data.loc[0, 'date'] == pd.Timestamp('2021-01-01')\n",
        "    assert converted_data.loc[1, 'date'] == pd.Timestamp('2021-01-02')\n",
        "\n",
        "    # Test with an invalid date\n",
        "    test_data = pd.DataFrame({\n",
        "        'date': ['2021-13-01']  # This date is invalid because there's no 13th month\n",
        "    })\n",
        "\n",
        "    with pytest.raises(ValueError):\n",
        "        convert_date(test_data, 'date')"
      ],
      "metadata": {
        "id": "MoxKoFf3g0WP"
      },
      "execution_count": 3,
      "outputs": []
    },
    {
      "cell_type": "code",
      "source": [
        "import pandas as pd\n",
        "import pytest\n",
        "\n",
        "def test_aggregate_sales():\n",
        "    # Test data with sales for each region\n",
        "    test_data = pd.DataFrame({\n",
        "        'region': ['North', 'North', 'South', 'South', 'East', 'East', 'West', 'West'],\n",
        "        'sales': [100, 200, 300, 400, 500, 600, 700, 800]\n",
        "    })\n",
        "\n",
        "    aggregated = aggregate_sales(test_data)\n",
        "\n",
        "    assert aggregated.loc[aggregated['region'] == 'North', 'sales'].values[0] == 300\n",
        "    assert aggregated.loc[aggregated['region'] == 'South', 'sales'].values[0] == 700\n",
        "    assert aggregated.loc[aggregated['region'] == 'East', 'sales'].values[0] == 1100\n",
        "    assert aggregated.loc[aggregated['region'] == 'West', 'sales'].values[0] == 1500\n",
        "\n",
        "    # Test with no sales data\n",
        "    test_data = pd.DataFrame({\n",
        "        'region': ['North', 'South', 'East', 'West'],\n",
        "        'sales': [0, 0, 0, 0]\n",
        "    })\n",
        "\n",
        "    aggregated = aggregate_sales(test_data)\n",
        "\n",
        "    assert aggregated.loc[aggregated['region'] == 'North', 'sales'].values[0] == 0\n",
        "    assert aggregated.loc[aggregated['region'] == 'South', 'sales'].values[0] == 0\n",
        "    assert aggregated.loc[aggregated['region'] == 'East', 'sales'].values[0] == 0\n",
        "    assert aggregated.loc[aggregated['region'] == 'West', 'sales'].values[0] == 0"
      ],
      "metadata": {
        "id": "tUX6oPRhg4j8"
      },
      "execution_count": 4,
      "outputs": []
    }
  ]
}