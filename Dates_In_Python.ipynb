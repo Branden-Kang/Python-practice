{
  "nbformat": 4,
  "nbformat_minor": 0,
  "metadata": {
    "colab": {
      "name": "Dates In Python.ipynb",
      "provenance": [],
      "authorship_tag": "ABX9TyNLOdsJBaChJ9n6HnlFc7Ok"
    },
    "kernelspec": {
      "name": "python3",
      "display_name": "Python 3"
    }
  },
  "cells": [
    {
      "cell_type": "markdown",
      "metadata": {
        "id": "sF5H71hBuCXQ"
      },
      "source": [
        "[Reference](https://towardsdatascience.com/dates-in-python-everything-you-need-to-know-272ba0b409dc)"
      ]
    },
    {
      "cell_type": "code",
      "metadata": {
        "id": "_xzKvXKAuBAS"
      },
      "source": [
        "import datetime as dt"
      ],
      "execution_count": 1,
      "outputs": []
    },
    {
      "cell_type": "code",
      "metadata": {
        "colab": {
          "base_uri": "https://localhost:8080/"
        },
        "id": "1k7_koSAuFfK",
        "outputId": "2da62e7a-6d4c-4909-e215-05ed348870e5"
      },
      "source": [
        "d1 = dt.date(2020, 11, 19)\n",
        "d1"
      ],
      "execution_count": 2,
      "outputs": [
        {
          "output_type": "execute_result",
          "data": {
            "text/plain": [
              "datetime.date(2020, 11, 19)"
            ]
          },
          "metadata": {
            "tags": []
          },
          "execution_count": 2
        }
      ]
    },
    {
      "cell_type": "code",
      "metadata": {
        "colab": {
          "base_uri": "https://localhost:8080/"
        },
        "id": "HbFXm6xluG8P",
        "outputId": "4fed21df-b2df-4f68-b219-de8ea2a1e362"
      },
      "source": [
        "d1.year"
      ],
      "execution_count": 3,
      "outputs": [
        {
          "output_type": "execute_result",
          "data": {
            "text/plain": [
              "2020"
            ]
          },
          "metadata": {
            "tags": []
          },
          "execution_count": 3
        }
      ]
    },
    {
      "cell_type": "code",
      "metadata": {
        "colab": {
          "base_uri": "https://localhost:8080/"
        },
        "id": "8tCmKkXxuH0q",
        "outputId": "66b1dcd8-05fe-43ce-dbe1-9fa0e0f07754"
      },
      "source": [
        "d1.month"
      ],
      "execution_count": 4,
      "outputs": [
        {
          "output_type": "execute_result",
          "data": {
            "text/plain": [
              "11"
            ]
          },
          "metadata": {
            "tags": []
          },
          "execution_count": 4
        }
      ]
    },
    {
      "cell_type": "code",
      "metadata": {
        "colab": {
          "base_uri": "https://localhost:8080/"
        },
        "id": "Garm2EFZuIxt",
        "outputId": "e32c400f-a333-4a5e-ef5f-6c7a7fad84cf"
      },
      "source": [
        "d1.day"
      ],
      "execution_count": 5,
      "outputs": [
        {
          "output_type": "execute_result",
          "data": {
            "text/plain": [
              "19"
            ]
          },
          "metadata": {
            "tags": []
          },
          "execution_count": 5
        }
      ]
    },
    {
      "cell_type": "code",
      "metadata": {
        "colab": {
          "base_uri": "https://localhost:8080/"
        },
        "id": "3Mxm1zg3uM8F",
        "outputId": "d05c8681-e3aa-40c7-b2c5-a55d84638fc1"
      },
      "source": [
        "d1.weekday()"
      ],
      "execution_count": 6,
      "outputs": [
        {
          "output_type": "execute_result",
          "data": {
            "text/plain": [
              "3"
            ]
          },
          "metadata": {
            "tags": []
          },
          "execution_count": 6
        }
      ]
    },
    {
      "cell_type": "code",
      "metadata": {
        "colab": {
          "base_uri": "https://localhost:8080/"
        },
        "id": "K7qm_h1IuJhT",
        "outputId": "4d7ef5e4-c190-40a2-f1f9-6f24e9170f96"
      },
      "source": [
        "d1.isoweekday()"
      ],
      "execution_count": 7,
      "outputs": [
        {
          "output_type": "execute_result",
          "data": {
            "text/plain": [
              "4"
            ]
          },
          "metadata": {
            "tags": []
          },
          "execution_count": 7
        }
      ]
    },
    {
      "cell_type": "code",
      "metadata": {
        "colab": {
          "base_uri": "https://localhost:8080/",
          "height": 232
        },
        "id": "eSd9PwjWuORS",
        "outputId": "36d3bfdd-152b-4f28-c12e-8ca8ae35c6e4"
      },
      "source": [
        "date_sample = dt.date.fromisoformat('2019-12-31')\n",
        "date_sample"
      ],
      "execution_count": 8,
      "outputs": [
        {
          "output_type": "error",
          "ename": "AttributeError",
          "evalue": "ignored",
          "traceback": [
            "\u001b[0;31m---------------------------------------------------------------------------\u001b[0m",
            "\u001b[0;31mAttributeError\u001b[0m                            Traceback (most recent call last)",
            "\u001b[0;32m<ipython-input-8-a6c6ff6b61d0>\u001b[0m in \u001b[0;36m<module>\u001b[0;34m()\u001b[0m\n\u001b[0;32m----> 1\u001b[0;31m \u001b[0mdate_sample\u001b[0m \u001b[0;34m=\u001b[0m \u001b[0mdt\u001b[0m\u001b[0;34m.\u001b[0m\u001b[0mdate\u001b[0m\u001b[0;34m.\u001b[0m\u001b[0mfromisoformat\u001b[0m\u001b[0;34m(\u001b[0m\u001b[0;34m'2019-12-31'\u001b[0m\u001b[0;34m)\u001b[0m\u001b[0;34m\u001b[0m\u001b[0;34m\u001b[0m\u001b[0m\n\u001b[0m\u001b[1;32m      2\u001b[0m \u001b[0mdate_sample\u001b[0m\u001b[0;34m\u001b[0m\u001b[0;34m\u001b[0m\u001b[0m\n",
            "\u001b[0;31mAttributeError\u001b[0m: type object 'datetime.date' has no attribute 'fromisoformat'"
          ]
        }
      ]
    },
    {
      "cell_type": "code",
      "metadata": {
        "colab": {
          "base_uri": "https://localhost:8080/"
        },
        "id": "qi-YJWZkuQA_",
        "outputId": "5a455223-46c5-4228-9429-aad71b1a695b"
      },
      "source": [
        "today = dt.date.today()\n",
        "today"
      ],
      "execution_count": 9,
      "outputs": [
        {
          "output_type": "execute_result",
          "data": {
            "text/plain": [
              "datetime.date(2021, 1, 26)"
            ]
          },
          "metadata": {
            "tags": []
          },
          "execution_count": 9
        }
      ]
    },
    {
      "cell_type": "code",
      "metadata": {
        "colab": {
          "base_uri": "https://localhost:8080/"
        },
        "id": "nypKuH7SuSku",
        "outputId": "ccfcaede-bea2-4a55-e765-f0843bd85e7d"
      },
      "source": [
        "d1 = dt.date(2020, 11, 19)\n",
        "d2 = dt.date(2018, 4, 5)\n",
        "# Subtract to find the days elapsed\n",
        "r = d1 - d2\n",
        "r"
      ],
      "execution_count": 10,
      "outputs": [
        {
          "output_type": "execute_result",
          "data": {
            "text/plain": [
              "datetime.timedelta(959)"
            ]
          },
          "metadata": {
            "tags": []
          },
          "execution_count": 10
        }
      ]
    },
    {
      "cell_type": "code",
      "metadata": {
        "colab": {
          "base_uri": "https://localhost:8080/",
          "height": 215
        },
        "id": "b_nhNVNBuUyc",
        "outputId": "07990a00-6fdf-4ca5-b0f7-cacc3b2af0da"
      },
      "source": [
        "today = dt.date.today()\n",
        "today + 60"
      ],
      "execution_count": 11,
      "outputs": [
        {
          "output_type": "error",
          "ename": "TypeError",
          "evalue": "ignored",
          "traceback": [
            "\u001b[0;31m---------------------------------------------------------------------------\u001b[0m",
            "\u001b[0;31mTypeError\u001b[0m                                 Traceback (most recent call last)",
            "\u001b[0;32m<ipython-input-11-76f96446772d>\u001b[0m in \u001b[0;36m<module>\u001b[0;34m()\u001b[0m\n\u001b[1;32m      1\u001b[0m \u001b[0mtoday\u001b[0m \u001b[0;34m=\u001b[0m \u001b[0mdt\u001b[0m\u001b[0;34m.\u001b[0m\u001b[0mdate\u001b[0m\u001b[0;34m.\u001b[0m\u001b[0mtoday\u001b[0m\u001b[0;34m(\u001b[0m\u001b[0;34m)\u001b[0m\u001b[0;34m\u001b[0m\u001b[0;34m\u001b[0m\u001b[0m\n\u001b[0;32m----> 2\u001b[0;31m \u001b[0mtoday\u001b[0m \u001b[0;34m+\u001b[0m \u001b[0;36m60\u001b[0m\u001b[0;34m\u001b[0m\u001b[0;34m\u001b[0m\u001b[0m\n\u001b[0m",
            "\u001b[0;31mTypeError\u001b[0m: unsupported operand type(s) for +: 'datetime.date' and 'int'"
          ]
        }
      ]
    },
    {
      "cell_type": "code",
      "metadata": {
        "colab": {
          "base_uri": "https://localhost:8080/"
        },
        "id": "SwXtRZfduVy3",
        "outputId": "a64fc423-14ae-4cbc-a951-d50710c3c6d9"
      },
      "source": [
        "# Today's date\n",
        "today = dt.date.today()\n",
        "# Create a 60-day duration object\n",
        "delta = dt.timedelta(days=60)\n",
        "# Find the date after 60 days\n",
        "after_60 = today + delta\n",
        "after_60"
      ],
      "execution_count": 12,
      "outputs": [
        {
          "output_type": "execute_result",
          "data": {
            "text/plain": [
              "datetime.date(2021, 3, 27)"
            ]
          },
          "metadata": {
            "tags": []
          },
          "execution_count": 12
        }
      ]
    },
    {
      "cell_type": "code",
      "metadata": {
        "colab": {
          "base_uri": "https://localhost:8080/"
        },
        "id": "Y0pDZrSYuXsa",
        "outputId": "e8f20e8a-56c1-4a2a-d9b8-7f72ad6ef3fb"
      },
      "source": [
        "after_60.isoweekday()"
      ],
      "execution_count": 13,
      "outputs": [
        {
          "output_type": "execute_result",
          "data": {
            "text/plain": [
              "6"
            ]
          },
          "metadata": {
            "tags": []
          },
          "execution_count": 13
        }
      ]
    },
    {
      "cell_type": "code",
      "metadata": {
        "colab": {
          "base_uri": "https://localhost:8080/"
        },
        "id": "Qe7sGnQduYws",
        "outputId": "502a715b-1818-41d9-f77e-5a6403262502"
      },
      "source": [
        "random_duration = dt.timedelta(\n",
        "    weeks=43,\n",
        "    days=37,\n",
        "    hours=13,\n",
        "    minutes=59,\n",
        "    milliseconds=2017,\n",
        "    microseconds=2017  \n",
        ")\n",
        "\n",
        "random_duration"
      ],
      "execution_count": 14,
      "outputs": [
        {
          "output_type": "execute_result",
          "data": {
            "text/plain": [
              "datetime.timedelta(338, 50342, 19017)"
            ]
          },
          "metadata": {
            "tags": []
          },
          "execution_count": 14
        }
      ]
    },
    {
      "cell_type": "code",
      "metadata": {
        "colab": {
          "base_uri": "https://localhost:8080/"
        },
        "id": "pbBG5Kj0uaQ_",
        "outputId": "6b5c2cb1-fc67-4a9c-e6c8-d3a6020390d7"
      },
      "source": [
        "today = dt.date.today()\n",
        "delta = dt.timedelta(days=2017*365 + 311, hours=23, minutes=53)\n",
        "future = today + delta\n",
        "\n",
        "print(future)\n",
        "\n",
        "print(future.isoweekday())"
      ],
      "execution_count": 15,
      "outputs": [
        {
          "output_type": "stream",
          "text": [
            "4037-08-01\n",
            "6\n"
          ],
          "name": "stdout"
        }
      ]
    },
    {
      "cell_type": "code",
      "metadata": {
        "colab": {
          "base_uri": "https://localhost:8080/"
        },
        "id": "AvX3QpZOudSl",
        "outputId": "6de6889b-93f7-4afd-920e-5675729b36d2"
      },
      "source": [
        "delta = dt.timedelta(days=2017*365 + 311, hours=23, minutes=53)\n",
        "delta.days"
      ],
      "execution_count": 16,
      "outputs": [
        {
          "output_type": "execute_result",
          "data": {
            "text/plain": [
              "736516"
            ]
          },
          "metadata": {
            "tags": []
          },
          "execution_count": 16
        }
      ]
    },
    {
      "cell_type": "code",
      "metadata": {
        "colab": {
          "base_uri": "https://localhost:8080/"
        },
        "id": "zFb3B_EBuhjK",
        "outputId": "cbcc441d-d5bc-4a29-f798-c5ebf885c278"
      },
      "source": [
        "delta.total_seconds()"
      ],
      "execution_count": 17,
      "outputs": [
        {
          "output_type": "execute_result",
          "data": {
            "text/plain": [
              "63635068380.0"
            ]
          },
          "metadata": {
            "tags": []
          },
          "execution_count": 17
        }
      ]
    },
    {
      "cell_type": "code",
      "metadata": {
        "colab": {
          "base_uri": "https://localhost:8080/"
        },
        "id": "9NOq_vuguhrL",
        "outputId": "c7690838-f0ab-430e-a609-70c1924fcb5a"
      },
      "source": [
        "date = dt.date(2001, 10, 4)\n",
        "# print iso format\n",
        "print([date.isoformat()])"
      ],
      "execution_count": 18,
      "outputs": [
        {
          "output_type": "stream",
          "text": [
            "['2001-10-04']\n"
          ],
          "name": "stdout"
        }
      ]
    },
    {
      "cell_type": "code",
      "metadata": {
        "colab": {
          "base_uri": "https://localhost:8080/",
          "height": 37
        },
        "id": "9UXXqagKujID",
        "outputId": "eaa9e004-d77e-49ba-b336-29c37de0d641"
      },
      "source": [
        "date.ctime()"
      ],
      "execution_count": 19,
      "outputs": [
        {
          "output_type": "execute_result",
          "data": {
            "application/vnd.google.colaboratory.intrinsic+json": {
              "type": "string"
            },
            "text/plain": [
              "'Thu Oct  4 00:00:00 2001'"
            ]
          },
          "metadata": {
            "tags": []
          },
          "execution_count": 19
        }
      ]
    },
    {
      "cell_type": "code",
      "metadata": {
        "colab": {
          "base_uri": "https://localhost:8080/"
        },
        "id": "ieVRFuF1ukcW",
        "outputId": "d33277a2-bd12-4878-f7d1-23dc394e6b64"
      },
      "source": [
        "newton_birthday = dt.date(1643, 1, 4)\n",
        "print(newton_birthday.strftime(\"%d-%m-%Y\"))"
      ],
      "execution_count": 20,
      "outputs": [
        {
          "output_type": "stream",
          "text": [
            "04-01-1643\n"
          ],
          "name": "stdout"
        }
      ]
    },
    {
      "cell_type": "code",
      "metadata": {
        "colab": {
          "base_uri": "https://localhost:8080/"
        },
        "id": "FMs9XRtjumJU",
        "outputId": "0ef6748b-9ee3-43ba-c837-61e105c0bc47"
      },
      "source": [
        "print(newton_birthday.strftime('Newton was born in %Y, %B %d'))\n",
        "print(newton_birthday.strftime('Newton was born on the %jth day of the year on %A'))"
      ],
      "execution_count": 22,
      "outputs": [
        {
          "output_type": "stream",
          "text": [
            "Newton was born in 1643, January 04\n",
            "Newton was born on the 004th day of the year on Sunday\n"
          ],
          "name": "stdout"
        }
      ]
    }
  ]
}