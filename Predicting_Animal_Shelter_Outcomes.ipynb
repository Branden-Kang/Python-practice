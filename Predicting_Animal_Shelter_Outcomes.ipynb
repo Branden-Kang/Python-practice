{
  "nbformat": 4,
  "nbformat_minor": 0,
  "metadata": {
    "colab": {
      "name": "Predicting Animal Shelter Outcomes.ipynb",
      "provenance": [],
      "authorship_tag": "ABX9TyPZ+JhwRtKMkg4sLETPj6i7"
    },
    "kernelspec": {
      "name": "python3",
      "display_name": "Python 3"
    }
  },
  "cells": [
    {
      "cell_type": "markdown",
      "metadata": {
        "id": "ugY2HVjIaYNl",
        "colab_type": "text"
      },
      "source": [
        "# Predicting Animal Shelter Outcomes\n",
        "[Reference](https://medium.com/vickdata/predicting-animal-shelter-outcomes-4c5fad5dbb4f)"
      ]
    },
    {
      "cell_type": "code",
      "metadata": {
        "id": "3mG0VS5IZtOU",
        "colab_type": "code",
        "colab": {
          "base_uri": "https://localhost:8080/",
          "height": 156
        },
        "outputId": "e9285149-bc0f-4632-9259-b8987ed96432"
      },
      "source": [
        "import os\n",
        "from google.colab import drive\n",
        "drive.mount('/content/gdrive',force_remount=True)\n",
        "!pwd\n",
        "os.chdir('gdrive/My Drive/Colab Notebooks/')\n",
        "!pwd"
      ],
      "execution_count": 1,
      "outputs": [
        {
          "output_type": "stream",
          "text": [
            "Go to this URL in a browser: https://accounts.google.com/o/oauth2/auth?client_id=947318989803-6bn6qk8qdgf4n4g3pfee6491hc0brc4i.apps.googleusercontent.com&redirect_uri=urn%3aietf%3awg%3aoauth%3a2.0%3aoob&response_type=code&scope=email%20https%3a%2f%2fwww.googleapis.com%2fauth%2fdocs.test%20https%3a%2f%2fwww.googleapis.com%2fauth%2fdrive%20https%3a%2f%2fwww.googleapis.com%2fauth%2fdrive.photos.readonly%20https%3a%2f%2fwww.googleapis.com%2fauth%2fpeopleapi.readonly\n",
            "\n",
            "Enter your authorization code:\n",
            "··········\n",
            "Mounted at /content/gdrive\n",
            "/content\n",
            "/content/gdrive/My Drive/Colab Notebooks\n"
          ],
          "name": "stdout"
        }
      ]
    },
    {
      "cell_type": "code",
      "metadata": {
        "id": "Qc5EGdGGZvxf",
        "colab_type": "code",
        "colab": {}
      },
      "source": [
        "import numpy as np\n",
        "import pandas as pd\n",
        "import matplotlib.pyplot as plt\n",
        "% matplotlib inline\n",
        "\n",
        "import re\n",
        "\n",
        "from sklearn.model_selection import train_test_split\n",
        "\n",
        "from sklearn.ensemble import RandomForestClassifier\n",
        "from sklearn.metrics import accuracy_score, log_loss"
      ],
      "execution_count": 2,
      "outputs": []
    },
    {
      "cell_type": "code",
      "metadata": {
        "id": "MJ0UlFB9aeSv",
        "colab_type": "code",
        "colab": {}
      },
      "source": [
        "train = pd.read_csv('train.csv')"
      ],
      "execution_count": 3,
      "outputs": []
    },
    {
      "cell_type": "code",
      "metadata": {
        "id": "57Fy666JakO8",
        "colab_type": "code",
        "colab": {
          "base_uri": "https://localhost:8080/",
          "height": 204
        },
        "outputId": "8d946cbc-3bd0-4b41-c8fa-6bd5dfd44777"
      },
      "source": [
        "train.head()"
      ],
      "execution_count": 4,
      "outputs": [
        {
          "output_type": "execute_result",
          "data": {
            "text/html": [
              "<div>\n",
              "<style scoped>\n",
              "    .dataframe tbody tr th:only-of-type {\n",
              "        vertical-align: middle;\n",
              "    }\n",
              "\n",
              "    .dataframe tbody tr th {\n",
              "        vertical-align: top;\n",
              "    }\n",
              "\n",
              "    .dataframe thead th {\n",
              "        text-align: right;\n",
              "    }\n",
              "</style>\n",
              "<table border=\"1\" class=\"dataframe\">\n",
              "  <thead>\n",
              "    <tr style=\"text-align: right;\">\n",
              "      <th></th>\n",
              "      <th>AnimalID</th>\n",
              "      <th>Name</th>\n",
              "      <th>DateTime</th>\n",
              "      <th>OutcomeType</th>\n",
              "      <th>OutcomeSubtype</th>\n",
              "      <th>AnimalType</th>\n",
              "      <th>SexuponOutcome</th>\n",
              "      <th>AgeuponOutcome</th>\n",
              "      <th>Breed</th>\n",
              "      <th>Color</th>\n",
              "    </tr>\n",
              "  </thead>\n",
              "  <tbody>\n",
              "    <tr>\n",
              "      <th>0</th>\n",
              "      <td>A671945</td>\n",
              "      <td>Hambone</td>\n",
              "      <td>2014-02-12 18:22:00</td>\n",
              "      <td>Return_to_owner</td>\n",
              "      <td>NaN</td>\n",
              "      <td>Dog</td>\n",
              "      <td>Neutered Male</td>\n",
              "      <td>1 year</td>\n",
              "      <td>Shetland Sheepdog Mix</td>\n",
              "      <td>Brown/White</td>\n",
              "    </tr>\n",
              "    <tr>\n",
              "      <th>1</th>\n",
              "      <td>A656520</td>\n",
              "      <td>Emily</td>\n",
              "      <td>2013-10-13 12:44:00</td>\n",
              "      <td>Euthanasia</td>\n",
              "      <td>Suffering</td>\n",
              "      <td>Cat</td>\n",
              "      <td>Spayed Female</td>\n",
              "      <td>1 year</td>\n",
              "      <td>Domestic Shorthair Mix</td>\n",
              "      <td>Cream Tabby</td>\n",
              "    </tr>\n",
              "    <tr>\n",
              "      <th>2</th>\n",
              "      <td>A686464</td>\n",
              "      <td>Pearce</td>\n",
              "      <td>2015-01-31 12:28:00</td>\n",
              "      <td>Adoption</td>\n",
              "      <td>Foster</td>\n",
              "      <td>Dog</td>\n",
              "      <td>Neutered Male</td>\n",
              "      <td>2 years</td>\n",
              "      <td>Pit Bull Mix</td>\n",
              "      <td>Blue/White</td>\n",
              "    </tr>\n",
              "    <tr>\n",
              "      <th>3</th>\n",
              "      <td>A683430</td>\n",
              "      <td>NaN</td>\n",
              "      <td>2014-07-11 19:09:00</td>\n",
              "      <td>Transfer</td>\n",
              "      <td>Partner</td>\n",
              "      <td>Cat</td>\n",
              "      <td>Intact Male</td>\n",
              "      <td>3 weeks</td>\n",
              "      <td>Domestic Shorthair Mix</td>\n",
              "      <td>Blue Cream</td>\n",
              "    </tr>\n",
              "    <tr>\n",
              "      <th>4</th>\n",
              "      <td>A667013</td>\n",
              "      <td>NaN</td>\n",
              "      <td>2013-11-15 12:52:00</td>\n",
              "      <td>Transfer</td>\n",
              "      <td>Partner</td>\n",
              "      <td>Dog</td>\n",
              "      <td>Neutered Male</td>\n",
              "      <td>2 years</td>\n",
              "      <td>Lhasa Apso/Miniature Poodle</td>\n",
              "      <td>Tan</td>\n",
              "    </tr>\n",
              "  </tbody>\n",
              "</table>\n",
              "</div>"
            ],
            "text/plain": [
              "  AnimalID     Name  ...                        Breed        Color\n",
              "0  A671945  Hambone  ...        Shetland Sheepdog Mix  Brown/White\n",
              "1  A656520    Emily  ...       Domestic Shorthair Mix  Cream Tabby\n",
              "2  A686464   Pearce  ...                 Pit Bull Mix   Blue/White\n",
              "3  A683430      NaN  ...       Domestic Shorthair Mix   Blue Cream\n",
              "4  A667013      NaN  ...  Lhasa Apso/Miniature Poodle          Tan\n",
              "\n",
              "[5 rows x 10 columns]"
            ]
          },
          "metadata": {
            "tags": []
          },
          "execution_count": 4
        }
      ]
    },
    {
      "cell_type": "code",
      "metadata": {
        "id": "VQOFf2AmamLI",
        "colab_type": "code",
        "colab": {
          "base_uri": "https://localhost:8080/",
          "height": 34
        },
        "outputId": "e71a6268-9ac7-4fc6-bfcf-1c69dc2cc9b1"
      },
      "source": [
        "train.shape"
      ],
      "execution_count": 5,
      "outputs": [
        {
          "output_type": "execute_result",
          "data": {
            "text/plain": [
              "(26729, 10)"
            ]
          },
          "metadata": {
            "tags": []
          },
          "execution_count": 5
        }
      ]
    },
    {
      "cell_type": "code",
      "metadata": {
        "id": "u7aOcBsIavyI",
        "colab_type": "code",
        "colab": {
          "base_uri": "https://localhost:8080/",
          "height": 356
        },
        "outputId": "6831304a-f7cc-4d2d-fd21-28830c289860"
      },
      "source": [
        "train['OutcomeType'].value_counts().plot.bar()"
      ],
      "execution_count": 6,
      "outputs": [
        {
          "output_type": "execute_result",
          "data": {
            "text/plain": [
              "<matplotlib.axes._subplots.AxesSubplot at 0x7fba20c8a668>"
            ]
          },
          "metadata": {
            "tags": []
          },
          "execution_count": 6
        },
        {
          "output_type": "display_data",
          "data": {
            "image/png": "[encoded data removed]",
            "text/plain": [
              "<Figure size 432x288 with 1 Axes>"
            ]
          },
          "metadata": {
            "tags": [],
            "needs_background": "light"
          }
        }
      ]
    },
    {
      "cell_type": "code",
      "metadata": {
        "id": "dAhV3lB0axNu",
        "colab_type": "code",
        "colab": {
          "base_uri": "https://localhost:8080/",
          "height": 204
        },
        "outputId": "01c5b458-54ab-45b4-de22-7da9cc88b562"
      },
      "source": [
        "train.dtypes"
      ],
      "execution_count": 7,
      "outputs": [
        {
          "output_type": "execute_result",
          "data": {
            "text/plain": [
              "AnimalID          object\n",
              "Name              object\n",
              "DateTime          object\n",
              "OutcomeType       object\n",
              "OutcomeSubtype    object\n",
              "AnimalType        object\n",
              "SexuponOutcome    object\n",
              "AgeuponOutcome    object\n",
              "Breed             object\n",
              "Color             object\n",
              "dtype: object"
            ]
          },
          "metadata": {
            "tags": []
          },
          "execution_count": 7
        }
      ]
    },
    {
      "cell_type": "code",
      "metadata": {
        "id": "72xqRXcwa1Uh",
        "colab_type": "code",
        "colab": {
          "base_uri": "https://localhost:8080/",
          "height": 357
        },
        "outputId": "2691e9e8-2b7f-4e37-f943-53fab8f85762"
      },
      "source": [
        "columns = train.columns\n",
        "for column in columns:\n",
        "    print(column)\n",
        "    print(train[column].nunique())"
      ],
      "execution_count": 8,
      "outputs": [
        {
          "output_type": "stream",
          "text": [
            "AnimalID\n",
            "26729\n",
            "Name\n",
            "6374\n",
            "DateTime\n",
            "22918\n",
            "OutcomeType\n",
            "5\n",
            "OutcomeSubtype\n",
            "16\n",
            "AnimalType\n",
            "2\n",
            "SexuponOutcome\n",
            "5\n",
            "AgeuponOutcome\n",
            "44\n",
            "Breed\n",
            "1380\n",
            "Color\n",
            "366\n"
          ],
          "name": "stdout"
        }
      ]
    },
    {
      "cell_type": "markdown",
      "metadata": {
        "id": "R9gikYbQbR83",
        "colab_type": "text"
      },
      "source": [
        "# Processing categorical data"
      ]
    },
    {
      "cell_type": "markdown",
      "metadata": {
        "id": "GG0afJBQbgyP",
        "colab_type": "text"
      },
      "source": [
        "## - One hot encoding\n",
        "## - Label encoding\n",
        "## - Ordinal or continuous variables encoding"
      ]
    },
    {
      "cell_type": "markdown",
      "metadata": {
        "id": "ttQoT6Yvc9_Z",
        "colab_type": "text"
      },
      "source": [
        "# Handling missing values"
      ]
    },
    {
      "cell_type": "code",
      "metadata": {
        "id": "fNTHEC95bLrR",
        "colab_type": "code",
        "colab": {
          "base_uri": "https://localhost:8080/",
          "height": 204
        },
        "outputId": "0340ed02-a340-4993-d493-898f17217e38"
      },
      "source": [
        "train.apply(lambda x: sum(x.isnull()/len(train)))"
      ],
      "execution_count": 9,
      "outputs": [
        {
          "output_type": "execute_result",
          "data": {
            "text/plain": [
              "AnimalID          0.000000\n",
              "Name              0.287740\n",
              "DateTime          0.000000\n",
              "OutcomeType       0.000000\n",
              "OutcomeSubtype    0.509260\n",
              "AnimalType        0.000000\n",
              "SexuponOutcome    0.000037\n",
              "AgeuponOutcome    0.000673\n",
              "Breed             0.000000\n",
              "Color             0.000000\n",
              "dtype: float64"
            ]
          },
          "metadata": {
            "tags": []
          },
          "execution_count": 9
        }
      ]
    },
    {
      "cell_type": "markdown",
      "metadata": {
        "id": "4kXfdg2FeMbx",
        "colab_type": "text"
      },
      "source": [
        "\"Name\" and \"OutcomeSubtype\" has a lot of missing values"
      ]
    },
    {
      "cell_type": "code",
      "metadata": {
        "id": "PsboL0ybdCaP",
        "colab_type": "code",
        "colab": {}
      },
      "source": [
        "train = train.drop('OutcomeSubtype', axis=1)"
      ],
      "execution_count": 10,
      "outputs": []
    },
    {
      "cell_type": "code",
      "metadata": {
        "id": "QFWMHOgfeQ_g",
        "colab_type": "code",
        "colab": {}
      },
      "source": [
        "train['Name'] = train[['Name']].fillna(value=0)\n",
        "train['has_name'] = (train['Name'] != 0).astype('int64')\n",
        "train = train.drop('Name', axis=1)"
      ],
      "execution_count": 11,
      "outputs": []
    },
    {
      "cell_type": "code",
      "metadata": {
        "id": "vvgme-cGeeTO",
        "colab_type": "code",
        "colab": {
          "base_uri": "https://localhost:8080/",
          "height": 187
        },
        "outputId": "e466a050-c086-4309-df16-9770d5670601"
      },
      "source": [
        "train = train.apply(lambda x:x.fillna(x.value_counts().index[0]))\n",
        "train.apply(lambda x: sum(x.isnull()/len(train)))"
      ],
      "execution_count": 12,
      "outputs": [
        {
          "output_type": "execute_result",
          "data": {
            "text/plain": [
              "AnimalID          0.0\n",
              "DateTime          0.0\n",
              "OutcomeType       0.0\n",
              "AnimalType        0.0\n",
              "SexuponOutcome    0.0\n",
              "AgeuponOutcome    0.0\n",
              "Breed             0.0\n",
              "Color             0.0\n",
              "has_name          0.0\n",
              "dtype: float64"
            ]
          },
          "metadata": {
            "tags": []
          },
          "execution_count": 12
        }
      ]
    },
    {
      "cell_type": "code",
      "metadata": {
        "id": "tNwqnC5xenyI",
        "colab_type": "code",
        "colab": {}
      },
      "source": [
        "train = train.drop('AnimalID', axis=1)"
      ],
      "execution_count": 13,
      "outputs": []
    },
    {
      "cell_type": "code",
      "metadata": {
        "id": "1OQBfhHner_G",
        "colab_type": "code",
        "colab": {
          "base_uri": "https://localhost:8080/",
          "height": 34
        },
        "outputId": "a0f43570-2768-4c12-9373-4236aeaaeae9"
      },
      "source": [
        "color_counts = train['Color'].value_counts()\n",
        "color_others = set(color_counts[color_counts < 300].index)\n",
        "train['top_colors'] = train['Color'].replace(list(color_others), 'Others')\n",
        "print(train['top_colors'].nunique())"
      ],
      "execution_count": 14,
      "outputs": [
        {
          "output_type": "stream",
          "text": [
            "28\n"
          ],
          "name": "stdout"
        }
      ]
    },
    {
      "cell_type": "code",
      "metadata": {
        "id": "BMHrkHkwh-kh",
        "colab_type": "code",
        "colab": {
          "base_uri": "https://localhost:8080/",
          "height": 510
        },
        "outputId": "8ac907ab-8d53-49e7-b4d5-97b90c036927"
      },
      "source": [
        "train['top_colors'].value_counts()"
      ],
      "execution_count": 15,
      "outputs": [
        {
          "output_type": "execute_result",
          "data": {
            "text/plain": [
              "Others                 6008\n",
              "Black/White            2824\n",
              "Black                  2292\n",
              "Brown Tabby            1635\n",
              "Brown Tabby/White       940\n",
              "White                   931\n",
              "Brown/White             884\n",
              "Orange Tabby            841\n",
              "Tan/White               773\n",
              "Tricolor                752\n",
              "Blue/White              702\n",
              "Black/Tan               672\n",
              "White/Black             643\n",
              "Brown                   639\n",
              "Tan                     628\n",
              "White/Brown             569\n",
              "Tortie                  530\n",
              "Calico                  517\n",
              "Orange Tabby/White      455\n",
              "Blue                    450\n",
              "Brown Brindle/White     450\n",
              "Black/Brown             436\n",
              "Blue Tabby              433\n",
              "White/Tan               389\n",
              "Red                     337\n",
              "Torbie                  335\n",
              "Brown/Black             333\n",
              "Red/White               331\n",
              "Name: top_colors, dtype: int64"
            ]
          },
          "metadata": {
            "tags": []
          },
          "execution_count": 15
        }
      ]
    },
    {
      "cell_type": "code",
      "metadata": {
        "id": "z-5b6qW5eyew",
        "colab_type": "code",
        "colab": {}
      },
      "source": [
        "train['breed_type'] = train.Breed.str.extract('({})'.format('|'.join(['Mix'])),\n",
        "                                              flags=re.IGNORECASE, expand=False).str.lower().fillna('pure')"
      ],
      "execution_count": 16,
      "outputs": []
    },
    {
      "cell_type": "code",
      "metadata": {
        "id": "cHC2V421gveH",
        "colab_type": "code",
        "colab": {}
      },
      "source": [
        "train['multi_colors'] = train['Color'].apply(lambda x : 1 if '/' in x else 0)"
      ],
      "execution_count": 17,
      "outputs": []
    },
    {
      "cell_type": "code",
      "metadata": {
        "id": "NOECmojtiOBE",
        "colab_type": "code",
        "colab": {
          "base_uri": "https://localhost:8080/",
          "height": 782
        },
        "outputId": "4f75ef63-4911-4a3a-8e87-b8f1cec68500"
      },
      "source": [
        "train['AgeuponOutcome'].value_counts()"
      ],
      "execution_count": 18,
      "outputs": [
        {
          "output_type": "execute_result",
          "data": {
            "text/plain": [
              "1 year       3987\n",
              "2 years      3742\n",
              "2 months     3397\n",
              "3 years      1823\n",
              "1 month      1281\n",
              "3 months     1277\n",
              "4 years      1071\n",
              "5 years       992\n",
              "4 months      888\n",
              "6 years       670\n",
              "3 weeks       659\n",
              "5 months      652\n",
              "6 months      588\n",
              "8 years       536\n",
              "7 years       531\n",
              "2 weeks       529\n",
              "10 months     457\n",
              "10 years      446\n",
              "8 months      402\n",
              "4 weeks       334\n",
              "7 months      288\n",
              "9 years       288\n",
              "12 years      234\n",
              "9 months      224\n",
              "1 weeks       171\n",
              "11 months     166\n",
              "1 week        146\n",
              "13 years      143\n",
              "11 years      126\n",
              "3 days        109\n",
              "2 days         99\n",
              "14 years       97\n",
              "15 years       85\n",
              "1 day          66\n",
              "6 days         50\n",
              "4 days         50\n",
              "16 years       36\n",
              "5 days         24\n",
              "0 years        22\n",
              "17 years       17\n",
              "5 weeks        11\n",
              "18 years       10\n",
              "19 years        3\n",
              "20 years        2\n",
              "Name: AgeuponOutcome, dtype: int64"
            ]
          },
          "metadata": {
            "tags": []
          },
          "execution_count": 18
        }
      ]
    },
    {
      "cell_type": "code",
      "metadata": {
        "id": "dKKeDDqAgzib",
        "colab_type": "code",
        "colab": {}
      },
      "source": [
        "def age_converter(row):\n",
        "    age_string = row['AgeuponOutcome']\n",
        "    [age,unit] = age_string.split(\" \")\n",
        "    unit = unit.lower()\n",
        "    if(\"day\" in unit):\n",
        "        if age=='0': return 1\n",
        "        return int(age)\n",
        "    if(\"week\" in unit):\n",
        "        if(age)=='0': return 7\n",
        "        return int(age)*7\n",
        "    elif(\"month\" in unit):\n",
        "        if(age)=='0': return 30\n",
        "        return int(age) * 4*7\n",
        "    elif(\"year\" in unit):\n",
        "        if(age)=='0': return 365\n",
        "        return int(age) * 4*12*7\n",
        "train['age_numeric'] = train.apply(age_converter, axis=1)\n",
        "train = train.drop('AgeuponOutcome', axis=1)"
      ],
      "execution_count": 19,
      "outputs": []
    },
    {
      "cell_type": "code",
      "metadata": {
        "id": "PMlWGai3g5nS",
        "colab_type": "code",
        "colab": {}
      },
      "source": [
        "train = train.drop(['Breed','Color', 'DateTime'], axis=1)"
      ],
      "execution_count": 20,
      "outputs": []
    },
    {
      "cell_type": "code",
      "metadata": {
        "id": "P_CgCffAg_K7",
        "colab_type": "code",
        "colab": {}
      },
      "source": [
        "numeric_features = train.select_dtypes(include=['int64', 'float64']).columns"
      ],
      "execution_count": 21,
      "outputs": []
    },
    {
      "cell_type": "code",
      "metadata": {
        "id": "UKNrGv59hAnS",
        "colab_type": "code",
        "colab": {}
      },
      "source": [
        "categorical_features = train.select_dtypes(include=['object']).drop(['OutcomeType'], axis=1).columns"
      ],
      "execution_count": 22,
      "outputs": []
    },
    {
      "cell_type": "code",
      "metadata": {
        "id": "zJl_GWeJhBxS",
        "colab_type": "code",
        "colab": {}
      },
      "source": [
        "dummy_columns = pd.get_dummies(train[categorical_features])"
      ],
      "execution_count": 23,
      "outputs": []
    },
    {
      "cell_type": "code",
      "metadata": {
        "id": "zjU2jPlohD23",
        "colab_type": "code",
        "colab": {}
      },
      "source": [
        "final_train = pd.concat([dummy_columns, train],axis=1)"
      ],
      "execution_count": 24,
      "outputs": []
    },
    {
      "cell_type": "code",
      "metadata": {
        "id": "Fvsx5EybhE8r",
        "colab_type": "code",
        "colab": {}
      },
      "source": [
        "final_train = final_train.drop(['AnimalType', 'breed_type', 'SexuponOutcome', 'top_colors'], axis=1)"
      ],
      "execution_count": 25,
      "outputs": []
    },
    {
      "cell_type": "markdown",
      "metadata": {
        "id": "f9qW67K5hHlK",
        "colab_type": "text"
      },
      "source": [
        "# Building a model"
      ]
    },
    {
      "cell_type": "code",
      "metadata": {
        "id": "B92d1N1BhGeL",
        "colab_type": "code",
        "colab": {}
      },
      "source": [
        "X = final_train.drop('OutcomeType', axis=1)\n",
        "y = final_train['OutcomeType']"
      ],
      "execution_count": 26,
      "outputs": []
    },
    {
      "cell_type": "code",
      "metadata": {
        "id": "kQ0mK4_AhMwk",
        "colab_type": "code",
        "colab": {}
      },
      "source": [
        "X_train, X_test, y_train, y_test = train_test_split(X, y, test_size=0.20, random_state=1)"
      ],
      "execution_count": 27,
      "outputs": []
    },
    {
      "cell_type": "code",
      "metadata": {
        "id": "hjvfVEPNhP60",
        "colab_type": "code",
        "colab": {}
      },
      "source": [
        "clf = RandomForestClassifier(n_estimators=100, max_depth=2,\n",
        "                            random_state=0)"
      ],
      "execution_count": 28,
      "outputs": []
    },
    {
      "cell_type": "code",
      "metadata": {
        "id": "pfdxj6BZicuc",
        "colab_type": "code",
        "colab": {}
      },
      "source": [
        ""
      ],
      "execution_count": 28,
      "outputs": []
    },
    {
      "cell_type": "code",
      "metadata": {
        "id": "eXeTogNXhUEs",
        "colab_type": "code",
        "colab": {
          "base_uri": "https://localhost:8080/",
          "height": 34
        },
        "outputId": "bc1c8bb8-fa8b-4080-b80c-e2cf81b106d3"
      },
      "source": [
        "rf_model = clf.fit(X_train, y_train)\n",
        "y_pred = clf.predict(X_test)\n",
        "print(accuracy_score(y_test,y_pred))"
      ],
      "execution_count": 29,
      "outputs": [
        {
          "output_type": "stream",
          "text": [
            "0.5948372615039281\n"
          ],
          "name": "stdout"
        }
      ]
    },
    {
      "cell_type": "code",
      "metadata": {
        "id": "iMApsaRDhVCd",
        "colab_type": "code",
        "colab": {
          "base_uri": "https://localhost:8080/",
          "height": 34
        },
        "outputId": "672aeb36-092b-4422-a78c-5d29d61586d6"
      },
      "source": [
        "y_prob = rf_model.predict_proba(X_test)\n",
        "print(log_loss(y_test, y_prob))"
      ],
      "execution_count": 30,
      "outputs": [
        {
          "output_type": "stream",
          "text": [
            "1.0822259028580448\n"
          ],
          "name": "stdout"
        }
      ]
    },
    {
      "cell_type": "code",
      "metadata": {
        "id": "-BcdM6WphiWY",
        "colab_type": "code",
        "colab": {
          "base_uri": "https://localhost:8080/",
          "height": 1000
        },
        "outputId": "b1d6e43c-99de-46bd-a904-92c98a25f20f"
      },
      "source": [
        "features=X.columns\n",
        "importances = rf_model.feature_importances_\n",
        "indices = np.argsort(importances)\n",
        "plt.figure(figsize=(10,20))\n",
        "plt.title('Feature Importances')\n",
        "plt.barh(range(len(indices)), importances[indices], color='b', align='center')\n",
        "plt.yticks(range(len(indices)), features[indices])\n",
        "plt.xlabel('Relative Importance')\n",
        "plt.show"
      ],
      "execution_count": 31,
      "outputs": [
        {
          "output_type": "execute_result",
          "data": {
            "text/plain": [
              "<function matplotlib.pyplot.show>"
            ]
          },
          "metadata": {
            "tags": []
          },
          "execution_count": 31
        },
        {
          "output_type": "display_data",
          "data": {
            "image/png": "[encoded data removed]",
            "text/plain": [
              "<Figure size 720x1440 with 1 Axes>"
            ]
          },
          "metadata": {
            "tags": [],
            "needs_background": "light"
          }
        }
      ]
    }
  ]
}