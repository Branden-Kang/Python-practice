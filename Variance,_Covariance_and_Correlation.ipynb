{
  "nbformat": 4,
  "nbformat_minor": 0,
  "metadata": {
    "colab": {
      "name": "Variance, Covariance and Correlation.ipynb",
      "provenance": [],
      "authorship_tag": "ABX9TyMzrc3HBjHUMWcZ9+hhr/Pf"
    },
    "kernelspec": {
      "name": "python3",
      "display_name": "Python 3"
    },
    "language_info": {
      "name": "python"
    }
  },
  "cells": [
    {
      "cell_type": "markdown",
      "source": [
        "[Reference](https://anyi-guo.medium.com/variance-covariance-and-correlation-whats-the-difference-499acd214656)"
      ],
      "metadata": {
        "id": "LUuWEooie9WP"
      }
    },
    {
      "cell_type": "markdown",
      "source": [
        "# How to calculate Variance"
      ],
      "metadata": {
        "id": "Pb3N2Td3fdBt"
      }
    },
    {
      "cell_type": "code",
      "execution_count": 1,
      "metadata": {
        "colab": {
          "base_uri": "https://localhost:8080/"
        },
        "id": "mziLJh59ee6E",
        "outputId": "0a239d6f-0451-48a3-d2b0-a810955e6cde"
      },
      "outputs": [
        {
          "output_type": "stream",
          "name": "stdout",
          "text": [
            "0.54\n",
            "0.37499999999999994\n"
          ]
        }
      ],
      "source": [
        "import numpy as np\n",
        "\n",
        "male_weights = [3.5, 2.8, 4.7, 4.3, 3.7]\n",
        "female_weights = [3.2, 2.9, 4.5, 3.6, 3.8]\n",
        "\n",
        "print(np.var(male_weights,ddof=1))\n",
        "print(np.var(female_weights,ddof=1))"
      ]
    },
    {
      "cell_type": "markdown",
      "source": [
        "![variance](https://miro.medium.com/max/1400/0*RZA1O7ujk7Oz7aLi.png)"
      ],
      "metadata": {
        "id": "BIFSZU_DfYFL"
      }
    },
    {
      "cell_type": "markdown",
      "source": [
        "# How to calculate covariance"
      ],
      "metadata": {
        "id": "ELE5AuM6ffYJ"
      }
    },
    {
      "cell_type": "code",
      "source": [
        "weights = [3.5, 2.8, 4.7, 4.3, 3.7]\n",
        "length = [[56,53,65,66,60]]\n",
        "np.cov(weights,length)"
      ],
      "metadata": {
        "colab": {
          "base_uri": "https://localhost:8080/"
        },
        "id": "xbv0WNmtfUGV",
        "outputId": "7b22ada6-7c8c-4c4b-a9e9-6279c3da823e"
      },
      "execution_count": 3,
      "outputs": [
        {
          "output_type": "execute_result",
          "data": {
            "text/plain": [
              "array([[ 0.54 ,  3.925],\n",
              "       [ 3.925, 31.5  ]])"
            ]
          },
          "metadata": {},
          "execution_count": 3
        }
      ]
    },
    {
      "cell_type": "markdown",
      "source": [
        "![covariance](https://miro.medium.com/max/1400/0*rU-DLXwSmfdEruQ9.jpg)"
      ],
      "metadata": {
        "id": "Bh0-dEkdfvJb"
      }
    },
    {
      "cell_type": "markdown",
      "source": [
        "# How to calculate Correlation"
      ],
      "metadata": {
        "id": "lWUmTOVIf433"
      }
    },
    {
      "cell_type": "code",
      "source": [
        "weights = [3.5, 2.8, 4.7, 4.3, 3.7]\n",
        "length = [[56,53,65,66,60]]\n",
        "print(np.corrcoef(weights,length))"
      ],
      "metadata": {
        "colab": {
          "base_uri": "https://localhost:8080/"
        },
        "id": "Y38h5Tg4fruH",
        "outputId": "9b0b1256-be05-4e66-ba10-09e326ff9782"
      },
      "execution_count": 4,
      "outputs": [
        {
          "output_type": "stream",
          "name": "stdout",
          "text": [
            "[[1.         0.95167247]\n",
            " [0.95167247 1.        ]]\n"
          ]
        }
      ]
    },
    {
      "cell_type": "markdown",
      "source": [
        "![correlation](https://miro.medium.com/max/2732/0*jR9l_FliJgqWF9t0)"
      ],
      "metadata": {
        "id": "ZcJdOst3gBXK"
      }
    },
    {
      "cell_type": "markdown",
      "source": [
        "![summary](https://miro.medium.com/max/1400/1*1xM12Tj_w4gIIC3AyX3P7Q.png)"
      ],
      "metadata": {
        "id": "NhydGgsdgKSa"
      }
    }
  ]
}