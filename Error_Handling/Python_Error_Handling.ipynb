{
  "nbformat": 4,
  "nbformat_minor": 0,
  "metadata": {
    "colab": {
      "name": "Python Error Handling.ipynb",
      "provenance": [],
      "authorship_tag": "ABX9TyMOnUH7ZnbN0Yapp7taTTTW"
    },
    "kernelspec": {
      "name": "python3",
      "display_name": "Python 3"
    }
  },
  "cells": [
    {
      "cell_type": "markdown",
      "metadata": {
        "id": "qdICTQXLm7AO"
      },
      "source": [
        "[Reference](https://medium.com/dev-genius/python-error-handling-8bed3f5b5769)"
      ]
    },
    {
      "cell_type": "code",
      "metadata": {
        "colab": {
          "base_uri": "https://localhost:8080/",
          "height": 232
        },
        "id": "jLemI9qQmNrE",
        "outputId": "316427ec-0b24-477d-8694-77b2bfc2d79f"
      },
      "source": [
        "number = 100\n",
        "divider = 0\n",
        "result = number / divider"
      ],
      "execution_count": 1,
      "outputs": [
        {
          "output_type": "error",
          "ename": "ZeroDivisionError",
          "evalue": "ignored",
          "traceback": [
            "\u001b[0;31m---------------------------------------------------------------------------\u001b[0m",
            "\u001b[0;31mZeroDivisionError\u001b[0m                         Traceback (most recent call last)",
            "\u001b[0;32m<ipython-input-1-012c639825b1>\u001b[0m in \u001b[0;36m<module>\u001b[0;34m()\u001b[0m\n\u001b[1;32m      1\u001b[0m \u001b[0mnumber\u001b[0m \u001b[0;34m=\u001b[0m \u001b[0;36m100\u001b[0m\u001b[0;34m\u001b[0m\u001b[0;34m\u001b[0m\u001b[0m\n\u001b[1;32m      2\u001b[0m \u001b[0mdivider\u001b[0m \u001b[0;34m=\u001b[0m \u001b[0;36m0\u001b[0m\u001b[0;34m\u001b[0m\u001b[0;34m\u001b[0m\u001b[0m\n\u001b[0;32m----> 3\u001b[0;31m \u001b[0mresult\u001b[0m \u001b[0;34m=\u001b[0m \u001b[0mnumber\u001b[0m \u001b[0;34m/\u001b[0m \u001b[0mdivider\u001b[0m\u001b[0;34m\u001b[0m\u001b[0;34m\u001b[0m\u001b[0m\n\u001b[0m",
            "\u001b[0;31mZeroDivisionError\u001b[0m: division by zero"
          ]
        }
      ]
    },
    {
      "cell_type": "code",
      "metadata": {
        "colab": {
          "base_uri": "https://localhost:8080/"
        },
        "id": "Q26O3VSsnZMS",
        "outputId": "1a7beb91-f535-4129-afe2-fa51d57fdb8b"
      },
      "source": [
        "try:\n",
        "    number = 100\n",
        "    divider = 0\n",
        "    result = number / divider\n",
        "except ZeroDivisionError as error:\n",
        "    print(error)"
      ],
      "execution_count": 2,
      "outputs": [
        {
          "output_type": "stream",
          "text": [
            "division by zero\n"
          ],
          "name": "stdout"
        }
      ]
    },
    {
      "cell_type": "code",
      "metadata": {
        "colab": {
          "base_uri": "https://localhost:8080/"
        },
        "id": "uiBrIvCLngVN",
        "outputId": "e4fd3cea-c0f1-48a9-b5ee-9f6b614da494"
      },
      "source": [
        "try:\n",
        "    number = 100\n",
        "    divider = 0\n",
        "    result = number / divider\n",
        "except ZeroDivisionError as error:\n",
        "    print(\"Cannot divide by zero\")\n",
        "except ValueError:\n",
        "    print(\"Please only number\")"
      ],
      "execution_count": 3,
      "outputs": [
        {
          "output_type": "stream",
          "text": [
            "Cannot divide by zero\n"
          ],
          "name": "stdout"
        }
      ]
    },
    {
      "cell_type": "code",
      "metadata": {
        "colab": {
          "base_uri": "https://localhost:8080/"
        },
        "id": "50NKXqmfnsuX",
        "outputId": "0cf79b96-6185-46ef-e9a0-2f9fcd85083a"
      },
      "source": [
        "try:\n",
        "    number = 100\n",
        "    divider = int(input(\"Please Enter the number to use for divider:\"))\n",
        "    result = number / divider\n",
        "except ZeroDivisionError as error:\n",
        "    print(\"Cannot divide by zero\")\n",
        "except ValueError:\n",
        "    print(\"Please only number\")\n",
        "except Exception as error:\n",
        "    print(f\"An exception occured {error}\")"
      ],
      "execution_count": 4,
      "outputs": [
        {
          "output_type": "stream",
          "text": [
            "Please Enter the number to use for divider:d\n",
            "Please only number\n"
          ],
          "name": "stdout"
        }
      ]
    },
    {
      "cell_type": "code",
      "metadata": {
        "colab": {
          "base_uri": "https://localhost:8080/"
        },
        "id": "nHabzLC6n6sM",
        "outputId": "a919d8f1-5c41-4713-9577-7ed6b0fab1a0"
      },
      "source": [
        "try:\n",
        "    number = 100\n",
        "    divider = int(input(\"Please Enter the number to use for divider:\"))\n",
        "    result = number / divider\n",
        "except Exception as error:\n",
        "    print(f\"An exception occured {error}\")\n",
        "except ZeroDivisionError as error:\n",
        "    print(\"Cannot divide by zero\")\n",
        "except ValueError:\n",
        "    print(\"Please only number\")"
      ],
      "execution_count": 5,
      "outputs": [
        {
          "output_type": "stream",
          "text": [
            "Please Enter the number to use for divider:d\n",
            "An exception occured invalid literal for int() with base 10: 'd'\n"
          ],
          "name": "stdout"
        }
      ]
    },
    {
      "cell_type": "markdown",
      "metadata": {
        "id": "G1dHsitgoDAO"
      },
      "source": [
        "# Use Try Finally"
      ]
    },
    {
      "cell_type": "code",
      "metadata": {
        "id": "Y9j3ULKgoAp6"
      },
      "source": [
        "try:\n",
        "    file = open(\"testfile\",\"w\")\n",
        "    file.write(\"Writing to the file\")\n",
        "except IOError:\n",
        "    print(\"An IOError occureed while writing to the file\")\n",
        "except Exception as error:\n",
        "    print(f\"An exception occurred {error}\")\n",
        "finally:\n",
        "    file.close()"
      ],
      "execution_count": 7,
      "outputs": []
    },
    {
      "cell_type": "code",
      "metadata": {
        "id": "2kanbwBAoZzW"
      },
      "source": [
        "wtry:\n",
        "    with open(\"testfile\",\"w\") as file:\n",
        "        file.write(\"Writing to the file\")\n",
        "except IOError:\n",
        "    print(\"An IOError occureed while writing to the file\")\n",
        "except Exception as error:\n",
        "    print(f\"An exception occurred {error}\")"
      ],
      "execution_count": 8,
      "outputs": []
    },
    {
      "cell_type": "code",
      "metadata": {
        "id": "9HPQDoqKoweD"
      },
      "source": [
        "import os.path\n",
        "import errono\n",
        "\n",
        "def start():\n",
        "    if not os.path.isfile('./configuration.json'):\n",
        "        raise FileNotFoundError(errno.ENOENT, os.strerror(errno.ENOENT),\n",
        "                                'configuration.json')\n",
        "    else:\n",
        "        pass\n",
        "\n",
        "start()"
      ],
      "execution_count": 9,
      "outputs": []
    },
    {
      "cell_type": "code",
      "metadata": {
        "id": "GMsB2xt-o-Xu"
      },
      "source": [
        "import os.path\n",
        "\n",
        "class ConfigureError(Exception):\n",
        "    def __init__(self, message):\n",
        "        super().__init__(message)\n",
        "\n",
        "def start():\n",
        "    if not os.path.isfile('./configuration.json'):\n",
        "        raise FileNotFoundError(errno.ENOENT, os.strerror(errno.ENOENT),\n",
        "                                'configuration.json')\n",
        "    else:\n",
        "        pass\n",
        "\n",
        "start()"
      ],
      "execution_count": 10,
      "outputs": []
    },
    {
      "cell_type": "code",
      "metadata": {
        "id": "U6UKBgdIpWIr"
      },
      "source": [
        "import logging\n",
        "\n",
        "logger = logging.getLogger(__name__)\n",
        "\n",
        "def start():\n",
        "    try:\n",
        "        configure()\n",
        "    except FileNotFoundError as error:\n",
        "        logger.error(error)\n",
        "        raise"
      ],
      "execution_count": 11,
      "outputs": []
    }
  ]
}