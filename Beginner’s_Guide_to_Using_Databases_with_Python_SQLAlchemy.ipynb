{
  "nbformat": 4,
  "nbformat_minor": 0,
  "metadata": {
    "colab": {
      "provenance": [],
      "authorship_tag": "ABX9TyMFgjBTbjQpPo5wNLdizxts"
    },
    "kernelspec": {
      "name": "python3",
      "display_name": "Python 3"
    },
    "language_info": {
      "name": "python"
    }
  },
  "cells": [
    {
      "cell_type": "markdown",
      "source": [
        "[Reference](https://python.plainenglish.io/beginners-guide-to-using-databases-with-python-sqlalchemy-59981c91e260)"
      ],
      "metadata": {
        "id": "0Ci7nbegfHUK"
      }
    },
    {
      "cell_type": "code",
      "execution_count": 1,
      "metadata": {
        "colab": {
          "base_uri": "https://localhost:8080/"
        },
        "id": "FMdXWOLTfB-B",
        "outputId": "3ed86767-69f8-488a-fb5b-7ac8c85cef4b"
      },
      "outputs": [
        {
          "output_type": "stream",
          "name": "stdout",
          "text": [
            "Requirement already satisfied: SQLAlchemy in /usr/local/lib/python3.10/dist-packages (2.0.28)\n",
            "Requirement already satisfied: typing-extensions>=4.6.0 in /usr/local/lib/python3.10/dist-packages (from SQLAlchemy) (4.10.0)\n",
            "Requirement already satisfied: greenlet!=0.4.17 in /usr/local/lib/python3.10/dist-packages (from SQLAlchemy) (3.0.3)\n"
          ]
        }
      ],
      "source": [
        "pip install SQLAlchemy"
      ]
    },
    {
      "cell_type": "code",
      "source": [
        "pip install --pre SQLAlchemy"
      ],
      "metadata": {
        "colab": {
          "base_uri": "https://localhost:8080/"
        },
        "id": "GIzFWbHZfviQ",
        "outputId": "982fa3f2-9800-450a-8c4d-788a09f0bfa7"
      },
      "execution_count": 3,
      "outputs": [
        {
          "output_type": "stream",
          "name": "stdout",
          "text": [
            "Requirement already satisfied: SQLAlchemy in /usr/local/lib/python3.10/dist-packages (2.0.28)\n",
            "Requirement already satisfied: typing-extensions>=4.6.0 in /usr/local/lib/python3.10/dist-packages (from SQLAlchemy) (4.10.0)\n",
            "Requirement already satisfied: greenlet!=0.4.17 in /usr/local/lib/python3.10/dist-packages (from SQLAlchemy) (3.0.3)\n"
          ]
        }
      ]
    },
    {
      "cell_type": "code",
      "source": [
        "# python setup.py install"
      ],
      "metadata": {
        "id": "YiBzvwHhf06n"
      },
      "execution_count": 2,
      "outputs": []
    },
    {
      "cell_type": "code",
      "source": [
        "# # cd into SQLAlchemy source distribution\n",
        "# cd path/to/sqlalchemy\n",
        "# # install cython\n",
        "# pip install cython# optionally build Cython extensions ahead of install\n",
        "# python setup.py build_ext# run the install\n",
        "# python setup.py install"
      ],
      "metadata": {
        "id": "YfhtFxtzf1pL"
      },
      "execution_count": 4,
      "outputs": []
    },
    {
      "cell_type": "code",
      "source": [
        "import sqlalchemy\n",
        "sqlalchemy.__version__"
      ],
      "metadata": {
        "colab": {
          "base_uri": "https://localhost:8080/",
          "height": 35
        },
        "id": "FfiJ_t7Vf72s",
        "outputId": "072e9986-ce90-47c5-b2fa-88249b9db73c"
      },
      "execution_count": 5,
      "outputs": [
        {
          "output_type": "execute_result",
          "data": {
            "text/plain": [
              "'2.0.28'"
            ],
            "application/vnd.google.colaboratory.intrinsic+json": {
              "type": "string"
            }
          },
          "metadata": {},
          "execution_count": 5
        }
      ]
    }
  ]
}