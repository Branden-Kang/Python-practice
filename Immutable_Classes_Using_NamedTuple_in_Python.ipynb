{
  "nbformat": 4,
  "nbformat_minor": 0,
  "metadata": {
    "colab": {
      "name": "Immutable Classes Using NamedTuple in Python.ipynb",
      "provenance": [],
      "authorship_tag": "ABX9TyMc4gospd5odGIku+Nkjbn1"
    },
    "kernelspec": {
      "name": "python3",
      "display_name": "Python 3"
    }
  },
  "cells": [
    {
      "cell_type": "markdown",
      "metadata": {
        "id": "HL6SkIZj6Hix"
      },
      "source": [
        "[Reference](https://medium.com/python-in-plain-english/creating-immutable-classes-using-namedtuple-in-python-b7e6f5b92563)"
      ]
    },
    {
      "cell_type": "code",
      "metadata": {
        "colab": {
          "base_uri": "https://localhost:8080/",
          "height": 249
        },
        "id": "YgGfDKzQ6FlY",
        "outputId": "0fce8563-5abf-4528-e8e9-b11fd4e18597"
      },
      "source": [
        "tuple_ = (1,2,3,4,5)\n",
        "\n",
        "print(tuple_[0])\n",
        "\n",
        "tuple_[0] = 5"
      ],
      "execution_count": 3,
      "outputs": [
        {
          "output_type": "stream",
          "text": [
            "1\n"
          ],
          "name": "stdout"
        },
        {
          "output_type": "error",
          "ename": "TypeError",
          "evalue": "ignored",
          "traceback": [
            "\u001b[0;31m---------------------------------------------------------------------------\u001b[0m",
            "\u001b[0;31mTypeError\u001b[0m                                 Traceback (most recent call last)",
            "\u001b[0;32m<ipython-input-3-325cdb66c66f>\u001b[0m in \u001b[0;36m<module>\u001b[0;34m()\u001b[0m\n\u001b[1;32m      3\u001b[0m \u001b[0mprint\u001b[0m\u001b[0;34m(\u001b[0m\u001b[0mtuple_\u001b[0m\u001b[0;34m[\u001b[0m\u001b[0;36m0\u001b[0m\u001b[0;34m]\u001b[0m\u001b[0;34m)\u001b[0m\u001b[0;34m\u001b[0m\u001b[0;34m\u001b[0m\u001b[0m\n\u001b[1;32m      4\u001b[0m \u001b[0;34m\u001b[0m\u001b[0m\n\u001b[0;32m----> 5\u001b[0;31m \u001b[0mtuple_\u001b[0m\u001b[0;34m[\u001b[0m\u001b[0;36m0\u001b[0m\u001b[0;34m]\u001b[0m \u001b[0;34m=\u001b[0m \u001b[0;36m5\u001b[0m\u001b[0;34m\u001b[0m\u001b[0;34m\u001b[0m\u001b[0m\n\u001b[0m",
            "\u001b[0;31mTypeError\u001b[0m: 'tuple' object does not support item assignment"
          ]
        }
      ]
    },
    {
      "cell_type": "code",
      "metadata": {
        "id": "0_tkLzdA6Mj7"
      },
      "source": [
        "from collections import namedtuple\n",
        "\n",
        "\n",
        "Person = namedtuple(typename=\"Person\", field_names=[\"name\", \"job\"])\n",
        "\n",
        "person = Person(\"Branden\", \"Data Scientist\")"
      ],
      "execution_count": 5,
      "outputs": []
    },
    {
      "cell_type": "code",
      "metadata": {
        "colab": {
          "base_uri": "https://localhost:8080/"
        },
        "id": "m981dMitcxKD",
        "outputId": "6b5ad3b2-f624-4fb6-f9e2-6c2de3cc8bb6"
      },
      "source": [
        "from collections import namedtuple\n",
        "\n",
        "Person = namedtuple(typename=\"Person\", field_names=[\"name\", \"job\"])\n",
        "person = Person(\"Branden\", \"Data Scientist\")\n",
        "\n",
        "print(person[0])\n",
        "print(person[1])\n",
        "print(person.name)\n",
        "print(person.job)"
      ],
      "execution_count": 6,
      "outputs": [
        {
          "output_type": "stream",
          "text": [
            "Branden\n",
            "Data Scientist\n",
            "Branden\n",
            "Data Scientist\n"
          ],
          "name": "stdout"
        }
      ]
    },
    {
      "cell_type": "code",
      "metadata": {
        "colab": {
          "base_uri": "https://localhost:8080/"
        },
        "id": "eEWJ_zDieH7e",
        "outputId": "89eeb77b-20af-49c5-8d59-155461474576"
      },
      "source": [
        "name, job = person\n",
        "print(name, job)\n",
        "print(*person)"
      ],
      "execution_count": 7,
      "outputs": [
        {
          "output_type": "stream",
          "text": [
            "Branden Data Scientist\n",
            "Branden Data Scientist\n"
          ],
          "name": "stdout"
        }
      ]
    },
    {
      "cell_type": "code",
      "metadata": {
        "colab": {
          "base_uri": "https://localhost:8080/"
        },
        "id": "YTCr9ylfeZ8e",
        "outputId": "853c7d8c-c444-4e02-adee-7663f55ba435"
      },
      "source": [
        "Person = namedtuple(typename=\"Person\", field_names=[\"name\", \"job\"])\n",
        "\n",
        "class Programmer(Person):\n",
        "    def programming(self):\n",
        "        if self.job == \"soft developer\":\n",
        "            return \"Use JAVA\"\n",
        "\n",
        "\n",
        "it = Programmer(\"James\", \"soft developer\")\n",
        "print(it.programming())"
      ],
      "execution_count": 9,
      "outputs": [
        {
          "output_type": "stream",
          "text": [
            "Use JAVA\n"
          ],
          "name": "stdout"
        }
      ]
    },
    {
      "cell_type": "code",
      "metadata": {
        "colab": {
          "base_uri": "https://localhost:8080/"
        },
        "id": "iMdXHVXmf0j9",
        "outputId": "1c6ca370-59a5-4c4a-fba2-2edd6234d45e"
      },
      "source": [
        "Programmer = namedtuple(typename=\"Programmer\", field_names=Person._fields + (\"use_java\",))\n",
        "\n",
        "it = Programmer(\"James\", \"soft developer\", True)\n",
        "\n",
        "print(it.use_java)\n",
        "print(it.name)"
      ],
      "execution_count": 10,
      "outputs": [
        {
          "output_type": "stream",
          "text": [
            "True\n",
            "James\n"
          ],
          "name": "stdout"
        }
      ]
    },
    {
      "cell_type": "code",
      "metadata": {
        "colab": {
          "base_uri": "https://localhost:8080/"
        },
        "id": "UnmNFti8gphd",
        "outputId": "a43aaeed-6393-4bf7-ba71-21d3b58062ab"
      },
      "source": [
        "from collections import namedtuple\n",
        "import json\n",
        "\n",
        "Person = namedtuple(\"Person\", field_names=[\"name\", \"job\", \"speciality\", \"location\"])\n",
        "\n",
        "person = Person(\"Branden\", \"data scientist\", \"computer vision\", \"USA\")\n",
        "\n",
        "print(person._asdict())\n",
        "print(json.dumps(person._asdict()))"
      ],
      "execution_count": 15,
      "outputs": [
        {
          "output_type": "stream",
          "text": [
            "OrderedDict([('name', 'Branden'), ('job', 'data scientist'), ('speciality', 'computer vision'), ('location', 'USA')])\n",
            "{\"name\": \"Branden\", \"job\": \"data scientist\", \"speciality\": \"computer vision\", \"location\": \"USA\"}\n"
          ],
          "name": "stdout"
        }
      ]
    },
    {
      "cell_type": "code",
      "metadata": {
        "colab": {
          "base_uri": "https://localhost:8080/"
        },
        "id": "WimFxD4ShRiq",
        "outputId": "5519d1e8-7c37-4b5d-a92b-b214186c100c"
      },
      "source": [
        "person = Person._make([\"James\", \"data engineer\", \"kubernetes\", \"Canada\"])\n",
        "print(person)"
      ],
      "execution_count": 13,
      "outputs": [
        {
          "output_type": "stream",
          "text": [
            "Person(name='James', job='data engineer', speciality='kubernetes', location='Canada')\n"
          ],
          "name": "stdout"
        }
      ]
    },
    {
      "cell_type": "code",
      "metadata": {
        "colab": {
          "base_uri": "https://localhost:8080/"
        },
        "id": "oIYwh8abh5g0",
        "outputId": "f50e0591-41e7-43cf-89e2-df44c67eaffb"
      },
      "source": [
        "from collections import namedtuple\n",
        "\n",
        "Person = namedtuple(\"Person\", field_names=[\"name\", \"job\", \"speciality\", \"location\"])\n",
        "\n",
        "person = Person(\"Branden\", \"data scientist\", \"computer vision\", \"USA\")\n",
        "updated_person = person._replace(speciality=\"natural language processing\")\n",
        "print(updated_person)"
      ],
      "execution_count": 16,
      "outputs": [
        {
          "output_type": "stream",
          "text": [
            "Person(name='Branden', job='data scientist', speciality='natural language processing', location='USA')\n"
          ],
          "name": "stdout"
        }
      ]
    }
  ]
}