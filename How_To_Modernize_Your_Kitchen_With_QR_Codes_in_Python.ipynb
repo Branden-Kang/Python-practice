{
  "nbformat": 4,
  "nbformat_minor": 0,
  "metadata": {
    "colab": {
      "name": "How To Modernize Your Kitchen With QR Codes in Python.ipynb",
      "provenance": [],
      "authorship_tag": "ABX9TyORlrJfG6ttgGWfmV9hc5ej"
    },
    "kernelspec": {
      "name": "python3",
      "display_name": "Python 3"
    },
    "language_info": {
      "name": "python"
    }
  },
  "cells": [
    {
      "cell_type": "markdown",
      "metadata": {
        "id": "m0ay3mPdGTz-"
      },
      "source": [
        "[Reference](https://betterprogramming.pub/how-to-modernize-your-kitchen-with-qr-codes-in-python-995aae0c4ccd)"
      ]
    },
    {
      "cell_type": "code",
      "metadata": {
        "colab": {
          "base_uri": "https://localhost:8080/"
        },
        "id": "VEgwloveGOtA",
        "outputId": "968ed049-0a25-4532-bf25-758d092d0367"
      },
      "source": [
        "!pip3 install qrcode"
      ],
      "execution_count": 2,
      "outputs": [
        {
          "output_type": "stream",
          "text": [
            "Collecting qrcode\n",
            "  Downloading https://files.pythonhosted.org/packages/42/87/4a3a77e59ab7493d64da1f69bf1c2e899a4cf81e51b2baa855e8cc8115be/qrcode-6.1-py2.py3-none-any.whl\n",
            "Requirement already satisfied: six in /usr/local/lib/python3.7/dist-packages (from qrcode) (1.15.0)\n",
            "Installing collected packages: qrcode\n",
            "Successfully installed qrcode-6.1\n"
          ],
          "name": "stdout"
        }
      ]
    },
    {
      "cell_type": "code",
      "metadata": {
        "id": "qBCfPDQ9GPMb"
      },
      "source": [
        "import qrcode\n",
        "qr = qrcode.QRCode(\n",
        "    version=1,\n",
        "    error_correction=qrcode.constants.ERROR_CORRECT_L,\n",
        "    box_size=5,\n",
        "    border=4,\n",
        ")\n",
        "data = 'Peppermint. Uses: indigestion, nausea. Steep time: 5-10 mins.'\n",
        "qr.add_data(data)\n",
        "qr.make(fit=True)\n",
        "\n",
        "img = qr.make_image(fill_color=\"black\", back_color=\"white\")\n",
        "img.save('peppermint.png')"
      ],
      "execution_count": 3,
      "outputs": []
    },
    {
      "cell_type": "code",
      "metadata": {
        "id": "JWFkEAFMGjTs"
      },
      "source": [
        "import qrcode\n",
        "from csv import DictReader\n",
        "  \n",
        "with open('herbs.csv', 'r') as read_obj:\n",
        "    csv_dict_reader = DictReader(read_obj)\n",
        "    for row in csv_dict_reader:\n",
        "        print(row['Name'], row['Details'])\n",
        "        data = row['Details']\n",
        "        qr = qrcode.QRCode(\n",
        "    version=1,\n",
        "    error_correction=qrcode.constants.ERROR_CORRECT_L,\n",
        "    box_size=5,\n",
        "    border=4)\n",
        "        qr.add_data(data)\n",
        "        qr.make(fit=True)\n",
        "        img = qr.make_image(fill_color=\"black\", back_color=\"white\")\n",
        "        img.save(row['Name'] +'.png') "
      ],
      "execution_count": 5,
      "outputs": []
    }
  ]
}