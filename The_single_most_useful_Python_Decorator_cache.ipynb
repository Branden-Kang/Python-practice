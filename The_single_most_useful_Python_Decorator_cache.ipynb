{
  "nbformat": 4,
  "nbformat_minor": 0,
  "metadata": {
    "colab": {
      "name": "The single most useful Python Decorator @cache.ipynb",
      "provenance": [],
      "authorship_tag": "ABX9TyMjU9u5wkF8cTfvaKqyOoQ+"
    },
    "kernelspec": {
      "name": "python3",
      "display_name": "Python 3"
    },
    "language_info": {
      "name": "python"
    }
  },
  "cells": [
    {
      "cell_type": "markdown",
      "metadata": {
        "id": "yB5OV-KRSbZD"
      },
      "source": [
        "[Reference](https://medium.com/dev-today/the-single-most-useful-python-decorator-cache-88086c07417e)"
      ]
    },
    {
      "cell_type": "code",
      "metadata": {
        "id": "pqPMTvLzR82y"
      },
      "source": [
        "def factorial(n):\n",
        "    return n * factorial(n-1) if n else 1"
      ],
      "execution_count": 1,
      "outputs": []
    },
    {
      "cell_type": "code",
      "metadata": {
        "colab": {
          "base_uri": "https://localhost:8080/"
        },
        "id": "cZpdMm66Sen6",
        "outputId": "b956c80f-22b5-4d79-a366-0a63f6c2b93e"
      },
      "source": [
        "import timeit\n",
        "import sys\n",
        "sys.setrecursionlimit(5000)\n",
        "\n",
        "def factorial(n):\n",
        "    return n * factorial(n-1) if n else 1\n",
        "\n",
        "if __name__ == '__main__':\n",
        "    print(timeit.timeit(\"factorial(10)\", setup=\"from __main__ import factorial\"))"
      ],
      "execution_count": 3,
      "outputs": [
        {
          "output_type": "stream",
          "name": "stdout",
          "text": [
            "1.4992060350000003\n"
          ]
        }
      ]
    },
    {
      "cell_type": "code",
      "metadata": {
        "colab": {
          "base_uri": "https://localhost:8080/"
        },
        "id": "U4K7xsX5Sf0g",
        "outputId": "7638a5a4-4347-4a21-ce57-2e2d5ddb1dc1"
      },
      "source": [
        "import timeit\n",
        "import sys\n",
        "sys.setrecursionlimit(5000)\n",
        "\n",
        "def factorial(n):\n",
        "    return n * factorial(n-1) if n else 1\n",
        "\n",
        "if __name__ == '__main__':\n",
        "    print(timeit.timeit(\"factorial(10)\", setup=\"from __main__ import factorial\"))"
      ],
      "execution_count": 4,
      "outputs": [
        {
          "output_type": "stream",
          "name": "stdout",
          "text": [
            "16.4878394\n"
          ]
        }
      ]
    },
    {
      "cell_type": "code",
      "metadata": {
        "colab": {
          "base_uri": "https://localhost:8080/"
        },
        "id": "_S7_Ag1nSnb-",
        "outputId": "a8978c45-f348-4b5e-c4ba-13de3f0bdab5"
      },
      "source": [
        "import timeit\n",
        "import sys\n",
        "sys.setrecursionlimit(5000)\n",
        "\n",
        "def factorial(n):\n",
        "    return n * factorial(n-1) if n else 1\n",
        "\n",
        "if __name__ == '__main__':\n",
        "    print(timeit.timeit(\"factorial(1000)\", setup=\"from __main__ import factorial\"))"
      ],
      "execution_count": 5,
      "outputs": [
        {
          "output_type": "stream",
          "name": "stdout",
          "text": [
            "367.545654443\n"
          ]
        }
      ]
    },
    {
      "cell_type": "code",
      "metadata": {
        "colab": {
          "base_uri": "https://localhost:8080/"
        },
        "id": "n-3pl53zStF2",
        "outputId": "545efa97-d82e-475c-9b17-13039b2be032"
      },
      "source": [
        "import timeit\n",
        "from functools import lru_cache\n",
        "import sys\n",
        "sys.setrecursionlimit(5000)\n",
        "\n",
        "@lru_cache(maxsize=5000)\n",
        "def factorial(n):\n",
        "    return n * factorial(n-1) if n else 1\n",
        "\n",
        "if __name__ == '__main__':\n",
        "    print(timeit.timeit(\"factorial(10)\", setup=\"from __main__ import factorial\"))"
      ],
      "execution_count": 12,
      "outputs": [
        {
          "output_type": "stream",
          "name": "stdout",
          "text": [
            "0.09714025599998877\n"
          ]
        }
      ]
    },
    {
      "cell_type": "code",
      "metadata": {
        "colab": {
          "base_uri": "https://localhost:8080/"
        },
        "id": "ray9CWJtSo5P",
        "outputId": "ce5d5f5c-4681-4676-ede7-63294c896dda"
      },
      "source": [
        "import timeit\n",
        "from functools import lru_cache\n",
        "import sys\n",
        "# sys.setrecursionlimit(5000)\n",
        "\n",
        "@lru_cache(maxsize=5000)\n",
        "def factorial(n):\n",
        "    return n * factorial(n-1) if n else 1\n",
        "\n",
        "if __name__ == '__main__':\n",
        "    print(timeit.timeit(\"factorial(100)\", setup=\"from __main__ import factorial\"))"
      ],
      "execution_count": 13,
      "outputs": [
        {
          "output_type": "stream",
          "name": "stdout",
          "text": [
            "0.09707009699991431\n"
          ]
        }
      ]
    },
    {
      "cell_type": "code",
      "metadata": {
        "colab": {
          "base_uri": "https://localhost:8080/"
        },
        "id": "v2jEHCdQSqg3",
        "outputId": "1f4fb440-4c57-4e9e-b430-87b5ce0e48f2"
      },
      "source": [
        "import timeit\n",
        "from functools import lru_cache\n",
        "import sys\n",
        "\n",
        "@lru_cache(maxsize=5000)\n",
        "def factorial(n):\n",
        "    return n * factorial(n-1) if n else 1\n",
        "\n",
        "if __name__ == '__main__':\n",
        "    print(timeit.timeit(\"factorial(1000)\", setup=\"from __main__ import factorial\"))"
      ],
      "execution_count": 14,
      "outputs": [
        {
          "output_type": "stream",
          "name": "stdout",
          "text": [
            "0.09266520199992101\n"
          ]
        }
      ]
    }
  ]
}