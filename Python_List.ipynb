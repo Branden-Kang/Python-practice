{
  "nbformat": 4,
  "nbformat_minor": 0,
  "metadata": {
    "colab": {
      "name": "Python List.ipynb",
      "provenance": [],
      "authorship_tag": "ABX9TyMZOyqSLkWRX25P2kvRp6we"
    },
    "kernelspec": {
      "name": "python3",
      "display_name": "Python 3"
    }
  },
  "cells": [
    {
      "cell_type": "markdown",
      "metadata": {
        "id": "-2P-eyY_wKcm"
      },
      "source": [
        "[Reference](https://medium.com/swlh/python-list-79ef2e183d60)"
      ]
    },
    {
      "cell_type": "code",
      "metadata": {
        "id": "BI8wnNnawHa3"
      },
      "source": [
        "l1 = [1, 2, 3]\n",
        "l2 = ['apple', 'banana', 'orange', 'grapes', 'mango']"
      ],
      "execution_count": 1,
      "outputs": []
    },
    {
      "cell_type": "code",
      "metadata": {
        "colab": {
          "base_uri": "https://localhost:8080/"
        },
        "id": "LZk2Imm2wZ2d",
        "outputId": "5695e54c-88c9-45f9-bb91-23adb91ad689"
      },
      "source": [
        "t1=(1,2,3)\n",
        "l1=list(t1)\n",
        "print(l1)"
      ],
      "execution_count": 2,
      "outputs": [
        {
          "output_type": "stream",
          "text": [
            "[1, 2, 3]\n"
          ],
          "name": "stdout"
        }
      ]
    },
    {
      "cell_type": "code",
      "metadata": {
        "colab": {
          "base_uri": "https://localhost:8080/"
        },
        "id": "ZujNmCbHwdY_",
        "outputId": "8c32512e-96a1-4b5f-8345-0e63e6fb46ca"
      },
      "source": [
        "l1=[0,1,2,3,4,5]\n",
        "print(l1[1:4])"
      ],
      "execution_count": 3,
      "outputs": [
        {
          "output_type": "stream",
          "text": [
            "[1, 2, 3]\n"
          ],
          "name": "stdout"
        }
      ]
    },
    {
      "cell_type": "code",
      "metadata": {
        "colab": {
          "base_uri": "https://localhost:8080/"
        },
        "id": "6w9Eu0ehwf51",
        "outputId": "c73333fb-51c8-4bd0-c14b-18866cbaa08d"
      },
      "source": [
        "l1.insert(3,4)\n",
        "print (l1)"
      ],
      "execution_count": 4,
      "outputs": [
        {
          "output_type": "stream",
          "text": [
            "[0, 1, 2, 4, 3, 4, 5]\n"
          ],
          "name": "stdout"
        }
      ]
    },
    {
      "cell_type": "code",
      "metadata": {
        "colab": {
          "base_uri": "https://localhost:8080/"
        },
        "id": "2M_bdfqowibS",
        "outputId": "46452d14-f2ec-4f0f-c0b7-8ac88c9d77a7"
      },
      "source": [
        "l1[2]='a'\n",
        "print(l1)"
      ],
      "execution_count": 5,
      "outputs": [
        {
          "output_type": "stream",
          "text": [
            "[0, 1, 'a', 4, 3, 4, 5]\n"
          ],
          "name": "stdout"
        }
      ]
    },
    {
      "cell_type": "code",
      "metadata": {
        "colab": {
          "base_uri": "https://localhost:8080/"
        },
        "id": "ALsIm55wwlb8",
        "outputId": "5e6ee56d-0ddc-47c7-ad90-0b197a5ab4dd"
      },
      "source": [
        "l1=[1,2,3,[4,5]]\n",
        "l1[3][0]='a'\n",
        "print(l1)"
      ],
      "execution_count": 6,
      "outputs": [
        {
          "output_type": "stream",
          "text": [
            "[1, 2, 3, ['a', 5]]\n"
          ],
          "name": "stdout"
        }
      ]
    },
    {
      "cell_type": "code",
      "metadata": {
        "colab": {
          "base_uri": "https://localhost:8080/"
        },
        "id": "2Amw86JfwpsY",
        "outputId": "c3f75950-8fbb-484d-c2be-03f1cfcaf975"
      },
      "source": [
        "a1=[1,2,3]\n",
        "a2=[4,5]\n",
        "a1.append(a2)\n",
        "print(a1)"
      ],
      "execution_count": 7,
      "outputs": [
        {
          "output_type": "stream",
          "text": [
            "[1, 2, 3, [4, 5]]\n"
          ],
          "name": "stdout"
        }
      ]
    },
    {
      "cell_type": "code",
      "metadata": {
        "colab": {
          "base_uri": "https://localhost:8080/"
        },
        "id": "InM38JHBwuek",
        "outputId": "17b7c64a-a3f1-4b15-a547-1bdd5f3831f6"
      },
      "source": [
        "b1=[4,5,6]\n",
        "b1.append(7)\n",
        "print(b1)"
      ],
      "execution_count": 8,
      "outputs": [
        {
          "output_type": "stream",
          "text": [
            "[4, 5, 6, 7]\n"
          ],
          "name": "stdout"
        }
      ]
    },
    {
      "cell_type": "code",
      "metadata": {
        "colab": {
          "base_uri": "https://localhost:8080/"
        },
        "id": "O5w2ZjBjwwL2",
        "outputId": "a86bc20d-b5c2-4d1d-85a7-7ffdd410b0c6"
      },
      "source": [
        "c1=[1,2,3]\n",
        "c2=[4,5,6]\n",
        "c1.extend(c2)\n",
        "print(c1)"
      ],
      "execution_count": 9,
      "outputs": [
        {
          "output_type": "stream",
          "text": [
            "[1, 2, 3, 4, 5, 6]\n"
          ],
          "name": "stdout"
        }
      ]
    },
    {
      "cell_type": "code",
      "metadata": {
        "colab": {
          "base_uri": "https://localhost:8080/"
        },
        "id": "SWKAlnXzwyY_",
        "outputId": "56eea797-a33f-483a-96b8-bbe505fe10c8"
      },
      "source": [
        "a1=[1,2,3]\n",
        "a1.clear()\n",
        "print(a1)"
      ],
      "execution_count": 10,
      "outputs": [
        {
          "output_type": "stream",
          "text": [
            "[]\n"
          ],
          "name": "stdout"
        }
      ]
    },
    {
      "cell_type": "code",
      "metadata": {
        "colab": {
          "base_uri": "https://localhost:8080/",
          "height": 232
        },
        "id": "m9UiKN22w1Yf",
        "outputId": "7515b936-c439-4df6-de10-7602387106d4"
      },
      "source": [
        "a1=[1,2,3]\n",
        "del a1\n",
        "print(a1)"
      ],
      "execution_count": 11,
      "outputs": [
        {
          "output_type": "error",
          "ename": "NameError",
          "evalue": "ignored",
          "traceback": [
            "\u001b[0;31m---------------------------------------------------------------------------\u001b[0m",
            "\u001b[0;31mNameError\u001b[0m                                 Traceback (most recent call last)",
            "\u001b[0;32m<ipython-input-11-c963f0c59c33>\u001b[0m in \u001b[0;36m<module>\u001b[0;34m()\u001b[0m\n\u001b[1;32m      1\u001b[0m \u001b[0ma1\u001b[0m\u001b[0;34m=\u001b[0m\u001b[0;34m[\u001b[0m\u001b[0;36m1\u001b[0m\u001b[0;34m,\u001b[0m\u001b[0;36m2\u001b[0m\u001b[0;34m,\u001b[0m\u001b[0;36m3\u001b[0m\u001b[0;34m]\u001b[0m\u001b[0;34m\u001b[0m\u001b[0;34m\u001b[0m\u001b[0m\n\u001b[1;32m      2\u001b[0m \u001b[0;32mdel\u001b[0m \u001b[0ma1\u001b[0m\u001b[0;34m\u001b[0m\u001b[0;34m\u001b[0m\u001b[0m\n\u001b[0;32m----> 3\u001b[0;31m \u001b[0mprint\u001b[0m\u001b[0;34m(\u001b[0m\u001b[0ma1\u001b[0m\u001b[0;34m)\u001b[0m\u001b[0;34m\u001b[0m\u001b[0;34m\u001b[0m\u001b[0m\n\u001b[0m",
            "\u001b[0;31mNameError\u001b[0m: name 'a1' is not defined"
          ]
        }
      ]
    },
    {
      "cell_type": "code",
      "metadata": {
        "colab": {
          "base_uri": "https://localhost:8080/"
        },
        "id": "NX-7Rtw0w3qD",
        "outputId": "34b75e91-8da7-4f78-934f-e27e14f486ff"
      },
      "source": [
        "a1=[1,2,3]\n",
        "a1.remove(1)\n",
        "print(a1)"
      ],
      "execution_count": 12,
      "outputs": [
        {
          "output_type": "stream",
          "text": [
            "[2, 3]\n"
          ],
          "name": "stdout"
        }
      ]
    },
    {
      "cell_type": "code",
      "metadata": {
        "colab": {
          "base_uri": "https://localhost:8080/",
          "height": 215
        },
        "id": "XvYNasqtw8MN",
        "outputId": "a930c7c9-96af-4c20-a94d-f8a7c85af1e3"
      },
      "source": [
        "a1.remove(4)\n",
        "print(a1)"
      ],
      "execution_count": 13,
      "outputs": [
        {
          "output_type": "error",
          "ename": "ValueError",
          "evalue": "ignored",
          "traceback": [
            "\u001b[0;31m---------------------------------------------------------------------------\u001b[0m",
            "\u001b[0;31mValueError\u001b[0m                                Traceback (most recent call last)",
            "\u001b[0;32m<ipython-input-13-81132e5dfb1d>\u001b[0m in \u001b[0;36m<module>\u001b[0;34m()\u001b[0m\n\u001b[0;32m----> 1\u001b[0;31m \u001b[0ma1\u001b[0m\u001b[0;34m.\u001b[0m\u001b[0mremove\u001b[0m\u001b[0;34m(\u001b[0m\u001b[0;36m4\u001b[0m\u001b[0;34m)\u001b[0m\u001b[0;34m\u001b[0m\u001b[0;34m\u001b[0m\u001b[0m\n\u001b[0m\u001b[1;32m      2\u001b[0m \u001b[0mprint\u001b[0m\u001b[0;34m(\u001b[0m\u001b[0ma1\u001b[0m\u001b[0;34m)\u001b[0m\u001b[0;34m\u001b[0m\u001b[0;34m\u001b[0m\u001b[0m\n",
            "\u001b[0;31mValueError\u001b[0m: list.remove(x): x not in list"
          ]
        }
      ]
    },
    {
      "cell_type": "code",
      "metadata": {
        "colab": {
          "base_uri": "https://localhost:8080/"
        },
        "id": "pJyThyG2w-FZ",
        "outputId": "d4fc6da3-4e2b-493b-d1ab-7f31745683e0"
      },
      "source": [
        "a1=[1,2,3]\n",
        "a1.pop(1)\n",
        "print(a1)"
      ],
      "execution_count": 14,
      "outputs": [
        {
          "output_type": "stream",
          "text": [
            "[1, 3]\n"
          ],
          "name": "stdout"
        }
      ]
    },
    {
      "cell_type": "code",
      "metadata": {
        "colab": {
          "base_uri": "https://localhost:8080/"
        },
        "id": "YFJIFnDbxAvp",
        "outputId": "398592ca-07bc-4ec2-a276-e07403557fe9"
      },
      "source": [
        "a1.pop()\n",
        "print(a1)"
      ],
      "execution_count": 15,
      "outputs": [
        {
          "output_type": "stream",
          "text": [
            "[1]\n"
          ],
          "name": "stdout"
        }
      ]
    },
    {
      "cell_type": "code",
      "metadata": {
        "colab": {
          "base_uri": "https://localhost:8080/",
          "height": 215
        },
        "id": "bgnGt61JxCtH",
        "outputId": "ce529742-5b75-4241-d40b-b3780986d2ac"
      },
      "source": [
        "a1.pop(4)\n",
        "print(a1)"
      ],
      "execution_count": 16,
      "outputs": [
        {
          "output_type": "error",
          "ename": "IndexError",
          "evalue": "ignored",
          "traceback": [
            "\u001b[0;31m---------------------------------------------------------------------------\u001b[0m",
            "\u001b[0;31mIndexError\u001b[0m                                Traceback (most recent call last)",
            "\u001b[0;32m<ipython-input-16-b9df3c031a65>\u001b[0m in \u001b[0;36m<module>\u001b[0;34m()\u001b[0m\n\u001b[0;32m----> 1\u001b[0;31m \u001b[0ma1\u001b[0m\u001b[0;34m.\u001b[0m\u001b[0mpop\u001b[0m\u001b[0;34m(\u001b[0m\u001b[0;36m4\u001b[0m\u001b[0;34m)\u001b[0m\u001b[0;34m\u001b[0m\u001b[0;34m\u001b[0m\u001b[0m\n\u001b[0m\u001b[1;32m      2\u001b[0m \u001b[0mprint\u001b[0m\u001b[0;34m(\u001b[0m\u001b[0ma1\u001b[0m\u001b[0;34m)\u001b[0m\u001b[0;34m\u001b[0m\u001b[0;34m\u001b[0m\u001b[0m\n",
            "\u001b[0;31mIndexError\u001b[0m: pop index out of range"
          ]
        }
      ]
    },
    {
      "cell_type": "code",
      "metadata": {
        "colab": {
          "base_uri": "https://localhost:8080/"
        },
        "id": "Mo1QjWufxElu",
        "outputId": "c23f4bff-0616-4dcf-fb30-5b68be3159e2"
      },
      "source": [
        "a1=[1,2,3]\n",
        "a2=[4,5,6]\n",
        "a3=a1+a2\n",
        "print(a3)"
      ],
      "execution_count": 17,
      "outputs": [
        {
          "output_type": "stream",
          "text": [
            "[1, 2, 3, 4, 5, 6]\n"
          ],
          "name": "stdout"
        }
      ]
    },
    {
      "cell_type": "code",
      "metadata": {
        "colab": {
          "base_uri": "https://localhost:8080/"
        },
        "id": "ANgVom4nxGOX",
        "outputId": "3df56f10-3116-435b-9a54-b17cc3d3b931"
      },
      "source": [
        "a1=[1,2,3,4,1,5,6,1]\n",
        "print(a1.count(1))"
      ],
      "execution_count": 18,
      "outputs": [
        {
          "output_type": "stream",
          "text": [
            "3\n"
          ],
          "name": "stdout"
        }
      ]
    },
    {
      "cell_type": "code",
      "metadata": {
        "colab": {
          "base_uri": "https://localhost:8080/"
        },
        "id": "mg2owFeSxIZf",
        "outputId": "94c30320-0656-4cc1-d072-c2524b2ef527"
      },
      "source": [
        "a1=[2,4,6,8,0,7,5,3,1]\n",
        "a1.sort()\n",
        "print(a1)"
      ],
      "execution_count": 19,
      "outputs": [
        {
          "output_type": "stream",
          "text": [
            "[0, 1, 2, 3, 4, 5, 6, 7, 8]\n"
          ],
          "name": "stdout"
        }
      ]
    },
    {
      "cell_type": "code",
      "metadata": {
        "colab": {
          "base_uri": "https://localhost:8080/"
        },
        "id": "mr2z_1HUxK-R",
        "outputId": "bdb6d160-9ac0-46b7-909c-1ca29f6f97da"
      },
      "source": [
        "a2=[2,4,6,8,0,7,5,3,1]\n",
        "a2.sort(reverse=True)\n",
        "print(a2)"
      ],
      "execution_count": 20,
      "outputs": [
        {
          "output_type": "stream",
          "text": [
            "[8, 7, 6, 5, 4, 3, 2, 1, 0]\n"
          ],
          "name": "stdout"
        }
      ]
    },
    {
      "cell_type": "code",
      "metadata": {
        "colab": {
          "base_uri": "https://localhost:8080/"
        },
        "id": "PY9D-SPHxNZK",
        "outputId": "ef7f18b0-55e4-40ba-8e0a-2fe4b3d73945"
      },
      "source": [
        "l1=[1,3,5,2,4,6,8]\n",
        "l1.reverse()\n",
        "print(l1)"
      ],
      "execution_count": 21,
      "outputs": [
        {
          "output_type": "stream",
          "text": [
            "[8, 6, 4, 2, 5, 3, 1]\n"
          ],
          "name": "stdout"
        }
      ]
    },
    {
      "cell_type": "code",
      "metadata": {
        "colab": {
          "base_uri": "https://localhost:8080/"
        },
        "id": "Ojjc0LbUxP3t",
        "outputId": "f7b248a5-873b-4b69-cab6-efcaa12a6bc7"
      },
      "source": [
        "a1=[2,4,6,8,0,7,5,3,1]\n",
        "a2=sorted(a1)\n",
        "print(f'Original List:{a1}')\n",
        "print(f'Sorted List:{a2}')"
      ],
      "execution_count": 22,
      "outputs": [
        {
          "output_type": "stream",
          "text": [
            "Original List:[2, 4, 6, 8, 0, 7, 5, 3, 1]\n",
            "Sorted List:[0, 1, 2, 3, 4, 5, 6, 7, 8]\n"
          ],
          "name": "stdout"
        }
      ]
    },
    {
      "cell_type": "code",
      "metadata": {
        "colab": {
          "base_uri": "https://localhost:8080/"
        },
        "id": "BMJzzpCGxUeP",
        "outputId": "2e677ebc-e9c6-4c21-ce82-5382d19c3cc6"
      },
      "source": [
        "a1=[2,4,6,8,0,7,5,3,1]\n",
        "a2=sorted(a1,reverse=True)\n",
        "print (f'Original List:{a1}')\n",
        "print (f'Sorted List:{a2}')"
      ],
      "execution_count": 23,
      "outputs": [
        {
          "output_type": "stream",
          "text": [
            "Original List:[2, 4, 6, 8, 0, 7, 5, 3, 1]\n",
            "Sorted List:[8, 7, 6, 5, 4, 3, 2, 1, 0]\n"
          ],
          "name": "stdout"
        }
      ]
    },
    {
      "cell_type": "code",
      "metadata": {
        "colab": {
          "base_uri": "https://localhost:8080/"
        },
        "id": "Qe82byWPxY2e",
        "outputId": "b6ac9325-a9df-44bb-990c-1310c849cc27"
      },
      "source": [
        "a1=[1,3,5,2,4,6]\n",
        "a2=reversed(a1) \n",
        "print (a2)\n",
        "print (list(a2))"
      ],
      "execution_count": 24,
      "outputs": [
        {
          "output_type": "stream",
          "text": [
            "<list_reverseiterator object at 0x7f3159ef7240>\n",
            "[6, 4, 2, 5, 3, 1]\n"
          ],
          "name": "stdout"
        }
      ]
    },
    {
      "cell_type": "code",
      "metadata": {
        "colab": {
          "base_uri": "https://localhost:8080/"
        },
        "id": "DZohJPgnxa3i",
        "outputId": "744387a6-2ecf-4c4d-8747-a1634165bb7f"
      },
      "source": [
        "a1=[1,2,3,4,5,6,7,8,9,10]\n",
        "print (min(a1)) \n",
        "print (max(a1))\n",
        "print (sum(a1))\n",
        "print (len(a1)) "
      ],
      "execution_count": 25,
      "outputs": [
        {
          "output_type": "stream",
          "text": [
            "1\n",
            "10\n",
            "55\n",
            "10\n"
          ],
          "name": "stdout"
        }
      ]
    },
    {
      "cell_type": "code",
      "metadata": {
        "colab": {
          "base_uri": "https://localhost:8080/",
          "height": 283
        },
        "id": "gi672pQmxcVd",
        "outputId": "020d654f-e3db-48af-f92b-c7618ff6472c"
      },
      "source": [
        "s1=['apple','banana','orange','grapes']\n",
        "print (min(s1))\n",
        "print (max(s1))\n",
        "print (len(s1))\n",
        "print (sum(s1))"
      ],
      "execution_count": 27,
      "outputs": [
        {
          "output_type": "stream",
          "text": [
            "apple\n",
            "orange\n",
            "4\n"
          ],
          "name": "stdout"
        },
        {
          "output_type": "error",
          "ename": "TypeError",
          "evalue": "ignored",
          "traceback": [
            "\u001b[0;31m---------------------------------------------------------------------------\u001b[0m",
            "\u001b[0;31mTypeError\u001b[0m                                 Traceback (most recent call last)",
            "\u001b[0;32m<ipython-input-27-765bf8a0f5f4>\u001b[0m in \u001b[0;36m<module>\u001b[0;34m()\u001b[0m\n\u001b[1;32m      3\u001b[0m \u001b[0mprint\u001b[0m \u001b[0;34m(\u001b[0m\u001b[0mmax\u001b[0m\u001b[0;34m(\u001b[0m\u001b[0ms1\u001b[0m\u001b[0;34m)\u001b[0m\u001b[0;34m)\u001b[0m\u001b[0;34m\u001b[0m\u001b[0;34m\u001b[0m\u001b[0m\n\u001b[1;32m      4\u001b[0m \u001b[0mprint\u001b[0m \u001b[0;34m(\u001b[0m\u001b[0mlen\u001b[0m\u001b[0;34m(\u001b[0m\u001b[0ms1\u001b[0m\u001b[0;34m)\u001b[0m\u001b[0;34m)\u001b[0m\u001b[0;34m\u001b[0m\u001b[0;34m\u001b[0m\u001b[0m\n\u001b[0;32m----> 5\u001b[0;31m \u001b[0mprint\u001b[0m \u001b[0;34m(\u001b[0m\u001b[0msum\u001b[0m\u001b[0;34m(\u001b[0m\u001b[0ms1\u001b[0m\u001b[0;34m)\u001b[0m\u001b[0;34m)\u001b[0m\u001b[0;34m\u001b[0m\u001b[0;34m\u001b[0m\u001b[0m\n\u001b[0m",
            "\u001b[0;31mTypeError\u001b[0m: unsupported operand type(s) for +: 'int' and 'str'"
          ]
        }
      ]
    },
    {
      "cell_type": "code",
      "metadata": {
        "colab": {
          "base_uri": "https://localhost:8080/"
        },
        "id": "fVg9rZ4fxiLE",
        "outputId": "6dab41a6-64bf-403f-8ad2-e0f5c8533ca5"
      },
      "source": [
        "s1=['apple','banana','orange','grapes']\n",
        "if 'apple' in s1:\n",
        " print ('YES')\n",
        "if 'grapes' not in s1:\n",
        " print ('Grapes is not in the list ')"
      ],
      "execution_count": 29,
      "outputs": [
        {
          "output_type": "stream",
          "text": [
            "YES\n"
          ],
          "name": "stdout"
        }
      ]
    },
    {
      "cell_type": "code",
      "metadata": {
        "colab": {
          "base_uri": "https://localhost:8080/"
        },
        "id": "qHrLBss2xqzu",
        "outputId": "8bb667a9-d428-45c9-9c0a-8edfb553aaf5"
      },
      "source": [
        "import copy\n",
        "l1=[1,2,3,[4,5]]\n",
        "l2=l1.copy()\n",
        "print ('Copied : {}'.format(l2))\n",
        "l3=copy.deepcopy(l1)\n",
        "print ('Deep Copied: {}'.format(l3))\n",
        "l1[0]='a'\n",
        "print ('After updating elements in the list')\n",
        "print (f'Original List:{l1}')\n",
        "print (f'Copied List:{l2}')\n",
        "print (f'Deep Copied List:{l3}')\n",
        "l1[3][1]='b'\n",
        "print ('After updating elements in the nested list')\n",
        "print (f'Original List:{l1}')\n",
        "print (f'Copied List:{l2}')\n",
        "print (f'Deep Copied List:{l3}')"
      ],
      "execution_count": 32,
      "outputs": [
        {
          "output_type": "stream",
          "text": [
            "Copied : [1, 2, 3, [4, 5]]\n",
            "Deep Copied: [1, 2, 3, [4, 5]]\n",
            "After updating elements in the list\n",
            "Original List:['a', 2, 3, [4, 5]]\n",
            "Copied List:[1, 2, 3, [4, 5]]\n",
            "Deep Copied List:[1, 2, 3, [4, 5]]\n",
            "After updating elements in the nested list\n",
            "Original List:['a', 2, 3, [4, 'b']]\n",
            "Copied List:[1, 2, 3, [4, 'b']]\n",
            "Deep Copied List:[1, 2, 3, [4, 5]]\n"
          ],
          "name": "stdout"
        }
      ]
    },
    {
      "cell_type": "code",
      "metadata": {
        "colab": {
          "base_uri": "https://localhost:8080/"
        },
        "id": "HYxZLWoGx1BI",
        "outputId": "cc50aeb4-3174-4c5c-a6ac-1aa54dbedab1"
      },
      "source": [
        "l1=[1,2,3]\n",
        "l2=l1\n",
        "print (l1)\n",
        "print (l2)\n",
        "l1[0]='a'\n",
        "l2[1]='b'\n",
        "print ('After modifying both list l1 and l2')\n",
        "print(l1)\n",
        "print(l2)"
      ],
      "execution_count": 33,
      "outputs": [
        {
          "output_type": "stream",
          "text": [
            "[1, 2, 3]\n",
            "[1, 2, 3]\n",
            "After modifying both list l1 and l2\n",
            "['a', 'b', 3]\n",
            "['a', 'b', 3]\n"
          ],
          "name": "stdout"
        }
      ]
    }
  ]
}