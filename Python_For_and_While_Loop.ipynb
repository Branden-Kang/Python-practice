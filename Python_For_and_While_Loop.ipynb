{
  "nbformat": 4,
  "nbformat_minor": 0,
  "metadata": {
    "colab": {
      "provenance": [],
      "authorship_tag": "ABX9TyO5qNrFnbxMhwaKnW3Ef4jt"
    },
    "kernelspec": {
      "name": "python3",
      "display_name": "Python 3"
    },
    "language_info": {
      "name": "python"
    }
  },
  "cells": [
    {
      "cell_type": "markdown",
      "source": [
        "[Reference](https://medium.com/@sarperismetmakas/python-for-and-while-loop-c72f660bb874)"
      ],
      "metadata": {
        "id": "FdbnI17UgSyY"
      }
    },
    {
      "cell_type": "code",
      "execution_count": 1,
      "metadata": {
        "colab": {
          "base_uri": "https://localhost:8080/"
        },
        "id": "Rgm-xCHLf76u",
        "outputId": "62c86422-c07a-4043-e592-3f56d6caba97"
      },
      "outputs": [
        {
          "output_type": "stream",
          "name": "stdout",
          "text": [
            "1\n",
            "2\n",
            "3\n",
            "4\n",
            "5\n"
          ]
        }
      ],
      "source": [
        "# Iterate over a list of numbers and print each element\n",
        "numbers_list = [1, 2, 3, 4, 5]\n",
        "for num in numbers_list:\n",
        "    print(num)"
      ]
    },
    {
      "cell_type": "code",
      "source": [
        "# Iterate over a tuple of fruits and print each fruit\n",
        "fruits_tuple = ('apple', 'banana', 'orange')\n",
        "for fruit in fruits_tuple:\n",
        "    print(fruit)"
      ],
      "metadata": {
        "colab": {
          "base_uri": "https://localhost:8080/"
        },
        "id": "gK7kEZjrgV0I",
        "outputId": "e17ca842-d6d8-4870-9260-83466638aa25"
      },
      "execution_count": 2,
      "outputs": [
        {
          "output_type": "stream",
          "name": "stdout",
          "text": [
            "apple\n",
            "banana\n",
            "orange\n"
          ]
        }
      ]
    },
    {
      "cell_type": "code",
      "source": [
        "# Iterate over a dictionary and print its keys and values\n",
        "person_dict = {'name': 'John', 'age': 30, 'city': 'New York'}\n",
        "for key, value in person_dict.items():\n",
        "    print(f'{key}: {value}')\n"
      ],
      "metadata": {
        "colab": {
          "base_uri": "https://localhost:8080/"
        },
        "id": "JjqHLu86gW4G",
        "outputId": "b60837ba-6c94-4919-ced8-5b95204237f4"
      },
      "execution_count": 3,
      "outputs": [
        {
          "output_type": "stream",
          "name": "stdout",
          "text": [
            "name: John\n",
            "age: 30\n",
            "city: New York\n"
          ]
        }
      ]
    },
    {
      "cell_type": "code",
      "source": [
        "# Iterate over a set of colors and print each color\n",
        "colors_set = {'red', 'blue', 'green'}\n",
        "for color in colors_set:\n",
        "    print(color)"
      ],
      "metadata": {
        "colab": {
          "base_uri": "https://localhost:8080/"
        },
        "id": "fHa6Xk2OgZxv",
        "outputId": "c0d73396-c2a5-437e-b784-6479a655f4e4"
      },
      "execution_count": 4,
      "outputs": [
        {
          "output_type": "stream",
          "name": "stdout",
          "text": [
            "blue\n",
            "green\n",
            "red\n"
          ]
        }
      ]
    },
    {
      "cell_type": "code",
      "source": [
        "# Iterate over a list of numbers and print each element using a while loop\n",
        "numbers_list = [1, 2, 3, 4, 5]\n",
        "index = 0\n",
        "while index < len(numbers_list):\n",
        "    print(numbers_list[index])\n",
        "    index += 1"
      ],
      "metadata": {
        "colab": {
          "base_uri": "https://localhost:8080/"
        },
        "id": "MNrzCisygbV1",
        "outputId": "c5ded5d3-ef30-437d-e8d3-49212592b931"
      },
      "execution_count": 5,
      "outputs": [
        {
          "output_type": "stream",
          "name": "stdout",
          "text": [
            "1\n",
            "2\n",
            "3\n",
            "4\n",
            "5\n"
          ]
        }
      ]
    },
    {
      "cell_type": "code",
      "source": [
        "# Example: Using a while loop with a tuple\n",
        "fruits_tuple = ('apple', 'banana', 'orange')\n",
        "index = 0\n",
        "\n",
        "while index < len(fruits_tuple):\n",
        "    print(fruits_tuple[index])\n",
        "    index += 1"
      ],
      "metadata": {
        "colab": {
          "base_uri": "https://localhost:8080/"
        },
        "id": "yGfH-Tybgc65",
        "outputId": "ddb022d4-01c3-43b9-c692-75d0e9bd79c5"
      },
      "execution_count": 6,
      "outputs": [
        {
          "output_type": "stream",
          "name": "stdout",
          "text": [
            "apple\n",
            "banana\n",
            "orange\n"
          ]
        }
      ]
    },
    {
      "cell_type": "code",
      "source": [
        "# Iterate over a dictionary and print its keys using a while loop\n",
        "person_dict = {'name': 'John', 'age': 30, 'city': 'New York'}\n",
        "keys_list = list(person_dict.keys())\n",
        "index = 0\n",
        "while index < len(keys_list):\n",
        "    print(keys_list[index])\n",
        "    index += 1"
      ],
      "metadata": {
        "colab": {
          "base_uri": "https://localhost:8080/"
        },
        "id": "oZ_EF3VTgfH_",
        "outputId": "8a2d1398-f6c9-475e-bd0b-fd8829917811"
      },
      "execution_count": 7,
      "outputs": [
        {
          "output_type": "stream",
          "name": "stdout",
          "text": [
            "name\n",
            "age\n",
            "city\n"
          ]
        }
      ]
    },
    {
      "cell_type": "code",
      "source": [
        "# Remove elements from a set using a while loop\n",
        "numbers_set = {1, 2, 3, 4, 5}\n",
        "while len(numbers_set) > 0:\n",
        "    numbers_set.pop()\n",
        "    print(numbers_set)"
      ],
      "metadata": {
        "id": "rDnkdP9ZghdD",
        "outputId": "4965fa35-ec42-4132-f523-5de9f643e17e",
        "colab": {
          "base_uri": "https://localhost:8080/"
        }
      },
      "execution_count": 8,
      "outputs": [
        {
          "output_type": "stream",
          "name": "stdout",
          "text": [
            "{2, 3, 4, 5}\n",
            "{3, 4, 5}\n",
            "{4, 5}\n",
            "{5}\n",
            "set()\n"
          ]
        }
      ]
    }
  ]
}