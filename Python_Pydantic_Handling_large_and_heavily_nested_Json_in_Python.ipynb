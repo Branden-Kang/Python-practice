{
  "nbformat": 4,
  "nbformat_minor": 0,
  "metadata": {
    "colab": {
      "provenance": [],
      "authorship_tag": "ABX9TyObaqtDO+T8GOeCHsaBbOih"
    },
    "kernelspec": {
      "name": "python3",
      "display_name": "Python 3"
    },
    "language_info": {
      "name": "python"
    }
  },
  "cells": [
    {
      "cell_type": "markdown",
      "source": [
        "[Reference](https://blog.devgenius.io/python-pydantic-handling-large-and-heavily-nested-json-in-python-ca8b26af7847)"
      ],
      "metadata": {
        "id": "Lmhh3A_1TQJX"
      }
    },
    {
      "cell_type": "code",
      "execution_count": 1,
      "metadata": {
        "id": "R2YA6CoHS5hK"
      },
      "outputs": [],
      "source": [
        "land_data = {\n",
        "    \"id\": 5,\n",
        "    \"name\": \"String\",\n",
        "    \"laenderCode\": \"String\",\n",
        "    \"bundeslandCode\": \"String\",\n",
        "    \"code\": \"String\"\n",
        "}\n",
        "\n",
        "town_data = {\n",
        "    \"id\": 5,\n",
        "    \"plz\": \"String\",\n",
        "    \"name\": \"String\",\n",
        "    \"land\": land_data\n",
        "}\n",
        "\n",
        "\n",
        "coordinates_data = {\n",
        "    \"lat\": 0.00,\n",
        "    \"lon\": 0.00\n",
        "}\n",
        "\n",
        "address_data = {\n",
        "    \"id\": 5,\n",
        "    \"_bezeichnung\": None,\n",
        "    \"strasse\": \"String\",\n",
        "    # \"hinweise\": None,\n",
        "    \"ortStrasse\": town_data,\n",
        "    \"koordinaten\": coordinates_data\n",
        "}"
      ]
    },
    {
      "cell_type": "code",
      "source": [
        "from pydantic import BaseModel, Field, ValidationError\n",
        "from typing import Optional, List, Dict, Any\n",
        "\n",
        "\n",
        "class Land(BaseModel):\n",
        "    id: Optional[int]\n",
        "    name: Optional[str]\n",
        "    laenderCode: Optional[str]\n",
        "    bundeslandCode: Optional[str]\n",
        "    code: Optional[str]\n",
        "\n",
        "\n",
        "class TownStreet(BaseModel):\n",
        "    id: Optional[int]\n",
        "    plz: Optional[str]\n",
        "    name: Optional[str]\n",
        "    land: Optional[Land]\n",
        "\n",
        "\n",
        "class Coordinates(BaseModel):\n",
        "    lat: Optional[float]\n",
        "    lon: Optional[float]\n",
        "\n",
        "\n",
        "class Address(BaseModel):\n",
        "    id: Optional[int]\n",
        "    bezeichnung: Optional[Any] = Field(alias=\"_bezeichnung\")\n",
        "    strasse: Optional[str]\n",
        "    hinweise: Optional[Any] = None\n",
        "    ortStrasse: Optional[TownStreet]\n",
        "    koordinaten: Optional[Coordinates]"
      ],
      "metadata": {
        "id": "f-shYlgTTU2U"
      },
      "execution_count": 2,
      "outputs": []
    }
  ]
}