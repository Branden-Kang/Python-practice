{
  "nbformat": 4,
  "nbformat_minor": 0,
  "metadata": {
    "colab": {
      "provenance": [],
      "collapsed_sections": [],
      "authorship_tag": "ABX9TyND8ytqXfzknq7LZEKXPJ67"
    },
    "kernelspec": {
      "name": "python3",
      "display_name": "Python 3"
    },
    "language_info": {
      "name": "python"
    }
  },
  "cells": [
    {
      "cell_type": "markdown",
      "source": [
        "[Reference](https://medium.com/geekculture/an-introduction-to-asyncio-in-python-5d3e19a02263)"
      ],
      "metadata": {
        "id": "9FtZkZWVNnyp"
      }
    },
    {
      "cell_type": "code",
      "execution_count": 3,
      "metadata": {
        "id": "HoVb1Tt1NmjC"
      },
      "outputs": [],
      "source": [
        "# import asyncio, time\n",
        "\n",
        "\n",
        "# async def hello_world():\n",
        "#     print(time.ctime())\n",
        "#     await asyncio.sleep(1.0)\n",
        "#     print(time.ctime())\n",
        "\n",
        "\n",
        "# asyncio.run(hello_world())"
      ]
    },
    {
      "cell_type": "code",
      "source": [
        "# import asyncio, time\n",
        "\n",
        "\n",
        "# async def hello_world():\n",
        "#     print(time.ctime())\n",
        "#     await asyncio.sleep(1.0)\n",
        "#     print(time.ctime())\n",
        "\n",
        "\n",
        "# loop = asyncio.get_event_loop()\n",
        "# task = loop.create_task(hello_world())\n",
        "# loop.run_until_complete(task)\n",
        "# loop.close()"
      ],
      "metadata": {
        "id": "rv5IoRRaNrRZ"
      },
      "execution_count": 4,
      "outputs": []
    }
  ]
}