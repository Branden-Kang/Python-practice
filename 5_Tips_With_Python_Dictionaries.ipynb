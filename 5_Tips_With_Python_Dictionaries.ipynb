{
  "nbformat": 4,
  "nbformat_minor": 0,
  "metadata": {
    "colab": {
      "name": "5 Tips With Python Dictionaries.ipynb",
      "provenance": [],
      "authorship_tag": "ABX9TyORXjUaxTDXmvkNMKanxGQy"
    },
    "kernelspec": {
      "name": "python3",
      "display_name": "Python 3"
    }
  },
  "cells": [
    {
      "cell_type": "markdown",
      "metadata": {
        "id": "ymeKgHKm-YCU"
      },
      "source": [
        "[Reference](https://medium.com/better-programming/5-useful-tips-with-python-dictionaries-74747a4fd172)"
      ]
    },
    {
      "cell_type": "markdown",
      "metadata": {
        "id": "Z6q6tTYV_Blq"
      },
      "source": [
        "# Create Dictionaries With Keys Specified"
      ]
    },
    {
      "cell_type": "code",
      "metadata": {
        "id": "i5HlAESq-Uki"
      },
      "source": [
        "param0 = None\n",
        "param1 = None\n",
        "\n",
        "\n",
        "def fetch_params():\n",
        "    global param0, param1\n",
        "    param0 = \"some value\"\n",
        "    param1 = \"some other value\""
      ],
      "execution_count": 1,
      "outputs": []
    },
    {
      "cell_type": "code",
      "metadata": {
        "colab": {
          "base_uri": "https://localhost:8080/"
        },
        "id": "M40Qdp2Y-cNa",
        "outputId": "8d0a2c4c-322a-492c-c267-042ca99515c8"
      },
      "source": [
        "params = dict.fromkeys([\"param0\", \"param1\"])\n",
        "params"
      ],
      "execution_count": 2,
      "outputs": [
        {
          "output_type": "execute_result",
          "data": {
            "text/plain": [
              "{'param0': None, 'param1': None}"
            ]
          },
          "metadata": {
            "tags": []
          },
          "execution_count": 2
        }
      ]
    },
    {
      "cell_type": "code",
      "metadata": {
        "colab": {
          "base_uri": "https://localhost:8080/"
        },
        "id": "9tnd0FnH-llL",
        "outputId": "66053c53-999b-497b-8100-6278552bb320"
      },
      "source": [
        "def fetch_params_dict():\n",
        "    params[\"param0\"] = \"some value\"\n",
        "    params[\"param1\"] = \"some other value\"\n",
        "\n",
        "params = dict.fromkeys([\"param0\", \"param1\"])\n",
        "params"
      ],
      "execution_count": 3,
      "outputs": [
        {
          "output_type": "execute_result",
          "data": {
            "text/plain": [
              "{'param0': None, 'param1': None}"
            ]
          },
          "metadata": {
            "tags": []
          },
          "execution_count": 3
        }
      ]
    },
    {
      "cell_type": "markdown",
      "metadata": {
        "id": "VQ_AQhtR_AEy"
      },
      "source": [
        "# Conversions Between Lists and Dictionaries"
      ]
    },
    {
      "cell_type": "code",
      "metadata": {
        "colab": {
          "base_uri": "https://localhost:8080/"
        },
        "id": "Q-aQmYqx-n4x",
        "outputId": "e55d3c7e-e5c1-41ce-99fe-1b5a3ee3b28e"
      },
      "source": [
        "# A list of tuples\n",
        "items0 = [(\"a\", 1), (\"b\", 2), (\"c\", 3)]\n",
        "dict0 = dict(items0)\n",
        "# A list of lists and tuples\n",
        "items1 = [[\"a\", 1], [\"b\", 2], (\"c\", 3)]\n",
        "dict1 = dict(items1)\n",
        "# A zip object\n",
        "items2 = zip([\"a\", \"b\", \"c\"], [1, 2, 3])\n",
        "dict2 = dict(items2)\n",
        "# A tuple object\n",
        "items3 = ([\"a\", 1], [\"b\", 2], (\"c\", 3))\n",
        "dict3 = dict(items3)\n",
        "# Evaluation\n",
        "dict0 == dict1 == dict2 == dict3"
      ],
      "execution_count": 4,
      "outputs": [
        {
          "output_type": "execute_result",
          "data": {
            "text/plain": [
              "True"
            ]
          },
          "metadata": {
            "tags": []
          },
          "execution_count": 4
        }
      ]
    },
    {
      "cell_type": "code",
      "metadata": {
        "colab": {
          "base_uri": "https://localhost:8080/"
        },
        "id": "kXh86cUA-uW0",
        "outputId": "32e23b8f-5926-493d-bded-ede7b9c76fe7"
      },
      "source": [
        "# Create a dictionary\n",
        "existing_dict = {\"a\": 1, \"b\": 2, \"c\": 3}\n",
        "# Create a list contains the keys only\n",
        "list0 = list(existing_dict)\n",
        "list1 = list(existing_dict.keys())\n",
        "print(list0, list1)\n",
        "# Create a list contains the values only\n",
        "list2 = list(existing_dict.values())\n",
        "print(list2)\n",
        "# Create a list contains the key-value pairs\n",
        "list3 = list(existing_dict.items())\n",
        "print(list3)"
      ],
      "execution_count": 5,
      "outputs": [
        {
          "output_type": "stream",
          "text": [
            "['a', 'b', 'c'] ['a', 'b', 'c']\n",
            "[1, 2, 3]\n",
            "[('a', 1), ('b', 2), ('c', 3)]\n"
          ],
          "name": "stdout"
        }
      ]
    },
    {
      "cell_type": "code",
      "metadata": {
        "colab": {
          "base_uri": "https://localhost:8080/"
        },
        "id": "5wRROVIT-0eW",
        "outputId": "4cfc1da8-cf88-45a8-dacc-b2d038366b43"
      },
      "source": [
        "sorted(existing_dict)"
      ],
      "execution_count": 7,
      "outputs": [
        {
          "output_type": "execute_result",
          "data": {
            "text/plain": [
              "['a', 'b', 'c']"
            ]
          },
          "metadata": {
            "tags": []
          },
          "execution_count": 7
        }
      ]
    },
    {
      "cell_type": "code",
      "metadata": {
        "colab": {
          "base_uri": "https://localhost:8080/"
        },
        "id": "MXyWNe4P-7sm",
        "outputId": "43b98ab2-fa2c-498b-844d-26bbb9325395"
      },
      "source": [
        "sorted(existing_dict.values())"
      ],
      "execution_count": 8,
      "outputs": [
        {
          "output_type": "execute_result",
          "data": {
            "text/plain": [
              "[1, 2, 3]"
            ]
          },
          "metadata": {
            "tags": []
          },
          "execution_count": 8
        }
      ]
    },
    {
      "cell_type": "code",
      "metadata": {
        "colab": {
          "base_uri": "https://localhost:8080/"
        },
        "id": "DSc-HGEu-9NY",
        "outputId": "da6d7c42-93f9-4b3b-ef22-b299a65bfe34"
      },
      "source": [
        "sorted(existing_dict.items())"
      ],
      "execution_count": 9,
      "outputs": [
        {
          "output_type": "execute_result",
          "data": {
            "text/plain": [
              "[('a', 1), ('b', 2), ('c', 3)]"
            ]
          },
          "metadata": {
            "tags": []
          },
          "execution_count": 9
        }
      ]
    },
    {
      "cell_type": "markdown",
      "metadata": {
        "id": "ygQuHdZq_DpX"
      },
      "source": [
        "# Iterations With Dictionaries"
      ]
    },
    {
      "cell_type": "code",
      "metadata": {
        "colab": {
          "base_uri": "https://localhost:8080/"
        },
        "id": "GhWu25ay-9ab",
        "outputId": "91f20add-0a2c-4cae-f0da-0b5204cb578f"
      },
      "source": [
        "# Create a dictionary for iteration\n",
        "iter_dict = {\"a\": 1, \"b\": 2}\n",
        "for key in iter_dict:\n",
        "     print(key)\n",
        " \n",
        "for value in iter_dict.values():\n",
        "     print(value)\n",
        " \n",
        "for key, value in iter_dict.items():\n",
        "     print(key, value)"
      ],
      "execution_count": 10,
      "outputs": [
        {
          "output_type": "stream",
          "text": [
            "a\n",
            "b\n",
            "1\n",
            "2\n",
            "a 1\n",
            "b 2\n"
          ],
          "name": "stdout"
        }
      ]
    },
    {
      "cell_type": "code",
      "metadata": {
        "colab": {
          "base_uri": "https://localhost:8080/"
        },
        "id": "i4hZe3bI_INc",
        "outputId": "8140f0d1-86ff-483a-f117-31ad88894430"
      },
      "source": [
        "messed_dict = {\"c\": 3, \"b\": 2, \"a\": 5}\n",
        "for key, value in sorted(messed_dict.items()):\n",
        "     print(key, value)\n",
        "\n",
        "for value in sorted(messed_dict.values()):\n",
        "     print(value)"
      ],
      "execution_count": 11,
      "outputs": [
        {
          "output_type": "stream",
          "text": [
            "a 5\n",
            "b 2\n",
            "c 3\n",
            "2\n",
            "3\n",
            "5\n"
          ],
          "name": "stdout"
        }
      ]
    },
    {
      "cell_type": "code",
      "metadata": {
        "id": "OggiYSGp_N8D"
      },
      "source": [
        "ordered_dict = {\"a\": 1, \"b\": 2, \"c\": 3}\n",
        "# for value in reversed(ordered_dict.values()):\n",
        "#      print(value)\n",
        " \n",
        "# for key in reversed(ordered_dict):\n",
        "#      print(key)"
      ],
      "execution_count": 17,
      "outputs": []
    },
    {
      "cell_type": "markdown",
      "metadata": {
        "id": "AArRIorW_q1h"
      },
      "source": [
        "# Dictionary Comprehension"
      ]
    },
    {
      "cell_type": "code",
      "metadata": {
        "colab": {
          "base_uri": "https://localhost:8080/"
        },
        "id": "pODSNP3P_Uo_",
        "outputId": "2c25780a-8b68-4d15-e024-92ae612891ac"
      },
      "source": [
        "# Create a list object\n",
        "existing_list = [1, 2, 3]\n",
        "# Create dictionary from the list\n",
        "squares_dict = {x: x*x for x in existing_list}\n",
        "print(squares_dict)\n",
        "# Create a dictionary including only odd numbers\n",
        "odds_dict = {x: x*x for x in existing_list if x % 2}\n",
        "print(odds_dict)"
      ],
      "execution_count": 18,
      "outputs": [
        {
          "output_type": "stream",
          "text": [
            "{1: 1, 2: 4, 3: 9}\n",
            "{1: 1, 3: 9}\n"
          ],
          "name": "stdout"
        }
      ]
    },
    {
      "cell_type": "markdown",
      "metadata": {
        "id": "0UWaoSbb_wTX"
      },
      "source": [
        "# The pop() and popitem() Methods"
      ]
    },
    {
      "cell_type": "code",
      "metadata": {
        "colab": {
          "base_uri": "https://localhost:8080/"
        },
        "id": "mRZCOhdF_uY1",
        "outputId": "6f5cd8eb-94b1-4397-9be9-54fb748109af"
      },
      "source": [
        "# Create a dictionary object that tracks tips received for the day\n",
        "tips = {'John': 35.5, 'Aaron': 40.75, 'Ashley': 39}\n",
        "# Waiters are getting their own tips\n",
        "def get_tip(waiter):\n",
        "    tip_for_waiter = tips.pop(waiter)\n",
        "    print(f\"After dispensing ${tip_for_waiter} to {waiter}, \\nthe remaining tips are ${tips}.\")\n",
        "    return tip_for_waiter\n",
        "\n",
        "get_tip(\"John\")\n",
        "get_tip(\"Ashley\")"
      ],
      "execution_count": 19,
      "outputs": [
        {
          "output_type": "stream",
          "text": [
            "After dispensing $35.5 to John, \n",
            "the remaining tips are ${'Aaron': 40.75, 'Ashley': 39}.\n",
            "After dispensing $39 to Ashley, \n",
            "the remaining tips are ${'Aaron': 40.75}.\n"
          ],
          "name": "stdout"
        },
        {
          "output_type": "execute_result",
          "data": {
            "text/plain": [
              "39"
            ]
          },
          "metadata": {
            "tags": []
          },
          "execution_count": 19
        }
      ]
    },
    {
      "cell_type": "code",
      "metadata": {
        "colab": {
          "base_uri": "https://localhost:8080/",
          "height": 198
        },
        "id": "uEJ3vRP-_2Py",
        "outputId": "e7f3b3eb-504b-459c-9b9e-971c3515bb31"
      },
      "source": [
        "tips.pop(\"Daniel\")"
      ],
      "execution_count": 20,
      "outputs": [
        {
          "output_type": "error",
          "ename": "KeyError",
          "evalue": "ignored",
          "traceback": [
            "\u001b[0;31m---------------------------------------------------------------------------\u001b[0m",
            "\u001b[0;31mKeyError\u001b[0m                                  Traceback (most recent call last)",
            "\u001b[0;32m<ipython-input-20-df1944739ede>\u001b[0m in \u001b[0;36m<module>\u001b[0;34m()\u001b[0m\n\u001b[0;32m----> 1\u001b[0;31m \u001b[0mtips\u001b[0m\u001b[0;34m.\u001b[0m\u001b[0mpop\u001b[0m\u001b[0;34m(\u001b[0m\u001b[0;34m\"Daniel\"\u001b[0m\u001b[0;34m)\u001b[0m\u001b[0;34m\u001b[0m\u001b[0;34m\u001b[0m\u001b[0m\n\u001b[0m",
            "\u001b[0;31mKeyError\u001b[0m: 'Daniel'"
          ]
        }
      ]
    },
    {
      "cell_type": "code",
      "metadata": {
        "colab": {
          "base_uri": "https://localhost:8080/"
        },
        "id": "epuYxBXv_78l",
        "outputId": "132622b2-8aa4-48f3-9c0b-082f1ffcff03"
      },
      "source": [
        "tips.pop(\"Daniel\", 0)"
      ],
      "execution_count": 21,
      "outputs": [
        {
          "output_type": "execute_result",
          "data": {
            "text/plain": [
              "0"
            ]
          },
          "metadata": {
            "tags": []
          },
          "execution_count": 21
        }
      ]
    },
    {
      "cell_type": "code",
      "metadata": {
        "colab": {
          "base_uri": "https://localhost:8080/"
        },
        "id": "GmjA06Y9_9Dt",
        "outputId": "33ef87a1-8ddf-4861-e843-54a617542991"
      },
      "source": [
        "# Create a dictionary object that tracks tips received for the day\n",
        "tips = {'John': 35.5, 'Aaron': 40.75, 'Ashley': 39}\n",
        "# Destructively iterate the dictionary\n",
        "while len(tips):\n",
        "     waiter, tip = tips.popitem()\n",
        "     print(f\"After dispensing ${tip} to {waiter}, \\nthe remaining tips are ${tips}.\")"
      ],
      "execution_count": 22,
      "outputs": [
        {
          "output_type": "stream",
          "text": [
            "After dispensing $39 to Ashley, \n",
            "the remaining tips are ${'John': 35.5, 'Aaron': 40.75}.\n",
            "After dispensing $40.75 to Aaron, \n",
            "the remaining tips are ${'John': 35.5}.\n",
            "After dispensing $35.5 to John, \n",
            "the remaining tips are ${}.\n"
          ],
          "name": "stdout"
        }
      ]
    },
    {
      "cell_type": "code",
      "metadata": {
        "id": "g1HLLhlAADj8"
      },
      "source": [
        "tips_all_dispensed = {}"
      ],
      "execution_count": 23,
      "outputs": []
    },
    {
      "cell_type": "code",
      "metadata": {
        "colab": {
          "base_uri": "https://localhost:8080/",
          "height": 198
        },
        "id": "YDxKwnELAFMn",
        "outputId": "a898d976-9225-4e5b-f3d8-2927cad77d31"
      },
      "source": [
        "tips_all_dispensed.popitem()"
      ],
      "execution_count": 24,
      "outputs": [
        {
          "output_type": "error",
          "ename": "KeyError",
          "evalue": "ignored",
          "traceback": [
            "\u001b[0;31m---------------------------------------------------------------------------\u001b[0m",
            "\u001b[0;31mKeyError\u001b[0m                                  Traceback (most recent call last)",
            "\u001b[0;32m<ipython-input-24-de141a873ed9>\u001b[0m in \u001b[0;36m<module>\u001b[0;34m()\u001b[0m\n\u001b[0;32m----> 1\u001b[0;31m \u001b[0mtips_all_dispensed\u001b[0m\u001b[0;34m.\u001b[0m\u001b[0mpopitem\u001b[0m\u001b[0;34m(\u001b[0m\u001b[0;34m)\u001b[0m\u001b[0;34m\u001b[0m\u001b[0;34m\u001b[0m\u001b[0m\n\u001b[0m",
            "\u001b[0;31mKeyError\u001b[0m: 'popitem(): dictionary is empty'"
          ]
        }
      ]
    }
  ]
}