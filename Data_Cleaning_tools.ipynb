{
  "nbformat": 4,
  "nbformat_minor": 0,
  "metadata": {
    "colab": {
      "name": "Data Cleaning tools.ipynb",
      "provenance": [],
      "authorship_tag": "ABX9TyNnK0CaYN4gjM3TBUbznU3W"
    },
    "kernelspec": {
      "name": "python3",
      "display_name": "Python 3"
    },
    "language_info": {
      "name": "python"
    }
  },
  "cells": [
    {
      "cell_type": "markdown",
      "metadata": {
        "id": "PPM7Ho90qR3k"
      },
      "source": [
        "[Reference1](https://github.com/scrapinghub/dateparser)<br>"
      ]
    },
    {
      "cell_type": "code",
      "metadata": {
        "colab": {
          "base_uri": "https://localhost:8080/"
        },
        "id": "rEbsovp5qUND",
        "outputId": "b71c8b38-aba4-4576-e569-cef0d44b6c52"
      },
      "source": [
        "pip install dateparser"
      ],
      "execution_count": 2,
      "outputs": [
        {
          "output_type": "stream",
          "text": [
            "Collecting dateparser\n",
            "\u001b[?25l  Downloading https://files.pythonhosted.org/packages/78/c4/b5ddc3eeac974d85055d88c1e6b62cc492fc1a93dbe3b66a45a756a7b807/dateparser-1.0.0-py2.py3-none-any.whl (279kB)\n",
            "\r\u001b[K     |█▏                              | 10kB 21.0MB/s eta 0:00:01\r\u001b[K     |██▍                             | 20kB 28.0MB/s eta 0:00:01\r\u001b[K     |███▌                            | 30kB 31.5MB/s eta 0:00:01\r\u001b[K     |████▊                           | 40kB 20.9MB/s eta 0:00:01\r\u001b[K     |█████▉                          | 51kB 13.6MB/s eta 0:00:01\r\u001b[K     |███████                         | 61kB 11.5MB/s eta 0:00:01\r\u001b[K     |████████▏                       | 71kB 12.8MB/s eta 0:00:01\r\u001b[K     |█████████▍                      | 81kB 13.7MB/s eta 0:00:01\r\u001b[K     |██████████▌                     | 92kB 14.9MB/s eta 0:00:01\r\u001b[K     |███████████▊                    | 102kB 11.5MB/s eta 0:00:01\r\u001b[K     |████████████▉                   | 112kB 11.5MB/s eta 0:00:01\r\u001b[K     |██████████████                  | 122kB 11.5MB/s eta 0:00:01\r\u001b[K     |███████████████▏                | 133kB 11.5MB/s eta 0:00:01\r\u001b[K     |████████████████▍               | 143kB 11.5MB/s eta 0:00:01\r\u001b[K     |█████████████████▋              | 153kB 11.5MB/s eta 0:00:01\r\u001b[K     |██████████████████▊             | 163kB 11.5MB/s eta 0:00:01\r\u001b[K     |████████████████████            | 174kB 11.5MB/s eta 0:00:01\r\u001b[K     |█████████████████████           | 184kB 11.5MB/s eta 0:00:01\r\u001b[K     |██████████████████████▎         | 194kB 11.5MB/s eta 0:00:01\r\u001b[K     |███████████████████████▍        | 204kB 11.5MB/s eta 0:00:01\r\u001b[K     |████████████████████████▋       | 215kB 11.5MB/s eta 0:00:01\r\u001b[K     |█████████████████████████▊      | 225kB 11.5MB/s eta 0:00:01\r\u001b[K     |███████████████████████████     | 235kB 11.5MB/s eta 0:00:01\r\u001b[K     |████████████████████████████    | 245kB 11.5MB/s eta 0:00:01\r\u001b[K     |█████████████████████████████▎  | 256kB 11.5MB/s eta 0:00:01\r\u001b[K     |██████████████████████████████▍ | 266kB 11.5MB/s eta 0:00:01\r\u001b[K     |███████████████████████████████▋| 276kB 11.5MB/s eta 0:00:01\r\u001b[K     |████████████████████████████████| 286kB 11.5MB/s \n",
            "\u001b[?25hRequirement already satisfied: pytz in /usr/local/lib/python3.7/dist-packages (from dateparser) (2018.9)\n",
            "Requirement already satisfied: tzlocal in /usr/local/lib/python3.7/dist-packages (from dateparser) (1.5.1)\n",
            "Requirement already satisfied: regex!=2019.02.19 in /usr/local/lib/python3.7/dist-packages (from dateparser) (2019.12.20)\n",
            "Requirement already satisfied: python-dateutil in /usr/local/lib/python3.7/dist-packages (from dateparser) (2.8.1)\n",
            "Requirement already satisfied: six>=1.5 in /usr/local/lib/python3.7/dist-packages (from python-dateutil->dateparser) (1.15.0)\n",
            "Installing collected packages: dateparser\n",
            "Successfully installed dateparser-1.0.0\n"
          ],
          "name": "stdout"
        }
      ]
    },
    {
      "cell_type": "code",
      "metadata": {
        "colab": {
          "base_uri": "https://localhost:8080/"
        },
        "id": "rtXH2TdNqNoB",
        "outputId": "0d10c4a0-8709-48de-eb4a-0d1dfd6378bf"
      },
      "source": [
        "import dateparser\n",
        "\n",
        "dateparser.parse('Sat, 19 Jun 2021 11:35:55')"
      ],
      "execution_count": 3,
      "outputs": [
        {
          "output_type": "execute_result",
          "data": {
            "text/plain": [
              "datetime.datetime(2021, 6, 19, 11, 35, 55)"
            ]
          },
          "metadata": {
            "tags": []
          },
          "execution_count": 3
        }
      ]
    },
    {
      "cell_type": "code",
      "metadata": {
        "colab": {
          "base_uri": "https://localhost:8080/"
        },
        "id": "5nPFTZVOqjTl",
        "outputId": "9a334017-b8bc-4fc2-be06-c7ad5f611f4e"
      },
      "source": [
        "dateparser.parse('2021-05-20')"
      ],
      "execution_count": 4,
      "outputs": [
        {
          "output_type": "execute_result",
          "data": {
            "text/plain": [
              "datetime.datetime(2021, 5, 20, 0, 0)"
            ]
          },
          "metadata": {
            "tags": []
          },
          "execution_count": 4
        }
      ]
    },
    {
      "cell_type": "code",
      "metadata": {
        "colab": {
          "base_uri": "https://localhost:8080/"
        },
        "id": "1GCMtEMuqqzo",
        "outputId": "9b00b8b2-15e4-45cb-d1ff-e126bd274b74"
      },
      "source": [
        "dateparser.parse('In one month')  # today is 19th Jun 2021"
      ],
      "execution_count": 5,
      "outputs": [
        {
          "output_type": "execute_result",
          "data": {
            "text/plain": [
              "datetime.datetime(2021, 7, 19, 14, 26, 57, 768985)"
            ]
          },
          "metadata": {
            "tags": []
          },
          "execution_count": 5
        }
      ]
    },
    {
      "cell_type": "code",
      "metadata": {
        "colab": {
          "base_uri": "https://localhost:8080/"
        },
        "id": "nGJ6p8GtqytV",
        "outputId": "77324f13-5fa7-4c71-8141-82f065280c1b"
      },
      "source": [
        "dateparser.parse('1273235765')"
      ],
      "execution_count": 6,
      "outputs": [
        {
          "output_type": "execute_result",
          "data": {
            "text/plain": [
              "datetime.datetime(2010, 5, 7, 12, 36, 5)"
            ]
          },
          "metadata": {
            "tags": []
          },
          "execution_count": 6
        }
      ]
    },
    {
      "cell_type": "code",
      "metadata": {
        "colab": {
          "base_uri": "https://localhost:8080/"
        },
        "id": "bakCGU-xnShb",
        "outputId": "d89d1825-566d-4b37-d56a-5b7328442afd"
      },
      "source": [
        "dateparser.parse('June 19, 2021 05:00 PM EST')"
      ],
      "execution_count": 7,
      "outputs": [
        {
          "output_type": "execute_result",
          "data": {
            "text/plain": [
              "datetime.datetime(2021, 6, 19, 17, 0, tzinfo=<StaticTzInfo 'EST'>)"
            ]
          },
          "metadata": {
            "tags": []
          },
          "execution_count": 7
        }
      ]
    },
    {
      "cell_type": "code",
      "metadata": {
        "colab": {
          "base_uri": "https://localhost:8080/"
        },
        "id": "bh1erXBStpxV",
        "outputId": "8978f8fc-059b-403b-ced8-b053873d579c"
      },
      "source": [
        "pip install clean-text"
      ],
      "execution_count": 18,
      "outputs": [
        {
          "output_type": "stream",
          "text": [
            "Collecting clean-text\n",
            "  Downloading https://files.pythonhosted.org/packages/b7/f5/f0db7d0185e26f9a85d425fd19d9bd891ff733f2ec0d1ee06791fd7f13b6/clean_text-0.4.0-py3-none-any.whl\n",
            "Collecting ftfy<7.0,>=6.0\n",
            "\u001b[?25l  Downloading https://files.pythonhosted.org/packages/af/da/d215a091986e5f01b80f5145cff6f22e2dc57c6b048aab2e882a07018473/ftfy-6.0.3.tar.gz (64kB)\n",
            "\u001b[K     |████████████████████████████████| 71kB 6.2MB/s \n",
            "\u001b[?25hCollecting emoji\n",
            "\u001b[?25l  Downloading https://files.pythonhosted.org/packages/24/fa/b3368f41b95a286f8d300e323449ab4e86b85334c2e0b477e94422b8ed0f/emoji-1.2.0-py3-none-any.whl (131kB)\n",
            "\u001b[K     |████████████████████████████████| 133kB 23.2MB/s \n",
            "\u001b[?25hRequirement already satisfied: wcwidth in /usr/local/lib/python3.7/dist-packages (from ftfy<7.0,>=6.0->clean-text) (0.2.5)\n",
            "Building wheels for collected packages: ftfy\n",
            "  Building wheel for ftfy (setup.py) ... \u001b[?25l\u001b[?25hdone\n",
            "  Created wheel for ftfy: filename=ftfy-6.0.3-cp37-none-any.whl size=41935 sha256=dd1032604097a313d7fb4eab7fdd7b1660294eba426a4fdf15503673a48f95d6\n",
            "  Stored in directory: /root/.cache/pip/wheels/99/2c/e6/109c8a28fef7a443f67ba58df21fe1d0067ac3322e75e6b0b7\n",
            "Successfully built ftfy\n",
            "Installing collected packages: ftfy, emoji, clean-text\n",
            "Successfully installed clean-text-0.4.0 emoji-1.2.0 ftfy-6.0.3\n"
          ],
          "name": "stdout"
        }
      ]
    },
    {
      "cell_type": "code",
      "metadata": {
        "colab": {
          "base_uri": "https://localhost:8080/"
        },
        "id": "74aOeLDLszhh",
        "outputId": "567ab3a2-3f3d-4bed-c87d-ccf21948f256"
      },
      "source": [
        "pip install fuzzywuzzy"
      ],
      "execution_count": 8,
      "outputs": [
        {
          "output_type": "stream",
          "text": [
            "Collecting fuzzywuzzy\n",
            "  Downloading https://files.pythonhosted.org/packages/43/ff/74f23998ad2f93b945c0309f825be92e04e0348e062026998b5eefef4c33/fuzzywuzzy-0.18.0-py2.py3-none-any.whl\n",
            "Installing collected packages: fuzzywuzzy\n",
            "Successfully installed fuzzywuzzy-0.18.0\n"
          ],
          "name": "stdout"
        }
      ]
    },
    {
      "cell_type": "code",
      "metadata": {
        "colab": {
          "base_uri": "https://localhost:8080/"
        },
        "id": "NQF12ZFDq_JX",
        "outputId": "94b20c88-10ef-416a-ae68-e5307eb70a0d"
      },
      "source": [
        "from fuzzywuzzy import fuzz\n",
        "from fuzzywuzzy import process"
      ],
      "execution_count": 9,
      "outputs": [
        {
          "output_type": "stream",
          "text": [
            "/usr/local/lib/python3.7/dist-packages/fuzzywuzzy/fuzz.py:11: UserWarning: Using slow pure-python SequenceMatcher. Install python-Levenshtein to remove this warning\n",
            "  warnings.warn('Using slow pure-python SequenceMatcher. Install python-Levenshtein to remove this warning')\n"
          ],
          "name": "stderr"
        }
      ]
    },
    {
      "cell_type": "code",
      "metadata": {
        "colab": {
          "base_uri": "https://localhost:8080/"
        },
        "id": "tpwMgp3msz1r",
        "outputId": "1109d074-d379-453f-98d2-927bb607efe7"
      },
      "source": [
        "fuzz.ratio(\"this is a test\", \"this is a test!\")"
      ],
      "execution_count": 10,
      "outputs": [
        {
          "output_type": "execute_result",
          "data": {
            "text/plain": [
              "100"
            ]
          },
          "metadata": {
            "tags": []
          },
          "execution_count": 10
        }
      ]
    },
    {
      "cell_type": "code",
      "metadata": {
        "colab": {
          "base_uri": "https://localhost:8080/"
        },
        "id": "r89SUEvAs2lu",
        "outputId": "60bbd1c4-d1b6-4c03-d08d-c110fa846ac9"
      },
      "source": [
        "# Partial Ratio\n",
        "fuzz.partial_ratio(\"this is a test\", \"this is a test!\")"
      ],
      "execution_count": 11,
      "outputs": [
        {
          "output_type": "execute_result",
          "data": {
            "text/plain": [
              "100"
            ]
          },
          "metadata": {
            "tags": []
          },
          "execution_count": 11
        }
      ]
    },
    {
      "cell_type": "code",
      "metadata": {
        "colab": {
          "base_uri": "https://localhost:8080/"
        },
        "id": "0cAzrZ79s6Vy",
        "outputId": "bdb2369b-1450-4e8f-8fea-802fca0a0e34"
      },
      "source": [
        "fuzz.ratio(\"fuzzy wuzzy was a bear\", \"wuzzy fuzzy was a bear\")"
      ],
      "execution_count": 14,
      "outputs": [
        {
          "output_type": "execute_result",
          "data": {
            "text/plain": [
              "91"
            ]
          },
          "metadata": {
            "tags": []
          },
          "execution_count": 14
        }
      ]
    },
    {
      "cell_type": "code",
      "metadata": {
        "colab": {
          "base_uri": "https://localhost:8080/"
        },
        "id": "1vzUOuFVs-P7",
        "outputId": "2c662401-c3d7-4733-eb59-c6b80b137e3f"
      },
      "source": [
        "fuzz.token_sort_ratio(\"fuzzy wuzzy was a bear\", \"wuzzy fuzzy was a bear\")"
      ],
      "execution_count": 15,
      "outputs": [
        {
          "output_type": "execute_result",
          "data": {
            "text/plain": [
              "100"
            ]
          },
          "metadata": {
            "tags": []
          },
          "execution_count": 15
        }
      ]
    },
    {
      "cell_type": "code",
      "metadata": {
        "colab": {
          "base_uri": "https://localhost:8080/"
        },
        "id": "L6gEvE29s_BT",
        "outputId": "97929229-8839-4c94-d1d6-b46e6339dee1"
      },
      "source": [
        "fuzz.token_set_ratio(\"fuzzy was a bear\", \"fuzzy fuzzy was a bear\")"
      ],
      "execution_count": 16,
      "outputs": [
        {
          "output_type": "execute_result",
          "data": {
            "text/plain": [
              "100"
            ]
          },
          "metadata": {
            "tags": []
          },
          "execution_count": 16
        }
      ]
    },
    {
      "cell_type": "code",
      "metadata": {
        "colab": {
          "base_uri": "https://localhost:8080/"
        },
        "id": "PIFBBUjXtD4h",
        "outputId": "f4d0def3-da1c-45f7-9834-824121a39734"
      },
      "source": [
        "choices = [\"Atlanta Falcons\", \"New York Jets\", \"New York Giants\", \"Dallas Cowboys\"]\n",
        "process.extract(\"new york jets\", choices, limit=2)\n",
        "process.extractOne(\"cowboys\", choices)"
      ],
      "execution_count": 17,
      "outputs": [
        {
          "output_type": "execute_result",
          "data": {
            "text/plain": [
              "('Dallas Cowboys', 90)"
            ]
          },
          "metadata": {
            "tags": []
          },
          "execution_count": 17
        }
      ]
    }
  ]
}