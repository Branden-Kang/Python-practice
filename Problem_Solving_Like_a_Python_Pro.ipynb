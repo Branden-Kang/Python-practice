{
  "nbformat": 4,
  "nbformat_minor": 0,
  "metadata": {
    "colab": {
      "provenance": [],
      "authorship_tag": "ABX9TyMzso3f39UUYqAh2nd1mGrl"
    },
    "kernelspec": {
      "name": "python3",
      "display_name": "Python 3"
    },
    "language_info": {
      "name": "python"
    }
  },
  "cells": [
    {
      "cell_type": "markdown",
      "source": [
        "[Reference](https://medium.com/data-science-collective/problem-solving-like-a-python-pro-01174a3f7740)"
      ],
      "metadata": {
        "id": "WyQBeyKW4r8q"
      }
    },
    {
      "cell_type": "markdown",
      "source": [
        "# 1) Think Like a Pro"
      ],
      "metadata": {
        "id": "uPc5quUm4u4C"
      }
    },
    {
      "cell_type": "code",
      "execution_count": 1,
      "metadata": {
        "id": "hzJYZIkW4pud"
      },
      "outputs": [],
      "source": [
        "def get_titles():\n",
        "    titles = []\n",
        "    with open(\"blogs.csv\") as f:\n",
        "        for line in f:\n",
        "            parts = line.strip().split(',')\n",
        "            titles.append(parts[1])\n",
        "    return titles"
      ]
    },
    {
      "cell_type": "code",
      "source": [
        "def get_column(filepath, column_index):\n",
        "    with open(filepath) as f:\n",
        "        return [line.strip().split(',')[column_index] for line in f]"
      ],
      "metadata": {
        "id": "LMG-yZyF4xAh"
      },
      "execution_count": 2,
      "outputs": []
    },
    {
      "cell_type": "markdown",
      "source": [
        "## Data Over Code"
      ],
      "metadata": {
        "id": "pJEjpfjb4zti"
      }
    },
    {
      "cell_type": "markdown",
      "source": [
        "```python\n",
        "if cmd == \"init\":\n",
        "    initialize()\n",
        "elif cmd == \"start\":\n",
        "    start_service()\n",
        "elif cmd == \"stop\":\n",
        "    stop_service()\n",
        "```"
      ],
      "metadata": {
        "id": "Rg4KpQgZ42aO"
      }
    },
    {
      "cell_type": "markdown",
      "source": [
        "```python\n",
        "dispatch = {\n",
        "    \"init\": initialize,\n",
        "    \"start\": start_service,\n",
        "    \"stop\": stop_service,\n",
        "}\n",
        "dispatch[cmd]()\n",
        "```"
      ],
      "metadata": {
        "id": "YJm70K_B44jG"
      }
    },
    {
      "cell_type": "markdown",
      "source": [
        "## The Debugging Mindset\n",
        "\n",
        "```python\n",
        "assert isinstance(data, dict), \"Expected a dict\"\n",
        "assert \"user\" in data, \"Missing user key\"\n",
        "```"
      ],
      "metadata": {
        "id": "NV2fiA9346YV"
      }
    },
    {
      "cell_type": "markdown",
      "source": [
        "```python\n",
        "print(parse_date(\"2023-13-50\"))\n",
        "```"
      ],
      "metadata": {
        "id": "PyiaAjD54-oJ"
      }
    },
    {
      "cell_type": "markdown",
      "source": [
        "## Think in the REPL (or a Notebook)\n",
        "\n",
        "```python\n",
        "from datetime import datetime\n",
        "datetime.strptime(\"2023-06-19\", \"%Y-%m-%d\")\n",
        "```"
      ],
      "metadata": {
        "id": "eyI36Nij5Hp_"
      }
    },
    {
      "cell_type": "markdown",
      "source": [
        "# 2) Architect Like a Python Pro: Beyond Loops and Ifs"
      ],
      "metadata": {
        "id": "32wCD8X85QgG"
      }
    },
    {
      "cell_type": "markdown",
      "source": [
        "## Decorators: Add Features, Keep Clean Code"
      ],
      "metadata": {
        "id": "Q3C4bKbD5XHT"
      }
    },
    {
      "cell_type": "code",
      "source": [
        "def log_calls(func):\n",
        "    def wrapper(*args, **kwargs):\n",
        "        print(f\"Calling {func.__name__} with {args}, {kwargs}\")\n",
        "        return func(*args, **kwargs)\n",
        "    return wrapper\n",
        "\n",
        "@log_calls\n",
        "def greet(name):\n",
        "    return f\"Hello, {name}!\"\n",
        "\n",
        "print(greet(\"Alice\"))"
      ],
      "metadata": {
        "colab": {
          "base_uri": "https://localhost:8080/"
        },
        "id": "0YGJQe3r41Zp",
        "outputId": "9f488fa2-4fb7-4593-a340-479dc81136fe"
      },
      "execution_count": 4,
      "outputs": [
        {
          "output_type": "stream",
          "name": "stdout",
          "text": [
            "Calling greet with ('Alice',), {}\n",
            "Hello, Alice!\n"
          ]
        }
      ]
    },
    {
      "cell_type": "markdown",
      "source": [
        "## Context Managers: Handle Setup/Teardown Like a Boss"
      ],
      "metadata": {
        "id": "S7qAKJ-J5ZhF"
      }
    },
    {
      "cell_type": "code",
      "source": [
        "with open(\"file.txt\") as f:\n",
        "    data = f.read()"
      ],
      "metadata": {
        "id": "JVyHtdtI5YQq"
      },
      "execution_count": 5,
      "outputs": []
    },
    {
      "cell_type": "code",
      "source": [
        "from contextlib import contextmanager\n",
        "\n",
        "@contextmanager\n",
        "def db_transaction():\n",
        "    print(\"BEGIN\")\n",
        "    try:\n",
        "        yield\n",
        "        print(\"COMMIT\")\n",
        "    except:\n",
        "        print(\"ROLLBACK\")\n",
        "        raise\n",
        "\n",
        "with db_transaction():\n",
        "    print(\"Do something risky\")"
      ],
      "metadata": {
        "colab": {
          "base_uri": "https://localhost:8080/"
        },
        "id": "qvyZoyW75ce_",
        "outputId": "7ec1760d-0eb5-4a8e-c5d6-58eee27f5853"
      },
      "execution_count": 7,
      "outputs": [
        {
          "output_type": "stream",
          "name": "stdout",
          "text": [
            "BEGIN\n",
            "Do something risky\n",
            "COMMIT\n"
          ]
        }
      ]
    },
    {
      "cell_type": "markdown",
      "source": [
        "## Mix Paradigms: OOP, FP, Procedural"
      ],
      "metadata": {
        "id": "6O7zRGwH5gw6"
      }
    },
    {
      "cell_type": "code",
      "source": [
        "data = [\"  Apple \", \"banana\", \"Cherry  \"]\n",
        "data = map(str.strip, data)\n",
        "data = filter(lambda x: x.lower().startswith(\"a\"), data)\n",
        "print(list(data))"
      ],
      "metadata": {
        "colab": {
          "base_uri": "https://localhost:8080/"
        },
        "id": "2z5mO8iF5eSc",
        "outputId": "91c0672b-8f31-4bae-9386-12186cc0ca49"
      },
      "execution_count": 8,
      "outputs": [
        {
          "output_type": "stream",
          "name": "stdout",
          "text": [
            "['Apple']\n"
          ]
        }
      ]
    },
    {
      "cell_type": "markdown",
      "source": [
        "## Design for Extension (Open/Closed Principle)"
      ],
      "metadata": {
        "id": "c820w4qH5lwI"
      }
    },
    {
      "cell_type": "markdown",
      "source": [
        "```python\n",
        "if format == \"csv\":\n",
        "    export_csv()\n",
        "elif format == \"json\":\n",
        "    export_json()\n",
        "```"
      ],
      "metadata": {
        "id": "cWdZQoXV5oc8"
      }
    },
    {
      "cell_type": "markdown",
      "source": [
        "```python\n",
        "class Exporter:\n",
        "    registry = {}\n",
        "\n",
        "    @classmethod\n",
        "    def register(cls, name):\n",
        "        def wrapper(func):\n",
        "            cls.registry[name] = func\n",
        "            return func\n",
        "        return wrapper\n",
        "\n",
        "    @classmethod\n",
        "    def run(cls, name, data):\n",
        "        return cls.registry[name](data)\n",
        "```"
      ],
      "metadata": {
        "id": "AiyZL_pq5tTH"
      }
    },
    {
      "cell_type": "markdown",
      "source": [
        "```python\n",
        "@Exporter.register(\"csv\")\n",
        "def export_csv(data): ...\n",
        "\n",
        "@Exporter.register(\"json\")\n",
        "def export_json(data): ...\n",
        "\n",
        "Exporter.run(\"csv\", my_data)\n",
        "```"
      ],
      "metadata": {
        "id": "3ENoBcJp5y5i"
      }
    },
    {
      "cell_type": "markdown",
      "source": [
        "# 3) Think Systems, Not Scripts: The Python Wizardry Tier\n",
        "\n",
        "```\n",
        "with pipeline() as p:\n",
        "    p >> read(\"input.csv\") >> clean() >> transform() >> write(\"output.csv\")\n",
        "```"
      ],
      "metadata": {
        "id": "uEPQcjAa53kF"
      }
    },
    {
      "cell_type": "markdown",
      "source": [
        "```python\n",
        "class pipeline:\n",
        "    def __enter__(self): return self\n",
        "    def __exit__(self, *a): pass\n",
        "    def __rshift__(self, func):\n",
        "        func()\n",
        "        return self\n",
        "```"
      ],
      "metadata": {
        "id": "DL8n4GJI5-qS"
      }
    },
    {
      "cell_type": "markdown",
      "source": [
        "## Rule Engines: Logic as Data"
      ],
      "metadata": {
        "id": "rLLk7pD76EXq"
      }
    },
    {
      "cell_type": "markdown",
      "source": [
        "```python\n",
        "if user.vip:\n",
        "    price *= 0.8\n",
        "elif user.first_time:\n",
        "    price *= 0.9\n",
        "```"
      ],
      "metadata": {
        "id": "gATPCxHK6FmR"
      }
    },
    {
      "cell_type": "markdown",
      "source": [
        "```python\n",
        "rules = [\n",
        "    (lambda user: user.vip, lambda price: price * 0.8),\n",
        "    (lambda user: user.first_time, lambda price: price * 0.9),\n",
        "]\n",
        "\n",
        "for cond, action in rules:\n",
        "    if cond(user):\n",
        "        price = action(price)\n",
        "```"
      ],
      "metadata": {
        "id": "Mdobd3LG6If6"
      }
    },
    {
      "cell_type": "markdown",
      "source": [
        "## Plugin Systems: Let Others Extend You"
      ],
      "metadata": {
        "id": "kfT8Y4zF6L8S"
      }
    },
    {
      "cell_type": "code",
      "source": [
        "class Command:\n",
        "    registry = {}\n",
        "\n",
        "    @classmethod\n",
        "    def register(cls, name):\n",
        "        def inner(func):\n",
        "            cls.registry[name] = func\n",
        "            return func\n",
        "        return inner\n",
        "\n",
        "    @classmethod\n",
        "    def run(cls, name):\n",
        "        return cls.registry[name]()\n",
        "\n",
        "@Command.register(\"hello\")\n",
        "def say_hello():\n",
        "    print(\"Hello!\")"
      ],
      "metadata": {
        "id": "kiYPwdiw5jXw"
      },
      "execution_count": 9,
      "outputs": []
    },
    {
      "cell_type": "code",
      "source": [
        "Command.run(\"hello\")"
      ],
      "metadata": {
        "colab": {
          "base_uri": "https://localhost:8080/"
        },
        "id": "1G-1HyR46PLL",
        "outputId": "86e23fa5-016a-4904-9d2d-515188893197"
      },
      "execution_count": 10,
      "outputs": [
        {
          "output_type": "stream",
          "name": "stdout",
          "text": [
            "Hello!\n"
          ]
        }
      ]
    }
  ]
}