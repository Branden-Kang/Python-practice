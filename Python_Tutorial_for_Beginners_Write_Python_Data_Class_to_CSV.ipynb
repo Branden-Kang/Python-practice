{
  "nbformat": 4,
  "nbformat_minor": 0,
  "metadata": {
    "colab": {
      "provenance": [],
      "authorship_tag": "ABX9TyP1/9K4ae7367m5Pjad2QN+"
    },
    "kernelspec": {
      "name": "python3",
      "display_name": "Python 3"
    },
    "language_info": {
      "name": "python"
    }
  },
  "cells": [
    {
      "cell_type": "markdown",
      "source": [
        "[Reference](https://medium.com/@luzhenna/python-tutorial-for-beginners-write-python-data-class-to-csv-a4920b3a2c61)"
      ],
      "metadata": {
        "id": "xYXBk14WLuqN"
      }
    },
    {
      "cell_type": "markdown",
      "source": [
        "# 1. Write raw data to csv line by line"
      ],
      "metadata": {
        "id": "kdrWeHb7LzVv"
      }
    },
    {
      "cell_type": "code",
      "execution_count": 2,
      "metadata": {
        "id": "wQ7jG-xNLAIZ"
      },
      "outputs": [],
      "source": [
        "import csv\n",
        "header = [\"name\", \"birth_date\", \"age\", \"member\"]\n",
        "data = [\n",
        "    [\"AAA\", \"2000-12-05\", None, True],\n",
        "    [\"BBB\", \"1998-09-23\", None, False],\n",
        "    [\"CCC\", \"1996-02-28\", None, True],\n",
        "    [\"DDD\", \"1999-06-15\", None, True],\n",
        "    [\"EEE\", \"2001-05-14\", None, True],\n",
        "]\n",
        "\n",
        "with open(\"namelist.csv\", \"w\", encoding=\"UTF8\", newline=\"\") as f:\n",
        "    writer = csv.writer(f)\n",
        "    writer.writerow(header)\n",
        "    writer.writerows(data)"
      ]
    },
    {
      "cell_type": "markdown",
      "source": [
        "# 2. Write data class to csv"
      ],
      "metadata": {
        "id": "v2hUeTBTL6ov"
      }
    },
    {
      "cell_type": "code",
      "source": [
        "from dataclasses import dataclass\n",
        "from datetime import datetime\n",
        "from dateutil.relativedelta import relativedelta\n",
        "\n",
        "\n",
        "@dataclass\n",
        "class csvSchema:\n",
        "    name: str = None\n",
        "    birth_date: datetime = None\n",
        "    age: int = None\n",
        "    member: bool = False\n",
        "\n",
        "    def calculateAge(self):\n",
        "        return relativedelta(datetime.now(), self.birth_date).years\n",
        "\n",
        "    def toIterable(self):\n",
        "        return iter(\n",
        "            [\n",
        "                self.name,\n",
        "                self.birth_date,\n",
        "                self.calculateAge(),\n",
        "                self.member,\n",
        "            ]\n",
        "        )\n",
        "\n",
        "    def toHeader(self):\n",
        "        return [\n",
        "            \"name\",\n",
        "            \"birth_date\",\n",
        "            \"age\",\n",
        "            \"member\",\n",
        "        ]"
      ],
      "metadata": {
        "id": "R07pdLZuLzv_"
      },
      "execution_count": 3,
      "outputs": []
    },
    {
      "cell_type": "code",
      "source": [
        "namelist = [\n",
        "    csvSchema(name=\"AAA\", birth_date=datetime(2000, 12, 5), member=True),\n",
        "    csvSchema(name=\"BBB\", birth_date=datetime(1998, 9, 23), member=False),\n",
        "    csvSchema(name=\"CCC\", birth_date=datetime(1996, 2, 28), member=True),\n",
        "    csvSchema(name=\"DDD\", birth_date=datetime(1999, 6, 15), member=True),\n",
        "    csvSchema(name=\"EEE\", birth_date=datetime(2001, 5, 14), member=True),\n",
        "]\n",
        "\n",
        "def write2csv(listOfEntries: list):\n",
        "    with open(\"namelist_new.csv\", \"w\") as fileObj:\n",
        "        writer = csv.writer(fileObj)\n",
        "        writer.writerow(csvSchema().toHeader())\n",
        "        for item in listOfEntries:\n",
        "            writer.writerow(item.toIterable())\n",
        "\n",
        "write2csv(namelist)"
      ],
      "metadata": {
        "id": "jY2QIZZRL-qi"
      },
      "execution_count": 4,
      "outputs": []
    }
  ]
}