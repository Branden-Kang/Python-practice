{
  "nbformat": 4,
  "nbformat_minor": 0,
  "metadata": {
    "colab": {
      "provenance": [],
      "authorship_tag": "ABX9TyOYVXG9ruZwSulUT4gUzFwN"
    },
    "kernelspec": {
      "name": "python3",
      "display_name": "Python 3"
    },
    "language_info": {
      "name": "python"
    }
  },
  "cells": [
    {
      "cell_type": "markdown",
      "source": [
        "[Reference](https://medium.com/pythoneers/10-questions-answered-about-python-random-function-180b1b3fead1)"
      ],
      "metadata": {
        "id": "70YKiH2jkjbd"
      }
    },
    {
      "cell_type": "code",
      "source": [
        "import random\n",
        "random.seed(100)\n",
        "print(random.randint(1,60))"
      ],
      "metadata": {
        "colab": {
          "base_uri": "https://localhost:8080/"
        },
        "id": "jJ01WQcFknZ-",
        "outputId": "c5e7fbec-fea7-45d3-b39e-3c905c0a5eef"
      },
      "execution_count": 1,
      "outputs": [
        {
          "output_type": "stream",
          "name": "stdout",
          "text": [
            "10\n"
          ]
        }
      ]
    },
    {
      "cell_type": "code",
      "execution_count": 2,
      "metadata": {
        "colab": {
          "base_uri": "https://localhost:8080/"
        },
        "id": "-cCHZMA3kh3g",
        "outputId": "d82d4bef-2912-4957-c75c-b5b2cc59983d"
      },
      "outputs": [
        {
          "output_type": "stream",
          "name": "stdout",
          "text": [
            "['BPF', 'LOG4', 'NV_MAGICCONST', 'RECIP_BPF', 'Random', 'SG_MAGICCONST', 'SystemRandom', 'TWOPI', '_ONE', '_Sequence', '_Set', '__all__', '__builtins__', '__cached__', '__doc__', '__file__', '__loader__', '__name__', '__package__', '__spec__', '_accumulate', '_acos', '_bisect', '_ceil', '_cos', '_e', '_exp', '_floor', '_index', '_inst', '_isfinite', '_log', '_os', '_pi', '_random', '_repeat', '_sha512', '_sin', '_sqrt', '_test', '_test_generator', '_urandom', '_warn', 'betavariate', 'choice', 'choices', 'expovariate', 'gammavariate', 'gauss', 'getrandbits', 'getstate', 'lognormvariate', 'normalvariate', 'paretovariate', 'randbytes', 'randint', 'random', 'randrange', 'sample', 'seed', 'setstate', 'shuffle', 'triangular', 'uniform', 'vonmisesvariate', 'weibullvariate']\n"
          ]
        }
      ],
      "source": [
        "print(dir(random))"
      ]
    },
    {
      "cell_type": "code",
      "source": [
        "import random\n",
        "x= random.getstate()\n",
        "print(random.random())\n",
        "random.setstate(x)\n",
        "print(random.random())"
      ],
      "metadata": {
        "colab": {
          "base_uri": "https://localhost:8080/"
        },
        "id": "V-3xR8qzknnL",
        "outputId": "d249fb12-940e-41b1-9470-043c94b4cb84"
      },
      "execution_count": 3,
      "outputs": [
        {
          "output_type": "stream",
          "name": "stdout",
          "text": [
            "0.4595287848631069\n",
            "0.4595287848631069\n"
          ]
        }
      ]
    },
    {
      "cell_type": "code",
      "source": [
        "import random\n",
        "participants=('John','Gemma','Sam','Nick','Ben')\n",
        "print(\"The winner is\" ,random.choice(participants))"
      ],
      "metadata": {
        "colab": {
          "base_uri": "https://localhost:8080/"
        },
        "id": "hXkNg7EwkopK",
        "outputId": "6393197c-ff45-42b0-8b8e-d2ee06310c08"
      },
      "execution_count": 4,
      "outputs": [
        {
          "output_type": "stream",
          "name": "stdout",
          "text": [
            "The winner is Gemma\n"
          ]
        }
      ]
    },
    {
      "cell_type": "code",
      "source": [
        "import random\n",
        "Employee_id=['12113','31313','12132','21211','12111']\n",
        "random.shuffle(Employee_id)\n",
        "print(Employee_id)"
      ],
      "metadata": {
        "colab": {
          "base_uri": "https://localhost:8080/"
        },
        "id": "ERwTp-klkqhW",
        "outputId": "f2b7e9d3-1696-4387-c25d-4f1b04dc3829"
      },
      "execution_count": 5,
      "outputs": [
        {
          "output_type": "stream",
          "name": "stdout",
          "text": [
            "['12111', '12113', '31313', '12132', '21211']\n"
          ]
        }
      ]
    },
    {
      "cell_type": "code",
      "source": [
        "import random\n",
        "print(random.randrange(1,100,6))\n",
        "print(random.randint(1,100))"
      ],
      "metadata": {
        "colab": {
          "base_uri": "https://localhost:8080/"
        },
        "id": "nzd4N-Z0krfU",
        "outputId": "12f410ed-6259-419e-8d19-42d630ca83a5"
      },
      "execution_count": 6,
      "outputs": [
        {
          "output_type": "stream",
          "name": "stdout",
          "text": [
            "19\n",
            "11\n"
          ]
        }
      ]
    },
    {
      "cell_type": "code",
      "source": [
        "import random\n",
        "for i in range(10):\n",
        "    print(random.uniform(1,100))"
      ],
      "metadata": {
        "colab": {
          "base_uri": "https://localhost:8080/"
        },
        "id": "_VV08fDaksK1",
        "outputId": "ef80def7-9235-4b42-c9a3-76c59dc107e7"
      },
      "execution_count": 8,
      "outputs": [
        {
          "output_type": "stream",
          "name": "stdout",
          "text": [
            "73.93441691352905\n",
            "27.078217936611644\n",
            "66.2227827039605\n",
            "65.10253102899136\n",
            "21.244063848255024\n",
            "23.74081646376242\n",
            "84.05153500313905\n",
            "98.74574436383756\n",
            "96.1251769190104\n",
            "14.942296539775251\n"
          ]
        }
      ]
    },
    {
      "cell_type": "code",
      "source": [
        "import random\n",
        "print(random.random())"
      ],
      "metadata": {
        "colab": {
          "base_uri": "https://localhost:8080/"
        },
        "id": "TphWg2ZTktM4",
        "outputId": "1ce0861e-25ef-4c85-cff2-6bca2f93b3e7"
      },
      "execution_count": 10,
      "outputs": [
        {
          "output_type": "stream",
          "name": "stdout",
          "text": [
            "0.8928544472679827\n"
          ]
        }
      ]
    },
    {
      "cell_type": "code",
      "source": [
        "import random\n",
        "import string\n",
        "alphabets = string.ascii_lowercase + string.digits\n",
        "string = \"\"\n",
        "length=10\n",
        "for number in range(length):\n",
        "    string += random.choice(alphabets)\n",
        "print(string)"
      ],
      "metadata": {
        "colab": {
          "base_uri": "https://localhost:8080/"
        },
        "id": "FskaOP1HkvJ9",
        "outputId": "9aef8bee-c9e0-4e22-d88a-c2615f1bac79"
      },
      "execution_count": 11,
      "outputs": [
        {
          "output_type": "stream",
          "name": "stdout",
          "text": [
            "x0nz39rykh\n"
          ]
        }
      ]
    },
    {
      "cell_type": "code",
      "source": [
        "import random\n",
        "language=['English','Chinese','Hindi','Arabic','Bengali','Portuguese','Russian','Turkish' ]\n",
        "choices=random.choices(language,k=10)\n",
        "print(choices)\n",
        "sample= random.sample(language,k=5)\n",
        "print(sample)"
      ],
      "metadata": {
        "colab": {
          "base_uri": "https://localhost:8080/"
        },
        "id": "DrCAQCIZkxw0",
        "outputId": "0a70f485-503f-42bb-8f50-31d6205dfd75"
      },
      "execution_count": 12,
      "outputs": [
        {
          "output_type": "stream",
          "name": "stdout",
          "text": [
            "['Chinese', 'Bengali', 'Chinese', 'Russian', 'Chinese', 'Chinese', 'English', 'Portuguese', 'Turkish', 'Russian']\n",
            "['Russian', 'Chinese', 'Bengali', 'Portuguese', 'English']\n"
          ]
        }
      ]
    }
  ]
}