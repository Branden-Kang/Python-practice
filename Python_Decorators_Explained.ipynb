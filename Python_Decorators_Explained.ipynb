{
  "nbformat": 4,
  "nbformat_minor": 0,
  "metadata": {
    "colab": {
      "name": "Python Decorators Explained.ipynb",
      "provenance": [],
      "authorship_tag": "ABX9TyMyGg1Oi2Wjxc6fhDF7bZ76"
    },
    "kernelspec": {
      "name": "python3",
      "display_name": "Python 3"
    }
  },
  "cells": [
    {
      "cell_type": "markdown",
      "metadata": {
        "id": "ZHD-O9xUKvxV"
      },
      "source": [
        "[Reference](https://medium.com/swlh/python-decorators-explained-ddb82cc51fc5)"
      ]
    },
    {
      "cell_type": "code",
      "metadata": {
        "id": "nl3tCl8AKuMX"
      },
      "source": [
        "app = Flask(__name__)\n",
        "\n",
        "@app.route('/')\n",
        "def hello():\n",
        "    name = request.args.get(\"name\", \"World\")\n",
        "    return f'Hello, {escape(name)}!'"
      ],
      "execution_count": 2,
      "outputs": []
    },
    {
      "cell_type": "markdown",
      "metadata": {
        "id": "2qnYVMJWLAOi"
      },
      "source": [
        "errbot.io"
      ]
    },
    {
      "cell_type": "code",
      "metadata": {
        "id": "mOO-7PjHK4wt"
      },
      "source": [
        "class HelloWorld(BotPlugin):\n",
        "    \"\"\"Example 'Hello, world!' plugin for Errbot.\"\"\"    \n",
        "    @botcmd\n",
        "    def hello(self, msg, args):\n",
        "        \"\"\"Say hello to the world.\"\"\"\n",
        "        return \"Hello, world!\""
      ],
      "execution_count": 4,
      "outputs": []
    },
    {
      "cell_type": "code",
      "metadata": {
        "colab": {
          "base_uri": "https://localhost:8080/"
        },
        "id": "snMqd8rxK-xP",
        "outputId": "1dae20ae-058c-41a3-d0f1-81b6c9c4c62b"
      },
      "source": [
        "def bananaFunc():\n",
        "    print(\"Banana function\")\n",
        "    \n",
        "def strawberryFunc():\n",
        "    print(\"Strawberry function\")\n",
        "    \n",
        "funcmap = {\n",
        "    \"banana\": bananaFunc,\n",
        "    \"strawberry\": strawberryFunc\n",
        "}\n",
        "\n",
        "print(\"Type 'banana' or 'strawberry' to continue\")\n",
        "x = input()\n",
        "if x in funcmap.keys():\n",
        "    funcmap[x]()\n",
        "else:\n",
        "    print(\"Invalid input.\")"
      ],
      "execution_count": 5,
      "outputs": [
        {
          "output_type": "stream",
          "text": [
            "Type 'banana' or 'strawberry' to continue\n",
            "banana\n",
            "Banana function\n"
          ],
          "name": "stdout"
        }
      ]
    },
    {
      "cell_type": "code",
      "metadata": {
        "colab": {
          "base_uri": "https://localhost:8080/"
        },
        "id": "--ARWnasLC6c",
        "outputId": "0642c7a2-949e-4529-8fcd-a7b23bcbf1fc"
      },
      "source": [
        "def decorate(func):\n",
        "    print(\"Do something before func()\")\n",
        "    func()\n",
        "    return func #return the original function, unmodified\n",
        "\n",
        "@decorate\n",
        "def hello():\n",
        "    print(\"Hello, world!\")"
      ],
      "execution_count": 6,
      "outputs": [
        {
          "output_type": "stream",
          "text": [
            "Do something before func()\n",
            "Hello, world!\n"
          ],
          "name": "stdout"
        }
      ]
    },
    {
      "cell_type": "code",
      "metadata": {
        "colab": {
          "base_uri": "https://localhost:8080/"
        },
        "id": "KxzWNl3ILSQk",
        "outputId": "36ffe2af-7b0d-4b1e-a893-f2462f1dd8e2"
      },
      "source": [
        "def wrap(func):\n",
        "    def wrapper():\n",
        "        print(\"Say hello? Y/N\")\n",
        "        if input() == \"Y\":\n",
        "            func()\n",
        "        else:\n",
        "            print(\"OK.\")\n",
        "    return wrapper\n",
        "\n",
        "@wrap\n",
        "def hello():\n",
        "    print(\"Hello, world!\")\n",
        "    \n",
        "hello()"
      ],
      "execution_count": 8,
      "outputs": [
        {
          "output_type": "stream",
          "text": [
            "Say hello? Y/N\n",
            "Y\n",
            "Hello, world!\n"
          ],
          "name": "stdout"
        }
      ]
    },
    {
      "cell_type": "code",
      "metadata": {
        "id": "KKvk5AANLZKS"
      },
      "source": [
        "import urllib.request, json\n",
        "\n",
        "class XKCDThing(object):\n",
        "    def __init__(self):\n",
        "        self.subscribers = [] #list of functions to call    \n",
        "        \n",
        "    def subscriber(self, func):\n",
        "        self.subscribers.append(func) #decorator adds func() to list\n",
        "        return func    \n",
        "    def publish(self, title, link):\n",
        "        for func in self.subscribers:\n",
        "            func(title, link) #call every function in the list    \n",
        "    def run(self):\n",
        "        url = \"https://xkcd.com/info.0.json\"\n",
        "        with urllib.request.urlopen(url) as req:\n",
        "            data = json.loads(req.read().decode())\n",
        "            title = data['safe_title']\n",
        "            link = data['img']\n",
        "            self.publish(title, link)"
      ],
      "execution_count": 11,
      "outputs": []
    },
    {
      "cell_type": "code",
      "metadata": {
        "colab": {
          "base_uri": "https://localhost:8080/"
        },
        "id": "vIliarvoLmXO",
        "outputId": "38a764e7-6741-4c53-b1de-e58321673dba"
      },
      "source": [
        "app = XKCDThing()\n",
        "\n",
        "@app.subscriber\n",
        "def eventHandler1(title, link):\n",
        "    print(\"Event handler 1 called!\")\n",
        "    print(f\"Title: {title}\")\n",
        "    \n",
        "@app.subscriber\n",
        "def eventHandler2(title, link):\n",
        "    print(\"Event handler 2 called!\")\n",
        "    print(f\"Link: {link}\")\n",
        "    \n",
        "app.run()"
      ],
      "execution_count": 13,
      "outputs": [
        {
          "output_type": "stream",
          "text": [
            "Event handler 1 called!\n",
            "Title: Statistics\n",
            "Event handler 2 called!\n",
            "Link: https://imgs.xkcd.com/comics/statistics.png\n"
          ],
          "name": "stdout"
        }
      ]
    }
  ]
}