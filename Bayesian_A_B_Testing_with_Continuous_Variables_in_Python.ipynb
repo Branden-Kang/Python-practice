{
  "nbformat": 4,
  "nbformat_minor": 0,
  "metadata": {
    "colab": {
      "name": "Bayesian A/B Testing with Continuous Variables in Python.ipynb",
      "provenance": [],
      "collapsed_sections": [],
      "authorship_tag": "ABX9TyPybmw33Z/3k27xOdpGZ1LM"
    },
    "kernelspec": {
      "name": "python3",
      "display_name": "Python 3"
    }
  },
  "cells": [
    {
      "cell_type": "markdown",
      "metadata": {
        "id": "Y5IS57YEuJsO"
      },
      "source": [
        "[Reference](https://towardsdatascience.com/bayesian-a-b-testing-with-continuous-variables-including-python-code-133b74c7bd20)"
      ]
    },
    {
      "cell_type": "code",
      "metadata": {
        "id": "j4kITCD7sRja"
      },
      "source": [
        "import pandas as pd\n",
        "import requests\n",
        "import numpy as np\n",
        "import pymc3 as pm\n",
        "import scipy.stats as stats\n",
        "import matplotlib.pyplot as plt\n",
        "%matplotlib inline\n",
        "from IPython.core.pylabtools import figsize\n",
        "import theano.tensor as tt\n",
        "from scipy.stats.mstats import mquantiles"
      ],
      "execution_count": 1,
      "outputs": []
    },
    {
      "cell_type": "code",
      "metadata": {
        "id": "JgH1eg9fsVVG"
      },
      "source": [
        "rng = np.random.default_rng()\n",
        "\n",
        "df_control = pd.DataFrame(rng.integers(1, 100, size=(500, 1)), columns=['pvs_pb'])\n",
        "\n",
        "df_control['variant'] = 'control'\n",
        "\n",
        "df_variant = pd.DataFrame(rng.integers(60, 120, size=(500, 1)), columns=['pvs_pb'])\n",
        "\n",
        "df_variant['variant'] = 'variant'\n",
        "\n",
        "df = df_control.append(df_variant)"
      ],
      "execution_count": 2,
      "outputs": []
    },
    {
      "cell_type": "code",
      "metadata": {
        "id": "rpLjItP_sa2B",
        "outputId": "70146b2b-f33e-4468-f331-910340795c56",
        "colab": {
          "base_uri": "https://localhost:8080/",
          "height": 142
        }
      },
      "source": [
        "df.groupby(['variant']).count()"
      ],
      "execution_count": 3,
      "outputs": [
        {
          "output_type": "execute_result",
          "data": {
            "text/html": [
              "<div>\n",
              "<style scoped>\n",
              "    .dataframe tbody tr th:only-of-type {\n",
              "        vertical-align: middle;\n",
              "    }\n",
              "\n",
              "    .dataframe tbody tr th {\n",
              "        vertical-align: top;\n",
              "    }\n",
              "\n",
              "    .dataframe thead th {\n",
              "        text-align: right;\n",
              "    }\n",
              "</style>\n",
              "<table border=\"1\" class=\"dataframe\">\n",
              "  <thead>\n",
              "    <tr style=\"text-align: right;\">\n",
              "      <th></th>\n",
              "      <th>pvs_pb</th>\n",
              "    </tr>\n",
              "    <tr>\n",
              "      <th>variant</th>\n",
              "      <th></th>\n",
              "    </tr>\n",
              "  </thead>\n",
              "  <tbody>\n",
              "    <tr>\n",
              "      <th>control</th>\n",
              "      <td>500</td>\n",
              "    </tr>\n",
              "    <tr>\n",
              "      <th>variant</th>\n",
              "      <td>500</td>\n",
              "    </tr>\n",
              "  </tbody>\n",
              "</table>\n",
              "</div>"
            ],
            "text/plain": [
              "         pvs_pb\n",
              "variant        \n",
              "control     500\n",
              "variant     500"
            ]
          },
          "metadata": {
            "tags": []
          },
          "execution_count": 3
        }
      ]
    },
    {
      "cell_type": "code",
      "metadata": {
        "id": "ztf4RPoJsb-Q",
        "outputId": "14f99595-2ea5-4cc1-9fdf-0bcd66bd459c",
        "colab": {
          "base_uri": "https://localhost:8080/",
          "height": 142
        }
      },
      "source": [
        "df.groupby(['variant']).mean()"
      ],
      "execution_count": 5,
      "outputs": [
        {
          "output_type": "execute_result",
          "data": {
            "text/html": [
              "<div>\n",
              "<style scoped>\n",
              "    .dataframe tbody tr th:only-of-type {\n",
              "        vertical-align: middle;\n",
              "    }\n",
              "\n",
              "    .dataframe tbody tr th {\n",
              "        vertical-align: top;\n",
              "    }\n",
              "\n",
              "    .dataframe thead th {\n",
              "        text-align: right;\n",
              "    }\n",
              "</style>\n",
              "<table border=\"1\" class=\"dataframe\">\n",
              "  <thead>\n",
              "    <tr style=\"text-align: right;\">\n",
              "      <th></th>\n",
              "      <th>pvs_pb</th>\n",
              "    </tr>\n",
              "    <tr>\n",
              "      <th>variant</th>\n",
              "      <th></th>\n",
              "    </tr>\n",
              "  </thead>\n",
              "  <tbody>\n",
              "    <tr>\n",
              "      <th>control</th>\n",
              "      <td>51.698</td>\n",
              "    </tr>\n",
              "    <tr>\n",
              "      <th>variant</th>\n",
              "      <td>90.398</td>\n",
              "    </tr>\n",
              "  </tbody>\n",
              "</table>\n",
              "</div>"
            ],
            "text/plain": [
              "         pvs_pb\n",
              "variant        \n",
              "control  51.698\n",
              "variant  90.398"
            ]
          },
          "metadata": {
            "tags": []
          },
          "execution_count": 5
        }
      ]
    },
    {
      "cell_type": "code",
      "metadata": {
        "id": "UR0VSoiksdLB"
      },
      "source": [
        "control = df[(df['variant'] == 'control')]\n",
        "variant = df[(df['variant'] == 'variant')]"
      ],
      "execution_count": 6,
      "outputs": []
    },
    {
      "cell_type": "code",
      "metadata": {
        "id": "tz1XVD-_si61"
      },
      "source": [
        "pooled_mean = np.r_[control.pvs_pb, variant.pvs_pb].mean()\n",
        "pooled_std = np.r_[control.pvs_pb, variant.pvs_pb].std()\n",
        "variance = 2 * pooled_std\n",
        "with pm.Model() as model_1:\n",
        "    mu_A = pm.Normal(\"mu_A\", pooled_mean, sd = variance)\n",
        "    mu_B = pm.Normal(\"mu_B\", pooled_mean, sd = variance)\n",
        "    std_A = pm.Uniform(\"std_A\", 1/100, 100)\n",
        "    std_B = pm.Uniform(\"std_B\", 1/100, 100)\n",
        "    nu_minus_1 = pm.Exponential(\"nu-1\", 1.0/29)"
      ],
      "execution_count": 7,
      "outputs": []
    },
    {
      "cell_type": "code",
      "metadata": {
        "id": "2dLzZb5pskwZ",
        "outputId": "e48e66d8-229e-464f-ada5-34a712ba8e7f",
        "colab": {
          "base_uri": "https://localhost:8080/"
        }
      },
      "source": [
        "with model_1:\n",
        "    obs_A = pm.StudentT(\"obs_A\", mu = mu_A, lam = 1.0/std_A**2, nu = nu_minus_1+1, observed=control.pvs_pb)\n",
        "    obs_B = pm.StudentT(\"obs_B\", mu = mu_B, lam = 1.0/std_B**2, nu=nu_minus_1+1, observed=variant.pvs_pb)\n",
        "    start = pm.find_MAP()\n",
        "    step = pm.Metropolis(vars =[mu_A, mu_B, std_A, std_B, nu_minus_1])\n",
        "    trace_1 = pm.sample(25000, step = step)\n",
        "    burned_trace_1 = trace_1[10000:]"
      ],
      "execution_count": 8,
      "outputs": [
        {
          "output_type": "stream",
          "text": [
            "/usr/local/lib/python3.6/dist-packages/pymc3/tuning/starting.py:61: UserWarning: find_MAP should not be used to initialize the NUTS sampler, simply call pymc3.sample() and it will automatically initialize NUTS in a better way.\n",
            "  warnings.warn('find_MAP should not be used to initialize the NUTS sampler, simply call pymc3.sample() and it will automatically initialize NUTS in a better way.')\n",
            "logp = -4,555.9, ||grad|| = 0.16657: 100%|██████████| 33/33 [00:00<00:00, 750.41it/s]  \n",
            "Sequential sampling (2 chains in 1 job)\n",
            "CompoundStep\n",
            ">Metropolis: [nu-1]\n",
            ">Metropolis: [std_B]\n",
            ">Metropolis: [std_A]\n",
            ">Metropolis: [mu_B]\n",
            ">Metropolis: [mu_A]\n",
            "100%|██████████| 25500/25500 [00:28<00:00, 882.22it/s]\n",
            "100%|██████████| 25500/25500 [00:28<00:00, 895.71it/s]\n",
            "The number of effective samples is smaller than 10% for some parameters.\n"
          ],
          "name": "stderr"
        }
      ]
    },
    {
      "cell_type": "code",
      "metadata": {
        "id": "ebnah2Sls4ox",
        "outputId": "9f94c8bf-7513-4d5e-9f19-62d3d7aab7de",
        "colab": {
          "base_uri": "https://localhost:8080/",
          "height": 281
        }
      },
      "source": [
        "control_mean = burned_trace_1['mu_A']\n",
        "variant_mean = burned_trace_1['mu_B']\n",
        "plt.hist(control_mean, bins = 40, label=r'Posterior distribution of $\\mu_{Control}$', color = 'grey')\n",
        "plt.hist(variant_mean, bins = 40, label=r'Posterior distribution of $\\mu_{Variant}$', color = 'orange')\n",
        "plt.title('Posterior distributions for each respective group mean')\n",
        "plt.legend()\n",
        "plt.show()"
      ],
      "execution_count": 10,
      "outputs": [
        {
          "output_type": "display_data",
          "data": {
            "image/png": "[encoded data removed]",
            "text/plain": [
              "<Figure size 432x288 with 1 Axes>"
            ]
          },
          "metadata": {
            "tags": [],
            "needs_background": "light"
          }
        }
      ]
    },
    {
      "cell_type": "code",
      "metadata": {
        "id": "KQUreaEqtjOF",
        "outputId": "aa2f9825-53fd-4459-b1d9-0b4288571393",
        "colab": {
          "base_uri": "https://localhost:8080/",
          "height": 281
        }
      },
      "source": [
        "control_std = burned_trace_1['mu_A']\n",
        "variant_std = burned_trace_1['mu_B']\n",
        "plt.hist(control_std, bins = 40, label=r'Posterior distribution of $\\sigma_{Control}$', color = 'grey')\n",
        "plt.hist(variant_std, bins = 40, label=r'Posterior distribution of $\\sigma_{Variant}$', color = 'orange')\n",
        "plt.title('Posterior distributions of standard derivation derived from PyMC3')\n",
        "plt.legend()\n",
        "plt.show()"
      ],
      "execution_count": 15,
      "outputs": [
        {
          "output_type": "display_data",
          "data": {
            "image/png": "[encoded data removed]",
            "text/plain": [
              "<Figure size 432x288 with 1 Axes>"
            ]
          },
          "metadata": {
            "tags": [],
            "needs_background": "light"
          }
        }
      ]
    },
    {
      "cell_type": "code",
      "metadata": {
        "id": "nbMRXiZ-tFio",
        "outputId": "60f3c077-caab-43a2-8b92-f36ed5a35a0c",
        "colab": {
          "base_uri": "https://localhost:8080/",
          "height": 281
        }
      },
      "source": [
        "difference = variant_mean - control_mean # Difference of the means\n",
        "\n",
        "hdi = pm.stats.hpd(difference, 0.95) # The 95% HDI interval of the difference\n",
        "\n",
        "rope = [30,35] #the ROPE region\n",
        "\n",
        "plt.hist(difference, bins=50, density=True, label='Differene of the mean salaries', color = 'orange')\n",
        "plt.title('Posterior distribution of the the difference of the means')\n",
        "plt.vlines(hdi[0], 0,0.6, linestyle='--', color='red', label='HDI')\n",
        "plt.vlines(hdi[1], 0, 0.6, linestyle='--', color='red')\n",
        "plt.vlines(rope[0], 0, 0.6, linestyle='--', color='black', label='ROPE')\n",
        "plt.vlines(rope[1], 0, 0.6, linestyle='--', color='black')\n",
        "plt.title('Posterior distribution of the the difference of mean for Metric 1')\n",
        "plt.legend(loc='upper right')\n",
        "plt.show()"
      ],
      "execution_count": 17,
      "outputs": [
        {
          "output_type": "display_data",
          "data": {
            "image/png": "[encoded data removed]",
            "text/plain": [
              "<Figure size 432x288 with 1 Axes>"
            ]
          },
          "metadata": {
            "tags": [],
            "needs_background": "light"
          }
        }
      ]
    },
    {
      "cell_type": "code",
      "metadata": {
        "id": "pr4sfncls1aC",
        "outputId": "aca70119-a457-4b3c-ab1c-e64badce7664",
        "colab": {
          "base_uri": "https://localhost:8080/",
          "height": 318
        }
      },
      "source": [
        "rel_difference = 100 * (variant_mean-control_mean)/variant_mean\n",
        "prob = len(rel_difference[rel_difference > 40])/len(rel_difference)\n",
        "plt.hist(rel_difference, bins=50, density=True, label='Relative differene of the mean metric', color = 'orange')\n",
        "plt.title('Posterior distribution of the the relative difference of mean values')\n",
        "plt.vlines(40, 0,0.5, linestyle='-', color='red', label='HDI')\n",
        "print(f\"The probability that the variant performed 40% greater than the control is: {round(prob*100,2)}%\")\n",
        "plt.show()"
      ],
      "execution_count": 18,
      "outputs": [
        {
          "output_type": "stream",
          "text": [
            "The probability that the variant performed 40% greater than the control is: 96.29%\n"
          ],
          "name": "stdout"
        },
        {
          "output_type": "display_data",
          "data": {
            "image/png": "[encoded data removed]",
            "text/plain": [
              "<Figure size 432x288 with 1 Axes>"
            ]
          },
          "metadata": {
            "tags": [],
            "needs_background": "light"
          }
        }
      ]
    },
    {
      "cell_type": "code",
      "metadata": {
        "id": "ksVRtLmPtS8m",
        "outputId": "89329fde-4b18-44d2-e925-a0a6b7180b1b",
        "colab": {
          "base_uri": "https://localhost:8080/",
          "height": 318
        }
      },
      "source": [
        "rel_difference = 100 * (variant_mean-control_mean)/variant_mean\n",
        "prob = len(rel_difference[rel_difference > 40])/len(rel_difference)\n",
        "plt.hist(rel_difference, bins=50, density=True, label='Relative differene of the mean metric', color = 'orange')\n",
        "plt.title('Posterior distribution of the the relative difference of mean values')\n",
        "plt.vlines(40, 0,0.5, linestyle='-', color='red', label='HDI')\n",
        "print(f\"The probability that the variant performed 40% greater than the control is: {round(prob*100,2)}%\")\n",
        "plt.show()"
      ],
      "execution_count": 20,
      "outputs": [
        {
          "output_type": "stream",
          "text": [
            "The probability that the variant performed 40% greater than the control is: 96.29%\n"
          ],
          "name": "stdout"
        },
        {
          "output_type": "display_data",
          "data": {
            "image/png": "[encoded data removed]",
            "text/plain": [
              "<Figure size 432x288 with 1 Axes>"
            ]
          },
          "metadata": {
            "tags": [],
            "needs_background": "light"
          }
        }
      ]
    }
  ]
}