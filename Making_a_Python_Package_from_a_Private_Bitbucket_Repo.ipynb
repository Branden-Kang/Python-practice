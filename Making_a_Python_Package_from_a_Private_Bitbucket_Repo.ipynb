{
  "nbformat": 4,
  "nbformat_minor": 0,
  "metadata": {
    "colab": {
      "name": "Making a Python Package from a Private Bitbucket Repo.ipynb",
      "provenance": [],
      "authorship_tag": "ABX9TyPVxalIz3ZxqYvBTe2j7tZM"
    },
    "kernelspec": {
      "name": "python3",
      "display_name": "Python 3"
    },
    "language_info": {
      "name": "python"
    }
  },
  "cells": [
    {
      "cell_type": "markdown",
      "source": [
        "[Reference](https://medium.com/@bubbapora_76246/making-a-python-package-from-a-private-bitbucket-repo-208f634e8779)\n"
      ],
      "metadata": {
        "id": "enBt52jkbq7d"
      }
    },
    {
      "cell_type": "markdown",
      "source": [
        "# Setup: File Structure\n"
      ],
      "metadata": {
        "id": "pvst4aLKbutA"
      }
    },
    {
      "cell_type": "code",
      "execution_count": 1,
      "metadata": {
        "id": "M3o6HQWXYLP7"
      },
      "outputs": [],
      "source": [
        "# - package_name\n",
        "#    - functions_1.py\n",
        "#    - functions_2.py\n",
        "#    - __init__.py\n",
        "# - README.md\n",
        "# - setup.py"
      ]
    },
    {
      "cell_type": "markdown",
      "source": [
        "# Step 1: Example Code\n"
      ],
      "metadata": {
        "id": "7LaCdEGtbw42"
      }
    },
    {
      "cell_type": "code",
      "source": [
        "import pandas as pd\n",
        "\n",
        "def remove_nulls(data):\n",
        "    return data.dropna()"
      ],
      "metadata": {
        "id": "0CD3tWNfbwHA"
      },
      "execution_count": 2,
      "outputs": []
    },
    {
      "cell_type": "markdown",
      "source": [
        "# Step 2: __init__.py\n"
      ],
      "metadata": {
        "id": "aUL-6_m4by8Y"
      }
    },
    {
      "cell_type": "markdown",
      "source": [
        "touch __init__.py"
      ],
      "metadata": {
        "id": "9GpdE6y_vAAz"
      }
    },
    {
      "cell_type": "markdown",
      "source": [
        "# Step 3: setup.py\n"
      ],
      "metadata": {
        "id": "AlW2IbnrvBBv"
      }
    },
    {
      "cell_type": "code",
      "source": [
        "import setuptools\n",
        "\n",
        "setuptools.setup(\n",
        "    name = 'package_name',\n",
        "    version = '0.0.1',\n",
        "    author = 'medium_reader',\n",
        "    author_email = 'reader@medium.com',\n",
        "    description = 'Python package example',\n",
        "    packages = ['package_name'],\n",
        "    install_requires = ['pandas']\n",
        ")"
      ],
      "metadata": {
        "id": "d4RaegL8byFa"
      },
      "execution_count": 3,
      "outputs": []
    },
    {
      "cell_type": "markdown",
      "source": [
        "# Step 4: Install Package\n"
      ],
      "metadata": {
        "id": "_TC_FoC8vEr5"
      }
    },
    {
      "cell_type": "markdown",
      "source": [
        "git clone https://username@bitbucket.org/private_domain/package_name\n"
      ],
      "metadata": {
        "id": "TysP-dypvGQU"
      }
    },
    {
      "cell_type": "markdown",
      "source": [
        "pip install -e \"git clone https://username@bitbucket.org/private_domain/package_name#egg=package_name\""
      ],
      "metadata": {
        "id": "2S3bZBeBvHnS"
      }
    },
    {
      "cell_type": "markdown",
      "source": [
        "# Package Usage\n"
      ],
      "metadata": {
        "id": "AMNY7vjXvJO3"
      }
    },
    {
      "cell_type": "code",
      "source": [
        "import pandas as pd\n",
        "from package_name import remove_nulls\n",
        "\n",
        "transaction_ids = [101, 102, 103, 104, 105]\n",
        "item_ids = ['shirts', 'socks', 'jeans', 'socks', 'shirts']\n",
        "sale_amts = [25, 12, 32, None, 20]\n",
        "\n",
        "df = pd.DataFrame({'trans_id': transaction_ids,\n",
        "                   'item_id': item_ids,\n",
        "                   'sale_amt': sale_amts})\n",
        "                   \n",
        "df = remove_nulls(data = df)"
      ],
      "metadata": {
        "id": "E03MRKPwvJfT"
      },
      "execution_count": 4,
      "outputs": []
    }
  ]
}