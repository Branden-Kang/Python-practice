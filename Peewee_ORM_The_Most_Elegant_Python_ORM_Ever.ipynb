{
  "nbformat": 4,
  "nbformat_minor": 0,
  "metadata": {
    "colab": {
      "provenance": [],
      "authorship_tag": "ABX9TyOIiGzWG7TzRCcsQF9NWR8b"
    },
    "kernelspec": {
      "name": "python3",
      "display_name": "Python 3"
    },
    "language_info": {
      "name": "python"
    }
  },
  "cells": [
    {
      "cell_type": "markdown",
      "source": [
        "[Reference](https://leapcell.medium.com/peewee-orm-the-most-elegant-python-orm-ever-4bc0167714fe)"
      ],
      "metadata": {
        "id": "CRopnnfL2mBo"
      }
    },
    {
      "cell_type": "markdown",
      "source": [
        "# (1) Creating Records"
      ],
      "metadata": {
        "id": "fH_fekFA3lUC"
      }
    },
    {
      "cell_type": "code",
      "source": [
        "!pip install peewee"
      ],
      "metadata": {
        "colab": {
          "base_uri": "https://localhost:8080/"
        },
        "id": "62e8Chhk3Yyr",
        "outputId": "2d914825-f435-48a7-f0dd-a03dbd4bb5d4"
      },
      "execution_count": 1,
      "outputs": [
        {
          "output_type": "stream",
          "name": "stdout",
          "text": [
            "Requirement already satisfied: peewee in /usr/local/lib/python3.11/dist-packages (3.18.1)\n"
          ]
        }
      ]
    },
    {
      "cell_type": "code",
      "execution_count": 2,
      "metadata": {
        "id": "baimILSj14zU"
      },
      "outputs": [],
      "source": [
        "from peewee import *"
      ]
    },
    {
      "cell_type": "code",
      "source": [
        "# Using SQLite for demonstration; replace with actual database in Leapcell deployment\n",
        "db = SqliteDatabase('leapcell_users.db')\n",
        "class User(Model):\n",
        "    username = CharField()\n",
        "    email = CharField(unique=True)\n",
        "    plan_type = CharField()\n",
        "    class Meta:\n",
        "        database = db\n",
        "db.connect()\n",
        "db.create_tables([User])\n",
        "# Create a new user using Model.create()\n",
        "new_user = User.create(username='test_user', email='test@example.com', plan_type='basic')"
      ],
      "metadata": {
        "id": "Qfwac-dj3ZkY"
      },
      "execution_count": 3,
      "outputs": []
    },
    {
      "cell_type": "markdown",
      "source": [
        "# (2) Batch Insertion"
      ],
      "metadata": {
        "id": "kLU2RTwO3m3t"
      }
    },
    {
      "cell_type": "code",
      "source": [
        "user_data = [\n",
        "    {'username': 'user1', 'email': 'user1@example.com', 'plan_type': 'pro'},\n",
        "    {'username': 'user2', 'email': 'user2@example.com', 'plan_type': 'basic'},\n",
        "    {'username': 'user3', 'email': 'user3@example.com', 'plan_type': 'enterprise'}\n",
        "]"
      ],
      "metadata": {
        "id": "dJiNhUaP3c88"
      },
      "execution_count": 4,
      "outputs": []
    },
    {
      "cell_type": "code",
      "source": [
        "# Batch insert using insert_many()\n",
        "with db.atomic():\n",
        "    User.insert_many(user_data).execute()"
      ],
      "metadata": {
        "id": "sSeeYbHD3oxy"
      },
      "execution_count": 5,
      "outputs": []
    },
    {
      "cell_type": "markdown",
      "source": [
        "# (3) Updating Records"
      ],
      "metadata": {
        "id": "05aIWwgh3qeM"
      }
    },
    {
      "cell_type": "code",
      "source": [
        "# Update a single user\n",
        "user_to_update = User.get(User.username == 'test_user')\n",
        "user_to_update.plan_type = 'pro'\n",
        "user_to_update.save()"
      ],
      "metadata": {
        "colab": {
          "base_uri": "https://localhost:8080/"
        },
        "id": "z_KDeaQJ3pME",
        "outputId": "573de0e8-f5da-418b-9d01-1aab44ca21e1"
      },
      "execution_count": 6,
      "outputs": [
        {
          "output_type": "execute_result",
          "data": {
            "text/plain": [
              "1"
            ]
          },
          "metadata": {},
          "execution_count": 6
        }
      ]
    },
    {
      "cell_type": "code",
      "source": [
        "# Batch update: upgrade all basic users to pro\n",
        "query = User.update(plan_type='pro').where(User.plan_type == 'basic')\n",
        "query.execute()"
      ],
      "metadata": {
        "colab": {
          "base_uri": "https://localhost:8080/"
        },
        "id": "gWNxaAgr3r5H",
        "outputId": "e8d3ec7a-8196-4a0c-b899-0df027b83612"
      },
      "execution_count": 7,
      "outputs": [
        {
          "output_type": "execute_result",
          "data": {
            "text/plain": [
              "1"
            ]
          },
          "metadata": {},
          "execution_count": 7
        }
      ]
    },
    {
      "cell_type": "markdown",
      "source": [
        "# (4) Deleting Records"
      ],
      "metadata": {
        "id": "LZCmeIyu3utQ"
      }
    },
    {
      "cell_type": "code",
      "source": [
        "# Delete a single user\n",
        "user_to_delete = User.get(User.username == 'user1')\n",
        "user_to_delete.delete_instance()"
      ],
      "metadata": {
        "colab": {
          "base_uri": "https://localhost:8080/"
        },
        "id": "ghls2Y9x3thm",
        "outputId": "8c9a3491-6342-41ea-816b-6870fdb868d1"
      },
      "execution_count": 8,
      "outputs": [
        {
          "output_type": "execute_result",
          "data": {
            "text/plain": [
              "1"
            ]
          },
          "metadata": {},
          "execution_count": 8
        }
      ]
    },
    {
      "cell_type": "code",
      "source": [
        "# # Delete multiple users (e.g., inactive accounts)\n",
        "# query = User.delete().where(User.is_deleted == True)\n",
        "# query.execute()"
      ],
      "metadata": {
        "id": "AjTfnbJb3xCd"
      },
      "execution_count": 10,
      "outputs": []
    },
    {
      "cell_type": "markdown",
      "source": [
        "# (5) Querying Records"
      ],
      "metadata": {
        "id": "HLAOBuyU31Jn"
      }
    },
    {
      "cell_type": "code",
      "source": [
        "# Query by primary key\n",
        "user = User.get_by_id(1)\n",
        "print(user.username, user.email, user.plan_type)"
      ],
      "metadata": {
        "colab": {
          "base_uri": "https://localhost:8080/"
        },
        "id": "Vxm3Omo43y1O",
        "outputId": "46d55cf7-a525-40e2-dada-38e868944ae8"
      },
      "execution_count": 11,
      "outputs": [
        {
          "output_type": "stream",
          "name": "stdout",
          "text": [
            "test_user test@example.com pro\n"
          ]
        }
      ]
    },
    {
      "cell_type": "code",
      "source": [
        "# Query by other fields\n",
        "user = User.get(User.email == 'test@example.com')"
      ],
      "metadata": {
        "id": "Q6aiZHlg32cX"
      },
      "execution_count": 12,
      "outputs": []
    },
    {
      "cell_type": "code",
      "source": [
        "print(user)"
      ],
      "metadata": {
        "colab": {
          "base_uri": "https://localhost:8080/"
        },
        "id": "41wO3_ZK36sL",
        "outputId": "60d5e8ea-eef2-43b6-a81a-ade5ca1cad88"
      },
      "execution_count": 13,
      "outputs": [
        {
          "output_type": "stream",
          "name": "stdout",
          "text": [
            "1\n"
          ]
        }
      ]
    },
    {
      "cell_type": "code",
      "source": [
        "# Iterate over all users\n",
        "for user in User.select():\n",
        "    print(user.username, user.email)"
      ],
      "metadata": {
        "colab": {
          "base_uri": "https://localhost:8080/"
        },
        "id": "4daXhayw34oq",
        "outputId": "d6959e24-0602-4a4a-df65-58f75b8ea226"
      },
      "execution_count": 14,
      "outputs": [
        {
          "output_type": "stream",
          "name": "stdout",
          "text": [
            "test_user test@example.com\n",
            "user2 user2@example.com\n",
            "user3 user3@example.com\n"
          ]
        }
      ]
    },
    {
      "cell_type": "code",
      "source": [
        "# Slicing and indexing\n",
        "users_subset = User.select()[:5]\n",
        "for user in users_subset:\n",
        "    print(user.username)"
      ],
      "metadata": {
        "colab": {
          "base_uri": "https://localhost:8080/"
        },
        "id": "_3PoBPyB37hH",
        "outputId": "0aae8ca2-587c-484b-8d7e-0133c142f783"
      },
      "execution_count": 15,
      "outputs": [
        {
          "output_type": "stream",
          "name": "stdout",
          "text": [
            "test_user\n",
            "user2\n",
            "user3\n"
          ]
        }
      ]
    },
    {
      "cell_type": "code",
      "source": [
        "# Simple filter\n",
        "pro_users = User.select().where(User.plan_type == 'pro')"
      ],
      "metadata": {
        "id": "TyooHD4r39O3"
      },
      "execution_count": 16,
      "outputs": []
    },
    {
      "cell_type": "code",
      "source": [
        "# Ascending order by username\n",
        "sorted_users = User.select().order_by(User.username)"
      ],
      "metadata": {
        "id": "6ZuLsfP63_yX"
      },
      "execution_count": 18,
      "outputs": []
    },
    {
      "cell_type": "code",
      "source": [
        "# Paginate results (page 2, 10 records per page)\n",
        "paged_users = User.select().order_by(User.id).paginate(2, 10)\n",
        "for user in paged_users:\n",
        "    print(user.username)"
      ],
      "metadata": {
        "id": "YXLjP6Za4CgN"
      },
      "execution_count": 20,
      "outputs": []
    },
    {
      "cell_type": "code",
      "source": [
        "# Count total users\n",
        "user_count = User.select().count()\n",
        "print(f\"Total users: {user_count}\")\n",
        "# Count users by plan type\n",
        "pro_user_count = User.select().where(User.plan_type == 'pro').count()"
      ],
      "metadata": {
        "colab": {
          "base_uri": "https://localhost:8080/"
        },
        "id": "6aV9nW214EPP",
        "outputId": "062bc506-ccd8-4dd5-cc4f-06457a411c30"
      },
      "execution_count": 21,
      "outputs": [
        {
          "output_type": "stream",
          "name": "stdout",
          "text": [
            "Total users: 3\n"
          ]
        }
      ]
    },
    {
      "cell_type": "code",
      "source": [
        "from peewee import fn\n",
        "\n",
        "# Count users per plan type\n",
        "query = (User\n",
        "        .select(User.plan_type, fn.Count(User.id).alias('count'))\n",
        "        .group_by(User.plan_type))\n",
        "for result in query:\n",
        "    print(result.plan_type, result.count)\n",
        "# Retrieve a scalar value (e.g., max user ID)\n",
        "max_id = User.select(fn.Max(User.id)).scalar()"
      ],
      "metadata": {
        "colab": {
          "base_uri": "https://localhost:8080/"
        },
        "id": "VWgX2Q3N4Fjk",
        "outputId": "beb3b16c-d1ce-4769-9c79-ec5d6d59e97a"
      },
      "execution_count": 22,
      "outputs": [
        {
          "output_type": "stream",
          "name": "stdout",
          "text": [
            "enterprise 1\n",
            "pro 2\n"
          ]
        }
      ]
    }
  ]
}