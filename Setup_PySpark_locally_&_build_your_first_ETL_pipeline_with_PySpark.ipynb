{
  "nbformat": 4,
  "nbformat_minor": 0,
  "metadata": {
    "colab": {
      "provenance": [],
      "collapsed_sections": [],
      "authorship_tag": "ABX9TyMwPHiqA0GdoPTwcPZQH/2k"
    },
    "kernelspec": {
      "name": "python3",
      "display_name": "Python 3"
    },
    "language_info": {
      "name": "python"
    }
  },
  "cells": [
    {
      "cell_type": "markdown",
      "source": [
        "[Reference](https://blog.devgenius.io/setup-pyspark-locally-build-your-first-etl-pipeline-with-pyspark-91c3060c6133)"
      ],
      "metadata": {
        "id": "gghLClgby4ci"
      }
    },
    {
      "cell_type": "code",
      "execution_count": null,
      "metadata": {
        "id": "KkGo_Tyryy0Z"
      },
      "outputs": [],
      "source": [
        "!pip install pyspark"
      ]
    },
    {
      "cell_type": "code",
      "source": [
        "from pyspark import SparkContext, SparkConf\n",
        "from pyspark.sql import SparkSession, SQLContext\n",
        "import os"
      ],
      "metadata": {
        "id": "iuiMAd-hy7vR"
      },
      "execution_count": null,
      "outputs": []
    },
    {
      "cell_type": "code",
      "source": [
        "os.environ[\"JAVA_HOME\"] = \"C:\\Program Files\\Java\\jdk-18.0.2.1\""
      ],
      "metadata": {
        "id": "u0pBFxv3y9Bb"
      },
      "execution_count": null,
      "outputs": []
    },
    {
      "cell_type": "code",
      "source": [
        "conf = SparkConf() \\\n",
        "    .setAppName(\"Example\") \\\n",
        "    .setMaster(\"local\") \\\n",
        "    .set(\"spark.driver.extraClassPath\",\"C:/pyspark/*\")\n",
        "#\n",
        "sc = SparkContext.getOrCreate(conf=conf)\n",
        "spark = SparkSession(sc)"
      ],
      "metadata": {
        "id": "LtnuKWKNy-QE"
      },
      "execution_count": null,
      "outputs": []
    },
    {
      "cell_type": "code",
      "source": [
        "df=spark.read.options(delimiter=\",\", header=True).csv(r\"C:\\Users\\haq\\OneDrive\\Notebooks\\data\\AdvWorksData.csv\")\n",
        "df.show()"
      ],
      "metadata": {
        "id": "AkS92HTwy_Py"
      },
      "execution_count": null,
      "outputs": []
    },
    {
      "cell_type": "markdown",
      "source": [
        "# DataFrame Operations\n",
        "\n"
      ],
      "metadata": {
        "id": "fGza7RoczA52"
      }
    },
    {
      "cell_type": "code",
      "source": [
        "france = df.filter(df.saleterritory == \"France\").show(truncate=False)"
      ],
      "metadata": {
        "id": "fKXSQezKzCIR"
      },
      "execution_count": null,
      "outputs": []
    },
    {
      "cell_type": "code",
      "source": [
        "df1 = df[['productcategory','saleterritory','OrderDate','Sales']]\n",
        "df1.show()"
      ],
      "metadata": {
        "id": "QQuz0RSszDUn"
      },
      "execution_count": null,
      "outputs": []
    },
    {
      "cell_type": "code",
      "source": [
        "saleterritory = df.groupBy('saleterritory').count()\n",
        "print(saleterritory.show())"
      ],
      "metadata": {
        "id": "0CcpczsfzEqU"
      },
      "execution_count": null,
      "outputs": []
    },
    {
      "cell_type": "markdown",
      "source": [
        "# Spark-SQL"
      ],
      "metadata": {
        "id": "KSnMNTZczGDl"
      }
    },
    {
      "cell_type": "code",
      "source": [
        "df.createOrReplaceTempView(\"sales\")\n",
        "output =  spark.sql(\"SELECT * from sales where productsubcategory='Caps'\")\n",
        "output.show()"
      ],
      "metadata": {
        "id": "Q6tgDo6gzGsY"
      },
      "execution_count": null,
      "outputs": []
    },
    {
      "cell_type": "markdown",
      "source": [
        "# Write to Database\n",
        "\n"
      ],
      "metadata": {
        "id": "CQq3AxNvzItv"
      }
    },
    {
      "cell_type": "code",
      "source": [
        "dest_tbl = 'public.\"pyspark_sales_table\"'\n",
        "database = \"AdventureWorks\"\n",
        "password = \"password\"\n",
        "user = \"user\"\n",
        "#\n",
        "df.write.mode(\"overwrite\") \\\n",
        "    .format(\"jdbc\") \\\n",
        "    .option(\"url\", f\"jdbc:postgresql://localhost:5432/{database}\") \\\n",
        "    .option(\"dbtable\", dest_tbl) \\\n",
        "    .option(\"user\", user) \\\n",
        "    .option(\"password\", password) \\\n",
        "    .option(\"driver\",  \"org.postgresql.Driver\") \\\n",
        "    .save()"
      ],
      "metadata": {
        "id": "Xll8-6-mzKrf"
      },
      "execution_count": null,
      "outputs": []
    }
  ]
}