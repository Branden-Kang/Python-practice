{
  "nbformat": 4,
  "nbformat_minor": 0,
  "metadata": {
    "colab": {
      "name": "Data Structures in Python.ipynb",
      "provenance": [],
      "authorship_tag": "ABX9TyPvfX6HzoOxyk469TdPqoOF"
    },
    "kernelspec": {
      "name": "python3",
      "display_name": "Python 3"
    }
  },
  "cells": [
    {
      "cell_type": "markdown",
      "metadata": {
        "id": "51laM2J80zyA"
      },
      "source": [
        "[Reference](https://medium.com/python-in-plain-english/data-structures-tree-29c825760095)"
      ]
    },
    {
      "cell_type": "code",
      "metadata": {
        "colab": {
          "base_uri": "https://localhost:8080/"
        },
        "id": "bH6Dmihf0yl0",
        "outputId": "4ab3b144-075a-4513-be66-ac2d91ba8cf5"
      },
      "source": [
        "class Node:\n",
        "    def __init__(self, item):\n",
        "        self.item = item\n",
        "        self.left = None\n",
        "        self.right = None\n",
        "        \n",
        "def inorder(root):\n",
        "\n",
        "    if root:\n",
        "        # Traverse left\n",
        "        inorder(root.left)\n",
        "        # Traverse root\n",
        "        print(str(root.item) + \"->\", end='')\n",
        "        # Traverse right\n",
        "        inorder(root.right)\n",
        "    \n",
        "\n",
        "def postorder(root):\n",
        "\n",
        "    if root:\n",
        "        # Traverse left\n",
        "        postorder(root.left)\n",
        "        # Traverse right\n",
        "        postorder(root.right)\n",
        "        # Traverse root\n",
        "        print(str(root.item) + \"->\", end='')\n",
        "\n",
        "\n",
        "def preorder(root):\n",
        "\n",
        "    if root:\n",
        "        # Traverse root\n",
        "        print(str(root.item) + \"->\", end='')\n",
        "        # Traverse left\n",
        "        preorder(root.left)\n",
        "        # Traverse right\n",
        "        preorder(root.right)\n",
        "    \n",
        "\n",
        "\n",
        "root = Node(1)\n",
        "root.left = Node(2)\n",
        "root.right = Node(3)\n",
        "root.left.left = Node(4)\n",
        "root.left.right = Node(5)\n",
        "\n",
        "print(\"Inorder traversal \")\n",
        "\n",
        "inorder(root)\n",
        "\n",
        "print(\"\\nPreorder traversal \")\n",
        "preorder(root)\n",
        "\n",
        "print(\"\\nPostorder traversal \")\n",
        "postorder(root)"
      ],
      "execution_count": 1,
      "outputs": [
        {
          "output_type": "stream",
          "text": [
            "Inorder traversal \n",
            "4->2->5->1->3->\n",
            "Preorder traversal \n",
            "1->2->4->5->3->\n",
            "Postorder traversal \n",
            "4->5->2->3->1->"
          ],
          "name": "stdout"
        }
      ]
    }
  ]
}