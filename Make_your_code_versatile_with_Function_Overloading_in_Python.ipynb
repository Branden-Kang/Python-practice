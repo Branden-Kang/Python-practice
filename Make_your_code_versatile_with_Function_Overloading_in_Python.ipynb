{
  "nbformat": 4,
  "nbformat_minor": 0,
  "metadata": {
    "colab": {
      "provenance": [],
      "authorship_tag": "ABX9TyN6CdQX9CfsaI62DYOHDd+8"
    },
    "kernelspec": {
      "name": "python3",
      "display_name": "Python 3"
    },
    "language_info": {
      "name": "python"
    }
  },
  "cells": [
    {
      "cell_type": "markdown",
      "source": [
        "[Reference](https://medium.com/@23saini/make-your-code-versatile-with-function-overloading-in-python-acf7b45ae5e0)"
      ],
      "metadata": {
        "id": "n5S-a3TiH--7"
      }
    },
    {
      "cell_type": "markdown",
      "source": [
        "# Area of a Rectangle"
      ],
      "metadata": {
        "id": "AbWgeRsEIKu_"
      }
    },
    {
      "cell_type": "code",
      "execution_count": 1,
      "metadata": {
        "id": "8srJvBqaHL7q"
      },
      "outputs": [],
      "source": [
        "def calculate_area(length, width):\n",
        "    return length * width"
      ]
    },
    {
      "cell_type": "markdown",
      "source": [
        "# Area of a Circle"
      ],
      "metadata": {
        "id": "P06SLa-yIL9Q"
      }
    },
    {
      "cell_type": "code",
      "source": [
        "def calculate_area(radius):\n",
        "    return 3.14 * radius * radius"
      ],
      "metadata": {
        "id": "A1nr-YNBIJm6"
      },
      "execution_count": 2,
      "outputs": []
    },
    {
      "cell_type": "markdown",
      "source": [
        "# Using Function Overloading"
      ],
      "metadata": {
        "id": "TLT-94x8INQC"
      }
    },
    {
      "cell_type": "code",
      "source": [
        "# Calculate the area of a rectangle\n",
        "rectangle_area = calculate_area(5, 3)\n",
        "print(\"Area of the rectangle:\", rectangle_area)\n",
        "# Calculate the area of a circle\n",
        "circle_area = calculate_area(4)\n",
        "print(\"Area of the circle:\", circle_area)"
      ],
      "metadata": {
        "colab": {
          "base_uri": "https://localhost:8080/",
          "height": 242
        },
        "id": "hsUtm4EoIMWC",
        "outputId": "0186b9ec-4dd3-4dbb-9c22-872ea166ef6a"
      },
      "execution_count": 3,
      "outputs": [
        {
          "output_type": "error",
          "ename": "TypeError",
          "evalue": "ignored",
          "traceback": [
            "\u001b[0;31m---------------------------------------------------------------------------\u001b[0m",
            "\u001b[0;31mTypeError\u001b[0m                                 Traceback (most recent call last)",
            "\u001b[0;32m<ipython-input-3-37c8d54d3598>\u001b[0m in \u001b[0;36m<cell line: 2>\u001b[0;34m()\u001b[0m\n\u001b[1;32m      1\u001b[0m \u001b[0;31m# Calculate the area of a rectangle\u001b[0m\u001b[0;34m\u001b[0m\u001b[0;34m\u001b[0m\u001b[0m\n\u001b[0;32m----> 2\u001b[0;31m \u001b[0mrectangle_area\u001b[0m \u001b[0;34m=\u001b[0m \u001b[0mcalculate_area\u001b[0m\u001b[0;34m(\u001b[0m\u001b[0;36m5\u001b[0m\u001b[0;34m,\u001b[0m \u001b[0;36m3\u001b[0m\u001b[0;34m)\u001b[0m\u001b[0;34m\u001b[0m\u001b[0;34m\u001b[0m\u001b[0m\n\u001b[0m\u001b[1;32m      3\u001b[0m \u001b[0mprint\u001b[0m\u001b[0;34m(\u001b[0m\u001b[0;34m\"Area of the rectangle:\"\u001b[0m\u001b[0;34m,\u001b[0m \u001b[0mrectangle_area\u001b[0m\u001b[0;34m)\u001b[0m\u001b[0;34m\u001b[0m\u001b[0;34m\u001b[0m\u001b[0m\n\u001b[1;32m      4\u001b[0m \u001b[0;31m# Calculate the area of a circle\u001b[0m\u001b[0;34m\u001b[0m\u001b[0;34m\u001b[0m\u001b[0m\n\u001b[1;32m      5\u001b[0m \u001b[0mcircle_area\u001b[0m \u001b[0;34m=\u001b[0m \u001b[0mcalculate_area\u001b[0m\u001b[0;34m(\u001b[0m\u001b[0;36m4\u001b[0m\u001b[0;34m)\u001b[0m\u001b[0;34m\u001b[0m\u001b[0;34m\u001b[0m\u001b[0m\n",
            "\u001b[0;31mTypeError\u001b[0m: calculate_area() takes 1 positional argument but 2 were given"
          ]
        }
      ]
    },
    {
      "cell_type": "code",
      "source": [
        "def calculate_area(shape, length=0, width=0, radius=0):\n",
        "    if shape == \"rectangle\":\n",
        "        return length * width\n",
        "    elif shape == \"circle\":\n",
        "        return 3.14 * radius * radius\n",
        "    else:\n",
        "        return \"Invalid shape!\""
      ],
      "metadata": {
        "id": "gnF2FNl6IOZq"
      },
      "execution_count": 4,
      "outputs": []
    }
  ]
}