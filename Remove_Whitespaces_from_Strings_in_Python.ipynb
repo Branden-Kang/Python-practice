{
  "nbformat": 4,
  "nbformat_minor": 0,
  "metadata": {
    "colab": {
      "name": "Remove Whitespaces from Strings in Python.ipynb",
      "provenance": [],
      "authorship_tag": "ABX9TyPxrtcEkYvA/KgFE2KBe0dZ"
    },
    "kernelspec": {
      "name": "python3",
      "display_name": "Python 3"
    }
  },
  "cells": [
    {
      "cell_type": "markdown",
      "metadata": {
        "id": "6y-dUUEDH7Wz",
        "colab_type": "text"
      },
      "source": [
        "[Reference](https://levelup.gitconnected.com/remove-whitespaces-from-strings-in-python-c5ee612ee9dc)"
      ]
    },
    {
      "cell_type": "code",
      "metadata": {
        "id": "Tc87BRV5H2jY",
        "colab_type": "code",
        "colab": {
          "base_uri": "https://localhost:8080/",
          "height": 34
        },
        "outputId": "9f0bad73-5ef9-4cd7-c59b-cae5376b37db"
      },
      "source": [
        "s=\"   Hello   Python  \"\n",
        "print (s.lstrip())"
      ],
      "execution_count": 1,
      "outputs": [
        {
          "output_type": "stream",
          "text": [
            "Hello   Python  \n"
          ],
          "name": "stdout"
        }
      ]
    },
    {
      "cell_type": "code",
      "metadata": {
        "id": "Vap3GSOZH7BQ",
        "colab_type": "code",
        "colab": {
          "base_uri": "https://localhost:8080/",
          "height": 34
        },
        "outputId": "2dfc378d-6404-4ac3-f721-f344aa46297c"
      },
      "source": [
        "s=\"   Hello   Python  \"\n",
        "import re\n",
        "pattern= r\"^\\s+\"\n",
        "s1=re.sub(pattern,\"\",s)\n",
        "print (s1)"
      ],
      "execution_count": 2,
      "outputs": [
        {
          "output_type": "stream",
          "text": [
            "Hello   Python  \n"
          ],
          "name": "stdout"
        }
      ]
    },
    {
      "cell_type": "code",
      "metadata": {
        "id": "R6HID-leILf-",
        "colab_type": "code",
        "colab": {
          "base_uri": "https://localhost:8080/",
          "height": 34
        },
        "outputId": "fcc37522-7759-483e-d083-caca3bfe026e"
      },
      "source": [
        "s=\"   Hello   Python  \"\n",
        "print (s.rstrip())"
      ],
      "execution_count": 3,
      "outputs": [
        {
          "output_type": "stream",
          "text": [
            "   Hello   Python\n"
          ],
          "name": "stdout"
        }
      ]
    },
    {
      "cell_type": "code",
      "metadata": {
        "id": "_s475uWSIN1b",
        "colab_type": "code",
        "colab": {
          "base_uri": "https://localhost:8080/",
          "height": 34
        },
        "outputId": "31f5c365-5d16-4595-aef4-dfb89a84171f"
      },
      "source": [
        "s=\"   Hello   Python  \"\n",
        "import re\n",
        "pattern= r\"\\s+$\"\n",
        "s1=re.sub(pattern,\"\",s)\n",
        "print (s1)"
      ],
      "execution_count": 4,
      "outputs": [
        {
          "output_type": "stream",
          "text": [
            "   Hello   Python\n"
          ],
          "name": "stdout"
        }
      ]
    },
    {
      "cell_type": "code",
      "metadata": {
        "id": "v84bEWqVIgwS",
        "colab_type": "code",
        "colab": {
          "base_uri": "https://localhost:8080/",
          "height": 34
        },
        "outputId": "ae532eca-10ad-437b-f786-174206cec7ee"
      },
      "source": [
        "s=\"   Hello   Python  \"\n",
        "print(s.strip())"
      ],
      "execution_count": 5,
      "outputs": [
        {
          "output_type": "stream",
          "text": [
            "Hello   Python\n"
          ],
          "name": "stdout"
        }
      ]
    },
    {
      "cell_type": "code",
      "metadata": {
        "id": "aaGzcJQYIix5",
        "colab_type": "code",
        "colab": {
          "base_uri": "https://localhost:8080/",
          "height": 34
        },
        "outputId": "2522b4bd-91e3-4476-da80-32fe9c78d7dc"
      },
      "source": [
        "s=\"   Hello   Python  \"\n",
        "import re\n",
        "pattern=\"^\\s+|\\s+$\"\n",
        "s1 = re.sub(pattern, \"\",s)\n",
        "print(s1)"
      ],
      "execution_count": 6,
      "outputs": [
        {
          "output_type": "stream",
          "text": [
            "Hello   Python\n"
          ],
          "name": "stdout"
        }
      ]
    },
    {
      "cell_type": "code",
      "metadata": {
        "id": "Oz8psd-PIkt6",
        "colab_type": "code",
        "colab": {
          "base_uri": "https://localhost:8080/",
          "height": 34
        },
        "outputId": "3138caea-4f33-4088-8584-d9771e5f16fd"
      },
      "source": [
        "print (s.replace(\" \",\"\"))"
      ],
      "execution_count": 7,
      "outputs": [
        {
          "output_type": "stream",
          "text": [
            "HelloPython\n"
          ],
          "name": "stdout"
        }
      ]
    },
    {
      "cell_type": "code",
      "metadata": {
        "id": "4B4uDXVQIqCg",
        "colab_type": "code",
        "colab": {
          "base_uri": "https://localhost:8080/",
          "height": 34
        },
        "outputId": "53575741-a3db-414d-ec06-e24802ebcbfd"
      },
      "source": [
        "s=\"   Hello   Python   \"\n",
        "import re\n",
        "pattern=r\"\\s+\"\n",
        "s1 = re.sub(pattern, \"\", s)\n",
        "print (s1)"
      ],
      "execution_count": 8,
      "outputs": [
        {
          "output_type": "stream",
          "text": [
            "HelloPython\n"
          ],
          "name": "stdout"
        }
      ]
    },
    {
      "cell_type": "code",
      "metadata": {
        "id": "tLT7wI9wItdU",
        "colab_type": "code",
        "colab": {
          "base_uri": "https://localhost:8080/",
          "height": 51
        },
        "outputId": "eda5f024-c6dd-4edc-8d30-6c1bd344f20b"
      },
      "source": [
        "s=\"   Hello   Python   \"\n",
        "print (s.split())\n",
        "#joining the elements in the string using empty string.\n",
        "s1=\"\".join(s.split())\n",
        "print (s1)"
      ],
      "execution_count": 9,
      "outputs": [
        {
          "output_type": "stream",
          "text": [
            "['Hello', 'Python']\n",
            "HelloPython\n"
          ],
          "name": "stdout"
        }
      ]
    },
    {
      "cell_type": "code",
      "metadata": {
        "id": "P5SRHm2rIxn6",
        "colab_type": "code",
        "colab": {
          "base_uri": "https://localhost:8080/",
          "height": 51
        },
        "outputId": "d3c7d380-2d55-4318-9d27-c04d6c35cb40"
      },
      "source": [
        "s=\"Hello      Python\"\n",
        "print (s.split())\n",
        "#joining the elements in the string using single whitespace string.\n",
        "s1=\" \".join(s.split())\n",
        "print (s1)"
      ],
      "execution_count": 10,
      "outputs": [
        {
          "output_type": "stream",
          "text": [
            "['Hello', 'Python']\n",
            "Hello Python\n"
          ],
          "name": "stdout"
        }
      ]
    }
  ]
}