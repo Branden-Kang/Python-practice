{
  "nbformat": 4,
  "nbformat_minor": 0,
  "metadata": {
    "colab": {
      "name": "Simulate Real-life Events in Python Using SimPy.ipynb",
      "provenance": [],
      "authorship_tag": "ABX9TyMidpdSWiOSqXmYxvq9vHps"
    },
    "kernelspec": {
      "name": "python3",
      "display_name": "Python 3"
    },
    "language_info": {
      "name": "python"
    }
  },
  "cells": [
    {
      "cell_type": "markdown",
      "metadata": {
        "id": "A2Yo6zlFMmrs"
      },
      "source": [
        "[Reference](https://towardsdatascience.com/simulate-real-life-events-in-python-using-simpy-e6d9152a102f)"
      ]
    },
    {
      "cell_type": "code",
      "metadata": {
        "colab": {
          "base_uri": "https://localhost:8080/"
        },
        "id": "zOfkSsfMJ4Q_",
        "outputId": "8d564d1e-6ae1-4967-d37f-6abea8a853b9"
      },
      "source": [
        "pip install simpy"
      ],
      "execution_count": 1,
      "outputs": [
        {
          "output_type": "stream",
          "text": [
            "Collecting simpy\n",
            "  Downloading https://files.pythonhosted.org/packages/20/f9/874b0bab83406827db93292a5bbe5acb5c18e3cea665b2f6e053292cb687/simpy-4.0.1-py2.py3-none-any.whl\n",
            "Installing collected packages: simpy\n",
            "Successfully installed simpy-4.0.1\n"
          ],
          "name": "stdout"
        }
      ]
    },
    {
      "cell_type": "code",
      "metadata": {
        "colab": {
          "base_uri": "https://localhost:8080/"
        },
        "id": "R2A5MVQgMtuL",
        "outputId": "884f8b2c-7a2e-461c-c128-450fbda76370"
      },
      "source": [
        "import simpy \n",
        "\n",
        "def waiter(env):\n",
        "    while True: # Simulate until the time limit\n",
        "        print(f\"Start taking orders from customers at {env.now}\")\n",
        "        take_order_duration = 5\n",
        "        yield env.timeout(take_order_duration) # models duration\n",
        "\n",
        "        print(f'Start giving the orders to the cooks at {env.now}')\n",
        "        give_order_duration = 2\n",
        "        yield env.timeout(give_order_duration)\n",
        "\n",
        "        print(f'Start serving customers food at {env.now}\\n')\n",
        "        serve_order_duration = 5\n",
        "        yield env.timeout(serve_order_duration)\n",
        "\n",
        "env = simpy.Environment() # the environment where the waiter lives\n",
        "env.process(waiter(env)) # pass the waiter to the environment\n",
        "env.run(until=30) # Run simulation until 30s"
      ],
      "execution_count": 2,
      "outputs": [
        {
          "output_type": "stream",
          "text": [
            "Start taking orders from customers at 0\n",
            "Start giving the orders to the cooks at 5\n",
            "Start serving customers food at 7\n",
            "\n",
            "Start taking orders from customers at 12\n",
            "Start giving the orders to the cooks at 17\n",
            "Start serving customers food at 19\n",
            "\n",
            "Start taking orders from customers at 24\n",
            "Start giving the orders to the cooks at 29\n"
          ],
          "name": "stdout"
        }
      ]
    },
    {
      "cell_type": "code",
      "metadata": {
        "id": "NWZ_0CUjM3ns"
      },
      "source": [
        "import simpy \n",
        "from random import random, seed\n",
        "\n",
        "\n",
        "def customer(env, name, restaurant, **duration):\n",
        "    while True:\n",
        "        yield env.timeout(random()*10) # There is a new customer between 0 and 10 minutes\n",
        "        print(f\"{name} enters the restaurant and for the waiter to come at {round(env.now, 2)}\")\n",
        "        with restaurant.request() as req:\n",
        "            yield req \n",
        "\n",
        "            print(f\"Sits are available. {name} get sitted at {round(env.now, 2)}\")\n",
        "            yield env.timeout(duration['get_sitted'])\n",
        "\n",
        "            print(f\"{name} starts looking at the menu at {round(env.now, 2)}\")\n",
        "            yield env.timeout(duration['choose_food'])\n",
        "\n",
        "            print(f'Waiters start getting the order from {name} at {round(env.now, 2)}')\n",
        "            yield env.timeout(duration['give_order'])\n",
        "\n",
        "            print(f'{name} starts waiting for food at {round(env.now, 2)}')\n",
        "            yield env.timeout(duration['wait_for_food'])\n",
        "\n",
        "            print(f'{name} starts eating at {round(env.now, 2)}')\n",
        "            yield env.timeout(duration['eat'])\n",
        "\n",
        "            print(f'{name} starts paying at {round(env.now, 2)}')\n",
        "            yield env.timeout(duration['pay'])\n",
        "\n",
        "            print(f'{name} leaves at {round(env.now, 2)}')\n",
        "\n",
        "\n",
        "seed(1)\n",
        "env = simpy.Environment()\n",
        "\n",
        "# Model restaurant that can only allow 2 customers at once\n",
        "restaurant = simpy.Resource(env, capacity=2)"
      ],
      "execution_count": 4,
      "outputs": []
    },
    {
      "cell_type": "code",
      "metadata": {
        "colab": {
          "base_uri": "https://localhost:8080/"
        },
        "id": "01jzvxOlNAd4",
        "outputId": "8b35063a-1062-4469-e3fa-8b064176d94b"
      },
      "source": [
        "durations = {'get_sitted': 1, 'choose_food': 10, 'give_order': 5, 'wait_for_food': 20, 'eat': 45, 'pay': 10}\n",
        "\n",
        "for i in range(5):\n",
        "    env.process(customer(env, f'Customer {i}', restaurant, **durations))\n",
        "\n",
        "env.run(until=95)"
      ],
      "execution_count": 5,
      "outputs": [
        {
          "output_type": "stream",
          "text": [
            "Customer 0 enters the restaurant and for the waiter to come at 1.34\n",
            "Sits are available. Customer 0 get sitted at 1.34\n",
            "Customer 0 starts looking at the menu at 2.34\n",
            "Customer 3 enters the restaurant and for the waiter to come at 2.55\n",
            "Sits are available. Customer 3 get sitted at 2.55\n",
            "Customer 3 starts looking at the menu at 3.55\n",
            "Customer 4 enters the restaurant and for the waiter to come at 4.95\n",
            "Customer 2 enters the restaurant and for the waiter to come at 7.64\n",
            "Customer 1 enters the restaurant and for the waiter to come at 8.47\n",
            "Waiters start getting the order from Customer 0 at 12.34\n",
            "Waiters start getting the order from Customer 3 at 13.55\n",
            "Customer 0 starts waiting for food at 17.34\n",
            "Customer 3 starts waiting for food at 18.55\n",
            "Customer 0 starts eating at 37.34\n",
            "Customer 3 starts eating at 38.55\n",
            "Customer 0 starts paying at 82.34\n",
            "Customer 3 starts paying at 83.55\n",
            "Customer 0 leaves at 92.34\n",
            "Sits are available. Customer 4 get sitted at 92.34\n",
            "Customer 4 starts looking at the menu at 93.34\n",
            "Customer 3 leaves at 93.55\n",
            "Sits are available. Customer 2 get sitted at 93.55\n",
            "Customer 2 starts looking at the menu at 94.55\n"
          ],
          "name": "stdout"
        }
      ]
    },
    {
      "cell_type": "code",
      "metadata": {
        "id": "KMIfjaVKNDIh"
      },
      "source": [
        "from collections import namedtuple\n",
        "\n",
        "NUM_ITEMS = 10 # Number of items per food option\n",
        "\n",
        "staff = simpy.Resource(env, capacity=1)\n",
        "foods = ['Spicy Chicken', 'Poached Chicken', 'Tomato Chicken Skillet', \n",
        "         'Honey Mustard Chicken']\n",
        "available = {food: NUM_ITEMS for food in foods} \n",
        "run_out = {food: env.event() for food in foods}\n",
        "when_run_out = {food: None for food in foods}\n",
        "rejected_customers = {food: 0 for food in foods}\n",
        "\n",
        "Restaurant = namedtuple('Restaurant', 'staff, foods, available,'\n",
        "                        'run_out, when_run_out, rejected_customers')\n",
        "restaurant = Restaurant(staff, foods, available, run_out,\n",
        "                        when_run_out, rejected_customers)"
      ],
      "execution_count": 6,
      "outputs": []
    },
    {
      "cell_type": "code",
      "metadata": {
        "id": "pfoiDEVKNJLX"
      },
      "source": [
        "def customer(env, food, num_food_order, restaurant):\n",
        "    \"\"\"Customer tries to order a certain number of a particular food, \n",
        "    if that food ran out, customer leaves. If there is enough food left,\n",
        "    customer orders food.\"\"\"\n",
        "\n",
        "    with restaurant.staff.request() as customer:\n",
        "\n",
        "        # If there is not enough food left, customer leaves\n",
        "        if restaurant.available[food] < num_food_order:\n",
        "            restaurant.rejected_customers[food] +=1\n",
        "            return\n",
        "\n",
        "        # If there is enough food left, customer orders food\n",
        "        restaurant.available[food] -= num_food_order\n",
        "        # The time it takes to prepare food\n",
        "        yield env.timeout(10*num_food_order)\n",
        "\n",
        "        # If there is no food left after customer orders, trigger run out event\n",
        "        if restaurant.available[food] == 0:\n",
        "            restaurant.run_out[food].succeed()\n",
        "            restaurant.when_run_out[food] = env.now\n",
        "\n",
        "        yield env.timeout(2)"
      ],
      "execution_count": 7,
      "outputs": []
    },
    {
      "cell_type": "code",
      "metadata": {
        "id": "lzpLhfngNLRf"
      },
      "source": [
        "import random\n",
        "\n",
        "def customer_arrivals(env, restaurant):\n",
        "    \"\"\"Create new customers until the simulation reaches the time limit\"\"\"\n",
        "    while True:\n",
        "        yield env.timeout(random.random()*10)\n",
        "\n",
        "        # Choose a random food choice from the menu\n",
        "        food = random.choice(restaurant.foods)\n",
        "        \n",
        "        # Number of a food choice the customer orders\n",
        "        num_food_order = random.randint(1,6)\n",
        "\n",
        "        if restaurant.available[food]:\n",
        "            env.process(customer(env, food, num_food_order, restaurant))"
      ],
      "execution_count": 8,
      "outputs": []
    },
    {
      "cell_type": "code",
      "metadata": {
        "colab": {
          "base_uri": "https://localhost:8080/"
        },
        "id": "BwW7fYB8NNLO",
        "outputId": "8064508b-4dcd-46d5-c43f-c8251861f998"
      },
      "source": [
        "import random \n",
        "\n",
        "RANDOM_SEED = 20\n",
        "SIM_TIME  = 240\n",
        "\n",
        "random.seed(RANDOM_SEED)\n",
        "env = simpy.Environment()\n",
        "\n",
        "# Start process and run\n",
        "env.process(customer_arrivals(env, restaurant))\n",
        "env.run(until=SIM_TIME)\n",
        "\n",
        "for food in foods:\n",
        "    if restaurant.run_out[food]:\n",
        "        print(f'The {food} ran out {round(restaurant.when_run_out[food], 2)} '\n",
        "            'minutes after the restaurant opens.')\n",
        "            \n",
        "        print(f'Number of people leaving queue when the {food} ran out is ' \n",
        "        f'{restaurant.rejected_customers[food]}.\\n')"
      ],
      "execution_count": 9,
      "outputs": [
        {
          "output_type": "stream",
          "text": [
            "The Spicy Chicken ran out 147.97 minutes after the restaurant opens.\n",
            "Number of people leaving queue when the Spicy Chicken ran out is 8.\n",
            "\n",
            "The Poached Chicken ran out 162.39 minutes after the restaurant opens.\n",
            "Number of people leaving queue when the Poached Chicken ran out is 4.\n",
            "\n",
            "The Tomato Chicken Skillet ran out 187.1 minutes after the restaurant opens.\n",
            "Number of people leaving queue when the Tomato Chicken Skillet ran out is 2.\n",
            "\n",
            "The Honey Mustard Chicken ran out 203.78 minutes after the restaurant opens.\n",
            "Number of people leaving queue when the Honey Mustard Chicken ran out is 8.\n",
            "\n"
          ],
          "name": "stdout"
        }
      ]
    }
  ]
}