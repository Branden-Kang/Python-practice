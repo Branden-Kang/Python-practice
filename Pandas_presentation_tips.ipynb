{
  "nbformat": 4,
  "nbformat_minor": 0,
  "metadata": {
    "colab": {
      "name": "Pandas presentation tips.ipynb",
      "provenance": [],
      "authorship_tag": "ABX9TyO0Wyo/3rE60X/3ebsWetYu"
    },
    "kernelspec": {
      "name": "python3",
      "display_name": "Python 3"
    }
  },
  "cells": [
    {
      "cell_type": "markdown",
      "metadata": {
        "id": "TWFOHFh1jklR"
      },
      "source": [
        "[Reference](https://towardsdatascience.com/pandas-presentation-tips-i-wish-i-knew-earlier-8e767365d190)"
      ]
    },
    {
      "cell_type": "code",
      "metadata": {
        "id": "oYBtZsunjtjr"
      },
      "source": [
        "import pandas as pd\n",
        "import numpy as np\n",
        "import random"
      ],
      "execution_count": 6,
      "outputs": []
    },
    {
      "cell_type": "code",
      "metadata": {
        "id": "Ag0IfUgxjM0g"
      },
      "source": [
        "n = 10\n",
        "df = pd.DataFrame(\n",
        "    {\n",
        "        \"col1\": np.random.random_sample(n),\n",
        "        \"col2\": np.random.random_sample(n),\n",
        "        \"col3\": [[random.randint(0, 10) for _ in range(random.randint(3, 5))] for _ in range(n)],\n",
        "    }\n",
        ")"
      ],
      "execution_count": 7,
      "outputs": []
    },
    {
      "cell_type": "code",
      "metadata": {
        "id": "yeAhU7Isjp-k"
      },
      "source": [
        "df_html = df.to_html()\n",
        "with open('analysis.html', 'w') as f:\n",
        "    f.write(df_html)"
      ],
      "execution_count": 8,
      "outputs": []
    },
    {
      "cell_type": "code",
      "metadata": {
        "id": "SJrU9lDKj_Vy",
        "outputId": "407d4908-e2e8-4245-dd86-e7725324e16d",
        "colab": {
          "base_uri": "https://localhost:8080/",
          "height": 204
        }
      },
      "source": [
        "df_list = pd.read_html('analysis.html')\n",
        "df_list"
      ],
      "execution_count": 9,
      "outputs": [
        {
          "output_type": "execute_result",
          "data": {
            "text/plain": [
              "[   Unnamed: 0      col1      col2              col3\n",
              " 0           0  0.255838  0.444212      [6, 0, 8, 6]\n",
              " 1           1  0.283916  0.116647         [3, 7, 5]\n",
              " 2           2  0.969698  0.501832         [6, 2, 1]\n",
              " 3           3  0.038019  0.683933   [8, 3, 8, 1, 8]\n",
              " 4           4  0.879127  0.525478        [5, 10, 3]\n",
              " 5           5  0.340149  0.569880      [6, 5, 9, 2]\n",
              " 6           6  0.098846  0.589882  [4, 5, 6, 6, 10]\n",
              " 7           7  0.662567  0.749227         [1, 2, 0]\n",
              " 8           8  0.524592  0.357755       [10, 10, 0]\n",
              " 9           9  0.149940  0.194855   [7, 3, 9, 0, 8]]"
            ]
          },
          "metadata": {
            "tags": []
          },
          "execution_count": 9
        }
      ]
    },
    {
      "cell_type": "markdown",
      "metadata": {
        "id": "XeAakSZ1kQDw"
      },
      "source": [
        "# Writing Scientific papers using LaTex"
      ]
    },
    {
      "cell_type": "code",
      "metadata": {
        "id": "mJE7wkEEkA6F",
        "outputId": "f6fd55f0-4870-4ea3-ac32-f67c260d094d",
        "colab": {
          "base_uri": "https://localhost:8080/",
          "height": 173
        }
      },
      "source": [
        "df.to_latex()"
      ],
      "execution_count": 10,
      "outputs": [
        {
          "output_type": "execute_result",
          "data": {
            "application/vnd.google.colaboratory.intrinsic+json": {
              "type": "string"
            },
            "text/plain": [
              "'\\\\begin{tabular}{lrrl}\\n\\\\toprule\\n{} &      col1 &      col2 &              col3 \\\\\\\\\\n\\\\midrule\\n0 &  0.255838 &  0.444212 &      [6, 0, 8, 6] \\\\\\\\\\n1 &  0.283916 &  0.116647 &         [3, 7, 5] \\\\\\\\\\n2 &  0.969698 &  0.501832 &         [6, 2, 1] \\\\\\\\\\n3 &  0.038019 &  0.683933 &   [8, 3, 8, 1, 8] \\\\\\\\\\n4 &  0.879127 &  0.525478 &        [5, 10, 3] \\\\\\\\\\n5 &  0.340149 &  0.569880 &      [6, 5, 9, 2] \\\\\\\\\\n6 &  0.098846 &  0.589882 &  [4, 5, 6, 6, 10] \\\\\\\\\\n7 &  0.662567 &  0.749227 &         [1, 2, 0] \\\\\\\\\\n8 &  0.524592 &  0.357755 &       [10, 10, 0] \\\\\\\\\\n9 &  0.149940 &  0.194855 &   [7, 3, 9, 0, 8] \\\\\\\\\\n\\\\bottomrule\\n\\\\end{tabular}\\n'"
            ]
          },
          "metadata": {
            "tags": []
          },
          "execution_count": 10
        }
      ]
    },
    {
      "cell_type": "code",
      "metadata": {
        "id": "pveWwrB6kcAR",
        "outputId": "b4f69317-26d3-4238-f58d-59bb13e9b8ad",
        "colab": {
          "base_uri": "https://localhost:8080/",
          "height": 306
        }
      },
      "source": [
        "print(df.to_latex())"
      ],
      "execution_count": 11,
      "outputs": [
        {
          "output_type": "stream",
          "text": [
            "\\begin{tabular}{lrrl}\n",
            "\\toprule\n",
            "{} &      col1 &      col2 &              col3 \\\\\n",
            "\\midrule\n",
            "0 &  0.255838 &  0.444212 &      [6, 0, 8, 6] \\\\\n",
            "1 &  0.283916 &  0.116647 &         [3, 7, 5] \\\\\n",
            "2 &  0.969698 &  0.501832 &         [6, 2, 1] \\\\\n",
            "3 &  0.038019 &  0.683933 &   [8, 3, 8, 1, 8] \\\\\n",
            "4 &  0.879127 &  0.525478 &        [5, 10, 3] \\\\\n",
            "5 &  0.340149 &  0.569880 &      [6, 5, 9, 2] \\\\\n",
            "6 &  0.098846 &  0.589882 &  [4, 5, 6, 6, 10] \\\\\n",
            "7 &  0.662567 &  0.749227 &         [1, 2, 0] \\\\\n",
            "8 &  0.524592 &  0.357755 &       [10, 10, 0] \\\\\n",
            "9 &  0.149940 &  0.194855 &   [7, 3, 9, 0, 8] \\\\\n",
            "\\bottomrule\n",
            "\\end{tabular}\n",
            "\n"
          ],
          "name": "stdout"
        }
      ]
    },
    {
      "cell_type": "markdown",
      "metadata": {
        "id": "SivSTCLdkhlv"
      },
      "source": [
        "# Writing on GitHub"
      ]
    },
    {
      "cell_type": "code",
      "metadata": {
        "id": "wUhLeOmxkeJX",
        "outputId": "d50b6334-8afa-4602-d274-08f4b9435e30",
        "colab": {
          "base_uri": "https://localhost:8080/",
          "height": 221
        }
      },
      "source": [
        "print(df.to_markdown())"
      ],
      "execution_count": 12,
      "outputs": [
        {
          "output_type": "stream",
          "text": [
            "|    |      col1 |     col2 | col3             |\n",
            "|---:|----------:|---------:|:-----------------|\n",
            "|  0 | 0.255838  | 0.444212 | [6, 0, 8, 6]     |\n",
            "|  1 | 0.283916  | 0.116647 | [3, 7, 5]        |\n",
            "|  2 | 0.969698  | 0.501832 | [6, 2, 1]        |\n",
            "|  3 | 0.0380191 | 0.683933 | [8, 3, 8, 1, 8]  |\n",
            "|  4 | 0.879127  | 0.525478 | [5, 10, 3]       |\n",
            "|  5 | 0.340149  | 0.56988  | [6, 5, 9, 2]     |\n",
            "|  6 | 0.098846  | 0.589882 | [4, 5, 6, 6, 10] |\n",
            "|  7 | 0.662567  | 0.749227 | [1, 2, 0]        |\n",
            "|  8 | 0.524592  | 0.357755 | [10, 10, 0]      |\n",
            "|  9 | 0.14994   | 0.194855 | [7, 3, 9, 0, 8]  |\n"
          ],
          "name": "stdout"
        }
      ]
    },
    {
      "cell_type": "markdown",
      "metadata": {
        "id": "te_3T6wokpup"
      },
      "source": [
        "# Using Excel"
      ]
    },
    {
      "cell_type": "code",
      "metadata": {
        "id": "QHQ5p98pki-p"
      },
      "source": [
        "df.to_excel('analysis.xlsx', index=False)"
      ],
      "execution_count": 13,
      "outputs": []
    },
    {
      "cell_type": "code",
      "metadata": {
        "id": "-SMjA7TFknE5",
        "outputId": "ad766863-a1f5-4290-802d-34a47551ff10",
        "colab": {
          "base_uri": "https://localhost:8080/",
          "height": 359
        }
      },
      "source": [
        "pd.read_excel('analysis.xlsx')"
      ],
      "execution_count": 14,
      "outputs": [
        {
          "output_type": "execute_result",
          "data": {
            "text/html": [
              "<div>\n",
              "<style scoped>\n",
              "    .dataframe tbody tr th:only-of-type {\n",
              "        vertical-align: middle;\n",
              "    }\n",
              "\n",
              "    .dataframe tbody tr th {\n",
              "        vertical-align: top;\n",
              "    }\n",
              "\n",
              "    .dataframe thead th {\n",
              "        text-align: right;\n",
              "    }\n",
              "</style>\n",
              "<table border=\"1\" class=\"dataframe\">\n",
              "  <thead>\n",
              "    <tr style=\"text-align: right;\">\n",
              "      <th></th>\n",
              "      <th>col1</th>\n",
              "      <th>col2</th>\n",
              "      <th>col3</th>\n",
              "    </tr>\n",
              "  </thead>\n",
              "  <tbody>\n",
              "    <tr>\n",
              "      <th>0</th>\n",
              "      <td>0.255838</td>\n",
              "      <td>0.444212</td>\n",
              "      <td>[6, 0, 8, 6]</td>\n",
              "    </tr>\n",
              "    <tr>\n",
              "      <th>1</th>\n",
              "      <td>0.283916</td>\n",
              "      <td>0.116647</td>\n",
              "      <td>[3, 7, 5]</td>\n",
              "    </tr>\n",
              "    <tr>\n",
              "      <th>2</th>\n",
              "      <td>0.969698</td>\n",
              "      <td>0.501832</td>\n",
              "      <td>[6, 2, 1]</td>\n",
              "    </tr>\n",
              "    <tr>\n",
              "      <th>3</th>\n",
              "      <td>0.038019</td>\n",
              "      <td>0.683933</td>\n",
              "      <td>[8, 3, 8, 1, 8]</td>\n",
              "    </tr>\n",
              "    <tr>\n",
              "      <th>4</th>\n",
              "      <td>0.879127</td>\n",
              "      <td>0.525478</td>\n",
              "      <td>[5, 10, 3]</td>\n",
              "    </tr>\n",
              "    <tr>\n",
              "      <th>5</th>\n",
              "      <td>0.340149</td>\n",
              "      <td>0.569880</td>\n",
              "      <td>[6, 5, 9, 2]</td>\n",
              "    </tr>\n",
              "    <tr>\n",
              "      <th>6</th>\n",
              "      <td>0.098846</td>\n",
              "      <td>0.589882</td>\n",
              "      <td>[4, 5, 6, 6, 10]</td>\n",
              "    </tr>\n",
              "    <tr>\n",
              "      <th>7</th>\n",
              "      <td>0.662567</td>\n",
              "      <td>0.749227</td>\n",
              "      <td>[1, 2, 0]</td>\n",
              "    </tr>\n",
              "    <tr>\n",
              "      <th>8</th>\n",
              "      <td>0.524592</td>\n",
              "      <td>0.357755</td>\n",
              "      <td>[10, 10, 0]</td>\n",
              "    </tr>\n",
              "    <tr>\n",
              "      <th>9</th>\n",
              "      <td>0.149940</td>\n",
              "      <td>0.194855</td>\n",
              "      <td>[7, 3, 9, 0, 8]</td>\n",
              "    </tr>\n",
              "  </tbody>\n",
              "</table>\n",
              "</div>"
            ],
            "text/plain": [
              "       col1      col2              col3\n",
              "0  0.255838  0.444212      [6, 0, 8, 6]\n",
              "1  0.283916  0.116647         [3, 7, 5]\n",
              "2  0.969698  0.501832         [6, 2, 1]\n",
              "3  0.038019  0.683933   [8, 3, 8, 1, 8]\n",
              "4  0.879127  0.525478        [5, 10, 3]\n",
              "5  0.340149  0.569880      [6, 5, 9, 2]\n",
              "6  0.098846  0.589882  [4, 5, 6, 6, 10]\n",
              "7  0.662567  0.749227         [1, 2, 0]\n",
              "8  0.524592  0.357755       [10, 10, 0]\n",
              "9  0.149940  0.194855   [7, 3, 9, 0, 8]"
            ]
          },
          "metadata": {
            "tags": []
          },
          "execution_count": 14
        }
      ]
    },
    {
      "cell_type": "markdown",
      "metadata": {
        "id": "9Uhk8KZoks2h"
      },
      "source": [
        "# Writing documentation"
      ]
    },
    {
      "cell_type": "code",
      "metadata": {
        "id": "hC9x0_Vkkn3P",
        "outputId": "14eb5d26-9c81-400b-ff0b-5ed1a6ebbf06",
        "colab": {
          "base_uri": "https://localhost:8080/",
          "height": 204
        }
      },
      "source": [
        "print(df.to_string())"
      ],
      "execution_count": 15,
      "outputs": [
        {
          "output_type": "stream",
          "text": [
            "       col1      col2              col3\n",
            "0  0.255838  0.444212      [6, 0, 8, 6]\n",
            "1  0.283916  0.116647         [3, 7, 5]\n",
            "2  0.969698  0.501832         [6, 2, 1]\n",
            "3  0.038019  0.683933   [8, 3, 8, 1, 8]\n",
            "4  0.879127  0.525478        [5, 10, 3]\n",
            "5  0.340149  0.569880      [6, 5, 9, 2]\n",
            "6  0.098846  0.589882  [4, 5, 6, 6, 10]\n",
            "7  0.662567  0.749227         [1, 2, 0]\n",
            "8  0.524592  0.357755       [10, 10, 0]\n",
            "9  0.149940  0.194855   [7, 3, 9, 0, 8]\n"
          ],
          "name": "stdout"
        }
      ]
    }
  ]
}