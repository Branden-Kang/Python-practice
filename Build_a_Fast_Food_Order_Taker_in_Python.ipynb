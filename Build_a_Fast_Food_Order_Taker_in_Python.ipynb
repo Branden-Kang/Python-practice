{
  "nbformat": 4,
  "nbformat_minor": 0,
  "metadata": {
    "colab": {
      "name": "Build a Fast Food Order Taker in Python.ipynb",
      "provenance": [],
      "authorship_tag": "ABX9TyOq3ckQy3lecJZGJIM090+/"
    },
    "kernelspec": {
      "name": "python3",
      "display_name": "Python 3"
    },
    "language_info": {
      "name": "python"
    }
  },
  "cells": [
    {
      "cell_type": "markdown",
      "metadata": {
        "id": "PSfAnGB2b_7r"
      },
      "source": [
        "[Reference](https://python.plainenglish.io/build-a-fast-food-order-taker-in-python-87188efcbbdd)"
      ]
    },
    {
      "cell_type": "code",
      "metadata": {
        "colab": {
          "base_uri": "https://localhost:8080/"
        },
        "id": "U7Sqe3Reairn",
        "outputId": "685b5ea4-fb8b-4593-c9a0-861bb22f8cc1"
      },
      "source": [
        "MENU = {\"soda\", \"fries\", \"burger\", \"shake\", \"cookie\", \"chicken strips\"}\n",
        "\n",
        "\n",
        "def get_order():\n",
        "    current_order = []\n",
        "    while True:\n",
        "        print(\"What can I get for you?\")\n",
        "        order = input()\n",
        "        if order in MENU:\n",
        "            current_order.append(order)\n",
        "        else:\n",
        "            print(\"I'm sorry, we don't serve that.\")\n",
        "            continue\n",
        "        if is_order_complete():\n",
        "            return current_order\n",
        "\n",
        "\n",
        "def is_order_complete():\n",
        "    print(\"Anything else? yes/no\")\n",
        "    choice = input()\n",
        "    if choice == \"no\":\n",
        "        return True\n",
        "    elif choice == \"yes\":\n",
        "        return False\n",
        "    else:\n",
        "        raise Exception(\"invalid input\")\n",
        "\n",
        "\n",
        "def output_order(order_list):\n",
        "    print(\"Okay, so you want\")\n",
        "    for order in order_list:\n",
        "        print(order)\n",
        "\n",
        "\n",
        "def main():\n",
        "    order = get_order()\n",
        "    output_order(order)\n",
        "    print(\"Please drive through to the second window.\")\n",
        "\n",
        "\n",
        "if __name__ == \"__main__\":\n",
        "    main()"
      ],
      "execution_count": 1,
      "outputs": [
        {
          "output_type": "stream",
          "text": [
            "What can I get for you?\n",
            "burger\n",
            "Anything else? yes/no\n",
            "no\n",
            "Okay, so you want\n",
            "burger\n",
            "Please drive through to the second window.\n"
          ],
          "name": "stdout"
        }
      ]
    }
  ]
}