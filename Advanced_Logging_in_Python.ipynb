{
  "nbformat": 4,
  "nbformat_minor": 0,
  "metadata": {
    "colab": {
      "name": "Advanced Logging in Python.ipynb",
      "provenance": [],
      "authorship_tag": "ABX9TyPtDTRDdLmw1o/+zaaLSSla"
    },
    "kernelspec": {
      "name": "python3",
      "display_name": "Python 3"
    }
  },
  "cells": [
    {
      "cell_type": "markdown",
      "metadata": {
        "id": "UvdhhE2C89O1"
      },
      "source": [
        "[Reference](https://medium.com/better-programming/power-up-your-python-logging-6dd3ed38f322)"
      ]
    },
    {
      "cell_type": "code",
      "metadata": {
        "id": "PJtd4K7p8v4k"
      },
      "source": [
        "import logging\n",
        "logger = logging.getLogger(\"app\")"
      ],
      "execution_count": 1,
      "outputs": []
    },
    {
      "cell_type": "code",
      "metadata": {
        "colab": {
          "base_uri": "https://localhost:8080/"
        },
        "id": "4K0Gbbv09zOy",
        "outputId": "33bf5b55-86ed-45c7-a3e5-c73bab0325a3"
      },
      "source": [
        "logger.info(\"Emitting Info LogRecord\")\n",
        "logger.error(\"Emitting Error LogRecord\")"
      ],
      "execution_count": 2,
      "outputs": [
        {
          "output_type": "stream",
          "text": [
            "Emitting Error LogRecord\n"
          ],
          "name": "stderr"
        }
      ]
    },
    {
      "cell_type": "code",
      "metadata": {
        "id": "WoNihP4b95MG"
      },
      "source": [
        "logger = logging.getLogger(__name__)\n",
        "fileHandle = logging.FileHandler('ieddit.log')\n",
        "logger.addHandler(fileHandle)"
      ],
      "execution_count": 3,
      "outputs": []
    },
    {
      "cell_type": "markdown",
      "metadata": {
        "id": "Uqe5DOIy-E-Q"
      },
      "source": [
        "# Formatters"
      ]
    },
    {
      "cell_type": "code",
      "metadata": {
        "id": "Y0bnAHfY9-zf"
      },
      "source": [
        "logger = logging.getLogger(\"__main__\")\n",
        "consoleHandle = logging.StreamHandler()\n",
        "consoleHandle.setLevel(logging.INFO)\n",
        "\n",
        "# Setup the formatter\n",
        "formatter = logging.Formatter('%(asctime)s - %(name)s - %(levelname)s - %(message)s')\n",
        "consoleHandle.setFormatter(formatter)\n",
        "\n",
        "logger.addHandler(consoleHandle)\n",
        "\n",
        "logger.info(\"Message\")"
      ],
      "execution_count": 4,
      "outputs": []
    },
    {
      "cell_type": "code",
      "metadata": {
        "id": "hXXK3Dl4-Ijw"
      },
      "source": [
        "class DiscordHandler(logging.Handler):\n",
        "    def __init__(self):\n",
        "        logging.Handler.__init__(self)\n",
        "        self.discordWebhook = DiscordWebhook(url=config.DISCORD_URL)\n",
        "    \n",
        "    def emit(self, record):\n",
        "        desc = [\n",
        "                record.message,\n",
        "                record.exc_info,\n",
        "                str(record.funName) + \" : \" + stre(record.lineno),\n",
        "                record.stack_info\n",
        "        ]\n",
        "\n",
        "        filteredDesc = [record for record in desc if record != None]\n",
        "\n",
        "        embed = DiscordEmbed(\n",
        "            title=record.levelname,\n",
        "            description =\"\\n\".join(filteredDesc),\n",
        "            color=16711680\n",
        "        )\n",
        "\n",
        "        self.discordWebhook.add_embed(embed)\n",
        "        self.discordWebhook.execute()"
      ],
      "execution_count": 10,
      "outputs": []
    }
  ]
}