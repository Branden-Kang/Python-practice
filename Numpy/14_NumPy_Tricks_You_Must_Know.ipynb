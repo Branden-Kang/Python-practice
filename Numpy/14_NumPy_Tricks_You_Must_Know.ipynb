{
  "nbformat": 4,
  "nbformat_minor": 0,
  "metadata": {
    "colab": {
      "provenance": [],
      "authorship_tag": "ABX9TyMMECEYJhlRghiOwzn/603S"
    },
    "kernelspec": {
      "name": "python3",
      "display_name": "Python 3"
    },
    "language_info": {
      "name": "python"
    }
  },
  "cells": [
    {
      "cell_type": "markdown",
      "source": [
        "[Reference](https://medium.com/@deyprakash753/14-numpy-tricks-you-must-know-925921f1b868)"
      ],
      "metadata": {
        "id": "peSI9seQ143-"
      }
    },
    {
      "cell_type": "markdown",
      "source": [
        "# 1. Efficient Array Creation"
      ],
      "metadata": {
        "id": "RanYboxq17dP"
      }
    },
    {
      "cell_type": "code",
      "execution_count": 1,
      "metadata": {
        "id": "t2fHvPeu1bQD"
      },
      "outputs": [],
      "source": [
        "import numpy as np\n",
        "\n",
        "# Generate an array of time slots from 8 AM to 5 PM\n",
        "time_slots = np.arange(8, 18)  # [8, 9, 10, ..., 17]"
      ]
    },
    {
      "cell_type": "markdown",
      "source": [
        "# 2. Broadcasting"
      ],
      "metadata": {
        "id": "hVfArwgp19dd"
      }
    },
    {
      "cell_type": "code",
      "source": [
        "prices = np.array([10, 15, 20])\n",
        "quantities = np.array([2, 3, 5])\n",
        "\n",
        "# Calculate the total cost for each item\n",
        "total_cost = prices * quantities  # [20, 45, 100]"
      ],
      "metadata": {
        "id": "pnx_gdRI18hF"
      },
      "execution_count": 2,
      "outputs": []
    },
    {
      "cell_type": "markdown",
      "source": [
        "# 3. Fancy Indexing"
      ],
      "metadata": {
        "id": "wvOP6LdQ1_gT"
      }
    },
    {
      "cell_type": "code",
      "source": [
        "ages = np.array([12, 19, 25, 17, 30])\n",
        "adults = ages[ages >= 18]  # [19, 25, 30]"
      ],
      "metadata": {
        "id": "LJWA_m_c1-yw"
      },
      "execution_count": 3,
      "outputs": []
    },
    {
      "cell_type": "markdown",
      "source": [
        "# 4. Vectorization"
      ],
      "metadata": {
        "id": "VGgK3ixf2BrC"
      }
    },
    {
      "cell_type": "code",
      "source": [
        "volumes = np.array([0.5, 0.7, 0.9])\n",
        "\n",
        "# Increase each volume by 10%\n",
        "adjusted_volumes = volumes * 1.1  # [0.55, 0.77, 0.99]"
      ],
      "metadata": {
        "id": "i53h083s2A4i"
      },
      "execution_count": 4,
      "outputs": []
    },
    {
      "cell_type": "markdown",
      "source": [
        "# 5. Reshaping Arrays"
      ],
      "metadata": {
        "id": "561zPyzP2Djv"
      }
    },
    {
      "cell_type": "code",
      "source": [
        "photos = np.arange(1, 10)\n",
        "\n",
        "# Reshape the list into a 3x3 grid\n",
        "photo_grid = photos.reshape(3, 3)"
      ],
      "metadata": {
        "id": "y3chqjMJ2Cy7"
      },
      "execution_count": 6,
      "outputs": []
    },
    {
      "cell_type": "markdown",
      "source": [
        "# 6. Aggregating Data"
      ],
      "metadata": {
        "id": "3_n0KksF2GRI"
      }
    },
    {
      "cell_type": "code",
      "source": [
        "steps = np.array([4000, 5000, 7000, 8000, 4500, 6000, 7500])\n",
        "\n",
        "# Calculate total steps\n",
        "total_steps = np.sum(steps)  # 42000"
      ],
      "metadata": {
        "id": "k-DjyBE-2Exo"
      },
      "execution_count": 7,
      "outputs": []
    },
    {
      "cell_type": "markdown",
      "source": [
        "# 7. Concatenating and Splitting Arrays"
      ],
      "metadata": {
        "id": "zxoGk9xr2IgA"
      }
    },
    {
      "cell_type": "code",
      "source": [
        "playlist1 = np.array([1, 2, 3])\n",
        "playlist2 = np.array([4, 5, 6])\n",
        "\n",
        "# Combine the two playlists\n",
        "combined_playlist = np.concatenate((playlist1, playlist2))"
      ],
      "metadata": {
        "id": "FwEH3Gus2Hd1"
      },
      "execution_count": 8,
      "outputs": []
    },
    {
      "cell_type": "markdown",
      "source": [
        "# 8. Sorting and Searching"
      ],
      "metadata": {
        "id": "dpb7V5_g2Kvg"
      }
    },
    {
      "cell_type": "code",
      "source": [
        "ratings = np.array([4.5, 3.0, 5.0, 4.0])\n",
        "\n",
        "# Sort ratings in descending order\n",
        "sorted_ratings = np.sort(ratings)[::-1]  # [5.0, 4.5, 4.0, 3.0]"
      ],
      "metadata": {
        "id": "zgDSu-9Y2J4P"
      },
      "execution_count": 9,
      "outputs": []
    },
    {
      "cell_type": "markdown",
      "source": [
        "# 9. Handling Missing Data"
      ],
      "metadata": {
        "id": "HLvN7d0D2Mpp"
      }
    },
    {
      "cell_type": "code",
      "source": [
        "expenses = np.array([150.0, np.nan, 200.0, np.nan, 250.0])\n",
        "\n",
        "# Replace NaN values with zero\n",
        "cleaned_expenses = np.nan_to_num(expenses, nan=0.0)"
      ],
      "metadata": {
        "id": "swC0he0N2L-W"
      },
      "execution_count": 10,
      "outputs": []
    },
    {
      "cell_type": "markdown",
      "source": [
        "# 10. Saving and Loading Data"
      ],
      "metadata": {
        "id": "ZsRd5x2J2PE-"
      }
    },
    {
      "cell_type": "code",
      "source": [
        "ingredients = np.array(['flour', 'sugar', 'eggs'])\n",
        "\n",
        "# Save the array to a file\n",
        "np.save('ingredients.npy', ingredients)\n",
        "\n",
        "# Load the array from the file\n",
        "loaded_ingredients = np.load('ingredients.npy')"
      ],
      "metadata": {
        "id": "RXAKHCmV2OMA"
      },
      "execution_count": 11,
      "outputs": []
    },
    {
      "cell_type": "markdown",
      "source": [
        "# 11. Random Number Generation"
      ],
      "metadata": {
        "id": "UHtnxIj_2RYo"
      }
    },
    {
      "cell_type": "code",
      "source": [
        "# Generate random team assignments for 6 players\n",
        "teams = np.random.randint(1, 3, size=6)  # Example: [1, 2, 1, 2, 1, 2]"
      ],
      "metadata": {
        "id": "Nl7oQAl82QZu"
      },
      "execution_count": 12,
      "outputs": []
    },
    {
      "cell_type": "markdown",
      "source": [
        "# 12. Linear Algebra Operations"
      ],
      "metadata": {
        "id": "rKAOObRq2WVJ"
      }
    },
    {
      "cell_type": "code",
      "source": [
        "matrix = np.array([[1, 2], [3, 4]])\n",
        "\n",
        "# Compute the inverse of the matrix\n",
        "inverse_matrix = np.linalg.inv(matrix)"
      ],
      "metadata": {
        "id": "E_ta43xu2VqD"
      },
      "execution_count": 13,
      "outputs": []
    },
    {
      "cell_type": "markdown",
      "source": [
        "# 13. Advanced Indexing"
      ],
      "metadata": {
        "id": "LTnggmeh2abt"
      }
    },
    {
      "cell_type": "code",
      "source": [
        "grocery_list = np.array(['apples', 'bananas', 'carrots'])\n",
        "\n",
        "# Rearrange items in priority order\n",
        "priority_list = grocery_list[[2, 0, 1]]  # ['carrots', 'apples', 'bananas']"
      ],
      "metadata": {
        "id": "d6iLt31L2Zyw"
      },
      "execution_count": 14,
      "outputs": []
    },
    {
      "cell_type": "markdown",
      "source": [
        "# 14. Element-Wise Operations\n"
      ],
      "metadata": {
        "id": "KAvKLm1k2cwT"
      }
    },
    {
      "cell_type": "code",
      "source": [
        "# Daily water intake in liters\n",
        "water_intake_liters = np.array([1.5, 2.0, 1.8, 2.2])\n",
        "\n",
        "# Convert liters to milliliters\n",
        "water_intake_milliliters = water_intake_liters * 1000  # [1500, 2000, 1800, 2200]"
      ],
      "metadata": {
        "id": "tOx75oLw2b76"
      },
      "execution_count": 15,
      "outputs": []
    }
  ]
}
