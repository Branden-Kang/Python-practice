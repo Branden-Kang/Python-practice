{
  "nbformat": 4,
  "nbformat_minor": 0,
  "metadata": {
    "colab": {
      "name": "Introduction to NumPy practice in Python.ipynb",
      "provenance": [],
      "authorship_tag": "ABX9TyM27GTrPVQgmW01DnR7QVOi"
    },
    "kernelspec": {
      "name": "python3",
      "display_name": "Python 3"
    },
    "language_info": {
      "name": "python"
    }
  },
  "cells": [
    {
      "cell_type": "code",
      "metadata": {
        "colab": {
          "base_uri": "https://localhost:8080/"
        },
        "id": "c6mPenEg1XWK",
        "outputId": "a97a76f1-3ff8-46c9-bfee-3032f19790dd"
      },
      "source": [
        "import numpy as np\n",
        "\n",
        "my_array = np.array([1, 2, 3, 4])\n",
        "\n",
        "print(my_array.dtype)"
      ],
      "execution_count": 2,
      "outputs": [
        {
          "output_type": "stream",
          "text": [
            "int64\n"
          ],
          "name": "stdout"
        }
      ]
    },
    {
      "cell_type": "code",
      "metadata": {
        "colab": {
          "base_uri": "https://localhost:8080/"
        },
        "id": "NLNXMUtP1YLC",
        "outputId": "e75e1c31-9ff2-4558-973b-66049c309678"
      },
      "source": [
        "my_array = np.array([1, 2, 3, 4])\n",
        "print(my_array)"
      ],
      "execution_count": 3,
      "outputs": [
        {
          "output_type": "stream",
          "text": [
            "[1 2 3 4]\n"
          ],
          "name": "stdout"
        }
      ]
    },
    {
      "cell_type": "code",
      "metadata": {
        "colab": {
          "base_uri": "https://localhost:8080/"
        },
        "id": "YsQ53FO51rNG",
        "outputId": "b2f18417-d1c8-4970-be29-39131e49f659"
      },
      "source": [
        "my_array = np.array([1, 2, 3, 4.5])\n",
        "print(my_array)"
      ],
      "execution_count": 4,
      "outputs": [
        {
          "output_type": "stream",
          "text": [
            "[1.  2.  3.  4.5]\n"
          ],
          "name": "stdout"
        }
      ]
    },
    {
      "cell_type": "code",
      "metadata": {
        "colab": {
          "base_uri": "https://localhost:8080/"
        },
        "id": "ZGKIcKss1vJS",
        "outputId": "64e6fc3c-45f2-4d7b-ed45-388cccdbf0a5"
      },
      "source": [
        "my_array = np.array([1, 2, 3, '4'])\n",
        "print(my_array)"
      ],
      "execution_count": 5,
      "outputs": [
        {
          "output_type": "stream",
          "text": [
            "['1' '2' '3' '4']\n"
          ],
          "name": "stdout"
        }
      ]
    },
    {
      "cell_type": "code",
      "metadata": {
        "colab": {
          "base_uri": "https://localhost:8080/"
        },
        "id": "-c17_lC61w2W",
        "outputId": "f4ef1852-15ee-4ce8-9a1b-d5839a9f17cc"
      },
      "source": [
        "my_array = np.array([[1, 2, 3, 4], [5, 6, 7, 8]])\n",
        "print(my_array)"
      ],
      "execution_count": 6,
      "outputs": [
        {
          "output_type": "stream",
          "text": [
            "[[1 2 3 4]\n",
            " [5 6 7 8]]\n"
          ],
          "name": "stdout"
        }
      ]
    },
    {
      "cell_type": "code",
      "metadata": {
        "colab": {
          "base_uri": "https://localhost:8080/"
        },
        "id": "Tw3l7bVT1zbI",
        "outputId": "ba5ec266-0936-42e1-c48c-c24255922dde"
      },
      "source": [
        "my_array = np.array([[[1, 2, 3, 4], [5, 6, 7, 8]], [[9, 10, 11, 12], [13, 14, 15, 16]]])\n",
        "print(my_array)"
      ],
      "execution_count": 7,
      "outputs": [
        {
          "output_type": "stream",
          "text": [
            "[[[ 1  2  3  4]\n",
            "  [ 5  6  7  8]]\n",
            "\n",
            " [[ 9 10 11 12]\n",
            "  [13 14 15 16]]]\n"
          ],
          "name": "stdout"
        }
      ]
    },
    {
      "cell_type": "code",
      "metadata": {
        "colab": {
          "base_uri": "https://localhost:8080/"
        },
        "id": "SCxBFXIn11qI",
        "outputId": "806fa331-1b63-4961-830e-1602658f6650"
      },
      "source": [
        "my_array = np.array([1, 2, 3, 4])\n",
        "print(my_array[0])"
      ],
      "execution_count": 8,
      "outputs": [
        {
          "output_type": "stream",
          "text": [
            "1\n"
          ],
          "name": "stdout"
        }
      ]
    },
    {
      "cell_type": "code",
      "metadata": {
        "colab": {
          "base_uri": "https://localhost:8080/"
        },
        "id": "AkFeW0-713ZJ",
        "outputId": "845a759d-0825-4c5d-cc66-e96373e12e2d"
      },
      "source": [
        "my_array = np.array([1, 2, 3, 4])\n",
        "print(my_array[0:2])"
      ],
      "execution_count": 9,
      "outputs": [
        {
          "output_type": "stream",
          "text": [
            "[1 2]\n"
          ],
          "name": "stdout"
        }
      ]
    },
    {
      "cell_type": "code",
      "metadata": {
        "colab": {
          "base_uri": "https://localhost:8080/"
        },
        "id": "bzFVj3IQ14wc",
        "outputId": "ec32d3c6-5c58-4076-e46f-73fb7eff50e4"
      },
      "source": [
        "# returns every other element from the slice\n",
        "my_array = np.array([1, 2, 3, 4])\n",
        "print(my_array[:2])"
      ],
      "execution_count": 13,
      "outputs": [
        {
          "output_type": "stream",
          "text": [
            "[1 2]\n"
          ],
          "name": "stdout"
        }
      ]
    },
    {
      "cell_type": "code",
      "metadata": {
        "colab": {
          "base_uri": "https://localhost:8080/"
        },
        "id": "WaCUuZ-e16fV",
        "outputId": "4788c56c-b743-4c97-ec19-8ba71f945a81"
      },
      "source": [
        "# 3rd element on 1st dimensional array\n",
        "my_array = np.array([[1, 2, 3, 4], [5, 6, 7, 8]])\n",
        "print(my_array[0, 2])"
      ],
      "execution_count": 14,
      "outputs": [
        {
          "output_type": "stream",
          "text": [
            "3\n"
          ],
          "name": "stdout"
        }
      ]
    },
    {
      "cell_type": "code",
      "metadata": {
        "colab": {
          "base_uri": "https://localhost:8080/"
        },
        "id": "B7S58AqK2F22",
        "outputId": "d02c54ed-f06e-421e-d2d8-c3ec7edfd83b"
      },
      "source": [
        "my_array = np.array([[1, 2, 3, 4], [5, 6, 7, 8]])\n",
        "print(my_array[1, 0:2])"
      ],
      "execution_count": 15,
      "outputs": [
        {
          "output_type": "stream",
          "text": [
            "[5 6]\n"
          ],
          "name": "stdout"
        }
      ]
    },
    {
      "cell_type": "code",
      "metadata": {
        "colab": {
          "base_uri": "https://localhost:8080/"
        },
        "id": "1ygs569U2HTy",
        "outputId": "ea0c43b1-d4cf-4a33-f484-677dee3a288e"
      },
      "source": [
        "# 4th element inside the 1st 1d array in the 2nd 2d array\n",
        "my_array = np.array([[[1, 2, 3, 4], [5, 6, 7, 8]], [[9, 10, 11, 12], [13, 14, 15, 16]]])\n",
        "print(my_array[1, 0, 3])"
      ],
      "execution_count": 16,
      "outputs": [
        {
          "output_type": "stream",
          "text": [
            "12\n"
          ],
          "name": "stdout"
        }
      ]
    },
    {
      "cell_type": "code",
      "metadata": {
        "colab": {
          "base_uri": "https://localhost:8080/"
        },
        "id": "-p8-LJ7W2JSG",
        "outputId": "2e083512-8e99-492a-e159-047a6343eea6"
      },
      "source": [
        "my_array = np.array([[[1, 2, 3, 4], [5, 6, 7, 8]], [[9, 10, 11, 12], [13, 14, 15, 16]]])\n",
        "print(my_array[1][0][1::2])"
      ],
      "execution_count": 17,
      "outputs": [
        {
          "output_type": "stream",
          "text": [
            "[10 12]\n"
          ],
          "name": "stdout"
        }
      ]
    },
    {
      "cell_type": "code",
      "metadata": {
        "colab": {
          "base_uri": "https://localhost:8080/"
        },
        "id": "4AS0EiVK2LAJ",
        "outputId": "e2b97f13-df5f-4e63-e706-22fe1c3faa55"
      },
      "source": [
        "my_list1 = [1, 2, 3, 4]\n",
        "my_list2 = [1, 2, 3, 4]\n",
        "print(f'List: {my_list1 + my_list2}')\n",
        "\n",
        "my_array1 = np.array([1, 2, 3, 4])\n",
        "my_array2 = np.array([1, 2, 3, 4])\n",
        "print(f'Array: {my_array1 + my_array2}')"
      ],
      "execution_count": 19,
      "outputs": [
        {
          "output_type": "stream",
          "text": [
            "List: [1, 2, 3, 4, 1, 2, 3, 4]\n",
            "Array: [2 4 6 8]\n"
          ],
          "name": "stdout"
        }
      ]
    },
    {
      "cell_type": "code",
      "metadata": {
        "colab": {
          "base_uri": "https://localhost:8080/"
        },
        "id": "iAzy-JYU2MbO",
        "outputId": "336f0ee4-e5c3-472f-8bf2-ab3eae9f3b76"
      },
      "source": [
        "my_list1 = [1, 2, 3, 4]\n",
        "my_list2 = [1, 2, 3, 4]\n",
        "print(f'List Single Element: {my_list1[1] + my_list2[1]}')\n",
        "\n",
        "my_array1 = np.array([1, 2, 3, 4])\n",
        "my_array2 = np.array([1, 2, 3, 4])\n",
        "print(f'Array Single Element: {my_array1[1] + my_array2[1]}')"
      ],
      "execution_count": 20,
      "outputs": [
        {
          "output_type": "stream",
          "text": [
            "List Single Element: 4\n",
            "Array Single Element: 4\n"
          ],
          "name": "stdout"
        }
      ]
    },
    {
      "cell_type": "code",
      "metadata": {
        "colab": {
          "base_uri": "https://localhost:8080/",
          "height": 232
        },
        "id": "nQfqQ9wa2PWz",
        "outputId": "7b1c55b8-cf0c-43b6-f4c7-e27cc8781b5b"
      },
      "source": [
        "my_list1 = [1, 2, 3, 4]\n",
        "my_list2 = [1, 2, 3, 4]\n",
        "print(f'List: {my_list1 - my_list2}')"
      ],
      "execution_count": 21,
      "outputs": [
        {
          "output_type": "error",
          "ename": "TypeError",
          "evalue": "ignored",
          "traceback": [
            "\u001b[0;31m---------------------------------------------------------------------------\u001b[0m",
            "\u001b[0;31mTypeError\u001b[0m                                 Traceback (most recent call last)",
            "\u001b[0;32m<ipython-input-21-dbbb3405aae5>\u001b[0m in \u001b[0;36m<module>\u001b[0;34m()\u001b[0m\n\u001b[1;32m      1\u001b[0m \u001b[0mmy_list1\u001b[0m \u001b[0;34m=\u001b[0m \u001b[0;34m[\u001b[0m\u001b[0;36m1\u001b[0m\u001b[0;34m,\u001b[0m \u001b[0;36m2\u001b[0m\u001b[0;34m,\u001b[0m \u001b[0;36m3\u001b[0m\u001b[0;34m,\u001b[0m \u001b[0;36m4\u001b[0m\u001b[0;34m]\u001b[0m\u001b[0;34m\u001b[0m\u001b[0;34m\u001b[0m\u001b[0m\n\u001b[1;32m      2\u001b[0m \u001b[0mmy_list2\u001b[0m \u001b[0;34m=\u001b[0m \u001b[0;34m[\u001b[0m\u001b[0;36m1\u001b[0m\u001b[0;34m,\u001b[0m \u001b[0;36m2\u001b[0m\u001b[0;34m,\u001b[0m \u001b[0;36m3\u001b[0m\u001b[0;34m,\u001b[0m \u001b[0;36m4\u001b[0m\u001b[0;34m]\u001b[0m\u001b[0;34m\u001b[0m\u001b[0;34m\u001b[0m\u001b[0m\n\u001b[0;32m----> 3\u001b[0;31m \u001b[0mprint\u001b[0m\u001b[0;34m(\u001b[0m\u001b[0;34mf'List: {my_list1 - my_list2}'\u001b[0m\u001b[0;34m)\u001b[0m\u001b[0;34m\u001b[0m\u001b[0;34m\u001b[0m\u001b[0m\n\u001b[0m",
            "\u001b[0;31mTypeError\u001b[0m: unsupported operand type(s) for -: 'list' and 'list'"
          ]
        }
      ]
    },
    {
      "cell_type": "code",
      "metadata": {
        "colab": {
          "base_uri": "https://localhost:8080/"
        },
        "id": "A3LrXKQg2RAw",
        "outputId": "444e8cb8-9326-486d-f5cd-e544ec68c29e"
      },
      "source": [
        "my_array1 = np.array([1, 2, 3, 4])\n",
        "my_array2 = np.array([1, 2, 3, 4])\n",
        "print(f'Array: {my_array1 - my_array2}')"
      ],
      "execution_count": 22,
      "outputs": [
        {
          "output_type": "stream",
          "text": [
            "Array: [0 0 0 0]\n"
          ],
          "name": "stdout"
        }
      ]
    },
    {
      "cell_type": "code",
      "metadata": {
        "colab": {
          "base_uri": "https://localhost:8080/",
          "height": 232
        },
        "id": "2Wjmyjpe2S3G",
        "outputId": "48e89f8f-4156-4683-e6c8-c1031431a110"
      },
      "source": [
        "my_list1 = [1, 2, 3, 4]\n",
        "my_list2 = [1, 2, 3, 4]\n",
        "print(f'List: {my_list1 * my_list2}')"
      ],
      "execution_count": 23,
      "outputs": [
        {
          "output_type": "error",
          "ename": "TypeError",
          "evalue": "ignored",
          "traceback": [
            "\u001b[0;31m---------------------------------------------------------------------------\u001b[0m",
            "\u001b[0;31mTypeError\u001b[0m                                 Traceback (most recent call last)",
            "\u001b[0;32m<ipython-input-23-2168938f6dd9>\u001b[0m in \u001b[0;36m<module>\u001b[0;34m()\u001b[0m\n\u001b[1;32m      1\u001b[0m \u001b[0mmy_list1\u001b[0m \u001b[0;34m=\u001b[0m \u001b[0;34m[\u001b[0m\u001b[0;36m1\u001b[0m\u001b[0;34m,\u001b[0m \u001b[0;36m2\u001b[0m\u001b[0;34m,\u001b[0m \u001b[0;36m3\u001b[0m\u001b[0;34m,\u001b[0m \u001b[0;36m4\u001b[0m\u001b[0;34m]\u001b[0m\u001b[0;34m\u001b[0m\u001b[0;34m\u001b[0m\u001b[0m\n\u001b[1;32m      2\u001b[0m \u001b[0mmy_list2\u001b[0m \u001b[0;34m=\u001b[0m \u001b[0;34m[\u001b[0m\u001b[0;36m1\u001b[0m\u001b[0;34m,\u001b[0m \u001b[0;36m2\u001b[0m\u001b[0;34m,\u001b[0m \u001b[0;36m3\u001b[0m\u001b[0;34m,\u001b[0m \u001b[0;36m4\u001b[0m\u001b[0;34m]\u001b[0m\u001b[0;34m\u001b[0m\u001b[0;34m\u001b[0m\u001b[0m\n\u001b[0;32m----> 3\u001b[0;31m \u001b[0mprint\u001b[0m\u001b[0;34m(\u001b[0m\u001b[0;34mf'List: {my_list1 * my_list2}'\u001b[0m\u001b[0;34m)\u001b[0m\u001b[0;34m\u001b[0m\u001b[0;34m\u001b[0m\u001b[0m\n\u001b[0m",
            "\u001b[0;31mTypeError\u001b[0m: can't multiply sequence by non-int of type 'list'"
          ]
        }
      ]
    },
    {
      "cell_type": "code",
      "metadata": {
        "colab": {
          "base_uri": "https://localhost:8080/"
        },
        "id": "S6nqWyZP2Ueb",
        "outputId": "9aa4dea9-f75a-4216-97f2-f9027b77bfe3"
      },
      "source": [
        "my_array1 = np.array([1, 2, 3, 4])\n",
        "my_array2 = np.array([1, 2, 3, 4])\n",
        "print(f'Array: {my_array1 * my_array2}')"
      ],
      "execution_count": 24,
      "outputs": [
        {
          "output_type": "stream",
          "text": [
            "Array: [ 1  4  9 16]\n"
          ],
          "name": "stdout"
        }
      ]
    },
    {
      "cell_type": "code",
      "metadata": {
        "colab": {
          "base_uri": "https://localhost:8080/",
          "height": 232
        },
        "id": "k6izYEZj2VrV",
        "outputId": "d5d79d33-5b85-4d44-f5e3-72329bead1fc"
      },
      "source": [
        "my_list1 = [1, 2, 3, 4]\n",
        "my_list2 = [1, 2, 3, 4]\n",
        "print(f'List: {my_list1 / my_list2}')"
      ],
      "execution_count": 25,
      "outputs": [
        {
          "output_type": "error",
          "ename": "TypeError",
          "evalue": "ignored",
          "traceback": [
            "\u001b[0;31m---------------------------------------------------------------------------\u001b[0m",
            "\u001b[0;31mTypeError\u001b[0m                                 Traceback (most recent call last)",
            "\u001b[0;32m<ipython-input-25-4035440d1fca>\u001b[0m in \u001b[0;36m<module>\u001b[0;34m()\u001b[0m\n\u001b[1;32m      1\u001b[0m \u001b[0mmy_list1\u001b[0m \u001b[0;34m=\u001b[0m \u001b[0;34m[\u001b[0m\u001b[0;36m1\u001b[0m\u001b[0;34m,\u001b[0m \u001b[0;36m2\u001b[0m\u001b[0;34m,\u001b[0m \u001b[0;36m3\u001b[0m\u001b[0;34m,\u001b[0m \u001b[0;36m4\u001b[0m\u001b[0;34m]\u001b[0m\u001b[0;34m\u001b[0m\u001b[0;34m\u001b[0m\u001b[0m\n\u001b[1;32m      2\u001b[0m \u001b[0mmy_list2\u001b[0m \u001b[0;34m=\u001b[0m \u001b[0;34m[\u001b[0m\u001b[0;36m1\u001b[0m\u001b[0;34m,\u001b[0m \u001b[0;36m2\u001b[0m\u001b[0;34m,\u001b[0m \u001b[0;36m3\u001b[0m\u001b[0;34m,\u001b[0m \u001b[0;36m4\u001b[0m\u001b[0;34m]\u001b[0m\u001b[0;34m\u001b[0m\u001b[0;34m\u001b[0m\u001b[0m\n\u001b[0;32m----> 3\u001b[0;31m \u001b[0mprint\u001b[0m\u001b[0;34m(\u001b[0m\u001b[0;34mf'List: {my_list1 / my_list2}'\u001b[0m\u001b[0;34m)\u001b[0m\u001b[0;34m\u001b[0m\u001b[0;34m\u001b[0m\u001b[0m\n\u001b[0m",
            "\u001b[0;31mTypeError\u001b[0m: unsupported operand type(s) for /: 'list' and 'list'"
          ]
        }
      ]
    },
    {
      "cell_type": "code",
      "metadata": {
        "colab": {
          "base_uri": "https://localhost:8080/"
        },
        "id": "OItaBwJX2X-Q",
        "outputId": "87798fd3-4173-445c-ca2e-00be34ecd1ae"
      },
      "source": [
        "my_array1 = np.array([1, 2, 3, 4])\n",
        "my_array2 = np.array([1, 2, 3, 4])\n",
        "print(f'Array: {my_array1 / my_array2}')"
      ],
      "execution_count": 26,
      "outputs": [
        {
          "output_type": "stream",
          "text": [
            "Array: [1. 1. 1. 1.]\n"
          ],
          "name": "stdout"
        }
      ]
    },
    {
      "cell_type": "code",
      "metadata": {
        "colab": {
          "base_uri": "https://localhost:8080/",
          "height": 232
        },
        "id": "_OiqIXnJ2aHf",
        "outputId": "ce2b3580-2884-444f-b672-87b6f50b04a4"
      },
      "source": [
        "my_list1 = [1, 2, 3, 4]\n",
        "my_list2 = [1, 2, 3, 4]\n",
        "print(f'List: {my_list1 ** my_list2}')"
      ],
      "execution_count": 27,
      "outputs": [
        {
          "output_type": "error",
          "ename": "TypeError",
          "evalue": "ignored",
          "traceback": [
            "\u001b[0;31m---------------------------------------------------------------------------\u001b[0m",
            "\u001b[0;31mTypeError\u001b[0m                                 Traceback (most recent call last)",
            "\u001b[0;32m<ipython-input-27-937967518fee>\u001b[0m in \u001b[0;36m<module>\u001b[0;34m()\u001b[0m\n\u001b[1;32m      1\u001b[0m \u001b[0mmy_list1\u001b[0m \u001b[0;34m=\u001b[0m \u001b[0;34m[\u001b[0m\u001b[0;36m1\u001b[0m\u001b[0;34m,\u001b[0m \u001b[0;36m2\u001b[0m\u001b[0;34m,\u001b[0m \u001b[0;36m3\u001b[0m\u001b[0;34m,\u001b[0m \u001b[0;36m4\u001b[0m\u001b[0;34m]\u001b[0m\u001b[0;34m\u001b[0m\u001b[0;34m\u001b[0m\u001b[0m\n\u001b[1;32m      2\u001b[0m \u001b[0mmy_list2\u001b[0m \u001b[0;34m=\u001b[0m \u001b[0;34m[\u001b[0m\u001b[0;36m1\u001b[0m\u001b[0;34m,\u001b[0m \u001b[0;36m2\u001b[0m\u001b[0;34m,\u001b[0m \u001b[0;36m3\u001b[0m\u001b[0;34m,\u001b[0m \u001b[0;36m4\u001b[0m\u001b[0;34m]\u001b[0m\u001b[0;34m\u001b[0m\u001b[0;34m\u001b[0m\u001b[0m\n\u001b[0;32m----> 3\u001b[0;31m \u001b[0mprint\u001b[0m\u001b[0;34m(\u001b[0m\u001b[0;34mf'List: {my_list1 ** my_list2}'\u001b[0m\u001b[0;34m)\u001b[0m\u001b[0;34m\u001b[0m\u001b[0;34m\u001b[0m\u001b[0m\n\u001b[0m",
            "\u001b[0;31mTypeError\u001b[0m: unsupported operand type(s) for ** or pow(): 'list' and 'list'"
          ]
        }
      ]
    },
    {
      "cell_type": "code",
      "metadata": {
        "colab": {
          "base_uri": "https://localhost:8080/"
        },
        "id": "McmzonmJ2cJL",
        "outputId": "6bf3f96f-8b54-4563-f2e2-1a9eb0d77c6d"
      },
      "source": [
        "my_array1 = np.array([1, 2, 3, 4])\n",
        "my_array2 = np.array([1, 2, 3, 4])\n",
        "print(f'Array: {my_array1 ** my_array2}')"
      ],
      "execution_count": 28,
      "outputs": [
        {
          "output_type": "stream",
          "text": [
            "Array: [  1   4  27 256]\n"
          ],
          "name": "stdout"
        }
      ]
    },
    {
      "cell_type": "code",
      "metadata": {
        "colab": {
          "base_uri": "https://localhost:8080/",
          "height": 232
        },
        "id": "2ueu46TS2duC",
        "outputId": "f1fe11f9-13fb-4ecb-f586-91b73b2d2ec8"
      },
      "source": [
        "my_list1 = [1, 2, 3, 4]\n",
        "my_list2 = [1, 2, 3, 4]\n",
        "print(f'List: {my_list1 % my_list2}')"
      ],
      "execution_count": 29,
      "outputs": [
        {
          "output_type": "error",
          "ename": "TypeError",
          "evalue": "ignored",
          "traceback": [
            "\u001b[0;31m---------------------------------------------------------------------------\u001b[0m",
            "\u001b[0;31mTypeError\u001b[0m                                 Traceback (most recent call last)",
            "\u001b[0;32m<ipython-input-29-70c4445be612>\u001b[0m in \u001b[0;36m<module>\u001b[0;34m()\u001b[0m\n\u001b[1;32m      1\u001b[0m \u001b[0mmy_list1\u001b[0m \u001b[0;34m=\u001b[0m \u001b[0;34m[\u001b[0m\u001b[0;36m1\u001b[0m\u001b[0;34m,\u001b[0m \u001b[0;36m2\u001b[0m\u001b[0;34m,\u001b[0m \u001b[0;36m3\u001b[0m\u001b[0;34m,\u001b[0m \u001b[0;36m4\u001b[0m\u001b[0;34m]\u001b[0m\u001b[0;34m\u001b[0m\u001b[0;34m\u001b[0m\u001b[0m\n\u001b[1;32m      2\u001b[0m \u001b[0mmy_list2\u001b[0m \u001b[0;34m=\u001b[0m \u001b[0;34m[\u001b[0m\u001b[0;36m1\u001b[0m\u001b[0;34m,\u001b[0m \u001b[0;36m2\u001b[0m\u001b[0;34m,\u001b[0m \u001b[0;36m3\u001b[0m\u001b[0;34m,\u001b[0m \u001b[0;36m4\u001b[0m\u001b[0;34m]\u001b[0m\u001b[0;34m\u001b[0m\u001b[0;34m\u001b[0m\u001b[0m\n\u001b[0;32m----> 3\u001b[0;31m \u001b[0mprint\u001b[0m\u001b[0;34m(\u001b[0m\u001b[0;34mf'List: {my_list1 % my_list2}'\u001b[0m\u001b[0;34m)\u001b[0m\u001b[0;34m\u001b[0m\u001b[0;34m\u001b[0m\u001b[0m\n\u001b[0m",
            "\u001b[0;31mTypeError\u001b[0m: unsupported operand type(s) for %: 'list' and 'list'"
          ]
        }
      ]
    },
    {
      "cell_type": "code",
      "metadata": {
        "colab": {
          "base_uri": "https://localhost:8080/"
        },
        "id": "1tOhUMms2gOA",
        "outputId": "44cebda2-019a-400a-e98d-c8ba7b96dee8"
      },
      "source": [
        "my_array1 = np.array([1, 2, 3, 4])\n",
        "my_array2 = np.array([1, 2, 3, 4])\n",
        "print(f'Array: {my_array1 % my_array2}')"
      ],
      "execution_count": 30,
      "outputs": [
        {
          "output_type": "stream",
          "text": [
            "Array: [0 0 0 0]\n"
          ],
          "name": "stdout"
        }
      ]
    },
    {
      "cell_type": "code",
      "metadata": {
        "colab": {
          "base_uri": "https://localhost:8080/",
          "height": 232
        },
        "id": "LgkomPpH2iW2",
        "outputId": "f6410369-f71c-4d06-a64b-84b50bae7246"
      },
      "source": [
        "my_list1 = [1, 2, 3, 4]\n",
        "my_list2 = [1, 2, 3, 4]\n",
        "print(f'List: {my_list1 // my_list2}')"
      ],
      "execution_count": 31,
      "outputs": [
        {
          "output_type": "error",
          "ename": "TypeError",
          "evalue": "ignored",
          "traceback": [
            "\u001b[0;31m---------------------------------------------------------------------------\u001b[0m",
            "\u001b[0;31mTypeError\u001b[0m                                 Traceback (most recent call last)",
            "\u001b[0;32m<ipython-input-31-8d4c69aae256>\u001b[0m in \u001b[0;36m<module>\u001b[0;34m()\u001b[0m\n\u001b[1;32m      1\u001b[0m \u001b[0mmy_list1\u001b[0m \u001b[0;34m=\u001b[0m \u001b[0;34m[\u001b[0m\u001b[0;36m1\u001b[0m\u001b[0;34m,\u001b[0m \u001b[0;36m2\u001b[0m\u001b[0;34m,\u001b[0m \u001b[0;36m3\u001b[0m\u001b[0;34m,\u001b[0m \u001b[0;36m4\u001b[0m\u001b[0;34m]\u001b[0m\u001b[0;34m\u001b[0m\u001b[0;34m\u001b[0m\u001b[0m\n\u001b[1;32m      2\u001b[0m \u001b[0mmy_list2\u001b[0m \u001b[0;34m=\u001b[0m \u001b[0;34m[\u001b[0m\u001b[0;36m1\u001b[0m\u001b[0;34m,\u001b[0m \u001b[0;36m2\u001b[0m\u001b[0;34m,\u001b[0m \u001b[0;36m3\u001b[0m\u001b[0;34m,\u001b[0m \u001b[0;36m4\u001b[0m\u001b[0;34m]\u001b[0m\u001b[0;34m\u001b[0m\u001b[0;34m\u001b[0m\u001b[0m\n\u001b[0;32m----> 3\u001b[0;31m \u001b[0mprint\u001b[0m\u001b[0;34m(\u001b[0m\u001b[0;34mf'List: {my_list1 // my_list2}'\u001b[0m\u001b[0;34m)\u001b[0m\u001b[0;34m\u001b[0m\u001b[0;34m\u001b[0m\u001b[0m\n\u001b[0m",
            "\u001b[0;31mTypeError\u001b[0m: unsupported operand type(s) for //: 'list' and 'list'"
          ]
        }
      ]
    },
    {
      "cell_type": "code",
      "metadata": {
        "colab": {
          "base_uri": "https://localhost:8080/"
        },
        "id": "X-_cwvif2jns",
        "outputId": "6295dd36-8116-49fd-87ec-cae1972f247f"
      },
      "source": [
        "my_array1 = np.array([1, 2, 3, 4])\n",
        "my_array2 = np.array([1, 2, 3, 4])\n",
        "print(f'Array: {my_array1 // my_array2}')"
      ],
      "execution_count": 32,
      "outputs": [
        {
          "output_type": "stream",
          "text": [
            "Array: [1 1 1 1]\n"
          ],
          "name": "stdout"
        }
      ]
    },
    {
      "cell_type": "code",
      "metadata": {
        "colab": {
          "base_uri": "https://localhost:8080/"
        },
        "id": "HlChtyRl2k4V",
        "outputId": "e613e2fd-8bbc-41e2-8260-410447ae97fd"
      },
      "source": [
        "# copy\n",
        "my_array = np.array([1, 2, 3, 4])\n",
        "array_copy = my_array.copy()\n",
        "my_array[1] = 55\n",
        "\n",
        "print(f'Original Array: {my_array}')\n",
        "print(f'Copied Array: {array_copy}')"
      ],
      "execution_count": 33,
      "outputs": [
        {
          "output_type": "stream",
          "text": [
            "Original Array: [ 1 55  3  4]\n",
            "Copied Array: [1 2 3 4]\n"
          ],
          "name": "stdout"
        }
      ]
    },
    {
      "cell_type": "code",
      "metadata": {
        "colab": {
          "base_uri": "https://localhost:8080/"
        },
        "id": "uWw26Yf02nIu",
        "outputId": "078c703a-5948-4402-b8ad-5a8b60bb95fe"
      },
      "source": [
        "# view\n",
        "my_array = np.array([1, 2, 3, 4])\n",
        "array_view = my_array.view()\n",
        "my_array[1] = 55\n",
        "print(f'Original Array: {my_array}')\n",
        "print(f'Viewed Array: {array_view}')"
      ],
      "execution_count": 34,
      "outputs": [
        {
          "output_type": "stream",
          "text": [
            "Original Array: [ 1 55  3  4]\n",
            "Viewed Array: [ 1 55  3  4]\n"
          ],
          "name": "stdout"
        }
      ]
    },
    {
      "cell_type": "code",
      "metadata": {
        "colab": {
          "base_uri": "https://localhost:8080/"
        },
        "id": "ea2hgbu72p-p",
        "outputId": "67be29ea-de49-413c-e1df-9884c90537b5"
      },
      "source": [
        "my_array = np.array([1, 2, 3, 4])\n",
        "for x in my_array:\n",
        "    print(x)"
      ],
      "execution_count": 35,
      "outputs": [
        {
          "output_type": "stream",
          "text": [
            "1\n",
            "2\n",
            "3\n",
            "4\n"
          ],
          "name": "stdout"
        }
      ]
    },
    {
      "cell_type": "code",
      "metadata": {
        "colab": {
          "base_uri": "https://localhost:8080/"
        },
        "id": "AtqBstoU2rWP",
        "outputId": "f7a987f8-7a8a-44ef-d6ee-1c622beff1c8"
      },
      "source": [
        "my_array = np.array([[1, 2, 3, 4], [5, 6, 7, 8]])\n",
        "for x in my_array:\n",
        "    for i in x:\n",
        "        print(i)"
      ],
      "execution_count": 36,
      "outputs": [
        {
          "output_type": "stream",
          "text": [
            "1\n",
            "2\n",
            "3\n",
            "4\n",
            "5\n",
            "6\n",
            "7\n",
            "8\n"
          ],
          "name": "stdout"
        }
      ]
    },
    {
      "cell_type": "code",
      "metadata": {
        "colab": {
          "base_uri": "https://localhost:8080/"
        },
        "id": "2ctIzOiV2s5r",
        "outputId": "68753bb8-97d3-4528-d7dd-a167a2eaef5c"
      },
      "source": [
        "my_array = np.array([[[1, 2, 3, 4], [5, 6, 7, 8]], [[9, 10, 11, 12], [13, 14, 15, 16]]])\n",
        "for x in my_array:\n",
        "    for y in x:\n",
        "         for z in y:\n",
        "            print(z)"
      ],
      "execution_count": 37,
      "outputs": [
        {
          "output_type": "stream",
          "text": [
            "1\n",
            "2\n",
            "3\n",
            "4\n",
            "5\n",
            "6\n",
            "7\n",
            "8\n",
            "9\n",
            "10\n",
            "11\n",
            "12\n",
            "13\n",
            "14\n",
            "15\n",
            "16\n"
          ],
          "name": "stdout"
        }
      ]
    },
    {
      "cell_type": "code",
      "metadata": {
        "colab": {
          "base_uri": "https://localhost:8080/"
        },
        "id": "aq0sJOXJ2uwu",
        "outputId": "775e679e-45d5-4e8f-d728-ef7ecae3bc50"
      },
      "source": [
        "my_array1 = np.array([1, 2, 3, 4])\n",
        "my_array2 = np.array([1, 2, 3, 4])\n",
        "print(np.concatenate((my_array1, my_array2)))"
      ],
      "execution_count": 38,
      "outputs": [
        {
          "output_type": "stream",
          "text": [
            "[1 2 3 4 1 2 3 4]\n"
          ],
          "name": "stdout"
        }
      ]
    },
    {
      "cell_type": "code",
      "metadata": {
        "colab": {
          "base_uri": "https://localhost:8080/"
        },
        "id": "DvPeBaze22_n",
        "outputId": "183c6496-228d-4f26-f2ea-2a24c0578d2d"
      },
      "source": [
        "my_array1 = np.array([[1, 2, 3, 4], [5, 6, 7, 8]])\n",
        "my_array2 = np.array([[9, 10, 11, 12], [13, 14, 15, 16]])\n",
        "print(np.concatenate((my_array1, my_array2)))"
      ],
      "execution_count": 39,
      "outputs": [
        {
          "output_type": "stream",
          "text": [
            "[[ 1  2  3  4]\n",
            " [ 5  6  7  8]\n",
            " [ 9 10 11 12]\n",
            " [13 14 15 16]]\n"
          ],
          "name": "stdout"
        }
      ]
    },
    {
      "cell_type": "code",
      "metadata": {
        "colab": {
          "base_uri": "https://localhost:8080/"
        },
        "id": "WjBbPVqP282H",
        "outputId": "0da6922a-71a6-4812-e9ba-1e9bb09e6047"
      },
      "source": [
        "my_array1 = np.array([[1, 2, 3, 4], [5, 6, 7, 8]])\n",
        "my_array2 = np.array([[9, 10, 11, 12], [13, 14, 15, 16]])\n",
        "print(np.concatenate((my_array1, my_array2), axis=1))"
      ],
      "execution_count": 40,
      "outputs": [
        {
          "output_type": "stream",
          "text": [
            "[[ 1  2  3  4  9 10 11 12]\n",
            " [ 5  6  7  8 13 14 15 16]]\n"
          ],
          "name": "stdout"
        }
      ]
    },
    {
      "cell_type": "code",
      "metadata": {
        "colab": {
          "base_uri": "https://localhost:8080/"
        },
        "id": "qFI2enkL2_RK",
        "outputId": "4165428b-894c-4711-b44a-aca56cdbe78d"
      },
      "source": [
        "my_array1 = np.array([1, 2, 3, 4])\n",
        "my_array2 = np.array([1, 2, 3, 4])\n",
        "print(np.stack((my_array1, my_array2)))"
      ],
      "execution_count": 41,
      "outputs": [
        {
          "output_type": "stream",
          "text": [
            "[[1 2 3 4]\n",
            " [1 2 3 4]]\n"
          ],
          "name": "stdout"
        }
      ]
    },
    {
      "cell_type": "code",
      "metadata": {
        "colab": {
          "base_uri": "https://localhost:8080/"
        },
        "id": "RFYb0sXl3Bch",
        "outputId": "7235483a-f85c-44d6-e398-c6ebbec3b6c4"
      },
      "source": [
        "my_array1 = np.array([1, 2, 3, 4])\n",
        "my_array2 = np.array([1, 2, 3, 4])\n",
        "print(np.stack((my_array1, my_array2), axis=1))"
      ],
      "execution_count": 42,
      "outputs": [
        {
          "output_type": "stream",
          "text": [
            "[[1 1]\n",
            " [2 2]\n",
            " [3 3]\n",
            " [4 4]]\n"
          ],
          "name": "stdout"
        }
      ]
    },
    {
      "cell_type": "code",
      "metadata": {
        "colab": {
          "base_uri": "https://localhost:8080/"
        },
        "id": "L5Utdi_A3Iiy",
        "outputId": "68ecc418-940d-408d-b106-b2c64d519181"
      },
      "source": [
        "my_array = np.array([1, 2, 3, 4])\n",
        "print(np.array_split(my_array, 2))"
      ],
      "execution_count": 43,
      "outputs": [
        {
          "output_type": "stream",
          "text": [
            "[array([1, 2]), array([3, 4])]\n"
          ],
          "name": "stdout"
        }
      ]
    },
    {
      "cell_type": "code",
      "metadata": {
        "colab": {
          "base_uri": "https://localhost:8080/"
        },
        "id": "3enB8lI_3L9s",
        "outputId": "c4dd568f-94c6-4ac2-f5b4-95be6b60bedc"
      },
      "source": [
        "my_array = np.array([[1, 2, 3, 4], [5, 6, 7, 8], [9, 10, 11, 12], [13, 14, 15, 16]])\n",
        "print(np.array_split(my_array, 2))"
      ],
      "execution_count": 44,
      "outputs": [
        {
          "output_type": "stream",
          "text": [
            "[array([[1, 2, 3, 4],\n",
            "       [5, 6, 7, 8]]), array([[ 9, 10, 11, 12],\n",
            "       [13, 14, 15, 16]])]\n"
          ],
          "name": "stdout"
        }
      ]
    },
    {
      "cell_type": "code",
      "metadata": {
        "colab": {
          "base_uri": "https://localhost:8080/"
        },
        "id": "twlUAp0w3N0o",
        "outputId": "ef3040ff-f9bc-4c3b-959f-590408d117b0"
      },
      "source": [
        "my_array = np.array([1, 2, 3, 4])\n",
        "print(np.where(my_array == 4))"
      ],
      "execution_count": 45,
      "outputs": [
        {
          "output_type": "stream",
          "text": [
            "(array([3]),)\n"
          ],
          "name": "stdout"
        }
      ]
    },
    {
      "cell_type": "code",
      "metadata": {
        "colab": {
          "base_uri": "https://localhost:8080/"
        },
        "id": "r_LwKvuf3R6d",
        "outputId": "be697f45-d0d2-43fd-f217-ee700ebd8446"
      },
      "source": [
        "my_array = np.array([50, 10, 20, 80])\n",
        "print(np.sort(my_array))"
      ],
      "execution_count": 46,
      "outputs": [
        {
          "output_type": "stream",
          "text": [
            "[10 20 50 80]\n"
          ],
          "name": "stdout"
        }
      ]
    },
    {
      "cell_type": "code",
      "metadata": {
        "colab": {
          "base_uri": "https://localhost:8080/"
        },
        "id": "3Ju62CXQ3TfV",
        "outputId": "49f8208d-93f8-4b1b-d2d5-eef14f551fb8"
      },
      "source": [
        "my_array1 = np.array([1, 2, 3, 4])\n",
        "filtered_array = my_array1 > 2\n",
        "my_array2 = my_array1[filtered_array]\n",
        "print(my_array2)"
      ],
      "execution_count": 47,
      "outputs": [
        {
          "output_type": "stream",
          "text": [
            "[3 4]\n"
          ],
          "name": "stdout"
        }
      ]
    },
    {
      "cell_type": "code",
      "metadata": {
        "colab": {
          "base_uri": "https://localhost:8080/"
        },
        "id": "0anG9FPZ3WLD",
        "outputId": "8181ba76-84fc-4e89-9eae-b7aa4a91bb6f"
      },
      "source": [
        "my_array = np.array([1, 2, 3, 4])\n",
        "print(my_array.shape)"
      ],
      "execution_count": 48,
      "outputs": [
        {
          "output_type": "stream",
          "text": [
            "(4,)\n"
          ],
          "name": "stdout"
        }
      ]
    },
    {
      "cell_type": "code",
      "metadata": {
        "colab": {
          "base_uri": "https://localhost:8080/"
        },
        "id": "CPqHPktv3ap9",
        "outputId": "1399606a-a40b-4d8f-b2e3-1b0fcd9e3cd3"
      },
      "source": [
        "my_array = np.array([[1, 2, 3, 4], [5, 6, 7, 8]])\n",
        "print(my_array.shape)"
      ],
      "execution_count": 49,
      "outputs": [
        {
          "output_type": "stream",
          "text": [
            "(2, 4)\n"
          ],
          "name": "stdout"
        }
      ]
    },
    {
      "cell_type": "code",
      "metadata": {
        "colab": {
          "base_uri": "https://localhost:8080/"
        },
        "id": "yWOQlrQn3bxN",
        "outputId": "faaca22a-7eae-40b7-cc3b-177492d34522"
      },
      "source": [
        "my_array = np.array([[[1, 2, 3, 4], [5, 6, 7, 8]], [[9, 10, 11, 12], [13, 14, 15, 16]]])\n",
        "print(my_array.shape)"
      ],
      "execution_count": 50,
      "outputs": [
        {
          "output_type": "stream",
          "text": [
            "(2, 2, 4)\n"
          ],
          "name": "stdout"
        }
      ]
    },
    {
      "cell_type": "code",
      "metadata": {
        "colab": {
          "base_uri": "https://localhost:8080/"
        },
        "id": "MSwSozsN3dxZ",
        "outputId": "87d74b01-11f2-4209-bb80-49c8c081e9a4"
      },
      "source": [
        "my_array = np.array([1, 2, 3, 4])\n",
        "print(my_array.reshape(2, 2))"
      ],
      "execution_count": 51,
      "outputs": [
        {
          "output_type": "stream",
          "text": [
            "[[1 2]\n",
            " [3 4]]\n"
          ],
          "name": "stdout"
        }
      ]
    },
    {
      "cell_type": "code",
      "metadata": {
        "colab": {
          "base_uri": "https://localhost:8080/"
        },
        "id": "m2eBCtuf3fJj",
        "outputId": "cfaedaa5-fdc6-44d9-8b92-7f26a7c1fe2d"
      },
      "source": [
        "my_array = np.array([[1, 2, 3, 4], [5, 6, 7, 8]])\n",
        "print(my_array.reshape(1,8))"
      ],
      "execution_count": 52,
      "outputs": [
        {
          "output_type": "stream",
          "text": [
            "[[1 2 3 4 5 6 7 8]]\n"
          ],
          "name": "stdout"
        }
      ]
    }
  ]
}