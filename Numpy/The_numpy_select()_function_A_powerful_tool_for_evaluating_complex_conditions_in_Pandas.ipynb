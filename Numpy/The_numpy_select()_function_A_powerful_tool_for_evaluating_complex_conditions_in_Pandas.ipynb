{
  "nbformat": 4,
  "nbformat_minor": 0,
  "metadata": {
    "colab": {
      "provenance": [],
      "authorship_tag": "ABX9TyMIJhIrKRvRpzKtG/dSQz2k"
    },
    "kernelspec": {
      "name": "python3",
      "display_name": "Python 3"
    },
    "language_info": {
      "name": "python"
    }
  },
  "cells": [
    {
      "cell_type": "markdown",
      "source": [
        "[Reference](https://towardsdev.com/the-numpy-select-function-a-powerful-tool-for-evaluating-complex-conditions-in-pandas-af610fb7218c)"
      ],
      "metadata": {
        "id": "5XVS2RgWGHgB"
      }
    },
    {
      "cell_type": "code",
      "execution_count": 1,
      "metadata": {
        "colab": {
          "base_uri": "https://localhost:8080/"
        },
        "id": "WADUsJsxGGCd",
        "outputId": "70c16305-a2be-42dd-cfd1-58fd247d425d"
      },
      "outputs": [
        {
          "output_type": "stream",
          "name": "stdout",
          "text": [
            "         name species endangered\n",
            "0        lion  mammal       True\n",
            "1       tiger  mammal       True\n",
            "2       panda  mammal       True\n",
            "3     giraffe  mammal      False\n",
            "4  xyz-unkown  mammal       None\n"
          ]
        }
      ],
      "source": [
        "import pandas as pd \n",
        "import numpy as np\n",
        "animal = pd.DataFrame(\n",
        "{'name': ['lion', 'tiger', 'panda', 'giraffe', 'xyz-unkown'], \n",
        " 'species': ['mammal', 'mammal', 'mammal', 'mammal', 'mammal'], \n",
        " 'endangered': [True, True, True, False, None]}\n",
        ")\n",
        "print(animal)"
      ]
    },
    {
      "cell_type": "code",
      "source": [
        "condition_list = [\n",
        "    (animal[\"endangered\"] == True),\n",
        "    (animal[\"endangered\"] == False)\n",
        "]\n",
        "choice_list = [\n",
        "    \"endangered\",\n",
        "    \"not endangered\"\n",
        "]\n",
        "animal[\"status\"] = np.select(\n",
        "    condlist = condition_list,\n",
        "    choicelist = choice_list,\n",
        "    default = \"unknown\",\n",
        ")\n",
        "print(animal)\n"
      ],
      "metadata": {
        "colab": {
          "base_uri": "https://localhost:8080/"
        },
        "id": "vBs608YrGK-z",
        "outputId": "75ccd061-9587-4994-e722-32f162cd344c"
      },
      "execution_count": 2,
      "outputs": [
        {
          "output_type": "stream",
          "name": "stdout",
          "text": [
            "         name species endangered          status\n",
            "0        lion  mammal       True      endangered\n",
            "1       tiger  mammal       True      endangered\n",
            "2       panda  mammal       True      endangered\n",
            "3     giraffe  mammal      False  not endangered\n",
            "4  xyz-unkown  mammal       None         unknown\n"
          ]
        }
      ]
    }
  ]
}
