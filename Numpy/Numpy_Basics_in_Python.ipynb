{
  "nbformat": 4,
  "nbformat_minor": 0,
  "metadata": {
    "colab": {
      "name": "Numpy Basics in Python.ipynb",
      "provenance": [],
      "authorship_tag": "ABX9TyMojCe1o9zAS6HdXzSMJ6SU"
    },
    "kernelspec": {
      "name": "python3",
      "display_name": "Python 3"
    }
  },
  "cells": [
    {
      "cell_type": "markdown",
      "metadata": {
        "id": "i2wIGt1vg15b"
      },
      "source": [
        "[Reference](https://medium.com/analytics-vidhya/numpy-the-very-basics-6ce19206ee22)"
      ]
    },
    {
      "cell_type": "code",
      "metadata": {
        "id": "cAEV3YlngzYK"
      },
      "source": [
        "import numpy as np"
      ],
      "execution_count": 1,
      "outputs": []
    },
    {
      "cell_type": "markdown",
      "metadata": {
        "id": "zBZ3cahuhb2u"
      },
      "source": [
        "# One dimensional array"
      ]
    },
    {
      "cell_type": "code",
      "metadata": {
        "colab": {
          "base_uri": "https://localhost:8080/"
        },
        "id": "gNcc5rYqhYNQ",
        "outputId": "d0550296-8fa7-4e5d-bbf0-c61b0b87c3d3"
      },
      "source": [
        "np.array([1,2,3,4,5])"
      ],
      "execution_count": 2,
      "outputs": [
        {
          "output_type": "execute_result",
          "data": {
            "text/plain": [
              "array([1, 2, 3, 4, 5])"
            ]
          },
          "metadata": {
            "tags": []
          },
          "execution_count": 2
        }
      ]
    },
    {
      "cell_type": "code",
      "metadata": {
        "colab": {
          "base_uri": "https://localhost:8080/"
        },
        "id": "5sc1IG53hZda",
        "outputId": "0511814c-4792-4be1-af85-c3abba7473a1"
      },
      "source": [
        "print(np.array([1,2,'Hello',3,4]))"
      ],
      "execution_count": 5,
      "outputs": [
        {
          "output_type": "stream",
          "text": [
            "['1' '2' 'Hello' '3' '4']\n"
          ],
          "name": "stdout"
        }
      ]
    },
    {
      "cell_type": "markdown",
      "metadata": {
        "id": "U7W-qYh1j1pr"
      },
      "source": [
        "# Two-dimensional array"
      ]
    },
    {
      "cell_type": "code",
      "metadata": {
        "colab": {
          "base_uri": "https://localhost:8080/"
        },
        "id": "aB6xDJS_ha7R",
        "outputId": "7d16d74b-264d-475a-cb92-8cfebe346f9e"
      },
      "source": [
        "np.array([[1,2,3,4,5], [1,2,3,4,5]])"
      ],
      "execution_count": 6,
      "outputs": [
        {
          "output_type": "execute_result",
          "data": {
            "text/plain": [
              "array([[1, 2, 3, 4, 5],\n",
              "       [1, 2, 3, 4, 5]])"
            ]
          },
          "metadata": {
            "tags": []
          },
          "execution_count": 6
        }
      ]
    },
    {
      "cell_type": "code",
      "metadata": {
        "colab": {
          "base_uri": "https://localhost:8080/"
        },
        "id": "Y96ngy_nhjaA",
        "outputId": "e627159b-e08e-42b9-ad6b-119cc8612075"
      },
      "source": [
        "np.zeros(5, dtype=int)"
      ],
      "execution_count": 7,
      "outputs": [
        {
          "output_type": "execute_result",
          "data": {
            "text/plain": [
              "array([0, 0, 0, 0, 0])"
            ]
          },
          "metadata": {
            "tags": []
          },
          "execution_count": 7
        }
      ]
    },
    {
      "cell_type": "code",
      "metadata": {
        "colab": {
          "base_uri": "https://localhost:8080/"
        },
        "id": "766kDNephnBv",
        "outputId": "cb1a439c-d408-4b89-e08e-3ee6104f8c4e"
      },
      "source": [
        "np.ones((3,5), dtype=float)"
      ],
      "execution_count": 9,
      "outputs": [
        {
          "output_type": "execute_result",
          "data": {
            "text/plain": [
              "array([[1., 1., 1., 1., 1.],\n",
              "       [1., 1., 1., 1., 1.],\n",
              "       [1., 1., 1., 1., 1.]])"
            ]
          },
          "metadata": {
            "tags": []
          },
          "execution_count": 9
        }
      ]
    },
    {
      "cell_type": "code",
      "metadata": {
        "id": "vwCCyDhyhpgn"
      },
      "source": [
        "# np.fill((2,3),3.14)"
      ],
      "execution_count": 11,
      "outputs": []
    },
    {
      "cell_type": "code",
      "metadata": {
        "colab": {
          "base_uri": "https://localhost:8080/"
        },
        "id": "0Pj4viiGh8w_",
        "outputId": "314109c0-03a3-41ad-b8d6-f2b4d98c2f23"
      },
      "source": [
        "np.arange(0,20,2)"
      ],
      "execution_count": 12,
      "outputs": [
        {
          "output_type": "execute_result",
          "data": {
            "text/plain": [
              "array([ 0,  2,  4,  6,  8, 10, 12, 14, 16, 18])"
            ]
          },
          "metadata": {
            "tags": []
          },
          "execution_count": 12
        }
      ]
    },
    {
      "cell_type": "code",
      "metadata": {
        "colab": {
          "base_uri": "https://localhost:8080/"
        },
        "id": "wW0F866CiC-A",
        "outputId": "3ec32727-1cb5-4cae-e000-5002759132ed"
      },
      "source": [
        "np.linspace(0,1,5)"
      ],
      "execution_count": 13,
      "outputs": [
        {
          "output_type": "execute_result",
          "data": {
            "text/plain": [
              "array([0.  , 0.25, 0.5 , 0.75, 1.  ])"
            ]
          },
          "metadata": {
            "tags": []
          },
          "execution_count": 13
        }
      ]
    },
    {
      "cell_type": "code",
      "metadata": {
        "colab": {
          "base_uri": "https://localhost:8080/"
        },
        "id": "j9UWgcb-iFik",
        "outputId": "ed9766e4-1134-4ce0-defb-e21534376bbb"
      },
      "source": [
        "np.random.randint(0,1,(3,3))"
      ],
      "execution_count": 14,
      "outputs": [
        {
          "output_type": "execute_result",
          "data": {
            "text/plain": [
              "array([[0, 0, 0],\n",
              "       [0, 0, 0],\n",
              "       [0, 0, 0]])"
            ]
          },
          "metadata": {
            "tags": []
          },
          "execution_count": 14
        }
      ]
    },
    {
      "cell_type": "code",
      "metadata": {
        "colab": {
          "base_uri": "https://localhost:8080/"
        },
        "id": "QCufSunHiIRy",
        "outputId": "6a9059df-0a16-47f4-fed9-685c1c9ed158"
      },
      "source": [
        "np.eye(3,3)"
      ],
      "execution_count": 15,
      "outputs": [
        {
          "output_type": "execute_result",
          "data": {
            "text/plain": [
              "array([[1., 0., 0.],\n",
              "       [0., 1., 0.],\n",
              "       [0., 0., 1.]])"
            ]
          },
          "metadata": {
            "tags": []
          },
          "execution_count": 15
        }
      ]
    },
    {
      "cell_type": "markdown",
      "metadata": {
        "id": "wgCQLY24jy5p"
      },
      "source": [
        "# NumPy Attributes"
      ]
    },
    {
      "cell_type": "code",
      "metadata": {
        "colab": {
          "base_uri": "https://localhost:8080/"
        },
        "id": "U8WE93GpiJDO",
        "outputId": "350a48e8-3dd9-4ac3-f6c3-7f97bd8f08a0"
      },
      "source": [
        "a=np.random.randint(2, (3,4,5))       \n",
        "\n",
        "print(a.ndim)       \n",
        "# print(a.nshape)       \n",
        "print(a.size) #Multiplication of shape values       \n",
        "print(a.dtype)       \n",
        "print(a.itemsize)       \n",
        "# print(a.nbyte)"
      ],
      "execution_count": 23,
      "outputs": [
        {
          "output_type": "stream",
          "text": [
            "1\n",
            "3\n",
            "int64\n",
            "8\n"
          ],
          "name": "stdout"
        }
      ]
    },
    {
      "cell_type": "markdown",
      "metadata": {
        "id": "pwhT8A3BjxL0"
      },
      "source": [
        "# Array Indexing"
      ]
    },
    {
      "cell_type": "code",
      "metadata": {
        "colab": {
          "base_uri": "https://localhost:8080/"
        },
        "id": "FiHLmi-SiP6n",
        "outputId": "0c5de5f5-7096-45fa-9bbb-c051638f123b"
      },
      "source": [
        "a=np.array([1,2,3,4,5,6,7,8,9])       \n",
        "a[0]\n",
        "a[2]"
      ],
      "execution_count": 24,
      "outputs": [
        {
          "output_type": "execute_result",
          "data": {
            "text/plain": [
              "3"
            ]
          },
          "metadata": {
            "tags": []
          },
          "execution_count": 24
        }
      ]
    },
    {
      "cell_type": "code",
      "metadata": {
        "colab": {
          "base_uri": "https://localhost:8080/"
        },
        "id": "rPon8qd4jEMa",
        "outputId": "2a697a93-642a-40de-cc62-e3fc96353153"
      },
      "source": [
        "a[-1]"
      ],
      "execution_count": 25,
      "outputs": [
        {
          "output_type": "execute_result",
          "data": {
            "text/plain": [
              "9"
            ]
          },
          "metadata": {
            "tags": []
          },
          "execution_count": 25
        }
      ]
    },
    {
      "cell_type": "code",
      "metadata": {
        "colab": {
          "base_uri": "https://localhost:8080/"
        },
        "id": "7CqN95OHjFZi",
        "outputId": "758d7d12-b58d-4e67-d316-3c034ab29625"
      },
      "source": [
        "a[-2]"
      ],
      "execution_count": 26,
      "outputs": [
        {
          "output_type": "execute_result",
          "data": {
            "text/plain": [
              "8"
            ]
          },
          "metadata": {
            "tags": []
          },
          "execution_count": 26
        }
      ]
    },
    {
      "cell_type": "code",
      "metadata": {
        "colab": {
          "base_uri": "https://localhost:8080/"
        },
        "id": "bi_Iq0gZjGRg",
        "outputId": "b8611acf-4d54-4f79-ab58-3c2413c1c73b"
      },
      "source": [
        "a=np.array([[2,3,4,5,6],                   \n",
        "            [7,8,9,10,11],                   \n",
        "            [2,1,5,1,9]])\n",
        "\n",
        "print(a[0,0])\n",
        "print(a[1,-1])"
      ],
      "execution_count": 28,
      "outputs": [
        {
          "output_type": "stream",
          "text": [
            "2\n",
            "11\n"
          ],
          "name": "stdout"
        }
      ]
    },
    {
      "cell_type": "markdown",
      "metadata": {
        "id": "IsGOOXVcjvUZ"
      },
      "source": [
        "# Array slicing"
      ]
    },
    {
      "cell_type": "code",
      "metadata": {
        "colab": {
          "base_uri": "https://localhost:8080/"
        },
        "id": "eO1iYMPVjT2B",
        "outputId": "fd41fc98-78de-40af-bfd6-8c0a3467185f"
      },
      "source": [
        "x = np.arange(10)\n",
        "x"
      ],
      "execution_count": 30,
      "outputs": [
        {
          "output_type": "execute_result",
          "data": {
            "text/plain": [
              "array([0, 1, 2, 3, 4, 5, 6, 7, 8, 9])"
            ]
          },
          "metadata": {
            "tags": []
          },
          "execution_count": 30
        }
      ]
    },
    {
      "cell_type": "code",
      "metadata": {
        "colab": {
          "base_uri": "https://localhost:8080/"
        },
        "id": "4ZZIWjtOjXs_",
        "outputId": "7b338ff4-ba84-493d-a8ab-61b555f9dd6b"
      },
      "source": [
        "x[:5]"
      ],
      "execution_count": 31,
      "outputs": [
        {
          "output_type": "execute_result",
          "data": {
            "text/plain": [
              "array([0, 1, 2, 3, 4])"
            ]
          },
          "metadata": {
            "tags": []
          },
          "execution_count": 31
        }
      ]
    },
    {
      "cell_type": "code",
      "metadata": {
        "colab": {
          "base_uri": "https://localhost:8080/"
        },
        "id": "wG0JkW0hjZqv",
        "outputId": "f4360d3c-0abe-4712-bdb2-caf9c4ec9cde"
      },
      "source": [
        "x[5:]"
      ],
      "execution_count": 32,
      "outputs": [
        {
          "output_type": "execute_result",
          "data": {
            "text/plain": [
              "array([5, 6, 7, 8, 9])"
            ]
          },
          "metadata": {
            "tags": []
          },
          "execution_count": 32
        }
      ]
    },
    {
      "cell_type": "code",
      "metadata": {
        "colab": {
          "base_uri": "https://localhost:8080/"
        },
        "id": "BHuTKNEhjaYF",
        "outputId": "fb77d03f-75a4-4852-acfc-b5d4da573992"
      },
      "source": [
        "x[3:7]"
      ],
      "execution_count": 33,
      "outputs": [
        {
          "output_type": "execute_result",
          "data": {
            "text/plain": [
              "array([3, 4, 5, 6])"
            ]
          },
          "metadata": {
            "tags": []
          },
          "execution_count": 33
        }
      ]
    },
    {
      "cell_type": "code",
      "metadata": {
        "colab": {
          "base_uri": "https://localhost:8080/"
        },
        "id": "ySqIKJN8jb9g",
        "outputId": "6acd2664-1192-4915-e9c2-6fce48e34278"
      },
      "source": [
        "x[::2]"
      ],
      "execution_count": 34,
      "outputs": [
        {
          "output_type": "execute_result",
          "data": {
            "text/plain": [
              "array([0, 2, 4, 6, 8])"
            ]
          },
          "metadata": {
            "tags": []
          },
          "execution_count": 34
        }
      ]
    },
    {
      "cell_type": "code",
      "metadata": {
        "colab": {
          "base_uri": "https://localhost:8080/"
        },
        "id": "azexQPm3jdF9",
        "outputId": "ba939a59-0968-441b-b39c-ad7e35186eab"
      },
      "source": [
        "x[1::2]"
      ],
      "execution_count": 35,
      "outputs": [
        {
          "output_type": "execute_result",
          "data": {
            "text/plain": [
              "array([1, 3, 5, 7, 9])"
            ]
          },
          "metadata": {
            "tags": []
          },
          "execution_count": 35
        }
      ]
    },
    {
      "cell_type": "code",
      "metadata": {
        "colab": {
          "base_uri": "https://localhost:8080/"
        },
        "id": "fjBuCr6xjeU9",
        "outputId": "83d9771d-efb2-4702-d0ff-755bee3e4707"
      },
      "source": [
        "x[::-1]"
      ],
      "execution_count": 36,
      "outputs": [
        {
          "output_type": "execute_result",
          "data": {
            "text/plain": [
              "array([9, 8, 7, 6, 5, 4, 3, 2, 1, 0])"
            ]
          },
          "metadata": {
            "tags": []
          },
          "execution_count": 36
        }
      ]
    },
    {
      "cell_type": "code",
      "metadata": {
        "colab": {
          "base_uri": "https://localhost:8080/"
        },
        "id": "l5ZlfqYAjf9Y",
        "outputId": "361d44ab-b780-4434-ef4a-ea88c5170148"
      },
      "source": [
        "x[6::-2]"
      ],
      "execution_count": 37,
      "outputs": [
        {
          "output_type": "execute_result",
          "data": {
            "text/plain": [
              "array([6, 4, 2, 0])"
            ]
          },
          "metadata": {
            "tags": []
          },
          "execution_count": 37
        }
      ]
    },
    {
      "cell_type": "markdown",
      "metadata": {
        "id": "F8P87ONcjtvU"
      },
      "source": [
        "# Multidimensional array slicing"
      ]
    },
    {
      "cell_type": "code",
      "metadata": {
        "colab": {
          "base_uri": "https://localhost:8080/"
        },
        "id": "tKYsJt61jhU_",
        "outputId": "6759358d-e493-4587-f7a0-dd1c669e17d8"
      },
      "source": [
        "a=np.array([[2,3,4,5,6],                   \n",
        "            [7,8,9,10,11],                   \n",
        "            [2,1,5,1,9]])\n",
        "a[:2,:3]"
      ],
      "execution_count": 38,
      "outputs": [
        {
          "output_type": "execute_result",
          "data": {
            "text/plain": [
              "array([[2, 3, 4],\n",
              "       [7, 8, 9]])"
            ]
          },
          "metadata": {
            "tags": []
          },
          "execution_count": 38
        }
      ]
    },
    {
      "cell_type": "code",
      "metadata": {
        "colab": {
          "base_uri": "https://localhost:8080/"
        },
        "id": "sB9b-TURjnXj",
        "outputId": "2dd96aba-5e71-4e20-e3aa-566f29c74857"
      },
      "source": [
        "a[:2,:1]"
      ],
      "execution_count": 39,
      "outputs": [
        {
          "output_type": "execute_result",
          "data": {
            "text/plain": [
              "array([[2],\n",
              "       [7]])"
            ]
          },
          "metadata": {
            "tags": []
          },
          "execution_count": 39
        }
      ]
    },
    {
      "cell_type": "code",
      "metadata": {
        "colab": {
          "base_uri": "https://localhost:8080/"
        },
        "id": "N245ZER7jorJ",
        "outputId": "72013ca2-0000-4896-c089-8f9be38d32bf"
      },
      "source": [
        "a[::-1,::-1]"
      ],
      "execution_count": 40,
      "outputs": [
        {
          "output_type": "execute_result",
          "data": {
            "text/plain": [
              "array([[ 9,  1,  5,  1,  2],\n",
              "       [11, 10,  9,  8,  7],\n",
              "       [ 6,  5,  4,  3,  2]])"
            ]
          },
          "metadata": {
            "tags": []
          },
          "execution_count": 40
        }
      ]
    },
    {
      "cell_type": "markdown",
      "metadata": {
        "id": "1LXAJRnEj4Dn"
      },
      "source": [
        "# Array concatenation and splitting"
      ]
    },
    {
      "cell_type": "code",
      "metadata": {
        "colab": {
          "base_uri": "https://localhost:8080/"
        },
        "id": "BncHCX--jqFe",
        "outputId": "47894c4d-d4e6-4608-fde0-c891db074bde"
      },
      "source": [
        "a= np.array([ 1,2,3,4 ])        \n",
        "b=np.array([5,6,7,8])        \n",
        "c=np.array([[10,9,8,7],                   \n",
        "            [6,5,4,3]])        \n",
        "d=np.array([[6,5],                    \n",
        "            [2,1]])        \n",
        "\n",
        "np.concatenate([a,b])"
      ],
      "execution_count": 47,
      "outputs": [
        {
          "output_type": "execute_result",
          "data": {
            "text/plain": [
              "array([1, 2, 3, 4, 5, 6, 7, 8])"
            ]
          },
          "metadata": {
            "tags": []
          },
          "execution_count": 47
        }
      ]
    },
    {
      "cell_type": "code",
      "metadata": {
        "colab": {
          "base_uri": "https://localhost:8080/"
        },
        "id": "Xqvsai5qkZEs",
        "outputId": "345415a7-99ff-431e-bd27-4b02c8661968"
      },
      "source": [
        "np.vstack([a,c])"
      ],
      "execution_count": 48,
      "outputs": [
        {
          "output_type": "execute_result",
          "data": {
            "text/plain": [
              "array([[ 1,  2,  3,  4],\n",
              "       [10,  9,  8,  7],\n",
              "       [ 6,  5,  4,  3]])"
            ]
          },
          "metadata": {
            "tags": []
          },
          "execution_count": 48
        }
      ]
    },
    {
      "cell_type": "code",
      "metadata": {
        "colab": {
          "base_uri": "https://localhost:8080/"
        },
        "id": "5Vm-nP2Lkf9i",
        "outputId": "d5a89b40-ad38-4ee1-c35e-5b2282f9a31e"
      },
      "source": [
        "np.hstack([c,d])"
      ],
      "execution_count": 49,
      "outputs": [
        {
          "output_type": "execute_result",
          "data": {
            "text/plain": [
              "array([[10,  9,  8,  7,  6,  5],\n",
              "       [ 6,  5,  4,  3,  2,  1]])"
            ]
          },
          "metadata": {
            "tags": []
          },
          "execution_count": 49
        }
      ]
    },
    {
      "cell_type": "code",
      "metadata": {
        "colab": {
          "base_uri": "https://localhost:8080/"
        },
        "id": "ruSOjeFXki5P",
        "outputId": "d11648d1-3296-4591-fd35-21dc1b331aad"
      },
      "source": [
        "x = [1,2,3,99,99,3,2,1]\n",
        "x1, x2, x3 = np.split(x,[3,5])\n",
        "print(x1, x2, x3)"
      ],
      "execution_count": 50,
      "outputs": [
        {
          "output_type": "stream",
          "text": [
            "[1 2 3] [99 99] [3 2 1]\n"
          ],
          "name": "stdout"
        }
      ]
    },
    {
      "cell_type": "code",
      "metadata": {
        "colab": {
          "base_uri": "https://localhost:8080/"
        },
        "id": "BA-EHafwkrKw",
        "outputId": "aad7e060-98ab-46d6-f43d-68a21d0a11fb"
      },
      "source": [
        "a=np.arange(16).reshape((4,4))\n",
        "a"
      ],
      "execution_count": 51,
      "outputs": [
        {
          "output_type": "execute_result",
          "data": {
            "text/plain": [
              "array([[ 0,  1,  2,  3],\n",
              "       [ 4,  5,  6,  7],\n",
              "       [ 8,  9, 10, 11],\n",
              "       [12, 13, 14, 15]])"
            ]
          },
          "metadata": {
            "tags": []
          },
          "execution_count": 51
        }
      ]
    },
    {
      "cell_type": "code",
      "metadata": {
        "colab": {
          "base_uri": "https://localhost:8080/"
        },
        "id": "ETFrZn9yksFS",
        "outputId": "36194063-0476-4b78-95bc-4786b508d1da"
      },
      "source": [
        "upper,lower = np.vsplit(a,[2])\n",
        "print(upper)\n",
        "print(lower)"
      ],
      "execution_count": 52,
      "outputs": [
        {
          "output_type": "stream",
          "text": [
            "[[0 1 2 3]\n",
            " [4 5 6 7]]\n",
            "[[ 8  9 10 11]\n",
            " [12 13 14 15]]\n"
          ],
          "name": "stdout"
        }
      ]
    },
    {
      "cell_type": "code",
      "metadata": {
        "colab": {
          "base_uri": "https://localhost:8080/"
        },
        "id": "eWU_6P2TkvjB",
        "outputId": "cedc83e1-9504-4689-981b-7dfb15c8eedd"
      },
      "source": [
        "left, right= np.hsplit(a,[2])\n",
        "print(left)\n",
        "print(right)"
      ],
      "execution_count": 53,
      "outputs": [
        {
          "output_type": "stream",
          "text": [
            "[[ 0  1]\n",
            " [ 4  5]\n",
            " [ 8  9]\n",
            " [12 13]]\n",
            "[[ 2  3]\n",
            " [ 6  7]\n",
            " [10 11]\n",
            " [14 15]]\n"
          ],
          "name": "stdout"
        }
      ]
    }
  ]
}