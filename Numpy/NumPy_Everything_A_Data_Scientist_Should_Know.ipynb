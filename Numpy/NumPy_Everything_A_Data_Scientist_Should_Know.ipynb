{
  "nbformat": 4,
  "nbformat_minor": 0,
  "metadata": {
    "colab": {
      "name": "NumPy: Everything A Data Scientist Should Know",
      "provenance": [],
      "authorship_tag": "ABX9TyM2mklAAChj0ccHOd6bp+Lf"
    },
    "kernelspec": {
      "name": "python3",
      "display_name": "Python 3"
    }
  },
  "cells": [
    {
      "cell_type": "markdown",
      "metadata": {
        "id": "4XskPCzXcqAo"
      },
      "source": [
        "[Reference](https://medium.com/python-in-plain-english/numpy-library-all-a-data-scientist-should-know-f61b159f23b1)"
      ]
    },
    {
      "cell_type": "code",
      "metadata": {
        "id": "WcEIzA_9coxL"
      },
      "source": [
        "import numpy as np"
      ],
      "execution_count": 2,
      "outputs": []
    },
    {
      "cell_type": "code",
      "metadata": {
        "id": "pNM7nSHfctHT",
        "outputId": "3a10aabc-f9af-4469-c1d4-9ca93147cb83",
        "colab": {
          "base_uri": "https://localhost:8080/"
        }
      },
      "source": [
        "a = np.array([(1,2,3),(4,5,6)])\n",
        "print(a)"
      ],
      "execution_count": 3,
      "outputs": [
        {
          "output_type": "stream",
          "text": [
            "[[1 2 3]\n",
            " [4 5 6]]\n"
          ],
          "name": "stdout"
        }
      ]
    },
    {
      "cell_type": "code",
      "metadata": {
        "id": "WkHSgs8bcuZ9",
        "outputId": "48f4436d-9287-4e5b-dbc0-d8adefa312e3",
        "colab": {
          "base_uri": "https://localhost:8080/"
        }
      },
      "source": [
        "print(a.ndim)"
      ],
      "execution_count": 4,
      "outputs": [
        {
          "output_type": "stream",
          "text": [
            "2\n"
          ],
          "name": "stdout"
        }
      ]
    },
    {
      "cell_type": "code",
      "metadata": {
        "id": "nHolZkcfcvPp",
        "outputId": "640e6e88-5941-40ed-9b26-3997f14311a4",
        "colab": {
          "base_uri": "https://localhost:8080/"
        }
      },
      "source": [
        "print(a.size)"
      ],
      "execution_count": 5,
      "outputs": [
        {
          "output_type": "stream",
          "text": [
            "6\n"
          ],
          "name": "stdout"
        }
      ]
    },
    {
      "cell_type": "code",
      "metadata": {
        "id": "SAKuOM8-cwk3",
        "outputId": "f27175a5-c1ce-493e-d69c-470f30c19bf3",
        "colab": {
          "base_uri": "https://localhost:8080/"
        }
      },
      "source": [
        "print(a.shape)"
      ],
      "execution_count": 6,
      "outputs": [
        {
          "output_type": "stream",
          "text": [
            "(2, 3)\n"
          ],
          "name": "stdout"
        }
      ]
    },
    {
      "cell_type": "code",
      "metadata": {
        "id": "ErVuKN_6czlP",
        "outputId": "b78f7ab5-cfc1-46e2-c6a0-13e9c0b02a2e",
        "colab": {
          "base_uri": "https://localhost:8080/"
        }
      },
      "source": [
        "M = np.arange(1000)\n",
        "print(M.size*M.itemsize)"
      ],
      "execution_count": 7,
      "outputs": [
        {
          "output_type": "stream",
          "text": [
            "8000\n"
          ],
          "name": "stdout"
        }
      ]
    },
    {
      "cell_type": "code",
      "metadata": {
        "id": "3uRvCH64c1xv",
        "outputId": "c9c95bb9-e0b5-4c3d-de9e-38fa36684d45",
        "colab": {
          "base_uri": "https://localhost:8080/"
        }
      },
      "source": [
        "a = np.array([(1,2,3),(4,5,6)])\n",
        "a = a.reshape(3,2)\n",
        "print(a)"
      ],
      "execution_count": 8,
      "outputs": [
        {
          "output_type": "stream",
          "text": [
            "[[1 2]\n",
            " [3 4]\n",
            " [5 6]]\n"
          ],
          "name": "stdout"
        }
      ]
    },
    {
      "cell_type": "code",
      "metadata": {
        "id": "vu4DSJf8c5We",
        "outputId": "a89b34e6-71fa-4976-eb9c-6baa7a9f3afe",
        "colab": {
          "base_uri": "https://localhost:8080/"
        }
      },
      "source": [
        "a = np.array([(1,2,3),(4,5,6)])\n",
        "print(a[0,2])"
      ],
      "execution_count": 10,
      "outputs": [
        {
          "output_type": "stream",
          "text": [
            "3\n"
          ],
          "name": "stdout"
        }
      ]
    },
    {
      "cell_type": "code",
      "metadata": {
        "id": "zIBPVTepc7sY",
        "outputId": "ac8b093d-c701-4b9a-aacb-8704093a8112",
        "colab": {
          "base_uri": "https://localhost:8080/"
        }
      },
      "source": [
        "print(a[1,1])"
      ],
      "execution_count": 11,
      "outputs": [
        {
          "output_type": "stream",
          "text": [
            "5\n"
          ],
          "name": "stdout"
        }
      ]
    },
    {
      "cell_type": "code",
      "metadata": {
        "id": "sOODakCOc_dk",
        "outputId": "10c509c5-82c9-4a17-9755-f74806db62ef",
        "colab": {
          "base_uri": "https://localhost:8080/"
        }
      },
      "source": [
        "print(a[0:,2]) "
      ],
      "execution_count": 12,
      "outputs": [
        {
          "output_type": "stream",
          "text": [
            "[3 6]\n"
          ],
          "name": "stdout"
        }
      ]
    },
    {
      "cell_type": "code",
      "metadata": {
        "id": "XLDohS0MdAdq",
        "outputId": "4cea2eb9-e157-4ef8-b545-e3ab36965de4",
        "colab": {
          "base_uri": "https://localhost:8080/"
        }
      },
      "source": [
        "b = np.linspace(1,3,5)\n",
        "print(b)"
      ],
      "execution_count": 16,
      "outputs": [
        {
          "output_type": "stream",
          "text": [
            "[1.  1.5 2.  2.5 3. ]\n"
          ],
          "name": "stdout"
        }
      ]
    },
    {
      "cell_type": "code",
      "metadata": {
        "id": "3Kinc3oRdBzu",
        "outputId": "41018091-0bcb-4cd8-b3a8-e52ef2320ac3",
        "colab": {
          "base_uri": "https://localhost:8080/"
        }
      },
      "source": [
        "a = np.array([(1,2,3),(4,5,6)])\n",
        "print(a.min())\n",
        "print(a.max())\n",
        "print(a.sum())"
      ],
      "execution_count": 15,
      "outputs": [
        {
          "output_type": "stream",
          "text": [
            "1\n",
            "6\n",
            "21\n"
          ],
          "name": "stdout"
        }
      ]
    },
    {
      "cell_type": "code",
      "metadata": {
        "id": "N57GXaEVdJOx",
        "outputId": "7f993955-e234-4140-a22d-d954e5311474",
        "colab": {
          "base_uri": "https://localhost:8080/"
        }
      },
      "source": [
        "a = np.array([(1,2,3),(4,5,6)])\n",
        "print(a.sum(axis=0))"
      ],
      "execution_count": 17,
      "outputs": [
        {
          "output_type": "stream",
          "text": [
            "[5 7 9]\n"
          ],
          "name": "stdout"
        }
      ]
    },
    {
      "cell_type": "code",
      "metadata": {
        "id": "UQKwHtjmdSb0",
        "outputId": "9d771e74-b65b-437a-bbcf-a1444dc4f0ae",
        "colab": {
          "base_uri": "https://localhost:8080/"
        }
      },
      "source": [
        "print(a.sum(axis=1))"
      ],
      "execution_count": 18,
      "outputs": [
        {
          "output_type": "stream",
          "text": [
            "[ 6 15]\n"
          ],
          "name": "stdout"
        }
      ]
    },
    {
      "cell_type": "code",
      "metadata": {
        "id": "v4udiOcQdTll",
        "outputId": "57c42ff7-896f-469d-9c7d-3570464e8100",
        "colab": {
          "base_uri": "https://localhost:8080/"
        }
      },
      "source": [
        "a = np.array([(1,2,3)])\n",
        "print(np.sqrt(a))"
      ],
      "execution_count": 19,
      "outputs": [
        {
          "output_type": "stream",
          "text": [
            "[[1.         1.41421356 1.73205081]]\n"
          ],
          "name": "stdout"
        }
      ]
    },
    {
      "cell_type": "code",
      "metadata": {
        "id": "mC08IOZDdU0Q",
        "outputId": "4534df35-e955-43c7-b9ac-1eb0fc46feb2",
        "colab": {
          "base_uri": "https://localhost:8080/"
        }
      },
      "source": [
        "print(np.std(a))"
      ],
      "execution_count": 20,
      "outputs": [
        {
          "output_type": "stream",
          "text": [
            "0.816496580927726\n"
          ],
          "name": "stdout"
        }
      ]
    },
    {
      "cell_type": "code",
      "metadata": {
        "id": "LeUj95C9dV1X",
        "outputId": "1d346578-75b3-4823-8203-7cf64634ed93",
        "colab": {
          "base_uri": "https://localhost:8080/"
        }
      },
      "source": [
        "a = np.array([(1,2,3),(4,5,6)])\n",
        "b = np.array([(1,2,3),(4,5,6)])\n",
        "print(a+b)"
      ],
      "execution_count": 21,
      "outputs": [
        {
          "output_type": "stream",
          "text": [
            "[[ 2  4  6]\n",
            " [ 8 10 12]]\n"
          ],
          "name": "stdout"
        }
      ]
    },
    {
      "cell_type": "code",
      "metadata": {
        "id": "10QGtzGudXML",
        "outputId": "065fcbc1-8fe9-49fa-c648-83f747f96ce5",
        "colab": {
          "base_uri": "https://localhost:8080/"
        }
      },
      "source": [
        "print(a-b)"
      ],
      "execution_count": 22,
      "outputs": [
        {
          "output_type": "stream",
          "text": [
            "[[0 0 0]\n",
            " [0 0 0]]\n"
          ],
          "name": "stdout"
        }
      ]
    },
    {
      "cell_type": "code",
      "metadata": {
        "id": "SYLJFDtKdYQS",
        "outputId": "38590f7e-b83c-428d-8dfb-9dcd07100e02",
        "colab": {
          "base_uri": "https://localhost:8080/"
        }
      },
      "source": [
        "print(a*b)"
      ],
      "execution_count": 24,
      "outputs": [
        {
          "output_type": "stream",
          "text": [
            "[[ 1  4  9]\n",
            " [16 25 36]]\n"
          ],
          "name": "stdout"
        }
      ]
    },
    {
      "cell_type": "code",
      "metadata": {
        "id": "QDM_ruSodY_3",
        "outputId": "23c51220-ebdb-4a0f-f897-a428e7ec31c1",
        "colab": {
          "base_uri": "https://localhost:8080/"
        }
      },
      "source": [
        "print(a/b)"
      ],
      "execution_count": 25,
      "outputs": [
        {
          "output_type": "stream",
          "text": [
            "[[1. 1. 1.]\n",
            " [1. 1. 1.]]\n"
          ],
          "name": "stdout"
        }
      ]
    },
    {
      "cell_type": "code",
      "metadata": {
        "id": "PFopr7PQdbOJ",
        "outputId": "9482edfc-8313-493e-d59b-7e84e83ddd60",
        "colab": {
          "base_uri": "https://localhost:8080/"
        }
      },
      "source": [
        "#vertical stacking\n",
        "a = np.array([(1,2,3),(4,5,6)])\n",
        "b = np.array([(1,2,3),(4,5,6)])\n",
        "print(np.vstack((a,b)))"
      ],
      "execution_count": 26,
      "outputs": [
        {
          "output_type": "stream",
          "text": [
            "[[1 2 3]\n",
            " [4 5 6]\n",
            " [1 2 3]\n",
            " [4 5 6]]\n"
          ],
          "name": "stdout"
        }
      ]
    },
    {
      "cell_type": "code",
      "metadata": {
        "id": "RGOjmJzVdch1",
        "outputId": "76f276de-37ec-40fb-8c6f-a19c9b7b7085",
        "colab": {
          "base_uri": "https://localhost:8080/"
        }
      },
      "source": [
        "#horizontal Stacking\n",
        "print(np.hstack((a,b)))"
      ],
      "execution_count": 27,
      "outputs": [
        {
          "output_type": "stream",
          "text": [
            "[[1 2 3 1 2 3]\n",
            " [4 5 6 4 5 6]]\n"
          ],
          "name": "stdout"
        }
      ]
    },
    {
      "cell_type": "code",
      "metadata": {
        "id": "nLpQJNp0dexZ",
        "outputId": "ef75da5c-85aa-422f-c550-970897b8db4e",
        "colab": {
          "base_uri": "https://localhost:8080/"
        }
      },
      "source": [
        "#column Stacking\n",
        "print(np.column_stack((a,b)))"
      ],
      "execution_count": 28,
      "outputs": [
        {
          "output_type": "stream",
          "text": [
            "[[1 2 3 1 2 3]\n",
            " [4 5 6 4 5 6]]\n"
          ],
          "name": "stdout"
        }
      ]
    },
    {
      "cell_type": "code",
      "metadata": {
        "id": "QSIFHwGndfuL",
        "outputId": "28fe3783-3bb6-4e52-d481-2a1f26cbcb2c",
        "colab": {
          "base_uri": "https://localhost:8080/"
        }
      },
      "source": [
        "a = np.array([(1,2,3),(4,5,6)])\n",
        "print(a.ravel())"
      ],
      "execution_count": 29,
      "outputs": [
        {
          "output_type": "stream",
          "text": [
            "[1 2 3 4 5 6]\n"
          ],
          "name": "stdout"
        }
      ]
    },
    {
      "cell_type": "code",
      "metadata": {
        "id": "TEwSOs6Mdgt-",
        "outputId": "12dd3fc0-209c-4b2a-c3c7-494de10f2865",
        "colab": {
          "base_uri": "https://localhost:8080/"
        }
      },
      "source": [
        "import numpy as np \n",
        "n1 = np.zeros((2,2))\n",
        "\n",
        "print(n1)"
      ],
      "execution_count": 31,
      "outputs": [
        {
          "output_type": "stream",
          "text": [
            "[[0. 0.]\n",
            " [0. 0.]]\n"
          ],
          "name": "stdout"
        }
      ]
    },
    {
      "cell_type": "code",
      "metadata": {
        "id": "xngbQBxtdh3t",
        "outputId": "bb4e5d97-3071-46e3-9037-84e6a73d303c",
        "colab": {
          "base_uri": "https://localhost:8080/"
        }
      },
      "source": [
        "import numpy as np \n",
        "n1 = np.full((2,2),10)\n",
        "\n",
        "print(n1)"
      ],
      "execution_count": 32,
      "outputs": [
        {
          "output_type": "stream",
          "text": [
            "[[10 10]\n",
            " [10 10]]\n"
          ],
          "name": "stdout"
        }
      ]
    },
    {
      "cell_type": "code",
      "metadata": {
        "id": "2oArBGIldk_R",
        "outputId": "28d9197b-5e12-4486-eb5e-9dfd9c83b437",
        "colab": {
          "base_uri": "https://localhost:8080/"
        }
      },
      "source": [
        "import numpy as np \n",
        "n1 = np.random.randint((1,100,5))\n",
        "\n",
        "print(n1)"
      ],
      "execution_count": 34,
      "outputs": [
        {
          "output_type": "stream",
          "text": [
            "[ 0 95  3]\n"
          ],
          "name": "stdout"
        }
      ]
    },
    {
      "cell_type": "code",
      "metadata": {
        "id": "ojmbYMA1dmwD",
        "outputId": "c67a134f-1a75-4e6d-c904-409b19510789",
        "colab": {
          "base_uri": "https://localhost:8080/",
          "height": 265
        }
      },
      "source": [
        "#for example Sine plot \n",
        "import numpy as np\n",
        "import matplotlib.pyplot as plt\n",
        "a = np.arange(0,3*np.pi,0.1)\n",
        "b = np.sin(a)\n",
        "plt.plot(a,b)\n",
        "plt.show()"
      ],
      "execution_count": 35,
      "outputs": [
        {
          "output_type": "display_data",
          "data": {
            "image/png": "[encoded data removed]",
            "text/plain": [
              "<Figure size 432x288 with 1 Axes>"
            ]
          },
          "metadata": {
            "tags": [],
            "needs_background": "light"
          }
        }
      ]
    },
    {
      "cell_type": "code",
      "metadata": {
        "id": "YPRQE1k9dpnv",
        "outputId": "ea3d4f4a-3ab9-458a-f942-3f3f2c7bfe26",
        "colab": {
          "base_uri": "https://localhost:8080/"
        }
      },
      "source": [
        "a = np.array([(1,2,3)])\n",
        "print(np.exp(a))"
      ],
      "execution_count": 36,
      "outputs": [
        {
          "output_type": "stream",
          "text": [
            "[[ 2.71828183  7.3890561  20.08553692]]\n"
          ],
          "name": "stdout"
        }
      ]
    },
    {
      "cell_type": "code",
      "metadata": {
        "id": "WnjIP1WFdqyC",
        "outputId": "6819f9ba-b2c3-44b7-c006-7bf33bc6fb1a",
        "colab": {
          "base_uri": "https://localhost:8080/"
        }
      },
      "source": [
        "a = np.array([(1,2,3)])\n",
        "print(np.log(a))"
      ],
      "execution_count": 37,
      "outputs": [
        {
          "output_type": "stream",
          "text": [
            "[[0.         0.69314718 1.09861229]]\n"
          ],
          "name": "stdout"
        }
      ]
    },
    {
      "cell_type": "code",
      "metadata": {
        "id": "8Kz70qjqdr4J",
        "outputId": "9738e29e-3699-4c36-f267-b58d8f8be309",
        "colab": {
          "base_uri": "https://localhost:8080/"
        }
      },
      "source": [
        "#for log base 10 \n",
        "print(np.log10(a))"
      ],
      "execution_count": 38,
      "outputs": [
        {
          "output_type": "stream",
          "text": [
            "[[0.         0.30103    0.47712125]]\n"
          ],
          "name": "stdout"
        }
      ]
    }
  ]
}