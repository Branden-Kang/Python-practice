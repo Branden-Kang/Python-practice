{
  "nbformat": 4,
  "nbformat_minor": 0,
  "metadata": {
    "colab": {
      "name": "How to Create SQLite Databases in Python.ipynb",
      "provenance": [],
      "authorship_tag": "ABX9TyO1w7O9r2xf9RzNd339XS3B"
    },
    "kernelspec": {
      "name": "python3",
      "display_name": "Python 3"
    },
    "language_info": {
      "name": "python"
    }
  },
  "cells": [
    {
      "cell_type": "markdown",
      "metadata": {
        "id": "khk9bovaTNO-"
      },
      "source": [
        "[Reference](https://python.plainenglish.io/how-to-create-sqlite-databases-in-python-d7228e8d50a8)"
      ]
    },
    {
      "cell_type": "code",
      "metadata": {
        "colab": {
          "base_uri": "https://localhost:8080/"
        },
        "id": "5sIt0rbITFjY",
        "outputId": "406fbb21-581c-478e-c59a-4fc0de679f14"
      },
      "source": [
        "import sqlite3\n",
        "\n",
        "connect = sqlite3.connect('database.db')\n",
        "\n",
        "cursor = connect.cursor()\n",
        "\n",
        "command = ''' CREATE TABLE IF NOT EXISTS\n",
        "db(element_id INTEGER PRIMARY KEY, message TEXT)'''\n",
        "\n",
        "cursor.execute(command)\n",
        "\n",
        "cursor.execute(\"INSERT INTO db VALUES(1, 'test')\")\n",
        "\n",
        "cursor.execute('SELECT * FROM db')\n",
        "\n",
        "result = cursor.fetchall()\n",
        "print(result)"
      ],
      "execution_count": 3,
      "outputs": [
        {
          "output_type": "stream",
          "text": [
            "[(1, 'test')]\n"
          ],
          "name": "stdout"
        }
      ]
    }
  ]
}