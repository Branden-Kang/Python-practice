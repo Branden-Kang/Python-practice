{
  "nbformat": 4,
  "nbformat_minor": 0,
  "metadata": {
    "colab": {
      "provenance": [],
      "authorship_tag": "ABX9TyNA1PbvcjsZ8M8jcy54assa"
    },
    "kernelspec": {
      "name": "python3",
      "display_name": "Python 3"
    },
    "language_info": {
      "name": "python"
    }
  },
  "cells": [
    {
      "cell_type": "markdown",
      "source": [
        "[Reference](https://medium.com/@bragadeeshs/unleashing-the-power-of-duckdb-a-comprehensive-guide-508af5e784a6)"
      ],
      "metadata": {
        "id": "HhD0gTHl3eRG"
      }
    },
    {
      "cell_type": "markdown",
      "source": [
        "```\n",
        "# Linux\n",
        "sudo sh -c 'echo \"deb [arch=amd64] https://packages.duckdb.org/deb buster main\" > /etc/apt/sources.list.d/duckdb.list'\n",
        "sudo apt-get update\n",
        "sudo apt-get install duckdb\n",
        "sudo apt-get install build-essential cmake git\n",
        "# maxOS\n",
        "brew install duckdb/tap/duckdb\n",
        "brew install cmake git\n",
        "# Windows\n",
        "git clone https://github.com/duckdb/duckdb.git\n",
        "```"
      ],
      "metadata": {
        "id": "VCooGGcL3mGD"
      }
    },
    {
      "cell_type": "markdown",
      "source": [
        "```\n",
        "mkdir duckdb/build\n",
        "cd duckdb/build\n",
        "cmake ..\n",
        "cmake --build .\n",
        "sudo make install\n",
        "duckdb\n",
        "```"
      ],
      "metadata": {
        "id": "YrU5L2723yFd"
      }
    },
    {
      "cell_type": "code",
      "execution_count": 1,
      "metadata": {
        "id": "zR2zzHzZ3WIG"
      },
      "outputs": [],
      "source": [
        "import duckdb\n",
        "\n",
        "# Connect to DuckDB\n",
        "connection = duckdb.connect(database='default')\n",
        "cursor = connection.cursor()\n",
        "\n",
        "# Execute SQL queries\n",
        "cursor.execute(\"SELECT * FROM your_table\")\n",
        "result = cursor.fetchall()"
      ]
    },
    {
      "cell_type": "markdown",
      "source": [
        "```sql\n",
        "-- Create a table\n",
        "CREATE TABLE your_table (\n",
        "    id INTEGER,\n",
        "    name VARCHAR,\n",
        "    value DOUBLE\n",
        ");\n",
        "\n",
        "-- Insert data into the table\n",
        "INSERT INTO your_table VALUES (1, 'John', 100.5);\n",
        "INSERT INTO your_table VALUES (2, 'Alice', 200.2);\n",
        "\n",
        "-- Example: Calculate the average value\n",
        "SELECT AVG(value) FROM your_table;\n",
        "```"
      ],
      "metadata": {
        "id": "Bqo-vASX36mx"
      }
    }
  ]
}
