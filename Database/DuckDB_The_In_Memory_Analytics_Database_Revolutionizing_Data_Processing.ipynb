{
  "nbformat": 4,
  "nbformat_minor": 0,
  "metadata": {
    "colab": {
      "provenance": [],
      "authorship_tag": "ABX9TyNkoO8u+L4DM2LGpOsepMou"
    },
    "kernelspec": {
      "name": "python3",
      "display_name": "Python 3"
    },
    "language_info": {
      "name": "python"
    }
  },
  "cells": [
    {
      "cell_type": "markdown",
      "source": [
        "[Reference](https://gaurav-adarshi.medium.com/duckdb-the-in-memory-analytics-database-revolutionizing-data-processing-1dd63a23a4c7)"
      ],
      "metadata": {
        "id": "Muo-IeXd-7J4"
      }
    },
    {
      "cell_type": "code",
      "execution_count": 1,
      "metadata": {
        "colab": {
          "base_uri": "https://localhost:8080/"
        },
        "id": "QdDjcbhm-5Nk",
        "outputId": "187521f3-e7e9-483b-ae0f-8eb37ffb54f4"
      },
      "outputs": [
        {
          "output_type": "stream",
          "name": "stdout",
          "text": [
            "Requirement already satisfied: duckdb in /usr/local/lib/python3.10/dist-packages (0.10.3)\n"
          ]
        }
      ],
      "source": [
        "pip install duckdb"
      ]
    },
    {
      "cell_type": "code",
      "source": [
        "import duckdb"
      ],
      "metadata": {
        "id": "-cJEKhOC_Cvr"
      },
      "execution_count": 2,
      "outputs": []
    },
    {
      "cell_type": "markdown",
      "source": [
        "# Creating a Database and Table"
      ],
      "metadata": {
        "id": "ew_rptId_GfJ"
      }
    },
    {
      "cell_type": "code",
      "source": [
        "# Connect to DuckDB (creates an in-memory database)\n",
        "con = duckdb.connect()\n",
        "# Create a sample table\n",
        "con.execute(\"\"\"\n",
        "CREATE TABLE employees (\n",
        "    id INTEGER,\n",
        "    name VARCHAR,\n",
        "    department VARCHAR,\n",
        "    salary INTEGER\n",
        ")\n",
        "\"\"\")"
      ],
      "metadata": {
        "colab": {
          "base_uri": "https://localhost:8080/"
        },
        "id": "FoUBN7GO_ESt",
        "outputId": "55a0e76d-6222-4717-9d8e-7c82a0565eda"
      },
      "execution_count": 3,
      "outputs": [
        {
          "output_type": "execute_result",
          "data": {
            "text/plain": [
              "<duckdb.duckdb.DuckDBPyConnection at 0x7bc070102db0>"
            ]
          },
          "metadata": {},
          "execution_count": 3
        }
      ]
    },
    {
      "cell_type": "markdown",
      "source": [
        "# Inserting Data"
      ],
      "metadata": {
        "id": "Y1ZxabPc_IVX"
      }
    },
    {
      "cell_type": "code",
      "source": [
        "con.execute(\"\"\"\n",
        "INSERT INTO employees VALUES\n",
        "(1, 'Alice', 'Engineering', 100000),\n",
        "(2, 'Bob', 'HR', 60000),\n",
        "(3, 'Charlie', 'Engineering', 120000),\n",
        "(4, 'David', 'Marketing', 70000)\n",
        "\"\"\")"
      ],
      "metadata": {
        "colab": {
          "base_uri": "https://localhost:8080/"
        },
        "id": "fYdpR6sh_Efl",
        "outputId": "e73ae60e-2613-477c-fabe-d40fa482af85"
      },
      "execution_count": 4,
      "outputs": [
        {
          "output_type": "execute_result",
          "data": {
            "text/plain": [
              "<duckdb.duckdb.DuckDBPyConnection at 0x7bc070102db0>"
            ]
          },
          "metadata": {},
          "execution_count": 4
        }
      ]
    },
    {
      "cell_type": "markdown",
      "source": [
        "# Querying Data"
      ],
      "metadata": {
        "id": "YPc1_b75_KO8"
      }
    },
    {
      "cell_type": "code",
      "source": [
        "# Simple SELECT query\n",
        "result = con.execute(\"SELECT * FROM employees\").fetchall()\n",
        "print(result)"
      ],
      "metadata": {
        "colab": {
          "base_uri": "https://localhost:8080/"
        },
        "id": "WBeHASng_Isv",
        "outputId": "1077243a-970a-4254-fc87-83ffd09c578b"
      },
      "execution_count": 5,
      "outputs": [
        {
          "output_type": "stream",
          "name": "stdout",
          "text": [
            "[(1, 'Alice', 'Engineering', 100000), (2, 'Bob', 'HR', 60000), (3, 'Charlie', 'Engineering', 120000), (4, 'David', 'Marketing', 70000)]\n"
          ]
        }
      ]
    },
    {
      "cell_type": "markdown",
      "source": [
        "# Analytical Query"
      ],
      "metadata": {
        "id": "pvrTJD2P_NFD"
      }
    },
    {
      "cell_type": "code",
      "source": [
        "# Aggregation query to find the average salary by department\n",
        "avg_salary = con.execute(\"\"\"\n",
        "SELECT department, AVG(salary) AS avg_salary\n",
        "FROM employees\n",
        "GROUP BY department\n",
        "\"\"\").fetchall()\n",
        "print(avg_salary)"
      ],
      "metadata": {
        "colab": {
          "base_uri": "https://localhost:8080/"
        },
        "id": "78sI4U8q_Ltp",
        "outputId": "5bcbb05c-a491-48b4-aa54-d1feaf9b912e"
      },
      "execution_count": 6,
      "outputs": [
        {
          "output_type": "stream",
          "name": "stdout",
          "text": [
            "[('HR', 60000.0), ('Marketing', 70000.0), ('Engineering', 110000.0)]\n"
          ]
        }
      ]
    },
    {
      "cell_type": "markdown",
      "source": [
        "# Basic API Usage"
      ],
      "metadata": {
        "id": "nVQ2qaEC_RIG"
      }
    },
    {
      "cell_type": "code",
      "source": [
        "import duckdb\n",
        "duckdb.sql(\"SELECT 42\").show()"
      ],
      "metadata": {
        "colab": {
          "base_uri": "https://localhost:8080/"
        },
        "id": "4wysmQRI_OX5",
        "outputId": "e7ef017d-2d0a-4344-bfe3-c60e5a129b10"
      },
      "execution_count": 7,
      "outputs": [
        {
          "output_type": "stream",
          "name": "stdout",
          "text": [
            "┌───────┐\n",
            "│  42   │\n",
            "│ int32 │\n",
            "├───────┤\n",
            "│    42 │\n",
            "└───────┘\n",
            "\n"
          ]
        }
      ]
    },
    {
      "cell_type": "code",
      "source": [
        "import duckdb\n",
        "r1 = duckdb.sql(\"SELECT 42 AS i\")\n",
        "duckdb.sql(\"SELECT i * 2 AS k FROM r1\").show()"
      ],
      "metadata": {
        "colab": {
          "base_uri": "https://localhost:8080/"
        },
        "id": "D_CyXgJa_RkP",
        "outputId": "2c4060f4-d8f7-4233-ba7b-5f280101e12a"
      },
      "execution_count": 8,
      "outputs": [
        {
          "output_type": "stream",
          "name": "stdout",
          "text": [
            "┌───────┐\n",
            "│   k   │\n",
            "│ int32 │\n",
            "├───────┤\n",
            "│    84 │\n",
            "└───────┘\n",
            "\n"
          ]
        }
      ]
    },
    {
      "cell_type": "markdown",
      "source": [
        "# Data Input"
      ],
      "metadata": {
        "id": "nZm3C9xI_WfF"
      }
    },
    {
      "cell_type": "code",
      "source": [
        "# import duckdb\n",
        "# duckdb.read_csv(\"example.csv\")                # read a CSV file into a Relation\n",
        "# duckdb.sql(\"SELECT * FROM 'example.csv'\")     # directly query a CSV file"
      ],
      "metadata": {
        "id": "xdsgtp1c_TDF"
      },
      "execution_count": 10,
      "outputs": []
    },
    {
      "cell_type": "markdown",
      "source": [
        "# DataFrames"
      ],
      "metadata": {
        "id": "nndOr3xz_ZFB"
      }
    },
    {
      "cell_type": "code",
      "source": [
        "import duckdb\n",
        "# directly query a Pandas DataFrame\n",
        "import pandas as pd\n",
        "pandas_df = pd.DataFrame({\"a\": [42]})\n",
        "duckdb.sql(\"SELECT * FROM pandas_df\")\n",
        "# directly query a Polars DataFrame\n",
        "import polars as pl\n",
        "polars_df = pl.DataFrame({\"a\": [42]})\n",
        "duckdb.sql(\"SELECT * FROM polars_df\")\n",
        "# directly query a pyarrow table\n",
        "import pyarrow as pa\n",
        "arrow_table = pa.Table.from_pydict({\"a\": [42]})\n",
        "duckdb.sql(\"SELECT * FROM arrow_table\")"
      ],
      "metadata": {
        "colab": {
          "base_uri": "https://localhost:8080/"
        },
        "id": "W26gCrkD_UzY",
        "outputId": "3994c543-b8f2-4e04-855c-a475c8881912"
      },
      "execution_count": 11,
      "outputs": [
        {
          "output_type": "execute_result",
          "data": {
            "text/plain": [
              "┌───────┐\n",
              "│   a   │\n",
              "│ int64 │\n",
              "├───────┤\n",
              "│    42 │\n",
              "└───────┘"
            ]
          },
          "metadata": {},
          "execution_count": 11
        }
      ]
    },
    {
      "cell_type": "markdown",
      "source": [
        "# Result Conversion"
      ],
      "metadata": {
        "id": "ir09ordN_cBo"
      }
    },
    {
      "cell_type": "code",
      "source": [
        "import duckdb\n",
        "duckdb.sql(\"SELECT 42\").fetchall()   # Python objects\n",
        "duckdb.sql(\"SELECT 42\").df()         # Pandas DataFrame\n",
        "duckdb.sql(\"SELECT 42\").pl()         # Polars DataFrame\n",
        "duckdb.sql(\"SELECT 42\").arrow()      # Arrow Table\n",
        "duckdb.sql(\"SELECT 42\").fetchnumpy() # NumPy Arrays"
      ],
      "metadata": {
        "colab": {
          "base_uri": "https://localhost:8080/"
        },
        "id": "wabaAIBT_aH2",
        "outputId": "b1d14a2b-dc75-44a1-ea1c-f7e6811e628c"
      },
      "execution_count": 12,
      "outputs": [
        {
          "output_type": "execute_result",
          "data": {
            "text/plain": [
              "{'42': array([42], dtype=int32)}"
            ]
          },
          "metadata": {},
          "execution_count": 12
        }
      ]
    },
    {
      "cell_type": "markdown",
      "source": [
        "# Writing Data to Disk"
      ],
      "metadata": {
        "id": "BbivRppO_eSY"
      }
    },
    {
      "cell_type": "code",
      "source": [
        "import duckdb\n",
        "duckdb.sql(\"SELECT 42\").write_parquet(\"out.parquet\") # Write to a Parquet file\n",
        "duckdb.sql(\"SELECT 42\").write_csv(\"out.csv\")         # Write to a CSV file\n",
        "duckdb.sql(\"COPY (SELECT 42) TO 'out.parquet'\")      # Copy to a Parquet file"
      ],
      "metadata": {
        "id": "_r_yna33_dIY"
      },
      "execution_count": 13,
      "outputs": []
    }
  ]
}
