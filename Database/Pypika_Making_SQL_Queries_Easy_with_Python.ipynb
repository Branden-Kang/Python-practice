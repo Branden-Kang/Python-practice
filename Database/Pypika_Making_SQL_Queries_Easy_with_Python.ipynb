{
  "nbformat": 4,
  "nbformat_minor": 0,
  "metadata": {
    "colab": {
      "provenance": [],
      "authorship_tag": "ABX9TyPz3B6GMSJqtqN0PrUBUNQ+"
    },
    "kernelspec": {
      "name": "python3",
      "display_name": "Python 3"
    },
    "language_info": {
      "name": "python"
    }
  },
  "cells": [
    {
      "cell_type": "markdown",
      "source": [
        "[Reference](https://medium.com/@tubelwj/pypika-making-sql-queries-easy-with-python-3c0ded0909ba)"
      ],
      "metadata": {
        "id": "Gs9m7FfO8mD0"
      }
    },
    {
      "cell_type": "code",
      "execution_count": 1,
      "metadata": {
        "colab": {
          "base_uri": "https://localhost:8080/"
        },
        "id": "7rtfzSLx7jZx",
        "outputId": "a918c09c-9240-4739-9a01-7244f0d807ca"
      },
      "outputs": [
        {
          "output_type": "stream",
          "name": "stdout",
          "text": [
            "Collecting pypika\n",
            "  Downloading PyPika-0.48.9.tar.gz (67 kB)\n",
            "\u001b[2K     \u001b[90m━━━━━━━━━━━━━━━━━━━━━━━━━━━━━━━━━━━━━━━━\u001b[0m \u001b[32m67.3/67.3 kB\u001b[0m \u001b[31m1.1 MB/s\u001b[0m eta \u001b[36m0:00:00\u001b[0m\n",
            "\u001b[?25h  Installing build dependencies ... \u001b[?25l\u001b[?25hdone\n",
            "  Getting requirements to build wheel ... \u001b[?25l\u001b[?25hdone\n",
            "  Preparing metadata (pyproject.toml) ... \u001b[?25l\u001b[?25hdone\n",
            "Building wheels for collected packages: pypika\n",
            "  Building wheel for pypika (pyproject.toml) ... \u001b[?25l\u001b[?25hdone\n",
            "  Created wheel for pypika: filename=PyPika-0.48.9-py2.py3-none-any.whl size=53723 sha256=964deed19b0352d36e134a55b0423eea1d2a5fda854c19a536a096f5e9c863aa\n",
            "  Stored in directory: /root/.cache/pip/wheels/e1/26/51/d0bffb3d2fd82256676d7ad3003faea3bd6dddc9577af665f4\n",
            "Successfully built pypika\n",
            "Installing collected packages: pypika\n",
            "Successfully installed pypika-0.48.9\n"
          ]
        }
      ],
      "source": [
        "pip install pypika"
      ]
    },
    {
      "cell_type": "code",
      "source": [
        "from pypika import Query, Table\n",
        "\n",
        "query = Query.from_('products').select('*')\n",
        "print(query.get_sql())"
      ],
      "metadata": {
        "colab": {
          "base_uri": "https://localhost:8080/"
        },
        "id": "6-1glzV67nlz",
        "outputId": "2941f01e-db0b-44fe-8c20-5079de860fb9"
      },
      "execution_count": 6,
      "outputs": [
        {
          "output_type": "stream",
          "name": "stdout",
          "text": [
            "SELECT * FROM \"products\"\n"
          ]
        }
      ]
    },
    {
      "cell_type": "code",
      "source": [
        "from pypika import Query, Table\n",
        "\n",
        "query = Query.from_('products').select('id', 'name', 'category', 'qty')\n",
        "print(query.get_sql())"
      ],
      "metadata": {
        "colab": {
          "base_uri": "https://localhost:8080/"
        },
        "id": "lc9OVuyG7qF4",
        "outputId": "8974cff7-bbab-4514-fd60-8c451b4af8cb"
      },
      "execution_count": 7,
      "outputs": [
        {
          "output_type": "stream",
          "name": "stdout",
          "text": [
            "SELECT \"id\",\"name\",\"category\",\"qty\" FROM \"products\"\n"
          ]
        }
      ]
    },
    {
      "cell_type": "code",
      "source": [
        "from pypika import Query, Table\n",
        "\n",
        "# define a table\n",
        "products = Table('products')\n",
        "\n",
        "# build an INSERT query\n",
        "query = Query.into(products).columns( 'name' , 'category' , 'qty' ).insert( 'Introduction to LLM' , 'book', 1000 )\n",
        "print (query.get_sql())"
      ],
      "metadata": {
        "colab": {
          "base_uri": "https://localhost:8080/"
        },
        "id": "2EgLIT427tXg",
        "outputId": "2ea3b767-119b-415c-8ec7-b0ece05c7770"
      },
      "execution_count": 10,
      "outputs": [
        {
          "output_type": "stream",
          "name": "stdout",
          "text": [
            "INSERT INTO \"products\" (\"name\",\"category\",\"qty\") VALUES ('Introduction to LLM','book',1000)\n"
          ]
        }
      ]
    },
    {
      "cell_type": "code",
      "source": [
        "from pypika import Query, Table\n",
        "\n",
        "customers = Table('customers')\n",
        "query = Query.into(customers).insert((1, 'Jay', 'Doe', 'jay@example.com'),\n",
        "                                 (2, 'Joe', 'Doe', 'joe@example.com'))\n",
        "\n",
        "print (query.get_sql())"
      ],
      "metadata": {
        "colab": {
          "base_uri": "https://localhost:8080/"
        },
        "id": "JZNsnTly7tlx",
        "outputId": "a170d64e-27a1-4ec4-90ba-66c99645b237"
      },
      "execution_count": 9,
      "outputs": [
        {
          "output_type": "stream",
          "name": "stdout",
          "text": [
            "INSERT INTO \"customers\" VALUES (1,'Jay','Doe','jay@example.com'),(2,'Joe','Doe','joe@example.com')\n"
          ]
        }
      ]
    },
    {
      "cell_type": "code",
      "source": [
        "from pypika import Query, Table\n",
        "\n",
        "# define a table\n",
        "users = Table( 'customers' )\n",
        "\n",
        "# build an UPDATE query\n",
        "query = Query.update(customers). set (customers.age, 32 ).where(customers.name == 'Amy' )\n",
        "print (query.get_sql())"
      ],
      "metadata": {
        "colab": {
          "base_uri": "https://localhost:8080/"
        },
        "id": "8_Jr1doR7zYM",
        "outputId": "18c197d3-60ec-41ae-8622-94dd453088fe"
      },
      "execution_count": 11,
      "outputs": [
        {
          "output_type": "stream",
          "name": "stdout",
          "text": [
            "UPDATE \"customers\" SET \"age\"=32 WHERE \"name\"='Amy'\n"
          ]
        }
      ]
    },
    {
      "cell_type": "code",
      "source": [
        "from pypika import Query, Table\n",
        "\n",
        "# define a table\n",
        "orders = Table('orders')\n",
        "customers = Table('customers')\n",
        "\n",
        "# build a subquery\n",
        "subquery = Query.from_(orders).select('SUM(amount)').where( orders.customer_id ==customers.id ) #\n",
        "\n",
        "# build a main query to use the subquery\n",
        "query = Query.from_(customers).select(customers.name, subquery).where(subquery > 200 )\n",
        "print (query.get_sql( ))"
      ],
      "metadata": {
        "colab": {
          "base_uri": "https://localhost:8080/"
        },
        "id": "P9s266HC77n9",
        "outputId": "3449bf9a-74c2-4315-f12c-b3fe143fb38f"
      },
      "execution_count": 13,
      "outputs": [
        {
          "output_type": "stream",
          "name": "stdout",
          "text": [
            "SELECT \"name\",(SELECT \"orders\".\"SUM(amount)\" FROM \"orders\" WHERE \"orders\".\"customer_id\"=\"customers\".\"id\") FROM \"customers\" WHERE (SELECT \"orders\".\"SUM(amount)\" FROM \"orders\" WHERE \"orders\".\"customer_id\"=\"customers\".\"id\")>200\n"
          ]
        }
      ]
    },
    {
      "cell_type": "code",
      "source": [
        "from pypika import Query, Table, functions as fn\n",
        "\n",
        "# define a table\n",
        "products = Table('products')\n",
        "\n",
        "# build function or alias to create query\n",
        "query = Query.from_(products).select(fn.Count('*').as_ ('total_products'))\n",
        "print (query.get_sql())"
      ],
      "metadata": {
        "colab": {
          "base_uri": "https://localhost:8080/"
        },
        "id": "Lb_bDhVq8Ryv",
        "outputId": "1f87c57e-a8ed-4107-a287-9e5995a9656c"
      },
      "execution_count": 14,
      "outputs": [
        {
          "output_type": "stream",
          "name": "stdout",
          "text": [
            "SELECT COUNT(*) \"total_products\" FROM \"products\"\n"
          ]
        }
      ]
    },
    {
      "cell_type": "code",
      "source": [
        "from pypika import Query, Table, Case\n",
        "\n",
        "# define a table\n",
        "students = Table( 'students' )\n",
        "\n",
        "# use case statements to create query\n",
        "query = Query.from_(students).select(\n",
        "    students.name,\n",
        "    Case()\n",
        "    .when(students.score > 90, 'A')\n",
        "    .when(students.score > 80, 'B')\n",
        "    .else_('C').as_('grade'))\n",
        "\n",
        "print(query.get_sql())"
      ],
      "metadata": {
        "colab": {
          "base_uri": "https://localhost:8080/"
        },
        "id": "1YeYTeHp8YIH",
        "outputId": "9e40e7fc-7655-45c9-fbc0-11389fcd74e3"
      },
      "execution_count": 16,
      "outputs": [
        {
          "output_type": "stream",
          "name": "stdout",
          "text": [
            "SELECT \"name\",CASE WHEN \"score\">90 THEN 'A' WHEN \"score\">80 THEN 'B' ELSE 'C' END \"grade\" FROM \"students\"\n"
          ]
        }
      ]
    }
  ]
}
