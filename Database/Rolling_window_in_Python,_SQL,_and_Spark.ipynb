{
  "nbformat": 4,
  "nbformat_minor": 0,
  "metadata": {
    "colab": {
      "name": "Rolling window in Python, SQL, and Spark.ipynb",
      "provenance": [],
      "authorship_tag": "ABX9TyPzPK9rweCUzfvtqY8tOojm"
    },
    "kernelspec": {
      "name": "python3",
      "display_name": "Python 3"
    }
  },
  "cells": [
    {
      "cell_type": "markdown",
      "metadata": {
        "id": "Ct-f--4qGM-v"
      },
      "source": [
        "[Reference](https://medium.com/swlh/window-statistic-a-new-pair-of-hands-with-python-pandas-sql-py-spark-1096070d88d3)"
      ]
    },
    {
      "cell_type": "markdown",
      "metadata": {
        "id": "tNamHFj7IZXU"
      },
      "source": [
        "# Python"
      ]
    },
    {
      "cell_type": "code",
      "metadata": {
        "id": "W3De6D35GLDr",
        "outputId": "8f9f254f-13d3-4766-ef0b-27294bd02bf0",
        "colab": {
          "base_uri": "https://localhost:8080/",
          "height": 51
        }
      },
      "source": [
        "# create sample sequence of data\n",
        "sequence = [i for i in range(10)]\n",
        "\n",
        "# define window size\n",
        "start = -2\n",
        "stop = 1\n",
        "\n",
        "length = len(sequence)\n",
        "result = []\n",
        "    \n",
        "for i in range(0, length):\n",
        "    # move window\n",
        "    window_start = max(start + i, 0)\n",
        "    window_stop = min(i + stop + 1, length)\n",
        "    \n",
        "    # select elements that fall into window\n",
        "    elements_in_window = sequence[window_start:window_stop]\n",
        "    \n",
        "    # estimate statistic of a sample\n",
        "    average_of_elements = sum(elements_in_window) / len(elements_in_window)\n",
        "    \n",
        "    # add statistic to results\n",
        "    result.append(average_of_elements)\n",
        "\n",
        "print(sequence)  # original sequence\n",
        "print(result)  # resulting sequence"
      ],
      "execution_count": 4,
      "outputs": [
        {
          "output_type": "stream",
          "text": [
            "[0, 1, 2, 3, 4, 5, 6, 7, 8, 9]\n",
            "[0.5, 1.0, 1.5, 2.5, 3.5, 4.5, 5.5, 6.5, 7.5, 8.0]\n"
          ],
          "name": "stdout"
        }
      ]
    },
    {
      "cell_type": "code",
      "metadata": {
        "id": "ep62Kaf2GMOW",
        "outputId": "905866ff-b73b-40f0-dc34-75f51fe68dc5",
        "colab": {
          "base_uri": "https://localhost:8080/",
          "height": 51
        }
      },
      "source": [
        "# create a sample sequence of data\n",
        "sequence = [i for i in range(10)]\n",
        "\n",
        "def window(sequence, start, stop):\n",
        "    \"\"\"Yields elements from sequence that fall into ]start:stop[ interval\"\"\"\n",
        "    \n",
        "    length = len(sequence)\n",
        "    \n",
        "    for i in range(0, length):\n",
        "        window_start = max(start + i, 0)\n",
        "        window_stop = min(i + stop + 1, length)\n",
        "        \n",
        "        yield sequence[window_start:window_stop]\n",
        "\n",
        "# instantiate a generator with specified window and data sequence\n",
        "window_iterator = window(sequence, -2, 1)\n",
        "\n",
        "# define a function to estimate statistic\n",
        "avg = lambda some_list: sum(some_list) / len(some_list)\n",
        "\n",
        "print(sequence)  # original sequence\n",
        "print(list(map(lambda x: avg(x), window_iterator)))  # resulting sequence"
      ],
      "execution_count": 5,
      "outputs": [
        {
          "output_type": "stream",
          "text": [
            "[0, 1, 2, 3, 4, 5, 6, 7, 8, 9]\n",
            "[0.5, 1.0, 1.5, 2.5, 3.5, 4.5, 5.5, 6.5, 7.5, 8.0]\n"
          ],
          "name": "stdout"
        }
      ]
    },
    {
      "cell_type": "code",
      "metadata": {
        "id": "kJeM30YuHRIH"
      },
      "source": [
        "# make a sample DataFrame\n",
        "df = pd.DataFrame([3,2,5,1,6], columns=['data'])\n",
        "\n",
        "# estimate a rolling-mean in a new column\n",
        "df['mean'] = df['data'].rolling(window=3, center=True, min_periods=3).mean()"
      ],
      "execution_count": 6,
      "outputs": []
    },
    {
      "cell_type": "markdown",
      "metadata": {
        "id": "Q5aPQrwDIYXD"
      },
      "source": [
        "# SQL"
      ]
    },
    {
      "cell_type": "markdown",
      "metadata": {
        "id": "CaXqeIsHIUda"
      },
      "source": [
        "```sql\n",
        "SELECT usage,\n",
        "   AVG(usage)\n",
        "   OVER(PARTITION BY user\n",
        "        ORDER BY date\n",
        "        ROWS BETWEEN UNBOUNDED PRECEDING AND UNBOUNDED FOLLOWING)\n",
        "   AS still_total_average\n",
        "FROM table_name;\n",
        "```"
      ]
    },
    {
      "cell_type": "markdown",
      "metadata": {
        "id": "CeZyqSuUIg77"
      },
      "source": [
        "```sql\n",
        "SELECT usage,\n",
        "   AVG(usage)\n",
        "   OVER(ORDER BY date \n",
        "   ROWS BETWEEN 2 PRECEDING AND CURRENT ROW)\n",
        "   AS 3_day_moving_average\n",
        "FROM table_name;\n",
        "```"
      ]
    },
    {
      "cell_type": "markdown",
      "metadata": {
        "id": "LeUidcJ_IknW"
      },
      "source": [
        "# Apache Spark"
      ]
    },
    {
      "cell_type": "markdown",
      "metadata": {
        "id": "saPhtdhoImTs"
      },
      "source": [
        "```python\n",
        "from pyspark.sql import SparkSession, Window\n",
        "from pyspark.sql.functions import mean\n",
        "\n",
        "# instantiate a spark session and read-in some data\n",
        "spark = SparkSession.builder.appName('Some_Name').getOrCreate()\n",
        "path = \"data/some_log.json\"\n",
        "some_log = spark.read.json(path)\n",
        "\n",
        "# specify window for a window of size 3\n",
        "specidied_window = Window.orderBy('column_name') \\\n",
        "                         .rowsBetween(-2, Window.currentRow)\n",
        "\n",
        "# add a column named '3_day_mean' with an estimated three day mean\n",
        "some_log.withColumn('3_day_mean', mean('data').over(specidied_window)).show()\n",
        "```"
      ]
    }
  ]
}