{
  "nbformat": 4,
  "nbformat_minor": 0,
  "metadata": {
    "colab": {
      "provenance": [],
      "authorship_tag": "ABX9TyNYhh+6ITPDa7sOLWtNSXbt"
    },
    "kernelspec": {
      "name": "python3",
      "display_name": "Python 3"
    },
    "language_info": {
      "name": "python"
    }
  },
  "cells": [
    {
      "cell_type": "markdown",
      "source": [
        "[Reference](https://medium.com/@davidaryee360/building-an-etl-pipeline-with-python-and-postgresql-7fc92056f9a3)"
      ],
      "metadata": {
        "id": "gFMbvit0Trwt"
      }
    },
    {
      "cell_type": "code",
      "execution_count": 1,
      "metadata": {
        "id": "u8Gw_QkZTBj4"
      },
      "outputs": [],
      "source": [
        "# importing relevant packages\n",
        "import json\n",
        "import pandas as pd\n",
        "import requests\n",
        "from sqlalchemy import create_engine\n",
        "import configparser\n",
        "\n",
        "\n",
        "# function to extract data from the API and convert it into a DataFrame\n",
        "def get_data():\n",
        "    url = r\"https://official-joke-api.appspot.com/random_ten\"\n",
        "    response = requests.get(url)\n",
        "    data = json.loads(response.text)\n",
        "\n",
        "    # this normalizes the semi-structured data and turns it into a dataframe\n",
        "    dataframe = pd.json_normalize(data=data)\n",
        "    return dataframe\n",
        "\n",
        "\n",
        "# Defining a function to save the data into a PostgreSQL database\n",
        "def commit_to_postgres():\n",
        "\n",
        "    # creating a Configparser object\n",
        "    config = configparser.ConfigParser()\n",
        "    # reading the configuration file\n",
        "    config.read('postgres_db_credentials.txt')\n",
        "\n",
        "    # reading credentials from file\n",
        "    username = config.get('Credentials', 'username')\n",
        "    host = config.get('Credentials', 'host')\n",
        "    password = config.get('Credentials', 'password')\n",
        "    port = config.get('Credentials', 'port')\n",
        "    db_name = config.get('Credentials', 'db_name')\n",
        "\n",
        "    engine = create_engine(\n",
        "        'postgresql://{0}:{1}@{2}:{3}/{4}'.format(\n",
        "            username,\n",
        "            password,\n",
        "            host,\n",
        "            port,\n",
        "            db_name\n",
        "        ))\n",
        "\n",
        "    # sql syntax to create the table that would hold our data\n",
        "    create_table_query = \"\"\"\n",
        "    CREATE TABLE jokes_data(\n",
        "                type text,\n",
        "                setup text,\n",
        "                punchline text,\n",
        "                id integer primary key\n",
        "                )\n",
        "            \"\"\"\n",
        "\n",
        "    # a raw database connection that allows direct interaction with the database\n",
        "    connection = engine.raw_connection()\n",
        "\n",
        "    # the cursor allows us to execute queries and retrieve results from the database\n",
        "    cursor = connection.cursor()\n",
        "\n",
        "    # creating the table using the cursor\n",
        "    cursor.execute(create_table_query)\n",
        "\n",
        "    # storing the result of the function into a variable\n",
        "    dataframe = get_data()\n",
        "\n",
        "    # pushing the data into the database\n",
        "    for _, row in dataframe.iterrows():\n",
        "        cursor.execute(\n",
        "            \"INSERT INTO jokes_data (id, type, setup, punchline) VALUES (%s, %s, %s, %s)\",\n",
        "            (\n",
        "            row[\"id\"],\n",
        "            row[\"type\"],\n",
        "            row[\"setup\"],\n",
        "            row[\"punchline\"]),\n",
        "        )\n",
        "\n",
        "    # committing the current transaction to the database\n",
        "    connection.commit()\n",
        "\n",
        "    # closing the cursor\n",
        "    cursor.close()\n",
        "    # closing the connection\n",
        "    connection.close()\n",
        "\n",
        "\n",
        "# calling our functions\n",
        "get_data()\n",
        "commit_to_postgres()"
      ]
    }
  ]
}
