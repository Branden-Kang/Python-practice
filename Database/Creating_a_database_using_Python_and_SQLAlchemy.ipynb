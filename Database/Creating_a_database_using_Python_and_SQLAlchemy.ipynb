{
  "nbformat": 4,
  "nbformat_minor": 0,
  "metadata": {
    "colab": {
      "provenance": [],
      "authorship_tag": "ABX9TyNxLIME2TC7P9a30V9s6qPO"
    },
    "kernelspec": {
      "name": "python3",
      "display_name": "Python 3"
    },
    "language_info": {
      "name": "python"
    }
  },
  "cells": [
    {
      "cell_type": "markdown",
      "source": [
        "[Reference](https://medium.com/@sandyjtech/creating-a-database-using-python-and-sqlalchemy-422b7ba39d7e)"
      ],
      "metadata": {
        "id": "Q2GqqJlcafhe"
      }
    },
    {
      "cell_type": "code",
      "execution_count": 1,
      "metadata": {
        "id": "w56RxqcUaPFM"
      },
      "outputs": [],
      "source": [
        "# Step 1: Import the necessary modules\n",
        "\n",
        "from sqlalchemy import create_engine, Column, Integer, String, DateTime\n",
        "from sqlalchemy.ext.declarative import declarative_base\n",
        "from sqlalchemy.orm import sessionmaker\n",
        "import datetime\n",
        "\n",
        "\n",
        "# Step 2: Establish a database connection\n",
        "\n",
        "database_url = 'sqlite:///your_database_name.db'\n",
        "\n",
        "# Create an engine to connect to a SQLite database\n",
        "engine = create_engine(database_url)\n",
        "\n",
        "#will return engine instance\n",
        "Base = declarative_base()\n",
        "\n",
        "# Step 3: Define your data model\n",
        "class User(Base):\n",
        "    __tablename__ = 'users'\n",
        "\n",
        "    id = Column(Integer, primary_key=True)\n",
        "    username = Column(String(50), unique=True, nullable=False)\n",
        "    email = Column(String(100), unique=True, nullable=False)\n",
        "    created_at = Column(DateTime, default=datetime.datetime.utcnow)\n",
        "\n",
        "# Step 4: Create the database tables\n",
        "Base.metadata.create_all(engine)\n",
        "\n",
        "# Step 5: Insert data into the database\n",
        "Session = sessionmaker(bind=engine)\n",
        "session = Session()\n",
        "\n",
        "# Example: Inserting a new user into the database\n",
        "new_user = User(username='Sandy', email='sandy@gmail.com', password='cool-password')\n",
        "session.add(new_user)\n",
        "session.commit()\n",
        "\n",
        "# Step 6: Query data from the database\n",
        "# Example: Querying all users from the database\n",
        "all_users = session.query(User).all()\n",
        "\n",
        "# Example: Querying a specific user by their username\n",
        "user = session.query(User).filter_by(username='Sandy').first()\n",
        "\n",
        "# Step 7: Close the session\n",
        "session.close()"
      ]
    }
  ]
}
