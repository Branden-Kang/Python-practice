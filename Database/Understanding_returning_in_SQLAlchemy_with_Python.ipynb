{
  "nbformat": 4,
  "nbformat_minor": 0,
  "metadata": {
    "colab": {
      "provenance": [],
      "authorship_tag": "ABX9TyNs2o0bZVHq6c8E6wP2Jhku"
    },
    "kernelspec": {
      "name": "python3",
      "display_name": "Python 3"
    },
    "language_info": {
      "name": "python"
    }
  },
  "cells": [
    {
      "cell_type": "markdown",
      "source": [
        "[Reference](https://code.likeagirl.io/understanding-returning-in-sqlalchemy-with-python-e54ea7552d88)"
      ],
      "metadata": {
        "id": "GtwfXwOt-UCW"
      }
    },
    {
      "cell_type": "markdown",
      "source": [
        "# Importing Necessary Modules"
      ],
      "metadata": {
        "id": "eKTiVBGQ-aBX"
      }
    },
    {
      "cell_type": "code",
      "execution_count": 3,
      "metadata": {
        "id": "2EBBFfYP9HZQ"
      },
      "outputs": [],
      "source": [
        "from sqlalchemy import create_engine, Column, Integer, String, update, delete, selec"
      ]
    },
    {
      "cell_type": "markdown",
      "source": [
        "# Defining the Data Model"
      ],
      "metadata": {
        "id": "V9V4iWES-a8l"
      }
    },
    {
      "cell_type": "code",
      "source": [
        "class YourModel(Base):\n",
        "    __tablename__ = 'your_table_name'\n",
        "    id = Column(Integer, primary_key=True)\n",
        "    name = Column(String)"
      ],
      "metadata": {
        "id": "qw0JGcnb-ZJo"
      },
      "execution_count": 4,
      "outputs": []
    },
    {
      "cell_type": "code",
      "source": [
        "# Example: Update a name, retrieve the updated name\n",
        "engine = create_engine('your_database_url')\n",
        "Session = sessionmaker(bind=engine)\n",
        "session = Session()\n",
        "\n",
        "try:\n",
        "    # Update a record with name='John' and retrieve the updated name\n",
        "    updated_name = session.execute(\n",
        "        update(YourModel)\n",
        "        .where(YourModel.id == 1)\n",
        "        .values({'name': 'Jane'})\n",
        "        .returning(YourModel.name)\n",
        "    ).fetchone()[0]  # Access the first element of the single-row result\n",
        "    print(\"Updated name:\", updated_name)\n",
        "except Exception as e:\n",
        "    session.rollback()\n",
        "    print(\"Error:\", e)\n",
        "finally:\n",
        "    session.close()"
      ],
      "metadata": {
        "id": "MHShoXqh-b3W"
      },
      "execution_count": null,
      "outputs": []
    },
    {
      "cell_type": "code",
      "source": [
        "# Example: Delete a record, retrieve the deleted name\n",
        "try:\n",
        "    deleted_name = session.execute(\n",
        "        delete(YourModel)\n",
        "        .where(YourModel.id == 2)\n",
        "        .returning(YourModel.name)\n",
        "    ).fetchone()[0]\n",
        "\n",
        "    print(\"Deleted name:\", deleted_name)\n",
        "except Exception as e:\n",
        "    session.rollback()\n",
        "    print(\"Error:\", e)"
      ],
      "metadata": {
        "id": "elsahGtH-drZ"
      },
      "execution_count": 2,
      "outputs": []
    },
    {
      "cell_type": "code",
      "source": [
        "# Example: Update a user and retrieve ID, name, and email\n",
        "\n",
        "updated_data = session.execute(\n",
        "    update(YourModel)\n",
        "    .where(YourModel.id == 1)\n",
        "    .values({'name': 'Jane', 'email': 'jane@example.com'})\n",
        "    .returning(YourModel.id, YourModel.name, YourModel.email)\n",
        ").fetchall()"
      ],
      "metadata": {
        "id": "RkrjSsGW-gyL"
      },
      "execution_count": 5,
      "outputs": []
    },
    {
      "cell_type": "code",
      "source": [
        "# Example: Update and retrieve all names of updated users\n",
        "\n",
        "updated_names = [\n",
        "    row[1]  # Access the second element (name) in each row tuple\n",
        "    for row in session.execute(\n",
        "        update(YourModel)\n",
        "        .where(YourModel.age > 20)\n",
        "        .values({'name': 'Updated'})\n",
        "        .returning(YourModel.id, YourModel.name)\n",
        "    ).fetchall()\n",
        "]\n",
        "print(\"Updated names:\", updated_names)"
      ],
      "metadata": {
        "id": "yCdYut_l-mMd"
      },
      "execution_count": 7,
      "outputs": []
    }
  ]
}
