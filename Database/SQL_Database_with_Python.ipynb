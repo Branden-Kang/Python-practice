{
  "nbformat": 4,
  "nbformat_minor": 0,
  "metadata": {
    "colab": {
      "name": "SQL Database with Python.ipynb",
      "provenance": [],
      "authorship_tag": "ABX9TyP3LfCcGO1xhPTfIH22+E4a"
    },
    "kernelspec": {
      "name": "python3",
      "display_name": "Python 3"
    },
    "language_info": {
      "name": "python"
    }
  },
  "cells": [
    {
      "cell_type": "markdown",
      "metadata": {
        "id": "EL6wtoFoNnmb"
      },
      "source": [
        "[Reference](https://medium.com/analytics-vidhya/sql-database-with-python-5dda6c9a0c8d)"
      ]
    },
    {
      "cell_type": "code",
      "metadata": {
        "colab": {
          "base_uri": "https://localhost:8080/"
        },
        "id": "mQuTutCuNl6E",
        "outputId": "279288e6-5c2b-4315-b719-8ef7f3339cd2"
      },
      "source": [
        "import sqlite3\n",
        "import pandas as pd\n",
        "import matplotlib.pyplot as plt\n",
        "\n",
        "print(\"All required packages are imported successfully !\")"
      ],
      "execution_count": 2,
      "outputs": [
        {
          "output_type": "stream",
          "text": [
            "All required packages are imported successfully !\n"
          ],
          "name": "stdout"
        }
      ]
    },
    {
      "cell_type": "code",
      "metadata": {
        "id": "MeraxAtrOeQO"
      },
      "source": [
        "database = 'tds.sqlite'\n",
        "conn = sqlite3.connect(database)"
      ],
      "execution_count": 3,
      "outputs": []
    },
    {
      "cell_type": "code",
      "metadata": {
        "id": "dsQPkK-xOmLp"
      },
      "source": [
        "cur = conn.cursor()"
      ],
      "execution_count": 4,
      "outputs": []
    },
    {
      "cell_type": "code",
      "metadata": {
        "id": "bsTfoTfSOs8e"
      },
      "source": [
        "drop_table_query = \"DROP TABLE IF EXISTS job\"\n",
        "cur.execute(drop_table_query)\n",
        "conn.commit()"
      ],
      "execution_count": 6,
      "outputs": []
    },
    {
      "cell_type": "code",
      "metadata": {
        "id": "bNlwG0epOwVx"
      },
      "source": [
        "create_table_query = \"CREATE TABLE IF NOT EXISTS job(\\\n",
        "                        Year INTEGER, DipEngineer INTEGER,\\\n",
        "                        Medical INTEGER, Agriculture INTEGER,\\\n",
        "                        Science INTEGER, Engineer INTEGER,\\\n",
        "                        PGMedical INTEGER, PGAgriculture INTEGER,\\\n",
        "                        PGScience INTEGER)\"\n",
        "cur.execute(create_table_query)\n",
        "conn.commit()"
      ],
      "execution_count": 7,
      "outputs": []
    },
    {
      "cell_type": "code",
      "metadata": {
        "colab": {
          "base_uri": "https://localhost:8080/"
        },
        "id": "d2VMt4nvO-Qg",
        "outputId": "5f87c0dc-3359-4822-94b8-7f0add2982d9"
      },
      "source": [
        "check_table_cols = \"SELECT * FROM job\"\n",
        "cur.execute(check_table_cols)\n",
        "col_name_list = [tuple[0] for tuple in cur.description]\n",
        "col_name_list"
      ],
      "execution_count": 8,
      "outputs": [
        {
          "output_type": "execute_result",
          "data": {
            "text/plain": [
              "['Year',\n",
              " 'DipEngineer',\n",
              " 'Medical',\n",
              " 'Agriculture',\n",
              " 'Science',\n",
              " 'Engineer',\n",
              " 'PGMedical',\n",
              " 'PGAgriculture',\n",
              " 'PGScience']"
            ]
          },
          "metadata": {
            "tags": []
          },
          "execution_count": 8
        }
      ]
    },
    {
      "cell_type": "code",
      "metadata": {
        "id": "lWBTi6bgO_k0"
      },
      "source": [
        "# df = pd.read_excel(\"jobseekers.xls\", header=0) \n",
        "# df.columns = [\"Year\", \"DipEngineer\", \"Medical\", \"Agriculture\",\\\n",
        "#               \"Veterinary\", \"Science\",\"Engineer\",\\\n",
        "#               \"GradTotal\", \"PGMedical\",\"PGAgriculture\",\\\n",
        "#               \"PGVeterinary\", \"PGScieance\", \"PGTotal\"]\n",
        "# df.head(10)"
      ],
      "execution_count": 10,
      "outputs": []
    }
  ]
}