{
  "nbformat": 4,
  "nbformat_minor": 0,
  "metadata": {
    "colab": {
      "provenance": [],
      "authorship_tag": "ABX9TyNOx31Bmh3zpJb2ikcwAQ8t"
    },
    "kernelspec": {
      "name": "python3",
      "display_name": "Python 3"
    },
    "language_info": {
      "name": "python"
    }
  },
  "cells": [
    {
      "cell_type": "markdown",
      "source": [
        "[Reference](https://blog.devgenius.io/duckdb-whats-the-quack-about-baca00e9f865)"
      ],
      "metadata": {
        "id": "ePxUzI5UHUZu"
      }
    },
    {
      "cell_type": "code",
      "execution_count": null,
      "metadata": {
        "id": "nErzkGlqHNXW"
      },
      "outputs": [],
      "source": [
        "# CSV\n",
        "import pandas as pd \n",
        "def save_as_csv(file): \n",
        "  df = pd.read_excel(file, header=3) \n",
        "  df.to_csv(file.replace('.xlsx', '.csv'), header=True, sep='|', index=False)\n",
        "\n",
        "# Connect to duckdb\n",
        "\n",
        "# D create table electricity_daily_load as select * from read_csv_auto('/ginlong-duckdb/source/*.csv');\n",
        "# D describe electricity_daily_load;\n",
        "\n",
        "import duckdb\n",
        "import pandas as pd\n",
        "\n",
        "duckdb_conn = duckdb.connect(database=':memory:')\n",
        "duckdb_conn.execute(\"create table electricity_daily_load as select * from read_csv_auto('/ginlong-duckdb/source/*.csv')\");\n",
        "duckdb_conn.execute(\"describe electricity_daily_load\");\n",
        "duckdb_conn.fetch_df()\n",
        "\n",
        "alter table electricity_daily_load alter \"Daily Generation (Active)(kWh)\" set not null;\n",
        "alter table electricity_daily_load alter Time set not null;\n",
        "\n",
        "describe electricity_daily_load;\n",
        "\n",
        "create table electricity_daily_load_manual as\n",
        "select *\n",
        "from read_csv('/ginlong-duckdb/source/*.csv', \n",
        "    columns={'Time':'TIMESTAMP',\n",
        "      'InverterSN':'VARCHAR',\n",
        "      'Data LoggerSN':'INTEGER',\n",
        "      'Alert Details':'VARCHAR',\n",
        "      'Alert Code':'VARCHAR',\n",
        "      'DC Voltage PV1(V)':'DOUBLE',\n",
        "      'DC Voltage PV2(V)':'DOUBLE',\n",
        "      'DC Current1(A)':'DOUBLE',\n",
        "      'DC Current2(A)':'DOUBLE',\n",
        "      'AC Voltage R/U/A(V)':'DOUBLE',\n",
        "      'AC Voltage S/V/B(V)':'DOUBLE',\n",
        "      'AC Voltage T/W/C(V)':'DOUBLE',\n",
        "      'AC Current R/U/A(A)':'DOUBLE',\n",
        "      'AC Current S/V/B(A)':'DOUBLE',\n",
        "      'AC Current T/W/C(A)':'DOUBLE',\n",
        "      'AC Output Total Power (Active)(W)':'DOUBLE',\n",
        "      'AC Output Frequency R(Hz)':'DOUBLE',\n",
        "      'Generation of Last Month (Active)(kWh)':'INTEGER',\n",
        "      'Daily Generation (Active)(kWh)':'DOUBLE',\n",
        "      'Total Generation (Active)(kWh)':'DOUBLE',\n",
        "      'Power Grid Total Power(W)':'INTEGER',\n",
        "      'Power Grid Total Reactive Power(Var)':'VARCHAR',\n",
        "      'Power Grid Total Apparent Power(VA)':'INTEGER',\n",
        "      'Grid Power Factor':'INTEGER',\n",
        "      'Inverter Temperature(℃)':'DOUBLE',\n",
        "      'Power Limitation Percentage':'DOUBLE',\n",
        "      'Power On/Off Status':'INTEGER'}, sep = '|', skip=1);\n",
        "\n",
        "D select * from information_schema.tables;\n",
        "D select * from duckdb_tables();\n",
        "\n",
        "D .open '/ginlong-duckdb/source/mydatabase.duckdb'"
      ]
    }
  ]
}
