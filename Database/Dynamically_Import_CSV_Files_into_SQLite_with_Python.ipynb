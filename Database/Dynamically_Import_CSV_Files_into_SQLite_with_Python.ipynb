{
  "nbformat": 4,
  "nbformat_minor": 0,
  "metadata": {
    "colab": {
      "provenance": [],
      "authorship_tag": "ABX9TyOGJuHn+9hhoV/ap5v169/4"
    },
    "kernelspec": {
      "name": "python3",
      "display_name": "Python 3"
    },
    "language_info": {
      "name": "python"
    }
  },
  "cells": [
    {
      "cell_type": "markdown",
      "source": [
        "[Reference](https://medium.com/@ccpythonprogramming/dynamically-import-csv-files-into-sqlite-with-python-3c9ba07fe559)"
      ],
      "metadata": {
        "id": "_YPuoEO5VBAP"
      }
    },
    {
      "cell_type": "code",
      "execution_count": 1,
      "metadata": {
        "id": "UnX4xvlHU-JS"
      },
      "outputs": [],
      "source": [
        "import sqlite3\n",
        "import pandas as pd\n",
        "\n",
        "def create_table(c, table_name, columns):\n",
        "    columns_definition = ', '.join([f\"{col} TEXT\" for col in columns])\n",
        "    create_statement = f\"CREATE TABLE IF NOT EXISTS {table_name} ({columns_definition})\"\n",
        "    c.execute(create_statement)\n",
        "\n",
        "def insert_into_db(table_name, df):\n",
        "    conn = sqlite3.connect('example.db')\n",
        "    c = conn.cursor()\n",
        "\n",
        "    # Create table based on DataFrame columns\n",
        "    create_table(c, table_name, df.columns)\n",
        "\n",
        "    # Insert data into the table\n",
        "    for _, row in df.iterrows():\n",
        "        c.execute(f\"INSERT INTO {table_name} ({', '.join(df.columns)}) VALUES ({', '.join(['?'] * len(df.columns))})\", tuple(row))\n",
        "\n",
        "    conn.commit()\n",
        "    conn.close()\n",
        "    print(f\"Data from {table_name} has been inserted into the database.\")\n",
        "\n",
        "def process_excel(file_path, sheet_name=None):\n",
        "    # Read Excel file\n",
        "    df = pd.read_excel(file_path, sheet_name=sheet_name)\n",
        "    table_name = sheet_name if sheet_name else 'excel_data'\n",
        "    insert_into_db(table_name, df)\n",
        "\n",
        "def process_csv(file_path):\n",
        "    # Read CSV file\n",
        "    df = pd.read_csv(file_path)\n",
        "    table_name = file_path.split('/')[-1].replace('.csv', '')\n",
        "    insert_into_db(table_name, df)\n",
        "\n",
        "# Example usage\n",
        "# Processing Excel file with multiple sheets\n",
        "excel_file_path = 'data.xlsx'\n",
        "sheet_names = pd.ExcelFile(excel_file_path).sheet_names\n",
        "\n",
        "for sheet in sheet_names:\n",
        "    process_excel(excel_file_path, sheet_name=sheet)\n",
        "\n",
        "# Processing a CSV file\n",
        "csv_file_path = 'data.csv'\n",
        "process_csv(csv_file_path)"
      ]
    }
  ]
}
