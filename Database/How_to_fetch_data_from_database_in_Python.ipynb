{
  "nbformat": 4,
  "nbformat_minor": 0,
  "metadata": {
    "colab": {
      "provenance": [],
      "authorship_tag": "ABX9TyNz2z0uPwwH1rLGpNR7a7dZ"
    },
    "kernelspec": {
      "name": "python3",
      "display_name": "Python 3"
    },
    "language_info": {
      "name": "python"
    }
  },
  "cells": [
    {
      "cell_type": "markdown",
      "source": [
        "[Reference](https://medium.com/@blogshub4/how-to-fetch-data-from-database-in-python-ea4fa94c5aa7)"
      ],
      "metadata": {
        "id": "XsjxH2901e3b"
      }
    },
    {
      "cell_type": "code",
      "execution_count": 1,
      "metadata": {
        "id": "-5uJ0dCC04tQ"
      },
      "outputs": [],
      "source": [
        "import mysql.connector\n",
        "\n",
        "try:\n",
        "    connection = mysql.connector.connect(host='localhost',database='pythondb',user='root',password='')\n",
        "    sql_select_Query = \"select * from User\"\n",
        "    cursor = connection.cursor()\n",
        "    cursor.execute(sql_select_Query)\n",
        "    records = cursor.fetchall()\n",
        "    print(\"Total records: \", cursor.rowcount)\n",
        "    print(\"\\nPrinting each row\")\n",
        "    for row in records:\n",
        "        print(\"Id = \", row[0], )\n",
        "        print(\"Name = \", row[1])\n",
        "        print(\"Email  = \", row[2], \"\\n\")\n",
        "except mysql.connector.Error as e:\n",
        "    print(\"Data Fetching Error :\", e)\n",
        "finally:\n",
        "    if connection.is_connected():\n",
        "        connection.close()\n",
        "        cursor.close()\n",
        "        print(\"connection closed\")"
      ]
    },
    {
      "cell_type": "code",
      "source": [
        "import mysql.connector\n",
        "def fetchUser(id):\n",
        "    try:\n",
        "        connection = mysql.connector.connect(host='localhost',database='pythondb',user='root',password='')\n",
        "        cursor = connection.cursor()\n",
        "        sql_select_query = \"\"\"select * from User where id = %s\"\"\"\n",
        "        cursor.execute(sql_select_query, (id,))\n",
        "        record = cursor.fetchall()\n",
        "        for row in record:\n",
        "            print(\"Id = \", row[0], )\n",
        "            print(\"Name = \", row[1])\n",
        "            print(\"Email  = \", row[2], \"\\n\")\n",
        "    except mysql.connector.Error as error:\n",
        "        print(\"Error: Fetch error: {}\".format(error))\n",
        "    finally:\n",
        "        if connection.is_connected():\n",
        "            cursor.close()\n",
        "            connection.close()\n",
        "            print(\"Connection closed\")\n",
        "fetchUser(1)"
      ],
      "metadata": {
        "id": "LuspOAUf1jxW"
      },
      "execution_count": 2,
      "outputs": []
    },
    {
      "cell_type": "code",
      "source": [
        "import mysql.connector\n",
        "\n",
        "try:\n",
        "    connection = mysql.connector.connect(host='localhost',database='pythondb',user='root',password='')\n",
        "    mySql_select_Query = \"select * from User\"\n",
        "    cursor = connection.cursor(buffered=True)\n",
        "    cursor.execute(mySql_select_Query)\n",
        "    record = cursor.fetchone()\n",
        "    print(record)\n",
        "except mysql.connector.Error as error:\n",
        "        print(\"Error: Fetch error: {}\".format(error))\n",
        "finally:\n",
        "    if connection.is_connected():\n",
        "        cursor.close()\n",
        "        connection.close()\n",
        "        print(\"Connection closed\")"
      ],
      "metadata": {
        "id": "e54-YT1x1mcH"
      },
      "execution_count": 3,
      "outputs": []
    },
    {
      "cell_type": "code",
      "source": [
        "import mysql.connector\n",
        "from mysql.connector import Error\n",
        "\n",
        "try:\n",
        "    connection = mysql.connector.connect(host='localhost',database='pythondb',user='root',password='')\n",
        "    sql_select_Query = \"select * from User\"\n",
        "    cursor = connection.cursor(dictionary=True)\n",
        "    cursor.execute(sql_select_Query)\n",
        "    records = cursor.fetchall()\n",
        "    print(\"Fetching records with column name\")\n",
        "    for row in records:\n",
        "        id = row[\"Id\"]\n",
        "        name = row[\"Name\"]\n",
        "        email = row[\"Email\"]\n",
        "        print(id, name, email)\n",
        "except Error as e:\n",
        "    print(\"Error: Fetch error\", e)\n",
        "finally:\n",
        "    if connection.is_connected():\n",
        "        connection.close()\n",
        "        cursor.close()\n",
        "        print(\"Connection closed\")"
      ],
      "metadata": {
        "id": "N1Ya7Xh71p-x"
      },
      "execution_count": 4,
      "outputs": []
    }
  ]
}
