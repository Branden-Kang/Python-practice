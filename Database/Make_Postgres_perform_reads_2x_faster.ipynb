{
  "nbformat": 4,
  "nbformat_minor": 0,
  "metadata": {
    "colab": {
      "provenance": [],
      "authorship_tag": "ABX9TyNoeWMWjc9lubvEx+0ic7m7"
    },
    "kernelspec": {
      "name": "python3",
      "display_name": "Python 3"
    },
    "language_info": {
      "name": "python"
    }
  },
  "cells": [
    {
      "cell_type": "markdown",
      "source": [
        "[Reference](https://medium.com/shelf-io-engineering/how-did-we-make-postgres-perform-reads-2x-faster-with-partitioning-1a286f25cbbd)"
      ],
      "metadata": {
        "id": "FR1B03XVIek0"
      }
    },
    {
      "cell_type": "markdown",
      "source": [
        "```\n",
        "CREATE TABLE events.events\n",
        "(\n",
        "    customer_id             varchar(16)  not null,\n",
        "    event_id                varchar(36)  not null,\n",
        "    created_at timestamp    not null,\n",
        "    --other fields\n",
        "    constraint unique_customer_event\n",
        "        unique (customer_id, event_id, created_at)\n",
        ") PARTITION BY RANGE (created_at);\n",
        "```"
      ],
      "metadata": {
        "id": "JM5T8bxOI3Br"
      }
    },
    {
      "cell_type": "markdown",
      "source": [
        "```\n",
        "CREATE TABLE IF NOT EXISTS events.default_events_partition PARTITION OF events.events_partitioned_by_date DEFAULT;\n",
        "ALTER TABLE events.default_events_partition\n",
        "    ADD PRIMARY KEY (customer_id, event_id);\n",
        "\n",
        "CREATE TABLE IF NOT EXISTS events.events_2020_01 PARTITION OF events.events FOR VALUES FROM ('2020-01-01') TO ('2020-02-01');\n",
        "ALTER TABLE events.events_2020_01\n",
        "    ADD PRIMARY KEY (customer_id, event_id);\n",
        "--- repeat command bellow changing partition dates and ranges\n",
        "```"
      ],
      "metadata": {
        "id": "-1MyFJqMI5ct"
      }
    },
    {
      "cell_type": "markdown",
      "source": [
        "```\n",
        "DO $$\n",
        "BEGIN\n",
        "    IF NOT EXISTS (SELECT FROM pg_class WHERE relname  = 'events_' || to_char(now() + interval '1 month', 'YYYY_MM'))\n",
        "    THEN\n",
        "        EXECUTE format(\n",
        "            'CREATE TABLE IF NOT EXISTS events.events_%s PARTITION OF events.events FOR VALUES FROM (''%s'') TO (''%s'');' ||\n",
        "            'ALTER TABLE events.events_%s ADD PRIMARY KEY (customer_id, event_id);',\n",
        "            to_char(now() + interval '1 month', 'YYYY_MM'),\n",
        "            to_char(date_trunc('month', now() + interval '1 month'), 'YYYY-MM-DD'),\n",
        "            to_char(date_trunc('month', now() + interval '2 months'), 'YYYY-MM-DD'),\n",
        "            to_char(now() + interval '1 month', 'YYYY_MM')\n",
        "        );\n",
        "    END IF;\n",
        "END $$;\n",
        "```"
      ],
      "metadata": {
        "id": "KJvdgxYnI73b"
      }
    },
    {
      "cell_type": "markdown",
      "source": [
        "```\n",
        "begin;\n",
        "alter table events.events\n",
        "    rename to old_events;\n",
        "alter table events.events_partitioned_by_date\n",
        "    rename TO events;\n",
        "commit;\n",
        "```"
      ],
      "metadata": {
        "id": "4KpxHM0pI_xQ"
      }
    }
  ]
}
