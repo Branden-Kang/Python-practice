{
  "nbformat": 4,
  "nbformat_minor": 0,
  "metadata": {
    "colab": {
      "name": "The Best of Python’s Built-in Libraries.ipynb",
      "provenance": [],
      "authorship_tag": "ABX9TyNluChAoUCr68+NsFZOeVuU"
    },
    "kernelspec": {
      "name": "python3",
      "display_name": "Python 3"
    }
  },
  "cells": [
    {
      "cell_type": "markdown",
      "metadata": {
        "id": "lpycBQoh3sZo"
      },
      "source": [
        "[Reference](https://levelup.gitconnected.com/the-best-of-pythons-built-in-libraries-e08495396ef)"
      ]
    },
    {
      "cell_type": "markdown",
      "metadata": {
        "id": "Up3rn4lO3vc_"
      },
      "source": [
        "# 1. OS"
      ]
    },
    {
      "cell_type": "code",
      "metadata": {
        "colab": {
          "base_uri": "https://localhost:8080/"
        },
        "id": "SKdD9Oqe3pfg",
        "outputId": "450dcef5-7898-4e99-9f91-76a804aa973b"
      },
      "source": [
        "import os\n",
        "\n",
        "os.system(\"echo 'My name is branden'\")"
      ],
      "execution_count": 3,
      "outputs": [
        {
          "output_type": "execute_result",
          "data": {
            "text/plain": [
              "0"
            ]
          },
          "metadata": {
            "tags": []
          },
          "execution_count": 3
        }
      ]
    },
    {
      "cell_type": "code",
      "metadata": {
        "colab": {
          "base_uri": "https://localhost:8080/",
          "height": 37
        },
        "id": "AcxtNEQa3zMh",
        "outputId": "53b176b0-ced0-489a-d040-9aafda79c8a8"
      },
      "source": [
        "os.getcwd()"
      ],
      "execution_count": 4,
      "outputs": [
        {
          "output_type": "execute_result",
          "data": {
            "application/vnd.google.colaboratory.intrinsic+json": {
              "type": "string"
            },
            "text/plain": [
              "'/content'"
            ]
          },
          "metadata": {
            "tags": []
          },
          "execution_count": 4
        }
      ]
    },
    {
      "cell_type": "code",
      "metadata": {
        "colab": {
          "base_uri": "https://localhost:8080/"
        },
        "id": "rZ_8idyE31xs",
        "outputId": "bce92c8b-1cb1-4341-a339-aa428462f737"
      },
      "source": [
        "os.listdir('/content')"
      ],
      "execution_count": 5,
      "outputs": [
        {
          "output_type": "execute_result",
          "data": {
            "text/plain": [
              "['.config', 'sample_data']"
            ]
          },
          "metadata": {
            "tags": []
          },
          "execution_count": 5
        }
      ]
    },
    {
      "cell_type": "code",
      "metadata": {
        "id": "MZYEVeCF37iL"
      },
      "source": [
        "os.mkdir(\"Data Science Projects\")"
      ],
      "execution_count": 6,
      "outputs": []
    },
    {
      "cell_type": "code",
      "metadata": {
        "id": "5G3jQ02x3-vj"
      },
      "source": [
        "os.makedirs(\"Documents/Data Science Projects/Project 1\")"
      ],
      "execution_count": 7,
      "outputs": []
    },
    {
      "cell_type": "code",
      "metadata": {
        "id": "jOl7fNMX3_N2"
      },
      "source": [
        "os.remove(\"data.txt\")  "
      ],
      "execution_count": 8,
      "outputs": []
    },
    {
      "cell_type": "code",
      "metadata": {
        "colab": {
          "base_uri": "https://localhost:8080/"
        },
        "id": "mG1htTcY4ANB",
        "outputId": "647b4d45-3e8c-469c-a680-8929e8ab8989"
      },
      "source": [
        "os.listdir('/content')"
      ],
      "execution_count": 9,
      "outputs": [
        {
          "output_type": "execute_result",
          "data": {
            "text/plain": [
              "['.config', 'Documents', 'Data Science Projects', 'sample_data']"
            ]
          },
          "metadata": {
            "tags": []
          },
          "execution_count": 9
        }
      ]
    },
    {
      "cell_type": "code",
      "metadata": {
        "id": "4knZ_yJW4B3G"
      },
      "source": [
        "os.rmdir(\"Data Science Projects\")  "
      ],
      "execution_count": 10,
      "outputs": []
    },
    {
      "cell_type": "code",
      "metadata": {
        "id": "XTDqSi0D4Ct4"
      },
      "source": [
        "os.removedirs(\"Documents/Data Science Projects/Project 1\") "
      ],
      "execution_count": 11,
      "outputs": []
    },
    {
      "cell_type": "code",
      "metadata": {
        "id": "LfrdgWQB4DkL"
      },
      "source": [
        "os.rename(\"My Documents\", \"Your Documents\")"
      ],
      "execution_count": 12,
      "outputs": []
    },
    {
      "cell_type": "code",
      "metadata": {
        "colab": {
          "base_uri": "https://localhost:8080/"
        },
        "id": "dmzxWg8r4FXF",
        "outputId": "1ac602ea-02e0-4c23-f7d7-5849abf05e6e"
      },
      "source": [
        "os.listdir('/content')"
      ],
      "execution_count": 13,
      "outputs": [
        {
          "output_type": "execute_result",
          "data": {
            "text/plain": [
              "['.config', 'sample_data']"
            ]
          },
          "metadata": {
            "tags": []
          },
          "execution_count": 13
        }
      ]
    },
    {
      "cell_type": "markdown",
      "metadata": {
        "id": "s3Bty8tx4Ht2"
      },
      "source": [
        "# file paths"
      ]
    },
    {
      "cell_type": "code",
      "metadata": {
        "colab": {
          "base_uri": "https://localhost:8080/",
          "height": 37
        },
        "id": "NkUxEACf4GY9",
        "outputId": "33ab3b35-360e-4e51-eff5-f6f3ba0054b2"
      },
      "source": [
        "file = \"process.py\"\n",
        "folder = \"Documents/project1\"\n",
        "full_path = os.path.join(folder, file)\n",
        "full_path"
      ],
      "execution_count": 14,
      "outputs": [
        {
          "output_type": "execute_result",
          "data": {
            "application/vnd.google.colaboratory.intrinsic+json": {
              "type": "string"
            },
            "text/plain": [
              "'Documents/project1/process.py'"
            ]
          },
          "metadata": {
            "tags": []
          },
          "execution_count": 14
        }
      ]
    },
    {
      "cell_type": "code",
      "metadata": {
        "colab": {
          "base_uri": "https://localhost:8080/",
          "height": 37
        },
        "id": "3laaK-ot4LeU",
        "outputId": "fc943ba8-9bc5-499f-afaf-f8616341baf6"
      },
      "source": [
        "file = os.path.basename(full_path)\n",
        "file"
      ],
      "execution_count": 15,
      "outputs": [
        {
          "output_type": "execute_result",
          "data": {
            "application/vnd.google.colaboratory.intrinsic+json": {
              "type": "string"
            },
            "text/plain": [
              "'process.py'"
            ]
          },
          "metadata": {
            "tags": []
          },
          "execution_count": 15
        }
      ]
    },
    {
      "cell_type": "code",
      "metadata": {
        "colab": {
          "base_uri": "https://localhost:8080/",
          "height": 37
        },
        "id": "ENXk00fM4Nvn",
        "outputId": "e83e2001-a281-49b4-fa3a-719c1825d80f"
      },
      "source": [
        "folder = os.path.dirname(full_path)\n",
        "folder"
      ],
      "execution_count": 16,
      "outputs": [
        {
          "output_type": "execute_result",
          "data": {
            "application/vnd.google.colaboratory.intrinsic+json": {
              "type": "string"
            },
            "text/plain": [
              "'Documents/project1'"
            ]
          },
          "metadata": {
            "tags": []
          },
          "execution_count": 16
        }
      ]
    },
    {
      "cell_type": "code",
      "metadata": {
        "colab": {
          "base_uri": "https://localhost:8080/"
        },
        "id": "CEKhZHua4O9O",
        "outputId": "6bf4e974-512c-44df-ee65-5793d611e32f"
      },
      "source": [
        "os.path.exists(full_path)"
      ],
      "execution_count": 17,
      "outputs": [
        {
          "output_type": "execute_result",
          "data": {
            "text/plain": [
              "False"
            ]
          },
          "metadata": {
            "tags": []
          },
          "execution_count": 17
        }
      ]
    },
    {
      "cell_type": "code",
      "metadata": {
        "colab": {
          "base_uri": "https://localhost:8080/"
        },
        "id": "KHHDfVL54QhF",
        "outputId": "4c2abad1-21da-4a2c-cac6-fe61c56bee79"
      },
      "source": [
        "name, extension = os.path.splitext(file)\n",
        "print(name)\n",
        "print(extension)"
      ],
      "execution_count": 18,
      "outputs": [
        {
          "output_type": "stream",
          "text": [
            "process\n",
            ".py\n"
          ],
          "name": "stdout"
        }
      ]
    },
    {
      "cell_type": "markdown",
      "metadata": {
        "id": "e4h5yWju4X6n"
      },
      "source": [
        "# 3. unpacking from lists"
      ]
    },
    {
      "cell_type": "code",
      "metadata": {
        "colab": {
          "base_uri": "https://localhost:8080/"
        },
        "id": "rOnaPjxf4TSL",
        "outputId": "b8599c0d-a415-4435-8407-81c7868fe7ac"
      },
      "source": [
        "a, b = range(2)\n",
        "print(a)\n",
        "print(b)"
      ],
      "execution_count": 19,
      "outputs": [
        {
          "output_type": "stream",
          "text": [
            "0\n",
            "1\n"
          ],
          "name": "stdout"
        }
      ]
    },
    {
      "cell_type": "code",
      "metadata": {
        "colab": {
          "base_uri": "https://localhost:8080/"
        },
        "id": "xgZ5PD1L4bae",
        "outputId": "14d5687d-660e-44d4-ef6a-a283208bbf2e"
      },
      "source": [
        "a, b, *c = range(8)\n",
        "print(a)\n",
        "print(b)\n",
        "print(c)"
      ],
      "execution_count": 20,
      "outputs": [
        {
          "output_type": "stream",
          "text": [
            "0\n",
            "1\n",
            "[2, 3, 4, 5, 6, 7]\n"
          ],
          "name": "stdout"
        }
      ]
    },
    {
      "cell_type": "code",
      "metadata": {
        "colab": {
          "base_uri": "https://localhost:8080/"
        },
        "id": "Gxmy0-sz4fLl",
        "outputId": "e0bd436e-1147-41a4-bcaf-04720ea8de37"
      },
      "source": [
        "a, *b, c = range(8)\n",
        "print(a)\n",
        "print(b)\n",
        "print(c)"
      ],
      "execution_count": 21,
      "outputs": [
        {
          "output_type": "stream",
          "text": [
            "0\n",
            "[1, 2, 3, 4, 5, 6]\n",
            "7\n"
          ],
          "name": "stdout"
        }
      ]
    },
    {
      "cell_type": "markdown",
      "metadata": {
        "id": "4beh41O94j3b"
      },
      "source": [
        "# 4. Working with time"
      ]
    },
    {
      "cell_type": "code",
      "metadata": {
        "colab": {
          "base_uri": "https://localhost:8080/"
        },
        "id": "ls0MEZOY4ioq",
        "outputId": "a8830c2c-443d-4296-bb58-7e8cef18bbc8"
      },
      "source": [
        "import time\n",
        "import datetime\n",
        "import calendar\n",
        "\n",
        "datetime.datetime.now()"
      ],
      "execution_count": 22,
      "outputs": [
        {
          "output_type": "execute_result",
          "data": {
            "text/plain": [
              "datetime.datetime(2020, 12, 4, 13, 13, 9, 499374)"
            ]
          },
          "metadata": {
            "tags": []
          },
          "execution_count": 22
        }
      ]
    },
    {
      "cell_type": "code",
      "metadata": {
        "colab": {
          "base_uri": "https://localhost:8080/"
        },
        "id": "xjw3YorY4nI4",
        "outputId": "4ca00681-80d7-4733-d728-f4976a896b64"
      },
      "source": [
        "datetime.datetime.now().time()"
      ],
      "execution_count": 23,
      "outputs": [
        {
          "output_type": "execute_result",
          "data": {
            "text/plain": [
              "datetime.time(13, 13, 13, 142688)"
            ]
          },
          "metadata": {
            "tags": []
          },
          "execution_count": 23
        }
      ]
    },
    {
      "cell_type": "code",
      "metadata": {
        "id": "ITw4qrmx4oB0"
      },
      "source": [
        "time.sleep(5)"
      ],
      "execution_count": 25,
      "outputs": []
    },
    {
      "cell_type": "code",
      "metadata": {
        "colab": {
          "base_uri": "https://localhost:8080/"
        },
        "id": "DKYsY0Xx4pA3",
        "outputId": "32392542-82f8-4adf-fdf9-2ba4806e01b9"
      },
      "source": [
        "start = time.time()\n",
        "100 / 5\n",
        "end = time.time()\n",
        "print(end-start)"
      ],
      "execution_count": 26,
      "outputs": [
        {
          "output_type": "stream",
          "text": [
            "5.507469177246094e-05\n"
          ],
          "name": "stdout"
        }
      ]
    },
    {
      "cell_type": "markdown",
      "metadata": {
        "id": "wFfsv0nG4xFp"
      },
      "source": [
        "# 5. Functions on lists"
      ]
    },
    {
      "cell_type": "code",
      "metadata": {
        "colab": {
          "base_uri": "https://localhost:8080/"
        },
        "id": "FWuuJcYg4wQT",
        "outputId": "db2018ab-8cc5-4b96-c217-1db4cb981746"
      },
      "source": [
        "list_1 = [7, 26, 34, 2, 12, 98, 56]\n",
        "list_2 = sorted(list_1)\n",
        "list_2"
      ],
      "execution_count": 27,
      "outputs": [
        {
          "output_type": "execute_result",
          "data": {
            "text/plain": [
              "[2, 7, 12, 26, 34, 56, 98]"
            ]
          },
          "metadata": {
            "tags": []
          },
          "execution_count": 27
        }
      ]
    },
    {
      "cell_type": "code",
      "metadata": {
        "colab": {
          "base_uri": "https://localhost:8080/"
        },
        "id": "tdUOvd5K4zhw",
        "outputId": "d62de20c-c7d9-4397-bafe-dc0b0906f4d8"
      },
      "source": [
        "list_sum = sum(list_1) \n",
        "max_val = max(list_1)\n",
        "min_val = min(list_1)\n",
        "print(list_sum)\n",
        "print(max_val)\n",
        "print(min_val)"
      ],
      "execution_count": 28,
      "outputs": [
        {
          "output_type": "stream",
          "text": [
            "235\n",
            "98\n",
            "2\n"
          ],
          "name": "stdout"
        }
      ]
    },
    {
      "cell_type": "code",
      "metadata": {
        "colab": {
          "base_uri": "https://localhost:8080/"
        },
        "id": "le0masXd44kb",
        "outputId": "1b120075-962f-4f85-d82a-8b466b23c49c"
      },
      "source": [
        "list(\"bob\")"
      ],
      "execution_count": 29,
      "outputs": [
        {
          "output_type": "execute_result",
          "data": {
            "text/plain": [
              "['b', 'o', 'b']"
            ]
          },
          "metadata": {
            "tags": []
          },
          "execution_count": 29
        }
      ]
    },
    {
      "cell_type": "code",
      "metadata": {
        "id": "8KsYoyab45i9"
      },
      "source": [
        "list_1.reverse()"
      ],
      "execution_count": 30,
      "outputs": []
    },
    {
      "cell_type": "code",
      "metadata": {
        "id": "4SF_wdrk46ZK"
      },
      "source": [
        "bool_list = [True, False, True, True]"
      ],
      "execution_count": 31,
      "outputs": []
    },
    {
      "cell_type": "code",
      "metadata": {
        "colab": {
          "base_uri": "https://localhost:8080/"
        },
        "id": "8nO6kK7Y47Yc",
        "outputId": "a26ef1f8-3792-4aea-d760-54127cdf2f5f"
      },
      "source": [
        "any(bool_list)"
      ],
      "execution_count": 32,
      "outputs": [
        {
          "output_type": "execute_result",
          "data": {
            "text/plain": [
              "True"
            ]
          },
          "metadata": {
            "tags": []
          },
          "execution_count": 32
        }
      ]
    },
    {
      "cell_type": "code",
      "metadata": {
        "colab": {
          "base_uri": "https://localhost:8080/"
        },
        "id": "XQDH4rd448JE",
        "outputId": "331be570-c57e-4ddd-f202-13be76f11158"
      },
      "source": [
        "all(bool_list)"
      ],
      "execution_count": 33,
      "outputs": [
        {
          "output_type": "execute_result",
          "data": {
            "text/plain": [
              "False"
            ]
          },
          "metadata": {
            "tags": []
          },
          "execution_count": 33
        }
      ]
    },
    {
      "cell_type": "code",
      "metadata": {
        "colab": {
          "base_uri": "https://localhost:8080/"
        },
        "id": "FE3d7cg9488_",
        "outputId": "9ec218c9-2020-4970-dea8-00db47b31ba3"
      },
      "source": [
        "for index, value in enumerate(list_1):\n",
        "    print(index, \" \", value)"
      ],
      "execution_count": 34,
      "outputs": [
        {
          "output_type": "stream",
          "text": [
            "0   56\n",
            "1   98\n",
            "2   12\n",
            "3   2\n",
            "4   34\n",
            "5   26\n",
            "6   7\n"
          ],
          "name": "stdout"
        }
      ]
    },
    {
      "cell_type": "markdown",
      "metadata": {
        "id": "V7lzdlBC5DdE"
      },
      "source": [
        "# 6. strings"
      ]
    },
    {
      "cell_type": "code",
      "metadata": {
        "colab": {
          "base_uri": "https://localhost:8080/"
        },
        "id": "_5sBsn8_5A5k",
        "outputId": "4dd735d8-3c73-4d0f-a85e-99b0d76a394c"
      },
      "source": [
        "sentence = \"Hi I'm Bob!\"\n",
        "if \"Bob\" in sentence:\n",
        "    print(\"YES\")"
      ],
      "execution_count": 35,
      "outputs": [
        {
          "output_type": "stream",
          "text": [
            "YES\n"
          ],
          "name": "stdout"
        }
      ]
    },
    {
      "cell_type": "code",
      "metadata": {
        "colab": {
          "base_uri": "https://localhost:8080/"
        },
        "id": "4CXkuIYR5FEN",
        "outputId": "95c3214d-16cb-43a4-8668-2550a8db2722"
      },
      "source": [
        "if \"bOb\".lower() in sentence.lower():\n",
        "    print(\"YES\")"
      ],
      "execution_count": 36,
      "outputs": [
        {
          "output_type": "stream",
          "text": [
            "YES\n"
          ],
          "name": "stdout"
        }
      ]
    },
    {
      "cell_type": "code",
      "metadata": {
        "colab": {
          "base_uri": "https://localhost:8080/"
        },
        "id": "SeOniEva5F8O",
        "outputId": "6d95b4a3-37fa-4431-dbc8-fd29da364003"
      },
      "source": [
        "sentence.lower()\n",
        "print(sentence)\n",
        "sentence.upper()\n",
        "print(sentence)"
      ],
      "execution_count": 37,
      "outputs": [
        {
          "output_type": "stream",
          "text": [
            "Hi I'm Bob!\n",
            "Hi I'm Bob!\n"
          ],
          "name": "stdout"
        }
      ]
    },
    {
      "cell_type": "code",
      "metadata": {
        "colab": {
          "base_uri": "https://localhost:8080/"
        },
        "id": "yeayCvWa5JSK",
        "outputId": "c9209d03-ead8-4593-ec2b-ef722fba9038"
      },
      "source": [
        "sentence.isalpha() # Alphabetic characters only (no symbols or nums)\n",
        "sentence.isnumeric() # Numbers only\n",
        "sentence.islower() # Is it all lower case?\n",
        "sentence.isupper() # Is it all upper case?"
      ],
      "execution_count": 38,
      "outputs": [
        {
          "output_type": "execute_result",
          "data": {
            "text/plain": [
              "False"
            ]
          },
          "metadata": {
            "tags": []
          },
          "execution_count": 38
        }
      ]
    },
    {
      "cell_type": "code",
      "metadata": {
        "colab": {
          "base_uri": "https://localhost:8080/",
          "height": 37
        },
        "id": "sa-y7eZ05Knu",
        "outputId": "2733fb9a-89ab-4ae0-bd7b-0364f9ca1495"
      },
      "source": [
        "sentence.capitalize() # First char is capitalized\n",
        "sentence.lstrip() # Remove whitespace on left side\n",
        "sentence.rstrip() # Remove whitespace on right side\n",
        "sentence.strip() # Remove whitespace on both sides"
      ],
      "execution_count": 39,
      "outputs": [
        {
          "output_type": "execute_result",
          "data": {
            "application/vnd.google.colaboratory.intrinsic+json": {
              "type": "string"
            },
            "text/plain": [
              "\"Hi I'm Bob!\""
            ]
          },
          "metadata": {
            "tags": []
          },
          "execution_count": 39
        }
      ]
    },
    {
      "cell_type": "code",
      "metadata": {
        "colab": {
          "base_uri": "https://localhost:8080/",
          "height": 37
        },
        "id": "Ckoyqfyg5L1l",
        "outputId": "a03c034a-eb15-40a5-9b9f-2534fc16f3eb"
      },
      "source": [
        "\" \".join([\"Bob\",\"has\",\"a\",\"balloon\"])"
      ],
      "execution_count": 40,
      "outputs": [
        {
          "output_type": "execute_result",
          "data": {
            "application/vnd.google.colaboratory.intrinsic+json": {
              "type": "string"
            },
            "text/plain": [
              "'Bob has a balloon'"
            ]
          },
          "metadata": {
            "tags": []
          },
          "execution_count": 40
        }
      ]
    },
    {
      "cell_type": "code",
      "metadata": {
        "colab": {
          "base_uri": "https://localhost:8080/"
        },
        "id": "AAnlQCmK5NNm",
        "outputId": "dc9ae8a2-36e1-4e26-9ff6-ab23e0082eb0"
      },
      "source": [
        "\" \".join([\"Bob\",\"has\",\"a\",\"balloon\"]).split()"
      ],
      "execution_count": 41,
      "outputs": [
        {
          "output_type": "execute_result",
          "data": {
            "text/plain": [
              "['Bob', 'has', 'a', 'balloon']"
            ]
          },
          "metadata": {
            "tags": []
          },
          "execution_count": 41
        }
      ]
    },
    {
      "cell_type": "code",
      "metadata": {
        "colab": {
          "base_uri": "https://localhost:8080/"
        },
        "id": "FVVsspCe5Qnz",
        "outputId": "9dc25b39-f30b-4785-f28b-885193ab1c1e"
      },
      "source": [
        "\"Bob has a balloon\".split(\" \")"
      ],
      "execution_count": 42,
      "outputs": [
        {
          "output_type": "execute_result",
          "data": {
            "text/plain": [
              "['Bob', 'has', 'a', 'balloon']"
            ]
          },
          "metadata": {
            "tags": []
          },
          "execution_count": 42
        }
      ]
    },
    {
      "cell_type": "code",
      "metadata": {
        "colab": {
          "base_uri": "https://localhost:8080/",
          "height": 37
        },
        "id": "z0bH56T75SPo",
        "outputId": "d388702c-4e54-4021-89db-d38ea34cc7ce"
      },
      "source": [
        "\"Bob has a balloon\".replace(\"has\", \"is\")"
      ],
      "execution_count": 43,
      "outputs": [
        {
          "output_type": "execute_result",
          "data": {
            "application/vnd.google.colaboratory.intrinsic+json": {
              "type": "string"
            },
            "text/plain": [
              "'Bob is a balloon'"
            ]
          },
          "metadata": {
            "tags": []
          },
          "execution_count": 43
        }
      ]
    },
    {
      "cell_type": "markdown",
      "metadata": {
        "id": "EKRjVfKQ5Uh5"
      },
      "source": [
        "# 7. Math functions"
      ]
    },
    {
      "cell_type": "code",
      "metadata": {
        "id": "vRb9Nkh45TGy"
      },
      "source": [
        "import math"
      ],
      "execution_count": 44,
      "outputs": []
    },
    {
      "cell_type": "code",
      "metadata": {
        "colab": {
          "base_uri": "https://localhost:8080/"
        },
        "id": "cDQI6SwK5W2O",
        "outputId": "8f8cd7da-2f60-490a-a724-06315a3a4084"
      },
      "source": [
        "math.fmod(12, 5)"
      ],
      "execution_count": 45,
      "outputs": [
        {
          "output_type": "execute_result",
          "data": {
            "text/plain": [
              "2.0"
            ]
          },
          "metadata": {
            "tags": []
          },
          "execution_count": 45
        }
      ]
    },
    {
      "cell_type": "code",
      "metadata": {
        "colab": {
          "base_uri": "https://localhost:8080/"
        },
        "id": "G773xB1w5YE5",
        "outputId": "152de987-0d41-465a-b5f7-e7b42ed8c8d7"
      },
      "source": [
        "math.modf(96.12)"
      ],
      "execution_count": 46,
      "outputs": [
        {
          "output_type": "execute_result",
          "data": {
            "text/plain": [
              "(0.12000000000000455, 96.0)"
            ]
          },
          "metadata": {
            "tags": []
          },
          "execution_count": 46
        }
      ]
    },
    {
      "cell_type": "code",
      "metadata": {
        "colab": {
          "base_uri": "https://localhost:8080/"
        },
        "id": "NcU6GN2F5ZZI",
        "outputId": "ddef9958-2e9a-44bd-cecf-44e93280495c"
      },
      "source": [
        "math.hypot(2, 3) # Computes the Euclidean norm sqrt(x*x + y*y)"
      ],
      "execution_count": 48,
      "outputs": [
        {
          "output_type": "execute_result",
          "data": {
            "text/plain": [
              "3.605551275463989"
            ]
          },
          "metadata": {
            "tags": []
          },
          "execution_count": 48
        }
      ]
    }
  ]
}