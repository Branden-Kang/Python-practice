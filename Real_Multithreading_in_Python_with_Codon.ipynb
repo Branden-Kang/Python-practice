{
  "nbformat": 4,
  "nbformat_minor": 0,
  "metadata": {
    "colab": {
      "provenance": [],
      "authorship_tag": "ABX9TyPADLtvWe5QYxFN4U80Srtz"
    },
    "kernelspec": {
      "name": "python3",
      "display_name": "Python 3"
    },
    "language_info": {
      "name": "python"
    }
  },
  "cells": [
    {
      "cell_type": "markdown",
      "source": [
        "[Reference](https://python.plainenglish.io/real-multithreading-in-python-with-codon-9eb2c6c2faac)"
      ],
      "metadata": {
        "id": "HFzCLtpMdtob"
      }
    },
    {
      "cell_type": "code",
      "execution_count": 1,
      "metadata": {
        "colab": {
          "base_uri": "https://localhost:8080/"
        },
        "id": "zWd1F0gRcExp",
        "outputId": "571b2a2c-7c3b-4589-dc13-3e983fc4afef"
      },
      "outputs": [
        {
          "output_type": "stream",
          "name": "stdout",
          "text": [
            "time taken: 1.6058118343353271\n"
          ]
        }
      ],
      "source": [
        "import time\n",
        "start = time.time()\n",
        "\n",
        "import numpy as np\n",
        "import threading\n",
        "\n",
        "def calculate_matrix_inverse():\n",
        "    matrix = np.random.rand(1000, 1000)\n",
        "    inverse = np.linalg.inv(matrix)\n",
        "\n",
        "threads = [threading.Thread(target=calculate_matrix_inverse) for _ in range(4)]\n",
        "\n",
        "for thread in threads:\n",
        "    thread.start()\n",
        "\n",
        "for thread in threads:\n",
        "    thread.join()\n",
        "\n",
        "end = time.time()\n",
        "print('time taken:', end - start)"
      ]
    },
    {
      "cell_type": "code",
      "source": [
        "import numpy as np\n",
        "\n",
        "import time\n",
        "start = time.time()\n",
        "\n",
        "def calculate_matrix_inverse():\n",
        "    matrix = np.random.rand(1000, 1000)\n",
        "    inverse = np.linalg.inv(matrix)\n",
        "\n",
        "\n",
        "for i in range(4):\n",
        "    calculate_matrix_inverse()\n",
        "\n",
        "\n",
        "end = time.time()\n",
        "print('time taken:', end - start)"
      ],
      "metadata": {
        "colab": {
          "base_uri": "https://localhost:8080/"
        },
        "id": "SlUytqQodw1r",
        "outputId": "b7502920-20e0-41e9-9899-2d17c6e7cdca"
      },
      "execution_count": 2,
      "outputs": [
        {
          "output_type": "stream",
          "name": "stdout",
          "text": [
            "time taken: 1.324171781539917\n"
          ]
        }
      ]
    },
    {
      "cell_type": "code",
      "source": [
        "!/bin/bash -c \"$(curl -fsSL https://exaloop.io/install.sh)\""
      ],
      "metadata": {
        "colab": {
          "base_uri": "https://localhost:8080/"
        },
        "id": "KZsUV8eSdyl1",
        "outputId": "ec3dd428-bf13-4a6a-9db2-f7067b2736f8"
      },
      "execution_count": 4,
      "outputs": [
        {
          "output_type": "stream",
          "name": "stdout",
          "text": [
            "  % Total    % Received % Xferd  Average Speed   Time    Time     Time  Current\n",
            "                                 Dload  Upload   Total   Spent    Left  Speed\n",
            "  0     0    0     0    0     0      0      0 --:--:-- --:--:-- --:--:--     0\n",
            "  0     0    0     0    0     0      0      0 --:--:-- --:--:-- --:--:--     0\n",
            "codon-deploy/lib64/\n",
            "codon-deploy/lib64/pkgconfig/\n",
            "codon-deploy/lib64/pkgconfig/fmt.pc\n",
            "codon-deploy/lib64/cmake/\n",
            "codon-deploy/lib64/cmake/fmt/\n",
            "codon-deploy/lib64/cmake/fmt/fmt-config.cmake\n",
            "codon-deploy/lib64/cmake/fmt/fmt-targets.cmake\n",
            "codon-deploy/lib64/cmake/fmt/fmt-targets-release.cmake\n",
            "codon-deploy/lib64/cmake/fmt/fmt-config-version.cmake\n",
            "codon-deploy/lib64/libfmt.a\n",
            "codon-deploy/bin/\n",
            "codon-deploy/bin/codon\n",
            "codon-deploy/include/\n",
            "codon-deploy/include/fmt/\n",
            "codon-deploy/include/fmt/printf.h\n",
            "codon-deploy/include/fmt/os.h\n",
            "codon-deploy/include/fmt/args.h\n",
            "codon-deploy/include/fmt/xchar.h\n",
            "codon-deploy/include/fmt/chrono.h\n",
            "codon-deploy/include/fmt/color.h\n",
            "codon-deploy/include/fmt/format-inl.h\n",
            "codon-deploy/include/fmt/format.h\n",
            "codon-deploy/include/fmt/compile.h\n",
            "codon-deploy/include/fmt/std.h\n",
            "codon-deploy/include/fmt/ranges.h\n",
            "codon-deploy/include/fmt/ostream.h\n",
            "codon-deploy/include/fmt/core.h\n",
            "codon-deploy/include/peglib.h\n",
            "codon-deploy/include/codon/\n",
            "codon-deploy/include/codon/cir/\n",
            "codon-deploy/include/codon/cir/flow.h\n",
            "codon-deploy/include/codon/cir/transform/\n",
            "codon-deploy/include/codon/cir/transform/folding/\n",
            "codon-deploy/include/codon/cir/transform/folding/const_prop.h\n",
            "codon-deploy/include/codon/cir/transform/folding/const_fold.h\n",
            "codon-deploy/include/codon/cir/transform/folding/rule.h\n",
            "codon-deploy/include/codon/cir/transform/folding/folding.h\n",
            "codon-deploy/include/codon/cir/transform/cleanup/\n",
            "codon-deploy/include/codon/cir/transform/cleanup/global_demote.h\n",
            "codon-deploy/include/codon/cir/transform/cleanup/replacer.h\n",
            "codon-deploy/include/codon/cir/transform/cleanup/canonical.h\n",
            "codon-deploy/include/codon/cir/transform/cleanup/dead_code.h\n",
            "codon-deploy/include/codon/cir/transform/lowering/\n",
            "codon-deploy/include/codon/cir/transform/lowering/pipeline.h\n",
            "codon-deploy/include/codon/cir/transform/lowering/imperative.h\n",
            "codon-deploy/include/codon/cir/transform/pass.h\n",
            "codon-deploy/include/codon/cir/transform/rewrite.h\n",
            "codon-deploy/include/codon/cir/transform/parallel/\n",
            "codon-deploy/include/codon/cir/transform/parallel/openmp.h\n",
            "codon-deploy/include/codon/cir/transform/parallel/schedule.h\n",
            "codon-deploy/include/codon/cir/transform/manager.h\n",
            "codon-deploy/include/codon/cir/transform/pythonic/\n",
            "codon-deploy/include/codon/cir/transform/pythonic/generator.h\n",
            "codon-deploy/include/codon/cir/transform/pythonic/str.h\n",
            "codon-deploy/include/codon/cir/transform/pythonic/io.h\n",
            "codon-deploy/include/codon/cir/transform/pythonic/list.h\n",
            "codon-deploy/include/codon/cir/transform/pythonic/dict.h\n",
            "codon-deploy/include/codon/cir/module.h\n",
            "codon-deploy/include/codon/cir/attribute.h\n",
            "codon-deploy/include/codon/cir/cir.h\n",
            "codon-deploy/include/codon/cir/types/\n",
            "codon-deploy/include/codon/cir/types/types.h\n",
            "codon-deploy/include/codon/cir/pyextension.h\n",
            "codon-deploy/include/codon/cir/func.h\n",
            "codon-deploy/include/codon/cir/llvm/\n",
            "codon-deploy/include/codon/cir/llvm/llvm.h\n",
            "codon-deploy/include/codon/cir/llvm/optimize.h\n",
            "codon-deploy/include/codon/cir/llvm/llvisitor.h\n",
            "codon-deploy/include/codon/cir/llvm/gpu.h\n",
            "codon-deploy/include/codon/cir/analyze/\n",
            "codon-deploy/include/codon/cir/analyze/dataflow/\n",
            "codon-deploy/include/codon/cir/analyze/dataflow/capture.h\n",
            "codon-deploy/include/codon/cir/analyze/dataflow/reaching.h\n",
            "codon-deploy/include/codon/cir/analyze/dataflow/dominator.h\n",
            "codon-deploy/include/codon/cir/analyze/dataflow/cfg.h\n",
            "codon-deploy/include/codon/cir/analyze/module/\n",
            "codon-deploy/include/codon/cir/analyze/module/side_effect.h\n",
            "codon-deploy/include/codon/cir/analyze/module/global_vars.h\n",
            "codon-deploy/include/codon/cir/analyze/analysis.h\n",
            "codon-deploy/include/codon/cir/const.h\n",
            "codon-deploy/include/codon/cir/instr.h\n",
            "codon-deploy/include/codon/cir/dsl/\n",
            "codon-deploy/include/codon/cir/dsl/nodes.h\n",
            "codon-deploy/include/codon/cir/dsl/codegen.h\n",
            "codon-deploy/include/codon/cir/util/\n",
            "codon-deploy/include/codon/cir/util/cloning.h\n",
            "codon-deploy/include/codon/cir/util/iterators.h\n",
            "codon-deploy/include/codon/cir/util/inlining.h\n",
            "codon-deploy/include/codon/cir/util/packs.h\n",
            "codon-deploy/include/codon/cir/util/format.h\n",
            "codon-deploy/include/codon/cir/util/side_effect.h\n",
            "codon-deploy/include/codon/cir/util/context.h\n",
            "codon-deploy/include/codon/cir/util/matching.h\n",
            "codon-deploy/include/codon/cir/util/visitor.h\n",
            "codon-deploy/include/codon/cir/util/irtools.h\n",
            "codon-deploy/include/codon/cir/util/operator.h\n",
            "codon-deploy/include/codon/cir/util/outlining.h\n",
            "codon-deploy/include/codon/cir/value.h\n",
            "codon-deploy/include/codon/cir/var.h\n",
            "codon-deploy/include/codon/cir/base.h\n",
            "codon-deploy/include/codon/runtime/\n",
            "codon-deploy/include/codon/runtime/lib.h\n",
            "codon-deploy/include/codon/config/\n",
            "codon-deploy/include/codon/config/config.h\n",
            "codon-deploy/include/codon/parser/\n",
            "codon-deploy/include/codon/parser/cache.h\n",
            "codon-deploy/include/codon/parser/visitors/\n",
            "codon-deploy/include/codon/parser/visitors/doc/\n",
            "codon-deploy/include/codon/parser/visitors/doc/doc.h\n",
            "codon-deploy/include/codon/parser/visitors/typecheck/\n",
            "codon-deploy/include/codon/parser/visitors/typecheck/ctx.h\n",
            "codon-deploy/include/codon/parser/visitors/typecheck/typecheck.h\n",
            "codon-deploy/include/codon/parser/visitors/format/\n",
            "codon-deploy/include/codon/parser/visitors/format/format.h\n",
            "codon-deploy/include/codon/parser/visitors/visitor.h\n",
            "codon-deploy/include/codon/parser/visitors/translate/\n",
            "codon-deploy/include/codon/parser/visitors/translate/translate.h\n",
            "codon-deploy/include/codon/parser/visitors/translate/translate_ctx.h\n",
            "codon-deploy/include/codon/parser/visitors/simplify/\n",
            "codon-deploy/include/codon/parser/visitors/simplify/simplify.h\n",
            "codon-deploy/include/codon/parser/visitors/simplify/ctx.h\n",
            "codon-deploy/include/codon/parser/common.h\n",
            "codon-deploy/include/codon/parser/peg/\n",
            "codon-deploy/include/codon/parser/peg/rules.h\n",
            "codon-deploy/include/codon/parser/peg/peg.h\n",
            "codon-deploy/include/codon/parser/ast.h\n",
            "codon-deploy/include/codon/parser/ctx.h\n",
            "codon-deploy/include/codon/parser/ast/\n",
            "codon-deploy/include/codon/parser/ast/types.h\n",
            "codon-deploy/include/codon/parser/ast/error.h\n",
            "codon-deploy/include/codon/parser/ast/types/\n",
            "codon-deploy/include/codon/parser/ast/types/class.h\n",
            "codon-deploy/include/codon/parser/ast/types/function.h\n",
            "codon-deploy/include/codon/parser/ast/types/union.h\n",
            "codon-deploy/include/codon/parser/ast/types/type.h\n",
            "codon-deploy/include/codon/parser/ast/types/traits.h\n",
            "codon-deploy/include/codon/parser/ast/types/link.h\n",
            "codon-deploy/include/codon/parser/ast/types/static.h\n",
            "codon-deploy/include/codon/parser/ast/expr.h\n",
            "codon-deploy/include/codon/parser/ast/stmt.h\n",
            "codon-deploy/include/codon/compiler/\n",
            "codon-deploy/include/codon/compiler/error.h\n",
            "codon-deploy/include/codon/compiler/jit.h\n",
            "codon-deploy/include/codon/compiler/jit_extern.h\n",
            "codon-deploy/include/codon/compiler/debug_listener.h\n",
            "codon-deploy/include/codon/compiler/compiler.h\n",
            "codon-deploy/include/codon/compiler/memory_manager.h\n",
            "codon-deploy/include/codon/compiler/engine.h\n",
            "codon-deploy/include/codon/dsl/\n",
            "codon-deploy/include/codon/dsl/plugins.h\n",
            "codon-deploy/include/codon/dsl/dsl.h\n",
            "codon-deploy/include/codon/app/\n",
            "codon-deploy/include/codon/util/\n",
            "codon-deploy/include/codon/util/common.h\n",
            "codon-deploy/include/codon/util/jupyter.h\n",
            "codon-deploy/lib/\n",
            "codon-deploy/lib/codon/\n",
            "codon-deploy/lib/codon/libcodonrt.so\n",
            "codon-deploy/lib/codon/stdlib/\n",
            "codon-deploy/lib/codon/stdlib/internal/\n",
            "codon-deploy/lib/codon/stdlib/internal/__init_test__.codon\n",
            "codon-deploy/lib/codon/stdlib/internal/gc.codon\n",
            "codon-deploy/lib/codon/stdlib/internal/python.codon\n",
            "codon-deploy/lib/codon/stdlib/internal/c_stubs.codon\n",
            "codon-deploy/lib/codon/stdlib/internal/types/\n",
            "codon-deploy/lib/codon/stdlib/internal/types/strbuf.codon\n",
            "codon-deploy/lib/codon/stdlib/internal/types/slice.codon\n",
            "codon-deploy/lib/codon/stdlib/internal/types/intn.codon\n",
            "codon-deploy/lib/codon/stdlib/internal/types/bool.codon\n",
            "codon-deploy/lib/codon/stdlib/internal/types/ptr.codon\n",
            "codon-deploy/lib/codon/stdlib/internal/types/int.codon\n",
            "codon-deploy/lib/codon/stdlib/internal/types/collections/\n",
            "codon-deploy/lib/codon/stdlib/internal/types/collections/dict.codon\n",
            "codon-deploy/lib/codon/stdlib/internal/types/collections/list.codon\n",
            "codon-deploy/lib/codon/stdlib/internal/types/collections/tuple.codon\n",
            "codon-deploy/lib/codon/stdlib/internal/types/collections/set.codon\n",
            "codon-deploy/lib/codon/stdlib/internal/types/error.codon\n",
            "codon-deploy/lib/codon/stdlib/internal/types/byte.codon\n",
            "codon-deploy/lib/codon/stdlib/internal/types/optional.codon\n",
            "codon-deploy/lib/codon/stdlib/internal/types/array.codon\n",
            "codon-deploy/lib/codon/stdlib/internal/types/float.codon\n",
            "codon-deploy/lib/codon/stdlib/internal/types/str.codon\n",
            "codon-deploy/lib/codon/stdlib/internal/types/range.codon\n",
            "codon-deploy/lib/codon/stdlib/internal/types/complex.codon\n",
            "codon-deploy/lib/codon/stdlib/internal/types/generator.codon\n",
            "codon-deploy/lib/codon/stdlib/internal/dlopen.codon\n",
            "codon-deploy/lib/codon/stdlib/internal/khash.codon\n",
            "codon-deploy/lib/codon/stdlib/internal/format.codon\n",
            "codon-deploy/lib/codon/stdlib/internal/static.codon\n",
            "codon-deploy/lib/codon/stdlib/internal/pynumerics.codon\n",
            "codon-deploy/lib/codon/stdlib/internal/file.codon\n",
            "codon-deploy/lib/codon/stdlib/internal/str.codon\n",
            "codon-deploy/lib/codon/stdlib/internal/builtin.codon\n",
            "codon-deploy/lib/codon/stdlib/internal/__init__.codon\n",
            "codon-deploy/lib/codon/stdlib/internal/core.codon\n",
            "codon-deploy/lib/codon/stdlib/internal/sort.codon\n",
            "codon-deploy/lib/codon/stdlib/internal/attributes.codon\n",
            "codon-deploy/lib/codon/stdlib/internal/internal.codon\n",
            "codon-deploy/lib/codon/stdlib/copy.codon\n",
            "codon-deploy/lib/codon/stdlib/threading.codon\n",
            "codon-deploy/lib/codon/stdlib/os/\n",
            "codon-deploy/lib/codon/stdlib/os/path.codon\n",
            "codon-deploy/lib/codon/stdlib/os/__init__.codon\n",
            "codon-deploy/lib/codon/stdlib/random.codon\n",
            "codon-deploy/lib/codon/stdlib/datetime.codon\n",
            "codon-deploy/lib/codon/stdlib/python.codon\n",
            "codon-deploy/lib/codon/stdlib/gpu.codon\n",
            "codon-deploy/lib/codon/stdlib/itertools.codon\n",
            "codon-deploy/lib/codon/stdlib/bisect.codon\n",
            "codon-deploy/lib/codon/stdlib/math.codon\n",
            "codon-deploy/lib/codon/stdlib/pickle.codon\n",
            "codon-deploy/lib/codon/stdlib/functools.codon\n",
            "codon-deploy/lib/codon/stdlib/cmath.codon\n",
            "codon-deploy/lib/codon/stdlib/getopt.codon\n",
            "codon-deploy/lib/codon/stdlib/string.codon\n",
            "codon-deploy/lib/codon/stdlib/openmp.codon\n",
            "codon-deploy/lib/codon/stdlib/collections.codon\n",
            "codon-deploy/lib/codon/stdlib/time.codon\n",
            "codon-deploy/lib/codon/stdlib/algorithms/\n",
            "codon-deploy/lib/codon/stdlib/algorithms/timsort.codon\n",
            "codon-deploy/lib/codon/stdlib/algorithms/insertionsort.codon\n",
            "codon-deploy/lib/codon/stdlib/algorithms/heapsort.codon\n",
            "codon-deploy/lib/codon/stdlib/algorithms/pdqsort.codon\n",
            "codon-deploy/lib/codon/stdlib/algorithms/strings.codon\n",
            "codon-deploy/lib/codon/stdlib/algorithms/qsort.codon\n",
            "codon-deploy/lib/codon/stdlib/heapq.codon\n",
            "codon-deploy/lib/codon/stdlib/sys.codon\n",
            "codon-deploy/lib/codon/stdlib/operator.codon\n",
            "codon-deploy/lib/codon/stdlib/re.codon\n",
            "codon-deploy/lib/codon/stdlib/sortedlist.codon\n",
            "codon-deploy/lib/codon/stdlib/typing.codon\n",
            "codon-deploy/lib/codon/stdlib/experimental/\n",
            "codon-deploy/lib/codon/stdlib/experimental/simd.codon\n",
            "codon-deploy/lib/codon/stdlib/gzip.codon\n",
            "codon-deploy/lib/codon/stdlib/statistics.codon\n",
            "codon-deploy/lib/codon/stdlib/unittest.codon\n",
            "codon-deploy/lib/codon/libcodon_jupyter.so\n",
            "codon-deploy/lib/codon/libomp.so\n",
            "codon-deploy/lib/codon/libcodonc.so\n",
            "100 43.1M  100 43.1M    0     0  18.4M      0  0:00:02  0:00:02 --:--:-- 26.8M\n",
            "codon-deploy/lib/codon/plugins/\n",
            "codon-deploy/python/\n",
            "codon-deploy/python/pyproject.toml\n",
            "codon-deploy/python/.gitignore\n",
            "codon-deploy/python/MANIFEST.in\n",
            "codon-deploy/python/codon_jit.egg-info/\n",
            "codon-deploy/python/codon_jit.egg-info/top_level.txt\n",
            "codon-deploy/python/codon_jit.egg-info/SOURCES.txt\n",
            "codon-deploy/python/codon_jit.egg-info/dependency_links.txt\n",
            "codon-deploy/python/codon_jit.egg-info/requires.txt\n",
            "codon-deploy/python/codon_jit.egg-info/PKG-INFO\n",
            "codon-deploy/python/setup.py\n",
            "codon-deploy/python/README.md\n",
            "codon-deploy/python/codon/\n",
            "codon-deploy/python/codon/jit.pxd\n",
            "codon-deploy/python/codon/jit.pyx\n",
            "codon-deploy/python/codon/version.py\n",
            "codon-deploy/python/codon/decorator.py\n",
            "codon-deploy/python/codon/__init__.py\n",
            "PATH export command:\n",
            "  export PATH=/root/.codon/bin:$PATH\n",
            "Update PATH in /root/.profile? [y/n] ^C\n"
          ]
        }
      ]
    },
    {
      "cell_type": "code",
      "source": [
        "!export PATH=/home/rahul/.codon/bin:$PATH"
      ],
      "metadata": {
        "id": "InHIrLz0d4FJ"
      },
      "execution_count": 5,
      "outputs": []
    },
    {
      "cell_type": "code",
      "source": [
        "for i in range(10):\n",
        "    import threading as thr\n",
        "    print('hello from thread', thr.get_ident())"
      ],
      "metadata": {
        "colab": {
          "base_uri": "https://localhost:8080/"
        },
        "id": "RRtgqW-Ud9Kt",
        "outputId": "d718e510-d352-4c3b-c675-909ddfcbc7e0"
      },
      "execution_count": 6,
      "outputs": [
        {
          "output_type": "stream",
          "name": "stdout",
          "text": [
            "hello from thread 134674398744576\n",
            "hello from thread 134674398744576\n",
            "hello from thread 134674398744576\n",
            "hello from thread 134674398744576\n",
            "hello from thread 134674398744576\n",
            "hello from thread 134674398744576\n",
            "hello from thread 134674398744576\n",
            "hello from thread 134674398744576\n",
            "hello from thread 134674398744576\n",
            "hello from thread 134674398744576\n"
          ]
        }
      ]
    },
    {
      "cell_type": "code",
      "source": [
        "@par\n",
        "for i in range(10):\n",
        "    import threading as thr\n",
        "    print(\"Hello from thread\", thr.get_ident())"
      ],
      "metadata": {
        "id": "ZQrvAoCZd9T6"
      },
      "execution_count": 8,
      "outputs": []
    },
    {
      "cell_type": "code",
      "source": [
        "@par(num_threads=4)\n",
        "for i in range(10):\n",
        "    import threading as thr\n",
        "    print('hello from thread', thr.get_ident())"
      ],
      "metadata": {
        "id": "_mDd1bYOd_ht"
      },
      "execution_count": 9,
      "outputs": []
    }
  ]
}