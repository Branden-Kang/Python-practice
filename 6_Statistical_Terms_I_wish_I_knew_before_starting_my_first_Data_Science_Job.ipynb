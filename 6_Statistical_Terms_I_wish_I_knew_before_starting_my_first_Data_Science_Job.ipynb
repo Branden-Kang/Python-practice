{
  "nbformat": 4,
  "nbformat_minor": 0,
  "metadata": {
    "colab": {
      "provenance": [],
      "authorship_tag": "ABX9TyPVmYWmQSDIswTNHO7BLu+l"
    },
    "kernelspec": {
      "name": "python3",
      "display_name": "Python 3"
    },
    "language_info": {
      "name": "python"
    }
  },
  "cells": [
    {
      "cell_type": "markdown",
      "source": [
        "[Reference](https://sandra-maria-machon.medium.com/6-statistical-terms-i-wish-i-knew-before-starting-my-first-data-science-job-5c454991ac1c)"
      ],
      "metadata": {
        "id": "hZ1pqxI9EMiI"
      }
    },
    {
      "cell_type": "markdown",
      "source": [
        "# 1. Bootstrapping"
      ],
      "metadata": {
        "id": "hWW6ZyftERsO"
      }
    },
    {
      "cell_type": "code",
      "execution_count": 1,
      "metadata": {
        "colab": {
          "base_uri": "https://localhost:8080/"
        },
        "id": "97bND4C7EK9k",
        "outputId": "8b6caede-c55a-4bb5-96d4-0eb9d1a22d90"
      },
      "outputs": [
        {
          "output_type": "stream",
          "name": "stderr",
          "text": [
            "/usr/local/lib/python3.9/dist-packages/numpy/core/fromnumeric.py:3472: FutureWarning: In a future version, DataFrame.mean(axis=None) will return a scalar mean over the entire DataFrame. To retain the old behavior, use 'frame.mean(axis=0)' or just 'frame.mean()'\n",
            "  return mean(axis=axis, dtype=dtype, out=out, **kwargs)\n"
          ]
        },
        {
          "output_type": "stream",
          "name": "stdout",
          "text": [
            "The mean is numbers    4.5\n",
            "dtype: float64\n",
            "The 95% confidence interval is [3.0, 6.125]\n"
          ]
        }
      ],
      "source": [
        "import pandas as pd\n",
        "import numpy as np\n",
        "\n",
        "#Load Dataset (here we're crerating a sample dataframe)\n",
        "df = pd.DataFrame({'numbers': [1, 2, 3, 4, 5, 6, 7, 8]})\n",
        "\n",
        "# We define a function to compute the mean of a dataset\n",
        "def mean_func(data):\n",
        "    return np.mean(data)\n",
        "\n",
        "# We set the number of bootstrap samples to 1000\n",
        "n_bootstrap = 1000\n",
        "\n",
        "#We generate bootstrap samples \n",
        "#by randomly selecting rows from \n",
        "#the original dataset with \n",
        "#replacement using the sample function\n",
        "\n",
        "bootstrap_samples = []\n",
        "for i in range(n_bootstrap):\n",
        "    sample = df.sample(frac=1, replace=True)\n",
        "    bootstrap_samples.append(sample)\n",
        "\n",
        "# Compute means for each bootstrap sample\n",
        "bootstrap_means = []\n",
        "for sample in bootstrap_samples:\n",
        "    mean = mean_func(sample)\n",
        "    bootstrap_means.append(mean)\n",
        "\n",
        "# Compute the 95% confidence interval \n",
        "# by calculating the 2.5th and 97.5th percentiles\n",
        "\n",
        "alpha = 0.05\n",
        "lower = np.percentile(bootstrap_means, alpha/2 * 100)\n",
        "upper = np.percentile(bootstrap_means, (1 - alpha/2) * 100)\n",
        "\n",
        "print(f\"The mean is {np.mean(df)}\")\n",
        "print(f\"The 95% confidence interval is [{lower}, {upper}]\")"
      ]
    },
    {
      "cell_type": "markdown",
      "source": [
        "# 2. Student’s T-test"
      ],
      "metadata": {
        "id": "oXh_CoiJEi6p"
      }
    },
    {
      "cell_type": "code",
      "source": [
        "# import pandas as pd\n",
        "# from scipy.stats import ttest_ind\n",
        "\n",
        "# # Load data into two separate dataframes\n",
        "# df1 = pd.read_csv('group1.csv')\n",
        "# df2 = pd.read_csv('group2.csv')\n",
        "\n",
        "# # Perform t-test\n",
        "# # using the ttest_ind function from the scipy.stats library\n",
        "# # The function returns the t-statistic and p-value of the test. \n",
        "# t_stat, p_value = ttest_ind(df1['variable'], df2['variable'])\n",
        "\n",
        "# # Print results\n",
        "# print(f\"t-statistic = {t_stat}\")\n",
        "# print(f\"p-value = {p_value}\")\n",
        "\n",
        "# if p_value < 0.05:\n",
        "#     print(\"The means of the two groups are significantly different.\")\n",
        "# else:\n",
        "#     print(\"There is no significant difference between the means of the two groups.\")"
      ],
      "metadata": {
        "id": "rRzz8FBqEhiB"
      },
      "execution_count": 2,
      "outputs": []
    },
    {
      "cell_type": "markdown",
      "source": [
        "# 3. Effect Size"
      ],
      "metadata": {
        "id": "fQW9rK7CEmL0"
      }
    },
    {
      "cell_type": "code",
      "source": [
        "import scipy.stats as stats\n",
        "import numpy as np\n",
        "\n",
        "# Create two groups of data\n",
        "group1 = np.random.normal(10, 2, size=100)\n",
        "group2 = np.random.normal(12, 2, size=100)\n",
        "\n",
        "# Calculate Cohen's d\n",
        "# which is the difference between the means \n",
        "# of the two groups divided by the pooled standard deviation. \n",
        "diff = group1.mean() - group2.mean()\n",
        "pooled_std = np.sqrt((group1.std()**2 + group2.std()**2) / 2)\n",
        "d = diff / pooled_std\n",
        "\n",
        "# Print the results\n",
        "print(f\"Cohen's d: {d}\")"
      ],
      "metadata": {
        "colab": {
          "base_uri": "https://localhost:8080/"
        },
        "id": "HSBsVX0QElKZ",
        "outputId": "23fa4e8b-ab87-4c93-d00f-8dde5d84c790"
      },
      "execution_count": 3,
      "outputs": [
        {
          "output_type": "stream",
          "name": "stdout",
          "text": [
            "Cohen's d: -1.2131571338884788\n"
          ]
        }
      ]
    },
    {
      "cell_type": "markdown",
      "source": [
        "# 4. Power Analysis"
      ],
      "metadata": {
        "id": "NuWMPrPoEpTq"
      }
    },
    {
      "cell_type": "code",
      "source": [
        "import statsmodels.stats.power as smp\n",
        "\n",
        "# Set the parameters\n",
        "effect_size = 0.5\n",
        "alpha = 0.05 #or the p value\n",
        "power = 0.8 #desired power level for the study\n",
        "\n",
        "# Perform power analysis\n",
        "# using statsmodel function\n",
        "# passing in the effect size, alpha level, and power level \n",
        "nobs = smp.tt_ind_solve_power(effect_size=effect_size, alpha=alpha, power=power)\n",
        "\n",
        "# Print the results\n",
        "# which in this case would be \n",
        "# the sample size required to detect a medium-sized effect\n",
        "print(f\"Sample size required: {nobs}\")"
      ],
      "metadata": {
        "colab": {
          "base_uri": "https://localhost:8080/"
        },
        "id": "hT6HRhB4En9X",
        "outputId": "900a0893-ab66-4474-fde4-d083ff58d33d"
      },
      "execution_count": 4,
      "outputs": [
        {
          "output_type": "stream",
          "name": "stdout",
          "text": [
            "Sample size required: 63.765610587854056\n"
          ]
        },
        {
          "output_type": "stream",
          "name": "stderr",
          "text": [
            "/usr/local/lib/python3.9/dist-packages/scipy/stats/_continuous_distns.py:6832: RuntimeWarning: invalid value encountered in _nct_sf\n",
            "  return np.clip(_boost._nct_sf(x, df, nc), 0, 1)\n",
            "/usr/local/lib/python3.9/dist-packages/scipy/stats/_continuous_distns.py:6826: RuntimeWarning: invalid value encountered in _nct_cdf\n",
            "  return np.clip(_boost._nct_cdf(x, df, nc), 0, 1)\n"
          ]
        }
      ]
    },
    {
      "cell_type": "markdown",
      "source": [
        "# 5. Confidence Interval"
      ],
      "metadata": {
        "id": "V_5EsUujEs53"
      }
    },
    {
      "cell_type": "code",
      "source": [
        "import numpy as np\n",
        "import statsmodels.stats.api as sms\n",
        "\n",
        "# Example data\n",
        "data = np.array([2, 4, 6, 8, 10])\n",
        "\n",
        "\n",
        "# Calculate 95% confidence interval for the mean\n",
        "# The default level of confidence is 95%. \n",
        "ci = sms.DescrStatsW(data).tconfint_mean()\n",
        "\n",
        "# Print the confidence interval\n",
        "# The tconfint_mean function returns a tuple \n",
        "# containing the lower and upper bounds of the confidence interval.\n",
        "print(\"95% Confidence interval:\", ci)"
      ],
      "metadata": {
        "colab": {
          "base_uri": "https://localhost:8080/"
        },
        "id": "BhyF9bMZErNc",
        "outputId": "ea01ff9f-f4a6-4634-f444-b100beaedbaa"
      },
      "execution_count": 5,
      "outputs": [
        {
          "output_type": "stream",
          "name": "stdout",
          "text": [
            "95% Confidence interval: (2.073513677044878, 9.926486322955121)\n"
          ]
        }
      ]
    },
    {
      "cell_type": "markdown",
      "source": [
        "# 6. Central Limit Theorem"
      ],
      "metadata": {
        "id": "yBqnIbVXEvbB"
      }
    },
    {
      "cell_type": "code",
      "source": [
        "import numpy as np\n",
        "import matplotlib.pyplot as plt\n",
        "\n",
        "\n",
        "# Generate a non-normal population distribution\n",
        "pop = np.random.uniform(0, 1, size=10000)\n",
        "\n",
        "# Calculate the means of many random samples\n",
        "# and store the sample means in a list\n",
        "sample_means = []\n",
        "for i in range(1000):\n",
        "    sample = np.random.choice(pop, size=100)\n",
        "    sample_mean = np.mean(sample)\n",
        "    sample_means.append(sample_mean)\n",
        "\n",
        "# Plot the distribution of sample means\n",
        "plt.hist(sample_means, bins=30, density=True)\n",
        "plt.xlabel(\"Sample mean\")\n",
        "plt.ylabel(\"Density\")\n",
        "plt.title(\"Central Limit Theorem\")\n",
        "plt.show()"
      ],
      "metadata": {
        "colab": {
          "base_uri": "https://localhost:8080/",
          "height": 295
        },
        "id": "ayLGkzXBEujk",
        "outputId": "e2f7a546-a8c3-4b20-8001-842360ac6ed0"
      },
      "execution_count": 6,
      "outputs": [
        {
          "output_type": "display_data",
          "data": {
            "text/plain": [
              "<Figure size 432x288 with 1 Axes>"
            ],
            "image/png": "[encoded data removed]"
          },
          "metadata": {
            "needs_background": "light"
          }
        }
      ]
    }
  ]
}