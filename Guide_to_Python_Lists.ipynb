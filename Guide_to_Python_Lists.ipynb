{
  "nbformat": 4,
  "nbformat_minor": 0,
  "metadata": {
    "colab": {
      "name": "Guide to Python Lists.ipynb",
      "provenance": [],
      "authorship_tag": "ABX9TyM4nheN/QiLIZVTvlxcMP1w"
    },
    "kernelspec": {
      "name": "python3",
      "display_name": "Python 3"
    }
  },
  "cells": [
    {
      "cell_type": "markdown",
      "metadata": {
        "id": "KXJUZVMxmtp5"
      },
      "source": [
        "[Reference](https://towardsdatascience.com/a-complete-guide-to-python-lists-6b592c8d5707)"
      ]
    },
    {
      "cell_type": "code",
      "metadata": {
        "colab": {
          "base_uri": "https://localhost:8080/",
          "height": 232
        },
        "id": "NhuFZXQj7h3A",
        "outputId": "edb3aa3e-c786-4520-e1a5-6afd05960b51"
      },
      "source": [
        "num_list = [1, 2, 3, 4, 5, 6]\n",
        "\n",
        "print(num_list[2])\n",
        "\n",
        "print(num_list[-1])\n",
        "\n",
        "print(num_list[8])"
      ],
      "execution_count": 32,
      "outputs": [
        {
          "output_type": "stream",
          "text": [
            "3\n",
            "6\n"
          ],
          "name": "stdout"
        },
        {
          "output_type": "error",
          "ename": "IndexError",
          "evalue": "ignored",
          "traceback": [
            "\u001b[0;31m---------------------------------------------------------------------------\u001b[0m",
            "\u001b[0;31mIndexError\u001b[0m                                Traceback (most recent call last)",
            "\u001b[0;32m<ipython-input-32-16b3132b5c30>\u001b[0m in \u001b[0;36m<module>\u001b[0;34m()\u001b[0m\n\u001b[1;32m      5\u001b[0m \u001b[0mprint\u001b[0m\u001b[0;34m(\u001b[0m\u001b[0mnum_list\u001b[0m\u001b[0;34m[\u001b[0m\u001b[0;34m-\u001b[0m\u001b[0;36m1\u001b[0m\u001b[0;34m]\u001b[0m\u001b[0;34m)\u001b[0m\u001b[0;34m\u001b[0m\u001b[0;34m\u001b[0m\u001b[0m\n\u001b[1;32m      6\u001b[0m \u001b[0;34m\u001b[0m\u001b[0m\n\u001b[0;32m----> 7\u001b[0;31m \u001b[0mprint\u001b[0m\u001b[0;34m(\u001b[0m\u001b[0mnum_list\u001b[0m\u001b[0;34m[\u001b[0m\u001b[0;36m8\u001b[0m\u001b[0;34m]\u001b[0m\u001b[0;34m)\u001b[0m\u001b[0;34m\u001b[0m\u001b[0;34m\u001b[0m\u001b[0m\n\u001b[0m",
            "\u001b[0;31mIndexError\u001b[0m: list index out of range"
          ]
        }
      ]
    },
    {
      "cell_type": "code",
      "metadata": {
        "colab": {
          "base_uri": "https://localhost:8080/"
        },
        "id": "sRvnzARTkLNi",
        "outputId": "fa41cfbc-4cb1-459f-e967-06c02f5c0dbb"
      },
      "source": [
        "num_list = [1, 2, 3, 4, 5, 6]\n",
        "print(3 in num_list)\n",
        "\n",
        "print(7 in num_list)"
      ],
      "execution_count": 1,
      "outputs": [
        {
          "output_type": "stream",
          "text": [
            "True\n",
            "False\n"
          ],
          "name": "stdout"
        }
      ]
    },
    {
      "cell_type": "code",
      "metadata": {
        "colab": {
          "base_uri": "https://localhost:8080/"
        },
        "id": "Hy1kklelyswk",
        "outputId": "04450346-e542-4905-a013-4852a1e0a3fa"
      },
      "source": [
        "num_list = [1, 2, 3, 4, 5, 6]\n",
        "\n",
        "print(num_list[1:3])"
      ],
      "execution_count": 2,
      "outputs": [
        {
          "output_type": "stream",
          "text": [
            "[2, 3]\n"
          ],
          "name": "stdout"
        }
      ]
    },
    {
      "cell_type": "code",
      "metadata": {
        "colab": {
          "base_uri": "https://localhost:8080/"
        },
        "id": "SOzxPDUzzY02",
        "outputId": "7df6debb-df72-479c-d90e-47f43aebe358"
      },
      "source": [
        "print(num_list[2])\n",
        "\n",
        "print(num_list[-1])\n",
        "\n",
        "print(num_list[3:])\n",
        "\n",
        "print(num_list[-3:])"
      ],
      "execution_count": 6,
      "outputs": [
        {
          "output_type": "stream",
          "text": [
            "3\n",
            "6\n",
            "[4, 5, 6]\n",
            "[4, 5, 6]\n"
          ],
          "name": "stdout"
        }
      ]
    },
    {
      "cell_type": "code",
      "metadata": {
        "colab": {
          "base_uri": "https://localhost:8080/"
        },
        "id": "0XGeI4zQzf5K",
        "outputId": "8c81da0e-5f31-4bb2-efcb-9c6682b5160c"
      },
      "source": [
        "num_list = [1, 2, 3, 4, 5, 6, 7, 8, 9, 10]\n",
        "\n",
        "print(sum(num_list))\n",
        "\n",
        "print(max(num_list))\n",
        "\n",
        "print(min(num_list))\n",
        "\n",
        "print(num_list.index(5))\n",
        "\n",
        "print(num_list.count(2))"
      ],
      "execution_count": 9,
      "outputs": [
        {
          "output_type": "stream",
          "text": [
            "55\n",
            "10\n",
            "1\n",
            "4\n",
            "1\n"
          ],
          "name": "stdout"
        }
      ]
    },
    {
      "cell_type": "code",
      "metadata": {
        "colab": {
          "base_uri": "https://localhost:8080/"
        },
        "id": "mlHXjdze0sjL",
        "outputId": "a4de8331-2ac4-49dc-b40c-470f18ec20ac"
      },
      "source": [
        "num_list = [1, 2, 3, 4, 5, 6, 7, 8, 9, 10]\n",
        "for num in num_list:\n",
        "    print(num)"
      ],
      "execution_count": 10,
      "outputs": [
        {
          "output_type": "stream",
          "text": [
            "1\n",
            "2\n",
            "3\n",
            "4\n",
            "5\n",
            "6\n",
            "7\n",
            "8\n",
            "9\n",
            "10\n"
          ],
          "name": "stdout"
        }
      ]
    },
    {
      "cell_type": "code",
      "metadata": {
        "colab": {
          "base_uri": "https://localhost:8080/"
        },
        "id": "4OED9TGv1Ifq",
        "outputId": "221ce5e9-5d62-4d67-88b0-35538bb24297"
      },
      "source": [
        "country_list = ['Korea', 'Japan', 'China', 'Vietnam', 'Taiwan']\n",
        "for index, country in enumerate(country_list):\n",
        "    print(f\"index {index}: {country}\")"
      ],
      "execution_count": 12,
      "outputs": [
        {
          "output_type": "stream",
          "text": [
            "index 0: Korea\n",
            "index 1: Japan\n",
            "index 2: China\n",
            "index 3: Vietnam\n",
            "index 4: Taiwan\n"
          ],
          "name": "stdout"
        }
      ]
    },
    {
      "cell_type": "code",
      "metadata": {
        "colab": {
          "base_uri": "https://localhost:8080/"
        },
        "id": "qgWrqIJN1cvz",
        "outputId": "1128cc01-f24b-4683-e99c-9716c4552fab"
      },
      "source": [
        "num_list = [1, 2, 3, 4, 5, 6]\n",
        "num_list.append(7)\n",
        "\n",
        "print(num_list)"
      ],
      "execution_count": 13,
      "outputs": [
        {
          "output_type": "stream",
          "text": [
            "[1, 2, 3, 4, 5, 6, 7]\n"
          ],
          "name": "stdout"
        }
      ]
    },
    {
      "cell_type": "code",
      "metadata": {
        "colab": {
          "base_uri": "https://localhost:8080/"
        },
        "id": "ptUJoQXN2HHp",
        "outputId": "4285e03e-4c64-4863-d22d-d82ee860cb15"
      },
      "source": [
        "num_list = [1, 2, 3, 4, 5, 6]\n",
        "num_list.extend([7, 8, 9, 10])\n",
        "print(num_list)"
      ],
      "execution_count": 15,
      "outputs": [
        {
          "output_type": "stream",
          "text": [
            "[1, 2, 3, 4, 5, 6, 7, 8, 9, 10]\n"
          ],
          "name": "stdout"
        }
      ]
    },
    {
      "cell_type": "code",
      "metadata": {
        "colab": {
          "base_uri": "https://localhost:8080/"
        },
        "id": "tTafGIKX2Xld",
        "outputId": "d2c81873-f432-4a21-dde2-0d8de28065c6"
      },
      "source": [
        "name_list = ['Branden', 'James', 'Tom']\n",
        "name_list.insert(1, 'Lily')\n",
        "print(name_list)"
      ],
      "execution_count": 18,
      "outputs": [
        {
          "output_type": "stream",
          "text": [
            "['Branden', 'Lily', 'James', 'Tom']\n"
          ],
          "name": "stdout"
        }
      ]
    },
    {
      "cell_type": "code",
      "metadata": {
        "colab": {
          "base_uri": "https://localhost:8080/"
        },
        "id": "WdZUA6mf2z-f",
        "outputId": "e8227d65-0b2f-42b5-d696-f8164d818a5a"
      },
      "source": [
        "name_list = ['Branden', 'James', 'Tom']\n",
        "del name_list[2]\n",
        "\n",
        "print(name_list)"
      ],
      "execution_count": 19,
      "outputs": [
        {
          "output_type": "stream",
          "text": [
            "['Branden', 'James']\n"
          ],
          "name": "stdout"
        }
      ]
    },
    {
      "cell_type": "code",
      "metadata": {
        "colab": {
          "base_uri": "https://localhost:8080/"
        },
        "id": "mitWRKE03IEo",
        "outputId": "ce32b67b-fc7f-4b76-d8d3-d973be6e77c1"
      },
      "source": [
        "num_list = [2,10,3,1,7,5,6,4,8,9]\n",
        "print(sorted(num_list))"
      ],
      "execution_count": 20,
      "outputs": [
        {
          "output_type": "stream",
          "text": [
            "[1, 2, 3, 4, 5, 6, 7, 8, 9, 10]\n"
          ],
          "name": "stdout"
        }
      ]
    },
    {
      "cell_type": "code",
      "metadata": {
        "colab": {
          "base_uri": "https://localhost:8080/"
        },
        "id": "e0OBL2dS3qMU",
        "outputId": "04c82bc4-445e-4dc1-ffe5-052123971b95"
      },
      "source": [
        "# custom sort\n",
        "string_list = ['science', 'rocks', 'data']\n",
        "def second_char(string_element):\n",
        "  return string_element[1]\n",
        "\n",
        "string_list.sort(key=second_char, reverse=False)\n",
        "print(string_list)"
      ],
      "execution_count": 25,
      "outputs": [
        {
          "output_type": "stream",
          "text": [
            "['data', 'science', 'rocks']\n"
          ],
          "name": "stdout"
        }
      ]
    },
    {
      "cell_type": "code",
      "metadata": {
        "colab": {
          "base_uri": "https://localhost:8080/",
          "height": 232
        },
        "id": "dT1GCAjN3561",
        "outputId": "599dd48d-9d74-4044-dd1f-040eb9dd94d8"
      },
      "source": [
        "num_list = [1, 2, 3, 2, 4, 5, 6]\n",
        "\n",
        "num_list.remove(2)\n",
        "print(num_list) \n",
        "\n",
        "num_list.remove(2)\n",
        "print(num_list) \n",
        "\n",
        "num_list.remove(7) "
      ],
      "execution_count": 26,
      "outputs": [
        {
          "output_type": "stream",
          "text": [
            "[1, 3, 2, 4, 5, 6]\n",
            "[1, 3, 4, 5, 6]\n"
          ],
          "name": "stdout"
        },
        {
          "output_type": "error",
          "ename": "ValueError",
          "evalue": "ignored",
          "traceback": [
            "\u001b[0;31m---------------------------------------------------------------------------\u001b[0m",
            "\u001b[0;31mValueError\u001b[0m                                Traceback (most recent call last)",
            "\u001b[0;32m<ipython-input-26-fd93d7bef38a>\u001b[0m in \u001b[0;36m<module>\u001b[0;34m()\u001b[0m\n\u001b[1;32m      7\u001b[0m \u001b[0mprint\u001b[0m\u001b[0;34m(\u001b[0m\u001b[0mnum_list\u001b[0m\u001b[0;34m)\u001b[0m\u001b[0;34m\u001b[0m\u001b[0;34m\u001b[0m\u001b[0m\n\u001b[1;32m      8\u001b[0m \u001b[0;34m\u001b[0m\u001b[0m\n\u001b[0;32m----> 9\u001b[0;31m \u001b[0mnum_list\u001b[0m\u001b[0;34m.\u001b[0m\u001b[0mremove\u001b[0m\u001b[0;34m(\u001b[0m\u001b[0;36m7\u001b[0m\u001b[0;34m)\u001b[0m\u001b[0;34m\u001b[0m\u001b[0;34m\u001b[0m\u001b[0m\n\u001b[0m",
            "\u001b[0;31mValueError\u001b[0m: list.remove(x): x not in list"
          ]
        }
      ]
    },
    {
      "cell_type": "code",
      "metadata": {
        "colab": {
          "base_uri": "https://localhost:8080/"
        },
        "id": "C7eUDauG464o",
        "outputId": "986e0dbd-f896-4bc8-cc2d-2510737e3ec3"
      },
      "source": [
        "num_list = [1, 2, 3, 4, 5, 6, 7, 8, 9, 10]\n",
        "num_list.pop(2)\n",
        "print(num_list)\n",
        "\n",
        "num_list.pop()\n",
        "print(num_list)"
      ],
      "execution_count": 28,
      "outputs": [
        {
          "output_type": "stream",
          "text": [
            "[1, 2, 4, 5, 6, 7, 8, 9, 10]\n",
            "[1, 2, 4, 5, 6, 7, 8, 9]\n"
          ],
          "name": "stdout"
        }
      ]
    },
    {
      "cell_type": "code",
      "metadata": {
        "colab": {
          "base_uri": "https://localhost:8080/"
        },
        "id": "75uuU9Nz5Nct",
        "outputId": "926b3bbb-f2c2-4802-f914-74848ed9ce9d"
      },
      "source": [
        "num_list = [x for x in range(20) if x % 2 == 0  if x % 3 == 0]\n",
        "print(num_list)"
      ],
      "execution_count": 29,
      "outputs": [
        {
          "output_type": "stream",
          "text": [
            "[0, 6, 12, 18]\n"
          ],
          "name": "stdout"
        }
      ]
    },
    {
      "cell_type": "code",
      "metadata": {
        "colab": {
          "base_uri": "https://localhost:8080/"
        },
        "id": "vOztKCeu5yJ6",
        "outputId": "e1c55d38-1479-4003-dbfb-d2cb936fdf29"
      },
      "source": [
        "country_list = ['Korea', 'Japan', 'China', 'Vietnam', 'Taiwan']\n",
        "\n",
        "print(', '.join(country_list))"
      ],
      "execution_count": 30,
      "outputs": [
        {
          "output_type": "stream",
          "text": [
            "Korea, Japan, China, Vietnam, Taiwan\n"
          ],
          "name": "stdout"
        }
      ]
    }
  ]
}