{
  "nbformat": 4,
  "nbformat_minor": 0,
  "metadata": {
    "colab": {
      "provenance": [],
      "authorship_tag": "ABX9TyM621OfuKvKlSlyquLW4znf"
    },
    "kernelspec": {
      "name": "python3",
      "display_name": "Python 3"
    },
    "language_info": {
      "name": "python"
    }
  },
  "cells": [
    {
      "cell_type": "markdown",
      "source": [
        "[Reference](https://python.plainenglish.io/oops-i-did-it-again-object-oriented-programming-in-python-in-one-blog-09c2e72507af)"
      ],
      "metadata": {
        "id": "vydiPh-w34Af"
      }
    },
    {
      "cell_type": "markdown",
      "source": [
        "# Fundamentals of Object-Oriented Programming"
      ],
      "metadata": {
        "id": "IKDY515f4FRm"
      }
    },
    {
      "cell_type": "code",
      "execution_count": 1,
      "metadata": {
        "colab": {
          "base_uri": "https://localhost:8080/"
        },
        "id": "LZy-WY-O3oFZ",
        "outputId": "c039e082-437e-49b2-a6f2-9d6ae981d626"
      },
      "outputs": [
        {
          "output_type": "stream",
          "name": "stdout",
          "text": [
            "Buddy says: Woof!\n"
          ]
        }
      ],
      "source": [
        "class Dog:\n",
        "    def __init__(self, name, breed):\n",
        "        self.name = name\n",
        "        self.breed = breed\n",
        "\n",
        "    def bark(self):\n",
        "        print(f\"{self.name} says: Woof!\")\n",
        "\n",
        "my_dog = Dog(\"Buddy\", \"Labrador\")\n",
        "my_dog.bark()"
      ]
    },
    {
      "cell_type": "code",
      "source": [
        "class Circle:\n",
        "    def __init__(self, radius):\n",
        "        self.radius = radius\n",
        "\n",
        "    def area(self):\n",
        "        return 3.14 * self.radius ** 2\n",
        "\n",
        "my_circle = Circle(5)\n",
        "print(my_circle.radius)\n",
        "print(my_circle.area())"
      ],
      "metadata": {
        "colab": {
          "base_uri": "https://localhost:8080/"
        },
        "id": "WfeCYR9239NY",
        "outputId": "d5dc0fc1-b79e-4f99-ac3e-a456fd38e3e2"
      },
      "execution_count": 2,
      "outputs": [
        {
          "output_type": "stream",
          "name": "stdout",
          "text": [
            "5\n",
            "78.5\n"
          ]
        }
      ]
    },
    {
      "cell_type": "code",
      "source": [
        "class Person:\n",
        "    def __init__(self, name, age):\n",
        "        self.name = name\n",
        "        self.age = age\n",
        "\n",
        "    def introduce(self):\n",
        "        print(f\"Hi, my name is {self.name} and I'm {self.age} years old.\")\n",
        "\n",
        "person1 = Person(\"Alice\", 25)\n",
        "person2 = Person(\"Bob\", 30)\n",
        "\n",
        "person1.introduce()\n",
        "person2.introduce()"
      ],
      "metadata": {
        "colab": {
          "base_uri": "https://localhost:8080/"
        },
        "id": "ImTRG-Yx3_kh",
        "outputId": "917d1c54-bd66-4a22-f4e9-49e8a152bb5e"
      },
      "execution_count": 3,
      "outputs": [
        {
          "output_type": "stream",
          "name": "stdout",
          "text": [
            "Hi, my name is Alice and I'm 25 years old.\n",
            "Hi, my name is Bob and I'm 30 years old.\n"
          ]
        }
      ]
    },
    {
      "cell_type": "markdown",
      "source": [
        "# Constructors and Destructors\n",
        "## Constructors (__init__ method)"
      ],
      "metadata": {
        "id": "QodBIuQs4KP9"
      }
    },
    {
      "cell_type": "code",
      "source": [
        "#Code by github.com/tushar2704\n",
        "class Rectangle:\n",
        "    def __init__(self, width, height):\n",
        "        self.width = width\n",
        "        self.height = height\n",
        "\n",
        "    def area(self):\n",
        "        return self.width * self.height\n",
        "\n",
        "my_rectangle = Rectangle(5, 3)\n",
        "print(my_rectangle.area())"
      ],
      "metadata": {
        "colab": {
          "base_uri": "https://localhost:8080/"
        },
        "id": "m6CLZCMm4CsB",
        "outputId": "325fd9cd-e7af-4707-a119-55da0e1db65b"
      },
      "execution_count": 4,
      "outputs": [
        {
          "output_type": "stream",
          "name": "stdout",
          "text": [
            "15\n"
          ]
        }
      ]
    },
    {
      "cell_type": "code",
      "source": [
        "class Circle:\n",
        "    def __init__(self, radius=1):\n",
        "        self.radius = radius\n",
        "\n",
        "    def area(self):\n",
        "        return 3.14 * self.radius ** 2\n",
        "\n",
        "my_circle = Circle()\n",
        "print(my_circle.radius)\n",
        "print(my_circle.area())"
      ],
      "metadata": {
        "colab": {
          "base_uri": "https://localhost:8080/"
        },
        "id": "uQBhredz4NpD",
        "outputId": "d016951b-8cb0-425f-cc13-9542ec57c325"
      },
      "execution_count": 5,
      "outputs": [
        {
          "output_type": "stream",
          "name": "stdout",
          "text": [
            "1\n",
            "3.14\n"
          ]
        }
      ]
    },
    {
      "cell_type": "markdown",
      "source": [
        "# Destructors (__del__ method)"
      ],
      "metadata": {
        "id": "lE1TLynt4RSQ"
      }
    },
    {
      "cell_type": "code",
      "source": [
        "class FileHandler:\n",
        "    def __init__(self, filename):\n",
        "        self.file = open(filename, 'w')\n",
        "\n",
        "    def write_data(self, data):\n",
        "        self.file.write(data)\n",
        "\n",
        "    def __del__(self):\n",
        "        self.file.close()\n",
        "        print(\"File closed.\")\n",
        "\n",
        "handler = FileHandler(\"example.txt\")\n",
        "handler.write_data(\"Hello, World!\")\n",
        "del handler"
      ],
      "metadata": {
        "colab": {
          "base_uri": "https://localhost:8080/"
        },
        "id": "ZoQaUCft4QQm",
        "outputId": "00c0f943-7096-4db4-a33a-12ef7975a67d"
      },
      "execution_count": 6,
      "outputs": [
        {
          "output_type": "stream",
          "name": "stdout",
          "text": [
            "File closed.\n"
          ]
        }
      ]
    },
    {
      "cell_type": "markdown",
      "source": [
        "# Encapsulation"
      ],
      "metadata": {
        "id": "cMDAbQtT4U00"
      }
    },
    {
      "cell_type": "code",
      "source": [
        "class BankAccount:\n",
        "    def __init__(self, account_number, balance):\n",
        "        self.account_number = account_number\n",
        "        self.balance = balance\n",
        "\n",
        "    def deposit(self, amount):\n",
        "        self.balance += amount\n",
        "\n",
        "    def withdraw(self, amount):\n",
        "        if amount <= self.balance:\n",
        "            self.balance -= amount\n",
        "        else:\n",
        "            print(\"Insufficient funds.\")\n",
        "\n",
        "my_account = BankAccount(\"123456789\", 1000)\n",
        "my_account.deposit(500)\n",
        "my_account.withdraw(200)\n",
        "print(my_account.balance)"
      ],
      "metadata": {
        "colab": {
          "base_uri": "https://localhost:8080/"
        },
        "id": "RsHf4Pvi4TTE",
        "outputId": "4f2746b9-1902-4d19-9c5a-8fdad46eaa6b"
      },
      "execution_count": 7,
      "outputs": [
        {
          "output_type": "stream",
          "name": "stdout",
          "text": [
            "1300\n"
          ]
        }
      ]
    },
    {
      "cell_type": "markdown",
      "source": [
        "# Access Modifiers\n"
      ],
      "metadata": {
        "id": "fQfQhpQV4X9N"
      }
    },
    {
      "cell_type": "code",
      "source": [
        "class Car:\n",
        "    def __init__(self, brand, model, year):\n",
        "        self.brand = brand  # Public attribute\n",
        "        self._model = model  # Protected attribute\n",
        "        self.__year = year  # Private attribute\n",
        "\n",
        "    def get_year(self):\n",
        "        return self.__year\n",
        "\n",
        "my_car = Car(\"Toyota\", \"Camry\", 2022)\n",
        "print(my_car.brand)"
      ],
      "metadata": {
        "colab": {
          "base_uri": "https://localhost:8080/"
        },
        "id": "HHbHEWtV4WTa",
        "outputId": "5fd50be2-ed2d-4fa0-e82b-a347a112bc88"
      },
      "execution_count": 8,
      "outputs": [
        {
          "output_type": "stream",
          "name": "stdout",
          "text": [
            "Toyota\n"
          ]
        }
      ]
    },
    {
      "cell_type": "markdown",
      "source": [
        "# Polymorphism"
      ],
      "metadata": {
        "id": "0a2suLES4fiK"
      }
    },
    {
      "cell_type": "code",
      "source": [
        "class Calculator:\n",
        "    def add(self, a, b, c=0):\n",
        "        return a + b + c\n",
        "\n",
        "calc = Calculator()\n",
        "print(calc.add(2, 3))\n",
        "print(calc.add(2, 3, 4))"
      ],
      "metadata": {
        "colab": {
          "base_uri": "https://localhost:8080/"
        },
        "id": "Z806JrsJ4du3",
        "outputId": "fea5b9a7-632b-41f4-c2ff-ccd74dad5056"
      },
      "execution_count": 9,
      "outputs": [
        {
          "output_type": "stream",
          "name": "stdout",
          "text": [
            "5\n",
            "9\n"
          ]
        }
      ]
    },
    {
      "cell_type": "markdown",
      "source": [
        "# Operator Overloading"
      ],
      "metadata": {
        "id": "oho3tBFo4i8F"
      }
    },
    {
      "cell_type": "code",
      "source": [
        "class Point:\n",
        "    def __init__(self, x, y):\n",
        "        self.x = x\n",
        "        self.y = y\n",
        "\n",
        "    def __add__(self, other):\n",
        "        return Point(self.x + other.x, self.y + other.y)\n",
        "\n",
        "p1 = Point(1, 2)\n",
        "p2 = Point(3, 4)\n",
        "p3 = p1 + p2\n",
        "print(p3.x, p3.y)"
      ],
      "metadata": {
        "colab": {
          "base_uri": "https://localhost:8080/"
        },
        "id": "ITt4vdD64h3q",
        "outputId": "ed6610e4-cd0e-4b8e-e9dd-a0e6c617a159"
      },
      "execution_count": 10,
      "outputs": [
        {
          "output_type": "stream",
          "name": "stdout",
          "text": [
            "4 6\n"
          ]
        }
      ]
    },
    {
      "cell_type": "markdown",
      "source": [
        "# Duck Typing"
      ],
      "metadata": {
        "id": "qEKbU5DW4nXs"
      }
    },
    {
      "cell_type": "code",
      "source": [
        "class Duck:\n",
        "    def quack(self):\n",
        "        print(\"Quack!\")\n",
        "\n",
        "class Person:\n",
        "    def quack(self):\n",
        "        print(\"I'm quacking like a duck!\")\n",
        "\n",
        "def make_it_quack(obj):\n",
        "    obj.quack()\n",
        "\n",
        "duck = Duck()\n",
        "person = Person()\n",
        "\n",
        "make_it_quack(duck)\n",
        "make_it_quack(person)"
      ],
      "metadata": {
        "colab": {
          "base_uri": "https://localhost:8080/"
        },
        "id": "zc-kGbBO4l-M",
        "outputId": "83a58044-5c23-46f2-8241-02a74a23944e"
      },
      "execution_count": 11,
      "outputs": [
        {
          "output_type": "stream",
          "name": "stdout",
          "text": [
            "Quack!\n",
            "I'm quacking like a duck!\n"
          ]
        }
      ]
    },
    {
      "cell_type": "markdown",
      "source": [
        "# Abstract Classes"
      ],
      "metadata": {
        "id": "qtFZ5-gJ4rV3"
      }
    },
    {
      "cell_type": "code",
      "source": [
        "from abc import ABC, abstractmethod\n",
        "\n",
        "class Animal(ABC):\n",
        "    @abstractmethod\n",
        "    def make_sound(self):\n",
        "        pass\n",
        "\n",
        "class Dog(Animal):\n",
        "    def make_sound(self):\n",
        "        print(\"Woof!\")\n",
        "\n",
        "class Cat(Animal):\n",
        "    def make_sound(self):\n",
        "        print(\"Meow!\")\n",
        "\n",
        "# animal = Animal()  # Raises TypeError: Can't instantiate abstract class Animal with abstract methods make_sound\n",
        "dog = Dog()\n",
        "cat = Cat()\n",
        "\n",
        "dog.make_sound()\n",
        "cat.make_sound()"
      ],
      "metadata": {
        "colab": {
          "base_uri": "https://localhost:8080/"
        },
        "id": "grAkaD-K4p6r",
        "outputId": "aecdcab5-1f19-454e-d855-75fee2b6a53f"
      },
      "execution_count": 12,
      "outputs": [
        {
          "output_type": "stream",
          "name": "stdout",
          "text": [
            "Woof!\n",
            "Meow!\n"
          ]
        }
      ]
    },
    {
      "cell_type": "markdown",
      "source": [
        "# Interfaces"
      ],
      "metadata": {
        "id": "42SiF8fE4wEO"
      }
    },
    {
      "cell_type": "code",
      "source": [
        "from abc import ABC, abstractmethod\n",
        "\n",
        "class Flyable(ABC):\n",
        "    @abstractmethod\n",
        "    def fly(self):\n",
        "        pass\n",
        "\n",
        "class Swimmable(ABC):\n",
        "    @abstractmethod\n",
        "    def swim(self):\n",
        "        pass\n",
        "\n",
        "class Duck(Flyable, Swimmable):\n",
        "    def fly(self):\n",
        "        print(\"Duck is flying.\")\n",
        "\n",
        "    def swim(self):\n",
        "        print(\"Duck is swimming.\")\n",
        "\n",
        "class Airplane(Flyable):\n",
        "    def fly(self):\n",
        "        print(\"Airplane is flying.\")\n",
        "\n",
        "duck = Duck()\n",
        "airplane = Airplane()\n",
        "\n",
        "duck.fly()\n",
        "duck.swim()\n",
        "airplane.fly()"
      ],
      "metadata": {
        "colab": {
          "base_uri": "https://localhost:8080/"
        },
        "id": "dfkAvf994u7_",
        "outputId": "c4673aaa-9144-43a5-b50d-844300f493a6"
      },
      "execution_count": 13,
      "outputs": [
        {
          "output_type": "stream",
          "name": "stdout",
          "text": [
            "Duck is flying.\n",
            "Duck is swimming.\n",
            "Airplane is flying.\n"
          ]
        }
      ]
    },
    {
      "cell_type": "markdown",
      "source": [
        "# Instance Methods"
      ],
      "metadata": {
        "id": "VUvzEdNn40qo"
      }
    },
    {
      "cell_type": "code",
      "source": [
        "class Circle:\n",
        "    def __init__(self, radius):\n",
        "        self.radius = radius\n",
        "\n",
        "    def area(self):\n",
        "        return 3.14 * self.radius ** 2\n",
        "\n",
        "circle = Circle(5)\n",
        "print(circle.area())"
      ],
      "metadata": {
        "colab": {
          "base_uri": "https://localhost:8080/"
        },
        "id": "zEPCGtjS4y_J",
        "outputId": "0c2583ba-1617-4b47-9eb2-fd6e353ad51e"
      },
      "execution_count": 14,
      "outputs": [
        {
          "output_type": "stream",
          "name": "stdout",
          "text": [
            "78.5\n"
          ]
        }
      ]
    },
    {
      "cell_type": "markdown",
      "source": [
        "# Class Methods"
      ],
      "metadata": {
        "id": "qBKnd2OU43FL"
      }
    },
    {
      "cell_type": "code",
      "source": [
        "class Rectangle:\n",
        "    count = 0\n",
        "\n",
        "    def __init__(self, width, height):\n",
        "        self.width = width\n",
        "        self.height = height\n",
        "        Rectangle.count += 1\n",
        "\n",
        "    @classmethod\n",
        "    def total_instances(cls):\n",
        "        return cls.count\n",
        "\n",
        "r1 = Rectangle(3, 4)\n",
        "r2 = Rectangle(5, 6)\n",
        "\n",
        "print(Rectangle.total_instances())"
      ],
      "metadata": {
        "colab": {
          "base_uri": "https://localhost:8080/"
        },
        "id": "Z0nrpjL542J4",
        "outputId": "0d9e10b8-d32b-44fa-e088-8bfbc54269cd"
      },
      "execution_count": 15,
      "outputs": [
        {
          "output_type": "stream",
          "name": "stdout",
          "text": [
            "2\n"
          ]
        }
      ]
    },
    {
      "cell_type": "markdown",
      "source": [
        "# Static Methods"
      ],
      "metadata": {
        "id": "oq8hMPbd46Li"
      }
    },
    {
      "cell_type": "code",
      "source": [
        "class MathUtils:\n",
        "    @staticmethod\n",
        "    def add(x, y):\n",
        "        return x + y\n",
        "\n",
        "    @staticmethod\n",
        "    def multiply(x, y):\n",
        "        return x * y\n",
        "\n",
        "print(MathUtils.add(3, 4))\n",
        "print(MathUtils.multiply(3, 4))"
      ],
      "metadata": {
        "colab": {
          "base_uri": "https://localhost:8080/"
        },
        "id": "FkfbYrR645HE",
        "outputId": "91464a0a-a2cc-4e55-c233-442635396769"
      },
      "execution_count": 16,
      "outputs": [
        {
          "output_type": "stream",
          "name": "stdout",
          "text": [
            "7\n",
            "12\n"
          ]
        }
      ]
    },
    {
      "cell_type": "markdown",
      "source": [
        "# Object Composition"
      ],
      "metadata": {
        "id": "9qn8halh5A9I"
      }
    },
    {
      "cell_type": "code",
      "source": [
        "class Engine:\n",
        "    def __init__(self, capacity):\n",
        "        self.capacity = capacity\n",
        "\n",
        "    def start(self):\n",
        "        print(\"Engine started.\")\n",
        "\n",
        "    def stop(self):\n",
        "        print(\"Engine stopped.\")\n",
        "\n",
        "class Car:\n",
        "    def __init__(self, engine):\n",
        "        self.engine = engine\n",
        "\n",
        "    def start(self):\n",
        "        self.engine.start()\n",
        "\n",
        "    def stop(self):\n",
        "        self.engine.stop()\n",
        "\n",
        "engine = Engine(1600)\n",
        "car = Car(engine)\n",
        "\n",
        "car.start()\n",
        "car.stop()"
      ],
      "metadata": {
        "colab": {
          "base_uri": "https://localhost:8080/"
        },
        "id": "taPrYXfy4_d8",
        "outputId": "abf8a0b5-f762-4576-dee8-46e317f5f768"
      },
      "execution_count": 17,
      "outputs": [
        {
          "output_type": "stream",
          "name": "stdout",
          "text": [
            "Engine started.\n",
            "Engine stopped.\n"
          ]
        }
      ]
    },
    {
      "cell_type": "markdown",
      "source": [
        "# Aggregation"
      ],
      "metadata": {
        "id": "Gbgpjqbu5EcA"
      }
    },
    {
      "cell_type": "code",
      "source": [
        "class Student:\n",
        "    def __init__(self, name):\n",
        "        self.name = name\n",
        "\n",
        "    def introduce(self):\n",
        "        print(f\"Hi, I'm {self.name}.\")\n",
        "\n",
        "class Course:\n",
        "    def __init__(self, name, students):\n",
        "        self.name = name\n",
        "        self.students = students\n",
        "\n",
        "    def enroll(self, student):\n",
        "        self.students.append(student)\n",
        "\n",
        "    def print_students(self):\n",
        "        for student in self.students:\n",
        "            student.introduce()\n",
        "\n",
        "student1 = Student(\"Alice\")\n",
        "student2 = Student(\"Bob\")\n",
        "\n",
        "course = Course(\"Python Programming\", [])\n",
        "course.enroll(student1)\n",
        "course.enroll(student2)\n",
        "\n",
        "course.print_students()"
      ],
      "metadata": {
        "colab": {
          "base_uri": "https://localhost:8080/"
        },
        "id": "8lAcBmy15DfZ",
        "outputId": "13556cea-4812-4351-f054-b02144074d00"
      },
      "execution_count": 18,
      "outputs": [
        {
          "output_type": "stream",
          "name": "stdout",
          "text": [
            "Hi, I'm Alice.\n",
            "Hi, I'm Bob.\n"
          ]
        }
      ]
    },
    {
      "cell_type": "markdown",
      "source": [
        "# Singleton Pattern"
      ],
      "metadata": {
        "id": "6XH_vzxx5Hg2"
      }
    },
    {
      "cell_type": "code",
      "source": [
        "class Singleton:\n",
        "    _instance = None\n",
        "\n",
        "    def __new__(cls):\n",
        "        if cls._instance is None:\n",
        "            cls._instance = super().__new__(cls)\n",
        "        return cls._instance\n",
        "\n",
        "# Creating instances of the Singleton class\n",
        "s1 = Singleton()\n",
        "s2 = Singleton()\n",
        "\n",
        "print(s1 is s2)"
      ],
      "metadata": {
        "colab": {
          "base_uri": "https://localhost:8080/"
        },
        "id": "9O0nJjOi5GDE",
        "outputId": "286eff57-ae7b-4f8a-c8ae-92de235e64df"
      },
      "execution_count": 19,
      "outputs": [
        {
          "output_type": "stream",
          "name": "stdout",
          "text": [
            "True\n"
          ]
        }
      ]
    },
    {
      "cell_type": "markdown",
      "source": [
        "# Factory Pattern"
      ],
      "metadata": {
        "id": "VJnyBegc5KVD"
      }
    },
    {
      "cell_type": "code",
      "source": [
        "class Animal:\n",
        "    def speak(self):\n",
        "        pass\n",
        "\n",
        "class Dog(Animal):\n",
        "    def speak(self):\n",
        "        return \"Woof!\"\n",
        "\n",
        "class Cat(Animal):\n",
        "    def speak(self):\n",
        "        return \"Meow!\"\n",
        "\n",
        "class AnimalFactory:\n",
        "    def create_animal(self, animal_type):\n",
        "        if animal_type == \"dog\":\n",
        "            return Dog()\n",
        "        elif animal_type == \"cat\":\n",
        "            return Cat()\n",
        "        else:\n",
        "            raise ValueError(f\"Unknown animal type: {animal_type}\")\n",
        "\n",
        "factory = AnimalFactory()\n",
        "\n",
        "dog = factory.create_animal(\"dog\")\n",
        "print(dog.speak())\n",
        "\n",
        "cat = factory.create_animal(\"cat\")\n",
        "print(cat.speak())"
      ],
      "metadata": {
        "colab": {
          "base_uri": "https://localhost:8080/"
        },
        "id": "VUxd7PhT5JPc",
        "outputId": "f51e7fa3-2d18-4770-f834-ab0c38a080c2"
      },
      "execution_count": 20,
      "outputs": [
        {
          "output_type": "stream",
          "name": "stdout",
          "text": [
            "Woof!\n",
            "Meow!\n"
          ]
        }
      ]
    },
    {
      "cell_type": "markdown",
      "source": [
        "# Adapter Pattern"
      ],
      "metadata": {
        "id": "Td9f0ZvI5OKY"
      }
    },
    {
      "cell_type": "code",
      "source": [
        "class Target:\n",
        "    def request(self):\n",
        "        return \"Target: The default target's behavior.\"\n",
        "\n",
        "class Adaptee:\n",
        "    def specific_request(self):\n",
        "        return \".eetpadA eht fo roivaheb laicepS\"\n",
        "\n",
        "class Adapter(Target):\n",
        "    def __init__(self, adaptee):\n",
        "        self.adaptee = adaptee\n",
        "\n",
        "    def request(self):\n",
        "        return f\"Adapter: (TRANSLATED) {self.adaptee.specific_request()[::-1]}\"\n",
        "\n",
        "target = Target()\n",
        "print(target.request())\n",
        "\n",
        "adaptee = Adaptee()\n",
        "print(adaptee.specific_request())\n",
        "\n",
        "adapter = Adapter(adaptee)\n",
        "print(adapter.request())"
      ],
      "metadata": {
        "colab": {
          "base_uri": "https://localhost:8080/"
        },
        "id": "Yx5BfKZK5Mp2",
        "outputId": "65409daa-d239-46bc-d55b-815f42a071bc"
      },
      "execution_count": 21,
      "outputs": [
        {
          "output_type": "stream",
          "name": "stdout",
          "text": [
            "Target: The default target's behavior.\n",
            ".eetpadA eht fo roivaheb laicepS\n",
            "Adapter: (TRANSLATED) Special behavior of the Adaptee.\n"
          ]
        }
      ]
    },
    {
      "cell_type": "markdown",
      "source": [
        "# Decorator Pattern"
      ],
      "metadata": {
        "id": "nk4nyjo35TzW"
      }
    },
    {
      "cell_type": "code",
      "source": [
        "class Component:\n",
        "    def operation(self):\n",
        "        pass\n",
        "\n",
        "class ConcreteComponent(Component):\n",
        "    def operation(self):\n",
        "        return \"ConcreteComponent\"\n",
        "\n",
        "class Decorator(Component):\n",
        "    def __init__(self, component):\n",
        "        self._component = component\n",
        "\n",
        "    @property\n",
        "    def component(self):\n",
        "        return self._component\n",
        "\n",
        "    def operation(self):\n",
        "        return self._component.operation()\n",
        "\n",
        "class ConcreteDecoratorA(Decorator):\n",
        "    def operation(self):\n",
        "        return f\"ConcreteDecoratorA({self.component.operation()})\"\n",
        "\n",
        "class ConcreteDecoratorB(Decorator):\n",
        "    def operation(self):\n",
        "        return f\"ConcreteDecoratorB({self.component.operation()})\"\n",
        "\n",
        "simple = ConcreteComponent()\n",
        "print(simple.operation())\n",
        "\n",
        "decorator1 = ConcreteDecoratorA(simple)\n",
        "print(decorator1.operation())\n",
        "\n",
        "decorator2 = ConcreteDecoratorB(decorator1)\n",
        "print(decorator2.operation())"
      ],
      "metadata": {
        "colab": {
          "base_uri": "https://localhost:8080/"
        },
        "id": "4PYL4BZt5SWi",
        "outputId": "d4e1556b-552d-43cd-8dee-d23c05d9a808"
      },
      "execution_count": 22,
      "outputs": [
        {
          "output_type": "stream",
          "name": "stdout",
          "text": [
            "ConcreteComponent\n",
            "ConcreteDecoratorA(ConcreteComponent)\n",
            "ConcreteDecoratorB(ConcreteDecoratorA(ConcreteComponent))\n"
          ]
        }
      ]
    },
    {
      "cell_type": "markdown",
      "source": [
        "# Observer Pattern"
      ],
      "metadata": {
        "id": "UfIoafwg5ZNq"
      }
    },
    {
      "cell_type": "code",
      "source": [
        "class Subject:\n",
        "    def __init__(self):\n",
        "        self._observers = []\n",
        "\n",
        "    def attach(self, observer):\n",
        "        self._observers.append(observer)\n",
        "\n",
        "    def detach(self, observer):\n",
        "        self._observers.remove(observer)\n",
        "\n",
        "    def notify(self):\n",
        "        for observer in self._observers:\n",
        "            observer.update(self)\n",
        "\n",
        "class ConcreteSubject(Subject):\n",
        "    def __init__(self, state):\n",
        "        super().__init__()\n",
        "        self._state = state\n",
        "\n",
        "    @property\n",
        "    def state(self):\n",
        "        return self._state\n",
        "\n",
        "    @state.setter\n",
        "    def state(self, state):\n",
        "        self._state = state\n",
        "        self.notify()\n",
        "\n",
        "class Observer:\n",
        "    def update(self, subject):\n",
        "        pass\n",
        "\n",
        "class ConcreteObserverA(Observer):\n",
        "    def update(self, subject):\n",
        "        if subject.state < 3:\n",
        "            print(\"ConcreteObserverA: Reacted to the event\")\n",
        "\n",
        "class ConcreteObserverB(Observer):\n",
        "    def update(self, subject):\n",
        "        if subject.state == 0 or subject.state >= 2:\n",
        "            print(\"ConcreteObserverB: Reacted to the event\")\n",
        "\n",
        "subject = ConcreteSubject(0)\n",
        "\n",
        "observer_a = ConcreteObserverA()\n",
        "subject.attach(observer_a)\n",
        "\n",
        "observer_b = ConcreteObserverB()\n",
        "subject.attach(observer_b)\n",
        "\n",
        "subject.state = 1\n",
        "\n",
        "subject.state = 2\n",
        "\n",
        "subject.detach(observer_a)\n",
        "\n",
        "subject.state = 3"
      ],
      "metadata": {
        "colab": {
          "base_uri": "https://localhost:8080/"
        },
        "id": "D7BqHASZ5X53",
        "outputId": "b9117d83-517f-4cf3-9ad1-4500ebb8cbb2"
      },
      "execution_count": 23,
      "outputs": [
        {
          "output_type": "stream",
          "name": "stdout",
          "text": [
            "ConcreteObserverA: Reacted to the event\n",
            "ConcreteObserverA: Reacted to the event\n",
            "ConcreteObserverB: Reacted to the event\n",
            "ConcreteObserverB: Reacted to the event\n"
          ]
        }
      ]
    },
    {
      "cell_type": "markdown",
      "source": [
        "# Strategy Pattern"
      ],
      "metadata": {
        "id": "C-Zq9XqG5dtA"
      }
    },
    {
      "cell_type": "code",
      "source": [
        "class Strategy:\n",
        "    def execute(self, a, b):\n",
        "        pass\n",
        "\n",
        "class ConcreteStrategyAdd(Strategy):\n",
        "    def execute(self, a, b):\n",
        "        return a + b\n",
        "\n",
        "class ConcreteStrategySubtract(Strategy):\n",
        "    def execute(self, a, b):\n",
        "        return a - b\n",
        "\n",
        "class ConcreteStrategyMultiply(Strategy):\n",
        "    def execute(self, a, b):\n",
        "        return a * b\n",
        "\n",
        "class Context:\n",
        "    def __init__(self, strategy):\n",
        "        self._strategy = strategy\n",
        "\n",
        "    @property\n",
        "    def strategy(self):\n",
        "        return self._strategy\n",
        "\n",
        "    @strategy.setter\n",
        "    def strategy(self, strategy):\n",
        "        self._strategy = strategy\n",
        "\n",
        "    def execute_strategy(self, a, b):\n",
        "        return self._strategy.execute(a, b)\n",
        "\n",
        "context = Context(ConcreteStrategyAdd())\n",
        "result = context.execute_strategy(3, 4)\n",
        "print(result)\n",
        "\n",
        "context.strategy = ConcreteStrategySubtract()\n",
        "result = context.execute_strategy(3, 4)\n",
        "print(result)\n",
        "\n",
        "context.strategy = ConcreteStrategyMultiply()\n",
        "result = context.execute_strategy(3, 4)\n",
        "print(result)"
      ],
      "metadata": {
        "colab": {
          "base_uri": "https://localhost:8080/"
        },
        "id": "vfKBZiMV5can",
        "outputId": "ad712bf2-4d8b-4622-e7c3-7b56266e4320"
      },
      "execution_count": 24,
      "outputs": [
        {
          "output_type": "stream",
          "name": "stdout",
          "text": [
            "7\n",
            "-1\n",
            "12\n"
          ]
        }
      ]
    },
    {
      "cell_type": "markdown",
      "source": [
        "# Single Responsibility Principle (SRP)"
      ],
      "metadata": {
        "id": "FgZgJ3_i5jrP"
      }
    },
    {
      "cell_type": "code",
      "source": [
        "class Employee:\n",
        "    def __init__(self, name, email):\n",
        "        self.name = name\n",
        "        self.email = email\n",
        "\n",
        "    def save_to_database(self):\n",
        "        # Code to save employee to database\n",
        "        pass\n",
        "\n",
        "    def send_email(self, message):\n",
        "        # Code to send email to employee\n",
        "        pass"
      ],
      "metadata": {
        "id": "pyPCQvsd5iMS"
      },
      "execution_count": 25,
      "outputs": []
    },
    {
      "cell_type": "code",
      "source": [
        "class Employee:\n",
        "    def __init__(self, name, email):\n",
        "        self.name = name\n",
        "        self.email = email\n",
        "\n",
        "    def save_to_database(self):\n",
        "        # Code to save employee to database\n",
        "        pass\n",
        "\n",
        "class EmailSender:\n",
        "    def send_email(self, email, message):\n",
        "        # Code to send email\n",
        "        pass"
      ],
      "metadata": {
        "id": "u17ChdCK5lHe"
      },
      "execution_count": 26,
      "outputs": []
    },
    {
      "cell_type": "markdown",
      "source": [
        "# Open-Closed Principle (OCP)"
      ],
      "metadata": {
        "id": "3jUNhkCa5nYL"
      }
    },
    {
      "cell_type": "code",
      "source": [
        "class Rectangle:\n",
        "    def __init__(self, width, height):\n",
        "        self.width = width\n",
        "        self.height = height\n",
        "\n",
        "    def calculate_area(self):\n",
        "        return self.width * self.height\n",
        "\n",
        "class Circle:\n",
        "    def __init__(self, radius):\n",
        "        self.radius = radius\n",
        "\n",
        "    def calculate_area(self):\n",
        "        return 3.14 * self.radius ** 2\n",
        "\n",
        "def total_area(shapes):\n",
        "    total = 0\n",
        "    for shape in shapes:\n",
        "        if isinstance(shape, Rectangle):\n",
        "            total += shape.width * shape.height\n",
        "        elif isinstance(shape, Circle):\n",
        "            total += 3.14 * shape.radius ** 2\n",
        "    return total"
      ],
      "metadata": {
        "id": "OUWncq_N5mPL"
      },
      "execution_count": 27,
      "outputs": []
    },
    {
      "cell_type": "markdown",
      "source": [
        "# Exception Handling in OOP"
      ],
      "metadata": {
        "id": "AsyukEN_5p-M"
      }
    },
    {
      "cell_type": "code",
      "source": [
        "class BankAccount:\n",
        "    def __init__(self, balance):\n",
        "        self.balance = balance\n",
        "\n",
        "    def withdraw(self, amount):\n",
        "        if amount > self.balance:\n",
        "            raise ValueError(\"Insufficient funds\")\n",
        "        self.balance -= amount\n",
        "\n",
        "    def deposit(self, amount):\n",
        "        self.balance += amount\n",
        "\n",
        "try:\n",
        "    account = BankAccount(1000)\n",
        "    account.withdraw(1500)\n",
        "except ValueError as e:\n",
        "    print(f\"Error: {str(e)}\")"
      ],
      "metadata": {
        "colab": {
          "base_uri": "https://localhost:8080/"
        },
        "id": "zS-__wX55o1F",
        "outputId": "186d1e94-33e0-40ac-c2cf-89f653d39910"
      },
      "execution_count": 28,
      "outputs": [
        {
          "output_type": "stream",
          "name": "stdout",
          "text": [
            "Error: Insufficient funds\n"
          ]
        }
      ]
    },
    {
      "cell_type": "markdown",
      "source": [
        "# Iterators and Generators"
      ],
      "metadata": {
        "id": "XBJnpema5sV7"
      }
    },
    {
      "cell_type": "code",
      "source": [
        "class Fibonacci:\n",
        "    def __init__(self, limit):\n",
        "        self.limit = limit\n",
        "        self.a, self.b = 0, 1\n",
        "\n",
        "    def __iter__(self):\n",
        "        return self\n",
        "\n",
        "    def __next__(self):\n",
        "        if self.a > self.limit:\n",
        "            raise StopIteration\n",
        "        result = self.a\n",
        "        self.a, self.b = self.b, self.a + self.b\n",
        "        return result\n",
        "\n",
        "fib = Fibonacci(100)\n",
        "for num in fib:\n",
        "    print(num)"
      ],
      "metadata": {
        "colab": {
          "base_uri": "https://localhost:8080/"
        },
        "id": "J0q83Xex5rRA",
        "outputId": "9bcede3e-523b-40cf-8cee-af12a40db369"
      },
      "execution_count": 29,
      "outputs": [
        {
          "output_type": "stream",
          "name": "stdout",
          "text": [
            "0\n",
            "1\n",
            "1\n",
            "2\n",
            "3\n",
            "5\n",
            "8\n",
            "13\n",
            "21\n",
            "34\n",
            "55\n",
            "89\n"
          ]
        }
      ]
    },
    {
      "cell_type": "markdown",
      "source": [
        "# Metaclasses"
      ],
      "metadata": {
        "id": "8uJ3-K6F5u4i"
      }
    },
    {
      "cell_type": "code",
      "source": [
        "class Singleton(type):\n",
        "    _instances = {}\n",
        "\n",
        "    def __call__(cls, *args, **kwargs):\n",
        "        if cls not in cls._instances:\n",
        "            cls._instances[cls] = super().__call__(*args, **kwargs)\n",
        "        return cls._instances[cls]\n",
        "\n",
        "class MyClass(metaclass=Singleton):\n",
        "    def __init__(self, value):\n",
        "        self.value = value\n",
        "\n",
        "obj1 = MyClass(1)\n",
        "obj2 = MyClass(2)\n",
        "\n",
        "print(obj1.value)\n",
        "print(obj2.value)"
      ],
      "metadata": {
        "colab": {
          "base_uri": "https://localhost:8080/"
        },
        "id": "msxELaQm5tmz",
        "outputId": "89a112bf-8256-493a-c19c-33b8b55add13"
      },
      "execution_count": 30,
      "outputs": [
        {
          "output_type": "stream",
          "name": "stdout",
          "text": [
            "1\n",
            "1\n"
          ]
        }
      ]
    }
  ]
}