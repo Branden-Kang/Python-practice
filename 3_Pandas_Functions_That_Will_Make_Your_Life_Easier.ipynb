{
  "nbformat": 4,
  "nbformat_minor": 0,
  "metadata": {
    "colab": {
      "name": "3 Pandas Functions That Will Make Your Life Easier.ipynb",
      "provenance": [],
      "authorship_tag": "ABX9TyPFSAmSHd9wYpkg8xVcLzt9"
    },
    "kernelspec": {
      "name": "python3",
      "display_name": "Python 3"
    }
  },
  "cells": [
    {
      "cell_type": "markdown",
      "metadata": {
        "id": "JMXrK2R9Iy6j"
      },
      "source": [
        "[Reference](https://towardsdatascience.com/3-pandas-functions-that-will-make-your-life-easier-4d0ce57775a1)"
      ]
    },
    {
      "cell_type": "markdown",
      "metadata": {
        "id": "sVxnf94nI1yY"
      },
      "source": [
        "# 1. Convert_dtypes"
      ]
    },
    {
      "cell_type": "code",
      "metadata": {
        "id": "xlXA6L7UImMd"
      },
      "source": [
        "import numpy as np\n",
        "import pandas as pd\n",
        "\n",
        "name = pd.Series(['John','Jane','Emily','Robert','Ashley'])\n",
        "height = pd.Series([1.80, 1.79, 1.76, 1.81, 1.75], dtype='object')\n",
        "weight = pd.Series([83, 63, 66, 74, 64], dtype='object')\n",
        "enroll = pd.Series([True, True, False, True, False], dtype='object')\n",
        "team = pd.Series(['A','A','B','C','B'])\n",
        "\n",
        "df = pd.DataFrame({\n",
        "    'name':name,\n",
        "    'height':height,\n",
        "    'weight':weight,\n",
        "    'enroll':enroll,\n",
        "    'team':team\n",
        "})"
      ],
      "execution_count": 1,
      "outputs": []
    },
    {
      "cell_type": "code",
      "metadata": {
        "colab": {
          "base_uri": "https://localhost:8080/"
        },
        "id": "OIs89ZjJI5GE",
        "outputId": "e73b2266-eaf5-4cfd-c296-a6d38496c58a"
      },
      "source": [
        "df.dtypes"
      ],
      "execution_count": 2,
      "outputs": [
        {
          "output_type": "execute_result",
          "data": {
            "text/plain": [
              "name      object\n",
              "height    object\n",
              "weight    object\n",
              "enroll    object\n",
              "team      object\n",
              "dtype: object"
            ]
          },
          "metadata": {
            "tags": []
          },
          "execution_count": 2
        }
      ]
    },
    {
      "cell_type": "code",
      "metadata": {
        "colab": {
          "base_uri": "https://localhost:8080/"
        },
        "id": "j2fDpytYI6VA",
        "outputId": "6970a133-34cd-40c5-8cf6-e35787dda43c"
      },
      "source": [
        "df_new = df.convert_dtypes()\n",
        "df_new.dtypes"
      ],
      "execution_count": 3,
      "outputs": [
        {
          "output_type": "execute_result",
          "data": {
            "text/plain": [
              "name       string\n",
              "height    float64\n",
              "weight      Int64\n",
              "enroll    boolean\n",
              "team       string\n",
              "dtype: object"
            ]
          },
          "metadata": {
            "tags": []
          },
          "execution_count": 3
        }
      ]
    },
    {
      "cell_type": "code",
      "metadata": {
        "colab": {
          "base_uri": "https://localhost:8080/",
          "height": 204
        },
        "id": "_I8RkWv3JBoG",
        "outputId": "f2d227d1-fc18-4504-b3f0-81fca522353c"
      },
      "source": [
        "df_new.head()"
      ],
      "execution_count": 4,
      "outputs": [
        {
          "output_type": "execute_result",
          "data": {
            "text/html": [
              "<div>\n",
              "<style scoped>\n",
              "    .dataframe tbody tr th:only-of-type {\n",
              "        vertical-align: middle;\n",
              "    }\n",
              "\n",
              "    .dataframe tbody tr th {\n",
              "        vertical-align: top;\n",
              "    }\n",
              "\n",
              "    .dataframe thead th {\n",
              "        text-align: right;\n",
              "    }\n",
              "</style>\n",
              "<table border=\"1\" class=\"dataframe\">\n",
              "  <thead>\n",
              "    <tr style=\"text-align: right;\">\n",
              "      <th></th>\n",
              "      <th>name</th>\n",
              "      <th>height</th>\n",
              "      <th>weight</th>\n",
              "      <th>enroll</th>\n",
              "      <th>team</th>\n",
              "    </tr>\n",
              "  </thead>\n",
              "  <tbody>\n",
              "    <tr>\n",
              "      <th>0</th>\n",
              "      <td>John</td>\n",
              "      <td>1.80</td>\n",
              "      <td>83</td>\n",
              "      <td>True</td>\n",
              "      <td>A</td>\n",
              "    </tr>\n",
              "    <tr>\n",
              "      <th>1</th>\n",
              "      <td>Jane</td>\n",
              "      <td>1.79</td>\n",
              "      <td>63</td>\n",
              "      <td>True</td>\n",
              "      <td>A</td>\n",
              "    </tr>\n",
              "    <tr>\n",
              "      <th>2</th>\n",
              "      <td>Emily</td>\n",
              "      <td>1.76</td>\n",
              "      <td>66</td>\n",
              "      <td>False</td>\n",
              "      <td>B</td>\n",
              "    </tr>\n",
              "    <tr>\n",
              "      <th>3</th>\n",
              "      <td>Robert</td>\n",
              "      <td>1.81</td>\n",
              "      <td>74</td>\n",
              "      <td>True</td>\n",
              "      <td>C</td>\n",
              "    </tr>\n",
              "    <tr>\n",
              "      <th>4</th>\n",
              "      <td>Ashley</td>\n",
              "      <td>1.75</td>\n",
              "      <td>64</td>\n",
              "      <td>False</td>\n",
              "      <td>B</td>\n",
              "    </tr>\n",
              "  </tbody>\n",
              "</table>\n",
              "</div>"
            ],
            "text/plain": [
              "     name  height  weight  enroll team\n",
              "0    John    1.80      83    True    A\n",
              "1    Jane    1.79      63    True    A\n",
              "2   Emily    1.76      66   False    B\n",
              "3  Robert    1.81      74    True    C\n",
              "4  Ashley    1.75      64   False    B"
            ]
          },
          "metadata": {
            "tags": []
          },
          "execution_count": 4
        }
      ]
    },
    {
      "cell_type": "code",
      "metadata": {
        "id": "vlXQdgqzI9Aa"
      },
      "source": [
        "df_new = df.convert_dtypes(convert_boolean=False)"
      ],
      "execution_count": 5,
      "outputs": []
    },
    {
      "cell_type": "code",
      "metadata": {
        "colab": {
          "base_uri": "https://localhost:8080/",
          "height": 204
        },
        "id": "lh972wXwJCyP",
        "outputId": "2df0f7be-243a-4409-d804-9d3fb9914508"
      },
      "source": [
        "df_new.head()"
      ],
      "execution_count": 6,
      "outputs": [
        {
          "output_type": "execute_result",
          "data": {
            "text/html": [
              "<div>\n",
              "<style scoped>\n",
              "    .dataframe tbody tr th:only-of-type {\n",
              "        vertical-align: middle;\n",
              "    }\n",
              "\n",
              "    .dataframe tbody tr th {\n",
              "        vertical-align: top;\n",
              "    }\n",
              "\n",
              "    .dataframe thead th {\n",
              "        text-align: right;\n",
              "    }\n",
              "</style>\n",
              "<table border=\"1\" class=\"dataframe\">\n",
              "  <thead>\n",
              "    <tr style=\"text-align: right;\">\n",
              "      <th></th>\n",
              "      <th>name</th>\n",
              "      <th>height</th>\n",
              "      <th>weight</th>\n",
              "      <th>enroll</th>\n",
              "      <th>team</th>\n",
              "    </tr>\n",
              "  </thead>\n",
              "  <tbody>\n",
              "    <tr>\n",
              "      <th>0</th>\n",
              "      <td>John</td>\n",
              "      <td>1.80</td>\n",
              "      <td>83</td>\n",
              "      <td>1</td>\n",
              "      <td>A</td>\n",
              "    </tr>\n",
              "    <tr>\n",
              "      <th>1</th>\n",
              "      <td>Jane</td>\n",
              "      <td>1.79</td>\n",
              "      <td>63</td>\n",
              "      <td>1</td>\n",
              "      <td>A</td>\n",
              "    </tr>\n",
              "    <tr>\n",
              "      <th>2</th>\n",
              "      <td>Emily</td>\n",
              "      <td>1.76</td>\n",
              "      <td>66</td>\n",
              "      <td>0</td>\n",
              "      <td>B</td>\n",
              "    </tr>\n",
              "    <tr>\n",
              "      <th>3</th>\n",
              "      <td>Robert</td>\n",
              "      <td>1.81</td>\n",
              "      <td>74</td>\n",
              "      <td>1</td>\n",
              "      <td>C</td>\n",
              "    </tr>\n",
              "    <tr>\n",
              "      <th>4</th>\n",
              "      <td>Ashley</td>\n",
              "      <td>1.75</td>\n",
              "      <td>64</td>\n",
              "      <td>0</td>\n",
              "      <td>B</td>\n",
              "    </tr>\n",
              "  </tbody>\n",
              "</table>\n",
              "</div>"
            ],
            "text/plain": [
              "     name  height  weight  enroll team\n",
              "0    John    1.80      83       1    A\n",
              "1    Jane    1.79      63       1    A\n",
              "2   Emily    1.76      66       0    B\n",
              "3  Robert    1.81      74       1    C\n",
              "4  Ashley    1.75      64       0    B"
            ]
          },
          "metadata": {
            "tags": []
          },
          "execution_count": 6
        }
      ]
    },
    {
      "cell_type": "markdown",
      "metadata": {
        "id": "eK713tyAJXA3"
      },
      "source": [
        "# 2. Pipe"
      ]
    },
    {
      "cell_type": "code",
      "metadata": {
        "id": "MimIoUPAJDtA"
      },
      "source": [
        "def m_to_inc(dataf, column_name):\n",
        "   dataf[column_name] = dataf[column_name] / 0.0254\n",
        "   return dataf\n",
        "\n",
        "def drop_missing(dataf):\n",
        "   dataf.dropna(axis=0, how='any', inplace=True)\n",
        "   return dataf\n",
        "   \n",
        "def to_category(dataf):\n",
        "   cols = dataf.select_dtypes(include='string').columns\n",
        "   for col in cols:\n",
        "      ratio = len(dataf[col].value_counts()) / len(dataf)\n",
        "      if ratio < 0.05:\n",
        "         dataf[col] = dataf[col].astype('category')\n",
        "   return dataf"
      ],
      "execution_count": 7,
      "outputs": []
    },
    {
      "cell_type": "code",
      "metadata": {
        "id": "1GvzU4MaJYH4"
      },
      "source": [
        "df_processed = (df.\n",
        "                 pipe(m_to_inc, 'height').\n",
        "                 pipe(drop_missing).\n",
        "                 pipe(to_category))"
      ],
      "execution_count": 8,
      "outputs": []
    },
    {
      "cell_type": "code",
      "metadata": {
        "colab": {
          "base_uri": "https://localhost:8080/",
          "height": 204
        },
        "id": "At-bYmbzJo3p",
        "outputId": "3fe6f060-7586-4b37-9ea3-ecd2268f0897"
      },
      "source": [
        "df_processed.head()"
      ],
      "execution_count": 9,
      "outputs": [
        {
          "output_type": "execute_result",
          "data": {
            "text/html": [
              "<div>\n",
              "<style scoped>\n",
              "    .dataframe tbody tr th:only-of-type {\n",
              "        vertical-align: middle;\n",
              "    }\n",
              "\n",
              "    .dataframe tbody tr th {\n",
              "        vertical-align: top;\n",
              "    }\n",
              "\n",
              "    .dataframe thead th {\n",
              "        text-align: right;\n",
              "    }\n",
              "</style>\n",
              "<table border=\"1\" class=\"dataframe\">\n",
              "  <thead>\n",
              "    <tr style=\"text-align: right;\">\n",
              "      <th></th>\n",
              "      <th>name</th>\n",
              "      <th>height</th>\n",
              "      <th>weight</th>\n",
              "      <th>enroll</th>\n",
              "      <th>team</th>\n",
              "    </tr>\n",
              "  </thead>\n",
              "  <tbody>\n",
              "    <tr>\n",
              "      <th>0</th>\n",
              "      <td>John</td>\n",
              "      <td>70.8661</td>\n",
              "      <td>83</td>\n",
              "      <td>True</td>\n",
              "      <td>A</td>\n",
              "    </tr>\n",
              "    <tr>\n",
              "      <th>1</th>\n",
              "      <td>Jane</td>\n",
              "      <td>70.4724</td>\n",
              "      <td>63</td>\n",
              "      <td>True</td>\n",
              "      <td>A</td>\n",
              "    </tr>\n",
              "    <tr>\n",
              "      <th>2</th>\n",
              "      <td>Emily</td>\n",
              "      <td>69.2913</td>\n",
              "      <td>66</td>\n",
              "      <td>False</td>\n",
              "      <td>B</td>\n",
              "    </tr>\n",
              "    <tr>\n",
              "      <th>3</th>\n",
              "      <td>Robert</td>\n",
              "      <td>71.2598</td>\n",
              "      <td>74</td>\n",
              "      <td>True</td>\n",
              "      <td>C</td>\n",
              "    </tr>\n",
              "    <tr>\n",
              "      <th>4</th>\n",
              "      <td>Ashley</td>\n",
              "      <td>68.8976</td>\n",
              "      <td>64</td>\n",
              "      <td>False</td>\n",
              "      <td>B</td>\n",
              "    </tr>\n",
              "  </tbody>\n",
              "</table>\n",
              "</div>"
            ],
            "text/plain": [
              "     name   height weight enroll team\n",
              "0    John  70.8661     83   True    A\n",
              "1    Jane  70.4724     63   True    A\n",
              "2   Emily  69.2913     66  False    B\n",
              "3  Robert  71.2598     74   True    C\n",
              "4  Ashley  68.8976     64  False    B"
            ]
          },
          "metadata": {
            "tags": []
          },
          "execution_count": 9
        }
      ]
    },
    {
      "cell_type": "markdown",
      "metadata": {
        "id": "Hf7tSR5jJsER"
      },
      "source": [
        "# 3. Plot"
      ]
    },
    {
      "cell_type": "code",
      "metadata": {
        "colab": {
          "base_uri": "https://localhost:8080/",
          "height": 353
        },
        "id": "zjzrejEXJqzS",
        "outputId": "1d24dc3f-70ff-4926-c631-74dfc081a820"
      },
      "source": [
        "df_processed.weight.plot(kind='hist', title='Weight', figsize=(8,5))"
      ],
      "execution_count": 13,
      "outputs": [
        {
          "output_type": "execute_result",
          "data": {
            "text/plain": [
              "<matplotlib.axes._subplots.AxesSubplot at 0x7f47afc69a58>"
            ]
          },
          "metadata": {
            "tags": []
          },
          "execution_count": 13
        },
        {
          "output_type": "display_data",
          "data": {
            "image/png": "[encoded data removed]",
            "text/plain": [
              "<Figure size 576x360 with 1 Axes>"
            ]
          },
          "metadata": {
            "tags": [],
            "needs_background": "light"
          }
        }
      ]
    },
    {
      "cell_type": "code",
      "metadata": {
        "colab": {
          "base_uri": "https://localhost:8080/",
          "height": 367
        },
        "id": "Ug0Ywo-RJzqy",
        "outputId": "27e899d1-da51-4ed1-f8c3-69b8a280f0f5"
      },
      "source": [
        "df_new.plot(x='height', y='weight', kind='scatter',\n",
        "               title='Height vs Weight',\n",
        "               figsize = (8,5))"
      ],
      "execution_count": 15,
      "outputs": [
        {
          "output_type": "execute_result",
          "data": {
            "text/plain": [
              "<matplotlib.axes._subplots.AxesSubplot at 0x7f47afc13b00>"
            ]
          },
          "metadata": {
            "tags": []
          },
          "execution_count": 15
        },
        {
          "output_type": "display_data",
          "data": {
            "image/png": "[encoded data removed]",
            "text/plain": [
              "<Figure size 576x360 with 1 Axes>"
            ]
          },
          "metadata": {
            "tags": [],
            "needs_background": "light"
          }
        }
      ]
    }
  ]
}