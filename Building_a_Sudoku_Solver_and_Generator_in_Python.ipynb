{
  "nbformat": 4,
  "nbformat_minor": 0,
  "metadata": {
    "colab": {
      "name": "Building a Sudoku Solver and Generator in Python.ipynb",
      "provenance": [],
      "authorship_tag": "ABX9TyMiIF6j8DZVTXGEr7KCtR3C"
    },
    "kernelspec": {
      "name": "python3",
      "display_name": "Python 3"
    },
    "language_info": {
      "name": "python"
    }
  },
  "cells": [
    {
      "cell_type": "markdown",
      "metadata": {
        "id": "O4T5OIAQj5e1"
      },
      "source": [
        "[Reference](https://medium.com/codex/building-a-sudoku-solver-and-generator-in-python-2-3-5eef3141702c)"
      ]
    },
    {
      "cell_type": "code",
      "metadata": {
        "id": "ptJ7H_qui64j"
      },
      "source": [
        "def findSpaces(self): # finds the first empty space in the board, which is represented by a 0\n",
        "    for row in range(len(self.board)):\n",
        "        for col in range(len(self.board[0])):\n",
        "            if self.board[row][col] == 0:\n",
        "                return (row, col)\n",
        "\n",
        "    return False"
      ],
      "execution_count": 1,
      "outputs": []
    },
    {
      "cell_type": "code",
      "metadata": {
        "id": "HJJORRMpj8p4"
      },
      "source": [
        "def checkSpace(self, num, space): #checks to see if a number can be fitted into a specifc space; row, col\n",
        "    if not self.board[space[0]][space[1]] == 0: # check to see if space is a number already\n",
        "        return False\n",
        "\n",
        "    for col in self.board[space[0]]: # check to see if number is already in row\n",
        "        if col == num:\n",
        "            return False\n",
        "\n",
        "    for row in range(len(self.board)): # check to see if number is already in column\n",
        "        if self.board[row][space[1]] == num:\n",
        "            return False\n",
        "\n",
        "    _internalBoxRow = space[0] // 3\n",
        "    _internalBoxCol = space[1] // 3\n",
        "\n",
        "    for i in range(3): # check to see if internal box already has number\n",
        "        for j in range(3):\n",
        "            if self.board[i + (_internalBoxRow * 3)][j + (_internalBoxCol * 3)] == num:\n",
        "                return False\n",
        "    \n",
        "    return True"
      ],
      "execution_count": 2,
      "outputs": []
    },
    {
      "cell_type": "code",
      "metadata": {
        "id": "Snvee9-jj-X0"
      },
      "source": [
        "def solve(self): # solves a board using recursion\n",
        "    _spacesAvailable = self.findSpaces()\n",
        "\n",
        "    if not _spacesAvailable:\n",
        "        return True\n",
        "    else:\n",
        "        row, col = _spacesAvailable\n",
        "\n",
        "    for n in range(1, 10):\n",
        "        if self.checkSpace(n, (row, col)):\n",
        "            self.board[row][col] = n\n",
        "            \n",
        "            if self.solve():\n",
        "                return self.board\n",
        "\n",
        "            self.board[row][col] = 0\n",
        "\n",
        "    return False"
      ],
      "execution_count": 3,
      "outputs": []
    },
    {
      "cell_type": "code",
      "metadata": {
        "id": "hQQF0XNgkAAd"
      },
      "source": [
        "def solveForCode(self): # solves a board and returns the code of the solved board\n",
        "    return self.boardToCode(self.solve())"
      ],
      "execution_count": 4,
      "outputs": []
    },
    {
      "cell_type": "code",
      "metadata": {
        "id": "T-SpU2TwkBfi"
      },
      "source": [
        "def __generateRandomCompleteBoard(self): # generates a brand new completely random board full of numbers\n",
        "        self.__resetBoard()\n",
        "\n",
        "        _l = list(range(1, 10))\n",
        "        for row in range(3):\n",
        "            for col in range(3):\n",
        "                _num = random.choice(_l)\n",
        "                self.board[row][col] = _num\n",
        "                _l.remove(_num)\n",
        "\n",
        "        _l = list(range(1, 10))\n",
        "        for row in range(3, 6):\n",
        "            for col in range(3, 6):\n",
        "                _num = random.choice(_l)\n",
        "                self.board[row][col] = _num\n",
        "                _l.remove(_num)\n",
        "\n",
        "        _l = list(range(1, 10))\n",
        "        for row in range(6, 9):\n",
        "            for col in range(6, 9):\n",
        "                _num = random.choice(_l)\n",
        "                self.board[row][col] = _num\n",
        "                _l.remove(_num)\n",
        "\n",
        "        return self.__generateCont()"
      ],
      "execution_count": 5,
      "outputs": []
    },
    {
      "cell_type": "code",
      "metadata": {
        "id": "FN94Ll95kDJJ"
      },
      "source": [
        "def __generateCont(self): # uses recursion to finish generating a random board\n",
        "    for row in range(len(self.board)):\n",
        "        for col in range(len(self.board[row])):\n",
        "            if self.board[row][col] == 0:\n",
        "                _num = random.randint(1, 9)\n",
        "\n",
        "                if self.checkSpace(_num, (row, col)):\n",
        "                    self.board[row][col] = _num\n",
        "\n",
        "                    if self.solve():\n",
        "                        self.__generateCont()\n",
        "                        return self.board\n",
        "\n",
        "                    self.board[row][col] = 0\n",
        "\n",
        "    return False"
      ],
      "execution_count": 6,
      "outputs": []
    }
  ]
}