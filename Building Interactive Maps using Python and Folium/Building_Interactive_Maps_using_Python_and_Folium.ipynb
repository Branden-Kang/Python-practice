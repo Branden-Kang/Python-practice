{
  "nbformat": 4,
  "nbformat_minor": 0,
  "metadata": {
    "colab": {
      "name": "Building Interactive Maps using Python and Folium.ipynb",
      "provenance": [],
      "collapsed_sections": [],
      "authorship_tag": "ABX9TyOENfNEmGMNUVyE0kQIF00w"
    },
    "kernelspec": {
      "name": "python3",
      "display_name": "Python 3"
    }
  },
  "cells": [
    {
      "cell_type": "markdown",
      "metadata": {
        "id": "ceW22GtoBTsq",
        "colab_type": "text"
      },
      "source": [
        "# Building Interactive Maps using Python and Folium\n",
        "[Reference](https://codeburst.io/how-i-understood-displaying-interactive-maps-using-python-leaflet-js-and-folium-bd9b98c26e0e)"
      ]
    },
    {
      "cell_type": "code",
      "metadata": {
        "id": "mAaRJbK57x9a",
        "colab_type": "code",
        "colab": {
          "base_uri": "https://localhost:8080/",
          "height": 156
        },
        "outputId": "26f39e9c-388e-42a9-a54b-5223eda64361"
      },
      "source": [
        "import os\n",
        "from google.colab import drive\n",
        "drive.mount('/content/gdrive',force_remount=True)\n",
        "!pwd\n",
        "os.chdir('gdrive/My Drive/Colab Notebooks/')\n",
        "!pwd"
      ],
      "execution_count": 8,
      "outputs": [
        {
          "output_type": "stream",
          "text": [
            "Go to this URL in a browser: https://accounts.google.com/o/oauth2/auth?client_id=947318989803-6bn6qk8qdgf4n4g3pfee6491hc0brc4i.apps.googleusercontent.com&redirect_uri=urn%3aietf%3awg%3aoauth%3a2.0%3aoob&response_type=code&scope=email%20https%3a%2f%2fwww.googleapis.com%2fauth%2fdocs.test%20https%3a%2f%2fwww.googleapis.com%2fauth%2fdrive%20https%3a%2f%2fwww.googleapis.com%2fauth%2fdrive.photos.readonly%20https%3a%2f%2fwww.googleapis.com%2fauth%2fpeopleapi.readonly\n",
            "\n",
            "Enter your authorization code:\n",
            "··········\n",
            "Mounted at /content/gdrive\n",
            "/content\n",
            "/content/gdrive/My Drive/Colab Notebooks\n"
          ],
          "name": "stdout"
        }
      ]
    },
    {
      "cell_type": "markdown",
      "metadata": {
        "id": "Xq0L2XkeBP0k",
        "colab_type": "text"
      },
      "source": [
        "# Step 1: Import the required packages"
      ]
    },
    {
      "cell_type": "code",
      "metadata": {
        "id": "gtaOMVxf5LVj",
        "colab_type": "code",
        "colab": {}
      },
      "source": [
        "import pandas as pd\n",
        "import datetime\n",
        "import folium\n",
        "from folium.map import *\n",
        "from folium import plugins\n",
        "from folium.plugins import MeasureControl\n",
        "from folium.plugins import FloatImage"
      ],
      "execution_count": 30,
      "outputs": []
    },
    {
      "cell_type": "code",
      "metadata": {
        "id": "afFhf_hq5L6y",
        "colab_type": "code",
        "colab": {}
      },
      "source": [
        "day = 11\n",
        "month = 5\n",
        "year = 2015\n",
        "SF_COORDINATES = (37.76, -122.45)\n",
        "crimedata = pd.read_csv('https://raw.githubusercontent.com/joeljogy/Display-interactive-leaflet-maps/master/datasets/demo.csv')\n",
        "state_geo = 'https://raw.githubusercontent.com/joeljogy/Display-interactive-leaflet-maps/master/datasets/SFPD.json'\n",
        "\n",
        "list_of_crimes = [\"WARRANTS\",\"OTHER OFFENSES\",\"LARCENY/THEFT\",\"VEHICLE THEFT\",\"VANDALISM\",\"NON-CRIMINAL\",\"ROBBERY\",\"ASSAULT\",\"WEAPON LAWS\",\"BURGLARY\",\"SUSPICIOUS OCC\",\"DRUNKENNESS\",\"FORGERY/COUNTERFEITING\",\"DRUG/NARCOTIC\",\"STOLEN PROPERTY\",\"SECONDARY CODES\",\"TRESPASS\",\"MISSING PERSON\",\"FRAUD\",\"KIDNAPPING\",\"RUNAWAY\",\"DRIVING UNDER THE INFLUENCE\",\"SEX OFFENSES FORCIBLE\",\"PROSTITUTION\",\"DISORDERLY CONDUCT\",\"ARSON\",\"FAMILY OFFENSES\",\"LIQUOR LAWS\",\"BRIBERY\",\"EMBEZZLEMENT\",\"SUICIDE\",\"LOITERING\",\"SEX OFFENSES NON FORCIBLE\",\"EXTORTION\",\"GAMBLING\",\"BAD CHECKS\",\"TREA\",\"RECOVERED VEHICLE\",\"PORNOGRAPHY/OBSCENE MAT\"]\n",
        "list_of_pdistrict = [\"NORTHERN\",\"PARK\",\"INGLESIDE\",\"BAYVIEW\",\"RICHMOND\",\"CENTRAL\",\"TARAVAL\",\"TENDERLOIN\",\"MISSION\",\"SOUTHERN\"] \n",
        "count_of_pdistrict = {\"NORTHERN\":0,\"PARK\":0,\"INGLESIDE\":0,\"BAYVIEW\":0,\"RICHMOND\":0,\"CENTRAL\":0,\"TARAVAL\":0,\"TENDERLOIN\":0,\"MISSION\":0,\"SOUTHERN\":0}"
      ],
      "execution_count": 36,
      "outputs": []
    },
    {
      "cell_type": "code",
      "metadata": {
        "id": "9XlS-ZZj5a4o",
        "colab_type": "code",
        "colab": {}
      },
      "source": [
        "# initialize empty map zoomed in on San Francisco\n",
        "m = folium.Map(location=SF_COORDINATES, zoom_start=13,tiles='CartoDBPositron')\n",
        "cluster = folium.plugins.MarkerCluster(name=\"Previous Crimes\").add_to(m)"
      ],
      "execution_count": 37,
      "outputs": []
    },
    {
      "cell_type": "code",
      "metadata": {
        "id": "3p-ENKaW_EeT",
        "colab_type": "code",
        "colab": {}
      },
      "source": [
        "# add a marker for every record in the filtered data, use a clustered view\n",
        "for each in crimedata[0:878050].iterrows():\n",
        "    if ((int(each[1]['Day'])==day) and (int(each[1]['Month'])==month) and (int(each[1]['Year'])==year)):\n",
        "        crime_name = list_of_crimes[int(each[1]['Category'])-1]\n",
        "        occ_date = \"%s-%s-%s\"%(str(day),str(month),str(year))\n",
        "        pdistrict = list_of_pdistrict[int(each[1]['PdDistrict'])-1]\n",
        "        count_of_pdistrict[pdistrict]=(count_of_pdistrict[pdistrict])+1\n",
        "        location = \"%s,%s\"%(each[1]['Y'],each[1]['X'])\n",
        "        folium.Marker(location = [each[1]['Y'],each[1]['X']], popup='<b>Occured date: </b>%s<br></br><b>Crime Type: </b>%s<br></br><b>Police District: </b>%s<br></br><b>Location: </b>%s'%(occ_date,crime_name,pdistrict,location),).add_to(cluster)"
      ],
      "execution_count": 38,
      "outputs": []
    },
    {
      "cell_type": "code",
      "metadata": {
        "id": "5O74eQH7_G6r",
        "colab_type": "code",
        "colab": {}
      },
      "source": [
        "crime_count = open('./crime_countdata.csv','w')\n",
        "crime_count.write('PD,Crime_Count\\n')\n",
        "for key in count_of_pdistrict:\n",
        "    crime_count.write(\"%s,%s\\n\"%(key,str(count_of_pdistrict[key])))\n",
        "crime_count.close()"
      ],
      "execution_count": 43,
      "outputs": []
    },
    {
      "cell_type": "code",
      "metadata": {
        "id": "aUeLBaKa_fGz",
        "colab_type": "code",
        "colab": {
          "base_uri": "https://localhost:8080/",
          "height": 71
        },
        "outputId": "2923a514-f2cb-45bb-96e1-a1dc2763f3b1"
      },
      "source": [
        "state_data = pd.read_csv('./crime_countdata.csv')\n",
        "m.choropleth(\n",
        "    geo_data=state_geo,\n",
        "    name='choropleth',\n",
        "    data=state_data,\n",
        "    columns=['PD', 'Crime_Count'],\n",
        "    key_on='feature.id',\n",
        "    fill_color='Reds',\n",
        "    fill_opacity=0.7,\n",
        "    line_opacity=0.9,\n",
        "    legend_name='Crime Rate'\n",
        ")"
      ],
      "execution_count": 44,
      "outputs": [
        {
          "output_type": "stream",
          "text": [
            "/usr/local/lib/python3.6/dist-packages/folium/folium.py:426: FutureWarning: The choropleth  method has been deprecated. Instead use the new Choropleth class, which has the same arguments. See the example notebook 'GeoJSON_and_choropleth' for how to do this.\n",
            "  FutureWarning\n"
          ],
          "name": "stderr"
        }
      ]
    },
    {
      "cell_type": "code",
      "metadata": {
        "id": "v0Qi78b6AeBQ",
        "colab_type": "code",
        "colab": {}
      },
      "source": [
        "non_violent_loc =[[ 37.783003799999996,-122.4124143],[37.77436883,-122.5058834],[37.74491907,-122.47577350000002],[37.71083265,-122.43244650000001]]\n",
        "violent_loc=[[37.72156474,-122.47318200000001],[37.73511269,-122.4845457],[ 37.73449811,-122.4448541],[37.76978409,-122.449123]]\n",
        "for loc in non_violent_loc:\n",
        "    folium.CircleMarker(location=loc, radius=30,\n",
        "            popup='<b>Prediction Type: </b>Non-Violent Crime<br></br><b>Location: </b>%s'%(loc), line_color='#3186cc',\n",
        "            fill_color='#FFFFFF',fill_opacity=0.7, fill=True).add_to(m)\n",
        "for loc in violent_loc:\n",
        "    folium.CircleMarker(location=loc, radius=30,\n",
        "            popup='<b>Prediction Type: </b>Violent Crime<br></br><b>Location: </b>%s'%(loc), line_color='#3186cc',\n",
        "            fill_color='#000000',fill_opacity=0.7, fill=True).add_to(m)"
      ],
      "execution_count": 45,
      "outputs": []
    },
    {
      "cell_type": "code",
      "metadata": {
        "id": "uHS-Y6HwAllh",
        "colab_type": "code",
        "colab": {
          "base_uri": "https://localhost:8080/",
          "height": 34
        },
        "outputId": "02402ac5-64cb-41e4-a199-d188936911c2"
      },
      "source": [
        "folium.TileLayer(tiles='Stamen Toner',name=\"Stamen Toner\").add_to(m)\n",
        "folium.TileLayer(tiles='Stamen Terrain',name=\"Stamen Terrain\").add_to(m)\n",
        "folium.LayerControl().add_to(m)\n",
        "m.add_child(MeasureControl())\n",
        "\n",
        "m.save('index.html')\n",
        "print(\"Saving the webpage for map....\")"
      ],
      "execution_count": 47,
      "outputs": [
        {
          "output_type": "stream",
          "text": [
            "Saving the webpage for map....\n"
          ],
          "name": "stdout"
        }
      ]
    }
  ]
}
