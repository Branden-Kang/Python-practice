{
  "nbformat": 4,
  "nbformat_minor": 0,
  "metadata": {
    "colab": {
      "name": "for and while loops in Python.ipynb",
      "provenance": [],
      "authorship_tag": "ABX9TyMyH/Xn56OGN+QAxWan4UpF"
    },
    "kernelspec": {
      "name": "python3",
      "display_name": "Python 3"
    }
  },
  "cells": [
    {
      "cell_type": "markdown",
      "metadata": {
        "id": "cBaLkHp3xrXy"
      },
      "source": [
        "[Reference](https://medium.com/@chetan.ambi/how-to-use-python-for-and-while-loops-6a6a3325929c)"
      ]
    },
    {
      "cell_type": "markdown",
      "metadata": {
        "id": "KtAy11Wixt6H"
      },
      "source": [
        "# for loop"
      ]
    },
    {
      "cell_type": "code",
      "metadata": {
        "colab": {
          "base_uri": "https://localhost:8080/"
        },
        "id": "c6pnapgWxpeX",
        "outputId": "98bcc304-eb8f-4988-9eb7-f8bb84378e1a"
      },
      "source": [
        "for i in range(3):\n",
        "    print(i)"
      ],
      "execution_count": 1,
      "outputs": [
        {
          "output_type": "stream",
          "text": [
            "0\n",
            "1\n",
            "2\n"
          ],
          "name": "stdout"
        }
      ]
    },
    {
      "cell_type": "code",
      "metadata": {
        "colab": {
          "base_uri": "https://localhost:8080/"
        },
        "id": "WfsErV6-xv8N",
        "outputId": "7b250d93-a78f-421f-a806-b66b99fb819f"
      },
      "source": [
        "for c in \"Hi\":\n",
        "    print(c)"
      ],
      "execution_count": 2,
      "outputs": [
        {
          "output_type": "stream",
          "text": [
            "H\n",
            "i\n"
          ],
          "name": "stdout"
        }
      ]
    },
    {
      "cell_type": "code",
      "metadata": {
        "colab": {
          "base_uri": "https://localhost:8080/"
        },
        "id": "_3ezl7vdxwMa",
        "outputId": "fa6202c8-6711-467f-c466-500908166996"
      },
      "source": [
        "for c in \"Medium\":\n",
        "    if c == \"i\":\n",
        "        break\n",
        "    print(c)\n",
        "else:\n",
        "    print('Inside else')"
      ],
      "execution_count": 3,
      "outputs": [
        {
          "output_type": "stream",
          "text": [
            "M\n",
            "e\n",
            "d\n"
          ],
          "name": "stdout"
        }
      ]
    },
    {
      "cell_type": "code",
      "metadata": {
        "colab": {
          "base_uri": "https://localhost:8080/"
        },
        "id": "9jRabtLqx5kA",
        "outputId": "07aa1474-1147-4210-e5da-390555087d27"
      },
      "source": [
        "for c in \"Medium\":\n",
        "    if c == \"i\":\n",
        "        continue\n",
        "    print(c)\n",
        "else:\n",
        "    print('Inside else')"
      ],
      "execution_count": 4,
      "outputs": [
        {
          "output_type": "stream",
          "text": [
            "M\n",
            "e\n",
            "d\n",
            "u\n",
            "m\n",
            "Inside else\n"
          ],
          "name": "stdout"
        }
      ]
    },
    {
      "cell_type": "code",
      "metadata": {
        "colab": {
          "base_uri": "https://localhost:8080/"
        },
        "id": "XPPdPksJx_IJ",
        "outputId": "0f43b090-c0e3-4fc9-ce0f-478d1eee143d"
      },
      "source": [
        "for i in [10, 15, 20, 25, 30]:\n",
        "    try:\n",
        "        i / (i-20)\n",
        "    except ZeroDivisionError:\n",
        "        print('Division Zero Error encounterd: {0}'.format(i))\n",
        "        continue\n",
        "    finally:\n",
        "        print(\"Insdie finally: {0}\".format(i))\n",
        "else:\n",
        "    print('Inside Else')"
      ],
      "execution_count": 8,
      "outputs": [
        {
          "output_type": "stream",
          "text": [
            "Insdie finally: 10\n",
            "Insdie finally: 15\n",
            "Division Zero Error encounterd: 20\n",
            "Insdie finally: 20\n",
            "Insdie finally: 25\n",
            "Insdie finally: 30\n",
            "Inside Else\n"
          ],
          "name": "stdout"
        }
      ]
    },
    {
      "cell_type": "code",
      "metadata": {
        "colab": {
          "base_uri": "https://localhost:8080/"
        },
        "id": "qH_JhWZUyTIg",
        "outputId": "a72cc36e-eaca-4a6f-feab-c6911c24db2c"
      },
      "source": [
        "for i in [10, 15, 20, 25, 30]:\n",
        "    try:\n",
        "        i / (i-20)\n",
        "    except ZeroDivisionError:\n",
        "        print('Division Zero Error encounterd: {0}'.format(i))\n",
        "        break\n",
        "    finally:\n",
        "        print(\"Insdie finally: {0}\".format(i))\n",
        "else:\n",
        "    print('Inside Else')"
      ],
      "execution_count": 9,
      "outputs": [
        {
          "output_type": "stream",
          "text": [
            "Insdie finally: 10\n",
            "Insdie finally: 15\n",
            "Division Zero Error encounterd: 20\n",
            "Insdie finally: 20\n"
          ],
          "name": "stdout"
        }
      ]
    },
    {
      "cell_type": "markdown",
      "metadata": {
        "id": "NVaqZ3yZyjI_"
      },
      "source": [
        "# while loop"
      ]
    },
    {
      "cell_type": "code",
      "metadata": {
        "colab": {
          "base_uri": "https://localhost:8080/"
        },
        "id": "Axbkkft0yhXX",
        "outputId": "02a1fb6a-6b51-4e90-9d59-6ab90924ffaf"
      },
      "source": [
        "i = 0\n",
        "while (i < 3):\n",
        "    print(i)\n",
        "    i+= 1"
      ],
      "execution_count": 10,
      "outputs": [
        {
          "output_type": "stream",
          "text": [
            "0\n",
            "1\n",
            "2\n"
          ],
          "name": "stdout"
        }
      ]
    },
    {
      "cell_type": "code",
      "metadata": {
        "colab": {
          "base_uri": "https://localhost:8080/"
        },
        "id": "eQxoGr3jykqf",
        "outputId": "2c25f4ee-e07c-4f5d-ede2-7b2b03e22355"
      },
      "source": [
        "i = 5\n",
        "while (i > 0):\n",
        "    i = i -1\n",
        "    if i == 2:\n",
        "        continue\n",
        "    print(\"inside loop\", i)\n",
        "else:\n",
        "    print('Inside else')"
      ],
      "execution_count": 11,
      "outputs": [
        {
          "output_type": "stream",
          "text": [
            "inside loop 4\n",
            "inside loop 3\n",
            "inside loop 1\n",
            "inside loop 0\n",
            "Inside else\n"
          ],
          "name": "stdout"
        }
      ]
    },
    {
      "cell_type": "code",
      "metadata": {
        "colab": {
          "base_uri": "https://localhost:8080/"
        },
        "id": "fRFCaqBKyv3C",
        "outputId": "b2d7864b-c1e0-48e9-854c-609f98d8eb8f"
      },
      "source": [
        "i = 5\n",
        "while (i > 0):\n",
        "    i = i -1\n",
        "    if i == 2:\n",
        "        break\n",
        "    print(\"inside loop\", i)\n",
        "else:\n",
        "    print('Inside else')"
      ],
      "execution_count": 12,
      "outputs": [
        {
          "output_type": "stream",
          "text": [
            "inside loop 4\n",
            "inside loop 3\n"
          ],
          "name": "stdout"
        }
      ]
    },
    {
      "cell_type": "code",
      "metadata": {
        "colab": {
          "base_uri": "https://localhost:8080/"
        },
        "id": "rbeCsf8myyN2",
        "outputId": "b00da738-1025-4fc9-d74b-e7f50f99c188"
      },
      "source": [
        "a = 0\n",
        "b = 2\n",
        "\n",
        "while (a < 5):\n",
        "    a += 1\n",
        "    b -= 1\n",
        "    try:\n",
        "        a/b\n",
        "    except:\n",
        "        print(\"exception encountered: a={0}, b={1}\".format(a,b))\n",
        "        break\n",
        "    finally:\n",
        "        print(\"Inside finally: a={0}, b={1}\".format(a,b))\n",
        "else:\n",
        "    print('Inside else')"
      ],
      "execution_count": 13,
      "outputs": [
        {
          "output_type": "stream",
          "text": [
            "Inside finally: a=1, b=1\n",
            "exception encountered: a=2, b=0\n",
            "Inside finally: a=2, b=0\n"
          ],
          "name": "stdout"
        }
      ]
    },
    {
      "cell_type": "code",
      "metadata": {
        "colab": {
          "base_uri": "https://localhost:8080/"
        },
        "id": "YbYUrY6AzI9i",
        "outputId": "da46b820-c36b-42f4-f0f5-6f9e7f2f13de"
      },
      "source": [
        "a = 0\n",
        "b = 2\n",
        "\n",
        "while (a < 5):\n",
        "    a += 1\n",
        "    b -= 1\n",
        "    try:\n",
        "        a/b\n",
        "    except:\n",
        "        print(\"exception encountered: a={0}, b={1}\".format(a,b))\n",
        "        continue\n",
        "    finally:\n",
        "        print(\"Inside finally: a={0}, b={1}\".format(a,b))\n",
        "else:\n",
        "    print('Inside else')"
      ],
      "execution_count": 14,
      "outputs": [
        {
          "output_type": "stream",
          "text": [
            "Inside finally: a=1, b=1\n",
            "exception encountered: a=2, b=0\n",
            "Inside finally: a=2, b=0\n",
            "Inside finally: a=3, b=-1\n",
            "Inside finally: a=4, b=-2\n",
            "Inside finally: a=5, b=-3\n",
            "Inside else\n"
          ],
          "name": "stdout"
        }
      ]
    }
  ]
}