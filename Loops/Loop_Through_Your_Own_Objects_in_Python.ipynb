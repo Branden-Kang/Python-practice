{
  "nbformat": 4,
  "nbformat_minor": 0,
  "metadata": {
    "colab": {
      "name": "Loop Through Your Own Objects in Python.ipynb",
      "provenance": [],
      "authorship_tag": "ABX9TyOsVCzH5Dz63o114J8EmGxN"
    },
    "kernelspec": {
      "name": "python3",
      "display_name": "Python 3"
    }
  },
  "cells": [
    {
      "cell_type": "markdown",
      "metadata": {
        "id": "OHbRtS3kqM0E"
      },
      "source": [
        "[Reference](https://towardsdatascience.com/how-to-loop-through-your-own-objects-in-python-1609c81e11ff)"
      ]
    },
    {
      "cell_type": "code",
      "metadata": {
        "colab": {
          "base_uri": "https://localhost:8080/"
        },
        "id": "TSNXwCgWqLI4",
        "outputId": "b9d8a5ae-8b19-4a2e-95e9-8fc2a25c7707"
      },
      "source": [
        "my_list = [1, 2, 3, 4, 5]\n",
        "\n",
        "my_tuple = (1, 2, 3, 4, 5)\n",
        "\n",
        "my_str = 'a string of characters'\n",
        "\n",
        "print(iter(my_list))\n",
        "print(iter(my_tuple))\n",
        "print(iter(my_str))"
      ],
      "execution_count": 1,
      "outputs": [
        {
          "output_type": "stream",
          "text": [
            "<list_iterator object at 0x7f49a926e4e0>\n",
            "<tuple_iterator object at 0x7f49a926e470>\n",
            "<str_iterator object at 0x7f49a926e518>\n"
          ],
          "name": "stdout"
        }
      ]
    },
    {
      "cell_type": "code",
      "metadata": {
        "colab": {
          "base_uri": "https://localhost:8080/",
          "height": 300
        },
        "id": "_64p8ZHMqQFf",
        "outputId": "03da6fee-68d6-4950-824b-0a028edc0f4e"
      },
      "source": [
        "my_list = [1, 2, 3]\n",
        "\n",
        "my_iter_list = iter(my_list)\n",
        "\n",
        "print(type(my_iter_list))\n",
        "\n",
        "print(next(my_iter_list))\n",
        "print(next(my_iter_list))\n",
        "print(next(my_iter_list))\n",
        "print(next(my_iter_list))"
      ],
      "execution_count": 2,
      "outputs": [
        {
          "output_type": "stream",
          "text": [
            "<class 'list_iterator'>\n",
            "1\n",
            "2\n",
            "3\n"
          ],
          "name": "stdout"
        },
        {
          "output_type": "error",
          "ename": "StopIteration",
          "evalue": "ignored",
          "traceback": [
            "\u001b[0;31m---------------------------------------------------------------------------\u001b[0m",
            "\u001b[0;31mStopIteration\u001b[0m                             Traceback (most recent call last)",
            "\u001b[0;32m<ipython-input-2-08c8614be941>\u001b[0m in \u001b[0;36m<module>\u001b[0;34m()\u001b[0m\n\u001b[1;32m      8\u001b[0m \u001b[0mprint\u001b[0m\u001b[0;34m(\u001b[0m\u001b[0mnext\u001b[0m\u001b[0;34m(\u001b[0m\u001b[0mmy_iter_list\u001b[0m\u001b[0;34m)\u001b[0m\u001b[0;34m)\u001b[0m\u001b[0;34m\u001b[0m\u001b[0;34m\u001b[0m\u001b[0m\n\u001b[1;32m      9\u001b[0m \u001b[0mprint\u001b[0m\u001b[0;34m(\u001b[0m\u001b[0mnext\u001b[0m\u001b[0;34m(\u001b[0m\u001b[0mmy_iter_list\u001b[0m\u001b[0;34m)\u001b[0m\u001b[0;34m)\u001b[0m\u001b[0;34m\u001b[0m\u001b[0;34m\u001b[0m\u001b[0m\n\u001b[0;32m---> 10\u001b[0;31m \u001b[0mprint\u001b[0m\u001b[0;34m(\u001b[0m\u001b[0mnext\u001b[0m\u001b[0;34m(\u001b[0m\u001b[0mmy_iter_list\u001b[0m\u001b[0;34m)\u001b[0m\u001b[0;34m)\u001b[0m\u001b[0;34m\u001b[0m\u001b[0;34m\u001b[0m\u001b[0m\n\u001b[0m",
            "\u001b[0;31mStopIteration\u001b[0m: "
          ]
        }
      ]
    },
    {
      "cell_type": "code",
      "metadata": {
        "colab": {
          "base_uri": "https://localhost:8080/"
        },
        "id": "K_ET_MWIqRWS",
        "outputId": "f83f8cf3-1135-490f-f94d-d779849b5603"
      },
      "source": [
        "my_list = [1, 2, 3, 4, 5]\n",
        "my_set = {1, 2, 3, 4, 5}\n",
        "\n",
        "\n",
        "def custom_iteration(sequence, action):\n",
        "\titerator = iter(sequence)\n",
        "\tcompleted_iterating = False\n",
        "\twhile not completed_iterating:\n",
        "\t\ttry:\n",
        "\t\t\taction(next(iterator))\n",
        "\t\texcept StopIteration:\n",
        "\t\t\tcompleted_iterating = True\n",
        "\n",
        "\n",
        "# custom_iteration(my_list, print)\n",
        "\n",
        "\n",
        "def power_of_2(num):\n",
        "\tprint(num ** 2)\n",
        "\n",
        "\n",
        "custom_iteration(my_set, power_of_2)"
      ],
      "execution_count": 3,
      "outputs": [
        {
          "output_type": "stream",
          "text": [
            "1\n",
            "4\n",
            "9\n",
            "16\n",
            "25\n"
          ],
          "name": "stdout"
        }
      ]
    },
    {
      "cell_type": "code",
      "metadata": {
        "colab": {
          "base_uri": "https://localhost:8080/",
          "height": 232
        },
        "id": "wQ-9vMhBqUUe",
        "outputId": "a5d03935-b87c-4d9c-ca17-18a934415d19"
      },
      "source": [
        "my_list = [1, 2, 3]\n",
        "\n",
        "my_iter_list = iter(my_list)\n",
        "\n",
        "# print(my_iter_list[0])\n",
        "print(len(my_iter_list))"
      ],
      "execution_count": 4,
      "outputs": [
        {
          "output_type": "error",
          "ename": "TypeError",
          "evalue": "ignored",
          "traceback": [
            "\u001b[0;31m---------------------------------------------------------------------------\u001b[0m",
            "\u001b[0;31mTypeError\u001b[0m                                 Traceback (most recent call last)",
            "\u001b[0;32m<ipython-input-4-b47375311145>\u001b[0m in \u001b[0;36m<module>\u001b[0;34m()\u001b[0m\n\u001b[1;32m      4\u001b[0m \u001b[0;34m\u001b[0m\u001b[0m\n\u001b[1;32m      5\u001b[0m \u001b[0;31m# print(my_iter_list[0])\u001b[0m\u001b[0;34m\u001b[0m\u001b[0;34m\u001b[0m\u001b[0;34m\u001b[0m\u001b[0m\n\u001b[0;32m----> 6\u001b[0;31m \u001b[0mprint\u001b[0m\u001b[0;34m(\u001b[0m\u001b[0mlen\u001b[0m\u001b[0;34m(\u001b[0m\u001b[0mmy_iter_list\u001b[0m\u001b[0;34m)\u001b[0m\u001b[0;34m)\u001b[0m\u001b[0;34m\u001b[0m\u001b[0;34m\u001b[0m\u001b[0m\n\u001b[0m",
            "\u001b[0;31mTypeError\u001b[0m: object of type 'list_iterator' has no len()"
          ]
        }
      ]
    },
    {
      "cell_type": "code",
      "metadata": {
        "colab": {
          "base_uri": "https://localhost:8080/"
        },
        "id": "VtnFF_TMqWDI",
        "outputId": "ec0acb12-a2c1-4496-a6b2-70fd2bafa09d"
      },
      "source": [
        "class CustomIterTeams(object):\n",
        "\tdef __init__(self, division, teams=[]):\n",
        "\t\tself._mng = division\n",
        "\t\tself._teams = teams\n",
        "\t\tself._index = -1\n",
        "\n",
        "\tdef __iter__(self):\n",
        "\t\treturn self\n",
        "\n",
        "# \tdef __iter__(self):\n",
        "# \t\treturn (t for t in self._teams)\n",
        "\n",
        "\tdef __next__(self):\n",
        "\t\tself._index += 1\n",
        "\t\tif self._index >= len(self._teams):\n",
        "\t\t\tself._index = -1\n",
        "\t\t\traise StopIteration\n",
        "\t\telse:\n",
        "\t\t\treturn self._teams[self._index]\n",
        "\n",
        "\tdef __reversed__(self):\n",
        "\t\treturn self._teams[::-1]\n",
        "\n",
        "\n",
        "prem_teams = CustomIterTeams('Premier League', ['Arsenal', 'Watford', 'Bournemouth', 'Man Utd', 'Liverpool'])\n",
        "\n",
        "for t in prem_teams:\n",
        "\tprint(t)"
      ],
      "execution_count": 5,
      "outputs": [
        {
          "output_type": "stream",
          "text": [
            "Arsenal\n",
            "Watford\n",
            "Bournemouth\n",
            "Man Utd\n",
            "Liverpool\n"
          ],
          "name": "stdout"
        }
      ]
    }
  ]
}