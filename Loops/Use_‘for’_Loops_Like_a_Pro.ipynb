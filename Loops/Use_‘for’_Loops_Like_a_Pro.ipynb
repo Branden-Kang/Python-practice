{
  "nbformat": 4,
  "nbformat_minor": 0,
  "metadata": {
    "colab": {
      "name": "Use ‘for’ Loops Like a Pro.ipynb",
      "provenance": [],
      "collapsed_sections": [],
      "authorship_tag": "ABX9TyOiANlsLhniUVxKkUjA1i7S"
    },
    "kernelspec": {
      "name": "python3",
      "display_name": "Python 3"
    },
    "language_info": {
      "name": "python"
    }
  },
  "cells": [
    {
      "cell_type": "markdown",
      "source": [
        "[Reference](https://python.plainenglish.io/use-for-loops-like-a-pro-c30daea78ef8)"
      ],
      "metadata": {
        "id": "yNC-vbw52pU1"
      }
    },
    {
      "cell_type": "markdown",
      "source": [
        "# 1. Enumerate\n"
      ],
      "metadata": {
        "id": "Z5J80_gK2reo"
      }
    },
    {
      "cell_type": "code",
      "execution_count": 1,
      "metadata": {
        "colab": {
          "base_uri": "https://localhost:8080/"
        },
        "id": "D3GEEDIB2mtd",
        "outputId": "dfa4d60e-1b0e-4340-82e4-ef6eb2326a3a"
      },
      "outputs": [
        {
          "output_type": "stream",
          "name": "stdout",
          "text": [
            "1\n",
            "2\n",
            "3\n",
            "4\n"
          ]
        }
      ],
      "source": [
        "my_list = [1, 2, 3, 4]\n",
        "for element in my_list:\n",
        "    print(element)"
      ]
    },
    {
      "cell_type": "code",
      "source": [
        "my_list = [1,2,3,4]\n",
        "for index, element in enumerate(my_list):\n",
        "    print(element, \"is at index:\", index) "
      ],
      "metadata": {
        "colab": {
          "base_uri": "https://localhost:8080/"
        },
        "id": "ZJgq0GzJ2uC-",
        "outputId": "8b891a4b-d3c9-43c4-c7e9-264261c2784e"
      },
      "execution_count": 2,
      "outputs": [
        {
          "output_type": "stream",
          "name": "stdout",
          "text": [
            "1 is at index: 0\n",
            "2 is at index: 1\n",
            "3 is at index: 2\n",
            "4 is at index: 3\n"
          ]
        }
      ]
    },
    {
      "cell_type": "markdown",
      "source": [
        "# 2. Iterate over two lists\n"
      ],
      "metadata": {
        "id": "EoXgbHGZ2zlt"
      }
    },
    {
      "cell_type": "code",
      "source": [
        "names = [\"John\", \"Sam\", \"Simon\", \"Lisa\"]\n",
        "ages = [24, 31, 45, 27]\n",
        "for (name, age) in zip(names, ages):\n",
        "    print(names, \"is\", age, \"years old\")"
      ],
      "metadata": {
        "colab": {
          "base_uri": "https://localhost:8080/"
        },
        "id": "Hqy8IvoQ2vJD",
        "outputId": "68a429a8-41e9-4964-ce8e-3eb33fb6e983"
      },
      "execution_count": 3,
      "outputs": [
        {
          "output_type": "stream",
          "name": "stdout",
          "text": [
            "['John', 'Sam', 'Simon', 'Lisa'] is 24 years old\n",
            "['John', 'Sam', 'Simon', 'Lisa'] is 31 years old\n",
            "['John', 'Sam', 'Simon', 'Lisa'] is 45 years old\n",
            "['John', 'Sam', 'Simon', 'Lisa'] is 27 years old\n"
          ]
        }
      ]
    },
    {
      "cell_type": "markdown",
      "source": [
        "# 3. Iterate over a Dict\n"
      ],
      "metadata": {
        "id": "gUbNE_Kf23Vm"
      }
    },
    {
      "cell_type": "code",
      "source": [
        "my_dict = {\"a\": 2, \"b\": 3, \"c\": 4, \"d\": 5}\n",
        "for key in my_dict:\n",
        "    print(key, \"is present in the dictionary\")"
      ],
      "metadata": {
        "colab": {
          "base_uri": "https://localhost:8080/"
        },
        "id": "Ts2X0WGa22MW",
        "outputId": "9a9a6350-9575-4e9b-d828-82e994291554"
      },
      "execution_count": 4,
      "outputs": [
        {
          "output_type": "stream",
          "name": "stdout",
          "text": [
            "a is present in the dictionary\n",
            "b is present in the dictionary\n",
            "c is present in the dictionary\n",
            "d is present in the dictionary\n"
          ]
        }
      ]
    },
    {
      "cell_type": "code",
      "source": [
        "my_dict = {\"a\": 2, \"b\": 3, \"c\": 4, \"d\": 5}\n",
        "for val in my_dict.values():\n",
        "    print(\"the dict contain this value:\", val)"
      ],
      "metadata": {
        "colab": {
          "base_uri": "https://localhost:8080/"
        },
        "id": "7G4Dzxbn25HL",
        "outputId": "f05c476c-d0d0-422a-f72c-1dbae0a35dc2"
      },
      "execution_count": 5,
      "outputs": [
        {
          "output_type": "stream",
          "name": "stdout",
          "text": [
            "the dict contain this value: 2\n",
            "the dict contain this value: 3\n",
            "the dict contain this value: 4\n",
            "the dict contain this value: 5\n"
          ]
        }
      ]
    },
    {
      "cell_type": "code",
      "source": [
        "my_dict = {\"a\": 2, \"b\": 3, \"c\": 4, \"d\": 5}\n",
        "for (key, val) in my_dict.items():\n",
        "    print(key, \"has value\", val)"
      ],
      "metadata": {
        "colab": {
          "base_uri": "https://localhost:8080/"
        },
        "id": "p-b-HQtX26w5",
        "outputId": "8686fe76-35e9-4b6a-b3e6-f90ad8910b6c"
      },
      "execution_count": 6,
      "outputs": [
        {
          "output_type": "stream",
          "name": "stdout",
          "text": [
            "a has value 2\n",
            "b has value 3\n",
            "c has value 4\n",
            "d has value 5\n"
          ]
        }
      ]
    },
    {
      "cell_type": "markdown",
      "source": [
        "# 4. Break\n"
      ],
      "metadata": {
        "id": "2pm3oYrz2-KQ"
      }
    },
    {
      "cell_type": "code",
      "source": [
        "my_list = [\"Hello\", \"my\", \"name\", \"is\", \"John\", \"bye\", \"not\", \"add\", \"this\"]\n",
        "idx = 0\n",
        "result = \"\"\n",
        "while idx < len(my_list) and my_list[idx] != \"bye\":\n",
        "    result += my_list[idx] + \" \"\n",
        "print(result)"
      ],
      "metadata": {
        "colab": {
          "base_uri": "https://localhost:8080/",
          "height": 215
        },
        "id": "7nVUWKNM28ul",
        "outputId": "ba4a45f7-4279-4576-ee1f-9b4866e41c4d"
      },
      "execution_count": 7,
      "outputs": [
        {
          "output_type": "error",
          "ename": "KeyboardInterrupt",
          "evalue": "ignored",
          "traceback": [
            "\u001b[0;31m---------------------------------------------------------------------------\u001b[0m",
            "\u001b[0;31mKeyboardInterrupt\u001b[0m                         Traceback (most recent call last)",
            "\u001b[0;32m<ipython-input-7-0a04060845c2>\u001b[0m in \u001b[0;36m<module>\u001b[0;34m()\u001b[0m\n\u001b[1;32m      3\u001b[0m \u001b[0mresult\u001b[0m \u001b[0;34m=\u001b[0m \u001b[0;34m\"\"\u001b[0m\u001b[0;34m\u001b[0m\u001b[0;34m\u001b[0m\u001b[0m\n\u001b[1;32m      4\u001b[0m \u001b[0;32mwhile\u001b[0m \u001b[0midx\u001b[0m \u001b[0;34m<\u001b[0m \u001b[0mlen\u001b[0m\u001b[0;34m(\u001b[0m\u001b[0mmy_list\u001b[0m\u001b[0;34m)\u001b[0m \u001b[0;32mand\u001b[0m \u001b[0mmy_list\u001b[0m\u001b[0;34m[\u001b[0m\u001b[0midx\u001b[0m\u001b[0;34m]\u001b[0m \u001b[0;34m!=\u001b[0m \u001b[0;34m\"bye\"\u001b[0m\u001b[0;34m:\u001b[0m\u001b[0;34m\u001b[0m\u001b[0;34m\u001b[0m\u001b[0m\n\u001b[0;32m----> 5\u001b[0;31m     \u001b[0mresult\u001b[0m \u001b[0;34m+=\u001b[0m \u001b[0mmy_list\u001b[0m\u001b[0;34m[\u001b[0m\u001b[0midx\u001b[0m\u001b[0;34m]\u001b[0m \u001b[0;34m+\u001b[0m \u001b[0;34m\" \"\u001b[0m\u001b[0;34m\u001b[0m\u001b[0;34m\u001b[0m\u001b[0m\n\u001b[0m\u001b[1;32m      6\u001b[0m \u001b[0mprint\u001b[0m\u001b[0;34m(\u001b[0m\u001b[0mresult\u001b[0m\u001b[0;34m)\u001b[0m\u001b[0;34m\u001b[0m\u001b[0;34m\u001b[0m\u001b[0m\n",
            "\u001b[0;31mKeyboardInterrupt\u001b[0m: "
          ]
        }
      ]
    },
    {
      "cell_type": "code",
      "source": [
        "my_list = [\"Hello\", \"my\", \"name\", \"is\", \"John\", \"bye\", \"not\", \"add\", \"this\"]\n",
        "result = \"\"\n",
        "for word in my_list:\n",
        "  if word == \"bye\":\n",
        "    break\n",
        "  result += word + \" \"\n",
        "print(result)"
      ],
      "metadata": {
        "colab": {
          "base_uri": "https://localhost:8080/"
        },
        "id": "tbv5jGjb3A_Y",
        "outputId": "4f43496f-2b91-4c39-9ca7-a22bdd7b2a07"
      },
      "execution_count": 8,
      "outputs": [
        {
          "output_type": "stream",
          "name": "stdout",
          "text": [
            "Hello my name is John \n"
          ]
        }
      ]
    },
    {
      "cell_type": "markdown",
      "source": [
        "# 5. Continue"
      ],
      "metadata": {
        "id": "S3v8JzWJ3GDv"
      }
    },
    {
      "cell_type": "code",
      "source": [
        "my_list = [\"Hello\", \"my\", \"name\", \"is\", \"John\", \"bye\", \"I\", \"skip\", \"bye\", \"words\"]\n",
        "result = \"\"\n",
        "for word in my_list:\n",
        "  if word != \"bye\":\n",
        "    result += word + \" \"\n",
        "print(result)"
      ],
      "metadata": {
        "colab": {
          "base_uri": "https://localhost:8080/"
        },
        "id": "yd5xQETJ3EZh",
        "outputId": "6e69f630-f54f-4a08-d620-0931469c0011"
      },
      "execution_count": 9,
      "outputs": [
        {
          "output_type": "stream",
          "name": "stdout",
          "text": [
            "Hello my name is John I skip words \n"
          ]
        }
      ]
    },
    {
      "cell_type": "code",
      "source": [
        "my_list = [\"Hello\", \"my\", \"name\", \"is\", \"John\", \"bye\", \"I\", \"skip\", \"bye\", \"words\"]\n",
        "result = \"\"\n",
        "for word in my_list:\n",
        "  if word == \"bye\":\n",
        "    continue\n",
        "  result += word + \" \"\n",
        "print(result)"
      ],
      "metadata": {
        "id": "pvqzXqHk3HaR",
        "outputId": "312a86b1-66f5-4720-c17e-fd841a27aa89",
        "colab": {
          "base_uri": "https://localhost:8080/"
        }
      },
      "execution_count": 10,
      "outputs": [
        {
          "output_type": "stream",
          "name": "stdout",
          "text": [
            "Hello my name is John I skip words \n"
          ]
        }
      ]
    }
  ]
}
