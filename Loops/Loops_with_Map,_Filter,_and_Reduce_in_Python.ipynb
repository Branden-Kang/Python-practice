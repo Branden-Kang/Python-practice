{
  "nbformat": 4,
  "nbformat_minor": 0,
  "metadata": {
    "colab": {
      "name": "Loops with Map, Filter, and Reduce in Python.ipynb",
      "provenance": [],
      "authorship_tag": "ABX9TyMkpRHShc1DUSGOlG0tLJGw"
    },
    "kernelspec": {
      "name": "python3",
      "display_name": "Python 3"
    }
  },
  "cells": [
    {
      "cell_type": "code",
      "metadata": {
        "id": "dtis5hV0D2K5"
      },
      "source": [
        "square = lambda number: number * number"
      ],
      "execution_count": 1,
      "outputs": []
    },
    {
      "cell_type": "code",
      "metadata": {
        "id": "plfZ8BRbEWki"
      },
      "source": [
        "def inefficientSquare(number):\n",
        "   result = number * number\n",
        "   return resultmap(inefficientSquare, my_list)"
      ],
      "execution_count": 2,
      "outputs": []
    },
    {
      "cell_type": "code",
      "metadata": {
        "id": "Lig8qhVnEWy5"
      },
      "source": [
        "numbers = [1,2,3,4,5,6]\n",
        "odd_numbers = []\n",
        "squared_odd_numbers = []\n",
        "total = 0\n",
        "\n",
        "# filter for odd numbers\n",
        "for number in numbers:\n",
        "   if number % 2 == 1:\n",
        "      odd_numbers.append(number)\n",
        "      \n",
        "# square all odd numbers\n",
        "for number in odd_numbers:\n",
        "   squared_odd_numbers.append(number * number)\n",
        "   \n",
        "# calculate total\n",
        "for number in squared_odd_numbers:\n",
        "   total += number"
      ],
      "execution_count": 4,
      "outputs": []
    },
    {
      "cell_type": "code",
      "metadata": {
        "id": "qTAwonQpEab3"
      },
      "source": [
        "from functools import reduce\n",
        "\n",
        "numbers = [1,2,3,4,5,6]\n",
        "\n",
        "odd_numbers = filter(lambda n: n % 2 == 1, numbers)\n",
        "\n",
        "squared_odd_numbers = map(lambda n: n * n, odd_numbers)\n",
        "\n",
        "total = reduce(lambda acc, n: acc + n, squared_odd_numbers)"
      ],
      "execution_count": 5,
      "outputs": []
    }
  ]
}