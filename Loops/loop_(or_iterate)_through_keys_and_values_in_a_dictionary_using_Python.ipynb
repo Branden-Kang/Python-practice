{
  "nbformat": 4,
  "nbformat_minor": 0,
  "metadata": {
    "colab": {
      "name": "loop (or iterate) through keys and values in a dictionary using Python.ipynb",
      "provenance": [],
      "authorship_tag": "ABX9TyNnY4VotCC+nfMe2rwJBjSo"
    },
    "kernelspec": {
      "name": "python3",
      "display_name": "Python 3"
    }
  },
  "cells": [
    {
      "cell_type": "markdown",
      "metadata": {
        "id": "0AFIuOTl3Qob"
      },
      "source": [
        "[Reference](https://medium.com/python-in-plain-english/how-to-loop-or-iterate-through-keys-and-values-in-a-dictionary-using-python-9e51273ba560)"
      ]
    },
    {
      "cell_type": "code",
      "metadata": {
        "id": "_Dy_JzUd3N9w"
      },
      "source": [
        "meal_plan = {\n",
        "    \"Monday\": \"tuna sandwiches\",\n",
        "    \"Tuesday\": \"crackers and cheese\",\n",
        "    \"Wednesday\": \"caesar salad\",\n",
        "    \"Thursday\": \"spaghetti and meatballs\",\n",
        "    \"Friday\": \"pizza\"\n",
        "}"
      ],
      "execution_count": 1,
      "outputs": []
    },
    {
      "cell_type": "code",
      "metadata": {
        "id": "0j8-WjMs3Ugs"
      },
      "source": [
        "meals = [\"tuna sandwiches\", \"crackers and cheese\", \"caesar salad\", \"spaghetti and meatballs\", \"pizza\"]"
      ],
      "execution_count": 2,
      "outputs": []
    },
    {
      "cell_type": "code",
      "metadata": {
        "colab": {
          "base_uri": "https://localhost:8080/"
        },
        "id": "JzglAEFN3Vxr",
        "outputId": "34cf9505-1314-40d3-cdc8-50cf8fa4113f"
      },
      "source": [
        "for meal in meals:\n",
        "    print(meal)"
      ],
      "execution_count": 3,
      "outputs": [
        {
          "output_type": "stream",
          "text": [
            "tuna sandwiches\n",
            "crackers and cheese\n",
            "caesar salad\n",
            "spaghetti and meatballs\n",
            "pizza\n"
          ],
          "name": "stdout"
        }
      ]
    },
    {
      "cell_type": "code",
      "metadata": {
        "colab": {
          "base_uri": "https://localhost:8080/"
        },
        "id": "F4NHilxq3Wm3",
        "outputId": "1f552782-e046-4b76-df20-11b5d0390943"
      },
      "source": [
        "for day, food in meal_plan.items():\n",
        "    print(f\"On {day}, I'll make {food}.\")"
      ],
      "execution_count": 4,
      "outputs": [
        {
          "output_type": "stream",
          "text": [
            "On Monday, I'll make tuna sandwiches.\n",
            "On Tuesday, I'll make crackers and cheese.\n",
            "On Wednesday, I'll make caesar salad.\n",
            "On Thursday, I'll make spaghetti and meatballs.\n",
            "On Friday, I'll make pizza.\n"
          ],
          "name": "stdout"
        }
      ]
    }
  ]
}