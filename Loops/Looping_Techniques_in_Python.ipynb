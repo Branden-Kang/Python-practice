{
  "nbformat": 4,
  "nbformat_minor": 0,
  "metadata": {
    "colab": {
      "name": "Looping Techniques in Python.ipynb",
      "provenance": [],
      "authorship_tag": "ABX9TyMj3l+xe7frCsIGZjgvIB6/"
    },
    "kernelspec": {
      "name": "python3",
      "display_name": "Python 3"
    }
  },
  "cells": [
    {
      "cell_type": "markdown",
      "metadata": {
        "id": "3KAKJ74M-mhd"
      },
      "source": [
        "[Reference](https://medium.com/analytics-vidhya/looping-techniques-in-python-3bbf907b8dfa)"
      ]
    },
    {
      "cell_type": "code",
      "metadata": {
        "colab": {
          "base_uri": "https://localhost:8080/"
        },
        "id": "NEh8Jl1Y-laf",
        "outputId": "cd308758-c17f-4358-8071-3f8c8013297a"
      },
      "source": [
        "colors=['red','green','blue']\n",
        "for color in enumerate(colors):\n",
        "    print (color)"
      ],
      "execution_count": 1,
      "outputs": [
        {
          "output_type": "stream",
          "text": [
            "(0, 'red')\n",
            "(1, 'green')\n",
            "(2, 'blue')\n"
          ],
          "name": "stdout"
        }
      ]
    },
    {
      "cell_type": "code",
      "metadata": {
        "colab": {
          "base_uri": "https://localhost:8080/"
        },
        "id": "Qd6CmoV2-oqI",
        "outputId": "5e1e582e-4690-41e8-8347-dbe5952e3341"
      },
      "source": [
        "colors=['red','green','blue']\n",
        "for index,color in enumerate(colors):\n",
        "    print (index,color)"
      ],
      "execution_count": 2,
      "outputs": [
        {
          "output_type": "stream",
          "text": [
            "0 red\n",
            "1 green\n",
            "2 blue\n"
          ],
          "name": "stdout"
        }
      ]
    },
    {
      "cell_type": "code",
      "metadata": {
        "colab": {
          "base_uri": "https://localhost:8080/"
        },
        "id": "S4T7P_gn-pYQ",
        "outputId": "8754d5c1-8b34-430f-88dc-93c425c8fcaa"
      },
      "source": [
        "colors=['red','green','blue']\n",
        "for color in enumerate(colors,5):\n",
        "    print (color)"
      ],
      "execution_count": 3,
      "outputs": [
        {
          "output_type": "stream",
          "text": [
            "(5, 'red')\n",
            "(6, 'green')\n",
            "(7, 'blue')\n"
          ],
          "name": "stdout"
        }
      ]
    },
    {
      "cell_type": "code",
      "metadata": {
        "colab": {
          "base_uri": "https://localhost:8080/"
        },
        "id": "p-KH0dhn-q16",
        "outputId": "d02a325e-0c5d-4b17-9ed1-c282b15d761a"
      },
      "source": [
        "s='python'\n",
        "for i in enumerate(s):\n",
        "    print (i)"
      ],
      "execution_count": 4,
      "outputs": [
        {
          "output_type": "stream",
          "text": [
            "(0, 'p')\n",
            "(1, 'y')\n",
            "(2, 't')\n",
            "(3, 'h')\n",
            "(4, 'o')\n",
            "(5, 'n')\n"
          ],
          "name": "stdout"
        }
      ]
    },
    {
      "cell_type": "code",
      "metadata": {
        "colab": {
          "base_uri": "https://localhost:8080/"
        },
        "id": "9Y3gyTVS-uJn",
        "outputId": "6dd19ec1-e8b9-4efd-bcf5-5e10af646eb0"
      },
      "source": [
        "s=\"python\"\n",
        "for i,j in enumerate(s):\n",
        "    print (i,j)"
      ],
      "execution_count": 5,
      "outputs": [
        {
          "output_type": "stream",
          "text": [
            "0 p\n",
            "1 y\n",
            "2 t\n",
            "3 h\n",
            "4 o\n",
            "5 n\n"
          ],
          "name": "stdout"
        }
      ]
    },
    {
      "cell_type": "code",
      "metadata": {
        "colab": {
          "base_uri": "https://localhost:8080/"
        },
        "id": "_2UMUWr0-vXI",
        "outputId": "d5dd8994-00ca-4099-b7ac-186ca2426fdb"
      },
      "source": [
        "s='python'\n",
        "for i in enumerate(s,start=10):\n",
        "    print (i)"
      ],
      "execution_count": 6,
      "outputs": [
        {
          "output_type": "stream",
          "text": [
            "(10, 'p')\n",
            "(11, 'y')\n",
            "(12, 't')\n",
            "(13, 'h')\n",
            "(14, 'o')\n",
            "(15, 'n')\n"
          ],
          "name": "stdout"
        }
      ]
    },
    {
      "cell_type": "code",
      "metadata": {
        "colab": {
          "base_uri": "https://localhost:8080/"
        },
        "id": "tKtlaQjc-wNe",
        "outputId": "002361dd-69c2-4786-cba4-30776d43db4c"
      },
      "source": [
        "num = [1, 2, 3]\n",
        "colors= ['red', 'blue', 'green']\n",
        "for i in zip(num, colors):\n",
        "    print(i)"
      ],
      "execution_count": 7,
      "outputs": [
        {
          "output_type": "stream",
          "text": [
            "(1, 'red')\n",
            "(2, 'blue')\n",
            "(3, 'green')\n"
          ],
          "name": "stdout"
        }
      ]
    },
    {
      "cell_type": "code",
      "metadata": {
        "colab": {
          "base_uri": "https://localhost:8080/"
        },
        "id": "0kFPrfF6-xxm",
        "outputId": "4f9eed7d-824d-427d-be1b-daf345405116"
      },
      "source": [
        "num = [1, 2, 3]\n",
        "colors= ['red', 'blue', 'green']\n",
        "for i in zip(num, colors):\n",
        "    print(i)"
      ],
      "execution_count": 8,
      "outputs": [
        {
          "output_type": "stream",
          "text": [
            "(1, 'red')\n",
            "(2, 'blue')\n",
            "(3, 'green')\n"
          ],
          "name": "stdout"
        }
      ]
    },
    {
      "cell_type": "code",
      "metadata": {
        "colab": {
          "base_uri": "https://localhost:8080/"
        },
        "id": "iP7I3MZt_HRA",
        "outputId": "9cfc6738-0767-41df-c01b-c0ba1947b2d0"
      },
      "source": [
        "n1=['color','fruits','numbers']\n",
        "n2=['red','apple','one']\n",
        "for i in zip(n1,n2):\n",
        "    print (i)"
      ],
      "execution_count": 9,
      "outputs": [
        {
          "output_type": "stream",
          "text": [
            "('color', 'red')\n",
            "('fruits', 'apple')\n",
            "('numbers', 'one')\n"
          ],
          "name": "stdout"
        }
      ]
    },
    {
      "cell_type": "code",
      "metadata": {
        "colab": {
          "base_uri": "https://localhost:8080/"
        },
        "id": "mItQjaP7_IHw",
        "outputId": "b638af11-9442-4925-f408-11fb5879e7b7"
      },
      "source": [
        "colors=['red','green','blue']\n",
        "num=[1,2,3,4,5,6,7,8,9,10]\n",
        "for i in zip(colors,num):\n",
        "    print (i)"
      ],
      "execution_count": 10,
      "outputs": [
        {
          "output_type": "stream",
          "text": [
            "('red', 1)\n",
            "('green', 2)\n",
            "('blue', 3)\n"
          ],
          "name": "stdout"
        }
      ]
    },
    {
      "cell_type": "code",
      "metadata": {
        "colab": {
          "base_uri": "https://localhost:8080/"
        },
        "id": "sryO5by1_JQz",
        "outputId": "790677c6-c121-4052-d787-a1590e2b34b4"
      },
      "source": [
        "colors=['red','apple','three']\n",
        "num=[1,2,3]\n",
        "alp=['a','b','c']\n",
        "for i in zip(colors,num,alp):\n",
        "    print (i)"
      ],
      "execution_count": 11,
      "outputs": [
        {
          "output_type": "stream",
          "text": [
            "('red', 1, 'a')\n",
            "('apple', 2, 'b')\n",
            "('three', 3, 'c')\n"
          ],
          "name": "stdout"
        }
      ]
    },
    {
      "cell_type": "code",
      "metadata": {
        "colab": {
          "base_uri": "https://localhost:8080/"
        },
        "id": "mvN37gbo_KdH",
        "outputId": "0e935136-c509-4f63-d0e4-428a28421b4d"
      },
      "source": [
        "from itertools import zip_longest\n",
        "colors=['red','apple','three']\n",
        "num=[1,2,3,4,5]\n",
        "for i in zip_longest(colors,num):\n",
        "    print (i)"
      ],
      "execution_count": 12,
      "outputs": [
        {
          "output_type": "stream",
          "text": [
            "('red', 1)\n",
            "('apple', 2)\n",
            "('three', 3)\n",
            "(None, 4)\n",
            "(None, 5)\n"
          ],
          "name": "stdout"
        }
      ]
    },
    {
      "cell_type": "code",
      "metadata": {
        "colab": {
          "base_uri": "https://localhost:8080/"
        },
        "id": "_zxCHyym_MHX",
        "outputId": "b6d03f0f-1baf-4e1a-f79a-3f06524191a9"
      },
      "source": [
        "from itertools import zip_longest\n",
        "colors=['red','apple','three']\n",
        "num=[1,2,3,4,5]\n",
        "for i in zip_longest(colors,num,fillvalue='z'):\n",
        "    print (i)"
      ],
      "execution_count": 13,
      "outputs": [
        {
          "output_type": "stream",
          "text": [
            "('red', 1)\n",
            "('apple', 2)\n",
            "('three', 3)\n",
            "('z', 4)\n",
            "('z', 5)\n"
          ],
          "name": "stdout"
        }
      ]
    },
    {
      "cell_type": "code",
      "metadata": {
        "colab": {
          "base_uri": "https://localhost:8080/"
        },
        "id": "y_Mrnmea_N8k",
        "outputId": "ed81fbd9-2b08-4c90-bd16-c42643fb97d0"
      },
      "source": [
        "num=[10,5,20,25,30,40,35]\n",
        "for i in sorted(num):\n",
        "    print (i)"
      ],
      "execution_count": 14,
      "outputs": [
        {
          "output_type": "stream",
          "text": [
            "5\n",
            "10\n",
            "20\n",
            "25\n",
            "30\n",
            "35\n",
            "40\n"
          ],
          "name": "stdout"
        }
      ]
    },
    {
      "cell_type": "code",
      "metadata": {
        "colab": {
          "base_uri": "https://localhost:8080/"
        },
        "id": "6EqF4xsV_P68",
        "outputId": "023c78ac-3c5b-4647-fc1a-0362ef86b1ad"
      },
      "source": [
        "num=[10,5,20,25,30,40,35]\n",
        "for i in sorted(num,reverse=True):\n",
        "    print (i)"
      ],
      "execution_count": 15,
      "outputs": [
        {
          "output_type": "stream",
          "text": [
            "40\n",
            "35\n",
            "30\n",
            "25\n",
            "20\n",
            "10\n",
            "5\n"
          ],
          "name": "stdout"
        }
      ]
    },
    {
      "cell_type": "code",
      "metadata": {
        "colab": {
          "base_uri": "https://localhost:8080/"
        },
        "id": "Ku8UKswj_SDj",
        "outputId": "25804a66-4ade-42f1-d15f-511a908c66a6"
      },
      "source": [
        "colors=['red','green','blue','yellow']\n",
        "for i in sorted(colors,reverse=True):\n",
        "    print (i)"
      ],
      "execution_count": 16,
      "outputs": [
        {
          "output_type": "stream",
          "text": [
            "yellow\n",
            "red\n",
            "green\n",
            "blue\n"
          ],
          "name": "stdout"
        }
      ]
    },
    {
      "cell_type": "code",
      "metadata": {
        "colab": {
          "base_uri": "https://localhost:8080/"
        },
        "id": "Bp2Z88Oa_S8f",
        "outputId": "2f9fe01d-d62b-4183-fb8a-44c74771b948"
      },
      "source": [
        "d={'f':1,'b':4,'a':3,'e':9,'c':2}\n",
        "for i in sorted(d.items()):\n",
        "    print (i)"
      ],
      "execution_count": 17,
      "outputs": [
        {
          "output_type": "stream",
          "text": [
            "('a', 3)\n",
            "('b', 4)\n",
            "('c', 2)\n",
            "('e', 9)\n",
            "('f', 1)\n"
          ],
          "name": "stdout"
        }
      ]
    },
    {
      "cell_type": "code",
      "metadata": {
        "colab": {
          "base_uri": "https://localhost:8080/"
        },
        "id": "x7ncfKYO_T84",
        "outputId": "f1aa900f-2330-4595-813b-a82aab70dca7"
      },
      "source": [
        "d={'f':1,'b':4,'a':3,'e':9,'c':2}\n",
        "#sorting by values in the dictionary\n",
        "for i in sorted(d.items(),key=lambda item:item[1]):\n",
        "    print (i)"
      ],
      "execution_count": 18,
      "outputs": [
        {
          "output_type": "stream",
          "text": [
            "('f', 1)\n",
            "('c', 2)\n",
            "('a', 3)\n",
            "('b', 4)\n",
            "('e', 9)\n"
          ],
          "name": "stdout"
        }
      ]
    },
    {
      "cell_type": "code",
      "metadata": {
        "colab": {
          "base_uri": "https://localhost:8080/"
        },
        "id": "draPTSzr_VBr",
        "outputId": "9a70ce56-f9c5-4619-de5e-70b7e3ec6d4d"
      },
      "source": [
        "colors=['red','green','blue','yellow']\n",
        "for i in reversed(colors):\n",
        "    print (i)"
      ],
      "execution_count": 19,
      "outputs": [
        {
          "output_type": "stream",
          "text": [
            "yellow\n",
            "blue\n",
            "green\n",
            "red\n"
          ],
          "name": "stdout"
        }
      ]
    },
    {
      "cell_type": "code",
      "metadata": {
        "colab": {
          "base_uri": "https://localhost:8080/"
        },
        "id": "S4YRBsi2_WTF",
        "outputId": "89a1266f-04ac-4f07-b1bb-f2a7062e0016"
      },
      "source": [
        "d={'a':1,'b':2,'c':3}\n",
        "for k,v in d.items():\n",
        "    print (k,v)"
      ],
      "execution_count": 20,
      "outputs": [
        {
          "output_type": "stream",
          "text": [
            "a 1\n",
            "b 2\n",
            "c 3\n"
          ],
          "name": "stdout"
        }
      ]
    },
    {
      "cell_type": "code",
      "metadata": {
        "colab": {
          "base_uri": "https://localhost:8080/"
        },
        "id": "EPxlV7fV_Xyz",
        "outputId": "86827869-785a-47f9-c81d-4dffa7d44221"
      },
      "source": [
        "d={'a':1,'b':2,'c':3}\n",
        "for k,v in d.copy().items():\n",
        "    if v%2==0:\n",
        "        del d[k]\n",
        "print (d)"
      ],
      "execution_count": 22,
      "outputs": [
        {
          "output_type": "stream",
          "text": [
            "{'a': 1, 'c': 3}\n"
          ],
          "name": "stdout"
        }
      ]
    },
    {
      "cell_type": "code",
      "metadata": {
        "colab": {
          "base_uri": "https://localhost:8080/"
        },
        "id": "cL6pNLHS_ZLB",
        "outputId": "a89ed5b8-e689-47d0-9616-bf0cedbffd93"
      },
      "source": [
        "d={'a':1,'b':2,'c':3}\n",
        "d1={}\n",
        "for k,v in d.items():\n",
        "    if v%2!=0:\n",
        "        d1[k]=v\n",
        "print (d1)\n",
        "print (d)        "
      ],
      "execution_count": 23,
      "outputs": [
        {
          "output_type": "stream",
          "text": [
            "{'a': 1, 'c': 3}\n",
            "{'a': 1, 'b': 2, 'c': 3}\n"
          ],
          "name": "stdout"
        }
      ]
    }
  ]
}