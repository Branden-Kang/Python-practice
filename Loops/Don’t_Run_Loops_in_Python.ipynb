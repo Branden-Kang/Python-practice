{
  "nbformat": 4,
  "nbformat_minor": 0,
  "metadata": {
    "colab": {
      "name": "Don’t Run Loops in Python.ipynb",
      "provenance": [],
      "authorship_tag": "ABX9TyNaB7LTBiVARKh2n8M1FKTe"
    },
    "kernelspec": {
      "name": "python3",
      "display_name": "Python 3"
    },
    "language_info": {
      "name": "python"
    }
  },
  "cells": [
    {
      "cell_type": "markdown",
      "source": [
        "[Reference](https://medium.com/codex/3-most-effective-yet-underutilized-functions-in-python-d865ffaca0bb)"
      ],
      "metadata": {
        "id": "qH-yIR2YuxGp"
      }
    },
    {
      "cell_type": "markdown",
      "source": [
        "# Lambda"
      ],
      "metadata": {
        "id": "2rY3qnn4uzrB"
      }
    },
    {
      "cell_type": "code",
      "execution_count": 1,
      "metadata": {
        "id": "MH77YzMkuv1s"
      },
      "outputs": [],
      "source": [
        "def multiply_by_2(x):\n",
        "    x*2"
      ]
    },
    {
      "cell_type": "code",
      "source": [
        "lambda x: x*2"
      ],
      "metadata": {
        "colab": {
          "base_uri": "https://localhost:8080/"
        },
        "id": "96eJLXC-u1zK",
        "outputId": "84d36b13-f0e3-4561-e5cd-cb08ab7cfffe"
      },
      "execution_count": 2,
      "outputs": [
        {
          "output_type": "execute_result",
          "data": {
            "text/plain": [
              "<function __main__.<lambda>>"
            ]
          },
          "metadata": {},
          "execution_count": 2
        }
      ]
    },
    {
      "cell_type": "markdown",
      "source": [
        "# Map"
      ],
      "metadata": {
        "id": "1yGM3vYzu3V7"
      }
    },
    {
      "cell_type": "code",
      "source": [
        "def square(x):\n",
        "    return x*x"
      ],
      "metadata": {
        "id": "-ebNc0gZu18d"
      },
      "execution_count": 3,
      "outputs": []
    },
    {
      "cell_type": "code",
      "source": [
        "input_list = [2, 3, 4, 5, 6]\n",
        "\n",
        "# Without lambda \n",
        "result = map(square, input_list)\n",
        "\n",
        "# Using lambda function \n",
        "result = map(lambda x: x*x, input_list)\n",
        "\n",
        "# converting the numbers into a list\n",
        "list(result)"
      ],
      "metadata": {
        "colab": {
          "base_uri": "https://localhost:8080/"
        },
        "id": "WofdQ09bu43g",
        "outputId": "50ecc01e-87c8-4fdc-f65b-67d8a810d1b3"
      },
      "execution_count": 4,
      "outputs": [
        {
          "output_type": "execute_result",
          "data": {
            "text/plain": [
              "[4, 9, 16, 25, 36]"
            ]
          },
          "metadata": {},
          "execution_count": 4
        }
      ]
    },
    {
      "cell_type": "markdown",
      "source": [
        "# Filter"
      ],
      "metadata": {
        "id": "i7CjZJ6ju8Ne"
      }
    },
    {
      "cell_type": "code",
      "source": [
        "def less_than_10(x):\n",
        "    if x < 10:\n",
        "        return x "
      ],
      "metadata": {
        "id": "lYpG29Y3u7em"
      },
      "execution_count": 5,
      "outputs": []
    },
    {
      "cell_type": "code",
      "source": [
        "input_list = [2, 3, 4, 5, 10, 12, 14] \n",
        "\n",
        "# Without lambda\n",
        "list(filter(less_than_10, input_list))\n",
        "\n",
        "# using lambda function \n",
        "list(filter(lambda x: x < 10, input_list))"
      ],
      "metadata": {
        "colab": {
          "base_uri": "https://localhost:8080/"
        },
        "id": "3V6PTa0Cu9dY",
        "outputId": "5f385eb5-fc49-4a64-e388-8d384f4b8d04"
      },
      "execution_count": 6,
      "outputs": [
        {
          "output_type": "execute_result",
          "data": {
            "text/plain": [
              "[2, 3, 4, 5]"
            ]
          },
          "metadata": {},
          "execution_count": 6
        }
      ]
    },
    {
      "cell_type": "markdown",
      "source": [
        "# Reduce"
      ],
      "metadata": {
        "id": "vq-YG7XdvAX-"
      }
    },
    {
      "cell_type": "code",
      "source": [
        "def addition(x,y):\n",
        "    return x + y"
      ],
      "metadata": {
        "id": "p1Pk7wlau_cF"
      },
      "execution_count": 7,
      "outputs": []
    },
    {
      "cell_type": "code",
      "source": [
        "from functools import reduce\n",
        "\n",
        "input_list = [1, 2, 3, 4, 5]\n",
        "\n",
        "# Without Lambda function\n",
        "# reduce(addition, input_list))\n",
        "\n",
        "# With Lambda function\n",
        "reduce(lambda x,y: x+y, input_list)"
      ],
      "metadata": {
        "colab": {
          "base_uri": "https://localhost:8080/"
        },
        "id": "aPBR7WdIvB5I",
        "outputId": "ba3497ec-26e7-4b72-ca7b-01d8148a40e3"
      },
      "execution_count": 10,
      "outputs": [
        {
          "output_type": "execute_result",
          "data": {
            "text/plain": [
              "15"
            ]
          },
          "metadata": {},
          "execution_count": 10
        }
      ]
    }
  ]
}
