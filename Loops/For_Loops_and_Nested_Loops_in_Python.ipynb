{
  "nbformat": 4,
  "nbformat_minor": 0,
  "metadata": {
    "colab": {
      "name": "For Loops and Nested Loops in Python.ipynb",
      "provenance": [],
      "authorship_tag": "ABX9TyPRz1OHUpwIGUnAxsndPZN9"
    },
    "kernelspec": {
      "name": "python3",
      "display_name": "Python 3"
    },
    "language_info": {
      "name": "python"
    }
  },
  "cells": [
    {
      "cell_type": "markdown",
      "metadata": {
        "id": "eu8QGm6hNXgi"
      },
      "source": [
        "[Reference](https://sarilakkis.medium.com/for-loops-and-nested-loops-in-python-73e696a6ab33)"
      ]
    },
    {
      "cell_type": "code",
      "metadata": {
        "colab": {
          "base_uri": "https://localhost:8080/"
        },
        "id": "2xIUcd9kNWbG",
        "outputId": "ef17334b-f4ac-4105-bb54-b9da05d0df1b"
      },
      "source": [
        "i = 1\n",
        "while i <= 5:\n",
        "    print(\"I love Python\")\n",
        "    i = i + 1"
      ],
      "execution_count": 1,
      "outputs": [
        {
          "output_type": "stream",
          "text": [
            "I love Python\n",
            "I love Python\n",
            "I love Python\n",
            "I love Python\n",
            "I love Python\n"
          ],
          "name": "stdout"
        }
      ]
    },
    {
      "cell_type": "code",
      "metadata": {
        "colab": {
          "base_uri": "https://localhost:8080/"
        },
        "id": "ngpne832NaQG",
        "outputId": "161b0484-f2f2-44d8-a422-693a88e107fb"
      },
      "source": [
        "for i in range(5):\n",
        "  print(\"I love Python\")"
      ],
      "execution_count": 2,
      "outputs": [
        {
          "output_type": "stream",
          "text": [
            "I love Python\n",
            "I love Python\n",
            "I love Python\n",
            "I love Python\n",
            "I love Python\n"
          ],
          "name": "stdout"
        }
      ]
    },
    {
      "cell_type": "code",
      "metadata": {
        "colab": {
          "base_uri": "https://localhost:8080/"
        },
        "id": "trpJ8Ts5Nb26",
        "outputId": "4c011bd3-0753-4ff8-cb4c-4f3c4a0cbdb4"
      },
      "source": [
        "for i in range(1, 6):\n",
        "    print(i)"
      ],
      "execution_count": 3,
      "outputs": [
        {
          "output_type": "stream",
          "text": [
            "1\n",
            "2\n",
            "3\n",
            "4\n",
            "5\n"
          ],
          "name": "stdout"
        }
      ]
    },
    {
      "cell_type": "code",
      "metadata": {
        "colab": {
          "base_uri": "https://localhost:8080/"
        },
        "id": "u0YH_CtDNdJq",
        "outputId": "84d92cf3-4330-4a1e-e65e-530bcf6d26e9"
      },
      "source": [
        "for i in range(1, 10, 2):\n",
        "    print(i)"
      ],
      "execution_count": 4,
      "outputs": [
        {
          "output_type": "stream",
          "text": [
            "1\n",
            "3\n",
            "5\n",
            "7\n",
            "9\n"
          ],
          "name": "stdout"
        }
      ]
    },
    {
      "cell_type": "code",
      "metadata": {
        "colab": {
          "base_uri": "https://localhost:8080/"
        },
        "id": "Dxp2-fTgNeMH",
        "outputId": "efaf3338-a500-42ce-cd93-ca77f865d779"
      },
      "source": [
        "count=0\n",
        "for x in \"Pretty Code\":\n",
        "    count = count + 1\n",
        "print(count)"
      ],
      "execution_count": 5,
      "outputs": [
        {
          "output_type": "stream",
          "text": [
            "11\n"
          ],
          "name": "stdout"
        }
      ]
    },
    {
      "cell_type": "code",
      "metadata": {
        "colab": {
          "base_uri": "https://localhost:8080/"
        },
        "id": "b1Bcu6veNfjK",
        "outputId": "70e069e3-a0fb-448c-a7b5-93086ad42b87"
      },
      "source": [
        "for k in range(10):\n",
        "    for x in range(5):\n",
        "        print(\"I still love Python\")"
      ],
      "execution_count": 6,
      "outputs": [
        {
          "output_type": "stream",
          "text": [
            "I still love Python\n",
            "I still love Python\n",
            "I still love Python\n",
            "I still love Python\n",
            "I still love Python\n",
            "I still love Python\n",
            "I still love Python\n",
            "I still love Python\n",
            "I still love Python\n",
            "I still love Python\n",
            "I still love Python\n",
            "I still love Python\n",
            "I still love Python\n",
            "I still love Python\n",
            "I still love Python\n",
            "I still love Python\n",
            "I still love Python\n",
            "I still love Python\n",
            "I still love Python\n",
            "I still love Python\n",
            "I still love Python\n",
            "I still love Python\n",
            "I still love Python\n",
            "I still love Python\n",
            "I still love Python\n",
            "I still love Python\n",
            "I still love Python\n",
            "I still love Python\n",
            "I still love Python\n",
            "I still love Python\n",
            "I still love Python\n",
            "I still love Python\n",
            "I still love Python\n",
            "I still love Python\n",
            "I still love Python\n",
            "I still love Python\n",
            "I still love Python\n",
            "I still love Python\n",
            "I still love Python\n",
            "I still love Python\n",
            "I still love Python\n",
            "I still love Python\n",
            "I still love Python\n",
            "I still love Python\n",
            "I still love Python\n",
            "I still love Python\n",
            "I still love Python\n",
            "I still love Python\n",
            "I still love Python\n",
            "I still love Python\n"
          ],
          "name": "stdout"
        }
      ]
    },
    {
      "cell_type": "code",
      "metadata": {
        "colab": {
          "base_uri": "https://localhost:8080/"
        },
        "id": "9lcFCSbnNhEr",
        "outputId": "1b187c82-8e4e-4ca0-f205-a6a68504bf7e"
      },
      "source": [
        "counter=0\n",
        "for k in range(10):\n",
        "    for x in range(5):\n",
        "        counter = counter + 1\n",
        "print(counter)"
      ],
      "execution_count": 7,
      "outputs": [
        {
          "output_type": "stream",
          "text": [
            "50\n"
          ],
          "name": "stdout"
        }
      ]
    },
    {
      "cell_type": "code",
      "metadata": {
        "colab": {
          "base_uri": "https://localhost:8080/"
        },
        "id": "Ngg5JdF6NixQ",
        "outputId": "9df29636-b1d6-4c41-d8a4-95bfe435f5b2"
      },
      "source": [
        "isPasswordSetCorrectly = False\n",
        "while not isPasswordSetCorrectly:\n",
        "    count = 0\n",
        "    password = input(\"Enter a password: \")\n",
        "    for x in password:\n",
        "        count = count + 1\n",
        "    if count < 8:\n",
        "        print(\"Your password size must be at least 8 characters!\")\n",
        "    else:\n",
        "        isPasswordSetCorrectly = True\n",
        "print(\"Your password is accepted!\")"
      ],
      "execution_count": 8,
      "outputs": [
        {
          "output_type": "stream",
          "text": [
            "Enter a password: 12345678\n",
            "Your password is accepted!\n"
          ],
          "name": "stdout"
        }
      ]
    }
  ]
}