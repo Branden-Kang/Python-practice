{
  "nbformat": 4,
  "nbformat_minor": 0,
  "metadata": {
    "colab": {
      "name": "Pythonic Data Model.ipynb",
      "provenance": [],
      "authorship_tag": "ABX9TyMju23FoF5kol2uAZHbqZDN"
    },
    "kernelspec": {
      "name": "python3",
      "display_name": "Python 3"
    },
    "language_info": {
      "name": "python"
    }
  },
  "cells": [
    {
      "cell_type": "markdown",
      "metadata": {
        "id": "JZvkQZcgwY1y"
      },
      "source": [
        "[Reference](https://medium.com/nerd-for-tech/pythonic-data-model-overloading-dicts-or-lists-e0aa87c75096)"
      ]
    },
    {
      "cell_type": "code",
      "metadata": {
        "colab": {
          "base_uri": "https://localhost:8080/"
        },
        "id": "RFy_pu3VvPZT",
        "outputId": "8090b5a8-5ac2-43d2-9852-5e96c1dbb3d3"
      },
      "source": [
        "from datetime import datetime\n",
        "\n",
        "class Car(dict):\n",
        "    def __init__(self, make, model, year, color):\n",
        "        super()\n",
        "\n",
        "        if not isinstance(make, str) or len(make) < 4:\n",
        "            raise ValueError('\"make\" must be a string of at least 4 characters in length')\n",
        "        else:\n",
        "            super().__setitem__(\"make\", make)\n",
        "\n",
        "        if not isinstance(model, str) or len(model) < 4:\n",
        "            raise ValueError('\"model\" must be a string of at least 4 characters in length')\n",
        "        else:\n",
        "            super().__setitem__(\"model\", model)\n",
        "\n",
        "        if not isinstance(year, int) or year < 1900 or year > (datetime.now().year + 1):\n",
        "            raise ValueError(f'\"year\" must be a an integer between 1900 and {datetime.now().year + 1} inclusive')\n",
        "        else:\n",
        "            super().__setitem__(\"year\", year)\n",
        "        \n",
        "        if not isinstance(color, str) or color not in [\"red\", \"green\", \"blue\", \"black\", \"orange\", \"purple\", \"grey\", \"white\"]:\n",
        "            raise ValueError('\"color\" must be a string and be a supported color')\n",
        "        else:\n",
        "            super().__setitem__(\"color\", color)\n",
        "\n",
        "car = Car(\"Ford\", \"Explorer\", 1995, \"blue\")\n",
        "\n",
        "print(car)"
      ],
      "execution_count": 1,
      "outputs": [
        {
          "output_type": "stream",
          "name": "stdout",
          "text": [
            "{'make': 'Ford', 'model': 'Explorer', 'year': 1995, 'color': 'blue'}\n"
          ]
        }
      ]
    },
    {
      "cell_type": "code",
      "metadata": {
        "id": "1IbALXe3wcWH"
      },
      "source": [
        "class Ingest(dict):\n",
        "    def __init__(self, data):\n",
        "        super()\n",
        "\n",
        "        for key in data:\n",
        "            super().__setitem__(key, \"Ingested: \" + data[key])"
      ],
      "execution_count": 2,
      "outputs": []
    },
    {
      "cell_type": "code",
      "metadata": {
        "colab": {
          "base_uri": "https://localhost:8080/"
        },
        "id": "ulUmsnHSwd-k",
        "outputId": "4019f247-4177-4071-8ecb-b4e3a1495d5b"
      },
      "source": [
        "class Ingest(dict):\n",
        "    def __setitem__(self, key, value):\n",
        "        super().__setitem__(key, \"Ingested: \" + value)\n",
        "    \n",
        "    def __init__(self, data):\n",
        "        super()\n",
        "\n",
        "        for key in data:\n",
        "            self.__setitem__(key, data[key])\n",
        "            \n",
        "ingest = Ingest({\"item1\": \"result1\", \"item2\": \"result2\"})\n",
        "ingest[\"item3\"] = \"result3\"\n",
        "\n",
        "print(ingest)"
      ],
      "execution_count": 3,
      "outputs": [
        {
          "output_type": "stream",
          "name": "stdout",
          "text": [
            "{'item1': 'Ingested: result1', 'item2': 'Ingested: result2', 'item3': 'Ingested: result3'}\n"
          ]
        }
      ]
    },
    {
      "cell_type": "code",
      "metadata": {
        "colab": {
          "base_uri": "https://localhost:8080/"
        },
        "id": "zXTRhzmIwfFN",
        "outputId": "e8ec0bab-cccd-489d-cde2-683f2e76dbac"
      },
      "source": [
        "ingest.update({'item4': 'result4'})\n",
        "    \n",
        "print(ingest)"
      ],
      "execution_count": 4,
      "outputs": [
        {
          "output_type": "stream",
          "name": "stdout",
          "text": [
            "{'item1': 'Ingested: result1', 'item2': 'Ingested: result2', 'item3': 'Ingested: result3', 'item4': 'result4'}\n"
          ]
        }
      ]
    },
    {
      "cell_type": "code",
      "metadata": {
        "colab": {
          "base_uri": "https://localhost:8080/"
        },
        "id": "_zxmXEBvwgTC",
        "outputId": "703e17c5-dcba-4819-9527-e2307561ede3"
      },
      "source": [
        "from collections import UserDict\n",
        "\n",
        "class Ingest(UserDict):\n",
        "    def __setitem__(self, key, value):\n",
        "        self.data[key] =  \"Ingested: \" + value\n",
        "            \n",
        "ingest = Ingest({\"item1\": \"result1\", \"item2\": \"result2\"})\n",
        "ingest[\"item3\"] = \"result3\"\n",
        "ingest.update({'item4': 'result4'})\n",
        "    \n",
        "print(ingest)"
      ],
      "execution_count": 5,
      "outputs": [
        {
          "output_type": "stream",
          "name": "stdout",
          "text": [
            "{'item1': 'Ingested: result1', 'item2': 'Ingested: result2', 'item3': 'Ingested: result3', 'item4': 'Ingested: result4'}\n"
          ]
        }
      ]
    },
    {
      "cell_type": "code",
      "metadata": {
        "colab": {
          "base_uri": "https://localhost:8080/"
        },
        "id": "B7EJ9Wrdwh-i",
        "outputId": "115849a6-e0aa-42c6-e83a-ab67d5b02e7d"
      },
      "source": [
        "from collections import UserDict\n",
        "\n",
        "class Car(UserDict):\n",
        "    data = {}\n",
        "\n",
        "    def __init__(self, make, model, year, color):\n",
        "        super()\n",
        "\n",
        "        if not isinstance(make, str) or len(make) < 4:\n",
        "            raise ValueError('\"make\" must be a string of at least 4 characters in length')\n",
        "        else:\n",
        "            self.data[\"make\"] = make\n",
        "\n",
        "        if not isinstance(model, str) or len(model) < 4:\n",
        "            raise ValueError('\"model\" must be a string of at least 4 characters in length')\n",
        "        else:\n",
        "            self.data[\"model\"] = model\n",
        "\n",
        "        if not isinstance(year, int) or year < 1900 or year > (datetime.now().year + 1):\n",
        "            raise ValueError(f'\"year\" must be a an integer between 1900 and {datetime.now().year + 1} inclusive')\n",
        "        else:\n",
        "            self.data[\"year\"] = year\n",
        "        \n",
        "        if not isinstance(color, str) or color not in [\"red\", \"green\", \"blue\", \"black\", \"orange\", \"purple\", \"grey\", \"white\"]:\n",
        "            raise ValueError('\"color\" must be a string and be a supported color')\n",
        "        else:\n",
        "            self.data[\"color\"] = color\n",
        "\n",
        "car = Car(\"Ford\", \"Explorer\", 1995, \"blue\")\n",
        "\n",
        "print(car)"
      ],
      "execution_count": 6,
      "outputs": [
        {
          "output_type": "stream",
          "name": "stdout",
          "text": [
            "{'make': 'Ford', 'model': 'Explorer', 'year': 1995, 'color': 'blue'}\n"
          ]
        }
      ]
    }
  ]
}