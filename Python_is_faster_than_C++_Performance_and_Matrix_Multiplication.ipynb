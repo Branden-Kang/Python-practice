{
  "nbformat": 4,
  "nbformat_minor": 0,
  "metadata": {
    "colab": {
      "name": "Python is faster than C++: Performance and Matrix Multiplication.ipynb",
      "provenance": [],
      "authorship_tag": "ABX9TyPD9bV1zzorFu0AaWXS+mT8"
    },
    "kernelspec": {
      "name": "python3",
      "display_name": "Python 3"
    },
    "language_info": {
      "name": "python"
    }
  },
  "cells": [
    {
      "cell_type": "markdown",
      "metadata": {
        "id": "67lzvAK0jMW3"
      },
      "source": [
        "[Reference](https://levelup.gitconnected.com/python-vs-c-performance-and-matrix-multiplication-59dbf20e212a)"
      ]
    },
    {
      "cell_type": "code",
      "metadata": {
        "id": "TN0_O-NejSmN"
      },
      "source": [
        "import numpy as np\n",
        "import time"
      ],
      "execution_count": 4,
      "outputs": []
    },
    {
      "cell_type": "code",
      "metadata": {
        "colab": {
          "base_uri": "https://localhost:8080/"
        },
        "id": "QudAbXPIiDVe",
        "outputId": "1e5a272c-2bcb-43d6-d0eb-e814f88ccbdd"
      },
      "source": [
        "n = 300\n",
        "a = np.ones((n,n))\n",
        "b = np.ones((n,n))\n",
        "c = np.zeros((n,n))\n",
        "start_time = time.time()\n",
        "for i in range(n):\n",
        "    for j in range(n):\n",
        "        for k in range(n):\n",
        "            c[i][j] += a[i][k] * b[k][j]\n",
        "\n",
        "print(f\"I did it in {time.time() - start_time} sec.\" )"
      ],
      "execution_count": 5,
      "outputs": [
        {
          "output_type": "stream",
          "text": [
            "I did it in 41.18795657157898 sec.\n"
          ],
          "name": "stdout"
        }
      ]
    },
    {
      "cell_type": "code",
      "metadata": {
        "colab": {
          "base_uri": "https://localhost:8080/"
        },
        "id": "Noytjj49jQcz",
        "outputId": "2466069e-3331-41d6-9e29-e8a8c781f29f"
      },
      "source": [
        "n = 1000\n",
        "a = np.ones((n,n))\n",
        "b = np.ones((n,n))\n",
        "start_time = time.time()\n",
        "c = a.dot(b)\n",
        "print(f\"I did it in {time.time() - start_time} sec.\")"
      ],
      "execution_count": 6,
      "outputs": [
        {
          "output_type": "stream",
          "text": [
            "I did it in 0.07827377319335938 sec.\n"
          ],
          "name": "stdout"
        }
      ]
    }
  ]
}