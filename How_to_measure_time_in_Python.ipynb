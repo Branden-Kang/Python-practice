{
  "nbformat": 4,
  "nbformat_minor": 0,
  "metadata": {
    "colab": {
      "name": "How to measure time in Python.ipynb",
      "provenance": [],
      "collapsed_sections": [],
      "authorship_tag": "ABX9TyNkQElAKD/Eptn31jUtax4w"
    },
    "kernelspec": {
      "name": "python3",
      "display_name": "Python 3"
    },
    "language_info": {
      "name": "python"
    }
  },
  "cells": [
    {
      "cell_type": "markdown",
      "metadata": {
        "id": "zArmfjs3CkfW"
      },
      "source": [
        "[Reference](https://python-on-papyrus.medium.com/how-to-measure-time-in-python-691d67f8b1be)"
      ]
    },
    {
      "cell_type": "code",
      "metadata": {
        "colab": {
          "base_uri": "https://localhost:8080/"
        },
        "id": "oCbtYGzwCiPG",
        "outputId": "cc89c1d0-ec54-4511-f81e-fba0b11d5e3a"
      },
      "source": [
        "import time\n",
        "start = time.time()\n",
        "i = 0 \n",
        "while i < 10000:\n",
        "    i+=1\n",
        "end = time.time()\n",
        "print(end - start)"
      ],
      "execution_count": 1,
      "outputs": [
        {
          "output_type": "stream",
          "name": "stdout",
          "text": [
            "0.0024111270904541016\n"
          ]
        }
      ]
    },
    {
      "cell_type": "code",
      "metadata": {
        "id": "b98pt_nMDTUq",
        "colab": {
          "base_uri": "https://localhost:8080/"
        },
        "outputId": "9d806801-a293-4b17-993c-d51233ada4bf"
      },
      "source": [
        "import time\n",
        "start = time.monotonic()\n",
        "i = 0 \n",
        "while i < 10000:\n",
        "    i+=1\n",
        "end = time.monotonic()\n",
        "print(end - start)"
      ],
      "execution_count": 2,
      "outputs": [
        {
          "output_type": "stream",
          "name": "stdout",
          "text": [
            "0.00718542700008129\n"
          ]
        }
      ]
    }
  ]
}