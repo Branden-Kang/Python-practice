{
  "nbformat": 4,
  "nbformat_minor": 0,
  "metadata": {
    "colab": {
      "name": "How to measure time in Python.ipynb",
      "provenance": [],
      "collapsed_sections": [],
      "authorship_tag": "ABX9TyNkQElAKD/Eptn31jUtax4w"
    },
    "kernelspec": {
      "name": "python3",
      "display_name": "Python 3"
    },
    "language_info": {
      "name": "python"
    }
  },
  "cells": [
    {
      "cell_type": "markdown",
      "metadata": {
        "id": "zArmfjs3CkfW"
      },
      "source": [
        "[Reference](https://python-on-papyrus.medium.com/how-to-measure-time-in-python-691d67f8b1be)"
      ]
    },
    {
      "cell_type": "code",
      "metadata": {
        "colab": {
          "base_uri": "https://localhost:8080/"
        },
        "id": "oCbtYGzwCiPG",
        "outputId": "9f65b8f4-4ee5-445b-cf9f-11eeb8e813d5"
      },
      "source": [
        "import time\n",
        "start = time.time()\n",
        "i = 0 \n",
        "while i < 10000:\n",
        "    i+=1\n",
        "end = time.time()\n",
        "print(end - start)"
      ],
      "execution_count": 1,
      "outputs": [
        {
          "output_type": "stream",
          "name": "stdout",
          "text": [
            "0.0013360977172851562\n"
          ]
        }
      ]
    },
    {
      "cell_type": "code",
      "metadata": {
        "id": "b98pt_nMDTUq",
        "colab": {
          "base_uri": "https://localhost:8080/"
        },
        "outputId": "e29e1ca8-152c-4bc3-904c-4d1a608c62dd"
      },
      "source": [
        "import time\n",
        "start = time.monotonic()\n",
        "i = 0 \n",
        "while i < 10000:\n",
        "    i+=1\n",
        "end = time.monotonic()\n",
        "print(end - start)"
      ],
      "execution_count": 2,
      "outputs": [
        {
          "output_type": "stream",
          "name": "stdout",
          "text": [
            "0.0011641930000081402\n"
          ]
        }
      ]
    }
  ]
}