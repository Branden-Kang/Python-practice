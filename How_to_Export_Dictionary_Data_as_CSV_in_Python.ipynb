{
  "nbformat": 4,
  "nbformat_minor": 0,
  "metadata": {
    "colab": {
      "name": "How to Export Dictionary Data as CSV in Python.ipynb",
      "provenance": [],
      "authorship_tag": "ABX9TyPU3EGJRSF2h96uK6LzFUMK"
    },
    "kernelspec": {
      "name": "python3",
      "display_name": "Python 3"
    }
  },
  "cells": [
    {
      "cell_type": "markdown",
      "metadata": {
        "id": "aj16zWTM0X_C",
        "colab_type": "text"
      },
      "source": [
        "[Reference](https://medium.com/code-85/how-to-export-dictionary-data-as-csv-in-python-9c9356b9d733)"
      ]
    },
    {
      "cell_type": "code",
      "metadata": {
        "id": "qTqPvOeZ0TPk",
        "colab_type": "code",
        "colab": {}
      },
      "source": [
        "data = [{\n",
        "  \"id\": 1,\n",
        "  \"first_name\": \"Giuditta\",\n",
        "  \"last_name\": \"Garland\",\n",
        "  \"email\": \"ggarland0@blogspot.com\",\n",
        "  \"gender\": \"Female\"\n",
        "}, {\n",
        "  \"id\": 2,\n",
        "  \"first_name\": \"Ginger\",\n",
        "  \"last_name\": \"Franzewitch\",\n",
        "  \"email\": \"gfranzewitch1@furl.net\",\n",
        "  \"gender\": \"Male\"\n",
        "}, {\n",
        "  \"id\": 3,\n",
        "  \"first_name\": \"Ellwood\",\n",
        "  \"last_name\": \"Shanahan\",\n",
        "  \"email\": \"eshanahan2@ebay.com\",\n",
        "  \"gender\": \"Male\"\n",
        "}]"
      ],
      "execution_count": 1,
      "outputs": []
    },
    {
      "cell_type": "code",
      "metadata": {
        "id": "c42Mq9iI0dbK",
        "colab_type": "code",
        "colab": {}
      },
      "source": [
        "import csv"
      ],
      "execution_count": 2,
      "outputs": []
    },
    {
      "cell_type": "code",
      "metadata": {
        "id": "vuMUCpQF0iBB",
        "colab_type": "code",
        "colab": {}
      },
      "source": [
        "with open(\"data.csv\", \"w\", newline=\"\") as csv_file:\n",
        "  cols = [\"id\",\"first_name\",\"last_name\",\"email\",\"gender\"] \n",
        "  writer = csv.DictWriter(csv_file, fieldnames=cols)\n",
        "  writer.writeheader()\n",
        "  writer.writerows(data)"
      ],
      "execution_count": 3,
      "outputs": []
    },
    {
      "cell_type": "code",
      "metadata": {
        "id": "hE6Ssk9Z0kXi",
        "colab_type": "code",
        "colab": {
          "base_uri": "https://localhost:8080/",
          "height": 119
        },
        "outputId": "1b266d5d-4b65-4fab-87ff-edd6ab484588"
      },
      "source": [
        "# Sample Data\n",
        "{\n",
        "  \"id\": 3,\n",
        "  \"first_name\": \"Jon\",\n",
        "  \"last_name\": \"Smith\",\n",
        "  \"email\": \"jsmith@wisc.edu\",\n",
        "  \"gender\": \"Male\",\n",
        "  \"jobs\": [\"Advisor\", \"Pharmacist\"]\n",
        "}"
      ],
      "execution_count": 5,
      "outputs": [
        {
          "output_type": "execute_result",
          "data": {
            "text/plain": [
              "{'email': 'jsmith@wisc.edu',\n",
              " 'first_name': 'Jon',\n",
              " 'gender': 'Male',\n",
              " 'id': 3,\n",
              " 'jobs': ['Advisor', 'Pharmacist'],\n",
              " 'last_name': 'Smith'}"
            ]
          },
          "metadata": {
            "tags": []
          },
          "execution_count": 5
        }
      ]
    },
    {
      "cell_type": "code",
      "metadata": {
        "id": "FSz6CZW30okz",
        "colab_type": "code",
        "colab": {}
      },
      "source": [
        "writer = csv.DictWriter(csv_file,\n",
        "                        fieldnames=[\"id\",\"first_name\", \"car\"],\n",
        "                        restval='MISSING',\n",
        "                        extrasaction='ignore')"
      ],
      "execution_count": 6,
      "outputs": []
    },
    {
      "cell_type": "code",
      "metadata": {
        "id": "Zl2OjS9w0vvV",
        "colab_type": "code",
        "colab": {
          "base_uri": "https://localhost:8080/",
          "height": 34
        },
        "outputId": "469975c9-1809-4ddc-8339-852d5264e55e"
      },
      "source": [
        "writer"
      ],
      "execution_count": 7,
      "outputs": [
        {
          "output_type": "execute_result",
          "data": {
            "text/plain": [
              "<csv.DictWriter at 0x7fb2602bda90>"
            ]
          },
          "metadata": {
            "tags": []
          },
          "execution_count": 7
        }
      ]
    }
  ]
}