{
  "nbformat": 4,
  "nbformat_minor": 0,
  "metadata": {
    "colab": {
      "name": "Essential Collections in Python.ipynb",
      "provenance": [],
      "authorship_tag": "ABX9TyM1G5g4yeamCcJEFDx/ngUd"
    },
    "kernelspec": {
      "name": "python3",
      "display_name": "Python 3"
    }
  },
  "cells": [
    {
      "cell_type": "markdown",
      "metadata": {
        "id": "6XeQDe30u0Km"
      },
      "source": [
        "[Reference](https://medium.com/swlh/essential-collections-in-python-43fc0d445a4c)"
      ]
    },
    {
      "cell_type": "markdown",
      "metadata": {
        "id": "JOlOS07zu2VM"
      },
      "source": [
        "# List"
      ]
    },
    {
      "cell_type": "code",
      "metadata": {
        "id": "plrzCPEoukWg"
      },
      "source": [
        "collection_list = []\n",
        "collection_list = [1,2,3,4,5]\n",
        "collection_list = ['a','b','c','d','e']\n",
        "collection_list = list()\n",
        "\n",
        "collection_list = [1] * 10 # [1,1,1,1,1,1,1,1,1,1]"
      ],
      "execution_count": 1,
      "outputs": []
    },
    {
      "cell_type": "code",
      "metadata": {
        "colab": {
          "base_uri": "https://localhost:8080/"
        },
        "id": "dstnnBvCu4aU",
        "outputId": "92e2c369-c075-4991-9322-63128744c8c2"
      },
      "source": [
        "particular_list = [1,2,3,4,5]\n",
        "len(particular_list) # 5\n",
        "\n",
        "print(particular_list[0])  # 1\n",
        "print(particular_list[3])  # 4\n",
        "print(particular_list[-1]) # 5\n",
        "\n",
        "particular_list[4] = 100\n",
        "print(particular_list) # 1,2,3,4,100"
      ],
      "execution_count": 2,
      "outputs": [
        {
          "output_type": "stream",
          "text": [
            "1\n",
            "4\n",
            "5\n",
            "[1, 2, 3, 4, 100]\n"
          ],
          "name": "stdout"
        }
      ]
    },
    {
      "cell_type": "code",
      "metadata": {
        "colab": {
          "base_uri": "https://localhost:8080/"
        },
        "id": "bvODRorhu7vd",
        "outputId": "74052f85-5ae3-4212-c6b1-d5192dedadc2"
      },
      "source": [
        "particular_list = [\"one\",\"two\",\"three\",\"four\",\"five\"]\n",
        "\n",
        "if \"one\" in particular_list:  #true\n",
        "    print(\"true\")"
      ],
      "execution_count": 4,
      "outputs": [
        {
          "output_type": "stream",
          "text": [
            "true\n"
          ],
          "name": "stdout"
        }
      ]
    },
    {
      "cell_type": "code",
      "metadata": {
        "colab": {
          "base_uri": "https://localhost:8080/"
        },
        "id": "xgw2ZkzGu_o_",
        "outputId": "97ffc450-6b6f-480b-bf40-0b4e81449d0e"
      },
      "source": [
        "number_list = [0,1,2,3,4,5,6,7,8,9]\n",
        "\n",
        "number_list[0:4] # 0,1,2,3   !NOTE THAT 4 IS NOT INCLUDED IN RANGE\n",
        "\n",
        "number_list[::2] # 0,2,4,6,8\n",
        "\n",
        "number_list[::-1] # PRINT IN REVERSE : 9,8,7,6,5,4,3,2,1,0\n",
        "\n",
        "number_list[7:1:-1] # 7,6,5,4,3,2"
      ],
      "execution_count": 5,
      "outputs": [
        {
          "output_type": "execute_result",
          "data": {
            "text/plain": [
              "[7, 6, 5, 4, 3, 2]"
            ]
          },
          "metadata": {
            "tags": []
          },
          "execution_count": 5
        }
      ]
    },
    {
      "cell_type": "code",
      "metadata": {
        "colab": {
          "base_uri": "https://localhost:8080/"
        },
        "id": "EVInZMIkvEJx",
        "outputId": "27ae9405-2645-4cb2-b548-fc4df46dc55b"
      },
      "source": [
        "given_list = [\"one\", \"two\", \"three\", \"four\"]\n",
        "\n",
        "for element in given_list:    \n",
        "    print(element)\n",
        "\n",
        "for index, element in enumerate(given_list):\n",
        "    print(\"index:{} {}\".format(index, element))\n",
        "\n",
        "print(given_list)"
      ],
      "execution_count": 8,
      "outputs": [
        {
          "output_type": "stream",
          "text": [
            "one\n",
            "two\n",
            "three\n",
            "four\n",
            "index:0 one\n",
            "index:1 two\n",
            "index:2 three\n",
            "index:3 four\n",
            "['one', 'two', 'three', 'four']\n"
          ],
          "name": "stdout"
        }
      ]
    },
    {
      "cell_type": "code",
      "metadata": {
        "colab": {
          "base_uri": "https://localhost:8080/"
        },
        "id": "N0VfnfWYvHk4",
        "outputId": "650591fc-3333-4da4-95b5-c9d9645b50a3"
      },
      "source": [
        "words = [\"one\", \"two\", \"three\", \"four\", \"five\"]\n",
        "\n",
        "words.append(\"six\")\n",
        "\n",
        "words.extend([\"seven\", \"eight\"])\n",
        "\n",
        "del words[2]\n",
        "print(words)"
      ],
      "execution_count": 9,
      "outputs": [
        {
          "output_type": "stream",
          "text": [
            "['one', 'two', 'four', 'five', 'six', 'seven', 'eight']\n"
          ],
          "name": "stdout"
        }
      ]
    },
    {
      "cell_type": "code",
      "metadata": {
        "colab": {
          "base_uri": "https://localhost:8080/"
        },
        "id": "Wz4vWuC-vUHh",
        "outputId": "88603793-2164-42d9-d799-5386c48954ce"
      },
      "source": [
        "numbers = [1, 2, 3, 4, 5, 6, 7, 8]\n",
        "print(min(numbers))\n",
        "print(max(numbers))\n",
        "print(sum(numbers))"
      ],
      "execution_count": 10,
      "outputs": [
        {
          "output_type": "stream",
          "text": [
            "1\n",
            "8\n",
            "36\n"
          ],
          "name": "stdout"
        }
      ]
    },
    {
      "cell_type": "code",
      "metadata": {
        "colab": {
          "base_uri": "https://localhost:8080/"
        },
        "id": "PQNfVBCXvYGf",
        "outputId": "7c34b87a-14c8-46d4-a4dd-6391486d784a"
      },
      "source": [
        "word_list = [\"python\", \"java\", \"c++\"]\n",
        "print(', '.join(word_list))"
      ],
      "execution_count": 11,
      "outputs": [
        {
          "output_type": "stream",
          "text": [
            "python, java, c++\n"
          ],
          "name": "stdout"
        }
      ]
    },
    {
      "cell_type": "code",
      "metadata": {
        "colab": {
          "base_uri": "https://localhost:8080/"
        },
        "id": "Gvcp6SUpvaoP",
        "outputId": "321f2c9b-574f-4496-c1f3-21fbfb4cbe23"
      },
      "source": [
        "numbers_list = [5,10,6,9,4,8,2,7,1,3]\n",
        "\n",
        "print(sorted(numbers_list))\n",
        "print(numbers_list)\n",
        "\n",
        "numbers_list.sort()\n",
        "print(numbers_list)\n",
        "\n",
        "print(sorted(numbers_list, reverse=True))\n",
        "numbers_list.sort(reverse=True)\n",
        "print(numbers_list)"
      ],
      "execution_count": 12,
      "outputs": [
        {
          "output_type": "stream",
          "text": [
            "[1, 2, 3, 4, 5, 6, 7, 8, 9, 10]\n",
            "[5, 10, 6, 9, 4, 8, 2, 7, 1, 3]\n",
            "[1, 2, 3, 4, 5, 6, 7, 8, 9, 10]\n",
            "[10, 9, 8, 7, 6, 5, 4, 3, 2, 1]\n",
            "[10, 9, 8, 7, 6, 5, 4, 3, 2, 1]\n"
          ],
          "name": "stdout"
        }
      ]
    },
    {
      "cell_type": "markdown",
      "metadata": {
        "id": "oF4SPDnCwGGH"
      },
      "source": [
        "# Dictionary"
      ]
    },
    {
      "cell_type": "code",
      "metadata": {
        "colab": {
          "base_uri": "https://localhost:8080/"
        },
        "id": "dPuTYR7gvfPT",
        "outputId": "2d92dcd4-8f41-4a53-d982-7e98b4557136"
      },
      "source": [
        "example_dict = {}\n",
        "example_dict = dict()\n",
        "\n",
        "example_dict = {\n",
        "    \"brands_us\": [\"apple\", \"hp\", \"google\"],\n",
        "    \"brands_china\": [\"xiaomi\", \"meizu\",\"lenovo\"]\n",
        "}\n",
        "\n",
        "print(example_dict[\"brands_us\"])"
      ],
      "execution_count": 13,
      "outputs": [
        {
          "output_type": "stream",
          "text": [
            "['apple', 'hp', 'google']\n"
          ],
          "name": "stdout"
        }
      ]
    },
    {
      "cell_type": "code",
      "metadata": {
        "colab": {
          "base_uri": "https://localhost:8080/",
          "height": 283
        },
        "id": "WDWpQnj2wK9P",
        "outputId": "455f7f24-eccf-4e42-ec74-dab7be50bad0"
      },
      "source": [
        "example_dict = {\n",
        "    \"brands_us\": [\"apple\", \"hp\", \"google\"],\n",
        "    \"brands_china\": [\"xiaomi\", \"meizu\",\"lenovo\"]\n",
        "}\n",
        "print(example_dict[\"brands_us\"])\n",
        "print(example_dict[\"brands_uz\"])\n",
        "\n",
        "print(example_dict.get(\"brands_uz\", \"artel\")) "
      ],
      "execution_count": 16,
      "outputs": [
        {
          "output_type": "stream",
          "text": [
            "['apple', 'hp', 'google']\n"
          ],
          "name": "stdout"
        },
        {
          "output_type": "error",
          "ename": "KeyError",
          "evalue": "ignored",
          "traceback": [
            "\u001b[0;31m---------------------------------------------------------------------------\u001b[0m",
            "\u001b[0;31mKeyError\u001b[0m                                  Traceback (most recent call last)",
            "\u001b[0;32m<ipython-input-16-22228417d03d>\u001b[0m in \u001b[0;36m<module>\u001b[0;34m()\u001b[0m\n\u001b[1;32m      4\u001b[0m }\n\u001b[1;32m      5\u001b[0m \u001b[0mprint\u001b[0m\u001b[0;34m(\u001b[0m\u001b[0mexample_dict\u001b[0m\u001b[0;34m[\u001b[0m\u001b[0;34m\"brands_us\"\u001b[0m\u001b[0;34m]\u001b[0m\u001b[0;34m)\u001b[0m\u001b[0;34m\u001b[0m\u001b[0;34m\u001b[0m\u001b[0m\n\u001b[0;32m----> 6\u001b[0;31m \u001b[0mprint\u001b[0m\u001b[0;34m(\u001b[0m\u001b[0mexample_dict\u001b[0m\u001b[0;34m[\u001b[0m\u001b[0;34m\"brands_uz\"\u001b[0m\u001b[0;34m]\u001b[0m\u001b[0;34m)\u001b[0m\u001b[0;34m\u001b[0m\u001b[0;34m\u001b[0m\u001b[0m\n\u001b[0m\u001b[1;32m      7\u001b[0m \u001b[0;34m\u001b[0m\u001b[0m\n\u001b[1;32m      8\u001b[0m \u001b[0mprint\u001b[0m\u001b[0;34m(\u001b[0m\u001b[0mexample_dict\u001b[0m\u001b[0;34m.\u001b[0m\u001b[0mget\u001b[0m\u001b[0;34m(\u001b[0m\u001b[0;34m\"brands_uz\"\u001b[0m\u001b[0;34m,\u001b[0m \u001b[0;34m\"artel\"\u001b[0m\u001b[0;34m)\u001b[0m\u001b[0;34m)\u001b[0m\u001b[0;34m\u001b[0m\u001b[0;34m\u001b[0m\u001b[0m\n",
            "\u001b[0;31mKeyError\u001b[0m: 'brands_uz'"
          ]
        }
      ]
    },
    {
      "cell_type": "code",
      "metadata": {
        "colab": {
          "base_uri": "https://localhost:8080/"
        },
        "id": "qXZ5JRorwOA2",
        "outputId": "309f4bdf-9c6e-43c9-afd9-4a5306546455"
      },
      "source": [
        "example_dict = {\n",
        "    \"brands_us\": [\"apple\", \"hp\", \"google\"],\n",
        "    \"brands_china\": [\"xiaomi\", \"meizu\",\"lenovo\"]\n",
        "}\n",
        "if \"brands_us\" in example_dict:\n",
        "    print(\"true\")\n",
        "else:\n",
        "    print(\"false\")"
      ],
      "execution_count": 17,
      "outputs": [
        {
          "output_type": "stream",
          "text": [
            "true\n"
          ],
          "name": "stdout"
        }
      ]
    },
    {
      "cell_type": "code",
      "metadata": {
        "colab": {
          "base_uri": "https://localhost:8080/"
        },
        "id": "vTvhC3NIweqk",
        "outputId": "81ef1e2f-c0ee-4465-fb49-97ec8f0fb0c7"
      },
      "source": [
        "team_map = {\n",
        "    \"Temur\": 'UX',\n",
        "    \"Zafar\": 'IOS',\n",
        "    \"Abbos\": 'Front-end',\n",
        "}\n",
        "print(team_map) \n",
        "\n",
        "team_map[\"Alexandra\"] = '.NET'\n",
        "print(team_map) \n",
        "\n",
        "del team_map[\"Abbos\"]\n",
        "print(team_map) \n",
        "\n",
        "team_map.update({\n",
        "    \"Temur\": 'Android',\n",
        "    \"Kamoliddin\": 'Python'\n",
        "})\n",
        "print(team_map) "
      ],
      "execution_count": 18,
      "outputs": [
        {
          "output_type": "stream",
          "text": [
            "{'Temur': 'UX', 'Zafar': 'IOS', 'Abbos': 'Front-end'}\n",
            "{'Temur': 'UX', 'Zafar': 'IOS', 'Abbos': 'Front-end', 'Alexandra': '.NET'}\n",
            "{'Temur': 'UX', 'Zafar': 'IOS', 'Alexandra': '.NET'}\n",
            "{'Temur': 'Android', 'Zafar': 'IOS', 'Alexandra': '.NET', 'Kamoliddin': 'Python'}\n"
          ],
          "name": "stdout"
        }
      ]
    },
    {
      "cell_type": "code",
      "metadata": {
        "colab": {
          "base_uri": "https://localhost:8080/"
        },
        "id": "Jeuj92rcwq8U",
        "outputId": "73e33c1e-6dc8-43e2-c099-3b082a31af45"
      },
      "source": [
        "team_map = {\n",
        "    \"Temur\": 'UX',\n",
        "    \"Zafar\": 'IOS',\n",
        "    \"Abbos\": 'Front-end',\n",
        "}\n",
        "print(team_map.pop(\"Temur\"))\n",
        "print(team_map)"
      ],
      "execution_count": 19,
      "outputs": [
        {
          "output_type": "stream",
          "text": [
            "UX\n",
            "{'Zafar': 'IOS', 'Abbos': 'Front-end'}\n"
          ],
          "name": "stdout"
        }
      ]
    },
    {
      "cell_type": "code",
      "metadata": {
        "colab": {
          "base_uri": "https://localhost:8080/"
        },
        "id": "DxCR_B5twu32",
        "outputId": "70fa1744-140d-41ab-a4ca-a46b5143873b"
      },
      "source": [
        "temp_dict = dict()\n",
        "print(temp_dict.setdefault(\"key\", 'value_1'))\n",
        "\n",
        "print(temp_dict)\n",
        "\n",
        "print(temp_dict.setdefault(\"key\", 'value_2'))"
      ],
      "execution_count": 20,
      "outputs": [
        {
          "output_type": "stream",
          "text": [
            "value_1\n",
            "{'key': 'value_1'}\n",
            "value_1\n"
          ],
          "name": "stdout"
        }
      ]
    },
    {
      "cell_type": "code",
      "metadata": {
        "colab": {
          "base_uri": "https://localhost:8080/"
        },
        "id": "tKwb41YQw4W9",
        "outputId": "56995eef-3451-4a7e-9360-a71cbd9836ff"
      },
      "source": [
        "team_map = {\n",
        "    \"Temur\": 'UX',\n",
        "    \"Zafar\": 'IOS',\n",
        "    \"Abbos\": 'Front-end',\n",
        "}\n",
        "\n",
        "for key in team_map:\n",
        "    print(key)\n",
        "\n",
        "for key, value in team_map.items():\n",
        "    print(\"{} does {}\".format(key, value))\n",
        "\n",
        "for value in team_map.values():\n",
        "    print(value)"
      ],
      "execution_count": 21,
      "outputs": [
        {
          "output_type": "stream",
          "text": [
            "Temur\n",
            "Zafar\n",
            "Abbos\n",
            "Temur does UX\n",
            "Zafar does IOS\n",
            "Abbos does Front-end\n",
            "UX\n",
            "IOS\n",
            "Front-end\n"
          ],
          "name": "stdout"
        }
      ]
    },
    {
      "cell_type": "markdown",
      "metadata": {
        "id": "Vp-0zSLlxCSG"
      },
      "source": [
        "# Set"
      ]
    },
    {
      "cell_type": "code",
      "metadata": {
        "colab": {
          "base_uri": "https://localhost:8080/"
        },
        "id": "Oh8jihhMxAIp",
        "outputId": "63a2aeb0-51f7-471b-eeb8-dff18586c422"
      },
      "source": [
        "example_set = set()\n",
        "example_set = {1, 2, 3, 3, 4, 5}\n",
        "\n",
        "print(example_set)\n",
        "\n",
        "print(3 in example_set)"
      ],
      "execution_count": 22,
      "outputs": [
        {
          "output_type": "stream",
          "text": [
            "{1, 2, 3, 4, 5}\n",
            "True\n"
          ],
          "name": "stdout"
        }
      ]
    },
    {
      "cell_type": "code",
      "metadata": {
        "colab": {
          "base_uri": "https://localhost:8080/"
        },
        "id": "H_LU2p8JxSNT",
        "outputId": "ff05d06b-57e6-498f-f30f-a444a2bf8527"
      },
      "source": [
        "first_set = set()\n",
        "\n",
        "for x in range(10):\n",
        "    first_set.add(x)\n",
        "\n",
        "  \n",
        "print(first_set)\n",
        "\n",
        "first_set.remove(0)\n",
        "print(first_set)"
      ],
      "execution_count": 23,
      "outputs": [
        {
          "output_type": "stream",
          "text": [
            "{0, 1, 2, 3, 4, 5, 6, 7, 8, 9}\n",
            "{1, 2, 3, 4, 5, 6, 7, 8, 9}\n"
          ],
          "name": "stdout"
        }
      ]
    },
    {
      "cell_type": "code",
      "metadata": {
        "colab": {
          "base_uri": "https://localhost:8080/"
        },
        "id": "S86f9OazxVSi",
        "outputId": "90d356e8-ebba-4192-ba6e-57716ebf4d16"
      },
      "source": [
        "import random\n",
        "\n",
        "first_set = set()\n",
        "second_set = set()\n",
        "\n",
        "for x in range(10):\n",
        "    first_set.add(x)\n",
        "\n",
        "for _ in range(10):\n",
        "    second_set.add(random.randint(5,20))\n",
        "  \n",
        "  \n",
        "union_set = first_set | second_set\n",
        "union_set = first_set.union(second_set)\n",
        "\n",
        "intersection_set = first_set & second_set\n",
        "intersection_set = first_set.intersection(second_set)\n",
        "\n",
        "difference_set = first_set - second_set\n",
        "difference_set = first_set.difference(second_set)\n",
        "\n",
        "symmetric_difference_set = first_set ^ second_set\n",
        "symmetric_difference_set = first_set.symmetric_difference(second_set)\n",
        "\n",
        "\n",
        "print(first_set)\n",
        "print(second_set)\n",
        "print(union_set)\n",
        "print(intersection_set)\n",
        "print(difference_set)\n",
        "print(symmetric_difference_set)"
      ],
      "execution_count": 24,
      "outputs": [
        {
          "output_type": "stream",
          "text": [
            "{0, 1, 2, 3, 4, 5, 6, 7, 8, 9}\n",
            "{5, 6, 7, 8, 11, 12, 15, 16, 20}\n",
            "{0, 1, 2, 3, 4, 5, 6, 7, 8, 9, 11, 12, 15, 16, 20}\n",
            "{8, 5, 6, 7}\n",
            "{0, 1, 2, 3, 4, 9}\n",
            "{0, 1, 2, 3, 4, 9, 11, 12, 15, 16, 20}\n"
          ],
          "name": "stdout"
        }
      ]
    }
  ]
}