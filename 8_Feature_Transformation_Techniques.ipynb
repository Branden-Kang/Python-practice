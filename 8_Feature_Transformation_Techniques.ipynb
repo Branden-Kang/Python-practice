{
  "nbformat": 4,
  "nbformat_minor": 0,
  "metadata": {
    "colab": {
      "name": "8 Feature Transformation Techniques.ipynb",
      "provenance": [],
      "authorship_tag": "ABX9TyPwvOzuF4MHPQKqXdsUl0vX"
    },
    "kernelspec": {
      "name": "python3",
      "display_name": "Python 3"
    }
  },
  "cells": [
    {
      "cell_type": "markdown",
      "metadata": {
        "id": "M3OHqaqHRA7M"
      },
      "source": [
        "[Reference](https://medium.com/swlh/feature-transformation-and-scaling-techniques-f9645cb538e)"
      ]
    },
    {
      "cell_type": "markdown",
      "metadata": {
        "id": "7XOsYG7FRHeO"
      },
      "source": [
        "# Why Feature transformation is necessary?\n",
        "\n",
        "The feature with larger values will affect the output more. Therefore, we need to implement feature transformation. And, there are 9 techniques we can use:\n",
        "\n",
        "1. Min Max Scaler\n",
        "2. Standard Scaler\n",
        "3. MaxAbsScaler\n",
        "4. Robust Scaler\n",
        "5. Quantile Transformer Scaler\n",
        "6. Log Transformation\n",
        "7. Power Transformer Scaler\n",
        "8. Unit Vector Scaler/Normalizer\n"
      ]
    },
    {
      "cell_type": "markdown",
      "metadata": {
        "id": "bJvqzu60RhM8"
      },
      "source": [
        "Let's practice using simple examples"
      ]
    },
    {
      "cell_type": "code",
      "metadata": {
        "id": "OsoNrbb9RgWr"
      },
      "source": [
        "# Import necessary packages\n",
        "import warnings\n",
        "warnings.filterwarnings('ignore')\n",
        "import numpy as np\n",
        "import matplotlib.pyplot as plt\n",
        "import pandas as pd\n",
        "%matplotlib inline"
      ],
      "execution_count": 3,
      "outputs": []
    },
    {
      "cell_type": "code",
      "metadata": {
        "colab": {
          "base_uri": "https://localhost:8080/",
          "height": 204
        },
        "id": "f99eayZrQ9mr",
        "outputId": "75da662c-9c66-4015-8676-ca27fa332891"
      },
      "source": [
        "df = pd.DataFrame({\n",
        "    'Name':['Branden','John','Kim','Karsaw','James'],\n",
        "    'age':[22,21,20,19,24],\n",
        "    'score':[100,80,90,70,95]\n",
        "})\n",
        "df.head()"
      ],
      "execution_count": 5,
      "outputs": [
        {
          "output_type": "execute_result",
          "data": {
            "text/html": [
              "<div>\n",
              "<style scoped>\n",
              "    .dataframe tbody tr th:only-of-type {\n",
              "        vertical-align: middle;\n",
              "    }\n",
              "\n",
              "    .dataframe tbody tr th {\n",
              "        vertical-align: top;\n",
              "    }\n",
              "\n",
              "    .dataframe thead th {\n",
              "        text-align: right;\n",
              "    }\n",
              "</style>\n",
              "<table border=\"1\" class=\"dataframe\">\n",
              "  <thead>\n",
              "    <tr style=\"text-align: right;\">\n",
              "      <th></th>\n",
              "      <th>Name</th>\n",
              "      <th>age</th>\n",
              "      <th>score</th>\n",
              "    </tr>\n",
              "  </thead>\n",
              "  <tbody>\n",
              "    <tr>\n",
              "      <th>0</th>\n",
              "      <td>Branden</td>\n",
              "      <td>22</td>\n",
              "      <td>100</td>\n",
              "    </tr>\n",
              "    <tr>\n",
              "      <th>1</th>\n",
              "      <td>John</td>\n",
              "      <td>21</td>\n",
              "      <td>80</td>\n",
              "    </tr>\n",
              "    <tr>\n",
              "      <th>2</th>\n",
              "      <td>Kim</td>\n",
              "      <td>20</td>\n",
              "      <td>90</td>\n",
              "    </tr>\n",
              "    <tr>\n",
              "      <th>3</th>\n",
              "      <td>Karsaw</td>\n",
              "      <td>19</td>\n",
              "      <td>70</td>\n",
              "    </tr>\n",
              "    <tr>\n",
              "      <th>4</th>\n",
              "      <td>James</td>\n",
              "      <td>24</td>\n",
              "      <td>95</td>\n",
              "    </tr>\n",
              "  </tbody>\n",
              "</table>\n",
              "</div>"
            ],
            "text/plain": [
              "      Name  age  score\n",
              "0  Branden   22    100\n",
              "1     John   21     80\n",
              "2      Kim   20     90\n",
              "3   Karsaw   19     70\n",
              "4    James   24     95"
            ]
          },
          "metadata": {
            "tags": []
          },
          "execution_count": 5
        }
      ]
    },
    {
      "cell_type": "markdown",
      "metadata": {
        "id": "p6JN3bGyR2y0"
      },
      "source": [
        "# 1. Min Max Scaler\n",
        "\n",
        "x_scaled = (x-x_min)/(x_max - x_min)"
      ]
    },
    {
      "cell_type": "code",
      "metadata": {
        "colab": {
          "base_uri": "https://localhost:8080/",
          "height": 204
        },
        "id": "Frr9grIQR0yO",
        "outputId": "f8efd80e-d92b-426b-8cc2-cfc8643fca49"
      },
      "source": [
        "from sklearn.preprocessing import MinMaxScaler\n",
        "scaler = MinMaxScaler()\n",
        "\n",
        "column_names = ['age', 'score']\n",
        "features = df[column_names]\n",
        "features[column_names] = scaler.fit_transform(features.values)\n",
        "features"
      ],
      "execution_count": 6,
      "outputs": [
        {
          "output_type": "execute_result",
          "data": {
            "text/html": [
              "<div>\n",
              "<style scoped>\n",
              "    .dataframe tbody tr th:only-of-type {\n",
              "        vertical-align: middle;\n",
              "    }\n",
              "\n",
              "    .dataframe tbody tr th {\n",
              "        vertical-align: top;\n",
              "    }\n",
              "\n",
              "    .dataframe thead th {\n",
              "        text-align: right;\n",
              "    }\n",
              "</style>\n",
              "<table border=\"1\" class=\"dataframe\">\n",
              "  <thead>\n",
              "    <tr style=\"text-align: right;\">\n",
              "      <th></th>\n",
              "      <th>age</th>\n",
              "      <th>score</th>\n",
              "    </tr>\n",
              "  </thead>\n",
              "  <tbody>\n",
              "    <tr>\n",
              "      <th>0</th>\n",
              "      <td>0.6</td>\n",
              "      <td>1.000000</td>\n",
              "    </tr>\n",
              "    <tr>\n",
              "      <th>1</th>\n",
              "      <td>0.4</td>\n",
              "      <td>0.333333</td>\n",
              "    </tr>\n",
              "    <tr>\n",
              "      <th>2</th>\n",
              "      <td>0.2</td>\n",
              "      <td>0.666667</td>\n",
              "    </tr>\n",
              "    <tr>\n",
              "      <th>3</th>\n",
              "      <td>0.0</td>\n",
              "      <td>0.000000</td>\n",
              "    </tr>\n",
              "    <tr>\n",
              "      <th>4</th>\n",
              "      <td>1.0</td>\n",
              "      <td>0.833333</td>\n",
              "    </tr>\n",
              "  </tbody>\n",
              "</table>\n",
              "</div>"
            ],
            "text/plain": [
              "   age     score\n",
              "0  0.6  1.000000\n",
              "1  0.4  0.333333\n",
              "2  0.2  0.666667\n",
              "3  0.0  0.000000\n",
              "4  1.0  0.833333"
            ]
          },
          "metadata": {
            "tags": []
          },
          "execution_count": 6
        }
      ]
    },
    {
      "cell_type": "markdown",
      "metadata": {
        "id": "W96ROlvDSGWS"
      },
      "source": [
        "The range of Min-Max scaler is between 0 and 1. And, we can set a custom range if we want."
      ]
    },
    {
      "cell_type": "code",
      "metadata": {
        "colab": {
          "base_uri": "https://localhost:8080/",
          "height": 204
        },
        "id": "pvvO7sGtSDVk",
        "outputId": "61d05086-fc65-4045-e74a-a2952503251d"
      },
      "source": [
        "from sklearn.preprocessing import MinMaxScaler\n",
        "scaler = MinMaxScaler(feature_range=(2,4))\n",
        "\n",
        "column_names = ['age', 'score']\n",
        "features = df[column_names]\n",
        "features[column_names] = scaler.fit_transform(features.values)\n",
        "features"
      ],
      "execution_count": 7,
      "outputs": [
        {
          "output_type": "execute_result",
          "data": {
            "text/html": [
              "<div>\n",
              "<style scoped>\n",
              "    .dataframe tbody tr th:only-of-type {\n",
              "        vertical-align: middle;\n",
              "    }\n",
              "\n",
              "    .dataframe tbody tr th {\n",
              "        vertical-align: top;\n",
              "    }\n",
              "\n",
              "    .dataframe thead th {\n",
              "        text-align: right;\n",
              "    }\n",
              "</style>\n",
              "<table border=\"1\" class=\"dataframe\">\n",
              "  <thead>\n",
              "    <tr style=\"text-align: right;\">\n",
              "      <th></th>\n",
              "      <th>age</th>\n",
              "      <th>score</th>\n",
              "    </tr>\n",
              "  </thead>\n",
              "  <tbody>\n",
              "    <tr>\n",
              "      <th>0</th>\n",
              "      <td>3.2</td>\n",
              "      <td>4.000000</td>\n",
              "    </tr>\n",
              "    <tr>\n",
              "      <th>1</th>\n",
              "      <td>2.8</td>\n",
              "      <td>2.666667</td>\n",
              "    </tr>\n",
              "    <tr>\n",
              "      <th>2</th>\n",
              "      <td>2.4</td>\n",
              "      <td>3.333333</td>\n",
              "    </tr>\n",
              "    <tr>\n",
              "      <th>3</th>\n",
              "      <td>2.0</td>\n",
              "      <td>2.000000</td>\n",
              "    </tr>\n",
              "    <tr>\n",
              "      <th>4</th>\n",
              "      <td>4.0</td>\n",
              "      <td>3.666667</td>\n",
              "    </tr>\n",
              "  </tbody>\n",
              "</table>\n",
              "</div>"
            ],
            "text/plain": [
              "   age     score\n",
              "0  3.2  4.000000\n",
              "1  2.8  2.666667\n",
              "2  2.4  3.333333\n",
              "3  2.0  2.000000\n",
              "4  4.0  3.666667"
            ]
          },
          "metadata": {
            "tags": []
          },
          "execution_count": 7
        }
      ]
    },
    {
      "cell_type": "markdown",
      "metadata": {
        "id": "SLPQSkkTSUmT"
      },
      "source": [
        "# 2. Standard Scaler\n",
        "x_scaled = x — mean/std_dev"
      ]
    },
    {
      "cell_type": "code",
      "metadata": {
        "colab": {
          "base_uri": "https://localhost:8080/",
          "height": 204
        },
        "id": "_na9DcF-STKw",
        "outputId": "d0cf6c4c-eb1c-4888-edbe-2db3f9398218"
      },
      "source": [
        "from sklearn.preprocessing import StandardScaler\n",
        "scaler = StandardScaler()\n",
        "colum_names = ['age', 'score']\n",
        "features = df[column_names]\n",
        "features[column_names] = scaler.fit_transform(features.values)\n",
        "features"
      ],
      "execution_count": 8,
      "outputs": [
        {
          "output_type": "execute_result",
          "data": {
            "text/html": [
              "<div>\n",
              "<style scoped>\n",
              "    .dataframe tbody tr th:only-of-type {\n",
              "        vertical-align: middle;\n",
              "    }\n",
              "\n",
              "    .dataframe tbody tr th {\n",
              "        vertical-align: top;\n",
              "    }\n",
              "\n",
              "    .dataframe thead th {\n",
              "        text-align: right;\n",
              "    }\n",
              "</style>\n",
              "<table border=\"1\" class=\"dataframe\">\n",
              "  <thead>\n",
              "    <tr style=\"text-align: right;\">\n",
              "      <th></th>\n",
              "      <th>age</th>\n",
              "      <th>score</th>\n",
              "    </tr>\n",
              "  </thead>\n",
              "  <tbody>\n",
              "    <tr>\n",
              "      <th>0</th>\n",
              "      <td>0.464991</td>\n",
              "      <td>1.207020</td>\n",
              "    </tr>\n",
              "    <tr>\n",
              "      <th>1</th>\n",
              "      <td>-0.116248</td>\n",
              "      <td>-0.649934</td>\n",
              "    </tr>\n",
              "    <tr>\n",
              "      <th>2</th>\n",
              "      <td>-0.697486</td>\n",
              "      <td>0.278543</td>\n",
              "    </tr>\n",
              "    <tr>\n",
              "      <th>3</th>\n",
              "      <td>-1.278724</td>\n",
              "      <td>-1.578410</td>\n",
              "    </tr>\n",
              "    <tr>\n",
              "      <th>4</th>\n",
              "      <td>1.627467</td>\n",
              "      <td>0.742781</td>\n",
              "    </tr>\n",
              "  </tbody>\n",
              "</table>\n",
              "</div>"
            ],
            "text/plain": [
              "        age     score\n",
              "0  0.464991  1.207020\n",
              "1 -0.116248 -0.649934\n",
              "2 -0.697486  0.278543\n",
              "3 -1.278724 -1.578410\n",
              "4  1.627467  0.742781"
            ]
          },
          "metadata": {
            "tags": []
          },
          "execution_count": 8
        }
      ]
    },
    {
      "cell_type": "markdown",
      "metadata": {
        "id": "F5hK7IQDUDR1"
      },
      "source": [
        "# 3. MaxAbsScaler\n",
        "1. Takes the absolute value of each value in the column.\n",
        "2. Find the max value of the column.\n",
        "3. Divides the max value with each value in the column."
      ]
    },
    {
      "cell_type": "code",
      "metadata": {
        "id": "WOGS_x6uUBep"
      },
      "source": [
        "features = df[['age','score']]\n",
        "features['salary'] = [18000,20000,10000,2600,23000]"
      ],
      "execution_count": 9,
      "outputs": []
    },
    {
      "cell_type": "code",
      "metadata": {
        "colab": {
          "base_uri": "https://localhost:8080/",
          "height": 204
        },
        "id": "-ss3-9sFUgiU",
        "outputId": "3a72ff49-a730-4f34-c5ed-d6b42c2e1962"
      },
      "source": [
        "features"
      ],
      "execution_count": 10,
      "outputs": [
        {
          "output_type": "execute_result",
          "data": {
            "text/html": [
              "<div>\n",
              "<style scoped>\n",
              "    .dataframe tbody tr th:only-of-type {\n",
              "        vertical-align: middle;\n",
              "    }\n",
              "\n",
              "    .dataframe tbody tr th {\n",
              "        vertical-align: top;\n",
              "    }\n",
              "\n",
              "    .dataframe thead th {\n",
              "        text-align: right;\n",
              "    }\n",
              "</style>\n",
              "<table border=\"1\" class=\"dataframe\">\n",
              "  <thead>\n",
              "    <tr style=\"text-align: right;\">\n",
              "      <th></th>\n",
              "      <th>age</th>\n",
              "      <th>score</th>\n",
              "      <th>salary</th>\n",
              "    </tr>\n",
              "  </thead>\n",
              "  <tbody>\n",
              "    <tr>\n",
              "      <th>0</th>\n",
              "      <td>22</td>\n",
              "      <td>100</td>\n",
              "      <td>18000</td>\n",
              "    </tr>\n",
              "    <tr>\n",
              "      <th>1</th>\n",
              "      <td>21</td>\n",
              "      <td>80</td>\n",
              "      <td>20000</td>\n",
              "    </tr>\n",
              "    <tr>\n",
              "      <th>2</th>\n",
              "      <td>20</td>\n",
              "      <td>90</td>\n",
              "      <td>10000</td>\n",
              "    </tr>\n",
              "    <tr>\n",
              "      <th>3</th>\n",
              "      <td>19</td>\n",
              "      <td>70</td>\n",
              "      <td>2600</td>\n",
              "    </tr>\n",
              "    <tr>\n",
              "      <th>4</th>\n",
              "      <td>24</td>\n",
              "      <td>95</td>\n",
              "      <td>23000</td>\n",
              "    </tr>\n",
              "  </tbody>\n",
              "</table>\n",
              "</div>"
            ],
            "text/plain": [
              "   age  score  salary\n",
              "0   22    100   18000\n",
              "1   21     80   20000\n",
              "2   20     90   10000\n",
              "3   19     70    2600\n",
              "4   24     95   23000"
            ]
          },
          "metadata": {
            "tags": []
          },
          "execution_count": 10
        }
      ]
    },
    {
      "cell_type": "code",
      "metadata": {
        "colab": {
          "base_uri": "https://localhost:8080/"
        },
        "id": "_t0GBI9xUhbo",
        "outputId": "9dd134b3-eac2-4b7e-afe3-7f4d3aa721ed"
      },
      "source": [
        "from sklearn.preprocessing import MaxAbsScaler\n",
        "scaler = MaxAbsScaler()\n",
        "column_names = ['age','score','salary']\n",
        "features[column_names] = scaler.fit_transform(features.values)\n",
        "print(features.salary)"
      ],
      "execution_count": 12,
      "outputs": [
        {
          "output_type": "stream",
          "text": [
            "0    0.782609\n",
            "1    0.869565\n",
            "2    0.434783\n",
            "3    0.113043\n",
            "4    1.000000\n",
            "Name: salary, dtype: float64\n"
          ],
          "name": "stdout"
        }
      ]
    },
    {
      "cell_type": "code",
      "metadata": {
        "colab": {
          "base_uri": "https://localhost:8080/",
          "height": 204
        },
        "id": "taSZXTMDU0yd",
        "outputId": "32989132-a6fe-4385-be61-38fa76089bc9"
      },
      "source": [
        "features"
      ],
      "execution_count": 13,
      "outputs": [
        {
          "output_type": "execute_result",
          "data": {
            "text/html": [
              "<div>\n",
              "<style scoped>\n",
              "    .dataframe tbody tr th:only-of-type {\n",
              "        vertical-align: middle;\n",
              "    }\n",
              "\n",
              "    .dataframe tbody tr th {\n",
              "        vertical-align: top;\n",
              "    }\n",
              "\n",
              "    .dataframe thead th {\n",
              "        text-align: right;\n",
              "    }\n",
              "</style>\n",
              "<table border=\"1\" class=\"dataframe\">\n",
              "  <thead>\n",
              "    <tr style=\"text-align: right;\">\n",
              "      <th></th>\n",
              "      <th>age</th>\n",
              "      <th>score</th>\n",
              "      <th>salary</th>\n",
              "    </tr>\n",
              "  </thead>\n",
              "  <tbody>\n",
              "    <tr>\n",
              "      <th>0</th>\n",
              "      <td>0.916667</td>\n",
              "      <td>1.00</td>\n",
              "      <td>0.782609</td>\n",
              "    </tr>\n",
              "    <tr>\n",
              "      <th>1</th>\n",
              "      <td>0.875000</td>\n",
              "      <td>0.80</td>\n",
              "      <td>0.869565</td>\n",
              "    </tr>\n",
              "    <tr>\n",
              "      <th>2</th>\n",
              "      <td>0.833333</td>\n",
              "      <td>0.90</td>\n",
              "      <td>0.434783</td>\n",
              "    </tr>\n",
              "    <tr>\n",
              "      <th>3</th>\n",
              "      <td>0.791667</td>\n",
              "      <td>0.70</td>\n",
              "      <td>0.113043</td>\n",
              "    </tr>\n",
              "    <tr>\n",
              "      <th>4</th>\n",
              "      <td>1.000000</td>\n",
              "      <td>0.95</td>\n",
              "      <td>1.000000</td>\n",
              "    </tr>\n",
              "  </tbody>\n",
              "</table>\n",
              "</div>"
            ],
            "text/plain": [
              "        age  score    salary\n",
              "0  0.916667   1.00  0.782609\n",
              "1  0.875000   0.80  0.869565\n",
              "2  0.833333   0.90  0.434783\n",
              "3  0.791667   0.70  0.113043\n",
              "4  1.000000   0.95  1.000000"
            ]
          },
          "metadata": {
            "tags": []
          },
          "execution_count": 13
        }
      ]
    },
    {
      "cell_type": "code",
      "metadata": {
        "colab": {
          "base_uri": "https://localhost:8080/"
        },
        "id": "5vrOdlsMU5RY",
        "outputId": "c6d4aa52-63ec-44fd-92ce-98ae88de64db"
      },
      "source": [
        "values = [18000,20000,10000,2600,23000]\n",
        "abs_values = [abs(value) for value in values]\n",
        "max_val = max(abs_values)\n",
        "val = [value/max_val for value in abs_values]\n",
        "val"
      ],
      "execution_count": 15,
      "outputs": [
        {
          "output_type": "execute_result",
          "data": {
            "text/plain": [
              "[0.782608695652174,\n",
              " 0.8695652173913043,\n",
              " 0.43478260869565216,\n",
              " 0.11304347826086956,\n",
              " 1.0]"
            ]
          },
          "metadata": {
            "tags": []
          },
          "execution_count": 15
        }
      ]
    },
    {
      "cell_type": "markdown",
      "metadata": {
        "id": "qX-69EsxVJAx"
      },
      "source": [
        "# 4. Robust Scaler\n",
        "It is not sensitive to outliers and it can use IQR(Inter Qurtile Range) to scales the data\n",
        "\n",
        "IQR = Q3-Q1\n",
        "\n",
        "X_scaled = (X-Q1)/(Q3-Q1)"
      ]
    },
    {
      "cell_type": "code",
      "metadata": {
        "colab": {
          "base_uri": "https://localhost:8080/",
          "height": 204
        },
        "id": "sw64dN_FVE7P",
        "outputId": "c206c9b2-611b-4fd4-a718-7d3a6e11bb13"
      },
      "source": [
        "from sklearn.preprocessing import RobustScaler\n",
        "\n",
        "scaler = RobustScaler()\n",
        "column_names = ['age','score']\n",
        "features = df[column_names]\n",
        "features[column_names] = scaler.fit_transform(features.values)\n",
        "features"
      ],
      "execution_count": 18,
      "outputs": [
        {
          "output_type": "execute_result",
          "data": {
            "text/html": [
              "<div>\n",
              "<style scoped>\n",
              "    .dataframe tbody tr th:only-of-type {\n",
              "        vertical-align: middle;\n",
              "    }\n",
              "\n",
              "    .dataframe tbody tr th {\n",
              "        vertical-align: top;\n",
              "    }\n",
              "\n",
              "    .dataframe thead th {\n",
              "        text-align: right;\n",
              "    }\n",
              "</style>\n",
              "<table border=\"1\" class=\"dataframe\">\n",
              "  <thead>\n",
              "    <tr style=\"text-align: right;\">\n",
              "      <th></th>\n",
              "      <th>age</th>\n",
              "      <th>score</th>\n",
              "    </tr>\n",
              "  </thead>\n",
              "  <tbody>\n",
              "    <tr>\n",
              "      <th>0</th>\n",
              "      <td>0.5</td>\n",
              "      <td>0.666667</td>\n",
              "    </tr>\n",
              "    <tr>\n",
              "      <th>1</th>\n",
              "      <td>0.0</td>\n",
              "      <td>-0.666667</td>\n",
              "    </tr>\n",
              "    <tr>\n",
              "      <th>2</th>\n",
              "      <td>-0.5</td>\n",
              "      <td>0.000000</td>\n",
              "    </tr>\n",
              "    <tr>\n",
              "      <th>3</th>\n",
              "      <td>-1.0</td>\n",
              "      <td>-1.333333</td>\n",
              "    </tr>\n",
              "    <tr>\n",
              "      <th>4</th>\n",
              "      <td>1.5</td>\n",
              "      <td>0.333333</td>\n",
              "    </tr>\n",
              "  </tbody>\n",
              "</table>\n",
              "</div>"
            ],
            "text/plain": [
              "   age     score\n",
              "0  0.5  0.666667\n",
              "1  0.0 -0.666667\n",
              "2 -0.5  0.000000\n",
              "3 -1.0 -1.333333\n",
              "4  1.5  0.333333"
            ]
          },
          "metadata": {
            "tags": []
          },
          "execution_count": 18
        }
      ]
    },
    {
      "cell_type": "markdown",
      "metadata": {
        "id": "QODEefTuVqmQ"
      },
      "source": [
        "# 5. Quantile Transformer Scaler\n",
        "It converts the distribution of data into normal distribution and it handles the outliers: Outlier Removal, Scaling Data, and Conversion into the normal distribution"
      ]
    },
    {
      "cell_type": "code",
      "metadata": {
        "colab": {
          "base_uri": "https://localhost:8080/",
          "height": 204
        },
        "id": "0T05fPATVjq4",
        "outputId": "637039b3-f2c6-4d21-8474-a17818b92c5a"
      },
      "source": [
        "from sklearn.preprocessing import QuantileTransformer\n",
        "\n",
        "scaler = QuantileTransformer()\n",
        "column_names = ['age','score']\n",
        "features = df[column_names]\n",
        "features[column_names] = scaler.fit_transform(features.values)\n",
        "features"
      ],
      "execution_count": 19,
      "outputs": [
        {
          "output_type": "execute_result",
          "data": {
            "text/html": [
              "<div>\n",
              "<style scoped>\n",
              "    .dataframe tbody tr th:only-of-type {\n",
              "        vertical-align: middle;\n",
              "    }\n",
              "\n",
              "    .dataframe tbody tr th {\n",
              "        vertical-align: top;\n",
              "    }\n",
              "\n",
              "    .dataframe thead th {\n",
              "        text-align: right;\n",
              "    }\n",
              "</style>\n",
              "<table border=\"1\" class=\"dataframe\">\n",
              "  <thead>\n",
              "    <tr style=\"text-align: right;\">\n",
              "      <th></th>\n",
              "      <th>age</th>\n",
              "      <th>score</th>\n",
              "    </tr>\n",
              "  </thead>\n",
              "  <tbody>\n",
              "    <tr>\n",
              "      <th>0</th>\n",
              "      <td>0.75</td>\n",
              "      <td>1.00</td>\n",
              "    </tr>\n",
              "    <tr>\n",
              "      <th>1</th>\n",
              "      <td>0.50</td>\n",
              "      <td>0.25</td>\n",
              "    </tr>\n",
              "    <tr>\n",
              "      <th>2</th>\n",
              "      <td>0.25</td>\n",
              "      <td>0.50</td>\n",
              "    </tr>\n",
              "    <tr>\n",
              "      <th>3</th>\n",
              "      <td>0.00</td>\n",
              "      <td>0.00</td>\n",
              "    </tr>\n",
              "    <tr>\n",
              "      <th>4</th>\n",
              "      <td>1.00</td>\n",
              "      <td>0.75</td>\n",
              "    </tr>\n",
              "  </tbody>\n",
              "</table>\n",
              "</div>"
            ],
            "text/plain": [
              "    age  score\n",
              "0  0.75   1.00\n",
              "1  0.50   0.25\n",
              "2  0.25   0.50\n",
              "3  0.00   0.00\n",
              "4  1.00   0.75"
            ]
          },
          "metadata": {
            "tags": []
          },
          "execution_count": 19
        }
      ]
    },
    {
      "cell_type": "markdown",
      "metadata": {
        "id": "GWgIzUxAV9n7"
      },
      "source": [
        "# 6. Log Transform\n",
        "It is used to convert a skewed distribution to a normal distribution or less-skewed distribution"
      ]
    },
    {
      "cell_type": "code",
      "metadata": {
        "colab": {
          "base_uri": "https://localhost:8080/",
          "height": 282
        },
        "id": "qNCwd5-9V8Rp",
        "outputId": "18c12e30-f336-4798-ad7a-59e73b2a472b"
      },
      "source": [
        "features = df[['age','score']]\n",
        "features['salary'] = [18000,20000,10000,2600,23000]\n",
        "features.salary.hist()"
      ],
      "execution_count": 21,
      "outputs": [
        {
          "output_type": "execute_result",
          "data": {
            "text/plain": [
              "<matplotlib.axes._subplots.AxesSubplot at 0x7f44f818a940>"
            ]
          },
          "metadata": {
            "tags": []
          },
          "execution_count": 21
        },
        {
          "output_type": "display_data",
          "data": {
            "image/png": "[encoded data removed]",
            "text/plain": [
              "<Figure size 432x288 with 1 Axes>"
            ]
          },
          "metadata": {
            "tags": [],
            "needs_background": "light"
          }
        }
      ]
    },
    {
      "cell_type": "code",
      "metadata": {
        "colab": {
          "base_uri": "https://localhost:8080/",
          "height": 384
        },
        "id": "1rGFkglZWPUU",
        "outputId": "f1948d57-9cc5-446f-c223-85d87ab9899a"
      },
      "source": [
        "import numpy as np\n",
        "features['salary'] = np.log(features['salary'])\n",
        "print(features.salary)\n",
        "features.salary.hist(bins=5)"
      ],
      "execution_count": 22,
      "outputs": [
        {
          "output_type": "stream",
          "text": [
            "0     9.798127\n",
            "1     9.903488\n",
            "2     9.210340\n",
            "3     7.863267\n",
            "4    10.043249\n",
            "Name: salary, dtype: float64\n"
          ],
          "name": "stdout"
        },
        {
          "output_type": "execute_result",
          "data": {
            "text/plain": [
              "<matplotlib.axes._subplots.AxesSubplot at 0x7f44f826ada0>"
            ]
          },
          "metadata": {
            "tags": []
          },
          "execution_count": 22
        },
        {
          "output_type": "display_data",
          "data": {
            "image/png": "[encoded data removed]",
            "text/plain": [
              "<Figure size 432x288 with 1 Axes>"
            ]
          },
          "metadata": {
            "tags": [],
            "needs_background": "light"
          }
        }
      ]
    },
    {
      "cell_type": "markdown",
      "metadata": {
        "id": "8wS1gBmuWZCV"
      },
      "source": [
        "# 7. Power Transformer Scaler\n",
        "It also changes the distribution of the variable into a more Gaussian(normal) distribution\n",
        "- Box-Cox Transformation\n",
        "- The Yeo-Johnson transform\n",
        "\n"
      ]
    },
    {
      "cell_type": "code",
      "metadata": {
        "colab": {
          "base_uri": "https://localhost:8080/",
          "height": 204
        },
        "id": "29d-S8t0WXAM",
        "outputId": "d74759cc-82dd-4eba-8ba8-cef4cd22a9de"
      },
      "source": [
        "from sklearn.preprocessing import PowerTransformer\n",
        "scaler = PowerTransformer(method = 'box-cox')\n",
        "\n",
        "'''\n",
        "parameters:\n",
        "method = 'box-cox' or 'yeo-johnson'\n",
        "'''\n",
        "\n",
        "column_names = ['age','score']\n",
        "features = df[column_names]\n",
        "features[column_names] = scaler.fit_transform(features.values)\n",
        "features"
      ],
      "execution_count": 23,
      "outputs": [
        {
          "output_type": "execute_result",
          "data": {
            "text/html": [
              "<div>\n",
              "<style scoped>\n",
              "    .dataframe tbody tr th:only-of-type {\n",
              "        vertical-align: middle;\n",
              "    }\n",
              "\n",
              "    .dataframe tbody tr th {\n",
              "        vertical-align: top;\n",
              "    }\n",
              "\n",
              "    .dataframe thead th {\n",
              "        text-align: right;\n",
              "    }\n",
              "</style>\n",
              "<table border=\"1\" class=\"dataframe\">\n",
              "  <thead>\n",
              "    <tr style=\"text-align: right;\">\n",
              "      <th></th>\n",
              "      <th>age</th>\n",
              "      <th>score</th>\n",
              "    </tr>\n",
              "  </thead>\n",
              "  <tbody>\n",
              "    <tr>\n",
              "      <th>0</th>\n",
              "      <td>0.574832</td>\n",
              "      <td>1.319850</td>\n",
              "    </tr>\n",
              "    <tr>\n",
              "      <th>1</th>\n",
              "      <td>0.008885</td>\n",
              "      <td>-0.745842</td>\n",
              "    </tr>\n",
              "    <tr>\n",
              "      <th>2</th>\n",
              "      <td>-0.650181</td>\n",
              "      <td>0.175556</td>\n",
              "    </tr>\n",
              "    <tr>\n",
              "      <th>3</th>\n",
              "      <td>-1.423570</td>\n",
              "      <td>-1.467936</td>\n",
              "    </tr>\n",
              "    <tr>\n",
              "      <th>4</th>\n",
              "      <td>1.490034</td>\n",
              "      <td>0.718372</td>\n",
              "    </tr>\n",
              "  </tbody>\n",
              "</table>\n",
              "</div>"
            ],
            "text/plain": [
              "        age     score\n",
              "0  0.574832  1.319850\n",
              "1  0.008885 -0.745842\n",
              "2 -0.650181  0.175556\n",
              "3 -1.423570 -1.467936\n",
              "4  1.490034  0.718372"
            ]
          },
          "metadata": {
            "tags": []
          },
          "execution_count": 23
        }
      ]
    },
    {
      "cell_type": "markdown",
      "metadata": {
        "id": "evYHXR86WpYf"
      },
      "source": [
        "# 8. Unit Vector Scaler/Normalizer\n",
        "It works upon each row of the data frame rather than working on columns. There are two norms: l1 and l2\n",
        "- If we use L1 norm, the sum of absolute value along the row will be 1\n",
        "- If we use L2 norm, the sum of the squared absolute values along the row will be 1"
      ]
    },
    {
      "cell_type": "code",
      "metadata": {
        "colab": {
          "base_uri": "https://localhost:8080/",
          "height": 204
        },
        "id": "XC19W6K2WnjQ",
        "outputId": "db9eef74-9db3-4827-dcd8-fe8782320f50"
      },
      "source": [
        "from sklearn.preprocessing import Normalizer\n",
        "scaler = Normalizer(norm='l2')\n",
        "\n",
        "# norm = 'l2' is a default parameter\n",
        "\n",
        "column_names = ['age','score']\n",
        "features = df[column_names]\n",
        "features[column_names] = scaler.fit_transform(features.values)\n",
        "features"
      ],
      "execution_count": 24,
      "outputs": [
        {
          "output_type": "execute_result",
          "data": {
            "text/html": [
              "<div>\n",
              "<style scoped>\n",
              "    .dataframe tbody tr th:only-of-type {\n",
              "        vertical-align: middle;\n",
              "    }\n",
              "\n",
              "    .dataframe tbody tr th {\n",
              "        vertical-align: top;\n",
              "    }\n",
              "\n",
              "    .dataframe thead th {\n",
              "        text-align: right;\n",
              "    }\n",
              "</style>\n",
              "<table border=\"1\" class=\"dataframe\">\n",
              "  <thead>\n",
              "    <tr style=\"text-align: right;\">\n",
              "      <th></th>\n",
              "      <th>age</th>\n",
              "      <th>score</th>\n",
              "    </tr>\n",
              "  </thead>\n",
              "  <tbody>\n",
              "    <tr>\n",
              "      <th>0</th>\n",
              "      <td>0.214862</td>\n",
              "      <td>0.976644</td>\n",
              "    </tr>\n",
              "    <tr>\n",
              "      <th>1</th>\n",
              "      <td>0.253898</td>\n",
              "      <td>0.967231</td>\n",
              "    </tr>\n",
              "    <tr>\n",
              "      <th>2</th>\n",
              "      <td>0.216930</td>\n",
              "      <td>0.976187</td>\n",
              "    </tr>\n",
              "    <tr>\n",
              "      <th>3</th>\n",
              "      <td>0.261951</td>\n",
              "      <td>0.965081</td>\n",
              "    </tr>\n",
              "    <tr>\n",
              "      <th>4</th>\n",
              "      <td>0.244936</td>\n",
              "      <td>0.969539</td>\n",
              "    </tr>\n",
              "  </tbody>\n",
              "</table>\n",
              "</div>"
            ],
            "text/plain": [
              "        age     score\n",
              "0  0.214862  0.976644\n",
              "1  0.253898  0.967231\n",
              "2  0.216930  0.976187\n",
              "3  0.261951  0.965081\n",
              "4  0.244936  0.969539"
            ]
          },
          "metadata": {
            "tags": []
          },
          "execution_count": 24
        }
      ]
    },
    {
      "cell_type": "code",
      "metadata": {
        "colab": {
          "base_uri": "https://localhost:8080/",
          "height": 204
        },
        "id": "usi1NsejXQCG",
        "outputId": "6343d2a5-60cd-41b8-c247-1ce2420c42ac"
      },
      "source": [
        "features['sum']=abs(features['age'])+abs(features['score'])\n",
        "features"
      ],
      "execution_count": 25,
      "outputs": [
        {
          "output_type": "execute_result",
          "data": {
            "text/html": [
              "<div>\n",
              "<style scoped>\n",
              "    .dataframe tbody tr th:only-of-type {\n",
              "        vertical-align: middle;\n",
              "    }\n",
              "\n",
              "    .dataframe tbody tr th {\n",
              "        vertical-align: top;\n",
              "    }\n",
              "\n",
              "    .dataframe thead th {\n",
              "        text-align: right;\n",
              "    }\n",
              "</style>\n",
              "<table border=\"1\" class=\"dataframe\">\n",
              "  <thead>\n",
              "    <tr style=\"text-align: right;\">\n",
              "      <th></th>\n",
              "      <th>age</th>\n",
              "      <th>score</th>\n",
              "      <th>sum</th>\n",
              "    </tr>\n",
              "  </thead>\n",
              "  <tbody>\n",
              "    <tr>\n",
              "      <th>0</th>\n",
              "      <td>0.214862</td>\n",
              "      <td>0.976644</td>\n",
              "      <td>1.191506</td>\n",
              "    </tr>\n",
              "    <tr>\n",
              "      <th>1</th>\n",
              "      <td>0.253898</td>\n",
              "      <td>0.967231</td>\n",
              "      <td>1.221129</td>\n",
              "    </tr>\n",
              "    <tr>\n",
              "      <th>2</th>\n",
              "      <td>0.216930</td>\n",
              "      <td>0.976187</td>\n",
              "      <td>1.193118</td>\n",
              "    </tr>\n",
              "    <tr>\n",
              "      <th>3</th>\n",
              "      <td>0.261951</td>\n",
              "      <td>0.965081</td>\n",
              "      <td>1.227032</td>\n",
              "    </tr>\n",
              "    <tr>\n",
              "      <th>4</th>\n",
              "      <td>0.244936</td>\n",
              "      <td>0.969539</td>\n",
              "      <td>1.214475</td>\n",
              "    </tr>\n",
              "  </tbody>\n",
              "</table>\n",
              "</div>"
            ],
            "text/plain": [
              "        age     score       sum\n",
              "0  0.214862  0.976644  1.191506\n",
              "1  0.253898  0.967231  1.221129\n",
              "2  0.216930  0.976187  1.193118\n",
              "3  0.261951  0.965081  1.227032\n",
              "4  0.244936  0.969539  1.214475"
            ]
          },
          "metadata": {
            "tags": []
          },
          "execution_count": 25
        }
      ]
    },
    {
      "cell_type": "markdown",
      "metadata": {
        "id": "nwhP6_UwXWzL"
      },
      "source": [
        "# 9. Custom Transformer"
      ]
    },
    {
      "cell_type": "code",
      "metadata": {
        "colab": {
          "base_uri": "https://localhost:8080/",
          "height": 204
        },
        "id": "crnpAXx9XVp7",
        "outputId": "d670ec23-aa13-4180-9a1d-1892ec7fe55d"
      },
      "source": [
        "from sklearn.preprocessing import FunctionTransformer\n",
        "transformer  = FunctionTransformer(np.log2,validate=True)\n",
        "\n",
        "column_names = ['age','score']\n",
        "features = df[column_names]\n",
        "features[column_names] = transformer.fit_transform(features.values)\n",
        "features"
      ],
      "execution_count": 26,
      "outputs": [
        {
          "output_type": "execute_result",
          "data": {
            "text/html": [
              "<div>\n",
              "<style scoped>\n",
              "    .dataframe tbody tr th:only-of-type {\n",
              "        vertical-align: middle;\n",
              "    }\n",
              "\n",
              "    .dataframe tbody tr th {\n",
              "        vertical-align: top;\n",
              "    }\n",
              "\n",
              "    .dataframe thead th {\n",
              "        text-align: right;\n",
              "    }\n",
              "</style>\n",
              "<table border=\"1\" class=\"dataframe\">\n",
              "  <thead>\n",
              "    <tr style=\"text-align: right;\">\n",
              "      <th></th>\n",
              "      <th>age</th>\n",
              "      <th>score</th>\n",
              "    </tr>\n",
              "  </thead>\n",
              "  <tbody>\n",
              "    <tr>\n",
              "      <th>0</th>\n",
              "      <td>4.459432</td>\n",
              "      <td>6.643856</td>\n",
              "    </tr>\n",
              "    <tr>\n",
              "      <th>1</th>\n",
              "      <td>4.392317</td>\n",
              "      <td>6.321928</td>\n",
              "    </tr>\n",
              "    <tr>\n",
              "      <th>2</th>\n",
              "      <td>4.321928</td>\n",
              "      <td>6.491853</td>\n",
              "    </tr>\n",
              "    <tr>\n",
              "      <th>3</th>\n",
              "      <td>4.247928</td>\n",
              "      <td>6.129283</td>\n",
              "    </tr>\n",
              "    <tr>\n",
              "      <th>4</th>\n",
              "      <td>4.584963</td>\n",
              "      <td>6.569856</td>\n",
              "    </tr>\n",
              "  </tbody>\n",
              "</table>\n",
              "</div>"
            ],
            "text/plain": [
              "        age     score\n",
              "0  4.459432  6.643856\n",
              "1  4.392317  6.321928\n",
              "2  4.321928  6.491853\n",
              "3  4.247928  6.129283\n",
              "4  4.584963  6.569856"
            ]
          },
          "metadata": {
            "tags": []
          },
          "execution_count": 26
        }
      ]
    }
  ]
}