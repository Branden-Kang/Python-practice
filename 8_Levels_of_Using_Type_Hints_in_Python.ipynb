{
  "nbformat": 4,
  "nbformat_minor": 0,
  "metadata": {
    "colab": {
      "provenance": [],
      "authorship_tag": "ABX9TyOu1nvDuw6gFHQlU+unPO6B"
    },
    "kernelspec": {
      "name": "python3",
      "display_name": "Python 3"
    },
    "language_info": {
      "name": "python"
    }
  },
  "cells": [
    {
      "cell_type": "markdown",
      "source": [
        "[Reference](https://medium.com/techtofreedom/8-levels-of-using-type-hints-in-python-a6717e28f8fd)"
      ],
      "metadata": {
        "id": "2rpvKEWbT7vh"
      }
    },
    {
      "cell_type": "markdown",
      "source": [
        "# 1. Type Hints for Basic Data Types"
      ],
      "metadata": {
        "id": "B9gU-VJMTdU1"
      }
    },
    {
      "cell_type": "code",
      "execution_count": 1,
      "metadata": {
        "id": "6s9bxan1Tb1C"
      },
      "outputs": [],
      "source": [
        "name: str = \"Yang\"\n",
        "age: int = 29\n",
        "assets: list = []\n",
        "posts: tuple = ()\n",
        "hobbies: dict = {}"
      ]
    },
    {
      "cell_type": "code",
      "source": [
        "name: str = \"Yang\"\n",
        "age: int = 29\n",
        "age = \"29th\"\n",
        "print(name, age)\n",
        "# Yang 29th"
      ],
      "metadata": {
        "colab": {
          "base_uri": "https://localhost:8080/"
        },
        "id": "8wAAtJZOTcYK",
        "outputId": "cef82710-7f6e-419d-c6c1-a3d0fcaaeb92"
      },
      "execution_count": 2,
      "outputs": [
        {
          "output_type": "stream",
          "name": "stdout",
          "text": [
            "Yang 29th\n"
          ]
        }
      ]
    },
    {
      "cell_type": "code",
      "source": [
        "from typing import List"
      ],
      "metadata": {
        "id": "AAUZztV8TgIZ"
      },
      "execution_count": 3,
      "outputs": []
    },
    {
      "cell_type": "code",
      "source": [
        "# posts: list[str] = ['Python Type Hints', 'Python Tricks']"
      ],
      "metadata": {
        "id": "s9XmHNVuTgyu"
      },
      "execution_count": 5,
      "outputs": []
    },
    {
      "cell_type": "code",
      "source": [
        "# posts: dict[int, str] = {1: 'Python Type Hints', 2: 'Python Tricks'}"
      ],
      "metadata": {
        "id": "3rf8vgw8ThkH"
      },
      "execution_count": 7,
      "outputs": []
    },
    {
      "cell_type": "markdown",
      "source": [
        "# 2. Define a Constant Using Final Type"
      ],
      "metadata": {
        "id": "clAggQ8UTi_u"
      }
    },
    {
      "cell_type": "code",
      "source": [
        "from typing import Final\n",
        "\n",
        "DATABASE: Final = \"MySQL\""
      ],
      "metadata": {
        "id": "p24mNL0MTiCN"
      },
      "execution_count": 8,
      "outputs": []
    },
    {
      "cell_type": "markdown",
      "source": [
        "# 3. Add Multiple Type Hints to One Variable"
      ],
      "metadata": {
        "id": "iyG4GDjCTnP_"
      }
    },
    {
      "cell_type": "code",
      "source": [
        "from typing import Union\n",
        "\n",
        "data: Union[int, float] = 3.14"
      ],
      "metadata": {
        "id": "gcYnO5JLTlq8"
      },
      "execution_count": 9,
      "outputs": []
    },
    {
      "cell_type": "code",
      "source": [
        "# data: int|float = 3.14"
      ],
      "metadata": {
        "id": "nKmuzS3ATmi5"
      },
      "execution_count": 11,
      "outputs": []
    },
    {
      "cell_type": "markdown",
      "source": [
        "# 4. Use General Type Hints"
      ],
      "metadata": {
        "id": "LofpTnJATqJ9"
      }
    },
    {
      "cell_type": "code",
      "source": [
        "from typing import Iterable\n",
        "\n",
        "def my_func(nums: Iterable):\n",
        "    for n in nums:\n",
        "        print(n)"
      ],
      "metadata": {
        "id": "REp8wRVZTpf_"
      },
      "execution_count": 12,
      "outputs": []
    },
    {
      "cell_type": "code",
      "source": [
        "from typing import Union\n",
        "a: Union[int,None] = 123"
      ],
      "metadata": {
        "id": "2GpzsrFQTstG"
      },
      "execution_count": 14,
      "outputs": []
    },
    {
      "cell_type": "code",
      "source": [
        "from typing import Optional\n",
        "\n",
        "a: Optional[int] = 123"
      ],
      "metadata": {
        "id": "dy6QnxyRTtxT"
      },
      "execution_count": 15,
      "outputs": []
    },
    {
      "cell_type": "code",
      "source": [
        "from typing import Any\n",
        "\n",
        "def my_func(nums: Any):\n",
        "    pass"
      ],
      "metadata": {
        "id": "3xU9lCF0Tt5v"
      },
      "execution_count": 16,
      "outputs": []
    },
    {
      "cell_type": "markdown",
      "source": [
        "# 5. Type Hints for Functions"
      ],
      "metadata": {
        "id": "bmNQo5pNTvcX"
      }
    },
    {
      "cell_type": "code",
      "source": [
        "def greeting(name: str) -> str:\n",
        "    return \"Hello \" + name"
      ],
      "metadata": {
        "id": "ngcFgPQ7TurT"
      },
      "execution_count": 17,
      "outputs": []
    },
    {
      "cell_type": "code",
      "source": [
        "import time\n",
        "from typing import Callable\n",
        "\n",
        "\n",
        "def calc_time(func: Callable):\n",
        "    start = time.time()\n",
        "    func()\n",
        "    end = time.time()\n",
        "    print(f\"Execution time: {end - start}s\")\n",
        "\n",
        "\n",
        "calc_time(lambda: sorted(\"Yang Zhou is writing!\"))"
      ],
      "metadata": {
        "colab": {
          "base_uri": "https://localhost:8080/"
        },
        "id": "oIDjKvztTwVG",
        "outputId": "129a8beb-5c08-46fc-9dfb-6ccd78a1f058"
      },
      "execution_count": 18,
      "outputs": [
        {
          "output_type": "stream",
          "name": "stdout",
          "text": [
            "Execution time: 6.9141387939453125e-06s\n"
          ]
        }
      ]
    },
    {
      "cell_type": "markdown",
      "source": [
        "# 6. Alias of Type Hints"
      ],
      "metadata": {
        "id": "49MkA56TTyfr"
      }
    },
    {
      "cell_type": "code",
      "source": [
        "# from typing import TypeAlias\n",
        "\n",
        "# PostsType: TypeAlias = dict[int, str]\n",
        "\n",
        "# new_posts: PostsType = {1: 'Python Type Hints', 2: 'Python Tricks'}\n",
        "# old_posts: PostsType = {}"
      ],
      "metadata": {
        "id": "Oa8M5DnaTxpD"
      },
      "execution_count": 20,
      "outputs": []
    },
    {
      "cell_type": "code",
      "source": [
        "# PostsType = dict[int, str]\n",
        "\n",
        "# new_posts: PostsType = {1: 'Python Type Hints', 2: 'Python Tricks'}\n",
        "# old_posts: PostsType = {}"
      ],
      "metadata": {
        "id": "0fJMyqjzTzqS"
      },
      "execution_count": 21,
      "outputs": []
    },
    {
      "cell_type": "markdown",
      "source": [
        "# 7. Type Hints for a Class Itself"
      ],
      "metadata": {
        "id": "XU7NXCQRT2JW"
      }
    },
    {
      "cell_type": "code",
      "source": [
        "# from typing import Self\n",
        "\n",
        "# class ListNode:\n",
        "#     def __init__(self, prev_node: Self) -> None:\n",
        "#         pass"
      ],
      "metadata": {
        "id": "cZfj8yPwT1at"
      },
      "execution_count": 23,
      "outputs": []
    }
  ]
}