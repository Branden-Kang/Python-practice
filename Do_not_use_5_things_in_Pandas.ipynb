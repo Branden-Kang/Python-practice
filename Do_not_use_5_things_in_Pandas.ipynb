{
  "nbformat": 4,
  "nbformat_minor": 0,
  "metadata": {
    "colab": {
      "name": "Do not use 5 things in Pandas.ipynb",
      "provenance": [],
      "authorship_tag": "ABX9TyNwsjXObvegT15eupEAXB7D"
    },
    "kernelspec": {
      "name": "python3",
      "display_name": "Python 3"
    }
  },
  "cells": [
    {
      "cell_type": "markdown",
      "metadata": {
        "id": "EsQz_JgYnc_r",
        "colab_type": "text"
      },
      "source": [
        "[Reference](https://towardsdatascience.com/please-stop-doing-these-5-things-in-pandas-9fbabea897aa)"
      ]
    },
    {
      "cell_type": "code",
      "metadata": {
        "id": "dGkIPxabng1w",
        "colab_type": "code",
        "colab": {
          "base_uri": "https://localhost:8080/",
          "height": 224
        },
        "outputId": "7d70caab-a33f-4dcf-8156-da7d4487825d"
      },
      "source": [
        "!pip install faker pandas numpy"
      ],
      "execution_count": 3,
      "outputs": [
        {
          "output_type": "stream",
          "text": [
            "Collecting faker\n",
            "\u001b[?25l  Downloading https://files.pythonhosted.org/packages/f1/61/0d6ff41ca781a778f843bd0ae690bf44cd3911d542e4fa77c0acc624cdac/Faker-4.1.2-py3-none-any.whl (1.0MB)\n",
            "\u001b[K     |████████████████████████████████| 1.0MB 2.8MB/s \n",
            "\u001b[?25hRequirement already satisfied: pandas in /usr/local/lib/python3.6/dist-packages (1.0.5)\n",
            "Requirement already satisfied: numpy in /usr/local/lib/python3.6/dist-packages (1.18.5)\n",
            "Requirement already satisfied: text-unidecode==1.3 in /usr/local/lib/python3.6/dist-packages (from faker) (1.3)\n",
            "Requirement already satisfied: python-dateutil>=2.4 in /usr/local/lib/python3.6/dist-packages (from faker) (2.8.1)\n",
            "Requirement already satisfied: pytz>=2017.2 in /usr/local/lib/python3.6/dist-packages (from pandas) (2018.9)\n",
            "Requirement already satisfied: six>=1.5 in /usr/local/lib/python3.6/dist-packages (from python-dateutil>=2.4->faker) (1.15.0)\n",
            "Installing collected packages: faker\n",
            "Successfully installed faker-4.1.2\n"
          ],
          "name": "stdout"
        }
      ]
    },
    {
      "cell_type": "markdown",
      "metadata": {
        "id": "9YjrkOAGq30-",
        "colab_type": "text"
      },
      "source": [
        "# Getting or Setting Values Slowly"
      ]
    },
    {
      "cell_type": "code",
      "metadata": {
        "id": "hWa0ifU1oMoe",
        "colab_type": "code",
        "colab": {}
      },
      "source": [
        "from faker import Faker\n",
        "import pandas as pd\n",
        "import numpy as np"
      ],
      "execution_count": 4,
      "outputs": []
    },
    {
      "cell_type": "code",
      "metadata": {
        "id": "bhBVT6z6oOKQ",
        "colab_type": "code",
        "colab": {
          "base_uri": "https://localhost:8080/",
          "height": 37
        },
        "outputId": "1179c632-b507-47ab-dbbd-88f30452eb5e"
      },
      "source": [
        "faker = Faker()\n",
        "profile = faker.profile()\n",
        "df_size = 1000\n",
        "profile_size = len(profile.keys())\n",
        "profile_values = list(profile.values())\n",
        "df = pd.DataFrame()\n",
        "\n",
        "faker.name()"
      ],
      "execution_count": 5,
      "outputs": [
        {
          "output_type": "execute_result",
          "data": {
            "application/vnd.google.colaboratory.intrinsic+json": {
              "type": "string"
            },
            "text/plain": [
              "'Gregory Perry'"
            ]
          },
          "metadata": {
            "tags": []
          },
          "execution_count": 5
        }
      ]
    },
    {
      "cell_type": "code",
      "metadata": {
        "id": "uCL67JPuoQ_H",
        "colab_type": "code",
        "colab": {}
      },
      "source": [
        "for i in range(df_size):\n",
        "    df = df.append(faker.profile(), ignore_index=True)\n",
        "df.to_csv('faker_profiles.csv')"
      ],
      "execution_count": 6,
      "outputs": []
    },
    {
      "cell_type": "code",
      "metadata": {
        "id": "v0BFoSNAnN53",
        "colab_type": "code",
        "colab": {
          "base_uri": "https://localhost:8080/",
          "height": 51
        },
        "outputId": "fbd1ba67-5a64-484c-8758-9c793733cb46"
      },
      "source": [
        "%%time\n",
        "for i in range(df_size):\n",
        "    df.at[i] = profile"
      ],
      "execution_count": 7,
      "outputs": [
        {
          "output_type": "stream",
          "text": [
            "CPU times: user 909 ms, sys: 16.3 ms, total: 925 ms\n",
            "Wall time: 909 ms\n"
          ],
          "name": "stdout"
        }
      ]
    },
    {
      "cell_type": "code",
      "metadata": {
        "id": "_94YQBJKnixe",
        "colab_type": "code",
        "colab": {
          "base_uri": "https://localhost:8080/",
          "height": 51
        },
        "outputId": "600e568b-03b2-490c-9cd7-2c7d791735dd"
      },
      "source": [
        "%%time\n",
        "\n",
        "for i in range(df_size):\n",
        "    df.iloc[i] = profile"
      ],
      "execution_count": 8,
      "outputs": [
        {
          "output_type": "stream",
          "text": [
            "CPU times: user 826 ms, sys: 5.94 ms, total: 832 ms\n",
            "Wall time: 835 ms\n"
          ],
          "name": "stdout"
        }
      ]
    },
    {
      "cell_type": "code",
      "metadata": {
        "id": "Us_l-1htoVHW",
        "colab_type": "code",
        "colab": {
          "base_uri": "https://localhost:8080/",
          "height": 51
        },
        "outputId": "8900f8bc-e330-4ae4-bcdf-176f46da7678"
      },
      "source": [
        "%%time\n",
        "\n",
        "for i in range(df_size):\n",
        "    df.loc[i] = profile"
      ],
      "execution_count": 9,
      "outputs": [
        {
          "output_type": "stream",
          "text": [
            "CPU times: user 839 ms, sys: 20.5 ms, total: 860 ms\n",
            "Wall time: 842 ms\n"
          ],
          "name": "stdout"
        }
      ]
    },
    {
      "cell_type": "code",
      "metadata": {
        "id": "fOVoQ8onoW8c",
        "colab_type": "code",
        "colab": {
          "base_uri": "https://localhost:8080/",
          "height": 51
        },
        "outputId": "22c98709-9f1b-4231-86ac-048dd9cb3382"
      },
      "source": [
        "%%time\n",
        "\n",
        "# Only works for individual values, not multiple columns\n",
        "for i in range(df_size):\n",
        "    df.iat[i, 0] = profile['address']"
      ],
      "execution_count": 10,
      "outputs": [
        {
          "output_type": "stream",
          "text": [
            "CPU times: user 8.6 ms, sys: 0 ns, total: 8.6 ms\n",
            "Wall time: 8.53 ms\n"
          ],
          "name": "stdout"
        }
      ]
    },
    {
      "cell_type": "code",
      "metadata": {
        "id": "vsGHLKm-oZ7a",
        "colab_type": "code",
        "colab": {
          "base_uri": "https://localhost:8080/",
          "height": 51
        },
        "outputId": "57e54299-c5fd-436e-efe5-9ef3c2d3b2ab"
      },
      "source": [
        "%%time\n",
        "\n",
        "for i in range(df_size):\n",
        "    # Recommend moving to to_numpy() as of Pandas 1.0\n",
        "    df.values[i] = profile\n",
        "#     df.to_numpy()[i] = profile"
      ],
      "execution_count": 11,
      "outputs": [
        {
          "output_type": "stream",
          "text": [
            "CPU times: user 14.3 ms, sys: 0 ns, total: 14.3 ms\n",
            "Wall time: 19.9 ms\n"
          ],
          "name": "stdout"
        }
      ]
    },
    {
      "cell_type": "markdown",
      "metadata": {
        "id": "2rGS6IBdqZhR",
        "colab_type": "text"
      },
      "source": [
        "# Only Using 25% of Your CPU"
      ]
    },
    {
      "cell_type": "markdown",
      "metadata": {
        "id": "sCXnqbSHo8eK",
        "colab_type": "text"
      },
      "source": [
        "https://github.com/modin-project/modin"
      ]
    },
    {
      "cell_type": "code",
      "metadata": {
        "id": "_OYrIoqRobP2",
        "colab_type": "code",
        "colab": {
          "base_uri": "https://localhost:8080/",
          "height": 1000
        },
        "outputId": "d1342dc0-6537-4265-ffcf-3e79f2d126ac"
      },
      "source": [
        "!pip install modin\n",
        "!pip install modin[ray] # Install Modin dependencies and Ray to run on Ray\n",
        "!pip install modin[dask] # Install Modin dependencies and Dask to run on Dask\n",
        "!pip install modin[all] # Install all of the above\n",
        "import modin.pandas as pd"
      ],
      "execution_count": 17,
      "outputs": [
        {
          "output_type": "stream",
          "text": [
            "Requirement already satisfied: modin in /usr/local/lib/python3.6/dist-packages (0.8.0)\n",
            "Requirement already satisfied: pandas==1.0.5 in /usr/local/lib/python3.6/dist-packages (from modin) (1.0.5)\n",
            "Requirement already satisfied: packaging in /usr/local/lib/python3.6/dist-packages (from modin) (20.4)\n",
            "Requirement already satisfied: pytz>=2017.2 in /usr/local/lib/python3.6/dist-packages (from pandas==1.0.5->modin) (2018.9)\n",
            "Requirement already satisfied: numpy>=1.13.3 in /usr/local/lib/python3.6/dist-packages (from pandas==1.0.5->modin) (1.18.5)\n",
            "Requirement already satisfied: python-dateutil>=2.6.1 in /usr/local/lib/python3.6/dist-packages (from pandas==1.0.5->modin) (2.8.1)\n",
            "Requirement already satisfied: six in /usr/local/lib/python3.6/dist-packages (from packaging->modin) (1.15.0)\n",
            "Requirement already satisfied: pyparsing>=2.0.2 in /usr/local/lib/python3.6/dist-packages (from packaging->modin) (2.4.7)\n",
            "Requirement already satisfied: modin[ray] in /usr/local/lib/python3.6/dist-packages (0.8.0)\n",
            "Requirement already satisfied: pandas==1.0.5 in /usr/local/lib/python3.6/dist-packages (from modin[ray]) (1.0.5)\n",
            "Requirement already satisfied: packaging in /usr/local/lib/python3.6/dist-packages (from modin[ray]) (20.4)\n",
            "Collecting ray==0.8.6; extra == \"ray\"\n",
            "\u001b[?25l  Downloading https://files.pythonhosted.org/packages/ea/0b/f253e92aee1225d9d0ef21dd15514352ce87f6dbc55de70707bc9d52477f/ray-0.8.6-cp36-cp36m-manylinux1_x86_64.whl (21.9MB)\n",
            "\u001b[K     |████████████████████████████████| 21.9MB 64.4MB/s \n",
            "\u001b[?25hRequirement already satisfied: pyarrow<0.17; extra == \"ray\" in /usr/local/lib/python3.6/dist-packages (from modin[ray]) (0.14.1)\n",
            "Requirement already satisfied: numpy>=1.13.3 in /usr/local/lib/python3.6/dist-packages (from pandas==1.0.5->modin[ray]) (1.18.5)\n",
            "Requirement already satisfied: python-dateutil>=2.6.1 in /usr/local/lib/python3.6/dist-packages (from pandas==1.0.5->modin[ray]) (2.8.1)\n",
            "Requirement already satisfied: pytz>=2017.2 in /usr/local/lib/python3.6/dist-packages (from pandas==1.0.5->modin[ray]) (2018.9)\n",
            "Requirement already satisfied: six in /usr/local/lib/python3.6/dist-packages (from packaging->modin[ray]) (1.15.0)\n",
            "Requirement already satisfied: pyparsing>=2.0.2 in /usr/local/lib/python3.6/dist-packages (from packaging->modin[ray]) (2.4.7)\n",
            "Requirement already satisfied: msgpack<2.0.0,>=0.6.0 in /usr/local/lib/python3.6/dist-packages (from ray==0.8.6; extra == \"ray\"->modin[ray]) (1.0.0)\n",
            "Requirement already satisfied: click>=7.0 in /usr/local/lib/python3.6/dist-packages (from ray==0.8.6; extra == \"ray\"->modin[ray]) (7.1.2)\n",
            "Requirement already satisfied: protobuf>=3.8.0 in /usr/local/lib/python3.6/dist-packages (from ray==0.8.6; extra == \"ray\"->modin[ray]) (3.12.4)\n",
            "Collecting colorama\n",
            "  Downloading https://files.pythonhosted.org/packages/c9/dc/45cdef1b4d119eb96316b3117e6d5708a08029992b2fee2c143c7a0a5cc5/colorama-0.4.3-py2.py3-none-any.whl\n",
            "Requirement already satisfied: grpcio in /usr/local/lib/python3.6/dist-packages (from ray==0.8.6; extra == \"ray\"->modin[ray]) (1.31.0)\n",
            "Collecting py-spy>=0.2.0\n",
            "\u001b[?25l  Downloading https://files.pythonhosted.org/packages/8e/a7/ab45c9ee3c4654edda3efbd6b8e2fa4962226718a7e3e3be6e3926bf3617/py_spy-0.3.3-py2.py3-none-manylinux1_x86_64.whl (2.9MB)\n",
            "\u001b[K     |████████████████████████████████| 2.9MB 47.1MB/s \n",
            "\u001b[?25hRequirement already satisfied: google in /usr/local/lib/python3.6/dist-packages (from ray==0.8.6; extra == \"ray\"->modin[ray]) (2.0.3)\n",
            "Requirement already satisfied: filelock in /usr/local/lib/python3.6/dist-packages (from ray==0.8.6; extra == \"ray\"->modin[ray]) (3.0.12)\n",
            "Requirement already satisfied: jsonschema in /usr/local/lib/python3.6/dist-packages (from ray==0.8.6; extra == \"ray\"->modin[ray]) (2.6.0)\n",
            "Collecting redis<3.5.0,>=3.3.2\n",
            "\u001b[?25l  Downloading https://files.pythonhosted.org/packages/f0/05/1fc7feedc19c123e7a95cfc9e7892eb6cdd2e5df4e9e8af6384349c1cc3d/redis-3.4.1-py2.py3-none-any.whl (71kB)\n",
            "\u001b[K     |████████████████████████████████| 71kB 5.9MB/s \n",
            "\u001b[?25hRequirement already satisfied: pyyaml in /usr/local/lib/python3.6/dist-packages (from ray==0.8.6; extra == \"ray\"->modin[ray]) (3.13)\n",
            "Collecting aiohttp\n",
            "\u001b[?25l  Downloading https://files.pythonhosted.org/packages/7c/39/7eb5f98d24904e0f6d3edb505d4aa60e3ef83c0a58d6fe18244a51757247/aiohttp-3.6.2-cp36-cp36m-manylinux1_x86_64.whl (1.2MB)\n",
            "\u001b[K     |████████████████████████████████| 1.2MB 44.1MB/s \n",
            "\u001b[?25hRequirement already satisfied: setuptools in /usr/local/lib/python3.6/dist-packages (from protobuf>=3.8.0->ray==0.8.6; extra == \"ray\"->modin[ray]) (49.6.0)\n",
            "Requirement already satisfied: beautifulsoup4 in /usr/local/lib/python3.6/dist-packages (from google->ray==0.8.6; extra == \"ray\"->modin[ray]) (4.6.3)\n",
            "Requirement already satisfied: attrs>=17.3.0 in /usr/local/lib/python3.6/dist-packages (from aiohttp->ray==0.8.6; extra == \"ray\"->modin[ray]) (20.1.0)\n",
            "Collecting yarl<2.0,>=1.0\n",
            "\u001b[?25l  Downloading https://files.pythonhosted.org/packages/a0/b4/2cbeaf2c3ea53865d9613b315fe24e78c66acedb1df7e4be4e064c87203b/yarl-1.5.1-cp36-cp36m-manylinux1_x86_64.whl (257kB)\n",
            "\u001b[K     |████████████████████████████████| 266kB 43.1MB/s \n",
            "\u001b[?25hCollecting idna-ssl>=1.0; python_version < \"3.7\"\n",
            "  Downloading https://files.pythonhosted.org/packages/46/03/07c4894aae38b0de52b52586b24bf189bb83e4ddabfe2e2c8f2419eec6f4/idna-ssl-1.1.0.tar.gz\n",
            "Requirement already satisfied: typing-extensions>=3.6.5; python_version < \"3.7\" in /usr/local/lib/python3.6/dist-packages (from aiohttp->ray==0.8.6; extra == \"ray\"->modin[ray]) (3.7.4.3)\n",
            "Collecting async-timeout<4.0,>=3.0\n",
            "  Downloading https://files.pythonhosted.org/packages/e1/1e/5a4441be21b0726c4464f3f23c8b19628372f606755a9d2e46c187e65ec4/async_timeout-3.0.1-py3-none-any.whl\n",
            "Collecting multidict<5.0,>=4.5\n",
            "\u001b[?25l  Downloading https://files.pythonhosted.org/packages/1a/95/f50352b5366e7d579e8b99631680a9e32e1b22adfa1629a8f23b1d22d5e2/multidict-4.7.6-cp36-cp36m-manylinux1_x86_64.whl (148kB)\n",
            "\u001b[K     |████████████████████████████████| 153kB 47.6MB/s \n",
            "\u001b[?25hRequirement already satisfied: chardet<4.0,>=2.0 in /usr/local/lib/python3.6/dist-packages (from aiohttp->ray==0.8.6; extra == \"ray\"->modin[ray]) (3.0.4)\n",
            "Requirement already satisfied: idna>=2.0 in /usr/local/lib/python3.6/dist-packages (from yarl<2.0,>=1.0->aiohttp->ray==0.8.6; extra == \"ray\"->modin[ray]) (2.10)\n",
            "Building wheels for collected packages: idna-ssl\n",
            "  Building wheel for idna-ssl (setup.py) ... \u001b[?25l\u001b[?25hdone\n",
            "  Created wheel for idna-ssl: filename=idna_ssl-1.1.0-cp36-none-any.whl size=3161 sha256=f5d0b30a042a7712e1754637f007445972bef032467415564bf8ffa28c5c7bfc\n",
            "  Stored in directory: /root/.cache/pip/wheels/d3/00/b3/32d613e19e08a739751dd6bf998cfed277728f8b2127ad4eb7\n",
            "Successfully built idna-ssl\n",
            "Installing collected packages: colorama, py-spy, redis, multidict, yarl, idna-ssl, async-timeout, aiohttp, ray\n",
            "Successfully installed aiohttp-3.6.2 async-timeout-3.0.1 colorama-0.4.3 idna-ssl-1.1.0 multidict-4.7.6 py-spy-0.3.3 ray-0.8.6 redis-3.4.1 yarl-1.5.1\n",
            "Requirement already satisfied: modin[dask] in /usr/local/lib/python3.6/dist-packages (0.8.0)\n",
            "Requirement already satisfied: packaging in /usr/local/lib/python3.6/dist-packages (from modin[dask]) (20.4)\n",
            "Requirement already satisfied: pandas==1.0.5 in /usr/local/lib/python3.6/dist-packages (from modin[dask]) (1.0.5)\n",
            "Requirement already satisfied: distributed>=2.3.2; extra == \"dask\" in /usr/local/lib/python3.6/dist-packages (from modin[dask]) (2.25.0)\n",
            "Requirement already satisfied: dask>=2.1.0; extra == \"dask\" in /usr/local/lib/python3.6/dist-packages (from modin[dask]) (2.12.0)\n",
            "Requirement already satisfied: pyparsing>=2.0.2 in /usr/local/lib/python3.6/dist-packages (from packaging->modin[dask]) (2.4.7)\n",
            "Requirement already satisfied: six in /usr/local/lib/python3.6/dist-packages (from packaging->modin[dask]) (1.15.0)\n",
            "Requirement already satisfied: numpy>=1.13.3 in /usr/local/lib/python3.6/dist-packages (from pandas==1.0.5->modin[dask]) (1.18.5)\n",
            "Requirement already satisfied: pytz>=2017.2 in /usr/local/lib/python3.6/dist-packages (from pandas==1.0.5->modin[dask]) (2018.9)\n",
            "Requirement already satisfied: python-dateutil>=2.6.1 in /usr/local/lib/python3.6/dist-packages (from pandas==1.0.5->modin[dask]) (2.8.1)\n",
            "Requirement already satisfied: pyyaml in /usr/local/lib/python3.6/dist-packages (from distributed>=2.3.2; extra == \"dask\"->modin[dask]) (3.13)\n",
            "Requirement already satisfied: msgpack>=0.6.0 in /usr/local/lib/python3.6/dist-packages (from distributed>=2.3.2; extra == \"dask\"->modin[dask]) (1.0.0)\n",
            "Requirement already satisfied: psutil>=5.0 in /usr/local/lib/python3.6/dist-packages (from distributed>=2.3.2; extra == \"dask\"->modin[dask]) (5.4.8)\n",
            "Requirement already satisfied: sortedcontainers!=2.0.0,!=2.0.1 in /usr/local/lib/python3.6/dist-packages (from distributed>=2.3.2; extra == \"dask\"->modin[dask]) (2.2.2)\n",
            "Requirement already satisfied: contextvars; python_version < \"3.7\" in /usr/local/lib/python3.6/dist-packages (from distributed>=2.3.2; extra == \"dask\"->modin[dask]) (2.4)\n",
            "Requirement already satisfied: zict>=0.1.3 in /usr/local/lib/python3.6/dist-packages (from distributed>=2.3.2; extra == \"dask\"->modin[dask]) (2.0.0)\n",
            "Requirement already satisfied: toolz>=0.8.2 in /usr/local/lib/python3.6/dist-packages (from distributed>=2.3.2; extra == \"dask\"->modin[dask]) (0.10.0)\n",
            "Requirement already satisfied: click>=6.6 in /usr/local/lib/python3.6/dist-packages (from distributed>=2.3.2; extra == \"dask\"->modin[dask]) (7.1.2)\n",
            "Requirement already satisfied: tblib>=1.6.0 in /usr/local/lib/python3.6/dist-packages (from distributed>=2.3.2; extra == \"dask\"->modin[dask]) (1.7.0)\n",
            "Requirement already satisfied: setuptools in /usr/local/lib/python3.6/dist-packages (from distributed>=2.3.2; extra == \"dask\"->modin[dask]) (49.6.0)\n",
            "Requirement already satisfied: tornado>=5; python_version < \"3.8\" in /usr/local/lib/python3.6/dist-packages (from distributed>=2.3.2; extra == \"dask\"->modin[dask]) (5.1.1)\n",
            "Requirement already satisfied: cloudpickle>=1.5.0 in /usr/local/lib/python3.6/dist-packages (from distributed>=2.3.2; extra == \"dask\"->modin[dask]) (1.6.0)\n",
            "Requirement already satisfied: immutables>=0.9 in /usr/local/lib/python3.6/dist-packages (from contextvars; python_version < \"3.7\"->distributed>=2.3.2; extra == \"dask\"->modin[dask]) (0.14)\n",
            "Requirement already satisfied: heapdict in /usr/local/lib/python3.6/dist-packages (from zict>=0.1.3->distributed>=2.3.2; extra == \"dask\"->modin[dask]) (1.0.1)\n",
            "Requirement already satisfied: modin[all] in /usr/local/lib/python3.6/dist-packages (0.8.0)\n",
            "Requirement already satisfied: packaging in /usr/local/lib/python3.6/dist-packages (from modin[all]) (20.4)\n",
            "Requirement already satisfied: pandas==1.0.5 in /usr/local/lib/python3.6/dist-packages (from modin[all]) (1.0.5)\n",
            "Requirement already satisfied: pyarrow<0.17; extra == \"all\" in /usr/local/lib/python3.6/dist-packages (from modin[all]) (0.14.1)\n",
            "Requirement already satisfied: dask>=2.1.0; extra == \"all\" in /usr/local/lib/python3.6/dist-packages (from modin[all]) (2.12.0)\n",
            "Requirement already satisfied: ray==0.8.6; extra == \"all\" in /usr/local/lib/python3.6/dist-packages (from modin[all]) (0.8.6)\n",
            "Requirement already satisfied: distributed>=2.3.2; extra == \"all\" in /usr/local/lib/python3.6/dist-packages (from modin[all]) (2.25.0)\n",
            "Requirement already satisfied: pyparsing>=2.0.2 in /usr/local/lib/python3.6/dist-packages (from packaging->modin[all]) (2.4.7)\n",
            "Requirement already satisfied: six in /usr/local/lib/python3.6/dist-packages (from packaging->modin[all]) (1.15.0)\n",
            "Requirement already satisfied: pytz>=2017.2 in /usr/local/lib/python3.6/dist-packages (from pandas==1.0.5->modin[all]) (2018.9)\n",
            "Requirement already satisfied: numpy>=1.13.3 in /usr/local/lib/python3.6/dist-packages (from pandas==1.0.5->modin[all]) (1.18.5)\n",
            "Requirement already satisfied: python-dateutil>=2.6.1 in /usr/local/lib/python3.6/dist-packages (from pandas==1.0.5->modin[all]) (2.8.1)\n",
            "Requirement already satisfied: msgpack<2.0.0,>=0.6.0 in /usr/local/lib/python3.6/dist-packages (from ray==0.8.6; extra == \"all\"->modin[all]) (1.0.0)\n",
            "Requirement already satisfied: jsonschema in /usr/local/lib/python3.6/dist-packages (from ray==0.8.6; extra == \"all\"->modin[all]) (2.6.0)\n",
            "Requirement already satisfied: grpcio in /usr/local/lib/python3.6/dist-packages (from ray==0.8.6; extra == \"all\"->modin[all]) (1.31.0)\n",
            "Requirement already satisfied: pyyaml in /usr/local/lib/python3.6/dist-packages (from ray==0.8.6; extra == \"all\"->modin[all]) (3.13)\n",
            "Requirement already satisfied: py-spy>=0.2.0 in /usr/local/lib/python3.6/dist-packages (from ray==0.8.6; extra == \"all\"->modin[all]) (0.3.3)\n",
            "Requirement already satisfied: click>=7.0 in /usr/local/lib/python3.6/dist-packages (from ray==0.8.6; extra == \"all\"->modin[all]) (7.1.2)\n",
            "Requirement already satisfied: protobuf>=3.8.0 in /usr/local/lib/python3.6/dist-packages (from ray==0.8.6; extra == \"all\"->modin[all]) (3.12.4)\n",
            "Requirement already satisfied: colorama in /usr/local/lib/python3.6/dist-packages (from ray==0.8.6; extra == \"all\"->modin[all]) (0.4.3)\n",
            "Requirement already satisfied: redis<3.5.0,>=3.3.2 in /usr/local/lib/python3.6/dist-packages (from ray==0.8.6; extra == \"all\"->modin[all]) (3.4.1)\n",
            "Requirement already satisfied: aiohttp in /usr/local/lib/python3.6/dist-packages (from ray==0.8.6; extra == \"all\"->modin[all]) (3.6.2)\n",
            "Requirement already satisfied: filelock in /usr/local/lib/python3.6/dist-packages (from ray==0.8.6; extra == \"all\"->modin[all]) (3.0.12)\n",
            "Requirement already satisfied: google in /usr/local/lib/python3.6/dist-packages (from ray==0.8.6; extra == \"all\"->modin[all]) (2.0.3)\n",
            "Requirement already satisfied: cloudpickle>=1.5.0 in /usr/local/lib/python3.6/dist-packages (from distributed>=2.3.2; extra == \"all\"->modin[all]) (1.6.0)\n",
            "Requirement already satisfied: zict>=0.1.3 in /usr/local/lib/python3.6/dist-packages (from distributed>=2.3.2; extra == \"all\"->modin[all]) (2.0.0)\n",
            "Requirement already satisfied: sortedcontainers!=2.0.0,!=2.0.1 in /usr/local/lib/python3.6/dist-packages (from distributed>=2.3.2; extra == \"all\"->modin[all]) (2.2.2)\n",
            "Requirement already satisfied: tornado>=5; python_version < \"3.8\" in /usr/local/lib/python3.6/dist-packages (from distributed>=2.3.2; extra == \"all\"->modin[all]) (5.1.1)\n",
            "Requirement already satisfied: tblib>=1.6.0 in /usr/local/lib/python3.6/dist-packages (from distributed>=2.3.2; extra == \"all\"->modin[all]) (1.7.0)\n",
            "Requirement already satisfied: setuptools in /usr/local/lib/python3.6/dist-packages (from distributed>=2.3.2; extra == \"all\"->modin[all]) (49.6.0)\n",
            "Requirement already satisfied: toolz>=0.8.2 in /usr/local/lib/python3.6/dist-packages (from distributed>=2.3.2; extra == \"all\"->modin[all]) (0.10.0)\n",
            "Requirement already satisfied: psutil>=5.0 in /usr/local/lib/python3.6/dist-packages (from distributed>=2.3.2; extra == \"all\"->modin[all]) (5.4.8)\n",
            "Requirement already satisfied: contextvars; python_version < \"3.7\" in /usr/local/lib/python3.6/dist-packages (from distributed>=2.3.2; extra == \"all\"->modin[all]) (2.4)\n",
            "Requirement already satisfied: async-timeout<4.0,>=3.0 in /usr/local/lib/python3.6/dist-packages (from aiohttp->ray==0.8.6; extra == \"all\"->modin[all]) (3.0.1)\n",
            "Requirement already satisfied: idna-ssl>=1.0; python_version < \"3.7\" in /usr/local/lib/python3.6/dist-packages (from aiohttp->ray==0.8.6; extra == \"all\"->modin[all]) (1.1.0)\n",
            "Requirement already satisfied: typing-extensions>=3.6.5; python_version < \"3.7\" in /usr/local/lib/python3.6/dist-packages (from aiohttp->ray==0.8.6; extra == \"all\"->modin[all]) (3.7.4.3)\n",
            "Requirement already satisfied: multidict<5.0,>=4.5 in /usr/local/lib/python3.6/dist-packages (from aiohttp->ray==0.8.6; extra == \"all\"->modin[all]) (4.7.6)\n",
            "Requirement already satisfied: attrs>=17.3.0 in /usr/local/lib/python3.6/dist-packages (from aiohttp->ray==0.8.6; extra == \"all\"->modin[all]) (20.1.0)\n",
            "Requirement already satisfied: chardet<4.0,>=2.0 in /usr/local/lib/python3.6/dist-packages (from aiohttp->ray==0.8.6; extra == \"all\"->modin[all]) (3.0.4)\n",
            "Requirement already satisfied: yarl<2.0,>=1.0 in /usr/local/lib/python3.6/dist-packages (from aiohttp->ray==0.8.6; extra == \"all\"->modin[all]) (1.5.1)\n",
            "Requirement already satisfied: beautifulsoup4 in /usr/local/lib/python3.6/dist-packages (from google->ray==0.8.6; extra == \"all\"->modin[all]) (4.6.3)\n",
            "Requirement already satisfied: heapdict in /usr/local/lib/python3.6/dist-packages (from zict>=0.1.3->distributed>=2.3.2; extra == \"all\"->modin[all]) (1.0.1)\n",
            "Requirement already satisfied: immutables>=0.9 in /usr/local/lib/python3.6/dist-packages (from contextvars; python_version < \"3.7\"->distributed>=2.3.2; extra == \"all\"->modin[all]) (0.14)\n",
            "Requirement already satisfied: idna>=2.0 in /usr/local/lib/python3.6/dist-packages (from idna-ssl>=1.0; python_version < \"3.7\"->aiohttp->ray==0.8.6; extra == \"all\"->modin[all]) (2.10)\n"
          ],
          "name": "stdout"
        }
      ]
    },
    {
      "cell_type": "markdown",
      "metadata": {
        "id": "a39PSyULqVfb",
        "colab_type": "text"
      },
      "source": [
        "# Making Pandas Guess Data Types"
      ]
    },
    {
      "cell_type": "code",
      "metadata": {
        "id": "rrpuzY1KozSK",
        "colab_type": "code",
        "colab": {}
      },
      "source": [
        "# pd.read_csv('fake_profiles.csv', dtype={\n",
        "#     'job': 'str',\n",
        "#     'company': 'str',\n",
        "#     'ssn': 'str'\n",
        "# })"
      ],
      "execution_count": 16,
      "outputs": []
    },
    {
      "cell_type": "markdown",
      "metadata": {
        "id": "xkyIOSoJqTF8",
        "colab_type": "text"
      },
      "source": [
        "# Leftover DataFrames"
      ]
    },
    {
      "cell_type": "code",
      "metadata": {
        "id": "dXTDevhNppPP",
        "colab_type": "code",
        "colab": {}
      },
      "source": [
        "# # Change dataframe 1 and save it into a new dataframe\n",
        "\n",
        "# df1 = pd.read_csv('file.csv')\n",
        "\n",
        "# df2 = df1.dropna()\n",
        "\n",
        "# df3 = df2.groupby('thing')"
      ],
      "execution_count": 18,
      "outputs": []
    },
    {
      "cell_type": "code",
      "metadata": {
        "id": "FaCEUuF5qF_i",
        "colab_type": "code",
        "colab": {}
      },
      "source": [
        "# del df2\n",
        "# del df1"
      ],
      "execution_count": 19,
      "outputs": []
    },
    {
      "cell_type": "code",
      "metadata": {
        "id": "b3n63WtPqJTI",
        "colab_type": "code",
        "colab": {}
      },
      "source": [
        "# Variable Inspector plugin\n",
        "# https://jupyter-contrib-nbextensions.readthedocs.io/en/latest/nbextensions/varInspector/README.html?highlight=varinspector"
      ],
      "execution_count": 20,
      "outputs": []
    },
    {
      "cell_type": "markdown",
      "metadata": {
        "id": "w1uKj23lqoBA",
        "colab_type": "text"
      },
      "source": [
        "# Manually Configuring Matplotlib"
      ]
    },
    {
      "cell_type": "code",
      "metadata": {
        "id": "R-iormzRqocb",
        "colab_type": "code",
        "colab": {}
      },
      "source": [
        "# import matplotlib.pyplot as plt\n",
        "# ax.hist(x=df['x'])\n",
        "# ax.set_xlabel('label for column X')\n",
        "# plt.show()"
      ],
      "execution_count": 21,
      "outputs": []
    },
    {
      "cell_type": "code",
      "metadata": {
        "id": "6ZwXBVxIqwrt",
        "colab_type": "code",
        "colab": {}
      },
      "source": [
        "# df['x'].plot.hist(title='Chart title')"
      ],
      "execution_count": 22,
      "outputs": []
    }
  ]
}