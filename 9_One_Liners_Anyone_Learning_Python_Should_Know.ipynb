{
  "nbformat": 4,
  "nbformat_minor": 0,
  "metadata": {
    "colab": {
      "name": "9 One-Liners Anyone Learning Python Should Know.ipynb",
      "provenance": [],
      "collapsed_sections": [],
      "authorship_tag": "ABX9TyNDpAbSIbCsi/nPaYX5eztw"
    },
    "kernelspec": {
      "name": "python3",
      "display_name": "Python 3"
    },
    "language_info": {
      "name": "python"
    }
  },
  "cells": [
    {
      "cell_type": "markdown",
      "source": [
        "[Reference](https://towardsdatascience.com/9-one-liners-anyone-learning-python-should-know-29fdea7c540c?gi=ebb380b00d06)"
      ],
      "metadata": {
        "id": "6iqOX1Vlxz3a"
      }
    },
    {
      "cell_type": "markdown",
      "source": [
        "# 1. If — Else Statement"
      ],
      "metadata": {
        "id": "U09p6yR4x1Zh"
      }
    },
    {
      "cell_type": "code",
      "execution_count": 1,
      "metadata": {
        "colab": {
          "base_uri": "https://localhost:8080/"
        },
        "id": "bv6vTZCxxx4x",
        "outputId": "2bc25854-89a2-4a8d-9468-9be11c7b779a"
      },
      "outputs": [
        {
          "output_type": "stream",
          "name": "stdout",
          "text": [
            "You're an adult\n"
          ]
        }
      ],
      "source": [
        "age = 18\n",
        "valid = \"You're an adult\"\n",
        "invalid = \"You're NOT an adult\"\n",
        "print(valid) if age >= 18 else print(invalid)"
      ]
    },
    {
      "cell_type": "markdown",
      "source": [
        "# 2. Create a list based on existing lists"
      ],
      "metadata": {
        "id": "fK8MtRdex69d"
      }
    },
    {
      "cell_type": "code",
      "source": [
        "words = ['united states', 'brazil', 'united kingdom']\n",
        "\n",
        "capitalized = [word.title() for word in words]\n",
        "capitalized"
      ],
      "metadata": {
        "colab": {
          "base_uri": "https://localhost:8080/"
        },
        "id": "DeObMR8ax6Gb",
        "outputId": "5b7ce294-3435-4d72-861d-e64305c93331"
      },
      "execution_count": 2,
      "outputs": [
        {
          "output_type": "execute_result",
          "data": {
            "text/plain": [
              "['United States', 'Brazil', 'United Kingdom']"
            ]
          },
          "metadata": {},
          "execution_count": 2
        }
      ]
    },
    {
      "cell_type": "markdown",
      "source": [
        "# 3. Dictionary Comprehension"
      ],
      "metadata": {
        "id": "JgNujxrhx_RL"
      }
    },
    {
      "cell_type": "code",
      "source": [
        "dict_numbers = {x:x*x for x in range(1,6) }\n",
        "dict_numbers"
      ],
      "metadata": {
        "colab": {
          "base_uri": "https://localhost:8080/"
        },
        "id": "vWiXKiL7x-Ya",
        "outputId": "387df6eb-7ae5-4b8c-b2bb-0f80f8d79163"
      },
      "execution_count": 3,
      "outputs": [
        {
          "output_type": "execute_result",
          "data": {
            "text/plain": [
              "{1: 1, 2: 4, 3: 9, 4: 16, 5: 25}"
            ]
          },
          "metadata": {},
          "execution_count": 3
        }
      ]
    },
    {
      "cell_type": "markdown",
      "source": [
        "# 4. Join Dictionaries"
      ],
      "metadata": {
        "id": "C4T0FNXuyC-F"
      }
    },
    {
      "cell_type": "code",
      "source": [
        "dict_1 = {'a': 1, 'b': 2}\n",
        "dict_2 = {'c': 3, 'd': 4}\n",
        "merged_dict = {**dict_1, **dict_2}\n",
        "merged_dict"
      ],
      "metadata": {
        "colab": {
          "base_uri": "https://localhost:8080/"
        },
        "id": "SCJmhXSOyBvS",
        "outputId": "4f741b6a-f329-416f-b26a-58c56722e4c4"
      },
      "execution_count": 4,
      "outputs": [
        {
          "output_type": "execute_result",
          "data": {
            "text/plain": [
              "{'a': 1, 'b': 2, 'c': 3, 'd': 4}"
            ]
          },
          "metadata": {},
          "execution_count": 4
        }
      ]
    },
    {
      "cell_type": "markdown",
      "source": [
        "# 5. Remove Duplicates in a List"
      ],
      "metadata": {
        "id": "KYsHfIGUyHJB"
      }
    },
    {
      "cell_type": "code",
      "source": [
        "numbers = [1,1,1,2,2,3,4,5,6,7,7,8,9,9,9]\n",
        "\n",
        "list(set(numbers))"
      ],
      "metadata": {
        "colab": {
          "base_uri": "https://localhost:8080/"
        },
        "id": "vVbLkNI5yGHU",
        "outputId": "98312620-c927-454d-de73-98e7efed8512"
      },
      "execution_count": 5,
      "outputs": [
        {
          "output_type": "execute_result",
          "data": {
            "text/plain": [
              "[1, 2, 3, 4, 5, 6, 7, 8, 9]"
            ]
          },
          "metadata": {},
          "execution_count": 5
        }
      ]
    },
    {
      "cell_type": "markdown",
      "source": [
        "# 6. Assigning multiple variables in one line in Python"
      ],
      "metadata": {
        "id": "P8He3VjayKG7"
      }
    },
    {
      "cell_type": "code",
      "source": [
        "a, b, c = 1, \"abc\",  True\n",
        "print(a)\n",
        "print(b)\n",
        "print(c)"
      ],
      "metadata": {
        "colab": {
          "base_uri": "https://localhost:8080/"
        },
        "id": "iInTY11kyI8Z",
        "outputId": "6bbf6d73-6a66-4f86-e339-118a33ebdd26"
      },
      "execution_count": 6,
      "outputs": [
        {
          "output_type": "stream",
          "name": "stdout",
          "text": [
            "1\n",
            "abc\n",
            "True\n"
          ]
        }
      ]
    },
    {
      "cell_type": "markdown",
      "source": [
        "# 7. Filter values from a list"
      ],
      "metadata": {
        "id": "n2j1qCYhyPOJ"
      }
    },
    {
      "cell_type": "code",
      "source": [
        "my_list = [10, 11, 12, 13, 14, 15]\n",
        "list(filter(lambda x: x%2 == 0, my_list ))"
      ],
      "metadata": {
        "colab": {
          "base_uri": "https://localhost:8080/"
        },
        "id": "iMZ9Xu-byN8A",
        "outputId": "4a6a22d4-6b81-47c9-e7a8-7df2316673e8"
      },
      "execution_count": 7,
      "outputs": [
        {
          "output_type": "execute_result",
          "data": {
            "text/plain": [
              "[10, 12, 14]"
            ]
          },
          "metadata": {},
          "execution_count": 7
        }
      ]
    },
    {
      "cell_type": "markdown",
      "source": [
        "# 8. Sort dictionary by keys"
      ],
      "metadata": {
        "id": "dH6t1BnLyS98"
      }
    },
    {
      "cell_type": "code",
      "source": [
        "product_prices = {'Z': 9.99, 'Y': 9.99, 'X': 9.99}\n",
        "{key:product_prices[key] for key in sorted(product_prices.keys())}"
      ],
      "metadata": {
        "colab": {
          "base_uri": "https://localhost:8080/"
        },
        "id": "iuDMR7huyR-r",
        "outputId": "ef42dc91-ba51-4daf-bb95-adf49d517135"
      },
      "execution_count": 8,
      "outputs": [
        {
          "output_type": "execute_result",
          "data": {
            "text/plain": [
              "{'X': 9.99, 'Y': 9.99, 'Z': 9.99}"
            ]
          },
          "metadata": {},
          "execution_count": 8
        }
      ]
    },
    {
      "cell_type": "markdown",
      "source": [
        "# 9. Sort dictionary by values"
      ],
      "metadata": {
        "id": "u80F__6kyWW_"
      }
    },
    {
      "cell_type": "code",
      "source": [
        "population = {'USA':329.5, 'Brazil': 212.6, 'UK': 67.2}\n",
        "sorted(population.items(), key=lambda x:x[1])"
      ],
      "metadata": {
        "colab": {
          "base_uri": "https://localhost:8080/"
        },
        "id": "-YksmgpxyVXh",
        "outputId": "689f260d-e3ae-48a2-a065-986bf990ba03"
      },
      "execution_count": 9,
      "outputs": [
        {
          "output_type": "execute_result",
          "data": {
            "text/plain": [
              "[('UK', 67.2), ('Brazil', 212.6), ('USA', 329.5)]"
            ]
          },
          "metadata": {},
          "execution_count": 9
        }
      ]
    },
    {
      "cell_type": "code",
      "source": [
        "population = {'USA':329.5, 'Brazil': 212.6, 'UK': 67.2}\n",
        "{k:v for k, v in sorted(population.items(), key=lambda x:x[1])}"
      ],
      "metadata": {
        "id": "5JhsN2CpyYmx",
        "outputId": "9b6d002d-bd87-4566-98d9-119566b9b420",
        "colab": {
          "base_uri": "https://localhost:8080/"
        }
      },
      "execution_count": 10,
      "outputs": [
        {
          "output_type": "execute_result",
          "data": {
            "text/plain": [
              "{'Brazil': 212.6, 'UK': 67.2, 'USA': 329.5}"
            ]
          },
          "metadata": {},
          "execution_count": 10
        }
      ]
    }
  ]
}