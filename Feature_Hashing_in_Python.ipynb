{
  "nbformat": 4,
  "nbformat_minor": 0,
  "metadata": {
    "colab": {
      "name": "Feature Hashing in Python.ipynb",
      "provenance": [],
      "authorship_tag": "ABX9TyMCt8UlvWaCaYvi8saen5tt"
    },
    "kernelspec": {
      "name": "python3",
      "display_name": "Python 3"
    }
  },
  "cells": [
    {
      "cell_type": "markdown",
      "metadata": {
        "id": "Kiy9Z1ghp4lu"
      },
      "source": [
        "[Reference](https://medium.com/flutter-community/dealing-with-categorical-features-with-high-cardinality-feature-hashing-7c406ff867cb)"
      ]
    },
    {
      "cell_type": "code",
      "metadata": {
        "colab": {
          "base_uri": "https://localhost:8080/"
        },
        "id": "k5yMPUihpt2d",
        "outputId": "2573f040-2902-4290-ee95-950ffd34766f"
      },
      "source": [
        "!pip install category_encoders\n",
        "\n",
        "from category_encoders.hashing import HashingEncoder\n",
        "import pandas as pd\n",
        "from sklearn.datasets import load_boston\n",
        "\n",
        "bunch = load_boston()\n",
        "X = pd.DataFrame(bunch.data, columns=bunch.feature_names)\n",
        "y = bunch.target\n",
        "\n",
        "he = HashingEncoder(cols=['CHAS', 'RAD']).fit(X, y)\n",
        "data = he.transform(X)\n",
        "\n",
        "print(data.info())"
      ],
      "execution_count": 2,
      "outputs": [
        {
          "output_type": "stream",
          "text": [
            "Collecting category_encoders\n",
            "\u001b[?25l  Downloading https://files.pythonhosted.org/packages/44/57/fcef41c248701ee62e8325026b90c432adea35555cbc870aff9cfba23727/category_encoders-2.2.2-py2.py3-none-any.whl (80kB)\n",
            "\r\u001b[K     |████                            | 10kB 18.0MB/s eta 0:00:01\r\u001b[K     |████████▏                       | 20kB 21.7MB/s eta 0:00:01\r\u001b[K     |████████████▏                   | 30kB 19.8MB/s eta 0:00:01\r\u001b[K     |████████████████▎               | 40kB 16.5MB/s eta 0:00:01\r\u001b[K     |████████████████████▎           | 51kB 16.3MB/s eta 0:00:01\r\u001b[K     |████████████████████████▍       | 61kB 18.4MB/s eta 0:00:01\r\u001b[K     |████████████████████████████▍   | 71kB 12.6MB/s eta 0:00:01\r\u001b[K     |████████████████████████████████| 81kB 6.3MB/s \n",
            "\u001b[?25hRequirement already satisfied: pandas>=0.21.1 in /usr/local/lib/python3.6/dist-packages (from category_encoders) (1.1.4)\n",
            "Requirement already satisfied: scikit-learn>=0.20.0 in /usr/local/lib/python3.6/dist-packages (from category_encoders) (0.22.2.post1)\n",
            "Requirement already satisfied: scipy>=1.0.0 in /usr/local/lib/python3.6/dist-packages (from category_encoders) (1.4.1)\n",
            "Requirement already satisfied: numpy>=1.14.0 in /usr/local/lib/python3.6/dist-packages (from category_encoders) (1.18.5)\n",
            "Requirement already satisfied: statsmodels>=0.9.0 in /usr/local/lib/python3.6/dist-packages (from category_encoders) (0.10.2)\n",
            "Requirement already satisfied: patsy>=0.5.1 in /usr/local/lib/python3.6/dist-packages (from category_encoders) (0.5.1)\n",
            "Requirement already satisfied: pytz>=2017.2 in /usr/local/lib/python3.6/dist-packages (from pandas>=0.21.1->category_encoders) (2018.9)\n",
            "Requirement already satisfied: python-dateutil>=2.7.3 in /usr/local/lib/python3.6/dist-packages (from pandas>=0.21.1->category_encoders) (2.8.1)\n",
            "Requirement already satisfied: joblib>=0.11 in /usr/local/lib/python3.6/dist-packages (from scikit-learn>=0.20.0->category_encoders) (0.17.0)\n",
            "Requirement already satisfied: six in /usr/local/lib/python3.6/dist-packages (from patsy>=0.5.1->category_encoders) (1.15.0)\n",
            "Installing collected packages: category-encoders\n",
            "Successfully installed category-encoders-2.2.2\n"
          ],
          "name": "stdout"
        },
        {
          "output_type": "stream",
          "text": [
            "/usr/local/lib/python3.6/dist-packages/statsmodels/tools/_testing.py:19: FutureWarning: pandas.util.testing is deprecated. Use the functions in the public API at pandas.testing instead.\n",
            "  import pandas.util.testing as tm\n",
            "/usr/local/lib/python3.6/dist-packages/category_encoders/utils.py:21: FutureWarning: is_categorical is deprecated and will be removed in a future version.  Use is_categorical_dtype instead\n",
            "  elif pd.api.types.is_categorical(cols):\n"
          ],
          "name": "stderr"
        },
        {
          "output_type": "stream",
          "text": [
            "<class 'pandas.core.frame.DataFrame'>\n",
            "RangeIndex: 506 entries, 0 to 505\n",
            "Data columns (total 19 columns):\n",
            " #   Column   Non-Null Count  Dtype  \n",
            "---  ------   --------------  -----  \n",
            " 0   col_0    506 non-null    int64  \n",
            " 1   col_1    506 non-null    int64  \n",
            " 2   col_2    506 non-null    int64  \n",
            " 3   col_3    506 non-null    int64  \n",
            " 4   col_4    506 non-null    int64  \n",
            " 5   col_5    506 non-null    int64  \n",
            " 6   col_6    506 non-null    int64  \n",
            " 7   col_7    506 non-null    int64  \n",
            " 8   CRIM     506 non-null    float64\n",
            " 9   ZN       506 non-null    float64\n",
            " 10  INDUS    506 non-null    float64\n",
            " 11  NOX      506 non-null    float64\n",
            " 12  RM       506 non-null    float64\n",
            " 13  AGE      506 non-null    float64\n",
            " 14  DIS      506 non-null    float64\n",
            " 15  TAX      506 non-null    float64\n",
            " 16  PTRATIO  506 non-null    float64\n",
            " 17  B        506 non-null    float64\n",
            " 18  LSTAT    506 non-null    float64\n",
            "dtypes: float64(11), int64(8)\n",
            "memory usage: 75.2 KB\n",
            "None\n"
          ],
          "name": "stdout"
        }
      ]
    }
  ]
}