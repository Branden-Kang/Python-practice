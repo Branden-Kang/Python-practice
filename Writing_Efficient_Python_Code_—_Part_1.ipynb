{
  "nbformat": 4,
  "nbformat_minor": 0,
  "metadata": {
    "colab": {
      "name": "Writing Efficient Python Code — Part 1.ipynb",
      "provenance": [],
      "authorship_tag": "ABX9TyMy9dI7Ahlj71UFGCIaRW+k"
    },
    "kernelspec": {
      "name": "python3",
      "display_name": "Python 3"
    }
  },
  "cells": [
    {
      "cell_type": "markdown",
      "metadata": {
        "id": "EXj7DZugzGKF"
      },
      "source": [
        "[Reference](https://medium.datadriveninvestor.com/writing-efficient-python-code-part-1-e02763632080)"
      ]
    },
    {
      "cell_type": "code",
      "metadata": {
        "colab": {
          "base_uri": "https://localhost:8080/"
        },
        "id": "1uyz8VVFzEVd",
        "outputId": "1aa18df8-98fa-46d5-bb50-70c663f15fc6"
      },
      "source": [
        "countries = ['usa', 'aus', 'singapore']\n",
        "enumerate_countries = enumerate(countries)\n",
        "\n",
        "#default counter starts with value \n",
        "enumerate_countries = enumerate(countries, 5)\n",
        "\n",
        "print(list(enumerate_countries))\n",
        "print(type(enumerate_countries))"
      ],
      "execution_count": 1,
      "outputs": [
        {
          "output_type": "stream",
          "text": [
            "[(5, 'usa'), (6, 'aus'), (7, 'singapore')]\n",
            "<class 'enumerate'>\n"
          ],
          "name": "stdout"
        }
      ]
    },
    {
      "cell_type": "code",
      "metadata": {
        "colab": {
          "base_uri": "https://localhost:8080/"
        },
        "id": "-H5hFQy7zLac",
        "outputId": "2f01b0a9-6eff-4fff-c937-5fd2f21e7483"
      },
      "source": [
        "countries = ['usa', 'aus', 'singapore']\n",
        "for i, item in enumerate(countries):\n",
        "  print(i, item)"
      ],
      "execution_count": 2,
      "outputs": [
        {
          "output_type": "stream",
          "text": [
            "0 usa\n",
            "1 aus\n",
            "2 singapore\n"
          ],
          "name": "stdout"
        }
      ]
    },
    {
      "cell_type": "code",
      "metadata": {
        "colab": {
          "base_uri": "https://localhost:8080/"
        },
        "id": "PZOFp2RFzN27",
        "outputId": "3d407a2b-cdf7-4cbe-8e46-cd2bf048a444"
      },
      "source": [
        "numbers = (100, 200, 300)\n",
        "result = map(lambda x: x+x, numbers)\n",
        "total = list(result)\n",
        "print(total)"
      ],
      "execution_count": 3,
      "outputs": [
        {
          "output_type": "stream",
          "text": [
            "[200, 400, 600]\n"
          ],
          "name": "stdout"
        }
      ]
    },
    {
      "cell_type": "code",
      "metadata": {
        "colab": {
          "base_uri": "https://localhost:8080/"
        },
        "id": "M6-wyAx5zPZS",
        "outputId": "b602e575-cd29-400e-d4eb-7a1b0e29e683"
      },
      "source": [
        "list_one = ['Tuesday', 'Friday', 'Saturday','Sunday','Monday']\n",
        "  \n",
        "t = list(map(list, list_one)) \n",
        "print(t)"
      ],
      "execution_count": 4,
      "outputs": [
        {
          "output_type": "stream",
          "text": [
            "[['T', 'u', 'e', 's', 'd', 'a', 'y'], ['F', 'r', 'i', 'd', 'a', 'y'], ['S', 'a', 't', 'u', 'r', 'd', 'a', 'y'], ['S', 'u', 'n', 'd', 'a', 'y'], ['M', 'o', 'n', 'd', 'a', 'y']]\n"
          ],
          "name": "stdout"
        }
      ]
    },
    {
      "cell_type": "code",
      "metadata": {
        "colab": {
          "base_uri": "https://localhost:8080/"
        },
        "id": "83Zn05z6zU8k",
        "outputId": "02f43245-0990-421e-9edf-d73fdbc09292"
      },
      "source": [
        "import numpy as np\n",
        "\n",
        "def reciprocals(values):\n",
        "    output = np.empty(len(values))\n",
        "    for i in range(len(values)):\n",
        "        output[i] = 1.0 / values[i]\n",
        "    return output\n",
        "        \n",
        "values = np.random.randint(1, 15, size=6)\n",
        "reciprocals(values)"
      ],
      "execution_count": 5,
      "outputs": [
        {
          "output_type": "execute_result",
          "data": {
            "text/plain": [
              "array([0.14285714, 0.2       , 0.08333333, 0.14285714, 0.2       ,\n",
              "       0.07142857])"
            ]
          },
          "metadata": {
            "tags": []
          },
          "execution_count": 5
        }
      ]
    },
    {
      "cell_type": "code",
      "metadata": {
        "colab": {
          "base_uri": "https://localhost:8080/"
        },
        "id": "ky9DCZQtzY1x",
        "outputId": "3517607b-ed9c-4032-e54f-275fbcf51989"
      },
      "source": [
        "#Example\n",
        "\n",
        "list_one=[15,20,25, 30,40,50,60]\n",
        "new_list=[]\n",
        "for x in list_one:\n",
        "    new_list.append(x**3)\n",
        "print(new_list)"
      ],
      "execution_count": 6,
      "outputs": [
        {
          "output_type": "stream",
          "text": [
            "[3375, 8000, 15625, 27000, 64000, 125000, 216000]\n"
          ],
          "name": "stdout"
        }
      ]
    },
    {
      "cell_type": "code",
      "metadata": {
        "colab": {
          "base_uri": "https://localhost:8080/"
        },
        "id": "1WPnk9ZfzeIj",
        "outputId": "55cd399e-0bf9-4e08-f3d4-11084d4063f3"
      },
      "source": [
        "list_two=[5,10,15,20,20,40,50,60]\n",
        "new_list=[x**3 for x in list_two]\n",
        "print(new_list)"
      ],
      "execution_count": 7,
      "outputs": [
        {
          "output_type": "stream",
          "text": [
            "[125, 1000, 3375, 8000, 8000, 64000, 125000, 216000]\n"
          ],
          "name": "stdout"
        }
      ]
    },
    {
      "cell_type": "code",
      "metadata": {
        "colab": {
          "base_uri": "https://localhost:8080/"
        },
        "id": "cecRcfAhzgVa",
        "outputId": "785881b5-3582-403d-f4ed-042b4a39a210"
      },
      "source": [
        "#With condition\n",
        "list_three=[13,20,25,45,55,65,75,85,95]\n",
        "new_list=[x**3 for x in list_three if x%2==0]\n",
        "print(new_list)"
      ],
      "execution_count": 8,
      "outputs": [
        {
          "output_type": "stream",
          "text": [
            "[8000]\n"
          ],
          "name": "stdout"
        }
      ]
    },
    {
      "cell_type": "code",
      "metadata": {
        "colab": {
          "base_uri": "https://localhost:8080/"
        },
        "id": "pkwcTvpEzhwp",
        "outputId": "90dbbf5c-d9e7-46d1-feb1-398a0aeb3765"
      },
      "source": [
        "dict_one=[1,2,3,4]\n",
        "new_dict={x: x**2 for x in dict_one if x%2==0}\n",
        "print(new_dict)"
      ],
      "execution_count": 9,
      "outputs": [
        {
          "output_type": "stream",
          "text": [
            "{2: 4, 4: 16}\n"
          ],
          "name": "stdout"
        }
      ]
    },
    {
      "cell_type": "code",
      "metadata": {
        "colab": {
          "base_uri": "https://localhost:8080/"
        },
        "id": "jWqDbrczzjZ3",
        "outputId": "f9341444-e08e-4beb-fcc4-712f1b72c411"
      },
      "source": [
        "%timeit range(100)"
      ],
      "execution_count": 10,
      "outputs": [
        {
          "output_type": "stream",
          "text": [
            "The slowest run took 8.63 times longer than the fastest. This could mean that an intermediate result is being cached.\n",
            "10000000 loops, best of 5: 179 ns per loop\n"
          ],
          "name": "stdout"
        }
      ]
    },
    {
      "cell_type": "code",
      "metadata": {
        "colab": {
          "base_uri": "https://localhost:8080/"
        },
        "id": "PXB1-ESEzoMI",
        "outputId": "976f8434-f6a2-42fa-dcab-8b0772f203da"
      },
      "source": [
        "%timeit ('x = 3; L = [x ** n for n in range(20)]')"
      ],
      "execution_count": 11,
      "outputs": [
        {
          "output_type": "stream",
          "text": [
            "100000000 loops, best of 5: 12.3 ns per loop\n"
          ],
          "name": "stdout"
        }
      ]
    }
  ]
}