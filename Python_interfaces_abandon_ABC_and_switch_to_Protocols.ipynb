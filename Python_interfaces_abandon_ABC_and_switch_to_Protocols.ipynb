{
  "nbformat": 4,
  "nbformat_minor": 0,
  "metadata": {
    "colab": {
      "provenance": [],
      "authorship_tag": "ABX9TyPUsxiDuHzUfWV7Zb5vv+HF"
    },
    "kernelspec": {
      "name": "python3",
      "display_name": "Python 3"
    },
    "language_info": {
      "name": "python"
    }
  },
  "cells": [
    {
      "cell_type": "markdown",
      "source": [
        "[Reference](https://levelup.gitconnected.com/python-interfaces-choose-protocols-over-abc-3982e112342e)"
      ],
      "metadata": {
        "id": "NXAWyteeCKWx"
      }
    },
    {
      "cell_type": "code",
      "execution_count": 1,
      "metadata": {
        "id": "y0l5KtpXCIQR"
      },
      "outputs": [],
      "source": [
        "from abc import ABC, abstractmethod\n",
        "\n",
        "class Animal(ABC):\n",
        "   @abstractmethod\n",
        "   def eat(self, food) -> float:\n",
        "       pass\n",
        "   @abstractmethod\n",
        "   def sleep(self, hours) -> float:\n",
        "       pass"
      ]
    },
    {
      "cell_type": "code",
      "source": [
        "pip install zope"
      ],
      "metadata": {
        "colab": {
          "base_uri": "https://localhost:8080/"
        },
        "id": "n2QLOwOACaDf",
        "outputId": "a3bc61fb-6636-483b-e468-b3a719d700b2"
      },
      "execution_count": 3,
      "outputs": [
        {
          "output_type": "stream",
          "name": "stdout",
          "text": [
            "Looking in indexes: https://pypi.org/simple, https://us-python.pkg.dev/colab-wheels/public/simple/\n",
            "Collecting zope\n",
            "  Downloading Zope-5.8.1-py3-none-any.whl (3.0 MB)\n",
            "\u001b[2K     \u001b[90m━━━━━━━━━━━━━━━━━━━━━━━━━━━━━━━━━━━━━━━━\u001b[0m \u001b[32m3.0/3.0 MB\u001b[0m \u001b[31m43.9 MB/s\u001b[0m eta \u001b[36m0:00:00\u001b[0m\n",
            "\u001b[?25hCollecting zope.site\n",
            "  Downloading zope.site-4.6.1-py2.py3-none-any.whl (30 kB)\n",
            "Collecting zope.browserpage>=4.4.0.dev0\n",
            "  Downloading zope.browserpage-5.0-py3-none-any.whl (32 kB)\n",
            "Collecting zope.processlifetime\n",
            "  Downloading zope.processlifetime-2.4-py2.py3-none-any.whl (5.9 kB)\n",
            "Collecting zope.sequencesort\n",
            "  Downloading zope.sequencesort-5.0-py3-none-any.whl (11 kB)\n",
            "Collecting zope.ptresource\n",
            "  Downloading zope.ptresource-4.3.0-py2.py3-none-any.whl (7.7 kB)\n",
            "Collecting zope.lifecycleevent\n",
            "  Downloading zope.lifecycleevent-4.4-py2.py3-none-any.whl (18 kB)\n",
            "Collecting DateTime\n",
            "  Downloading DateTime-5.1-py3-none-any.whl (52 kB)\n",
            "\u001b[2K     \u001b[90m━━━━━━━━━━━━━━━━━━━━━━━━━━━━━━━━━━━━━━━━\u001b[0m \u001b[32m52.1/52.1 KB\u001b[0m \u001b[31m7.0 MB/s\u001b[0m eta \u001b[36m0:00:00\u001b[0m\n",
            "\u001b[?25hCollecting DocumentTemplate>=4.0\n",
            "  Downloading DocumentTemplate-4.4-py3-none-any.whl (86 kB)\n",
            "\u001b[2K     \u001b[90m━━━━━━━━━━━━━━━━━━━━━━━━━━━━━━━━━━━━━━━━\u001b[0m \u001b[32m86.8/86.8 KB\u001b[0m \u001b[31m12.3 MB/s\u001b[0m eta \u001b[36m0:00:00\u001b[0m\n",
            "\u001b[?25hCollecting waitress\n",
            "  Downloading waitress-2.1.2-py3-none-any.whl (57 kB)\n",
            "\u001b[2K     \u001b[90m━━━━━━━━━━━━━━━━━━━━━━━━━━━━━━━━━━━━━━━━\u001b[0m \u001b[32m57.7/57.7 KB\u001b[0m \u001b[31m8.7 MB/s\u001b[0m eta \u001b[36m0:00:00\u001b[0m\n",
            "\u001b[?25hCollecting zope.configuration\n",
            "  Downloading zope.configuration-4.4.1-py2.py3-none-any.whl (80 kB)\n",
            "\u001b[2K     \u001b[90m━━━━━━━━━━━━━━━━━━━━━━━━━━━━━━━━━━━━━━━━\u001b[0m \u001b[32m80.2/80.2 KB\u001b[0m \u001b[31m11.8 MB/s\u001b[0m eta \u001b[36m0:00:00\u001b[0m\n",
            "\u001b[?25hCollecting ZConfig>=2.9.2\n",
            "  Downloading ZConfig-3.6.1-py2.py3-none-any.whl (136 kB)\n",
            "\u001b[2K     \u001b[90m━━━━━━━━━━━━━━━━━━━━━━━━━━━━━━━━━━━━━━\u001b[0m \u001b[32m136.9/136.9 KB\u001b[0m \u001b[31m18.1 MB/s\u001b[0m eta \u001b[36m0:00:00\u001b[0m\n",
            "\u001b[?25hCollecting zope.browserresource>=3.11\n",
            "  Downloading zope.browserresource-5.0-py3-none-any.whl (40 kB)\n",
            "\u001b[2K     \u001b[90m━━━━━━━━━━━━━━━━━━━━━━━━━━━━━━━━━━━━━━━━\u001b[0m \u001b[32m40.5/40.5 KB\u001b[0m \u001b[31m5.5 MB/s\u001b[0m eta \u001b[36m0:00:00\u001b[0m\n",
            "\u001b[?25hCollecting AccessControl>=5.2\n",
            "  Downloading AccessControl-6.0-cp39-cp39-manylinux_2_5_x86_64.manylinux1_x86_64.manylinux_2_17_x86_64.manylinux2014_x86_64.whl (189 kB)\n",
            "\u001b[2K     \u001b[90m━━━━━━━━━━━━━━━━━━━━━━━━━━━━━━━━━━━━━━\u001b[0m \u001b[32m190.0/190.0 KB\u001b[0m \u001b[31m24.5 MB/s\u001b[0m eta \u001b[36m0:00:00\u001b[0m\n",
            "\u001b[?25hCollecting ExtensionClass\n",
            "  Downloading ExtensionClass-5.0-cp39-cp39-manylinux_2_5_x86_64.manylinux1_x86_64.manylinux_2_17_x86_64.manylinux2014_x86_64.whl (89 kB)\n",
            "\u001b[2K     \u001b[90m━━━━━━━━━━━━━━━━━━━━━━━━━━━━━━━━━━━━━━━━\u001b[0m \u001b[32m89.1/89.1 KB\u001b[0m \u001b[31m12.0 MB/s\u001b[0m eta \u001b[36m0:00:00\u001b[0m\n",
            "\u001b[?25hCollecting zope.traversing\n",
            "  Downloading zope.traversing-4.4.1-py2.py3-none-any.whl (48 kB)\n",
            "\u001b[2K     \u001b[90m━━━━━━━━━━━━━━━━━━━━━━━━━━━━━━━━━━━━━━━━\u001b[0m \u001b[32m48.6/48.6 KB\u001b[0m \u001b[31m6.6 MB/s\u001b[0m eta \u001b[36m0:00:00\u001b[0m\n",
            "\u001b[?25hCollecting zope.size\n",
            "  Downloading zope.size-4.4-py2.py3-none-any.whl (7.9 kB)\n",
            "Collecting zope.browsermenu\n",
            "  Downloading zope.browsermenu-5.0-py3-none-any.whl (30 kB)\n",
            "Collecting MultiMapping\n",
            "  Downloading MultiMapping-5.0-py3-none-any.whl (4.3 kB)\n",
            "Collecting zope.interface>=3.8\n",
            "  Downloading zope.interface-6.0-cp39-cp39-manylinux_2_5_x86_64.manylinux1_x86_64.manylinux_2_17_x86_64.manylinux2014_x86_64.whl (246 kB)\n",
            "\u001b[2K     \u001b[90m━━━━━━━━━━━━━━━━━━━━━━━━━━━━━━━━━━━━━━\u001b[0m \u001b[32m246.1/246.1 KB\u001b[0m \u001b[31m15.7 MB/s\u001b[0m eta \u001b[36m0:00:00\u001b[0m\n",
            "\u001b[?25hCollecting zope.datetime\n",
            "  Downloading zope.datetime-4.3.0-py2.py3-none-any.whl (43 kB)\n",
            "\u001b[2K     \u001b[90m━━━━━━━━━━━━━━━━━━━━━━━━━━━━━━━━━━━━━━━━\u001b[0m \u001b[32m43.4/43.4 KB\u001b[0m \u001b[31m5.4 MB/s\u001b[0m eta \u001b[36m0:00:00\u001b[0m\n",
            "\u001b[?25hCollecting Chameleon>=3.7.0\n",
            "  Downloading Chameleon-4.0.0.tar.gz (108 kB)\n",
            "\u001b[2K     \u001b[90m━━━━━━━━━━━━━━━━━━━━━━━━━━━━━━━━━━━━━━\u001b[0m \u001b[32m108.7/108.7 KB\u001b[0m \u001b[31m13.6 MB/s\u001b[0m eta \u001b[36m0:00:00\u001b[0m\n",
            "\u001b[?25h  Preparing metadata (setup.py) ... \u001b[?25l\u001b[?25hdone\n",
            "Collecting zope.event\n",
            "  Downloading zope.event-4.6-py2.py3-none-any.whl (6.8 kB)\n",
            "Collecting zope.i18nmessageid\n",
            "  Downloading zope.i18nmessageid-5.1.1-cp39-cp39-manylinux_2_5_x86_64.manylinux1_x86_64.manylinux_2_12_x86_64.manylinux2010_x86_64.whl (32 kB)\n",
            "Collecting zope.publisher\n",
            "  Downloading zope.publisher-6.1.0-py2.py3-none-any.whl (122 kB)\n",
            "\u001b[2K     \u001b[90m━━━━━━━━━━━━━━━━━━━━━━━━━━━━━━━━━━━━━━\u001b[0m \u001b[32m122.5/122.5 KB\u001b[0m \u001b[31m14.8 MB/s\u001b[0m eta \u001b[36m0:00:00\u001b[0m\n",
            "\u001b[?25hCollecting zope.tales>=5.0.2\n",
            "  Downloading zope.tales-5.2-py2.py3-none-any.whl (30 kB)\n",
            "Collecting zope.i18n[zcml]\n",
            "  Downloading zope.i18n-4.9.0-py2.py3-none-any.whl (793 kB)\n",
            "\u001b[2K     \u001b[90m━━━━━━━━━━━━━━━━━━━━━━━━━━━━━━━━━━━━━━\u001b[0m \u001b[32m793.2/793.2 KB\u001b[0m \u001b[31m55.8 MB/s\u001b[0m eta \u001b[36m0:00:00\u001b[0m\n",
            "\u001b[?25hCollecting BTrees\n",
            "  Downloading BTrees-5.0-cp39-cp39-manylinux_2_17_x86_64.manylinux2014_x86_64.whl (3.7 MB)\n",
            "\u001b[2K     \u001b[90m━━━━━━━━━━━━━━━━━━━━━━━━━━━━━━━━━━━━━━━━\u001b[0m \u001b[32m3.7/3.7 MB\u001b[0m \u001b[31m84.5 MB/s\u001b[0m eta \u001b[36m0:00:00\u001b[0m\n",
            "\u001b[?25hCollecting ZODB\n",
            "  Downloading ZODB-5.8.0-py2.py3-none-any.whl (421 kB)\n",
            "\u001b[2K     \u001b[90m━━━━━━━━━━━━━━━━━━━━━━━━━━━━━━━━━━━━━━\u001b[0m \u001b[32m421.2/421.2 KB\u001b[0m \u001b[31m37.1 MB/s\u001b[0m eta \u001b[36m0:00:00\u001b[0m\n",
            "\u001b[?25hRequirement already satisfied: setuptools>=36.2 in /usr/local/lib/python3.9/dist-packages (from zope) (63.4.3)\n",
            "Collecting Persistence\n",
            "  Downloading Persistence-3.6-cp39-cp39-manylinux_2_5_x86_64.manylinux1_x86_64.manylinux_2_12_x86_64.manylinux2010_x86_64.whl (29 kB)\n",
            "Collecting zope.security\n",
            "  Downloading zope.security-6.1-cp39-cp39-manylinux_2_5_x86_64.manylinux1_x86_64.manylinux_2_17_x86_64.manylinux2014_x86_64.whl (179 kB)\n",
            "\u001b[2K     \u001b[90m━━━━━━━━━━━━━━━━━━━━━━━━━━━━━━━━━━━━━━\u001b[0m \u001b[32m179.9/179.9 KB\u001b[0m \u001b[31m21.8 MB/s\u001b[0m eta \u001b[36m0:00:00\u001b[0m\n",
            "\u001b[?25hCollecting zope.proxy\n",
            "  Downloading zope.proxy-5.0.0-cp39-cp39-manylinux_2_5_x86_64.manylinux1_x86_64.manylinux_2_17_x86_64.manylinux2014_x86_64.whl (68 kB)\n",
            "\u001b[2K     \u001b[90m━━━━━━━━━━━━━━━━━━━━━━━━━━━━━━━━━━━━━━━━\u001b[0m \u001b[32m68.3/68.3 KB\u001b[0m \u001b[31m8.9 MB/s\u001b[0m eta \u001b[36m0:00:00\u001b[0m\n",
            "\u001b[?25hCollecting multipart\n",
            "  Downloading multipart-0.2.4-py3-none-any.whl (7.4 kB)\n",
            "Collecting PasteDeploy\n",
            "  Downloading PasteDeploy-3.0.1-py3-none-any.whl (16 kB)\n",
            "Collecting zope.exceptions\n",
            "  Downloading zope.exceptions-4.6-py2.py3-none-any.whl (19 kB)\n",
            "Collecting zope.globalrequest\n",
            "  Downloading zope.globalrequest-1.6-py2.py3-none-any.whl (5.7 kB)\n",
            "Collecting zope.schema\n",
            "  Downloading zope.schema-7.0.1-py3-none-any.whl (85 kB)\n",
            "\u001b[2K     \u001b[90m━━━━━━━━━━━━━━━━━━━━━━━━━━━━━━━━━━━━━━━━\u001b[0m \u001b[32m85.9/85.9 KB\u001b[0m \u001b[31m12.6 MB/s\u001b[0m eta \u001b[36m0:00:00\u001b[0m\n",
            "\u001b[?25hCollecting zope.contentprovider\n",
            "  Downloading zope.contentprovider-4.2.1-py2.py3-none-any.whl (12 kB)\n",
            "Collecting zope.pagetemplate>=4.0.2\n",
            "  Downloading zope.pagetemplate-5.0-py3-none-any.whl (45 kB)\n",
            "\u001b[2K     \u001b[90m━━━━━━━━━━━━━━━━━━━━━━━━━━━━━━━━━━━━━━━━\u001b[0m \u001b[32m45.0/45.0 KB\u001b[0m \u001b[31m3.8 MB/s\u001b[0m eta \u001b[36m0:00:00\u001b[0m\n",
            "\u001b[?25hCollecting zope.tal\n",
            "  Downloading zope.tal-5.0.1-py3-none-any.whl (135 kB)\n",
            "\u001b[2K     \u001b[90m━━━━━━━━━━━━━━━━━━━━━━━━━━━━━━━━━━━━━━\u001b[0m \u001b[32m135.9/135.9 KB\u001b[0m \u001b[31m17.4 MB/s\u001b[0m eta \u001b[36m0:00:00\u001b[0m\n",
            "\u001b[?25hCollecting Acquisition\n",
            "  Downloading Acquisition-4.13-cp39-cp39-manylinux_2_5_x86_64.manylinux1_x86_64.manylinux_2_12_x86_64.manylinux2010_x86_64.whl (121 kB)\n",
            "\u001b[2K     \u001b[90m━━━━━━━━━━━━━━━━━━━━━━━━━━━━━━━━━━━━━━\u001b[0m \u001b[32m121.9/121.9 KB\u001b[0m \u001b[31m15.3 MB/s\u001b[0m eta \u001b[36m0:00:00\u001b[0m\n",
            "\u001b[?25hCollecting zExceptions>=3.4\n",
            "  Downloading zExceptions-4.3-py2.py3-none-any.whl (17 kB)\n",
            "Collecting transaction>=2.4\n",
            "  Downloading transaction-3.1.0-py2.py3-none-any.whl (47 kB)\n",
            "\u001b[2K     \u001b[90m━━━━━━━━━━━━━━━━━━━━━━━━━━━━━━━━━━━━━━━━\u001b[0m \u001b[32m47.3/47.3 KB\u001b[0m \u001b[31m6.7 MB/s\u001b[0m eta \u001b[36m0:00:00\u001b[0m\n",
            "\u001b[?25hCollecting RestrictedPython\n",
            "  Downloading RestrictedPython-6.0-py3-none-any.whl (25 kB)\n",
            "Collecting zope.component\n",
            "  Downloading zope.component-5.1.0-py2.py3-none-any.whl (69 kB)\n",
            "\u001b[2K     \u001b[90m━━━━━━━━━━━━━━━━━━━━━━━━━━━━━━━━━━━━━━━━\u001b[0m \u001b[32m69.3/69.3 KB\u001b[0m \u001b[31m8.8 MB/s\u001b[0m eta \u001b[36m0:00:00\u001b[0m\n",
            "\u001b[?25hCollecting zope.container\n",
            "  Downloading zope.container-5.0-cp39-cp39-manylinux_2_5_x86_64.manylinux1_x86_64.manylinux_2_17_x86_64.manylinux2014_x86_64.whl (110 kB)\n",
            "\u001b[2K     \u001b[90m━━━━━━━━━━━━━━━━━━━━━━━━━━━━━━━━━━━━━━\u001b[0m \u001b[32m110.8/110.8 KB\u001b[0m \u001b[31m14.4 MB/s\u001b[0m eta \u001b[36m0:00:00\u001b[0m\n",
            "\u001b[?25hCollecting zope.testing\n",
            "  Downloading zope.testing-5.0.1-py3-none-any.whl (37 kB)\n",
            "Collecting zope.browser\n",
            "  Downloading zope.browser-2.4-py2.py3-none-any.whl (7.7 kB)\n",
            "Collecting zope.location\n",
            "  Downloading zope.location-4.3-py2.py3-none-any.whl (19 kB)\n",
            "Collecting zope.viewlet\n",
            "  Downloading zope.viewlet-4.3-py2.py3-none-any.whl (33 kB)\n",
            "Collecting zope.testbrowser\n",
            "  Downloading zope.testbrowser-5.6.1-py2.py3-none-any.whl (64 kB)\n",
            "\u001b[2K     \u001b[90m━━━━━━━━━━━━━━━━━━━━━━━━━━━━━━━━━━━━━━━━\u001b[0m \u001b[32m64.9/64.9 KB\u001b[0m \u001b[31m7.6 MB/s\u001b[0m eta \u001b[36m0:00:00\u001b[0m\n",
            "\u001b[?25hCollecting z3c.pt\n",
            "  Downloading z3c.pt-3.3.1-py2.py3-none-any.whl (38 kB)\n",
            "Collecting zope.contenttype\n",
            "  Downloading zope.contenttype-4.6-py2.py3-none-any.whl (14 kB)\n",
            "Collecting zope.deferredimport\n",
            "  Downloading zope.deferredimport-4.4-py2.py3-none-any.whl (10.0 kB)\n",
            "Collecting AuthEncoding\n",
            "  Downloading AuthEncoding-5.0-py3-none-any.whl (8.7 kB)\n",
            "Collecting zope.structuredtext\n",
            "  Downloading zope.structuredtext-4.4-py2.py3-none-any.whl (92 kB)\n",
            "\u001b[2K     \u001b[90m━━━━━━━━━━━━━━━━━━━━━━━━━━━━━━━━━━━━━━━━\u001b[0m \u001b[32m92.9/92.9 KB\u001b[0m \u001b[31m13.2 MB/s\u001b[0m eta \u001b[36m0:00:00\u001b[0m\n",
            "\u001b[?25hCollecting roman\n",
            "  Downloading roman-4.0-py3-none-any.whl (7.8 kB)\n",
            "Collecting RestrictedPython\n",
            "  Downloading RestrictedPython-7.0a1.dev0-py3-none-any.whl (25 kB)\n",
            "Requirement already satisfied: six in /usr/local/lib/python3.9/dist-packages (from Persistence->zope) (1.15.0)\n",
            "Collecting persistent>=4.1.1\n",
            "  Downloading persistent-5.0-cp39-cp39-manylinux_2_5_x86_64.manylinux1_x86_64.manylinux_2_17_x86_64.manylinux2014_x86_64.whl (230 kB)\n",
            "\u001b[2K     \u001b[90m━━━━━━━━━━━━━━━━━━━━━━━━━━━━━━━━━━━━━━\u001b[0m \u001b[32m230.7/230.7 KB\u001b[0m \u001b[31m19.4 MB/s\u001b[0m eta \u001b[36m0:00:00\u001b[0m\n",
            "\u001b[?25hCollecting zope.hookable>=4.2.0\n",
            "  Downloading zope.hookable-5.4-cp39-cp39-manylinux_2_5_x86_64.manylinux1_x86_64.manylinux_2_12_x86_64.manylinux2010_x86_64.whl (29 kB)\n",
            "Requirement already satisfied: pytz in /usr/local/lib/python3.9/dist-packages (from DateTime->zope) (2022.7.1)\n",
            "Collecting zodbpickle>=1.0.1\n",
            "  Downloading zodbpickle-2.6-cp39-cp39-manylinux_2_5_x86_64.manylinux1_x86_64.manylinux_2_12_x86_64.manylinux2010_x86_64.whl (349 kB)\n",
            "\u001b[2K     \u001b[90m━━━━━━━━━━━━━━━━━━━━━━━━━━━━━━━━━━━━━━\u001b[0m \u001b[32m349.1/349.1 KB\u001b[0m \u001b[31m36.7 MB/s\u001b[0m eta \u001b[36m0:00:00\u001b[0m\n",
            "\u001b[?25hCollecting zc.lockfile\n",
            "  Downloading zc.lockfile-3.0.post1-py3-none-any.whl (9.8 kB)\n",
            "Collecting zope.filerepresentation\n",
            "  Downloading zope.filerepresentation-6.0-py3-none-any.whl (8.3 kB)\n",
            "Collecting zope.dottedname\n",
            "  Downloading zope.dottedname-5.0-py3-none-any.whl (6.4 kB)\n",
            "Collecting zope.cachedescriptors\n",
            "  Downloading zope.cachedescriptors-4.4-py2.py3-none-any.whl (13 kB)\n",
            "Collecting zope.deprecation\n",
            "  Downloading zope.deprecation-4.4.0-py2.py3-none-any.whl (10 kB)\n",
            "Collecting python-gettext\n",
            "  Downloading python_gettext-4.1-py2.py3-none-any.whl (13 kB)\n",
            "Collecting zope.annotation\n",
            "  Downloading zope.annotation-4.8-py2.py3-none-any.whl (14 kB)\n",
            "Requirement already satisfied: SoupSieve>=1.9.0 in /usr/local/lib/python3.9/dist-packages (from zope.testbrowser->zope) (2.4)\n",
            "Collecting WSGIProxy2\n",
            "  Downloading WSGIProxy2-0.5.1-py3-none-any.whl (9.2 kB)\n",
            "Collecting WebTest>=2.0.30\n",
            "  Downloading WebTest-3.0.0-py3-none-any.whl (31 kB)\n",
            "Requirement already satisfied: BeautifulSoup4 in /usr/local/lib/python3.9/dist-packages (from zope.testbrowser->zope) (4.9.3)\n",
            "Requirement already satisfied: cffi in /usr/local/lib/python3.9/dist-packages (from persistent>=4.1.1->Persistence->zope) (1.15.1)\n",
            "Collecting WebOb>=1.2\n",
            "  Downloading WebOb-1.8.7-py2.py3-none-any.whl (114 kB)\n",
            "\u001b[2K     \u001b[90m━━━━━━━━━━━━━━━━━━━━━━━━━━━━━━━━━━━━━━\u001b[0m \u001b[32m115.0/115.0 KB\u001b[0m \u001b[31m15.0 MB/s\u001b[0m eta \u001b[36m0:00:00\u001b[0m\n",
            "\u001b[?25hRequirement already satisfied: pycparser in /usr/local/lib/python3.9/dist-packages (from cffi->persistent>=4.1.1->Persistence->zope) (2.21)\n",
            "Building wheels for collected packages: Chameleon\n",
            "  Building wheel for Chameleon (setup.py) ... \u001b[?25l\u001b[?25hdone\n",
            "  Created wheel for Chameleon: filename=Chameleon-4.0.0-py3-none-any.whl size=86353 sha256=5cdb4ebcba67894946a542f5c0e25d1e794fe0e69a48eda82a82a62bb8122c0c\n",
            "  Stored in directory: /root/.cache/pip/wheels/66/c9/38/7d13612d63d6bb813467f3311f396391d93bcb08888a50bae8\n",
            "Successfully built Chameleon\n",
            "Installing collected packages: ZConfig, python-gettext, multipart, zope.testing, zope.structuredtext, zope.sequencesort, zope.interface, zope.i18nmessageid, zope.hookable, zope.event, zope.dottedname, zope.deprecation, zope.datetime, zope.contenttype, zope.cachedescriptors, zodbpickle, zc.lockfile, WebOb, waitress, roman, RestrictedPython, PasteDeploy, ExtensionClass, Chameleon, AuthEncoding, zope.tales, zope.tal, zope.size, zope.schema, zope.proxy, zope.processlifetime, zope.lifecycleevent, zope.exceptions, zope.component, zope.browser, WSGIProxy2, WebTest, transaction, persistent, MultiMapping, DateTime, Acquisition, zope.testbrowser, zope.location, zope.i18n, zope.filerepresentation, zope.deferredimport, zope.configuration, Persistence, BTrees, zope.security, zope.annotation, ZODB, zope.publisher, zope.traversing, zope.contentprovider, zExceptions, zope.pagetemplate, zope.globalrequest, zope.container, zope.browserresource, z3c.pt, AccessControl, zope.site, zope.ptresource, zope.browserpage, zope.browsermenu, DocumentTemplate, zope.viewlet, zope\n",
            "Successfully installed AccessControl-6.0 Acquisition-4.13 AuthEncoding-5.0 BTrees-5.0 Chameleon-4.0.0 DateTime-5.1 DocumentTemplate-4.4 ExtensionClass-5.0 MultiMapping-5.0 PasteDeploy-3.0.1 Persistence-3.6 RestrictedPython-7.0a1.dev0 WSGIProxy2-0.5.1 WebOb-1.8.7 WebTest-3.0.0 ZConfig-3.6.1 ZODB-5.8.0 multipart-0.2.4 persistent-5.0 python-gettext-4.1 roman-4.0 transaction-3.1.0 waitress-2.1.2 z3c.pt-3.3.1 zExceptions-4.3 zc.lockfile-3.0.post1 zodbpickle-2.6 zope-5.8.1 zope.annotation-4.8 zope.browser-2.4 zope.browsermenu-5.0 zope.browserpage-5.0 zope.browserresource-5.0 zope.cachedescriptors-4.4 zope.component-5.1.0 zope.configuration-4.4.1 zope.container-5.0 zope.contentprovider-4.2.1 zope.contenttype-4.6 zope.datetime-4.3.0 zope.deferredimport-4.4 zope.deprecation-4.4.0 zope.dottedname-5.0 zope.event-4.6 zope.exceptions-4.6 zope.filerepresentation-6.0 zope.globalrequest-1.6 zope.hookable-5.4 zope.i18n-4.9.0 zope.i18nmessageid-5.1.1 zope.interface-6.0 zope.lifecycleevent-4.4 zope.location-4.3 zope.pagetemplate-5.0 zope.processlifetime-2.4 zope.proxy-5.0.0 zope.ptresource-4.3.0 zope.publisher-6.1.0 zope.schema-7.0.1 zope.security-6.1 zope.sequencesort-5.0 zope.site-4.6.1 zope.size-4.4 zope.structuredtext-4.4 zope.tal-5.0.1 zope.tales-5.2 zope.testbrowser-5.6.1 zope.testing-5.0.1 zope.traversing-4.4.1 zope.viewlet-4.3\n"
          ]
        }
      ]
    },
    {
      "cell_type": "code",
      "source": [
        "from zope.interface import Interface\n",
        "\n",
        "class Animal(Interface):\n",
        "   def eat(self, food) -> float:\n",
        "       pass\n",
        "   def sleep(self, hours) -> float:\n",
        "       pass"
      ],
      "metadata": {
        "id": "jjtUFFD1CMuU"
      },
      "execution_count": 4,
      "outputs": []
    },
    {
      "cell_type": "code",
      "source": [
        "from typing import Protocol\n",
        "\n",
        "class Animal(Protocol):\n",
        "   def eat(self, food) -> float:\n",
        "       ...\n",
        "   def sleep(self, hours) -> float:\n",
        "       ..."
      ],
      "metadata": {
        "id": "eY5XNx6MCN3w"
      },
      "execution_count": 5,
      "outputs": []
    },
    {
      "cell_type": "code",
      "source": [
        "class Giraffe(Animal):\n",
        "   ..."
      ],
      "metadata": {
        "id": "cMMCN8J3ClNz"
      },
      "execution_count": 6,
      "outputs": []
    },
    {
      "cell_type": "code",
      "source": [
        "class Giraffe:  # no base class needed!\n",
        "   def eat(self, food) -> float:\n",
        "       return 0.\n",
        " \n",
        "   def sleep(self, hours) -> float:\n",
        "       return 1.\n",
        "\n",
        "def feed_animal(animal: Animal):\n",
        "    ... \n",
        "\n",
        "giraffe = Giraffe()\n",
        "feed_animal(giraffe)"
      ],
      "metadata": {
        "id": "L83vsQmTCmkE"
      },
      "execution_count": 7,
      "outputs": []
    },
    {
      "cell_type": "code",
      "source": [
        "class Giraffe:  # no base class needed!\n",
        "   def eat(self, food) -> float:\n",
        "       return 0.\n",
        "\n",
        "class Animal(ABC):\n",
        "    ...\n",
        "\n",
        "Animal.register(Giraffe)  # achieves the same as implicit Protocol"
      ],
      "metadata": {
        "colab": {
          "base_uri": "https://localhost:8080/"
        },
        "id": "8oFKyxyGCnrr",
        "outputId": "b12e722e-0df7-4ab6-977d-831206be5513"
      },
      "execution_count": 8,
      "outputs": [
        {
          "output_type": "execute_result",
          "data": {
            "text/plain": [
              "__main__.Giraffe"
            ]
          },
          "metadata": {},
          "execution_count": 8
        }
      ]
    },
    {
      "cell_type": "code",
      "source": [
        "class Animal(Protocol):  # the same holds for Animal(ABC):\n",
        "   def eat(self, food) -> float:\n",
        "       ...  # this is still abstract\n",
        " \n",
        "   def sleep(self, hours) -> float:\n",
        "       return 3."
      ],
      "metadata": {
        "id": "iinDjd53Cou1"
      },
      "execution_count": 9,
      "outputs": []
    }
  ]
}