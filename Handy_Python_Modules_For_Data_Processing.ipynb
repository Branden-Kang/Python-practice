{
  "nbformat": 4,
  "nbformat_minor": 0,
  "metadata": {
    "colab": {
      "name": "Handy Python Modules For Data Processing.ipynb",
      "provenance": [],
      "authorship_tag": "ABX9TyNS4CoudEFQEJXXUwXI8/nu"
    },
    "kernelspec": {
      "name": "python3",
      "display_name": "Python 3"
    },
    "language_info": {
      "name": "python"
    }
  },
  "cells": [
    {
      "cell_type": "markdown",
      "metadata": {
        "id": "cf0vMjdKFLAr"
      },
      "source": [
        "[Reference](https://towardsdatascience.com/handy-dandy-python-modules-for-data-processing-3a85d6806d39)"
      ]
    },
    {
      "cell_type": "code",
      "metadata": {
        "colab": {
          "base_uri": "https://localhost:8080/"
        },
        "id": "r4b5Ke_uFIXj",
        "outputId": "7182bc2d-0076-42f4-ecbb-123e97e1c53e"
      },
      "source": [
        "pip install numerizer"
      ],
      "execution_count": 1,
      "outputs": [
        {
          "output_type": "stream",
          "text": [
            "Collecting numerizer\n",
            "  Downloading https://files.pythonhosted.org/packages/a2/04/c6535fc8888badfafaa5c4cd2c7fb97afc58059949eda9aa5672d278bc71/numerizer-0.2.0.tar.gz\n",
            "Building wheels for collected packages: numerizer\n",
            "  Building wheel for numerizer (setup.py) ... \u001b[?25l\u001b[?25hdone\n",
            "  Created wheel for numerizer: filename=numerizer-0.2.0-py2.py3-none-any.whl size=6224 sha256=3d0644f831f38d3eb3bd581dc92208168552e5fd9cc402be2568a266d7fbc9d3\n",
            "  Stored in directory: /root/.cache/pip/wheels/59/69/d4/54bb44243c9a7bd79fc27ef534e9bdbf19e8afc01adcbaa8ac\n",
            "Successfully built numerizer\n",
            "Installing collected packages: numerizer\n",
            "Successfully installed numerizer-0.2.0\n"
          ],
          "name": "stdout"
        }
      ]
    },
    {
      "cell_type": "code",
      "metadata": {
        "colab": {
          "base_uri": "https://localhost:8080/"
        },
        "id": "H5KC00b6FmHj",
        "outputId": "654d872f-2f38-449a-da11-da3bda85e213"
      },
      "source": [
        "from numerizer import numerize\n",
        "print(numerize('one two three'))\n",
        "print(numerize('One Hundred and five'))\n",
        "print(numerize('twenty point one'))\n",
        "print(numerize('six and three fifths'))\n",
        "print(numerize('one quarter'))\n",
        "print(numerize('one million billion'))"
      ],
      "execution_count": 2,
      "outputs": [
        {
          "output_type": "stream",
          "text": [
            "1 2 3\n",
            "105\n",
            "20 point 1\n",
            "6.6\n",
            "1/4\n",
            "1000000000000000\n"
          ],
          "name": "stdout"
        }
      ]
    },
    {
      "cell_type": "code",
      "metadata": {
        "colab": {
          "base_uri": "https://localhost:8080/"
        },
        "id": "5-FHhPZlFu4w",
        "outputId": "2b3cf822-9e9b-411f-bece-2c0ace246fbd"
      },
      "source": [
        "pip install faker"
      ],
      "execution_count": 3,
      "outputs": [
        {
          "output_type": "stream",
          "text": [
            "Collecting faker\n",
            "\u001b[?25l  Downloading https://files.pythonhosted.org/packages/1d/20/65ba39dbb5f2ede1c182e40d05e8924c3bcc335cbe287bfcda3395bb1d0a/Faker-8.0.0-py3-none-any.whl (1.2MB)\n",
            "\u001b[K     |████████████████████████████████| 1.2MB 5.8MB/s \n",
            "\u001b[?25hRequirement already satisfied: text-unidecode==1.3 in /usr/local/lib/python3.7/dist-packages (from faker) (1.3)\n",
            "Requirement already satisfied: python-dateutil>=2.4 in /usr/local/lib/python3.7/dist-packages (from faker) (2.8.1)\n",
            "Requirement already satisfied: six>=1.5 in /usr/local/lib/python3.7/dist-packages (from python-dateutil>=2.4->faker) (1.15.0)\n",
            "Installing collected packages: faker\n",
            "Successfully installed faker-8.0.0\n"
          ],
          "name": "stdout"
        }
      ]
    },
    {
      "cell_type": "code",
      "metadata": {
        "id": "HTgch5TeFwtw"
      },
      "source": [
        "from faker import Faker\n",
        "import pandas as pd\n",
        "fake = Faker()"
      ],
      "execution_count": 4,
      "outputs": []
    },
    {
      "cell_type": "code",
      "metadata": {
        "colab": {
          "base_uri": "https://localhost:8080/",
          "height": 669
        },
        "id": "nP7JvPfkFyDx",
        "outputId": "4164230a-b8bf-47d0-ae3d-a4075af93f9f"
      },
      "source": [
        "df = pd.DataFrame({\"Name\" : [fake.name() for x in range(1, 200)],\n",
        "                   \"Website\" : [fake.url() for x in range(1, 200)]\n",
        "                  })\n",
        "df.head(20)"
      ],
      "execution_count": 5,
      "outputs": [
        {
          "output_type": "execute_result",
          "data": {
            "text/html": [
              "<div>\n",
              "<style scoped>\n",
              "    .dataframe tbody tr th:only-of-type {\n",
              "        vertical-align: middle;\n",
              "    }\n",
              "\n",
              "    .dataframe tbody tr th {\n",
              "        vertical-align: top;\n",
              "    }\n",
              "\n",
              "    .dataframe thead th {\n",
              "        text-align: right;\n",
              "    }\n",
              "</style>\n",
              "<table border=\"1\" class=\"dataframe\">\n",
              "  <thead>\n",
              "    <tr style=\"text-align: right;\">\n",
              "      <th></th>\n",
              "      <th>Name</th>\n",
              "      <th>Website</th>\n",
              "    </tr>\n",
              "  </thead>\n",
              "  <tbody>\n",
              "    <tr>\n",
              "      <th>0</th>\n",
              "      <td>Wendy Daniels</td>\n",
              "      <td>https://www.wade-miles.com/</td>\n",
              "    </tr>\n",
              "    <tr>\n",
              "      <th>1</th>\n",
              "      <td>Miss Rachel Hammond MD</td>\n",
              "      <td>http://alvarado-brown.com/</td>\n",
              "    </tr>\n",
              "    <tr>\n",
              "      <th>2</th>\n",
              "      <td>Victor Hill</td>\n",
              "      <td>http://harvey.com/</td>\n",
              "    </tr>\n",
              "    <tr>\n",
              "      <th>3</th>\n",
              "      <td>Allison Wilson</td>\n",
              "      <td>http://www.jones.biz/</td>\n",
              "    </tr>\n",
              "    <tr>\n",
              "      <th>4</th>\n",
              "      <td>Terry Pierce</td>\n",
              "      <td>https://www.gray.net/</td>\n",
              "    </tr>\n",
              "    <tr>\n",
              "      <th>5</th>\n",
              "      <td>Christina Thompson</td>\n",
              "      <td>https://martin.com/</td>\n",
              "    </tr>\n",
              "    <tr>\n",
              "      <th>6</th>\n",
              "      <td>Amy Thornton</td>\n",
              "      <td>http://lane-romero.com/</td>\n",
              "    </tr>\n",
              "    <tr>\n",
              "      <th>7</th>\n",
              "      <td>Penny Adams</td>\n",
              "      <td>https://lynch-jacobson.net/</td>\n",
              "    </tr>\n",
              "    <tr>\n",
              "      <th>8</th>\n",
              "      <td>Kaitlyn Marsh</td>\n",
              "      <td>https://www.ball.net/</td>\n",
              "    </tr>\n",
              "    <tr>\n",
              "      <th>9</th>\n",
              "      <td>Scott Martinez</td>\n",
              "      <td>http://turner-sawyer.info/</td>\n",
              "    </tr>\n",
              "    <tr>\n",
              "      <th>10</th>\n",
              "      <td>Kathryn Arnold</td>\n",
              "      <td>http://saunders.com/</td>\n",
              "    </tr>\n",
              "    <tr>\n",
              "      <th>11</th>\n",
              "      <td>James Jensen</td>\n",
              "      <td>http://riley-thompson.net/</td>\n",
              "    </tr>\n",
              "    <tr>\n",
              "      <th>12</th>\n",
              "      <td>Kayla Armstrong DDS</td>\n",
              "      <td>https://reilly.com/</td>\n",
              "    </tr>\n",
              "    <tr>\n",
              "      <th>13</th>\n",
              "      <td>Sonya Gutierrez</td>\n",
              "      <td>https://www.mccarthy.biz/</td>\n",
              "    </tr>\n",
              "    <tr>\n",
              "      <th>14</th>\n",
              "      <td>Christopher Mack</td>\n",
              "      <td>http://rivera.com/</td>\n",
              "    </tr>\n",
              "    <tr>\n",
              "      <th>15</th>\n",
              "      <td>Valerie Marquez</td>\n",
              "      <td>http://www.price-martinez.com/</td>\n",
              "    </tr>\n",
              "    <tr>\n",
              "      <th>16</th>\n",
              "      <td>Steven Riddle</td>\n",
              "      <td>https://www.garcia-madden.com/</td>\n",
              "    </tr>\n",
              "    <tr>\n",
              "      <th>17</th>\n",
              "      <td>Jeffrey Harvey</td>\n",
              "      <td>http://www.callahan-bell.net/</td>\n",
              "    </tr>\n",
              "    <tr>\n",
              "      <th>18</th>\n",
              "      <td>Kayla Davis</td>\n",
              "      <td>http://richards.biz/</td>\n",
              "    </tr>\n",
              "    <tr>\n",
              "      <th>19</th>\n",
              "      <td>Samantha Lawrence</td>\n",
              "      <td>https://www.schneider.com/</td>\n",
              "    </tr>\n",
              "  </tbody>\n",
              "</table>\n",
              "</div>"
            ],
            "text/plain": [
              "                      Name                         Website\n",
              "0            Wendy Daniels     https://www.wade-miles.com/\n",
              "1   Miss Rachel Hammond MD      http://alvarado-brown.com/\n",
              "2              Victor Hill              http://harvey.com/\n",
              "3           Allison Wilson           http://www.jones.biz/\n",
              "4             Terry Pierce           https://www.gray.net/\n",
              "5       Christina Thompson             https://martin.com/\n",
              "6             Amy Thornton         http://lane-romero.com/\n",
              "7              Penny Adams     https://lynch-jacobson.net/\n",
              "8            Kaitlyn Marsh           https://www.ball.net/\n",
              "9           Scott Martinez      http://turner-sawyer.info/\n",
              "10          Kathryn Arnold            http://saunders.com/\n",
              "11            James Jensen      http://riley-thompson.net/\n",
              "12     Kayla Armstrong DDS             https://reilly.com/\n",
              "13         Sonya Gutierrez       https://www.mccarthy.biz/\n",
              "14        Christopher Mack              http://rivera.com/\n",
              "15         Valerie Marquez  http://www.price-martinez.com/\n",
              "16           Steven Riddle  https://www.garcia-madden.com/\n",
              "17          Jeffrey Harvey   http://www.callahan-bell.net/\n",
              "18             Kayla Davis            http://richards.biz/\n",
              "19       Samantha Lawrence      https://www.schneider.com/"
            ]
          },
          "metadata": {
            "tags": []
          },
          "execution_count": 5
        }
      ]
    },
    {
      "cell_type": "code",
      "metadata": {
        "colab": {
          "base_uri": "https://localhost:8080/"
        },
        "id": "bSv1VoyeF0Zx",
        "outputId": "48a13093-0a0c-4f41-c1c1-efc34557ad70"
      },
      "source": [
        "pip install missingno"
      ],
      "execution_count": 6,
      "outputs": [
        {
          "output_type": "stream",
          "text": [
            "Requirement already satisfied: missingno in /usr/local/lib/python3.7/dist-packages (0.4.2)\n",
            "Requirement already satisfied: numpy in /usr/local/lib/python3.7/dist-packages (from missingno) (1.19.5)\n",
            "Requirement already satisfied: seaborn in /usr/local/lib/python3.7/dist-packages (from missingno) (0.11.1)\n",
            "Requirement already satisfied: matplotlib in /usr/local/lib/python3.7/dist-packages (from missingno) (3.2.2)\n",
            "Requirement already satisfied: scipy in /usr/local/lib/python3.7/dist-packages (from missingno) (1.4.1)\n",
            "Requirement already satisfied: pandas>=0.23 in /usr/local/lib/python3.7/dist-packages (from seaborn->missingno) (1.1.5)\n",
            "Requirement already satisfied: python-dateutil>=2.1 in /usr/local/lib/python3.7/dist-packages (from matplotlib->missingno) (2.8.1)\n",
            "Requirement already satisfied: cycler>=0.10 in /usr/local/lib/python3.7/dist-packages (from matplotlib->missingno) (0.10.0)\n",
            "Requirement already satisfied: pyparsing!=2.0.4,!=2.1.2,!=2.1.6,>=2.0.1 in /usr/local/lib/python3.7/dist-packages (from matplotlib->missingno) (2.4.7)\n",
            "Requirement already satisfied: kiwisolver>=1.0.1 in /usr/local/lib/python3.7/dist-packages (from matplotlib->missingno) (1.3.1)\n",
            "Requirement already satisfied: pytz>=2017.2 in /usr/local/lib/python3.7/dist-packages (from pandas>=0.23->seaborn->missingno) (2018.9)\n",
            "Requirement already satisfied: six>=1.5 in /usr/local/lib/python3.7/dist-packages (from python-dateutil>=2.1->matplotlib->missingno) (1.15.0)\n"
          ],
          "name": "stdout"
        }
      ]
    },
    {
      "cell_type": "code",
      "metadata": {
        "colab": {
          "base_uri": "https://localhost:8080/",
          "height": 335
        },
        "id": "ynBjtQ5yF3Sv",
        "outputId": "fa8aaa94-c54d-4bf2-85d8-21424b538188"
      },
      "source": [
        "import missingno as mi\n",
        "import numpy as np\n",
        "\n",
        "df = pd.DataFrame({\"A\" : [5, np.NaN, 10, np.NaN], \n",
        "                  \"B\" : [\"eight\", \"seven\", \"two\", \"three\"]})\n",
        "\n",
        "mi.matrix(df, figsize = (10,5));"
      ],
      "execution_count": 7,
      "outputs": [
        {
          "output_type": "display_data",
          "data": {
            "image/png": "[encoded data removed]",
            "text/plain": [
              "<Figure size 720x360 with 2 Axes>"
            ]
          },
          "metadata": {
            "tags": [],
            "needs_background": "light"
          }
        }
      ]
    },
    {
      "cell_type": "code",
      "metadata": {
        "colab": {
          "base_uri": "https://localhost:8080/"
        },
        "id": "zGGdXOPkGALn",
        "outputId": "927fb2ac-51b3-434c-8304-e2f62b700381"
      },
      "source": [
        "pip install emot"
      ],
      "execution_count": 8,
      "outputs": [
        {
          "output_type": "stream",
          "text": [
            "Collecting emot\n",
            "  Downloading https://files.pythonhosted.org/packages/49/07/20001ade19873de611b7b66a4d5e5aabbf190d65abea337d5deeaa2bc3de/emot-2.1-py3-none-any.whl\n",
            "Installing collected packages: emot\n",
            "Successfully installed emot-2.1\n"
          ],
          "name": "stdout"
        }
      ]
    },
    {
      "cell_type": "code",
      "metadata": {
        "colab": {
          "base_uri": "https://localhost:8080/",
          "height": 37
        },
        "id": "64fDjyb-GD7F",
        "outputId": "3cf20b52-6221-479c-9bed-4de701494945"
      },
      "source": [
        "import re\n",
        "from emot.emo_unicode import UNICODE_EMO, EMOTICONS\n",
        "\n",
        "def convert_emoticons(text):\n",
        "    for emot in EMOTICONS:\n",
        "        text = re.sub(u'('+emot+')', \"_\".join(EMOTICONS[emot].replace(\",\",\"\").split()), text)\n",
        "    return text\n",
        "\n",
        "convert_emoticons(\"Hi :3, how are you? :P\")"
      ],
      "execution_count": 9,
      "outputs": [
        {
          "output_type": "execute_result",
          "data": {
            "application/vnd.google.colaboratory.intrinsic+json": {
              "type": "string"
            },
            "text/plain": [
              "'Hi Happy_face_smiley, how are you? Tongue_sticking_out_cheeky_playful_or_blowing_a_raspberry'"
            ]
          },
          "metadata": {
            "tags": []
          },
          "execution_count": 9
        }
      ]
    },
    {
      "cell_type": "code",
      "metadata": {
        "colab": {
          "base_uri": "https://localhost:8080/"
        },
        "id": "rFgjfg4ZGSmi",
        "outputId": "23febd87-c335-42a9-cbc9-f4c0136bc45f"
      },
      "source": [
        "pip install pillow"
      ],
      "execution_count": 10,
      "outputs": [
        {
          "output_type": "stream",
          "text": [
            "Requirement already satisfied: pillow in /usr/local/lib/python3.7/dist-packages (7.1.2)\n"
          ],
          "name": "stdout"
        }
      ]
    },
    {
      "cell_type": "code",
      "metadata": {
        "id": "Zw9fbS0_GWLb"
      },
      "source": [
        "import pillow as pil\n",
        "im = pil.Image.open(\"logo.png\")\n",
        "im.show()\n",
        "\n",
        "im.rotate(45)"
      ],
      "execution_count": 12,
      "outputs": []
    },
    {
      "cell_type": "code",
      "metadata": {
        "colab": {
          "base_uri": "https://localhost:8080/"
        },
        "id": "Q6AHcbi-GYrI",
        "outputId": "a9bdd2e1-1d81-4639-fbb0-4884924177f0"
      },
      "source": [
        "pip install arrow"
      ],
      "execution_count": 13,
      "outputs": [
        {
          "output_type": "stream",
          "text": [
            "Collecting arrow\n",
            "\u001b[?25l  Downloading https://files.pythonhosted.org/packages/ea/22/482a480cbee1aa7795a58b411159a4df249d6d4ceacdd9987ab946f78210/arrow-1.0.3-py3-none-any.whl (54kB)\n",
            "\r\u001b[K     |██████                          | 10kB 18.1MB/s eta 0:00:01\r\u001b[K     |████████████                    | 20kB 11.6MB/s eta 0:00:01\r\u001b[K     |██████████████████              | 30kB 9.2MB/s eta 0:00:01\r\u001b[K     |████████████████████████▏       | 40kB 7.7MB/s eta 0:00:01\r\u001b[K     |██████████████████████████████▏ | 51kB 4.6MB/s eta 0:00:01\r\u001b[K     |████████████████████████████████| 61kB 2.6MB/s \n",
            "\u001b[?25hRequirement already satisfied: python-dateutil>=2.7.0 in /usr/local/lib/python3.7/dist-packages (from arrow) (2.8.1)\n",
            "Requirement already satisfied: typing-extensions; python_version < \"3.8\" in /usr/local/lib/python3.7/dist-packages (from arrow) (3.7.4.3)\n",
            "Requirement already satisfied: six>=1.5 in /usr/local/lib/python3.7/dist-packages (from python-dateutil>=2.7.0->arrow) (1.15.0)\n",
            "Installing collected packages: arrow\n",
            "Successfully installed arrow-1.0.3\n"
          ],
          "name": "stdout"
        }
      ]
    },
    {
      "cell_type": "code",
      "metadata": {
        "colab": {
          "base_uri": "https://localhost:8080/",
          "height": 37
        },
        "id": "awYyJPqFGe0q",
        "outputId": "d5628b2b-d38f-4f7c-c68e-f5cf530b41f1"
      },
      "source": [
        "import arrow\n",
        "utc = arrow.utcnow()\n",
        "local = utc.to('US/Eastern')\n",
        "local.humanize()"
      ],
      "execution_count": 14,
      "outputs": [
        {
          "output_type": "execute_result",
          "data": {
            "application/vnd.google.colaboratory.intrinsic+json": {
              "type": "string"
            },
            "text/plain": [
              "'just now'"
            ]
          },
          "metadata": {
            "tags": []
          },
          "execution_count": 14
        }
      ]
    },
    {
      "cell_type": "code",
      "metadata": {
        "colab": {
          "base_uri": "https://localhost:8080/",
          "height": 37
        },
        "id": "5S6zuPckGghV",
        "outputId": "b73ddb31-c0bf-4676-e5ab-a7fd80ea4f25"
      },
      "source": [
        "local.humanize(locale='fr')"
      ],
      "execution_count": 15,
      "outputs": [
        {
          "output_type": "execute_result",
          "data": {
            "application/vnd.google.colaboratory.intrinsic+json": {
              "type": "string"
            },
            "text/plain": [
              "'maintenant'"
            ]
          },
          "metadata": {
            "tags": []
          },
          "execution_count": 15
        }
      ]
    }
  ]
}