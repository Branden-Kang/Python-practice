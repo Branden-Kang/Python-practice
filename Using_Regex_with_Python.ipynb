{
  "nbformat": 4,
  "nbformat_minor": 0,
  "metadata": {
    "colab": {
      "name": "Using Regex with Python.ipynb",
      "provenance": [],
      "collapsed_sections": [],
      "authorship_tag": "ABX9TyOQJ06My2xCEanqIRI3rrHQ"
    },
    "kernelspec": {
      "name": "python3",
      "display_name": "Python 3"
    }
  },
  "cells": [
    {
      "cell_type": "markdown",
      "metadata": {
        "id": "Aya5WVEuZB_3",
        "colab_type": "text"
      },
      "source": [
        "[Reference](https://medium.com/python-in-plain-english/using-regex-with-python-d53631d79197)"
      ]
    },
    {
      "cell_type": "code",
      "metadata": {
        "id": "VA1mKNhLY_qR",
        "colab_type": "code",
        "colab": {}
      },
      "source": [
        "import re\n",
        "phone_regex = re.compile('\\d{3}-\\d{3}-\\d{4}')"
      ],
      "execution_count": 1,
      "outputs": []
    },
    {
      "cell_type": "code",
      "metadata": {
        "id": "6knuTqMuZG4w",
        "colab_type": "code",
        "colab": {}
      },
      "source": [
        "msg = 'Joe\\'s phone number is 555-555-1212'"
      ],
      "execution_count": 2,
      "outputs": []
    },
    {
      "cell_type": "code",
      "metadata": {
        "id": "6hc0yVFpZIKf",
        "colab_type": "code",
        "colab": {}
      },
      "source": [
        "match = phone_regex.search(msg)"
      ],
      "execution_count": 3,
      "outputs": []
    },
    {
      "cell_type": "code",
      "metadata": {
        "id": "IqIZdxY9ZKIb",
        "colab_type": "code",
        "colab": {
          "base_uri": "https://localhost:8080/",
          "height": 34
        },
        "outputId": "2aab0fdc-bf4e-4837-93d8-8197845af1f3"
      },
      "source": [
        "match"
      ],
      "execution_count": 4,
      "outputs": [
        {
          "output_type": "execute_result",
          "data": {
            "text/plain": [
              "<_sre.SRE_Match object; span=(22, 34), match='555-555-1212'>"
            ]
          },
          "metadata": {
            "tags": []
          },
          "execution_count": 4
        }
      ]
    },
    {
      "cell_type": "code",
      "metadata": {
        "id": "a7kLDuZvZMtI",
        "colab_type": "code",
        "colab": {
          "base_uri": "https://localhost:8080/",
          "height": 37
        },
        "outputId": "b890a413-8a45-434d-9b53-4807bfb9c7c2"
      },
      "source": [
        "phone = match.group()\n",
        "phone"
      ],
      "execution_count": 6,
      "outputs": [
        {
          "output_type": "execute_result",
          "data": {
            "application/vnd.google.colaboratory.intrinsic+json": {
              "type": "string"
            },
            "text/plain": [
              "'555-555-1212'"
            ]
          },
          "metadata": {
            "tags": []
          },
          "execution_count": 6
        }
      ]
    },
    {
      "cell_type": "code",
      "metadata": {
        "id": "NPl_toA0ZQUm",
        "colab_type": "code",
        "colab": {}
      },
      "source": [
        "phone_regex = re.compile('(\\d{3})-(\\d{3})-(\\d{4})')"
      ],
      "execution_count": 7,
      "outputs": []
    },
    {
      "cell_type": "code",
      "metadata": {
        "id": "HMyEiDxKZdmD",
        "colab_type": "code",
        "colab": {}
      },
      "source": [
        "msg = 'Joe\\'s phone number is 123-456-7890'\n",
        "match = phone_regex.search(msg)\n",
        "phone = match.group()\n",
        "area_code = match.group(1)\n",
        "exchange_code = match.group(2)\n",
        "station_code = match.group(3)"
      ],
      "execution_count": 8,
      "outputs": []
    },
    {
      "cell_type": "code",
      "metadata": {
        "id": "_yxpaAoPZeLj",
        "colab_type": "code",
        "colab": {
          "base_uri": "https://localhost:8080/",
          "height": 34
        },
        "outputId": "194bf619-f1e6-4b0f-ab68-e8ec371c920d"
      },
      "source": [
        "print(phone)"
      ],
      "execution_count": 9,
      "outputs": [
        {
          "output_type": "stream",
          "text": [
            "123-456-7890\n"
          ],
          "name": "stdout"
        }
      ]
    },
    {
      "cell_type": "code",
      "metadata": {
        "id": "3yDuU7sPZgjh",
        "colab_type": "code",
        "colab": {
          "base_uri": "https://localhost:8080/",
          "height": 34
        },
        "outputId": "a260ce95-f920-4375-c599-06c5e8ab6c02"
      },
      "source": [
        "print(area_code)"
      ],
      "execution_count": 10,
      "outputs": [
        {
          "output_type": "stream",
          "text": [
            "123\n"
          ],
          "name": "stdout"
        }
      ]
    },
    {
      "cell_type": "code",
      "metadata": {
        "id": "nobaQn6oZicX",
        "colab_type": "code",
        "colab": {
          "base_uri": "https://localhost:8080/",
          "height": 34
        },
        "outputId": "d466d895-deb5-4476-c026-041795f3e6fa"
      },
      "source": [
        "print(exchange_code)"
      ],
      "execution_count": 11,
      "outputs": [
        {
          "output_type": "stream",
          "text": [
            "456\n"
          ],
          "name": "stdout"
        }
      ]
    },
    {
      "cell_type": "code",
      "metadata": {
        "id": "vtL-rqPtZkDa",
        "colab_type": "code",
        "colab": {
          "base_uri": "https://localhost:8080/",
          "height": 34
        },
        "outputId": "4eb81760-2181-446b-b99e-543351ec0cd4"
      },
      "source": [
        "print(station_code)"
      ],
      "execution_count": 12,
      "outputs": [
        {
          "output_type": "stream",
          "text": [
            "7890\n"
          ],
          "name": "stdout"
        }
      ]
    },
    {
      "cell_type": "code",
      "metadata": {
        "id": "y-GzkPeBZlB2",
        "colab_type": "code",
        "colab": {}
      },
      "source": [
        "name_regex = re.compile('Jane|Joe')\n",
        "msg = 'Jane and Joe'\n",
        "match = name_regex.search(msg)\n",
        "match = match.group()"
      ],
      "execution_count": 13,
      "outputs": []
    },
    {
      "cell_type": "code",
      "metadata": {
        "id": "DFPGqL2IZtlB",
        "colab_type": "code",
        "colab": {
          "base_uri": "https://localhost:8080/",
          "height": 34
        },
        "outputId": "60510373-f680-4f18-9895-0995a316a1b7"
      },
      "source": [
        "print(match)"
      ],
      "execution_count": 14,
      "outputs": [
        {
          "output_type": "stream",
          "text": [
            "Jane\n"
          ],
          "name": "stdout"
        }
      ]
    },
    {
      "cell_type": "code",
      "metadata": {
        "id": "wJDcQv3GZoyz",
        "colab_type": "code",
        "colab": {}
      },
      "source": [
        "snow_regex = re.compile(r'snow(man|mobile|shoe)')\n",
        "msg = 'I am walking on a snowshoe'\n",
        "snow_match = snow_regex.search(msg)\n",
        "match = snow_match.group()\n",
        "group_match = snow_match.group(1)"
      ],
      "execution_count": 15,
      "outputs": []
    },
    {
      "cell_type": "code",
      "metadata": {
        "id": "nabX-4s4Zuwi",
        "colab_type": "code",
        "colab": {
          "base_uri": "https://localhost:8080/",
          "height": 34
        },
        "outputId": "8c1950f0-61fd-486e-9a83-e9c2bcb9135f"
      },
      "source": [
        "print(group_match)"
      ],
      "execution_count": 16,
      "outputs": [
        {
          "output_type": "stream",
          "text": [
            "shoe\n"
          ],
          "name": "stdout"
        }
      ]
    },
    {
      "cell_type": "code",
      "metadata": {
        "id": "gBQ4JG_dZxJG",
        "colab_type": "code",
        "colab": {}
      },
      "source": [
        "snow_regex = re.compile(r'snow(shoe)?')\n",
        "msg = 'I am walking on a snowshoe'\n",
        "msg_2 = 'I am walking on snow'\n",
        "snow_match = snow_regex.search(msg)\n",
        "snow_match_2 = snow_regex.search(msg_2)"
      ],
      "execution_count": 17,
      "outputs": []
    },
    {
      "cell_type": "code",
      "metadata": {
        "id": "T1sR8XKxZ3vx",
        "colab_type": "code",
        "colab": {
          "base_uri": "https://localhost:8080/",
          "height": 34
        },
        "outputId": "bbf2a38f-433d-4368-a43a-52f25284743d"
      },
      "source": [
        "print(snow_match)"
      ],
      "execution_count": 18,
      "outputs": [
        {
          "output_type": "stream",
          "text": [
            "<_sre.SRE_Match object; span=(18, 26), match='snowshoe'>\n"
          ],
          "name": "stdout"
        }
      ]
    },
    {
      "cell_type": "code",
      "metadata": {
        "id": "hmjLzsydZ4uT",
        "colab_type": "code",
        "colab": {
          "base_uri": "https://localhost:8080/",
          "height": 34
        },
        "outputId": "e04dcea1-35d9-400b-85d7-c26ba5c5e5d0"
      },
      "source": [
        "print(snow_match_2)"
      ],
      "execution_count": 20,
      "outputs": [
        {
          "output_type": "stream",
          "text": [
            "<_sre.SRE_Match object; span=(16, 20), match='snow'>\n"
          ],
          "name": "stdout"
        }
      ]
    }
  ]
}