{
  "nbformat": 4,
  "nbformat_minor": 0,
  "metadata": {
    "colab": {
      "provenance": [],
      "authorship_tag": "ABX9TyNrnGWkzJC91A/9OmYFpmqG"
    },
    "kernelspec": {
      "name": "python3",
      "display_name": "Python 3"
    },
    "language_info": {
      "name": "python"
    }
  },
  "cells": [
    {
      "cell_type": "markdown",
      "source": [
        "[Reference](https://towardsdev.com/python-structural-pattern-matching-fd69651c1120)"
      ],
      "metadata": {
        "id": "Q2H7BPuJ0SqI"
      }
    },
    {
      "cell_type": "code",
      "execution_count": 1,
      "metadata": {
        "id": "S0xZmyvIzsxQ"
      },
      "outputs": [],
      "source": [
        "from dataclasses import dataclass\n",
        "\n",
        "@dataclass\n",
        "class Car:\n",
        "    model: str\n",
        "    price: float\n",
        "    registraion_state: str\n",
        "\n",
        "    def total_cost(self) -> float:\n",
        "        if self.registraion_state==\"OR\":\n",
        "            return  self.price + (self.price * 0.05)\n",
        "        elif self.registraion_state==\"WA\":\n",
        "            return  self.price + (self.price * 0.10)\n",
        "        elif self.registraion_state==\"CA\":\n",
        "            return  self.price + (self.price * 0.08)\n",
        "        else: \n",
        "            raise TypeError(\"Invalid registraion_state value\")\n",
        "\n",
        "\n",
        "car1 = Car(model=\"RAV4\", price=30000, registraion_state=\"OR\")\n",
        "car2 = Car(model=\"RAV4\", price=30000, registraion_state=\"WA\")\n",
        "car3 = Car(model=\"RAV4\", price=30000, registraion_state=\"CA\")\n",
        "car4 = Car(model=\"RAV4\", price=30000, registraion_state=\"NY\")"
      ]
    },
    {
      "cell_type": "code",
      "source": [
        "print(car1.total_cost())\n",
        "print(car2.total_cost())\n",
        "print(car3.total_cost())\n",
        "print(car4.total_cost())"
      ],
      "metadata": {
        "colab": {
          "base_uri": "https://localhost:8080/",
          "height": 402
        },
        "id": "KV7RYsDk0WCE",
        "outputId": "9fe1c4f4-6709-4f6a-f3e1-0af16cad1892"
      },
      "execution_count": 2,
      "outputs": [
        {
          "output_type": "stream",
          "name": "stdout",
          "text": [
            "31500.0\n",
            "33000.0\n",
            "32400.0\n"
          ]
        },
        {
          "output_type": "error",
          "ename": "TypeError",
          "evalue": "ignored",
          "traceback": [
            "\u001b[0;31m---------------------------------------------------------------------------\u001b[0m",
            "\u001b[0;31mTypeError\u001b[0m                                 Traceback (most recent call last)",
            "\u001b[0;32m<ipython-input-2-bbdb710dac02>\u001b[0m in \u001b[0;36m<module>\u001b[0;34m\u001b[0m\n\u001b[1;32m      2\u001b[0m \u001b[0mprint\u001b[0m\u001b[0;34m(\u001b[0m\u001b[0mcar2\u001b[0m\u001b[0;34m.\u001b[0m\u001b[0mtotal_cost\u001b[0m\u001b[0;34m(\u001b[0m\u001b[0;34m)\u001b[0m\u001b[0;34m)\u001b[0m\u001b[0;34m\u001b[0m\u001b[0;34m\u001b[0m\u001b[0m\n\u001b[1;32m      3\u001b[0m \u001b[0mprint\u001b[0m\u001b[0;34m(\u001b[0m\u001b[0mcar3\u001b[0m\u001b[0;34m.\u001b[0m\u001b[0mtotal_cost\u001b[0m\u001b[0;34m(\u001b[0m\u001b[0;34m)\u001b[0m\u001b[0;34m)\u001b[0m\u001b[0;34m\u001b[0m\u001b[0;34m\u001b[0m\u001b[0m\n\u001b[0;32m----> 4\u001b[0;31m \u001b[0mprint\u001b[0m\u001b[0;34m(\u001b[0m\u001b[0mcar4\u001b[0m\u001b[0;34m.\u001b[0m\u001b[0mtotal_cost\u001b[0m\u001b[0;34m(\u001b[0m\u001b[0;34m)\u001b[0m\u001b[0;34m)\u001b[0m\u001b[0;34m\u001b[0m\u001b[0;34m\u001b[0m\u001b[0m\n\u001b[0m",
            "\u001b[0;32m<ipython-input-1-20b3413475bf>\u001b[0m in \u001b[0;36mtotal_cost\u001b[0;34m(self)\u001b[0m\n\u001b[1;32m     15\u001b[0m             \u001b[0;32mreturn\u001b[0m  \u001b[0mself\u001b[0m\u001b[0;34m.\u001b[0m\u001b[0mprice\u001b[0m \u001b[0;34m+\u001b[0m \u001b[0;34m(\u001b[0m\u001b[0mself\u001b[0m\u001b[0;34m.\u001b[0m\u001b[0mprice\u001b[0m \u001b[0;34m*\u001b[0m \u001b[0;36m0.08\u001b[0m\u001b[0;34m)\u001b[0m\u001b[0;34m\u001b[0m\u001b[0;34m\u001b[0m\u001b[0m\n\u001b[1;32m     16\u001b[0m         \u001b[0;32melse\u001b[0m\u001b[0;34m:\u001b[0m\u001b[0;34m\u001b[0m\u001b[0;34m\u001b[0m\u001b[0m\n\u001b[0;32m---> 17\u001b[0;31m             \u001b[0;32mraise\u001b[0m \u001b[0mTypeError\u001b[0m\u001b[0;34m(\u001b[0m\u001b[0;34m\"Invalid registraion_state value\"\u001b[0m\u001b[0;34m)\u001b[0m\u001b[0;34m\u001b[0m\u001b[0;34m\u001b[0m\u001b[0m\n\u001b[0m\u001b[1;32m     18\u001b[0m \u001b[0;34m\u001b[0m\u001b[0m\n\u001b[1;32m     19\u001b[0m \u001b[0;34m\u001b[0m\u001b[0m\n",
            "\u001b[0;31mTypeError\u001b[0m: Invalid registraion_state value"
          ]
        }
      ]
    },
    {
      "cell_type": "code",
      "source": [
        "# from dataclasses import dataclass\n",
        "\n",
        "# @dataclass\n",
        "# class Car:\n",
        "#     model: str\n",
        "#     price: float\n",
        "#     registraion_state: str\n",
        "\n",
        "#     def total_cost(self) -> float:\n",
        "#         match self.registraion_state:\n",
        "#             case \"OR\":\n",
        "#                 return  self.price + (self.price * 0.05)\n",
        "#             case \"WA\":\n",
        "#                 return  self.price + (self.price * 0.10)\n",
        "#             case \"CA\":\n",
        "#                 return  self.price + (self.price * 0.08)\n",
        "#             case _:\n",
        "#                 raise TypeError(\"Invalid registraion_state value\")\n",
        "\n",
        "\n",
        "# car1 = Car(model=\"RAV4\", price=30000, registraion_state=\"OR\")\n",
        "# car2 = Car(model=\"RAV4\", price=30000, registraion_state=\"WA\")\n",
        "# car3 = Car(model=\"RAV4\", price=30000, registraion_state=\"CA\")\n",
        "# car4 = Car(model=\"RAV4\", price=30000, registraion_state=\"NY\")"
      ],
      "metadata": {
        "id": "YmN5ik430ahk"
      },
      "execution_count": 4,
      "outputs": []
    },
    {
      "cell_type": "code",
      "source": [
        "# print(car1.total_cost())\n",
        "# print(car2.total_cost())\n",
        "# print(car3.total_cost())\n",
        "# print(car4.total_cost())"
      ],
      "metadata": {
        "colab": {
          "base_uri": "https://localhost:8080/"
        },
        "id": "NY2xThoT0fB8",
        "outputId": "2cb4b497-6af5-45c4-fb27-178ec068be70"
      },
      "execution_count": 5,
      "outputs": [
        {
          "output_type": "stream",
          "name": "stdout",
          "text": [
            "31500.0\n"
          ]
        }
      ]
    },
    {
      "cell_type": "code",
      "source": [
        "# from typing import Protocol\n",
        "\n",
        "\n",
        "# class Payment(Protocol):\n",
        "#     def pay(self):\n",
        "#         pass\n",
        "    \n",
        "# class Visa:\n",
        "#     def pay(self):\n",
        "#         print(\"paid with Visa\")\n",
        "\n",
        "# class MasterCard:\n",
        "#     def pay(self):\n",
        "#         print(\"paid with MasterCard\")\n",
        "\n",
        "# class Rupay:\n",
        "#     def pay(self):\n",
        "#         print(\"paid with Rupay\")\n",
        "\n",
        "# class Pytm:\n",
        "#     def pay(self):\n",
        "#         print(\"paid with Pytm\")\n",
        "# from typing import Protocol\n",
        "\n",
        "\n",
        "# class Payment(Protocol):\n",
        "#     def pay(self):\n",
        "#         pass\n",
        "    \n",
        "# class Visa:\n",
        "#     def pay(self):\n",
        "#         print(\"paid with Visa\")\n",
        "\n",
        "# class MasterCard:\n",
        "#     def pay(self):\n",
        "#         print(\"paid with MasterCard\")\n",
        "\n",
        "# class Rupay:\n",
        "#     def pay(self):\n",
        "#         print(\"paid with Rupay\")\n",
        "\n",
        "# class Pytm:\n",
        "#     def pay(self):\n",
        "#         print(\"paid with Pytm\")\n",
        "\n",
        "    \n",
        "# def MakePayment(payment_type:Payment):\n",
        "#     match payment_type:\n",
        "#         case Visa():\n",
        "#             payment_type.pay()\n",
        "#         case MasterCard():\n",
        "#             payment_type.pay()\n",
        "#         case Rupay():\n",
        "#             payment_type.pay()  \n",
        "#         case other_type:\n",
        "#             raise Exception(\"Invalid Payment type \")\n",
        "\n",
        "# def main():\n",
        "#     try:\n",
        "#         MakePayment(Visa())\n",
        "#         MakePayment(MasterCard())\n",
        "#         MakePayment(Rupay())\n",
        "#         MakePayment(Pyt())\n",
        "#     except NameError:\n",
        "#         print (\"Invalid Payment type \")\n",
        "\n",
        "# if __name__ == '__main__':\n",
        "#     main()"
      ],
      "metadata": {
        "id": "brXQ_pIQ0fH3"
      },
      "execution_count": 7,
      "outputs": []
    }
  ]
}