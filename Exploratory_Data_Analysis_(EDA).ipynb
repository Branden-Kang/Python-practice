{
  "nbformat": 4,
  "nbformat_minor": 0,
  "metadata": {
    "colab": {
      "name": "Exploratory Data Analysis (EDA).ipynb",
      "provenance": [],
      "collapsed_sections": [],
      "authorship_tag": "ABX9TyPajvY10SSg+qze3G8jpArW"
    },
    "kernelspec": {
      "name": "python3",
      "display_name": "Python 3"
    }
  },
  "cells": [
    {
      "cell_type": "markdown",
      "metadata": {
        "id": "jem0v4HIjw9Z",
        "colab_type": "text"
      },
      "source": [
        "# Exploratory Data Analysis (EDA)\n",
        "- [Reference](https://medium.com/analytics-vidhya/a-data-science-project-for-beginners-exploratory-data-analysis-eda-d334f58f94ee)"
      ]
    },
    {
      "cell_type": "code",
      "metadata": {
        "id": "e-1GuiHFjvpB",
        "colab_type": "code",
        "colab": {
          "base_uri": "https://localhost:8080/",
          "height": 71
        },
        "outputId": "32152951-0efe-4768-8b71-88fe7fa3069d"
      },
      "source": [
        "import pandas as pd \n",
        "from datetime import date\n",
        "import numpy as np\n",
        "import matplotlib.pyplot as plt\n",
        "import seaborn as sb"
      ],
      "execution_count": 1,
      "outputs": [
        {
          "output_type": "stream",
          "text": [
            "/usr/local/lib/python3.6/dist-packages/statsmodels/tools/_testing.py:19: FutureWarning: pandas.util.testing is deprecated. Use the functions in the public API at pandas.testing instead.\n",
            "  import pandas.util.testing as tm\n"
          ],
          "name": "stderr"
        }
      ]
    },
    {
      "cell_type": "code",
      "metadata": {
        "id": "Jv4R8pFQkRW7",
        "colab_type": "code",
        "colab": {
          "base_uri": "https://localhost:8080/",
          "height": 156
        },
        "outputId": "bf7fedcf-cd77-462a-deb7-d3840940bd4f"
      },
      "source": [
        "import os\n",
        "from google.colab import drive\n",
        "drive.mount('/content/gdrive',force_remount=True)\n",
        "!pwd\n",
        "os.chdir('gdrive/My Drive/Colab Notebooks/')\n",
        "!pwd"
      ],
      "execution_count": 2,
      "outputs": [
        {
          "output_type": "stream",
          "text": [
            "Go to this URL in a browser: https://accounts.google.com/o/oauth2/auth?client_id=947318989803-6bn6qk8qdgf4n4g3pfee6491hc0brc4i.apps.googleusercontent.com&redirect_uri=urn%3aietf%3awg%3aoauth%3a2.0%3aoob&response_type=code&scope=email%20https%3a%2f%2fwww.googleapis.com%2fauth%2fdocs.test%20https%3a%2f%2fwww.googleapis.com%2fauth%2fdrive%20https%3a%2f%2fwww.googleapis.com%2fauth%2fdrive.photos.readonly%20https%3a%2f%2fwww.googleapis.com%2fauth%2fpeopleapi.readonly\n",
            "\n",
            "Enter your authorization code:\n",
            "··········\n",
            "Mounted at /content/gdrive\n",
            "/content\n",
            "/content/gdrive/My Drive/Colab Notebooks\n"
          ],
          "name": "stdout"
        }
      ]
    },
    {
      "cell_type": "code",
      "metadata": {
        "id": "8-_X6bigj-HA",
        "colab_type": "code",
        "colab": {}
      },
      "source": [
        "data = pd.read_csv('./Walmart_Store_sales.csv')"
      ],
      "execution_count": 3,
      "outputs": []
    },
    {
      "cell_type": "code",
      "metadata": {
        "id": "EEuxJJ9JkCg-",
        "colab_type": "code",
        "colab": {
          "base_uri": "https://localhost:8080/",
          "height": 204
        },
        "outputId": "63574084-cb45-45e6-cb05-30d012a064ee"
      },
      "source": [
        "data.head()"
      ],
      "execution_count": 4,
      "outputs": [
        {
          "output_type": "execute_result",
          "data": {
            "text/html": [
              "<div>\n",
              "<style scoped>\n",
              "    .dataframe tbody tr th:only-of-type {\n",
              "        vertical-align: middle;\n",
              "    }\n",
              "\n",
              "    .dataframe tbody tr th {\n",
              "        vertical-align: top;\n",
              "    }\n",
              "\n",
              "    .dataframe thead th {\n",
              "        text-align: right;\n",
              "    }\n",
              "</style>\n",
              "<table border=\"1\" class=\"dataframe\">\n",
              "  <thead>\n",
              "    <tr style=\"text-align: right;\">\n",
              "      <th></th>\n",
              "      <th>Store</th>\n",
              "      <th>Date</th>\n",
              "      <th>Weekly_Sales</th>\n",
              "      <th>Holiday_Flag</th>\n",
              "      <th>Temperature</th>\n",
              "      <th>Fuel_Price</th>\n",
              "      <th>CPI</th>\n",
              "      <th>Unemployment</th>\n",
              "    </tr>\n",
              "  </thead>\n",
              "  <tbody>\n",
              "    <tr>\n",
              "      <th>0</th>\n",
              "      <td>1</td>\n",
              "      <td>05-02-2010</td>\n",
              "      <td>1643690.90</td>\n",
              "      <td>0</td>\n",
              "      <td>42.31</td>\n",
              "      <td>2.572</td>\n",
              "      <td>211.096358</td>\n",
              "      <td>8.106</td>\n",
              "    </tr>\n",
              "    <tr>\n",
              "      <th>1</th>\n",
              "      <td>1</td>\n",
              "      <td>12-02-2010</td>\n",
              "      <td>1641957.44</td>\n",
              "      <td>1</td>\n",
              "      <td>38.51</td>\n",
              "      <td>2.548</td>\n",
              "      <td>211.242170</td>\n",
              "      <td>8.106</td>\n",
              "    </tr>\n",
              "    <tr>\n",
              "      <th>2</th>\n",
              "      <td>1</td>\n",
              "      <td>19-02-2010</td>\n",
              "      <td>1611968.17</td>\n",
              "      <td>0</td>\n",
              "      <td>39.93</td>\n",
              "      <td>2.514</td>\n",
              "      <td>211.289143</td>\n",
              "      <td>8.106</td>\n",
              "    </tr>\n",
              "    <tr>\n",
              "      <th>3</th>\n",
              "      <td>1</td>\n",
              "      <td>26-02-2010</td>\n",
              "      <td>1409727.59</td>\n",
              "      <td>0</td>\n",
              "      <td>46.63</td>\n",
              "      <td>2.561</td>\n",
              "      <td>211.319643</td>\n",
              "      <td>8.106</td>\n",
              "    </tr>\n",
              "    <tr>\n",
              "      <th>4</th>\n",
              "      <td>1</td>\n",
              "      <td>05-03-2010</td>\n",
              "      <td>1554806.68</td>\n",
              "      <td>0</td>\n",
              "      <td>46.50</td>\n",
              "      <td>2.625</td>\n",
              "      <td>211.350143</td>\n",
              "      <td>8.106</td>\n",
              "    </tr>\n",
              "  </tbody>\n",
              "</table>\n",
              "</div>"
            ],
            "text/plain": [
              "   Store        Date  Weekly_Sales  ...  Fuel_Price         CPI  Unemployment\n",
              "0      1  05-02-2010    1643690.90  ...       2.572  211.096358         8.106\n",
              "1      1  12-02-2010    1641957.44  ...       2.548  211.242170         8.106\n",
              "2      1  19-02-2010    1611968.17  ...       2.514  211.289143         8.106\n",
              "3      1  26-02-2010    1409727.59  ...       2.561  211.319643         8.106\n",
              "4      1  05-03-2010    1554806.68  ...       2.625  211.350143         8.106\n",
              "\n",
              "[5 rows x 8 columns]"
            ]
          },
          "metadata": {
            "tags": []
          },
          "execution_count": 4
        }
      ]
    },
    {
      "cell_type": "code",
      "metadata": {
        "id": "EeGNuAUwkbRd",
        "colab_type": "code",
        "colab": {
          "base_uri": "https://localhost:8080/",
          "height": 272
        },
        "outputId": "b0b51ede-0224-4c2c-a3f6-bc5dc0f86f83"
      },
      "source": [
        "data.info()"
      ],
      "execution_count": 5,
      "outputs": [
        {
          "output_type": "stream",
          "text": [
            "<class 'pandas.core.frame.DataFrame'>\n",
            "RangeIndex: 6435 entries, 0 to 6434\n",
            "Data columns (total 8 columns):\n",
            " #   Column        Non-Null Count  Dtype  \n",
            "---  ------        --------------  -----  \n",
            " 0   Store         6435 non-null   int64  \n",
            " 1   Date          6435 non-null   object \n",
            " 2   Weekly_Sales  6435 non-null   float64\n",
            " 3   Holiday_Flag  6435 non-null   int64  \n",
            " 4   Temperature   6435 non-null   float64\n",
            " 5   Fuel_Price    6435 non-null   float64\n",
            " 6   CPI           6435 non-null   float64\n",
            " 7   Unemployment  6435 non-null   float64\n",
            "dtypes: float64(5), int64(2), object(1)\n",
            "memory usage: 402.3+ KB\n"
          ],
          "name": "stdout"
        }
      ]
    },
    {
      "cell_type": "code",
      "metadata": {
        "id": "2by0E-4kkczp",
        "colab_type": "code",
        "colab": {
          "base_uri": "https://localhost:8080/",
          "height": 170
        },
        "outputId": "6e9012f2-18aa-4afa-9759-eab5b677fb34"
      },
      "source": [
        "data.max()"
      ],
      "execution_count": 6,
      "outputs": [
        {
          "output_type": "execute_result",
          "data": {
            "text/plain": [
              "Store                    45\n",
              "Date             31-12-2010\n",
              "Weekly_Sales    3.81869e+06\n",
              "Holiday_Flag              1\n",
              "Temperature          100.14\n",
              "Fuel_Price            4.468\n",
              "CPI                 227.233\n",
              "Unemployment         14.313\n",
              "dtype: object"
            ]
          },
          "metadata": {
            "tags": []
          },
          "execution_count": 6
        }
      ]
    },
    {
      "cell_type": "markdown",
      "metadata": {
        "id": "BNEd-rvKkiKS",
        "colab_type": "text"
      },
      "source": [
        "## QUESTION 1 :- Which store has maximum sales in this dataset?"
      ]
    },
    {
      "cell_type": "code",
      "metadata": {
        "id": "g2eOTAsSkffz",
        "colab_type": "code",
        "colab": {
          "base_uri": "https://localhost:8080/",
          "height": 80
        },
        "outputId": "48aeb2a9-6a44-4349-b7df-15ffa170baf8"
      },
      "source": [
        "data.loc[data['Weekly_Sales'] ==  data['Weekly_Sales'].max()]"
      ],
      "execution_count": 7,
      "outputs": [
        {
          "output_type": "execute_result",
          "data": {
            "text/html": [
              "<div>\n",
              "<style scoped>\n",
              "    .dataframe tbody tr th:only-of-type {\n",
              "        vertical-align: middle;\n",
              "    }\n",
              "\n",
              "    .dataframe tbody tr th {\n",
              "        vertical-align: top;\n",
              "    }\n",
              "\n",
              "    .dataframe thead th {\n",
              "        text-align: right;\n",
              "    }\n",
              "</style>\n",
              "<table border=\"1\" class=\"dataframe\">\n",
              "  <thead>\n",
              "    <tr style=\"text-align: right;\">\n",
              "      <th></th>\n",
              "      <th>Store</th>\n",
              "      <th>Date</th>\n",
              "      <th>Weekly_Sales</th>\n",
              "      <th>Holiday_Flag</th>\n",
              "      <th>Temperature</th>\n",
              "      <th>Fuel_Price</th>\n",
              "      <th>CPI</th>\n",
              "      <th>Unemployment</th>\n",
              "    </tr>\n",
              "  </thead>\n",
              "  <tbody>\n",
              "    <tr>\n",
              "      <th>1905</th>\n",
              "      <td>14</td>\n",
              "      <td>24-12-2010</td>\n",
              "      <td>3818686.45</td>\n",
              "      <td>0</td>\n",
              "      <td>30.59</td>\n",
              "      <td>3.141</td>\n",
              "      <td>182.54459</td>\n",
              "      <td>8.724</td>\n",
              "    </tr>\n",
              "  </tbody>\n",
              "</table>\n",
              "</div>"
            ],
            "text/plain": [
              "      Store        Date  Weekly_Sales  ...  Fuel_Price        CPI  Unemployment\n",
              "1905     14  24-12-2010    3818686.45  ...       3.141  182.54459         8.724\n",
              "\n",
              "[1 rows x 8 columns]"
            ]
          },
          "metadata": {
            "tags": []
          },
          "execution_count": 7
        }
      ]
    },
    {
      "cell_type": "markdown",
      "metadata": {
        "id": "FQ2Q1nuhkmz_",
        "colab_type": "text"
      },
      "source": [
        "## QUESTION 2 :- Which store has maximum standard deviation i.e., the sales vary a lot. Also, find out the coefficient of variance (C0V)"
      ]
    },
    {
      "cell_type": "code",
      "metadata": {
        "id": "tTeDwj3XklOS",
        "colab_type": "code",
        "colab": {
          "base_uri": "https://localhost:8080/",
          "height": 111
        },
        "outputId": "ce466371-5665-48c2-a2f0-ac9b45dca226"
      },
      "source": [
        "#Here i am grouping by store and finding the standard deviation and mean of each store.\n",
        "maxstd=pd.DataFrame(data.groupby('Store').agg({'Weekly_Sales':['std','mean']}))\n",
        "#Just resetting the index.\n",
        "maxstd = maxstd.reset_index()\n",
        "#Now we know that CoV is std/ mean we are doing this for each store.\n",
        "maxstd['CoV'] =(maxstd[('Weekly_Sales','std')]/maxstd[('Weekly_Sales','mean')]) *100\n",
        "#finding the store with maximum standard deviation.\n",
        "maxstd.loc[maxstd[('Weekly_Sales','std')]==maxstd[('Weekly_Sales','std')].max()]"
      ],
      "execution_count": 8,
      "outputs": [
        {
          "output_type": "execute_result",
          "data": {
            "text/html": [
              "<div>\n",
              "<style scoped>\n",
              "    .dataframe tbody tr th:only-of-type {\n",
              "        vertical-align: middle;\n",
              "    }\n",
              "\n",
              "    .dataframe tbody tr th {\n",
              "        vertical-align: top;\n",
              "    }\n",
              "\n",
              "    .dataframe thead tr th {\n",
              "        text-align: left;\n",
              "    }\n",
              "</style>\n",
              "<table border=\"1\" class=\"dataframe\">\n",
              "  <thead>\n",
              "    <tr>\n",
              "      <th></th>\n",
              "      <th>Store</th>\n",
              "      <th colspan=\"2\" halign=\"left\">Weekly_Sales</th>\n",
              "      <th>CoV</th>\n",
              "    </tr>\n",
              "    <tr>\n",
              "      <th></th>\n",
              "      <th></th>\n",
              "      <th>std</th>\n",
              "      <th>mean</th>\n",
              "      <th></th>\n",
              "    </tr>\n",
              "  </thead>\n",
              "  <tbody>\n",
              "    <tr>\n",
              "      <th>13</th>\n",
              "      <td>14</td>\n",
              "      <td>317569.949476</td>\n",
              "      <td>2.020978e+06</td>\n",
              "      <td>15.713674</td>\n",
              "    </tr>\n",
              "  </tbody>\n",
              "</table>\n",
              "</div>"
            ],
            "text/plain": [
              "   Store   Weekly_Sales                      CoV\n",
              "                    std          mean           \n",
              "13    14  317569.949476  2.020978e+06  15.713674"
            ]
          },
          "metadata": {
            "tags": []
          },
          "execution_count": 8
        }
      ]
    },
    {
      "cell_type": "markdown",
      "metadata": {
        "id": "e9Cm4dDjksXj",
        "colab_type": "text"
      },
      "source": [
        "## QUESTION 3 :- Which store/s has good quarterly growth rate in Q3’2012."
      ]
    },
    {
      "cell_type": "code",
      "metadata": {
        "id": "cqF8cjT6kryj",
        "colab_type": "code",
        "colab": {}
      },
      "source": [
        "#Converting the data type of date column to dateTime \n",
        "data['Date'] = pd.to_datetime(data['Date'])\n",
        "#defining the start and end date of Q3 and Q2\n",
        "Q3_date_from = pd.Timestamp(date(2012,7,1))\n",
        "Q3_date_to = pd.Timestamp(date(2012,9,30))\n",
        "Q2_date_from = pd.Timestamp(date(2012,4,1))\n",
        "Q2_date_to = pd.Timestamp(date(2012,6,30))\n",
        "#Collecting the data of Q3 and Q2 from original dataset.\n",
        "Q2data=data[(data['Date'] > Q2_date_from) & (data['Date'] < Q2_date_to)]\n",
        "Q3data=data[(data['Date'] > Q3_date_from) & (data['Date'] < Q3_date_to)]\n",
        "#finding the sum weekly sales of each store in Q2\n",
        "Q2 = pd.DataFrame(Q2data.groupby('Store')['Weekly_Sales'].sum())\n",
        "Q2.reset_index(inplace=True)\n",
        "Q2.rename(columns={'Weekly_Sales': 'Q2_Weekly_Sales'},inplace=True)\n",
        "#finding the sum weekly sales of each store in Q2\n",
        "Q3 = pd.DataFrame(Q3data.groupby('Store')['Weekly_Sales'].sum())\n",
        "Q3.reset_index(inplace=True)\n",
        "Q3.rename(columns={'Weekly_Sales': 'Q3_Weekly_Sales'},inplace=True)\n",
        "#mergeing Q2 and Q3 data on Store as a common column\n",
        "Q3_Growth= Q2.merge(Q3,how='inner',on='Store')"
      ],
      "execution_count": 9,
      "outputs": []
    },
    {
      "cell_type": "code",
      "metadata": {
        "id": "rouoDdMCkvD-",
        "colab_type": "code",
        "colab": {
          "base_uri": "https://localhost:8080/",
          "height": 80
        },
        "outputId": "6226c27e-d9f8-490d-a4be-bb53fd71f424"
      },
      "source": [
        "#Calculating Growth rate of each Store and collecting it into a dataframe  \n",
        "Q3_Growth['Growth_Rate'] =(Q3_Growth['Q3_Weekly_Sales'] - Q3_Growth['Q2_Weekly_Sales'])/Q3_Growth['Q2_Weekly_Sales']\n",
        "Q3_Growth['Growth_Rate']=round(Q3_Growth['Growth_Rate'],2)\n",
        "Q3_Growth.sort_values('Growth_Rate',ascending=False).head(1)"
      ],
      "execution_count": 10,
      "outputs": [
        {
          "output_type": "execute_result",
          "data": {
            "text/html": [
              "<div>\n",
              "<style scoped>\n",
              "    .dataframe tbody tr th:only-of-type {\n",
              "        vertical-align: middle;\n",
              "    }\n",
              "\n",
              "    .dataframe tbody tr th {\n",
              "        vertical-align: top;\n",
              "    }\n",
              "\n",
              "    .dataframe thead th {\n",
              "        text-align: right;\n",
              "    }\n",
              "</style>\n",
              "<table border=\"1\" class=\"dataframe\">\n",
              "  <thead>\n",
              "    <tr style=\"text-align: right;\">\n",
              "      <th></th>\n",
              "      <th>Store</th>\n",
              "      <th>Q2_Weekly_Sales</th>\n",
              "      <th>Q3_Weekly_Sales</th>\n",
              "      <th>Growth_Rate</th>\n",
              "    </tr>\n",
              "  </thead>\n",
              "  <tbody>\n",
              "    <tr>\n",
              "      <th>15</th>\n",
              "      <td>16</td>\n",
              "      <td>6626133.44</td>\n",
              "      <td>6441311.11</td>\n",
              "      <td>-0.03</td>\n",
              "    </tr>\n",
              "  </tbody>\n",
              "</table>\n",
              "</div>"
            ],
            "text/plain": [
              "    Store  Q2_Weekly_Sales  Q3_Weekly_Sales  Growth_Rate\n",
              "15     16       6626133.44       6441311.11        -0.03"
            ]
          },
          "metadata": {
            "tags": []
          },
          "execution_count": 10
        }
      ]
    },
    {
      "cell_type": "code",
      "metadata": {
        "id": "c1Z7fLeAkxt7",
        "colab_type": "code",
        "colab": {
          "base_uri": "https://localhost:8080/",
          "height": 80
        },
        "outputId": "1f9e4b38-3a3c-4cc8-b393-115521f32ed0"
      },
      "source": [
        "Q3_Growth.sort_values('Growth_Rate',ascending=False).tail(1)"
      ],
      "execution_count": 11,
      "outputs": [
        {
          "output_type": "execute_result",
          "data": {
            "text/html": [
              "<div>\n",
              "<style scoped>\n",
              "    .dataframe tbody tr th:only-of-type {\n",
              "        vertical-align: middle;\n",
              "    }\n",
              "\n",
              "    .dataframe tbody tr th {\n",
              "        vertical-align: top;\n",
              "    }\n",
              "\n",
              "    .dataframe thead th {\n",
              "        text-align: right;\n",
              "    }\n",
              "</style>\n",
              "<table border=\"1\" class=\"dataframe\">\n",
              "  <thead>\n",
              "    <tr style=\"text-align: right;\">\n",
              "      <th></th>\n",
              "      <th>Store</th>\n",
              "      <th>Q2_Weekly_Sales</th>\n",
              "      <th>Q3_Weekly_Sales</th>\n",
              "      <th>Growth_Rate</th>\n",
              "    </tr>\n",
              "  </thead>\n",
              "  <tbody>\n",
              "    <tr>\n",
              "      <th>13</th>\n",
              "      <td>14</td>\n",
              "      <td>24427769.06</td>\n",
              "      <td>20140430.4</td>\n",
              "      <td>-0.18</td>\n",
              "    </tr>\n",
              "  </tbody>\n",
              "</table>\n",
              "</div>"
            ],
            "text/plain": [
              "    Store  Q2_Weekly_Sales  Q3_Weekly_Sales  Growth_Rate\n",
              "13     14      24427769.06       20140430.4        -0.18"
            ]
          },
          "metadata": {
            "tags": []
          },
          "execution_count": 11
        }
      ]
    },
    {
      "cell_type": "markdown",
      "metadata": {
        "id": "6BHcDMgok04S",
        "colab_type": "text"
      },
      "source": [
        "## QUESTION 4:- Some holidays have a negative impact on sales. Find out holidays which have higher sales than the mean sales in non-holiday season for all stores together."
      ]
    },
    {
      "cell_type": "code",
      "metadata": {
        "id": "q3lmseqtkzWJ",
        "colab_type": "code",
        "colab": {
          "base_uri": "https://localhost:8080/",
          "height": 85
        },
        "outputId": "aa68bdeb-1e5f-447c-ed83-c26a41750de5"
      },
      "source": [
        "data.groupby('Holiday_Flag')['Weekly_Sales'].mean()"
      ],
      "execution_count": 12,
      "outputs": [
        {
          "output_type": "execute_result",
          "data": {
            "text/plain": [
              "Holiday_Flag\n",
              "0    1.041256e+06\n",
              "1    1.122888e+06\n",
              "Name: Weekly_Sales, dtype: float64"
            ]
          },
          "metadata": {
            "tags": []
          },
          "execution_count": 12
        }
      ]
    },
    {
      "cell_type": "code",
      "metadata": {
        "id": "89uQbJ48k3FY",
        "colab_type": "code",
        "colab": {
          "base_uri": "https://localhost:8080/",
          "height": 102
        },
        "outputId": "ce3284b4-17dc-4f14-97d9-9375859abc74"
      },
      "source": [
        "#marking the holiday dates \n",
        "Christmas1 = pd.Timestamp(date(2010,12,31) )\n",
        "Christmas2 = pd.Timestamp(date(2011,12,30) )\n",
        "Christmas3 = pd.Timestamp(date(2012,12,28) )\n",
        "Christmas4 = pd.Timestamp(date(2013,12,27) )\n",
        "\n",
        "Thanksgiving1=pd.Timestamp(date(2010,11,26) )\n",
        "Thanksgiving2=pd.Timestamp(date(2011,11,25) )\n",
        "Thanksgiving3=pd.Timestamp(date(2012,11,23) )\n",
        "Thanksgiving4=pd.Timestamp(date(2013,11,29) )\n",
        "\n",
        "LabourDay1=pd.Timestamp(date(2010,2,10) )\n",
        "LabourDay2=pd.Timestamp(date(2011,2,9) )\n",
        "LabourDay3=pd.Timestamp(date(2012,2,7) )\n",
        "LabourDay4=pd.Timestamp(date(2013,2,6) )\n",
        "\n",
        "SuperBowl1=pd.Timestamp(date(2010,9,12) )\n",
        "SuperBowl2=pd.Timestamp(date(2011,9,11) )\n",
        "SuperBowl3=pd.Timestamp(date(2012,9,10) )\n",
        "SuperBowl4=pd.Timestamp(date(2013,9,8) )\n",
        "\n",
        "#Calculating the mean sales during the holidays\n",
        "Christmas_mean_sales=data[(data['Date'] == Christmas1) | (data['Date'] == Christmas2) | (data['Date'] == Christmas3) | (data['Date'] == Christmas4)]\n",
        "Thanksgiving_mean_sales=data[(data['Date'] == Thanksgiving1) | (data['Date'] == Thanksgiving2) | (data['Date'] == Thanksgiving3) | (data['Date'] == Thanksgiving4)]\n",
        "LabourDay_mean_sales=data[(data['Date'] == LabourDay1) | (data['Date'] == LabourDay2) | (data['Date'] == LabourDay3) | (data['Date'] == LabourDay4)]\n",
        "SuperBowl_mean_sales=data[(data['Date'] == SuperBowl1) | (data['Date'] == SuperBowl2) | (data['Date'] == SuperBowl3) | (data['Date'] == SuperBowl4)]\n",
        "#\n",
        "list_of_mean_sales = {'Christmas_mean_sales' : round(Christmas_mean_sales['Weekly_Sales'].mean(),2),\n",
        "'Thanksgiving_mean_sales': round(Thanksgiving_mean_sales['Weekly_Sales'].mean(),2),\n",
        "'LabourDay_mean_sales' : round(LabourDay_mean_sales['Weekly_Sales'].mean(),2),\n",
        "'SuperBowl_mean_sales':round(SuperBowl_mean_sales['Weekly_Sales'].mean(),2),\n",
        "'Non holiday weekly sales' : data[data['Holiday_Flag'] == 0 ]['Weekly_Sales'].mean()}\n",
        "list_of_mean_sales"
      ],
      "execution_count": 13,
      "outputs": [
        {
          "output_type": "execute_result",
          "data": {
            "text/plain": [
              "{'Christmas_mean_sales': 960833.11,\n",
              " 'LabourDay_mean_sales': 1008369.41,\n",
              " 'Non holiday weekly sales': 1041256.3802088564,\n",
              " 'SuperBowl_mean_sales': nan,\n",
              " 'Thanksgiving_mean_sales': 1471273.43}"
            ]
          },
          "metadata": {
            "tags": []
          },
          "execution_count": 13
        }
      ]
    },
    {
      "cell_type": "markdown",
      "metadata": {
        "id": "vQGVVqNGk7JB",
        "colab_type": "text"
      },
      "source": [
        "## QUESTION 5 :-Provide a Monthly,Quaterly and Semester view of sales in units and give insights."
      ]
    },
    {
      "cell_type": "code",
      "metadata": {
        "id": "QWwRE1IUk5Tz",
        "colab_type": "code",
        "colab": {
          "base_uri": "https://localhost:8080/",
          "height": 1000
        },
        "outputId": "e8a2fbfe-1028-4086-ffb0-3df879b7823f"
      },
      "source": [
        "#Monthly sales \n",
        "monthly = data.groupby(pd.Grouper(key='Date', freq='1M')).sum()# groupby each 1 month\n",
        "monthly=monthly.reset_index()\n",
        "fig, ax = plt.subplots(figsize=(10,8))\n",
        "X = monthly['Date']\n",
        "Y = monthly['Weekly_Sales']\n",
        "plt.plot(X,Y)\n",
        "plt.title('Month Wise Sales')\n",
        "plt.xlabel('Monthly')\n",
        "plt.ylabel('Weekly_Sales')\n",
        "#Quaterly Sales \n",
        "Quaterly = data.groupby(pd.Grouper(key='Date', freq='3M')).sum()\n",
        "Quaterly = Quaterly.reset_index()\n",
        "fig, ax = plt.subplots(figsize=(10,8))\n",
        "X = Quaterly['Date']\n",
        "Y = Quaterly['Weekly_Sales']\n",
        "plt.plot(X,Y)\n",
        "plt.title('Quaterly Wise Sales')\n",
        "plt.xlabel('Quaterly')\n",
        "plt.ylabel('Weekly_Sales')\n",
        "#Semester Sales \n",
        "Semester = data.groupby(pd.Grouper(key='Date', freq='6M')).sum()\n",
        "Semester = Semester.reset_index()\n",
        "fig, ax = plt.subplots(figsize=(10,8))\n",
        "X = Semester['Date']\n",
        "Y = Semester['Weekly_Sales']\n",
        "plt.plot(X,Y)\n",
        "plt.title('Semester Wise Sales')\n",
        "plt.xlabel('Semester')\n",
        "plt.ylabel('Weekly_Sales')"
      ],
      "execution_count": 14,
      "outputs": [
        {
          "output_type": "execute_result",
          "data": {
            "text/plain": [
              "Text(0, 0.5, 'Weekly_Sales')"
            ]
          },
          "metadata": {
            "tags": []
          },
          "execution_count": 14
        },
        {
          "output_type": "display_data",
          "data": {
            "image/png": "[encoded data removed]",
            "text/plain": [
              "<Figure size 720x576 with 1 Axes>"
            ]
          },
          "metadata": {
            "tags": [],
            "needs_background": "light"
          }
        },
        {
          "output_type": "display_data",
          "data": {
            "image/png": "[encoded data removed]",
            "text/plain": [
              "<Figure size 720x576 with 1 Axes>"
            ]
          },
          "metadata": {
            "tags": [],
            "needs_background": "light"
          }
        },
        {
          "output_type": "display_data",
          "data": {
            "image/png": "[encoded data removed]",
            "text/plain": [
              "<Figure size 720x576 with 1 Axes>"
            ]
          },
          "metadata": {
            "tags": [],
            "needs_background": "light"
          }
        }
      ]
    }
  ]
}