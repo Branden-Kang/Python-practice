{
  "nbformat": 4,
  "nbformat_minor": 0,
  "metadata": {
    "colab": {
      "provenance": [],
      "authorship_tag": "ABX9TyOClXT9nmWcYp0V9+UIXIAh"
    },
    "kernelspec": {
      "name": "python3",
      "display_name": "Python 3"
    },
    "language_info": {
      "name": "python"
    }
  },
  "cells": [
    {
      "cell_type": "markdown",
      "source": [
        "[Reference](https://medium.com/@petefison/logging-in-python-doesnt-get-simpler-than-this-50a7f24af1f4)"
      ],
      "metadata": {
        "id": "XHhWXDY04e6V"
      }
    },
    {
      "cell_type": "code",
      "execution_count": 1,
      "metadata": {
        "colab": {
          "base_uri": "https://localhost:8080/"
        },
        "id": "2VYyKfMX3fG4",
        "outputId": "0df4e969-1b13-4b2d-d191-41fe0d2d4458"
      },
      "outputs": [
        {
          "output_type": "stream",
          "name": "stdout",
          "text": [
            "Looking in indexes: https://pypi.org/simple, https://us-python.pkg.dev/colab-wheels/public/simple/\n",
            "Collecting log2d\n",
            "  Downloading log2d-0.0.6.tar.gz (7.2 kB)\n",
            "Collecting cleverdict\n",
            "  Downloading cleverdict-1.9.2.tar.gz (41 kB)\n",
            "\u001b[K     |████████████████████████████████| 41 kB 106 kB/s \n",
            "\u001b[?25hBuilding wheels for collected packages: log2d, cleverdict\n",
            "  Building wheel for log2d (setup.py) ... \u001b[?25l\u001b[?25hdone\n",
            "  Created wheel for log2d: filename=log2d-0.0.6-py3-none-any.whl size=7190 sha256=01c7fffc6a1e89a2e9970aa2436affa5ac153c12bd739d4a8b8cd5b6b9cf7fbc\n",
            "  Stored in directory: /root/.cache/pip/wheels/24/50/e3/c903bfa1e5631082dd167f9958823976f04291cc7c32050316\n",
            "  Building wheel for cleverdict (setup.py) ... \u001b[?25l\u001b[?25hdone\n",
            "  Created wheel for cleverdict: filename=cleverdict-1.9.2-py3-none-any.whl size=33054 sha256=bc2ba4d8f347ca6470adfc69ea63854bc3387bde0f77a41c21dd6a52ee5c8303\n",
            "  Stored in directory: /root/.cache/pip/wheels/24/2d/97/65c64ad427b702de52107071484c847c8a84fc47056d8da4fc\n",
            "Successfully built log2d cleverdict\n",
            "Installing collected packages: cleverdict, log2d\n",
            "Successfully installed cleverdict-1.9.2 log2d-0.0.6\n"
          ]
        }
      ],
      "source": [
        "!python -m pip install log2d"
      ]
    },
    {
      "cell_type": "code",
      "source": [
        "from log2d import Log\n",
        "log = Log(\"my_log\")\n",
        "log(\"This is all you need to do\")"
      ],
      "metadata": {
        "colab": {
          "base_uri": "https://localhost:8080/"
        },
        "id": "YA9nnQa_3jDH",
        "outputId": "adb93c52-8930-45b8-c496-550849d06991"
      },
      "execution_count": 2,
      "outputs": [
        {
          "output_type": "stream",
          "name": "stdout",
          "text": [
            "my_log|DEBUG  |2022-10-03T08:02:55+0000|This is all you need to do\n"
          ]
        },
        {
          "output_type": "stream",
          "name": "stderr",
          "text": [
            "DEBUG:my_log:This is all you need to do\n"
          ]
        }
      ]
    },
    {
      "cell_type": "code",
      "source": [
        "from log2d import Log\n",
        "Log(\"root\")"
      ],
      "metadata": {
        "colab": {
          "base_uri": "https://localhost:8080/"
        },
        "id": "ntiidJ9V3o0H",
        "outputId": "ea075261-4491-4503-82f2-52dff2735720"
      },
      "execution_count": 3,
      "outputs": [
        {
          "output_type": "execute_result",
          "data": {
            "text/plain": [
              "<log2d.Log at 0x7f8bd0d8f590>"
            ]
          },
          "metadata": {},
          "execution_count": 3
        }
      ]
    },
    {
      "cell_type": "code",
      "source": [
        "Log.root.warning(\"Danger, Will Robinson!\")"
      ],
      "metadata": {
        "colab": {
          "base_uri": "https://localhost:8080/"
        },
        "id": "i61PdaKS4OHe",
        "outputId": "3921680d-e1d0-409d-8fc0-36f0fb1e5591"
      },
      "execution_count": 4,
      "outputs": [
        {
          "output_type": "stream",
          "name": "stdout",
          "text": [
            "root|WARNING|2022-10-03T08:05:33+0000|Danger, Will Robinson!\n"
          ]
        },
        {
          "output_type": "stream",
          "name": "stderr",
          "text": [
            "WARNING:root:Danger, Will Robinson!\n"
          ]
        }
      ]
    },
    {
      "cell_type": "code",
      "source": [
        "Log.root.info(\"Will Robinson informed of danger.\")"
      ],
      "metadata": {
        "colab": {
          "base_uri": "https://localhost:8080/"
        },
        "id": "2rRSzQs54PEp",
        "outputId": "41768ba2-db20-400c-b9d8-c552e703dabb"
      },
      "execution_count": 5,
      "outputs": [
        {
          "output_type": "stream",
          "name": "stdout",
          "text": [
            "root|INFO   |2022-10-03T08:05:35+0000|Will Robinson informed of danger.\n"
          ]
        },
        {
          "output_type": "stream",
          "name": "stderr",
          "text": [
            "INFO:root:Will Robinson informed of danger.\n"
          ]
        }
      ]
    },
    {
      "cell_type": "code",
      "source": [
        "failures = Log(\"failures\")\n",
        "failures(\"Add your failure message here\")"
      ],
      "metadata": {
        "colab": {
          "base_uri": "https://localhost:8080/"
        },
        "id": "XCY0fw2V4QTb",
        "outputId": "d27a9253-074a-492d-faf1-32f87d7b061a"
      },
      "execution_count": 7,
      "outputs": [
        {
          "output_type": "stream",
          "name": "stdout",
          "text": [
            "failures|DEBUG  |2022-10-03T08:05:50+0000|Add your failure message here\n"
          ]
        },
        {
          "output_type": "stream",
          "name": "stderr",
          "text": [
            "DEBUG:failures:Add your failure message here\n"
          ]
        }
      ]
    }
  ]
}