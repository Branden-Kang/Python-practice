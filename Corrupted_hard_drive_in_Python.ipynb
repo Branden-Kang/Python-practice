{
  "nbformat": 4,
  "nbformat_minor": 0,
  "metadata": {
    "colab": {
      "name": "Corrupted hard drive in Python.ipynb",
      "provenance": [],
      "authorship_tag": "ABX9TyMyDzji3lkIdzVFTvjt9qE2"
    },
    "kernelspec": {
      "name": "python3",
      "display_name": "Python 3"
    },
    "language_info": {
      "name": "python"
    }
  },
  "cells": [
    {
      "cell_type": "markdown",
      "source": [
        "[Reference](https://gecheline.medium.com/corrupted-hard-drive-python-to-the-rescue-6feb2a9e0422)"
      ],
      "metadata": {
        "id": "W1ONNRxqtxVS"
      }
    },
    {
      "cell_type": "markdown",
      "source": [
        "# 1. Reproduce the directory tree in a backup iCloud directory\n"
      ],
      "metadata": {
        "id": "XnCuJ5RSt3iK"
      }
    },
    {
      "cell_type": "code",
      "execution_count": 1,
      "metadata": {
        "id": "NRz4yHKTtXaT"
      },
      "outputs": [],
      "source": [
        "import os\n",
        "hd_folder = '/Volumes/CorruptedDrive/'\n",
        "dest_folder = '/where/I/want/the/backup/to/go'\n",
        "# if only a subset of the folders is actually important\n",
        "# save time by only backing those up\n",
        "important_folders = ['Completed Songs', 'Sound Effects', 'WIPs']\n",
        "os.mkdir(dest_folder)\n",
        "individual_files = []\n",
        "for folder in important_folders:\n",
        "    print('NOW WALKING %s' % folder)\n",
        "    for root, dirs, files in os.walk(hd_folder+folder):\n",
        "        make_dir(root, hd_folder, dest_folder)\n",
        "        for f in files:\n",
        "            individual_files.append(root+'/'+f)"
      ]
    },
    {
      "cell_type": "code",
      "source": [
        "import numpy as np\n",
        "np.savetxt('individual_files.txt', np.array(individual_files), fmt='%s')"
      ],
      "metadata": {
        "id": "UQwf82THt0c6"
      },
      "execution_count": 2,
      "outputs": []
    },
    {
      "cell_type": "markdown",
      "source": [
        "# 2. Copy each individual file to its sibling location on iCloud\n"
      ],
      "metadata": {
        "id": "SyMRJaTot6OT"
      }
    },
    {
      "cell_type": "code",
      "source": [
        "files = np.loadtxt('individual_files.txt', delimiter='\\n', dtype='str')\n",
        "for file in files:\n",
        "    newfile = file.replace(hd_folder, dest_folder)\n",
        "    flist = newfile.split('/')\n",
        "    # the loop below checks whether directories exist at all depths available from the filename\n",
        "    for i in range(2,len(flist)):\n",
        "        print('/'.join(flist[0:i]), os.path.isdir('/'.join(flist[0:i])))\n",
        "        if os.path.isdir('/'.join(flist[0:i])):\n",
        "            pass\n",
        "        else:\n",
        "            os.mkdir('/'.join(flist[0:i]))"
      ],
      "metadata": {
        "id": "cJNYWXYBt2BF"
      },
      "execution_count": 3,
      "outputs": []
    },
    {
      "cell_type": "code",
      "source": [
        "# extra code needed for raising the TimeOutException and copying\n",
        "import signal\n",
        "import time\n",
        " \n",
        "class TimeOutException(Exception):\n",
        "   pass\n",
        " \n",
        "def alarm_handler(signum, frame):\n",
        "    print(\"ALARM signal received\")\n",
        "    raise TimeOutException()\n",
        " \n",
        "def copy_file(filename, root_dir, dest_dir):\n",
        "    newfile = filename.replace(root_dir, dest_dir)\n",
        "    shutil.copy2(filename, newfile)\n",
        "    time.sleep(1)\n",
        " \n",
        "signal.signal(signal.SIGALRM, alarm_handler)\n",
        "signal.alarm(300) # I give each file 5 minutes before timeout"
      ],
      "metadata": {
        "id": "gsdKm1V4t8OO"
      },
      "execution_count": 4,
      "outputs": []
    },
    {
      "cell_type": "code",
      "source": [
        "import shutil\n",
        "flags = np.zeros(len(files))\n",
        "i = 0 # keeps track of file list progress\n",
        "j = 0 # keeps count of consecutive file not found issues\n",
        "while i < len(files):\n",
        "    print('COPYING %s [%s/%s]' % (files[i], i, len(files)))\n",
        "    if flags[i] == 1 or os.path.exists(files[i].replace(hd_folder, dest_folder)):\n",
        "        print('File exists, skipping!')\n",
        "        flags[i] = 1\n",
        "        i+=1\n",
        "    else:\n",
        "        try:\n",
        "            copy_file(files[i], hd_folder, dest_folder)\n",
        "            flags[i] = 1\n",
        "            i+=1\n",
        "            j=0 # reset counter\n",
        "        except FileNotFoundError:\n",
        "            if j > 1:\n",
        "                print('File really not found, aborting.')\n",
        "                flags[i] = -1\n",
        "                i += 1\n",
        "                j = 0 # reset counter\n",
        "            else:\n",
        "                print('File not found, retrying %s/2...' % str(j+1))\n",
        "                time.sleep(120)\n",
        "                i = i\n",
        "                j += 1\n",
        "        except IOError:\n",
        "            print('I/O error, aborting')\n",
        "            flags[i] = -2\n",
        "            i += 1\n",
        "        except TimeOutException:\n",
        "            print('Timeout, aborting')\n",
        "            flags[i] = -3\n",
        "            i += 1\n",
        "            signal.alarm(0)\n",
        "        except Exception as ex:\n",
        "            print(ex)\n",
        "            flags[i] = -999\n",
        "            i += 1 \n",
        "        finally:\n",
        "            signal.alarm(300)"
      ],
      "metadata": {
        "id": "MkOhwzxKt9m6"
      },
      "execution_count": 5,
      "outputs": []
    }
  ]
}