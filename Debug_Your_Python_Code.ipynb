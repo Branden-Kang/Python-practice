{
  "nbformat": 4,
  "nbformat_minor": 0,
  "metadata": {
    "colab": {
      "name": "Debug Your Python Code.ipynb",
      "provenance": [],
      "authorship_tag": "ABX9TyPbzCAMfyKZIxy8AM3qZLfK"
    },
    "kernelspec": {
      "name": "python3",
      "display_name": "Python 3"
    }
  },
  "cells": [
    {
      "cell_type": "markdown",
      "metadata": {
        "id": "QitNsm64ixfV",
        "colab_type": "text"
      },
      "source": [
        "[Reference](https://medium.com/better-programming/stop-using-print-to-debug-your-python-code-2ace9217f501)"
      ]
    },
    {
      "cell_type": "code",
      "metadata": {
        "id": "OkvhfnXKivVV",
        "colab_type": "code",
        "colab": {}
      },
      "source": [
        "import logging\n",
        "logging.basicConfig(level=logging.DEBUG, format='%(asctime)s - %(name)s - %(levelname)s - %(message)s', filename='myFirstLog.log')"
      ],
      "execution_count": 19,
      "outputs": []
    },
    {
      "cell_type": "code",
      "metadata": {
        "id": "Iqe1gmNzi0Y_",
        "colab_type": "code",
        "colab": {}
      },
      "source": [
        "class weightlifting:\n",
        "\n",
        "    def __init__(self):\n",
        "        self.woman_barbell = 15\n",
        "        self.man_barbell = 20\n",
        "        self.gender = \"F\"\n",
        "        self.total_weight = 0\n",
        "\n",
        "    def genderBarbell(self):\n",
        "        if self.gender.upper() == \"F\":\n",
        "            self.barbell = self.woman_barbell\n",
        "            logging.debug(\"You're a woman\")\n",
        "        else:\n",
        "            self.barbell = self.man_barbell\n",
        "            logging.debug(\"You're a man\")\n",
        "        logging.info(\"Your barbell's weight is %s\", self.barbell)\n",
        "        self.total_weight = self.barbell\n",
        "\n",
        "    def addWeight(self, add):\n",
        "        try:\n",
        "            self.barbell\n",
        "            self.total_weight += add\n",
        "            logging.info(\"Your barbell is now %s\", self.total_weight)\n",
        "        except:\n",
        "            logging.error(\"You forgot to init your barbell, please call genderBarbell function first !\")\n",
        "\n",
        "\n",
        "    def cleanAndJerk(self):\n",
        "        if self.total_weight > 0:\n",
        "            if self.gender == \"F\" and self.total_weight < 80:\n",
        "                logging.info(\"Congrats, you've jerked %s easily\", self.total_weight)\n",
        "                return\n",
        "            if self.gender == \"M\" and self.total_weight < 100:\n",
        "                logging.info(\"Congrats, you've jerked %s easily\", self.total_weight)\n",
        "                return\n",
        "            logging.error(\"Weight is too high for you ! Decrease weight even if there is no function for that because it is a tutorial !\")\n",
        "            return\n",
        "        else:\n",
        "            logging.error(\"Cannot clean and jerk here, please init your barbell, please call genderBarbell function first !\")"
      ],
      "execution_count": 20,
      "outputs": []
    },
    {
      "cell_type": "code",
      "metadata": {
        "id": "TBJ2HR4Hi3Rw",
        "colab_type": "code",
        "colab": {}
      },
      "source": [
        "c = weightlifting()"
      ],
      "execution_count": 22,
      "outputs": []
    },
    {
      "cell_type": "code",
      "metadata": {
        "id": "DGSrp2LRjNua",
        "colab_type": "code",
        "colab": {}
      },
      "source": [
        "c.genderBarbell()"
      ],
      "execution_count": 23,
      "outputs": []
    },
    {
      "cell_type": "code",
      "metadata": {
        "id": "-gZDp8GekLGx",
        "colab_type": "code",
        "colab": {}
      },
      "source": [
        "c.addWeight(20)"
      ],
      "execution_count": 24,
      "outputs": []
    },
    {
      "cell_type": "code",
      "metadata": {
        "id": "6vl5mMhhjKO4",
        "colab_type": "code",
        "colab": {}
      },
      "source": [
        "c.cleanAndJerk()"
      ],
      "execution_count": 25,
      "outputs": []
    },
    {
      "cell_type": "code",
      "metadata": {
        "id": "Dx8LXxDRi4Hp",
        "colab_type": "code",
        "colab": {}
      },
      "source": [
        "d = weightlifting()"
      ],
      "execution_count": 26,
      "outputs": []
    },
    {
      "cell_type": "code",
      "metadata": {
        "id": "PNYBc6Bbi5L-",
        "colab_type": "code",
        "colab": {}
      },
      "source": [
        "d.addWeight(30)"
      ],
      "execution_count": 27,
      "outputs": []
    },
    {
      "cell_type": "code",
      "metadata": {
        "id": "a7YAZHt4-4-r",
        "colab_type": "code",
        "colab": {}
      },
      "source": [
        "d.cleanAndJerk()"
      ],
      "execution_count": 28,
      "outputs": []
    },
    {
      "cell_type": "markdown",
      "metadata": {
        "id": "MHd9exEm_C7I",
        "colab_type": "text"
      },
      "source": [
        ""
      ]
    },
    {
      "cell_type": "code",
      "metadata": {
        "id": "5Pb9hLN2-5zr",
        "colab_type": "code",
        "colab": {}
      },
      "source": [
        "e = weightlifting()"
      ],
      "execution_count": 29,
      "outputs": []
    },
    {
      "cell_type": "code",
      "metadata": {
        "id": "3hkNWum8-6m_",
        "colab_type": "code",
        "colab": {}
      },
      "source": [
        "e.gender = \"M\""
      ],
      "execution_count": 30,
      "outputs": []
    },
    {
      "cell_type": "code",
      "metadata": {
        "id": "0fEkVIIs-7V5",
        "colab_type": "code",
        "colab": {}
      },
      "source": [
        "e.genderBarbell()"
      ],
      "execution_count": 31,
      "outputs": []
    },
    {
      "cell_type": "code",
      "metadata": {
        "id": "R4jaLc65-8Is",
        "colab_type": "code",
        "colab": {}
      },
      "source": [
        "e.addWeight(120)"
      ],
      "execution_count": 32,
      "outputs": []
    },
    {
      "cell_type": "code",
      "metadata": {
        "id": "8kKxcCNd-83J",
        "colab_type": "code",
        "colab": {}
      },
      "source": [
        "e.cleanAndJerk()"
      ],
      "execution_count": 33,
      "outputs": []
    }
  ]
}