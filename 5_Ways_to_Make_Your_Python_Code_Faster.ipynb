{
  "nbformat": 4,
  "nbformat_minor": 0,
  "metadata": {
    "colab": {
      "name": "5 Ways to Make Your Python Code Faster.ipynb",
      "provenance": [],
      "authorship_tag": "ABX9TyOL6Ds+r+UlW6CzGGG4/nqR"
    },
    "kernelspec": {
      "name": "python3",
      "display_name": "Python 3"
    }
  },
  "cells": [
    {
      "cell_type": "markdown",
      "metadata": {
        "id": "TpufrI9brx5p"
      },
      "source": [
        "[Reference](https://medium.com/swlh/5-ways-to-make-your-python-code-faster-c6878acf59c1)"
      ]
    },
    {
      "cell_type": "markdown",
      "metadata": {
        "id": "nvqZHVk4r1Bs"
      },
      "source": [
        "# 1| Know Your Built-In Functions\n",
        "Use Built-In python functions"
      ]
    },
    {
      "cell_type": "markdown",
      "metadata": {
        "id": "VilWZcdHr602"
      },
      "source": [
        "# 2| A,B = B,A"
      ]
    },
    {
      "cell_type": "markdown",
      "metadata": {
        "id": "enqjg787r8HV"
      },
      "source": [
        "# 3| Only Import Within Your Functions"
      ]
    },
    {
      "cell_type": "markdown",
      "metadata": {
        "id": "M8jYK3NBsGmf"
      },
      "source": [
        "```python\n",
        "def f(x):\n",
        "  import warnings, xyz, numpy \n",
        "  #do something \n",
        " \n",
        "def g(x):\n",
        "  import pandas, numpy \n",
        "```"
      ]
    },
    {
      "cell_type": "markdown",
      "metadata": {
        "id": "DO5yhogmsJMI"
      },
      "source": [
        "# 4| Use Numba"
      ]
    },
    {
      "cell_type": "markdown",
      "metadata": {
        "id": "NTapw3DisK6s"
      },
      "source": [
        "# 5| Check from the Set, not the List"
      ]
    }
  ]
}