{
  "nbformat": 4,
  "nbformat_minor": 0,
  "metadata": {
    "colab": {
      "name": "5 Ways to Make Your Python Code Faster.ipynb",
      "provenance": [],
      "authorship_tag": "ABX9TyNcQjU+t6N9cus3zRt8w/S4"
    },
    "kernelspec": {
      "name": "python3",
      "display_name": "Python 3"
    },
    "language_info": {
      "name": "python"
    }
  },
  "cells": [
    {
      "cell_type": "markdown",
      "metadata": {
        "id": "j7N0OzWVdIap"
      },
      "source": [
        "[Reference](https://python.plainenglish.io/5-ways-to-make-your-python-code-faster-463a3c946534)"
      ]
    },
    {
      "cell_type": "markdown",
      "metadata": {
        "id": "5YoChLgOdNoJ"
      },
      "source": [
        "# 1- Use Built-in Functions"
      ]
    },
    {
      "cell_type": "code",
      "metadata": {
        "id": "cb6tSuOEdFhD"
      },
      "source": [
        "new_list = []\n",
        "word_list = [\"i\", \"am\", \"a\", \"python\", \"programmer\"]\n",
        "\n",
        "for word in word_list:\n",
        "    new_list.append(word.capitalize())"
      ],
      "execution_count": 1,
      "outputs": []
    },
    {
      "cell_type": "code",
      "metadata": {
        "id": "XQ4dOLZhdRRK"
      },
      "source": [
        "word_list = [\"i\", \"am\", \"a\", \"python\", \"programmer\"]\n",
        "new_list = list(map(str.capitalize, word_list))"
      ],
      "execution_count": 2,
      "outputs": []
    },
    {
      "cell_type": "code",
      "metadata": {
        "colab": {
          "base_uri": "https://localhost:8080/"
        },
        "id": "K5gp66zpdR2y",
        "outputId": "df9dca20-59e2-4bd5-e91b-db627c9b87e7"
      },
      "source": [
        "import time\n",
        "\n",
        "new_list = []\n",
        "word_list = [\"i\", \"am\", \"a\", \"python\", \"programmer\"]\n",
        "\n",
        "start = time.time()\n",
        "# Slower:\n",
        "for word in word_list:\n",
        "    new_list.append(word.capitalize())\n",
        "\n",
        "print(time.time() - start, \"seconds\")\n",
        "\n",
        "start = time.time()\n",
        "# Faster:\n",
        "new_list = list(map(str.capitalize, word_list))\n",
        "\n",
        "print(time.time() - start, \"seconds\")"
      ],
      "execution_count": 3,
      "outputs": [
        {
          "output_type": "stream",
          "text": [
            "7.104873657226562e-05 seconds\n",
            "0.00012254714965820312 seconds\n"
          ],
          "name": "stdout"
        }
      ]
    },
    {
      "cell_type": "markdown",
      "metadata": {
        "id": "WhBIbWYldUvd"
      },
      "source": [
        "# 2- String Concatenation vs join()"
      ]
    },
    {
      "cell_type": "code",
      "metadata": {
        "colab": {
          "base_uri": "https://localhost:8080/"
        },
        "id": "-PnzJ2xgdTL7",
        "outputId": "0261463d-8870-4e50-a460-d51bbf9401ef"
      },
      "source": [
        "import time\n",
        "\n",
        "new_list = []\n",
        "word_list = [\"I\", \"am\", \"a\", \"Python\", \"programmer\"]\n",
        "start = time.time()\n",
        "\n",
        "for word in word_list:\n",
        "    new_list += word\n",
        "print(time.time() - start, \"seconds\")\n",
        "\n",
        "start = time.time()\n",
        "new_list = \"\".join(word_list)\n",
        "print(time.time() - start, \"seconds\")"
      ],
      "execution_count": 4,
      "outputs": [
        {
          "output_type": "stream",
          "text": [
            "9.274482727050781e-05 seconds\n",
            "0.00010728836059570312 seconds\n"
          ],
          "name": "stdout"
        }
      ]
    },
    {
      "cell_type": "markdown",
      "metadata": {
        "id": "k72YF3xOdZ6v"
      },
      "source": [
        "# 3- Create Lists and Dictionaries Faster"
      ]
    },
    {
      "cell_type": "code",
      "metadata": {
        "colab": {
          "base_uri": "https://localhost:8080/"
        },
        "id": "dsCoxNrEdXhN",
        "outputId": "1c3b0e1a-c1d1-4020-8935-4d9c26d720a9"
      },
      "source": [
        "import timeit\n",
        "\n",
        "slower_list = timeit.timeit(\"list()\", number=10**6)\n",
        "slower_dict = timeit.timeit(\"dict()\", number=10**6)\n",
        "\n",
        "faster_list = timeit.timeit(\"[]\", number=10**6)\n",
        "faster_dict = timeit.timeit(\"{}\", number=10**6)\n",
        "\n",
        "print(slower_list, \"seconds\")\n",
        "print(slower_dict, \"seconds\")\n",
        "print(faster_list, \"seconds\")\n",
        "print(faster_dict, \"seconds\")"
      ],
      "execution_count": 5,
      "outputs": [
        {
          "output_type": "stream",
          "text": [
            "0.11818616599998677 seconds\n",
            "0.11258433000000423 seconds\n",
            "0.03347225099997786 seconds\n",
            "0.04964532200000349 seconds\n"
          ],
          "name": "stdout"
        }
      ]
    },
    {
      "cell_type": "markdown",
      "metadata": {
        "id": "2pjiIiBBdfWx"
      },
      "source": [
        "# 4- f-Strings"
      ]
    },
    {
      "cell_type": "code",
      "metadata": {
        "colab": {
          "base_uri": "https://localhost:8080/"
        },
        "id": "r_cl0ckbdcMn",
        "outputId": "96a5cf8e-f1fe-4b10-9ae3-5904bc810a76"
      },
      "source": [
        "import time\n",
        "\n",
        "me = \"Python\"\n",
        "\n",
        "start = time.time()\n",
        "string = \"Make \" + me + \" faster\"\n",
        "print(time.time() - start, \"seconds\")\n",
        "\n",
        "start = time.time()\n",
        "string = f\"Make {me} faster\"\n",
        "print(time.time() - start, \"seconds\")"
      ],
      "execution_count": 7,
      "outputs": [
        {
          "output_type": "stream",
          "text": [
            "4.506111145019531e-05 seconds\n",
            "7.176399230957031e-05 seconds\n"
          ],
          "name": "stdout"
        }
      ]
    },
    {
      "cell_type": "markdown",
      "metadata": {
        "id": "1oAU_pHtd6ug"
      },
      "source": [
        "# 5- List Comprehensions"
      ]
    },
    {
      "cell_type": "code",
      "metadata": {
        "colab": {
          "base_uri": "https://localhost:8080/"
        },
        "id": "HHs7fYRmdg7G",
        "outputId": "a241c24a-ea35-4ae0-98fa-bb9795e2b8bb"
      },
      "source": [
        "import time\n",
        "\n",
        "new_list = []\n",
        "existing_list = range(1000000)\n",
        "\n",
        "start = time.time()\n",
        "for i in existing_list:\n",
        "    if i % 2 == 1:\n",
        "        new_list.append(i)\n",
        "print(time.time() - start, \"seconds\")\n",
        "\n",
        "start = time.time()\n",
        "new_list = [i for i in existing_list if i % 2 == 1]\n",
        "print(time.time() - start, \"seconds\")"
      ],
      "execution_count": 8,
      "outputs": [
        {
          "output_type": "stream",
          "text": [
            "0.16538238525390625 seconds\n",
            "0.10535645484924316 seconds\n"
          ],
          "name": "stdout"
        }
      ]
    }
  ]
}