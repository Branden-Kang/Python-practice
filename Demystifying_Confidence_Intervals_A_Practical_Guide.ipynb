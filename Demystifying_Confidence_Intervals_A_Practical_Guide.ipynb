{
  "nbformat": 4,
  "nbformat_minor": 0,
  "metadata": {
    "colab": {
      "provenance": [],
      "authorship_tag": "ABX9TyPD7YjU2vkArz9A1SAtZFLI"
    },
    "kernelspec": {
      "name": "python3",
      "display_name": "Python 3"
    },
    "language_info": {
      "name": "python"
    }
  },
  "cells": [
    {
      "cell_type": "markdown",
      "source": [
        "[Reference](https://code.likeagirl.io/demystifying-confidence-intervals-a-practical-guide-c3bc196303de)"
      ],
      "metadata": {
        "id": "dxoqf3Y9-a86"
      }
    },
    {
      "cell_type": "code",
      "execution_count": 1,
      "metadata": {
        "colab": {
          "base_uri": "https://localhost:8080/"
        },
        "id": "uyDUcxg79zt2",
        "outputId": "6024e084-867a-4872-829e-6ee4cee9dfd3"
      },
      "outputs": [
        {
          "output_type": "stream",
          "name": "stdout",
          "text": [
            "Confidence Interval (95%): [32.39, 68.93]\n"
          ]
        }
      ],
      "source": [
        "import numpy as np\n",
        "\n",
        "def confidence_interval(data, z_score=1.96):\n",
        "  \"\"\"\n",
        "  Calculates the confidence interval for a given data set with a specified z-score.\n",
        "\n",
        "  Args:\n",
        "      data (numpy.ndarray): A one-dimensional array of numerical data.\n",
        "      z_score (float, optional): The z-score for the desired confidence level. Defaults to 1.96 for 95% confidence.\n",
        "\n",
        "  Returns:\n",
        "      tuple: A tuple containing the lower and upper bounds of the confidence interval.\n",
        "  \"\"\"\n",
        "\n",
        "  # Calculate the mean and standard deviation\n",
        "  mean = np.mean(data)\n",
        "  std_dev = np.std(data)\n",
        "\n",
        "  # Calculate the confidence interval bounds\n",
        "  lower_bound = mean - (z_score * std_dev)\n",
        "  upper_bound = mean + (z_score * std_dev)\n",
        "\n",
        "  return lower_bound, upper_bound\n",
        "\n",
        "# Example usage\n",
        "data = np.random.normal(loc=50, scale=10, size=100)  # Sample data with mean 50 and standard deviation 10\n",
        "lower_bound, upper_bound = confidence_interval(data)\n",
        "\n",
        "print(f\"Confidence Interval (95%): [{lower_bound:.2f}, {upper_bound:.2f}]\")"
      ]
    }
  ]
}