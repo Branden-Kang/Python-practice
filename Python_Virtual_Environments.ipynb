{
  "nbformat": 4,
  "nbformat_minor": 0,
  "metadata": {
    "colab": {
      "provenance": [],
      "authorship_tag": "ABX9TyPOq89XC2lxIw34pEQMDL3J"
    },
    "kernelspec": {
      "name": "python3",
      "display_name": "Python 3"
    },
    "language_info": {
      "name": "python"
    }
  },
  "cells": [
    {
      "cell_type": "markdown",
      "source": [
        "[Reference](https://towardsdatascience.com/python-virtual-environments-why-and-when-should-you-use-them-be57b0c0323d)"
      ],
      "metadata": {
        "id": "hU8cuMjbWTuu"
      }
    },
    {
      "cell_type": "markdown",
      "source": [
        "```\n",
        "pip install makepackage perftester==0.4.0 easycheck==0.3.3\n",
        "pip install --upgrade easycheck==0.5.0\n",
        "$ mkdir project_before\n",
        "$ python -m venv venv-before\n",
        "------ Windows ------\n",
        "> venv-before\\Scripts\\activate\n",
        "------ Linux ------\n",
        "$ venv-before/bin/activate\n",
        "\n",
        "python -m pip install perftester==0.4.0 easycheck==0.3.3\n",
        "(venv-before) $ deactivate\n",
        "\n",
        "# requirements.txt\n",
        "easycheck==0.3.3\n",
        "perftester==0.4.0\n",
        "\n",
        "(venv-before) $ python -m pip install -r requirements.txt\n",
        "\n",
        "(venv-before) $ deactivate\n",
        "$ mkdir project-after\n",
        "$ python -m venv venv-after\n",
        "$ source project-after/bic/activate\n",
        "\n",
        "(venv-after) $ python -m pip install easycheck==0.5.0 perftester==0.4.0\n",
        "(venv-before) $ python -m uninstall perftester\n",
        "```"
      ],
      "metadata": {
        "id": "OqNoK7PmWZMD"
      }
    }
  ]
}