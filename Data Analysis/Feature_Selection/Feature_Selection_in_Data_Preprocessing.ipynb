{
  "nbformat": 4,
  "nbformat_minor": 0,
  "metadata": {
    "colab": {
      "provenance": [],
      "authorship_tag": "ABX9TyPzxeVjUDz5l+/ITAU+tEKs"
    },
    "kernelspec": {
      "name": "python3",
      "display_name": "Python 3"
    },
    "language_info": {
      "name": "python"
    }
  },
  "cells": [
    {
      "cell_type": "markdown",
      "source": [
        "[Reference](https://medium.com/@WojtekFulmyk/feature-selection-in-data-preprocessing-421d5b527005)"
      ],
      "metadata": {
        "id": "vNuzJNn_0VO8"
      }
    },
    {
      "cell_type": "code",
      "execution_count": 1,
      "metadata": {
        "colab": {
          "base_uri": "https://localhost:8080/"
        },
        "id": "EGl8wmwl0St7",
        "outputId": "244890c7-261d-475b-d23c-10d16d14b599"
      },
      "outputs": [
        {
          "output_type": "stream",
          "name": "stdout",
          "text": [
            "Correlation: 0.9645788568769382\n",
            "Strong positive correlation between height and weight.\n",
            "Select both features.\n"
          ]
        }
      ],
      "source": [
        "from scipy.stats import pearsonr\n",
        "\n",
        "height = [1, 2, 3, 4, 5]\n",
        "weight = [3, 4, 5, 9, 10]\n",
        "\n",
        "# calculate pearson corrrelation\n",
        "r, p_value = pearsonr(height, weight)\n",
        "print(\"Correlation:\", r)\n",
        "\n",
        "# feature selection thresholds\n",
        "strong_threshold = 0.7\n",
        "strong_inverse_threshold = -0.7\n",
        "\n",
        "# feature selection decision\n",
        "if r > strong_threshold:\n",
        "    print(\"Strong positive correlation between height and weight.\")\n",
        "    print(\"Select both features.\")\n",
        "elif r < strong_inverse_threshold:\n",
        "    print(\"Strong negative correlation between height and weight.\")\n",
        "    print(\"Select both features.\")\n",
        "else:\n",
        "    print(\"Weak correlation between height and weight.\")\n",
        "    print(\"Only select height feature.\")"
      ]
    },
    {
      "cell_type": "code",
      "source": [
        "from sklearn.datasets import load_iris\n",
        "from sklearn.tree import DecisionTreeClassifier\n",
        "from sklearn.model_selection import cross_val_score\n",
        "import itertools\n",
        "\n",
        "# load iris dataset\n",
        "X, y = load_iris(return_X_y=True)\n",
        "feature_names = load_iris().feature_names\n",
        "\n",
        "# generate feature combinations\n",
        "combos = itertools.chain(\n",
        "  itertools.combinations(feature_names, 4),\n",
        "  itertools.combinations(feature_names, 3),\n",
        "  itertools.combinations(feature_names, 2),\n",
        "  itertools.combinations(feature_names, 1))\n",
        "\n",
        "# evaluate feature subsets\n",
        "for features in combos:\n",
        "\n",
        "  X_temp = X[:,[i for i,f in enumerate(feature_names) if f in features]]\n",
        "\n",
        "  model = DecisionTreeClassifier()\n",
        "  scores = cross_val_score(model, X_temp, y, cv=5)\n",
        "\n",
        "  print(\"Selected features:\", features)\n",
        "  if scores.mean() > 0.90:\n",
        "    print(\"Accuracy:\", scores.mean(),\"High accuracy. Select all features.\")\n",
        "  else:\n",
        "    print(\"Accuracy:\", scores.mean(), \"Low accuracy with features. Do not select.\")"
      ],
      "metadata": {
        "colab": {
          "base_uri": "https://localhost:8080/"
        },
        "id": "WprYm0X60ZF6",
        "outputId": "d176b9d5-7365-454c-93e4-342699c05489"
      },
      "execution_count": 2,
      "outputs": [
        {
          "output_type": "stream",
          "name": "stdout",
          "text": [
            "Selected features: ('sepal length (cm)', 'sepal width (cm)', 'petal length (cm)', 'petal width (cm)')\n",
            "Accuracy: 0.9600000000000002 High accuracy. Select all features.\n",
            "Selected features: ('sepal length (cm)', 'sepal width (cm)', 'petal length (cm)')\n",
            "Accuracy: 0.9400000000000001 High accuracy. Select all features.\n",
            "Selected features: ('sepal length (cm)', 'sepal width (cm)', 'petal width (cm)')\n",
            "Accuracy: 0.9533333333333334 High accuracy. Select all features.\n",
            "Selected features: ('sepal length (cm)', 'petal length (cm)', 'petal width (cm)')\n",
            "Accuracy: 0.9533333333333334 High accuracy. Select all features.\n",
            "Selected features: ('sepal width (cm)', 'petal length (cm)', 'petal width (cm)')\n",
            "Accuracy: 0.9600000000000002 High accuracy. Select all features.\n",
            "Selected features: ('sepal length (cm)', 'sepal width (cm)')\n",
            "Accuracy: 0.7266666666666667 Low accuracy with features. Do not select.\n",
            "Selected features: ('sepal length (cm)', 'petal length (cm)')\n",
            "Accuracy: 0.9133333333333333 High accuracy. Select all features.\n",
            "Selected features: ('sepal length (cm)', 'petal width (cm)')\n",
            "Accuracy: 0.9266666666666665 High accuracy. Select all features.\n",
            "Selected features: ('sepal width (cm)', 'petal length (cm)')\n",
            "Accuracy: 0.8933333333333333 Low accuracy with features. Do not select.\n",
            "Selected features: ('sepal width (cm)', 'petal width (cm)')\n",
            "Accuracy: 0.9399999999999998 High accuracy. Select all features.\n",
            "Selected features: ('petal length (cm)', 'petal width (cm)')\n",
            "Accuracy: 0.9533333333333334 High accuracy. Select all features.\n",
            "Selected features: ('sepal length (cm)',)\n",
            "Accuracy: 0.6933333333333334 Low accuracy with features. Do not select.\n",
            "Selected features: ('sepal width (cm)',)\n",
            "Accuracy: 0.5066666666666666 Low accuracy with features. Do not select.\n",
            "Selected features: ('petal length (cm)',)\n",
            "Accuracy: 0.9200000000000002 High accuracy. Select all features.\n",
            "Selected features: ('petal width (cm)',)\n",
            "Accuracy: 0.9533333333333334 High accuracy. Select all features.\n"
          ]
        }
      ]
    },
    {
      "cell_type": "code",
      "source": [
        "from sklearn.datasets import load_iris\n",
        "from sklearn.linear_model import Lasso\n",
        "from sklearn.model_selection import train_test_split\n",
        "import numpy as np\n",
        "\n",
        "# feature mapping dictionar\n",
        "feature_mapping = {'A': 'sepal length',\n",
        "                   'B': 'sepal width',\n",
        "                   'C': 'petal length',\n",
        "                   'D': 'petal width'}\n",
        "\n",
        "X, y = load_iris(return_X_y=True)\n",
        "X_train, X_test, y_train, y_test = train_test_split(X, y, test_size=0.2, random_state=42)\n",
        "\n",
        "lasso = Lasso(alpha=0.04)\n",
        "lasso.fit(X_train, y_train)\n",
        "\n",
        "coefs = lasso.coef_\n",
        "selected, = np.nonzero(coefs)\n",
        "\n",
        "# get the selected letters\n",
        "selected_letters = [list(feature_mapping.keys())[i] for i in selected]\n",
        "print(feature_mapping)\n",
        "print(\"Selected features:\")\n",
        "print(selected_letters)\n",
        "print(\"Lasso accuracy:\", lasso.score(X_test, y_test))"
      ],
      "metadata": {
        "colab": {
          "base_uri": "https://localhost:8080/"
        },
        "id": "AZZ1uvDF0a9M",
        "outputId": "a2dd9ca4-46c6-4328-e488-2fdb1f4c0582"
      },
      "execution_count": 3,
      "outputs": [
        {
          "output_type": "stream",
          "name": "stdout",
          "text": [
            "{'A': 'sepal length', 'B': 'sepal width', 'C': 'petal length', 'D': 'petal width'}\n",
            "Selected features:\n",
            "['C', 'D']\n",
            "Lasso accuracy: 0.9090708820329703\n"
          ]
        }
      ]
    }
  ]
}
