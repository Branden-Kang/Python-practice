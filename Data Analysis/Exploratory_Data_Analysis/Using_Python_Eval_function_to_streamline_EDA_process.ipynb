{
  "nbformat": 4,
  "nbformat_minor": 0,
  "metadata": {
    "colab": {
      "name": "Using Python Eval function to streamline EDA process.ipynb",
      "provenance": [],
      "collapsed_sections": [],
      "authorship_tag": "ABX9TyP3ZaHIUS0Vm1tb8vXpQ7xg"
    },
    "kernelspec": {
      "name": "python3",
      "display_name": "Python 3"
    },
    "language_info": {
      "name": "python"
    }
  },
  "cells": [
    {
      "cell_type": "markdown",
      "source": [
        "[Reference](https://medium.com/@Hong_Tang/using-python-eval-function-to-streamline-eda-process-fc08d8c09a2c)"
      ],
      "metadata": {
        "id": "Jmc_uk9SARk0"
      }
    },
    {
      "cell_type": "code",
      "execution_count": 1,
      "metadata": {
        "id": "PsJ4BzX4AQUk"
      },
      "outputs": [],
      "source": [
        "#Load packages\n",
        "import numpy as np\n",
        "import pandas as pd\n",
        "import seaborn as sns\n",
        "from IPython.display import display, HTML\n",
        "import matplotlib.pyplot as plt"
      ]
    },
    {
      "cell_type": "code",
      "source": [
        "tips = sns.load_dataset(\"tips\")"
      ],
      "metadata": {
        "id": "awd_rdUYAVfS"
      },
      "execution_count": 2,
      "outputs": []
    },
    {
      "cell_type": "code",
      "source": [
        "#create a list of EDA functions as string\n",
        "EDA_Func=['tips.info()', # check data types\n",
        "         'tips.describe()', # check df status\n",
        "         'tips.head()', # check file head \n",
        "         'tips.duplicated().sum()', #check  duplicates  \n",
        "         'tips.isnull().sum()', #check null value         \n",
        "         ]"
      ],
      "metadata": {
        "id": "qGyQLk3qAW3U"
      },
      "execution_count": 3,
      "outputs": []
    },
    {
      "cell_type": "code",
      "source": [
        "for _ in EDA_Func:\n",
        "  print(_, ' — — — — — — — — — -')\n",
        "  print(eval(_))"
      ],
      "metadata": {
        "colab": {
          "base_uri": "https://localhost:8080/"
        },
        "id": "AgyUbh5zAaIk",
        "outputId": "d96f9c01-35b3-4f0b-d342-ed7cd370c72e"
      },
      "execution_count": 4,
      "outputs": [
        {
          "output_type": "stream",
          "name": "stdout",
          "text": [
            "tips.info()  — — — — — — — — — -\n",
            "<class 'pandas.core.frame.DataFrame'>\n",
            "RangeIndex: 244 entries, 0 to 243\n",
            "Data columns (total 7 columns):\n",
            " #   Column      Non-Null Count  Dtype   \n",
            "---  ------      --------------  -----   \n",
            " 0   total_bill  244 non-null    float64 \n",
            " 1   tip         244 non-null    float64 \n",
            " 2   sex         244 non-null    category\n",
            " 3   smoker      244 non-null    category\n",
            " 4   day         244 non-null    category\n",
            " 5   time        244 non-null    category\n",
            " 6   size        244 non-null    int64   \n",
            "dtypes: category(4), float64(2), int64(1)\n",
            "memory usage: 7.4 KB\n",
            "None\n",
            "tips.describe()  — — — — — — — — — -\n",
            "       total_bill         tip        size\n",
            "count  244.000000  244.000000  244.000000\n",
            "mean    19.785943    2.998279    2.569672\n",
            "std      8.902412    1.383638    0.951100\n",
            "min      3.070000    1.000000    1.000000\n",
            "25%     13.347500    2.000000    2.000000\n",
            "50%     17.795000    2.900000    2.000000\n",
            "75%     24.127500    3.562500    3.000000\n",
            "max     50.810000   10.000000    6.000000\n",
            "tips.head()  — — — — — — — — — -\n",
            "   total_bill   tip     sex smoker  day    time  size\n",
            "0       16.99  1.01  Female     No  Sun  Dinner     2\n",
            "1       10.34  1.66    Male     No  Sun  Dinner     3\n",
            "2       21.01  3.50    Male     No  Sun  Dinner     3\n",
            "3       23.68  3.31    Male     No  Sun  Dinner     2\n",
            "4       24.59  3.61  Female     No  Sun  Dinner     4\n",
            "tips.duplicated().sum()  — — — — — — — — — -\n",
            "1\n",
            "tips.isnull().sum()  — — — — — — — — — -\n",
            "total_bill    0\n",
            "tip           0\n",
            "sex           0\n",
            "smoker        0\n",
            "day           0\n",
            "time          0\n",
            "size          0\n",
            "dtype: int64\n"
          ]
        }
      ]
    },
    {
      "cell_type": "code",
      "source": [
        "def helper(df):\n",
        "    EDA_Func=[f'{df}.describe()', # check df status\n",
        "    f'{df}.head()', # check file head \n",
        "    f'{df}.info()', # check data types\n",
        "    f'{df}.duplicated().sum()', #check duplicates\n",
        "    f'{df}.isnull().sum()' ] #check null value\n",
        "    return EDA_Func\n",
        "EDA_Func_List=helper('tips')\n",
        "for _ in EDA_Func_List:\n",
        "    print(' — — — — — — — — — -', _)\n",
        "    print(eval(_))"
      ],
      "metadata": {
        "colab": {
          "base_uri": "https://localhost:8080/"
        },
        "id": "fV1gvYCjAbRn",
        "outputId": "309f7726-3b20-4688-cc94-5f7a33361729"
      },
      "execution_count": 5,
      "outputs": [
        {
          "output_type": "stream",
          "name": "stdout",
          "text": [
            " — — — — — — — — — - tips.describe()\n",
            "       total_bill         tip        size\n",
            "count  244.000000  244.000000  244.000000\n",
            "mean    19.785943    2.998279    2.569672\n",
            "std      8.902412    1.383638    0.951100\n",
            "min      3.070000    1.000000    1.000000\n",
            "25%     13.347500    2.000000    2.000000\n",
            "50%     17.795000    2.900000    2.000000\n",
            "75%     24.127500    3.562500    3.000000\n",
            "max     50.810000   10.000000    6.000000\n",
            " — — — — — — — — — - tips.head()\n",
            "   total_bill   tip     sex smoker  day    time  size\n",
            "0       16.99  1.01  Female     No  Sun  Dinner     2\n",
            "1       10.34  1.66    Male     No  Sun  Dinner     3\n",
            "2       21.01  3.50    Male     No  Sun  Dinner     3\n",
            "3       23.68  3.31    Male     No  Sun  Dinner     2\n",
            "4       24.59  3.61  Female     No  Sun  Dinner     4\n",
            " — — — — — — — — — - tips.info()\n",
            "<class 'pandas.core.frame.DataFrame'>\n",
            "RangeIndex: 244 entries, 0 to 243\n",
            "Data columns (total 7 columns):\n",
            " #   Column      Non-Null Count  Dtype   \n",
            "---  ------      --------------  -----   \n",
            " 0   total_bill  244 non-null    float64 \n",
            " 1   tip         244 non-null    float64 \n",
            " 2   sex         244 non-null    category\n",
            " 3   smoker      244 non-null    category\n",
            " 4   day         244 non-null    category\n",
            " 5   time        244 non-null    category\n",
            " 6   size        244 non-null    int64   \n",
            "dtypes: category(4), float64(2), int64(1)\n",
            "memory usage: 7.4 KB\n",
            "None\n",
            " — — — — — — — — — - tips.duplicated().sum()\n",
            "1\n",
            " — — — — — — — — — - tips.isnull().sum()\n",
            "total_bill    0\n",
            "tip           0\n",
            "sex           0\n",
            "smoker        0\n",
            "day           0\n",
            "time          0\n",
            "size          0\n",
            "dtype: int64\n"
          ]
        }
      ]
    },
    {
      "cell_type": "code",
      "source": [
        "def helper(df):\n",
        "    EDA_Func=[\n",
        "          f'{df}.plot(kind=\"hist\", subplots=True)', #histograms\n",
        "              'plt.show()',\n",
        "          f'sns.pairplot({df}, corner=True)', #pairplot\n",
        "              'plt.show()',\n",
        "          f'{df}.plot(kind=\"box\")', #box plot\n",
        "              'plt.show()',\n",
        "          f'sns.heatmap({df}.corr(), annot=True,   mask=np.triu({df}.corr()))'] #heatmap\n",
        "    return EDA_Func\n",
        "EDA_Func_List=helper('tips')\n",
        "for _ in EDA_Func_List:\n",
        "    print('-------------------')\n",
        "    print(eval(_))"
      ],
      "metadata": {
        "colab": {
          "base_uri": "https://localhost:8080/",
          "height": 1000
        },
        "id": "xzaNmA88Akjt",
        "outputId": "897d3d9b-3c3a-4c4f-80dc-c2850fb91efc"
      },
      "execution_count": 6,
      "outputs": [
        {
          "output_type": "stream",
          "name": "stdout",
          "text": [
            "-------------------\n",
            "[<matplotlib.axes._subplots.AxesSubplot object at 0x7f0a5b10ab90>\n",
            " <matplotlib.axes._subplots.AxesSubplot object at 0x7f0a5b07dcd0>\n",
            " <matplotlib.axes._subplots.AxesSubplot object at 0x7f0a5b033f50>]\n",
            "-------------------\n"
          ]
        },
        {
          "output_type": "display_data",
          "data": {
            "text/plain": [
              "<Figure size 432x288 with 3 Axes>"
            ],
            "image/png": "[encoded data removed]"
          },
          "metadata": {
            "needs_background": "light"
          }
        },
        {
          "output_type": "stream",
          "name": "stdout",
          "text": [
            "None\n",
            "-------------------\n",
            "<seaborn.axisgrid.PairGrid object at 0x7f0a5bd905d0>\n",
            "-------------------\n"
          ]
        },
        {
          "output_type": "display_data",
          "data": {
            "text/plain": [
              "<Figure size 540x540 with 9 Axes>"
            ],
            "image/png": "[encoded data removed]"
          },
          "metadata": {
            "needs_background": "light"
          }
        },
        {
          "output_type": "stream",
          "name": "stdout",
          "text": [
            "None\n",
            "-------------------\n",
            "AxesSubplot(0.125,0.125;0.775x0.755)\n",
            "-------------------\n"
          ]
        },
        {
          "output_type": "display_data",
          "data": {
            "text/plain": [
              "<Figure size 432x288 with 1 Axes>"
            ],
            "image/png": "[encoded data removed]"
          },
          "metadata": {
            "needs_background": "light"
          }
        },
        {
          "output_type": "stream",
          "name": "stdout",
          "text": [
            "None\n",
            "-------------------\n",
            "AxesSubplot(0.125,0.125;0.62x0.755)\n"
          ]
        },
        {
          "output_type": "display_data",
          "data": {
            "text/plain": [
              "<Figure size 432x288 with 2 Axes>"
            ],
            "image/png": "[encoded data removed]"
          },
          "metadata": {
            "needs_background": "light"
          }
        }
      ]
    },
    {
      "cell_type": "code",
      "source": [
        "def EDA_helper(df):\n",
        "        '''\n",
        "        EDA helper functions in one place\n",
        "        '''\n",
        "    \n",
        "        EDA_Func=[\n",
        "          # functions to extract useful statistics\n",
        "          f'{df}.describe()', # check df status\n",
        "          f'{df}.head()', # check file head \n",
        "          f'{df}.info()', # check data types\n",
        "          f'{df}.duplicated().sum()', #check duplicates\n",
        "          f'{df}.isnull().sum()',  #check null value\n",
        "# functions to plot EDA plots\n",
        "          f'{df}.plot(kind=\"hist\", subplots=True)', # check df status ,subplots=True\n",
        "              'plt.show()',\n",
        "          f'sns.pairplot({df}, corner=True)', # check file head \n",
        "              'plt.show()',\n",
        "          f'{df}.plot(kind=\"box\")', #check duplicates\n",
        "              'plt.show()',\n",
        "          f'sns.heatmap({df}.corr(), annot=True, mask=np.triu({df}.corr()))'\n",
        "        ] #check null value\n",
        "for _ in EDA_Func:\n",
        "            print('-------------------')\n",
        "            print(eval(_))\n",
        "    \n",
        "    \n",
        "EDA_helper('tips')"
      ],
      "metadata": {
        "colab": {
          "base_uri": "https://localhost:8080/"
        },
        "id": "H9wJHSXFAm33",
        "outputId": "ffdd000a-8e86-483e-a6a4-8ea5e6f092b3"
      },
      "execution_count": 7,
      "outputs": [
        {
          "output_type": "stream",
          "name": "stdout",
          "text": [
            "-------------------\n",
            "<class 'pandas.core.frame.DataFrame'>\n",
            "RangeIndex: 244 entries, 0 to 243\n",
            "Data columns (total 7 columns):\n",
            " #   Column      Non-Null Count  Dtype   \n",
            "---  ------      --------------  -----   \n",
            " 0   total_bill  244 non-null    float64 \n",
            " 1   tip         244 non-null    float64 \n",
            " 2   sex         244 non-null    category\n",
            " 3   smoker      244 non-null    category\n",
            " 4   day         244 non-null    category\n",
            " 5   time        244 non-null    category\n",
            " 6   size        244 non-null    int64   \n",
            "dtypes: category(4), float64(2), int64(1)\n",
            "memory usage: 7.4 KB\n",
            "None\n",
            "-------------------\n",
            "       total_bill         tip        size\n",
            "count  244.000000  244.000000  244.000000\n",
            "mean    19.785943    2.998279    2.569672\n",
            "std      8.902412    1.383638    0.951100\n",
            "min      3.070000    1.000000    1.000000\n",
            "25%     13.347500    2.000000    2.000000\n",
            "50%     17.795000    2.900000    2.000000\n",
            "75%     24.127500    3.562500    3.000000\n",
            "max     50.810000   10.000000    6.000000\n",
            "-------------------\n",
            "   total_bill   tip     sex smoker  day    time  size\n",
            "0       16.99  1.01  Female     No  Sun  Dinner     2\n",
            "1       10.34  1.66    Male     No  Sun  Dinner     3\n",
            "2       21.01  3.50    Male     No  Sun  Dinner     3\n",
            "3       23.68  3.31    Male     No  Sun  Dinner     2\n",
            "4       24.59  3.61  Female     No  Sun  Dinner     4\n",
            "-------------------\n",
            "1\n",
            "-------------------\n",
            "total_bill    0\n",
            "tip           0\n",
            "sex           0\n",
            "smoker        0\n",
            "day           0\n",
            "time          0\n",
            "size          0\n",
            "dtype: int64\n"
          ]
        }
      ]
    },
    {
      "cell_type": "code",
      "source": [
        "mpg = sns.load_dataset(\"mpg\")\n",
        "EDA_helper(\"mpg\")"
      ],
      "metadata": {
        "id": "uZOV4RCdApkP"
      },
      "execution_count": 8,
      "outputs": []
    },
    {
      "cell_type": "code",
      "source": [
        "car_crashes = sns.load_dataset(\"car_crashes\")\n",
        "EDA_helper('car_crashes')"
      ],
      "metadata": {
        "id": "BuSrwsfhAtsz"
      },
      "execution_count": 9,
      "outputs": []
    }
  ]
}
