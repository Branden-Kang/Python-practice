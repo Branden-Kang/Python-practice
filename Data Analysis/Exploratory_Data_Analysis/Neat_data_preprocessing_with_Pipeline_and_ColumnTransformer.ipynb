{
  "nbformat": 4,
  "nbformat_minor": 0,
  "metadata": {
    "colab": {
      "provenance": [],
      "authorship_tag": "ABX9TyPAWEymM6I2Afw0vI2jxcgq"
    },
    "kernelspec": {
      "name": "python3",
      "display_name": "Python 3"
    },
    "language_info": {
      "name": "python"
    }
  },
  "cells": [
    {
      "cell_type": "markdown",
      "source": [
        "[Reference](https://medium.com/mlearning-ai/neat-data-preprocessing-with-pipeline-and-columntransformer-2a0468865b6b)"
      ],
      "metadata": {
        "id": "DVnqFNFNhN6_"
      }
    },
    {
      "cell_type": "code",
      "execution_count": 1,
      "metadata": {
        "id": "AWSmwYQYhMF6"
      },
      "outputs": [],
      "source": [
        "num_cols = ['city_development_index','relevent_experience', 'experience','last_new_job', 'training_hours']\n",
        "cat_cols = ['gender', 'enrolled_university', 'education_level', 'major_discipline', 'company_size', 'company_type']\n",
        "# from sklearn.model_selection import train_test_split\n",
        "# X = df[num_cols+cat_cols]\n",
        "# y = df['target']\n",
        "# # train test split\n",
        "# X_train, X_test, y_train, y_test = train_test_split(X, y, test_size=0.2, stratify=y)"
      ]
    },
    {
      "cell_type": "code",
      "source": [
        "from sklearn.impute import SimpleImputer\n",
        "from sklearn.preprocessing import OneHotEncoder, MinMaxScaler\n",
        "from sklearn.pipeline import Pipeline\n",
        "num_pipeline = Pipeline(steps=[\n",
        "    ('impute', SimpleImputer(strategy='mean')),\n",
        "    ('scale',MinMaxScaler())\n",
        "])\n",
        "cat_pipeline = Pipeline(steps=[\n",
        "    ('impute', SimpleImputer(strategy='most_frequent')),\n",
        "    ('one-hot',OneHotEncoder(handle_unknown='ignore', sparse=False))\n",
        "])"
      ],
      "metadata": {
        "id": "uCa501oQhYla"
      },
      "execution_count": 2,
      "outputs": []
    },
    {
      "cell_type": "code",
      "source": [
        "from sklearn.compose import ColumnTransformer\n",
        "col_trans = ColumnTransformer(transformers=[\n",
        "    ('num_pipeline',num_pipeline,num_cols),\n",
        "    ('cat_pipeline',cat_pipeline,cat_cols)\n",
        "    ],\n",
        "    remainder='drop',\n",
        "    n_jobs=-1)"
      ],
      "metadata": {
        "id": "MJXLWkm7hcNQ"
      },
      "execution_count": 3,
      "outputs": []
    },
    {
      "cell_type": "code",
      "source": [
        "from sklearn.linear_model import LogisticRegression\n",
        "clf = LogisticRegression(random_state=0)\n",
        "clf_pipeline = Pipeline(steps=[\n",
        "    ('col_trans', col_trans),\n",
        "    ('model', clf)\n",
        "])"
      ],
      "metadata": {
        "id": "wyJcdPtphcWE"
      },
      "execution_count": 4,
      "outputs": []
    },
    {
      "cell_type": "code",
      "source": [
        "from sklearn import set_config\n",
        "set_config(display='diagram')\n",
        "display(clf_pipeline)"
      ],
      "metadata": {
        "colab": {
          "base_uri": "https://localhost:8080/",
          "height": 222
        },
        "id": "4Uh9u_hlhhSc",
        "outputId": "53c178d0-bacb-4b74-ddf3-5fa0c228f36f"
      },
      "execution_count": 5,
      "outputs": [
        {
          "output_type": "display_data",
          "data": {
            "text/plain": [
              "Pipeline(steps=[('col_trans',\n",
              "                 ColumnTransformer(n_jobs=-1,\n",
              "                                   transformers=[('num_pipeline',\n",
              "                                                  Pipeline(steps=[('impute',\n",
              "                                                                   SimpleImputer()),\n",
              "                                                                  ('scale',\n",
              "                                                                   MinMaxScaler())]),\n",
              "                                                  ['city_development_index',\n",
              "                                                   'relevent_experience',\n",
              "                                                   'experience', 'last_new_job',\n",
              "                                                   'training_hours']),\n",
              "                                                 ('cat_pipeline',\n",
              "                                                  Pipeline(steps=[('impute',\n",
              "                                                                   SimpleImputer(strategy='most_frequent')),\n",
              "                                                                  ('one-hot',\n",
              "                                                                   OneHotEncoder(handle_unknown='ignore',\n",
              "                                                                                 sparse=False))]),\n",
              "                                                  ['gender',\n",
              "                                                   'enrolled_university',\n",
              "                                                   'education_level',\n",
              "                                                   'major_discipline',\n",
              "                                                   'company_size',\n",
              "                                                   'company_type'])])),\n",
              "                ('model', LogisticRegression(random_state=0))])"
            ],
            "text/html": [
              "<style>#sk-3850e165-61e8-4bd3-9b57-fdb3676d32d4 {color: black;background-color: white;}#sk-3850e165-61e8-4bd3-9b57-fdb3676d32d4 pre{padding: 0;}#sk-3850e165-61e8-4bd3-9b57-fdb3676d32d4 div.sk-toggleable {background-color: white;}#sk-3850e165-61e8-4bd3-9b57-fdb3676d32d4 label.sk-toggleable__label {cursor: pointer;display: block;width: 100%;margin-bottom: 0;padding: 0.3em;box-sizing: border-box;text-align: center;}#sk-3850e165-61e8-4bd3-9b57-fdb3676d32d4 label.sk-toggleable__label-arrow:before {content: \"▸\";float: left;margin-right: 0.25em;color: #696969;}#sk-3850e165-61e8-4bd3-9b57-fdb3676d32d4 label.sk-toggleable__label-arrow:hover:before {color: black;}#sk-3850e165-61e8-4bd3-9b57-fdb3676d32d4 div.sk-estimator:hover label.sk-toggleable__label-arrow:before {color: black;}#sk-3850e165-61e8-4bd3-9b57-fdb3676d32d4 div.sk-toggleable__content {max-height: 0;max-width: 0;overflow: hidden;text-align: left;background-color: #f0f8ff;}#sk-3850e165-61e8-4bd3-9b57-fdb3676d32d4 div.sk-toggleable__content pre {margin: 0.2em;color: black;border-radius: 0.25em;background-color: #f0f8ff;}#sk-3850e165-61e8-4bd3-9b57-fdb3676d32d4 input.sk-toggleable__control:checked~div.sk-toggleable__content {max-height: 200px;max-width: 100%;overflow: auto;}#sk-3850e165-61e8-4bd3-9b57-fdb3676d32d4 input.sk-toggleable__control:checked~label.sk-toggleable__label-arrow:before {content: \"▾\";}#sk-3850e165-61e8-4bd3-9b57-fdb3676d32d4 div.sk-estimator input.sk-toggleable__control:checked~label.sk-toggleable__label {background-color: #d4ebff;}#sk-3850e165-61e8-4bd3-9b57-fdb3676d32d4 div.sk-label input.sk-toggleable__control:checked~label.sk-toggleable__label {background-color: #d4ebff;}#sk-3850e165-61e8-4bd3-9b57-fdb3676d32d4 input.sk-hidden--visually {border: 0;clip: rect(1px 1px 1px 1px);clip: rect(1px, 1px, 1px, 1px);height: 1px;margin: -1px;overflow: hidden;padding: 0;position: absolute;width: 1px;}#sk-3850e165-61e8-4bd3-9b57-fdb3676d32d4 div.sk-estimator {font-family: monospace;background-color: #f0f8ff;border: 1px dotted black;border-radius: 0.25em;box-sizing: border-box;margin-bottom: 0.5em;}#sk-3850e165-61e8-4bd3-9b57-fdb3676d32d4 div.sk-estimator:hover {background-color: #d4ebff;}#sk-3850e165-61e8-4bd3-9b57-fdb3676d32d4 div.sk-parallel-item::after {content: \"\";width: 100%;border-bottom: 1px solid gray;flex-grow: 1;}#sk-3850e165-61e8-4bd3-9b57-fdb3676d32d4 div.sk-label:hover label.sk-toggleable__label {background-color: #d4ebff;}#sk-3850e165-61e8-4bd3-9b57-fdb3676d32d4 div.sk-serial::before {content: \"\";position: absolute;border-left: 1px solid gray;box-sizing: border-box;top: 2em;bottom: 0;left: 50%;}#sk-3850e165-61e8-4bd3-9b57-fdb3676d32d4 div.sk-serial {display: flex;flex-direction: column;align-items: center;background-color: white;padding-right: 0.2em;padding-left: 0.2em;}#sk-3850e165-61e8-4bd3-9b57-fdb3676d32d4 div.sk-item {z-index: 1;}#sk-3850e165-61e8-4bd3-9b57-fdb3676d32d4 div.sk-parallel {display: flex;align-items: stretch;justify-content: center;background-color: white;}#sk-3850e165-61e8-4bd3-9b57-fdb3676d32d4 div.sk-parallel::before {content: \"\";position: absolute;border-left: 1px solid gray;box-sizing: border-box;top: 2em;bottom: 0;left: 50%;}#sk-3850e165-61e8-4bd3-9b57-fdb3676d32d4 div.sk-parallel-item {display: flex;flex-direction: column;position: relative;background-color: white;}#sk-3850e165-61e8-4bd3-9b57-fdb3676d32d4 div.sk-parallel-item:first-child::after {align-self: flex-end;width: 50%;}#sk-3850e165-61e8-4bd3-9b57-fdb3676d32d4 div.sk-parallel-item:last-child::after {align-self: flex-start;width: 50%;}#sk-3850e165-61e8-4bd3-9b57-fdb3676d32d4 div.sk-parallel-item:only-child::after {width: 0;}#sk-3850e165-61e8-4bd3-9b57-fdb3676d32d4 div.sk-dashed-wrapped {border: 1px dashed gray;margin: 0 0.4em 0.5em 0.4em;box-sizing: border-box;padding-bottom: 0.4em;background-color: white;position: relative;}#sk-3850e165-61e8-4bd3-9b57-fdb3676d32d4 div.sk-label label {font-family: monospace;font-weight: bold;background-color: white;display: inline-block;line-height: 1.2em;}#sk-3850e165-61e8-4bd3-9b57-fdb3676d32d4 div.sk-label-container {position: relative;z-index: 2;text-align: center;}#sk-3850e165-61e8-4bd3-9b57-fdb3676d32d4 div.sk-container {/* jupyter's `normalize.less` sets `[hidden] { display: none; }` but bootstrap.min.css set `[hidden] { display: none !important; }` so we also need the `!important` here to be able to override the default hidden behavior on the sphinx rendered scikit-learn.org. See: https://github.com/scikit-learn/scikit-learn/issues/21755 */display: inline-block !important;position: relative;}#sk-3850e165-61e8-4bd3-9b57-fdb3676d32d4 div.sk-text-repr-fallback {display: none;}</style><div id=\"sk-3850e165-61e8-4bd3-9b57-fdb3676d32d4\" class=\"sk-top-container\"><div class=\"sk-text-repr-fallback\"><pre>Pipeline(steps=[(&#x27;col_trans&#x27;,\n",
              "                 ColumnTransformer(n_jobs=-1,\n",
              "                                   transformers=[(&#x27;num_pipeline&#x27;,\n",
              "                                                  Pipeline(steps=[(&#x27;impute&#x27;,\n",
              "                                                                   SimpleImputer()),\n",
              "                                                                  (&#x27;scale&#x27;,\n",
              "                                                                   MinMaxScaler())]),\n",
              "                                                  [&#x27;city_development_index&#x27;,\n",
              "                                                   &#x27;relevent_experience&#x27;,\n",
              "                                                   &#x27;experience&#x27;, &#x27;last_new_job&#x27;,\n",
              "                                                   &#x27;training_hours&#x27;]),\n",
              "                                                 (&#x27;cat_pipeline&#x27;,\n",
              "                                                  Pipeline(steps=[(&#x27;impute&#x27;,\n",
              "                                                                   SimpleImputer(strategy=&#x27;most_frequent&#x27;)),\n",
              "                                                                  (&#x27;one-hot&#x27;,\n",
              "                                                                   OneHotEncoder(handle_unknown=&#x27;ignore&#x27;,\n",
              "                                                                                 sparse=False))]),\n",
              "                                                  [&#x27;gender&#x27;,\n",
              "                                                   &#x27;enrolled_university&#x27;,\n",
              "                                                   &#x27;education_level&#x27;,\n",
              "                                                   &#x27;major_discipline&#x27;,\n",
              "                                                   &#x27;company_size&#x27;,\n",
              "                                                   &#x27;company_type&#x27;])])),\n",
              "                (&#x27;model&#x27;, LogisticRegression(random_state=0))])</pre><b>Please rerun this cell to show the HTML repr or trust the notebook.</b></div><div class=\"sk-container\" hidden><div class=\"sk-item sk-dashed-wrapped\"><div class=\"sk-label-container\"><div class=\"sk-label sk-toggleable\"><input class=\"sk-toggleable__control sk-hidden--visually\" id=\"5f435354-ca3c-4e4e-a9f4-02ef17dc49ed\" type=\"checkbox\" ><label for=\"5f435354-ca3c-4e4e-a9f4-02ef17dc49ed\" class=\"sk-toggleable__label sk-toggleable__label-arrow\">Pipeline</label><div class=\"sk-toggleable__content\"><pre>Pipeline(steps=[(&#x27;col_trans&#x27;,\n",
              "                 ColumnTransformer(n_jobs=-1,\n",
              "                                   transformers=[(&#x27;num_pipeline&#x27;,\n",
              "                                                  Pipeline(steps=[(&#x27;impute&#x27;,\n",
              "                                                                   SimpleImputer()),\n",
              "                                                                  (&#x27;scale&#x27;,\n",
              "                                                                   MinMaxScaler())]),\n",
              "                                                  [&#x27;city_development_index&#x27;,\n",
              "                                                   &#x27;relevent_experience&#x27;,\n",
              "                                                   &#x27;experience&#x27;, &#x27;last_new_job&#x27;,\n",
              "                                                   &#x27;training_hours&#x27;]),\n",
              "                                                 (&#x27;cat_pipeline&#x27;,\n",
              "                                                  Pipeline(steps=[(&#x27;impute&#x27;,\n",
              "                                                                   SimpleImputer(strategy=&#x27;most_frequent&#x27;)),\n",
              "                                                                  (&#x27;one-hot&#x27;,\n",
              "                                                                   OneHotEncoder(handle_unknown=&#x27;ignore&#x27;,\n",
              "                                                                                 sparse=False))]),\n",
              "                                                  [&#x27;gender&#x27;,\n",
              "                                                   &#x27;enrolled_university&#x27;,\n",
              "                                                   &#x27;education_level&#x27;,\n",
              "                                                   &#x27;major_discipline&#x27;,\n",
              "                                                   &#x27;company_size&#x27;,\n",
              "                                                   &#x27;company_type&#x27;])])),\n",
              "                (&#x27;model&#x27;, LogisticRegression(random_state=0))])</pre></div></div></div><div class=\"sk-serial\"><div class=\"sk-item sk-dashed-wrapped\"><div class=\"sk-label-container\"><div class=\"sk-label sk-toggleable\"><input class=\"sk-toggleable__control sk-hidden--visually\" id=\"96ea0a76-feb4-4205-84d2-3549d96cf990\" type=\"checkbox\" ><label for=\"96ea0a76-feb4-4205-84d2-3549d96cf990\" class=\"sk-toggleable__label sk-toggleable__label-arrow\">col_trans: ColumnTransformer</label><div class=\"sk-toggleable__content\"><pre>ColumnTransformer(n_jobs=-1,\n",
              "                  transformers=[(&#x27;num_pipeline&#x27;,\n",
              "                                 Pipeline(steps=[(&#x27;impute&#x27;, SimpleImputer()),\n",
              "                                                 (&#x27;scale&#x27;, MinMaxScaler())]),\n",
              "                                 [&#x27;city_development_index&#x27;,\n",
              "                                  &#x27;relevent_experience&#x27;, &#x27;experience&#x27;,\n",
              "                                  &#x27;last_new_job&#x27;, &#x27;training_hours&#x27;]),\n",
              "                                (&#x27;cat_pipeline&#x27;,\n",
              "                                 Pipeline(steps=[(&#x27;impute&#x27;,\n",
              "                                                  SimpleImputer(strategy=&#x27;most_frequent&#x27;)),\n",
              "                                                 (&#x27;one-hot&#x27;,\n",
              "                                                  OneHotEncoder(handle_unknown=&#x27;ignore&#x27;,\n",
              "                                                                sparse=False))]),\n",
              "                                 [&#x27;gender&#x27;, &#x27;enrolled_university&#x27;,\n",
              "                                  &#x27;education_level&#x27;, &#x27;major_discipline&#x27;,\n",
              "                                  &#x27;company_size&#x27;, &#x27;company_type&#x27;])])</pre></div></div></div><div class=\"sk-parallel\"><div class=\"sk-parallel-item\"><div class=\"sk-item\"><div class=\"sk-label-container\"><div class=\"sk-label sk-toggleable\"><input class=\"sk-toggleable__control sk-hidden--visually\" id=\"2fdcaca8-0d3f-409a-b75e-e0d270c9d8d6\" type=\"checkbox\" ><label for=\"2fdcaca8-0d3f-409a-b75e-e0d270c9d8d6\" class=\"sk-toggleable__label sk-toggleable__label-arrow\">num_pipeline</label><div class=\"sk-toggleable__content\"><pre>[&#x27;city_development_index&#x27;, &#x27;relevent_experience&#x27;, &#x27;experience&#x27;, &#x27;last_new_job&#x27;, &#x27;training_hours&#x27;]</pre></div></div></div><div class=\"sk-serial\"><div class=\"sk-item\"><div class=\"sk-serial\"><div class=\"sk-item\"><div class=\"sk-estimator sk-toggleable\"><input class=\"sk-toggleable__control sk-hidden--visually\" id=\"3b183f28-1af8-4546-ace8-e46c802fdb1b\" type=\"checkbox\" ><label for=\"3b183f28-1af8-4546-ace8-e46c802fdb1b\" class=\"sk-toggleable__label sk-toggleable__label-arrow\">SimpleImputer</label><div class=\"sk-toggleable__content\"><pre>SimpleImputer()</pre></div></div></div><div class=\"sk-item\"><div class=\"sk-estimator sk-toggleable\"><input class=\"sk-toggleable__control sk-hidden--visually\" id=\"4656a4a7-77e6-4895-9a0a-2f2d2c94d642\" type=\"checkbox\" ><label for=\"4656a4a7-77e6-4895-9a0a-2f2d2c94d642\" class=\"sk-toggleable__label sk-toggleable__label-arrow\">MinMaxScaler</label><div class=\"sk-toggleable__content\"><pre>MinMaxScaler()</pre></div></div></div></div></div></div></div></div><div class=\"sk-parallel-item\"><div class=\"sk-item\"><div class=\"sk-label-container\"><div class=\"sk-label sk-toggleable\"><input class=\"sk-toggleable__control sk-hidden--visually\" id=\"3ebb3431-7c19-4f61-a21b-c8ecd53ab538\" type=\"checkbox\" ><label for=\"3ebb3431-7c19-4f61-a21b-c8ecd53ab538\" class=\"sk-toggleable__label sk-toggleable__label-arrow\">cat_pipeline</label><div class=\"sk-toggleable__content\"><pre>[&#x27;gender&#x27;, &#x27;enrolled_university&#x27;, &#x27;education_level&#x27;, &#x27;major_discipline&#x27;, &#x27;company_size&#x27;, &#x27;company_type&#x27;]</pre></div></div></div><div class=\"sk-serial\"><div class=\"sk-item\"><div class=\"sk-serial\"><div class=\"sk-item\"><div class=\"sk-estimator sk-toggleable\"><input class=\"sk-toggleable__control sk-hidden--visually\" id=\"6039f25d-a6dd-4f6d-a0a1-6a76e76f3c64\" type=\"checkbox\" ><label for=\"6039f25d-a6dd-4f6d-a0a1-6a76e76f3c64\" class=\"sk-toggleable__label sk-toggleable__label-arrow\">SimpleImputer</label><div class=\"sk-toggleable__content\"><pre>SimpleImputer(strategy=&#x27;most_frequent&#x27;)</pre></div></div></div><div class=\"sk-item\"><div class=\"sk-estimator sk-toggleable\"><input class=\"sk-toggleable__control sk-hidden--visually\" id=\"ee2c3773-1da2-47be-b6ea-950e889a700f\" type=\"checkbox\" ><label for=\"ee2c3773-1da2-47be-b6ea-950e889a700f\" class=\"sk-toggleable__label sk-toggleable__label-arrow\">OneHotEncoder</label><div class=\"sk-toggleable__content\"><pre>OneHotEncoder(handle_unknown=&#x27;ignore&#x27;, sparse=False)</pre></div></div></div></div></div></div></div></div></div></div><div class=\"sk-item\"><div class=\"sk-estimator sk-toggleable\"><input class=\"sk-toggleable__control sk-hidden--visually\" id=\"9453d75b-c2c2-43ee-8e6f-dfd93268360e\" type=\"checkbox\" ><label for=\"9453d75b-c2c2-43ee-8e6f-dfd93268360e\" class=\"sk-toggleable__label sk-toggleable__label-arrow\">LogisticRegression</label><div class=\"sk-toggleable__content\"><pre>LogisticRegression(random_state=0)</pre></div></div></div></div></div></div></div>"
            ]
          },
          "metadata": {}
        }
      ]
    },
    {
      "cell_type": "code",
      "source": [
        "# clf_pipeline.fit(X_train, y_train)\n",
        "# # preds = clf_pipeline.predict(X_test)\n",
        "# score = clf_pipeline.score(X_test, y_test)\n",
        "# print(f\"Model score: {score}\") # accuracy"
      ],
      "metadata": {
        "id": "rFVtKJ0Ehhtv"
      },
      "execution_count": 6,
      "outputs": []
    },
    {
      "cell_type": "code",
      "source": [
        "# import joblib\n",
        "# # Save pipeline to file \"pipe.joblib\"\n",
        "# joblib.dump(clf_pipeline,\"pipe.joblib\")\n",
        "# # Load pipeline when you want to use\n",
        "# same_pipe = joblib.load(\"pipe.joblib\")"
      ],
      "metadata": {
        "id": "9QunlpOfhmBb"
      },
      "execution_count": 7,
      "outputs": []
    }
  ]
}
