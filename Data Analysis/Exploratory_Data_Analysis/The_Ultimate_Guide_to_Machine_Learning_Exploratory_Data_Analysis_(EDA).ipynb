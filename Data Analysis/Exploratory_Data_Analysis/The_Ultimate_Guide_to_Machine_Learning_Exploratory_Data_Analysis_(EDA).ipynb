{
  "nbformat": 4,
  "nbformat_minor": 0,
  "metadata": {
    "colab": {
      "provenance": [],
      "authorship_tag": "ABX9TyPW0BQMM5yyHFwWUOmFglz/"
    },
    "kernelspec": {
      "name": "python3",
      "display_name": "Python 3"
    },
    "language_info": {
      "name": "python"
    }
  },
  "cells": [
    {
      "cell_type": "markdown",
      "source": [
        "[Reference](https://medium.com/@simranjeetsingh1497/the-ultimate-guide-to-machine-learning-from-eda-to-model-deployment-part-1-46083efb2d3c)"
      ],
      "metadata": {
        "id": "kjK84uBdZcg0"
      }
    },
    {
      "cell_type": "code",
      "execution_count": 1,
      "metadata": {
        "colab": {
          "base_uri": "https://localhost:8080/"
        },
        "id": "jIONSKJdZY4h",
        "outputId": "53f541fa-7403-4f0a-f7d4-c5fc9100ba2c"
      },
      "outputs": [
        {
          "output_type": "stream",
          "name": "stdout",
          "text": [
            "     A    B   C\n",
            "0  1.0  5.0   9\n",
            "1  2.0  NaN  10\n",
            "2  NaN  NaN  11\n",
            "3  4.0  8.0  12\n",
            "     A    B   C\n",
            "0  1.0  5.0   9\n",
            "3  4.0  8.0  12\n",
            "     A    B   C\n",
            "0  1.0  5.0   9\n",
            "3  4.0  8.0  12\n"
          ]
        }
      ],
      "source": [
        "import pandas as pd\n",
        "import numpy as np\n",
        "\n",
        "# Create a sample dataframe with missing data\n",
        "df = pd.DataFrame({'A': [1, 2, np.nan, 4], 'B': [5, np.nan, np.nan, 8], 'C': [9, 10, 11, 12]})\n",
        "print(df)\n",
        "\n",
        "# Drop rows with missing data\n",
        "df.dropna(inplace=True)\n",
        "print(df)\n",
        "\n",
        "# Fill missing values with mean value\n",
        "df.fillna(df.mean(), inplace=True)\n",
        "print(df)"
      ]
    },
    {
      "cell_type": "code",
      "source": [
        "# Create a sample dataframe with mixed data types\n",
        "df = pd.DataFrame({'A': [1, 2, 3], 'B': ['4', '5', '6'], 'C': ['2021-01-01', '2021-01-02', '2021-01-03']})\n",
        "print(df)\n",
        "\n",
        "# Convert column 'B' from string to integer\n",
        "df['B'] = df['B'].astype(int)\n",
        "print(df)\n",
        "\n",
        "# Convert column 'C' from string to datetime\n",
        "df['C'] = pd.to_datetime(df['C'])\n",
        "print(df)"
      ],
      "metadata": {
        "colab": {
          "base_uri": "https://localhost:8080/"
        },
        "id": "XWu9DEphaVS8",
        "outputId": "6e922188-eb8b-453f-9ba2-0e5093f6442d"
      },
      "execution_count": 2,
      "outputs": [
        {
          "output_type": "stream",
          "name": "stdout",
          "text": [
            "   A  B           C\n",
            "0  1  4  2021-01-01\n",
            "1  2  5  2021-01-02\n",
            "2  3  6  2021-01-03\n",
            "   A  B           C\n",
            "0  1  4  2021-01-01\n",
            "1  2  5  2021-01-02\n",
            "2  3  6  2021-01-03\n",
            "   A  B          C\n",
            "0  1  4 2021-01-01\n",
            "1  2  5 2021-01-02\n",
            "2  3  6 2021-01-03\n"
          ]
        }
      ]
    },
    {
      "cell_type": "code",
      "source": [
        "import numpy as np\n",
        "\n",
        "# Create a sample array\n",
        "data = np.array([[1, 2], [3, 4], [5, 6]])\n",
        "\n",
        "# Standardize data\n",
        "mean = np.mean(data, axis=0)\n",
        "std = np.std(data, axis=0)\n",
        "data_scaled = (data - mean) / std\n",
        "print(data_scaled)"
      ],
      "metadata": {
        "colab": {
          "base_uri": "https://localhost:8080/"
        },
        "id": "wla9wCvNaYLU",
        "outputId": "5da3eea0-e136-4843-949a-4727aaacc4f0"
      },
      "execution_count": 3,
      "outputs": [
        {
          "output_type": "stream",
          "name": "stdout",
          "text": [
            "[[-1.22474487 -1.22474487]\n",
            " [ 0.          0.        ]\n",
            " [ 1.22474487  1.22474487]]\n"
          ]
        }
      ]
    },
    {
      "cell_type": "code",
      "source": [
        "import pandas as pd\n",
        "\n",
        "# create a sample data frame\n",
        "df = pd.DataFrame({\n",
        "    'A': [1, 2, 3, 4, 5],\n",
        "    'B': [6, 7, 8, 9, 10]\n",
        "})\n",
        "\n",
        "# calculate mean\n",
        "print(df.mean())\n",
        "\n",
        "# calculate median\n",
        "print(df.median())\n",
        "\n",
        "# calculate standard deviation\n",
        "print(df.std())"
      ],
      "metadata": {
        "colab": {
          "base_uri": "https://localhost:8080/"
        },
        "id": "8GOh17dMaea3",
        "outputId": "e8084648-1902-420b-96ec-615e79f4e54f"
      },
      "execution_count": 5,
      "outputs": [
        {
          "output_type": "stream",
          "name": "stdout",
          "text": [
            "A    3.0\n",
            "B    8.0\n",
            "dtype: float64\n",
            "A    3.0\n",
            "B    8.0\n",
            "dtype: float64\n",
            "A    1.581139\n",
            "B    1.581139\n",
            "dtype: float64\n"
          ]
        }
      ]
    },
    {
      "cell_type": "code",
      "source": [
        "from scipy.stats import ttest_ind\n",
        "\n",
        "# create two samples\n",
        "sample1 = [1, 2, 3, 4, 5]\n",
        "sample2 = [6, 7, 8, 9, 10]\n",
        "\n",
        "# conduct a t-test\n",
        "t_stat, p_val = ttest_ind(sample1, sample2)\n",
        "\n",
        "print('t-statistic:', t_stat)\n",
        "print('p-value:', p_val)"
      ],
      "metadata": {
        "colab": {
          "base_uri": "https://localhost:8080/"
        },
        "id": "AxcA2hpLaf3G",
        "outputId": "073b24fe-b933-497b-c2c6-a05753e8a471"
      },
      "execution_count": 6,
      "outputs": [
        {
          "output_type": "stream",
          "name": "stdout",
          "text": [
            "t-statistic: -5.0\n",
            "p-value: 0.001052825793366539\n"
          ]
        }
      ]
    },
    {
      "cell_type": "code",
      "source": [
        "import numpy as np\n",
        "\n",
        "# generate 100 random numbers from a normal distribution with mean 0 and standard deviation 1\n",
        "data = np.random.normal(0, 1, 100)\n",
        "\n",
        "print(data)"
      ],
      "metadata": {
        "colab": {
          "base_uri": "https://localhost:8080/"
        },
        "id": "4sjcECfsbeZd",
        "outputId": "b2f963b8-5f95-41d6-f0d8-a599ab571cf6"
      },
      "execution_count": 7,
      "outputs": [
        {
          "output_type": "stream",
          "name": "stdout",
          "text": [
            "[-6.06176466e-01  1.35985578e+00  4.56240112e-01  4.51115450e-01\n",
            " -1.38821988e+00  2.35727637e+00 -1.33477368e+00 -1.08437916e-01\n",
            " -1.32631952e+00  2.52829200e-01  1.21735786e-02 -1.58411773e-01\n",
            "  6.98247544e-01  1.31015678e-01 -9.33574040e-01  4.09192963e-01\n",
            "  1.84961327e-01  8.00305529e-01 -7.62272696e-01  5.11681806e-01\n",
            " -1.54370721e-01 -9.71612770e-01 -2.02902354e-01  1.54192448e+00\n",
            " -8.26760518e-01 -5.87162742e-01  2.13219368e+00 -8.04248777e-01\n",
            "  7.94267189e-02 -9.47177160e-02  1.98914629e+00  4.76613026e-01\n",
            " -3.20282066e+00  6.98899093e-02  1.29523547e+00  3.57487527e-02\n",
            "  1.37327573e+00 -3.60713613e-02  6.93269647e-01 -1.30325177e+00\n",
            " -1.76952975e+00 -1.22487233e+00 -4.46585600e-01  2.03505100e-01\n",
            " -6.09400162e-01  2.48927791e+00 -3.06014871e-01 -7.15016245e-01\n",
            "  1.95644459e-01 -1.28240350e+00 -6.82797636e-01  1.29529795e+00\n",
            " -6.44331949e-01 -8.05098953e-01 -1.29859163e+00  6.77562886e-01\n",
            " -1.45708153e+00 -1.87741016e-01 -7.13945448e-02  7.35677876e-02\n",
            "  1.91737922e+00  1.48913463e-01  1.35136530e+00 -8.69678946e-01\n",
            " -5.84163939e-01 -7.82389366e-01 -1.43627865e-01 -5.90195579e-01\n",
            " -1.44394725e+00  7.18006006e-01  3.15020022e-03  1.39108124e+00\n",
            " -2.65675630e-01 -9.09538045e-01 -9.98984416e-01  7.13028132e-02\n",
            "  1.40822007e-01 -2.58045299e-02  6.39624147e-01  3.86961759e-01\n",
            "  1.87953984e+00  7.33903325e-01  4.09288658e-01  4.75717530e-01\n",
            " -6.95472412e-01 -9.97515904e-01  9.32843145e-01  8.86812776e-01\n",
            "  8.05268103e-01  6.73941495e-01  1.05068122e+00  9.14517740e-01\n",
            "  1.79268192e+00  6.80150588e-01 -1.32882965e+00  1.92722730e+00\n",
            "  1.39874714e+00 -6.26338468e-01  2.32025923e+00 -2.40031246e+00]\n"
          ]
        }
      ]
    },
    {
      "cell_type": "code",
      "source": [
        "from scipy.stats import t\n",
        "\n",
        "# create a sample data set\n",
        "data = [1, 2, 3, 4, 5]\n",
        "\n",
        "# calculate the mean and standard deviation\n",
        "mean = np.mean(data)\n",
        "std = np.std(data)\n",
        "\n",
        "# calculate the standard error of the mean\n",
        "sem = std / np.sqrt(len(data))\n",
        "\n",
        "# calculate the 95% confidence interval\n",
        "ci = t.interval(0.95, len(data)-1, loc=mean, scale=sem)\n",
        "\n",
        "print('Mean:', mean)\n",
        "print('Standard deviation:', std)\n",
        "print('Standard error of the mean:', sem)\n",
        "print('Confidence Interval:', ci)"
      ],
      "metadata": {
        "colab": {
          "base_uri": "https://localhost:8080/"
        },
        "id": "yPjJb4q_bsTg",
        "outputId": "a7b03898-a5a5-4a3b-e5d2-1f28f8fc06ad"
      },
      "execution_count": 8,
      "outputs": [
        {
          "output_type": "stream",
          "name": "stdout",
          "text": [
            "Mean: 3.0\n",
            "Standard deviation: 1.4142135623730951\n",
            "Standard error of the mean: 0.6324555320336759\n",
            "Confidence Interval: (1.244021933829831, 4.755978066170169)\n"
          ]
        }
      ]
    },
    {
      "cell_type": "code",
      "source": [
        "import numpy as np\n",
        "\n",
        "# Define a numpy array with some outliers\n",
        "data = np.array([2, 3, 5, 7, 9, 11, 13, 15, 17, 19, 100, 200, 300, 400])\n",
        "\n",
        "# Calculate the lower and upper bounds for Winsorization\n",
        "lower_bound = np.percentile(data, 5)\n",
        "upper_bound = np.percentile(data, 95)\n",
        "\n",
        "# Replace the outliers with the lower and upper bounds\n",
        "winsorized_data = np.clip(data, lower_bound, upper_bound)\n",
        "\n",
        "print(winsorized_data)"
      ],
      "metadata": {
        "colab": {
          "base_uri": "https://localhost:8080/"
        },
        "id": "YT8Il-EJbtZm",
        "outputId": "33f76f75-eb0d-41fd-950f-9077510bc232"
      },
      "execution_count": 9,
      "outputs": [
        {
          "output_type": "stream",
          "name": "stdout",
          "text": [
            "[  2.65   3.     5.     7.     9.    11.    13.    15.    17.    19.\n",
            " 100.   200.   300.   335.  ]\n"
          ]
        }
      ]
    },
    {
      "cell_type": "code",
      "source": [
        "import numpy as np\n",
        "\n",
        "# generate some data with outliers\n",
        "data = np.random.normal(loc=10, scale=5, size=100)\n",
        "data[0] = -100\n",
        "data[1] = 200\n",
        "\n",
        "# apply log transformation to treat outliers\n",
        "transformed_data = np.log(data - min(data) + 1)\n",
        "\n",
        "# plot the original and transformed data\n",
        "import matplotlib.pyplot as plt\n",
        "\n",
        "fig, ax = plt.subplots(1, 2, figsize=(10, 5))\n",
        "\n",
        "ax[0].hist(data, bins=20)\n",
        "ax[0].set_title('Original data')\n",
        "\n",
        "ax[1].hist(transformed_data, bins=20)\n",
        "ax[1].set_title('Transformed data')\n",
        "\n",
        "plt.show()"
      ],
      "metadata": {
        "colab": {
          "base_uri": "https://localhost:8080/",
          "height": 362
        },
        "id": "y1cVZrM1bx2O",
        "outputId": "4725bbd2-102e-4c24-99d2-ad7b8352c7e7"
      },
      "execution_count": 10,
      "outputs": [
        {
          "output_type": "display_data",
          "data": {
            "text/plain": [
              "<Figure size 1000x500 with 2 Axes>"
            ],
            "image/png": "[encoded data removed]"
          },
          "metadata": {}
        }
      ]
    }
  ]
}
