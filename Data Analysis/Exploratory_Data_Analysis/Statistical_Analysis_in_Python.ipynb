{
  "nbformat": 4,
  "nbformat_minor": 0,
  "metadata": {
    "colab": {
      "name": "Statistical Analysis in Python.ipynb",
      "provenance": [],
      "authorship_tag": "ABX9TyP3d6hggO7RWUiCG3cgu3eY"
    },
    "kernelspec": {
      "name": "python3",
      "display_name": "Python 3"
    },
    "language_info": {
      "name": "python"
    }
  },
  "cells": [
    {
      "cell_type": "markdown",
      "metadata": {
        "id": "49Fn-w_jX_S7"
      },
      "source": [
        "[Reference](https://medium.com/mlearning-ai/statistical-analysis-in-python-9a04cf7705b7)"
      ]
    },
    {
      "cell_type": "code",
      "metadata": {
        "colab": {
          "base_uri": "https://localhost:8080/",
          "height": 820
        },
        "id": "ohgk-5dLX9qf",
        "outputId": "871dc338-4fcf-40b2-a01c-41ae65836cc8"
      },
      "source": [
        "pip install skimpy"
      ],
      "execution_count": 1,
      "outputs": [
        {
          "output_type": "stream",
          "name": "stdout",
          "text": [
            "Collecting skimpy\n",
            "  Downloading skimpy-0.0.4-py3-none-any.whl (10 kB)\n",
            "Collecting pandas<2.0.0,>=1.3.2\n",
            "  Downloading pandas-1.3.4-cp37-cp37m-manylinux_2_17_x86_64.manylinux2014_x86_64.whl (11.3 MB)\n",
            "\u001b[K     |████████████████████████████████| 11.3 MB 5.2 MB/s \n",
            "\u001b[?25hRequirement already satisfied: click==7.1.2 in /usr/local/lib/python3.7/dist-packages (from skimpy) (7.1.2)\n",
            "Collecting typeguard<3.0.0,>=2.12.1\n",
            "  Downloading typeguard-2.13.0-py3-none-any.whl (17 kB)\n",
            "Collecting rich<11.0.0,>=10.9.0\n",
            "  Downloading rich-10.12.0-py3-none-any.whl (212 kB)\n",
            "\u001b[K     |████████████████████████████████| 212 kB 56.3 MB/s \n",
            "\u001b[?25hCollecting Pygments<3.0.0,>=2.10.0\n",
            "  Downloading Pygments-2.10.0-py3-none-any.whl (1.0 MB)\n",
            "\u001b[K     |████████████████████████████████| 1.0 MB 37.8 MB/s \n",
            "\u001b[?25hRequirement already satisfied: numpy>=1.17.3 in /usr/local/lib/python3.7/dist-packages (from pandas<2.0.0,>=1.3.2->skimpy) (1.19.5)\n",
            "Requirement already satisfied: python-dateutil>=2.7.3 in /usr/local/lib/python3.7/dist-packages (from pandas<2.0.0,>=1.3.2->skimpy) (2.8.2)\n",
            "Requirement already satisfied: pytz>=2017.3 in /usr/local/lib/python3.7/dist-packages (from pandas<2.0.0,>=1.3.2->skimpy) (2018.9)\n",
            "Requirement already satisfied: six>=1.5 in /usr/local/lib/python3.7/dist-packages (from python-dateutil>=2.7.3->pandas<2.0.0,>=1.3.2->skimpy) (1.15.0)\n",
            "Requirement already satisfied: typing-extensions<4.0.0,>=3.7.4 in /usr/local/lib/python3.7/dist-packages (from rich<11.0.0,>=10.9.0->skimpy) (3.7.4.3)\n",
            "Collecting colorama<0.5.0,>=0.4.0\n",
            "  Downloading colorama-0.4.4-py2.py3-none-any.whl (16 kB)\n",
            "Collecting commonmark<0.10.0,>=0.9.0\n",
            "  Downloading commonmark-0.9.1-py2.py3-none-any.whl (51 kB)\n",
            "\u001b[K     |████████████████████████████████| 51 kB 7.3 MB/s \n",
            "\u001b[?25hInstalling collected packages: Pygments, commonmark, colorama, typeguard, rich, pandas, skimpy\n",
            "  Attempting uninstall: Pygments\n",
            "    Found existing installation: Pygments 2.6.1\n",
            "    Uninstalling Pygments-2.6.1:\n",
            "      Successfully uninstalled Pygments-2.6.1\n",
            "  Attempting uninstall: typeguard\n",
            "    Found existing installation: typeguard 2.7.1\n",
            "    Uninstalling typeguard-2.7.1:\n",
            "      Successfully uninstalled typeguard-2.7.1\n",
            "  Attempting uninstall: pandas\n",
            "    Found existing installation: pandas 1.1.5\n",
            "    Uninstalling pandas-1.1.5:\n",
            "      Successfully uninstalled pandas-1.1.5\n",
            "\u001b[31mERROR: pip's dependency resolver does not currently take into account all the packages that are installed. This behaviour is the source of the following dependency conflicts.\n",
            "google-colab 1.0.0 requires pandas~=1.1.0; python_version >= \"3.0\", but you have pandas 1.3.4 which is incompatible.\n",
            "datascience 0.10.6 requires folium==0.2.1, but you have folium 0.8.3 which is incompatible.\u001b[0m\n",
            "Successfully installed Pygments-2.10.0 colorama-0.4.4 commonmark-0.9.1 pandas-1.3.4 rich-10.12.0 skimpy-0.0.4 typeguard-2.13.0\n"
          ]
        },
        {
          "output_type": "display_data",
          "data": {
            "application/vnd.colab-display-data+json": {
              "pip_warning": {
                "packages": [
                  "pandas",
                  "pygments"
                ]
              }
            }
          },
          "metadata": {}
        }
      ]
    },
    {
      "cell_type": "markdown",
      "metadata": {
        "id": "bdMhPdF3YInq"
      },
      "source": [
        "# Importing required libraries"
      ]
    },
    {
      "cell_type": "code",
      "metadata": {
        "id": "ndeCpLlWYCCu"
      },
      "source": [
        "from skimpy import skim, generate_test_data\n",
        "import seaborn as sns"
      ],
      "execution_count": 1,
      "outputs": []
    },
    {
      "cell_type": "markdown",
      "metadata": {
        "id": "QpGQV7DSYKnN"
      },
      "source": [
        "# Creating Statistical Summary"
      ]
    },
    {
      "cell_type": "code",
      "metadata": {
        "colab": {
          "base_uri": "https://localhost:8080/",
          "height": 481
        },
        "id": "OBqt7nyEYGRG",
        "outputId": "67ea57ae-7784-4127-80c0-8f353a18cd5a"
      },
      "source": [
        "df = sns.load_dataset(\"tips\")\n",
        "skim(df)"
      ],
      "execution_count": 2,
      "outputs": [
        {
          "output_type": "display_data",
          "data": {
            "text/html": [
              "<pre style=\"white-space:pre;overflow-x:auto;line-height:normal;font-family:Menlo,'DejaVu Sans Mono',consolas,'Courier New',monospace\">╭───────────────────────────────────── skimpy summary ──────────────────────────────────────╮\n",
              "│ <span style=\"font-style: italic\">         Data Summary         </span> <span style=\"font-style: italic\">      Data Types       </span> <span style=\"font-style: italic\">       Categories        </span>          │\n",
              "│ ┏━━━━━━━━━━━━━━━━━━━┳━━━━━━━━┓ ┏━━━━━━━━━━━━━┳━━━━━━━┓ ┏━━━━━━━━━━━━━━━━━━━━━━━┓          │\n",
              "│ ┃<span style=\"color: #008080; text-decoration-color: #008080; font-weight: bold\"> dataframe         </span>┃<span style=\"color: #008080; text-decoration-color: #008080; font-weight: bold\"> Values </span>┃ ┃<span style=\"color: #008080; text-decoration-color: #008080; font-weight: bold\"> Column Type </span>┃<span style=\"color: #008080; text-decoration-color: #008080; font-weight: bold\"> Count </span>┃ ┃<span style=\"color: #008080; text-decoration-color: #008080; font-weight: bold\"> Categorical Variables </span>┃          │\n",
              "│ ┡━━━━━━━━━━━━━━━━━━━╇━━━━━━━━┩ ┡━━━━━━━━━━━━━╇━━━━━━━┩ ┡━━━━━━━━━━━━━━━━━━━━━━━┩          │\n",
              "│ │ Number of rows    │ 244    │ │ category    │ 4     │ │ sex                   │          │\n",
              "│ │ Number of columns │ 7      │ │ float64     │ 2     │ │ smoker                │          │\n",
              "│ └───────────────────┴────────┘ │ int64       │ 1     │ │ day                   │          │\n",
              "│                                └─────────────┴───────┘ │ time                  │          │\n",
              "│                                                        └───────────────────────┘          │\n",
              "│ <span style=\"font-style: italic\">                                         number                                         </span>  │\n",
              "│ ┏━━━━━━━━━━━━┳━━━━━━━━━┳━━━━━━━━━━━━━┳━━━━━━┳━━━━━━┳━━━━━┳━━━━━━┳━━━━━━┳━━━━━━┳━━━━━━━━┓  │\n",
              "│ ┃<span style=\"font-weight: bold\">            </span>┃<span style=\"font-weight: bold\"> missing </span>┃<span style=\"font-weight: bold\"> complete    </span>┃<span style=\"font-weight: bold\"> mean </span>┃<span style=\"font-weight: bold\"> sd   </span>┃<span style=\"font-weight: bold\"> p0  </span>┃<span style=\"font-weight: bold\"> p25  </span>┃<span style=\"font-weight: bold\"> p75  </span>┃<span style=\"font-weight: bold\"> p100 </span>┃<span style=\"font-weight: bold\"> hist   </span>┃  │\n",
              "│ ┃            ┃         ┃<span style=\"font-weight: bold\"> rate        </span>┃      ┃      ┃     ┃      ┃      ┃      ┃        ┃  │\n",
              "│ ┡━━━━━━━━━━━━╇━━━━━━━━━╇━━━━━━━━━━━━━╇━━━━━━╇━━━━━━╇━━━━━╇━━━━━━╇━━━━━━╇━━━━━━╇━━━━━━━━┩  │\n",
              "│ │ <span style=\"color: #af87ff; text-decoration-color: #af87ff\">total_bill</span> │ <span style=\"color: #008080; text-decoration-color: #008080\">0.0    </span> │ <span style=\"color: #008080; text-decoration-color: #008080\">1.0        </span> │ <span style=\"color: #008080; text-decoration-color: #008080\">20.0</span> │ <span style=\"color: #008080; text-decoration-color: #008080\">8.9 </span> │ <span style=\"color: #008080; text-decoration-color: #008080\">3.1</span> │ <span style=\"color: #008080; text-decoration-color: #008080\">13.0</span> │ <span style=\"color: #008080; text-decoration-color: #008080\">24.0</span> │ <span style=\"color: #008080; text-decoration-color: #008080\">51.0</span> │ <span style=\"color: #008000; text-decoration-color: #008000\">▂█▄▂▁▁</span> │  │\n",
              "│ │ <span style=\"color: #af87ff; text-decoration-color: #af87ff\">tip       </span> │ <span style=\"color: #008080; text-decoration-color: #008080\">0.0    </span> │ <span style=\"color: #008080; text-decoration-color: #008080\">1.0        </span> │ <span style=\"color: #008080; text-decoration-color: #008080\">3.0 </span> │ <span style=\"color: #008080; text-decoration-color: #008080\">1.4 </span> │ <span style=\"color: #008080; text-decoration-color: #008080\">1.0</span> │ <span style=\"color: #008080; text-decoration-color: #008080\">2.0 </span> │ <span style=\"color: #008080; text-decoration-color: #008080\">3.6 </span> │ <span style=\"color: #008080; text-decoration-color: #008080\">10.0</span> │ <span style=\"color: #008000; text-decoration-color: #008000\">██▃▁  </span> │  │\n",
              "│ │ <span style=\"color: #af87ff; text-decoration-color: #af87ff\">size      </span> │ <span style=\"color: #008080; text-decoration-color: #008080\">0.0    </span> │ <span style=\"color: #008080; text-decoration-color: #008080\">1.0        </span> │ <span style=\"color: #008080; text-decoration-color: #008080\">2.6 </span> │ <span style=\"color: #008080; text-decoration-color: #008080\">0.95</span> │ <span style=\"color: #008080; text-decoration-color: #008080\">1.0</span> │ <span style=\"color: #008080; text-decoration-color: #008080\">2.0 </span> │ <span style=\"color: #008080; text-decoration-color: #008080\">3.0 </span> │ <span style=\"color: #008080; text-decoration-color: #008080\">6.0 </span> │ <span style=\"color: #008000; text-decoration-color: #008000\"> █▂▂  </span> │  │\n",
              "│ └────────────┴─────────┴─────────────┴──────┴──────┴─────┴──────┴──────┴──────┴────────┘  │\n",
              "│ <span style=\"font-style: italic\">                                        category                                        </span>  │\n",
              "│ ┏━━━━━━━━━━━━━━┳━━━━━━━━━━━━━━━┳━━━━━━━━━━━━━━━━━━━━━━━━━┳━━━━━━━━━━━━━━━┳━━━━━━━━━━━━━┓  │\n",
              "│ ┃<span style=\"font-weight: bold\">              </span>┃<span style=\"font-weight: bold\"> missing       </span>┃<span style=\"font-weight: bold\"> complete rate           </span>┃<span style=\"font-weight: bold\"> ordered       </span>┃<span style=\"font-weight: bold\"> unique      </span>┃  │\n",
              "│ ┡━━━━━━━━━━━━━━╇━━━━━━━━━━━━━━━╇━━━━━━━━━━━━━━━━━━━━━━━━━╇━━━━━━━━━━━━━━━╇━━━━━━━━━━━━━┩  │\n",
              "│ │ <span style=\"color: #af87ff; text-decoration-color: #af87ff\">sex         </span> │ <span style=\"color: #008080; text-decoration-color: #008080\">0.0          </span> │ <span style=\"color: #008080; text-decoration-color: #008080\">1.0                    </span> │ <span style=\"color: #00d7ff; text-decoration-color: #00d7ff\">False        </span> │ <span style=\"color: #008080; text-decoration-color: #008080\">2.0        </span> │  │\n",
              "│ │ <span style=\"color: #af87ff; text-decoration-color: #af87ff\">smoker      </span> │ <span style=\"color: #008080; text-decoration-color: #008080\">0.0          </span> │ <span style=\"color: #008080; text-decoration-color: #008080\">1.0                    </span> │ <span style=\"color: #00d7ff; text-decoration-color: #00d7ff\">False        </span> │ <span style=\"color: #008080; text-decoration-color: #008080\">2.0        </span> │  │\n",
              "│ │ <span style=\"color: #af87ff; text-decoration-color: #af87ff\">day         </span> │ <span style=\"color: #008080; text-decoration-color: #008080\">0.0          </span> │ <span style=\"color: #008080; text-decoration-color: #008080\">1.0                    </span> │ <span style=\"color: #00d7ff; text-decoration-color: #00d7ff\">False        </span> │ <span style=\"color: #008080; text-decoration-color: #008080\">4.0        </span> │  │\n",
              "│ │ <span style=\"color: #af87ff; text-decoration-color: #af87ff\">time        </span> │ <span style=\"color: #008080; text-decoration-color: #008080\">0.0          </span> │ <span style=\"color: #008080; text-decoration-color: #008080\">1.0                    </span> │ <span style=\"color: #00d7ff; text-decoration-color: #00d7ff\">False        </span> │ <span style=\"color: #008080; text-decoration-color: #008080\">2.0        </span> │  │\n",
              "│ └──────────────┴───────────────┴─────────────────────────┴───────────────┴─────────────┘  │\n",
              "╰─────────────────────────────────────────── End ───────────────────────────────────────────╯\n",
              "</pre>\n"
            ],
            "text/plain": [
              "╭───────────────────────────────────── skimpy summary ──────────────────────────────────────╮\n",
              "│ \u001b[3m         Data Summary         \u001b[0m \u001b[3m      Data Types       \u001b[0m \u001b[3m       Categories        \u001b[0m          │\n",
              "│ ┏━━━━━━━━━━━━━━━━━━━┳━━━━━━━━┓ ┏━━━━━━━━━━━━━┳━━━━━━━┓ ┏━━━━━━━━━━━━━━━━━━━━━━━┓          │\n",
              "│ ┃\u001b[1;36m \u001b[0m\u001b[1;36mdataframe        \u001b[0m\u001b[1;36m \u001b[0m┃\u001b[1;36m \u001b[0m\u001b[1;36mValues\u001b[0m\u001b[1;36m \u001b[0m┃ ┃\u001b[1;36m \u001b[0m\u001b[1;36mColumn Type\u001b[0m\u001b[1;36m \u001b[0m┃\u001b[1;36m \u001b[0m\u001b[1;36mCount\u001b[0m\u001b[1;36m \u001b[0m┃ ┃\u001b[1;36m \u001b[0m\u001b[1;36mCategorical Variables\u001b[0m\u001b[1;36m \u001b[0m┃          │\n",
              "│ ┡━━━━━━━━━━━━━━━━━━━╇━━━━━━━━┩ ┡━━━━━━━━━━━━━╇━━━━━━━┩ ┡━━━━━━━━━━━━━━━━━━━━━━━┩          │\n",
              "│ │ Number of rows    │ 244    │ │ category    │ 4     │ │ sex                   │          │\n",
              "│ │ Number of columns │ 7      │ │ float64     │ 2     │ │ smoker                │          │\n",
              "│ └───────────────────┴────────┘ │ int64       │ 1     │ │ day                   │          │\n",
              "│                                └─────────────┴───────┘ │ time                  │          │\n",
              "│                                                        └───────────────────────┘          │\n",
              "│ \u001b[3m                                         number                                         \u001b[0m  │\n",
              "│ ┏━━━━━━━━━━━━┳━━━━━━━━━┳━━━━━━━━━━━━━┳━━━━━━┳━━━━━━┳━━━━━┳━━━━━━┳━━━━━━┳━━━━━━┳━━━━━━━━┓  │\n",
              "│ ┃\u001b[1m \u001b[0m\u001b[1m          \u001b[0m\u001b[1m \u001b[0m┃\u001b[1m \u001b[0m\u001b[1mmissing\u001b[0m\u001b[1m \u001b[0m┃\u001b[1m \u001b[0m\u001b[1mcomplete   \u001b[0m\u001b[1m \u001b[0m┃\u001b[1m \u001b[0m\u001b[1mmean\u001b[0m\u001b[1m \u001b[0m┃\u001b[1m \u001b[0m\u001b[1msd  \u001b[0m\u001b[1m \u001b[0m┃\u001b[1m \u001b[0m\u001b[1mp0 \u001b[0m\u001b[1m \u001b[0m┃\u001b[1m \u001b[0m\u001b[1mp25 \u001b[0m\u001b[1m \u001b[0m┃\u001b[1m \u001b[0m\u001b[1mp75 \u001b[0m\u001b[1m \u001b[0m┃\u001b[1m \u001b[0m\u001b[1mp100\u001b[0m\u001b[1m \u001b[0m┃\u001b[1m \u001b[0m\u001b[1mhist  \u001b[0m\u001b[1m \u001b[0m┃  │\n",
              "│ ┃            ┃         ┃\u001b[1m \u001b[0m\u001b[1mrate       \u001b[0m\u001b[1m \u001b[0m┃      ┃      ┃     ┃      ┃      ┃      ┃        ┃  │\n",
              "│ ┡━━━━━━━━━━━━╇━━━━━━━━━╇━━━━━━━━━━━━━╇━━━━━━╇━━━━━━╇━━━━━╇━━━━━━╇━━━━━━╇━━━━━━╇━━━━━━━━┩  │\n",
              "│ │ \u001b[38;5;141mtotal_bill\u001b[0m │ \u001b[36m0.0    \u001b[0m │ \u001b[36m1.0        \u001b[0m │ \u001b[36m20.0\u001b[0m │ \u001b[36m8.9 \u001b[0m │ \u001b[36m3.1\u001b[0m │ \u001b[36m13.0\u001b[0m │ \u001b[36m24.0\u001b[0m │ \u001b[36m51.0\u001b[0m │ \u001b[32m▂█▄▂▁▁\u001b[0m │  │\n",
              "│ │ \u001b[38;5;141mtip       \u001b[0m │ \u001b[36m0.0    \u001b[0m │ \u001b[36m1.0        \u001b[0m │ \u001b[36m3.0 \u001b[0m │ \u001b[36m1.4 \u001b[0m │ \u001b[36m1.0\u001b[0m │ \u001b[36m2.0 \u001b[0m │ \u001b[36m3.6 \u001b[0m │ \u001b[36m10.0\u001b[0m │ \u001b[32m██▃▁  \u001b[0m │  │\n",
              "│ │ \u001b[38;5;141msize      \u001b[0m │ \u001b[36m0.0    \u001b[0m │ \u001b[36m1.0        \u001b[0m │ \u001b[36m2.6 \u001b[0m │ \u001b[36m0.95\u001b[0m │ \u001b[36m1.0\u001b[0m │ \u001b[36m2.0 \u001b[0m │ \u001b[36m3.0 \u001b[0m │ \u001b[36m6.0 \u001b[0m │ \u001b[32m █▂▂  \u001b[0m │  │\n",
              "│ └────────────┴─────────┴─────────────┴──────┴──────┴─────┴──────┴──────┴──────┴────────┘  │\n",
              "│ \u001b[3m                                        category                                        \u001b[0m  │\n",
              "│ ┏━━━━━━━━━━━━━━┳━━━━━━━━━━━━━━━┳━━━━━━━━━━━━━━━━━━━━━━━━━┳━━━━━━━━━━━━━━━┳━━━━━━━━━━━━━┓  │\n",
              "│ ┃\u001b[1m \u001b[0m\u001b[1m            \u001b[0m\u001b[1m \u001b[0m┃\u001b[1m \u001b[0m\u001b[1mmissing      \u001b[0m\u001b[1m \u001b[0m┃\u001b[1m \u001b[0m\u001b[1mcomplete rate          \u001b[0m\u001b[1m \u001b[0m┃\u001b[1m \u001b[0m\u001b[1mordered      \u001b[0m\u001b[1m \u001b[0m┃\u001b[1m \u001b[0m\u001b[1munique     \u001b[0m\u001b[1m \u001b[0m┃  │\n",
              "│ ┡━━━━━━━━━━━━━━╇━━━━━━━━━━━━━━━╇━━━━━━━━━━━━━━━━━━━━━━━━━╇━━━━━━━━━━━━━━━╇━━━━━━━━━━━━━┩  │\n",
              "│ │ \u001b[38;5;141msex         \u001b[0m │ \u001b[36m0.0          \u001b[0m │ \u001b[36m1.0                    \u001b[0m │ \u001b[38;5;45mFalse        \u001b[0m │ \u001b[36m2.0        \u001b[0m │  │\n",
              "│ │ \u001b[38;5;141msmoker      \u001b[0m │ \u001b[36m0.0          \u001b[0m │ \u001b[36m1.0                    \u001b[0m │ \u001b[38;5;45mFalse        \u001b[0m │ \u001b[36m2.0        \u001b[0m │  │\n",
              "│ │ \u001b[38;5;141mday         \u001b[0m │ \u001b[36m0.0          \u001b[0m │ \u001b[36m1.0                    \u001b[0m │ \u001b[38;5;45mFalse        \u001b[0m │ \u001b[36m4.0        \u001b[0m │  │\n",
              "│ │ \u001b[38;5;141mtime        \u001b[0m │ \u001b[36m0.0          \u001b[0m │ \u001b[36m1.0                    \u001b[0m │ \u001b[38;5;45mFalse        \u001b[0m │ \u001b[36m2.0        \u001b[0m │  │\n",
              "│ └──────────────┴───────────────┴─────────────────────────┴───────────────┴─────────────┘  │\n",
              "╰─────────────────────────────────────────── End ───────────────────────────────────────────╯\n"
            ]
          },
          "metadata": {}
        }
      ]
    },
    {
      "cell_type": "code",
      "metadata": {
        "id": "Jp_MIe4sYHJE"
      },
      "source": [
        "# !skimpy Diabetes.csv"
      ],
      "execution_count": 4,
      "outputs": []
    }
  ]
}