{
  "nbformat": 4,
  "nbformat_minor": 0,
  "metadata": {
    "colab": {
      "provenance": [],
      "authorship_tag": "ABX9TyMzsCa/PrzHyVKaJDrZgFq4"
    },
    "kernelspec": {
      "name": "python3",
      "display_name": "Python 3"
    },
    "language_info": {
      "name": "python"
    }
  },
  "cells": [
    {
      "cell_type": "markdown",
      "source": [
        "[Reference](https://medium.com/analytics-vidhya/removing-outliers-from-data-using-python-and-pandas-a3b5c6cded2c)"
      ],
      "metadata": {
        "id": "E7rMDPOGyly1"
      }
    },
    {
      "cell_type": "markdown",
      "source": [
        "![pic](https://miro.medium.com/max/1400/1*wz--poSokEehPaqt6Kyxmw.png)"
      ],
      "metadata": {
        "id": "Belzju_SyjPS"
      }
    },
    {
      "cell_type": "code",
      "source": [
        "import numpy as np\n",
        "import pandas as pd\n",
        "import seaborn as sns\n",
        "import matplotlib.pyplot as plt"
      ],
      "metadata": {
        "id": "2HFgQ_An5hzw"
      },
      "execution_count": 8,
      "outputs": []
    },
    {
      "cell_type": "code",
      "execution_count": 9,
      "metadata": {
        "id": "VzvaPk8juC9a"
      },
      "outputs": [],
      "source": [
        "def generate(median=630, err=12, outlier_err=100, size=80, outlier_size=10):\n",
        "    np.random.seed(median) # The seed is set to the median to force the same output each time the code is run\n",
        "    errs = err * np.random.rand(size) * np.random.choice((-1, 1), size)\n",
        "    data = median + errs\n",
        "\n",
        "    lower_errs = outlier_err * np.random.rand(outlier_size)\n",
        "    lower_outliers = median - err - lower_errs\n",
        "\n",
        "    upper_errs = outlier_err * np.random.rand(outlier_size)\n",
        "    upper_outliers = median + err + upper_errs\n",
        "\n",
        "    data = np.concatenate((data, lower_outliers, upper_outliers))\n",
        "    np.random.shuffle(data)\n",
        "\n",
        "    return data"
      ]
    },
    {
      "cell_type": "code",
      "source": [
        "df_test = pd.DataFrame(generate())\n",
        "df_test.head()"
      ],
      "metadata": {
        "colab": {
          "base_uri": "https://localhost:8080/",
          "height": 204
        },
        "id": "S64maBRS5Zia",
        "outputId": "fdf3d918-c982-4420-b844-b39063c9752a"
      },
      "execution_count": 10,
      "outputs": [
        {
          "output_type": "execute_result",
          "data": {
            "text/plain": [
              "            0\n",
              "0  729.346989\n",
              "1  625.517946\n",
              "2  628.131548\n",
              "3  728.244689\n",
              "4  523.220860"
            ],
            "text/html": [
              "\n",
              "  <div id=\"df-eba5de3a-caad-4745-b49e-eb930b57d31c\">\n",
              "    <div class=\"colab-df-container\">\n",
              "      <div>\n",
              "<style scoped>\n",
              "    .dataframe tbody tr th:only-of-type {\n",
              "        vertical-align: middle;\n",
              "    }\n",
              "\n",
              "    .dataframe tbody tr th {\n",
              "        vertical-align: top;\n",
              "    }\n",
              "\n",
              "    .dataframe thead th {\n",
              "        text-align: right;\n",
              "    }\n",
              "</style>\n",
              "<table border=\"1\" class=\"dataframe\">\n",
              "  <thead>\n",
              "    <tr style=\"text-align: right;\">\n",
              "      <th></th>\n",
              "      <th>0</th>\n",
              "    </tr>\n",
              "  </thead>\n",
              "  <tbody>\n",
              "    <tr>\n",
              "      <th>0</th>\n",
              "      <td>729.346989</td>\n",
              "    </tr>\n",
              "    <tr>\n",
              "      <th>1</th>\n",
              "      <td>625.517946</td>\n",
              "    </tr>\n",
              "    <tr>\n",
              "      <th>2</th>\n",
              "      <td>628.131548</td>\n",
              "    </tr>\n",
              "    <tr>\n",
              "      <th>3</th>\n",
              "      <td>728.244689</td>\n",
              "    </tr>\n",
              "    <tr>\n",
              "      <th>4</th>\n",
              "      <td>523.220860</td>\n",
              "    </tr>\n",
              "  </tbody>\n",
              "</table>\n",
              "</div>\n",
              "      <button class=\"colab-df-convert\" onclick=\"convertToInteractive('df-eba5de3a-caad-4745-b49e-eb930b57d31c')\"\n",
              "              title=\"Convert this dataframe to an interactive table.\"\n",
              "              style=\"display:none;\">\n",
              "        \n",
              "  <svg xmlns=\"http://www.w3.org/2000/svg\" height=\"24px\"viewBox=\"0 0 24 24\"\n",
              "       width=\"24px\">\n",
              "    <path d=\"M0 0h24v24H0V0z\" fill=\"none\"/>\n",
              "    <path d=\"M18.56 5.44l.94 2.06.94-2.06 2.06-.94-2.06-.94-.94-2.06-.94 2.06-2.06.94zm-11 1L8.5 8.5l.94-2.06 2.06-.94-2.06-.94L8.5 2.5l-.94 2.06-2.06.94zm10 10l.94 2.06.94-2.06 2.06-.94-2.06-.94-.94-2.06-.94 2.06-2.06.94z\"/><path d=\"M17.41 7.96l-1.37-1.37c-.4-.4-.92-.59-1.43-.59-.52 0-1.04.2-1.43.59L10.3 9.45l-7.72 7.72c-.78.78-.78 2.05 0 2.83L4 21.41c.39.39.9.59 1.41.59.51 0 1.02-.2 1.41-.59l7.78-7.78 2.81-2.81c.8-.78.8-2.07 0-2.86zM5.41 20L4 18.59l7.72-7.72 1.47 1.35L5.41 20z\"/>\n",
              "  </svg>\n",
              "      </button>\n",
              "      \n",
              "  <style>\n",
              "    .colab-df-container {\n",
              "      display:flex;\n",
              "      flex-wrap:wrap;\n",
              "      gap: 12px;\n",
              "    }\n",
              "\n",
              "    .colab-df-convert {\n",
              "      background-color: #E8F0FE;\n",
              "      border: none;\n",
              "      border-radius: 50%;\n",
              "      cursor: pointer;\n",
              "      display: none;\n",
              "      fill: #1967D2;\n",
              "      height: 32px;\n",
              "      padding: 0 0 0 0;\n",
              "      width: 32px;\n",
              "    }\n",
              "\n",
              "    .colab-df-convert:hover {\n",
              "      background-color: #E2EBFA;\n",
              "      box-shadow: 0px 1px 2px rgba(60, 64, 67, 0.3), 0px 1px 3px 1px rgba(60, 64, 67, 0.15);\n",
              "      fill: #174EA6;\n",
              "    }\n",
              "\n",
              "    [theme=dark] .colab-df-convert {\n",
              "      background-color: #3B4455;\n",
              "      fill: #D2E3FC;\n",
              "    }\n",
              "\n",
              "    [theme=dark] .colab-df-convert:hover {\n",
              "      background-color: #434B5C;\n",
              "      box-shadow: 0px 1px 3px 1px rgba(0, 0, 0, 0.15);\n",
              "      filter: drop-shadow(0px 1px 2px rgba(0, 0, 0, 0.3));\n",
              "      fill: #FFFFFF;\n",
              "    }\n",
              "  </style>\n",
              "\n",
              "      <script>\n",
              "        const buttonEl =\n",
              "          document.querySelector('#df-eba5de3a-caad-4745-b49e-eb930b57d31c button.colab-df-convert');\n",
              "        buttonEl.style.display =\n",
              "          google.colab.kernel.accessAllowed ? 'block' : 'none';\n",
              "\n",
              "        async function convertToInteractive(key) {\n",
              "          const element = document.querySelector('#df-eba5de3a-caad-4745-b49e-eb930b57d31c');\n",
              "          const dataTable =\n",
              "            await google.colab.kernel.invokeFunction('convertToInteractive',\n",
              "                                                     [key], {});\n",
              "          if (!dataTable) return;\n",
              "\n",
              "          const docLinkHtml = 'Like what you see? Visit the ' +\n",
              "            '<a target=\"_blank\" href=https://colab.research.google.com/notebooks/data_table.ipynb>data table notebook</a>'\n",
              "            + ' to learn more about interactive tables.';\n",
              "          element.innerHTML = '';\n",
              "          dataTable['output_type'] = 'display_data';\n",
              "          await google.colab.output.renderOutput(dataTable, element);\n",
              "          const docLink = document.createElement('div');\n",
              "          docLink.innerHTML = docLinkHtml;\n",
              "          element.appendChild(docLink);\n",
              "        }\n",
              "      </script>\n",
              "    </div>\n",
              "  </div>\n",
              "  "
            ]
          },
          "metadata": {},
          "execution_count": 10
        }
      ]
    },
    {
      "cell_type": "code",
      "source": [
        "df = pd.DataFrame({'Col0': generate(median=630), 'Col1': generate(median=740), 'Col2': generate(median=220)})"
      ],
      "metadata": {
        "id": "efGZsLk05leh"
      },
      "execution_count": 11,
      "outputs": []
    },
    {
      "cell_type": "code",
      "source": [
        "# (modified from http://www.itl.nist.gov/div898/handbook/prc/section1/prc16.htm)\n",
        "def get_iqr_values(df_in, col_name):\n",
        "    median = df_in[col_name].median()\n",
        "    q1 = df_in[col_name].quantile(0.25) # 25th percentile / 1st quartile\n",
        "    q3 = df_in[col_name].quantile(0.75) # 7th percentile / 3rd quartile\n",
        "    iqr = q3-q1 #Interquartile range\n",
        "    minimum  = q1-1.5*iqr # The minimum value or the |- marker in the box plot\n",
        "    maximum = q3+1.5*iqr # The maximum value or the -| marker in the box plot\n",
        "    return median, q1, q3, iqr, minimum, maximum\n",
        "\n",
        "def get_iqr_text(df_in, col_name):\n",
        "    median, q1, q3, iqr, minimum, maximum = get_iqr_values(df_in, col_name)\n",
        "    text = f\"median={median:.2f}, q1={q1:.2f}, q3={q3:.2f}, iqr={iqr:.2f}, minimum={minimum:.2f}, maximum={maximum:.2f}\"\n",
        "    return text\n",
        "\n",
        "def remove_outliers(df_in, col_name):\n",
        "    _, _, _, _, minimum, maximum = get_iqr_values(df_in, col_name)\n",
        "    df_out = df_in.loc[(df_in[col_name] > minimum) & (df_in[col_name] < maximum)]\n",
        "    return df_out\n",
        "\n",
        "def count_outliers(df_in, col_name):\n",
        "    _, _, _, _, minimum, maximum = get_iqr_values(df_in, col_name)\n",
        "    df_outliers = df_in.loc[(df_in[col_name] <= minimum) | (df_in[col_name] >= maximum)]\n",
        "    return df_outliers.shape[0]\n",
        "\n",
        "def box_and_whisker(df_in, col_name):\n",
        "    title = get_iqr_text(df_in, col_name)\n",
        "    sns.boxplot(df_in[col_name])\n",
        "    plt.title(title)\n",
        "    plt.show()"
      ],
      "metadata": {
        "id": "OcgJAL4s5mnR"
      },
      "execution_count": 12,
      "outputs": []
    },
    {
      "cell_type": "code",
      "source": [
        "# %% Plot the graphs\n",
        "box_and_whisker(df, 'Col0')\n",
        "box_and_whisker(df, 'Col1')\n",
        "box_and_whisker(df, 'Col2')\n",
        "\n",
        "_, _, _, _, minimum_Col1_before, maximum_Col1_before = get_iqr_values(df, 'Col1')\n",
        "\n",
        "# %% Count the outliers in the original data frame\n",
        "print(f\"Col0 has {count_outliers(df, 'Col0')} outliers\")\n",
        "print(f\"Col1 has {count_outliers(df, 'Col1')} outliers\")\n",
        "print(f\"Col2 has {count_outliers(df, 'Col2')} outliers\")\n",
        "\n",
        "_, _, _, _, minimum_Col1_after, maximum_Col1_after = get_iqr_values(df, 'Col1')"
      ],
      "metadata": {
        "colab": {
          "base_uri": "https://localhost:8080/",
          "height": 1000
        },
        "id": "pA6L3d8B5on3",
        "outputId": "6e238bc6-2601-40be-c18d-631c725aeed6"
      },
      "execution_count": 15,
      "outputs": [
        {
          "output_type": "stream",
          "name": "stderr",
          "text": [
            "/usr/local/lib/python3.7/dist-packages/seaborn/_decorators.py:43: FutureWarning: Pass the following variable as a keyword arg: x. From version 0.12, the only valid positional argument will be `data`, and passing other arguments without an explicit keyword will result in an error or misinterpretation.\n",
            "  FutureWarning\n"
          ]
        },
        {
          "output_type": "display_data",
          "data": {
            "text/plain": [
              "<Figure size 432x288 with 1 Axes>"
            ],
            "image/png": "[encoded data removed]"
          },
          "metadata": {
            "needs_background": "light"
          }
        },
        {
          "output_type": "stream",
          "name": "stderr",
          "text": [
            "/usr/local/lib/python3.7/dist-packages/seaborn/_decorators.py:43: FutureWarning: Pass the following variable as a keyword arg: x. From version 0.12, the only valid positional argument will be `data`, and passing other arguments without an explicit keyword will result in an error or misinterpretation.\n",
            "  FutureWarning\n"
          ]
        },
        {
          "output_type": "display_data",
          "data": {
            "text/plain": [
              "<Figure size 432x288 with 1 Axes>"
            ],
            "image/png": "[encoded data removed]"
          },
          "metadata": {
            "needs_background": "light"
          }
        },
        {
          "output_type": "stream",
          "name": "stderr",
          "text": [
            "/usr/local/lib/python3.7/dist-packages/seaborn/_decorators.py:43: FutureWarning: Pass the following variable as a keyword arg: x. From version 0.12, the only valid positional argument will be `data`, and passing other arguments without an explicit keyword will result in an error or misinterpretation.\n",
            "  FutureWarning\n"
          ]
        },
        {
          "output_type": "display_data",
          "data": {
            "text/plain": [
              "<Figure size 432x288 with 1 Axes>"
            ],
            "image/png": "[encoded data removed]"
          },
          "metadata": {
            "needs_background": "light"
          }
        },
        {
          "output_type": "stream",
          "name": "stdout",
          "text": [
            "Col0 has 19 outliers\n",
            "Col1 has 16 outliers\n",
            "Col2 has 18 outliers\n"
          ]
        }
      ]
    },
    {
      "cell_type": "code",
      "source": [
        "# %% Explain the results in data ...\n",
        "print(f\"Col1 original boundaries: minium={minimum_Col1_before:.2f}, maximum={maximum_Col1_before:.2f}\")\n",
        "print(f\"Col1 new minimum and maximum values: minium={df['Col1'].min():.2f}, maximum={df['Col1'].max():.2f}\")\n",
        "print(f\"Col1 new boundaries: minium={minimum_Col1_after:.2f}, maximum={maximum_Col1_after:.2f}\")\n",
        "print(\"\")\n",
        "print(f\"Col0 has {count_outliers(df, 'Col0')} outliers\")\n",
        "print(f\"Col1 has {count_outliers(df, 'Col1')} outliers\")\n",
        "print(f\"Col2 has {count_outliers(df, 'Col2')} outliers\")"
      ],
      "metadata": {
        "colab": {
          "base_uri": "https://localhost:8080/"
        },
        "id": "6-py0DR75xRI",
        "outputId": "64092b9a-026c-41af-8e14-5758e2489525"
      },
      "execution_count": 16,
      "outputs": [
        {
          "output_type": "stream",
          "name": "stdout",
          "text": [
            "Col1 original boundaries: minium=709.74, maximum=769.86\n",
            "Col1 new minimum and maximum values: minium=633.22, maximum=850.56\n",
            "Col1 new boundaries: minium=709.74, maximum=769.86\n",
            "\n",
            "Col0 has 19 outliers\n",
            "Col1 has 16 outliers\n",
            "Col2 has 18 outliers\n"
          ]
        }
      ]
    },
    {
      "cell_type": "code",
      "source": [
        "# df = remove_outliers(df, 'Col0')\n",
        "# df = remove_outliers(df, 'Col1')\n",
        "# df = remove_outliers(df, 'Col2')"
      ],
      "metadata": {
        "id": "rh4J0Fq25zxX"
      },
      "execution_count": 17,
      "outputs": []
    },
    {
      "cell_type": "code",
      "source": [
        "# %% New helper function ...\n",
        "def remove_all_outliers(df_in, col_name):\n",
        "    loop_count = 0\n",
        "    outlier_count = count_outliers(df_in, col_name)\n",
        "\n",
        "    while outlier_count > 0:\n",
        "        loop_count += 1\n",
        "\n",
        "        if (loop_count > 100):\n",
        "            break\n",
        "\n",
        "        df_in = remove_outliers(df_in, col_name)\n",
        "        outlier_count = count_outliers(df_in, col_name)\n",
        "    \n",
        "    return df_in"
      ],
      "metadata": {
        "id": "AzYcuTwg59AS"
      },
      "execution_count": 18,
      "outputs": []
    },
    {
      "cell_type": "code",
      "source": [
        "# Note that I wouldn't usually iterate through every column in the data frame removing outliers as the data \n",
        "# might not numeric or they might be categorical. The iteration of all columns is just done for expediency here ...\n",
        "for column in df:\n",
        "    df = remove_all_outliers(df, column)\n",
        "    print(f\"{column} has {count_outliers(df, column)} outliers\")\n",
        "    box_and_whisker(df, column)"
      ],
      "metadata": {
        "colab": {
          "base_uri": "https://localhost:8080/",
          "height": 1000
        },
        "id": "Bt9tHdTO6Ayq",
        "outputId": "e8209011-e39b-4559-aa5d-00f86b65c6a6"
      },
      "execution_count": 19,
      "outputs": [
        {
          "output_type": "stream",
          "name": "stdout",
          "text": [
            "Col0 has 0 outliers\n"
          ]
        },
        {
          "output_type": "stream",
          "name": "stderr",
          "text": [
            "/usr/local/lib/python3.7/dist-packages/seaborn/_decorators.py:43: FutureWarning: Pass the following variable as a keyword arg: x. From version 0.12, the only valid positional argument will be `data`, and passing other arguments without an explicit keyword will result in an error or misinterpretation.\n",
            "  FutureWarning\n"
          ]
        },
        {
          "output_type": "display_data",
          "data": {
            "text/plain": [
              "<Figure size 432x288 with 1 Axes>"
            ],
            "image/png": "[encoded data removed]"
          },
          "metadata": {
            "needs_background": "light"
          }
        },
        {
          "output_type": "stream",
          "name": "stdout",
          "text": [
            "Col1 has 0 outliers\n"
          ]
        },
        {
          "output_type": "stream",
          "name": "stderr",
          "text": [
            "/usr/local/lib/python3.7/dist-packages/seaborn/_decorators.py:43: FutureWarning: Pass the following variable as a keyword arg: x. From version 0.12, the only valid positional argument will be `data`, and passing other arguments without an explicit keyword will result in an error or misinterpretation.\n",
            "  FutureWarning\n"
          ]
        },
        {
          "output_type": "display_data",
          "data": {
            "text/plain": [
              "<Figure size 432x288 with 1 Axes>"
            ],
            "image/png": "[encoded data removed]"
          },
          "metadata": {
            "needs_background": "light"
          }
        },
        {
          "output_type": "stream",
          "name": "stdout",
          "text": [
            "Col2 has 0 outliers\n"
          ]
        },
        {
          "output_type": "stream",
          "name": "stderr",
          "text": [
            "/usr/local/lib/python3.7/dist-packages/seaborn/_decorators.py:43: FutureWarning: Pass the following variable as a keyword arg: x. From version 0.12, the only valid positional argument will be `data`, and passing other arguments without an explicit keyword will result in an error or misinterpretation.\n",
            "  FutureWarning\n"
          ]
        },
        {
          "output_type": "display_data",
          "data": {
            "text/plain": [
              "<Figure size 432x288 with 1 Axes>"
            ],
            "image/png": "[encoded data removed]"
          },
          "metadata": {
            "needs_background": "light"
          }
        }
      ]
    },
    {
      "cell_type": "code",
      "source": [
        "# %% Create a normal distriubtion with some outliers \n",
        "mu, sigma = 0, 0.1 # mean and standard deviation\n",
        "s = np.random.normal(mu, sigma, 1000) # create 1000 normally distributed data points\n",
        "\n",
        "df_normal = pd.DataFrame({'Col0': s})\n",
        "df_normal['Col0'].hist()"
      ],
      "metadata": {
        "colab": {
          "base_uri": "https://localhost:8080/",
          "height": 282
        },
        "id": "8J7_vqds6C4-",
        "outputId": "cdb8f1fa-f7c9-4b87-9a80-5813a7fe5f36"
      },
      "execution_count": 20,
      "outputs": [
        {
          "output_type": "execute_result",
          "data": {
            "text/plain": [
              "<matplotlib.axes._subplots.AxesSubplot at 0x7f8036147d10>"
            ]
          },
          "metadata": {},
          "execution_count": 20
        },
        {
          "output_type": "display_data",
          "data": {
            "text/plain": [
              "<Figure size 432x288 with 1 Axes>"
            ],
            "image/png": "[encoded data removed]"
          },
          "metadata": {
            "needs_background": "light"
          }
        }
      ]
    },
    {
      "cell_type": "code",
      "source": [
        "# %% Add some outliers and re-plot \n",
        "s[600] = 6\n",
        "s[700] = 6.5\n",
        "s[800] = 6.57\n",
        "s[900] = 6.8\n",
        "\n",
        "df_normal = pd.DataFrame({'Col0': s})\n",
        "df_normal['Col0'].hist()"
      ],
      "metadata": {
        "colab": {
          "base_uri": "https://localhost:8080/",
          "height": 282
        },
        "id": "L5ikwhpI6GLv",
        "outputId": "72f8d6ef-211f-4a7a-da8a-ea0234adbe7c"
      },
      "execution_count": 21,
      "outputs": [
        {
          "output_type": "execute_result",
          "data": {
            "text/plain": [
              "<matplotlib.axes._subplots.AxesSubplot at 0x7f8036059810>"
            ]
          },
          "metadata": {},
          "execution_count": 21
        },
        {
          "output_type": "display_data",
          "data": {
            "text/plain": [
              "<Figure size 432x288 with 1 Axes>"
            ],
            "image/png": "[encoded data removed]"
          },
          "metadata": {
            "needs_background": "light"
          }
        }
      ]
    },
    {
      "cell_type": "code",
      "source": [
        "box_and_whisker(df_normal, 'Col0')"
      ],
      "metadata": {
        "colab": {
          "base_uri": "https://localhost:8080/",
          "height": 349
        },
        "id": "FH8lKrhV6Hf8",
        "outputId": "81f2670b-f844-4e42-b04b-ebc5b0d99216"
      },
      "execution_count": 22,
      "outputs": [
        {
          "output_type": "stream",
          "name": "stderr",
          "text": [
            "/usr/local/lib/python3.7/dist-packages/seaborn/_decorators.py:43: FutureWarning: Pass the following variable as a keyword arg: x. From version 0.12, the only valid positional argument will be `data`, and passing other arguments without an explicit keyword will result in an error or misinterpretation.\n",
            "  FutureWarning\n"
          ]
        },
        {
          "output_type": "display_data",
          "data": {
            "text/plain": [
              "<Figure size 432x288 with 1 Axes>"
            ],
            "image/png": "[encoded data removed]"
          },
          "metadata": {
            "needs_background": "light"
          }
        }
      ]
    },
    {
      "cell_type": "code",
      "source": [
        "# %% Remove the outliers and re-display the box-and-whisker and the histogram\n",
        "df_normal = remove_all_outliers(df_normal, 'Col0')\n",
        "box_and_whisker(df_normal, 'Col0')\n",
        "df_normal['Col0'].hist()"
      ],
      "metadata": {
        "colab": {
          "base_uri": "https://localhost:8080/",
          "height": 615
        },
        "id": "US28qced6IkZ",
        "outputId": "49034871-fee2-4370-a1fc-675bbccf0af2"
      },
      "execution_count": 23,
      "outputs": [
        {
          "output_type": "stream",
          "name": "stderr",
          "text": [
            "/usr/local/lib/python3.7/dist-packages/seaborn/_decorators.py:43: FutureWarning: Pass the following variable as a keyword arg: x. From version 0.12, the only valid positional argument will be `data`, and passing other arguments without an explicit keyword will result in an error or misinterpretation.\n",
            "  FutureWarning\n"
          ]
        },
        {
          "output_type": "display_data",
          "data": {
            "text/plain": [
              "<Figure size 432x288 with 1 Axes>"
            ],
            "image/png": "[encoded data removed]"
          },
          "metadata": {
            "needs_background": "light"
          }
        },
        {
          "output_type": "execute_result",
          "data": {
            "text/plain": [
              "<matplotlib.axes._subplots.AxesSubplot at 0x7f8035eda590>"
            ]
          },
          "metadata": {},
          "execution_count": 23
        },
        {
          "output_type": "display_data",
          "data": {
            "text/plain": [
              "<Figure size 432x288 with 1 Axes>"
            ],
            "image/png": "[encoded data removed]"
          },
          "metadata": {
            "needs_background": "light"
          }
        }
      ]
    }
  ]
}
