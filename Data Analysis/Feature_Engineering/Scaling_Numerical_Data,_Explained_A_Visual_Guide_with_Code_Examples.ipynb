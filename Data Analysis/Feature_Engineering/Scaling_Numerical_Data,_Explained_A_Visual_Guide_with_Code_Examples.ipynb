{
  "nbformat": 4,
  "nbformat_minor": 0,
  "metadata": {
    "colab": {
      "provenance": [],
      "authorship_tag": "ABX9TyO4vcQsQMrzQ7zXKt8Y744S"
    },
    "kernelspec": {
      "name": "python3",
      "display_name": "Python 3"
    },
    "language_info": {
      "name": "python"
    }
  },
  "cells": [
    {
      "cell_type": "markdown",
      "source": [
        "[Reference](https://towardsdatascience.com/scaling-numerical-data-explained-a-visual-guide-with-code-examples-for-beginners-11676cdb45cb)"
      ],
      "metadata": {
        "id": "xDJjlFCHSrq4"
      }
    },
    {
      "cell_type": "code",
      "execution_count": 1,
      "metadata": {
        "id": "cZFQiB-zSmpn"
      },
      "outputs": [],
      "source": [
        "import pandas as pd\n",
        "import numpy as np\n",
        "from sklearn.preprocessing import MinMaxScaler, StandardScaler, RobustScaler, PowerTransformer\n",
        "from scipy import stats\n",
        "\n",
        "# Read the data\n",
        "data = {\n",
        "    'Temperature_Celsius': [15, 18, 22, 25, 28, 30, 32, 29, 26, 23, 20, 17],\n",
        "    'Humidity_Percent': [50, 55, 60, 65, 70, 75, 80, 72, 68, 62, 58, 52],\n",
        "    'Wind_Speed_kmh': [5, 8, 12, 15, 10, 7, 20, 18, 14, 9, 6, 11],\n",
        "    'Golfers_Count': [20, 35, 50, 75, 100, 120, 90, 110, 85, 60, 40, 25],\n",
        "    'Green_Speed': [8.5, 9.0, 9.5, 10.0, 10.5, 11.0, 11.5, 11.0, 10.5, 10.0, 9.5, 9.0]\n",
        "}\n",
        "\n",
        "df = pd.DataFrame(data)"
      ]
    },
    {
      "cell_type": "markdown",
      "source": [
        "# Method 1: Min-Max Scaling"
      ],
      "metadata": {
        "id": "9eeAcCogZJCX"
      }
    },
    {
      "cell_type": "code",
      "source": [
        "# 1. Min-Max Scaling for Temperature_Celsius\n",
        "min_max_scaler = MinMaxScaler()\n",
        "df['Temperature_MinMax'] = min_max_scaler.fit_transform(df[['Temperature_Celsius']])"
      ],
      "metadata": {
        "id": "q0ewGUhkZHgK"
      },
      "execution_count": 2,
      "outputs": []
    },
    {
      "cell_type": "markdown",
      "source": [
        "# Method 2: Standard Scaling"
      ],
      "metadata": {
        "id": "sqk_BidMZPYx"
      }
    },
    {
      "cell_type": "code",
      "source": [
        "# 2. Standard Scaling for Wind_Speed_kmh\n",
        "std_scaler = StandardScaler()\n",
        "df['Wind_Speed_Standardized'] = std_scaler.fit_transform(df[['Wind_Speed_kmh']])"
      ],
      "metadata": {
        "id": "11MzxxcxZOVF"
      },
      "execution_count": 3,
      "outputs": []
    },
    {
      "cell_type": "markdown",
      "source": [
        "# Method 3: Robust Scaling"
      ],
      "metadata": {
        "id": "_RD2chrLZeBo"
      }
    },
    {
      "cell_type": "code",
      "source": [
        "# 3. Robust Scaling for Humidity_Percent\n",
        "robust_scaler = RobustScaler()\n",
        "df['Humidity_Robust'] = robust_scaler.fit_transform(df[['Humidity_Percent']])"
      ],
      "metadata": {
        "id": "lYAshPglZV2a"
      },
      "execution_count": 4,
      "outputs": []
    },
    {
      "cell_type": "markdown",
      "source": [
        "# Method 4: Log Transformation"
      ],
      "metadata": {
        "id": "h5d4k0ARZkP8"
      }
    },
    {
      "cell_type": "code",
      "source": [
        "# 4. Log Transformation for Golfers_Count\n",
        "df['Golfers_Log'] = np.log1p(df['Golfers_Count'])\n",
        "df['Golfers_Log_std'] = std_scaler.fit_transform(df[['Golfers_Log']])"
      ],
      "metadata": {
        "id": "aEE7VvyFZjc-"
      },
      "execution_count": 5,
      "outputs": []
    },
    {
      "cell_type": "markdown",
      "source": [
        "# Method 5: Box-Cox Transformation"
      ],
      "metadata": {
        "id": "xA_q_higZm2h"
      }
    },
    {
      "cell_type": "code",
      "source": [
        "# 5. Box-Cox Transformation for Green_Speed\n",
        "box_cox_transformer = PowerTransformer(method='box-cox') # By default already has standardizing\n",
        "df['Green_Speed_BoxCox'] = box_cox_transformer.fit_transform(df[['Green_Speed']])"
      ],
      "metadata": {
        "id": "ZVSj29sQZmAX"
      },
      "execution_count": 6,
      "outputs": []
    },
    {
      "cell_type": "code",
      "source": [
        "# Display the results\n",
        "transformed_data = df[[\n",
        "    'Temperature_MinMax',\n",
        "    'Humidity_Robust',\n",
        "    'Wind_Speed_Standardized',\n",
        "    'Green_Speed_BoxCox',\n",
        "    'Golfers_Log_std',\n",
        "]]\n",
        "\n",
        "transformed_data = transformed_data.round(2)\n",
        "print(transformed_data)"
      ],
      "metadata": {
        "colab": {
          "base_uri": "https://localhost:8080/"
        },
        "id": "GCOV8e0GZqu_",
        "outputId": "d44548df-2baf-4e8f-853d-20aab35c252a"
      },
      "execution_count": 7,
      "outputs": [
        {
          "output_type": "stream",
          "name": "stdout",
          "text": [
            "    Temperature_MinMax  Humidity_Robust  Wind_Speed_Standardized  \\\n",
            "0                 0.00            -1.02                    -1.38   \n",
            "1                 0.18            -0.64                    -0.72   \n",
            "2                 0.41            -0.26                     0.17   \n",
            "3                 0.59             0.11                     0.83   \n",
            "4                 0.76             0.49                    -0.28   \n",
            "5                 0.88             0.87                    -0.94   \n",
            "6                 1.00             1.25                     1.93   \n",
            "7                 0.82             0.64                     1.49   \n",
            "8                 0.65             0.34                     0.61   \n",
            "9                 0.47            -0.11                    -0.50   \n",
            "10                0.29            -0.42                    -1.16   \n",
            "11                0.12            -0.87                    -0.06   \n",
            "\n",
            "    Green_Speed_BoxCox  Golfers_Log_std  \n",
            "0                -1.70            -1.87  \n",
            "1                -1.13            -0.90  \n",
            "2                -0.56            -0.28  \n",
            "3                 0.01             0.43  \n",
            "4                 0.57             0.94  \n",
            "5                 1.12             1.27  \n",
            "6                 1.67             0.76  \n",
            "7                 1.12             1.11  \n",
            "8                 0.57             0.66  \n",
            "9                 0.01             0.04  \n",
            "10               -0.56            -0.67  \n",
            "11               -1.13            -1.49  \n"
          ]
        }
      ]
    }
  ]
}
