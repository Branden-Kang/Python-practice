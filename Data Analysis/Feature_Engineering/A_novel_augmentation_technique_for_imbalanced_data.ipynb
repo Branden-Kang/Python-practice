{
  "nbformat": 4,
  "nbformat_minor": 0,
  "metadata": {
    "colab": {
      "name": "A novel augmentation technique for imbalanced data.ipynb",
      "provenance": [],
      "authorship_tag": "ABX9TyORQdjsbrXkoTj7H75Y9xpS"
    },
    "kernelspec": {
      "name": "python3",
      "display_name": "Python 3"
    },
    "language_info": {
      "name": "python"
    }
  },
  "cells": [
    {
      "cell_type": "markdown",
      "source": [
        "[Reference](https://ashhadulislam.medium.com/tipping-the-scales-68b806d3c929)"
      ],
      "metadata": {
        "id": "uAjW5-B0xRcX"
      }
    },
    {
      "cell_type": "markdown",
      "source": [
        "# K-Nearest Neighbor OveRsampling (KNNOR)"
      ],
      "metadata": {
        "id": "-WxY3dvtxaE2"
      }
    },
    {
      "cell_type": "code",
      "execution_count": 1,
      "metadata": {
        "colab": {
          "base_uri": "https://localhost:8080/"
        },
        "id": "pcbZXeEIxAod",
        "outputId": "65cf5730-a551-4dee-f278-65326caf2755"
      },
      "outputs": [
        {
          "output_type": "stream",
          "name": "stdout",
          "text": [
            "Looking in indexes: https://pypi.org/simple, https://us-python.pkg.dev/colab-wheels/public/simple/\n",
            "Collecting knnor\n",
            "  Downloading knnor-0.0.4.tar.gz (7.9 kB)\n",
            "Requirement already satisfied: numpy in /usr/local/lib/python3.7/dist-packages (from knnor) (1.21.6)\n",
            "Requirement already satisfied: scikit-learn in /usr/local/lib/python3.7/dist-packages (from knnor) (1.0.2)\n",
            "Requirement already satisfied: joblib>=0.11 in /usr/local/lib/python3.7/dist-packages (from scikit-learn->knnor) (1.1.0)\n",
            "Requirement already satisfied: threadpoolctl>=2.0.0 in /usr/local/lib/python3.7/dist-packages (from scikit-learn->knnor) (3.1.0)\n",
            "Requirement already satisfied: scipy>=1.1.0 in /usr/local/lib/python3.7/dist-packages (from scikit-learn->knnor) (1.4.1)\n",
            "Building wheels for collected packages: knnor\n",
            "  Building wheel for knnor (setup.py) ... \u001b[?25l\u001b[?25hdone\n",
            "  Created wheel for knnor: filename=knnor-0.0.4-py3-none-any.whl size=7048 sha256=2613fb590aaadf46e3ad6c0fc52505794f9cec46ad161cce554cf48a387e7f9d\n",
            "  Stored in directory: /root/.cache/pip/wheels/fc/98/ae/e32b43c3f33dd287701122e2e5ae099577b0304dc65f754f4c\n",
            "Successfully built knnor\n",
            "Installing collected packages: knnor\n",
            "Successfully installed knnor-0.0.4\n"
          ]
        }
      ],
      "source": [
        "pip install knnor"
      ]
    },
    {
      "cell_type": "code",
      "source": [
        "from sklearn.datasets import load_breast_cancer\n",
        "import numpy as np\n",
        "import collections\n",
        "\n",
        "from knnor import data_augment\n",
        "\n",
        "dataset = load_breast_cancer()\n",
        "\n",
        "(unique, counts) = np.unique(dataset['target'], return_counts=True)\n",
        "\n",
        "print('Unique values of the target variable', unique)\n",
        "print('Counts of the target variable :', counts)\n",
        "\n",
        "X=dataset[\"data\"]\n",
        "y=dataset[\"target\"]\n",
        "\n",
        "print(\"Original shape=\",X.shape,y.shape)\n",
        "elements_count = collections.Counter(y)\n",
        "# printing the element and the frequency\n",
        "print(\"Original distribution:\")\n",
        "for key, value in elements_count.items():\n",
        "    print(f\"{key}: {value}\")"
      ],
      "metadata": {
        "colab": {
          "base_uri": "https://localhost:8080/"
        },
        "id": "TFKQe_Btxh-U",
        "outputId": "850897d7-f44c-49de-8fdf-2ad0da4fa903"
      },
      "execution_count": 2,
      "outputs": [
        {
          "output_type": "stream",
          "name": "stdout",
          "text": [
            "Unique values of the target variable [0 1]\n",
            "Counts of the target variable : [212 357]\n",
            "Original shape= (569, 30) (569,)\n",
            "Original distribution:\n",
            "0: 212\n",
            "1: 357\n"
          ]
        }
      ]
    },
    {
      "cell_type": "code",
      "source": [
        "knnor=data_augment.KNNOR()\n",
        "X_new,y_new,_,_=knnor.fit_resample(X,y)\n",
        "print(\"Shape after augmentation\",X_new.shape,y_new.shape)\n",
        "elements_count = collections.Counter(y_new)\n",
        "# printing the element and the frequency\n",
        "print(\"Final distribution:\")\n",
        "for key, value in elements_count.items():\n",
        "    print(f\"{key}: {value}\")"
      ],
      "metadata": {
        "colab": {
          "base_uri": "https://localhost:8080/"
        },
        "id": "87MEdxbFxkR-",
        "outputId": "2a99bfc0-970b-4448-ce7c-dd9b2d3c5009"
      },
      "execution_count": 3,
      "outputs": [
        {
          "output_type": "stream",
          "name": "stdout",
          "text": [
            "357 212 (569,)\n",
            "357 212 (569,)\n",
            "Shape after augmentation (714, 30) (714,)\n",
            "Final distribution:\n",
            "0: 357\n",
            "1: 357\n"
          ]
        }
      ]
    },
    {
      "cell_type": "code",
      "source": [
        "X_new,y_new,_,_=knnor.fit_resample(X,y,\n",
        "                              num_neighbors=10, # the number of neighbors that will be used for generation of each artificial point\n",
        "                              max_dist_point=0.01, # the maximum distance at which the new point will be placed\n",
        "                              proportion_minority=0.3, # proportion of the minority population that will be used to generate the artificial point\n",
        "                              final_proportion=2 # final number of minority datapoints\n",
        "                               # example, if num majority =15 and num minority =5, \n",
        "#                                putting final_proportion as 1 will add 10 artificial minority points\n",
        "                              )\n",
        "print(\"Shape after augmentation\",X_new.shape,y_new.shape)\n",
        "elements_count = collections.Counter(y_new)\n",
        "# printing the element and the frequency\n",
        "print(\"Final distribution:\")\n",
        "for key, value in elements_count.items():\n",
        "    print(f\"{key}: {value}\")"
      ],
      "metadata": {
        "colab": {
          "base_uri": "https://localhost:8080/"
        },
        "id": "I6yNoooQxmA0",
        "outputId": "2689cef8-c09c-43ac-98b0-ed7409d2bae3"
      },
      "execution_count": 4,
      "outputs": [
        {
          "output_type": "stream",
          "name": "stdout",
          "text": [
            "357 212 (569,)\n",
            "Shape after augmentation (1071, 30) (1071,)\n",
            "Final distribution:\n",
            "0: 714\n",
            "1: 357\n"
          ]
        }
      ]
    }
  ]
}
