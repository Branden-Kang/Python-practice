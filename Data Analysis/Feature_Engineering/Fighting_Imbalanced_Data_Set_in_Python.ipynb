{
  "nbformat": 4,
  "nbformat_minor": 0,
  "metadata": {
    "colab": {
      "name": "Fighting Imbalanced Data Set in Python.ipynb",
      "provenance": [],
      "authorship_tag": "ABX9TyOuiu0UWjIo1EpCQo5D5S8t"
    },
    "kernelspec": {
      "name": "python3",
      "display_name": "Python 3"
    }
  },
  "cells": [
    {
      "cell_type": "markdown",
      "metadata": {
        "id": "qjAr9o9tZ4Dd"
      },
      "source": [
        "[Reference](https://towardsdatascience.com/fighting-imbalance-data-set-with-code-examples-f2a3880700a6)"
      ]
    },
    {
      "cell_type": "markdown",
      "metadata": {
        "id": "j04W_v93aywN"
      },
      "source": [
        "# Under-sampling"
      ]
    },
    {
      "cell_type": "markdown",
      "metadata": {
        "id": "k1_xwFGhZ7KR"
      },
      "source": [
        "![under_sampling](https://miro.medium.com/max/1312/1*1kUdoh7nLRbXeLuWSSMUMw.png)"
      ]
    },
    {
      "cell_type": "code",
      "metadata": {
        "id": "Rx31ffo-ZORZ",
        "outputId": "203bf984-9497-480c-cffc-66af1e81b318",
        "colab": {
          "base_uri": "https://localhost:8080/"
        }
      },
      "source": [
        "from collections import Counter\n",
        "from sklearn.datasets import make_classification\n",
        "from imblearn.under_sampling import RandomUnderSampler\n",
        "X, y = make_classification(n_classes=2, class_sep=2,\n",
        "                           weights=[0.1, 0.9], n_informative=3, n_redundant=1, flip_y=0,\n",
        "                           n_features=20, n_clusters_per_class=1, n_samples=1000, \n",
        "                           random_state=10)"
      ],
      "execution_count": 3,
      "outputs": [
        {
          "output_type": "stream",
          "text": [
            "/usr/local/lib/python3.6/dist-packages/sklearn/externals/six.py:31: FutureWarning: The module is deprecated in version 0.21 and will be removed in version 0.23 since we've dropped support for Python 2.7. Please rely on the official version of six (https://pypi.org/project/six/).\n",
            "  \"(https://pypi.org/project/six/).\", FutureWarning)\n",
            "/usr/local/lib/python3.6/dist-packages/sklearn/utils/deprecation.py:144: FutureWarning: The sklearn.neighbors.base module is  deprecated in version 0.22 and will be removed in version 0.24. The corresponding classes / functions should instead be imported from sklearn.neighbors. Anything that cannot be imported from sklearn.neighbors is now part of the private API.\n",
            "  warnings.warn(message, FutureWarning)\n"
          ],
          "name": "stderr"
        }
      ]
    },
    {
      "cell_type": "code",
      "metadata": {
        "id": "DRietXTvaX-R",
        "outputId": "1928ce99-7c37-4b93-8f35-be76f9aad87c",
        "colab": {
          "base_uri": "https://localhost:8080/"
        }
      },
      "source": [
        "print('Original dataset shape %s' % Counter(y))"
      ],
      "execution_count": 4,
      "outputs": [
        {
          "output_type": "stream",
          "text": [
            "Original dataset shape Counter({1: 900, 0: 100})\n"
          ],
          "name": "stdout"
        }
      ]
    },
    {
      "cell_type": "code",
      "metadata": {
        "id": "xZERvNmIaZFW"
      },
      "source": [
        "rus = RandomUnderSampler(random_state=42)"
      ],
      "execution_count": 5,
      "outputs": []
    },
    {
      "cell_type": "code",
      "metadata": {
        "id": "HPKqnjpDae4y",
        "outputId": "e6c7564c-b0a1-4d60-a585-f5574be7edc1",
        "colab": {
          "base_uri": "https://localhost:8080/"
        }
      },
      "source": [
        "X_res, y_res = rus.fit_resample(X, y)"
      ],
      "execution_count": 6,
      "outputs": [
        {
          "output_type": "stream",
          "text": [
            "/usr/local/lib/python3.6/dist-packages/sklearn/utils/deprecation.py:87: FutureWarning: Function safe_indexing is deprecated; safe_indexing is deprecated in version 0.22 and will be removed in version 0.24.\n",
            "  warnings.warn(msg, category=FutureWarning)\n"
          ],
          "name": "stderr"
        }
      ]
    },
    {
      "cell_type": "code",
      "metadata": {
        "id": "zmkqXcLeagf-",
        "outputId": "e89f107e-a4fd-43f3-ac46-23414d18b417",
        "colab": {
          "base_uri": "https://localhost:8080/"
        }
      },
      "source": [
        "print('Resampled dataset shape %s' % Counter(y_res))"
      ],
      "execution_count": 7,
      "outputs": [
        {
          "output_type": "stream",
          "text": [
            "Resampled dataset shape Counter({0: 100, 1: 100})\n"
          ],
          "name": "stdout"
        }
      ]
    },
    {
      "cell_type": "code",
      "metadata": {
        "id": "7HBABBdaairF"
      },
      "source": [
        "from collections import Counter\n",
        "from sklearn.datasets import make_classification\n",
        "from imblearn.under_sampling import NearMiss"
      ],
      "execution_count": 8,
      "outputs": []
    },
    {
      "cell_type": "code",
      "metadata": {
        "id": "lAvSlf4mapWH"
      },
      "source": [
        "X, y = make_classification(n_classes=2, class_sep=2,\n",
        "                           weights=[0.1, 0.9], n_informative=3, n_redundant=1, flip_y=0,\n",
        "                           n_features=20, n_clusters_per_class=1, n_samples=1000, \n",
        "                           random_state=10)"
      ],
      "execution_count": 9,
      "outputs": []
    },
    {
      "cell_type": "code",
      "metadata": {
        "id": "-oGS0leUasy2",
        "outputId": "efc9934e-f0ab-408b-8da4-e3d5d417febc",
        "colab": {
          "base_uri": "https://localhost:8080/"
        }
      },
      "source": [
        "print('Original dataset shape %s' % Counter(y))"
      ],
      "execution_count": 10,
      "outputs": [
        {
          "output_type": "stream",
          "text": [
            "Original dataset shape Counter({1: 900, 0: 100})\n"
          ],
          "name": "stdout"
        }
      ]
    },
    {
      "cell_type": "code",
      "metadata": {
        "id": "XaxYW_UVauTS"
      },
      "source": [
        "nm = NearMiss()"
      ],
      "execution_count": 11,
      "outputs": []
    },
    {
      "cell_type": "code",
      "metadata": {
        "id": "VJiIZa3qavIZ",
        "outputId": "480dd50a-d058-43af-97f0-3bcd13d13986",
        "colab": {
          "base_uri": "https://localhost:8080/"
        }
      },
      "source": [
        "X_res, y_res = nm.fit_resample(X, y)\n",
        "print('Resampled dataset shape %s' % Counter(y_res))"
      ],
      "execution_count": 12,
      "outputs": [
        {
          "output_type": "stream",
          "text": [
            "Resampled dataset shape Counter({0: 100, 1: 100})\n"
          ],
          "name": "stdout"
        },
        {
          "output_type": "stream",
          "text": [
            "/usr/local/lib/python3.6/dist-packages/sklearn/utils/deprecation.py:87: FutureWarning: Function safe_indexing is deprecated; safe_indexing is deprecated in version 0.22 and will be removed in version 0.24.\n",
            "  warnings.warn(msg, category=FutureWarning)\n",
            "/usr/local/lib/python3.6/dist-packages/sklearn/utils/deprecation.py:87: FutureWarning: Function safe_indexing is deprecated; safe_indexing is deprecated in version 0.22 and will be removed in version 0.24.\n",
            "  warnings.warn(msg, category=FutureWarning)\n",
            "/usr/local/lib/python3.6/dist-packages/sklearn/utils/deprecation.py:87: FutureWarning: Function safe_indexing is deprecated; safe_indexing is deprecated in version 0.22 and will be removed in version 0.24.\n",
            "  warnings.warn(msg, category=FutureWarning)\n"
          ],
          "name": "stderr"
        }
      ]
    },
    {
      "cell_type": "markdown",
      "metadata": {
        "id": "2mqOLhdqaxvx"
      },
      "source": [
        "# Over-sampling"
      ]
    },
    {
      "cell_type": "markdown",
      "metadata": {
        "id": "BTn1d0vla1xw"
      },
      "source": [
        "![over_sampling](https://miro.medium.com/max/1206/1*1PvOoL_lJlk6dvrf3rjqbQ.png)"
      ]
    },
    {
      "cell_type": "code",
      "metadata": {
        "id": "pY74HtHpawy2",
        "outputId": "aac5496c-9cdb-434e-86f4-3d6d8a3cbaff",
        "colab": {
          "base_uri": "https://localhost:8080/"
        }
      },
      "source": [
        "from sklearn.datasets import make_classification\n",
        "X, y = make_classification(n_samples=5000, n_features=2, n_informative=2,\n",
        "                            n_redundant=0, n_repeated=0, n_classes=3,\n",
        "                            n_clusters_per_class=1,\n",
        "                            weights=[0.01, 0.05, 0.94],\n",
        "                            class_sep=0.8, random_state=0)\n",
        "from imblearn.over_sampling import RandomOverSampler\n",
        "ros = RandomOverSampler(random_state=0)\n",
        "X_resampled, y_resampled = ros.fit_resample(X, y)\n",
        "from collections import Counter\n",
        "print(sorted(Counter(y_resampled).items()))"
      ],
      "execution_count": 13,
      "outputs": [
        {
          "output_type": "stream",
          "text": [
            "[(0, 4674), (1, 4674), (2, 4674)]\n"
          ],
          "name": "stdout"
        },
        {
          "output_type": "stream",
          "text": [
            "/usr/local/lib/python3.6/dist-packages/sklearn/utils/deprecation.py:87: FutureWarning: Function safe_indexing is deprecated; safe_indexing is deprecated in version 0.22 and will be removed in version 0.24.\n",
            "  warnings.warn(msg, category=FutureWarning)\n"
          ],
          "name": "stderr"
        }
      ]
    },
    {
      "cell_type": "markdown",
      "metadata": {
        "id": "zw5LUviQa-ER"
      },
      "source": [
        "# SMOTE — Synthetic Minority Over-sampling Technique"
      ]
    },
    {
      "cell_type": "markdown",
      "metadata": {
        "id": "SLyYzeApbBmK"
      },
      "source": [
        "![SMOTE](https://miro.medium.com/max/1400/0*ou98izbOnE2ExKPl.png)"
      ]
    },
    {
      "cell_type": "markdown",
      "metadata": {
        "id": "QtKnJguBbtgM"
      },
      "source": [
        "# Ensemble classifier using samplers internally"
      ]
    },
    {
      "cell_type": "markdown",
      "metadata": {
        "id": "QLKJLKW8bvad"
      },
      "source": [
        "![EasyEnsemble](https://miro.medium.com/max/1400/1*B4iMLhQwWg92tqqM8hGYNQ.png)"
      ]
    },
    {
      "cell_type": "code",
      "metadata": {
        "id": "R-Cz777ra8Uk",
        "outputId": "4d64ec37-3b14-4ba4-cf8d-d5b59a5e3075",
        "colab": {
          "base_uri": "https://localhost:8080/"
        }
      },
      "source": [
        "from collections import Counter\n",
        "from sklearn.datasets import make_classification\n",
        "from imblearn.ensemble import EasyEnsemble \n",
        "X, y = make_classification(n_classes=2, class_sep=2,\n",
        "                           weights=[0.1, 0.9], n_informative=3, n_redundant=1, flip_y=0,\n",
        "                           n_features=20, n_clusters_per_class=1, n_samples=1000, random_state=10)\n",
        "print('Original dataset shape {}'.format(Counter(y)))\n",
        "ee = EasyEnsemble(random_state=42)\n",
        "X_res, y_res = ee.fit_sample(X, y)\n",
        "print('Resampled dataset shape {}'.format(Counter(y_res[0])))"
      ],
      "execution_count": 14,
      "outputs": [
        {
          "output_type": "stream",
          "text": [
            "Original dataset shape Counter({1: 900, 0: 100})\n",
            "Resampled dataset shape Counter({0: 100, 1: 100})\n"
          ],
          "name": "stdout"
        },
        {
          "output_type": "stream",
          "text": [
            "/usr/local/lib/python3.6/dist-packages/sklearn/utils/deprecation.py:144: FutureWarning: The sklearn.ensemble.bagging module is  deprecated in version 0.22 and will be removed in version 0.24. The corresponding classes / functions should instead be imported from sklearn.ensemble. Anything that cannot be imported from sklearn.ensemble is now part of the private API.\n",
            "  warnings.warn(message, FutureWarning)\n",
            "/usr/local/lib/python3.6/dist-packages/sklearn/utils/deprecation.py:144: FutureWarning: The sklearn.ensemble.base module is  deprecated in version 0.22 and will be removed in version 0.24. The corresponding classes / functions should instead be imported from sklearn.ensemble. Anything that cannot be imported from sklearn.ensemble is now part of the private API.\n",
            "  warnings.warn(message, FutureWarning)\n",
            "/usr/local/lib/python3.6/dist-packages/sklearn/utils/deprecation.py:144: FutureWarning: The sklearn.ensemble.forest module is  deprecated in version 0.22 and will be removed in version 0.24. The corresponding classes / functions should instead be imported from sklearn.ensemble. Anything that cannot be imported from sklearn.ensemble is now part of the private API.\n",
            "  warnings.warn(message, FutureWarning)\n",
            "/usr/local/lib/python3.6/dist-packages/sklearn/externals/joblib/__init__.py:15: FutureWarning: sklearn.externals.joblib is deprecated in 0.21 and will be removed in 0.23. Please import this functionality directly from joblib, which can be installed with: pip install joblib. If this warning is raised when loading pickled models, you may need to re-serialize those models with scikit-learn 0.21+.\n",
            "  warnings.warn(msg, category=FutureWarning)\n",
            "/usr/local/lib/python3.6/dist-packages/sklearn/utils/deprecation.py:68: FutureWarning: Class EasyEnsemble is deprecated; EasyEnsemble is deprecated in 0.4 and will be removed in 0.6. Use EasyEnsembleClassifier instead.\n",
            "  warnings.warn(msg, category=FutureWarning)\n",
            "/usr/local/lib/python3.6/dist-packages/sklearn/utils/deprecation.py:87: FutureWarning: Function safe_indexing is deprecated; safe_indexing is deprecated in version 0.22 and will be removed in version 0.24.\n",
            "  warnings.warn(msg, category=FutureWarning)\n",
            "/usr/local/lib/python3.6/dist-packages/sklearn/utils/deprecation.py:87: FutureWarning: Function safe_indexing is deprecated; safe_indexing is deprecated in version 0.22 and will be removed in version 0.24.\n",
            "  warnings.warn(msg, category=FutureWarning)\n",
            "/usr/local/lib/python3.6/dist-packages/sklearn/utils/deprecation.py:87: FutureWarning: Function safe_indexing is deprecated; safe_indexing is deprecated in version 0.22 and will be removed in version 0.24.\n",
            "  warnings.warn(msg, category=FutureWarning)\n",
            "/usr/local/lib/python3.6/dist-packages/sklearn/utils/deprecation.py:87: FutureWarning: Function safe_indexing is deprecated; safe_indexing is deprecated in version 0.22 and will be removed in version 0.24.\n",
            "  warnings.warn(msg, category=FutureWarning)\n",
            "/usr/local/lib/python3.6/dist-packages/sklearn/utils/deprecation.py:87: FutureWarning: Function safe_indexing is deprecated; safe_indexing is deprecated in version 0.22 and will be removed in version 0.24.\n",
            "  warnings.warn(msg, category=FutureWarning)\n",
            "/usr/local/lib/python3.6/dist-packages/sklearn/utils/deprecation.py:87: FutureWarning: Function safe_indexing is deprecated; safe_indexing is deprecated in version 0.22 and will be removed in version 0.24.\n",
            "  warnings.warn(msg, category=FutureWarning)\n",
            "/usr/local/lib/python3.6/dist-packages/sklearn/utils/deprecation.py:87: FutureWarning: Function safe_indexing is deprecated; safe_indexing is deprecated in version 0.22 and will be removed in version 0.24.\n",
            "  warnings.warn(msg, category=FutureWarning)\n",
            "/usr/local/lib/python3.6/dist-packages/sklearn/utils/deprecation.py:87: FutureWarning: Function safe_indexing is deprecated; safe_indexing is deprecated in version 0.22 and will be removed in version 0.24.\n",
            "  warnings.warn(msg, category=FutureWarning)\n",
            "/usr/local/lib/python3.6/dist-packages/sklearn/utils/deprecation.py:87: FutureWarning: Function safe_indexing is deprecated; safe_indexing is deprecated in version 0.22 and will be removed in version 0.24.\n",
            "  warnings.warn(msg, category=FutureWarning)\n",
            "/usr/local/lib/python3.6/dist-packages/sklearn/utils/deprecation.py:87: FutureWarning: Function safe_indexing is deprecated; safe_indexing is deprecated in version 0.22 and will be removed in version 0.24.\n",
            "  warnings.warn(msg, category=FutureWarning)\n"
          ],
          "name": "stderr"
        }
      ]
    }
  ]
}