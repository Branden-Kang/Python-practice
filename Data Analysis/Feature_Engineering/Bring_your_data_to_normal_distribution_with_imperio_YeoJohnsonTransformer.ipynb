{
  "nbformat": 4,
  "nbformat_minor": 0,
  "metadata": {
    "colab": {
      "name": "Bring your data to normal distribution with imperio YeoJohnsonTransformer.ipynb",
      "provenance": [],
      "authorship_tag": "ABX9TyNqwNIlm0AeRRGyjj79s9df"
    },
    "kernelspec": {
      "name": "python3",
      "display_name": "Python 3"
    },
    "language_info": {
      "name": "python"
    }
  },
  "cells": [
    {
      "cell_type": "markdown",
      "source": [
        "[Reference](https://medium.com/softplus-publication/bring-your-data-to-normal-distribution-with-imperio-yeojohnsontransformer-f4bb09402e1e)"
      ],
      "metadata": {
        "id": "1sVPmmNA58Z0"
      }
    },
    {
      "cell_type": "code",
      "execution_count": 1,
      "metadata": {
        "colab": {
          "base_uri": "https://localhost:8080/"
        },
        "id": "aiSV-C8E2dUF",
        "outputId": "eddabfe7-2aa4-4b91-9803-fed29833b0b0"
      },
      "outputs": [
        {
          "output_type": "stream",
          "name": "stdout",
          "text": [
            "Collecting imperio\n",
            "  Downloading imperio-0.1.3.tar.gz (10 kB)\n",
            "Requirement already satisfied: numpy in /usr/local/lib/python3.7/dist-packages (from imperio) (1.19.5)\n",
            "Requirement already satisfied: pandas in /usr/local/lib/python3.7/dist-packages (from imperio) (1.1.5)\n",
            "Requirement already satisfied: scikit-learn in /usr/local/lib/python3.7/dist-packages (from imperio) (1.0.2)\n",
            "Requirement already satisfied: pytz>=2017.2 in /usr/local/lib/python3.7/dist-packages (from pandas->imperio) (2018.9)\n",
            "Requirement already satisfied: python-dateutil>=2.7.3 in /usr/local/lib/python3.7/dist-packages (from pandas->imperio) (2.8.2)\n",
            "Requirement already satisfied: six>=1.5 in /usr/local/lib/python3.7/dist-packages (from python-dateutil>=2.7.3->pandas->imperio) (1.15.0)\n",
            "Requirement already satisfied: joblib>=0.11 in /usr/local/lib/python3.7/dist-packages (from scikit-learn->imperio) (1.1.0)\n",
            "Requirement already satisfied: scipy>=1.1.0 in /usr/local/lib/python3.7/dist-packages (from scikit-learn->imperio) (1.4.1)\n",
            "Requirement already satisfied: threadpoolctl>=2.0.0 in /usr/local/lib/python3.7/dist-packages (from scikit-learn->imperio) (3.0.0)\n",
            "Building wheels for collected packages: imperio\n",
            "  Building wheel for imperio (setup.py) ... \u001b[?25l\u001b[?25hdone\n",
            "  Created wheel for imperio: filename=imperio-0.1.3-py3-none-any.whl size=23258 sha256=20b9e9cb0cf5b4d3444b19cf659169bb54277686ba13d7abaeb34b33d5071c20\n",
            "  Stored in directory: /root/.cache/pip/wheels/df/5a/6b/9c17746cb0f542cf045a057de59bede0ae2c85d79b9371cd90\n",
            "Successfully built imperio\n",
            "Installing collected packages: imperio\n",
            "Successfully installed imperio-0.1.3\n"
          ]
        }
      ],
      "source": [
        "pip install imperio"
      ]
    },
    {
      "cell_type": "code",
      "source": [
        "from imperio import YeoJohnsonTransformer\n",
        "yeo_johnson = YeoJohnsonTransformer()\n",
        "yeo_johnson.fit(X_train, y_train)\n",
        "X_trainsformed = yeo_johnson.transform(X_test)"
      ],
      "metadata": {
        "id": "xDK-kU9n5_X0"
      },
      "execution_count": 2,
      "outputs": []
    },
    {
      "cell_type": "code",
      "source": [
        "X_transformed = yeo_johnson.fit_transform(X_train, y_train)"
      ],
      "metadata": {
        "id": "hh4MQ-5q6Axd"
      },
      "execution_count": 3,
      "outputs": []
    },
    {
      "cell_type": "code",
      "source": [
        "from sklearn.pipeline import Pipeline\n",
        "from imperio import YeoJohnsonTransformer\n",
        "from sklearn.linear_model import LogisticRegression\n",
        "pipe = Pipeline(\n",
        "    [\n",
        "     ('yeo_johnson', YeoJohnsonTransformer()),\n",
        "     ('model', LogisticRegression())\n",
        "])"
      ],
      "metadata": {
        "id": "POlGl90X6CrF"
      },
      "execution_count": 4,
      "outputs": []
    },
    {
      "cell_type": "code",
      "source": [
        "new_df = yeo_johnson.apply(df, target = 'target', columns=['col1'])"
      ],
      "metadata": {
        "id": "KoRx0Iq26Eap"
      },
      "execution_count": 5,
      "outputs": []
    }
  ]
}