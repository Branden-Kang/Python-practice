{
  "nbformat": 4,
  "nbformat_minor": 0,
  "metadata": {
    "colab": {
      "provenance": [],
      "authorship_tag": "ABX9TyNPa/BEp5b0GBHIqY8cf66y"
    },
    "kernelspec": {
      "name": "python3",
      "display_name": "Python 3"
    },
    "language_info": {
      "name": "python"
    }
  },
  "cells": [
    {
      "cell_type": "markdown",
      "source": [
        "[Reference](https://medium.com/data-science-in-your-pocket/handling-class-imbalance-in-classification-algorithms-explained-2b0b7377aa34)"
      ],
      "metadata": {
        "id": "DVz8FjImiNFs"
      }
    },
    {
      "cell_type": "code",
      "execution_count": 1,
      "metadata": {
        "colab": {
          "base_uri": "https://localhost:8080/"
        },
        "id": "vj0JpA5Jg4gF",
        "outputId": "f95c1d19-3196-4cf5-8c03-6ab4cd2b4b2d"
      },
      "outputs": [
        {
          "output_type": "stream",
          "name": "stdout",
          "text": [
            "Before oversampling: Counter({0: 7192, 1: 808})\n",
            "After oversampling: Counter({0: 7192, 1: 7192})\n"
          ]
        }
      ],
      "source": [
        "from sklearn.datasets import make_classification\n",
        "from sklearn.model_selection import train_test_split\n",
        "from imblearn.over_sampling import SMOTE\n",
        "from collections import Counter\n",
        "\n",
        "# Generate an imbalanced binary classification dataset\n",
        "X, y = make_classification(n_samples=10000, weights=[0.9, 0.1], random_state=42)\n",
        "\n",
        "# Split the dataset into train and test sets\n",
        "X_train, X_test, y_train, y_test = train_test_split(X, y, test_size=0.2, random_state=42)\n",
        "\n",
        "# Print the class distribution before oversampling\n",
        "print(\"Before oversampling:\", Counter(y_train))\n",
        "# Before oversampling: Counter({0: 7192, 1: 808})\n",
        "\n",
        "# Create an instance of SMOTE\n",
        "smote = SMOTE()\n",
        "\n",
        "# Apply SMOTE to the training data\n",
        "X_train_oversampled, y_train_oversampled = smote.fit_resample(X_train, y_train)\n",
        "\n",
        "# Print the class distribution after oversampling\n",
        "print(\"After oversampling:\", Counter(y_train_oversampled))\n",
        "# After oversampling: Counter({0: 7192, 1: 7192})"
      ]
    }
  ]
}
