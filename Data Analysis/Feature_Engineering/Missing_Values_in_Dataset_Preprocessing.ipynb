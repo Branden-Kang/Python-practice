{
  "nbformat": 4,
  "nbformat_minor": 0,
  "metadata": {
    "colab": {
      "provenance": [],
      "authorship_tag": "ABX9TyPDw4zPI0tZSCoarBBMEQ6h"
    },
    "kernelspec": {
      "name": "python3",
      "display_name": "Python 3"
    },
    "language_info": {
      "name": "python"
    }
  },
  "cells": [
    {
      "cell_type": "markdown",
      "source": [
        "[Reference](https://medium.com/@WojtekFulmyk/handling-missing-values-in-dataset-preprocessing-8f7f5a210f47)"
      ],
      "metadata": {
        "id": "o4ZrTlrgKCHw"
      }
    },
    {
      "cell_type": "code",
      "execution_count": 1,
      "metadata": {
        "colab": {
          "base_uri": "https://localhost:8080/"
        },
        "id": "MONtPWFgJkX4",
        "outputId": "567bdf63-d363-4b54-e988-7e22061b518a"
      },
      "outputs": [
        {
          "output_type": "stream",
          "name": "stdout",
          "text": [
            "          0         1         2         3         4\n",
            "0       NaN  0.754366  1.507465  0.950219  0.510642\n",
            "1  1.001304  0.664201  0.349355       NaN  0.101694\n",
            "2  0.365116  0.150684  0.428704  0.585764  0.849133\n",
            "3       NaN  0.593344       NaN  0.551494  0.919409\n",
            "4  0.416361  0.344855  1.297222  0.402531  0.294946\n",
            "5  0.075290  0.006619  0.351888       NaN       NaN\n",
            "6  0.326784  1.148735  2.343642  0.647455  0.648783\n",
            "7       NaN       NaN  1.702416  0.129627  1.434416\n",
            "8  0.562866  1.003060  0.793655  0.967886  0.717289\n",
            "9  0.011593  0.288280       NaN  2.045615  0.287391\n"
          ]
        }
      ],
      "source": [
        "import numpy as np\n",
        "import pandas as pd\n",
        "\n",
        "# example df of 10 rows and 5 columns\n",
        "df = pd.DataFrame(np.random.randn(10, 5))\n",
        "\n",
        "# Sets random 20% of values to NaN\n",
        "num_nan = int(df.size * 0.2)\n",
        "\n",
        "# Loop to randomize the NaN values\n",
        "for _ in range(num_nan):\n",
        "    i = np.random.randint(0, df.shape[0])\n",
        "    j = np.random.randint(0, df.shape[1])\n",
        "    df.iloc[i, j] = np.nan\n",
        "    # ensures all values are positive\n",
        "    df = df.abs()\n",
        "\n",
        "print(df)"
      ]
    },
    {
      "cell_type": "markdown",
      "source": [
        "## Mean Imputation (column-wise):"
      ],
      "metadata": {
        "id": "RZ9EhZ87KJMV"
      }
    },
    {
      "cell_type": "code",
      "source": [
        "# Impute missing values with column-wise mean values\n",
        "df.fillna(df.mean(), inplace=True)\n",
        "\n",
        "# Print updated dataset\n",
        "print(df)"
      ],
      "metadata": {
        "colab": {
          "base_uri": "https://localhost:8080/"
        },
        "id": "ZXDX4ZM3KFOf",
        "outputId": "919f7d7a-8ece-4f63-890c-e8ac246ea80a"
      },
      "execution_count": 2,
      "outputs": [
        {
          "output_type": "stream",
          "name": "stdout",
          "text": [
            "          0         1         2         3         4\n",
            "0  0.394188  0.754366  1.507465  0.950219  0.510642\n",
            "1  1.001304  0.664201  0.349355  0.785074  0.101694\n",
            "2  0.365116  0.150684  0.428704  0.585764  0.849133\n",
            "3  0.394188  0.593344  1.096793  0.551494  0.919409\n",
            "4  0.416361  0.344855  1.297222  0.402531  0.294946\n",
            "5  0.075290  0.006619  0.351888  0.785074  0.640411\n",
            "6  0.326784  1.148735  2.343642  0.647455  0.648783\n",
            "7  0.394188  0.550460  1.702416  0.129627  1.434416\n",
            "8  0.562866  1.003060  0.793655  0.967886  0.717289\n",
            "9  0.011593  0.288280  1.096793  2.045615  0.287391\n"
          ]
        }
      ]
    },
    {
      "cell_type": "markdown",
      "source": [
        "## Hot-deck Imputation:"
      ],
      "metadata": {
        "id": "azB3gjAPKLZg"
      }
    },
    {
      "cell_type": "code",
      "source": [
        "# Impute missing values with hot deck imputation\n",
        "for col in df.columns:\n",
        "    for i, val in enumerate(df[col]):\n",
        "        if pd.isna(val):\n",
        "            df.at[i, col] = df[col].dropna().sample().iloc[0]\n",
        "\n",
        "# Print updated dataset\n",
        "print(df)"
      ],
      "metadata": {
        "colab": {
          "base_uri": "https://localhost:8080/"
        },
        "id": "RYV9URJkKHDR",
        "outputId": "7317ba79-c2f0-43ee-df90-3b6de12231b8"
      },
      "execution_count": 3,
      "outputs": [
        {
          "output_type": "stream",
          "name": "stdout",
          "text": [
            "          0         1         2         3         4\n",
            "0  0.394188  0.754366  1.507465  0.950219  0.510642\n",
            "1  1.001304  0.664201  0.349355  0.785074  0.101694\n",
            "2  0.365116  0.150684  0.428704  0.585764  0.849133\n",
            "3  0.394188  0.593344  1.096793  0.551494  0.919409\n",
            "4  0.416361  0.344855  1.297222  0.402531  0.294946\n",
            "5  0.075290  0.006619  0.351888  0.785074  0.640411\n",
            "6  0.326784  1.148735  2.343642  0.647455  0.648783\n",
            "7  0.394188  0.550460  1.702416  0.129627  1.434416\n",
            "8  0.562866  1.003060  0.793655  0.967886  0.717289\n",
            "9  0.011593  0.288280  1.096793  2.045615  0.287391\n"
          ]
        }
      ]
    }
  ]
}
