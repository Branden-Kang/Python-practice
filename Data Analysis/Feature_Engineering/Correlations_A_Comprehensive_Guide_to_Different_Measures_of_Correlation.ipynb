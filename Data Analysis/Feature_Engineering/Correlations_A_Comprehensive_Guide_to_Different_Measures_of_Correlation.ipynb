{
  "nbformat": 4,
  "nbformat_minor": 0,
  "metadata": {
    "colab": {
      "provenance": [],
      "authorship_tag": "ABX9TyOLdzdkygUSx7XLnSpc2i0o"
    },
    "kernelspec": {
      "name": "python3",
      "display_name": "Python 3"
    },
    "language_info": {
      "name": "python"
    }
  },
  "cells": [
    {
      "cell_type": "markdown",
      "source": [
        "[Reference](https://medium.com/@HeCanThink/correlations-a-comprehensive-guide-to-different-measures-of-correlation-f7ce62a86bde)"
      ],
      "metadata": {
        "id": "p2qYihNCkHBH"
      }
    },
    {
      "cell_type": "markdown",
      "source": [
        "# Pearson Correlation Coefficient (r)"
      ],
      "metadata": {
        "id": "Clw5jx04kJ2Z"
      }
    },
    {
      "cell_type": "code",
      "execution_count": 1,
      "metadata": {
        "colab": {
          "base_uri": "https://localhost:8080/"
        },
        "id": "KkHpXbYJjh0C",
        "outputId": "1e994e2f-87de-4635-f243-db40bbe45b2f"
      },
      "outputs": [
        {
          "output_type": "stream",
          "name": "stdout",
          "text": [
            "Pearson Correlation Coefficient: 0.9882\n",
            "P-value: 0.0000\n"
          ]
        }
      ],
      "source": [
        "import numpy as np\n",
        "from scipy.stats import pearsonr\n",
        "\n",
        "# Generate some sample data\n",
        "np.random.seed(42)\n",
        "x = np.random.rand(100)  # Sample data for variable X\n",
        "y = 2 * x + 1 + 0.1 * np.random.randn(100)  # Linear relationship with some noise for variable Y\n",
        "\n",
        "# Calculate the Pearson correlation coefficient\n",
        "correlation_coefficient, p_value = pearsonr(x, y)\n",
        "\n",
        "# Display the result\n",
        "print(f\"Pearson Correlation Coefficient: {correlation_coefficient:.4f}\")\n",
        "print(f\"P-value: {p_value:.4f}\")"
      ]
    },
    {
      "cell_type": "markdown",
      "source": [
        "# Spearman Rank Correlation Coefficient (ρ or rs)"
      ],
      "metadata": {
        "id": "PwdGvJc-kN7U"
      }
    },
    {
      "cell_type": "code",
      "source": [
        "import numpy as np\n",
        "from scipy.stats import spearmanr\n",
        "\n",
        "# Generate sample data\n",
        "np.random.seed(42)\n",
        "x = np.array([10, 20, 30, 40, 50])\n",
        "y = np.array([5, 15, 25, 35, 45])\n",
        "\n",
        "# Calculate Spearman rank correlation coefficient\n",
        "spearman_corr, p_value = spearmanr(x, y)\n",
        "\n",
        "# Display the result\n",
        "print(f\"Spearman Rank Correlation Coefficient: {spearman_corr:.4f}\")\n",
        "print(f\"P-value: {p_value:.4f}\")"
      ],
      "metadata": {
        "colab": {
          "base_uri": "https://localhost:8080/"
        },
        "id": "AkBVZBt3kMPf",
        "outputId": "c044193a-b994-44f5-9219-290f167f8116"
      },
      "execution_count": 2,
      "outputs": [
        {
          "output_type": "stream",
          "name": "stdout",
          "text": [
            "Spearman Rank Correlation Coefficient: 1.0000\n",
            "P-value: 0.0000\n"
          ]
        }
      ]
    },
    {
      "cell_type": "markdown",
      "source": [
        "# Kendall Tau Rank Correlation Coefficient (τ or tau)"
      ],
      "metadata": {
        "id": "fgX188RFkc7M"
      }
    },
    {
      "cell_type": "code",
      "source": [
        "import numpy as np\n",
        "from scipy.stats import kendalltau\n",
        "\n",
        "# Generate sample data\n",
        "np.random.seed(42)\n",
        "x = np.array([1, 2, 3, 4])\n",
        "y = np.array([3, 1, 4, 2])\n",
        "\n",
        "# Calculate Kendall Tau rank correlation coefficient\n",
        "tau, p_value = kendalltau(x, y)\n",
        "\n",
        "# Display the result\n",
        "print(f\"Kendall Tau Rank Correlation Coefficient: {tau:.4f}\")\n",
        "print(f\"P-value: {p_value:.4f}\")"
      ],
      "metadata": {
        "colab": {
          "base_uri": "https://localhost:8080/"
        },
        "id": "T9V7ercxkbZ_",
        "outputId": "d9a8188c-6e9f-4576-8441-d38362c72f30"
      },
      "execution_count": 3,
      "outputs": [
        {
          "output_type": "stream",
          "name": "stdout",
          "text": [
            "Kendall Tau Rank Correlation Coefficient: 0.0000\n",
            "P-value: 1.0000\n"
          ]
        }
      ]
    },
    {
      "cell_type": "markdown",
      "source": [
        "# Point-Biserial Correlation Coefficient"
      ],
      "metadata": {
        "id": "PmPa741Ck-rm"
      }
    },
    {
      "cell_type": "code",
      "source": [
        "import numpy as np\n",
        "from scipy.stats import pointbiserialr\n",
        "\n",
        "# Generate sample data\n",
        "np.random.seed(42)\n",
        "binary_variable = np.random.choice([0, 1], size=100)\n",
        "continuous_variable = np.random.normal(loc=50, scale=10, size=100)\n",
        "\n",
        "# Calculate point-biserial correlation coefficient\n",
        "r_pb, p_value = pointbiserialr(binary_variable, continuous_variable)\n",
        "\n",
        "# Display the result\n",
        "print(f\"Point-Biserial Correlation Coefficient: {r_pb:.4f}\")\n",
        "print(f\"P-value: {p_value:.4f}\")"
      ],
      "metadata": {
        "colab": {
          "base_uri": "https://localhost:8080/"
        },
        "id": "6xwNiPrGk9PV",
        "outputId": "4e6501f9-e471-46f5-abd9-a94e63041fc3"
      },
      "execution_count": 4,
      "outputs": [
        {
          "output_type": "stream",
          "name": "stdout",
          "text": [
            "Point-Biserial Correlation Coefficient: -0.0852\n",
            "P-value: 0.3993\n"
          ]
        }
      ]
    },
    {
      "cell_type": "markdown",
      "source": [
        "# Phi Coefficient (φ)"
      ],
      "metadata": {
        "id": "thhu5SWdlBg-"
      }
    },
    {
      "cell_type": "code",
      "source": [
        "import numpy as np\n",
        "from scipy.stats import chi2_contingency\n",
        "\n",
        "# Create a 2x2 contingency table\n",
        "contingency_table = np.array([[10, 5], [0, 0]])\n",
        "\n",
        "# Calculate chi-square statistic and p-value\n",
        "chi2, p, _, _ = chi2_contingency(contingency_table)\n",
        "\n",
        "# Calculate phi coefficient\n",
        "phi = np.sqrt(chi2 / sum(contingency_table.flatten()))\n",
        "\n",
        "# Display the result\n",
        "print(f\"Phi Coefficient: {phi:.4f}\")\n",
        "print(f\"P-value: {p:.4f}\")"
      ],
      "metadata": {
        "id": "yTYSYzRQlAVz"
      },
      "execution_count": 6,
      "outputs": []
    },
    {
      "cell_type": "markdown",
      "source": [
        "# Cramér’s V"
      ],
      "metadata": {
        "id": "XTZGMssVlE_P"
      }
    },
    {
      "cell_type": "code",
      "source": [
        "import numpy as np\n",
        "from scipy.stats import chi2_contingency\n",
        "\n",
        "# Create a 3x2 contingency table\n",
        "contingency_table = np.array([[10, 5], [0, 0], [8, 0]])\n",
        "\n",
        "# Calculate chi-square statistic\n",
        "chi2, _, _, _ = chi2_contingency(contingency_table)\n",
        "\n",
        "# Calculate Cramér's V\n",
        "n = np.sum(contingency_table)\n",
        "r, c = contingency_table.shape\n",
        "v = np.sqrt(chi2 / (n * min(r-1, c-1)))\n",
        "\n",
        "# Display the result\n",
        "print(f\"Cramér's V: {v:.4f}\")"
      ],
      "metadata": {
        "id": "0d8gHeIvlC_f"
      },
      "execution_count": 8,
      "outputs": []
    }
  ]
}
