{
  "nbformat": 4,
  "nbformat_minor": 0,
  "metadata": {
    "colab": {
      "name": "Cleaning Data in Python.ipynb",
      "provenance": [],
      "authorship_tag": "ABX9TyPD1lFHrOSigGVlEIe9IRxZ"
    },
    "kernelspec": {
      "name": "python3",
      "display_name": "Python 3"
    }
  },
  "cells": [
    {
      "cell_type": "markdown",
      "metadata": {
        "id": "6TO_9cxcnFwn",
        "colab_type": "text"
      },
      "source": [
        "[Reference](https://medium.com/python-in-plain-english/cleaning-data-in-python-data-types-46f9ebf2feef)"
      ]
    },
    {
      "cell_type": "code",
      "metadata": {
        "id": "m_yUyXgImxJm",
        "colab_type": "code",
        "colab": {}
      },
      "source": [
        "import pandas as pd"
      ],
      "execution_count": 1,
      "outputs": []
    },
    {
      "cell_type": "code",
      "metadata": {
        "id": "H26VpqVenJmX",
        "colab_type": "code",
        "colab": {}
      },
      "source": [
        "data = {'Name': ['Joe','Liz','Kristen'], \n",
        "        'Sex': ['Male','Female','Female'], \n",
        "        'Age': [30,32,'-'] \n",
        "} \n",
        "df = pd.DataFrame(data, ['Name','Sex','Age'])"
      ],
      "execution_count": 3,
      "outputs": []
    },
    {
      "cell_type": "code",
      "metadata": {
        "id": "MYQpV_KfnMvj",
        "colab_type": "code",
        "colab": {
          "base_uri": "https://localhost:8080/",
          "height": 85
        },
        "outputId": "5c60c9c6-3ac3-46cc-b8c5-89a98f5c6374"
      },
      "source": [
        "print(df)"
      ],
      "execution_count": 4,
      "outputs": [
        {
          "output_type": "stream",
          "text": [
            "         Name     Sex Age\n",
            "Name      Joe    Male  30\n",
            "Sex       Liz  Female  32\n",
            "Age   Kristen  Female   -\n"
          ],
          "name": "stdout"
        }
      ]
    },
    {
      "cell_type": "code",
      "metadata": {
        "id": "Z7w-hNsynOS5",
        "colab_type": "code",
        "colab": {
          "base_uri": "https://localhost:8080/",
          "height": 85
        },
        "outputId": "807d1dca-0d55-432c-c86e-0cf3c63577d7"
      },
      "source": [
        "print(df.dtypes)"
      ],
      "execution_count": 5,
      "outputs": [
        {
          "output_type": "stream",
          "text": [
            "Name    object\n",
            "Sex     object\n",
            "Age     object\n",
            "dtype: object\n"
          ],
          "name": "stdout"
        }
      ]
    },
    {
      "cell_type": "code",
      "metadata": {
        "id": "3of2G59KnP-5",
        "colab_type": "code",
        "colab": {
          "base_uri": "https://localhost:8080/",
          "height": 85
        },
        "outputId": "8da40a83-2469-492a-cf7e-4824a2c96f67"
      },
      "source": [
        "df['Age'] = pd.to_numeric(df['Age'], errors='coerce') \n",
        "df.dtypes"
      ],
      "execution_count": 7,
      "outputs": [
        {
          "output_type": "execute_result",
          "data": {
            "text/plain": [
              "Name     object\n",
              "Sex      object\n",
              "Age     float64\n",
              "dtype: object"
            ]
          },
          "metadata": {
            "tags": []
          },
          "execution_count": 7
        }
      ]
    },
    {
      "cell_type": "code",
      "metadata": {
        "id": "WGxSMd8JnTdl",
        "colab_type": "code",
        "colab": {
          "base_uri": "https://localhost:8080/",
          "height": 85
        },
        "outputId": "7f6a2eef-a56e-41e7-a108-eea9ea9d3b17"
      },
      "source": [
        "print(df)"
      ],
      "execution_count": 8,
      "outputs": [
        {
          "output_type": "stream",
          "text": [
            "         Name     Sex   Age\n",
            "Name      Joe    Male  30.0\n",
            "Sex       Liz  Female  32.0\n",
            "Age   Kristen  Female   NaN\n"
          ],
          "name": "stdout"
        }
      ]
    },
    {
      "cell_type": "code",
      "metadata": {
        "id": "ga07EtH7nVEd",
        "colab_type": "code",
        "colab": {
          "base_uri": "https://localhost:8080/",
          "height": 85
        },
        "outputId": "7d876fa5-f997-4209-a110-55fc6f4896dd"
      },
      "source": [
        "df['Sex'] = df['Sex'].astype('category') \n",
        "df.dtypes"
      ],
      "execution_count": 9,
      "outputs": [
        {
          "output_type": "execute_result",
          "data": {
            "text/plain": [
              "Name      object\n",
              "Sex     category\n",
              "Age      float64\n",
              "dtype: object"
            ]
          },
          "metadata": {
            "tags": []
          },
          "execution_count": 9
        }
      ]
    },
    {
      "cell_type": "code",
      "metadata": {
        "id": "9dbQwRE9nXK_",
        "colab_type": "code",
        "colab": {
          "base_uri": "https://localhost:8080/",
          "height": 85
        },
        "outputId": "912d10a8-ce49-416a-c0de-ec15eb0bc8fb"
      },
      "source": [
        "df['Name'] = df['Name'].astype('string') \n",
        "df.dtypes"
      ],
      "execution_count": 10,
      "outputs": [
        {
          "output_type": "execute_result",
          "data": {
            "text/plain": [
              "Name      string\n",
              "Sex     category\n",
              "Age      float64\n",
              "dtype: object"
            ]
          },
          "metadata": {
            "tags": []
          },
          "execution_count": 10
        }
      ]
    }
  ]
}