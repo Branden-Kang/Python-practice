{
  "nbformat": 4,
  "nbformat_minor": 0,
  "metadata": {
    "colab": {
      "name": "Clean Code in Python.ipynb",
      "provenance": [],
      "authorship_tag": "ABX9TyM2HIFKdUDjlxDd6Xtg5JdG"
    },
    "kernelspec": {
      "name": "python3",
      "display_name": "Python 3"
    }
  },
  "cells": [
    {
      "cell_type": "markdown",
      "metadata": {
        "id": "01pvLEtsB47F"
      },
      "source": [
        "[Reference](https://medium.com/dev-genius/clean-code-in-python-8251eea292fa)"
      ]
    },
    {
      "cell_type": "markdown",
      "metadata": {
        "id": "MO-YpVy1CC6d"
      },
      "source": [
        "# Decorators"
      ]
    },
    {
      "cell_type": "code",
      "metadata": {
        "colab": {
          "base_uri": "https://localhost:8080/"
        },
        "id": "uJWz5Wi_BZq9",
        "outputId": "620279a9-57f9-40ef-9390-fdbea1e9df16"
      },
      "source": [
        "def operations(function):\n",
        "  def wrapper(*args, **kwargs):\n",
        "    try:\n",
        "      print(\"Numbers:\", *args)\n",
        "      response = function(*args, **kwargs)\n",
        "      print(\"Result:\", response)\n",
        "      return response\n",
        "    except Exception as err:\n",
        "      print(err)\n",
        "      \n",
        "  return wrapper\n",
        "\n",
        "@operations\n",
        "def subtraction(num_a, num_b):\n",
        "  return num_a - num_b\n",
        "\n",
        "@operations\n",
        "def division(num_a, num_b):\n",
        "  return num_a / num_b\n",
        "\n",
        "subtraction(5, 2)\n",
        "division(5, 2)"
      ],
      "execution_count": 1,
      "outputs": [
        {
          "output_type": "stream",
          "text": [
            "Numbers: 5 2\n",
            "Result: 3\n",
            "Numbers: 5 2\n",
            "Result: 2.5\n"
          ],
          "name": "stdout"
        },
        {
          "output_type": "execute_result",
          "data": {
            "text/plain": [
              "2.5"
            ]
          },
          "metadata": {
            "tags": []
          },
          "execution_count": 1
        }
      ]
    },
    {
      "cell_type": "markdown",
      "metadata": {
        "id": "GM_cEbzMCOGP"
      },
      "source": [
        "# Context Managers\n",
        "```python\n",
        "# Read a File\n",
        "\n",
        "file = open(\"path_file\", mode=\"r\")\n",
        "print(file.read())\n",
        "file.close()\n",
        "\n",
        "# Using context managers\n",
        "\n",
        "with open(\"path_file\", mode=\"r\") as file:\n",
        "  print(file.read())\n",
        "```"
      ]
    },
    {
      "cell_type": "markdown",
      "metadata": {
        "id": "Y3OfZR3gCVgC"
      },
      "source": [
        "# Dunder Methods"
      ]
    },
    {
      "cell_type": "code",
      "metadata": {
        "colab": {
          "base_uri": "https://localhost:8080/"
        },
        "id": "tQZXHwpGB0y1",
        "outputId": "8bb92818-bc4f-4ed5-b2d5-285708ce5913"
      },
      "source": [
        "class User:\n",
        "  def __init__(self, name, age):\n",
        "    self.name = name\n",
        "    self.age = age\n",
        "   \n",
        "  def __repr__(self):\n",
        "      return f'User: {self.name}'\n",
        "  \n",
        "  def __gt__(self, other_user):\n",
        "      if self.age > other_user.age:\n",
        "        print(f\"{self.name} is older than {other_user.name}\")\n",
        "      else:\n",
        "        print(f\"{self.name} is younger than {other_user.name}\")\n",
        "        \n",
        "esteban = User(\"Esteban\", 26)\n",
        "cristian = User(\"Cristian\", 24)\n",
        "\n",
        "print(esteban)\n",
        "# Output: User: Esteban\n",
        "\n",
        "esteban > cristian"
      ],
      "execution_count": 2,
      "outputs": [
        {
          "output_type": "stream",
          "text": [
            "User: Esteban\n",
            "Esteban is older than Cristian\n"
          ],
          "name": "stdout"
        }
      ]
    }
  ]
}