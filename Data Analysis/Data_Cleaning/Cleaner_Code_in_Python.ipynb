{
  "nbformat": 4,
  "nbformat_minor": 0,
  "metadata": {
    "colab": {
      "name": "Cleaner Code in Python.ipynb",
      "provenance": [],
      "authorship_tag": "ABX9TyNtyAqmIwJB58ZSFoHlcBE9"
    },
    "kernelspec": {
      "name": "python3",
      "display_name": "Python 3"
    }
  },
  "cells": [
    {
      "cell_type": "markdown",
      "metadata": {
        "id": "cPyvZZjbEYc2"
      },
      "source": [
        "[Reference](https://medium.com/better-programming/handy-python-snippets-for-cleaner-code-a1e2c5d39a0d)"
      ]
    },
    {
      "cell_type": "code",
      "metadata": {
        "id": "mAq-kgwzB_vW"
      },
      "source": [
        "def call_func(name):\n",
        "    klass = MyClass()\n",
        "    return getattr(klass, name)()\n",
        "    \n",
        "call_func('function_name')"
      ],
      "execution_count": 3,
      "outputs": []
    },
    {
      "cell_type": "code",
      "metadata": {
        "id": "Hk1NMVePEjCN"
      },
      "source": [
        "var_one, var_two = [1, 2]"
      ],
      "execution_count": 4,
      "outputs": []
    },
    {
      "cell_type": "code",
      "metadata": {
        "colab": {
          "base_uri": "https://localhost:8080/"
        },
        "id": "dqUri7FZEo4O",
        "outputId": "4ee65d5f-d7bb-4f97-ad4a-34007e4ca45a"
      },
      "source": [
        "var_one"
      ],
      "execution_count": 5,
      "outputs": [
        {
          "output_type": "execute_result",
          "data": {
            "text/plain": [
              "1"
            ]
          },
          "metadata": {
            "tags": []
          },
          "execution_count": 5
        }
      ]
    },
    {
      "cell_type": "code",
      "metadata": {
        "colab": {
          "base_uri": "https://localhost:8080/"
        },
        "id": "9p2qjOkLEqG9",
        "outputId": "d8f8f0ec-4101-4ece-e89c-72e985f05a75"
      },
      "source": [
        "var_two"
      ],
      "execution_count": 6,
      "outputs": [
        {
          "output_type": "execute_result",
          "data": {
            "text/plain": [
              "2"
            ]
          },
          "metadata": {
            "tags": []
          },
          "execution_count": 6
        }
      ]
    },
    {
      "cell_type": "code",
      "metadata": {
        "colab": {
          "base_uri": "https://localhost:8080/"
        },
        "id": "Mm-htRdJEqqe",
        "outputId": "9e968ebe-f746-4116-dc51-7b39e4cf4366"
      },
      "source": [
        "person = ['Branden', 27, 'Data Scientist']\n",
        "print(person[0])"
      ],
      "execution_count": 11,
      "outputs": [
        {
          "output_type": "stream",
          "text": [
            "Branden\n"
          ],
          "name": "stdout"
        }
      ]
    },
    {
      "cell_type": "code",
      "metadata": {
        "colab": {
          "base_uri": "https://localhost:8080/"
        },
        "id": "EmraFA5UFeAm",
        "outputId": "f9f24459-f236-4777-95fb-f82b263c3e0c"
      },
      "source": [
        "person = ['Branden', 27, 'Data Scientist']\n",
        "name, age, profession = person\n",
        "print(name)"
      ],
      "execution_count": 12,
      "outputs": [
        {
          "output_type": "stream",
          "text": [
            "Branden\n"
          ],
          "name": "stdout"
        }
      ]
    },
    {
      "cell_type": "code",
      "metadata": {
        "id": "c_ACN993FgVL"
      },
      "source": [
        "class MyClass:\n",
        "    def func_one():\n",
        "        pass\n",
        "    def func_two():\n",
        "        pass\n",
        "    def special_func_one():\n",
        "        pass"
      ],
      "execution_count": 13,
      "outputs": []
    },
    {
      "cell_type": "code",
      "metadata": {
        "colab": {
          "base_uri": "https://localhost:8080/"
        },
        "id": "LqZKUK98FrX9",
        "outputId": "80580ba3-c441-4cb2-9758-0af8b71ee0ae"
      },
      "source": [
        "klass = MyClass()\n",
        "for func in dir(klass):\n",
        "    if func.startswith('special_'):\n",
        "        print(f\"this is a special function: {func}\")"
      ],
      "execution_count": 14,
      "outputs": [
        {
          "output_type": "stream",
          "text": [
            "this is a special function: special_func_one\n"
          ],
          "name": "stdout"
        }
      ]
    },
    {
      "cell_type": "code",
      "metadata": {
        "id": "YSsuAUKlFuHq"
      },
      "source": [
        "some_function_params = {\n",
        "    'param1': foo,\n",
        "    'param2': bar,\n",
        "    'param3': baz,\n",
        "    'param4': bee,\n",
        "    'param5': boo\n",
        "}\n",
        "SomeClass.some_function(**some_function_params)"
      ],
      "execution_count": 16,
      "outputs": []
    }
  ]
}