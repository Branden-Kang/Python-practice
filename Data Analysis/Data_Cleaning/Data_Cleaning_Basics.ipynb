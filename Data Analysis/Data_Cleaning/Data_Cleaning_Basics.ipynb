{
  "nbformat": 4,
  "nbformat_minor": 0,
  "metadata": {
    "colab": {
      "provenance": [],
      "authorship_tag": "ABX9TyNRlClrj3xbFONRBnv0CQA7"
    },
    "kernelspec": {
      "name": "python3",
      "display_name": "Python 3"
    },
    "language_info": {
      "name": "python"
    }
  },
  "cells": [
    {
      "cell_type": "markdown",
      "source": [
        "[Reference](https://medium.com/@egbetiimmy/data-cleaning-af4f4aadb2cf)"
      ],
      "metadata": {
        "id": "cCydtC6DumGz"
      }
    },
    {
      "cell_type": "markdown",
      "source": [
        "Here are the basic data cleaning tasks we’ll tackle:\n",
        "- Importing Libraries\n",
        "- Input Dataset\n",
        "- Check for unique values\n",
        "- Locate Missing Data\n",
        "- Check for Duplicates\n",
        "- Check data types\n",
        "- Normalize Casing\n",
        "- Export data"
      ],
      "metadata": {
        "id": "yueY4ge_ugwT"
      }
    },
    {
      "cell_type": "markdown",
      "source": [
        "```\n",
        "df.head()\n",
        "```\n",
        "\n",
        "# Check for Unique Values\n",
        "```\n",
        "df[‘Company’].unique()\n",
        "df[‘States_affected’].unique()\n",
        "df[‘DoW’].unique()\n",
        "df[‘MoY’].unique()\n",
        "df[‘Years’].unique()\n",
        "df[‘Contaminant’].unique()\n",
        "df[‘Type_of_fa’].unique()\n",
        "df[‘Spill_area’].unique()\n",
        "```\n",
        "\n",
        "# Check the data type of each column\n",
        "```\n",
        "df.dtypes\n",
        "```\n",
        "\n",
        "```\n",
        "df.LGA = df.LGA.str.replace(‘ ‘,’-’)\n",
        "```\n",
        "\n",
        "# Look at the proportion of missing data\n",
        "```\n",
        "df.isnull()\n",
        "df.isnull().sum()\n",
        "\n",
        "```\n",
        "# Input missing data\n",
        "```\n",
        "df_2 = df.replace(\n",
        "{\n",
        "“Contaminant” : {\n",
        "‘ ‘ : ‘Unknown’\n",
        "},\n",
        "“Type_of_fa” : {\n",
        "‘ ‘ : ‘Unknown’\n",
        "},\n",
        "“Spill_area” : {\n",
        "‘ ‘ : ‘Unknown’\n",
        "},\n",
        "‘LGA’ : { \n",
        "‘Silga’ : ‘Southern-Ijaw’, ‘Ah0Da’ : ‘Ahoada’, ‘Ahoda’ : ‘Ahoada’,\n",
        "‘Ah’ : ‘Ahoada’, ‘Ahoda-West’ : ‘Ahoada-West’,’Ahouda-West’ : ‘Ahoada-West’, \n",
        "‘Aboua’ : ‘Abua’, ‘Abua-Odual’ : ‘Abua/Odual’, ‘Aua/Odual’ : ‘Abua/Odual’,\n",
        "‘Ukwa — West’ : ‘Ukwa-West’, ‘Etche,-Eberi/Omumma’ : ‘Etche/Eberi/Omumma’,\n",
        "‘Brass Nembe’ : ‘Brass/Nembe’, ‘Gohana’ : ‘Gokana’, ‘Adoni’ : ‘Andoni’,\n",
        "‘Obigbo’ : ‘Oyigbo’, ‘Awelga-Rivers-State’ : ‘Ahoada-West’,\n",
        "‘Awelga’ : ‘Ahoada-West’, ‘One’ : ‘Onne’, ‘Onelga-/-Rivers’ : ‘Onne’, \n",
        "‘Oelga’ : ‘Onne’, ‘Onelga’ : ‘Onne’, ‘Nelga’ : ‘Onne’,\n",
        "‘Walga’ : ‘Okrika’, ‘Elen-Kalabari’ : ‘Elem-Kalabari’,\n",
        "‘Ikwerre-Lga’ : ‘Ikwerre’, ‘Ogoda/Owube/Ahoda-Lga’ : ‘Ogoda/Owube/Ahoada’,\n",
        "‘Okirika’ : ‘Okrika’, ‘’ : ‘Unknown’\n",
        "}\n",
        "})\n",
        "df_2.head()\n",
        "```\n",
        "\n",
        "# Check for Duplicates\n",
        "```\n",
        "df.duplicated().sum()\n",
        "df.drop_duplicates()\n",
        "```\n",
        "\n",
        "# Export Dataset\n",
        "```\n",
        "df_2.to_csv(‘/content/drive/MyDrive/spill_data_cleaned.csv’)\n",
        "```\n"
      ],
      "metadata": {
        "id": "5YDxdG_nu2rt"
      }
    }
  ]
}
