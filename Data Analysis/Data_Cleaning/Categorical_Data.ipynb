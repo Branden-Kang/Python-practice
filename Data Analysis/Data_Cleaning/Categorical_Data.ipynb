{
  "nbformat": 4,
  "nbformat_minor": 0,
  "metadata": {
    "colab": {
      "name": "Categorical Data.ipynb",
      "provenance": [],
      "authorship_tag": "ABX9TyO3Y2ISY9FeODym/yVrieBx"
    },
    "kernelspec": {
      "name": "python3",
      "display_name": "Python 3"
    }
  },
  "cells": [
    {
      "cell_type": "markdown",
      "metadata": {
        "id": "ttxuxSDmtRjQ",
        "colab_type": "text"
      },
      "source": [
        "[Reference](https://towardsdatascience.com/understanding-feature-engineering-part-2-categorical-data-f54324193e63)"
      ]
    },
    {
      "cell_type": "code",
      "metadata": {
        "id": "n8zx0aN_bQuJ",
        "colab_type": "code",
        "colab": {}
      },
      "source": [
        "import pandas as pd\n",
        "import numpy as np"
      ],
      "execution_count": 1,
      "outputs": []
    },
    {
      "cell_type": "markdown",
      "metadata": {
        "id": "etKHvMkPuC_o",
        "colab_type": "text"
      },
      "source": [
        "# Transforming Nominal Attributes"
      ]
    },
    {
      "cell_type": "code",
      "metadata": {
        "id": "ipyMdIuZtUfQ",
        "colab_type": "code",
        "colab": {
          "base_uri": "https://localhost:8080/",
          "height": 235
        },
        "outputId": "597152dc-e111-4b6e-859e-f7a9d0478298"
      },
      "source": [
        "vg_df = pd.read_csv('https://raw.githubusercontent.com/Branden-Kang/Python-practice/master/Data/vgsales.csv', encoding='utf-8')\n",
        "vg_df[['Name', 'Platform', 'Year', 'Genre', 'Publisher']].iloc[1:7]"
      ],
      "execution_count": 26,
      "outputs": [
        {
          "output_type": "execute_result",
          "data": {
            "text/html": [
              "<div>\n",
              "<style scoped>\n",
              "    .dataframe tbody tr th:only-of-type {\n",
              "        vertical-align: middle;\n",
              "    }\n",
              "\n",
              "    .dataframe tbody tr th {\n",
              "        vertical-align: top;\n",
              "    }\n",
              "\n",
              "    .dataframe thead th {\n",
              "        text-align: right;\n",
              "    }\n",
              "</style>\n",
              "<table border=\"1\" class=\"dataframe\">\n",
              "  <thead>\n",
              "    <tr style=\"text-align: right;\">\n",
              "      <th></th>\n",
              "      <th>Name</th>\n",
              "      <th>Platform</th>\n",
              "      <th>Year</th>\n",
              "      <th>Genre</th>\n",
              "      <th>Publisher</th>\n",
              "    </tr>\n",
              "  </thead>\n",
              "  <tbody>\n",
              "    <tr>\n",
              "      <th>1</th>\n",
              "      <td>Super Mario Bros.</td>\n",
              "      <td>NES</td>\n",
              "      <td>1985.0</td>\n",
              "      <td>Platform</td>\n",
              "      <td>Nintendo</td>\n",
              "    </tr>\n",
              "    <tr>\n",
              "      <th>2</th>\n",
              "      <td>Mario Kart Wii</td>\n",
              "      <td>Wii</td>\n",
              "      <td>2008.0</td>\n",
              "      <td>Racing</td>\n",
              "      <td>Nintendo</td>\n",
              "    </tr>\n",
              "    <tr>\n",
              "      <th>3</th>\n",
              "      <td>Wii Sports Resort</td>\n",
              "      <td>Wii</td>\n",
              "      <td>2009.0</td>\n",
              "      <td>Sports</td>\n",
              "      <td>Nintendo</td>\n",
              "    </tr>\n",
              "    <tr>\n",
              "      <th>4</th>\n",
              "      <td>Pokemon Red/Pokemon Blue</td>\n",
              "      <td>GB</td>\n",
              "      <td>1996.0</td>\n",
              "      <td>Role-Playing</td>\n",
              "      <td>Nintendo</td>\n",
              "    </tr>\n",
              "    <tr>\n",
              "      <th>5</th>\n",
              "      <td>Tetris</td>\n",
              "      <td>GB</td>\n",
              "      <td>1989.0</td>\n",
              "      <td>Puzzle</td>\n",
              "      <td>Nintendo</td>\n",
              "    </tr>\n",
              "    <tr>\n",
              "      <th>6</th>\n",
              "      <td>New Super Mario Bros.</td>\n",
              "      <td>DS</td>\n",
              "      <td>2006.0</td>\n",
              "      <td>Platform</td>\n",
              "      <td>Nintendo</td>\n",
              "    </tr>\n",
              "  </tbody>\n",
              "</table>\n",
              "</div>"
            ],
            "text/plain": [
              "                       Name Platform    Year         Genre Publisher\n",
              "1         Super Mario Bros.      NES  1985.0      Platform  Nintendo\n",
              "2            Mario Kart Wii      Wii  2008.0        Racing  Nintendo\n",
              "3         Wii Sports Resort      Wii  2009.0        Sports  Nintendo\n",
              "4  Pokemon Red/Pokemon Blue       GB  1996.0  Role-Playing  Nintendo\n",
              "5                    Tetris       GB  1989.0        Puzzle  Nintendo\n",
              "6     New Super Mario Bros.       DS  2006.0      Platform  Nintendo"
            ]
          },
          "metadata": {
            "tags": []
          },
          "execution_count": 26
        }
      ]
    },
    {
      "cell_type": "code",
      "metadata": {
        "id": "ieEEfbfztZS2",
        "colab_type": "code",
        "colab": {
          "base_uri": "https://localhost:8080/",
          "height": 68
        },
        "outputId": "82db1d9b-1809-4d72-f249-4bac3a497746"
      },
      "source": [
        "genres = np.unique(vg_df['Genre'])\n",
        "genres"
      ],
      "execution_count": 3,
      "outputs": [
        {
          "output_type": "execute_result",
          "data": {
            "text/plain": [
              "array(['Action', 'Adventure', 'Fighting', 'Misc', 'Platform', 'Puzzle',\n",
              "       'Racing', 'Role-Playing', 'Shooter', 'Simulation', 'Sports',\n",
              "       'Strategy'], dtype=object)"
            ]
          },
          "metadata": {
            "tags": []
          },
          "execution_count": 3
        }
      ]
    },
    {
      "cell_type": "code",
      "metadata": {
        "id": "yv-UYBldtbFw",
        "colab_type": "code",
        "colab": {}
      },
      "source": [
        "from sklearn.preprocessing import LabelEncoder"
      ],
      "execution_count": 4,
      "outputs": []
    },
    {
      "cell_type": "code",
      "metadata": {
        "id": "FRkcalbotiHn",
        "colab_type": "code",
        "colab": {
          "base_uri": "https://localhost:8080/",
          "height": 68
        },
        "outputId": "f70483ae-e592-4be5-d822-25df0fdde597"
      },
      "source": [
        "gle = LabelEncoder()\n",
        "genre_labels = gle.fit_transform(vg_df['Genre'])\n",
        "gle.classes_"
      ],
      "execution_count": 6,
      "outputs": [
        {
          "output_type": "execute_result",
          "data": {
            "text/plain": [
              "array(['Action', 'Adventure', 'Fighting', 'Misc', 'Platform', 'Puzzle',\n",
              "       'Racing', 'Role-Playing', 'Shooter', 'Simulation', 'Sports',\n",
              "       'Strategy'], dtype=object)"
            ]
          },
          "metadata": {
            "tags": []
          },
          "execution_count": 6
        }
      ]
    },
    {
      "cell_type": "code",
      "metadata": {
        "id": "1M5FvnKItb8J",
        "colab_type": "code",
        "colab": {
          "base_uri": "https://localhost:8080/",
          "height": 221
        },
        "outputId": "fc022cca-e5d8-4489-cbfb-3b0d97575757"
      },
      "source": [
        "genre_mappings = {index: label for index, label in \n",
        "                  enumerate(gle.classes_)}\n",
        "genre_mappings"
      ],
      "execution_count": 7,
      "outputs": [
        {
          "output_type": "execute_result",
          "data": {
            "text/plain": [
              "{0: 'Action',\n",
              " 1: 'Adventure',\n",
              " 2: 'Fighting',\n",
              " 3: 'Misc',\n",
              " 4: 'Platform',\n",
              " 5: 'Puzzle',\n",
              " 6: 'Racing',\n",
              " 7: 'Role-Playing',\n",
              " 8: 'Shooter',\n",
              " 9: 'Simulation',\n",
              " 10: 'Sports',\n",
              " 11: 'Strategy'}"
            ]
          },
          "metadata": {
            "tags": []
          },
          "execution_count": 7
        }
      ]
    },
    {
      "cell_type": "code",
      "metadata": {
        "id": "HM4uwFPgtpdz",
        "colab_type": "code",
        "colab": {
          "base_uri": "https://localhost:8080/",
          "height": 235
        },
        "outputId": "27a2c48e-def6-4fbb-bcac-0df15579681c"
      },
      "source": [
        "vg_df['GenreLabel'] = genre_labels\n",
        "vg_df[['Name', 'Platform', 'Year', 'Genre', 'GenreLabel']].iloc[1:7]"
      ],
      "execution_count": 8,
      "outputs": [
        {
          "output_type": "execute_result",
          "data": {
            "text/html": [
              "<div>\n",
              "<style scoped>\n",
              "    .dataframe tbody tr th:only-of-type {\n",
              "        vertical-align: middle;\n",
              "    }\n",
              "\n",
              "    .dataframe tbody tr th {\n",
              "        vertical-align: top;\n",
              "    }\n",
              "\n",
              "    .dataframe thead th {\n",
              "        text-align: right;\n",
              "    }\n",
              "</style>\n",
              "<table border=\"1\" class=\"dataframe\">\n",
              "  <thead>\n",
              "    <tr style=\"text-align: right;\">\n",
              "      <th></th>\n",
              "      <th>Name</th>\n",
              "      <th>Platform</th>\n",
              "      <th>Year</th>\n",
              "      <th>Genre</th>\n",
              "      <th>GenreLabel</th>\n",
              "    </tr>\n",
              "  </thead>\n",
              "  <tbody>\n",
              "    <tr>\n",
              "      <th>1</th>\n",
              "      <td>Super Mario Bros.</td>\n",
              "      <td>NES</td>\n",
              "      <td>1985.0</td>\n",
              "      <td>Platform</td>\n",
              "      <td>4</td>\n",
              "    </tr>\n",
              "    <tr>\n",
              "      <th>2</th>\n",
              "      <td>Mario Kart Wii</td>\n",
              "      <td>Wii</td>\n",
              "      <td>2008.0</td>\n",
              "      <td>Racing</td>\n",
              "      <td>6</td>\n",
              "    </tr>\n",
              "    <tr>\n",
              "      <th>3</th>\n",
              "      <td>Wii Sports Resort</td>\n",
              "      <td>Wii</td>\n",
              "      <td>2009.0</td>\n",
              "      <td>Sports</td>\n",
              "      <td>10</td>\n",
              "    </tr>\n",
              "    <tr>\n",
              "      <th>4</th>\n",
              "      <td>Pokemon Red/Pokemon Blue</td>\n",
              "      <td>GB</td>\n",
              "      <td>1996.0</td>\n",
              "      <td>Role-Playing</td>\n",
              "      <td>7</td>\n",
              "    </tr>\n",
              "    <tr>\n",
              "      <th>5</th>\n",
              "      <td>Tetris</td>\n",
              "      <td>GB</td>\n",
              "      <td>1989.0</td>\n",
              "      <td>Puzzle</td>\n",
              "      <td>5</td>\n",
              "    </tr>\n",
              "    <tr>\n",
              "      <th>6</th>\n",
              "      <td>New Super Mario Bros.</td>\n",
              "      <td>DS</td>\n",
              "      <td>2006.0</td>\n",
              "      <td>Platform</td>\n",
              "      <td>4</td>\n",
              "    </tr>\n",
              "  </tbody>\n",
              "</table>\n",
              "</div>"
            ],
            "text/plain": [
              "                       Name Platform    Year         Genre  GenreLabel\n",
              "1         Super Mario Bros.      NES  1985.0      Platform           4\n",
              "2            Mario Kart Wii      Wii  2008.0        Racing           6\n",
              "3         Wii Sports Resort      Wii  2009.0        Sports          10\n",
              "4  Pokemon Red/Pokemon Blue       GB  1996.0  Role-Playing           7\n",
              "5                    Tetris       GB  1989.0        Puzzle           5\n",
              "6     New Super Mario Bros.       DS  2006.0      Platform           4"
            ]
          },
          "metadata": {
            "tags": []
          },
          "execution_count": 8
        }
      ]
    },
    {
      "cell_type": "markdown",
      "metadata": {
        "id": "wYnLz71duEr0",
        "colab_type": "text"
      },
      "source": [
        "# Transforming Ordinal Attributes"
      ]
    },
    {
      "cell_type": "code",
      "metadata": {
        "id": "JR1lDJ7TtuOZ",
        "colab_type": "code",
        "colab": {
          "base_uri": "https://localhost:8080/",
          "height": 54
        },
        "outputId": "dd4b61d9-eb94-4e64-a4ab-561c75877caf"
      },
      "source": [
        "poke_df = pd.read_csv('https://raw.githubusercontent.com/dipanjanS/practical-machine-learning-with-python/master/notebooks/Ch04_Feature_Engineering_and_Selection/datasets/Pokemon.csv', encoding='utf-8')\n",
        "poke_df = poke_df.sample(random_state=1, \n",
        "                         frac=1).reset_index(drop=True)\n",
        "np.unique(poke_df['Generation'])"
      ],
      "execution_count": 10,
      "outputs": [
        {
          "output_type": "execute_result",
          "data": {
            "text/plain": [
              "array(['Gen 1', 'Gen 2', 'Gen 3', 'Gen 4', 'Gen 5', 'Gen 6'], dtype=object)"
            ]
          },
          "metadata": {
            "tags": []
          },
          "execution_count": 10
        }
      ]
    },
    {
      "cell_type": "code",
      "metadata": {
        "id": "7wLOeR5st6Gc",
        "colab_type": "code",
        "colab": {
          "base_uri": "https://localhost:8080/",
          "height": 235
        },
        "outputId": "14fc2741-1f89-4b17-f7b5-7e11a2c2590b"
      },
      "source": [
        "gen_ord_map = {'Gen 1': 1, 'Gen 2': 2, 'Gen 3': 3, \n",
        "               'Gen 4': 4, 'Gen 5': 5, 'Gen 6': 6}\n",
        "poke_df['GenerationLabel'] = poke_df['Generation'].map(gen_ord_map)\n",
        "poke_df[['Name', 'Generation', 'GenerationLabel']].iloc[4:10]"
      ],
      "execution_count": 11,
      "outputs": [
        {
          "output_type": "execute_result",
          "data": {
            "text/html": [
              "<div>\n",
              "<style scoped>\n",
              "    .dataframe tbody tr th:only-of-type {\n",
              "        vertical-align: middle;\n",
              "    }\n",
              "\n",
              "    .dataframe tbody tr th {\n",
              "        vertical-align: top;\n",
              "    }\n",
              "\n",
              "    .dataframe thead th {\n",
              "        text-align: right;\n",
              "    }\n",
              "</style>\n",
              "<table border=\"1\" class=\"dataframe\">\n",
              "  <thead>\n",
              "    <tr style=\"text-align: right;\">\n",
              "      <th></th>\n",
              "      <th>Name</th>\n",
              "      <th>Generation</th>\n",
              "      <th>GenerationLabel</th>\n",
              "    </tr>\n",
              "  </thead>\n",
              "  <tbody>\n",
              "    <tr>\n",
              "      <th>4</th>\n",
              "      <td>Octillery</td>\n",
              "      <td>Gen 2</td>\n",
              "      <td>2</td>\n",
              "    </tr>\n",
              "    <tr>\n",
              "      <th>5</th>\n",
              "      <td>Helioptile</td>\n",
              "      <td>Gen 6</td>\n",
              "      <td>6</td>\n",
              "    </tr>\n",
              "    <tr>\n",
              "      <th>6</th>\n",
              "      <td>Dialga</td>\n",
              "      <td>Gen 4</td>\n",
              "      <td>4</td>\n",
              "    </tr>\n",
              "    <tr>\n",
              "      <th>7</th>\n",
              "      <td>DeoxysDefense Forme</td>\n",
              "      <td>Gen 3</td>\n",
              "      <td>3</td>\n",
              "    </tr>\n",
              "    <tr>\n",
              "      <th>8</th>\n",
              "      <td>Rapidash</td>\n",
              "      <td>Gen 1</td>\n",
              "      <td>1</td>\n",
              "    </tr>\n",
              "    <tr>\n",
              "      <th>9</th>\n",
              "      <td>Swanna</td>\n",
              "      <td>Gen 5</td>\n",
              "      <td>5</td>\n",
              "    </tr>\n",
              "  </tbody>\n",
              "</table>\n",
              "</div>"
            ],
            "text/plain": [
              "                  Name Generation  GenerationLabel\n",
              "4            Octillery      Gen 2                2\n",
              "5           Helioptile      Gen 6                6\n",
              "6               Dialga      Gen 4                4\n",
              "7  DeoxysDefense Forme      Gen 3                3\n",
              "8             Rapidash      Gen 1                1\n",
              "9               Swanna      Gen 5                5"
            ]
          },
          "metadata": {
            "tags": []
          },
          "execution_count": 11
        }
      ]
    },
    {
      "cell_type": "markdown",
      "metadata": {
        "id": "7lshTtrRuYWq",
        "colab_type": "text"
      },
      "source": [
        "# Encoding Categorical Attributes"
      ]
    },
    {
      "cell_type": "markdown",
      "metadata": {
        "id": "gKb5JlymuhAE",
        "colab_type": "text"
      },
      "source": [
        "## One-hot Encoding Scheme"
      ]
    },
    {
      "cell_type": "code",
      "metadata": {
        "id": "3q8BdUC7uTjt",
        "colab_type": "code",
        "colab": {
          "base_uri": "https://localhost:8080/",
          "height": 235
        },
        "outputId": "3625dc08-9fb6-41d5-fa52-ecd902b2713c"
      },
      "source": [
        "poke_df[['Name', 'Generation', 'Legendary']].iloc[4:10]"
      ],
      "execution_count": 12,
      "outputs": [
        {
          "output_type": "execute_result",
          "data": {
            "text/html": [
              "<div>\n",
              "<style scoped>\n",
              "    .dataframe tbody tr th:only-of-type {\n",
              "        vertical-align: middle;\n",
              "    }\n",
              "\n",
              "    .dataframe tbody tr th {\n",
              "        vertical-align: top;\n",
              "    }\n",
              "\n",
              "    .dataframe thead th {\n",
              "        text-align: right;\n",
              "    }\n",
              "</style>\n",
              "<table border=\"1\" class=\"dataframe\">\n",
              "  <thead>\n",
              "    <tr style=\"text-align: right;\">\n",
              "      <th></th>\n",
              "      <th>Name</th>\n",
              "      <th>Generation</th>\n",
              "      <th>Legendary</th>\n",
              "    </tr>\n",
              "  </thead>\n",
              "  <tbody>\n",
              "    <tr>\n",
              "      <th>4</th>\n",
              "      <td>Octillery</td>\n",
              "      <td>Gen 2</td>\n",
              "      <td>False</td>\n",
              "    </tr>\n",
              "    <tr>\n",
              "      <th>5</th>\n",
              "      <td>Helioptile</td>\n",
              "      <td>Gen 6</td>\n",
              "      <td>False</td>\n",
              "    </tr>\n",
              "    <tr>\n",
              "      <th>6</th>\n",
              "      <td>Dialga</td>\n",
              "      <td>Gen 4</td>\n",
              "      <td>True</td>\n",
              "    </tr>\n",
              "    <tr>\n",
              "      <th>7</th>\n",
              "      <td>DeoxysDefense Forme</td>\n",
              "      <td>Gen 3</td>\n",
              "      <td>True</td>\n",
              "    </tr>\n",
              "    <tr>\n",
              "      <th>8</th>\n",
              "      <td>Rapidash</td>\n",
              "      <td>Gen 1</td>\n",
              "      <td>False</td>\n",
              "    </tr>\n",
              "    <tr>\n",
              "      <th>9</th>\n",
              "      <td>Swanna</td>\n",
              "      <td>Gen 5</td>\n",
              "      <td>False</td>\n",
              "    </tr>\n",
              "  </tbody>\n",
              "</table>\n",
              "</div>"
            ],
            "text/plain": [
              "                  Name Generation  Legendary\n",
              "4            Octillery      Gen 2      False\n",
              "5           Helioptile      Gen 6      False\n",
              "6               Dialga      Gen 4       True\n",
              "7  DeoxysDefense Forme      Gen 3       True\n",
              "8             Rapidash      Gen 1      False\n",
              "9               Swanna      Gen 5      False"
            ]
          },
          "metadata": {
            "tags": []
          },
          "execution_count": 12
        }
      ]
    },
    {
      "cell_type": "code",
      "metadata": {
        "id": "phYKo_loujvV",
        "colab_type": "code",
        "colab": {}
      },
      "source": [
        "from sklearn.preprocessing import OneHotEncoder, LabelEncoder"
      ],
      "execution_count": 13,
      "outputs": []
    },
    {
      "cell_type": "code",
      "metadata": {
        "id": "QYcM9LNwunrX",
        "colab_type": "code",
        "colab": {}
      },
      "source": [
        "# transform and map pokemon generations\n",
        "gen_le = LabelEncoder()\n",
        "gen_labels = gen_le.fit_transform(poke_df['Generation'])\n",
        "poke_df['Gen_Label'] = gen_labels"
      ],
      "execution_count": 14,
      "outputs": []
    },
    {
      "cell_type": "code",
      "metadata": {
        "id": "V7tiuF-Luo3E",
        "colab_type": "code",
        "colab": {
          "base_uri": "https://localhost:8080/",
          "height": 235
        },
        "outputId": "6288e54b-4ac4-445a-c193-6b75f73830f5"
      },
      "source": [
        "# transform and map pokemon legendary status\n",
        "leg_le = LabelEncoder()\n",
        "leg_labels = leg_le.fit_transform(poke_df['Legendary'])\n",
        "poke_df['Lgnd_Label'] = leg_labels\n",
        "poke_df_sub = poke_df[['Name', 'Generation', 'Gen_Label',  \n",
        "                       'Legendary', 'Lgnd_Label']]\n",
        "poke_df_sub.iloc[4:10]"
      ],
      "execution_count": 15,
      "outputs": [
        {
          "output_type": "execute_result",
          "data": {
            "text/html": [
              "<div>\n",
              "<style scoped>\n",
              "    .dataframe tbody tr th:only-of-type {\n",
              "        vertical-align: middle;\n",
              "    }\n",
              "\n",
              "    .dataframe tbody tr th {\n",
              "        vertical-align: top;\n",
              "    }\n",
              "\n",
              "    .dataframe thead th {\n",
              "        text-align: right;\n",
              "    }\n",
              "</style>\n",
              "<table border=\"1\" class=\"dataframe\">\n",
              "  <thead>\n",
              "    <tr style=\"text-align: right;\">\n",
              "      <th></th>\n",
              "      <th>Name</th>\n",
              "      <th>Generation</th>\n",
              "      <th>Gen_Label</th>\n",
              "      <th>Legendary</th>\n",
              "      <th>Lgnd_Label</th>\n",
              "    </tr>\n",
              "  </thead>\n",
              "  <tbody>\n",
              "    <tr>\n",
              "      <th>4</th>\n",
              "      <td>Octillery</td>\n",
              "      <td>Gen 2</td>\n",
              "      <td>1</td>\n",
              "      <td>False</td>\n",
              "      <td>0</td>\n",
              "    </tr>\n",
              "    <tr>\n",
              "      <th>5</th>\n",
              "      <td>Helioptile</td>\n",
              "      <td>Gen 6</td>\n",
              "      <td>5</td>\n",
              "      <td>False</td>\n",
              "      <td>0</td>\n",
              "    </tr>\n",
              "    <tr>\n",
              "      <th>6</th>\n",
              "      <td>Dialga</td>\n",
              "      <td>Gen 4</td>\n",
              "      <td>3</td>\n",
              "      <td>True</td>\n",
              "      <td>1</td>\n",
              "    </tr>\n",
              "    <tr>\n",
              "      <th>7</th>\n",
              "      <td>DeoxysDefense Forme</td>\n",
              "      <td>Gen 3</td>\n",
              "      <td>2</td>\n",
              "      <td>True</td>\n",
              "      <td>1</td>\n",
              "    </tr>\n",
              "    <tr>\n",
              "      <th>8</th>\n",
              "      <td>Rapidash</td>\n",
              "      <td>Gen 1</td>\n",
              "      <td>0</td>\n",
              "      <td>False</td>\n",
              "      <td>0</td>\n",
              "    </tr>\n",
              "    <tr>\n",
              "      <th>9</th>\n",
              "      <td>Swanna</td>\n",
              "      <td>Gen 5</td>\n",
              "      <td>4</td>\n",
              "      <td>False</td>\n",
              "      <td>0</td>\n",
              "    </tr>\n",
              "  </tbody>\n",
              "</table>\n",
              "</div>"
            ],
            "text/plain": [
              "                  Name Generation  Gen_Label  Legendary  Lgnd_Label\n",
              "4            Octillery      Gen 2          1      False           0\n",
              "5           Helioptile      Gen 6          5      False           0\n",
              "6               Dialga      Gen 4          3       True           1\n",
              "7  DeoxysDefense Forme      Gen 3          2       True           1\n",
              "8             Rapidash      Gen 1          0      False           0\n",
              "9               Swanna      Gen 5          4      False           0"
            ]
          },
          "metadata": {
            "tags": []
          },
          "execution_count": 15
        }
      ]
    },
    {
      "cell_type": "code",
      "metadata": {
        "id": "jnNRsGWYu3zG",
        "colab_type": "code",
        "colab": {}
      },
      "source": [
        "# encode generation labels using one-hot encoding scheme\n",
        "gen_ohe = OneHotEncoder()\n",
        "gen_feature_arr = gen_ohe.fit_transform(\n",
        "                              poke_df[['Gen_Label']]).toarray()\n",
        "gen_feature_labels = list(gen_le.classes_)\n",
        "gen_features = pd.DataFrame(gen_feature_arr, \n",
        "                            columns=gen_feature_labels)\n",
        "# encode legendary status labels using one-hot encoding scheme\n",
        "leg_ohe = OneHotEncoder()\n",
        "leg_feature_arr = leg_ohe.fit_transform(\n",
        "                                poke_df[['Lgnd_Label']]).toarray()\n",
        "leg_feature_labels = ['Legendary_'+str(cls_label) \n",
        "                           for cls_label in leg_le.classes_]\n",
        "leg_features = pd.DataFrame(leg_feature_arr, \n",
        "                            columns=leg_feature_labels)"
      ],
      "execution_count": 16,
      "outputs": []
    },
    {
      "cell_type": "code",
      "metadata": {
        "id": "UPgmfBTrvAU_",
        "colab_type": "code",
        "colab": {
          "base_uri": "https://localhost:8080/",
          "height": 289
        },
        "outputId": "40628863-4b90-4458-92a1-b6d25a025c89"
      },
      "source": [
        "poke_df_ohe = pd.concat([poke_df_sub, gen_features, leg_features], axis=1)\n",
        "columns = sum([['Name', 'Generation', 'Gen_Label'],   \n",
        "               gen_feature_labels, ['Legendary', 'Lgnd_Label'], \n",
        "               leg_feature_labels], [])\n",
        "poke_df_ohe[columns].iloc[4:10]"
      ],
      "execution_count": 17,
      "outputs": [
        {
          "output_type": "execute_result",
          "data": {
            "text/html": [
              "<div>\n",
              "<style scoped>\n",
              "    .dataframe tbody tr th:only-of-type {\n",
              "        vertical-align: middle;\n",
              "    }\n",
              "\n",
              "    .dataframe tbody tr th {\n",
              "        vertical-align: top;\n",
              "    }\n",
              "\n",
              "    .dataframe thead th {\n",
              "        text-align: right;\n",
              "    }\n",
              "</style>\n",
              "<table border=\"1\" class=\"dataframe\">\n",
              "  <thead>\n",
              "    <tr style=\"text-align: right;\">\n",
              "      <th></th>\n",
              "      <th>Name</th>\n",
              "      <th>Generation</th>\n",
              "      <th>Gen_Label</th>\n",
              "      <th>Gen 1</th>\n",
              "      <th>Gen 2</th>\n",
              "      <th>Gen 3</th>\n",
              "      <th>Gen 4</th>\n",
              "      <th>Gen 5</th>\n",
              "      <th>Gen 6</th>\n",
              "      <th>Legendary</th>\n",
              "      <th>Lgnd_Label</th>\n",
              "      <th>Legendary_False</th>\n",
              "      <th>Legendary_True</th>\n",
              "    </tr>\n",
              "  </thead>\n",
              "  <tbody>\n",
              "    <tr>\n",
              "      <th>4</th>\n",
              "      <td>Octillery</td>\n",
              "      <td>Gen 2</td>\n",
              "      <td>1</td>\n",
              "      <td>0.0</td>\n",
              "      <td>1.0</td>\n",
              "      <td>0.0</td>\n",
              "      <td>0.0</td>\n",
              "      <td>0.0</td>\n",
              "      <td>0.0</td>\n",
              "      <td>False</td>\n",
              "      <td>0</td>\n",
              "      <td>1.0</td>\n",
              "      <td>0.0</td>\n",
              "    </tr>\n",
              "    <tr>\n",
              "      <th>5</th>\n",
              "      <td>Helioptile</td>\n",
              "      <td>Gen 6</td>\n",
              "      <td>5</td>\n",
              "      <td>0.0</td>\n",
              "      <td>0.0</td>\n",
              "      <td>0.0</td>\n",
              "      <td>0.0</td>\n",
              "      <td>0.0</td>\n",
              "      <td>1.0</td>\n",
              "      <td>False</td>\n",
              "      <td>0</td>\n",
              "      <td>1.0</td>\n",
              "      <td>0.0</td>\n",
              "    </tr>\n",
              "    <tr>\n",
              "      <th>6</th>\n",
              "      <td>Dialga</td>\n",
              "      <td>Gen 4</td>\n",
              "      <td>3</td>\n",
              "      <td>0.0</td>\n",
              "      <td>0.0</td>\n",
              "      <td>0.0</td>\n",
              "      <td>1.0</td>\n",
              "      <td>0.0</td>\n",
              "      <td>0.0</td>\n",
              "      <td>True</td>\n",
              "      <td>1</td>\n",
              "      <td>0.0</td>\n",
              "      <td>1.0</td>\n",
              "    </tr>\n",
              "    <tr>\n",
              "      <th>7</th>\n",
              "      <td>DeoxysDefense Forme</td>\n",
              "      <td>Gen 3</td>\n",
              "      <td>2</td>\n",
              "      <td>0.0</td>\n",
              "      <td>0.0</td>\n",
              "      <td>1.0</td>\n",
              "      <td>0.0</td>\n",
              "      <td>0.0</td>\n",
              "      <td>0.0</td>\n",
              "      <td>True</td>\n",
              "      <td>1</td>\n",
              "      <td>0.0</td>\n",
              "      <td>1.0</td>\n",
              "    </tr>\n",
              "    <tr>\n",
              "      <th>8</th>\n",
              "      <td>Rapidash</td>\n",
              "      <td>Gen 1</td>\n",
              "      <td>0</td>\n",
              "      <td>1.0</td>\n",
              "      <td>0.0</td>\n",
              "      <td>0.0</td>\n",
              "      <td>0.0</td>\n",
              "      <td>0.0</td>\n",
              "      <td>0.0</td>\n",
              "      <td>False</td>\n",
              "      <td>0</td>\n",
              "      <td>1.0</td>\n",
              "      <td>0.0</td>\n",
              "    </tr>\n",
              "    <tr>\n",
              "      <th>9</th>\n",
              "      <td>Swanna</td>\n",
              "      <td>Gen 5</td>\n",
              "      <td>4</td>\n",
              "      <td>0.0</td>\n",
              "      <td>0.0</td>\n",
              "      <td>0.0</td>\n",
              "      <td>0.0</td>\n",
              "      <td>1.0</td>\n",
              "      <td>0.0</td>\n",
              "      <td>False</td>\n",
              "      <td>0</td>\n",
              "      <td>1.0</td>\n",
              "      <td>0.0</td>\n",
              "    </tr>\n",
              "  </tbody>\n",
              "</table>\n",
              "</div>"
            ],
            "text/plain": [
              "                  Name Generation  ...  Legendary_False  Legendary_True\n",
              "4            Octillery      Gen 2  ...              1.0             0.0\n",
              "5           Helioptile      Gen 6  ...              1.0             0.0\n",
              "6               Dialga      Gen 4  ...              0.0             1.0\n",
              "7  DeoxysDefense Forme      Gen 3  ...              0.0             1.0\n",
              "8             Rapidash      Gen 1  ...              1.0             0.0\n",
              "9               Swanna      Gen 5  ...              1.0             0.0\n",
              "\n",
              "[6 rows x 13 columns]"
            ]
          },
          "metadata": {
            "tags": []
          },
          "execution_count": 17
        }
      ]
    },
    {
      "cell_type": "code",
      "metadata": {
        "id": "WjR_3gQQvDPX",
        "colab_type": "code",
        "colab": {
          "base_uri": "https://localhost:8080/",
          "height": 111
        },
        "outputId": "3035d65b-8311-49a7-9ced-5a0671f05e08"
      },
      "source": [
        "new_poke_df = pd.DataFrame([['PikaZoom', 'Gen 3', True], \n",
        "                           ['CharMyToast', 'Gen 4', False]],\n",
        "                       columns=['Name', 'Generation', 'Legendary'])\n",
        "new_poke_df"
      ],
      "execution_count": 18,
      "outputs": [
        {
          "output_type": "execute_result",
          "data": {
            "text/html": [
              "<div>\n",
              "<style scoped>\n",
              "    .dataframe tbody tr th:only-of-type {\n",
              "        vertical-align: middle;\n",
              "    }\n",
              "\n",
              "    .dataframe tbody tr th {\n",
              "        vertical-align: top;\n",
              "    }\n",
              "\n",
              "    .dataframe thead th {\n",
              "        text-align: right;\n",
              "    }\n",
              "</style>\n",
              "<table border=\"1\" class=\"dataframe\">\n",
              "  <thead>\n",
              "    <tr style=\"text-align: right;\">\n",
              "      <th></th>\n",
              "      <th>Name</th>\n",
              "      <th>Generation</th>\n",
              "      <th>Legendary</th>\n",
              "    </tr>\n",
              "  </thead>\n",
              "  <tbody>\n",
              "    <tr>\n",
              "      <th>0</th>\n",
              "      <td>PikaZoom</td>\n",
              "      <td>Gen 3</td>\n",
              "      <td>True</td>\n",
              "    </tr>\n",
              "    <tr>\n",
              "      <th>1</th>\n",
              "      <td>CharMyToast</td>\n",
              "      <td>Gen 4</td>\n",
              "      <td>False</td>\n",
              "    </tr>\n",
              "  </tbody>\n",
              "</table>\n",
              "</div>"
            ],
            "text/plain": [
              "          Name Generation  Legendary\n",
              "0     PikaZoom      Gen 3       True\n",
              "1  CharMyToast      Gen 4      False"
            ]
          },
          "metadata": {
            "tags": []
          },
          "execution_count": 18
        }
      ]
    },
    {
      "cell_type": "code",
      "metadata": {
        "id": "e0vp21hkvJZo",
        "colab_type": "code",
        "colab": {
          "base_uri": "https://localhost:8080/",
          "height": 111
        },
        "outputId": "5f9de2cd-d733-40f2-cbf7-d2e793a211a3"
      },
      "source": [
        "new_gen_labels = gen_le.transform(new_poke_df['Generation'])\n",
        "new_poke_df['Gen_Label'] = new_gen_labels\n",
        "new_leg_labels = leg_le.transform(new_poke_df['Legendary'])\n",
        "new_poke_df['Lgnd_Label'] = new_leg_labels\n",
        "new_poke_df[['Name', 'Generation', 'Gen_Label', 'Legendary', \n",
        "             'Lgnd_Label']]"
      ],
      "execution_count": 19,
      "outputs": [
        {
          "output_type": "execute_result",
          "data": {
            "text/html": [
              "<div>\n",
              "<style scoped>\n",
              "    .dataframe tbody tr th:only-of-type {\n",
              "        vertical-align: middle;\n",
              "    }\n",
              "\n",
              "    .dataframe tbody tr th {\n",
              "        vertical-align: top;\n",
              "    }\n",
              "\n",
              "    .dataframe thead th {\n",
              "        text-align: right;\n",
              "    }\n",
              "</style>\n",
              "<table border=\"1\" class=\"dataframe\">\n",
              "  <thead>\n",
              "    <tr style=\"text-align: right;\">\n",
              "      <th></th>\n",
              "      <th>Name</th>\n",
              "      <th>Generation</th>\n",
              "      <th>Gen_Label</th>\n",
              "      <th>Legendary</th>\n",
              "      <th>Lgnd_Label</th>\n",
              "    </tr>\n",
              "  </thead>\n",
              "  <tbody>\n",
              "    <tr>\n",
              "      <th>0</th>\n",
              "      <td>PikaZoom</td>\n",
              "      <td>Gen 3</td>\n",
              "      <td>2</td>\n",
              "      <td>True</td>\n",
              "      <td>1</td>\n",
              "    </tr>\n",
              "    <tr>\n",
              "      <th>1</th>\n",
              "      <td>CharMyToast</td>\n",
              "      <td>Gen 4</td>\n",
              "      <td>3</td>\n",
              "      <td>False</td>\n",
              "      <td>0</td>\n",
              "    </tr>\n",
              "  </tbody>\n",
              "</table>\n",
              "</div>"
            ],
            "text/plain": [
              "          Name Generation  Gen_Label  Legendary  Lgnd_Label\n",
              "0     PikaZoom      Gen 3          2       True           1\n",
              "1  CharMyToast      Gen 4          3      False           0"
            ]
          },
          "metadata": {
            "tags": []
          },
          "execution_count": 19
        }
      ]
    },
    {
      "cell_type": "code",
      "metadata": {
        "id": "wpzmQkf4vLjI",
        "colab_type": "code",
        "colab": {
          "base_uri": "https://localhost:8080/",
          "height": 148
        },
        "outputId": "be7dd20e-754e-4d40-ced6-5090a8953847"
      },
      "source": [
        "new_gen_feature_arr = gen_ohe.transform(new_poke_df[['Gen_Label']]).toarray()\n",
        "new_gen_features = pd.DataFrame(new_gen_feature_arr, \n",
        "                                columns=gen_feature_labels)\n",
        "new_leg_feature_arr = leg_ohe.transform(new_poke_df[['Lgnd_Label']]).toarray()\n",
        "new_leg_features = pd.DataFrame(new_leg_feature_arr, \n",
        "                                columns=leg_feature_labels)\n",
        "new_poke_ohe = pd.concat([new_poke_df, new_gen_features, new_leg_features], axis=1)\n",
        "columns = sum([['Name', 'Generation', 'Gen_Label'], \n",
        "               gen_feature_labels,\n",
        "               ['Legendary', 'Lgnd_Label'], leg_feature_labels], [])\n",
        "new_poke_ohe[columns]"
      ],
      "execution_count": 20,
      "outputs": [
        {
          "output_type": "execute_result",
          "data": {
            "text/html": [
              "<div>\n",
              "<style scoped>\n",
              "    .dataframe tbody tr th:only-of-type {\n",
              "        vertical-align: middle;\n",
              "    }\n",
              "\n",
              "    .dataframe tbody tr th {\n",
              "        vertical-align: top;\n",
              "    }\n",
              "\n",
              "    .dataframe thead th {\n",
              "        text-align: right;\n",
              "    }\n",
              "</style>\n",
              "<table border=\"1\" class=\"dataframe\">\n",
              "  <thead>\n",
              "    <tr style=\"text-align: right;\">\n",
              "      <th></th>\n",
              "      <th>Name</th>\n",
              "      <th>Generation</th>\n",
              "      <th>Gen_Label</th>\n",
              "      <th>Gen 1</th>\n",
              "      <th>Gen 2</th>\n",
              "      <th>Gen 3</th>\n",
              "      <th>Gen 4</th>\n",
              "      <th>Gen 5</th>\n",
              "      <th>Gen 6</th>\n",
              "      <th>Legendary</th>\n",
              "      <th>Lgnd_Label</th>\n",
              "      <th>Legendary_False</th>\n",
              "      <th>Legendary_True</th>\n",
              "    </tr>\n",
              "  </thead>\n",
              "  <tbody>\n",
              "    <tr>\n",
              "      <th>0</th>\n",
              "      <td>PikaZoom</td>\n",
              "      <td>Gen 3</td>\n",
              "      <td>2</td>\n",
              "      <td>0.0</td>\n",
              "      <td>0.0</td>\n",
              "      <td>1.0</td>\n",
              "      <td>0.0</td>\n",
              "      <td>0.0</td>\n",
              "      <td>0.0</td>\n",
              "      <td>True</td>\n",
              "      <td>1</td>\n",
              "      <td>0.0</td>\n",
              "      <td>1.0</td>\n",
              "    </tr>\n",
              "    <tr>\n",
              "      <th>1</th>\n",
              "      <td>CharMyToast</td>\n",
              "      <td>Gen 4</td>\n",
              "      <td>3</td>\n",
              "      <td>0.0</td>\n",
              "      <td>0.0</td>\n",
              "      <td>0.0</td>\n",
              "      <td>1.0</td>\n",
              "      <td>0.0</td>\n",
              "      <td>0.0</td>\n",
              "      <td>False</td>\n",
              "      <td>0</td>\n",
              "      <td>1.0</td>\n",
              "      <td>0.0</td>\n",
              "    </tr>\n",
              "  </tbody>\n",
              "</table>\n",
              "</div>"
            ],
            "text/plain": [
              "          Name Generation  ...  Legendary_False  Legendary_True\n",
              "0     PikaZoom      Gen 3  ...              0.0             1.0\n",
              "1  CharMyToast      Gen 4  ...              1.0             0.0\n",
              "\n",
              "[2 rows x 13 columns]"
            ]
          },
          "metadata": {
            "tags": []
          },
          "execution_count": 20
        }
      ]
    },
    {
      "cell_type": "code",
      "metadata": {
        "id": "fFLhseAtvSKi",
        "colab_type": "code",
        "colab": {
          "base_uri": "https://localhost:8080/",
          "height": 235
        },
        "outputId": "4e526d7a-1892-441d-d7b0-5b01508fee18"
      },
      "source": [
        "gen_onehot_features = pd.get_dummies(poke_df['Generation'])\n",
        "pd.concat([poke_df[['Name', 'Generation']], gen_onehot_features], \n",
        "           axis=1).iloc[4:10]"
      ],
      "execution_count": 21,
      "outputs": [
        {
          "output_type": "execute_result",
          "data": {
            "text/html": [
              "<div>\n",
              "<style scoped>\n",
              "    .dataframe tbody tr th:only-of-type {\n",
              "        vertical-align: middle;\n",
              "    }\n",
              "\n",
              "    .dataframe tbody tr th {\n",
              "        vertical-align: top;\n",
              "    }\n",
              "\n",
              "    .dataframe thead th {\n",
              "        text-align: right;\n",
              "    }\n",
              "</style>\n",
              "<table border=\"1\" class=\"dataframe\">\n",
              "  <thead>\n",
              "    <tr style=\"text-align: right;\">\n",
              "      <th></th>\n",
              "      <th>Name</th>\n",
              "      <th>Generation</th>\n",
              "      <th>Gen 1</th>\n",
              "      <th>Gen 2</th>\n",
              "      <th>Gen 3</th>\n",
              "      <th>Gen 4</th>\n",
              "      <th>Gen 5</th>\n",
              "      <th>Gen 6</th>\n",
              "    </tr>\n",
              "  </thead>\n",
              "  <tbody>\n",
              "    <tr>\n",
              "      <th>4</th>\n",
              "      <td>Octillery</td>\n",
              "      <td>Gen 2</td>\n",
              "      <td>0</td>\n",
              "      <td>1</td>\n",
              "      <td>0</td>\n",
              "      <td>0</td>\n",
              "      <td>0</td>\n",
              "      <td>0</td>\n",
              "    </tr>\n",
              "    <tr>\n",
              "      <th>5</th>\n",
              "      <td>Helioptile</td>\n",
              "      <td>Gen 6</td>\n",
              "      <td>0</td>\n",
              "      <td>0</td>\n",
              "      <td>0</td>\n",
              "      <td>0</td>\n",
              "      <td>0</td>\n",
              "      <td>1</td>\n",
              "    </tr>\n",
              "    <tr>\n",
              "      <th>6</th>\n",
              "      <td>Dialga</td>\n",
              "      <td>Gen 4</td>\n",
              "      <td>0</td>\n",
              "      <td>0</td>\n",
              "      <td>0</td>\n",
              "      <td>1</td>\n",
              "      <td>0</td>\n",
              "      <td>0</td>\n",
              "    </tr>\n",
              "    <tr>\n",
              "      <th>7</th>\n",
              "      <td>DeoxysDefense Forme</td>\n",
              "      <td>Gen 3</td>\n",
              "      <td>0</td>\n",
              "      <td>0</td>\n",
              "      <td>1</td>\n",
              "      <td>0</td>\n",
              "      <td>0</td>\n",
              "      <td>0</td>\n",
              "    </tr>\n",
              "    <tr>\n",
              "      <th>8</th>\n",
              "      <td>Rapidash</td>\n",
              "      <td>Gen 1</td>\n",
              "      <td>1</td>\n",
              "      <td>0</td>\n",
              "      <td>0</td>\n",
              "      <td>0</td>\n",
              "      <td>0</td>\n",
              "      <td>0</td>\n",
              "    </tr>\n",
              "    <tr>\n",
              "      <th>9</th>\n",
              "      <td>Swanna</td>\n",
              "      <td>Gen 5</td>\n",
              "      <td>0</td>\n",
              "      <td>0</td>\n",
              "      <td>0</td>\n",
              "      <td>0</td>\n",
              "      <td>1</td>\n",
              "      <td>0</td>\n",
              "    </tr>\n",
              "  </tbody>\n",
              "</table>\n",
              "</div>"
            ],
            "text/plain": [
              "                  Name Generation  Gen 1  Gen 2  Gen 3  Gen 4  Gen 5  Gen 6\n",
              "4            Octillery      Gen 2      0      1      0      0      0      0\n",
              "5           Helioptile      Gen 6      0      0      0      0      0      1\n",
              "6               Dialga      Gen 4      0      0      0      1      0      0\n",
              "7  DeoxysDefense Forme      Gen 3      0      0      1      0      0      0\n",
              "8             Rapidash      Gen 1      1      0      0      0      0      0\n",
              "9               Swanna      Gen 5      0      0      0      0      1      0"
            ]
          },
          "metadata": {
            "tags": []
          },
          "execution_count": 21
        }
      ]
    },
    {
      "cell_type": "markdown",
      "metadata": {
        "id": "kYxPMxhSvXMb",
        "colab_type": "text"
      },
      "source": [
        "## Dummy Coding Scheme"
      ]
    },
    {
      "cell_type": "code",
      "metadata": {
        "id": "mLxENRBMvVJ-",
        "colab_type": "code",
        "colab": {
          "base_uri": "https://localhost:8080/",
          "height": 235
        },
        "outputId": "d4827e52-f48e-409c-f63d-662116d240c3"
      },
      "source": [
        "gen_dummy_features = pd.get_dummies(poke_df['Generation'], \n",
        "                                    drop_first=True)\n",
        "pd.concat([poke_df[['Name', 'Generation']], gen_dummy_features], \n",
        "          axis=1).iloc[4:10]"
      ],
      "execution_count": 22,
      "outputs": [
        {
          "output_type": "execute_result",
          "data": {
            "text/html": [
              "<div>\n",
              "<style scoped>\n",
              "    .dataframe tbody tr th:only-of-type {\n",
              "        vertical-align: middle;\n",
              "    }\n",
              "\n",
              "    .dataframe tbody tr th {\n",
              "        vertical-align: top;\n",
              "    }\n",
              "\n",
              "    .dataframe thead th {\n",
              "        text-align: right;\n",
              "    }\n",
              "</style>\n",
              "<table border=\"1\" class=\"dataframe\">\n",
              "  <thead>\n",
              "    <tr style=\"text-align: right;\">\n",
              "      <th></th>\n",
              "      <th>Name</th>\n",
              "      <th>Generation</th>\n",
              "      <th>Gen 2</th>\n",
              "      <th>Gen 3</th>\n",
              "      <th>Gen 4</th>\n",
              "      <th>Gen 5</th>\n",
              "      <th>Gen 6</th>\n",
              "    </tr>\n",
              "  </thead>\n",
              "  <tbody>\n",
              "    <tr>\n",
              "      <th>4</th>\n",
              "      <td>Octillery</td>\n",
              "      <td>Gen 2</td>\n",
              "      <td>1</td>\n",
              "      <td>0</td>\n",
              "      <td>0</td>\n",
              "      <td>0</td>\n",
              "      <td>0</td>\n",
              "    </tr>\n",
              "    <tr>\n",
              "      <th>5</th>\n",
              "      <td>Helioptile</td>\n",
              "      <td>Gen 6</td>\n",
              "      <td>0</td>\n",
              "      <td>0</td>\n",
              "      <td>0</td>\n",
              "      <td>0</td>\n",
              "      <td>1</td>\n",
              "    </tr>\n",
              "    <tr>\n",
              "      <th>6</th>\n",
              "      <td>Dialga</td>\n",
              "      <td>Gen 4</td>\n",
              "      <td>0</td>\n",
              "      <td>0</td>\n",
              "      <td>1</td>\n",
              "      <td>0</td>\n",
              "      <td>0</td>\n",
              "    </tr>\n",
              "    <tr>\n",
              "      <th>7</th>\n",
              "      <td>DeoxysDefense Forme</td>\n",
              "      <td>Gen 3</td>\n",
              "      <td>0</td>\n",
              "      <td>1</td>\n",
              "      <td>0</td>\n",
              "      <td>0</td>\n",
              "      <td>0</td>\n",
              "    </tr>\n",
              "    <tr>\n",
              "      <th>8</th>\n",
              "      <td>Rapidash</td>\n",
              "      <td>Gen 1</td>\n",
              "      <td>0</td>\n",
              "      <td>0</td>\n",
              "      <td>0</td>\n",
              "      <td>0</td>\n",
              "      <td>0</td>\n",
              "    </tr>\n",
              "    <tr>\n",
              "      <th>9</th>\n",
              "      <td>Swanna</td>\n",
              "      <td>Gen 5</td>\n",
              "      <td>0</td>\n",
              "      <td>0</td>\n",
              "      <td>0</td>\n",
              "      <td>1</td>\n",
              "      <td>0</td>\n",
              "    </tr>\n",
              "  </tbody>\n",
              "</table>\n",
              "</div>"
            ],
            "text/plain": [
              "                  Name Generation  Gen 2  Gen 3  Gen 4  Gen 5  Gen 6\n",
              "4            Octillery      Gen 2      1      0      0      0      0\n",
              "5           Helioptile      Gen 6      0      0      0      0      1\n",
              "6               Dialga      Gen 4      0      0      1      0      0\n",
              "7  DeoxysDefense Forme      Gen 3      0      1      0      0      0\n",
              "8             Rapidash      Gen 1      0      0      0      0      0\n",
              "9               Swanna      Gen 5      0      0      0      1      0"
            ]
          },
          "metadata": {
            "tags": []
          },
          "execution_count": 22
        }
      ]
    },
    {
      "cell_type": "code",
      "metadata": {
        "id": "PO1NLQBIvcIR",
        "colab_type": "code",
        "colab": {
          "base_uri": "https://localhost:8080/",
          "height": 235
        },
        "outputId": "56ac2e50-656b-4be4-9b45-356901e2da02"
      },
      "source": [
        "gen_onehot_features = pd.get_dummies(poke_df['Generation'])\n",
        "gen_dummy_features = gen_onehot_features.iloc[:,:-1]\n",
        "pd.concat([poke_df[['Name', 'Generation']], gen_dummy_features],  \n",
        "          axis=1).iloc[4:10]"
      ],
      "execution_count": 23,
      "outputs": [
        {
          "output_type": "execute_result",
          "data": {
            "text/html": [
              "<div>\n",
              "<style scoped>\n",
              "    .dataframe tbody tr th:only-of-type {\n",
              "        vertical-align: middle;\n",
              "    }\n",
              "\n",
              "    .dataframe tbody tr th {\n",
              "        vertical-align: top;\n",
              "    }\n",
              "\n",
              "    .dataframe thead th {\n",
              "        text-align: right;\n",
              "    }\n",
              "</style>\n",
              "<table border=\"1\" class=\"dataframe\">\n",
              "  <thead>\n",
              "    <tr style=\"text-align: right;\">\n",
              "      <th></th>\n",
              "      <th>Name</th>\n",
              "      <th>Generation</th>\n",
              "      <th>Gen 1</th>\n",
              "      <th>Gen 2</th>\n",
              "      <th>Gen 3</th>\n",
              "      <th>Gen 4</th>\n",
              "      <th>Gen 5</th>\n",
              "    </tr>\n",
              "  </thead>\n",
              "  <tbody>\n",
              "    <tr>\n",
              "      <th>4</th>\n",
              "      <td>Octillery</td>\n",
              "      <td>Gen 2</td>\n",
              "      <td>0</td>\n",
              "      <td>1</td>\n",
              "      <td>0</td>\n",
              "      <td>0</td>\n",
              "      <td>0</td>\n",
              "    </tr>\n",
              "    <tr>\n",
              "      <th>5</th>\n",
              "      <td>Helioptile</td>\n",
              "      <td>Gen 6</td>\n",
              "      <td>0</td>\n",
              "      <td>0</td>\n",
              "      <td>0</td>\n",
              "      <td>0</td>\n",
              "      <td>0</td>\n",
              "    </tr>\n",
              "    <tr>\n",
              "      <th>6</th>\n",
              "      <td>Dialga</td>\n",
              "      <td>Gen 4</td>\n",
              "      <td>0</td>\n",
              "      <td>0</td>\n",
              "      <td>0</td>\n",
              "      <td>1</td>\n",
              "      <td>0</td>\n",
              "    </tr>\n",
              "    <tr>\n",
              "      <th>7</th>\n",
              "      <td>DeoxysDefense Forme</td>\n",
              "      <td>Gen 3</td>\n",
              "      <td>0</td>\n",
              "      <td>0</td>\n",
              "      <td>1</td>\n",
              "      <td>0</td>\n",
              "      <td>0</td>\n",
              "    </tr>\n",
              "    <tr>\n",
              "      <th>8</th>\n",
              "      <td>Rapidash</td>\n",
              "      <td>Gen 1</td>\n",
              "      <td>1</td>\n",
              "      <td>0</td>\n",
              "      <td>0</td>\n",
              "      <td>0</td>\n",
              "      <td>0</td>\n",
              "    </tr>\n",
              "    <tr>\n",
              "      <th>9</th>\n",
              "      <td>Swanna</td>\n",
              "      <td>Gen 5</td>\n",
              "      <td>0</td>\n",
              "      <td>0</td>\n",
              "      <td>0</td>\n",
              "      <td>0</td>\n",
              "      <td>1</td>\n",
              "    </tr>\n",
              "  </tbody>\n",
              "</table>\n",
              "</div>"
            ],
            "text/plain": [
              "                  Name Generation  Gen 1  Gen 2  Gen 3  Gen 4  Gen 5\n",
              "4            Octillery      Gen 2      0      1      0      0      0\n",
              "5           Helioptile      Gen 6      0      0      0      0      0\n",
              "6               Dialga      Gen 4      0      0      0      1      0\n",
              "7  DeoxysDefense Forme      Gen 3      0      0      1      0      0\n",
              "8             Rapidash      Gen 1      1      0      0      0      0\n",
              "9               Swanna      Gen 5      0      0      0      0      1"
            ]
          },
          "metadata": {
            "tags": []
          },
          "execution_count": 23
        }
      ]
    },
    {
      "cell_type": "markdown",
      "metadata": {
        "id": "RkQiSxLLvh4B",
        "colab_type": "text"
      },
      "source": [
        "# Effect Coding Scheme"
      ]
    },
    {
      "cell_type": "code",
      "metadata": {
        "id": "taKd4Vn2vgcn",
        "colab_type": "code",
        "colab": {
          "base_uri": "https://localhost:8080/",
          "height": 357
        },
        "outputId": "4505c75f-3131-4120-e867-a2f6356f90d9"
      },
      "source": [
        "gen_onehot_features = pd.get_dummies(poke_df['Generation'])\n",
        "gen_effect_features = gen_onehot_features.iloc[:,:-1]\n",
        "gen_effect_features.loc[np.all(gen_effect_features == 0, \n",
        "                               axis=1)] = -1.\n",
        "pd.concat([poke_df[['Name', 'Generation']], gen_effect_features], \n",
        "          axis=1).iloc[4:10]"
      ],
      "execution_count": 24,
      "outputs": [
        {
          "output_type": "stream",
          "text": [
            "/usr/local/lib/python3.6/dist-packages/pandas/core/indexing.py:966: SettingWithCopyWarning: \n",
            "A value is trying to be set on a copy of a slice from a DataFrame.\n",
            "Try using .loc[row_indexer,col_indexer] = value instead\n",
            "\n",
            "See the caveats in the documentation: https://pandas.pydata.org/pandas-docs/stable/user_guide/indexing.html#returning-a-view-versus-a-copy\n",
            "  self.obj[item] = s\n"
          ],
          "name": "stderr"
        },
        {
          "output_type": "execute_result",
          "data": {
            "text/html": [
              "<div>\n",
              "<style scoped>\n",
              "    .dataframe tbody tr th:only-of-type {\n",
              "        vertical-align: middle;\n",
              "    }\n",
              "\n",
              "    .dataframe tbody tr th {\n",
              "        vertical-align: top;\n",
              "    }\n",
              "\n",
              "    .dataframe thead th {\n",
              "        text-align: right;\n",
              "    }\n",
              "</style>\n",
              "<table border=\"1\" class=\"dataframe\">\n",
              "  <thead>\n",
              "    <tr style=\"text-align: right;\">\n",
              "      <th></th>\n",
              "      <th>Name</th>\n",
              "      <th>Generation</th>\n",
              "      <th>Gen 1</th>\n",
              "      <th>Gen 2</th>\n",
              "      <th>Gen 3</th>\n",
              "      <th>Gen 4</th>\n",
              "      <th>Gen 5</th>\n",
              "    </tr>\n",
              "  </thead>\n",
              "  <tbody>\n",
              "    <tr>\n",
              "      <th>4</th>\n",
              "      <td>Octillery</td>\n",
              "      <td>Gen 2</td>\n",
              "      <td>0.0</td>\n",
              "      <td>1.0</td>\n",
              "      <td>0.0</td>\n",
              "      <td>0.0</td>\n",
              "      <td>0.0</td>\n",
              "    </tr>\n",
              "    <tr>\n",
              "      <th>5</th>\n",
              "      <td>Helioptile</td>\n",
              "      <td>Gen 6</td>\n",
              "      <td>-1.0</td>\n",
              "      <td>-1.0</td>\n",
              "      <td>-1.0</td>\n",
              "      <td>-1.0</td>\n",
              "      <td>-1.0</td>\n",
              "    </tr>\n",
              "    <tr>\n",
              "      <th>6</th>\n",
              "      <td>Dialga</td>\n",
              "      <td>Gen 4</td>\n",
              "      <td>0.0</td>\n",
              "      <td>0.0</td>\n",
              "      <td>0.0</td>\n",
              "      <td>1.0</td>\n",
              "      <td>0.0</td>\n",
              "    </tr>\n",
              "    <tr>\n",
              "      <th>7</th>\n",
              "      <td>DeoxysDefense Forme</td>\n",
              "      <td>Gen 3</td>\n",
              "      <td>0.0</td>\n",
              "      <td>0.0</td>\n",
              "      <td>1.0</td>\n",
              "      <td>0.0</td>\n",
              "      <td>0.0</td>\n",
              "    </tr>\n",
              "    <tr>\n",
              "      <th>8</th>\n",
              "      <td>Rapidash</td>\n",
              "      <td>Gen 1</td>\n",
              "      <td>1.0</td>\n",
              "      <td>0.0</td>\n",
              "      <td>0.0</td>\n",
              "      <td>0.0</td>\n",
              "      <td>0.0</td>\n",
              "    </tr>\n",
              "    <tr>\n",
              "      <th>9</th>\n",
              "      <td>Swanna</td>\n",
              "      <td>Gen 5</td>\n",
              "      <td>0.0</td>\n",
              "      <td>0.0</td>\n",
              "      <td>0.0</td>\n",
              "      <td>0.0</td>\n",
              "      <td>1.0</td>\n",
              "    </tr>\n",
              "  </tbody>\n",
              "</table>\n",
              "</div>"
            ],
            "text/plain": [
              "                  Name Generation  Gen 1  Gen 2  Gen 3  Gen 4  Gen 5\n",
              "4            Octillery      Gen 2    0.0    1.0    0.0    0.0    0.0\n",
              "5           Helioptile      Gen 6   -1.0   -1.0   -1.0   -1.0   -1.0\n",
              "6               Dialga      Gen 4    0.0    0.0    0.0    1.0    0.0\n",
              "7  DeoxysDefense Forme      Gen 3    0.0    0.0    1.0    0.0    0.0\n",
              "8             Rapidash      Gen 1    1.0    0.0    0.0    0.0    0.0\n",
              "9               Swanna      Gen 5    0.0    0.0    0.0    0.0    1.0"
            ]
          },
          "metadata": {
            "tags": []
          },
          "execution_count": 24
        }
      ]
    },
    {
      "cell_type": "markdown",
      "metadata": {
        "id": "iyPbtAJhv3UM",
        "colab_type": "text"
      },
      "source": [
        "## Feature Hashing Scheme"
      ]
    },
    {
      "cell_type": "code",
      "metadata": {
        "id": "US5Gmb0-vjyv",
        "colab_type": "code",
        "colab": {
          "base_uri": "https://localhost:8080/",
          "height": 68
        },
        "outputId": "76fe2c7e-fe49-4429-eebe-3df791e7f713"
      },
      "source": [
        "unique_genres = np.unique(vg_df[['Genre']])\n",
        "print(\"Total game genres:\", len(unique_genres))\n",
        "print(unique_genres)"
      ],
      "execution_count": 27,
      "outputs": [
        {
          "output_type": "stream",
          "text": [
            "Total game genres: 12\n",
            "['Action' 'Adventure' 'Fighting' 'Misc' 'Platform' 'Puzzle' 'Racing'\n",
            " 'Role-Playing' 'Shooter' 'Simulation' 'Sports' 'Strategy']\n"
          ],
          "name": "stdout"
        }
      ]
    },
    {
      "cell_type": "code",
      "metadata": {
        "id": "X5HgBHCfwFdi",
        "colab_type": "code",
        "colab": {
          "base_uri": "https://localhost:8080/",
          "height": 235
        },
        "outputId": "7a8b7422-90b6-4bd2-9ee9-3b8de0853955"
      },
      "source": [
        "from sklearn.feature_extraction import FeatureHasher\n",
        "fh = FeatureHasher(n_features=6, input_type='string')\n",
        "hashed_features = fh.fit_transform(vg_df['Genre'])\n",
        "hashed_features = hashed_features.toarray()\n",
        "pd.concat([vg_df[['Name', 'Genre']], pd.DataFrame(hashed_features)], \n",
        "          axis=1).iloc[1:7]"
      ],
      "execution_count": 28,
      "outputs": [
        {
          "output_type": "execute_result",
          "data": {
            "text/html": [
              "<div>\n",
              "<style scoped>\n",
              "    .dataframe tbody tr th:only-of-type {\n",
              "        vertical-align: middle;\n",
              "    }\n",
              "\n",
              "    .dataframe tbody tr th {\n",
              "        vertical-align: top;\n",
              "    }\n",
              "\n",
              "    .dataframe thead th {\n",
              "        text-align: right;\n",
              "    }\n",
              "</style>\n",
              "<table border=\"1\" class=\"dataframe\">\n",
              "  <thead>\n",
              "    <tr style=\"text-align: right;\">\n",
              "      <th></th>\n",
              "      <th>Name</th>\n",
              "      <th>Genre</th>\n",
              "      <th>0</th>\n",
              "      <th>1</th>\n",
              "      <th>2</th>\n",
              "      <th>3</th>\n",
              "      <th>4</th>\n",
              "      <th>5</th>\n",
              "    </tr>\n",
              "  </thead>\n",
              "  <tbody>\n",
              "    <tr>\n",
              "      <th>1</th>\n",
              "      <td>Super Mario Bros.</td>\n",
              "      <td>Platform</td>\n",
              "      <td>0.0</td>\n",
              "      <td>2.0</td>\n",
              "      <td>2.0</td>\n",
              "      <td>-1.0</td>\n",
              "      <td>1.0</td>\n",
              "      <td>0.0</td>\n",
              "    </tr>\n",
              "    <tr>\n",
              "      <th>2</th>\n",
              "      <td>Mario Kart Wii</td>\n",
              "      <td>Racing</td>\n",
              "      <td>-1.0</td>\n",
              "      <td>0.0</td>\n",
              "      <td>0.0</td>\n",
              "      <td>0.0</td>\n",
              "      <td>0.0</td>\n",
              "      <td>-1.0</td>\n",
              "    </tr>\n",
              "    <tr>\n",
              "      <th>3</th>\n",
              "      <td>Wii Sports Resort</td>\n",
              "      <td>Sports</td>\n",
              "      <td>-2.0</td>\n",
              "      <td>2.0</td>\n",
              "      <td>0.0</td>\n",
              "      <td>-2.0</td>\n",
              "      <td>0.0</td>\n",
              "      <td>0.0</td>\n",
              "    </tr>\n",
              "    <tr>\n",
              "      <th>4</th>\n",
              "      <td>Pokemon Red/Pokemon Blue</td>\n",
              "      <td>Role-Playing</td>\n",
              "      <td>-1.0</td>\n",
              "      <td>1.0</td>\n",
              "      <td>2.0</td>\n",
              "      <td>0.0</td>\n",
              "      <td>1.0</td>\n",
              "      <td>-1.0</td>\n",
              "    </tr>\n",
              "    <tr>\n",
              "      <th>5</th>\n",
              "      <td>Tetris</td>\n",
              "      <td>Puzzle</td>\n",
              "      <td>0.0</td>\n",
              "      <td>1.0</td>\n",
              "      <td>1.0</td>\n",
              "      <td>-2.0</td>\n",
              "      <td>1.0</td>\n",
              "      <td>-1.0</td>\n",
              "    </tr>\n",
              "    <tr>\n",
              "      <th>6</th>\n",
              "      <td>New Super Mario Bros.</td>\n",
              "      <td>Platform</td>\n",
              "      <td>0.0</td>\n",
              "      <td>2.0</td>\n",
              "      <td>2.0</td>\n",
              "      <td>-1.0</td>\n",
              "      <td>1.0</td>\n",
              "      <td>0.0</td>\n",
              "    </tr>\n",
              "  </tbody>\n",
              "</table>\n",
              "</div>"
            ],
            "text/plain": [
              "                       Name         Genre    0    1    2    3    4    5\n",
              "1         Super Mario Bros.      Platform  0.0  2.0  2.0 -1.0  1.0  0.0\n",
              "2            Mario Kart Wii        Racing -1.0  0.0  0.0  0.0  0.0 -1.0\n",
              "3         Wii Sports Resort        Sports -2.0  2.0  0.0 -2.0  0.0  0.0\n",
              "4  Pokemon Red/Pokemon Blue  Role-Playing -1.0  1.0  2.0  0.0  1.0 -1.0\n",
              "5                    Tetris        Puzzle  0.0  1.0  1.0 -2.0  1.0 -1.0\n",
              "6     New Super Mario Bros.      Platform  0.0  2.0  2.0 -1.0  1.0  0.0"
            ]
          },
          "metadata": {
            "tags": []
          },
          "execution_count": 28
        }
      ]
    }
  ]
}