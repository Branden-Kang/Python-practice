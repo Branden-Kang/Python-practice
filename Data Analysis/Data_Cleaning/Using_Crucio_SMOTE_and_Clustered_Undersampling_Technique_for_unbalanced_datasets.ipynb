{
  "nbformat": 4,
  "nbformat_minor": 0,
  "metadata": {
    "colab": {
      "name": "Using Crucio SMOTE and Clustered Undersampling Technique for unbalanced datasets.ipynb",
      "provenance": [],
      "authorship_tag": "ABX9TyPDgZelMi2dL2xppoOp+CA/"
    },
    "kernelspec": {
      "name": "python3",
      "display_name": "Python 3"
    },
    "language_info": {
      "name": "python"
    }
  },
  "cells": [
    {
      "cell_type": "markdown",
      "source": [
        "[Reference](https://medium.com/softplus-publication/using-crucio-smote-and-clustered-undersampling-technique-for-unbalanced-datasets-ab2391077811)"
      ],
      "metadata": {
        "id": "XuXTgpwzehpB"
      }
    },
    {
      "cell_type": "code",
      "execution_count": 1,
      "metadata": {
        "colab": {
          "base_uri": "https://localhost:8080/"
        },
        "id": "9TQ_IbSreFnb",
        "outputId": "f5b7db9a-7857-4ff3-abae-2955cc61eb7d"
      },
      "outputs": [
        {
          "output_type": "stream",
          "name": "stdout",
          "text": [
            "Collecting crucio\n",
            "  Downloading crucio-0.1.4.tar.gz (13 kB)\n",
            "Requirement already satisfied: numpy in /usr/local/lib/python3.7/dist-packages (from crucio) (1.21.5)\n",
            "Requirement already satisfied: pandas in /usr/local/lib/python3.7/dist-packages (from crucio) (1.3.5)\n",
            "Requirement already satisfied: scikit-learn in /usr/local/lib/python3.7/dist-packages (from crucio) (1.0.2)\n",
            "Collecting statistics\n",
            "  Downloading statistics-1.0.3.5.tar.gz (8.3 kB)\n",
            "Requirement already satisfied: python-dateutil>=2.7.3 in /usr/local/lib/python3.7/dist-packages (from pandas->crucio) (2.8.2)\n",
            "Requirement already satisfied: pytz>=2017.3 in /usr/local/lib/python3.7/dist-packages (from pandas->crucio) (2018.9)\n",
            "Requirement already satisfied: six>=1.5 in /usr/local/lib/python3.7/dist-packages (from python-dateutil>=2.7.3->pandas->crucio) (1.15.0)\n",
            "Requirement already satisfied: scipy>=1.1.0 in /usr/local/lib/python3.7/dist-packages (from scikit-learn->crucio) (1.4.1)\n",
            "Requirement already satisfied: threadpoolctl>=2.0.0 in /usr/local/lib/python3.7/dist-packages (from scikit-learn->crucio) (3.1.0)\n",
            "Requirement already satisfied: joblib>=0.11 in /usr/local/lib/python3.7/dist-packages (from scikit-learn->crucio) (1.1.0)\n",
            "Requirement already satisfied: docutils>=0.3 in /usr/local/lib/python3.7/dist-packages (from statistics->crucio) (0.17.1)\n",
            "Building wheels for collected packages: crucio, statistics\n",
            "  Building wheel for crucio (setup.py) ... \u001b[?25l\u001b[?25hdone\n",
            "  Created wheel for crucio: filename=crucio-0.1.4-py3-none-any.whl size=28457 sha256=d27865cc250d2e417ba0a1364ffde94fbebea562111fe0ba70fa07b49e72c337\n",
            "  Stored in directory: /root/.cache/pip/wheels/2d/5a/d7/0aa4cb59f8c45dfae9b7fdbb5f4352d1a5d9bd8622d714f5ed\n",
            "  Building wheel for statistics (setup.py) ... \u001b[?25l\u001b[?25hdone\n",
            "  Created wheel for statistics: filename=statistics-1.0.3.5-py3-none-any.whl size=7454 sha256=ef2685f1dda6b26095c4d1ff44ad54de606f87bb058d1f73591902771729258c\n",
            "  Stored in directory: /root/.cache/pip/wheels/37/09/e1/49ee45c0ce248a6e9c986aae82d32bbcba09c9f3b9d0c3406a\n",
            "Successfully built crucio statistics\n",
            "Installing collected packages: statistics, crucio\n",
            "Successfully installed crucio-0.1.4 statistics-1.0.3.5\n"
          ]
        }
      ],
      "source": [
        "pip install crucio"
      ]
    },
    {
      "cell_type": "code",
      "source": [
        "from crucio import SCUT\n",
        "scut = SCUT()\n",
        "balanced_df = scut.balance(df, 'target')"
      ],
      "metadata": {
        "id": "KBcJ5eRJecXB"
      },
      "execution_count": 2,
      "outputs": []
    },
    {
      "cell_type": "code",
      "source": [
        ""
      ],
      "metadata": {
        "id": "w5GERrLaecsH"
      },
      "execution_count": null,
      "outputs": []
    }
  ]
}