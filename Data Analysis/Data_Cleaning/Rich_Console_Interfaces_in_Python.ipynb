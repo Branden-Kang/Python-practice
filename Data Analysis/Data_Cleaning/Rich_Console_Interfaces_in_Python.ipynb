{
  "nbformat": 4,
  "nbformat_minor": 0,
  "metadata": {
    "colab": {
      "name": "Rich Console Interfaces in Python.ipynb",
      "provenance": [],
      "authorship_tag": "ABX9TyNj3a7GzFeBiPa0aFATJl+f"
    },
    "kernelspec": {
      "name": "python3",
      "display_name": "Python 3"
    }
  },
  "cells": [
    {
      "cell_type": "code",
      "metadata": {
        "colab": {
          "base_uri": "https://localhost:8080/"
        },
        "id": "yTXUJ6dnWKVl",
        "outputId": "7dd5e4ab-be61-4de0-9726-d4ff66c8d7be"
      },
      "source": [
        "!pip install rich"
      ],
      "execution_count": 1,
      "outputs": [
        {
          "output_type": "stream",
          "text": [
            "Collecting rich\n",
            "\u001b[?25l  Downloading https://files.pythonhosted.org/packages/e4/65/2376e6510efc51a3e7ead4012c6ade4742634cd89127bd5368a380d23454/rich-9.5.1-py3-none-any.whl (180kB)\n",
            "\u001b[K     |████████████████████████████████| 184kB 9.2MB/s \n",
            "\u001b[?25hRequirement already satisfied: typing-extensions<4.0.0,>=3.7.4 in /usr/local/lib/python3.6/dist-packages (from rich) (3.7.4.3)\n",
            "Requirement already satisfied: dataclasses<0.9,>=0.7; python_version >= \"3.6\" and python_version < \"3.7\" in /usr/local/lib/python3.6/dist-packages (from rich) (0.8)\n",
            "Collecting colorama<0.5.0,>=0.4.0\n",
            "  Downloading https://files.pythonhosted.org/packages/44/98/5b86278fbbf250d239ae0ecb724f8572af1c91f4a11edf4d36a206189440/colorama-0.4.4-py2.py3-none-any.whl\n",
            "Collecting commonmark<0.10.0,>=0.9.0\n",
            "\u001b[?25l  Downloading https://files.pythonhosted.org/packages/b1/92/dfd892312d822f36c55366118b95d914e5f16de11044a27cf10a7d71bbbf/commonmark-0.9.1-py2.py3-none-any.whl (51kB)\n",
            "\u001b[K     |████████████████████████████████| 51kB 5.7MB/s \n",
            "\u001b[?25hRequirement already satisfied: pygments<3.0.0,>=2.6.0 in /usr/local/lib/python3.6/dist-packages (from rich) (2.6.1)\n",
            "Installing collected packages: colorama, commonmark, rich\n",
            "Successfully installed colorama-0.4.4 commonmark-0.9.1 rich-9.5.1\n"
          ],
          "name": "stdout"
        }
      ]
    },
    {
      "cell_type": "code",
      "metadata": {
        "id": "3tlxWS3bWMEL"
      },
      "source": [
        "from rich.console import Console\n",
        "\n",
        "console = Console()"
      ],
      "execution_count": 2,
      "outputs": []
    },
    {
      "cell_type": "code",
      "metadata": {
        "colab": {
          "base_uri": "https://localhost:8080/"
        },
        "id": "Q5l9HGq1WNgI",
        "outputId": "2c75e4bb-7491-40a8-9829-aea1a4e2c802"
      },
      "source": [
        "console.print(\"I like :beer: and [bold white on blue]Deportivo [bold blue on white]de\\\n",
        " la[/bold blue on white] Coruña\")\n",
        "console.print(\"Visit our Medium publication from [blue underline]https://medium.com/branden\")\n",
        "console.print(\"Also we can style the entire line\", style=\"bold yellow on #bd0f0f\")\n",
        "console.print(locals())"
      ],
      "execution_count": 4,
      "outputs": [
        {
          "output_type": "stream",
          "text": [
            "I like 🍺 and Deportivo de la Coruña\n",
            "Visit our Medium publication from https://medium.com/branden\n",
            "Also we can style the entire line\n",
            "{\n",
            "    '__name__': '__main__',\n",
            "    '__doc__': 'Automatically created module for IPython interactive \n",
            "environment',\n",
            "    '__package__': None,\n",
            "    '__loader__': None,\n",
            "    '__spec__': None,\n",
            "    '__builtin__': <module 'builtins' (built-in)>,\n",
            "    '__builtins__': <module 'builtins' (built-in)>,\n",
            "    '_ih': [\n",
            "        '',\n",
            "        \"get_ipython().system('pip install rich')\",\n",
            "        'from rich.console import Console\\n\\nconsole = Console()',\n",
            "        'console.print(\"I like :beer: and [bold white on blue]Deportivo [bold \n",
            "blue on white]de la[/bold blue on white] Coruña\")\\nconsole.print(\"Visit our \n",
            "Medium publication from [blue \n",
            "underline]https://medium.com/trabe\")\\nconsole.print(\"Also we can style the \n",
            "entire line\", style=\"bold yellow on #bd0f0f\")\\nconsole.print(locals())',\n",
            "        'console.print(\"I like :beer: and [bold white on blue]Deportivo [bold \n",
            "blue on white]de la[/bold blue on white] Coruña\")\\nconsole.print(\"Visit our \n",
            "Medium publication from [blue \n",
            "underline]https://medium.com/branden\")\\nconsole.print(\"Also we can style the \n",
            "entire line\", style=\"bold yellow on #bd0f0f\")\\nconsole.print(locals())'\n",
            "    ],\n",
            "    '_oh': {},\n",
            "    '_dh': ['/content'],\n",
            "    '_sh': <module 'IPython.core.shadowns' from \n",
            "'/usr/local/lib/python3.6/dist-packages/IPython/core/shadowns.py'>,\n",
            "    'In': [\n",
            "        '',\n",
            "        \"get_ipython().system('pip install rich')\",\n",
            "        'from rich.console import Console\\n\\nconsole = Console()',\n",
            "        'console.print(\"I like :beer: and [bold white on blue]Deportivo [bold \n",
            "blue on white]de la[/bold blue on white] Coruña\")\\nconsole.print(\"Visit our \n",
            "Medium publication from [blue \n",
            "underline]https://medium.com/trabe\")\\nconsole.print(\"Also we can style the \n",
            "entire line\", style=\"bold yellow on #bd0f0f\")\\nconsole.print(locals())',\n",
            "        'console.print(\"I like :beer: and [bold white on blue]Deportivo [bold \n",
            "blue on white]de la[/bold blue on white] Coruña\")\\nconsole.print(\"Visit our \n",
            "Medium publication from [blue \n",
            "underline]https://medium.com/branden\")\\nconsole.print(\"Also we can style the \n",
            "entire line\", style=\"bold yellow on #bd0f0f\")\\nconsole.print(locals())'\n",
            "    ],\n",
            "    'Out': {},\n",
            "    'get_ipython': <bound method InteractiveShell.get_ipython of \n",
            "<google.colab._shell.Shell object at 0x7f6b050bd5f8>>,\n",
            "    'exit': <IPython.core.autocall.ZMQExitAutocall object at 0x7f6b02639b00>,\n",
            "    'quit': <IPython.core.autocall.ZMQExitAutocall object at 0x7f6b02639b00>,\n",
            "    '_': '',\n",
            "    '__': '',\n",
            "    '___': '',\n",
            "    '_i': 'console.print(\"I like :beer: and [bold white on blue]Deportivo [bold \n",
            "blue on white]de\\\\\\n la[/bold blue on white] Coruña\")\\nconsole.print(\"Visit our \n",
            "Medium publication from [blue \n",
            "underline]https://medium.com/trabe\")\\nconsole.print(\"Also we can style the \n",
            "entire line\", style=\"bold yellow on #bd0f0f\")\\nconsole.print(locals())',\n",
            "    '_ii': 'from rich.console import Console\\n\\nconsole = Console()',\n",
            "    '_iii': '!pip install rich',\n",
            "    '_i1': '!pip install rich',\n",
            "    '_exit_code': 0,\n",
            "    '_i2': 'from rich.console import Console\\n\\nconsole = Console()',\n",
            "    'Console': <class 'rich.console.Console'>,\n",
            "    'console': <console width=80 None>,\n",
            "    '_i3': 'console.print(\"I like :beer: and [bold white on blue]Deportivo [bold\n",
            "blue on white]de\\\\\\n la[/bold blue on white] Coruña\")\\nconsole.print(\"Visit our \n",
            "Medium publication from [blue \n",
            "underline]https://medium.com/trabe\")\\nconsole.print(\"Also we can style the \n",
            "entire line\", style=\"bold yellow on #bd0f0f\")\\nconsole.print(locals())',\n",
            "    '_i4': 'console.print(\"I like :beer: and [bold white on blue]Deportivo [bold\n",
            "blue on white]de\\\\\\n la[/bold blue on white] Coruña\")\\nconsole.print(\"Visit our \n",
            "Medium publication from [blue \n",
            "underline]https://medium.com/branden\")\\nconsole.print(\"Also we can style the \n",
            "entire line\", style=\"bold yellow on #bd0f0f\")\\nconsole.print(locals())'\n",
            "}\n"
          ],
          "name": "stdout"
        }
      ]
    },
    {
      "cell_type": "code",
      "metadata": {
        "colab": {
          "base_uri": "https://localhost:8080/"
        },
        "id": "P2k_T_aUWP_n",
        "outputId": "bb885ead-9763-4ecf-8885-f0b8fcc517d1"
      },
      "source": [
        "from rich.console import Console\n",
        "\n",
        "console = Console()\n",
        "\n",
        "console.print('I like the light_sea_green color', style='light_sea_green')\n",
        "console.print('I like the light_sea_green color', style='#00afaf')\n",
        "console.print('I like the light_sea_green color', style='rgb(0,175,175)')"
      ],
      "execution_count": 5,
      "outputs": [
        {
          "output_type": "stream",
          "text": [
            "I like the light_sea_green color\n",
            "I like the light_sea_green color\n",
            "I like the light_sea_green color\n"
          ],
          "name": "stdout"
        }
      ]
    },
    {
      "cell_type": "code",
      "metadata": {
        "colab": {
          "base_uri": "https://localhost:8080/"
        },
        "id": "TjkzGCBBWfLF",
        "outputId": "c60fd888-5a72-4e12-f794-685f0e9345e5"
      },
      "source": [
        "from rich.console import Console\n",
        "\n",
        "data = [\n",
        "    {\"jsonrpc\": \"2.0\", \"method\": \"sum\", \"params\": [None, 1, 2, 4, False, True], \"id\": \"1\",},\n",
        "    {\"jsonrpc\": \"2.0\", \"method\": \"notify_hello\", \"params\": [7]},\n",
        "    {\"jsonrpc\": \"2.0\", \"method\": \"subtract\", \"params\": [42, 23], \"id\": \"2\"},\n",
        "]\n",
        "\n",
        "console = Console()\n",
        "\n",
        "def log():\n",
        "    enabled = False\n",
        "    context = {\n",
        "        \"foo\": \"bar\",\n",
        "    }\n",
        "    movies = [\"Deadpool\", \"Rise of the Skywalker\"]\n",
        "    console.log(\"Hello from\", console, \"!\")\n",
        "    console.log(data, log_locals=True)\n",
        "\n",
        "log()"
      ],
      "execution_count": 6,
      "outputs": [
        {
          "output_type": "stream",
          "text": [
            "[04:41:37] Hello from <console width=80 None>  <ipython-input-6-6d4ec4e1433e>:17\n",
            "           !                                                                    \n",
            "           [                                   <ipython-input-6-6d4ec4e1433e>:18\n",
            "               {                                                                \n",
            "                   'jsonrpc': '2.0',                                            \n",
            "                   'method': 'sum',                                             \n",
            "                   'params': [                                                  \n",
            "                       None,                                                    \n",
            "                       1,                                                       \n",
            "                       2,                                                       \n",
            "                       4,                                                       \n",
            "                       False,                                                   \n",
            "                       True                                                     \n",
            "                   ],                                                           \n",
            "                   'id': '1'                                                    \n",
            "               },                                                               \n",
            "               {                                                                \n",
            "                   'jsonrpc': '2.0',                                            \n",
            "                   'method': 'notify_hello',                                    \n",
            "                   'params': [7]                                                \n",
            "               },                                                               \n",
            "               {                                                                \n",
            "                   'jsonrpc': '2.0',                                            \n",
            "                   'method': 'subtract',                                        \n",
            "                   'params': [42, 23],                                          \n",
            "                   'id': '2'                                                    \n",
            "               }                                                                \n",
            "           ]                                                                    \n",
            "           ╭──────────── locals ─────────────╮                                  \n",
            "           │ context = {'foo': 'bar'}        │                                  \n",
            "           │ enabled = False                 │                                  \n",
            "           │  movies = [                     │                                  \n",
            "           │               'Deadpool',       │                                  \n",
            "           │               'Rise of the      │                                  \n",
            "           │           Skywalker'            │                                  \n",
            "           │           ]                     │                                  \n",
            "           ╰─────────────────────────────────╯                                  \n"
          ],
          "name": "stdout"
        }
      ]
    },
    {
      "cell_type": "code",
      "metadata": {
        "colab": {
          "base_uri": "https://localhost:8080/"
        },
        "id": "yRNrh7eRWhHI",
        "outputId": "a93b5974-3642-4f7a-90f4-f0550d3d3c10"
      },
      "source": [
        "from rich.console import Console\n",
        "from rich.table import Table\n",
        "\n",
        "def link(url):\n",
        "    return f'[blue][u]{url}[/u][/blue]'\n",
        "\n",
        "console = Console()\n",
        "\n",
        "table = Table(show_header=True, header_style='bold #2070b2',\n",
        "              title='[bold]ACTIVE [#2070b2]PY[/#2070b2][#f8e020]THON[/#f8e020] RELEASES')\n",
        "\n",
        "table.add_column('Python version', justify='right')\n",
        "table.add_column('Maintenance status')\n",
        "table.add_column('First released', justify='center')\n",
        "table.add_column('End of support', justify='center')\n",
        "table.add_column('Release schedule')\n",
        "\n",
        "table.add_row('3.8', '[green]bugfix', '2019-10-14', '2024-10',\n",
        "              f'[bold]PEP 569[/bold] ({link(\"https://www.python.org/dev/peps/pep-0569\")})')\n",
        "table.add_row('3.7', '[orange1]security', '2018-06-27', '2023-06-27',\n",
        "              f'[bold]PEP 537[/bold] ({link(\"https://www.python.org/dev/peps/pep-0537\")})')\n",
        "table.add_row('3.6', '[orange1]security', '2016-12-23', '2021-12-23',\n",
        "              f'[bold]PEP 494[/bold] ({link(\"https://www.python.org/dev/peps/pep-0494\")})')\n",
        "table.add_row('3.5', '[orange1]security', '2015-09-13', '2020-09-13',\n",
        "              f'[bold]PEP 478[/bold] ({link(\"https://www.python.org/dev/peps/pep-0478\")})')\n",
        "table.add_row('2.7', '[red]end-of-life', '2010-07-03', '2020-01-01',\n",
        "              f'[bold]PEP 373[/bold] ({link(\"https://www.python.org/dev/peps/pep-0373\")})')\n",
        "\n",
        "console.print(table)"
      ],
      "execution_count": 7,
      "outputs": [
        {
          "output_type": "stream",
          "text": [
            "                             ACTIVE PYTHON RELEASES                             \n",
            "┏━━━━━━━━━━━━━━━┳━━━━━━━━━━━━━━━┳━━━━━━━━━━━━━━━┳━━━━━━━━━━━━━━┳━━━━━━━━━━━━━━━┓\n",
            "┃        Python ┃ Maintenance   ┃     First     ┃    End of    ┃ Release       ┃\n",
            "┃       version ┃ status        ┃   released    ┃   support    ┃ schedule      ┃\n",
            "┡━━━━━━━━━━━━━━━╇━━━━━━━━━━━━━━━╇━━━━━━━━━━━━━━━╇━━━━━━━━━━━━━━╇━━━━━━━━━━━━━━━┩\n",
            "│           3.8 │ bugfix        │  2019-10-14   │   2024-10    │ PEP 569       │\n",
            "│               │               │               │              │ (https://www… │\n",
            "│           3.7 │ security      │  2018-06-27   │  2023-06-27  │ PEP 537       │\n",
            "│               │               │               │              │ (https://www… │\n",
            "│           3.6 │ security      │  2016-12-23   │  2021-12-23  │ PEP 494       │\n",
            "│               │               │               │              │ (https://www… │\n",
            "│           3.5 │ security      │  2015-09-13   │  2020-09-13  │ PEP 478       │\n",
            "│               │               │               │              │ (https://www… │\n",
            "│           2.7 │ end-of-life   │  2010-07-03   │  2020-01-01  │ PEP 373       │\n",
            "│               │               │               │              │ (https://www… │\n",
            "└───────────────┴───────────────┴───────────────┴──────────────┴───────────────┘\n"
          ],
          "name": "stdout"
        }
      ]
    },
    {
      "cell_type": "code",
      "metadata": {
        "id": "mJGyCPInWnk9"
      },
      "source": [
        "from requests import get\n",
        "from rich.progress import track\n",
        "\n",
        "DOWNLOAD_DIR = 'C:\\\\Users\\\\martin\\\\Downloads'\n",
        "\n",
        "files = [\n",
        "    'https://media3.giphy.com/media/ZZxdru3NM5L2AULyil/giphy.gif',\n",
        "    'https://media2.giphy.com/media/fdG206uGu4MhbQCoYt/giphy.webp',\n",
        "    'https://media0.giphy.com/media/VCnarjHdw5Sqelr9pe/source.mp4'\n",
        "]\n",
        "\n",
        "def download_file(file):\n",
        "    res = get(file)\n",
        "    file_name = file.split(\"/\")[-1]\n",
        "\n",
        "    with open(f'{DOWNLOAD_DIR}\\\\{file_name}', 'wb') as f:\n",
        "        f.write(res.content)\n",
        "\n",
        "for file in track(files, \"Downloading files...\"):\n",
        "    download_file(file)"
      ],
      "execution_count": 9,
      "outputs": []
    },
    {
      "cell_type": "markdown",
      "metadata": {
        "id": "dg2MQ-8hW-iy"
      },
      "source": [
        "# Rendering markdown\n",
        "\n",
        "This is an example to show how to render markdown with\n",
        "[Rich](https://github.com/willmcgugan/rich).\n",
        "\n",
        "## Description\n",
        "\n",
        "In this example we will learn how to rendering markdown in the terminal. As you can see in the\n",
        "example, we only need to follow this steps:\n",
        "\n",
        "1. Instantiate a console object.\n",
        "2. Open the markdown file and read the content.\n",
        "3. Instantiate a Markdown object passing the file content as constructor argument.\n",
        "4. Call the print method of the console passing the markdown object created."
      ]
    },
    {
      "cell_type": "code",
      "metadata": {
        "id": "SI7t3bwOW9oQ"
      },
      "source": [
        "from rich.console import Console\n",
        "from rich.markdown import Markdown\n",
        "\n",
        "console = Console()\n",
        "\n",
        "with open('RICH-MARKDOWN.md') as readme:\n",
        "    markdown = Markdown(readme.read())\n",
        "\n",
        "console.print(markdown)"
      ],
      "execution_count": 13,
      "outputs": []
    },
    {
      "cell_type": "code",
      "metadata": {
        "id": "bEFEMeOdWrlR"
      },
      "source": [
        "import os\n",
        "import sys\n",
        "\n",
        "from rich import box\n",
        "from rich.columns import Columns\n",
        "from rich.console import Console\n",
        "from rich.panel import Panel\n",
        "\n",
        "def file_info(file):\n",
        "    file_name, ext = os.path.splitext(file)\n",
        "    file_type = 'directory' if os.path.isdir(file) else 'file'\n",
        "\n",
        "    return f'[bold]NAME[/bold]: {file_name}\\n[bold]TYPE[/bold]: {file_type}\\n[bold]EXT[/bold]:\\\n",
        " {ext if file_type == \"file\" else \"-\"}'\n",
        "\n",
        "console = Console()\n",
        "\n",
        "files = [Panel(file_info(file), box=box.DOUBLE_EDGE) for file in os.listdir(sys.argv[1])]\n",
        "console.print(Columns(files))"
      ],
      "execution_count": 15,
      "outputs": []
    },
    {
      "cell_type": "code",
      "metadata": {
        "colab": {
          "base_uri": "https://localhost:8080/"
        },
        "id": "EEOfaAaXW63_",
        "outputId": "c7c048ab-9862-4614-be25-45e7a0fbf004"
      },
      "source": [
        "from rich.console import Console\n",
        "from rich.syntax import Syntax\n",
        "\n",
        "code = '''\n",
        "\"\"\" This function says hello \"\"\"\n",
        "def say_hello(name):\n",
        "    print(f'Hello {name}!')\n",
        "\n",
        "# Greet me always!\n",
        "for i in range(10):\n",
        "    say_hello('Martin')\n",
        "'''\n",
        "syntax = Syntax(code, \"python\", theme=\"monokai\", line_numbers=True)\n",
        "\n",
        "console = Console()\n",
        "console.print(syntax)"
      ],
      "execution_count": 16,
      "outputs": [
        {
          "output_type": "stream",
          "text": [
            "  1 \"\"\" This function says hello \"\"\"                                            \n",
            "  2 def say_hello(name):                                                        \n",
            "  3     print(f'Hello {name}!')                                                 \n",
            "  4                                                                             \n",
            "  5 # Greet me always!                                                          \n",
            "  6 for i in range(10):                                                         \n",
            "  7     say_hello('Martin')                                                     \n"
          ],
          "name": "stdout"
        }
      ]
    },
    {
      "cell_type": "code",
      "metadata": {
        "colab": {
          "base_uri": "https://localhost:8080/"
        },
        "id": "ottlyCn3XOfh",
        "outputId": "8f61a547-b1c2-485c-ccf0-c531f7e84f51"
      },
      "source": [
        "from rich.console import Console\n",
        "\n",
        "console = Console()\n",
        "\n",
        "def div(num, den):\n",
        "    return num / den\n",
        "\n",
        "try:\n",
        "    print(div(2, 0))\n",
        "except:\n",
        "    console.print_exception()"
      ],
      "execution_count": 17,
      "outputs": [
        {
          "output_type": "stream",
          "text": [
            "╭───────────────────── Traceback (most recent call last) ──────────────────────╮\n",
            "│ /content/<ipython-input-17-2b50502a6722>:9 in <module>                       │\n",
            "│                                                                              │\n",
            "│ /content/<ipython-input-17-2b50502a6722>:6 in div                            │\n",
            "╰──────────────────────────────────────────────────────────────────────────────╯\n",
            "ZeroDivisionError: division by zero\n"
          ],
          "name": "stdout"
        }
      ]
    }
  ]
}