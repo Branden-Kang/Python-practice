{
  "nbformat": 4,
  "nbformat_minor": 0,
  "metadata": {
    "colab": {
      "provenance": [],
      "authorship_tag": "ABX9TyOpJZL5FhljJHcvxYl6LLba"
    },
    "kernelspec": {
      "name": "python3",
      "display_name": "Python 3"
    },
    "language_info": {
      "name": "python"
    }
  },
  "cells": [
    {
      "cell_type": "markdown",
      "source": [
        "[Reference](https://towardsdatascience.com/your-dataset-is-imbalanced-do-nothing-abf6a0049813)"
      ],
      "metadata": {
        "id": "_yMyltFB_SQB"
      }
    },
    {
      "cell_type": "code",
      "execution_count": 1,
      "metadata": {
        "id": "yPaltBjE_QjK"
      },
      "outputs": [],
      "source": [
        "# generating toy datasets\n",
        "import numpy as np\n",
        "\n",
        "negatives_train = np.random.normal(5,1,90_000)\n",
        "positives_train = np.random.normal(8,1,10_000)\n",
        "\n",
        "x_train = np.concatenate([negatives_train, positives_train])\n",
        "y_train = np.array([0] * len(negatives_train) + [1] * len(positives_train))\n",
        "\n",
        "positives_train_os = np.random.choice(positives_train, size=len(negatives_train))\n",
        "x_train_os = np.concatenate([negatives_train, positives_train_os])\n",
        "y_train_os = np.array([0] * len(negatives_train) + [1] * len(positives_train_os))\n",
        "\n",
        "negatives_serve = np.random.normal(5,1,8_800)\n",
        "positives_serve = np.random.normal(8,1,1_200)\n",
        "y_serve = np.array([0] * len(negatives_serve) + [1] * len(positives_serve))\n",
        "x_serve = np.concatenate([negatives_serve, positives_serve])"
      ]
    },
    {
      "cell_type": "code",
      "source": [
        "# \"training\" our model on the original dataset\n",
        "from sklearn.metrics import log_loss\n",
        "\n",
        "ts = np.linspace(np.min(x_train), np.max(x_train), 100)\n",
        "\n",
        "log_loss_train = [log_loss(y_train, x_train >= t) for t in ts]\n",
        "\n",
        "best_thres_train = ts[np.argmin(log_loss_train)]"
      ],
      "metadata": {
        "id": "RARQ-qvIDHJr"
      },
      "execution_count": 2,
      "outputs": []
    },
    {
      "cell_type": "code",
      "source": [
        "# \"training\" our model on the original dataset\n",
        "log_loss_train_os = [log_loss(y_train_os, x_train_os >= t) for t in ts]\n",
        "best_thres_train_os = ts[np.argmin(log_loss_train_os)]"
      ],
      "metadata": {
        "id": "CArIg65WDNxW"
      },
      "execution_count": 3,
      "outputs": []
    }
  ]
}
