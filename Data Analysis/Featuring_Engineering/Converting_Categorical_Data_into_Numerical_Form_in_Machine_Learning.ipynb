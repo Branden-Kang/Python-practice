{
  "nbformat": 4,
  "nbformat_minor": 0,
  "metadata": {
    "colab": {
      "provenance": [],
      "authorship_tag": "ABX9TyNUqbtXYIPCG7lAYAXyl7MO"
    },
    "kernelspec": {
      "name": "python3",
      "display_name": "Python 3"
    },
    "language_info": {
      "name": "python"
    }
  },
  "cells": [
    {
      "cell_type": "markdown",
      "source": [
        "[Reference](https://medium.com/@chanakapinfo/converting-categorical-data-into-numerical-form-in-machine-learning-e5f56f86e94e)"
      ],
      "metadata": {
        "id": "6FpqsfvTlsHi"
      }
    },
    {
      "cell_type": "code",
      "execution_count": 1,
      "metadata": {
        "colab": {
          "base_uri": "https://localhost:8080/"
        },
        "id": "6Q5l03UZlpuI",
        "outputId": "edf689ef-26ae-42de-acfe-8df846828ef9"
      },
      "outputs": [
        {
          "output_type": "stream",
          "name": "stdout",
          "text": [
            "    color    size category      value\n",
            "0   green  medium        A  -6.108899\n",
            "1  yellow   large        A  11.945319\n",
            "2     red   small        A  12.440339\n",
            "3   green   small        B -22.031605\n",
            "4   green   small        A  -7.979595\n"
          ]
        }
      ],
      "source": [
        "import pandas as pd\n",
        "import numpy as np\n",
        "\n",
        "# Set random seed for reproducibility\n",
        "np.random.seed(42)\n",
        "\n",
        "# Define sample data\n",
        "num_records = 1000\n",
        "\n",
        "# Generate random categorical data\n",
        "colors = np.random.choice(['red', 'blue', 'green', 'yellow'], num_records)\n",
        "sizes = np.random.choice(['small', 'medium', 'large'], num_records)\n",
        "categories = np.random.choice(['A', 'B', 'C'], num_records)\n",
        "\n",
        "# Generate random numerical data\n",
        "values = np.random.randn(num_records) * 10\n",
        "\n",
        "# Create DataFrame\n",
        "df = pd.DataFrame({\n",
        "    'color': colors,\n",
        "    'size': sizes,\n",
        "    'category': categories,\n",
        "    'value': values\n",
        "})\n",
        "\n",
        "print(df.head())"
      ]
    },
    {
      "cell_type": "markdown",
      "source": [
        "# 1.Using LabelEncoder1.Using LabelEncoder\n",
        "## fit"
      ],
      "metadata": {
        "id": "jzyev06Qlxy0"
      }
    },
    {
      "cell_type": "code",
      "source": [
        "from sklearn.preprocessing import LabelEncoder\n",
        "\n",
        "# Initialize LabelEncoder\n",
        "le_encoder = LabelEncoder()\n",
        "\n",
        "# Fit the encoder on the 'color' column\n",
        "le_encoder.fit(df['color'])\n",
        "\n",
        "# Print the classes learned by the encoder\n",
        "print(\"Classes:\", le_encoder.classes_)"
      ],
      "metadata": {
        "colab": {
          "base_uri": "https://localhost:8080/"
        },
        "id": "nNuhlFjilw2a",
        "outputId": "1908c364-4780-463d-8d39-2b34ae77662c"
      },
      "execution_count": 2,
      "outputs": [
        {
          "output_type": "stream",
          "name": "stdout",
          "text": [
            "Classes: ['blue' 'green' 'red' 'yellow']\n"
          ]
        }
      ]
    },
    {
      "cell_type": "markdown",
      "source": [
        "## fit_transform"
      ],
      "metadata": {
        "id": "CTRaDGC2l1sm"
      }
    },
    {
      "cell_type": "code",
      "source": [
        "# Initialize separate LabelEncoder instances\n",
        "le_color = LabelEncoder()\n",
        "le_size = LabelEncoder()\n",
        "le_category = LabelEncoder()\n",
        "\n",
        "# Fit and transform the 'color', 'size', and 'category' columns\n",
        "df['color_encoded'] = le_color.fit_transform(df['color'])\n",
        "df['size_encoded'] = le_size.fit_transform(df['size'])\n",
        "df['category_encoded'] = le_category.fit_transform(df['category'])\n",
        "\n",
        "print(df.head())"
      ],
      "metadata": {
        "colab": {
          "base_uri": "https://localhost:8080/"
        },
        "id": "bd7JwGyIl01m",
        "outputId": "25634960-2d5a-4308-e393-c11cca2c301f"
      },
      "execution_count": 3,
      "outputs": [
        {
          "output_type": "stream",
          "name": "stdout",
          "text": [
            "    color    size category      value  color_encoded  size_encoded  \\\n",
            "0   green  medium        A  -6.108899              1             1   \n",
            "1  yellow   large        A  11.945319              3             0   \n",
            "2     red   small        A  12.440339              2             2   \n",
            "3   green   small        B -22.031605              1             2   \n",
            "4   green   small        A  -7.979595              1             2   \n",
            "\n",
            "   category_encoded  \n",
            "0                 0  \n",
            "1                 0  \n",
            "2                 0  \n",
            "3                 1  \n",
            "4                 0  \n"
          ]
        }
      ]
    },
    {
      "cell_type": "markdown",
      "source": [
        "## inverse_transform"
      ],
      "metadata": {
        "id": "vfmXGY7bl7Nv"
      }
    },
    {
      "cell_type": "code",
      "source": [
        "# Convert the encoded 'color' values back to the original labels\n",
        "original_colors = le_color.inverse_transform(df['color_encoded'])\n",
        "original_sizes = le_size.inverse_transform(df['size_encoded'])\n",
        "original_categories = le_category.inverse_transform(df['category_encoded'])\n",
        "\n",
        "print(original_colors[:5])  # Display first 5 original labels\n",
        "print(original_sizes[:5])\n",
        "print(original_categories[:5])"
      ],
      "metadata": {
        "colab": {
          "base_uri": "https://localhost:8080/"
        },
        "id": "ogPnU-Evl5R7",
        "outputId": "10dc87b5-15a7-4adf-e091-f624b6d0cfba"
      },
      "execution_count": 4,
      "outputs": [
        {
          "output_type": "stream",
          "name": "stdout",
          "text": [
            "['green' 'yellow' 'red' 'green' 'green']\n",
            "['medium' 'large' 'small' 'small' 'small']\n",
            "['A' 'A' 'A' 'B' 'A']\n"
          ]
        }
      ]
    },
    {
      "cell_type": "markdown",
      "source": [
        "# Using OneHotEncoder\n",
        "## fit"
      ],
      "metadata": {
        "id": "1lvjpf6Hl_k4"
      }
    },
    {
      "cell_type": "code",
      "source": [
        "# Create DataFrame\n",
        "df = pd.DataFrame({\n",
        "    'color': colors,\n",
        "    'size': sizes,\n",
        "    'category': categories,\n",
        "    'value': values\n",
        "})\n",
        "\n",
        "from sklearn.preprocessing import OneHotEncoder\n",
        "\n",
        "# Initialize OneHotEncoder\n",
        "ohe = OneHotEncoder(sparse_output=False,drop='first')  # Set sparse_output=False for a dense array\n",
        "\n",
        "# Fit the encoder on the 'color' column\n",
        "ohe.fit(df[['color']])\n",
        "\n",
        "# Print the categories learned by the encoder\n",
        "print(\"Categories:\", ohe.categories_)"
      ],
      "metadata": {
        "colab": {
          "base_uri": "https://localhost:8080/"
        },
        "id": "_DAhb8Zfl-Yt",
        "outputId": "f076ef11-d6fb-45ec-855b-f9aa463ab255"
      },
      "execution_count": 5,
      "outputs": [
        {
          "output_type": "stream",
          "name": "stdout",
          "text": [
            "Categories: [array(['blue', 'green', 'red', 'yellow'], dtype=object)]\n"
          ]
        }
      ]
    },
    {
      "cell_type": "markdown",
      "source": [
        "## fit_transform"
      ],
      "metadata": {
        "id": "fyA3_i2imCsl"
      }
    },
    {
      "cell_type": "code",
      "source": [
        "# Initialize OneHotEncoder\n",
        "ohe_color = OneHotEncoder(sparse_output=False,drop='first')\n",
        "ohe_size = OneHotEncoder(sparse_output=False,drop='first')\n",
        "ohe_category = OneHotEncoder(sparse_output=False,drop='first')\n",
        "\n",
        "# Fit and transform the 'color' column\n",
        "color_encoded = ohe_color.fit_transform(df[['color']])\n",
        "color_encoded_df = pd.DataFrame(color_encoded, columns=ohe_color.get_feature_names_out(['color']))\n",
        "\n",
        "# Fit and transform the 'size' column\n",
        "size_encoded = ohe_size.fit_transform(df[['size']])\n",
        "size_encoded_df = pd.DataFrame(size_encoded, columns=ohe_size.get_feature_names_out(['size']))\n",
        "\n",
        "# Fit and transform the 'category' column\n",
        "category_encoded = ohe_category.fit_transform(df[['category']])\n",
        "category_encoded_df = pd.DataFrame(category_encoded, columns=ohe_category.get_feature_names_out(['category']))\n",
        "\n",
        "# Combine the encoded columns with the original DataFrame (excluding original categorical columns)\n",
        "encoded_df = pd.concat([color_encoded_df, size_encoded_df, category_encoded_df, df[['value']].reset_index(drop=True)], axis=1)\n",
        "\n",
        "print(encoded_df.head())"
      ],
      "metadata": {
        "colab": {
          "base_uri": "https://localhost:8080/"
        },
        "id": "iisSkdPCmCNr",
        "outputId": "c9a299fa-9e68-4f47-d9f2-9f914a93bbda"
      },
      "execution_count": 6,
      "outputs": [
        {
          "output_type": "stream",
          "name": "stdout",
          "text": [
            "   color_green  color_red  color_yellow  size_medium  size_small  category_B  \\\n",
            "0          1.0        0.0           0.0          1.0         0.0         0.0   \n",
            "1          0.0        0.0           1.0          0.0         0.0         0.0   \n",
            "2          0.0        1.0           0.0          0.0         1.0         0.0   \n",
            "3          1.0        0.0           0.0          0.0         1.0         1.0   \n",
            "4          1.0        0.0           0.0          0.0         1.0         0.0   \n",
            "\n",
            "   category_C      value  \n",
            "0         0.0  -6.108899  \n",
            "1         0.0  11.945319  \n",
            "2         0.0  12.440339  \n",
            "3         0.0 -22.031605  \n",
            "4         0.0  -7.979595  \n"
          ]
        }
      ]
    },
    {
      "cell_type": "markdown",
      "source": [
        "## inverse_transform"
      ],
      "metadata": {
        "id": "RKJaiSe2mHtc"
      }
    },
    {
      "cell_type": "code",
      "source": [
        "# Convert the one-hot encoded  values back to the original labels\n",
        "original_colors = ohe_color.inverse_transform(color_encoded)\n",
        "original_sizes = ohe_size.inverse_transform(size_encoded)\n",
        "original_categories = ohe_category.inverse_transform(category_encoded)\n",
        "\n",
        "# Display first 5 original labels\n",
        "print(original_colors[:5])\n",
        "print('')\n",
        "print(original_sizes[:5])\n",
        "print('')\n",
        "print(original_categories[:5])"
      ],
      "metadata": {
        "colab": {
          "base_uri": "https://localhost:8080/"
        },
        "id": "XQPz2zvimF7F",
        "outputId": "887368b6-e536-4a13-933b-e21ba130038e"
      },
      "execution_count": 7,
      "outputs": [
        {
          "output_type": "stream",
          "name": "stdout",
          "text": [
            "[['green']\n",
            " ['yellow']\n",
            " ['red']\n",
            " ['green']\n",
            " ['green']]\n",
            "\n",
            "[['medium']\n",
            " ['large']\n",
            " ['small']\n",
            " ['small']\n",
            " ['small']]\n",
            "\n",
            "[['A']\n",
            " ['A']\n",
            " ['A']\n",
            " ['B']\n",
            " ['A']]\n"
          ]
        }
      ]
    },
    {
      "cell_type": "markdown",
      "source": [
        "# Using pandas get_dummies"
      ],
      "metadata": {
        "id": "hGwGrbvJmNJ1"
      }
    },
    {
      "cell_type": "code",
      "source": [
        "# Create DataFrame\n",
        "df = pd.DataFrame({\n",
        "    'color': colors,\n",
        "    'size': sizes,\n",
        "    'category': categories,\n",
        "    'value': values\n",
        "})\n",
        "\n",
        "# Convert categorical columns to dummy/indicator variables\n",
        "dummies_df = pd.get_dummies(df, drop_first=True)\n",
        "\n",
        "dummies_df = dummies_df.astype(int)\n",
        "\n",
        "print(dummies_df.head())"
      ],
      "metadata": {
        "colab": {
          "base_uri": "https://localhost:8080/"
        },
        "id": "qj_1mIOsmJwT",
        "outputId": "07f80525-8af6-4dea-d6d0-c483a348d673"
      },
      "execution_count": 8,
      "outputs": [
        {
          "output_type": "stream",
          "name": "stdout",
          "text": [
            "   value  color_green  color_red  color_yellow  size_medium  size_small  \\\n",
            "0     -6            1          0             0            1           0   \n",
            "1     11            0          0             1            0           0   \n",
            "2     12            0          1             0            0           1   \n",
            "3    -22            1          0             0            0           1   \n",
            "4     -7            1          0             0            0           1   \n",
            "\n",
            "   category_B  category_C  \n",
            "0           0           0  \n",
            "1           0           0  \n",
            "2           0           0  \n",
            "3           1           0  \n",
            "4           0           0  \n"
          ]
        }
      ]
    },
    {
      "cell_type": "markdown",
      "source": [
        "# OneHotEncoder with ColumnTransfer"
      ],
      "metadata": {
        "id": "sK2QisFWmSM_"
      }
    },
    {
      "cell_type": "code",
      "source": [
        "from sklearn.preprocessing import OneHotEncoder, StandardScaler\n",
        "from sklearn.compose import ColumnTransformer\n",
        "\n",
        "\n",
        "\n",
        "# Create DataFrame\n",
        "df = pd.DataFrame({\n",
        "    'color': colors,\n",
        "    'size': sizes,\n",
        "    'category': categories,\n",
        "    'value': values\n",
        "})\n",
        "\n",
        "print(df.head())"
      ],
      "metadata": {
        "colab": {
          "base_uri": "https://localhost:8080/"
        },
        "id": "iaMt1gfOmQFo",
        "outputId": "4f7f3447-4001-418e-870d-42a06202b0c1"
      },
      "execution_count": 9,
      "outputs": [
        {
          "output_type": "stream",
          "name": "stdout",
          "text": [
            "    color    size category      value\n",
            "0   green  medium        A  -6.108899\n",
            "1  yellow   large        A  11.945319\n",
            "2     red   small        A  12.440339\n",
            "3   green   small        B -22.031605\n",
            "4   green   small        A  -7.979595\n"
          ]
        }
      ]
    },
    {
      "cell_type": "code",
      "source": [
        "# Initialize OneHotEncoder and StandardScaler\n",
        "ohe = OneHotEncoder(sparse_output=False, drop='first')\n",
        "scaler = StandardScaler()\n",
        "\n",
        "# Create a ColumnTransformer\n",
        "preprocessor = ColumnTransformer(\n",
        "    transformers=[\n",
        "        ('cat', ohe, ['color', 'size', 'category']),  # Apply OneHotEncoder to categorical columns\n",
        "        ('num', scaler, ['value'])                    # Apply StandardScaler to numerical column\n",
        "    ],\n",
        "    remainder='passthrough'  # Pass through other columns without transformation\n",
        ")\n",
        "\n",
        "# Fit and transform the data\n",
        "preprocessed_data = preprocessor.fit_transform(df)\n",
        "\n",
        "# Retrieve feature names from the fitted ColumnTransformer\n",
        "# Access OneHotEncoder's feature names directly\n",
        "ohe_feature_names = preprocessor.named_transformers_['cat'].get_feature_names_out(['color', 'size', 'category'])\n",
        "feature_names = list(ohe_feature_names) + ['value']\n",
        "\n",
        "# Create DataFrame with preprocessed data\n",
        "preprocessed_df = pd.DataFrame(preprocessed_data, columns=feature_names)\n",
        "\n",
        "print(preprocessed_df.head())"
      ],
      "metadata": {
        "colab": {
          "base_uri": "https://localhost:8080/"
        },
        "id": "cqBcAvwjmUfm",
        "outputId": "bbb120cf-8102-4af0-e64c-3030c7b872fe"
      },
      "execution_count": 10,
      "outputs": [
        {
          "output_type": "stream",
          "name": "stdout",
          "text": [
            "   color_green  color_red  color_yellow  size_medium  size_small  category_B  \\\n",
            "0          1.0        0.0           0.0          1.0         0.0         0.0   \n",
            "1          0.0        0.0           1.0          0.0         0.0         0.0   \n",
            "2          0.0        1.0           0.0          0.0         1.0         0.0   \n",
            "3          1.0        0.0           0.0          0.0         1.0         1.0   \n",
            "4          1.0        0.0           0.0          0.0         1.0         0.0   \n",
            "\n",
            "   category_C     value  \n",
            "0         0.0 -0.660155  \n",
            "1         0.0  1.191936  \n",
            "2         0.0  1.242717  \n",
            "3         0.0 -2.293584  \n",
            "4         0.0 -0.852060  \n"
          ]
        }
      ]
    }
  ]
}
