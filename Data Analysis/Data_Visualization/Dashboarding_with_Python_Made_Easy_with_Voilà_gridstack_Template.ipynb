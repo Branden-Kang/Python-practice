{
  "nbformat": 4,
  "nbformat_minor": 0,
  "metadata": {
    "colab": {
      "name": "Dashboarding with Python Made Easy with Voilà-gridstack Template.ipynb",
      "provenance": [],
      "authorship_tag": "ABX9TyPkDkXotNBncsVHdXVpf07e"
    },
    "kernelspec": {
      "name": "python3",
      "display_name": "Python 3"
    },
    "language_info": {
      "name": "python"
    }
  },
  "cells": [
    {
      "cell_type": "markdown",
      "metadata": {
        "id": "xg3nMKaUtJ4d"
      },
      "source": [
        "[Reference](https://medium.com/spatial-data-science/dashboarding-with-python-made-easy-with-voila-gridstack-template-4335480dddee)"
      ]
    },
    {
      "cell_type": "markdown",
      "metadata": {
        "id": "MUk6dO4CtO0u"
      },
      "source": [
        "# Voilà & Voilà-gridstack Template"
      ]
    },
    {
      "cell_type": "code",
      "metadata": {
        "colab": {
          "base_uri": "https://localhost:8080/"
        },
        "id": "HdGdDhwstHso",
        "outputId": "af0f933f-f1c8-4e25-bf3d-21567cf02abc"
      },
      "source": [
        "import pandas as pd\n",
        "import ipywidgets\n",
        "import plotly.express as px\n",
        "import ipywidgets as widgets\n",
        "\n",
        "table = pd.read_html('http://floodobservatory.colorado.edu/Archives/MapIndex.htm', header=4)\n",
        "table"
      ],
      "execution_count": 19,
      "outputs": [
        {
          "output_type": "execute_result",
          "data": {
            "text/plain": [
              "[       Year  DFO #  ... Duration  (days) Unnamed: 9\n",
              " 0       NaN    NaN  ...              NaN        NaN\n",
              " 1       NaN    NaN  ...              NaN        NaN\n",
              " 2    2008.0   52.0  ...             14.0        NaN\n",
              " 3    2008.0   35.0  ...              9.0        NaN\n",
              " 4    2008.0    7.0  ...             16.0        NaN\n",
              " ..      ...    ...  ...              ...        ...\n",
              " 388     NaN    NaN  ...              NaN        NaN\n",
              " 389     NaN    NaN  ...              NaN        NaN\n",
              " 390     NaN    NaN  ...              NaN        NaN\n",
              " 391     NaN    NaN  ...              NaN        NaN\n",
              " 392     NaN    NaN  ...              NaN        NaN\n",
              " \n",
              " [393 rows x 10 columns]]"
            ]
          },
          "metadata": {
            "tags": []
          },
          "execution_count": 19
        }
      ]
    },
    {
      "cell_type": "code",
      "metadata": {
        "id": "Guzjx8B5uibw"
      },
      "source": [
        "df = table[0]"
      ],
      "execution_count": 20,
      "outputs": []
    },
    {
      "cell_type": "code",
      "metadata": {
        "colab": {
          "base_uri": "https://localhost:8080/",
          "height": 479
        },
        "id": "5im-iAQytTEt",
        "outputId": "2be476ad-1e25-4eff-839d-cac1222ba845"
      },
      "source": [
        "df['Year'] = pd.to_datetime(df['Began']).dt.year\n",
        "df.head()"
      ],
      "execution_count": 21,
      "outputs": [
        {
          "output_type": "execute_result",
          "data": {
            "text/html": [
              "<div>\n",
              "<style scoped>\n",
              "    .dataframe tbody tr th:only-of-type {\n",
              "        vertical-align: middle;\n",
              "    }\n",
              "\n",
              "    .dataframe tbody tr th {\n",
              "        vertical-align: top;\n",
              "    }\n",
              "\n",
              "    .dataframe thead th {\n",
              "        text-align: right;\n",
              "    }\n",
              "</style>\n",
              "<table border=\"1\" class=\"dataframe\">\n",
              "  <thead>\n",
              "    <tr style=\"text-align: right;\">\n",
              "      <th></th>\n",
              "      <th>Year</th>\n",
              "      <th>DFO #</th>\n",
              "      <th>Glide  Number</th>\n",
              "      <th>Country</th>\n",
              "      <th>Detailed  Locations</th>\n",
              "      <th>Rivers</th>\n",
              "      <th>Began</th>\n",
              "      <th>Ended</th>\n",
              "      <th>Duration  (days)</th>\n",
              "      <th>Unnamed: 9</th>\n",
              "    </tr>\n",
              "  </thead>\n",
              "  <tbody>\n",
              "    <tr>\n",
              "      <th>0</th>\n",
              "      <td>NaN</td>\n",
              "      <td>NaN</td>\n",
              "      <td>NaN</td>\n",
              "      <td>NaN</td>\n",
              "      <td>NaN</td>\n",
              "      <td>NaN</td>\n",
              "      <td>NaN</td>\n",
              "      <td>NaN</td>\n",
              "      <td>NaN</td>\n",
              "      <td>NaN</td>\n",
              "    </tr>\n",
              "    <tr>\n",
              "      <th>1</th>\n",
              "      <td>NaN</td>\n",
              "      <td>NaN</td>\n",
              "      <td>NaN</td>\n",
              "      <td>NaN</td>\n",
              "      <td>NaN</td>\n",
              "      <td>NaN</td>\n",
              "      <td>NaN</td>\n",
              "      <td>NaN</td>\n",
              "      <td>NaN</td>\n",
              "      <td>NaN</td>\n",
              "    </tr>\n",
              "    <tr>\n",
              "      <th>2</th>\n",
              "      <td>2008.0</td>\n",
              "      <td>52.0</td>\n",
              "      <td>TC-2008-000057-MMR  FL-2008-000054-THA</td>\n",
              "      <td>Burma  and Thailand</td>\n",
              "      <td>Burma  - Yangon, Ayeyawaddy, Bago, Mon and Kar...</td>\n",
              "      <td>Irrawaddy delta</td>\n",
              "      <td>3-May-08</td>\n",
              "      <td>16-May-08</td>\n",
              "      <td>14.0</td>\n",
              "      <td>NaN</td>\n",
              "    </tr>\n",
              "    <tr>\n",
              "      <th>3</th>\n",
              "      <td>2008.0</td>\n",
              "      <td>35.0</td>\n",
              "      <td>NaN</td>\n",
              "      <td>USA</td>\n",
              "      <td>USA Midwest  --Missouri - Towns: Springfield, ...</td>\n",
              "      <td>Ohio and Mississippi Rivers and tributaries  -...</td>\n",
              "      <td>17-Mar-08</td>\n",
              "      <td>25-Mar-08</td>\n",
              "      <td>9.0</td>\n",
              "      <td>NaN</td>\n",
              "    </tr>\n",
              "    <tr>\n",
              "      <th>4</th>\n",
              "      <td>2008.0</td>\n",
              "      <td>7.0</td>\n",
              "      <td>FL-2008-000014-AUS GoogleEarth Kmz</td>\n",
              "      <td>Australia</td>\n",
              "      <td>North Queensland - Proserpine, Airlie Beach, T...</td>\n",
              "      <td>Flinders, Don, Proserpine, Burdekin, Haughton....</td>\n",
              "      <td>14-Jan-08</td>\n",
              "      <td>29-Jan-08</td>\n",
              "      <td>16.0</td>\n",
              "      <td>NaN</td>\n",
              "    </tr>\n",
              "  </tbody>\n",
              "</table>\n",
              "</div>"
            ],
            "text/plain": [
              "     Year  DFO #  ... Duration  (days) Unnamed: 9\n",
              "0     NaN    NaN  ...              NaN        NaN\n",
              "1     NaN    NaN  ...              NaN        NaN\n",
              "2  2008.0   52.0  ...             14.0        NaN\n",
              "3  2008.0   35.0  ...              9.0        NaN\n",
              "4  2008.0    7.0  ...             16.0        NaN\n",
              "\n",
              "[5 rows x 10 columns]"
            ]
          },
          "metadata": {
            "tags": []
          },
          "execution_count": 21
        }
      ]
    },
    {
      "cell_type": "code",
      "metadata": {
        "id": "dmWYJaCTvF_m"
      },
      "source": [
        "year_widget1 = widgets.IntRangeSlider(value=[2015, 2020], min=1985,\n",
        "        max=2020, step=1, description='Years:')"
      ],
      "execution_count": 22,
      "outputs": []
    },
    {
      "cell_type": "code",
      "metadata": {
        "id": "I6OVRMgVvY0B"
      },
      "source": [
        "@ipywidgets.interact(year=year_widget1)\n",
        "def geo_plot(year):\n",
        "    fig = px.scatter_geo(\n",
        "        df[df['Year'].between(year[0], year[1])],\n",
        "        lat='lat',\n",
        "        lon='long',\n",
        "        hover_name='Country',\n",
        "        size='Dead',\n",
        "        projection='natural earth',\n",
        "        )fig.show()"
      ],
      "execution_count": null,
      "outputs": []
    }
  ]
}