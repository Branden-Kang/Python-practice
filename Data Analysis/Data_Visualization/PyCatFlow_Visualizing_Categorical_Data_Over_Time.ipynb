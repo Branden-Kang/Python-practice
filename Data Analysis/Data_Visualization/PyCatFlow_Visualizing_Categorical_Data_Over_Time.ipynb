{
  "nbformat": 4,
  "nbformat_minor": 0,
  "metadata": {
    "colab": {
      "name": "PyCatFlow: Visualizing Categorical Data Over Time.ipynb",
      "provenance": [],
      "authorship_tag": "ABX9TyPiiqQjft2eE/3wfMeS10Wx"
    },
    "kernelspec": {
      "name": "python3",
      "display_name": "Python 3"
    },
    "language_info": {
      "name": "python"
    }
  },
  "cells": [
    {
      "cell_type": "markdown",
      "metadata": {
        "id": "dySqft8cuhFe"
      },
      "source": [
        "[Reference](https://github.com/bumatic/PyCatFlow)"
      ]
    },
    {
      "cell_type": "code",
      "metadata": {
        "colab": {
          "base_uri": "https://localhost:8080/"
        },
        "id": "XwBtzO7zuast",
        "outputId": "2f318cad-d353-4f1a-d03a-2f594d88fa2b"
      },
      "source": [
        "!pip install pycatflow"
      ],
      "execution_count": 3,
      "outputs": [
        {
          "output_type": "stream",
          "name": "stdout",
          "text": [
            "Collecting pycatflow\n",
            "  Downloading pycatflow-0.0.8-py3-none-any.whl (10 kB)\n",
            "Requirement already satisfied: matplotlib in /usr/local/lib/python3.7/dist-packages (from pycatflow) (3.2.2)\n",
            "Collecting drawSVG\n",
            "  Downloading drawSvg-1.8.2-py3-none-any.whl (25 kB)\n",
            "Collecting cairoSVG\n",
            "  Downloading CairoSVG-2.5.2-py3-none-any.whl (45 kB)\n",
            "\u001b[K     |████████████████████████████████| 45 kB 3.3 MB/s \n",
            "\u001b[?25hRequirement already satisfied: numpy in /usr/local/lib/python3.7/dist-packages (from drawSVG->pycatflow) (1.19.5)\n",
            "Requirement already satisfied: imageio in /usr/local/lib/python3.7/dist-packages (from drawSVG->pycatflow) (2.4.1)\n",
            "Collecting cairocffi\n",
            "  Downloading cairocffi-1.3.0.tar.gz (88 kB)\n",
            "\u001b[K     |████████████████████████████████| 88 kB 7.2 MB/s \n",
            "\u001b[?25hRequirement already satisfied: defusedxml in /usr/local/lib/python3.7/dist-packages (from cairoSVG->drawSVG->pycatflow) (0.7.1)\n",
            "Collecting cssselect2\n",
            "  Downloading cssselect2-0.4.1-py3-none-any.whl (13 kB)\n",
            "Requirement already satisfied: pillow in /usr/local/lib/python3.7/dist-packages (from cairoSVG->drawSVG->pycatflow) (7.1.2)\n",
            "Collecting tinycss2\n",
            "  Downloading tinycss2-1.1.0-py3-none-any.whl (21 kB)\n",
            "Requirement already satisfied: cffi>=1.1.0 in /usr/local/lib/python3.7/dist-packages (from cairocffi->cairoSVG->drawSVG->pycatflow) (1.14.6)\n",
            "Requirement already satisfied: pycparser in /usr/local/lib/python3.7/dist-packages (from cffi>=1.1.0->cairocffi->cairoSVG->drawSVG->pycatflow) (2.20)\n",
            "Requirement already satisfied: webencodings in /usr/local/lib/python3.7/dist-packages (from cssselect2->cairoSVG->drawSVG->pycatflow) (0.5.1)\n",
            "Requirement already satisfied: kiwisolver>=1.0.1 in /usr/local/lib/python3.7/dist-packages (from matplotlib->pycatflow) (1.3.2)\n",
            "Requirement already satisfied: pyparsing!=2.0.4,!=2.1.2,!=2.1.6,>=2.0.1 in /usr/local/lib/python3.7/dist-packages (from matplotlib->pycatflow) (2.4.7)\n",
            "Requirement already satisfied: python-dateutil>=2.1 in /usr/local/lib/python3.7/dist-packages (from matplotlib->pycatflow) (2.8.2)\n",
            "Requirement already satisfied: cycler>=0.10 in /usr/local/lib/python3.7/dist-packages (from matplotlib->pycatflow) (0.10.0)\n",
            "Requirement already satisfied: six in /usr/local/lib/python3.7/dist-packages (from cycler>=0.10->matplotlib->pycatflow) (1.15.0)\n",
            "Building wheels for collected packages: cairocffi\n",
            "  Building wheel for cairocffi (setup.py) ... \u001b[?25l\u001b[?25hdone\n",
            "  Created wheel for cairocffi: filename=cairocffi-1.3.0-py3-none-any.whl size=89667 sha256=080c422b3428ce98f1cd15b22a509878484347d8b68a33aaf7867359ff5543b6\n",
            "  Stored in directory: /root/.cache/pip/wheels/4e/ca/e1/5c8a9692a27f639a07c949044bec943f26c81cd53d3805319f\n",
            "Successfully built cairocffi\n",
            "Installing collected packages: tinycss2, cssselect2, cairocffi, cairoSVG, drawSVG, pycatflow\n",
            "Successfully installed cairoSVG-2.5.2 cairocffi-1.3.0 cssselect2-0.4.1 drawSVG-1.8.2 pycatflow-0.0.8 tinycss2-1.1.0\n"
          ]
        }
      ]
    },
    {
      "cell_type": "code",
      "metadata": {
        "id": "Ufjmh7kdudhL"
      },
      "source": [
        "import pycatflow as pcf\n",
        "\n",
        "# Loading and parsing data:\n",
        "data = pcf.read_file(\"sample_data_ChatterBot_Requirements.csv\", columns=\"column\", nodes=\"items\", categories=\"category\", column_order=\"column order\")\n",
        "\n",
        "# Generating the visualization\n",
        "viz = pcf.visualize(data, spacing=20, width=800, maxValue=20, minValue=2)\n",
        "viz.savePng('sample_viz.png')\n",
        "viz.saveSvg('sample_viz.svg')\n",
        "viz"
      ],
      "execution_count": 5,
      "outputs": []
    }
  ]
}