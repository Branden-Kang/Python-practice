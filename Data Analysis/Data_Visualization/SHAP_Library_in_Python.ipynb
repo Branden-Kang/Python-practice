{
  "nbformat": 4,
  "nbformat_minor": 0,
  "metadata": {
    "colab": {
      "name": "SHAP Library in Python.ipynb",
      "provenance": [],
      "authorship_tag": "ABX9TyMvcMps/zIzStdA13QbsMwi"
    },
    "kernelspec": {
      "name": "python3",
      "display_name": "Python 3"
    }
  },
  "cells": [
    {
      "cell_type": "markdown",
      "metadata": {
        "id": "j-6XQS4xOV4B"
      },
      "source": [
        "[Reference](https://zachary-a-zazueta.medium.com/shap-library-in-python-80ea1fb64e13)"
      ]
    },
    {
      "cell_type": "code",
      "metadata": {
        "colab": {
          "base_uri": "https://localhost:8080/"
        },
        "id": "8_F_FfTxOSLV",
        "outputId": "e11c6252-d74d-4526-c44c-35ac19f736b4"
      },
      "source": [
        "!pip install shap"
      ],
      "execution_count": 1,
      "outputs": [
        {
          "output_type": "stream",
          "text": [
            "Collecting shap\n",
            "\u001b[?25l  Downloading https://files.pythonhosted.org/packages/44/20/54381999efe3000f70a7f68af79ba857cfa3f82278ab0e02e6ba1c06b002/shap-0.38.1.tar.gz (352kB)\n",
            "\r\u001b[K     |█                               | 10kB 17.2MB/s eta 0:00:01\r\u001b[K     |█▉                              | 20kB 22.4MB/s eta 0:00:01\r\u001b[K     |██▉                             | 30kB 13.2MB/s eta 0:00:01\r\u001b[K     |███▊                            | 40kB 10.1MB/s eta 0:00:01\r\u001b[K     |████▋                           | 51kB 8.0MB/s eta 0:00:01\r\u001b[K     |█████▋                          | 61kB 8.4MB/s eta 0:00:01\r\u001b[K     |██████▌                         | 71kB 8.6MB/s eta 0:00:01\r\u001b[K     |███████▍                        | 81kB 8.7MB/s eta 0:00:01\r\u001b[K     |████████▍                       | 92kB 8.0MB/s eta 0:00:01\r\u001b[K     |█████████▎                      | 102kB 8.6MB/s eta 0:00:01\r\u001b[K     |██████████▎                     | 112kB 8.6MB/s eta 0:00:01\r\u001b[K     |███████████▏                    | 122kB 8.6MB/s eta 0:00:01\r\u001b[K     |████████████                    | 133kB 8.6MB/s eta 0:00:01\r\u001b[K     |█████████████                   | 143kB 8.6MB/s eta 0:00:01\r\u001b[K     |██████████████                  | 153kB 8.6MB/s eta 0:00:01\r\u001b[K     |██████████████▉                 | 163kB 8.6MB/s eta 0:00:01\r\u001b[K     |███████████████▉                | 174kB 8.6MB/s eta 0:00:01\r\u001b[K     |████████████████▊               | 184kB 8.6MB/s eta 0:00:01\r\u001b[K     |█████████████████▊              | 194kB 8.6MB/s eta 0:00:01\r\u001b[K     |██████████████████▋             | 204kB 8.6MB/s eta 0:00:01\r\u001b[K     |███████████████████▌            | 215kB 8.6MB/s eta 0:00:01\r\u001b[K     |████████████████████▌           | 225kB 8.6MB/s eta 0:00:01\r\u001b[K     |█████████████████████▍          | 235kB 8.6MB/s eta 0:00:01\r\u001b[K     |██████████████████████▎         | 245kB 8.6MB/s eta 0:00:01\r\u001b[K     |███████████████████████▎        | 256kB 8.6MB/s eta 0:00:01\r\u001b[K     |████████████████████████▏       | 266kB 8.6MB/s eta 0:00:01\r\u001b[K     |█████████████████████████       | 276kB 8.6MB/s eta 0:00:01\r\u001b[K     |██████████████████████████      | 286kB 8.6MB/s eta 0:00:01\r\u001b[K     |███████████████████████████     | 296kB 8.6MB/s eta 0:00:01\r\u001b[K     |████████████████████████████    | 307kB 8.6MB/s eta 0:00:01\r\u001b[K     |████████████████████████████▉   | 317kB 8.6MB/s eta 0:00:01\r\u001b[K     |█████████████████████████████▊  | 327kB 8.6MB/s eta 0:00:01\r\u001b[K     |██████████████████████████████▊ | 337kB 8.6MB/s eta 0:00:01\r\u001b[K     |███████████████████████████████▋| 348kB 8.6MB/s eta 0:00:01\r\u001b[K     |████████████████████████████████| 358kB 8.6MB/s \n",
            "\u001b[?25hRequirement already satisfied: numpy in /usr/local/lib/python3.6/dist-packages (from shap) (1.19.5)\n",
            "Requirement already satisfied: scipy in /usr/local/lib/python3.6/dist-packages (from shap) (1.4.1)\n",
            "Requirement already satisfied: scikit-learn in /usr/local/lib/python3.6/dist-packages (from shap) (0.22.2.post1)\n",
            "Requirement already satisfied: pandas in /usr/local/lib/python3.6/dist-packages (from shap) (1.1.5)\n",
            "Requirement already satisfied: tqdm>4.25.0 in /usr/local/lib/python3.6/dist-packages (from shap) (4.41.1)\n",
            "Collecting slicer==0.0.7\n",
            "  Downloading https://files.pythonhosted.org/packages/78/c2/b3f55dfdb8af9812fdb9baf70cacf3b9e82e505b2bd4324d588888b81202/slicer-0.0.7-py3-none-any.whl\n",
            "Requirement already satisfied: numba in /usr/local/lib/python3.6/dist-packages (from shap) (0.48.0)\n",
            "Requirement already satisfied: cloudpickle in /usr/local/lib/python3.6/dist-packages (from shap) (1.3.0)\n",
            "Requirement already satisfied: joblib>=0.11 in /usr/local/lib/python3.6/dist-packages (from scikit-learn->shap) (1.0.0)\n",
            "Requirement already satisfied: pytz>=2017.2 in /usr/local/lib/python3.6/dist-packages (from pandas->shap) (2018.9)\n",
            "Requirement already satisfied: python-dateutil>=2.7.3 in /usr/local/lib/python3.6/dist-packages (from pandas->shap) (2.8.1)\n",
            "Requirement already satisfied: llvmlite<0.32.0,>=0.31.0dev0 in /usr/local/lib/python3.6/dist-packages (from numba->shap) (0.31.0)\n",
            "Requirement already satisfied: setuptools in /usr/local/lib/python3.6/dist-packages (from numba->shap) (51.3.3)\n",
            "Requirement already satisfied: six>=1.5 in /usr/local/lib/python3.6/dist-packages (from python-dateutil>=2.7.3->pandas->shap) (1.15.0)\n",
            "Building wheels for collected packages: shap\n",
            "  Building wheel for shap (setup.py) ... \u001b[?25l\u001b[?25hdone\n",
            "  Created wheel for shap: filename=shap-0.38.1-cp36-cp36m-linux_x86_64.whl size=489390 sha256=316a424999ca35564f55c98e0f6a8ff6e8db13a2563f6f11d8608729271b4890\n",
            "  Stored in directory: /root/.cache/pip/wheels/a8/fb/e4/88012be41842b9be62ae18d82d1b1e880daf8539d1fef1fa00\n",
            "Successfully built shap\n",
            "Installing collected packages: slicer, shap\n",
            "Successfully installed shap-0.38.1 slicer-0.0.7\n"
          ],
          "name": "stdout"
        }
      ]
    },
    {
      "cell_type": "code",
      "metadata": {
        "id": "uXrwqDtROYkg"
      },
      "source": [
        "import shap\n",
        "\n",
        "#Load JS visualization code to notebook\n",
        "shap.initjs()\n",
        "\n",
        "explainer = shap.TreeExplainer(xgbclassifier)\n",
        "shap_values = explainer.shap_values(xgbX_train)"
      ],
      "execution_count": 2,
      "outputs": []
    },
    {
      "cell_type": "code",
      "metadata": {
        "id": "7X9EAOKROaMK"
      },
      "source": [
        "shap.summary_plot(shap_values, xgbX_train)"
      ],
      "execution_count": 3,
      "outputs": []
    }
  ]
}