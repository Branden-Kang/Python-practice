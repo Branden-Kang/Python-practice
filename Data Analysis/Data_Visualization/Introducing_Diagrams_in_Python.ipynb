{
  "nbformat": 4,
  "nbformat_minor": 0,
  "metadata": {
    "colab": {
      "name": "Introducing Diagrams in Python.ipynb",
      "provenance": [],
      "authorship_tag": "ABX9TyN06ESF9Ws4/WFjoab2gJbQ"
    },
    "kernelspec": {
      "name": "python3",
      "display_name": "Python 3"
    }
  },
  "cells": [
    {
      "cell_type": "markdown",
      "metadata": {
        "id": "cBkOFYBZzU1p"
      },
      "source": [
        "[Reference](https://medium.com/nerd-for-tech/introducing-diagrams-55b16fa805b9)"
      ]
    },
    {
      "cell_type": "code",
      "metadata": {
        "colab": {
          "base_uri": "https://localhost:8080/"
        },
        "id": "c1eUBBJwzPdm",
        "outputId": "5226e662-9799-451b-e57e-ff6778e8b46c"
      },
      "source": [
        "pip install diagrams"
      ],
      "execution_count": 1,
      "outputs": [
        {
          "output_type": "stream",
          "text": [
            "Collecting diagrams\n",
            "\u001b[?25l  Downloading https://files.pythonhosted.org/packages/af/cd/41229d5c409ce2c670365acc9c6a6f35310902886b467c172c529b7b32ce/diagrams-0.18.0-py3-none-any.whl (16.1MB)\n",
            "\u001b[K     |████████████████████████████████| 16.1MB 322kB/s \n",
            "\u001b[?25hRequirement already satisfied: jinja2<3.0,>=2.10 in /usr/local/lib/python3.6/dist-packages (from diagrams) (2.11.3)\n",
            "Collecting graphviz<0.14.0,>=0.13.2\n",
            "  Downloading https://files.pythonhosted.org/packages/f5/74/dbed754c0abd63768d3a7a7b472da35b08ac442cf87d73d5850a6f32391e/graphviz-0.13.2-py2.py3-none-any.whl\n",
            "Collecting contextvars<3.0,>=2.4; python_version >= \"3.6\" and python_version < \"3.7\"\n",
            "  Downloading https://files.pythonhosted.org/packages/83/96/55b82d9f13763be9d672622e1b8106c85acb83edd7cc2fa5bc67cd9877e9/contextvars-2.4.tar.gz\n",
            "Requirement already satisfied: MarkupSafe>=0.23 in /usr/local/lib/python3.6/dist-packages (from jinja2<3.0,>=2.10->diagrams) (1.1.1)\n",
            "Collecting immutables>=0.9\n",
            "\u001b[?25l  Downloading https://files.pythonhosted.org/packages/4a/52/e64a14a99c509cbdfe0405e9f076aef0331cb9548a3efa1d5bacd524978a/immutables-0.15-cp36-cp36m-manylinux1_x86_64.whl (100kB)\n",
            "\u001b[K     |████████████████████████████████| 102kB 7.5MB/s \n",
            "\u001b[?25hBuilding wheels for collected packages: contextvars\n",
            "  Building wheel for contextvars (setup.py) ... \u001b[?25l\u001b[?25hdone\n",
            "  Created wheel for contextvars: filename=contextvars-2.4-cp36-none-any.whl size=7667 sha256=04415827fcbab10f87f6d2f386992dfa315cee904487755a4a752b756abf33c6\n",
            "  Stored in directory: /root/.cache/pip/wheels/a5/7d/68/1ebae2668bda2228686e3c1cf16f2c2384cea6e9334ad5f6de\n",
            "Successfully built contextvars\n",
            "Installing collected packages: graphviz, immutables, contextvars, diagrams\n",
            "  Found existing installation: graphviz 0.10.1\n",
            "    Uninstalling graphviz-0.10.1:\n",
            "      Successfully uninstalled graphviz-0.10.1\n",
            "Successfully installed contextvars-2.4 diagrams-0.18.0 graphviz-0.13.2 immutables-0.15\n"
          ],
          "name": "stdout"
        }
      ]
    },
    {
      "cell_type": "code",
      "metadata": {
        "id": "u0M5KmtKzWz1"
      },
      "source": [
        "from diagrams import Cluster, Diagram\n",
        "from diagrams.aws.compute import ECS\n",
        "from diagrams.aws.database import ElastiCache, RDS\n",
        "from diagrams.aws.network import ELB\n",
        "from diagrams.aws.network import Route53\n",
        "\n",
        "with Diagram(\"Clustered Web Services\", show=False):\n",
        "    dns = Route53(\"dns\")\n",
        "    lb = ELB(\"lb\")\n",
        "\n",
        "    with Cluster(\"Services\"):\n",
        "        svc_group = [ECS(\"web1\"),\n",
        "                     ECS(\"web2\"),\n",
        "                     ECS(\"web3\")]\n",
        "\n",
        "        with Cluster(\"DB Cluster\"):\n",
        "            db_master = RDS(\"userdb\")\n",
        "            db_master - [RDS(\"userdb readonly\")]\n",
        "\n",
        "        memcached = ElastiCache(\"memcached\")\n",
        "    \n",
        "    #create the graph\n",
        "    dns >> lb >> svc_group\n",
        "    svc_group >> db_master\n",
        "    svc_group >> memcached"
      ],
      "execution_count": 2,
      "outputs": []
    },
    {
      "cell_type": "code",
      "metadata": {
        "id": "NUalhCHwztTd"
      },
      "source": [
        "from diagrams import Cluster, Diagram\n",
        "from diagrams.aws.compute import EC2\n",
        "from diagrams.aws.database import RDS\n",
        "from diagrams.aws.network import ELB\n",
        "from diagrams.aws.network import Route53\n",
        "from diagrams.aws.storage import S3\n",
        "from diagrams.elastic.elasticsearch import Elasticsearch,Logstash\n",
        "\n",
        "graph_attr = {\n",
        "    \"fontsize\": \"45\"\n",
        "}\n",
        "\n",
        "with Diagram(\"Log Search\", direction='TB', show=False, graph_attr=graph_attr):\n",
        "    dns = Route53(\"https://searchlogs.example.com\")\n",
        "    lb = ELB(\"external load balancer\")\n",
        "\n",
        "    with Cluster(\"SPA\"):\n",
        "        client_group = [EC2(\"web1\"),\n",
        "                     EC2(\"web2\"),\n",
        "                     EC2(\"web3\")]\n",
        "\n",
        "    with Cluster(\"API\"):\n",
        "        svc_group = [EC2(\"api1\"),\n",
        "                     EC2(\"api2\"),\n",
        "                     EC2(\"api3\")]\n",
        "\n",
        "    with Cluster(\"DB Cluster\"):\n",
        "        db_master = RDS(\"master\")\n",
        "        db_master - [RDS(\"read-replica1\")]\n",
        "\n",
        "    internal_lb = ELB(\"internal load balancer\")\n",
        "\n",
        "    with Cluster(\"Ingest Nodes\"):\n",
        "        es_master = Elasticsearch(\"master\")\n",
        "        ingest_nodes = [es_master,\n",
        "                        Elasticsearch(\"ingest-node1\"),\n",
        "                        Elasticsearch(\"ingest-node2\")]\n",
        "\n",
        "    with Cluster(\"Query Nodes\"):\n",
        "        query_nodes = [Elasticsearch(\"query-node1\"),\n",
        "                      Elasticsearch(\"query-node2\")]\n",
        "\n",
        "    log_bucket = S3('Log Buckets')\n",
        "\n",
        "    with Cluster(\"Forwarder\"):\n",
        "        internal_lb - [\n",
        "            Logstash('forwarder1'),\n",
        "            Logstash('forwarder2'),\n",
        "            Logstash('forwarder3')\n",
        "        ] - log_bucket\n",
        "\n",
        "    dns >> lb >> client_group\n",
        "    lb >> svc_group >> internal_lb >> es_master\n",
        "    internal_lb >> ingest_nodes\n",
        "    es_master >> query_nodes\n",
        "    svc_group >> db_master"
      ],
      "execution_count": 3,
      "outputs": []
    }
  ]
}