{
  "nbformat": 4,
  "nbformat_minor": 0,
  "metadata": {
    "colab": {
      "name": "Recursion in Python.ipynb",
      "provenance": [],
      "authorship_tag": "ABX9TyOoRgSnkuJ/A0riK7R4yi8T"
    },
    "kernelspec": {
      "name": "python3",
      "display_name": "Python 3"
    }
  },
  "cells": [
    {
      "cell_type": "markdown",
      "metadata": {
        "id": "9MSDx9XasuIv"
      },
      "source": [
        "[Reference](https://medium.com/quick-code/recursion-a-programming-technique-you-should-know-5d1bfcba013d)"
      ]
    },
    {
      "cell_type": "code",
      "metadata": {
        "id": "j_0FzMeYsPCC"
      },
      "source": [
        "def countdown(x):\n",
        "    if x == 0:\n",
        "        print(\"Countdown Completed!\")\n",
        "        return\n",
        "    else:\n",
        "        print(x)\n",
        "        countdown(x-1)"
      ],
      "execution_count": 1,
      "outputs": []
    },
    {
      "cell_type": "code",
      "metadata": {
        "colab": {
          "base_uri": "https://localhost:8080/"
        },
        "id": "CoW3t4HEs0Rl",
        "outputId": "87291dc1-cc11-4f89-9b99-78c73055914b"
      },
      "source": [
        "def power(a, b):\n",
        "    # taking care of special cases first\n",
        "    if b == 0:\n",
        "        return 1\n",
        "    else:\n",
        "        return a * power(a, b-1)\n",
        "power(2, 3) "
      ],
      "execution_count": 2,
      "outputs": [
        {
          "output_type": "execute_result",
          "data": {
            "text/plain": [
              "8"
            ]
          },
          "metadata": {
            "tags": []
          },
          "execution_count": 2
        }
      ]
    },
    {
      "cell_type": "code",
      "metadata": {
        "colab": {
          "base_uri": "https://localhost:8080/"
        },
        "id": "hNC8Y-G9s4M7",
        "outputId": "274d99b2-54ed-4252-b899-598b5af9b360"
      },
      "source": [
        "def factorial(num):\n",
        "    # taking care of special cases first\n",
        "    if (num == 0):\n",
        "        return 1\n",
        "    else:\n",
        "        return num * factorial(num-1)\n",
        "\n",
        "factorial(4)"
      ],
      "execution_count": 3,
      "outputs": [
        {
          "output_type": "execute_result",
          "data": {
            "text/plain": [
              "24"
            ]
          },
          "metadata": {
            "tags": []
          },
          "execution_count": 3
        }
      ]
    }
  ]
}