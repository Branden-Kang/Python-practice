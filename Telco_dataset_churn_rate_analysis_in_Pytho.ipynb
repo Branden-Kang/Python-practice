{
  "nbformat": 4,
  "nbformat_minor": 0,
  "metadata": {
    "colab": {
      "name": "Telco dataset churn rate analysis in Pytho.ipynb",
      "provenance": [],
      "authorship_tag": "ABX9TyMMpr8YvVslkz7GXOdST2SB"
    },
    "kernelspec": {
      "name": "python3",
      "display_name": "Python 3"
    },
    "language_info": {
      "name": "python"
    }
  },
  "cells": [
    {
      "cell_type": "markdown",
      "source": [
        "[Reference](https://medium.com/@KwoVadis/which-customers-are-leaving-telco-dataset-churn-rate-analysis-in-python-7807121b830b)"
      ],
      "metadata": {
        "id": "Hun3Wy687Z87"
      }
    },
    {
      "cell_type": "code",
      "source": [
        "# Import modules\n",
        "import os\n",
        "import numpy as np\n",
        "import pandas as pd\n",
        "import matplotlib.pyplot as plt\n",
        "import seaborn as sns\n",
        "# from sklearn.linear_model import LinearRegression\n",
        "# from sklearn.model_selection import train_test_split\n",
        "# from sklearn.metrics import r2_score, mean_squared_error\n",
        "from sklearn import linear_model # LinearRegression\n",
        "from sklearn import model_selection # train_test_split\n",
        "from sklearn import metrics # r2_score, mean_squared_error\n",
        "# Import required modules\n",
        "from sklearn import preprocessing\n",
        "\n",
        "from IPython.display import display\n",
        "%matplotlib inline\n",
        "\n",
        "cwd = os.getcwd()\n",
        "ls = os.listdir()\n",
        "print(cwd)\n",
        "print(ls)"
      ],
      "metadata": {
        "colab": {
          "base_uri": "https://localhost:8080/"
        },
        "id": "XceZ0K8g5t5g",
        "outputId": "907954ce-d976-4eb7-cc05-7366881b0256"
      },
      "execution_count": 1,
      "outputs": [
        {
          "output_type": "stream",
          "name": "stdout",
          "text": [
            "/content\n",
            "['.config', 'sample_data']\n"
          ]
        }
      ]
    },
    {
      "cell_type": "code",
      "source": [
        "# Import\n",
        "df = pd.read_csv('https://raw.githubusercontent.com/kwovadis/churn_analysis/main/data/WA_Fn-UseC_-Telco-Customer-Churn.csv')\n",
        "\n",
        "# Dataset overview\n",
        "df.head()"
      ],
      "metadata": {
        "colab": {
          "base_uri": "https://localhost:8080/",
          "height": 382
        },
        "id": "je69YYsa5vC1",
        "outputId": "b62fcc93-78b8-409c-a7dd-959e7ae2dc48"
      },
      "execution_count": 2,
      "outputs": [
        {
          "output_type": "execute_result",
          "data": {
            "text/plain": [
              "   customerID  gender  SeniorCitizen Partner Dependents  tenure PhoneService  \\\n",
              "0  7590-VHVEG  Female              0     Yes         No       1           No   \n",
              "1  5575-GNVDE    Male              0      No         No      34          Yes   \n",
              "2  3668-QPYBK    Male              0      No         No       2          Yes   \n",
              "3  7795-CFOCW    Male              0      No         No      45           No   \n",
              "4  9237-HQITU  Female              0      No         No       2          Yes   \n",
              "\n",
              "      MultipleLines InternetService OnlineSecurity  ... DeviceProtection  \\\n",
              "0  No phone service             DSL             No  ...               No   \n",
              "1                No             DSL            Yes  ...              Yes   \n",
              "2                No             DSL            Yes  ...               No   \n",
              "3  No phone service             DSL            Yes  ...              Yes   \n",
              "4                No     Fiber optic             No  ...               No   \n",
              "\n",
              "  TechSupport StreamingTV StreamingMovies        Contract PaperlessBilling  \\\n",
              "0          No          No              No  Month-to-month              Yes   \n",
              "1          No          No              No        One year               No   \n",
              "2          No          No              No  Month-to-month              Yes   \n",
              "3         Yes          No              No        One year               No   \n",
              "4          No          No              No  Month-to-month              Yes   \n",
              "\n",
              "               PaymentMethod MonthlyCharges  TotalCharges Churn  \n",
              "0           Electronic check          29.85         29.85    No  \n",
              "1               Mailed check          56.95        1889.5    No  \n",
              "2               Mailed check          53.85        108.15   Yes  \n",
              "3  Bank transfer (automatic)          42.30       1840.75    No  \n",
              "4           Electronic check          70.70        151.65   Yes  \n",
              "\n",
              "[5 rows x 21 columns]"
            ],
            "text/html": [
              "\n",
              "  <div id=\"df-1e506c43-87b7-4594-b436-66a88bda6288\">\n",
              "    <div class=\"colab-df-container\">\n",
              "      <div>\n",
              "<style scoped>\n",
              "    .dataframe tbody tr th:only-of-type {\n",
              "        vertical-align: middle;\n",
              "    }\n",
              "\n",
              "    .dataframe tbody tr th {\n",
              "        vertical-align: top;\n",
              "    }\n",
              "\n",
              "    .dataframe thead th {\n",
              "        text-align: right;\n",
              "    }\n",
              "</style>\n",
              "<table border=\"1\" class=\"dataframe\">\n",
              "  <thead>\n",
              "    <tr style=\"text-align: right;\">\n",
              "      <th></th>\n",
              "      <th>customerID</th>\n",
              "      <th>gender</th>\n",
              "      <th>SeniorCitizen</th>\n",
              "      <th>Partner</th>\n",
              "      <th>Dependents</th>\n",
              "      <th>tenure</th>\n",
              "      <th>PhoneService</th>\n",
              "      <th>MultipleLines</th>\n",
              "      <th>InternetService</th>\n",
              "      <th>OnlineSecurity</th>\n",
              "      <th>...</th>\n",
              "      <th>DeviceProtection</th>\n",
              "      <th>TechSupport</th>\n",
              "      <th>StreamingTV</th>\n",
              "      <th>StreamingMovies</th>\n",
              "      <th>Contract</th>\n",
              "      <th>PaperlessBilling</th>\n",
              "      <th>PaymentMethod</th>\n",
              "      <th>MonthlyCharges</th>\n",
              "      <th>TotalCharges</th>\n",
              "      <th>Churn</th>\n",
              "    </tr>\n",
              "  </thead>\n",
              "  <tbody>\n",
              "    <tr>\n",
              "      <th>0</th>\n",
              "      <td>7590-VHVEG</td>\n",
              "      <td>Female</td>\n",
              "      <td>0</td>\n",
              "      <td>Yes</td>\n",
              "      <td>No</td>\n",
              "      <td>1</td>\n",
              "      <td>No</td>\n",
              "      <td>No phone service</td>\n",
              "      <td>DSL</td>\n",
              "      <td>No</td>\n",
              "      <td>...</td>\n",
              "      <td>No</td>\n",
              "      <td>No</td>\n",
              "      <td>No</td>\n",
              "      <td>No</td>\n",
              "      <td>Month-to-month</td>\n",
              "      <td>Yes</td>\n",
              "      <td>Electronic check</td>\n",
              "      <td>29.85</td>\n",
              "      <td>29.85</td>\n",
              "      <td>No</td>\n",
              "    </tr>\n",
              "    <tr>\n",
              "      <th>1</th>\n",
              "      <td>5575-GNVDE</td>\n",
              "      <td>Male</td>\n",
              "      <td>0</td>\n",
              "      <td>No</td>\n",
              "      <td>No</td>\n",
              "      <td>34</td>\n",
              "      <td>Yes</td>\n",
              "      <td>No</td>\n",
              "      <td>DSL</td>\n",
              "      <td>Yes</td>\n",
              "      <td>...</td>\n",
              "      <td>Yes</td>\n",
              "      <td>No</td>\n",
              "      <td>No</td>\n",
              "      <td>No</td>\n",
              "      <td>One year</td>\n",
              "      <td>No</td>\n",
              "      <td>Mailed check</td>\n",
              "      <td>56.95</td>\n",
              "      <td>1889.5</td>\n",
              "      <td>No</td>\n",
              "    </tr>\n",
              "    <tr>\n",
              "      <th>2</th>\n",
              "      <td>3668-QPYBK</td>\n",
              "      <td>Male</td>\n",
              "      <td>0</td>\n",
              "      <td>No</td>\n",
              "      <td>No</td>\n",
              "      <td>2</td>\n",
              "      <td>Yes</td>\n",
              "      <td>No</td>\n",
              "      <td>DSL</td>\n",
              "      <td>Yes</td>\n",
              "      <td>...</td>\n",
              "      <td>No</td>\n",
              "      <td>No</td>\n",
              "      <td>No</td>\n",
              "      <td>No</td>\n",
              "      <td>Month-to-month</td>\n",
              "      <td>Yes</td>\n",
              "      <td>Mailed check</td>\n",
              "      <td>53.85</td>\n",
              "      <td>108.15</td>\n",
              "      <td>Yes</td>\n",
              "    </tr>\n",
              "    <tr>\n",
              "      <th>3</th>\n",
              "      <td>7795-CFOCW</td>\n",
              "      <td>Male</td>\n",
              "      <td>0</td>\n",
              "      <td>No</td>\n",
              "      <td>No</td>\n",
              "      <td>45</td>\n",
              "      <td>No</td>\n",
              "      <td>No phone service</td>\n",
              "      <td>DSL</td>\n",
              "      <td>Yes</td>\n",
              "      <td>...</td>\n",
              "      <td>Yes</td>\n",
              "      <td>Yes</td>\n",
              "      <td>No</td>\n",
              "      <td>No</td>\n",
              "      <td>One year</td>\n",
              "      <td>No</td>\n",
              "      <td>Bank transfer (automatic)</td>\n",
              "      <td>42.30</td>\n",
              "      <td>1840.75</td>\n",
              "      <td>No</td>\n",
              "    </tr>\n",
              "    <tr>\n",
              "      <th>4</th>\n",
              "      <td>9237-HQITU</td>\n",
              "      <td>Female</td>\n",
              "      <td>0</td>\n",
              "      <td>No</td>\n",
              "      <td>No</td>\n",
              "      <td>2</td>\n",
              "      <td>Yes</td>\n",
              "      <td>No</td>\n",
              "      <td>Fiber optic</td>\n",
              "      <td>No</td>\n",
              "      <td>...</td>\n",
              "      <td>No</td>\n",
              "      <td>No</td>\n",
              "      <td>No</td>\n",
              "      <td>No</td>\n",
              "      <td>Month-to-month</td>\n",
              "      <td>Yes</td>\n",
              "      <td>Electronic check</td>\n",
              "      <td>70.70</td>\n",
              "      <td>151.65</td>\n",
              "      <td>Yes</td>\n",
              "    </tr>\n",
              "  </tbody>\n",
              "</table>\n",
              "<p>5 rows × 21 columns</p>\n",
              "</div>\n",
              "      <button class=\"colab-df-convert\" onclick=\"convertToInteractive('df-1e506c43-87b7-4594-b436-66a88bda6288')\"\n",
              "              title=\"Convert this dataframe to an interactive table.\"\n",
              "              style=\"display:none;\">\n",
              "        \n",
              "  <svg xmlns=\"http://www.w3.org/2000/svg\" height=\"24px\"viewBox=\"0 0 24 24\"\n",
              "       width=\"24px\">\n",
              "    <path d=\"M0 0h24v24H0V0z\" fill=\"none\"/>\n",
              "    <path d=\"M18.56 5.44l.94 2.06.94-2.06 2.06-.94-2.06-.94-.94-2.06-.94 2.06-2.06.94zm-11 1L8.5 8.5l.94-2.06 2.06-.94-2.06-.94L8.5 2.5l-.94 2.06-2.06.94zm10 10l.94 2.06.94-2.06 2.06-.94-2.06-.94-.94-2.06-.94 2.06-2.06.94z\"/><path d=\"M17.41 7.96l-1.37-1.37c-.4-.4-.92-.59-1.43-.59-.52 0-1.04.2-1.43.59L10.3 9.45l-7.72 7.72c-.78.78-.78 2.05 0 2.83L4 21.41c.39.39.9.59 1.41.59.51 0 1.02-.2 1.41-.59l7.78-7.78 2.81-2.81c.8-.78.8-2.07 0-2.86zM5.41 20L4 18.59l7.72-7.72 1.47 1.35L5.41 20z\"/>\n",
              "  </svg>\n",
              "      </button>\n",
              "      \n",
              "  <style>\n",
              "    .colab-df-container {\n",
              "      display:flex;\n",
              "      flex-wrap:wrap;\n",
              "      gap: 12px;\n",
              "    }\n",
              "\n",
              "    .colab-df-convert {\n",
              "      background-color: #E8F0FE;\n",
              "      border: none;\n",
              "      border-radius: 50%;\n",
              "      cursor: pointer;\n",
              "      display: none;\n",
              "      fill: #1967D2;\n",
              "      height: 32px;\n",
              "      padding: 0 0 0 0;\n",
              "      width: 32px;\n",
              "    }\n",
              "\n",
              "    .colab-df-convert:hover {\n",
              "      background-color: #E2EBFA;\n",
              "      box-shadow: 0px 1px 2px rgba(60, 64, 67, 0.3), 0px 1px 3px 1px rgba(60, 64, 67, 0.15);\n",
              "      fill: #174EA6;\n",
              "    }\n",
              "\n",
              "    [theme=dark] .colab-df-convert {\n",
              "      background-color: #3B4455;\n",
              "      fill: #D2E3FC;\n",
              "    }\n",
              "\n",
              "    [theme=dark] .colab-df-convert:hover {\n",
              "      background-color: #434B5C;\n",
              "      box-shadow: 0px 1px 3px 1px rgba(0, 0, 0, 0.15);\n",
              "      filter: drop-shadow(0px 1px 2px rgba(0, 0, 0, 0.3));\n",
              "      fill: #FFFFFF;\n",
              "    }\n",
              "  </style>\n",
              "\n",
              "      <script>\n",
              "        const buttonEl =\n",
              "          document.querySelector('#df-1e506c43-87b7-4594-b436-66a88bda6288 button.colab-df-convert');\n",
              "        buttonEl.style.display =\n",
              "          google.colab.kernel.accessAllowed ? 'block' : 'none';\n",
              "\n",
              "        async function convertToInteractive(key) {\n",
              "          const element = document.querySelector('#df-1e506c43-87b7-4594-b436-66a88bda6288');\n",
              "          const dataTable =\n",
              "            await google.colab.kernel.invokeFunction('convertToInteractive',\n",
              "                                                     [key], {});\n",
              "          if (!dataTable) return;\n",
              "\n",
              "          const docLinkHtml = 'Like what you see? Visit the ' +\n",
              "            '<a target=\"_blank\" href=https://colab.research.google.com/notebooks/data_table.ipynb>data table notebook</a>'\n",
              "            + ' to learn more about interactive tables.';\n",
              "          element.innerHTML = '';\n",
              "          dataTable['output_type'] = 'display_data';\n",
              "          await google.colab.output.renderOutput(dataTable, element);\n",
              "          const docLink = document.createElement('div');\n",
              "          docLink.innerHTML = docLinkHtml;\n",
              "          element.appendChild(docLink);\n",
              "        }\n",
              "      </script>\n",
              "    </div>\n",
              "  </div>\n",
              "  "
            ]
          },
          "metadata": {},
          "execution_count": 2
        }
      ]
    },
    {
      "cell_type": "code",
      "execution_count": 3,
      "metadata": {
        "colab": {
          "base_uri": "https://localhost:8080/"
        },
        "id": "ZLE0Ve060udu",
        "outputId": "8da3de0a-00a1-4553-a673-7cdfbf3a55f9"
      },
      "outputs": [
        {
          "output_type": "stream",
          "name": "stdout",
          "text": [
            "Number of rows = 7043 & number of columns = 21\n"
          ]
        }
      ],
      "source": [
        "# Rows & columns\n",
        "rows = df.shape[0]\n",
        "cols = df.shape[1]\n",
        "print(f'Number of rows = {rows} & number of columns = {cols}')"
      ]
    },
    {
      "cell_type": "code",
      "source": [
        "# Check dtypes of variables\n",
        "df.dtypes.to_frame().T"
      ],
      "metadata": {
        "colab": {
          "base_uri": "https://localhost:8080/",
          "height": 173
        },
        "id": "SVadzElI5yO7",
        "outputId": "c98a29a0-ec65-436b-f34d-246d6a485f1b"
      },
      "execution_count": 4,
      "outputs": [
        {
          "output_type": "execute_result",
          "data": {
            "text/plain": [
              "  customerID  gender SeniorCitizen Partner Dependents tenure PhoneService  \\\n",
              "0     object  object         int64  object     object  int64       object   \n",
              "\n",
              "  MultipleLines InternetService OnlineSecurity  ... DeviceProtection  \\\n",
              "0        object          object         object  ...           object   \n",
              "\n",
              "  TechSupport StreamingTV StreamingMovies Contract PaperlessBilling  \\\n",
              "0      object      object          object   object           object   \n",
              "\n",
              "  PaymentMethod MonthlyCharges TotalCharges   Churn  \n",
              "0        object        float64       object  object  \n",
              "\n",
              "[1 rows x 21 columns]"
            ],
            "text/html": [
              "\n",
              "  <div id=\"df-05798bbf-b739-4296-b30b-3b2a5f071a9d\">\n",
              "    <div class=\"colab-df-container\">\n",
              "      <div>\n",
              "<style scoped>\n",
              "    .dataframe tbody tr th:only-of-type {\n",
              "        vertical-align: middle;\n",
              "    }\n",
              "\n",
              "    .dataframe tbody tr th {\n",
              "        vertical-align: top;\n",
              "    }\n",
              "\n",
              "    .dataframe thead th {\n",
              "        text-align: right;\n",
              "    }\n",
              "</style>\n",
              "<table border=\"1\" class=\"dataframe\">\n",
              "  <thead>\n",
              "    <tr style=\"text-align: right;\">\n",
              "      <th></th>\n",
              "      <th>customerID</th>\n",
              "      <th>gender</th>\n",
              "      <th>SeniorCitizen</th>\n",
              "      <th>Partner</th>\n",
              "      <th>Dependents</th>\n",
              "      <th>tenure</th>\n",
              "      <th>PhoneService</th>\n",
              "      <th>MultipleLines</th>\n",
              "      <th>InternetService</th>\n",
              "      <th>OnlineSecurity</th>\n",
              "      <th>...</th>\n",
              "      <th>DeviceProtection</th>\n",
              "      <th>TechSupport</th>\n",
              "      <th>StreamingTV</th>\n",
              "      <th>StreamingMovies</th>\n",
              "      <th>Contract</th>\n",
              "      <th>PaperlessBilling</th>\n",
              "      <th>PaymentMethod</th>\n",
              "      <th>MonthlyCharges</th>\n",
              "      <th>TotalCharges</th>\n",
              "      <th>Churn</th>\n",
              "    </tr>\n",
              "  </thead>\n",
              "  <tbody>\n",
              "    <tr>\n",
              "      <th>0</th>\n",
              "      <td>object</td>\n",
              "      <td>object</td>\n",
              "      <td>int64</td>\n",
              "      <td>object</td>\n",
              "      <td>object</td>\n",
              "      <td>int64</td>\n",
              "      <td>object</td>\n",
              "      <td>object</td>\n",
              "      <td>object</td>\n",
              "      <td>object</td>\n",
              "      <td>...</td>\n",
              "      <td>object</td>\n",
              "      <td>object</td>\n",
              "      <td>object</td>\n",
              "      <td>object</td>\n",
              "      <td>object</td>\n",
              "      <td>object</td>\n",
              "      <td>object</td>\n",
              "      <td>float64</td>\n",
              "      <td>object</td>\n",
              "      <td>object</td>\n",
              "    </tr>\n",
              "  </tbody>\n",
              "</table>\n",
              "<p>1 rows × 21 columns</p>\n",
              "</div>\n",
              "      <button class=\"colab-df-convert\" onclick=\"convertToInteractive('df-05798bbf-b739-4296-b30b-3b2a5f071a9d')\"\n",
              "              title=\"Convert this dataframe to an interactive table.\"\n",
              "              style=\"display:none;\">\n",
              "        \n",
              "  <svg xmlns=\"http://www.w3.org/2000/svg\" height=\"24px\"viewBox=\"0 0 24 24\"\n",
              "       width=\"24px\">\n",
              "    <path d=\"M0 0h24v24H0V0z\" fill=\"none\"/>\n",
              "    <path d=\"M18.56 5.44l.94 2.06.94-2.06 2.06-.94-2.06-.94-.94-2.06-.94 2.06-2.06.94zm-11 1L8.5 8.5l.94-2.06 2.06-.94-2.06-.94L8.5 2.5l-.94 2.06-2.06.94zm10 10l.94 2.06.94-2.06 2.06-.94-2.06-.94-.94-2.06-.94 2.06-2.06.94z\"/><path d=\"M17.41 7.96l-1.37-1.37c-.4-.4-.92-.59-1.43-.59-.52 0-1.04.2-1.43.59L10.3 9.45l-7.72 7.72c-.78.78-.78 2.05 0 2.83L4 21.41c.39.39.9.59 1.41.59.51 0 1.02-.2 1.41-.59l7.78-7.78 2.81-2.81c.8-.78.8-2.07 0-2.86zM5.41 20L4 18.59l7.72-7.72 1.47 1.35L5.41 20z\"/>\n",
              "  </svg>\n",
              "      </button>\n",
              "      \n",
              "  <style>\n",
              "    .colab-df-container {\n",
              "      display:flex;\n",
              "      flex-wrap:wrap;\n",
              "      gap: 12px;\n",
              "    }\n",
              "\n",
              "    .colab-df-convert {\n",
              "      background-color: #E8F0FE;\n",
              "      border: none;\n",
              "      border-radius: 50%;\n",
              "      cursor: pointer;\n",
              "      display: none;\n",
              "      fill: #1967D2;\n",
              "      height: 32px;\n",
              "      padding: 0 0 0 0;\n",
              "      width: 32px;\n",
              "    }\n",
              "\n",
              "    .colab-df-convert:hover {\n",
              "      background-color: #E2EBFA;\n",
              "      box-shadow: 0px 1px 2px rgba(60, 64, 67, 0.3), 0px 1px 3px 1px rgba(60, 64, 67, 0.15);\n",
              "      fill: #174EA6;\n",
              "    }\n",
              "\n",
              "    [theme=dark] .colab-df-convert {\n",
              "      background-color: #3B4455;\n",
              "      fill: #D2E3FC;\n",
              "    }\n",
              "\n",
              "    [theme=dark] .colab-df-convert:hover {\n",
              "      background-color: #434B5C;\n",
              "      box-shadow: 0px 1px 3px 1px rgba(0, 0, 0, 0.15);\n",
              "      filter: drop-shadow(0px 1px 2px rgba(0, 0, 0, 0.3));\n",
              "      fill: #FFFFFF;\n",
              "    }\n",
              "  </style>\n",
              "\n",
              "      <script>\n",
              "        const buttonEl =\n",
              "          document.querySelector('#df-05798bbf-b739-4296-b30b-3b2a5f071a9d button.colab-df-convert');\n",
              "        buttonEl.style.display =\n",
              "          google.colab.kernel.accessAllowed ? 'block' : 'none';\n",
              "\n",
              "        async function convertToInteractive(key) {\n",
              "          const element = document.querySelector('#df-05798bbf-b739-4296-b30b-3b2a5f071a9d');\n",
              "          const dataTable =\n",
              "            await google.colab.kernel.invokeFunction('convertToInteractive',\n",
              "                                                     [key], {});\n",
              "          if (!dataTable) return;\n",
              "\n",
              "          const docLinkHtml = 'Like what you see? Visit the ' +\n",
              "            '<a target=\"_blank\" href=https://colab.research.google.com/notebooks/data_table.ipynb>data table notebook</a>'\n",
              "            + ' to learn more about interactive tables.';\n",
              "          element.innerHTML = '';\n",
              "          dataTable['output_type'] = 'display_data';\n",
              "          await google.colab.output.renderOutput(dataTable, element);\n",
              "          const docLink = document.createElement('div');\n",
              "          docLink.innerHTML = docLinkHtml;\n",
              "          element.appendChild(docLink);\n",
              "        }\n",
              "      </script>\n",
              "    </div>\n",
              "  </div>\n",
              "  "
            ]
          },
          "metadata": {},
          "execution_count": 4
        }
      ]
    },
    {
      "cell_type": "code",
      "source": [
        "# Investigate total charges values\n",
        "df[\"TotalCharges\"].head()"
      ],
      "metadata": {
        "colab": {
          "base_uri": "https://localhost:8080/"
        },
        "id": "Zy30u2jV5zZH",
        "outputId": "9e3331d5-3080-4bf0-abf8-6868b83ce503"
      },
      "execution_count": 5,
      "outputs": [
        {
          "output_type": "execute_result",
          "data": {
            "text/plain": [
              "0      29.85\n",
              "1     1889.5\n",
              "2     108.15\n",
              "3    1840.75\n",
              "4     151.65\n",
              "Name: TotalCharges, dtype: object"
            ]
          },
          "metadata": {},
          "execution_count": 5
        }
      ]
    },
    {
      "cell_type": "code",
      "source": [
        "# Number of null or empty strings per variable\n",
        "# Clean up data-set\n",
        "# Nans\n",
        "total_null_count = 0\n",
        "index_null_values = []\n",
        "\n",
        "#Check how many empty & blank strings in table\n",
        "df_objects = df.select_dtypes(include=['object']).copy()\n",
        "for col in df.columns:\n",
        "    # print(col)\n",
        "    if col in df_objects.columns:\n",
        "        # Search for empty strings & blank with regex expression r\"^\\s*$\" in categorical variables\n",
        "        col_null_count = df[df[col].str.contains(r\"^\\s*$\")==True][col].count()\n",
        "        col_index_null_values = df[df[col].str.contains(r\"^\\s*$\")==True].index.tolist()\n",
        "        total_null_count += col_null_count\n",
        "        index_null_values.extend(col_index_null_values)\n",
        "        \n",
        "    else: \n",
        "        # search for NaNs in numeric variabls\n",
        "        col_null_count = df[col].isna().sum()\n",
        "        col_index_null_values = df[np.isnan(df[col])].index.tolist()\n",
        "        total_null_count += col_null_count\n",
        "        index_null_values.extend(col_index_null_values)\n",
        "\n",
        "print(f'Number of nan or empty values in table = {total_null_count}')\n",
        "print(f'Nan or empty table rows: {index_null_values}')"
      ],
      "metadata": {
        "colab": {
          "base_uri": "https://localhost:8080/"
        },
        "id": "TKPKOubm50il",
        "outputId": "42312665-9444-4a41-a4a6-5f4e8091ef38"
      },
      "execution_count": 6,
      "outputs": [
        {
          "output_type": "stream",
          "name": "stdout",
          "text": [
            "Number of nan or empty values in table = 11\n",
            "Nan or empty table rows: [488, 753, 936, 1082, 1340, 3331, 3826, 4380, 5218, 6670, 6754]\n"
          ]
        }
      ]
    },
    {
      "cell_type": "code",
      "source": [
        "# Convert TotalCharges to numeric\n",
        "df_clean = df.drop(index_null_values, inplace=False).copy()\n",
        "df_clean['TotalCharges'] = pd.to_numeric(df_clean['TotalCharges'], errors = 'raise')\n",
        "\n",
        "# New shape of table\n",
        "rows_clean = df_clean.shape[0]\n",
        "cols_clean = df_clean.shape[1]\n",
        "\n",
        "print(f'New number of rows = {rows_clean} vs old number of rows = {rows}')\n",
        "print(f'New number of cols = {cols_clean} vs old number of cols = {cols}')"
      ],
      "metadata": {
        "colab": {
          "base_uri": "https://localhost:8080/"
        },
        "id": "3w5M4d3S52EZ",
        "outputId": "043018ee-1ea4-4ca8-eec9-5dd13b745e10"
      },
      "execution_count": 7,
      "outputs": [
        {
          "output_type": "stream",
          "name": "stdout",
          "text": [
            "New number of rows = 7032 vs old number of rows = 7043\n",
            "New number of cols = 21 vs old number of cols = 21\n"
          ]
        }
      ]
    },
    {
      "cell_type": "code",
      "source": [
        "current_customer = df_clean[df_clean.Churn == 'No'] # Subset df_clean to only those that are currently customers\n",
        "churned_customer = df_clean[df_clean.Churn == 'Yes'] # Subset df_clean to only those that have churned\n",
        "\n",
        "fig = plt.figure()\n",
        "ax = fig.add_axes([0,0,1,1])\n",
        "ax.bar(list(pd.unique(df_clean[\"Churn\"])),[current_customer.shape[0], churned_customer.shape[0]], label=[current_customer.shape[0], churned_customer.shape[0]])\n",
        "ax.legend()\n",
        "ax.set_xlabel('Churned'), ax.set_ylabel('Count'), ax.set_title('Count of churned customers')\n",
        "plt.show()"
      ],
      "metadata": {
        "colab": {
          "base_uri": "https://localhost:8080/",
          "height": 366
        },
        "id": "Ql1iULIz53ST",
        "outputId": "478a277c-dcf0-4182-da60-f3d4c1b686d1"
      },
      "execution_count": 8,
      "outputs": [
        {
          "output_type": "display_data",
          "data": {
            "text/plain": [
              "<Figure size 432x288 with 1 Axes>"
            ],
            "image/png": "[encoded data removed]"
          },
          "metadata": {
            "needs_background": "light"
          }
        }
      ]
    },
    {
      "cell_type": "markdown",
      "source": [
        "# Analyze continuous data\n"
      ],
      "metadata": {
        "id": "k3aWiK6m555R"
      }
    },
    {
      "cell_type": "code",
      "source": [
        "list(df_clean.select_dtypes(exclude=['object']).columns)"
      ],
      "metadata": {
        "colab": {
          "base_uri": "https://localhost:8080/"
        },
        "id": "wIfSkjCe54RU",
        "outputId": "cad83887-7288-46fc-d572-f994c57d8932"
      },
      "execution_count": 9,
      "outputs": [
        {
          "output_type": "execute_result",
          "data": {
            "text/plain": [
              "['SeniorCitizen', 'tenure', 'MonthlyCharges', 'TotalCharges']"
            ]
          },
          "metadata": {},
          "execution_count": 9
        }
      ]
    },
    {
      "cell_type": "code",
      "source": [
        "# Check heatmap of continous variables\n",
        "sns.heatmap(df_clean.corr(), annot=True, fmt='.2f')"
      ],
      "metadata": {
        "colab": {
          "base_uri": "https://localhost:8080/",
          "height": 357
        },
        "id": "y73kvTti58ZV",
        "outputId": "dce3fd11-d3bf-4439-9fbe-5592a7528919"
      },
      "execution_count": 10,
      "outputs": [
        {
          "output_type": "execute_result",
          "data": {
            "text/plain": [
              "<matplotlib.axes._subplots.AxesSubplot at 0x7f9f7056aa10>"
            ]
          },
          "metadata": {},
          "execution_count": 10
        },
        {
          "output_type": "display_data",
          "data": {
            "text/plain": [
              "<Figure size 432x288 with 2 Axes>"
            ],
            "image/png": "[encoded data removed]"
          },
          "metadata": {
            "needs_background": "light"
          }
        }
      ]
    },
    {
      "cell_type": "code",
      "source": [
        "total_charges_customer = df_clean[df_clean.Churn == 'No']['TotalCharges']\n",
        "total_charges_churned = df_clean[df_clean.Churn == 'Yes']['TotalCharges']\n",
        "\n",
        "print(f'Unique values in churned variable: {pd.unique(df_clean[\"Churn\"])}')\n",
        "print(f'Number of customers: {total_charges_customer.shape[0]}')\n",
        "print(f'Number churned: {total_charges_churned.shape[0]}')"
      ],
      "metadata": {
        "colab": {
          "base_uri": "https://localhost:8080/"
        },
        "id": "_zSqrcvi59Tu",
        "outputId": "58cb6a5f-08e8-4707-b467-b61e8d5cdbf1"
      },
      "execution_count": 11,
      "outputs": [
        {
          "output_type": "stream",
          "name": "stdout",
          "text": [
            "Unique values in churned variable: ['No' 'Yes']\n",
            "Number of customers: 5163\n",
            "Number churned: 1869\n"
          ]
        }
      ]
    },
    {
      "cell_type": "code",
      "source": [
        "quantile_labels = total_charges_customer.describe()[-4:-1].index\n",
        "quantiles_customer = total_charges_customer.describe()[-4:-1]\n",
        "quantiles_churned = total_charges_churned.describe()[-4:-1]\n",
        "\n",
        "# Create a table for quantiles & associated values\n",
        "quantiles_customer_and_churned_total = pd.concat([quantiles_customer, quantiles_churned], axis=1)\n",
        "ratio_total = quantiles_customer / quantiles_churned\n",
        "quantiles_customer_and_churned_total = pd.concat([quantiles_customer_and_churned_total, ratio_total], axis=1)\n",
        "quantiles_customer_and_churned_total.columns = ['Customers', 'Churned', 'Customer vs Churned ratio'] \n",
        "quantiles_customer_and_churned_total = quantiles_customer_and_churned_total.style.set_caption(\"Quantiles of total charges of currnet & churned customers\")\n",
        "quantiles_customer_and_churned_total "
      ],
      "metadata": {
        "colab": {
          "base_uri": "https://localhost:8080/",
          "height": 159
        },
        "id": "TMx0_sNo5-3Z",
        "outputId": "163ac19b-1b94-4745-87b8-866a4ecbfd59"
      },
      "execution_count": 12,
      "outputs": [
        {
          "output_type": "execute_result",
          "data": {
            "text/plain": [
              "<pandas.io.formats.style.Styler at 0x7f9f6dc91410>"
            ],
            "text/html": [
              "<style type=\"text/css\">\n",
              "</style>\n",
              "<table id=\"T_6f3b2_\" class=\"dataframe\">\n",
              "  <caption>Quantiles of total charges of currnet & churned customers</caption>\n",
              "  <thead>\n",
              "    <tr>\n",
              "      <th class=\"blank level0\" >&nbsp;</th>\n",
              "      <th class=\"col_heading level0 col0\" >Customers</th>\n",
              "      <th class=\"col_heading level0 col1\" >Churned</th>\n",
              "      <th class=\"col_heading level0 col2\" >Customer vs Churned ratio</th>\n",
              "    </tr>\n",
              "  </thead>\n",
              "  <tbody>\n",
              "    <tr>\n",
              "      <th id=\"T_6f3b2_level0_row0\" class=\"row_heading level0 row0\" >25%</th>\n",
              "      <td id=\"T_6f3b2_row0_col0\" class=\"data row0 col0\" >577.825000</td>\n",
              "      <td id=\"T_6f3b2_row0_col1\" class=\"data row0 col1\" >134.500000</td>\n",
              "      <td id=\"T_6f3b2_row0_col2\" class=\"data row0 col2\" >4.296097</td>\n",
              "    </tr>\n",
              "    <tr>\n",
              "      <th id=\"T_6f3b2_level0_row1\" class=\"row_heading level0 row1\" >50%</th>\n",
              "      <td id=\"T_6f3b2_row1_col0\" class=\"data row1 col0\" >1683.600000</td>\n",
              "      <td id=\"T_6f3b2_row1_col1\" class=\"data row1 col1\" >703.550000</td>\n",
              "      <td id=\"T_6f3b2_row1_col2\" class=\"data row1 col2\" >2.393007</td>\n",
              "    </tr>\n",
              "    <tr>\n",
              "      <th id=\"T_6f3b2_level0_row2\" class=\"row_heading level0 row2\" >75%</th>\n",
              "      <td id=\"T_6f3b2_row2_col0\" class=\"data row2 col0\" >4264.125000</td>\n",
              "      <td id=\"T_6f3b2_row2_col1\" class=\"data row2 col1\" >2331.300000</td>\n",
              "      <td id=\"T_6f3b2_row2_col2\" class=\"data row2 col2\" >1.829076</td>\n",
              "    </tr>\n",
              "  </tbody>\n",
              "</table>\n"
            ]
          },
          "metadata": {},
          "execution_count": 12
        }
      ]
    },
    {
      "cell_type": "code",
      "source": [
        "fig, ax = plt.subplots(figsize = (12,6))\n",
        "# PLOTS\n",
        "# KDE\n",
        "total_charges_customer.plot(kind = \"kde\", color='black', label='customers', ax=ax)\n",
        "total_charges_churned.plot(kind = \"kde\", color='red', label='churned', ax=ax)\n",
        "\n",
        "# Plot percentiles\n",
        "trans = ax.get_xaxis_transform()\n",
        "\n",
        "for i in range(3):\n",
        "    ax.axvline(quantiles_customer[i], color='black', ymax=0.5, alpha = 1, linestyle = \":\")\n",
        "    ax.axvline(total_charges_churned.describe()[-4:-1][i], color='red', ymax=0.75, alpha = 1, linestyle = \":\")\n",
        "    plt.text(quantiles_customer[i], .52, str(quantiles_customer[i]) + '\\n(' + str(quantile_labels[i]) + ')', color = 'black', transform=trans, ha='center', va='bottom')\n",
        "    plt.text(quantiles_churned[i], .77, str(total_charges_churned.describe()[-4:-1][i]) + '\\n(' \n",
        "    + str(quantile_labels[i]) + ')', color = 'red', transform=trans, ha='center', va='bottom')\n",
        "\n",
        "# X & Y labels & title\n",
        "ax.set_xlabel(\"Charges ($)\"), ax.set_ylabel('Frequency'), ax.set_title(\"Total charges of current vs churned customers\")\n",
        "# Configure plot\n",
        "ax.set_xlim(0, 10000)\n",
        "ax.set_ylim(0, 0.001)\n",
        "# ax.tick_params(left = False, bottom = False)\n",
        "ax.set_yticks([])\n",
        "ax.spines[['left', 'right', 'top']].set_visible(False)\n",
        "ax.legend()"
      ],
      "metadata": {
        "colab": {
          "base_uri": "https://localhost:8080/",
          "height": 590
        },
        "id": "E-XyUO6X5_5F",
        "outputId": "83719839-c7fd-40a9-a7b6-1a8dedc4b486"
      },
      "execution_count": 13,
      "outputs": [
        {
          "output_type": "error",
          "ename": "TypeError",
          "evalue": "ignored",
          "traceback": [
            "\u001b[0;31m---------------------------------------------------------------------------\u001b[0m",
            "\u001b[0;31mTypeError\u001b[0m                                 Traceback (most recent call last)",
            "\u001b[0;32m<ipython-input-13-dcb08e073697>\u001b[0m in \u001b[0;36m<module>\u001b[0;34m()\u001b[0m\n\u001b[1;32m     22\u001b[0m \u001b[0;31m# ax.tick_params(left = False, bottom = False)\u001b[0m\u001b[0;34m\u001b[0m\u001b[0;34m\u001b[0m\u001b[0;34m\u001b[0m\u001b[0m\n\u001b[1;32m     23\u001b[0m \u001b[0max\u001b[0m\u001b[0;34m.\u001b[0m\u001b[0mset_yticks\u001b[0m\u001b[0;34m(\u001b[0m\u001b[0;34m[\u001b[0m\u001b[0;34m]\u001b[0m\u001b[0;34m)\u001b[0m\u001b[0;34m\u001b[0m\u001b[0;34m\u001b[0m\u001b[0m\n\u001b[0;32m---> 24\u001b[0;31m \u001b[0max\u001b[0m\u001b[0;34m.\u001b[0m\u001b[0mspines\u001b[0m\u001b[0;34m[\u001b[0m\u001b[0;34m[\u001b[0m\u001b[0;34m'left'\u001b[0m\u001b[0;34m,\u001b[0m \u001b[0;34m'right'\u001b[0m\u001b[0;34m,\u001b[0m \u001b[0;34m'top'\u001b[0m\u001b[0;34m]\u001b[0m\u001b[0;34m]\u001b[0m\u001b[0;34m.\u001b[0m\u001b[0mset_visible\u001b[0m\u001b[0;34m(\u001b[0m\u001b[0;32mFalse\u001b[0m\u001b[0;34m)\u001b[0m\u001b[0;34m\u001b[0m\u001b[0;34m\u001b[0m\u001b[0m\n\u001b[0m\u001b[1;32m     25\u001b[0m \u001b[0max\u001b[0m\u001b[0;34m.\u001b[0m\u001b[0mlegend\u001b[0m\u001b[0;34m(\u001b[0m\u001b[0;34m)\u001b[0m\u001b[0;34m\u001b[0m\u001b[0;34m\u001b[0m\u001b[0m\n",
            "\u001b[0;31mTypeError\u001b[0m: unhashable type: 'list'"
          ]
        },
        {
          "output_type": "display_data",
          "data": {
            "text/plain": [
              "<Figure size 864x432 with 1 Axes>"
            ],
            "image/png": "[encoded data removed]"
          },
          "metadata": {
            "needs_background": "light"
          }
        }
      ]
    },
    {
      "cell_type": "code",
      "source": [
        "# filter data\n",
        "# ALL customers - split data set into customers vs churned \n",
        "monthly_charges_customer = df_clean[df_clean.Churn == 'No']['MonthlyCharges']\n",
        "monthly_charges_churned = df_clean[df_clean.Churn == 'Yes']['MonthlyCharges']\n",
        "\n",
        "print(f'Number of customers: {monthly_charges_customer.shape[0]}')\n",
        "print(f'Number churned customers: {monthly_charges_churned.shape[0]}')\n",
        "\n",
        "# OLD cusomers - split data set into old customers vs old churned (without new customers where TotalCharges = 0)\n",
        "monthly_charges_customer_old = df_clean[(df_clean.Churn == 'No') & (df_clean.TotalCharges != 0)]['MonthlyCharges'] \n",
        "monthly_charges_churned_old = df_clean[(df_clean.Churn == 'Yes') & (df_clean.TotalCharges != 0)]['MonthlyCharges']\n",
        "\n",
        "# print(f'Number of old customers: {monthly_charges_customer_old.shape[0]}')\n",
        "# print(f'Number of old churned customers: {monthly_charges_churned_old.shape[0]}')\n",
        "\n",
        "print(f'Number of old customers (where total charges > 0) = total number of customers: {monthly_charges_customer_old.shape[0] == monthly_charges_customer.shape[0]}')\n"
      ],
      "metadata": {
        "colab": {
          "base_uri": "https://localhost:8080/"
        },
        "id": "oc3W9aex6CFG",
        "outputId": "b45d9d66-0f65-4e10-ce2c-e0c13dfd2c67"
      },
      "execution_count": 14,
      "outputs": [
        {
          "output_type": "stream",
          "name": "stdout",
          "text": [
            "Number of customers: 5163\n",
            "Number churned customers: 1869\n",
            "Number of old customers (where total charges > 0) = total number of customers: True\n"
          ]
        }
      ]
    },
    {
      "cell_type": "code",
      "source": [
        "quantile_labels = monthly_charges_customer.describe()[-4:-1].index\n",
        "quantiles_customer_monthly = monthly_charges_customer.describe()[-4:-1]\n",
        "quantiles_churned_monthly = monthly_charges_churned.describe()[-4:-1]\n",
        "\n",
        "# Compare statistics of all vs old customers\n",
        "ratio_all_monthly = quantiles_customer_monthly / quantiles_churned_monthly\n",
        "quantiles_customer_and_churned_monthly = pd.concat([quantiles_customer_monthly, quantiles_churned_monthly, ratio_all_monthly], axis=1)\n",
        "quantiles_customer_and_churned_monthly.columns = ['Customers', 'Churned', 'Customers vs churned ratio'] \n",
        "quantiles_customer_and_churned_monthly = quantiles_customer_and_churned_monthly.style.set_caption(\"Quantiles of monthly charges of current & churned customers\")\n",
        "quantiles_customer_and_churned_monthly "
      ],
      "metadata": {
        "colab": {
          "base_uri": "https://localhost:8080/",
          "height": 159
        },
        "id": "gxpb_DPn6D9_",
        "outputId": "f8ee50d5-f036-4233-8774-2f489ef1168c"
      },
      "execution_count": 15,
      "outputs": [
        {
          "output_type": "execute_result",
          "data": {
            "text/plain": [
              "<pandas.io.formats.style.Styler at 0x7f9f6b79bed0>"
            ],
            "text/html": [
              "<style type=\"text/css\">\n",
              "</style>\n",
              "<table id=\"T_eb548_\" class=\"dataframe\">\n",
              "  <caption>Quantiles of monthly charges of current & churned customers</caption>\n",
              "  <thead>\n",
              "    <tr>\n",
              "      <th class=\"blank level0\" >&nbsp;</th>\n",
              "      <th class=\"col_heading level0 col0\" >Customers</th>\n",
              "      <th class=\"col_heading level0 col1\" >Churned</th>\n",
              "      <th class=\"col_heading level0 col2\" >Customers vs churned ratio</th>\n",
              "    </tr>\n",
              "  </thead>\n",
              "  <tbody>\n",
              "    <tr>\n",
              "      <th id=\"T_eb548_level0_row0\" class=\"row_heading level0 row0\" >25%</th>\n",
              "      <td id=\"T_eb548_row0_col0\" class=\"data row0 col0\" >25.100000</td>\n",
              "      <td id=\"T_eb548_row0_col1\" class=\"data row0 col1\" >56.150000</td>\n",
              "      <td id=\"T_eb548_row0_col2\" class=\"data row0 col2\" >0.447017</td>\n",
              "    </tr>\n",
              "    <tr>\n",
              "      <th id=\"T_eb548_level0_row1\" class=\"row_heading level0 row1\" >50%</th>\n",
              "      <td id=\"T_eb548_row1_col0\" class=\"data row1 col0\" >64.450000</td>\n",
              "      <td id=\"T_eb548_row1_col1\" class=\"data row1 col1\" >79.650000</td>\n",
              "      <td id=\"T_eb548_row1_col2\" class=\"data row1 col2\" >0.809165</td>\n",
              "    </tr>\n",
              "    <tr>\n",
              "      <th id=\"T_eb548_level0_row2\" class=\"row_heading level0 row2\" >75%</th>\n",
              "      <td id=\"T_eb548_row2_col0\" class=\"data row2 col0\" >88.475000</td>\n",
              "      <td id=\"T_eb548_row2_col1\" class=\"data row2 col1\" >94.200000</td>\n",
              "      <td id=\"T_eb548_row2_col2\" class=\"data row2 col2\" >0.939225</td>\n",
              "    </tr>\n",
              "  </tbody>\n",
              "</table>\n"
            ]
          },
          "metadata": {},
          "execution_count": 15
        }
      ]
    },
    {
      "cell_type": "code",
      "source": [
        "fig, ax = plt.subplots(figsize = (16,6))\n",
        "\n",
        "# FIGURE 1\n",
        "# PLOTS\n",
        "# KDE\n",
        "monthly_charges_customer.plot(kind = \"kde\", color='black', label='Customers', ax=ax)\n",
        "monthly_charges_churned.plot(kind = \"kde\", color='red', label='Churned', ax=ax)\n",
        "\n",
        "# Plot percentiles\n",
        "# monthly_charges_customer.plot(kind = \"kde\", color='black', label='MonthlyCharges')\n",
        "# monthly_charges_churned.plot(kind = \"kde\", color='red', label='MonthlyCharges')\n",
        "trans = ax.get_xaxis_transform()\n",
        "\n",
        "for i in range(3):\n",
        "    ax.axvline(quantiles_customer_monthly[i], color='black', ymax=0.5, alpha = 1, linestyle = \":\")\n",
        "    ax.axvline(quantiles_churned_monthly[i], color='red', ymax=0.75, alpha = 1, linestyle = \":\")\n",
        "    plt.text(quantiles_customer_monthly[i], .52, str(quantiles_customer_monthly[i]) + '\\n(' + str(quantile_labels[i]) + ')', color = 'black', transform=trans, ha='center', va='bottom')\n",
        "    plt.text(quantiles_churned_monthly[i], .77, str(quantiles_churned_monthly[i]) + '\\n(' + str(quantile_labels[i])+ ')', color = 'red', transform=trans, ha='center', va='bottom')\n",
        "\n",
        "# X & Y labels & title\n",
        "ax.set_xlabel(\"Charges ($)\"), ax.set_ylabel('Frequency'), ax.set_title(\"Monthly charges of current vs churned customers\")\n",
        "# Configure plot\n",
        "ax.set_xlim(0, 140), ax.set_ylim(0, 0.05)\n",
        "# ax.tick_params(left = False, bottom = False)\n",
        "ax.set_yticks([])\n",
        "ax.spines[['left', 'right', 'top']].set_visible(False)\n",
        "ax.legend()"
      ],
      "metadata": {
        "colab": {
          "base_uri": "https://localhost:8080/",
          "height": 511
        },
        "id": "70WW0Y3e6FUb",
        "outputId": "13f0be1e-6b73-49b0-ec1b-a6ed603385b6"
      },
      "execution_count": 16,
      "outputs": [
        {
          "output_type": "error",
          "ename": "TypeError",
          "evalue": "ignored",
          "traceback": [
            "\u001b[0;31m---------------------------------------------------------------------------\u001b[0m",
            "\u001b[0;31mTypeError\u001b[0m                                 Traceback (most recent call last)",
            "\u001b[0;32m<ipython-input-16-e4257f031539>\u001b[0m in \u001b[0;36m<module>\u001b[0;34m()\u001b[0m\n\u001b[1;32m     24\u001b[0m \u001b[0;31m# ax.tick_params(left = False, bottom = False)\u001b[0m\u001b[0;34m\u001b[0m\u001b[0;34m\u001b[0m\u001b[0;34m\u001b[0m\u001b[0m\n\u001b[1;32m     25\u001b[0m \u001b[0max\u001b[0m\u001b[0;34m.\u001b[0m\u001b[0mset_yticks\u001b[0m\u001b[0;34m(\u001b[0m\u001b[0;34m[\u001b[0m\u001b[0;34m]\u001b[0m\u001b[0;34m)\u001b[0m\u001b[0;34m\u001b[0m\u001b[0;34m\u001b[0m\u001b[0m\n\u001b[0;32m---> 26\u001b[0;31m \u001b[0max\u001b[0m\u001b[0;34m.\u001b[0m\u001b[0mspines\u001b[0m\u001b[0;34m[\u001b[0m\u001b[0;34m[\u001b[0m\u001b[0;34m'left'\u001b[0m\u001b[0;34m,\u001b[0m \u001b[0;34m'right'\u001b[0m\u001b[0;34m,\u001b[0m \u001b[0;34m'top'\u001b[0m\u001b[0;34m]\u001b[0m\u001b[0;34m]\u001b[0m\u001b[0;34m.\u001b[0m\u001b[0mset_visible\u001b[0m\u001b[0;34m(\u001b[0m\u001b[0;32mFalse\u001b[0m\u001b[0;34m)\u001b[0m\u001b[0;34m\u001b[0m\u001b[0;34m\u001b[0m\u001b[0m\n\u001b[0m\u001b[1;32m     27\u001b[0m \u001b[0max\u001b[0m\u001b[0;34m.\u001b[0m\u001b[0mlegend\u001b[0m\u001b[0;34m(\u001b[0m\u001b[0;34m)\u001b[0m\u001b[0;34m\u001b[0m\u001b[0;34m\u001b[0m\u001b[0m\n",
            "\u001b[0;31mTypeError\u001b[0m: unhashable type: 'list'"
          ]
        },
        {
          "output_type": "display_data",
          "data": {
            "text/plain": [
              "<Figure size 1152x432 with 1 Axes>"
            ],
            "image/png": "[encoded data removed]"
          },
          "metadata": {
            "needs_background": "light"
          }
        }
      ]
    },
    {
      "cell_type": "code",
      "source": [
        "# Create series of tenure of current & churned customers\n",
        "tenure_customer = df_clean[df_clean.Churn == 'No']['tenure']#.value_counts(normalize=True, bins = [0.001,1,2,3,4,5,10,15,20,30,40,50,60], sort=False)\n",
        "tenure_churned = df_clean[df_clean.Churn == 'Yes']['tenure']#.value_counts(normalize=True, bins = [0.001,1,2,3,4,5,10,15,20,30,40,50,60], sort=False)"
      ],
      "metadata": {
        "id": "CNLfFE2f6GeL"
      },
      "execution_count": 17,
      "outputs": []
    },
    {
      "cell_type": "code",
      "source": [
        "def merged_variable_statistics_current_vs_churned(current, churned, columns = ['Current', 'Churned', 'Current vs churned ratio'], title='Title'):\n",
        "    #Get quantiles\n",
        "    quantile_labels = current.describe()[-4:-1].index\n",
        "    quantiles_current = current.describe()[-4:-1]\n",
        "    quantiles_churned = churned.describe()[-4:-1]\n",
        "    # Compare statistics of all vs old customers\n",
        "    ratio = quantiles_current / quantiles_churned\n",
        "    quantile_values = pd.concat([quantiles_current, quantiles_churned, ratio], axis=1)\n",
        "    quantile_values.columns = columns\n",
        "    quantiles_current_and_churned = quantile_values.style.set_caption(title)\n",
        "    display(quantiles_current_and_churned)\n",
        "    return quantile_labels, quantile_values"
      ],
      "metadata": {
        "id": "z4z3aMPK6THi"
      },
      "execution_count": 19,
      "outputs": []
    },
    {
      "cell_type": "code",
      "source": [
        "quantile_labels, quantile_values = merged_variable_statistics_current_vs_churned(tenure_customer, tenure_churned, title='Quantiles of tenure of current & churned customers')"
      ],
      "metadata": {
        "colab": {
          "base_uri": "https://localhost:8080/",
          "height": 159
        },
        "id": "fOXFPuk36HrK",
        "outputId": "16bfc5a1-eaf5-4179-85bd-3c6bb7962f4f"
      },
      "execution_count": 20,
      "outputs": [
        {
          "output_type": "display_data",
          "data": {
            "text/plain": [
              "<pandas.io.formats.style.Styler at 0x7f9f6b72ff90>"
            ],
            "text/html": [
              "<style type=\"text/css\">\n",
              "</style>\n",
              "<table id=\"T_08c11_\" class=\"dataframe\">\n",
              "  <caption>Quantiles of tenure of current & churned customers</caption>\n",
              "  <thead>\n",
              "    <tr>\n",
              "      <th class=\"blank level0\" >&nbsp;</th>\n",
              "      <th class=\"col_heading level0 col0\" >Current</th>\n",
              "      <th class=\"col_heading level0 col1\" >Churned</th>\n",
              "      <th class=\"col_heading level0 col2\" >Current vs churned ratio</th>\n",
              "    </tr>\n",
              "  </thead>\n",
              "  <tbody>\n",
              "    <tr>\n",
              "      <th id=\"T_08c11_level0_row0\" class=\"row_heading level0 row0\" >25%</th>\n",
              "      <td id=\"T_08c11_row0_col0\" class=\"data row0 col0\" >15.000000</td>\n",
              "      <td id=\"T_08c11_row0_col1\" class=\"data row0 col1\" >2.000000</td>\n",
              "      <td id=\"T_08c11_row0_col2\" class=\"data row0 col2\" >7.500000</td>\n",
              "    </tr>\n",
              "    <tr>\n",
              "      <th id=\"T_08c11_level0_row1\" class=\"row_heading level0 row1\" >50%</th>\n",
              "      <td id=\"T_08c11_row1_col0\" class=\"data row1 col0\" >38.000000</td>\n",
              "      <td id=\"T_08c11_row1_col1\" class=\"data row1 col1\" >10.000000</td>\n",
              "      <td id=\"T_08c11_row1_col2\" class=\"data row1 col2\" >3.800000</td>\n",
              "    </tr>\n",
              "    <tr>\n",
              "      <th id=\"T_08c11_level0_row2\" class=\"row_heading level0 row2\" >75%</th>\n",
              "      <td id=\"T_08c11_row2_col0\" class=\"data row2 col0\" >61.000000</td>\n",
              "      <td id=\"T_08c11_row2_col1\" class=\"data row2 col1\" >29.000000</td>\n",
              "      <td id=\"T_08c11_row2_col2\" class=\"data row2 col2\" >2.103448</td>\n",
              "    </tr>\n",
              "  </tbody>\n",
              "</table>\n"
            ]
          },
          "metadata": {}
        }
      ]
    },
    {
      "cell_type": "code",
      "source": [
        "fig, ax = plt.subplots(figsize = (16,6))\n",
        "# FIGURE 1\n",
        "# PLOTS\n",
        "# KDE\n",
        "tenure_customer.plot(kind = \"kde\", color='black', label='Customers', ax=ax)\n",
        "tenure_churned.plot(kind = \"kde\", color='red', label='Churned', ax=ax)\n",
        "\n",
        "# # Plot percentiles\n",
        "trans = ax.get_xaxis_transform()\n",
        "ax.axvline(quantile_values['Current']['50%'], color='black', ymax=0.5, alpha = 1, linestyle = \":\")\n",
        "ax.axvline(quantile_values['Churned']['50%'], color='red', ymax=0.75, alpha = 1, linestyle = \":\")\n",
        "plt.text(quantile_values['Current']['50%'], .52, str(quantile_values['Current']['50%']) +  '\\n(' + str(quantile_labels[1]) + ')', color = 'black', transform=trans, ha='center', va='bottom')\n",
        "plt.text(quantile_values['Churned']['50%'], .77, str(quantile_values['Churned']['50%']) +  '\\n(' + str(quantile_labels[1]) + ')', color = 'red', transform=trans, ha='center', va='bottom')\n",
        "\n",
        "# X & Y labels & title\n",
        "ax.set_xlabel(\"Tenure (Months)\"), ax.set_ylabel('Frequency'), ax.set_title(\"Tenure of current vs churned customers\")\n",
        "# Configure plot\n",
        "ax.set_xlim(0, 90), ax.set_ylim(0, 0.05)\n",
        "ax.set_yticks([])\n",
        "# ax.spines[['left', 'right', 'top']].set_visible(False)\n",
        "ax.legend()"
      ],
      "metadata": {
        "colab": {
          "base_uri": "https://localhost:8080/",
          "height": 297
        },
        "id": "1EaM6bPI6O7c",
        "outputId": "7f6d435b-dcac-4df5-9ca0-8c4a0e5751c9"
      },
      "execution_count": 24,
      "outputs": [
        {
          "output_type": "execute_result",
          "data": {
            "text/plain": [
              "<matplotlib.legend.Legend at 0x7f9f6b538ed0>"
            ]
          },
          "metadata": {},
          "execution_count": 24
        },
        {
          "output_type": "display_data",
          "data": {
            "text/plain": [
              "<Figure size 1152x432 with 1 Axes>"
            ],
            "image/png": "[encoded data removed]"
          },
          "metadata": {
            "needs_background": "light"
          }
        }
      ]
    },
    {
      "cell_type": "markdown",
      "source": [
        "# Analyze categorical data"
      ],
      "metadata": {
        "id": "zRNhJvU16Vib"
      }
    },
    {
      "cell_type": "code",
      "source": [
        "print(\"Categorical data: \", list(df_clean.select_dtypes(include=['object']).columns))"
      ],
      "metadata": {
        "colab": {
          "base_uri": "https://localhost:8080/"
        },
        "id": "xAC4lDah6ULS",
        "outputId": "ba4918c2-189d-46b9-872b-e5566fc70627"
      },
      "execution_count": 25,
      "outputs": [
        {
          "output_type": "stream",
          "name": "stdout",
          "text": [
            "Categorical data:  ['customerID', 'gender', 'Partner', 'Dependents', 'PhoneService', 'MultipleLines', 'InternetService', 'OnlineSecurity', 'OnlineBackup', 'DeviceProtection', 'TechSupport', 'StreamingTV', 'StreamingMovies', 'Contract', 'PaperlessBilling', 'PaymentMethod', 'Churn']\n"
          ]
        }
      ]
    },
    {
      "cell_type": "code",
      "source": [
        "categories = ['gender', 'Partner', 'Dependents', 'PhoneService', 'MultipleLines', 'InternetService', \n",
        "'OnlineSecurity', 'OnlineBackup', 'DeviceProtection', 'TechSupport', 'StreamingTV', 'StreamingMovies', \n",
        "'Contract', 'PaperlessBilling', 'PaymentMethod']"
      ],
      "metadata": {
        "id": "C59o6d5S6bBZ"
      },
      "execution_count": 26,
      "outputs": []
    },
    {
      "cell_type": "code",
      "source": [
        "print(\"Categories\")\n",
        "for col in df_clean.columns:\n",
        "       if col in categories:\n",
        "              print(col, '\\t', df_clean[col].unique(), '\\t length: ', len(df_clean[col].unique()))\n"
      ],
      "metadata": {
        "colab": {
          "base_uri": "https://localhost:8080/"
        },
        "id": "ajuKLQjN6cVa",
        "outputId": "1223d731-351f-4366-a98c-1af0ba69e1c6"
      },
      "execution_count": 28,
      "outputs": [
        {
          "output_type": "stream",
          "name": "stdout",
          "text": [
            "Categories\n",
            "gender \t ['Female' 'Male'] \t length:  2\n",
            "Partner \t ['Yes' 'No'] \t length:  2\n",
            "Dependents \t ['No' 'Yes'] \t length:  2\n",
            "PhoneService \t ['No' 'Yes'] \t length:  2\n",
            "MultipleLines \t ['No phone service' 'No' 'Yes'] \t length:  3\n",
            "InternetService \t ['DSL' 'Fiber optic' 'No'] \t length:  3\n",
            "OnlineSecurity \t ['No' 'Yes' 'No internet service'] \t length:  3\n",
            "OnlineBackup \t ['Yes' 'No' 'No internet service'] \t length:  3\n",
            "DeviceProtection \t ['No' 'Yes' 'No internet service'] \t length:  3\n",
            "TechSupport \t ['No' 'Yes' 'No internet service'] \t length:  3\n",
            "StreamingTV \t ['No' 'Yes' 'No internet service'] \t length:  3\n",
            "StreamingMovies \t ['No' 'Yes' 'No internet service'] \t length:  3\n",
            "Contract \t ['Month-to-month' 'One year' 'Two year'] \t length:  3\n",
            "PaperlessBilling \t ['Yes' 'No'] \t length:  2\n",
            "PaymentMethod \t ['Electronic check' 'Mailed check' 'Bank transfer (automatic)'\n",
            " 'Credit card (automatic)'] \t length:  4\n"
          ]
        }
      ]
    },
    {
      "cell_type": "code",
      "source": [
        "# floor()\n",
        "int(np.ceil(len(categories) / 3))"
      ],
      "metadata": {
        "colab": {
          "base_uri": "https://localhost:8080/"
        },
        "id": "B22hqzhF6tlI",
        "outputId": "9703019f-5916-4944-bb04-9a075a0b5ef4"
      },
      "execution_count": 29,
      "outputs": [
        {
          "output_type": "execute_result",
          "data": {
            "text/plain": [
              "5"
            ]
          },
          "metadata": {},
          "execution_count": 29
        }
      ]
    },
    {
      "cell_type": "code",
      "source": [
        "def categorical_analysis_plots(df_clean, categories):\n",
        "\n",
        "    fig, axes = plt.subplots(int(np.ceil(len(categories) / 3)), 3, figsize=(16, 16))\n",
        "    fig.suptitle('Categorical data')\n",
        "    i_idx = 0\n",
        "    j_idx = 0\n",
        "\n",
        "    for cat in categories:\n",
        "        sns.countplot(ax = axes[i_idx, j_idx], x=cat, hue=\"Churn\", data=df_clean).set(title=f'{cat}')\n",
        "        if len(df_clean[cat].unique()) > 3:\n",
        "            axes[i_idx, j_idx].set_xticklabels(axes[i_idx, j_idx].get_xticklabels(), rotation=40, ha=\"right\")\n",
        "\n",
        "        j_idx += 1\n",
        "        if j_idx > 2:\n",
        "            j_idx = 0\n",
        "            i_idx += 1\n",
        "    plt.tight_layout()"
      ],
      "metadata": {
        "id": "0te7-oTA6whi"
      },
      "execution_count": 30,
      "outputs": []
    },
    {
      "cell_type": "code",
      "source": [
        "categorical_analysis_plots(df_clean, categories)"
      ],
      "metadata": {
        "colab": {
          "base_uri": "https://localhost:8080/",
          "height": 648
        },
        "id": "-naHI02e6xj2",
        "outputId": "34106acd-6783-4f6d-b6d8-1befb4f6c145"
      },
      "execution_count": 31,
      "outputs": [
        {
          "output_type": "display_data",
          "data": {
            "text/plain": [
              "<Figure size 1152x1152 with 15 Axes>"
            ],
            "image/png": "[encoded data removed]"
          },
          "metadata": {
            "needs_background": "light"
          }
        }
      ]
    },
    {
      "cell_type": "code",
      "source": [
        "from collections import defaultdict\n",
        "\n",
        "# Function taken from UDACITY data science class\n",
        "def total_count(df, col1, col2, look_for):\n",
        "    new_df = defaultdict(int)\n",
        "    #loop through list of ed types\n",
        "    for val in look_for:\n",
        "        #loop through rows\n",
        "        for idx in range(df.shape[0]):\n",
        "            #if the ed type is in the row add 1\n",
        "            if val in df[col1][idx]:\n",
        "                new_df[val] += int(df[col2][idx])\n",
        "    new_df = pd.DataFrame(pd.Series(new_df)).reset_index()\n",
        "    new_df.columns = [col1, col2]\n",
        "    new_df.sort_values('count', ascending=False, inplace=True)\n",
        "    return new_df\n",
        "\n",
        "\n",
        "possible_vals = list(df_clean['Contract'].unique())\n",
        "\n",
        "def clean_and_plot(df, title='Method of Educating Suggested', plot=True):\n",
        "    # Plot bar graph of different contracts (for current & churned customers)\n",
        "    x = df['Contract'].value_counts().reset_index()\n",
        "    x.rename(columns={'index': 'contract', 'Contract': 'count'}, inplace=True)\n",
        "    x_df = total_count(x, 'contract', 'count', possible_vals)\n",
        "\n",
        "    x_df.set_index('contract', inplace=True)\n",
        "    if plot:\n",
        "        (x_df/x_df.sum()).plot(kind='bar', legend=None)\n",
        "        plt.title('Contract type')\n",
        "        plt.show()\n",
        "    props_x_df = x_df/x_df.sum()\n",
        "    return props_x_df"
      ],
      "metadata": {
        "id": "tC60rqGE6ymV"
      },
      "execution_count": 32,
      "outputs": []
    },
    {
      "cell_type": "code",
      "source": [
        "current_customer_perc = clean_and_plot(current_customer, 'Customer', plot=False)\n",
        "churned_customer_perc = clean_and_plot(churned_customer, 'Churned', plot=False)\n",
        "\n",
        "comp_df = pd.merge(current_customer_perc, churned_customer_perc, left_index=True, right_index=True)\n",
        "comp_df.columns = ['current_customer_perc', 'churned_customer_perc']\n",
        "comp_df['Diff_Contract_Type'] = comp_df['current_customer_perc'] - comp_df['churned_customer_perc']\n",
        "comp_df.style.bar(subset=['Diff_Contract_Type'], align='mid', color=['#d65f5f', '#5fba7d'])"
      ],
      "metadata": {
        "colab": {
          "base_uri": "https://localhost:8080/",
          "height": 190
        },
        "id": "uEvt63wj6z0L",
        "outputId": "c892831f-e51e-48f5-a872-23d845da93d8"
      },
      "execution_count": 33,
      "outputs": [
        {
          "output_type": "execute_result",
          "data": {
            "text/plain": [
              "<pandas.io.formats.style.Styler at 0x7f9f6b191a50>"
            ],
            "text/html": [
              "<style type=\"text/css\">\n",
              "#T_f2112_row0_col2 {\n",
              "  width: 10em;\n",
              "  height: 80%;\n",
              "  background: linear-gradient(90deg,#d65f5f 61.0%, transparent 61.0%);\n",
              "}\n",
              "#T_f2112_row1_col2 {\n",
              "  width: 10em;\n",
              "  height: 80%;\n",
              "  background: linear-gradient(90deg, transparent 61.0%, #5fba7d 61.0%, #5fba7d 100.0%, transparent 100.0%);\n",
              "}\n",
              "#T_f2112_row2_col2 {\n",
              "  width: 10em;\n",
              "  height: 80%;\n",
              "  background: linear-gradient(90deg, transparent 61.0%, #5fba7d 61.0%, #5fba7d 83.0%, transparent 83.0%);\n",
              "}\n",
              "</style>\n",
              "<table id=\"T_f2112_\" class=\"dataframe\">\n",
              "  <thead>\n",
              "    <tr>\n",
              "      <th class=\"blank level0\" >&nbsp;</th>\n",
              "      <th class=\"col_heading level0 col0\" >current_customer_perc</th>\n",
              "      <th class=\"col_heading level0 col1\" >churned_customer_perc</th>\n",
              "      <th class=\"col_heading level0 col2\" >Diff_Contract_Type</th>\n",
              "    </tr>\n",
              "    <tr>\n",
              "      <th class=\"index_name level0\" >contract</th>\n",
              "      <th class=\"blank col0\" >&nbsp;</th>\n",
              "      <th class=\"blank col1\" >&nbsp;</th>\n",
              "      <th class=\"blank col2\" >&nbsp;</th>\n",
              "    </tr>\n",
              "  </thead>\n",
              "  <tbody>\n",
              "    <tr>\n",
              "      <th id=\"T_f2112_level0_row0\" class=\"row_heading level0 row0\" >Month-to-month</th>\n",
              "      <td id=\"T_f2112_row0_col0\" class=\"data row0 col0\" >0.429983</td>\n",
              "      <td id=\"T_f2112_row0_col1\" class=\"data row0 col1\" >0.885500</td>\n",
              "      <td id=\"T_f2112_row0_col2\" class=\"data row0 col2\" >-0.455518</td>\n",
              "    </tr>\n",
              "    <tr>\n",
              "      <th id=\"T_f2112_level0_row1\" class=\"row_heading level0 row1\" >Two year</th>\n",
              "      <td id=\"T_f2112_row1_col0\" class=\"data row1 col0\" >0.317064</td>\n",
              "      <td id=\"T_f2112_row1_col1\" class=\"data row1 col1\" >0.025682</td>\n",
              "      <td id=\"T_f2112_row1_col2\" class=\"data row1 col2\" >0.291382</td>\n",
              "    </tr>\n",
              "    <tr>\n",
              "      <th id=\"T_f2112_level0_row2\" class=\"row_heading level0 row2\" >One year</th>\n",
              "      <td id=\"T_f2112_row2_col0\" class=\"data row2 col0\" >0.252954</td>\n",
              "      <td id=\"T_f2112_row2_col1\" class=\"data row2 col1\" >0.088818</td>\n",
              "      <td id=\"T_f2112_row2_col2\" class=\"data row2 col2\" >0.164136</td>\n",
              "    </tr>\n",
              "  </tbody>\n",
              "</table>\n"
            ]
          },
          "metadata": {},
          "execution_count": 33
        }
      ]
    },
    {
      "cell_type": "code",
      "source": [
        "# Leave only categorical data\n",
        "\n",
        "obj_df = df_clean.select_dtypes(include=['object']).copy()\n",
        "new_obj_df = obj_df.drop(columns = 'customerID')"
      ],
      "metadata": {
        "id": "1MB-uLQP61QD"
      },
      "execution_count": 34,
      "outputs": []
    },
    {
      "cell_type": "code",
      "source": [
        "def create_dummy_df(df, cat_cols, dummy_na): \n",
        "    for col in  cat_cols: \n",
        "        try: \n",
        "            # for each cat add dummy var, drop original column \n",
        "            df = pd.concat([df.drop(col, axis=1), pd.get_dummies(df[col], prefix=col, prefix_sep='_', drop_first=True, dummy_na=dummy_na)], axis=1) \n",
        "        except: \n",
        "            continue \n",
        "    return df"
      ],
      "metadata": {
        "id": "LsFEWg1462fP"
      },
      "execution_count": 35,
      "outputs": []
    },
    {
      "cell_type": "code",
      "source": [
        "obj_cols_lst = new_obj_df.columns \n",
        "df_cat = create_dummy_df(new_obj_df, obj_cols_lst, dummy_na=False)\n",
        "print(f'shape of df_cat: {df_cat.shape}')\n",
        "print(f'columns: {df_cat.columns}')\n",
        "df_cat.head()"
      ],
      "metadata": {
        "colab": {
          "base_uri": "https://localhost:8080/",
          "height": 569
        },
        "id": "pKwz0ZMc63eI",
        "outputId": "57e820a5-5d76-49f5-b1cc-b82063f561df"
      },
      "execution_count": 36,
      "outputs": [
        {
          "output_type": "stream",
          "name": "stdout",
          "text": [
            "shape of df_cat: (7032, 27)\n",
            "columns: Index(['gender_Male', 'Partner_Yes', 'Dependents_Yes', 'PhoneService_Yes',\n",
            "       'MultipleLines_No phone service', 'MultipleLines_Yes',\n",
            "       'InternetService_Fiber optic', 'InternetService_No',\n",
            "       'OnlineSecurity_No internet service', 'OnlineSecurity_Yes',\n",
            "       'OnlineBackup_No internet service', 'OnlineBackup_Yes',\n",
            "       'DeviceProtection_No internet service', 'DeviceProtection_Yes',\n",
            "       'TechSupport_No internet service', 'TechSupport_Yes',\n",
            "       'StreamingTV_No internet service', 'StreamingTV_Yes',\n",
            "       'StreamingMovies_No internet service', 'StreamingMovies_Yes',\n",
            "       'Contract_One year', 'Contract_Two year', 'PaperlessBilling_Yes',\n",
            "       'PaymentMethod_Credit card (automatic)',\n",
            "       'PaymentMethod_Electronic check', 'PaymentMethod_Mailed check',\n",
            "       'Churn_Yes'],\n",
            "      dtype='object')\n"
          ]
        },
        {
          "output_type": "execute_result",
          "data": {
            "text/plain": [
              "   gender_Male  Partner_Yes  Dependents_Yes  PhoneService_Yes  \\\n",
              "0            0            1               0                 0   \n",
              "1            1            0               0                 1   \n",
              "2            1            0               0                 1   \n",
              "3            1            0               0                 0   \n",
              "4            0            0               0                 1   \n",
              "\n",
              "   MultipleLines_No phone service  MultipleLines_Yes  \\\n",
              "0                               1                  0   \n",
              "1                               0                  0   \n",
              "2                               0                  0   \n",
              "3                               1                  0   \n",
              "4                               0                  0   \n",
              "\n",
              "   InternetService_Fiber optic  InternetService_No  \\\n",
              "0                            0                   0   \n",
              "1                            0                   0   \n",
              "2                            0                   0   \n",
              "3                            0                   0   \n",
              "4                            1                   0   \n",
              "\n",
              "   OnlineSecurity_No internet service  OnlineSecurity_Yes  ...  \\\n",
              "0                                   0                   0  ...   \n",
              "1                                   0                   1  ...   \n",
              "2                                   0                   1  ...   \n",
              "3                                   0                   1  ...   \n",
              "4                                   0                   0  ...   \n",
              "\n",
              "   StreamingTV_Yes  StreamingMovies_No internet service  StreamingMovies_Yes  \\\n",
              "0                0                                    0                    0   \n",
              "1                0                                    0                    0   \n",
              "2                0                                    0                    0   \n",
              "3                0                                    0                    0   \n",
              "4                0                                    0                    0   \n",
              "\n",
              "   Contract_One year  Contract_Two year  PaperlessBilling_Yes  \\\n",
              "0                  0                  0                     1   \n",
              "1                  1                  0                     0   \n",
              "2                  0                  0                     1   \n",
              "3                  1                  0                     0   \n",
              "4                  0                  0                     1   \n",
              "\n",
              "   PaymentMethod_Credit card (automatic)  PaymentMethod_Electronic check  \\\n",
              "0                                      0                               1   \n",
              "1                                      0                               0   \n",
              "2                                      0                               0   \n",
              "3                                      0                               0   \n",
              "4                                      0                               1   \n",
              "\n",
              "   PaymentMethod_Mailed check  Churn_Yes  \n",
              "0                           0          0  \n",
              "1                           1          0  \n",
              "2                           1          1  \n",
              "3                           0          0  \n",
              "4                           0          1  \n",
              "\n",
              "[5 rows x 27 columns]"
            ],
            "text/html": [
              "\n",
              "  <div id=\"df-bdee7bcb-c038-41a4-b12e-1dfd0dcb91d6\">\n",
              "    <div class=\"colab-df-container\">\n",
              "      <div>\n",
              "<style scoped>\n",
              "    .dataframe tbody tr th:only-of-type {\n",
              "        vertical-align: middle;\n",
              "    }\n",
              "\n",
              "    .dataframe tbody tr th {\n",
              "        vertical-align: top;\n",
              "    }\n",
              "\n",
              "    .dataframe thead th {\n",
              "        text-align: right;\n",
              "    }\n",
              "</style>\n",
              "<table border=\"1\" class=\"dataframe\">\n",
              "  <thead>\n",
              "    <tr style=\"text-align: right;\">\n",
              "      <th></th>\n",
              "      <th>gender_Male</th>\n",
              "      <th>Partner_Yes</th>\n",
              "      <th>Dependents_Yes</th>\n",
              "      <th>PhoneService_Yes</th>\n",
              "      <th>MultipleLines_No phone service</th>\n",
              "      <th>MultipleLines_Yes</th>\n",
              "      <th>InternetService_Fiber optic</th>\n",
              "      <th>InternetService_No</th>\n",
              "      <th>OnlineSecurity_No internet service</th>\n",
              "      <th>OnlineSecurity_Yes</th>\n",
              "      <th>...</th>\n",
              "      <th>StreamingTV_Yes</th>\n",
              "      <th>StreamingMovies_No internet service</th>\n",
              "      <th>StreamingMovies_Yes</th>\n",
              "      <th>Contract_One year</th>\n",
              "      <th>Contract_Two year</th>\n",
              "      <th>PaperlessBilling_Yes</th>\n",
              "      <th>PaymentMethod_Credit card (automatic)</th>\n",
              "      <th>PaymentMethod_Electronic check</th>\n",
              "      <th>PaymentMethod_Mailed check</th>\n",
              "      <th>Churn_Yes</th>\n",
              "    </tr>\n",
              "  </thead>\n",
              "  <tbody>\n",
              "    <tr>\n",
              "      <th>0</th>\n",
              "      <td>0</td>\n",
              "      <td>1</td>\n",
              "      <td>0</td>\n",
              "      <td>0</td>\n",
              "      <td>1</td>\n",
              "      <td>0</td>\n",
              "      <td>0</td>\n",
              "      <td>0</td>\n",
              "      <td>0</td>\n",
              "      <td>0</td>\n",
              "      <td>...</td>\n",
              "      <td>0</td>\n",
              "      <td>0</td>\n",
              "      <td>0</td>\n",
              "      <td>0</td>\n",
              "      <td>0</td>\n",
              "      <td>1</td>\n",
              "      <td>0</td>\n",
              "      <td>1</td>\n",
              "      <td>0</td>\n",
              "      <td>0</td>\n",
              "    </tr>\n",
              "    <tr>\n",
              "      <th>1</th>\n",
              "      <td>1</td>\n",
              "      <td>0</td>\n",
              "      <td>0</td>\n",
              "      <td>1</td>\n",
              "      <td>0</td>\n",
              "      <td>0</td>\n",
              "      <td>0</td>\n",
              "      <td>0</td>\n",
              "      <td>0</td>\n",
              "      <td>1</td>\n",
              "      <td>...</td>\n",
              "      <td>0</td>\n",
              "      <td>0</td>\n",
              "      <td>0</td>\n",
              "      <td>1</td>\n",
              "      <td>0</td>\n",
              "      <td>0</td>\n",
              "      <td>0</td>\n",
              "      <td>0</td>\n",
              "      <td>1</td>\n",
              "      <td>0</td>\n",
              "    </tr>\n",
              "    <tr>\n",
              "      <th>2</th>\n",
              "      <td>1</td>\n",
              "      <td>0</td>\n",
              "      <td>0</td>\n",
              "      <td>1</td>\n",
              "      <td>0</td>\n",
              "      <td>0</td>\n",
              "      <td>0</td>\n",
              "      <td>0</td>\n",
              "      <td>0</td>\n",
              "      <td>1</td>\n",
              "      <td>...</td>\n",
              "      <td>0</td>\n",
              "      <td>0</td>\n",
              "      <td>0</td>\n",
              "      <td>0</td>\n",
              "      <td>0</td>\n",
              "      <td>1</td>\n",
              "      <td>0</td>\n",
              "      <td>0</td>\n",
              "      <td>1</td>\n",
              "      <td>1</td>\n",
              "    </tr>\n",
              "    <tr>\n",
              "      <th>3</th>\n",
              "      <td>1</td>\n",
              "      <td>0</td>\n",
              "      <td>0</td>\n",
              "      <td>0</td>\n",
              "      <td>1</td>\n",
              "      <td>0</td>\n",
              "      <td>0</td>\n",
              "      <td>0</td>\n",
              "      <td>0</td>\n",
              "      <td>1</td>\n",
              "      <td>...</td>\n",
              "      <td>0</td>\n",
              "      <td>0</td>\n",
              "      <td>0</td>\n",
              "      <td>1</td>\n",
              "      <td>0</td>\n",
              "      <td>0</td>\n",
              "      <td>0</td>\n",
              "      <td>0</td>\n",
              "      <td>0</td>\n",
              "      <td>0</td>\n",
              "    </tr>\n",
              "    <tr>\n",
              "      <th>4</th>\n",
              "      <td>0</td>\n",
              "      <td>0</td>\n",
              "      <td>0</td>\n",
              "      <td>1</td>\n",
              "      <td>0</td>\n",
              "      <td>0</td>\n",
              "      <td>1</td>\n",
              "      <td>0</td>\n",
              "      <td>0</td>\n",
              "      <td>0</td>\n",
              "      <td>...</td>\n",
              "      <td>0</td>\n",
              "      <td>0</td>\n",
              "      <td>0</td>\n",
              "      <td>0</td>\n",
              "      <td>0</td>\n",
              "      <td>1</td>\n",
              "      <td>0</td>\n",
              "      <td>1</td>\n",
              "      <td>0</td>\n",
              "      <td>1</td>\n",
              "    </tr>\n",
              "  </tbody>\n",
              "</table>\n",
              "<p>5 rows × 27 columns</p>\n",
              "</div>\n",
              "      <button class=\"colab-df-convert\" onclick=\"convertToInteractive('df-bdee7bcb-c038-41a4-b12e-1dfd0dcb91d6')\"\n",
              "              title=\"Convert this dataframe to an interactive table.\"\n",
              "              style=\"display:none;\">\n",
              "        \n",
              "  <svg xmlns=\"http://www.w3.org/2000/svg\" height=\"24px\"viewBox=\"0 0 24 24\"\n",
              "       width=\"24px\">\n",
              "    <path d=\"M0 0h24v24H0V0z\" fill=\"none\"/>\n",
              "    <path d=\"M18.56 5.44l.94 2.06.94-2.06 2.06-.94-2.06-.94-.94-2.06-.94 2.06-2.06.94zm-11 1L8.5 8.5l.94-2.06 2.06-.94-2.06-.94L8.5 2.5l-.94 2.06-2.06.94zm10 10l.94 2.06.94-2.06 2.06-.94-2.06-.94-.94-2.06-.94 2.06-2.06.94z\"/><path d=\"M17.41 7.96l-1.37-1.37c-.4-.4-.92-.59-1.43-.59-.52 0-1.04.2-1.43.59L10.3 9.45l-7.72 7.72c-.78.78-.78 2.05 0 2.83L4 21.41c.39.39.9.59 1.41.59.51 0 1.02-.2 1.41-.59l7.78-7.78 2.81-2.81c.8-.78.8-2.07 0-2.86zM5.41 20L4 18.59l7.72-7.72 1.47 1.35L5.41 20z\"/>\n",
              "  </svg>\n",
              "      </button>\n",
              "      \n",
              "  <style>\n",
              "    .colab-df-container {\n",
              "      display:flex;\n",
              "      flex-wrap:wrap;\n",
              "      gap: 12px;\n",
              "    }\n",
              "\n",
              "    .colab-df-convert {\n",
              "      background-color: #E8F0FE;\n",
              "      border: none;\n",
              "      border-radius: 50%;\n",
              "      cursor: pointer;\n",
              "      display: none;\n",
              "      fill: #1967D2;\n",
              "      height: 32px;\n",
              "      padding: 0 0 0 0;\n",
              "      width: 32px;\n",
              "    }\n",
              "\n",
              "    .colab-df-convert:hover {\n",
              "      background-color: #E2EBFA;\n",
              "      box-shadow: 0px 1px 2px rgba(60, 64, 67, 0.3), 0px 1px 3px 1px rgba(60, 64, 67, 0.15);\n",
              "      fill: #174EA6;\n",
              "    }\n",
              "\n",
              "    [theme=dark] .colab-df-convert {\n",
              "      background-color: #3B4455;\n",
              "      fill: #D2E3FC;\n",
              "    }\n",
              "\n",
              "    [theme=dark] .colab-df-convert:hover {\n",
              "      background-color: #434B5C;\n",
              "      box-shadow: 0px 1px 3px 1px rgba(0, 0, 0, 0.15);\n",
              "      filter: drop-shadow(0px 1px 2px rgba(0, 0, 0, 0.3));\n",
              "      fill: #FFFFFF;\n",
              "    }\n",
              "  </style>\n",
              "\n",
              "      <script>\n",
              "        const buttonEl =\n",
              "          document.querySelector('#df-bdee7bcb-c038-41a4-b12e-1dfd0dcb91d6 button.colab-df-convert');\n",
              "        buttonEl.style.display =\n",
              "          google.colab.kernel.accessAllowed ? 'block' : 'none';\n",
              "\n",
              "        async function convertToInteractive(key) {\n",
              "          const element = document.querySelector('#df-bdee7bcb-c038-41a4-b12e-1dfd0dcb91d6');\n",
              "          const dataTable =\n",
              "            await google.colab.kernel.invokeFunction('convertToInteractive',\n",
              "                                                     [key], {});\n",
              "          if (!dataTable) return;\n",
              "\n",
              "          const docLinkHtml = 'Like what you see? Visit the ' +\n",
              "            '<a target=\"_blank\" href=https://colab.research.google.com/notebooks/data_table.ipynb>data table notebook</a>'\n",
              "            + ' to learn more about interactive tables.';\n",
              "          element.innerHTML = '';\n",
              "          dataTable['output_type'] = 'display_data';\n",
              "          await google.colab.output.renderOutput(dataTable, element);\n",
              "          const docLink = document.createElement('div');\n",
              "          docLink.innerHTML = docLinkHtml;\n",
              "          element.appendChild(docLink);\n",
              "        }\n",
              "      </script>\n",
              "    </div>\n",
              "  </div>\n",
              "  "
            ]
          },
          "metadata": {},
          "execution_count": 36
        }
      ]
    },
    {
      "cell_type": "code",
      "source": [
        "sns.heatmap(df_cat.corr(), fmt='.2f')"
      ],
      "metadata": {
        "colab": {
          "base_uri": "https://localhost:8080/",
          "height": 463
        },
        "id": "iALNHT3K64Vy",
        "outputId": "1897ffc7-e8ea-4f5e-eb01-00086651a57b"
      },
      "execution_count": 37,
      "outputs": [
        {
          "output_type": "execute_result",
          "data": {
            "text/plain": [
              "<matplotlib.axes._subplots.AxesSubplot at 0x7f9f6b0e2d50>"
            ]
          },
          "metadata": {},
          "execution_count": 37
        },
        {
          "output_type": "display_data",
          "data": {
            "text/plain": [
              "<Figure size 432x288 with 2 Axes>"
            ],
            "image/png": "[encoded data removed]"
          },
          "metadata": {
            "needs_background": "light"
          }
        }
      ]
    },
    {
      "cell_type": "markdown",
      "source": [
        "# Train prediction model"
      ],
      "metadata": {
        "id": "fGTtDmGt66Uh"
      }
    },
    {
      "cell_type": "code",
      "source": [
        "def fit_linear_mod(df, response_col, cat_cols, dummy_na, test_size, rand_state=42):\n",
        "    '''\n",
        "    INPUT:\n",
        "    df - a dataframe holding all the variables of interest\n",
        "    response_col - a string holding the name of the column \n",
        "    cat_cols - list of strings that are associated with names of the categorical columns\n",
        "    dummy_na - Bool holding whether you want to dummy NA vals of categorical columns or not\n",
        "    test_size - a float between [0,1] about what proportion of data should be in the test dataset\n",
        "    rand_state - an int that is provided as the random state for splitting the data into training and test \n",
        "    \n",
        "    OUTPUT:\n",
        "    test_score - float - r2 score on the test data\n",
        "    train_score - float - r2 score on the test data\n",
        "    lm_model - model object from sklearn\n",
        "    X_train, X_test, y_train, y_test - output from sklearn train test split used for optimal model\n",
        "    \n",
        "    The function does:\n",
        "    1. Split your data into an X matrix and a response vector y\n",
        "    2. Create training and test sets of data\n",
        "    3. Instantiate a LinearRegression model with normalized data\n",
        "    3. Fit your model to the training data\n",
        "    4. Predict the response for the training data and the test data\n",
        "    5. Obtain an rsquared value for both the training and test data\n",
        "    '''\n",
        "    \n",
        "    X = df.drop(response_col, axis=1) #5 \n",
        "    y = df[response_col]\n",
        "    X_train, X_test, y_train, y_test = model_selection.train_test_split(X, y, test_size = test_size, random_state=rand_state) #6\n",
        "    lm_model = linear_model.LinearRegression(normalize=True) #7\n",
        "    lm_model.fit(X_train, y_train) #8\n",
        "    y_test_preds = lm_model.predict(X_test) #9\n",
        "    y_train_preds = lm_model.predict(X_train)\n",
        "    test_score = metrics.r2_score(y_test, y_test_preds) #10\n",
        "    train_score = metrics.r2_score(y_train, y_train_preds)\n",
        "\n",
        "    return test_score, train_score, lm_model, X_train, X_test, y_train, y_test"
      ],
      "metadata": {
        "id": "oimHMdCT65Xd"
      },
      "execution_count": 38,
      "outputs": []
    },
    {
      "cell_type": "code",
      "source": [
        "test_score_cat_linear_mod, train_score_cat_linear_mod, lm_model_cat, X_train_cat, X_test_cat, y_train_cat, y_test_cat = fit_linear_mod(\n",
        "    df_cat, 'Churn_Yes', obj_cols_lst, dummy_na=False, test_size=.2, rand_state=42)"
      ],
      "metadata": {
        "colab": {
          "base_uri": "https://localhost:8080/"
        },
        "id": "nYlGF4OZ69xA",
        "outputId": "246c7e2e-d748-41f8-8f37-5fd190301453"
      },
      "execution_count": 39,
      "outputs": [
        {
          "output_type": "stream",
          "name": "stderr",
          "text": [
            "/usr/local/lib/python3.7/dist-packages/sklearn/linear_model/_base.py:145: FutureWarning: 'normalize' was deprecated in version 1.0 and will be removed in 1.2.\n",
            "If you wish to scale the data, use Pipeline with a StandardScaler in a preprocessing stage. To reproduce the previous behavior:\n",
            "\n",
            "from sklearn.pipeline import make_pipeline\n",
            "\n",
            "model = make_pipeline(StandardScaler(with_mean=False), LinearRegression())\n",
            "\n",
            "If you wish to pass a sample_weight parameter, you need to pass it as a fit parameter to each step of the pipeline as follows:\n",
            "\n",
            "kwargs = {s[0] + '__sample_weight': sample_weight for s in model.steps}\n",
            "model.fit(X, y, **kwargs)\n",
            "\n",
            "\n",
            "  FutureWarning,\n"
          ]
        }
      ]
    },
    {
      "cell_type": "code",
      "source": [
        "print(f'Using only categorical data, we get a train r2 score of: \\n{train_score_cat_linear_mod} \\nand a test r2 score of: \\n{test_score_cat_linear_mod}')"
      ],
      "metadata": {
        "colab": {
          "base_uri": "https://localhost:8080/"
        },
        "id": "bzmCV9jk7BhY",
        "outputId": "5935790b-7250-4231-cdce-48b582e154b6"
      },
      "execution_count": 40,
      "outputs": [
        {
          "output_type": "stream",
          "name": "stdout",
          "text": [
            "Using only categorical data, we get a train r2 score of: \n",
            "0.2605986887425906 \n",
            "and a test r2 score of: \n",
            "0.22514507807824613\n"
          ]
        }
      ]
    },
    {
      "cell_type": "code",
      "source": [
        "#Normalize a column\n",
        "def normalize_cont_columns(df):\n",
        "    df_num = df.select_dtypes(exclude=['object'])\n",
        "    # Create a minimum and maximum processor object\n",
        "    min_max_scaler = preprocessing.MinMaxScaler()\n",
        "\n",
        "    for col in df_num:\n",
        "        df_num[col] = min_max_scaler.fit_transform(df_num[[col]].values.astype(float))\n",
        "\n",
        "    return df_num\n",
        "\n",
        "df_num = normalize_cont_columns(df_clean)"
      ],
      "metadata": {
        "colab": {
          "base_uri": "https://localhost:8080/"
        },
        "id": "2vpQOBg-7DYs",
        "outputId": "376dd9f5-84d4-43c2-944d-2edcf02d2af2"
      },
      "execution_count": 41,
      "outputs": [
        {
          "output_type": "stream",
          "name": "stderr",
          "text": [
            "/usr/local/lib/python3.7/dist-packages/ipykernel_launcher.py:8: SettingWithCopyWarning: \n",
            "A value is trying to be set on a copy of a slice from a DataFrame.\n",
            "Try using .loc[row_indexer,col_indexer] = value instead\n",
            "\n",
            "See the caveats in the documentation: https://pandas.pydata.org/pandas-docs/stable/user_guide/indexing.html#returning-a-view-versus-a-copy\n",
            "  \n",
            "/usr/local/lib/python3.7/dist-packages/ipykernel_launcher.py:8: SettingWithCopyWarning: \n",
            "A value is trying to be set on a copy of a slice from a DataFrame.\n",
            "Try using .loc[row_indexer,col_indexer] = value instead\n",
            "\n",
            "See the caveats in the documentation: https://pandas.pydata.org/pandas-docs/stable/user_guide/indexing.html#returning-a-view-versus-a-copy\n",
            "  \n",
            "/usr/local/lib/python3.7/dist-packages/ipykernel_launcher.py:8: SettingWithCopyWarning: \n",
            "A value is trying to be set on a copy of a slice from a DataFrame.\n",
            "Try using .loc[row_indexer,col_indexer] = value instead\n",
            "\n",
            "See the caveats in the documentation: https://pandas.pydata.org/pandas-docs/stable/user_guide/indexing.html#returning-a-view-versus-a-copy\n",
            "  \n",
            "/usr/local/lib/python3.7/dist-packages/ipykernel_launcher.py:8: SettingWithCopyWarning: \n",
            "A value is trying to be set on a copy of a slice from a DataFrame.\n",
            "Try using .loc[row_indexer,col_indexer] = value instead\n",
            "\n",
            "See the caveats in the documentation: https://pandas.pydata.org/pandas-docs/stable/user_guide/indexing.html#returning-a-view-versus-a-copy\n",
            "  \n"
          ]
        }
      ]
    },
    {
      "cell_type": "code",
      "source": [
        "# Recombine numeric and categorical variables\n",
        "df_cat_and_num = pd.concat([df_cat, df_num], axis=1)\n",
        "df_cat_and_num.head()"
      ],
      "metadata": {
        "colab": {
          "base_uri": "https://localhost:8080/",
          "height": 314
        },
        "id": "k_7aoAgn7E3q",
        "outputId": "f6512774-d562-4d44-e04d-eb5d90dc110e"
      },
      "execution_count": 42,
      "outputs": [
        {
          "output_type": "execute_result",
          "data": {
            "text/plain": [
              "   gender_Male  Partner_Yes  Dependents_Yes  PhoneService_Yes  \\\n",
              "0            0            1               0                 0   \n",
              "1            1            0               0                 1   \n",
              "2            1            0               0                 1   \n",
              "3            1            0               0                 0   \n",
              "4            0            0               0                 1   \n",
              "\n",
              "   MultipleLines_No phone service  MultipleLines_Yes  \\\n",
              "0                               1                  0   \n",
              "1                               0                  0   \n",
              "2                               0                  0   \n",
              "3                               1                  0   \n",
              "4                               0                  0   \n",
              "\n",
              "   InternetService_Fiber optic  InternetService_No  \\\n",
              "0                            0                   0   \n",
              "1                            0                   0   \n",
              "2                            0                   0   \n",
              "3                            0                   0   \n",
              "4                            1                   0   \n",
              "\n",
              "   OnlineSecurity_No internet service  OnlineSecurity_Yes  ...  \\\n",
              "0                                   0                   0  ...   \n",
              "1                                   0                   1  ...   \n",
              "2                                   0                   1  ...   \n",
              "3                                   0                   1  ...   \n",
              "4                                   0                   0  ...   \n",
              "\n",
              "   Contract_Two year  PaperlessBilling_Yes  \\\n",
              "0                  0                     1   \n",
              "1                  0                     0   \n",
              "2                  0                     1   \n",
              "3                  0                     0   \n",
              "4                  0                     1   \n",
              "\n",
              "   PaymentMethod_Credit card (automatic)  PaymentMethod_Electronic check  \\\n",
              "0                                      0                               1   \n",
              "1                                      0                               0   \n",
              "2                                      0                               0   \n",
              "3                                      0                               0   \n",
              "4                                      0                               1   \n",
              "\n",
              "   PaymentMethod_Mailed check  Churn_Yes  SeniorCitizen    tenure  \\\n",
              "0                           0          0            0.0  0.000000   \n",
              "1                           1          0            0.0  0.464789   \n",
              "2                           1          1            0.0  0.014085   \n",
              "3                           0          0            0.0  0.619718   \n",
              "4                           0          1            0.0  0.014085   \n",
              "\n",
              "   MonthlyCharges  TotalCharges  \n",
              "0        0.115423      0.001275  \n",
              "1        0.385075      0.215867  \n",
              "2        0.354229      0.010310  \n",
              "3        0.239303      0.210241  \n",
              "4        0.521891      0.015330  \n",
              "\n",
              "[5 rows x 31 columns]"
            ],
            "text/html": [
              "\n",
              "  <div id=\"df-866fe12f-bc1d-485f-a003-f0fa17a6c2a7\">\n",
              "    <div class=\"colab-df-container\">\n",
              "      <div>\n",
              "<style scoped>\n",
              "    .dataframe tbody tr th:only-of-type {\n",
              "        vertical-align: middle;\n",
              "    }\n",
              "\n",
              "    .dataframe tbody tr th {\n",
              "        vertical-align: top;\n",
              "    }\n",
              "\n",
              "    .dataframe thead th {\n",
              "        text-align: right;\n",
              "    }\n",
              "</style>\n",
              "<table border=\"1\" class=\"dataframe\">\n",
              "  <thead>\n",
              "    <tr style=\"text-align: right;\">\n",
              "      <th></th>\n",
              "      <th>gender_Male</th>\n",
              "      <th>Partner_Yes</th>\n",
              "      <th>Dependents_Yes</th>\n",
              "      <th>PhoneService_Yes</th>\n",
              "      <th>MultipleLines_No phone service</th>\n",
              "      <th>MultipleLines_Yes</th>\n",
              "      <th>InternetService_Fiber optic</th>\n",
              "      <th>InternetService_No</th>\n",
              "      <th>OnlineSecurity_No internet service</th>\n",
              "      <th>OnlineSecurity_Yes</th>\n",
              "      <th>...</th>\n",
              "      <th>Contract_Two year</th>\n",
              "      <th>PaperlessBilling_Yes</th>\n",
              "      <th>PaymentMethod_Credit card (automatic)</th>\n",
              "      <th>PaymentMethod_Electronic check</th>\n",
              "      <th>PaymentMethod_Mailed check</th>\n",
              "      <th>Churn_Yes</th>\n",
              "      <th>SeniorCitizen</th>\n",
              "      <th>tenure</th>\n",
              "      <th>MonthlyCharges</th>\n",
              "      <th>TotalCharges</th>\n",
              "    </tr>\n",
              "  </thead>\n",
              "  <tbody>\n",
              "    <tr>\n",
              "      <th>0</th>\n",
              "      <td>0</td>\n",
              "      <td>1</td>\n",
              "      <td>0</td>\n",
              "      <td>0</td>\n",
              "      <td>1</td>\n",
              "      <td>0</td>\n",
              "      <td>0</td>\n",
              "      <td>0</td>\n",
              "      <td>0</td>\n",
              "      <td>0</td>\n",
              "      <td>...</td>\n",
              "      <td>0</td>\n",
              "      <td>1</td>\n",
              "      <td>0</td>\n",
              "      <td>1</td>\n",
              "      <td>0</td>\n",
              "      <td>0</td>\n",
              "      <td>0.0</td>\n",
              "      <td>0.000000</td>\n",
              "      <td>0.115423</td>\n",
              "      <td>0.001275</td>\n",
              "    </tr>\n",
              "    <tr>\n",
              "      <th>1</th>\n",
              "      <td>1</td>\n",
              "      <td>0</td>\n",
              "      <td>0</td>\n",
              "      <td>1</td>\n",
              "      <td>0</td>\n",
              "      <td>0</td>\n",
              "      <td>0</td>\n",
              "      <td>0</td>\n",
              "      <td>0</td>\n",
              "      <td>1</td>\n",
              "      <td>...</td>\n",
              "      <td>0</td>\n",
              "      <td>0</td>\n",
              "      <td>0</td>\n",
              "      <td>0</td>\n",
              "      <td>1</td>\n",
              "      <td>0</td>\n",
              "      <td>0.0</td>\n",
              "      <td>0.464789</td>\n",
              "      <td>0.385075</td>\n",
              "      <td>0.215867</td>\n",
              "    </tr>\n",
              "    <tr>\n",
              "      <th>2</th>\n",
              "      <td>1</td>\n",
              "      <td>0</td>\n",
              "      <td>0</td>\n",
              "      <td>1</td>\n",
              "      <td>0</td>\n",
              "      <td>0</td>\n",
              "      <td>0</td>\n",
              "      <td>0</td>\n",
              "      <td>0</td>\n",
              "      <td>1</td>\n",
              "      <td>...</td>\n",
              "      <td>0</td>\n",
              "      <td>1</td>\n",
              "      <td>0</td>\n",
              "      <td>0</td>\n",
              "      <td>1</td>\n",
              "      <td>1</td>\n",
              "      <td>0.0</td>\n",
              "      <td>0.014085</td>\n",
              "      <td>0.354229</td>\n",
              "      <td>0.010310</td>\n",
              "    </tr>\n",
              "    <tr>\n",
              "      <th>3</th>\n",
              "      <td>1</td>\n",
              "      <td>0</td>\n",
              "      <td>0</td>\n",
              "      <td>0</td>\n",
              "      <td>1</td>\n",
              "      <td>0</td>\n",
              "      <td>0</td>\n",
              "      <td>0</td>\n",
              "      <td>0</td>\n",
              "      <td>1</td>\n",
              "      <td>...</td>\n",
              "      <td>0</td>\n",
              "      <td>0</td>\n",
              "      <td>0</td>\n",
              "      <td>0</td>\n",
              "      <td>0</td>\n",
              "      <td>0</td>\n",
              "      <td>0.0</td>\n",
              "      <td>0.619718</td>\n",
              "      <td>0.239303</td>\n",
              "      <td>0.210241</td>\n",
              "    </tr>\n",
              "    <tr>\n",
              "      <th>4</th>\n",
              "      <td>0</td>\n",
              "      <td>0</td>\n",
              "      <td>0</td>\n",
              "      <td>1</td>\n",
              "      <td>0</td>\n",
              "      <td>0</td>\n",
              "      <td>1</td>\n",
              "      <td>0</td>\n",
              "      <td>0</td>\n",
              "      <td>0</td>\n",
              "      <td>...</td>\n",
              "      <td>0</td>\n",
              "      <td>1</td>\n",
              "      <td>0</td>\n",
              "      <td>1</td>\n",
              "      <td>0</td>\n",
              "      <td>1</td>\n",
              "      <td>0.0</td>\n",
              "      <td>0.014085</td>\n",
              "      <td>0.521891</td>\n",
              "      <td>0.015330</td>\n",
              "    </tr>\n",
              "  </tbody>\n",
              "</table>\n",
              "<p>5 rows × 31 columns</p>\n",
              "</div>\n",
              "      <button class=\"colab-df-convert\" onclick=\"convertToInteractive('df-866fe12f-bc1d-485f-a003-f0fa17a6c2a7')\"\n",
              "              title=\"Convert this dataframe to an interactive table.\"\n",
              "              style=\"display:none;\">\n",
              "        \n",
              "  <svg xmlns=\"http://www.w3.org/2000/svg\" height=\"24px\"viewBox=\"0 0 24 24\"\n",
              "       width=\"24px\">\n",
              "    <path d=\"M0 0h24v24H0V0z\" fill=\"none\"/>\n",
              "    <path d=\"M18.56 5.44l.94 2.06.94-2.06 2.06-.94-2.06-.94-.94-2.06-.94 2.06-2.06.94zm-11 1L8.5 8.5l.94-2.06 2.06-.94-2.06-.94L8.5 2.5l-.94 2.06-2.06.94zm10 10l.94 2.06.94-2.06 2.06-.94-2.06-.94-.94-2.06-.94 2.06-2.06.94z\"/><path d=\"M17.41 7.96l-1.37-1.37c-.4-.4-.92-.59-1.43-.59-.52 0-1.04.2-1.43.59L10.3 9.45l-7.72 7.72c-.78.78-.78 2.05 0 2.83L4 21.41c.39.39.9.59 1.41.59.51 0 1.02-.2 1.41-.59l7.78-7.78 2.81-2.81c.8-.78.8-2.07 0-2.86zM5.41 20L4 18.59l7.72-7.72 1.47 1.35L5.41 20z\"/>\n",
              "  </svg>\n",
              "      </button>\n",
              "      \n",
              "  <style>\n",
              "    .colab-df-container {\n",
              "      display:flex;\n",
              "      flex-wrap:wrap;\n",
              "      gap: 12px;\n",
              "    }\n",
              "\n",
              "    .colab-df-convert {\n",
              "      background-color: #E8F0FE;\n",
              "      border: none;\n",
              "      border-radius: 50%;\n",
              "      cursor: pointer;\n",
              "      display: none;\n",
              "      fill: #1967D2;\n",
              "      height: 32px;\n",
              "      padding: 0 0 0 0;\n",
              "      width: 32px;\n",
              "    }\n",
              "\n",
              "    .colab-df-convert:hover {\n",
              "      background-color: #E2EBFA;\n",
              "      box-shadow: 0px 1px 2px rgba(60, 64, 67, 0.3), 0px 1px 3px 1px rgba(60, 64, 67, 0.15);\n",
              "      fill: #174EA6;\n",
              "    }\n",
              "\n",
              "    [theme=dark] .colab-df-convert {\n",
              "      background-color: #3B4455;\n",
              "      fill: #D2E3FC;\n",
              "    }\n",
              "\n",
              "    [theme=dark] .colab-df-convert:hover {\n",
              "      background-color: #434B5C;\n",
              "      box-shadow: 0px 1px 3px 1px rgba(0, 0, 0, 0.15);\n",
              "      filter: drop-shadow(0px 1px 2px rgba(0, 0, 0, 0.3));\n",
              "      fill: #FFFFFF;\n",
              "    }\n",
              "  </style>\n",
              "\n",
              "      <script>\n",
              "        const buttonEl =\n",
              "          document.querySelector('#df-866fe12f-bc1d-485f-a003-f0fa17a6c2a7 button.colab-df-convert');\n",
              "        buttonEl.style.display =\n",
              "          google.colab.kernel.accessAllowed ? 'block' : 'none';\n",
              "\n",
              "        async function convertToInteractive(key) {\n",
              "          const element = document.querySelector('#df-866fe12f-bc1d-485f-a003-f0fa17a6c2a7');\n",
              "          const dataTable =\n",
              "            await google.colab.kernel.invokeFunction('convertToInteractive',\n",
              "                                                     [key], {});\n",
              "          if (!dataTable) return;\n",
              "\n",
              "          const docLinkHtml = 'Like what you see? Visit the ' +\n",
              "            '<a target=\"_blank\" href=https://colab.research.google.com/notebooks/data_table.ipynb>data table notebook</a>'\n",
              "            + ' to learn more about interactive tables.';\n",
              "          element.innerHTML = '';\n",
              "          dataTable['output_type'] = 'display_data';\n",
              "          await google.colab.output.renderOutput(dataTable, element);\n",
              "          const docLink = document.createElement('div');\n",
              "          docLink.innerHTML = docLinkHtml;\n",
              "          element.appendChild(docLink);\n",
              "        }\n",
              "      </script>\n",
              "    </div>\n",
              "  </div>\n",
              "  "
            ]
          },
          "metadata": {},
          "execution_count": 42
        }
      ]
    },
    {
      "cell_type": "code",
      "source": [
        "df_cat_and_num.corr()['Churn_Yes'].sort_values(ascending=False).plot(kind='bar', figsize=(20,5))"
      ],
      "metadata": {
        "colab": {
          "base_uri": "https://localhost:8080/",
          "height": 302
        },
        "id": "SauQWqOc7GU-",
        "outputId": "64d7dcac-b708-42b1-f1fb-3526e0273d7e"
      },
      "execution_count": 43,
      "outputs": [
        {
          "output_type": "execute_result",
          "data": {
            "text/plain": [
              "<matplotlib.axes._subplots.AxesSubplot at 0x7f9f69864410>"
            ]
          },
          "metadata": {},
          "execution_count": 43
        },
        {
          "output_type": "display_data",
          "data": {
            "text/plain": [
              "<Figure size 1440x360 with 1 Axes>"
            ],
            "image/png": "[encoded data removed]"
          },
          "metadata": {
            "needs_background": "light"
          }
        }
      ]
    },
    {
      "cell_type": "code",
      "source": [
        "test_score_norm_linear_mod, train_score_norm_linear_mod, lm_model, X_train, X_test, y_train, y_test = fit_linear_mod(\n",
        "    df_cat_and_num, 'Churn_Yes', obj_cols_lst, dummy_na=False, test_size=.2, rand_state=42)"
      ],
      "metadata": {
        "colab": {
          "base_uri": "https://localhost:8080/"
        },
        "id": "YLlf7f4c7H8X",
        "outputId": "483fc961-4708-4ddc-e6b8-80de59ddfbfa"
      },
      "execution_count": 44,
      "outputs": [
        {
          "output_type": "stream",
          "name": "stderr",
          "text": [
            "/usr/local/lib/python3.7/dist-packages/sklearn/linear_model/_base.py:145: FutureWarning: 'normalize' was deprecated in version 1.0 and will be removed in 1.2.\n",
            "If you wish to scale the data, use Pipeline with a StandardScaler in a preprocessing stage. To reproduce the previous behavior:\n",
            "\n",
            "from sklearn.pipeline import make_pipeline\n",
            "\n",
            "model = make_pipeline(StandardScaler(with_mean=False), LinearRegression())\n",
            "\n",
            "If you wish to pass a sample_weight parameter, you need to pass it as a fit parameter to each step of the pipeline as follows:\n",
            "\n",
            "kwargs = {s[0] + '__sample_weight': sample_weight for s in model.steps}\n",
            "model.fit(X, y, **kwargs)\n",
            "\n",
            "\n",
            "  FutureWarning,\n"
          ]
        }
      ]
    },
    {
      "cell_type": "code",
      "source": [
        "print(f'Using both categorical & continuous data, we get a train r2 score of: \\n{train_score_norm_linear_mod} vs {train_score_cat_linear_mod} \\nand a test r2 score of: \\n{test_score_norm_linear_mod} vs {test_score_cat_linear_mod}')\n"
      ],
      "metadata": {
        "colab": {
          "base_uri": "https://localhost:8080/"
        },
        "id": "eDnPTBfo7JP6",
        "outputId": "c7e615b9-428d-4861-c7e6-e308a09e03e9"
      },
      "execution_count": 45,
      "outputs": [
        {
          "output_type": "stream",
          "name": "stdout",
          "text": [
            "Using both categorical & continuous data, we get a train r2 score of: \n",
            "0.28959013812642576 vs 0.2605986887425906 \n",
            "and a test r2 score of: \n",
            "0.2479815694147599 vs 0.22514507807824613\n"
          ]
        }
      ]
    },
    {
      "cell_type": "code",
      "source": [
        "def coef_weights(coefficients, X_train):\n",
        "    '''\n",
        "    INPUT:\n",
        "    coefficients - the coefficients of the linear model \n",
        "    X_train - the training data, so the column names can be used\n",
        "    OUTPUT:\n",
        "    coefs_df - a dataframe holding the coefficient, estimate, and abs(estimate)\n",
        "    \n",
        "    Provides a dataframe that can be used to understand the most influential coefficients\n",
        "    in a linear model by providing the coefficient estimates along with the name of the \n",
        "    variable attached to the coefficient.\n",
        "    '''\n",
        "    coefs_df = pd.DataFrame()\n",
        "    coefs_df['est_int'] = X_train.columns\n",
        "    coefs_df['coefs'] = coefficients\n",
        "    coefs_df['abs_coefs'] = np.abs(coefficients)\n",
        "    coefs_df = coefs_df.sort_values('abs_coefs', ascending=False)\n",
        "    return coefs_df\n",
        "\n",
        "#Use the function\n",
        "coef_df = coef_weights(lm_model.coef_, X_train)\n",
        "\n",
        "#A quick look at the top results\n",
        "coef_df#.head(20)"
      ],
      "metadata": {
        "colab": {
          "base_uri": "https://localhost:8080/",
          "height": 979
        },
        "id": "Ov7rrmSb7KLt",
        "outputId": "2489626d-2f1d-4281-c1dc-e7807e02c941"
      },
      "execution_count": 46,
      "outputs": [
        {
          "output_type": "execute_result",
          "data": {
            "text/plain": [
              "                                  est_int         coefs     abs_coefs\n",
              "4          MultipleLines_No phone service -4.747781e+12  4.747781e+12\n",
              "3                        PhoneService_Yes -4.747781e+12  4.747781e+12\n",
              "16        StreamingTV_No internet service -2.091025e+12  2.091025e+12\n",
              "7                      InternetService_No  9.269486e+11  9.269486e+11\n",
              "10       OnlineBackup_No internet service  6.180160e+11  6.180160e+11\n",
              "14        TechSupport_No internet service -5.900709e+11  5.900709e+11\n",
              "12   DeviceProtection_No internet service  5.128835e+11  5.128835e+11\n",
              "8      OnlineSecurity_No internet service  4.099856e+11  4.099856e+11\n",
              "18    StreamingMovies_No internet service  2.132620e+11  2.132620e+11\n",
              "28                         MonthlyCharges -6.063822e-01  6.063822e-01\n",
              "29                           TotalCharges -3.828562e-01  3.828562e-01\n",
              "6             InternetService_Fiber optic  3.341077e-01  3.341077e-01\n",
              "20                      Contract_One year -1.334354e-01  1.334354e-01\n",
              "19                    StreamingMovies_Yes  1.322709e-01  1.322709e-01\n",
              "17                        StreamingTV_Yes  1.264818e-01  1.264818e-01\n",
              "27                                 tenure -1.143796e-01  1.143796e-01\n",
              "21                      Contract_Two year -1.020425e-01  1.020425e-01\n",
              "5                       MultipleLines_Yes  7.412626e-02  7.412626e-02\n",
              "26                          SeniorCitizen  4.751126e-02  4.751126e-02\n",
              "24         PaymentMethod_Electronic check  4.637742e-02  4.637742e-02\n",
              "13                   DeviceProtection_Yes  3.651758e-02  3.651758e-02\n",
              "23  PaymentMethod_Credit card (automatic) -3.635337e-02  3.635337e-02\n",
              "2                          Dependents_Yes -3.000571e-02  3.000571e-02\n",
              "22                   PaperlessBilling_Yes  2.657725e-02  2.657725e-02\n",
              "15                        TechSupport_Yes -2.473835e-02  2.473835e-02\n",
              "9                      OnlineSecurity_Yes -2.131509e-02  2.131509e-02\n",
              "11                       OnlineBackup_Yes  1.828526e-02  1.828526e-02\n",
              "25             PaymentMethod_Mailed check -1.353362e-02  1.353362e-02\n",
              "1                             Partner_Yes -8.555717e-03  8.555717e-03\n",
              "0                             gender_Male -3.839434e-03  3.839434e-03"
            ],
            "text/html": [
              "\n",
              "  <div id=\"df-7b9417fa-e203-49f3-af78-38b44500b7e1\">\n",
              "    <div class=\"colab-df-container\">\n",
              "      <div>\n",
              "<style scoped>\n",
              "    .dataframe tbody tr th:only-of-type {\n",
              "        vertical-align: middle;\n",
              "    }\n",
              "\n",
              "    .dataframe tbody tr th {\n",
              "        vertical-align: top;\n",
              "    }\n",
              "\n",
              "    .dataframe thead th {\n",
              "        text-align: right;\n",
              "    }\n",
              "</style>\n",
              "<table border=\"1\" class=\"dataframe\">\n",
              "  <thead>\n",
              "    <tr style=\"text-align: right;\">\n",
              "      <th></th>\n",
              "      <th>est_int</th>\n",
              "      <th>coefs</th>\n",
              "      <th>abs_coefs</th>\n",
              "    </tr>\n",
              "  </thead>\n",
              "  <tbody>\n",
              "    <tr>\n",
              "      <th>4</th>\n",
              "      <td>MultipleLines_No phone service</td>\n",
              "      <td>-4.747781e+12</td>\n",
              "      <td>4.747781e+12</td>\n",
              "    </tr>\n",
              "    <tr>\n",
              "      <th>3</th>\n",
              "      <td>PhoneService_Yes</td>\n",
              "      <td>-4.747781e+12</td>\n",
              "      <td>4.747781e+12</td>\n",
              "    </tr>\n",
              "    <tr>\n",
              "      <th>16</th>\n",
              "      <td>StreamingTV_No internet service</td>\n",
              "      <td>-2.091025e+12</td>\n",
              "      <td>2.091025e+12</td>\n",
              "    </tr>\n",
              "    <tr>\n",
              "      <th>7</th>\n",
              "      <td>InternetService_No</td>\n",
              "      <td>9.269486e+11</td>\n",
              "      <td>9.269486e+11</td>\n",
              "    </tr>\n",
              "    <tr>\n",
              "      <th>10</th>\n",
              "      <td>OnlineBackup_No internet service</td>\n",
              "      <td>6.180160e+11</td>\n",
              "      <td>6.180160e+11</td>\n",
              "    </tr>\n",
              "    <tr>\n",
              "      <th>14</th>\n",
              "      <td>TechSupport_No internet service</td>\n",
              "      <td>-5.900709e+11</td>\n",
              "      <td>5.900709e+11</td>\n",
              "    </tr>\n",
              "    <tr>\n",
              "      <th>12</th>\n",
              "      <td>DeviceProtection_No internet service</td>\n",
              "      <td>5.128835e+11</td>\n",
              "      <td>5.128835e+11</td>\n",
              "    </tr>\n",
              "    <tr>\n",
              "      <th>8</th>\n",
              "      <td>OnlineSecurity_No internet service</td>\n",
              "      <td>4.099856e+11</td>\n",
              "      <td>4.099856e+11</td>\n",
              "    </tr>\n",
              "    <tr>\n",
              "      <th>18</th>\n",
              "      <td>StreamingMovies_No internet service</td>\n",
              "      <td>2.132620e+11</td>\n",
              "      <td>2.132620e+11</td>\n",
              "    </tr>\n",
              "    <tr>\n",
              "      <th>28</th>\n",
              "      <td>MonthlyCharges</td>\n",
              "      <td>-6.063822e-01</td>\n",
              "      <td>6.063822e-01</td>\n",
              "    </tr>\n",
              "    <tr>\n",
              "      <th>29</th>\n",
              "      <td>TotalCharges</td>\n",
              "      <td>-3.828562e-01</td>\n",
              "      <td>3.828562e-01</td>\n",
              "    </tr>\n",
              "    <tr>\n",
              "      <th>6</th>\n",
              "      <td>InternetService_Fiber optic</td>\n",
              "      <td>3.341077e-01</td>\n",
              "      <td>3.341077e-01</td>\n",
              "    </tr>\n",
              "    <tr>\n",
              "      <th>20</th>\n",
              "      <td>Contract_One year</td>\n",
              "      <td>-1.334354e-01</td>\n",
              "      <td>1.334354e-01</td>\n",
              "    </tr>\n",
              "    <tr>\n",
              "      <th>19</th>\n",
              "      <td>StreamingMovies_Yes</td>\n",
              "      <td>1.322709e-01</td>\n",
              "      <td>1.322709e-01</td>\n",
              "    </tr>\n",
              "    <tr>\n",
              "      <th>17</th>\n",
              "      <td>StreamingTV_Yes</td>\n",
              "      <td>1.264818e-01</td>\n",
              "      <td>1.264818e-01</td>\n",
              "    </tr>\n",
              "    <tr>\n",
              "      <th>27</th>\n",
              "      <td>tenure</td>\n",
              "      <td>-1.143796e-01</td>\n",
              "      <td>1.143796e-01</td>\n",
              "    </tr>\n",
              "    <tr>\n",
              "      <th>21</th>\n",
              "      <td>Contract_Two year</td>\n",
              "      <td>-1.020425e-01</td>\n",
              "      <td>1.020425e-01</td>\n",
              "    </tr>\n",
              "    <tr>\n",
              "      <th>5</th>\n",
              "      <td>MultipleLines_Yes</td>\n",
              "      <td>7.412626e-02</td>\n",
              "      <td>7.412626e-02</td>\n",
              "    </tr>\n",
              "    <tr>\n",
              "      <th>26</th>\n",
              "      <td>SeniorCitizen</td>\n",
              "      <td>4.751126e-02</td>\n",
              "      <td>4.751126e-02</td>\n",
              "    </tr>\n",
              "    <tr>\n",
              "      <th>24</th>\n",
              "      <td>PaymentMethod_Electronic check</td>\n",
              "      <td>4.637742e-02</td>\n",
              "      <td>4.637742e-02</td>\n",
              "    </tr>\n",
              "    <tr>\n",
              "      <th>13</th>\n",
              "      <td>DeviceProtection_Yes</td>\n",
              "      <td>3.651758e-02</td>\n",
              "      <td>3.651758e-02</td>\n",
              "    </tr>\n",
              "    <tr>\n",
              "      <th>23</th>\n",
              "      <td>PaymentMethod_Credit card (automatic)</td>\n",
              "      <td>-3.635337e-02</td>\n",
              "      <td>3.635337e-02</td>\n",
              "    </tr>\n",
              "    <tr>\n",
              "      <th>2</th>\n",
              "      <td>Dependents_Yes</td>\n",
              "      <td>-3.000571e-02</td>\n",
              "      <td>3.000571e-02</td>\n",
              "    </tr>\n",
              "    <tr>\n",
              "      <th>22</th>\n",
              "      <td>PaperlessBilling_Yes</td>\n",
              "      <td>2.657725e-02</td>\n",
              "      <td>2.657725e-02</td>\n",
              "    </tr>\n",
              "    <tr>\n",
              "      <th>15</th>\n",
              "      <td>TechSupport_Yes</td>\n",
              "      <td>-2.473835e-02</td>\n",
              "      <td>2.473835e-02</td>\n",
              "    </tr>\n",
              "    <tr>\n",
              "      <th>9</th>\n",
              "      <td>OnlineSecurity_Yes</td>\n",
              "      <td>-2.131509e-02</td>\n",
              "      <td>2.131509e-02</td>\n",
              "    </tr>\n",
              "    <tr>\n",
              "      <th>11</th>\n",
              "      <td>OnlineBackup_Yes</td>\n",
              "      <td>1.828526e-02</td>\n",
              "      <td>1.828526e-02</td>\n",
              "    </tr>\n",
              "    <tr>\n",
              "      <th>25</th>\n",
              "      <td>PaymentMethod_Mailed check</td>\n",
              "      <td>-1.353362e-02</td>\n",
              "      <td>1.353362e-02</td>\n",
              "    </tr>\n",
              "    <tr>\n",
              "      <th>1</th>\n",
              "      <td>Partner_Yes</td>\n",
              "      <td>-8.555717e-03</td>\n",
              "      <td>8.555717e-03</td>\n",
              "    </tr>\n",
              "    <tr>\n",
              "      <th>0</th>\n",
              "      <td>gender_Male</td>\n",
              "      <td>-3.839434e-03</td>\n",
              "      <td>3.839434e-03</td>\n",
              "    </tr>\n",
              "  </tbody>\n",
              "</table>\n",
              "</div>\n",
              "      <button class=\"colab-df-convert\" onclick=\"convertToInteractive('df-7b9417fa-e203-49f3-af78-38b44500b7e1')\"\n",
              "              title=\"Convert this dataframe to an interactive table.\"\n",
              "              style=\"display:none;\">\n",
              "        \n",
              "  <svg xmlns=\"http://www.w3.org/2000/svg\" height=\"24px\"viewBox=\"0 0 24 24\"\n",
              "       width=\"24px\">\n",
              "    <path d=\"M0 0h24v24H0V0z\" fill=\"none\"/>\n",
              "    <path d=\"M18.56 5.44l.94 2.06.94-2.06 2.06-.94-2.06-.94-.94-2.06-.94 2.06-2.06.94zm-11 1L8.5 8.5l.94-2.06 2.06-.94-2.06-.94L8.5 2.5l-.94 2.06-2.06.94zm10 10l.94 2.06.94-2.06 2.06-.94-2.06-.94-.94-2.06-.94 2.06-2.06.94z\"/><path d=\"M17.41 7.96l-1.37-1.37c-.4-.4-.92-.59-1.43-.59-.52 0-1.04.2-1.43.59L10.3 9.45l-7.72 7.72c-.78.78-.78 2.05 0 2.83L4 21.41c.39.39.9.59 1.41.59.51 0 1.02-.2 1.41-.59l7.78-7.78 2.81-2.81c.8-.78.8-2.07 0-2.86zM5.41 20L4 18.59l7.72-7.72 1.47 1.35L5.41 20z\"/>\n",
              "  </svg>\n",
              "      </button>\n",
              "      \n",
              "  <style>\n",
              "    .colab-df-container {\n",
              "      display:flex;\n",
              "      flex-wrap:wrap;\n",
              "      gap: 12px;\n",
              "    }\n",
              "\n",
              "    .colab-df-convert {\n",
              "      background-color: #E8F0FE;\n",
              "      border: none;\n",
              "      border-radius: 50%;\n",
              "      cursor: pointer;\n",
              "      display: none;\n",
              "      fill: #1967D2;\n",
              "      height: 32px;\n",
              "      padding: 0 0 0 0;\n",
              "      width: 32px;\n",
              "    }\n",
              "\n",
              "    .colab-df-convert:hover {\n",
              "      background-color: #E2EBFA;\n",
              "      box-shadow: 0px 1px 2px rgba(60, 64, 67, 0.3), 0px 1px 3px 1px rgba(60, 64, 67, 0.15);\n",
              "      fill: #174EA6;\n",
              "    }\n",
              "\n",
              "    [theme=dark] .colab-df-convert {\n",
              "      background-color: #3B4455;\n",
              "      fill: #D2E3FC;\n",
              "    }\n",
              "\n",
              "    [theme=dark] .colab-df-convert:hover {\n",
              "      background-color: #434B5C;\n",
              "      box-shadow: 0px 1px 3px 1px rgba(0, 0, 0, 0.15);\n",
              "      filter: drop-shadow(0px 1px 2px rgba(0, 0, 0, 0.3));\n",
              "      fill: #FFFFFF;\n",
              "    }\n",
              "  </style>\n",
              "\n",
              "      <script>\n",
              "        const buttonEl =\n",
              "          document.querySelector('#df-7b9417fa-e203-49f3-af78-38b44500b7e1 button.colab-df-convert');\n",
              "        buttonEl.style.display =\n",
              "          google.colab.kernel.accessAllowed ? 'block' : 'none';\n",
              "\n",
              "        async function convertToInteractive(key) {\n",
              "          const element = document.querySelector('#df-7b9417fa-e203-49f3-af78-38b44500b7e1');\n",
              "          const dataTable =\n",
              "            await google.colab.kernel.invokeFunction('convertToInteractive',\n",
              "                                                     [key], {});\n",
              "          if (!dataTable) return;\n",
              "\n",
              "          const docLinkHtml = 'Like what you see? Visit the ' +\n",
              "            '<a target=\"_blank\" href=https://colab.research.google.com/notebooks/data_table.ipynb>data table notebook</a>'\n",
              "            + ' to learn more about interactive tables.';\n",
              "          element.innerHTML = '';\n",
              "          dataTable['output_type'] = 'display_data';\n",
              "          await google.colab.output.renderOutput(dataTable, element);\n",
              "          const docLink = document.createElement('div');\n",
              "          docLink.innerHTML = docLinkHtml;\n",
              "          element.appendChild(docLink);\n",
              "        }\n",
              "      </script>\n",
              "    </div>\n",
              "  </div>\n",
              "  "
            ]
          },
          "metadata": {},
          "execution_count": 46
        }
      ]
    },
    {
      "cell_type": "code",
      "source": [
        "# METRICS\n",
        "\n",
        "# I have used the application carried out by Felix Frohböse in his Machine Learning Case Study: Telco Customer Churn Prediction study\n",
        "# https://towardsdatascience.com/machine-learning-case-study-telco-customer-churn-prediction-bc4be03c9e1d#:~:text=Telcos%20apply%20machine%20learning%20models,the%20domain%20of%20supervised%20learning.\n",
        "\n",
        "def feature_weights(X_df, classifier, classifier_name):\n",
        "    weights = pd.Series(classifier.coef_[0], index=X_df.columns.values).sort_values(ascending=False)\n",
        "\n",
        "    top_weights_selected = weights[:10]\n",
        "    plt.figure(figsize=(7,6))\n",
        "    plt.tick_params(labelsize=10)\n",
        "    plt.title(f'{classifier_name} - Top 10 Features')\n",
        "    top_weights_selected.plot(kind='bar')\n",
        "    \n",
        "    bottom_weights_selected = weights[-10:]\n",
        "    plt.figure(figsize=(7,6))\n",
        "    plt.tick_params(labelsize=10)\n",
        "    plt.title(f'{classifier_name} - Bottom 10 Features')\n",
        "    bottom_weights_selected.plot(kind='bar')\n",
        "\n",
        "    return print(\"\")\n",
        "\n",
        "def confusion_matrix_plot(X_train, y_train, X_test, y_test, classifier, y_pred, classifier_name):\n",
        "    fig, ax = plt.subplots(figsize=(7, 6))\n",
        "    metrics.plot_confusion_matrix(classifier, X_test, y_test, display_labels=[\"No Churn\", \"Churn\"], cmap=plt.cm.Blues, normalize=None, ax=ax)\n",
        "    ax.set_title(f'{classifier_name} - Confusion Matrix')\n",
        "    plt.show()\n",
        "\n",
        "    fig, ax = plt.subplots(figsize=(7, 6))\n",
        "    metrics.plot_confusion_matrix(classifier, X_test, y_test, display_labels=[\"No Churn\", \"Churn\"], cmap=plt.cm.Blues, normalize='true', ax=ax)\n",
        "    ax.set_title(f'{classifier_name} - Confusion Matrix (norm.)')\n",
        "    plt.show()\n",
        "\n",
        "    print(f'Accuracy score test: {metrics.accuracy_score(y_test, y_pred)}')\n",
        "    print(f'Accuracy score train: {classifier.score(X_train, y_train)} (as comparison)')\n",
        "    return print(\"\")\n",
        "\n",
        "def roc_curve_auc_score(X_test, y_test, y_pred_probabilities, classifier_name):\n",
        "\n",
        "    y_pred_prob = y_pred_probabilities[:, 1]\n",
        "    fpr, tpr, thresholds = metrics.roc_curve(y_test, y_pred_prob)\n",
        "\n",
        "    plt.plot([0, 1], [0, 1], 'k--')\n",
        "    plt.plot(fpr, tpr, label=f'{classifier_name}')\n",
        "    plt.xlabel('False Positive Rate')\n",
        "    plt.ylabel('True Positive Rate')\n",
        "    plt.title(f'{classifier_name} - ROC Curve')\n",
        "    plt.show()\n",
        "\n",
        "    return print(f'AUC Score (ROC): {metrics.roc_auc_score(y_test, y_pred_prob)}\\n')\n",
        "\n",
        "def precision_recall_curve_and_scores(X_test, y_test, y_pred, y_pred_probabilities, classifier_name):\n",
        "    y_pred_prob = y_pred_probabilities[:, 1]\n",
        "    precision, recall, thresholds = metrics.precision_recall_curve(y_test, y_pred_prob)\n",
        "\n",
        "    plt.plot(recall, precision, label=f'{classifier_name}')\n",
        "    plt.xlabel('Recall')\n",
        "    plt.ylabel('Precision')\n",
        "    plt.title(f'{classifier_name} - Precision-Recall Curve')\n",
        "    plt.show()\n",
        "\n",
        "    f1_score_result, auc_score_result = metrics.f1_score(y_test, y_pred), metrics.auc(recall, precision)\n",
        "\n",
        "    return print(f'f1 Score: {f1_score_result} \\n AUC Score (PR): {auc_score_result}\\n')\n",
        "    "
      ],
      "metadata": {
        "id": "a66zRlRZ7LUV"
      },
      "execution_count": 47,
      "outputs": []
    },
    {
      "cell_type": "code",
      "source": [
        "def fit_logreg_mod(df, response_col, test_size, rand_state=42):\n",
        "    '''   \n",
        "    The function does:\n",
        "    1. Split your data into an X matrix and a response vector y\n",
        "    2. Create training and test sets of data\n",
        "    3. Instantiate a LogisticRegression model with normalized data\n",
        "    4. Fit your model to the training data\n",
        "    5. Predict the response for the training data and the test data\n",
        "    6. Obtain an rsquared value for both the training and test data\n",
        "    '''\n",
        "    \n",
        "    X = df.drop(response_col, axis=1) #1\n",
        "    y = df[response_col]\n",
        "    X_train, X_test, y_train, y_test = model_selection.train_test_split(X, y, test_size = test_size, random_state=rand_state) #2\n",
        "    lm_model = linear_model.LogisticRegression(random_state=rand_state, max_iter = 100) #3\n",
        "    lm_model.fit(X_train, y_train) #4\n",
        "    y_test_preds = lm_model.predict(X_test) #5\n",
        "    y_train_preds = lm_model.predict(X_train)\n",
        "    test_score = metrics.r2_score(y_test, y_test_preds) #6\n",
        "    train_score = metrics.r2_score(y_train, y_train_preds)\n",
        "\n",
        "    return test_score, train_score, lm_model, X_train, X_test, y_train, y_test"
      ],
      "metadata": {
        "id": "0NSgSRTQ7NUD"
      },
      "execution_count": 48,
      "outputs": []
    },
    {
      "cell_type": "code",
      "source": [
        "test_score_logreg_mod, train_score_logreg_mod, lm_model_logreg, X_train_logreg, X_test_logreg, y_train_logreg, y_test_logreg = fit_logreg_mod(\n",
        "    df_cat_and_num, 'Churn_Yes', .2, 42)"
      ],
      "metadata": {
        "id": "3lOiYvoM7PFB"
      },
      "execution_count": 49,
      "outputs": []
    },
    {
      "cell_type": "code",
      "source": [
        "print(f'Using linear model we get a train r2 score of: \\n{train_score_norm_linear_mod} vs logistic regression model {train_score_logreg_mod} \\nand a test r2 score of: \\n{test_score_norm_linear_mod} vs {test_score_logreg_mod}')\n"
      ],
      "metadata": {
        "colab": {
          "base_uri": "https://localhost:8080/"
        },
        "id": "tK1raKs57P7z",
        "outputId": "f642fd27-1bc0-429c-9e99-a922edbfd7c7"
      },
      "execution_count": 50,
      "outputs": [
        {
          "output_type": "stream",
          "name": "stdout",
          "text": [
            "Using linear model we get a train r2 score of: \n",
            "0.28959013812642576 vs logistic regression model 0.014268708447042977 \n",
            "and a test r2 score of: \n",
            "0.2479815694147599 vs -0.08527159873894097\n"
          ]
        }
      ]
    },
    {
      "cell_type": "code",
      "source": [
        "y_pred_logreg = lm_model_logreg.predict(X_test)\n",
        "y_pred_logreg_prob = lm_model_logreg.predict_proba(X_test)"
      ],
      "metadata": {
        "id": "oljIjkPR7Qt1"
      },
      "execution_count": 51,
      "outputs": []
    },
    {
      "cell_type": "code",
      "source": [
        "X1 = df_cat_and_num.drop('Churn_Yes', axis=1)\n",
        "\n",
        "feature_weights(X1, lm_model_logreg, 'Log. Regression')\n",
        "confusion_matrix_plot(X_train_logreg, y_train_logreg, X_test_logreg, y_test_logreg, lm_model_logreg, y_pred_logreg, 'Log. Regression')\n",
        "roc_curve_auc_score(X_test_logreg, y_test_logreg, y_pred_logreg_prob, 'Log. Regression')\n",
        "precision_recall_curve_and_scores(X_test_logreg, y_test_logreg, y_pred_logreg, y_pred_logreg_prob, 'Log. Regression')\n"
      ],
      "metadata": {
        "colab": {
          "base_uri": "https://localhost:8080/",
          "height": 1000
        },
        "id": "vSFVDUWw7Rmo",
        "outputId": "0110fccc-8cc8-4d42-88ab-90452bb5c1df"
      },
      "execution_count": 53,
      "outputs": [
        {
          "output_type": "stream",
          "name": "stdout",
          "text": [
            "\n"
          ]
        },
        {
          "output_type": "stream",
          "name": "stderr",
          "text": [
            "/usr/local/lib/python3.7/dist-packages/sklearn/utils/deprecation.py:87: FutureWarning: Function plot_confusion_matrix is deprecated; Function `plot_confusion_matrix` is deprecated in 1.0 and will be removed in 1.2. Use one of the class methods: ConfusionMatrixDisplay.from_predictions or ConfusionMatrixDisplay.from_estimator.\n",
            "  warnings.warn(msg, category=FutureWarning)\n"
          ]
        },
        {
          "output_type": "display_data",
          "data": {
            "text/plain": [
              "<Figure size 504x432 with 1 Axes>"
            ],
            "image/png": "[encoded data removed]"
          },
          "metadata": {
            "needs_background": "light"
          }
        },
        {
          "output_type": "display_data",
          "data": {
            "text/plain": [
              "<Figure size 504x432 with 1 Axes>"
            ],
            "image/png": "[encoded data removed]"
          },
          "metadata": {
            "needs_background": "light"
          }
        },
        {
          "output_type": "display_data",
          "data": {
            "text/plain": [
              "<Figure size 504x432 with 2 Axes>"
            ],
            "image/png": "[encoded data removed]"
          },
          "metadata": {
            "needs_background": "light"
          }
        },
        {
          "output_type": "stream",
          "name": "stderr",
          "text": [
            "/usr/local/lib/python3.7/dist-packages/sklearn/utils/deprecation.py:87: FutureWarning: Function plot_confusion_matrix is deprecated; Function `plot_confusion_matrix` is deprecated in 1.0 and will be removed in 1.2. Use one of the class methods: ConfusionMatrixDisplay.from_predictions or ConfusionMatrixDisplay.from_estimator.\n",
            "  warnings.warn(msg, category=FutureWarning)\n"
          ]
        },
        {
          "output_type": "display_data",
          "data": {
            "text/plain": [
              "<Figure size 504x432 with 2 Axes>"
            ],
            "image/png": "[encoded data removed]"
          },
          "metadata": {
            "needs_background": "light"
          }
        },
        {
          "output_type": "stream",
          "name": "stdout",
          "text": [
            "Accuracy score test: 0.7882018479033405\n",
            "Accuracy score train: 0.8076444444444445 (as comparison)\n",
            "\n"
          ]
        },
        {
          "output_type": "display_data",
          "data": {
            "text/plain": [
              "<Figure size 432x288 with 1 Axes>"
            ],
            "image/png": "[encoded data removed]"
          },
          "metadata": {
            "needs_background": "light"
          }
        },
        {
          "output_type": "stream",
          "name": "stdout",
          "text": [
            "AUC Score (ROC): 0.8316750443907213\n",
            "\n"
          ]
        },
        {
          "output_type": "display_data",
          "data": {
            "text/plain": [
              "<Figure size 432x288 with 1 Axes>"
            ],
            "image/png": "[encoded data removed]"
          },
          "metadata": {
            "needs_background": "light"
          }
        },
        {
          "output_type": "stream",
          "name": "stdout",
          "text": [
            "f1 Score: 0.5630498533724341 \n",
            " AUC Score (PR): 0.6275875549096759\n",
            "\n"
          ]
        }
      ]
    }
  ]
}