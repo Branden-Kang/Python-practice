{
  "nbformat": 4,
  "nbformat_minor": 0,
  "metadata": {
    "colab": {
      "name": " Converting A String To A List Of Characters.ipynb",
      "provenance": [],
      "authorship_tag": "ABX9TyMTZhV5NOmcc9jmByWwsjOc"
    },
    "kernelspec": {
      "name": "python3",
      "display_name": "Python 3"
    },
    "language_info": {
      "name": "python"
    }
  },
  "cells": [
    {
      "cell_type": "markdown",
      "metadata": {
        "id": "YSQI4i162D68"
      },
      "source": [
        "[Reference](https://medium.com/weekly-python/python-mini-tutorial-converting-a-string-to-a-list-of-characters-59b425531f33)"
      ]
    },
    {
      "cell_type": "code",
      "metadata": {
        "id": "tj0dvDaSy5Ua"
      },
      "source": [
        "s = 'Weekly Python'"
      ],
      "execution_count": 1,
      "outputs": []
    },
    {
      "cell_type": "code",
      "metadata": {
        "id": "2U7oSgWY2HN4"
      },
      "source": [
        "l = list(s)"
      ],
      "execution_count": 2,
      "outputs": []
    },
    {
      "cell_type": "code",
      "metadata": {
        "colab": {
          "base_uri": "https://localhost:8080/"
        },
        "id": "oS0EoICl2IZw",
        "outputId": "f55b65e9-6ebc-4c7d-d54b-394260e20b89"
      },
      "source": [
        "print(l)"
      ],
      "execution_count": 3,
      "outputs": [
        {
          "output_type": "stream",
          "text": [
            "['W', 'e', 'e', 'k', 'l', 'y', ' ', 'P', 'y', 't', 'h', 'o', 'n']\n"
          ],
          "name": "stdout"
        }
      ]
    },
    {
      "cell_type": "code",
      "metadata": {
        "id": "aTJxWeOX2JbJ"
      },
      "source": [
        "l[0] = 'w'"
      ],
      "execution_count": 4,
      "outputs": []
    },
    {
      "cell_type": "code",
      "metadata": {
        "colab": {
          "base_uri": "https://localhost:8080/"
        },
        "id": "B-G0q0_B2K1l",
        "outputId": "3ed24ccc-51d5-448f-a55a-51ece55b01ac"
      },
      "source": [
        "s2 = ''.join(l)\n",
        "print(s2)"
      ],
      "execution_count": 5,
      "outputs": [
        {
          "output_type": "stream",
          "text": [
            "weekly Python\n"
          ],
          "name": "stdout"
        }
      ]
    }
  ]
}