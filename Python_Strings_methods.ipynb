{
  "nbformat": 4,
  "nbformat_minor": 0,
  "metadata": {
    "colab": {
      "name": "Python Strings methods.ipynb",
      "provenance": [],
      "authorship_tag": "ABX9TyN5a9FfM2gudpuViaN3LPyg"
    },
    "kernelspec": {
      "name": "python3",
      "display_name": "Python 3"
    },
    "language_info": {
      "name": "python"
    }
  },
  "cells": [
    {
      "cell_type": "markdown",
      "metadata": {
        "id": "F_fPlYynH6sh"
      },
      "source": [
        "[Reference](https://jasonjoseph072.medium.com/python-strings-d2ee43f761b1)"
      ]
    },
    {
      "cell_type": "code",
      "metadata": {
        "colab": {
          "base_uri": "https://localhost:8080/"
        },
        "id": "m6Or8UrxHcb0",
        "outputId": "2036a1ff-3ef6-433a-fe4e-9d2bf2e1285d"
      },
      "source": [
        "my_string = \"Where's Branden\"\n",
        "my_string.find('Branden')"
      ],
      "execution_count": 1,
      "outputs": [
        {
          "output_type": "execute_result",
          "data": {
            "text/plain": [
              "8"
            ]
          },
          "metadata": {
            "tags": []
          },
          "execution_count": 1
        }
      ]
    },
    {
      "cell_type": "code",
      "metadata": {
        "colab": {
          "base_uri": "https://localhost:8080/"
        },
        "id": "qKiAMD-AICdF",
        "outputId": "7a8fa996-687b-4bbd-8fd8-d06e58880659"
      },
      "source": [
        "my_string.find('Brandon')"
      ],
      "execution_count": 2,
      "outputs": [
        {
          "output_type": "execute_result",
          "data": {
            "text/plain": [
              "-1"
            ]
          },
          "metadata": {
            "tags": []
          },
          "execution_count": 2
        }
      ]
    },
    {
      "cell_type": "code",
      "metadata": {
        "colab": {
          "base_uri": "https://localhost:8080/"
        },
        "id": "HqAZUe3pIGen",
        "outputId": "40655bb9-7786-443a-dd3d-18bf1962eb4d"
      },
      "source": [
        "my_string.find('Branden',0,6)"
      ],
      "execution_count": 4,
      "outputs": [
        {
          "output_type": "execute_result",
          "data": {
            "text/plain": [
              "-1"
            ]
          },
          "metadata": {
            "tags": []
          },
          "execution_count": 4
        }
      ]
    },
    {
      "cell_type": "code",
      "metadata": {
        "colab": {
          "base_uri": "https://localhost:8080/"
        },
        "id": "CHUPHeWfIJpR",
        "outputId": "161f27e9-2ec3-47b0-a776-406d760f7b50"
      },
      "source": [
        "my_string.index('Branden')"
      ],
      "execution_count": 6,
      "outputs": [
        {
          "output_type": "execute_result",
          "data": {
            "text/plain": [
              "8"
            ]
          },
          "metadata": {
            "tags": []
          },
          "execution_count": 6
        }
      ]
    },
    {
      "cell_type": "code",
      "metadata": {
        "colab": {
          "base_uri": "https://localhost:8080/",
          "height": 198
        },
        "id": "MTYxWJ4IINQm",
        "outputId": "44ea333e-4b74-4dd5-a6bb-4b5417b7b3bc"
      },
      "source": [
        "my_string.index('Brandon')"
      ],
      "execution_count": 7,
      "outputs": [
        {
          "output_type": "error",
          "ename": "ValueError",
          "evalue": "ignored",
          "traceback": [
            "\u001b[0;31m---------------------------------------------------------------------------\u001b[0m",
            "\u001b[0;31mValueError\u001b[0m                                Traceback (most recent call last)",
            "\u001b[0;32m<ipython-input-7-3c10012fcca3>\u001b[0m in \u001b[0;36m<module>\u001b[0;34m()\u001b[0m\n\u001b[0;32m----> 1\u001b[0;31m \u001b[0mmy_string\u001b[0m\u001b[0;34m.\u001b[0m\u001b[0mindex\u001b[0m\u001b[0;34m(\u001b[0m\u001b[0;34m'Brandon'\u001b[0m\u001b[0;34m)\u001b[0m\u001b[0;34m\u001b[0m\u001b[0;34m\u001b[0m\u001b[0m\n\u001b[0m",
            "\u001b[0;31mValueError\u001b[0m: substring not found"
          ]
        }
      ]
    },
    {
      "cell_type": "code",
      "metadata": {
        "id": "SnKKIaWjIQC-"
      },
      "source": [
        "try:\n",
        "    my_string.index('Branden')\n",
        "except ValueError:\n",
        "    print(\"Can't find\")"
      ],
      "execution_count": 9,
      "outputs": []
    },
    {
      "cell_type": "code",
      "metadata": {
        "colab": {
          "base_uri": "https://localhost:8080/"
        },
        "id": "o3YcgzRoIXMI",
        "outputId": "f97f2a97-a9de-42f0-973b-4f4756d09c80"
      },
      "source": [
        "my_string = \"Let's find Branden. Branden is in a house.\"\n",
        "my_string.count('Branden')"
      ],
      "execution_count": 10,
      "outputs": [
        {
          "output_type": "execute_result",
          "data": {
            "text/plain": [
              "2"
            ]
          },
          "metadata": {
            "tags": []
          },
          "execution_count": 10
        }
      ]
    },
    {
      "cell_type": "code",
      "metadata": {
        "colab": {
          "base_uri": "https://localhost:8080/"
        },
        "id": "xK1X3f7qIsHD",
        "outputId": "2b015d3e-22e8-49c1-b698-fe06f787e883"
      },
      "source": [
        "my_string.count('Branden', 0, 6)"
      ],
      "execution_count": 11,
      "outputs": [
        {
          "output_type": "execute_result",
          "data": {
            "text/plain": [
              "0"
            ]
          },
          "metadata": {
            "tags": []
          },
          "execution_count": 11
        }
      ]
    },
    {
      "cell_type": "code",
      "metadata": {
        "colab": {
          "base_uri": "https://localhost:8080/"
        },
        "id": "3ICMYFp5IvwA",
        "outputId": "7b14bc49-6996-4e83-e596-41a2f7aa1e0a"
      },
      "source": [
        "my_string = \"Let's find Branden. Branden is in a house.\"\n",
        "\n",
        "print(my_string.replace('Branden', 'Chris'))"
      ],
      "execution_count": 12,
      "outputs": [
        {
          "output_type": "stream",
          "text": [
            "Let's find Chris. Chris is in a house.\n"
          ],
          "name": "stdout"
        }
      ]
    },
    {
      "cell_type": "code",
      "metadata": {
        "colab": {
          "base_uri": "https://localhost:8080/"
        },
        "id": "N16IF5sgJL2h",
        "outputId": "0339d041-4a47-4abe-9a7d-f5f7b281dd64"
      },
      "source": [
        "print(my_string.replace('Branden', 'Chris', 1))"
      ],
      "execution_count": 14,
      "outputs": [
        {
          "output_type": "stream",
          "text": [
            "Let's find Chris. Branden is in a house.\n"
          ],
          "name": "stdout"
        }
      ]
    }
  ]
}