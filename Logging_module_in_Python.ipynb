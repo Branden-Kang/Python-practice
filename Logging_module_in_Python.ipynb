{
  "nbformat": 4,
  "nbformat_minor": 0,
  "metadata": {
    "colab": {
      "provenance": [],
      "authorship_tag": "ABX9TyMlmDnwKjBZIknOfk4YyILh"
    },
    "kernelspec": {
      "name": "python3",
      "display_name": "Python 3"
    },
    "language_info": {
      "name": "python"
    }
  },
  "cells": [
    {
      "cell_type": "markdown",
      "source": [
        "[Referece](https://gaurav-adarshi.medium.com/logging-module-in-python-a3ed49257928)"
      ],
      "metadata": {
        "id": "rTHw9QKQallE"
      }
    },
    {
      "cell_type": "code",
      "execution_count": 1,
      "metadata": {
        "colab": {
          "base_uri": "https://localhost:8080/"
        },
        "id": "ywGDhf8CakDV",
        "outputId": "a2b1170f-23d2-48bd-f4b2-557e7e9969c3"
      },
      "outputs": [
        {
          "output_type": "stream",
          "name": "stderr",
          "text": [
            "ERROR:root:Rocky raised an error\n"
          ]
        }
      ],
      "source": [
        "import logging\n",
        "name = 'Rocky'\n",
        "logging.error(f'{name} raised an error')"
      ]
    },
    {
      "cell_type": "code",
      "source": [
        "# Import the logging module\n",
        "import logging\n",
        "\n",
        "# Create and configure the logger\n",
        "logging.basicConfig(filename=\"newfile.log\",  # Specify the log file name\n",
        "                    format='%(asctime)s %(message)s',  # Define log message format\n",
        "                    filemode='w')  # Set file mode to 'w' for writing\n",
        "\n",
        "# Create a logger object\n",
        "logger = logging.getLogger()\n",
        "\n",
        "# Set the logger's threshold to DEBUG level\n",
        "logger.setLevel(logging.DEBUG)\n",
        "\n",
        "# Log different test messages with various severity levels\n",
        "logger.debug(\"A harmless debug message\")  # Debug level message\n",
        "logger.info(\"Just providing some information\")  # Information level message\n",
        "logger.warning(\"This is a warning\")  # Warning level message\n",
        "logger.error(\"Have you attempted to divide by zero?\")  # Error level message\n",
        "logger.critical(\"The internet connection is down\")  # Critical level message"
      ],
      "metadata": {
        "colab": {
          "base_uri": "https://localhost:8080/"
        },
        "id": "wnW6CmGQay5A",
        "outputId": "7473ab4a-d53e-4488-a6eb-250c7c5290a4"
      },
      "execution_count": 2,
      "outputs": [
        {
          "output_type": "stream",
          "name": "stderr",
          "text": [
            "DEBUG:root:A harmless debug message\n",
            "INFO:root:Just providing some information\n",
            "WARNING:root:This is a warning\n",
            "ERROR:root:Have you attempted to divide by zero?\n",
            "CRITICAL:root:The internet connection is down\n"
          ]
        }
      ]
    },
    {
      "cell_type": "code",
      "source": [
        "# my_logging.py\n",
        "\n",
        "import logging\n",
        "import logging.config\n",
        "\n",
        "logging.config.fileConfig('temp.conf')\n",
        "\n",
        "# create logger\n",
        "logger = logging.getLogger('simpleExample')\n",
        "\n",
        "# 'application' code\n",
        "logger.debug('debug message')\n",
        "logger.info('info message')\n",
        "logger.warning('warn message')\n",
        "logger.error('error message')\n",
        "logger.critical('critical message')"
      ],
      "metadata": {
        "colab": {
          "base_uri": "https://localhost:8080/"
        },
        "id": "X7OQWoULa01k",
        "outputId": "4766266b-5869-4b67-ccb1-498b2d8864ad"
      },
      "execution_count": 5,
      "outputs": [
        {
          "output_type": "stream",
          "name": "stderr",
          "text": [
            "DEBUG:simpleExample:debug message\n",
            "INFO:simpleExample:info message\n",
            "WARNING:simpleExample:warn message\n",
            "ERROR:simpleExample:error message\n",
            "CRITICAL:simpleExample:critical message\n"
          ]
        }
      ]
    },
    {
      "cell_type": "code",
      "source": [
        "import logging\n",
        "\n",
        "# Configure the logging system\n",
        "logging.basicConfig(level=logging.DEBUG,\n",
        "                    format='%(asctime)s - %(levelname)s - %(message)s')\n",
        "\n",
        "# Define a function to perform an operation on a given value\n",
        "def perform_operation(value):\n",
        "    if value < 0:\n",
        "        # Raise a ValueError for negative input\n",
        "        raise ValueError(\"Invalid value: The value cannot be negative.\")\n",
        "    else:\n",
        "        # Continue with the operation and log a success message\n",
        "        logging.info(\"Operation completed successfully.\")\n",
        "\n",
        "try:\n",
        "    # Get user input for a numerical value\n",
        "    input_value = int(input(\"Please input a numerical value: \"))\n",
        "\n",
        "    # Call the perform_operation function with the input value\n",
        "    perform_operation(input_value)\n",
        "except ValueError as ve:\n",
        "    # Handle a ValueError exception and log it\n",
        "    logging.exception(\"An exception occurred: %s\", str(ve))"
      ],
      "metadata": {
        "colab": {
          "base_uri": "https://localhost:8080/"
        },
        "id": "sgKjjSwBa3Ho",
        "outputId": "003048b7-77da-475e-9b07-98e03f7619dc"
      },
      "execution_count": 4,
      "outputs": [
        {
          "name": "stdout",
          "output_type": "stream",
          "text": [
            "Please input a numerical value: 20\n"
          ]
        },
        {
          "output_type": "stream",
          "name": "stderr",
          "text": [
            "INFO:root:Operation completed successfully.\n"
          ]
        }
      ]
    }
  ]
}