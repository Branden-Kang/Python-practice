{
  "nbformat": 4,
  "nbformat_minor": 0,
  "metadata": {
    "colab": {
      "name": "Your Python Output Can Be Prettier.ipynb",
      "provenance": [],
      "authorship_tag": "ABX9TyN0B6nxLoFAJuzYWCjZ3TLH"
    },
    "kernelspec": {
      "name": "python3",
      "display_name": "Python 3"
    },
    "language_info": {
      "name": "python"
    }
  },
  "cells": [
    {
      "cell_type": "markdown",
      "metadata": {
        "id": "FCN9Ywerfp_j"
      },
      "source": [
        "[Reference](https://towardsdatascience.com/your-python-output-can-be-prettier-c697ace3f161)\n",
        "\n"
      ]
    },
    {
      "cell_type": "markdown",
      "metadata": {
        "id": "EsDVNUQ1fyZI"
      },
      "source": [
        "# pp.pprint(sample_dict)"
      ]
    },
    {
      "cell_type": "code",
      "metadata": {
        "id": "Y1XdVhdpfnIG"
      },
      "source": [
        "import pprint as pp\n",
        "\n",
        "sample_dict = {\n",
        "    'name': 'Chris',\n",
        "    'age': 33,\n",
        "    'message': 'Thank you for reading my article!',\n",
        "    'topic':'Python Programming'\n",
        "}"
      ],
      "execution_count": 1,
      "outputs": []
    },
    {
      "cell_type": "code",
      "metadata": {
        "colab": {
          "base_uri": "https://localhost:8080/"
        },
        "id": "_3azBl8ufutB",
        "outputId": "69bebad9-c744-4722-bb77-1aa2efed8654"
      },
      "source": [
        "print(sample_dict)"
      ],
      "execution_count": 2,
      "outputs": [
        {
          "output_type": "stream",
          "text": [
            "{'name': 'Chris', 'age': 33, 'message': 'Thank you for reading my article!', 'topic': 'Python Programming'}\n"
          ],
          "name": "stdout"
        }
      ]
    },
    {
      "cell_type": "code",
      "metadata": {
        "colab": {
          "base_uri": "https://localhost:8080/"
        },
        "id": "dkUJpBRtfvtN",
        "outputId": "9e81184a-7cad-4e66-d38c-8edb8c96cd82"
      },
      "source": [
        "pp.pprint(sample_dict)"
      ],
      "execution_count": 3,
      "outputs": [
        {
          "output_type": "stream",
          "text": [
            "{'age': 33,\n",
            " 'message': 'Thank you for reading my article!',\n",
            " 'name': 'Chris',\n",
            " 'topic': 'Python Programming'}\n"
          ],
          "name": "stdout"
        }
      ]
    },
    {
      "cell_type": "markdown",
      "metadata": {
        "id": "AdOjjYttfzxX"
      },
      "source": [
        "# 2. Text Wrapping"
      ]
    },
    {
      "cell_type": "code",
      "metadata": {
        "colab": {
          "base_uri": "https://localhost:8080/"
        },
        "id": "0xMIBn7Lfw2-",
        "outputId": "5f0344eb-c720-4af3-e31e-54a90fed531f"
      },
      "source": [
        "pp.pprint(sample_dict, width=30)"
      ],
      "execution_count": 4,
      "outputs": [
        {
          "output_type": "stream",
          "text": [
            "{'age': 33,\n",
            " 'message': 'Thank you for '\n",
            "            'reading my '\n",
            "            'article!',\n",
            " 'name': 'Chris',\n",
            " 'topic': 'Python '\n",
            "          'Programming'}\n"
          ],
          "name": "stdout"
        }
      ]
    },
    {
      "cell_type": "code",
      "metadata": {
        "colab": {
          "base_uri": "https://localhost:8080/"
        },
        "id": "NLU9OR0Qf03r",
        "outputId": "3eb24ce1-aba0-451a-e058-d298d0427cd9"
      },
      "source": [
        "pp.pprint(sample_dict, width=30, indent=10)"
      ],
      "execution_count": 5,
      "outputs": [
        {
          "output_type": "stream",
          "text": [
            "{         'age': 33,\n",
            "          'message': 'Thank '\n",
            "                     'you '\n",
            "                     'for '\n",
            "                     'reading '\n",
            "                     'my '\n",
            "                     'article!',\n",
            "          'name': 'Chris',\n",
            "          'topic': 'Python '\n",
            "                   'Programming'}\n"
          ],
          "name": "stdout"
        }
      ]
    },
    {
      "cell_type": "markdown",
      "metadata": {
        "id": "GxBkIZDsf4Yy"
      },
      "source": [
        "# 3. Nested Objects Truncating"
      ]
    },
    {
      "cell_type": "code",
      "metadata": {
        "colab": {
          "base_uri": "https://localhost:8080/"
        },
        "id": "JeHWoAm3f26H",
        "outputId": "d28cc222-395f-411d-9fa7-0e6c52a66664"
      },
      "source": [
        "sample_list = ['level1', ['level2', ['level3']]]\n",
        "pp.pprint(sample_list)"
      ],
      "execution_count": 6,
      "outputs": [
        {
          "output_type": "stream",
          "text": [
            "['level1', ['level2', ['level3']]]\n"
          ],
          "name": "stdout"
        }
      ]
    },
    {
      "cell_type": "code",
      "metadata": {
        "colab": {
          "base_uri": "https://localhost:8080/"
        },
        "id": "EZJj8AmjgC-H",
        "outputId": "3a831f57-8797-42bc-aa9d-8a3b0c0ff24e"
      },
      "source": [
        "pp.pprint(sample_list, depth=2)"
      ],
      "execution_count": 7,
      "outputs": [
        {
          "output_type": "stream",
          "text": [
            "['level1', ['level2', [...]]]\n"
          ],
          "name": "stdout"
        }
      ]
    },
    {
      "cell_type": "code",
      "metadata": {
        "colab": {
          "base_uri": "https://localhost:8080/"
        },
        "id": "K20qqaBagE28",
        "outputId": "f920faa3-abf0-429a-ebe4-2f8772939449"
      },
      "source": [
        "pp.pprint(sample_list, depth=1)"
      ],
      "execution_count": 8,
      "outputs": [
        {
          "output_type": "stream",
          "text": [
            "['level1', [...]]\n"
          ],
          "name": "stdout"
        }
      ]
    },
    {
      "cell_type": "markdown",
      "metadata": {
        "id": "UYykIlwYgGXJ"
      },
      "source": [
        "# 4. Instantiating Pretty Printer"
      ]
    },
    {
      "cell_type": "code",
      "metadata": {
        "id": "T8EbY1w2gKXa"
      },
      "source": [
        "import pprint"
      ],
      "execution_count": 10,
      "outputs": []
    },
    {
      "cell_type": "code",
      "metadata": {
        "id": "mMZEfw3ugFGi"
      },
      "source": [
        "pp = pprint.PrettyPrinter(depth=2)"
      ],
      "execution_count": 11,
      "outputs": []
    },
    {
      "cell_type": "code",
      "metadata": {
        "colab": {
          "base_uri": "https://localhost:8080/"
        },
        "id": "-Qu00HU3gIO1",
        "outputId": "30ed3405-8eef-430a-d643-70a4fa933688"
      },
      "source": [
        "pp.pprint(sample_list)"
      ],
      "execution_count": 12,
      "outputs": [
        {
          "output_type": "stream",
          "text": [
            "['level1', ['level2', [...]]]\n"
          ],
          "name": "stdout"
        }
      ]
    },
    {
      "cell_type": "markdown",
      "metadata": {
        "id": "I9llr6iCgRdH"
      },
      "source": [
        "# 5. Example in Practice"
      ]
    },
    {
      "cell_type": "code",
      "metadata": {
        "id": "YhIhsPkggKpK"
      },
      "source": [
        "import json\n",
        "import pprint\n",
        "from urllib.request import urlopen\n",
        "with urlopen('https://pypi.org/pypi/sampleproject/json') as res:\n",
        "    project_info = json.load(res)['info']\n",
        "    \n",
        "del project_info['description']"
      ],
      "execution_count": 13,
      "outputs": []
    },
    {
      "cell_type": "code",
      "metadata": {
        "colab": {
          "base_uri": "https://localhost:8080/"
        },
        "id": "Ek_pANJRgUfC",
        "outputId": "634de14f-29d7-48fa-ca17-3f3e47a8fdd0"
      },
      "source": [
        "print(project_info)"
      ],
      "execution_count": 14,
      "outputs": [
        {
          "output_type": "stream",
          "text": [
            "{'author': 'A. Random Developer', 'author_email': 'author@example.com', 'bugtrack_url': None, 'classifiers': ['Development Status :: 3 - Alpha', 'Intended Audience :: Developers', 'License :: OSI Approved :: MIT License', 'Programming Language :: Python :: 3', 'Programming Language :: Python :: 3 :: Only', 'Programming Language :: Python :: 3.5', 'Programming Language :: Python :: 3.6', 'Programming Language :: Python :: 3.7', 'Programming Language :: Python :: 3.8', 'Topic :: Software Development :: Build Tools'], 'description_content_type': 'text/markdown', 'docs_url': None, 'download_url': '', 'downloads': {'last_day': -1, 'last_month': -1, 'last_week': -1}, 'home_page': 'https://github.com/pypa/sampleproject', 'keywords': 'sample setuptools development', 'license': '', 'maintainer': '', 'maintainer_email': '', 'name': 'sampleproject', 'package_url': 'https://pypi.org/project/sampleproject/', 'platform': '', 'project_url': 'https://pypi.org/project/sampleproject/', 'project_urls': {'Bug Reports': 'https://github.com/pypa/sampleproject/issues', 'Funding': 'https://donate.pypi.org', 'Homepage': 'https://github.com/pypa/sampleproject', 'Say Thanks!': 'http://saythanks.io/to/example', 'Source': 'https://github.com/pypa/sampleproject/'}, 'release_url': 'https://pypi.org/project/sampleproject/2.0.0/', 'requires_dist': ['peppercorn', \"check-manifest ; extra == 'dev'\", \"coverage ; extra == 'test'\"], 'requires_python': '>=3.5, <4', 'summary': 'A sample Python project', 'version': '2.0.0', 'yanked': False, 'yanked_reason': None}\n"
          ],
          "name": "stdout"
        }
      ]
    },
    {
      "cell_type": "code",
      "metadata": {
        "colab": {
          "base_uri": "https://localhost:8080/"
        },
        "id": "wFvNr_ElgWsM",
        "outputId": "04966d18-9b76-4426-a527-61fa1c46f0f9"
      },
      "source": [
        "pprint.pprint(project_info, depth=1, width=60)"
      ],
      "execution_count": 15,
      "outputs": [
        {
          "output_type": "stream",
          "text": [
            "{'author': 'A. Random Developer',\n",
            " 'author_email': 'author@example.com',\n",
            " 'bugtrack_url': None,\n",
            " 'classifiers': [...],\n",
            " 'description_content_type': 'text/markdown',\n",
            " 'docs_url': None,\n",
            " 'download_url': '',\n",
            " 'downloads': {...},\n",
            " 'home_page': 'https://github.com/pypa/sampleproject',\n",
            " 'keywords': 'sample setuptools development',\n",
            " 'license': '',\n",
            " 'maintainer': '',\n",
            " 'maintainer_email': '',\n",
            " 'name': 'sampleproject',\n",
            " 'package_url': 'https://pypi.org/project/sampleproject/',\n",
            " 'platform': '',\n",
            " 'project_url': 'https://pypi.org/project/sampleproject/',\n",
            " 'project_urls': {...},\n",
            " 'release_url': 'https://pypi.org/project/sampleproject/2.0.0/',\n",
            " 'requires_dist': [...],\n",
            " 'requires_python': '>=3.5, <4',\n",
            " 'summary': 'A sample Python project',\n",
            " 'version': '2.0.0',\n",
            " 'yanked': False,\n",
            " 'yanked_reason': None}\n"
          ],
          "name": "stdout"
        }
      ]
    }
  ]
}