{
  "nbformat": 4,
  "nbformat_minor": 0,
  "metadata": {
    "colab": {
      "name": "Apriori algorithm implementation using optimized approach with pandas.ipynb",
      "provenance": [],
      "authorship_tag": "ABX9TyNP+CGLjN6vJqN5msdLen8T"
    },
    "kernelspec": {
      "name": "python3",
      "display_name": "Python 3"
    }
  },
  "cells": [
    {
      "cell_type": "markdown",
      "metadata": {
        "id": "GHmb5UYso7wv",
        "colab_type": "text"
      },
      "source": [
        "[Reference](https://towardsdatascience.com/apriori-algorithm-implementation-using-optimized-approach-with-pandas-a72aacd990fe)"
      ]
    },
    {
      "cell_type": "code",
      "metadata": {
        "id": "hSm_IXHeo0qu",
        "colab_type": "code",
        "colab": {}
      },
      "source": [
        "from itertools import combinations\n",
        "from operator import itemgetter\n",
        "import pandas as pd\n",
        "from time import time"
      ],
      "execution_count": 2,
      "outputs": []
    },
    {
      "cell_type": "code",
      "metadata": {
        "id": "qN9si_OaeDoy",
        "colab_type": "code",
        "colab": {}
      },
      "source": [
        "table = pd.read_csv('https://raw.githubusercontent.com/karankharecha/Big_Data_Algorithms/master/datasets/sampledata_numbers.csv')"
      ],
      "execution_count": 4,
      "outputs": []
    },
    {
      "cell_type": "code",
      "metadata": {
        "id": "N_8IGOzQeDir",
        "colab_type": "code",
        "colab": {
          "base_uri": "https://localhost:8080/",
          "height": 204
        },
        "outputId": "eef0faef-65bb-4397-e3b0-9225969b30a9"
      },
      "source": [
        "table.head()"
      ],
      "execution_count": 5,
      "outputs": [
        {
          "output_type": "execute_result",
          "data": {
            "text/html": [
              "<div>\n",
              "<style scoped>\n",
              "    .dataframe tbody tr th:only-of-type {\n",
              "        vertical-align: middle;\n",
              "    }\n",
              "\n",
              "    .dataframe tbody tr th {\n",
              "        vertical-align: top;\n",
              "    }\n",
              "\n",
              "    .dataframe thead th {\n",
              "        text-align: right;\n",
              "    }\n",
              "</style>\n",
              "<table border=\"1\" class=\"dataframe\">\n",
              "  <thead>\n",
              "    <tr style=\"text-align: right;\">\n",
              "      <th></th>\n",
              "      <th>items</th>\n",
              "    </tr>\n",
              "  </thead>\n",
              "  <tbody>\n",
              "    <tr>\n",
              "      <th>0</th>\n",
              "      <td>2,5,6,9,17,22,24,31,37,39,40,42,47</td>\n",
              "    </tr>\n",
              "    <tr>\n",
              "      <th>1</th>\n",
              "      <td>2,4,6,16,17,19,22,39,43,49,50</td>\n",
              "    </tr>\n",
              "    <tr>\n",
              "      <th>2</th>\n",
              "      <td>2,6,10,11,15,17,18,23,26,28,33,47</td>\n",
              "    </tr>\n",
              "    <tr>\n",
              "      <th>3</th>\n",
              "      <td>4,17,19,22,40,43,46</td>\n",
              "    </tr>\n",
              "    <tr>\n",
              "      <th>4</th>\n",
              "      <td>6,8,10,22,26,35,37,47</td>\n",
              "    </tr>\n",
              "  </tbody>\n",
              "</table>\n",
              "</div>"
            ],
            "text/plain": [
              "                                items\n",
              "0  2,5,6,9,17,22,24,31,37,39,40,42,47\n",
              "1       2,4,6,16,17,19,22,39,43,49,50\n",
              "2   2,6,10,11,15,17,18,23,26,28,33,47\n",
              "3                 4,17,19,22,40,43,46\n",
              "4               6,8,10,22,26,35,37,47"
            ]
          },
          "metadata": {
            "tags": []
          },
          "execution_count": 5
        }
      ]
    },
    {
      "cell_type": "code",
      "metadata": {
        "id": "uBDh6vFxdyDv",
        "colab_type": "code",
        "colab": {
          "base_uri": "https://localhost:8080/",
          "height": 629
        },
        "outputId": "d680da1f-0d9c-42fe-f5a8-83838c84972a"
      },
      "source": [
        "def perform_apriori(data, support_count):\n",
        "\n",
        "    single_items = (data['items'].str.split(\",\", expand=True))\\\n",
        "        .apply(pd.value_counts).sum(axis=1).where(lambda value: value > support_count).dropna()\n",
        "\n",
        "    apriori_data = pd.DataFrame(\n",
        "        {'items': single_items.index.astype(int), 'support_count': single_items.values, 'set_size': 1})\n",
        "\n",
        "    data['set_size'] = data['items'].str.count(\",\") + 1\n",
        "\n",
        "    data['items'] = data['items'].apply(lambda row: set(map(int, row.split(\",\"))))\n",
        "\n",
        "    single_items_set = set(single_items.index.astype(int))\n",
        "\n",
        "    for length in range(2, len(single_items_set) + 1):\n",
        "        data = data[data['set_size'] >= length]\n",
        "        d = data['items'] \\\n",
        "            .apply(lambda st: pd.Series(s if set(s).issubset(st) else None for s in combinations(single_items_set, length))) \\\n",
        "            .apply(lambda col: [col.dropna().unique()[0], col.count()] if col.count() >= support_count else None).dropna()\n",
        "        if d.empty:\n",
        "            break\n",
        "        apriori_data = apriori_data.append(pd.DataFrame(\n",
        "            {'items': list(map(itemgetter(0), d.values)), 'support_count': list(map(itemgetter(1), d.values)),\n",
        "             'set_size': length}), ignore_index=True)\n",
        "\n",
        "    return apriori_data\n",
        "\n",
        "\n",
        "if __name__ == '__main__':\n",
        "    table = pd.read_csv('https://raw.githubusercontent.com/karankharecha/Big_Data_Algorithms/master/datasets/sampledata_numbers.csv')\n",
        "    start = time()\n",
        "    print(perform_apriori(data=table, support_count=500))\n",
        "    print(time() - start)"
      ],
      "execution_count": 3,
      "outputs": [
        {
          "output_type": "stream",
          "text": [
            "       items  support_count  set_size\n",
            "0         10          733.0         1\n",
            "1         11          654.0         1\n",
            "2         16          775.0         1\n",
            "3         17         1378.0         1\n",
            "4         19         1144.0         1\n",
            "5          2          791.0         1\n",
            "6         23          751.0         1\n",
            "7         26          693.0         1\n",
            "8         28         1139.0         1\n",
            "9         32          828.0         1\n",
            "10        33          884.0         1\n",
            "11        37         1194.0         1\n",
            "12        39          645.0         1\n",
            "13         4          644.0         1\n",
            "14        40          669.0         1\n",
            "15        43         1339.0         1\n",
            "16        46          720.0         1\n",
            "17        47          793.0         1\n",
            "18         6         1349.0         1\n",
            "19   (37, 6)          636.0         2\n",
            "20  (37, 43)          577.0         2\n",
            "21  (37, 17)          660.0         2\n",
            "22  (37, 19)          519.0         2\n",
            "23  (37, 28)          527.0         2\n",
            "24   (6, 43)          691.0         2\n",
            "25   (6, 17)          746.0         2\n",
            "26   (6, 19)          642.0         2\n",
            "27   (6, 28)          617.0         2\n",
            "28  (43, 17)          740.0         2\n",
            "29  (43, 19)          614.0         2\n",
            "30  (43, 28)          631.0         2\n",
            "31  (17, 19)          652.0         2\n",
            "32  (17, 28)          637.0         2\n",
            "33  (19, 28)          532.0         2\n",
            "3.65813946723938\n"
          ],
          "name": "stdout"
        }
      ]
    }
  ]
}