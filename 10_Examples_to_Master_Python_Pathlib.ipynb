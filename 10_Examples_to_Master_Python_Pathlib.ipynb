{
  "nbformat": 4,
  "nbformat_minor": 0,
  "metadata": {
    "colab": {
      "name": "10 Examples to Master Python Pathlib",
      "provenance": [],
      "authorship_tag": "ABX9TyPCgj3uS7QQH4ve6C0qpiRk"
    },
    "kernelspec": {
      "name": "python3",
      "display_name": "Python 3"
    },
    "language_info": {
      "name": "python"
    }
  },
  "cells": [
    {
      "cell_type": "markdown",
      "metadata": {
        "id": "26lHv9jvYNTk"
      },
      "source": [
        "[Reference](https://towardsdatascience.com/10-examples-to-master-python-pathlib-1249cc77de0b)"
      ]
    },
    {
      "cell_type": "code",
      "metadata": {
        "colab": {
          "base_uri": "https://localhost:8080/"
        },
        "id": "iwLBEVmeYMHL",
        "outputId": "eb6d256a-5c66-4342-f0a6-6461f7824806"
      },
      "source": [
        "import pathlib\n",
        "pathlib.Path()"
      ],
      "execution_count": 2,
      "outputs": [
        {
          "output_type": "execute_result",
          "data": {
            "text/plain": [
              "PosixPath('.')"
            ]
          },
          "metadata": {
            "tags": []
          },
          "execution_count": 2
        }
      ]
    },
    {
      "cell_type": "code",
      "metadata": {
        "colab": {
          "base_uri": "https://localhost:8080/"
        },
        "id": "7sdMSVXVYWLE",
        "outputId": "db3e2bc3-18a5-41bb-ca71-bb8c27c78304"
      },
      "source": [
        "p = pathlib.Path(\"names\", \"file1.json\")\n",
        "p"
      ],
      "execution_count": 3,
      "outputs": [
        {
          "output_type": "execute_result",
          "data": {
            "text/plain": [
              "PosixPath('names/file1.json')"
            ]
          },
          "metadata": {
            "tags": []
          },
          "execution_count": 3
        }
      ]
    },
    {
      "cell_type": "code",
      "metadata": {
        "colab": {
          "base_uri": "https://localhost:8080/"
        },
        "id": "MnTF7CobYW5o",
        "outputId": "b7c2bc33-0dc5-4067-f40e-1490cddb86ee"
      },
      "source": [
        "p.resolve()"
      ],
      "execution_count": 4,
      "outputs": [
        {
          "output_type": "execute_result",
          "data": {
            "text/plain": [
              "PosixPath('/content/names/file1.json')"
            ]
          },
          "metadata": {
            "tags": []
          },
          "execution_count": 4
        }
      ]
    },
    {
      "cell_type": "code",
      "metadata": {
        "colab": {
          "base_uri": "https://localhost:8080/"
        },
        "id": "qHnsPs3mYZd_",
        "outputId": "707ffe2e-b23a-4c3c-f421-bbd5b8b89bf7"
      },
      "source": [
        "p.absolute()"
      ],
      "execution_count": 5,
      "outputs": [
        {
          "output_type": "execute_result",
          "data": {
            "text/plain": [
              "PosixPath('/content/names/file1.json')"
            ]
          },
          "metadata": {
            "tags": []
          },
          "execution_count": 5
        }
      ]
    },
    {
      "cell_type": "code",
      "metadata": {
        "id": "P4lSEOchYbui"
      },
      "source": [
        "# p.read_text()"
      ],
      "execution_count": 7,
      "outputs": []
    },
    {
      "cell_type": "code",
      "metadata": {
        "id": "M3DJ_LyXYfnv"
      },
      "source": [
        "# import json\n",
        "# json.loads(p.read_text())"
      ],
      "execution_count": 9,
      "outputs": []
    },
    {
      "cell_type": "code",
      "metadata": {
        "colab": {
          "base_uri": "https://localhost:8080/"
        },
        "id": "VJbchfI5YinG",
        "outputId": "91cd0bc8-fcc2-4999-b991-1cbe66d07f54"
      },
      "source": [
        "p1 = pathlib.Path(\"names\", \"file1.json\")\n",
        "\n",
        "p2 = pathlib.Path(\"names\")\n",
        "\n",
        "p_relative = p1.relative_to(p2)\n",
        "\n",
        "p_relative"
      ],
      "execution_count": 10,
      "outputs": [
        {
          "output_type": "execute_result",
          "data": {
            "text/plain": [
              "PosixPath('file1.json')"
            ]
          },
          "metadata": {
            "tags": []
          },
          "execution_count": 10
        }
      ]
    },
    {
      "cell_type": "code",
      "metadata": {
        "id": "3V22Uu9LYm8h"
      },
      "source": [
        "p1 = pathlib.Path(\"names\", \"file1.json\")\n",
        "p2 = p1.resolve()"
      ],
      "execution_count": 11,
      "outputs": []
    },
    {
      "cell_type": "code",
      "metadata": {
        "id": "emcWIkMYYocb"
      },
      "source": [
        "# p1.samefile(p2)"
      ],
      "execution_count": 13,
      "outputs": []
    },
    {
      "cell_type": "code",
      "metadata": {
        "colab": {
          "base_uri": "https://localhost:8080/"
        },
        "id": "MG8kvHDuYp4g",
        "outputId": "49ecf1a7-2bfe-405f-c022-50492076f6d1"
      },
      "source": [
        "p1.is_dir()"
      ],
      "execution_count": 14,
      "outputs": [
        {
          "output_type": "execute_result",
          "data": {
            "text/plain": [
              "False"
            ]
          },
          "metadata": {
            "tags": []
          },
          "execution_count": 14
        }
      ]
    },
    {
      "cell_type": "code",
      "metadata": {
        "colab": {
          "base_uri": "https://localhost:8080/"
        },
        "id": "ykz4pgXEYroJ",
        "outputId": "666d1c19-2c67-4298-a665-b178cf7fe533"
      },
      "source": [
        "p1.is_file()"
      ],
      "execution_count": 15,
      "outputs": [
        {
          "output_type": "execute_result",
          "data": {
            "text/plain": [
              "False"
            ]
          },
          "metadata": {
            "tags": []
          },
          "execution_count": 15
        }
      ]
    },
    {
      "cell_type": "code",
      "metadata": {
        "id": "PzS2tTHBYsqo"
      },
      "source": [
        "p = pathlib.Path(\"names\", \"file1.json\")"
      ],
      "execution_count": 16,
      "outputs": []
    },
    {
      "cell_type": "code",
      "metadata": {
        "id": "Uzx_LFDwYt2q"
      },
      "source": [
        "# p.rename(pathlib.Path(\"id\", \"file1-a.json\"))"
      ],
      "execution_count": 19,
      "outputs": []
    },
    {
      "cell_type": "code",
      "metadata": {
        "colab": {
          "base_uri": "https://localhost:8080/"
        },
        "id": "jWO-JWbRYvSy",
        "outputId": "a504371b-383f-4d56-da87-dcec4798aa62"
      },
      "source": [
        "p"
      ],
      "execution_count": 18,
      "outputs": [
        {
          "output_type": "execute_result",
          "data": {
            "text/plain": [
              "PosixPath('names/file1.json')"
            ]
          },
          "metadata": {
            "tags": []
          },
          "execution_count": 18
        }
      ]
    },
    {
      "cell_type": "code",
      "metadata": {
        "colab": {
          "base_uri": "https://localhost:8080/"
        },
        "id": "NcAYNm2yYwfM",
        "outputId": "eb7caa5b-48e5-4f95-8eac-cf185999bc51"
      },
      "source": [
        "p.exists()"
      ],
      "execution_count": 20,
      "outputs": [
        {
          "output_type": "execute_result",
          "data": {
            "text/plain": [
              "False"
            ]
          },
          "metadata": {
            "tags": []
          },
          "execution_count": 20
        }
      ]
    },
    {
      "cell_type": "code",
      "metadata": {
        "id": "Q68uwIRiYykQ"
      },
      "source": [
        "p = pathlib.Path(\"id\", \"file1-a.json\")\n",
        "d = json.loads(p.read_text())\n",
        "d"
      ],
      "execution_count": 21,
      "outputs": []
    },
    {
      "cell_type": "code",
      "metadata": {
        "id": "gXGScZRcY1eM"
      },
      "source": [
        "text = json.dumps(d)\n",
        "pathlib.Path(\"id\", \"newfile.json\").write_text(text)"
      ],
      "execution_count": 22,
      "outputs": []
    },
    {
      "cell_type": "code",
      "metadata": {
        "id": "7nJ1qnX_Y5I8"
      },
      "source": [
        "pathlib.Path(\"id\", \"newfile.json\").read_text()"
      ],
      "execution_count": 23,
      "outputs": []
    },
    {
      "cell_type": "code",
      "metadata": {
        "colab": {
          "base_uri": "https://localhost:8080/"
        },
        "id": "oj1Mcz2zY75H",
        "outputId": "60971c10-81a8-4934-f64c-f4bfd3b252ea"
      },
      "source": [
        "p"
      ],
      "execution_count": 24,
      "outputs": [
        {
          "output_type": "execute_result",
          "data": {
            "text/plain": [
              "PosixPath('names/file1.json')"
            ]
          },
          "metadata": {
            "tags": []
          },
          "execution_count": 24
        }
      ]
    },
    {
      "cell_type": "code",
      "metadata": {
        "colab": {
          "base_uri": "https://localhost:8080/"
        },
        "id": "591OkcT9Y9cJ",
        "outputId": "632eb2c6-8be3-4742-ab05-753f639b0c66"
      },
      "source": [
        "p.parent"
      ],
      "execution_count": 25,
      "outputs": [
        {
          "output_type": "execute_result",
          "data": {
            "text/plain": [
              "PosixPath('names')"
            ]
          },
          "metadata": {
            "tags": []
          },
          "execution_count": 25
        }
      ]
    },
    {
      "cell_type": "code",
      "metadata": {
        "colab": {
          "base_uri": "https://localhost:8080/"
        },
        "id": "1EWPGhezY-c9",
        "outputId": "66c54d41-939c-447b-c684-e38ca10f2e91"
      },
      "source": [
        "list(p.parents)"
      ],
      "execution_count": 26,
      "outputs": [
        {
          "output_type": "execute_result",
          "data": {
            "text/plain": [
              "[PosixPath('names'), PosixPath('.')]"
            ]
          },
          "metadata": {
            "tags": []
          },
          "execution_count": 26
        }
      ]
    }
  ]
}