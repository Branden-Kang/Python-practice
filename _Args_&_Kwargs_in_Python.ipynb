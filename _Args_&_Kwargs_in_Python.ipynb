{
  "nbformat": 4,
  "nbformat_minor": 0,
  "metadata": {
    "colab": {
      "name": "*Args & **Kwargs in Python.ipynb",
      "provenance": [],
      "authorship_tag": "ABX9TyPN4jzZLRQg0sPZ6lGmK37z"
    },
    "kernelspec": {
      "name": "python3",
      "display_name": "Python 3"
    }
  },
  "cells": [
    {
      "cell_type": "markdown",
      "metadata": {
        "id": "ahsY3uxVxHO8"
      },
      "source": [
        "[Reference](https://medium.com/analytics-vidhya/args-kwargs-in-python-b74295f3cd0)"
      ]
    },
    {
      "cell_type": "code",
      "metadata": {
        "colab": {
          "base_uri": "https://localhost:8080/"
        },
        "id": "AszPTlwHw942",
        "outputId": "2c325f23-81de-4149-d445-d6ffeb9f1a8c"
      },
      "source": [
        "def maximum_2(a,b):\n",
        "    if a == b:\n",
        "        return f\"All arguments are equal. Maximum value: {a}\"\n",
        "    elif a > b:\n",
        "        return f\"A = {a} is the maximum value between A and B\"\n",
        "    else:\n",
        "        return f\"B = {b} is the maximum value between A and B\" \n",
        "\n",
        "print(maximum_2(100, 400))       "
      ],
      "execution_count": 1,
      "outputs": [
        {
          "output_type": "stream",
          "text": [
            "B = 400 is the maximum value between A and B\n"
          ],
          "name": "stdout"
        }
      ]
    },
    {
      "cell_type": "code",
      "metadata": {
        "colab": {
          "base_uri": "https://localhost:8080/"
        },
        "id": "3uf4Ih3yxcZ_",
        "outputId": "53cc740e-5f96-4de1-b6fa-eee512571ae5"
      },
      "source": [
        "def maximum_l(List):\n",
        "    max = List[0]\n",
        "    for i in List:\n",
        "        if i > max:\n",
        "            max = i\n",
        "    return f\"The maximum value in the list {List} : {max}\" \n",
        "\n",
        "a = [-5,-6,-6,-3,-4,-5,-20]\n",
        "print(maximum_l(a))   \n",
        "b = [10,100,400]\n",
        "print(maximum_l(b))      "
      ],
      "execution_count": 3,
      "outputs": [
        {
          "output_type": "stream",
          "text": [
            "The maximum value in the list [-5, -6, -6, -3, -4, -5, -20] : -3\n",
            "The maximum value in the list [10, 100, 400] : 400\n"
          ],
          "name": "stdout"
        }
      ]
    },
    {
      "cell_type": "code",
      "metadata": {
        "colab": {
          "base_uri": "https://localhost:8080/"
        },
        "id": "xrbIRdDrx2Fy",
        "outputId": "deb10e89-90a6-49a1-9ac4-4d4772eaebc8"
      },
      "source": [
        "A = [1,2,3,4]\n",
        "B = [5,6,7,8]\n",
        "\n",
        "C = *A, *B\n",
        "print(type(C))\n",
        "print(C)"
      ],
      "execution_count": 4,
      "outputs": [
        {
          "output_type": "stream",
          "text": [
            "<class 'tuple'>\n",
            "(1, 2, 3, 4, 5, 6, 7, 8)\n"
          ],
          "name": "stdout"
        }
      ]
    },
    {
      "cell_type": "code",
      "metadata": {
        "colab": {
          "base_uri": "https://localhost:8080/"
        },
        "id": "IaNAkiIeyBUA",
        "outputId": "78715c01-1cc7-41be-febb-a01aae613e52"
      },
      "source": [
        "def maximum(*Argh):\n",
        "    max = Argh[0]\n",
        "    for i in Argh:\n",
        "        if i > max:\n",
        "            max = i\n",
        "    return f\"The maximum value is {max}\" \n",
        "\n",
        "print(\"Case 1 - \", maximum(40,500,100))\n",
        "print(\"Case 2 - \", maximum(20, 80, 60, 10, 50))\n",
        "print(\"Case 3 - \", maximum(*a))"
      ],
      "execution_count": 5,
      "outputs": [
        {
          "output_type": "stream",
          "text": [
            "Case 1 -  The maximum value is 500\n",
            "Case 2 -  The maximum value is 80\n",
            "Case 3 -  The maximum value is -3\n"
          ],
          "name": "stdout"
        }
      ]
    },
    {
      "cell_type": "code",
      "metadata": {
        "colab": {
          "base_uri": "https://localhost:8080/"
        },
        "id": "U9W36dxYyVBZ",
        "outputId": "a3656cf5-a16e-4c58-edae-a4881b69aa61"
      },
      "source": [
        "A = {\"First\": 1, \"Second\": 2, \"Third\": 3}\n",
        "B = {\"Fourth\": 4, \"Fifth\": 5}\n",
        "\n",
        "print(\"Case 1. When * operator is used --\", *A)\n",
        "print(\"Case 2. When ** operator is used --\", {**A})\n",
        "\n",
        "C = {**A, **B}\n",
        "print(\"Case 3. When * operator is used --\", type(C))\n",
        "print(C)"
      ],
      "execution_count": 7,
      "outputs": [
        {
          "output_type": "stream",
          "text": [
            "Case 1. When * operator is used -- First Second Third\n",
            "Case 2. When ** operator is used -- {'First': 1, 'Second': 2, 'Third': 3}\n",
            "Case 3. When * operator is used -- <class 'dict'>\n",
            "{'First': 1, 'Second': 2, 'Third': 3, 'Fourth': 4, 'Fifth': 5}\n"
          ],
          "name": "stdout"
        }
      ]
    },
    {
      "cell_type": "code",
      "metadata": {
        "colab": {
          "base_uri": "https://localhost:8080/"
        },
        "id": "_XhNV6lWyvuU",
        "outputId": "2850efb3-1f3d-46fd-bd33-1a7493ec6268"
      },
      "source": [
        "def maximum_kwarg(**kwaaa):\n",
        "    values = []\n",
        "\n",
        "    for i in kwaaa.values():\n",
        "        values.append(i)\n",
        "\n",
        "    max = values[0]\n",
        "\n",
        "    for i in values:\n",
        "        if i > max:\n",
        "            max = i\n",
        "    return max\n",
        "\n",
        "print(\"Case 1 - The maximum value is\", maximum_kwarg(A = 10000, b =20000, c = 30000))\n",
        "\n",
        "print(\"Case 2 - The maximum value is\", maximum_kwarg(A = 40000, b =50000, c = 60000, d = 70000, e = 80000))\n",
        "\n",
        "A = {\"First\": 10000, \"Second\": 5000, \"Third\": 2500}\n",
        "print(\"Case 3 - The maximum value using dictionary as keyword argument is\", maximum_kwarg(**A))"
      ],
      "execution_count": 8,
      "outputs": [
        {
          "output_type": "stream",
          "text": [
            "Case 1 - The maximum value is 30000\n",
            "Case 2 - The maximum value is 80000\n",
            "Case 3 - The maximum value using dictionary as keyword argument is 10000\n"
          ],
          "name": "stdout"
        }
      ]
    }
  ]
}