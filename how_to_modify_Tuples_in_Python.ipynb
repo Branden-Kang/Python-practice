{
  "nbformat": 4,
  "nbformat_minor": 0,
  "metadata": {
    "colab": {
      "name": "how to modify Tuples in Python.ipynb",
      "provenance": [],
      "authorship_tag": "ABX9TyPqZsDSuOKP23ZnJYWbZALX"
    },
    "kernelspec": {
      "name": "python3",
      "display_name": "Python 3"
    },
    "language_info": {
      "name": "python"
    }
  },
  "cells": [
    {
      "cell_type": "markdown",
      "metadata": {
        "id": "1KfveCs7-oJ_"
      },
      "source": [
        "[Reference](https://medium.com/nerd-for-tech/how-to-modify-tuples-in-python-the-work-arounds-9213a2df21fe)"
      ]
    },
    {
      "cell_type": "code",
      "metadata": {
        "colab": {
          "base_uri": "https://localhost:8080/"
        },
        "id": "9jQg7Bjq-lpD",
        "outputId": "8e62abbb-1530-443c-e95c-90ec7aedc1a9"
      },
      "source": [
        "groceries = ['apple','mango','banana','bread']\n",
        "print(groceries)"
      ],
      "execution_count": 1,
      "outputs": [
        {
          "output_type": "stream",
          "name": "stdout",
          "text": [
            "['apple', 'mango', 'banana', 'bread']\n"
          ]
        }
      ]
    },
    {
      "cell_type": "code",
      "metadata": {
        "colab": {
          "base_uri": "https://localhost:8080/"
        },
        "id": "npgUJB_W-4hU",
        "outputId": "5b9b4064-a753-4c5a-d0b1-2d3359564a8b"
      },
      "source": [
        "groceries_tuple = (('apple','mango','banana','bread'))\n",
        "print(groceries_tuple)"
      ],
      "execution_count": 2,
      "outputs": [
        {
          "output_type": "stream",
          "name": "stdout",
          "text": [
            "('apple', 'mango', 'banana', 'bread')\n"
          ]
        }
      ]
    },
    {
      "cell_type": "code",
      "metadata": {
        "colab": {
          "base_uri": "https://localhost:8080/"
        },
        "id": "kmAS96Tg-_g7",
        "outputId": "956e25b8-edc7-455e-eb33-1c0e9a3f0767"
      },
      "source": [
        "user_login = ('username','email','password')\n",
        "print(user_login)"
      ],
      "execution_count": 3,
      "outputs": [
        {
          "output_type": "stream",
          "name": "stdout",
          "text": [
            "('username', 'email', 'password')\n"
          ]
        }
      ]
    },
    {
      "cell_type": "code",
      "metadata": {
        "colab": {
          "base_uri": "https://localhost:8080/"
        },
        "id": "4_JTHSBW_F7M",
        "outputId": "6e1a9ed6-7e07-46b3-83c8-e169b5a8c9b0"
      },
      "source": [
        "groceries = ['apple','mango','banana']\n",
        "groceries.append('bread')\n",
        "print(groceries)"
      ],
      "execution_count": 4,
      "outputs": [
        {
          "output_type": "stream",
          "name": "stdout",
          "text": [
            "['apple', 'mango', 'banana', 'bread']\n"
          ]
        }
      ]
    },
    {
      "cell_type": "code",
      "metadata": {
        "colab": {
          "base_uri": "https://localhost:8080/"
        },
        "id": "V-nY00_E_NCe",
        "outputId": "844be88d-01e5-441f-8cea-00641b4da7c6"
      },
      "source": [
        "groceries_tuple = ('apple','mango','banana','bread')\n",
        "groceries_list = list(groceries_tuple )\n",
        "print(groceries_list)"
      ],
      "execution_count": 5,
      "outputs": [
        {
          "output_type": "stream",
          "name": "stdout",
          "text": [
            "['apple', 'mango', 'banana', 'bread']\n"
          ]
        }
      ]
    },
    {
      "cell_type": "code",
      "metadata": {
        "colab": {
          "base_uri": "https://localhost:8080/"
        },
        "id": "MEm5V314_WwW",
        "outputId": "82010b1b-abdf-4cab-8e47-8f45e1173bcf"
      },
      "source": [
        "groceries_tuple = ('apple','mango','banana')\n",
        "groceries_list = list(groceries_tuple )\n",
        "groceries_list[2]='bread'\n",
        "groceries_tuple = tuple(groceries_list)\n",
        "print(groceries_tuple)"
      ],
      "execution_count": 8,
      "outputs": [
        {
          "output_type": "stream",
          "name": "stdout",
          "text": [
            "('apple', 'mango', 'bread')\n"
          ]
        }
      ]
    }
  ]
}