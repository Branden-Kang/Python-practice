{
  "nbformat": 4,
  "nbformat_minor": 0,
  "metadata": {
    "colab": {
      "provenance": [],
      "authorship_tag": "ABX9TyOKwmLtP+T3o00ueDyvJYA0"
    },
    "kernelspec": {
      "name": "python3",
      "display_name": "Python 3"
    },
    "language_info": {
      "name": "python"
    }
  },
  "cells": [
    {
      "cell_type": "markdown",
      "source": [
        "[Reference](https://medium.com/@ramanbazhanau/python-principles-playbook-from-solid-to-yagni-on-examples-b98445e11c9c)"
      ],
      "metadata": {
        "id": "Mejcwwzpj7su"
      }
    },
    {
      "cell_type": "markdown",
      "source": [
        "# DRY (Don’t Repeat Yourself)"
      ],
      "metadata": {
        "id": "VqRUY35BlBPn"
      }
    },
    {
      "cell_type": "markdown",
      "source": [
        "Non-DRY Approach"
      ],
      "metadata": {
        "id": "kWqEdiyclNXK"
      }
    },
    {
      "cell_type": "code",
      "source": [
        "def greet_john():\n",
        "    print(\"Hello, John!\")\n",
        "    print(\"Welcome to our company.\")\n",
        "    print(\"We're glad to have you here.\")\n",
        "\n",
        "\n",
        "def greet_sarah():\n",
        "    print(\"Hello, Sarah!\")\n",
        "    print(\"Welcome to our company.\")\n",
        "    print(\"We're glad to have you here.\")\n",
        "\n",
        "\n",
        "def greet_mike():\n",
        "    print(\"Hello, Mike!\")\n",
        "    print(\"Welcome to our company.\")\n",
        "    print(\"We're glad to have you here.\")\n",
        "\n",
        "\n",
        "# Usage\n",
        "greet_john()\n",
        "greet_sarah()\n",
        "greet_mike()"
      ],
      "metadata": {
        "colab": {
          "base_uri": "https://localhost:8080/"
        },
        "id": "0X_wHKynlINy",
        "outputId": "028f68d8-fa54-49c5-db2c-b6dc915fa0ec"
      },
      "execution_count": 1,
      "outputs": [
        {
          "output_type": "stream",
          "name": "stdout",
          "text": [
            "Hello, John!\n",
            "Welcome to our company.\n",
            "We're glad to have you here.\n",
            "Hello, Sarah!\n",
            "Welcome to our company.\n",
            "We're glad to have you here.\n",
            "Hello, Mike!\n",
            "Welcome to our company.\n",
            "We're glad to have you here.\n"
          ]
        }
      ]
    },
    {
      "cell_type": "markdown",
      "source": [
        "Dry approach"
      ],
      "metadata": {
        "id": "04xTeZCClR8H"
      }
    },
    {
      "cell_type": "code",
      "source": [
        "def greet(name):\n",
        "    print(f\"Hello, {name}!\")\n",
        "    print(\"Welcome to our company.\")\n",
        "    print(\"We're glad to have you here.\")\n",
        "\n",
        "\n",
        "# Usage\n",
        "greet(\"John\")\n",
        "greet(\"Sarah\")\n",
        "greet(\"Mike\")"
      ],
      "metadata": {
        "colab": {
          "base_uri": "https://localhost:8080/"
        },
        "id": "gJOElmwRlK4m",
        "outputId": "ab295a1a-2a04-4026-8335-caed89c39150"
      },
      "execution_count": 2,
      "outputs": [
        {
          "output_type": "stream",
          "name": "stdout",
          "text": [
            "Hello, John!\n",
            "Welcome to our company.\n",
            "We're glad to have you here.\n",
            "Hello, Sarah!\n",
            "Welcome to our company.\n",
            "We're glad to have you here.\n",
            "Hello, Mike!\n",
            "Welcome to our company.\n",
            "We're glad to have you here.\n"
          ]
        }
      ]
    },
    {
      "cell_type": "markdown",
      "source": [
        "Non-DRY Approach"
      ],
      "metadata": {
        "id": "Cs20yUc-lVyV"
      }
    },
    {
      "cell_type": "code",
      "source": [
        "import sqlite3\n",
        "\n",
        "\n",
        "def create_customer(name, email, phone):\n",
        "    conn = sqlite3.connect('users.db')\n",
        "    cursor = conn.cursor()\n",
        "    cursor.execute('''\n",
        "        INSERT INTO customers (name, email, phone)\n",
        "        VALUES (?, ?, ?)\n",
        "    ''', (name, email, phone))\n",
        "    conn.commit()\n",
        "    print(f\"Customer {name} created successfully\")\n",
        "    conn.close()\n",
        "\n",
        "\n",
        "def create_employee(name, email, department):\n",
        "    conn = sqlite3.connect('users.db')\n",
        "    cursor = conn.cursor()\n",
        "    cursor.execute('''\n",
        "        INSERT INTO employees (name, email, department)\n",
        "        VALUES (?, ?, ?)\n",
        "    ''', (name, email, department))\n",
        "    conn.commit()\n",
        "    print(f\"Employee {name} created successfully\")\n",
        "    conn.close()\n",
        "\n",
        "\n",
        "def create_admin(name, email, access_level):\n",
        "    conn = sqlite3.connect('users.db')\n",
        "    cursor = conn.cursor()\n",
        "    cursor.execute('''\n",
        "        INSERT INTO admins (name, email, access_level)\n",
        "        VALUES (?, ?, ?)\n",
        "    ''', (name, email, access_level))\n",
        "    conn.commit()\n",
        "    print(f\"Admin {name} created successfully\")\n",
        "    conn.close()\n",
        "\n",
        "\n",
        "# Usage\n",
        "create_customer(\"John Doe\", \"john@example.com\", \"1234567890\")\n",
        "create_employee(\"Jane Smith\", \"jane@company.com\", \"HR\")\n",
        "create_admin(\"Admin User\", \"admin@company.com\", \"Full\")"
      ],
      "metadata": {
        "id": "mLXCAbKUlXyM"
      },
      "execution_count": 3,
      "outputs": []
    },
    {
      "cell_type": "markdown",
      "source": [
        "DRY Approach"
      ],
      "metadata": {
        "id": "j2FdboPtlZZa"
      }
    },
    {
      "cell_type": "code",
      "source": [
        "import sqlite3\n",
        "\n",
        "\n",
        "class UserManager:\n",
        "    def __init__(self, db_name='users.db'):\n",
        "        self.db_name = db_name\n",
        "\n",
        "    def _execute_query(self, query, params):\n",
        "        conn = sqlite3.connect(self.db_name)\n",
        "        cursor = conn.cursor()\n",
        "        cursor.execute(query, params)\n",
        "        conn.commit()\n",
        "        conn.close()\n",
        "\n",
        "    def create_user(self, user_type, name, email, extra_info):\n",
        "        table_name = f\"{user_type}s\"\n",
        "        extra_column = self._get_extra_column(user_type)\n",
        "\n",
        "        query = f'''\n",
        "            INSERT INTO {table_name} (name, email, {extra_column})\n",
        "            VALUES (?, ?, ?)\n",
        "        '''\n",
        "        self._execute_query(query, (name, email, extra_info))\n",
        "        print(f\"{user_type.capitalize()} {name} created successfully\")\n",
        "\n",
        "    def _get_extra_column(self, user_type):\n",
        "        return {\n",
        "            'customer': 'phone',\n",
        "            'employee': 'department',\n",
        "            'admin': 'access_level'\n",
        "        }.get(user_type, '')\n",
        "\n",
        "\n",
        "# Usage\n",
        "user_manager = UserManager()\n",
        "user_manager.create_user(\"customer\", \"John Doe\", \"john@example.com\", \"1234567890\")\n",
        "user_manager.create_user(\"employee\", \"Jane Smith\", \"jane@company.com\", \"HR\")\n",
        "user_manager.create_user(\"admin\", \"Admin User\", \"admin@company.com\", \"Full\")"
      ],
      "metadata": {
        "id": "HRy5E6fPlcTx"
      },
      "execution_count": 4,
      "outputs": []
    },
    {
      "cell_type": "markdown",
      "source": [
        "# KISS (Keep It Simple, Stupid)"
      ],
      "metadata": {
        "id": "1-ZPMmc8lDBE"
      }
    },
    {
      "cell_type": "markdown",
      "source": [
        "Non-KISS Approach"
      ],
      "metadata": {
        "id": "T4hkwVXRlkYL"
      }
    },
    {
      "cell_type": "code",
      "source": [
        "def is_even(number):\n",
        "    if number % 2 == 0:\n",
        "        return True\n",
        "    else:\n",
        "        return False\n",
        "\n",
        "\n",
        "# Usage\n",
        "print(is_even(4))  # True\n",
        "print(is_even(7))  # False"
      ],
      "metadata": {
        "colab": {
          "base_uri": "https://localhost:8080/"
        },
        "id": "eFAPenvellnL",
        "outputId": "4cf6d918-fff9-446c-d6df-23758f01c5e7"
      },
      "execution_count": 5,
      "outputs": [
        {
          "output_type": "stream",
          "name": "stdout",
          "text": [
            "True\n",
            "False\n"
          ]
        }
      ]
    },
    {
      "cell_type": "markdown",
      "source": [
        "KISS Approach"
      ],
      "metadata": {
        "id": "_b5IhWIHlmrj"
      }
    },
    {
      "cell_type": "code",
      "source": [
        "def is_even(number):\n",
        "    return number % 2 == 0\n",
        "\n",
        "\n",
        "# Usage\n",
        "print(is_even(4))  # True\n",
        "print(is_even(7))  # False"
      ],
      "metadata": {
        "colab": {
          "base_uri": "https://localhost:8080/"
        },
        "id": "drBChy8jlop3",
        "outputId": "42169cf2-776f-4e00-856c-4c4a4429c5c0"
      },
      "execution_count": 6,
      "outputs": [
        {
          "output_type": "stream",
          "name": "stdout",
          "text": [
            "True\n",
            "False\n"
          ]
        }
      ]
    },
    {
      "cell_type": "markdown",
      "source": [
        "Non-KISS Approach"
      ],
      "metadata": {
        "id": "vEMxYhbulsHh"
      }
    },
    {
      "cell_type": "code",
      "source": [
        "import pandas as pd\n",
        "from scipy import stats\n",
        "\n",
        "\n",
        "class SalesAnalyzer:\n",
        "    def __init__(self, data):\n",
        "        self.data = pd.DataFrame(data)\n",
        "\n",
        "    def preprocess_data(self):\n",
        "        self.data['Date'] = pd.to_datetime(self.data['Date'])\n",
        "        self.data['Month'] = self.data['Date'].dt.to_period('M')\n",
        "        self.data['Sales'] = pd.to_numeric(self.data['Sales'], errors='coerce')\n",
        "\n",
        "    def calculate_monthly_stats(self):\n",
        "        monthly_stats = self.data.groupby('Month').agg({\n",
        "            'Sales': ['mean', 'median', 'std', 'min', 'max'],\n",
        "            'Customer': 'nunique'\n",
        "        })\n",
        "        monthly_stats.columns = ['Mean_Sales', 'Median_Sales', 'Std_Sales', 'Min_Sales', 'Max_Sales', 'Unique_Customers']\n",
        "        return monthly_stats\n",
        "\n",
        "    def perform_t_test(self, group1, group2):\n",
        "        sales1 = self.data[self.data['Product'] == group1]['Sales']\n",
        "        sales2 = self.data[self.data['Product'] == group2]['Sales']\n",
        "        t_stat, p_value = stats.ttest_ind(sales1, sales2)\n",
        "        return {'t_statistic': t_stat, 'p_value': p_value}\n",
        "\n",
        "    def generate_report(self):\n",
        "        self.preprocess_data()\n",
        "        monthly_stats = self.calculate_monthly_stats()\n",
        "        t_test_result = self.perform_t_test('Product A', 'Product B')\n",
        "\n",
        "        report = {\n",
        "            'Monthly Statistics': monthly_stats.to_dict(),\n",
        "            'T-Test Result': t_test_result\n",
        "        }\n",
        "        return report\n",
        "\n",
        "\n",
        "# Usage\n",
        "data = [\n",
        "    {'Date': '2023-01-01', 'Product': 'Product A', 'Sales': 100, 'Customer': 'C1'},\n",
        "    {'Date': '2023-01-02', 'Product': 'Product B', 'Sales': 150, 'Customer': 'C2'},\n",
        "    # ... more data ...\n",
        "]\n",
        "\n",
        "analyzer = SalesAnalyzer(data)\n",
        "report = analyzer.generate_report()\n",
        "print(report)"
      ],
      "metadata": {
        "colab": {
          "base_uri": "https://localhost:8080/"
        },
        "id": "wLDLNw58lu5G",
        "outputId": "6cb9306e-61f4-4a73-9381-bef5ebb406b4"
      },
      "execution_count": 8,
      "outputs": [
        {
          "output_type": "stream",
          "name": "stdout",
          "text": [
            "{'Monthly Statistics': {'Mean_Sales': {Period('2023-01', 'M'): 125.0}, 'Median_Sales': {Period('2023-01', 'M'): 125.0}, 'Std_Sales': {Period('2023-01', 'M'): 35.35533905932738}, 'Min_Sales': {Period('2023-01', 'M'): 100}, 'Max_Sales': {Period('2023-01', 'M'): 150}, 'Unique_Customers': {Period('2023-01', 'M'): 2}}, 'T-Test Result': {'t_statistic': nan, 'p_value': nan}}\n"
          ]
        },
        {
          "output_type": "stream",
          "name": "stderr",
          "text": [
            "/usr/local/lib/python3.10/dist-packages/scipy/stats/_stats_py.py:6951: RuntimeWarning: invalid value encountered in scalar divide\n",
            "  svar = ((n1 - 1) * v1 + (n2 - 1) * v2) / df\n"
          ]
        }
      ]
    },
    {
      "cell_type": "markdown",
      "source": [
        "KISS Approach"
      ],
      "metadata": {
        "id": "OEge2X9RlwiU"
      }
    },
    {
      "cell_type": "code",
      "source": [
        "import pandas as pd\n",
        "\n",
        "\n",
        "def analyze_sales(data):\n",
        "    df = pd.DataFrame(data)\n",
        "    df['Date'] = pd.to_datetime(df['Date'])\n",
        "    df['Month'] = df['Date'].dt.to_period('M')\n",
        "    df['Sales'] = pd.to_numeric(df['Sales'], errors='coerce')\n",
        "\n",
        "    monthly_stats = df.groupby('Month')['Sales'].agg(['mean', 'median', 'std', 'min', 'max'])\n",
        "    monthly_stats['Unique_Customers'] = df.groupby('Month')['Customer'].nunique()\n",
        "\n",
        "    product_comparison = df.groupby('Product')['Sales'].mean()\n",
        "\n",
        "    return {\n",
        "        'Monthly Statistics': monthly_stats.to_dict(),\n",
        "        'Product Comparison': product_comparison.to_dict()\n",
        "    }\n",
        "\n",
        "\n",
        "# Usage\n",
        "data = [\n",
        "    {'Date': '2023-01-01', 'Product': 'Product A', 'Sales': 100, 'Customer': 'C1'},\n",
        "    {'Date': '2023-01-02', 'Product': 'Product B', 'Sales': 150, 'Customer': 'C2'},\n",
        "    # ... more data ...\n",
        "]\n",
        "\n",
        "report = analyze_sales(data)\n",
        "print(report)"
      ],
      "metadata": {
        "colab": {
          "base_uri": "https://localhost:8080/"
        },
        "id": "-ibLTMvRlzKk",
        "outputId": "29f700a5-0e7c-47c2-8616-3fc4735b86bc"
      },
      "execution_count": 9,
      "outputs": [
        {
          "output_type": "stream",
          "name": "stdout",
          "text": [
            "{'Monthly Statistics': {'mean': {Period('2023-01', 'M'): 125.0}, 'median': {Period('2023-01', 'M'): 125.0}, 'std': {Period('2023-01', 'M'): 35.35533905932738}, 'min': {Period('2023-01', 'M'): 100}, 'max': {Period('2023-01', 'M'): 150}, 'Unique_Customers': {Period('2023-01', 'M'): 2}}, 'Product Comparison': {'Product A': 100.0, 'Product B': 150.0}}\n"
          ]
        }
      ]
    },
    {
      "cell_type": "markdown",
      "source": [
        "# SOLID Principles"
      ],
      "metadata": {
        "id": "Z4RmGmdPlEK4"
      }
    },
    {
      "cell_type": "markdown",
      "source": [
        "## Single Responsibility Principle (SRP)"
      ],
      "metadata": {
        "id": "lzv3IaVvl-Xq"
      }
    },
    {
      "cell_type": "markdown",
      "source": [
        "Non-SRP Approach"
      ],
      "metadata": {
        "id": "Fy3zk4zYmYq-"
      }
    },
    {
      "cell_type": "code",
      "execution_count": 10,
      "metadata": {
        "colab": {
          "base_uri": "https://localhost:8080/"
        },
        "id": "WkxLJpHHj1ip",
        "outputId": "f9b05250-c0bb-4972-e881-62d2d2e50de3"
      },
      "outputs": [
        {
          "output_type": "stream",
          "name": "stdout",
          "text": [
            "John Doe - Developer\n",
            "Saving John Doe to database\n",
            "Generating report for John Doe\n"
          ]
        }
      ],
      "source": [
        "class Employee:\n",
        "    def __init__(self, name, role):\n",
        "        self.name = name\n",
        "        self.role = role\n",
        "\n",
        "    def get_employee_info(self):\n",
        "        return f\"{self.name} - {self.role}\"\n",
        "\n",
        "    def save_employee_to_db(self):\n",
        "        # Code to save employee to database\n",
        "        print(f\"Saving {self.name} to database\")\n",
        "\n",
        "    def generate_employee_report(self):\n",
        "        # Code to generate employee report\n",
        "        print(f\"Generating report for {self.name}\")\n",
        "\n",
        "\n",
        "# Usage\n",
        "emp = Employee(\"John Doe\", \"Developer\")\n",
        "print(emp.get_employee_info())\n",
        "emp.save_employee_to_db()\n",
        "emp.generate_employee_report()"
      ]
    },
    {
      "cell_type": "markdown",
      "source": [
        "SRP Approach"
      ],
      "metadata": {
        "id": "y4lnZks2ma44"
      }
    },
    {
      "cell_type": "code",
      "source": [
        "class Employee:\n",
        "    def __init__(self, name, role):\n",
        "        self.name = name\n",
        "        self.role = role\n",
        "\n",
        "    def get_employee_info(self):\n",
        "        return f\"{self.name} - {self.role}\"\n",
        "\n",
        "\n",
        "class EmployeeDatabase:\n",
        "    @staticmethod\n",
        "    def save_employee(employee):\n",
        "        # Code to save employee to database\n",
        "        print(f\"Saving {employee.name} to database\")\n",
        "\n",
        "\n",
        "class EmployeeReportGenerator:\n",
        "    @staticmethod\n",
        "    def generate_report(employee):\n",
        "        # Code to generate employee report\n",
        "        print(f\"Generating report for {employee.name}\")\n",
        "\n",
        "\n",
        "# Usage\n",
        "emp = Employee(\"John Doe\", \"Developer\")\n",
        "print(emp.get_employee_info())\n",
        "EmployeeDatabase.save_employee(emp)\n",
        "EmployeeReportGenerator.generate_report(emp)"
      ],
      "metadata": {
        "colab": {
          "base_uri": "https://localhost:8080/"
        },
        "id": "4NlZlvGDmZzS",
        "outputId": "c1389c88-0a0c-4294-f6ba-fc588b9a3963"
      },
      "execution_count": 11,
      "outputs": [
        {
          "output_type": "stream",
          "name": "stdout",
          "text": [
            "John Doe - Developer\n",
            "Saving John Doe to database\n",
            "Generating report for John Doe\n"
          ]
        }
      ]
    },
    {
      "cell_type": "markdown",
      "source": [
        "## Open-Closed Principle (OCP)"
      ],
      "metadata": {
        "id": "Vx6Yk5T6mfBI"
      }
    },
    {
      "cell_type": "markdown",
      "source": [
        "Non-OCP Approach"
      ],
      "metadata": {
        "id": "kh0CKiNamjzj"
      }
    },
    {
      "cell_type": "code",
      "source": [
        "class Rectangle:\n",
        "    def __init__(self, width, height):\n",
        "        self.width = width\n",
        "        self.height = height\n",
        "\n",
        "\n",
        "class Circle:\n",
        "    def __init__(self, radius):\n",
        "        self.radius = radius\n",
        "\n",
        "\n",
        "class AreaCalculator:\n",
        "    def calculate_area(self, shape):\n",
        "        if isinstance(shape, Rectangle):\n",
        "            return shape.width * shape.height\n",
        "        elif isinstance(shape, Circle):\n",
        "            return 3.14 * shape.radius ** 2\n",
        "        else:\n",
        "            raise ValueError(\"Unsupported shape\")\n",
        "\n",
        "\n",
        "# Usage\n",
        "rect = Rectangle(5, 4)\n",
        "circ = Circle(3)\n",
        "calc = AreaCalculator()\n",
        "print(calc.calculate_area(rect))  # 20\n",
        "print(calc.calculate_area(circ))  # 28.26"
      ],
      "metadata": {
        "colab": {
          "base_uri": "https://localhost:8080/"
        },
        "id": "x_cvvDuBmc4G",
        "outputId": "737dd2e3-90e0-431d-f3ef-880dff664a67"
      },
      "execution_count": 12,
      "outputs": [
        {
          "output_type": "stream",
          "name": "stdout",
          "text": [
            "20\n",
            "28.26\n"
          ]
        }
      ]
    },
    {
      "cell_type": "markdown",
      "source": [
        "OCP Approach"
      ],
      "metadata": {
        "id": "fR0zLNXImng2"
      }
    },
    {
      "cell_type": "code",
      "source": [
        "from abc import ABC, abstractmethod\n",
        "\n",
        "\n",
        "class Shape(ABC):\n",
        "    @abstractmethod\n",
        "    def area(self):\n",
        "        pass\n",
        "\n",
        "\n",
        "class Rectangle(Shape):\n",
        "    def __init__(self, width, height):\n",
        "        self.width = width\n",
        "        self.height = height\n",
        "\n",
        "    def area(self):\n",
        "        return self.width * self.height\n",
        "\n",
        "\n",
        "class Circle(Shape):\n",
        "    def __init__(self, radius):\n",
        "        self.radius = radius\n",
        "\n",
        "    def area(self):\n",
        "        return 3.14 * self.radius ** 2\n",
        "\n",
        "\n",
        "class AreaCalculator:\n",
        "    def calculate_area(self, shape):\n",
        "        return shape.area()\n",
        "\n",
        "\n",
        "# Usage\n",
        "rect = Rectangle(5, 4)\n",
        "circ = Circle(3)\n",
        "calc = AreaCalculator()\n",
        "print(calc.calculate_area(rect))  # 20\n",
        "print(calc.calculate_area(circ))  # 28.26\n",
        "\n",
        "\n",
        "# Adding a new shape without modifying existing code\n",
        "class Triangle(Shape):\n",
        "    def __init__(self, base, height):\n",
        "        self.base = base\n",
        "        self.height = height\n",
        "\n",
        "    def area(self):\n",
        "        return 0.5 * self.base * self.height\n",
        "\n",
        "\n",
        "tri = Triangle(6, 4)\n",
        "print(calc.calculate_area(tri))  # 12"
      ],
      "metadata": {
        "colab": {
          "base_uri": "https://localhost:8080/"
        },
        "id": "XqlHVYWjmmU1",
        "outputId": "99ab22bf-364c-4ee1-d673-84b68ad00701"
      },
      "execution_count": 13,
      "outputs": [
        {
          "output_type": "stream",
          "name": "stdout",
          "text": [
            "20\n",
            "28.26\n",
            "12.0\n"
          ]
        }
      ]
    },
    {
      "cell_type": "markdown",
      "source": [
        "Non-OCP Approach"
      ],
      "metadata": {
        "id": "RczYZQhkm0EX"
      }
    },
    {
      "cell_type": "code",
      "source": [
        "class Rectangle:\n",
        "    def __init__(self, width, height):\n",
        "        self.width = width\n",
        "        self.height = height\n",
        "\n",
        "\n",
        "class Circle:\n",
        "    def __init__(self, radius):\n",
        "        self.radius = radius\n",
        "\n",
        "\n",
        "class AreaCalculator:\n",
        "    def calculate_area(self, shape):\n",
        "        if isinstance(shape, Rectangle):\n",
        "            return shape.width * shape.height\n",
        "        elif isinstance(shape, Circle):\n",
        "            return 3.14 * shape.radius ** 2\n",
        "        else:\n",
        "            raise ValueError(\"Unsupported shape\")\n",
        "\n",
        "\n",
        "# Usage\n",
        "rect = Rectangle(5, 4)\n",
        "circ = Circle(3)\n",
        "calc = AreaCalculator()\n",
        "print(calc.calculate_area(rect))  # 20\n",
        "print(calc.calculate_area(circ))  # 28.26"
      ],
      "metadata": {
        "colab": {
          "base_uri": "https://localhost:8080/"
        },
        "id": "T1Oyd6T4mrBW",
        "outputId": "fa4bebbc-2cfa-44f4-f2fd-9af6b50937c1"
      },
      "execution_count": 14,
      "outputs": [
        {
          "output_type": "stream",
          "name": "stdout",
          "text": [
            "20\n",
            "28.26\n"
          ]
        }
      ]
    },
    {
      "cell_type": "markdown",
      "source": [
        "OCP Approach"
      ],
      "metadata": {
        "id": "w4kUGD2um2j9"
      }
    },
    {
      "cell_type": "code",
      "source": [
        "from abc import ABC, abstractmethod\n",
        "\n",
        "\n",
        "class Shape(ABC):\n",
        "    @abstractmethod\n",
        "    def area(self):\n",
        "        pass\n",
        "\n",
        "\n",
        "class Rectangle(Shape):\n",
        "    def __init__(self, width, height):\n",
        "        self.width = width\n",
        "        self.height = height\n",
        "\n",
        "    def area(self):\n",
        "        return self.width * self.height\n",
        "\n",
        "\n",
        "class Circle(Shape):\n",
        "    def __init__(self, radius):\n",
        "        self.radius = radius\n",
        "\n",
        "    def area(self):\n",
        "        return 3.14 * self.radius ** 2\n",
        "\n",
        "\n",
        "class AreaCalculator:\n",
        "    def calculate_area(self, shape):\n",
        "        return shape.area()\n",
        "\n",
        "\n",
        "# Usage\n",
        "rect = Rectangle(5, 4)\n",
        "circ = Circle(3)\n",
        "calc = AreaCalculator()\n",
        "print(calc.calculate_area(rect))  # 20\n",
        "print(calc.calculate_area(circ))  # 28.26\n",
        "\n",
        "\n",
        "# Adding a new shape without modifying existing code\n",
        "class Triangle(Shape):\n",
        "    def __init__(self, base, height):\n",
        "        self.base = base\n",
        "        self.height = height\n",
        "\n",
        "    def area(self):\n",
        "        return 0.5 * self.base * self.height\n",
        "\n",
        "\n",
        "tri = Triangle(6, 4)\n",
        "print(calc.calculate_area(tri))  # 12"
      ],
      "metadata": {
        "colab": {
          "base_uri": "https://localhost:8080/"
        },
        "id": "hsqPKC6gm1S_",
        "outputId": "75efac65-a4f8-4503-aa91-4e2b9e862d74"
      },
      "execution_count": 15,
      "outputs": [
        {
          "output_type": "stream",
          "name": "stdout",
          "text": [
            "20\n",
            "28.26\n",
            "12.0\n"
          ]
        }
      ]
    },
    {
      "cell_type": "markdown",
      "source": [
        "## 3. Liskov Substitution Principle (LSP)"
      ],
      "metadata": {
        "id": "DCmYLQnVm6EQ"
      }
    },
    {
      "cell_type": "markdown",
      "source": [
        "Non-LSP Approach"
      ],
      "metadata": {
        "id": "KkVoFdMVm8Pi"
      }
    },
    {
      "cell_type": "code",
      "source": [
        "class Bird:\n",
        "    def fly(self):\n",
        "        print(\"I can fly\")\n",
        "\n",
        "\n",
        "class Ostrich(Bird):\n",
        "    def fly(self):\n",
        "        raise Exception(\"I can't fly\")\n",
        "\n",
        "\n",
        "def make_bird_fly(bird):\n",
        "    bird.fly()\n",
        "\n",
        "\n",
        "# Usage\n",
        "sparrow = Bird()\n",
        "ostrich = Ostrich()\n",
        "\n",
        "make_bird_fly(sparrow)  # Works fine\n",
        "make_bird_fly(ostrich)  # Raises an exception"
      ],
      "metadata": {
        "colab": {
          "base_uri": "https://localhost:8080/",
          "height": 333
        },
        "id": "vidyFefHm4DF",
        "outputId": "c3966e4d-4f53-4b0c-f4b0-2b62d1fa6204"
      },
      "execution_count": 16,
      "outputs": [
        {
          "output_type": "stream",
          "name": "stdout",
          "text": [
            "I can fly\n"
          ]
        },
        {
          "output_type": "error",
          "ename": "Exception",
          "evalue": "I can't fly",
          "traceback": [
            "\u001b[0;31m---------------------------------------------------------------------------\u001b[0m",
            "\u001b[0;31mException\u001b[0m                                 Traceback (most recent call last)",
            "\u001b[0;32m<ipython-input-16-547b7749a8ff>\u001b[0m in \u001b[0;36m<cell line: 20>\u001b[0;34m()\u001b[0m\n\u001b[1;32m     18\u001b[0m \u001b[0;34m\u001b[0m\u001b[0m\n\u001b[1;32m     19\u001b[0m \u001b[0mmake_bird_fly\u001b[0m\u001b[0;34m(\u001b[0m\u001b[0msparrow\u001b[0m\u001b[0;34m)\u001b[0m  \u001b[0;31m# Works fine\u001b[0m\u001b[0;34m\u001b[0m\u001b[0;34m\u001b[0m\u001b[0m\n\u001b[0;32m---> 20\u001b[0;31m \u001b[0mmake_bird_fly\u001b[0m\u001b[0;34m(\u001b[0m\u001b[0mostrich\u001b[0m\u001b[0;34m)\u001b[0m  \u001b[0;31m# Raises an exception\u001b[0m\u001b[0;34m\u001b[0m\u001b[0;34m\u001b[0m\u001b[0m\n\u001b[0m",
            "\u001b[0;32m<ipython-input-16-547b7749a8ff>\u001b[0m in \u001b[0;36mmake_bird_fly\u001b[0;34m(bird)\u001b[0m\n\u001b[1;32m     10\u001b[0m \u001b[0;34m\u001b[0m\u001b[0m\n\u001b[1;32m     11\u001b[0m \u001b[0;32mdef\u001b[0m \u001b[0mmake_bird_fly\u001b[0m\u001b[0;34m(\u001b[0m\u001b[0mbird\u001b[0m\u001b[0;34m)\u001b[0m\u001b[0;34m:\u001b[0m\u001b[0;34m\u001b[0m\u001b[0;34m\u001b[0m\u001b[0m\n\u001b[0;32m---> 12\u001b[0;31m     \u001b[0mbird\u001b[0m\u001b[0;34m.\u001b[0m\u001b[0mfly\u001b[0m\u001b[0;34m(\u001b[0m\u001b[0;34m)\u001b[0m\u001b[0;34m\u001b[0m\u001b[0;34m\u001b[0m\u001b[0m\n\u001b[0m\u001b[1;32m     13\u001b[0m \u001b[0;34m\u001b[0m\u001b[0m\n\u001b[1;32m     14\u001b[0m \u001b[0;34m\u001b[0m\u001b[0m\n",
            "\u001b[0;32m<ipython-input-16-547b7749a8ff>\u001b[0m in \u001b[0;36mfly\u001b[0;34m(self)\u001b[0m\n\u001b[1;32m      6\u001b[0m \u001b[0;32mclass\u001b[0m \u001b[0mOstrich\u001b[0m\u001b[0;34m(\u001b[0m\u001b[0mBird\u001b[0m\u001b[0;34m)\u001b[0m\u001b[0;34m:\u001b[0m\u001b[0;34m\u001b[0m\u001b[0;34m\u001b[0m\u001b[0m\n\u001b[1;32m      7\u001b[0m     \u001b[0;32mdef\u001b[0m \u001b[0mfly\u001b[0m\u001b[0;34m(\u001b[0m\u001b[0mself\u001b[0m\u001b[0;34m)\u001b[0m\u001b[0;34m:\u001b[0m\u001b[0;34m\u001b[0m\u001b[0;34m\u001b[0m\u001b[0m\n\u001b[0;32m----> 8\u001b[0;31m         \u001b[0;32mraise\u001b[0m \u001b[0mException\u001b[0m\u001b[0;34m(\u001b[0m\u001b[0;34m\"I can't fly\"\u001b[0m\u001b[0;34m)\u001b[0m\u001b[0;34m\u001b[0m\u001b[0;34m\u001b[0m\u001b[0m\n\u001b[0m\u001b[1;32m      9\u001b[0m \u001b[0;34m\u001b[0m\u001b[0m\n\u001b[1;32m     10\u001b[0m \u001b[0;34m\u001b[0m\u001b[0m\n",
            "\u001b[0;31mException\u001b[0m: I can't fly"
          ]
        }
      ]
    },
    {
      "cell_type": "markdown",
      "source": [
        "LSP Approach"
      ],
      "metadata": {
        "id": "NVaYH3GJm_Dk"
      }
    },
    {
      "cell_type": "code",
      "source": [
        "from abc import ABC, abstractmethod\n",
        "\n",
        "\n",
        "class Bird(ABC):\n",
        "    @abstractmethod\n",
        "    def move(self):\n",
        "        pass\n",
        "\n",
        "\n",
        "class FlyingBird(Bird):\n",
        "    def move(self):\n",
        "        print(\"I can fly\")\n",
        "\n",
        "\n",
        "class NonFlyingBird(Bird):\n",
        "    def move(self):\n",
        "        print(\"I can run\")\n",
        "\n",
        "\n",
        "def make_bird_move(bird):\n",
        "    bird.move()\n",
        "\n",
        "\n",
        "# Usage\n",
        "sparrow = FlyingBird()\n",
        "ostrich = NonFlyingBird()\n",
        "\n",
        "make_bird_move(sparrow)  # \"I can fly\"\n",
        "make_bird_move(ostrich)  # \"I can run\""
      ],
      "metadata": {
        "colab": {
          "base_uri": "https://localhost:8080/"
        },
        "id": "GrVI1NEEm9mK",
        "outputId": "d48f428c-e6c5-44e6-8f91-91fb6c70d9fd"
      },
      "execution_count": 17,
      "outputs": [
        {
          "output_type": "stream",
          "name": "stdout",
          "text": [
            "I can fly\n",
            "I can run\n"
          ]
        }
      ]
    },
    {
      "cell_type": "markdown",
      "source": [
        "## 4. Interface Segregation Principle (ISP)"
      ],
      "metadata": {
        "id": "eS90sWdKnC7t"
      }
    },
    {
      "cell_type": "markdown",
      "source": [
        "Non-ISP Approach"
      ],
      "metadata": {
        "id": "95bkgaddnH1P"
      }
    },
    {
      "cell_type": "code",
      "source": [
        "from abc import ABC, abstractmethod\n",
        "\n",
        "\n",
        "class Worker(ABC):\n",
        "    @abstractmethod\n",
        "    def work(self):\n",
        "        pass\n",
        "\n",
        "    @abstractmethod\n",
        "    def eat(self):\n",
        "        pass\n",
        "\n",
        "\n",
        "class Human(Worker):\n",
        "    def work(self):\n",
        "        print(\"Human working\")\n",
        "\n",
        "    def eat(self):\n",
        "        print(\"Human eating\")\n",
        "\n",
        "\n",
        "class Robot(Worker):\n",
        "    def work(self):\n",
        "        print(\"Robot working\")\n",
        "\n",
        "    def eat(self):\n",
        "        raise NotImplementedError(\"Robot can't eat\")\n",
        "\n",
        "\n",
        "# Usage\n",
        "human = Human()\n",
        "robot = Robot()\n",
        "\n",
        "human.work()  # Works fine\n",
        "human.eat()   # Works fine\n",
        "robot.work()  # Works fine\n",
        "robot.eat()   # Raises an exception"
      ],
      "metadata": {
        "colab": {
          "base_uri": "https://localhost:8080/",
          "height": 343
        },
        "id": "K4t22XvpnBBS",
        "outputId": "b979f9c9-b747-4058-fb1b-492494f9a087"
      },
      "execution_count": 18,
      "outputs": [
        {
          "output_type": "stream",
          "name": "stdout",
          "text": [
            "Human working\n",
            "Human eating\n",
            "Robot working\n"
          ]
        },
        {
          "output_type": "error",
          "ename": "NotImplementedError",
          "evalue": "Robot can't eat",
          "traceback": [
            "\u001b[0;31m---------------------------------------------------------------------------\u001b[0m",
            "\u001b[0;31mNotImplementedError\u001b[0m                       Traceback (most recent call last)",
            "\u001b[0;32m<ipython-input-18-8bb6a03be440>\u001b[0m in \u001b[0;36m<cell line: 37>\u001b[0;34m()\u001b[0m\n\u001b[1;32m     35\u001b[0m \u001b[0mhuman\u001b[0m\u001b[0;34m.\u001b[0m\u001b[0meat\u001b[0m\u001b[0;34m(\u001b[0m\u001b[0;34m)\u001b[0m   \u001b[0;31m# Works fine\u001b[0m\u001b[0;34m\u001b[0m\u001b[0;34m\u001b[0m\u001b[0m\n\u001b[1;32m     36\u001b[0m \u001b[0mrobot\u001b[0m\u001b[0;34m.\u001b[0m\u001b[0mwork\u001b[0m\u001b[0;34m(\u001b[0m\u001b[0;34m)\u001b[0m  \u001b[0;31m# Works fine\u001b[0m\u001b[0;34m\u001b[0m\u001b[0;34m\u001b[0m\u001b[0m\n\u001b[0;32m---> 37\u001b[0;31m \u001b[0mrobot\u001b[0m\u001b[0;34m.\u001b[0m\u001b[0meat\u001b[0m\u001b[0;34m(\u001b[0m\u001b[0;34m)\u001b[0m   \u001b[0;31m# Raises an exception\u001b[0m\u001b[0;34m\u001b[0m\u001b[0;34m\u001b[0m\u001b[0m\n\u001b[0m",
            "\u001b[0;32m<ipython-input-18-8bb6a03be440>\u001b[0m in \u001b[0;36meat\u001b[0;34m(self)\u001b[0m\n\u001b[1;32m     25\u001b[0m \u001b[0;34m\u001b[0m\u001b[0m\n\u001b[1;32m     26\u001b[0m     \u001b[0;32mdef\u001b[0m \u001b[0meat\u001b[0m\u001b[0;34m(\u001b[0m\u001b[0mself\u001b[0m\u001b[0;34m)\u001b[0m\u001b[0;34m:\u001b[0m\u001b[0;34m\u001b[0m\u001b[0;34m\u001b[0m\u001b[0m\n\u001b[0;32m---> 27\u001b[0;31m         \u001b[0;32mraise\u001b[0m \u001b[0mNotImplementedError\u001b[0m\u001b[0;34m(\u001b[0m\u001b[0;34m\"Robot can't eat\"\u001b[0m\u001b[0;34m)\u001b[0m\u001b[0;34m\u001b[0m\u001b[0;34m\u001b[0m\u001b[0m\n\u001b[0m\u001b[1;32m     28\u001b[0m \u001b[0;34m\u001b[0m\u001b[0m\n\u001b[1;32m     29\u001b[0m \u001b[0;34m\u001b[0m\u001b[0m\n",
            "\u001b[0;31mNotImplementedError\u001b[0m: Robot can't eat"
          ]
        }
      ]
    },
    {
      "cell_type": "markdown",
      "source": [
        "ISP Approach"
      ],
      "metadata": {
        "id": "4b_TTmpTnKlX"
      }
    },
    {
      "cell_type": "code",
      "source": [
        "from abc import ABC, abstractmethod\n",
        "\n",
        "\n",
        "class Workable(ABC):\n",
        "    @abstractmethod\n",
        "    def work(self):\n",
        "        pass\n",
        "\n",
        "\n",
        "class Eatable(ABC):\n",
        "    @abstractmethod\n",
        "    def eat(self):\n",
        "        pass\n",
        "\n",
        "\n",
        "class Human(Workable, Eatable):\n",
        "    def work(self):\n",
        "        print(\"Human working\")\n",
        "\n",
        "    def eat(self):\n",
        "        print(\"Human eating\")\n",
        "\n",
        "\n",
        "class Robot(Workable):\n",
        "    def work(self):\n",
        "        print(\"Robot working\")\n",
        "\n",
        "\n",
        "# Usage\n",
        "human = Human()\n",
        "robot = Robot()\n",
        "\n",
        "human.work()  # Human working\n",
        "human.eat()   # Human eating\n",
        "robot.work()  # Robot working\n",
        "# robot.eat() is not available, which is correct"
      ],
      "metadata": {
        "colab": {
          "base_uri": "https://localhost:8080/"
        },
        "id": "psK2widDnJkQ",
        "outputId": "983a8bf6-0d75-4fd1-ca98-b413e9251c12"
      },
      "execution_count": 19,
      "outputs": [
        {
          "output_type": "stream",
          "name": "stdout",
          "text": [
            "Human working\n",
            "Human eating\n",
            "Robot working\n"
          ]
        }
      ]
    },
    {
      "cell_type": "markdown",
      "source": [
        "## 5. Dependency Inversion Principle (DIP)"
      ],
      "metadata": {
        "id": "Oq2kPFCZnNhG"
      }
    },
    {
      "cell_type": "markdown",
      "source": [
        "Non-DIP Approach"
      ],
      "metadata": {
        "id": "-duFPfk_nPLi"
      }
    },
    {
      "cell_type": "code",
      "source": [
        "class LightBulb:\n",
        "    def turn_on(self):\n",
        "        print(\"LightBulb: turned on\")\n",
        "\n",
        "    def turn_off(self):\n",
        "        print(\"LightBulb: turned off\")\n",
        "\n",
        "\n",
        "class Switch:\n",
        "    def __init__(self, bulb):\n",
        "        self.bulb = bulb\n",
        "        self.is_on = False\n",
        "\n",
        "    def press(self):\n",
        "        if self.is_on:\n",
        "            self.bulb.turn_off()\n",
        "            self.is_on = False\n",
        "        else:\n",
        "            self.bulb.turn_on()\n",
        "            self.is_on = True\n",
        "\n",
        "\n",
        "# Usage\n",
        "bulb = LightBulb()\n",
        "switch = Switch(bulb)\n",
        "switch.press()  # LightBulb: turned on\n",
        "switch.press()  # LightBulb: turned off"
      ],
      "metadata": {
        "colab": {
          "base_uri": "https://localhost:8080/"
        },
        "id": "DYbl-uUGnMFl",
        "outputId": "4285fbb6-36f6-423e-d5cb-0cf36183fb87"
      },
      "execution_count": 20,
      "outputs": [
        {
          "output_type": "stream",
          "name": "stdout",
          "text": [
            "LightBulb: turned on\n",
            "LightBulb: turned off\n"
          ]
        }
      ]
    },
    {
      "cell_type": "markdown",
      "source": [
        "DIP Approach"
      ],
      "metadata": {
        "id": "cYyCxAU1nRvW"
      }
    },
    {
      "cell_type": "code",
      "source": [
        "from abc import ABC, abstractmethod\n",
        "\n",
        "\n",
        "class Switchable(ABC):\n",
        "    @abstractmethod\n",
        "    def turn_on(self):\n",
        "        pass\n",
        "\n",
        "    @abstractmethod\n",
        "    def turn_off(self):\n",
        "        pass\n",
        "\n",
        "\n",
        "class LightBulb(Switchable):\n",
        "    def turn_on(self):\n",
        "        print(\"LightBulb: turned on\")\n",
        "\n",
        "    def turn_off(self):\n",
        "        print(\"LightBulb: turned off\")\n",
        "\n",
        "\n",
        "class Fan(Switchable):\n",
        "    def turn_on(self):\n",
        "        print(\"Fan: turned on\")\n",
        "\n",
        "    def turn_off(self):\n",
        "        print(\"Fan: turned off\")\n",
        "\n",
        "\n",
        "class Switch:\n",
        "    def __init__(self, device: Switchable):\n",
        "        self.device = device\n",
        "        self.is_on = False\n",
        "\n",
        "    def press(self):\n",
        "        if self.is_on:\n",
        "            self.device.turn_off()\n",
        "            self.is_on = False\n",
        "        else:\n",
        "            self.device.turn_on()\n",
        "            self.is_on = True\n",
        "\n",
        "\n",
        "# Usage\n",
        "bulb = LightBulb()\n",
        "fan = Fan()\n",
        "\n",
        "switch = Switch(bulb)\n",
        "switch.press()  # LightBulb: turned on\n",
        "switch.press()  # LightBulb: turned off\n",
        "\n",
        "switch = Switch(fan)\n",
        "switch.press()  # Fan: turned on\n",
        "switch.press()  # Fan: turned off"
      ],
      "metadata": {
        "colab": {
          "base_uri": "https://localhost:8080/"
        },
        "id": "pkkigM23nQkl",
        "outputId": "17ba3c98-8020-40d5-e91a-91273be4442f"
      },
      "execution_count": 21,
      "outputs": [
        {
          "output_type": "stream",
          "name": "stdout",
          "text": [
            "LightBulb: turned on\n",
            "LightBulb: turned off\n",
            "Fan: turned on\n",
            "Fan: turned off\n"
          ]
        }
      ]
    },
    {
      "cell_type": "markdown",
      "source": [
        "# V. Other Common Principles\n"
      ],
      "metadata": {
        "id": "TOzXvtc8ndq9"
      }
    },
    {
      "cell_type": "markdown",
      "source": [
        "## 1. Separation of Concerns (SoC)"
      ],
      "metadata": {
        "id": "tSrvuaeEnfcP"
      }
    },
    {
      "cell_type": "markdown",
      "source": [
        "Non-SoC Approach"
      ],
      "metadata": {
        "id": "BpbKWIhnnhR1"
      }
    },
    {
      "cell_type": "code",
      "source": [
        "class OrderProcessor:\n",
        "    def process_order(self, order):\n",
        "        # Validate order\n",
        "        if not order.items:\n",
        "            raise ValueError(\"Order must have at least one item\")\n",
        "\n",
        "        # Calculate total\n",
        "        total = sum(item.price for item in order.items)\n",
        "\n",
        "        # Apply discount\n",
        "        if total > 100:\n",
        "            total *= 0.9  # 10% discount\n",
        "\n",
        "        # Generate invoice\n",
        "        invoice = f\"Invoice for Order #{order.id}\\n\"\n",
        "        for item in order.items:\n",
        "            invoice += f\"{item.name}: ${item.price}\\n\"\n",
        "        invoice += f\"Total: ${total}\"\n",
        "\n",
        "        # Save to database\n",
        "        self.save_to_db(order, total)\n",
        "\n",
        "        # Send confirmation email\n",
        "        self.send_email(order.email, invoice)\n",
        "\n",
        "        return total\n",
        "\n",
        "    def save_to_db(self, order, total):\n",
        "        print(f\"Saving order {order.id} with total {total} to database\")\n",
        "\n",
        "    def send_email(self, email, content):\n",
        "        print(f\"Sending email to {email} with content: {content}\")\n",
        "\n",
        "\n",
        "# Usage\n",
        "class Order:\n",
        "    def __init__(self, id, items, email):\n",
        "        self.id = id\n",
        "        self.items = items\n",
        "        self.email = email\n",
        "\n",
        "\n",
        "class Item:\n",
        "    def __init__(self, name, price):\n",
        "        self.name = name\n",
        "        self.price = price\n",
        "\n",
        "\n",
        "order = Order(1, [Item(\"Book\", 50), Item(\"Pen\", 5)], \"customer@example.com\")\n",
        "processor = OrderProcessor()\n",
        "total = processor.process_order(order)\n",
        "print(f\"Processed order with total: ${total}\")"
      ],
      "metadata": {
        "colab": {
          "base_uri": "https://localhost:8080/"
        },
        "id": "0lmSIUBEnTls",
        "outputId": "77f3945b-07da-4024-dca2-b02c89d20736"
      },
      "execution_count": 22,
      "outputs": [
        {
          "output_type": "stream",
          "name": "stdout",
          "text": [
            "Saving order 1 with total 55 to database\n",
            "Sending email to customer@example.com with content: Invoice for Order #1\n",
            "Book: $50\n",
            "Pen: $5\n",
            "Total: $55\n",
            "Processed order with total: $55\n"
          ]
        }
      ]
    },
    {
      "cell_type": "markdown",
      "source": [
        "SoC Approach"
      ],
      "metadata": {
        "id": "Nkyige33njyO"
      }
    },
    {
      "cell_type": "code",
      "source": [
        "class OrderValidator:\n",
        "    def validate(self, order):\n",
        "        if not order.items:\n",
        "            raise ValueError(\"Order must have at least one item\")\n",
        "\n",
        "\n",
        "class PriceCalculator:\n",
        "    def calculate_total(self, items):\n",
        "        total = sum(item.price for item in items)\n",
        "        if total > 100:\n",
        "            total *= 0.9  # 10% discount\n",
        "        return total\n",
        "\n",
        "\n",
        "class InvoiceGenerator:\n",
        "    def generate(self, order, total):\n",
        "        invoice = f\"Invoice for Order #{order.id}\\n\"\n",
        "        for item in order.items:\n",
        "            invoice += f\"{item.name}: ${item.price}\\n\"\n",
        "        invoice += f\"Total: ${total}\"\n",
        "        return invoice\n",
        "\n",
        "\n",
        "class DatabaseManager:\n",
        "    def save_order(self, order, total):\n",
        "        print(f\"Saving order {order.id} with total {total} to database\")\n",
        "\n",
        "\n",
        "class EmailService:\n",
        "    def send_confirmation(self, email, content):\n",
        "        print(f\"Sending email to {email} with content: {content}\")\n",
        "\n",
        "\n",
        "class OrderProcessor:\n",
        "    def __init__(self):\n",
        "        self.validator = OrderValidator()\n",
        "        self.calculator = PriceCalculator()\n",
        "        self.invoice_generator = InvoiceGenerator()\n",
        "        self.db_manager = DatabaseManager()\n",
        "        self.email_service = EmailService()\n",
        "\n",
        "    def process_order(self, order):\n",
        "        self.validator.validate(order)\n",
        "        total = self.calculator.calculate_total(order.items)\n",
        "        invoice = self.invoice_generator.generate(order, total)\n",
        "        self.db_manager.save_order(order, total)\n",
        "        self.email_service.send_confirmation(order.email, invoice)\n",
        "        return total\n",
        "\n",
        "\n",
        "# Usage (same as before)\n",
        "class Order:\n",
        "    def __init__(self, id, items, email):\n",
        "        self.id = id\n",
        "        self.items = items\n",
        "        self.email = email\n",
        "\n",
        "\n",
        "class Item:\n",
        "    def __init__(self, name, price):\n",
        "        self.name = name\n",
        "        self.price = price\n",
        "\n",
        "\n",
        "order = Order(1, [Item(\"Book\", 50), Item(\"Pen\", 5)], \"customer@example.com\")\n",
        "processor = OrderProcessor()\n",
        "total = processor.process_order(order)\n",
        "print(f\"Processed order with total: ${total}\")"
      ],
      "metadata": {
        "colab": {
          "base_uri": "https://localhost:8080/"
        },
        "id": "xO7TPavxnixa",
        "outputId": "4d26807f-c287-4dc0-fd23-dbf3e2a1297c"
      },
      "execution_count": 23,
      "outputs": [
        {
          "output_type": "stream",
          "name": "stdout",
          "text": [
            "Saving order 1 with total 55 to database\n",
            "Sending email to customer@example.com with content: Invoice for Order #1\n",
            "Book: $50\n",
            "Pen: $5\n",
            "Total: $55\n",
            "Processed order with total: $55\n"
          ]
        }
      ]
    },
    {
      "cell_type": "markdown",
      "source": [
        "## 2. YAGNI (You Aren’t Gonna Need It)"
      ],
      "metadata": {
        "id": "TkWMYMmYnnjs"
      }
    },
    {
      "cell_type": "markdown",
      "source": [
        "Non-YAGNI Approach"
      ],
      "metadata": {
        "id": "2gqKTF9snpGs"
      }
    },
    {
      "cell_type": "code",
      "source": [
        "import datetime\n",
        "\n",
        "class Task:\n",
        "    def __init__(self, title, description):\n",
        "        self.title = title\n",
        "        self.description = description\n",
        "        self.created_at = datetime.datetime.now()\n",
        "        self.completed_at = None\n",
        "        self.priority = \"medium\"\n",
        "        self.tags = []\n",
        "        self.subtasks = []\n",
        "        self.assigned_to = None\n",
        "        self.due_date = None\n",
        "        self.recurring = False\n",
        "        self.recurrence_interval = None\n",
        "\n",
        "    def complete(self):\n",
        "        self.completed_at = datetime.datetime.now()\n",
        "\n",
        "    def set_priority(self, priority):\n",
        "        self.priority = priority\n",
        "\n",
        "    def add_tag(self, tag):\n",
        "        self.tags.append(tag)\n",
        "\n",
        "    def add_subtask(self, subtask):\n",
        "        self.subtasks.append(subtask)\n",
        "\n",
        "    def assign(self, person):\n",
        "        self.assigned_to = person\n",
        "\n",
        "    def set_due_date(self, date):\n",
        "        self.due_date = date\n",
        "\n",
        "    def set_recurring(self, interval):\n",
        "        self.recurring = True\n",
        "        self.recurrence_interval = interval\n",
        "\n",
        "\n",
        "# Usage\n",
        "task = Task(\"Buy groceries\", \"Get milk, eggs, and bread\")\n",
        "task.set_priority(\"high\")\n",
        "task.add_tag(\"shopping\")\n",
        "task.add_subtask(\"Check if we have eggs\")\n",
        "task.assign(\"John\")\n",
        "task.set_due_date(datetime.date(2023, 5, 3))\n",
        "task.set_recurring(\"weekly\")"
      ],
      "metadata": {
        "id": "GZIB_dXgnli5"
      },
      "execution_count": 24,
      "outputs": []
    },
    {
      "cell_type": "markdown",
      "source": [
        "YAGNI Approach"
      ],
      "metadata": {
        "id": "b9aySLGxnsrf"
      }
    },
    {
      "cell_type": "code",
      "source": [
        "class Task:\n",
        "    def __init__(self, title, description):\n",
        "        self.title = title\n",
        "        self.description = description\n",
        "        self.completed = False\n",
        "\n",
        "    def complete(self):\n",
        "        self.completed = True\n",
        "\n",
        "\n",
        "# Usage\n",
        "task = Task(\"Buy groceries\", \"Get milk, eggs, and bread\")\n",
        "task.complete()"
      ],
      "metadata": {
        "id": "qN1XDN5mnrQ3"
      },
      "execution_count": 25,
      "outputs": []
    },
    {
      "cell_type": "markdown",
      "source": [
        "## 3. Composition Over Inheritance"
      ],
      "metadata": {
        "id": "advFMMTFnwHR"
      }
    },
    {
      "cell_type": "markdown",
      "source": [
        "Inheritance Approach"
      ],
      "metadata": {
        "id": "MXigjnzMnyfr"
      }
    },
    {
      "cell_type": "code",
      "source": [
        "class Animal:\n",
        "    def __init__(self, name):\n",
        "        self.name = name\n",
        "\n",
        "    def move(self):\n",
        "        pass\n",
        "\n",
        "\n",
        "class Fish(Animal):\n",
        "    def move(self):\n",
        "        print(f\"{self.name} is swimming\")\n",
        "\n",
        "\n",
        "class Bird(Animal):\n",
        "    def move(self):\n",
        "        print(f\"{self.name} is flying\")\n",
        "\n",
        "    def lay_egg(self):\n",
        "        print(f\"{self.name} laid an egg\")\n",
        "\n",
        "\n",
        "class Penguin(Bird):\n",
        "    def move(self):\n",
        "        print(f\"{self.name} is waddling\")\n",
        "\n",
        "\n",
        "# Usage\n",
        "penguin = Penguin(\"Pingu\")\n",
        "penguin.move()  # Pingu is waddling\n",
        "penguin.lay_egg()  # Pingu laid an egg"
      ],
      "metadata": {
        "colab": {
          "base_uri": "https://localhost:8080/"
        },
        "id": "oliPH7R2nuMd",
        "outputId": "0f5489d6-8168-4cff-8802-8b04d907eb74"
      },
      "execution_count": 26,
      "outputs": [
        {
          "output_type": "stream",
          "name": "stdout",
          "text": [
            "Pingu is waddling\n",
            "Pingu laid an egg\n"
          ]
        }
      ]
    },
    {
      "cell_type": "markdown",
      "source": [
        "Composition Approach"
      ],
      "metadata": {
        "id": "MPulyZDDn07Q"
      }
    },
    {
      "cell_type": "code",
      "source": [
        "class Animal:\n",
        "    def __init__(self, name, movement_type):\n",
        "        self.name = name\n",
        "        self.movement_type = movement_type\n",
        "\n",
        "    def move(self):\n",
        "        self.movement_type.move(self.name)\n",
        "\n",
        "\n",
        "class SwimmingMovement:\n",
        "    def move(self, name):\n",
        "        print(f\"{name} is swimming\")\n",
        "\n",
        "\n",
        "class FlyingMovement:\n",
        "    def move(self, name):\n",
        "        print(f\"{name} is flying\")\n",
        "\n",
        "\n",
        "class WalkingMovement:\n",
        "    def move(self, name):\n",
        "        print(f\"{name} is walking\")\n",
        "\n",
        "\n",
        "class EggLaying:\n",
        "    def lay_egg(self, name):\n",
        "        print(f\"{name} laid an egg\")\n",
        "\n",
        "\n",
        "class Fish:\n",
        "    def __init__(self, name):\n",
        "        self.animal = Animal(name, SwimmingMovement())\n",
        "\n",
        "    def move(self):\n",
        "        self.animal.move()\n",
        "\n",
        "\n",
        "class Bird:\n",
        "    def __init__(self, name):\n",
        "        self.animal = Animal(name, FlyingMovement())\n",
        "        self.egg_laying = EggLaying()\n",
        "\n",
        "    def move(self):\n",
        "        self.animal.move()\n",
        "\n",
        "    def lay_egg(self):\n",
        "        self.egg_laying.lay_egg(self.animal.name)\n",
        "\n",
        "\n",
        "class Penguin:\n",
        "    def __init__(self, name):\n",
        "        self.animal = Animal(name, WalkingMovement())\n",
        "        self.egg_laying = EggLaying()\n",
        "\n",
        "    def move(self):\n",
        "        self.animal.move()\n",
        "\n",
        "    def lay_egg(self):\n",
        "        self.egg_laying.lay_egg(self.animal.name)\n",
        "\n",
        "\n",
        "# Usage\n",
        "penguin = Penguin(\"Pingu\")\n",
        "penguin.move()  # Pingu is walking\n",
        "penguin.lay_egg()  # Pingu laid an egg"
      ],
      "metadata": {
        "colab": {
          "base_uri": "https://localhost:8080/"
        },
        "id": "Uw3LEYy4nzta",
        "outputId": "49e32175-1205-416b-d0c6-6d41bff4c238"
      },
      "execution_count": 27,
      "outputs": [
        {
          "output_type": "stream",
          "name": "stdout",
          "text": [
            "Pingu is walking\n",
            "Pingu laid an egg\n"
          ]
        }
      ]
    }
  ]
}