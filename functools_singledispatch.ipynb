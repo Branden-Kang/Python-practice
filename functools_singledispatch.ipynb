{
  "nbformat": 4,
  "nbformat_minor": 0,
  "metadata": {
    "colab": {
      "name": "functools.singledispatch.ipynb",
      "provenance": [],
      "authorship_tag": "ABX9TyOGO3tQewZkMVHAILfupHc8"
    },
    "kernelspec": {
      "name": "python3",
      "display_name": "Python 3"
    },
    "language_info": {
      "name": "python"
    }
  },
  "cells": [
    {
      "cell_type": "markdown",
      "source": [
        "[Reference](https://towardsdev.com/python-trick-functools-singledispatch-4cdf71843cd2)"
      ],
      "metadata": {
        "id": "xWgu7CCgsZPK"
      }
    },
    {
      "cell_type": "code",
      "execution_count": 1,
      "metadata": {
        "id": "4Ksjw9HcsV1h"
      },
      "outputs": [],
      "source": [
        "def func1(param):\n",
        "    pass\n",
        "\n",
        "\n",
        "def func2(param):\n",
        "    pass\n",
        "\n",
        "\n",
        "def func3(param):\n",
        "    pass\n",
        "\n",
        "def func4(param):\n",
        "    pass\n",
        "\n",
        "def main(param):\n",
        "    if isinstance(param, int):\n",
        "        return func1(param)\n",
        "    elif isinstance(param, float):\n",
        "        return func2(param)\n",
        "    elif isinstance(param, str):\n",
        "        return fun3(param)\n",
        "    elif isinstance(param, list):\n",
        "        return fun4(param)"
      ]
    },
    {
      "cell_type": "code",
      "source": [
        "from functools import singledispatch\n",
        "\n",
        "@singledispatch\n",
        "def main(param=None):\n",
        "    raise NotImplementedError(\"Implement process function.\")\n",
        "    \n",
        "@main.register\n",
        "def func1(param:int):\n",
        "    return f\"{param} is interger type. \"\n",
        "\n",
        "@main.register\n",
        "def func2(param:float):\n",
        "    return f\"{param} is float type\"\n",
        "\n",
        "@main.register\n",
        "def func3(param:str):\n",
        "    return f\"{param} is str type\"\n",
        "\n",
        "@main.register\n",
        "def func4(param:list):\n",
        "    return f\"{param} is list type\"\n",
        "\n",
        "print(main(12))\n",
        "print(main(12.3))\n",
        "print(main(\"test\"))\n",
        "print(main([1,2,3,4]))"
      ],
      "metadata": {
        "colab": {
          "base_uri": "https://localhost:8080/"
        },
        "id": "adHi15dNsWbA",
        "outputId": "f6af22b0-209a-47ad-f3d9-6ade3908940d"
      },
      "execution_count": 2,
      "outputs": [
        {
          "output_type": "stream",
          "name": "stdout",
          "text": [
            "12 is interger type. \n",
            "12.3 is float type\n",
            "test is str type\n",
            "[1, 2, 3, 4] is list type\n"
          ]
        }
      ]
    },
    {
      "cell_type": "code",
      "source": [
        "from functools import singledispatch\n",
        "from dataclasses import dataclass\n",
        "\n",
        "@dataclass\n",
        "class Car:\n",
        "    make: str\n",
        "    year: int\n",
        "\n",
        "@dataclass\n",
        "class Bus:\n",
        "    make: str\n",
        "    year: int\n",
        "\n",
        "@singledispatch\n",
        "def main(param=None):\n",
        "    raise NotImplementedError(\"Implement process function.\")\n",
        "\n",
        "@main.register\n",
        "def _(obj:Car):\n",
        "    return f\"{obj} data has been processed\"\n",
        "\n",
        "@main.register\n",
        "def _(obj:Bus):\n",
        "    return f\"{obj} data has been processed\"\n",
        "\n",
        "\n",
        "car = Car(make=\"Ford\", year=2022)\n",
        "bus = Bus(make=\"Toyota\", year=2022)\n",
        "\n",
        "\n",
        "print(main(car))\n",
        "print(main(bus))"
      ],
      "metadata": {
        "colab": {
          "base_uri": "https://localhost:8080/"
        },
        "id": "pxhCh2I-sdO2",
        "outputId": "19c120c2-7430-4d6a-9825-980c052da4b1"
      },
      "execution_count": 3,
      "outputs": [
        {
          "output_type": "stream",
          "name": "stdout",
          "text": [
            "Car(make='Ford', year=2022) data has been processed\n",
            "Bus(make='Toyota', year=2022) data has been processed\n"
          ]
        }
      ]
    }
  ]
}