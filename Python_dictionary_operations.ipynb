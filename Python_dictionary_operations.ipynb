{
  "nbformat": 4,
  "nbformat_minor": 0,
  "metadata": {
    "colab": {
      "name": "Python dictionary operations.ipynb",
      "provenance": [],
      "authorship_tag": "ABX9TyP/6hSWVC8wjmdaO6JHvj2M"
    },
    "kernelspec": {
      "name": "python3",
      "display_name": "Python 3"
    },
    "language_info": {
      "name": "python"
    }
  },
  "cells": [
    {
      "cell_type": "markdown",
      "source": [
        "[Reference](https://medium.com/@dreamferus/python-dictionary-operations-you-should-know-bb91a77bd97a)"
      ],
      "metadata": {
        "id": "DLyShsnhI9t6"
      }
    },
    {
      "cell_type": "markdown",
      "source": [
        "# Initialization"
      ],
      "metadata": {
        "id": "7gwzP5s4JDFF"
      }
    },
    {
      "cell_type": "code",
      "execution_count": 1,
      "metadata": {
        "id": "Tlcx1HUcH_6M"
      },
      "outputs": [],
      "source": [
        "# the most common way\n",
        "my_object = {\n",
        "  \"a\": 5,\n",
        "  \"b\": 6\n",
        "}\n",
        "# what I prefer (avoiding { and \")\n",
        "my_object = dict(a=5, b=6)"
      ]
    },
    {
      "cell_type": "markdown",
      "source": [
        "# Merging dictionaries\n"
      ],
      "metadata": {
        "id": "tbs5GinSJEZQ"
      }
    },
    {
      "cell_type": "code",
      "source": [
        "a = { \"a\": 5, \"b\": 5 }\n",
        "b = { \"c\": 5, \"d\": 5 }\n",
        "c = { **a, **b }\n",
        "assert c == { \"a\": 5, \"b\": 5, \"c\": 5, \"d\": 5 }\n",
        "# order matters!\n",
        "# the last added will overwrite the first added\n",
        "c = { **a, **b, \"a\": 10 }\n",
        "assert c == { \"a\": 10, \"b\": 5, \"c\": 5, \"d\": 5 }\n",
        "b[\"a\"] = 10\n",
        "c = { **a, **b }\n",
        "assert c == { \"a\": 10, \"b\": 5, \"c\": 5, \"d\": 5 }\n",
        "# this doesn't work when initializing with dict(...)\n",
        "c = dict(**a, **b)\n",
        "# => TypeError: type object got multiple values for keyword argument 'a'"
      ],
      "metadata": {
        "colab": {
          "base_uri": "https://localhost:8080/",
          "height": 266
        },
        "id": "F7Z77NeTJDYd",
        "outputId": "b634681a-9326-4070-dfdb-12f2dfa9df4c"
      },
      "execution_count": 2,
      "outputs": [
        {
          "output_type": "error",
          "ename": "TypeError",
          "evalue": "ignored",
          "traceback": [
            "\u001b[0;31m---------------------------------------------------------------------------\u001b[0m",
            "\u001b[0;31mTypeError\u001b[0m                                 Traceback (most recent call last)",
            "\u001b[0;32m<ipython-input-2-6b0d1f55d504>\u001b[0m in \u001b[0;36m<module>\u001b[0;34m()\u001b[0m\n\u001b[1;32m     11\u001b[0m \u001b[0;32massert\u001b[0m \u001b[0mc\u001b[0m \u001b[0;34m==\u001b[0m \u001b[0;34m{\u001b[0m \u001b[0;34m\"a\"\u001b[0m\u001b[0;34m:\u001b[0m \u001b[0;36m10\u001b[0m\u001b[0;34m,\u001b[0m \u001b[0;34m\"b\"\u001b[0m\u001b[0;34m:\u001b[0m \u001b[0;36m5\u001b[0m\u001b[0;34m,\u001b[0m \u001b[0;34m\"c\"\u001b[0m\u001b[0;34m:\u001b[0m \u001b[0;36m5\u001b[0m\u001b[0;34m,\u001b[0m \u001b[0;34m\"d\"\u001b[0m\u001b[0;34m:\u001b[0m \u001b[0;36m5\u001b[0m \u001b[0;34m}\u001b[0m\u001b[0;34m\u001b[0m\u001b[0;34m\u001b[0m\u001b[0m\n\u001b[1;32m     12\u001b[0m \u001b[0;31m# this doesn't work when initializing with dict(...)\u001b[0m\u001b[0;34m\u001b[0m\u001b[0;34m\u001b[0m\u001b[0;34m\u001b[0m\u001b[0m\n\u001b[0;32m---> 13\u001b[0;31m \u001b[0mc\u001b[0m \u001b[0;34m=\u001b[0m \u001b[0mdict\u001b[0m\u001b[0;34m(\u001b[0m\u001b[0;34m**\u001b[0m\u001b[0ma\u001b[0m\u001b[0;34m,\u001b[0m \u001b[0;34m**\u001b[0m\u001b[0mb\u001b[0m\u001b[0;34m)\u001b[0m\u001b[0;34m\u001b[0m\u001b[0;34m\u001b[0m\u001b[0m\n\u001b[0m\u001b[1;32m     14\u001b[0m \u001b[0;31m# => TypeError: type object got multiple values for keyword argument 'a'\u001b[0m\u001b[0;34m\u001b[0m\u001b[0;34m\u001b[0m\u001b[0;34m\u001b[0m\u001b[0m\n",
            "\u001b[0;31mTypeError\u001b[0m: type object got multiple values for keyword argument 'a'"
          ]
        }
      ]
    },
    {
      "cell_type": "markdown",
      "source": [
        "# Dictionary comprehension\n"
      ],
      "metadata": {
        "id": "ETJ6IveKLIyj"
      }
    },
    {
      "cell_type": "code",
      "source": [
        "# remove keys\n",
        "a = dict(a=5, b=6, c=7, d=8)\n",
        "remove = set([\"c\", \"d\"])\n",
        "a = { k: v for k,v in a.items() if k not in remove }\n",
        "# a = { \"a\": 5, \"b\": 6 }\n",
        "\n",
        "# keep keys\n",
        "a = dict(a=5, b=6, c=7, d=8)\n",
        "keep = remove\n",
        "a = { k: v for k,v in a.items() if k in keep }\n",
        "# a = { \"c\": 7, \"d\": 8 }\n",
        "\n",
        "# add to all values\n",
        "a = dict(a=5, b=6, c=7, d=8)\n",
        "a = { k: v+1 for k,v in a.items() }\n",
        "# a = { \"a\": 6, \"b\": 7, \"c\": 8, \"d\": 9 }"
      ],
      "metadata": {
        "id": "DHgHAjzaJWMF"
      },
      "execution_count": 3,
      "outputs": []
    },
    {
      "cell_type": "markdown",
      "source": [
        "# Collections\n"
      ],
      "metadata": {
        "id": "8R2cbnX7LLEG"
      }
    },
    {
      "cell_type": "code",
      "source": [
        "from collections import Counter\n",
        "import random\n",
        "\n",
        "counter = Counter()\n",
        "# add lists with random number of a, b and c.\n",
        "counter.update([random.choice([\"a\", \"b\", \"c\"]) for _ in range(100)])\n",
        "counter.update([random.choice([\"a\", \"b\"]) for _ in range(100)])\n",
        "# merge with counts\n",
        "counter.update({ \"a\": 10000, \"b\": 1 })\n",
        "# add directly\n",
        "counter[\"b\"] += 100\n",
        "\n",
        "# list most common elements\n",
        "print(counter.most_common())\n",
        "# => [('a', 10075), ('b', 195), ('c', 31)]\n",
        "# most common element\n",
        "print(counter.most_common(1)[0][0])\n",
        "# => a"
      ],
      "metadata": {
        "colab": {
          "base_uri": "https://localhost:8080/"
        },
        "id": "A1YRA5bJLKPr",
        "outputId": "82b6d3c7-d54a-46bd-8353-8bd2c2ed6353"
      },
      "execution_count": 4,
      "outputs": [
        {
          "output_type": "stream",
          "name": "stdout",
          "text": [
            "[('a', 10083), ('b', 194), ('c', 24)]\n",
            "a\n"
          ]
        }
      ]
    },
    {
      "cell_type": "code",
      "source": [
        "from collections import defaultdict\n",
        "\n",
        "# by default a dict\n",
        "a = defaultdict(dict)\n",
        "assert a[5] == {}\n",
        "a[5][\"a\"] = 5\n",
        "assert a[5] == { \"a\": 5 }\n",
        "\n",
        "# by default a list\n",
        "a = defaultdict(list)\n",
        "assert a[5] == []\n",
        "a[5].append(3)\n",
        "assert a[5] == [3]\n",
        "\n",
        "# you can also specify a lambda-expression\n",
        "# to create the default value\n",
        "a = defaultdict(lambda: 10)\n",
        "assert a[5] == 10\n",
        "assert a[6] + 1 == 11\n",
        "\n",
        "# in essense, this way we can avoid doing\n",
        "# if key not in a:\n",
        "#    a[key] = ...\n",
        "\n",
        "# and it can get especially useful if things are nested\n",
        "a = defaultdict(lambda: defaultdict(dict))\n",
        "assert a[5][5] == {}"
      ],
      "metadata": {
        "id": "zCvDDJAULM9l"
      },
      "execution_count": 5,
      "outputs": []
    },
    {
      "cell_type": "markdown",
      "source": [
        "# Dict to JSON\n"
      ],
      "metadata": {
        "id": "hYf61B39LPr2"
      }
    },
    {
      "cell_type": "code",
      "source": [
        "import json\n",
        "\n",
        "a = dict(a=5, b=6)\n",
        "\n",
        "# to json\n",
        "json_string = json.dumps(a)\n",
        "# json_string = '{\"a\": 5, \"b\": 6}'\n",
        "\n",
        "# json to dict\n",
        "assert a == json.loads(json_string)\n",
        "\n",
        "# to json file\n",
        "with open(\"dict.json\", \"w+\") as f:\n",
        "    json.dump(a, f)\n",
        "# from json file\n",
        "with open(\"dict.json\", \"r\") as f:\n",
        "    assert a == json.load(f)"
      ],
      "metadata": {
        "id": "xZf14gfzLOyG"
      },
      "execution_count": 6,
      "outputs": []
    },
    {
      "cell_type": "markdown",
      "source": [
        "# Dict to Pandas\n"
      ],
      "metadata": {
        "id": "d3J2RktZLSzL"
      }
    },
    {
      "cell_type": "code",
      "source": [
        "import pandas as pd\n",
        "\n",
        "# list of dicts to pd.DataFrame\n",
        "df = pd.DataFrame([\n",
        "    { \"a\": 5, \"b\": 6 },\n",
        "    { \"a\": 6, \"b\": 7 }\n",
        "])\n",
        "# df =\n",
        "#    a  b\n",
        "# 0  5  6\n",
        "# 1  6  7\n",
        "\n",
        "# to go back to list of dicts\n",
        "a = df.to_dict(orient=\"records\")\n",
        "# a = [\n",
        "#    { \"a\": 5, \"b\": 6 },\n",
        "#    { \"a\": 6, \"b\": 7 }\n",
        "# ]\n",
        "\n",
        "# a dict to pd.Series\n",
        "srs = pd.Series({ \"a\": 5, \"b\": 6 })\n",
        "# srs =\n",
        "# a    5\n",
        "# b    6\n",
        "# dtype: int64\n",
        "\n",
        "# to go back to dictionary\n",
        "a = srs.to_dict()\n",
        "# a = {'a': 5, 'b': 6}"
      ],
      "metadata": {
        "id": "SvwPkmgOLR3d"
      },
      "execution_count": 7,
      "outputs": []
    }
  ]
}