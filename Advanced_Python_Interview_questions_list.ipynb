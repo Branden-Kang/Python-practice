{
  "nbformat": 4,
  "nbformat_minor": 0,
  "metadata": {
    "colab": {
      "name": "Advanced Python Interview questions list.ipynb",
      "provenance": [],
      "authorship_tag": "ABX9TyOFyaHcR8H/+AQcj/SsylCo"
    },
    "kernelspec": {
      "name": "python3",
      "display_name": "Python 3"
    },
    "language_info": {
      "name": "python"
    }
  },
  "cells": [
    {
      "cell_type": "markdown",
      "metadata": {
        "id": "ZTnf8UkT2SNe"
      },
      "source": [
        "[Reference](https://ajauntor.medium.com/interview-questions-for-advanced-python-programmers-e7e1fbb27c00)"
      ]
    },
    {
      "cell_type": "markdown",
      "metadata": {
        "id": "i5cTh8BM2jdh"
      },
      "source": [
        "# Where do nolocal and global keywords come from?"
      ]
    },
    {
      "cell_type": "code",
      "metadata": {
        "id": "MA80VUDdzAfA"
      },
      "source": [
        "def func1():\n",
        "    x = 5\n",
        "    def func2():\n",
        "        nonlocal x\n",
        "        print(x)\n",
        "    func2()"
      ],
      "execution_count": 2,
      "outputs": []
    },
    {
      "cell_type": "code",
      "metadata": {
        "colab": {
          "base_uri": "https://localhost:8080/"
        },
        "id": "-SaSimcf2j70",
        "outputId": "e4a518b6-f3da-4233-c842-02519c1f2497"
      },
      "source": [
        "x = 5\n",
        "def func1():\n",
        "    print(x)\n",
        "func1()"
      ],
      "execution_count": 3,
      "outputs": [
        {
          "output_type": "stream",
          "name": "stdout",
          "text": [
            "5\n"
          ]
        }
      ]
    },
    {
      "cell_type": "code",
      "metadata": {
        "colab": {
          "base_uri": "https://localhost:8080/",
          "height": 334
        },
        "id": "qrdmylZW2lEe",
        "outputId": "936c371a-89a2-4b17-8a5a-e6ed9b61dcfc"
      },
      "source": [
        "x = 5\n",
        "def func2():\n",
        "    x += 3\n",
        "func2()"
      ],
      "execution_count": 4,
      "outputs": [
        {
          "output_type": "error",
          "ename": "UnboundLocalError",
          "evalue": "ignored",
          "traceback": [
            "\u001b[0;31m---------------------------------------------------------------------------\u001b[0m",
            "\u001b[0;31mUnboundLocalError\u001b[0m                         Traceback (most recent call last)",
            "\u001b[0;32m<ipython-input-4-448e81d987d7>\u001b[0m in \u001b[0;36m<module>\u001b[0;34m()\u001b[0m\n\u001b[1;32m      2\u001b[0m \u001b[0;32mdef\u001b[0m \u001b[0mfunc2\u001b[0m\u001b[0;34m(\u001b[0m\u001b[0;34m)\u001b[0m\u001b[0;34m:\u001b[0m\u001b[0;34m\u001b[0m\u001b[0;34m\u001b[0m\u001b[0m\n\u001b[1;32m      3\u001b[0m     \u001b[0mx\u001b[0m \u001b[0;34m+=\u001b[0m \u001b[0;36m3\u001b[0m\u001b[0;34m\u001b[0m\u001b[0;34m\u001b[0m\u001b[0m\n\u001b[0;32m----> 4\u001b[0;31m \u001b[0mfunc2\u001b[0m\u001b[0;34m(\u001b[0m\u001b[0;34m)\u001b[0m\u001b[0;34m\u001b[0m\u001b[0;34m\u001b[0m\u001b[0m\n\u001b[0m",
            "\u001b[0;32m<ipython-input-4-448e81d987d7>\u001b[0m in \u001b[0;36mfunc2\u001b[0;34m()\u001b[0m\n\u001b[1;32m      1\u001b[0m \u001b[0mx\u001b[0m \u001b[0;34m=\u001b[0m \u001b[0;36m5\u001b[0m\u001b[0;34m\u001b[0m\u001b[0;34m\u001b[0m\u001b[0m\n\u001b[1;32m      2\u001b[0m \u001b[0;32mdef\u001b[0m \u001b[0mfunc2\u001b[0m\u001b[0;34m(\u001b[0m\u001b[0;34m)\u001b[0m\u001b[0;34m:\u001b[0m\u001b[0;34m\u001b[0m\u001b[0;34m\u001b[0m\u001b[0m\n\u001b[0;32m----> 3\u001b[0;31m     \u001b[0mx\u001b[0m \u001b[0;34m+=\u001b[0m \u001b[0;36m3\u001b[0m\u001b[0;34m\u001b[0m\u001b[0;34m\u001b[0m\u001b[0m\n\u001b[0m\u001b[1;32m      4\u001b[0m \u001b[0mfunc2\u001b[0m\u001b[0;34m(\u001b[0m\u001b[0;34m)\u001b[0m\u001b[0;34m\u001b[0m\u001b[0;34m\u001b[0m\u001b[0m\n",
            "\u001b[0;31mUnboundLocalError\u001b[0m: local variable 'x' referenced before assignment"
          ]
        }
      ]
    },
    {
      "cell_type": "code",
      "metadata": {
        "id": "y-kPXB-72sX7"
      },
      "source": [
        "x = 5\n",
        "def func2():\n",
        "    global x\n",
        "    x += 3\n",
        "func2()"
      ],
      "execution_count": 5,
      "outputs": []
    },
    {
      "cell_type": "markdown",
      "metadata": {
        "id": "LaEQHVrF2vUh"
      },
      "source": [
        "# Classmethod vs. staticmethod"
      ]
    },
    {
      "cell_type": "code",
      "metadata": {
        "id": "F8YQABlG2tpO"
      },
      "source": [
        "class A:\n",
        "    @staticmethod\n",
        "    def func1():\n",
        "        pass\n",
        "    \n",
        "    @classmethod\n",
        "    def func2(cls):\n",
        "        pass"
      ],
      "execution_count": 6,
      "outputs": []
    },
    {
      "cell_type": "markdown",
      "metadata": {
        "id": "Z_wlQeum2-Kr"
      },
      "source": [
        "# How does GIL work and how can it be avoided?\n",
        "GIL stands for the Global Interpreter Lock, a concurrency mechanism implemented by Python. It is deeply engrained into the Python code and can’t be removed at the moment. GIL introduces a significant downside in that it does not permit threads to be truly concurrent. The interpreter is locked, and even though you appear to be working with threads, there are no threads executing at the same time, degrading performance."
      ]
    },
    {
      "cell_type": "markdown",
      "metadata": {
        "id": "7B6ZYZnn3FjE"
      },
      "source": [
        "# When are metaclasses used and what are they used for?\n",
        "A metaclass is a class for another class. It is possible to specify certain behaviors that are common to many classes using a metaclass in situations where inheritance is too messy. Abstract classes are often created by using ABCMeta, a metaclass."
      ]
    },
    {
      "cell_type": "markdown",
      "metadata": {
        "id": "UoEVuvDk3LZy"
      },
      "source": [
        "# Type annotations are what they sound like, Why do generic type annotations exist?\n",
        "Below is a list of built-in types:\n",
        "- int\n",
        "- float\n",
        "- bool\n",
        "- str\n",
        "- bytes\n",
        "\n",
        "In the typing module, complex types are available:\n",
        "- List\n",
        "- Set\n",
        "- Dict\n",
        "- Tuple\n",
        "- Optional"
      ]
    },
    {
      "cell_type": "markdown",
      "metadata": {
        "id": "wba7gcTD3sLp"
      },
      "source": [
        "There are generic type annotations, which allow you to specify complex logic by taking another type as a parameter:\n",
        "- List[int]\n",
        "- Optional[List[int]]\n",
        "- Tuple[bool]"
      ]
    },
    {
      "cell_type": "code",
      "metadata": {
        "id": "bX1QEvsH2yd3"
      },
      "source": [
        "def func1(x: int, y: str) -> bool:\n",
        "    return False"
      ],
      "execution_count": 7,
      "outputs": []
    },
    {
      "cell_type": "markdown",
      "metadata": {
        "id": "IQAFfbso36Kb"
      },
      "source": [
        "# How do generator functions work?"
      ]
    },
    {
      "cell_type": "code",
      "metadata": {
        "id": "esNJkvKS3rZR"
      },
      "source": [
        "def range(start, end, step):\n",
        "    cur = start\n",
        "    while cur > end:\n",
        "        yield cur\n",
        "        cur += step"
      ],
      "execution_count": 8,
      "outputs": []
    },
    {
      "cell_type": "markdown",
      "metadata": {
        "id": "AhNH0IiB386I"
      },
      "source": [
        "# How do decorators work in Python?\n",
        "A Python decorator modifies the behavior of a function. In the case of logging all calls to a specific set of functions, caching their parameters and return values, and performing benchmarks, for instance."
      ]
    },
    {
      "cell_type": "markdown",
      "metadata": {
        "id": "Ev_7oPnw3_ZY"
      },
      "source": [
        "# How does Python pickle and unpickle?"
      ]
    },
    {
      "cell_type": "code",
      "metadata": {
        "id": "5NJGOxxd374v"
      },
      "source": [
        "import pickle\n",
        "cars = {\"Subaru\": \"best car\", \"Toyota\": \"no i am the best car\"}\n",
        "cars_serialized = pickle.dumps(cars)\n",
        "# cars_serialized is a byte string\n",
        "new_cars = pickle.loads(cars_serialized)"
      ],
      "execution_count": 9,
      "outputs": []
    },
    {
      "cell_type": "markdown",
      "metadata": {
        "id": "DcV3OgvI4C8r"
      },
      "source": [
        "# How do Python functions use *args and **kwargs?"
      ]
    },
    {
      "cell_type": "code",
      "metadata": {
        "colab": {
          "base_uri": "https://localhost:8080/"
        },
        "id": "u8yYIsQp4BLT",
        "outputId": "d325a67c-2ff1-4555-ae11-a7d9dd431c36"
      },
      "source": [
        "def func1(*args, **kwargs):\n",
        "    print(args)\n",
        "    print(kwargs)\n",
        "\n",
        "func1(1, 'abc', lol='lmao')"
      ],
      "execution_count": 10,
      "outputs": [
        {
          "output_type": "stream",
          "name": "stdout",
          "text": [
            "(1, 'abc')\n",
            "{'lol': 'lmao'}\n"
          ]
        }
      ]
    },
    {
      "cell_type": "markdown",
      "metadata": {
        "id": "j1FT5q5T4U3T"
      },
      "source": [
        "# How can .pyc files be used?\n",
        "Python bytecode is contained in .pyc files, just as Java class files are. The compilation phase of Python occurs when you run the program, unlike Java, where they are clearly separated. However, Python is still considered an interpreted language."
      ]
    },
    {
      "cell_type": "markdown",
      "metadata": {
        "id": "l3bwSi614Xi8"
      },
      "source": [
        "# How do will you define abstract classes in Python program?"
      ]
    },
    {
      "cell_type": "code",
      "metadata": {
        "id": "UvF5uqZT4FlU"
      },
      "source": [
        "from abc import ABC\n",
        "\n",
        "class AbstractCar(ABC):\n",
        "    @abstractmethod\n",
        "    def drive(self):\n",
        "        pass"
      ],
      "execution_count": 15,
      "outputs": []
    },
    {
      "cell_type": "code",
      "metadata": {
        "id": "cz9agXUx4Ypo"
      },
      "source": [
        "class ToyotaSupra(AbstractCar):\n",
        "    def drive(self):\n",
        "        print('brrrr sutututu')"
      ],
      "execution_count": 13,
      "outputs": []
    }
  ]
}