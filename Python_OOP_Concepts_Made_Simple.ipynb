{
  "nbformat": 4,
  "nbformat_minor": 0,
  "metadata": {
    "colab": {
      "provenance": [],
      "authorship_tag": "ABX9TyOSkTN0K0J3Y4jeAKTzrkTV"
    },
    "kernelspec": {
      "name": "python3",
      "display_name": "Python 3"
    },
    "language_info": {
      "name": "python"
    }
  },
  "cells": [
    {
      "cell_type": "markdown",
      "source": [
        "[Reference](https://ishanjain-ai.medium.com/python-oop-concepts-made-simple-c2b99ce9de8e)"
      ],
      "metadata": {
        "id": "Ywu-CY1bP9LJ"
      }
    },
    {
      "cell_type": "markdown",
      "source": [
        "# (1) Class:"
      ],
      "metadata": {
        "id": "lNzVP3mTQFHk"
      }
    },
    {
      "cell_type": "code",
      "execution_count": 1,
      "metadata": {
        "id": "MvTkiJqPP7uO"
      },
      "outputs": [],
      "source": [
        "class Car:\n",
        "    def __init__(self, make, model):\n",
        "        self.make = make\n",
        "        self.model = model\n",
        "\n",
        "    def start_engine(self):\n",
        "        print(f\"{self.make} {self.model}'s engine started.\")"
      ]
    },
    {
      "cell_type": "markdown",
      "source": [
        "# (2) Object:"
      ],
      "metadata": {
        "id": "VaW0j1A2QGWQ"
      }
    },
    {
      "cell_type": "code",
      "source": [
        "my_car = Car(\"Toyota\", \"Camry\")\n",
        "my_car.start_engine()"
      ],
      "metadata": {
        "colab": {
          "base_uri": "https://localhost:8080/"
        },
        "id": "C0RMK2ZDQAQz",
        "outputId": "a7dfac9c-73c5-4f3c-9d49-b0ab0f389d14"
      },
      "execution_count": 2,
      "outputs": [
        {
          "output_type": "stream",
          "name": "stdout",
          "text": [
            "Toyota Camry's engine started.\n"
          ]
        }
      ]
    },
    {
      "cell_type": "markdown",
      "source": [
        "# (3) Attributes:"
      ],
      "metadata": {
        "id": "519uoWa3QHjz"
      }
    },
    {
      "cell_type": "code",
      "source": [
        "class Person:\n",
        "    def __init__(self, name, age):\n",
        "        self.name = name\n",
        "        self.age = age"
      ],
      "metadata": {
        "id": "EaHMnC26QAZK"
      },
      "execution_count": 3,
      "outputs": []
    },
    {
      "cell_type": "markdown",
      "source": [
        "# (4) Methods:"
      ],
      "metadata": {
        "id": "wFb0mKoDQJIu"
      }
    },
    {
      "cell_type": "code",
      "source": [
        "class Circle:\n",
        "    def __init__(self, radius):\n",
        "        self.radius = radius\n",
        "\n",
        "    def area(self):\n",
        "        return 3.14159 * self.radius * self.radius"
      ],
      "metadata": {
        "id": "fKZokSMcQBRD"
      },
      "execution_count": 4,
      "outputs": []
    },
    {
      "cell_type": "markdown",
      "source": [
        "# (5) Inheritance:"
      ],
      "metadata": {
        "id": "O62f8rV9QKCC"
      }
    },
    {
      "cell_type": "code",
      "source": [
        "class Animal:\n",
        "    def speak(self):\n",
        "        pass\n",
        "\n",
        "class Dog(Animal):\n",
        "    def speak(self):\n",
        "        return \"Woof!\""
      ],
      "metadata": {
        "id": "sMqDTj3yQCPe"
      },
      "execution_count": 5,
      "outputs": []
    },
    {
      "cell_type": "markdown",
      "source": [
        "# (6) Encapsulation:"
      ],
      "metadata": {
        "id": "xcDetYPNQMST"
      }
    },
    {
      "cell_type": "code",
      "source": [
        "class BankAccount:\n",
        "    def __init__(self, account_number, balance):\n",
        "        self.__account_number = account_number  # Private attribute\n",
        "        self.balance = balance\n",
        "\n",
        "    def deposit(self, amount):\n",
        "        self.balance += amount"
      ],
      "metadata": {
        "id": "3aC55AkkQLU2"
      },
      "execution_count": 6,
      "outputs": []
    },
    {
      "cell_type": "markdown",
      "source": [
        "# (7) Polymorphism:\n"
      ],
      "metadata": {
        "id": "uzXkIKlxQPY-"
      }
    },
    {
      "cell_type": "code",
      "source": [
        "class Animal:\n",
        "    def speak(self):\n",
        "        pass\n",
        "\n",
        "class Cat(Animal):\n",
        "    def speak(self):\n",
        "        return \"Meow!\"\n",
        "\n",
        "class Dog(Animal):\n",
        "    def speak(self):\n",
        "        return \"Woof!\""
      ],
      "metadata": {
        "id": "TZwmQqwZQN_w"
      },
      "execution_count": 7,
      "outputs": []
    },
    {
      "cell_type": "markdown",
      "source": [
        "# (8) Abstraction:"
      ],
      "metadata": {
        "id": "TvochmJGQSgz"
      }
    },
    {
      "cell_type": "code",
      "source": [
        "from abc import ABC, abstractmethod\n",
        "\n",
        "class Shape(ABC):\n",
        "    @abstractmethod\n",
        "    def area(self):\n",
        "        pass"
      ],
      "metadata": {
        "id": "WbYue4YAQRWZ"
      },
      "execution_count": 8,
      "outputs": []
    }
  ]
}