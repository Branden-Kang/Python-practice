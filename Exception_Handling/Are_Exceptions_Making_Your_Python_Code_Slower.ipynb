{
  "nbformat": 4,
  "nbformat_minor": 0,
  "metadata": {
    "colab": {
      "provenance": [],
      "authorship_tag": "ABX9TyOp81cP0NhH6J7MwNUk1a/t"
    },
    "kernelspec": {
      "name": "python3",
      "display_name": "Python 3"
    },
    "language_info": {
      "name": "python"
    }
  },
  "cells": [
    {
      "cell_type": "markdown",
      "source": [
        "[Reference](https://medium.com/@aliyannshaikhh/59b33f492f5b)"
      ],
      "metadata": {
        "id": "NmcU3gxvwFUj"
      }
    },
    {
      "cell_type": "code",
      "execution_count": 1,
      "metadata": {
        "colab": {
          "base_uri": "https://localhost:8080/"
        },
        "id": "Lzzijj-uwDUA",
        "outputId": "97f4e7fd-f7f1-4ebd-9afb-731d09300e57"
      },
      "outputs": [
        {
          "output_type": "stream",
          "name": "stdout",
          "text": [
            "None\n",
            "2\n"
          ]
        }
      ],
      "source": [
        "# Using try/except\n",
        "def to_int_try(value):\n",
        "    try:\n",
        "        return int(value)\n",
        "    except ValueError:\n",
        "        return None\n",
        "\n",
        "# Using an if-check\n",
        "def to_int_check(value):\n",
        "    if value.isdigit():\n",
        "        return int(value)\n",
        "    return None\n",
        "\n",
        "print(to_int_try(\"1A\")) # None\n",
        "print(to_int_check(\"2\")) # 2"
      ]
    },
    {
      "cell_type": "code",
      "source": [
        "import time\n",
        "\n",
        "# Using try/except\n",
        "def to_int_try(value):\n",
        "    try:\n",
        "        return int(value)\n",
        "    except ValueError:\n",
        "        return None\n",
        "\n",
        "# Using an if-check\n",
        "def to_int_check(value):\n",
        "    if value.isdigit():\n",
        "        return int(value)\n",
        "    return None\n",
        "\n",
        "# Test them many times with bad input\n",
        "bad_value = \"hello\"\n",
        "\n",
        "# Measure try/except\n",
        "start = time.time()\n",
        "for _ in range(100000):\n",
        "    to_int_try(bad_value)\n",
        "print(f\"With exceptions: {time.time() - start} seconds\")\n",
        "\n",
        "# Measure if-check\n",
        "start = time.time()\n",
        "for _ in range(100000):\n",
        "    to_int_check(bad_value)\n",
        "print(f\"With if-checks: {time.time() - start} seconds\")"
      ],
      "metadata": {
        "colab": {
          "base_uri": "https://localhost:8080/"
        },
        "id": "415sncsbwHpD",
        "outputId": "68203a38-7eb8-45d5-e8e1-92c709d399cb"
      },
      "execution_count": 2,
      "outputs": [
        {
          "output_type": "stream",
          "name": "stdout",
          "text": [
            "With exceptions: 0.19120240211486816 seconds\n",
            "With if-checks: 0.02233743667602539 seconds\n"
          ]
        }
      ]
    },
    {
      "cell_type": "code",
      "source": [
        "try:\n",
        "    with open(\"data.txt\") as f:\n",
        "        content = f.read()\n",
        "except FileNotFoundError:\n",
        "    print(\"File not found!\")"
      ],
      "metadata": {
        "id": "Zg-SOuV_wIu2"
      },
      "execution_count": 3,
      "outputs": []
    }
  ]
}
