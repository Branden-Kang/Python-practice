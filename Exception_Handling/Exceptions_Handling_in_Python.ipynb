{
  "nbformat": 4,
  "nbformat_minor": 0,
  "metadata": {
    "colab": {
      "name": "Exceptions Handling in Python.ipynb",
      "provenance": [],
      "authorship_tag": "ABX9TyNORMbkcBZy/dH387m+g48K"
    },
    "kernelspec": {
      "name": "python3",
      "display_name": "Python 3"
    }
  },
  "cells": [
    {
      "cell_type": "markdown",
      "metadata": {
        "id": "7p8rFKT_GeIk"
      },
      "source": [
        "[Reference](https://medium.com/techtofreedom/exceptions-handling-in-python-b8a753d47527)"
      ]
    },
    {
      "cell_type": "code",
      "metadata": {
        "colab": {
          "base_uri": "https://localhost:8080/"
        },
        "id": "jwGPOIzPGc57",
        "outputId": "1fb8d2d3-191d-4851-c7a5-eddcb4c4bbb8"
      },
      "source": [
        "a = input(\"Please enter the Numerator:\")\n",
        "b = input(\"Please enter the Denominator:\")\n",
        "try:\n",
        "    r = int(a) / int(b)\n",
        "    print('result:', r)\n",
        "except ZeroDivisionError as e:\n",
        "    print('except:', e)\n",
        "finally:\n",
        "    print('The End')"
      ],
      "execution_count": 1,
      "outputs": [
        {
          "output_type": "stream",
          "text": [
            "Please enter the Numerator:5\n",
            "Please enter the Denominator:1\n",
            "result: 5.0\n",
            "The End\n"
          ],
          "name": "stdout"
        }
      ]
    },
    {
      "cell_type": "code",
      "metadata": {
        "colab": {
          "base_uri": "https://localhost:8080/"
        },
        "id": "SDay_mmnU0ON",
        "outputId": "0f4b4b39-db6c-42e5-9bd0-334ccb59e03e"
      },
      "source": [
        "a = input(\"Please enter the Numerator:\")\n",
        "b = input(\"Please enter the Denominator:\")\n",
        "try:\n",
        "    r = int(a) / int(b)\n",
        "    print('result:', r)\n",
        "except ValueError as e:\n",
        "    print('except:', e)\n",
        "except ZeroDivisionError as e:\n",
        "    print('except:', e)\n",
        "finally:\n",
        "    print('The End')"
      ],
      "execution_count": 2,
      "outputs": [
        {
          "output_type": "stream",
          "text": [
            "Please enter the Numerator:5\n",
            "Please enter the Denominator:0\n",
            "except: division by zero\n",
            "The End\n"
          ],
          "name": "stdout"
        }
      ]
    },
    {
      "cell_type": "code",
      "metadata": {
        "colab": {
          "base_uri": "https://localhost:8080/"
        },
        "id": "dgeJxhjKU5AT",
        "outputId": "d7235a23-3bd6-4bee-add1-7b9b4e952abe"
      },
      "source": [
        "a = input(\"Please enter the Numerator:\")\n",
        "b = input(\"Please enter the Denominator:\")\n",
        "try:\n",
        "    r = int(a) / int(b)\n",
        "    print('result:', r)\n",
        "except ValueError as e:\n",
        "    print('except:', e)\n",
        "except ZeroDivisionError as e:\n",
        "    print('except:', e)\n",
        "else:\n",
        "    print(\"No exception!\")\n",
        "finally:\n",
        "    print('The End')"
      ],
      "execution_count": 3,
      "outputs": [
        {
          "output_type": "stream",
          "text": [
            "Please enter the Numerator:3\n",
            "Please enter the Denominator:4\n",
            "result: 0.75\n",
            "No exception!\n",
            "The End\n"
          ],
          "name": "stdout"
        }
      ]
    }
  ]
}