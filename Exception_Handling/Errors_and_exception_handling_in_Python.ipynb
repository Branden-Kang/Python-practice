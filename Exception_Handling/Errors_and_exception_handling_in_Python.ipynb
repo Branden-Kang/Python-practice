{
  "nbformat": 4,
  "nbformat_minor": 0,
  "metadata": {
    "colab": {
      "name": "Errors and exception handling in Python.ipynb",
      "provenance": [],
      "authorship_tag": "ABX9TyPJn7yRlmxaZ0pES+Cn7QPa"
    },
    "kernelspec": {
      "name": "python3",
      "display_name": "Python 3"
    },
    "language_info": {
      "name": "python"
    }
  },
  "cells": [
    {
      "cell_type": "markdown",
      "metadata": {
        "id": "jGiQFEI3H41t"
      },
      "source": [
        "[Reference](https://levelup.gitconnected.com/errors-and-exception-handling-in-python-e3560a879119)"
      ]
    },
    {
      "cell_type": "code",
      "metadata": {
        "colab": {
          "base_uri": "https://localhost:8080/"
        },
        "id": "_hzPAeS8H3wG",
        "outputId": "c30d8caa-3339-4743-89e3-a6c1efafd1b5"
      },
      "source": [
        "def summation(num1,num2):\n",
        "    print(num1+num2)\n",
        "\n",
        "summation(2,3)"
      ],
      "execution_count": 1,
      "outputs": [
        {
          "output_type": "stream",
          "text": [
            "5\n"
          ],
          "name": "stdout"
        }
      ]
    },
    {
      "cell_type": "code",
      "metadata": {
        "colab": {
          "base_uri": "https://localhost:8080/",
          "height": 385
        },
        "id": "p-boEsnUH86C",
        "outputId": "e3011f87-4d75-49df-8768-8def8a7a2a34"
      },
      "source": [
        "num1 = 2\n",
        "num2 = input(\"Enter number: \")\n",
        "summation(num1,num2)\n",
        "\n",
        "print(\"This line will not be printed because of the error\")"
      ],
      "execution_count": 2,
      "outputs": [
        {
          "output_type": "stream",
          "text": [
            "Enter number: 3\n"
          ],
          "name": "stdout"
        },
        {
          "output_type": "error",
          "ename": "TypeError",
          "evalue": "ignored",
          "traceback": [
            "\u001b[0;31m---------------------------------------------------------------------------\u001b[0m",
            "\u001b[0;31mTypeError\u001b[0m                                 Traceback (most recent call last)",
            "\u001b[0;32m<ipython-input-2-894fe61bbc4c>\u001b[0m in \u001b[0;36m<module>\u001b[0;34m()\u001b[0m\n\u001b[1;32m      1\u001b[0m \u001b[0mnum1\u001b[0m \u001b[0;34m=\u001b[0m \u001b[0;36m2\u001b[0m\u001b[0;34m\u001b[0m\u001b[0;34m\u001b[0m\u001b[0m\n\u001b[1;32m      2\u001b[0m \u001b[0mnum2\u001b[0m \u001b[0;34m=\u001b[0m \u001b[0minput\u001b[0m\u001b[0;34m(\u001b[0m\u001b[0;34m\"Enter number: \"\u001b[0m\u001b[0;34m)\u001b[0m\u001b[0;34m\u001b[0m\u001b[0;34m\u001b[0m\u001b[0m\n\u001b[0;32m----> 3\u001b[0;31m \u001b[0msummation\u001b[0m\u001b[0;34m(\u001b[0m\u001b[0mnum1\u001b[0m\u001b[0;34m,\u001b[0m\u001b[0mnum2\u001b[0m\u001b[0;34m)\u001b[0m\u001b[0;34m\u001b[0m\u001b[0;34m\u001b[0m\u001b[0m\n\u001b[0m\u001b[1;32m      4\u001b[0m \u001b[0;34m\u001b[0m\u001b[0m\n\u001b[1;32m      5\u001b[0m \u001b[0mprint\u001b[0m\u001b[0;34m(\u001b[0m\u001b[0;34m\"This line will not be printed because of the error\"\u001b[0m\u001b[0;34m)\u001b[0m\u001b[0;34m\u001b[0m\u001b[0;34m\u001b[0m\u001b[0m\n",
            "\u001b[0;32m<ipython-input-1-e11729c2cce2>\u001b[0m in \u001b[0;36msummation\u001b[0;34m(num1, num2)\u001b[0m\n\u001b[1;32m      1\u001b[0m \u001b[0;32mdef\u001b[0m \u001b[0msummation\u001b[0m\u001b[0;34m(\u001b[0m\u001b[0mnum1\u001b[0m\u001b[0;34m,\u001b[0m\u001b[0mnum2\u001b[0m\u001b[0;34m)\u001b[0m\u001b[0;34m:\u001b[0m\u001b[0;34m\u001b[0m\u001b[0;34m\u001b[0m\u001b[0m\n\u001b[0;32m----> 2\u001b[0;31m     \u001b[0mprint\u001b[0m\u001b[0;34m(\u001b[0m\u001b[0mnum1\u001b[0m\u001b[0;34m+\u001b[0m\u001b[0mnum2\u001b[0m\u001b[0;34m)\u001b[0m\u001b[0;34m\u001b[0m\u001b[0;34m\u001b[0m\u001b[0m\n\u001b[0m\u001b[1;32m      3\u001b[0m \u001b[0;34m\u001b[0m\u001b[0m\n\u001b[1;32m      4\u001b[0m \u001b[0msummation\u001b[0m\u001b[0;34m(\u001b[0m\u001b[0;36m2\u001b[0m\u001b[0;34m,\u001b[0m\u001b[0;36m3\u001b[0m\u001b[0;34m)\u001b[0m\u001b[0;34m\u001b[0m\u001b[0;34m\u001b[0m\u001b[0m\n",
            "\u001b[0;31mTypeError\u001b[0m: unsupported operand type(s) for +: 'int' and 'str'"
          ]
        }
      ]
    },
    {
      "cell_type": "code",
      "metadata": {
        "colab": {
          "base_uri": "https://localhost:8080/"
        },
        "id": "rFNSFonlIEe_",
        "outputId": "140a554e-790e-4743-b590-d9a7dc9c3320"
      },
      "source": [
        "try:\n",
        "    summed = 2 + '3'\n",
        "except:\n",
        "    print(\"Summation is not of the same type\")"
      ],
      "execution_count": 3,
      "outputs": [
        {
          "output_type": "stream",
          "text": [
            "Summation is not of the same type\n"
          ],
          "name": "stdout"
        }
      ]
    },
    {
      "cell_type": "code",
      "metadata": {
        "colab": {
          "base_uri": "https://localhost:8080/"
        },
        "id": "UQMRHpVGIIc5",
        "outputId": "8693a9f6-f995-44eb-c87f-92c8b6ea8b1f"
      },
      "source": [
        "try:\n",
        "    summed = 2 + 3\n",
        "except:\n",
        "    print(\"Summation is not of the same type\")\n",
        "else:\n",
        "    print(\"There was no error and result is: \",summed)"
      ],
      "execution_count": 4,
      "outputs": [
        {
          "output_type": "stream",
          "text": [
            "There was no error and result is:  5\n"
          ],
          "name": "stdout"
        }
      ]
    },
    {
      "cell_type": "code",
      "metadata": {
        "colab": {
          "base_uri": "https://localhost:8080/"
        },
        "id": "sOx6vk_AIMfv",
        "outputId": "d3ab4a5c-7f03-4f73-c05e-83cb3083ef3b"
      },
      "source": [
        "try:\n",
        "    f = open('test','w')\n",
        "    f.write(\"This is a test file\")\n",
        "except TypeError:\n",
        "    print(\"There is a type error\")\n",
        "except OSError:\n",
        "    print(\"There is an OS error\")\n",
        "finally:\n",
        "    print(\"This will print even if no error\")"
      ],
      "execution_count": 5,
      "outputs": [
        {
          "output_type": "stream",
          "text": [
            "This will print even if no error\n"
          ],
          "name": "stdout"
        }
      ]
    },
    {
      "cell_type": "code",
      "metadata": {
        "colab": {
          "base_uri": "https://localhost:8080/"
        },
        "id": "SB1Nre_LIQya",
        "outputId": "c59939ed-cc42-4fb3-d04f-599c3d37c3d7"
      },
      "source": [
        "try:\n",
        "    f = open('test','r')\n",
        "    f.write(\"This is a test file\")\n",
        "except TypeError:\n",
        "    print(\"There is a type error\")\n",
        "except OSError:\n",
        "    print(\"There is an OS error\")\n",
        "finally:\n",
        "    print(\"This will print even if no error\")"
      ],
      "execution_count": 6,
      "outputs": [
        {
          "output_type": "stream",
          "text": [
            "There is an OS error\n",
            "This will print even if no error\n"
          ],
          "name": "stdout"
        }
      ]
    }
  ]
}
