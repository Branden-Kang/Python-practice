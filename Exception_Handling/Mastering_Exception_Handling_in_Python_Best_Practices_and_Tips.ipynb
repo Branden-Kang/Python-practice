{
  "nbformat": 4,
  "nbformat_minor": 0,
  "metadata": {
    "colab": {
      "provenance": [],
      "authorship_tag": "ABX9TyOL4cmDLMoffdXT+jowUuua"
    },
    "kernelspec": {
      "name": "python3",
      "display_name": "Python 3"
    },
    "language_info": {
      "name": "python"
    }
  },
  "cells": [
    {
      "cell_type": "markdown",
      "source": [
        "[Reference](https://ulsc.medium.com/mastering-exception-handling-in-python-best-practices-and-tips-381554506be1)"
      ],
      "metadata": {
        "id": "tyrhYl1anpyS"
      }
    },
    {
      "cell_type": "code",
      "execution_count": 1,
      "metadata": {
        "colab": {
          "base_uri": "https://localhost:8080/"
        },
        "id": "kvxubYfini40",
        "outputId": "2d7eb1e3-de02-45ed-8fb1-bf44dfece455"
      },
      "outputs": [
        {
          "output_type": "stream",
          "name": "stdout",
          "text": [
            "You can't divide by zero!\n"
          ]
        }
      ],
      "source": [
        "try:\n",
        "    x = 1 / 0\n",
        "except ZeroDivisionError:\n",
        "    print(\"You can't divide by zero!\")"
      ]
    },
    {
      "cell_type": "code",
      "source": [
        "try:\n",
        "    x = 1 / 0\n",
        "except ZeroDivisionError:\n",
        "    print(\"You can't divide by zero!\")\n",
        "finally:\n",
        "    print(\"This code will always be executed\")"
      ],
      "metadata": {
        "colab": {
          "base_uri": "https://localhost:8080/"
        },
        "id": "FH-RUbUbnrrM",
        "outputId": "4202497c-27db-49aa-982d-4079a93199dc"
      },
      "execution_count": 2,
      "outputs": [
        {
          "output_type": "stream",
          "name": "stdout",
          "text": [
            "You can't divide by zero!\n",
            "This code will always be executed\n"
          ]
        }
      ]
    },
    {
      "cell_type": "code",
      "source": [
        "try:\n",
        "    x = 1 / 1\n",
        "except ZeroDivisionError:\n",
        "    print(\"You can't divide by zero!\")\n",
        "else:\n",
        "    print(\"No exception was raised\")"
      ],
      "metadata": {
        "colab": {
          "base_uri": "https://localhost:8080/"
        },
        "id": "suG0mu0pnsbf",
        "outputId": "35845835-9aca-4da9-fdc2-820f6ff0735d"
      },
      "execution_count": 3,
      "outputs": [
        {
          "output_type": "stream",
          "name": "stdout",
          "text": [
            "No exception was raised\n"
          ]
        }
      ]
    },
    {
      "cell_type": "code",
      "source": [
        "if x == 0:\n",
        "    raise ZeroDivisionError(\"x cannot be zero\")"
      ],
      "metadata": {
        "id": "vqDKHaHgntMV"
      },
      "execution_count": 4,
      "outputs": []
    },
    {
      "cell_type": "code",
      "source": [
        "assert x != 0, \"x cannot be zero\""
      ],
      "metadata": {
        "id": "uVHugBlanuB-"
      },
      "execution_count": 5,
      "outputs": []
    },
    {
      "cell_type": "code",
      "source": [
        "try:\n",
        "    x = 1 / 0\n",
        "except ZeroDivisionError:\n",
        "    print(\"You can't divide by zero!\")\n",
        "except TypeError:\n",
        "    print(\"You can't divide by a string\")"
      ],
      "metadata": {
        "colab": {
          "base_uri": "https://localhost:8080/"
        },
        "id": "D3y83Po6nvDh",
        "outputId": "41ae5475-bb45-4745-825b-11c655ef045b"
      },
      "execution_count": 6,
      "outputs": [
        {
          "output_type": "stream",
          "name": "stdout",
          "text": [
            "You can't divide by zero!\n"
          ]
        }
      ]
    },
    {
      "cell_type": "code",
      "source": [],
      "metadata": {
        "id": "QtQKfL9Ynv0-"
      },
      "execution_count": null,
      "outputs": []
    }
  ]
}
