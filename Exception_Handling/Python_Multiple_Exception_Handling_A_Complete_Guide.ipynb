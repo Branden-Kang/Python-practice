{
  "nbformat": 4,
  "nbformat_minor": 0,
  "metadata": {
    "colab": {
      "provenance": [],
      "authorship_tag": "ABX9TyNM5gewUimOnaY/cT7UlqG/"
    },
    "kernelspec": {
      "name": "python3",
      "display_name": "Python 3"
    },
    "language_info": {
      "name": "python"
    }
  },
  "cells": [
    {
      "cell_type": "markdown",
      "source": [
        "[Reference](https://medium.com/@ryan_forrester_/python-multiple-exception-handling-a-complete-guide-088f0f70eee4)"
      ],
      "metadata": {
        "id": "t4kbWjYu2BJ-"
      }
    },
    {
      "cell_type": "markdown",
      "source": [
        "# Understanding Multiple Exception Handling"
      ],
      "metadata": {
        "id": "tDPW6rKw2Dp-"
      }
    },
    {
      "cell_type": "code",
      "execution_count": 1,
      "metadata": {
        "colab": {
          "base_uri": "https://localhost:8080/"
        },
        "id": "Pr08Qe6511Ts",
        "outputId": "a3e1f86f-907a-438b-ff35-69d667c11a55"
      },
      "outputs": [
        {
          "output_type": "stream",
          "name": "stdout",
          "text": [
            "5\n",
            "Error: Division by zero!\n",
            "None\n",
            "5\n"
          ]
        }
      ],
      "source": [
        "def divide_numbers(a, b):\n",
        "    try:\n",
        "        result = a / b\n",
        "        # Convert result to integer\n",
        "        return int(result)\n",
        "    except ZeroDivisionError:\n",
        "        print(\"Error: Division by zero!\")\n",
        "        return None\n",
        "    except ValueError:\n",
        "        print(\"Error: Couldn't convert to integer!\")\n",
        "        return None\n",
        "\n",
        "# Example usage:\n",
        "print(divide_numbers(10, 2))    # Output: 5\n",
        "print(divide_numbers(10, 0))    # Output: Error: Division by zero! None\n",
        "print(divide_numbers(10.5, 2))  # Output: 5"
      ]
    },
    {
      "cell_type": "markdown",
      "source": [
        "# Catching Multiple Exceptions in One Line"
      ],
      "metadata": {
        "id": "MKtXBuOy2La9"
      }
    },
    {
      "cell_type": "code",
      "source": [
        "def process_data(data):\n",
        "    try:\n",
        "        # Try to convert data to float and process it\n",
        "        value = float(data)\n",
        "        result = 100 / value\n",
        "        return result\n",
        "    except (ValueError, ZeroDivisionError) as e:\n",
        "        # Handle both conversion errors and division by zero\n",
        "        print(f\"Error processing data: {str(e)}\")\n",
        "        return None\n",
        "    except TypeError as e:\n",
        "        print(f\"Invalid data type: {str(e)}\")\n",
        "        return None\n",
        "\n",
        "# Example usage:\n",
        "print(process_data(\"10\"))      # Output: 10.0\n",
        "print(process_data(\"zero\"))    # Output: Error processing data: could not convert...\n",
        "print(process_data(\"0\"))       # Output: Error processing data: division by zero\n",
        "print(process_data(None))      # Output: Invalid data type: float() argument..."
      ],
      "metadata": {
        "colab": {
          "base_uri": "https://localhost:8080/"
        },
        "id": "1Djbx5XU2FYx",
        "outputId": "4f537236-8a92-4193-dd0f-c432d44ffa24"
      },
      "execution_count": 2,
      "outputs": [
        {
          "output_type": "stream",
          "name": "stdout",
          "text": [
            "10.0\n",
            "Error processing data: could not convert string to float: 'zero'\n",
            "None\n",
            "Error processing data: float division by zero\n",
            "None\n",
            "Invalid data type: float() argument must be a string or a real number, not 'NoneType'\n",
            "None\n"
          ]
        }
      ]
    },
    {
      "cell_type": "markdown",
      "source": [
        "# Using Exception Hierarchies"
      ],
      "metadata": {
        "id": "T4VfL1GZ2PGN"
      }
    },
    {
      "cell_type": "code",
      "source": [
        "def read_configuration(filename):\n",
        "    try:\n",
        "        with open(filename) as f:\n",
        "            data = f.read()\n",
        "            config = eval(data)  # Don't do this in real code! Used for example only\n",
        "            return config\n",
        "    except FileNotFoundError:\n",
        "        # Specific: Handle missing file\n",
        "        print(f\"Config file '{filename}' not found\")\n",
        "        return {}\n",
        "    except OSError as e:\n",
        "        # Parent: Handle other OS-related errors\n",
        "        print(f\"OS error occurred: {e}\")\n",
        "        return {}\n",
        "    except Exception as e:\n",
        "        # Catch-all: Handle unexpected errors\n",
        "        print(f\"Unexpected error: {e}\")\n",
        "        return {}\n",
        "\n",
        "# Example usage:\n",
        "config = read_configuration(\"nonexistent.conf\")  # Output: Config file 'nonexistent.conf' not found"
      ],
      "metadata": {
        "colab": {
          "base_uri": "https://localhost:8080/"
        },
        "id": "nnnM90tb2OHz",
        "outputId": "9e805997-a92e-45ed-d7bc-a1da4cfc9515"
      },
      "execution_count": 3,
      "outputs": [
        {
          "output_type": "stream",
          "name": "stdout",
          "text": [
            "Config file 'nonexistent.conf' not found\n"
          ]
        }
      ]
    },
    {
      "cell_type": "markdown",
      "source": [
        "# Adding else and finally"
      ],
      "metadata": {
        "id": "Lg3jYEiM2Sy0"
      }
    },
    {
      "cell_type": "code",
      "source": [
        "def update_user_preferences(user_id, preferences):\n",
        "    db_connection = None\n",
        "    try:\n",
        "        db_connection = connect_to_database()  # Hypothetical function\n",
        "        current_prefs = get_preferences(user_id)\n",
        "        current_prefs.update(preferences)\n",
        "        save_preferences(user_id, current_prefs)\n",
        "    except ConnectionError:\n",
        "        print(\"Database connection failed\")\n",
        "        return False\n",
        "    except KeyError:\n",
        "        print(\"Invalid user ID\")\n",
        "        return False\n",
        "    else:\n",
        "        # Runs only if no exception occurred\n",
        "        print(\"Preferences updated successfully\")\n",
        "        return True\n",
        "    finally:\n",
        "        # Always runs, whether exception occurred or not\n",
        "        if db_connection:\n",
        "            db_connection.close()\n",
        "\n",
        "# Example usage:\n",
        "success = update_user_preferences(123, {\"theme\": \"dark\"})"
      ],
      "metadata": {
        "id": "e5ZT28Dk2RsT"
      },
      "execution_count": 5,
      "outputs": []
    },
    {
      "cell_type": "markdown",
      "source": [
        "# Creating Custom Exception Hierarchies"
      ],
      "metadata": {
        "id": "f8OV74nb2ZhX"
      }
    },
    {
      "cell_type": "code",
      "source": [
        "class DataProcessingError(Exception):\n",
        "    \"\"\"Base class for data processing exceptions\"\"\"\n",
        "    pass\n",
        "\n",
        "class DataFormatError(DataProcessingError):\n",
        "    \"\"\"Raised when data format is invalid\"\"\"\n",
        "    pass\n",
        "\n",
        "class DataValidationError(DataProcessingError):\n",
        "    \"\"\"Raised when data validation fails\"\"\"\n",
        "    pass\n",
        "\n",
        "def process_user_data(data):\n",
        "    try:\n",
        "        if not isinstance(data, dict):\n",
        "            raise DataFormatError(\"Data must be a dictionary\")\n",
        "\n",
        "        if \"age\" not in data:\n",
        "            raise DataValidationError(\"Age is required\")\n",
        "\n",
        "        if not isinstance(data[\"age\"], int):\n",
        "            raise DataFormatError(\"Age must be an integer\")\n",
        "\n",
        "        if data[\"age\"] < 0:\n",
        "            raise DataValidationError(\"Age cannot be negative\")\n",
        "\n",
        "    except DataFormatError as e:\n",
        "        print(f\"Format error: {e}\")\n",
        "        return False\n",
        "    except DataValidationError as e:\n",
        "        print(f\"Validation error: {e}\")\n",
        "        return False\n",
        "    except Exception as e:\n",
        "        print(f\"Unexpected error: {e}\")\n",
        "        return False\n",
        "    else:\n",
        "        print(\"Data processed successfully\")\n",
        "        return True\n",
        "\n",
        "# Example usage:\n",
        "data1 = {\"name\": \"John\", \"age\": \"25\"}  # Wrong format\n",
        "data2 = {\"name\": \"John\", \"age\": -5}    # Invalid value\n",
        "data3 = {\"name\": \"John\", \"age\": 25}    # Correct\n",
        "\n",
        "print(process_user_data(data1))  # Output: Format error: Age must be an integer\n",
        "print(process_user_data(data2))  # Output: Validation error: Age cannot be negative\n",
        "print(process_user_data(data3))  # Output: Data processed successfully"
      ],
      "metadata": {
        "colab": {
          "base_uri": "https://localhost:8080/"
        },
        "id": "1HVkKBPS2VJf",
        "outputId": "620286b3-24be-44c1-d04c-935b32678d06"
      },
      "execution_count": 6,
      "outputs": [
        {
          "output_type": "stream",
          "name": "stdout",
          "text": [
            "Format error: Age must be an integer\n",
            "False\n",
            "Validation error: Age cannot be negative\n",
            "False\n",
            "Data processed successfully\n",
            "True\n"
          ]
        }
      ]
    },
    {
      "cell_type": "code",
      "source": [
        "import json\n",
        "import csv\n",
        "from pathlib import Path\n",
        "\n",
        "def convert_json_to_csv(input_path, output_path):\n",
        "    try:\n",
        "        # Check if input file exists\n",
        "        if not Path(input_path).exists():\n",
        "            raise FileNotFoundError(f\"Input file not found: {input_path}\")\n",
        "\n",
        "        # Read JSON data\n",
        "        with open(input_path, 'r') as json_file:\n",
        "            try:\n",
        "                data = json.load(json_file)\n",
        "            except json.JSONDecodeError as e:\n",
        "                raise DataFormatError(f\"Invalid JSON format: {str(e)}\")\n",
        "\n",
        "        # Ensure data is a list of dictionaries\n",
        "        if not isinstance(data, list):\n",
        "            raise DataFormatError(\"JSON data must be a list of records\")\n",
        "\n",
        "        if not data:\n",
        "            raise DataValidationError(\"JSON data is empty\")\n",
        "\n",
        "        # Get field names from first record\n",
        "        fieldnames = data[0].keys()\n",
        "\n",
        "        # Write CSV file\n",
        "        with open(output_path, 'w', newline='') as csv_file:\n",
        "            writer = csv.DictWriter(csv_file, fieldnames=fieldnames)\n",
        "            writer.writeheader()\n",
        "            writer.writerows(data)\n",
        "\n",
        "    except (FileNotFoundError, DataFormatError, DataValidationError) as e:\n",
        "        print(f\"Error: {str(e)}\")\n",
        "        return False\n",
        "    except Exception as e:\n",
        "        print(f\"Unexpected error: {str(e)}\")\n",
        "        return False\n",
        "    else:\n",
        "        print(f\"Successfully converted {input_path} to {output_path}\")\n",
        "        return True\n",
        "\n",
        "# Example usage:\n",
        "input_file = \"data.json\"\n",
        "output_file = \"output.csv\"\n",
        "success = convert_json_to_csv(input_file, output_file)"
      ],
      "metadata": {
        "colab": {
          "base_uri": "https://localhost:8080/"
        },
        "id": "cy89uMQ62c1f",
        "outputId": "a7b81cbb-79f2-43b6-e9b9-81756edfb96e"
      },
      "execution_count": 7,
      "outputs": [
        {
          "output_type": "stream",
          "name": "stdout",
          "text": [
            "Error: Input file not found: data.json\n"
          ]
        }
      ]
    },
    {
      "cell_type": "code",
      "source": [
        "class DatabaseConnection:\n",
        "    def __init__(self, connection_string):\n",
        "        self.connection_string = connection_string\n",
        "        self.connection = None\n",
        "\n",
        "    def __enter__(self):\n",
        "        try:\n",
        "            # Simulate database connection\n",
        "            print(f\"Connecting to database: {self.connection_string}\")\n",
        "            self.connection = True\n",
        "            return self\n",
        "        except Exception as e:\n",
        "            raise ConnectionError(f\"Failed to connect: {str(e)}\")\n",
        "\n",
        "    def __exit__(self, exc_type, exc_val, exc_tb):\n",
        "        # This runs even if an exception occurs\n",
        "        if self.connection:\n",
        "            print(\"Closing database connection\")\n",
        "            self.connection = None\n",
        "        # Return False to propagate exceptions, True to suppress them\n",
        "        return False\n",
        "\n",
        "def process_user_records(users):\n",
        "    with DatabaseConnection(\"postgresql://localhost:5432/users\") as db:\n",
        "        try:\n",
        "            for user in users:\n",
        "                print(f\"Processing user: {user}\")\n",
        "                # Simulate some database operations\n",
        "                if not isinstance(user, dict):\n",
        "                    raise TypeError(\"User must be a dictionary\")\n",
        "        except TypeError as e:\n",
        "            print(f\"Invalid user data: {e}\")\n",
        "            return False\n",
        "    return True\n",
        "\n",
        "# Example usage:\n",
        "users = [{\"id\": 1, \"name\": \"Alice\"}, {\"id\": 2, \"name\": \"Bob\"}, \"invalid\"]\n",
        "process_user_records(users)"
      ],
      "metadata": {
        "colab": {
          "base_uri": "https://localhost:8080/"
        },
        "id": "ZEC4fuQF3-em",
        "outputId": "483869d9-1896-4440-f8fd-d0d734d48b41"
      },
      "execution_count": 8,
      "outputs": [
        {
          "output_type": "stream",
          "name": "stdout",
          "text": [
            "Connecting to database: postgresql://localhost:5432/users\n",
            "Processing user: {'id': 1, 'name': 'Alice'}\n",
            "Processing user: {'id': 2, 'name': 'Bob'}\n",
            "Processing user: invalid\n",
            "Invalid user data: User must be a dictionary\n",
            "Closing database connection\n"
          ]
        },
        {
          "output_type": "execute_result",
          "data": {
            "text/plain": [
              "False"
            ]
          },
          "metadata": {},
          "execution_count": 8
        }
      ]
    },
    {
      "cell_type": "code",
      "source": [
        "class ConfigurationError(Exception):\n",
        "    pass\n",
        "\n",
        "def load_config(filename):\n",
        "    try:\n",
        "        with open(filename) as f:\n",
        "            config_text = f.read()\n",
        "            try:\n",
        "                return json.loads(config_text)\n",
        "            except json.JSONDecodeError as e:\n",
        "                # Raise new exception but keep original error info\n",
        "                raise ConfigurationError(\"Invalid configuration format\") from e\n",
        "    except FileNotFoundError as e:\n",
        "        raise ConfigurationError(\"Configuration file missing\") from e\n",
        "\n",
        "def initialize_application():\n",
        "    try:\n",
        "        config = load_config(\"config.json\")\n",
        "        print(\"Application initialized\")\n",
        "    except ConfigurationError as e:\n",
        "        print(f\"Failed to initialize: {e}\")\n",
        "        # Access original exception if it exists\n",
        "        if e.__cause__:\n",
        "            print(f\"Original error: {e.__cause__}\")\n",
        "\n",
        "# Example usage:\n",
        "initialize_application()"
      ],
      "metadata": {
        "colab": {
          "base_uri": "https://localhost:8080/"
        },
        "id": "NBQUIzli4DH7",
        "outputId": "e2f3a111-136d-4b01-a0dc-b4e09ee0a817"
      },
      "execution_count": 9,
      "outputs": [
        {
          "output_type": "stream",
          "name": "stdout",
          "text": [
            "Failed to initialize: Configuration file missing\n",
            "Original error: [Errno 2] No such file or directory: 'config.json'\n"
          ]
        }
      ]
    },
    {
      "cell_type": "code",
      "source": [
        "import asyncio\n",
        "from typing import List\n",
        "\n",
        "async def fetch_user(user_id: int) -> dict:\n",
        "    # Simulate API call\n",
        "    await asyncio.sleep(1)\n",
        "    if user_id < 0:\n",
        "        raise ValueError(\"Invalid user ID\")\n",
        "    return {\"id\": user_id, \"name\": f\"User {user_id}\"}\n",
        "\n",
        "async def process_users(user_ids: List[int]):\n",
        "    tasks = []\n",
        "    results = []\n",
        "    errors = []\n",
        "\n",
        "    # Create tasks for all users\n",
        "    for user_id in user_ids:\n",
        "        task = asyncio.create_task(fetch_user(user_id))\n",
        "        tasks.append(task)\n",
        "\n",
        "    # Wait for all tasks to complete\n",
        "    for task in tasks:\n",
        "        try:\n",
        "            result = await task\n",
        "            results.append(result)\n",
        "        except ValueError as e:\n",
        "            errors.append(f\"Value error: {str(e)}\")\n",
        "        except Exception as e:\n",
        "            errors.append(f\"Unexpected error: {str(e)}\")\n",
        "\n",
        "    return results, errors\n",
        "\n",
        "# Example usage:\n",
        "async def main():\n",
        "    user_ids = [1, 2, -1, 4]\n",
        "    results, errors = await process_users(user_ids)\n",
        "    print(\"Results:\", results)\n",
        "    print(\"Errors:\", errors)\n",
        "\n",
        "# Run the async code\n",
        "asyncio.run(main())"
      ],
      "metadata": {
        "colab": {
          "base_uri": "https://localhost:8080/",
          "height": 292
        },
        "id": "o7QVM5es4EyO",
        "outputId": "3631b4b4-6bd7-45dc-e113-c64b509e9b2f"
      },
      "execution_count": 10,
      "outputs": [
        {
          "output_type": "error",
          "ename": "RuntimeError",
          "evalue": "asyncio.run() cannot be called from a running event loop",
          "traceback": [
            "\u001b[0;31m---------------------------------------------------------------------------\u001b[0m",
            "\u001b[0;31mRuntimeError\u001b[0m                              Traceback (most recent call last)",
            "\u001b[0;32m<ipython-input-10-12fe93de4cd6>\u001b[0m in \u001b[0;36m<cell line: 41>\u001b[0;34m()\u001b[0m\n\u001b[1;32m     39\u001b[0m \u001b[0;34m\u001b[0m\u001b[0m\n\u001b[1;32m     40\u001b[0m \u001b[0;31m# Run the async code\u001b[0m\u001b[0;34m\u001b[0m\u001b[0;34m\u001b[0m\u001b[0m\n\u001b[0;32m---> 41\u001b[0;31m \u001b[0masyncio\u001b[0m\u001b[0;34m.\u001b[0m\u001b[0mrun\u001b[0m\u001b[0;34m(\u001b[0m\u001b[0mmain\u001b[0m\u001b[0;34m(\u001b[0m\u001b[0;34m)\u001b[0m\u001b[0;34m)\u001b[0m\u001b[0;34m\u001b[0m\u001b[0;34m\u001b[0m\u001b[0m\n\u001b[0m",
            "\u001b[0;32m/usr/lib/python3.10/asyncio/runners.py\u001b[0m in \u001b[0;36mrun\u001b[0;34m(main, debug)\u001b[0m\n\u001b[1;32m     31\u001b[0m     \"\"\"\n\u001b[1;32m     32\u001b[0m     \u001b[0;32mif\u001b[0m \u001b[0mevents\u001b[0m\u001b[0;34m.\u001b[0m\u001b[0m_get_running_loop\u001b[0m\u001b[0;34m(\u001b[0m\u001b[0;34m)\u001b[0m \u001b[0;32mis\u001b[0m \u001b[0;32mnot\u001b[0m \u001b[0;32mNone\u001b[0m\u001b[0;34m:\u001b[0m\u001b[0;34m\u001b[0m\u001b[0;34m\u001b[0m\u001b[0m\n\u001b[0;32m---> 33\u001b[0;31m         raise RuntimeError(\n\u001b[0m\u001b[1;32m     34\u001b[0m             \"asyncio.run() cannot be called from a running event loop\")\n\u001b[1;32m     35\u001b[0m \u001b[0;34m\u001b[0m\u001b[0m\n",
            "\u001b[0;31mRuntimeError\u001b[0m: asyncio.run() cannot be called from a running event loop"
          ]
        }
      ]
    },
    {
      "cell_type": "code",
      "source": [
        "from functools import wraps\n",
        "import logging\n",
        "\n",
        "logging.basicConfig(level=logging.INFO)\n",
        "logger = logging.getLogger(__name__)\n",
        "\n",
        "def handle_exceptions(retries=3, allowed_exceptions=(ConnectionError,)):\n",
        "    def decorator(func):\n",
        "        @wraps(func)\n",
        "        def wrapper(*args, **kwargs):\n",
        "            attempts = 0\n",
        "            while attempts < retries:\n",
        "                try:\n",
        "                    return func(*args, **kwargs)\n",
        "                except allowed_exceptions as e:\n",
        "                    attempts += 1\n",
        "                    if attempts == retries:\n",
        "                        logger.error(f\"Failed after {retries} attempts: {str(e)}\")\n",
        "                        raise\n",
        "                    logger.warning(f\"Attempt {attempts} failed, retrying...\")\n",
        "                except Exception as e:\n",
        "                    logger.error(f\"Unexpected error: {str(e)}\")\n",
        "                    raise\n",
        "            return None\n",
        "        return wrapper\n",
        "    return decorator\n",
        "\n",
        "@handle_exceptions(retries=2)\n",
        "def fetch_data(url):\n",
        "    # Simulate network request that might fail\n",
        "    if \"invalid\" in url:\n",
        "        raise ConnectionError(\"Failed to connect\")\n",
        "    return f\"Data from {url}\"\n",
        "\n",
        "# Example usage:\n",
        "try:\n",
        "    data = fetch_data(\"https://invalid.example.com\")\n",
        "except ConnectionError:\n",
        "    print(\"Failed to fetch data\")"
      ],
      "metadata": {
        "colab": {
          "base_uri": "https://localhost:8080/"
        },
        "id": "pl06FegZ4G59",
        "outputId": "5c5485b8-2832-4bb5-b251-a61f8506eeda"
      },
      "execution_count": 11,
      "outputs": [
        {
          "output_type": "stream",
          "name": "stderr",
          "text": [
            "WARNING:__main__:Attempt 1 failed, retrying...\n",
            "ERROR:__main__:Failed after 2 attempts: Failed to connect\n"
          ]
        },
        {
          "output_type": "stream",
          "name": "stdout",
          "text": [
            "Failed to fetch data\n"
          ]
        }
      ]
    },
    {
      "cell_type": "code",
      "source": [
        "import threading\n",
        "from queue import Queue\n",
        "import traceback\n",
        "\n",
        "class WorkerThread(threading.Thread):\n",
        "    def __init__(self, task_queue: Queue, error_queue: Queue):\n",
        "        super().__init__()\n",
        "        self.task_queue = task_queue\n",
        "        self.error_queue = error_queue\n",
        "\n",
        "    def run(self):\n",
        "        while True:\n",
        "            try:\n",
        "                task = self.task_queue.get()\n",
        "                if task is None:  # Poison pill\n",
        "                    break\n",
        "\n",
        "                # Process task\n",
        "                result = self.process_task(task)\n",
        "                print(f\"Processed task: {result}\")\n",
        "\n",
        "            except Exception as e:\n",
        "                # Capture full exception info\n",
        "                error_info = {\n",
        "                    'error': e,\n",
        "                    'traceback': traceback.format_exc(),\n",
        "                    'task': task\n",
        "                }\n",
        "                self.error_queue.put(error_info)\n",
        "            finally:\n",
        "                self.task_queue.task_done()\n",
        "\n",
        "    def process_task(self, task):\n",
        "        if task < 0:\n",
        "            raise ValueError(\"Negative values not allowed\")\n",
        "        return task * 2\n",
        "\n",
        "def run_worker_pool(tasks, num_workers=3):\n",
        "    task_queue = Queue()\n",
        "    error_queue = Queue()\n",
        "    workers = []\n",
        "\n",
        "    # Create worker threads\n",
        "    for _ in range(num_workers):\n",
        "        worker = WorkerThread(task_queue, error_queue)\n",
        "        worker.start()\n",
        "        workers.append(worker)\n",
        "\n",
        "    # Add tasks to queue\n",
        "    for task in tasks:\n",
        "        task_queue.put(task)\n",
        "\n",
        "    # Add poison pills to stop workers\n",
        "    for _ in range(num_workers):\n",
        "        task_queue.put(None)\n",
        "\n",
        "    # Wait for all tasks to complete\n",
        "    task_queue.join()\n",
        "\n",
        "    # Check for errors\n",
        "    errors = []\n",
        "    while not error_queue.empty():\n",
        "        errors.append(error_queue.get())\n",
        "\n",
        "    return errors\n",
        "\n",
        "# Example usage:\n",
        "tasks = [1, 2, -3, 4, -5]\n",
        "errors = run_worker_pool(tasks)\n",
        "for error in errors:\n",
        "    print(f\"Error processing task {error['task']}: {error['error']}\")"
      ],
      "metadata": {
        "colab": {
          "base_uri": "https://localhost:8080/"
        },
        "id": "e2rP4xeo4KVu",
        "outputId": "a1347c43-4a14-489d-d8fd-e17034f14997"
      },
      "execution_count": 12,
      "outputs": [
        {
          "output_type": "stream",
          "name": "stdout",
          "text": [
            "Processed task: 2\n",
            "Processed task: 4\n",
            "Processed task: 8\n",
            "Error processing task -3: Negative values not allowed\n",
            "Error processing task -5: Negative values not allowed\n"
          ]
        }
      ]
    }
  ]
}
