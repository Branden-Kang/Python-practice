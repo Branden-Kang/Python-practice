{
  "nbformat": 4,
  "nbformat_minor": 0,
  "metadata": {
    "colab": {
      "name": "Context Managers — Python 3.ipynb",
      "provenance": [],
      "collapsed_sections": [],
      "authorship_tag": "ABX9TyMVq4JoczSPpznBzeULh7RL"
    },
    "kernelspec": {
      "name": "python3",
      "display_name": "Python 3"
    },
    "language_info": {
      "name": "python"
    }
  },
  "cells": [
    {
      "cell_type": "markdown",
      "source": [
        "[Reference](https://medium.com/codex/context-managers-python-3-944e1703d4b0)"
      ],
      "metadata": {
        "id": "AMTuloToYfxu"
      }
    },
    {
      "cell_type": "code",
      "execution_count": 1,
      "metadata": {
        "id": "frPAT_6BYeWT"
      },
      "outputs": [],
      "source": [
        "try:\n",
        "    file = open(\"file.txt\", \"r\")\n",
        "    \n",
        "    for part in file:\n",
        "        pass # Process data\n",
        "        \n",
        "    file.close()\n",
        "except IOError as error:\n",
        "    pass # Handle errors"
      ]
    },
    {
      "cell_type": "code",
      "source": [
        "# with open(\"file.txt\", \"r\") as file:\n",
        "#     for part in file:\n",
        "#         pass # Process data"
      ],
      "metadata": {
        "id": "aJZc85LVYjPK"
      },
      "execution_count": 2,
      "outputs": []
    },
    {
      "cell_type": "code",
      "source": [
        "class WeightedList:\n",
        "    def __init__(self, data):\n",
        "        self.data = data\n",
        "        \n",
        "    def __enter__(self):\n",
        "        self.data = self.data + [90, 91]\n",
        "        return self\n",
        "    \n",
        "    def __exit__(self, e_type, e_value, e_traceback):\n",
        "        pass\n",
        "    \n",
        "    # To make sum work\n",
        "    def __iter__(self):\n",
        "        return iter(self.data)\n",
        "    \n",
        "    # To make len work\n",
        "    def __len__(self):\n",
        "        return len(self.data)\n",
        "# ...\n",
        "\n",
        "data = [5, 6, 6, 20]\n",
        "\n",
        "with WeightedList(data) as weighted:\n",
        "    average = sum(weighted) / len(weighted)"
      ],
      "metadata": {
        "id": "zctio3qWYkOP"
      },
      "execution_count": 3,
      "outputs": []
    },
    {
      "cell_type": "code",
      "source": [
        "# def some_name(data):\n",
        "#     return WeightedList(data)\n",
        "# \n",
        "# with some_name(data) as weighted):\n",
        "#     pass"
      ],
      "metadata": {
        "id": "a6aVs3pKYpJN"
      },
      "execution_count": 5,
      "outputs": []
    }
  ]
}