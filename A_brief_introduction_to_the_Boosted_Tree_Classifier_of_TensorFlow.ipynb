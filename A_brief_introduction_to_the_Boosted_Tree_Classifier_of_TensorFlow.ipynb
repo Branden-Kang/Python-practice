{
  "nbformat": 4,
  "nbformat_minor": 0,
  "metadata": {
    "colab": {
      "name": "A brief introduction to the Boosted Tree Classifier of TensorFlow.ipynb",
      "provenance": [],
      "authorship_tag": "ABX9TyO5Z2/DhP8Pcu07/dHOQlwS"
    },
    "kernelspec": {
      "name": "python3",
      "display_name": "Python 3"
    },
    "language_info": {
      "name": "python"
    }
  },
  "cells": [
    {
      "cell_type": "markdown",
      "source": [
        "[Reference](https://samanemami.medium.com/a-brief-introduction-to-the-boosted-tree-classifier-of-tensorflow-af2ea01a7778)"
      ],
      "metadata": {
        "id": "QWz7ixl4By7U"
      }
    },
    {
      "cell_type": "code",
      "execution_count": 2,
      "metadata": {
        "id": "yawxpBNzBeHU"
      },
      "outputs": [],
      "source": [
        "from tfbt import BoostedTreesClassifier, BoostedTreesRegressor\n",
        "from sklearn.model_selection import train_test_split\n",
        "import sklearn.datasets as dts\n",
        "X, y = dts.load_wine(return_X_y=True)\n",
        "x_train, x_test, y_train, y_test = train_test_split(\n",
        "    X, y, test_size=0.3, random_state=2)\n",
        " \n",
        "model = BoostedTreesClassifier(n_batches_per_layer=1,\n",
        " label_vocabulary=None,\n",
        " n_trees=100,\n",
        " max_depth=5,\n",
        " learning_rate=0.1,\n",
        " max_steps=None,\n",
        " steps=100,\n",
        " model_dir=None)\n",
        "model.fit(x_train, y_train)\n",
        "model.score(x_test, y_test)\n",
        "model.predict_proba(x_test, y_test)"
      ]
    }
  ]
}