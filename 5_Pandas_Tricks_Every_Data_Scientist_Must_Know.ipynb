{
  "nbformat": 4,
  "nbformat_minor": 0,
  "metadata": {
    "colab": {
      "provenance": [],
      "authorship_tag": "ABX9TyOtLK/DwXbXSKXnrBs3iU3t"
    },
    "kernelspec": {
      "name": "python3",
      "display_name": "Python 3"
    },
    "language_info": {
      "name": "python"
    }
  },
  "cells": [
    {
      "cell_type": "markdown",
      "source": [
        "[Reference](https://ai.plainenglish.io/5-pandas-tricks-every-data-scientist-must-know-abf1578b603f)"
      ],
      "metadata": {
        "id": "hjWLgiBgac3B"
      }
    },
    {
      "cell_type": "markdown",
      "source": [
        "# Sort a DataFrame Based on Another List"
      ],
      "metadata": {
        "id": "umAh_cMra36W"
      }
    },
    {
      "cell_type": "code",
      "execution_count": 1,
      "metadata": {
        "colab": {
          "base_uri": "https://localhost:8080/"
        },
        "id": "RpBDuzAQaakZ",
        "outputId": "bfb56565-8e9e-4dc2-9694-394a8e06ba54"
      },
      "outputs": [
        {
          "output_type": "stream",
          "name": "stdout",
          "text": [
            "   category  value\n",
            "1       low    200\n",
            "2    medium    300\n",
            "0      high    100\n",
            "3  critical    400\n"
          ]
        }
      ],
      "source": [
        "import pandas as pd\n",
        "\n",
        "# List of categories and their priority rankings\n",
        "categories = ['low', 'medium', 'high', 'critical']\n",
        "priority = [1, 2, 3, 4]\n",
        "\n",
        "# Create a Series to map category names to priority\n",
        "priority_map = pd.Series(priority, index=categories)\n",
        "\n",
        "# Sample DataFrame\n",
        "df = pd.DataFrame({\n",
        "    'category': ['high', 'low', 'medium', 'critical'],\n",
        "    'value': [100, 200, 300, 400]\n",
        "})\n",
        "\n",
        "# Sort the DataFrame based on the category priority\n",
        "df_sorted = df.sort_values(\"category\", key=lambda x: x.map(priority_map))\n",
        "\n",
        "print(df_sorted)"
      ]
    },
    {
      "cell_type": "code",
      "source": [
        "import pandas as pd\n",
        "\n",
        "# Sample DataFrame\n",
        "df = pd.DataFrame({\n",
        "    'Name': ['Alice', 'Bob', 'Charlie', 'Diana'],\n",
        "    'Score': [85, 90, 95, 80]\n",
        "})\n",
        "\n",
        "# Custom sorting list\n",
        "sort_order = ['Charlie', 'Alice', 'Diana', 'Bob']\n",
        "\n",
        "# Sort DataFrame by 'Name' column using the order in sort_order\n",
        "df['SortKey'] = pd.Categorical(df['Name'], categories=sort_order, ordered=True)\n",
        "sorted_df = df.sort_values('SortKey').drop(columns='SortKey')\n",
        "\n",
        "print(sorted_df)"
      ],
      "metadata": {
        "colab": {
          "base_uri": "https://localhost:8080/"
        },
        "id": "OzTImkeMahDa",
        "outputId": "55afb423-f9b6-4986-e01d-c3c740fa246d"
      },
      "execution_count": 2,
      "outputs": [
        {
          "output_type": "stream",
          "name": "stdout",
          "text": [
            "      Name  Score\n",
            "2  Charlie     95\n",
            "0    Alice     85\n",
            "3    Diana     80\n",
            "1      Bob     90\n"
          ]
        }
      ]
    },
    {
      "cell_type": "markdown",
      "source": [
        "# Insert a Column at a Specific Location in a DataFrame"
      ],
      "metadata": {
        "id": "2yYupwDpa78A"
      }
    },
    {
      "cell_type": "code",
      "source": [
        "# Add a 'Grade' column between 'Name' and 'Score'\n",
        "df.insert(1, 'Grade', ['B', 'A', 'A+', 'C'])\n",
        "\n",
        "print(df)"
      ],
      "metadata": {
        "colab": {
          "base_uri": "https://localhost:8080/"
        },
        "id": "plthDKtZaov4",
        "outputId": "100f6c9c-a1c8-416e-ca6c-ce011e41d12d"
      },
      "execution_count": 3,
      "outputs": [
        {
          "output_type": "stream",
          "name": "stdout",
          "text": [
            "      Name Grade  Score  SortKey\n",
            "0    Alice     B     85    Alice\n",
            "1      Bob     A     90      Bob\n",
            "2  Charlie    A+     95  Charlie\n",
            "3    Diana     C     80    Diana\n"
          ]
        }
      ]
    },
    {
      "cell_type": "markdown",
      "source": [
        "# Select Columns Based on the Column’s Data Type"
      ],
      "metadata": {
        "id": "J1dDDAMHatfH"
      }
    },
    {
      "cell_type": "code",
      "source": [
        "# Mixed DataFrame\n",
        "df = pd.DataFrame({\n",
        "    'Name': ['Alice', 'Bob', 'Charlie', 'Diana'],\n",
        "    'Score': [85, 90, 95, 80],\n",
        "    'Passed': [True, True, False, True]\n",
        "})\n",
        "\n",
        "# Select only numeric columns\n",
        "numeric_cols = df.select_dtypes(include='number')\n",
        "\n",
        "print(numeric_cols)"
      ],
      "metadata": {
        "colab": {
          "base_uri": "https://localhost:8080/"
        },
        "id": "W4DyYZ9_aq9i",
        "outputId": "ed01cef6-3f5e-4d14-e724-7fc5d7bd07a7"
      },
      "execution_count": 4,
      "outputs": [
        {
          "output_type": "stream",
          "name": "stdout",
          "text": [
            "   Score\n",
            "0     85\n",
            "1     90\n",
            "2     95\n",
            "3     80\n"
          ]
        }
      ]
    },
    {
      "cell_type": "markdown",
      "source": [
        "# Count the Number of Non-NaN Cells for Each Column"
      ],
      "metadata": {
        "id": "RcPoE7tvavP8"
      }
    },
    {
      "cell_type": "code",
      "source": [
        "# Sample DataFrame with NaN values\n",
        "import numpy as np\n",
        "\n",
        "df = pd.DataFrame({\n",
        "    'Name': ['Alice', 'Bob', 'Charlie', 'Diana'],\n",
        "    'Score': [85, 90, np.nan, 80],\n",
        "    'Grade': ['B', np.nan, 'A+', 'C']\n",
        "})\n",
        "\n",
        "# Count non-NaN cells for each column\n",
        "non_nan_counts = df.count()\n",
        "\n",
        "print(non_nan_counts)"
      ],
      "metadata": {
        "colab": {
          "base_uri": "https://localhost:8080/"
        },
        "id": "x8Zknfahat-r",
        "outputId": "ce1e7a57-4ba6-4cc9-d262-16d23661b32e"
      },
      "execution_count": 5,
      "outputs": [
        {
          "output_type": "stream",
          "name": "stdout",
          "text": [
            "Name     4\n",
            "Score    3\n",
            "Grade    3\n",
            "dtype: int64\n"
          ]
        }
      ]
    },
    {
      "cell_type": "markdown",
      "source": [
        "# Split a DataFrame into Equal Parts\n"
      ],
      "metadata": {
        "id": "qoe08HYBayGX"
      }
    },
    {
      "cell_type": "code",
      "source": [
        "# Sample DataFrame\n",
        "df = pd.DataFrame({\n",
        "    'Name': ['Alice', 'Bob', 'Charlie', 'Diana', 'Eve', 'Frank'],\n",
        "    'Score': [85, 90, 95, 80, 88, 92]\n",
        "})\n",
        "\n",
        "# Split DataFrame into 3 equal parts\n",
        "splits = np.array_split(df, 3)\n",
        "\n",
        "# Print each split\n",
        "for i, part in enumerate(splits):\n",
        "    print(f\"Part {i + 1}:\\n{part}\\n\")"
      ],
      "metadata": {
        "colab": {
          "base_uri": "https://localhost:8080/"
        },
        "id": "0rJUOOt7awrf",
        "outputId": "d60f2afc-4f7e-4768-ea17-bdf6838b925e"
      },
      "execution_count": 6,
      "outputs": [
        {
          "output_type": "stream",
          "name": "stdout",
          "text": [
            "Part 1:\n",
            "    Name  Score\n",
            "0  Alice     85\n",
            "1    Bob     90\n",
            "\n",
            "Part 2:\n",
            "      Name  Score\n",
            "2  Charlie     95\n",
            "3    Diana     80\n",
            "\n",
            "Part 3:\n",
            "    Name  Score\n",
            "4    Eve     88\n",
            "5  Frank     92\n",
            "\n"
          ]
        },
        {
          "output_type": "stream",
          "name": "stderr",
          "text": [
            "/usr/local/lib/python3.10/dist-packages/numpy/core/fromnumeric.py:59: FutureWarning: 'DataFrame.swapaxes' is deprecated and will be removed in a future version. Please use 'DataFrame.transpose' instead.\n",
            "  return bound(*args, **kwds)\n"
          ]
        }
      ]
    }
  ]
}