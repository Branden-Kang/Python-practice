{
  "nbformat": 4,
  "nbformat_minor": 0,
  "metadata": {
    "colab": {
      "name": "Python Tips & Tricks in 2021.ipynb",
      "provenance": [],
      "authorship_tag": "ABX9TyNbl/ZCUb0XOKnhzRyglUOj"
    },
    "kernelspec": {
      "name": "python3",
      "display_name": "Python 3"
    }
  },
  "cells": [
    {
      "cell_type": "markdown",
      "metadata": {
        "id": "CuSooVepFyh5"
      },
      "source": [
        "[Reference](https://medium.com/swlh/must-know-python-tips-tricks-in-2021-feb3dc25da8)"
      ]
    },
    {
      "cell_type": "code",
      "metadata": {
        "colab": {
          "base_uri": "https://localhost:8080/"
        },
        "id": "YUbs2f0_Fw0M",
        "outputId": "93d17d82-ff02-4bb4-b32d-e33c89b8c6ed"
      },
      "source": [
        "nums = [3, 4, 6, 10]\n",
        "reversed = nums[::-1]\n",
        "print(reversed)  # prints [10, 6, 4, 3]"
      ],
      "execution_count": 2,
      "outputs": [
        {
          "output_type": "stream",
          "text": [
            "[10, 6, 4, 3]\n"
          ],
          "name": "stdout"
        }
      ]
    },
    {
      "cell_type": "code",
      "metadata": {
        "colab": {
          "base_uri": "https://localhost:8080/"
        },
        "id": "vCv2kSTzF07j",
        "outputId": "1e8a515f-b94b-478f-e73d-ba53124ea777"
      },
      "source": [
        "sentence = \"How are you\"\n",
        "word_list = sentence.split()\n",
        "\n",
        "print(word_list)  # prints ['How', 'are', 'you']"
      ],
      "execution_count": 3,
      "outputs": [
        {
          "output_type": "stream",
          "text": [
            "['How', 'are', 'you']\n"
          ],
          "name": "stdout"
        }
      ]
    },
    {
      "cell_type": "code",
      "metadata": {
        "colab": {
          "base_uri": "https://localhost:8080/"
        },
        "id": "2PEzIxU9F2bg",
        "outputId": "42950374-7497-4318-be83-87611e43d319"
      },
      "source": [
        "words = ['How', 'are', 'you']\n",
        "sentence = (\" \".join(words))\n",
        "print(sentence) #prints How are you"
      ],
      "execution_count": 4,
      "outputs": [
        {
          "output_type": "stream",
          "text": [
            "How are you\n"
          ],
          "name": "stdout"
        }
      ]
    },
    {
      "cell_type": "code",
      "metadata": {
        "colab": {
          "base_uri": "https://localhost:8080/"
        },
        "id": "IUm_RrCqF3yS",
        "outputId": "8efdda17-818c-4624-d6ab-5a939b35f306"
      },
      "source": [
        "import itertools\n",
        "nums = [[4, 5], [6, 7], [11]]\n",
        "flat_nums = list(itertools.chain.from_iterable(nums))\n",
        "print(flat_nums) #prints [4, 5, 6, 7, 11]"
      ],
      "execution_count": 5,
      "outputs": [
        {
          "output_type": "stream",
          "text": [
            "[4, 5, 6, 7, 11]\n"
          ],
          "name": "stdout"
        }
      ]
    },
    {
      "cell_type": "code",
      "metadata": {
        "colab": {
          "base_uri": "https://localhost:8080/"
        },
        "id": "sC-o5UhZF6cq",
        "outputId": "3369a122-3944-4428-9be7-dc8c84389466"
      },
      "source": [
        "nums = [3, 4, 6, 10, 10, 3, 3, 3]\n",
        "mode = max(set(nums), key=nums.count) # mode = most frequent element\n",
        "print(mode) #prints 3"
      ],
      "execution_count": 6,
      "outputs": [
        {
          "output_type": "stream",
          "text": [
            "3\n"
          ],
          "name": "stdout"
        }
      ]
    },
    {
      "cell_type": "code",
      "metadata": {
        "colab": {
          "base_uri": "https://localhost:8080/"
        },
        "id": "NKO5_7eaF83I",
        "outputId": "10182baf-4be2-4406-824f-84136f8bfb03"
      },
      "source": [
        "nums = [1, 2, 3, 4, 5, 6, 7, 8]\n",
        "\n",
        "divisible_by_two = []\n",
        "for number in nums:\n",
        "    if number % 2 == 0:\n",
        "        divisible_by_two.append(number)\n",
        "        \n",
        "print(divisible_by_two) #prints [2, 4, 6, 8]"
      ],
      "execution_count": 7,
      "outputs": [
        {
          "output_type": "stream",
          "text": [
            "[2, 4, 6, 8]\n"
          ],
          "name": "stdout"
        }
      ]
    },
    {
      "cell_type": "code",
      "metadata": {
        "colab": {
          "base_uri": "https://localhost:8080/"
        },
        "id": "ubxAW3ImF_6q",
        "outputId": "6c447481-4c03-4fe4-d5d8-2303fb17da85"
      },
      "source": [
        "nums = [1, 2, 3, 4, 5, 6, 7, 8]\n",
        "divisible_by_two = [number for number in nums if number % 2 == 0]\n",
        "\n",
        "print(divisible_by_two) #prints [2, 4, 6, 8]"
      ],
      "execution_count": 8,
      "outputs": [
        {
          "output_type": "stream",
          "text": [
            "[2, 4, 6, 8]\n"
          ],
          "name": "stdout"
        }
      ]
    },
    {
      "cell_type": "code",
      "metadata": {
        "id": "P3UgzciEGDQr"
      },
      "source": [
        "zeros = [0] * 1000 "
      ],
      "execution_count": 9,
      "outputs": []
    },
    {
      "cell_type": "code",
      "metadata": {
        "colab": {
          "base_uri": "https://localhost:8080/"
        },
        "id": "vQQP7o8AGDbb",
        "outputId": "d62fc3b2-b8c3-4bab-8fa3-d2b656c1f94e"
      },
      "source": [
        "def func(*args):\n",
        "    for arg in args:\n",
        "        print(arg)\n",
        "\n",
        "func(1)                       # prints 1\n",
        "func('test', 2)               # prints test, 2\n",
        "func(10, [2.71, 3.14], 'hi')  # prints [2.71, 3.14] hi"
      ],
      "execution_count": 10,
      "outputs": [
        {
          "output_type": "stream",
          "text": [
            "1\n",
            "test\n",
            "2\n",
            "10\n",
            "[2.71, 3.14]\n",
            "hi\n"
          ],
          "name": "stdout"
        }
      ]
    },
    {
      "cell_type": "code",
      "metadata": {
        "colab": {
          "base_uri": "https://localhost:8080/"
        },
        "id": "ybOjU8__GGfD",
        "outputId": "dda5bea5-2ee4-4b9d-f1b9-138f3992c6b5"
      },
      "source": [
        "def func(**kwargs):\n",
        "    for key, value in kwargs.items():\n",
        "        print ('%s = %s' % (key, value))\n",
        "        \n",
        "func(var1='This', var2='is', var3='test')"
      ],
      "execution_count": 11,
      "outputs": [
        {
          "output_type": "stream",
          "text": [
            "var1 = This\n",
            "var2 = is\n",
            "var3 = test\n"
          ],
          "name": "stdout"
        }
      ]
    },
    {
      "cell_type": "code",
      "metadata": {
        "colab": {
          "base_uri": "https://localhost:8080/"
        },
        "id": "9gul9LDeGItd",
        "outputId": "3d5504cf-eba4-4ae2-b154-958dd75386f8"
      },
      "source": [
        "def greet(who='you'):\n",
        "    print('Hello, {}.'.format(who))\n",
        "    \n",
        "greet()\n",
        "greet('Charlie')"
      ],
      "execution_count": 12,
      "outputs": [
        {
          "output_type": "stream",
          "text": [
            "Hello, you.\n",
            "Hello, Charlie.\n"
          ],
          "name": "stdout"
        }
      ]
    },
    {
      "cell_type": "code",
      "metadata": {
        "colab": {
          "base_uri": "https://localhost:8080/"
        },
        "id": "885Dwa8EGKZb",
        "outputId": "f1b126be-5707-4d38-fd51-690704012ba7"
      },
      "source": [
        "word = \"Test\"\n",
        "reversed = word[::-1]\n",
        "\n",
        "print(reversed) #prints tseT"
      ],
      "execution_count": 13,
      "outputs": [
        {
          "output_type": "stream",
          "text": [
            "tseT\n"
          ],
          "name": "stdout"
        }
      ]
    },
    {
      "cell_type": "code",
      "metadata": {
        "colab": {
          "base_uri": "https://localhost:8080/"
        },
        "id": "3UtojNnVy9ua",
        "outputId": "cc2d94f8-0ee5-43cf-bae8-06772a0e762d"
      },
      "source": [
        "a = 1\n",
        "b = 2\n",
        "c = 3\n",
        "\n",
        "print(a < b < c) # prints True"
      ],
      "execution_count": 14,
      "outputs": [
        {
          "output_type": "stream",
          "text": [
            "True\n"
          ],
          "name": "stdout"
        }
      ]
    },
    {
      "cell_type": "code",
      "metadata": {
        "colab": {
          "base_uri": "https://localhost:8080/"
        },
        "id": "K_3MXviDy_dL",
        "outputId": "57326862-8474-43af-97e0-03b4dffc38e5"
      },
      "source": [
        "x, y = 1, 2 #x=1, y=2\n",
        "x, y = y, x #x=2, y=1\n",
        "\n",
        "print(x, y) #prints 2 1"
      ],
      "execution_count": 15,
      "outputs": [
        {
          "output_type": "stream",
          "text": [
            "2 1\n"
          ],
          "name": "stdout"
        }
      ]
    }
  ]
}