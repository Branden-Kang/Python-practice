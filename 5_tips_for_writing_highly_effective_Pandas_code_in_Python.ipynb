{
  "nbformat": 4,
  "nbformat_minor": 0,
  "metadata": {
    "colab": {
      "provenance": [],
      "authorship_tag": "ABX9TyNTWvccdv/Wr9d9m+GzTDs6"
    },
    "kernelspec": {
      "name": "python3",
      "display_name": "Python 3"
    },
    "language_info": {
      "name": "python"
    }
  },
  "cells": [
    {
      "cell_type": "markdown",
      "source": [
        "[Reference](https://moez-62905.medium.com/5-tips-for-writing-highly-effective-pandas-code-in-python-410edad21389)"
      ],
      "metadata": {
        "id": "QppYm_dP7ZvJ"
      }
    },
    {
      "cell_type": "markdown",
      "source": [
        "# 1. pd.cut and pd.qcut"
      ],
      "metadata": {
        "id": "2IEFhoFH7gj9"
      }
    },
    {
      "cell_type": "code",
      "execution_count": 1,
      "metadata": {
        "id": "EsBu36bI7Wf4"
      },
      "outputs": [],
      "source": [
        "import pandas as pd\n",
        "import numpy as np\n",
        "\n",
        "data = np.random.randn(100)\n",
        "\n",
        "bins = [-np.inf, -1, 0, 1, np.inf]\n",
        "labels = ['very_low', 'low', 'medium', 'high']\n",
        "\n",
        "df = pd.DataFrame({'data': data})\n",
        "df['binned'] = pd.cut(df['data'], bins=bins, labels=labels)"
      ]
    },
    {
      "cell_type": "code",
      "source": [
        "import pandas as pd\n",
        "import numpy as np\n",
        "\n",
        "data = np.random.randint(0, 100, 20)\n",
        "\n",
        "df = pd.DataFrame({'data': data})\n",
        "\n",
        "df['binned'] = pd.qcut(df['data'], 4)"
      ],
      "metadata": {
        "id": "CD5bOT2m7dYD"
      },
      "execution_count": 2,
      "outputs": []
    },
    {
      "cell_type": "markdown",
      "source": [
        "# 2. pd.pivot_table"
      ],
      "metadata": {
        "id": "NT-TDzox7iIC"
      }
    },
    {
      "cell_type": "code",
      "source": [
        "import pandas as pd\n",
        "\n",
        "data = {\n",
        "    'A': ['foo', 'bar', 'foo', 'bar', 'foo', 'bar', 'foo', 'foo'],\n",
        "    'B': ['one', 'one', 'two', 'three', 'two', 'two', 'one', 'three'],\n",
        "    'C': [1, 2, 3, 4, 5, 6, 7, 8],\n",
        "    'D': [10, 20, 30, 40, 50, 60, 70, 80]\n",
        "}\n",
        "df = pd.DataFrame(data)\n",
        "pivot_table = df.pivot_table(values='D', index='A', columns='B')"
      ],
      "metadata": {
        "id": "4SH4pXZU7enU"
      },
      "execution_count": 3,
      "outputs": []
    },
    {
      "cell_type": "markdown",
      "source": [
        "# 3. pd.melt"
      ],
      "metadata": {
        "id": "XUrXSdnb7kor"
      }
    },
    {
      "cell_type": "code",
      "source": [
        "import pandas as pd\n",
        "\n",
        "data = {\n",
        "    'A': ['foo', 'bar', 'foo', 'bar'],\n",
        "    'B': [1, 2, 3, 4],\n",
        "    'C': [10, 20, 30, 40],\n",
        "    'D': [100, 200, 300, 400]\n",
        "}\n",
        "\n",
        "df = pd.DataFrame(data)\n",
        "\n",
        "melted_df = df.melt(id_vars='A', value_vars=['B', 'C', 'D'])"
      ],
      "metadata": {
        "id": "ycwfU6Ij7jt-"
      },
      "execution_count": 4,
      "outputs": []
    },
    {
      "cell_type": "markdown",
      "source": [
        "# 4. pd.merge"
      ],
      "metadata": {
        "id": "GwtWSjhw7nNU"
      }
    },
    {
      "cell_type": "code",
      "source": [
        "import pandas as pd\n",
        "\n",
        "data1 = {\n",
        "    'key': ['A', 'B', 'C', 'D'],\n",
        "    'value1': [1, 2, 3, 4]\n",
        "}\n",
        "\n",
        "data2 = {\n",
        "    'key': ['B', 'D', 'E', 'F'],\n",
        "    'value2': [5, 6, 7, 8]\n",
        "}\n",
        "\n",
        "df1 = pd.DataFrame(data1)\n",
        "df2 = pd.DataFrame(data2)\n",
        "\n",
        "merged_df = pd.merge(df1, df2, on='key', how='inner')"
      ],
      "metadata": {
        "id": "Lrj1yF_K7l1J"
      },
      "execution_count": 5,
      "outputs": []
    },
    {
      "cell_type": "markdown",
      "source": [
        "# 5. pd.group_by"
      ],
      "metadata": {
        "id": "AYTBv6zn7pVM"
      }
    },
    {
      "cell_type": "code",
      "source": [
        "import pandas as pd\n",
        "\n",
        "data = {\n",
        "    'A': ['foo', 'bar', 'foo', 'bar', 'foo', 'bar', 'foo', 'foo'],\n",
        "    'B': ['one', 'one', 'two', 'three', 'two', 'two', 'one', 'three'],\n",
        "    'C': [1, 2, 3, 4, 5, 6, 7, 8],\n",
        "    'D': [10, 20, 30, 40, 50, 60, 70, 80]\n",
        "}\n",
        "\n",
        "df = pd.DataFrame(data)\n",
        "\n",
        "grouped = df.groupby(['A', 'B']).agg({'C': 'mean', 'D': 'sum'})"
      ],
      "metadata": {
        "id": "aYh8R54F7ogn"
      },
      "execution_count": 6,
      "outputs": []
    },
    {
      "cell_type": "code",
      "source": [
        "!pip install knime"
      ],
      "metadata": {
        "colab": {
          "base_uri": "https://localhost:8080/"
        },
        "id": "gc81RhmM7xBf",
        "outputId": "9c4fe326-b440-4d0d-fae5-421526869d70"
      },
      "execution_count": 8,
      "outputs": [
        {
          "output_type": "stream",
          "name": "stdout",
          "text": [
            "Looking in indexes: https://pypi.org/simple, https://us-python.pkg.dev/colab-wheels/public/simple/\n",
            "Collecting knime\n",
            "  Downloading knime-0.11.6-py3-none-any.whl (21 kB)\n",
            "Installing collected packages: knime\n",
            "Successfully installed knime-0.11.6\n"
          ]
        }
      ]
    }
  ]
}