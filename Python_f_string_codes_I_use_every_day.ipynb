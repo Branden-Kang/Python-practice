{
  "nbformat": 4,
  "nbformat_minor": 0,
  "metadata": {
    "colab": {
      "provenance": [],
      "authorship_tag": "ABX9TyPD+qQtU5lEoxfYl2txch02"
    },
    "kernelspec": {
      "name": "python3",
      "display_name": "Python 3"
    },
    "language_info": {
      "name": "python"
    }
  },
  "cells": [
    {
      "cell_type": "markdown",
      "source": [
        "[Reference](https://medium.com/geekculture/python-f-string-codes-i-use-every-day-e03558f12057?source=email-221e53167b31-1674668889210-digest.reader-9758482ba857-e03558f12057----3-98------------------4b9cb30c_f5c9_44ec_bd42_d875f8639540-1)"
      ],
      "metadata": {
        "id": "F_chMtwjk7jW"
      }
    },
    {
      "cell_type": "markdown",
      "source": [
        "# Basic usage\n"
      ],
      "metadata": {
        "id": "UxIMTrZcj_X3"
      }
    },
    {
      "cell_type": "code",
      "execution_count": 1,
      "metadata": {
        "colab": {
          "base_uri": "https://localhost:8080/"
        },
        "id": "8l6QwgsFj-A3",
        "outputId": "63a347ae-7919-4377-e240-c9f63ecf5876"
      },
      "outputs": [
        {
          "output_type": "stream",
          "name": "stdout",
          "text": [
            "Example 1: pawjast\n",
            "Example 2: 2022\n",
            "Example 3: 4\n"
          ]
        }
      ],
      "source": [
        "author = \"pawjast\"\n",
        "year = 2022\n",
        "\n",
        "print(f\"Example 1: {author}\")  # string\n",
        "print(f\"Example 2: {year}\")  # number\n",
        "print(f\"Example 3: {2 + 2}\")  # expression"
      ]
    },
    {
      "cell_type": "code",
      "source": [
        "text = \"Data Science Blog\"\n",
        "\n",
        "print(f\"{text=}\")"
      ],
      "metadata": {
        "colab": {
          "base_uri": "https://localhost:8080/"
        },
        "id": "mjCYMVVkkBrq",
        "outputId": "34e28840-29b3-4f1d-fba5-94cd9f162388"
      },
      "execution_count": 2,
      "outputs": [
        {
          "output_type": "stream",
          "name": "stdout",
          "text": [
            "text='Data Science Blog'\n"
          ]
        }
      ]
    },
    {
      "cell_type": "markdown",
      "source": [
        "# Recap on numbers\n"
      ],
      "metadata": {
        "id": "YyLM40FfkC8P"
      }
    },
    {
      "cell_type": "code",
      "source": [
        "int_1 = 1\n",
        "int_with_separator = 1_000  # `int` with 1,000 separator\n",
        "float_1 = 1.125\n",
        "float_2 = 3.50\n",
        "scientific_1 = 1.23e2  # 1.23 * 10^2\n",
        "\n",
        "print(f\"Example 1 - int: {int_1}\")\n",
        "print(f\"Example 2 - int with _ as thousands separator: {int_with_separator}\")\n",
        "print(f\"Example 3 - float: {float_1}\")\n",
        "print(f\"Example 4 - float with trailing zero: {float_2}\")\n",
        "print(f\"Example 5 - float in scientific notation: {scientific_1}\")"
      ],
      "metadata": {
        "colab": {
          "base_uri": "https://localhost:8080/"
        },
        "id": "H0tdKgFikCXq",
        "outputId": "26c896f7-0da9-46f7-a65b-2c818a763ca4"
      },
      "execution_count": 3,
      "outputs": [
        {
          "output_type": "stream",
          "name": "stdout",
          "text": [
            "Example 1 - int: 1\n",
            "Example 2 - int with _ as thousands separator: 1000\n",
            "Example 3 - float: 1.125\n",
            "Example 4 - float with trailing zero: 3.5\n",
            "Example 5 - float in scientific notation: 123.0\n"
          ]
        }
      ]
    },
    {
      "cell_type": "markdown",
      "source": [
        "# Type f - floats"
      ],
      "metadata": {
        "id": "ftnzWB9RkFxA"
      }
    },
    {
      "cell_type": "code",
      "source": [
        "pi_val = 3.141592\n",
        "\n",
        "print(f\"Example 1: {pi_val:f}\")\n",
        "print(f\"Example 2: {pi_val:.0f}\")\n",
        "print(f\"Example 3: {pi_val:.1f}\")\n",
        "print(f\"Example 4: {pi_val:.3f}\")"
      ],
      "metadata": {
        "colab": {
          "base_uri": "https://localhost:8080/"
        },
        "id": "P9Zm8EOSkE2w",
        "outputId": "96410a4e-b704-4f9e-8047-62b9c16365e3"
      },
      "execution_count": 4,
      "outputs": [
        {
          "output_type": "stream",
          "name": "stdout",
          "text": [
            "Example 1: 3.141592\n",
            "Example 2: 3\n",
            "Example 3: 3.1\n",
            "Example 4: 3.142\n"
          ]
        }
      ]
    },
    {
      "cell_type": "code",
      "source": [
        "float_val = 1.5\n",
        "precision = 3\n",
        "\n",
        "print(f\"{float_val:.{precision}f}\")"
      ],
      "metadata": {
        "colab": {
          "base_uri": "https://localhost:8080/"
        },
        "id": "ld26AgHMkIDb",
        "outputId": "e0a5077e-58f3-4e07-dbe3-bccaad745d73"
      },
      "execution_count": 5,
      "outputs": [
        {
          "output_type": "stream",
          "name": "stdout",
          "text": [
            "1.500\n"
          ]
        }
      ]
    },
    {
      "cell_type": "markdown",
      "source": [
        "# Type %\n"
      ],
      "metadata": {
        "id": "5gxh3FZGkJty"
      }
    },
    {
      "cell_type": "code",
      "source": [
        "val = 0.5\n",
        "\n",
        "print(f\"Example 1: {val:%}\")\n",
        "print(f\"Example 2: {val:.0%}\")"
      ],
      "metadata": {
        "colab": {
          "base_uri": "https://localhost:8080/"
        },
        "id": "aDY_FjuakI7x",
        "outputId": "efad7eba-8137-44dc-fa4a-683c725e8424"
      },
      "execution_count": 6,
      "outputs": [
        {
          "output_type": "stream",
          "name": "stdout",
          "text": [
            "Example 1: 50.000000%\n",
            "Example 2: 50%\n"
          ]
        }
      ]
    },
    {
      "cell_type": "code",
      "source": [
        "val = 1.255\n",
        "\n",
        "print(f\"Example 1: {val:.0%}\")\n",
        "print(f\"Example 2: {val:.1%}\")"
      ],
      "metadata": {
        "colab": {
          "base_uri": "https://localhost:8080/"
        },
        "id": "7dr0tAUgkME7",
        "outputId": "d82d8c77-1e42-4267-9b72-57809d437a45"
      },
      "execution_count": 7,
      "outputs": [
        {
          "output_type": "stream",
          "name": "stdout",
          "text": [
            "Example 1: 125%\n",
            "Example 2: 125.5%\n"
          ]
        }
      ]
    },
    {
      "cell_type": "markdown",
      "source": [
        "# Type e/E - scientific notation\n"
      ],
      "metadata": {
        "id": "Su8TZPE2kNzD"
      }
    },
    {
      "cell_type": "code",
      "source": [
        "val = 1.23e3  # 1.23 * 10^3\n",
        "\n",
        "print(f\"Example 1: {val:e}\")\n",
        "print(f\"Example 2: {val:E}\")"
      ],
      "metadata": {
        "colab": {
          "base_uri": "https://localhost:8080/"
        },
        "id": "HhK5OtiCkM42",
        "outputId": "c9188f7a-7b48-4aa4-e6bf-7008913309bb"
      },
      "execution_count": 8,
      "outputs": [
        {
          "output_type": "stream",
          "name": "stdout",
          "text": [
            "Example 1: 1.230000e+03\n",
            "Example 2: 1.230000E+03\n"
          ]
        }
      ]
    },
    {
      "cell_type": "code",
      "source": [
        "# limited precision\n",
        "val = 1.2345e3\n",
        "\n",
        "print(f\"{val:.2e}\")"
      ],
      "metadata": {
        "colab": {
          "base_uri": "https://localhost:8080/"
        },
        "id": "aQV4NI8wkPME",
        "outputId": "addf06f8-25de-4eba-b31a-6f3cdcd9cf98"
      },
      "execution_count": 9,
      "outputs": [
        {
          "output_type": "stream",
          "name": "stdout",
          "text": [
            "1.23e+03\n"
          ]
        }
      ]
    },
    {
      "cell_type": "code",
      "source": [
        "# Printing regular number in scientific notation\n",
        "val = 2022\n",
        "\n",
        "print(f\"{val:.3e}\")"
      ],
      "metadata": {
        "colab": {
          "base_uri": "https://localhost:8080/"
        },
        "id": "Itdf5CutkQ4-",
        "outputId": "8dd44c4e-cfe2-4181-bca8-64ee143b2ab3"
      },
      "execution_count": 10,
      "outputs": [
        {
          "output_type": "stream",
          "name": "stdout",
          "text": [
            "2.022e+03\n"
          ]
        }
      ]
    },
    {
      "cell_type": "markdown",
      "source": [
        "# Type d - integers\n"
      ],
      "metadata": {
        "id": "JNnN3M8BkTHX"
      }
    },
    {
      "cell_type": "code",
      "source": [
        "val = 1\n",
        "\n",
        "print(f\"{val:d}\")"
      ],
      "metadata": {
        "colab": {
          "base_uri": "https://localhost:8080/"
        },
        "id": "_C02LE9gkSdr",
        "outputId": "2f09863f-3b18-4e2d-c37a-ced69e306b72"
      },
      "execution_count": 11,
      "outputs": [
        {
          "output_type": "stream",
          "name": "stdout",
          "text": [
            "1\n"
          ]
        }
      ]
    },
    {
      "cell_type": "code",
      "source": [
        "# Printing thousands separator\n",
        "int_1 = 1000\n",
        "int_2 = 1000_000_000\n",
        "\n",
        "print(f\"{int_1:,d}\")\n",
        "print(f\"{int_2:,d}\")"
      ],
      "metadata": {
        "colab": {
          "base_uri": "https://localhost:8080/"
        },
        "id": "-Dsg_DHekVMC",
        "outputId": "a54ac866-8767-45bd-886d-5b49acb714e5"
      },
      "execution_count": 12,
      "outputs": [
        {
          "output_type": "stream",
          "name": "stdout",
          "text": [
            "1,000\n",
            "1,000,000,000\n"
          ]
        }
      ]
    },
    {
      "cell_type": "markdown",
      "source": [
        "# Type n - numbers\n"
      ],
      "metadata": {
        "id": "CcrM8bEMkWz2"
      }
    },
    {
      "cell_type": "code",
      "source": [
        "val_int = 1\n",
        "val_float = 1.234\n",
        "val_scient = 4.567e2\n",
        "\n",
        "print(f\"{val_int =: n}\")\n",
        "print(f\"{val_float =: n}\")\n",
        "print(f\"{val_scient =: n}\")"
      ],
      "metadata": {
        "colab": {
          "base_uri": "https://localhost:8080/"
        },
        "id": "Nw9wjW1pkWBP",
        "outputId": "b698c3e3-28f6-4b69-da9a-e2b3dcd83863"
      },
      "execution_count": 13,
      "outputs": [
        {
          "output_type": "stream",
          "name": "stdout",
          "text": [
            "val_int = 1\n",
            "val_float = 1.234\n",
            "val_scient = 456.7\n"
          ]
        }
      ]
    },
    {
      "cell_type": "code",
      "source": [
        "val_float_1 = 1.234\n",
        "val_float_2 = 20.234\n",
        "val_float_3 = 123.456\n",
        "print(f\"{val_float_1 =: .2n}\")  # prints as truncated float\n",
        "print(f\"{val_float_2 =: .2n}\")  # prints as int\n",
        "print(f\"{val_float_3 =: .2n}\")  # prints as scientific notation"
      ],
      "metadata": {
        "colab": {
          "base_uri": "https://localhost:8080/"
        },
        "id": "WnhkEdtPkYTQ",
        "outputId": "ca1ec38c-ba2d-4494-a632-ba11bd9c7970"
      },
      "execution_count": 14,
      "outputs": [
        {
          "output_type": "stream",
          "name": "stdout",
          "text": [
            "val_float_1 = 1.2\n",
            "val_float_2 = 20\n",
            "val_float_3 = 1.2e+02\n"
          ]
        }
      ]
    },
    {
      "cell_type": "markdown",
      "source": [
        "# Dates\n"
      ],
      "metadata": {
        "id": "CoaYHMZdkaVB"
      }
    },
    {
      "cell_type": "code",
      "source": [
        "from datetime import date, datetime\n",
        "\n",
        "day = date(\n",
        "    year=2022,\n",
        "    month=9,\n",
        "    day=1\n",
        ")\n",
        "\n",
        "print(f\"{day}\")"
      ],
      "metadata": {
        "colab": {
          "base_uri": "https://localhost:8080/"
        },
        "id": "ODItP_3VkZeo",
        "outputId": "b2bc63d1-1b29-4bf2-e389-a1f6e0a3d033"
      },
      "execution_count": 15,
      "outputs": [
        {
          "output_type": "stream",
          "name": "stdout",
          "text": [
            "2022-09-01\n"
          ]
        }
      ]
    },
    {
      "cell_type": "code",
      "source": [
        "# Recreate the default format\n",
        "print(f\"{day:%Y-%m-%d}\")\n",
        "print(f\"{day:%Y/%m/%d}\")  # use / as separator"
      ],
      "metadata": {
        "colab": {
          "base_uri": "https://localhost:8080/"
        },
        "id": "Jf_mtnfQkdS3",
        "outputId": "92cbce52-a60d-4804-cc46-b946fba4d555"
      },
      "execution_count": 16,
      "outputs": [
        {
          "output_type": "stream",
          "name": "stdout",
          "text": [
            "2022-09-01\n",
            "2022/09/01\n"
          ]
        }
      ]
    },
    {
      "cell_type": "code",
      "source": [
        "# Turn month into text (short/long version)\n",
        "print(f\"{day:%Y %b %d}\")\n",
        "print(f\"{day:%Y %B %d}\")"
      ],
      "metadata": {
        "colab": {
          "base_uri": "https://localhost:8080/"
        },
        "id": "8S741nXpkeNG",
        "outputId": "af7951b0-1cba-4b90-e6e2-526d00b6abaf"
      },
      "execution_count": 17,
      "outputs": [
        {
          "output_type": "stream",
          "name": "stdout",
          "text": [
            "2022 Sep 01\n",
            "2022 September 01\n"
          ]
        }
      ]
    },
    {
      "cell_type": "code",
      "source": [
        "# Re-use the same variable multiple times and in different formats\n",
        "print(f\"{day:%b or %B}?\")\n",
        "print(f\"{day:%Y %Y %Y}\")"
      ],
      "metadata": {
        "colab": {
          "base_uri": "https://localhost:8080/"
        },
        "id": "JKGy8_m8kfAs",
        "outputId": "75047776-bde7-4e48-a43d-76a37ec6c533"
      },
      "execution_count": 18,
      "outputs": [
        {
          "output_type": "stream",
          "name": "stdout",
          "text": [
            "Sep or September?\n",
            "2022 2022 2022\n"
          ]
        }
      ]
    },
    {
      "cell_type": "code",
      "source": [
        "print(f\"{day:%Y %b %d (%A)}\")"
      ],
      "metadata": {
        "colab": {
          "base_uri": "https://localhost:8080/"
        },
        "id": "ZJqc2MYQkgM7",
        "outputId": "29b45dcd-b7d8-4f43-dfd3-62b8285a82ce"
      },
      "execution_count": 19,
      "outputs": [
        {
          "output_type": "stream",
          "name": "stdout",
          "text": [
            "2022 Sep 01 (Thursday)\n"
          ]
        }
      ]
    },
    {
      "cell_type": "code",
      "source": [
        "print(f\"{day:%y.%m.%d}\")"
      ],
      "metadata": {
        "colab": {
          "base_uri": "https://localhost:8080/"
        },
        "id": "9YhQH9nnkiAO",
        "outputId": "2192941d-07cd-4f56-8c2a-1dadb1a2232f"
      },
      "execution_count": 20,
      "outputs": [
        {
          "output_type": "stream",
          "name": "stdout",
          "text": [
            "22.09.01\n"
          ]
        }
      ]
    },
    {
      "cell_type": "markdown",
      "source": [
        "# Datetimes\n"
      ],
      "metadata": {
        "id": "rKXOf-V1kit5"
      }
    },
    {
      "cell_type": "code",
      "source": [
        "day_and_time = datetime(\n",
        "    year=2022,\n",
        "    month=9,\n",
        "    day=1,\n",
        "    hour=17,\n",
        "    minute=30,\n",
        "    second=45\n",
        ")\n",
        "now = datetime.now()\n",
        "\n",
        "print(f\"{day_and_time}\")\n",
        "print(f\"{now}\")  # with microseconds"
      ],
      "metadata": {
        "colab": {
          "base_uri": "https://localhost:8080/"
        },
        "id": "2cR0XmVwkiLa",
        "outputId": "7f8d2ecf-a3cb-4c9b-9237-5eb8654cd938"
      },
      "execution_count": 21,
      "outputs": [
        {
          "output_type": "stream",
          "name": "stdout",
          "text": [
            "2022-09-01 17:30:45\n",
            "2023-01-26 14:54:04.798325\n"
          ]
        }
      ]
    },
    {
      "cell_type": "code",
      "source": [
        "# Recreate the default format:\n",
        "print(f\"{now:%Y-%m-%d %H:%M:%S.%f}\")"
      ],
      "metadata": {
        "colab": {
          "base_uri": "https://localhost:8080/"
        },
        "id": "PJJ0a1lFkk9N",
        "outputId": "8ab9bd90-d512-4986-aac9-487292d235da"
      },
      "execution_count": 22,
      "outputs": [
        {
          "output_type": "stream",
          "name": "stdout",
          "text": [
            "2023-01-26 14:54:04.798325\n"
          ]
        }
      ]
    },
    {
      "cell_type": "code",
      "source": [
        "type(f\"{now:%Y-%m-%d %H:%M:%S.%f}\")"
      ],
      "metadata": {
        "colab": {
          "base_uri": "https://localhost:8080/"
        },
        "id": "EyQntT8Vkl9T",
        "outputId": "adc73ab8-e8db-4f3b-bf4a-4a95985360da"
      },
      "execution_count": 23,
      "outputs": [
        {
          "output_type": "execute_result",
          "data": {
            "text/plain": [
              "str"
            ]
          },
          "metadata": {},
          "execution_count": 23
        }
      ]
    },
    {
      "cell_type": "code",
      "source": [
        "# Recreate the default format and reduce precision on microseconds with slicing\n",
        "print(f\"{now:%Y-%m-%d %H:%M:%S.%f}\"[:22])"
      ],
      "metadata": {
        "colab": {
          "base_uri": "https://localhost:8080/"
        },
        "id": "0zrxUDFkkmmm",
        "outputId": "ecb9acc2-b3b5-4f8b-c86c-d9734e2ffc07"
      },
      "execution_count": 24,
      "outputs": [
        {
          "output_type": "stream",
          "name": "stdout",
          "text": [
            "2023-01-26 14:54:04.79\n"
          ]
        }
      ]
    },
    {
      "cell_type": "code",
      "source": [
        "# Change 24hr format to 12hr format:\n",
        "print(f\"24hr: {day_and_time:%Y-%m-%d %H:%M:%S}\")\n",
        "print(f\"12hr: {day_and_time:%Y-%m-%d %I:%M:%S}\")\n",
        "print(f\"12hr with AM/PM: {day_and_time:%Y-%m-%d %I:%M:%S %p}\")"
      ],
      "metadata": {
        "colab": {
          "base_uri": "https://localhost:8080/"
        },
        "id": "pY_4VzNCknt7",
        "outputId": "b0f70e74-435f-438a-b2a3-5b2850b91d52"
      },
      "execution_count": 25,
      "outputs": [
        {
          "output_type": "stream",
          "name": "stdout",
          "text": [
            "24hr: 2022-09-01 17:30:45\n",
            "12hr: 2022-09-01 05:30:45\n",
            "12hr with AM/PM: 2022-09-01 05:30:45 PM\n"
          ]
        }
      ]
    },
    {
      "cell_type": "code",
      "source": [
        "day = date(\n",
        "    year=2018,\n",
        "    month=9,\n",
        "    day=17\n",
        ")\n",
        "\n",
        "print(f\"The date: {day}\")\n",
        "print(f\"Day of the year: {day: %j}\")\n",
        "print(f\"Week of the year (Mon): {day: %W}\")\n",
        "print(f\"Week of the year (Sun): {day: %U}\")"
      ],
      "metadata": {
        "colab": {
          "base_uri": "https://localhost:8080/"
        },
        "id": "hYNV8A-kkown",
        "outputId": "52e5d904-4a7b-40f2-f438-daf1d7313302"
      },
      "execution_count": 26,
      "outputs": [
        {
          "output_type": "stream",
          "name": "stdout",
          "text": [
            "The date: 2018-09-17\n",
            "Day of the year:  260\n",
            "Week of the year (Mon):  38\n",
            "Week of the year (Sun):  37\n"
          ]
        }
      ]
    },
    {
      "cell_type": "markdown",
      "source": [
        "# Padding\n"
      ],
      "metadata": {
        "id": "9pQd3EFzkqoi"
      }
    },
    {
      "cell_type": "code",
      "source": [
        "# Padding with empty space\n",
        "val = 1\n",
        "\n",
        "print(f\"1: {val:1d}\")\n",
        "print(f\"2: {val:2d}\")\n",
        "print(f\"3: {val:3d}\")"
      ],
      "metadata": {
        "colab": {
          "base_uri": "https://localhost:8080/"
        },
        "id": "7wleTJn8kpyv",
        "outputId": "db7ddb58-3326-46be-af93-9be8a42e9a1a"
      },
      "execution_count": 27,
      "outputs": [
        {
          "output_type": "stream",
          "name": "stdout",
          "text": [
            "1: 1\n",
            "2:  1\n",
            "3:   1\n"
          ]
        }
      ]
    },
    {
      "cell_type": "code",
      "source": [
        "# Padding with zeros\n",
        "val = 1\n",
        "\n",
        "print(f\"1: {val:01d}\")\n",
        "print(f\"2: {val:02d}\")\n",
        "print(f\"3: {val:03d}\")"
      ],
      "metadata": {
        "colab": {
          "base_uri": "https://localhost:8080/"
        },
        "id": "Tp5gTxWNksJ4",
        "outputId": "5191cc7c-7435-4203-ec15-f49c2d30f063"
      },
      "execution_count": 28,
      "outputs": [
        {
          "output_type": "stream",
          "name": "stdout",
          "text": [
            "1: 1\n",
            "2: 01\n",
            "3: 001\n"
          ]
        }
      ]
    },
    {
      "cell_type": "code",
      "source": [
        "# Useful in loops\n",
        "for i in range(11):\n",
        "    print(f\"{i:02d}\")"
      ],
      "metadata": {
        "colab": {
          "base_uri": "https://localhost:8080/"
        },
        "id": "LTRBmtIMktR2",
        "outputId": "0b1a1e2f-96ed-4797-b285-50e36a50d05e"
      },
      "execution_count": 29,
      "outputs": [
        {
          "output_type": "stream",
          "name": "stdout",
          "text": [
            "00\n",
            "01\n",
            "02\n",
            "03\n",
            "04\n",
            "05\n",
            "06\n",
            "07\n",
            "08\n",
            "09\n",
            "10\n"
          ]
        }
      ]
    },
    {
      "cell_type": "markdown",
      "source": [
        "# Sign: +, - or\n"
      ],
      "metadata": {
        "id": "TbMrKytukvpo"
      }
    },
    {
      "cell_type": "code",
      "source": [
        "positive = 1.23\n",
        "negative = -1.23\n",
        "\n",
        "print(f\"1: {positive:+.2f}   {negative:+.2f}\")\n",
        "print(f\"2: {positive:-.2f}   {negative:-.2f}\")\n",
        "print(f\"3: {positive: .2f}   {negative: .2f}\")"
      ],
      "metadata": {
        "colab": {
          "base_uri": "https://localhost:8080/"
        },
        "id": "jCHq3lDdkuUI",
        "outputId": "787d79c4-e9b5-463f-fa8b-c291fbaf1894"
      },
      "execution_count": 30,
      "outputs": [
        {
          "output_type": "stream",
          "name": "stdout",
          "text": [
            "1: +1.23   -1.23\n",
            "2: 1.23   -1.23\n",
            "3:  1.23   -1.23\n"
          ]
        }
      ]
    },
    {
      "cell_type": "code",
      "source": [
        "# print variable with name, limit precision and thousands separator\n",
        "val = 11500.23456\n",
        "\n",
        "print(f\"{val = :,.3f}\")"
      ],
      "metadata": {
        "colab": {
          "base_uri": "https://localhost:8080/"
        },
        "id": "K73vKA4xkxFk",
        "outputId": "c78f8a3e-6fe8-49e4-e671-8a88c6cef340"
      },
      "execution_count": 31,
      "outputs": [
        {
          "output_type": "stream",
          "name": "stdout",
          "text": [
            "val = 11,500.235\n"
          ]
        }
      ]
    }
  ]
}