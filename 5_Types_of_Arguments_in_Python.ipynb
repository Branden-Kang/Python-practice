{
  "nbformat": 4,
  "nbformat_minor": 0,
  "metadata": {
    "colab": {
      "name": "5 Types of Arguments in Python.ipynb",
      "provenance": [],
      "authorship_tag": "ABX9TyOv92Yp5JjmaDGzKFB63v8g"
    },
    "kernelspec": {
      "name": "python3",
      "display_name": "Python 3"
    }
  },
  "cells": [
    {
      "cell_type": "markdown",
      "metadata": {
        "id": "zpWbpFYxYGjY"
      },
      "source": [
        "[Reference](https://levelup.gitconnected.com/5-types-of-arguments-in-python-function-definition-e0e2a2cafd29)"
      ]
    },
    {
      "cell_type": "markdown",
      "metadata": {
        "id": "smUfyYyRYK_6"
      },
      "source": [
        "There are 5 ypes:\n",
        "- default arguments\n",
        "- keyword arguments\n",
        "- positional arguments\n",
        "- arbitrary positional arguments\n",
        "- arbitrary keyword arguments"
      ]
    },
    {
      "cell_type": "markdown",
      "metadata": {
        "id": "o1xY2XT9YYTs"
      },
      "source": [
        "# default arguments:"
      ]
    },
    {
      "cell_type": "code",
      "metadata": {
        "id": "00UT9WP8X-oM"
      },
      "source": [
        "def add(a,b=5,c=10):\n",
        "    return (a+b+c)"
      ],
      "execution_count": 1,
      "outputs": []
    },
    {
      "cell_type": "code",
      "metadata": {
        "id": "WPlaNffNYSV2",
        "outputId": "a98ba2a5-1977-4f5f-d92c-1e022651185d",
        "colab": {
          "base_uri": "https://localhost:8080/",
          "height": 34
        }
      },
      "source": [
        "print(add(3))"
      ],
      "execution_count": 2,
      "outputs": [
        {
          "output_type": "stream",
          "text": [
            "18\n"
          ],
          "name": "stdout"
        }
      ]
    },
    {
      "cell_type": "code",
      "metadata": {
        "id": "9Kcn_Nt4YTZy",
        "outputId": "377a9633-f2ec-4ade-f868-e65f0631b403",
        "colab": {
          "base_uri": "https://localhost:8080/",
          "height": 34
        }
      },
      "source": [
        "print(add(3,4))"
      ],
      "execution_count": 3,
      "outputs": [
        {
          "output_type": "stream",
          "text": [
            "17\n"
          ],
          "name": "stdout"
        }
      ]
    },
    {
      "cell_type": "code",
      "metadata": {
        "id": "8HWYQubrYVNj",
        "outputId": "4cc09a15-1d7b-4db3-e356-cab901519aae",
        "colab": {
          "base_uri": "https://localhost:8080/",
          "height": 34
        }
      },
      "source": [
        "print(add(2,3,4))"
      ],
      "execution_count": 4,
      "outputs": [
        {
          "output_type": "stream",
          "text": [
            "9\n"
          ],
          "name": "stdout"
        }
      ]
    },
    {
      "cell_type": "markdown",
      "metadata": {
        "id": "VPzZl_SsYaFh"
      },
      "source": [
        "# Keyword Arguments"
      ]
    },
    {
      "cell_type": "code",
      "metadata": {
        "id": "DKo_x2SGYWvZ"
      },
      "source": [
        "def add(a,b=5,c=10):\n",
        "    return (a+b+c)"
      ],
      "execution_count": 5,
      "outputs": []
    },
    {
      "cell_type": "code",
      "metadata": {
        "id": "XinZWqbcYf-M",
        "outputId": "2f9d2d2c-e692-43f0-f28d-51ce75b23d5f",
        "colab": {
          "base_uri": "https://localhost:8080/",
          "height": 34
        }
      },
      "source": [
        "print (add(b=10,c=15,a=20))"
      ],
      "execution_count": 6,
      "outputs": [
        {
          "output_type": "stream",
          "text": [
            "45\n"
          ],
          "name": "stdout"
        }
      ]
    },
    {
      "cell_type": "code",
      "metadata": {
        "id": "25dcwlH3YgRb",
        "outputId": "dc808250-9833-4670-bbe5-ab8af5699c43",
        "colab": {
          "base_uri": "https://localhost:8080/",
          "height": 34
        }
      },
      "source": [
        "print (add(a=10))"
      ],
      "execution_count": 7,
      "outputs": [
        {
          "output_type": "stream",
          "text": [
            "25\n"
          ],
          "name": "stdout"
        }
      ]
    },
    {
      "cell_type": "markdown",
      "metadata": {
        "id": "zw4Oe_cOYk1m"
      },
      "source": [
        "# Positional Arguments"
      ]
    },
    {
      "cell_type": "code",
      "metadata": {
        "id": "OO1myhFtYh2B"
      },
      "source": [
        "def add(a,b,c):\n",
        "    return (a+b+c)"
      ],
      "execution_count": 8,
      "outputs": []
    },
    {
      "cell_type": "code",
      "metadata": {
        "id": "SXTpuTz-Ymq0",
        "outputId": "99693685-9700-4e9a-ca37-89fdadf9fee2",
        "colab": {
          "base_uri": "https://localhost:8080/",
          "height": 34
        }
      },
      "source": [
        "print(add(10,20,30))"
      ],
      "execution_count": 9,
      "outputs": [
        {
          "output_type": "stream",
          "text": [
            "60\n"
          ],
          "name": "stdout"
        }
      ]
    },
    {
      "cell_type": "code",
      "metadata": {
        "id": "JavtIE0KYoAS",
        "outputId": "2dfbf8d6-ba80-4df4-f870-70a4620f5f3a",
        "colab": {
          "base_uri": "https://localhost:8080/",
          "height": 34
        }
      },
      "source": [
        "print(add(10,c=30,b=20))"
      ],
      "execution_count": 10,
      "outputs": [
        {
          "output_type": "stream",
          "text": [
            "60\n"
          ],
          "name": "stdout"
        }
      ]
    },
    {
      "cell_type": "code",
      "metadata": {
        "id": "VwnXjXasYsRK",
        "outputId": "8a203dff-e7e0-47d9-fd1d-64943dacd73a",
        "colab": {
          "base_uri": "https://localhost:8080/",
          "height": 130
        }
      },
      "source": [
        "def add(a,b,c):\n",
        "    return (a+b+c)\n",
        "\n",
        "print (add(a=10,3,4))"
      ],
      "execution_count": 11,
      "outputs": [
        {
          "output_type": "error",
          "ename": "SyntaxError",
          "evalue": "ignored",
          "traceback": [
            "\u001b[0;36m  File \u001b[0;32m\"<ipython-input-11-9954c7bbd0e7>\"\u001b[0;36m, line \u001b[0;32m4\u001b[0m\n\u001b[0;31m    print (add(a=10,3,4))\u001b[0m\n\u001b[0m                   ^\u001b[0m\n\u001b[0;31mSyntaxError\u001b[0m\u001b[0;31m:\u001b[0m positional argument follows keyword argument\n"
          ]
        }
      ]
    },
    {
      "cell_type": "markdown",
      "metadata": {
        "id": "cGRN_3trY-mN"
      },
      "source": [
        "# arbitrary positional arguments"
      ]
    },
    {
      "cell_type": "code",
      "metadata": {
        "id": "BSzyFHkEY1h8",
        "outputId": "41de569a-e0c6-42e9-ae59-054a8ed5f4c1",
        "colab": {
          "base_uri": "https://localhost:8080/",
          "height": 34
        }
      },
      "source": [
        "def add(*b):\n",
        "    result=0\n",
        "    for i in b:\n",
        "         result=result+i\n",
        "    return result\n",
        "\n",
        "print (add(1,2,3,4,5))"
      ],
      "execution_count": 12,
      "outputs": [
        {
          "output_type": "stream",
          "text": [
            "15\n"
          ],
          "name": "stdout"
        }
      ]
    },
    {
      "cell_type": "code",
      "metadata": {
        "id": "Ld8F8HfBZDww",
        "outputId": "7d5994da-0dee-435f-c226-7e9bf3b763ff",
        "colab": {
          "base_uri": "https://localhost:8080/",
          "height": 34
        }
      },
      "source": [
        "print (add(10,20))"
      ],
      "execution_count": 13,
      "outputs": [
        {
          "output_type": "stream",
          "text": [
            "30\n"
          ],
          "name": "stdout"
        }
      ]
    },
    {
      "cell_type": "markdown",
      "metadata": {
        "id": "Ix4--Ta2ZIEP"
      },
      "source": [
        "# arbitrary keyword arguments"
      ]
    },
    {
      "cell_type": "code",
      "metadata": {
        "id": "Wi4ZqiDUZFE8"
      },
      "source": [
        "def fn(**a):\n",
        "    for i in a.items():\n",
        "        print(i)"
      ],
      "execution_count": 15,
      "outputs": []
    },
    {
      "cell_type": "code",
      "metadata": {
        "id": "IiX8R0BmZNEX",
        "outputId": "8f672d49-cf4b-41b6-f51a-e7a725b34d90",
        "colab": {
          "base_uri": "https://localhost:8080/",
          "height": 68
        }
      },
      "source": [
        "fn(numbers=5,colors=\"blue\",fruits=\"apple\")"
      ],
      "execution_count": 16,
      "outputs": [
        {
          "output_type": "stream",
          "text": [
            "('numbers', 5)\n",
            "('colors', 'blue')\n",
            "('fruits', 'apple')\n"
          ],
          "name": "stdout"
        }
      ]
    },
    {
      "cell_type": "markdown",
      "metadata": {
        "id": "-LkB9GwAZwnx"
      },
      "source": [
        "# Special Parameters"
      ]
    },
    {
      "cell_type": "markdown",
      "metadata": {
        "id": "rlUCJvUsZyRz"
      },
      "source": [
        "## Keyword only arguments"
      ]
    },
    {
      "cell_type": "code",
      "metadata": {
        "id": "2p7wm16NZPnm",
        "outputId": "bf17b761-9db2-46d4-9e04-aeb6b253eb69",
        "colab": {
          "base_uri": "https://localhost:8080/",
          "height": 34
        }
      },
      "source": [
        "def add(a,b,*,c,d):\n",
        "    return a+b+c+d\n",
        "\n",
        "print (add(3,4,c=1,d=2))"
      ],
      "execution_count": 18,
      "outputs": [
        {
          "output_type": "stream",
          "text": [
            "10\n"
          ],
          "name": "stdout"
        }
      ]
    },
    {
      "cell_type": "code",
      "metadata": {
        "id": "CeQ1ZfvWZ3vr",
        "outputId": "3fda7075-e193-48c8-e686-f829b51d1407",
        "colab": {
          "base_uri": "https://localhost:8080/",
          "height": 249
        }
      },
      "source": [
        "def add(a,b,*,c,d):\n",
        "    return a+b+c+d\n",
        "\n",
        "print(add(3,4,1,d=2))"
      ],
      "execution_count": 19,
      "outputs": [
        {
          "output_type": "error",
          "ename": "TypeError",
          "evalue": "ignored",
          "traceback": [
            "\u001b[0;31m---------------------------------------------------------------------------\u001b[0m",
            "\u001b[0;31mTypeError\u001b[0m                                 Traceback (most recent call last)",
            "\u001b[0;32m<ipython-input-19-cbaf55d7cece>\u001b[0m in \u001b[0;36m<module>\u001b[0;34m()\u001b[0m\n\u001b[1;32m      2\u001b[0m     \u001b[0;32mreturn\u001b[0m \u001b[0ma\u001b[0m\u001b[0;34m+\u001b[0m\u001b[0mb\u001b[0m\u001b[0;34m+\u001b[0m\u001b[0mc\u001b[0m\u001b[0;34m+\u001b[0m\u001b[0md\u001b[0m\u001b[0;34m\u001b[0m\u001b[0;34m\u001b[0m\u001b[0m\n\u001b[1;32m      3\u001b[0m \u001b[0;34m\u001b[0m\u001b[0m\n\u001b[0;32m----> 4\u001b[0;31m \u001b[0mprint\u001b[0m \u001b[0;34m(\u001b[0m\u001b[0madd\u001b[0m\u001b[0;34m(\u001b[0m\u001b[0;36m3\u001b[0m\u001b[0;34m,\u001b[0m\u001b[0;36m4\u001b[0m\u001b[0;34m,\u001b[0m\u001b[0;36m1\u001b[0m\u001b[0;34m,\u001b[0m\u001b[0md\u001b[0m\u001b[0;34m=\u001b[0m\u001b[0;36m2\u001b[0m\u001b[0;34m)\u001b[0m\u001b[0;34m)\u001b[0m\u001b[0;34m\u001b[0m\u001b[0;34m\u001b[0m\u001b[0m\n\u001b[0m",
            "\u001b[0;31mTypeError\u001b[0m: add() takes 2 positional arguments but 3 positional arguments (and 1 keyword-only argument) were given"
          ]
        }
      ]
    }
  ]
}