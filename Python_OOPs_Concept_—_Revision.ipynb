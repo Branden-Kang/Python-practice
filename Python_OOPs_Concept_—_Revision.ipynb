{
  "nbformat": 4,
  "nbformat_minor": 0,
  "metadata": {
    "colab": {
      "provenance": [],
      "authorship_tag": "ABX9TyNgIvQnojIf15jFl8I1KwKK"
    },
    "kernelspec": {
      "name": "python3",
      "display_name": "Python 3"
    },
    "language_info": {
      "name": "python"
    }
  },
  "cells": [
    {
      "cell_type": "markdown",
      "source": [
        "[Reference](https://blog.stackademic.com/python-oops-concept-revision-8c8d0758c7a6)"
      ],
      "metadata": {
        "id": "SZEwj5x38NwQ"
      }
    },
    {
      "cell_type": "markdown",
      "source": [
        "# Define class and methods"
      ],
      "metadata": {
        "id": "EEMm4xNv8Q-Z"
      }
    },
    {
      "cell_type": "code",
      "execution_count": 1,
      "metadata": {
        "id": "9BM7MoYX8MQs"
      },
      "outputs": [],
      "source": [
        "class man:\n",
        "    def __init__(self, name, age):\n",
        "        self.name = name\n",
        "        self.age = age\n",
        "\n",
        "    def speak(self):\n",
        "        print(\"He is speaking\")\n",
        "    def play(self):\n",
        "      print(\"mahendra want to play cricket\")"
      ]
    },
    {
      "cell_type": "markdown",
      "source": [
        "# Object creation or instance creation"
      ],
      "metadata": {
        "id": "HhXU-w4O8QwD"
      }
    },
    {
      "cell_type": "code",
      "source": [
        "man_obj=man(\"mahendra\",26)"
      ],
      "metadata": {
        "id": "3mpkQPqj8X1Y"
      },
      "execution_count": 2,
      "outputs": []
    },
    {
      "cell_type": "code",
      "source": [
        "print(\"name:\", man_obj.name)\n",
        "print(\"age:\", man_obj.age)\n",
        "man_obj.speak()\n",
        "man_obj.play()"
      ],
      "metadata": {
        "colab": {
          "base_uri": "https://localhost:8080/"
        },
        "id": "aee7mNKB8ZYP",
        "outputId": "e896316f-f2d9-4bfb-db6c-e64f6bde4ca0"
      },
      "execution_count": 3,
      "outputs": [
        {
          "output_type": "stream",
          "name": "stdout",
          "text": [
            "name: mahendra\n",
            "age: 26\n",
            "He is speaking\n",
            "mahendra want to play cricket\n"
          ]
        }
      ]
    },
    {
      "cell_type": "markdown",
      "source": [
        "# Encapsulation:"
      ],
      "metadata": {
        "id": "NOtTdJ2b8aiy"
      }
    },
    {
      "cell_type": "code",
      "source": [
        "class bank_account:\n",
        "  def __init__(self, balance):\n",
        "    self._balance=balance      #create encapsulation using underscore\n",
        "  def deposit(self, amount):\n",
        "    self._balance+=amount\n",
        "    print('amount deposit successfully')\n",
        "  def withdraw(self, amount):\n",
        "    if amount<=self._balance:\n",
        "      self._balance-=amount\n",
        "      print('withdrawal of', amount, 'successful')\n",
        "    else:\n",
        "      print('insufficient amount of ', amount)\n",
        "  def check_balance(self):\n",
        "    print('accountbalance is:',self._balance)"
      ],
      "metadata": {
        "id": "5HntOqn08ZiM"
      },
      "execution_count": 4,
      "outputs": []
    },
    {
      "cell_type": "code",
      "source": [
        "account=bank_account(20000)\n",
        "account.check_balance()\n",
        "account.deposit(3000)\n",
        "account.check_balance()\n",
        "account.withdraw(4000)\n",
        "account.check_balance()\n",
        "account.deposit(38900)\n",
        "account.withdraw(99999)\n",
        "account.check_balance()"
      ],
      "metadata": {
        "colab": {
          "base_uri": "https://localhost:8080/"
        },
        "id": "DD_BFp6v8bx8",
        "outputId": "218d464d-705a-4c66-fd90-1291382cc088"
      },
      "execution_count": 5,
      "outputs": [
        {
          "output_type": "stream",
          "name": "stdout",
          "text": [
            "accountbalance is: 20000\n",
            "amount deposit successfully\n",
            "accountbalance is: 23000\n",
            "withdrawal of 4000 successful\n",
            "accountbalance is: 19000\n",
            "amount deposit successfully\n",
            "insufficient amount of  99999\n",
            "accountbalance is: 57900\n"
          ]
        }
      ]
    },
    {
      "cell_type": "markdown",
      "source": [
        "# Inheritance:"
      ],
      "metadata": {
        "id": "n5LOGatq8d-6"
      }
    },
    {
      "cell_type": "code",
      "source": [
        "class Man:\n",
        "  def __init__(self, character):\n",
        "    self.character=character\n",
        "  def charect_des(self):\n",
        "    return 'so energetic and enthusiastic in learning skills'\n",
        "class mahendra(Man):\n",
        "  def __init__(self, name, age):\n",
        "    super().__init__(\"mahendra\")\n",
        "    self.name=name\n",
        "    self.age=age\n",
        "  def char(self):\n",
        "    return 'Introvert'\n",
        "mah_obj=mahendra('mahendra',26)\n",
        "mah_obj.charect_des()\n",
        "mah_obj.char()"
      ],
      "metadata": {
        "colab": {
          "base_uri": "https://localhost:8080/",
          "height": 35
        },
        "id": "Sv8_6Eah8cwb",
        "outputId": "ec25e3df-831a-486e-d5dd-b0060e46d222"
      },
      "execution_count": 7,
      "outputs": [
        {
          "output_type": "execute_result",
          "data": {
            "text/plain": [
              "'Introvert'"
            ],
            "application/vnd.google.colaboratory.intrinsic+json": {
              "type": "string"
            }
          },
          "metadata": {},
          "execution_count": 7
        }
      ]
    },
    {
      "cell_type": "markdown",
      "source": [
        "# Polymorphism:"
      ],
      "metadata": {
        "id": "e6-6T1WR8gw5"
      }
    },
    {
      "cell_type": "code",
      "source": [
        "class Shape:\n",
        "  def area(self):\n",
        "    pass\n",
        "  def perimeter(self):\n",
        "    pass\n",
        "  def volume(self):\n",
        "    pass\n",
        "class Square(Shape):\n",
        "  def __init__(self, side_len):\n",
        "    self.side_len=side_len\n",
        "  def area(self):\n",
        "    return self.side_len**2\n",
        "  def perimeter(self):\n",
        "    return self.side_len*4\n",
        "  def volume(self):\n",
        "    return self.side_len**3"
      ],
      "metadata": {
        "id": "jQOVQ1xv8fUv"
      },
      "execution_count": 8,
      "outputs": []
    },
    {
      "cell_type": "markdown",
      "source": [
        "# Abstraction:"
      ],
      "metadata": {
        "id": "8kzx_BwX8pAK"
      }
    },
    {
      "cell_type": "code",
      "source": [
        "from abc import ABC\n",
        "from abc import abstractmethod\n",
        "class Shape(ABC):\n",
        "    @abstractmethod\n",
        "    def calculate_area(self):\n",
        "        pass\n",
        "class Circle(Shape):\n",
        "    def __init__(self, radius):\n",
        "        self.radius = radius\n",
        "    def calculate_area(self):\n",
        "        return 3.14 * self.radius * self.radius\n",
        "\n",
        "class Rectangle(Shape):\n",
        "    def __init__(self, length, width):\n",
        "        self.length = length\n",
        "        self.width = width\n",
        "    def calculate_area(self):\n",
        "        return self. length * self.width\n",
        "\n",
        "circle = Circle(5)\n",
        "rectangle = Rectangle(4, 6)\n",
        "\n",
        "print(\"Area of Circle:\", circle.calculate_area())\n",
        "print(\"Area of Rectangle:\", rectangle.calculate_area())"
      ],
      "metadata": {
        "colab": {
          "base_uri": "https://localhost:8080/"
        },
        "id": "UrtnJIdj8n_8",
        "outputId": "01590000-c501-4516-970b-74fecbec37b8"
      },
      "execution_count": 10,
      "outputs": [
        {
          "output_type": "stream",
          "name": "stdout",
          "text": [
            "Area of Circle: 78.5\n",
            "Area of Rectangle: 24\n"
          ]
        }
      ]
    }
  ]
}