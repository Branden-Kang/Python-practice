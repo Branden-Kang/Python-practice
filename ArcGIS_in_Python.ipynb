{
  "nbformat": 4,
  "nbformat_minor": 0,
  "metadata": {
    "colab": {
      "name": "ArcGIS in Python.ipynb",
      "provenance": [],
      "authorship_tag": "ABX9TyMHx1txYZNGcTOyTRbwz2wl"
    },
    "kernelspec": {
      "name": "python3",
      "display_name": "Python 3"
    },
    "language_info": {
      "name": "python"
    }
  },
  "cells": [
    {
      "cell_type": "markdown",
      "metadata": {
        "id": "38-xip3EnOAG"
      },
      "source": [
        "[Reference](https://medium.com/swlh/location-is-everything-getting-into-arcgis-in-5-minutes-aec9b0a6b1c)"
      ]
    },
    {
      "cell_type": "code",
      "metadata": {
        "id": "6WoC8UWKnB4z"
      },
      "source": [
        "from arcgis.gis import GIS\n",
        "gis = GIS(\"https://www.arcgis.com\", \"username\", \"password\")"
      ],
      "execution_count": 2,
      "outputs": []
    },
    {
      "cell_type": "code",
      "metadata": {
        "id": "roKbUrPtn1qF"
      },
      "source": [
        "nyc = gis.map('New York, NY')"
      ],
      "execution_count": 3,
      "outputs": []
    },
    {
      "cell_type": "code",
      "metadata": {
        "id": "a89_WkHjnmCK"
      },
      "source": [
        "# get your imports in order:\n",
        "import pandas as pd\n",
        "from arcgis.features import GeoAccessor, GeoSeriesAccessor\n",
        "\n",
        "item = gis.content.get(\"85d0ca4ea1ca4b9abf0c51b9bd34de2e\")\n",
        "flayer = item.layers[0]\n",
        "sdf = pd.DataFrame.spatial.from_layer(flayer)\n",
        "sdf.head()"
      ],
      "execution_count": 4,
      "outputs": []
    },
    {
      "cell_type": "code",
      "metadata": {
        "id": "kToXBLm4oJx8"
      },
      "source": [
        "18_views = gis.content.get('4ca13f0e4e29403fa68c46d188c4be73')\n",
        "18_views"
      ],
      "execution_count": 5,
      "outputs": []
    },
    {
      "cell_type": "code",
      "metadata": {
        "id": "xyde3t0yoRP3"
      },
      "source": [
        "18_1yr = 18_views.layers[0]\n",
        "18_1yr"
      ],
      "execution_count": 6,
      "outputs": []
    },
    {
      "cell_type": "code",
      "metadata": {
        "id": "uDAzxQJvoWpQ"
      },
      "source": [
        "nyc = gis.map('Manhattan',zoomlevel=14)\n",
        "nyc"
      ],
      "execution_count": 7,
      "outputs": []
    },
    {
      "cell_type": "code",
      "metadata": {
        "id": "UPVNNv6_ocUm"
      },
      "source": [
        "for fn in landsat_1yr.properties.rasterFunctionInfos:\n",
        "    print(fn['name'])\n",
        "    nyc.remove_layers()\n",
        "    nyc.add_layer(apply(landast_lyr, fn['name']))\n",
        "    time.sleep(4)"
      ],
      "execution_count": 8,
      "outputs": []
    },
    {
      "cell_type": "code",
      "metadata": {
        "id": "sRE2ON6xopgv"
      },
      "source": [
        "# search for feature layers relating to california\n",
        "my_content = gis.content.search(query='california', \n",
        "                                item_type=\"Feature Layer\", \n",
        "                                max_items=20)"
      ],
      "execution_count": 9,
      "outputs": []
    }
  ]
}