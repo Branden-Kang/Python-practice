{
  "nbformat": 4,
  "nbformat_minor": 0,
  "metadata": {
    "colab": {
      "name": "Python List Comprehension Cheat Sheet.ipynb",
      "provenance": [],
      "authorship_tag": "ABX9TyODglw0NMQ6R9dNV80rIU9j"
    },
    "kernelspec": {
      "name": "python3",
      "display_name": "Python 3"
    },
    "language_info": {
      "name": "python"
    }
  },
  "cells": [
    {
      "cell_type": "markdown",
      "metadata": {
        "id": "kCA2HYz-wMlX"
      },
      "source": [
        "[Reference](https://billybonaros.medium.com/python-list-comprehension-cheat-sheet-ec55737101ad)"
      ]
    },
    {
      "cell_type": "code",
      "metadata": {
        "colab": {
          "base_uri": "https://localhost:8080/"
        },
        "id": "PP58SbXSwI4U",
        "outputId": "f6fdf5d8-745d-4c88-ef97-c5e9c5fc52a5"
      },
      "source": [
        "l1=[\"a\",\"b\",\"c\",\"d\",\"e\",\"f\"]\n",
        "#It creates the same list as l1\n",
        "[i for i in l1]"
      ],
      "execution_count": 1,
      "outputs": [
        {
          "output_type": "execute_result",
          "data": {
            "text/plain": [
              "['a', 'b', 'c', 'd', 'e', 'f']"
            ]
          },
          "metadata": {
            "tags": []
          },
          "execution_count": 1
        }
      ]
    },
    {
      "cell_type": "code",
      "metadata": {
        "colab": {
          "base_uri": "https://localhost:8080/"
        },
        "id": "xN5z8k7hwL5m",
        "outputId": "b3a6ad6e-9844-40ce-8a71-a6cb37af3f31"
      },
      "source": [
        "[i for i in l1 if i!=\"a\"]"
      ],
      "execution_count": 2,
      "outputs": [
        {
          "output_type": "execute_result",
          "data": {
            "text/plain": [
              "['b', 'c', 'd', 'e', 'f']"
            ]
          },
          "metadata": {
            "tags": []
          },
          "execution_count": 2
        }
      ]
    },
    {
      "cell_type": "code",
      "metadata": {
        "colab": {
          "base_uri": "https://localhost:8080/"
        },
        "id": "W8KZzfbzwR3_",
        "outputId": "9b1eccd0-bea7-404e-a3e5-1dedf2db2004"
      },
      "source": [
        "[i.upper() for i in l1]"
      ],
      "execution_count": 3,
      "outputs": [
        {
          "output_type": "execute_result",
          "data": {
            "text/plain": [
              "['A', 'B', 'C', 'D', 'E', 'F']"
            ]
          },
          "metadata": {
            "tags": []
          },
          "execution_count": 3
        }
      ]
    },
    {
      "cell_type": "code",
      "metadata": {
        "colab": {
          "base_uri": "https://localhost:8080/"
        },
        "id": "nqaaczRpwS9k",
        "outputId": "acb38194-0927-4781-c276-6eb00ad1e382"
      },
      "source": [
        "[i.upper() if i!=\"a\" else i for i in l1]"
      ],
      "execution_count": 4,
      "outputs": [
        {
          "output_type": "execute_result",
          "data": {
            "text/plain": [
              "['a', 'B', 'C', 'D', 'E', 'F']"
            ]
          },
          "metadata": {
            "tags": []
          },
          "execution_count": 4
        }
      ]
    },
    {
      "cell_type": "code",
      "metadata": {
        "colab": {
          "base_uri": "https://localhost:8080/"
        },
        "id": "hJ6w5CICwVzg",
        "outputId": "c3ffc867-d85b-4017-9dba-6b5adc178fde"
      },
      "source": [
        "l1=[\"a\",\"b\"]\n",
        "l2=[1,2]\n",
        "[i+str(j) for i in l1 for j in l2]"
      ],
      "execution_count": 5,
      "outputs": [
        {
          "output_type": "execute_result",
          "data": {
            "text/plain": [
              "['a1', 'a2', 'b1', 'b2']"
            ]
          },
          "metadata": {
            "tags": []
          },
          "execution_count": 5
        }
      ]
    },
    {
      "cell_type": "code",
      "metadata": {
        "colab": {
          "base_uri": "https://localhost:8080/"
        },
        "id": "1yotqS8rwZA2",
        "outputId": "e91b2078-66cf-43a5-c4d1-f693630a3d53"
      },
      "source": [
        "l1=[\"billy@gmail.com\", \"george@hotmail.com\",\"www.billy.com\",\"python.com\", \"mike@predictivehacks.com\"]\n",
        "domains=['gmail.com',\"hotmail.com\"]\n",
        "\n",
        "[i for i in l1 for j in domains if j in str(i)]"
      ],
      "execution_count": 6,
      "outputs": [
        {
          "output_type": "execute_result",
          "data": {
            "text/plain": [
              "['billy@gmail.com', 'george@hotmail.com']"
            ]
          },
          "metadata": {
            "tags": []
          },
          "execution_count": 6
        }
      ]
    },
    {
      "cell_type": "code",
      "metadata": {
        "colab": {
          "base_uri": "https://localhost:8080/"
        },
        "id": "MM9wNn1dwdsd",
        "outputId": "42963f9f-a774-4791-a119-be3ba6151bce"
      },
      "source": [
        "l1=[\"billy\",\"mike\",\"george\",\"italy\",\"greece\"]\n",
        "\n",
        "[(i,len(i)) for i in l1 ]"
      ],
      "execution_count": 7,
      "outputs": [
        {
          "output_type": "execute_result",
          "data": {
            "text/plain": [
              "[('billy', 5), ('mike', 4), ('george', 6), ('italy', 5), ('greece', 6)]"
            ]
          },
          "metadata": {
            "tags": []
          },
          "execution_count": 7
        }
      ]
    },
    {
      "cell_type": "code",
      "metadata": {
        "colab": {
          "base_uri": "https://localhost:8080/"
        },
        "id": "CyZsaVJ3wl5_",
        "outputId": "2401e43f-2efc-4006-a442-e21314a8de04"
      },
      "source": [
        "l1=[1,2,3,6,0,1,4,5,9,0,1,4,5,0]\n",
        "\n",
        "[l1[i-1] for i,j in enumerate(l1) if j==0]"
      ],
      "execution_count": 8,
      "outputs": [
        {
          "output_type": "execute_result",
          "data": {
            "text/plain": [
              "[6, 9, 5]"
            ]
          },
          "metadata": {
            "tags": []
          },
          "execution_count": 8
        }
      ]
    },
    {
      "cell_type": "code",
      "metadata": {
        "colab": {
          "base_uri": "https://localhost:8080/"
        },
        "id": "sMMar0Rzwn_h",
        "outputId": "076c2330-5275-480b-eed0-c78313c898ed"
      },
      "source": [
        "l1=[\"a\",\"b\",\"c\",\"d\",\"e\",\"f\"]\n",
        "\n",
        "#It creates a dictionary\n",
        "\n",
        "{i:i for i in l1}"
      ],
      "execution_count": 9,
      "outputs": [
        {
          "output_type": "execute_result",
          "data": {
            "text/plain": [
              "{'a': 'a', 'b': 'b', 'c': 'c', 'd': 'd', 'e': 'e', 'f': 'f'}"
            ]
          },
          "metadata": {
            "tags": []
          },
          "execution_count": 9
        }
      ]
    },
    {
      "cell_type": "code",
      "metadata": {
        "colab": {
          "base_uri": "https://localhost:8080/"
        },
        "id": "L5IiEdzswrA9",
        "outputId": "3eacbf26-fc58-4e49-e4a0-e024364396a6"
      },
      "source": [
        "l1=[\"a\",\"b\",\"c\",\"d\",\"e\",\"f\"]\n",
        "\n",
        "#It creates a dictionary enumerating every item of the list\n",
        "\n",
        "{i:j for i,j in enumerate(l1)}"
      ],
      "execution_count": 10,
      "outputs": [
        {
          "output_type": "execute_result",
          "data": {
            "text/plain": [
              "{0: 'a', 1: 'b', 2: 'c', 3: 'd', 4: 'e', 5: 'f'}"
            ]
          },
          "metadata": {
            "tags": []
          },
          "execution_count": 10
        }
      ]
    },
    {
      "cell_type": "code",
      "metadata": {
        "colab": {
          "base_uri": "https://localhost:8080/"
        },
        "id": "M27OBgO6wtZO",
        "outputId": "c0e1deb4-26af-4585-8550-4e49b6096db5"
      },
      "source": [
        "d1={0: 'a', 1: 'b', 2: 'c', 3: 'd', 4: 'e', 5: 'f'}\n",
        "\n",
        "#It creates a dictionary adding 1  to the keys of d1\n",
        "\n",
        "{key+1:value for key , value in d1.items()}"
      ],
      "execution_count": 11,
      "outputs": [
        {
          "output_type": "execute_result",
          "data": {
            "text/plain": [
              "{1: 'a', 2: 'b', 3: 'c', 4: 'd', 5: 'e', 6: 'f'}"
            ]
          },
          "metadata": {
            "tags": []
          },
          "execution_count": 11
        }
      ]
    }
  ]
}