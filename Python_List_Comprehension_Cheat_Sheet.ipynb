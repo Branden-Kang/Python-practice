{
  "nbformat": 4,
  "nbformat_minor": 0,
  "metadata": {
    "colab": {
      "name": "Python List Comprehension Cheat Sheet.ipynb",
      "provenance": [],
      "authorship_tag": "ABX9TyPc52ZJIZRKoQvK5MMJFcjC"
    },
    "kernelspec": {
      "name": "python3",
      "display_name": "Python 3"
    },
    "language_info": {
      "name": "python"
    }
  },
  "cells": [
    {
      "cell_type": "markdown",
      "metadata": {
        "id": "aVPtrtWIgzgV"
      },
      "source": [
        "[Reference](https://billybonaros.medium.com/python-list-comprehension-cheat-sheet-ec55737101ad)"
      ]
    },
    {
      "cell_type": "code",
      "metadata": {
        "colab": {
          "base_uri": "https://localhost:8080/"
        },
        "id": "KqM3AqrKgu-7",
        "outputId": "523eb09b-c4a6-4575-c336-b23b69a53d8d"
      },
      "source": [
        "l1=[\"a\",\"b\",\"c\",\"d\",\"e\",\"f\"]\n",
        "\n",
        "#It creates the same list as l1\n",
        "\n",
        "[i for i in l1]"
      ],
      "execution_count": 1,
      "outputs": [
        {
          "output_type": "execute_result",
          "data": {
            "text/plain": [
              "['a', 'b', 'c', 'd', 'e', 'f']"
            ]
          },
          "metadata": {
            "tags": []
          },
          "execution_count": 1
        }
      ]
    },
    {
      "cell_type": "code",
      "metadata": {
        "colab": {
          "base_uri": "https://localhost:8080/"
        },
        "id": "4Xh_-4DJg3gl",
        "outputId": "28c6228f-5636-46f5-b539-989c94b9f737"
      },
      "source": [
        "l1=[\"a\",\"b\",\"c\",\"d\",\"e\",\"f\"]\n",
        "\n",
        "#If statement. Filter the list if the element is \"a\"\n",
        "\n",
        "[i for i in l1 if i!=\"a\"]"
      ],
      "execution_count": 2,
      "outputs": [
        {
          "output_type": "execute_result",
          "data": {
            "text/plain": [
              "['b', 'c', 'd', 'e', 'f']"
            ]
          },
          "metadata": {
            "tags": []
          },
          "execution_count": 2
        }
      ]
    },
    {
      "cell_type": "code",
      "metadata": {
        "colab": {
          "base_uri": "https://localhost:8080/"
        },
        "id": "UfU2trUfg6D5",
        "outputId": "c5fd0d88-3be7-4f8e-e85b-9d11132837c0"
      },
      "source": [
        "l1=[\"a\",\"b\",\"c\",\"d\",\"e\",\"f\"]\n",
        "\n",
        "#It makes uppercase the letters\n",
        "\n",
        "[i.upper() for i in l1]"
      ],
      "execution_count": 3,
      "outputs": [
        {
          "output_type": "execute_result",
          "data": {
            "text/plain": [
              "['A', 'B', 'C', 'D', 'E', 'F']"
            ]
          },
          "metadata": {
            "tags": []
          },
          "execution_count": 3
        }
      ]
    },
    {
      "cell_type": "code",
      "metadata": {
        "colab": {
          "base_uri": "https://localhost:8080/"
        },
        "id": "CFY2-MKQg73A",
        "outputId": "6d739890-788c-4af8-81e3-e58db23b43e9"
      },
      "source": [
        "l1=[\"a\",\"b\",\"c\",\"d\",\"e\",\"f\"]\n",
        "\n",
        "#It makes uppercase the letters except \"a\"\n",
        "\n",
        "[i.upper() if i!=\"a\" else i for i in l1]"
      ],
      "execution_count": 4,
      "outputs": [
        {
          "output_type": "execute_result",
          "data": {
            "text/plain": [
              "['a', 'B', 'C', 'D', 'E', 'F']"
            ]
          },
          "metadata": {
            "tags": []
          },
          "execution_count": 4
        }
      ]
    },
    {
      "cell_type": "code",
      "metadata": {
        "colab": {
          "base_uri": "https://localhost:8080/"
        },
        "id": "NRtyYFGcg9_v",
        "outputId": "ac399a84-9ac8-48da-a91c-b76cb626eee6"
      },
      "source": [
        "l1=[\"a\",\"b\"]\n",
        "\n",
        "l2=[1,2]\n",
        "\n",
        "#It combines the elements of the l1 and l2\n",
        "\n",
        "[i+str(j) for i in l1 for j in l2]"
      ],
      "execution_count": 5,
      "outputs": [
        {
          "output_type": "execute_result",
          "data": {
            "text/plain": [
              "['a1', 'a2', 'b1', 'b2']"
            ]
          },
          "metadata": {
            "tags": []
          },
          "execution_count": 5
        }
      ]
    },
    {
      "cell_type": "code",
      "metadata": {
        "colab": {
          "base_uri": "https://localhost:8080/"
        },
        "id": "PAG37s2phCjW",
        "outputId": "b3f56e9b-a065-45dc-9797-52d0274a476a"
      },
      "source": [
        "l1=[\"billy@gmail.com\", \"george@hotmail.com\",\"www.billy.com\",\"python.com\", \"mike@predictivehacks.com\"]\n",
        "\n",
        "domains=['gmail.com',\"hotmail.com\"]\n",
        "\n",
        "#It searches for email addresses with domains that are in the list \"domains\"\n",
        "\n",
        "[i for i in l1 for j in domains if j in str(i)]"
      ],
      "execution_count": 6,
      "outputs": [
        {
          "output_type": "execute_result",
          "data": {
            "text/plain": [
              "['billy@gmail.com', 'george@hotmail.com']"
            ]
          },
          "metadata": {
            "tags": []
          },
          "execution_count": 6
        }
      ]
    },
    {
      "cell_type": "code",
      "metadata": {
        "colab": {
          "base_uri": "https://localhost:8080/"
        },
        "id": "zqs7AQiQhHPr",
        "outputId": "639c4cc8-be2e-4020-ddb4-b267d781e351"
      },
      "source": [
        "l1=[\"billy\",\"mike\",\"george\",\"italy\",\"greece\"]\n",
        "\n",
        "#It creates list of tuples containing\n",
        "\n",
        "#the elements of the list with their number of characters\n",
        "\n",
        "[(i,len(i)) for i in l1 ]"
      ],
      "execution_count": 7,
      "outputs": [
        {
          "output_type": "execute_result",
          "data": {
            "text/plain": [
              "[('billy', 5), ('mike', 4), ('george', 6), ('italy', 5), ('greece', 6)]"
            ]
          },
          "metadata": {
            "tags": []
          },
          "execution_count": 7
        }
      ]
    },
    {
      "cell_type": "code",
      "metadata": {
        "colab": {
          "base_uri": "https://localhost:8080/"
        },
        "id": "j6kxf3mjhLfQ",
        "outputId": "c41fa4c1-17f7-4e66-abd2-8f7949d2dd24"
      },
      "source": [
        "l1=[1,2,3,6,0,1,4,5,9,0,1,4,5,0]\n",
        "\n",
        "#It creates a list with items the numbers that are before 0 in l2\n",
        "\n",
        "[l1[i-1] for i,j in enumerate(l1) if j==0]"
      ],
      "execution_count": 8,
      "outputs": [
        {
          "output_type": "execute_result",
          "data": {
            "text/plain": [
              "[6, 9, 5]"
            ]
          },
          "metadata": {
            "tags": []
          },
          "execution_count": 8
        }
      ]
    },
    {
      "cell_type": "code",
      "metadata": {
        "colab": {
          "base_uri": "https://localhost:8080/"
        },
        "id": "j__dDUy0hODD",
        "outputId": "cb17badc-43f0-4d02-ca9d-a56d61cb2a5f"
      },
      "source": [
        "l1=[\"a\",\"b\",\"c\",\"d\",\"e\",\"f\"]\n",
        "\n",
        "#It creates a dictionary\n",
        "\n",
        "{i:i for i in l1}"
      ],
      "execution_count": 9,
      "outputs": [
        {
          "output_type": "execute_result",
          "data": {
            "text/plain": [
              "{'a': 'a', 'b': 'b', 'c': 'c', 'd': 'd', 'e': 'e', 'f': 'f'}"
            ]
          },
          "metadata": {
            "tags": []
          },
          "execution_count": 9
        }
      ]
    },
    {
      "cell_type": "code",
      "metadata": {
        "colab": {
          "base_uri": "https://localhost:8080/"
        },
        "id": "SZOVUM-_hP2e",
        "outputId": "f6382828-ec47-4627-ee30-466fe4326c3e"
      },
      "source": [
        "l1=[\"a\",\"b\",\"c\",\"d\",\"e\",\"f\"]\n",
        "\n",
        "#It creates a dictionary enumerating every item of the list\n",
        "\n",
        "{i:j for i,j in enumerate(l1)}"
      ],
      "execution_count": 10,
      "outputs": [
        {
          "output_type": "execute_result",
          "data": {
            "text/plain": [
              "{0: 'a', 1: 'b', 2: 'c', 3: 'd', 4: 'e', 5: 'f'}"
            ]
          },
          "metadata": {
            "tags": []
          },
          "execution_count": 10
        }
      ]
    },
    {
      "cell_type": "code",
      "metadata": {
        "colab": {
          "base_uri": "https://localhost:8080/"
        },
        "id": "V7Gw0O5GhR-Z",
        "outputId": "5e74d051-ccaf-4add-9190-fa2f958e24bd"
      },
      "source": [
        "d1={0: 'a', 1: 'b', 2: 'c', 3: 'd', 4: 'e', 5: 'f'}\n",
        "\n",
        "#It creates a dictionary adding 1  to the keys of d1\n",
        "\n",
        "{key+1:value for key , value in d1.items()}"
      ],
      "execution_count": 11,
      "outputs": [
        {
          "output_type": "execute_result",
          "data": {
            "text/plain": [
              "{1: 'a', 2: 'b', 3: 'c', 4: 'd', 5: 'e', 6: 'f'}"
            ]
          },
          "metadata": {
            "tags": []
          },
          "execution_count": 11
        }
      ]
    }
  ]
}