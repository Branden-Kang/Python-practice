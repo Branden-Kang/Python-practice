{
  "nbformat": 4,
  "nbformat_minor": 0,
  "metadata": {
    "colab": {
      "name": "Exception Handling Concepts in Python.ipynb",
      "provenance": [],
      "authorship_tag": "ABX9TyN6QgsrAaogSyIXCd4V95Z3"
    },
    "kernelspec": {
      "name": "python3",
      "display_name": "Python 3"
    },
    "language_info": {
      "name": "python"
    }
  },
  "cells": [
    {
      "cell_type": "markdown",
      "metadata": {
        "id": "McluMWPGGHZ3"
      },
      "source": [
        "[Reference](https://pub.towardsai.net/exception-handling-concepts-in-python-4d5116decac3)"
      ]
    },
    {
      "cell_type": "code",
      "metadata": {
        "colab": {
          "base_uri": "https://localhost:8080/"
        },
        "id": "nFUQbbEPFYm3",
        "outputId": "c0c2cb4a-90c1-4646-96f3-c3ea1aa38dc4"
      },
      "source": [
        "x = 4\n",
        "y = 2\n",
        "\n",
        "print(x/y)"
      ],
      "execution_count": 1,
      "outputs": [
        {
          "output_type": "stream",
          "text": [
            "2.0\n"
          ],
          "name": "stdout"
        }
      ]
    },
    {
      "cell_type": "code",
      "metadata": {
        "colab": {
          "base_uri": "https://localhost:8080/"
        },
        "id": "RaUKjo4-GKN3",
        "outputId": "76da3c6f-c40f-4f05-af82-63cb10abc084"
      },
      "source": [
        "x = 4\n",
        "y = 2\n",
        "\n",
        "print(x/y)\n",
        "print(\"All Well\")"
      ],
      "execution_count": 2,
      "outputs": [
        {
          "output_type": "stream",
          "text": [
            "2.0\n",
            "All Well\n"
          ],
          "name": "stdout"
        }
      ]
    },
    {
      "cell_type": "code",
      "metadata": {
        "colab": {
          "base_uri": "https://localhost:8080/",
          "height": 249
        },
        "id": "g2X6t4RtGMIw",
        "outputId": "e1105f2d-c4fb-41aa-8c66-b8accd523226"
      },
      "source": [
        "x = 4\n",
        "y = 0\n",
        "\n",
        "print(x/y)\n",
        "print(\"All Well\")"
      ],
      "execution_count": 3,
      "outputs": [
        {
          "output_type": "error",
          "ename": "ZeroDivisionError",
          "evalue": "ignored",
          "traceback": [
            "\u001b[0;31m---------------------------------------------------------------------------\u001b[0m",
            "\u001b[0;31mZeroDivisionError\u001b[0m                         Traceback (most recent call last)",
            "\u001b[0;32m<ipython-input-3-ec3cb2dad0a0>\u001b[0m in \u001b[0;36m<module>\u001b[0;34m()\u001b[0m\n\u001b[1;32m      2\u001b[0m \u001b[0my\u001b[0m \u001b[0;34m=\u001b[0m \u001b[0;36m0\u001b[0m\u001b[0;34m\u001b[0m\u001b[0;34m\u001b[0m\u001b[0m\n\u001b[1;32m      3\u001b[0m \u001b[0;34m\u001b[0m\u001b[0m\n\u001b[0;32m----> 4\u001b[0;31m \u001b[0mprint\u001b[0m\u001b[0;34m(\u001b[0m\u001b[0mx\u001b[0m\u001b[0;34m/\u001b[0m\u001b[0my\u001b[0m\u001b[0;34m)\u001b[0m\u001b[0;34m\u001b[0m\u001b[0;34m\u001b[0m\u001b[0m\n\u001b[0m\u001b[1;32m      5\u001b[0m \u001b[0mprint\u001b[0m\u001b[0;34m(\u001b[0m\u001b[0;34m\"All Well\"\u001b[0m\u001b[0;34m)\u001b[0m\u001b[0;34m\u001b[0m\u001b[0;34m\u001b[0m\u001b[0m\n",
            "\u001b[0;31mZeroDivisionError\u001b[0m: division by zero"
          ]
        }
      ]
    },
    {
      "cell_type": "code",
      "metadata": {
        "colab": {
          "base_uri": "https://localhost:8080/"
        },
        "id": "3GubVGQQGNkv",
        "outputId": "994b536f-fba9-4853-8099-0e2eaa7f702d"
      },
      "source": [
        "x = 4\n",
        "y = 0\n",
        "\n",
        "#putting the critical statement in a try block\n",
        "try:\n",
        "    print(x/y)\n",
        "    \n",
        "#handling the critical statement in except block\n",
        "except Exception:\n",
        "    print(\"You can not divide the number by Zero\")\n",
        "    \n",
        "print(\"All Well\")"
      ],
      "execution_count": 4,
      "outputs": [
        {
          "output_type": "stream",
          "text": [
            "You can not divide the number by Zero\n",
            "All Well\n"
          ],
          "name": "stdout"
        }
      ]
    },
    {
      "cell_type": "code",
      "metadata": {
        "colab": {
          "base_uri": "https://localhost:8080/"
        },
        "id": "WhPynqquGQ_2",
        "outputId": "e5bc5bdd-d074-4ebe-ed48-6d7be0fe3a61"
      },
      "source": [
        "x = 4\n",
        "y = 0\n",
        "\n",
        "#putting the critical statement in a try block\n",
        "try:\n",
        "    print(x/y)\n",
        "    \n",
        "#handling the critical statement in except block\n",
        "except Exception as e:\n",
        "    print(\"Error:\", e)\n",
        "    \n",
        "print(\"All Well\")"
      ],
      "execution_count": 5,
      "outputs": [
        {
          "output_type": "stream",
          "text": [
            "Error: division by zero\n",
            "All Well\n"
          ],
          "name": "stdout"
        }
      ]
    },
    {
      "cell_type": "code",
      "metadata": {
        "colab": {
          "base_uri": "https://localhost:8080/"
        },
        "id": "VtnWZOpwGUrP",
        "outputId": "59cb0b47-2224-4c56-bda8-b6852fb6a28c"
      },
      "source": [
        "x = 4\n",
        "y = 0\n",
        "\n",
        "#putting the critical statement in a try block\n",
        "try:\n",
        "    print(\"file opened\")   \n",
        "    print(x/y)\n",
        "    print(\"file closed\")\n",
        "    \n",
        "#handling the critical statement in except block\n",
        "except Exception as e:\n",
        "    print(\"Error:\", e)"
      ],
      "execution_count": 6,
      "outputs": [
        {
          "output_type": "stream",
          "text": [
            "file opened\n",
            "Error: division by zero\n"
          ],
          "name": "stdout"
        }
      ]
    },
    {
      "cell_type": "code",
      "metadata": {
        "colab": {
          "base_uri": "https://localhost:8080/"
        },
        "id": "XrAGHSq9GXDd",
        "outputId": "c7d6f28e-546b-4dba-e953-b556ed4f07d5"
      },
      "source": [
        "x = 4\n",
        "y = 0\n",
        "\n",
        "#putting critical statement in try block\n",
        "try:\n",
        "    print(\"file opened\")   \n",
        "    print(x/y)    \n",
        "    \n",
        "#handling the critical statement in except block\n",
        "except Exception as e:\n",
        "    print(\"Error:\", e)\n",
        "    \n",
        "finally:\n",
        "    print(\"file closed\")"
      ],
      "execution_count": 7,
      "outputs": [
        {
          "output_type": "stream",
          "text": [
            "file opened\n",
            "Error: division by zero\n",
            "file closed\n"
          ],
          "name": "stdout"
        }
      ]
    }
  ]
}