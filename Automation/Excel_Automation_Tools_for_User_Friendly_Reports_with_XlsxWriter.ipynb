{
  "nbformat": 4,
  "nbformat_minor": 0,
  "metadata": {
    "colab": {
      "name": "Excel Automation Tools for User-Friendly Reports with XlsxWriter.ipynb",
      "provenance": [],
      "collapsed_sections": [],
      "authorship_tag": "ABX9TyOVGZbfjAmi4QSE/1vawxB4"
    },
    "kernelspec": {
      "name": "python3",
      "display_name": "Python 3"
    },
    "language_info": {
      "name": "python"
    }
  },
  "cells": [
    {
      "cell_type": "markdown",
      "source": [
        "[Reference](https://towardsdatascience.com/excel-automation-tools-for-user-friendly-reports-with-xlsxwriter-557c2332905c)"
      ],
      "metadata": {
        "id": "EZgRQ9sby665"
      }
    },
    {
      "cell_type": "markdown",
      "source": [
        "![automation](https://miro.medium.com/max/640/0*mC_1EWVhMHFlw2DD.png)"
      ],
      "metadata": {
        "id": "dYkvTM2my99n"
      }
    },
    {
      "cell_type": "code",
      "execution_count": 1,
      "metadata": {
        "id": "X5BBM7NzyUNl"
      },
      "outputs": [],
      "source": [
        "# pip install xlsxwriter"
      ]
    },
    {
      "cell_type": "code",
      "source": [
        "# # Formula applied on one cell\n",
        "# worksheet.write_formula('E2', '=VLOOKUP(B2, 'Product Family'!A:B,2,FALSE)')\n",
        "\n",
        "# # Calculate the sales in scope\n",
        "# worksheet.write_array_formula('G1:G1', '{=D1:D1*F2:F2}')"
      ],
      "metadata": {
        "id": "vO74sg6bzBcC"
      },
      "execution_count": 2,
      "outputs": []
    }
  ]
}
