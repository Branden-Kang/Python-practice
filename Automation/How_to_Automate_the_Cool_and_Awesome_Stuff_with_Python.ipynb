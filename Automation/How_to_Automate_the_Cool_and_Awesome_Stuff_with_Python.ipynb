{
  "nbformat": 4,
  "nbformat_minor": 0,
  "metadata": {
    "colab": {
      "name": "How to Automate the Cool and Awesome Stuff with Python.ipynb",
      "provenance": [],
      "authorship_tag": "ABX9TyOY0YFxVTeHGuLyKQi0bZZe"
    },
    "kernelspec": {
      "name": "python3",
      "display_name": "Python 3"
    },
    "language_info": {
      "name": "python"
    }
  },
  "cells": [
    {
      "cell_type": "markdown",
      "metadata": {
        "id": "FVxhru3ywMXQ"
      },
      "source": [
        "[Reference](https://python.plainenglish.io/how-to-automate-the-cool-and-awesome-stuff-with-python-7f5c470f1ed)"
      ]
    },
    {
      "cell_type": "markdown",
      "metadata": {
        "id": "cdh7mkeqwnld"
      },
      "source": [
        "# 1. PDF to Text"
      ]
    },
    {
      "cell_type": "code",
      "metadata": {
        "id": "cWayP4DBwJ32"
      },
      "source": [
        "# PDF to Text\n",
        "\n",
        "import pdfplumbe\n",
        "rpdf = pdfplumber.open('myfile.pdf')\n",
        "print(\"No of Pages: \", print(len(pdf.pages))\n",
        "page = pdf.pages[0] # Scraping page\n",
        "Text = page.extract_text()\n",
        "print(Text)\n",
        "pdf.close()"
      ],
      "execution_count": 1,
      "outputs": []
    },
    {
      "cell_type": "markdown",
      "metadata": {
        "id": "04cQB9luwsvN"
      },
      "source": [
        "# 2. PyWhatsapp"
      ]
    },
    {
      "cell_type": "code",
      "metadata": {
        "id": "QU3GD6Rywrs6"
      },
      "source": [
        "import pywhatkit as py\n",
        "\n",
        "py.sendwhatmsg_instantly(\"+1xxxxxxxxxxx\", \"hello their\") # send message instantly\n",
        "\n",
        "py.sendwhats_image(phone_no=\"+1xxxxxxxxxxx\", img_path=\"image.jpg\", caption=\"Hey! this is Pywhatsapp\") # Send image\n",
        "\n",
        "py.sendwhatmsg(\"+1xxxxxxxxxxx\", \"hello their\", 15, 2) # Send message with Scheduling"
      ],
      "execution_count": 2,
      "outputs": []
    },
    {
      "cell_type": "markdown",
      "metadata": {
        "id": "9yR5xgKqwz5H"
      },
      "source": [
        "# 3. Image Editing"
      ]
    },
    {
      "cell_type": "code",
      "metadata": {
        "id": "2avx3FiJwyq8"
      },
      "source": [
        "# Edit Image with Python\n",
        "\n",
        "# Enhanced Image\n",
        "from PIL import Image,ImageFilter  \n",
        "from PIL import ImageEnhance\n",
        "\n",
        "img = Image.open('img.jpg')\n",
        "img.show()\n",
        "enh = ImageEnhance.Contrast(img)  \n",
        "enh.enhance(1.8).show(\"30% contrast more\")\n",
        "\n",
        "# change Image Typlefrom PIL import Image\n",
        "image = Image.open('img.jpg')\n",
        "image.save('new_img.png')\n",
        "\n",
        "# Resizing Image\n",
        "\n",
        "from PIL import Image\n",
        "\n",
        "img = Image.open('img.jpg')\n",
        "new_img = img.resize((500, 500))\n",
        "new_img.save('resize.jpg')\n",
        "print(img.size) # Output: (1920, 1280)\n",
        "print(new_img.size) # Output: (500, 500)\n",
        "\n",
        "# Flipping image\n",
        "\n",
        "img = Image.open('img.jpg')\n",
        "img_flip = img.transpose(Image.FLIP_LEFT_RIGHT)\n",
        "img_flip.save('img_flip.jpg')"
      ],
      "execution_count": 4,
      "outputs": []
    },
    {
      "cell_type": "markdown",
      "metadata": {
        "id": "YZV-vCezxDBk"
      },
      "source": [
        "# 4. Controlling Keyboard and Mouse"
      ]
    },
    {
      "cell_type": "code",
      "metadata": {
        "id": "N23hk8g8xBIC"
      },
      "source": [
        "# Controling Keyboard and Mouse\n",
        "\n",
        "import pyautogui# Control Mouse\n",
        "\n",
        "currentX, currentY = pyautogui.position() # Current X and Y location\n",
        "pyautogui.moveTo(100, 150) # move mouse to x, y direction\n",
        "pyautogui.click()  # click mouse on current location\n",
        "pyautogui.doubleClick()  # click mouse on current location\n",
        "\n",
        "# Control Keyboardpyautogui.write(\"Hello Pythoneer\") # Write\n",
        "pyautogui.write(['right', 'right', 'right']) # Press multiple\n",
        "pyautogui.press(\"enter\") # Press a key\n",
        "pyautogui.hotkey('ctrl', 'c') # Press combo keys\n",
        "pyautogui.keyUp('ctrl')\n",
        "pyautogui.keyDown('ctrl')"
      ],
      "execution_count": 5,
      "outputs": []
    },
    {
      "cell_type": "markdown",
      "metadata": {
        "id": "AxPkBpSHxJWe"
      },
      "source": [
        "# 5. Send Email"
      ]
    },
    {
      "cell_type": "code",
      "metadata": {
        "id": "2pq1bCoWxIYq"
      },
      "source": [
        "import smtplib\n",
        "from email.mime.text import MIMEText\n",
        "\n",
        "sender = 'sender@.com'\n",
        "receivers = 'receiver@.com'\n",
        "body_of_email = 'The body of the email'\n",
        "msg = MIMEText(body_of_email, 'plain')\n",
        "\n",
        "msg['Subject'] = 'Enter Subject'\n",
        "msg['From'] = sender\n",
        "msg['To'] = receiver\n",
        "\n",
        "s = smtplib.SMTP_SSL(host = 'smtp.gmail.com', port = 465)\n",
        "s.login(user = 'email', password = 'password')\n",
        "s.sendmail(sender, receivers, msg.as_string())\n",
        "s.quit()"
      ],
      "execution_count": 6,
      "outputs": []
    },
    {
      "cell_type": "markdown",
      "metadata": {
        "id": "O3xwrWGYxQC2"
      },
      "source": [
        "# 6. Send Text Message"
      ]
    },
    {
      "cell_type": "code",
      "metadata": {
        "id": "xtgTsIgixO4x"
      },
      "source": [
        "# Send Text Messages\n",
        "\n",
        "from twilio.rest import Client\n",
        "  \n",
        "account_sid = 'ACXXXXXXXXXXXXXXXXXXXXXXXXXX'\n",
        "auth_token = 'your_auth_token'\n",
        "  \n",
        "client = Client(account_sid, auth_token)\n",
        "  \n",
        "message = client.messages.create(from_='+1xxxxxxxxxx', body ='Enter Text Message', to ='+1xxxxxxxxxx')\n",
        "  \n",
        "print(message.sid)"
      ],
      "execution_count": 7,
      "outputs": []
    },
    {
      "cell_type": "markdown",
      "metadata": {
        "id": "_c-C6YinxTGo"
      },
      "source": [
        "# 7. Read Excel File"
      ]
    },
    {
      "cell_type": "code",
      "metadata": {
        "id": "kap4MIUNxSIU"
      },
      "source": [
        "# Excel Reading\n",
        "\n",
        "import openpyxl\n",
        "\n",
        "wb = openpyxl.load_workbook(\"filename.xlsx\")\n",
        "sheet = wb.activ\n",
        "\n",
        "for i in range(sheet.max_column):\n",
        "    print(\"Column: \", i)\n",
        "    for r in sheet.iter_rows():\n",
        "        print(r[i].value)"
      ],
      "execution_count": 8,
      "outputs": []
    },
    {
      "cell_type": "markdown",
      "metadata": {
        "id": "KEFQ4LtXxXaf"
      },
      "source": [
        "# 8. Scrape Websites"
      ]
    },
    {
      "cell_type": "code",
      "metadata": {
        "id": "_hNWeGC5xWhD"
      },
      "source": [
        "# Scrape Websites\n",
        "\n",
        "import requests\n",
        "from bs4 import BeautifulSoup\n",
        "\n",
        "r =  requests.get(\"xyz.com\")\n",
        "\n",
        "soup = BeautifulSoup(r, \"html5lib\").text\n",
        "\n",
        "print(soup.prettify())\n",
        "\n",
        "print(\"Title: \")\n",
        "\n",
        "title = Soup.find(\"title\")\n",
        "Content = Soup.find(\"div\", attrs = {\"class\" : \"Content\"})"
      ],
      "execution_count": 9,
      "outputs": []
    },
    {
      "cell_type": "markdown",
      "metadata": {
        "id": "7rvorEL-xeC4"
      },
      "source": [
        "# 9. Develop Games"
      ]
    },
    {
      "cell_type": "code",
      "metadata": {
        "id": "oAZaDX5AxeOl"
      },
      "source": [
        "from turtle import *\n",
        "from freegames import line\n",
        "\n",
        "def grid():\n",
        "    \"Draw tic-tac-toe grid.\"\n",
        "    line(-67, 200, -67, -200)\n",
        "    line(67, 200, 67, -200)\n",
        "    line(-200, -67, 200, -67)\n",
        "    line(-200, 67, 200, 67)\n",
        "    \n",
        "def drawx(x, y):\n",
        "    \"Draw X player.\"\n",
        "    line(x, y, x + 133, y + 133)\n",
        "    line(x, y + 133, x + 133, y)\n",
        "    \n",
        "def drawo(x, y):\n",
        "    \"Draw O player.\"\n",
        "    up()\n",
        "    goto(x + 67, y + 5)\n",
        "    down()\n",
        "    circle(62)\n",
        "    \n",
        "def floor(value):\n",
        "    \"Round value down to grid with square size 133.\"\n",
        "    return ((value + 200) // 133) * 133 - 200\n",
        "    \n",
        "state = {'player': 0}\n",
        "players = [drawx, drawo]\n",
        "\n",
        "def tap(x, y):\n",
        "    \"Draw X or O in tapped square.\"\n",
        "    x = floor(x)\n",
        "    y = floor(y)\n",
        "    player = state['player']\n",
        "    draw = players[player]\n",
        "    draw(x, y)\n",
        "    update()\n",
        "    state['player'] = not player\n",
        "    \n",
        "setup(420, 420, 370, 0)\n",
        "hideturtle()\n",
        "tracer(False)\n",
        "grid()\n",
        "update()\n",
        "onscreenclick(tap)\n",
        "done()"
      ],
      "execution_count": 10,
      "outputs": []
    }
  ]
}