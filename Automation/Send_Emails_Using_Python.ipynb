{
  "nbformat": 4,
  "nbformat_minor": 0,
  "metadata": {
    "colab": {
      "name": "Send Emails Using Python.ipynb",
      "provenance": [],
      "authorship_tag": "ABX9TyPzOAbqAILhvAnmAVDkXKM/"
    },
    "kernelspec": {
      "name": "python3",
      "display_name": "Python 3"
    },
    "language_info": {
      "name": "python"
    }
  },
  "cells": [
    {
      "cell_type": "markdown",
      "source": [
        "[Reference](https://akshita-chugh024.medium.com/send-emails-using-python-1e4eaebdfd87)"
      ],
      "metadata": {
        "id": "x3sDA5PdjEac"
      }
    },
    {
      "cell_type": "code",
      "execution_count": 1,
      "metadata": {
        "id": "TWKQ3rtOjBwW"
      },
      "outputs": [],
      "source": [
        "import os\n",
        "import smtplib\n",
        "import imghdr\n",
        "from email.message import EmailMessage\n",
        "EMAIL_ADDRESS = 'akshita.chugh09@gmail.com'\n",
        "EMAIL_PASSWORD = 'akshita09@'\n",
        "contacts = [ EMAIL_ADDRESS,  'akshita.chugh09@gmail.com']\n",
        "msg = EmailMessage()\n",
        "msg['Subject'] = 'Hey!'\n",
        "msg['From'] = EMAIL_ADDRESS\n",
        "msg['To'] = 'akshita.chugh024@gmail.com'\n",
        "msg.set_content('This is a plain text email')\n",
        "msg.add_alternative(\"\"\"\\\n",
        "<!DOCTYPE html>\n",
        "<html>\n",
        "    <body>\n",
        "        <h3 style=\"color:Black;\">Hi</h3>\n",
        "        <h3 style=\"color:Black;\"> How are you ?</h3>\n",
        "        \n",
        "    </body>\n",
        "</html>\n",
        "\"\"\", subtype='html')\n",
        "with smtplib.SMTP_SSL('smtp.gmail.com', 465) as smtp:\n",
        "    smtp.login(EMAIL_ADDRESS, EMAIL_PASSWORD)\n",
        "    smtp.send_message(msg)"
      ]
    }
  ]
}
