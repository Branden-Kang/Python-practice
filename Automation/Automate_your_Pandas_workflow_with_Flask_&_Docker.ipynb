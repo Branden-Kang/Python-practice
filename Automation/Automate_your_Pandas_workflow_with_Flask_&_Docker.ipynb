{
  "nbformat": 4,
  "nbformat_minor": 0,
  "metadata": {
    "colab": {
      "name": "Automate your Pandas workflow with Flask & Docker.ipynb",
      "provenance": [],
      "authorship_tag": "ABX9TyOQeMQdPLhdtip7qT9G7U56"
    },
    "kernelspec": {
      "name": "python3",
      "display_name": "Python 3"
    },
    "language_info": {
      "name": "python"
    }
  },
  "cells": [
    {
      "cell_type": "markdown",
      "metadata": {
        "id": "Lek_W54HA3_U"
      },
      "source": [
        "[Reference](https://medium.com/analytics-vidhya/automate-your-pandas-workflow-with-flask-docker-28e5ab461288)"
      ]
    },
    {
      "cell_type": "code",
      "metadata": {
        "id": "4-1PIdMhx0Ab"
      },
      "source": [
        "from flask import Flask\n",
        "\n",
        "app = Flask(__name__)\n",
        "\n",
        "@app.route(\"/\")\n",
        "def hello_world():\n",
        "    return \"<p>Hello, World!</p>\""
      ],
      "execution_count": 1,
      "outputs": []
    },
    {
      "cell_type": "markdown",
      "metadata": {
        "id": "CNAVG4CnCZXz"
      },
      "source": [
        "# Add your Pandas workflow to the Flask application"
      ]
    },
    {
      "cell_type": "code",
      "metadata": {
        "id": "7n4gyJkgCWu9"
      },
      "source": [
        "from flask import Flask\n",
        "import pandas as pd\n",
        "\n",
        "app = Flask(__name__)\n",
        "\n",
        "@app.route(\"/\")\n",
        "def hello_world():\n",
        "    mydata = {\n",
        "        \"name\":[\"John\",\"Danny\",\"Patricia\",\"Rose\"],\n",
        "        \"office\":[\"HR\",\"Sales\",\"Sales\",\"HR\"],\n",
        "        \"salary\":[55,67,58,60]\n",
        "    }\n",
        "    df = pd.DataFrame(mydata)\n",
        "    mean_salary = df['salary'].mean()\n",
        "    return \"The mean salary is %f\" % mean_salary\n",
        "\n",
        "if __name__ == \"__main__\":\n",
        "    app.run(host='0.0.0.0', debug=True, port=80)"
      ],
      "execution_count": 2,
      "outputs": []
    },
    {
      "cell_type": "markdown",
      "metadata": {
        "id": "t8sNmnTaCgNS"
      },
      "source": [
        "# Create a Docker container"
      ]
    },
    {
      "cell_type": "markdown",
      "metadata": {
        "id": "f_OlI0yoCiO_"
      },
      "source": [
        "```python\n",
        "# Get image from docker hub\n",
        "FROM tiangolo/meinheld-gunicorn-flask:python3.9\n",
        "\n",
        "# If you need to install any apt package you can do it here e.g:\n",
        "# RUN apt-get update && apt-get install -y pandoc\n",
        "\n",
        "# Copy the requirements file into the container.\n",
        "# The requirements file is a list of all pip packages we need.\n",
        "COPY ./requirements.txt /app/requirements.txt\n",
        "\n",
        "RUN pip install --no-cache-dir --upgrade -r /app/requirements.txt\n",
        "\n",
        "COPY ./app /app\n",
        "```"
      ]
    },
    {
      "cell_type": "markdown",
      "metadata": {
        "id": "Up8IzIlgCntF"
      },
      "source": [
        "```python\n",
        "version: \"3\"\n",
        "services:\n",
        "  web:\n",
        "    build: .\n",
        "    ports:\n",
        "      - \"80:80\"\n",
        "```"
      ]
    },
    {
      "cell_type": "code",
      "metadata": {
        "id": "52xB5zYdCYN5"
      },
      "source": [
        "from main import app\n",
        "\n",
        "if __name__ == \"__main__\":\n",
        "    app.run()"
      ],
      "execution_count": 3,
      "outputs": []
    },
    {
      "cell_type": "markdown",
      "metadata": {
        "id": "c8mJvzAOCt23"
      },
      "source": [
        "# Build and Run the Container\n",
        "\n",
        "```python\n",
        "docker-compose build\n",
        "\n",
        "docker-compose up -d\n",
        "```"
      ]
    }
  ]
}