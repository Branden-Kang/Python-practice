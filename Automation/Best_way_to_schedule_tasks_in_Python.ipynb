{
  "nbformat": 4,
  "nbformat_minor": 0,
  "metadata": {
    "colab": {
      "name": "Best way to schedule tasks in Python.ipynb",
      "provenance": [],
      "authorship_tag": "ABX9TyPYZNf0JO0YF6gmgAxrfi74"
    },
    "kernelspec": {
      "name": "python3",
      "display_name": "Python 3"
    },
    "language_info": {
      "name": "python"
    }
  },
  "cells": [
    {
      "cell_type": "markdown",
      "source": [
        "[Reference](https://medium.com/codestorm/best-way-to-schedule-tasks-in-python-9b8736e3e1b5)"
      ],
      "metadata": {
        "id": "mnqLgk9yyzmn"
      }
    },
    {
      "cell_type": "code",
      "execution_count": 1,
      "metadata": {
        "colab": {
          "base_uri": "https://localhost:8080/"
        },
        "id": "_GzaAYuwyx3O",
        "outputId": "7c5183df-b2cc-4e3e-c5aa-69e5a5efdf5b"
      },
      "outputs": [
        {
          "output_type": "stream",
          "name": "stdout",
          "text": [
            "Looking in indexes: https://pypi.org/simple, https://us-python.pkg.dev/colab-wheels/public/simple/\n",
            "Collecting schedule\n",
            "  Downloading schedule-1.1.0-py2.py3-none-any.whl (10 kB)\n",
            "Installing collected packages: schedule\n",
            "Successfully installed schedule-1.1.0\n"
          ]
        }
      ],
      "source": [
        "pip install schedule"
      ]
    },
    {
      "cell_type": "code",
      "source": [
        "import schedule\n",
        "import time\n",
        "\n",
        "def job():\n",
        "    print(\"I'm working...\")\n",
        "\n",
        "def done():\n",
        "    print(\"I'm home...\")\n",
        "\n",
        "def meeting():\n",
        "    print(\"I'm in a Meeting...\")\n",
        "\n",
        "schedule.every(3).seconds.do(job)\n",
        "schedule.every(10).minutes.do(job)\n",
        "schedule.every().hour.do(job)\n",
        "schedule.every().day.at(\"17:30\").do(done)\n",
        "schedule.every().monday.do(job)\n",
        "schedule.every().wednesday.at(\"13:15\").do(meeting)\n",
        "schedule.every().minute.at(\":17\").do(job)\n",
        "\n",
        "while True:\n",
        "    schedule.run_pending()\n",
        "    time.sleep(1)"
      ],
      "metadata": {
        "colab": {
          "base_uri": "https://localhost:8080/",
          "height": 436
        },
        "id": "nY1SRJIoy3yu",
        "outputId": "cad4cf08-4005-41e1-b537-4c124ef9db5b"
      },
      "execution_count": 3,
      "outputs": [
        {
          "output_type": "stream",
          "name": "stdout",
          "text": [
            "I'm working...\n",
            "I'm working...\n",
            "I'm working...\n",
            "I'm working...\n",
            "I'm working...\n",
            "I'm working...\n",
            "I'm working...\n",
            "I'm working...\n",
            "I'm working...\n",
            "I'm working...\n",
            "I'm working...\n",
            "I'm working...\n"
          ]
        },
        {
          "output_type": "error",
          "ename": "KeyboardInterrupt",
          "evalue": "ignored",
          "traceback": [
            "\u001b[0;31m---------------------------------------------------------------------------\u001b[0m",
            "\u001b[0;31mKeyboardInterrupt\u001b[0m                         Traceback (most recent call last)",
            "\u001b[0;32m<ipython-input-3-4bf00384f8a0>\u001b[0m in \u001b[0;36m<module>\u001b[0;34m()\u001b[0m\n\u001b[1;32m     21\u001b[0m \u001b[0;32mwhile\u001b[0m \u001b[0;32mTrue\u001b[0m\u001b[0;34m:\u001b[0m\u001b[0;34m\u001b[0m\u001b[0;34m\u001b[0m\u001b[0m\n\u001b[1;32m     22\u001b[0m     \u001b[0mschedule\u001b[0m\u001b[0;34m.\u001b[0m\u001b[0mrun_pending\u001b[0m\u001b[0;34m(\u001b[0m\u001b[0;34m)\u001b[0m\u001b[0;34m\u001b[0m\u001b[0;34m\u001b[0m\u001b[0m\n\u001b[0;32m---> 23\u001b[0;31m     \u001b[0mtime\u001b[0m\u001b[0;34m.\u001b[0m\u001b[0msleep\u001b[0m\u001b[0;34m(\u001b[0m\u001b[0;36m1\u001b[0m\u001b[0;34m)\u001b[0m\u001b[0;34m\u001b[0m\u001b[0;34m\u001b[0m\u001b[0m\n\u001b[0m",
            "\u001b[0;31mKeyboardInterrupt\u001b[0m: "
          ]
        }
      ]
    }
  ]
}
