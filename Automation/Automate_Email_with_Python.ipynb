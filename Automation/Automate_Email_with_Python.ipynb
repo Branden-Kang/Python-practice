{
  "nbformat": 4,
  "nbformat_minor": 0,
  "metadata": {
    "colab": {
      "name": "Automate Email with Python.ipynb",
      "provenance": [],
      "authorship_tag": "ABX9TyPL0BhimgvxviP8ZevXpyTP"
    },
    "kernelspec": {
      "name": "python3",
      "display_name": "Python 3"
    }
  },
  "cells": [
    {
      "cell_type": "markdown",
      "metadata": {
        "id": "4vmAGkZtoivO"
      },
      "source": [
        "[Reference1](https://towardsdatascience.com/automate-email-with-python-1e755d9c6276) <br>\n",
        "[Reference2](https://towardsdatascience.com/notify-with-python-41b77d51657e)"
      ]
    },
    {
      "cell_type": "markdown",
      "metadata": {
        "id": "5vY3fKIto-X4"
      },
      "source": [
        "# MIME"
      ]
    },
    {
      "cell_type": "markdown",
      "metadata": {
        "id": "BgzOdR7uoqf6"
      },
      "source": [
        "```python\n",
        "from email.mime.multipart import MIMEMultipart\n",
        "from email.mime.text import MIMEText\n",
        "from email.mime.image import MIMEImage\n",
        "from email.mime.application import MIMEApplication\n",
        "from email.mime.audio import MIMEAudio\n",
        "\n",
        "msg = MIMEMultipart  # initialize the MIME object, containing our email message\n",
        "msg.attach(MIMEText(text))  # add text contents\n",
        "\n",
        "img_data = open('image.jpg', 'rb').read()  # read an image binary data\n",
        "msg.attach(MIMEImage(img_data))  # add the image to our message object\n",
        "\n",
        "# read in attachment as binary\n",
        "with open('report.docx', 'rb') as f:\n",
        "    file = MIMEApplication(f.read())  # read the attachment file\n",
        "msg.attach(file)  # add the attachment to our message object\n",
        "```"
      ]
    },
    {
      "cell_type": "markdown",
      "metadata": {
        "id": "4D6BsjLpo6Nb"
      },
      "source": [
        "```python\n",
        "import os\n",
        "from email.mime.text import MIMEText\n",
        "from email.mime.image import MIMEImage\n",
        "from email.mime.application import MIMEApplication\n",
        "from email.mime.multipart import MIMEMultipart\n",
        "\n",
        "def message(subject=\"Python Notification\", text=\"\", img=None, attachment=None):\n",
        "    # build message contents\n",
        "    msg = MIMEMultipart()\n",
        "    msg['Subject'] = subject  # add in the subject\n",
        "    msg.attach(MIMEText(text))  # add text contents\n",
        "\n",
        "    # check if we have anything given in the img parameter\n",
        "    if img is not None:\n",
        "        # if we do, we want to iterate through the images, so let's check that\n",
        "        # what we have is actually a list\n",
        "        if type(img) is not list:\n",
        "            img = [img]  # if it isn't a list, make it one\n",
        "        # now iterate through our list\n",
        "        for one_img in img:\n",
        "            img_data = open(one_img, 'rb').read()  # read the image binary data\n",
        "            # attach the image data to MIMEMultipart using MIMEImage, we add\n",
        "            # the given filename use os.basename\n",
        "            msg.attach(MIMEImage(img_data, name=os.path.basename(one_img)))\n",
        "\n",
        "    # we do the same for attachments as we did for images\n",
        "    if attachment is not None:\n",
        "        if type(attachment) is not list:\n",
        "            attachment = [attachment]  # if it isn't a list, make it one\n",
        "            \n",
        "        for one_attachment in attachment:\n",
        "            with open(one_attachment, 'rb') as f:\n",
        "                # read in the attachment using MIMEApplication\n",
        "                file = MIMEApplication(\n",
        "                    f.read(),\n",
        "                    name=os.path.basename(one_attachment)\n",
        "                )\n",
        "            # here we edit the attached file metadata\n",
        "            file['Content-Disposition'] = f'attachment; filename=\"{os.path.basename(one_attachment)}\"'\n",
        "            msg.attach(file)  # finally, add the attachment to our message object\n",
        "    return msg\n",
        "```"
      ]
    },
    {
      "cell_type": "markdown",
      "metadata": {
        "id": "425ikIiAp-kj"
      },
      "source": [
        "```python\n",
        "email_msg = message(\n",
        "    text=\"Model processing complete, please see attached data.\",\n",
        "    img=['accuracy.png', 'loss.png'],\n",
        "    attachments=['data_in.csv', 'data_out.csv']\n",
        ")\n",
        "```"
      ]
    },
    {
      "cell_type": "markdown",
      "metadata": {
        "id": "tgSLOwdBo8WG"
      },
      "source": [
        "# SMTP"
      ]
    },
    {
      "cell_type": "markdown",
      "metadata": {
        "id": "LcARG9SXpAzX"
      },
      "source": [
        "![smtp](https://miro.medium.com/max/1400/1*tGCyXhXldhyxxGUsh9Yw6w.png)"
      ]
    },
    {
      "cell_type": "markdown",
      "metadata": {
        "id": "Mgq3PH8VpSjQ"
      },
      "source": [
        "```python\n",
        "import smtplib\n",
        "\n",
        "# initialize connection to our email server, we will use Outlook here\n",
        "smtp = smtplib.SMTP('smtp-mail.outlook.com', port='587')\n",
        "\n",
        "smtp.ehlo()  # send the extended hello to our server\n",
        "smtp.starttls()  # tell server we want to communicate with TLS encryption\n",
        "\n",
        "smtp.login('joe.bloggs@outlook.com', 'Password123')  # login to our email server\n",
        "\n",
        "# send our email message 'msg' to our boss\n",
        "smtp.sendmail('joe.bloggs@outlook.com',\n",
        "              'joes.boss@outlook.com',\n",
        "              msg.as_string())\n",
        "              \n",
        "smtp.quit()  # finally, don't forget to close the connection\n",
        "```"
      ]
    },
    {
      "cell_type": "markdown",
      "metadata": {
        "id": "MpVExYA0pwlo"
      },
      "source": [
        "# Notify"
      ]
    },
    {
      "cell_type": "markdown",
      "metadata": {
        "id": "ehsszN_FpsjJ"
      },
      "source": [
        "```python\n",
        "import notify\n",
        "\n",
        "START = datetime.now()  # this line would be placed before model training begins\n",
        "MODELNAME = \"Synthwave GAN\"  # giving us our model name\n",
        "NOTIFY = 100  # so we send an update notification every 100 epochs\n",
        "\n",
        "# for each epoch e, we would include the following code\n",
        "if e % notify_epoch == 0 and e != 0:\n",
        "    # here we create the email body message\n",
        "    txt = (f\"{MODELNAME} update as of \"\n",
        "           f\"{datetime.now().strftime('%H:%M:%S')}.\")\n",
        "\n",
        "    # we build the MIME message object with notify.message\n",
        "    msg = notify.message(\n",
        "        subject='Synthwave GAN',\n",
        "        text=txt,\n",
        "        img=[\n",
        "            f'../visuals/{MODELNAME}/epoch_{e}_loss.png',\n",
        "            f'../visuals/{MODELNAME}/epoch_{e}_iter_{i}.png'\n",
        "        ]\n",
        "    )  # note that we attach two images here, the loss plot and\n",
        "    #    ...a generated image output from our model\n",
        "           \n",
        "    notify.send(msg)  # we then send the message\n",
        "```"
      ]
    },
    {
      "cell_type": "markdown",
      "metadata": {
        "id": "n5yYvbvrpz5t"
      },
      "source": [
        "```python\n",
        "import os\n",
        "import notify\n",
        "from data import Sql  # see https://jamescalam.github.io/pysqlplus/lib/data/sql.html\n",
        "\n",
        "dt = Sql('database123', 'server001')  # setup the connection to SQL Server\n",
        "\n",
        "for i, file in enumerate(os.listdir('../data/new')):\n",
        "    dt.push_raw(f'../data/new/{file}')  # push a file to SQL Server\n",
        "\n",
        "# once the upload is complete, send a notification\n",
        "# first we create the message\n",
        "msg = notify.message(\n",
        "    subject='SQL Data Upload',\n",
        "    text=f'Data upload complete, {i} files uploaded.',\n",
        ")\n",
        "\n",
        "# send the message\n",
        "notify.send(msg)\n",
        "```"
      ]
    },
    {
      "cell_type": "markdown",
      "metadata": {
        "id": "rZ2qAuO8p4Db"
      },
      "source": [
        "```python\n",
        "end = datetime.datetime.now()  # get the ending datetime\n",
        "\n",
        "# get the total runtime in hours:minutes:seconds\n",
        "hours, rem = divmod((end - start).seconds, 3600)\n",
        "mins, secs = divmod(rem, 60)\n",
        "runtime = '{:02d}:{:02d}:{:02d}'.format(hours, mins, secs)\n",
        "\n",
        "# now built our message\n",
        "notify.msg(\n",
        "    subject=\"Cashflow Model Completion\",\n",
        "    text=(f'{len(model.output)} loans processed.\\n'\n",
        "          f'Total runtime: {runtime}'),\n",
        "    img=[\n",
        "        '../vis/loan01_amortisation.png',\n",
        "        '../vis/loan07_amortisation.png',\n",
        "        '../vis/loan01_profit_and_loss.png',\n",
        "        '../vis/loan07_profit_and_loss.png'\n",
        "    ]\n",
        ")\n",
        "\n",
        "notify.send(msg)  # and send it\n",
        "```"
      ]
    },
    {
      "cell_type": "markdown",
      "metadata": {
        "id": "ygkF_8dUqGyj"
      },
      "source": [
        "```python\n",
        "import smtplib\n",
        "import socket\n",
        "\n",
        "def send(msg, server='smtp-mail.outlook.com', port='587'):\n",
        "    # contain following in try-except in case of momentary network errors\n",
        "    try:\n",
        "        # initialise connection to email server, the default is Outlook\n",
        "        smtp = smtplib.SMTP(server, port)\n",
        "        # this is the 'Extended Hello' command, essentially greeting our SMTP or ESMTP server\n",
        "        smtp.ehlo()\n",
        "        # this is the 'Start Transport Layer Security' command, tells the server we will\n",
        "        # be communicating with TLS encryption\n",
        "        smtp.starttls()\n",
        "        \n",
        "        # read email and password from file\n",
        "        with open('../data/email.txt', 'r') as fp:\n",
        "            email = fp.read()\n",
        "        with open('../data/password.txt', 'r') as fp:\n",
        "            pwd = fp.read()\n",
        "            \n",
        "        # login to outlook server\n",
        "        smtp.login(email, pwd)\n",
        "        # send notification to self\n",
        "        smtp.sendmail(email, email, msg.as_string())\n",
        "        # disconnect from the server\n",
        "        smtp.quit()\n",
        "    except socket.gaierror:\n",
        "        print(\"Network connection error, email not sent.\")\n",
        "```"
      ]
    },
    {
      "cell_type": "markdown",
      "metadata": {
        "id": "ACzdyUp0qLiz"
      },
      "source": [
        "```python\n",
        "# build a message object\n",
        "msg = message(text=\"See attached!\", img='important.png',\n",
        "              attachment='data.csv')send(msg)  # send the email (defaults to Outlook)\n",
        "```"
      ]
    }
  ]
}