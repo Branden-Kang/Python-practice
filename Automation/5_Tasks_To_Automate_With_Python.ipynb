{
  "nbformat": 4,
  "nbformat_minor": 0,
  "metadata": {
    "colab": {
      "name": "5 Tasks To Automate With Python.ipynb",
      "provenance": [],
      "authorship_tag": "ABX9TyO8fOFc53TcgE4vfjCMHHf+"
    },
    "kernelspec": {
      "name": "python3",
      "display_name": "Python 3"
    },
    "language_info": {
      "name": "python"
    }
  },
  "cells": [
    {
      "cell_type": "markdown",
      "metadata": {
        "id": "17AYkqwNWRJe"
      },
      "source": [
        "[Reference](https://medium.com/robotacademy/5-tasks-to-automate-with-python-e7146996f3)"
      ]
    },
    {
      "cell_type": "markdown",
      "metadata": {
        "id": "-O531HmWWWm0"
      },
      "source": [
        "# 1. Reading"
      ]
    },
    {
      "cell_type": "code",
      "metadata": {
        "colab": {
          "base_uri": "https://localhost:8080/"
        },
        "id": "OxViObkuWPBC",
        "outputId": "a407aaac-2ed5-49ed-8b7e-97a9f5c8d9e5"
      },
      "source": [
        "pip install mac-say"
      ],
      "execution_count": 1,
      "outputs": [
        {
          "output_type": "stream",
          "text": [
            "Collecting mac-say\n",
            "  Downloading https://files.pythonhosted.org/packages/8c/45/acc16c9f1be881de64d7efa671ebf40479fd3b3df11113439f16cacd5d4a/mac-say-2020.12.3.tar.gz\n",
            "Requirement already satisfied: click in /usr/local/lib/python3.7/dist-packages (from mac-say) (7.1.2)\n",
            "Collecting gTTS\n",
            "  Downloading https://files.pythonhosted.org/packages/5f/b9/94e59337107be134b21ce395a29fc0715b707b560108d6797de2d93e1178/gTTS-2.2.2-py3-none-any.whl\n",
            "Collecting listify\n",
            "  Downloading https://files.pythonhosted.org/packages/bc/fa/8af6375eacd113e5897c01422a6694451ef05370c9ab874fe3398949a6d2/listify-2020.12.3.tar.gz\n",
            "Collecting runcmd\n",
            "  Downloading https://files.pythonhosted.org/packages/41/b7/08c18bc2944c0443aa77672e5610e861c6946f93f247bef0aa8d7737b248/runcmd-2020.12.3.tar.gz\n",
            "Collecting values\n",
            "  Downloading https://files.pythonhosted.org/packages/cc/18/952219903bde3175113927866c19b536cfcea3259cd4e3fdacb8604723f6/values-2020.12.3.tar.gz\n",
            "Requirement already satisfied: requests in /usr/local/lib/python3.7/dist-packages (from gTTS->mac-say) (2.23.0)\n",
            "Requirement already satisfied: six in /usr/local/lib/python3.7/dist-packages (from gTTS->mac-say) (1.15.0)\n",
            "Requirement already satisfied: psutil in /usr/local/lib/python3.7/dist-packages (from runcmd->mac-say) (5.4.8)\n",
            "Requirement already satisfied: certifi>=2017.4.17 in /usr/local/lib/python3.7/dist-packages (from requests->gTTS->mac-say) (2020.12.5)\n",
            "Requirement already satisfied: idna<3,>=2.5 in /usr/local/lib/python3.7/dist-packages (from requests->gTTS->mac-say) (2.10)\n",
            "Requirement already satisfied: urllib3!=1.25.0,!=1.25.1,<1.26,>=1.21.1 in /usr/local/lib/python3.7/dist-packages (from requests->gTTS->mac-say) (1.24.3)\n",
            "Requirement already satisfied: chardet<4,>=3.0.2 in /usr/local/lib/python3.7/dist-packages (from requests->gTTS->mac-say) (3.0.4)\n",
            "Building wheels for collected packages: mac-say, listify, runcmd, values\n",
            "  Building wheel for mac-say (setup.py) ... \u001b[?25l\u001b[?25hdone\n",
            "  Created wheel for mac-say: filename=mac_say-2020.12.3-cp37-none-any.whl size=2369 sha256=2076b18dad31da8494834bec4d3473b6502bdbaf42e0ef20aecdc19d173f7d22\n",
            "  Stored in directory: /root/.cache/pip/wheels/1a/66/7b/857d205f00b3951756eb8fdb5961011f9fd2c06b87bd440074\n",
            "  Building wheel for listify (setup.py) ... \u001b[?25l\u001b[?25hdone\n",
            "  Created wheel for listify: filename=listify-2020.12.3-cp37-none-any.whl size=1420 sha256=f43b4c465ab97db0e9c3f27da873ee0ee677c5771b1d3b30a3dadb238dd850e5\n",
            "  Stored in directory: /root/.cache/pip/wheels/c3/af/e3/1103f0b59478ee8099c58321819e586833d3c9ff42ab906e4e\n",
            "  Building wheel for runcmd (setup.py) ... \u001b[?25l\u001b[?25hdone\n",
            "  Created wheel for runcmd: filename=runcmd-2020.12.3-cp37-none-any.whl size=2390 sha256=ee93f4af73dc9a6489f4dc68df9a5b4e132077169aed0a506f99179a97e3a498\n",
            "  Stored in directory: /root/.cache/pip/wheels/97/da/4a/919941336da2cf9602c5146115b86073a5dc6d6e4a4524b400\n",
            "  Building wheel for values (setup.py) ... \u001b[?25l\u001b[?25hdone\n",
            "  Created wheel for values: filename=values-2020.12.3-cp37-none-any.whl size=1403 sha256=8958ec58cf5c43c59f135e6a15d1ad12bd0ee7e4d4ec4ec74c284eceb390317b\n",
            "  Stored in directory: /root/.cache/pip/wheels/6f/ae/4f/3c3954bcfd34d33a760db86564e53eed2817cf4c1540ec35b5\n",
            "Successfully built mac-say listify runcmd values\n",
            "Installing collected packages: gTTS, listify, runcmd, values, mac-say\n",
            "Successfully installed gTTS-2.2.2 listify-2020.12.3 mac-say-2020.12.3 runcmd-2020.12.3 values-2020.12.3\n"
          ],
          "name": "stdout"
        }
      ]
    },
    {
      "cell_type": "code",
      "metadata": {
        "colab": {
          "base_uri": "https://localhost:8080/",
          "height": 443
        },
        "id": "KYQYdcWPWXy7",
        "outputId": "bb27d023-b2f9-4396-9a7d-9c42ba729702"
      },
      "source": [
        "import sys\n",
        "import mac_say\n",
        "mac_say.say([\"-f\", sys.argv[1], \"-v\", \"Alex\"])"
      ],
      "execution_count": 3,
      "outputs": [
        {
          "output_type": "error",
          "ename": "FileNotFoundError",
          "evalue": "ignored",
          "traceback": [
            "\u001b[0;31m---------------------------------------------------------------------------\u001b[0m",
            "\u001b[0;31mFileNotFoundError\u001b[0m                         Traceback (most recent call last)",
            "\u001b[0;32m<ipython-input-3-752bedc06e85>\u001b[0m in \u001b[0;36m<module>\u001b[0;34m()\u001b[0m\n\u001b[1;32m      1\u001b[0m \u001b[0;32mimport\u001b[0m \u001b[0msys\u001b[0m\u001b[0;34m\u001b[0m\u001b[0;34m\u001b[0m\u001b[0m\n\u001b[1;32m      2\u001b[0m \u001b[0;32mimport\u001b[0m \u001b[0mmac_say\u001b[0m\u001b[0;34m\u001b[0m\u001b[0;34m\u001b[0m\u001b[0m\n\u001b[0;32m----> 3\u001b[0;31m \u001b[0mmac_say\u001b[0m\u001b[0;34m.\u001b[0m\u001b[0msay\u001b[0m\u001b[0;34m(\u001b[0m\u001b[0;34m[\u001b[0m\u001b[0;34m\"-f\"\u001b[0m\u001b[0;34m,\u001b[0m \u001b[0msys\u001b[0m\u001b[0;34m.\u001b[0m\u001b[0margv\u001b[0m\u001b[0;34m[\u001b[0m\u001b[0;36m1\u001b[0m\u001b[0;34m]\u001b[0m\u001b[0;34m,\u001b[0m \u001b[0;34m\"-v\"\u001b[0m\u001b[0;34m,\u001b[0m \u001b[0;34m\"Alex\"\u001b[0m\u001b[0;34m]\u001b[0m\u001b[0;34m)\u001b[0m\u001b[0;34m\u001b[0m\u001b[0;34m\u001b[0m\u001b[0m\n\u001b[0m",
            "\u001b[0;32m/usr/local/lib/python3.7/dist-packages/mac_say/__init__.py\u001b[0m in \u001b[0;36msay\u001b[0;34m(args, background)\u001b[0m\n\u001b[1;32m      9\u001b[0m \u001b[0;32mdef\u001b[0m \u001b[0msay\u001b[0m\u001b[0;34m(\u001b[0m\u001b[0margs\u001b[0m\u001b[0;34m,\u001b[0m \u001b[0mbackground\u001b[0m\u001b[0;34m=\u001b[0m\u001b[0;32mFalse\u001b[0m\u001b[0;34m)\u001b[0m\u001b[0;34m:\u001b[0m\u001b[0;34m\u001b[0m\u001b[0;34m\u001b[0m\u001b[0m\n\u001b[1;32m     10\u001b[0m     \u001b[0;34m\"\"\"run `say` with given args\"\"\"\u001b[0m\u001b[0;34m\u001b[0m\u001b[0;34m\u001b[0m\u001b[0m\n\u001b[0;32m---> 11\u001b[0;31m     \u001b[0mr\u001b[0m \u001b[0;34m=\u001b[0m \u001b[0mruncmd\u001b[0m\u001b[0;34m.\u001b[0m\u001b[0mrun\u001b[0m\u001b[0;34m(\u001b[0m\u001b[0;34m[\u001b[0m\u001b[0;34m\"say\"\u001b[0m\u001b[0;34m]\u001b[0m \u001b[0;34m+\u001b[0m \u001b[0mvalues\u001b[0m\u001b[0;34m.\u001b[0m\u001b[0mget\u001b[0m\u001b[0;34m(\u001b[0m\u001b[0margs\u001b[0m\u001b[0;34m)\u001b[0m\u001b[0;34m,\u001b[0m \u001b[0mbackground\u001b[0m\u001b[0;34m=\u001b[0m\u001b[0mbackground\u001b[0m\u001b[0;34m)\u001b[0m\u001b[0;34m\u001b[0m\u001b[0;34m\u001b[0m\u001b[0m\n\u001b[0m\u001b[1;32m     12\u001b[0m     \u001b[0;32mif\u001b[0m \u001b[0;32mnot\u001b[0m \u001b[0mbackground\u001b[0m\u001b[0;34m:\u001b[0m\u001b[0;34m\u001b[0m\u001b[0;34m\u001b[0m\u001b[0m\n\u001b[1;32m     13\u001b[0m         \u001b[0mr\u001b[0m\u001b[0;34m.\u001b[0m\u001b[0m_raise\u001b[0m\u001b[0;34m(\u001b[0m\u001b[0;34m)\u001b[0m\u001b[0;34m\u001b[0m\u001b[0;34m\u001b[0m\u001b[0m\n",
            "\u001b[0;32m/usr/local/lib/python3.7/dist-packages/runcmd/__init__.py\u001b[0m in \u001b[0;36mrun\u001b[0;34m(args, cwd, background)\u001b[0m\n\u001b[1;32m    148\u001b[0m \u001b[0;32mdef\u001b[0m \u001b[0mrun\u001b[0m\u001b[0;34m(\u001b[0m\u001b[0margs\u001b[0m\u001b[0;34m,\u001b[0m \u001b[0mcwd\u001b[0m\u001b[0;34m=\u001b[0m\u001b[0;32mNone\u001b[0m\u001b[0;34m,\u001b[0m \u001b[0mbackground\u001b[0m\u001b[0;34m=\u001b[0m\u001b[0;32mFalse\u001b[0m\u001b[0;34m)\u001b[0m\u001b[0;34m:\u001b[0m\u001b[0;34m\u001b[0m\u001b[0;34m\u001b[0m\u001b[0m\n\u001b[1;32m    149\u001b[0m     \u001b[0;34m\"\"\"run command and return Process object\"\"\"\u001b[0m\u001b[0;34m\u001b[0m\u001b[0;34m\u001b[0m\u001b[0m\n\u001b[0;32m--> 150\u001b[0;31m     \u001b[0;32mreturn\u001b[0m \u001b[0mCommand\u001b[0m\u001b[0;34m(\u001b[0m\u001b[0;34m)\u001b[0m\u001b[0;34m.\u001b[0m\u001b[0mrun\u001b[0m\u001b[0;34m(\u001b[0m\u001b[0margs\u001b[0m\u001b[0;34m,\u001b[0m \u001b[0mcwd\u001b[0m\u001b[0;34m=\u001b[0m\u001b[0mcwd\u001b[0m\u001b[0;34m,\u001b[0m \u001b[0mbackground\u001b[0m\u001b[0;34m=\u001b[0m\u001b[0mbackground\u001b[0m\u001b[0;34m)\u001b[0m\u001b[0;34m\u001b[0m\u001b[0;34m\u001b[0m\u001b[0m\n\u001b[0m",
            "\u001b[0;32m/usr/local/lib/python3.7/dist-packages/runcmd/__init__.py\u001b[0m in \u001b[0;36mrun\u001b[0;34m(self, args, cwd, env, background)\u001b[0m\n\u001b[1;32m    140\u001b[0m             \u001b[0mkwargs\u001b[0m\u001b[0;34m[\u001b[0m\u001b[0;34m\"stdout\"\u001b[0m\u001b[0;34m]\u001b[0m \u001b[0;34m=\u001b[0m \u001b[0mopen\u001b[0m\u001b[0;34m(\u001b[0m\u001b[0mos\u001b[0m\u001b[0;34m.\u001b[0m\u001b[0mdevnull\u001b[0m\u001b[0;34m,\u001b[0m \u001b[0;34m'wb'\u001b[0m\u001b[0;34m)\u001b[0m\u001b[0;34m\u001b[0m\u001b[0;34m\u001b[0m\u001b[0m\n\u001b[1;32m    141\u001b[0m             \u001b[0mkwargs\u001b[0m\u001b[0;34m[\u001b[0m\u001b[0;34m\"stderr\"\u001b[0m\u001b[0;34m]\u001b[0m \u001b[0;34m=\u001b[0m \u001b[0mopen\u001b[0m\u001b[0;34m(\u001b[0m\u001b[0mos\u001b[0m\u001b[0;34m.\u001b[0m\u001b[0mdevnull\u001b[0m\u001b[0;34m,\u001b[0m \u001b[0;34m'wb'\u001b[0m\u001b[0;34m)\u001b[0m\u001b[0;34m\u001b[0m\u001b[0;34m\u001b[0m\u001b[0m\n\u001b[0;32m--> 142\u001b[0;31m         \u001b[0mprocess\u001b[0m \u001b[0;34m=\u001b[0m \u001b[0msubprocess\u001b[0m\u001b[0;34m.\u001b[0m\u001b[0mPopen\u001b[0m\u001b[0;34m(\u001b[0m\u001b[0margs\u001b[0m\u001b[0;34m,\u001b[0m \u001b[0;34m**\u001b[0m\u001b[0mkwargs\u001b[0m\u001b[0;34m)\u001b[0m\u001b[0;34m\u001b[0m\u001b[0;34m\u001b[0m\u001b[0m\n\u001b[0m\u001b[1;32m    143\u001b[0m         \u001b[0;34m\"\"\"Popen.args python3 only\"\"\"\u001b[0m\u001b[0;34m\u001b[0m\u001b[0;34m\u001b[0m\u001b[0m\n\u001b[1;32m    144\u001b[0m         \u001b[0mprocess\u001b[0m\u001b[0;34m.\u001b[0m\u001b[0margs\u001b[0m \u001b[0;34m=\u001b[0m \u001b[0margs\u001b[0m\u001b[0;34m\u001b[0m\u001b[0;34m\u001b[0m\u001b[0m\n",
            "\u001b[0;32m/usr/lib/python3.7/subprocess.py\u001b[0m in \u001b[0;36m__init__\u001b[0;34m(self, args, bufsize, executable, stdin, stdout, stderr, preexec_fn, close_fds, shell, cwd, env, universal_newlines, startupinfo, creationflags, restore_signals, start_new_session, pass_fds, encoding, errors, text)\u001b[0m\n\u001b[1;32m    798\u001b[0m                                 \u001b[0mc2pread\u001b[0m\u001b[0;34m,\u001b[0m \u001b[0mc2pwrite\u001b[0m\u001b[0;34m,\u001b[0m\u001b[0;34m\u001b[0m\u001b[0;34m\u001b[0m\u001b[0m\n\u001b[1;32m    799\u001b[0m                                 \u001b[0merrread\u001b[0m\u001b[0;34m,\u001b[0m \u001b[0merrwrite\u001b[0m\u001b[0;34m,\u001b[0m\u001b[0;34m\u001b[0m\u001b[0;34m\u001b[0m\u001b[0m\n\u001b[0;32m--> 800\u001b[0;31m                                 restore_signals, start_new_session)\n\u001b[0m\u001b[1;32m    801\u001b[0m         \u001b[0;32mexcept\u001b[0m\u001b[0;34m:\u001b[0m\u001b[0;34m\u001b[0m\u001b[0;34m\u001b[0m\u001b[0m\n\u001b[1;32m    802\u001b[0m             \u001b[0;31m# Cleanup if the child failed starting.\u001b[0m\u001b[0;34m\u001b[0m\u001b[0;34m\u001b[0m\u001b[0;34m\u001b[0m\u001b[0m\n",
            "\u001b[0;32m/usr/lib/python3.7/subprocess.py\u001b[0m in \u001b[0;36m_execute_child\u001b[0;34m(self, args, executable, preexec_fn, close_fds, pass_fds, cwd, env, startupinfo, creationflags, shell, p2cread, p2cwrite, c2pread, c2pwrite, errread, errwrite, restore_signals, start_new_session)\u001b[0m\n\u001b[1;32m   1549\u001b[0m                         \u001b[0;32mif\u001b[0m \u001b[0merrno_num\u001b[0m \u001b[0;34m==\u001b[0m \u001b[0merrno\u001b[0m\u001b[0;34m.\u001b[0m\u001b[0mENOENT\u001b[0m\u001b[0;34m:\u001b[0m\u001b[0;34m\u001b[0m\u001b[0;34m\u001b[0m\u001b[0m\n\u001b[1;32m   1550\u001b[0m                             \u001b[0merr_msg\u001b[0m \u001b[0;34m+=\u001b[0m \u001b[0;34m': '\u001b[0m \u001b[0;34m+\u001b[0m \u001b[0mrepr\u001b[0m\u001b[0;34m(\u001b[0m\u001b[0merr_filename\u001b[0m\u001b[0;34m)\u001b[0m\u001b[0;34m\u001b[0m\u001b[0;34m\u001b[0m\u001b[0m\n\u001b[0;32m-> 1551\u001b[0;31m                     \u001b[0;32mraise\u001b[0m \u001b[0mchild_exception_type\u001b[0m\u001b[0;34m(\u001b[0m\u001b[0merrno_num\u001b[0m\u001b[0;34m,\u001b[0m \u001b[0merr_msg\u001b[0m\u001b[0;34m,\u001b[0m \u001b[0merr_filename\u001b[0m\u001b[0;34m)\u001b[0m\u001b[0;34m\u001b[0m\u001b[0;34m\u001b[0m\u001b[0m\n\u001b[0m\u001b[1;32m   1552\u001b[0m                 \u001b[0;32mraise\u001b[0m \u001b[0mchild_exception_type\u001b[0m\u001b[0;34m(\u001b[0m\u001b[0merr_msg\u001b[0m\u001b[0;34m)\u001b[0m\u001b[0;34m\u001b[0m\u001b[0;34m\u001b[0m\u001b[0m\n\u001b[1;32m   1553\u001b[0m \u001b[0;34m\u001b[0m\u001b[0m\n",
            "\u001b[0;31mFileNotFoundError\u001b[0m: [Errno 2] No such file or directory: 'say': 'say'"
          ]
        }
      ]
    },
    {
      "cell_type": "markdown",
      "metadata": {
        "id": "g3dpn9nxWf_T"
      },
      "source": [
        "# 2. Quick Weather Reports"
      ]
    },
    {
      "cell_type": "code",
      "metadata": {
        "colab": {
          "base_uri": "https://localhost:8080/"
        },
        "id": "Wf63o3mEWbmW",
        "outputId": "90e784fc-dd77-4069-c7ac-b9cff1c25784"
      },
      "source": [
        "pip install requests"
      ],
      "execution_count": 4,
      "outputs": [
        {
          "output_type": "stream",
          "text": [
            "Requirement already satisfied: requests in /usr/local/lib/python3.7/dist-packages (2.23.0)\n",
            "Requirement already satisfied: certifi>=2017.4.17 in /usr/local/lib/python3.7/dist-packages (from requests) (2020.12.5)\n",
            "Requirement already satisfied: idna<3,>=2.5 in /usr/local/lib/python3.7/dist-packages (from requests) (2.10)\n",
            "Requirement already satisfied: chardet<4,>=3.0.2 in /usr/local/lib/python3.7/dist-packages (from requests) (3.0.4)\n",
            "Requirement already satisfied: urllib3!=1.25.0,!=1.25.1,<1.26,>=1.21.1 in /usr/local/lib/python3.7/dist-packages (from requests) (1.24.3)\n"
          ],
          "name": "stdout"
        }
      ]
    },
    {
      "cell_type": "code",
      "metadata": {
        "colab": {
          "base_uri": "https://localhost:8080/"
        },
        "id": "Ph_Qok1_WhIR",
        "outputId": "8c41a976-a885-4129-b62a-d430bfee1dca"
      },
      "source": [
        "import sys\n",
        "import requests\n",
        "resp = requests.get(f'https://wttr.in/{sys.argv[1].replace(\" \", \"+\")}')\n",
        "print(resp.text)"
      ],
      "execution_count": 6,
      "outputs": [
        {
          "output_type": "stream",
          "text": [
            "Weather report: -f\n",
            "\n",
            "  \u001b[38;5;226m   \\  /\u001b[0m       Partly cloudy\n",
            "  \u001b[38;5;226m _ /\"\"\u001b[38;5;250m.-.    \u001b[0m \u001b[38;5;220m+77\u001b[0m(\u001b[38;5;214m82\u001b[0m) °F\u001b[0m     \n",
            "  \u001b[38;5;226m   \\_\u001b[38;5;250m(   ).  \u001b[0m \u001b[1m↓\u001b[0m \u001b[38;5;046m0\u001b[0m mph\u001b[0m        \n",
            "  \u001b[38;5;226m   /\u001b[38;5;250m(___(__) \u001b[0m 6 mi\u001b[0m           \n",
            "                0.0 in\u001b[0m         \n",
            "                                                       ┌─────────────┐                                                       \n",
            "┌──────────────────────────────┬───────────────────────┤  Thu 27 May ├───────────────────────┬──────────────────────────────┐\n",
            "│            Morning           │             Noon      └──────┬──────┘     Evening           │             Night            │\n",
            "├──────────────────────────────┼──────────────────────────────┼──────────────────────────────┼──────────────────────────────┤\n",
            "│ \u001b[38;5;226m _`/\"\"\u001b[38;5;250m.-.    \u001b[0m Light rain sho…│ \u001b[38;5;226m   \\  /\u001b[0m       Partly cloudy  │ \u001b[38;5;226m _`/\"\"\u001b[38;5;250m.-.    \u001b[0m Light rain sho…│ \u001b[38;5;226m _`/\"\"\u001b[38;5;250m.-.    \u001b[0m Light rain sho…│\n",
            "│ \u001b[38;5;226m  ,\\_\u001b[38;5;250m(   ).  \u001b[0m \u001b[38;5;220m+80\u001b[0m(\u001b[38;5;214m86\u001b[0m) °F\u001b[0m     │ \u001b[38;5;226m _ /\"\"\u001b[38;5;250m.-.    \u001b[0m \u001b[38;5;214m+86\u001b[0m(\u001b[38;5;202m96\u001b[0m) °F\u001b[0m     │ \u001b[38;5;226m  ,\\_\u001b[38;5;250m(   ).  \u001b[0m \u001b[38;5;214m+82\u001b[0m(\u001b[38;5;208m91\u001b[0m) °F\u001b[0m     │ \u001b[38;5;226m  ,\\_\u001b[38;5;250m(   ).  \u001b[0m \u001b[38;5;220m+78\u001b[0m(\u001b[38;5;214m86\u001b[0m) °F\u001b[0m     │\n",
            "│ \u001b[38;5;226m   /\u001b[38;5;250m(___(__) \u001b[0m \u001b[1m←\u001b[0m \u001b[38;5;118m2\u001b[0m-\u001b[38;5;118m3\u001b[0m mph\u001b[0m      │ \u001b[38;5;226m   \\_\u001b[38;5;250m(   ).  \u001b[0m \u001b[1m↑\u001b[0m \u001b[38;5;082m1\u001b[0m mph\u001b[0m        │ \u001b[38;5;226m   /\u001b[38;5;250m(___(__) \u001b[0m \u001b[1m↑\u001b[0m \u001b[38;5;118m2\u001b[0m-\u001b[38;5;154m4\u001b[0m mph\u001b[0m      │ \u001b[38;5;226m   /\u001b[38;5;250m(___(__) \u001b[0m \u001b[1m↙\u001b[0m \u001b[38;5;082m1\u001b[0m-\u001b[38;5;118m3\u001b[0m mph\u001b[0m      │\n",
            "│ \u001b[38;5;111m     ‘ ‘ ‘ ‘ \u001b[0m 6 mi\u001b[0m           │ \u001b[38;5;226m   /\u001b[38;5;250m(___(__) \u001b[0m 6 mi\u001b[0m           │ \u001b[38;5;111m     ‘ ‘ ‘ ‘ \u001b[0m 4 mi\u001b[0m           │ \u001b[38;5;111m     ‘ ‘ ‘ ‘ \u001b[0m 6 mi\u001b[0m           │\n",
            "│ \u001b[38;5;111m    ‘ ‘ ‘ ‘  \u001b[0m 0.0 in | 71%\u001b[0m   │               0.0 in | 51%\u001b[0m   │ \u001b[38;5;111m    ‘ ‘ ‘ ‘  \u001b[0m 0.1 in | 85%\u001b[0m   │ \u001b[38;5;111m    ‘ ‘ ‘ ‘  \u001b[0m 0.0 in | 68%\u001b[0m   │\n",
            "└──────────────────────────────┴──────────────────────────────┴──────────────────────────────┴──────────────────────────────┘\n",
            "                                                       ┌─────────────┐                                                       \n",
            "┌──────────────────────────────┬───────────────────────┤  Fri 28 May ├───────────────────────┬──────────────────────────────┐\n",
            "│            Morning           │             Noon      └──────┬──────┘     Evening           │             Night            │\n",
            "├──────────────────────────────┼──────────────────────────────┼──────────────────────────────┼──────────────────────────────┤\n",
            "│ \u001b[38;5;226m   \\  /\u001b[0m       Partly cloudy  │ \u001b[38;5;226m   \\  /\u001b[0m       Partly cloudy  │ \u001b[38;5;226m   \\  /\u001b[0m       Partly cloudy  │ \u001b[38;5;226m   \\  /\u001b[0m       Partly cloudy  │\n",
            "│ \u001b[38;5;226m _ /\"\"\u001b[38;5;250m.-.    \u001b[0m \u001b[38;5;220m+78\u001b[0m(\u001b[38;5;214m84\u001b[0m) °F\u001b[0m     │ \u001b[38;5;226m _ /\"\"\u001b[38;5;250m.-.    \u001b[0m \u001b[38;5;214m+82\u001b[0m(\u001b[38;5;208m91\u001b[0m) °F\u001b[0m     │ \u001b[38;5;226m _ /\"\"\u001b[38;5;250m.-.    \u001b[0m \u001b[38;5;214m+86\u001b[0m(\u001b[38;5;202m93\u001b[0m) °F\u001b[0m     │ \u001b[38;5;226m _ /\"\"\u001b[38;5;250m.-.    \u001b[0m \u001b[38;5;220m+80\u001b[0m(\u001b[38;5;214m86\u001b[0m) °F\u001b[0m     │\n",
            "│ \u001b[38;5;226m   \\_\u001b[38;5;250m(   ).  \u001b[0m \u001b[1m←\u001b[0m \u001b[38;5;082m1\u001b[0m mph\u001b[0m        │ \u001b[38;5;226m   \\_\u001b[38;5;250m(   ).  \u001b[0m \u001b[1m→\u001b[0m \u001b[38;5;118m2\u001b[0m-\u001b[38;5;118m3\u001b[0m mph\u001b[0m      │ \u001b[38;5;226m   \\_\u001b[38;5;250m(   ).  \u001b[0m \u001b[1m→\u001b[0m \u001b[38;5;118m3\u001b[0m-\u001b[38;5;154m4\u001b[0m mph\u001b[0m      │ \u001b[38;5;226m   \\_\u001b[38;5;250m(   ).  \u001b[0m \u001b[1m↑\u001b[0m \u001b[38;5;082m1\u001b[0m-\u001b[38;5;118m3\u001b[0m mph\u001b[0m      │\n",
            "│ \u001b[38;5;226m   /\u001b[38;5;250m(___(__) \u001b[0m 6 mi\u001b[0m           │ \u001b[38;5;226m   /\u001b[38;5;250m(___(__) \u001b[0m 6 mi\u001b[0m           │ \u001b[38;5;226m   /\u001b[38;5;250m(___(__) \u001b[0m 6 mi\u001b[0m           │ \u001b[38;5;226m   /\u001b[38;5;250m(___(__) \u001b[0m 6 mi\u001b[0m           │\n",
            "│               0.0 in | 0%\u001b[0m    │               0.0 in | 0%\u001b[0m    │               0.0 in | 0%\u001b[0m    │               0.0 in | 0%\u001b[0m    │\n",
            "└──────────────────────────────┴──────────────────────────────┴──────────────────────────────┴──────────────────────────────┘\n",
            "                                                       ┌─────────────┐                                                       \n",
            "┌──────────────────────────────┬───────────────────────┤  Sat 29 May ├───────────────────────┬──────────────────────────────┐\n",
            "│            Morning           │             Noon      └──────┬──────┘     Evening           │             Night            │\n",
            "├──────────────────────────────┼──────────────────────────────┼──────────────────────────────┼──────────────────────────────┤\n",
            "│ \u001b[38;5;226m   \\  /\u001b[0m       Partly cloudy  │ \u001b[38;5;226m   \\  /\u001b[0m       Partly cloudy  │ \u001b[38;5;226m   \\  /\u001b[0m       Partly cloudy  │ \u001b[38;5;226m _`/\"\"\u001b[38;5;250m.-.    \u001b[0m Patchy rain po…│\n",
            "│ \u001b[38;5;226m _ /\"\"\u001b[38;5;250m.-.    \u001b[0m \u001b[38;5;214m+82\u001b[0m(\u001b[38;5;208m87\u001b[0m) °F\u001b[0m     │ \u001b[38;5;226m _ /\"\"\u001b[38;5;250m.-.    \u001b[0m \u001b[38;5;208m+87\u001b[0m(\u001b[38;5;196m98\u001b[0m) °F\u001b[0m     │ \u001b[38;5;226m _ /\"\"\u001b[38;5;250m.-.    \u001b[0m \u001b[38;5;208m+87\u001b[0m(\u001b[38;5;202m96\u001b[0m) °F\u001b[0m     │ \u001b[38;5;226m  ,\\_\u001b[38;5;250m(   ).  \u001b[0m \u001b[38;5;214m+82\u001b[0m(\u001b[38;5;208m87\u001b[0m) °F\u001b[0m     │\n",
            "│ \u001b[38;5;226m   \\_\u001b[38;5;250m(   ).  \u001b[0m \u001b[1m←\u001b[0m \u001b[38;5;118m3\u001b[0m-\u001b[38;5;154m4\u001b[0m mph\u001b[0m      │ \u001b[38;5;226m   \\_\u001b[38;5;250m(   ).  \u001b[0m \u001b[1m↖\u001b[0m \u001b[38;5;154m5\u001b[0m-\u001b[38;5;190m6\u001b[0m mph\u001b[0m      │ \u001b[38;5;226m   \\_\u001b[38;5;250m(   ).  \u001b[0m \u001b[1m↖\u001b[0m \u001b[38;5;154m4\u001b[0m-\u001b[38;5;190m6\u001b[0m mph\u001b[0m      │ \u001b[38;5;226m   /\u001b[38;5;250m(___(__) \u001b[0m \u001b[1m←\u001b[0m \u001b[38;5;118m3\u001b[0m-\u001b[38;5;190m6\u001b[0m mph\u001b[0m      │\n",
            "│ \u001b[38;5;226m   /\u001b[38;5;250m(___(__) \u001b[0m 6 mi\u001b[0m           │ \u001b[38;5;226m   /\u001b[38;5;250m(___(__) \u001b[0m 6 mi\u001b[0m           │ \u001b[38;5;226m   /\u001b[38;5;250m(___(__) \u001b[0m 6 mi\u001b[0m           │ \u001b[38;5;111m     ‘ ‘ ‘ ‘ \u001b[0m 6 mi\u001b[0m           │\n",
            "│               0.0 in | 0%\u001b[0m    │               0.0 in | 0%\u001b[0m    │               0.0 in | 0%\u001b[0m    │ \u001b[38;5;111m    ‘ ‘ ‘ ‘  \u001b[0m 0.0 in | 21%\u001b[0m   │\n",
            "└──────────────────────────────┴──────────────────────────────┴──────────────────────────────┴──────────────────────────────┘\n",
            "Location: Putrajaya, Malaysia [2.9033629,101.6800581]\n",
            "\n",
            "Follow \u001b[46m\u001b[30m@igor_chubin\u001b[0m for wttr.in updates\n",
            "\n"
          ],
          "name": "stdout"
        }
      ]
    },
    {
      "cell_type": "markdown",
      "metadata": {
        "id": "d0ipy6_2Wp3d"
      },
      "source": [
        "# 3. Converting Currencies"
      ]
    },
    {
      "cell_type": "code",
      "metadata": {
        "colab": {
          "base_uri": "https://localhost:8080/"
        },
        "id": "3NDSEoVsWjXI",
        "outputId": "0822e312-17ed-40ee-b0db-1e7b52cb6f13"
      },
      "source": [
        "pip install --user currencyconverter"
      ],
      "execution_count": 7,
      "outputs": [
        {
          "output_type": "stream",
          "text": [
            "Collecting currencyconverter\n",
            "\u001b[?25l  Downloading https://files.pythonhosted.org/packages/99/94/5896dcd4261a6ed32fca49382cdbef0a033e3447645097083fefbde00162/CurrencyConverter-0.16.1-py2.py3-none-any.whl (522kB)\n",
            "\r\u001b[K     |▋                               | 10kB 26.3MB/s eta 0:00:01\r\u001b[K     |█▎                              | 20kB 15.9MB/s eta 0:00:01\r\u001b[K     |█▉                              | 30kB 13.9MB/s eta 0:00:01\r\u001b[K     |██▌                             | 40kB 13.2MB/s eta 0:00:01\r\u001b[K     |███▏                            | 51kB 7.4MB/s eta 0:00:01\r\u001b[K     |███▊                            | 61kB 8.6MB/s eta 0:00:01\r\u001b[K     |████▍                           | 71kB 8.1MB/s eta 0:00:01\r\u001b[K     |█████                           | 81kB 8.9MB/s eta 0:00:01\r\u001b[K     |█████▋                          | 92kB 8.7MB/s eta 0:00:01\r\u001b[K     |██████▎                         | 102kB 7.0MB/s eta 0:00:01\r\u001b[K     |███████                         | 112kB 7.0MB/s eta 0:00:01\r\u001b[K     |███████▌                        | 122kB 7.0MB/s eta 0:00:01\r\u001b[K     |████████▏                       | 133kB 7.0MB/s eta 0:00:01\r\u001b[K     |████████▊                       | 143kB 7.0MB/s eta 0:00:01\r\u001b[K     |█████████▍                      | 153kB 7.0MB/s eta 0:00:01\r\u001b[K     |██████████                      | 163kB 7.0MB/s eta 0:00:01\r\u001b[K     |██████████▋                     | 174kB 7.0MB/s eta 0:00:01\r\u001b[K     |███████████▎                    | 184kB 7.0MB/s eta 0:00:01\r\u001b[K     |████████████                    | 194kB 7.0MB/s eta 0:00:01\r\u001b[K     |████████████▌                   | 204kB 7.0MB/s eta 0:00:01\r\u001b[K     |█████████████▏                  | 215kB 7.0MB/s eta 0:00:01\r\u001b[K     |█████████████▉                  | 225kB 7.0MB/s eta 0:00:01\r\u001b[K     |██████████████▍                 | 235kB 7.0MB/s eta 0:00:01\r\u001b[K     |███████████████                 | 245kB 7.0MB/s eta 0:00:01\r\u001b[K     |███████████████▋                | 256kB 7.0MB/s eta 0:00:01\r\u001b[K     |████████████████▎               | 266kB 7.0MB/s eta 0:00:01\r\u001b[K     |█████████████████               | 276kB 7.0MB/s eta 0:00:01\r\u001b[K     |█████████████████▌              | 286kB 7.0MB/s eta 0:00:01\r\u001b[K     |██████████████████▏             | 296kB 7.0MB/s eta 0:00:01\r\u001b[K     |██████████████████▉             | 307kB 7.0MB/s eta 0:00:01\r\u001b[K     |███████████████████▍            | 317kB 7.0MB/s eta 0:00:01\r\u001b[K     |████████████████████            | 327kB 7.0MB/s eta 0:00:01\r\u001b[K     |████████████████████▊           | 337kB 7.0MB/s eta 0:00:01\r\u001b[K     |█████████████████████▎          | 348kB 7.0MB/s eta 0:00:01\r\u001b[K     |██████████████████████          | 358kB 7.0MB/s eta 0:00:01\r\u001b[K     |██████████████████████▋         | 368kB 7.0MB/s eta 0:00:01\r\u001b[K     |███████████████████████▏        | 378kB 7.0MB/s eta 0:00:01\r\u001b[K     |███████████████████████▉        | 389kB 7.0MB/s eta 0:00:01\r\u001b[K     |████████████████████████▍       | 399kB 7.0MB/s eta 0:00:01\r\u001b[K     |█████████████████████████       | 409kB 7.0MB/s eta 0:00:01\r\u001b[K     |█████████████████████████▊      | 419kB 7.0MB/s eta 0:00:01\r\u001b[K     |██████████████████████████▎     | 430kB 7.0MB/s eta 0:00:01\r\u001b[K     |███████████████████████████     | 440kB 7.0MB/s eta 0:00:01\r\u001b[K     |███████████████████████████▋    | 450kB 7.0MB/s eta 0:00:01\r\u001b[K     |████████████████████████████▏   | 460kB 7.0MB/s eta 0:00:01\r\u001b[K     |████████████████████████████▉   | 471kB 7.0MB/s eta 0:00:01\r\u001b[K     |█████████████████████████████▌  | 481kB 7.0MB/s eta 0:00:01\r\u001b[K     |██████████████████████████████  | 491kB 7.0MB/s eta 0:00:01\r\u001b[K     |██████████████████████████████▊ | 501kB 7.0MB/s eta 0:00:01\r\u001b[K     |███████████████████████████████▎| 512kB 7.0MB/s eta 0:00:01\r\u001b[K     |████████████████████████████████| 522kB 7.0MB/s eta 0:00:01\r\u001b[K     |████████████████████████████████| 532kB 7.0MB/s \n",
            "\u001b[?25hInstalling collected packages: currencyconverter\n",
            "\u001b[33m  WARNING: The script currency_converter is installed in '/root/.local/bin' which is not on PATH.\n",
            "  Consider adding this directory to PATH or, if you prefer to suppress this warning, use --no-warn-script-location.\u001b[0m\n",
            "Successfully installed currencyconverter-0.16.1\n"
          ],
          "name": "stdout"
        }
      ]
    },
    {
      "cell_type": "code",
      "metadata": {
        "colab": {
          "base_uri": "https://localhost:8080/"
        },
        "id": "tQU8PdUYWrbh",
        "outputId": "21ddd92d-9a02-46f3-95ca-4d681780aea0"
      },
      "source": [
        "!currency_converter 1 USD --to EUR"
      ],
      "execution_count": 9,
      "outputs": [
        {
          "output_type": "stream",
          "text": [
            "/bin/bash: currency_converter: command not found\n"
          ],
          "name": "stdout"
        }
      ]
    },
    {
      "cell_type": "markdown",
      "metadata": {
        "id": "J7EDzYdpWxoT"
      },
      "source": [
        "# 4. Automatically Sorting Your Downloads Folder"
      ]
    },
    {
      "cell_type": "code",
      "metadata": {
        "id": "8hMZEBU7WtPL"
      },
      "source": [
        "import os\n",
        "import time\n",
        "import sys\n",
        "from watchdog.observers import Observer\n",
        "from watchdog.events import FileSystemEventHandler\n",
        "\n",
        "folder_to_monitor = sys.argv[1]file_folder_mapping = {\n",
        "    '.png':'images',\n",
        "    '.jpg':'images',\n",
        "    '.jpeg':'images',\n",
        "    '.gif':'images',\n",
        "    '.pdf':'pdfs',\n",
        "    '.mp4':'videos',\n",
        "    '.mp3':'audio',\n",
        "    '.zip':'bundles'\n",
        "}\n",
        "\n",
        "class DownloadedFileHandler(FileSystemEventHandler):\n",
        "    def on_created(self, event):\n",
        "        if any(event.src_path.endswith(x) for x in file_folder_mapping):\n",
        "            parent = os.path.join(os.path.dirname(os.path.abspath(event.src_path)), file_folder_mapping.get(f\".{event.src_path.split('.')[-1]}\"))\n",
        "            if not os.path.exists(parent):\n",
        "                os.makedirs(parent)\n",
        "            os.rename(event.src_path, os.path.join(parent, os.path.basename(event.src_path)))\n",
        "            \n",
        "event_handler = DownloadedFileHandler()\n",
        "observer = Observer()\n",
        "observer.schedule(event_handler, folder_to_monitor, recursive=True)\n",
        "print(\"Monitoring started\")\n",
        "observer.start()\n",
        "try:\n",
        "    while True:\n",
        "        time.sleep(10)\n",
        "        \n",
        "except KeyboardInterrupt:\n",
        "    observer.stop()\n",
        "    observer.join()"
      ],
      "execution_count": null,
      "outputs": []
    },
    {
      "cell_type": "markdown",
      "metadata": {
        "id": "G4xi5SJyXCQz"
      },
      "source": [
        "# 5. The Morning Setup Script"
      ]
    },
    {
      "cell_type": "code",
      "metadata": {
        "id": "Y28tsO_wXChj"
      },
      "source": [
        "python -m webbrowser -t \"https://www.google.com\"\n",
        "python -m webbrowser -t \"https://www.dylanroy.com\"\n",
        "python -m webbrowser -t \"https://www.usesql.com\""
      ],
      "execution_count": 10,
      "outputs": []
    }
  ]
}