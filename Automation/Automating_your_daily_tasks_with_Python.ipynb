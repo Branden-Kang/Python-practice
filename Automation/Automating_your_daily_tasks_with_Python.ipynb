{
  "nbformat": 4,
  "nbformat_minor": 0,
  "metadata": {
    "colab": {
      "name": "Automating your daily tasks with Python.ipynb",
      "provenance": [],
      "authorship_tag": "ABX9TyPeohpUMV4VQobZpd9PsbPS"
    },
    "kernelspec": {
      "name": "python3",
      "display_name": "Python 3"
    }
  },
  "cells": [
    {
      "cell_type": "markdown",
      "metadata": {
        "id": "2bsf7wbWhhIQ",
        "colab_type": "text"
      },
      "source": [
        "[Reference](https://medium.com/analytics-vidhya/automating-your-daily-tasks-with-python-ccce4aa8fd7a)"
      ]
    },
    {
      "cell_type": "code",
      "metadata": {
        "id": "1mFphLVVhNYe",
        "colab_type": "code",
        "colab": {}
      },
      "source": [
        "# !pip install vertica_python\n",
        "# from vertica_python import connect\n",
        "# conn_info = {'host': '123.45.67.89',\n",
        "# 'port': 5433,\n",
        "# 'user': 'Username',\n",
        "# 'password': 'password',\n",
        "# 'database': 'Schema_name', \n",
        "# 'read_timeout': 600, # 10 minutes timeout on queries\n",
        "# 'unicode_error': 'strict', # default throw error on invalid UTF-8 results\n",
        "# 'ssl': False # SSL is disabled by default\n",
        "# }\n",
        "# connection = connect(**conn_info)"
      ],
      "execution_count": 2,
      "outputs": []
    },
    {
      "cell_type": "code",
      "metadata": {
        "id": "OFum3HKvhSjE",
        "colab_type": "code",
        "colab": {}
      },
      "source": [
        "# cursor = connection.cursor()"
      ],
      "execution_count": 3,
      "outputs": []
    },
    {
      "cell_type": "code",
      "metadata": {
        "id": "vGAkhXMFhand",
        "colab_type": "code",
        "colab": {}
      },
      "source": [
        "# cursor.execute(\"Select * from table_name\")"
      ],
      "execution_count": 4,
      "outputs": []
    },
    {
      "cell_type": "code",
      "metadata": {
        "id": "SDCAOLcfhbip",
        "colab_type": "code",
        "colab": {}
      },
      "source": [
        "# import csv\n",
        "# with open('output.csv','w') as f:\n",
        "#     writer = csv.writer(f)\n",
        "#     writer.writerow([i[0] for i in cursor.description])\n",
        "#     for row in cursor.fetchall():\n",
        "#         writer.writerow(row)"
      ],
      "execution_count": 5,
      "outputs": []
    },
    {
      "cell_type": "code",
      "metadata": {
        "id": "9_EVO6Chhd5n",
        "colab_type": "code",
        "colab": {}
      },
      "source": [
        "# import pandas as pd\n",
        "# df = pd.read_csv('output.csv')\n",
        "# df.pivot_table(index=['col_name1'], values='col_name2', columns='col_name3', aggfunc='sum')"
      ],
      "execution_count": 6,
      "outputs": []
    }
  ]
}