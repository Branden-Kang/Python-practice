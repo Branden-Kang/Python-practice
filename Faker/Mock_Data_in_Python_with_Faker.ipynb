{
  "nbformat": 4,
  "nbformat_minor": 0,
  "metadata": {
    "colab": {
      "provenance": [],
      "authorship_tag": "ABX9TyMFq3tvaHD6XaatZYNOaSQZ"
    },
    "kernelspec": {
      "name": "python3",
      "display_name": "Python 3"
    },
    "language_info": {
      "name": "python"
    }
  },
  "cells": [
    {
      "cell_type": "markdown",
      "source": [
        "[Reference](https://medium.com/@titamoto/mock-data-in-python-with-faker-92f9c9186e9)"
      ],
      "metadata": {
        "id": "-_RPXApyuTeC"
      }
    },
    {
      "cell_type": "code",
      "execution_count": 1,
      "metadata": {
        "colab": {
          "base_uri": "https://localhost:8080/"
        },
        "id": "SiBIqHfYuINH",
        "outputId": "d6554d50-0036-4cc8-cf0a-4dd1dc396b66"
      },
      "outputs": [
        {
          "output_type": "stream",
          "name": "stdout",
          "text": [
            "Collecting Faker\n",
            "  Downloading Faker-22.0.0-py3-none-any.whl (1.7 MB)\n",
            "\u001b[2K     \u001b[90m━━━━━━━━━━━━━━━━━━━━━━━━━━━━━━━━━━━━━━━━\u001b[0m \u001b[32m1.7/1.7 MB\u001b[0m \u001b[31m9.5 MB/s\u001b[0m eta \u001b[36m0:00:00\u001b[0m\n",
            "\u001b[?25hRequirement already satisfied: python-dateutil>=2.4 in /usr/local/lib/python3.10/dist-packages (from Faker) (2.8.2)\n",
            "Requirement already satisfied: six>=1.5 in /usr/local/lib/python3.10/dist-packages (from python-dateutil>=2.4->Faker) (1.16.0)\n",
            "Installing collected packages: Faker\n",
            "Successfully installed Faker-22.0.0\n"
          ]
        }
      ],
      "source": [
        "pip install Faker"
      ]
    },
    {
      "cell_type": "code",
      "source": [
        "from faker import Faker\n",
        "fake = Faker()"
      ],
      "metadata": {
        "id": "kHajQxdRuX_k"
      },
      "execution_count": 2,
      "outputs": []
    },
    {
      "cell_type": "code",
      "source": [
        "fake = Faker('fr_FR')"
      ],
      "metadata": {
        "id": "40pGJnBlugyA"
      },
      "execution_count": 3,
      "outputs": []
    },
    {
      "cell_type": "code",
      "source": [
        "from faker import Faker\n",
        "\n",
        "locale_list = ['en-US', 'ja-JP', 'en_US']\n",
        "fake1 = Faker(locale_list)\n",
        "\n",
        "# Will return ['en_US', 'ja_JP']\n",
        "fake1.locales"
      ],
      "metadata": {
        "colab": {
          "base_uri": "https://localhost:8080/"
        },
        "id": "70Eo4JQwug7-",
        "outputId": "7fdb75e9-84a3-4122-a7e1-8728d2a75f2f"
      },
      "execution_count": 4,
      "outputs": [
        {
          "output_type": "execute_result",
          "data": {
            "text/plain": [
              "['en_US', 'ja_JP']"
            ]
          },
          "metadata": {},
          "execution_count": 4
        }
      ]
    },
    {
      "cell_type": "code",
      "source": [
        "from faker import Faker\n",
        "fake = Faker()\n",
        "\n",
        "print(fake.name())\n",
        "print(fake.address())\n",
        "print(fake.email())"
      ],
      "metadata": {
        "colab": {
          "base_uri": "https://localhost:8080/"
        },
        "id": "duQNbNeeuiLi",
        "outputId": "15d115e5-4c15-4f9c-fa4b-36c5949627b3"
      },
      "execution_count": 7,
      "outputs": [
        {
          "output_type": "stream",
          "name": "stdout",
          "text": [
            "Hailey Wolfe\n",
            "098 Chad Courts Suite 632\n",
            "East Lisa, OH 53456\n",
            "jon92@example.com\n"
          ]
        }
      ]
    },
    {
      "cell_type": "markdown",
      "source": [
        "# Generating Basic Fake Data"
      ],
      "metadata": {
        "id": "jfLJkmN5uqmW"
      }
    },
    {
      "cell_type": "code",
      "source": [
        "fake_name = fake.name()\n",
        "print(\"Fake Name:\", fake_name)"
      ],
      "metadata": {
        "colab": {
          "base_uri": "https://localhost:8080/"
        },
        "id": "Gc0mmQa1ukO3",
        "outputId": "e9b36b9e-a373-4fb8-d8ed-19c43d881283"
      },
      "execution_count": 8,
      "outputs": [
        {
          "output_type": "stream",
          "name": "stdout",
          "text": [
            "Fake Name: Tara Carpenter\n"
          ]
        }
      ]
    },
    {
      "cell_type": "code",
      "source": [
        "fake_address = fake.address()\n",
        "print(\"Fake Address:\", fake_address)"
      ],
      "metadata": {
        "colab": {
          "base_uri": "https://localhost:8080/"
        },
        "id": "aRNORd2Xur9k",
        "outputId": "b4671737-152a-4ab8-8895-bdbd00aa2766"
      },
      "execution_count": 9,
      "outputs": [
        {
          "output_type": "stream",
          "name": "stdout",
          "text": [
            "Fake Address: Unit 6825 Box 7797\n",
            "DPO AA 23421\n"
          ]
        }
      ]
    },
    {
      "cell_type": "code",
      "source": [
        "fake_email = fake.email()\n",
        "print(\"Fake Email:\", fake_email)"
      ],
      "metadata": {
        "colab": {
          "base_uri": "https://localhost:8080/"
        },
        "id": "3BZX_25aus9J",
        "outputId": "b5b5a45c-6474-47a4-b838-1a9039f4ee2b"
      },
      "execution_count": 10,
      "outputs": [
        {
          "output_type": "stream",
          "name": "stdout",
          "text": [
            "Fake Email: katie09@example.net\n"
          ]
        }
      ]
    },
    {
      "cell_type": "code",
      "source": [
        "fake_text = fake.text()\n",
        "print(\"Fake Text:\", fake_text)"
      ],
      "metadata": {
        "colab": {
          "base_uri": "https://localhost:8080/"
        },
        "id": "uSV4UXlDut3e",
        "outputId": "ee933de6-6f0a-46f3-f32e-dc9a314994d3"
      },
      "execution_count": 11,
      "outputs": [
        {
          "output_type": "stream",
          "name": "stdout",
          "text": [
            "Fake Text: A gas us chance. Individual once here smile oil. Material successful successful relationship.\n",
            "Task face bank true. Need while ability former when artist people.\n"
          ]
        }
      ]
    },
    {
      "cell_type": "code",
      "source": [
        "for _ in range(5):\n",
        "    fake_name = fake.name()\n",
        "    print(\"Fake Name:\", fake_name)"
      ],
      "metadata": {
        "colab": {
          "base_uri": "https://localhost:8080/"
        },
        "id": "SZJYUF4Euu45",
        "outputId": "31e61f5d-19bc-49b4-d30f-0c3b9acdf09c"
      },
      "execution_count": 12,
      "outputs": [
        {
          "output_type": "stream",
          "name": "stdout",
          "text": [
            "Fake Name: Kimberly Mason\n",
            "Fake Name: Gregory Doyle\n",
            "Fake Name: Laura Floyd\n",
            "Fake Name: Mrs. Erin Frank\n",
            "Fake Name: Jason Davis\n"
          ]
        }
      ]
    },
    {
      "cell_type": "code",
      "source": [
        "unique_names = [fake.unique.name() for _ in range(5)]\n",
        "print(\"Unique Names:\", unique_names)"
      ],
      "metadata": {
        "colab": {
          "base_uri": "https://localhost:8080/"
        },
        "id": "l0aFejJmuv9e",
        "outputId": "20fb2383-d199-4b63-f72b-ec4a8645f2b4"
      },
      "execution_count": 13,
      "outputs": [
        {
          "output_type": "stream",
          "name": "stdout",
          "text": [
            "Unique Names: ['Troy Carter', 'David Bright', 'Gregory Martin', 'Gina Barton', 'Thomas Nelson']\n"
          ]
        }
      ]
    },
    {
      "cell_type": "markdown",
      "source": [
        "# Date and Time Methods"
      ],
      "metadata": {
        "id": "MtgFVWu8ux9P"
      }
    },
    {
      "cell_type": "code",
      "source": [
        "fake_birthdate = fake.date_of_birth()\n",
        "print(\"Fake Birthdate:\", fake_birthdate)"
      ],
      "metadata": {
        "colab": {
          "base_uri": "https://localhost:8080/"
        },
        "id": "WcFeydEFuw-z",
        "outputId": "ceac7ee1-a9f1-414e-83c1-da54e46e63db"
      },
      "execution_count": 14,
      "outputs": [
        {
          "output_type": "stream",
          "name": "stdout",
          "text": [
            "Fake Birthdate: 1996-02-16\n"
          ]
        }
      ]
    },
    {
      "cell_type": "code",
      "source": [
        "fake_event_date = fake.date_this_year()\n",
        "print(\"Fake Event Date:\", fake_event_date)"
      ],
      "metadata": {
        "colab": {
          "base_uri": "https://localhost:8080/"
        },
        "id": "XTHMJu2Suy_V",
        "outputId": "069923ea-e9ac-4f0d-8958-600c67b736de"
      },
      "execution_count": 15,
      "outputs": [
        {
          "output_type": "stream",
          "name": "stdout",
          "text": [
            "Fake Event Date: 2024-01-02\n"
          ]
        }
      ]
    },
    {
      "cell_type": "code",
      "source": [
        "fake_event_date = fake.date_time_this_year().strftime('%Y-%m-%d %H:%M:%S')\n",
        "print(\"Formatted Event Date:\", fake_event_date)"
      ],
      "metadata": {
        "colab": {
          "base_uri": "https://localhost:8080/"
        },
        "id": "aCToXuyMuz2t",
        "outputId": "91fe4ee1-1ad9-4028-f03f-49efa8367d47"
      },
      "execution_count": 16,
      "outputs": [
        {
          "output_type": "stream",
          "name": "stdout",
          "text": [
            "Formatted Event Date: 2024-01-04 02:58:25\n"
          ]
        }
      ]
    }
  ]
}
