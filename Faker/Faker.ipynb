{
  "nbformat": 4,
  "nbformat_minor": 0,
  "metadata": {
    "colab": {
      "name": "Faker.ipynb",
      "provenance": [],
      "collapsed_sections": [],
      "authorship_tag": "ABX9TyNsDR8E+AOZXn/87jmNuPKz"
    },
    "kernelspec": {
      "name": "python3",
      "display_name": "Python 3"
    },
    "language_info": {
      "name": "python"
    }
  },
  "cells": [
    {
      "cell_type": "markdown",
      "source": [
        "[Reference](https://medium.com/featurepreneur/faker-a-tool-you-didnt-know-you-needed-5d22b3071df7)"
      ],
      "metadata": {
        "id": "A3c7VRf7zxJJ"
      }
    },
    {
      "cell_type": "code",
      "source": [
        "!pip install Faker"
      ],
      "metadata": {
        "colab": {
          "base_uri": "https://localhost:8080/"
        },
        "id": "kqODY46Xz0MZ",
        "outputId": "e01888ac-3bc0-45e0-f9ab-baa128f72788"
      },
      "execution_count": 1,
      "outputs": [
        {
          "output_type": "stream",
          "name": "stdout",
          "text": [
            "Collecting Faker\n",
            "  Downloading Faker-11.3.0-py3-none-any.whl (1.2 MB)\n",
            "\u001b[K     |████████████████████████████████| 1.2 MB 11.5 MB/s \n",
            "\u001b[?25hRequirement already satisfied: python-dateutil>=2.4 in /usr/local/lib/python3.7/dist-packages (from Faker) (2.8.2)\n",
            "Requirement already satisfied: typing-extensions>=3.10.0.2 in /usr/local/lib/python3.7/dist-packages (from Faker) (3.10.0.2)\n",
            "Requirement already satisfied: text-unidecode==1.3 in /usr/local/lib/python3.7/dist-packages (from Faker) (1.3)\n",
            "Requirement already satisfied: six>=1.5 in /usr/local/lib/python3.7/dist-packages (from python-dateutil>=2.4->Faker) (1.15.0)\n",
            "Installing collected packages: Faker\n",
            "Successfully installed Faker-11.3.0\n"
          ]
        }
      ]
    },
    {
      "cell_type": "code",
      "execution_count": 2,
      "metadata": {
        "colab": {
          "base_uri": "https://localhost:8080/",
          "height": 71
        },
        "id": "gYqyEnn2zvng",
        "outputId": "97adc828-c3cc-45da-f2a5-d377c80af5b0"
      },
      "outputs": [
        {
          "output_type": "execute_result",
          "data": {
            "application/vnd.google.colaboratory.intrinsic+json": {
              "type": "string"
            },
            "text/plain": [
              "'Animal sell until up ahead. Force chance explain own. Scientist grow call scientist.\\nData some trade politics Mrs. Across husband sell drug size.'"
            ]
          },
          "metadata": {},
          "execution_count": 2
        }
      ],
      "source": [
        "from faker import Faker\n",
        "fake = Faker()\n",
        "\n",
        "fake.name()\n",
        "# 'Dani Razooqi'\n",
        "\n",
        "fake.address()\n",
        "# '426 Jordy Lodge\n",
        "#  Cartwrightshire, SC 88120-6700'\n",
        "\n",
        "fake.text()\n",
        "# 'French Fries are not actually from France, they originate from Belgium'"
      ]
    }
  ]
}