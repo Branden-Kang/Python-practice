{
  "nbformat": 4,
  "nbformat_minor": 0,
  "metadata": {
    "colab": {
      "name": "Faker — A tool you didn’t know you needed.ipynb",
      "provenance": [],
      "authorship_tag": "ABX9TyPDgo48CADZd9T3x9Px4B2r"
    },
    "kernelspec": {
      "name": "python3",
      "display_name": "Python 3"
    },
    "language_info": {
      "name": "python"
    }
  },
  "cells": [
    {
      "cell_type": "markdown",
      "source": [
        "[Reference](https://medium.com/featurepreneur/faker-a-tool-you-didnt-know-you-needed-5d22b3071df7)"
      ],
      "metadata": {
        "id": "12GUsBwjVu8Z"
      }
    },
    {
      "cell_type": "code",
      "execution_count": 1,
      "metadata": {
        "colab": {
          "base_uri": "https://localhost:8080/"
        },
        "id": "oKRmEFW4VQ2o",
        "outputId": "ed05af40-6752-4027-f5d5-dc456040c468"
      },
      "outputs": [
        {
          "output_type": "stream",
          "name": "stdout",
          "text": [
            "Collecting Faker\n",
            "  Downloading Faker-11.3.0-py3-none-any.whl (1.2 MB)\n",
            "\u001b[?25l\r\u001b[K     |▎                               | 10 kB 26.9 MB/s eta 0:00:01\r\u001b[K     |▌                               | 20 kB 11.8 MB/s eta 0:00:01\r\u001b[K     |▉                               | 30 kB 9.0 MB/s eta 0:00:01\r\u001b[K     |█                               | 40 kB 3.6 MB/s eta 0:00:01\r\u001b[K     |█▎                              | 51 kB 3.6 MB/s eta 0:00:01\r\u001b[K     |█▋                              | 61 kB 4.3 MB/s eta 0:00:01\r\u001b[K     |█▉                              | 71 kB 4.5 MB/s eta 0:00:01\r\u001b[K     |██                              | 81 kB 4.5 MB/s eta 0:00:01\r\u001b[K     |██▍                             | 92 kB 5.0 MB/s eta 0:00:01\r\u001b[K     |██▋                             | 102 kB 4.2 MB/s eta 0:00:01\r\u001b[K     |███                             | 112 kB 4.2 MB/s eta 0:00:01\r\u001b[K     |███▏                            | 122 kB 4.2 MB/s eta 0:00:01\r\u001b[K     |███▍                            | 133 kB 4.2 MB/s eta 0:00:01\r\u001b[K     |███▊                            | 143 kB 4.2 MB/s eta 0:00:01\r\u001b[K     |████                            | 153 kB 4.2 MB/s eta 0:00:01\r\u001b[K     |████▏                           | 163 kB 4.2 MB/s eta 0:00:01\r\u001b[K     |████▌                           | 174 kB 4.2 MB/s eta 0:00:01\r\u001b[K     |████▊                           | 184 kB 4.2 MB/s eta 0:00:01\r\u001b[K     |█████                           | 194 kB 4.2 MB/s eta 0:00:01\r\u001b[K     |█████▎                          | 204 kB 4.2 MB/s eta 0:00:01\r\u001b[K     |█████▌                          | 215 kB 4.2 MB/s eta 0:00:01\r\u001b[K     |█████▉                          | 225 kB 4.2 MB/s eta 0:00:01\r\u001b[K     |██████                          | 235 kB 4.2 MB/s eta 0:00:01\r\u001b[K     |██████▎                         | 245 kB 4.2 MB/s eta 0:00:01\r\u001b[K     |██████▋                         | 256 kB 4.2 MB/s eta 0:00:01\r\u001b[K     |██████▉                         | 266 kB 4.2 MB/s eta 0:00:01\r\u001b[K     |███████                         | 276 kB 4.2 MB/s eta 0:00:01\r\u001b[K     |███████▍                        | 286 kB 4.2 MB/s eta 0:00:01\r\u001b[K     |███████▋                        | 296 kB 4.2 MB/s eta 0:00:01\r\u001b[K     |████████                        | 307 kB 4.2 MB/s eta 0:00:01\r\u001b[K     |████████▏                       | 317 kB 4.2 MB/s eta 0:00:01\r\u001b[K     |████████▍                       | 327 kB 4.2 MB/s eta 0:00:01\r\u001b[K     |████████▊                       | 337 kB 4.2 MB/s eta 0:00:01\r\u001b[K     |█████████                       | 348 kB 4.2 MB/s eta 0:00:01\r\u001b[K     |█████████▏                      | 358 kB 4.2 MB/s eta 0:00:01\r\u001b[K     |█████████▌                      | 368 kB 4.2 MB/s eta 0:00:01\r\u001b[K     |█████████▊                      | 378 kB 4.2 MB/s eta 0:00:01\r\u001b[K     |██████████                      | 389 kB 4.2 MB/s eta 0:00:01\r\u001b[K     |██████████▎                     | 399 kB 4.2 MB/s eta 0:00:01\r\u001b[K     |██████████▌                     | 409 kB 4.2 MB/s eta 0:00:01\r\u001b[K     |██████████▉                     | 419 kB 4.2 MB/s eta 0:00:01\r\u001b[K     |███████████                     | 430 kB 4.2 MB/s eta 0:00:01\r\u001b[K     |███████████▎                    | 440 kB 4.2 MB/s eta 0:00:01\r\u001b[K     |███████████▋                    | 450 kB 4.2 MB/s eta 0:00:01\r\u001b[K     |███████████▉                    | 460 kB 4.2 MB/s eta 0:00:01\r\u001b[K     |████████████                    | 471 kB 4.2 MB/s eta 0:00:01\r\u001b[K     |████████████▍                   | 481 kB 4.2 MB/s eta 0:00:01\r\u001b[K     |████████████▋                   | 491 kB 4.2 MB/s eta 0:00:01\r\u001b[K     |█████████████                   | 501 kB 4.2 MB/s eta 0:00:01\r\u001b[K     |█████████████▏                  | 512 kB 4.2 MB/s eta 0:00:01\r\u001b[K     |█████████████▍                  | 522 kB 4.2 MB/s eta 0:00:01\r\u001b[K     |█████████████▊                  | 532 kB 4.2 MB/s eta 0:00:01\r\u001b[K     |██████████████                  | 542 kB 4.2 MB/s eta 0:00:01\r\u001b[K     |██████████████▏                 | 552 kB 4.2 MB/s eta 0:00:01\r\u001b[K     |██████████████▌                 | 563 kB 4.2 MB/s eta 0:00:01\r\u001b[K     |██████████████▊                 | 573 kB 4.2 MB/s eta 0:00:01\r\u001b[K     |███████████████                 | 583 kB 4.2 MB/s eta 0:00:01\r\u001b[K     |███████████████▎                | 593 kB 4.2 MB/s eta 0:00:01\r\u001b[K     |███████████████▌                | 604 kB 4.2 MB/s eta 0:00:01\r\u001b[K     |███████████████▉                | 614 kB 4.2 MB/s eta 0:00:01\r\u001b[K     |████████████████                | 624 kB 4.2 MB/s eta 0:00:01\r\u001b[K     |████████████████▎               | 634 kB 4.2 MB/s eta 0:00:01\r\u001b[K     |████████████████▋               | 645 kB 4.2 MB/s eta 0:00:01\r\u001b[K     |████████████████▉               | 655 kB 4.2 MB/s eta 0:00:01\r\u001b[K     |█████████████████               | 665 kB 4.2 MB/s eta 0:00:01\r\u001b[K     |█████████████████▍              | 675 kB 4.2 MB/s eta 0:00:01\r\u001b[K     |█████████████████▋              | 686 kB 4.2 MB/s eta 0:00:01\r\u001b[K     |██████████████████              | 696 kB 4.2 MB/s eta 0:00:01\r\u001b[K     |██████████████████▏             | 706 kB 4.2 MB/s eta 0:00:01\r\u001b[K     |██████████████████▍             | 716 kB 4.2 MB/s eta 0:00:01\r\u001b[K     |██████████████████▊             | 727 kB 4.2 MB/s eta 0:00:01\r\u001b[K     |███████████████████             | 737 kB 4.2 MB/s eta 0:00:01\r\u001b[K     |███████████████████▏            | 747 kB 4.2 MB/s eta 0:00:01\r\u001b[K     |███████████████████▌            | 757 kB 4.2 MB/s eta 0:00:01\r\u001b[K     |███████████████████▊            | 768 kB 4.2 MB/s eta 0:00:01\r\u001b[K     |████████████████████            | 778 kB 4.2 MB/s eta 0:00:01\r\u001b[K     |████████████████████▎           | 788 kB 4.2 MB/s eta 0:00:01\r\u001b[K     |████████████████████▌           | 798 kB 4.2 MB/s eta 0:00:01\r\u001b[K     |████████████████████▉           | 808 kB 4.2 MB/s eta 0:00:01\r\u001b[K     |█████████████████████           | 819 kB 4.2 MB/s eta 0:00:01\r\u001b[K     |█████████████████████▎          | 829 kB 4.2 MB/s eta 0:00:01\r\u001b[K     |█████████████████████▋          | 839 kB 4.2 MB/s eta 0:00:01\r\u001b[K     |█████████████████████▉          | 849 kB 4.2 MB/s eta 0:00:01\r\u001b[K     |██████████████████████          | 860 kB 4.2 MB/s eta 0:00:01\r\u001b[K     |██████████████████████▍         | 870 kB 4.2 MB/s eta 0:00:01\r\u001b[K     |██████████████████████▋         | 880 kB 4.2 MB/s eta 0:00:01\r\u001b[K     |███████████████████████         | 890 kB 4.2 MB/s eta 0:00:01\r\u001b[K     |███████████████████████▏        | 901 kB 4.2 MB/s eta 0:00:01\r\u001b[K     |███████████████████████▍        | 911 kB 4.2 MB/s eta 0:00:01\r\u001b[K     |███████████████████████▊        | 921 kB 4.2 MB/s eta 0:00:01\r\u001b[K     |████████████████████████        | 931 kB 4.2 MB/s eta 0:00:01\r\u001b[K     |████████████████████████▏       | 942 kB 4.2 MB/s eta 0:00:01\r\u001b[K     |████████████████████████▌       | 952 kB 4.2 MB/s eta 0:00:01\r\u001b[K     |████████████████████████▊       | 962 kB 4.2 MB/s eta 0:00:01\r\u001b[K     |█████████████████████████       | 972 kB 4.2 MB/s eta 0:00:01\r\u001b[K     |█████████████████████████▎      | 983 kB 4.2 MB/s eta 0:00:01\r\u001b[K     |█████████████████████████▌      | 993 kB 4.2 MB/s eta 0:00:01\r\u001b[K     |█████████████████████████▉      | 1.0 MB 4.2 MB/s eta 0:00:01\r\u001b[K     |██████████████████████████      | 1.0 MB 4.2 MB/s eta 0:00:01\r\u001b[K     |██████████████████████████▎     | 1.0 MB 4.2 MB/s eta 0:00:01\r\u001b[K     |██████████████████████████▋     | 1.0 MB 4.2 MB/s eta 0:00:01\r\u001b[K     |██████████████████████████▉     | 1.0 MB 4.2 MB/s eta 0:00:01\r\u001b[K     |███████████████████████████▏    | 1.1 MB 4.2 MB/s eta 0:00:01\r\u001b[K     |███████████████████████████▍    | 1.1 MB 4.2 MB/s eta 0:00:01\r\u001b[K     |███████████████████████████▋    | 1.1 MB 4.2 MB/s eta 0:00:01\r\u001b[K     |████████████████████████████    | 1.1 MB 4.2 MB/s eta 0:00:01\r\u001b[K     |████████████████████████████▏   | 1.1 MB 4.2 MB/s eta 0:00:01\r\u001b[K     |████████████████████████████▍   | 1.1 MB 4.2 MB/s eta 0:00:01\r\u001b[K     |████████████████████████████▊   | 1.1 MB 4.2 MB/s eta 0:00:01\r\u001b[K     |█████████████████████████████   | 1.1 MB 4.2 MB/s eta 0:00:01\r\u001b[K     |█████████████████████████████▏  | 1.1 MB 4.2 MB/s eta 0:00:01\r\u001b[K     |█████████████████████████████▌  | 1.1 MB 4.2 MB/s eta 0:00:01\r\u001b[K     |█████████████████████████████▊  | 1.2 MB 4.2 MB/s eta 0:00:01\r\u001b[K     |██████████████████████████████  | 1.2 MB 4.2 MB/s eta 0:00:01\r\u001b[K     |██████████████████████████████▎ | 1.2 MB 4.2 MB/s eta 0:00:01\r\u001b[K     |██████████████████████████████▌ | 1.2 MB 4.2 MB/s eta 0:00:01\r\u001b[K     |██████████████████████████████▉ | 1.2 MB 4.2 MB/s eta 0:00:01\r\u001b[K     |███████████████████████████████ | 1.2 MB 4.2 MB/s eta 0:00:01\r\u001b[K     |███████████████████████████████▎| 1.2 MB 4.2 MB/s eta 0:00:01\r\u001b[K     |███████████████████████████████▋| 1.2 MB 4.2 MB/s eta 0:00:01\r\u001b[K     |███████████████████████████████▉| 1.2 MB 4.2 MB/s eta 0:00:01\r\u001b[K     |████████████████████████████████| 1.2 MB 4.2 MB/s \n",
            "\u001b[?25hRequirement already satisfied: typing-extensions>=3.10.0.2 in /usr/local/lib/python3.7/dist-packages (from Faker) (3.10.0.2)\n",
            "Requirement already satisfied: text-unidecode==1.3 in /usr/local/lib/python3.7/dist-packages (from Faker) (1.3)\n",
            "Requirement already satisfied: python-dateutil>=2.4 in /usr/local/lib/python3.7/dist-packages (from Faker) (2.8.2)\n",
            "Requirement already satisfied: six>=1.5 in /usr/local/lib/python3.7/dist-packages (from python-dateutil>=2.4->Faker) (1.15.0)\n",
            "Installing collected packages: Faker\n",
            "Successfully installed Faker-11.3.0\n"
          ]
        }
      ],
      "source": [
        "pip install Faker"
      ]
    },
    {
      "cell_type": "code",
      "source": [
        "from faker import Faker\n",
        "fake = Faker()\n",
        "\n",
        "fake.name()"
      ],
      "metadata": {
        "colab": {
          "base_uri": "https://localhost:8080/",
          "height": 37
        },
        "id": "ZPV7TkkAVwuT",
        "outputId": "e085a1e3-d69d-4c82-afd9-1cd21a2cd8ee"
      },
      "execution_count": 2,
      "outputs": [
        {
          "output_type": "execute_result",
          "data": {
            "application/vnd.google.colaboratory.intrinsic+json": {
              "type": "string"
            },
            "text/plain": [
              "'Nicholas Avila'"
            ]
          },
          "metadata": {},
          "execution_count": 2
        }
      ]
    },
    {
      "cell_type": "code",
      "source": [
        "fake.address()"
      ],
      "metadata": {
        "colab": {
          "base_uri": "https://localhost:8080/",
          "height": 37
        },
        "id": "uyGhD8iQV0Zp",
        "outputId": "7fcb186a-0d0c-421a-89d2-783783fb7ac7"
      },
      "execution_count": 3,
      "outputs": [
        {
          "output_type": "execute_result",
          "data": {
            "application/vnd.google.colaboratory.intrinsic+json": {
              "type": "string"
            },
            "text/plain": [
              "'679 Christine Path Suite 234\\nSouth Jessica, MA 32671'"
            ]
          },
          "metadata": {},
          "execution_count": 3
        }
      ]
    },
    {
      "cell_type": "code",
      "source": [
        "fake.text()"
      ],
      "metadata": {
        "colab": {
          "base_uri": "https://localhost:8080/",
          "height": 71
        },
        "id": "1hTSzy7sV1yv",
        "outputId": "e129b164-7788-4290-959c-be8adf40c925"
      },
      "execution_count": 4,
      "outputs": [
        {
          "output_type": "execute_result",
          "data": {
            "application/vnd.google.colaboratory.intrinsic+json": {
              "type": "string"
            },
            "text/plain": [
              "'Civil three card feeling become early American picture. Walk mean former set factor state. Change education word eye pass citizen easy through.\\nCall tell off team challenge threat four single.'"
            ]
          },
          "metadata": {},
          "execution_count": 4
        }
      ]
    }
  ]
}