{
  "nbformat": 4,
  "nbformat_minor": 0,
  "metadata": {
    "colab": {
      "provenance": [],
      "authorship_tag": "ABX9TyOjy7xGnJbN/a2dEDKLELCI"
    },
    "kernelspec": {
      "name": "python3",
      "display_name": "Python 3"
    },
    "language_info": {
      "name": "python"
    }
  },
  "cells": [
    {
      "cell_type": "markdown",
      "source": [
        "[Reference](https://medium.com/@HeCanThink/sched-repeating-python-tasks-in-style-7a3929801b2a)"
      ],
      "metadata": {
        "id": "S91Hk1P-yrrM"
      }
    },
    {
      "cell_type": "code",
      "execution_count": 1,
      "metadata": {
        "id": "zGUwjMNHySFP"
      },
      "outputs": [],
      "source": [
        "import sched\n",
        "import time\n",
        "\n",
        "def hello():\n",
        "    print(\"Hello world!\")\n",
        "\n",
        "scheduler = sched.scheduler(time.time, time.sleep)\n",
        "\n",
        "def repeat_task():\n",
        "    scheduler.enter(5, 1, hello, ())\n",
        "    scheduler.enter(5, 1, repeat_task, ())\n",
        "\n",
        "repeat_task()\n",
        "scheduler.run()"
      ]
    },
    {
      "cell_type": "code",
      "source": [
        "import sched\n",
        "import time\n",
        "\n",
        "def hello():\n",
        "    print(\"Hello world!\")\n",
        "\n",
        "scheduler = sched.scheduler(time.time, time.sleep)\n",
        "\n",
        "# Schedule the task to run at a specific time\n",
        "specific_time = time.time() + 4 # 4seconds from now\n",
        "scheduler.enterabs(specific_time, 1, hello, ())\n",
        "\n",
        "scheduler.run()"
      ],
      "metadata": {
        "id": "kEwx7yjwykbF"
      },
      "execution_count": 2,
      "outputs": []
    },
    {
      "cell_type": "code",
      "source": [
        "import sched\n",
        "import time\n",
        "import smtplib\n",
        "from email.mime.text import MIMEText\n",
        "\n",
        "def send_email():\n",
        "    # Email configuration\n",
        "    sender_email = 'your_email@gmail.com'  # Replace with your email address\n",
        "    receiver_email = 'recipient_email@example.com'  # Replace with the recipient's email address\n",
        "    smtp_server = 'smtp.gmail.com'\n",
        "    smtp_port = 587\n",
        "    username = 'your_email@gmail.com'  # Replace with your email address\n",
        "    password = 'your_email_password'  # Replace with your email password\n",
        "\n",
        "    # Email content\n",
        "    subject = 'Scheduled Email'\n",
        "    body = 'Hello, this is a scheduled email sent using Python!'\n",
        "\n",
        "    # Compose the email\n",
        "    msg = MIMEText(body)\n",
        "    msg['Subject'] = subject\n",
        "    msg['From'] = sender_email\n",
        "    msg['To'] = receiver_email\n",
        "\n",
        "    try:\n",
        "        # Connect to the SMTP server\n",
        "        server = smtplib.SMTP(smtp_server, smtp_port)\n",
        "        server.starttls()\n",
        "\n",
        "        # Log in to the SMTP server\n",
        "        server.login(username, password)\n",
        "\n",
        "        # Send the email\n",
        "        server.sendmail(sender_email, [receiver_email], msg.as_string())\n",
        "\n",
        "        print(f\"Email sent to {receiver_email}\")\n",
        "    except Exception as e:\n",
        "        print(f\"An error occurred while sending the email: {e}\")\n",
        "    finally:\n",
        "        # Close the SMTP server connection\n",
        "        server.quit()\n",
        "\n",
        "# Create the scheduler instance\n",
        "scheduler = sched.scheduler(time.time, time.sleep)\n",
        "\n",
        "# Calculate the specific time to send the email (e.g., 5 seconds from now)\n",
        "specific_time = time.time() + 5  # Replace 5 with the desired delay in seconds\n",
        "\n",
        "# Schedule the task to send the email at the specific time\n",
        "scheduler.enterabs(specific_time, 1, send_email, ())\n",
        "\n",
        "# Start the scheduler\n",
        "scheduler.run()"
      ],
      "metadata": {
        "id": "hUC-cLYBylrm"
      },
      "execution_count": 3,
      "outputs": []
    }
  ]
}