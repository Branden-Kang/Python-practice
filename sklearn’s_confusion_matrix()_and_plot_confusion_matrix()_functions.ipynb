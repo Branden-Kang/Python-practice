{
  "nbformat": 4,
  "nbformat_minor": 0,
  "metadata": {
    "colab": {
      "name": "sklearn’s confusion_matrix() and plot_confusion_matrix() functions.ipynb",
      "provenance": [],
      "authorship_tag": "ABX9TyPCu4HijDu0t/u8yC6UVD2D"
    },
    "kernelspec": {
      "name": "python3",
      "display_name": "Python 3"
    }
  },
  "cells": [
    {
      "cell_type": "markdown",
      "metadata": {
        "id": "V-8krpDO4y5K"
      },
      "source": [
        "[Reference](https://python.plainenglish.io/how-to-read-and-interpret-sklearns-confusion-matrix-and-plot-confusion-matrix-functions-27b0ab7f00c1)"
      ]
    },
    {
      "cell_type": "code",
      "metadata": {
        "id": "8P143ggU4xkV"
      },
      "source": [
        "import collections \n",
        "from collections import Counter\n",
        "\n",
        "counter = Counter(train.result)\n",
        "for k,v in counter.items():\n",
        "    per = v / len(train.result) * 100\n",
        "    print('Class=%s, count=%d, Percentage=%.3f%%' % (k, v, per))"
      ],
      "execution_count": 1,
      "outputs": []
    },
    {
      "cell_type": "code",
      "metadata": {
        "id": "Fkb0H3wK5FGp"
      },
      "source": [
        "from sklearn.metrics import plot_confusion_matrix\n",
        "\n",
        "plot_confusion_matrix(lr_model, X_val, y_val)"
      ],
      "execution_count": 3,
      "outputs": []
    },
    {
      "cell_type": "code",
      "metadata": {
        "id": "nqttbN3I5Nv8"
      },
      "source": [
        "from sklearn.metrics import confusion_matrix\n",
        "\n",
        "confusion_matrix(y_val, lr_pred)\n",
        "\n",
        "print(\"Confusion Matrix : \\n\", cm)"
      ],
      "execution_count": 5,
      "outputs": []
    },
    {
      "cell_type": "code",
      "metadata": {
        "id": "fcw-3CsD5U27"
      },
      "source": [
        "print(Counter(y_val))\n",
        "print(Counter(y_pred))"
      ],
      "execution_count": 6,
      "outputs": []
    },
    {
      "cell_type": "code",
      "metadata": {
        "id": "1ZivRxtu5gnK"
      },
      "source": [
        "y_pred = model.predict(X_val)\n",
        "print(model.score(X_val, y_val))"
      ],
      "execution_count": 7,
      "outputs": []
    },
    {
      "cell_type": "code",
      "metadata": {
        "id": "0V8amKxD5nCC"
      },
      "source": [
        "from sklearn.metrics import (confusion_matrix, accuracy_score)\n",
        "\n",
        "print('Test accuracy = ', accuracy_score(y_val, pred))"
      ],
      "execution_count": 8,
      "outputs": []
    }
  ]
}