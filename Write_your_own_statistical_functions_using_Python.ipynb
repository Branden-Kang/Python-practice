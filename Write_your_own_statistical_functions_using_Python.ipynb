{
  "nbformat": 4,
  "nbformat_minor": 0,
  "metadata": {
    "colab": {
      "provenance": [],
      "authorship_tag": "ABX9TyPaJ1O5xmunhd7+7hiqkf16"
    },
    "kernelspec": {
      "name": "python3",
      "display_name": "Python 3"
    },
    "language_info": {
      "name": "python"
    }
  },
  "cells": [
    {
      "cell_type": "markdown",
      "source": [
        "[Reference](https://medium.com/geekculture/write-your-own-statistical-functions-using-python-bc2c45a3aa39)"
      ],
      "metadata": {
        "id": "IgfBX_sPn8wV"
      }
    },
    {
      "cell_type": "code",
      "execution_count": 2,
      "metadata": {
        "colab": {
          "base_uri": "https://localhost:8080/"
        },
        "id": "3v0Pi-EVn7C8",
        "outputId": "2473a96e-6f8c-434f-c8b3-8236c5add490"
      },
      "outputs": [
        {
          "output_type": "stream",
          "name": "stdout",
          "text": [
            "394.0\n"
          ]
        }
      ],
      "source": [
        "def calc_mean(x):\n",
        "    temp = 0\n",
        "    for i in range(0,len(x)):\n",
        "        temp = temp + x[i]\n",
        "    temp = temp/len(x)\n",
        "    return temp\n",
        "\n",
        "lst = [600, 470, 170, 430, 300]\n",
        "print(calc_mean(lst))"
      ]
    },
    {
      "cell_type": "code",
      "source": [
        "def calc_variance(x):\n",
        "    mean_x = calc_mean(x)\n",
        "    numerator = 0 \n",
        "    diff_from_mean = []\n",
        "    for i in range(0,len(x),1):\n",
        "        diff_from_mean.append(x[i] - mean_x)\n",
        "        numerator = numerator + (diff_from_mean[i]**2)\n",
        "    variance_x = numerator/len(x)\n",
        "    print(\"Difference \")\n",
        "    return variance_x\n",
        "\n",
        "lst = [600, 470, 170, 430, 300]\n",
        "print(calc_mean(lst))"
      ],
      "metadata": {
        "colab": {
          "base_uri": "https://localhost:8080/"
        },
        "id": "kbTR7l2OoPVg",
        "outputId": "ef65f45e-1807-4934-d9d2-108cd2ff4a5b"
      },
      "execution_count": 3,
      "outputs": [
        {
          "output_type": "stream",
          "name": "stdout",
          "text": [
            "394.0\n"
          ]
        }
      ]
    },
    {
      "cell_type": "code",
      "source": [
        "# list of elements to calculate median\n",
        "def calc_median(x):\n",
        "    n = len(x)\n",
        "    x.sort()\n",
        "    if n % 2 == 0:\n",
        "        median1 = x[n//2]\n",
        "        median2 = x[n//2 - 1]\n",
        "        median = (median1 + median2)/2\n",
        "    else:\n",
        "        median = x[n//2]\n",
        "    return median\n",
        "\n",
        "lst = [600, 470, 170, 430, 300, 500]\n",
        "print(\"Median is: \", calc_median(lst))"
      ],
      "metadata": {
        "colab": {
          "base_uri": "https://localhost:8080/"
        },
        "id": "jSaFZ2qA3Ubk",
        "outputId": "a6d5d3dc-2089-4b9e-ac11-32eed95352d3"
      },
      "execution_count": 4,
      "outputs": [
        {
          "output_type": "stream",
          "name": "stdout",
          "text": [
            "Median is:  450.0\n"
          ]
        }
      ]
    },
    {
      "cell_type": "code",
      "source": [
        "#calculate standard deviation\n",
        "#standard deviation is square root of variance\n",
        "def calc_std(x):\n",
        "    variance_x = calc_variance(x)\n",
        "    std_x = variance_x**.5\n",
        "    return std_x\n",
        "\n",
        "lst = [600, 470, 170, 430, 300]\n",
        "print(\"Standard deviation is: \", calc_std(lst))"
      ],
      "metadata": {
        "colab": {
          "base_uri": "https://localhost:8080/"
        },
        "id": "uksbnhax2_aJ",
        "outputId": "1835ddc9-7549-46dd-a1f7-4f909438bae2"
      },
      "execution_count": 5,
      "outputs": [
        {
          "output_type": "stream",
          "name": "stdout",
          "text": [
            "Difference \n",
            "Standard deviation is:  147.32277488562318\n"
          ]
        }
      ]
    }
  ]
}