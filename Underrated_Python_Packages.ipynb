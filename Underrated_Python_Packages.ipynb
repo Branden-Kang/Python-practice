{
  "nbformat": 4,
  "nbformat_minor": 0,
  "metadata": {
    "colab": {
      "name": "Underrated Python Packages.ipynb",
      "provenance": [],
      "authorship_tag": "ABX9TyPiY6vhfH0ctpdQBas9m70r"
    },
    "kernelspec": {
      "name": "python3",
      "display_name": "Python 3"
    }
  },
  "cells": [
    {
      "cell_type": "markdown",
      "metadata": {
        "id": "McmLKChf39Fx",
        "colab_type": "text"
      },
      "source": [
        "[Reference](https://towardsdatascience.com/the-most-underrated-python-packages-e22bf6049b5e)"
      ]
    },
    {
      "cell_type": "markdown",
      "metadata": {
        "id": "MKnbk17m3mR-",
        "colab_type": "text"
      },
      "source": [
        "- Knock Knock: Send notifications from Python to mobile devices or the desktop or email.\n",
        "- tqdm: Extensible Progress Bar for Python and CLI, with built-in support for pandas.\n",
        "- Colorama: Simple cross-platform colored terminal text.\n",
        "- Pandas-log: It provides feedback about basic pandas operations. Great for debugging long pipe chains.\n",
        "- Pandas-flavor: The easy way to extend Pandas DataFrame/Series.\n",
        "- More-Itertools: as it sounds, it adds additional functions similar to itertools.\n",
        "- streamlit: The easy way to create apps for your machine learning projects."
      ]
    },
    {
      "cell_type": "markdown",
      "metadata": {
        "id": "Ld0eIQmj4Xh7",
        "colab_type": "text"
      },
      "source": [
        "# Data Cleaning and Manipulation\n",
        "\n",
        "- ftfy: Fixes mojibake and other glitches in Unicode text, after the fact.\n",
        "- janitor: A lot of cool functions to clean data.\n",
        "- Optimus: Another package for data cleaning.\n",
        "- Great-expectations: A great package to check if your data obeys your expectations."
      ]
    },
    {
      "cell_type": "markdown",
      "metadata": {
        "id": "_C5WJBoS4kIM",
        "colab_type": "text"
      },
      "source": [
        "# Data Exploration and Modelling\n",
        "\n",
        "- Pandas-profile: Create an HTML report full of statistics from pandas DataFrame.\n",
        "- dabl: Allow data exploration using visualisation and preprocessing.\n",
        "- pydqc: Allow to compare statistics between two datasets.\n",
        "- Pandas-summary: An extension to pandas DataFrames describe function.\n",
        "- pivottable-js: drag’n’drop functionality for pandas inside jupyter notebook."
      ]
    },
    {
      "cell_type": "markdown",
      "metadata": {
        "id": "dtLNpyRO4rud",
        "colab_type": "text"
      },
      "source": [
        "# Data Structures\n",
        "\n",
        "- Bounter: Efficient Counter that uses a limited (bounded) amount of memory regardless of data size.\n",
        "- python-bloomfilter: Scalable Bloom Filter implemented in Python.\n",
        "- datasketch: Gives you probabilistic data structures like LSH, Weighted MinHash, HyperLogLog and more.\n",
        "- ranges: Continuous Range, RangeSet, and RangeDict data structures for Python"
      ]
    },
    {
      "cell_type": "markdown",
      "metadata": {
        "id": "NmRPx4kC4w57",
        "colab_type": "text"
      },
      "source": [
        "# Performance Checking and Optimization\n",
        "\n",
        "- Py-spy: Sampling profiler for Python programs.\n",
        "- pyperf: Toolkit to run Python benchmarks.\n",
        "- snakeviz: An in-browser Python profile viewer with great support for Jupiter notebook.\n",
        "- Cachier: Persistent, stale-free, local and cross-machine caching for Python functions.\n",
        "- Faiss: A library for efficient similarity search and clustering of dense vectors."
      ]
    }
  ]
}