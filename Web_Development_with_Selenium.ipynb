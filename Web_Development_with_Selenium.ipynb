{
  "nbformat": 4,
  "nbformat_minor": 0,
  "metadata": {
    "colab": {
      "name": "Web Development with Selenium.ipynb",
      "provenance": [],
      "authorship_tag": "ABX9TyPNtlHAo/jJVmTuygyHbm8n"
    },
    "kernelspec": {
      "name": "python3",
      "display_name": "Python 3"
    }
  },
  "cells": [
    {
      "cell_type": "markdown",
      "metadata": {
        "id": "_ZrwcpNZ4D7Y"
      },
      "source": [
        "[Reference](https://itnext.io/speed-up-the-web-development-productivity-with-selenium-1c7bde084df3)"
      ]
    },
    {
      "cell_type": "code",
      "metadata": {
        "id": "4SMm5-Sh2myN"
      },
      "source": [
        "import seleniumfrom selenium import webdriver\n",
        "from selenium.webdriver.support.ui import WebDriverWait\n",
        "from selenium.webdriver.support import expected_conditions as EC\n",
        "from selenium.webdriver.common.by import By\n",
        "from selenium.common.exceptions import TimeoutException\n",
        "\n",
        "# Using Chrome to open the web\n",
        "browser = webdriver.Chrome()\n",
        "\n",
        "# Open the website\n",
        "browser.get('http://your-website.com')\n",
        "\n",
        "delay = 3 # seconds\n",
        "try:\n",
        "    WebDriverWait(browser, delay).until(EC.presence_of_element_located((By.ID, 'username')))\n",
        "    print (\"Username Input is ready!\")\n",
        "except TimeoutException:\n",
        "    print (\"Loading took too much time!\")"
      ],
      "execution_count": 1,
      "outputs": []
    },
    {
      "cell_type": "code",
      "metadata": {
        "id": "I45TdhTs4PdI"
      },
      "source": [
        "# select the log Id box\n",
        "id_box = browser.find_element_by_id('username')\n",
        "\n",
        "# Send id information\n",
        "id_box.send_keys('dalenguyen')\n",
        "\n",
        "# Password enter\n",
        "pass_box = browser.find_element_by_id('password')\n",
        "pass_box.send_keys('123456')\n",
        "\n",
        "# Find login button\n",
        "login_button = browser.find_element_by_id('login-submit')\n",
        "login_button.click()"
      ],
      "execution_count": 2,
      "outputs": []
    }
  ]
}