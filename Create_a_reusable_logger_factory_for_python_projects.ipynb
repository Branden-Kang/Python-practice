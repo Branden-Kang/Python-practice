{
  "nbformat": 4,
  "nbformat_minor": 0,
  "metadata": {
    "colab": {
      "name": "Create a reusable logger factory for python projects.ipynb",
      "provenance": [],
      "authorship_tag": "ABX9TyMuNHzGJqCv0j/qS75M3ETc"
    },
    "kernelspec": {
      "name": "python3",
      "display_name": "Python 3"
    },
    "language_info": {
      "name": "python"
    }
  },
  "cells": [
    {
      "cell_type": "markdown",
      "metadata": {
        "id": "TxBbRdjaWe69"
      },
      "source": [
        "[Reference](https://medium.com/geekculture/create-a-reusable-logger-factory-for-python-projects-419ad408665d)"
      ]
    },
    {
      "cell_type": "code",
      "metadata": {
        "id": "lPe6qS84VelI"
      },
      "source": [
        "import logging\n",
        "\n",
        "\n",
        "class LoggerFactory(object):\n",
        "\n",
        "    _LOG = None\n",
        "\n",
        "    @staticmethod\n",
        "    def __create_logger(log_file,  log_level):\n",
        "        \"\"\"\n",
        "        A private method that interacts with the python\n",
        "        logging module\n",
        "        \"\"\"\n",
        "        # set the logging format\n",
        "        log_format = \"%(asctime)s:%(levelname)s:%(message)s\"\n",
        "        \n",
        "        # Initialize the class variable with logger object\n",
        "        LoggerFactory._LOG = logging.getLogger(log_file)\n",
        "        logging.basicConfig(level=logging.INFO, format=log_format, datefmt=\"%Y-%m-%d %H:%M:%S\")\n",
        "        \n",
        "        # set the logging level based on the user selection\n",
        "        if log_level == \"INFO\":\n",
        "            LoggerFactory._LOG.setLevel(logging.INFO)\n",
        "        elif log_level == \"ERROR\":\n",
        "            LoggerFactory._LOG.setLevel(logging.ERROR)\n",
        "        elif log_level == \"DEBUG\":\n",
        "            LoggerFactory._LOG.setLevel(logging.DEBUG)\n",
        "        return LoggerFactory._LOG\n",
        "\n",
        "    @staticmethod\n",
        "    def get_logger(log_file, log_level):\n",
        "        \"\"\"\n",
        "        A static method called by other modules to initialize logger in\n",
        "        their own module\n",
        "        \"\"\"\n",
        "        logger = LoggerFactory.__create_logger(log_file, log_level)\n",
        "        \n",
        "        # return the logger object\n",
        "        return logger"
      ],
      "execution_count": 2,
      "outputs": []
    },
    {
      "cell_type": "code",
      "metadata": {
        "id": "_5bruD9fWXnT"
      },
      "source": [
        "from loggerfactory import LoggerFactory\n",
        "\n",
        "# initialize the logger object\n",
        "\n",
        "logger = LoggerFactory.get_logger(\"mymodule.py\", log_level=\"INFO\")\n",
        "logger.info(\" Inside module 1\")"
      ],
      "execution_count": 4,
      "outputs": []
    }
  ]
}