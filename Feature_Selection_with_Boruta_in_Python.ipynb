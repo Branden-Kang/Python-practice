{
  "nbformat": 4,
  "nbformat_minor": 0,
  "metadata": {
    "colab": {
      "name": "Feature Selection with Boruta in Python.ipynb",
      "provenance": [],
      "authorship_tag": "ABX9TyMOMl26uwIUTgc5dYXIjiu3"
    },
    "kernelspec": {
      "name": "python3",
      "display_name": "Python 3"
    },
    "language_info": {
      "name": "python"
    }
  },
  "cells": [
    {
      "cell_type": "markdown",
      "source": [
        "[Reference](https://medium.com/geekculture/feature-selection-with-boruta-in-python-676e3877e596)"
      ],
      "metadata": {
        "id": "tq_WYOdf-HKG"
      }
    },
    {
      "cell_type": "code",
      "source": [
        "pip install boruta"
      ],
      "metadata": {
        "colab": {
          "base_uri": "https://localhost:8080/"
        },
        "id": "qneiPdDK-aYl",
        "outputId": "c720828e-829e-428b-c6cd-166f6dd0fdaa"
      },
      "execution_count": 4,
      "outputs": [
        {
          "output_type": "stream",
          "name": "stdout",
          "text": [
            "Collecting boruta\n",
            "  Downloading Boruta-0.3-py3-none-any.whl (56 kB)\n",
            "\u001b[?25l\r\u001b[K     |█████▉                          | 10 kB 16.6 MB/s eta 0:00:01\r\u001b[K     |███████████▋                    | 20 kB 10.1 MB/s eta 0:00:01\r\u001b[K     |█████████████████▍              | 30 kB 5.9 MB/s eta 0:00:01\r\u001b[K     |███████████████████████▏        | 40 kB 5.4 MB/s eta 0:00:01\r\u001b[K     |█████████████████████████████   | 51 kB 4.1 MB/s eta 0:00:01\r\u001b[K     |████████████████████████████████| 56 kB 2.2 MB/s \n",
            "\u001b[?25hRequirement already satisfied: numpy>=1.10.4 in /usr/local/lib/python3.7/dist-packages (from boruta) (1.21.5)\n",
            "Requirement already satisfied: scipy>=0.17.0 in /usr/local/lib/python3.7/dist-packages (from boruta) (1.4.1)\n",
            "Requirement already satisfied: scikit-learn>=0.17.1 in /usr/local/lib/python3.7/dist-packages (from boruta) (1.0.2)\n",
            "Requirement already satisfied: joblib>=0.11 in /usr/local/lib/python3.7/dist-packages (from scikit-learn>=0.17.1->boruta) (1.1.0)\n",
            "Requirement already satisfied: threadpoolctl>=2.0.0 in /usr/local/lib/python3.7/dist-packages (from scikit-learn>=0.17.1->boruta) (3.1.0)\n",
            "Installing collected packages: boruta\n",
            "Successfully installed boruta-0.3\n"
          ]
        }
      ]
    },
    {
      "cell_type": "code",
      "execution_count": 5,
      "metadata": {
        "colab": {
          "base_uri": "https://localhost:8080/"
        },
        "id": "k3z0CHBh-C9v",
        "outputId": "dc8ba344-8436-48a5-f598-2360597d3a88"
      },
      "outputs": [
        {
          "output_type": "stream",
          "name": "stdout",
          "text": [
            "Iteration: \t1 / 10\n",
            "Confirmed: \t0\n",
            "Tentative: \t10\n",
            "Rejected: \t0\n",
            "Iteration: \t2 / 10\n",
            "Confirmed: \t0\n",
            "Tentative: \t10\n",
            "Rejected: \t0\n",
            "Iteration: \t3 / 10\n",
            "Confirmed: \t0\n",
            "Tentative: \t10\n",
            "Rejected: \t0\n",
            "Iteration: \t4 / 10\n",
            "Confirmed: \t0\n",
            "Tentative: \t10\n",
            "Rejected: \t0\n",
            "Iteration: \t5 / 10\n",
            "Confirmed: \t0\n",
            "Tentative: \t10\n",
            "Rejected: \t0\n",
            "Iteration: \t6 / 10\n",
            "Confirmed: \t0\n",
            "Tentative: \t10\n",
            "Rejected: \t0\n",
            "Iteration: \t7 / 10\n",
            "Confirmed: \t0\n",
            "Tentative: \t10\n",
            "Rejected: \t0\n",
            "Iteration: \t8 / 10\n",
            "Confirmed: \t3\n",
            "Tentative: \t2\n",
            "Rejected: \t5\n",
            "Iteration: \t9 / 10\n",
            "Confirmed: \t3\n",
            "Tentative: \t2\n",
            "Rejected: \t5\n",
            "\n",
            "\n",
            "BorutaPy finished running.\n",
            "\n",
            "Iteration: \t10 / 10\n",
            "Confirmed: \t3\n",
            "Tentative: \t1\n",
            "Rejected: \t5\n",
            "\n",
            "------Support and Ranking for each feature------\n",
            "Doesn't pass the test:  age  - Ranking:  5\n",
            "Doesn't pass the test:  sex  - Ranking:  8\n",
            "Passes the test:  bmi  - Ranking:  1\n",
            "Passes the test:  bp  - Ranking:  1\n",
            "Doesn't pass the test:  s1  - Ranking:  6\n",
            "Doesn't pass the test:  s2  - Ranking:  4\n",
            "Doesn't pass the test:  s3  - Ranking:  3\n",
            "Doesn't pass the test:  s4  - Ranking:  7\n",
            "Passes the test:  s5  - Ranking:  1\n",
            "Doesn't pass the test:  s6  - Ranking:  2\n"
          ]
        }
      ],
      "source": [
        "from sklearn.datasets import load_diabetes\n",
        "from sklearn.ensemble import RandomForestRegressor\n",
        "from boruta import BorutaPy\n",
        "import pandas as pd\n",
        "import numpy as np\n",
        "\n",
        "# let's load the load_diabetes() dataset from sklearn\n",
        "X, y = load_diabetes(return_X_y=True, as_frame=True)\n",
        "\n",
        "# let's initialize a RF model \n",
        "model = RandomForestRegressor(n_estimators=100, max_depth=5, random_state=42)\n",
        "\n",
        "# let's initialize Boruta\n",
        "feat_selector = BorutaPy(\n",
        "    verbose=2,\n",
        "    estimator=model,\n",
        "    n_estimators='auto',\n",
        "    max_iter=10  # number of iterations to perform\n",
        ")\n",
        "\n",
        "# train Boruta\n",
        "# N.B.: X and y must be numpy arrays\n",
        "feat_selector.fit(np.array(X), np.array(y))\n",
        "\n",
        "# print support and ranking for each feature\n",
        "print(\"\\n------Support and Ranking for each feature------\")\n",
        "for i in range(len(feat_selector.support_)):\n",
        "    if feat_selector.support_[i]:\n",
        "        print(\"Passes the test: \", X.columns[i],\n",
        "              \" - Ranking: \", feat_selector.ranking_[i])\n",
        "    else:\n",
        "        print(\"Doesn't pass the test: \",\n",
        "              X.columns[i], \" - Ranking: \", feat_selector.ranking_[i])"
      ]
    },
    {
      "cell_type": "code",
      "source": [
        "# features selected by Boruta\n",
        "X_filtered = feat_selector.transform(np.array(X))\n",
        "\n",
        "print(\"\\n------Selected Features------\\n\")\n",
        "print(X_filtered)\n",
        "\n",
        "# train the model\n",
        "model.fit(X_filtered, y)\n",
        "\n",
        "# compute predictions\n",
        "predictions = model.predict(X_filtered)\n",
        "\n",
        "# create a dataframe with real predictions and values\n",
        "df = pd.DataFrame({'pred': predictions, 'observed': y})\n",
        "\n",
        "# let's print the dataframe\n",
        "print(\"\\n------Predizioni e valori reali------\\n\")\n",
        "print(df)\n",
        "\n",
        "# compute RMSE\n",
        "mse = ((df['pred'] - df['observed']) ** 2).mean()\n",
        "rmse = np.sqrt(mse)\n",
        "print(\"\\n------RMSE------\\n\", round(rmse, 3))"
      ],
      "metadata": {
        "colab": {
          "base_uri": "https://localhost:8080/"
        },
        "id": "gYmYsnhu-Q57",
        "outputId": "bd235977-1cf5-414e-97d7-8108392e1d73"
      },
      "execution_count": 7,
      "outputs": [
        {
          "output_type": "stream",
          "name": "stdout",
          "text": [
            "\n",
            "------Selected Features------\n",
            "\n",
            "[[ 0.06169621  0.02187235  0.01990842]\n",
            " [-0.05147406 -0.02632783 -0.06832974]\n",
            " [ 0.04445121 -0.00567061  0.00286377]\n",
            " ...\n",
            " [-0.01590626  0.01728186 -0.04687948]\n",
            " [ 0.03906215  0.00121513  0.04452837]\n",
            " [-0.0730303  -0.08141377 -0.00421986]]\n",
            "\n",
            "------Predizioni e valori reali------\n",
            "\n",
            "           pred  observed\n",
            "0    196.511416     151.0\n",
            "1     89.005197      75.0\n",
            "2    169.873954     141.0\n",
            "3    176.305353     206.0\n",
            "4    108.971879     135.0\n",
            "..          ...       ...\n",
            "437  225.770177     178.0\n",
            "438  105.125558     104.0\n",
            "439   97.288380     132.0\n",
            "440  193.988695     220.0\n",
            "441  111.306584      57.0\n",
            "\n",
            "[442 rows x 2 columns]\n",
            "\n",
            "------RMSE------\n",
            " 44.883\n"
          ]
        }
      ]
    }
  ]
}