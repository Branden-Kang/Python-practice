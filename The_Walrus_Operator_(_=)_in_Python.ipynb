{
  "nbformat": 4,
  "nbformat_minor": 0,
  "metadata": {
    "colab": {
      "provenance": [],
      "authorship_tag": "ABX9TyNVFonYflPwd93JzjUO96qs"
    },
    "kernelspec": {
      "name": "python3",
      "display_name": "Python 3"
    },
    "language_info": {
      "name": "python"
    }
  },
  "cells": [
    {
      "cell_type": "markdown",
      "source": [
        "[Reference](https://levelup.gitconnected.com/the-walrus-operator-in-python-5d7d7013461)"
      ],
      "metadata": {
        "id": "_CiHQfmtHIq0"
      }
    },
    {
      "cell_type": "code",
      "execution_count": 1,
      "metadata": {
        "colab": {
          "base_uri": "https://localhost:8080/"
        },
        "id": "WdpqHwXpGiDV",
        "outputId": "a72fc665-c6ac-48a6-c313-f1a4506f080c"
      },
      "outputs": [
        {
          "output_type": "stream",
          "name": "stdout",
          "text": [
            "1\n"
          ]
        }
      ],
      "source": [
        "print(x := 1)"
      ]
    },
    {
      "cell_type": "code",
      "source": [
        "x = 1\n",
        "print(x)"
      ],
      "metadata": {
        "colab": {
          "base_uri": "https://localhost:8080/"
        },
        "id": "IUdKwLp7GjTd",
        "outputId": "112e0621-71bb-418f-e63f-48a3958089ee"
      },
      "execution_count": 2,
      "outputs": [
        {
          "output_type": "stream",
          "name": "stdout",
          "text": [
            "1\n"
          ]
        }
      ]
    },
    {
      "cell_type": "markdown",
      "source": [
        "# List Comprehension with Applying a Function"
      ],
      "metadata": {
        "id": "ktr8-QnlG0F5"
      }
    },
    {
      "cell_type": "code",
      "source": [
        "def square(x):\n",
        "    return x**2\n",
        "\n",
        "\n",
        "numbers = [0, 1, 2, 3]\n",
        "squared_numbers = [square(x) for x in numbers if square(x) <= 4]\n",
        "\n",
        "print(squared_numbers)"
      ],
      "metadata": {
        "colab": {
          "base_uri": "https://localhost:8080/"
        },
        "id": "P3b21uSqGs4c",
        "outputId": "e3935a01-a836-4a4f-ed31-489bca994d11"
      },
      "execution_count": 5,
      "outputs": [
        {
          "output_type": "stream",
          "name": "stdout",
          "text": [
            "[0, 1, 4]\n"
          ]
        }
      ]
    },
    {
      "cell_type": "code",
      "source": [
        "squared_numbers = [y for x in numbers if (y := square(x)) <= 4]"
      ],
      "metadata": {
        "id": "6EG7iKwDGuy5"
      },
      "execution_count": 8,
      "outputs": []
    },
    {
      "cell_type": "markdown",
      "source": [
        "# Re-using a Function Output"
      ],
      "metadata": {
        "id": "Z5_uMirUGyZ0"
      }
    },
    {
      "cell_type": "code",
      "source": [
        "import numpy as np\n",
        "\n",
        "def get_data():\n",
        "    return np.asarray([0, 1, 2, 3])\n",
        "\n",
        "\n",
        "processed_data = [get_data(), get_data() * 2, get_data() / 2]\n",
        "print(processed_data)"
      ],
      "metadata": {
        "colab": {
          "base_uri": "https://localhost:8080/"
        },
        "id": "awcqYBEUGwjB",
        "outputId": "80efa4c7-7bcd-4372-b6e2-ae638076db4b"
      },
      "execution_count": 7,
      "outputs": [
        {
          "output_type": "stream",
          "name": "stdout",
          "text": [
            "[array([0, 1, 2, 3]), array([0, 2, 4, 6]), array([0. , 0.5, 1. , 1.5])]\n"
          ]
        }
      ]
    },
    {
      "cell_type": "code",
      "source": [
        "import numpy as np\n",
        "\n",
        "def get_data():\n",
        "    return np.asarray([0, 1, 2, 3])\n",
        "\n",
        "\n",
        "processed_data = [dataset := get_data(), dataset * 2, dataset    / 2]\n",
        "print(processed_data)"
      ],
      "metadata": {
        "colab": {
          "base_uri": "https://localhost:8080/"
        },
        "id": "q1AiIY3UG29S",
        "outputId": "ab3f9db2-e972-4a6d-b52d-3d156fb496e4"
      },
      "execution_count": 9,
      "outputs": [
        {
          "output_type": "stream",
          "name": "stdout",
          "text": [
            "[array([0, 1, 2, 3]), array([0, 2, 4, 6]), array([0. , 0.5, 1. , 1.5])]\n"
          ]
        }
      ]
    },
    {
      "cell_type": "markdown",
      "source": [
        "# Reading from a File"
      ],
      "metadata": {
        "id": "auOKtK4gG7zR"
      }
    },
    {
      "cell_type": "code",
      "source": [
        "# with open('sample_file.txt', 'r') as f:\n",
        "#     while line := f.readline():\n",
        "#         print(line)"
      ],
      "metadata": {
        "id": "JWJYDNggG7Hv"
      },
      "execution_count": 11,
      "outputs": []
    },
    {
      "cell_type": "markdown",
      "source": [
        "# Reading User Input"
      ],
      "metadata": {
        "id": "8sfInBvvG_I4"
      }
    },
    {
      "cell_type": "code",
      "source": [
        "user_input = input(\"Input 'Stop'\")\n",
        "\n",
        "while user_input != \"Stop\":\n",
        "    user_input = input(\"Input 'Stop'\")\n",
        "\n",
        "print(\"Loop stopped\")"
      ],
      "metadata": {
        "colab": {
          "base_uri": "https://localhost:8080/"
        },
        "id": "fGP1b-v3G8_o",
        "outputId": "e6709d5b-7a61-4e53-e7dc-b8fe1ccaebae"
      },
      "execution_count": 12,
      "outputs": [
        {
          "output_type": "stream",
          "name": "stdout",
          "text": [
            "Input 'Stop'Stop\n",
            "Loop stopped\n"
          ]
        }
      ]
    },
    {
      "cell_type": "code",
      "source": [
        "user_input = input(\"Input 'Stop'\")\n",
        "\n",
        "while (user_input := input(\"Input 'Stop'\")) != \"Stop\":\n",
        "    pass\n",
        "\n",
        "print(\"Loop stopped\")"
      ],
      "metadata": {
        "colab": {
          "base_uri": "https://localhost:8080/"
        },
        "id": "uYCpY3EuHAMa",
        "outputId": "3f8dffe5-3d42-476b-8107-c123e1250b02"
      },
      "execution_count": 13,
      "outputs": [
        {
          "output_type": "stream",
          "name": "stdout",
          "text": [
            "Input 'Stop'Stop\n",
            "Input 'Stop'Stop\n",
            "Loop stopped\n"
          ]
        }
      ]
    }
  ]
}