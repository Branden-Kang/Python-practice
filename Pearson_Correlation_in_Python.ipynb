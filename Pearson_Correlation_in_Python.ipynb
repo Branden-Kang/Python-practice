{
  "nbformat": 4,
  "nbformat_minor": 0,
  "metadata": {
    "colab": {
      "name": "Pearson Correlation in Python.ipynb",
      "provenance": [],
      "authorship_tag": "ABX9TyP+VRAOWyshNjv5nyorwv+O"
    },
    "kernelspec": {
      "name": "python3",
      "display_name": "Python 3"
    }
  },
  "cells": [
    {
      "cell_type": "markdown",
      "metadata": {
        "id": "TxisTNCplN-L"
      },
      "source": [
        "[Reference](https://medium.com/python-in-plain-english/pearson-correlation-in-python-a9fc32c3aa82)"
      ]
    },
    {
      "cell_type": "markdown",
      "metadata": {
        "id": "YB83iIMylr61"
      },
      "source": [
        "Pearson Correlation Coefficient is using ρ, we call it rho. The range is between -1 and 1.\n",
        "<br>\n",
        "$ρ_(X,Y) = cov(X,Y) / (ρ_X*ρ_Y) $ \n"
      ]
    },
    {
      "cell_type": "code",
      "metadata": {
        "id": "BDVtMXHhlK4Z"
      },
      "source": [
        "import math\n",
        "\n",
        "\n",
        "def pearson_correlation(independent, dependent):\n",
        "\n",
        "    \"\"\"\n",
        "    Implements Pearson's Correlation, using several utility functions to\n",
        "    calculate intermediate values before calculating and returning rho.\n",
        "    \"\"\"\n",
        "\n",
        "    # covariance\n",
        "    independent_mean = _arithmetic_mean(independent)\n",
        "    dependent_mean = _arithmetic_mean(dependent)\n",
        "    products_mean = _mean_of_products(independent, dependent)\n",
        "    covariance = products_mean - (independent_mean * dependent_mean)\n",
        "\n",
        "    # standard deviations of independent values\n",
        "    independent_standard_deviation = _standard_deviation(independent)\n",
        "\n",
        "    # standard deviations of dependent values\n",
        "    dependent_standard_deviation = _standard_deviation(dependent)\n",
        "\n",
        "    # Pearson Correlation Coefficient\n",
        "    rho = covariance / (independent_standard_deviation * dependent_standard_deviation)\n",
        "\n",
        "    return rho\n",
        "\n",
        "\n",
        "def  _arithmetic_mean(data):\n",
        "\n",
        "    \"\"\"\n",
        "    Total / count: the everyday meaning of \"average\"\n",
        "    \"\"\"\n",
        "\n",
        "    total = 0\n",
        "\n",
        "    for i in data:\n",
        "        total+= i\n",
        "\n",
        "    return total / len(data)\n",
        "\n",
        "\n",
        "def  _mean_of_products(data1, data2):\n",
        "\n",
        "    \"\"\"\n",
        "    The mean of the products of the corresponding values of bivariate data\n",
        "    \"\"\"\n",
        "\n",
        "    total = 0\n",
        "\n",
        "    for i in range(0, len(data1)):\n",
        "        total += (data1[i] * data2[i])\n",
        "\n",
        "    return total / len(data1)\n",
        "\n",
        "\n",
        "def  _standard_deviation(data):\n",
        "\n",
        "    \"\"\"\n",
        "    A measure of how individual values typically differ from the mean_of_data.\n",
        "    The square root of the variance.\n",
        "    \"\"\"\n",
        "\n",
        "    squares = []\n",
        "\n",
        "    for i in data:\n",
        "        squares.append(i ** 2)\n",
        "\n",
        "    mean_of_squares = _arithmetic_mean(squares)\n",
        "    mean_of_data = _arithmetic_mean(data)\n",
        "    square_of_mean = mean_of_data ** 2\n",
        "    variance = mean_of_squares - square_of_mean\n",
        "    std_dev = math.sqrt(variance)\n",
        "\n",
        "    return std_dev "
      ],
      "execution_count": 1,
      "outputs": []
    },
    {
      "cell_type": "code",
      "metadata": {
        "id": "n3ZY-jA-mn1u"
      },
      "source": [
        "def populatedata(independent, dependent, dataset):\n",
        "\n",
        "    \"\"\"\n",
        "    Populates two lists with one of three sets of bivariate data\n",
        "    suitable for testing and demonstrating Pearson's Correlation\n",
        "    \"\"\"\n",
        "\n",
        "    del independent[:]\n",
        "    del dependent[:]\n",
        "\n",
        "    if dataset == 1:\n",
        "        independent.extend([10,20,40,45,60,65,75,80])\n",
        "        dependent.extend([32,44,68,74,92,98,110,116])\n",
        "        return True\n",
        "\n",
        "    elif dataset == 2:\n",
        "        independent.extend([10,20,40,45,60,65,75,80])\n",
        "        dependent.extend([40,40,60,80,90,110,100,130])\n",
        "        return True\n",
        "\n",
        "    elif dataset == 3:\n",
        "        independent.extend([10,20,40,45,60,65,75,80])\n",
        "        dependent.extend([100,10,130,90,40,80,180,50])\n",
        "        return True\n",
        "\n",
        "    else:\n",
        "        return False "
      ],
      "execution_count": 2,
      "outputs": []
    },
    {
      "cell_type": "code",
      "metadata": {
        "id": "wVxRBniam_Dm",
        "outputId": "fe521ff4-ff7a-476d-9172-b38935316d2c",
        "colab": {
          "base_uri": "https://localhost:8080/",
          "height": 408
        }
      },
      "source": [
        "def main():\n",
        "\n",
        "    \"\"\"\n",
        "    Iterates the three available sets of data\n",
        "    and calls function to calculate rho.\n",
        "    Then prints the data and Pearson Correlation Coefficient.\n",
        "    \"\"\"\n",
        "\n",
        "    print(\"-------------------------\")\n",
        "    print(\"| codedrome.com         |\")\n",
        "    print(\"| Pearson's Correlation |\")\n",
        "    print(\"-------------------------\\n\")\n",
        "\n",
        "    independent = []\n",
        "    dependent = []\n",
        "\n",
        "    for d in range(1, 4):\n",
        "\n",
        "        if populatedata(independent, dependent, d) == True:\n",
        "\n",
        "            rho = pearson_correlation(independent, dependent)\n",
        "\n",
        "            print(\"Dataset %d\\n---------\" % d)\n",
        "            print(\"Independent data: \" + (str(independent)))\n",
        "            print(\"Dependent data:   \" + (str(dependent)))\n",
        "            print(\"Pearson Correlation Coefficient rho = %1.2f\\n\" % rho)\n",
        "        else:\n",
        "            print(\"Cannot populate Dataset %d\" % d)\n",
        "\n",
        "\n",
        "main()"
      ],
      "execution_count": 4,
      "outputs": [
        {
          "output_type": "stream",
          "text": [
            "-------------------------\n",
            "| codedrome.com         |\n",
            "| Pearson's Correlation |\n",
            "-------------------------\n",
            "\n",
            "Dataset 1\n",
            "---------\n",
            "Independent data: [10, 20, 40, 45, 60, 65, 75, 80]\n",
            "Dependent data:   [32, 44, 68, 74, 92, 98, 110, 116]\n",
            "Pearson Correlation Coefficient rho = 1.00\n",
            "\n",
            "Dataset 2\n",
            "---------\n",
            "Independent data: [10, 20, 40, 45, 60, 65, 75, 80]\n",
            "Dependent data:   [40, 40, 60, 80, 90, 110, 100, 130]\n",
            "Pearson Correlation Coefficient rho = 0.96\n",
            "\n",
            "Dataset 3\n",
            "---------\n",
            "Independent data: [10, 20, 40, 45, 60, 65, 75, 80]\n",
            "Dependent data:   [100, 10, 130, 90, 40, 80, 180, 50]\n",
            "Pearson Correlation Coefficient rho = 0.21\n",
            "\n"
          ],
          "name": "stdout"
        }
      ]
    }
  ]
}