{
  "nbformat": 4,
  "nbformat_minor": 0,
  "metadata": {
    "colab": {
      "provenance": [],
      "authorship_tag": "ABX9TyOROK9+y2wr7ms9HnCOlGAR"
    },
    "kernelspec": {
      "name": "python3",
      "display_name": "Python 3"
    },
    "language_info": {
      "name": "python"
    }
  },
  "cells": [
    {
      "cell_type": "markdown",
      "source": [
        "[Reference](https://medium.com/@mr.stucknet/streamline-your-code-with-pythons-ternary-operator-7c3ff7c86205)"
      ],
      "metadata": {
        "id": "ey9PSyCABO1E"
      }
    },
    {
      "cell_type": "code",
      "execution_count": 1,
      "metadata": {
        "colab": {
          "base_uri": "https://localhost:8080/"
        },
        "id": "DJlklhTbArBK",
        "outputId": "ad8777bf-b927-4f05-bb87-705404ee8c2d"
      },
      "outputs": [
        {
          "output_type": "stream",
          "name": "stdout",
          "text": [
            "247 25\n"
          ]
        }
      ],
      "source": [
        "# ternary.py\n",
        "order_total = 247\n",
        "# GBP\n",
        "# classic if/else form\n",
        "if order_total > 100:\n",
        "  discount = 25 # GBP\n",
        "else:\n",
        "  discount = 0 # GBP\n",
        "print(order_total, discount)"
      ]
    },
    {
      "cell_type": "code",
      "source": [
        "# ternary.py\n",
        "# ternary operator\n",
        "discount = 25 if order_total > 100 else 0\n",
        "print(order_total, discount)"
      ],
      "metadata": {
        "colab": {
          "base_uri": "https://localhost:8080/"
        },
        "id": "R1EOFihwBI69",
        "outputId": "c1d8715d-e5d0-449b-b97b-8951c1850958"
      },
      "execution_count": 2,
      "outputs": [
        {
          "output_type": "stream",
          "name": "stdout",
          "text": [
            "247 25\n"
          ]
        }
      ]
    }
  ]
}