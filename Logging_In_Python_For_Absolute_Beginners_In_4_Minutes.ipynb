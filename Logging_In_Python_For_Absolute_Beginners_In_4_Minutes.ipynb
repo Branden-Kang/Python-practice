{
  "nbformat": 4,
  "nbformat_minor": 0,
  "metadata": {
    "colab": {
      "provenance": [],
      "authorship_tag": "ABX9TyO75tItmwfTkyKxsC2u0ENs"
    },
    "kernelspec": {
      "name": "python3",
      "display_name": "Python 3"
    },
    "language_info": {
      "name": "python"
    }
  },
  "cells": [
    {
      "cell_type": "markdown",
      "source": [
        "[Reference](https://levelup.gitconnected.com/logging-in-python-for-absolute-beginners-in-4-minutes-c2fd6644fa5b)"
      ],
      "metadata": {
        "id": "pNt0mFdiCI3e"
      }
    },
    {
      "cell_type": "code",
      "execution_count": 1,
      "metadata": {
        "id": "rwZ3TsZTBwSR"
      },
      "outputs": [],
      "source": [
        "import logging"
      ]
    },
    {
      "cell_type": "code",
      "source": [
        "logging.basicConfig(\n",
        "    level=logging.INFO,\n",
        "    format='%(name)s:%(levelname)s:%(asctime)s:%(message)s',\n",
        "    filename='app.log'\n",
        ")"
      ],
      "metadata": {
        "id": "c2TI4XswCLF0"
      },
      "execution_count": 2,
      "outputs": []
    },
    {
      "cell_type": "code",
      "source": [
        "logging.basicConfig(\n",
        "    level=logging.INFO,\n",
        "    format='%(name)s:%(levelname)s:%(asctime)s:%(message)s',\n",
        "    filename='app.log'\n",
        ")"
      ],
      "metadata": {
        "id": "Zv31KXTdCLs_"
      },
      "execution_count": 3,
      "outputs": []
    },
    {
      "cell_type": "code",
      "source": [
        "import logging\n",
        "\n",
        "logging.basicConfig(\n",
        "    level=logging.INFO,\n",
        "    format='%(name)s:%(levelname)s:%(asctime)s:%(message)s',\n",
        "    filename='app.log'\n",
        ")\n",
        "\n",
        "logger = logging.getLogger('my_test_logger')"
      ],
      "metadata": {
        "id": "6tddHhz-CMlV"
      },
      "execution_count": 4,
      "outputs": []
    },
    {
      "cell_type": "code",
      "source": [
        "logger.critical('this is a critical message')\n",
        "logger.error('this is a error message')\n",
        "logger.warning('this is a warning message')\n",
        "logger.info('this is a info message')\n",
        "logger.debug('this is a debug message')"
      ],
      "metadata": {
        "colab": {
          "base_uri": "https://localhost:8080/"
        },
        "id": "uqohmXnqCQM9",
        "outputId": "966bf1b5-05f0-4d07-b916-81b039890fc1"
      },
      "execution_count": 5,
      "outputs": [
        {
          "output_type": "stream",
          "name": "stderr",
          "text": [
            "CRITICAL:my_test_logger:this is a critical message\n",
            "ERROR:my_test_logger:this is a error message\n",
            "WARNING:my_test_logger:this is a warning message\n"
          ]
        }
      ]
    },
    {
      "cell_type": "code",
      "source": [
        "import logging\n",
        "\n",
        "logging.basicConfig(\n",
        "    level=logging.DEBUG,\n",
        "    format='%(name)s:%(levelname)s:%(asctime)s:%(message)s',\n",
        "    filename='app.log',\n",
        ")\n",
        "\n",
        "logger = logging.getLogger('my_test_logger')\n",
        "\n",
        "logger.critical('this is a critical message')\n",
        "logger.error('this is a error message')\n",
        "logger.warning('this is a warning message')\n",
        "logger.info('this is a info message')\n",
        "logger.debug('this is a debug message')\n",
        "\n",
        "# check your created app.log"
      ],
      "metadata": {
        "colab": {
          "base_uri": "https://localhost:8080/"
        },
        "id": "RhFtHcTrCRXC",
        "outputId": "4caa6263-0fab-4826-eb56-43f8da9e600a"
      },
      "execution_count": 6,
      "outputs": [
        {
          "output_type": "stream",
          "name": "stderr",
          "text": [
            "CRITICAL:my_test_logger:this is a critical message\n",
            "ERROR:my_test_logger:this is a error message\n",
            "WARNING:my_test_logger:this is a warning message\n"
          ]
        }
      ]
    }
  ]
}