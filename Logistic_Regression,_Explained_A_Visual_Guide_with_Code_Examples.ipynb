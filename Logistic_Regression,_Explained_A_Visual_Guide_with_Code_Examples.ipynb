{
  "nbformat": 4,
  "nbformat_minor": 0,
  "metadata": {
    "colab": {
      "provenance": [],
      "authorship_tag": "ABX9TyMpksw27bXmnTuAYRluosQ3"
    },
    "kernelspec": {
      "name": "python3",
      "display_name": "Python 3"
    },
    "language_info": {
      "name": "python"
    }
  },
  "cells": [
    {
      "cell_type": "markdown",
      "source": [
        "[Reference](https://towardsdatascience.com/logistic-regression-explained-a-visual-guide-with-code-examples-for-beginners-81baf5871505)"
      ],
      "metadata": {
        "id": "e0ElzLW__k4b"
      }
    },
    {
      "cell_type": "code",
      "execution_count": 1,
      "metadata": {
        "colab": {
          "base_uri": "https://localhost:8080/"
        },
        "id": "ouA0Ay8R_icL",
        "outputId": "e1d5c50a-6758-4231-aba5-0f04b18f029a"
      },
      "outputs": [
        {
          "output_type": "stream",
          "name": "stdout",
          "text": [
            "Accuracy: 0.9285714285714286\n"
          ]
        }
      ],
      "source": [
        "# Import required libraries\n",
        "import pandas as pd\n",
        "from sklearn.model_selection import train_test_split\n",
        "from sklearn.linear_model import LogisticRegression\n",
        "from sklearn.preprocessing import StandardScaler\n",
        "from sklearn.metrics import accuracy_score\n",
        "\n",
        "# Load the dataset\n",
        "dataset_dict = {\n",
        "    'Outlook': ['sunny', 'sunny', 'overcast', 'rainy', 'rainy', 'rainy', 'overcast', 'sunny', 'sunny', 'rainy', 'sunny', 'overcast', 'overcast', 'rainy', 'sunny', 'overcast', 'rainy', 'sunny', 'sunny', 'rainy', 'overcast', 'rainy', 'sunny', 'overcast', 'sunny', 'overcast', 'rainy', 'overcast'],\n",
        "    'Temperature': [85.0, 80.0, 83.0, 70.0, 68.0, 65.0, 64.0, 72.0, 69.0, 75.0, 75.0, 72.0, 81.0, 71.0, 81.0, 74.0, 76.0, 78.0, 82.0, 67.0, 85.0, 73.0, 88.0, 77.0, 79.0, 80.0, 66.0, 84.0],\n",
        "    'Humidity': [85.0, 90.0, 78.0, 96.0, 80.0, 70.0, 65.0, 95.0, 70.0, 80.0, 70.0, 90.0, 75.0, 80.0, 88.0, 92.0, 85.0, 75.0, 92.0, 90.0, 85.0, 88.0, 65.0, 70.0, 60.0, 95.0, 70.0, 78.0],\n",
        "    'Wind': [False, True, False, False, False, True, True, False, False, False, True, True, False, True, True, False, False, True, False, True, True, False, True, False, False, True, False, False],\n",
        "    'Play': ['No', 'No', 'Yes', 'Yes', 'Yes', 'No', 'Yes', 'No', 'Yes', 'Yes', 'Yes', 'Yes', 'Yes', 'No', 'No', 'Yes', 'Yes', 'No', 'No', 'No', 'Yes', 'Yes', 'Yes', 'Yes', 'Yes', 'Yes', 'No', 'Yes']\n",
        "}\n",
        "df = pd.DataFrame(dataset_dict)\n",
        "\n",
        "# Prepare data: encode categorical variables\n",
        "df = pd.get_dummies(df, columns=['Outlook'],  prefix='', prefix_sep='', dtype=int)\n",
        "df['Wind'] = df['Wind'].astype(int)\n",
        "df['Play'] = (df['Play'] == 'Yes').astype(int)\n",
        "\n",
        "# Split data into training and testing sets\n",
        "X, y = df.drop(columns='Play'), df['Play']\n",
        "X_train, X_test, y_train, y_test = train_test_split(X, y, train_size=0.5, shuffle=False)\n",
        "\n",
        "# Scale numerical features\n",
        "scaler = StandardScaler()\n",
        "float_cols = X_train.select_dtypes(include=['float64']).columns\n",
        "X_train[float_cols] = scaler.fit_transform(X_train[float_cols])\n",
        "X_test[float_cols] = scaler.transform(X_test[float_cols])\n",
        "\n",
        "# Train the model\n",
        "lr_clf = LogisticRegression(penalty='l2', C=1, solver='saga')\n",
        "lr_clf.fit(X_train, y_train)\n",
        "\n",
        "# Make predictions\n",
        "y_pred = lr_clf.predict(X_test)\n",
        "\n",
        "# Evaluate the model\n",
        "print(f\"Accuracy: {accuracy_score(y_test, y_pred)}\")"
      ]
    }
  ]
}