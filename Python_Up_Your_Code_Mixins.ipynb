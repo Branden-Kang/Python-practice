{
  "nbformat": 4,
  "nbformat_minor": 0,
  "metadata": {
    "colab": {
      "provenance": [],
      "authorship_tag": "ABX9TyN4yh1/tR3L8xBLCmZ/RivE"
    },
    "kernelspec": {
      "name": "python3",
      "display_name": "Python 3"
    },
    "language_info": {
      "name": "python"
    }
  },
  "cells": [
    {
      "cell_type": "markdown",
      "source": [
        "[Reference](https://medium.com/the-techlife/python-up-your-code-mixins-3b26e76c0f45)"
      ],
      "metadata": {
        "id": "XCYFniOWGIiR"
      }
    },
    {
      "cell_type": "code",
      "execution_count": 1,
      "metadata": {
        "id": "YwOA6ONbGAHK"
      },
      "outputs": [],
      "source": [
        "class Lifeform():\n",
        "    def eat(self):\n",
        "        print(\"Eating\")\n",
        "class Horse(Lifeform):\n",
        "    pass\n",
        "class Eagle(Lifeform):\n",
        "    pass\n",
        "class Hummingbird(Lifeform):\n",
        "    pass"
      ]
    },
    {
      "cell_type": "code",
      "source": [
        "class Lifeform():\n",
        "    def eat(self):\n",
        "        print(\"Eating\")\n",
        "class FlierMixin():\n",
        "    def fly(self):\n",
        "        print(\"Flying\")\n",
        "class Horse(Lifeform):\n",
        "    pass\n",
        "class Eagle(Lifeform, FlierMixin):\n",
        "    pass\n",
        "class Hummingbird(Lifeform, FlierMixin):\n",
        "    pass"
      ],
      "metadata": {
        "id": "_KjsDz9qGMqq"
      },
      "execution_count": 2,
      "outputs": []
    },
    {
      "cell_type": "code",
      "source": [
        "my_eagle = Eagle()\n",
        "my_eagle.eat()\n",
        "my_eagle.fly()\n",
        "my_horse = Horse()\n",
        "my_horse.eat()\n",
        "my_horse.fly()"
      ],
      "metadata": {
        "colab": {
          "base_uri": "https://localhost:8080/",
          "height": 283
        },
        "id": "EEol-W0LGN15",
        "outputId": "f92f6409-0473-47db-8bca-7cedb30bf817"
      },
      "execution_count": 3,
      "outputs": [
        {
          "output_type": "stream",
          "name": "stdout",
          "text": [
            "Eating\n",
            "Flying\n",
            "Eating\n"
          ]
        },
        {
          "output_type": "error",
          "ename": "AttributeError",
          "evalue": "ignored",
          "traceback": [
            "\u001b[0;31m---------------------------------------------------------------------------\u001b[0m",
            "\u001b[0;31mAttributeError\u001b[0m                            Traceback (most recent call last)",
            "\u001b[0;32m<ipython-input-3-8d02bd431dc0>\u001b[0m in \u001b[0;36m<module>\u001b[0;34m\u001b[0m\n\u001b[1;32m      4\u001b[0m \u001b[0mmy_horse\u001b[0m \u001b[0;34m=\u001b[0m \u001b[0mHorse\u001b[0m\u001b[0;34m(\u001b[0m\u001b[0;34m)\u001b[0m\u001b[0;34m\u001b[0m\u001b[0;34m\u001b[0m\u001b[0m\n\u001b[1;32m      5\u001b[0m \u001b[0mmy_horse\u001b[0m\u001b[0;34m.\u001b[0m\u001b[0meat\u001b[0m\u001b[0;34m(\u001b[0m\u001b[0;34m)\u001b[0m\u001b[0;34m\u001b[0m\u001b[0;34m\u001b[0m\u001b[0m\n\u001b[0;32m----> 6\u001b[0;31m \u001b[0mmy_horse\u001b[0m\u001b[0;34m.\u001b[0m\u001b[0mfly\u001b[0m\u001b[0;34m(\u001b[0m\u001b[0;34m)\u001b[0m\u001b[0;34m\u001b[0m\u001b[0;34m\u001b[0m\u001b[0m\n\u001b[0m",
            "\u001b[0;31mAttributeError\u001b[0m: 'Horse' object has no attribute 'fly'"
          ]
        }
      ]
    }
  ]
}