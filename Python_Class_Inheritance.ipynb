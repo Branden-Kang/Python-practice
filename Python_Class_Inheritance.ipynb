{
  "nbformat": 4,
  "nbformat_minor": 0,
  "metadata": {
    "colab": {
      "name": "Python Class Inheritance.ipynb",
      "provenance": [],
      "authorship_tag": "ABX9TyPBna9N7ySU5HtCNvBXD9YF"
    },
    "kernelspec": {
      "name": "python3",
      "display_name": "Python 3"
    },
    "language_info": {
      "name": "python"
    }
  },
  "cells": [
    {
      "cell_type": "markdown",
      "metadata": {
        "id": "AUJUjwjhTaUe"
      },
      "source": [
        "[Reference](https://towardsdatascience.com/python-class-inheritance-62fdb33ede47)"
      ]
    },
    {
      "cell_type": "code",
      "metadata": {
        "id": "B6hVd7kPTZJE"
      },
      "source": [
        "class Spotify_User:\n",
        "    def __init__(self, name, email, premium):\n",
        "        self.name = name\n",
        "        self.email = email\n",
        "        self.premium = premium\n",
        "\n",
        "    def isPremium(self):\n",
        "        if self.premium:\n",
        "            print(\"{} is a Premium User\".format(self.name))\n",
        "        else:\n",
        "            print(\"{} is not a Premium User\".format(self.name))\n",
        "\n"
      ],
      "execution_count": 1,
      "outputs": []
    },
    {
      "cell_type": "code",
      "metadata": {
        "id": "sRCeKoSYTfNS"
      },
      "source": [
        "user_1 = Spotify_User('Sarah Phillips', 'sphillips@gmail.com', True)\n",
        "user_2 = Spotify_User('Todd Grant', 'tgrant@gmail.com', False)"
      ],
      "execution_count": 2,
      "outputs": []
    },
    {
      "cell_type": "code",
      "metadata": {
        "colab": {
          "base_uri": "https://localhost:8080/"
        },
        "id": "FKgMajCOThUd",
        "outputId": "185f37b4-22ab-4333-d9bf-60948d30e7eb"
      },
      "source": [
        "user_1.isPremium()\n",
        "user_2.isPremium()"
      ],
      "execution_count": 3,
      "outputs": [
        {
          "output_type": "stream",
          "text": [
            "Sarah Phillips is a Premium User\n",
            "Todd Grant is not a Premium User\n"
          ],
          "name": "stdout"
        }
      ]
    },
    {
      "cell_type": "code",
      "metadata": {
        "id": "gzVHteP0Tird"
      },
      "source": [
        "class Premium_User(Spotify_User):\n",
        "    def __init__(self, subscription_tier, name, email, premium):\n",
        "        self.subscription_tier = subscription_tier\n",
        "        super(Premium_User, self).__init__(name, email, premium)\n",
        "\n",
        "    def premium_content():\n",
        "        if self.subscription_tier == 'Tier 1':\n",
        "            print(\"Music streaming with no advertisements\")\n",
        "        if self.subscription_tier == 'Tier 2':\n",
        "            print(\"Tier 1 content + Live Concert Streaming\")"
      ],
      "execution_count": 8,
      "outputs": []
    },
    {
      "cell_type": "code",
      "metadata": {
        "id": "TzRGpvRbTtGx"
      },
      "source": [
        "user3 = Premium_User('Tier 1', 'Megan Harris', 'mharris@gmail.com', True)"
      ],
      "execution_count": 9,
      "outputs": []
    },
    {
      "cell_type": "code",
      "metadata": {
        "colab": {
          "base_uri": "https://localhost:8080/"
        },
        "id": "KJWh98IXT0qC",
        "outputId": "58b70ac1-fb36-4c4f-cd09-944afe1523b6"
      },
      "source": [
        "user3.isPremium()"
      ],
      "execution_count": 10,
      "outputs": [
        {
          "output_type": "stream",
          "text": [
            "Megan Harris is a Premium User\n"
          ],
          "name": "stdout"
        }
      ]
    },
    {
      "cell_type": "code",
      "metadata": {
        "colab": {
          "base_uri": "https://localhost:8080/",
          "height": 198
        },
        "id": "Q7m2QWLnT54p",
        "outputId": "2e429a02-72b5-473a-c78a-ace2b4d6acb5"
      },
      "source": [
        "user3.premium_content()"
      ],
      "execution_count": 11,
      "outputs": [
        {
          "output_type": "error",
          "ename": "TypeError",
          "evalue": "ignored",
          "traceback": [
            "\u001b[0;31m---------------------------------------------------------------------------\u001b[0m",
            "\u001b[0;31mTypeError\u001b[0m                                 Traceback (most recent call last)",
            "\u001b[0;32m<ipython-input-11-b3fc95081fc5>\u001b[0m in \u001b[0;36m<module>\u001b[0;34m()\u001b[0m\n\u001b[0;32m----> 1\u001b[0;31m \u001b[0muser3\u001b[0m\u001b[0;34m.\u001b[0m\u001b[0mpremium_content\u001b[0m\u001b[0;34m(\u001b[0m\u001b[0;34m)\u001b[0m\u001b[0;34m\u001b[0m\u001b[0;34m\u001b[0m\u001b[0m\n\u001b[0m",
            "\u001b[0;31mTypeError\u001b[0m: premium_content() takes 0 positional arguments but 1 was given"
          ]
        }
      ]
    },
    {
      "cell_type": "code",
      "metadata": {
        "id": "pLa_nnuCT7M-"
      },
      "source": [
        "user4 = Premium_User('Tier 2', 'Bill Rogers', 'brogers@gmail.com', True)"
      ],
      "execution_count": 12,
      "outputs": []
    },
    {
      "cell_type": "code",
      "metadata": {
        "colab": {
          "base_uri": "https://localhost:8080/",
          "height": 198
        },
        "id": "jknKdXD5T9Ci",
        "outputId": "f5ccb838-994b-47a9-b63d-45cec5f16558"
      },
      "source": [
        "user4.premium_content()"
      ],
      "execution_count": 13,
      "outputs": [
        {
          "output_type": "error",
          "ename": "TypeError",
          "evalue": "ignored",
          "traceback": [
            "\u001b[0;31m---------------------------------------------------------------------------\u001b[0m",
            "\u001b[0;31mTypeError\u001b[0m                                 Traceback (most recent call last)",
            "\u001b[0;32m<ipython-input-13-43bc8092ecd5>\u001b[0m in \u001b[0;36m<module>\u001b[0;34m()\u001b[0m\n\u001b[0;32m----> 1\u001b[0;31m \u001b[0muser4\u001b[0m\u001b[0;34m.\u001b[0m\u001b[0mpremium_content\u001b[0m\u001b[0;34m(\u001b[0m\u001b[0;34m)\u001b[0m\u001b[0;34m\u001b[0m\u001b[0;34m\u001b[0m\u001b[0m\n\u001b[0m",
            "\u001b[0;31mTypeError\u001b[0m: premium_content() takes 0 positional arguments but 1 was given"
          ]
        }
      ]
    }
  ]
}