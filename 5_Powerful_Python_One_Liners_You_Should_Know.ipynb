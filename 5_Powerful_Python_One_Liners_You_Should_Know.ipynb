{
  "nbformat": 4,
  "nbformat_minor": 0,
  "metadata": {
    "colab": {
      "name": "5 Powerful Python One-Liners You Should Know.ipynb",
      "provenance": [],
      "authorship_tag": "ABX9TyPvdhydO0xZbUmniWBb89Ts"
    },
    "kernelspec": {
      "name": "python3",
      "display_name": "Python 3"
    },
    "language_info": {
      "name": "python"
    }
  },
  "cells": [
    {
      "cell_type": "markdown",
      "metadata": {
        "id": "ELwuM3Qoi3NB"
      },
      "source": [
        "[Reference](https://levelup.gitconnected.com/5-powerful-python-one-liners-you-should-know-469b9c4737c7)"
      ]
    },
    {
      "cell_type": "markdown",
      "metadata": {
        "id": "gIrQWTWLi8GX"
      },
      "source": [
        "# 1- Typecasting of all items in a list"
      ]
    },
    {
      "cell_type": "code",
      "metadata": {
        "colab": {
          "base_uri": "https://localhost:8080/"
        },
        "id": "sUWDd4Vai1iN",
        "outputId": "9ddccaec-53ba-4d16-b0ed-6e2d9873dd8d"
      },
      "source": [
        "list(map(int, ['1', '2', '3']))"
      ],
      "execution_count": 1,
      "outputs": [
        {
          "output_type": "execute_result",
          "data": {
            "text/plain": [
              "[1, 2, 3]"
            ]
          },
          "metadata": {
            "tags": []
          },
          "execution_count": 1
        }
      ]
    },
    {
      "cell_type": "code",
      "metadata": {
        "colab": {
          "base_uri": "https://localhost:8080/"
        },
        "id": "_Bnx7mJki_ZK",
        "outputId": "9a5ce9ff-badc-41ba-a5d8-f5b588f9494d"
      },
      "source": [
        "list(map(float, ['1', 2, '3.0', 4.0, '5', 6]))"
      ],
      "execution_count": 2,
      "outputs": [
        {
          "output_type": "execute_result",
          "data": {
            "text/plain": [
              "[1.0, 2.0, 3.0, 4.0, 5.0, 6.0]"
            ]
          },
          "metadata": {
            "tags": []
          },
          "execution_count": 2
        }
      ]
    },
    {
      "cell_type": "markdown",
      "metadata": {
        "id": "f5K6yIWcjECq"
      },
      "source": [
        "# 2- Sum of digits of an integer"
      ]
    },
    {
      "cell_type": "code",
      "metadata": {
        "id": "1yB4n7D8jBOx"
      },
      "source": [
        "sum_of_digits = lambda x: sum(map(int, str(x)))"
      ],
      "execution_count": 3,
      "outputs": []
    },
    {
      "cell_type": "code",
      "metadata": {
        "colab": {
          "base_uri": "https://localhost:8080/"
        },
        "id": "FDOHbOGBjFwY",
        "outputId": "4ce1000b-c1fc-4f43-c3c2-c540d930bcc7"
      },
      "source": [
        "print(sum_of_digits(1789))"
      ],
      "execution_count": 4,
      "outputs": [
        {
          "output_type": "stream",
          "text": [
            "25\n"
          ],
          "name": "stdout"
        }
      ]
    },
    {
      "cell_type": "markdown",
      "metadata": {
        "id": "c9_6luDDjIeW"
      },
      "source": [
        "# 3- Flat a list that contains sublists"
      ]
    },
    {
      "cell_type": "code",
      "metadata": {
        "id": "-OqwEyNojG0A"
      },
      "source": [
        "l = [[1, 2, 3], [4, 5], [6], [7, 8], [9]]"
      ],
      "execution_count": 5,
      "outputs": []
    },
    {
      "cell_type": "code",
      "metadata": {
        "id": "C45Dq9-IjLAp"
      },
      "source": [
        "flattened_list = []\n",
        "for sublist in l:\n",
        "    for item in sublist:\n",
        "        flattened_list.append(item)"
      ],
      "execution_count": 6,
      "outputs": []
    },
    {
      "cell_type": "code",
      "metadata": {
        "colab": {
          "base_uri": "https://localhost:8080/"
        },
        "id": "d8UvtIjjjMOe",
        "outputId": "55e78090-18c9-422d-96fc-539b119ff36a"
      },
      "source": [
        "l = [[1, 2, 3], [4, 5], [6], [7, 8], [9]]\n",
        "flattened_list = [item for sublist in l for item in sublist]\n",
        "print(flattened_list)"
      ],
      "execution_count": 8,
      "outputs": [
        {
          "output_type": "stream",
          "text": [
            "[1, 2, 3, 4, 5, 6, 7, 8, 9]\n"
          ],
          "name": "stdout"
        }
      ]
    },
    {
      "cell_type": "markdown",
      "metadata": {
        "id": "3cQFZLwIjWBq"
      },
      "source": [
        "# 4- Transpose of a Matrix"
      ]
    },
    {
      "cell_type": "code",
      "metadata": {
        "colab": {
          "base_uri": "https://localhost:8080/"
        },
        "id": "q0NIH51VjSVA",
        "outputId": "f98e7a85-fb86-4cce-d601-5f88a553fdba"
      },
      "source": [
        "A = [[1, 2, 3], [4, 5, 6], [7, 8, 9]]\n",
        "transpose_A = [list(i) for i in zip(*A)]\n",
        "transpose_A"
      ],
      "execution_count": 9,
      "outputs": [
        {
          "output_type": "execute_result",
          "data": {
            "text/plain": [
              "[[1, 4, 7], [2, 5, 8], [3, 6, 9]]"
            ]
          },
          "metadata": {
            "tags": []
          },
          "execution_count": 9
        }
      ]
    },
    {
      "cell_type": "code",
      "metadata": {
        "colab": {
          "base_uri": "https://localhost:8080/"
        },
        "id": "-imO6b7Pjaol",
        "outputId": "7503cbf5-e3c6-48e0-8fb1-86d129a6445a"
      },
      "source": [
        "import numpy as np\n",
        "\n",
        "A = [[1, 2, 3], [4, 5, 6], [7, 8, 9]]\n",
        "print(np.matrix(A))\n",
        "transpose_A = [list(i) for i in zip(*A)]\n",
        "print()\n",
        "print(np.matrix(transpose_A))"
      ],
      "execution_count": 10,
      "outputs": [
        {
          "output_type": "stream",
          "text": [
            "[[1 2 3]\n",
            " [4 5 6]\n",
            " [7 8 9]]\n",
            "\n",
            "[[1 4 7]\n",
            " [2 5 8]\n",
            " [3 6 9]]\n"
          ],
          "name": "stdout"
        }
      ]
    },
    {
      "cell_type": "markdown",
      "metadata": {
        "id": "sykC3wqzjfAT"
      },
      "source": [
        "# 5- Swap keys and values in a dictionary"
      ]
    },
    {
      "cell_type": "code",
      "metadata": {
        "colab": {
          "base_uri": "https://localhost:8080/"
        },
        "id": "wnTQhTiEjdIy",
        "outputId": "ce82b5d5-452f-4768-cd49-88b30118c4ae"
      },
      "source": [
        "staff = {'Data Scientist': 'John', 'Django Developer': 'Jane'}\n",
        "staff = {i:j for j, i in staff.items()}\n",
        "print(staff)"
      ],
      "execution_count": 11,
      "outputs": [
        {
          "output_type": "stream",
          "text": [
            "{'John': 'Data Scientist', 'Jane': 'Django Developer'}\n"
          ],
          "name": "stdout"
        }
      ]
    }
  ]
}