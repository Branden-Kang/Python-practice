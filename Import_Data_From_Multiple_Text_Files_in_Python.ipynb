{
  "nbformat": 4,
  "nbformat_minor": 0,
  "metadata": {
    "colab": {
      "name": "Import Data From Multiple Text Files in Python.ipynb",
      "provenance": [],
      "authorship_tag": "ABX9TyPJWC2nUvcKwV2VjMVV/jhu"
    },
    "kernelspec": {
      "name": "python3",
      "display_name": "Python 3"
    }
  },
  "cells": [
    {
      "cell_type": "markdown",
      "metadata": {
        "id": "x3an_aFVFIXg"
      },
      "source": [
        "[Reference](https://medium.com/python-pandemonium/how-to-import-data-from-multiple-text-files-in-python-c3956a878fe0)"
      ]
    },
    {
      "cell_type": "code",
      "metadata": {
        "id": "G3rQsQFDEcgF"
      },
      "source": [
        "import os\n",
        "import glob\n",
        "import pandas as pd"
      ],
      "execution_count": 1,
      "outputs": []
    },
    {
      "cell_type": "code",
      "metadata": {
        "id": "faAdx1VtFMWZ"
      },
      "source": [
        "os.chdir(r\"C:\\Users\\HARISH\\Path_for_our_files\")"
      ],
      "execution_count": 2,
      "outputs": []
    },
    {
      "cell_type": "code",
      "metadata": {
        "id": "WgOOhRokFNxy"
      },
      "source": [
        "filenames = [i for i in glob.glob(\"*.csv\")]"
      ],
      "execution_count": 3,
      "outputs": []
    },
    {
      "cell_type": "code",
      "metadata": {
        "id": "qvet6UsKFQaa"
      },
      "source": [
        "df = [pd.read_csv(file, sep = \",\", header=None,) \n",
        "      for file in filenames]"
      ],
      "execution_count": 4,
      "outputs": []
    },
    {
      "cell_type": "code",
      "metadata": {
        "id": "zOTkK9JFFSOt"
      },
      "source": [
        "df_Trans = df[0].T"
      ],
      "execution_count": 5,
      "outputs": []
    },
    {
      "cell_type": "code",
      "metadata": {
        "id": "VIbSlJyXFZ-L"
      },
      "source": [
        "df_Trans.columns = df_Trans.iloc[0] # Creating first row as Header\n",
        "df_Trans = df_Trans.drop(0)         # removing first row"
      ],
      "execution_count": 6,
      "outputs": []
    },
    {
      "cell_type": "code",
      "metadata": {
        "id": "er2azrMAFbfo"
      },
      "source": [
        "All_data.to_csv(r\"C:\\Users\\HARISH\\Path_to_save\\FileName.txt\", /\n",
        "                sep='\\t', index=False, header=True)"
      ],
      "execution_count": 7,
      "outputs": []
    }
  ]
}