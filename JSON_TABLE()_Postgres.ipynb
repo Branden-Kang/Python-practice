{
  "nbformat": 4,
  "nbformat_minor": 0,
  "metadata": {
    "colab": {
      "provenance": [],
      "authorship_tag": "ABX9TyNQM74WcXFhxyyiOLlgUFq5"
    },
    "kernelspec": {
      "name": "python3",
      "display_name": "Python 3"
    },
    "language_info": {
      "name": "python"
    }
  },
  "cells": [
    {
      "cell_type": "markdown",
      "source": [
        "[Reference](https://medium.com/@atarax/finally-json-table-is-here-postgres-17-a9b5245649bd)"
      ],
      "metadata": {
        "id": "JqBowCaYzB0k"
      }
    },
    {
      "cell_type": "markdown",
      "source": [
        "# Set up Postgres locally using Docker"
      ],
      "metadata": {
        "id": "sCt_zH0BzPJ3"
      }
    },
    {
      "cell_type": "markdown",
      "source": [
        "## Step 1: Create Initialization Scripts"
      ],
      "metadata": {
        "id": "7XIERbfqzQFl"
      }
    },
    {
      "cell_type": "markdown",
      "source": [
        "```\n",
        "mkdir -p postgres-init\n",
        "```"
      ],
      "metadata": {
        "id": "uzv2ouyBzRd9"
      }
    },
    {
      "cell_type": "markdown",
      "source": [
        "### Inside postgres-init, create the following two files:\n",
        "#### 1. 01-create_role.sh: Script to create a role in PostgreSQL.\n",
        "```\n",
        "#!/bin/bash\n",
        "psql -v ON_ERROR_STOP=1 --username \"$POSTGRES_USER\" --dbname \"$POSTGRES_DB\" <<-EOSQL\n",
        "  CREATE ROLE myrole WITH LOGIN PASSWORD 'mypassword';\n",
        "EOSQL\n",
        "```\n",
        "\n",
        "## 2. 02-create_table_schema_and_insert.sh: Script to create a schema or any other necessary database setup.\n",
        "```\n",
        "#!/bin/bash\n",
        "set -e\n",
        "\n",
        "echo \"creating schema\"\n",
        "\n",
        "psql -v ON_ERROR_STOP=1 --username \"$POSTGRES_USER\" --dbname \"postgres\" <<-EOSQL\n",
        "\n",
        " CREATE TABLE IF NOT EXISTS public.products (\n",
        " id integer NOT NULL,\n",
        " product_name varchar NOT NULL,\n",
        " data jsonb\n",
        " );\n",
        "\n",
        " INSERT INTO public.products (id, product_name, data)\n",
        " VALUES\n",
        "  (1, 'iPhone 16', jsonb_build_object(\n",
        "  'brand', 'Apple',\n",
        "  'model', '16',\n",
        "  'release_year', 2024,\n",
        "  'specifications', jsonb_build_object(\n",
        "   'screen_size', '6.7 inches',\n",
        "   'processor', 'Apple A18 Bionic',\n",
        "   'ram', '8 GB',\n",
        "   'storage', '256 GB',\n",
        "   'battery', '4500 mAh',\n",
        "   'camera', jsonb_build_object(\n",
        "    'rear', jsonb_build_array(\n",
        "     jsonb_build_object('type', 'Wide', 'megapixels', 108),\n",
        "     jsonb_build_object('type', 'Ultra-wide', 'megapixels', 12),\n",
        "     jsonb_build_object('type', 'Telephoto', 'megapixels', 12)\n",
        "    ),\n",
        "    'front', jsonb_build_object('type', 'Wide', 'megapixels', 32)\n",
        "   )\n",
        "  ),\n",
        "  'features', jsonb_build_array(\n",
        "   '5G capable',\n",
        "   'Water-resistant (IP68)',\n",
        "   'Wireless charging',\n",
        "   'Fast charging support',\n",
        "   'Face ID',\n",
        "   'ProMotion 120Hz display'\n",
        "  ),\n",
        "  'warranty', '2 years',\n",
        "  'price', 1199.99\n",
        "  )),\n",
        "  (2, 'Macbook Pro 2023', jsonb_build_object(\n",
        "   'brand', 'Apple',\n",
        "   'model', 'Pro 2023',\n",
        "   'release_year', 2023,\n",
        "   'specifications', jsonb_build_object(\n",
        "    'screen_size', '15.6 inches',\n",
        "    'processor', 'M3 pro',\n",
        "    'ram', '16 GB',\n",
        "    'storage', '512 GB SSD',\n",
        "    'graphics_card', 'M3 pro',\n",
        "    'battery', 'Up to 14 hours'\n",
        "   ),\n",
        "   'features', jsonb_build_array(\n",
        "    'Backlit keyboard',\n",
        "    'Fingerprint reader',\n",
        "    'Thunderbolt 4 ports',\n",
        "    'Retina display'\n",
        "   ),\n",
        "   'warranty', '1 year',\n",
        "   'price', 1499.99\n",
        "  )),\n",
        "  (3, 'Sony Headphones Pro', jsonb_build_object(\n",
        "   'brand', 'AudioSound',\n",
        "   'model', 'Sony WH-CH720n',\n",
        "   'release_year', 2021,\n",
        "   'specifications', jsonb_build_object(\n",
        "    'connectivity', 'Bluetooth 5.0',\n",
        "    'battery_life', '35 hours',\n",
        "    'driver_size', '40mm',\n",
        "    'weight', '250 grams'\n",
        "   ),\n",
        "   'features', jsonb_build_array(\n",
        "    'Active noise cancellation',\n",
        "    'Button controls',\n",
        "    'Voice assistant integration',\n",
        "    'Water-resistant design'\n",
        "   ),\n",
        "   'warranty', '1 year',\n",
        "   'price', 299.99\n",
        "  ));\n",
        "\n",
        "\n",
        "EOSQL\n",
        "```\n"
      ],
      "metadata": {
        "id": "eay6FPo2zVEu"
      }
    },
    {
      "cell_type": "markdown",
      "source": [
        "### Step 2: Create docker-compose.yml\n",
        "#### Create docker-compose.yml file in your root directory\n",
        "```\n",
        "services:\n",
        "  db1:\n",
        "    image: postgres:17.0\n",
        "    environment:\n",
        "      POSTGRES_DB: postgres\n",
        "      POSTGRES_USER: admin\n",
        "      POSTGRES_PASSWORD: dbpassword\n",
        "    ports:\n",
        "      - \"5432:5432\"\n",
        "    command: postgres -c 'max_connections=1000'\n",
        "    volumes:\n",
        "      - ./postgres-init/01-create_role.sh:/docker-entrypoint-initdb.d/01-create_role.sh\n",
        "      - ./postgres-init/02-create_table_schema_and_insert.sh:/docker-entrypoint-initdb.d/02-create_table_schema_and_insert.sh\n",
        "```"
      ],
      "metadata": {
        "id": "eU84nddlzhw7"
      }
    },
    {
      "cell_type": "markdown",
      "source": [
        "### Step 3: Start the PostgreSQL Service\n",
        "```\n",
        "docker-compose up -d\n",
        "```"
      ],
      "metadata": {
        "id": "mdgCkAl0zmxG"
      }
    },
    {
      "cell_type": "markdown",
      "source": [
        "### Step 4: Verify if the container is up and running\n",
        "```\n",
        "docker ps\n",
        "```"
      ],
      "metadata": {
        "id": "47SkhKOuzqm7"
      }
    },
    {
      "cell_type": "markdown",
      "source": [
        " # Connect with your DB\n",
        "Set up the values as above to connect to your Postgres Db.\n",
        "- Host: localhost\n",
        "- Database: postgres\n",
        "- Username: admin\n",
        "- Password: dbpassword\n",
        "\n",
        "Find the name or ID of the container running the PostgreSQL database. You can use the docker ps command to list all running containers and their IDs and names.\n",
        "```\n",
        "docker ps\n",
        "```\n",
        "\n",
        "Use the docker exec command to start a shell inside the container. Replace “container_name_or_id” with the name or ID of the container.\n",
        "\n",
        "```\n",
        "docker exec -it container_or_id bash\n",
        "```\n",
        "\n",
        "Once you are inside the container’s shell, run the psql command to connect to the PostgreSQL database. Replace “username” and “database_name” with your database credentials.\n",
        "\n",
        "```\n",
        "psql -U username -d database_name\n",
        "```\n",
        "\n"
      ],
      "metadata": {
        "id": "M6uk1HZYz0bC"
      }
    },
    {
      "cell_type": "markdown",
      "source": [
        "# Run SQL queries\n",
        "```\n",
        "SELECT jt.*\n",
        "FROM public.products,\n",
        "     JSON_TABLE(\n",
        "         data,\n",
        "         '$'\n",
        "         COLUMNS (\n",
        "             brand text PATH '$.brand',\n",
        "             model text PATH '$.model',\n",
        "             release_year integer PATH '$.release_year',\n",
        "             specifications jsonb PATH '$.specifications',\n",
        "             features jsonb PATH '$.features',\n",
        "             warranty text PATH '$.warranty',\n",
        "             price numeric PATH '$.price'\n",
        "         )\n",
        "     ) AS jt;\n",
        "```"
      ],
      "metadata": {
        "id": "P_ptJBDJ0LcI"
      }
    }
  ]
}