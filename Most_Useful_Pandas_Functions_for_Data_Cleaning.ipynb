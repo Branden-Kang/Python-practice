{
  "nbformat": 4,
  "nbformat_minor": 0,
  "metadata": {
    "colab": {
      "name": "Most Useful Pandas Functions for Data Cleaning.ipynb",
      "provenance": [],
      "collapsed_sections": [],
      "authorship_tag": "ABX9TyOTICGnGFwQ76zUOCOPXTVr"
    },
    "kernelspec": {
      "name": "python3",
      "display_name": "Python 3"
    },
    "language_info": {
      "name": "python"
    }
  },
  "cells": [
    {
      "cell_type": "markdown",
      "source": [
        "[Reference](https://medium.com/@askintamanli/most-usefull-pandas-functions-for-data-cleaning-e66edcddbd74)"
      ],
      "metadata": {
        "id": "lWzRzzUeF1Oy"
      }
    },
    {
      "cell_type": "code",
      "execution_count": 1,
      "metadata": {
        "colab": {
          "base_uri": "https://localhost:8080/"
        },
        "id": "VKUmKFYQFyUu",
        "outputId": "c713a310-2771-4468-a1c8-cded2de31cbe"
      },
      "outputs": [
        {
          "output_type": "stream",
          "name": "stdout",
          "text": [
            "       Name       Age  profession\n",
            "0     Bradd      58.0    NO INPUT\n",
            "1  NO INPUT      45.0       Actor\n",
            "2   Scarlet      37.0    Engineer\n",
            "3      Mike  NO INPUT  Journalist\n",
            "4    Margot      31.0    NO INPUT\n",
            "5  NO INPUT  NO INPUT    NO INPUT\n"
          ]
        }
      ],
      "source": [
        "import pandas as pd\n",
        "import numpy as np\n",
        "\n",
        "data = {\"Name\": [\"Bradd\" , np.nan , \"Scarlet\" , \"Mike\" , \"Margot\" , np.nan],\n",
        "        \"Age\": [58 , 45 , 37 , np.nan , 31 , np.nan],\n",
        "        \"profession\": [np.nan , \"Actor\" , \"Engineer\" , \"Journalist\" , np.nan , np.nan]}\n",
        "\n",
        "df = pd.DataFrame(data)\n",
        "\n",
        "result = df\n",
        "\n",
        "result = df.drop(\"Name\" , axis= 1 )\n",
        "\n",
        "result = df.drop(2)\n",
        "\n",
        "result = df.isnull()\n",
        "\n",
        "result = df[df[\"Name\"].notnull()]\n",
        "\n",
        "result = df.isnull().sum()\n",
        "\n",
        "result = df.isnull().sum().sum()\n",
        "\n",
        "result = df.dropna()\n",
        "\n",
        "result = df.dropna(axis=1)\n",
        "\n",
        "result = df.dropna(how=\"all\")\n",
        "\n",
        "result = df.dropna(subset= [\"Name\",\"Age\"])\n",
        "\n",
        "result = df.fillna(value=\"NO INPUT\")\n",
        "\n",
        "print(result)"
      ]
    }
  ]
}