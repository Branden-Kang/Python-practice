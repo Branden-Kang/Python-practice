{
  "nbformat": 4,
  "nbformat_minor": 0,
  "metadata": {
    "colab": {
      "provenance": [],
      "authorship_tag": "ABX9TyMbs2oY/okb5m5/HFE7lisN"
    },
    "kernelspec": {
      "name": "python3",
      "display_name": "Python 3"
    },
    "language_info": {
      "name": "python"
    }
  },
  "cells": [
    {
      "cell_type": "markdown",
      "source": [
        "[Reference](https://erickleppen.medium.com/how-to-find-outliers-in-data-using-python-d39366ef262b)"
      ],
      "metadata": {
        "id": "SNOJ31WPTWcu"
      }
    },
    {
      "cell_type": "code",
      "execution_count": 1,
      "metadata": {
        "id": "J9oRWd3TSmJw"
      },
      "outputs": [],
      "source": [
        "#import dependencies\n",
        "import pandas as pd\n",
        "import numpy as np\n",
        "import plotly.express as px#load the data into a dataframe\n",
        "df = pd.read_csv('uber.csv')#check the first 5 rows\n",
        "df.head()#drop the unnecessary columns\n",
        "df = df.drop(columns=(['pickup_longitude', 'pickup_latitude', 'dropoff_longitude', 'dropoff_latitude']))"
      ]
    },
    {
      "cell_type": "code",
      "source": [
        "#create a histogram\n",
        "fig = px.histogram(df, x='fare_amount')\n",
        "fig.show()"
      ],
      "metadata": {
        "id": "A3nZgNjcTYyR"
      },
      "execution_count": 2,
      "outputs": []
    },
    {
      "cell_type": "code",
      "source": [
        "#create a box plot\n",
        "fig = px.box(df, y=\"fare_amount\")\n",
        "fig.show()"
      ],
      "metadata": {
        "id": "uxvj-p7oTbPR"
      },
      "execution_count": 3,
      "outputs": []
    },
    {
      "cell_type": "code",
      "source": [
        "fig = px.scatter(x=df['passenger_count'], y=df['fare_amount'])\n",
        "fig.show()"
      ],
      "metadata": {
        "id": "-_oUPPFBTenv"
      },
      "execution_count": 4,
      "outputs": []
    },
    {
      "cell_type": "code",
      "source": [
        "#create a function to find outliers using IQR\n",
        "def find_outliers_IQR(df):\n",
        "    q1=df.quantile(0.25)\n",
        "    q3=df.quantile(0.75)\n",
        "    IQR=q3-q1\n",
        "    outliers = df[((df<(q1-1.5*IQR)) | (df>(q3+1.5*IQR)))]\n",
        "    return outliers"
      ],
      "metadata": {
        "id": "5jpOKbnBTe2W"
      },
      "execution_count": 5,
      "outputs": []
    },
    {
      "cell_type": "code",
      "source": [
        "outliers = find_outliers_IQR(df[\"fare_amount\"])\n",
        "print(\"number of outliers: \"+ str(len(outliers)))\n",
        "print(\"max outlier value: \"+ str(outliers.max()))\n",
        "print(\"min outlier value: \"+ str(outliers.min()))\n",
        "outliers"
      ],
      "metadata": {
        "id": "hWozNjcpTg14"
      },
      "execution_count": 6,
      "outputs": []
    },
    {
      "cell_type": "code",
      "source": [
        "outliers = find_outliers_IQR(df[[\"passenger_count\",\"fare_amount\"]])\n",
        "outliers"
      ],
      "metadata": {
        "id": "uJMyTAGsTiTF"
      },
      "execution_count": 7,
      "outputs": []
    },
    {
      "cell_type": "code",
      "source": [
        "def drop_outliers_IQR(df):\n",
        "    q1=df.quantile(0.25)\n",
        "    q3=df.quantile(0.75)\n",
        "    IQR=q3-q1\n",
        "    not_outliers = df[~((df<(q1-1.5*IQR)) | (df>(q3+1.5*IQR)))]\n",
        "    outliers_dropped = outliers.dropna().reset_index()\n",
        "    return outliers_dropped"
      ],
      "metadata": {
        "id": "yr2jcuz-TkCG"
      },
      "execution_count": 9,
      "outputs": []
    },
    {
      "cell_type": "code",
      "source": [
        "upper_limit = df['fare_amount'].mean() + 3*df['fare_amount'].std()\n",
        "print(upper_limit)\n",
        "lower_limit = df['fare_amount'].mean() - 3*df['fare_amount'].std()\n",
        "print(lower_limit)"
      ],
      "metadata": {
        "id": "pg1savRkTo-K"
      },
      "execution_count": 10,
      "outputs": []
    },
    {
      "cell_type": "code",
      "source": [
        "df['fare_amount'] = np.where(df['fare_amount'] > upper_limit,\n",
        "    upper_limit,\n",
        "    np.where(\n",
        "        df['fare_amount'] < lower_limit,\n",
        "        lower_limit,\n",
        "        df['fare_amount']\n",
        "    )\n",
        ")"
      ],
      "metadata": {
        "id": "-lfThfcgTrov"
      },
      "execution_count": 11,
      "outputs": []
    },
    {
      "cell_type": "code",
      "source": [
        "df.describe()[['fare_amount']]"
      ],
      "metadata": {
        "id": "XgkkPxsxTtug"
      },
      "execution_count": 12,
      "outputs": []
    },
    {
      "cell_type": "code",
      "source": [
        "def impute_outliers_IQR(df):\n",
        "    q1=df.quantile(0.25)\n",
        "    q3=df.quantile(0.75)\n",
        "    IQR=q3-q1\n",
        "    upper = df[~(df>(q3+1.5*IQR))].max()\n",
        "    lower = df[~(df<(q1-1.5*IQR))].min()\n",
        "    df = np.where(df > upper,\n",
        "        df.mean(),\n",
        "        np.where(\n",
        "            df < lower,\n",
        "            df.mean(),\n",
        "            df\n",
        "            )\n",
        "        )\n",
        "    return df"
      ],
      "metadata": {
        "id": "sDLGVTX5TwCT"
      },
      "execution_count": 13,
      "outputs": []
    },
    {
      "cell_type": "code",
      "source": [
        "df['fare_amount'] = impute_outliers_IQR(df['fare_amount'])\n",
        "df.describe()['fare_amount']"
      ],
      "metadata": {
        "id": "NeA5WR5wTxiR"
      },
      "execution_count": 14,
      "outputs": []
    }
  ]
}