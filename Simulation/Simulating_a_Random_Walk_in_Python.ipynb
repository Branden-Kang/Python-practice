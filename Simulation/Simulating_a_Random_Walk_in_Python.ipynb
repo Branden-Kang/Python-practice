{
  "nbformat": 4,
  "nbformat_minor": 0,
  "metadata": {
    "colab": {
      "name": "Simulating a Random Walk in Python.ipynb",
      "provenance": [],
      "collapsed_sections": [],
      "authorship_tag": "ABX9TyOwPZVGwX8oej2RtxJQIDW0"
    },
    "kernelspec": {
      "name": "python3",
      "display_name": "Python 3"
    },
    "language_info": {
      "name": "python"
    }
  },
  "cells": [
    {
      "cell_type": "markdown",
      "metadata": {
        "id": "UZfYocilEPWk"
      },
      "source": [
        "[Reference](https://medium.com/nerd-for-tech/simulating-a-random-walk-in-python-617d1e6de7d7)"
      ]
    },
    {
      "cell_type": "code",
      "metadata": {
        "id": "_vdbxsQ6EPME"
      },
      "source": [
        "import turtle as t\n",
        "import random"
      ],
      "execution_count": null,
      "outputs": []
    },
    {
      "cell_type": "code",
      "metadata": {
        "id": "QmbNPrWcEN3C"
      },
      "source": [
        "degrees = [90, 180, 0, 270]\n",
        "colours = [\"CornflowerBlue\", \"DarkOrchid\", \"IndianRed\",\n",
        "           \"DeepSkyBlue\", \"LightSeaGreen\", \"wheat\", \"SlateGray\", \"SeaGreen\"]\n",
        "my_turtle = t.Turtle() # Setting the turtle object"
      ],
      "execution_count": null,
      "outputs": []
    },
    {
      "cell_type": "code",
      "metadata": {
        "id": "0_mBBDgEEVYG"
      },
      "source": [
        "for _ in range(200):\n",
        "    directions = [my_turtle.right, my_turtle.left]\n",
        "    set_direction = random.choice(directions)\n",
        "    set_direction(random.choice(degrees))\n",
        "    my_turtle.color(random.choice(colours))\n",
        "    my_turtle.pensize(5)\n",
        "    my_turtle.speed(10)\n",
        "    my_turtle.forward(30)"
      ],
      "execution_count": null,
      "outputs": []
    },
    {
      "cell_type": "code",
      "metadata": {
        "id": "ydedRO9xEZN4"
      },
      "source": [
        "screen = t.Screen()\n",
        "screen.exitonclick()"
      ],
      "execution_count": null,
      "outputs": []
    }
  ]
}