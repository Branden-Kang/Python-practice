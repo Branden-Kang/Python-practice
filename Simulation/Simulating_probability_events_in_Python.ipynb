{
  "nbformat": 4,
  "nbformat_minor": 0,
  "metadata": {
    "colab": {
      "name": "Simulating probability events in Python.ipynb",
      "provenance": [],
      "authorship_tag": "ABX9TyPHaSCuynmA4rPiw+J/S4BZ"
    },
    "kernelspec": {
      "name": "python3",
      "display_name": "Python 3"
    }
  },
  "cells": [
    {
      "cell_type": "markdown",
      "metadata": {
        "id": "PC-AvZkk7avn",
        "colab_type": "text"
      },
      "source": [
        "[Reference](https://medium.com/future-vision/simulating-probability-events-in-python-5dd29e34e381)"
      ]
    },
    {
      "cell_type": "code",
      "metadata": {
        "id": "eRHEQ9Gu7Y8S",
        "colab_type": "code",
        "colab": {
          "base_uri": "https://localhost:8080/",
          "height": 34
        },
        "outputId": "266edce1-1634-48c1-b05d-c9bf07d11fa0"
      },
      "source": [
        "import random\n",
        "import numpy as np\n",
        "\n",
        "def roll_the_dice(n = 100000):\n",
        "  count = 0\n",
        "  for i in range(n):\n",
        "    dice1 = random.randint(1, 6)\n",
        "    dice2 = random.randint(1, 6)\n",
        "\n",
        "  score = dice1 + dice2\n",
        "\n",
        "  if score % 2 == 0 or score > 7:\n",
        "    count += 1\n",
        "  \n",
        "  return count/n\n",
        "print(\"The probability of rolling is: \",np.round(roll_the_dice()*100,2),'%')"
      ],
      "execution_count": 3,
      "outputs": [
        {
          "output_type": "stream",
          "text": [
            "The probability of rolling is:  0.0 %\n"
          ],
          "name": "stdout"
        }
      ]
    },
    {
      "cell_type": "code",
      "metadata": {
        "id": "aSfQIQEq791S",
        "colab_type": "code",
        "colab": {
          "base_uri": "https://localhost:8080/",
          "height": 51
        },
        "outputId": "a4b33361-9792-47f1-cfa5-8bcf5d9d8a6b"
      },
      "source": [
        "d = {}\n",
        "for i in range(60):\n",
        "  if i < 10:\n",
        "    d[i] = 'white'\n",
        "  elif i > 9 and i <30:\n",
        "    d[i] = 'red'\n",
        "  else:\n",
        "    d[i] = 'green'\n",
        "\n",
        "n = 100000\n",
        "part_a_total = 0\n",
        "part_b_total = 9\n",
        "\n",
        "for i in range(n):\n",
        "  lst = []\n",
        "  for i in range(5):\n",
        "    lst.append(d[random.randint(0, 59)])\n",
        "\n",
        "  lst = np.array(lst)\n",
        "\n",
        "  white = sum(lst =='white')\n",
        "  red = sum(lst == 'red')\n",
        "  green = sum(lst == 'green')\n",
        "\n",
        "  if white == 3 and red == 2:\n",
        "    part_a_total +=1\n",
        "\n",
        "  if red == 5 or white == 5 or green == 5:\n",
        "    part_b_total += 1\n",
        "\n",
        "print('The probability of 3 white and 2 red is: ', part_a_total/n*100,'%')\n",
        "print('The probability of same color is: ', part_b_total/n*100,'%')"
      ],
      "execution_count": 5,
      "outputs": [
        {
          "output_type": "stream",
          "text": [
            "The probability of 3 white and 2 red is:  0.524 %\n",
            "The probability of same color is:  3.6220000000000003 %\n"
          ],
          "name": "stdout"
        }
      ]
    }
  ]
}