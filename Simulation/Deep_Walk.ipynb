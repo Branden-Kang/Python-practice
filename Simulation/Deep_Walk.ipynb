{
  "nbformat": 4,
  "nbformat_minor": 0,
  "metadata": {
    "colab": {
      "name": "Deep Walk.ipynb",
      "provenance": [],
      "authorship_tag": "ABX9TyN6dkJ4jCSIkUq9jdivsx1U"
    },
    "kernelspec": {
      "name": "python3",
      "display_name": "Python 3"
    }
  },
  "cells": [
    {
      "cell_type": "markdown",
      "metadata": {
        "id": "JNrmN3qHXaSy",
        "colab_type": "text"
      },
      "source": [
        "[Reference](https://towardsdatascience.com/deep-walk-the-overlooked-lovechild-of-nlp-and-graph-data-structures-657793831800)"
      ]
    },
    {
      "cell_type": "code",
      "metadata": {
        "id": "DRhjmcjOZzSJ",
        "colab_type": "code",
        "colab": {
          "base_uri": "https://localhost:8080/",
          "height": 156
        },
        "outputId": "3d6d1b6c-efd6-4bf3-d3ff-f8569d693f7b"
      },
      "source": [
        "import os\n",
        "from google.colab import drive\n",
        "drive.mount('/content/gdrive',force_remount=True)\n",
        "!pwd\n",
        "os.chdir('gdrive/My Drive/Colab Notebooks/')\n",
        "!pwd"
      ],
      "execution_count": null,
      "outputs": [
        {
          "output_type": "stream",
          "text": [
            "Go to this URL in a browser: https://accounts.google.com/o/oauth2/auth?client_id=947318989803-6bn6qk8qdgf4n4g3pfee6491hc0brc4i.apps.googleusercontent.com&redirect_uri=urn%3aietf%3awg%3aoauth%3a2.0%3aoob&response_type=code&scope=email%20https%3a%2f%2fwww.googleapis.com%2fauth%2fdocs.test%20https%3a%2f%2fwww.googleapis.com%2fauth%2fdrive%20https%3a%2f%2fwww.googleapis.com%2fauth%2fdrive.photos.readonly%20https%3a%2f%2fwww.googleapis.com%2fauth%2fpeopleapi.readonly\n",
            "\n",
            "Enter your authorization code:\n",
            "··········\n",
            "Mounted at /content/gdrive\n",
            "/content\n",
            "/content/gdrive/My Drive/Colab Notebooks\n"
          ],
          "name": "stdout"
        }
      ]
    },
    {
      "cell_type": "code",
      "metadata": {
        "id": "GZq7VCOqZSfW",
        "colab_type": "code",
        "colab": {}
      },
      "source": [
        "import pandas as pd"
      ],
      "execution_count": null,
      "outputs": []
    },
    {
      "cell_type": "code",
      "metadata": {
        "id": "xgfBiVAEZWU5",
        "colab_type": "code",
        "colab": {}
      },
      "source": [
        "skill_data = pd.read_csv(\"Technology Skills.csv\")"
      ],
      "execution_count": null,
      "outputs": []
    },
    {
      "cell_type": "code",
      "metadata": {
        "id": "LWPuUstwZa5D",
        "colab_type": "code",
        "colab": {
          "base_uri": "https://localhost:8080/",
          "height": 204
        },
        "outputId": "4f242e65-92a8-4dd9-b802-b4dfb1e72509"
      },
      "source": [
        "skill_data.head()"
      ],
      "execution_count": null,
      "outputs": [
        {
          "output_type": "execute_result",
          "data": {
            "text/html": [
              "<div>\n",
              "<style scoped>\n",
              "    .dataframe tbody tr th:only-of-type {\n",
              "        vertical-align: middle;\n",
              "    }\n",
              "\n",
              "    .dataframe tbody tr th {\n",
              "        vertical-align: top;\n",
              "    }\n",
              "\n",
              "    .dataframe thead th {\n",
              "        text-align: right;\n",
              "    }\n",
              "</style>\n",
              "<table border=\"1\" class=\"dataframe\">\n",
              "  <thead>\n",
              "    <tr style=\"text-align: right;\">\n",
              "      <th></th>\n",
              "      <th>O*NET-SOC Code</th>\n",
              "      <th>Title</th>\n",
              "      <th>Example</th>\n",
              "      <th>Commodity Code</th>\n",
              "      <th>Commodity Title</th>\n",
              "      <th>Hot Technology</th>\n",
              "    </tr>\n",
              "  </thead>\n",
              "  <tbody>\n",
              "    <tr>\n",
              "      <th>0</th>\n",
              "      <td>11-1011.00</td>\n",
              "      <td>Chief Executives</td>\n",
              "      <td>Adobe Systems Adobe Acrobat</td>\n",
              "      <td>43232202</td>\n",
              "      <td>Document management software</td>\n",
              "      <td>Y</td>\n",
              "    </tr>\n",
              "    <tr>\n",
              "      <th>1</th>\n",
              "      <td>11-1011.00</td>\n",
              "      <td>Chief Executives</td>\n",
              "      <td>AdSense Tracker</td>\n",
              "      <td>43232306</td>\n",
              "      <td>Data base user interface and query software</td>\n",
              "      <td>N</td>\n",
              "    </tr>\n",
              "    <tr>\n",
              "      <th>2</th>\n",
              "      <td>11-1011.00</td>\n",
              "      <td>Chief Executives</td>\n",
              "      <td>Atlassian JIRA</td>\n",
              "      <td>43232201</td>\n",
              "      <td>Content workflow software</td>\n",
              "      <td>Y</td>\n",
              "    </tr>\n",
              "    <tr>\n",
              "      <th>3</th>\n",
              "      <td>11-1011.00</td>\n",
              "      <td>Chief Executives</td>\n",
              "      <td>Blackbaud The Raiser's Edge</td>\n",
              "      <td>43232303</td>\n",
              "      <td>Customer relationship management CRM software</td>\n",
              "      <td>N</td>\n",
              "    </tr>\n",
              "    <tr>\n",
              "      <th>4</th>\n",
              "      <td>11-1011.00</td>\n",
              "      <td>Chief Executives</td>\n",
              "      <td>ComputerEase Construction Accounting</td>\n",
              "      <td>43231601</td>\n",
              "      <td>Accounting software</td>\n",
              "      <td>N</td>\n",
              "    </tr>\n",
              "  </tbody>\n",
              "</table>\n",
              "</div>"
            ],
            "text/plain": [
              "  O*NET-SOC Code  ... Hot Technology\n",
              "0     11-1011.00  ...              Y\n",
              "1     11-1011.00  ...              N\n",
              "2     11-1011.00  ...              Y\n",
              "3     11-1011.00  ...              N\n",
              "4     11-1011.00  ...              N\n",
              "\n",
              "[5 rows x 6 columns]"
            ]
          },
          "metadata": {
            "tags": []
          },
          "execution_count": 11
        }
      ]
    },
    {
      "cell_type": "code",
      "metadata": {
        "id": "qhT4R6ngbIXF",
        "colab_type": "code",
        "colab": {}
      },
      "source": [
        "import networkx as nx\n",
        "edges = skill_data[['Title','Example']].values.tolist()\n",
        "net = nx.from_edgelist(edges)"
      ],
      "execution_count": null,
      "outputs": []
    },
    {
      "cell_type": "code",
      "metadata": {
        "id": "7mItP6XhbJgJ",
        "colab_type": "code",
        "colab": {
          "base_uri": "https://localhost:8080/",
          "height": 374
        },
        "outputId": "6fefe514-480c-4f1f-ea51-13c83e6d7e23"
      },
      "source": [
        "def random_walk(graph,seed,rounds=20):\n",
        "  import random\n",
        "  movements = [seed]\n",
        "  for round in range(rounds):\n",
        "    node_choices = [node for node in graph.neighbors(seed)]\n",
        "    seed = random.choice(node_choices)\n",
        "    movements.append(seed)\n",
        "  return movements\n",
        "\n",
        "random_walk(net,'Python')"
      ],
      "execution_count": null,
      "outputs": [
        {
          "output_type": "execute_result",
          "data": {
            "text/plain": [
              "['Python',\n",
              " 'Financial Quantitative Analysts',\n",
              " 'SAS',\n",
              " 'Information Security Analysts',\n",
              " 'Virus scanning software',\n",
              " 'Computer Systems Analysts',\n",
              " 'Adobe Systems Adobe Photoshop',\n",
              " 'Transportation Planners',\n",
              " 'Iteris Turbo Architecture',\n",
              " 'Transportation Planners',\n",
              " 'IBM SPSS Statistics',\n",
              " 'Computer and Information Research Scientists',\n",
              " 'Oracle Solaris',\n",
              " 'Sales Engineers',\n",
              " 'Adobe Systems Adobe Flash',\n",
              " 'Management Analysts',\n",
              " 'Microsoft Visio',\n",
              " 'Desktop Publishers',\n",
              " 'GNU Image Manipulation Program GIMP',\n",
              " 'Desktop Publishers',\n",
              " 'OpenOffice.org']"
            ]
          },
          "metadata": {
            "tags": []
          },
          "execution_count": 13
        }
      ]
    },
    {
      "cell_type": "code",
      "metadata": {
        "id": "qWZZ8792bLlk",
        "colab_type": "code",
        "colab": {}
      },
      "source": [
        "walks = []\n",
        "vertices = [n for n in net.nodes]\n",
        "for v in vertices:\n",
        "  walks.append(random_walk(graph=net,seed=v))"
      ],
      "execution_count": null,
      "outputs": []
    },
    {
      "cell_type": "code",
      "metadata": {
        "id": "XZZRAErtbNg8",
        "colab_type": "code",
        "colab": {}
      },
      "source": [
        "from gensim.models.word2vec import Word2Vec\n",
        "embeddings = Word2Vec(walks,size=10,window=5)"
      ],
      "execution_count": null,
      "outputs": []
    },
    {
      "cell_type": "code",
      "metadata": {
        "id": "Jz39EZtPbPBh",
        "colab_type": "code",
        "colab": {
          "base_uri": "https://localhost:8080/",
          "height": 275
        },
        "outputId": "336fba92-dfda-4973-9389-b3bed8cbe9a3"
      },
      "source": [
        "embeddings.most_similar('C++')"
      ],
      "execution_count": null,
      "outputs": [
        {
          "output_type": "stream",
          "text": [
            "/usr/local/lib/python3.6/dist-packages/ipykernel_launcher.py:1: DeprecationWarning: Call to deprecated `most_similar` (Method will be removed in 4.0.0, use self.wv.most_similar() instead).\n",
            "  \"\"\"Entry point for launching an IPython kernel.\n",
            "/usr/local/lib/python3.6/dist-packages/gensim/matutils.py:737: FutureWarning: Conversion of the second argument of issubdtype from `int` to `np.signedinteger` is deprecated. In future, it will be treated as `np.int64 == np.dtype(int).type`.\n",
            "  if np.issubdtype(vec.dtype, np.int):\n"
          ],
          "name": "stderr"
        },
        {
          "output_type": "execute_result",
          "data": {
            "text/plain": [
              "[('The MathWorks MATLAB', 0.982986330986023),\n",
              " ('Python', 0.9811452627182007),\n",
              " ('Biostatisticians', 0.9643651247024536),\n",
              " ('National Instruments LabVIEW', 0.9610365629196167),\n",
              " ('Formula translation/translator FORTRAN', 0.9603381752967834),\n",
              " ('Accelrys Pipeline Pilot', 0.9599730968475342),\n",
              " ('Electronics Engineers, Except Computer', 0.9551345109939575),\n",
              " ('C', 0.9548431038856506),\n",
              " ('UNIX', 0.9512606859207153),\n",
              " ('Minitab', 0.9508448839187622)]"
            ]
          },
          "metadata": {
            "tags": []
          },
          "execution_count": 16
        }
      ]
    },
    {
      "cell_type": "code",
      "metadata": {
        "id": "g8AfexDIbROt",
        "colab_type": "code",
        "colab": {
          "base_uri": "https://localhost:8080/",
          "height": 71
        },
        "outputId": "72bab9be-a773-4af0-a5ef-a7c4ec3c914a"
      },
      "source": [
        "embeddings.save(\"graph2vec2.model\")"
      ],
      "execution_count": null,
      "outputs": [
        {
          "output_type": "stream",
          "text": [
            "/usr/local/lib/python3.6/dist-packages/smart_open/smart_open_lib.py:254: UserWarning: This function is deprecated, use smart_open.open instead. See the migration notes for details: https://github.com/RaRe-Technologies/smart_open/blob/master/README.rst#migrating-to-the-new-open-function\n",
            "  'See the migration notes for details: %s' % _MIGRATION_NOTES_URL\n"
          ],
          "name": "stderr"
        }
      ]
    },
    {
      "cell_type": "code",
      "metadata": {
        "id": "IIIle_VEbS5w",
        "colab_type": "code",
        "colab": {
          "base_uri": "https://localhost:8080/",
          "height": 105
        },
        "outputId": "20d8d33d-3941-47d4-fc5a-0aa629403fbd"
      },
      "source": [
        "array_dict = {node:embeddings[node] for node in net.nodes if node in embeddings}\n",
        "embedded_nodes = [node for node in net.nodes if node in array_dict]"
      ],
      "execution_count": null,
      "outputs": [
        {
          "output_type": "stream",
          "text": [
            "/usr/local/lib/python3.6/dist-packages/ipykernel_launcher.py:1: DeprecationWarning: Call to deprecated `__contains__` (Method will be removed in 4.0.0, use self.wv.__contains__() instead).\n",
            "  \"\"\"Entry point for launching an IPython kernel.\n",
            "/usr/local/lib/python3.6/dist-packages/ipykernel_launcher.py:1: DeprecationWarning: Call to deprecated `__getitem__` (Method will be removed in 4.0.0, use self.wv.__getitem__() instead).\n",
            "  \"\"\"Entry point for launching an IPython kernel.\n"
          ],
          "name": "stderr"
        }
      ]
    },
    {
      "cell_type": "code",
      "metadata": {
        "id": "UpPTgyQtbUBy",
        "colab_type": "code",
        "colab": {}
      },
      "source": [
        "import numpy as np\n",
        "arrays = np.array([array_dict[node] for node in embedded_nodes])"
      ],
      "execution_count": null,
      "outputs": []
    },
    {
      "cell_type": "code",
      "metadata": {
        "id": "WpE8a9IabVi-",
        "colab_type": "code",
        "colab": {}
      },
      "source": [
        "skills = [skill for skill in skill_data['Example'].unique()]\n",
        "jobs = [job for job in skill_data['Title'].unique()]\n",
        "skill_idx = [idx for idx,elem in enumerate(embedded_nodes) if elem in skills]\n",
        "job_idx = [idx for idx,elem in enumerate(embedded_nodes) if elem in jobs]"
      ],
      "execution_count": null,
      "outputs": []
    },
    {
      "cell_type": "code",
      "metadata": {
        "id": "uo6qHU6JbYKK",
        "colab_type": "code",
        "colab": {}
      },
      "source": [
        "from sklearn.decomposition import PCA\n",
        "pca = PCA(n_components=2)\n",
        "p_comps = pca.fit_transform(arrays)"
      ],
      "execution_count": null,
      "outputs": []
    },
    {
      "cell_type": "code",
      "metadata": {
        "id": "o1z7qWSrbZPR",
        "colab_type": "code",
        "colab": {}
      },
      "source": [
        "import matplotlib.pyplot as plt\n",
        "from matplotlib.pyplot import xlim,ylim"
      ],
      "execution_count": null,
      "outputs": []
    },
    {
      "cell_type": "code",
      "metadata": {
        "id": "-P7eWA22bafb",
        "colab_type": "code",
        "colab": {
          "base_uri": "https://localhost:8080/",
          "height": 282
        },
        "outputId": "01b519a5-2b79-42d9-86cb-7ea9814f37a8"
      },
      "source": [
        "plt.scatter(\n",
        "    # Jobs are red, skills are blue\n",
        "    x=p_comps[:,0],y=p_comps[:,1],color=['b' if idx in skill_idx else 'r' for idx in range(len(arrays))],\n",
        "    marker='+',\n",
        "    alpha = 0.35,\n",
        "    )"
      ],
      "execution_count": null,
      "outputs": [
        {
          "output_type": "execute_result",
          "data": {
            "text/plain": [
              "<matplotlib.collections.PathCollection at 0x7f5d486a87f0>"
            ]
          },
          "metadata": {
            "tags": []
          },
          "execution_count": 23
        },
        {
          "output_type": "display_data",
          "data": {
            "image/png": "[encoded data removed]",
            "text/plain": [
              "<Figure size 432x288 with 1 Axes>"
            ]
          },
          "metadata": {
            "tags": [],
            "needs_background": "light"
          }
        }
      ]
    },
    {
      "cell_type": "code",
      "metadata": {
        "id": "L-9iz0CBbha0",
        "colab_type": "code",
        "colab": {}
      },
      "source": [
        "skill_data = pd.read_csv('Technology Skills.csv')\n",
        "skill_data.head()\n",
        "\n",
        "x = pd.get_dummies(skill_data.set_index('Title')['Example'])\n",
        "\n",
        "x = x.groupby(lambda var:var, axis=0).sum()\n",
        "\n",
        "cols = x.columns.to_list()\n",
        "rows = x.transpose().columns.to_list()\n",
        "\n",
        "y = x.to_numpy()"
      ],
      "execution_count": null,
      "outputs": []
    },
    {
      "cell_type": "code",
      "metadata": {
        "id": "aCzgWnDpbhqS",
        "colab_type": "code",
        "colab": {}
      },
      "source": [
        "import torch \n",
        "import torch.nn as nn\n",
        "import torch.nn.functional as F\n",
        "\n",
        "job_skill_tensor = torch.FloatTensor(y)"
      ],
      "execution_count": null,
      "outputs": []
    },
    {
      "cell_type": "code",
      "metadata": {
        "id": "KpFd6bR5bkPe",
        "colab_type": "code",
        "colab": {}
      },
      "source": [
        "import random\n",
        "class MatrixFactorization(torch.nn.Module):\n",
        "    def __init__(self, n_jobs=len(rows), n_skills=len(cols), n_factors=10):\n",
        "        super().__init__()\n",
        "        \n",
        "        self.job_latent = nn.Parameter(torch.rand(n_jobs,n_factors))\n",
        "        self.skill_latent = nn.Parameter(torch.rand(n_factors, n_skills))\n",
        "    def forward(self):\n",
        "        return torch.mm(self.job_latent,self.skill_latent)"
      ],
      "execution_count": null,
      "outputs": []
    },
    {
      "cell_type": "code",
      "metadata": {
        "id": "CQ3WT-J0bmqH",
        "colab_type": "code",
        "colab": {}
      },
      "source": [
        "model = MatrixFactorization()\n",
        "loss_fn = nn.MSELoss() \n",
        "optimizer = torch.optim.Adam(model.parameters(), lr=0.01)"
      ],
      "execution_count": null,
      "outputs": []
    },
    {
      "cell_type": "code",
      "metadata": {
        "id": "ovI19kfkboHb",
        "colab_type": "code",
        "colab": {
          "base_uri": "https://localhost:8080/",
          "height": 357
        },
        "outputId": "f7c763c8-4b59-4983-da9d-e67e64902ca7"
      },
      "source": [
        "losses = []\n",
        "epochs = 1000\n",
        "for epoch in range(epochs):\n",
        "    loss = 0\n",
        "    \n",
        "    prediction = model.forward()\n",
        "    loss += loss_fn(prediction, job_skill_tensor)\n",
        "    losses.append(loss)\n",
        "\n",
        "    # Reset the gradients to 0\n",
        "    optimizer.zero_grad()\n",
        "\n",
        "    # backpropagate\n",
        "    loss.backward()\n",
        "\n",
        "    # update weights\n",
        "    optimizer.step()\n",
        "    if epoch % 50 == 0:\n",
        "        print(loss)"
      ],
      "execution_count": null,
      "outputs": [
        {
          "output_type": "stream",
          "text": [
            "tensor(6.6843, grad_fn=<AddBackward0>)\n",
            "tensor(0.2142, grad_fn=<AddBackward0>)\n",
            "tensor(0.0769, grad_fn=<AddBackward0>)\n",
            "tensor(0.0440, grad_fn=<AddBackward0>)\n",
            "tensor(0.0284, grad_fn=<AddBackward0>)\n",
            "tensor(0.0198, grad_fn=<AddBackward0>)\n",
            "tensor(0.0146, grad_fn=<AddBackward0>)\n",
            "tensor(0.0113, grad_fn=<AddBackward0>)\n",
            "tensor(0.0091, grad_fn=<AddBackward0>)\n",
            "tensor(0.0076, grad_fn=<AddBackward0>)\n",
            "tensor(0.0065, grad_fn=<AddBackward0>)\n",
            "tensor(0.0057, grad_fn=<AddBackward0>)\n",
            "tensor(0.0051, grad_fn=<AddBackward0>)\n",
            "tensor(0.0047, grad_fn=<AddBackward0>)\n",
            "tensor(0.0044, grad_fn=<AddBackward0>)\n",
            "tensor(0.0041, grad_fn=<AddBackward0>)\n",
            "tensor(0.0039, grad_fn=<AddBackward0>)\n",
            "tensor(0.0037, grad_fn=<AddBackward0>)\n",
            "tensor(0.0035, grad_fn=<AddBackward0>)\n",
            "tensor(0.0034, grad_fn=<AddBackward0>)\n"
          ],
          "name": "stdout"
        }
      ]
    },
    {
      "cell_type": "code",
      "metadata": {
        "id": "acYPAUfGbqCr",
        "colab_type": "code",
        "colab": {}
      },
      "source": [
        "from sklearn.metrics.pairwise import cosine_similarity\n",
        "job_features = np.array(model.job_latent.detach())\n",
        "skill_features = np.array(model.skill_latent.detach())\n",
        "job_skill_stacked = np.concatenate((job_features,skill_features.transpose()))\n",
        "job_skill_sim = cosine_similarity(job_skill_stacked)"
      ],
      "execution_count": null,
      "outputs": []
    },
    {
      "cell_type": "code",
      "metadata": {
        "id": "eBF1KgpHbrgY",
        "colab_type": "code",
        "colab": {}
      },
      "source": [
        "import operator\n",
        "entities = []\n",
        "entities.extend(rows + cols)"
      ],
      "execution_count": null,
      "outputs": []
    },
    {
      "cell_type": "code",
      "metadata": {
        "id": "-X_odaEwbtcn",
        "colab_type": "code",
        "colab": {}
      },
      "source": [
        "def get_similar(node,sim_threshold=None,count_threshold=None,category=None):\n",
        "  idx = entities.index(node)\n",
        "  sim_scores = job_skill_sim[idx]\n",
        "  retrieved = [(elem,score) for elem,score in zip(entities,sim_scores)]\n",
        "\n",
        "  if category == 'jobs':\n",
        "    retrieved = [tup for idx,tup in enumerate(retrieved) if idx < len(rows)]\n",
        "  elif category == 'skills':\n",
        "    retrieved = [tup for idx,tup in enumerate(retrieved) if idx > len(rows)]\n",
        "  else:\n",
        "    pass\n",
        "  \n",
        "  \n",
        "  if sim_threshold:\n",
        "    retrieved = [(elem,score) for elem,score in retrieved if score > sim_threshold]\n",
        "  \n",
        "  retrieved = sorted(retrieved,key=operator.itemgetter(1),reverse=True)\n",
        "\n",
        "  if count_threshold:\n",
        "    retrieved = [tup for idx,tup in enumerate(retrieved) if idx < count_threshold]  \n",
        "  \n",
        "  return retrieved"
      ],
      "execution_count": null,
      "outputs": []
    },
    {
      "cell_type": "code",
      "metadata": {
        "id": "Xs7pbrqxbvu0",
        "colab_type": "code",
        "colab": {
          "base_uri": "https://localhost:8080/"
        },
        "outputId": "dd752b50-6659-4b9a-ba45-84ee218ffd09"
      },
      "source": [
        "get_similar('Python',category='jobs',sim_threshold=0.8,count_threshold=25)"
      ],
      "execution_count": null,
      "outputs": [
        {
          "output_type": "execute_result",
          "data": {
            "text/plain": [
              "[('Business Intelligence Analysts', 0.9041251),\n",
              " ('Computer Network Architects', 0.90234613),\n",
              " ('Geographic Information Systems Technicians', 0.89820015),\n",
              " ('Software Quality Assurance Engineers and Testers', 0.89739233),\n",
              " ('Bus and Truck Mechanics and Diesel Engine Specialists', 0.8867907),\n",
              " ('Data Warehousing Specialists', 0.8731143),\n",
              " ('Helpers--Production Workers', 0.86763245),\n",
              " ('Computer and Information Research Scientists', 0.8654171),\n",
              " ('Investment Underwriters', 0.86404276),\n",
              " ('Human Resources Specialists', 0.8530033),\n",
              " ('Buyers and Purchasing Agents, Farm Products', 0.84368175),\n",
              " ('Zoologists and Wildlife Biologists', 0.83144945),\n",
              " ('Software Developers, Systems Software', 0.8287494),\n",
              " ('Database Administrators', 0.8252903),\n",
              " ('Word Processors and Typists', 0.82264125),\n",
              " ('Computer Science Teachers, Postsecondary', 0.80951345),\n",
              " ('Mechanical Engineers', 0.8093185),\n",
              " ('Intelligence Analysts', 0.80497897)]"
            ]
          },
          "metadata": {
            "tags": []
          },
          "execution_count": 32
        }
      ]
    },
    {
      "cell_type": "code",
      "metadata": {
        "id": "fimfyuJwbw75",
        "colab_type": "code",
        "colab": {}
      },
      "source": [
        "# # Save latent feature similarity values in a pickled file!\n",
        "\n",
        "# import pickle\n",
        "# with open('cos_sim_pickle.pkl', 'wb') as f:\n",
        "#   pickle.dump(job_skill_sim, f)\n",
        "\n",
        "# with open('model.pkl', 'wb') as f:\n",
        "#   pickle.dump(model, f)  \n",
        "\n",
        "# with open('latent_features.pkl', 'wb') as f:\n",
        "#   pickle.dump(job_skill_stacked,f)    "
      ],
      "execution_count": null,
      "outputs": []
    },
    {
      "cell_type": "code",
      "metadata": {
        "id": "EPLYgXZCb09e",
        "colab_type": "code",
        "colab": {}
      },
      "source": [
        "from sklearn.decomposition import PCA\n",
        "pca = PCA(n_components=2)\n",
        "p_comps = pca.fit_transform(job_skill_stacked)"
      ],
      "execution_count": null,
      "outputs": []
    },
    {
      "cell_type": "code",
      "metadata": {
        "id": "O2RMbTCMb17T",
        "colab_type": "code",
        "colab": {
          "base_uri": "https://localhost:8080/"
        },
        "outputId": "4fd27ecc-c5a1-4746-a52b-e05218951e1b"
      },
      "source": [
        "import matplotlib.pyplot as plt\n",
        "from matplotlib.pyplot import xlim,ylim\n",
        "\n",
        "plt.scatter(\n",
        "    x=p_comps[:,0],y=p_comps[:,1],color=['r' if idx < len(rows) else 'b' for idx in range(job_skill_stacked.shape[0])],\n",
        "    marker='+',\n",
        "    alpha = 0.25,\n",
        "    )"
      ],
      "execution_count": null,
      "outputs": [
        {
          "output_type": "execute_result",
          "data": {
            "text/plain": [
              "<matplotlib.collections.PathCollection at 0x7f5d01a42860>"
            ]
          },
          "metadata": {
            "tags": []
          },
          "execution_count": 34
        },
        {
          "output_type": "display_data",
          "data": {
            "image/png": "[encoded data removed]",
            "text/plain": [
              "<Figure size 432x288 with 1 Axes>"
            ]
          },
          "metadata": {
            "tags": [],
            "needs_background": "light"
          }
        }
      ]
    }
  ]
}