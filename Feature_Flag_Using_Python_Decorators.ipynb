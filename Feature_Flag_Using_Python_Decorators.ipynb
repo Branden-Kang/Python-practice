{
  "nbformat": 4,
  "nbformat_minor": 0,
  "metadata": {
    "colab": {
      "name": "Feature Flag Using Python Decorators.ipynb",
      "provenance": [],
      "authorship_tag": "ABX9TyPZ1BC1p1IfcVGODbnBSJRI"
    },
    "kernelspec": {
      "name": "python3",
      "display_name": "Python 3"
    },
    "language_info": {
      "name": "python"
    }
  },
  "cells": [
    {
      "cell_type": "markdown",
      "metadata": {
        "id": "Sh5W8hc_iX-3"
      },
      "source": [
        "[Reference](https://yogesh-sharma.medium.com/feature-flag-using-python-decorators-572c31ce1dcb)"
      ]
    },
    {
      "cell_type": "code",
      "metadata": {
        "colab": {
          "base_uri": "https://localhost:8080/"
        },
        "id": "C-f2NCAoiWJp",
        "outputId": "1e45406f-6791-4692-82a7-9e915fff73a4"
      },
      "source": [
        "from typing import Callable, Union\n",
        "import logging\n",
        "import inspect\n",
        "\n",
        "# Defining Logging\n",
        "logger = logging.getLogger(\"feature-flag-using-deco\")\n",
        "logger.setLevel(logging.DEBUG)\n",
        "conHandler = logging.StreamHandler()\n",
        "conHandler.setLevel(logging.INFO)\n",
        "formatter = logging.Formatter('%(asctime)s %(name)s.%(funcName)-25s %(levelname)-7s: %(message)s')\n",
        "conHandler.setFormatter(formatter)\n",
        "logger.addHandler(conHandler)\n",
        "def feature_old():\n",
        "    logger.info(\"This is old feature and must run.\")\n",
        "\n",
        "def main():\n",
        "    feature_old()\n",
        "\n",
        "\n",
        "if __name__ == '__main__':\n",
        "    main()"
      ],
      "execution_count": 1,
      "outputs": [
        {
          "output_type": "stream",
          "text": [
            "2021-07-25 07:21:07,432 feature-flag-using-deco.feature_old               INFO   : This is old feature and must run.\n"
          ],
          "name": "stderr"
        }
      ]
    },
    {
      "cell_type": "code",
      "metadata": {
        "colab": {
          "base_uri": "https://localhost:8080/"
        },
        "id": "9BYO7lKbicpz",
        "outputId": "437691e8-5527-41b3-f709-aed31ac25e33"
      },
      "source": [
        "from typing import Callable, Union\n",
        "import logging\n",
        "import inspect\n",
        "\n",
        "# Defining Logging\n",
        "logger = logging.getLogger(\"feature-flag-using-deco\")\n",
        "logger.setLevel(logging.DEBUG)\n",
        "conHandler = logging.StreamHandler()\n",
        "conHandler.setLevel(logging.INFO)\n",
        "formatter = logging.Formatter('%(asctime)s %(name)s.%(funcName)-25s %(levelname)-7s: %(message)s')\n",
        "conHandler.setFormatter(formatter)\n",
        "logger.addHandler(conHandler)\n",
        "validation_flag = {\n",
        "    \"feature_new\": False\n",
        "}\n",
        "\n",
        "\n",
        "def validation_feature_flag(func: Callable) -> Callable:\n",
        "    def internal_function(*args, **kwargs) -> Union[Callable, bool]:\n",
        "        if not validation_flag.get(func.__name__, False):\n",
        "            logger.warning(f'Skipping function {str(func.__name__).upper()} as feature is turned off.')\n",
        "            return True\n",
        "        return func(*args, **kwargs)\n",
        "\n",
        "    return internal_function\n",
        "\n",
        "\n",
        "def feature_old():\n",
        "    logger.info(\"This is old feature and must run.\")\n",
        "\n",
        "\n",
        "@validation_feature_flag\n",
        "def feature_new():\n",
        "    logger.info(f\"Running function: {inspect.stack()[0][3]}.\")\n",
        "\n",
        "\n",
        "def main():\n",
        "    feature_old()\n",
        "    feature_new()\n",
        "\n",
        "\n",
        "if __name__ == '__main__':\n",
        "    main()"
      ],
      "execution_count": 2,
      "outputs": [
        {
          "output_type": "stream",
          "text": [
            "2021-07-25 07:21:07,480 feature-flag-using-deco.feature_old               INFO   : This is old feature and must run.\n",
            "2021-07-25 07:21:07,480 feature-flag-using-deco.feature_old               INFO   : This is old feature and must run.\n",
            "2021-07-25 07:21:07,484 feature-flag-using-deco.internal_function         WARNING: Skipping function FEATURE_NEW as feature is turned off.\n",
            "2021-07-25 07:21:07,484 feature-flag-using-deco.internal_function         WARNING: Skipping function FEATURE_NEW as feature is turned off.\n"
          ],
          "name": "stderr"
        }
      ]
    }
  ]
}