{
  "nbformat": 4,
  "nbformat_minor": 0,
  "metadata": {
    "colab": {
      "name": "Linear regression vs. Generalized linear models (GLM).ipynb",
      "provenance": [],
      "authorship_tag": "ABX9TyMsKRX1MdfzxDBfxjkOcDq9"
    },
    "kernelspec": {
      "name": "python3",
      "display_name": "Python 3"
    },
    "language_info": {
      "name": "python"
    }
  },
  "cells": [
    {
      "cell_type": "markdown",
      "source": [
        "[Reference](https://anyi-guo.medium.com/linear-regression-vs-generalized-linear-models-glm-whats-the-difference-a6bf78d2c968)"
      ],
      "metadata": {
        "id": "U4sZdkpw7pPr"
      }
    },
    {
      "cell_type": "code",
      "execution_count": 1,
      "metadata": {
        "colab": {
          "base_uri": "https://localhost:8080/"
        },
        "id": "ed19T_RV7Vsu",
        "outputId": "d4a570f1-1af5-4018-8f8c-f51cb588f72c"
      },
      "outputs": [
        {
          "output_type": "execute_result",
          "data": {
            "text/plain": [
              "LinearRegression()"
            ]
          },
          "metadata": {},
          "execution_count": 1
        }
      ],
      "source": [
        "import numpy as np\n",
        "from sklearn.linear_model import LinearRegression\n",
        "# generate some data\n",
        "x = np.array([5,7,8,7,2,17,2,9,4,11,12,9,6]).reshape((-1, 1))\n",
        "y = np.array([99,86,87,88,111,86,103,87,94,78,77,85,86])\n",
        "# fit linear regression model on data\n",
        "model = LinearRegression()\n",
        "model.fit(x, y)"
      ]
    },
    {
      "cell_type": "code",
      "source": [
        "r_sq = model.score(x, y)\n",
        "print('coefficient of determination:', r_sq)"
      ],
      "metadata": {
        "colab": {
          "base_uri": "https://localhost:8080/"
        },
        "id": "nOh_QSOr8UV7",
        "outputId": "e78f02bf-2108-49f7-ace2-1f22ffb4f695"
      },
      "execution_count": 2,
      "outputs": [
        {
          "output_type": "stream",
          "name": "stdout",
          "text": [
            "coefficient of determination: 0.5754611008553381\n"
          ]
        }
      ]
    },
    {
      "cell_type": "code",
      "source": [
        "import numpy as np\n",
        "import statsmodels.api as sm\n",
        "# using the same data from the linear regression model above\n",
        "x = np.array([5,7,8,7,2,17,2,9,4,11,12,9,6]).reshape((-1, 1))\n",
        "y = np.array([99,86,87,88,111,86,103,87,94,78,77,85,86])\n",
        "# fit data to GLM model\n",
        "model = sm.GLM(y,x) # Default is Normal distribution, a.k.a. Gaussian. To specify the binomial distribution, use family = sm.family.Binomial()\n",
        "results = model.fit()\n",
        "print(results.summary())"
      ],
      "metadata": {
        "colab": {
          "base_uri": "https://localhost:8080/"
        },
        "id": "OZ-dvftu8XC0",
        "outputId": "d0cea70c-82f8-4179-ef63-8dc2ce875bd6"
      },
      "execution_count": 3,
      "outputs": [
        {
          "output_type": "stream",
          "name": "stderr",
          "text": [
            "/usr/local/lib/python3.7/dist-packages/statsmodels/tools/_testing.py:19: FutureWarning: pandas.util.testing is deprecated. Use the functions in the public API at pandas.testing instead.\n",
            "  import pandas.util.testing as tm\n"
          ]
        },
        {
          "output_type": "stream",
          "name": "stdout",
          "text": [
            "                 Generalized Linear Model Regression Results                  \n",
            "==============================================================================\n",
            "Dep. Variable:                      y   No. Observations:                   13\n",
            "Model:                            GLM   Df Residuals:                       12\n",
            "Model Family:                Gaussian   Df Model:                            0\n",
            "Link Function:               identity   Scale:                          2539.8\n",
            "Method:                          IRLS   Log-Likelihood:                -68.885\n",
            "Date:                Thu, 02 Jun 2022   Deviance:                       30478.\n",
            "Time:                        14:40:15   Pearson chi2:                 3.05e+04\n",
            "No. Iterations:                     3                                         \n",
            "Covariance Type:            nonrobust                                         \n",
            "==============================================================================\n",
            "                 coef    std err          z      P>|z|      [0.025      0.975]\n",
            "------------------------------------------------------------------------------\n",
            "x1             8.8484      1.624      5.448      0.000       5.665      12.031\n",
            "==============================================================================\n"
          ]
        }
      ]
    },
    {
      "cell_type": "code",
      "source": [
        "import matplotlib.pyplot as plt\n",
        "from statsmodels.graphics.api import abline_plot\n",
        "\n",
        "nobs = results.nobs # number of observations\n",
        "yhat = results.mu # predicted value from the GLM model\n",
        "fig, ax = plt.subplots()\n",
        "ax.scatter(yhat, y)\n",
        "line_fit = sm.OLS(y, sm.add_constant(yhat, prepend=True)).fit()\n",
        "abline_plot(model_results=line_fit, ax=ax)\n",
        "ax.set_title('GLM Model Fit Plot')\n",
        "ax.set_ylabel('Observed values')\n",
        "ax.set_xlabel('Fitted values')\n",
        "plt.show()"
      ],
      "metadata": {
        "colab": {
          "base_uri": "https://localhost:8080/",
          "height": 295
        },
        "id": "77XB2IE88ffy",
        "outputId": "1ce5d1bc-616b-4319-cde4-7cb26756064a"
      },
      "execution_count": 4,
      "outputs": [
        {
          "output_type": "display_data",
          "data": {
            "text/plain": [
              "<Figure size 432x288 with 1 Axes>"
            ],
            "image/png": "[encoded data removed]"
          },
          "metadata": {
            "needs_background": "light"
          }
        }
      ]
    }
  ]
}