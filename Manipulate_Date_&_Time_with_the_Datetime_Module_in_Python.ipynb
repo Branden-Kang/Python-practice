{
  "nbformat": 4,
  "nbformat_minor": 0,
  "metadata": {
    "colab": {
      "name": "Manipulate Date & Time with the Datetime Module in Python.ipynb",
      "provenance": [],
      "authorship_tag": "ABX9TyOizpXNN+C78EAgY5R0qfVF"
    },
    "kernelspec": {
      "name": "python3",
      "display_name": "Python 3"
    },
    "language_info": {
      "name": "python"
    }
  },
  "cells": [
    {
      "cell_type": "markdown",
      "metadata": {
        "id": "b_w-5VS-qBE-"
      },
      "source": [
        "[Reference](https://python.plainenglish.io/manipulating-date-time-data-with-the-datetime-module-4ac93f9db1c3)"
      ]
    },
    {
      "cell_type": "code",
      "metadata": {
        "id": "2Rv3rkfkp_LU"
      },
      "source": [
        "import datetime"
      ],
      "execution_count": 2,
      "outputs": []
    },
    {
      "cell_type": "code",
      "metadata": {
        "colab": {
          "base_uri": "https://localhost:8080/"
        },
        "id": "r8aT4D8UqD4M",
        "outputId": "a12e68a8-440b-4011-fcd4-185082794694"
      },
      "source": [
        "print(datetime.datetime.now())"
      ],
      "execution_count": 3,
      "outputs": [
        {
          "output_type": "stream",
          "text": [
            "2021-06-04 15:34:44.929038\n"
          ],
          "name": "stdout"
        }
      ]
    },
    {
      "cell_type": "code",
      "metadata": {
        "colab": {
          "base_uri": "https://localhost:8080/"
        },
        "id": "xXnfpw89qZC0",
        "outputId": "bce9ef75-5ceb-4cef-db3d-4680c0d5af51"
      },
      "source": [
        "today = datetime.datetime(2021, 1, 13)\n",
        "print(today)"
      ],
      "execution_count": 5,
      "outputs": [
        {
          "output_type": "stream",
          "text": [
            "2021-01-13 00:00:00\n"
          ],
          "name": "stdout"
        }
      ]
    },
    {
      "cell_type": "code",
      "metadata": {
        "colab": {
          "base_uri": "https://localhost:8080/"
        },
        "id": "L66bpPMgqaen",
        "outputId": "fd82cfd8-2970-435a-8e81-2cf456d6ff13"
      },
      "source": [
        "event = datetime.datetime(2021, 1, 13, 15, 15)\n",
        "print(event)"
      ],
      "execution_count": 6,
      "outputs": [
        {
          "output_type": "stream",
          "text": [
            "2021-01-13 15:15:00\n"
          ],
          "name": "stdout"
        }
      ]
    },
    {
      "cell_type": "code",
      "metadata": {
        "colab": {
          "base_uri": "https://localhost:8080/"
        },
        "id": "_J8E28eDqcV-",
        "outputId": "bc77f822-f8ce-42c3-adbf-f34c73f467e3"
      },
      "source": [
        "date_string = \"Sunday the 14th, February, 2021\"\n",
        "\n",
        "date_format = \"%A the %dth, %B, %Y\"\n",
        "\n",
        "valentines_day = datetime.datetime.strptime(date_string, date_format)\n",
        "\n",
        "print(valentines_day)"
      ],
      "execution_count": 7,
      "outputs": [
        {
          "output_type": "stream",
          "text": [
            "2021-02-14 00:00:00\n"
          ],
          "name": "stdout"
        }
      ]
    },
    {
      "cell_type": "code",
      "metadata": {
        "colab": {
          "base_uri": "https://localhost:8080/"
        },
        "id": "H3CJTt1JqgRW",
        "outputId": "ddf727c0-ea0e-43f5-a11b-1ef58c3ca4ff"
      },
      "source": [
        "print(valentines_day.day)"
      ],
      "execution_count": 8,
      "outputs": [
        {
          "output_type": "stream",
          "text": [
            "14\n"
          ],
          "name": "stdout"
        }
      ]
    },
    {
      "cell_type": "code",
      "metadata": {
        "id": "52b82ZJRqhdu"
      },
      "source": [
        "mlk_day = datetime.datetime(2021, 1, 18)"
      ],
      "execution_count": 9,
      "outputs": []
    },
    {
      "cell_type": "code",
      "metadata": {
        "colab": {
          "base_uri": "https://localhost:8080/"
        },
        "id": "y1FVU1ooqjhp",
        "outputId": "0178486d-eeff-4ef6-96ef-9c6a0d21cc1c"
      },
      "source": [
        "mlk_day < valentines_day"
      ],
      "execution_count": 10,
      "outputs": [
        {
          "output_type": "execute_result",
          "data": {
            "text/plain": [
              "True"
            ]
          },
          "metadata": {
            "tags": []
          },
          "execution_count": 10
        }
      ]
    },
    {
      "cell_type": "code",
      "metadata": {
        "colab": {
          "base_uri": "https://localhost:8080/"
        },
        "id": "VM7mjNiLqkgB",
        "outputId": "a252ed7b-46a1-46b6-8d18-5da4047f1536"
      },
      "source": [
        "difference=valentines_day-mlk_day\n",
        "print(difference)"
      ],
      "execution_count": 12,
      "outputs": [
        {
          "output_type": "stream",
          "text": [
            "27 days, 0:00:00\n"
          ],
          "name": "stdout"
        }
      ]
    },
    {
      "cell_type": "code",
      "metadata": {
        "colab": {
          "base_uri": "https://localhost:8080/"
        },
        "id": "CuUJu7RhqlvW",
        "outputId": "0046728e-fe0f-4706-9451-a42fe28f353c"
      },
      "source": [
        "print(difference.days)"
      ],
      "execution_count": 13,
      "outputs": [
        {
          "output_type": "stream",
          "text": [
            "27\n"
          ],
          "name": "stdout"
        }
      ]
    },
    {
      "cell_type": "code",
      "metadata": {
        "colab": {
          "base_uri": "https://localhost:8080/"
        },
        "id": "NeWligc6qnm6",
        "outputId": "2824b1d6-46b3-4c36-881c-03c995a6d071"
      },
      "source": [
        "calculated_date = valentines_day + datetime.timedelta(days=280)\n",
        "print(calculated_date)"
      ],
      "execution_count": 14,
      "outputs": [
        {
          "output_type": "stream",
          "text": [
            "2021-11-21 00:00:00\n"
          ],
          "name": "stdout"
        }
      ]
    }
  ]
}