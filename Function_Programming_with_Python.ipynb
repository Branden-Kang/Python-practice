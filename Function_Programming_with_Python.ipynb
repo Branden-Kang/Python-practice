{
  "nbformat": 4,
  "nbformat_minor": 0,
  "metadata": {
    "colab": {
      "name": "Function Programming with Python.ipynb",
      "provenance": [],
      "authorship_tag": "ABX9TyN8Qg/3yEUV/rsHi2f5MMPU"
    },
    "kernelspec": {
      "name": "python3",
      "display_name": "Python 3"
    },
    "language_info": {
      "name": "python"
    }
  },
  "cells": [
    {
      "cell_type": "markdown",
      "metadata": {
        "id": "xGnAEqx2qq3v"
      },
      "source": [
        "[Reference](https://medium.com/analytics-vidhya/function-programming-with-python-7726493fbedd)"
      ]
    },
    {
      "cell_type": "code",
      "metadata": {
        "colab": {
          "base_uri": "https://localhost:8080/"
        },
        "id": "PrpInoRDqo0e",
        "outputId": "ff3bae88-6641-4bdf-fa2d-aba1235c607c"
      },
      "source": [
        "def Show(Text):    \n",
        "    return Text.upper()\n",
        "\n",
        "print(Show(\"Hello World\"))\n",
        "Tell = Show\n",
        "print(Tell(\"Hello World\"))"
      ],
      "execution_count": 1,
      "outputs": [
        {
          "output_type": "stream",
          "text": [
            "HELLO WORLD\n",
            "HELLO WORLD\n"
          ],
          "name": "stdout"
        }
      ]
    },
    {
      "cell_type": "code",
      "metadata": {
        "id": "RWDT2KrWqwRN"
      },
      "source": [
        "#INITIALIZING DICTIONARY\n",
        "dict = {\n",
        "    0: func1,\n",
        "    1: func2\n",
        "}\n",
        "x = input() #GET INTEGER VALUE FROM USER\n",
        "dict[x]() #CALL THE FUNCTION RETURNED BY DICTIONARY ACCESS"
      ],
      "execution_count": 3,
      "outputs": []
    },
    {
      "cell_type": "code",
      "metadata": {
        "id": "LtTTwVY-rBCp"
      },
      "source": [
        "def iterate(list_of_items):\n",
        "    for item in list_of_items:\n",
        "        print(item)"
      ],
      "execution_count": 4,
      "outputs": []
    },
    {
      "cell_type": "code",
      "metadata": {
        "id": "-7-_nTYWrIWT"
      },
      "source": [
        "def iterate_custom(list_of_items, custom_func):\n",
        "   for item in list_of_items:\n",
        "        custom_func(item)"
      ],
      "execution_count": 5,
      "outputs": []
    },
    {
      "cell_type": "code",
      "metadata": {
        "colab": {
          "base_uri": "https://localhost:8080/"
        },
        "id": "4j4Rsae-rJsT",
        "outputId": "d483fb2c-bbf5-4f53-d7db-8b775ac6bc40"
      },
      "source": [
        "def add(x, y):\n",
        "    return x + y\n",
        "    \n",
        "def sub(x, y):\n",
        "    return x - y\n",
        "    \n",
        "def mult(x, y):\n",
        "    return x * y\n",
        "    \n",
        "def calculator(opcode):\n",
        "    if opcode == 1:\n",
        "       return add\n",
        "    elif opcode == 2:\n",
        "       return sub\n",
        "    else:\n",
        "       return mult \n",
        "       \n",
        "my_calc = calculator(2) #MY CALC IS A SUBSTRACOTR\n",
        "my_calc(5, 4) #RETURNS 5 - 4 = 1 \n",
        "my_calc = calculator(9) #MY CALC IS A MULTIPLLIER\n",
        "my_calc(5, 4) #returns 5 x 4 = 20."
      ],
      "execution_count": 7,
      "outputs": [
        {
          "output_type": "execute_result",
          "data": {
            "text/plain": [
              "20"
            ]
          },
          "metadata": {
            "tags": []
          },
          "execution_count": 7
        }
      ]
    },
    {
      "cell_type": "code",
      "metadata": {
        "id": "ajVfVTwGrNGc"
      },
      "source": [
        "def fib(n):\n",
        "    def fib_helper(fk1, fk, k):\n",
        "        if n == k:\n",
        "           return fk\n",
        "        else:\n",
        "           return fib_helper(fk, fk1+fk, k+1)    \n",
        "    if n <= 1:\n",
        "       return n\n",
        "    else:\n",
        "       return fib_helper(0, 1, 1)"
      ],
      "execution_count": 8,
      "outputs": []
    },
    {
      "cell_type": "code",
      "metadata": {
        "colab": {
          "base_uri": "https://localhost:8080/"
        },
        "id": "xIEBGfhKrVim",
        "outputId": "a50e4c39-eacc-4a36-a316-901bb87e528a"
      },
      "source": [
        "add = lambda x, y: x + y\n",
        "add(1, 2) #RETURNS 2"
      ],
      "execution_count": 9,
      "outputs": [
        {
          "output_type": "execute_result",
          "data": {
            "text/plain": [
              "3"
            ]
          },
          "metadata": {
            "tags": []
          },
          "execution_count": 9
        }
      ]
    },
    {
      "cell_type": "code",
      "metadata": {
        "id": "F5UYOeOOrXEV"
      },
      "source": [
        "import collections\n",
        "pre_fill = collections.defaultdict(lambda: (0, 0))\n",
        "#all dictionary keys and values are set to 0"
      ],
      "execution_count": 10,
      "outputs": []
    },
    {
      "cell_type": "code",
      "metadata": {
        "colab": {
          "base_uri": "https://localhost:8080/"
        },
        "id": "6_qrsYOTrYxY",
        "outputId": "ae0841fd-fdde-42d8-ca92-1c19ae6ae43c"
      },
      "source": [
        "def substract_1(x):    \n",
        "    return x - 1\n",
        "scores = [10, 9, 8, 7, 6, 5]\n",
        "new_scores = list(map(substract_1, scores))\n",
        "#NEW SCORES ARE NOW [9, 8, 7, 6, 5, 4]\n",
        "print(new_scores)"
      ],
      "execution_count": 11,
      "outputs": [
        {
          "output_type": "stream",
          "text": [
            "[9, 8, 7, 6, 5, 4]\n"
          ],
          "name": "stdout"
        }
      ]
    },
    {
      "cell_type": "code",
      "metadata": {
        "colab": {
          "base_uri": "https://localhost:8080/"
        },
        "id": "IRWVY4mBram0",
        "outputId": "ca63eb8e-e9d5-4a9f-8e1e-38758508ba45"
      },
      "source": [
        "new_scores = list(map(lambda x: x-4, scores))\n",
        "new_scores"
      ],
      "execution_count": 13,
      "outputs": [
        {
          "output_type": "execute_result",
          "data": {
            "text/plain": [
              "[6, 5, 4, 3, 2, 1]"
            ]
          },
          "metadata": {
            "tags": []
          },
          "execution_count": 13
        }
      ]
    },
    {
      "cell_type": "code",
      "metadata": {
        "id": "pZG_FxzQrcr3"
      },
      "source": [
        "even_scores = list(filter(lambda x: (x % 2 == 0), scores))\n",
        "#even_scores = [6, 8]"
      ],
      "execution_count": 14,
      "outputs": []
    },
    {
      "cell_type": "code",
      "metadata": {
        "colab": {
          "base_uri": "https://localhost:8080/"
        },
        "id": "-V56AmAxrewZ",
        "outputId": "6fc525d3-0458-4964-81fe-132649d1ad88"
      },
      "source": [
        "from functools import reduce\n",
        "\n",
        "sum_scores = reduce((lambda x, y: x + y), scores)\n",
        "sum_scores"
      ],
      "execution_count": 16,
      "outputs": [
        {
          "output_type": "execute_result",
          "data": {
            "text/plain": [
              "45"
            ]
          },
          "metadata": {
            "tags": []
          },
          "execution_count": 16
        }
      ]
    }
  ]
}