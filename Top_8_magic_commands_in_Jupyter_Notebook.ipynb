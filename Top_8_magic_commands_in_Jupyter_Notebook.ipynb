{
  "nbformat": 4,
  "nbformat_minor": 0,
  "metadata": {
    "colab": {
      "name": "Top 8 magic commands in Jupyter Notebook.ipynb",
      "provenance": [],
      "authorship_tag": "ABX9TyOR1XLYneSNKNiB4wu1RrEw"
    },
    "kernelspec": {
      "name": "python3",
      "display_name": "Python 3"
    }
  },
  "cells": [
    {
      "cell_type": "markdown",
      "metadata": {
        "id": "ObWWgqkQmo5H"
      },
      "source": [
        "[Reference](https://towardsdatascience.com/top-8-magic-commands-in-jupyter-notebook-c1582e813560)"
      ]
    },
    {
      "cell_type": "markdown",
      "metadata": {
        "id": "_L-0K3Kjmr0b"
      },
      "source": [
        "# 1. List all magic commands."
      ]
    },
    {
      "cell_type": "code",
      "metadata": {
        "id": "PAzJO8tDmhrs",
        "outputId": "8e3fe2b3-45d8-4972-83a9-1bd42ee6f47e",
        "colab": {
          "base_uri": "https://localhost:8080/",
          "height": 156
        }
      },
      "source": [
        "%lsmagic"
      ],
      "execution_count": 1,
      "outputs": [
        {
          "output_type": "execute_result",
          "data": {
            "application/json": {
              "cell": {
                "prun": "ExecutionMagics",
                "file": "Other",
                "!": "OSMagics",
                "capture": "ExecutionMagics",
                "timeit": "ExecutionMagics",
                "script": "ScriptMagics",
                "pypy": "Other",
                "system": "OSMagics",
                "perl": "Other",
                "html": "DisplayMagics",
                "bash": "Other",
                "shell": "Other",
                "HTML": "Other",
                "python": "Other",
                "SVG": "Other",
                "javascript": "DisplayMagics",
                "bigquery": "Other",
                "js": "DisplayMagics",
                "writefile": "OSMagics",
                "ruby": "Other",
                "python3": "Other",
                "python2": "Other",
                "latex": "DisplayMagics",
                "sx": "OSMagics",
                "svg": "DisplayMagics",
                "sh": "Other",
                "time": "ExecutionMagics",
                "debug": "ExecutionMagics"
              },
              "line": {
                "psource": "NamespaceMagics",
                "logstart": "LoggingMagics",
                "popd": "OSMagics",
                "tensorflow_version": "Other",
                "loadpy": "CodeMagics",
                "colors": "BasicMagics",
                "who_ls": "NamespaceMagics",
                "lf": "Other",
                "ll": "Other",
                "pprint": "BasicMagics",
                "lk": "Other",
                "ls": "Other",
                "save": "CodeMagics",
                "tb": "ExecutionMagics",
                "lx": "Other",
                "pylab": "PylabMagics",
                "killbgscripts": "ScriptMagics",
                "quickref": "BasicMagics",
                "magic": "BasicMagics",
                "dhist": "OSMagics",
                "edit": "KernelMagics",
                "logstop": "LoggingMagics",
                "gui": "BasicMagics",
                "prun": "ExecutionMagics",
                "debug": "ExecutionMagics",
                "page": "BasicMagics",
                "logstate": "LoggingMagics",
                "ed": "Other",
                "pushd": "OSMagics",
                "timeit": "ExecutionMagics",
                "set_env": "OSMagics",
                "rehashx": "OSMagics",
                "hist": "Other",
                "qtconsole": "KernelMagics",
                "rm": "Other",
                "dirs": "OSMagics",
                "run": "ExecutionMagics",
                "reset_selective": "NamespaceMagics",
                "pinfo2": "NamespaceMagics",
                "matplotlib": "PylabMagics",
                "unload_ext": "ExtensionMagics",
                "doctest_mode": "BasicMagics",
                "logoff": "LoggingMagics",
                "reload_ext": "ExtensionMagics",
                "pdb": "ExecutionMagics",
                "load": "CodeMagics",
                "lsmagic": "BasicMagics",
                "autosave": "KernelMagics",
                "cd": "OSMagics",
                "pastebin": "CodeMagics",
                "alias_magic": "BasicMagics",
                "cp": "Other",
                "autocall": "AutoMagics",
                "ldir": "Other",
                "bookmark": "OSMagics",
                "connect_info": "KernelMagics",
                "mkdir": "Other",
                "system": "OSMagics",
                "whos": "NamespaceMagics",
                "rmdir": "Other",
                "automagic": "AutoMagics",
                "store": "StoreMagics",
                "more": "KernelMagics",
                "shell": "Other",
                "pdef": "NamespaceMagics",
                "precision": "BasicMagics",
                "pinfo": "NamespaceMagics",
                "pwd": "OSMagics",
                "psearch": "NamespaceMagics",
                "reset": "NamespaceMagics",
                "recall": "HistoryMagics",
                "xdel": "NamespaceMagics",
                "xmode": "BasicMagics",
                "cat": "Other",
                "mv": "Other",
                "rerun": "HistoryMagics",
                "logon": "LoggingMagics",
                "history": "HistoryMagics",
                "pycat": "OSMagics",
                "pip": "Other",
                "unalias": "OSMagics",
                "env": "OSMagics",
                "load_ext": "ExtensionMagics",
                "config": "ConfigMagics",
                "profile": "BasicMagics",
                "pfile": "NamespaceMagics",
                "less": "KernelMagics",
                "who": "NamespaceMagics",
                "notebook": "BasicMagics",
                "man": "KernelMagics",
                "sx": "OSMagics",
                "macro": "ExecutionMagics",
                "clear": "KernelMagics",
                "alias": "OSMagics",
                "time": "ExecutionMagics",
                "sc": "OSMagics",
                "rep": "Other",
                "pdoc": "NamespaceMagics"
              }
            },
            "text/plain": [
              "Available line magics:\n",
              "%alias  %alias_magic  %autocall  %automagic  %autosave  %bookmark  %cat  %cd  %clear  %colors  %config  %connect_info  %cp  %debug  %dhist  %dirs  %doctest_mode  %ed  %edit  %env  %gui  %hist  %history  %killbgscripts  %ldir  %less  %lf  %lk  %ll  %load  %load_ext  %loadpy  %logoff  %logon  %logstart  %logstate  %logstop  %ls  %lsmagic  %lx  %macro  %magic  %man  %matplotlib  %mkdir  %more  %mv  %notebook  %page  %pastebin  %pdb  %pdef  %pdoc  %pfile  %pinfo  %pinfo2  %pip  %popd  %pprint  %precision  %profile  %prun  %psearch  %psource  %pushd  %pwd  %pycat  %pylab  %qtconsole  %quickref  %recall  %rehashx  %reload_ext  %rep  %rerun  %reset  %reset_selective  %rm  %rmdir  %run  %save  %sc  %set_env  %shell  %store  %sx  %system  %tb  %tensorflow_version  %time  %timeit  %unalias  %unload_ext  %who  %who_ls  %whos  %xdel  %xmode\n",
              "\n",
              "Available cell magics:\n",
              "%%!  %%HTML  %%SVG  %%bash  %%bigquery  %%capture  %%debug  %%file  %%html  %%javascript  %%js  %%latex  %%perl  %%prun  %%pypy  %%python  %%python2  %%python3  %%ruby  %%script  %%sh  %%shell  %%svg  %%sx  %%system  %%time  %%timeit  %%writefile\n",
              "\n",
              "Automagic is ON, % prefix IS NOT needed for line magics."
            ]
          },
          "metadata": {
            "tags": []
          },
          "execution_count": 1
        }
      ]
    },
    {
      "cell_type": "markdown",
      "metadata": {
        "id": "VeWBbZ6kmuCa"
      },
      "source": [
        "# 2. Run a file."
      ]
    },
    {
      "cell_type": "markdown",
      "metadata": {
        "id": "4kCeQhkrmu-a"
      },
      "source": [
        "```\n",
        "%run <file name>\n",
        "\n",
        "def hello_world():\n",
        "    print('Hello, world')\n",
        "    \n",
        "hello_world()\n",
        "    \n",
        "%run hello.py\n",
        "```"
      ]
    },
    {
      "cell_type": "markdown",
      "metadata": {
        "id": "YIRAo-HJm4mH"
      },
      "source": [
        "# 3. Get an execution time."
      ]
    },
    {
      "cell_type": "code",
      "metadata": {
        "id": "nR9LSGq5msy-",
        "outputId": "313c0cc1-41b9-4266-f85a-dd245a08d91d",
        "colab": {
          "base_uri": "https://localhost:8080/"
        }
      },
      "source": [
        "%%time\n",
        "import random\n",
        "for i in range(0, 1000000):\n",
        "    random.random()"
      ],
      "execution_count": 2,
      "outputs": [
        {
          "output_type": "stream",
          "text": [
            "CPU times: user 107 ms, sys: 0 ns, total: 107 ms\n",
            "Wall time: 112 ms\n"
          ],
          "name": "stdout"
        }
      ]
    },
    {
      "cell_type": "markdown",
      "metadata": {
        "id": "-bA5sseMm63F"
      },
      "source": [
        "# 4. List all variables."
      ]
    },
    {
      "cell_type": "code",
      "metadata": {
        "id": "y00wy3Hkm53g",
        "outputId": "b612f6a3-cc06-42a2-a511-c375dc2dbd7d",
        "colab": {
          "base_uri": "https://localhost:8080/"
        }
      },
      "source": [
        "%who"
      ],
      "execution_count": 3,
      "outputs": [
        {
          "output_type": "stream",
          "text": [
            "i\t random\t \n"
          ],
          "name": "stdout"
        }
      ]
    },
    {
      "cell_type": "code",
      "metadata": {
        "id": "bwEefiGLm6sl"
      },
      "source": [
        "var_1 = 1\n",
        "var_2 = 'hello'\n",
        "var_3 = 100"
      ],
      "execution_count": 4,
      "outputs": []
    },
    {
      "cell_type": "code",
      "metadata": {
        "id": "-jMPinFjnB2P",
        "outputId": "35b05792-b47b-4b1d-f37a-fca50d075eee",
        "colab": {
          "base_uri": "https://localhost:8080/"
        }
      },
      "source": [
        "%who str"
      ],
      "execution_count": 5,
      "outputs": [
        {
          "output_type": "stream",
          "text": [
            "var_2\t \n"
          ],
          "name": "stdout"
        }
      ]
    },
    {
      "cell_type": "code",
      "metadata": {
        "id": "EptLZGxNnCnn",
        "outputId": "77b71667-2eb0-4379-f800-8e094cfb30dc",
        "colab": {
          "base_uri": "https://localhost:8080/"
        }
      },
      "source": [
        "%who int"
      ],
      "execution_count": 6,
      "outputs": [
        {
          "output_type": "stream",
          "text": [
            "i\t var_1\t var_3\t \n"
          ],
          "name": "stdout"
        }
      ]
    },
    {
      "cell_type": "markdown",
      "metadata": {
        "id": "YCmF4g5EnEYw"
      },
      "source": [
        "# 5. Get detailed information about the variable.\n",
        "```\n",
        "%pinfo <variable>\n",
        "```"
      ]
    },
    {
      "cell_type": "code",
      "metadata": {
        "id": "Y5U71O-wnDo2"
      },
      "source": [
        "var_1 = 1\n",
        "var_2 = 'hello'\n",
        "var_3 = 100"
      ],
      "execution_count": 7,
      "outputs": []
    },
    {
      "cell_type": "code",
      "metadata": {
        "id": "Q1S9-JO7nIze"
      },
      "source": [
        "%pinfo var_1"
      ],
      "execution_count": 8,
      "outputs": []
    },
    {
      "cell_type": "code",
      "metadata": {
        "id": "HWH8Sd_TnJbL"
      },
      "source": [
        "%pinfo var_2"
      ],
      "execution_count": 9,
      "outputs": []
    },
    {
      "cell_type": "markdown",
      "metadata": {
        "id": "AWFH8wJWnNF_"
      },
      "source": [
        "# 6. Get and set environmental variables."
      ]
    },
    {
      "cell_type": "code",
      "metadata": {
        "id": "zkTduWOUnM1y",
        "outputId": "78a43ba5-1012-45b7-9746-9c70fb49883e",
        "colab": {
          "base_uri": "https://localhost:8080/"
        }
      },
      "source": [
        "%env"
      ],
      "execution_count": 10,
      "outputs": [
        {
          "output_type": "execute_result",
          "data": {
            "text/plain": [
              "{'CLICOLOR': '1',\n",
              " 'CLOUDSDK_CONFIG': '/content/.config',\n",
              " 'CLOUDSDK_PYTHON': 'python3',\n",
              " 'COLAB_GPU': '0',\n",
              " 'CUDA_PKG_VERSION': '10-1=10.1.243-1',\n",
              " 'CUDA_VERSION': '10.1.243',\n",
              " 'CUDNN_VERSION': '7.6.5.32',\n",
              " 'DATALAB_SETTINGS_OVERRIDES': '{\"kernelManagerProxyPort\":6000,\"kernelManagerProxyHost\":\"172.28.0.3\",\"jupyterArgs\":[\"--ip=\\\\\"172.28.0.2\\\\\"\"]}',\n",
              " 'DEBIAN_FRONTEND': 'noninteractive',\n",
              " 'ENV': '/root/.bashrc',\n",
              " 'GCE_METADATA_TIMEOUT': '0',\n",
              " 'GCS_READ_CACHE_BLOCK_SIZE_MB': '16',\n",
              " 'GIT_PAGER': 'cat',\n",
              " 'GLIBCPP_FORCE_NEW': '1',\n",
              " 'GLIBCXX_FORCE_NEW': '1',\n",
              " 'HOME': '/root',\n",
              " 'HOSTNAME': '5596b4332bc2',\n",
              " 'JPY_PARENT_PID': '50',\n",
              " 'LANG': 'en_US.UTF-8',\n",
              " 'LAST_FORCED_REBUILD': '20201027',\n",
              " 'LD_LIBRARY_PATH': '/usr/local/nvidia/lib:/usr/local/nvidia/lib64',\n",
              " 'LD_PRELOAD': '/usr/lib/x86_64-linux-gnu/libtcmalloc.so.4',\n",
              " 'LIBRARY_PATH': '/usr/local/cuda/lib64/stubs',\n",
              " 'MPLBACKEND': 'module://ipykernel.pylab.backend_inline',\n",
              " 'NCCL_VERSION': '2.7.8',\n",
              " 'NO_GCE_CHECK': 'True',\n",
              " 'NVIDIA_DRIVER_CAPABILITIES': 'compute,utility',\n",
              " 'NVIDIA_REQUIRE_CUDA': 'cuda>=10.1 brand=tesla,driver>=396,driver<397 brand=tesla,driver>=410,driver<411 brand=tesla,driver>=418,driver<419',\n",
              " 'NVIDIA_VISIBLE_DEVICES': 'all',\n",
              " 'OLDPWD': '/',\n",
              " 'PAGER': 'cat',\n",
              " 'PATH': '/usr/local/nvidia/bin:/usr/local/cuda/bin:/usr/local/sbin:/usr/local/bin:/usr/sbin:/usr/bin:/sbin:/bin:/tools/node/bin:/tools/google-cloud-sdk/bin:/opt/bin',\n",
              " 'PWD': '/',\n",
              " 'PYTHONPATH': '/env/python',\n",
              " 'PYTHONWARNINGS': 'ignore:::pip._internal.cli.base_command',\n",
              " 'SHELL': '/bin/bash',\n",
              " 'SHLVL': '1',\n",
              " 'TBE_CREDS_ADDR': '172.28.0.1:8008',\n",
              " 'TERM': 'xterm-color',\n",
              " 'TF_FORCE_GPU_ALLOW_GROWTH': 'true',\n",
              " '_': '/tools/node/bin/node'}"
            ]
          },
          "metadata": {
            "tags": []
          },
          "execution_count": 10
        }
      ]
    },
    {
      "cell_type": "code",
      "metadata": {
        "id": "EUQmUi3tnMAS",
        "outputId": "775d5359-4766-4432-9844-2aedff268cf1",
        "colab": {
          "base_uri": "https://localhost:8080/"
        }
      },
      "source": [
        "%env NEW_VAR=Users/konki"
      ],
      "execution_count": 11,
      "outputs": [
        {
          "output_type": "stream",
          "text": [
            "env: NEW_VAR=Users/konki\n"
          ],
          "name": "stdout"
        }
      ]
    },
    {
      "cell_type": "code",
      "metadata": {
        "id": "h987F-XsnR0J",
        "outputId": "998ed9ea-6e32-4c42-f95f-cf331bc24474",
        "colab": {
          "base_uri": "https://localhost:8080/",
          "height": 37
        }
      },
      "source": [
        "%env NEW_VAR"
      ],
      "execution_count": 12,
      "outputs": [
        {
          "output_type": "execute_result",
          "data": {
            "application/vnd.google.colaboratory.intrinsic+json": {
              "type": "string"
            },
            "text/plain": [
              "'Users/konki'"
            ]
          },
          "metadata": {
            "tags": []
          },
          "execution_count": 12
        }
      ]
    },
    {
      "cell_type": "markdown",
      "metadata": {
        "id": "xLq92j97nTNi"
      },
      "source": [
        "# 7. Displaying matlpotlib graphs in jupyter notebook"
      ]
    },
    {
      "cell_type": "code",
      "metadata": {
        "id": "UAxRCbojnSZs"
      },
      "source": [
        "%matplotlib inline"
      ],
      "execution_count": 13,
      "outputs": []
    },
    {
      "cell_type": "markdown",
      "metadata": {
        "id": "b4um7n8GnVyX"
      },
      "source": [
        "# 8. Load an external file."
      ]
    },
    {
      "cell_type": "code",
      "metadata": {
        "id": "B97eI2dGnVmY"
      },
      "source": [
        "def calculate_area(len, height):\n",
        "    return len * height * 2"
      ],
      "execution_count": 14,
      "outputs": []
    },
    {
      "cell_type": "code",
      "metadata": {
        "id": "4iVkmtTQnUva"
      },
      "source": [
        "%load rectangle.py"
      ],
      "execution_count": 15,
      "outputs": []
    }
  ]
}