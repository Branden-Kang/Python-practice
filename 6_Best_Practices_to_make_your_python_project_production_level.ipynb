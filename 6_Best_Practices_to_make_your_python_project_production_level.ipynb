{
  "nbformat": 4,
  "nbformat_minor": 0,
  "metadata": {
    "colab": {
      "provenance": [],
      "authorship_tag": "ABX9TyMQTDhVNV19Y0Pb4HzeVu+r"
    },
    "kernelspec": {
      "name": "python3",
      "display_name": "Python 3"
    },
    "language_info": {
      "name": "python"
    }
  },
  "cells": [
    {
      "cell_type": "markdown",
      "source": [
        "[Reference](https://sathiyakugan.medium.com/best-practices-to-make-your-python-project-production-level-part-1-71eb8ffd7344)"
      ],
      "metadata": {
        "id": "X_bbzgfveNpk"
      }
    },
    {
      "cell_type": "markdown",
      "source": [
        "# 1. Keep it modular, clean & efficient\n"
      ],
      "metadata": {
        "id": "FaU1Hsr7ePym"
      }
    },
    {
      "cell_type": "code",
      "execution_count": 8,
      "metadata": {
        "colab": {
          "base_uri": "https://localhost:8080/"
        },
        "id": "OeEs567ZdKjf",
        "outputId": "0a4eaa79-b590-4270-b3af-e33100e5fd7a"
      },
      "outputs": [
        {
          "output_type": "stream",
          "name": "stdout",
          "text": [
            "Hi\n"
          ]
        }
      ],
      "source": [
        "name = 'kugan'\n",
        "if name == \"kugan\":\n",
        "    print('Hi')\n",
        "if name == \"sathy\":\n",
        "    print('Hi')\n",
        "if name == \"sathiyakugan\":\n",
        "    print('Hi')"
      ]
    },
    {
      "cell_type": "code",
      "source": [
        "name = 'kugan'\n",
        "people = ['kugan', 'sathy', 'sathiyakugan']\n",
        "if name in people:\n",
        "    print('Hi')"
      ],
      "metadata": {
        "colab": {
          "base_uri": "https://localhost:8080/"
        },
        "id": "npgvZ6iBdMTi",
        "outputId": "8fce813e-72ce-4fc1-da85-6bee0ade91d3"
      },
      "execution_count": 9,
      "outputs": [
        {
          "output_type": "stream",
          "name": "stdout",
          "text": [
            "Hi\n"
          ]
        }
      ]
    },
    {
      "cell_type": "markdown",
      "source": [
        "# 2. Optimising your code"
      ],
      "metadata": {
        "id": "R_N8QtVPea4x"
      }
    },
    {
      "cell_type": "code",
      "source": [
        "import collections"
      ],
      "metadata": {
        "id": "PQ6e1IhLeiXF"
      },
      "execution_count": 11,
      "outputs": []
    },
    {
      "cell_type": "code",
      "source": [
        "vocab = collections.defaultdict(list)"
      ],
      "metadata": {
        "id": "LcrfvHVzdOdi"
      },
      "execution_count": 12,
      "outputs": []
    },
    {
      "cell_type": "code",
      "source": [
        "vocab['kugan'] "
      ],
      "metadata": {
        "colab": {
          "base_uri": "https://localhost:8080/"
        },
        "id": "85p6Ir1IegvG",
        "outputId": "3c8198d5-17bc-4b85-c01d-e0a9f6b6f7fe"
      },
      "execution_count": 14,
      "outputs": [
        {
          "output_type": "execute_result",
          "data": {
            "text/plain": [
              "[]"
            ]
          },
          "metadata": {},
          "execution_count": 14
        }
      ]
    },
    {
      "cell_type": "markdown",
      "source": [
        "# 3. Logging"
      ],
      "metadata": {
        "id": "Ncp_e3LKemwr"
      }
    },
    {
      "cell_type": "markdown",
      "source": [
        "Debug: anything that happens in the program. <br>\n",
        "Error: any error that occurs. <br>\n",
        "Info: all user-driven or system-specific actions, such as regularly scheduled operations."
      ],
      "metadata": {
        "id": "6xI1HtRgeohS"
      }
    },
    {
      "cell_type": "markdown",
      "source": [
        "# 4. Testing\n",
        "Testing your code is essential before deployment. "
      ],
      "metadata": {
        "id": "eN-k013Merq1"
      }
    },
    {
      "cell_type": "markdown",
      "source": [
        "# 5. Documentation\n",
        "1. Inline comments — line level\n",
        "2. Docstrings — module and function level\n",
        "3. Project documentation — project level"
      ],
      "metadata": {
        "id": "q_753VvaeuF5"
      }
    },
    {
      "cell_type": "markdown",
      "source": [
        "# 6. Version control and Code review\n",
        "Code reviews are a common practice at work, and for a good reason. Reviewing each other's code can help catch errors, ensure readability, check that standards are being met for production-level code, and share knowledge among a team."
      ],
      "metadata": {
        "id": "_8y8S-v0eyfc"
      }
    }
  ]
}