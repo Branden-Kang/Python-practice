{
  "nbformat": 4,
  "nbformat_minor": 0,
  "metadata": {
    "colab": {
      "name": "A Typical Workflow of a Machine Learning Engineer.ipynb",
      "provenance": [],
      "authorship_tag": "ABX9TyPnjoBGDrGdvaTIt/7lXmjD"
    },
    "kernelspec": {
      "name": "python3",
      "display_name": "Python 3"
    },
    "language_info": {
      "name": "python"
    }
  },
  "cells": [
    {
      "cell_type": "markdown",
      "metadata": {
        "id": "1-uKwU06KFaK"
      },
      "source": [
        "[Reference](https://betterprogramming.pub/the-ml-engineer-a-very-simple-machine-learning-project-to-show-the-workflow-of-a-typical-machine-ec1e348bfcba)"
      ]
    },
    {
      "cell_type": "code",
      "metadata": {
        "id": "fmD2M3CUKIbO"
      },
      "source": [
        "# all the necessary imports\n",
        "import pandas as pd\n",
        "import numpy as np\n",
        "from sklearn.model_selection import train_test_split\n",
        "from sklearn.linear_model import LinearRegression\n",
        "import matplotlib.pyplot as plt\n",
        "import pickle\n",
        "\n",
        "# choosing a style for our graphs. Nothing fancy\n",
        "from matplotlib import style\n",
        "style.use('ggplot')"
      ],
      "execution_count": 1,
      "outputs": []
    },
    {
      "cell_type": "markdown",
      "metadata": {
        "id": "jrnEIbhYKtCL"
      },
      "source": [
        "# Data Analysis"
      ]
    },
    {
      "cell_type": "code",
      "metadata": {
        "colab": {
          "base_uri": "https://localhost:8080/",
          "height": 204
        },
        "id": "VIvWOgsrKKmJ",
        "outputId": "c77b3c6a-e988-44be-ade1-d40649b6b22c"
      },
      "source": [
        "# loading data into python\n",
        "df = pd.read_csv('https://raw.githubusercontent.com/trevenue44/ml101/main/Linear%20Regression/01%20First%20Linear%20Regression/data.csv')\n",
        "df.head()"
      ],
      "execution_count": 2,
      "outputs": [
        {
          "output_type": "execute_result",
          "data": {
            "text/html": [
              "<div>\n",
              "<style scoped>\n",
              "    .dataframe tbody tr th:only-of-type {\n",
              "        vertical-align: middle;\n",
              "    }\n",
              "\n",
              "    .dataframe tbody tr th {\n",
              "        vertical-align: top;\n",
              "    }\n",
              "\n",
              "    .dataframe thead th {\n",
              "        text-align: right;\n",
              "    }\n",
              "</style>\n",
              "<table border=\"1\" class=\"dataframe\">\n",
              "  <thead>\n",
              "    <tr style=\"text-align: right;\">\n",
              "      <th></th>\n",
              "      <th>A</th>\n",
              "      <th>B</th>\n",
              "      <th>C</th>\n",
              "    </tr>\n",
              "  </thead>\n",
              "  <tbody>\n",
              "    <tr>\n",
              "      <th>0</th>\n",
              "      <td>2</td>\n",
              "      <td>3</td>\n",
              "      <td>8.5</td>\n",
              "    </tr>\n",
              "    <tr>\n",
              "      <th>1</th>\n",
              "      <td>1</td>\n",
              "      <td>2</td>\n",
              "      <td>5.5</td>\n",
              "    </tr>\n",
              "    <tr>\n",
              "      <th>2</th>\n",
              "      <td>4</td>\n",
              "      <td>1</td>\n",
              "      <td>10.5</td>\n",
              "    </tr>\n",
              "    <tr>\n",
              "      <th>3</th>\n",
              "      <td>3</td>\n",
              "      <td>2</td>\n",
              "      <td>9.5</td>\n",
              "    </tr>\n",
              "    <tr>\n",
              "      <th>4</th>\n",
              "      <td>2</td>\n",
              "      <td>1</td>\n",
              "      <td>6.5</td>\n",
              "    </tr>\n",
              "  </tbody>\n",
              "</table>\n",
              "</div>"
            ],
            "text/plain": [
              "   A  B     C\n",
              "0  2  3   8.5\n",
              "1  1  2   5.5\n",
              "2  4  1  10.5\n",
              "3  3  2   9.5\n",
              "4  2  1   6.5"
            ]
          },
          "metadata": {},
          "execution_count": 2
        }
      ]
    },
    {
      "cell_type": "markdown",
      "metadata": {
        "id": "7xmQIQCPKrPC"
      },
      "source": [
        "# And features?"
      ]
    },
    {
      "cell_type": "code",
      "metadata": {
        "id": "DsgHIhQlKAcH"
      },
      "source": [
        "# what is our label?\n",
        "label = \"C\"\n",
        "y = np.array(df[label])\n",
        "\n",
        "# what are the features?\n",
        "X = np.array(df.drop('C', axis=1))"
      ],
      "execution_count": 3,
      "outputs": []
    },
    {
      "cell_type": "code",
      "metadata": {
        "colab": {
          "base_uri": "https://localhost:8080/",
          "height": 282
        },
        "id": "_z1RtXsCKPLu",
        "outputId": "9fff9815-1a03-42bb-9d04-0f3b25ecafdd"
      },
      "source": [
        "# using matplotlib to plot a scatter diagram of A and C\n",
        "C = np.array(df['C'])\n",
        "A = np.array(df['A'])\n",
        "plt.scatter(A, C)\n",
        "plt.xlabel('A')\n",
        "plt.ylabel('C')\n",
        "plt.show()"
      ],
      "execution_count": 4,
      "outputs": [
        {
          "output_type": "display_data",
          "data": {
            "image/png": "[encoded data removed]",
            "text/plain": [
              "<Figure size 432x288 with 1 Axes>"
            ]
          },
          "metadata": {
            "needs_background": "light"
          }
        }
      ]
    },
    {
      "cell_type": "code",
      "metadata": {
        "colab": {
          "base_uri": "https://localhost:8080/",
          "height": 282
        },
        "id": "azSKNUK9KRXM",
        "outputId": "57c141ff-74b6-48cc-c558-7f4295f84b60"
      },
      "source": [
        "# also making a scatter plot of B against C\n",
        "B = np.array(df['B'])\n",
        "plt.scatter(B, C)\n",
        "plt.xlabel('B')\n",
        "plt.ylabel('C')\n",
        "plt.show()"
      ],
      "execution_count": 5,
      "outputs": [
        {
          "output_type": "display_data",
          "data": {
            "image/png": "[encoded data removed]",
            "text/plain": [
              "<Figure size 432x288 with 1 Axes>"
            ]
          },
          "metadata": {
            "needs_background": "light"
          }
        }
      ]
    },
    {
      "cell_type": "markdown",
      "metadata": {
        "id": "MSq2y99_Knnx"
      },
      "source": [
        "# The ML itself"
      ]
    },
    {
      "cell_type": "code",
      "metadata": {
        "id": "kX2iFyJoKSlc"
      },
      "source": [
        "model = LinearRegression()"
      ],
      "execution_count": 6,
      "outputs": []
    },
    {
      "cell_type": "code",
      "metadata": {
        "id": "m7RX3oHcKTle"
      },
      "source": [
        "X_train, X_test, y_train, y_test = train_test_split(X, y, test_size=0.1) "
      ],
      "execution_count": 7,
      "outputs": []
    },
    {
      "cell_type": "markdown",
      "metadata": {
        "id": "2E_qrhxGKbEq"
      },
      "source": [
        "# Training "
      ]
    },
    {
      "cell_type": "code",
      "metadata": {
        "colab": {
          "base_uri": "https://localhost:8080/"
        },
        "id": "5Jv8ZtKuKUuY",
        "outputId": "7758fafa-03f4-4595-c73e-a6ba9be6ea29"
      },
      "source": [
        "# training\n",
        "model.fit(X_train, y_train)"
      ],
      "execution_count": 8,
      "outputs": [
        {
          "output_type": "execute_result",
          "data": {
            "text/plain": [
              "LinearRegression(copy_X=True, fit_intercept=True, n_jobs=None, normalize=False)"
            ]
          },
          "metadata": {},
          "execution_count": 8
        }
      ]
    },
    {
      "cell_type": "markdown",
      "metadata": {
        "id": "9gp8qfaKKZpq"
      },
      "source": [
        "# Testing "
      ]
    },
    {
      "cell_type": "code",
      "metadata": {
        "colab": {
          "base_uri": "https://localhost:8080/"
        },
        "id": "KkW612d1KX8j",
        "outputId": "70f8f53a-fb93-4667-be76-65f196b47a4e"
      },
      "source": [
        "model.score(X_test, y_test)"
      ],
      "execution_count": 9,
      "outputs": [
        {
          "output_type": "execute_result",
          "data": {
            "text/plain": [
              "1.0"
            ]
          },
          "metadata": {},
          "execution_count": 9
        }
      ]
    },
    {
      "cell_type": "markdown",
      "metadata": {
        "id": "WeVGxnLkKc7S"
      },
      "source": [
        "# Save our model"
      ]
    },
    {
      "cell_type": "code",
      "metadata": {
        "id": "ssejKrg_KY6O"
      },
      "source": [
        "with open(\"linear_regression_model.pickle\", \"wb\") as f:\n",
        "    pickle.dump(model, f)"
      ],
      "execution_count": 10,
      "outputs": []
    },
    {
      "cell_type": "markdown",
      "metadata": {
        "id": "fP6YyL7SKgza"
      },
      "source": [
        "# Loading the model "
      ]
    },
    {
      "cell_type": "code",
      "metadata": {
        "colab": {
          "base_uri": "https://localhost:8080/"
        },
        "id": "IwzlHSVEKf5-",
        "outputId": "346fefba-7144-41eb-be88-afbeb22c4080"
      },
      "source": [
        "model_file = open(\"linear_regression_model.pickle\", \"rb\")\n",
        "loaded_model = pickle.load(model_file)\n",
        "\n",
        "loaded_model.predict(np.array([[0, 0]]))"
      ],
      "execution_count": 11,
      "outputs": [
        {
          "output_type": "execute_result",
          "data": {
            "text/plain": [
              "array([1.5])"
            ]
          },
          "metadata": {},
          "execution_count": 11
        }
      ]
    }
  ]
}