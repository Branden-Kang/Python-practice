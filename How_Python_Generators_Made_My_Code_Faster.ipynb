{
  "nbformat": 4,
  "nbformat_minor": 0,
  "metadata": {
    "colab": {
      "name": "How Python Generators Made My Code Faster.ipynb",
      "provenance": [],
      "authorship_tag": "ABX9TyP39+MBAI1atUi9LERUp2KA"
    },
    "kernelspec": {
      "name": "python3",
      "display_name": "Python 3"
    },
    "language_info": {
      "name": "python"
    }
  },
  "cells": [
    {
      "cell_type": "markdown",
      "metadata": {
        "id": "3dyzERomgSm4"
      },
      "source": [
        "[Reference](https://python.plainenglish.io/how-working-with-python-generators-made-my-code-execution-faster-de085c10e106)"
      ]
    },
    {
      "cell_type": "code",
      "metadata": {
        "colab": {
          "base_uri": "https://localhost:8080/"
        },
        "id": "g2eQt7Z4gB1h",
        "outputId": "fb217ccd-e331-4254-9b6e-7cd479936eaf"
      },
      "source": [
        "def square_numbers(nums):\n",
        "  result = []\n",
        "  for i in nums:\n",
        "    result.append(i*i)\n",
        "  return result\n",
        "\n",
        "my_nums = square_numbers([1,2,3,4,5])\n",
        "# my_nums = [x * x for x in [1,2,3,4,5]]\n",
        "\n",
        "print(my_nums) # [1, 4 , 9 , 16 , 25]"
      ],
      "execution_count": 2,
      "outputs": [
        {
          "output_type": "stream",
          "text": [
            "[1, 4, 9, 16, 25]\n"
          ],
          "name": "stdout"
        }
      ]
    },
    {
      "cell_type": "code",
      "metadata": {
        "colab": {
          "base_uri": "https://localhost:8080/"
        },
        "id": "PC0IYThxgk3d",
        "outputId": "3a105d90-f90e-4712-ebdc-e65c23420a9a"
      },
      "source": [
        "def square_numbers(nums):\n",
        "  for i in nums: \n",
        "    yield(i*i)\n",
        "    \n",
        "my_nums = square_numbers([1, 2, 3, 4, 5])\n",
        "\n",
        "print(my_nums)"
      ],
      "execution_count": 3,
      "outputs": [
        {
          "output_type": "stream",
          "text": [
            "<generator object square_numbers at 0x7f8171d28cd0>\n"
          ],
          "name": "stdout"
        }
      ]
    },
    {
      "cell_type": "code",
      "metadata": {
        "colab": {
          "base_uri": "https://localhost:8080/"
        },
        "id": "BvTnabwAgsMW",
        "outputId": "37ca46e3-6155-4453-ed10-984d52ed4863"
      },
      "source": [
        "def square_numbers(nums):\n",
        "  for i in nums: \n",
        "    yield(i*i)\n",
        "    \n",
        "my_nums = square_numbers([1, 2, 3, 4, 5])\n",
        "\n",
        "print(next(my_nums))"
      ],
      "execution_count": 4,
      "outputs": [
        {
          "output_type": "stream",
          "text": [
            "1\n"
          ],
          "name": "stdout"
        }
      ]
    },
    {
      "cell_type": "code",
      "metadata": {
        "colab": {
          "base_uri": "https://localhost:8080/"
        },
        "id": "uQi8BO3fgt-T",
        "outputId": "929bc293-bd1b-4058-a9a3-2361fd19b818"
      },
      "source": [
        "def square_numbers(nums):\n",
        "  for i in nums: \n",
        "    yield(i*i)\n",
        "    \n",
        "my_nums = square_numbers([1, 2, 3, 4, 5])\n",
        "\n",
        "print(next(my_nums))\n",
        "print(next(my_nums))\n",
        "print(next(my_nums))\n",
        "print(next(my_nums))\n",
        "print(next(my_nums))"
      ],
      "execution_count": 5,
      "outputs": [
        {
          "output_type": "stream",
          "text": [
            "1\n",
            "4\n",
            "9\n",
            "16\n",
            "25\n"
          ],
          "name": "stdout"
        }
      ]
    },
    {
      "cell_type": "code",
      "metadata": {
        "colab": {
          "base_uri": "https://localhost:8080/"
        },
        "id": "1BRdArPzgy4w",
        "outputId": "45f57f52-227d-4a16-cd6d-f87881f106c3"
      },
      "source": [
        "def square_numbers(nums):\n",
        "  for i in nums: \n",
        "    yield(i*i)\n",
        "    \n",
        "my_nums = square_numbers([1, 2, 3, 4, 5])\n",
        "\n",
        "for num in my_nums:\n",
        "  print(num)"
      ],
      "execution_count": 6,
      "outputs": [
        {
          "output_type": "stream",
          "text": [
            "1\n",
            "4\n",
            "9\n",
            "16\n",
            "25\n"
          ],
          "name": "stdout"
        }
      ]
    },
    {
      "cell_type": "code",
      "metadata": {
        "colab": {
          "base_uri": "https://localhost:8080/"
        },
        "id": "ckZW5gFcg3A0",
        "outputId": "dee40847-310b-4447-9d48-0f535813c0fe"
      },
      "source": [
        "# list comprehension \n",
        "\n",
        "my_nums = [x*x for x in [1, 2, 3, 4, 5]]\n",
        "\n",
        "print(my_nums)\n",
        "\n",
        "for num in my_nums:\n",
        "  print(num)"
      ],
      "execution_count": 8,
      "outputs": [
        {
          "output_type": "stream",
          "text": [
            "[1, 4, 9, 16, 25]\n",
            "1\n",
            "4\n",
            "9\n",
            "16\n",
            "25\n"
          ],
          "name": "stdout"
        }
      ]
    },
    {
      "cell_type": "code",
      "metadata": {
        "colab": {
          "base_uri": "https://localhost:8080/"
        },
        "id": "KGCaKas0g89Q",
        "outputId": "d6886142-c178-4402-b070-bb226b51e470"
      },
      "source": [
        "# list comprehension \n",
        "\n",
        "my_nums = (x*x for x in [1, 2, 3, 4, 5])\n",
        "\n",
        "print(my_nums)\n",
        "\n",
        "for num in my_nums:\n",
        "  print(num)"
      ],
      "execution_count": 9,
      "outputs": [
        {
          "output_type": "stream",
          "text": [
            "<generator object <genexpr> at 0x7f8171d28cd0>\n",
            "1\n",
            "4\n",
            "9\n",
            "16\n",
            "25\n"
          ],
          "name": "stdout"
        }
      ]
    },
    {
      "cell_type": "code",
      "metadata": {
        "colab": {
          "base_uri": "https://localhost:8080/"
        },
        "id": "fggPhrXEhHfz",
        "outputId": "da2e2294-34ef-4a11-bf02-bdba0c83d83c"
      },
      "source": [
        "my_nums = (x*x for x in [1, 2, 3, 4, 5])\n",
        "print(list(my_nums))"
      ],
      "execution_count": 10,
      "outputs": [
        {
          "output_type": "stream",
          "text": [
            "[1, 4, 9, 16, 25]\n"
          ],
          "name": "stdout"
        }
      ]
    }
  ]
}