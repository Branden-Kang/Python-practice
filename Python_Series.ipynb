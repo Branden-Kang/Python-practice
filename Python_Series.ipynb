{
  "nbformat": 4,
  "nbformat_minor": 0,
  "metadata": {
    "colab": {
      "name": "Python Series.ipynb",
      "provenance": [],
      "authorship_tag": "ABX9TyOnhBfg4/YFHzpGKbVtXDkw"
    },
    "kernelspec": {
      "name": "python3",
      "display_name": "Python 3"
    },
    "language_info": {
      "name": "python"
    }
  },
  "cells": [
    {
      "cell_type": "markdown",
      "metadata": {
        "id": "9tSj5vWHkmX-"
      },
      "source": [
        "[Reference](https://medium.com/geekculture/python-series-the-power-of-range-function-bb0de763eb0e)"
      ]
    },
    {
      "cell_type": "code",
      "metadata": {
        "colab": {
          "base_uri": "https://localhost:8080/"
        },
        "id": "CphIqioNkkN1",
        "outputId": "ef7f21ea-c6e2-49f8-913b-8d327b4551b2"
      },
      "source": [
        "for i in range(5):\n",
        "    print(i)"
      ],
      "execution_count": 1,
      "outputs": [
        {
          "output_type": "stream",
          "text": [
            "0\n",
            "1\n",
            "2\n",
            "3\n",
            "4\n"
          ],
          "name": "stdout"
        }
      ]
    },
    {
      "cell_type": "code",
      "metadata": {
        "colab": {
          "base_uri": "https://localhost:8080/"
        },
        "id": "xBQS_e4Ck0fp",
        "outputId": "0f1afe58-02ba-47c4-ba07-d984d0e0d479"
      },
      "source": [
        "for i in range(5, 10):\n",
        "    print(i)"
      ],
      "execution_count": 2,
      "outputs": [
        {
          "output_type": "stream",
          "text": [
            "5\n",
            "6\n",
            "7\n",
            "8\n",
            "9\n"
          ],
          "name": "stdout"
        }
      ]
    },
    {
      "cell_type": "code",
      "metadata": {
        "colab": {
          "base_uri": "https://localhost:8080/"
        },
        "id": "DEg6wFCFk5Hf",
        "outputId": "b52059fa-091b-42a6-a78b-92e90dca1eb9"
      },
      "source": [
        "for i in range(0, 10, 3):\n",
        "    print(i)"
      ],
      "execution_count": 3,
      "outputs": [
        {
          "output_type": "stream",
          "text": [
            "0\n",
            "3\n",
            "6\n",
            "9\n"
          ],
          "name": "stdout"
        }
      ]
    },
    {
      "cell_type": "code",
      "metadata": {
        "colab": {
          "base_uri": "https://localhost:8080/"
        },
        "id": "ZH-cfhCfk67s",
        "outputId": "138c4c36-e532-461a-cb8d-fd146cc7f065"
      },
      "source": [
        "for i in range(0, -10, -3):\n",
        "    print(i)"
      ],
      "execution_count": 4,
      "outputs": [
        {
          "output_type": "stream",
          "text": [
            "0\n",
            "-3\n",
            "-6\n",
            "-9\n"
          ],
          "name": "stdout"
        }
      ]
    },
    {
      "cell_type": "code",
      "metadata": {
        "colab": {
          "base_uri": "https://localhost:8080/"
        },
        "id": "hiVmDOYik9F2",
        "outputId": "6a654938-be05-434b-f2f1-09f1a6b310ff"
      },
      "source": [
        "for i in range(-10, -100, -30):\n",
        "    print(i)"
      ],
      "execution_count": 5,
      "outputs": [
        {
          "output_type": "stream",
          "text": [
            "-10\n",
            "-40\n",
            "-70\n"
          ],
          "name": "stdout"
        }
      ]
    },
    {
      "cell_type": "code",
      "metadata": {
        "colab": {
          "base_uri": "https://localhost:8080/"
        },
        "id": "Szg2WBUEk-oS",
        "outputId": "71c1ed7f-1108-4f4a-b405-6c99a7396dab"
      },
      "source": [
        "a = ['reader', 'is', 'doing', 'amazingly', 'well']\n",
        "for i in range(len(a)):\n",
        "   print(i, a[i])"
      ],
      "execution_count": 6,
      "outputs": [
        {
          "output_type": "stream",
          "text": [
            "0 reader\n",
            "1 is\n",
            "2 doing\n",
            "3 amazingly\n",
            "4 well\n"
          ],
          "name": "stdout"
        }
      ]
    },
    {
      "cell_type": "code",
      "metadata": {
        "colab": {
          "base_uri": "https://localhost:8080/"
        },
        "id": "DlzSHxMdlBlZ",
        "outputId": "1bbb309c-e5ef-4ab0-bc81-923dc66b7329"
      },
      "source": [
        "print(range(10))"
      ],
      "execution_count": 7,
      "outputs": [
        {
          "output_type": "stream",
          "text": [
            "range(0, 10)\n"
          ],
          "name": "stdout"
        }
      ]
    },
    {
      "cell_type": "code",
      "metadata": {
        "colab": {
          "base_uri": "https://localhost:8080/"
        },
        "id": "U_MxL-YslDKL",
        "outputId": "37087f74-1a18-4734-b95e-5d091f2d4c30"
      },
      "source": [
        "print(sum(range(4)))"
      ],
      "execution_count": 8,
      "outputs": [
        {
          "output_type": "stream",
          "text": [
            "6\n"
          ],
          "name": "stdout"
        }
      ]
    },
    {
      "cell_type": "code",
      "metadata": {
        "colab": {
          "base_uri": "https://localhost:8080/"
        },
        "id": "PUQbvsAglZdQ",
        "outputId": "ee335192-56fa-4c07-99fb-be7a377047a9"
      },
      "source": [
        "r = range(0, 20, 2)\n",
        "print(11 in r)"
      ],
      "execution_count": 9,
      "outputs": [
        {
          "output_type": "stream",
          "text": [
            "False\n"
          ],
          "name": "stdout"
        }
      ]
    },
    {
      "cell_type": "code",
      "metadata": {
        "colab": {
          "base_uri": "https://localhost:8080/"
        },
        "id": "A5VRQk1Qld4g",
        "outputId": "400d6247-55da-4971-ccf6-e8f05cb3bab3"
      },
      "source": [
        "print(10 in r)"
      ],
      "execution_count": 10,
      "outputs": [
        {
          "output_type": "stream",
          "text": [
            "True\n"
          ],
          "name": "stdout"
        }
      ]
    },
    {
      "cell_type": "code",
      "metadata": {
        "colab": {
          "base_uri": "https://localhost:8080/"
        },
        "id": "4F2-71_AlhIM",
        "outputId": "b0789cba-c585-45d1-f2b0-5eee7e14b73b"
      },
      "source": [
        "print(r.index(10))"
      ],
      "execution_count": 11,
      "outputs": [
        {
          "output_type": "stream",
          "text": [
            "5\n"
          ],
          "name": "stdout"
        }
      ]
    },
    {
      "cell_type": "code",
      "metadata": {
        "colab": {
          "base_uri": "https://localhost:8080/"
        },
        "id": "dSciu1qGlhUz",
        "outputId": "34362fcc-5304-4f63-b99a-9adbb6701538"
      },
      "source": [
        "print(r[5])"
      ],
      "execution_count": 12,
      "outputs": [
        {
          "output_type": "stream",
          "text": [
            "10\n"
          ],
          "name": "stdout"
        }
      ]
    },
    {
      "cell_type": "code",
      "metadata": {
        "colab": {
          "base_uri": "https://localhost:8080/"
        },
        "id": "TUoXixtrlirj",
        "outputId": "9df235be-8d13-4bdc-d2b1-08583136f336"
      },
      "source": [
        "print(r[:5])"
      ],
      "execution_count": 13,
      "outputs": [
        {
          "output_type": "stream",
          "text": [
            "range(0, 10, 2)\n"
          ],
          "name": "stdout"
        }
      ]
    },
    {
      "cell_type": "code",
      "metadata": {
        "colab": {
          "base_uri": "https://localhost:8080/"
        },
        "id": "o_uqvPPlljjR",
        "outputId": "d99ff656-3335-4b2b-88d8-92c7c1bf32cc"
      },
      "source": [
        "print(r[-1])"
      ],
      "execution_count": 14,
      "outputs": [
        {
          "output_type": "stream",
          "text": [
            "18\n"
          ],
          "name": "stdout"
        }
      ]
    },
    {
      "cell_type": "code",
      "metadata": {
        "colab": {
          "base_uri": "https://localhost:8080/"
        },
        "id": "-XfJOwVElk69",
        "outputId": "11d79a3d-3cc5-49bc-bf10-ac3a5605744a"
      },
      "source": [
        "for i in reversed(range(8)):\n",
        "    print(i)"
      ],
      "execution_count": 15,
      "outputs": [
        {
          "output_type": "stream",
          "text": [
            "7\n",
            "6\n",
            "5\n",
            "4\n",
            "3\n",
            "2\n",
            "1\n",
            "0\n"
          ],
          "name": "stdout"
        }
      ]
    },
    {
      "cell_type": "code",
      "metadata": {
        "colab": {
          "base_uri": "https://localhost:8080/"
        },
        "id": "Ii1E8XtxlmpW",
        "outputId": "8d3a191b-5b93-48ee-99aa-f98b4fc23339"
      },
      "source": [
        "print(list(range(10)))"
      ],
      "execution_count": 16,
      "outputs": [
        {
          "output_type": "stream",
          "text": [
            "[0, 1, 2, 3, 4, 5, 6, 7, 8, 9]\n"
          ],
          "name": "stdout"
        }
      ]
    },
    {
      "cell_type": "code",
      "metadata": {
        "colab": {
          "base_uri": "https://localhost:8080/"
        },
        "id": "0jsxVSaPlnl1",
        "outputId": "ab4e30b0-4fe6-41d7-dab8-6569917ce16d"
      },
      "source": [
        "print(list(range(1, 11)))"
      ],
      "execution_count": 17,
      "outputs": [
        {
          "output_type": "stream",
          "text": [
            "[1, 2, 3, 4, 5, 6, 7, 8, 9, 10]\n"
          ],
          "name": "stdout"
        }
      ]
    },
    {
      "cell_type": "code",
      "metadata": {
        "colab": {
          "base_uri": "https://localhost:8080/"
        },
        "id": "kQLva9Wrlok0",
        "outputId": "09a628a0-880f-4c01-d13e-d32ef0a15738"
      },
      "source": [
        "print(list(range(0, 30, 5)))"
      ],
      "execution_count": 18,
      "outputs": [
        {
          "output_type": "stream",
          "text": [
            "[0, 5, 10, 15, 20, 25]\n"
          ],
          "name": "stdout"
        }
      ]
    },
    {
      "cell_type": "code",
      "metadata": {
        "colab": {
          "base_uri": "https://localhost:8080/"
        },
        "id": "_NK82EuNlpkn",
        "outputId": "97209ad8-06f2-4284-8339-e5dff9a201f0"
      },
      "source": [
        "print(list(range(0, 10, 3)))"
      ],
      "execution_count": 19,
      "outputs": [
        {
          "output_type": "stream",
          "text": [
            "[0, 3, 6, 9]\n"
          ],
          "name": "stdout"
        }
      ]
    },
    {
      "cell_type": "code",
      "metadata": {
        "colab": {
          "base_uri": "https://localhost:8080/"
        },
        "id": "LjISGKx0lqb0",
        "outputId": "631abb47-12e7-48e7-ecce-b3cf2de27477"
      },
      "source": [
        "print(list(range(0, -10, -1)))"
      ],
      "execution_count": 20,
      "outputs": [
        {
          "output_type": "stream",
          "text": [
            "[0, -1, -2, -3, -4, -5, -6, -7, -8, -9]\n"
          ],
          "name": "stdout"
        }
      ]
    },
    {
      "cell_type": "code",
      "metadata": {
        "colab": {
          "base_uri": "https://localhost:8080/"
        },
        "id": "KjFCplAdlrP8",
        "outputId": "17977c45-bed7-42a9-cca2-c03ed3972f08"
      },
      "source": [
        "print(list(range(0)))"
      ],
      "execution_count": 21,
      "outputs": [
        {
          "output_type": "stream",
          "text": [
            "[]\n"
          ],
          "name": "stdout"
        }
      ]
    },
    {
      "cell_type": "code",
      "metadata": {
        "colab": {
          "base_uri": "https://localhost:8080/"
        },
        "id": "cOJHT30IlsB4",
        "outputId": "7c451894-30ec-432c-b5f5-d7bd180f7e3b"
      },
      "source": [
        "print(list(range(1, 0)))"
      ],
      "execution_count": 22,
      "outputs": [
        {
          "output_type": "stream",
          "text": [
            "[]\n"
          ],
          "name": "stdout"
        }
      ]
    }
  ]
}