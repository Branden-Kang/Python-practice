{
  "nbformat": 4,
  "nbformat_minor": 0,
  "metadata": {
    "colab": {
      "name": "Multiple Linear Regression in Python.ipynb",
      "provenance": [],
      "authorship_tag": "ABX9TyOSuqUhkdb9iVOafO1SqR70"
    },
    "kernelspec": {
      "name": "python3",
      "display_name": "Python 3"
    }
  },
  "cells": [
    {
      "cell_type": "markdown",
      "metadata": {
        "id": "yLaH9g7HouU0"
      },
      "source": [
        "[Reference](https://medium.com/ai-in-plain-english/implementing-multiple-linear-regression-in-python-1364fc03a5a8)"
      ]
    },
    {
      "cell_type": "code",
      "metadata": {
        "id": "z2rzfTgsovFJ",
        "outputId": "9c56341d-1c06-4ae7-bc56-88af0cb87a6f",
        "colab": {
          "base_uri": "https://localhost:8080/",
          "height": 1000
        }
      },
      "source": [
        "import matplotlib.pyplot as plt\n",
        "import numpy as np\n",
        "import pandas as pd\n",
        "\n",
        "weather_data_m = pd.read_csv(\"https://raw.githubusercontent.com/Branden-Kang/Python-practice/master/Data/WeatherDataM.csv\") \n",
        "weather_data_m"
      ],
      "execution_count": 2,
      "outputs": [
        {
          "output_type": "execute_result",
          "data": {
            "text/html": [
              "<div>\n",
              "<style scoped>\n",
              "    .dataframe tbody tr th:only-of-type {\n",
              "        vertical-align: middle;\n",
              "    }\n",
              "\n",
              "    .dataframe tbody tr th {\n",
              "        vertical-align: top;\n",
              "    }\n",
              "\n",
              "    .dataframe thead th {\n",
              "        text-align: right;\n",
              "    }\n",
              "</style>\n",
              "<table border=\"1\" class=\"dataframe\">\n",
              "  <thead>\n",
              "    <tr style=\"text-align: right;\">\n",
              "      <th></th>\n",
              "      <th>Temperature (C)</th>\n",
              "      <th>Wind Speed (km/h)</th>\n",
              "      <th>Pressure (millibars)</th>\n",
              "      <th>Humidity</th>\n",
              "    </tr>\n",
              "  </thead>\n",
              "  <tbody>\n",
              "    <tr>\n",
              "      <th>0</th>\n",
              "      <td>9.472222</td>\n",
              "      <td>14.1197</td>\n",
              "      <td>1015.13</td>\n",
              "      <td>0.89</td>\n",
              "    </tr>\n",
              "    <tr>\n",
              "      <th>1</th>\n",
              "      <td>9.355556</td>\n",
              "      <td>14.2646</td>\n",
              "      <td>1015.63</td>\n",
              "      <td>0.86</td>\n",
              "    </tr>\n",
              "    <tr>\n",
              "      <th>2</th>\n",
              "      <td>9.377778</td>\n",
              "      <td>3.9284</td>\n",
              "      <td>1015.94</td>\n",
              "      <td>0.89</td>\n",
              "    </tr>\n",
              "    <tr>\n",
              "      <th>3</th>\n",
              "      <td>8.288889</td>\n",
              "      <td>14.1036</td>\n",
              "      <td>1016.41</td>\n",
              "      <td>0.83</td>\n",
              "    </tr>\n",
              "    <tr>\n",
              "      <th>4</th>\n",
              "      <td>8.755556</td>\n",
              "      <td>11.0446</td>\n",
              "      <td>1016.51</td>\n",
              "      <td>0.83</td>\n",
              "    </tr>\n",
              "    <tr>\n",
              "      <th>5</th>\n",
              "      <td>9.222222</td>\n",
              "      <td>13.9587</td>\n",
              "      <td>1016.66</td>\n",
              "      <td>0.85</td>\n",
              "    </tr>\n",
              "    <tr>\n",
              "      <th>6</th>\n",
              "      <td>7.733333</td>\n",
              "      <td>12.3648</td>\n",
              "      <td>1016.72</td>\n",
              "      <td>0.95</td>\n",
              "    </tr>\n",
              "    <tr>\n",
              "      <th>7</th>\n",
              "      <td>8.772222</td>\n",
              "      <td>14.1519</td>\n",
              "      <td>1016.84</td>\n",
              "      <td>0.89</td>\n",
              "    </tr>\n",
              "    <tr>\n",
              "      <th>8</th>\n",
              "      <td>10.822222</td>\n",
              "      <td>11.3183</td>\n",
              "      <td>1017.37</td>\n",
              "      <td>0.82</td>\n",
              "    </tr>\n",
              "    <tr>\n",
              "      <th>9</th>\n",
              "      <td>13.772222</td>\n",
              "      <td>12.5258</td>\n",
              "      <td>1017.22</td>\n",
              "      <td>0.72</td>\n",
              "    </tr>\n",
              "    <tr>\n",
              "      <th>10</th>\n",
              "      <td>16.016667</td>\n",
              "      <td>17.5651</td>\n",
              "      <td>1017.42</td>\n",
              "      <td>0.67</td>\n",
              "    </tr>\n",
              "    <tr>\n",
              "      <th>11</th>\n",
              "      <td>17.144444</td>\n",
              "      <td>19.7869</td>\n",
              "      <td>1017.74</td>\n",
              "      <td>0.54</td>\n",
              "    </tr>\n",
              "    <tr>\n",
              "      <th>12</th>\n",
              "      <td>17.800000</td>\n",
              "      <td>21.9443</td>\n",
              "      <td>1017.59</td>\n",
              "      <td>0.55</td>\n",
              "    </tr>\n",
              "    <tr>\n",
              "      <th>13</th>\n",
              "      <td>17.333333</td>\n",
              "      <td>20.6885</td>\n",
              "      <td>1017.48</td>\n",
              "      <td>0.51</td>\n",
              "    </tr>\n",
              "    <tr>\n",
              "      <th>14</th>\n",
              "      <td>18.877778</td>\n",
              "      <td>15.3755</td>\n",
              "      <td>1017.17</td>\n",
              "      <td>0.47</td>\n",
              "    </tr>\n",
              "    <tr>\n",
              "      <th>15</th>\n",
              "      <td>18.911111</td>\n",
              "      <td>10.4006</td>\n",
              "      <td>1016.47</td>\n",
              "      <td>0.46</td>\n",
              "    </tr>\n",
              "    <tr>\n",
              "      <th>16</th>\n",
              "      <td>15.388889</td>\n",
              "      <td>14.4095</td>\n",
              "      <td>1016.15</td>\n",
              "      <td>0.60</td>\n",
              "    </tr>\n",
              "    <tr>\n",
              "      <th>17</th>\n",
              "      <td>15.550000</td>\n",
              "      <td>11.1573</td>\n",
              "      <td>1016.17</td>\n",
              "      <td>0.63</td>\n",
              "    </tr>\n",
              "    <tr>\n",
              "      <th>18</th>\n",
              "      <td>14.255556</td>\n",
              "      <td>8.5169</td>\n",
              "      <td>1015.82</td>\n",
              "      <td>0.69</td>\n",
              "    </tr>\n",
              "    <tr>\n",
              "      <th>19</th>\n",
              "      <td>13.144444</td>\n",
              "      <td>7.6314</td>\n",
              "      <td>1015.83</td>\n",
              "      <td>0.70</td>\n",
              "    </tr>\n",
              "    <tr>\n",
              "      <th>20</th>\n",
              "      <td>11.550000</td>\n",
              "      <td>7.3899</td>\n",
              "      <td>1015.85</td>\n",
              "      <td>0.77</td>\n",
              "    </tr>\n",
              "    <tr>\n",
              "      <th>21</th>\n",
              "      <td>11.183333</td>\n",
              "      <td>4.9266</td>\n",
              "      <td>1015.77</td>\n",
              "      <td>0.76</td>\n",
              "    </tr>\n",
              "    <tr>\n",
              "      <th>22</th>\n",
              "      <td>10.116667</td>\n",
              "      <td>6.6493</td>\n",
              "      <td>1015.40</td>\n",
              "      <td>0.79</td>\n",
              "    </tr>\n",
              "    <tr>\n",
              "      <th>23</th>\n",
              "      <td>10.200000</td>\n",
              "      <td>3.9284</td>\n",
              "      <td>1015.51</td>\n",
              "      <td>0.77</td>\n",
              "    </tr>\n",
              "    <tr>\n",
              "      <th>24</th>\n",
              "      <td>10.422222</td>\n",
              "      <td>16.9855</td>\n",
              "      <td>1014.40</td>\n",
              "      <td>0.62</td>\n",
              "    </tr>\n",
              "    <tr>\n",
              "      <th>25</th>\n",
              "      <td>9.911111</td>\n",
              "      <td>17.2109</td>\n",
              "      <td>1014.20</td>\n",
              "      <td>0.66</td>\n",
              "    </tr>\n",
              "    <tr>\n",
              "      <th>26</th>\n",
              "      <td>11.183333</td>\n",
              "      <td>10.8192</td>\n",
              "      <td>1008.71</td>\n",
              "      <td>0.80</td>\n",
              "    </tr>\n",
              "    <tr>\n",
              "      <th>27</th>\n",
              "      <td>7.155556</td>\n",
              "      <td>11.0768</td>\n",
              "      <td>1014.47</td>\n",
              "      <td>0.79</td>\n",
              "    </tr>\n",
              "    <tr>\n",
              "      <th>28</th>\n",
              "      <td>6.111111</td>\n",
              "      <td>6.6493</td>\n",
              "      <td>1014.45</td>\n",
              "      <td>0.82</td>\n",
              "    </tr>\n",
              "    <tr>\n",
              "      <th>29</th>\n",
              "      <td>6.788889</td>\n",
              "      <td>13.0088</td>\n",
              "      <td>1014.49</td>\n",
              "      <td>0.83</td>\n",
              "    </tr>\n",
              "    <tr>\n",
              "      <th>30</th>\n",
              "      <td>7.261111</td>\n",
              "      <td>11.1734</td>\n",
              "      <td>1014.52</td>\n",
              "      <td>0.85</td>\n",
              "    </tr>\n",
              "    <tr>\n",
              "      <th>31</th>\n",
              "      <td>7.800000</td>\n",
              "      <td>12.8156</td>\n",
              "      <td>1014.16</td>\n",
              "      <td>0.83</td>\n",
              "    </tr>\n",
              "    <tr>\n",
              "      <th>32</th>\n",
              "      <td>9.872222</td>\n",
              "      <td>13.7494</td>\n",
              "      <td>1014.24</td>\n",
              "      <td>0.78</td>\n",
              "    </tr>\n",
              "    <tr>\n",
              "      <th>33</th>\n",
              "      <td>12.222222</td>\n",
              "      <td>15.6331</td>\n",
              "      <td>1014.25</td>\n",
              "      <td>0.72</td>\n",
              "    </tr>\n",
              "    <tr>\n",
              "      <th>34</th>\n",
              "      <td>15.094444</td>\n",
              "      <td>17.5490</td>\n",
              "      <td>1013.96</td>\n",
              "      <td>0.61</td>\n",
              "    </tr>\n",
              "    <tr>\n",
              "      <th>35</th>\n",
              "      <td>17.355556</td>\n",
              "      <td>22.7815</td>\n",
              "      <td>1013.85</td>\n",
              "      <td>0.52</td>\n",
              "    </tr>\n",
              "    <tr>\n",
              "      <th>36</th>\n",
              "      <td>19.005556</td>\n",
              "      <td>23.8924</td>\n",
              "      <td>1013.04</td>\n",
              "      <td>0.46</td>\n",
              "    </tr>\n",
              "    <tr>\n",
              "      <th>37</th>\n",
              "      <td>20.044444</td>\n",
              "      <td>28.3682</td>\n",
              "      <td>1012.22</td>\n",
              "      <td>0.40</td>\n",
              "    </tr>\n",
              "    <tr>\n",
              "      <th>38</th>\n",
              "      <td>21.050000</td>\n",
              "      <td>26.9031</td>\n",
              "      <td>1011.44</td>\n",
              "      <td>0.40</td>\n",
              "    </tr>\n",
              "    <tr>\n",
              "      <th>39</th>\n",
              "      <td>21.183333</td>\n",
              "      <td>25.6956</td>\n",
              "      <td>1010.52</td>\n",
              "      <td>0.37</td>\n",
              "    </tr>\n",
              "    <tr>\n",
              "      <th>40</th>\n",
              "      <td>20.116667</td>\n",
              "      <td>25.3092</td>\n",
              "      <td>1009.83</td>\n",
              "      <td>0.40</td>\n",
              "    </tr>\n",
              "    <tr>\n",
              "      <th>41</th>\n",
              "      <td>20.216667</td>\n",
              "      <td>18.1125</td>\n",
              "      <td>1009.26</td>\n",
              "      <td>0.36</td>\n",
              "    </tr>\n",
              "    <tr>\n",
              "      <th>42</th>\n",
              "      <td>20.000000</td>\n",
              "      <td>23.4255</td>\n",
              "      <td>1008.76</td>\n",
              "      <td>0.43</td>\n",
              "    </tr>\n",
              "    <tr>\n",
              "      <th>43</th>\n",
              "      <td>17.800000</td>\n",
              "      <td>20.0445</td>\n",
              "      <td>1008.36</td>\n",
              "      <td>0.50</td>\n",
              "    </tr>\n",
              "    <tr>\n",
              "      <th>44</th>\n",
              "      <td>16.061111</td>\n",
              "      <td>21.3969</td>\n",
              "      <td>1008.11</td>\n",
              "      <td>0.53</td>\n",
              "    </tr>\n",
              "    <tr>\n",
              "      <th>45</th>\n",
              "      <td>15.022222</td>\n",
              "      <td>21.3808</td>\n",
              "      <td>1008.15</td>\n",
              "      <td>0.55</td>\n",
              "    </tr>\n",
              "    <tr>\n",
              "      <th>46</th>\n",
              "      <td>14.422222</td>\n",
              "      <td>20.0123</td>\n",
              "      <td>1007.85</td>\n",
              "      <td>0.58</td>\n",
              "    </tr>\n",
              "    <tr>\n",
              "      <th>47</th>\n",
              "      <td>14.255556</td>\n",
              "      <td>16.5025</td>\n",
              "      <td>1007.89</td>\n",
              "      <td>0.59</td>\n",
              "    </tr>\n",
              "    <tr>\n",
              "      <th>48</th>\n",
              "      <td>13.772222</td>\n",
              "      <td>17.0982</td>\n",
              "      <td>1007.36</td>\n",
              "      <td>0.60</td>\n",
              "    </tr>\n",
              "    <tr>\n",
              "      <th>49</th>\n",
              "      <td>13.283333</td>\n",
              "      <td>14.3612</td>\n",
              "      <td>1007.26</td>\n",
              "      <td>0.63</td>\n",
              "    </tr>\n",
              "  </tbody>\n",
              "</table>\n",
              "</div>"
            ],
            "text/plain": [
              "    Temperature (C)  Wind Speed (km/h)  Pressure (millibars)  Humidity\n",
              "0          9.472222            14.1197               1015.13      0.89\n",
              "1          9.355556            14.2646               1015.63      0.86\n",
              "2          9.377778             3.9284               1015.94      0.89\n",
              "3          8.288889            14.1036               1016.41      0.83\n",
              "4          8.755556            11.0446               1016.51      0.83\n",
              "5          9.222222            13.9587               1016.66      0.85\n",
              "6          7.733333            12.3648               1016.72      0.95\n",
              "7          8.772222            14.1519               1016.84      0.89\n",
              "8         10.822222            11.3183               1017.37      0.82\n",
              "9         13.772222            12.5258               1017.22      0.72\n",
              "10        16.016667            17.5651               1017.42      0.67\n",
              "11        17.144444            19.7869               1017.74      0.54\n",
              "12        17.800000            21.9443               1017.59      0.55\n",
              "13        17.333333            20.6885               1017.48      0.51\n",
              "14        18.877778            15.3755               1017.17      0.47\n",
              "15        18.911111            10.4006               1016.47      0.46\n",
              "16        15.388889            14.4095               1016.15      0.60\n",
              "17        15.550000            11.1573               1016.17      0.63\n",
              "18        14.255556             8.5169               1015.82      0.69\n",
              "19        13.144444             7.6314               1015.83      0.70\n",
              "20        11.550000             7.3899               1015.85      0.77\n",
              "21        11.183333             4.9266               1015.77      0.76\n",
              "22        10.116667             6.6493               1015.40      0.79\n",
              "23        10.200000             3.9284               1015.51      0.77\n",
              "24        10.422222            16.9855               1014.40      0.62\n",
              "25         9.911111            17.2109               1014.20      0.66\n",
              "26        11.183333            10.8192               1008.71      0.80\n",
              "27         7.155556            11.0768               1014.47      0.79\n",
              "28         6.111111             6.6493               1014.45      0.82\n",
              "29         6.788889            13.0088               1014.49      0.83\n",
              "30         7.261111            11.1734               1014.52      0.85\n",
              "31         7.800000            12.8156               1014.16      0.83\n",
              "32         9.872222            13.7494               1014.24      0.78\n",
              "33        12.222222            15.6331               1014.25      0.72\n",
              "34        15.094444            17.5490               1013.96      0.61\n",
              "35        17.355556            22.7815               1013.85      0.52\n",
              "36        19.005556            23.8924               1013.04      0.46\n",
              "37        20.044444            28.3682               1012.22      0.40\n",
              "38        21.050000            26.9031               1011.44      0.40\n",
              "39        21.183333            25.6956               1010.52      0.37\n",
              "40        20.116667            25.3092               1009.83      0.40\n",
              "41        20.216667            18.1125               1009.26      0.36\n",
              "42        20.000000            23.4255               1008.76      0.43\n",
              "43        17.800000            20.0445               1008.36      0.50\n",
              "44        16.061111            21.3969               1008.11      0.53\n",
              "45        15.022222            21.3808               1008.15      0.55\n",
              "46        14.422222            20.0123               1007.85      0.58\n",
              "47        14.255556            16.5025               1007.89      0.59\n",
              "48        13.772222            17.0982               1007.36      0.60\n",
              "49        13.283333            14.3612               1007.26      0.63"
            ]
          },
          "metadata": {
            "tags": []
          },
          "execution_count": 2
        }
      ]
    },
    {
      "cell_type": "code",
      "metadata": {
        "id": "r0-HkhHmo8uf",
        "outputId": "6ad62b1f-7067-43f0-bfc9-502ca4cdcfef",
        "colab": {
          "base_uri": "https://localhost:8080/",
          "height": 282
        }
      },
      "source": [
        "weather_features = ['Temperature (C)', 'Wind Speed (km/h)', 'Pressure (millibars)']# Set the variable X to be all our input columns: Temperature, Wind Speed and Pressure\n",
        "X = weather_data_m[weather_features]\n",
        "y = weather_data_m.Humidity\n",
        "\n",
        "plt.subplot(2,2,1)\n",
        "plt.scatter(X['Temperature (C)'],y)\n",
        "plt.subplot(2,2,2)\n",
        "plt.scatter(X['Wind Speed (km/h)'],y)\n",
        "plt.subplot(2,2,3)\n",
        "plt.scatter(X['Pressure (millibars)'],y)"
      ],
      "execution_count": 4,
      "outputs": [
        {
          "output_type": "execute_result",
          "data": {
            "text/plain": [
              "<matplotlib.collections.PathCollection at 0x7f6c73a15e10>"
            ]
          },
          "metadata": {
            "tags": []
          },
          "execution_count": 4
        },
        {
          "output_type": "display_data",
          "data": {
            "image/png": "[encoded data removed]",
            "text/plain": [
              "<Figure size 432x288 with 3 Axes>"
            ]
          },
          "metadata": {
            "tags": [],
            "needs_background": "light"
          }
        }
      ]
    },
    {
      "cell_type": "markdown",
      "metadata": {
        "id": "B6AGQ23FpOc-"
      },
      "source": [
        "Humidity against Pressure forms no linear relationship"
      ]
    },
    {
      "cell_type": "code",
      "metadata": {
        "id": "Hpapo99SpFOk"
      },
      "source": [
        "X = X.drop(\"Pressure (millibars)\", 1)"
      ],
      "execution_count": 5,
      "outputs": []
    },
    {
      "cell_type": "code",
      "metadata": {
        "id": "q3EZXIhhpNHs",
        "outputId": "09454573-3f54-4e9e-b67f-8922c408b0bb",
        "colab": {
          "base_uri": "https://localhost:8080/",
          "height": 265
        }
      },
      "source": [
        "# Import library to produce a 3D plot\n",
        "from mpl_toolkits.mplot3d import Axes3D\n",
        "\n",
        "fig = plt.figure()\n",
        "ax = fig.add_subplot(111, projection='3d')\n",
        "\n",
        "x1 = X[\"Temperature (C)\"]\n",
        "x2 = X[\"Wind Speed (km/h)\"]\n",
        "\n",
        "ax.scatter(x1, x2, y, c='r', marker='o')\n",
        "\n",
        "# Set axis labels\n",
        "ax.set_xlabel('Temperature (C)')\n",
        "ax.set_ylabel('Wind Speed (km/h)')\n",
        "ax.set_zlabel('Humidity')"
      ],
      "execution_count": 6,
      "outputs": [
        {
          "output_type": "execute_result",
          "data": {
            "text/plain": [
              "Text(0.5, 0, 'Humidity')"
            ]
          },
          "metadata": {
            "tags": []
          },
          "execution_count": 6
        },
        {
          "output_type": "display_data",
          "data": {
            "image/png": "[encoded data removed]",
            "text/plain": [
              "<Figure size 432x288 with 1 Axes>"
            ]
          },
          "metadata": {
            "tags": [],
            "needs_background": "light"
          }
        }
      ]
    },
    {
      "cell_type": "code",
      "metadata": {
        "id": "CJthw8c_pYLB",
        "outputId": "0c41cd9d-c2c3-4f9c-bbb0-c84679edc2aa",
        "colab": {
          "base_uri": "https://localhost:8080/",
          "height": 54
        }
      },
      "source": [
        "from sklearn.linear_model import LinearRegression\n",
        "\n",
        "# Define the variable mlr_model as our linear regression model\n",
        "mlr_model = LinearRegression()\n",
        "mlr_model.fit(X, y)"
      ],
      "execution_count": 7,
      "outputs": [
        {
          "output_type": "execute_result",
          "data": {
            "text/plain": [
              "LinearRegression(copy_X=True, fit_intercept=True, n_jobs=None, normalize=False)"
            ]
          },
          "metadata": {
            "tags": []
          },
          "execution_count": 7
        }
      ]
    },
    {
      "cell_type": "code",
      "metadata": {
        "id": "TLSb8aLEpaej",
        "outputId": "27cb4f39-6be5-4319-c7e6-94fa8a819513",
        "colab": {
          "base_uri": "https://localhost:8080/",
          "height": 34
        }
      },
      "source": [
        "theta0 = mlr_model.intercept_\n",
        "theta1, theta2 = mlr_model.coef_\n",
        "\n",
        "theta0, theta1, theta2"
      ],
      "execution_count": 8,
      "outputs": [
        {
          "output_type": "execute_result",
          "data": {
            "text/plain": [
              "(1.14317510256456, -0.030959021991455626, -0.004360791356216881)"
            ]
          },
          "metadata": {
            "tags": []
          },
          "execution_count": 8
        }
      ]
    },
    {
      "cell_type": "markdown",
      "metadata": {
        "id": "Ir0EANnZpfvR"
      },
      "source": [
        "ŷ = 1.14–0.031𝑥¹- 0.004𝑥²"
      ]
    },
    {
      "cell_type": "code",
      "metadata": {
        "id": "VtioflecpdRL",
        "outputId": "64777864-40ef-4708-84fb-2cb0ccfe9227",
        "colab": {
          "base_uri": "https://localhost:8080/",
          "height": 34
        }
      },
      "source": [
        "y_pred = mlr_model.predict([[15, 21]])\n",
        "y_pred"
      ],
      "execution_count": 9,
      "outputs": [
        {
          "output_type": "execute_result",
          "data": {
            "text/plain": [
              "array([0.58721315])"
            ]
          },
          "metadata": {
            "tags": []
          },
          "execution_count": 9
        }
      ]
    }
  ]
}