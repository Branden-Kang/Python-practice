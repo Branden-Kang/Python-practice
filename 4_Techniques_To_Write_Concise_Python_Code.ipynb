{
  "nbformat": 4,
  "nbformat_minor": 0,
  "metadata": {
    "colab": {
      "name": "4 Techniques To Write Concise Python Code.ipynb",
      "provenance": [],
      "authorship_tag": "ABX9TyNJGen2KXYbBVD1wrvCmkwC"
    },
    "kernelspec": {
      "name": "python3",
      "display_name": "Python 3"
    }
  },
  "cells": [
    {
      "cell_type": "markdown",
      "metadata": {
        "id": "vgEZt7ECv0Ur"
      },
      "source": [
        "[Reference](https://betterprogramming.pub/apply-these-4-techniques-to-write-concise-python-code-9298458fbb2e)"
      ]
    },
    {
      "cell_type": "markdown",
      "metadata": {
        "id": "ulYkD4PQwAp3"
      },
      "source": [
        "# enumerate in for Loop"
      ]
    },
    {
      "cell_type": "code",
      "metadata": {
        "colab": {
          "base_uri": "https://localhost:8080/"
        },
        "id": "B1fGTOrBvPHK",
        "outputId": "d0e049f5-c6ce-48e4-9e30-5bdec9ac57fd"
      },
      "source": [
        "# A list of guests\n",
        "arrived_guests = [\"John\", \"Ashley\", \"Danny\", \"Bobby\"]\n",
        "\n",
        "for guest in arrived_guests:\n",
        "    arrived_order = arrived_guests.index(guest) + 1\n",
        "    print(f\"# {arrived_order}: {guest}\")\n",
        "    \n",
        "for guest_i in range(len(arrived_guests)):\n",
        "    guest = arrived_guests[guest_i]\n",
        "    print(f\"# {guest_i + 1}: {guest}\")"
      ],
      "execution_count": 1,
      "outputs": [
        {
          "output_type": "stream",
          "text": [
            "# 1: John\n",
            "# 2: Ashley\n",
            "# 3: Danny\n",
            "# 4: Bobby\n",
            "# 1: John\n",
            "# 2: Ashley\n",
            "# 3: Danny\n",
            "# 4: Bobby\n"
          ],
          "name": "stdout"
        }
      ]
    },
    {
      "cell_type": "code",
      "metadata": {
        "colab": {
          "base_uri": "https://localhost:8080/"
        },
        "id": "ZkUeYy_bwIoa",
        "outputId": "17376489-d123-4fa4-e9d5-af382bfe3f17"
      },
      "source": [
        "for guest_i, guest in enumerate(arrived_guests, 1):\n",
        "    print(f\"# {guest_i}: {guest}\")"
      ],
      "execution_count": 2,
      "outputs": [
        {
          "output_type": "stream",
          "text": [
            "# 1: John\n",
            "# 2: Ashley\n",
            "# 3: Danny\n",
            "# 4: Bobby\n"
          ],
          "name": "stdout"
        }
      ]
    },
    {
      "cell_type": "markdown",
      "metadata": {
        "id": "1FZrxOoXw3Ia"
      },
      "source": [
        "# Check Container Emptiness"
      ]
    },
    {
      "cell_type": "code",
      "metadata": {
        "colab": {
          "base_uri": "https://localhost:8080/"
        },
        "id": "u7XUFzpqwr4D",
        "outputId": "5f59d3bc-fa72-4d37-df03-4f75d9019b06"
      },
      "source": [
        "# A list that we fetched from a server\n",
        "fetched_data = []\n",
        "if len(fetched_data) > 0:\n",
        "    print(\"We fetched some data.\")\n",
        "else:\n",
        "    print(\"We didn't fetch any data.\")\n",
        "    \n",
        "if fetched_data != []:\n",
        "    print(\"We fetched some data\")\n",
        "else:\n",
        "    print(\"We didn't fetch any data\")"
      ],
      "execution_count": 3,
      "outputs": [
        {
          "output_type": "stream",
          "text": [
            "We didn't fetch any data.\n",
            "We didn't fetch any data\n"
          ],
          "name": "stdout"
        }
      ]
    },
    {
      "cell_type": "code",
      "metadata": {
        "colab": {
          "base_uri": "https://localhost:8080/"
        },
        "id": "nsLMShwcw9A6",
        "outputId": "12b7da80-d7c7-41ff-f6dd-d49ae1321b49"
      },
      "source": [
        "if fetched_data:\n",
        "    print(\"We fetched some data\")\n",
        "else:\n",
        "    print(\"We didn't fetch any data\")"
      ],
      "execution_count": 4,
      "outputs": [
        {
          "output_type": "stream",
          "text": [
            "We didn't fetch any data\n"
          ],
          "name": "stdout"
        }
      ]
    },
    {
      "cell_type": "markdown",
      "metadata": {
        "id": "j6_LO5Q3xL0T"
      },
      "source": [
        "# Use Named Tuples"
      ]
    },
    {
      "cell_type": "code",
      "metadata": {
        "id": "c5pcD7FRw-dR"
      },
      "source": [
        "# Use dictionaries\n",
        "client0 = {\"name\": \"John\", \"age\": 37, \"gender\": \"M\"}\n",
        "client1 = {\"name\": \"Danny\", \"age\": 41, \"gender\": \"M\"}\n",
        "client2 = {\"name\": \"Jennifer\", \"age\": 34, \"gender\": \"F\"}\n",
        "\n",
        "\n",
        "# Use a custom class\n",
        "class Client:\n",
        "    def __init__(self, name, age, gender):\n",
        "        self.name = name\n",
        "        self.age = age\n",
        "        self.gender = gender\n",
        "         \n",
        "client0 = Client(\"John\", 37, \"M\")\n",
        "client1 = Client(\"Danny\", 41, \"M\")\n",
        "client2 = Client(\"Jennifer\", 34, \"F\")"
      ],
      "execution_count": 5,
      "outputs": []
    },
    {
      "cell_type": "code",
      "metadata": {
        "colab": {
          "base_uri": "https://localhost:8080/"
        },
        "id": "WOcel32UymkN",
        "outputId": "3bc97652-528b-4cae-cb05-2c050f583393"
      },
      "source": [
        "client0"
      ],
      "execution_count": 9,
      "outputs": [
        {
          "output_type": "execute_result",
          "data": {
            "text/plain": [
              "Client(name='John', age=37, gender='M')"
            ]
          },
          "metadata": {
            "tags": []
          },
          "execution_count": 9
        }
      ]
    },
    {
      "cell_type": "code",
      "metadata": {
        "colab": {
          "base_uri": "https://localhost:8080/"
        },
        "id": "90ki7OzCynmN",
        "outputId": "7e98965e-8224-4636-f9ab-69625b81b69a"
      },
      "source": [
        "client1"
      ],
      "execution_count": 10,
      "outputs": [
        {
          "output_type": "execute_result",
          "data": {
            "text/plain": [
              "Client(name='Danny', age=41, gender='M')"
            ]
          },
          "metadata": {
            "tags": []
          },
          "execution_count": 10
        }
      ]
    },
    {
      "cell_type": "code",
      "metadata": {
        "id": "Cu0VYcEyxk1i"
      },
      "source": [
        "from collections import namedtuple\n",
        "\n",
        "Client = namedtuple(\"Client\", \"name age gender\")\n",
        "client0 = Client(\"John\", 37, \"M\")\n",
        "client1 = Client(\"Danny\", 41, \"M\")\n",
        "client2 = Client(\"Jennifer\", 34, \"F\")"
      ],
      "execution_count": 6,
      "outputs": []
    },
    {
      "cell_type": "code",
      "metadata": {
        "colab": {
          "base_uri": "https://localhost:8080/"
        },
        "id": "JWP1OMNFypCl",
        "outputId": "e235d737-c6af-47b8-a7f1-0f21a57f5eff"
      },
      "source": [
        "client0"
      ],
      "execution_count": 11,
      "outputs": [
        {
          "output_type": "execute_result",
          "data": {
            "text/plain": [
              "Client(name='John', age=37, gender='M')"
            ]
          },
          "metadata": {
            "tags": []
          },
          "execution_count": 11
        }
      ]
    },
    {
      "cell_type": "code",
      "metadata": {
        "colab": {
          "base_uri": "https://localhost:8080/"
        },
        "id": "VHqW7L4eypqu",
        "outputId": "9d5e2502-53b2-4878-8695-716e432d645b"
      },
      "source": [
        "client1"
      ],
      "execution_count": 13,
      "outputs": [
        {
          "output_type": "execute_result",
          "data": {
            "text/plain": [
              "Client(name='Danny', age=41, gender='M')"
            ]
          },
          "metadata": {
            "tags": []
          },
          "execution_count": 13
        }
      ]
    },
    {
      "cell_type": "code",
      "metadata": {
        "colab": {
          "base_uri": "https://localhost:8080/"
        },
        "id": "01f1dMzryf5E",
        "outputId": "047e4313-1dff-434b-9af1-016d82e0f32e"
      },
      "source": [
        "type(Client)"
      ],
      "execution_count": 7,
      "outputs": [
        {
          "output_type": "execute_result",
          "data": {
            "text/plain": [
              "type"
            ]
          },
          "metadata": {
            "tags": []
          },
          "execution_count": 7
        }
      ]
    },
    {
      "cell_type": "code",
      "metadata": {
        "colab": {
          "base_uri": "https://localhost:8080/"
        },
        "id": "eKcPYpZLyiT0",
        "outputId": "aef28add-4de3-4dcf-d64a-6a8188c6cc12"
      },
      "source": [
        "issubclass(Client, tuple)"
      ],
      "execution_count": 8,
      "outputs": [
        {
          "output_type": "execute_result",
          "data": {
            "text/plain": [
              "True"
            ]
          },
          "metadata": {
            "tags": []
          },
          "execution_count": 8
        }
      ]
    },
    {
      "cell_type": "code",
      "metadata": {
        "colab": {
          "base_uri": "https://localhost:8080/",
          "height": 37
        },
        "id": "Cj5PjAztyksM",
        "outputId": "4ac2bb89-0902-42f7-f16f-afdd3c0cf18f"
      },
      "source": [
        "client0.name"
      ],
      "execution_count": 14,
      "outputs": [
        {
          "output_type": "execute_result",
          "data": {
            "application/vnd.google.colaboratory.intrinsic+json": {
              "type": "string"
            },
            "text/plain": [
              "'John'"
            ]
          },
          "metadata": {
            "tags": []
          },
          "execution_count": 14
        }
      ]
    },
    {
      "cell_type": "code",
      "metadata": {
        "colab": {
          "base_uri": "https://localhost:8080/"
        },
        "id": "8H5JrzAFyywu",
        "outputId": "97fbc926-7341-4152-a916-2a5ae126a372"
      },
      "source": [
        "client0.age"
      ],
      "execution_count": 15,
      "outputs": [
        {
          "output_type": "execute_result",
          "data": {
            "text/plain": [
              "37"
            ]
          },
          "metadata": {
            "tags": []
          },
          "execution_count": 15
        }
      ]
    },
    {
      "cell_type": "code",
      "metadata": {
        "colab": {
          "base_uri": "https://localhost:8080/",
          "height": 37
        },
        "id": "8lZ2gQTOyzqt",
        "outputId": "16de8323-02ea-489e-8b2a-90f3ecc0f1f3"
      },
      "source": [
        "client0.gender"
      ],
      "execution_count": 16,
      "outputs": [
        {
          "output_type": "execute_result",
          "data": {
            "application/vnd.google.colaboratory.intrinsic+json": {
              "type": "string"
            },
            "text/plain": [
              "'M'"
            ]
          },
          "metadata": {
            "tags": []
          },
          "execution_count": 16
        }
      ]
    },
    {
      "cell_type": "markdown",
      "metadata": {
        "id": "N9w72cgmy2Ms"
      },
      "source": [
        "# Use Partial Functions"
      ]
    },
    {
      "cell_type": "code",
      "metadata": {
        "colab": {
          "base_uri": "https://localhost:8080/"
        },
        "id": "_c807aSRy0e6",
        "outputId": "acbda6a1-65e0-4abe-f705-2fff45d1a5e1"
      },
      "source": [
        "# A generic utility function\n",
        "def save_image_to_directory(image_data, file_name, desired_directory):\n",
        "    print(f\"{image_data}, {file_name}, {desired_directory}\")\n",
        "\n",
        "# Event 0\n",
        "save_image_to_directory(\"image_data0_101\", \"event0_101.png\", \"folder_for_event0\")\n",
        "save_image_to_directory(\"image_data0_102\", \"event0_102.png\", \"folder_for_event0\")\n",
        "# Many more invocations here and there\n",
        "\n",
        "# Event 1\n",
        "save_image_to_directory(\"image_data1_101\", \"event1_101.png\", \"folder_for_event1\")\n",
        "save_image_to_directory(\"image_data1_102\", \"event1_102.png\", \"folder_for_event1\")"
      ],
      "execution_count": 17,
      "outputs": [
        {
          "output_type": "stream",
          "text": [
            "image_data0_101, event0_101.png, folder_for_event0\n",
            "image_data0_102, event0_102.png, folder_for_event0\n",
            "image_data1_101, event1_101.png, folder_for_event1\n",
            "image_data1_102, event1_102.png, folder_for_event1\n"
          ],
          "name": "stdout"
        }
      ]
    },
    {
      "cell_type": "code",
      "metadata": {
        "colab": {
          "base_uri": "https://localhost:8080/"
        },
        "id": "laWK6uVpzDW7",
        "outputId": "2e197a6b-7108-4b13-8d89-b264d3b69362"
      },
      "source": [
        "from functools import partial\n",
        "\n",
        "# Event 0\n",
        "save_image_for_event0 = partial(save_image_to_directory, desired_directory='folder_for_event0')\n",
        "save_image_for_event0(\"image_data0_101\", \"event0_101.png\")\n",
        "save_image_for_event0(\"image_data0_102\", \"event0_102.png\")\n",
        "\n",
        "# Event 1\n",
        "save_image_for_event1 = partial(save_image_to_directory, desired_directory='folder_for_event1')\n",
        "save_image_for_event1(\"image_data1_101\", \"event1_101.png\")\n",
        "save_image_for_event1(\"image_data1_102\", \"event1_102.png\")"
      ],
      "execution_count": 18,
      "outputs": [
        {
          "output_type": "stream",
          "text": [
            "image_data0_101, event0_101.png, folder_for_event0\n",
            "image_data0_102, event0_102.png, folder_for_event0\n",
            "image_data1_101, event1_101.png, folder_for_event1\n",
            "image_data1_102, event1_102.png, folder_for_event1\n"
          ],
          "name": "stdout"
        }
      ]
    },
    {
      "cell_type": "code",
      "metadata": {
        "colab": {
          "base_uri": "https://localhost:8080/"
        },
        "id": "UQ55bWg9zKug",
        "outputId": "c79dea8f-a1db-4f4a-f443-4bccb6545c24"
      },
      "source": [
        "save_image_for_event2 = lambda x, y: save_image_to_directory(x, y, desired_directory='folder_for_event2')\n",
        "save_image_for_event2(\"image_data2_101\", \"event2_101.png\")"
      ],
      "execution_count": 19,
      "outputs": [
        {
          "output_type": "stream",
          "text": [
            "image_data2_101, event2_101.png, folder_for_event2\n"
          ],
          "name": "stdout"
        }
      ]
    },
    {
      "cell_type": "code",
      "metadata": {
        "colab": {
          "base_uri": "https://localhost:8080/"
        },
        "id": "kBod2RtOzRLi",
        "outputId": "e425fe9c-de22-4a36-db50-9e700bb372be"
      },
      "source": [
        "save_image_for_event1"
      ],
      "execution_count": 20,
      "outputs": [
        {
          "output_type": "execute_result",
          "data": {
            "text/plain": [
              "functools.partial(<function save_image_to_directory at 0x7fc3be502320>, desired_directory='folder_for_event1')"
            ]
          },
          "metadata": {
            "tags": []
          },
          "execution_count": 20
        }
      ]
    },
    {
      "cell_type": "code",
      "metadata": {
        "colab": {
          "base_uri": "https://localhost:8080/"
        },
        "id": "AAzNObtBzTEY",
        "outputId": "45ad6bd6-7acd-4be1-eb42-886bb5c1ea48"
      },
      "source": [
        "save_image_for_event2"
      ],
      "execution_count": 21,
      "outputs": [
        {
          "output_type": "execute_result",
          "data": {
            "text/plain": [
              "<function __main__.<lambda>>"
            ]
          },
          "metadata": {
            "tags": []
          },
          "execution_count": 21
        }
      ]
    }
  ]
}