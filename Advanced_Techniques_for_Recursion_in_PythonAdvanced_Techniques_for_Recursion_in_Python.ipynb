{
  "nbformat": 4,
  "nbformat_minor": 0,
  "metadata": {
    "colab": {
      "provenance": [],
      "authorship_tag": "ABX9TyM0Uy3a6IJKqRO2KCxRCslt"
    },
    "kernelspec": {
      "name": "python3",
      "display_name": "Python 3"
    },
    "language_info": {
      "name": "python"
    }
  },
  "cells": [
    {
      "cell_type": "markdown",
      "source": [
        "[Reference](https://python.plainenglish.io/advanced-techniques-for-recursion-in-python-35cac1dcc004)"
      ],
      "metadata": {
        "id": "viq5jhl5ABcj"
      }
    },
    {
      "cell_type": "markdown",
      "source": [
        "# What is Recursion?"
      ],
      "metadata": {
        "id": "tG-LHGMLBYGJ"
      }
    },
    {
      "cell_type": "code",
      "execution_count": 1,
      "metadata": {
        "colab": {
          "base_uri": "https://localhost:8080/"
        },
        "id": "kTWuuvpJ_5Jj",
        "outputId": "b4834f25-a8a9-418f-c80c-0cfadd918393"
      },
      "outputs": [
        {
          "output_type": "stream",
          "name": "stdout",
          "text": [
            "120\n"
          ]
        }
      ],
      "source": [
        "def factorial(n):\n",
        "    if n == 0:  # Base case\n",
        "        return 1\n",
        "    else:\n",
        "        return n * factorial(n - 1)  # Recursive case\n",
        "\n",
        "print(factorial(5))  # Output: 120"
      ]
    },
    {
      "cell_type": "markdown",
      "source": [
        "# Implementing Fibonacci Recursively"
      ],
      "metadata": {
        "id": "ex7KhAL4BbZB"
      }
    },
    {
      "cell_type": "code",
      "source": [
        "def fibonacci(n):\n",
        "    if n == 0:  # Base case\n",
        "        return 0\n",
        "    elif n == 1:  # Base case\n",
        "        return 1\n",
        "    else:\n",
        "        return fibonacci(n - 1) + fibonacci(n - 2)  # Recursive case\n",
        "\n",
        "# Test the function\n",
        "for i in range(10):\n",
        "    print(fibonacci(i), end=\" \")"
      ],
      "metadata": {
        "colab": {
          "base_uri": "https://localhost:8080/"
        },
        "id": "uaDmZr7-ALoU",
        "outputId": "d409f640-674a-4e61-ffe7-c1e3930b28b1"
      },
      "execution_count": 2,
      "outputs": [
        {
          "output_type": "stream",
          "name": "stdout",
          "text": [
            "0 1 1 2 3 5 8 13 21 34 "
          ]
        }
      ]
    },
    {
      "cell_type": "markdown",
      "source": [
        "# Optimizing Fibonacci with Memoization"
      ],
      "metadata": {
        "id": "szd--WKjBoEJ"
      }
    },
    {
      "cell_type": "code",
      "source": [
        "# Using a dictionary to store computed values\n",
        "def fibonacci_memoized(n, memo={}):\n",
        "    if n in memo:\n",
        "        return memo[n]\n",
        "    if n == 0:  # Base case\n",
        "        return 0\n",
        "    elif n == 1:  # Base case\n",
        "        return 1\n",
        "    else:\n",
        "        memo[n] = fibonacci_memoized(n - 1, memo) + fibonacci_memoized(n - 2, memo)\n",
        "        return memo[n]\n",
        "\n",
        "# Test the function\n",
        "for i in range(10):\n",
        "    print(fibonacci_memoized(i), end=\" \")"
      ],
      "metadata": {
        "colab": {
          "base_uri": "https://localhost:8080/"
        },
        "id": "bw_F2gcDBmau",
        "outputId": "a470fc8d-0ac5-47ab-f717-ce203328c6eb"
      },
      "execution_count": 3,
      "outputs": [
        {
          "output_type": "stream",
          "name": "stdout",
          "text": [
            "0 1 1 2 3 5 8 13 21 34 "
          ]
        }
      ]
    },
    {
      "cell_type": "markdown",
      "source": [
        "# Optimizing Fibonacci with @lru_cache"
      ],
      "metadata": {
        "id": "z3S9PAMeB7gP"
      }
    },
    {
      "cell_type": "code",
      "source": [
        "from functools import lru_cache\n",
        "\n",
        "@lru_cache(maxsize=None)  # No limit on cache size\n",
        "def fibonacci_lru(n):\n",
        "    if n == 0:  # Base case\n",
        "        return 0\n",
        "    elif n == 1:  # Base case\n",
        "        return 1\n",
        "    else:\n",
        "        return fibonacci_lru(n - 1) + fibonacci_lru(n - 2)  # Recursive case\n",
        "\n",
        "# Test the function\n",
        "for i in range(10):\n",
        "    print(fibonacci_lru(i), end=\" \")"
      ],
      "metadata": {
        "colab": {
          "base_uri": "https://localhost:8080/"
        },
        "id": "gi4qiRUBB4gY",
        "outputId": "c304cb20-f2b4-4e76-b5dc-375806ae1fd0"
      },
      "execution_count": 4,
      "outputs": [
        {
          "output_type": "stream",
          "name": "stdout",
          "text": [
            "0 1 1 2 3 5 8 13 21 34 "
          ]
        }
      ]
    },
    {
      "cell_type": "markdown",
      "source": [
        "# Another Common Use of Recursion in Python: Tree Traversals"
      ],
      "metadata": {
        "id": "hThD3pN9CB13"
      }
    },
    {
      "cell_type": "code",
      "source": [
        "class Node:\n",
        "    def __init__(self, value):\n",
        "        self.value = value\n",
        "        self.left = None\n",
        "        self.right = None\n",
        "\n",
        "def inorder_traversal(node):\n",
        "    if node is not None:\n",
        "        inorder_traversal(node.left)  # Visit left subtree\n",
        "        print(node.value, end=\" \")  # Visit node\n",
        "        inorder_traversal(node.right)  # Visit right subtree\n",
        "\n",
        "\n",
        "# Create a sample tree\n",
        "root = Node(1)\n",
        "root.left = Node(2)\n",
        "root.right = Node(3)\n",
        "root.left.left = Node(4)\n",
        "root.left.right = Node(5)\n",
        "\n",
        "# Perform inorder traversal\n",
        "inorder_traversal(root)"
      ],
      "metadata": {
        "colab": {
          "base_uri": "https://localhost:8080/"
        },
        "id": "ToH4rgFSB_i_",
        "outputId": "552a330b-2c8c-4510-89f7-7ca03bb32e5e"
      },
      "execution_count": 5,
      "outputs": [
        {
          "output_type": "stream",
          "name": "stdout",
          "text": [
            "4 2 5 1 3 "
          ]
        }
      ]
    }
  ]
}