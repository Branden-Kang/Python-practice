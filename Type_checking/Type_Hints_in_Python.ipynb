{
  "nbformat": 4,
  "nbformat_minor": 0,
  "metadata": {
    "colab": {
      "name": "Type Hints in Python.ipynb",
      "provenance": [],
      "authorship_tag": "ABX9TyOX6wntG7gtix9UVgMM8Cem"
    },
    "kernelspec": {
      "name": "python3",
      "display_name": "Python 3"
    },
    "language_info": {
      "name": "python"
    }
  },
  "cells": [
    {
      "cell_type": "markdown",
      "metadata": {
        "id": "lVWKtlKWXsqT"
      },
      "source": [
        "[Reference](https://jrwaine.medium.com/type-hints-in-python-why-and-how-2d15d9f91c8e)"
      ]
    },
    {
      "cell_type": "code",
      "metadata": {
        "id": "iAaVTTuXXndz"
      },
      "source": [
        "from typing import List\n",
        "\n",
        "def should_use(annotations: List[str]) -> bool:\n",
        "    print(\"They're awesome!\")\n",
        "    return True"
      ],
      "execution_count": 1,
      "outputs": []
    },
    {
      "cell_type": "code",
      "metadata": {
        "id": "ySeHPTxiX4rV"
      },
      "source": [
        "def add(x, y):\n",
        "  return x+y\n",
        "\n",
        "n_sum = add(10, 20)       # n_sum = 30\n",
        "str_sum = add(\"10\", \"20\") # str_sum = \"1020\""
      ],
      "execution_count": 2,
      "outputs": []
    },
    {
      "cell_type": "code",
      "metadata": {
        "id": "NbaNriK5X7ew"
      },
      "source": [
        "from typing import List\n",
        "\n",
        "list_numbers: List[int] = [1, 2, 3, 42]\n",
        "my_str: str = \"my string\""
      ],
      "execution_count": 3,
      "outputs": []
    },
    {
      "cell_type": "code",
      "metadata": {
        "id": "d_Y5QVJ8YNGI"
      },
      "source": [
        "# These lines won't raise an error, despite the wrong annotation/assignment\n",
        "my_str: str = 1\n",
        "my_number: int = \"my_number\""
      ],
      "execution_count": 4,
      "outputs": []
    },
    {
      "cell_type": "code",
      "metadata": {
        "colab": {
          "base_uri": "https://localhost:8080/",
          "height": 249
        },
        "id": "vM9vWujiYPTS",
        "outputId": "984b875f-9867-4029-9c62-6d75396e46c6"
      },
      "source": [
        "from typing import List, Union, Optional\n",
        "\n",
        "# Function that sums two strings or two int and return an int or a string\n",
        "# (it will not give a static error if you pass x as int and y as str, but will give a runtime error)\n",
        "def sum(x: Union[int, str], y: Union[int, str]) -> Union[int, str]:\n",
        "  return x+y\n",
        "\n",
        "class Pet():\n",
        "  def __init__(self, name: str, age: int):\n",
        "    self.name = name\n",
        "    self.age = age\n",
        "  \n",
        "  # Optional[str] meand that a variable can None or a str. Same for Optional[int] \n",
        "  def update_pet(self, name: Optional[str], age: Optional[int]):\n",
        "    '''Updates pet name and age'''\n",
        "    if(name is not None):\n",
        "      self.name = name\n",
        "    if(age is not None):\n",
        "      self.age = age\n",
        "    \n",
        "# List of pets  \n",
        "my_pets: List[Pet] = [Pet(\"Pluto\", 10), Pet(\"Miley\", 4), Pet(\"Jack\", 7)] \n",
        "# Update Pluto age\n",
        "my_pets[0].update_pet(age=sum(10, 1))"
      ],
      "execution_count": 5,
      "outputs": [
        {
          "output_type": "error",
          "ename": "TypeError",
          "evalue": "ignored",
          "traceback": [
            "\u001b[0;31m---------------------------------------------------------------------------\u001b[0m",
            "\u001b[0;31mTypeError\u001b[0m                                 Traceback (most recent call last)",
            "\u001b[0;32m<ipython-input-5-3b4dbe6e3b76>\u001b[0m in \u001b[0;36m<module>\u001b[0;34m()\u001b[0m\n\u001b[1;32m     22\u001b[0m \u001b[0mmy_pets\u001b[0m\u001b[0;34m:\u001b[0m \u001b[0mList\u001b[0m\u001b[0;34m[\u001b[0m\u001b[0mPet\u001b[0m\u001b[0;34m]\u001b[0m \u001b[0;34m=\u001b[0m \u001b[0;34m[\u001b[0m\u001b[0mPet\u001b[0m\u001b[0;34m(\u001b[0m\u001b[0;34m\"Pluto\"\u001b[0m\u001b[0;34m,\u001b[0m \u001b[0;36m10\u001b[0m\u001b[0;34m)\u001b[0m\u001b[0;34m,\u001b[0m \u001b[0mPet\u001b[0m\u001b[0;34m(\u001b[0m\u001b[0;34m\"Miley\"\u001b[0m\u001b[0;34m,\u001b[0m \u001b[0;36m4\u001b[0m\u001b[0;34m)\u001b[0m\u001b[0;34m,\u001b[0m \u001b[0mPet\u001b[0m\u001b[0;34m(\u001b[0m\u001b[0;34m\"Jack\"\u001b[0m\u001b[0;34m,\u001b[0m \u001b[0;36m7\u001b[0m\u001b[0;34m)\u001b[0m\u001b[0;34m]\u001b[0m\u001b[0;34m\u001b[0m\u001b[0;34m\u001b[0m\u001b[0m\n\u001b[1;32m     23\u001b[0m \u001b[0;31m# Update Pluto age\u001b[0m\u001b[0;34m\u001b[0m\u001b[0;34m\u001b[0m\u001b[0;34m\u001b[0m\u001b[0m\n\u001b[0;32m---> 24\u001b[0;31m \u001b[0mmy_pets\u001b[0m\u001b[0;34m[\u001b[0m\u001b[0;36m0\u001b[0m\u001b[0;34m]\u001b[0m\u001b[0;34m.\u001b[0m\u001b[0mupdate_pet\u001b[0m\u001b[0;34m(\u001b[0m\u001b[0mage\u001b[0m\u001b[0;34m=\u001b[0m\u001b[0msum\u001b[0m\u001b[0;34m(\u001b[0m\u001b[0;36m10\u001b[0m\u001b[0;34m,\u001b[0m \u001b[0;36m1\u001b[0m\u001b[0;34m)\u001b[0m\u001b[0;34m)\u001b[0m\u001b[0;34m\u001b[0m\u001b[0;34m\u001b[0m\u001b[0m\n\u001b[0m",
            "\u001b[0;31mTypeError\u001b[0m: update_pet() missing 1 required positional argument: 'name'"
          ]
        }
      ]
    }
  ]
}