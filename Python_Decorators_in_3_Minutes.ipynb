{
  "nbformat": 4,
  "nbformat_minor": 0,
  "metadata": {
    "colab": {
      "provenance": [],
      "authorship_tag": "ABX9TyMQnJAh+mbuUUTTtGN3Pdz/"
    },
    "kernelspec": {
      "name": "python3",
      "display_name": "Python 3"
    },
    "language_info": {
      "name": "python"
    }
  },
  "cells": [
    {
      "cell_type": "markdown",
      "source": [
        "[Reference](https://medium.com/codex/python-decorators-in-3-minutes-b62ee7c43d8b)"
      ],
      "metadata": {
        "id": "-m8ITJmTRMNK"
      }
    },
    {
      "cell_type": "markdown",
      "source": [
        "# Function Decorators"
      ],
      "metadata": {
        "id": "wnflohItRPwN"
      }
    },
    {
      "cell_type": "code",
      "execution_count": 1,
      "metadata": {
        "colab": {
          "base_uri": "https://localhost:8080/"
        },
        "id": "duxoS0NcRKcP",
        "outputId": "2ba5e5c8-c71e-4323-ddb2-c9e8361a171b"
      },
      "outputs": [
        {
          "output_type": "stream",
          "name": "stdout",
          "text": [
            "HELLO THERE\n",
            "HELLO THERE\n"
          ]
        }
      ],
      "source": [
        "def uppercase_decorator(function):\n",
        "    def wrapper():\n",
        "        func = function()\n",
        "        make_uppercase = func.upper()\n",
        "        return make_uppercase\n",
        "\n",
        "    return wrapper\n",
        "\n",
        "def say_hi():\n",
        "    return 'hello there'\n",
        "\n",
        "say_hi = uppercase_decorator(say_hi)\n",
        "print(say_hi())\n",
        "\n",
        "# Following is an alternate way of writing it which does the same thing\n",
        "# by just putting the @ symbol with the name of the decorator\n",
        "# (metafunction) on line before the function\n",
        "@uppercase_decorator\n",
        "def say_hi():\n",
        "    return 'hello there'\n",
        "\n",
        "print(say_hi())"
      ]
    },
    {
      "cell_type": "code",
      "source": [
        "from datetime import datetime\n",
        "def log_datetime(func):\n",
        "    '''Log the date and time of a function'''\n",
        "    def wrapper():\n",
        "        print(f'Function: {func.__name__}\\nRun on: {datetime.today().strftime(\"%Y-%m-%d %H:%M:%S\")}')\n",
        "        print(f'{\"-\"*30}')\n",
        "        func()\n",
        "    return wrapper\n",
        "\n",
        "@log_datetime\n",
        "def daily_backup():\n",
        "    print('Daily backup job has finished.')\n",
        "\n",
        "daily_backup()"
      ],
      "metadata": {
        "colab": {
          "base_uri": "https://localhost:8080/"
        },
        "id": "EwXQfEwaRQTV",
        "outputId": "6ef403b0-3ba9-4ae5-e83d-0edf137b3b76"
      },
      "execution_count": 2,
      "outputs": [
        {
          "output_type": "stream",
          "name": "stdout",
          "text": [
            "Function: daily_backup\n",
            "Run on: 2023-06-21 23:23:26\n",
            "------------------------------\n",
            "Daily backup job has finished.\n"
          ]
        }
      ]
    },
    {
      "cell_type": "markdown",
      "source": [
        "# Class Decorators"
      ],
      "metadata": {
        "id": "Oo6SAzMDRTkr"
      }
    },
    {
      "cell_type": "code",
      "source": [
        "def count(aClass):\n",
        "    aClass.numInstances = 0\n",
        "    print(aClass.numInstances)\n",
        "    return aClass\n",
        "\n",
        "@count\n",
        "class Spam:\n",
        "    def __init__(self):\n",
        "        print('New spam object created...')\n",
        "        Spam.numInstances = Spam.numInstances+1\n",
        "        print(Spam.numInstances)\n",
        "\n",
        "@count\n",
        "class Other:\n",
        "    pass\n",
        "\n",
        "a = Spam()\n",
        "b = Spam()\n",
        "c = Spam()\n",
        "d = Spam()\n",
        "count(Spam)\n",
        "\n",
        "aa = Other()\n",
        "bb = Other()\n",
        "count(aa)\n",
        "count(Other)"
      ],
      "metadata": {
        "colab": {
          "base_uri": "https://localhost:8080/"
        },
        "id": "a-641c-KRR9Q",
        "outputId": "3e46ef24-0b50-4d93-be8f-6c51c6329bf6"
      },
      "execution_count": 3,
      "outputs": [
        {
          "output_type": "stream",
          "name": "stdout",
          "text": [
            "0\n",
            "0\n",
            "New spam object created...\n",
            "1\n",
            "New spam object created...\n",
            "2\n",
            "New spam object created...\n",
            "3\n",
            "New spam object created...\n",
            "4\n",
            "0\n",
            "0\n",
            "0\n"
          ]
        },
        {
          "output_type": "execute_result",
          "data": {
            "text/plain": [
              "__main__.Other"
            ]
          },
          "metadata": {},
          "execution_count": 3
        }
      ]
    }
  ]
}