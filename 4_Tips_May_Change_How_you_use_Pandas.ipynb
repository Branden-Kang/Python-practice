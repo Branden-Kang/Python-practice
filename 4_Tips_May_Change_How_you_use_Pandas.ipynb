{
  "nbformat": 4,
  "nbformat_minor": 0,
  "metadata": {
    "colab": {
      "name": "4 Tips May Change How you use Pandas.ipynb",
      "provenance": [],
      "authorship_tag": "ABX9TyMfEB75ol2nmpl7GlToP1PH"
    },
    "kernelspec": {
      "name": "python3",
      "display_name": "Python 3"
    },
    "language_info": {
      "name": "python"
    }
  },
  "cells": [
    {
      "cell_type": "markdown",
      "source": [
        "[Reference](https://medium.com/@Hong_Tang/4-tips-may-change-how-you-use-pandas-314406ea1570)"
      ],
      "metadata": {
        "id": "xQoOG9JET7hR"
      }
    },
    {
      "cell_type": "markdown",
      "source": [
        "# Tip 1. Do Not use read_csv/to_csv, use read_parquet/to_parquet instead"
      ],
      "metadata": {
        "id": "BC7ZZt3rUGBd"
      }
    },
    {
      "cell_type": "code",
      "execution_count": 1,
      "metadata": {
        "id": "mvSvQN49TNdz"
      },
      "outputs": [],
      "source": [
        "# df.to_parquet('df.parquet.gzip', compression='gzip')  \n",
        "# pd.read_parquet('df.parquet.gzip')"
      ]
    },
    {
      "cell_type": "markdown",
      "source": [
        "# Tip 2. How to remove unused categories from categorical variable"
      ],
      "metadata": {
        "id": "LeoyjNTzUHNu"
      }
    },
    {
      "cell_type": "code",
      "source": [
        "import seaborn as sns\n",
        "import numpy as np\n",
        "df=sns.load_dataset('tips')"
      ],
      "metadata": {
        "id": "sqtOEOWuUFDu"
      },
      "execution_count": 3,
      "outputs": []
    },
    {
      "cell_type": "code",
      "source": [
        "df.loc[(df.day=='Fri'), 'day']=np.nan"
      ],
      "metadata": {
        "id": "3Yx0t2yzbTDb"
      },
      "execution_count": 4,
      "outputs": []
    },
    {
      "cell_type": "code",
      "source": [
        "df.day.cat.remove_unused_categories(inplace=True)"
      ],
      "metadata": {
        "colab": {
          "base_uri": "https://localhost:8080/"
        },
        "id": "WYAfidIVbWAC",
        "outputId": "cf5644a1-9cc1-4dc5-d72d-98f6d650512c"
      },
      "execution_count": 5,
      "outputs": [
        {
          "output_type": "stream",
          "name": "stderr",
          "text": [
            "/usr/local/lib/python3.7/dist-packages/pandas/core/arrays/categorical.py:2631: FutureWarning: The `inplace` parameter in pandas.Categorical.remove_unused_categories is deprecated and will be removed in a future version.\n",
            "  res = method(*args, **kwargs)\n"
          ]
        }
      ]
    },
    {
      "cell_type": "code",
      "source": [
        "df.day.value_counts() #before remove unused category\n",
        "df.day.cat.remove_unused_categories(inplace=True)\n",
        "df.day.value_counts() #after remove unused category"
      ],
      "metadata": {
        "colab": {
          "base_uri": "https://localhost:8080/"
        },
        "id": "0En-OAAQbXEV",
        "outputId": "8d1bcc9d-8182-4d69-ed96-04686b53e6dd"
      },
      "execution_count": 6,
      "outputs": [
        {
          "output_type": "stream",
          "name": "stderr",
          "text": [
            "/usr/local/lib/python3.7/dist-packages/pandas/core/arrays/categorical.py:2631: FutureWarning: The `inplace` parameter in pandas.Categorical.remove_unused_categories is deprecated and will be removed in a future version.\n",
            "  res = method(*args, **kwargs)\n"
          ]
        },
        {
          "output_type": "execute_result",
          "data": {
            "text/plain": [
              "Sat     87\n",
              "Sun     76\n",
              "Thur    62\n",
              "Name: day, dtype: int64"
            ]
          },
          "metadata": {},
          "execution_count": 6
        }
      ]
    },
    {
      "cell_type": "code",
      "source": [
        "sns.countplot(x='day', data=df)"
      ],
      "metadata": {
        "colab": {
          "base_uri": "https://localhost:8080/",
          "height": 296
        },
        "id": "C0K1BmbIbYBn",
        "outputId": "9f0133ad-6aa4-4676-e91a-ffa8f6ebd50d"
      },
      "execution_count": 7,
      "outputs": [
        {
          "output_type": "execute_result",
          "data": {
            "text/plain": [
              "<matplotlib.axes._subplots.AxesSubplot at 0x7f6672b98f90>"
            ]
          },
          "metadata": {},
          "execution_count": 7
        },
        {
          "output_type": "display_data",
          "data": {
            "text/plain": [
              "<Figure size 432x288 with 1 Axes>"
            ],
            "image/png": "[encoded data removed]"
          },
          "metadata": {
            "needs_background": "light"
          }
        }
      ]
    },
    {
      "cell_type": "markdown",
      "source": [
        "# Tip 3. How to run SQL query from notebook"
      ],
      "metadata": {
        "id": "MU7MnQOfb9Hh"
      }
    },
    {
      "cell_type": "code",
      "source": [
        "# #step 1. connect with databased by providing credentials\n",
        "# connection = pg.connect(user = user,\n",
        "#                             password = password,\n",
        "#                             host = host,\n",
        "#                             port = port,\n",
        "#                             database = database)"
      ],
      "metadata": {
        "id": "XXwUMpvMb_V0"
      },
      "execution_count": 8,
      "outputs": []
    },
    {
      "cell_type": "code",
      "source": [
        "# # step 2. write SQL query\n",
        "# query = f\"\"\"SELECT\n",
        "#  col1, col2, col3\n",
        "# FROM data_table1 t1\n",
        "# JOIN data_table2 t2\n",
        "# ON t1.time = t2.time \n",
        "# WHERE \n",
        "# t1.time >= ‘{START_DATE.strftime(\"%Y-%m-%d %H:%M:%S+00:00\")}’\n",
        "# AND t2.time < ‘{END_DATE.strftime(\"%Y-%m-%d %H:%M:%S+00:00\")}’\n",
        "# \"\"\""
      ],
      "metadata": {
        "id": "IwPT9ZNpb_rp"
      },
      "execution_count": 9,
      "outputs": []
    },
    {
      "cell_type": "code",
      "source": [
        "# # step 3, pull data from SQL and pass to a dataframe and close the connection to database\n",
        "# df = psql.read_sql('''%s''' % (query), connection)\n",
        "# connection.close()"
      ],
      "metadata": {
        "id": "1TON_jPfcQmK"
      },
      "execution_count": 10,
      "outputs": []
    },
    {
      "cell_type": "markdown",
      "source": [
        "# Tip 4. How to identify outliers in Pandas dataframe and plot them in one line code"
      ],
      "metadata": {
        "id": "VMG9uXM2cSnL"
      }
    },
    {
      "cell_type": "code",
      "source": [
        "# Friday_df=df.groupby('day').get_group('Fri')\n",
        "# num_Fri=Friday_df[['total_bill','tip']]\n",
        "# Q1 = num_Fri.quantile(0.25)\n",
        "# Q3 = num_Fri.quantile(0.75)\n",
        "# IQR = Q3 - Q1print(f'Q1 is {Q1}')\n",
        "# print(f'Q3 is {Q3}')\n",
        "# print(f'IQR is {IQR}')"
      ],
      "metadata": {
        "id": "dgFyoM2EcRwT"
      },
      "execution_count": 11,
      "outputs": []
    },
    {
      "cell_type": "code",
      "source": [
        "# ((num_Fri < (Q1–1.5 * IQR)) | (num_Fri > (Q3 + 1.5 * IQR))).sum()"
      ],
      "metadata": {
        "id": "ZQpbJNCzcWnt"
      },
      "execution_count": 12,
      "outputs": []
    }
  ]
}