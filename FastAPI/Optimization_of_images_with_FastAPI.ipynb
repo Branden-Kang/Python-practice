{
  "nbformat": 4,
  "nbformat_minor": 0,
  "metadata": {
    "colab": {
      "name": "Optimization of images with FastAPI.ipynb",
      "provenance": [],
      "authorship_tag": "ABX9TyMlBXadH+jItny2KwKzDJu6"
    },
    "kernelspec": {
      "name": "python3",
      "display_name": "Python 3"
    },
    "language_info": {
      "name": "python"
    }
  },
  "cells": [
    {
      "cell_type": "markdown",
      "metadata": {
        "id": "WzmbqaBEPQcJ"
      },
      "source": [
        "[Reference](https://nelsoncode.medium.com/optimization-of-images-with-fastapi-2a1427b57358)"
      ]
    },
    {
      "cell_type": "code",
      "metadata": {
        "colab": {
          "base_uri": "https://localhost:8080/"
        },
        "id": "5cK6PlknPL1T",
        "outputId": "512095c1-1b51-4324-d75c-863b2ea6d4ea"
      },
      "source": [
        "pip install fastapi"
      ],
      "execution_count": 7,
      "outputs": [
        {
          "output_type": "stream",
          "name": "stdout",
          "text": [
            "Collecting fastapi\n",
            "  Downloading fastapi-0.70.0-py3-none-any.whl (51 kB)\n",
            "\u001b[K     |████████████████████████████████| 51 kB 492 kB/s \n",
            "\u001b[?25hCollecting starlette==0.16.0\n",
            "  Downloading starlette-0.16.0-py3-none-any.whl (61 kB)\n",
            "\u001b[K     |████████████████████████████████| 61 kB 218 kB/s \n",
            "\u001b[?25hCollecting pydantic!=1.7,!=1.7.1,!=1.7.2,!=1.7.3,!=1.8,!=1.8.1,<2.0.0,>=1.6.2\n",
            "  Downloading pydantic-1.8.2-cp37-cp37m-manylinux2014_x86_64.whl (10.1 MB)\n",
            "\u001b[K     |████████████████████████████████| 10.1 MB 42.1 MB/s \n",
            "\u001b[?25hCollecting anyio<4,>=3.0.0\n",
            "  Downloading anyio-3.4.0-py3-none-any.whl (78 kB)\n",
            "\u001b[K     |████████████████████████████████| 78 kB 5.9 MB/s \n",
            "\u001b[?25hRequirement already satisfied: typing-extensions in /usr/local/lib/python3.7/dist-packages (from starlette==0.16.0->fastapi) (3.10.0.2)\n",
            "Collecting sniffio>=1.1\n",
            "  Downloading sniffio-1.2.0-py3-none-any.whl (10 kB)\n",
            "Requirement already satisfied: idna>=2.8 in /usr/local/lib/python3.7/dist-packages (from anyio<4,>=3.0.0->starlette==0.16.0->fastapi) (2.10)\n",
            "Installing collected packages: sniffio, anyio, starlette, pydantic, fastapi\n",
            "Successfully installed anyio-3.4.0 fastapi-0.70.0 pydantic-1.8.2 sniffio-1.2.0 starlette-0.16.0\n"
          ]
        }
      ]
    },
    {
      "cell_type": "code",
      "metadata": {
        "colab": {
          "base_uri": "https://localhost:8080/"
        },
        "id": "IAHGc0GmPWj1",
        "outputId": "f4309896-4d73-4ef6-faaa-ac74c0934436"
      },
      "source": [
        "pip install python-multipart"
      ],
      "execution_count": 9,
      "outputs": [
        {
          "output_type": "stream",
          "name": "stdout",
          "text": [
            "Collecting python-multipart\n",
            "  Downloading python-multipart-0.0.5.tar.gz (32 kB)\n",
            "Requirement already satisfied: six>=1.4.0 in /usr/local/lib/python3.7/dist-packages (from python-multipart) (1.15.0)\n",
            "Building wheels for collected packages: python-multipart\n",
            "  Building wheel for python-multipart (setup.py) ... \u001b[?25l\u001b[?25hdone\n",
            "  Created wheel for python-multipart: filename=python_multipart-0.0.5-py3-none-any.whl size=31678 sha256=26dc801427c378fb8e373c5ec326d4d93143d3c46899c90d04debd7e54049143\n",
            "  Stored in directory: /root/.cache/pip/wheels/2c/41/7c/bfd1c180534ffdcc0972f78c5758f89881602175d48a8bcd2c\n",
            "Successfully built python-multipart\n",
            "Installing collected packages: python-multipart\n",
            "Successfully installed python-multipart-0.0.5\n"
          ]
        }
      ]
    },
    {
      "cell_type": "code",
      "metadata": {
        "colab": {
          "base_uri": "https://localhost:8080/"
        },
        "id": "BRMdQWk2PZZL",
        "outputId": "dcc24012-dc3d-4f0c-bda7-e0ac899fd3dd"
      },
      "source": [
        "!pip3 install FastAPI uvicorn Pillow"
      ],
      "execution_count": 12,
      "outputs": [
        {
          "output_type": "stream",
          "name": "stdout",
          "text": [
            "Requirement already satisfied: FastAPI in /usr/local/lib/python3.7/dist-packages (0.70.0)\n",
            "Collecting uvicorn\n",
            "  Downloading uvicorn-0.15.0-py3-none-any.whl (54 kB)\n",
            "\u001b[K     |████████████████████████████████| 54 kB 1.7 MB/s \n",
            "\u001b[?25hRequirement already satisfied: Pillow in /usr/local/lib/python3.7/dist-packages (7.1.2)\n",
            "Requirement already satisfied: pydantic!=1.7,!=1.7.1,!=1.7.2,!=1.7.3,!=1.8,!=1.8.1,<2.0.0,>=1.6.2 in /usr/local/lib/python3.7/dist-packages (from FastAPI) (1.8.2)\n",
            "Requirement already satisfied: starlette==0.16.0 in /usr/local/lib/python3.7/dist-packages (from FastAPI) (0.16.0)\n",
            "Requirement already satisfied: typing-extensions in /usr/local/lib/python3.7/dist-packages (from starlette==0.16.0->FastAPI) (3.10.0.2)\n",
            "Requirement already satisfied: anyio<4,>=3.0.0 in /usr/local/lib/python3.7/dist-packages (from starlette==0.16.0->FastAPI) (3.4.0)\n",
            "Requirement already satisfied: idna>=2.8 in /usr/local/lib/python3.7/dist-packages (from anyio<4,>=3.0.0->starlette==0.16.0->FastAPI) (2.10)\n",
            "Requirement already satisfied: sniffio>=1.1 in /usr/local/lib/python3.7/dist-packages (from anyio<4,>=3.0.0->starlette==0.16.0->FastAPI) (1.2.0)\n",
            "Requirement already satisfied: click>=7.0 in /usr/local/lib/python3.7/dist-packages (from uvicorn) (7.1.2)\n",
            "Collecting asgiref>=3.4.0\n",
            "  Downloading asgiref-3.4.1-py3-none-any.whl (25 kB)\n",
            "Collecting h11>=0.8\n",
            "  Downloading h11-0.12.0-py3-none-any.whl (54 kB)\n",
            "\u001b[K     |████████████████████████████████| 54 kB 2.5 MB/s \n",
            "\u001b[?25hInstalling collected packages: h11, asgiref, uvicorn\n",
            "Successfully installed asgiref-3.4.1 h11-0.12.0 uvicorn-0.15.0\n"
          ]
        }
      ]
    },
    {
      "cell_type": "code",
      "metadata": {
        "id": "JFVOHBO-OPTB"
      },
      "source": [
        "from fastapi import FastAPI, UploadFile, File, BackgroundTasks\n",
        "from fastapi.responses import JSONResponse\n",
        "from os import getcwd\n",
        "from PIL import Image\n",
        "app = FastAPI()\n",
        "PATH_FILES = getcwd() + \"/\"\n",
        "# RESIZE IMAGES FOR DIFFERENT DEVICES\n",
        "def resize_image(filename: str):\n",
        "    sizes = [{\n",
        "        \"width\": 1280,\n",
        "        \"height\": 720\n",
        "    }, {\n",
        "        \"width\": 640,\n",
        "        \"height\": 480\n",
        "    }]\n",
        "    for size in sizes:\n",
        "            size_defined = size['width'], size['height']\n",
        "    image = Image.open(PATH_FILES + filename, mode=\"r\")\n",
        "    image.thumbnail(size_defined)\n",
        "    image.save(PATH_FILES + str(size['height']) + \"_\" + filename)\n",
        "    print(\"success\")\n",
        "@app.post(\"/upload/file\")\n",
        "async def upload_file(background_tasks: BackgroundTasks, file: UploadFile = File(...)):\n",
        "    # SAVE FILE ORIGINAL\n",
        "    with open(PATH_FILES + file.filename, \"wb\") as myfile:\n",
        "        content = await file.read()\n",
        "        myfile.write(content)\n",
        "        myfile.close()\n",
        "    # RESIZE IMAGES\n",
        "    background_tasks.add_task(resize_image, filename=file.filename)\n",
        "    return JSONResponse(content={\"message\": \"success\"})"
      ],
      "execution_count": 10,
      "outputs": []
    }
  ]
}