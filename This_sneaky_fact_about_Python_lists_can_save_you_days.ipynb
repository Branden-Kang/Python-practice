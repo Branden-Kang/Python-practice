{
  "nbformat": 4,
  "nbformat_minor": 0,
  "metadata": {
    "colab": {
      "provenance": [],
      "collapsed_sections": [],
      "authorship_tag": "ABX9TyMGkt7xpkhbUup9G95dpiJ0"
    },
    "kernelspec": {
      "name": "python3",
      "display_name": "Python 3"
    },
    "language_info": {
      "name": "python"
    }
  },
  "cells": [
    {
      "cell_type": "markdown",
      "source": [
        "[Reference](https://python.plainenglish.io/this-sneaky-fact-about-python-lists-can-save-you-days-2c258c65db55)"
      ],
      "metadata": {
        "id": "K11RTgbQVhBG"
      }
    },
    {
      "cell_type": "code",
      "execution_count": 1,
      "metadata": {
        "colab": {
          "base_uri": "https://localhost:8080/"
        },
        "id": "eI4K2xJjVXeb",
        "outputId": "3312c174-0075-48a0-e970-708c21c41a25"
      },
      "outputs": [
        {
          "output_type": "stream",
          "name": "stdout",
          "text": [
            "[[0, 0, 0, 0, 0, 0, 0, 0, 0, 0], [0, 0, 0, 0, 0, 0, 0, 0, 0, 0], [0, 0, 0, 0, 0, 0, 0, 0, 0, 0], [0, 0, 0, 0, 0, 0, 0, 0, 0, 0], [0, 0, 0, 0, 0, 0, 0, 0, 0, 0], [0, 0, 0, 0, 0, 0, 0, 0, 0, 0], [0, 0, 0, 0, 0, 0, 0, 0, 0, 0], [0, 0, 0, 0, 0, 0, 0, 0, 0, 0], [0, 0, 0, 0, 0, 0, 0, 0, 0, 0], [0, 0, 0, 0, 0, 0, 0, 0, 0, 0]]\n"
          ]
        }
      ],
      "source": [
        "import matplotlib.pyplot as plt #to graphically analyse our list\n",
        "col = 10\n",
        "row = 10\n",
        "nested_list = [[0]*col]*row\n",
        "print(nested_list)"
      ]
    },
    {
      "cell_type": "code",
      "source": [
        "plt.imshow(nested_list)\n",
        "plt.show()"
      ],
      "metadata": {
        "colab": {
          "base_uri": "https://localhost:8080/",
          "height": 265
        },
        "id": "ipvuL0M5VjU0",
        "outputId": "e2382a80-1fcd-4011-8039-cd13c28f01fa"
      },
      "execution_count": 2,
      "outputs": [
        {
          "output_type": "display_data",
          "data": {
            "text/plain": [
              "<Figure size 432x288 with 1 Axes>"
            ],
            "image/png": "[encoded data removed]"
          },
          "metadata": {
            "needs_background": "light"
          }
        }
      ]
    },
    {
      "cell_type": "code",
      "source": [
        "nested_list[0][9] = 1\n",
        "plt.imshow(nested_list)\n",
        "plt.show()"
      ],
      "metadata": {
        "colab": {
          "base_uri": "https://localhost:8080/",
          "height": 265
        },
        "id": "lMv8kxNVVksn",
        "outputId": "956b5ca2-798d-4247-cd3b-4d2d7de9c87d"
      },
      "execution_count": 3,
      "outputs": [
        {
          "output_type": "display_data",
          "data": {
            "text/plain": [
              "<Figure size 432x288 with 1 Axes>"
            ],
            "image/png": "[encoded data removed]"
          },
          "metadata": {
            "needs_background": "light"
          }
        }
      ]
    },
    {
      "cell_type": "code",
      "source": [
        "child_list = [0,0,0]\n",
        "nested_list = [child_list,child_list,child_list]\n",
        "print(\"Nested list:\",nested_list)\n",
        "child_list[1] = 2\n",
        "print(\"Nested list after manipulating child list\",nested_list)\n",
        "nested_list[0][0] = 3\n",
        "print(\"Nested list after manipulating Nested list:\",nested_list)\n",
        "print(\"Child list after manipulating Nested list:\",child_list)"
      ],
      "metadata": {
        "colab": {
          "base_uri": "https://localhost:8080/"
        },
        "id": "ZmvRo9NDVl1M",
        "outputId": "06aef996-13bc-4ea9-b357-cb3d04a58ea7"
      },
      "execution_count": 4,
      "outputs": [
        {
          "output_type": "stream",
          "name": "stdout",
          "text": [
            "Nested list: [[0, 0, 0], [0, 0, 0], [0, 0, 0]]\n",
            "Nested list after manipulating child list [[0, 2, 0], [0, 2, 0], [0, 2, 0]]\n",
            "Nested list after manipulating Nested list: [[3, 2, 0], [3, 2, 0], [3, 2, 0]]\n",
            "Child list after manipulating Nested list: [3, 2, 0]\n"
          ]
        }
      ]
    },
    {
      "cell_type": "code",
      "source": [
        "col = 10\n",
        "row = 10\n",
        "nested_list = [[0]*col for row in range(10)] #list comprehension\n",
        "print(nested_list)"
      ],
      "metadata": {
        "id": "tgO-ztLIVnW1",
        "outputId": "eb99c48b-b3e7-4bf6-ee8e-313360f9e2ea",
        "colab": {
          "base_uri": "https://localhost:8080/"
        }
      },
      "execution_count": 5,
      "outputs": [
        {
          "output_type": "stream",
          "name": "stdout",
          "text": [
            "[[0, 0, 0, 0, 0, 0, 0, 0, 0, 0], [0, 0, 0, 0, 0, 0, 0, 0, 0, 0], [0, 0, 0, 0, 0, 0, 0, 0, 0, 0], [0, 0, 0, 0, 0, 0, 0, 0, 0, 0], [0, 0, 0, 0, 0, 0, 0, 0, 0, 0], [0, 0, 0, 0, 0, 0, 0, 0, 0, 0], [0, 0, 0, 0, 0, 0, 0, 0, 0, 0], [0, 0, 0, 0, 0, 0, 0, 0, 0, 0], [0, 0, 0, 0, 0, 0, 0, 0, 0, 0], [0, 0, 0, 0, 0, 0, 0, 0, 0, 0]]\n"
          ]
        }
      ]
    },
    {
      "cell_type": "code",
      "source": [
        "nested_list[0][9] = 1\n",
        "plt.imshow(nested_list)\n",
        "plt.show()"
      ],
      "metadata": {
        "id": "phEh_gXNVpla",
        "outputId": "ce806d5b-aaa9-490a-9c65-6a588b31626e",
        "colab": {
          "base_uri": "https://localhost:8080/",
          "height": 265
        }
      },
      "execution_count": 6,
      "outputs": [
        {
          "output_type": "display_data",
          "data": {
            "text/plain": [
              "<Figure size 432x288 with 1 Axes>"
            ],
            "image/png": "[encoded data removed]"
          },
          "metadata": {
            "needs_background": "light"
          }
        }
      ]
    }
  ]
}