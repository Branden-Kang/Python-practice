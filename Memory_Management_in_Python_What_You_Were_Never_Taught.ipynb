{
  "nbformat": 4,
  "nbformat_minor": 0,
  "metadata": {
    "colab": {
      "provenance": [],
      "authorship_tag": "ABX9TyMjv5Lbo/dMCMsd+LNCrLYU"
    },
    "kernelspec": {
      "name": "python3",
      "display_name": "Python 3"
    },
    "language_info": {
      "name": "python"
    }
  },
  "cells": [
    {
      "cell_type": "markdown",
      "source": [
        "[Reference](https://medium.com/@aliyannshaikhh/aefd9e4c6542)"
      ],
      "metadata": {
        "id": "CeJX8VpUDt7g"
      }
    },
    {
      "cell_type": "code",
      "execution_count": 1,
      "metadata": {
        "colab": {
          "base_uri": "https://localhost:8080/"
        },
        "id": "Mv-SwXJHDqa6",
        "outputId": "98b7826d-d8ce-4137-b79f-26732c240197"
      },
      "outputs": [
        {
          "output_type": "stream",
          "name": "stdout",
          "text": [
            "[1, 2, 3, 4]\n"
          ]
        }
      ],
      "source": [
        "x = [1, 2, 3]\n",
        "y = x\n",
        "\n",
        "y.append(4)\n",
        "\n",
        "print(x)"
      ]
    },
    {
      "cell_type": "markdown",
      "source": [
        "# The Memory Model of Python\n"
      ],
      "metadata": {
        "id": "xWJ7AB4YDyks"
      }
    },
    {
      "cell_type": "code",
      "source": [
        "x = 10  # reference count for 10 is now 1\n",
        "y = x  # reference count for 10 goes up to 2\n",
        "del x  # reference count goes down to 1"
      ],
      "metadata": {
        "id": "Mh2soYs8DxyC"
      },
      "execution_count": 2,
      "outputs": []
    },
    {
      "cell_type": "markdown",
      "source": [
        "# Garbage Collection in Python"
      ],
      "metadata": {
        "id": "HVgCss4gD3Wf"
      }
    },
    {
      "cell_type": "code",
      "source": [
        "a = []\n",
        "b = []\n",
        "\n",
        "a.append(b)  # Add list 'b' inside list 'a'\n",
        "b.append(a)  # Add list 'a' inside list 'b'\n",
        "\n",
        "print(id(a[0]) == id(b))  # True: a[0] is b\n",
        "print(id(b[0]) == id(a))  # True: b[0] is a"
      ],
      "metadata": {
        "colab": {
          "base_uri": "https://localhost:8080/"
        },
        "id": "Bh9X69pOD2R5",
        "outputId": "38992d18-b682-4607-8f5c-3c38821fa3da"
      },
      "execution_count": 3,
      "outputs": [
        {
          "output_type": "stream",
          "name": "stdout",
          "text": [
            "True\n",
            "True\n"
          ]
        }
      ]
    },
    {
      "cell_type": "code",
      "source": [
        "del a\n",
        "del b"
      ],
      "metadata": {
        "id": "KDoT9fRRD5zx"
      },
      "execution_count": 4,
      "outputs": []
    },
    {
      "cell_type": "code",
      "source": [
        "import gc\n",
        "\n",
        "gc.collect()"
      ],
      "metadata": {
        "colab": {
          "base_uri": "https://localhost:8080/"
        },
        "id": "WmUUye3aD8yK",
        "outputId": "b3cba70b-d637-4bee-d3c0-3425b61ecc2e"
      },
      "execution_count": 5,
      "outputs": [
        {
          "output_type": "execute_result",
          "data": {
            "text/plain": [
              "181"
            ]
          },
          "metadata": {},
          "execution_count": 5
        }
      ]
    },
    {
      "cell_type": "markdown",
      "source": [
        "# Memory Reuse: Python’s Small Object Optimizations"
      ],
      "metadata": {
        "id": "S6S5awPrEC71"
      }
    },
    {
      "cell_type": "code",
      "source": [
        "a = 10\n",
        "b = 10\n",
        "\n",
        "print(a is b)  # True, both point to the same object"
      ],
      "metadata": {
        "colab": {
          "base_uri": "https://localhost:8080/"
        },
        "id": "4BbyKhCmD_ez",
        "outputId": "16f8ab1b-cd90-45e4-ddd5-a53e7ca734d2"
      },
      "execution_count": 6,
      "outputs": [
        {
          "output_type": "stream",
          "name": "stdout",
          "text": [
            "True\n"
          ]
        }
      ]
    },
    {
      "cell_type": "code",
      "source": [
        "a = 20489678\n",
        "b = 20489678\n",
        "\n",
        "print(a is b)  # May be False for larger integers"
      ],
      "metadata": {
        "colab": {
          "base_uri": "https://localhost:8080/"
        },
        "id": "ay0BBS4hEBb-",
        "outputId": "06c3557d-ce61-45a2-ef6f-f368e2c35ee6"
      },
      "execution_count": 7,
      "outputs": [
        {
          "output_type": "stream",
          "name": "stdout",
          "text": [
            "False\n"
          ]
        }
      ]
    }
  ]
}