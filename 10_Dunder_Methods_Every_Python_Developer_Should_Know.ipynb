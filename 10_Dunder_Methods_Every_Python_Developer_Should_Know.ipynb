{
  "nbformat": 4,
  "nbformat_minor": 0,
  "metadata": {
    "colab": {
      "provenance": [],
      "authorship_tag": "ABX9TyO2Wy384NVjN4JyWjeySH55"
    },
    "kernelspec": {
      "name": "python3",
      "display_name": "Python 3"
    },
    "language_info": {
      "name": "python"
    }
  },
  "cells": [
    {
      "cell_type": "markdown",
      "source": [
        "[Reference](https://medium.com/@minhle_0210/10-dunder-methods-every-python-developer-should-know-fe2a8c6d8445)"
      ],
      "metadata": {
        "id": "bQJTu3Ajs7nK"
      }
    },
    {
      "cell_type": "markdown",
      "source": [
        "# 1. init"
      ],
      "metadata": {
        "id": "a9gsIc-ftC98"
      }
    },
    {
      "cell_type": "code",
      "execution_count": 1,
      "metadata": {
        "colab": {
          "base_uri": "https://localhost:8080/"
        },
        "id": "uJtQmSgGsxMm",
        "outputId": "2a0106b3-f342-43ba-d104-c9aa94b90ccb"
      },
      "outputs": [
        {
          "output_type": "stream",
          "name": "stdout",
          "text": [
            "Dog\n"
          ]
        }
      ],
      "source": [
        "class Animal:\n",
        "    def __init__(self, species, sound):\n",
        "        self.species = species\n",
        "        self.sound = sound\n",
        "\n",
        "\n",
        "dog = Animal(\"Dog\", \"Woof\")\n",
        "print(dog.species)"
      ]
    },
    {
      "cell_type": "markdown",
      "source": [
        "# 2. repr: Your Object’s Snapshot"
      ],
      "metadata": {
        "id": "MuBoTT1DtHUu"
      }
    },
    {
      "cell_type": "code",
      "source": [
        "class Animal:\n",
        "    def __init__(self, species, sound):\n",
        "        self.species = species\n",
        "        self.sound = sound\n",
        "    def __repr__(self):\n",
        "        return f\"Animal(species='{self.species}', sound='{self.sound}')\"\n",
        "dog = Animal(\"Dog\", \"Woof\")\n",
        "print(repr(dog))"
      ],
      "metadata": {
        "colab": {
          "base_uri": "https://localhost:8080/"
        },
        "id": "XkA6VumWtJfH",
        "outputId": "bb82adc5-b0c9-44f3-b05b-847ba26bb502"
      },
      "execution_count": 2,
      "outputs": [
        {
          "output_type": "stream",
          "name": "stdout",
          "text": [
            "Animal(species='Dog', sound='Woof')\n"
          ]
        }
      ]
    },
    {
      "cell_type": "markdown",
      "source": [
        "# 3. str: The Friendly String Version"
      ],
      "metadata": {
        "id": "cFdJUX94tLs_"
      }
    },
    {
      "cell_type": "code",
      "source": [
        "class Animal:\n",
        "    def __init__(self, species, sound):\n",
        "        self.species = species\n",
        "        self.sound = sound\n",
        "\n",
        "    def __str__(self):\n",
        "        return f\"A {self.species} goes '{self.sound}'!\"\n",
        "dog = Animal(\"Dog\", \"Woof\")\n",
        "print(str(dog))"
      ],
      "metadata": {
        "colab": {
          "base_uri": "https://localhost:8080/"
        },
        "id": "vd0gHnG0tJ3Z",
        "outputId": "5fa8f475-6b71-492b-fc02-3b7b489c3272"
      },
      "execution_count": 3,
      "outputs": [
        {
          "output_type": "stream",
          "name": "stdout",
          "text": [
            "A Dog goes 'Woof'!\n"
          ]
        }
      ]
    },
    {
      "cell_type": "markdown",
      "source": [
        "# 4. add: Custom Addition Magic"
      ],
      "metadata": {
        "id": "GLgP1XW3tR4D"
      }
    },
    {
      "cell_type": "code",
      "source": [
        "class Score:\n",
        "    def __init__(self, points):\n",
        "        self.points = points\n",
        "\n",
        "    def __add__(self, other):\n",
        "        return Score(self.points + other.points)\n",
        "\n",
        "    def __repr__(self):\n",
        "        return f\"Score({self.points})\"\n",
        "s1 = Score(10)\n",
        "s2 = Score(15)\n",
        "print(s1 + s2)"
      ],
      "metadata": {
        "colab": {
          "base_uri": "https://localhost:8080/"
        },
        "id": "II2X4IzetQGo",
        "outputId": "cc3ec2c3-8f74-409a-b2f7-6ae2f152da66"
      },
      "execution_count": 4,
      "outputs": [
        {
          "output_type": "stream",
          "name": "stdout",
          "text": [
            "Score(25)\n"
          ]
        }
      ]
    },
    {
      "cell_type": "markdown",
      "source": [
        "# 5. eq: Setting Up Equality"
      ],
      "metadata": {
        "id": "6FCrx3optVOB"
      }
    },
    {
      "cell_type": "code",
      "source": [
        "class Box:\n",
        "    def __init__(self, width, height):\n",
        "        self.width = width\n",
        "        self.height = height\n",
        "\n",
        "    def __eq__(self, other):\n",
        "        return self.width * self.height == other.width * other.height\n",
        "box1 = Box(2, 3)\n",
        "box2 = Box(1, 6)\n",
        "print(box1 == box2)"
      ],
      "metadata": {
        "colab": {
          "base_uri": "https://localhost:8080/"
        },
        "id": "f2e3BiHvtT82",
        "outputId": "6eda411a-712d-4650-dc2a-19dce1391dce"
      },
      "execution_count": 5,
      "outputs": [
        {
          "output_type": "stream",
          "name": "stdout",
          "text": [
            "True\n"
          ]
        }
      ]
    },
    {
      "cell_type": "markdown",
      "source": [
        "# 6. call: Making Objects Callable"
      ],
      "metadata": {
        "id": "kGvASZJ4tYTS"
      }
    },
    {
      "cell_type": "code",
      "source": [
        "class Multiplier:\n",
        "    def __init__(self, factor):\n",
        "        self.factor = factor\n",
        "\n",
        "    def __call__(self, x):\n",
        "        return x * self.factor\n",
        "double = Multiplier(2)\n",
        "print(double(5))"
      ],
      "metadata": {
        "colab": {
          "base_uri": "https://localhost:8080/"
        },
        "id": "d72RHIyWtXEM",
        "outputId": "6e20d3c3-2a32-4d45-9667-5e739cf1d30d"
      },
      "execution_count": 6,
      "outputs": [
        {
          "output_type": "stream",
          "name": "stdout",
          "text": [
            "10\n"
          ]
        }
      ]
    },
    {
      "cell_type": "markdown",
      "source": [
        "# 7. getitem: Easy Access with Indexing"
      ],
      "metadata": {
        "id": "mo0WfzFgte5N"
      }
    },
    {
      "cell_type": "code",
      "source": [
        "class CustomList:\n",
        "    def __init__(self, items):\n",
        "        self.items = items\n",
        "\n",
        "    def __getitem__(self, index):\n",
        "        return self.items[index]\n",
        "\n",
        "my_list = CustomList([100, 200, 300])\n",
        "print(my_list[1])"
      ],
      "metadata": {
        "colab": {
          "base_uri": "https://localhost:8080/"
        },
        "id": "Ge9O7YFGtaFx",
        "outputId": "e8e9d667-0c72-4ce5-dade-8e8785580713"
      },
      "execution_count": 7,
      "outputs": [
        {
          "output_type": "stream",
          "name": "stdout",
          "text": [
            "200\n"
          ]
        }
      ]
    },
    {
      "cell_type": "markdown",
      "source": [
        "# 8. len: Counting with Ease"
      ],
      "metadata": {
        "id": "oxqMlgTOtjYG"
      }
    },
    {
      "cell_type": "code",
      "source": [
        "class CustomList:\n",
        "    def __init__(self, items):\n",
        "        self.items = items\n",
        "\n",
        "    def __len__(self):\n",
        "        return len(self.items)\n",
        "\n",
        "my_list = CustomList([100, 200, 300])\n",
        "print(len(my_list))"
      ],
      "metadata": {
        "colab": {
          "base_uri": "https://localhost:8080/"
        },
        "id": "AZgTH36Cth-X",
        "outputId": "fdfb0291-7eaa-4ebd-adab-d62dc3c8a11f"
      },
      "execution_count": 8,
      "outputs": [
        {
          "output_type": "stream",
          "name": "stdout",
          "text": [
            "3\n"
          ]
        }
      ]
    },
    {
      "cell_type": "markdown",
      "source": [
        "# 9. enter & exit: Context Managers for Clean Code"
      ],
      "metadata": {
        "id": "AG0iMMBJtmG4"
      }
    },
    {
      "cell_type": "code",
      "source": [
        "class FileOpener:\n",
        "    def __init__(self, filename, mode):\n",
        "        self.filename = filename\n",
        "        self.mode = mode\n",
        "\n",
        "    def __enter__(self):\n",
        "            self.file = open(self.filename, self.mode)\n",
        "            return self.file\n",
        "    def __exit__(self, exc_type, exc_value, traceback):\n",
        "        self.file.close()\n",
        "\n",
        "with FileOpener(\"example.txt\", \"w\") as f:\n",
        "    f.write(\"Hello, world!\")"
      ],
      "metadata": {
        "id": "oI5pWo2ctk1a"
      },
      "execution_count": 9,
      "outputs": []
    },
    {
      "cell_type": "markdown",
      "source": [
        "# 10. del: The Cleanup Crew"
      ],
      "metadata": {
        "id": "1XbHdcwStuX1"
      }
    },
    {
      "cell_type": "code",
      "source": [
        "class TempFile:\n",
        "    def __init__(self, filename):\n",
        "        self.filename = filename\n",
        "        print(f\"Creating {filename}\")\n",
        "\n",
        "    def __del__(self):\n",
        "            print(f\"Deleting {self.filename}\")\n",
        "\n",
        "temp = TempFile(\"temp.txt\")\n",
        "del temp"
      ],
      "metadata": {
        "colab": {
          "base_uri": "https://localhost:8080/"
        },
        "id": "-G8m0bxbts-V",
        "outputId": "d7438f51-a11b-4f22-8aa9-f8cfca51c725"
      },
      "execution_count": 10,
      "outputs": [
        {
          "output_type": "stream",
          "name": "stdout",
          "text": [
            "Creating temp.txt\n",
            "Deleting temp.txt\n"
          ]
        }
      ]
    }
  ]
}