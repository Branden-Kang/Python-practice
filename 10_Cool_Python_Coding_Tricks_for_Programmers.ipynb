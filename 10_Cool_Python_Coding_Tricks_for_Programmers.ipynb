{
  "nbformat": 4,
  "nbformat_minor": 0,
  "metadata": {
    "colab": {
      "provenance": [],
      "authorship_tag": "ABX9TyO/X1UBkfqTEjGoGNcdh7Ee"
    },
    "kernelspec": {
      "name": "python3",
      "display_name": "Python 3"
    },
    "language_info": {
      "name": "python"
    }
  },
  "cells": [
    {
      "cell_type": "markdown",
      "source": [
        "[Reference](https://levelup.gitconnected.com/10-cool-python-coding-tricks-for-programmers-1ae08f66d36c)"
      ],
      "metadata": {
        "id": "m3tN34I2TR9s"
      }
    },
    {
      "cell_type": "markdown",
      "source": [
        "# 1. Count Objects Using a Counter"
      ],
      "metadata": {
        "id": "u26dr8YKTUUv"
      }
    },
    {
      "cell_type": "code",
      "execution_count": 1,
      "metadata": {
        "colab": {
          "base_uri": "https://localhost:8080/"
        },
        "id": "KPrF8FdDTFPB",
        "outputId": "7545fd08-fa8d-4017-ae8d-ec0b8fad0dda"
      },
      "outputs": [
        {
          "output_type": "stream",
          "name": "stdout",
          "text": [
            "Counter({3: 5, 2: 4, 1: 3, 6: 3, 4: 2, 5: 1})\n"
          ]
        }
      ],
      "source": [
        "from collections import Counter\n",
        "mylst = [1,1,1,2,2,2,2,3,3,3,3,3,4,4,5,6,6,6]\n",
        "print(Counter(mylst))"
      ]
    },
    {
      "cell_type": "markdown",
      "source": [
        "# 2. Deleting redundant items from a list"
      ],
      "metadata": {
        "id": "oTaI86bsTZOV"
      }
    },
    {
      "cell_type": "code",
      "source": [
        "Numbers = [30, 32, 14, 26, 18, 18, 20, 30, 28]\n",
        "print(\"Original= \", Numbers)\n",
        "Numbers = list(set(Numbers))\n",
        "print(\"After removing duplicate= \", Numbers)"
      ],
      "metadata": {
        "colab": {
          "base_uri": "https://localhost:8080/"
        },
        "id": "A7FW1fpQTYHF",
        "outputId": "3160d199-f73d-4c39-d787-364dfb58f760"
      },
      "execution_count": 2,
      "outputs": [
        {
          "output_type": "stream",
          "name": "stdout",
          "text": [
            "Original=  [30, 32, 14, 26, 18, 18, 20, 30, 28]\n",
            "After removing duplicate=  [32, 14, 18, 20, 26, 28, 30]\n"
          ]
        }
      ]
    },
    {
      "cell_type": "markdown",
      "source": [
        "# 3. Concatenate Strings"
      ],
      "metadata": {
        "id": "u2tsmr_5Uc9a"
      }
    },
    {
      "cell_type": "code",
      "source": [
        "arr1 = ['T', 'r', 'i', 'c', 'k', 's']\n",
        "res = \"\".join(arr1)\n",
        "print (res)"
      ],
      "metadata": {
        "colab": {
          "base_uri": "https://localhost:8080/"
        },
        "id": "Qmf7xnIETaym",
        "outputId": "1b3f0840-a6ce-4bad-b36e-c31455782e6f"
      },
      "execution_count": 3,
      "outputs": [
        {
          "output_type": "stream",
          "name": "stdout",
          "text": [
            "Tricks\n"
          ]
        }
      ]
    },
    {
      "cell_type": "markdown",
      "source": [
        "# 4. Swapping numbers:"
      ],
      "metadata": {
        "id": "e1TulhP_Ut6V"
      }
    },
    {
      "cell_type": "code",
      "source": [
        "i = 50\n",
        "j = 100\n",
        "temp = i\n",
        "i = j\n",
        "j = temp\n",
        "print('The value of i after swapping: {}'.format(i))\n",
        "print('The value of j after swapping: {}'.format(j))"
      ],
      "metadata": {
        "colab": {
          "base_uri": "https://localhost:8080/"
        },
        "id": "NM9yhgP0UeMH",
        "outputId": "276d7f20-924a-434e-9081-72ce171063b3"
      },
      "execution_count": 4,
      "outputs": [
        {
          "output_type": "stream",
          "name": "stdout",
          "text": [
            "The value of i after swapping: 100\n",
            "The value of j after swapping: 50\n"
          ]
        }
      ]
    },
    {
      "cell_type": "code",
      "source": [
        "i = 50\n",
        "j = 100\n",
        "i, j = j, i\n",
        "print(\"i =\", i)\n",
        "print(\"j =\", j)"
      ],
      "metadata": {
        "colab": {
          "base_uri": "https://localhost:8080/"
        },
        "id": "pas-TUbMUvea",
        "outputId": "250812a2-34fc-4cc1-abe5-931595a4a291"
      },
      "execution_count": 5,
      "outputs": [
        {
          "output_type": "stream",
          "name": "stdout",
          "text": [
            "i = 100\n",
            "j = 50\n"
          ]
        }
      ]
    },
    {
      "cell_type": "markdown",
      "source": [
        "# 5. Calculating memory used by an object"
      ],
      "metadata": {
        "id": "BYEniuxjUyDD"
      }
    },
    {
      "cell_type": "code",
      "source": [
        "import sys\n",
        "mylst = ['India', 'Paris', 'London', 'Italy', 'Rome']\n",
        "print(\"size of list = \",sys.getsizeof(mylst))"
      ],
      "metadata": {
        "colab": {
          "base_uri": "https://localhost:8080/"
        },
        "id": "gprBBSbOUw0n",
        "outputId": "55244ce6-10dd-44c7-a4a2-a8a8740a3562"
      },
      "execution_count": 6,
      "outputs": [
        {
          "output_type": "stream",
          "name": "stdout",
          "text": [
            "size of list =  96\n"
          ]
        }
      ]
    },
    {
      "cell_type": "markdown",
      "source": [
        "# 6. Reversing a String"
      ],
      "metadata": {
        "id": "Eb-6sk48Uz73"
      }
    },
    {
      "cell_type": "code",
      "source": [
        "text = \"Learning python\"[::-1]\n",
        "print(text)"
      ],
      "metadata": {
        "colab": {
          "base_uri": "https://localhost:8080/"
        },
        "id": "CG1FUNxfUzCu",
        "outputId": "7fc2bf03-707b-4d32-e09a-ff173257f510"
      },
      "execution_count": 7,
      "outputs": [
        {
          "output_type": "stream",
          "name": "stdout",
          "text": [
            "nohtyp gninraeL\n"
          ]
        }
      ]
    },
    {
      "cell_type": "markdown",
      "source": [
        "# 7. Transposing a matrix"
      ],
      "metadata": {
        "id": "J5b-16y_U2Qo"
      }
    },
    {
      "cell_type": "code",
      "source": [
        "matrix=[(1,2,3),(4,5,6),(7,8,9),(10,11,12)]\n",
        "t_matrix = zip(*matrix)\n",
        "for row in t_matrix:\n",
        "    print(row)"
      ],
      "metadata": {
        "colab": {
          "base_uri": "https://localhost:8080/"
        },
        "id": "1g_xYlJuU1Rp",
        "outputId": "4ca0e5d9-c3b0-4f8d-b7b5-597a71b49ee1"
      },
      "execution_count": 8,
      "outputs": [
        {
          "output_type": "stream",
          "name": "stdout",
          "text": [
            "(1, 4, 7, 10)\n",
            "(2, 5, 8, 11)\n",
            "(3, 6, 9, 12)\n"
          ]
        }
      ]
    },
    {
      "cell_type": "markdown",
      "source": [
        "# 8. Print a string multiple times"
      ],
      "metadata": {
        "id": "VlcmezbSVgQk"
      }
    },
    {
      "cell_type": "code",
      "source": [
        "str =\"Python\"\n",
        "print(str * 4)"
      ],
      "metadata": {
        "colab": {
          "base_uri": "https://localhost:8080/"
        },
        "id": "mDX80tPlU398",
        "outputId": "19057637-715d-4fb5-a572-eb78aa16b73b"
      },
      "execution_count": 9,
      "outputs": [
        {
          "output_type": "stream",
          "name": "stdout",
          "text": [
            "PythonPythonPythonPython\n"
          ]
        }
      ]
    },
    {
      "cell_type": "markdown",
      "source": [
        "# 9. Making Use of Generators Within Functions"
      ],
      "metadata": {
        "id": "Q-IJO3LEVimS"
      }
    },
    {
      "cell_type": "code",
      "source": [
        "sum(i for i in range(5) )"
      ],
      "metadata": {
        "colab": {
          "base_uri": "https://localhost:8080/"
        },
        "id": "Xyr_5jKpVhkR",
        "outputId": "927a6130-2c4e-49d4-e0f6-7761a17129fe"
      },
      "execution_count": 10,
      "outputs": [
        {
          "output_type": "execute_result",
          "data": {
            "text/plain": [
              "10"
            ]
          },
          "metadata": {},
          "execution_count": 10
        }
      ]
    },
    {
      "cell_type": "markdown",
      "source": [
        "# 10. Print the elements of a list in any order"
      ],
      "metadata": {
        "id": "rlvutxZRVkfV"
      }
    },
    {
      "cell_type": "code",
      "source": [
        "mylst = [10,20,30]\n",
        "a,b,c = mylst\n",
        "print(c, a, b )\n",
        "print(a, c, b )"
      ],
      "metadata": {
        "colab": {
          "base_uri": "https://localhost:8080/"
        },
        "id": "B2n7JfToVjtV",
        "outputId": "278b8a5a-6769-441a-aff2-5712b990e9b0"
      },
      "execution_count": 11,
      "outputs": [
        {
          "output_type": "stream",
          "name": "stdout",
          "text": [
            "30 10 20\n",
            "10 30 20\n"
          ]
        }
      ]
    }
  ]
}