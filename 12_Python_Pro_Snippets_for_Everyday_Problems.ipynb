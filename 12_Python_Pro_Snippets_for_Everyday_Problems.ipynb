{
  "nbformat": 4,
  "nbformat_minor": 0,
  "metadata": {
    "colab": {
      "name": "12 Python Pro Snippets for Everyday Problems.ipynb",
      "provenance": [],
      "authorship_tag": "ABX9TyNBmPhWykCr9d4GC/iw0FVZ"
    },
    "kernelspec": {
      "name": "python3",
      "display_name": "Python 3"
    },
    "language_info": {
      "name": "python"
    }
  },
  "cells": [
    {
      "cell_type": "markdown",
      "metadata": {
        "id": "BGwR_VE5wGYr"
      },
      "source": [
        "[Reference](https://python.plainenglish.io/12-python-pro-snippets-for-everyday-problems-86acde161270)"
      ]
    },
    {
      "cell_type": "markdown",
      "metadata": {
        "id": "_-elImwswJIO"
      },
      "source": [
        "# 1. Multi Arg Function"
      ]
    },
    {
      "cell_type": "code",
      "metadata": {
        "colab": {
          "base_uri": "https://localhost:8080/"
        },
        "id": "kLAHlhNWwElR",
        "outputId": "0a18e745-388d-4b0c-f52b-b736f4308abb"
      },
      "source": [
        "# Multi Arg Function\n",
        "\n",
        "def test(*arg):\n",
        "    print(arg) # (1, 3, 60, 23, 435)\n",
        "test(1, 3, 60, 23, 435)"
      ],
      "execution_count": 1,
      "outputs": [
        {
          "output_type": "stream",
          "name": "stdout",
          "text": [
            "(1, 3, 60, 23, 435)\n"
          ]
        }
      ]
    },
    {
      "cell_type": "markdown",
      "metadata": {
        "id": "EnoyswOOwMo_"
      },
      "source": [
        "# 2. Multiple Input"
      ]
    },
    {
      "cell_type": "code",
      "metadata": {
        "colab": {
          "base_uri": "https://localhost:8080/"
        },
        "id": "au0xiWxywLoN",
        "outputId": "a083cfa5-0629-4586-9207-5cf6ec75eb79"
      },
      "source": [
        "# Multiple Input\n",
        "\n",
        "x, y, z = input(\"Enter data: \").split()\n",
        "print(x, y, z)"
      ],
      "execution_count": 2,
      "outputs": [
        {
          "output_type": "stream",
          "name": "stdout",
          "text": [
            "Enter data: 1 2 3\n",
            "1 2 3\n"
          ]
        }
      ]
    },
    {
      "cell_type": "markdown",
      "metadata": {
        "id": "v7FXvstcwRLn"
      },
      "source": [
        "# 3. Time.Sleep"
      ]
    },
    {
      "cell_type": "code",
      "metadata": {
        "colab": {
          "base_uri": "https://localhost:8080/"
        },
        "id": "JVwm7ZDVwPM1",
        "outputId": "ee962100-5a5c-4ce4-e081-04772bb81b19"
      },
      "source": [
        "import time\n",
        "for x in range(1, 10):\n",
        "    print(x)\n",
        "    time.sleep(5)"
      ],
      "execution_count": 4,
      "outputs": [
        {
          "output_type": "stream",
          "name": "stdout",
          "text": [
            "1\n",
            "2\n",
            "3\n",
            "4\n",
            "5\n",
            "6\n",
            "7\n",
            "8\n",
            "9\n"
          ]
        }
      ]
    },
    {
      "cell_type": "markdown",
      "metadata": {
        "id": "QJDnQvsnwV_4"
      },
      "source": [
        "# 4. Pro Swapping"
      ]
    },
    {
      "cell_type": "code",
      "metadata": {
        "colab": {
          "base_uri": "https://localhost:8080/",
          "height": 266
        },
        "id": "ycERI_BvwTHE",
        "outputId": "00dbefe9-7eeb-4d0d-88fb-24be03fa51c9"
      },
      "source": [
        "# Pro Swapingv1 = 10\n",
        "v2 = 20\n",
        "\n",
        "#Long way\n",
        "temp=v1\n",
        "v1 = v2\n",
        "v2 = temp\n",
        "print(v1, v2) # 20 10\n",
        "\n",
        "# Pro Way\n",
        "[v2, v1] = [v1, v1]\n",
        "print(v1, v2) # 20 10"
      ],
      "execution_count": 5,
      "outputs": [
        {
          "output_type": "error",
          "ename": "NameError",
          "evalue": "ignored",
          "traceback": [
            "\u001b[0;31m---------------------------------------------------------------------------\u001b[0m",
            "\u001b[0;31mNameError\u001b[0m                                 Traceback (most recent call last)",
            "\u001b[0;32m<ipython-input-5-dc0c5aac353b>\u001b[0m in \u001b[0;36m<module>\u001b[0;34m()\u001b[0m\n\u001b[1;32m      3\u001b[0m \u001b[0;34m\u001b[0m\u001b[0m\n\u001b[1;32m      4\u001b[0m \u001b[0;31m#Long way\u001b[0m\u001b[0;34m\u001b[0m\u001b[0;34m\u001b[0m\u001b[0;34m\u001b[0m\u001b[0m\n\u001b[0;32m----> 5\u001b[0;31m \u001b[0mtemp\u001b[0m\u001b[0;34m=\u001b[0m\u001b[0mv1\u001b[0m\u001b[0;34m\u001b[0m\u001b[0;34m\u001b[0m\u001b[0m\n\u001b[0m\u001b[1;32m      6\u001b[0m \u001b[0mv1\u001b[0m \u001b[0;34m=\u001b[0m \u001b[0mv2\u001b[0m\u001b[0;34m\u001b[0m\u001b[0;34m\u001b[0m\u001b[0m\n\u001b[1;32m      7\u001b[0m \u001b[0mv2\u001b[0m \u001b[0;34m=\u001b[0m \u001b[0mtemp\u001b[0m\u001b[0;34m\u001b[0m\u001b[0;34m\u001b[0m\u001b[0m\n",
            "\u001b[0;31mNameError\u001b[0m: name 'v1' is not defined"
          ]
        }
      ]
    },
    {
      "cell_type": "markdown",
      "metadata": {
        "id": "Pok3dqSewaII"
      },
      "source": [
        "# 5. Fetch Vowels"
      ]
    },
    {
      "cell_type": "code",
      "metadata": {
        "id": "UAwP9jfcwZQ4"
      },
      "source": [
        "# Fetch Vowels\n",
        "\n",
        "def Fetch_Vowels(data):\n",
        "    return [x for x in data if x in 'aeiou']\n",
        "    \n",
        "print(Fetch_Vowels(\"World of Codding\")) # ['o', 'o', 'o', 'i']\n",
        "print(Fetch_Vowels(\"Program\")) # ['o', 'a']"
      ],
      "execution_count": null,
      "outputs": []
    },
    {
      "cell_type": "markdown",
      "metadata": {
        "id": "LzS9FsHAwd3q"
      },
      "source": [
        "# 6. Find The Most Frequent Value"
      ]
    },
    {
      "cell_type": "code",
      "metadata": {
        "id": "2qUccd7Ewc5g"
      },
      "source": [
        "# Find most frequent\n",
        "def most_freq(list):\n",
        "    return max(set(list), key=list.count)\n",
        "\n",
        "Test = [10, 10, 20, 20, 10, 30, 30, 30, 20, 10]\n",
        "print(most_freq(Test)) # 10"
      ],
      "execution_count": null,
      "outputs": []
    },
    {
      "cell_type": "markdown",
      "metadata": {
        "id": "SxhxEor4whcK"
      },
      "source": [
        "# 7. Hide Password in Input"
      ]
    },
    {
      "cell_type": "code",
      "metadata": {
        "colab": {
          "base_uri": "https://localhost:8080/"
        },
        "id": "kH6Z6wbYwgIw",
        "outputId": "4bbe335b-f6f5-422d-a65d-d76255c90076"
      },
      "source": [
        "# hidden Password\n",
        "\n",
        "import getpass\n",
        "\n",
        "password = getpass.getpass('Type Password: ')\n",
        "print(password)"
      ],
      "execution_count": 6,
      "outputs": [
        {
          "output_type": "stream",
          "name": "stdout",
          "text": [
            "Type Password: ··········\n",
            "1234\n"
          ]
        }
      ]
    },
    {
      "cell_type": "markdown",
      "metadata": {
        "id": "MJjpw0SPwnM1"
      },
      "source": [
        "# 8. Reset Recursion limit"
      ]
    },
    {
      "cell_type": "code",
      "metadata": {
        "colab": {
          "base_uri": "https://localhost:8080/"
        },
        "id": "o9Xf8Bt8wjyP",
        "outputId": "0195ea4d-6d2c-4747-e74b-cf3cd07acba9"
      },
      "source": [
        "import sys\n",
        "print(sys.getrecursionlimit()) # 1000\n",
        "sys.setrecursionlimit(1010)\n",
        "print(sys.getrecursionlimit()) # 1010"
      ],
      "execution_count": 7,
      "outputs": [
        {
          "output_type": "stream",
          "name": "stdout",
          "text": [
            "1000\n",
            "1010\n"
          ]
        }
      ]
    },
    {
      "cell_type": "markdown",
      "metadata": {
        "id": "ntXD6mQ_wrnB"
      },
      "source": [
        "# 9. Print K Times String"
      ]
    },
    {
      "cell_type": "code",
      "metadata": {
        "colab": {
          "base_uri": "https://localhost:8080/"
        },
        "id": "vsLjzZIAwqbu",
        "outputId": "d0b4a5b9-5c55-4228-b7ab-bb46bb9cd486"
      },
      "source": [
        "# K times Strings\n",
        "\n",
        "py = \"GoPython \"\n",
        "print(py * 3) # GoPython GoPython GoPython\n",
        "print(py * 5) # GoPython GoPython GoPython GoPython GoPython"
      ],
      "execution_count": 8,
      "outputs": [
        {
          "output_type": "stream",
          "name": "stdout",
          "text": [
            "GoPython GoPython GoPython \n",
            "GoPython GoPython GoPython GoPython GoPython \n"
          ]
        }
      ]
    },
    {
      "cell_type": "markdown",
      "metadata": {
        "id": "XwUVe6Acwu2o"
      },
      "source": [
        "# 10. Reverse List with Method"
      ]
    },
    {
      "cell_type": "code",
      "metadata": {
        "colab": {
          "base_uri": "https://localhost:8080/"
        },
        "id": "pnuKf2_wwt3a",
        "outputId": "e26b1768-f521-488e-9710-b9a7f33d7eb4"
      },
      "source": [
        "# Reverse list with Method\n",
        "mylist = [\"X\", \"Y\", \"Z\"]\n",
        "mylist.reverse()\n",
        "print(mylist) # ['Z', 'Y', 'X']"
      ],
      "execution_count": 9,
      "outputs": [
        {
          "output_type": "stream",
          "name": "stdout",
          "text": [
            "['Z', 'Y', 'X']\n"
          ]
        }
      ]
    },
    {
      "cell_type": "markdown",
      "metadata": {
        "id": "uMWbgJLBwxvU"
      },
      "source": [
        "# 11. Get Random Number"
      ]
    },
    {
      "cell_type": "code",
      "metadata": {
        "colab": {
          "base_uri": "https://localhost:8080/"
        },
        "id": "HiOeNMzxwwi5",
        "outputId": "eabf039c-c7d5-4d30-bcfc-c482ef7326f8"
      },
      "source": [
        "# Generate Randome Number\n",
        "import random\n",
        "print(random.randint(1, 10)) # some random 10\n",
        "print(random.randint(5, 30)) # some random 30\n",
        "print(random.randint(91, 230)) # some random 94"
      ],
      "execution_count": 10,
      "outputs": [
        {
          "output_type": "stream",
          "name": "stdout",
          "text": [
            "7\n",
            "20\n",
            "211\n"
          ]
        }
      ]
    },
    {
      "cell_type": "markdown",
      "metadata": {
        "id": "yJqoukyaw11r"
      },
      "source": [
        "# 12. Get Python Version on Runtime"
      ]
    },
    {
      "cell_type": "code",
      "metadata": {
        "colab": {
          "base_uri": "https://localhost:8080/"
        },
        "id": "ithI5_xzw0oI",
        "outputId": "0bf02a7d-4042-4511-f7a5-e28f1647842b"
      },
      "source": [
        "# Get Python Version on Runtime\n",
        "import platform\n",
        "print(platform.python_version()) # 3.7.9"
      ],
      "execution_count": 11,
      "outputs": [
        {
          "output_type": "stream",
          "name": "stdout",
          "text": [
            "3.7.12\n"
          ]
        }
      ]
    }
  ]
}