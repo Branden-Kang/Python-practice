{
  "nbformat": 4,
  "nbformat_minor": 0,
  "metadata": {
    "colab": {
      "name": "Timeit in Python",
      "provenance": [],
      "authorship_tag": "ABX9TyNfRPZWDAfmBM7YDpOx4Lax"
    },
    "kernelspec": {
      "name": "python3",
      "display_name": "Python 3"
    }
  },
  "cells": [
    {
      "cell_type": "markdown",
      "metadata": {
        "id": "Ub8Ne8ENi8HZ"
      },
      "source": [
        "[Reference](https://medium.com/better-programming/how-to-measure-execution-time-in-python-21004748535e)"
      ]
    },
    {
      "cell_type": "markdown",
      "metadata": {
        "id": "6cPaQbf8jAPY"
      },
      "source": [
        "<code> python -m timeit \"'-'.join([str(i) for i in range(100)])\"</code>\n",
        "\n",
        "*    -n — Number of execution\n",
        "*    -r — Number of repetitions for the timer. The default is five.\n",
        "*    -s — The initial statement that will be executed once initially.\n",
        "*    -p — Set to measure process time instead of wall clock time.\n",
        "*    -u — Time unit for the output. You can choose nsec, usec, msec, or sec.\n",
        "*   -v — Print raw timing results."
      ]
    },
    {
      "cell_type": "markdown",
      "metadata": {
        "id": "ge5i7SBfjhmz"
      },
      "source": [
        "# timeit"
      ]
    },
    {
      "cell_type": "code",
      "metadata": {
        "id": "XK2P2mObji1A"
      },
      "source": [
        "import timeit"
      ],
      "execution_count": 2,
      "outputs": []
    },
    {
      "cell_type": "code",
      "metadata": {
        "id": "lQunj8mYiqaW",
        "outputId": "a36776ce-2927-449c-c3c4-3de1b51ec04b",
        "colab": {
          "base_uri": "https://localhost:8080/",
          "height": 34
        }
      },
      "source": [
        "result = timeit.timeit(\"'-'.join([str(i) for i in range(100)])\", number=20000)\n",
        "print(result)"
      ],
      "execution_count": 3,
      "outputs": [
        {
          "output_type": "stream",
          "text": [
            "0.3637160250000022\n"
          ],
          "name": "stdout"
        }
      ]
    },
    {
      "cell_type": "markdown",
      "metadata": {
        "id": "l9GxOcbwjlWw"
      },
      "source": [
        "# repeat"
      ]
    },
    {
      "cell_type": "code",
      "metadata": {
        "id": "2A5QuJm4jf6g",
        "outputId": "ec6b92cc-6ae9-4257-d8bd-81b075492810",
        "colab": {
          "base_uri": "https://localhost:8080/",
          "height": 34
        }
      },
      "source": [
        "result = timeit.repeat(\"'-'.join([str(i) for i in range(100)])\", number=20000)\n",
        "print(result)"
      ],
      "execution_count": 4,
      "outputs": [
        {
          "output_type": "stream",
          "text": [
            "[0.3581979950000118, 0.3385718920000045, 0.33854080899999417]\n"
          ],
          "name": "stdout"
        }
      ]
    },
    {
      "cell_type": "markdown",
      "metadata": {
        "id": "Qr8G4yCBjwpd"
      },
      "source": [
        "# Function"
      ]
    },
    {
      "cell_type": "code",
      "metadata": {
        "id": "sxUgZ1cDjq_p"
      },
      "source": [
        "def test():\n",
        "    return '-'.join([str(i) for i in range(100)])"
      ],
      "execution_count": 5,
      "outputs": []
    },
    {
      "cell_type": "code",
      "metadata": {
        "id": "1A6G7IlWj0O-",
        "outputId": "d38e4d06-9b52-4bc8-c7bd-6bf9f94b8ae9",
        "colab": {
          "base_uri": "https://localhost:8080/",
          "height": 34
        }
      },
      "source": [
        "if __name__ == '__main__':\n",
        "    result = timeit.timeit(\"test()\", setup=\"from __main__ import test\", number=20000)    \n",
        "    print(result)"
      ],
      "execution_count": 6,
      "outputs": [
        {
          "output_type": "stream",
          "text": [
            "0.34760020600000985\n"
          ],
          "name": "stdout"
        }
      ]
    },
    {
      "cell_type": "markdown",
      "metadata": {
        "id": "7YkpXa5_j7AF"
      },
      "source": [
        "# Globals"
      ]
    },
    {
      "cell_type": "code",
      "metadata": {
        "id": "tiTm2sLBj2F2",
        "outputId": "94043954-51e5-4249-927b-362f6146300a",
        "colab": {
          "base_uri": "https://localhost:8080/",
          "height": 34
        }
      },
      "source": [
        "result = timeit.timeit(\"test()\", number=20000, globals=globals())\n",
        "print(result)"
      ],
      "execution_count": 7,
      "outputs": [
        {
          "output_type": "stream",
          "text": [
            "0.34593447100002095\n"
          ],
          "name": "stdout"
        }
      ]
    }
  ]
}