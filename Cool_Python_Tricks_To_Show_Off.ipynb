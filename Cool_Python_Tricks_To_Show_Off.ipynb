{
  "nbformat": 4,
  "nbformat_minor": 0,
  "metadata": {
    "colab": {
      "provenance": [],
      "authorship_tag": "ABX9TyNtzqzIU07890mya4/6ghaL"
    },
    "kernelspec": {
      "name": "python3",
      "display_name": "Python 3"
    },
    "language_info": {
      "name": "python"
    }
  },
  "cells": [
    {
      "cell_type": "markdown",
      "source": [
        "[Reference](https://medium.com/@hammad.ai/cool-python-tricks-to-show-off-b0b64a88dbfd)"
      ],
      "metadata": {
        "id": "70h16jXX1Rnl"
      }
    },
    {
      "cell_type": "markdown",
      "source": [
        "# Dynamic Reassignment"
      ],
      "metadata": {
        "id": "sQPIJzbW1Wvk"
      }
    },
    {
      "cell_type": "code",
      "execution_count": 1,
      "metadata": {
        "colab": {
          "base_uri": "https://localhost:8080/"
        },
        "id": "X6ZWva371MuU",
        "outputId": "15eea4c1-6c14-4463-8128-efa42bcee4cf"
      },
      "outputs": [
        {
          "output_type": "stream",
          "name": "stdout",
          "text": [
            "Hi\n"
          ]
        }
      ],
      "source": [
        "def greet():\n",
        "    print(\"Hi\")\n",
        "\n",
        "say_hello = greet  # <-- your focus goes here\n",
        "say_hello()  # output: Hi"
      ]
    },
    {
      "cell_type": "code",
      "source": [
        "print('foo') # output: foo\n",
        "\n",
        "def my_logger(*args, sep=' ', end='\\n'):\n",
        "    with open('./logs', 'wa') as f:\n",
        "        output = sep.join(str(arg) for arg in args)\n",
        "        f.write(output + end)\n",
        "\n",
        "print = my_logger\n",
        "\n",
        "print('foo') # logs the output to a file instead of printing"
      ],
      "metadata": {
        "id": "j0zsk_bp1Vg_"
      },
      "execution_count": 4,
      "outputs": []
    },
    {
      "cell_type": "code",
      "source": [
        "del print # will return the print funciton to its original state"
      ],
      "metadata": {
        "id": "CiiWncVH1ajQ"
      },
      "execution_count": 5,
      "outputs": []
    },
    {
      "cell_type": "code",
      "source": [
        "__builtins__.open = lambda *args, **kwargs: print(\"File access blocked!\")\n",
        "open(\"test.txt\")  # File access blocked!"
      ],
      "metadata": {
        "colab": {
          "base_uri": "https://localhost:8080/"
        },
        "id": "9OmkeBOC1kxJ",
        "outputId": "3b1d95fc-0877-4c04-9877-06140521ee18"
      },
      "execution_count": 6,
      "outputs": [
        {
          "output_type": "stream",
          "name": "stdout",
          "text": [
            "File access blocked!\n"
          ]
        }
      ]
    },
    {
      "cell_type": "markdown",
      "source": [
        "# Lambdas Inside List"
      ],
      "metadata": {
        "id": "SE35LiRn1oza"
      }
    },
    {
      "cell_type": "code",
      "source": [
        "funcs = [lambda x=i: x for i in range(3)]\n",
        "print([f() for f in funcs])  # [0, 1, 2]"
      ],
      "metadata": {
        "colab": {
          "base_uri": "https://localhost:8080/"
        },
        "id": "ljm4EklP1mPq",
        "outputId": "17449d29-be8c-44fe-964c-604f90dd6018"
      },
      "execution_count": 7,
      "outputs": [
        {
          "output_type": "stream",
          "name": "stdout",
          "text": [
            "[0, 1, 2]\n"
          ]
        }
      ]
    },
    {
      "cell_type": "code",
      "source": [
        "def create_handlers(configs):\n",
        "    handlers = []\n",
        "    for conf in configs:\n",
        "        handlers.append(lambda event, conf=conf: f\"Handler for {conf} received event {event}\")\n",
        "    return handlers\n",
        "\n",
        "configs = [\n",
        "  'event handler 1',\n",
        "  'event handler 1',\n",
        "  'event handler 1'\n",
        "  ]\n",
        "handlers = create_handlers(configs)\n",
        "\n",
        "# Simulate triggering events\n",
        "for i, handler in enumerate(handlers):\n",
        "    print(handler(f\"event_{i}\"))"
      ],
      "metadata": {
        "colab": {
          "base_uri": "https://localhost:8080/"
        },
        "id": "qxXEyJjS1rDM",
        "outputId": "6b2480d0-5db4-4dff-d95f-07843477dafa"
      },
      "execution_count": 8,
      "outputs": [
        {
          "output_type": "stream",
          "name": "stdout",
          "text": [
            "Handler for event handler 1 received event event_0\n",
            "Handler for event handler 1 received event event_1\n",
            "Handler for event handler 1 received event event_2\n"
          ]
        }
      ]
    },
    {
      "cell_type": "markdown",
      "source": [
        "# Extended Iterable Unpacking"
      ],
      "metadata": {
        "id": "rW8FUpKQ1uVt"
      }
    },
    {
      "cell_type": "code",
      "source": [
        "a, b, c = [1, 2, 3]\n",
        "\n",
        "print(a) # 1\n",
        "print(b) # 2"
      ],
      "metadata": {
        "colab": {
          "base_uri": "https://localhost:8080/"
        },
        "id": "0lP6mr9j1sut",
        "outputId": "81b7da86-4a6c-4cca-97bb-0c6a714bd432"
      },
      "execution_count": 9,
      "outputs": [
        {
          "output_type": "stream",
          "name": "stdout",
          "text": [
            "1\n",
            "2\n"
          ]
        }
      ]
    },
    {
      "cell_type": "code",
      "source": [
        "first, second, third, *rest_of_the_crap, second_last, last = [i for i in range(100)]"
      ],
      "metadata": {
        "id": "KuKR-gaH1wHt"
      },
      "execution_count": 10,
      "outputs": []
    },
    {
      "cell_type": "markdown",
      "source": [
        "# Swapping Without Temp"
      ],
      "metadata": {
        "id": "0zDhniep11Dg"
      }
    },
    {
      "cell_type": "code",
      "source": [
        "a = 1\n",
        "b = 2\n",
        "\n",
        "print(a) # 1\n",
        "print(b) # 2\n",
        "\n",
        "temp = b\n",
        "\n",
        "b = a\n",
        "a = temp\n",
        "\n",
        "print(a) # 2\n",
        "print(b) # 1"
      ],
      "metadata": {
        "colab": {
          "base_uri": "https://localhost:8080/"
        },
        "id": "IemH2DYi1y57",
        "outputId": "5c2b608c-1eae-4c8e-a7ac-b38c7bda2622"
      },
      "execution_count": 11,
      "outputs": [
        {
          "output_type": "stream",
          "name": "stdout",
          "text": [
            "1\n",
            "2\n",
            "2\n",
            "1\n"
          ]
        }
      ]
    },
    {
      "cell_type": "code",
      "source": [
        "a = 1\n",
        "b = 2\n",
        "\n",
        "print(a) # 1\n",
        "print(b) # 2\n",
        "\n",
        "a, b = b, a\n",
        "\n",
        "print(a) # 2\n",
        "print(b) # 1"
      ],
      "metadata": {
        "colab": {
          "base_uri": "https://localhost:8080/"
        },
        "id": "YHFSCFJX12nk",
        "outputId": "0a4bbf69-4cf3-4cab-e9a0-fd19c2e13818"
      },
      "execution_count": 12,
      "outputs": [
        {
          "output_type": "stream",
          "name": "stdout",
          "text": [
            "1\n",
            "2\n",
            "2\n",
            "1\n"
          ]
        }
      ]
    },
    {
      "cell_type": "markdown",
      "source": [
        "# Chained Comparisons"
      ],
      "metadata": {
        "id": "hgH5ZACL1-1p"
      }
    },
    {
      "cell_type": "code",
      "source": [
        "my_var = 4\n",
        "\n",
        "if ( 'some conditions go here' ):\n",
        "  pass"
      ],
      "metadata": {
        "id": "lEHmX4xZ14w2"
      },
      "execution_count": 15,
      "outputs": []
    },
    {
      "cell_type": "code",
      "source": [
        "my_var = 4\n",
        "\n",
        "if ( my_var > 2 and my_var < 6):\n",
        "  pass"
      ],
      "metadata": {
        "id": "hSWy23ZR2CUi"
      },
      "execution_count": 16,
      "outputs": []
    },
    {
      "cell_type": "code",
      "source": [
        "my_var = 4\n",
        "\n",
        "if ( 6 > my_var > 2):\n",
        "  pass"
      ],
      "metadata": {
        "id": "vl14Cp9i2HRG"
      },
      "execution_count": 17,
      "outputs": []
    },
    {
      "cell_type": "code",
      "source": [
        "for i in range(3):\n",
        "    if i == 99:\n",
        "        break\n",
        "else:\n",
        "    print(\"Did not break!\")  # This will print"
      ],
      "metadata": {
        "colab": {
          "base_uri": "https://localhost:8080/"
        },
        "id": "8O6FRysH2JsX",
        "outputId": "33b9d248-a5ad-412f-e1f4-52b271474cb3"
      },
      "execution_count": 18,
      "outputs": [
        {
          "output_type": "stream",
          "name": "stdout",
          "text": [
            "Did not break!\n"
          ]
        }
      ]
    },
    {
      "cell_type": "markdown",
      "source": [
        "# Walrus Operator"
      ],
      "metadata": {
        "id": "xkNlY3S62QLK"
      }
    },
    {
      "cell_type": "code",
      "source": [
        "if (n := len(\"hello\")) > 3:\n",
        "    print(n)  # 5"
      ],
      "metadata": {
        "colab": {
          "base_uri": "https://localhost:8080/"
        },
        "id": "BvL4EBJP2LPm",
        "outputId": "5008d727-edcc-49e9-b666-4206fabf5c65"
      },
      "execution_count": 19,
      "outputs": [
        {
          "output_type": "stream",
          "name": "stdout",
          "text": [
            "5\n"
          ]
        }
      ]
    },
    {
      "cell_type": "markdown",
      "source": [
        "# Meta Classes"
      ],
      "metadata": {
        "id": "onRMFT9H2S0y"
      }
    },
    {
      "cell_type": "code",
      "source": [
        "class MyMeta(type):\n",
        "    def __new__(cls, name, bases, dct):\n",
        "        dct['magic'] = lambda self: \"✨\"\n",
        "        return super().__new__(cls, name, bases, dct)\n",
        "\n",
        "class MyClass(metaclass=MyMeta):\n",
        "    pass\n",
        "\n",
        "print(MyClass().magic())  # ✨"
      ],
      "metadata": {
        "colab": {
          "base_uri": "https://localhost:8080/"
        },
        "id": "Z3vMl2yI2Rko",
        "outputId": "f2fb979a-5745-4b66-a5d7-0fdfd126b26e"
      },
      "execution_count": 20,
      "outputs": [
        {
          "output_type": "stream",
          "name": "stdout",
          "text": [
            "✨\n"
          ]
        }
      ]
    },
    {
      "cell_type": "markdown",
      "source": [
        "# Using __getattr__ / __getattribute__ to Fake Everything"
      ],
      "metadata": {
        "id": "AlUJixb72Ys_"
      }
    },
    {
      "cell_type": "code",
      "source": [
        "class A:\n",
        "\n",
        "    my_var = 123\n",
        "\n",
        "    def __getattribute__(self, name):\n",
        "        print(f\"Looking for attribute: {name}\")\n",
        "        return super().__getattribute__(name)"
      ],
      "metadata": {
        "id": "-Jpvzc422Vff"
      },
      "execution_count": 21,
      "outputs": []
    },
    {
      "cell_type": "code",
      "source": [
        "print( A.my_var ) # this will NOT trigger the custom __getattribute__\n",
        "\n",
        "print( A().my_var ) # this will trigger the custom __getattribute__"
      ],
      "metadata": {
        "colab": {
          "base_uri": "https://localhost:8080/"
        },
        "id": "BgwG-aR42Z9U",
        "outputId": "544ddc4e-ac7c-45b4-c620-c2b96b33d0ed"
      },
      "execution_count": 22,
      "outputs": [
        {
          "output_type": "stream",
          "name": "stdout",
          "text": [
            "123\n",
            "Looking for attribute: my_var\n",
            "123\n"
          ]
        }
      ]
    },
    {
      "cell_type": "code",
      "source": [
        "class A:\n",
        "    def __getattr__(self, name):\n",
        "        print(f\"{name} not found — using fallback\")\n",
        "        return \"something else?\""
      ],
      "metadata": {
        "id": "gjUqsnXH2dh9"
      },
      "execution_count": 23,
      "outputs": []
    },
    {
      "cell_type": "markdown",
      "source": [
        "# Dynamic Class Creation"
      ],
      "metadata": {
        "id": "7ACDo8MC2hFW"
      }
    },
    {
      "cell_type": "code",
      "source": [
        "MyDynamicClass = type(\"MyDynamicClass\", (), {\"x\": 42})\n",
        "print(MyDynamicClass().x)  # 42"
      ],
      "metadata": {
        "colab": {
          "base_uri": "https://localhost:8080/"
        },
        "id": "Kx8LH5PE2e5o",
        "outputId": "daa5b264-2550-4ce9-b5c9-1ca651fd72bc"
      },
      "execution_count": 24,
      "outputs": [
        {
          "output_type": "stream",
          "name": "stdout",
          "text": [
            "42\n"
          ]
        }
      ]
    },
    {
      "cell_type": "markdown",
      "source": [
        "# Overloading Operators For DSL-Like Code"
      ],
      "metadata": {
        "id": "B0MR8d032kxz"
      }
    },
    {
      "cell_type": "code",
      "source": [
        "class Num:\n",
        "    def __init__(self, value): self.value = value\n",
        "    def __add__(self, other): return Num(self.value + other.value)\n",
        "    def __repr__(self): return f\"Num({self.value})\"\n",
        "\n",
        "print(Num(5) + Num(3))\n",
        "\n",
        "print(Num(5) - Num(3))"
      ],
      "metadata": {
        "colab": {
          "base_uri": "https://localhost:8080/",
          "height": 190
        },
        "id": "isZ8pzyI2ivG",
        "outputId": "13ab637e-a023-46e8-9b02-ecf78d6f28f4"
      },
      "execution_count": 25,
      "outputs": [
        {
          "output_type": "stream",
          "name": "stdout",
          "text": [
            "Num(8)\n"
          ]
        },
        {
          "output_type": "error",
          "ename": "TypeError",
          "evalue": "unsupported operand type(s) for -: 'Num' and 'Num'",
          "traceback": [
            "\u001b[0;31m---------------------------------------------------------------------------\u001b[0m",
            "\u001b[0;31mTypeError\u001b[0m                                 Traceback (most recent call last)",
            "\u001b[0;32m<ipython-input-25-913108805d6b>\u001b[0m in \u001b[0;36m<cell line: 0>\u001b[0;34m()\u001b[0m\n\u001b[1;32m      6\u001b[0m \u001b[0mprint\u001b[0m\u001b[0;34m(\u001b[0m\u001b[0mNum\u001b[0m\u001b[0;34m(\u001b[0m\u001b[0;36m5\u001b[0m\u001b[0;34m)\u001b[0m \u001b[0;34m+\u001b[0m \u001b[0mNum\u001b[0m\u001b[0;34m(\u001b[0m\u001b[0;36m3\u001b[0m\u001b[0;34m)\u001b[0m\u001b[0;34m)\u001b[0m\u001b[0;34m\u001b[0m\u001b[0;34m\u001b[0m\u001b[0m\n\u001b[1;32m      7\u001b[0m \u001b[0;34m\u001b[0m\u001b[0m\n\u001b[0;32m----> 8\u001b[0;31m \u001b[0mprint\u001b[0m\u001b[0;34m(\u001b[0m\u001b[0mNum\u001b[0m\u001b[0;34m(\u001b[0m\u001b[0;36m5\u001b[0m\u001b[0;34m)\u001b[0m \u001b[0;34m-\u001b[0m \u001b[0mNum\u001b[0m\u001b[0;34m(\u001b[0m\u001b[0;36m3\u001b[0m\u001b[0;34m)\u001b[0m\u001b[0;34m)\u001b[0m\u001b[0;34m\u001b[0m\u001b[0;34m\u001b[0m\u001b[0m\n\u001b[0m",
            "\u001b[0;31mTypeError\u001b[0m: unsupported operand type(s) for -: 'Num' and 'Num'"
          ]
        }
      ]
    },
    {
      "cell_type": "markdown",
      "source": [
        "# Self-Defining Functions"
      ],
      "metadata": {
        "id": "LUFgbGGt2pDA"
      }
    },
    {
      "cell_type": "code",
      "source": [
        "def f():\n",
        "    print(\"First time\")\n",
        "    global f\n",
        "    f = lambda: print(\"Now I do something else\")\n",
        "\n",
        "f()  # First time\n",
        "f()  # Now I do something else"
      ],
      "metadata": {
        "colab": {
          "base_uri": "https://localhost:8080/"
        },
        "id": "hNAhuKK62nW3",
        "outputId": "c40076f4-5bd3-4a4c-ba75-f451654947c6"
      },
      "execution_count": 26,
      "outputs": [
        {
          "output_type": "stream",
          "name": "stdout",
          "text": [
            "First time\n",
            "Now I do something else\n"
          ]
        }
      ]
    }
  ]
}