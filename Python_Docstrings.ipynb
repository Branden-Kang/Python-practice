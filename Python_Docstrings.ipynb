{
  "nbformat": 4,
  "nbformat_minor": 0,
  "metadata": {
    "colab": {
      "name": "Python Docstrings.ipynb",
      "provenance": [],
      "authorship_tag": "ABX9TyNYe62/kgvSIrIKsb6UooZ2"
    },
    "kernelspec": {
      "name": "python3",
      "display_name": "Python 3"
    }
  },
  "cells": [
    {
      "cell_type": "markdown",
      "metadata": {
        "id": "JuXlXFCJefso"
      },
      "source": [
        "[Reference](https://medium.com/better-programming/the-guide-to-python-docstrings-3d40340e824b)"
      ]
    },
    {
      "cell_type": "markdown",
      "metadata": {
        "id": "IQlHAOY2fwRS"
      },
      "source": [
        "# Sphinx Style"
      ]
    },
    {
      "cell_type": "code",
      "metadata": {
        "id": "UZ0iwmGQbWn8",
        "outputId": "9464a1cc-9ff3-483b-d710-662ed6af4450",
        "colab": {
          "base_uri": "https://localhost:8080/",
          "height": 88
        }
      },
      "source": [
        "\"\"\"< Summary. >:param <variable_name>: <variable_description>, defaults to <default_value>\n",
        ":type <variable_name>: <variable_type>(, optional)\n",
        "<other parameters and types>:raises <error_type>: <error_description>\n",
        "<other exceptions>:rtype: <return_type>\n",
        ":return: <return_description>\n",
        "\"\"\""
      ],
      "execution_count": 1,
      "outputs": [
        {
          "output_type": "execute_result",
          "data": {
            "application/vnd.google.colaboratory.intrinsic+json": {
              "type": "string"
            },
            "text/plain": [
              "'< Summary. >:param <variable_name>: <variable_description>, defaults to <default_value>\\n:type <variable_name>: <variable_type>(, optional)\\n<other parameters and types>:raises <error_type>: <error_description>\\n<other exceptions>:rtype: <return_type>\\n:return: <return_description>\\n'"
            ]
          },
          "metadata": {
            "tags": []
          },
          "execution_count": 1
        }
      ]
    }
  ]
}