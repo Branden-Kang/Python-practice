{
  "nbformat": 4,
  "nbformat_minor": 0,
  "metadata": {
    "colab": {
      "name": "Python list comprehension.ipynb",
      "provenance": [],
      "authorship_tag": "ABX9TyMMPknGhOtv03h0XnKAdYho"
    },
    "kernelspec": {
      "name": "python3",
      "display_name": "Python 3"
    }
  },
  "cells": [
    {
      "cell_type": "markdown",
      "metadata": {
        "id": "g3_R9Pds3uXy",
        "colab_type": "text"
      },
      "source": [
        "[Reference](https://levelup.gitconnected.com/3-python-list-comprehension-tricks-you-might-not-know-yet-5891d904ee76)"
      ]
    },
    {
      "cell_type": "code",
      "metadata": {
        "id": "5h2oC2vD2M-9",
        "colab_type": "code",
        "colab": {}
      },
      "source": [
        "words = ['goodbye', 'cruel', 'world']"
      ],
      "execution_count": 2,
      "outputs": []
    },
    {
      "cell_type": "code",
      "metadata": {
        "id": "eS2MDiQT2ODZ",
        "colab_type": "code",
        "colab": {}
      },
      "source": [
        "lengths = [len(x) for x in words]"
      ],
      "execution_count": 3,
      "outputs": []
    },
    {
      "cell_type": "code",
      "metadata": {
        "id": "6bO2N15C3MNq",
        "colab_type": "code",
        "colab": {}
      },
      "source": [
        "# Not the pythonic way!\n",
        "lengths = []\n",
        "for word in words:\n",
        "    lengths.append(len(word))"
      ],
      "execution_count": 4,
      "outputs": []
    },
    {
      "cell_type": "markdown",
      "metadata": {
        "id": "4yTBUgwM3Qru",
        "colab_type": "text"
      },
      "source": [
        "# 1. Dictionary comprehension"
      ]
    },
    {
      "cell_type": "code",
      "metadata": {
        "id": "c0KnDYP-3OGA",
        "colab_type": "code",
        "colab": {}
      },
      "source": [
        "data = {word: len(word) for word in words}"
      ],
      "execution_count": 5,
      "outputs": []
    },
    {
      "cell_type": "code",
      "metadata": {
        "id": "KqGXjCPp3S3G",
        "colab_type": "code",
        "colab": {
          "base_uri": "https://localhost:8080/",
          "height": 34
        },
        "outputId": "746c1f10-0a83-4e18-b985-bfd1d9960f45"
      },
      "source": [
        "data"
      ],
      "execution_count": 6,
      "outputs": [
        {
          "output_type": "execute_result",
          "data": {
            "text/plain": [
              "{'cruel': 5, 'goodbye': 7, 'world': 5}"
            ]
          },
          "metadata": {
            "tags": []
          },
          "execution_count": 6
        }
      ]
    },
    {
      "cell_type": "code",
      "metadata": {
        "id": "Q0lzYshD3TrN",
        "colab_type": "code",
        "colab": {}
      },
      "source": [
        "words = [\"hello\", \"old\", \"friend\"]"
      ],
      "execution_count": 7,
      "outputs": []
    },
    {
      "cell_type": "code",
      "metadata": {
        "id": "lv29ZiFx3WGX",
        "colab_type": "code",
        "colab": {}
      },
      "source": [
        "lengths = [len(word) for word in words]"
      ],
      "execution_count": 8,
      "outputs": []
    },
    {
      "cell_type": "code",
      "metadata": {
        "id": "64gdunFr3W5j",
        "colab_type": "code",
        "colab": {}
      },
      "source": [
        "data = dict(zip(words, lengths))"
      ],
      "execution_count": 9,
      "outputs": []
    },
    {
      "cell_type": "code",
      "metadata": {
        "id": "cm9S03bN3X-6",
        "colab_type": "code",
        "colab": {
          "base_uri": "https://localhost:8080/",
          "height": 34
        },
        "outputId": "af568df6-f56b-4ee1-8b0b-58dc1f61b1ea"
      },
      "source": [
        "data"
      ],
      "execution_count": 10,
      "outputs": [
        {
          "output_type": "execute_result",
          "data": {
            "text/plain": [
              "{'friend': 6, 'hello': 5, 'old': 3}"
            ]
          },
          "metadata": {
            "tags": []
          },
          "execution_count": 10
        }
      ]
    },
    {
      "cell_type": "markdown",
      "metadata": {
        "id": "p8rlHZLC3Znf",
        "colab_type": "text"
      },
      "source": [
        "# 2. Filtering"
      ]
    },
    {
      "cell_type": "code",
      "metadata": {
        "id": "QLRNsKlv3YkT",
        "colab_type": "code",
        "colab": {}
      },
      "source": [
        "words = ['deified', 'radar', 'guns']"
      ],
      "execution_count": 11,
      "outputs": []
    },
    {
      "cell_type": "code",
      "metadata": {
        "id": "isoxruEr3bU6",
        "colab_type": "code",
        "colab": {}
      },
      "source": [
        "palindromes = [word for word in words if word == word[::-1]]"
      ],
      "execution_count": 12,
      "outputs": []
    },
    {
      "cell_type": "code",
      "metadata": {
        "id": "sE3i-Umw3chj",
        "colab_type": "code",
        "colab": {
          "base_uri": "https://localhost:8080/",
          "height": 34
        },
        "outputId": "8a14541e-1ca5-400f-cdfd-06930c68e0d3"
      },
      "source": [
        "palindromes"
      ],
      "execution_count": 13,
      "outputs": [
        {
          "output_type": "execute_result",
          "data": {
            "text/plain": [
              "['deified', 'radar']"
            ]
          },
          "metadata": {
            "tags": []
          },
          "execution_count": 13
        }
      ]
    },
    {
      "cell_type": "code",
      "metadata": {
        "id": "85vpY-113dtM",
        "colab_type": "code",
        "colab": {}
      },
      "source": [
        "words = [\"not\", \"on\", \"my\", \"watch\"]"
      ],
      "execution_count": 14,
      "outputs": []
    },
    {
      "cell_type": "code",
      "metadata": {
        "id": "nfPZzAD63e_0",
        "colab_type": "code",
        "colab": {}
      },
      "source": [
        "data = {w: w[::-1] for w in words if len(w) < 5}"
      ],
      "execution_count": 15,
      "outputs": []
    }
  ]
}