{
  "nbformat": 4,
  "nbformat_minor": 0,
  "metadata": {
    "colab": {
      "name": "Untitled0.ipynb",
      "provenance": [],
      "authorship_tag": "ABX9TyPhraag7iGj6AtKgwV+bsAd"
    },
    "kernelspec": {
      "name": "python3",
      "display_name": "Python 3"
    },
    "language_info": {
      "name": "python"
    }
  },
  "cells": [
    {
      "cell_type": "markdown",
      "metadata": {
        "id": "sSCle5WogZOv"
      },
      "source": [
        "[Reference](https://towardsdatascience.com/a-conceptual-explanation-of-bayesian-model-based-hyperparameter-optimization-for-machine-learning-b8172278050f)"
      ]
    },
    {
      "cell_type": "code",
      "metadata": {
        "id": "3MvwGOS5gW0a"
      },
      "source": [
        "hyperparameter_grid = {\n",
        "    'n_estimators': [100, 200, 300, 400, 500, 600],\n",
        "    'max_depth': [2, 5, 10, 15, 20, 25, 30, 35, 40],\n",
        "    'min_samples_leaf': [1, 2, 3, 4, 5, 6, 7, 8]\n",
        "}"
      ],
      "execution_count": 1,
      "outputs": []
    },
    {
      "cell_type": "markdown",
      "metadata": {
        "id": "oDhGTKWvg4iK"
      },
      "source": [
        "# Objective Function"
      ]
    },
    {
      "cell_type": "code",
      "metadata": {
        "id": "lIYbZaMLgYkv"
      },
      "source": [
        "import numpy as np\n",
        "from sklearn.ensemble import RandomForestRegressor\n",
        "\n",
        "# Function mapping hyperparameters to a real-valued scpre\n",
        "def objective(hyperparameters):\n",
        "    \n",
        "    # Machine learning model\n",
        "    rf = RandomForestRegressor(**hyperparameters)\n",
        "    \n",
        "    # Training \n",
        "    rf.fit(X_train, y_train)\n",
        "    \n",
        "    # Making predictions and evaluating\n",
        "    predictions = rf.predict(X_valid)\n",
        "    rmse = np.sqrt(np.mean(np.square(prediction - y_valid)))\n",
        "    \n",
        "    return rmse"
      ],
      "execution_count": 3,
      "outputs": []
    },
    {
      "cell_type": "markdown",
      "metadata": {
        "id": "CiVom1Dug7kg"
      },
      "source": [
        "# Surrogate Function (Probability Model)"
      ]
    },
    {
      "cell_type": "markdown",
      "metadata": {
        "id": "guynbNQ5hBzh"
      },
      "source": [
        "# Selection Function"
      ]
    },
    {
      "cell_type": "markdown",
      "metadata": {
        "id": "3uRvTzlyhDeA"
      },
      "source": [
        "![equation](https://miro.medium.com/max/716/1*ebsqjhOTSGKBbIR_RLkjSQ.png)"
      ]
    }
  ]
}