{
  "nbformat": 4,
  "nbformat_minor": 0,
  "metadata": {
    "colab": {
      "provenance": [],
      "authorship_tag": "ABX9TyNcRbtPQuf8t1nIwj8GAJoD"
    },
    "kernelspec": {
      "name": "python3",
      "display_name": "Python 3"
    },
    "language_info": {
      "name": "python"
    }
  },
  "cells": [
    {
      "cell_type": "markdown",
      "source": [
        "[Reference](https://medium.com/@sarowar.saurav10/20-advanced-statistical-approaches-every-data-scientist-should-know-ccc70ae4df28)"
      ],
      "metadata": {
        "id": "4iUYwsH7GpLs"
      }
    },
    {
      "cell_type": "markdown",
      "source": [
        "# . Bayesian Inference"
      ],
      "metadata": {
        "id": "kVOvBEwaGs1W"
      }
    },
    {
      "cell_type": "code",
      "execution_count": 1,
      "metadata": {
        "id": "B3aWGb2UGmMn"
      },
      "outputs": [],
      "source": [
        "# !pip install pymc3  # or pymc"
      ]
    },
    {
      "cell_type": "code",
      "source": [
        "import pymc3 as pm\n",
        "import numpy as np\n",
        "# Suppose we observed 20 coin flips with 12 heads and 8 tails\n",
        "observed_heads = 12\n",
        "observed_tails = 8\n",
        "with pm.Model() as model:\n",
        "    # Prior for the bias of the coin (theta)\n",
        "    theta = pm.Beta('theta', alpha=1, beta=1)\n",
        "\n",
        "    # Likelihood\n",
        "    y = pm.Binomial('y', n=observed_heads + observed_tails, p=theta, observed=observed_heads)\n",
        "\n",
        "    # Posterior sampling\n",
        "    trace = pm.sample(2000, tune=1000, cores=1, chains=2)\n",
        "pm.summary(trace)"
      ],
      "metadata": {
        "id": "rZI60IUxGu3e"
      },
      "execution_count": 3,
      "outputs": []
    },
    {
      "cell_type": "markdown",
      "source": [
        "# 2. Maximum Likelihood Estimation (MLE)"
      ],
      "metadata": {
        "id": "46mxsAjiGwzF"
      }
    },
    {
      "cell_type": "code",
      "source": [
        "import numpy as np\n",
        "from scipy.stats import norm\n",
        "\n",
        "# Generate synthetic data\n",
        "data = np.random.normal(loc=5, scale=2, size=1000)\n",
        "# Estimate MLE for mean and standard deviation\n",
        "mu_hat, std_hat = norm.fit(data)\n",
        "print(f\"Estimated Mean (mu): {mu_hat:.2f}\")\n",
        "print(f\"Estimated Std (sigma): {std_hat:.2f}\")"
      ],
      "metadata": {
        "colab": {
          "base_uri": "https://localhost:8080/"
        },
        "id": "ECireEMZGvvt",
        "outputId": "3ba60c4f-e03a-4b23-f796-faf8f8ca5443"
      },
      "execution_count": 4,
      "outputs": [
        {
          "output_type": "stream",
          "name": "stdout",
          "text": [
            "Estimated Mean (mu): 5.10\n",
            "Estimated Std (sigma): 2.03\n"
          ]
        }
      ]
    },
    {
      "cell_type": "markdown",
      "source": [
        "# 3. Hypothesis Testing (t-test)"
      ],
      "metadata": {
        "id": "__bIM_w9Gz6S"
      }
    },
    {
      "cell_type": "code",
      "source": [
        "import numpy as np\n",
        "from scipy.stats import ttest_ind\n",
        "\n",
        "# Synthetic data\n",
        "group_A = np.random.normal(5, 1, 50)\n",
        "group_B = np.random.normal(5.5, 1.2, 50)\n",
        "stat, pvalue = ttest_ind(group_A, group_B)\n",
        "print(f\"T-statistic: {stat:.2f}, p-value: {pvalue:.4f}\")\n",
        "if pvalue < 0.05:\n",
        "    print(\"Reject the null hypothesis (Significant difference).\")\n",
        "else:\n",
        "    print(\"Fail to reject the null hypothesis (No significant difference).\")"
      ],
      "metadata": {
        "colab": {
          "base_uri": "https://localhost:8080/"
        },
        "id": "7HFW7QImGy3-",
        "outputId": "45f08c47-87d0-480a-cdcc-11b0c03e1458"
      },
      "execution_count": 5,
      "outputs": [
        {
          "output_type": "stream",
          "name": "stdout",
          "text": [
            "T-statistic: -1.69, p-value: 0.0951\n",
            "Fail to reject the null hypothesis (No significant difference).\n"
          ]
        }
      ]
    },
    {
      "cell_type": "markdown",
      "source": [
        "# 4. Analysis of Variance (ANOVA)"
      ],
      "metadata": {
        "id": "nUWuxBvQG5yG"
      }
    },
    {
      "cell_type": "code",
      "source": [
        "import numpy as np\n",
        "from scipy.stats import f_oneway"
      ],
      "metadata": {
        "id": "8TnPfFg2G7Kr"
      },
      "execution_count": 6,
      "outputs": []
    },
    {
      "cell_type": "code",
      "source": [
        "# Synthetic data\n",
        "group1 = np.random.normal(10, 2, 30)\n",
        "group2 = np.random.normal(12, 2, 30)\n",
        "group3 = np.random.normal(14, 2, 30)\n",
        "f_stat, p_val = f_oneway(group1, group2, group3)\n",
        "print(f\"F-statistic: {f_stat:.2f}, p-value: {p_val:.4f}\")"
      ],
      "metadata": {
        "colab": {
          "base_uri": "https://localhost:8080/"
        },
        "id": "d8xr0iGoHKJg",
        "outputId": "8df18417-d816-4b55-bec9-af9295e50d71"
      },
      "execution_count": 7,
      "outputs": [
        {
          "output_type": "stream",
          "name": "stdout",
          "text": [
            "F-statistic: 28.73, p-value: 0.0000\n"
          ]
        }
      ]
    },
    {
      "cell_type": "markdown",
      "source": [
        "# 5. Principal Component Analysis (PCA)"
      ],
      "metadata": {
        "id": "Qss6mfeyHOnN"
      }
    },
    {
      "cell_type": "code",
      "source": [
        "import numpy as np\n",
        "from sklearn.decomposition import PCA\n",
        "\n",
        "# Synthetic data: 100 samples with 10 features\n",
        "X = np.random.rand(100, 10)\n",
        "pca = PCA(n_components=2)\n",
        "X_reduced = pca.fit_transform(X)\n",
        "print(\"Explained variance ratios:\", pca.explained_variance_ratio_)\n",
        "print(\"Reduced shape:\", X_reduced.shape)"
      ],
      "metadata": {
        "colab": {
          "base_uri": "https://localhost:8080/"
        },
        "id": "hJf92l5pHN2K",
        "outputId": "748f84cf-2346-4aa3-cf92-856e790aa614"
      },
      "execution_count": 8,
      "outputs": [
        {
          "output_type": "stream",
          "name": "stdout",
          "text": [
            "Explained variance ratios: [0.1628421  0.15190132]\n",
            "Reduced shape: (100, 2)\n"
          ]
        }
      ]
    },
    {
      "cell_type": "markdown",
      "source": [
        "# 6. Factor Analysis"
      ],
      "metadata": {
        "id": "V3Y6-FqPHRa4"
      }
    },
    {
      "cell_type": "code",
      "source": [
        "!pip install factor_analyzer"
      ],
      "metadata": {
        "colab": {
          "base_uri": "https://localhost:8080/"
        },
        "id": "fWhY4hRVHQZ5",
        "outputId": "b2d95f60-547f-4978-f7bf-85594c0fafaf"
      },
      "execution_count": 9,
      "outputs": [
        {
          "output_type": "stream",
          "name": "stdout",
          "text": [
            "Collecting factor_analyzer\n",
            "  Downloading factor_analyzer-0.5.1.tar.gz (42 kB)\n",
            "\u001b[?25l     \u001b[90m━━━━━━━━━━━━━━━━━━━━━━━━━━━━━━━━━━━━━━━━\u001b[0m \u001b[32m0.0/42.8 kB\u001b[0m \u001b[31m?\u001b[0m eta \u001b[36m-:--:--\u001b[0m\r\u001b[2K     \u001b[90m━━━━━━━━━━━━━━━━━━━━━━━━━━━━━━━━━━━━━━━━\u001b[0m \u001b[32m42.8/42.8 kB\u001b[0m \u001b[31m2.5 MB/s\u001b[0m eta \u001b[36m0:00:00\u001b[0m\n",
            "\u001b[?25h  Installing build dependencies ... \u001b[?25l\u001b[?25hdone\n",
            "  Getting requirements to build wheel ... \u001b[?25l\u001b[?25hdone\n",
            "  Preparing metadata (pyproject.toml) ... \u001b[?25l\u001b[?25hdone\n",
            "Requirement already satisfied: pandas in /usr/local/lib/python3.11/dist-packages (from factor_analyzer) (2.2.2)\n",
            "Requirement already satisfied: scipy in /usr/local/lib/python3.11/dist-packages (from factor_analyzer) (1.13.1)\n",
            "Requirement already satisfied: numpy in /usr/local/lib/python3.11/dist-packages (from factor_analyzer) (1.26.4)\n",
            "Requirement already satisfied: scikit-learn in /usr/local/lib/python3.11/dist-packages (from factor_analyzer) (1.6.1)\n",
            "Requirement already satisfied: python-dateutil>=2.8.2 in /usr/local/lib/python3.11/dist-packages (from pandas->factor_analyzer) (2.8.2)\n",
            "Requirement already satisfied: pytz>=2020.1 in /usr/local/lib/python3.11/dist-packages (from pandas->factor_analyzer) (2025.1)\n",
            "Requirement already satisfied: tzdata>=2022.7 in /usr/local/lib/python3.11/dist-packages (from pandas->factor_analyzer) (2025.1)\n",
            "Requirement already satisfied: joblib>=1.2.0 in /usr/local/lib/python3.11/dist-packages (from scikit-learn->factor_analyzer) (1.4.2)\n",
            "Requirement already satisfied: threadpoolctl>=3.1.0 in /usr/local/lib/python3.11/dist-packages (from scikit-learn->factor_analyzer) (3.5.0)\n",
            "Requirement already satisfied: six>=1.5 in /usr/local/lib/python3.11/dist-packages (from python-dateutil>=2.8.2->pandas->factor_analyzer) (1.17.0)\n",
            "Building wheels for collected packages: factor_analyzer\n",
            "  Building wheel for factor_analyzer (pyproject.toml) ... \u001b[?25l\u001b[?25hdone\n",
            "  Created wheel for factor_analyzer: filename=factor_analyzer-0.5.1-py2.py3-none-any.whl size=42622 sha256=751b76b0b7041ab34ae57a8fb2d12260c00542bbe494a527a64d2b4a63627f53\n",
            "  Stored in directory: /root/.cache/pip/wheels/fa/f7/53/a55a8a56668a6fe0199e0e02b6e0ae3007ec35cdf6e4c25df7\n",
            "Successfully built factor_analyzer\n",
            "Installing collected packages: factor_analyzer\n",
            "Successfully installed factor_analyzer-0.5.1\n"
          ]
        }
      ]
    },
    {
      "cell_type": "code",
      "source": [
        "import numpy as np\n",
        "from factor_analyzer import FactorAnalyzer\n",
        "# Synthetic data (100 samples, 6 variables)\n",
        "X = np.random.rand(100, 6)\n",
        "fa = FactorAnalyzer(n_factors=2, rotation='varimax')\n",
        "fa.fit(X)\n",
        "print(\"Loadings:\\n\", fa.loadings_)"
      ],
      "metadata": {
        "colab": {
          "base_uri": "https://localhost:8080/"
        },
        "id": "PtumkvP9HTUP",
        "outputId": "29b36d6e-7a94-4926-dee3-897578230526"
      },
      "execution_count": 10,
      "outputs": [
        {
          "output_type": "stream",
          "name": "stdout",
          "text": [
            "Loadings:\n",
            " [[ 0.74531448  0.14831325]\n",
            " [ 0.25965966  0.41037383]\n",
            " [ 0.03783413  0.27689512]\n",
            " [-0.20946034  0.03037429]\n",
            " [-0.34058472  0.56439948]\n",
            " [-0.23740139 -0.03260961]]\n"
          ]
        },
        {
          "output_type": "stream",
          "name": "stderr",
          "text": [
            "/usr/local/lib/python3.11/dist-packages/sklearn/utils/deprecation.py:151: FutureWarning: 'force_all_finite' was renamed to 'ensure_all_finite' in 1.6 and will be removed in 1.8.\n",
            "  warnings.warn(\n"
          ]
        }
      ]
    },
    {
      "cell_type": "markdown",
      "source": [
        "# 7. Cluster Analysis (K-means)"
      ],
      "metadata": {
        "id": "jYeD-cwKHUbp"
      }
    },
    {
      "cell_type": "code",
      "source": [
        "import numpy as np\n",
        "from sklearn.cluster import KMeans\n",
        "\n",
        "# Synthetic data: 200 samples, 2D\n",
        "X = np.random.rand(200, 2)\n",
        "kmeans = KMeans(n_clusters=3, random_state=42)\n",
        "kmeans.fit(X)\n",
        "print(\"Cluster centers:\", kmeans.cluster_centers_)\n",
        "print(\"Cluster labels:\", kmeans.labels_[:10])"
      ],
      "metadata": {
        "colab": {
          "base_uri": "https://localhost:8080/"
        },
        "id": "UKS1zFwkHTgJ",
        "outputId": "b64178e2-6402-4ea8-b5af-7062295f53b7"
      },
      "execution_count": 12,
      "outputs": [
        {
          "output_type": "stream",
          "name": "stdout",
          "text": [
            "Cluster centers: [[0.28086246 0.2246033 ]\n",
            " [0.37150861 0.79332293]\n",
            " [0.787493   0.44989032]]\n",
            "Cluster labels: [2 2 0 1 0 2 2 0 1 2]\n"
          ]
        }
      ]
    },
    {
      "cell_type": "markdown",
      "source": [
        "# 8. Bootstrapping"
      ],
      "metadata": {
        "id": "RGIEVYX8HaEO"
      }
    },
    {
      "cell_type": "code",
      "source": [
        "import numpy as np\n",
        "\n",
        "np.random.seed(42)\n",
        "data = np.random.normal(50, 5, size=100)  # Original sample\n",
        "def bootstrap_mean_ci(data, n_bootstraps=1000, ci=95):\n",
        "    means = []\n",
        "    n = len(data)\n",
        "    for _ in range(n_bootstraps):\n",
        "        sample = np.random.choice(data, size=n, replace=True)\n",
        "        means.append(np.mean(sample))\n",
        "    lower = np.percentile(means, (100-ci)/2)\n",
        "    upper = np.percentile(means, 100 - (100-ci)/2)\n",
        "    return np.mean(means), (lower, upper)\n",
        "mean_estimate, (lower_ci, upper_ci) = bootstrap_mean_ci(data)\n",
        "print(f\"Bootstrap Mean: {mean_estimate:.2f}\")\n",
        "print(f\"{95}% CI: [{lower_ci:.2f}, {upper_ci:.2f}]\")"
      ],
      "metadata": {
        "colab": {
          "base_uri": "https://localhost:8080/"
        },
        "id": "xa28EHcgHXbD",
        "outputId": "aabbd4ed-8b91-4e9b-ddad-7f5a730f2f83"
      },
      "execution_count": 13,
      "outputs": [
        {
          "output_type": "stream",
          "name": "stdout",
          "text": [
            "Bootstrap Mean: 49.49\n",
            "95% CI: [48.64, 50.31]\n"
          ]
        }
      ]
    },
    {
      "cell_type": "markdown",
      "source": [
        "# 9. Time Series Analysis (ARIMA)"
      ],
      "metadata": {
        "id": "ydNHDzQ7Hdi3"
      }
    },
    {
      "cell_type": "code",
      "source": [
        "!pip install statsmodels\n",
        "\n",
        "import numpy as np\n",
        "import pandas as pd\n",
        "from statsmodels.tsa.arima.model import ARIMA\n",
        "# Synthetic time series data\n",
        "np.random.seed(42)\n",
        "data = np.random.normal(100, 5, 50)\n",
        "time_series = pd.Series(data)\n",
        "# Fit ARIMA model (p=1, d=1, q=1)\n",
        "model = ARIMA(time_series, order=(1,1,1))\n",
        "model_fit = model.fit()\n",
        "# Forecast next 5 points\n",
        "forecast = model_fit.forecast(steps=5)\n",
        "print(\"Forecast:\", forecast.values)"
      ],
      "metadata": {
        "colab": {
          "base_uri": "https://localhost:8080/"
        },
        "id": "8D0O-O0ZHcpQ",
        "outputId": "76f3c853-62cf-4ce7-c3e0-77f87b2f480a"
      },
      "execution_count": 14,
      "outputs": [
        {
          "output_type": "stream",
          "name": "stdout",
          "text": [
            "Requirement already satisfied: statsmodels in /usr/local/lib/python3.11/dist-packages (0.14.4)\n",
            "Requirement already satisfied: numpy<3,>=1.22.3 in /usr/local/lib/python3.11/dist-packages (from statsmodels) (1.26.4)\n",
            "Requirement already satisfied: scipy!=1.9.2,>=1.8 in /usr/local/lib/python3.11/dist-packages (from statsmodels) (1.13.1)\n",
            "Requirement already satisfied: pandas!=2.1.0,>=1.4 in /usr/local/lib/python3.11/dist-packages (from statsmodels) (2.2.2)\n",
            "Requirement already satisfied: patsy>=0.5.6 in /usr/local/lib/python3.11/dist-packages (from statsmodels) (1.0.1)\n",
            "Requirement already satisfied: packaging>=21.3 in /usr/local/lib/python3.11/dist-packages (from statsmodels) (24.2)\n",
            "Requirement already satisfied: python-dateutil>=2.8.2 in /usr/local/lib/python3.11/dist-packages (from pandas!=2.1.0,>=1.4->statsmodels) (2.8.2)\n",
            "Requirement already satisfied: pytz>=2020.1 in /usr/local/lib/python3.11/dist-packages (from pandas!=2.1.0,>=1.4->statsmodels) (2025.1)\n",
            "Requirement already satisfied: tzdata>=2022.7 in /usr/local/lib/python3.11/dist-packages (from pandas!=2.1.0,>=1.4->statsmodels) (2025.1)\n",
            "Requirement already satisfied: six>=1.5 in /usr/local/lib/python3.11/dist-packages (from python-dateutil>=2.8.2->pandas!=2.1.0,>=1.4->statsmodels) (1.17.0)\n",
            "Forecast: [98.26367322 98.50344679 98.51156834 98.51184343 98.51185274]\n"
          ]
        }
      ]
    },
    {
      "cell_type": "markdown",
      "source": [
        "# 10. Survival Analysis\n"
      ],
      "metadata": {
        "id": "6zuXU0-aHh3T"
      }
    },
    {
      "cell_type": "code",
      "source": [
        "!pip install lifelines\n",
        "\n",
        "import numpy as np\n",
        "import pandas as pd\n",
        "from lifelines import KaplanMeierFitter\n",
        "# Synthetic survival times and censorship\n",
        "np.random.seed(42)\n",
        "durations = np.random.exponential(scale=10, size=100)\n",
        "event_observed = np.random.binomial(1, 0.8, size=100)\n",
        "kmf = KaplanMeierFitter()\n",
        "kmf.fit(durations, event_observed=event_observed, label='Test Group')\n",
        "kmf.plot_survival_function()"
      ],
      "metadata": {
        "colab": {
          "base_uri": "https://localhost:8080/",
          "height": 1000
        },
        "id": "dRmqRA0hHggs",
        "outputId": "f213f09a-a036-47e5-abe3-ba7cbe358ec6"
      },
      "execution_count": 15,
      "outputs": [
        {
          "output_type": "stream",
          "name": "stdout",
          "text": [
            "Collecting lifelines\n",
            "  Downloading lifelines-0.30.0-py3-none-any.whl.metadata (3.2 kB)\n",
            "Requirement already satisfied: numpy>=1.14.0 in /usr/local/lib/python3.11/dist-packages (from lifelines) (1.26.4)\n",
            "Requirement already satisfied: scipy>=1.7.0 in /usr/local/lib/python3.11/dist-packages (from lifelines) (1.13.1)\n",
            "Requirement already satisfied: pandas>=2.1 in /usr/local/lib/python3.11/dist-packages (from lifelines) (2.2.2)\n",
            "Requirement already satisfied: matplotlib>=3.0 in /usr/local/lib/python3.11/dist-packages (from lifelines) (3.10.0)\n",
            "Requirement already satisfied: autograd>=1.5 in /usr/local/lib/python3.11/dist-packages (from lifelines) (1.7.0)\n",
            "Collecting autograd-gamma>=0.3 (from lifelines)\n",
            "  Downloading autograd-gamma-0.5.0.tar.gz (4.0 kB)\n",
            "  Preparing metadata (setup.py) ... \u001b[?25l\u001b[?25hdone\n",
            "Collecting formulaic>=0.2.2 (from lifelines)\n",
            "  Downloading formulaic-1.1.1-py3-none-any.whl.metadata (6.9 kB)\n",
            "Collecting interface-meta>=1.2.0 (from formulaic>=0.2.2->lifelines)\n",
            "  Downloading interface_meta-1.3.0-py3-none-any.whl.metadata (6.7 kB)\n",
            "Requirement already satisfied: typing-extensions>=4.2.0 in /usr/local/lib/python3.11/dist-packages (from formulaic>=0.2.2->lifelines) (4.12.2)\n",
            "Requirement already satisfied: wrapt>=1.0 in /usr/local/lib/python3.11/dist-packages (from formulaic>=0.2.2->lifelines) (1.17.2)\n",
            "Requirement already satisfied: contourpy>=1.0.1 in /usr/local/lib/python3.11/dist-packages (from matplotlib>=3.0->lifelines) (1.3.1)\n",
            "Requirement already satisfied: cycler>=0.10 in /usr/local/lib/python3.11/dist-packages (from matplotlib>=3.0->lifelines) (0.12.1)\n",
            "Requirement already satisfied: fonttools>=4.22.0 in /usr/local/lib/python3.11/dist-packages (from matplotlib>=3.0->lifelines) (4.56.0)\n",
            "Requirement already satisfied: kiwisolver>=1.3.1 in /usr/local/lib/python3.11/dist-packages (from matplotlib>=3.0->lifelines) (1.4.8)\n",
            "Requirement already satisfied: packaging>=20.0 in /usr/local/lib/python3.11/dist-packages (from matplotlib>=3.0->lifelines) (24.2)\n",
            "Requirement already satisfied: pillow>=8 in /usr/local/lib/python3.11/dist-packages (from matplotlib>=3.0->lifelines) (11.1.0)\n",
            "Requirement already satisfied: pyparsing>=2.3.1 in /usr/local/lib/python3.11/dist-packages (from matplotlib>=3.0->lifelines) (3.2.1)\n",
            "Requirement already satisfied: python-dateutil>=2.7 in /usr/local/lib/python3.11/dist-packages (from matplotlib>=3.0->lifelines) (2.8.2)\n",
            "Requirement already satisfied: pytz>=2020.1 in /usr/local/lib/python3.11/dist-packages (from pandas>=2.1->lifelines) (2025.1)\n",
            "Requirement already satisfied: tzdata>=2022.7 in /usr/local/lib/python3.11/dist-packages (from pandas>=2.1->lifelines) (2025.1)\n",
            "Requirement already satisfied: six>=1.5 in /usr/local/lib/python3.11/dist-packages (from python-dateutil>=2.7->matplotlib>=3.0->lifelines) (1.17.0)\n",
            "Downloading lifelines-0.30.0-py3-none-any.whl (349 kB)\n",
            "\u001b[2K   \u001b[90m━━━━━━━━━━━━━━━━━━━━━━━━━━━━━━━━━━━━━━━━\u001b[0m \u001b[32m349.3/349.3 kB\u001b[0m \u001b[31m11.8 MB/s\u001b[0m eta \u001b[36m0:00:00\u001b[0m\n",
            "\u001b[?25hDownloading formulaic-1.1.1-py3-none-any.whl (115 kB)\n",
            "\u001b[2K   \u001b[90m━━━━━━━━━━━━━━━━━━━━━━━━━━━━━━━━━━━━━━━━\u001b[0m \u001b[32m115.7/115.7 kB\u001b[0m \u001b[31m8.8 MB/s\u001b[0m eta \u001b[36m0:00:00\u001b[0m\n",
            "\u001b[?25hDownloading interface_meta-1.3.0-py3-none-any.whl (14 kB)\n",
            "Building wheels for collected packages: autograd-gamma\n",
            "  Building wheel for autograd-gamma (setup.py) ... \u001b[?25l\u001b[?25hdone\n",
            "  Created wheel for autograd-gamma: filename=autograd_gamma-0.5.0-py3-none-any.whl size=4031 sha256=72c4649d58237a62595f1c82c8423b8e07bfbee2595a3bd9b73a6a939152e5d8\n",
            "  Stored in directory: /root/.cache/pip/wheels/8b/67/f4/2caaae2146198dcb824f31a303833b07b14a5ec863fb3acd7b\n",
            "Successfully built autograd-gamma\n",
            "Installing collected packages: interface-meta, autograd-gamma, formulaic, lifelines\n",
            "Successfully installed autograd-gamma-0.5.0 formulaic-1.1.1 interface-meta-1.3.0 lifelines-0.30.0\n"
          ]
        },
        {
          "output_type": "execute_result",
          "data": {
            "text/plain": [
              "<Axes: xlabel='timeline'>"
            ]
          },
          "metadata": {},
          "execution_count": 15
        },
        {
          "output_type": "display_data",
          "data": {
            "text/plain": [
              "<Figure size 640x480 with 1 Axes>"
            ],
            "image/png": "[encoded data removed]"
          },
          "metadata": {}
        }
      ]
    },
    {
      "cell_type": "markdown",
      "source": [
        "# 11. Multivariate Regression (Multiple Linear Regression)"
      ],
      "metadata": {
        "id": "spDayCXHHoL7"
      }
    },
    {
      "cell_type": "code",
      "source": [
        "import numpy as np\n",
        "from sklearn.linear_model import LinearRegression\n",
        "\n",
        "# Synthetic data: price = 100 + 2*rooms + 0.5*sqft + noise\n",
        "np.random.seed(42)\n",
        "rooms = np.random.randint(1, 5, 100)\n",
        "sqft = np.random.randint(500, 2500, 100)\n",
        "price = 100 + 2*rooms + 0.5*sqft + np.random.normal(0, 50, 100)\n",
        "X = np.column_stack([rooms, sqft])\n",
        "y = price\n",
        "model = LinearRegression()\n",
        "model.fit(X, y)\n",
        "print(\"Coefficients:\", model.coef_)\n",
        "print(\"Intercept:\", model.intercept_)"
      ],
      "metadata": {
        "colab": {
          "base_uri": "https://localhost:8080/"
        },
        "id": "a2EB96DnHloX",
        "outputId": "bdc7ce89-419e-4110-ce35-43f8f88436fe"
      },
      "execution_count": 16,
      "outputs": [
        {
          "output_type": "stream",
          "name": "stdout",
          "text": [
            "Coefficients: [3.37279071 0.50877476]\n",
            "Intercept: 86.44986310921195\n"
          ]
        }
      ]
    },
    {
      "cell_type": "markdown",
      "source": [
        "# 12. Ridge/Lasso Regression"
      ],
      "metadata": {
        "id": "kZa7_Y4dHs9-"
      }
    },
    {
      "cell_type": "code",
      "source": [
        "import numpy as np\n",
        "from sklearn.linear_model import Ridge, Lasso\n",
        "from sklearn.model_selection import train_test_split\n",
        "\n",
        "# Synthetic data\n",
        "np.random.seed(42)\n",
        "X = np.random.rand(100, 10)\n",
        "y = X[:, 0]*5 + X[:, 1]*3 + np.random.normal(0, 0.1, 100)\n",
        "X_train, X_test, y_train, y_test = train_test_split(X, y, test_size=0.2)\n",
        "ridge = Ridge(alpha=1.0).fit(X_train, y_train)\n",
        "lasso = Lasso(alpha=0.1).fit(X_train, y_train)\n",
        "print(\"Ridge coefficients:\", ridge.coef_)\n",
        "print(\"Lasso coefficients:\", lasso.coef_)"
      ],
      "metadata": {
        "colab": {
          "base_uri": "https://localhost:8080/"
        },
        "id": "EJvjuj5YHr7y",
        "outputId": "de3ddd3b-e2a7-4885-eb2d-6afb13541d18"
      },
      "execution_count": 17,
      "outputs": [
        {
          "output_type": "stream",
          "name": "stdout",
          "text": [
            "Ridge coefficients: [ 4.36989979  2.56188682  0.06294406 -0.07852476  0.01579852  0.02012565\n",
            " -0.03695445 -0.06693079 -0.03260453  0.05840905]\n",
            "Lasso coefficients: [ 3.79570942  1.76656425  0.         -0.          0.         -0.\n",
            " -0.         -0.         -0.          0.        ]\n"
          ]
        }
      ]
    },
    {
      "cell_type": "markdown",
      "source": [
        "# 13. Logistic Regression"
      ],
      "metadata": {
        "id": "kbm5xbeYHwdm"
      }
    },
    {
      "cell_type": "code",
      "source": [
        "import numpy as np\n",
        "from sklearn.linear_model import LogisticRegression\n",
        "from sklearn.model_selection import train_test_split\n",
        "\n",
        "np.random.seed(42)\n",
        "X = np.random.rand(100, 5)\n",
        "y = np.random.randint(0, 2, 100)  # Binary labels\n",
        "X_train, X_test, y_train, y_test = train_test_split(X, y, test_size=0.2)\n",
        "model = LogisticRegression()\n",
        "model.fit(X_train, y_train)\n",
        "accuracy = model.score(X_test, y_test)\n",
        "print(\"Accuracy:\", accuracy)"
      ],
      "metadata": {
        "colab": {
          "base_uri": "https://localhost:8080/"
        },
        "id": "QJv3-NF-HvmR",
        "outputId": "33bc7975-050c-49de-d183-e5614b20db77"
      },
      "execution_count": 18,
      "outputs": [
        {
          "output_type": "stream",
          "name": "stdout",
          "text": [
            "Accuracy: 0.7\n"
          ]
        }
      ]
    },
    {
      "cell_type": "markdown",
      "source": [
        "# 14. Mixed Effects Models"
      ],
      "metadata": {
        "id": "2YuQo1IWHzvP"
      }
    },
    {
      "cell_type": "code",
      "source": [
        "import pandas as pd\n",
        "import numpy as np\n",
        "import statsmodels.formula.api as smf\n",
        "\n",
        "# Synthetic data: Each student belongs to a specific school\n",
        "np.random.seed(42)\n",
        "school_ids = np.repeat(np.arange(10), 20)\n",
        "scores = 50 + 5*np.random.rand(200) + 2*school_ids + np.random.normal(0, 5, 200)\n",
        "df = pd.DataFrame({\"score\": scores, \"school\": school_ids})\n",
        "model = smf.mixedlm(\"score ~ 1\", df, groups=df[\"school\"])\n",
        "result = model.fit()\n",
        "print(result.summary())"
      ],
      "metadata": {
        "colab": {
          "base_uri": "https://localhost:8080/"
        },
        "id": "I_LYC5UFHy0H",
        "outputId": "35735459-a2d7-448b-d21b-a4b9c216c046"
      },
      "execution_count": 19,
      "outputs": [
        {
          "output_type": "stream",
          "name": "stdout",
          "text": [
            "         Mixed Linear Model Regression Results\n",
            "=======================================================\n",
            "Model:            MixedLM Dependent Variable: score    \n",
            "No. Observations: 200     Method:             REML     \n",
            "No. Groups:       10      Scale:              25.9801  \n",
            "Min. group size:  20      Log-Likelihood:     -624.0216\n",
            "Max. group size:  20      Converged:          Yes      \n",
            "Mean group size:  20.0                                 \n",
            "-------------------------------------------------------\n",
            "             Coef.  Std.Err.   z    P>|z| [0.025 0.975]\n",
            "-------------------------------------------------------\n",
            "Intercept    61.757    1.887 32.727 0.000 58.059 65.456\n",
            "Group Var    34.309    3.370                           \n",
            "=======================================================\n",
            "\n"
          ]
        }
      ]
    },
    {
      "cell_type": "markdown",
      "source": [
        "# 15. Nonparametric Tests (Mann-Whitney U)"
      ],
      "metadata": {
        "id": "GfaL6BljH2pO"
      }
    },
    {
      "cell_type": "code",
      "source": [
        "import numpy as np\n",
        "from scipy.stats import mannwhitneyu\n",
        "\n",
        "# Synthetic data\n",
        "group_A = np.random.exponential(scale=1.0, size=30)\n",
        "group_B = np.random.exponential(scale=1.2, size=30)\n",
        "stat, pvalue = mannwhitneyu(group_A, group_B, alternative='two-sided')\n",
        "print(f\"Statistic: {stat:.2f}, p-value: {pvalue:.4f}\")"
      ],
      "metadata": {
        "colab": {
          "base_uri": "https://localhost:8080/"
        },
        "id": "kSAFhQMHH1ia",
        "outputId": "51c8121a-6aef-4d5a-d7f6-e9b487ff1ab6"
      },
      "execution_count": 20,
      "outputs": [
        {
          "output_type": "stream",
          "name": "stdout",
          "text": [
            "Statistic: 358.00, p-value: 0.1761\n"
          ]
        }
      ]
    },
    {
      "cell_type": "markdown",
      "source": [
        "# 16. Monte Carlo Simulation"
      ],
      "metadata": {
        "id": "kCNbt17NH6zn"
      }
    },
    {
      "cell_type": "code",
      "source": [
        "import numpy as np\n",
        "\n",
        "np.random.seed(42)\n",
        "n_samples = 10_000_00\n",
        "xs = np.random.rand(n_samples)\n",
        "ys = np.random.rand(n_samples)\n",
        "# Points within the unit circle\n",
        "inside_circle = (xs**2 + ys**2) <= 1.0\n",
        "pi_estimate = inside_circle.sum() * 4 / n_samples\n",
        "print(\"Estimated π:\", pi_estimate)"
      ],
      "metadata": {
        "colab": {
          "base_uri": "https://localhost:8080/"
        },
        "id": "QqQMiMMOH8ls",
        "outputId": "86b68d57-4307-40cd-a980-96980b130036"
      },
      "execution_count": 21,
      "outputs": [
        {
          "output_type": "stream",
          "name": "stdout",
          "text": [
            "Estimated π: 3.141864\n"
          ]
        }
      ]
    },
    {
      "cell_type": "markdown",
      "source": [
        "# 17. Markov Chain Monte Carlo (MCMC)"
      ],
      "metadata": {
        "id": "mJVanIA7H_Hu"
      }
    },
    {
      "cell_type": "code",
      "source": [
        "import pymc3 as pm\n",
        "import numpy as np\n",
        "\n",
        "# Synthetic data\n",
        "np.random.seed(42)\n",
        "data = np.random.normal(0, 1, 100)\n",
        "with pm.Model() as model:\n",
        "    mu = pm.Normal('mu', mu=0, sd=10)\n",
        "    sigma = pm.HalfNormal('sigma', sd=1)\n",
        "\n",
        "    likelihood = pm.Normal('likelihood', mu=mu, sd=sigma, observed=data)\n",
        "    trace = pm.sample(1000, tune=500, chains=2)\n",
        "pm.summary(trace)"
      ],
      "metadata": {
        "id": "V-6jq4i0H-LJ"
      },
      "execution_count": 22,
      "outputs": []
    },
    {
      "cell_type": "markdown",
      "source": [
        "# 18. Robust Regression"
      ],
      "metadata": {
        "id": "2w7LrG4BIC64"
      }
    },
    {
      "cell_type": "code",
      "source": [
        "import numpy as np\n",
        "from sklearn.linear_model import RANSACRegressor, LinearRegression\n",
        "\n",
        "np.random.seed(42)\n",
        "X = np.random.rand(100, 1) * 10\n",
        "y = 3 * X.squeeze() + 2 + np.random.normal(0, 2, 100)\n",
        "# Add outliers\n",
        "X_outliers = np.array([[8], [9], [9.5]])\n",
        "y_outliers = np.array([50, 55, 60])\n",
        "X = np.vstack((X, X_outliers))\n",
        "y = np.concatenate((y, y_outliers))\n",
        "ransac = RANSACRegressor(base_estimator=LinearRegression(), max_trials=100)\n",
        "ransac.fit(X, y)\n",
        "print(\"RANSAC Coefficients:\", ransac.estimator_.coef_)\n",
        "print(\"RANSAC Intercept:\", ransac.estimator_.intercept_)"
      ],
      "metadata": {
        "id": "x6ZmAE_-IBrk"
      },
      "execution_count": 24,
      "outputs": []
    },
    {
      "cell_type": "markdown",
      "source": [
        "# 19. Copulas"
      ],
      "metadata": {
        "id": "bj0-uQoDIHep"
      }
    },
    {
      "cell_type": "code",
      "source": [
        "!pip install copulas\n",
        "\n",
        "import numpy as np\n",
        "from copulas.multivariate import GaussianMultivariate\n",
        "# Synthetic data\n",
        "X = np.random.normal(0, 1, (1000, 2))\n",
        "X[:,1] = 0.8 * X[:,0] + np.random.normal(0, 0.6, 1000)  # correlation\n",
        "model = GaussianMultivariate()\n",
        "model.fit(X)\n",
        "sample = model.sample(5)\n",
        "print(\"Original correlation:\", np.corrcoef(X[:, 0], X[:, 1])[0,1])\n",
        "print(\"Sample correlation:\", np.corrcoef(sample[:, 0], sample[:, 1])[0,1])"
      ],
      "metadata": {
        "id": "LyfebN9vIFTB"
      },
      "execution_count": 26,
      "outputs": []
    },
    {
      "cell_type": "markdown",
      "source": [
        "# 20. Generalized Additive Models (GAMs)"
      ],
      "metadata": {
        "id": "YKSCBkF5IKcN"
      }
    },
    {
      "cell_type": "code",
      "source": [
        "!pip install pygam\n",
        "\n",
        "import numpy as np\n",
        "from pygam import LinearGAM, s\n",
        "# Synthetic data\n",
        "np.random.seed(42)\n",
        "X = np.random.rand(200, 1) * 10\n",
        "y = 2 + 3*np.sin(X).ravel() + np.random.normal(0, 0.5, 200)\n",
        "gam = LinearGAM(s(0)).fit(X, y)\n",
        "XX = np.linspace(0, 10, 100)\n",
        "preds = gam.predict(XX)\n",
        "print(\"Coefficients:\", gam.summary())"
      ],
      "metadata": {
        "colab": {
          "base_uri": "https://localhost:8080/"
        },
        "id": "ApHwFCY7IJaK",
        "outputId": "109d85f0-c666-44b1-ea14-599fc8561711"
      },
      "execution_count": 27,
      "outputs": [
        {
          "output_type": "stream",
          "name": "stdout",
          "text": [
            "Collecting pygam\n",
            "  Downloading pygam-0.9.1-py3-none-any.whl.metadata (7.1 kB)\n",
            "Requirement already satisfied: numpy>=1.25 in /usr/local/lib/python3.11/dist-packages (from pygam) (1.26.4)\n",
            "Requirement already satisfied: progressbar2<5.0.0,>=4.2.0 in /usr/local/lib/python3.11/dist-packages (from pygam) (4.5.0)\n",
            "Collecting scipy<1.12,>=1.11.1 (from pygam)\n",
            "  Downloading scipy-1.11.4-cp311-cp311-manylinux_2_17_x86_64.manylinux2014_x86_64.whl.metadata (60 kB)\n",
            "\u001b[2K     \u001b[90m━━━━━━━━━━━━━━━━━━━━━━━━━━━━━━━━━━━━━━━━\u001b[0m \u001b[32m60.4/60.4 kB\u001b[0m \u001b[31m3.4 MB/s\u001b[0m eta \u001b[36m0:00:00\u001b[0m\n",
            "\u001b[?25hRequirement already satisfied: python-utils>=3.8.1 in /usr/local/lib/python3.11/dist-packages (from progressbar2<5.0.0,>=4.2.0->pygam) (3.9.1)\n",
            "Requirement already satisfied: typing_extensions>3.10.0.2 in /usr/local/lib/python3.11/dist-packages (from python-utils>=3.8.1->progressbar2<5.0.0,>=4.2.0->pygam) (4.12.2)\n",
            "Downloading pygam-0.9.1-py3-none-any.whl (522 kB)\n",
            "\u001b[2K   \u001b[90m━━━━━━━━━━━━━━━━━━━━━━━━━━━━━━━━━━━━━━━━\u001b[0m \u001b[32m522.0/522.0 kB\u001b[0m \u001b[31m17.8 MB/s\u001b[0m eta \u001b[36m0:00:00\u001b[0m\n",
            "\u001b[?25hDownloading scipy-1.11.4-cp311-cp311-manylinux_2_17_x86_64.manylinux2014_x86_64.whl (36.4 MB)\n",
            "\u001b[2K   \u001b[90m━━━━━━━━━━━━━━━━━━━━━━━━━━━━━━━━━━━━━━━━\u001b[0m \u001b[32m36.4/36.4 MB\u001b[0m \u001b[31m18.4 MB/s\u001b[0m eta \u001b[36m0:00:00\u001b[0m\n",
            "\u001b[?25hInstalling collected packages: scipy, pygam\n",
            "  Attempting uninstall: scipy\n",
            "    Found existing installation: scipy 1.13.1\n",
            "    Uninstalling scipy-1.13.1:\n",
            "      Successfully uninstalled scipy-1.13.1\n",
            "Successfully installed pygam-0.9.1 scipy-1.11.4\n",
            "LinearGAM                                                                                                 \n",
            "=============================================== ==========================================================\n",
            "Distribution:                        NormalDist Effective DoF:                                     11.2322\n",
            "Link Function:                     IdentityLink Log Likelihood:                                  -300.7193\n",
            "Number of Samples:                          200 AIC:                                              625.9029\n",
            "                                                AICc:                                             627.6361\n",
            "                                                GCV:                                                0.2551\n",
            "                                                Scale:                                              0.2295\n",
            "                                                Pseudo R-Squared:                                   0.9448\n",
            "==========================================================================================================\n",
            "Feature Function                  Lambda               Rank         EDoF         P > x        Sig. Code   \n",
            "================================= ==================== ============ ============ ============ ============\n",
            "s(0)                              [0.6]                20           11.2         1.11e-16     ***         \n",
            "intercept                                              1            0.0          1.11e-16     ***         \n",
            "==========================================================================================================\n",
            "Significance codes:  0 '***' 0.001 '**' 0.01 '*' 0.05 '.' 0.1 ' ' 1\n",
            "\n",
            "WARNING: Fitting splines and a linear function to a feature introduces a model identifiability problem\n",
            "         which can cause p-values to appear significant when they are not.\n",
            "\n",
            "WARNING: p-values calculated in this manner behave correctly for un-penalized models or models with\n",
            "         known smoothing parameters, but when smoothing parameters have been estimated, the p-values\n",
            "         are typically lower than they should be, meaning that the tests reject the null too readily.\n",
            "Coefficients: None\n"
          ]
        },
        {
          "output_type": "stream",
          "name": "stderr",
          "text": [
            "<ipython-input-27-1f54354a9935>:12: UserWarning: KNOWN BUG: p-values computed in this summary are likely much smaller than they should be. \n",
            " \n",
            "Please do not make inferences based on these values! \n",
            "\n",
            "Collaborate on a solution, and stay up to date at: \n",
            "github.com/dswah/pyGAM/issues/163 \n",
            "\n",
            "  print(\"Coefficients:\", gam.summary())\n"
          ]
        }
      ]
    }
  ]
}