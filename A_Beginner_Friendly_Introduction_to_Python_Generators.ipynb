{
  "nbformat": 4,
  "nbformat_minor": 0,
  "metadata": {
    "colab": {
      "provenance": [],
      "authorship_tag": "ABX9TyOClmMNdVQp00r40N5KnRQf"
    },
    "kernelspec": {
      "name": "python3",
      "display_name": "Python 3"
    },
    "language_info": {
      "name": "python"
    }
  },
  "cells": [
    {
      "cell_type": "markdown",
      "source": [
        "[Reference](https://medium.com/@aliyannshaikhh/654192debd46)"
      ],
      "metadata": {
        "id": "wkZLVQm00GWY"
      }
    },
    {
      "cell_type": "code",
      "execution_count": 1,
      "metadata": {
        "colab": {
          "base_uri": "https://localhost:8080/"
        },
        "id": "0dHWKLBP0Bsb",
        "outputId": "51020e7a-49bf-4fed-a864-f1c88ee15933"
      },
      "outputs": [
        {
          "output_type": "stream",
          "name": "stdout",
          "text": [
            "First value\n",
            "1\n",
            "Second value\n",
            "2\n",
            "Third value\n",
            "3\n"
          ]
        }
      ],
      "source": [
        "def simple_generator():\n",
        "    print(\"First value\")\n",
        "    yield 1\n",
        "    print(\"Second value\")\n",
        "    yield 2\n",
        "    print(\"Third value\")\n",
        "    yield 3\n",
        "\n",
        "gen = simple_generator()\n",
        "\n",
        "print(next(gen))\n",
        "print(next(gen))\n",
        "print(next(gen))"
      ]
    },
    {
      "cell_type": "markdown",
      "source": [
        "# 1. Reading Large Files Line-by-Line"
      ],
      "metadata": {
        "id": "LXtf4kIQ0hSa"
      }
    },
    {
      "cell_type": "code",
      "source": [
        "def read_large_file(file_path):\n",
        "    with open(file_path) as file:\n",
        "        for line in file:\n",
        "            yield line.strip()\n",
        "\n",
        "file_reader = read_large_file('large_file.txt')\n",
        "\n",
        "for line in file_reader:\n",
        "    print(line)"
      ],
      "metadata": {
        "id": "bOhHeZIb0brP"
      },
      "execution_count": 2,
      "outputs": []
    },
    {
      "cell_type": "markdown",
      "source": [
        "# 2. Generating Infinite Sequences"
      ],
      "metadata": {
        "id": "oEGOErM50p-W"
      }
    },
    {
      "cell_type": "code",
      "source": [
        "def infinite_numbers():\n",
        "    num = 1\n",
        "    while True:\n",
        "        yield num\n",
        "        num += 1\n",
        "\n",
        "numbers = infinite_numbers()\n",
        "\n",
        "for _ in range(5):\n",
        "    print(next(numbers))"
      ],
      "metadata": {
        "colab": {
          "base_uri": "https://localhost:8080/"
        },
        "id": "Z4J9sjbP0kiw",
        "outputId": "fc7e3f5a-cf2c-40be-9410-2983c37f911c"
      },
      "execution_count": 3,
      "outputs": [
        {
          "output_type": "stream",
          "name": "stdout",
          "text": [
            "1\n",
            "2\n",
            "3\n",
            "4\n",
            "5\n"
          ]
        }
      ]
    }
  ]
}