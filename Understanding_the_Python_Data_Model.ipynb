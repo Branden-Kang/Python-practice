{
  "nbformat": 4,
  "nbformat_minor": 0,
  "metadata": {
    "colab": {
      "provenance": [],
      "authorship_tag": "ABX9TyMP1MYHGeYku/PVvg6+laN7"
    },
    "kernelspec": {
      "name": "python3",
      "display_name": "Python 3"
    },
    "language_info": {
      "name": "python"
    }
  },
  "cells": [
    {
      "cell_type": "markdown",
      "source": [
        "[Reference](https://medium.com/@ccpythonprogramming/understanding-the-python-data-model-09070da08454)"
      ],
      "metadata": {
        "id": "cNqa42yRz1nP"
      }
    },
    {
      "cell_type": "code",
      "execution_count": 1,
      "metadata": {
        "id": "rAZEgd2Fzv13"
      },
      "outputs": [],
      "source": [
        "# A standalone function\n",
        "def greet(name):\n",
        "    return f\"Hello, {name}!\""
      ]
    },
    {
      "cell_type": "code",
      "source": [
        "# A method within a class\n",
        "class Greeter:\n",
        "    def greet(self, name):\n",
        "        return f\"Hello, {name}!\"\n",
        "\n",
        "# Usage\n",
        "g = Greeter()\n",
        "print(g.greet(\"Alice\"))  # Output: Hello, Alice!"
      ],
      "metadata": {
        "colab": {
          "base_uri": "https://localhost:8080/"
        },
        "id": "z92tY83Az44j",
        "outputId": "ed24ef22-1ff0-40db-8bc0-bb621560b9a1"
      },
      "execution_count": 2,
      "outputs": [
        {
          "output_type": "stream",
          "name": "stdout",
          "text": [
            "Hello, Alice!\n"
          ]
        }
      ]
    },
    {
      "cell_type": "code",
      "source": [
        "# File: iterable_example.py\n",
        "class MyRange:\n",
        "    def __init__(self, start, end):\n",
        "        self.start = start\n",
        "        self.end = end\n",
        "        self.current = start\n",
        "\n",
        "    def __iter__(self):\n",
        "        return self\n",
        "\n",
        "    def __next__(self):\n",
        "        if self.current >= self.end:\n",
        "            raise StopIteration\n",
        "        self.current += 1\n",
        "        return self.current - 1\n",
        "\n",
        "# Usage\n",
        "for num in MyRange(1, 5):\n",
        "    print(num)  # Output: 1 2 3 4"
      ],
      "metadata": {
        "colab": {
          "base_uri": "https://localhost:8080/"
        },
        "id": "OwKvnOnJz6LO",
        "outputId": "d7a529e6-1e9c-4e68-f23e-ac21f223e79b"
      },
      "execution_count": 3,
      "outputs": [
        {
          "output_type": "stream",
          "name": "stdout",
          "text": [
            "1\n",
            "2\n",
            "3\n",
            "4\n"
          ]
        }
      ]
    },
    {
      "cell_type": "code",
      "source": [
        "# File: attribute_example.py\n",
        "class AttributeHandler:\n",
        "    def __init__(self):\n",
        "        self.attributes = {}\n",
        "\n",
        "    def __getattr__(self, name):\n",
        "        return self.attributes.get(name, f\"{name} not found\")\n",
        "\n",
        "    def __setattr__(self, name, value):\n",
        "        if name == \"attributes\":\n",
        "            super().__setattr__(name, value)\n",
        "        else:\n",
        "            self.attributes[name] = value\n",
        "\n",
        "# Usage\n",
        "obj = AttributeHandler()\n",
        "obj.color = \"blue\"\n",
        "print(obj.color)  # Output: blue\n",
        "print(obj.size)   # Output: size not found"
      ],
      "metadata": {
        "colab": {
          "base_uri": "https://localhost:8080/"
        },
        "id": "1TJj-zq8z86x",
        "outputId": "e96c2528-2068-4dce-8403-f788b2601be1"
      },
      "execution_count": 4,
      "outputs": [
        {
          "output_type": "stream",
          "name": "stdout",
          "text": [
            "blue\n",
            "size not found\n"
          ]
        }
      ]
    },
    {
      "cell_type": "code",
      "source": [
        "# File: operator_overloading_example.py\n",
        "class Vector:\n",
        "    def __init__(self, x, y):\n",
        "        self.x = x\n",
        "        self.y = y\n",
        "\n",
        "    def __add__(self, other):\n",
        "        return Vector(self.x + other.x, self.y + other.y)\n",
        "\n",
        "    def __repr__(self):\n",
        "        return f\"Vector({self.x}, {self.y})\"\n",
        "\n",
        "# Usage\n",
        "v1 = Vector(1, 2)\n",
        "v2 = Vector(3, 4)\n",
        "print(v1 + v2)  # Output: Vector(4, 6)"
      ],
      "metadata": {
        "colab": {
          "base_uri": "https://localhost:8080/"
        },
        "id": "ueK4dE1nz_w6",
        "outputId": "08dab981-3643-4b7a-db1e-a007800aa948"
      },
      "execution_count": 5,
      "outputs": [
        {
          "output_type": "stream",
          "name": "stdout",
          "text": [
            "Vector(4, 6)\n"
          ]
        }
      ]
    },
    {
      "cell_type": "code",
      "source": [
        "# File: callable_example.py\n",
        "class CallableObject:\n",
        "    def __call__(self, name):\n",
        "        return f\"Called with {name}\"\n",
        "\n",
        "# Usage\n",
        "obj = CallableObject()\n",
        "print(obj(\"Python\"))  # Output: Called with Python"
      ],
      "metadata": {
        "colab": {
          "base_uri": "https://localhost:8080/"
        },
        "id": "l8hDLvap0BwV",
        "outputId": "67a93461-c758-40a3-8ff3-9dd54157e673"
      },
      "execution_count": 6,
      "outputs": [
        {
          "output_type": "stream",
          "name": "stdout",
          "text": [
            "Called with Python\n"
          ]
        }
      ]
    },
    {
      "cell_type": "code",
      "source": [
        "# File: object_creation_example.py\n",
        "class Resource:\n",
        "    def __init__(self, name):\n",
        "        self.name = name\n",
        "        print(f\"Resource {self.name} created\")\n",
        "\n",
        "    def __del__(self):\n",
        "        print(f\"Resource {self.name} destroyed\")\n",
        "\n",
        "# Usage\n",
        "r = Resource(\"FileHandler\")"
      ],
      "metadata": {
        "colab": {
          "base_uri": "https://localhost:8080/"
        },
        "id": "CFRWCGq00Dhi",
        "outputId": "665c377d-3f00-45ea-9d52-bfadacfbb22e"
      },
      "execution_count": 7,
      "outputs": [
        {
          "output_type": "stream",
          "name": "stdout",
          "text": [
            "Resource FileHandler created\n"
          ]
        }
      ]
    },
    {
      "cell_type": "code",
      "source": [
        "# File: string_representation_example.py\n",
        "class Person:\n",
        "    def __init__(self, name, age):\n",
        "        self.name = name\n",
        "        self.age = age\n",
        "\n",
        "    def __str__(self):\n",
        "        return f\"{self.name}, {self.age} years old\"\n",
        "\n",
        "    def __repr__(self):\n",
        "        return f\"Person(name={self.name}, age={self.age})\"\n",
        "\n",
        "# Usage\n",
        "p = Person(\"Alice\", 30)\n",
        "print(str(p))  # Output: Alice, 30 years old\n",
        "print(repr(p)) # Output: Person(name=Alice, age=30)"
      ],
      "metadata": {
        "colab": {
          "base_uri": "https://localhost:8080/"
        },
        "id": "plVZ4G-w0Fer",
        "outputId": "db6719be-d937-4ba0-c2e8-0e251ec9e734"
      },
      "execution_count": 8,
      "outputs": [
        {
          "output_type": "stream",
          "name": "stdout",
          "text": [
            "Alice, 30 years old\n",
            "Person(name=Alice, age=30)\n"
          ]
        }
      ]
    },
    {
      "cell_type": "code",
      "source": [
        "# File: context_manager_example.py\n",
        "class ManagedResource:\n",
        "    def __enter__(self):\n",
        "        print(\"Resource acquired\")\n",
        "        return self\n",
        "\n",
        "    def __exit__(self, exc_type, exc_value, traceback):\n",
        "        print(\"Resource released\")\n",
        "\n",
        "# Usage\n",
        "with ManagedResource():\n",
        "    print(\"Using the resource\")"
      ],
      "metadata": {
        "colab": {
          "base_uri": "https://localhost:8080/"
        },
        "id": "ksH2U8VQ0HNU",
        "outputId": "3dde1d4c-edf3-464d-dd4d-aa98d1ea568b"
      },
      "execution_count": 9,
      "outputs": [
        {
          "output_type": "stream",
          "name": "stdout",
          "text": [
            "Resource acquired\n",
            "Using the resource\n",
            "Resource released\n"
          ]
        }
      ]
    }
  ]
}