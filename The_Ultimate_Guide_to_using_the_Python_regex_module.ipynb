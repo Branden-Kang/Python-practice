{
  "nbformat": 4,
  "nbformat_minor": 0,
  "metadata": {
    "colab": {
      "provenance": [],
      "authorship_tag": "ABX9TyNysx5lUyJFEv3HhuaQdCxv"
    },
    "kernelspec": {
      "name": "python3",
      "display_name": "Python 3"
    },
    "language_info": {
      "name": "python"
    }
  },
  "cells": [
    {
      "cell_type": "markdown",
      "source": [
        "[Reference](https://towardsdatascience.com/the-ultimate-guide-to-using-the-python-regex-module-69aad9e9ba56)"
      ],
      "metadata": {
        "id": "k6L5DkQEZJeJ"
      }
    },
    {
      "cell_type": "code",
      "execution_count": 2,
      "metadata": {
        "colab": {
          "base_uri": "https://localhost:8080/"
        },
        "id": "W-mGKZ5-ZH0K",
        "outputId": "7c8b0240-166a-4d20-da1a-61e85f1351a0"
      },
      "outputs": [
        {
          "output_type": "stream",
          "name": "stdout",
          "text": [
            "19\n"
          ]
        }
      ],
      "source": [
        "target = [';','.',',','–']\n",
        "string = \"It was the best of times, it was the worst of times, it was the age of wisdom, it was the age of foolishness, it was the epoch of belief, it was the epoch of incredulity, it was the season of Light, it was the season of Darkness, it was the spring of hope, it was the winter of despair, we had everything before us, we had nothing before us, we were all going direct to Heaven, we were all going direct the other way – in short, the period was so far like the present period, that some of its noisiest authorities insisted on its being received, for good or for evil, in the superlative degree of comparison only.\"\n",
        "num_puncts = 0\n",
        "for punct in target:\n",
        "    if punct in string:\n",
        "        num_puncts+=string.count(punct)\n",
        "        \n",
        "print(num_puncts)"
      ]
    },
    {
      "cell_type": "code",
      "source": [
        "import re\n",
        "pattern = r\"[;.,–]\"\n",
        "print(len(re.findall(pattern,string)))"
      ],
      "metadata": {
        "colab": {
          "base_uri": "https://localhost:8080/"
        },
        "id": "LHR59xOxZWgU",
        "outputId": "39f9ea2b-5fa5-427f-ef29-13f172718cdc"
      },
      "execution_count": 3,
      "outputs": [
        {
          "output_type": "stream",
          "name": "stdout",
          "text": [
            "19\n"
          ]
        }
      ]
    },
    {
      "cell_type": "code",
      "source": [
        "pattern = r'times'\n",
        "string = \"It was the best of times, it was the worst of times.\"\n",
        "print(len(re.findall(pattern,string)))"
      ],
      "metadata": {
        "colab": {
          "base_uri": "https://localhost:8080/"
        },
        "id": "ShEeTJPHZYnI",
        "outputId": "60b18995-122b-458a-e955-c3bb1cef5957"
      },
      "execution_count": 5,
      "outputs": [
        {
          "output_type": "stream",
          "name": "stdout",
          "text": [
            "2\n"
          ]
        }
      ]
    },
    {
      "cell_type": "code",
      "source": [
        "pattern = r'[a-zA-Z]'\n",
        "string = \"It was the best of times, it was the worst of times.\"\n",
        "print(len(re.findall(pattern,string)))"
      ],
      "metadata": {
        "colab": {
          "base_uri": "https://localhost:8080/"
        },
        "id": "IOnCOcH8Zga_",
        "outputId": "fdc58cac-f941-4106-dbc5-3e5b221b7439"
      },
      "execution_count": 7,
      "outputs": [
        {
          "output_type": "stream",
          "name": "stdout",
          "text": [
            "39\n"
          ]
        }
      ]
    },
    {
      "cell_type": "code",
      "source": [
        "#USAGE:\n",
        "pattern = r'[iI]t'\n",
        "string = \"It was the best of times, it was the worst of times.\"\n",
        "matches = re.findall(pattern,string)\n",
        "\n",
        "for match in matches:\n",
        "    print(match)"
      ],
      "metadata": {
        "colab": {
          "base_uri": "https://localhost:8080/"
        },
        "id": "3hnN-kZ2ZlVW",
        "outputId": "dc6aa7fa-aae7-4fa9-a2dd-4e47ecdd72fd"
      },
      "execution_count": 8,
      "outputs": [
        {
          "output_type": "stream",
          "name": "stdout",
          "text": [
            "It\n",
            "it\n"
          ]
        }
      ]
    },
    {
      "cell_type": "code",
      "source": [
        "#USAGE:\n",
        "pattern = r'[iI]t'\n",
        "string = \"It was the best of times, it was the worst of times.\"\n",
        "location = re.search(pattern,string)\n",
        "print(location)"
      ],
      "metadata": {
        "colab": {
          "base_uri": "https://localhost:8080/"
        },
        "id": "q81oD1gwaEbq",
        "outputId": "02f524af-0cff-4d0c-e695-986f8cee1c77"
      },
      "execution_count": 9,
      "outputs": [
        {
          "output_type": "stream",
          "name": "stdout",
          "text": [
            "<re.Match object; span=(0, 2), match='It'>\n"
          ]
        }
      ]
    },
    {
      "cell_type": "code",
      "source": [
        "string = \"It was the best of times, it was the worst of times.\"\n",
        "string = re.sub(r'times', r'life', string)\n",
        "print(string)"
      ],
      "metadata": {
        "colab": {
          "base_uri": "https://localhost:8080/"
        },
        "id": "51tuXCMqaLLG",
        "outputId": "6908828f-419b-4408-873a-aa723925aba6"
      },
      "execution_count": 10,
      "outputs": [
        {
          "output_type": "stream",
          "name": "stdout",
          "text": [
            "It was the best of life, it was the worst of life.\n"
          ]
        }
      ]
    },
    {
      "cell_type": "code",
      "source": [
        "match=re.search(r'[A-Z]{5}[0–9]{4}[A-Z]','ABcDE1234L')\n",
        "if match:\n",
        "    print(True)\n",
        "else:\n",
        "    print(False)"
      ],
      "metadata": {
        "colab": {
          "base_uri": "https://localhost:8080/"
        },
        "id": "KSbyM8EyaMlV",
        "outputId": "c7718981-88c5-4944-b0fa-03aff055e940"
      },
      "execution_count": 12,
      "outputs": [
        {
          "output_type": "stream",
          "name": "stdout",
          "text": [
            "False\n"
          ]
        }
      ]
    },
    {
      "cell_type": "code",
      "source": [
        "match=re.findall(r'http(s:|:)\\/\\/(www.|ww2.|)([0-9a-z.A-Z-]*\\.\\w{2,3})',string)\n",
        "for elem in match:\n",
        "    print(elem)"
      ],
      "metadata": {
        "id": "kIqRQLVQaRv-"
      },
      "execution_count": 13,
      "outputs": []
    },
    {
      "cell_type": "code",
      "source": [
        "match=re.findall(r'([\\w0-9-._]+@[\\w0-9-.]+[\\w0-9]{2,3})',string)"
      ],
      "metadata": {
        "id": "3bDYDMWxacIo"
      },
      "execution_count": 14,
      "outputs": []
    }
  ]
}