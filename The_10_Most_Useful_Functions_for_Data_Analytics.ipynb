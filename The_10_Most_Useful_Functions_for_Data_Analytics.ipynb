{
  "nbformat": 4,
  "nbformat_minor": 0,
  "metadata": {
    "colab": {
      "name": "The 10 Most Useful Functions for Data Analytics.ipynb",
      "provenance": [],
      "authorship_tag": "ABX9TyPQWSlL8qt2nArHQhFtSP5y"
    },
    "kernelspec": {
      "name": "python3",
      "display_name": "Python 3"
    },
    "language_info": {
      "name": "python"
    }
  },
  "cells": [
    {
      "cell_type": "markdown",
      "source": [
        "[Reference](https://medium.com/dropbase/the-10-most-useful-functions-for-data-analytics-b013ecda9018)"
      ],
      "metadata": {
        "id": "Dj8uLqmZrIs4"
      }
    },
    {
      "cell_type": "markdown",
      "source": [
        "# 1. Find and Replace\n"
      ],
      "metadata": {
        "id": "Hr00orjorLka"
      }
    },
    {
      "cell_type": "code",
      "execution_count": 1,
      "metadata": {
        "id": "rDoXsPbLp0zG"
      },
      "outputs": [],
      "source": [
        "def spiritual_ivory_pony(df):\n",
        "    df.replace(to_replace={\"Name\": \"Startup\"}, value=\"Growth\",\n",
        "               regex=True, inplace=True)\n",
        "    return df"
      ]
    },
    {
      "cell_type": "markdown",
      "source": [
        "# 2. Conditional Statements\n"
      ],
      "metadata": {
        "id": "wLaU9e4erZwK"
      }
    },
    {
      "cell_type": "code",
      "source": [
        "def nuclear_gray_storm(df):\n",
        "    if df['Country']=='Canada':\n",
        "        df['Price']=35\n",
        "    elif df['Country']=='US':\n",
        "        df['Price']=25\n",
        "    return df"
      ],
      "metadata": {
        "id": "OJvfEHwRrYSf"
      },
      "execution_count": 2,
      "outputs": []
    },
    {
      "cell_type": "markdown",
      "source": [
        "# 3. Concatenate/Split\n",
        "For a split, if you want to split an email address into everything after the “@” symbol to help identify which companies are in your dataset"
      ],
      "metadata": {
        "id": "Tn49jPHfrubT"
      }
    },
    {
      "cell_type": "markdown",
      "source": [
        "# 4. Trim\n",
        "If you have some sort of identifier code like “TOR-32245” or “NYC-32245” that represent the same product sold at two different stores, and only want to keep the product numbers, you could trim the first four characters"
      ],
      "metadata": {
        "id": "KJV3NFTcry-4"
      }
    },
    {
      "cell_type": "markdown",
      "source": [
        "# 5. Change Data Types\n",
        "If you want to do further analysis on data over time, converting a column containing the date to be in a standardized DateTime format will improve the usability of your data"
      ],
      "metadata": {
        "id": "-jPDDDAHr2W-"
      }
    },
    {
      "cell_type": "markdown",
      "source": [
        "# 6. Unique\n",
        "Running a unique function on a column that is expected to be unique values such as a transaction ID field, and removing any duplicate columns as to not inflate your transaction numbers"
      ],
      "metadata": {
        "id": "K_GHQhFNr7wv"
      }
    },
    {
      "cell_type": "markdown",
      "source": [
        "# 7. Sort\n"
      ],
      "metadata": {
        "id": "F508Klu-sAJp"
      }
    },
    {
      "cell_type": "code",
      "source": [
        "def external_jade_quelea(df):\n",
        "    df = df.sort_values(by=\"Budget\", ascending=True)\n",
        "    return df"
      ],
      "metadata": {
        "id": "OxoZsdpSrttf"
      },
      "execution_count": 3,
      "outputs": []
    },
    {
      "cell_type": "markdown",
      "source": [
        "# 8. Filter\n",
        "Filtering your data lets you create subgroups of data that match (or don’t match) certain parameters"
      ],
      "metadata": {
        "id": "iDl_ylW_sIET"
      }
    },
    {
      "cell_type": "markdown",
      "source": [
        "# 9. Removing Outliers\n"
      ],
      "metadata": {
        "id": "5afrK3-YsLf1"
      }
    },
    {
      "cell_type": "code",
      "source": [
        "def critical_amethyst_ant(df):\n",
        "    Q1 = np.nanquantile(df[\"Housing Price\"],0.25)\n",
        "    Q3 = np.nanquantile(df[\"Housing Price\"],0.75)\n",
        "    IQ = Q3 - Q1\n",
        "    lower_fence = Q1 - 1.5*IQ\n",
        "    upper_fence = Q1 - 1.5*IQ\n",
        "    return df[(df[\"Housing Price\"] <= upper_fence) & (df[\"Housing Price\"] >= lower_fence)]"
      ],
      "metadata": {
        "id": "BrsJPJVosHJK"
      },
      "execution_count": 4,
      "outputs": []
    },
    {
      "cell_type": "markdown",
      "source": [
        "# 10. Dropping/Filling Nulls\n",
        "Null values can skew your predictions and calculations, so removing them entirely or replacing them with a more reasonable value (such as the mean) is incredibly useful"
      ],
      "metadata": {
        "id": "uQhh1IdItRxJ"
      }
    }
  ]
}