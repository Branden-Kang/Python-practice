{
  "nbformat": 4,
  "nbformat_minor": 0,
  "metadata": {
    "colab": {
      "provenance": [],
      "authorship_tag": "ABX9TyPW4+ochAhdHG3Ek+RstPZF"
    },
    "kernelspec": {
      "name": "python3",
      "display_name": "Python 3"
    },
    "language_info": {
      "name": "python"
    }
  },
  "cells": [
    {
      "cell_type": "markdown",
      "source": [
        "[Reference](https://medium.com/@rajputgajanan50/how-to-use-threadpoolexecutor-in-python-3-6819c7896e89)"
      ],
      "metadata": {
        "id": "e28vy8bw7wQg"
      }
    },
    {
      "cell_type": "code",
      "execution_count": 1,
      "metadata": {
        "colab": {
          "base_uri": "https://localhost:8080/"
        },
        "id": "WrQqydW77dlc",
        "outputId": "3ef9b4a2-07f6-4570-9ab1-9245c2bfa150"
      },
      "outputs": [
        {
          "output_type": "stream",
          "name": "stdout",
          "text": [
            "http://www.example.com/ page is 1256 bytes\n",
            "http://www.example.net/ page is 1256 bytes\n",
            "http://www.example.org/ page is 1256 bytes\n"
          ]
        }
      ],
      "source": [
        "import concurrent.futures\n",
        "import urllib.request\n",
        "\n",
        "URLS = [\n",
        "    'http://www.example.com/',\n",
        "    'http://www.example.org/',\n",
        "    'http://www.example.net/',\n",
        "    # Add more URLs as needed\n",
        "]\n",
        "\n",
        "def load_url(url, timeout):\n",
        "    with urllib.request.urlopen(url, timeout=timeout) as conn:\n",
        "        return conn.read()\n",
        "\n",
        "# Use ThreadPoolExecutor to fetch each URL in separate threads\n",
        "with concurrent.futures.ThreadPoolExecutor(max_workers=5) as executor:\n",
        "    future_to_url = {executor.submit(load_url, url, 60): url for url in URLS}\n",
        "    for future in concurrent.futures.as_completed(future_to_url):\n",
        "        url = future_to_url[future]\n",
        "        try:\n",
        "            data = future.result()\n",
        "            print(f\"{url} page is {len(data)} bytes\")\n",
        "        except Exception as exc:\n",
        "            print(f\"{url} generated an exception: {exc}\")"
      ]
    }
  ]
}