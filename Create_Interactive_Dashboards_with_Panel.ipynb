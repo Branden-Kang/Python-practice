{
  "nbformat": 4,
  "nbformat_minor": 0,
  "metadata": {
    "colab": {
      "name": "Create Interactive Dashboards with Panel.ipynb",
      "provenance": [],
      "authorship_tag": "ABX9TyOSeR0zKzJB3UgV7VpqHfIx"
    },
    "kernelspec": {
      "name": "python3",
      "display_name": "Python 3"
    }
  },
  "cells": [
    {
      "cell_type": "markdown",
      "metadata": {
        "id": "lC4JMd0V_Be3"
      },
      "source": [
        "[Reference](https://medium.com/spatial-data-science/create-interactive-dashboards-with-panel-python-9ac13c84b227)"
      ]
    },
    {
      "cell_type": "code",
      "metadata": {
        "colab": {
          "base_uri": "https://localhost:8080/"
        },
        "id": "fAmB_nYh-_wz",
        "outputId": "d1afdc31-23f8-44e4-d3fc-9cbf0d220037"
      },
      "source": [
        "import panel as pn\n",
        "\n",
        "def f(x):\n",
        "    return x * x\n",
        "    \n",
        "pn.interact(f, x=10)"
      ],
      "execution_count": 1,
      "outputs": [
        {
          "output_type": "stream",
          "text": [
            "WARNING:param.Column00005: Displaying Panel objects in the notebook requires the panel extension to be loaded. Ensure you run pn.extension() before displaying objects in the notebook.\n"
          ],
          "name": "stderr"
        },
        {
          "output_type": "execute_result",
          "data": {
            "text/plain": [
              "Column\n",
              "    [0] Column\n",
              "        [0] IntSlider(end=30, name='x', start=-10, value=10)\n",
              "    [1] Row\n",
              "        [0] Str(int, name='interactive00004')"
            ]
          },
          "metadata": {
            "tags": []
          },
          "execution_count": 1
        }
      ]
    }
  ]
}