{
  "nbformat": 4,
  "nbformat_minor": 0,
  "metadata": {
    "colab": {
      "provenance": [],
      "authorship_tag": "ABX9TyOTNHD/+ratJqicMQRvIIkV"
    },
    "kernelspec": {
      "name": "python3",
      "display_name": "Python 3"
    },
    "language_info": {
      "name": "python"
    }
  },
  "cells": [
    {
      "cell_type": "markdown",
      "source": [
        "[Reference](https://blog.stackademic.com/advanced-python-programming-techniques-34c55fba059a)"
      ],
      "metadata": {
        "id": "CpS8sJjm4eDl"
      }
    },
    {
      "cell_type": "markdown",
      "source": [
        "# 1. List Comprehensions"
      ],
      "metadata": {
        "id": "6VxLkRIf4gSd"
      }
    },
    {
      "cell_type": "code",
      "execution_count": 1,
      "metadata": {
        "colab": {
          "base_uri": "https://localhost:8080/"
        },
        "id": "VvXII9r04G4b",
        "outputId": "b3af2af6-5c0d-4a3d-dab2-f6aa2136061c"
      },
      "outputs": [
        {
          "output_type": "stream",
          "name": "stdout",
          "text": [
            "[0, 1, 4, 9, 16, 25, 36, 49, 64, 81]\n"
          ]
        }
      ],
      "source": [
        "squares = [x**2 for x in range(10)]\n",
        "print(squares)"
      ]
    },
    {
      "cell_type": "markdown",
      "source": [
        "# 2. Generator Expressions"
      ],
      "metadata": {
        "id": "9wMVMctI4iUD"
      }
    },
    {
      "cell_type": "code",
      "source": [
        "squares = (x**2 for x in range(10))\n",
        "for square in squares:\n",
        "    print(square)"
      ],
      "metadata": {
        "colab": {
          "base_uri": "https://localhost:8080/"
        },
        "id": "oCsK8qIJ4hep",
        "outputId": "b528f431-d121-49e4-9ba0-ffa6cda56969"
      },
      "execution_count": 2,
      "outputs": [
        {
          "output_type": "stream",
          "name": "stdout",
          "text": [
            "0\n",
            "1\n",
            "4\n",
            "9\n",
            "16\n",
            "25\n",
            "36\n",
            "49\n",
            "64\n",
            "81\n"
          ]
        }
      ]
    },
    {
      "cell_type": "markdown",
      "source": [
        "# 3. Decorators"
      ],
      "metadata": {
        "id": "RRvixRWu4kS6"
      }
    },
    {
      "cell_type": "code",
      "source": [
        "def my_decorator(func):\n",
        "    def wrapper():\n",
        "        print(\"Something is happening before the function is called.\")\n",
        "        func()\n",
        "        print(\"Something is happening after the function is called.\")\n",
        "    return wrapper\n",
        "\n",
        "@my_decorator\n",
        "def say_hello():\n",
        "    print(\"Hello!\")\n",
        "\n",
        "say_hello()"
      ],
      "metadata": {
        "colab": {
          "base_uri": "https://localhost:8080/"
        },
        "id": "Fsgp_sxX4jmJ",
        "outputId": "d9c0319c-ac21-4dcc-827d-04ca8a244260"
      },
      "execution_count": 3,
      "outputs": [
        {
          "output_type": "stream",
          "name": "stdout",
          "text": [
            "Something is happening before the function is called.\n",
            "Hello!\n",
            "Something is happening after the function is called.\n"
          ]
        }
      ]
    },
    {
      "cell_type": "markdown",
      "source": [
        "# Context Managers"
      ],
      "metadata": {
        "id": "2AVTKTkB4meR"
      }
    },
    {
      "cell_type": "code",
      "source": [
        "with open('file.txt', 'r') as file:\n",
        "    data = file.read()\n",
        "    print(data)"
      ],
      "metadata": {
        "id": "N5oeSk3C4lv4"
      },
      "execution_count": 5,
      "outputs": []
    },
    {
      "cell_type": "markdown",
      "source": [
        "# 5. Metaclasses"
      ],
      "metadata": {
        "id": "iR0Nz3JD4r4y"
      }
    },
    {
      "cell_type": "code",
      "source": [
        "class Meta(type):\n",
        "    def __new__(cls, name, bases, dct):\n",
        "        print(f\"Creating class {name}\")\n",
        "        return super().__new__(cls, name, bases, dct)\n",
        "\n",
        "class MyClass(metaclass=Meta):\n",
        "    pass"
      ],
      "metadata": {
        "colab": {
          "base_uri": "https://localhost:8080/"
        },
        "id": "CMZRn-CH4pAe",
        "outputId": "c813f688-1aed-463a-a147-6561be629bcd"
      },
      "execution_count": 6,
      "outputs": [
        {
          "output_type": "stream",
          "name": "stdout",
          "text": [
            "Creating class MyClass\n"
          ]
        }
      ]
    },
    {
      "cell_type": "markdown",
      "source": [
        "# 6. Coroutines and async/await"
      ],
      "metadata": {
        "id": "m3Oipaf84v74"
      }
    },
    {
      "cell_type": "code",
      "source": [
        "import asyncio\n",
        "\n",
        "async def say_hello():\n",
        "    await asyncio.sleep(1)\n",
        "    print(\"Hello\")\n",
        "\n",
        "asyncio.run(say_hello())"
      ],
      "metadata": {
        "id": "rspg149q4vCd"
      },
      "execution_count": 8,
      "outputs": []
    },
    {
      "cell_type": "code",
      "source": [
        "async def say_hello():\n",
        "    await asyncio.sleep(1)\n",
        "    print(\"Hello\")\n",
        "\n",
        "async def say_world():\n",
        "    await asyncio.sleep(2)\n",
        "    print(\"World\")\n",
        "\n",
        "async def main():\n",
        "    await asyncio.gather(say_hello(), say_world())\n",
        "\n",
        "asyncio.run(main())"
      ],
      "metadata": {
        "id": "xPmontX84w-K"
      },
      "execution_count": 9,
      "outputs": []
    },
    {
      "cell_type": "markdown",
      "source": [
        "# 7. Type Hinting"
      ],
      "metadata": {
        "id": "lXmEzlaA40Lw"
      }
    },
    {
      "cell_type": "code",
      "source": [
        "def greet(name: str) -> str:\n",
        "    return f\"Hello, {name}\"\n",
        "\n",
        "print(greet(\"Alice\"))"
      ],
      "metadata": {
        "colab": {
          "base_uri": "https://localhost:8080/"
        },
        "id": "7OOz6G0D4y42",
        "outputId": "45591a77-ceec-413c-b227-084591201488"
      },
      "execution_count": 10,
      "outputs": [
        {
          "output_type": "stream",
          "name": "stdout",
          "text": [
            "Hello, Alice\n"
          ]
        }
      ]
    },
    {
      "cell_type": "code",
      "source": [
        "from typing import List\n",
        "\n",
        "def greet_all(names: List[str]) -> None:\n",
        "    for name in names:\n",
        "        print(f\"Hello, {name}\")\n",
        "\n",
        "greet_all([\"Alice\", \"Bob\"])"
      ],
      "metadata": {
        "id": "KSAQwKIA41Ug",
        "outputId": "1d8aefd7-3ba8-472b-e6f2-55d6d9113290",
        "colab": {
          "base_uri": "https://localhost:8080/"
        }
      },
      "execution_count": 11,
      "outputs": [
        {
          "output_type": "stream",
          "name": "stdout",
          "text": [
            "Hello, Alice\n",
            "Hello, Bob\n"
          ]
        }
      ]
    }
  ]
}