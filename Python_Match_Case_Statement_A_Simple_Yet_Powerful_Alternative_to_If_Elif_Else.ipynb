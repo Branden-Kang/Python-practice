{
  "nbformat": 4,
  "nbformat_minor": 0,
  "metadata": {
    "colab": {
      "provenance": [],
      "authorship_tag": "ABX9TyOVL0L+ONDm2QxgdlV2e0kE"
    },
    "kernelspec": {
      "name": "python3",
      "display_name": "Python 3"
    },
    "language_info": {
      "name": "python"
    }
  },
  "cells": [
    {
      "cell_type": "markdown",
      "source": [
        "[Reference](https://medium.com/@aliyannshaikhh/69ba14194b5c)"
      ],
      "metadata": {
        "id": "0wgx4Q7BHxK1"
      }
    },
    {
      "cell_type": "code",
      "execution_count": 1,
      "metadata": {
        "colab": {
          "base_uri": "https://localhost:8080/"
        },
        "id": "994F29BqHsuw",
        "outputId": "b7b5acc6-77dc-4ce6-d587-785335bb4e76"
      },
      "outputs": [
        {
          "output_type": "stream",
          "name": "stdout",
          "text": [
            "Your food is on the way!\n"
          ]
        }
      ],
      "source": [
        "def track_order(status):\n",
        "    if status == \"ordered\":\n",
        "        print(\"Your order has been placed.\")\n",
        "    elif status == \"preparing\":\n",
        "        print(\"The restaurant is preparing your food.\")\n",
        "    elif status == \"out_for_delivery\":\n",
        "        print(\"Your food is on the way!\")\n",
        "    elif status == \"delivered\":\n",
        "        print(\"Enjoy your meal!\")\n",
        "    elif status == \"cancelled\":\n",
        "        print(\"Your order has been cancelled.\")\n",
        "    else:\n",
        "        print(\"Unknown order status.\")\n",
        "\n",
        "track_order(\"out_for_delivery\")"
      ]
    },
    {
      "cell_type": "code",
      "source": [
        "def track_order(status):\n",
        "    match status:\n",
        "        case \"ordered\":\n",
        "            print(\"Your order has been placed.\")\n",
        "        case \"preparing\":\n",
        "            print(\"The restaurant is preparing your food.\")\n",
        "        case \"out_for_delivery\":\n",
        "            print(\"Your food is on the way!\")\n",
        "        case \"delivered\":\n",
        "            print(\"Enjoy your meal!\")\n",
        "        case \"cancelled\":\n",
        "            print(\"Your order has been cancelled.\")\n",
        "        case _:\n",
        "            print(\"Unknown order status.\")\n",
        "\n",
        "track_order(\"out_for_delivery\")"
      ],
      "metadata": {
        "colab": {
          "base_uri": "https://localhost:8080/"
        },
        "id": "mfW0HiGtH1oT",
        "outputId": "419205cb-a57e-4b7f-cfe7-bde9c78d0146"
      },
      "execution_count": 3,
      "outputs": [
        {
          "output_type": "stream",
          "name": "stdout",
          "text": [
            "Your food is on the way!\n"
          ]
        }
      ]
    },
    {
      "cell_type": "code",
      "source": [
        "fruit = \"guava\"\n",
        "\n",
        "match fruit:\n",
        "    case \"dates\" | \"strawberry\" | \"guava\":\n",
        "        print(\"This is a fruit I like!\")\n",
        "    case _:\n",
        "        print(\"Not my favorite fruit.\")"
      ],
      "metadata": {
        "colab": {
          "base_uri": "https://localhost:8080/"
        },
        "id": "CHKMQEWjH4dC",
        "outputId": "c8354b0c-d808-46f4-da03-5f529e236ade"
      },
      "execution_count": 4,
      "outputs": [
        {
          "output_type": "stream",
          "name": "stdout",
          "text": [
            "This is a fruit I like!\n"
          ]
        }
      ]
    },
    {
      "cell_type": "code",
      "source": [
        "point = (3, 4)\n",
        "\n",
        "match point:\n",
        "    case (0, 0):\n",
        "        print(\"Origin\")\n",
        "    case (x, 0):\n",
        "        print(f\"On X-axis at x={x}\")\n",
        "    case (0, y):\n",
        "        print(f\"On Y-axis at y={y}\")\n",
        "    case (x, y):\n",
        "        print(f\"Point at x={x}, y={y}\")"
      ],
      "metadata": {
        "colab": {
          "base_uri": "https://localhost:8080/"
        },
        "id": "SUG21CgyH96-",
        "outputId": "04f7fb84-3216-40eb-d347-7c33adee351d"
      },
      "execution_count": 5,
      "outputs": [
        {
          "output_type": "stream",
          "name": "stdout",
          "text": [
            "Point at x=3, y=4\n"
          ]
        }
      ]
    },
    {
      "cell_type": "code",
      "source": [
        "data = 3.14\n",
        "\n",
        "match data:\n",
        "    case int():\n",
        "        print(\"This is an integer.\")\n",
        "    case str():\n",
        "        print(\"This is a string.\")\n",
        "    case list():\n",
        "        print(\"This is a list.\")\n",
        "    case float():\n",
        "        print(\"This is a float.\")\n",
        "    case _:\n",
        "        print(\"Unknown type.\")"
      ],
      "metadata": {
        "colab": {
          "base_uri": "https://localhost:8080/"
        },
        "id": "UByeR_rDIAC7",
        "outputId": "82b3b437-9e90-4168-a0d4-0baad5514356"
      },
      "execution_count": 6,
      "outputs": [
        {
          "output_type": "stream",
          "name": "stdout",
          "text": [
            "This is a float.\n"
          ]
        }
      ]
    },
    {
      "cell_type": "code",
      "source": [
        "number = 15\n",
        "\n",
        "match number:\n",
        "    case x if x < 0:\n",
        "        print(\"Negative number\")\n",
        "    case x if x % 2 == 0:\n",
        "        print(\"Even number\")\n",
        "    case x:\n",
        "        print(\"Odd number\")"
      ],
      "metadata": {
        "colab": {
          "base_uri": "https://localhost:8080/"
        },
        "id": "CVvH8pxtIBhp",
        "outputId": "21455a37-0d47-4217-aef0-09e0ea07f6e6"
      },
      "execution_count": 7,
      "outputs": [
        {
          "output_type": "stream",
          "name": "stdout",
          "text": [
            "Odd number\n"
          ]
        }
      ]
    }
  ]
}