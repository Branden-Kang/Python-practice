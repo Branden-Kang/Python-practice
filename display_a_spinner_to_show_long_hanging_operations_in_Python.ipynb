{
  "nbformat": 4,
  "nbformat_minor": 0,
  "metadata": {
    "colab": {
      "name": "display a spinner to show long-hanging operations in Python.ipynb",
      "provenance": [],
      "authorship_tag": "ABX9TyM4unzhS8WnVcB0C0xx3FjE"
    },
    "kernelspec": {
      "name": "python3",
      "display_name": "Python 3"
    }
  },
  "cells": [
    {
      "cell_type": "markdown",
      "metadata": {
        "id": "-vnMYJjqfVKg"
      },
      "source": [
        "[Reference](https://medium.com/dev-genius/how-to-display-a-spinner-to-show-long-hanging-operations-in-python-jupyter-db223563d4f2)"
      ]
    },
    {
      "cell_type": "code",
      "metadata": {
        "colab": {
          "base_uri": "https://localhost:8080/"
        },
        "id": "JY-sikoLfgLK",
        "outputId": "71704c2e-eb93-4fbc-920f-13bf4d3d5744"
      },
      "source": [
        "pip install yaspin"
      ],
      "execution_count": 2,
      "outputs": [
        {
          "output_type": "stream",
          "text": [
            "Collecting yaspin\n",
            "  Downloading https://files.pythonhosted.org/packages/13/c2/f60124969ababc9f00a6b423c715933f03a308b24bdf3582d256b3bea2c5/yaspin-1.4.0-py2.py3-none-any.whl\n",
            "Installing collected packages: yaspin\n",
            "Successfully installed yaspin-1.4.0\n"
          ],
          "name": "stdout"
        }
      ]
    },
    {
      "cell_type": "code",
      "metadata": {
        "colab": {
          "base_uri": "https://localhost:8080/"
        },
        "id": "HoY83roWfQLj",
        "outputId": "59df6c70-37a9-4c63-9658-72ff9f1813ac"
      },
      "source": [
        "import time\n",
        "from yaspin import yaspin\n",
        "\n",
        "# Context manager:\n",
        "with yaspin():\n",
        "    time.sleep(3)  # time consuming code\n",
        "\n",
        "# Function decorator:\n",
        "@yaspin(text=\"Loading...\")\n",
        "def some_operations():\n",
        "    time.sleep(3)  # time consuming code\n",
        "\n",
        "some_operations()"
      ],
      "execution_count": 3,
      "outputs": [
        {
          "output_type": "stream",
          "text": [
            "\u001b[K"
          ],
          "name": "stdout"
        }
      ]
    },
    {
      "cell_type": "code",
      "metadata": {
        "colab": {
          "base_uri": "https://localhost:8080/"
        },
        "id": "1WKM_bqtfeKz",
        "outputId": "5b59c1d4-daa6-4088-ab68-715a8254c444"
      },
      "source": [
        "import time\n",
        "from yaspin import yaspin\n",
        "\n",
        "# Moon:\n",
        "with yaspin().moon:\n",
        "    time.sleep(5)  # time consuming code"
      ],
      "execution_count": 5,
      "outputs": [
        {
          "output_type": "stream",
          "text": [
            "\u001b[K"
          ],
          "name": "stdout"
        }
      ]
    }
  ]
}