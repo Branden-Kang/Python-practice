{
  "nbformat": 4,
  "nbformat_minor": 0,
  "metadata": {
    "colab": {
      "provenance": [],
      "authorship_tag": "ABX9TyPjJZ5El+SFKttOhkBpb/EP"
    },
    "kernelspec": {
      "name": "python3",
      "display_name": "Python 3"
    },
    "language_info": {
      "name": "python"
    }
  },
  "cells": [
    {
      "cell_type": "markdown",
      "source": [
        "[Reference](https://towardsdatascience.com/4-python-hacks-you-should-know-29acbc45addd)"
      ],
      "metadata": {
        "id": "lfe736kpaph6"
      }
    },
    {
      "cell_type": "markdown",
      "source": [
        "# Duplicate a List using List Comprehension"
      ],
      "metadata": {
        "id": "E6KxJ7yDasu3"
      }
    },
    {
      "cell_type": "code",
      "execution_count": 1,
      "metadata": {
        "id": "ICkQPxixanoo"
      },
      "outputs": [],
      "source": [
        "original_list = [10,11,20,22,30,34]"
      ]
    },
    {
      "cell_type": "code",
      "source": [
        "duplicated_list = original_list.copy()"
      ],
      "metadata": {
        "id": "KYIBzxc1atQM"
      },
      "execution_count": 2,
      "outputs": []
    },
    {
      "cell_type": "code",
      "source": [
        "duplicated_list = [item for item in original_list]\n",
        "duplicated_list"
      ],
      "metadata": {
        "colab": {
          "base_uri": "https://localhost:8080/"
        },
        "id": "fzvSzt1VauDb",
        "outputId": "a598690c-db78-4223-af50-c4894cc8677d"
      },
      "execution_count": 3,
      "outputs": [
        {
          "output_type": "execute_result",
          "data": {
            "text/plain": [
              "[10, 11, 20, 22, 30, 34]"
            ]
          },
          "metadata": {},
          "execution_count": 3
        }
      ]
    },
    {
      "cell_type": "markdown",
      "source": [
        "# Multiply elements in a list using List Comprehension"
      ],
      "metadata": {
        "id": "npuwVH8-awjY"
      }
    },
    {
      "cell_type": "code",
      "source": [
        "original_list = [10,11,20,22,30,34]\n",
        "multiplied_list = [item*5 for item in original_list]"
      ],
      "metadata": {
        "id": "1amIifnGavlT"
      },
      "execution_count": 4,
      "outputs": []
    },
    {
      "cell_type": "code",
      "source": [
        "multiplied_list"
      ],
      "metadata": {
        "colab": {
          "base_uri": "https://localhost:8080/"
        },
        "id": "RS0PZ7yZayKw",
        "outputId": "7c80d517-41a5-49d2-fcc6-de6e27fcb454"
      },
      "execution_count": 5,
      "outputs": [
        {
          "output_type": "execute_result",
          "data": {
            "text/plain": [
              "[50, 55, 100, 110, 150, 170]"
            ]
          },
          "metadata": {},
          "execution_count": 5
        }
      ]
    },
    {
      "cell_type": "code",
      "source": [
        "import math\n",
        "multiplied_list = [math.sqrt(item)**3 for item in original_list]\n",
        "multiplied_list"
      ],
      "metadata": {
        "colab": {
          "base_uri": "https://localhost:8080/"
        },
        "id": "u6UgbZvNazXc",
        "outputId": "6128e8e6-6816-4f54-fa19-1bf1b5bb528e"
      },
      "execution_count": 6,
      "outputs": [
        {
          "output_type": "execute_result",
          "data": {
            "text/plain": [
              "[31.6227766016838,\n",
              " 36.4828726939094,\n",
              " 89.4427190999916,\n",
              " 103.18914671611546,\n",
              " 164.31676725154983,\n",
              " 198.25236442474025]"
            ]
          },
          "metadata": {},
          "execution_count": 6
        }
      ]
    },
    {
      "cell_type": "code",
      "source": [
        "def simple_function(item):\n",
        "    item1 = item*10\n",
        "    item2 = item*11\n",
        "    return math.sqrt(item1**2 + item2**2)\n",
        "\n",
        "multiplied_list = [simple_function(item) for item in original_list]\n",
        "multiplied_list"
      ],
      "metadata": {
        "colab": {
          "base_uri": "https://localhost:8080/"
        },
        "id": "WEL1_jVla3vq",
        "outputId": "25727c2e-a288-4030-ecaa-4846523ee3da"
      },
      "execution_count": 7,
      "outputs": [
        {
          "output_type": "execute_result",
          "data": {
            "text/plain": [
              "[148.66068747318505,\n",
              " 163.52675622050356,\n",
              " 297.3213749463701,\n",
              " 327.0535124410071,\n",
              " 445.9820624195552,\n",
              " 505.4463374088292]"
            ]
          },
          "metadata": {},
          "execution_count": 7
        }
      ]
    },
    {
      "cell_type": "markdown",
      "source": [
        "# Remove negative elements in a List using List Comprehension"
      ],
      "metadata": {
        "id": "kIEf19ona8N9"
      }
    },
    {
      "cell_type": "code",
      "source": [
        "original_list = [10, 22, -43, 0, 34, -11, -12, -0.1, 1]\n",
        "new_list = [item for item in original_list if item > 0]\n",
        "new_list"
      ],
      "metadata": {
        "colab": {
          "base_uri": "https://localhost:8080/"
        },
        "id": "WBDE9tQEa61G",
        "outputId": "af6e9cad-5bbb-4120-e835-f59d7b2b73e5"
      },
      "execution_count": 8,
      "outputs": [
        {
          "output_type": "execute_result",
          "data": {
            "text/plain": [
              "[10, 22, 34, 1]"
            ]
          },
          "metadata": {},
          "execution_count": 8
        }
      ]
    },
    {
      "cell_type": "code",
      "source": [
        "new_list = [item for item in original_list if item**2 > 200]\n",
        "new_list"
      ],
      "metadata": {
        "colab": {
          "base_uri": "https://localhost:8080/"
        },
        "id": "Duip3kC2a_Gy",
        "outputId": "f6b362b5-11f3-49b3-af1d-e71847af9ad4"
      },
      "execution_count": 9,
      "outputs": [
        {
          "output_type": "execute_result",
          "data": {
            "text/plain": [
              "[22, -43, 34]"
            ]
          },
          "metadata": {},
          "execution_count": 9
        }
      ]
    },
    {
      "cell_type": "markdown",
      "source": [
        "# Convert two lists into Dictionary Key-Value pair using dict()"
      ],
      "metadata": {
        "id": "JdDyigRobBZ7"
      }
    },
    {
      "cell_type": "code",
      "source": [
        "fields = ['name', 'country', 'age', 'gender']\n",
        "details = ['pablo', 'Mexico', 30, 'Male']\n",
        "new_dict = {key: value for key, value in zip(fields, details)}\n",
        "new_dict"
      ],
      "metadata": {
        "colab": {
          "base_uri": "https://localhost:8080/"
        },
        "id": "h0HsYCr9bAtO",
        "outputId": "0b7c6f30-caba-42b2-c1b6-9e25ee93e550"
      },
      "execution_count": 10,
      "outputs": [
        {
          "output_type": "execute_result",
          "data": {
            "text/plain": [
              "{'name': 'pablo', 'country': 'Mexico', 'age': 30, 'gender': 'Male'}"
            ]
          },
          "metadata": {},
          "execution_count": 10
        }
      ]
    }
  ]
}