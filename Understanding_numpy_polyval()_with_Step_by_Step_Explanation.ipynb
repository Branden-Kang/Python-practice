{
  "nbformat": 4,
  "nbformat_minor": 0,
  "metadata": {
    "colab": {
      "provenance": [],
      "authorship_tag": "ABX9TyO180YgyUIAjFGOOLg4vo0L"
    },
    "kernelspec": {
      "name": "python3",
      "display_name": "Python 3"
    },
    "language_info": {
      "name": "python"
    }
  },
  "cells": [
    {
      "cell_type": "markdown",
      "source": [
        "[Reference](https://medium.com/@amit25173/understanding-numpy-polyval-with-step-by-step-explanation-328a8eeb4b38)"
      ],
      "metadata": {
        "id": "v1dZVk1IcUdL"
      }
    },
    {
      "cell_type": "markdown",
      "source": [
        "# Evaluating a Simple Polynomial"
      ],
      "metadata": {
        "id": "Ycicms1scs_Y"
      }
    },
    {
      "cell_type": "code",
      "execution_count": 1,
      "metadata": {
        "colab": {
          "base_uri": "https://localhost:8080/"
        },
        "id": "d6t-CRARcPTc",
        "outputId": "ae81866d-10cf-4212-c290-f984db6c6340"
      },
      "outputs": [
        {
          "output_type": "stream",
          "name": "stdout",
          "text": [
            "25\n"
          ]
        }
      ],
      "source": [
        "import numpy as np\n",
        "\n",
        "# Define a polynomial using its coefficients\n",
        "coefficients = [2, -3, 5]  # Represents 2x² - 3x + 5\n",
        "\n",
        "# Evaluate the polynomial at x = 4\n",
        "result = np.polyval(coefficients, 4)\n",
        "print(result)  # Output: 25"
      ]
    },
    {
      "cell_type": "markdown",
      "source": [
        "# Evaluating Multiple Values at Once"
      ],
      "metadata": {
        "id": "joKnrRZ8cu3p"
      }
    },
    {
      "cell_type": "code",
      "source": [
        "x_values = np.array([0, 1, 2, 3, 4])\n",
        "results = np.polyval(coefficients, x_values)\n",
        "print(results)  # Output: [5, 4, 7, 14, 5]"
      ],
      "metadata": {
        "colab": {
          "base_uri": "https://localhost:8080/"
        },
        "id": "cZ1bxOpvcai_",
        "outputId": "11be7c7b-0d63-4d00-f04e-87289651798c"
      },
      "execution_count": 2,
      "outputs": [
        {
          "output_type": "stream",
          "name": "stdout",
          "text": [
            "[ 5  4  7 14 25]\n"
          ]
        }
      ]
    },
    {
      "cell_type": "markdown",
      "source": [
        "# Evaluating a Polynomial for Multiple Values"
      ],
      "metadata": {
        "id": "GITlbHf0c_YS"
      }
    },
    {
      "cell_type": "code",
      "source": [
        "import numpy as np\n",
        "\n",
        "# Polynomial coefficients: 2x² - 3x + 5\n",
        "coefficients = [2, -3, 5]\n",
        "\n",
        "# Multiple x values\n",
        "x_values = np.array([0, 1, 2, 3, 4])\n",
        "\n",
        "# Evaluate polynomial for all values in x_values\n",
        "results = np.polyval(coefficients, x_values)\n",
        "\n",
        "print(results)  # Output: [ 5  4  7  14  25]"
      ],
      "metadata": {
        "colab": {
          "base_uri": "https://localhost:8080/"
        },
        "id": "tInOPNMYcwrV",
        "outputId": "224c2702-73b9-48a4-a1e3-68ce7f803ae3"
      },
      "execution_count": 3,
      "outputs": [
        {
          "output_type": "stream",
          "name": "stdout",
          "text": [
            "[ 5  4  7 14 25]\n"
          ]
        }
      ]
    },
    {
      "cell_type": "markdown",
      "source": [
        "# Plotting the Polynomial Curve"
      ],
      "metadata": {
        "id": "OyUPF62BdFbd"
      }
    },
    {
      "cell_type": "code",
      "source": [
        "import matplotlib.pyplot as plt\n",
        "\n",
        "# Generate x values from -10 to 10\n",
        "x = np.linspace(-10, 10, 100)\n",
        "\n",
        "# Compute y values using numpy.polyval()\n",
        "y = np.polyval(coefficients, x)\n",
        "\n",
        "# Plot the polynomial curve\n",
        "plt.plot(x, y, label=\"2x² - 3x + 5\", color='blue')\n",
        "\n",
        "# Draw axes for reference\n",
        "plt.axhline(0, color='black', linewidth=0.5)  # X-axis\n",
        "plt.axvline(0, color='black', linewidth=0.5)  # Y-axis\n",
        "\n",
        "# Add grid, legend, and show the plot\n",
        "plt.grid()\n",
        "plt.legend()\n",
        "plt.show()"
      ],
      "metadata": {
        "colab": {
          "base_uri": "https://localhost:8080/",
          "height": 430
        },
        "id": "XYFJewfQdCBy",
        "outputId": "d50266bf-7333-42ce-862e-ca31b4c5af54"
      },
      "execution_count": 4,
      "outputs": [
        {
          "output_type": "display_data",
          "data": {
            "text/plain": [
              "<Figure size 640x480 with 1 Axes>"
            ],
            "image/png": "[encoded data removed]"
          },
          "metadata": {}
        }
      ]
    }
  ]
}