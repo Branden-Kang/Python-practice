{
  "nbformat": 4,
  "nbformat_minor": 0,
  "metadata": {
    "colab": {
      "provenance": [],
      "authorship_tag": "ABX9TyO8abI8JEdlf9/h5ueJXWv7"
    },
    "kernelspec": {
      "name": "python3",
      "display_name": "Python 3"
    },
    "language_info": {
      "name": "python"
    }
  },
  "cells": [
    {
      "cell_type": "markdown",
      "source": [
        "[Reference](https://blog.devgenius.io/python-map-function-a-comprehensive-guide-for-data-transformations-f89417ab940c)"
      ],
      "metadata": {
        "id": "lcTwNO_7y3ZW"
      }
    },
    {
      "cell_type": "code",
      "execution_count": 1,
      "metadata": {
        "colab": {
          "base_uri": "https://localhost:8080/"
        },
        "id": "bCD0ek4ky2CG",
        "outputId": "5a784864-f193-4e37-d08e-fffd209d4c88"
      },
      "outputs": [
        {
          "output_type": "stream",
          "name": "stdout",
          "text": [
            "[1, 4, 9, 16, 25]\n"
          ]
        }
      ],
      "source": [
        "# Using the map() function to square each element of a list\n",
        "numbers = [1, 2, 3, 4, 5]\n",
        "squared_numbers = map(lambda x: x**2, numbers)\n",
        "print(list(squared_numbers))"
      ]
    },
    {
      "cell_type": "code",
      "source": [
        "# Using the map() function with multiple iterables\n",
        "numbers1 = [1, 2, 3, 4, 5]\n",
        "numbers2 = [10, 20, 30, 40, 50]\n",
        "result = map(lambda x, y: x + y, numbers1, numbers2)\n",
        "print(list(result))"
      ],
      "metadata": {
        "colab": {
          "base_uri": "https://localhost:8080/"
        },
        "id": "7VREog09zKCq",
        "outputId": "a92f3741-8075-4f5f-fe0b-4c8f8e8801ce"
      },
      "execution_count": 2,
      "outputs": [
        {
          "output_type": "stream",
          "name": "stdout",
          "text": [
            "[11, 22, 33, 44, 55]\n"
          ]
        }
      ]
    },
    {
      "cell_type": "code",
      "source": [
        "# Using the map() function with built-in functions\n",
        "words = ['apple', 'banana', 'cherry']\n",
        "lengths = map(len, words)\n",
        "print(list(lengths))"
      ],
      "metadata": {
        "colab": {
          "base_uri": "https://localhost:8080/"
        },
        "id": "_iQ5NpWhzKUI",
        "outputId": "a7822253-d60c-44ae-c96d-b3baddc92ba2"
      },
      "execution_count": 3,
      "outputs": [
        {
          "output_type": "stream",
          "name": "stdout",
          "text": [
            "[5, 6, 6]\n"
          ]
        }
      ]
    }
  ]
}