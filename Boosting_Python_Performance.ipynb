{
  "nbformat": 4,
  "nbformat_minor": 0,
  "metadata": {
    "colab": {
      "provenance": [],
      "authorship_tag": "ABX9TyO9cD20lcJWaV7iQFjaXLZy"
    },
    "kernelspec": {
      "name": "python3",
      "display_name": "Python 3"
    },
    "language_info": {
      "name": "python"
    }
  },
  "cells": [
    {
      "cell_type": "markdown",
      "source": [
        "[Reference](https://medium.com/@23saini/boosting-python-performance-26fecb8b3245)"
      ],
      "metadata": {
        "id": "TfMjMIPhZPqt"
      }
    },
    {
      "cell_type": "code",
      "execution_count": 1,
      "metadata": {
        "colab": {
          "base_uri": "https://localhost:8080/"
        },
        "id": "C581lkhnZBIK",
        "outputId": "07bb74e1-b0ee-4beb-b21c-c8ceabf7ec1f"
      },
      "outputs": [
        {
          "output_type": "stream",
          "name": "stdout",
          "text": [
            "Found Alice!\n",
            "Found Alice!\n"
          ]
        }
      ],
      "source": [
        "# Inefficient approach using lists\n",
        "names = ['Alice', 'Bob', 'Charlie', 'David']\n",
        "if 'Alice' in names:\n",
        "    print('Found Alice!')\n",
        "\n",
        "\n",
        "# Efficient approach using sets\n",
        "names_set = {'Alice', 'Bob', 'Charlie', 'David'}\n",
        "if 'Alice' in names_set:\n",
        "    print('Found Alice!')"
      ]
    },
    {
      "cell_type": "code",
      "source": [
        "# Inefficient approach with multiple function calls\n",
        "def square(x):\n",
        "    return x * x\n",
        "\n",
        "def cube(x):\n",
        "    return x * x * x\n",
        "result1 = square(5)\n",
        "result2 = cube(5)\n",
        "# Efficient approach with consolidated code\n",
        "def square_and_cube(x):\n",
        "    return x * x, x * x * x\n",
        "result1, result2 = square_and_cube(5)"
      ],
      "metadata": {
        "id": "HIcIwy83ZXba"
      },
      "execution_count": 2,
      "outputs": []
    },
    {
      "cell_type": "code",
      "source": [
        "# Inefficient approach using manual iteration\n",
        "numbers = [1, 2, 3, 4, 5]\n",
        "squared_numbers = []\n",
        "for num in numbers:\n",
        "    squared_numbers.append(num ** 2)\n",
        "# Efficient approach using list comprehension\n",
        "squared_numbers = [num ** 2 for num in numbers]"
      ],
      "metadata": {
        "id": "Zvg4FsYSZc5v"
      },
      "execution_count": 3,
      "outputs": []
    },
    {
      "cell_type": "code",
      "source": [
        "# Inefficient approach with manual loop\n",
        "numbers = [1, 2, 3, 4, 5]\n",
        "sum_of_squares = 0\n",
        "for num in numbers:\n",
        "    sum_of_squares += num ** 2\n",
        "# Efficient approach using built-in functions\n",
        "sum_of_squares = sum(num ** 2 for num in numbers)"
      ],
      "metadata": {
        "id": "iXGQoomjZeb7"
      },
      "execution_count": 4,
      "outputs": []
    },
    {
      "cell_type": "code",
      "source": [
        "# Inefficient approach with unnecessary list creation\n",
        "names = ['Alice', 'Bob', 'Charlie']\n",
        "formatted_names = []\n",
        "for name in names:\n",
        "    formatted_names.append(name.upper())\n",
        "# Efficient approach using list comprehension\n",
        "formatted_names = [name.upper() for name in names]"
      ],
      "metadata": {
        "id": "OtaVS2UfZjln"
      },
      "execution_count": 5,
      "outputs": []
    },
    {
      "cell_type": "code",
      "source": [
        "# Inefficient approach with a list comprehension\n",
        "squared_numbers = [num ** 2 for num in range(1, 1000000)]\n",
        "# Efficient approach using a generator expression\n",
        "squared_numbers = (num ** 2 for num in range(1, 1000000))"
      ],
      "metadata": {
        "id": "dZPEzdvoZk_N"
      },
      "execution_count": 6,
      "outputs": []
    }
  ]
}