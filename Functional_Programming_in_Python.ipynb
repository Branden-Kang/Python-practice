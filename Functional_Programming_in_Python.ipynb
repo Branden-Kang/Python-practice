{
  "nbformat": 4,
  "nbformat_minor": 0,
  "metadata": {
    "colab": {
      "name": "Functional Programming in Python.ipynb",
      "provenance": [],
      "authorship_tag": "ABX9TyPCRXalkbxxR1K+p8/Bgi3w"
    },
    "kernelspec": {
      "name": "python3",
      "display_name": "Python 3"
    }
  },
  "cells": [
    {
      "cell_type": "code",
      "metadata": {
        "id": "JntCMBzo4JmG"
      },
      "source": [
        "def foo():\n",
        "   print(\"foo\")"
      ],
      "execution_count": 1,
      "outputs": []
    },
    {
      "cell_type": "code",
      "metadata": {
        "colab": {
          "base_uri": "https://localhost:8080/"
        },
        "id": "qhALxtP34MSd",
        "outputId": "44877f32-38f4-4688-e34e-90900f02ffd1"
      },
      "source": [
        "bar = foo\n",
        "bar()"
      ],
      "execution_count": 2,
      "outputs": [
        {
          "output_type": "stream",
          "text": [
            "foo\n"
          ],
          "name": "stdout"
        }
      ]
    },
    {
      "cell_type": "code",
      "metadata": {
        "id": "kOQvGYTo4NRx"
      },
      "source": [
        "class Greeter:\n",
        "   def __init__(self, greeting):\n",
        "      self.greeting = greeting\n",
        "   def __call__(self, name):\n",
        "      return self.greeting + \" \" + name"
      ],
      "execution_count": 3,
      "outputs": []
    },
    {
      "cell_type": "code",
      "metadata": {
        "colab": {
          "base_uri": "https://localhost:8080/",
          "height": 37
        },
        "id": "cr2N88bF4RLO",
        "outputId": "6513ce64-0769-4363-f1a2-4b8db0760d6a"
      },
      "source": [
        "morning = Greeter(\"good morning\")\n",
        "morning(\"john\")"
      ],
      "execution_count": 4,
      "outputs": [
        {
          "output_type": "execute_result",
          "data": {
            "application/vnd.google.colaboratory.intrinsic+json": {
              "type": "string"
            },
            "text/plain": [
              "'good morning john'"
            ]
          },
          "metadata": {
            "tags": []
          },
          "execution_count": 4
        }
      ]
    },
    {
      "cell_type": "code",
      "metadata": {
        "colab": {
          "base_uri": "https://localhost:8080/"
        },
        "id": "KNGv24Gj4S78",
        "outputId": "0d99c2f4-60af-4a9a-fa32-c5e4e9ce34a2"
      },
      "source": [
        "callable(morning)\n",
        "callable(145)"
      ],
      "execution_count": 5,
      "outputs": [
        {
          "output_type": "execute_result",
          "data": {
            "text/plain": [
              "False"
            ]
          },
          "metadata": {
            "tags": []
          },
          "execution_count": 5
        }
      ]
    },
    {
      "cell_type": "code",
      "metadata": {
        "colab": {
          "base_uri": "https://localhost:8080/"
        },
        "id": "p_m6GWha4Wor",
        "outputId": "b8699f35-059c-4723-d32d-8ca23c9fba4d"
      },
      "source": [
        "mapping = {\n",
        "   0 : foo,\n",
        "   1 : bar\n",
        "}\n",
        "\n",
        "x = int(input())\n",
        "mapping[x]()"
      ],
      "execution_count": 9,
      "outputs": [
        {
          "output_type": "stream",
          "text": [
            "0\n",
            "foo\n"
          ],
          "name": "stdout"
        }
      ]
    },
    {
      "cell_type": "code",
      "metadata": {
        "id": "aTW_29TK4aGq"
      },
      "source": [
        "def iterate(list_of_items):\n",
        "    for item in list_of_items:\n",
        "        print(item)"
      ],
      "execution_count": 10,
      "outputs": []
    },
    {
      "cell_type": "code",
      "metadata": {
        "id": "_DSI47774lRx"
      },
      "source": [
        "def iterate_custom(list_of_items, custom_func):\n",
        "   for item in list_of_items:\n",
        "        custom_func(item)"
      ],
      "execution_count": 11,
      "outputs": []
    },
    {
      "cell_type": "code",
      "metadata": {
        "colab": {
          "base_uri": "https://localhost:8080/"
        },
        "id": "GMavy7tQ4leL",
        "outputId": "c282c239-81b8-45e1-fbcb-cd414b4cf315"
      },
      "source": [
        "def add(x, y):\n",
        "    return x + y\n",
        "def sub(x, y):\n",
        "    return x - y\n",
        "def mult(x, y):\n",
        "    return x * y\n",
        "def calculator(opcode):\n",
        "    if opcode == 1:\n",
        "       return add\n",
        "    elif opcode == 2:\n",
        "       return sub\n",
        "    else:\n",
        "       return mult \n",
        "my_calc = calculator(2)\n",
        "my_calc(5, 4)\n",
        "my_calc = calculator(9)\n",
        "my_calc(5, 4)"
      ],
      "execution_count": 12,
      "outputs": [
        {
          "output_type": "execute_result",
          "data": {
            "text/plain": [
              "20"
            ]
          },
          "metadata": {
            "tags": []
          },
          "execution_count": 12
        }
      ]
    },
    {
      "cell_type": "code",
      "metadata": {
        "id": "A1tYOruQ4snv"
      },
      "source": [
        "def fib(n):\n",
        "    def fib_helper(fk1, fk, k):\n",
        "        if n == k:\n",
        "           return fk\n",
        "        else:\n",
        "           return fib_helper(fk, fk1+fk, k+1)    \n",
        "    \n",
        "    if n <= 1:\n",
        "       return n\n",
        "    else:\n",
        "       return fib_helper(0, 1, 1)"
      ],
      "execution_count": 13,
      "outputs": []
    },
    {
      "cell_type": "code",
      "metadata": {
        "colab": {
          "base_uri": "https://localhost:8080/"
        },
        "id": "NzeRmcia4vSR",
        "outputId": "7b03044d-c394-4b78-f42d-d056e0321cf0"
      },
      "source": [
        "mult = lambda x, y: x * y\n",
        "mult(1, 2)"
      ],
      "execution_count": 14,
      "outputs": [
        {
          "output_type": "execute_result",
          "data": {
            "text/plain": [
              "2"
            ]
          },
          "metadata": {
            "tags": []
          },
          "execution_count": 14
        }
      ]
    },
    {
      "cell_type": "code",
      "metadata": {
        "id": "vKz3D4-34wdU"
      },
      "source": [
        "import collections\n",
        "pre_fill = collections.defaultdict(lambda: (0, 0))"
      ],
      "execution_count": 15,
      "outputs": []
    },
    {
      "cell_type": "code",
      "metadata": {
        "colab": {
          "base_uri": "https://localhost:8080/"
        },
        "id": "5S-4JZPK4yu5",
        "outputId": "9f21b618-7468-42d6-963b-1d22f61f78b5"
      },
      "source": [
        "pre_fill"
      ],
      "execution_count": 16,
      "outputs": [
        {
          "output_type": "execute_result",
          "data": {
            "text/plain": [
              "defaultdict(<function __main__.<lambda>>, {})"
            ]
          },
          "metadata": {
            "tags": []
          },
          "execution_count": 16
        }
      ]
    },
    {
      "cell_type": "markdown",
      "metadata": {
        "id": "X7Vz8hf244vd"
      },
      "source": [
        "# Map"
      ]
    },
    {
      "cell_type": "code",
      "metadata": {
        "id": "LgBDgL1_4zwo"
      },
      "source": [
        "def multiply_by_four(x):\n",
        "    return x * 4\n",
        "    \n",
        "scores = [3, 6, 8, 3, 5, 7]\n",
        "modified_scores = list(map(multiply_by_four, scores))"
      ],
      "execution_count": 17,
      "outputs": []
    },
    {
      "cell_type": "code",
      "metadata": {
        "colab": {
          "base_uri": "https://localhost:8080/"
        },
        "id": "4ZzOv5lD41uA",
        "outputId": "08b8c8ce-21d4-4709-8936-cbc393f4c898"
      },
      "source": [
        "modified_scores = list(map(lambda x: 4 * x, scores))\n",
        "modified_scores"
      ],
      "execution_count": 18,
      "outputs": [
        {
          "output_type": "execute_result",
          "data": {
            "text/plain": [
              "[12, 24, 32, 12, 20, 28]"
            ]
          },
          "metadata": {
            "tags": []
          },
          "execution_count": 18
        }
      ]
    },
    {
      "cell_type": "markdown",
      "metadata": {
        "id": "GjQggzeW46tt"
      },
      "source": [
        "# Filter"
      ]
    },
    {
      "cell_type": "code",
      "metadata": {
        "colab": {
          "base_uri": "https://localhost:8080/"
        },
        "id": "C2h-_NtU43fh",
        "outputId": "be06eb15-893a-4fb5-ac6b-e595108fe5f6"
      },
      "source": [
        "even_scores = list(filter(lambda x: True if (x % 2 == 0) else False, scores))\n",
        "even_scores"
      ],
      "execution_count": 19,
      "outputs": [
        {
          "output_type": "execute_result",
          "data": {
            "text/plain": [
              "[6, 8]"
            ]
          },
          "metadata": {
            "tags": []
          },
          "execution_count": 19
        }
      ]
    },
    {
      "cell_type": "markdown",
      "metadata": {
        "id": "IsNpDG5C492G"
      },
      "source": [
        "# Reduce"
      ]
    },
    {
      "cell_type": "code",
      "metadata": {
        "colab": {
          "base_uri": "https://localhost:8080/"
        },
        "id": "7LTcMkIN49AT",
        "outputId": "88c02615-cc5e-4e86-ab48-0bd461556594"
      },
      "source": [
        "from functools import reduce\n",
        "sum_scores = reduce((lambda x, y: x + y), scores)\n",
        "sum_scores"
      ],
      "execution_count": 21,
      "outputs": [
        {
          "output_type": "execute_result",
          "data": {
            "text/plain": [
              "32"
            ]
          },
          "metadata": {
            "tags": []
          },
          "execution_count": 21
        }
      ]
    }
  ]
}