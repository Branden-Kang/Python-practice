{
  "nbformat": 4,
  "nbformat_minor": 0,
  "metadata": {
    "colab": {
      "name": "Functional Programming in Python.ipynb",
      "provenance": [],
      "authorship_tag": "ABX9TyMbkRN98XxxVT3t/ovj+p1r"
    },
    "kernelspec": {
      "name": "python3",
      "display_name": "Python 3"
    }
  },
  "cells": [
    {
      "cell_type": "markdown",
      "metadata": {
        "id": "_Y16lssx7r0f"
      },
      "source": [
        "[Reference](https://brian-candler.medium.com/simple-function-composition-644715f04d5d)"
      ]
    },
    {
      "cell_type": "code",
      "metadata": {
        "colab": {
          "base_uri": "https://localhost:8080/"
        },
        "id": "6f6IgxzC7pRm",
        "outputId": "f73198e2-76bd-4543-facd-22fd20f8caa1"
      },
      "source": [
        "def f(x):\n",
        "    return x*x\n",
        "\n",
        "def g(x):\n",
        "    return 2*x\n",
        "\n",
        "def h(x):\n",
        "    return 1+x\n",
        "\n",
        "print(h(g(f(4))))"
      ],
      "execution_count": 1,
      "outputs": [
        {
          "output_type": "stream",
          "text": [
            "33\n"
          ],
          "name": "stdout"
        }
      ]
    },
    {
      "cell_type": "code",
      "metadata": {
        "colab": {
          "base_uri": "https://localhost:8080/"
        },
        "id": "elC6v-UW7uk9",
        "outputId": "d2f29e37-aaaf-4414-e1eb-a0c43ba0f39a"
      },
      "source": [
        "def f(x):\n",
        "    return x*x\n",
        "\n",
        "def g(x):\n",
        "    return 2*x\n",
        "\n",
        "def h(x):\n",
        "    return 1+x\n",
        "\n",
        "v0 = 4\n",
        "v1 = f(v0)\n",
        "v2 = g(v1)\n",
        "v3 = h(v2)\n",
        "print(v3)"
      ],
      "execution_count": 2,
      "outputs": [
        {
          "output_type": "stream",
          "text": [
            "33\n"
          ],
          "name": "stdout"
        }
      ]
    },
    {
      "cell_type": "code",
      "metadata": {
        "colab": {
          "base_uri": "https://localhost:8080/"
        },
        "id": "aJuwEmPk7wuB",
        "outputId": "360c2303-13f3-4d39-fcd5-8116c84579a2"
      },
      "source": [
        "def f(x):\n",
        "    return x*x\n",
        "\n",
        "def g(x):\n",
        "    return 2*x\n",
        "\n",
        "def h(x):\n",
        "    return 1+x\n",
        "\n",
        "def compose(f1, f2):\n",
        "    return lambda v: f1(f2(v))\n",
        "\n",
        "hgf = compose(h,\n",
        "      compose(g,\n",
        "      f))\n",
        "print(hgf(4))"
      ],
      "execution_count": 3,
      "outputs": [
        {
          "output_type": "stream",
          "text": [
            "33\n"
          ],
          "name": "stdout"
        }
      ]
    },
    {
      "cell_type": "code",
      "metadata": {
        "colab": {
          "base_uri": "https://localhost:8080/"
        },
        "id": "p4HWG9HR7y47",
        "outputId": "f7ddd670-65de-4091-ca75-a23a5694a29f"
      },
      "source": [
        "class Value:\n",
        "    def __init__(self, value):\n",
        "        self.value = value\n",
        "\n",
        "    # `value >> func` calls `func(unwrapped-value)`\n",
        "    def __rshift__(self, other):\n",
        "        return other(self.value)\n",
        "\n",
        "def f(x):\n",
        "    return Value(x*x)\n",
        "\n",
        "def g(x):\n",
        "    return Value(2*x)\n",
        "\n",
        "def h(x):\n",
        "    return Value(1+x)\n",
        "\n",
        "result = Value(4) >> f >> g >> h\n",
        "print(result.value)"
      ],
      "execution_count": 4,
      "outputs": [
        {
          "output_type": "stream",
          "text": [
            "33\n"
          ],
          "name": "stdout"
        }
      ]
    }
  ]
}