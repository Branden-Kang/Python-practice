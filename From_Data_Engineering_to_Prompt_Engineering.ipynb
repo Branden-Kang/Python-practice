{
  "nbformat": 4,
  "nbformat_minor": 0,
  "metadata": {
    "colab": {
      "provenance": [],
      "authorship_tag": "ABX9TyM+nBUlbRFLd+d1QKS2ZCXy"
    },
    "kernelspec": {
      "name": "python3",
      "display_name": "Python 3"
    },
    "language_info": {
      "name": "python"
    }
  },
  "cells": [
    {
      "cell_type": "markdown",
      "source": [
        "[Reference](https://towardsdatascience.com/from-data-engineering-to-prompt-engineering-5debd1c636e0)"
      ],
      "metadata": {
        "id": "u8mHPcfa-vBM"
      }
    },
    {
      "cell_type": "code",
      "execution_count": 1,
      "metadata": {
        "colab": {
          "base_uri": "https://localhost:8080/"
        },
        "id": "DC-mr4_A-W5Q",
        "outputId": "3380cea6-d390-400d-abef-15b4b3c8d43e"
      },
      "outputs": [
        {
          "output_type": "stream",
          "name": "stdout",
          "text": [
            "       Continent  Country  Year      Category    Variable   Value\n",
            "0           Asia    China  2022       Economy         GDP    18.1\n",
            "1           Asia    China  2022  Demographics  Population  1412.0\n",
            "2  North America      USA  2022       Economy         GDP    25.5\n",
            "3  North America      USA  2022  Demographics  Population   333.0\n",
            "4         Europe  Germany  2022       Economy         GDP     3.9\n",
            "5         Europe  Germany  2022  Demographics  Population    84.0\n"
          ]
        }
      ],
      "source": [
        "import pandas as pd\n",
        "\n",
        "data = {\n",
        "    'Continent': ['Asia', 'Asia', 'North America', 'North America', 'Europe', 'Europe'],\n",
        "    'Country': ['China', 'China', 'USA', 'USA', 'Germany', 'Germany'],\n",
        "    'Year': [2022, 2022, 2022, 2022, 2022, 2022],\n",
        "    'Category': ['Economy', 'Demographics', 'Economy', 'Demographics', 'Economy', 'Demographics'],\n",
        "    'Variable': ['GDP', 'Population', 'GDP', 'Population', 'GDP', 'Population'],\n",
        "    'Value': [18.1, 1412, 25.5, 333, 3.9, 84]\n",
        "}\n",
        "\n",
        "df = pd.DataFrame(data)\n",
        "print(df)"
      ]
    },
    {
      "cell_type": "code",
      "source": [
        "import pandas as pd\n",
        "\n",
        "data = {\n",
        "    'Continent': ['Asia', 'Asia', 'North America', 'North America', 'Europe', 'Europe'],\n",
        "    'Country': ['China', 'China', 'USA', 'USA', 'Germany', 'Germany'],\n",
        "    'Year': [2022, 2022, 2022, 2022, 2022, 2022],\n",
        "    'Category': ['Economy', 'Demographics', 'Economy', 'Demographics', 'Economy', 'Demographics'],\n",
        "    'Variable': ['GDP', 'Population', 'GDP', 'Population', 'GDP', 'Population'],\n",
        "    'Value': [18.1, 1412, 25.5, 333, 3.9, 84]\n",
        "}\n",
        "\n",
        "df = pd.DataFrame(data)\n",
        "\n",
        "# Pivot the table\n",
        "pivot_df = df.pivot_table(index=['Continent', 'Country', 'Year'], columns='Category', values='Value').reset_index()\n",
        "\n",
        "# Rename the columns\n",
        "pivot_df.columns.name = None\n",
        "pivot_df.columns = [column if column != 'Variable' else None for column in pivot_df.columns]\n",
        "\n",
        "print(pivot_df)"
      ],
      "metadata": {
        "colab": {
          "base_uri": "https://localhost:8080/"
        },
        "id": "drqh3Tbl-0RV",
        "outputId": "c9aad4ff-744d-43b5-d7f4-b13f4ea3061d"
      },
      "execution_count": 2,
      "outputs": [
        {
          "output_type": "stream",
          "name": "stdout",
          "text": [
            "       Continent  Country  Year  Demographics  Economy\n",
            "0           Asia    China  2022        1412.0     18.1\n",
            "1         Europe  Germany  2022          84.0      3.9\n",
            "2  North America      USA  2022         333.0     25.5\n"
          ]
        }
      ]
    },
    {
      "cell_type": "code",
      "source": [
        "import pandas as pd\n",
        "\n",
        "data = {\n",
        "    'Continent': ['Asia', 'Asia', 'North America', 'North America', 'Europe', 'Europe'],\n",
        "    'Country': ['China', 'China', 'USA', 'USA', 'Germany', 'Germany'],\n",
        "    'Year': [2022, 2022, 2022, 2022, 2022, 2022],\n",
        "    'Category': ['Economy', 'Demographics', 'Economy', 'Demographics', 'Economy', 'Demographics'],\n",
        "    'Variable': ['GDP', 'Population', 'GDP', 'Population', 'GDP', 'Population'],\n",
        "    'Value': [18.1, 1412, 25.5, 333, 3.9, 84]\n",
        "}\n",
        "\n",
        "df = pd.DataFrame(data)\n",
        "\n",
        "# Pivot the table\n",
        "pivot_df = df.pivot_table(index=['Continent', 'Country', 'Year'], columns='Variable', values='Value').reset_index()\n",
        "\n",
        "# Rename the columns\n",
        "pivot_df.columns.name = None\n",
        "pivot_df.columns = ['Continent', 'Country', 'Year', 'GDP', 'Population']\n",
        "\n",
        "print(pivot_df)"
      ],
      "metadata": {
        "colab": {
          "base_uri": "https://localhost:8080/"
        },
        "id": "6CDdiQ6O-2ek",
        "outputId": "03aff320-c8fc-4fb8-a9d2-fbcf454a8bbe"
      },
      "execution_count": 3,
      "outputs": [
        {
          "output_type": "stream",
          "name": "stdout",
          "text": [
            "       Continent  Country  Year   GDP  Population\n",
            "0           Asia    China  2022  18.1      1412.0\n",
            "1         Europe  Germany  2022   3.9        84.0\n",
            "2  North America      USA  2022  25.5       333.0\n"
          ]
        }
      ]
    },
    {
      "cell_type": "code",
      "source": [
        "import pandas as pd\n",
        "\n",
        "data = {\n",
        "    'Continent': ['Asia', 'Asia', 'North America', 'North America', 'Europe', 'Europe'],\n",
        "    'Country': ['China', 'China', 'USA', 'USA', 'Germany', 'Germany'],\n",
        "    'Year': [2022, 2022, 2022, 2022, 2022, 2022],\n",
        "    'Category': ['Economy', 'Demographics', 'Economy', 'Demographics', 'Economy', 'Demographics'],\n",
        "    'Variable': ['GDP', 'Population', 'GDP', 'Population', 'GDP', 'Population'],\n",
        "    'Value': [18.1, 1412, 25.5, 333, 3.9, 84]\n",
        "}\n",
        "\n",
        "iso_codes = {\n",
        "    'China': 'CN',\n",
        "    'USA': 'US',\n",
        "    'Germany': 'DE'\n",
        "}\n",
        "\n",
        "df = pd.DataFrame(data)\n",
        "\n",
        "# Add ISO code column\n",
        "df['ISO Code'] = df['Country'].map(iso_codes)\n",
        "\n",
        "# Pivot the table\n",
        "pivot_df = df.pivot_table(index=['Continent', 'Country', 'ISO Code', 'Year'], columns='Variable', values='Value').reset_index()\n",
        "\n",
        "# Rename the columns\n",
        "pivot_df.columns.name = None\n",
        "pivot_df.columns = ['Continent', 'Country', 'ISO Code', 'Year', 'GDP', 'Population']\n",
        "\n",
        "print(pivot_df)"
      ],
      "metadata": {
        "colab": {
          "base_uri": "https://localhost:8080/"
        },
        "id": "pMVnpS88-3yI",
        "outputId": "ac5cb370-66e9-43e9-da6a-beecb7751067"
      },
      "execution_count": 4,
      "outputs": [
        {
          "output_type": "stream",
          "name": "stdout",
          "text": [
            "       Continent  Country ISO Code  Year   GDP  Population\n",
            "0           Asia    China       CN  2022  18.1      1412.0\n",
            "1         Europe  Germany       DE  2022   3.9        84.0\n",
            "2  North America      USA       US  2022  25.5       333.0\n"
          ]
        }
      ]
    },
    {
      "cell_type": "code",
      "source": [
        "import pandas as pd\n",
        "\n",
        "data = {\n",
        "    'Continent': ['Asia', 'Asia', 'North America', 'North America', 'Europe', 'Europe'],\n",
        "    'Country': ['China', 'China', 'USA', 'USA', 'Germany', 'Germany'],\n",
        "    'Year': [2022, 2022, 2022, 2022, 2022, 2022],\n",
        "    'Category': ['Economy', 'Demographics', 'Economy', 'Demographics', 'Economy', 'Demographics'],\n",
        "    'Variable': ['GDP', 'Population', 'GDP', 'Population', 'GDP', 'Population'],\n",
        "    'Value': [18.1, 1412, 25.5, 333, 3.9, 84]\n",
        "}\n",
        "\n",
        "iso_codes = {\n",
        "    'China': 'CN',\n",
        "    'USA': 'US',\n",
        "    'Germany': 'DE'\n",
        "}\n",
        "\n",
        "df = pd.DataFrame(data)\n",
        "\n",
        "# Add ISO code column\n",
        "df['ISO Code'] = df['Country'].map(iso_codes)\n",
        "\n",
        "# Pivot the table\n",
        "pivot_df = df.pivot_table(index=['Continent', 'Country', 'ISO Code', 'Year'], columns='Variable', values='Value').reset_index()\n",
        "\n",
        "# Calculate GDP per capita\n",
        "pivot_df['GDP per capita'] = pivot_df['GDP'] / pivot_df['Population']\n",
        "\n",
        "# Rename the columns\n",
        "pivot_df.columns.name = None\n",
        "pivot_df.columns = ['Continent', 'Country', 'ISO Code', 'Year', 'GDP', 'Population', 'GDP per capita']\n",
        "\n",
        "print(pivot_df)"
      ],
      "metadata": {
        "colab": {
          "base_uri": "https://localhost:8080/"
        },
        "id": "5VPN9gAI-5mA",
        "outputId": "ddc240ef-550a-4f07-d1cc-332346cd244c"
      },
      "execution_count": 5,
      "outputs": [
        {
          "output_type": "stream",
          "name": "stdout",
          "text": [
            "       Continent  Country ISO Code  Year   GDP  Population  GDP per capita\n",
            "0           Asia    China       CN  2022  18.1      1412.0        0.012819\n",
            "1         Europe  Germany       DE  2022   3.9        84.0        0.046429\n",
            "2  North America      USA       US  2022  25.5       333.0        0.076577\n"
          ]
        }
      ]
    },
    {
      "cell_type": "code",
      "source": [
        "import pandas as pd\n",
        "\n",
        "data = {\n",
        "    'Continent': ['Asia', 'Asia', 'North America', 'North America', 'Europe', 'Europe'],\n",
        "    'Country': ['China', 'China', 'USA', 'USA', 'Germany', 'Germany'],\n",
        "    'Year': [2022, 2022, 2022, 2022, 2022, 2022],\n",
        "    'Category': ['Economy', 'Demographics', 'Economy', 'Demographics', 'Economy', 'Demographics'],\n",
        "    'Variable': ['GDP', 'Population', 'GDP', 'Population', 'GDP', 'Population'],\n",
        "    'Value': [18.1, 1412, 25.5, 333, 3.9, 84]\n",
        "}\n",
        "\n",
        "df = pd.DataFrame(data)\n",
        "\n",
        "# Pivot the table\n",
        "pivot_df = df.pivot_table(index=['Continent', 'Country', 'Year'], columns='Variable', values='Value').reset_index()\n",
        "\n",
        "# Calculate correlation coefficient\n",
        "correlation_coefficient = pivot_df['GDP'].corr(pivot_df['Population'])\n",
        "\n",
        "print(\"Correlation Coefficient: {:.3f}\".format(correlation_coefficient))"
      ],
      "metadata": {
        "colab": {
          "base_uri": "https://localhost:8080/"
        },
        "id": "C8fo3iUc-7iP",
        "outputId": "6bc05b1c-47fa-41df-97c3-cbe2714fcce1"
      },
      "execution_count": 6,
      "outputs": [
        {
          "output_type": "stream",
          "name": "stdout",
          "text": [
            "Correlation Coefficient: 0.350\n"
          ]
        }
      ]
    }
  ]
}