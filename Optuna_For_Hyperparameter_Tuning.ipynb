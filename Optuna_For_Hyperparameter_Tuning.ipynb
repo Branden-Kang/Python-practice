{
  "nbformat": 4,
  "nbformat_minor": 0,
  "metadata": {
    "colab": {
      "name": "Optuna For Hyperparameter Tuning.ipynb",
      "provenance": [],
      "authorship_tag": "ABX9TyPlhy6/a+W2Jk2nz03UrnRX"
    },
    "kernelspec": {
      "name": "python3",
      "display_name": "Python 3"
    },
    "language_info": {
      "name": "python"
    }
  },
  "cells": [
    {
      "cell_type": "markdown",
      "metadata": {
        "id": "MpO0waIaCwRC"
      },
      "source": [
        "[Reference](https://towardsdatascience.com/why-is-everyone-at-kaggle-obsessed-with-optuna-for-hyperparameter-tuning-7608fdca337c)"
      ]
    },
    {
      "cell_type": "code",
      "metadata": {
        "colab": {
          "base_uri": "https://localhost:8080/"
        },
        "id": "cF891JRNB-rd",
        "outputId": "71ddc264-cfd5-43ab-9952-fa270c0e097a"
      },
      "source": [
        "pip install optuna"
      ],
      "execution_count": 1,
      "outputs": [
        {
          "output_type": "stream",
          "text": [
            "Collecting optuna\n",
            "  Downloading optuna-2.9.1-py3-none-any.whl (302 kB)\n",
            "\u001b[K     |████████████████████████████████| 302 kB 21.7 MB/s \n",
            "\u001b[?25hRequirement already satisfied: numpy in /usr/local/lib/python3.7/dist-packages (from optuna) (1.19.5)\n",
            "Requirement already satisfied: tqdm in /usr/local/lib/python3.7/dist-packages (from optuna) (4.41.1)\n",
            "Requirement already satisfied: packaging>=20.0 in /usr/local/lib/python3.7/dist-packages (from optuna) (21.0)\n",
            "Collecting alembic\n",
            "  Downloading alembic-1.6.5-py2.py3-none-any.whl (164 kB)\n",
            "\u001b[K     |████████████████████████████████| 164 kB 41.3 MB/s \n",
            "\u001b[?25hRequirement already satisfied: scipy!=1.4.0 in /usr/local/lib/python3.7/dist-packages (from optuna) (1.4.1)\n",
            "Collecting cliff\n",
            "  Downloading cliff-3.8.0-py3-none-any.whl (80 kB)\n",
            "\u001b[K     |████████████████████████████████| 80 kB 5.6 MB/s \n",
            "\u001b[?25hRequirement already satisfied: PyYAML in /usr/local/lib/python3.7/dist-packages (from optuna) (3.13)\n",
            "Collecting cmaes>=0.8.2\n",
            "  Downloading cmaes-0.8.2-py3-none-any.whl (15 kB)\n",
            "Collecting colorlog\n",
            "  Downloading colorlog-5.0.1-py2.py3-none-any.whl (10 kB)\n",
            "Requirement already satisfied: sqlalchemy>=1.1.0 in /usr/local/lib/python3.7/dist-packages (from optuna) (1.4.20)\n",
            "Requirement already satisfied: pyparsing>=2.0.2 in /usr/local/lib/python3.7/dist-packages (from packaging>=20.0->optuna) (2.4.7)\n",
            "Requirement already satisfied: importlib-metadata in /usr/local/lib/python3.7/dist-packages (from sqlalchemy>=1.1.0->optuna) (4.6.1)\n",
            "Requirement already satisfied: greenlet!=0.4.17 in /usr/local/lib/python3.7/dist-packages (from sqlalchemy>=1.1.0->optuna) (1.1.0)\n",
            "Collecting python-editor>=0.3\n",
            "  Downloading python_editor-1.0.4-py3-none-any.whl (4.9 kB)\n",
            "Requirement already satisfied: python-dateutil in /usr/local/lib/python3.7/dist-packages (from alembic->optuna) (2.8.1)\n",
            "Collecting Mako\n",
            "  Downloading Mako-1.1.4-py2.py3-none-any.whl (75 kB)\n",
            "\u001b[K     |████████████████████████████████| 75 kB 2.8 MB/s \n",
            "\u001b[?25hCollecting stevedore>=2.0.1\n",
            "  Downloading stevedore-3.3.0-py3-none-any.whl (49 kB)\n",
            "\u001b[K     |████████████████████████████████| 49 kB 3.7 MB/s \n",
            "\u001b[?25hCollecting cmd2>=1.0.0\n",
            "  Downloading cmd2-2.1.2-py3-none-any.whl (141 kB)\n",
            "\u001b[K     |████████████████████████████████| 141 kB 43.8 MB/s \n",
            "\u001b[?25hRequirement already satisfied: PrettyTable>=0.7.2 in /usr/local/lib/python3.7/dist-packages (from cliff->optuna) (2.1.0)\n",
            "Collecting pbr!=2.1.0,>=2.0.0\n",
            "  Downloading pbr-5.6.0-py2.py3-none-any.whl (111 kB)\n",
            "\u001b[K     |████████████████████████████████| 111 kB 47.0 MB/s \n",
            "\u001b[?25hRequirement already satisfied: typing-extensions in /usr/local/lib/python3.7/dist-packages (from cmd2>=1.0.0->cliff->optuna) (3.7.4.3)\n",
            "Requirement already satisfied: wcwidth>=0.1.7 in /usr/local/lib/python3.7/dist-packages (from cmd2>=1.0.0->cliff->optuna) (0.2.5)\n",
            "Collecting colorama>=0.3.7\n",
            "  Downloading colorama-0.4.4-py2.py3-none-any.whl (16 kB)\n",
            "Requirement already satisfied: attrs>=16.3.0 in /usr/local/lib/python3.7/dist-packages (from cmd2>=1.0.0->cliff->optuna) (21.2.0)\n",
            "Collecting pyperclip>=1.6\n",
            "  Downloading pyperclip-1.8.2.tar.gz (20 kB)\n",
            "Requirement already satisfied: zipp>=0.5 in /usr/local/lib/python3.7/dist-packages (from importlib-metadata->sqlalchemy>=1.1.0->optuna) (3.5.0)\n",
            "Requirement already satisfied: MarkupSafe>=0.9.2 in /usr/local/lib/python3.7/dist-packages (from Mako->alembic->optuna) (2.0.1)\n",
            "Requirement already satisfied: six>=1.5 in /usr/local/lib/python3.7/dist-packages (from python-dateutil->alembic->optuna) (1.15.0)\n",
            "Building wheels for collected packages: pyperclip\n",
            "  Building wheel for pyperclip (setup.py) ... \u001b[?25l\u001b[?25hdone\n",
            "  Created wheel for pyperclip: filename=pyperclip-1.8.2-py3-none-any.whl size=11137 sha256=669d9bf02e7d2efbd59a90553724bb42f89e2dc1fb35bae5f98939d4210412ad\n",
            "  Stored in directory: /root/.cache/pip/wheels/9f/18/84/8f69f8b08169c7bae2dde6bd7daf0c19fca8c8e500ee620a28\n",
            "Successfully built pyperclip\n",
            "Installing collected packages: pyperclip, pbr, colorama, stevedore, python-editor, Mako, cmd2, colorlog, cmaes, cliff, alembic, optuna\n",
            "Successfully installed Mako-1.1.4 alembic-1.6.5 cliff-3.8.0 cmaes-0.8.2 cmd2-2.1.2 colorama-0.4.4 colorlog-5.0.1 optuna-2.9.1 pbr-5.6.0 pyperclip-1.8.2 python-editor-1.0.4 stevedore-3.3.0\n"
          ],
          "name": "stdout"
        }
      ]
    },
    {
      "cell_type": "code",
      "metadata": {
        "id": "83ET__6nCsiN"
      },
      "source": [
        "import optuna  # pip install optuna\n",
        "\n",
        "def objective(trial):\n",
        "    x = trial.suggest_float(\"x\", -7, 7)\n",
        "    y = trial.suggest_float(\"y\", -7, 7)\n",
        "    return (x - 1) ** 2 + (y + 3) ** 2"
      ],
      "execution_count": 2,
      "outputs": []
    },
    {
      "cell_type": "code",
      "metadata": {
        "colab": {
          "base_uri": "https://localhost:8080/"
        },
        "id": "OFqHIi7OC2d4",
        "outputId": "55889642-c5d5-471d-e7ee-ff82f273b7f2"
      },
      "source": [
        "study = optuna.create_study()\n",
        "study.optimize(objective, n_trials=100)  # number of iterations\n",
        "\n",
        "study.best_params"
      ],
      "execution_count": 3,
      "outputs": [
        {
          "output_type": "stream",
          "text": [
            "\u001b[32m[I 2021-08-11 11:49:34,363]\u001b[0m A new study created in memory with name: no-name-71efe179-c705-4929-9253-216234d03991\u001b[0m\n",
            "\u001b[32m[I 2021-08-11 11:49:34,367]\u001b[0m Trial 0 finished with value: 76.9688892343601 and parameters: {'x': -3.6859010032133046, 'y': 4.416954969692391}. Best is trial 0 with value: 76.9688892343601.\u001b[0m\n",
            "\u001b[32m[I 2021-08-11 11:49:34,373]\u001b[0m Trial 1 finished with value: 24.858497255480536 and parameters: {'x': 5.985766173097078, 'y': -2.9748420453642517}. Best is trial 1 with value: 24.858497255480536.\u001b[0m\n",
            "\u001b[32m[I 2021-08-11 11:49:34,377]\u001b[0m Trial 2 finished with value: 46.27707886313782 and parameters: {'x': -1.090114903923996, 'y': 3.4736773592396926}. Best is trial 1 with value: 24.858497255480536.\u001b[0m\n",
            "\u001b[32m[I 2021-08-11 11:49:34,381]\u001b[0m Trial 3 finished with value: 33.732236526917916 and parameters: {'x': 5.445470184779808, 'y': -6.737650513778903}. Best is trial 1 with value: 24.858497255480536.\u001b[0m\n",
            "\u001b[32m[I 2021-08-11 11:49:34,385]\u001b[0m Trial 4 finished with value: 14.660706002791102 and parameters: {'x': -2.8046811761858157, 'y': -2.5697591949054335}. Best is trial 4 with value: 14.660706002791102.\u001b[0m\n",
            "\u001b[32m[I 2021-08-11 11:49:34,390]\u001b[0m Trial 5 finished with value: 60.340014021445526 and parameters: {'x': -6.481454930055204, 'y': -5.089939269691397}. Best is trial 4 with value: 14.660706002791102.\u001b[0m\n",
            "\u001b[32m[I 2021-08-11 11:49:34,394]\u001b[0m Trial 6 finished with value: 81.65413611721607 and parameters: {'x': -5.159849325808437, 'y': 3.6113835466227044}. Best is trial 4 with value: 14.660706002791102.\u001b[0m\n",
            "\u001b[32m[I 2021-08-11 11:49:34,399]\u001b[0m Trial 7 finished with value: 52.881951181729534 and parameters: {'x': -5.946653273217711, 'y': -5.150804380557004}. Best is trial 4 with value: 14.660706002791102.\u001b[0m\n",
            "\u001b[32m[I 2021-08-11 11:49:34,403]\u001b[0m Trial 8 finished with value: 75.57022562261754 and parameters: {'x': -6.997574556634142, 'y': 0.4072022002950977}. Best is trial 4 with value: 14.660706002791102.\u001b[0m\n",
            "\u001b[32m[I 2021-08-11 11:49:34,408]\u001b[0m Trial 9 finished with value: 43.42452495003754 and parameters: {'x': -4.531757645593849, 'y': -6.581086748523628}. Best is trial 4 with value: 14.660706002791102.\u001b[0m\n",
            "\u001b[32m[I 2021-08-11 11:49:34,422]\u001b[0m Trial 10 finished with value: 5.414483489378991 and parameters: {'x': 1.650743600019685, 'y': -0.765941751786133}. Best is trial 10 with value: 5.414483489378991.\u001b[0m\n",
            "\u001b[32m[I 2021-08-11 11:49:34,434]\u001b[0m Trial 11 finished with value: 7.243592395740356 and parameters: {'x': 2.4615293150172635, 'y': -0.7400167130959743}. Best is trial 10 with value: 5.414483489378991.\u001b[0m\n",
            "\u001b[32m[I 2021-08-11 11:49:34,443]\u001b[0m Trial 12 finished with value: 16.04468983210649 and parameters: {'x': 2.326718507165509, 'y': 0.7794851282748831}. Best is trial 10 with value: 5.414483489378991.\u001b[0m\n",
            "\u001b[32m[I 2021-08-11 11:49:34,451]\u001b[0m Trial 13 finished with value: 3.9704579323859632 and parameters: {'x': 2.3242353111384872, 'y': -1.511088057298244}. Best is trial 13 with value: 3.9704579323859632.\u001b[0m\n",
            "\u001b[32m[I 2021-08-11 11:49:34,459]\u001b[0m Trial 14 finished with value: 100.02652527970633 and parameters: {'x': 1.743956622352348, 'y': 6.973617890402881}. Best is trial 13 with value: 3.9704579323859632.\u001b[0m\n",
            "\u001b[32m[I 2021-08-11 11:49:34,469]\u001b[0m Trial 15 finished with value: 3.174729819888503 and parameters: {'x': -0.1303195107564119, 'y': -1.6226446996174557}. Best is trial 15 with value: 3.174729819888503.\u001b[0m\n",
            "\u001b[32m[I 2021-08-11 11:49:34,478]\u001b[0m Trial 16 finished with value: 4.000759888655705 and parameters: {'x': -0.968280729227154, 'y': -2.6441476997282045}. Best is trial 15 with value: 3.174729819888503.\u001b[0m\n",
            "\u001b[32m[I 2021-08-11 11:49:34,486]\u001b[0m Trial 17 finished with value: 24.71640366703204 and parameters: {'x': 3.7774708257880727, 'y': 1.123355366558667}. Best is trial 15 with value: 3.174729819888503.\u001b[0m\n",
            "\u001b[32m[I 2021-08-11 11:49:34,493]\u001b[0m Trial 18 finished with value: 2.851107801332345 and parameters: {'x': -0.09526423412758127, 'y': -1.7148914214070206}. Best is trial 18 with value: 2.851107801332345.\u001b[0m\n",
            "\u001b[32m[I 2021-08-11 11:49:34,500]\u001b[0m Trial 19 finished with value: 26.2666724482005 and parameters: {'x': -0.17152408824191517, 'y': 1.989409159296263}. Best is trial 18 with value: 2.851107801332345.\u001b[0m\n",
            "\u001b[32m[I 2021-08-11 11:49:34,506]\u001b[0m Trial 20 finished with value: 12.246003900085697 and parameters: {'x': -2.298201589406638, 'y': -4.169559821352129}. Best is trial 18 with value: 2.851107801332345.\u001b[0m\n",
            "\u001b[32m[I 2021-08-11 11:49:34,514]\u001b[0m Trial 21 finished with value: 2.0079902612924267 and parameters: {'x': 0.8303168240794593, 'y': -1.5931603214644727}. Best is trial 21 with value: 2.0079902612924267.\u001b[0m\n",
            "\u001b[32m[I 2021-08-11 11:49:34,521]\u001b[0m Trial 22 finished with value: 2.002527718682424 and parameters: {'x': 0.8508994769051456, 'y': -1.5927698295249406}. Best is trial 22 with value: 2.002527718682424.\u001b[0m\n",
            "\u001b[32m[I 2021-08-11 11:49:34,529]\u001b[0m Trial 23 finished with value: 0.8135712880307198 and parameters: {'x': 0.5652795117287717, 'y': -3.7903096767140996}. Best is trial 23 with value: 0.8135712880307198.\u001b[0m\n",
            "\u001b[32m[I 2021-08-11 11:49:34,536]\u001b[0m Trial 24 finished with value: 10.988514341466662 and parameters: {'x': 4.228086552226366, 'y': -3.7536388742640296}. Best is trial 23 with value: 0.8135712880307198.\u001b[0m\n",
            "\u001b[32m[I 2021-08-11 11:49:34,545]\u001b[0m Trial 25 finished with value: 1.6099178819615187 and parameters: {'x': 0.9773963414025637, 'y': -4.26862404067538}. Best is trial 23 with value: 0.8135712880307198.\u001b[0m\n",
            "\u001b[32m[I 2021-08-11 11:49:34,550]\u001b[0m Trial 26 finished with value: 8.984840321785182 and parameters: {'x': 3.6858543409381817, 'y': -4.330799301566058}. Best is trial 23 with value: 0.8135712880307198.\u001b[0m\n",
            "\u001b[32m[I 2021-08-11 11:49:34,561]\u001b[0m Trial 27 finished with value: 13.788132376893014 and parameters: {'x': -1.651918384674961, 'y': -5.599127018426756}. Best is trial 23 with value: 0.8135712880307198.\u001b[0m\n",
            "\u001b[32m[I 2021-08-11 11:49:34,568]\u001b[0m Trial 28 finished with value: 0.7142729189967247 and parameters: {'x': 0.8693669514030734, 'y': -3.8349897757523728}. Best is trial 28 with value: 0.7142729189967247.\u001b[0m\n",
            "\u001b[32m[I 2021-08-11 11:49:34,576]\u001b[0m Trial 29 finished with value: 21.71554124164864 and parameters: {'x': -3.6375741032528848, 'y': -3.4565607062449053}. Best is trial 28 with value: 0.7142729189967247.\u001b[0m\n",
            "\u001b[32m[I 2021-08-11 11:49:34,590]\u001b[0m Trial 30 finished with value: 8.152929928296084 and parameters: {'x': 0.3355113081435715, 'y': -5.776938009155231}. Best is trial 28 with value: 0.7142729189967247.\u001b[0m\n",
            "\u001b[32m[I 2021-08-11 11:49:34,601]\u001b[0m Trial 31 finished with value: 2.9810803077386554 and parameters: {'x': 1.1264009266510766, 'y': -4.72194747698076}. Best is trial 28 with value: 0.7142729189967247.\u001b[0m\n",
            "\u001b[32m[I 2021-08-11 11:49:34,610]\u001b[0m Trial 32 finished with value: 4.540389409436682 and parameters: {'x': 3.128494230742514, 'y': -2.900492617698402}. Best is trial 28 with value: 0.7142729189967247.\u001b[0m\n",
            "\u001b[32m[I 2021-08-11 11:49:34,620]\u001b[0m Trial 33 finished with value: 5.059920551468196 and parameters: {'x': -1.2183535811085069, 'y': -3.3725962166357313}. Best is trial 28 with value: 0.7142729189967247.\u001b[0m\n",
            "\u001b[32m[I 2021-08-11 11:49:34,629]\u001b[0m Trial 34 finished with value: 6.389204133958334 and parameters: {'x': 0.9963310688989597, 'y': -0.47231515554195125}. Best is trial 28 with value: 0.7142729189967247.\u001b[0m\n",
            "\u001b[32m[I 2021-08-11 11:49:34,637]\u001b[0m Trial 35 finished with value: 16.640290715318503 and parameters: {'x': 4.9932590380976105, 'y': -2.1668295672731475}. Best is trial 28 with value: 0.7142729189967247.\u001b[0m\n",
            "\u001b[32m[I 2021-08-11 11:49:34,645]\u001b[0m Trial 36 finished with value: 13.92841270007765 and parameters: {'x': -0.8265659859218986, 'y': -6.254545958985802}. Best is trial 28 with value: 0.7142729189967247.\u001b[0m\n",
            "\u001b[32m[I 2021-08-11 11:49:34,655]\u001b[0m Trial 37 finished with value: 11.798271118762726 and parameters: {'x': -2.245271862688474, 'y': -4.125380671597487}. Best is trial 28 with value: 0.7142729189967247.\u001b[0m\n",
            "\u001b[32m[I 2021-08-11 11:49:34,664]\u001b[0m Trial 38 finished with value: 31.1874155440657 and parameters: {'x': 6.187937831598654, 'y': -5.067055054790065}. Best is trial 28 with value: 0.7142729189967247.\u001b[0m\n",
            "\u001b[32m[I 2021-08-11 11:49:34,673]\u001b[0m Trial 39 finished with value: 0.34304190717042915 and parameters: {'x': 1.585242431947753, 'y': -3.023091189192178}. Best is trial 39 with value: 0.34304190717042915.\u001b[0m\n",
            "\u001b[32m[I 2021-08-11 11:49:34,683]\u001b[0m Trial 40 finished with value: 34.2644607897262 and parameters: {'x': 6.8509822602755674, 'y': -3.1745490752390504}. Best is trial 39 with value: 0.34304190717042915.\u001b[0m\n",
            "\u001b[32m[I 2021-08-11 11:49:34,697]\u001b[0m Trial 41 finished with value: 0.5905202322664314 and parameters: {'x': 1.6111242934101344, 'y': -2.5341166130130897}. Best is trial 39 with value: 0.34304190717042915.\u001b[0m\n",
            "\u001b[32m[I 2021-08-11 11:49:34,706]\u001b[0m Trial 42 finished with value: 1.3742919065058103 and parameters: {'x': 1.9548697830841189, 'y': -2.3199150024749127}. Best is trial 39 with value: 0.34304190717042915.\u001b[0m\n",
            "\u001b[32m[I 2021-08-11 11:49:34,715]\u001b[0m Trial 43 finished with value: 4.720906097869508 and parameters: {'x': 3.049949825787395, 'y': -2.2798529250050814}. Best is trial 39 with value: 0.34304190717042915.\u001b[0m\n",
            "\u001b[32m[I 2021-08-11 11:49:34,725]\u001b[0m Trial 44 finished with value: 1.0875630074230105 and parameters: {'x': 2.0265164618141656, 'y': -2.8160789271248743}. Best is trial 39 with value: 0.34304190717042915.\u001b[0m\n",
            "\u001b[32m[I 2021-08-11 11:49:34,734]\u001b[0m Trial 45 finished with value: 16.092867162224092 and parameters: {'x': 1.47425175978953, 'y': -6.983459856777852}. Best is trial 39 with value: 0.34304190717042915.\u001b[0m\n",
            "\u001b[32m[I 2021-08-11 11:49:34,743]\u001b[0m Trial 46 finished with value: 12.368278049258503 and parameters: {'x': 2.9521085725524623, 'y': -0.07467092958318755}. Best is trial 39 with value: 0.34304190717042915.\u001b[0m\n",
            "\u001b[32m[I 2021-08-11 11:49:34,751]\u001b[0m Trial 47 finished with value: 14.29935605941239 and parameters: {'x': 4.7227581714529805, 'y': -3.6636472378398417}. Best is trial 39 with value: 0.34304190717042915.\u001b[0m\n",
            "\u001b[32m[I 2021-08-11 11:49:34,761]\u001b[0m Trial 48 finished with value: 4.226805131756969 and parameters: {'x': 0.29155990085541406, 'y': -1.0699953995699965}. Best is trial 39 with value: 0.34304190717042915.\u001b[0m\n",
            "\u001b[32m[I 2021-08-11 11:49:34,770]\u001b[0m Trial 49 finished with value: 9.010277698201975 and parameters: {'x': 2.254822545340159, 'y': -5.726847644792063}. Best is trial 39 with value: 0.34304190717042915.\u001b[0m\n",
            "\u001b[32m[I 2021-08-11 11:49:34,778]\u001b[0m Trial 50 finished with value: 2.5612964607812856 and parameters: {'x': -0.5967268930811997, 'y': -2.8915578970484974}. Best is trial 39 with value: 0.34304190717042915.\u001b[0m\n",
            "\u001b[32m[I 2021-08-11 11:49:34,785]\u001b[0m Trial 51 finished with value: 1.2777567838015709 and parameters: {'x': 1.9408807200515836, 'y': -2.373501592630289}. Best is trial 39 with value: 0.34304190717042915.\u001b[0m\n",
            "\u001b[32m[I 2021-08-11 11:49:34,793]\u001b[0m Trial 52 finished with value: 101.16664608422465 and parameters: {'x': 2.679687025781191, 'y': 6.916919762690782}. Best is trial 39 with value: 0.34304190717042915.\u001b[0m\n",
            "\u001b[32m[I 2021-08-11 11:49:34,800]\u001b[0m Trial 53 finished with value: 0.7758516389228884 and parameters: {'x': 1.8073425333388358, 'y': -2.6477931392137295}. Best is trial 39 with value: 0.34304190717042915.\u001b[0m\n",
            "\u001b[32m[I 2021-08-11 11:49:34,809]\u001b[0m Trial 54 finished with value: 3.682862504375472 and parameters: {'x': 0.3953269881560385, 'y': -4.8213272778726575}. Best is trial 39 with value: 0.34304190717042915.\u001b[0m\n",
            "\u001b[32m[I 2021-08-11 11:49:34,816]\u001b[0m Trial 55 finished with value: 3.8941781794702464 and parameters: {'x': 1.5019613261510614, 'y': -1.091541719995191}. Best is trial 39 with value: 0.34304190717042915.\u001b[0m\n",
            "\u001b[32m[I 2021-08-11 11:49:34,829]\u001b[0m Trial 56 finished with value: 6.701090541104605 and parameters: {'x': 3.467693534574913, 'y': -3.7820352680805245}. Best is trial 39 with value: 0.34304190717042915.\u001b[0m\n",
            "\u001b[32m[I 2021-08-11 11:49:34,836]\u001b[0m Trial 57 finished with value: 0.23208054294122976 and parameters: {'x': 1.4626809133453684, 'y': -3.134189848226777}. Best is trial 57 with value: 0.23208054294122976.\u001b[0m\n",
            "\u001b[32m[I 2021-08-11 11:49:34,844]\u001b[0m Trial 58 finished with value: 1.3430056556396472 and parameters: {'x': 1.4504516299413244, 'y': -1.9322458219595433}. Best is trial 57 with value: 0.23208054294122976.\u001b[0m\n",
            "\u001b[32m[I 2021-08-11 11:49:34,850]\u001b[0m Trial 59 finished with value: 4.858074703510407 and parameters: {'x': -0.5460406698599869, 'y': -4.5709337830250165}. Best is trial 57 with value: 0.23208054294122976.\u001b[0m\n",
            "\u001b[32m[I 2021-08-11 11:49:34,858]\u001b[0m Trial 60 finished with value: 0.3718592620983264 and parameters: {'x': 0.42078365797358236, 'y': -3.1907031494964424}. Best is trial 57 with value: 0.23208054294122976.\u001b[0m\n",
            "\u001b[32m[I 2021-08-11 11:49:34,867]\u001b[0m Trial 61 finished with value: 1.0530465562257878 and parameters: {'x': 0.4782520159585115, 'y': -3.8836433654899642}. Best is trial 57 with value: 0.23208054294122976.\u001b[0m\n",
            "\u001b[32m[I 2021-08-11 11:49:34,876]\u001b[0m Trial 62 finished with value: 1.418338032945739 and parameters: {'x': -0.18350101258950224, 'y': -3.1329036724299284}. Best is trial 57 with value: 0.23208054294122976.\u001b[0m\n",
            "\u001b[32m[I 2021-08-11 11:49:34,882]\u001b[0m Trial 63 finished with value: 26.047384906719678 and parameters: {'x': 2.6322842551739742, 'y': 1.8356005849357353}. Best is trial 57 with value: 0.23208054294122976.\u001b[0m\n",
            "\u001b[32m[I 2021-08-11 11:49:34,891]\u001b[0m Trial 64 finished with value: 5.328407877641311 and parameters: {'x': 0.6753844928384636, 'y': -5.285395512849268}. Best is trial 57 with value: 0.23208054294122976.\u001b[0m\n",
            "\u001b[32m[I 2021-08-11 11:49:34,898]\u001b[0m Trial 65 finished with value: 0.18840521029402552 and parameters: {'x': 1.2806046463390215, 'y': -3.3311589387997524}. Best is trial 65 with value: 0.18840521029402552.\u001b[0m\n",
            "\u001b[32m[I 2021-08-11 11:49:34,907]\u001b[0m Trial 66 finished with value: 2.783304152384294 and parameters: {'x': 1.2653945388636085, 'y': -1.3529207999839028}. Best is trial 65 with value: 0.18840521029402552.\u001b[0m\n",
            "\u001b[32m[I 2021-08-11 11:49:34,915]\u001b[0m Trial 67 finished with value: 1.0675914187950135 and parameters: {'x': 0.007359259049273259, 'y': -2.7131973183531826}. Best is trial 65 with value: 0.18840521029402552.\u001b[0m\n",
            "\u001b[32m[I 2021-08-11 11:49:34,924]\u001b[0m Trial 68 finished with value: 5.57311577372926 and parameters: {'x': -1.3268580727137629, 'y': -3.3985564993524178}. Best is trial 65 with value: 0.18840521029402552.\u001b[0m\n",
            "\u001b[32m[I 2021-08-11 11:49:34,934]\u001b[0m Trial 69 finished with value: 11.363640768635056 and parameters: {'x': 4.200292512789937, 'y': -1.9408642196508854}. Best is trial 65 with value: 0.18840521029402552.\u001b[0m\n",
            "\u001b[32m[I 2021-08-11 11:49:34,943]\u001b[0m Trial 70 finished with value: 2.308786169349206 and parameters: {'x': 1.641043981272963, 'y': -4.377624325940463}. Best is trial 65 with value: 0.18840521029402552.\u001b[0m\n",
            "\u001b[32m[I 2021-08-11 11:49:34,952]\u001b[0m Trial 71 finished with value: 0.05141037142205162 and parameters: {'x': 0.8889138323667497, 'y': -3.197661920416172}. Best is trial 71 with value: 0.05141037142205162.\u001b[0m\n",
            "\u001b[32m[I 2021-08-11 11:49:34,961]\u001b[0m Trial 72 finished with value: 0.13714588447993523 and parameters: {'x': 1.0192627403574006, 'y': -2.6301691855539095}. Best is trial 71 with value: 0.05141037142205162.\u001b[0m\n",
            "\u001b[32m[I 2021-08-11 11:49:34,969]\u001b[0m Trial 73 finished with value: 0.18872744264265767 and parameters: {'x': 0.9601527662345178, 'y': -3.4325963945803255}. Best is trial 71 with value: 0.05141037142205162.\u001b[0m\n",
            "\u001b[32m[I 2021-08-11 11:49:34,978]\u001b[0m Trial 74 finished with value: 1.9155274139555856 and parameters: {'x': 2.351990203779693, 'y': -3.296057262770786}. Best is trial 71 with value: 0.05141037142205162.\u001b[0m\n",
            "\u001b[32m[I 2021-08-11 11:49:34,988]\u001b[0m Trial 75 finished with value: 1.2315394812178593 and parameters: {'x': 1.142127762173272, 'y': -1.8993914499525832}. Best is trial 71 with value: 0.05141037142205162.\u001b[0m\n",
            "\u001b[32m[I 2021-08-11 11:49:35,000]\u001b[0m Trial 76 finished with value: 7.5887615806045545 and parameters: {'x': 0.03451782608693077, 'y': -0.41996012580025255}. Best is trial 71 with value: 0.05141037142205162.\u001b[0m\n",
            "\u001b[32m[I 2021-08-11 11:49:35,008]\u001b[0m Trial 77 finished with value: 2.3198840129668628 and parameters: {'x': -0.46727642048965945, 'y': -2.5913633412897044}. Best is trial 71 with value: 0.05141037142205162.\u001b[0m\n",
            "\u001b[32m[I 2021-08-11 11:49:35,018]\u001b[0m Trial 78 finished with value: 1.659367307852117 and parameters: {'x': 0.7370546120208745, 'y': -4.261042041643586}. Best is trial 71 with value: 0.05141037142205162.\u001b[0m\n",
            "\u001b[32m[I 2021-08-11 11:49:35,028]\u001b[0m Trial 79 finished with value: 6.812093233385424 and parameters: {'x': -1.6091087692698922, 'y': -3.0681517681676134}. Best is trial 71 with value: 0.05141037142205162.\u001b[0m\n",
            "\u001b[32m[I 2021-08-11 11:49:35,037]\u001b[0m Trial 80 finished with value: 44.581281514639585 and parameters: {'x': 2.1786502487868, 'y': 3.572067034478148}. Best is trial 71 with value: 0.05141037142205162.\u001b[0m\n",
            "\u001b[32m[I 2021-08-11 11:49:35,046]\u001b[0m Trial 81 finished with value: 0.9505889977327033 and parameters: {'x': 0.9850113945866322, 'y': -3.9748663187537385}. Best is trial 71 with value: 0.05141037142205162.\u001b[0m\n",
            "\u001b[32m[I 2021-08-11 11:49:35,056]\u001b[0m Trial 82 finished with value: 0.3406567500981814 and parameters: {'x': 1.2880419242229113, 'y': -3.5076303773299466}. Best is trial 71 with value: 0.05141037142205162.\u001b[0m\n",
            "\u001b[32m[I 2021-08-11 11:49:35,065]\u001b[0m Trial 83 finished with value: 0.2841168930020837 and parameters: {'x': 1.2629308586612407, 'y': -3.463663947882242}. Best is trial 71 with value: 0.05141037142205162.\u001b[0m\n",
            "\u001b[32m[I 2021-08-11 11:49:35,075]\u001b[0m Trial 84 finished with value: 1.0188732661590552 and parameters: {'x': 0.17057240229476373, 'y': -3.575259181868465}. Best is trial 71 with value: 0.05141037142205162.\u001b[0m\n",
            "\u001b[32m[I 2021-08-11 11:49:35,084]\u001b[0m Trial 85 finished with value: 4.585105629625196 and parameters: {'x': 1.2832842377848852, 'y': -5.122464527441585}. Best is trial 71 with value: 0.05141037142205162.\u001b[0m\n",
            "\u001b[32m[I 2021-08-11 11:49:35,095]\u001b[0m Trial 86 finished with value: 3.0956886385218625 and parameters: {'x': 0.6011787538912787, 'y': -4.71365989979755}. Best is trial 71 with value: 0.05141037142205162.\u001b[0m\n",
            "\u001b[32m[I 2021-08-11 11:49:35,104]\u001b[0m Trial 87 finished with value: 0.6882900365387028 and parameters: {'x': 1.8044333667798806, 'y': -3.202921154515464}. Best is trial 71 with value: 0.05141037142205162.\u001b[0m\n",
            "\u001b[32m[I 2021-08-11 11:49:35,115]\u001b[0m Trial 88 finished with value: 13.235398376516219 and parameters: {'x': 2.720580809938388, 'y': -6.20546409323018}. Best is trial 71 with value: 0.05141037142205162.\u001b[0m\n",
            "\u001b[32m[I 2021-08-11 11:49:35,126]\u001b[0m Trial 89 finished with value: 6.413318191738143 and parameters: {'x': 3.3595988171876376, 'y': -2.080428570656502}. Best is trial 71 with value: 0.05141037142205162.\u001b[0m\n",
            "\u001b[32m[I 2021-08-11 11:49:35,138]\u001b[0m Trial 90 finished with value: 0.2962438446960481 and parameters: {'x': 1.159046669427807, 'y': -3.5205266579532406}. Best is trial 71 with value: 0.05141037142205162.\u001b[0m\n",
            "\u001b[32m[I 2021-08-11 11:49:35,147]\u001b[0m Trial 91 finished with value: 0.27157769558741685 and parameters: {'x': 1.0873144219126536, 'y': -3.513764427839721}. Best is trial 71 with value: 0.05141037142205162.\u001b[0m\n",
            "\u001b[32m[I 2021-08-11 11:49:35,158]\u001b[0m Trial 92 finished with value: 0.2982881541997368 and parameters: {'x': 1.1518416722671752, 'y': -3.5246258292944073}. Best is trial 71 with value: 0.05141037142205162.\u001b[0m\n",
            "\u001b[32m[I 2021-08-11 11:49:35,167]\u001b[0m Trial 93 finished with value: 0.35285511066894343 and parameters: {'x': 1.2182955318832267, 'y': -3.552451057948813}. Best is trial 71 with value: 0.05141037142205162.\u001b[0m\n",
            "\u001b[32m[I 2021-08-11 11:49:35,177]\u001b[0m Trial 94 finished with value: 3.5575137591158503 and parameters: {'x': -0.3025568750650519, 'y': -4.364133184970081}. Best is trial 71 with value: 0.05141037142205162.\u001b[0m\n",
            "\u001b[32m[I 2021-08-11 11:49:35,184]\u001b[0m Trial 95 finished with value: 44.77136730870952 and parameters: {'x': -5.609344377972207, 'y': -4.043040843915852}. Best is trial 71 with value: 0.05141037142205162.\u001b[0m\n",
            "\u001b[32m[I 2021-08-11 11:49:35,194]\u001b[0m Trial 96 finished with value: 0.44296820642523216 and parameters: {'x': 0.8926005199301275, 'y': -3.656836020712897}. Best is trial 71 with value: 0.05141037142205162.\u001b[0m\n",
            "\u001b[32m[I 2021-08-11 11:49:35,202]\u001b[0m Trial 97 finished with value: 1.1145822640855545 and parameters: {'x': 2.0449379066404467, 'y': -2.849377839109129}. Best is trial 71 with value: 0.05141037142205162.\u001b[0m\n",
            "\u001b[32m[I 2021-08-11 11:49:35,212]\u001b[0m Trial 98 finished with value: 2.520843360057932 and parameters: {'x': 1.3051339994968918, 'y': -4.558119572564623}. Best is trial 71 with value: 0.05141037142205162.\u001b[0m\n",
            "\u001b[32m[I 2021-08-11 11:49:35,220]\u001b[0m Trial 99 finished with value: 0.3448875952041077 and parameters: {'x': 0.8053420253101536, 'y': -2.4459279215717915}. Best is trial 71 with value: 0.05141037142205162.\u001b[0m\n"
          ],
          "name": "stderr"
        },
        {
          "output_type": "execute_result",
          "data": {
            "text/plain": [
              "{'x': 0.8889138323667497, 'y': -3.197661920416172}"
            ]
          },
          "metadata": {
            "tags": []
          },
          "execution_count": 3
        }
      ]
    },
    {
      "cell_type": "code",
      "metadata": {
        "colab": {
          "base_uri": "https://localhost:8080/"
        },
        "id": "A31ET-CDC9Tq",
        "outputId": "2f67d717-09bd-4e64-e7d1-c19515ef2aa5"
      },
      "source": [
        "len(study.trials)"
      ],
      "execution_count": 4,
      "outputs": [
        {
          "output_type": "execute_result",
          "data": {
            "text/plain": [
              "100"
            ]
          },
          "metadata": {
            "tags": []
          },
          "execution_count": 4
        }
      ]
    },
    {
      "cell_type": "code",
      "metadata": {
        "colab": {
          "base_uri": "https://localhost:8080/"
        },
        "id": "ub1WTz75DAvE",
        "outputId": "785cae0a-89c6-44f2-bbbe-b171a1668784"
      },
      "source": [
        "study.optimize(objective, n_trials=100)\n",
        "study.best_params"
      ],
      "execution_count": 5,
      "outputs": [
        {
          "output_type": "stream",
          "text": [
            "\u001b[32m[I 2021-08-11 11:50:17,526]\u001b[0m Trial 100 finished with value: 7.2410879647777495 and parameters: {'x': -0.934419893204185, 'y': -4.870590185356926}. Best is trial 71 with value: 0.05141037142205162.\u001b[0m\n",
            "\u001b[32m[I 2021-08-11 11:50:17,536]\u001b[0m Trial 101 finished with value: 0.3387473977277178 and parameters: {'x': 1.5799913520614903, 'y': -2.951446634909595}. Best is trial 71 with value: 0.05141037142205162.\u001b[0m\n",
            "\u001b[32m[I 2021-08-11 11:50:17,545]\u001b[0m Trial 102 finished with value: 1.5939489745330446 and parameters: {'x': 1.7026327449918794, 'y': -4.048930979711354}. Best is trial 71 with value: 0.05141037142205162.\u001b[0m\n",
            "\u001b[32m[I 2021-08-11 11:50:17,554]\u001b[0m Trial 103 finished with value: 0.7597658849379677 and parameters: {'x': 0.2815944109331928, 'y': -3.4936185719110875}. Best is trial 71 with value: 0.05141037142205162.\u001b[0m\n",
            "\u001b[32m[I 2021-08-11 11:50:17,564]\u001b[0m Trial 104 finished with value: 0.5754713062948301 and parameters: {'x': 1.0559719010243307, 'y': -2.243469463543901}. Best is trial 71 with value: 0.05141037142205162.\u001b[0m\n",
            "\u001b[32m[I 2021-08-11 11:50:17,573]\u001b[0m Trial 105 finished with value: 1.811713113567159 and parameters: {'x': 2.343655236906612, 'y': -2.9206040435500973}. Best is trial 71 with value: 0.05141037142205162.\u001b[0m\n",
            "\u001b[32m[I 2021-08-11 11:50:17,583]\u001b[0m Trial 106 finished with value: 1.5077843445948502 and parameters: {'x': 1.9271889054719358, 'y': -3.8050497364539684}. Best is trial 71 with value: 0.05141037142205162.\u001b[0m\n",
            "\u001b[32m[I 2021-08-11 11:50:17,595]\u001b[0m Trial 107 finished with value: 0.3393787432103168 and parameters: {'x': 1.4403040576006034, 'y': -2.6185408539951345}. Best is trial 71 with value: 0.05141037142205162.\u001b[0m\n",
            "\u001b[32m[I 2021-08-11 11:50:17,605]\u001b[0m Trial 108 finished with value: 2.3031693941448617 and parameters: {'x': 0.6273181845968402, 'y': -1.5288515851170328}. Best is trial 71 with value: 0.05141037142205162.\u001b[0m\n",
            "\u001b[32m[I 2021-08-11 11:50:17,616]\u001b[0m Trial 109 finished with value: 0.46708105077838286 and parameters: {'x': 1.6089879117952548, 'y': -2.6898149357792387}. Best is trial 71 with value: 0.05141037142205162.\u001b[0m\n",
            "\u001b[32m[I 2021-08-11 11:50:17,626]\u001b[0m Trial 110 finished with value: 53.65485189769406 and parameters: {'x': 2.4910480875928984, 'y': 4.171584727114337}. Best is trial 71 with value: 0.05141037142205162.\u001b[0m\n",
            "\u001b[32m[I 2021-08-11 11:50:17,637]\u001b[0m Trial 111 finished with value: 0.37174054324334177 and parameters: {'x': 1.381091051323255, 'y': -3.4759308288445685}. Best is trial 71 with value: 0.05141037142205162.\u001b[0m\n",
            "\u001b[32m[I 2021-08-11 11:50:17,648]\u001b[0m Trial 112 finished with value: 0.06778302927436915 and parameters: {'x': 1.0090517966351564, 'y': -3.2601943393927795}. Best is trial 71 with value: 0.05141037142205162.\u001b[0m\n",
            "\u001b[32m[I 2021-08-11 11:50:17,658]\u001b[0m Trial 113 finished with value: 0.007250315337091277 and parameters: {'x': 1.0011167903239575, 'y': -3.085141459445229}. Best is trial 113 with value: 0.007250315337091277.\u001b[0m\n",
            "\u001b[32m[I 2021-08-11 11:50:17,667]\u001b[0m Trial 114 finished with value: 0.7512843926009772 and parameters: {'x': 0.1332642829655899, 'y': -3.007320479343879}. Best is trial 113 with value: 0.007250315337091277.\u001b[0m\n",
            "\u001b[32m[I 2021-08-11 11:50:17,679]\u001b[0m Trial 115 finished with value: 0.054864921802434505 and parameters: {'x': 1.0289393866286685, 'y': -3.2324380212099366}. Best is trial 113 with value: 0.007250315337091277.\u001b[0m\n",
            "\u001b[32m[I 2021-08-11 11:50:17,693]\u001b[0m Trial 116 finished with value: 0.30795446668448373 and parameters: {'x': 0.5064297649721312, 'y': -3.2536590029528187}. Best is trial 113 with value: 0.007250315337091277.\u001b[0m\n",
            "\u001b[32m[I 2021-08-11 11:50:17,701]\u001b[0m Trial 117 finished with value: 1.2025687759982089 and parameters: {'x': 0.97297900429277, 'y': -4.0962840151115945}. Best is trial 113 with value: 0.007250315337091277.\u001b[0m\n",
            "\u001b[32m[I 2021-08-11 11:50:17,711]\u001b[0m Trial 118 finished with value: 2.1160362935883326 and parameters: {'x': -0.18214971995566864, 'y': -3.847678201440303}. Best is trial 113 with value: 0.007250315337091277.\u001b[0m\n",
            "\u001b[32m[I 2021-08-11 11:50:17,720]\u001b[0m Trial 119 finished with value: 5.58662532123338 and parameters: {'x': 0.7855564235412049, 'y': -5.353856255965717}. Best is trial 113 with value: 0.007250315337091277.\u001b[0m\n",
            "\u001b[32m[I 2021-08-11 11:50:17,730]\u001b[0m Trial 120 finished with value: 0.8142194397473745 and parameters: {'x': 0.27836234466405585, 'y': -2.458281868359}. Best is trial 113 with value: 0.007250315337091277.\u001b[0m\n",
            "\u001b[32m[I 2021-08-11 11:50:17,740]\u001b[0m Trial 121 finished with value: 0.39352765333624123 and parameters: {'x': 0.44211544254389545, 'y': -3.2868666482675315}. Best is trial 113 with value: 0.007250315337091277.\u001b[0m\n",
            "\u001b[32m[I 2021-08-11 11:50:17,750]\u001b[0m Trial 122 finished with value: 0.07023765098460541 and parameters: {'x': 1.0787542578935359, 'y': -3.2530522038004093}. Best is trial 113 with value: 0.007250315337091277.\u001b[0m\n",
            "\u001b[32m[I 2021-08-11 11:50:17,761]\u001b[0m Trial 123 finished with value: 1.6679037552345457 and parameters: {'x': 1.1316683727307297, 'y': -4.28474401919487}. Best is trial 113 with value: 0.007250315337091277.\u001b[0m\n",
            "\u001b[32m[I 2021-08-11 11:50:17,771]\u001b[0m Trial 124 finished with value: 1.768199354329688 and parameters: {'x': 2.1032622827831267, 'y': -3.7423016164052534}. Best is trial 113 with value: 0.007250315337091277.\u001b[0m\n",
            "\u001b[32m[I 2021-08-11 11:50:17,780]\u001b[0m Trial 125 finished with value: 89.1763588876171 and parameters: {'x': 0.9532409503992468, 'y': 6.443207743076372}. Best is trial 113 with value: 0.007250315337091277.\u001b[0m\n",
            "\u001b[32m[I 2021-08-11 11:50:17,790]\u001b[0m Trial 126 finished with value: 0.17795471339729543 and parameters: {'x': 0.6492572199279404, 'y': -3.2343804932681435}. Best is trial 113 with value: 0.007250315337091277.\u001b[0m\n",
            "\u001b[32m[I 2021-08-11 11:50:17,800]\u001b[0m Trial 127 finished with value: 0.7802725887956221 and parameters: {'x': 0.6556403760040674, 'y': -2.186557292640101}. Best is trial 113 with value: 0.007250315337091277.\u001b[0m\n",
            "\u001b[32m[I 2021-08-11 11:50:17,811]\u001b[0m Trial 128 finished with value: 0.8298690135642424 and parameters: {'x': 1.8959626012753856, 'y': -3.164681603951646}. Best is trial 113 with value: 0.007250315337091277.\u001b[0m\n",
            "\u001b[32m[I 2021-08-11 11:50:17,821]\u001b[0m Trial 129 finished with value: 2.1723764809070887 and parameters: {'x': 0.11827015480758962, 'y': -1.8189288924861227}. Best is trial 113 with value: 0.007250315337091277.\u001b[0m\n",
            "\u001b[32m[I 2021-08-11 11:50:17,830]\u001b[0m Trial 130 finished with value: 0.6025646606638688 and parameters: {'x': 1.7333712003102677, 'y': -2.7455764491652825}. Best is trial 113 with value: 0.007250315337091277.\u001b[0m\n",
            "\u001b[32m[I 2021-08-11 11:50:17,841]\u001b[0m Trial 131 finished with value: 0.16867206665092963 and parameters: {'x': 1.1697886017267347, 'y': -3.3739570795888345}. Best is trial 113 with value: 0.007250315337091277.\u001b[0m\n",
            "\u001b[32m[I 2021-08-11 11:50:17,850]\u001b[0m Trial 132 finished with value: 0.1634306046914954 and parameters: {'x': 0.7679439067030447, 'y': -3.3310295670408463}. Best is trial 113 with value: 0.007250315337091277.\u001b[0m\n",
            "\u001b[32m[I 2021-08-11 11:50:17,867]\u001b[0m Trial 133 finished with value: 27.572134347508737 and parameters: {'x': -4.250695615846274, 'y': -3.048269009120307}. Best is trial 113 with value: 0.007250315337091277.\u001b[0m\n",
            "\u001b[32m[I 2021-08-11 11:50:17,877]\u001b[0m Trial 134 finished with value: 0.9844902724808511 and parameters: {'x': 0.7562195119107942, 'y': -3.9618010948776465}. Best is trial 113 with value: 0.007250315337091277.\u001b[0m\n",
            "\u001b[32m[I 2021-08-11 11:50:17,886]\u001b[0m Trial 135 finished with value: 16.827252894739964 and parameters: {'x': -0.4362559275149853, 'y': 0.8424499743546481}. Best is trial 113 with value: 0.007250315337091277.\u001b[0m\n",
            "\u001b[32m[I 2021-08-11 11:50:17,895]\u001b[0m Trial 136 finished with value: 3.406929515882194 and parameters: {'x': -0.04097528552313112, 'y': -4.524237504725635}. Best is trial 113 with value: 0.007250315337091277.\u001b[0m\n",
            "\u001b[32m[I 2021-08-11 11:50:17,903]\u001b[0m Trial 137 finished with value: 0.2521575178948052 and parameters: {'x': 1.4255656291287717, 'y': -3.2665547095795495}. Best is trial 113 with value: 0.007250315337091277.\u001b[0m\n",
            "\u001b[32m[I 2021-08-11 11:50:17,913]\u001b[0m Trial 138 finished with value: 0.5068385169094798 and parameters: {'x': 1.5000851421803363, 'y': -2.4932916346852436}. Best is trial 113 with value: 0.007250315337091277.\u001b[0m\n",
            "\u001b[32m[I 2021-08-11 11:50:17,921]\u001b[0m Trial 139 finished with value: 0.3266104597221121 and parameters: {'x': 0.445244473351575, 'y': -2.8626800619897432}. Best is trial 113 with value: 0.007250315337091277.\u001b[0m\n",
            "\u001b[32m[I 2021-08-11 11:50:17,931]\u001b[0m Trial 140 finished with value: 0.1512833760948307 and parameters: {'x': 0.7627259183621957, 'y': -3.3081953703055373}. Best is trial 113 with value: 0.007250315337091277.\u001b[0m\n",
            "\u001b[32m[I 2021-08-11 11:50:17,941]\u001b[0m Trial 141 finished with value: 0.033025233831011344 and parameters: {'x': 0.8874487977469518, 'y': -3.142679573528956}. Best is trial 113 with value: 0.007250315337091277.\u001b[0m\n",
            "\u001b[32m[I 2021-08-11 11:50:17,950]\u001b[0m Trial 142 finished with value: 0.06843495144222889 and parameters: {'x': 0.8370410257435345, 'y': -3.2046443846078105}. Best is trial 113 with value: 0.007250315337091277.\u001b[0m\n",
            "\u001b[32m[I 2021-08-11 11:50:17,961]\u001b[0m Trial 143 finished with value: 0.037127229025763514 and parameters: {'x': 0.8380390557826366, 'y': -3.1043833395422067}. Best is trial 113 with value: 0.007250315337091277.\u001b[0m\n",
            "\u001b[32m[I 2021-08-11 11:50:17,969]\u001b[0m Trial 144 finished with value: 0.6683099993619526 and parameters: {'x': 0.7470761413855957, 'y': -3.7773927714518276}. Best is trial 113 with value: 0.007250315337091277.\u001b[0m\n",
            "\u001b[32m[I 2021-08-11 11:50:17,979]\u001b[0m Trial 145 finished with value: 0.5719157599337971 and parameters: {'x': 0.2921648165633591, 'y': -2.7337574169614975}. Best is trial 113 with value: 0.007250315337091277.\u001b[0m\n",
            "\u001b[32m[I 2021-08-11 11:50:17,994]\u001b[0m Trial 146 finished with value: 0.5950176101393492 and parameters: {'x': 0.9159193639176318, 'y': -2.233222289854919}. Best is trial 113 with value: 0.007250315337091277.\u001b[0m\n",
            "\u001b[32m[I 2021-08-11 11:50:18,006]\u001b[0m Trial 147 finished with value: 3.1085693387047693 and parameters: {'x': -0.7630952637491407, 'y': -2.991973191785155}. Best is trial 113 with value: 0.007250315337091277.\u001b[0m\n",
            "\u001b[32m[I 2021-08-11 11:50:18,016]\u001b[0m Trial 148 finished with value: 0.2908596606951716 and parameters: {'x': 0.5588443939749369, 'y': -3.3102279677395816}. Best is trial 113 with value: 0.007250315337091277.\u001b[0m\n",
            "\u001b[32m[I 2021-08-11 11:50:18,026]\u001b[0m Trial 149 finished with value: 2.45748683778433 and parameters: {'x': -0.04991437172533786, 'y': -4.164116252712296}. Best is trial 113 with value: 0.007250315337091277.\u001b[0m\n",
            "\u001b[32m[I 2021-08-11 11:50:18,035]\u001b[0m Trial 150 finished with value: 0.27232602509797954 and parameters: {'x': 0.8431559164261049, 'y': -2.5022792363725976}. Best is trial 113 with value: 0.007250315337091277.\u001b[0m\n",
            "\u001b[32m[I 2021-08-11 11:50:18,046]\u001b[0m Trial 151 finished with value: 0.012452662297132034 and parameters: {'x': 1.111304272360432, 'y': -2.991998671894817}. Best is trial 113 with value: 0.007250315337091277.\u001b[0m\n",
            "\u001b[32m[I 2021-08-11 11:50:18,057]\u001b[0m Trial 152 finished with value: 0.513655974671139 and parameters: {'x': 1.0540591872195346, 'y': -3.714656266290517}. Best is trial 113 with value: 0.007250315337091277.\u001b[0m\n",
            "\u001b[32m[I 2021-08-11 11:50:18,067]\u001b[0m Trial 153 finished with value: 0.15927002432063014 and parameters: {'x': 0.6043976106081994, 'y': -2.947380860629156}. Best is trial 113 with value: 0.007250315337091277.\u001b[0m\n",
            "\u001b[32m[I 2021-08-11 11:50:18,077]\u001b[0m Trial 154 finished with value: 0.6342436950116326 and parameters: {'x': 0.21835977252627525, 'y': -3.152585221454951}. Best is trial 113 with value: 0.007250315337091277.\u001b[0m\n",
            "\u001b[32m[I 2021-08-11 11:50:18,088]\u001b[0m Trial 155 finished with value: 0.2071707648440622 and parameters: {'x': 0.5811159260467159, 'y': -2.82193569298604}. Best is trial 113 with value: 0.007250315337091277.\u001b[0m\n",
            "\u001b[32m[I 2021-08-11 11:50:18,098]\u001b[0m Trial 156 finished with value: 0.8617952133408399 and parameters: {'x': 1.294758612670033, 'y': -2.119708813177323}. Best is trial 113 with value: 0.007250315337091277.\u001b[0m\n",
            "\u001b[32m[I 2021-08-11 11:50:18,110]\u001b[0m Trial 157 finished with value: 0.09829047972571375 and parameters: {'x': 0.7005297280578261, 'y': -2.9072204982305134}. Best is trial 113 with value: 0.007250315337091277.\u001b[0m\n",
            "\u001b[32m[I 2021-08-11 11:50:18,122]\u001b[0m Trial 158 finished with value: 1.9703580965865202 and parameters: {'x': -0.26944554760624495, 'y': -2.4009456633583217}. Best is trial 113 with value: 0.007250315337091277.\u001b[0m\n",
            "\u001b[32m[I 2021-08-11 11:50:18,132]\u001b[0m Trial 159 finished with value: 0.31447483102844537 and parameters: {'x': 0.5194921668182477, 'y': -2.710885743555558}. Best is trial 113 with value: 0.007250315337091277.\u001b[0m\n",
            "\u001b[32m[I 2021-08-11 11:50:18,142]\u001b[0m Trial 160 finished with value: 0.5106915517356451 and parameters: {'x': 0.2855012205424637, 'y': -2.9864705547291917}. Best is trial 113 with value: 0.007250315337091277.\u001b[0m\n",
            "\u001b[32m[I 2021-08-11 11:50:18,152]\u001b[0m Trial 161 finished with value: 0.12269474225767596 and parameters: {'x': 0.8536286787499915, 'y': -3.318229757523087}. Best is trial 113 with value: 0.007250315337091277.\u001b[0m\n",
            "\u001b[32m[I 2021-08-11 11:50:18,160]\u001b[0m Trial 162 finished with value: 32.7514631742851 and parameters: {'x': 0.7804522445353338, 'y': 2.718676591428783}. Best is trial 113 with value: 0.007250315337091277.\u001b[0m\n",
            "\u001b[32m[I 2021-08-11 11:50:18,171]\u001b[0m Trial 163 finished with value: 61.17416131733158 and parameters: {'x': -6.817172186825625, 'y': -3.2568663443338757}. Best is trial 113 with value: 0.007250315337091277.\u001b[0m\n",
            "\u001b[32m[I 2021-08-11 11:50:18,181]\u001b[0m Trial 164 finished with value: 0.5350228849470059 and parameters: {'x': 1.1104104660644554, 'y': -3.7230715137041672}. Best is trial 113 with value: 0.007250315337091277.\u001b[0m\n",
            "\u001b[32m[I 2021-08-11 11:50:18,194]\u001b[0m Trial 165 finished with value: 0.5383297908717922 and parameters: {'x': 1.7336327169092307, 'y': -3.0106220314522614}. Best is trial 113 with value: 0.007250315337091277.\u001b[0m\n",
            "\u001b[32m[I 2021-08-11 11:50:18,205]\u001b[0m Trial 166 finished with value: 0.2486379921202044 and parameters: {'x': 0.6683755521566984, 'y': -2.627624896491683}. Best is trial 113 with value: 0.007250315337091277.\u001b[0m\n",
            "\u001b[32m[I 2021-08-11 11:50:18,214]\u001b[0m Trial 167 finished with value: 1.132143965188563 and parameters: {'x': 0.03597382770653079, 'y': -3.4503304390353438}. Best is trial 113 with value: 0.007250315337091277.\u001b[0m\n",
            "\u001b[32m[I 2021-08-11 11:50:18,225]\u001b[0m Trial 168 finished with value: 1.0944633276007023 and parameters: {'x': 1.0194025475367015, 'y': -4.045986074835506}. Best is trial 113 with value: 0.007250315337091277.\u001b[0m\n",
            "\u001b[32m[I 2021-08-11 11:50:18,235]\u001b[0m Trial 169 finished with value: 0.7289937630322358 and parameters: {'x': 0.41955382998773005, 'y': -3.6261597294223917}. Best is trial 113 with value: 0.007250315337091277.\u001b[0m\n",
            "\u001b[32m[I 2021-08-11 11:50:18,245]\u001b[0m Trial 170 finished with value: 0.10523962453955497 and parameters: {'x': 1.286115635273701, 'y': -3.152896918842341}. Best is trial 113 with value: 0.007250315337091277.\u001b[0m\n",
            "\u001b[32m[I 2021-08-11 11:50:18,257]\u001b[0m Trial 171 finished with value: 0.16390212015894948 and parameters: {'x': 1.3714848135836286, 'y': -3.160938352904726}. Best is trial 113 with value: 0.007250315337091277.\u001b[0m\n",
            "\u001b[32m[I 2021-08-11 11:50:18,268]\u001b[0m Trial 172 finished with value: 0.2744484211983812 and parameters: {'x': 1.5112429405711094, 'y': -2.8856362080263764}. Best is trial 113 with value: 0.007250315337091277.\u001b[0m\n",
            "\u001b[32m[I 2021-08-11 11:50:18,280]\u001b[0m Trial 173 finished with value: 0.41218660125660866 and parameters: {'x': 1.2619308922607129, 'y': -2.413844040432825}. Best is trial 113 with value: 0.007250315337091277.\u001b[0m\n",
            "\u001b[32m[I 2021-08-11 11:50:18,290]\u001b[0m Trial 174 finished with value: 0.6168615696485382 and parameters: {'x': 1.7822553323957182, 'y': -3.0702720754425443}. Best is trial 113 with value: 0.007250315337091277.\u001b[0m\n",
            "\u001b[32m[I 2021-08-11 11:50:18,302]\u001b[0m Trial 175 finished with value: 0.17854091445848952 and parameters: {'x': 0.98211818684297, 'y': -3.422162474903569}. Best is trial 113 with value: 0.007250315337091277.\u001b[0m\n",
            "\u001b[32m[I 2021-08-11 11:50:18,315]\u001b[0m Trial 176 finished with value: 0.28675253568041925 and parameters: {'x': 1.464557890676104, 'y': -2.733657172255403}. Best is trial 113 with value: 0.007250315337091277.\u001b[0m\n",
            "\u001b[32m[I 2021-08-11 11:50:18,330]\u001b[0m Trial 177 finished with value: 0.6819287099897324 and parameters: {'x': 0.84852961988504, 'y': -3.811779178063568}. Best is trial 113 with value: 0.007250315337091277.\u001b[0m\n",
            "\u001b[32m[I 2021-08-11 11:50:18,344]\u001b[0m Trial 178 finished with value: 1.1859762371011109 and parameters: {'x': 2.0551463178130853, 'y': -3.269522698685284}. Best is trial 113 with value: 0.007250315337091277.\u001b[0m\n",
            "\u001b[32m[I 2021-08-11 11:50:18,358]\u001b[0m Trial 179 finished with value: 1.0480253920334124 and parameters: {'x': 1.208627975101338, 'y': -1.9977526452823495}. Best is trial 113 with value: 0.007250315337091277.\u001b[0m\n",
            "\u001b[32m[I 2021-08-11 11:50:18,368]\u001b[0m Trial 180 finished with value: 0.38765047222990906 and parameters: {'x': 1.6223917332921125, 'y': -2.983296630293593}. Best is trial 113 with value: 0.007250315337091277.\u001b[0m\n",
            "\u001b[32m[I 2021-08-11 11:50:18,379]\u001b[0m Trial 181 finished with value: 0.3594708204972237 and parameters: {'x': 0.47424930213373107, 'y': -3.288196155752215}. Best is trial 113 with value: 0.007250315337091277.\u001b[0m\n",
            "\u001b[32m[I 2021-08-11 11:50:18,390]\u001b[0m Trial 182 finished with value: 0.4431019856877166 and parameters: {'x': 0.74810781425965, 'y': -3.616159323917658}. Best is trial 113 with value: 0.007250315337091277.\u001b[0m\n",
            "\u001b[32m[I 2021-08-11 11:50:18,402]\u001b[0m Trial 183 finished with value: 0.020727168173095403 and parameters: {'x': 0.9718842118287672, 'y': -3.1411972755707622}. Best is trial 113 with value: 0.007250315337091277.\u001b[0m\n",
            "\u001b[32m[I 2021-08-11 11:50:18,412]\u001b[0m Trial 184 finished with value: 0.15009034857024967 and parameters: {'x': 1.0858142701537572, 'y': -2.6222087089301453}. Best is trial 113 with value: 0.007250315337091277.\u001b[0m\n",
            "\u001b[32m[I 2021-08-11 11:50:18,423]\u001b[0m Trial 185 finished with value: 0.15833146353056987 and parameters: {'x': 0.9800429025609476, 'y': -2.6025919253558403}. Best is trial 113 with value: 0.007250315337091277.\u001b[0m\n",
            "\u001b[32m[I 2021-08-11 11:50:18,434]\u001b[0m Trial 186 finished with value: 0.21870811393369172 and parameters: {'x': 0.9333828579289064, 'y': -2.537106631808176}. Best is trial 113 with value: 0.007250315337091277.\u001b[0m\n",
            "\u001b[32m[I 2021-08-11 11:50:18,445]\u001b[0m Trial 187 finished with value: 1.1249091173645103 and parameters: {'x': 0.25853394240726413, 'y': -2.24162199214218}. Best is trial 113 with value: 0.007250315337091277.\u001b[0m\n",
            "\u001b[32m[I 2021-08-11 11:50:18,459]\u001b[0m Trial 188 finished with value: 0.1873201911444609 and parameters: {'x': 0.6981338087197909, 'y': -2.6898435979921724}. Best is trial 113 with value: 0.007250315337091277.\u001b[0m\n",
            "\u001b[32m[I 2021-08-11 11:50:18,471]\u001b[0m Trial 189 finished with value: 1.7681729366522185 and parameters: {'x': 1.0294677065840536, 'y': -1.6705999131484552}. Best is trial 113 with value: 0.007250315337091277.\u001b[0m\n",
            "\u001b[32m[I 2021-08-11 11:50:18,481]\u001b[0m Trial 190 finished with value: 0.34057768056826027 and parameters: {'x': 0.43096917191250195, 'y': -2.8704561956158594}. Best is trial 113 with value: 0.007250315337091277.\u001b[0m\n",
            "\u001b[32m[I 2021-08-11 11:50:18,489]\u001b[0m Trial 191 finished with value: 0.16193467962872402 and parameters: {'x': 1.3885946477258524, 'y': -2.895458719217982}. Best is trial 113 with value: 0.007250315337091277.\u001b[0m\n",
            "\u001b[32m[I 2021-08-11 11:50:18,503]\u001b[0m Trial 192 finished with value: 0.10767988144341437 and parameters: {'x': 1.3022667882208454, 'y': -2.872271106706161}. Best is trial 113 with value: 0.007250315337091277.\u001b[0m\n",
            "\u001b[32m[I 2021-08-11 11:50:18,514]\u001b[0m Trial 193 finished with value: 0.2638396450525203 and parameters: {'x': 1.3387861726501724, 'y': -2.6139124784798557}. Best is trial 113 with value: 0.007250315337091277.\u001b[0m\n",
            "\u001b[32m[I 2021-08-11 11:50:18,523]\u001b[0m Trial 194 finished with value: 0.99738558889459 and parameters: {'x': 1.75518079202803, 'y': -2.3464806351403906}. Best is trial 113 with value: 0.007250315337091277.\u001b[0m\n",
            "\u001b[32m[I 2021-08-11 11:50:18,533]\u001b[0m Trial 195 finished with value: 0.025682223292658107 and parameters: {'x': 1.1576647576831818, 'y': -2.9712937728469644}. Best is trial 113 with value: 0.007250315337091277.\u001b[0m\n",
            "\u001b[32m[I 2021-08-11 11:50:18,546]\u001b[0m Trial 196 finished with value: 0.005048481812341914 and parameters: {'x': 1.0622561892016427, 'y': -3.034243958860377}. Best is trial 196 with value: 0.005048481812341914.\u001b[0m\n",
            "\u001b[32m[I 2021-08-11 11:50:18,557]\u001b[0m Trial 197 finished with value: 0.27818935273808476 and parameters: {'x': 1.073695412134882, 'y': -2.477737289318532}. Best is trial 196 with value: 0.005048481812341914.\u001b[0m\n",
            "\u001b[32m[I 2021-08-11 11:50:18,569]\u001b[0m Trial 198 finished with value: 3.2428799107238144 and parameters: {'x': 1.6018490125822682, 'y': -1.3027499663344935}. Best is trial 196 with value: 0.005048481812341914.\u001b[0m\n",
            "\u001b[32m[I 2021-08-11 11:50:18,580]\u001b[0m Trial 199 finished with value: 0.023680644526218854 and parameters: {'x': 1.137891552796523, 'y': -3.068312255076103}. Best is trial 196 with value: 0.005048481812341914.\u001b[0m\n"
          ],
          "name": "stderr"
        },
        {
          "output_type": "execute_result",
          "data": {
            "text/plain": [
              "{'x': 1.0622561892016427, 'y': -3.034243958860377}"
            ]
          },
          "metadata": {
            "tags": []
          },
          "execution_count": 5
        }
      ]
    },
    {
      "cell_type": "code",
      "metadata": {
        "colab": {
          "base_uri": "https://localhost:8080/"
        },
        "id": "msLII8AfDHbG",
        "outputId": "0f5c79b1-98ed-40e9-f7a8-9cda0bcc788f"
      },
      "source": [
        "study = optuna.create_study()\n",
        "type(study)"
      ],
      "execution_count": 6,
      "outputs": [
        {
          "output_type": "stream",
          "text": [
            "\u001b[32m[I 2021-08-11 11:50:50,084]\u001b[0m A new study created in memory with name: no-name-bcf99916-be15-460e-8d69-e10486b68205\u001b[0m\n"
          ],
          "name": "stderr"
        },
        {
          "output_type": "execute_result",
          "data": {
            "text/plain": [
              "optuna.study.study.Study"
            ]
          },
          "metadata": {
            "tags": []
          },
          "execution_count": 6
        }
      ]
    },
    {
      "cell_type": "code",
      "metadata": {
        "id": "h__SZHoSDPkT"
      },
      "source": [
        "def objective(trial: optuna.Trial):\n",
        "    \"\"\"Conventional optimization function\n",
        "    signature for optuna.\n",
        "    \"\"\"\n",
        "    custom_metric = ...\n",
        "    return custom_metric"
      ],
      "execution_count": 7,
      "outputs": []
    },
    {
      "cell_type": "code",
      "metadata": {
        "colab": {
          "base_uri": "https://localhost:8080/"
        },
        "id": "KK_UHTqPDSH7",
        "outputId": "d476a100-413e-4dfc-c674-e91efb53f857"
      },
      "source": [
        "# Optimization with 100 trials\n",
        "study.optimize(objective, n_trials=100)"
      ],
      "execution_count": 8,
      "outputs": [
        {
          "output_type": "stream",
          "text": [
            "\u001b[33m[W 2021-08-11 11:52:01,566]\u001b[0m Trial 0 failed, because the value Ellipsis could not be cast to float.\u001b[0m\n",
            "\u001b[33m[W 2021-08-11 11:52:01,571]\u001b[0m Trial 1 failed, because the value Ellipsis could not be cast to float.\u001b[0m\n",
            "\u001b[33m[W 2021-08-11 11:52:01,574]\u001b[0m Trial 2 failed, because the value Ellipsis could not be cast to float.\u001b[0m\n",
            "\u001b[33m[W 2021-08-11 11:52:01,576]\u001b[0m Trial 3 failed, because the value Ellipsis could not be cast to float.\u001b[0m\n",
            "\u001b[33m[W 2021-08-11 11:52:01,579]\u001b[0m Trial 4 failed, because the value Ellipsis could not be cast to float.\u001b[0m\n",
            "\u001b[33m[W 2021-08-11 11:52:01,582]\u001b[0m Trial 5 failed, because the value Ellipsis could not be cast to float.\u001b[0m\n",
            "\u001b[33m[W 2021-08-11 11:52:01,584]\u001b[0m Trial 6 failed, because the value Ellipsis could not be cast to float.\u001b[0m\n",
            "\u001b[33m[W 2021-08-11 11:52:01,586]\u001b[0m Trial 7 failed, because the value Ellipsis could not be cast to float.\u001b[0m\n",
            "\u001b[33m[W 2021-08-11 11:52:01,588]\u001b[0m Trial 8 failed, because the value Ellipsis could not be cast to float.\u001b[0m\n",
            "\u001b[33m[W 2021-08-11 11:52:01,590]\u001b[0m Trial 9 failed, because the value Ellipsis could not be cast to float.\u001b[0m\n",
            "\u001b[33m[W 2021-08-11 11:52:01,592]\u001b[0m Trial 10 failed, because the value Ellipsis could not be cast to float.\u001b[0m\n",
            "\u001b[33m[W 2021-08-11 11:52:01,593]\u001b[0m Trial 11 failed, because the value Ellipsis could not be cast to float.\u001b[0m\n",
            "\u001b[33m[W 2021-08-11 11:52:01,595]\u001b[0m Trial 12 failed, because the value Ellipsis could not be cast to float.\u001b[0m\n",
            "\u001b[33m[W 2021-08-11 11:52:01,596]\u001b[0m Trial 13 failed, because the value Ellipsis could not be cast to float.\u001b[0m\n",
            "\u001b[33m[W 2021-08-11 11:52:01,598]\u001b[0m Trial 14 failed, because the value Ellipsis could not be cast to float.\u001b[0m\n",
            "\u001b[33m[W 2021-08-11 11:52:01,599]\u001b[0m Trial 15 failed, because the value Ellipsis could not be cast to float.\u001b[0m\n",
            "\u001b[33m[W 2021-08-11 11:52:01,601]\u001b[0m Trial 16 failed, because the value Ellipsis could not be cast to float.\u001b[0m\n",
            "\u001b[33m[W 2021-08-11 11:52:01,603]\u001b[0m Trial 17 failed, because the value Ellipsis could not be cast to float.\u001b[0m\n",
            "\u001b[33m[W 2021-08-11 11:52:01,604]\u001b[0m Trial 18 failed, because the value Ellipsis could not be cast to float.\u001b[0m\n",
            "\u001b[33m[W 2021-08-11 11:52:01,606]\u001b[0m Trial 19 failed, because the value Ellipsis could not be cast to float.\u001b[0m\n",
            "\u001b[33m[W 2021-08-11 11:52:01,607]\u001b[0m Trial 20 failed, because the value Ellipsis could not be cast to float.\u001b[0m\n",
            "\u001b[33m[W 2021-08-11 11:52:01,609]\u001b[0m Trial 21 failed, because the value Ellipsis could not be cast to float.\u001b[0m\n",
            "\u001b[33m[W 2021-08-11 11:52:01,610]\u001b[0m Trial 22 failed, because the value Ellipsis could not be cast to float.\u001b[0m\n",
            "\u001b[33m[W 2021-08-11 11:52:01,612]\u001b[0m Trial 23 failed, because the value Ellipsis could not be cast to float.\u001b[0m\n",
            "\u001b[33m[W 2021-08-11 11:52:01,613]\u001b[0m Trial 24 failed, because the value Ellipsis could not be cast to float.\u001b[0m\n",
            "\u001b[33m[W 2021-08-11 11:52:01,615]\u001b[0m Trial 25 failed, because the value Ellipsis could not be cast to float.\u001b[0m\n",
            "\u001b[33m[W 2021-08-11 11:52:01,616]\u001b[0m Trial 26 failed, because the value Ellipsis could not be cast to float.\u001b[0m\n",
            "\u001b[33m[W 2021-08-11 11:52:01,618]\u001b[0m Trial 27 failed, because the value Ellipsis could not be cast to float.\u001b[0m\n",
            "\u001b[33m[W 2021-08-11 11:52:01,619]\u001b[0m Trial 28 failed, because the value Ellipsis could not be cast to float.\u001b[0m\n",
            "\u001b[33m[W 2021-08-11 11:52:01,621]\u001b[0m Trial 29 failed, because the value Ellipsis could not be cast to float.\u001b[0m\n",
            "\u001b[33m[W 2021-08-11 11:52:01,622]\u001b[0m Trial 30 failed, because the value Ellipsis could not be cast to float.\u001b[0m\n",
            "\u001b[33m[W 2021-08-11 11:52:01,624]\u001b[0m Trial 31 failed, because the value Ellipsis could not be cast to float.\u001b[0m\n",
            "\u001b[33m[W 2021-08-11 11:52:01,625]\u001b[0m Trial 32 failed, because the value Ellipsis could not be cast to float.\u001b[0m\n",
            "\u001b[33m[W 2021-08-11 11:52:01,626]\u001b[0m Trial 33 failed, because the value Ellipsis could not be cast to float.\u001b[0m\n",
            "\u001b[33m[W 2021-08-11 11:52:01,628]\u001b[0m Trial 34 failed, because the value Ellipsis could not be cast to float.\u001b[0m\n",
            "\u001b[33m[W 2021-08-11 11:52:01,629]\u001b[0m Trial 35 failed, because the value Ellipsis could not be cast to float.\u001b[0m\n",
            "\u001b[33m[W 2021-08-11 11:52:01,631]\u001b[0m Trial 36 failed, because the value Ellipsis could not be cast to float.\u001b[0m\n",
            "\u001b[33m[W 2021-08-11 11:52:01,632]\u001b[0m Trial 37 failed, because the value Ellipsis could not be cast to float.\u001b[0m\n",
            "\u001b[33m[W 2021-08-11 11:52:01,634]\u001b[0m Trial 38 failed, because the value Ellipsis could not be cast to float.\u001b[0m\n",
            "\u001b[33m[W 2021-08-11 11:52:01,635]\u001b[0m Trial 39 failed, because the value Ellipsis could not be cast to float.\u001b[0m\n",
            "\u001b[33m[W 2021-08-11 11:52:01,637]\u001b[0m Trial 40 failed, because the value Ellipsis could not be cast to float.\u001b[0m\n",
            "\u001b[33m[W 2021-08-11 11:52:01,638]\u001b[0m Trial 41 failed, because the value Ellipsis could not be cast to float.\u001b[0m\n",
            "\u001b[33m[W 2021-08-11 11:52:01,640]\u001b[0m Trial 42 failed, because the value Ellipsis could not be cast to float.\u001b[0m\n",
            "\u001b[33m[W 2021-08-11 11:52:01,641]\u001b[0m Trial 43 failed, because the value Ellipsis could not be cast to float.\u001b[0m\n",
            "\u001b[33m[W 2021-08-11 11:52:01,643]\u001b[0m Trial 44 failed, because the value Ellipsis could not be cast to float.\u001b[0m\n",
            "\u001b[33m[W 2021-08-11 11:52:01,644]\u001b[0m Trial 45 failed, because the value Ellipsis could not be cast to float.\u001b[0m\n",
            "\u001b[33m[W 2021-08-11 11:52:01,645]\u001b[0m Trial 46 failed, because the value Ellipsis could not be cast to float.\u001b[0m\n",
            "\u001b[33m[W 2021-08-11 11:52:01,647]\u001b[0m Trial 47 failed, because the value Ellipsis could not be cast to float.\u001b[0m\n",
            "\u001b[33m[W 2021-08-11 11:52:01,649]\u001b[0m Trial 48 failed, because the value Ellipsis could not be cast to float.\u001b[0m\n",
            "\u001b[33m[W 2021-08-11 11:52:01,650]\u001b[0m Trial 49 failed, because the value Ellipsis could not be cast to float.\u001b[0m\n",
            "\u001b[33m[W 2021-08-11 11:52:01,652]\u001b[0m Trial 50 failed, because the value Ellipsis could not be cast to float.\u001b[0m\n",
            "\u001b[33m[W 2021-08-11 11:52:01,653]\u001b[0m Trial 51 failed, because the value Ellipsis could not be cast to float.\u001b[0m\n",
            "\u001b[33m[W 2021-08-11 11:52:01,655]\u001b[0m Trial 52 failed, because the value Ellipsis could not be cast to float.\u001b[0m\n",
            "\u001b[33m[W 2021-08-11 11:52:01,657]\u001b[0m Trial 53 failed, because the value Ellipsis could not be cast to float.\u001b[0m\n",
            "\u001b[33m[W 2021-08-11 11:52:01,659]\u001b[0m Trial 54 failed, because the value Ellipsis could not be cast to float.\u001b[0m\n",
            "\u001b[33m[W 2021-08-11 11:52:01,660]\u001b[0m Trial 55 failed, because the value Ellipsis could not be cast to float.\u001b[0m\n",
            "\u001b[33m[W 2021-08-11 11:52:01,662]\u001b[0m Trial 56 failed, because the value Ellipsis could not be cast to float.\u001b[0m\n",
            "\u001b[33m[W 2021-08-11 11:52:01,663]\u001b[0m Trial 57 failed, because the value Ellipsis could not be cast to float.\u001b[0m\n",
            "\u001b[33m[W 2021-08-11 11:52:01,665]\u001b[0m Trial 58 failed, because the value Ellipsis could not be cast to float.\u001b[0m\n",
            "\u001b[33m[W 2021-08-11 11:52:01,667]\u001b[0m Trial 59 failed, because the value Ellipsis could not be cast to float.\u001b[0m\n",
            "\u001b[33m[W 2021-08-11 11:52:01,668]\u001b[0m Trial 60 failed, because the value Ellipsis could not be cast to float.\u001b[0m\n",
            "\u001b[33m[W 2021-08-11 11:52:01,670]\u001b[0m Trial 61 failed, because the value Ellipsis could not be cast to float.\u001b[0m\n",
            "\u001b[33m[W 2021-08-11 11:52:01,672]\u001b[0m Trial 62 failed, because the value Ellipsis could not be cast to float.\u001b[0m\n",
            "\u001b[33m[W 2021-08-11 11:52:01,673]\u001b[0m Trial 63 failed, because the value Ellipsis could not be cast to float.\u001b[0m\n",
            "\u001b[33m[W 2021-08-11 11:52:01,674]\u001b[0m Trial 64 failed, because the value Ellipsis could not be cast to float.\u001b[0m\n",
            "\u001b[33m[W 2021-08-11 11:52:01,676]\u001b[0m Trial 65 failed, because the value Ellipsis could not be cast to float.\u001b[0m\n",
            "\u001b[33m[W 2021-08-11 11:52:01,678]\u001b[0m Trial 66 failed, because the value Ellipsis could not be cast to float.\u001b[0m\n",
            "\u001b[33m[W 2021-08-11 11:52:01,679]\u001b[0m Trial 67 failed, because the value Ellipsis could not be cast to float.\u001b[0m\n",
            "\u001b[33m[W 2021-08-11 11:52:01,681]\u001b[0m Trial 68 failed, because the value Ellipsis could not be cast to float.\u001b[0m\n",
            "\u001b[33m[W 2021-08-11 11:52:01,682]\u001b[0m Trial 69 failed, because the value Ellipsis could not be cast to float.\u001b[0m\n",
            "\u001b[33m[W 2021-08-11 11:52:01,684]\u001b[0m Trial 70 failed, because the value Ellipsis could not be cast to float.\u001b[0m\n",
            "\u001b[33m[W 2021-08-11 11:52:01,685]\u001b[0m Trial 71 failed, because the value Ellipsis could not be cast to float.\u001b[0m\n",
            "\u001b[33m[W 2021-08-11 11:52:01,687]\u001b[0m Trial 72 failed, because the value Ellipsis could not be cast to float.\u001b[0m\n",
            "\u001b[33m[W 2021-08-11 11:52:01,688]\u001b[0m Trial 73 failed, because the value Ellipsis could not be cast to float.\u001b[0m\n",
            "\u001b[33m[W 2021-08-11 11:52:01,690]\u001b[0m Trial 74 failed, because the value Ellipsis could not be cast to float.\u001b[0m\n",
            "\u001b[33m[W 2021-08-11 11:52:01,691]\u001b[0m Trial 75 failed, because the value Ellipsis could not be cast to float.\u001b[0m\n",
            "\u001b[33m[W 2021-08-11 11:52:01,693]\u001b[0m Trial 76 failed, because the value Ellipsis could not be cast to float.\u001b[0m\n",
            "\u001b[33m[W 2021-08-11 11:52:01,694]\u001b[0m Trial 77 failed, because the value Ellipsis could not be cast to float.\u001b[0m\n",
            "\u001b[33m[W 2021-08-11 11:52:01,696]\u001b[0m Trial 78 failed, because the value Ellipsis could not be cast to float.\u001b[0m\n",
            "\u001b[33m[W 2021-08-11 11:52:01,697]\u001b[0m Trial 79 failed, because the value Ellipsis could not be cast to float.\u001b[0m\n",
            "\u001b[33m[W 2021-08-11 11:52:01,699]\u001b[0m Trial 80 failed, because the value Ellipsis could not be cast to float.\u001b[0m\n",
            "\u001b[33m[W 2021-08-11 11:52:01,700]\u001b[0m Trial 81 failed, because the value Ellipsis could not be cast to float.\u001b[0m\n",
            "\u001b[33m[W 2021-08-11 11:52:01,702]\u001b[0m Trial 82 failed, because the value Ellipsis could not be cast to float.\u001b[0m\n",
            "\u001b[33m[W 2021-08-11 11:52:01,703]\u001b[0m Trial 83 failed, because the value Ellipsis could not be cast to float.\u001b[0m\n",
            "\u001b[33m[W 2021-08-11 11:52:01,705]\u001b[0m Trial 84 failed, because the value Ellipsis could not be cast to float.\u001b[0m\n",
            "\u001b[33m[W 2021-08-11 11:52:01,707]\u001b[0m Trial 85 failed, because the value Ellipsis could not be cast to float.\u001b[0m\n",
            "\u001b[33m[W 2021-08-11 11:52:01,708]\u001b[0m Trial 86 failed, because the value Ellipsis could not be cast to float.\u001b[0m\n",
            "\u001b[33m[W 2021-08-11 11:52:01,710]\u001b[0m Trial 87 failed, because the value Ellipsis could not be cast to float.\u001b[0m\n",
            "\u001b[33m[W 2021-08-11 11:52:01,711]\u001b[0m Trial 88 failed, because the value Ellipsis could not be cast to float.\u001b[0m\n",
            "\u001b[33m[W 2021-08-11 11:52:01,713]\u001b[0m Trial 89 failed, because the value Ellipsis could not be cast to float.\u001b[0m\n",
            "\u001b[33m[W 2021-08-11 11:52:01,714]\u001b[0m Trial 90 failed, because the value Ellipsis could not be cast to float.\u001b[0m\n",
            "\u001b[33m[W 2021-08-11 11:52:01,716]\u001b[0m Trial 91 failed, because the value Ellipsis could not be cast to float.\u001b[0m\n",
            "\u001b[33m[W 2021-08-11 11:52:01,717]\u001b[0m Trial 92 failed, because the value Ellipsis could not be cast to float.\u001b[0m\n",
            "\u001b[33m[W 2021-08-11 11:52:01,719]\u001b[0m Trial 93 failed, because the value Ellipsis could not be cast to float.\u001b[0m\n",
            "\u001b[33m[W 2021-08-11 11:52:01,720]\u001b[0m Trial 94 failed, because the value Ellipsis could not be cast to float.\u001b[0m\n",
            "\u001b[33m[W 2021-08-11 11:52:01,722]\u001b[0m Trial 95 failed, because the value Ellipsis could not be cast to float.\u001b[0m\n",
            "\u001b[33m[W 2021-08-11 11:52:01,723]\u001b[0m Trial 96 failed, because the value Ellipsis could not be cast to float.\u001b[0m\n",
            "\u001b[33m[W 2021-08-11 11:52:01,725]\u001b[0m Trial 97 failed, because the value Ellipsis could not be cast to float.\u001b[0m\n",
            "\u001b[33m[W 2021-08-11 11:52:01,727]\u001b[0m Trial 98 failed, because the value Ellipsis could not be cast to float.\u001b[0m\n",
            "\u001b[33m[W 2021-08-11 11:52:01,728]\u001b[0m Trial 99 failed, because the value Ellipsis could not be cast to float.\u001b[0m\n"
          ],
          "name": "stderr"
        }
      ]
    },
    {
      "cell_type": "code",
      "metadata": {
        "id": "_ckpCYUTDhOU"
      },
      "source": [
        "# def objective(trial):\n",
        "#     rf_params = {\n",
        "#         \"n_estimators\": trial.suggest_integer(name=\"n_estimators\", low=100, high=2000),\n",
        "#         \"max_depth\": trial.suggest_float(\"max_depth\", 3, 8),\n",
        "#         \"max_features\": trial.suggest_categorical(\n",
        "#             \"max_features\", choices=[\"auto\", \"sqrt\", \"log2\"]\n",
        "#         ),\n",
        "#         \"n_jobs\": -1,\n",
        "#         \"random_state\": 1121218,\n",
        "#     }\n",
        "\n",
        "#     rf = RandomForestRegressor(**rf_params)\n",
        "#     ..."
      ],
      "execution_count": 10,
      "outputs": []
    },
    {
      "cell_type": "code",
      "metadata": {
        "id": "mrfuiMVGDmCK"
      },
      "source": [
        "from sklearn.ensemble import GradientBoostingRegressor\n",
        "\n",
        "def objective(trial):\n",
        "    params = {\n",
        "        \"n_estimators\": trial.suggest_int(\"n_estimators\", 1000, 10000, step=200),\n",
        "        \"learning_rate\": trial.suggest_float(\"learning_rate\", 1e-7, 0.3, log=True),\n",
        "        \"max_depth\": trial.suggest_int(\"max_depth\", 3, 12, step=2),\n",
        "        \"random_state\": 1121218,\n",
        "    }\n",
        "    boost_reg = GradientBoostingRegressor(**params)\n",
        "    rmsle = ...\n",
        "    return rmsle"
      ],
      "execution_count": 11,
      "outputs": []
    },
    {
      "cell_type": "code",
      "metadata": {
        "colab": {
          "base_uri": "https://localhost:8080/"
        },
        "id": "8OjSD8SxD8p4",
        "outputId": "c6361720-dbc0-4f98-ac9e-3d8833a798be"
      },
      "source": [
        "from optuna.samplers import CmaEsSampler, RandomSampler\n",
        "\n",
        "# Study with a random sampler\n",
        "study = optuna.create_study(sampler=RandomSampler(seed=1121218))\n",
        "\n",
        "# Study with a CMA ES sampler\n",
        "study = optuna.create_study(sampler=CmaEsSampler(seed=1121218))"
      ],
      "execution_count": 12,
      "outputs": [
        {
          "output_type": "stream",
          "text": [
            "\u001b[32m[I 2021-08-11 11:54:05,209]\u001b[0m A new study created in memory with name: no-name-6c30c44c-ebe1-4b8c-8228-615a1ed4dc69\u001b[0m\n",
            "\u001b[32m[I 2021-08-11 11:54:05,213]\u001b[0m A new study created in memory with name: no-name-39725771-43c5-4869-a71c-ea0119b9220d\u001b[0m\n"
          ],
          "name": "stderr"
        }
      ]
    },
    {
      "cell_type": "code",
      "metadata": {
        "id": "FZcgn3AWD_W3"
      },
      "source": [
        "from sklearn.model_selection import KFold\n",
        "\n",
        "kf = KFold(n_splits=5, shuffle=True, random_state=1121218)\n",
        "scores = cross_validate(\n",
        "    gr_reg, X, y, cv=kf, scoring=\"neg_mean_squared_log_error\", n_jobs=-1\n",
        ")\n",
        "rmsle = np.sqrt(-scores[\"test_score\"].mean())\n",
        "\n",
        "print(f\"Base RMSLE: {rmsle:.5f}\")"
      ],
      "execution_count": 17,
      "outputs": []
    },
    {
      "cell_type": "code",
      "metadata": {
        "id": "X8KUmRLJEB6o"
      },
      "source": [
        "def objective(trial, X, y, cv, scoring):\n",
        "    params = {\n",
        "        \"n_estimators\": trial.suggest_int(\"n_estimators\", 100, 5000, step=100),\n",
        "        \"learning_rate\": trial.suggest_float(\"learning_rate\", 1e-4, 0.3, log=True),\n",
        "        \"max_depth\": trial.suggest_int(\"max_depth\", 3, 9),\n",
        "        \"subsample\": trial.suggest_float(\"subsample\", 0.5, 0.9, step=0.1),\n",
        "        \"max_features\": trial.suggest_categorical(\n",
        "            \"max_features\", [\"auto\", \"sqrt\", \"log2\"]\n",
        "        ),\n",
        "        \"random_state\": 1121218,\n",
        "        \"n_iter_no_change\": 50,  # early stopping\n",
        "        \"validation_fraction\": 0.05,\n",
        "    }\n",
        "    # Perform CV\n",
        "    gr_reg = GradientBoostingRegressor(**params)\n",
        "    scores = cross_validate(gr_reg, X, y, cv=cv, scoring=scoring, n_jobs=-1)\n",
        "    # Compute RMSLE\n",
        "    rmsle = np.sqrt(-scores[\"test_score\"].mean())\n",
        "\n",
        "    return rmsle"
      ],
      "execution_count": 18,
      "outputs": []
    },
    {
      "cell_type": "code",
      "metadata": {
        "id": "WEjXshwqEoxk"
      },
      "source": [
        "%%time\n",
        "\n",
        "# Create study that minimizes\n",
        "study = optuna.create_study(direction=\"minimize\")\n",
        "\n",
        "# Wrap the objective inside a lambda with the relevant arguments\n",
        "kf = KFold(n_splits=5, shuffle=True, random_state=1121218)\n",
        "# Pass additional arguments inside another function\n",
        "func = lambda trial: objective(trial, X, y, cv=kf, scoring=\"neg_mean_squared_log_error\")\n",
        "\n",
        "# Start optimizing with 100 trials\n",
        "study.optimize(func, n_trials=100)\n",
        "\n",
        "print(f\"Base RMSLE     : {rmsle:.5f}\")\n",
        "print(f\"Optimized RMSLE: {study.best_value:.5f}\")"
      ],
      "execution_count": 20,
      "outputs": []
    },
    {
      "cell_type": "code",
      "metadata": {
        "id": "2AfDTED5ErgX"
      },
      "source": [
        "%%time\n",
        "\n",
        "study.optimize(func, n_trials=200)\n",
        "\n",
        "print(\"Best params:\")\n",
        "\n",
        "for key, value in study.best_params.items():\n",
        "    print(f\"\\t{key}: {value}\")\n",
        "\n",
        "\n",
        "print(f\"Base RMSLE     : {rmsle:.5f}\")\n",
        "print(f\"Optimized RMSLE: {study.best_value:.5f}\")"
      ],
      "execution_count": 22,
      "outputs": []
    },
    {
      "cell_type": "code",
      "metadata": {
        "colab": {
          "base_uri": "https://localhost:8080/",
          "height": 384
        },
        "id": "e8ZTno8dEwDs",
        "outputId": "da7af99d-07ca-480d-cb21-25ab4e93ab05"
      },
      "source": [
        "from optuna.visualization.matplotlib import plot_optimization_history\n",
        "\n",
        "plot_optimization_history(study);"
      ],
      "execution_count": 23,
      "outputs": [
        {
          "output_type": "stream",
          "text": [
            "/usr/local/lib/python3.7/dist-packages/ipykernel_launcher.py:3: ExperimentalWarning:\n",
            "\n",
            "plot_optimization_history is experimental (supported from v2.2.0). The interface can change in the future.\n",
            "\n",
            "\u001b[33m[W 2021-08-11 11:57:53,329]\u001b[0m Study instance does not contain trials.\u001b[0m\n"
          ],
          "name": "stderr"
        },
        {
          "output_type": "display_data",
          "data": {
            "image/png": "[encoded data removed]",
            "text/plain": [
              "<Figure size 432x288 with 1 Axes>"
            ]
          },
          "metadata": {
            "tags": []
          }
        }
      ]
    },
    {
      "cell_type": "code",
      "metadata": {
        "colab": {
          "base_uri": "https://localhost:8080/",
          "height": 384
        },
        "id": "kbg4Op1qE3Jm",
        "outputId": "47f0d489-354e-409b-b676-61487d86722b"
      },
      "source": [
        "from optuna.visualization.matplotlib import plot_param_importances\n",
        "\n",
        "plot_param_importances(study);"
      ],
      "execution_count": 24,
      "outputs": [
        {
          "output_type": "stream",
          "text": [
            "/usr/local/lib/python3.7/dist-packages/ipykernel_launcher.py:3: ExperimentalWarning:\n",
            "\n",
            "plot_param_importances is experimental (supported from v2.2.0). The interface can change in the future.\n",
            "\n",
            "\u001b[33m[W 2021-08-11 11:58:08,961]\u001b[0m Study instance does not contain completed trials.\u001b[0m\n"
          ],
          "name": "stderr"
        },
        {
          "output_type": "display_data",
          "data": {
            "image/png": "[encoded data removed]",
            "text/plain": [
              "<Figure size 432x288 with 1 Axes>"
            ]
          },
          "metadata": {
            "tags": []
          }
        }
      ]
    }
  ]
}