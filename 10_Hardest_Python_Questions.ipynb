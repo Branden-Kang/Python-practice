{
  "nbformat": 4,
  "nbformat_minor": 0,
  "metadata": {
    "colab": {
      "name": "10 Hardest Python Questions.ipynb",
      "provenance": [],
      "authorship_tag": "ABX9TyNw4Pkhms9SoKufiLvggv4l"
    },
    "kernelspec": {
      "name": "python3",
      "display_name": "Python 3"
    },
    "language_info": {
      "name": "python"
    }
  },
  "cells": [
    {
      "cell_type": "markdown",
      "source": [
        "[Reference](https://medium.com/@saint_sdmn/10-hardest-python-questions-98986c8cd309)"
      ],
      "metadata": {
        "id": "gauLpWc5_tAD"
      }
    },
    {
      "cell_type": "markdown",
      "source": [
        "# 1. type == object"
      ],
      "metadata": {
        "id": "0AxPdCzs_vWj"
      }
    },
    {
      "cell_type": "code",
      "execution_count": 1,
      "metadata": {
        "colab": {
          "base_uri": "https://localhost:8080/"
        },
        "id": "TUPD8Wnm_ocB",
        "outputId": "710bdfcf-d98e-431a-ffca-99a4eb792b79"
      },
      "outputs": [
        {
          "output_type": "execute_result",
          "data": {
            "text/plain": [
              "True"
            ]
          },
          "metadata": {},
          "execution_count": 1
        }
      ],
      "source": [
        "isinstance(type, object)\n",
        "isinstance(object, type)\n",
        "isinstance(object, object)\n",
        "isinstance(type, type)"
      ]
    },
    {
      "cell_type": "markdown",
      "source": [
        "# 2. Empty booleans\n"
      ],
      "metadata": {
        "id": "fXTWpcpb_2TT"
      }
    },
    {
      "cell_type": "code",
      "source": [
        "any([])\n",
        "all([])"
      ],
      "metadata": {
        "colab": {
          "base_uri": "https://localhost:8080/"
        },
        "id": "wyuAuvow_1FQ",
        "outputId": "172197e1-67e8-4310-9120-e3034e661f7c"
      },
      "execution_count": 2,
      "outputs": [
        {
          "output_type": "execute_result",
          "data": {
            "text/plain": [
              "True"
            ]
          },
          "metadata": {},
          "execution_count": 2
        }
      ]
    },
    {
      "cell_type": "markdown",
      "source": [
        "# 3. Roundabout\n"
      ],
      "metadata": {
        "id": "VSS8BLDW_9Na"
      }
    },
    {
      "cell_type": "code",
      "source": [
        "round(7 / 2)\n",
        "round(3 / 2)\n",
        "round(5 / 2)"
      ],
      "metadata": {
        "colab": {
          "base_uri": "https://localhost:8080/"
        },
        "id": "7z4dLBzI_45T",
        "outputId": "1b498fcb-be6e-436b-fcea-a912c5ce8953"
      },
      "execution_count": 3,
      "outputs": [
        {
          "output_type": "execute_result",
          "data": {
            "text/plain": [
              "2"
            ]
          },
          "metadata": {},
          "execution_count": 3
        }
      ]
    },
    {
      "cell_type": "markdown",
      "source": [
        "# 4. Instance first!\n"
      ],
      "metadata": {
        "id": "9Kuerzc1ADSg"
      }
    },
    {
      "cell_type": "code",
      "source": [
        "class A:\n",
        "    answer = 42\n",
        "    def __init__(self):\n",
        "        self.answer = 21\n",
        "        self.__add__ = lambda x, y: x.answer + y\n",
        "    def __add__(self, y):\n",
        "        return self.answer - y\n",
        "print(A() + 5)"
      ],
      "metadata": {
        "colab": {
          "base_uri": "https://localhost:8080/"
        },
        "id": "xOZ2i2Dy__Rl",
        "outputId": "41f006ee-028d-4dd9-e2fb-000cb1cb76e2"
      },
      "execution_count": 4,
      "outputs": [
        {
          "output_type": "stream",
          "name": "stdout",
          "text": [
            "16\n"
          ]
        }
      ]
    },
    {
      "cell_type": "markdown",
      "source": [
        "# 5. Add it all together\n"
      ],
      "metadata": {
        "id": "pA5_gP5kAF8z"
      }
    },
    {
      "cell_type": "code",
      "source": [
        "sum(\"\")\n",
        "sum(\"\", [])\n",
        "sum(\"\", {})"
      ],
      "metadata": {
        "colab": {
          "base_uri": "https://localhost:8080/"
        },
        "id": "03FJGtiDAEsc",
        "outputId": "89fc0b16-eaab-4274-dbc0-ebaf98c444a5"
      },
      "execution_count": 5,
      "outputs": [
        {
          "output_type": "execute_result",
          "data": {
            "text/plain": [
              "{}"
            ]
          },
          "metadata": {},
          "execution_count": 5
        }
      ]
    },
    {
      "cell_type": "markdown",
      "source": [
        "# 6. Unexpected attribute\n"
      ],
      "metadata": {
        "id": "rfamEviYATDB"
      }
    },
    {
      "cell_type": "code",
      "source": [
        "sum([\n",
        "    el.imag \n",
        "    for el in [\n",
        "        0, 5, 10e9, float('inf'), float('nan')\n",
        "    ]\n",
        "])"
      ],
      "metadata": {
        "colab": {
          "base_uri": "https://localhost:8080/"
        },
        "id": "yx6zZ1NdAHtn",
        "outputId": "1c830745-9c36-44f8-e289-2fd63cd03961"
      },
      "execution_count": 6,
      "outputs": [
        {
          "output_type": "execute_result",
          "data": {
            "text/plain": [
              "0.0"
            ]
          },
          "metadata": {},
          "execution_count": 6
        }
      ]
    },
    {
      "cell_type": "markdown",
      "source": [
        "# 7. Lazy Python\n"
      ],
      "metadata": {
        "id": "c8DDUHQlAWUM"
      }
    },
    {
      "cell_type": "code",
      "source": [
        "class A:\n",
        "    def function(self):\n",
        "        return A()\n",
        "a = A()\n",
        "A = int\n",
        "print(a.function())"
      ],
      "metadata": {
        "colab": {
          "base_uri": "https://localhost:8080/"
        },
        "id": "5_FB10XaAU58",
        "outputId": "8f56251e-f506-47c4-a1fe-d425664fbe99"
      },
      "execution_count": 7,
      "outputs": [
        {
          "output_type": "stream",
          "name": "stdout",
          "text": [
            "0\n"
          ]
        }
      ]
    },
    {
      "cell_type": "markdown",
      "source": [
        "# 8. I want -1 times more\n"
      ],
      "metadata": {
        "id": "KjonM0rlAZrg"
      }
    },
    {
      "cell_type": "code",
      "source": [
        "\"this is a very long string\" * (-1)"
      ],
      "metadata": {
        "colab": {
          "base_uri": "https://localhost:8080/",
          "height": 37
        },
        "id": "VleYR545AYR0",
        "outputId": "9f216a33-2214-4e67-bbdd-c8245c8cbb80"
      },
      "execution_count": 8,
      "outputs": [
        {
          "output_type": "execute_result",
          "data": {
            "text/plain": [
              "''"
            ],
            "application/vnd.google.colaboratory.intrinsic+json": {
              "type": "string"
            }
          },
          "metadata": {},
          "execution_count": 8
        }
      ]
    },
    {
      "cell_type": "markdown",
      "source": [
        "# 9. Breaking the rules of math\n"
      ],
      "metadata": {
        "id": "oCCL-77gAcPx"
      }
    },
    {
      "cell_type": "code",
      "source": [
        "max(-0.0, 0.0)"
      ],
      "metadata": {
        "colab": {
          "base_uri": "https://localhost:8080/"
        },
        "id": "1jLAHRIXAbCq",
        "outputId": "9fb0640a-9136-4c0c-c0e1-249c5971493a"
      },
      "execution_count": 9,
      "outputs": [
        {
          "output_type": "execute_result",
          "data": {
            "text/plain": [
              "-0.0"
            ]
          },
          "metadata": {},
          "execution_count": 9
        }
      ]
    },
    {
      "cell_type": "markdown",
      "source": [
        "# 10. Breaking the rules of math (again)\n"
      ],
      "metadata": {
        "id": "fR_FFjKKAifG"
      }
    },
    {
      "cell_type": "code",
      "source": [
        "x = (1 << 53) + 1\n",
        "x + 1.0 > x"
      ],
      "metadata": {
        "colab": {
          "base_uri": "https://localhost:8080/"
        },
        "id": "Lb_-UQhVAgd7",
        "outputId": "3527de36-8015-43f2-f134-bdbfdc4068c0"
      },
      "execution_count": 10,
      "outputs": [
        {
          "output_type": "execute_result",
          "data": {
            "text/plain": [
              "False"
            ]
          },
          "metadata": {},
          "execution_count": 10
        }
      ]
    }
  ]
}