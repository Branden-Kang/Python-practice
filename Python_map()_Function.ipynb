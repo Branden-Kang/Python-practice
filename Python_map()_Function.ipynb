{
  "nbformat": 4,
  "nbformat_minor": 0,
  "metadata": {
    "colab": {
      "name": "Python map() Function.ipynb",
      "provenance": [],
      "authorship_tag": "ABX9TyOdYsFARCUfJILr545Hriv/"
    },
    "kernelspec": {
      "name": "python3",
      "display_name": "Python 3"
    },
    "language_info": {
      "name": "python"
    }
  },
  "cells": [
    {
      "cell_type": "markdown",
      "metadata": {
        "id": "eGOC2M6qEuyT"
      },
      "source": [
        "[Reference](https://medium.com/@engr.tanveersultan53/python-map-function-3c3878b8f3bd)"
      ]
    },
    {
      "cell_type": "code",
      "metadata": {
        "colab": {
          "base_uri": "https://localhost:8080/"
        },
        "id": "oqjt10Q_EbH2",
        "outputId": "23654f07-61e2-4a77-9d45-c64564f3eec1"
      },
      "source": [
        "lst = [1,2,3,4,5,6,7,8,9]\n",
        "\n",
        "squared = map(lambda x:x**2 , lst)\n",
        "\n",
        "print(list(squared))"
      ],
      "execution_count": 1,
      "outputs": [
        {
          "output_type": "stream",
          "name": "stdout",
          "text": [
            "[1, 4, 9, 16, 25, 36, 49, 64, 81]\n"
          ]
        }
      ]
    }
  ]
}