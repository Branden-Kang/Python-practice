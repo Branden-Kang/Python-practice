{
  "nbformat": 4,
  "nbformat_minor": 0,
  "metadata": {
    "colab": {
      "name": "pingouin2.ipynb",
      "provenance": [],
      "authorship_tag": "ABX9TyNx8+V8h5EonVlR44vocQbl"
    },
    "kernelspec": {
      "name": "python3",
      "display_name": "Python 3"
    }
  },
  "cells": [
    {
      "cell_type": "markdown",
      "metadata": {
        "id": "iQY-4QDIiiRa"
      },
      "source": [
        "[Reference](https://towardsdatascience.com/new-python-library-for-statistical-tests-simpler-than-statsmodels-richer-than-scipy-stats-ff380d4673c0)"
      ]
    },
    {
      "cell_type": "code",
      "metadata": {
        "id": "4mckNLvGihwN",
        "outputId": "be5519aa-9b78-419a-b216-63b8adf86679",
        "colab": {
          "base_uri": "https://localhost:8080/",
          "height": 802
        }
      },
      "source": [
        "!pip install pingouin"
      ],
      "execution_count": 1,
      "outputs": [
        {
          "output_type": "stream",
          "text": [
            "Collecting pingouin\n",
            "\u001b[?25l  Downloading https://files.pythonhosted.org/packages/e6/5f/4618f878765a8b7037b8831f19105c5c2764b26e5e9afa4a29c58fc11d26/pingouin-0.3.8.tar.gz (223kB)\n",
            "\r\u001b[K     |█▌                              | 10kB 17.6MB/s eta 0:00:01\r\u001b[K     |███                             | 20kB 5.6MB/s eta 0:00:01\r\u001b[K     |████▍                           | 30kB 5.5MB/s eta 0:00:01\r\u001b[K     |█████▉                          | 40kB 6.5MB/s eta 0:00:01\r\u001b[K     |███████▍                        | 51kB 6.1MB/s eta 0:00:01\r\u001b[K     |████████▉                       | 61kB 7.0MB/s eta 0:00:01\r\u001b[K     |██████████▎                     | 71kB 7.5MB/s eta 0:00:01\r\u001b[K     |███████████▊                    | 81kB 7.4MB/s eta 0:00:01\r\u001b[K     |█████████████▏                  | 92kB 7.7MB/s eta 0:00:01\r\u001b[K     |██████████████▊                 | 102kB 7.6MB/s eta 0:00:01\r\u001b[K     |████████████████▏               | 112kB 7.6MB/s eta 0:00:01\r\u001b[K     |█████████████████▋              | 122kB 7.6MB/s eta 0:00:01\r\u001b[K     |███████████████████             | 133kB 7.6MB/s eta 0:00:01\r\u001b[K     |████████████████████▌           | 143kB 7.6MB/s eta 0:00:01\r\u001b[K     |██████████████████████          | 153kB 7.6MB/s eta 0:00:01\r\u001b[K     |███████████████████████▌        | 163kB 7.6MB/s eta 0:00:01\r\u001b[K     |█████████████████████████       | 174kB 7.6MB/s eta 0:00:01\r\u001b[K     |██████████████████████████▍     | 184kB 7.6MB/s eta 0:00:01\r\u001b[K     |████████████████████████████    | 194kB 7.6MB/s eta 0:00:01\r\u001b[K     |█████████████████████████████▍  | 204kB 7.6MB/s eta 0:00:01\r\u001b[K     |██████████████████████████████▉ | 215kB 7.6MB/s eta 0:00:01\r\u001b[K     |████████████████████████████████| 225kB 7.6MB/s \n",
            "\u001b[?25hRequirement already satisfied: numpy>=1.15 in /usr/local/lib/python3.6/dist-packages (from pingouin) (1.18.5)\n",
            "Requirement already satisfied: scipy>=1.3 in /usr/local/lib/python3.6/dist-packages (from pingouin) (1.4.1)\n",
            "Requirement already satisfied: pandas>=0.24 in /usr/local/lib/python3.6/dist-packages (from pingouin) (1.1.2)\n",
            "Requirement already satisfied: matplotlib>=3.0.2 in /usr/local/lib/python3.6/dist-packages (from pingouin) (3.2.2)\n",
            "Requirement already satisfied: seaborn>=0.9.0 in /usr/local/lib/python3.6/dist-packages (from pingouin) (0.11.0)\n",
            "Requirement already satisfied: statsmodels>=0.10.0 in /usr/local/lib/python3.6/dist-packages (from pingouin) (0.10.2)\n",
            "Requirement already satisfied: scikit-learn in /usr/local/lib/python3.6/dist-packages (from pingouin) (0.22.2.post1)\n",
            "Collecting pandas_flavor>=0.1.2\n",
            "  Downloading https://files.pythonhosted.org/packages/9a/57/7fbcff4c0961ed190ac5fcb0bd8194152ee1ee6487edf64fdbae16e2bc4b/pandas_flavor-0.2.0-py2.py3-none-any.whl\n",
            "Collecting outdated\n",
            "  Downloading https://files.pythonhosted.org/packages/86/70/2f166266438a30e94140f00c99c0eac1c45807981052a1d4c123660e1323/outdated-0.2.0.tar.gz\n",
            "Requirement already satisfied: tabulate in /usr/local/lib/python3.6/dist-packages (from pingouin) (0.8.7)\n",
            "Requirement already satisfied: pytz>=2017.2 in /usr/local/lib/python3.6/dist-packages (from pandas>=0.24->pingouin) (2018.9)\n",
            "Requirement already satisfied: python-dateutil>=2.7.3 in /usr/local/lib/python3.6/dist-packages (from pandas>=0.24->pingouin) (2.8.1)\n",
            "Requirement already satisfied: kiwisolver>=1.0.1 in /usr/local/lib/python3.6/dist-packages (from matplotlib>=3.0.2->pingouin) (1.2.0)\n",
            "Requirement already satisfied: pyparsing!=2.0.4,!=2.1.2,!=2.1.6,>=2.0.1 in /usr/local/lib/python3.6/dist-packages (from matplotlib>=3.0.2->pingouin) (2.4.7)\n",
            "Requirement already satisfied: cycler>=0.10 in /usr/local/lib/python3.6/dist-packages (from matplotlib>=3.0.2->pingouin) (0.10.0)\n",
            "Requirement already satisfied: patsy>=0.4.0 in /usr/local/lib/python3.6/dist-packages (from statsmodels>=0.10.0->pingouin) (0.5.1)\n",
            "Requirement already satisfied: joblib>=0.11 in /usr/local/lib/python3.6/dist-packages (from scikit-learn->pingouin) (0.16.0)\n",
            "Requirement already satisfied: xarray in /usr/local/lib/python3.6/dist-packages (from pandas_flavor>=0.1.2->pingouin) (0.15.1)\n",
            "Collecting littleutils\n",
            "  Downloading https://files.pythonhosted.org/packages/4e/b1/bb4e06f010947d67349f863b6a2ad71577f85590180a935f60543f622652/littleutils-0.2.2.tar.gz\n",
            "Requirement already satisfied: requests in /usr/local/lib/python3.6/dist-packages (from outdated->pingouin) (2.23.0)\n",
            "Requirement already satisfied: six>=1.5 in /usr/local/lib/python3.6/dist-packages (from python-dateutil>=2.7.3->pandas>=0.24->pingouin) (1.15.0)\n",
            "Requirement already satisfied: setuptools>=41.2 in /usr/local/lib/python3.6/dist-packages (from xarray->pandas_flavor>=0.1.2->pingouin) (50.3.0)\n",
            "Requirement already satisfied: certifi>=2017.4.17 in /usr/local/lib/python3.6/dist-packages (from requests->outdated->pingouin) (2020.6.20)\n",
            "Requirement already satisfied: chardet<4,>=3.0.2 in /usr/local/lib/python3.6/dist-packages (from requests->outdated->pingouin) (3.0.4)\n",
            "Requirement already satisfied: idna<3,>=2.5 in /usr/local/lib/python3.6/dist-packages (from requests->outdated->pingouin) (2.10)\n",
            "Requirement already satisfied: urllib3!=1.25.0,!=1.25.1,<1.26,>=1.21.1 in /usr/local/lib/python3.6/dist-packages (from requests->outdated->pingouin) (1.24.3)\n",
            "Building wheels for collected packages: pingouin, outdated, littleutils\n",
            "  Building wheel for pingouin (setup.py) ... \u001b[?25l\u001b[?25hdone\n",
            "  Created wheel for pingouin: filename=pingouin-0.3.8-cp36-none-any.whl size=221688 sha256=a3247d84f667202043d20c85638c293d7a21294df0161701136cacfe305a2767\n",
            "  Stored in directory: /root/.cache/pip/wheels/d6/9e/53/f885f73f29cf7c8cac3d8f4b1532bbfef2f5eb543946ac9055\n",
            "  Building wheel for outdated (setup.py) ... \u001b[?25l\u001b[?25hdone\n",
            "  Created wheel for outdated: filename=outdated-0.2.0-cp36-none-any.whl size=4961 sha256=df5df7b6dc975d2d77574bc37d78ab7a4f0c0fca3b021b0f039909788f04b745\n",
            "  Stored in directory: /root/.cache/pip/wheels/fd/7c/ef/814f514d31197310872b5abf353feb8fef9d67ee658e1e7e39\n",
            "  Building wheel for littleutils (setup.py) ... \u001b[?25l\u001b[?25hdone\n",
            "  Created wheel for littleutils: filename=littleutils-0.2.2-cp36-none-any.whl size=7051 sha256=9e7793b6bbbe63337dbc2fc3ccd2550abceb6179c6f7a4dce4f44b10d6af759d\n",
            "  Stored in directory: /root/.cache/pip/wheels/53/16/9f/ac67d15c40243754fd73f620e1b9b6dedc20492ecc19a2bae1\n",
            "Successfully built pingouin outdated littleutils\n",
            "Installing collected packages: pandas-flavor, littleutils, outdated, pingouin\n",
            "Successfully installed littleutils-0.2.2 outdated-0.2.0 pandas-flavor-0.2.0 pingouin-0.3.8\n"
          ],
          "name": "stdout"
        }
      ]
    },
    {
      "cell_type": "code",
      "metadata": {
        "id": "kc2q08Slim2F",
        "outputId": "4b97ed20-694f-4247-f626-2f9e7498d865",
        "colab": {
          "base_uri": "https://localhost:8080/",
          "height": 85
        }
      },
      "source": [
        "import pingouin as pg\n",
        "x = [1, 2, 3, 4, 5]\n",
        "y = [0, 1, 2, 3, 6]\n",
        "model = pg.ttest(x, y)  # output is a pandas dataframe\n",
        "print(model)"
      ],
      "execution_count": 3,
      "outputs": [
        {
          "output_type": "stream",
          "text": [
            "               T  dof       tail  ...   cohen-d   BF10     power\n",
            "T-test  0.480384    8  two-sided  ...  0.303822  0.529  0.070989\n",
            "\n",
            "[1 rows x 8 columns]\n"
          ],
          "name": "stdout"
        }
      ]
    },
    {
      "cell_type": "markdown",
      "metadata": {
        "id": "1-AioPAnitlD"
      },
      "source": [
        "# Analysis of variance (ANOVA)"
      ]
    },
    {
      "cell_type": "code",
      "metadata": {
        "id": "rnPQSb1hiokQ",
        "outputId": "8c40d63a-f89d-43f9-e429-681d85a50293",
        "colab": {
          "base_uri": "https://localhost:8080/",
          "height": 173
        }
      },
      "source": [
        "dt = pg.read_dataset('anova3')\n",
        "\n",
        "# pandas method anova\n",
        "dt.anova(dv=\"Cholesterol\", between=[\"Sex\", \"Drug\"]).round(3)\n",
        "\n",
        "# pingouin function anova\n",
        "pg.anova(dv=\"Cholesterol\", between=[\"Sex\", \"Drug\"], data=dt)"
      ],
      "execution_count": 4,
      "outputs": [
        {
          "output_type": "execute_result",
          "data": {
            "text/html": [
              "<div>\n",
              "<style scoped>\n",
              "    .dataframe tbody tr th:only-of-type {\n",
              "        vertical-align: middle;\n",
              "    }\n",
              "\n",
              "    .dataframe tbody tr th {\n",
              "        vertical-align: top;\n",
              "    }\n",
              "\n",
              "    .dataframe thead th {\n",
              "        text-align: right;\n",
              "    }\n",
              "</style>\n",
              "<table border=\"1\" class=\"dataframe\">\n",
              "  <thead>\n",
              "    <tr style=\"text-align: right;\">\n",
              "      <th></th>\n",
              "      <th>Source</th>\n",
              "      <th>SS</th>\n",
              "      <th>DF</th>\n",
              "      <th>MS</th>\n",
              "      <th>F</th>\n",
              "      <th>p-unc</th>\n",
              "      <th>np2</th>\n",
              "    </tr>\n",
              "  </thead>\n",
              "  <tbody>\n",
              "    <tr>\n",
              "      <th>0</th>\n",
              "      <td>Sex</td>\n",
              "      <td>2.074568</td>\n",
              "      <td>1</td>\n",
              "      <td>2.074568</td>\n",
              "      <td>1.994228</td>\n",
              "      <td>0.163637</td>\n",
              "      <td>0.035615</td>\n",
              "    </tr>\n",
              "    <tr>\n",
              "      <th>1</th>\n",
              "      <td>Drug</td>\n",
              "      <td>0.815743</td>\n",
              "      <td>2</td>\n",
              "      <td>0.407872</td>\n",
              "      <td>0.392076</td>\n",
              "      <td>0.677560</td>\n",
              "      <td>0.014313</td>\n",
              "    </tr>\n",
              "    <tr>\n",
              "      <th>2</th>\n",
              "      <td>Sex * Drug</td>\n",
              "      <td>2.564162</td>\n",
              "      <td>2</td>\n",
              "      <td>1.282081</td>\n",
              "      <td>1.232431</td>\n",
              "      <td>0.299653</td>\n",
              "      <td>0.043653</td>\n",
              "    </tr>\n",
              "    <tr>\n",
              "      <th>3</th>\n",
              "      <td>Residual</td>\n",
              "      <td>56.175467</td>\n",
              "      <td>54</td>\n",
              "      <td>1.040286</td>\n",
              "      <td>NaN</td>\n",
              "      <td>NaN</td>\n",
              "      <td>NaN</td>\n",
              "    </tr>\n",
              "  </tbody>\n",
              "</table>\n",
              "</div>"
            ],
            "text/plain": [
              "       Source         SS  DF        MS         F     p-unc       np2\n",
              "0         Sex   2.074568   1  2.074568  1.994228  0.163637  0.035615\n",
              "1        Drug   0.815743   2  0.407872  0.392076  0.677560  0.014313\n",
              "2  Sex * Drug   2.564162   2  1.282081  1.232431  0.299653  0.043653\n",
              "3    Residual  56.175467  54  1.040286       NaN       NaN       NaN"
            ]
          },
          "metadata": {
            "tags": []
          },
          "execution_count": 4
        }
      ]
    },
    {
      "cell_type": "markdown",
      "metadata": {
        "id": "uyuVKr4Qi12R"
      },
      "source": [
        "# Regression"
      ]
    },
    {
      "cell_type": "code",
      "metadata": {
        "id": "84r_XTFxiw2x",
        "outputId": "ee14a0c7-7fd4-4a1c-aedf-5494dcf4036c",
        "colab": {
          "base_uri": "https://localhost:8080/",
          "height": 213
        }
      },
      "source": [
        "import seaborn as sns\n",
        "iris = sns.load_dataset(\"iris\")\n",
        "\n",
        "X = iris[['sepal_length', 'sepal_width']]  # predictors/features\n",
        "y = iris['petal_length']  # outcome/target\n",
        "pg.linear_regression(X, y)"
      ],
      "execution_count": 6,
      "outputs": [
        {
          "output_type": "execute_result",
          "data": {
            "text/html": [
              "<div>\n",
              "<style scoped>\n",
              "    .dataframe tbody tr th:only-of-type {\n",
              "        vertical-align: middle;\n",
              "    }\n",
              "\n",
              "    .dataframe tbody tr th {\n",
              "        vertical-align: top;\n",
              "    }\n",
              "\n",
              "    .dataframe thead th {\n",
              "        text-align: right;\n",
              "    }\n",
              "</style>\n",
              "<table border=\"1\" class=\"dataframe\">\n",
              "  <thead>\n",
              "    <tr style=\"text-align: right;\">\n",
              "      <th></th>\n",
              "      <th>names</th>\n",
              "      <th>coef</th>\n",
              "      <th>se</th>\n",
              "      <th>T</th>\n",
              "      <th>pval</th>\n",
              "      <th>r2</th>\n",
              "      <th>adj_r2</th>\n",
              "      <th>CI[2.5%]</th>\n",
              "      <th>CI[97.5%]</th>\n",
              "    </tr>\n",
              "  </thead>\n",
              "  <tbody>\n",
              "    <tr>\n",
              "      <th>0</th>\n",
              "      <td>Intercept</td>\n",
              "      <td>-2.524762</td>\n",
              "      <td>0.563440</td>\n",
              "      <td>-4.480979</td>\n",
              "      <td>1.484032e-05</td>\n",
              "      <td>0.867686</td>\n",
              "      <td>0.865886</td>\n",
              "      <td>-3.638250</td>\n",
              "      <td>-1.411273</td>\n",
              "    </tr>\n",
              "    <tr>\n",
              "      <th>1</th>\n",
              "      <td>sepal_length</td>\n",
              "      <td>1.775593</td>\n",
              "      <td>0.064405</td>\n",
              "      <td>27.569160</td>\n",
              "      <td>5.847914e-60</td>\n",
              "      <td>0.867686</td>\n",
              "      <td>0.865886</td>\n",
              "      <td>1.648313</td>\n",
              "      <td>1.902872</td>\n",
              "    </tr>\n",
              "    <tr>\n",
              "      <th>2</th>\n",
              "      <td>sepal_width</td>\n",
              "      <td>-1.338623</td>\n",
              "      <td>0.122358</td>\n",
              "      <td>-10.940240</td>\n",
              "      <td>9.429194e-21</td>\n",
              "      <td>0.867686</td>\n",
              "      <td>0.865886</td>\n",
              "      <td>-1.580431</td>\n",
              "      <td>-1.096816</td>\n",
              "    </tr>\n",
              "  </tbody>\n",
              "</table>\n",
              "</div>"
            ],
            "text/plain": [
              "          names      coef        se  ...    adj_r2  CI[2.5%]  CI[97.5%]\n",
              "0     Intercept -2.524762  0.563440  ...  0.865886 -3.638250  -1.411273\n",
              "1  sepal_length  1.775593  0.064405  ...  0.865886  1.648313   1.902872\n",
              "2   sepal_width -1.338623  0.122358  ...  0.865886 -1.580431  -1.096816\n",
              "\n",
              "[3 rows x 9 columns]"
            ]
          },
          "metadata": {
            "tags": []
          },
          "execution_count": 6
        }
      ]
    }
  ]
}