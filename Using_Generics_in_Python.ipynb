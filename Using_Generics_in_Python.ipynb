{
  "nbformat": 4,
  "nbformat_minor": 0,
  "metadata": {
    "colab": {
      "name": "Using Generics in Python.ipynb",
      "provenance": [],
      "authorship_tag": "ABX9TyPGWyEKjC5iwdKMZd/mdvfW"
    },
    "kernelspec": {
      "name": "python3",
      "display_name": "Python 3"
    },
    "language_info": {
      "name": "python"
    }
  },
  "cells": [
    {
      "cell_type": "markdown",
      "metadata": {
        "id": "TDLQypbK6vTH"
      },
      "source": [
        "[Reference](https://medium.com/@steveYeah/using-generics-in-python-99010e5056eb)"
      ]
    },
    {
      "cell_type": "code",
      "metadata": {
        "colab": {
          "base_uri": "https://localhost:8080/"
        },
        "id": "8B8XVbhN6uKC",
        "outputId": "4d536309-56fe-4e1a-a051-6116f9ce3b1e"
      },
      "source": [
        "def first(container):\n",
        "    return container[0]\n",
        "  \n",
        "if __name__ == \"__main__\":\n",
        "    list_one = [\"a\", \"b\", \"c\"]\n",
        "    print(first(list_one))\n",
        "    \n",
        "    list_two = [1, 2, 3]\n",
        "    print(first(list_two))"
      ],
      "execution_count": 1,
      "outputs": [
        {
          "output_type": "stream",
          "text": [
            "a\n",
            "1\n"
          ],
          "name": "stdout"
        }
      ]
    },
    {
      "cell_type": "code",
      "metadata": {
        "colab": {
          "base_uri": "https://localhost:8080/"
        },
        "id": "Vo25OiHL7KQN",
        "outputId": "78dcdbc3-1875-4d78-a136-170ea2386f4d"
      },
      "source": [
        "from typing import Any, List\n",
        "\n",
        "def first(container: List[Any]) -> Any:\n",
        "    return container[0]\n",
        "  \n",
        "if __name__ == \"__main__\":\n",
        "    list_one: List[str] = [\"a\", \"b\", \"c\"]\n",
        "    print(first(list_one))\n",
        "    \n",
        "    list_two: List[int] = [1, 2, 3]\n",
        "    print(first(list_two))"
      ],
      "execution_count": 2,
      "outputs": [
        {
          "output_type": "stream",
          "text": [
            "a\n",
            "1\n"
          ],
          "name": "stdout"
        }
      ]
    },
    {
      "cell_type": "code",
      "metadata": {
        "colab": {
          "base_uri": "https://localhost:8080/"
        },
        "id": "cw2M2SWA7LcM",
        "outputId": "b6de8cfd-b476-47e9-8cb0-e64c9d2f45b0"
      },
      "source": [
        "from typing import List, TypeVar\n",
        "\n",
        "T = TypeVar(\"T\")\n",
        "\n",
        "def first(container: List[T]) -> T:\n",
        "    return container[0]\n",
        "  \n",
        "if __name__ == \"__main__\":\n",
        "    list_one: List[str] = [\"a\", \"b\", \"c\"]\n",
        "    print(first(list_one))\n",
        "    \n",
        "    list_two: List[int] = [1, 2, 3]\n",
        "    print(first(list_two))"
      ],
      "execution_count": 3,
      "outputs": [
        {
          "output_type": "stream",
          "text": [
            "a\n",
            "1\n"
          ],
          "name": "stdout"
        }
      ]
    },
    {
      "cell_type": "code",
      "metadata": {
        "colab": {
          "base_uri": "https://localhost:8080/"
        },
        "id": "LFCT8Fbi7MuH",
        "outputId": "929ede1b-a94a-47d5-c86b-b4527207444f"
      },
      "source": [
        "from typing import List, TypeVar\n",
        "\n",
        "T = TypeVar(\"T\")\n",
        "\n",
        "def first(container: List[T]) -> T:\n",
        "    print(container)\n",
        "    return \"a\" # mypy raises: Incompatible return value type (got \"str\", expected \"T\")\n",
        "  \n",
        "if __name__ == \"__main__\":\n",
        "    list_one: List[str] = [\"a\", \"b\", \"c\"]\n",
        "    print(first(list_one))"
      ],
      "execution_count": 4,
      "outputs": [
        {
          "output_type": "stream",
          "text": [
            "['a', 'b', 'c']\n",
            "a\n"
          ],
          "name": "stdout"
        }
      ]
    },
    {
      "cell_type": "code",
      "metadata": {
        "colab": {
          "base_uri": "https://localhost:8080/"
        },
        "id": "Rn6JgcKI7hHZ",
        "outputId": "e0b0c6c8-0dd0-4263-d5fb-3333a411de90"
      },
      "source": [
        "from typing import Dict, TypeVar\n",
        "\n",
        "K = TypeVar(\"K\")\n",
        "V = TypeVar(\"V\")\n",
        "\n",
        "def get_item(key: K, container: Dict[K, V]) -> V:\n",
        "    return container[key]\n",
        "\n",
        "if __name__ == \"__main__\":\n",
        "    test: Dict[str, int] = {\"k\": 1}\n",
        "    print(get_item(\"k\", test))"
      ],
      "execution_count": 5,
      "outputs": [
        {
          "output_type": "stream",
          "text": [
            "1\n"
          ],
          "name": "stdout"
        }
      ]
    },
    {
      "cell_type": "code",
      "metadata": {
        "colab": {
          "base_uri": "https://localhost:8080/"
        },
        "id": "TPuHJ03X7ie9",
        "outputId": "829398cd-db6c-4f0b-e0d5-323fbd88e7c8"
      },
      "source": [
        "from typing import Dict, TypeVar\n",
        "\n",
        "K = TypeVar(\"K\")\n",
        "V = TypeVar(\"V\")\n",
        "\n",
        "def get_first(container: Dict[K, V]) -> K:\n",
        "    return list(container.keys())[0]\n",
        "  \n",
        "if __name__ == \"__main__\":\n",
        "    test: Dict[str, int] = {\"k\": 1}\n",
        "    print(get_first(test))"
      ],
      "execution_count": 6,
      "outputs": [
        {
          "output_type": "stream",
          "text": [
            "k\n"
          ],
          "name": "stdout"
        }
      ]
    },
    {
      "cell_type": "code",
      "metadata": {
        "colab": {
          "base_uri": "https://localhost:8080/"
        },
        "id": "slqyNdeV7j5e",
        "outputId": "f013c728-e80e-4af2-c501-12da2755dfbf"
      },
      "source": [
        "from typing import Dict, TypeVar\n",
        "\n",
        "K = TypeVar(\"K\")\n",
        "V = TypeVar(\"V\")\n",
        "\n",
        "def get_first(container: Dict[K, V]) -> K:\n",
        "    return list(container.values())[0] # mypy raises: Incompatible return value type (got \"V\", expected \"K\")\n",
        "  \n",
        "if __name__ == \"__main__\":\n",
        "    test: Dict[str, int] = {\"k\": 1}\n",
        "    print(get_first(test))"
      ],
      "execution_count": 7,
      "outputs": [
        {
          "output_type": "stream",
          "text": [
            "1\n"
          ],
          "name": "stdout"
        }
      ]
    },
    {
      "cell_type": "code",
      "metadata": {
        "colab": {
          "base_uri": "https://localhost:8080/"
        },
        "id": "7T_-T0Ys7k43",
        "outputId": "961a7298-5d82-4fc5-dd97-1c1dcbda3595"
      },
      "source": [
        "from typing import Any, List\n",
        "\n",
        "def first(container: List[Any]) -> Any:\n",
        "    return container[0]\n",
        "  \n",
        "if __name__ == \"__main__\":\n",
        "    list_one: List[str] = [\"a\", \"b\", \"c\"]\n",
        "    print(first(list_one))\n",
        "    \n",
        "    list_two: List[int] = [1, 2, 3]\n",
        "    print(first(list_two))"
      ],
      "execution_count": 8,
      "outputs": [
        {
          "output_type": "stream",
          "text": [
            "a\n",
            "1\n"
          ],
          "name": "stdout"
        }
      ]
    },
    {
      "cell_type": "code",
      "metadata": {
        "id": "zfOPGGE37m4_"
      },
      "source": [
        "from typing import Dict, Generic, TypeVar\n",
        "\n",
        "T = TypeVar(\"T\")\n",
        "\n",
        "class Registry(Generic[T]):\n",
        "    def __init__(self) -> None:\n",
        "        self._store: Dict[str, T] = {}\n",
        "          \n",
        "    def set_item(self, k: str, v: T) -> None:\n",
        "        self._store[k] = v\n",
        "    \n",
        "    def get_item(self, k: str) -> T:\n",
        "        return self._store[k]\n",
        "  \n",
        "if __name__ == \"__main__\":\n",
        "    family_name_reg = Registry[str]()\n",
        "    family_age_reg = Registry[int]()\n",
        "    \n",
        "    family_name_reg.set_item(\"husband\", \"steve\")\n",
        "    family_name_reg.set_item(\"dad\", \"john\")\n",
        "    \n",
        "    family_age_reg.set_item(\"steve\", 30)"
      ],
      "execution_count": 9,
      "outputs": []
    },
    {
      "cell_type": "code",
      "metadata": {
        "id": "xIZJYdzK7ofg"
      },
      "source": [
        "family_age_reg.set_item(\"steve\", \"yeah\")"
      ],
      "execution_count": 10,
      "outputs": []
    }
  ]
}