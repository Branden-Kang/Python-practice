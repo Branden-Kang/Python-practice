{
  "nbformat": 4,
  "nbformat_minor": 0,
  "metadata": {
    "colab": {
      "name": "The Template Method Pattern in Python.ipynb",
      "provenance": [],
      "authorship_tag": "ABX9TyPLCdu6hGIDHxyJFCzecNRC"
    },
    "kernelspec": {
      "name": "python3",
      "display_name": "Python 3"
    }
  },
  "cells": [
    {
      "cell_type": "markdown",
      "metadata": {
        "id": "myeeUtZYkvUC"
      },
      "source": [
        "[Reference](https://medium.com/better-programming/the-template-method-pattern-in-python-72b7d6e95c96)"
      ]
    },
    {
      "cell_type": "code",
      "metadata": {
        "id": "Q4ozvwqvkq4i",
        "outputId": "e64b5dde-7084-4ba5-a058-2ee732f0d0ab",
        "colab": {
          "base_uri": "https://localhost:8080/"
        }
      },
      "source": [
        "def action_a():\n",
        "    # For example pulling data from DB and preparing model features...\n",
        "    print('Setting up...')\n",
        "\n",
        "    # For example predicting via KNN\n",
        "    print('Running action A')\n",
        "\n",
        "    # For example closing connection to DB  calculating model predictions\n",
        "    print('Tearing down...')\n",
        "\n",
        "    return 'A'\n",
        "\n",
        "\n",
        "def action_b():\n",
        "    # For example pulling data from DB and preparing model features...\n",
        "    print('Setting up...')\n",
        "\n",
        "    # For example predicting via Logistics Regression\n",
        "    print('Running action B')\n",
        "\n",
        "    # For example closing connection to DB  calculating model predictions\n",
        "    print('Tearing down...')\n",
        "\n",
        "    return 'B'\n",
        "\n",
        "\n",
        "# Example usage\n",
        "print()\n",
        "print(f'Result of action_a = {action_a()}')\n",
        "\n",
        "print()\n",
        "print(f'Result of action_b = {action_b()}')"
      ],
      "execution_count": 1,
      "outputs": [
        {
          "output_type": "stream",
          "text": [
            "\n",
            "Setting up...\n",
            "Running action A\n",
            "Tearing down...\n",
            "Result of action_a = A\n",
            "\n",
            "Setting up...\n",
            "Running action B\n",
            "Tearing down...\n",
            "Result of action_b = B\n"
          ],
          "name": "stdout"
        }
      ]
    },
    {
      "cell_type": "code",
      "metadata": {
        "id": "6Jk07Eqnkz9t",
        "outputId": "22349f33-bd3d-4fc3-a265-a6c81862cbec",
        "colab": {
          "base_uri": "https://localhost:8080/"
        }
      },
      "source": [
        "def template_method(action):\n",
        "    # For example pulling data from DB and preparing model features...\n",
        "    print('Setting up...')\n",
        "\n",
        "    # Running custom part\n",
        "    result = action()\n",
        "\n",
        "    # For example closing connection to DB  calculating model predictions\n",
        "    print('Tearing down...')\n",
        "\n",
        "    # Returning custom result after all boilerplate has been executed\n",
        "    return result\n",
        "\n",
        "\n",
        "def action_a():\n",
        "    # For example predicting via KNN\n",
        "    print('Running action A')\n",
        "    return 'A'\n",
        "\n",
        "\n",
        "def action_b():\n",
        "    # For example predicting via Logistics Regression\n",
        "    print('Running action B')\n",
        "    return 'B'\n",
        "\n",
        "\n",
        "# Example usage\n",
        "print()\n",
        "print(f'Result of action_a = {template_method(action_a)}')\n",
        "\n",
        "print()\n",
        "print(f'Result of action_b = {template_method(action_b)}')"
      ],
      "execution_count": 2,
      "outputs": [
        {
          "output_type": "stream",
          "text": [
            "\n",
            "Setting up...\n",
            "Running action A\n",
            "Tearing down...\n",
            "Result of action_a = A\n",
            "\n",
            "Setting up...\n",
            "Running action B\n",
            "Tearing down...\n",
            "Result of action_b = B\n"
          ],
          "name": "stdout"
        }
      ]
    }
  ]
}