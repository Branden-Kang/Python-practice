{
  "nbformat": 4,
  "nbformat_minor": 0,
  "metadata": {
    "colab": {
      "provenance": [],
      "authorship_tag": "ABX9TyNnQdBscNM1JEV7JYnbS3Pg"
    },
    "kernelspec": {
      "name": "python3",
      "display_name": "Python 3"
    },
    "language_info": {
      "name": "python"
    }
  },
  "cells": [
    {
      "cell_type": "markdown",
      "source": [
        "[Reference](https://medium.com/@codewithmuse/41ffb7090a38)"
      ],
      "metadata": {
        "id": "O_USRabkLwMA"
      }
    },
    {
      "cell_type": "code",
      "execution_count": 1,
      "metadata": {
        "colab": {
          "base_uri": "https://localhost:8080/"
        },
        "id": "0ygCTfZaLs7p",
        "outputId": "271d5786-b036-463e-c026-ff7abe21b533"
      },
      "outputs": [
        {
          "output_type": "stream",
          "name": "stdout",
          "text": [
            "Requirement already satisfied: polars in /usr/local/lib/python3.12/dist-packages (1.25.2)\n",
            "Requirement already satisfied: yfinance in /usr/local/lib/python3.12/dist-packages (0.2.65)\n",
            "Requirement already satisfied: duckdb in /usr/local/lib/python3.12/dist-packages (1.3.2)\n",
            "Requirement already satisfied: pyarrow in /usr/local/lib/python3.12/dist-packages (18.1.0)\n",
            "Requirement already satisfied: matplotlib in /usr/local/lib/python3.12/dist-packages (3.10.0)\n",
            "Requirement already satisfied: pandas>=1.3.0 in /usr/local/lib/python3.12/dist-packages (from yfinance) (2.2.2)\n",
            "Requirement already satisfied: numpy>=1.16.5 in /usr/local/lib/python3.12/dist-packages (from yfinance) (2.0.2)\n",
            "Requirement already satisfied: requests>=2.31 in /usr/local/lib/python3.12/dist-packages (from yfinance) (2.32.4)\n",
            "Requirement already satisfied: multitasking>=0.0.7 in /usr/local/lib/python3.12/dist-packages (from yfinance) (0.0.12)\n",
            "Requirement already satisfied: platformdirs>=2.0.0 in /usr/local/lib/python3.12/dist-packages (from yfinance) (4.4.0)\n",
            "Requirement already satisfied: pytz>=2022.5 in /usr/local/lib/python3.12/dist-packages (from yfinance) (2025.2)\n",
            "Requirement already satisfied: frozendict>=2.3.4 in /usr/local/lib/python3.12/dist-packages (from yfinance) (2.4.6)\n",
            "Requirement already satisfied: peewee>=3.16.2 in /usr/local/lib/python3.12/dist-packages (from yfinance) (3.18.2)\n",
            "Requirement already satisfied: beautifulsoup4>=4.11.1 in /usr/local/lib/python3.12/dist-packages (from yfinance) (4.13.5)\n",
            "Requirement already satisfied: curl_cffi>=0.7 in /usr/local/lib/python3.12/dist-packages (from yfinance) (0.13.0)\n",
            "Requirement already satisfied: protobuf>=3.19.0 in /usr/local/lib/python3.12/dist-packages (from yfinance) (5.29.5)\n",
            "Requirement already satisfied: websockets>=13.0 in /usr/local/lib/python3.12/dist-packages (from yfinance) (15.0.1)\n",
            "Requirement already satisfied: contourpy>=1.0.1 in /usr/local/lib/python3.12/dist-packages (from matplotlib) (1.3.3)\n",
            "Requirement already satisfied: cycler>=0.10 in /usr/local/lib/python3.12/dist-packages (from matplotlib) (0.12.1)\n",
            "Requirement already satisfied: fonttools>=4.22.0 in /usr/local/lib/python3.12/dist-packages (from matplotlib) (4.59.2)\n",
            "Requirement already satisfied: kiwisolver>=1.3.1 in /usr/local/lib/python3.12/dist-packages (from matplotlib) (1.4.9)\n",
            "Requirement already satisfied: packaging>=20.0 in /usr/local/lib/python3.12/dist-packages (from matplotlib) (25.0)\n",
            "Requirement already satisfied: pillow>=8 in /usr/local/lib/python3.12/dist-packages (from matplotlib) (11.3.0)\n",
            "Requirement already satisfied: pyparsing>=2.3.1 in /usr/local/lib/python3.12/dist-packages (from matplotlib) (3.2.3)\n",
            "Requirement already satisfied: python-dateutil>=2.7 in /usr/local/lib/python3.12/dist-packages (from matplotlib) (2.9.0.post0)\n",
            "Requirement already satisfied: soupsieve>1.2 in /usr/local/lib/python3.12/dist-packages (from beautifulsoup4>=4.11.1->yfinance) (2.8)\n",
            "Requirement already satisfied: typing-extensions>=4.0.0 in /usr/local/lib/python3.12/dist-packages (from beautifulsoup4>=4.11.1->yfinance) (4.15.0)\n",
            "Requirement already satisfied: cffi>=1.12.0 in /usr/local/lib/python3.12/dist-packages (from curl_cffi>=0.7->yfinance) (1.17.1)\n",
            "Requirement already satisfied: certifi>=2024.2.2 in /usr/local/lib/python3.12/dist-packages (from curl_cffi>=0.7->yfinance) (2025.8.3)\n",
            "Requirement already satisfied: tzdata>=2022.7 in /usr/local/lib/python3.12/dist-packages (from pandas>=1.3.0->yfinance) (2025.2)\n",
            "Requirement already satisfied: six>=1.5 in /usr/local/lib/python3.12/dist-packages (from python-dateutil>=2.7->matplotlib) (1.17.0)\n",
            "Requirement already satisfied: charset_normalizer<4,>=2 in /usr/local/lib/python3.12/dist-packages (from requests>=2.31->yfinance) (3.4.3)\n",
            "Requirement already satisfied: idna<4,>=2.5 in /usr/local/lib/python3.12/dist-packages (from requests>=2.31->yfinance) (3.10)\n",
            "Requirement already satisfied: urllib3<3,>=1.21.1 in /usr/local/lib/python3.12/dist-packages (from requests>=2.31->yfinance) (2.5.0)\n",
            "Requirement already satisfied: pycparser in /usr/local/lib/python3.12/dist-packages (from cffi>=1.12.0->curl_cffi>=0.7->yfinance) (2.22)\n"
          ]
        }
      ],
      "source": [
        "!pip install polars yfinance duckdb pyarrow matplotlib"
      ]
    },
    {
      "cell_type": "code",
      "source": [
        "!python --version"
      ],
      "metadata": {
        "colab": {
          "base_uri": "https://localhost:8080/"
        },
        "id": "iew9mY8OL0hx",
        "outputId": "a7d71116-4807-48ba-d40f-0160c15319ac"
      },
      "execution_count": 2,
      "outputs": [
        {
          "output_type": "stream",
          "name": "stdout",
          "text": [
            "Python 3.12.11\n"
          ]
        }
      ]
    },
    {
      "cell_type": "markdown",
      "source": [
        "# Step 1: Fetch Stock Data"
      ],
      "metadata": {
        "id": "8rouKSa-MB3S"
      }
    },
    {
      "cell_type": "code",
      "source": [
        "import polars as pl\n",
        "import yfinance as yf\n",
        "import duckdb\n",
        "import matplotlib.pyplot as plt"
      ],
      "metadata": {
        "id": "BekW9ecDL121"
      },
      "execution_count": 3,
      "outputs": []
    },
    {
      "cell_type": "code",
      "source": [
        "prices = yf.download(\"NVDA\", start=\"2024-01-01\", end=\"2025-01-01\")\n"
      ],
      "metadata": {
        "colab": {
          "base_uri": "https://localhost:8080/"
        },
        "id": "61cqUXDeL58Z",
        "outputId": "c2b02d3d-a2c5-4666-93da-c68d1cfe77ac"
      },
      "execution_count": 4,
      "outputs": [
        {
          "output_type": "stream",
          "name": "stderr",
          "text": [
            "/tmp/ipython-input-1125674547.py:1: FutureWarning: YF.download() has changed argument auto_adjust default to True\n",
            "  prices = yf.download(\"NVDA\", start=\"2024-01-01\", end=\"2025-01-01\")\n",
            "[*********************100%***********************]  1 of 1 completed\n"
          ]
        }
      ]
    },
    {
      "cell_type": "code",
      "source": [
        "df = pl.from_pandas(prices.reset_index()).with_columns(\n",
        "    pl.lit(\"NVDA\").alias(\"symbol\")\n",
        ")"
      ],
      "metadata": {
        "id": "Pg56Qt7vL6J6"
      },
      "execution_count": 5,
      "outputs": []
    },
    {
      "cell_type": "code",
      "source": [
        "try:\n",
        "    prices = yf.download(\"NVDA\", start=\"2024-01-01\", end=\"2025-01-01\")\n",
        "except Exception as e:\n",
        "    print(f\"Error downloading data: {e}\")\n",
        "    exit()"
      ],
      "metadata": {
        "colab": {
          "base_uri": "https://localhost:8080/"
        },
        "id": "m6V5ijdOL7kY",
        "outputId": "bea91eec-c7ef-4e21-ffd8-7686aa391b4a"
      },
      "execution_count": 6,
      "outputs": [
        {
          "output_type": "stream",
          "name": "stderr",
          "text": [
            "/tmp/ipython-input-638701509.py:2: FutureWarning: YF.download() has changed argument auto_adjust default to True\n",
            "  prices = yf.download(\"NVDA\", start=\"2024-01-01\", end=\"2025-01-01\")\n",
            "\r[*********************100%***********************]  1 of 1 completed\n"
          ]
        }
      ]
    },
    {
      "cell_type": "code",
      "source": [
        "prices"
      ],
      "metadata": {
        "colab": {
          "base_uri": "https://localhost:8080/",
          "height": 481
        },
        "id": "CPxUacrhL9Sg",
        "outputId": "a9364bed-3fe4-4572-e688-15d878d2ac35"
      },
      "execution_count": 7,
      "outputs": [
        {
          "output_type": "execute_result",
          "data": {
            "text/plain": [
              "Price            Close        High         Low        Open     Volume\n",
              "Ticker            NVDA        NVDA        NVDA        NVDA       NVDA\n",
              "Date                                                                 \n",
              "2024-01-02   48.146572   49.273070   47.573829   49.222094  411254000\n",
              "2024-01-03   47.547840   48.162564   47.298950   47.463878  320896000\n",
              "2024-01-04   47.976650   48.478426   47.486867   47.745750  306535000\n",
              "2024-01-05   49.075157   49.524958   48.284509   48.440441  415039000\n",
              "2024-01-08   52.229755   52.251749   49.456991   49.489977  642510000\n",
              "...                ...         ...         ...         ...        ...\n",
              "2024-12-24  140.197372  141.877094  138.627618  139.977407  105157000\n",
              "2024-12-26  139.907410  140.827275  137.707768  139.677451  116205600\n",
              "2024-12-27  136.987869  138.997554  134.688253  138.527629  170582600\n",
              "2024-12-30  137.467804  140.247354  133.998363  134.808230  167734700\n",
              "2024-12-31  134.268326  138.047730  133.808409  138.007728  155659200\n",
              "\n",
              "[252 rows x 5 columns]"
            ],
            "text/html": [
              "\n",
              "  <div id=\"df-57d41a78-257c-41b4-a309-a44cd4ccd4d5\" class=\"colab-df-container\">\n",
              "    <div>\n",
              "<style scoped>\n",
              "    .dataframe tbody tr th:only-of-type {\n",
              "        vertical-align: middle;\n",
              "    }\n",
              "\n",
              "    .dataframe tbody tr th {\n",
              "        vertical-align: top;\n",
              "    }\n",
              "\n",
              "    .dataframe thead tr th {\n",
              "        text-align: left;\n",
              "    }\n",
              "\n",
              "    .dataframe thead tr:last-of-type th {\n",
              "        text-align: right;\n",
              "    }\n",
              "</style>\n",
              "<table border=\"1\" class=\"dataframe\">\n",
              "  <thead>\n",
              "    <tr>\n",
              "      <th>Price</th>\n",
              "      <th>Close</th>\n",
              "      <th>High</th>\n",
              "      <th>Low</th>\n",
              "      <th>Open</th>\n",
              "      <th>Volume</th>\n",
              "    </tr>\n",
              "    <tr>\n",
              "      <th>Ticker</th>\n",
              "      <th>NVDA</th>\n",
              "      <th>NVDA</th>\n",
              "      <th>NVDA</th>\n",
              "      <th>NVDA</th>\n",
              "      <th>NVDA</th>\n",
              "    </tr>\n",
              "    <tr>\n",
              "      <th>Date</th>\n",
              "      <th></th>\n",
              "      <th></th>\n",
              "      <th></th>\n",
              "      <th></th>\n",
              "      <th></th>\n",
              "    </tr>\n",
              "  </thead>\n",
              "  <tbody>\n",
              "    <tr>\n",
              "      <th>2024-01-02</th>\n",
              "      <td>48.146572</td>\n",
              "      <td>49.273070</td>\n",
              "      <td>47.573829</td>\n",
              "      <td>49.222094</td>\n",
              "      <td>411254000</td>\n",
              "    </tr>\n",
              "    <tr>\n",
              "      <th>2024-01-03</th>\n",
              "      <td>47.547840</td>\n",
              "      <td>48.162564</td>\n",
              "      <td>47.298950</td>\n",
              "      <td>47.463878</td>\n",
              "      <td>320896000</td>\n",
              "    </tr>\n",
              "    <tr>\n",
              "      <th>2024-01-04</th>\n",
              "      <td>47.976650</td>\n",
              "      <td>48.478426</td>\n",
              "      <td>47.486867</td>\n",
              "      <td>47.745750</td>\n",
              "      <td>306535000</td>\n",
              "    </tr>\n",
              "    <tr>\n",
              "      <th>2024-01-05</th>\n",
              "      <td>49.075157</td>\n",
              "      <td>49.524958</td>\n",
              "      <td>48.284509</td>\n",
              "      <td>48.440441</td>\n",
              "      <td>415039000</td>\n",
              "    </tr>\n",
              "    <tr>\n",
              "      <th>2024-01-08</th>\n",
              "      <td>52.229755</td>\n",
              "      <td>52.251749</td>\n",
              "      <td>49.456991</td>\n",
              "      <td>49.489977</td>\n",
              "      <td>642510000</td>\n",
              "    </tr>\n",
              "    <tr>\n",
              "      <th>...</th>\n",
              "      <td>...</td>\n",
              "      <td>...</td>\n",
              "      <td>...</td>\n",
              "      <td>...</td>\n",
              "      <td>...</td>\n",
              "    </tr>\n",
              "    <tr>\n",
              "      <th>2024-12-24</th>\n",
              "      <td>140.197372</td>\n",
              "      <td>141.877094</td>\n",
              "      <td>138.627618</td>\n",
              "      <td>139.977407</td>\n",
              "      <td>105157000</td>\n",
              "    </tr>\n",
              "    <tr>\n",
              "      <th>2024-12-26</th>\n",
              "      <td>139.907410</td>\n",
              "      <td>140.827275</td>\n",
              "      <td>137.707768</td>\n",
              "      <td>139.677451</td>\n",
              "      <td>116205600</td>\n",
              "    </tr>\n",
              "    <tr>\n",
              "      <th>2024-12-27</th>\n",
              "      <td>136.987869</td>\n",
              "      <td>138.997554</td>\n",
              "      <td>134.688253</td>\n",
              "      <td>138.527629</td>\n",
              "      <td>170582600</td>\n",
              "    </tr>\n",
              "    <tr>\n",
              "      <th>2024-12-30</th>\n",
              "      <td>137.467804</td>\n",
              "      <td>140.247354</td>\n",
              "      <td>133.998363</td>\n",
              "      <td>134.808230</td>\n",
              "      <td>167734700</td>\n",
              "    </tr>\n",
              "    <tr>\n",
              "      <th>2024-12-31</th>\n",
              "      <td>134.268326</td>\n",
              "      <td>138.047730</td>\n",
              "      <td>133.808409</td>\n",
              "      <td>138.007728</td>\n",
              "      <td>155659200</td>\n",
              "    </tr>\n",
              "  </tbody>\n",
              "</table>\n",
              "<p>252 rows × 5 columns</p>\n",
              "</div>\n",
              "    <div class=\"colab-df-buttons\">\n",
              "\n",
              "  <div class=\"colab-df-container\">\n",
              "    <button class=\"colab-df-convert\" onclick=\"convertToInteractive('df-57d41a78-257c-41b4-a309-a44cd4ccd4d5')\"\n",
              "            title=\"Convert this dataframe to an interactive table.\"\n",
              "            style=\"display:none;\">\n",
              "\n",
              "  <svg xmlns=\"http://www.w3.org/2000/svg\" height=\"24px\" viewBox=\"0 -960 960 960\">\n",
              "    <path d=\"M120-120v-720h720v720H120Zm60-500h600v-160H180v160Zm220 220h160v-160H400v160Zm0 220h160v-160H400v160ZM180-400h160v-160H180v160Zm440 0h160v-160H620v160ZM180-180h160v-160H180v160Zm440 0h160v-160H620v160Z\"/>\n",
              "  </svg>\n",
              "    </button>\n",
              "\n",
              "  <style>\n",
              "    .colab-df-container {\n",
              "      display:flex;\n",
              "      gap: 12px;\n",
              "    }\n",
              "\n",
              "    .colab-df-convert {\n",
              "      background-color: #E8F0FE;\n",
              "      border: none;\n",
              "      border-radius: 50%;\n",
              "      cursor: pointer;\n",
              "      display: none;\n",
              "      fill: #1967D2;\n",
              "      height: 32px;\n",
              "      padding: 0 0 0 0;\n",
              "      width: 32px;\n",
              "    }\n",
              "\n",
              "    .colab-df-convert:hover {\n",
              "      background-color: #E2EBFA;\n",
              "      box-shadow: 0px 1px 2px rgba(60, 64, 67, 0.3), 0px 1px 3px 1px rgba(60, 64, 67, 0.15);\n",
              "      fill: #174EA6;\n",
              "    }\n",
              "\n",
              "    .colab-df-buttons div {\n",
              "      margin-bottom: 4px;\n",
              "    }\n",
              "\n",
              "    [theme=dark] .colab-df-convert {\n",
              "      background-color: #3B4455;\n",
              "      fill: #D2E3FC;\n",
              "    }\n",
              "\n",
              "    [theme=dark] .colab-df-convert:hover {\n",
              "      background-color: #434B5C;\n",
              "      box-shadow: 0px 1px 3px 1px rgba(0, 0, 0, 0.15);\n",
              "      filter: drop-shadow(0px 1px 2px rgba(0, 0, 0, 0.3));\n",
              "      fill: #FFFFFF;\n",
              "    }\n",
              "  </style>\n",
              "\n",
              "    <script>\n",
              "      const buttonEl =\n",
              "        document.querySelector('#df-57d41a78-257c-41b4-a309-a44cd4ccd4d5 button.colab-df-convert');\n",
              "      buttonEl.style.display =\n",
              "        google.colab.kernel.accessAllowed ? 'block' : 'none';\n",
              "\n",
              "      async function convertToInteractive(key) {\n",
              "        const element = document.querySelector('#df-57d41a78-257c-41b4-a309-a44cd4ccd4d5');\n",
              "        const dataTable =\n",
              "          await google.colab.kernel.invokeFunction('convertToInteractive',\n",
              "                                                    [key], {});\n",
              "        if (!dataTable) return;\n",
              "\n",
              "        const docLinkHtml = 'Like what you see? Visit the ' +\n",
              "          '<a target=\"_blank\" href=https://colab.research.google.com/notebooks/data_table.ipynb>data table notebook</a>'\n",
              "          + ' to learn more about interactive tables.';\n",
              "        element.innerHTML = '';\n",
              "        dataTable['output_type'] = 'display_data';\n",
              "        await google.colab.output.renderOutput(dataTable, element);\n",
              "        const docLink = document.createElement('div');\n",
              "        docLink.innerHTML = docLinkHtml;\n",
              "        element.appendChild(docLink);\n",
              "      }\n",
              "    </script>\n",
              "  </div>\n",
              "\n",
              "\n",
              "    <div id=\"df-97dfd515-4018-4755-8103-e7ad2df473b8\">\n",
              "      <button class=\"colab-df-quickchart\" onclick=\"quickchart('df-97dfd515-4018-4755-8103-e7ad2df473b8')\"\n",
              "                title=\"Suggest charts\"\n",
              "                style=\"display:none;\">\n",
              "\n",
              "<svg xmlns=\"http://www.w3.org/2000/svg\" height=\"24px\"viewBox=\"0 0 24 24\"\n",
              "     width=\"24px\">\n",
              "    <g>\n",
              "        <path d=\"M19 3H5c-1.1 0-2 .9-2 2v14c0 1.1.9 2 2 2h14c1.1 0 2-.9 2-2V5c0-1.1-.9-2-2-2zM9 17H7v-7h2v7zm4 0h-2V7h2v10zm4 0h-2v-4h2v4z\"/>\n",
              "    </g>\n",
              "</svg>\n",
              "      </button>\n",
              "\n",
              "<style>\n",
              "  .colab-df-quickchart {\n",
              "      --bg-color: #E8F0FE;\n",
              "      --fill-color: #1967D2;\n",
              "      --hover-bg-color: #E2EBFA;\n",
              "      --hover-fill-color: #174EA6;\n",
              "      --disabled-fill-color: #AAA;\n",
              "      --disabled-bg-color: #DDD;\n",
              "  }\n",
              "\n",
              "  [theme=dark] .colab-df-quickchart {\n",
              "      --bg-color: #3B4455;\n",
              "      --fill-color: #D2E3FC;\n",
              "      --hover-bg-color: #434B5C;\n",
              "      --hover-fill-color: #FFFFFF;\n",
              "      --disabled-bg-color: #3B4455;\n",
              "      --disabled-fill-color: #666;\n",
              "  }\n",
              "\n",
              "  .colab-df-quickchart {\n",
              "    background-color: var(--bg-color);\n",
              "    border: none;\n",
              "    border-radius: 50%;\n",
              "    cursor: pointer;\n",
              "    display: none;\n",
              "    fill: var(--fill-color);\n",
              "    height: 32px;\n",
              "    padding: 0;\n",
              "    width: 32px;\n",
              "  }\n",
              "\n",
              "  .colab-df-quickchart:hover {\n",
              "    background-color: var(--hover-bg-color);\n",
              "    box-shadow: 0 1px 2px rgba(60, 64, 67, 0.3), 0 1px 3px 1px rgba(60, 64, 67, 0.15);\n",
              "    fill: var(--button-hover-fill-color);\n",
              "  }\n",
              "\n",
              "  .colab-df-quickchart-complete:disabled,\n",
              "  .colab-df-quickchart-complete:disabled:hover {\n",
              "    background-color: var(--disabled-bg-color);\n",
              "    fill: var(--disabled-fill-color);\n",
              "    box-shadow: none;\n",
              "  }\n",
              "\n",
              "  .colab-df-spinner {\n",
              "    border: 2px solid var(--fill-color);\n",
              "    border-color: transparent;\n",
              "    border-bottom-color: var(--fill-color);\n",
              "    animation:\n",
              "      spin 1s steps(1) infinite;\n",
              "  }\n",
              "\n",
              "  @keyframes spin {\n",
              "    0% {\n",
              "      border-color: transparent;\n",
              "      border-bottom-color: var(--fill-color);\n",
              "      border-left-color: var(--fill-color);\n",
              "    }\n",
              "    20% {\n",
              "      border-color: transparent;\n",
              "      border-left-color: var(--fill-color);\n",
              "      border-top-color: var(--fill-color);\n",
              "    }\n",
              "    30% {\n",
              "      border-color: transparent;\n",
              "      border-left-color: var(--fill-color);\n",
              "      border-top-color: var(--fill-color);\n",
              "      border-right-color: var(--fill-color);\n",
              "    }\n",
              "    40% {\n",
              "      border-color: transparent;\n",
              "      border-right-color: var(--fill-color);\n",
              "      border-top-color: var(--fill-color);\n",
              "    }\n",
              "    60% {\n",
              "      border-color: transparent;\n",
              "      border-right-color: var(--fill-color);\n",
              "    }\n",
              "    80% {\n",
              "      border-color: transparent;\n",
              "      border-right-color: var(--fill-color);\n",
              "      border-bottom-color: var(--fill-color);\n",
              "    }\n",
              "    90% {\n",
              "      border-color: transparent;\n",
              "      border-bottom-color: var(--fill-color);\n",
              "    }\n",
              "  }\n",
              "</style>\n",
              "\n",
              "      <script>\n",
              "        async function quickchart(key) {\n",
              "          const quickchartButtonEl =\n",
              "            document.querySelector('#' + key + ' button');\n",
              "          quickchartButtonEl.disabled = true;  // To prevent multiple clicks.\n",
              "          quickchartButtonEl.classList.add('colab-df-spinner');\n",
              "          try {\n",
              "            const charts = await google.colab.kernel.invokeFunction(\n",
              "                'suggestCharts', [key], {});\n",
              "          } catch (error) {\n",
              "            console.error('Error during call to suggestCharts:', error);\n",
              "          }\n",
              "          quickchartButtonEl.classList.remove('colab-df-spinner');\n",
              "          quickchartButtonEl.classList.add('colab-df-quickchart-complete');\n",
              "        }\n",
              "        (() => {\n",
              "          let quickchartButtonEl =\n",
              "            document.querySelector('#df-97dfd515-4018-4755-8103-e7ad2df473b8 button');\n",
              "          quickchartButtonEl.style.display =\n",
              "            google.colab.kernel.accessAllowed ? 'block' : 'none';\n",
              "        })();\n",
              "      </script>\n",
              "    </div>\n",
              "\n",
              "  <div id=\"id_12ff7ea4-44a7-4b4f-8816-3f9489628577\">\n",
              "    <style>\n",
              "      .colab-df-generate {\n",
              "        background-color: #E8F0FE;\n",
              "        border: none;\n",
              "        border-radius: 50%;\n",
              "        cursor: pointer;\n",
              "        display: none;\n",
              "        fill: #1967D2;\n",
              "        height: 32px;\n",
              "        padding: 0 0 0 0;\n",
              "        width: 32px;\n",
              "      }\n",
              "\n",
              "      .colab-df-generate:hover {\n",
              "        background-color: #E2EBFA;\n",
              "        box-shadow: 0px 1px 2px rgba(60, 64, 67, 0.3), 0px 1px 3px 1px rgba(60, 64, 67, 0.15);\n",
              "        fill: #174EA6;\n",
              "      }\n",
              "\n",
              "      [theme=dark] .colab-df-generate {\n",
              "        background-color: #3B4455;\n",
              "        fill: #D2E3FC;\n",
              "      }\n",
              "\n",
              "      [theme=dark] .colab-df-generate:hover {\n",
              "        background-color: #434B5C;\n",
              "        box-shadow: 0px 1px 3px 1px rgba(0, 0, 0, 0.15);\n",
              "        filter: drop-shadow(0px 1px 2px rgba(0, 0, 0, 0.3));\n",
              "        fill: #FFFFFF;\n",
              "      }\n",
              "    </style>\n",
              "    <button class=\"colab-df-generate\" onclick=\"generateWithVariable('prices')\"\n",
              "            title=\"Generate code using this dataframe.\"\n",
              "            style=\"display:none;\">\n",
              "\n",
              "  <svg xmlns=\"http://www.w3.org/2000/svg\" height=\"24px\"viewBox=\"0 0 24 24\"\n",
              "       width=\"24px\">\n",
              "    <path d=\"M7,19H8.4L18.45,9,17,7.55,7,17.6ZM5,21V16.75L18.45,3.32a2,2,0,0,1,2.83,0l1.4,1.43a1.91,1.91,0,0,1,.58,1.4,1.91,1.91,0,0,1-.58,1.4L9.25,21ZM18.45,9,17,7.55Zm-12,3A5.31,5.31,0,0,0,4.9,8.1,5.31,5.31,0,0,0,1,6.5,5.31,5.31,0,0,0,4.9,4.9,5.31,5.31,0,0,0,6.5,1,5.31,5.31,0,0,0,8.1,4.9,5.31,5.31,0,0,0,12,6.5,5.46,5.46,0,0,0,6.5,12Z\"/>\n",
              "  </svg>\n",
              "    </button>\n",
              "    <script>\n",
              "      (() => {\n",
              "      const buttonEl =\n",
              "        document.querySelector('#id_12ff7ea4-44a7-4b4f-8816-3f9489628577 button.colab-df-generate');\n",
              "      buttonEl.style.display =\n",
              "        google.colab.kernel.accessAllowed ? 'block' : 'none';\n",
              "\n",
              "      buttonEl.onclick = () => {\n",
              "        google.colab.notebook.generateWithVariable('prices');\n",
              "      }\n",
              "      })();\n",
              "    </script>\n",
              "  </div>\n",
              "\n",
              "    </div>\n",
              "  </div>\n"
            ],
            "application/vnd.google.colaboratory.intrinsic+json": {
              "type": "dataframe",
              "variable_name": "prices",
              "summary": "{\n  \"name\": \"prices\",\n  \"rows\": 252,\n  \"fields\": [\n    {\n      \"column\": [\n        \"Date\",\n        \"\"\n      ],\n      \"properties\": {\n        \"dtype\": \"date\",\n        \"min\": \"2024-01-02 00:00:00\",\n        \"max\": \"2024-12-31 00:00:00\",\n        \"num_unique_values\": 252,\n        \"samples\": [\n          \"2024-08-28 00:00:00\",\n          \"2024-01-10 00:00:00\",\n          \"2024-06-11 00:00:00\"\n        ],\n        \"semantic_type\": \"\",\n        \"description\": \"\"\n      }\n    },\n    {\n      \"column\": [\n        \"Close\",\n        \"NVDA\"\n      ],\n      \"properties\": {\n        \"dtype\": \"number\",\n        \"std\": 26.95636928458967,\n        \"min\": 47.5478401184082,\n        \"max\": 148.84571838378906,\n        \"num_unique_values\": 251,\n        \"samples\": [\n          122.82120513916016,\n          54.32582473754883,\n          125.5703353881836\n        ],\n        \"semantic_type\": \"\",\n        \"description\": \"\"\n      }\n    },\n    {\n      \"column\": [\n        \"High\",\n        \"NVDA\"\n      ],\n      \"properties\": {\n        \"dtype\": \"number\",\n        \"std\": 27.436685777451316,\n        \"min\": 48.16256441258292,\n        \"max\": 152.85479966423284,\n        \"num_unique_values\": 252,\n        \"samples\": [\n          128.28947768481862,\n          54.57571354280526,\n          122.8311986310285\n        ],\n        \"semantic_type\": \"\",\n        \"description\": \"\"\n      }\n    },\n    {\n      \"column\": [\n        \"Low\",\n        \"NVDA\"\n      ],\n      \"properties\": {\n        \"dtype\": \"number\",\n        \"std\": 26.574801767869246,\n        \"min\": 47.29895033204464,\n        \"max\": 146.226298296804,\n        \"num_unique_values\": 252,\n        \"samples\": [\n          122.60127203673997,\n          53.465207631237654,\n          118.7024980632085\n        ],\n        \"semantic_type\": \"\",\n        \"description\": \"\"\n      }\n    },\n    {\n      \"column\": [\n        \"Open\",\n        \"NVDA\"\n      ],\n      \"properties\": {\n        \"dtype\": \"number\",\n        \"std\": 27.14436152946877,\n        \"min\": 47.46387785018922,\n        \"max\": 149.3156213875326,\n        \"num_unique_values\": 252,\n        \"samples\": [\n          128.07953728703234,\n          53.59215385916433,\n          121.73153992527472\n        ],\n        \"semantic_type\": \"\",\n        \"description\": \"\"\n      }\n    },\n    {\n      \"column\": [\n        \"Volume\",\n        \"NVDA\"\n      ],\n      \"properties\": {\n        \"dtype\": \"number\",\n        \"std\": 161688458,\n        \"min\": 105157000,\n        \"max\": 1142269000,\n        \"num_unique_values\": 252,\n        \"samples\": [\n          448101100,\n          533796000,\n          222551200\n        ],\n        \"semantic_type\": \"\",\n        \"description\": \"\"\n      }\n    }\n  ]\n}"
            }
          },
          "metadata": {},
          "execution_count": 7
        }
      ]
    },
    {
      "cell_type": "markdown",
      "source": [
        "# Step 2: Create the DuckDB Database"
      ],
      "metadata": {
        "id": "x7bYj_tfMEj9"
      }
    },
    {
      "cell_type": "code",
      "source": [
        "con = duckdb.connect(\"stocks.db\")"
      ],
      "metadata": {
        "id": "6YPcaIULL_rT"
      },
      "execution_count": 8,
      "outputs": []
    },
    {
      "cell_type": "code",
      "source": [
        "con.execute(\"\"\"\n",
        "    CREATE TABLE IF NOT EXISTS stocks AS SELECT * FROM df\n",
        "\"\"\")"
      ],
      "metadata": {
        "colab": {
          "base_uri": "https://localhost:8080/"
        },
        "id": "gJUUDHiEMHmg",
        "outputId": "0ca521ff-7358-489c-ef28-08bd631630cb"
      },
      "execution_count": 9,
      "outputs": [
        {
          "output_type": "execute_result",
          "data": {
            "text/plain": [
              "<duckdb.duckdb.DuckDBPyConnection at 0x7d4116a7b870>"
            ]
          },
          "metadata": {},
          "execution_count": 9
        }
      ]
    },
    {
      "cell_type": "code",
      "source": [
        "row_count = con.execute(\"SELECT COUNT(*) FROM stocks\").fetchone()\n",
        "print(f\"Rows in table: {row_count[0]}\")"
      ],
      "metadata": {
        "colab": {
          "base_uri": "https://localhost:8080/"
        },
        "id": "jwNUyUOTMIJn",
        "outputId": "c05f9390-a778-428a-b9f4-d171e8cca92f"
      },
      "execution_count": 10,
      "outputs": [
        {
          "output_type": "stream",
          "name": "stdout",
          "text": [
            "Rows in table: 252\n"
          ]
        }
      ]
    },
    {
      "cell_type": "markdown",
      "source": [
        "# Step 3: Query Insights with SQL"
      ],
      "metadata": {
        "id": "u0vicLueMLIL"
      }
    },
    {
      "cell_type": "markdown",
      "source": [
        "## Average Closing Price"
      ],
      "metadata": {
        "id": "yKogPnr-MMV6"
      }
    },
    {
      "cell_type": "code",
      "source": [
        "avg_close = con.execute(f\"\"\"\n",
        "    SELECT symbol, ROUND(AVG(\"('Close', 'NVDA')\"), 2) AS avg_close\n",
        "    FROM stocks\n",
        "    GROUP BY symbol\n",
        "\"\"\").fetchdf()\n",
        "print(avg_close)"
      ],
      "metadata": {
        "colab": {
          "base_uri": "https://localhost:8080/"
        },
        "id": "UFfVB8RXMJ3Y",
        "outputId": "ef79a133-27b5-43cc-9427-2d7fcbd9962f"
      },
      "execution_count": 11,
      "outputs": [
        {
          "output_type": "stream",
          "name": "stdout",
          "text": [
            "  symbol  avg_close\n",
            "0   NVDA     107.79\n"
          ]
        }
      ]
    },
    {
      "cell_type": "markdown",
      "source": [
        "## Top 5 Volume Days\n"
      ],
      "metadata": {
        "id": "M-4d17n0MP07"
      }
    },
    {
      "cell_type": "code",
      "source": [
        "high_vol = con.execute(f\"\"\"\n",
        "    SELECT symbol, \"('Date', '')\", \"('Volume', 'NVDA')\", \"('Close', 'NVDA')\"\n",
        "    FROM stocks\n",
        "    ORDER BY \"('Volume', 'NVDA')\" DESC\n",
        "    LIMIT 5\n",
        "\"\"\").fetchdf()\n",
        "print(high_vol)"
      ],
      "metadata": {
        "colab": {
          "base_uri": "https://localhost:8080/"
        },
        "id": "l115xsEqMOk0",
        "outputId": "ce4b0807-e486-43a4-9c78-7172cbc67a55"
      },
      "execution_count": 12,
      "outputs": [
        {
          "output_type": "stream",
          "name": "stdout",
          "text": [
            "  symbol ('Date', '')  ('Volume', 'NVDA')  ('Close', 'NVDA')\n",
            "0   NVDA   2024-03-08          1142269000          87.493172\n",
            "1   NVDA   2024-04-19           875198000          76.169685\n",
            "2   NVDA   2024-02-22           865100000          78.503075\n",
            "3   NVDA   2024-05-23           835065000         103.757698\n",
            "4   NVDA   2024-02-23           829388000          78.781944\n"
          ]
        }
      ]
    },
    {
      "cell_type": "markdown",
      "source": [
        "## Rolling 20-Day VWAP"
      ],
      "metadata": {
        "id": "FT-ZONdTMVZa"
      }
    },
    {
      "cell_type": "code",
      "source": [
        "vwap_query = \"\"\"\n",
        "    WITH daily_vwap AS (\n",
        "        SELECT\n",
        "            \"('Date', '')\",\n",
        "            symbol,\n",
        "            SUM(\"('Volume', 'NVDA')\" * \"('Close', 'NVDA')\") / SUM(\"('Volume', 'NVDA')\") AS vwap\n",
        "        FROM stocks\n",
        "        GROUP BY \"('Date', '')\", symbol\n",
        "    ),\n",
        "    rolling_vwap AS (\n",
        "        SELECT\n",
        "            \"('Date', '')\",\n",
        "            symbol,\n",
        "            AVG(vwap) OVER (\n",
        "                PARTITION BY symbol\n",
        "                ORDER BY \"('Date', '')\"\n",
        "                ROWS BETWEEN 19 PRECEDING AND CURRENT ROW\n",
        "            ) AS rolling_20d_vwap\n",
        "        FROM daily_vwap\n",
        "    )\n",
        "    SELECT * FROM rolling_vwap\n",
        "    ORDER BY symbol, \"('Date', '')\";\n",
        "\"\"\""
      ],
      "metadata": {
        "id": "1WT3Tse5MTrh"
      },
      "execution_count": 13,
      "outputs": []
    },
    {
      "cell_type": "code",
      "source": [
        "vwap_df = pl.DataFrame(con.execute(vwap_query).fetchdf())\n",
        "vwap_df = vwap_df.rename({\n",
        "    \"('Date', '')\": \"Date\"\n",
        "})"
      ],
      "metadata": {
        "id": "2vfREXD9MYVu"
      },
      "execution_count": 14,
      "outputs": []
    },
    {
      "cell_type": "code",
      "source": [
        "vwap_df.to_pandas().plot(x=\"Date\", y=\"rolling_20d_vwap\", title=\"20-Day Rolling VWAP for NVDA\")\n",
        "plt.show()"
      ],
      "metadata": {
        "colab": {
          "base_uri": "https://localhost:8080/",
          "height": 455
        },
        "id": "62XZchxLMYpc",
        "outputId": "6fa5c4d5-eb05-497c-ae39-9e171f744624"
      },
      "execution_count": 15,
      "outputs": [
        {
          "output_type": "display_data",
          "data": {
            "text/plain": [
              "<Figure size 640x480 with 1 Axes>"
            ],
            "image/png": "[encoded data removed]"
          },
          "metadata": {}
        }
      ]
    },
    {
      "cell_type": "markdown",
      "source": [
        "# Step 4: Expand the Database\n"
      ],
      "metadata": {
        "id": "jYTJwVzLMbVr"
      }
    },
    {
      "cell_type": "code",
      "source": [
        "symbols = [\"NVDA\", \"AAPL\", \"TSLA\"]\n",
        "\n",
        "for sym in symbols:\n",
        "    prices = yf.download(sym, start=\"2024-01-01\", end=\"2025-01-01\")\n",
        "    df = pl.from_pandas(prices.reset_index()).with_columns(pl.lit(sym).alias(\"symbol\"))\n",
        "    con.execute(\"INSERT INTO stocks SELECT * FROM df\")"
      ],
      "metadata": {
        "colab": {
          "base_uri": "https://localhost:8080/"
        },
        "id": "TIfZNCydMaCI",
        "outputId": "4bb41f9f-3ec6-4dea-ed15-ce20f2b9654e"
      },
      "execution_count": 16,
      "outputs": [
        {
          "output_type": "stream",
          "name": "stderr",
          "text": [
            "/tmp/ipython-input-3401909990.py:4: FutureWarning: YF.download() has changed argument auto_adjust default to True\n",
            "  prices = yf.download(sym, start=\"2024-01-01\", end=\"2025-01-01\")\n",
            "\r[*********************100%***********************]  1 of 1 completed\n",
            "/tmp/ipython-input-3401909990.py:4: FutureWarning: YF.download() has changed argument auto_adjust default to True\n",
            "  prices = yf.download(sym, start=\"2024-01-01\", end=\"2025-01-01\")\n",
            "[*********************100%***********************]  1 of 1 completed\n",
            "/tmp/ipython-input-3401909990.py:4: FutureWarning: YF.download() has changed argument auto_adjust default to True\n",
            "  prices = yf.download(sym, start=\"2024-01-01\", end=\"2025-01-01\")\n",
            "[*********************100%***********************]  1 of 1 completed\n"
          ]
        }
      ]
    }
  ]
}