{
  "nbformat": 4,
  "nbformat_minor": 0,
  "metadata": {
    "colab": {
      "provenance": [],
      "authorship_tag": "ABX9TyMuY6ixhUn4te9LO1RyKM2e"
    },
    "kernelspec": {
      "name": "python3",
      "display_name": "Python 3"
    },
    "language_info": {
      "name": "python"
    }
  },
  "cells": [
    {
      "cell_type": "markdown",
      "source": [
        "[Reference](https://medium.com/@tubelwj/explore-the-speed-of-duckdb-with-hundred-million-row-csv-files-9fd64d4e4105)"
      ],
      "metadata": {
        "id": "3QiObJw9g0QY"
      }
    },
    {
      "cell_type": "code",
      "source": [
        "!pip install faker"
      ],
      "metadata": {
        "colab": {
          "base_uri": "https://localhost:8080/"
        },
        "id": "7Of8j-E2g7r8",
        "outputId": "0c7951df-5c5a-4aae-cb19-3eec5a0ae0a4"
      },
      "execution_count": 2,
      "outputs": [
        {
          "output_type": "stream",
          "name": "stdout",
          "text": [
            "Collecting faker\n",
            "  Downloading Faker-26.1.0-py3-none-any.whl.metadata (15 kB)\n",
            "Requirement already satisfied: python-dateutil>=2.4 in /usr/local/lib/python3.10/dist-packages (from faker) (2.8.2)\n",
            "Requirement already satisfied: six>=1.5 in /usr/local/lib/python3.10/dist-packages (from python-dateutil>=2.4->faker) (1.16.0)\n",
            "Downloading Faker-26.1.0-py3-none-any.whl (1.8 MB)\n",
            "\u001b[2K   \u001b[90m━━━━━━━━━━━━━━━━━━━━━━━━━━━━━━━━━━━━━━━━\u001b[0m \u001b[32m1.8/1.8 MB\u001b[0m \u001b[31m15.5 MB/s\u001b[0m eta \u001b[36m0:00:00\u001b[0m\n",
            "\u001b[?25hInstalling collected packages: faker\n",
            "Successfully installed faker-26.1.0\n"
          ]
        }
      ]
    },
    {
      "cell_type": "code",
      "execution_count": 4,
      "metadata": {
        "colab": {
          "base_uri": "https://localhost:8080/"
        },
        "id": "nnn6cXvxgyg7",
        "outputId": "a24a76ac-10f8-41fd-c40c-bf53eed35e61"
      },
      "outputs": [
        {
          "output_type": "stream",
          "name": "stdout",
          "text": [
            "Generated 1000 records and saved to CSV files.\n"
          ]
        },
        {
          "output_type": "stream",
          "name": "stderr",
          "text": [
            "/usr/local/lib/python3.10/dist-packages/numpy/core/fromnumeric.py:59: FutureWarning: 'DataFrame.swapaxes' is deprecated and will be removed in a future version. Please use 'DataFrame.transpose' instead.\n",
            "  return bound(*args, **kwds)\n"
          ]
        }
      ],
      "source": [
        "import pandas as pd\n",
        "from faker import Faker\n",
        "import numpy as np\n",
        "import random\n",
        "\n",
        "# Initialize Faker\n",
        "fake = Faker()\n",
        "\n",
        "# Define a function to generate data\n",
        "def generate_data(n):\n",
        "    unique_cities_list = [fake.city() for _ in range(1000)]  # Directly call the city() method\n",
        "    data = {\n",
        "        'city': [fake.random_element(elements=unique_cities_list) for _ in range(n)],\n",
        "        'low_temp': [fake.random_int(min=-50, max=50) for _ in range(n)],  # Assume temperature range is -50 to 50 degrees Celsius\n",
        "        'high_temp': [fake.random_int(min=-50, max=50) for _ in range(n)],\n",
        "        'precipitation': [round(random.uniform(0, 100), 2) for _ in range(n)],  # Assume precipitation range is 0 to 100 mm\n",
        "        'humidity': [round(random.uniform(0, 100), 2) for _ in range(n)],  # Assume humidity range is 0% to 100%\n",
        "        'pressure': [fake.random_int(min=950, max=1050) for _ in range(n)]  # Assume pressure range is 950 to 1050 hPa\n",
        "    }\n",
        "    return pd.DataFrame(data)\n",
        "\n",
        "# Generate 100 million records\n",
        "n = 1000\n",
        "df = generate_data(n)\n",
        "\n",
        "# Due to the large amount of data, we choose to write the data to files\n",
        "# Writing to CSV files, using chunked writing to avoid running out of memory\n",
        "chunksize = 1000  # Define the size of each data chunk\n",
        "for i, chunk in enumerate(np.array_split(df, n // chunksize)):\n",
        "    chunk.to_csv(f'weather_data_part_{i}.csv', index=False)\n",
        "\n",
        "print(f'Generated {n} records and saved to CSV files.')"
      ]
    },
    {
      "cell_type": "code",
      "source": [
        "import duckdb\n",
        "from datetime import datetime\n",
        "\n",
        "start_time = datetime.now()  # recording the start time\n",
        "data = duckdb.read_csv(\"./weather_data_part_0.csv\")\n",
        "print(duckdb.sql(\"select count(*) from data\"))\n",
        "end_time = datetime.now()  # recording the end time\n",
        "execution_time = (end_time - start_time).total_seconds()\n",
        "print(f\"Execution time: {execution_time} seconds\")"
      ],
      "metadata": {
        "colab": {
          "base_uri": "https://localhost:8080/"
        },
        "id": "2xP92GEQg3SF",
        "outputId": "5598e4c2-0f6b-47ff-f947-49aea0b2c2e6"
      },
      "execution_count": 9,
      "outputs": [
        {
          "output_type": "stream",
          "name": "stdout",
          "text": [
            "┌──────────────┐\n",
            "│ count_star() │\n",
            "│    int64     │\n",
            "├──────────────┤\n",
            "│         1000 │\n",
            "└──────────────┘\n",
            "\n",
            "Execution time: 0.02348 seconds\n"
          ]
        }
      ]
    },
    {
      "cell_type": "code",
      "source": [
        "print(duckdb.sql(\"select city, count(low_temp), count(high_temp) from data group by city limit 10;\"))"
      ],
      "metadata": {
        "colab": {
          "base_uri": "https://localhost:8080/"
        },
        "id": "J4-8QyeYg84Y",
        "outputId": "9fa779e8-6b6b-426f-e5b2-785313385695"
      },
      "execution_count": 10,
      "outputs": [
        {
          "output_type": "stream",
          "name": "stdout",
          "text": [
            "┌─────────────────┬─────────────────┬──────────────────┐\n",
            "│      city       │ count(low_temp) │ count(high_temp) │\n",
            "│     varchar     │      int64      │      int64       │\n",
            "├─────────────────┼─────────────────┼──────────────────┤\n",
            "│ New Williambury │               2 │                2 │\n",
            "│ Dyerview        │               2 │                2 │\n",
            "│ Pamelaville     │               4 │                4 │\n",
            "│ North Gary      │               2 │                2 │\n",
            "│ Katherinemouth  │               1 │                1 │\n",
            "│ Diazland        │               2 │                2 │\n",
            "│ Port Johntown   │               3 │                3 │\n",
            "│ Reginaberg      │               3 │                3 │\n",
            "│ Jamesland       │               1 │                1 │\n",
            "│ Lake Trevorton  │               1 │                1 │\n",
            "├─────────────────┴─────────────────┴──────────────────┤\n",
            "│ 10 rows                                    3 columns │\n",
            "└──────────────────────────────────────────────────────┘\n",
            "\n"
          ]
        }
      ]
    },
    {
      "cell_type": "code",
      "source": [
        "print(duckdb.sql(\"create table city_weather as select * from 'my_folder/*.csv';\"))\n",
        "print(duckdb.sql(\"select * from city_weather limit 10;\"))"
      ],
      "metadata": {
        "colab": {
          "base_uri": "https://localhost:8080/",
          "height": 275
        },
        "id": "BZijMzDsg-T-",
        "outputId": "90d6781e-3c39-46ac-8fc7-0e92d9b356df"
      },
      "execution_count": 11,
      "outputs": [
        {
          "output_type": "error",
          "ename": "IOException",
          "evalue": "IO Error: No files found that match the pattern \"my_folder/*.csv\"",
          "traceback": [
            "\u001b[0;31m---------------------------------------------------------------------------\u001b[0m",
            "\u001b[0;31mIOException\u001b[0m                               Traceback (most recent call last)",
            "\u001b[0;32m<ipython-input-11-62d7aca66fa6>\u001b[0m in \u001b[0;36m<cell line: 1>\u001b[0;34m()\u001b[0m\n\u001b[0;32m----> 1\u001b[0;31m \u001b[0mprint\u001b[0m\u001b[0;34m(\u001b[0m\u001b[0mduckdb\u001b[0m\u001b[0;34m.\u001b[0m\u001b[0msql\u001b[0m\u001b[0;34m(\u001b[0m\u001b[0;34m\"create table city_weather as select * from 'my_folder/*.csv';\"\u001b[0m\u001b[0;34m)\u001b[0m\u001b[0;34m)\u001b[0m\u001b[0;34m\u001b[0m\u001b[0;34m\u001b[0m\u001b[0m\n\u001b[0m\u001b[1;32m      2\u001b[0m \u001b[0mprint\u001b[0m\u001b[0;34m(\u001b[0m\u001b[0mduckdb\u001b[0m\u001b[0;34m.\u001b[0m\u001b[0msql\u001b[0m\u001b[0;34m(\u001b[0m\u001b[0;34m\"select * from city_weather limit 10;\"\u001b[0m\u001b[0;34m)\u001b[0m\u001b[0;34m)\u001b[0m\u001b[0;34m\u001b[0m\u001b[0;34m\u001b[0m\u001b[0m\n",
            "\u001b[0;32m/usr/local/lib/python3.10/dist-packages/duckdb/__init__.py\u001b[0m in \u001b[0;36msql\u001b[0;34m(query, **kwargs)\u001b[0m\n\u001b[1;32m    455\u001b[0m     \u001b[0;32melse\u001b[0m\u001b[0;34m:\u001b[0m\u001b[0;34m\u001b[0m\u001b[0;34m\u001b[0m\u001b[0m\n\u001b[1;32m    456\u001b[0m         \u001b[0mconn\u001b[0m \u001b[0;34m=\u001b[0m \u001b[0mduckdb\u001b[0m\u001b[0;34m.\u001b[0m\u001b[0mconnect\u001b[0m\u001b[0;34m(\u001b[0m\u001b[0;34m\":default:\"\u001b[0m\u001b[0;34m)\u001b[0m\u001b[0;34m\u001b[0m\u001b[0;34m\u001b[0m\u001b[0m\n\u001b[0;32m--> 457\u001b[0;31m     \u001b[0;32mreturn\u001b[0m \u001b[0mconn\u001b[0m\u001b[0;34m.\u001b[0m\u001b[0msql\u001b[0m\u001b[0;34m(\u001b[0m\u001b[0mquery\u001b[0m\u001b[0;34m,\u001b[0m \u001b[0;34m**\u001b[0m\u001b[0mkwargs\u001b[0m\u001b[0;34m)\u001b[0m\u001b[0;34m\u001b[0m\u001b[0;34m\u001b[0m\u001b[0m\n\u001b[0m\u001b[1;32m    458\u001b[0m \u001b[0m_exported_symbols\u001b[0m\u001b[0;34m.\u001b[0m\u001b[0mappend\u001b[0m\u001b[0;34m(\u001b[0m\u001b[0;34m'sql'\u001b[0m\u001b[0;34m)\u001b[0m\u001b[0;34m\u001b[0m\u001b[0;34m\u001b[0m\u001b[0m\n\u001b[1;32m    459\u001b[0m \u001b[0;34m\u001b[0m\u001b[0m\n",
            "\u001b[0;31mIOException\u001b[0m: IO Error: No files found that match the pattern \"my_folder/*.csv\""
          ]
        }
      ]
    },
    {
      "cell_type": "code",
      "source": [
        "duckdb.sql(\"create table city_weather as select * from 'weather_data_part_0.csv';\")\n",
        "duckdb.sql(\"copy city_weather to  'city_weather.csv' with(header);\")"
      ],
      "metadata": {
        "id": "kfHTskYxg_cq"
      },
      "execution_count": 15,
      "outputs": []
    }
  ]
}