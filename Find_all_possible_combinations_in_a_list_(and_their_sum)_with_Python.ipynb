{
  "nbformat": 4,
  "nbformat_minor": 0,
  "metadata": {
    "colab": {
      "name": "Find all possible combinations in a list (and their sum) with Python.ipynb",
      "provenance": [],
      "authorship_tag": "ABX9TyMlupunjSToT775sk0B5JRo"
    },
    "kernelspec": {
      "name": "python3",
      "display_name": "Python 3"
    }
  },
  "cells": [
    {
      "cell_type": "markdown",
      "metadata": {
        "id": "yGdXjXnhKl_E"
      },
      "source": [
        "[Reference](https://medium.com/python-in-plain-english/how-to-find-all-possible-combinations-in-a-list-and-their-sum-using-python3-935f030448bb)"
      ]
    },
    {
      "cell_type": "code",
      "metadata": {
        "id": "gWEC5UasKjKL"
      },
      "source": [
        "from itertools import combinations"
      ],
      "execution_count": 1,
      "outputs": []
    },
    {
      "cell_type": "code",
      "metadata": {
        "id": "hn0dEBrzKoIC"
      },
      "source": [
        "def find_combos(arr):\n",
        "    combos = list(combinations(arr, 4))\n",
        "    print(combos)"
      ],
      "execution_count": 2,
      "outputs": []
    },
    {
      "cell_type": "code",
      "metadata": {
        "colab": {
          "base_uri": "https://localhost:8080/"
        },
        "id": "8HBv8TAWKpQV",
        "outputId": "9631e6ad-3cfd-443d-ad80-9be34726bfd7"
      },
      "source": [
        "arr = [1, 2, 3, 4, 5]\n",
        "find_combos(arr)"
      ],
      "execution_count": 3,
      "outputs": [
        {
          "output_type": "stream",
          "text": [
            "[(1, 2, 3, 4), (1, 2, 3, 5), (1, 2, 4, 5), (1, 3, 4, 5), (2, 3, 4, 5)]\n"
          ],
          "name": "stdout"
        }
      ]
    },
    {
      "cell_type": "code",
      "metadata": {
        "id": "6wSRuKWhKv5N"
      },
      "source": [
        "def find_combos(arr):\n",
        "    combos = list(combinations(arr, 4))\n",
        "    combo_sums = []\n",
        "    for combo in combos:\n",
        "        combo_sums.append(sum(combo))\n",
        "    print(min(combo_sums), max(combo_sums))"
      ],
      "execution_count": 6,
      "outputs": []
    },
    {
      "cell_type": "code",
      "metadata": {
        "colab": {
          "base_uri": "https://localhost:8080/"
        },
        "id": "2q4jJO3GKxGV",
        "outputId": "6a281357-7e4d-4f75-d11d-a70a109616c7"
      },
      "source": [
        "arr = [1, 2, 3, 4, 5]\n",
        "find_combos(arr)"
      ],
      "execution_count": 8,
      "outputs": [
        {
          "output_type": "stream",
          "text": [
            "10 14\n"
          ],
          "name": "stdout"
        }
      ]
    }
  ]
}