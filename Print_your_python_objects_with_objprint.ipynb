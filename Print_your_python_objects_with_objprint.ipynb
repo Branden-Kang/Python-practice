{
  "nbformat": 4,
  "nbformat_minor": 0,
  "metadata": {
    "colab": {
      "name": "Print your python objects with objprint.ipynb",
      "provenance": [],
      "authorship_tag": "ABX9TyObAxTu/o2L2Vcyo+utVRM4"
    },
    "kernelspec": {
      "name": "python3",
      "display_name": "Python 3"
    },
    "language_info": {
      "name": "python"
    }
  },
  "cells": [
    {
      "cell_type": "markdown",
      "metadata": {
        "id": "A01I9xdSbEox"
      },
      "source": [
        "[Reference](https://gaogaotiantian.medium.com/print-your-python-objects-with-objprint-b79da41ed96c)"
      ]
    },
    {
      "cell_type": "code",
      "metadata": {
        "id": "V2y_01ePbDKA"
      },
      "source": [
        "class Position:\n",
        "    def __init__(self, x, y):\n",
        "        self.x = x\n",
        "        self.y = y"
      ],
      "execution_count": 1,
      "outputs": []
    },
    {
      "cell_type": "code",
      "metadata": {
        "colab": {
          "base_uri": "https://localhost:8080/"
        },
        "id": "BmEqS5Zibc5e",
        "outputId": "d750c9bd-7147-4847-8655-2da338fbc51f"
      },
      "source": [
        "pip install objprint"
      ],
      "execution_count": 2,
      "outputs": [
        {
          "output_type": "stream",
          "text": [
            "Collecting objprint\n",
            "  Downloading https://files.pythonhosted.org/packages/7d/0d/fea44fb67942e22e3209f2816d01660ec495ca5b06d66db05c8ce2f948c7/objprint-0.0.3-py3-none-any.whl\n",
            "Installing collected packages: objprint\n",
            "Successfully installed objprint-0.0.3\n"
          ],
          "name": "stdout"
        }
      ]
    },
    {
      "cell_type": "code",
      "metadata": {
        "colab": {
          "base_uri": "https://localhost:8080/"
        },
        "id": "2amnOdcObetK",
        "outputId": "dcdc2e8b-6601-40e5-ed7e-6352d84962bc"
      },
      "source": [
        "from objprint import objprint\n",
        "\n",
        "class Position:\n",
        "    def __init__(self, x, y):\n",
        "        self.x = x\n",
        "        self.y = y\n",
        "        \n",
        "objprint(Position(1, 2))"
      ],
      "execution_count": 5,
      "outputs": [
        {
          "output_type": "stream",
          "text": [
            "<Position\n",
            "  .x = 1,\n",
            "  .y = 2\n",
            ">\n"
          ],
          "name": "stdout"
        }
      ]
    },
    {
      "cell_type": "code",
      "metadata": {
        "colab": {
          "base_uri": "https://localhost:8080/"
        },
        "id": "ZCVsEKBtbiIJ",
        "outputId": "9910f1c7-9051-4f49-83ad-ce630e812015"
      },
      "source": [
        "from objprint import objprint\n",
        "\n",
        "class Position:\n",
        "    def __init__(self, x, y):\n",
        "        self.x = x\n",
        "        self.y = y\n",
        "\n",
        "class Player:\n",
        "    def __init__(self):\n",
        "        self.name = \"Alice\"\n",
        "        self.age = 18\n",
        "        self.items = [\"axe\", \"armor\"]\n",
        "        self.coins = {\"gold\": 1, \"silver\": 33, \"bronze\": 57}\n",
        "        self.position = Position(3, 5)\n",
        "\n",
        "objprint(Player())"
      ],
      "execution_count": 6,
      "outputs": [
        {
          "output_type": "stream",
          "text": [
            "<Player\n",
            "  .age = 18,\n",
            "  .coins = {'bronze': 57, 'gold': 1, 'silver': 33},\n",
            "  .items = ['axe', 'armor'],\n",
            "  .name = 'Alice',\n",
            "  .position = <Position\n",
            "    .x = 3,\n",
            "    .y = 5\n",
            "  >\n",
            ">\n"
          ],
          "name": "stdout"
        }
      ]
    },
    {
      "cell_type": "code",
      "metadata": {
        "colab": {
          "base_uri": "https://localhost:8080/",
          "height": 266
        },
        "id": "icyar4vLbm1c",
        "outputId": "3f9637d8-745c-4100-a3e0-1b9d2bb38dbd"
      },
      "source": [
        "@add_objprint\n",
        "class Player:\n",
        "    def __init__(self):\n",
        "        self.name = \"Alice\"\n",
        "        self.age = 18\n",
        "        self.items = [\"axe\", \"armor\"]\n",
        "        self.coins = {\"gold\": 1, \"silver\": 33, \"bronze\": 57}\n",
        "        self.position = Position(3, 5)\n",
        "\n",
        "# This will print the same thing as above\n",
        "print(Player())"
      ],
      "execution_count": 7,
      "outputs": [
        {
          "output_type": "error",
          "ename": "NameError",
          "evalue": "ignored",
          "traceback": [
            "\u001b[0;31m---------------------------------------------------------------------------\u001b[0m",
            "\u001b[0;31mNameError\u001b[0m                                 Traceback (most recent call last)",
            "\u001b[0;32m<ipython-input-7-c116a224337f>\u001b[0m in \u001b[0;36m<module>\u001b[0;34m()\u001b[0m\n\u001b[0;32m----> 1\u001b[0;31m \u001b[0;34m@\u001b[0m\u001b[0madd_objprint\u001b[0m\u001b[0;34m\u001b[0m\u001b[0;34m\u001b[0m\u001b[0m\n\u001b[0m\u001b[1;32m      2\u001b[0m \u001b[0;32mclass\u001b[0m \u001b[0mPlayer\u001b[0m\u001b[0;34m:\u001b[0m\u001b[0;34m\u001b[0m\u001b[0;34m\u001b[0m\u001b[0m\n\u001b[1;32m      3\u001b[0m     \u001b[0;32mdef\u001b[0m \u001b[0m__init__\u001b[0m\u001b[0;34m(\u001b[0m\u001b[0mself\u001b[0m\u001b[0;34m)\u001b[0m\u001b[0;34m:\u001b[0m\u001b[0;34m\u001b[0m\u001b[0;34m\u001b[0m\u001b[0m\n\u001b[1;32m      4\u001b[0m         \u001b[0mself\u001b[0m\u001b[0;34m.\u001b[0m\u001b[0mname\u001b[0m \u001b[0;34m=\u001b[0m \u001b[0;34m\"Alice\"\u001b[0m\u001b[0;34m\u001b[0m\u001b[0;34m\u001b[0m\u001b[0m\n\u001b[1;32m      5\u001b[0m         \u001b[0mself\u001b[0m\u001b[0;34m.\u001b[0m\u001b[0mage\u001b[0m \u001b[0;34m=\u001b[0m \u001b[0;36m18\u001b[0m\u001b[0;34m\u001b[0m\u001b[0;34m\u001b[0m\u001b[0m\n",
            "\u001b[0;31mNameError\u001b[0m: name 'add_objprint' is not defined"
          ]
        }
      ]
    },
    {
      "cell_type": "code",
      "metadata": {
        "id": "2BjvIumNbpUY"
      },
      "source": [
        "from objprint import install\n",
        "\n",
        "# Now you can use objprint() in any file\n",
        "install()"
      ],
      "execution_count": 8,
      "outputs": []
    }
  ]
}