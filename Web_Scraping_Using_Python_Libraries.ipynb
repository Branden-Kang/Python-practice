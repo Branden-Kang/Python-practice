{
  "nbformat": 4,
  "nbformat_minor": 0,
  "metadata": {
    "colab": {
      "name": "Web Scraping Using Python Libraries.ipynb",
      "provenance": [],
      "authorship_tag": "ABX9TyMM5MA2cxLEXSBHnwcwBJlD"
    },
    "kernelspec": {
      "name": "python3",
      "display_name": "Python 3"
    }
  },
  "cells": [
    {
      "cell_type": "markdown",
      "metadata": {
        "id": "K5rXOSDJ4sQg",
        "colab_type": "text"
      },
      "source": [
        "[Reference](https://towardsdatascience.com/web-scraping-using-python-libraries-fe3037152ed1)"
      ]
    },
    {
      "cell_type": "code",
      "metadata": {
        "id": "PIidAkI24orP",
        "colab_type": "code",
        "colab": {}
      },
      "source": [
        "import requests\n",
        "from bs4 import BeautifulSoup"
      ],
      "execution_count": 2,
      "outputs": []
    },
    {
      "cell_type": "code",
      "metadata": {
        "id": "0p1mFYZuG0TJ",
        "colab_type": "code",
        "colab": {}
      },
      "source": [
        "url = 'https://www.ratemyprofessors.com/ShowRatings.jsp?tid=1986099'"
      ],
      "execution_count": 3,
      "outputs": []
    },
    {
      "cell_type": "code",
      "metadata": {
        "id": "cBNJO22WG8qM",
        "colab_type": "code",
        "colab": {
          "base_uri": "https://localhost:8080/",
          "height": 34
        },
        "outputId": "49fd7547-21b5-4acf-d5d1-585a4690578a"
      },
      "source": [
        "page = requests.get(url)\n",
        "page"
      ],
      "execution_count": 4,
      "outputs": [
        {
          "output_type": "execute_result",
          "data": {
            "text/plain": [
              "<Response [200]>"
            ]
          },
          "metadata": {
            "tags": []
          },
          "execution_count": 4
        }
      ]
    },
    {
      "cell_type": "code",
      "metadata": {
        "id": "0_53DFXzG_Tc",
        "colab_type": "code",
        "colab": {}
      },
      "source": [
        "soup = BeautifulSoup(page.text, \"html.parser\")"
      ],
      "execution_count": 5,
      "outputs": []
    },
    {
      "cell_type": "code",
      "metadata": {
        "id": "eHYeMkGcHCA2",
        "colab_type": "code",
        "colab": {
          "base_uri": "https://localhost:8080/",
          "height": 1000
        },
        "outputId": "4b366b16-6f80-4a21-f98a-2542c990ea1f"
      },
      "source": [
        "proftags = soup.findAll(\"span\", {\"class\": \"Tag-bs9vf4-0 jqEvsD\" })\n",
        "proftags"
      ],
      "execution_count": 7,
      "outputs": [
        {
          "output_type": "execute_result",
          "data": {
            "text/plain": [
              "[<span class=\"Tag-bs9vf4-0 jqEvsD\">Hilarious</span>,\n",
              " <span class=\"Tag-bs9vf4-0 jqEvsD\">Caring</span>,\n",
              " <span class=\"Tag-bs9vf4-0 jqEvsD\">Accessible outside class</span>,\n",
              " <span class=\"Tag-bs9vf4-0 jqEvsD\">Amazing lectures</span>,\n",
              " <span class=\"Tag-bs9vf4-0 jqEvsD\">Inspirational</span>,\n",
              " <span class=\"Tag-bs9vf4-0 jqEvsD\">Gives good feedback</span>,\n",
              " <span class=\"Tag-bs9vf4-0 jqEvsD\">Accessible outside class</span>,\n",
              " <span class=\"Tag-bs9vf4-0 jqEvsD\">Hilarious</span>,\n",
              " <span class=\"Tag-bs9vf4-0 jqEvsD\">Lots of homework</span>,\n",
              " <span class=\"Tag-bs9vf4-0 jqEvsD\">Graded by few things</span>,\n",
              " <span class=\"Tag-bs9vf4-0 jqEvsD\">So many papers</span>,\n",
              " <span class=\"Tag-bs9vf4-0 jqEvsD\">Inspirational</span>,\n",
              " <span class=\"Tag-bs9vf4-0 jqEvsD\">Amazing lectures</span>,\n",
              " <span class=\"Tag-bs9vf4-0 jqEvsD\">Caring</span>,\n",
              " <span class=\"Tag-bs9vf4-0 jqEvsD\">Accessible outside class</span>,\n",
              " <span class=\"Tag-bs9vf4-0 jqEvsD\">Graded by few things</span>,\n",
              " <span class=\"Tag-bs9vf4-0 jqEvsD\">Hilarious</span>,\n",
              " <span class=\"Tag-bs9vf4-0 jqEvsD\">Gives good feedback</span>,\n",
              " <span class=\"Tag-bs9vf4-0 jqEvsD\">Accessible outside class</span>,\n",
              " <span class=\"Tag-bs9vf4-0 jqEvsD\">Group projects</span>,\n",
              " <span class=\"Tag-bs9vf4-0 jqEvsD\">Accessible outside class</span>,\n",
              " <span class=\"Tag-bs9vf4-0 jqEvsD\">Hilarious</span>,\n",
              " <span class=\"Tag-bs9vf4-0 jqEvsD\">Amazing lectures</span>,\n",
              " <span class=\"Tag-bs9vf4-0 jqEvsD\">Test heavy</span>,\n",
              " <span class=\"Tag-bs9vf4-0 jqEvsD\">Lecture heavy</span>,\n",
              " <span class=\"Tag-bs9vf4-0 jqEvsD\">So many papers</span>,\n",
              " <span class=\"Tag-bs9vf4-0 jqEvsD\">ACCESSIBLE OUTSIDE CLASS</span>,\n",
              " <span class=\"Tag-bs9vf4-0 jqEvsD\">Hilarious</span>,\n",
              " <span class=\"Tag-bs9vf4-0 jqEvsD\">Caring</span>,\n",
              " <span class=\"Tag-bs9vf4-0 jqEvsD\">Participation matters</span>,\n",
              " <span class=\"Tag-bs9vf4-0 jqEvsD\">Hilarious</span>,\n",
              " <span class=\"Tag-bs9vf4-0 jqEvsD\">Caring</span>,\n",
              " <span class=\"Tag-bs9vf4-0 jqEvsD\">ACCESSIBLE OUTSIDE CLASS</span>,\n",
              " <span class=\"Tag-bs9vf4-0 jqEvsD\">Clear grading criteria</span>,\n",
              " <span class=\"Tag-bs9vf4-0 jqEvsD\">Hilarious</span>,\n",
              " <span class=\"Tag-bs9vf4-0 jqEvsD\">Gives good feedback</span>,\n",
              " <span class=\"Tag-bs9vf4-0 jqEvsD\">Clear grading criteria</span>,\n",
              " <span class=\"Tag-bs9vf4-0 jqEvsD\">Caring</span>,\n",
              " <span class=\"Tag-bs9vf4-0 jqEvsD\">Clear grading criteria</span>,\n",
              " <span class=\"Tag-bs9vf4-0 jqEvsD\">Hilarious</span>,\n",
              " <span class=\"Tag-bs9vf4-0 jqEvsD\">Amazing lectures</span>,\n",
              " <span class=\"Tag-bs9vf4-0 jqEvsD\">Inspirational</span>,\n",
              " <span class=\"Tag-bs9vf4-0 jqEvsD\">ACCESSIBLE OUTSIDE CLASS</span>,\n",
              " <span class=\"Tag-bs9vf4-0 jqEvsD\">Amazing lectures</span>,\n",
              " <span class=\"Tag-bs9vf4-0 jqEvsD\">Inspirational</span>,\n",
              " <span class=\"Tag-bs9vf4-0 jqEvsD\">Hilarious</span>,\n",
              " <span class=\"Tag-bs9vf4-0 jqEvsD\">EXTRA CREDIT</span>,\n",
              " <span class=\"Tag-bs9vf4-0 jqEvsD\">Inspirational</span>,\n",
              " <span class=\"Tag-bs9vf4-0 jqEvsD\">ACCESSIBLE OUTSIDE CLASS</span>,\n",
              " <span class=\"Tag-bs9vf4-0 jqEvsD\">Caring</span>,\n",
              " <span class=\"Tag-bs9vf4-0 jqEvsD\">ACCESSIBLE OUTSIDE CLASS</span>,\n",
              " <span class=\"Tag-bs9vf4-0 jqEvsD\">Tests? Not many</span>,\n",
              " <span class=\"Tag-bs9vf4-0 jqEvsD\">Caring</span>,\n",
              " <span class=\"Tag-bs9vf4-0 jqEvsD\">Hilarious</span>,\n",
              " <span class=\"Tag-bs9vf4-0 jqEvsD\">Caring</span>,\n",
              " <span class=\"Tag-bs9vf4-0 jqEvsD\">GROUP PROJECTS</span>,\n",
              " <span class=\"Tag-bs9vf4-0 jqEvsD\">ACCESSIBLE OUTSIDE CLASS</span>,\n",
              " <span class=\"Tag-bs9vf4-0 jqEvsD\">Clear grading criteria</span>,\n",
              " <span class=\"Tag-bs9vf4-0 jqEvsD\">Hilarious</span>]"
            ]
          },
          "metadata": {
            "tags": []
          },
          "execution_count": 7
        }
      ]
    },
    {
      "cell_type": "code",
      "metadata": {
        "id": "qSe0Piy2HH6x",
        "colab_type": "code",
        "colab": {
          "base_uri": "https://localhost:8080/",
          "height": 1000
        },
        "outputId": "afd0698e-8f73-445a-bdd6-833197e6ed21"
      },
      "source": [
        "for mytag in proftags:\n",
        "  print(mytag.get_text())"
      ],
      "execution_count": 8,
      "outputs": [
        {
          "output_type": "stream",
          "text": [
            "Hilarious\n",
            "Caring\n",
            "Accessible outside class\n",
            "Amazing lectures\n",
            "Inspirational\n",
            "Gives good feedback\n",
            "Accessible outside class\n",
            "Hilarious\n",
            "Lots of homework\n",
            "Graded by few things\n",
            "So many papers\n",
            "Inspirational\n",
            "Amazing lectures\n",
            "Caring\n",
            "Accessible outside class\n",
            "Graded by few things\n",
            "Hilarious\n",
            "Gives good feedback\n",
            "Accessible outside class\n",
            "Group projects\n",
            "Accessible outside class\n",
            "Hilarious\n",
            "Amazing lectures\n",
            "Test heavy\n",
            "Lecture heavy\n",
            "So many papers\n",
            "ACCESSIBLE OUTSIDE CLASS\n",
            "Hilarious\n",
            "Caring\n",
            "Participation matters\n",
            "Hilarious\n",
            "Caring\n",
            "ACCESSIBLE OUTSIDE CLASS\n",
            "Clear grading criteria\n",
            "Hilarious\n",
            "Gives good feedback\n",
            "Clear grading criteria\n",
            "Caring\n",
            "Clear grading criteria\n",
            "Hilarious\n",
            "Amazing lectures\n",
            "Inspirational\n",
            "ACCESSIBLE OUTSIDE CLASS\n",
            "Amazing lectures\n",
            "Inspirational\n",
            "Hilarious\n",
            "EXTRA CREDIT\n",
            "Inspirational\n",
            "ACCESSIBLE OUTSIDE CLASS\n",
            "Caring\n",
            "ACCESSIBLE OUTSIDE CLASS\n",
            "Tests? Not many\n",
            "Caring\n",
            "Hilarious\n",
            "Caring\n",
            "GROUP PROJECTS\n",
            "ACCESSIBLE OUTSIDE CLASS\n",
            "Clear grading criteria\n",
            "Hilarious\n"
          ],
          "name": "stdout"
        }
      ]
    }
  ]
}