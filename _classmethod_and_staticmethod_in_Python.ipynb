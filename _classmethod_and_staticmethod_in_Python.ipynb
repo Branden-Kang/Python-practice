{
  "nbformat": 4,
  "nbformat_minor": 0,
  "metadata": {
    "colab": {
      "name": "@classmethod and @staticmethod in Python.ipynb",
      "provenance": [],
      "authorship_tag": "ABX9TyOVATweA/jgbm4UO+3KhvBV"
    },
    "kernelspec": {
      "name": "python3",
      "display_name": "Python 3"
    },
    "language_info": {
      "name": "python"
    }
  },
  "cells": [
    {
      "cell_type": "markdown",
      "metadata": {
        "id": "KatcoOxKVIIK"
      },
      "source": [
        "[Reference](https://dongr0510.medium.com/how-to-use-pythons-classmethod-and-staticmethod-c1c343981d50)"
      ]
    },
    {
      "cell_type": "code",
      "metadata": {
        "id": "dv2zJbKFRkPg"
      },
      "source": [
        "class Student(object):      \n",
        "    def __init__(self, first_name, last_name): \n",
        "            self.first_name = first_name         \n",
        "            self.last_name = last_name  \n",
        "            \n",
        "scott = Student('Scott',  'Robinson')"
      ],
      "execution_count": 1,
      "outputs": []
    },
    {
      "cell_type": "code",
      "metadata": {
        "colab": {
          "base_uri": "https://localhost:8080/",
          "height": 351
        },
        "id": "mUHuEJU2VVtC",
        "outputId": "3be09b1a-194b-4db8-c4d8-1db8cddddf2f"
      },
      "source": [
        "class Student(object):          \n",
        "    \n",
        "    @classmethod     \n",
        "    def from_string(cls, name_str):\n",
        "        first_name, last_name = map(str, name_str.split(' '))\n",
        "        student = cls(first_name, last_name)\n",
        "        return student  \n",
        "        \n",
        "scott = Student.from_string('Scott Robinson')"
      ],
      "execution_count": 6,
      "outputs": [
        {
          "output_type": "error",
          "ename": "TypeError",
          "evalue": "ignored",
          "traceback": [
            "\u001b[0;31m---------------------------------------------------------------------------\u001b[0m",
            "\u001b[0;31mTypeError\u001b[0m                                 Traceback (most recent call last)",
            "\u001b[0;32m<ipython-input-6-573b4a064aed>\u001b[0m in \u001b[0;36m<module>\u001b[0;34m()\u001b[0m\n\u001b[1;32m      7\u001b[0m         \u001b[0;32mreturn\u001b[0m \u001b[0mstudent\u001b[0m\u001b[0;34m\u001b[0m\u001b[0;34m\u001b[0m\u001b[0m\n\u001b[1;32m      8\u001b[0m \u001b[0;34m\u001b[0m\u001b[0m\n\u001b[0;32m----> 9\u001b[0;31m \u001b[0mscott\u001b[0m \u001b[0;34m=\u001b[0m \u001b[0mStudent\u001b[0m\u001b[0;34m.\u001b[0m\u001b[0mfrom_string\u001b[0m\u001b[0;34m(\u001b[0m\u001b[0;34m'Scott Robinson'\u001b[0m\u001b[0;34m)\u001b[0m\u001b[0;34m\u001b[0m\u001b[0;34m\u001b[0m\u001b[0m\n\u001b[0m",
            "\u001b[0;32m<ipython-input-6-573b4a064aed>\u001b[0m in \u001b[0;36mfrom_string\u001b[0;34m(cls, name_str)\u001b[0m\n\u001b[1;32m      4\u001b[0m     \u001b[0;32mdef\u001b[0m \u001b[0mfrom_string\u001b[0m\u001b[0;34m(\u001b[0m\u001b[0mcls\u001b[0m\u001b[0;34m,\u001b[0m \u001b[0mname_str\u001b[0m\u001b[0;34m)\u001b[0m\u001b[0;34m:\u001b[0m\u001b[0;34m\u001b[0m\u001b[0;34m\u001b[0m\u001b[0m\n\u001b[1;32m      5\u001b[0m         \u001b[0mfirst_name\u001b[0m\u001b[0;34m,\u001b[0m \u001b[0mlast_name\u001b[0m \u001b[0;34m=\u001b[0m \u001b[0mmap\u001b[0m\u001b[0;34m(\u001b[0m\u001b[0mstr\u001b[0m\u001b[0;34m,\u001b[0m \u001b[0mname_str\u001b[0m\u001b[0;34m.\u001b[0m\u001b[0msplit\u001b[0m\u001b[0;34m(\u001b[0m\u001b[0;34m' '\u001b[0m\u001b[0;34m)\u001b[0m\u001b[0;34m)\u001b[0m\u001b[0;34m\u001b[0m\u001b[0;34m\u001b[0m\u001b[0m\n\u001b[0;32m----> 6\u001b[0;31m         \u001b[0mstudent\u001b[0m \u001b[0;34m=\u001b[0m \u001b[0mcls\u001b[0m\u001b[0;34m(\u001b[0m\u001b[0mfirst_name\u001b[0m\u001b[0;34m,\u001b[0m \u001b[0mlast_name\u001b[0m\u001b[0;34m)\u001b[0m\u001b[0;34m\u001b[0m\u001b[0;34m\u001b[0m\u001b[0m\n\u001b[0m\u001b[1;32m      7\u001b[0m         \u001b[0;32mreturn\u001b[0m \u001b[0mstudent\u001b[0m\u001b[0;34m\u001b[0m\u001b[0;34m\u001b[0m\u001b[0m\n\u001b[1;32m      8\u001b[0m \u001b[0;34m\u001b[0m\u001b[0m\n",
            "\u001b[0;31mTypeError\u001b[0m: Student() takes no arguments"
          ]
        }
      ]
    },
    {
      "cell_type": "code",
      "metadata": {
        "colab": {
          "base_uri": "https://localhost:8080/"
        },
        "id": "7zBPRBZ7VaDY",
        "outputId": "26755aa6-2023-4aba-a544-15e287fba508"
      },
      "source": [
        "class Student(object):\n",
        "\n",
        "    @staticmethod\n",
        "    def is_full_name(name_str):\n",
        "        names = name_str.split(' ')\n",
        "        return len(names) > 1\n",
        "\n",
        "Student.is_full_name('Scott Robinson')   # True\n",
        "Student.is_full_name('Scott')            # False"
      ],
      "execution_count": 7,
      "outputs": [
        {
          "output_type": "execute_result",
          "data": {
            "text/plain": [
              "False"
            ]
          },
          "metadata": {
            "tags": []
          },
          "execution_count": 7
        }
      ]
    },
    {
      "cell_type": "code",
      "metadata": {
        "colab": {
          "base_uri": "https://localhost:8080/"
        },
        "id": "cbgJe2JGVxtn",
        "outputId": "7d63aa78-42a0-4955-e983-f6253e8bfcb6"
      },
      "source": [
        "class ClassGrades:      \n",
        "    def __init__(self, grades):         \n",
        "        self.grades = grades      \n",
        "    @classmethod     \n",
        "    def from_csv(cls, grade_csv_str):         \n",
        "        grades = map(int, grade_csv_str.split(', '))\n",
        "        cls.validate(grades)         \n",
        "        return cls(grades)       \n",
        "    @staticmethod     \n",
        "    def validate(grades):         \n",
        "        for g in grades:             \n",
        "            if g < 0 or g > 100:                 \n",
        "                raise Exception()  \n",
        "try:     \n",
        "    # Try out some valid grades     \n",
        "    class_grades_valid = ClassGrades.from_csv('92, 83, 82, 93, 79')\n",
        "    print('Got grades:', class_grades_valid.grades)\n",
        "      \n",
        "    # Should fail with invalid grades     \n",
        "    class_grades_invalid = ClassGrades.from_csv('91, -19, 98, 104, 72, 65, 100')     \n",
        "    print(class_grades_invalid.grades)\n",
        "except:     \n",
        "    print('Invalid!')"
      ],
      "execution_count": 9,
      "outputs": [
        {
          "output_type": "stream",
          "text": [
            "Got grades: <map object at 0x7f00302c5bd0>\n",
            "Invalid!\n"
          ],
          "name": "stdout"
        }
      ]
    }
  ]
}