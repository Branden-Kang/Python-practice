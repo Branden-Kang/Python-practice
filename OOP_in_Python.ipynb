{
  "nbformat": 4,
  "nbformat_minor": 0,
  "metadata": {
    "colab": {
      "name": "OOP in Python.ipynb",
      "provenance": [],
      "authorship_tag": "ABX9TyPsrBQeo/9JdYchL7esgCMF"
    },
    "kernelspec": {
      "name": "python3",
      "display_name": "Python 3"
    }
  },
  "cells": [
    {
      "cell_type": "markdown",
      "metadata": {
        "id": "OcBGFgsSnLoD",
        "colab_type": "text"
      },
      "source": [
        "[Reference](https://towardsdatascience.com/how-to-be-fancy-with-python-part-2-70fab0a3e492)"
      ]
    },
    {
      "cell_type": "code",
      "metadata": {
        "id": "mhXsMha6nEVm",
        "colab_type": "code",
        "colab": {
          "base_uri": "https://localhost:8080/",
          "height": 34
        },
        "outputId": "f1e27f20-a53f-4bc0-a2e1-1c723d730fbc"
      },
      "source": [
        "class Student():\n",
        "  def __init__(self,id, name):\n",
        "    self.id, self.name = id, name\n",
        "s = Student(1, \"Kang\")\n",
        "print(s)"
      ],
      "execution_count": 5,
      "outputs": [
        {
          "output_type": "stream",
          "text": [
            "<__main__.Student object at 0x7f21c350f5c0>\n"
          ],
          "name": "stdout"
        }
      ]
    },
    {
      "cell_type": "code",
      "metadata": {
        "id": "A-YChTL3nqwz",
        "colab_type": "code",
        "colab": {}
      },
      "source": [
        "class Studnet():\n",
        "  def __init__(self,id, name):\n",
        "    self.id, self.name = id, name\n",
        "  def __str__(self):\n",
        "    return f\"Studnet {self.name} with id {self.id}\""
      ],
      "execution_count": 6,
      "outputs": []
    },
    {
      "cell_type": "code",
      "metadata": {
        "id": "2HCtojyxn33M",
        "colab_type": "code",
        "colab": {
          "base_uri": "https://localhost:8080/",
          "height": 34
        },
        "outputId": "7b76f6e2-d162-42ad-984e-e77b73f65cd1"
      },
      "source": [
        "s = Student(1, \"Kang\")\n",
        "print(s)"
      ],
      "execution_count": 7,
      "outputs": [
        {
          "output_type": "stream",
          "text": [
            "<__main__.Student object at 0x7f21c35114a8>\n"
          ],
          "name": "stdout"
        }
      ]
    },
    {
      "cell_type": "code",
      "metadata": {
        "id": "dtHq8r9kn60y",
        "colab_type": "code",
        "colab": {
          "base_uri": "https://localhost:8080/",
          "height": 34
        },
        "outputId": "9dc41457-ea49-4029-bf7b-5c3a98a5f070"
      },
      "source": [
        "class School():\n",
        "  def __init__(self, students, grades):\n",
        "    self.students, self.grades = students, grades\n",
        "  def __len__(self):\n",
        "    return len(self.grades)\n",
        "\n",
        "students = [Studnet(1,\"Kang\"), Studnet(2,\"Lee\"), Studnet(3,\"Park\")]\n",
        "grades = ['A+', 'B-', 'F']\n",
        "\n",
        "school = School(students, grades)\n",
        "print(school)"
      ],
      "execution_count": 12,
      "outputs": [
        {
          "output_type": "stream",
          "text": [
            "<__main__.School object at 0x7f21c3511240>\n"
          ],
          "name": "stdout"
        }
      ]
    },
    {
      "cell_type": "code",
      "metadata": {
        "id": "UbzoqKK8oqeV",
        "colab_type": "code",
        "colab": {
          "base_uri": "https://localhost:8080/",
          "height": 34
        },
        "outputId": "d69b32db-0bcb-44f8-bc86-0df99576e68e"
      },
      "source": [
        "len(school)"
      ],
      "execution_count": 13,
      "outputs": [
        {
          "output_type": "execute_result",
          "data": {
            "text/plain": [
              "3"
            ]
          },
          "metadata": {
            "tags": []
          },
          "execution_count": 13
        }
      ]
    },
    {
      "cell_type": "code",
      "metadata": {
        "id": "qmP_2lR5o4Av",
        "colab_type": "code",
        "colab": {
          "base_uri": "https://localhost:8080/",
          "height": 34
        },
        "outputId": "7ee8cbc8-edb2-47b2-bde8-de8b0cbdb290"
      },
      "source": [
        "class School():\n",
        "  def __init__(self, students, grades):\n",
        "    self.students, self.grades = students, grades\n",
        "  def __getitem__(self, i):\n",
        "    return self.students[i].name, self.grades[i]\n",
        "\n",
        "students = [Studnet(1,\"Kang\"), Studnet(2,\"Lee\"), Studnet(3,\"Park\")]\n",
        "grades = ['A+', 'B-', 'F']\n",
        "\n",
        "school = School(students, grades)\n",
        "school[0]"
      ],
      "execution_count": 14,
      "outputs": [
        {
          "output_type": "execute_result",
          "data": {
            "text/plain": [
              "('Kang', 'A+')"
            ]
          },
          "metadata": {
            "tags": []
          },
          "execution_count": 14
        }
      ]
    },
    {
      "cell_type": "code",
      "metadata": {
        "id": "B0J6wmrxpQgL",
        "colab_type": "code",
        "colab": {
          "base_uri": "https://localhost:8080/",
          "height": 34
        },
        "outputId": "71f249b8-612c-448c-d7c8-89cdb123bc7c"
      },
      "source": [
        "class School():\n",
        "  def __init__(self, students, grades):\n",
        "    self.students, self.grades = students, grades\n",
        "  def __getitem__(self, i):\n",
        "    return self.students[i].name, self.grades[i]\n",
        "  def __setitem__(self, i, g):\n",
        "    self.grades[i] = g\n",
        "\n",
        "students = [Studnet(1,\"Kang\"), Studnet(2,\"Lee\"), Studnet(3,\"Park\")]\n",
        "grades = ['A+', 'B-', 'F']\n",
        "\n",
        "school = School(students, grades)\n",
        "school[1]"
      ],
      "execution_count": 17,
      "outputs": [
        {
          "output_type": "execute_result",
          "data": {
            "text/plain": [
              "('Lee', 'B-')"
            ]
          },
          "metadata": {
            "tags": []
          },
          "execution_count": 17
        }
      ]
    },
    {
      "cell_type": "code",
      "metadata": {
        "id": "mzmHPZpMpek0",
        "colab_type": "code",
        "colab": {
          "base_uri": "https://localhost:8080/",
          "height": 34
        },
        "outputId": "704cbe9d-951e-46a8-a697-7809b19b6766"
      },
      "source": [
        "school[1] = 'A-'\n",
        "school[1]"
      ],
      "execution_count": 18,
      "outputs": [
        {
          "output_type": "execute_result",
          "data": {
            "text/plain": [
              "('Lee', 'A-')"
            ]
          },
          "metadata": {
            "tags": []
          },
          "execution_count": 18
        }
      ]
    },
    {
      "cell_type": "code",
      "metadata": {
        "id": "uWo0qfwkpige",
        "colab_type": "code",
        "colab": {
          "base_uri": "https://localhost:8080/",
          "height": 71
        },
        "outputId": "be8eece1-94dc-4a94-f3af-47a3f4159af0"
      },
      "source": [
        "class School():\n",
        "  def __init__(self, students, grades):\n",
        "    self._all_attr = {}\n",
        "    self.students, self.grades = students, grades\n",
        "  def __setattr__(self, k, v):\n",
        "    if not k.startswith(\"_\"): self._all_attr[k] = v\n",
        "    super().__setattr__(k,v)\n",
        "  def print_all(self):\n",
        "    for atr,val in self._all_attr.items():\n",
        "      print(atr,val)\n",
        "\n",
        "students = [Studnet(1,\"Kang\"), Studnet(2,\"Lee\"), Studnet(3,\"Park\")]\n",
        "grades = ['A+', 'B-', 'F']\n",
        "\n",
        "school = School(students, grades)\n",
        "school.print_all()"
      ],
      "execution_count": 22,
      "outputs": [
        {
          "output_type": "stream",
          "text": [
            "students [<__main__.Studnet object at 0x7f21c34b1470>, <__main__.Studnet object at 0x7f21c34b1400>, <__main__.Studnet object at 0x7f21c34b14a8>]\n",
            "grades ['A+', 'B-', 'F']\n"
          ],
          "name": "stdout"
        }
      ]
    },
    {
      "cell_type": "code",
      "metadata": {
        "id": "uo1MZyb3p42w",
        "colab_type": "code",
        "colab": {
          "base_uri": "https://localhost:8080/",
          "height": 34
        },
        "outputId": "e9b3fe3a-0f09-4521-cce4-7e0e5b4ee2d3"
      },
      "source": [
        "class School():\n",
        "  def __init__(self, students, grades):\n",
        "    self._all_attr = {}\n",
        "    self.students, self.grades = students, grades\n",
        "  def __iter__(self):\n",
        "    for i in range(0, len(self.grades)):\n",
        "      yield self.students[i].name, self.grades[i]\n",
        "\n",
        "students = [Studnet(1,\"Kang\"), Studnet(2,\"Lee\"), Studnet(3,\"Park\")]\n",
        "grades = ['A+', 'B-', 'F']\n",
        "\n",
        "school = School(students, grades)\n",
        "next(iter(school))"
      ],
      "execution_count": 23,
      "outputs": [
        {
          "output_type": "execute_result",
          "data": {
            "text/plain": [
              "('Kang', 'A+')"
            ]
          },
          "metadata": {
            "tags": []
          },
          "execution_count": 23
        }
      ]
    },
    {
      "cell_type": "code",
      "metadata": {
        "id": "yEXXgplaqWwb",
        "colab_type": "code",
        "colab": {
          "base_uri": "https://localhost:8080/",
          "height": 68
        },
        "outputId": "c035a499-a8b0-475b-c4c1-44d5908fcf61"
      },
      "source": [
        "for s,g in iter(school):\n",
        "  print(s,g)"
      ],
      "execution_count": 24,
      "outputs": [
        {
          "output_type": "stream",
          "text": [
            "Kang A+\n",
            "Lee B-\n",
            "Park F\n"
          ],
          "name": "stdout"
        }
      ]
    },
    {
      "cell_type": "code",
      "metadata": {
        "id": "J5wcJcYbqZTR",
        "colab_type": "code",
        "colab": {
          "base_uri": "https://localhost:8080/",
          "height": 34
        },
        "outputId": "36cca90d-fdae-436c-d61d-e44035b783d6"
      },
      "source": [
        "class Cost():\n",
        "  def __init__(self, symbol, value):\n",
        "    self.symbol, self.value = symbol, value\n",
        "\n",
        "  def __add__(self, other):\n",
        "    return self.value + other.value\n",
        "\n",
        "pizza = Cost('$', 100)\n",
        "burger = Cost('$', 50)\n",
        "\n",
        "pizza + burger"
      ],
      "execution_count": 26,
      "outputs": [
        {
          "output_type": "execute_result",
          "data": {
            "text/plain": [
              "150"
            ]
          },
          "metadata": {
            "tags": []
          },
          "execution_count": 26
        }
      ]
    }
  ]
}