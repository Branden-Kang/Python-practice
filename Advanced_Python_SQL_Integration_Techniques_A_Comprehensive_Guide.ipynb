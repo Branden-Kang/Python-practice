{
  "nbformat": 4,
  "nbformat_minor": 0,
  "metadata": {
    "colab": {
      "provenance": [],
      "authorship_tag": "ABX9TyP5RpRtlW5SBEsySt2bHBIc"
    },
    "kernelspec": {
      "name": "python3",
      "display_name": "Python 3"
    },
    "language_info": {
      "name": "python"
    }
  },
  "cells": [
    {
      "cell_type": "markdown",
      "source": [
        "[Reference](https://medium.com/@unlockcoding1/advanced-python-sql-integration-techniques-a-comprehensive-guide-4560efeaa406)"
      ],
      "metadata": {
        "id": "tJI7O-7LH6pe"
      }
    },
    {
      "cell_type": "code",
      "execution_count": 1,
      "metadata": {
        "id": "-DLOPILEFCJY"
      },
      "outputs": [],
      "source": [
        "import psycopg2\n",
        "\n",
        "# Establish a connection to a PostgreSQL database\n",
        "try:\n",
        "    connection = psycopg2.connect(\n",
        "        user=\"your_username\",\n",
        "        password=\"your_password\",\n",
        "        host=\"your_host\",\n",
        "        port=\"your_port\",\n",
        "        database=\"your_database\"\n",
        "    )\n",
        "    # Connection successful\n",
        "except (Exception, psycopg2.Error) as error:\n",
        "    # Handle connection errors\n",
        "    print(\"Error while connecting to PostgreSQL:\", error)"
      ]
    },
    {
      "cell_type": "code",
      "source": [
        "# Execute a SELECT query\n",
        "cursor = connection.cursor()\n",
        "cursor.execute(\"SELECT * FROM your_table\")\n",
        "records = cursor.fetchall()\n",
        "for record in records:\n",
        "    print(record)\n",
        "\n",
        "# Insert data into a table\n",
        "insert_query = \"INSERT INTO your_table (column1, column2) VALUES (%s, %s)\"\n",
        "data_to_insert = (value1, value2)\n",
        "cursor.execute(insert_query, data_to_insert)\n",
        "\n",
        "# Update and delete data\n",
        "update_query = \"UPDATE your_table SET column1 = %s WHERE column2 = %s\"\n",
        "data_to_update = (new_value, condition)\n",
        "cursor.execute(update_query, data_to_update)"
      ],
      "metadata": {
        "id": "TCPXiMmcH-pa"
      },
      "execution_count": 2,
      "outputs": []
    },
    {
      "cell_type": "code",
      "source": [
        "try:\n",
        "    # Begin a transaction\n",
        "    connection.begin()\n",
        "\n",
        "    # Execute multiple SQL statements\n",
        "    # Commit the transaction\n",
        "    connection.commit()\n",
        "except Exception as e:\n",
        "    # Rollback the transaction in case of an error\n",
        "    connection.rollback()"
      ],
      "metadata": {
        "id": "xYgfInM4IBB5"
      },
      "execution_count": 3,
      "outputs": []
    },
    {
      "cell_type": "code",
      "source": [
        "# Implement connection pooling with psycopg2\n",
        "from psycopg2 import pool\n",
        "\n",
        "connection_pool = pool.ThreadedConnectionPool(\n",
        "    minconn=5,\n",
        "    maxconn=20,\n",
        "    user=\"your_username\",\n",
        "    password=\"your_password\",\n",
        "    host=\"your_host\",\n",
        "    port=\"your_port\",\n",
        "    database=\"your_database\"\n",
        ")"
      ],
      "metadata": {
        "id": "lPwIlownITVv"
      },
      "execution_count": 4,
      "outputs": []
    },
    {
      "cell_type": "code",
      "source": [
        "# Example: Automating a data import process\n",
        "import pandas as pd\n",
        "\n",
        "# Load data from a CSV file\n",
        "data = pd.read_csv(\"data.csv\")\n",
        "\n",
        "# Insert data into the database\n",
        "for index, row in data.iterrows():\n",
        "    cursor.execute(\"INSERT INTO your_table (column1, column2) VALUES (%s, %s)\", (row['value1'], row['value2']))\n",
        "\n",
        "# Commit the changes\n",
        "connection.commit()"
      ],
      "metadata": {
        "id": "fmbzQesfIW6g"
      },
      "execution_count": 5,
      "outputs": []
    }
  ]
}