{
  "nbformat": 4,
  "nbformat_minor": 0,
  "metadata": {
    "colab": {
      "name": "Minimize for loop usage in Python.ipynb",
      "provenance": [],
      "authorship_tag": "ABX9TyMnrCKGOVse28AaMfc88Z4X"
    },
    "kernelspec": {
      "name": "python3",
      "display_name": "Python 3"
    }
  },
  "cells": [
    {
      "cell_type": "markdown",
      "metadata": {
        "id": "lR0Qw3YBZMFI"
      },
      "source": [
        "[Reference](https://towardsdatascience.com/minimize-for-loop-usage-in-python-78e3bc42f03f)"
      ]
    },
    {
      "cell_type": "code",
      "metadata": {
        "id": "KD_61WNaZKIw"
      },
      "source": [
        "x = [1,3,5,7,9]\n",
        "sum_squared = 0\n",
        "\n",
        "for i in range(len(x)):\n",
        "    sum_squared+=x[i]**2"
      ],
      "execution_count": 1,
      "outputs": []
    },
    {
      "cell_type": "code",
      "metadata": {
        "colab": {
          "base_uri": "https://localhost:8080/"
        },
        "id": "qhBxo2C7cDsz",
        "outputId": "3fedd3be-c4db-4016-b850-13b18e4bd6f6"
      },
      "source": [
        "sum_squared"
      ],
      "execution_count": 2,
      "outputs": [
        {
          "output_type": "execute_result",
          "data": {
            "text/plain": [
              "165"
            ]
          },
          "metadata": {
            "tags": []
          },
          "execution_count": 2
        }
      ]
    },
    {
      "cell_type": "code",
      "metadata": {
        "colab": {
          "base_uri": "https://localhost:8080/"
        },
        "id": "UQmodepZb84f",
        "outputId": "44ea33a8-1136-42a2-f0e8-65b80f41df17"
      },
      "source": [
        "sum_squared = 0\n",
        "for i in x:\n",
        "    sum_squared+=i**2\n",
        "sum_squared"
      ],
      "execution_count": 4,
      "outputs": [
        {
          "output_type": "execute_result",
          "data": {
            "text/plain": [
              "165"
            ]
          },
          "metadata": {
            "tags": []
          },
          "execution_count": 4
        }
      ]
    },
    {
      "cell_type": "code",
      "metadata": {
        "id": "enYPBt2TcExo"
      },
      "source": [
        "sum_squared = sum([i**2 for i in x])"
      ],
      "execution_count": 5,
      "outputs": []
    },
    {
      "cell_type": "code",
      "metadata": {
        "colab": {
          "base_uri": "https://localhost:8080/"
        },
        "id": "Fb26UDL6cN3P",
        "outputId": "009b755b-cd49-4aae-de0f-b3bc368fd823"
      },
      "source": [
        "sum_squared"
      ],
      "execution_count": 6,
      "outputs": [
        {
          "output_type": "execute_result",
          "data": {
            "text/plain": [
              "165"
            ]
          },
          "metadata": {
            "tags": []
          },
          "execution_count": 6
        }
      ]
    },
    {
      "cell_type": "code",
      "metadata": {
        "colab": {
          "base_uri": "https://localhost:8080/"
        },
        "id": "TZdgbcuHcPT0",
        "outputId": "d513f53d-0d51-4c3e-d7e0-faadaab06afc"
      },
      "source": [
        "x = [1,2,3,4,5,6,7,8,9]\n",
        "even_squared = [y**2 for y in x if y%2==0]\n",
        "even_squared"
      ],
      "execution_count": 7,
      "outputs": [
        {
          "output_type": "execute_result",
          "data": {
            "text/plain": [
              "[4, 16, 36, 64]"
            ]
          },
          "metadata": {
            "tags": []
          },
          "execution_count": 7
        }
      ]
    },
    {
      "cell_type": "code",
      "metadata": {
        "colab": {
          "base_uri": "https://localhost:8080/"
        },
        "id": "mUctGeSMcUHS",
        "outputId": "44f52235-9b3c-4763-84fe-6a62266c1de4"
      },
      "source": [
        "squared_cubed = [y**2 if y%2==0 else y**3 for y in x]\n",
        "squared_cubed"
      ],
      "execution_count": 8,
      "outputs": [
        {
          "output_type": "execute_result",
          "data": {
            "text/plain": [
              "[1, 4, 27, 16, 125, 36, 343, 64, 729]"
            ]
          },
          "metadata": {
            "tags": []
          },
          "execution_count": 8
        }
      ]
    },
    {
      "cell_type": "code",
      "metadata": {
        "colab": {
          "base_uri": "https://localhost:8080/"
        },
        "id": "uSSFCHF6cXLv",
        "outputId": "f3332317-1b08-48a7-99bf-7940742c2d46"
      },
      "source": [
        "L = ['blue', 'yellow', 'orange']\n",
        "\n",
        "for i, val in enumerate(L):\n",
        "    print(\"index is %d and value is %s\" % (i, val))"
      ],
      "execution_count": 9,
      "outputs": [
        {
          "output_type": "stream",
          "text": [
            "index is 0 and value is blue\n",
            "index is 1 and value is yellow\n",
            "index is 2 and value is orange\n"
          ],
          "name": "stdout"
        }
      ]
    },
    {
      "cell_type": "code",
      "metadata": {
        "colab": {
          "base_uri": "https://localhost:8080/"
        },
        "id": "r7ahvbamcfyQ",
        "outputId": "9333ad45-75ce-4157-b4a3-c040c799b322"
      },
      "source": [
        "x = [1,2,3,4,5,6,7,8,9]\n",
        "{k:k**2 for k in x}"
      ],
      "execution_count": 10,
      "outputs": [
        {
          "output_type": "execute_result",
          "data": {
            "text/plain": [
              "{1: 1, 2: 4, 3: 9, 4: 16, 5: 25, 6: 36, 7: 49, 8: 64, 9: 81}"
            ]
          },
          "metadata": {
            "tags": []
          },
          "execution_count": 10
        }
      ]
    },
    {
      "cell_type": "code",
      "metadata": {
        "colab": {
          "base_uri": "https://localhost:8080/"
        },
        "id": "OkXxoStEcg0V",
        "outputId": "bf7b0424-4681-4f52-fbf7-1599ff437aa7"
      },
      "source": [
        "x = [1,2,3,4,5,6,7,8,9]\n",
        "\n",
        "{k:k**2 for k in x if k%2==0}"
      ],
      "execution_count": 14,
      "outputs": [
        {
          "output_type": "execute_result",
          "data": {
            "text/plain": [
              "{2: 4, 4: 16, 6: 36, 8: 64}"
            ]
          },
          "metadata": {
            "tags": []
          },
          "execution_count": 14
        }
      ]
    },
    {
      "cell_type": "code",
      "metadata": {
        "colab": {
          "base_uri": "https://localhost:8080/"
        },
        "id": "O5AooFsJchuK",
        "outputId": "90fccf72-d862-43e1-cf70-a75e9c7a5d95"
      },
      "source": [
        "x = [1,2,3,4,5,6,7,8,9]\n",
        "{k:k**2 if k%2==0 else k**3 for k in x}"
      ],
      "execution_count": 15,
      "outputs": [
        {
          "output_type": "execute_result",
          "data": {
            "text/plain": [
              "{1: 1, 2: 4, 3: 27, 4: 16, 5: 125, 6: 36, 7: 343, 8: 64, 9: 729}"
            ]
          },
          "metadata": {
            "tags": []
          },
          "execution_count": 15
        }
      ]
    }
  ]
}