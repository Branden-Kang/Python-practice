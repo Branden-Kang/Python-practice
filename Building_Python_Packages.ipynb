{
  "nbformat": 4,
  "nbformat_minor": 0,
  "metadata": {
    "colab": {
      "provenance": [],
      "authorship_tag": "ABX9TyOIWhLIIs1PiwsEo8T1EKCP"
    },
    "kernelspec": {
      "name": "python3",
      "display_name": "Python 3"
    },
    "language_info": {
      "name": "python"
    }
  },
  "cells": [
    {
      "cell_type": "markdown",
      "source": [
        "[Reference](https://medium.com/@ebimsv/building-python-packages-07fbfbb959a9)"
      ],
      "metadata": {
        "id": "_fou_utlKbqJ"
      }
    },
    {
      "cell_type": "markdown",
      "source": [
        "# 1. setup.py (Legacy approach)"
      ],
      "metadata": {
        "id": "r7pZqvDtKtqJ"
      }
    },
    {
      "cell_type": "code",
      "execution_count": 2,
      "metadata": {
        "id": "RHUu6UDBKXPU"
      },
      "outputs": [],
      "source": [
        "from setuptools import setup\n",
        "\n",
        "setup(\n",
        "    name='mypackage',\n",
        "    version='0.1',\n",
        "    packages=['mypackage'],\n",
        "    install_requires=['requests'])"
      ]
    },
    {
      "cell_type": "markdown",
      "source": [
        "```\n",
        "python setup.py sdist bdist_wheel\n",
        "pip install .\n",
        "```"
      ],
      "metadata": {
        "id": "JwCWIEGPKxLi"
      }
    },
    {
      "cell_type": "markdown",
      "source": [
        "# 2. pyproject.toml (Modern approach)"
      ],
      "metadata": {
        "id": "4wNyY-k5K1cY"
      }
    },
    {
      "cell_type": "markdown",
      "source": [
        "```\n",
        "# pyproject.toml\n",
        "[build-system]\n",
        "requires = [\"setuptools>=42\", \"wheel\"]\n",
        "build-backend = \"setuptools.build_meta\"\n",
        "\n",
        "[project]\n",
        "name = \"mypackage\"\n",
        "version = \"0.1\"\n",
        "dependencies = [\"requests\"]\n",
        "```"
      ],
      "metadata": {
        "id": "cUiOjvgbK3-j"
      }
    },
    {
      "cell_type": "markdown",
      "source": [
        "```\n",
        "pip install .\n",
        "```"
      ],
      "metadata": {
        "id": "MKuvW4HjK6g0"
      }
    },
    {
      "cell_type": "markdown",
      "source": [
        "# Building and Deploying a Machine Learning Package with scikit-learn"
      ],
      "metadata": {
        "id": "lPquLN2sK8zs"
      }
    },
    {
      "cell_type": "markdown",
      "source": [
        "## 1. Create the Project Structure"
      ],
      "metadata": {
        "id": "H2WUGXrPLB-t"
      }
    },
    {
      "cell_type": "markdown",
      "source": [
        "```\n",
        "mlpredictor/\n",
        "│\n",
        "├── mlpredictor/\n",
        "│   ├── __init__.py\n",
        "│   ├── model.py\n",
        "│\n",
        "├── tests/\n",
        "│   ├── test_model.py\n",
        "│\n",
        "├── LICENSE\n",
        "├── README.md\n",
        "├── pyproject.toml\n",
        "└── .gitignore\n",
        "```"
      ],
      "metadata": {
        "id": "yb5jbX0PLABq"
      }
    },
    {
      "cell_type": "markdown",
      "source": [
        "## 2. Write the Code\n",
        "```\n",
        "mlpredictor/model.py:\n",
        "```"
      ],
      "metadata": {
        "id": "Hm-K3cAFLDL2"
      }
    },
    {
      "cell_type": "code",
      "source": [
        "from sklearn.datasets import load_iris\n",
        "from sklearn.model_selection import train_test_split\n",
        "from sklearn.ensemble import RandomForestClassifier\n",
        "import pickle\n",
        "\n",
        "\n",
        "class MLPredictor:\n",
        "    def __init__(self):\n",
        "        self.model = None\n",
        "\n",
        "    def train(self):\n",
        "        iris = load_iris()\n",
        "        X_train, X_test, y_train, y_test = train_test_split(\n",
        "            iris.data, iris.target, test_size=0.2, random_state=42\n",
        "        )\n",
        "        self.model = RandomForestClassifier()\n",
        "        self.model.fit(X_train, y_train)\n",
        "\n",
        "    def predict(self, data):\n",
        "        if not self.model:\n",
        "            raise Exception(\"Model is not trained yet!\")\n",
        "        return self.model.predict([data])\n",
        "\n",
        "    def save_model(self, path=\"model.pkl\"):\n",
        "        with open(path, \"wb\") as f:\n",
        "            pickle.dump(self.model, f)\n",
        "\n",
        "    def load_model(self, path=\"model.pkl\"):\n",
        "        with open(path, \"rb\") as f:\n",
        "            self.model = pickle.load(f)"
      ],
      "metadata": {
        "id": "2X16wmdlKvg7"
      },
      "execution_count": 3,
      "outputs": []
    },
    {
      "cell_type": "markdown",
      "source": [
        "```\n",
        "mlpredictor/__init__.py:\n",
        "from .model import MLPredictor\n",
        "\n",
        "__all__ = [\"MLPredictor\"]\n",
        "```"
      ],
      "metadata": {
        "id": "CmypzUwwLIdS"
      }
    },
    {
      "cell_type": "markdown",
      "source": [
        "## 3. Create the pyproject.toml File\n",
        "```\n",
        "pyproject.toml:\n",
        "[build-system]\n",
        "requires = [\"setuptools>=42\", \"wheel\"]\n",
        "build-backend = \"setuptools.build_meta\"\n",
        "\n",
        "[project]\n",
        "name = \"mlpredictor\"\n",
        "version = \"0.1.0\"\n",
        "description = \"A simple machine learning package using scikit-learn\"\n",
        "authors = [\n",
        "    {name = \"Ebrahim\", email = \"ebimsv0501@gmail.com\"}\n",
        "]\n",
        "license = {text = \"MIT\"}\n",
        "readme = \"README.md\"\n",
        "requires-python = \">=3.6\"\n",
        "dependencies = [\n",
        "    \"scikit-learn>=1.0\",\n",
        "]\n",
        "\n",
        "[project.urls]\n",
        "\"Homepage\" = \"https://github.com/ebimsv/mlpredictor\"\n",
        "```"
      ],
      "metadata": {
        "id": "nSDRO5mGLRv7"
      }
    },
    {
      "cell_type": "markdown",
      "source": [
        "## 4. Write Tests\n",
        "```\n",
        "tests/test_model.py:\n",
        "```"
      ],
      "metadata": {
        "id": "2grCawosLZre"
      }
    },
    {
      "cell_type": "code",
      "source": [
        "import pytest\n",
        "from mlpredictor import MLPredictor\n",
        "\n",
        "def test_train_and_predict():\n",
        "    model = MLPredictor()\n",
        "    model.train()\n",
        "    result = model.predict([5.1, 3.5, 1.4, 0.2])\n",
        "    assert len(result) == 1\n",
        "\n",
        "if __name__ == \"__main__\":\n",
        "    pytest.main().py:"
      ],
      "metadata": {
        "id": "Y7IRGgXXLGhh"
      },
      "execution_count": 4,
      "outputs": []
    },
    {
      "cell_type": "markdown",
      "source": [
        "## 5. Add a README, License, and .gitignore"
      ],
      "metadata": {
        "id": "WkbtgmsiLhdt"
      }
    },
    {
      "cell_type": "markdown",
      "source": [
        "```\n",
        "README.md:\n",
        "# MLPredictor\n",
        "\n",
        "MLPredictor is a simple machine learning package that trains a RandomForest model using the Iris dataset and enables users to make predictions. The package is built using `scikit-learn` and is intended as a demonstration of packaging Python machine learning projects for distribution.\n",
        "\n",
        "## Features\n",
        "\n",
        "- Train a RandomForestClassifier on the Iris dataset.\n",
        "- Make predictions on new data after training.\n",
        "- Save and load trained models.\n",
        "\n",
        "## Installation\n",
        "\n",
        "You can install the package via **PyPI** or from **source**.\n",
        "\n",
        "### Install from PyPI\n",
        "\n",
        "```bash\n",
        "pip install mlpredictor\n",
        "```\n",
        "\n",
        "### Install from Source (GitHub)\n",
        "\n",
        "```bash\n",
        "git clone https://github.com/ebimsv/mlpredictor.git\n",
        "cd mlpredictor\n",
        "pip install .\n",
        "```\n",
        "\n",
        "## Usage\n",
        "\n",
        "After installation, you can use `MLPredictor` to train a model and make predictions.\n",
        "\n",
        "### Example: Training and Making Predictions\n",
        "\n",
        "```python\n",
        "from mlpredictor import MLPredictor\n",
        "\n",
        "# Initialize the predictor\n",
        "predictor = MLPredictor()\n",
        "\n",
        "# Train the model on the Iris dataset\n",
        "predictor.train()\n",
        "\n",
        "# Make a prediction on a sample input\n",
        "sample_input = [5.1, 3.5, 1.4, 0.2]\n",
        "prediction = predictor.predict(sample_input)\n",
        "\n",
        "print(f\"Predicted class: {prediction}\")\n",
        "```\n",
        "```"
      ],
      "metadata": {
        "id": "q2XYgg3oLi8i"
      }
    },
    {
      "cell_type": "markdown",
      "source": [
        "```\n",
        "# LICENSE:\n",
        "MIT License\n",
        "```"
      ],
      "metadata": {
        "id": "npBCdQ0KLvR2"
      }
    },
    {
      "cell_type": "markdown",
      "source": [
        "```\n",
        ".gitignore:\n",
        "*.pyc\n",
        "__pycache__/\n",
        "*.pkl\n",
        "dist/\n",
        "build/\n",
        "```"
      ],
      "metadata": {
        "id": "UssolIv7Lzoi"
      }
    },
    {
      "cell_type": "markdown",
      "source": [
        "## 6. Test the Package Locally"
      ],
      "metadata": {
        "id": "aCHHO0HFL4Nd"
      }
    },
    {
      "cell_type": "markdown",
      "source": [
        "```\n",
        "pip install .\n",
        "```"
      ],
      "metadata": {
        "id": "seiBgUI3L6sk"
      }
    },
    {
      "cell_type": "markdown",
      "source": [
        "```\n",
        "pytest tests\n",
        "```"
      ],
      "metadata": {
        "id": "R26lkaOqL_nN"
      }
    },
    {
      "cell_type": "markdown",
      "source": [
        "## 7. Push to GitHub\n",
        "```\n",
        "1. Initialize Git:\n",
        "git init\n",
        "git add .\n",
        "git commit -m \"Initial commit\"\n",
        "```"
      ],
      "metadata": {
        "id": "aFBQMyp4MB06"
      }
    },
    {
      "cell_type": "markdown",
      "source": [
        "```\n",
        "2. Create a GitHub Repository:\n",
        "Go to GitHub and create a new repository called mlpredictor.\n",
        "```"
      ],
      "metadata": {
        "id": "NbgQbZWmMHKi"
      }
    },
    {
      "cell_type": "markdown",
      "source": [
        "```\n",
        "3. Push the Code:\n",
        "git remote add origin https://github.com/ebimsv/mlpredictor.git\n",
        "git branch -M main\n",
        "git push -u origin main\n",
        "```"
      ],
      "metadata": {
        "id": "6PgeBTsjMMaD"
      }
    },
    {
      "cell_type": "markdown",
      "source": [
        "## 8. Publish on PyPI"
      ],
      "metadata": {
        "id": "vnNwU16wMTn2"
      }
    },
    {
      "cell_type": "markdown",
      "source": [
        "```\n",
        "1. Install ‘Twine’ and ‘build’:\n",
        "pip install twine build\n",
        "```"
      ],
      "metadata": {
        "id": "KdGBmnyHMVoh"
      }
    },
    {
      "cell_type": "markdown",
      "source": [
        "```\n",
        "2. Build the Package:\n",
        "python -m build\n",
        "```"
      ],
      "metadata": {
        "id": "yY5_YVaoMaq1"
      }
    },
    {
      "cell_type": "markdown",
      "source": [
        "```\n",
        "3. Upload to PyPI:\n",
        "twine upload dist/*\n",
        "\n",
        "pip install mlpredictor\n",
        "```"
      ],
      "metadata": {
        "id": "ROJ_OJ78Mfp3"
      }
    },
    {
      "cell_type": "markdown",
      "source": [
        "## 9. Install and Use the Package"
      ],
      "metadata": {
        "id": "YqBBF4xZMlv4"
      }
    },
    {
      "cell_type": "code",
      "source": [
        "from mlpredictor import MLPredictor\n",
        "\n",
        "predictor = MLPredictor()\n",
        "predictor.train()\n",
        "prediction = predictor.predict([5.1, 3.5, 1.4, 0.2])\n",
        "print(\"Predicted class:\", prediction.item())"
      ],
      "metadata": {
        "id": "TUNUVCcpMn7l"
      },
      "execution_count": 5,
      "outputs": []
    }
  ]
}