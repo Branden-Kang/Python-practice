{
  "nbformat": 4,
  "nbformat_minor": 0,
  "metadata": {
    "colab": {
      "provenance": [],
      "authorship_tag": "ABX9TyMxSkF/FfrJPWw9ce9IUrKL"
    },
    "kernelspec": {
      "name": "python3",
      "display_name": "Python 3"
    },
    "language_info": {
      "name": "python"
    }
  },
  "cells": [
    {
      "cell_type": "markdown",
      "source": [
        "[Reference](https://configr.medium.com/building-an-expense-tracker-with-python-and-javascript-9276a9f7ba4c)"
      ],
      "metadata": {
        "id": "9PsazALan6hE"
      }
    },
    {
      "cell_type": "markdown",
      "source": [
        "```\n",
        "expense-tracker/\n",
        "│\n",
        "├── app.py\n",
        "├── templates/\n",
        "│   └── index.html\n",
        "├── static/\n",
        "│   ├── css/\n",
        "│   │   └── styles.css\n",
        "│   └── js/\n",
        "│       └── scripts.js\n",
        "├── db/\n",
        "│   └── expenses.db\n",
        "└── venv/\n",
        "```"
      ],
      "metadata": {
        "id": "q9KfTSEcn-vp"
      }
    },
    {
      "cell_type": "markdown",
      "source": [
        "# Creating the Backend with Python"
      ],
      "metadata": {
        "id": "W4hrFg-YoBPz"
      }
    },
    {
      "cell_type": "code",
      "execution_count": 1,
      "metadata": {
        "id": "xwsuNRZVmVJM"
      },
      "outputs": [],
      "source": [
        "from flask import Flask, render_template, request, redirect, url_for\n",
        "import sqlite3\n",
        "\n",
        "app = Flask(__name__)\n",
        "\n",
        "def init_db():\n",
        "    with sqlite3.connect('db/expenses.db') as conn:\n",
        "        cursor = conn.cursor()\n",
        "        cursor.execute('''CREATE TABLE IF NOT EXISTS expenses (\n",
        "                            id INTEGER PRIMARY KEY,\n",
        "                            date TEXT,\n",
        "                            category TEXT,\n",
        "                            amount REAL,\n",
        "                            description TEXT\n",
        "                          )''')\n",
        "        conn.commit()\n",
        "\n",
        "@app.route('/')\n",
        "def index():\n",
        "    return render_template('index.html')\n",
        "\n",
        "if __name__ == '__main__':\n",
        "    init_db()\n",
        "    app.run(debug=True)"
      ]
    },
    {
      "cell_type": "markdown",
      "source": [
        "# Handling User Inputs"
      ],
      "metadata": {
        "id": "opZHl5seoGcF"
      }
    },
    {
      "cell_type": "code",
      "source": [
        "from flask import Flask, render_template, request, redirect, url_for\n",
        "import sqlite3\n",
        "\n",
        "app = Flask(__name__)\n",
        "\n",
        "def init_db():\n",
        "    with sqlite3.connect('db/expenses.db') as conn:\n",
        "        cursor = conn.cursor()\n",
        "        cursor.execute('''CREATE TABLE IF NOT EXISTS expenses (\n",
        "                            id INTEGER PRIMARY KEY,\n",
        "                            date TEXT,\n",
        "                            category TEXT,\n",
        "                            amount REAL,\n",
        "                            description TEXT\n",
        "                          )''')\n",
        "        conn.commit()\n",
        "\n",
        "@app.route('/')\n",
        "def index():\n",
        "    return render_template('index.html')\n",
        "\n",
        "@app.route('/add', methods=['POST'])\n",
        "def add_expense():\n",
        "    if request.method == 'POST':\n",
        "        date = request.form['date']\n",
        "        category = request.form['category']\n",
        "        amount = request.form['amount']\n",
        "        description = request.form['description']\n",
        "\n",
        "        with sqlite3.connect('db/expenses.db') as conn:\n",
        "            cursor = conn.cursor()\n",
        "            cursor.execute(\"INSERT INTO expenses (date, category, amount, description) VALUES (?, ?, ?, ?)\",\n",
        "                           (date, category, amount, description))\n",
        "            conn.commit()\n",
        "\n",
        "        return redirect(url_for('index'))\n",
        "\n",
        "@app.route('/expenses')\n",
        "def view_expenses():\n",
        "    with sqlite3.connect('db/expenses.db') as conn:\n",
        "        cursor = conn.cursor()\n",
        "        cursor.execute(\"SELECT * FROM expenses\")\n",
        "        expenses = cursor.fetchall()\n",
        "    return render_template('expenses.html', expenses=expenses)\n",
        "\n",
        "if __name__ == '__main__':\n",
        "    init_db()\n",
        "    app.run(debug=True)"
      ],
      "metadata": {
        "id": "-Fwl8-GjoDqE"
      },
      "execution_count": 4,
      "outputs": []
    },
    {
      "cell_type": "markdown",
      "source": [
        "# Designing the Frontend with HTML, CSS, and JavaScript\n",
        "## Building the HTML Structure"
      ],
      "metadata": {
        "id": "3Am4pHQHoUTR"
      }
    },
    {
      "cell_type": "markdown",
      "source": [
        "```\n",
        "# index.html\n",
        "<!DOCTYPE html>\n",
        "<html lang=\"en\">\n",
        "<head>\n",
        "    <meta charset=\"UTF-8\">\n",
        "    <meta name=\"viewport\" content=\"width=device-width, initial-scale=1.0\">\n",
        "    <title>Expense Tracker</title>\n",
        "    <link rel=\"stylesheet\" href=\"{{ url_for('static', filename='css/styles.css') }}\">\n",
        "</head>\n",
        "<body>\n",
        "    <h1>Expense Tracker</h1>\n",
        "    <form action=\"/add\" method=\"POST\">\n",
        "        <label for=\"date\">Date:</label>\n",
        "        <input type=\"date\" id=\"date\" name=\"date\" required>\n",
        "        \n",
        "        <label for=\"category\">Category:</label>\n",
        "        <input type=\"text\" id=\"category\" name=\"category\" required>\n",
        "        \n",
        "        <label for=\"amount\">Amount:</label>\n",
        "        <input type=\"number\" step=\"0.01\" id=\"amount\" name=\"amount\" required>\n",
        "        \n",
        "        <label for=\"description\">Description:</label>\n",
        "        <input type=\"text\" id=\"description\" name=\"description\">\n",
        "        \n",
        "        <button type=\"submit\">Add Expense</button>\n",
        "    </form>\n",
        "    \n",
        "    <a href=\"/expenses\">View Expenses</a>\n",
        "</body>\n",
        "</html>\n",
        "```"
      ],
      "metadata": {
        "id": "81BlW2EhoWGI"
      }
    },
    {
      "cell_type": "markdown",
      "source": [
        "## Styling with CSS\n",
        "```\n",
        "body {\n",
        "    font-family: Arial, sans-serif;\n",
        "    background-color: #f4f4f4;\n",
        "    color: #333;\n",
        "    padding: 20px;\n",
        "}\n",
        "\n",
        "h1 {\n",
        "    text-align: center;\n",
        "}\n",
        "\n",
        "form {\n",
        "    max-width: 400px;\n",
        "    margin: 0 auto;\n",
        "    padding: 20px;\n",
        "    background-color: #fff;\n",
        "    border-radius: 8px;\n",
        "    box-shadow: 0 2px 10px rgba(0, 0, 0, 0.1);\n",
        "}\n",
        "\n",
        "label {\n",
        "    display: block;\n",
        "    margin-bottom: 8px;\n",
        "}\n",
        "\n",
        "input {\n",
        "    width: 100%;\n",
        "    padding: 10px;\n",
        "    margin-bottom: 15px;\n",
        "    border: 1px solid #ddd;\n",
        "    border-radius: 4px;\n",
        "}\n",
        "\n",
        "button {\n",
        "    width: 100%;\n",
        "    padding: 10px;\n",
        "    background-color: #28a745;\n",
        "    color: #fff;\n",
        "    border: none;\n",
        "    border-radius: 4px;\n",
        "    cursor: pointer;\n",
        "}\n",
        "\n",
        "button:hover {\n",
        "    background-color: #218838;\n",
        "}\n",
        "\n",
        "a {\n",
        "    display: block;\n",
        "    text-align: center;\n",
        "    margin-top: 20px;\n",
        "    color: #007bff;\n",
        "}\n",
        "```"
      ],
      "metadata": {
        "id": "vhcf6p5woe7z"
      }
    },
    {
      "cell_type": "markdown",
      "source": [
        "## Creating Dynamic Visualizations with JavaScript\n",
        "```\n",
        "# static/js > scripts.js\n",
        "<!-- Add this in your `expenses.html` file -->\n",
        "<canvas id=\"expenseChart\"></canvas>\n",
        "<script src=\"https://cdn.jsdelivr.net/npm/chart.js\"></script>\n",
        "<script src=\"{{ url_for('static', filename='js/scripts.js') }}\"></script>\n",
        "\n",
        "document.addEventListener(\"DOMContentLoaded\", function() {\n",
        "    // Fetch the expense data from the backend\n",
        "    const expenseData = JSON.parse('{{ expenses | tojson | safe }}');\n",
        "    \n",
        "    const categories = {};\n",
        "\n",
        "    // Categorize the expenses and sum the amounts per category\n",
        "    expenseData.forEach(expense => {\n",
        "        const category = expense[2]; // Assuming category is the third element in the expense array\n",
        "        const amount = parseFloat(expense[3]); // Assuming amount is the fourth element in the expense array\n",
        "        if (!isNaN(amount)) {\n",
        "            categories[category] = (categories[category] || 0) + amount;\n",
        "        }\n",
        "    });\n",
        "    \n",
        "    // Prepare the data for the chart\n",
        "    const chartData = {\n",
        "        labels: Object.keys(categories),\n",
        "        datasets: [{\n",
        "            label: 'Spending by Category',\n",
        "            data: Object.values(categories),\n",
        "            backgroundColor: 'rgba(75, 192, 192, 0.2)',\n",
        "            borderColor: 'rgba(75, 192, 192, 1)',\n",
        "            borderWidth: 1\n",
        "        }]\n",
        "    };\n",
        "\n",
        "    // Get the context of the canvas element and create the chart\n",
        "    const ctx = document.getElementById('expenseChart').getContext('2d');\n",
        "    new Chart(ctx, {\n",
        "        type: 'bar',\n",
        "        data: chartData,\n",
        "        options: {\n",
        "            scales: {\n",
        "                y: {\n",
        "                    beginAtZero: true\n",
        "                }\n",
        "            }\n",
        "        }\n",
        "    });\n",
        "});\n",
        "```"
      ],
      "metadata": {
        "id": "i3enem3soimq"
      }
    },
    {
      "cell_type": "markdown",
      "source": [
        "# Enhancing User Experience with Additional Features\n",
        "## Enhancing User Experience with Additional Features\n"
      ],
      "metadata": {
        "id": "AkQL_QfmosSC"
      }
    },
    {
      "cell_type": "code",
      "source": [
        "from flask import Flask, render_template, redirect, url_for, request, flash\n",
        "from flask_sqlalchemy import SQLAlchemy\n",
        "from flask_login import LoginManager, UserMixin, login_user, logout_user, login_required, current_user\n",
        "\n",
        "app = Flask(__name__)\n",
        "app.config['SQLALCHEMY_DATABASE_URI'] = 'sqlite:///db/expenses.db'\n",
        "app.config['SECRET_KEY'] = 'your_secret_key'\n",
        "\n",
        "db = SQLAlchemy(app)\n",
        "login_manager = LoginManager(app)\n",
        "login_manager.login_view = 'login'\n",
        "\n",
        "class User(UserMixin, db.Model):\n",
        "    id = db.Column(db.Integer, primary_key=True)\n",
        "    username = db.Column(db.String(150), unique=True, nullable=False)\n",
        "    password = db.Column(db.String(150), nullable=False)\n",
        "\n",
        "@login_manager.user_loader\n",
        "def load_user(user_id):\n",
        "    return User.query.get(int(user_id))\n",
        "\n",
        "# Additional routes for user authentication (register, login, logout)\n",
        "\n",
        "@app.route('/expenses', methods=['GET', 'POST'])\n",
        "def view_expenses():\n",
        "    query = \"SELECT * FROM expenses WHERE user_id = ?\"\n",
        "    filters = [current_user.id]\n",
        "\n",
        "    if request.method == 'POST':\n",
        "        if request.form['start_date']:\n",
        "            query += \" AND date >= ?\"\n",
        "            filters.append(request.form['start_date'])\n",
        "        if request.form['end_date']:\n",
        "            query += \" AND date <= ?\"\n",
        "            filters.append(request.form['end_date'])\n",
        "        if request.form['category']:\n",
        "            query += \" AND category = ?\"\n",
        "            filters.append(request.form['category'])\n",
        "\n",
        "    with sqlite3.connect('db/expenses.db') as conn:\n",
        "        cursor = conn.cursor()\n",
        "        cursor.execute(query, filters)\n",
        "        expenses = cursor.fetchall()\n",
        "\n",
        "@app.route('/export_csv')\n",
        "@login_required\n",
        "def export_csv():\n",
        "    with sqlite3.connect('db/expenses.db') as conn:\n",
        "        cursor = conn.cursor()\n",
        "        cursor.execute(\"SELECT * FROM expenses WHERE user_id = ?\", (current_user.id,))\n",
        "        expenses = cursor.fetchall()\n",
        "\n",
        "    output = io.StringIO()\n",
        "    writer = csv.writer(output)\n",
        "    writer.writerow(['Date', 'Category', 'Amount', 'Description'])\n",
        "\n",
        "    for expense in expenses:\n",
        "        writer.writerow(expense[1:])\n",
        "\n",
        "    output.seek(0)\n",
        "\n",
        "    return Response(output, mimetype='text/csv',\n",
        "                    headers={\"Content-Disposition\": \"attachment;filename=expenses.csv\"})"
      ],
      "metadata": {
        "id": "g8dtIsq6oI0M"
      },
      "execution_count": 5,
      "outputs": []
    },
    {
      "cell_type": "markdown",
      "source": [
        "# Deploying Your Expense Tracker\n",
        "```\n",
        "heroku login\n",
        "heroku create your-app-name\n",
        "git push heroku main\n",
        "heroku open\n",
        "```"
      ],
      "metadata": {
        "id": "jiiBGNhPo3vC"
      }
    }
  ]
}