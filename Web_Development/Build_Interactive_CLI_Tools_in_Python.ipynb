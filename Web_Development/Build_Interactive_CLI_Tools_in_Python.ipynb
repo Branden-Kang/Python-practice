{
  "nbformat": 4,
  "nbformat_minor": 0,
  "metadata": {
    "colab": {
      "name": "Build Interactive CLI Tools in Python.ipynb",
      "provenance": [],
      "authorship_tag": "ABX9TyOH0V97PJ7xj6kiCG+VrkLE"
    },
    "kernelspec": {
      "name": "python3",
      "display_name": "Python 3"
    }
  },
  "cells": [
    {
      "cell_type": "markdown",
      "metadata": {
        "id": "W_SZXqNRDGEl"
      },
      "source": [
        "[Reference](https://medium.com/geekculture/build-interactive-cli-tools-in-python-47303c50d75)"
      ]
    },
    {
      "cell_type": "code",
      "metadata": {
        "colab": {
          "base_uri": "https://localhost:8080/"
        },
        "id": "cl8FZtU7C0eO",
        "outputId": "6bfe583c-7862-47fb-d89d-c6a39d941f70"
      },
      "source": [
        "pip install click"
      ],
      "execution_count": 1,
      "outputs": [
        {
          "output_type": "stream",
          "text": [
            "Requirement already satisfied: click in /usr/local/lib/python3.7/dist-packages (7.1.2)\n"
          ],
          "name": "stdout"
        }
      ]
    },
    {
      "cell_type": "code",
      "metadata": {
        "colab": {
          "base_uri": "https://localhost:8080/",
          "height": 235
        },
        "id": "pUyx1IGwCBlA",
        "outputId": "d66a8440-bc5e-4bc2-d37c-03e744b607f8"
      },
      "source": [
        "import click\n",
        "\n",
        "\n",
        "@click.group()\n",
        "def main():\n",
        "    pass\n",
        "\n",
        "\n",
        "@main.command()\n",
        "@click.option(\"--a\", prompt=\" Enter the first number\", type=int)\n",
        "@click.option(\"--b\", prompt=\" Enter the second number\", type=int)\n",
        "def add(a, b):\n",
        "    value = a + b\n",
        "    click.echo(\" The added value {}\".format(value))\n",
        "\n",
        "\n",
        "@main.command()\n",
        "@click.option(\"--a\", prompt=\" Enter the first number\", type=int)\n",
        "@click.option(\"--b\", prompt=\" Enter the second number\", type=int)\n",
        "def sub(a, b):\n",
        "    value = a - b\n",
        "    click.echo(\" The difference is {}\".format(value))\n",
        "\n",
        "\n",
        "@main.command()\n",
        "@click.option(\"--a\", prompt=\" Enter the first number\", type=int)\n",
        "@click.option(\"--b\", prompt=\" Enter the second number\", type=int)\n",
        "def mul(a, b):\n",
        "    value = a * b\n",
        "    click.echo(\" The multiplied value {}\".format(value))\n",
        "\n",
        "\n",
        "@main.command()\n",
        "@click.option(\"--a\", prompt=\" Enter the first number\", type=int)\n",
        "@click.option(\"--b\", prompt=\" Enter the second number\", type=int)\n",
        "def div(a, b):\n",
        "    value = a / b\n",
        "    click.echo(\" The  value {}\".format(value))\n",
        "\n",
        "\n",
        "if __name__ == \"__main__\":\n",
        "    main()"
      ],
      "execution_count": 2,
      "outputs": [
        {
          "output_type": "stream",
          "text": [
            "Usage: ipykernel_launcher.py [OPTIONS] COMMAND [ARGS]...\n",
            "Try 'ipykernel_launcher.py --help' for help.\n",
            "\n",
            "Error: no such option: -f\n"
          ],
          "name": "stderr"
        },
        {
          "output_type": "error",
          "ename": "SystemExit",
          "evalue": "ignored",
          "traceback": [
            "An exception has occurred, use %tb to see the full traceback.\n",
            "\u001b[0;31mSystemExit\u001b[0m\u001b[0;31m:\u001b[0m 2\n"
          ]
        },
        {
          "output_type": "stream",
          "text": [
            "/usr/local/lib/python3.7/dist-packages/IPython/core/interactiveshell.py:2890: UserWarning: To exit: use 'exit', 'quit', or Ctrl-D.\n",
            "  warn(\"To exit: use 'exit', 'quit', or Ctrl-D.\", stacklevel=1)\n"
          ],
          "name": "stderr"
        }
      ]
    },
    {
      "cell_type": "code",
      "metadata": {
        "colab": {
          "base_uri": "https://localhost:8080/",
          "height": 496
        },
        "id": "TRQSP6HUC4nf",
        "outputId": "d4a93cf5-bd4b-4ea8-c61e-683bdadc6703"
      },
      "source": [
        "pip install PyInquirer"
      ],
      "execution_count": 3,
      "outputs": [
        {
          "output_type": "stream",
          "text": [
            "Collecting PyInquirer\n",
            "  Downloading https://files.pythonhosted.org/packages/fb/4c/434b7c454010a284b49d6f1d446fe8dc5960415613d8c0225b9e2efb6724/PyInquirer-1.0.3.tar.gz\n",
            "Collecting prompt_toolkit==1.0.14\n",
            "\u001b[?25l  Downloading https://files.pythonhosted.org/packages/ee/3d/b25d35a9f0d381dd1c02d8e04b37c353caaaff4bc32150328eeebe4931f5/prompt_toolkit-1.0.14-py3-none-any.whl (248kB)\n",
            "\u001b[K     |████████████████████████████████| 256kB 8.2MB/s \n",
            "\u001b[?25hRequirement already satisfied: Pygments>=2.2.0 in /usr/local/lib/python3.7/dist-packages (from PyInquirer) (2.6.1)\n",
            "Requirement already satisfied: regex>=2016.11.21 in /usr/local/lib/python3.7/dist-packages (from PyInquirer) (2019.12.20)\n",
            "Requirement already satisfied: six>=1.9.0 in /usr/local/lib/python3.7/dist-packages (from prompt_toolkit==1.0.14->PyInquirer) (1.15.0)\n",
            "Requirement already satisfied: wcwidth in /usr/local/lib/python3.7/dist-packages (from prompt_toolkit==1.0.14->PyInquirer) (0.2.5)\n",
            "Building wheels for collected packages: PyInquirer\n",
            "  Building wheel for PyInquirer (setup.py) ... \u001b[?25l\u001b[?25hdone\n",
            "  Created wheel for PyInquirer: filename=PyInquirer-1.0.3-cp37-none-any.whl size=32853 sha256=db127ee06b285b69065086a8ee7e28759a0b13fa44bfb2bda0eb5a8de6691a81\n",
            "  Stored in directory: /root/.cache/pip/wheels/52/6c/b1/3e4b0e8daf42a92883c7641c0ea8ffb62e0490ebed2faa55ad\n",
            "Successfully built PyInquirer\n",
            "Installing collected packages: prompt-toolkit, PyInquirer\n",
            "  Found existing installation: prompt-toolkit 1.0.18\n",
            "    Uninstalling prompt-toolkit-1.0.18:\n",
            "      Successfully uninstalled prompt-toolkit-1.0.18\n",
            "Successfully installed PyInquirer-1.0.3 prompt-toolkit-1.0.14\n"
          ],
          "name": "stdout"
        },
        {
          "output_type": "display_data",
          "data": {
            "application/vnd.colab-display-data+json": {
              "pip_warning": {
                "packages": [
                  "prompt_toolkit"
                ]
              }
            }
          },
          "metadata": {
            "tags": []
          }
        }
      ]
    },
    {
      "cell_type": "code",
      "metadata": {
        "colab": {
          "base_uri": "https://localhost:8080/",
          "height": 409
        },
        "id": "hxeUKaNEC-zn",
        "outputId": "6c719e45-c77a-48a4-f195-e9715b23e58a"
      },
      "source": [
        "from PyInquirer import prompt\n",
        "from examples import custom_style_2\n",
        "from prompt_toolkit.validation import Validator, ValidationError\n",
        "\n",
        "\n",
        "class NumberValidator(Validator):\n",
        "\n",
        "    def validate(self, document):\n",
        "        try:\n",
        "            int(document.text)\n",
        "        except ValueError:\n",
        "            raise ValidationError(message=\"Please enter a number\",\n",
        "                                  cursor_position=len(document.text))\n",
        "\n",
        "\n",
        "\n",
        "\n",
        "questions = [\n",
        "    {\n",
        "        'type': 'list',\n",
        "        'name': 'user_option',\n",
        "        'message': 'Welcome to simple calculator',\n",
        "        'choices': [\"sum\",\"difference\",\"product\", \"divide\"]\n",
        "    },\n",
        "\n",
        "    {\n",
        "        'type': \"input\",\n",
        "        \"name\": \"a\",\n",
        "        \"message\": \"Enter the first number\",\n",
        "        \"validate\": NumberValidator,\n",
        "        \"filter\": lambda val: int(val)\n",
        "    },\n",
        "\n",
        "    {\n",
        "        'type': \"input\",\n",
        "        \"name\": \"b\",\n",
        "        \"message\": \"Enter the second number\",\n",
        "        \"validate\": NumberValidator,\n",
        "        \"filter\": lambda val: int(val)\n",
        "    }\n",
        "\n",
        "\n",
        "]\n",
        "\n",
        "def add(a, b):\n",
        "    print(a + b)\n",
        "\n",
        "def difference(a, b):\n",
        "    print(a - b)\n",
        "\n",
        "def product(a, b):\n",
        "    print(a * b)\n",
        "\n",
        "\n",
        "def divide(a, b):\n",
        "    print(a / b)\n",
        "\n",
        "\n",
        "def main():\n",
        "    answers = prompt(questions, style=custom_style_2)\n",
        "    a = answers.get(\"a\")\n",
        "    b = answers.get(\"b\")\n",
        "    if answers.get(\"user_option\") == \"sum\":\n",
        "        add(a, b)\n",
        "    elif answers.get(\"user_option\") == \"difference\":\n",
        "        difference(a, b)\n",
        "    elif answers.get(\"user_option\") == \"product\":\n",
        "        product(a, b)\n",
        "    elif answers.get(\"user_option\") == \"divide\":\n",
        "        divide(a, b)\n",
        "\n",
        "\n",
        "if __name__ == \"__main__\":\n",
        "    main()"
      ],
      "execution_count": 4,
      "outputs": [
        {
          "output_type": "error",
          "ename": "AssertionError",
          "evalue": "ignored",
          "traceback": [
            "\u001b[0;31m---------------------------------------------------------------------------\u001b[0m",
            "\u001b[0;31mAssertionError\u001b[0m                            Traceback (most recent call last)",
            "\u001b[0;32m<ipython-input-4-31081d8ebc83>\u001b[0m in \u001b[0;36m<module>\u001b[0;34m()\u001b[0m\n\u001b[1;32m     72\u001b[0m \u001b[0;34m\u001b[0m\u001b[0m\n\u001b[1;32m     73\u001b[0m \u001b[0;32mif\u001b[0m \u001b[0m__name__\u001b[0m \u001b[0;34m==\u001b[0m \u001b[0;34m\"__main__\"\u001b[0m\u001b[0;34m:\u001b[0m\u001b[0;34m\u001b[0m\u001b[0;34m\u001b[0m\u001b[0m\n\u001b[0;32m---> 74\u001b[0;31m     \u001b[0mmain\u001b[0m\u001b[0;34m(\u001b[0m\u001b[0;34m)\u001b[0m\u001b[0;34m\u001b[0m\u001b[0;34m\u001b[0m\u001b[0m\n\u001b[0m",
            "\u001b[0;32m<ipython-input-4-31081d8ebc83>\u001b[0m in \u001b[0;36mmain\u001b[0;34m()\u001b[0m\n\u001b[1;32m     58\u001b[0m \u001b[0;34m\u001b[0m\u001b[0m\n\u001b[1;32m     59\u001b[0m \u001b[0;32mdef\u001b[0m \u001b[0mmain\u001b[0m\u001b[0;34m(\u001b[0m\u001b[0;34m)\u001b[0m\u001b[0;34m:\u001b[0m\u001b[0;34m\u001b[0m\u001b[0;34m\u001b[0m\u001b[0m\n\u001b[0;32m---> 60\u001b[0;31m     \u001b[0manswers\u001b[0m \u001b[0;34m=\u001b[0m \u001b[0mprompt\u001b[0m\u001b[0;34m(\u001b[0m\u001b[0mquestions\u001b[0m\u001b[0;34m,\u001b[0m \u001b[0mstyle\u001b[0m\u001b[0;34m=\u001b[0m\u001b[0mcustom_style_2\u001b[0m\u001b[0;34m)\u001b[0m\u001b[0;34m\u001b[0m\u001b[0;34m\u001b[0m\u001b[0m\n\u001b[0m\u001b[1;32m     61\u001b[0m     \u001b[0ma\u001b[0m \u001b[0;34m=\u001b[0m \u001b[0manswers\u001b[0m\u001b[0;34m.\u001b[0m\u001b[0mget\u001b[0m\u001b[0;34m(\u001b[0m\u001b[0;34m\"a\"\u001b[0m\u001b[0;34m)\u001b[0m\u001b[0;34m\u001b[0m\u001b[0;34m\u001b[0m\u001b[0m\n\u001b[1;32m     62\u001b[0m     \u001b[0mb\u001b[0m \u001b[0;34m=\u001b[0m \u001b[0manswers\u001b[0m\u001b[0;34m.\u001b[0m\u001b[0mget\u001b[0m\u001b[0;34m(\u001b[0m\u001b[0;34m\"b\"\u001b[0m\u001b[0;34m)\u001b[0m\u001b[0;34m\u001b[0m\u001b[0;34m\u001b[0m\u001b[0m\n",
            "\u001b[0;32m/usr/local/lib/python3.7/dist-packages/PyInquirer/prompt.py\u001b[0m in \u001b[0;36mprompt\u001b[0;34m(questions, answers, **kwargs)\u001b[0m\n\u001b[1;32m     73\u001b[0m                 \u001b[0mtrue_color\u001b[0m\u001b[0;34m=\u001b[0m\u001b[0mtrue_color\u001b[0m\u001b[0;34m,\u001b[0m\u001b[0;34m\u001b[0m\u001b[0;34m\u001b[0m\u001b[0m\n\u001b[1;32m     74\u001b[0m                 \u001b[0mrefresh_interval\u001b[0m\u001b[0;34m=\u001b[0m\u001b[0mrefresh_interval\u001b[0m\u001b[0;34m,\u001b[0m\u001b[0;34m\u001b[0m\u001b[0;34m\u001b[0m\u001b[0m\n\u001b[0;32m---> 75\u001b[0;31m                 eventloop=eventloop)\n\u001b[0m\u001b[1;32m     76\u001b[0m \u001b[0;34m\u001b[0m\u001b[0m\n\u001b[1;32m     77\u001b[0m             \u001b[0;32mif\u001b[0m \u001b[0manswer\u001b[0m \u001b[0;32mis\u001b[0m \u001b[0;32mnot\u001b[0m \u001b[0;32mNone\u001b[0m\u001b[0;34m:\u001b[0m\u001b[0;34m\u001b[0m\u001b[0;34m\u001b[0m\u001b[0m\n",
            "\u001b[0;32m/usr/local/lib/python3.7/dist-packages/prompt_toolkit/shortcuts.py\u001b[0m in \u001b[0;36mrun_application\u001b[0;34m(application, patch_stdout, return_asyncio_coroutine, true_color, refresh_interval, eventloop)\u001b[0m\n\u001b[1;32m    574\u001b[0m         \u001b[0mapplication\u001b[0m\u001b[0;34m=\u001b[0m\u001b[0mapplication\u001b[0m\u001b[0;34m,\u001b[0m\u001b[0;34m\u001b[0m\u001b[0;34m\u001b[0m\u001b[0m\n\u001b[1;32m    575\u001b[0m         \u001b[0meventloop\u001b[0m\u001b[0;34m=\u001b[0m\u001b[0meventloop\u001b[0m\u001b[0;34m,\u001b[0m\u001b[0;34m\u001b[0m\u001b[0;34m\u001b[0m\u001b[0m\n\u001b[0;32m--> 576\u001b[0;31m         output=create_output(true_color=true_color))\n\u001b[0m\u001b[1;32m    577\u001b[0m \u001b[0;34m\u001b[0m\u001b[0m\n\u001b[1;32m    578\u001b[0m     \u001b[0;31m# Set up refresh interval.\u001b[0m\u001b[0;34m\u001b[0m\u001b[0;34m\u001b[0m\u001b[0;34m\u001b[0m\u001b[0m\n",
            "\u001b[0;32m/usr/local/lib/python3.7/dist-packages/prompt_toolkit/shortcuts.py\u001b[0m in \u001b[0;36mcreate_output\u001b[0;34m(stdout, true_color, ansi_colors_only)\u001b[0m\n\u001b[1;32m    124\u001b[0m         return Vt100_Output.from_pty(\n\u001b[1;32m    125\u001b[0m             \u001b[0mstdout\u001b[0m\u001b[0;34m,\u001b[0m \u001b[0mtrue_color\u001b[0m\u001b[0;34m=\u001b[0m\u001b[0mtrue_color\u001b[0m\u001b[0;34m,\u001b[0m\u001b[0;34m\u001b[0m\u001b[0;34m\u001b[0m\u001b[0m\n\u001b[0;32m--> 126\u001b[0;31m             ansi_colors_only=ansi_colors_only, term=term)\n\u001b[0m\u001b[1;32m    127\u001b[0m \u001b[0;34m\u001b[0m\u001b[0m\n\u001b[1;32m    128\u001b[0m \u001b[0;34m\u001b[0m\u001b[0m\n",
            "\u001b[0;32m/usr/local/lib/python3.7/dist-packages/prompt_toolkit/terminal/vt100_output.py\u001b[0m in \u001b[0;36mfrom_pty\u001b[0;34m(cls, stdout, true_color, ansi_colors_only, term)\u001b[0m\n\u001b[1;32m    422\u001b[0m         terminal attributes.)\n\u001b[1;32m    423\u001b[0m         \"\"\"\n\u001b[0;32m--> 424\u001b[0;31m         \u001b[0;32massert\u001b[0m \u001b[0mstdout\u001b[0m\u001b[0;34m.\u001b[0m\u001b[0misatty\u001b[0m\u001b[0;34m(\u001b[0m\u001b[0;34m)\u001b[0m\u001b[0;34m\u001b[0m\u001b[0;34m\u001b[0m\u001b[0m\n\u001b[0m\u001b[1;32m    425\u001b[0m         \u001b[0;32mdef\u001b[0m \u001b[0mget_size\u001b[0m\u001b[0;34m(\u001b[0m\u001b[0;34m)\u001b[0m\u001b[0;34m:\u001b[0m\u001b[0;34m\u001b[0m\u001b[0;34m\u001b[0m\u001b[0m\n\u001b[1;32m    426\u001b[0m             \u001b[0mrows\u001b[0m\u001b[0;34m,\u001b[0m \u001b[0mcolumns\u001b[0m \u001b[0;34m=\u001b[0m \u001b[0m_get_size\u001b[0m\u001b[0;34m(\u001b[0m\u001b[0mstdout\u001b[0m\u001b[0;34m.\u001b[0m\u001b[0mfileno\u001b[0m\u001b[0;34m(\u001b[0m\u001b[0;34m)\u001b[0m\u001b[0;34m)\u001b[0m\u001b[0;34m\u001b[0m\u001b[0;34m\u001b[0m\u001b[0m\n",
            "\u001b[0;31mAssertionError\u001b[0m: "
          ]
        }
      ]
    }
  ]
}