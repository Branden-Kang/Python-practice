{
  "nbformat": 4,
  "nbformat_minor": 0,
  "metadata": {
    "colab": {
      "name": "Build an Auto-Scaling Transcoding Platform Using Python, FFmpeg & AWS.ipynb",
      "provenance": [],
      "authorship_tag": "ABX9TyOvNWCrUl8pdZo0bzAp6Jx7"
    },
    "kernelspec": {
      "name": "python3",
      "display_name": "Python 3"
    },
    "language_info": {
      "name": "python"
    }
  },
  "cells": [
    {
      "cell_type": "markdown",
      "source": [
        "[Reference](https://luis-sena.medium.com/build-an-auto-scaling-transcoding-platform-using-python-ffmpeg-aws-950645fe5e07)"
      ],
      "metadata": {
        "id": "odfCGnjId2Pz"
      }
    },
    {
      "cell_type": "markdown",
      "source": [
        "![architecture](https://miro.medium.com/max/322/1*SjebMRrURGwdTIl8VbjtiA.png)\""
      ],
      "metadata": {
        "id": "BxS6VozJdze5"
      }
    },
    {
      "cell_type": "code",
      "execution_count": 1,
      "metadata": {
        "id": "GF_VbQhScSmz"
      },
      "outputs": [],
      "source": [
        "import json\n",
        "import logging\n",
        "import os\n",
        "import subprocess\n",
        "\n",
        "import boto3\n",
        "import flask\n",
        "from flask import request, Response\n",
        "\n",
        "TRANSCODE_BUCKET_NAME = '<set your destination bucket name>'\n",
        "\n",
        "def upload_folder(src_directory, target_s3_directory):\n",
        "    s3 = boto3.client('s3')\n",
        "    for root, dirs, files in os.walk(src_directory):\n",
        "        for filename in files:\n",
        "            local_path = os.path.join(root, filename)\n",
        "\n",
        "            relative_path = os.path.relpath(local_path, src_directory)\n",
        "            s3_path = os.path.join(target_s3_directory, relative_path)\n",
        "            s3.upload_file(local_path, TRANSCODE_BUCKET_NAME, s3_path)\n",
        "\n",
        "\n",
        "# Create and configure the Flask app\n",
        "app = flask.Flask(__name__)\n",
        "\n",
        "\n",
        "@app.route('/transcode-video', methods=['POST'])\n",
        "def customer_registered():\n",
        "    \"\"\"transcode video\"\"\"\n",
        "\n",
        "    response = None\n",
        "    if request.json is None:\n",
        "        # Expect application/json request\n",
        "        response = Response(\"\", status=415)\n",
        "    else:\n",
        "        try:\n",
        "            if request.json.has_key('TopicArn') and request.json.has_key('Message'):\n",
        "                message = json.loads(request.json['Message'])\n",
        "            else:\n",
        "                message = request.json\n",
        "\n",
        "            # download from s3\n",
        "            s3 = boto3.client('s3')\n",
        "            download_path = '<set your download path>'\n",
        "            s3.download(message['file_path'], download_path)\n",
        "            HLS_PATH = 'target_hls'\n",
        "\n",
        "            # FFmpeg transcode command\n",
        "            cmd = f'ffmpeg -i {download_path} -filter_complex \"[v:0]split=3[vout001][vout002][vout003]\" \\\n",
        "                      -preset ultrafast -g 25 -sc_threshold 0 \\\n",
        "                      -map [vout001] -s:v:0 1280x720 -c:v:0 libx264 -b:v:0 2600k \\\n",
        "                      -map [vout002] -s:v:1 854x480 -c:v:1 libx264 -b:v:1 1600k \\\n",
        "                      -map [vout003] -s:v:2 640x360 -c:v:2 libx264 -b:v:2 1024k \\\n",
        "                      -map a:0 -map a:0 -map a:0 -c:a aac -b:a 128k -ac 2 \\\n",
        "                      -f hls -hls_time 4 -hls_playlist_type vod \\\n",
        "                      -master_pl_name index.m3u8 \\\n",
        "                      -strftime 1 -hls_segment_filename {HLS_PATH}/version_%v/data-%Y%m%d-%s.ts \\\n",
        "                      -use_localtime_mkdir 1 \\\n",
        "                      -max_muxing_queue_size 9999 \\\n",
        "                      -var_stream_map \"v:0,a:0 v:1,a:1 v:2,a:2\" {HLS_PATH}/version_%v.m3u8'\n",
        "\n",
        "            # call FFmpeg directly\n",
        "            process = subprocess.Popen(cmd,\n",
        "                                       stdin=subprocess.PIPE, stdout=subprocess.PIPE, stderr=subprocess.PIPE,\n",
        "                                       universal_newlines=True, shell=True, start_new_session=True\n",
        "                                       )\n",
        "            # wait for FFmpeg to finish\n",
        "            process.communicate()\n",
        "            upload_folder(HLS_PATH, HLS_PATH)\n",
        "            response = Response(\"\", status=200)\n",
        "        except Exception as ex:\n",
        "            logging.exception('Error processing message: %s' % request.json)\n",
        "            response = Response(str(ex), status=500)\n",
        "\n",
        "    return response\n",
        "\n",
        "\n",
        "if __name__ == '__main__':\n",
        "    app.run(host='0.0.0.0')"
      ]
    }
  ]
}