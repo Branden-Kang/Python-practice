{
  "nbformat": 4,
  "nbformat_minor": 0,
  "metadata": {
    "colab": {
      "name": "Voice Recognization using Python..ipynb",
      "provenance": [],
      "authorship_tag": "ABX9TyM1IDDYf3x89fgv+Bjp/W6L"
    },
    "kernelspec": {
      "name": "python3",
      "display_name": "Python 3"
    },
    "language_info": {
      "name": "python"
    }
  },
  "cells": [
    {
      "cell_type": "markdown",
      "metadata": {
        "id": "SRkxIb_6moBO"
      },
      "source": [
        "[Reference1](https://medium.com/@yashpatel007/voice-recognization-using-python-5ca539066aae) <br>\n",
        "[Reference2](https://github.com/yashpatel007/voicecode)"
      ]
    },
    {
      "cell_type": "code",
      "metadata": {
        "colab": {
          "base_uri": "https://localhost:8080/"
        },
        "id": "eDfOALIDmlyW",
        "outputId": "28750d3f-bdd0-47fa-e5c4-8cf1b602c6cf"
      },
      "source": [
        "!pip install SpeechRecognition\n",
        "!pip install PyAudio"
      ],
      "execution_count": 1,
      "outputs": [
        {
          "output_type": "stream",
          "name": "stdout",
          "text": [
            "Collecting SpeechRecognition\n",
            "  Downloading SpeechRecognition-3.8.1-py2.py3-none-any.whl (32.8 MB)\n",
            "\u001b[K     |████████████████████████████████| 32.8 MB 35 kB/s \n",
            "\u001b[?25hInstalling collected packages: SpeechRecognition\n",
            "Successfully installed SpeechRecognition-3.8.1\n",
            "Collecting PyAudio\n",
            "  Downloading PyAudio-0.2.11.tar.gz (37 kB)\n",
            "Building wheels for collected packages: PyAudio\n",
            "  Building wheel for PyAudio (setup.py) ... \u001b[?25lerror\n",
            "\u001b[31m  ERROR: Failed building wheel for PyAudio\u001b[0m\n",
            "\u001b[?25h  Running setup.py clean for PyAudio\n",
            "Failed to build PyAudio\n",
            "Installing collected packages: PyAudio\n",
            "    Running setup.py install for PyAudio ... \u001b[?25l\u001b[?25herror\n",
            "\u001b[31mERROR: Command errored out with exit status 1: /usr/bin/python3 -u -c 'import io, os, sys, setuptools, tokenize; sys.argv[0] = '\"'\"'/tmp/pip-install-jp69niy_/pyaudio_682ca67f50f949c4917a9cb8a628dc9a/setup.py'\"'\"'; __file__='\"'\"'/tmp/pip-install-jp69niy_/pyaudio_682ca67f50f949c4917a9cb8a628dc9a/setup.py'\"'\"';f = getattr(tokenize, '\"'\"'open'\"'\"', open)(__file__) if os.path.exists(__file__) else io.StringIO('\"'\"'from setuptools import setup; setup()'\"'\"');code = f.read().replace('\"'\"'\\r\\n'\"'\"', '\"'\"'\\n'\"'\"');f.close();exec(compile(code, __file__, '\"'\"'exec'\"'\"'))' install --record /tmp/pip-record-a3_ejv9_/install-record.txt --single-version-externally-managed --compile --install-headers /usr/local/include/python3.7/PyAudio Check the logs for full command output.\u001b[0m\n"
          ]
        }
      ]
    },
    {
      "cell_type": "code",
      "metadata": {
        "id": "krZVkWkGnFtQ"
      },
      "source": [
        "import speech_recognition as sr"
      ],
      "execution_count": 4,
      "outputs": []
    },
    {
      "cell_type": "code",
      "metadata": {
        "id": "AgAFyt7nmsy1"
      },
      "source": [
        "class VoiceCode():\n",
        "    def __init__(self):\n",
        "        # recognizer\n",
        "        self.play = True\n",
        "        self.r = sr.Recognizer()\n",
        "        self.initRecognizer()\n",
        "        self.mic = sr.Microphone()\n",
        "        self.microphones = sr.Microphone.list_microphone_names()\n",
        "    \n",
        "    \"\"\"\n",
        "      Set Energy threashhold for the recognizer: This might differ with loudness and mic quality\n",
        "    \"\"\"\n",
        "    def initRecognizer(self):\n",
        "        self.r.energy_threshold = 400\n",
        "        self.r.dynamic_energy_threshold = True\n",
        "        pass\n",
        "    \n",
        "    \"\"\"\n",
        "    List all available microphones that computer have access to.\n",
        "    \"\"\"\n",
        "    def initMic(self, idx):\n",
        "        #microphones = sr.Microphone.list_microphone_names()\n",
        "        self.mic = sr.Microphone(device_index=idx)\n",
        "        #self.mic = self.setMic(microphones)\n",
        "        pass\n",
        "\n",
        "    \"\"\"\n",
        "    Choose a microphone\n",
        "    \"\"\"\n",
        "    def setMic(self, microphones):\n",
        "        global sr\n",
        "        print(\"choose your microphone\")\n",
        "        for i, microphone in enumerate(microphones):\n",
        "            print(i, \". \", microphone)\n",
        "        while (True):\n",
        "            mic_index = int(input(\"Enter Index: \"))\n",
        "            if(mic_index >= 0 and mic_index < len(microphones)):\n",
        "                break\n",
        "            print(\"Wrong input please enter valid number\\n\")\n",
        "        print(\"Selected mic: \", microphones[mic_index])\n",
        "        mic = sr.Microphone(device_index=mic_index)\n",
        "        return mic\n",
        "\n",
        "    def processvoice(self):\n",
        "        try:\n",
        "            while self.play:\n",
        "                # print(\"listening\")\n",
        "                # record aurio for source(i.e mic) for 0.5 sec\n",
        "                with self.mic as source:\n",
        "                    self.r.adjust_for_ambient_noise(source, duration=0.5)\n",
        "                    audio = self.r.listen(source)\n",
        "                \n",
        "                # process the audio with Google Speech Recognition, tyou can also choose others\n",
        "                voice = self.r.recognize_google(audio, show_all=True)\n",
        "                print(\"command :\", voice)\n",
        "                if(not voice):\n",
        "                    continue\n",
        "\n",
        "                results = set()\n",
        "                for item in voice.get(\"alternative\"):\n",
        "                    results.add(item.get(\"transcript\").lower())\n",
        "                self.processtext(results)\n",
        "\n",
        "        except sr.RequestError:\n",
        "            print(\"API Unavailable\")\n",
        "        except sr.UnknownValueError:\n",
        "            print(\"not recognized\")\n",
        "        except KeyboardInterrupt:\n",
        "            print(\"Press Ctrl-C to terminate while statement\")\n",
        "        pass\n",
        "\n",
        "\n",
        "if __name__ == \"__main__\":\n",
        "    vc = VoiceCode()\n",
        "    def startvoicetype():\n",
        "        startbtn.setEnabled(False)\n",
        "        micoption.setEnabled(False)\n",
        "        langoption.setEnabled(False)\n",
        "        action1.setEnabled(False)\n",
        "        # print(\"starting\")\n",
        "        vc.play = True\n",
        "        vc.initMic(int(micoption.currentIndex()))\n",
        "        vc.setLanguage(str(langoption.currentText()))\n",
        "        # create a separate  thread so the voice recognization does not stall the UI\n",
        "        def run():\n",
        "            try:\n",
        "                vc.processvoice()\n",
        "            except KeyboardInterrupt:\n",
        "                print(\"Press Ctrl-C to terminate while statement\")\n",
        "                pass\n",
        "        thread = threading.Thread(target=run)\n",
        "        thread.setDaemon(True)\n",
        "        thread.setName(\"voiceanalyzer thread\")\n",
        "        thread.start()\n",
        "\n",
        "    def stopvoicetype():\n",
        "        startbtn.setEnabled(True)\n",
        "        micoption.setEnabled(True)\n",
        "        langoption.setEnabled(True)\n",
        "        action1.setEnabled(True)\n",
        "        msg.setText(\"\")\n",
        "        print(\"stopping\")\n",
        "        print(threading.enumerate())\n",
        "        vc.play = False\n",
        "    sys.exit(app.exec_())"
      ],
      "execution_count": 6,
      "outputs": []
    }
  ]
}