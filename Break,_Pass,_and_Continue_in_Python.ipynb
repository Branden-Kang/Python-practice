{
  "nbformat": 4,
  "nbformat_minor": 0,
  "metadata": {
    "colab": {
      "name": "Break, Pass, and Continue in Python.ipynb",
      "provenance": [],
      "authorship_tag": "ABX9TyPsLtvFiJpIbdTQSEgVRgsu"
    },
    "kernelspec": {
      "name": "python3",
      "display_name": "Python 3"
    },
    "language_info": {
      "name": "python"
    }
  },
  "cells": [
    {
      "cell_type": "markdown",
      "metadata": {
        "id": "wJlBeCo2MmPu"
      },
      "source": [
        "[Reference](https://medium.com/daily-programming-tips/day3-break-pass-and-continue-in-python-88710816b581)"
      ]
    },
    {
      "cell_type": "code",
      "metadata": {
        "colab": {
          "base_uri": "https://localhost:8080/"
        },
        "id": "PY_hrn9_Mcnx",
        "outputId": "15df74d0-dea2-4803-ca62-f6fdf920a4de"
      },
      "source": [
        "for i in range(10):\n",
        "    print(f'Num: {i}')\n",
        "    if i == 1:\n",
        "        pass\n",
        "    if i == 5:\n",
        "        continue\n",
        "    if i == 8:\n",
        "        break\n",
        "\n",
        "    print(f'Squared Num: {i*i}')"
      ],
      "execution_count": 2,
      "outputs": [
        {
          "output_type": "stream",
          "text": [
            "Num: 0\n",
            "Squared Num: 0\n",
            "Num: 1\n",
            "Squared Num: 1\n",
            "Num: 2\n",
            "Squared Num: 4\n",
            "Num: 3\n",
            "Squared Num: 9\n",
            "Num: 4\n",
            "Squared Num: 16\n",
            "Num: 5\n",
            "Num: 6\n",
            "Squared Num: 36\n",
            "Num: 7\n",
            "Squared Num: 49\n",
            "Num: 8\n"
          ],
          "name": "stdout"
        }
      ]
    },
    {
      "cell_type": "code",
      "metadata": {
        "colab": {
          "base_uri": "https://localhost:8080/"
        },
        "id": "vggfSSIWMx8l",
        "outputId": "d6076064-adc0-4675-f441-8a9be8e1114a"
      },
      "source": [
        "for i in range(15):\n",
        "    print(f'Num: {i}')\n",
        "    if i > 3:\n",
        "        break\n",
        "    print(f'Squared Num: {i*i}')"
      ],
      "execution_count": 3,
      "outputs": [
        {
          "output_type": "stream",
          "text": [
            "Num: 0\n",
            "Squared Num: 0\n",
            "Num: 1\n",
            "Squared Num: 1\n",
            "Num: 2\n",
            "Squared Num: 4\n",
            "Num: 3\n",
            "Squared Num: 9\n",
            "Num: 4\n"
          ],
          "name": "stdout"
        }
      ]
    },
    {
      "cell_type": "code",
      "metadata": {
        "colab": {
          "base_uri": "https://localhost:8080/"
        },
        "id": "iPj-ALGoM9GP",
        "outputId": "0bebbe4e-1434-498f-d8f1-1479f8b259ca"
      },
      "source": [
        "for i in range(15):\n",
        "    print(f'Num: {i}')\n",
        "    if i > 3:\n",
        "        pass\n",
        "    else:\n",
        "        print(f'{i} is less than 3')\n",
        "    print(f'Squared Num: {i*i}')"
      ],
      "execution_count": 4,
      "outputs": [
        {
          "output_type": "stream",
          "text": [
            "Num: 0\n",
            "0 is less than 3\n",
            "Squared Num: 0\n",
            "Num: 1\n",
            "1 is less than 3\n",
            "Squared Num: 1\n",
            "Num: 2\n",
            "2 is less than 3\n",
            "Squared Num: 4\n",
            "Num: 3\n",
            "3 is less than 3\n",
            "Squared Num: 9\n",
            "Num: 4\n",
            "Squared Num: 16\n",
            "Num: 5\n",
            "Squared Num: 25\n",
            "Num: 6\n",
            "Squared Num: 36\n",
            "Num: 7\n",
            "Squared Num: 49\n",
            "Num: 8\n",
            "Squared Num: 64\n",
            "Num: 9\n",
            "Squared Num: 81\n",
            "Num: 10\n",
            "Squared Num: 100\n",
            "Num: 11\n",
            "Squared Num: 121\n",
            "Num: 12\n",
            "Squared Num: 144\n",
            "Num: 13\n",
            "Squared Num: 169\n",
            "Num: 14\n",
            "Squared Num: 196\n"
          ],
          "name": "stdout"
        }
      ]
    },
    {
      "cell_type": "code",
      "metadata": {
        "colab": {
          "base_uri": "https://localhost:8080/"
        },
        "id": "Vchbs_gkNGnD",
        "outputId": "c5484559-fede-42c1-d9f9-ac9af581042b"
      },
      "source": [
        "for i in range(15):\n",
        "    print(f'Num: {i}')\n",
        "    if i > 3:\n",
        "        continue\n",
        "    else:\n",
        "        print(f'{i} is less than 3')\n",
        "    print(f'Squared Num: {i*i}')"
      ],
      "execution_count": 5,
      "outputs": [
        {
          "output_type": "stream",
          "text": [
            "Num: 0\n",
            "0 is less than 3\n",
            "Squared Num: 0\n",
            "Num: 1\n",
            "1 is less than 3\n",
            "Squared Num: 1\n",
            "Num: 2\n",
            "2 is less than 3\n",
            "Squared Num: 4\n",
            "Num: 3\n",
            "3 is less than 3\n",
            "Squared Num: 9\n",
            "Num: 4\n",
            "Num: 5\n",
            "Num: 6\n",
            "Num: 7\n",
            "Num: 8\n",
            "Num: 9\n",
            "Num: 10\n",
            "Num: 11\n",
            "Num: 12\n",
            "Num: 13\n",
            "Num: 14\n"
          ],
          "name": "stdout"
        }
      ]
    }
  ]
}