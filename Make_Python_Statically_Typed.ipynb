{
  "nbformat": 4,
  "nbformat_minor": 0,
  "metadata": {
    "colab": {
      "name": "Make Python Statically Typed.ipynb",
      "provenance": [],
      "authorship_tag": "ABX9TyPLM/DOOnfKCavpJ1zxEtW7"
    },
    "kernelspec": {
      "name": "python3",
      "display_name": "Python 3"
    }
  },
  "cells": [
    {
      "cell_type": "markdown",
      "metadata": {
        "id": "8mectTDD8k3v"
      },
      "source": [
        "[Reference](https://towardsdatascience.com/how-to-make-python-statically-typed-the-essential-guide-e087cf4fa400)"
      ]
    },
    {
      "cell_type": "markdown",
      "metadata": {
        "id": "qsFj_Tr28m-P"
      },
      "source": [
        "# Type hints"
      ]
    },
    {
      "cell_type": "code",
      "metadata": {
        "colab": {
          "base_uri": "https://localhost:8080/"
        },
        "id": "XJJdFpwq8jY2",
        "outputId": "5b8942b0-f65b-4d1c-9ea7-7f9ea1711115"
      },
      "source": [
        "def sum_numbers(a, b):\n",
        "    return a + b\n",
        "\n",
        "print(sum_numbers(10, 5))\n",
        "print(sum_numbers(10.3, 5))\n",
        "print(sum_numbers('Bob', 'Mark'))"
      ],
      "execution_count": 1,
      "outputs": [
        {
          "output_type": "stream",
          "text": [
            "15\n",
            "15.3\n",
            "BobMark\n"
          ],
          "name": "stdout"
        }
      ]
    },
    {
      "cell_type": "code",
      "metadata": {
        "colab": {
          "base_uri": "https://localhost:8080/"
        },
        "id": "GhuxvEjw8pfJ",
        "outputId": "7d4386bb-d8e3-48b7-d87f-eef5212956b1"
      },
      "source": [
        "def sum_numbers(a: int, b: int) -> int:\n",
        "    return a + b\n",
        "\n",
        "print(sum_numbers(10, 5))\n",
        "print(sum_numbers(10.3, 5))\n",
        "print(sum_numbers('Bob', 'Mark'))"
      ],
      "execution_count": 2,
      "outputs": [
        {
          "output_type": "stream",
          "text": [
            "15\n",
            "15.3\n",
            "BobMark\n"
          ],
          "name": "stdout"
        }
      ]
    },
    {
      "cell_type": "code",
      "metadata": {
        "id": "gMr8QHiR8s5c"
      },
      "source": [
        "name: str = 'Bob'\n",
        "age: int = 32\n",
        "rating: float = 7.9\n",
        "is_premium: bool = True"
      ],
      "execution_count": 3,
      "outputs": []
    },
    {
      "cell_type": "code",
      "metadata": {
        "id": "jzRdu-LX8y1e"
      },
      "source": [
        "from typing import List, Dict\n",
        "\n",
        "names: List[str] = ['Bob', 'Mark', 'Jack']\n",
        "    \n",
        "emails: Dict[str, str] = {\n",
        "    'Bob': 'bob@email.com',\n",
        "    'Mark': 'mark@email.com',\n",
        "    'Jack': 'jack@email.com'\n",
        "}"
      ],
      "execution_count": 4,
      "outputs": []
    },
    {
      "cell_type": "code",
      "metadata": {
        "id": "Bf10jr4L80sQ"
      },
      "source": [
        "def list_summation(lst: List[int]) -> int:\n",
        "    return sum(lst)"
      ],
      "execution_count": 5,
      "outputs": []
    },
    {
      "cell_type": "code",
      "metadata": {
        "colab": {
          "base_uri": "https://localhost:8080/"
        },
        "id": "prXeNIDM83hZ",
        "outputId": "57f7a02f-aa5b-4a97-e7a0-4e2037df68fc"
      },
      "source": [
        "def add_numbers(a: int, b: int) -> int:\n",
        "    return a + b\n",
        "\n",
        "print(add_numbers(10, 5))\n",
        "print(add_numbers(10.3, 5))\n",
        "print(add_numbers('Bob', 'Mark'))"
      ],
      "execution_count": 6,
      "outputs": [
        {
          "output_type": "stream",
          "text": [
            "15\n",
            "15.3\n",
            "BobMark\n"
          ],
          "name": "stdout"
        }
      ]
    }
  ]
}