{
  "nbformat": 4,
  "nbformat_minor": 0,
  "metadata": {
    "colab": {
      "name": "introduction to Machine Learning with Keras.ipynb",
      "provenance": [],
      "authorship_tag": "ABX9TyNcsaFsHWpklCqM8XqjNKAk"
    },
    "kernelspec": {
      "name": "python3",
      "display_name": "Python 3"
    },
    "language_info": {
      "name": "python"
    },
    "accelerator": "TPU"
  },
  "cells": [
    {
      "cell_type": "markdown",
      "metadata": {
        "id": "MKMCrHA8R4bN"
      },
      "source": [
        "[Reference](https://preettheman.medium.com/very-basic-introduction-to-machine-learning-with-keras-python-a5f5fc4a5b0b)"
      ]
    },
    {
      "cell_type": "code",
      "metadata": {
        "id": "vxGAcPRkR3Le"
      },
      "source": [
        "import json\n",
        "import os\n",
        "import pandas as pd\n",
        "import pprint\n",
        "import tensorflow as tf\n",
        "import time\n",
        "import numpy as np\n",
        "from tensorflow import keras"
      ],
      "execution_count": 1,
      "outputs": []
    },
    {
      "cell_type": "code",
      "metadata": {
        "colab": {
          "base_uri": "https://localhost:8080/"
        },
        "id": "xmfuQg17R785",
        "outputId": "10317d49-77a0-4eb8-d5bd-d35cdda11fc5"
      },
      "source": [
        "print(tf.__version__)"
      ],
      "execution_count": 2,
      "outputs": [
        {
          "output_type": "stream",
          "text": [
            "2.5.0\n"
          ],
          "name": "stdout"
        }
      ]
    },
    {
      "cell_type": "code",
      "metadata": {
        "id": "r3rGJyWjR9Hj"
      },
      "source": [
        "import distutils\n",
        "if distutils.version.LooseVersion(tf.__version__) < '1.14':\n",
        "  raise Exception('This notebook is compatible with TensorFlow 1.14 or   higher, for TensorFlow 1.13 or lower please use the previous version   at https://github.com/tensorflow/tpu/blob/r1.13/tools/colab/classification_iris_data_with_keras.ipynb')"
      ],
      "execution_count": 3,
      "outputs": []
    },
    {
      "cell_type": "code",
      "metadata": {
        "id": "OMIo99AjSAYM"
      },
      "source": [
        "use_tpu = True #@param {type:”boolean”}\n",
        "\n",
        "if use_tpu:  \n",
        "    assert 'COLAB_TPU_ADDR' in os.environ, 'Missing TPU; did you request a TPU in Notebook Settings?'\n",
        "\n",
        "if 'COLAB_TPU_ADDR' in os.environ:  \n",
        "    TF_MASTER = 'grpc://{}'.format(os.environ['COLAB_TPU_ADDR'])\n",
        "\n",
        "else:  \n",
        "    TF_MASTER=''"
      ],
      "execution_count": 4,
      "outputs": []
    },
    {
      "cell_type": "code",
      "metadata": {
        "id": "DdTxPPt-SSHB"
      },
      "source": [
        "tpu_address = TF_MASTER"
      ],
      "execution_count": 5,
      "outputs": []
    },
    {
      "cell_type": "code",
      "metadata": {
        "id": "dyKnJI4KSXKa"
      },
      "source": [
        "epochs = 50"
      ],
      "execution_count": 6,
      "outputs": []
    },
    {
      "cell_type": "code",
      "metadata": {
        "id": "96fS5IwfSZdi"
      },
      "source": [
        "steps_per_epoch = 5"
      ],
      "execution_count": 7,
      "outputs": []
    },
    {
      "cell_type": "code",
      "metadata": {
        "id": "3qmERFviSabe"
      },
      "source": [
        "TRAIN_URL = \"http://download.tensorflow.org/data/iris_training.csv\"\n",
        "TEST_URL = \"http://download.tensorflow.org/data/iris_test.csv\""
      ],
      "execution_count": 8,
      "outputs": []
    },
    {
      "cell_type": "code",
      "metadata": {
        "id": "3VJYpyv0Sbqc"
      },
      "source": [
        "CSV_COLUMN_NAMES = ['SepalLength', 'SepalWidth','PetalLength', 'PetalWidth', 'Species']\n",
        "\n",
        "SPECIES = ['Setosa', 'Versicolor', 'Virginica']\n",
        "\n",
        "PREDICTION_INPUT_DATA = {'SepalLength': [6.9, 5.1, 5.9, 6.0, 5.5, 6.2, 5.5, 6.3],'SepalWidth': [3.1, 3.3, 3.0, 3.4, 2.5, 2.9, 4.2, 2.8],'PetalLength': [5.4, 1.7, 4.2, 4.5, 4.0, 4.3, 1.4, 5.1],'PetalWidth': [2.1, 0.5, 1.5, 1.6, 1.3, 1.3, 0.2, 1.5],}\n",
        "\n",
        "PREDICTION_OUTPUT_DATA = ['Virginica', 'Setosa', 'Versicolor', 'Versicolor', 'Versicolor', 'Versicolor', 'Setosa', 'Virginica']"
      ],
      "execution_count": 9,
      "outputs": []
    },
    {
      "cell_type": "code",
      "metadata": {
        "id": "0UbZrMbSSgVa"
      },
      "source": [
        "def maybe_download():\n",
        "  train_path = tf.keras.utils.get_file(TRAIN_URL.split('/')[-1], TRAIN_URL)\n",
        "  test_path = tf.keras.utils.get_file(TEST_URL.split('/')[-1], TEST_URL)\n",
        "  return train_path, test_path\n",
        "  \n",
        "def load_data(y_name='Species'):  \n",
        "    \"\"\"Returns the iris dataset as (train_x, train_y), (test_x, test_y).\"\"\"  \n",
        "    train_path, test_path = maybe_download()\n",
        "    train = pd.read_csv(train_path, names=CSV_COLUMN_NAMES, header=0, dtype={'SepalLength': pd.np.float32,\n",
        "                                                                             'SepalWidth': pd.np.float32, 'PetalLength': pd.np.float32,   'PetalWidth': pd.np.float32, 'Species': pd.np.int32})  \n",
        "    train_x, train_y = train, train.pop(y_name)\n",
        "    test = pd.read_csv(test_path, names=CSV_COLUMN_NAMES, header=0, dtype={'SepalLength': pd.np.float32,  'SepalWidth': pd.np.float32, 'PetalLength': pd.np.float32,  'PetalWidth': pd.np.float32, 'Species': pd.np.int32})\n",
        "  \n",
        "    test_x, test_y = test, test.pop(y_name)\n",
        "  \n",
        "    return (train_x, train_y), (test_x, test_y)"
      ],
      "execution_count": 15,
      "outputs": []
    },
    {
      "cell_type": "code",
      "metadata": {
        "id": "rbs5XNywSjRV"
      },
      "source": [
        "def get_model():  \n",
        "    return keras.Sequential([  \n",
        "                             keras.layers.Dense(10, input_shape=(4,), activation=tf.nn.relu, name = \"Dense_1\"),  \n",
        "                             keras.layers.Dense(10, activation=tf.nn.relu, name = \"Dense_2\"),  \n",
        "                             keras.layers.Dense(3, activation=None, name = \"logits\"),  \n",
        "                             keras.layers.Dense(3, activation=tf.nn.softmax, name = \"softmax\")\n",
        "                             ])"
      ],
      "execution_count": 16,
      "outputs": []
    },
    {
      "cell_type": "code",
      "metadata": {
        "colab": {
          "base_uri": "https://localhost:8080/"
        },
        "id": "emn0cxvrS330",
        "outputId": "9c973153-11a4-4e4a-acfb-89d482f567c9"
      },
      "source": [
        "resolver = tf.distribute.cluster_resolver.TPUClusterResolver(TF_MASTER)\n",
        "tf.config.experimental_connect_to_cluster(resolver)\n",
        "tf.tpu.experimental.initialize_tpu_system(resolver)\n",
        "strategy = tf.distribute.experimental.TPUStrategy(resolver)"
      ],
      "execution_count": 17,
      "outputs": [
        {
          "output_type": "stream",
          "text": [
            "INFO:tensorflow:Initializing the TPU system: grpc://10.65.156.26:8470\n"
          ],
          "name": "stdout"
        },
        {
          "output_type": "stream",
          "text": [
            "INFO:tensorflow:Initializing the TPU system: grpc://10.65.156.26:8470\n"
          ],
          "name": "stderr"
        },
        {
          "output_type": "stream",
          "text": [
            "INFO:tensorflow:Clearing out eager caches\n"
          ],
          "name": "stdout"
        },
        {
          "output_type": "stream",
          "text": [
            "INFO:tensorflow:Clearing out eager caches\n"
          ],
          "name": "stderr"
        },
        {
          "output_type": "stream",
          "text": [
            "INFO:tensorflow:Finished initializing TPU system.\n"
          ],
          "name": "stdout"
        },
        {
          "output_type": "stream",
          "text": [
            "INFO:tensorflow:Finished initializing TPU system.\n",
            "WARNING:absl:`tf.distribute.experimental.TPUStrategy` is deprecated, please use  the non experimental symbol `tf.distribute.TPUStrategy` instead.\n"
          ],
          "name": "stderr"
        },
        {
          "output_type": "stream",
          "text": [
            "INFO:tensorflow:Found TPU system:\n"
          ],
          "name": "stdout"
        },
        {
          "output_type": "stream",
          "text": [
            "INFO:tensorflow:Found TPU system:\n"
          ],
          "name": "stderr"
        },
        {
          "output_type": "stream",
          "text": [
            "INFO:tensorflow:*** Num TPU Cores: 8\n"
          ],
          "name": "stdout"
        },
        {
          "output_type": "stream",
          "text": [
            "INFO:tensorflow:*** Num TPU Cores: 8\n"
          ],
          "name": "stderr"
        },
        {
          "output_type": "stream",
          "text": [
            "INFO:tensorflow:*** Num TPU Workers: 1\n"
          ],
          "name": "stdout"
        },
        {
          "output_type": "stream",
          "text": [
            "INFO:tensorflow:*** Num TPU Workers: 1\n"
          ],
          "name": "stderr"
        },
        {
          "output_type": "stream",
          "text": [
            "INFO:tensorflow:*** Num TPU Cores Per Worker: 8\n"
          ],
          "name": "stdout"
        },
        {
          "output_type": "stream",
          "text": [
            "INFO:tensorflow:*** Num TPU Cores Per Worker: 8\n"
          ],
          "name": "stderr"
        },
        {
          "output_type": "stream",
          "text": [
            "INFO:tensorflow:*** Available Device: _DeviceAttributes(/job:localhost/replica:0/task:0/device:CPU:0, CPU, 0, 0)\n"
          ],
          "name": "stdout"
        },
        {
          "output_type": "stream",
          "text": [
            "INFO:tensorflow:*** Available Device: _DeviceAttributes(/job:localhost/replica:0/task:0/device:CPU:0, CPU, 0, 0)\n"
          ],
          "name": "stderr"
        },
        {
          "output_type": "stream",
          "text": [
            "INFO:tensorflow:*** Available Device: _DeviceAttributes(/job:worker/replica:0/task:0/device:CPU:0, CPU, 0, 0)\n"
          ],
          "name": "stdout"
        },
        {
          "output_type": "stream",
          "text": [
            "INFO:tensorflow:*** Available Device: _DeviceAttributes(/job:worker/replica:0/task:0/device:CPU:0, CPU, 0, 0)\n"
          ],
          "name": "stderr"
        },
        {
          "output_type": "stream",
          "text": [
            "INFO:tensorflow:*** Available Device: _DeviceAttributes(/job:worker/replica:0/task:0/device:TPU:0, TPU, 0, 0)\n"
          ],
          "name": "stdout"
        },
        {
          "output_type": "stream",
          "text": [
            "INFO:tensorflow:*** Available Device: _DeviceAttributes(/job:worker/replica:0/task:0/device:TPU:0, TPU, 0, 0)\n"
          ],
          "name": "stderr"
        },
        {
          "output_type": "stream",
          "text": [
            "INFO:tensorflow:*** Available Device: _DeviceAttributes(/job:worker/replica:0/task:0/device:TPU:1, TPU, 0, 0)\n"
          ],
          "name": "stdout"
        },
        {
          "output_type": "stream",
          "text": [
            "INFO:tensorflow:*** Available Device: _DeviceAttributes(/job:worker/replica:0/task:0/device:TPU:1, TPU, 0, 0)\n"
          ],
          "name": "stderr"
        },
        {
          "output_type": "stream",
          "text": [
            "INFO:tensorflow:*** Available Device: _DeviceAttributes(/job:worker/replica:0/task:0/device:TPU:2, TPU, 0, 0)\n"
          ],
          "name": "stdout"
        },
        {
          "output_type": "stream",
          "text": [
            "INFO:tensorflow:*** Available Device: _DeviceAttributes(/job:worker/replica:0/task:0/device:TPU:2, TPU, 0, 0)\n"
          ],
          "name": "stderr"
        },
        {
          "output_type": "stream",
          "text": [
            "INFO:tensorflow:*** Available Device: _DeviceAttributes(/job:worker/replica:0/task:0/device:TPU:3, TPU, 0, 0)\n"
          ],
          "name": "stdout"
        },
        {
          "output_type": "stream",
          "text": [
            "INFO:tensorflow:*** Available Device: _DeviceAttributes(/job:worker/replica:0/task:0/device:TPU:3, TPU, 0, 0)\n"
          ],
          "name": "stderr"
        },
        {
          "output_type": "stream",
          "text": [
            "INFO:tensorflow:*** Available Device: _DeviceAttributes(/job:worker/replica:0/task:0/device:TPU:4, TPU, 0, 0)\n"
          ],
          "name": "stdout"
        },
        {
          "output_type": "stream",
          "text": [
            "INFO:tensorflow:*** Available Device: _DeviceAttributes(/job:worker/replica:0/task:0/device:TPU:4, TPU, 0, 0)\n"
          ],
          "name": "stderr"
        },
        {
          "output_type": "stream",
          "text": [
            "INFO:tensorflow:*** Available Device: _DeviceAttributes(/job:worker/replica:0/task:0/device:TPU:5, TPU, 0, 0)\n"
          ],
          "name": "stdout"
        },
        {
          "output_type": "stream",
          "text": [
            "INFO:tensorflow:*** Available Device: _DeviceAttributes(/job:worker/replica:0/task:0/device:TPU:5, TPU, 0, 0)\n"
          ],
          "name": "stderr"
        },
        {
          "output_type": "stream",
          "text": [
            "INFO:tensorflow:*** Available Device: _DeviceAttributes(/job:worker/replica:0/task:0/device:TPU:6, TPU, 0, 0)\n"
          ],
          "name": "stdout"
        },
        {
          "output_type": "stream",
          "text": [
            "INFO:tensorflow:*** Available Device: _DeviceAttributes(/job:worker/replica:0/task:0/device:TPU:6, TPU, 0, 0)\n"
          ],
          "name": "stderr"
        },
        {
          "output_type": "stream",
          "text": [
            "INFO:tensorflow:*** Available Device: _DeviceAttributes(/job:worker/replica:0/task:0/device:TPU:7, TPU, 0, 0)\n"
          ],
          "name": "stdout"
        },
        {
          "output_type": "stream",
          "text": [
            "INFO:tensorflow:*** Available Device: _DeviceAttributes(/job:worker/replica:0/task:0/device:TPU:7, TPU, 0, 0)\n"
          ],
          "name": "stderr"
        },
        {
          "output_type": "stream",
          "text": [
            "INFO:tensorflow:*** Available Device: _DeviceAttributes(/job:worker/replica:0/task:0/device:TPU_SYSTEM:0, TPU_SYSTEM, 0, 0)\n"
          ],
          "name": "stdout"
        },
        {
          "output_type": "stream",
          "text": [
            "INFO:tensorflow:*** Available Device: _DeviceAttributes(/job:worker/replica:0/task:0/device:TPU_SYSTEM:0, TPU_SYSTEM, 0, 0)\n"
          ],
          "name": "stderr"
        },
        {
          "output_type": "stream",
          "text": [
            "INFO:tensorflow:*** Available Device: _DeviceAttributes(/job:worker/replica:0/task:0/device:XLA_CPU:0, XLA_CPU, 0, 0)\n"
          ],
          "name": "stdout"
        },
        {
          "output_type": "stream",
          "text": [
            "INFO:tensorflow:*** Available Device: _DeviceAttributes(/job:worker/replica:0/task:0/device:XLA_CPU:0, XLA_CPU, 0, 0)\n"
          ],
          "name": "stderr"
        }
      ]
    },
    {
      "cell_type": "code",
      "metadata": {
        "colab": {
          "base_uri": "https://localhost:8080/"
        },
        "id": "Mk5GQGpQS8Jb",
        "outputId": "a5767bf6-f59f-4a99-b0fc-262d0cf64f59"
      },
      "source": [
        "with strategy.scope():\n",
        "    model = get_model()\n",
        "    model.compile(optimizer=tf.keras.optimizers.Adagrad(learning_rate=0.1),loss=tf.keras.losses.sparse_categorical_crossentropy,metrics=['accuracy'])\n",
        "    model.summary()"
      ],
      "execution_count": 18,
      "outputs": [
        {
          "output_type": "stream",
          "text": [
            "Model: \"sequential\"\n",
            "_________________________________________________________________\n",
            "Layer (type)                 Output Shape              Param #   \n",
            "=================================================================\n",
            "Dense_1 (Dense)              (None, 10)                50        \n",
            "_________________________________________________________________\n",
            "Dense_2 (Dense)              (None, 10)                110       \n",
            "_________________________________________________________________\n",
            "logits (Dense)               (None, 3)                 33        \n",
            "_________________________________________________________________\n",
            "softmax (Dense)              (None, 3)                 12        \n",
            "=================================================================\n",
            "Total params: 205\n",
            "Trainable params: 205\n",
            "Non-trainable params: 0\n",
            "_________________________________________________________________\n"
          ],
          "name": "stdout"
        }
      ]
    },
    {
      "cell_type": "code",
      "metadata": {
        "colab": {
          "base_uri": "https://localhost:8080/"
        },
        "id": "aOe9WWX5TETH",
        "outputId": "c154f815-1425-4b89-dafb-cd38dc4df67d"
      },
      "source": [
        "# Fetch the data\n",
        "(train_x, train_y), (test_x, test_y) = load_data()\n",
        "\n",
        "# Train the model\n",
        "\n",
        "model.fit(train_x.values, train_y.values,steps_per_epoch = steps_per_epoch,epochs=epochs,)"
      ],
      "execution_count": 19,
      "outputs": [
        {
          "output_type": "stream",
          "text": [
            "Downloading data from http://download.tensorflow.org/data/iris_training.csv\n",
            "8192/2194 [================================================================================================================] - 0s 0us/step\n",
            "Downloading data from http://download.tensorflow.org/data/iris_test.csv\n",
            "8192/573 [============================================================================================================================================================================================================================================================================================================================================================================================================================================] - 0s 0us/step\n"
          ],
          "name": "stdout"
        },
        {
          "output_type": "stream",
          "text": [
            "/usr/local/lib/python3.7/dist-packages/ipykernel_launcher.py:9: FutureWarning: The pandas.np module is deprecated and will be removed from pandas in a future version. Import numpy directly instead\n",
            "  if __name__ == '__main__':\n",
            "/usr/local/lib/python3.7/dist-packages/ipykernel_launcher.py:10: FutureWarning: The pandas.np module is deprecated and will be removed from pandas in a future version. Import numpy directly instead\n",
            "  # Remove the CWD from sys.path while we load stuff.\n",
            "/usr/local/lib/python3.7/dist-packages/ipykernel_launcher.py:12: FutureWarning: The pandas.np module is deprecated and will be removed from pandas in a future version. Import numpy directly instead\n",
            "  if sys.path[0] == '':\n"
          ],
          "name": "stderr"
        },
        {
          "output_type": "stream",
          "text": [
            "Epoch 1/50\n",
            "5/5 [==============================] - 1s 9ms/step - loss: 2.5588 - accuracy: 0.2583\n",
            "Epoch 2/50\n",
            "5/5 [==============================] - 0s 10ms/step - loss: 0.8678 - accuracy: 0.6000\n",
            "Epoch 3/50\n",
            "5/5 [==============================] - 0s 9ms/step - loss: 0.7590 - accuracy: 0.7000\n",
            "Epoch 4/50\n",
            "5/5 [==============================] - 0s 9ms/step - loss: 0.6881 - accuracy: 0.7000\n",
            "Epoch 5/50\n",
            "5/5 [==============================] - 0s 10ms/step - loss: 0.6410 - accuracy: 0.7000\n",
            "Epoch 6/50\n",
            "5/5 [==============================] - 0s 10ms/step - loss: 0.6132 - accuracy: 0.7083\n",
            "Epoch 7/50\n",
            "5/5 [==============================] - 0s 9ms/step - loss: 0.5750 - accuracy: 0.7167\n",
            "Epoch 8/50\n",
            "5/5 [==============================] - 0s 10ms/step - loss: 0.5405 - accuracy: 0.7000\n",
            "Epoch 9/50\n",
            "5/5 [==============================] - 0s 10ms/step - loss: 0.5416 - accuracy: 0.7417\n",
            "Epoch 10/50\n",
            "5/5 [==============================] - 0s 11ms/step - loss: 0.5042 - accuracy: 0.7917\n",
            "Epoch 11/50\n",
            "5/5 [==============================] - 0s 10ms/step - loss: 0.4754 - accuracy: 0.7750\n",
            "Epoch 12/50\n",
            "5/5 [==============================] - 0s 9ms/step - loss: 0.4657 - accuracy: 0.7583\n",
            "Epoch 13/50\n",
            "5/5 [==============================] - 0s 9ms/step - loss: 0.4514 - accuracy: 0.8167\n",
            "Epoch 14/50\n",
            "5/5 [==============================] - 0s 10ms/step - loss: 0.4350 - accuracy: 0.7250\n",
            "Epoch 15/50\n",
            "5/5 [==============================] - 0s 9ms/step - loss: 0.4002 - accuracy: 0.8250\n",
            "Epoch 16/50\n",
            "5/5 [==============================] - 0s 9ms/step - loss: 0.4207 - accuracy: 0.8667\n",
            "Epoch 17/50\n",
            "5/5 [==============================] - 0s 9ms/step - loss: 0.3854 - accuracy: 0.8167\n",
            "Epoch 18/50\n",
            "5/5 [==============================] - 0s 9ms/step - loss: 0.3603 - accuracy: 0.9000\n",
            "Epoch 19/50\n",
            "5/5 [==============================] - 0s 10ms/step - loss: 0.3428 - accuracy: 0.9000\n",
            "Epoch 20/50\n",
            "5/5 [==============================] - 0s 9ms/step - loss: 0.3188 - accuracy: 0.9417\n",
            "Epoch 21/50\n",
            "5/5 [==============================] - 0s 10ms/step - loss: 0.3447 - accuracy: 0.8333\n",
            "Epoch 22/50\n",
            "5/5 [==============================] - 0s 9ms/step - loss: 0.2816 - accuracy: 0.9500\n",
            "Epoch 23/50\n",
            "5/5 [==============================] - 0s 10ms/step - loss: 0.2623 - accuracy: 0.9250\n",
            "Epoch 24/50\n",
            "5/5 [==============================] - 0s 9ms/step - loss: 0.2603 - accuracy: 0.9583\n",
            "Epoch 25/50\n",
            "5/5 [==============================] - 0s 9ms/step - loss: 0.2304 - accuracy: 0.9917\n",
            "Epoch 26/50\n",
            "5/5 [==============================] - 0s 9ms/step - loss: 0.3465 - accuracy: 0.8250\n",
            "Epoch 27/50\n",
            "5/5 [==============================] - 0s 10ms/step - loss: 0.2300 - accuracy: 0.9250\n",
            "Epoch 28/50\n",
            "5/5 [==============================] - 0s 9ms/step - loss: 0.2143 - accuracy: 0.9667\n",
            "Epoch 29/50\n",
            "5/5 [==============================] - 0s 9ms/step - loss: 0.2268 - accuracy: 0.9250\n",
            "Epoch 30/50\n",
            "5/5 [==============================] - 0s 9ms/step - loss: 0.2117 - accuracy: 0.8917\n",
            "Epoch 31/50\n",
            "5/5 [==============================] - 0s 9ms/step - loss: 0.1849 - accuracy: 0.9500\n",
            "Epoch 32/50\n",
            "5/5 [==============================] - 0s 11ms/step - loss: 0.2173 - accuracy: 0.9333\n",
            "Epoch 33/50\n",
            "5/5 [==============================] - 0s 9ms/step - loss: 0.2184 - accuracy: 0.9167\n",
            "Epoch 34/50\n",
            "5/5 [==============================] - 0s 9ms/step - loss: 0.1656 - accuracy: 0.9667\n",
            "Epoch 35/50\n",
            "5/5 [==============================] - 0s 9ms/step - loss: 0.1468 - accuracy: 0.9750\n",
            "Epoch 36/50\n",
            "5/5 [==============================] - 0s 12ms/step - loss: 0.1587 - accuracy: 0.9667\n",
            "Epoch 37/50\n",
            "5/5 [==============================] - 0s 9ms/step - loss: 0.1580 - accuracy: 0.9667\n",
            "Epoch 38/50\n",
            "5/5 [==============================] - 0s 11ms/step - loss: 0.1414 - accuracy: 0.9750\n",
            "Epoch 39/50\n",
            "5/5 [==============================] - 0s 9ms/step - loss: 0.1386 - accuracy: 0.9583\n",
            "Epoch 40/50\n",
            "5/5 [==============================] - 0s 10ms/step - loss: 0.1605 - accuracy: 0.9417\n",
            "Epoch 41/50\n",
            "5/5 [==============================] - 0s 10ms/step - loss: 0.2557 - accuracy: 0.8833\n",
            "Epoch 42/50\n",
            "5/5 [==============================] - 0s 9ms/step - loss: 0.1394 - accuracy: 0.9500\n",
            "Epoch 43/50\n",
            "5/5 [==============================] - 0s 9ms/step - loss: 0.1086 - accuracy: 0.9917\n",
            "Epoch 44/50\n",
            "5/5 [==============================] - 0s 9ms/step - loss: 0.1215 - accuracy: 0.9833\n",
            "Epoch 45/50\n",
            "5/5 [==============================] - 0s 10ms/step - loss: 0.1098 - accuracy: 0.9833\n",
            "Epoch 46/50\n",
            "5/5 [==============================] - 0s 10ms/step - loss: 0.1467 - accuracy: 0.9500\n",
            "Epoch 47/50\n",
            "5/5 [==============================] - 0s 10ms/step - loss: 0.2032 - accuracy: 0.9000\n",
            "Epoch 48/50\n",
            "5/5 [==============================] - 0s 10ms/step - loss: 0.1186 - accuracy: 0.9500\n",
            "Epoch 49/50\n",
            "5/5 [==============================] - 0s 10ms/step - loss: 0.0984 - accuracy: 0.9833\n",
            "Epoch 50/50\n",
            "5/5 [==============================] - 0s 10ms/step - loss: 0.0983 - accuracy: 0.9667\n"
          ],
          "name": "stdout"
        },
        {
          "output_type": "execute_result",
          "data": {
            "text/plain": [
              "<tensorflow.python.keras.callbacks.History at 0x7f031022a090>"
            ]
          },
          "metadata": {
            "tags": []
          },
          "execution_count": 19
        }
      ]
    },
    {
      "cell_type": "code",
      "metadata": {
        "colab": {
          "base_uri": "https://localhost:8080/"
        },
        "id": "D1GYACl6TJ7u",
        "outputId": "609e1912-234d-41af-8d96-138e8066f034"
      },
      "source": [
        "model.evaluate(test_x.values, test_y.values,batch_size=8)"
      ],
      "execution_count": 20,
      "outputs": [
        {
          "output_type": "stream",
          "text": [
            "4/4 [==============================] - 2s 18ms/step - loss: 0.1206 - accuracy: 0.9667\n"
          ],
          "name": "stdout"
        },
        {
          "output_type": "execute_result",
          "data": {
            "text/plain": [
              "[0.1205725446343422, 0.9666666984558105]"
            ]
          },
          "metadata": {
            "tags": []
          },
          "execution_count": 20
        }
      ]
    },
    {
      "cell_type": "code",
      "metadata": {
        "id": "wG-SC1wWTLyA"
      },
      "source": [
        "model.save_weights('./DNN_TPU_1024.h5', overwrite=True)"
      ],
      "execution_count": 23,
      "outputs": []
    },
    {
      "cell_type": "code",
      "metadata": {
        "colab": {
          "base_uri": "https://localhost:8080/"
        },
        "id": "PTPoTTi1TMv4",
        "outputId": "cf03519a-657b-4e8c-9877-b37ccc2ad025"
      },
      "source": [
        "COLUMNS_NAME=['SepalLength', 'SepalWidth', 'PetalLength', 'PetalWidth']\n",
        "data = pd.DataFrame(PREDICTION_INPUT_DATA, columns=COLUMNS_NAME)\n",
        "print(data)"
      ],
      "execution_count": 25,
      "outputs": [
        {
          "output_type": "stream",
          "text": [
            "   SepalLength  SepalWidth  PetalLength  PetalWidth\n",
            "0          6.9         3.1          5.4         2.1\n",
            "1          5.1         3.3          1.7         0.5\n",
            "2          5.9         3.0          4.2         1.5\n",
            "3          6.0         3.4          4.5         1.6\n",
            "4          5.5         2.5          4.0         1.3\n",
            "5          6.2         2.9          4.3         1.3\n",
            "6          5.5         4.2          1.4         0.2\n",
            "7          6.3         2.8          5.1         1.5\n"
          ],
          "name": "stdout"
        }
      ]
    },
    {
      "cell_type": "code",
      "metadata": {
        "colab": {
          "base_uri": "https://localhost:8080/"
        },
        "id": "Hv_UHbrUTQk1",
        "outputId": "7706904a-557c-4698-9222-dbfffdba84a3"
      },
      "source": [
        "predictions = model.predict(data.values.astype(np.float32))\n",
        "\n",
        "template = ('\\nPrediction is \"{}\" ({:.1f}%), expected \"{}\"')\n",
        "for pred_dict, expec in zip(predictions, PREDICTION_OUTPUT_DATA):  \n",
        "    class_index = np.argmax(pred_dict)  \n",
        "    class_probability = np.max(pred_dict)\n",
        "    print(template.format(SPECIES[class_index], 100*class_probability, expec))"
      ],
      "execution_count": 26,
      "outputs": [
        {
          "output_type": "stream",
          "text": [
            "\n",
            "Prediction is \"Virginica\" (94.0%), expected \"Virginica\"\n",
            "\n",
            "Prediction is \"Setosa\" (97.9%), expected \"Setosa\"\n",
            "\n",
            "Prediction is \"Versicolor\" (89.6%), expected \"Versicolor\"\n",
            "\n",
            "Prediction is \"Versicolor\" (88.4%), expected \"Versicolor\"\n",
            "\n",
            "Prediction is \"Versicolor\" (84.3%), expected \"Versicolor\"\n",
            "\n",
            "Prediction is \"Versicolor\" (94.9%), expected \"Versicolor\"\n",
            "\n",
            "Prediction is \"Setosa\" (99.2%), expected \"Setosa\"\n",
            "\n",
            "Prediction is \"Virginica\" (63.7%), expected \"Virginica\"\n"
          ],
          "name": "stdout"
        }
      ]
    },
    {
      "cell_type": "code",
      "metadata": {
        "colab": {
          "base_uri": "https://localhost:8080/"
        },
        "id": "ucPthvlQTYZR",
        "outputId": "43c2cef7-83dd-4ecf-b373-8c6a653805ac"
      },
      "source": [
        "cpu_model = get_model()\n",
        "\n",
        "cpu_model.load_weights('./DNN_TPU_1024.h5')\n",
        "\n",
        "cpu_predictions = cpu_model.predict(data)\n",
        "\n",
        "template = ('\\nPrediction is \"{}\" ({:.1f}%), expected \"{}\"')\n",
        "\n",
        "for pred_dict, expec in zip(cpu_predictions, PREDICTION_OUTPUT_DATA):\n",
        "    class_index = np.argmax(pred_dict)\n",
        "    class_probability = np.max(pred_dict)\n",
        "    print(template.format(SPECIES[class_index], 100*class_probability, expec))"
      ],
      "execution_count": 27,
      "outputs": [
        {
          "output_type": "stream",
          "text": [
            "\n",
            "Prediction is \"Virginica\" (94.0%), expected \"Virginica\"\n",
            "\n",
            "Prediction is \"Setosa\" (97.9%), expected \"Setosa\"\n",
            "\n",
            "Prediction is \"Versicolor\" (89.0%), expected \"Versicolor\"\n",
            "\n",
            "Prediction is \"Versicolor\" (88.0%), expected \"Versicolor\"\n",
            "\n",
            "Prediction is \"Versicolor\" (83.8%), expected \"Versicolor\"\n",
            "\n",
            "Prediction is \"Versicolor\" (94.9%), expected \"Versicolor\"\n",
            "\n",
            "Prediction is \"Setosa\" (99.2%), expected \"Setosa\"\n",
            "\n",
            "Prediction is \"Virginica\" (64.6%), expected \"Virginica\"\n"
          ],
          "name": "stdout"
        }
      ]
    }
  ]
}