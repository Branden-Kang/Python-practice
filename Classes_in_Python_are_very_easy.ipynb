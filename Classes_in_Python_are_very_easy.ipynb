{
  "nbformat": 4,
  "nbformat_minor": 0,
  "metadata": {
    "colab": {
      "provenance": [],
      "authorship_tag": "ABX9TyMwUxO4q18zynyrFaPar9yg"
    },
    "kernelspec": {
      "name": "python3",
      "display_name": "Python 3"
    },
    "language_info": {
      "name": "python"
    }
  },
  "cells": [
    {
      "cell_type": "markdown",
      "source": [
        "[Reference](https://medium.com/@ebojacky/classes-in-python-are-very-easy-51c9df53701b)"
      ],
      "metadata": {
        "id": "YXW4IqJBKDL2"
      }
    },
    {
      "cell_type": "markdown",
      "source": [
        "# Basic Class Structure"
      ],
      "metadata": {
        "id": "tewVWHyRKH26"
      }
    },
    {
      "cell_type": "code",
      "execution_count": 1,
      "metadata": {
        "id": "5F6J00X-KBhU"
      },
      "outputs": [],
      "source": [
        "class Dog:\n",
        "    def __init__(self, name, age):\n",
        "        self.name = name\n",
        "        self.age = age\n",
        "\n",
        "    def bark(self):\n",
        "        return f\"{self.name} says woof!\""
      ]
    },
    {
      "cell_type": "markdown",
      "source": [
        "# Creating Instances"
      ],
      "metadata": {
        "id": "dOFhTDZcKKDR"
      }
    },
    {
      "cell_type": "code",
      "source": [
        "my_dog = Dog(\"Buddy\", 3)\n",
        "print(my_dog.bark())  # Output: Buddy says woof!\n",
        "print(my_dog.name)    # Output: Buddy\n",
        "print(my_dog.age)     # Output: 3"
      ],
      "metadata": {
        "colab": {
          "base_uri": "https://localhost:8080/"
        },
        "id": "XWQWVtmvKJKO",
        "outputId": "d98c49b7-80f9-467f-c90c-5f2dcf5eb390"
      },
      "execution_count": 2,
      "outputs": [
        {
          "output_type": "stream",
          "name": "stdout",
          "text": [
            "Buddy says woof!\n",
            "Buddy\n",
            "3\n"
          ]
        }
      ]
    },
    {
      "cell_type": "markdown",
      "source": [
        "# Inheritance"
      ],
      "metadata": {
        "id": "81xnsUbuKQFH"
      }
    },
    {
      "cell_type": "code",
      "source": [
        "class Animal:\n",
        "    def __init__(self, name):\n",
        "        self.name = name\n",
        "\n",
        "    def speak(self):\n",
        "        pass\n",
        "\n",
        "class Dog(Animal):\n",
        "    def __init__(self, name, age):\n",
        "        super().__init__(name)  # Call the parent class's __init__ method\n",
        "        self.age = age\n",
        "\n",
        "    def speak(self):\n",
        "        return f\"{self.name} says woof!\""
      ],
      "metadata": {
        "id": "M7cVwZwsKLoW"
      },
      "execution_count": 3,
      "outputs": []
    },
    {
      "cell_type": "markdown",
      "source": [
        "# Using super()"
      ],
      "metadata": {
        "id": "96lkH3CeKTek"
      }
    },
    {
      "cell_type": "code",
      "source": [
        "class Puppy(Dog):\n",
        "    def __init__(self, name, age, toy):\n",
        "        super().__init__(name, age)  # Call the parent class's __init__ method\n",
        "        self.toy = toy\n",
        "\n",
        "    def play(self):\n",
        "        return f\"{self.name} plays with {self.toy}\""
      ],
      "metadata": {
        "id": "8vLE1IM5KSLy"
      },
      "execution_count": 5,
      "outputs": []
    },
    {
      "cell_type": "markdown",
      "source": [
        "# Encapsulation"
      ],
      "metadata": {
        "id": "3QKH5bUoKWuq"
      }
    },
    {
      "cell_type": "code",
      "source": [
        "class Dog:\n",
        "    def __init__(self, name, age):\n",
        "        self.__name = name  # Private variable\n",
        "        self.age = age\n",
        "\n",
        "    def get_name(self):\n",
        "        return self.__name\n",
        "\n",
        "    def set_name(self, name):\n",
        "        self.__name = name\n",
        "\n",
        "my_dog = Dog(\"Buddy\", 3)\n",
        "print(my_dog.get_name())  # Output: Buddy\n",
        "my_dog.set_name(\"Max\")\n",
        "print(my_dog.get_name())  # Output: Max"
      ],
      "metadata": {
        "colab": {
          "base_uri": "https://localhost:8080/"
        },
        "id": "aUqnvLpZKVoJ",
        "outputId": "02bcbbc7-0048-452f-c2a4-55408ffa151c"
      },
      "execution_count": 6,
      "outputs": [
        {
          "output_type": "stream",
          "name": "stdout",
          "text": [
            "Buddy\n",
            "Max\n"
          ]
        }
      ]
    },
    {
      "cell_type": "markdown",
      "source": [
        "# Polymorphism"
      ],
      "metadata": {
        "id": "iyM2VPa8LQ8V"
      }
    },
    {
      "cell_type": "code",
      "source": [
        "class Dog(Animal):\n",
        "    def __init__(self, name):\n",
        "        super().__init__(name)\n",
        "\n",
        "    def speak(self):\n",
        "        return f\"{self.name} says woof!\"\n",
        "\n",
        "class Cat(Animal):\n",
        "    def __init__(self, name):\n",
        "        super().__init__(name)\n",
        "\n",
        "    def speak(self):\n",
        "        return f\"{self.name} says meow!\"\n",
        "\n",
        "animals = [Dog(\"Buddy\"), Cat(\"Whiskers\")]\n",
        "\n",
        "for animal in animals:\n",
        "    print(animal.speak())"
      ],
      "metadata": {
        "colab": {
          "base_uri": "https://localhost:8080/"
        },
        "id": "RvdfSsTMKYux",
        "outputId": "42304a7d-8908-467a-85dc-d290ab98e334"
      },
      "execution_count": 9,
      "outputs": [
        {
          "output_type": "stream",
          "name": "stdout",
          "text": [
            "Buddy says woof!\n",
            "Whiskers says meow!\n"
          ]
        }
      ]
    },
    {
      "cell_type": "code",
      "source": [
        "class Animal:\n",
        "    def __init__(self, name):\n",
        "        self.name = name\n",
        "    def speak(self):\n",
        "        pass\n",
        "\n",
        "class Dog(Animal):\n",
        "    def __init__(self, name, age):\n",
        "        super().__init__(name)\n",
        "        self.age = age\n",
        "\n",
        "    def speak(self):\n",
        "        return f\"{self.name} says woof!\"\n",
        "\n",
        "class Cat(Animal):\n",
        "    def __init__(self, name):\n",
        "        super().__init__(name)\n",
        "\n",
        "    def speak(self):\n",
        "        return f\"{self.name} says meow!\"\n",
        "\n",
        "class Puppy(Dog):\n",
        "    def __init__(self, name, age, toy):\n",
        "        super().__init__(name, age)\n",
        "        self.toy = toy\n",
        "\n",
        "    def play(self):\n",
        "        return f\"{self.name} plays with {self.toy}\"\n",
        "\n",
        "animals = [Dog(\"Buddy\", 3), Cat(\"Whiskers\"), Puppy(\"Rex\", 1, \"ball\")]\n",
        "\n",
        "for animal in animals:\n",
        "    print(animal.speak())\n",
        "    if isinstance(animal, Puppy):\n",
        "        print(animal.play())"
      ],
      "metadata": {
        "colab": {
          "base_uri": "https://localhost:8080/"
        },
        "id": "qRVR_ugdLR_U",
        "outputId": "41e197be-8704-432c-a2d0-f242603de09e"
      },
      "execution_count": 10,
      "outputs": [
        {
          "output_type": "stream",
          "name": "stdout",
          "text": [
            "Buddy says woof!\n",
            "Whiskers says meow!\n",
            "Rex says woof!\n",
            "Rex plays with ball\n"
          ]
        }
      ]
    }
  ]
}