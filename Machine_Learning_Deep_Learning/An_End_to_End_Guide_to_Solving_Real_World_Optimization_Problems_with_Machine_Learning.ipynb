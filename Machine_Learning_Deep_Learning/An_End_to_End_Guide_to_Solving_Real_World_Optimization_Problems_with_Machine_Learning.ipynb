{
  "nbformat": 4,
  "nbformat_minor": 0,
  "metadata": {
    "colab": {
      "provenance": [],
      "authorship_tag": "ABX9TyMpcxRnAepHlW95gYYCwT0W"
    },
    "kernelspec": {
      "name": "python3",
      "display_name": "Python 3"
    },
    "language_info": {
      "name": "python"
    }
  },
  "cells": [
    {
      "cell_type": "markdown",
      "source": [
        "[Reference](https://medium.com/@nomannayeem/an-end-to-end-guide-to-solving-real-world-optimization-problems-with-machine-learning-7bc959567109)"
      ],
      "metadata": {
        "id": "QjOzpicJh-VZ"
      }
    },
    {
      "cell_type": "markdown",
      "source": [
        "# Step 1: Optimizing Workers and Machines with Particle Swarm Optimization"
      ],
      "metadata": {
        "id": "Q4ib_xY_iDFI"
      }
    },
    {
      "cell_type": "code",
      "execution_count": 1,
      "metadata": {
        "colab": {
          "base_uri": "https://localhost:8080/"
        },
        "id": "3YWWDtidh5Aa",
        "outputId": "4b6e5ca6-5e7f-4d45-c7ed-86399888066a"
      },
      "outputs": [
        {
          "output_type": "stream",
          "name": "stdout",
          "text": [
            "Optimal number of workers: 20\n",
            "Optimal number of machines: 39\n",
            "Minimum operational cost: $4200.00\n"
          ]
        }
      ],
      "source": [
        "import numpy as np\n",
        "from scipy.optimize import differential_evolution\n",
        "\n",
        "# Synthetic Data - setting up some parameters\n",
        "def operational_cost(x):\n",
        "    workers, machines = x\n",
        "    productivity = 1000  # target productivity\n",
        "    cost_workers = 50  # cost per worker\n",
        "    cost_machines = 80  # cost per machine\n",
        "    penalty = 0\n",
        "\n",
        "    # Productivity formula: assume productivity depends on both workers and machines\n",
        "    actual_productivity = (workers * 10) + (machines * 20)\n",
        "\n",
        "    # Apply penalty if productivity is lower than target\n",
        "    if actual_productivity < productivity:\n",
        "        penalty = (productivity - actual_productivity) * 10\n",
        "\n",
        "    # Total cost is sum of workers, machines, and penalties for underproduction\n",
        "    total_cost = (workers * cost_workers) + (machines * cost_machines) + penalty\n",
        "    return total_cost\n",
        "\n",
        "# Particle Swarm Optimization using differential evolution\n",
        "bounds = [(20, 100), (10, 60)]  # Boundaries for workers and machines\n",
        "\n",
        "# Running the optimization\n",
        "result = differential_evolution(operational_cost, bounds, maxiter=1000)\n",
        "optimal_workers, optimal_machines = result.x\n",
        "\n",
        "print(f\"Optimal number of workers: {int(optimal_workers)}\")\n",
        "print(f\"Optimal number of machines: {int(optimal_machines)}\")\n",
        "print(f\"Minimum operational cost: ${result.fun:.2f}\")"
      ]
    },
    {
      "cell_type": "markdown",
      "source": [
        "# Step 2: Managing Inventory with Monte Carlo Simulation"
      ],
      "metadata": {
        "id": "ij1AaSDgiLUd"
      }
    },
    {
      "cell_type": "code",
      "source": [
        "import numpy as np\n",
        "import matplotlib.pyplot as plt\n",
        "\n",
        "# Parameters for Monte Carlo simulation\n",
        "lead_time = 4  # in weeks\n",
        "cost_per_order = 25000  # Cost per order in $\n",
        "num_simulations = 1000  # Number of simulations\n",
        "max_shelf_time = 1.5  # Maximum shelf time for inventory in weeks\n",
        "max_customer_wait_time = 21  # Maximum time customers are willing to wait (in days)\n",
        "\n",
        "# Simulate inventory for 365 days (1 year)\n",
        "days = 365\n",
        "inventory_simulation = []\n",
        "\n",
        "for _ in range(num_simulations):\n",
        "    customer_wait_times = np.random.normal(loc=14, scale=5, size=days)  # Customers expect a 2-week wait time\n",
        "    shelf_times = np.random.uniform(0, max_shelf_time, days)  # Random shelf time for stock\n",
        "\n",
        "    # Calculate the number of days inventory sat on the shelf and customer wait times\n",
        "    inventory_cost = (np.sum(customer_wait_times > max_customer_wait_time) * cost_per_order) + (np.sum(shelf_times > max_shelf_time) * cost_per_order)\n",
        "\n",
        "    inventory_simulation.append(inventory_cost)\n",
        "\n",
        "# Plot the simulation results\n",
        "plt.hist(inventory_simulation, bins=30, color='skyblue', edgecolor='black')\n",
        "plt.title('Monte Carlo Simulation of Inventory Costs')\n",
        "plt.xlabel('Inventory Cost ($)')\n",
        "plt.ylabel('Frequency')\n",
        "plt.grid(True)\n",
        "plt.show()\n",
        "\n",
        "# Results\n",
        "mean_inventory_cost = np.mean(inventory_simulation)\n",
        "print(f\"Average inventory cost from simulations: ${mean_inventory_cost:.2f}\")"
      ],
      "metadata": {
        "colab": {
          "base_uri": "https://localhost:8080/",
          "height": 489
        },
        "id": "WM2i72DdiJJL",
        "outputId": "0b66c3fe-c60c-41f7-e4c2-fd991bbc4779"
      },
      "execution_count": 2,
      "outputs": [
        {
          "output_type": "display_data",
          "data": {
            "text/plain": [
              "<Figure size 640x480 with 1 Axes>"
            ],
            "image/png": "[encoded data removed]"
          },
          "metadata": {}
        },
        {
          "output_type": "stream",
          "name": "stdout",
          "text": [
            "Average inventory cost from simulations: $739175.00\n"
          ]
        }
      ]
    },
    {
      "cell_type": "markdown",
      "source": [
        "# Step 3: Quality Control with Random Forest Classifier"
      ],
      "metadata": {
        "id": "pBLUH8p2iSwV"
      }
    },
    {
      "cell_type": "code",
      "source": [
        "from sklearn.ensemble import RandomForestClassifier\n",
        "from sklearn.model_selection import train_test_split\n",
        "from sklearn.metrics import classification_report, confusion_matrix\n",
        "import numpy as np\n",
        "import pandas as pd\n",
        "\n",
        "# Generate synthetic data for 1000 widgets\n",
        "np.random.seed(42)\n",
        "data_size = 1000\n",
        "weights = np.random.uniform(50, 200, data_size)  # Random weights between 50 and 200\n",
        "sizes = np.random.uniform(10, 100, data_size)    # Random sizes between 10 and 100\n",
        "colors = np.random.randint(0, 2, data_size)      # Binary color feature: 0 or 1\n",
        "labels = np.random.randint(0, 2, data_size)      # Binary classification: 0 (defective), 1 (good)\n",
        "\n",
        "# Combine into a DataFrame\n",
        "df = pd.DataFrame({\n",
        "    'Weight': weights,\n",
        "    'Size': sizes,\n",
        "    'Color': colors,\n",
        "    'Label': labels  # 0: defective, 1: good\n",
        "})\n",
        "\n",
        "# Split into features (X) and labels (y)\n",
        "X = df[['Weight', 'Size', 'Color']]\n",
        "y = df['Label']\n",
        "\n",
        "# Split data into training and testing sets\n",
        "X_train, X_test, y_train, y_test = train_test_split(X, y, test_size=0.3, random_state=42)\n",
        "\n",
        "# Initialize and train the Random Forest Classifier\n",
        "clf = RandomForestClassifier(n_estimators=100, random_state=42)\n",
        "clf.fit(X_train, y_train)\n",
        "\n",
        "# Make predictions on the test set\n",
        "y_pred = clf.predict(X_test)\n",
        "\n",
        "# Print the classification report and confusion matrix\n",
        "print(\"Classification Report:\")\n",
        "print(classification_report(y_test, y_pred))\n",
        "\n",
        "print(\"Confusion Matrix:\")\n",
        "print(confusion_matrix(y_test, y_pred))"
      ],
      "metadata": {
        "colab": {
          "base_uri": "https://localhost:8080/"
        },
        "id": "104Yn5hviQsu",
        "outputId": "eb52ad91-2c93-48c7-a829-417fe0cd99cf"
      },
      "execution_count": 3,
      "outputs": [
        {
          "output_type": "stream",
          "name": "stdout",
          "text": [
            "Classification Report:\n",
            "              precision    recall  f1-score   support\n",
            "\n",
            "           0       0.51      0.56      0.53       148\n",
            "           1       0.53      0.47      0.50       152\n",
            "\n",
            "    accuracy                           0.52       300\n",
            "   macro avg       0.52      0.52      0.52       300\n",
            "weighted avg       0.52      0.52      0.52       300\n",
            "\n",
            "Confusion Matrix:\n",
            "[[83 65]\n",
            " [80 72]]\n"
          ]
        }
      ]
    }
  ]
}
