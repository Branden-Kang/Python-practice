{
  "nbformat": 4,
  "nbformat_minor": 0,
  "metadata": {
    "colab": {
      "provenance": [],
      "authorship_tag": "ABX9TyOGaVFEwfHax8WaD5w+Jb9B"
    },
    "kernelspec": {
      "name": "python3",
      "display_name": "Python 3"
    },
    "language_info": {
      "name": "python"
    }
  },
  "cells": [
    {
      "cell_type": "markdown",
      "source": [
        "[Reference](https://medium.com/@francescofranco_39234/multioutput-regressions-with-svms-in-python-396a44539147)"
      ],
      "metadata": {
        "id": "YTEKRCwd8_L6"
      }
    },
    {
      "cell_type": "code",
      "execution_count": 1,
      "metadata": {
        "id": "6H1Zdqhr8v4-"
      },
      "outputs": [],
      "source": [
        "from sklearn.datasets import make_regression\n",
        "from sklearn.multioutput import MultiOutputRegressor\n",
        "from sklearn.svm import SVR\n",
        "from sklearn.model_selection import train_test_split\n",
        "from sklearn.metrics import mean_squared_error, mean_absolute_error"
      ]
    },
    {
      "cell_type": "code",
      "source": [
        "# Generate dataset\n",
        "X, y = make_regression(n_samples=25000, n_features=3, n_targets=2, random_state=33)"
      ],
      "metadata": {
        "id": "XwMKM3dM9U7M"
      },
      "execution_count": 2,
      "outputs": []
    },
    {
      "cell_type": "code",
      "source": [
        "# Train/test split\n",
        "X_train, X_test, y_train, y_test = train_test_split(X, y, test_size=0.20, random_state=33)"
      ],
      "metadata": {
        "id": "RjHkg4TZ9WKj"
      },
      "execution_count": 3,
      "outputs": []
    },
    {
      "cell_type": "code",
      "source": [
        "# Create the SVR regressor\n",
        "svr = SVR(epsilon=0.2)"
      ],
      "metadata": {
        "id": "hwnwneBx9XA-"
      },
      "execution_count": 4,
      "outputs": []
    },
    {
      "cell_type": "code",
      "source": [
        "# Create the Multioutput Regressor\n",
        "mor = MultiOutputRegressor(svr)"
      ],
      "metadata": {
        "id": "BSHP49qW9Yuk"
      },
      "execution_count": 5,
      "outputs": []
    },
    {
      "cell_type": "code",
      "source": [
        "# Train the regressor\n",
        "mor = mor.fit(X_train, y_train)\n",
        "\n",
        "# Generate predictions for testing data\n",
        "y_pred = mor.predict(X_test)\n",
        "\n",
        "# Evaluate the regressor\n",
        "mse_one = mean_squared_error(y_test[:,0], y_pred[:,0])\n",
        "mse_two = mean_squared_error(y_test[:,1], y_pred[:,1])\n",
        "print(f'MSE for first regressor: {mse_one} - second regressor: {mse_two}')\n",
        "mae_one = mean_absolute_error(y_test[:,0], y_pred[:,0])\n",
        "mae_two = mean_absolute_error(y_test[:,1], y_pred[:,1])\n",
        "print(f'MAE for first regressor: {mae_one} - second regressor: {mae_two}')"
      ],
      "metadata": {
        "colab": {
          "base_uri": "https://localhost:8080/"
        },
        "id": "N7sUvf8y9Z-r",
        "outputId": "e6ef310a-4496-4a15-fece-be50732048ee"
      },
      "execution_count": 6,
      "outputs": [
        {
          "output_type": "stream",
          "name": "stdout",
          "text": [
            "MSE for first regressor: 141.0193626050902 - second regressor: 455.16620684383156\n",
            "MAE for first regressor: 2.522888165757883 - second regressor: 5.167581983032945\n"
          ]
        }
      ]
    }
  ]
}
