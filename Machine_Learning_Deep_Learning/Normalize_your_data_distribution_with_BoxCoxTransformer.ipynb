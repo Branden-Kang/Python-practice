{
  "nbformat": 4,
  "nbformat_minor": 0,
  "metadata": {
    "colab": {
      "name": "Normalize your data distribution with BoxCoxTransformer.ipynb",
      "provenance": [],
      "authorship_tag": "ABX9TyPfjJyAeclSS9qHyMbY9Dyf"
    },
    "kernelspec": {
      "name": "python3",
      "display_name": "Python 3"
    },
    "language_info": {
      "name": "python"
    }
  },
  "cells": [
    {
      "cell_type": "markdown",
      "source": [
        "[Reference](https://medium.com/softplus-publication/normalize-your-data-distribution-with-imperio-boxcoxtransformer-d10838361070)"
      ],
      "metadata": {
        "id": "kBpjvZxb7_rF"
      }
    },
    {
      "cell_type": "markdown",
      "source": [
        "# Using BoxCoxTransformer"
      ],
      "metadata": {
        "id": "XRJVIGCG8nVD"
      }
    },
    {
      "cell_type": "code",
      "execution_count": 1,
      "metadata": {
        "colab": {
          "base_uri": "https://localhost:8080/"
        },
        "id": "HvestcKa4W7b",
        "outputId": "2882cd08-40a8-4a3e-b1f9-a4ab07ed9419"
      },
      "outputs": [
        {
          "output_type": "stream",
          "name": "stdout",
          "text": [
            "Collecting imperio\n",
            "  Downloading imperio-0.1.3.tar.gz (10 kB)\n",
            "Requirement already satisfied: numpy in /usr/local/lib/python3.7/dist-packages (from imperio) (1.19.5)\n",
            "Requirement already satisfied: pandas in /usr/local/lib/python3.7/dist-packages (from imperio) (1.1.5)\n",
            "Requirement already satisfied: scikit-learn in /usr/local/lib/python3.7/dist-packages (from imperio) (1.0.2)\n",
            "Requirement already satisfied: pytz>=2017.2 in /usr/local/lib/python3.7/dist-packages (from pandas->imperio) (2018.9)\n",
            "Requirement already satisfied: python-dateutil>=2.7.3 in /usr/local/lib/python3.7/dist-packages (from pandas->imperio) (2.8.2)\n",
            "Requirement already satisfied: six>=1.5 in /usr/local/lib/python3.7/dist-packages (from python-dateutil>=2.7.3->pandas->imperio) (1.15.0)\n",
            "Requirement already satisfied: joblib>=0.11 in /usr/local/lib/python3.7/dist-packages (from scikit-learn->imperio) (1.1.0)\n",
            "Requirement already satisfied: threadpoolctl>=2.0.0 in /usr/local/lib/python3.7/dist-packages (from scikit-learn->imperio) (3.0.0)\n",
            "Requirement already satisfied: scipy>=1.1.0 in /usr/local/lib/python3.7/dist-packages (from scikit-learn->imperio) (1.4.1)\n",
            "Building wheels for collected packages: imperio\n",
            "  Building wheel for imperio (setup.py) ... \u001b[?25l\u001b[?25hdone\n",
            "  Created wheel for imperio: filename=imperio-0.1.3-py3-none-any.whl size=23258 sha256=ecdc3fb5d99dc2ab0c9040b64191dc761f017eabf9b90c653f0b24d1e9c03571\n",
            "  Stored in directory: /root/.cache/pip/wheels/df/5a/6b/9c17746cb0f542cf045a057de59bede0ae2c85d79b9371cd90\n",
            "Successfully built imperio\n",
            "Installing collected packages: imperio\n",
            "Successfully installed imperio-0.1.3\n"
          ]
        }
      ],
      "source": [
        "pip install imperio"
      ]
    },
    {
      "cell_type": "code",
      "source": [
        "from imperio import BoxCoxTransformer\n",
        "boxcox = BoxCoxTransformer()\n",
        "boxcox.fit(X_train, y_train)\n",
        "X_transformed = boxcox.transform(X_test)"
      ],
      "metadata": {
        "id": "CNzcGFED8pJj"
      },
      "execution_count": 2,
      "outputs": []
    },
    {
      "cell_type": "code",
      "source": [
        "X_transformed = boxcox.fit_transform(X_train, y_train)"
      ],
      "metadata": {
        "id": "tW-GjDx98qPo"
      },
      "execution_count": 3,
      "outputs": []
    },
    {
      "cell_type": "code",
      "source": [
        "from sklearn.pipeline import Pipeline\n",
        "from imperio import BoxCoxTransformer\n",
        "from sklearn.linear_model import LogisticRegression\n",
        "pipe = Pipeline(\n",
        "    [\n",
        "     ('boxcox', BoxCoxTransformer()),\n",
        "     ('model', LogisticRegression())\n",
        "])"
      ],
      "metadata": {
        "id": "0lsUxM1O8skS"
      },
      "execution_count": 4,
      "outputs": []
    },
    {
      "cell_type": "code",
      "source": [
        "new_df = boxcox.apply(df, target = 'target', columns=['col1'])"
      ],
      "metadata": {
        "id": "MPKIX04M8u1J"
      },
      "execution_count": 5,
      "outputs": []
    }
  ]
}