{
  "nbformat": 4,
  "nbformat_minor": 0,
  "metadata": {
    "colab": {
      "provenance": [],
      "authorship_tag": "ABX9TyORSgKkBmkqRC7XwkxRS3+h"
    },
    "kernelspec": {
      "name": "python3",
      "display_name": "Python 3"
    },
    "language_info": {
      "name": "python"
    }
  },
  "cells": [
    {
      "cell_type": "markdown",
      "source": [
        "[Reference](https://medium.com/@francescofranco_39234/how-to-use-sparse-categorical-crossentropy-in-keras-8d07fbb6fa71)"
      ],
      "metadata": {
        "id": "PnIn_LDo04lF"
      }
    },
    {
      "cell_type": "code",
      "execution_count": null,
      "metadata": {
        "colab": {
          "base_uri": "https://localhost:8080/"
        },
        "id": "I-VKZHm6z4Xc",
        "outputId": "f9b3c698-c49a-40fb-f59e-567d7b816240"
      },
      "outputs": [
        {
          "output_type": "stream",
          "name": "stderr",
          "text": [
            "/usr/local/lib/python3.11/dist-packages/keras/src/layers/convolutional/base_conv.py:107: UserWarning: Do not pass an `input_shape`/`input_dim` argument to a layer. When using Sequential models, prefer using an `Input(shape)` object as the first layer in the model instead.\n",
            "  super().__init__(activity_regularizer=activity_regularizer, **kwargs)\n"
          ]
        },
        {
          "output_type": "stream",
          "name": "stdout",
          "text": [
            "Epoch 1/25\n",
            "\u001b[1m192/192\u001b[0m \u001b[32m━━━━━━━━━━━━━━━━━━━━\u001b[0m\u001b[37m\u001b[0m \u001b[1m46s\u001b[0m 228ms/step - accuracy: 0.7807 - loss: 0.7393 - val_accuracy: 0.9744 - val_loss: 0.0885\n",
            "Epoch 2/25\n",
            "\u001b[1m192/192\u001b[0m \u001b[32m━━━━━━━━━━━━━━━━━━━━\u001b[0m\u001b[37m\u001b[0m \u001b[1m81s\u001b[0m 226ms/step - accuracy: 0.9670 - loss: 0.1040 - val_accuracy: 0.9806 - val_loss: 0.0657\n",
            "Epoch 3/25\n",
            "\u001b[1m192/192\u001b[0m \u001b[32m━━━━━━━━━━━━━━━━━━━━\u001b[0m\u001b[37m\u001b[0m \u001b[1m43s\u001b[0m 223ms/step - accuracy: 0.9782 - loss: 0.0684 - val_accuracy: 0.9865 - val_loss: 0.0472\n",
            "Epoch 4/25\n",
            "\u001b[1m192/192\u001b[0m \u001b[32m━━━━━━━━━━━━━━━━━━━━\u001b[0m\u001b[37m\u001b[0m \u001b[1m82s\u001b[0m 225ms/step - accuracy: 0.9822 - loss: 0.0582 - val_accuracy: 0.9878 - val_loss: 0.0410\n",
            "Epoch 5/25\n",
            "\u001b[1m192/192\u001b[0m \u001b[32m━━━━━━━━━━━━━━━━━━━━\u001b[0m\u001b[37m\u001b[0m \u001b[1m82s\u001b[0m 226ms/step - accuracy: 0.9857 - loss: 0.0454 - val_accuracy: 0.9880 - val_loss: 0.0397\n",
            "Epoch 6/25\n",
            "\u001b[1m192/192\u001b[0m \u001b[32m━━━━━━━━━━━━━━━━━━━━\u001b[0m\u001b[37m\u001b[0m \u001b[1m81s\u001b[0m 220ms/step - accuracy: 0.9866 - loss: 0.0405 - val_accuracy: 0.9898 - val_loss: 0.0375\n",
            "Epoch 7/25\n",
            "\u001b[1m192/192\u001b[0m \u001b[32m━━━━━━━━━━━━━━━━━━━━\u001b[0m\u001b[37m\u001b[0m \u001b[1m86s\u001b[0m 240ms/step - accuracy: 0.9901 - loss: 0.0321 - val_accuracy: 0.9902 - val_loss: 0.0340\n",
            "Epoch 8/25\n",
            "\u001b[1m192/192\u001b[0m \u001b[32m━━━━━━━━━━━━━━━━━━━━\u001b[0m\u001b[37m\u001b[0m \u001b[1m43s\u001b[0m 222ms/step - accuracy: 0.9911 - loss: 0.0260 - val_accuracy: 0.9902 - val_loss: 0.0323\n",
            "Epoch 9/25\n",
            "\u001b[1m192/192\u001b[0m \u001b[32m━━━━━━━━━━━━━━━━━━━━\u001b[0m\u001b[37m\u001b[0m \u001b[1m82s\u001b[0m 221ms/step - accuracy: 0.9924 - loss: 0.0256 - val_accuracy: 0.9906 - val_loss: 0.0314\n",
            "Epoch 10/25\n",
            "\u001b[1m192/192\u001b[0m \u001b[32m━━━━━━━━━━━━━━━━━━━━\u001b[0m\u001b[37m\u001b[0m \u001b[1m85s\u001b[0m 238ms/step - accuracy: 0.9933 - loss: 0.0218 - val_accuracy: 0.9913 - val_loss: 0.0289\n",
            "Epoch 11/25\n",
            "\u001b[1m192/192\u001b[0m \u001b[32m━━━━━━━━━━━━━━━━━━━━\u001b[0m\u001b[37m\u001b[0m \u001b[1m79s\u001b[0m 221ms/step - accuracy: 0.9940 - loss: 0.0184 - val_accuracy: 0.9910 - val_loss: 0.0325\n",
            "Epoch 12/25\n",
            "\u001b[1m192/192\u001b[0m \u001b[32m━━━━━━━━━━━━━━━━━━━━\u001b[0m\u001b[37m\u001b[0m \u001b[1m82s\u001b[0m 222ms/step - accuracy: 0.9943 - loss: 0.0173 - val_accuracy: 0.9910 - val_loss: 0.0300\n",
            "Epoch 13/25\n",
            "\u001b[1m192/192\u001b[0m \u001b[32m━━━━━━━━━━━━━━━━━━━━\u001b[0m\u001b[37m\u001b[0m \u001b[1m83s\u001b[0m 226ms/step - accuracy: 0.9951 - loss: 0.0158 - val_accuracy: 0.9903 - val_loss: 0.0333\n",
            "Epoch 14/25\n",
            "\u001b[1m192/192\u001b[0m \u001b[32m━━━━━━━━━━━━━━━━━━━━\u001b[0m\u001b[37m\u001b[0m \u001b[1m42s\u001b[0m 221ms/step - accuracy: 0.9949 - loss: 0.0149 - val_accuracy: 0.9917 - val_loss: 0.0296\n",
            "Epoch 15/25\n",
            "\u001b[1m192/192\u001b[0m \u001b[32m━━━━━━━━━━━━━━━━━━━━\u001b[0m\u001b[37m\u001b[0m \u001b[1m84s\u001b[0m 232ms/step - accuracy: 0.9954 - loss: 0.0144 - val_accuracy: 0.9908 - val_loss: 0.0334\n",
            "Epoch 16/25\n",
            "\u001b[1m192/192\u001b[0m \u001b[32m━━━━━━━━━━━━━━━━━━━━\u001b[0m\u001b[37m\u001b[0m \u001b[1m80s\u001b[0m 220ms/step - accuracy: 0.9960 - loss: 0.0125 - val_accuracy: 0.9928 - val_loss: 0.0277\n",
            "Epoch 17/25\n",
            "\u001b[1m192/192\u001b[0m \u001b[32m━━━━━━━━━━━━━━━━━━━━\u001b[0m\u001b[37m\u001b[0m \u001b[1m42s\u001b[0m 221ms/step - accuracy: 0.9965 - loss: 0.0114 - val_accuracy: 0.9909 - val_loss: 0.0322\n",
            "Epoch 18/25\n",
            "\u001b[1m192/192\u001b[0m \u001b[32m━━━━━━━━━━━━━━━━━━━━\u001b[0m\u001b[37m\u001b[0m \u001b[1m82s\u001b[0m 221ms/step - accuracy: 0.9959 - loss: 0.0118 - val_accuracy: 0.9916 - val_loss: 0.0297\n",
            "Epoch 19/25\n",
            "\u001b[1m192/192\u001b[0m \u001b[32m━━━━━━━━━━━━━━━━━━━━\u001b[0m\u001b[37m\u001b[0m \u001b[1m83s\u001b[0m 224ms/step - accuracy: 0.9961 - loss: 0.0105 - val_accuracy: 0.9922 - val_loss: 0.0292\n",
            "Epoch 20/25\n",
            "\u001b[1m192/192\u001b[0m \u001b[32m━━━━━━━━━━━━━━━━━━━━\u001b[0m\u001b[37m\u001b[0m \u001b[1m81s\u001b[0m 220ms/step - accuracy: 0.9967 - loss: 0.0093 - val_accuracy: 0.9925 - val_loss: 0.0312\n",
            "Epoch 21/25\n",
            "\u001b[1m192/192\u001b[0m \u001b[32m━━━━━━━━━━━━━━━━━━━━\u001b[0m\u001b[37m\u001b[0m \u001b[1m0s\u001b[0m 208ms/step - accuracy: 0.9970 - loss: 0.0093"
          ]
        }
      ],
      "source": [
        "import tensorflow\n",
        "from tensorflow.keras.datasets import mnist\n",
        "from tensorflow.keras.models import Sequential\n",
        "from tensorflow.keras.layers import Dense, Dropout, Flatten\n",
        "from tensorflow.keras.layers import Conv2D, MaxPooling2D\n",
        "\n",
        "# Model configuration\n",
        "img_width, img_height = 28, 28\n",
        "batch_size = 250\n",
        "no_epochs = 25\n",
        "no_classes = 10\n",
        "validation_split = 0.2\n",
        "verbosity = 1\n",
        "\n",
        "# Load MNIST dataset\n",
        "(input_train, target_train), (input_test, target_test) = mnist.load_data()\n",
        "\n",
        "# Reshape data\n",
        "input_train = input_train.reshape(input_train.shape[0], img_width, img_height, 1)\n",
        "input_test = input_test.reshape(input_test.shape[0], img_width, img_height, 1)\n",
        "input_shape = (img_width, img_height, 1)\n",
        "\n",
        "# Parse numbers as floats\n",
        "input_train = input_train.astype('float32')\n",
        "input_test = input_test.astype('float32')\n",
        "\n",
        "# Normalize data\n",
        "input_train = input_train / 255\n",
        "input_test = input_test / 255\n",
        "\n",
        "# Create the model\n",
        "model = Sequential()\n",
        "model.add(Conv2D(32, kernel_size=(3, 3), activation='relu', input_shape=input_shape))\n",
        "model.add(MaxPooling2D(pool_size=(2, 2)))\n",
        "model.add(Dropout(0.25))\n",
        "model.add(Conv2D(64, kernel_size=(3, 3), activation='relu'))\n",
        "model.add(MaxPooling2D(pool_size=(2, 2)))\n",
        "model.add(Dropout(0.25))\n",
        "model.add(Flatten())\n",
        "model.add(Dense(256, activation='relu'))\n",
        "model.add(Dense(no_classes, activation='softmax'))\n",
        "\n",
        "# Compile the model\n",
        "model.compile(loss=tensorflow.keras.losses.sparse_categorical_crossentropy,\n",
        "              optimizer=tensorflow.keras.optimizers.Adam(),\n",
        "              metrics=['accuracy'])\n",
        "\n",
        "# Fit data to model\n",
        "model.fit(input_train, target_train,\n",
        "          batch_size=batch_size,\n",
        "          epochs=no_epochs,\n",
        "          verbose=verbosity,\n",
        "          validation_split=validation_split)\n",
        "\n",
        "# Generate generalization metrics\n",
        "score = model.evaluate(input_test, target_test, verbose=0)\n",
        "print(f'Test loss: {score[0]} / Test accuracy: {score[1]}')"
      ]
    }
  ]
}
