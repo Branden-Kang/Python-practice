{
  "nbformat": 4,
  "nbformat_minor": 0,
  "metadata": {
    "colab": {
      "provenance": [],
      "authorship_tag": "ABX9TyP8mSDl11TqyPzOpDM48jzt"
    },
    "kernelspec": {
      "name": "python3",
      "display_name": "Python 3"
    },
    "language_info": {
      "name": "python"
    }
  },
  "cells": [
    {
      "cell_type": "markdown",
      "source": [
        "[Reference](https://generativeai.pub/choosing-the-right-distance-metric-for-your-machine-learning-problem-a-comprehensive-guide-with-15415c27f99)"
      ],
      "metadata": {
        "id": "Xj7VduaRTQTb"
      }
    },
    {
      "cell_type": "markdown",
      "source": [
        "# 1. Euclidean Distance:"
      ],
      "metadata": {
        "id": "RUTxBi-CTUyg"
      }
    },
    {
      "cell_type": "code",
      "execution_count": 1,
      "metadata": {
        "id": "Xax8QSJzTO0s"
      },
      "outputs": [],
      "source": [
        "import numpy as np\n",
        "\n",
        "# Euclidean Distance\n",
        "def euclidean_distance(x1, x2):\n",
        "    return np.sqrt(np.sum((x1 - x2) ** 2))"
      ]
    },
    {
      "cell_type": "markdown",
      "source": [
        "# 2. Manhattan Distance:"
      ],
      "metadata": {
        "id": "E6gWZsT0TWDd"
      }
    },
    {
      "cell_type": "code",
      "source": [
        "import numpy as np\n",
        "\n",
        "# Manhattan Distance\n",
        "def manhattan_distance(x1, x2):\n",
        "    return np.sum(np.abs(x1 - x2))"
      ],
      "metadata": {
        "id": "igGwsi2_TVEE"
      },
      "execution_count": 2,
      "outputs": []
    },
    {
      "cell_type": "markdown",
      "source": [
        "# 3. Minkowski Distance:"
      ],
      "metadata": {
        "id": "NfWYe0aGTYfU"
      }
    },
    {
      "cell_type": "code",
      "source": [
        "import numpy as np\n",
        "\n",
        "# Minkowski Distance\n",
        "def minkowski_distance(x1, x2, p):\n",
        "    return np.power(np.sum(np.power(np.abs(x1 - x2), p)), 1/p)"
      ],
      "metadata": {
        "id": "eUDvCpQxTXW4"
      },
      "execution_count": 3,
      "outputs": []
    },
    {
      "cell_type": "markdown",
      "source": [
        "# 4. Hamming Distance:"
      ],
      "metadata": {
        "id": "Tpj6VnhOTbcE"
      }
    },
    {
      "cell_type": "code",
      "source": [
        "import numpy as np\n",
        "\n",
        "# Hamming Distance\n",
        "def hamming_distance(x1, x2):\n",
        "    return np.sum(x1 != x2)"
      ],
      "metadata": {
        "id": "X7rgTusBTaZY"
      },
      "execution_count": 4,
      "outputs": []
    },
    {
      "cell_type": "markdown",
      "source": [
        "# 5. Jaccard Distance:"
      ],
      "metadata": {
        "id": "HhdGaeJoTeD2"
      }
    },
    {
      "cell_type": "code",
      "source": [
        "import numpy as np\n",
        "\n",
        "# Jaccard Distance\n",
        "def jaccard_distance(x1, x2):\n",
        "    intersect = np.sum(x1 * x2)\n",
        "    union = np.sum(x1) + np.sum(x2) - intersect\n",
        "    return 1 - intersect / union"
      ],
      "metadata": {
        "id": "VipmuYafTdDJ"
      },
      "execution_count": 5,
      "outputs": []
    },
    {
      "cell_type": "markdown",
      "source": [
        "# 6. Cosine Similarity:"
      ],
      "metadata": {
        "id": "uJW8xeh5ThqR"
      }
    },
    {
      "cell_type": "code",
      "source": [
        "import numpy as np\n",
        "\n",
        "# Cosine Similarity\n",
        "def cosine_similarity(x1, x2):\n",
        "    return np.dot(x1, x2) / (np.sqrt(np.dot(x1, x1)) * np.sqrt(np.dot(x2, x2)))"
      ],
      "metadata": {
        "id": "qVdurwMcTfMv"
      },
      "execution_count": 6,
      "outputs": []
    },
    {
      "cell_type": "markdown",
      "source": [
        "# 7. Mahalanobis distance:"
      ],
      "metadata": {
        "id": "lfHjSjlUTk8C"
      }
    },
    {
      "cell_type": "code",
      "source": [
        "import numpy as np\n",
        "\n",
        "# Mahalanobis Distance\n",
        "def mahalanobis_distance(x1, x2, VI):\n",
        "    delta = x1 - x2\n",
        "    return np.sqrt(np.dot(np.dot(delta, VI), delta))"
      ],
      "metadata": {
        "id": "9MjwCQtzTjO_"
      },
      "execution_count": 7,
      "outputs": []
    },
    {
      "cell_type": "code",
      "source": [
        "import numpy as np\n",
        "import pandas as pd\n",
        "from sklearn.datasets import load_iris\n",
        "from sklearn.model_selection import train_test_split\n",
        "from sklearn.neighbors import KNeighborsClassifier\n",
        "from sklearn.metrics import accuracy_score\n",
        "\n",
        "# Load the iris dataset\n",
        "iris = load_iris()\n",
        "X = iris.data\n",
        "y = iris.target\n",
        "\n",
        "# Split the data into train and test sets\n",
        "X_train, X_test, y_train, y_test = train_test_split(X, y, test_size=0.2, random_state=0)\n",
        "\n",
        "# Create KNN classifier using Euclidean distance metric\n",
        "knn_euclidean = KNeighborsClassifier(metric='euclidean')\n",
        "knn_euclidean.fit(X_train, y_train)\n",
        "y_pred_euclidean = knn_euclidean.predict(X_test)\n",
        "\n",
        "# Create KNN classifier using Manhattan distance metric\n",
        "knn_manhattan = KNeighborsClassifier(metric='manhattan')\n",
        "knn_manhattan.fit(X_train, y_train)\n",
        "y_pred_manhattan = knn_manhattan.predict(X_test)\n",
        "\n",
        "# Calculate accuracy of predictions\n",
        "accuracy_euclidean = accuracy_score(y_test, y_pred_euclidean)\n",
        "accuracy_manhattan = accuracy_score(y_test, y_pred_manhattan)\n",
        "\n",
        "# Compare accuracy of predictions\n",
        "print(\"Accuracy using Euclidean distance metric:\", accuracy_euclidean)\n",
        "print(\"Accuracy using Manhattan distance metric:\", accuracy_manhattan)"
      ],
      "metadata": {
        "colab": {
          "base_uri": "https://localhost:8080/"
        },
        "id": "x3EabHbOTmiD",
        "outputId": "1343afe3-f38f-4db9-f98c-375fd648e713"
      },
      "execution_count": 8,
      "outputs": [
        {
          "output_type": "stream",
          "name": "stdout",
          "text": [
            "Accuracy using Euclidean distance metric: 0.9666666666666667\n",
            "Accuracy using Manhattan distance metric: 1.0\n"
          ]
        }
      ]
    }
  ]
}
