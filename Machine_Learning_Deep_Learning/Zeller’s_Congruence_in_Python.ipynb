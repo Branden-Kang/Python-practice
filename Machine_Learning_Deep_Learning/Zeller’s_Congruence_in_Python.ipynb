{
  "nbformat": 4,
  "nbformat_minor": 0,
  "metadata": {
    "colab": {
      "name": "Zeller’s Congruence in Python.ipynb",
      "provenance": [],
      "authorship_tag": "ABX9TyOUMAj9R+LGKC1DgdqFzyTV"
    },
    "kernelspec": {
      "name": "python3",
      "display_name": "Python 3"
    }
  },
  "cells": [
    {
      "cell_type": "markdown",
      "metadata": {
        "id": "Bqbdot-jjInl"
      },
      "source": [
        "![zeller](https://miro.medium.com/max/1184/1*cwtodOyxL0NHSv7k9MhXdQ.png)"
      ]
    },
    {
      "cell_type": "code",
      "metadata": {
        "id": "svB_Zy3VjHVZ"
      },
      "source": [
        "import datetime\n",
        "import random\n",
        "import calendar\n",
        "import math\n",
        "\n",
        "\n",
        "def showdatesanddays():\n",
        "\n",
        "    \"\"\"\n",
        "    Creates a selection of random dates and runs the Zeller Algorithm on them,\n",
        "    printing out the date, and then the day according to Python and Zeller.\n",
        "    \"\"\"\n",
        "\n",
        "    # Zeller gives a value 0 to 6 representing Saturday to Friday\n",
        "    zellerdays = [\"Saturday\", \"Sunday\", \"Monday\", \"Tuesday\", \"Wednesday\", \"Thursday\", \"Friday\"]\n",
        "\n",
        "    for i in range(0, 19):\n",
        "\n",
        "        d = datetime.date.fromtimestamp(random.randint(1, 1000000000))\n",
        "\n",
        "        print(\"Date:   \" + str(d))\n",
        "        print(\"Python: \" + calendar.day_name[d.weekday()])\n",
        "        print(\"Zeller: \" + zellerdays[zellergregorian(d)])\n",
        "        print(\"------------------\") "
      ],
      "execution_count": 1,
      "outputs": []
    },
    {
      "cell_type": "code",
      "metadata": {
        "id": "JZ0LQERXjM-o"
      },
      "source": [
        "def zellergregorian(d):\n",
        "\n",
        "    \"\"\"\n",
        "    Runs the Zeller algorithm on the given date\n",
        "    and returns the day index 0 to 6 for Saturday to Friday.\n",
        "    \"\"\"\n",
        "\n",
        "    q = d.day\n",
        "    m = d.month\n",
        "    Y = d.year\n",
        "\n",
        "    # adjust month to run from 3 to 14 from March to February\n",
        "    if m <= 2:\n",
        "        m+= 12\n",
        "\n",
        "    # and also adjust year if January or February\n",
        "    if d.month <= 2:\n",
        "        Y -= 1\n",
        "\n",
        "    h = (q + math.floor((13 * (m + 1)) / 5) + Y + math.floor(Y / 4) - math.floor(Y / 100) + math.floor(Y / 400)) % 7\n",
        "\n",
        "    return h "
      ],
      "execution_count": 2,
      "outputs": []
    },
    {
      "cell_type": "code",
      "metadata": {
        "id": "1UI6MNyMjRpv",
        "outputId": "23fbcb12-87cc-41bd-a184-59674759475f",
        "colab": {
          "base_uri": "https://localhost:8080/"
        }
      },
      "source": [
        "def main():\n",
        "\n",
        "    \"\"\"\n",
        "    Zeller's Congruence calculates the day of the week from the given date.\n",
        "    \"\"\"\n",
        "\n",
        "    print(\"-----------------------------------\")\n",
        "    print(\"| codedrome.com                   |\")\n",
        "    print(\"| Zeller's Congruence:            |\")\n",
        "    print(\"| Calculating the Day of the Week |\")\n",
        "    print(\"-----------------------------------\")\n",
        "\n",
        "    showdatesanddays()\n",
        "\n",
        "\n",
        "main() "
      ],
      "execution_count": 3,
      "outputs": [
        {
          "output_type": "stream",
          "text": [
            "-----------------------------------\n",
            "| codedrome.com                   |\n",
            "| Zeller's Congruence:            |\n",
            "| Calculating the Day of the Week |\n",
            "-----------------------------------\n",
            "Date:   1989-01-29\n",
            "Python: Sunday\n",
            "Zeller: Sunday\n",
            "------------------\n",
            "Date:   1995-01-27\n",
            "Python: Friday\n",
            "Zeller: Friday\n",
            "------------------\n",
            "Date:   1975-02-27\n",
            "Python: Thursday\n",
            "Zeller: Thursday\n",
            "------------------\n",
            "Date:   1990-01-25\n",
            "Python: Thursday\n",
            "Zeller: Thursday\n",
            "------------------\n",
            "Date:   1980-05-13\n",
            "Python: Tuesday\n",
            "Zeller: Tuesday\n",
            "------------------\n",
            "Date:   1993-01-02\n",
            "Python: Saturday\n",
            "Zeller: Saturday\n",
            "------------------\n",
            "Date:   1988-02-24\n",
            "Python: Wednesday\n",
            "Zeller: Wednesday\n",
            "------------------\n",
            "Date:   1974-11-16\n",
            "Python: Saturday\n",
            "Zeller: Saturday\n",
            "------------------\n",
            "Date:   1982-01-24\n",
            "Python: Sunday\n",
            "Zeller: Sunday\n",
            "------------------\n",
            "Date:   1988-05-12\n",
            "Python: Thursday\n",
            "Zeller: Thursday\n",
            "------------------\n",
            "Date:   1991-08-11\n",
            "Python: Sunday\n",
            "Zeller: Sunday\n",
            "------------------\n",
            "Date:   1978-01-11\n",
            "Python: Wednesday\n",
            "Zeller: Wednesday\n",
            "------------------\n",
            "Date:   1982-11-24\n",
            "Python: Wednesday\n",
            "Zeller: Wednesday\n",
            "------------------\n",
            "Date:   1978-03-24\n",
            "Python: Friday\n",
            "Zeller: Friday\n",
            "------------------\n",
            "Date:   1973-10-12\n",
            "Python: Friday\n",
            "Zeller: Friday\n",
            "------------------\n",
            "Date:   1992-06-10\n",
            "Python: Wednesday\n",
            "Zeller: Wednesday\n",
            "------------------\n",
            "Date:   1987-04-03\n",
            "Python: Friday\n",
            "Zeller: Friday\n",
            "------------------\n",
            "Date:   2000-11-23\n",
            "Python: Thursday\n",
            "Zeller: Thursday\n",
            "------------------\n",
            "Date:   1998-08-23\n",
            "Python: Sunday\n",
            "Zeller: Sunday\n",
            "------------------\n"
          ],
          "name": "stdout"
        }
      ]
    }
  ]
}