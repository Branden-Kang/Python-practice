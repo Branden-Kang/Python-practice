{
  "nbformat": 4,
  "nbformat_minor": 0,
  "metadata": {
    "colab": {
      "provenance": [],
      "authorship_tag": "ABX9TyProL5VuYkCCPJMctb6RvFx"
    },
    "kernelspec": {
      "name": "python3",
      "display_name": "Python 3"
    },
    "language_info": {
      "name": "python"
    }
  },
  "cells": [
    {
      "cell_type": "markdown",
      "source": [
        "[Reference](https://towardsdatascience.com/encoding-categorical-data-explained-a-visual-guide-with-code-example-for-beginners-b169ac4193ae)"
      ],
      "metadata": {
        "id": "1VRBV0fQLgsA"
      }
    },
    {
      "cell_type": "code",
      "execution_count": 2,
      "metadata": {
        "id": "47Vj5rbsLe35"
      },
      "outputs": [],
      "source": [
        "import pandas as pd\n",
        "import numpy as np\n",
        "\n",
        "data = {\n",
        "    'Date': ['03-25', '03-26', '03-27', '03-28', '03-29', '03-30', '03-31', '04-01', '04-02', '04-03', '04-04', '04-05'],\n",
        "    'Weekday': ['Mon', 'Tue', 'Wed', 'Thu', 'Fri', 'Sat', 'Sun', 'Mon', 'Tue', 'Wed', 'Thu', 'Fri'],\n",
        "    'Month': ['Mar', 'Mar', 'Mar', 'Mar', 'Mar', 'Mar', 'Mar', 'Apr', 'Apr', 'Apr', 'Apr', 'Apr'],\n",
        "    'Temperature': ['High', 'Low', 'High', 'Extreme', 'Low', 'High', 'High', 'Low', 'High', 'Extreme', 'High', 'Low'],\n",
        "    'Humidity': ['Dry', 'Humid', 'Dry', 'Dry', 'Humid', 'Humid', 'Dry', 'Humid', 'Dry', 'Dry', 'Humid', 'Dry'],\n",
        "    'Wind': ['No', 'Yes', 'Yes', 'Yes', 'No', 'No', 'Yes', 'No', 'Yes', 'Yes', 'No', 'Yes'],\n",
        "    'Outlook': ['sunny', 'rainy', 'overcast', 'sunny', 'rainy', 'overcast', 'sunny', 'rainy', 'sunny', 'overcast', 'sunny', 'rainy'],\n",
        "    'Crowdedness': [85, 30, 65, 45, 25, 90, 95, 35, 70, 50, 80, 45]\n",
        "}\n",
        "# Create a DataFrame from the dictionary\n",
        "df = pd.DataFrame(data)"
      ]
    },
    {
      "cell_type": "markdown",
      "source": [
        "# Method 1: Label Encoding"
      ],
      "metadata": {
        "id": "ou7AZp5mLpLO"
      }
    },
    {
      "cell_type": "code",
      "source": [
        "# 1. Label Encoding for Weekday\n",
        "df['Weekday_label'] = pd.factorize(df['Weekday'])[0]"
      ],
      "metadata": {
        "id": "CcEJDtQMLnHT"
      },
      "execution_count": 3,
      "outputs": []
    },
    {
      "cell_type": "markdown",
      "source": [
        "# Method 2: One-Hot Encoding"
      ],
      "metadata": {
        "id": "bgu0nMqGLx7G"
      }
    },
    {
      "cell_type": "code",
      "source": [
        "# 2. One-Hot Encoding for Outlook\n",
        "df = pd.get_dummies(df, columns=['Outlook'], prefix='Outlook', dtype=int)"
      ],
      "metadata": {
        "id": "3KgpTozpLxFL"
      },
      "execution_count": 4,
      "outputs": []
    },
    {
      "cell_type": "markdown",
      "source": [
        "# Method 3: Binary Encoding"
      ],
      "metadata": {
        "id": "ItoayJiDL1mb"
      }
    },
    {
      "cell_type": "code",
      "source": [
        "# 3. Binary Encoding for Wind\n",
        "df['Wind_binary'] = (df['Wind'] == 'Yes').astype(int)"
      ],
      "metadata": {
        "id": "QvNWZhxDLz9H"
      },
      "execution_count": 6,
      "outputs": []
    },
    {
      "cell_type": "markdown",
      "source": [
        "# Method 4: Target Encoding"
      ],
      "metadata": {
        "id": "RUMRd1K4L7Wm"
      }
    },
    {
      "cell_type": "code",
      "source": [
        "# 4. Target Encoding for Humidity\n",
        "df['Humidity_target'] = df.groupby('Humidity')['Crowdedness'].transform('mean')"
      ],
      "metadata": {
        "id": "RyegVp1UL30L"
      },
      "execution_count": 7,
      "outputs": []
    },
    {
      "cell_type": "markdown",
      "source": [
        "# Method 5: Ordinal Encoding"
      ],
      "metadata": {
        "id": "UQYtIc1bMc1h"
      }
    },
    {
      "cell_type": "code",
      "source": [
        "# 5. Ordinal Encoding for Temperature\n",
        "temp_order = {'Low': 1, 'High': 2, 'Extreme': 3}\n",
        "df['Temperature_ordinal'] = df['Temperature'].map(temp_order)"
      ],
      "metadata": {
        "id": "7hJkAPJ2MbqR"
      },
      "execution_count": 8,
      "outputs": []
    },
    {
      "cell_type": "markdown",
      "source": [
        "# Method 6: Cyclic EncodingMethod 6: Cyclic Encoding"
      ],
      "metadata": {
        "id": "J-yzGPJ_MgVw"
      }
    },
    {
      "cell_type": "code",
      "source": [
        "# 6. Cyclic Encoding for Month\n",
        "month_order = {'Jan': 1, 'Feb': 2, 'Mar': 3, 'Apr': 4, 'May': 5, 'Jun': 6,\n",
        "               'Jul': 7, 'Aug': 8, 'Sep': 9, 'Oct': 10, 'Nov': 11, 'Dec': 12}\n",
        "df['Month_num'] = df['Month'].map(month_order)\n",
        "df['Month_sin'] = np.sin(2 * np.pi * (df['Month_num']-1) / 12)\n",
        "df['Month_cos'] = np.cos(2 * np.pi * (df['Month_num']-1) / 12)"
      ],
      "metadata": {
        "id": "469x0Q4tMfXo"
      },
      "execution_count": 9,
      "outputs": []
    },
    {
      "cell_type": "code",
      "source": [
        "# Select and rearrange numerical columns\n",
        "numerical_columns = [\n",
        "    'Date','Weekday_label',\n",
        "    'Month_sin', 'Month_cos',\n",
        "    'Temperature_ordinal',\n",
        "    'Humidity_target',\n",
        "    'Wind_binary',\n",
        "    'Outlook_sunny', 'Outlook_overcast', 'Outlook_rainy',\n",
        "    'Crowdedness'\n",
        "]\n",
        "\n",
        "# Display the rearranged numerical columns\n",
        "print(df[numerical_columns].round(3))"
      ],
      "metadata": {
        "colab": {
          "base_uri": "https://localhost:8080/"
        },
        "id": "LOlvRSUvMwlJ",
        "outputId": "2ca57023-9116-47a4-b914-97596985e006"
      },
      "execution_count": 10,
      "outputs": [
        {
          "output_type": "stream",
          "name": "stdout",
          "text": [
            "     Date  Weekday_label  Month_sin  Month_cos  Temperature_ordinal  \\\n",
            "0   03-25              0      0.866        0.5                    2   \n",
            "1   03-26              1      0.866        0.5                    1   \n",
            "2   03-27              2      0.866        0.5                    2   \n",
            "3   03-28              3      0.866        0.5                    3   \n",
            "4   03-29              4      0.866        0.5                    1   \n",
            "5   03-30              5      0.866        0.5                    2   \n",
            "6   03-31              6      0.866        0.5                    2   \n",
            "7   04-01              0      1.000        0.0                    1   \n",
            "8   04-02              1      1.000        0.0                    2   \n",
            "9   04-03              2      1.000        0.0                    3   \n",
            "10  04-04              3      1.000        0.0                    2   \n",
            "11  04-05              4      1.000        0.0                    1   \n",
            "\n",
            "    Humidity_target  Wind_binary  Outlook_sunny  Outlook_overcast  \\\n",
            "0              65.0            0              1                 0   \n",
            "1              52.0            1              0                 0   \n",
            "2              65.0            1              0                 1   \n",
            "3              65.0            1              1                 0   \n",
            "4              52.0            0              0                 0   \n",
            "5              52.0            0              0                 1   \n",
            "6              65.0            1              1                 0   \n",
            "7              52.0            0              0                 0   \n",
            "8              65.0            1              1                 0   \n",
            "9              65.0            1              0                 1   \n",
            "10             52.0            0              1                 0   \n",
            "11             65.0            1              0                 0   \n",
            "\n",
            "    Outlook_rainy  Crowdedness  \n",
            "0               0           85  \n",
            "1               1           30  \n",
            "2               0           65  \n",
            "3               0           45  \n",
            "4               1           25  \n",
            "5               0           90  \n",
            "6               0           95  \n",
            "7               1           35  \n",
            "8               0           70  \n",
            "9               0           50  \n",
            "10              0           80  \n",
            "11              1           45  \n"
          ]
        }
      ]
    }
  ]
}
