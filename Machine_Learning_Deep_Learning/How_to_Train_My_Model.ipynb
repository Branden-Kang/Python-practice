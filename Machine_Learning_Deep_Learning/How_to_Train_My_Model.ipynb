{
  "nbformat": 4,
  "nbformat_minor": 0,
  "metadata": {
    "colab": {
      "name": "How to Train My Model.ipynb",
      "provenance": [],
      "authorship_tag": "ABX9TyODM7HWYjVImuef9ImQLZoO"
    },
    "kernelspec": {
      "name": "python3",
      "display_name": "Python 3"
    }
  },
  "cells": [
    {
      "cell_type": "markdown",
      "metadata": {
        "id": "ZGnAUwDm7bQ1",
        "colab_type": "text"
      },
      "source": [
        "# How to Train My Model\n",
        "\n",
        "[Reference](https://medium.com/gradientcrescent/the-right-tool-for-the-job-a-novice-guide-to-selecting-the-correct-machine-learning-algorithm-for-60613c7f7b0b)"
      ]
    },
    {
      "cell_type": "code",
      "metadata": {
        "id": "kwsoHI137Xrl",
        "colab_type": "code",
        "colab": {}
      },
      "source": [
        "from sklearn.linear_model import LogisticRegression\n",
        "from sklearn import datasets\n",
        "import numpy as np\n",
        "import matplotlib\n",
        "import matplotlib.pyplot as plt"
      ],
      "execution_count": 2,
      "outputs": []
    },
    {
      "cell_type": "code",
      "metadata": {
        "id": "Xq7NJDze7idR",
        "colab_type": "code",
        "colab": {}
      },
      "source": [
        "iris = datasets.load_iris()\n",
        "X = iris['data'][:,(2,3)] # petal length, petal width\n",
        "y = iris['target']"
      ],
      "execution_count": 5,
      "outputs": []
    },
    {
      "cell_type": "code",
      "metadata": {
        "id": "qnOmeik87li4",
        "colab_type": "code",
        "colab": {
          "base_uri": "https://localhost:8080/",
          "height": 34
        },
        "outputId": "05242107-565f-430b-8c13-8f0d8f6f4bc3"
      },
      "source": [
        "classifier = LogisticRegression(multi_class='multinomial', solver='lbfgs', C=5)\n",
        "classifier.fit(X,y)\n",
        "print(classifier.score(X,y))"
      ],
      "execution_count": 6,
      "outputs": [
        {
          "output_type": "stream",
          "text": [
            "0.96\n"
          ],
          "name": "stdout"
        }
      ]
    },
    {
      "cell_type": "code",
      "metadata": {
        "id": "3VUhzBFV7wqM",
        "colab_type": "code",
        "colab": {
          "base_uri": "https://localhost:8080/",
          "height": 265
        },
        "outputId": "43c51afd-a4a9-452b-ae07-1c9409b23d18"
      },
      "source": [
        "X_new = np.linspace(0,5,100).reshape(-1,10)\n",
        "\n",
        "plt.plot(X[:, 0][y==1], X[:, 1][y==1], 'y.', label='Iris-Versicolor')\n",
        "plt.plot(X[:, 0][y==0], X[:, 1][y==0], 'b.', label='Iris-Setosa')\n",
        "plt.plot(X[:, 0][y==2], X[:, 1][y==2], 'r.', label='Iris-Virginica')\n",
        "plt.legend(loc='upper left', fontsize=14)\n",
        "plt.show()"
      ],
      "execution_count": 8,
      "outputs": [
        {
          "output_type": "display_data",
          "data": {
            "image/png": "[encoded data removed]",
            "text/plain": [
              "<Figure size 432x288 with 1 Axes>"
            ]
          },
          "metadata": {
            "tags": [],
            "needs_background": "light"
          }
        }
      ]
    }
  ]
}