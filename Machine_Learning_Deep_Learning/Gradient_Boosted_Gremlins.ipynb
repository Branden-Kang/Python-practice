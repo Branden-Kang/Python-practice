{
  "nbformat": 4,
  "nbformat_minor": 0,
  "metadata": {
    "colab": {
      "name": "Gradient Boosted Gremlins.ipynb",
      "provenance": [],
      "collapsed_sections": [],
      "authorship_tag": "ABX9TyNBOxgQ/IRMBQAUPwjiBY94"
    },
    "kernelspec": {
      "name": "python3",
      "display_name": "Python 3"
    },
    "language_info": {
      "name": "python"
    }
  },
  "cells": [
    {
      "cell_type": "markdown",
      "source": [
        "[Reference](https://medium.com/gousto-engineering-techbrunch/the-problem-with-gradient-boosting-gradient-boosted-gremlins-a69908dcea94)"
      ],
      "metadata": {
        "id": "vmxmfyLTXFHN"
      }
    },
    {
      "cell_type": "code",
      "execution_count": 1,
      "metadata": {
        "id": "bI66B8pEXBK7"
      },
      "outputs": [],
      "source": [
        "import pandas as pd\n",
        "import numpy as np\n",
        "import matplotlib.pyplot as plt\n",
        "import seaborn as sns\n",
        "\n",
        "taxis = sns.load_dataset('taxis')"
      ]
    },
    {
      "cell_type": "code",
      "source": [
        "train_features = ['passengers', 'fare', 'tip', 'tolls']\n",
        "target_feature = 'distance'\n",
        "X_train = taxis[train_features].to_numpy()\n",
        "y_train = taxis[target_feature].to_numpy()"
      ],
      "metadata": {
        "id": "vW1jOhnaXxvk"
      },
      "execution_count": 2,
      "outputs": []
    },
    {
      "cell_type": "code",
      "source": [
        "gs_kw = dict(width_ratios=[1], height_ratios=[1])\n",
        "fig, ax = plt.subplots(nrows=1, ncols=1, figsize=(8, 6), gridspec_kw=gs_kw)\n",
        "    \n",
        "axs = sns.histplot(y_train, ax = ax)\n",
        "axs.set_title(f'{target_feature}, range {y_train.min()} to {y_train.max()}')"
      ],
      "metadata": {
        "colab": {
          "base_uri": "https://localhost:8080/",
          "height": 407
        },
        "id": "T1JoCh9IXzJ_",
        "outputId": "d6d152d3-2963-4b3d-a354-f7ababd95f81"
      },
      "execution_count": 3,
      "outputs": [
        {
          "output_type": "execute_result",
          "data": {
            "text/plain": [
              "Text(0.5, 1.0, 'distance, range 0.0 to 36.7')"
            ]
          },
          "metadata": {},
          "execution_count": 3
        },
        {
          "output_type": "display_data",
          "data": {
            "text/plain": [
              "<Figure size 576x432 with 1 Axes>"
            ],
            "image/png": "[encoded data removed]"
          },
          "metadata": {
            "needs_background": "light"
          }
        }
      ]
    },
    {
      "cell_type": "code",
      "source": [
        "from sklearn.ensemble import RandomForestRegressor\n",
        "\n",
        "# create our model with some arb. parameters\n",
        "regr = RandomForestRegressor(max_depth=None, \n",
        "                             criterion = 'squared_error',\n",
        "                             n_estimators = 200,\n",
        "                             min_samples_leaf=1,\n",
        "                             random_state=0)\n",
        "\n",
        "# fit our model to our training data\n",
        "# who even cares about cross-validation anymore?\n",
        "regr.fit(X_train, y_train)"
      ],
      "metadata": {
        "colab": {
          "base_uri": "https://localhost:8080/"
        },
        "id": "fn1LGmaRX0fb",
        "outputId": "b4aa11a1-aebd-4650-8fd7-3f58ecbf4185"
      },
      "execution_count": 4,
      "outputs": [
        {
          "output_type": "execute_result",
          "data": {
            "text/plain": [
              "RandomForestRegressor(n_estimators=200, random_state=0)"
            ]
          },
          "metadata": {},
          "execution_count": 4
        }
      ]
    },
    {
      "cell_type": "code",
      "source": [
        "import lightgbm as lgb\n",
        "\n",
        "# define our model parameters, keeping similar to our RF parameters\n",
        "boosting_rounds = 200\n",
        "\n",
        "hp = {\n",
        "    'boosting_type':'gbdt',\n",
        "    'objective':'regression',\n",
        "    'metric':'l2',\n",
        "    'force_col_wise':True,\n",
        "    'max_depth':-1,\n",
        "    'min_data_in_leaf':1,\n",
        "    'feature_pre_filter':False\n",
        "}\n",
        "\n",
        "# create Dataset class with our training features X and target y\n",
        "train_data = lgb.Dataset(\n",
        "    X_train,\n",
        "    y_train,\n",
        "    feature_name = train_features\n",
        ")\n",
        "\n",
        "# train the model and validate against our training set\n",
        "# overfitting doesn't exist, we're fineeee\n",
        "lgbmodel = lgb.train(\n",
        "    hp,\n",
        "    train_data,\n",
        "    boosting_rounds,\n",
        "    valid_sets = [train_data],\n",
        "    # callbacks = [lgb.log_evaluation(period=10)]\n",
        ")"
      ],
      "metadata": {
        "colab": {
          "base_uri": "https://localhost:8080/"
        },
        "id": "uoXSLtgaX39-",
        "outputId": "e65450d0-2a49-4115-f4fa-7752ec94e141"
      },
      "execution_count": 5,
      "outputs": [
        {
          "output_type": "stream",
          "name": "stdout",
          "text": [
            "[1]\ttraining's l2: 12.0683\n",
            "[2]\ttraining's l2: 9.97537\n",
            "[3]\ttraining's l2: 8.27963\n",
            "[4]\ttraining's l2: 6.90218\n",
            "[5]\ttraining's l2: 5.78423\n",
            "[6]\ttraining's l2: 4.87846\n",
            "[7]\ttraining's l2: 4.13802\n",
            "[8]\ttraining's l2: 3.53506\n",
            "[9]\ttraining's l2: 3.04282\n",
            "[10]\ttraining's l2: 2.64585\n",
            "[11]\ttraining's l2: 2.31805\n",
            "[12]\ttraining's l2: 2.05127\n",
            "[13]\ttraining's l2: 1.83339\n",
            "[14]\ttraining's l2: 1.65348\n",
            "[15]\ttraining's l2: 1.50864\n",
            "[16]\ttraining's l2: 1.39147\n",
            "[17]\ttraining's l2: 1.28949\n",
            "[18]\ttraining's l2: 1.20546\n",
            "[19]\ttraining's l2: 1.13659\n",
            "[20]\ttraining's l2: 1.07832\n",
            "[21]\ttraining's l2: 1.03356\n",
            "[22]\ttraining's l2: 0.987397\n",
            "[23]\ttraining's l2: 0.955297\n",
            "[24]\ttraining's l2: 0.926221\n",
            "[25]\ttraining's l2: 0.897838\n",
            "[26]\ttraining's l2: 0.876788\n",
            "[27]\ttraining's l2: 0.859059\n",
            "[28]\ttraining's l2: 0.843084\n",
            "[29]\ttraining's l2: 0.831849\n",
            "[30]\ttraining's l2: 0.816195\n",
            "[31]\ttraining's l2: 0.807344\n",
            "[32]\ttraining's l2: 0.798741\n",
            "[33]\ttraining's l2: 0.790199\n",
            "[34]\ttraining's l2: 0.778119\n",
            "[35]\ttraining's l2: 0.773481\n",
            "[36]\ttraining's l2: 0.765342\n",
            "[37]\ttraining's l2: 0.757147\n",
            "[38]\ttraining's l2: 0.75217\n",
            "[39]\ttraining's l2: 0.746325\n",
            "[40]\ttraining's l2: 0.741722\n",
            "[41]\ttraining's l2: 0.73584\n",
            "[42]\ttraining's l2: 0.731711\n",
            "[43]\ttraining's l2: 0.728765\n",
            "[44]\ttraining's l2: 0.72545\n",
            "[45]\ttraining's l2: 0.722389\n",
            "[46]\ttraining's l2: 0.718876\n",
            "[47]\ttraining's l2: 0.716883\n",
            "[48]\ttraining's l2: 0.713635\n",
            "[49]\ttraining's l2: 0.710954\n",
            "[50]\ttraining's l2: 0.70858\n",
            "[51]\ttraining's l2: 0.706992\n",
            "[52]\ttraining's l2: 0.701822\n",
            "[53]\ttraining's l2: 0.697933\n",
            "[54]\ttraining's l2: 0.694689\n",
            "[55]\ttraining's l2: 0.691752\n",
            "[56]\ttraining's l2: 0.689804\n",
            "[57]\ttraining's l2: 0.688053\n",
            "[58]\ttraining's l2: 0.686598\n",
            "[59]\ttraining's l2: 0.685031\n",
            "[60]\ttraining's l2: 0.68283\n",
            "[61]\ttraining's l2: 0.681238\n",
            "[62]\ttraining's l2: 0.680028\n",
            "[63]\ttraining's l2: 0.67859\n",
            "[64]\ttraining's l2: 0.675823\n",
            "[65]\ttraining's l2: 0.673802\n",
            "[66]\ttraining's l2: 0.67265\n",
            "[67]\ttraining's l2: 0.669678\n",
            "[68]\ttraining's l2: 0.668548\n",
            "[69]\ttraining's l2: 0.666645\n",
            "[70]\ttraining's l2: 0.665585\n",
            "[71]\ttraining's l2: 0.663876\n",
            "[72]\ttraining's l2: 0.662823\n",
            "[73]\ttraining's l2: 0.660041\n",
            "[74]\ttraining's l2: 0.658601\n",
            "[75]\ttraining's l2: 0.657838\n",
            "[76]\ttraining's l2: 0.655963\n",
            "[77]\ttraining's l2: 0.653985\n",
            "[78]\ttraining's l2: 0.653221\n",
            "[79]\ttraining's l2: 0.651231\n",
            "[80]\ttraining's l2: 0.650427\n",
            "[81]\ttraining's l2: 0.649005\n",
            "[82]\ttraining's l2: 0.647533\n",
            "[83]\ttraining's l2: 0.647003\n",
            "[84]\ttraining's l2: 0.646137\n",
            "[85]\ttraining's l2: 0.645272\n",
            "[86]\ttraining's l2: 0.643748\n",
            "[87]\ttraining's l2: 0.642098\n",
            "[88]\ttraining's l2: 0.641361\n",
            "[89]\ttraining's l2: 0.639826\n",
            "[90]\ttraining's l2: 0.638652\n",
            "[91]\ttraining's l2: 0.638234\n",
            "[92]\ttraining's l2: 0.637282\n",
            "[93]\ttraining's l2: 0.636066\n",
            "[94]\ttraining's l2: 0.63438\n",
            "[95]\ttraining's l2: 0.633671\n",
            "[96]\ttraining's l2: 0.632976\n",
            "[97]\ttraining's l2: 0.631575\n",
            "[98]\ttraining's l2: 0.630761\n",
            "[99]\ttraining's l2: 0.629928\n",
            "[100]\ttraining's l2: 0.628595\n",
            "[101]\ttraining's l2: 0.627423\n",
            "[102]\ttraining's l2: 0.626624\n",
            "[103]\ttraining's l2: 0.625725\n",
            "[104]\ttraining's l2: 0.62509\n",
            "[105]\ttraining's l2: 0.624462\n",
            "[106]\ttraining's l2: 0.623945\n",
            "[107]\ttraining's l2: 0.623604\n",
            "[108]\ttraining's l2: 0.622488\n",
            "[109]\ttraining's l2: 0.621076\n",
            "[110]\ttraining's l2: 0.620436\n",
            "[111]\ttraining's l2: 0.620048\n",
            "[112]\ttraining's l2: 0.618887\n",
            "[113]\ttraining's l2: 0.617667\n",
            "[114]\ttraining's l2: 0.616923\n",
            "[115]\ttraining's l2: 0.616337\n",
            "[116]\ttraining's l2: 0.615244\n",
            "[117]\ttraining's l2: 0.614257\n",
            "[118]\ttraining's l2: 0.613366\n",
            "[119]\ttraining's l2: 0.612802\n",
            "[120]\ttraining's l2: 0.611426\n",
            "[121]\ttraining's l2: 0.610902\n",
            "[122]\ttraining's l2: 0.610375\n",
            "[123]\ttraining's l2: 0.609393\n",
            "[124]\ttraining's l2: 0.60899\n",
            "[125]\ttraining's l2: 0.608424\n",
            "[126]\ttraining's l2: 0.607395\n",
            "[127]\ttraining's l2: 0.605609\n",
            "[128]\ttraining's l2: 0.605266\n",
            "[129]\ttraining's l2: 0.604315\n",
            "[130]\ttraining's l2: 0.603353\n",
            "[131]\ttraining's l2: 0.601608\n",
            "[132]\ttraining's l2: 0.600479\n",
            "[133]\ttraining's l2: 0.600019\n",
            "[134]\ttraining's l2: 0.598954\n",
            "[135]\ttraining's l2: 0.598701\n",
            "[136]\ttraining's l2: 0.597655\n",
            "[137]\ttraining's l2: 0.596809\n",
            "[138]\ttraining's l2: 0.59636\n",
            "[139]\ttraining's l2: 0.595761\n",
            "[140]\ttraining's l2: 0.594475\n",
            "[141]\ttraining's l2: 0.593782\n",
            "[142]\ttraining's l2: 0.592955\n",
            "[143]\ttraining's l2: 0.592357\n",
            "[144]\ttraining's l2: 0.591033\n",
            "[145]\ttraining's l2: 0.590541\n",
            "[146]\ttraining's l2: 0.58982\n",
            "[147]\ttraining's l2: 0.588836\n",
            "[148]\ttraining's l2: 0.587612\n",
            "[149]\ttraining's l2: 0.586602\n",
            "[150]\ttraining's l2: 0.586246\n",
            "[151]\ttraining's l2: 0.584744\n",
            "[152]\ttraining's l2: 0.584529\n",
            "[153]\ttraining's l2: 0.584365\n",
            "[154]\ttraining's l2: 0.583826\n",
            "[155]\ttraining's l2: 0.583695\n",
            "[156]\ttraining's l2: 0.582749\n",
            "[157]\ttraining's l2: 0.582006\n",
            "[158]\ttraining's l2: 0.58122\n",
            "[159]\ttraining's l2: 0.580551\n",
            "[160]\ttraining's l2: 0.580024\n",
            "[161]\ttraining's l2: 0.57954\n",
            "[162]\ttraining's l2: 0.57931\n",
            "[163]\ttraining's l2: 0.578507\n",
            "[164]\ttraining's l2: 0.577974\n",
            "[165]\ttraining's l2: 0.577823\n",
            "[166]\ttraining's l2: 0.576517\n",
            "[167]\ttraining's l2: 0.576142\n",
            "[168]\ttraining's l2: 0.575453\n",
            "[169]\ttraining's l2: 0.575013\n",
            "[170]\ttraining's l2: 0.574621\n",
            "[171]\ttraining's l2: 0.574001\n",
            "[172]\ttraining's l2: 0.573533\n",
            "[173]\ttraining's l2: 0.572656\n",
            "[174]\ttraining's l2: 0.57173\n",
            "[175]\ttraining's l2: 0.571159\n",
            "[176]\ttraining's l2: 0.571038\n",
            "[177]\ttraining's l2: 0.570571\n",
            "[178]\ttraining's l2: 0.570216\n",
            "[179]\ttraining's l2: 0.56944\n",
            "[180]\ttraining's l2: 0.568734\n",
            "[181]\ttraining's l2: 0.568455\n",
            "[182]\ttraining's l2: 0.56771\n",
            "[183]\ttraining's l2: 0.567448\n",
            "[184]\ttraining's l2: 0.567024\n",
            "[185]\ttraining's l2: 0.565997\n",
            "[186]\ttraining's l2: 0.565677\n",
            "[187]\ttraining's l2: 0.564942\n",
            "[188]\ttraining's l2: 0.564214\n",
            "[189]\ttraining's l2: 0.56404\n",
            "[190]\ttraining's l2: 0.56373\n",
            "[191]\ttraining's l2: 0.563095\n",
            "[192]\ttraining's l2: 0.562993\n",
            "[193]\ttraining's l2: 0.562624\n",
            "[194]\ttraining's l2: 0.562129\n",
            "[195]\ttraining's l2: 0.561902\n",
            "[196]\ttraining's l2: 0.561652\n",
            "[197]\ttraining's l2: 0.561044\n",
            "[198]\ttraining's l2: 0.56015\n",
            "[199]\ttraining's l2: 0.559721\n",
            "[200]\ttraining's l2: 0.559032\n"
          ]
        }
      ]
    },
    {
      "cell_type": "code",
      "source": [
        "# how many predictions\n",
        "n_predict = 1000\n",
        "X_predict = np.empty([n_predict, 4], float)\n",
        "\n",
        "# populate X_predict for all values of X that we have\n",
        "i = 0\n",
        "for feature in train_features:\n",
        "    train_min = X_train.T[i].min() \n",
        "    train_max = X_train.T[i].max()\n",
        "    train_mean = X_train.T[i].mean()\n",
        "    # just to ensure we're predicting on X values outside our training range\n",
        "    test_min = train_min - train_mean\n",
        "    test_max = train_max + train_mean\n",
        "\n",
        "    arr = np.linspace(test_min, test_max, n_predict)\n",
        "    # shuffle so combinations across features are random\n",
        "    np.random.shuffle(arr)\n",
        "    \n",
        "    X_predict.T[i] = arr\n",
        "    i += 1\n",
        "    \n",
        "# predictions!\n",
        "y_predict_rf = regr.predict(X_predict)\n",
        "y_predict_gb = lgbmodel.predict(X_predict)"
      ],
      "metadata": {
        "id": "lXNkmseLX7Us"
      },
      "execution_count": 6,
      "outputs": []
    },
    {
      "cell_type": "code",
      "source": [
        "gs_kw = dict(width_ratios=[1], height_ratios=[1])\n",
        "fig, ax = plt.subplots(nrows=1, ncols=1, figsize=(8, 6), gridspec_kw=gs_kw)\n",
        "    \n",
        "axs = sns.histplot(y_predict_rf, ax = ax)\n",
        "axs.set_title(f'{target_feature}, range {y_train.min()} to {y_train.max()}')"
      ],
      "metadata": {
        "colab": {
          "base_uri": "https://localhost:8080/",
          "height": 407
        },
        "id": "cmVHEi4iYDLD",
        "outputId": "24679148-494b-4e47-df74-a1bad9057652"
      },
      "execution_count": 7,
      "outputs": [
        {
          "output_type": "execute_result",
          "data": {
            "text/plain": [
              "Text(0.5, 1.0, 'distance, range 0.0 to 36.7')"
            ]
          },
          "metadata": {},
          "execution_count": 7
        },
        {
          "output_type": "display_data",
          "data": {
            "text/plain": [
              "<Figure size 576x432 with 1 Axes>"
            ],
            "image/png": "[encoded data removed]"
          },
          "metadata": {
            "needs_background": "light"
          }
        }
      ]
    },
    {
      "cell_type": "code",
      "source": [
        "gs_kw = dict(width_ratios=[1], height_ratios=[1])\n",
        "fig, ax = plt.subplots(nrows=1, ncols=1, figsize=(8, 6), gridspec_kw=gs_kw)\n",
        "    \n",
        "axs = sns.histplot(y_predict_gb, ax = ax)\n",
        "axs.set_title(f'{target_feature}, range {y_train.min()} to {y_train.max()}')"
      ],
      "metadata": {
        "colab": {
          "base_uri": "https://localhost:8080/",
          "height": 407
        },
        "id": "Ikr5bq15YPvf",
        "outputId": "2a315acf-2b6a-4e8d-e274-8ab10abb28b0"
      },
      "execution_count": 8,
      "outputs": [
        {
          "output_type": "execute_result",
          "data": {
            "text/plain": [
              "Text(0.5, 1.0, 'distance, range 0.0 to 36.7')"
            ]
          },
          "metadata": {},
          "execution_count": 8
        },
        {
          "output_type": "display_data",
          "data": {
            "text/plain": [
              "<Figure size 576x432 with 1 Axes>"
            ],
            "image/png": "[encoded data removed]"
          },
          "metadata": {
            "needs_background": "light"
          }
        }
      ]
    },
    {
      "cell_type": "markdown",
      "source": [
        "The aim of training is to minimise MSE when growing the tree, we can evaluate MSE at each node that we split\n",
        "![pic1](https://miro.medium.com/max/666/0*zKyY3jxsTgwLHqIE)\n",
        "![pic2](https://miro.medium.com/max/1400/1*nT33PwDnzLtGqnE-SuIn4Q.png)"
      ],
      "metadata": {
        "id": "xy-SkE2ZY3o6"
      }
    },
    {
      "cell_type": "markdown",
      "source": [
        "# Random Forests\n"
      ],
      "metadata": {
        "id": "VJhD9tSNZSxG"
      }
    },
    {
      "cell_type": "markdown",
      "source": [
        "![pic3](https://miro.medium.com/max/680/0*BoINES-rAnDSXH_U)"
      ],
      "metadata": {
        "id": "Ymys38pQZOIZ"
      }
    },
    {
      "cell_type": "markdown",
      "source": [
        "# Gradient Boosted Trees\n"
      ],
      "metadata": {
        "id": "Wl6iZ6elZUHf"
      }
    },
    {
      "cell_type": "markdown",
      "source": [
        "The main difference between RF and GB models is that where RF takes the average of many models, GB trees are additive, meaning we sum the predictions between all trees.<br>\n",
        "![pic4](https://miro.medium.com/max/684/0*KeF_li3khxMzXdNG) <br>\n",
        "![pic5](https://miro.medium.com/max/650/0*T9Q26xoqTdTjnFZp)"
      ],
      "metadata": {
        "id": "SfRwCzlLZccG"
      }
    },
    {
      "cell_type": "code",
      "source": [
        "import lightgbm as lgb\n",
        "\n",
        "# my training dataset\n",
        "X_train = np.array([[0.4, 0.0, 0.6], [0.0, 0.0, 0.4]]).T\n",
        "y_train = np.array([1, 0, 0.5])\n",
        "train_features = [f'feature_{i}' for i in range(2)]\n",
        "\n",
        "# define our model parameters\n",
        "boosting_rounds = 2\n",
        "hp = {\n",
        "    'boosting_type':'gbdt',\n",
        "    'objective':'regression',\n",
        "    'metric':'l2',\n",
        "    'force_col_wise':True,\n",
        "    'max_depth':1,\n",
        "    'min_data_in_leaf':1,\n",
        "    'feature_pre_filter':False,\n",
        "    'learning_rate': 1\n",
        "}\n",
        "\n",
        "# create Dataset class with our training features X and target y\n",
        "train_data = lgb.Dataset(\n",
        "    X_train,\n",
        "    y_train,\n",
        "    feature_name = train_features\n",
        ")\n",
        "\n",
        "# train the model and validate against our training set\n",
        "lgbmodel = lgb.train(\n",
        "    hp,\n",
        "    train_data,\n",
        "    boosting_rounds,\n",
        "    valid_sets = [train_data],\n",
        "    # callbacks = [lgb.log_evaluation(period=10)]\n",
        ")"
      ],
      "metadata": {
        "colab": {
          "base_uri": "https://localhost:8080/"
        },
        "id": "XqbT3MFzYVUu",
        "outputId": "f1795bf3-afce-486b-9da1-77e26e859460"
      },
      "execution_count": 9,
      "outputs": [
        {
          "output_type": "stream",
          "name": "stdout",
          "text": [
            "[1]\ttraining's l2: 0.0416667\n",
            "[2]\ttraining's l2: 0.0104167\n"
          ]
        }
      ]
    },
    {
      "cell_type": "code",
      "source": [
        "manual_lgbm = pd.DataFrame(X_train, columns = train_features)\n",
        "manual_lgbm['y'] = y_train\n",
        "\n",
        "#first step\n",
        "manual_lgbm['f_0'] = 0\n",
        "manual_lgbm['r_0'] = manual_lgbm['y'] - manual_lgbm['f_0']\n",
        "\n",
        "# tree 1\n",
        "manual_lgbm.loc[manual_lgbm['feature_0'] <= 0, 'f_1'] = 0.000\n",
        "manual_lgbm.loc[manual_lgbm['feature_0'] > 0, 'f_1'] = 0.750\n",
        "# residuals of tree 1\n",
        "manual_lgbm['r_1'] = manual_lgbm['r_0'] - manual_lgbm['f_1']\n",
        "\n",
        "# tree 2\n",
        "manual_lgbm.loc[manual_lgbm['feature_1'] <= 0, 'f_2'] = 0.125\n",
        "manual_lgbm.loc[manual_lgbm['feature_1'] > 0, 'f_2'] = -0.250\n",
        "# residuals of tree 2\n",
        "manual_lgbm['r_2'] = manual_lgbm['r_1'] - manual_lgbm['f_2']\n",
        "\n",
        "# predictions\n",
        "manual_lgbm['y_pred'] = manual_lgbm['f_0'] + manual_lgbm['f_1'] + manual_lgbm['f_2']"
      ],
      "metadata": {
        "id": "2qZOAf-XZ73T"
      },
      "execution_count": 10,
      "outputs": []
    }
  ]
}