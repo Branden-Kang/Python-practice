{
  "nbformat": 4,
  "nbformat_minor": 0,
  "metadata": {
    "colab": {
      "name": "The definitive intro guide to Machine Learning.ipynb",
      "provenance": [],
      "authorship_tag": "ABX9TyNHd0/cf9RV+rPNHB5haE4+"
    },
    "kernelspec": {
      "name": "python3",
      "display_name": "Python 3"
    },
    "language_info": {
      "name": "python"
    }
  },
  "cells": [
    {
      "cell_type": "markdown",
      "source": [
        "[Reference](https://ai.plainenglish.io/the-definitive-intro-guide-to-machine-learning-analyzing-customer-behaviour-c1f9744ecc88)"
      ],
      "metadata": {
        "id": "aJwHgUU_Smqf"
      }
    },
    {
      "cell_type": "code",
      "execution_count": 2,
      "metadata": {
        "id": "MG3WxROCSbix"
      },
      "outputs": [],
      "source": [
        "import sqlite3, pandas as pd, numpy as np ,os\n",
        "\n",
        "directory = \"source_files\"\n",
        "\n",
        "dbname = 'CompleteJourneyDB'\n",
        "conn = sqlite3.connect(dbname + '.sqlite')\n",
        "cur = conn.cursor()\n",
        "chunksize = 1024\n",
        "\n",
        "with os.scandir(directory) as files:\n",
        "    files = [file.name for file in files if file.is_file() and file.name.endswith('.csv')]\n",
        "\n",
        "files = os.listdir(directory)\n",
        "\n",
        "for filename in files:\n",
        "    file_to_load = directory + \"\\\\\" + filename \n",
        "    for chunk in pd.read_csv(file_to_load, chunksize=chunksize):\n",
        "        #chunk.columns = chunk.columns.str.replace(' ', '_') #replacing spaces with underscores for column names\n",
        "        chunk.to_sql(name=filename.split(\".\")[0], con=conn, if_exists='append')\n",
        "\n",
        "cur.close()"
      ]
    },
    {
      "cell_type": "code",
      "source": [
        "import sqlite3, pandas as pd\n",
        "\n",
        "dbname = 'CompleteJourneyDB.sqlite'\n",
        "sql_query = \"SELECT * FROM transaction_data;\"\n",
        "\n",
        "try:\n",
        "\n",
        "    conn = sqlite3.connect(dbname) \n",
        "    df_transactions = pd.read_sql(sql_query, conn)\n",
        "\n",
        "except sqlite3.Error as error:\n",
        "    print(\"Failed to execute the above query\", error)\n",
        "      \n",
        "finally:        \n",
        "    if conn:\n",
        "        conn.close()       \n",
        "\n",
        "df_transactions.head()"
      ],
      "metadata": {
        "id": "oFj6822ASvpq"
      },
      "execution_count": 3,
      "outputs": []
    }
  ]
}