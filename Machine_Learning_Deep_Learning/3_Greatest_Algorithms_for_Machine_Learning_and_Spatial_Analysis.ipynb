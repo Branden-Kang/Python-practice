{
  "nbformat": 4,
  "nbformat_minor": 0,
  "metadata": {
    "colab": {
      "provenance": [],
      "authorship_tag": "ABX9TyNF7SpYZ7CXPq26Ub4efQcV"
    },
    "kernelspec": {
      "name": "python3",
      "display_name": "Python 3"
    },
    "language_info": {
      "name": "python"
    }
  },
  "cells": [
    {
      "cell_type": "markdown",
      "source": [
        "[Reference](https://pub.towardsai.net/3-greatest-algorithms-for-machine-learning-and-spatial-analysis-6285a2bcb85e)"
      ],
      "metadata": {
        "id": "iN5fISGbh49i"
      }
    },
    {
      "cell_type": "code",
      "execution_count": 1,
      "metadata": {
        "colab": {
          "base_uri": "https://localhost:8080/"
        },
        "id": "RrlHrJHqh1jc",
        "outputId": "4df19760-74eb-439e-c965-95f78cccb7ef"
      },
      "outputs": [
        {
          "output_type": "stream",
          "name": "stdout",
          "text": [
            "Random Forest Accuracy: 0.0\n"
          ]
        }
      ],
      "source": [
        "import geopandas as gpd\n",
        "from sklearn.model_selection import train_test_split\n",
        "from sklearn.ensemble import RandomForestClassifier\n",
        "from sklearn.metrics import accuracy_score\n",
        "\n",
        "# Create a sample GeoDataFrame\n",
        "data = {\n",
        "    'latitude': [34.05, 36.16, 40.71, 37.77],\n",
        "    'longitude': [-118.24, -115.15, -74.01, -122.42],\n",
        "    'feature1': [10, 20, 30, 40],\n",
        "    'feature2': [15, 25, 35, 45],\n",
        "    'target': [0, 1, 0, 1]\n",
        "}\n",
        "gdf = gpd.GeoDataFrame(data, geometry=gpd.points_from_xy(data['longitude'], data['latitude']))\n",
        "\n",
        "# Define the feature matrix and target vector\n",
        "X = gdf[['latitude', 'longitude', 'feature1', 'feature2']]  # Add other features as needed\n",
        "y = gdf['target']\n",
        "\n",
        "# Split the data into training and testing sets\n",
        "X_train, X_test, y_train, y_test = train_test_split(X, y, test_size=0.3, random_state=42)\n",
        "\n",
        "# Initialize and train the Random Forest classifier\n",
        "rf = RandomForestClassifier(n_estimators=100, random_state=42)\n",
        "rf.fit(X_train, y_train)\n",
        "\n",
        "# Make predictions and evaluate the model\n",
        "y_pred = rf.predict(X_test)\n",
        "print(f'Random Forest Accuracy: {accuracy_score(y_test, y_pred)}')"
      ]
    },
    {
      "cell_type": "code",
      "source": [
        "import geopandas as gpd\n",
        "from sklearn.model_selection import train_test_split\n",
        "from sklearn.neighbors import KNeighborsClassifier\n",
        "from sklearn.metrics import accuracy_score\n",
        "\n",
        "# Create a sample GeoDataFrame\n",
        "data = {\n",
        "    'latitude': [34.05, 36.16, 40.71, 37.77],\n",
        "    'longitude': [-118.24, -115.15, -74.01, -122.42],\n",
        "    'feature1': [10, 20, 30, 40],\n",
        "    'feature2': [15, 25, 35, 45],\n",
        "    'target': [0, 1, 0, 1]\n",
        "}\n",
        "gdf = gpd.GeoDataFrame(data, geometry=gpd.points_from_xy(data['longitude'], data['latitude']))\n",
        "\n",
        "# Define the feature matrix and target vector\n",
        "X = gdf[['latitude', 'longitude', 'feature1', 'feature2']]  # Add other features as needed\n",
        "y = gdf['target']\n",
        "\n",
        "# Split the data into training and testing sets\n",
        "X_train, X_test, y_train, y_test = train_test_split(X, y, test_size=0.3, random_state=42)\n",
        "\n",
        "# Initialize and train the k-NN classifier\n",
        "knn = KNeighborsClassifier(n_neighbors=2)\n",
        "knn.fit(X_train, y_train)\n",
        "\n",
        "# Make predictions and evaluate the model\n",
        "y_pred = knn.predict(X_test)\n",
        "print(f'k-NN Accuracy: {accuracy_score(y_test, y_pred)}')"
      ],
      "metadata": {
        "colab": {
          "base_uri": "https://localhost:8080/"
        },
        "id": "QWDCRTyxh9f-",
        "outputId": "2c098705-84a6-4034-ee13-9bddea361898"
      },
      "execution_count": 4,
      "outputs": [
        {
          "output_type": "stream",
          "name": "stdout",
          "text": [
            "k-NN Accuracy: 0.0\n"
          ]
        }
      ]
    }
  ]
}
