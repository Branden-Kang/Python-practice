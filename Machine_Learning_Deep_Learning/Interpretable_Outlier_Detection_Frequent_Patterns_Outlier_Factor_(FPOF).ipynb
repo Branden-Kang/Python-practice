{
  "nbformat": 4,
  "nbformat_minor": 0,
  "metadata": {
    "colab": {
      "provenance": [],
      "authorship_tag": "ABX9TyN2cFhauLi7lPycGJ24oJfJ"
    },
    "kernelspec": {
      "name": "python3",
      "display_name": "Python 3"
    },
    "language_info": {
      "name": "python"
    }
  },
  "cells": [
    {
      "cell_type": "markdown",
      "source": [
        "[Reference](https://towardsdatascience.com/interpretable-outlier-detection-frequent-patterns-outlier-factor-fpof-0d9cbf51b17a)"
      ],
      "metadata": {
        "id": "TaEM_P0dPysp"
      }
    },
    {
      "cell_type": "code",
      "execution_count": 10,
      "metadata": {
        "id": "iAHQvin0Pvpu"
      },
      "outputs": [],
      "source": [
        "from mlxtend.frequent_patterns import apriori\n",
        "import pandas as pd\n",
        "from sklearn.datasets import fetch_openml\n",
        "import warnings\n",
        "\n",
        "warnings.filterwarnings(action='ignore', category=DeprecationWarning)\n",
        "\n",
        "data = fetch_openml('SpeedDating', version=1, parser='auto')\n",
        "data_df = pd.DataFrame(data.data, columns=data.feature_names)\n",
        "\n",
        "data_df = data_df[['d_pref_o_attractive', 'd_pref_o_sincere',\n",
        "                   'd_pref_o_intelligence', 'd_pref_o_funny',\n",
        "                   'd_pref_o_ambitious', 'd_pref_o_shared_interests']]\n",
        "data_df = pd.get_dummies(data_df)\n",
        "# for col_name in data_df.columns:\n",
        "#     data_df[col_name] = data_df[col_name].map({0: False, 1: True})\n",
        "\n",
        "frequent_itemsets = apriori(data_df, min_support=0.3, use_colnames=True)\n",
        "\n",
        "data_df['FPOF_Score'] = 0\n",
        "\n",
        "for fis_idx in frequent_itemsets.index:\n",
        "    fis = frequent_itemsets.loc[fis_idx, 'itemsets']\n",
        "    support = frequent_itemsets.loc[fis_idx, 'support']\n",
        "    col_list = (list(fis))\n",
        "    cond = True\n",
        "    for col_name in col_list:\n",
        "        cond = cond & (data_df[col_name])\n",
        "\n",
        "    data_df.loc[data_df[cond].index, 'FPOF_Score'] += support\n",
        "\n",
        "min_score = data_df['FPOF_Score'].min()\n",
        "max_score = data_df['FPOF_Score'].max()\n",
        "data_df['FPOF_Score'] = [(max_score - x) / (max_score - min_score)\n",
        "                         for x in data_df['FPOF_Score']]"
      ]
    },
    {
      "cell_type": "code",
      "source": [
        "frequent_itemsets['length'] = \\\n",
        "    frequent_itemsets['itemsets'].apply(lambda x: len(x))"
      ],
      "metadata": {
        "id": "fe54X7dpQqS7"
      },
      "execution_count": 11,
      "outputs": []
    }
  ]
}
