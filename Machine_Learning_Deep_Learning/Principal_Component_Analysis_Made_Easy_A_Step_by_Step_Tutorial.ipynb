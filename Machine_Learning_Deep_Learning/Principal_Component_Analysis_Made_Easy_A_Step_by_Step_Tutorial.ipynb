{
  "nbformat": 4,
  "nbformat_minor": 0,
  "metadata": {
    "colab": {
      "provenance": [],
      "authorship_tag": "ABX9TyNlcCzi1DqT9O0iJEMayaAC"
    },
    "kernelspec": {
      "name": "python3",
      "display_name": "Python 3"
    },
    "language_info": {
      "name": "python"
    }
  },
  "cells": [
    {
      "cell_type": "markdown",
      "source": [
        "[Reference](https://towardsdatascience.com/principal-component-analysis-made-easy-a-step-by-step-tutorial-184f295e97fe)"
      ],
      "metadata": {
        "id": "sKeR2xr5Uske"
      }
    },
    {
      "cell_type": "code",
      "execution_count": 1,
      "metadata": {
        "id": "JC18brFUUiAc"
      },
      "outputs": [],
      "source": [
        "class PCA:\n",
        "    def __init__(self, n_components):\n",
        "        self.n_components = n_components\n",
        "        self.components = None\n",
        "        self.mean = None\n",
        "        self.explained_variance = None\n",
        "\n",
        "    def fit(self, X):\n",
        "        # Step 1: Standardize the data (subtract the mean)\n",
        "        self.mean = np.mean(X, axis=0)\n",
        "        X_centered = X - self.mean\n",
        "\n",
        "        # Step 2: Compute the covariance matrix\n",
        "        cov_matrix = np.cov(X_centered, rowvar=False)\n",
        "\n",
        "        # Step 3: Compute the eigenvalues and eigenvectors\n",
        "        eigenvalues, eigenvectors = np.linalg.eig(cov_matrix)\n",
        "\n",
        "        # Step 4: Sort the eigenvalues and corresponding eigenvectors\n",
        "        sorted_indices = np.argsort(eigenvalues)[::-1]\n",
        "        eigenvalues = eigenvalues[sorted_indices]\n",
        "        eigenvectors = eigenvectors[:, sorted_indices]\n",
        "\n",
        "        # Step 5: Select the top n_components\n",
        "        self.components = eigenvectors[:, :self.n_components]\n",
        "\n",
        "        # Calculate explained variance\n",
        "        total_variance = np.sum(eigenvalues)\n",
        "        self.explained_variance = eigenvalues[:self.n_components] / total_variance\n",
        "\n",
        "    def transform(self, X):\n",
        "        # Step 6: Project the data onto the selected components\n",
        "        X_centered = X - self.mean\n",
        "        return np.dot(X_centered, self.components)\n",
        "\n",
        "    def plot_explained_variance(self):\n",
        "        # Create labels for each principal component\n",
        "        labels = [f'PCA{i+1}' for i in range(self.n_components)]\n",
        "\n",
        "        # Create a bar plot for explained variance\n",
        "        plt.figure(figsize=(8, 6))\n",
        "        plt.bar(range(1, self.n_components + 1), self.explained_variance, alpha=0.7, align='center', color='blue', tick_label=labels)\n",
        "        plt.xlabel('Principal Component')\n",
        "        plt.ylabel('Explained Variance Ratio')\n",
        "        plt.title('Explained Variance by Principal Components')\n",
        "        plt.show()"
      ]
    },
    {
      "cell_type": "code",
      "source": [
        "import numpy as np"
      ],
      "metadata": {
        "id": "LfqJPUkOUpLr"
      },
      "execution_count": 3,
      "outputs": []
    },
    {
      "cell_type": "code",
      "source": [
        "# create simulated data for analysis\n",
        "np.random.seed(42)\n",
        "# Generate a low-dimensional signal\n",
        "low_dim_data = np.random.randn(100, 4)\n",
        "\n",
        "# Create a random projection matrix to project into higher dimensions\n",
        "projection_matrix = np.random.randn(4, 10)\n",
        "\n",
        "# Project the low-dimensional data to higher dimensions\n",
        "high_dim_data = np.dot(low_dim_data, projection_matrix)\n",
        "\n",
        "# Add some noise to the high-dimensional data\n",
        "noise = np.random.normal(loc=0, scale=0.5, size=(100, 10))\n",
        "data_with_noise = high_dim_data + noise\n",
        "\n",
        "X = data_with_noise"
      ],
      "metadata": {
        "id": "pFQVrz7cUmDr"
      },
      "execution_count": 4,
      "outputs": []
    },
    {
      "cell_type": "code",
      "source": [
        "# Apply PCA\n",
        "pca = PCA(n_components=10)\n",
        "pca.fit(X)\n",
        "X_transformed = pca.transform(X)\n",
        "\n",
        "print(\"Explained Variance:\\n\", pca.explained_variance)"
      ],
      "metadata": {
        "colab": {
          "base_uri": "https://localhost:8080/"
        },
        "id": "wcLt5TDlUnUD",
        "outputId": "17809343-d424-48a1-b873-53b50c981ea8"
      },
      "execution_count": 5,
      "outputs": [
        {
          "output_type": "stream",
          "name": "stdout",
          "text": [
            "Explained Variance:\n",
            " [0.55405589 0.25223221 0.11137198 0.05298214 0.0064076  0.00625557\n",
            " 0.00510674 0.00441098 0.00401037 0.00316652]\n"
          ]
        }
      ]
    }
  ]
}
