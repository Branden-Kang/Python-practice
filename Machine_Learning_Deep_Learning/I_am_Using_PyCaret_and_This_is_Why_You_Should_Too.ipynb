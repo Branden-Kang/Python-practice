{
  "nbformat": 4,
  "nbformat_minor": 0,
  "metadata": {
    "colab": {
      "name": "I am Using PyCaret and This is Why You Should Too.ipynb",
      "provenance": [],
      "authorship_tag": "ABX9TyPPdYBf4KjQ6xZHnlMFVTDq"
    },
    "kernelspec": {
      "name": "python3",
      "display_name": "Python 3"
    },
    "language_info": {
      "name": "python"
    }
  },
  "cells": [
    {
      "cell_type": "code",
      "execution_count": 1,
      "metadata": {
        "id": "CuT0rYChKqcN"
      },
      "outputs": [],
      "source": [
        "#normalizing\n",
        "from sklearn import preprocessing\n",
        "min_max_scaler = preprocessing.MinMaxScaler()\n",
        "df_scaled = min_max_scaler.fit_transform(df)\n",
        "df_normalized = pd.DataFrame(df_scaled, columns = cols)\n",
        "\n",
        "#transformation\n",
        "from feature_engine import transformation\n",
        "X = df.iloc[:, 0:9].copy()\n",
        "y = df['state']\n",
        "tf = transformation.YeoJohnsonTransformer(variables = ['actual_soc', 'consumption'])\n",
        "tf.fit(X)\n",
        "X = tf.transform(X)\n",
        "\n",
        "#smote\n",
        "from imblearn.over_sampling import SMOTE \n",
        "sm = SMOTE(random_state=42)\n",
        "X_smote, y_smote = sm.fit_resample(X, y)\n",
        "X = pd.concat([X_smote, y_smote], axis=1)\n",
        "\n",
        "#onehotencoding\n",
        "from sklearn.preprocessing import OneHotEncoder\n",
        "X1 = X.copy()\n",
        "X1 = X1.values\n",
        "enc = OneHotEncoder(categories='auto')\n",
        "X1 = enc.fit_transform(X1).toarray()\n",
        "\n",
        "\n",
        "#train test split\n",
        "#10 fold cv with grid search\n",
        "del X1['state']\n",
        "X_train, X_test, y_train, y_test = train_test_split(X1, y_smote, test_size=0.25, random_state=1)\n",
        "\n",
        "#model training and tuning\n",
        "from sklearn.model_selection import KFold, cross_validate\n",
        "from sklearn.tree import DecisionTreeClassifier\n",
        "from sklearn.model_selection import GridSearchCV\n",
        "\n",
        "n_splits = 10\n",
        "kf = KFold(n_splits=n_splits, shuffle=True)\n",
        "model = DecisionTreeClassifier()\n",
        "k_values = [1,2,3,5,10]\n",
        "searchspace = {'max_depth': k_values}\n",
        "search = GridSearchCV(model, searchspace=searchspace, scoring='accuracy', cv=kf, refit=True, verbose=0, n_jobs=-1)\n",
        "result = search.fit(X_train, y_train)"
      ]
    },
    {
      "cell_type": "code",
      "source": [
        "workflow = setup(df, target = 'state', normalize = True, transformation = True, transformation_method = 'yeo-johnson', \n",
        "                 fix_imbalance = True, session_id = 123)\n",
        "dt = create_model('dt')\n",
        "k_values = [1,2,3,5,10]\n",
        "searchspace = {'max_depth': k_values}\n",
        "tuned_dt = tune_model(dt, custom_grid = searchspace)"
      ],
      "metadata": {
        "id": "RgeQSDWoKuDa"
      },
      "execution_count": 2,
      "outputs": []
    },
    {
      "cell_type": "code",
      "source": [
        "eda(display_format = 'svg')"
      ],
      "metadata": {
        "id": "yX1DkUUjxPkF"
      },
      "execution_count": 3,
      "outputs": []
    },
    {
      "cell_type": "code",
      "source": [
        "dashboard(dt)"
      ],
      "metadata": {
        "id": "j-YFMv-6xRKh"
      },
      "execution_count": 4,
      "outputs": []
    },
    {
      "cell_type": "code",
      "source": [
        "evaluate_model(dt)"
      ],
      "metadata": {
        "id": "xkGXmoDaxShP"
      },
      "execution_count": 5,
      "outputs": []
    }
  ]
}