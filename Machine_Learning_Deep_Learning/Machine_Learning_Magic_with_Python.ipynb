{
  "nbformat": 4,
  "nbformat_minor": 0,
  "metadata": {
    "colab": {
      "provenance": [],
      "authorship_tag": "ABX9TyO9drYZJMo4lXjHN7tSQahn"
    },
    "kernelspec": {
      "name": "python3",
      "display_name": "Python 3"
    },
    "language_info": {
      "name": "python"
    }
  },
  "cells": [
    {
      "cell_type": "markdown",
      "source": [
        "[Reference](https://medium.com/@23saini/machine-learning-magic-with-python-a54293fa107c)"
      ],
      "metadata": {
        "id": "iSg83l24BZKh"
      }
    },
    {
      "cell_type": "markdown",
      "source": [
        "# 1. Guess the Fruit — Decision Trees"
      ],
      "metadata": {
        "id": "Qm6tlsDwBbhk"
      }
    },
    {
      "cell_type": "code",
      "execution_count": 1,
      "metadata": {
        "colab": {
          "base_uri": "https://localhost:8080/"
        },
        "id": "ZI8pfxmMBXAX",
        "outputId": "84ff328a-f20f-4ef2-8e3e-52f4728f6364"
      },
      "outputs": [
        {
          "output_type": "stream",
          "name": "stdout",
          "text": [
            "I think it's a apple\n"
          ]
        }
      ],
      "source": [
        "def guess_fruit(color, size):\n",
        "    if color == \"red\":\n",
        "        return \"apple\"\n",
        "    else:\n",
        "        if size == \"small\":\n",
        "            return \"grape\"\n",
        "        else:\n",
        "            return \"watermelon\"\n",
        "\n",
        "mystery_fruit = guess_fruit(\"red\", \"medium\")\n",
        "print(\"I think it's a\", mystery_fruit)"
      ]
    },
    {
      "cell_type": "markdown",
      "source": [
        "# 2. Spooky or Friendly? — Naive Bayes"
      ],
      "metadata": {
        "id": "e_zxRCeRBd04"
      }
    },
    {
      "cell_type": "code",
      "source": [
        "def spooky_or_friendly(text):\n",
        "    spooky_words = [\"ghost\", \"haunted\", \"scary\"]\n",
        "    friendly_words = [\"smile\", \"happy\", \"friend\"]\n",
        "\n",
        "    spooky_score = sum(text.count(word) for word in spooky_words)\n",
        "    friendly_score = sum(text.count(word) for word in friendly_words)\n",
        "\n",
        "    if spooky_score > friendly_score:\n",
        "        return \"Spooky\"\n",
        "    else:\n",
        "        return \"Friendly\"\n",
        "\n",
        "text = \"I saw a ghost and smiled.\"\n",
        "result = spooky_or_friendly(text)\n",
        "print(\"This text is:\", result)"
      ],
      "metadata": {
        "colab": {
          "base_uri": "https://localhost:8080/"
        },
        "id": "mc_82TKhBc6W",
        "outputId": "72d44a9c-af00-4bf2-fcc2-62571a6b6c9f"
      },
      "execution_count": 2,
      "outputs": [
        {
          "output_type": "stream",
          "name": "stdout",
          "text": [
            "This text is: Friendly\n"
          ]
        }
      ]
    },
    {
      "cell_type": "markdown",
      "source": [
        "# 3. Number Magician — Linear Regression\n"
      ],
      "metadata": {
        "id": "LYi2iZuWBimA"
      }
    },
    {
      "cell_type": "code",
      "source": [
        "from sklearn.linear_model import LinearRegression\n",
        "\n",
        "x = [[1], [2], [3], [4]]\n",
        "y = [3, 5, 7, 9]\n",
        "\n",
        "model = LinearRegression()\n",
        "model.fit(x, y)\n",
        "\n",
        "next_number = model.predict([[5]])\n",
        "print(\"Next number:\", next_number[0])"
      ],
      "metadata": {
        "colab": {
          "base_uri": "https://localhost:8080/"
        },
        "id": "S3eSvmOjBhQM",
        "outputId": "c0fa2abc-54f7-4de0-d9db-28d2b8fdaf23"
      },
      "execution_count": 3,
      "outputs": [
        {
          "output_type": "stream",
          "name": "stdout",
          "text": [
            "Next number: 11.0\n"
          ]
        }
      ]
    },
    {
      "cell_type": "markdown",
      "source": [
        "# 4. Color Detectives — K-Means Clustering\n"
      ],
      "metadata": {
        "id": "tpnJR9fQBp3F"
      }
    },
    {
      "cell_type": "code",
      "source": [
        "from sklearn.cluster import KMeans\n",
        "import matplotlib.pyplot as plt\n",
        "\n",
        "colors = [[255, 0, 0], [0, 255, 0], [0, 0, 255], [128, 128, 128]]\n",
        "\n",
        "model = KMeans(n_clusters=2)\n",
        "model.fit(colors)\n",
        "\n",
        "color_labels = model.labels_\n",
        "print(\"Color labels:\", color_labels)\n",
        "\n",
        "plt.scatter(*zip(*colors), c=color_labels)\n",
        "plt.show()"
      ],
      "metadata": {
        "colab": {
          "base_uri": "https://localhost:8080/",
          "height": 501
        },
        "id": "3QID1naLBjlQ",
        "outputId": "5054624f-5f24-4b71-8db7-58495cbaa1d4"
      },
      "execution_count": 4,
      "outputs": [
        {
          "output_type": "stream",
          "name": "stderr",
          "text": [
            "/usr/local/lib/python3.10/dist-packages/sklearn/cluster/_kmeans.py:870: FutureWarning: The default value of `n_init` will change from 10 to 'auto' in 1.4. Set the value of `n_init` explicitly to suppress the warning\n",
            "  warnings.warn(\n"
          ]
        },
        {
          "output_type": "stream",
          "name": "stdout",
          "text": [
            "Color labels: [1 0 0 0]\n"
          ]
        },
        {
          "output_type": "display_data",
          "data": {
            "text/plain": [
              "<Figure size 640x480 with 1 Axes>"
            ],
            "image/png": "[encoded data removed]"
          },
          "metadata": {}
        }
      ]
    },
    {
      "cell_type": "markdown",
      "source": [
        "# 5. Shape Sorter — Support Vector Machines (SVM)"
      ],
      "metadata": {
        "id": "cY8ULyAmBsB_"
      }
    },
    {
      "cell_type": "code",
      "source": [
        "from sklearn import svm\n",
        "\n",
        "shapes = [[3, 0], [4, 4], [1, 0], [0, 0]]\n",
        "labels = [\"Triangle\", \"Circle\", \"Square\", \"Dot\"]\n",
        "\n",
        "model = svm.SVC()\n",
        "model.fit(shapes, labels)\n",
        "\n",
        "new_shape = [[2, 1]]  # Triangle-like shape\n",
        "predicted_shape = model.predict(new_shape)\n",
        "print(\"Predicted shape:\", predicted_shape[0])"
      ],
      "metadata": {
        "colab": {
          "base_uri": "https://localhost:8080/"
        },
        "id": "NgIAZlBNBrCV",
        "outputId": "255da4d0-7352-444f-d703-20aa5810a0dd"
      },
      "execution_count": 5,
      "outputs": [
        {
          "output_type": "stream",
          "name": "stdout",
          "text": [
            "Predicted shape: Triangle\n"
          ]
        }
      ]
    }
  ]
}
