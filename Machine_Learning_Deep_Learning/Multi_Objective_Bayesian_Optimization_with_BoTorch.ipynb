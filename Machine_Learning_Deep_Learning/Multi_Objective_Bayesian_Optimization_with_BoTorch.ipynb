{
  "nbformat": 4,
  "nbformat_minor": 0,
  "metadata": {
    "colab": {
      "name": "Multi Objective Bayesian Optimization with BoTorch.ipynb",
      "provenance": [],
      "authorship_tag": "ABX9TyNUF+jAQUHJcIGIxcy8MnGv"
    },
    "kernelspec": {
      "name": "python3",
      "display_name": "Python 3"
    },
    "language_info": {
      "name": "python"
    }
  },
  "cells": [
    {
      "cell_type": "markdown",
      "source": [
        "[Reference](https://jonathan-guerne.medium.com/multi-objective-bayesian-optimization-with-botorch-3c5cf348c63b)"
      ],
      "metadata": {
        "id": "CNsOhIT_GoT2"
      }
    },
    {
      "cell_type": "code",
      "execution_count": 1,
      "metadata": {
        "id": "7biqK3QlGfY_"
      },
      "outputs": [],
      "source": [
        "# model = SingleTaskGP(x, y)\n",
        "# mll = ExactMarginalLogLikelihood(model.likelihood, model)\n",
        "\n",
        "# fit_gpytorch_model(mll)\n",
        "\n",
        "# expected_improvement = qExpectedImprovement(\n",
        "#         model=model,\n",
        "#         best_f=best_y,\n",
        "#     )\n",
        "\n",
        "# candidates, _ = optimize_acqf(\n",
        "#     acq_function=expected_improvement,\n",
        "#     bounds=bounds,\n",
        "#     q=n_candidates,\n",
        "#     num_restarts=200,\n",
        "#     raw_samples=512,         \n",
        "# )"
      ]
    },
    {
      "cell_type": "code",
      "source": [
        "def initialize_model(train_x, train_y):\n",
        "    \n",
        "    train_x = normalize(train_x, bounds)\n",
        "    models = []\n",
        "    for i in range(train_y.shape[-1]):\n",
        "        train_objective = train_y[:, i]\n",
        "        models.append(\n",
        "            SingleTaskGP(train_x, train_objective.unsqueeze(-1))\n",
        "        )\n",
        "    model = ModelListGP(*models)\n",
        "    mll = SumMarginalLogLikelihood(model.likelihood, model)\n",
        "    return mll, model"
      ],
      "metadata": {
        "id": "p0XOad6lGyid"
      },
      "execution_count": 2,
      "outputs": []
    },
    {
      "cell_type": "code",
      "source": [
        "acq_fun_list = []\n",
        "    \n",
        "for _ in range(n_candidates):\n",
        "    \n",
        "    weights = sample_simplex(2).squeeze()\n",
        "    objective = GenericMCObjective(\n",
        "        get_chebyshev_scalarization(\n",
        "            weights,\n",
        "            pred\n",
        "        )\n",
        "    )\n",
        "    \n",
        "    acq_fun = qNoisyExpectedImprovement(\n",
        "        model=model,\n",
        "        objective=objective,\n",
        "        sampler=sampler,\n",
        "        X_baseline=train_x,\n",
        "        prune_baseline=True,\n",
        "    )\n",
        "    \n",
        "    acq_fun_list.append(acq_fun)\n",
        "\n",
        "\n",
        "candidates, _ = optimize_acqf_list(\n",
        "    acq_function_list=acq_fun_list,\n",
        "    bounds=standard_bounds,\n",
        "    num_restarts=NUM_RESTARTS,\n",
        "    raw_samples=RAW_SAMPLES,\n",
        ")"
      ],
      "metadata": {
        "id": "wEg-2rUjGy4E"
      },
      "execution_count": 3,
      "outputs": []
    }
  ]
}
