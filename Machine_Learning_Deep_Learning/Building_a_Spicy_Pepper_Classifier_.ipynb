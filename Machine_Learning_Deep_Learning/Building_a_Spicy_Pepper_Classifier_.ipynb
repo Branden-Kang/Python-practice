{
  "nbformat": 4,
  "nbformat_minor": 0,
  "metadata": {
    "colab": {
      "name": "Building a Spicy Pepper Classifier .ipynb",
      "provenance": [],
      "authorship_tag": "ABX9TyP+Cj8mdAoZLSuq9CEbYldL"
    },
    "kernelspec": {
      "name": "python3",
      "display_name": "Python 3"
    },
    "language_info": {
      "name": "python"
    }
  },
  "cells": [
    {
      "cell_type": "markdown",
      "metadata": {
        "id": "u39hy4cQ4qPP"
      },
      "source": [
        "[Reference](https://pub.towardsai.net/building-a-spicy-pepper-classifier-with-no-datasets-96-accuracy-8262d54a8117)"
      ]
    },
    {
      "cell_type": "code",
      "metadata": {
        "id": "b_0O9G9Ff5T8"
      },
      "source": [
        "#   measurements\n",
        "pepper_measurements_px = [\n",
        "                          ['Anaheim', 262, 63, 'Green'],\n",
        "                          ['Cubanelle', 222, 70, 'Green'],\n",
        "                          ['Cayenne', 249, 22, 'Red'],\n",
        "                          ['Shishito', 140, 21, 'Green'],\n",
        "                          ['Hungarian Wax', 148, 63, 'Orange'],\n",
        "['Jimmy Nardello', 190, 23, 'Red'],\n",
        "                          ['Fresno', 120, 43, 'Red'],\n",
        "                          ['Jalapeno', 106, 40, 'Dark Green'],\n",
        "                          ['Aji Amarillo', 92, 13, 'Yellow'],\n",
        "                          ['Aji Dulce', 81, 30, 'Red'],\n",
        "['Serrano', 74, 14, 'Dark Green'],\n",
        "                          ['Padron', 62, 38, 'Dark Green'],\n",
        "                          ['Scotch Bonnet', 37, 42, 'Yellow'],\n",
        "                          ['Habanero', 67, 21, 'Orange'],\n",
        "                          ['Cumari', 18, 11, 'Yellow'],\n",
        "]"
      ],
      "execution_count": 1,
      "outputs": []
    },
    {
      "cell_type": "code",
      "metadata": {
        "id": "xNEA6VIs3bqf"
      },
      "source": [
        "#simulated probability distribution of one stock\n",
        "from scipy.stats import skewnorm\n",
        "import matplotlib.pyplot as plt\n",
        "import pandas as pd\n",
        "import numpy as np\n",
        "\n",
        "def create_peppers(sd, mean, alfa, size):\n",
        "  #invertire il segno di alfa\n",
        "  x = skewnorm.rvs(-alfa, size=size) \n",
        "  def calc(k, sd, mean):\n",
        "    return (k*sd)+mean\n",
        "  x = calc(x, sd, mean) #standard distribution\n",
        "  \n",
        "  #graph the distribution\n",
        "  #pd.DataFrame(x).hist(bins=100)\n",
        "  #pick one random number from the distribution\n",
        "  #formally I would use cdf, but I just have to pick randomly from the 1000000 samples\n",
        "  df = [np.random.choice(x) for k in range(size)]\n",
        "  #return the DataFrame\n",
        "  return pd.DataFrame(df)\n",
        "  \n",
        "def cm_converter(px_measurements):\n",
        "  pc_cm = 0.05725\n",
        "  for _ in range(len(px_measurements)):\n",
        "    px_measurements[_][1] *= pc_cm\n",
        "    px_measurements[_][2] *= pc_cm\n",
        "  return px_measurements"
      ],
      "execution_count": 3,
      "outputs": []
    },
    {
      "cell_type": "code",
      "metadata": {
        "colab": {
          "base_uri": "https://localhost:8080/",
          "height": 419
        },
        "id": "mPrHlUwJ3deq",
        "outputId": "8fb8fac7-3aa8-43aa-c5c3-d097fdd1d4f4"
      },
      "source": [
        "#   create converted list\n",
        "pepper_measurements_cm = cm_converter(pepper_measurements_px)\n",
        "\n",
        "#   create final datasets\n",
        "heigh_sd = 0.1\n",
        "width_sd = 0.1\n",
        "\n",
        "df = pd.DataFrame()\n",
        "for _ in pepper_measurements_cm:\n",
        "  #   create height\n",
        "  #SD is 10% of the height\n",
        "  df_height = create_peppers(_[1]*heigh_sd, _[1], 0, 100000)\n",
        "  #   create width\n",
        "  #SD is 10% of the width\n",
        "  df_width = create_peppers(_[2]*width_sd, _[2], 0, 100000)\n",
        "  #create DataFrame\n",
        "  df_single = pd.concat([df_height, df_width], axis=1)\n",
        "  df_single.columns = ['height', 'width']\n",
        "  #create name\n",
        "  df_single['name'] = str(_[0])\n",
        "  df_single['color'] = str(_[3])\n",
        "  \n",
        "df = pd.concat([df, df_single], axis=0)\n",
        "df"
      ],
      "execution_count": 4,
      "outputs": [
        {
          "output_type": "execute_result",
          "data": {
            "text/html": [
              "<div>\n",
              "<style scoped>\n",
              "    .dataframe tbody tr th:only-of-type {\n",
              "        vertical-align: middle;\n",
              "    }\n",
              "\n",
              "    .dataframe tbody tr th {\n",
              "        vertical-align: top;\n",
              "    }\n",
              "\n",
              "    .dataframe thead th {\n",
              "        text-align: right;\n",
              "    }\n",
              "</style>\n",
              "<table border=\"1\" class=\"dataframe\">\n",
              "  <thead>\n",
              "    <tr style=\"text-align: right;\">\n",
              "      <th></th>\n",
              "      <th>height</th>\n",
              "      <th>width</th>\n",
              "      <th>name</th>\n",
              "      <th>color</th>\n",
              "    </tr>\n",
              "  </thead>\n",
              "  <tbody>\n",
              "    <tr>\n",
              "      <th>0</th>\n",
              "      <td>1.151330</td>\n",
              "      <td>0.556295</td>\n",
              "      <td>Cumari</td>\n",
              "      <td>Yellow</td>\n",
              "    </tr>\n",
              "    <tr>\n",
              "      <th>1</th>\n",
              "      <td>1.103486</td>\n",
              "      <td>0.609101</td>\n",
              "      <td>Cumari</td>\n",
              "      <td>Yellow</td>\n",
              "    </tr>\n",
              "    <tr>\n",
              "      <th>2</th>\n",
              "      <td>0.968693</td>\n",
              "      <td>0.580969</td>\n",
              "      <td>Cumari</td>\n",
              "      <td>Yellow</td>\n",
              "    </tr>\n",
              "    <tr>\n",
              "      <th>3</th>\n",
              "      <td>0.950795</td>\n",
              "      <td>0.642170</td>\n",
              "      <td>Cumari</td>\n",
              "      <td>Yellow</td>\n",
              "    </tr>\n",
              "    <tr>\n",
              "      <th>4</th>\n",
              "      <td>0.930211</td>\n",
              "      <td>0.627335</td>\n",
              "      <td>Cumari</td>\n",
              "      <td>Yellow</td>\n",
              "    </tr>\n",
              "    <tr>\n",
              "      <th>...</th>\n",
              "      <td>...</td>\n",
              "      <td>...</td>\n",
              "      <td>...</td>\n",
              "      <td>...</td>\n",
              "    </tr>\n",
              "    <tr>\n",
              "      <th>99995</th>\n",
              "      <td>1.097707</td>\n",
              "      <td>0.741078</td>\n",
              "      <td>Cumari</td>\n",
              "      <td>Yellow</td>\n",
              "    </tr>\n",
              "    <tr>\n",
              "      <th>99996</th>\n",
              "      <td>0.916963</td>\n",
              "      <td>0.559599</td>\n",
              "      <td>Cumari</td>\n",
              "      <td>Yellow</td>\n",
              "    </tr>\n",
              "    <tr>\n",
              "      <th>99997</th>\n",
              "      <td>0.892156</td>\n",
              "      <td>0.589381</td>\n",
              "      <td>Cumari</td>\n",
              "      <td>Yellow</td>\n",
              "    </tr>\n",
              "    <tr>\n",
              "      <th>99998</th>\n",
              "      <td>1.187542</td>\n",
              "      <td>0.547312</td>\n",
              "      <td>Cumari</td>\n",
              "      <td>Yellow</td>\n",
              "    </tr>\n",
              "    <tr>\n",
              "      <th>99999</th>\n",
              "      <td>0.909305</td>\n",
              "      <td>0.710248</td>\n",
              "      <td>Cumari</td>\n",
              "      <td>Yellow</td>\n",
              "    </tr>\n",
              "  </tbody>\n",
              "</table>\n",
              "<p>100000 rows × 4 columns</p>\n",
              "</div>"
            ],
            "text/plain": [
              "         height     width    name   color\n",
              "0      1.151330  0.556295  Cumari  Yellow\n",
              "1      1.103486  0.609101  Cumari  Yellow\n",
              "2      0.968693  0.580969  Cumari  Yellow\n",
              "3      0.950795  0.642170  Cumari  Yellow\n",
              "4      0.930211  0.627335  Cumari  Yellow\n",
              "...         ...       ...     ...     ...\n",
              "99995  1.097707  0.741078  Cumari  Yellow\n",
              "99996  0.916963  0.559599  Cumari  Yellow\n",
              "99997  0.892156  0.589381  Cumari  Yellow\n",
              "99998  1.187542  0.547312  Cumari  Yellow\n",
              "99999  0.909305  0.710248  Cumari  Yellow\n",
              "\n",
              "[100000 rows x 4 columns]"
            ]
          },
          "metadata": {
            "tags": []
          },
          "execution_count": 4
        }
      ]
    },
    {
      "cell_type": "code",
      "metadata": {
        "colab": {
          "base_uri": "https://localhost:8080/",
          "height": 419
        },
        "id": "ie0L2ndf3r5c",
        "outputId": "5c4e2f00-4560-4ee0-c6a2-eb33df2b7caa"
      },
      "source": [
        "#backup\n",
        "X = df.copy()\n",
        "\n",
        "def one_hot(df, partitions):\n",
        "  #togliamo le colonne da X\n",
        "  for col in partitions:\n",
        "    k = df.pop(col)\n",
        "    k = pd.get_dummies(k, prefix=col)\n",
        "    df = pd.concat([df, k] , axis=1)\n",
        "  return df\n",
        "  \n",
        "X = one_hot(X, ['color'])\n",
        "X"
      ],
      "execution_count": 8,
      "outputs": [
        {
          "output_type": "execute_result",
          "data": {
            "text/html": [
              "<div>\n",
              "<style scoped>\n",
              "    .dataframe tbody tr th:only-of-type {\n",
              "        vertical-align: middle;\n",
              "    }\n",
              "\n",
              "    .dataframe tbody tr th {\n",
              "        vertical-align: top;\n",
              "    }\n",
              "\n",
              "    .dataframe thead th {\n",
              "        text-align: right;\n",
              "    }\n",
              "</style>\n",
              "<table border=\"1\" class=\"dataframe\">\n",
              "  <thead>\n",
              "    <tr style=\"text-align: right;\">\n",
              "      <th></th>\n",
              "      <th>height</th>\n",
              "      <th>width</th>\n",
              "      <th>name</th>\n",
              "      <th>color_Yellow</th>\n",
              "    </tr>\n",
              "  </thead>\n",
              "  <tbody>\n",
              "    <tr>\n",
              "      <th>0</th>\n",
              "      <td>1.151330</td>\n",
              "      <td>0.556295</td>\n",
              "      <td>Cumari</td>\n",
              "      <td>1</td>\n",
              "    </tr>\n",
              "    <tr>\n",
              "      <th>1</th>\n",
              "      <td>1.103486</td>\n",
              "      <td>0.609101</td>\n",
              "      <td>Cumari</td>\n",
              "      <td>1</td>\n",
              "    </tr>\n",
              "    <tr>\n",
              "      <th>2</th>\n",
              "      <td>0.968693</td>\n",
              "      <td>0.580969</td>\n",
              "      <td>Cumari</td>\n",
              "      <td>1</td>\n",
              "    </tr>\n",
              "    <tr>\n",
              "      <th>3</th>\n",
              "      <td>0.950795</td>\n",
              "      <td>0.642170</td>\n",
              "      <td>Cumari</td>\n",
              "      <td>1</td>\n",
              "    </tr>\n",
              "    <tr>\n",
              "      <th>4</th>\n",
              "      <td>0.930211</td>\n",
              "      <td>0.627335</td>\n",
              "      <td>Cumari</td>\n",
              "      <td>1</td>\n",
              "    </tr>\n",
              "    <tr>\n",
              "      <th>...</th>\n",
              "      <td>...</td>\n",
              "      <td>...</td>\n",
              "      <td>...</td>\n",
              "      <td>...</td>\n",
              "    </tr>\n",
              "    <tr>\n",
              "      <th>99995</th>\n",
              "      <td>1.097707</td>\n",
              "      <td>0.741078</td>\n",
              "      <td>Cumari</td>\n",
              "      <td>1</td>\n",
              "    </tr>\n",
              "    <tr>\n",
              "      <th>99996</th>\n",
              "      <td>0.916963</td>\n",
              "      <td>0.559599</td>\n",
              "      <td>Cumari</td>\n",
              "      <td>1</td>\n",
              "    </tr>\n",
              "    <tr>\n",
              "      <th>99997</th>\n",
              "      <td>0.892156</td>\n",
              "      <td>0.589381</td>\n",
              "      <td>Cumari</td>\n",
              "      <td>1</td>\n",
              "    </tr>\n",
              "    <tr>\n",
              "      <th>99998</th>\n",
              "      <td>1.187542</td>\n",
              "      <td>0.547312</td>\n",
              "      <td>Cumari</td>\n",
              "      <td>1</td>\n",
              "    </tr>\n",
              "    <tr>\n",
              "      <th>99999</th>\n",
              "      <td>0.909305</td>\n",
              "      <td>0.710248</td>\n",
              "      <td>Cumari</td>\n",
              "      <td>1</td>\n",
              "    </tr>\n",
              "  </tbody>\n",
              "</table>\n",
              "<p>100000 rows × 4 columns</p>\n",
              "</div>"
            ],
            "text/plain": [
              "         height     width    name  color_Yellow\n",
              "0      1.151330  0.556295  Cumari             1\n",
              "1      1.103486  0.609101  Cumari             1\n",
              "2      0.968693  0.580969  Cumari             1\n",
              "3      0.950795  0.642170  Cumari             1\n",
              "4      0.930211  0.627335  Cumari             1\n",
              "...         ...       ...     ...           ...\n",
              "99995  1.097707  0.741078  Cumari             1\n",
              "99996  0.916963  0.559599  Cumari             1\n",
              "99997  0.892156  0.589381  Cumari             1\n",
              "99998  1.187542  0.547312  Cumari             1\n",
              "99999  0.909305  0.710248  Cumari             1\n",
              "\n",
              "[100000 rows x 4 columns]"
            ]
          },
          "metadata": {
            "tags": []
          },
          "execution_count": 8
        }
      ]
    },
    {
      "cell_type": "code",
      "metadata": {
        "colab": {
          "base_uri": "https://localhost:8080/"
        },
        "id": "ZmW3HKO-3xiY",
        "outputId": "26854cee-86ef-431d-d228-416b82e5c0d0"
      },
      "source": [
        "y = X.pop('name')\n",
        "y"
      ],
      "execution_count": 9,
      "outputs": [
        {
          "output_type": "execute_result",
          "data": {
            "text/plain": [
              "0        Cumari\n",
              "1        Cumari\n",
              "2        Cumari\n",
              "3        Cumari\n",
              "4        Cumari\n",
              "          ...  \n",
              "99995    Cumari\n",
              "99996    Cumari\n",
              "99997    Cumari\n",
              "99998    Cumari\n",
              "99999    Cumari\n",
              "Name: name, Length: 100000, dtype: object"
            ]
          },
          "metadata": {
            "tags": []
          },
          "execution_count": 9
        }
      ]
    },
    {
      "cell_type": "code",
      "metadata": {
        "colab": {
          "base_uri": "https://localhost:8080/",
          "height": 419
        },
        "id": "uwfJJIgX3ztK",
        "outputId": "205d48e3-80b8-400e-e7d7-097da319c30a"
      },
      "source": [
        "X"
      ],
      "execution_count": 10,
      "outputs": [
        {
          "output_type": "execute_result",
          "data": {
            "text/html": [
              "<div>\n",
              "<style scoped>\n",
              "    .dataframe tbody tr th:only-of-type {\n",
              "        vertical-align: middle;\n",
              "    }\n",
              "\n",
              "    .dataframe tbody tr th {\n",
              "        vertical-align: top;\n",
              "    }\n",
              "\n",
              "    .dataframe thead th {\n",
              "        text-align: right;\n",
              "    }\n",
              "</style>\n",
              "<table border=\"1\" class=\"dataframe\">\n",
              "  <thead>\n",
              "    <tr style=\"text-align: right;\">\n",
              "      <th></th>\n",
              "      <th>height</th>\n",
              "      <th>width</th>\n",
              "      <th>color_Yellow</th>\n",
              "    </tr>\n",
              "  </thead>\n",
              "  <tbody>\n",
              "    <tr>\n",
              "      <th>0</th>\n",
              "      <td>1.151330</td>\n",
              "      <td>0.556295</td>\n",
              "      <td>1</td>\n",
              "    </tr>\n",
              "    <tr>\n",
              "      <th>1</th>\n",
              "      <td>1.103486</td>\n",
              "      <td>0.609101</td>\n",
              "      <td>1</td>\n",
              "    </tr>\n",
              "    <tr>\n",
              "      <th>2</th>\n",
              "      <td>0.968693</td>\n",
              "      <td>0.580969</td>\n",
              "      <td>1</td>\n",
              "    </tr>\n",
              "    <tr>\n",
              "      <th>3</th>\n",
              "      <td>0.950795</td>\n",
              "      <td>0.642170</td>\n",
              "      <td>1</td>\n",
              "    </tr>\n",
              "    <tr>\n",
              "      <th>4</th>\n",
              "      <td>0.930211</td>\n",
              "      <td>0.627335</td>\n",
              "      <td>1</td>\n",
              "    </tr>\n",
              "    <tr>\n",
              "      <th>...</th>\n",
              "      <td>...</td>\n",
              "      <td>...</td>\n",
              "      <td>...</td>\n",
              "    </tr>\n",
              "    <tr>\n",
              "      <th>99995</th>\n",
              "      <td>1.097707</td>\n",
              "      <td>0.741078</td>\n",
              "      <td>1</td>\n",
              "    </tr>\n",
              "    <tr>\n",
              "      <th>99996</th>\n",
              "      <td>0.916963</td>\n",
              "      <td>0.559599</td>\n",
              "      <td>1</td>\n",
              "    </tr>\n",
              "    <tr>\n",
              "      <th>99997</th>\n",
              "      <td>0.892156</td>\n",
              "      <td>0.589381</td>\n",
              "      <td>1</td>\n",
              "    </tr>\n",
              "    <tr>\n",
              "      <th>99998</th>\n",
              "      <td>1.187542</td>\n",
              "      <td>0.547312</td>\n",
              "      <td>1</td>\n",
              "    </tr>\n",
              "    <tr>\n",
              "      <th>99999</th>\n",
              "      <td>0.909305</td>\n",
              "      <td>0.710248</td>\n",
              "      <td>1</td>\n",
              "    </tr>\n",
              "  </tbody>\n",
              "</table>\n",
              "<p>100000 rows × 3 columns</p>\n",
              "</div>"
            ],
            "text/plain": [
              "         height     width  color_Yellow\n",
              "0      1.151330  0.556295             1\n",
              "1      1.103486  0.609101             1\n",
              "2      0.968693  0.580969             1\n",
              "3      0.950795  0.642170             1\n",
              "4      0.930211  0.627335             1\n",
              "...         ...       ...           ...\n",
              "99995  1.097707  0.741078             1\n",
              "99996  0.916963  0.559599             1\n",
              "99997  0.892156  0.589381             1\n",
              "99998  1.187542  0.547312             1\n",
              "99999  0.909305  0.710248             1\n",
              "\n",
              "[100000 rows x 3 columns]"
            ]
          },
          "metadata": {
            "tags": []
          },
          "execution_count": 10
        }
      ]
    },
    {
      "cell_type": "code",
      "metadata": {
        "id": "t9ieEjWS312r"
      },
      "source": [
        "from sklearn.model_selection import train_test_split\n",
        "\n",
        "X_train, X_test, y_train, y_test = train_test_split(X, y, test_size=0.2, random_state=42)"
      ],
      "execution_count": 11,
      "outputs": []
    },
    {
      "cell_type": "code",
      "metadata": {
        "colab": {
          "base_uri": "https://localhost:8080/"
        },
        "id": "BU54HUnD4DrQ",
        "outputId": "fe09b59f-52f0-4667-835f-169a72b55db1"
      },
      "source": [
        "from sklearn.naive_bayes import GaussianNB\n",
        "clf = GaussianNB()\n",
        "clf.fit(X_train, y_train)"
      ],
      "execution_count": 12,
      "outputs": [
        {
          "output_type": "execute_result",
          "data": {
            "text/plain": [
              "GaussianNB(priors=None, var_smoothing=1e-09)"
            ]
          },
          "metadata": {
            "tags": []
          },
          "execution_count": 12
        }
      ]
    },
    {
      "cell_type": "code",
      "metadata": {
        "colab": {
          "base_uri": "https://localhost:8080/"
        },
        "id": "zgtHOiek4FpC",
        "outputId": "ab45435f-762f-4f2a-fc41-76e41cad9bcd"
      },
      "source": [
        "clf.score(X_test, y_test, sample_weight=None)"
      ],
      "execution_count": 13,
      "outputs": [
        {
          "output_type": "execute_result",
          "data": {
            "text/plain": [
              "1.0"
            ]
          },
          "metadata": {
            "tags": []
          },
          "execution_count": 13
        }
      ]
    }
  ]
}