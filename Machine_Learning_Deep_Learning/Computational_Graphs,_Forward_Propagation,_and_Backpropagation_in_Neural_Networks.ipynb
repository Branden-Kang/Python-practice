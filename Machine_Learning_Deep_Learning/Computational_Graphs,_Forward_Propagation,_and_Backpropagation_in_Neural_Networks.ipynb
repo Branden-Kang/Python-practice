{
  "nbformat": 4,
  "nbformat_minor": 0,
  "metadata": {
    "colab": {
      "provenance": [],
      "authorship_tag": "ABX9TyPAXbYoemrTNRlrnNR/x/Ja"
    },
    "kernelspec": {
      "name": "python3",
      "display_name": "Python 3"
    },
    "language_info": {
      "name": "python"
    }
  },
  "cells": [
    {
      "cell_type": "markdown",
      "source": [
        "[Reference](https://medium.com/@amehsunday178/computational-graphs-forward-propagation-and-backward-propagation-for-nueral-networks-1dfc33787047)"
      ],
      "metadata": {
        "id": "tfvmoQS9IcIa"
      }
    },
    {
      "cell_type": "code",
      "execution_count": 1,
      "metadata": {
        "colab": {
          "base_uri": "https://localhost:8080/"
        },
        "id": "Ytb-20a6ITHc",
        "outputId": "5dfa73df-dcc5-42a7-8588-e6cb7527f943"
      },
      "outputs": [
        {
          "output_type": "stream",
          "name": "stdout",
          "text": [
            "dL/dW11 = -0.016300\n",
            "dL/db1  = -0.016300\n",
            "dL/dW13 = -0.101016\n"
          ]
        }
      ],
      "source": [
        "import torch\n",
        "import torch.nn.functional as F\n",
        "\n",
        "# Inputs\n",
        "x1 = torch.tensor(1.0)\n",
        "x2 = torch.tensor(2.0)\n",
        "\n",
        "# Weights and biases for hidden layer\n",
        "W11 = torch.tensor(0.1, requires_grad=True)\n",
        "W21 = torch.tensor(0.2, requires_grad=True)\n",
        "b1 = torch.tensor(0.5, requires_grad=True)\n",
        "\n",
        "W12 = torch.tensor(0.3, requires_grad=True)\n",
        "W22 = torch.tensor(0.4, requires_grad=True)\n",
        "b2 = torch.tensor(0.6, requires_grad=True)\n",
        "\n",
        "# Weights and bias for output layer\n",
        "W13 = torch.tensor(0.6, requires_grad=True)\n",
        "W23 = torch.tensor(0.7, requires_grad=True)\n",
        "b3 = torch.tensor(0.8, requires_grad=True)\n",
        "\n",
        "# Forward pass\n",
        "z1 = x1 * W11 + x2 * W21 + b1\n",
        "h1 = torch.sigmoid(z1)\n",
        "\n",
        "z2 = x1 * W12 + x2 * W22 + b2\n",
        "h2 = torch.sigmoid(z2)\n",
        "\n",
        "z_out = h1 * W13 + h2 * W23 + b3\n",
        "y_pred = torch.sigmoid(z_out)\n",
        "\n",
        "# Target label\n",
        "target = torch.tensor(1.0)\n",
        "\n",
        "# Loss\n",
        "loss = F.binary_cross_entropy(y_pred, target)\n",
        "\n",
        "# Backward pass\n",
        "loss.backward()\n",
        "\n",
        "# Print the gradients\n",
        "print(f\"dL/dW11 = {W11.grad.item():.6f}\")\n",
        "print(f\"dL/db1  = {b1.grad.item():.6f}\")\n",
        "print(f\"dL/dW13 = {W13.grad.item():.6f}\")"
      ]
    }
  ]
}
