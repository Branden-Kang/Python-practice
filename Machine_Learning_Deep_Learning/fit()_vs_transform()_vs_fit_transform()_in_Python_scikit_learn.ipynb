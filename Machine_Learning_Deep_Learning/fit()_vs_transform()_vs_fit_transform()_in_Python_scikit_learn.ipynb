{
  "nbformat": 4,
  "nbformat_minor": 0,
  "metadata": {
    "colab": {
      "name": "fit() vs transform() vs fit_transform() in Python scikit-learn.ipynb",
      "provenance": [],
      "authorship_tag": "ABX9TyNAy4JF+SUV913kKKXmhBkQ"
    },
    "kernelspec": {
      "name": "python3",
      "display_name": "Python 3"
    },
    "language_info": {
      "name": "python"
    }
  },
  "cells": [
    {
      "cell_type": "markdown",
      "metadata": {
        "id": "G5NI1Tcq0OeR"
      },
      "source": [
        "[Reference](https://medium.com/geekculture/fit-vs-transform-vs-fit-transform-in-python-scikit-learn-2623d5a691e3)"
      ]
    },
    {
      "cell_type": "code",
      "metadata": {
        "colab": {
          "base_uri": "https://localhost:8080/"
        },
        "id": "hFlrlBJ9yNvN",
        "outputId": "94a2a6a1-e219-4cd5-f3b6-6d8dc0389d1d"
      },
      "source": [
        "\"\"\"\n",
        "scikit-learn example for MinMaxScaler.fit()\n",
        "\"\"\"\n",
        "import numpy as np\n",
        "from sklearn.model_selection import train_test_split\n",
        "from sklearn.preprocessing import MinMaxScaler\n",
        "\n",
        "\n",
        "# Create dummy features\n",
        "X, y = np.arange(10).reshape((5, 2)), range(5)\n",
        "\n",
        "# Create test and train sets\n",
        "X_train, X_test, y_train, y_test = train_test_split(\n",
        "\tX, y, \n",
        "\ttest_size=0.33, \n",
        "\trandom_state=42\n",
        ")\n",
        "\n",
        "print(X_train)\n",
        "# [[4 5]\n",
        "#  [0 1]\n",
        "#  [6 7]]\n",
        "\n",
        "print(X_test)\n",
        "# [[2 3]\n",
        "#  [8 9]]\n",
        "\n",
        "# Compute the minimum and maximum to be used for later scaling\n",
        "scaler = MinMaxScaler()\n",
        "scaler.fit(X_train)"
      ],
      "execution_count": 1,
      "outputs": [
        {
          "output_type": "stream",
          "text": [
            "[[4 5]\n",
            " [0 1]\n",
            " [6 7]]\n",
            "[[2 3]\n",
            " [8 9]]\n"
          ],
          "name": "stdout"
        },
        {
          "output_type": "execute_result",
          "data": {
            "text/plain": [
              "MinMaxScaler(copy=True, feature_range=(0, 1))"
            ]
          },
          "metadata": {
            "tags": []
          },
          "execution_count": 1
        }
      ]
    },
    {
      "cell_type": "code",
      "metadata": {
        "colab": {
          "base_uri": "https://localhost:8080/"
        },
        "id": "gd_3hJgbzC9f",
        "outputId": "11044c96-bc2f-4ab7-8195-508b3e061df3"
      },
      "source": [
        "print(f'min_: {scaler.min_}')\n",
        "\n",
        "print(f'scale_: {scaler.scale_}')\n",
        "\n",
        "print(f'data_min_: {scaler.data_min_}')\n",
        "\n",
        "print(f'data_max_: {scaler.data_max_}')\n",
        "\n",
        "print(f'data_range_: {scaler.data_range_}')\n",
        "\n",
        "print(f'n_samples_seen_: {scaler.n_samples_seen_}')"
      ],
      "execution_count": 2,
      "outputs": [
        {
          "output_type": "stream",
          "text": [
            "min_: [ 0.         -0.16666667]\n",
            "scale_: [0.16666667 0.16666667]\n",
            "data_min_: [0. 1.]\n",
            "data_max_: [6. 7.]\n",
            "data_range_: [6. 6.]\n",
            "n_samples_seen_: 3\n"
          ],
          "name": "stdout"
        }
      ]
    },
    {
      "cell_type": "code",
      "metadata": {
        "colab": {
          "base_uri": "https://localhost:8080/"
        },
        "id": "Q3vpLa0azLqN",
        "outputId": "dcae3431-c7c2-455c-851e-8662ede5f541"
      },
      "source": [
        "# Transform/scale test features using the min/max computed \n",
        "# from training features\n",
        "X_train_scaled  = scaler.transform(X_train)\n",
        "\n",
        "# Transform/scale test features using the min/max computed \n",
        "# from training features\n",
        "X_test_scaled = scaler.transform(X_test)\n",
        "\n",
        "print(X_train_scaled)\n",
        "\n",
        "print(X_test_scaled)"
      ],
      "execution_count": 3,
      "outputs": [
        {
          "output_type": "stream",
          "text": [
            "[[0.66666667 0.66666667]\n",
            " [0.         0.        ]\n",
            " [1.         1.        ]]\n",
            "[[0.33333333 0.33333333]\n",
            " [1.33333333 1.33333333]]\n"
          ],
          "name": "stdout"
        }
      ]
    },
    {
      "cell_type": "code",
      "metadata": {
        "colab": {
          "base_uri": "https://localhost:8080/",
          "height": 409
        },
        "id": "lVYoxGlSzPlh",
        "outputId": "99118730-d720-4a71-d1e3-ce7e2baef164"
      },
      "source": [
        "scaler = MinMaxScaler()\n",
        "scaler.transform(X_train)"
      ],
      "execution_count": 4,
      "outputs": [
        {
          "output_type": "error",
          "ename": "NotFittedError",
          "evalue": "ignored",
          "traceback": [
            "\u001b[0;31m---------------------------------------------------------------------------\u001b[0m",
            "\u001b[0;31mNotFittedError\u001b[0m                            Traceback (most recent call last)",
            "\u001b[0;32m<ipython-input-4-7bfd2ee4fc52>\u001b[0m in \u001b[0;36m<module>\u001b[0;34m()\u001b[0m\n\u001b[1;32m      1\u001b[0m \u001b[0mscaler\u001b[0m \u001b[0;34m=\u001b[0m \u001b[0mMinMaxScaler\u001b[0m\u001b[0;34m(\u001b[0m\u001b[0;34m)\u001b[0m\u001b[0;34m\u001b[0m\u001b[0;34m\u001b[0m\u001b[0m\n\u001b[0;32m----> 2\u001b[0;31m \u001b[0mscaler\u001b[0m\u001b[0;34m.\u001b[0m\u001b[0mtransform\u001b[0m\u001b[0;34m(\u001b[0m\u001b[0mX_train\u001b[0m\u001b[0;34m)\u001b[0m\u001b[0;34m\u001b[0m\u001b[0;34m\u001b[0m\u001b[0m\n\u001b[0m",
            "\u001b[0;32m/usr/local/lib/python3.7/dist-packages/sklearn/preprocessing/_data.py\u001b[0m in \u001b[0;36mtransform\u001b[0;34m(self, X)\u001b[0m\n\u001b[1;32m    407\u001b[0m             \u001b[0mTransformed\u001b[0m \u001b[0mdata\u001b[0m\u001b[0;34m.\u001b[0m\u001b[0;34m\u001b[0m\u001b[0;34m\u001b[0m\u001b[0m\n\u001b[1;32m    408\u001b[0m         \"\"\"\n\u001b[0;32m--> 409\u001b[0;31m         \u001b[0mcheck_is_fitted\u001b[0m\u001b[0;34m(\u001b[0m\u001b[0mself\u001b[0m\u001b[0;34m)\u001b[0m\u001b[0;34m\u001b[0m\u001b[0;34m\u001b[0m\u001b[0m\n\u001b[0m\u001b[1;32m    410\u001b[0m \u001b[0;34m\u001b[0m\u001b[0m\n\u001b[1;32m    411\u001b[0m         X = check_array(X, copy=self.copy, dtype=FLOAT_DTYPES,\n",
            "\u001b[0;32m/usr/local/lib/python3.7/dist-packages/sklearn/utils/validation.py\u001b[0m in \u001b[0;36mcheck_is_fitted\u001b[0;34m(estimator, attributes, msg, all_or_any)\u001b[0m\n\u001b[1;32m    965\u001b[0m \u001b[0;34m\u001b[0m\u001b[0m\n\u001b[1;32m    966\u001b[0m     \u001b[0;32mif\u001b[0m \u001b[0;32mnot\u001b[0m \u001b[0mattrs\u001b[0m\u001b[0;34m:\u001b[0m\u001b[0;34m\u001b[0m\u001b[0;34m\u001b[0m\u001b[0m\n\u001b[0;32m--> 967\u001b[0;31m         \u001b[0;32mraise\u001b[0m \u001b[0mNotFittedError\u001b[0m\u001b[0;34m(\u001b[0m\u001b[0mmsg\u001b[0m \u001b[0;34m%\u001b[0m \u001b[0;34m{\u001b[0m\u001b[0;34m'name'\u001b[0m\u001b[0;34m:\u001b[0m \u001b[0mtype\u001b[0m\u001b[0;34m(\u001b[0m\u001b[0mestimator\u001b[0m\u001b[0;34m)\u001b[0m\u001b[0;34m.\u001b[0m\u001b[0m__name__\u001b[0m\u001b[0;34m}\u001b[0m\u001b[0;34m)\u001b[0m\u001b[0;34m\u001b[0m\u001b[0;34m\u001b[0m\u001b[0m\n\u001b[0m\u001b[1;32m    968\u001b[0m \u001b[0;34m\u001b[0m\u001b[0m\n\u001b[1;32m    969\u001b[0m \u001b[0;34m\u001b[0m\u001b[0m\n",
            "\u001b[0;31mNotFittedError\u001b[0m: This MinMaxScaler instance is not fitted yet. Call 'fit' with appropriate arguments before using this estimator."
          ]
        }
      ]
    },
    {
      "cell_type": "code",
      "metadata": {
        "colab": {
          "base_uri": "https://localhost:8080/"
        },
        "id": "oPpNeYg0z9BR",
        "outputId": "3982a06d-c4b1-4c81-8f3f-5924721ef7f9"
      },
      "source": [
        "\"\"\"\n",
        "scikit-learn example for MinMaxScaler.fit_transform()\n",
        "\"\"\"\n",
        "import numpy as np\n",
        "from sklearn.model_selection import train_test_split\n",
        "from sklearn.preprocessing import MinMaxScaler\n",
        "\n",
        "\n",
        "# Create dummy features\n",
        "X, y = np.arange(10).reshape((5, 2)), range(5)\n",
        "\n",
        "# Create test and train sets\n",
        "X_train, X_test, y_train, y_test = train_test_split(\n",
        "\tX, y, \n",
        "\ttest_size=0.33, \n",
        "\trandom_state=42\n",
        ")\n",
        "\n",
        "print(X_train)\n",
        "# [[4 5]\n",
        "#  [0 1]\n",
        "#  [6 7]]\n",
        "\n",
        "print(X_test)\n",
        "# [[2 3]\n",
        "#  [8 9]]\n",
        "\n",
        "scaler = MinMaxScaler()\n",
        "X_train_scaled  = scaler.fit_transform(X_train)\n",
        "X_test_scaled = scaler.transform(X_test)"
      ],
      "execution_count": 5,
      "outputs": [
        {
          "output_type": "stream",
          "text": [
            "[[4 5]\n",
            " [0 1]\n",
            " [6 7]]\n",
            "[[2 3]\n",
            " [8 9]]\n"
          ],
          "name": "stdout"
        }
      ]
    },
    {
      "cell_type": "code",
      "metadata": {
        "colab": {
          "base_uri": "https://localhost:8080/"
        },
        "id": "tze6iOK00Egy",
        "outputId": "fb54ed0a-839c-4820-b054-5b7aff9e5769"
      },
      "source": [
        "print(X_train_scaled)\n",
        "\n",
        "print(X_test_scaled)"
      ],
      "execution_count": 6,
      "outputs": [
        {
          "output_type": "stream",
          "text": [
            "[[0.66666667 0.66666667]\n",
            " [0.         0.        ]\n",
            " [1.         1.        ]]\n",
            "[[0.33333333 0.33333333]\n",
            " [1.33333333 1.33333333]]\n"
          ],
          "name": "stdout"
        }
      ]
    }
  ]
}