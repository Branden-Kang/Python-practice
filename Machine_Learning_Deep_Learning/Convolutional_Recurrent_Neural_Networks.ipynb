{
  "nbformat": 4,
  "nbformat_minor": 0,
  "metadata": {
    "colab": {
      "name": "Convolutional Recurrent Neural Networks.ipynb",
      "provenance": [],
      "authorship_tag": "ABX9TyNVP88Vx872dRfTdKGhlPuf"
    },
    "kernelspec": {
      "name": "python3",
      "display_name": "Python 3"
    }
  },
  "cells": [
    {
      "cell_type": "markdown",
      "metadata": {
        "id": "5KdetJebISBI"
      },
      "source": [
        "[Reference](https://towardsdatascience.com/an-approach-towards-convolutional-recurrent-neural-networks-a2e6ce722b19)"
      ]
    },
    {
      "cell_type": "markdown",
      "metadata": {
        "id": "I6ORtItAK-z9"
      },
      "source": [
        "![rcnn](https://miro.medium.com/max/1400/1*etN2RhEkMJrEtJgWLvD9pQ.png)"
      ]
    },
    {
      "cell_type": "code",
      "metadata": {
        "id": "mmEQtg2_IGnU"
      },
      "source": [
        "def get_model(data_in, data_out, _cnn_nb_filt, _cnn_pool_size, _rnn_nb, _fc_nb):\n",
        "    spec_start = Input(shape=(data_in.shape[-3], data_in.shape[-2], data_in.shape[-1]))\n",
        "    spec_x = spec_start\n",
        "    for _i, _cnt in enumerate(_cnn_pool_size):\n",
        "        spec_x = Conv2D(filters = cnn_nb_filt, kernel_size=(2, 2), padding='same')(spec_x)\n",
        "        spec_x = BatchNormalization(axis=1)(spec_x)\n",
        "        spec_x = Activation('relu')(spec_x)\n",
        "        spec_x = MaxPooling2D(pool_size=(1, _cnn_pool_size[_i]))(spec_x)\n",
        "        spec_x = Dropout(dropout_rate)(spec_x)\n",
        "        spec_x = Permute((2, 1, 3))(spec_x)\n",
        "        spec_x = Reshape((data_in.shape[-2], -1))(spec_x)\n",
        "    \n",
        "    for _r in _rnn_nb:\n",
        "        spec_x = Bidirectional(\n",
        "        GRU(_r, activation='tanh', dropout=dropout_rate, recurrent_dropout=dropout_rate, return_sequences=True),\n",
        "        merge_mode='concat')(spec_x)\n",
        "    \n",
        "    for _f in _fc_nb:\n",
        "        spec_x = TimeDistributed(Dense(_f))(spec_x)\n",
        "        spec_x = Dropout(dropout_rate)(spec_x)\n",
        "    \n",
        "    spec_x = TimeDistributed(Dense(data_out.shape[-1]))(spec_x)\n",
        "    out = Activation('sigmoid', name='strong_out')(spec_x)\n",
        "    \n",
        "    _model = Model(inputs=spec_start, outputs=out)\n",
        "    _model.compile(optimizer='Adam', loss='binary_crossentropy',metrics = ['accuracy'])\n",
        "    _model.summary()\n",
        "\n",
        "    return _model"
      ],
      "execution_count": null,
      "outputs": []
    },
    {
      "cell_type": "code",
      "metadata": {
        "id": "WeUZ9fsEIPsf"
      },
      "source": [
        "# Load model\n",
        "# model = get_model(X, Y, cnn_nb_filt, cnn_pool_size, rnn_nb, fc_nb)"
      ],
      "execution_count": null,
      "outputs": []
    }
  ]
}