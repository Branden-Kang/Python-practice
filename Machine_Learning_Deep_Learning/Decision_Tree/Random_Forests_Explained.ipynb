{
  "nbformat": 4,
  "nbformat_minor": 0,
  "metadata": {
    "colab": {
      "provenance": [],
      "authorship_tag": "ABX9TyPyqE0YpUl1d45WV0AKCJFT"
    },
    "kernelspec": {
      "name": "python3",
      "display_name": "Python 3"
    },
    "language_info": {
      "name": "python"
    }
  },
  "cells": [
    {
      "cell_type": "markdown",
      "source": [
        "[Reference](https://medium.com/@msoczi/less-is-more-random-forests-explained-4f7fb41b8b96)"
      ],
      "metadata": {
        "id": "jGq0Jtfuxacg"
      }
    },
    {
      "cell_type": "code",
      "execution_count": 1,
      "metadata": {
        "colab": {
          "base_uri": "https://localhost:8080/"
        },
        "id": "LYm-KEezxXM8",
        "outputId": "c4342e25-0f96-4959-b747-7f000145933b"
      },
      "outputs": [
        {
          "output_type": "execute_result",
          "data": {
            "text/plain": [
              "array([  82.24679036,  128.59360227,  -64.37675435,   27.88298062,\n",
              "         38.91561056,   -5.34432342,  191.58056622,  -57.64063199,\n",
              "       -222.29755928,   -2.19938729,  185.0189435 ,   29.58514456,\n",
              "        251.06224088,   60.10665204,  189.88526362,  -41.12094445,\n",
              "        188.85890835, -191.31314263, -127.92947346, -112.93619972,\n",
              "        -72.25571736,  -71.43687786, -210.7087717 ,  128.99320768,\n",
              "        244.56526972,  -62.44942725,  104.52439632,   57.9006071 ,\n",
              "        241.79438172,  193.96589506,  -52.98036171,  163.1863002 ,\n",
              "         18.91504208,   67.40526645,   80.97008626,  255.3871037 ,\n",
              "         94.10934202, -180.1139127 ,  683.051373  ,  118.66252217,\n",
              "        299.26302763,   -2.54380043, -186.55673767,  321.49455774,\n",
              "        590.39902357,    2.30309803,  -65.82224547,  124.14189119,\n",
              "         -3.51961135, -140.36956428, -297.15509373, -103.48226877,\n",
              "         49.30286351,  153.67102865,  308.96637834, -113.81891238,\n",
              "        -31.46397277, -381.82775255,  103.90330707, -110.98083427,\n",
              "        175.51392093, -176.79538676, -153.80982281,   12.65303555,\n",
              "       -209.69297208,   59.6417718 ,  136.67673707, -206.22094357,\n",
              "        112.97297212, -252.1256546 ,  -31.38836027,  187.23700844,\n",
              "        -91.76686475,  -90.05904182, -152.49226013,   50.16545142,\n",
              "        -18.9544623 , -371.96366596, -147.68651818, -184.69921141,\n",
              "        481.31348573,  -63.41158399,  -91.39952292,  102.92574537,\n",
              "       -212.36646789,   62.93735785,  -75.3732839 ,  -59.55047755,\n",
              "       -336.50848595,   25.86577681,  317.05503685,  -20.88854969,\n",
              "        -11.92944388,  153.36896516, -202.40142328,  -47.0971846 ,\n",
              "        130.53401289, -136.47093471,  -68.76879726,   -1.36734888])"
            ]
          },
          "metadata": {},
          "execution_count": 1
        }
      ],
      "source": [
        "import random\n",
        "from math import sqrt, ceil\n",
        "import matplotlib.pyplot as plt\n",
        "import numpy as np\n",
        "from sklearn.utils import resample\n",
        "from sklearn.datasets import make_regression\n",
        "from sklearn.tree import DecisionTreeRegressor\n",
        "\n",
        "N = 100 # number of observations\n",
        "p = 16 # number of predictiors\n",
        "K = 3 # number of models\n",
        "SEED = 3564\n",
        "\n",
        "# Generate data\n",
        "X, y = make_regression(n_samples=N, n_features=p, n_informative=16, random_state=SEED)\n",
        "\n",
        "# Prepare containers\n",
        "bootstrap_smaples = {}\n",
        "models = []\n",
        "column_samples_indx = {}\n",
        "predictions = []\n",
        "\n",
        "for i in range(K):\n",
        "    # Bootstrap sampling\n",
        "    X_bag, y_bag = resample(X, y,  replace=True, n_samples=N)\n",
        "    bootstrap_smaples[i] = (X_bag, y_bag)\n",
        "\n",
        "    # Initialize seperate regression tree models for each sample\n",
        "    dt_reg = DecisionTreeRegressor()\n",
        "    models.append(dt_reg)\n",
        "\n",
        "    # Take the indexes of sampled columns\n",
        "    column_samples_indx[i] = random.sample(range(p), ceil(sqrt(p)))\n",
        "    # Fit decision tree on only sqrt(p) columns\n",
        "    models[i].fit(bootstrap_smaples[i][0][:, column_samples_indx[i]], bootstrap_smaples[i][1])\n",
        "\n",
        "    # Predict for each tree\n",
        "    preds = models[i].predict(X[:, column_samples_indx[i]])\n",
        "    predictions.append(preds)\n",
        "\n",
        "# Average the results\n",
        "np.mean(np.array(predictions), axis=0)"
      ]
    }
  ]
}
