{
  "nbformat": 4,
  "nbformat_minor": 0,
  "metadata": {
    "colab": {
      "name": "Image Recognition with 10 lines of code.ipynb",
      "provenance": [],
      "authorship_tag": "ABX9TyPUU2XcIw8DsNMDipJ+9zOw"
    },
    "kernelspec": {
      "name": "python3",
      "display_name": "Python 3"
    }
  },
  "cells": [
    {
      "cell_type": "markdown",
      "metadata": {
        "id": "cRvpJM9zRPYI",
        "colab_type": "text"
      },
      "source": [
        "[Reference](https://medium.com/@guymodscientist/image-prediction-with-10-lines-of-code-3266f4039c7a)"
      ]
    },
    {
      "cell_type": "code",
      "metadata": {
        "id": "B81zDlEVPRpq",
        "colab_type": "code",
        "colab": {
          "base_uri": "https://localhost:8080/",
          "height": 102
        },
        "outputId": "6d2d9433-2153-41ef-9a33-48eeb4c6b8b2"
      },
      "source": [
        "!pip3 install https://github.com/OlafenwaMoses/ImageAI/releases/download/2.0.2/imageai-2.0.2-py3-none-any.whl"
      ],
      "execution_count": 2,
      "outputs": [
        {
          "output_type": "stream",
          "text": [
            "Collecting imageai==2.0.2\n",
            "\u001b[?25l  Downloading https://github.com/OlafenwaMoses/ImageAI/releases/download/2.0.2/imageai-2.0.2-py3-none-any.whl (151kB)\n",
            "\u001b[K     |████████████████████████████████| 153kB 2.6MB/s \n",
            "\u001b[?25hInstalling collected packages: imageai\n",
            "Successfully installed imageai-2.0.2\n"
          ],
          "name": "stdout"
        }
      ]
    },
    {
      "cell_type": "code",
      "metadata": {
        "id": "Gsfh-4CjO847",
        "colab_type": "code",
        "colab": {}
      },
      "source": [
        "from imageai.Prediction import ImagePrediction\n",
        "import os"
      ],
      "execution_count": 3,
      "outputs": []
    },
    {
      "cell_type": "code",
      "metadata": {
        "id": "-7wG2M87PpCw",
        "colab_type": "code",
        "colab": {
          "base_uri": "https://localhost:8080/",
          "height": 68
        },
        "outputId": "55cc81b9-9ea4-48a7-9f30-d2f4bbb487a6"
      },
      "source": [
        "import os\n",
        "from google.colab import drive\n",
        "drive.mount('/content/gdrive')\n",
        "!pwd\n",
        "os.chdir('gdrive/My Drive/Colab Notebooks')\n",
        "!pwd"
      ],
      "execution_count": 5,
      "outputs": [
        {
          "output_type": "stream",
          "text": [
            "Mounted at /content/gdrive\n",
            "/content\n",
            "/content/gdrive/My Drive/Colab Notebooks\n"
          ],
          "name": "stdout"
        }
      ]
    },
    {
      "cell_type": "code",
      "metadata": {
        "id": "iKyX1v7uPMnJ",
        "colab_type": "code",
        "colab": {}
      },
      "source": [
        "execution_path = os.getcwd()\n",
        "prediction = ImagePrediction()\n",
        "prediction.setModelTypeAsResNet()\n",
        "prediction.setModelPath(execution_path +\"/resnet50_weights_tf_dim_ordering_tf_kernels.h5\")\n",
        "prediction.loadModel()"
      ],
      "execution_count": 8,
      "outputs": []
    },
    {
      "cell_type": "markdown",
      "metadata": {
        "id": "vFSITuqiQ6KY",
        "colab_type": "text"
      },
      "source": [
        "![sample.jpg](https://miro.medium.com/max/1400/1*d9-itELYb1CKMlkvh59zkw.jpeg)"
      ]
    },
    {
      "cell_type": "code",
      "metadata": {
        "id": "yilNAc6QPXzB",
        "colab_type": "code",
        "colab": {
          "base_uri": "https://localhost:8080/",
          "height": 102
        },
        "outputId": "d02fa6fb-7f0b-4818-cb77-1210f77d3270"
      },
      "source": [
        "predictions, percentage_probabilities = prediction.predictImage(\"sample.jpg\", result_count=5)\n",
        "for index in range(len(predictions)):\n",
        "  print(predictions[index] , \" : \" , percentage_probabilities[index])"
      ],
      "execution_count": 10,
      "outputs": [
        {
          "output_type": "stream",
          "text": [
            "sports_car  :  91.24116897583008\n",
            "car_wheel  :  5.276960879564285\n",
            "racer  :  1.1335713788866997\n",
            "convertible  :  0.8456522598862648\n",
            "grille  :  0.4929979331791401\n"
          ],
          "name": "stdout"
        }
      ]
    }
  ]
}