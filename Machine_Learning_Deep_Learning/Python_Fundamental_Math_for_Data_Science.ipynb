{
  "nbformat": 4,
  "nbformat_minor": 0,
  "metadata": {
    "colab": {
      "provenance": [],
      "authorship_tag": "ABX9TyMhCNZm2ITZEYcKkO+h6ulz"
    },
    "kernelspec": {
      "name": "python3",
      "display_name": "Python 3"
    },
    "language_info": {
      "name": "python"
    }
  },
  "cells": [
    {
      "cell_type": "markdown",
      "source": [
        "[Reference](https://medium.com/@ccpythonprogramming/python-fundamental-math-for-data-science-633c8cb9992c)"
      ],
      "metadata": {
        "id": "1CkebKFQux0X"
      }
    },
    {
      "cell_type": "markdown",
      "source": [
        "# 1. Probability in Spam Detection"
      ],
      "metadata": {
        "id": "UDilXTL6u3Gq"
      }
    },
    {
      "cell_type": "code",
      "execution_count": 1,
      "metadata": {
        "colab": {
          "base_uri": "https://localhost:8080/"
        },
        "id": "ZbCkMFcZuoo4",
        "outputId": "6cec058c-417e-49ba-9340-da214c17a3d0"
      },
      "outputs": [
        {
          "output_type": "stream",
          "name": "stdout",
          "text": [
            "Probability that the email is spam given 'buy' and 'free': 0.86\n"
          ]
        }
      ],
      "source": [
        "# spam_detection.py\n",
        "# Sample data\n",
        "# Prior probabilities: P(Spam) and P(Not Spam)\n",
        "p_spam = 0.4  # Probability that an email is spam\n",
        "p_not_spam = 0.6  # Probability that an email is not spam\n",
        "\n",
        "# Likelihoods: P(Keyword | Spam) and P(Keyword | Not Spam)\n",
        "p_keyword_buy_given_spam = 0.7  # Probability \"buy\" appears in spam emails\n",
        "p_keyword_buy_given_not_spam = 0.2  # Probability \"buy\" appears in non-spam emails\n",
        "p_keyword_free_given_spam = 0.8  # Probability \"free\" appears in spam emails\n",
        "p_keyword_free_given_not_spam = 0.3  # Probability \"free\" appears in non-spam emails\n",
        "\n",
        "# Total probability for the keywords in both spam and non-spam\n",
        "p_keywords_given_spam = p_keyword_buy_given_spam * p_keyword_free_given_spam\n",
        "p_keywords_given_not_spam = p_keyword_buy_given_not_spam * p_keyword_free_given_not_spam\n",
        "\n",
        "# Calculate P(Spam | Keywords) using Bayes' theorem\n",
        "p_keywords = (p_keywords_given_spam * p_spam) + (p_keywords_given_not_spam * p_not_spam)\n",
        "p_spam_given_keywords = (p_keywords_given_spam * p_spam) / p_keywords\n",
        "\n",
        "print(f\"Probability that the email is spam given 'buy' and 'free': {p_spam_given_keywords:.2f}\")"
      ]
    },
    {
      "cell_type": "markdown",
      "source": [
        "# 2. Descriptive Statistics in Customer Analytics"
      ],
      "metadata": {
        "id": "uvPMCRbNvgRc"
      }
    },
    {
      "cell_type": "code",
      "source": [
        "import numpy as np\n",
        "\n",
        "# Customer spending data (in dollars)\n",
        "spending = [100, 150, 200, 250, 300, 350, 400]\n",
        "\n",
        "# Calculate mean, median, and standard deviation\n",
        "mean_spending = np.mean(spending)\n",
        "median_spending = np.median(spending)\n",
        "std_dev_spending = np.std(spending)\n",
        "\n",
        "print(f\"Mean Spending: ${mean_spending:.2f}\")\n",
        "print(f\"Median Spending: ${median_spending:.2f}\")\n",
        "print(f\"Standard Deviation in Spending: ${std_dev_spending:.2f}\")"
      ],
      "metadata": {
        "colab": {
          "base_uri": "https://localhost:8080/"
        },
        "id": "mYImnkdeveeC",
        "outputId": "b903b616-58ab-415a-883a-d8aa76b82c38"
      },
      "execution_count": 2,
      "outputs": [
        {
          "output_type": "stream",
          "name": "stdout",
          "text": [
            "Mean Spending: $250.00\n",
            "Median Spending: $250.00\n",
            "Standard Deviation in Spending: $100.00\n"
          ]
        }
      ]
    },
    {
      "cell_type": "markdown",
      "source": [
        "# 3. Linear Regression for Sales Forecasting"
      ],
      "metadata": {
        "id": "UARfvgB5wGfF"
      }
    },
    {
      "cell_type": "code",
      "source": [
        "from sklearn.linear_model import LinearRegression\n",
        "import numpy as np\n",
        "\n",
        "# Data: Months and Sales (in thousands of dollars)\n",
        "months = np.array([1, 2, 3, 4, 5]).reshape(-1, 1)\n",
        "sales = np.array([10, 12, 15, 20, 22])  # Sales in $1000s\n",
        "\n",
        "# Create a linear regression model\n",
        "model = LinearRegression()\n",
        "\n",
        "# Fit the model to our data\n",
        "model.fit(months, sales)\n",
        "\n",
        "# Predict sales for the 6th month\n",
        "predicted_sales = model.predict([[6]])\n",
        "print(f\"Predicted Sales for month 6: ${predicted_sales[0]:.2f}k\")"
      ],
      "metadata": {
        "colab": {
          "base_uri": "https://localhost:8080/"
        },
        "id": "NXAXLSs1wF4n",
        "outputId": "191fd6f7-fdcf-4953-f94f-67c33db5d99a"
      },
      "execution_count": 3,
      "outputs": [
        {
          "output_type": "stream",
          "name": "stdout",
          "text": [
            "Predicted Sales for month 6: $25.40k\n"
          ]
        }
      ]
    },
    {
      "cell_type": "markdown",
      "source": [
        "# Matrix Algebra in Machine Learning"
      ],
      "metadata": {
        "id": "7agoJ-CdwKg6"
      }
    },
    {
      "cell_type": "code",
      "source": [
        "import numpy as np\n",
        "\n",
        "# Input matrix (representing data for 2 samples with 3 features)\n",
        "X = np.array([[1, 2, 3], [4, 5, 6]])\n",
        "\n",
        "# Weight matrix (connecting 3 input features to 2 output nodes)\n",
        "W = np.array([[0.1, 0.2], [0.3, 0.4], [0.5, 0.6]])\n",
        "\n",
        "# Perform matrix multiplication (input * weights)\n",
        "output = np.dot(X, W)\n",
        "print(f\"Output Matrix:\\n{output}\")"
      ],
      "metadata": {
        "colab": {
          "base_uri": "https://localhost:8080/"
        },
        "id": "Gv2U6CSTwJZY",
        "outputId": "881f3bc4-904f-44bf-a47b-181cf1e06317"
      },
      "execution_count": 4,
      "outputs": [
        {
          "output_type": "stream",
          "name": "stdout",
          "text": [
            "Output Matrix:\n",
            "[[2.2 2.8]\n",
            " [4.9 6.4]]\n"
          ]
        }
      ]
    },
    {
      "cell_type": "markdown",
      "source": [
        "# 5. Calculus in Machine Learning: Gradient Descent"
      ],
      "metadata": {
        "id": "M0S-efe8wRzn"
      }
    },
    {
      "cell_type": "code",
      "source": [
        "# Gradient Descent algorithm\n",
        "def gradient_descent(derivative_func, initial_x, learning_rate, epochs):\n",
        "    x = initial_x\n",
        "    for _ in range(epochs):\n",
        "        grad = derivative_func(x)\n",
        "        x -= learning_rate * grad  # Update rule\n",
        "    return x\n",
        "\n",
        "# Derivative of f(x) = x^2, which is f'(x) = 2x\n",
        "def derivative(x):\n",
        "    return 2 * x\n",
        "\n",
        "# Minimize the function starting from x=10\n",
        "min_x = gradient_descent(derivative, initial_x=10, learning_rate=0.1, epochs=100)\n",
        "print(f\"Value of x that minimizes the function: {min_x:.2f}\")"
      ],
      "metadata": {
        "colab": {
          "base_uri": "https://localhost:8080/"
        },
        "id": "772_SrYqwQl-",
        "outputId": "0738b850-18dc-400d-e63b-ab5c6aa6ca4d"
      },
      "execution_count": 5,
      "outputs": [
        {
          "output_type": "stream",
          "name": "stdout",
          "text": [
            "Value of x that minimizes the function: 0.00\n"
          ]
        }
      ]
    },
    {
      "cell_type": "markdown",
      "source": [
        "# 6. Hypothesis Testing in A/B Testing"
      ],
      "metadata": {
        "id": "U0oGtlkAwWWT"
      }
    },
    {
      "cell_type": "code",
      "source": [
        "from scipy import stats\n",
        "\n",
        "# Conversion rates for two groups (A and B)\n",
        "group_A = [10, 12, 14, 16, 18]\n",
        "group_B = [20, 22, 24, 26, 28]\n",
        "\n",
        "# Perform an independent t-test\n",
        "t_stat, p_value = stats.ttest_ind(group_A, group_B)\n",
        "\n",
        "print(f\"T-statistic: {t_stat:.2f}\")\n",
        "print(f\"P-value: {p_value:.5f}\")\n",
        "\n",
        "# If p-value < 0.05, we reject the null hypothesis (i.e., a significant difference exists)\n",
        "if p_value < 0.05:\n",
        "    print(\"There is a statistically significant difference between Group A and Group B.\")\n",
        "else:\n",
        "    print(\"No statistically significant difference between Group A and Group B.\")"
      ],
      "metadata": {
        "colab": {
          "base_uri": "https://localhost:8080/"
        },
        "id": "K8vvQdwcwUzn",
        "outputId": "85f3c2d0-5586-4663-b1cd-ba849a61874c"
      },
      "execution_count": 6,
      "outputs": [
        {
          "output_type": "stream",
          "name": "stdout",
          "text": [
            "T-statistic: -5.00\n",
            "P-value: 0.00105\n",
            "There is a statistically significant difference between Group A and Group B.\n"
          ]
        }
      ]
    }
  ]
}
