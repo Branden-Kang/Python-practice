{
  "nbformat": 4,
  "nbformat_minor": 0,
  "metadata": {
    "colab": {
      "name": "9 Scikit-Learn Tips.ipynb",
      "provenance": [],
      "authorship_tag": "ABX9TyPsi2mGBetwnjt/UY7mtKBy"
    },
    "kernelspec": {
      "name": "python3",
      "display_name": "Python 3"
    }
  },
  "cells": [
    {
      "cell_type": "markdown",
      "metadata": {
        "id": "JXwtDYuuS8OG",
        "colab_type": "text"
      },
      "source": [
        "[Reference](https://medium.com/@simonprdhm/9-scikit-learn-tips-for-data-scientist-2a84ffb385ba)"
      ]
    },
    {
      "cell_type": "markdown",
      "metadata": {
        "id": "6dLhQNkhTQpz",
        "colab_type": "text"
      },
      "source": [
        "# make_column_transformer"
      ]
    },
    {
      "cell_type": "code",
      "metadata": {
        "id": "ko7A_nJkS4vK",
        "colab_type": "code",
        "colab": {
          "base_uri": "https://localhost:8080/",
          "height": 530
        },
        "outputId": "a1a3a4f7-a334-41ab-c472-7a2f26a89a2a"
      },
      "source": [
        "import pandas as pd\n",
        "from sklearn.preprocessing import OneHotEncoder\n",
        "from sklearn.impute import SimpleImputer\n",
        "from sklearn.compose import make_column_transformer\n",
        "\n",
        "df  = pd.read_csv('https://web.stanford.edu/class/archive/cs/cs109/cs109.1166/stuff/titanic.csv')\n",
        "df.head()"
      ],
      "execution_count": 1,
      "outputs": [
        {
          "output_type": "execute_result",
          "data": {
            "text/html": [
              "<div>\n",
              "<style scoped>\n",
              "    .dataframe tbody tr th:only-of-type {\n",
              "        vertical-align: middle;\n",
              "    }\n",
              "\n",
              "    .dataframe tbody tr th {\n",
              "        vertical-align: top;\n",
              "    }\n",
              "\n",
              "    .dataframe thead th {\n",
              "        text-align: right;\n",
              "    }\n",
              "</style>\n",
              "<table border=\"1\" class=\"dataframe\">\n",
              "  <thead>\n",
              "    <tr style=\"text-align: right;\">\n",
              "      <th></th>\n",
              "      <th>Survived</th>\n",
              "      <th>Pclass</th>\n",
              "      <th>Name</th>\n",
              "      <th>Sex</th>\n",
              "      <th>Age</th>\n",
              "      <th>Siblings/Spouses Aboard</th>\n",
              "      <th>Parents/Children Aboard</th>\n",
              "      <th>Fare</th>\n",
              "    </tr>\n",
              "  </thead>\n",
              "  <tbody>\n",
              "    <tr>\n",
              "      <th>0</th>\n",
              "      <td>0</td>\n",
              "      <td>3</td>\n",
              "      <td>Mr. Owen Harris Braund</td>\n",
              "      <td>male</td>\n",
              "      <td>22.0</td>\n",
              "      <td>1</td>\n",
              "      <td>0</td>\n",
              "      <td>7.2500</td>\n",
              "    </tr>\n",
              "    <tr>\n",
              "      <th>1</th>\n",
              "      <td>1</td>\n",
              "      <td>1</td>\n",
              "      <td>Mrs. John Bradley (Florence Briggs Thayer) Cum...</td>\n",
              "      <td>female</td>\n",
              "      <td>38.0</td>\n",
              "      <td>1</td>\n",
              "      <td>0</td>\n",
              "      <td>71.2833</td>\n",
              "    </tr>\n",
              "    <tr>\n",
              "      <th>2</th>\n",
              "      <td>1</td>\n",
              "      <td>3</td>\n",
              "      <td>Miss. Laina Heikkinen</td>\n",
              "      <td>female</td>\n",
              "      <td>26.0</td>\n",
              "      <td>0</td>\n",
              "      <td>0</td>\n",
              "      <td>7.9250</td>\n",
              "    </tr>\n",
              "    <tr>\n",
              "      <th>3</th>\n",
              "      <td>1</td>\n",
              "      <td>1</td>\n",
              "      <td>Mrs. Jacques Heath (Lily May Peel) Futrelle</td>\n",
              "      <td>female</td>\n",
              "      <td>35.0</td>\n",
              "      <td>1</td>\n",
              "      <td>0</td>\n",
              "      <td>53.1000</td>\n",
              "    </tr>\n",
              "    <tr>\n",
              "      <th>4</th>\n",
              "      <td>0</td>\n",
              "      <td>3</td>\n",
              "      <td>Mr. William Henry Allen</td>\n",
              "      <td>male</td>\n",
              "      <td>35.0</td>\n",
              "      <td>0</td>\n",
              "      <td>0</td>\n",
              "      <td>8.0500</td>\n",
              "    </tr>\n",
              "  </tbody>\n",
              "</table>\n",
              "</div>"
            ],
            "text/plain": [
              "   Survived  Pclass  ... Parents/Children Aboard     Fare\n",
              "0         0       3  ...                       0   7.2500\n",
              "1         1       1  ...                       0  71.2833\n",
              "2         1       3  ...                       0   7.9250\n",
              "3         1       1  ...                       0  53.1000\n",
              "4         0       3  ...                       0   8.0500\n",
              "\n",
              "[5 rows x 8 columns]"
            ]
          },
          "metadata": {
            "tags": []
          },
          "execution_count": 1
        }
      ]
    },
    {
      "cell_type": "code",
      "metadata": {
        "id": "aE9D4M9ZTmLB",
        "colab_type": "code",
        "colab": {}
      },
      "source": [
        "preprocessing = make_column_transformer(\n",
        "    (OneHotEncoder(), ['Pclass','Sex']),\n",
        "    (SimpleImputer(), ['Age']),\n",
        "    remainder = 'passthrough' \n",
        ")"
      ],
      "execution_count": 2,
      "outputs": []
    },
    {
      "cell_type": "code",
      "metadata": {
        "id": "gRtyZo1wT4MT",
        "colab_type": "code",
        "colab": {}
      },
      "source": [
        "preprocessing.fit_transform(df)"
      ],
      "execution_count": 5,
      "outputs": []
    },
    {
      "cell_type": "markdown",
      "metadata": {
        "id": "WZySlwhYUH-R",
        "colab_type": "text"
      },
      "source": [
        "# make_column_selector with make_columns_transformer"
      ]
    },
    {
      "cell_type": "code",
      "metadata": {
        "id": "HUUMeIMTT7NR",
        "colab_type": "code",
        "colab": {
          "base_uri": "https://localhost:8080/",
          "height": 51
        },
        "outputId": "b900b95c-c911-422f-8cd2-ad4f57c021d8"
      },
      "source": [
        "# Load Python Package\n",
        "import pandas as pd\n",
        "from sklearn.preprocessing import OneHotEncoder\n",
        "from sklearn.impute import SimpleImputer\n",
        "from sklearn.compose import make_column_transformer\n",
        "from sklearn.compose import make_column_selector\n",
        "\n",
        "# Load data (loading Titanic dataset)\n",
        "data = pd.read_csv('https://web.stanford.edu/class/archive/cs/cs109/cs109.1166/stuff/titanic.csv')\n",
        "\n",
        "# Make Transformer\n",
        "preprocessing = make_column_transformer(\n",
        "    (OneHotEncoder(), make_column_selector(dtype_include='object')),\n",
        "    (SimpleImputer(), make_column_selector(dtype_include='int')),\n",
        "    remainder='drop'\n",
        ")\n",
        "\n",
        "# Fit-Transform data with transformer\n",
        "preprocessing.fit_transform(data)"
      ],
      "execution_count": 7,
      "outputs": [
        {
          "output_type": "execute_result",
          "data": {
            "text/plain": [
              "<887x893 sparse matrix of type '<class 'numpy.float64'>'\n",
              "\twith 3499 stored elements in Compressed Sparse Row format>"
            ]
          },
          "metadata": {
            "tags": []
          },
          "execution_count": 7
        }
      ]
    },
    {
      "cell_type": "markdown",
      "metadata": {
        "id": "w8J7BZR0UO5L",
        "colab_type": "text"
      },
      "source": [
        "# Pipeline"
      ]
    },
    {
      "cell_type": "code",
      "metadata": {
        "id": "QXMdhXxvULYM",
        "colab_type": "code",
        "colab": {}
      },
      "source": [
        "import pandas as pd\n",
        "from sklearn.preprocessing import OneHotEncoder, StandardScaler\n",
        "from sklearn.impute import SimpleImputer\n",
        "from sklearn.compose import make_column_transformer\n",
        "from sklearn.pipeline import make_pipeline\n",
        "from sklearn.tree import DecisionTreeClassifier\n",
        "from sklearn.model_selection import train_test_split"
      ],
      "execution_count": 8,
      "outputs": []
    },
    {
      "cell_type": "code",
      "metadata": {
        "id": "ZzSZi4ZDVnh4",
        "colab_type": "code",
        "colab": {}
      },
      "source": [
        "data = pd.read_csv('https://web.stanford.edu/class/archive/cs/cs109/cs109.1166/stuff/titanic.csv')"
      ],
      "execution_count": 9,
      "outputs": []
    },
    {
      "cell_type": "code",
      "metadata": {
        "id": "mJj7HtuOV372",
        "colab_type": "code",
        "colab": {}
      },
      "source": [
        "X = data.drop('Survived', axis=1)\n",
        "y = data[['Survived']]"
      ],
      "execution_count": 10,
      "outputs": []
    },
    {
      "cell_type": "code",
      "metadata": {
        "id": "DpbWyna8WBcP",
        "colab_type": "code",
        "colab": {}
      },
      "source": [
        "X_train, X_test, y_train, y_test = train_test_split(X, y, test_size=0.33, random_state=42)"
      ],
      "execution_count": 13,
      "outputs": []
    },
    {
      "cell_type": "code",
      "metadata": {
        "id": "KZi0o94FWL2k",
        "colab_type": "code",
        "colab": {}
      },
      "source": [
        "ohe = OneHotEncoder(handle_unknown='ignore', sparse=True)\n",
        "imputer = SimpleImputer(add_indicator=True, verbose=1)\n",
        "scaler = StandardScaler()\n",
        "clf = DecisionTreeClassifier()"
      ],
      "execution_count": 15,
      "outputs": []
    },
    {
      "cell_type": "code",
      "metadata": {
        "id": "_qchnhF2Wa-6",
        "colab_type": "code",
        "colab": {}
      },
      "source": [
        "preprocessing = make_column_transformer(\n",
        "    (make_pipeline(imputer,scaler),['Age','Siblings/Spouse Aboard',\n",
        "                                    'Parents/Children Aboard','Fare']),\n",
        "    (ohe, ['Pclass','Sex','Name']),\n",
        "    remainder = 'passthrough'\n",
        ")"
      ],
      "execution_count": 16,
      "outputs": []
    },
    {
      "cell_type": "code",
      "metadata": {
        "id": "fMaI58mFWw8O",
        "colab_type": "code",
        "colab": {}
      },
      "source": [
        "pipe = make_pipeline(preprocessing, clf)"
      ],
      "execution_count": 17,
      "outputs": []
    },
    {
      "cell_type": "markdown",
      "metadata": {
        "id": "LmlHMU1WXDKx",
        "colab_type": "text"
      },
      "source": [
        "# Try KNNImputer or IterativeImputer"
      ]
    },
    {
      "cell_type": "markdown",
      "metadata": {
        "id": "16irPUP1W_WM",
        "colab_type": "text"
      },
      "source": [
        "```python\n",
        "from sklearn.experimental import enable_iterative_imputer, enable_hist_gradient_boosting\n",
        "from sklearn.impute import SimpleImputer, IterativeImputer, KNNImputer\n",
        "```"
      ]
    },
    {
      "cell_type": "markdown",
      "metadata": {
        "id": "fJh5jBRSXFNp",
        "colab_type": "text"
      },
      "source": [
        "# cross-validate"
      ]
    },
    {
      "cell_type": "code",
      "metadata": {
        "id": "oa65OeA9W63F",
        "colab_type": "code",
        "colab": {
          "base_uri": "https://localhost:8080/",
          "height": 34
        },
        "outputId": "376fb7e2-edc2-45bd-893c-51bd9be5edf7"
      },
      "source": [
        "# Load Python Package\n",
        "import pandas as pd\n",
        "from sklearn.preprocessing import OneHotEncoder\n",
        "from sklearn.impute import SimpleImputer\n",
        "from sklearn.compose import make_column_transformer\n",
        "from sklearn.pipeline import make_pipeline\n",
        "from sklearn.tree import DecisionTreeClassifier\n",
        "from sklearn.model_selection import cross_val_score\n",
        "\n",
        "# Load data (loading Titanic dataset)\n",
        "data = pd.read_csv('https://web.stanford.edu/class/archive/cs/cs109/cs109.1166/stuff/titanic.csv')# Set X and y\n",
        "X = data.drop('Survived',axis=1)\n",
        "y = data[['Survived']]\n",
        "\n",
        "# Set variables\n",
        "ohe = OneHotEncoder(handle_unknown='ignore', sparse=True)\n",
        "imputer = SimpleImputer(add_indicator=True, verbose=1)\n",
        "clf = DecisionTreeClassifier()\n",
        "\n",
        "# Make Transformer\n",
        "preprocessing = make_column_transformer(\n",
        "(make_pipeline(imputer),['Age','Siblings/Spouses Aboard','Parents/Children Aboard','Fare']),\n",
        "(ohe, ['Pclass','Sex','Name']),remainder='passthrough')\n",
        "\n",
        "# Make pipeline\n",
        "pipe = make_pipeline(preprocessing, clf)\n",
        "\n",
        "# Cross-validation\n",
        "cross_val_score(pipe, X, y, cv=5, scoring='accuracy').mean()"
      ],
      "execution_count": 18,
      "outputs": [
        {
          "output_type": "execute_result",
          "data": {
            "text/plain": [
              "0.8241858693582174"
            ]
          },
          "metadata": {
            "tags": []
          },
          "execution_count": 18
        }
      ]
    },
    {
      "cell_type": "markdown",
      "metadata": {
        "id": "Xsegh_RrXRUk",
        "colab_type": "text"
      },
      "source": [
        "# grid search"
      ]
    },
    {
      "cell_type": "code",
      "metadata": {
        "id": "lBpICym1XO-t",
        "colab_type": "code",
        "colab": {
          "base_uri": "https://localhost:8080/",
          "height": 51
        },
        "outputId": "382625da-1cf4-4877-eeb1-421d03e29161"
      },
      "source": [
        "# Import Python Package\n",
        "import pandas as pd\n",
        "from sklearn.preprocessing import OneHotEncoder, StandardScaler\n",
        "from sklearn.impute import SimpleImputer\n",
        "from sklearn.compose import make_column_transformer\n",
        "from sklearn.pipeline import make_pipeline\n",
        "from sklearn.linear_model import LogisticRegression\n",
        "from sklearn.model_selection import GridSearchCV\n",
        "\n",
        "# Load data (loading Titanic dataset)\n",
        "data = pd.read_csv('https://web.stanford.edu/class/archive/cs/cs109/cs109.1166/stuff/titanic.csv')# Set X and y\n",
        "\n",
        "X = data.drop('Survived',axis=1)\n",
        "y = data[['Survived']]\n",
        "\n",
        "# Set variables\n",
        "clf = LogisticRegression()\n",
        "ohe = OneHotEncoder()\n",
        "scaler = StandardScaler()\n",
        "imputer = SimpleImputer()\n",
        "\n",
        "# Make Transformer\n",
        "preprocessing = make_column_transformer((make_pipeline(imputer,scaler),['Age','Siblings/Spouses Aboard','Parents/Children Aboard','Fare']),(ohe, ['Sex']),remainder='drop')# Make pipeline\n",
        "pipe = make_pipeline(preprocessing, clf)\n",
        "\n",
        "# Set params for Grid Search\n",
        "params = {}\n",
        "params['logisticregression__C'] = [0.1,0.2,0.3]\n",
        "params['logisticregression__max_iter'] = [200,500]\n",
        "\n",
        "# Run grid search\n",
        "grid = GridSearchCV(pipe, params, cv=5, scoring='accuracy')\n",
        "grid.fit(X,y.values.ravel())\n",
        "print(grid.best_score_)\n",
        "print(grid.best_params_)"
      ],
      "execution_count": 23,
      "outputs": [
        {
          "output_type": "stream",
          "text": [
            "0.7868977337649972\n",
            "{'logisticregression__C': 0.3, 'logisticregression__max_iter': 200}\n"
          ],
          "name": "stdout"
        }
      ]
    },
    {
      "cell_type": "markdown",
      "metadata": {
        "id": "8QnXWDT7X0RS",
        "colab_type": "text"
      },
      "source": [
        "# train_test_split with stratify=y\n",
        "```python\n",
        "# Import Python Package\n",
        "import pandas as pd\n",
        "from sklearn.model_selection import train_test_split# Load data (loading Titanic dataset)\n",
        "data = pd.read_csv('https://web.stanford.edu/class/archive/cs/cs109/cs109.1166/stuff/titanic.csv')# Set X and y\n",
        "X = data.drop('Survived',axis=1)\n",
        "y = data[['Survived']]# Split Train Test\n",
        "X_train, X_test, y_train, y_test = train_test_split(X, y, test_size=0.33, stratify=y)\n",
        "```"
      ]
    },
    {
      "cell_type": "markdown",
      "metadata": {
        "id": "qOKsq9_9X7rt",
        "colab_type": "text"
      },
      "source": [
        "# use three datasets (Train, Validation and Test)"
      ]
    },
    {
      "cell_type": "code",
      "metadata": {
        "id": "gUmGIdGRXv_H",
        "colab_type": "code",
        "colab": {
          "base_uri": "https://localhost:8080/",
          "height": 68
        },
        "outputId": "39a8a2ed-f11e-41e5-e796-5916df91a684"
      },
      "source": [
        "# Import Python Package\n",
        "import pandas as pd\n",
        "from sklearn.model_selection import train_test_split\n",
        "\n",
        "# Load data (loading Titanic dataset)\n",
        "data = pd.read_csv('https://web.stanford.edu/class/archive/cs/cs109/cs109.1166/stuff/titanic.csv')# Set X and y\n",
        "X = data.drop('Survived',axis=1)\n",
        "y = data[['Survived']]\n",
        "\n",
        "# Split Train, Val and Test \n",
        "X_train, X_test, y_train, y_test = train_test_split(X, y, test_size=0.2)\n",
        "X_train, X_val, y_train, y_val = train_test_split(X_train, y_train, test_size=0.25)\n",
        "\n",
        "# Print dataFrames size\n",
        "print(X_train.shape)\n",
        "print(X_val.shape)\n",
        "print(X_test.shape)"
      ],
      "execution_count": 24,
      "outputs": [
        {
          "output_type": "stream",
          "text": [
            "(531, 7)\n",
            "(178, 7)\n",
            "(178, 7)\n"
          ],
          "name": "stdout"
        }
      ]
    },
    {
      "cell_type": "markdown",
      "metadata": {
        "id": "psYk96oHYIAp",
        "colab_type": "text"
      },
      "source": [
        "# FunctionTransformer"
      ]
    },
    {
      "cell_type": "code",
      "metadata": {
        "id": "IyAZ3DxHX_aM",
        "colab_type": "code",
        "colab": {
          "base_uri": "https://localhost:8080/",
          "height": 136
        },
        "outputId": "29a906c6-e19a-472d-96fa-65dd3cd5f5ff"
      },
      "source": [
        "# Import Python Package\n",
        "import pandas as pd\n",
        "from sklearn.model_selection import train_test_split\n",
        "from sklearn.impute import SimpleImputer\n",
        "from sklearn.preprocessing import FunctionTransformer\n",
        "from sklearn.compose import make_column_transformer\n",
        "from sklearn.pipeline import make_pipeline\n",
        "\n",
        "imputer = SimpleImputer()\n",
        "\n",
        "# Load data (loading Titanic dataset)\n",
        "data = pd.read_csv('https://web.stanford.edu/class/archive/cs/cs109/cs109.1166/stuff/titanic.csv')# Set X and y\n",
        "X = data.drop('Survived',axis=1)\n",
        "y = data[['Survived']]\n",
        "\n",
        "# Write function\n",
        "def lower_letter(df):\n",
        "   return df.apply(lambda x : x.str.lower())\n",
        "   \n",
        "# Convert function\n",
        "get_lower_letter = FunctionTransformer(lower_letter)\n",
        "\n",
        "# Make Pipeline\n",
        "preprocess = make_column_transformer((imputer, ['Age']),(get_lower_letter,['Name']),remainder='drop')\n",
        "\n",
        "preprocess.fit_transform(X)"
      ],
      "execution_count": 27,
      "outputs": [
        {
          "output_type": "execute_result",
          "data": {
            "text/plain": [
              "array([[22.0, 'mr. owen harris braund'],\n",
              "       [38.0, 'mrs. john bradley (florence briggs thayer) cumings'],\n",
              "       [26.0, 'miss. laina heikkinen'],\n",
              "       ...,\n",
              "       [7.0, 'miss. catherine helen johnston'],\n",
              "       [26.0, 'mr. karl howell behr'],\n",
              "       [32.0, 'mr. patrick dooley']], dtype=object)"
            ]
          },
          "metadata": {
            "tags": []
          },
          "execution_count": 27
        }
      ]
    }
  ]
}