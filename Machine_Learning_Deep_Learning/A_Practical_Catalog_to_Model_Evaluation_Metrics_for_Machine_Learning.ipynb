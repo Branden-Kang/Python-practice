{
  "nbformat": 4,
  "nbformat_minor": 0,
  "metadata": {
    "colab": {
      "provenance": [],
      "authorship_tag": "ABX9TyMbXOVU22UWp0nbWomY6ec9"
    },
    "kernelspec": {
      "name": "python3",
      "display_name": "Python 3"
    },
    "language_info": {
      "name": "python"
    }
  },
  "cells": [
    {
      "cell_type": "markdown",
      "source": [
        "[Reference](https://python.plainenglish.io/a-practical-catalog-to-model-evaluation-metrics-for-machine-learning-74eafeb751a0)"
      ],
      "metadata": {
        "id": "zaSRDYoVrl6w"
      }
    },
    {
      "cell_type": "markdown",
      "source": [
        "Regression\n",
        "- Mean Squared Error\n",
        "- Root Mean Squared Error\n",
        "- Root Mean Squared Logarithmic Error\n",
        "- Mean Absolute Error\n",
        "- Mean Absolute Percentage Error\n",
        "- Mean Pseudo Huber Error\n",
        "- R Squared\n",
        "- Adjusted R Squared\n",
        "- Explained Variance Score"
      ],
      "metadata": {
        "id": "fT1tf8DMrphZ"
      }
    },
    {
      "cell_type": "markdown",
      "source": [
        "Classification\n",
        "- Confusion Matrix\n",
        "- Accuracy\n",
        "- Precision\n",
        "- Recall\n",
        "- Specificity\n",
        "- Negative Predictive Value\n",
        "- Miss Rate\n",
        "- Fall Out\n",
        "- False Discovery Rate\n",
        "- False Omission Rate\n",
        "- Positive Likelihood Ratio\n",
        "- Negative Likelihood Ratio\n",
        "- Prevalence & Prevalence Ratio\n",
        "- F1 Score\n",
        "- ROC & AUC\n",
        "- Log Loss"
      ],
      "metadata": {
        "id": "SksFlruGruuC"
      }
    },
    {
      "cell_type": "code",
      "source": [
        "!pip install scikit-learn==1.0.2"
      ],
      "metadata": {
        "colab": {
          "base_uri": "https://localhost:8080/",
          "height": 388
        },
        "id": "Wv9g-z3TvbZL",
        "outputId": "f228c8dc-12e2-4e76-c9f3-17d1a7ecdee7"
      },
      "execution_count": 2,
      "outputs": [
        {
          "output_type": "stream",
          "name": "stdout",
          "text": [
            "Collecting scikit-learn==1.0.2\n",
            "  Downloading scikit_learn-1.0.2-cp310-cp310-manylinux_2_17_x86_64.manylinux2014_x86_64.whl (26.5 MB)\n",
            "\u001b[2K     \u001b[90m━━━━━━━━━━━━━━━━━━━━━━━━━━━━━━━━━━━━━━━━\u001b[0m \u001b[32m26.5/26.5 MB\u001b[0m \u001b[31m23.6 MB/s\u001b[0m eta \u001b[36m0:00:00\u001b[0m\n",
            "\u001b[?25hRequirement already satisfied: numpy>=1.14.6 in /usr/local/lib/python3.10/dist-packages (from scikit-learn==1.0.2) (1.23.5)\n",
            "Requirement already satisfied: scipy>=1.1.0 in /usr/local/lib/python3.10/dist-packages (from scikit-learn==1.0.2) (1.11.3)\n",
            "Requirement already satisfied: joblib>=0.11 in /usr/local/lib/python3.10/dist-packages (from scikit-learn==1.0.2) (1.3.2)\n",
            "Requirement already satisfied: threadpoolctl>=2.0.0 in /usr/local/lib/python3.10/dist-packages (from scikit-learn==1.0.2) (3.2.0)\n",
            "Installing collected packages: scikit-learn\n",
            "  Attempting uninstall: scikit-learn\n",
            "    Found existing installation: scikit-learn 1.2.2\n",
            "    Uninstalling scikit-learn-1.2.2:\n",
            "      Successfully uninstalled scikit-learn-1.2.2\n",
            "\u001b[31mERROR: pip's dependency resolver does not currently take into account all the packages that are installed. This behaviour is the source of the following dependency conflicts.\n",
            "bigframes 0.10.0 requires scikit-learn>=1.2.2, but you have scikit-learn 1.0.2 which is incompatible.\u001b[0m\u001b[31m\n",
            "\u001b[0mSuccessfully installed scikit-learn-1.0.2\n"
          ]
        },
        {
          "output_type": "display_data",
          "data": {
            "application/vnd.colab-display-data+json": {
              "pip_warning": {
                "packages": [
                  "sklearn"
                ]
              }
            }
          },
          "metadata": {}
        }
      ]
    },
    {
      "cell_type": "code",
      "execution_count": 1,
      "metadata": {
        "colab": {
          "base_uri": "https://localhost:8080/"
        },
        "id": "AlZ0G3uwzLPg",
        "outputId": "86e44393-2d18-41fd-83ec-bcfc4d56be73"
      },
      "outputs": [
        {
          "output_type": "stream",
          "name": "stderr",
          "text": [
            "/usr/local/lib/python3.10/dist-packages/sklearn/utils/deprecation.py:87: FutureWarning: Function load_boston is deprecated; `load_boston` is deprecated in 1.0 and will be removed in 1.2.\n",
            "\n",
            "    The Boston housing prices dataset has an ethical problem. You can refer to\n",
            "    the documentation of this function for further details.\n",
            "\n",
            "    The scikit-learn maintainers therefore strongly discourage the use of this\n",
            "    dataset unless the purpose of the code is to study and educate about\n",
            "    ethical issues in data science and machine learning.\n",
            "\n",
            "    In this special case, you can fetch the dataset from the original\n",
            "    source::\n",
            "\n",
            "        import pandas as pd\n",
            "        import numpy as np\n",
            "\n",
            "\n",
            "        data_url = \"http://lib.stat.cmu.edu/datasets/boston\"\n",
            "        raw_df = pd.read_csv(data_url, sep=\"\\s+\", skiprows=22, header=None)\n",
            "        data = np.hstack([raw_df.values[::2, :], raw_df.values[1::2, :2]])\n",
            "        target = raw_df.values[1::2, 2]\n",
            "\n",
            "    Alternative datasets include the California housing dataset (i.e.\n",
            "    :func:`~sklearn.datasets.fetch_california_housing`) and the Ames housing\n",
            "    dataset. You can load the datasets as follows::\n",
            "\n",
            "        from sklearn.datasets import fetch_california_housing\n",
            "        housing = fetch_california_housing()\n",
            "\n",
            "    for the California housing dataset and::\n",
            "\n",
            "        from sklearn.datasets import fetch_openml\n",
            "        housing = fetch_openml(name=\"house_prices\", as_frame=True)\n",
            "\n",
            "    for the Ames housing dataset.\n",
            "    \n",
            "  warnings.warn(msg, category=FutureWarning)\n"
          ]
        }
      ],
      "source": [
        "import pandas as pd\n",
        "from sklearn.model_selection import train_test_split\n",
        "from sklearn.datasets import load_boston\n",
        "from sklearn.linear_model import LinearRegression\n",
        "\n",
        "# dataframe\n",
        "boston = load_boston()\n",
        "df = pd.DataFrame(boston.data, columns=boston.feature_names)\n",
        "df['MEDV'] = boston.target\n",
        "\n",
        "# split\n",
        "X_train, X_test, y_train, y_test = train_test_split(df[boston.feature_names], df['MEDV'],\n",
        "                                                    test_size=0.2, random_state=11)\n",
        "\n",
        "# model\n",
        "model = LinearRegression()\n",
        "model.fit(X_train, y_train)\n",
        "\n",
        "# predictions\n",
        "y_pred = model.predict(X_test)"
      ]
    },
    {
      "cell_type": "markdown",
      "source": [
        "# MSE — Mean Squared Error"
      ],
      "metadata": {
        "id": "SeIVJVKCvpG0"
      }
    },
    {
      "cell_type": "code",
      "source": [
        "from sklearn.metrics import mean_squared_error\n",
        "\n",
        "# error\n",
        "error = y_test - y_pred\n",
        "squared_error = error**2\n",
        "\n",
        "# MSE\n",
        "mse = mean_squared_error(y_test, y_pred)\n",
        "print(\"MSE:\", mse)"
      ],
      "metadata": {
        "colab": {
          "base_uri": "https://localhost:8080/"
        },
        "id": "zOKznbOsr215",
        "outputId": "a376e571-5823-4afd-b6ef-ecd84e8a46c7"
      },
      "execution_count": 2,
      "outputs": [
        {
          "output_type": "stream",
          "name": "stdout",
          "text": [
            "MSE: 26.944812249518115\n"
          ]
        }
      ]
    },
    {
      "cell_type": "code",
      "source": [
        "import matplotlib.pyplot as plt\n",
        "\n",
        "# plots of error distribution\n",
        "fig, (ax1, ax2) = plt.subplots(ncols=2, figsize=(12,5))\n",
        "ax1.hist(error, bins=25)\n",
        "ax1.set_xlabel(\"Prediction Error\")\n",
        "ax1.set_ylabel(\"Count\")\n",
        "ax1.set_title(\"Error Distribution\")\n",
        "ax2.hist(squared_error, bins=25)\n",
        "ax2.set_xlabel(\"Squared Error\")\n",
        "ax2.set_ylabel(\"Count\")\n",
        "ax2.set_title(\"Squared Error Distribution\")\n",
        "plt.show()"
      ],
      "metadata": {
        "colab": {
          "base_uri": "https://localhost:8080/",
          "height": 487
        },
        "id": "qUJES-cZvkLl",
        "outputId": "9ac38edf-5a87-43f1-8225-4a6205f4c1d3"
      },
      "execution_count": 3,
      "outputs": [
        {
          "output_type": "display_data",
          "data": {
            "text/plain": [
              "<Figure size 1200x500 with 2 Axes>"
            ],
            "image/png": "[encoded data removed]"
          },
          "metadata": {}
        }
      ]
    },
    {
      "cell_type": "markdown",
      "source": [
        "# RMSE — Root Mean Squared Error"
      ],
      "metadata": {
        "id": "B5lOMtOkvre-"
      }
    },
    {
      "cell_type": "code",
      "source": [
        "import numpy as np\n",
        "\n",
        "rmse = np.sqrt(mean_squared_error(y_test, y_pred))\n",
        "print(\"RMSE:\", rmse)"
      ],
      "metadata": {
        "colab": {
          "base_uri": "https://localhost:8080/"
        },
        "id": "e8eYXw4tvm7a",
        "outputId": "0a8d9f81-9729-488f-ba3c-41c58cf8b7f7"
      },
      "execution_count": 4,
      "outputs": [
        {
          "output_type": "stream",
          "name": "stdout",
          "text": [
            "RMSE: 5.190839262539162\n"
          ]
        }
      ]
    },
    {
      "cell_type": "markdown",
      "source": [
        "# RMSLE — Root Mean Squared Logarithmic Error"
      ],
      "metadata": {
        "id": "tIhOTJJXvzLD"
      }
    },
    {
      "cell_type": "code",
      "source": [
        "from sklearn.metrics import mean_squared_log_error\n",
        "rmsle = np.sqrt(mean_squared_log_error(y_test, y_pred))\n",
        "print(\"RMSLE:\", rmsle)"
      ],
      "metadata": {
        "colab": {
          "base_uri": "https://localhost:8080/"
        },
        "id": "OZwfwDNxvyLr",
        "outputId": "184dec0f-b902-442c-a3e0-ed610742eb0f"
      },
      "execution_count": 5,
      "outputs": [
        {
          "output_type": "stream",
          "name": "stdout",
          "text": [
            "RMSLE: 0.23939203402357004\n"
          ]
        }
      ]
    },
    {
      "cell_type": "markdown",
      "source": [
        "# MAE — Mean Absolute Error"
      ],
      "metadata": {
        "id": "qUtj3g1Mv46h"
      }
    },
    {
      "cell_type": "code",
      "source": [
        "# the distribution of absolute errors\n",
        "error = np.abs(y_test - y_pred)\n",
        "plt.hist(error, bins=50)\n",
        "plt.xlabel('Absolute Error')\n",
        "plt.ylabel('Frequency')\n",
        "plt.title('Distribution of Absolute Errors')\n",
        "plt.show()"
      ],
      "metadata": {
        "colab": {
          "base_uri": "https://localhost:8080/",
          "height": 472
        },
        "id": "pkg5uG-hv3m3",
        "outputId": "7fd9b20a-2aa1-4aea-a0be-fb403906d551"
      },
      "execution_count": 6,
      "outputs": [
        {
          "output_type": "display_data",
          "data": {
            "text/plain": [
              "<Figure size 640x480 with 1 Axes>"
            ],
            "image/png": "[encoded data removed]"
          },
          "metadata": {}
        }
      ]
    },
    {
      "cell_type": "markdown",
      "source": [
        "# MAPE — Mean Absolute Percentage Error"
      ],
      "metadata": {
        "id": "CxULeleDwFrc"
      }
    },
    {
      "cell_type": "code",
      "source": [
        "from sklearn.metrics import mean_absolute_percentage_error\n",
        "mape = mean_absolute_percentage_error(y_test, y_pred)\n",
        "print('MAPE: %.3f' % mape)"
      ],
      "metadata": {
        "colab": {
          "base_uri": "https://localhost:8080/"
        },
        "id": "RDu4Z1cXwEFp",
        "outputId": "23d7f600-16b7-492e-b1b3-95753ab63f8d"
      },
      "execution_count": 7,
      "outputs": [
        {
          "output_type": "stream",
          "name": "stdout",
          "text": [
            "MAPE: 0.180\n"
          ]
        }
      ]
    },
    {
      "cell_type": "markdown",
      "source": [
        "# MPHE — Mean Pseudo Huber Error"
      ],
      "metadata": {
        "id": "Etrmr8iDwRuI"
      }
    },
    {
      "cell_type": "code",
      "source": [
        "delta = 1.5\n",
        "mphe = np.mean(delta**2 * (np.sqrt(1 + ((y_test - y_pred)/delta)**2) - 1))\n",
        "print(\"MPHE:\", mphe)"
      ],
      "metadata": {
        "colab": {
          "base_uri": "https://localhost:8080/"
        },
        "id": "NDWvkbrEwQ6E",
        "outputId": "82db0a25-1400-4202-c09f-a32fc5f773dd"
      },
      "execution_count": 8,
      "outputs": [
        {
          "output_type": "stream",
          "name": "stdout",
          "text": [
            "MPHE: 3.9016393785777157\n"
          ]
        }
      ]
    },
    {
      "cell_type": "markdown",
      "source": [
        "# R² — R Squared"
      ],
      "metadata": {
        "id": "46-YMWp5wa6Q"
      }
    },
    {
      "cell_type": "code",
      "source": [
        "# R-squared manually\n",
        "r2_manual = 1 - (sum((y_test - y_pred)**2) / ((len(y_test) - 1) * np.var(y_test, ddof=1)))\n",
        "# we use ddof=1, because we use sample variance, not population variance.\n",
        "\n",
        "print(\"R-squared (manual):\", r2_manual)\n",
        "#R-squared (manual): 0.6859495577055563\n",
        "\n",
        "# R-sqaured Sklearn\n",
        "from sklearn.metrics import r2_score\n",
        "r2_sklearn = r2_score(y_test, y_pred)\n",
        "print(\"R-squared (sklearn):\", r2_sklearn)"
      ],
      "metadata": {
        "colab": {
          "base_uri": "https://localhost:8080/"
        },
        "id": "J7MCEg9_wUw9",
        "outputId": "fcb10afa-9163-4165-f501-3acb418875c0"
      },
      "execution_count": 9,
      "outputs": [
        {
          "output_type": "stream",
          "name": "stdout",
          "text": [
            "R-squared (manual): 0.6859495577055564\n",
            "R-squared (sklearn): 0.6859495577055565\n"
          ]
        }
      ]
    },
    {
      "cell_type": "code",
      "source": [
        "from sklearn.metrics import r2_score\n",
        "n = X_train.shape[0]\n",
        "p = X_train.shape[1]\n",
        "r2 = r2_score(y_test, y_pred)\n",
        "adj_r2 = 1 - ((1 - r2) * (n - 1) / (n - p - 1))\n",
        "print(\"Adjusted R-squared:\",adj_r2)"
      ],
      "metadata": {
        "colab": {
          "base_uri": "https://localhost:8080/"
        },
        "id": "2gEtu3vhw19i",
        "outputId": "b9a751fa-fc15-4e85-8f92-535bd2946931"
      },
      "execution_count": 10,
      "outputs": [
        {
          "output_type": "stream",
          "name": "stdout",
          "text": [
            "Adjusted R-squared: 0.6754812096290751\n"
          ]
        }
      ]
    },
    {
      "cell_type": "markdown",
      "source": [
        "# EVS — Explained Variance Score"
      ],
      "metadata": {
        "id": "koJk-1y_w7o-"
      }
    },
    {
      "cell_type": "code",
      "source": [
        "from sklearn.metrics import explained_variance_score\n",
        "evs = explained_variance_score(y_test, y_pred)\n",
        "print('Explained Variance Score: %.3f' % evs)"
      ],
      "metadata": {
        "colab": {
          "base_uri": "https://localhost:8080/"
        },
        "id": "vfUXkNiTw4ZV",
        "outputId": "e64da00a-d875-4a21-e6b8-dc28ecd1e589"
      },
      "execution_count": 11,
      "outputs": [
        {
          "output_type": "stream",
          "name": "stdout",
          "text": [
            "Explained Variance Score: 0.689\n"
          ]
        }
      ]
    },
    {
      "cell_type": "code",
      "source": [
        "from sklearn.datasets import load_breast_cancer, load_iris\n",
        "from sklearn.linear_model import LogisticRegression\n",
        "from sklearn.model_selection import train_test_split\n",
        "from sklearn.metrics import accuracy_score\n",
        "\n",
        "# BINARY -\n",
        "\n",
        "# load breast cancer dataset\n",
        "data = load_breast_cancer()\n",
        "X, y = data.data, data.target\n",
        "X_bi_train, X_bi_test, y_bi_train, y_bi_test = train_test_split(X, y, test_size=0.2, random_state=42)\n",
        "\n",
        "# train logistic regression model\n",
        "model_bi = LogisticRegression()\n",
        "model_bi.fit(X_bi_train, y_bi_train)\n",
        "\n",
        "# predictions\n",
        "y_bi_pred = model_bi.predict(X_bi_test)\n",
        "\n",
        "# MULTICLASS -\n",
        "\n",
        "# load iris dataset\n",
        "data = load_iris()\n",
        "X, y = data.data, data.target\n",
        "X_mul_train, X_mul_test, y_mul_train, y_mul_test = train_test_split(X, y, test_size=0.2, random_state=42)\n",
        "\n",
        "# train logistic regression model\n",
        "model_mul = LogisticRegression(multi_class=\"multinomial\", solver=\"lbfgs\")\n",
        "model_mul.fit(X_mul_train, y_mul_train)\n",
        "\n",
        "# predictions\n",
        "y_mul_pred = model_mul.predict(X_mul_test)"
      ],
      "metadata": {
        "colab": {
          "base_uri": "https://localhost:8080/"
        },
        "id": "tCeeMRBJw9Ef",
        "outputId": "91315d08-77c5-43bb-9675-670177f6e307"
      },
      "execution_count": 12,
      "outputs": [
        {
          "output_type": "stream",
          "name": "stderr",
          "text": [
            "/usr/local/lib/python3.10/dist-packages/sklearn/linear_model/_logistic.py:814: ConvergenceWarning: lbfgs failed to converge (status=1):\n",
            "STOP: TOTAL NO. of ITERATIONS REACHED LIMIT.\n",
            "\n",
            "Increase the number of iterations (max_iter) or scale the data as shown in:\n",
            "    https://scikit-learn.org/stable/modules/preprocessing.html\n",
            "Please also refer to the documentation for alternative solver options:\n",
            "    https://scikit-learn.org/stable/modules/linear_model.html#logistic-regression\n",
            "  n_iter_i = _check_optimize_result(\n",
            "/usr/local/lib/python3.10/dist-packages/sklearn/linear_model/_logistic.py:814: ConvergenceWarning: lbfgs failed to converge (status=1):\n",
            "STOP: TOTAL NO. of ITERATIONS REACHED LIMIT.\n",
            "\n",
            "Increase the number of iterations (max_iter) or scale the data as shown in:\n",
            "    https://scikit-learn.org/stable/modules/preprocessing.html\n",
            "Please also refer to the documentation for alternative solver options:\n",
            "    https://scikit-learn.org/stable/modules/linear_model.html#logistic-regression\n",
            "  n_iter_i = _check_optimize_result(\n"
          ]
        }
      ]
    },
    {
      "cell_type": "markdown",
      "source": [
        "# Confusion matrix"
      ],
      "metadata": {
        "id": "3HUwuj3bxD1O"
      }
    },
    {
      "cell_type": "code",
      "source": [
        "from sklearn.metrics import confusion_matrix\n",
        "\n",
        "cm_bi = confusion_matrix(y_bi_test, y_bi_pred)\n",
        "print(\"Confusion Matrix for Binary Clf:\\n\", cm_bi)\n",
        "\n",
        "cm_mul = confusion_matrix(y_mul_test, y_mul_pred)\n",
        "print(\"Confusion Matrix for Multi Clf:\\n\", cm_mul)"
      ],
      "metadata": {
        "colab": {
          "base_uri": "https://localhost:8080/"
        },
        "id": "tM1jtvD2w_OX",
        "outputId": "7cd8ccfa-85d2-4c09-da97-23f31f465ee9"
      },
      "execution_count": 13,
      "outputs": [
        {
          "output_type": "stream",
          "name": "stdout",
          "text": [
            "Confusion Matrix for Binary Clf:\n",
            " [[40  3]\n",
            " [ 1 70]]\n",
            "Confusion Matrix for Multi Clf:\n",
            " [[10  0  0]\n",
            " [ 0  9  0]\n",
            " [ 0  0 11]]\n"
          ]
        }
      ]
    },
    {
      "cell_type": "markdown",
      "source": [
        "# Accuracy\n"
      ],
      "metadata": {
        "id": "Tr_v-oW0xDJ_"
      }
    },
    {
      "cell_type": "code",
      "source": [
        "from sklearn.metrics import accuracy_score\n",
        "\n",
        "acc = accuracy_score(y_bi_test, y_bi_pred)\n",
        "print(\"Accuracy Bi Clf:\", acc)\n",
        "\n",
        "acc = accuracy_score(y_mul_test, y_mul_pred)\n",
        "print(\"Accuracy Multi Clf:\", acc)"
      ],
      "metadata": {
        "colab": {
          "base_uri": "https://localhost:8080/"
        },
        "id": "jJ5yU4iHxBk6",
        "outputId": "c58f931c-ae10-4355-c475-4d86c05c79b2"
      },
      "execution_count": 14,
      "outputs": [
        {
          "output_type": "stream",
          "name": "stdout",
          "text": [
            "Accuracy Bi Clf: 0.9649122807017544\n",
            "Accuracy Multi Clf: 1.0\n"
          ]
        }
      ]
    },
    {
      "cell_type": "markdown",
      "source": [
        "# Precision"
      ],
      "metadata": {
        "id": "S0WRhZoRxH5E"
      }
    },
    {
      "cell_type": "code",
      "source": [
        "from sklearn.metrics import precision_score\n",
        "\n",
        "precision = precision_score(y_bi_test, y_bi_pred)\n",
        "print(\"Precision Bi Clf:\", precision)\n",
        "precision = precision_score(y_mul_test, y_mul_pred, average='weighted')\n",
        "print(\"Precision Multi Clf:\", precision)"
      ],
      "metadata": {
        "colab": {
          "base_uri": "https://localhost:8080/"
        },
        "id": "4yfp0frcxGkc",
        "outputId": "b19fdf10-9580-40f3-ed59-d91df6e0507e"
      },
      "execution_count": 15,
      "outputs": [
        {
          "output_type": "stream",
          "name": "stdout",
          "text": [
            "Precision Bi Clf: 0.958904109589041\n",
            "Precision Multi Clf: 1.0\n"
          ]
        }
      ]
    },
    {
      "cell_type": "markdown",
      "source": [
        "# Recall (Sensitivity)"
      ],
      "metadata": {
        "id": "1VL9At0pxbMA"
      }
    },
    {
      "cell_type": "code",
      "source": [
        "from sklearn.metrics import recall_score\n",
        "\n",
        "recall = recall_score(y_bi_test, y_bi_pred)\n",
        "print(\"Recall Bi Clf:\", recall)\n",
        "recall = recall_score(y_mul_test, y_mul_pred, average='macro')\n",
        "print(\"Recall Multi Clf:\", recall)"
      ],
      "metadata": {
        "colab": {
          "base_uri": "https://localhost:8080/"
        },
        "id": "4ruBFkSqxMDh",
        "outputId": "9ccec78b-8263-4505-d390-c3bbc47bc005"
      },
      "execution_count": 16,
      "outputs": [
        {
          "output_type": "stream",
          "name": "stdout",
          "text": [
            "Recall Bi Clf: 0.9859154929577465\n",
            "Recall Multi Clf: 1.0\n"
          ]
        }
      ]
    },
    {
      "cell_type": "markdown",
      "source": [
        "# Specificity"
      ],
      "metadata": {
        "id": "HDXfJFyGxfmh"
      }
    },
    {
      "cell_type": "code",
      "source": [
        "tn, fp, fn, tp = confusion_matrix(y_bi_test, y_bi_pred).ravel()\n",
        "specificity = tn / (tn + fp)\n",
        "print(\"Specificity Bi Clf: \", specificity)"
      ],
      "metadata": {
        "colab": {
          "base_uri": "https://localhost:8080/"
        },
        "id": "kjdUJ3r-xd16",
        "outputId": "c2f0e5ae-7c4e-4a0a-806d-7ac2ac631d45"
      },
      "execution_count": 17,
      "outputs": [
        {
          "output_type": "stream",
          "name": "stdout",
          "text": [
            "Specificity Bi Clf:  0.9302325581395349\n"
          ]
        }
      ]
    },
    {
      "cell_type": "markdown",
      "source": [
        "# Negative Predictive Value"
      ],
      "metadata": {
        "id": "hCFQutzExh7t"
      }
    },
    {
      "cell_type": "code",
      "source": [
        "cm = confusion_matrix(y_bi_test, y_bi_pred)\n",
        "tn, fp, fn, tp = cm.ravel()\n",
        "npv = tn / (tn + fn)\n",
        "print(\"Negative predictive value Bi Clf:\", npv)"
      ],
      "metadata": {
        "colab": {
          "base_uri": "https://localhost:8080/"
        },
        "id": "fTARSU-Uxg97",
        "outputId": "17f0aa40-bcdd-443f-a627-4fe08fc3c68f"
      },
      "execution_count": 18,
      "outputs": [
        {
          "output_type": "stream",
          "name": "stdout",
          "text": [
            "Negative predictive value Bi Clf: 0.975609756097561\n"
          ]
        }
      ]
    },
    {
      "cell_type": "markdown",
      "source": [
        "# Miss Rate"
      ],
      "metadata": {
        "id": "ZQlV_qjNxkSl"
      }
    },
    {
      "cell_type": "code",
      "source": [
        "cm = confusion_matrix(y_bi_test, y_bi_pred)\n",
        "tn, fp, fn, tp = cm.ravel()\n",
        "miss_rate = fn / (fn + tp)\n",
        "print(\"Miss Rate Bi Clf:\", miss_rate)"
      ],
      "metadata": {
        "colab": {
          "base_uri": "https://localhost:8080/"
        },
        "id": "v0Tqh6dRxjSe",
        "outputId": "8830d4dd-f32b-474e-b812-bad895dde5db"
      },
      "execution_count": 19,
      "outputs": [
        {
          "output_type": "stream",
          "name": "stdout",
          "text": [
            "Miss Rate Bi Clf: 0.014084507042253521\n"
          ]
        }
      ]
    },
    {
      "cell_type": "markdown",
      "source": [
        "# Fall-Out"
      ],
      "metadata": {
        "id": "zqmeHhhjxmcU"
      }
    },
    {
      "cell_type": "code",
      "source": [
        "cm = confusion_matrix(y_bi_test, y_bi_pred)\n",
        "tn, fp, fn, tp = cm.ravel()\n",
        "fall_out_rate = fp / (fp + tn)\n",
        "print(\"Fall Out Rate Bi Clf:\", fall_out_rate)"
      ],
      "metadata": {
        "colab": {
          "base_uri": "https://localhost:8080/"
        },
        "id": "P1IkJeA4xlMh",
        "outputId": "d4949578-7cb2-409c-83d4-280b61acdb8f"
      },
      "execution_count": 20,
      "outputs": [
        {
          "output_type": "stream",
          "name": "stdout",
          "text": [
            "Fall Out Rate Bi Clf: 0.06976744186046512\n"
          ]
        }
      ]
    },
    {
      "cell_type": "markdown",
      "source": [
        "# F1 Score"
      ],
      "metadata": {
        "id": "ha6Yd7Y9xqnm"
      }
    },
    {
      "cell_type": "code",
      "source": [
        "from sklearn.metrics import f1_score\n",
        "f1_bi = f1_score(y_bi_test, y_bi_pred, average='weighted')\n",
        "print(\"F1 Score Bi Clf: \", f1_bi)\n",
        "f1_mul = f1_score(y_mul_test, y_mul_pred, average='weighted')\n",
        "print(\"F1 Score Mul Clf: \", f1_mul)"
      ],
      "metadata": {
        "colab": {
          "base_uri": "https://localhost:8080/"
        },
        "id": "og1pG9qYxoHW",
        "outputId": "89e3bbd8-12dc-498c-a24f-f1701177d07c"
      },
      "execution_count": 21,
      "outputs": [
        {
          "output_type": "stream",
          "name": "stdout",
          "text": [
            "F1 Score Bi Clf:  0.9647382344750767\n",
            "F1 Score Mul Clf:  1.0\n"
          ]
        }
      ]
    },
    {
      "cell_type": "markdown",
      "source": [
        "# ROC & AUC"
      ],
      "metadata": {
        "id": "Q1WljXeextTo"
      }
    },
    {
      "cell_type": "code",
      "source": [
        "from sklearn.metrics import plot_roc_curve\n",
        "\n",
        "plot_roc_curve(model_bi, X_bi_test, y_bi_test)\n",
        "plt.show()"
      ],
      "metadata": {
        "colab": {
          "base_uri": "https://localhost:8080/",
          "height": 503
        },
        "id": "CfKVQEdVxr39",
        "outputId": "7dbfc34a-a44d-4cf1-a652-df628c86e5c1"
      },
      "execution_count": 22,
      "outputs": [
        {
          "output_type": "stream",
          "name": "stderr",
          "text": [
            "/usr/local/lib/python3.10/dist-packages/sklearn/utils/deprecation.py:87: FutureWarning: Function plot_roc_curve is deprecated; Function :func:`plot_roc_curve` is deprecated in 1.0 and will be removed in 1.2. Use one of the class methods: :meth:`sklearn.metric.RocCurveDisplay.from_predictions` or :meth:`sklearn.metric.RocCurveDisplay.from_estimator`.\n",
            "  warnings.warn(msg, category=FutureWarning)\n"
          ]
        },
        {
          "output_type": "display_data",
          "data": {
            "text/plain": [
              "<Figure size 640x480 with 1 Axes>"
            ],
            "image/png": "[encoded data removed]"
          },
          "metadata": {}
        }
      ]
    },
    {
      "cell_type": "markdown",
      "source": [
        "# Log-Loss"
      ],
      "metadata": {
        "id": "8ccSauCQxyqA"
      }
    },
    {
      "cell_type": "code",
      "source": [
        "from sklearn.metrics import log_loss\n",
        "loss = log_loss(y_bi_test, y_bi_pred)\n",
        "print(\"Log Loss: \", loss)"
      ],
      "metadata": {
        "colab": {
          "base_uri": "https://localhost:8080/"
        },
        "id": "PL7lTHdxxxoW",
        "outputId": "4f008d55-25f5-4038-fcab-24a2efb3dc29"
      },
      "execution_count": 23,
      "outputs": [
        {
          "output_type": "stream",
          "name": "stdout",
          "text": [
            "Log Loss:  1.2119079330871352\n"
          ]
        }
      ]
    }
  ]
}
