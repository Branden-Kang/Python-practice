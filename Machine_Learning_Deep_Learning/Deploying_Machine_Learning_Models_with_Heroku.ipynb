{
  "nbformat": 4,
  "nbformat_minor": 0,
  "metadata": {
    "colab": {
      "provenance": [],
      "collapsed_sections": [],
      "authorship_tag": "ABX9TyMUwzs45vZyumU/B62246ni"
    },
    "kernelspec": {
      "name": "python3",
      "display_name": "Python 3"
    },
    "language_info": {
      "name": "python"
    }
  },
  "cells": [
    {
      "cell_type": "markdown",
      "source": [
        "[Reference](https://towardsdatascience.com/deploying-machine-learning-models-with-heroku-4dec1df87f71)"
      ],
      "metadata": {
        "id": "iouX1tchTvGF"
      }
    },
    {
      "cell_type": "markdown",
      "source": [
        "# Step 1: Developing the Machine Learning Model\n"
      ],
      "metadata": {
        "id": "NE4DRnvnT5vX"
      }
    },
    {
      "cell_type": "code",
      "source": [
        "import numpy as np"
      ],
      "metadata": {
        "id": "YRcDe8J8T2Z4"
      },
      "execution_count": 1,
      "outputs": []
    },
    {
      "cell_type": "code",
      "execution_count": 2,
      "metadata": {
        "colab": {
          "base_uri": "https://localhost:8080/"
        },
        "id": "ZqItdj1PTt61",
        "outputId": "04e2b91f-918b-4a36-8ec4-80585c436290"
      },
      "outputs": [
        {
          "output_type": "stream",
          "name": "stdout",
          "text": [
            "Number of data points =  100\n"
          ]
        }
      ],
      "source": [
        "## Generating input data points\n",
        "x = np.arange(-10, 10, 0.2)\n",
        "\n",
        "## Defining a polynomial mapping from x to y and adding random noise to y. \n",
        "y = 0.3*x**3 + 1*x**2 - 12*x + 2\n",
        "noise = np.linspace(-1, 1, x.shape[0])*15\n",
        "np.random.shuffle(noise)\n",
        "y = y + noise\n",
        "\n",
        "print(\"Number of data points = \", x.shape[0])"
      ]
    },
    {
      "cell_type": "code",
      "source": [
        "from sklearn.linear_model import LinearRegression\n",
        "\n",
        "model = LinearRegression()\n",
        "\n",
        "features = np.array([x**3, x**2, x**1, x**0]).T\n",
        "model.fit(features, y.reshape(-1, 1))"
      ],
      "metadata": {
        "colab": {
          "base_uri": "https://localhost:8080/"
        },
        "id": "cKChT3rsTx9C",
        "outputId": "165f9fef-a73b-4f47-8d53-c84b18b0c064"
      },
      "execution_count": 3,
      "outputs": [
        {
          "output_type": "execute_result",
          "data": {
            "text/plain": [
              "LinearRegression()"
            ]
          },
          "metadata": {},
          "execution_count": 3
        }
      ]
    },
    {
      "cell_type": "code",
      "source": [
        "import pickle\n",
        "\n",
        "filename = 'model.pickle'\n",
        "pickle.dump(model, open(filename, 'wb'))"
      ],
      "metadata": {
        "id": "8yye6wFcTzVv"
      },
      "execution_count": 4,
      "outputs": []
    },
    {
      "cell_type": "markdown",
      "source": [
        "# Step 2: Creating a Web Application using Flask\n"
      ],
      "metadata": {
        "id": "HYUeOk7UT7Zu"
      }
    },
    {
      "cell_type": "code",
      "source": [
        "# pip install Flask"
      ],
      "metadata": {
        "id": "pWsGUBQ9T3ie"
      },
      "execution_count": 5,
      "outputs": []
    },
    {
      "cell_type": "markdown",
      "source": [
        "![web](https://miro.medium.com/max/700/1*gEBSr5YqGQRbbcwUTLO6bQ.png)"
      ],
      "metadata": {
        "id": "tmZsZtryUBGf"
      }
    },
    {
      "cell_type": "code",
      "source": [
        "# app.py\n",
        "# from flask import Flask, render_template, request\n",
        "# import numpy as np\n",
        "# import pickle\n",
        "\n",
        "# app = Flask(__name__)\n",
        "\n",
        "# @app.route('/',methods=['POST','GET'])\n",
        "# def predict():\n",
        "#   data=float(request.form['model_input'])\n",
        "#   features=np.array([[data**3, data**2, data**1, data**0]])\n",
        "\n",
        "#   model=pickle.load(open('model.pickle','rb'))\n",
        "#   pred=model.predict(features)[0][0]\n",
        "\n",
        "#   predictions_statment=f\"The output of the model is {pred}\"\n",
        "#   return render_template('new.html',statement=prediction_statement)\n",
        "\n",
        "# if __name__ =\"__main__\":\n",
        "#   app.run()"
      ],
      "metadata": {
        "id": "pGWdMhvsmZ-4"
      },
      "execution_count": 6,
      "outputs": []
    },
    {
      "cell_type": "code",
      "source": [
        "# new.html\n",
        "# <!doctype html>\n",
        "# <html lang='en'>\n",
        "#   <head>\n",
        "#     <meta charset='utf-8'>\n",
        "#     <meta name=\"viewport\",content=\"width=device-width, initial-scale=1\">\n",
        "#     <title>Linear Regression</title>\n",
        "#   </head>\n",
        "\n",
        "#   <body>\n",
        "#     <h1 style=\"test-align:center\">Linear Regression Model</h1>\n",
        "#     <hr style=\"color: rgb(0, 0, 0);\">\n",
        "#     <h2 style=\"color: rgb(0, 0, 0);\">Provide an input value below</h2>\n",
        "\n",
        "#     <form action=\"{{url_for('predict')}}\" method=\"post\">\n",
        "#       <input type=\"text\" placeholder=\"Enter value\" name=\"model_input\">\n",
        "#       <br>\n",
        "#       <button type=\"submit\">Predict</button><br><br>\n",
        "#       <b style=\"color: rgb(0, 0, 0);font-size: 22px;\">{{statement}}</b>\n",
        "#     </form>\n",
        "#   </body>\n",
        "# </html>"
      ],
      "metadata": {
        "id": "qBlHcNe2nt_Q"
      },
      "execution_count": 7,
      "outputs": []
    },
    {
      "cell_type": "markdown",
      "source": [
        "# Step 3: Deploying the Application to a Heroku Server\n"
      ],
      "metadata": {
        "id": "J_kr67bHUFZq"
      }
    },
    {
      "cell_type": "code",
      "source": [
        "# pip install gunicorn"
      ],
      "metadata": {
        "id": "sP7q--hLT_Gr"
      },
      "execution_count": 8,
      "outputs": []
    },
    {
      "cell_type": "code",
      "source": [
        "# $ heroku login\n",
        "# $ cd my-project/\n",
        "# $ git init\n",
        "# $ heroku git:remote -a linearregressiontest\n",
        "# $ git add .\n",
        "# $ git commit -am \"deployment step 1\"\n",
        "# $ git push heroku master"
      ],
      "metadata": {
        "id": "elcZhQWMo3Fw"
      },
      "execution_count": 9,
      "outputs": []
    }
  ]
}
