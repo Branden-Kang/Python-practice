{
  "nbformat": 4,
  "nbformat_minor": 0,
  "metadata": {
    "colab": {
      "provenance": [],
      "authorship_tag": "ABX9TyNEgIFB2AAGrh0+giNtb51A"
    },
    "kernelspec": {
      "name": "python3",
      "display_name": "Python 3"
    },
    "language_info": {
      "name": "python"
    }
  },
  "cells": [
    {
      "cell_type": "markdown",
      "source": [
        "[Reference](https://medium.com/paulacy-pulse/knn-algorithm-implementation-in-python-baea81df46f7)"
      ],
      "metadata": {
        "id": "2mJj0wpi1Mm7"
      }
    },
    {
      "cell_type": "code",
      "execution_count": 1,
      "metadata": {
        "colab": {
          "base_uri": "https://localhost:8080/"
        },
        "id": "wgYBTEQH07CR",
        "outputId": "bd92c8af-db9c-4c46-e46a-98455acab361"
      },
      "outputs": [
        {
          "output_type": "stream",
          "name": "stdout",
          "text": [
            "The predicted class for [2 2] is: 0\n"
          ]
        }
      ],
      "source": [
        "import numpy as np\n",
        "\n",
        "# Create some sample data\n",
        "X = np.array([[1, 2], [1, 4], [1, 0], [4, 2], [4, 4], [4, 0]])\n",
        "y = np.array([0, 0, 0, 1, 1, 1])\n",
        "\n",
        "# Define the kNN function\n",
        "def knn_predict(X_train, y_train, x_test, k):\n",
        "    distances = np.sqrt(np.sum((X_train - x_test)**2, axis=1))\n",
        "    nearest_neighbors = distances.argsort()[:k]\n",
        "    neighbor_labels = y_train[nearest_neighbors]\n",
        "    prediction = np.bincount(neighbor_labels).argmax()\n",
        "    return prediction\n",
        "\n",
        "# Test the kNN function\n",
        "x_new = np.array([2, 2])\n",
        "prediction = knn_predict(X, y, x_new, k=3)\n",
        "print(f\"The predicted class for {x_new} is: {prediction}\")"
      ]
    }
  ]
}
