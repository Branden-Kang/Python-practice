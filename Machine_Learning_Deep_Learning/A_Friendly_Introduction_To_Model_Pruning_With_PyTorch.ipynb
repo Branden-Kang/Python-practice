{
  "nbformat": 4,
  "nbformat_minor": 0,
  "metadata": {
    "colab": {
      "provenance": [],
      "authorship_tag": "ABX9TyOv29b9zi+DpOKgv6DhXOyx"
    },
    "kernelspec": {
      "name": "python3",
      "display_name": "Python 3"
    },
    "language_info": {
      "name": "python"
    }
  },
  "cells": [
    {
      "cell_type": "markdown",
      "source": [
        "[Reference](https://levelup.gitconnected.com/a-friendly-introduction-to-model-pruning-with-pytorch-73245d5d28f3)"
      ],
      "metadata": {
        "id": "zul48MhV34jQ"
      }
    },
    {
      "cell_type": "code",
      "execution_count": 6,
      "metadata": {
        "id": "auM-fo6J3zxX"
      },
      "outputs": [],
      "source": [
        "import torch\n",
        "import torch.nn.utils.prune as prune\n",
        "\n",
        "# Define a simple neural network\n",
        "class SimpleNet(torch.nn.Module):\n",
        "    def __init__(self):\n",
        "        super(SimpleNet, self).__init__()\n",
        "        self.conv1 = torch.nn.Conv2d(1, 20, 5)\n",
        "        self.fc1 = torch.nn.Linear(20 * 24 * 24, 500)\n",
        "\n",
        "    def forward(self, x):\n",
        "        x = self.conv1(x)\n",
        "        x = x.view(-1, 20 * 24 * 24)\n",
        "        x = self.fc1(x)\n",
        "        return x\n",
        "\n",
        "# Create model instance\n",
        "model = SimpleNet()"
      ]
    },
    {
      "cell_type": "code",
      "source": [
        "layer = model.conv1\n",
        "sparsity = 100.0 * float(torch.sum(layer.weight == 0)) / float(layer.weight.nelement())\n",
        "print(f\"Sparsity in {layer}: {sparsity:.2f}%\")"
      ],
      "metadata": {
        "colab": {
          "base_uri": "https://localhost:8080/"
        },
        "id": "ntr7JFM-4DmO",
        "outputId": "a706372d-d4f9-41a3-d9e2-4e22f3d72927"
      },
      "execution_count": 9,
      "outputs": [
        {
          "output_type": "stream",
          "name": "stdout",
          "text": [
            "Sparsity in Conv2d(1, 20, kernel_size=(5, 5), stride=(1, 1)): 0.00%\n"
          ]
        }
      ]
    },
    {
      "cell_type": "code",
      "source": [
        "# Structured Pruning of 30% of the filters in the same conv2d layer\n",
        "# https://docs.pytorch.org/docs/stable/generated/torch.nn.utils.prune.ln_structured.html\n",
        "prune.ln_structured(\n",
        "    model.conv1,\n",
        "    name='weight',\n",
        "    amount=0.3,\n",
        "    n=2,\n",
        "    dim=0\n",
        ")\n",
        "\n",
        "layer = model.conv1\n",
        "sparsity = 100.0 * float(torch.sum(layer.weight == 0)) / float(layer.weight.nelement())\n",
        "print(f\"Sparsity in {layer}: {sparsity:.2f}%\")"
      ],
      "metadata": {
        "colab": {
          "base_uri": "https://localhost:8080/"
        },
        "id": "tFPsRevC4GTP",
        "outputId": "560aaa63-a216-45d0-f173-eaaf626caf4e"
      },
      "execution_count": 11,
      "outputs": [
        {
          "output_type": "stream",
          "name": "stdout",
          "text": [
            "Sparsity in Conv2d(1, 20, kernel_size=(5, 5), stride=(1, 1)): 30.00%\n"
          ]
        }
      ]
    },
    {
      "cell_type": "code",
      "source": [
        "import torch.nn.utils.prune as prune\n",
        "\n",
        "parameters_to_prune = [\n",
        "    (layer, 'weight') for layer in model.modules()\n",
        "    if hasattr(layer, 'weight')\n",
        "]\n",
        "\n",
        "# Global Unstructured Pruning\n",
        "prune.global_unstructured(\n",
        "    parameters_to_prune,\n",
        "    pruning_method=prune.L1Unstructured,\n",
        "    amount=0.3\n",
        ")\n",
        "\n",
        "# 각 layer의 sparsity 출력\n",
        "for layer, _ in parameters_to_prune:\n",
        "    sparsity = 100.0 * float(torch.sum(layer.weight == 0)) / float(layer.weight.nelement())\n",
        "    print(f\"Sparsity in {layer.__class__.__name__}: {sparsity:.2f}%\")\n"
      ],
      "metadata": {
        "colab": {
          "base_uri": "https://localhost:8080/"
        },
        "id": "genzwCp04GmU",
        "outputId": "1a616648-4efa-482f-8359-27722e87ea88"
      },
      "execution_count": 13,
      "outputs": [
        {
          "output_type": "stream",
          "name": "stdout",
          "text": [
            "Sparsity in Conv2d: 30.40%\n",
            "Sparsity in Linear: 30.00%\n"
          ]
        }
      ]
    },
    {
      "cell_type": "code",
      "source": [
        "# Fine-tuning loop\n",
        "optimizer = torch.optim.Adam(model.parameters(), lr=0.001)\n",
        "criterion = torch.nn.CrossEntropyLoss()\n",
        "\n",
        "def fine_tune(model, train_loader, epochs=5):\n",
        "    for epoch in range(epochs):\n",
        "        for batch_idx, (data, target) in enumerate(train_loader):\n",
        "            optimizer.zero_grad()\n",
        "            output = model(data)\n",
        "            loss = criterion(output, target)\n",
        "            loss.backward()\n",
        "            optimizer.step()"
      ],
      "metadata": {
        "id": "arRto96I4IC-"
      },
      "execution_count": 14,
      "outputs": []
    }
  ]
}
