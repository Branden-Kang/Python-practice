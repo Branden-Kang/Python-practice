{
  "nbformat": 4,
  "nbformat_minor": 0,
  "metadata": {
    "colab": {
      "name": "Normalization In Machine learning.ipynb",
      "provenance": [],
      "authorship_tag": "ABX9TyMZzLqavyoMk6rjFyBwaFx5"
    },
    "kernelspec": {
      "name": "python3",
      "display_name": "Python 3"
    }
  },
  "cells": [
    {
      "cell_type": "markdown",
      "metadata": {
        "id": "UEB_6x80zvBd"
      },
      "source": [
        "[Reference](https://sailajakarra.medium.com/normalization-in-machine-learning-166a364d3edc)"
      ]
    },
    {
      "cell_type": "markdown",
      "metadata": {
        "id": "XAAsIiNJz1hV"
      },
      "source": [
        "# Log transformation\n",
        "Log transformation can help reduce skewness when you have skewed data, and can help reducing variability of data."
      ]
    },
    {
      "cell_type": "markdown",
      "metadata": {
        "id": "2D-T217dz7fL"
      },
      "source": [
        "# Min-max scaling"
      ]
    },
    {
      "cell_type": "markdown",
      "metadata": {
        "id": "0us9lj_wz9kD"
      },
      "source": [
        "![min_max](https://miro.medium.com/max/1088/1*_wlD7dXY84VS_rDaX5QXdA.png)"
      ]
    },
    {
      "cell_type": "markdown",
      "metadata": {
        "id": "hOd-r6Sw0BHO"
      },
      "source": [
        "# Standardization"
      ]
    },
    {
      "cell_type": "markdown",
      "metadata": {
        "id": "hcDkWFWV0CxX"
      },
      "source": [
        "![standardization](https://miro.medium.com/max/676/1*QFW6egmc_hbYPwRpTSFiWw.png)"
      ]
    },
    {
      "cell_type": "markdown",
      "metadata": {
        "id": "mEwAhNd40HsM"
      },
      "source": [
        "# Mean normalization"
      ]
    },
    {
      "cell_type": "markdown",
      "metadata": {
        "id": "b7cvmy5U0QOH"
      },
      "source": [
        "![mean_normalization](https://miro.medium.com/max/952/1*bni6FOfF6kfrauspFDsydQ.png)"
      ]
    },
    {
      "cell_type": "markdown",
      "metadata": {
        "id": "ouYilHzp0UfM"
      },
      "source": [
        "# Unit vector transformation"
      ]
    },
    {
      "cell_type": "markdown",
      "metadata": {
        "id": "aZT0iGIq0XqX"
      },
      "source": [
        "![unit_vector](https://miro.medium.com/max/1400/1*YpoaSa-fVwTbe5LAwcUAnA.png)"
      ]
    },
    {
      "cell_type": "markdown",
      "metadata": {
        "id": "UlCsW2Xc0akl"
      },
      "source": [
        "# Power Transformation"
      ]
    },
    {
      "cell_type": "markdown",
      "metadata": {
        "id": "-YPAa6eu0j71"
      },
      "source": [
        "```python\n",
        "import pandas as pd\n",
        "from sklearn.model_selection import train_test_split\n",
        "from sklearn.neighbors import KNeighborsClassifier\n",
        "from sklearn.metrics import f1_scoreX_train,X_test,y_train,y_test=train_test_split(df_dummies,labels,test_size=0.25,random_state=42)knn=KNeighborsClassifier()\n",
        "clf=knn.fit(X_train,y_train)\n",
        "pred=clf.predict(X_test)\n",
        "result= f1_score(y_test,pred)\n",
        "```"
      ]
    },
    {
      "cell_type": "markdown",
      "metadata": {
        "id": "kFvESC0c0pc1"
      },
      "source": [
        "```python\n",
        "from sklearn.preprocessing import StandardScalerscaler2=StandardScaler()\n",
        "X_train_scaled2=scaler2.fit_transform(X_train)\n",
        "X_test_scaled2=scaler2.transform(X_test)clf_scaled2= knn.fit(X_train_scaled2,y_train)\n",
        "scaled_pred2=clf_scaled2.predict(X_test_scaled2)result=f1_score(y_test,scaled_pred2)\n",
        "```"
      ]
    },
    {
      "cell_type": "markdown",
      "metadata": {
        "id": "x2p-Ghcq0sJa"
      },
      "source": [
        "```python\n",
        "from sklearn.preprocessing import PowerTransformeryj = PowerTransformer(method=\"yeo-johnson\")X_train_yj=yj.fit(X_train).transform(X_train)\n",
        "X_test_yj=yj.transform(X_test)clf_transformed= knn.fit(X_train_yj,y_train)\n",
        "transformed_pred=clf_transformed.predict(X_test_yj)result=f1_score(y_test,transformed_pred)\n",
        "```"
      ]
    },
    {
      "cell_type": "markdown",
      "metadata": {
        "id": "CXn_tH4J0vQ-"
      },
      "source": [
        "```python\n",
        "from sklearn.preprocessing import MinMaxScalerscaler1=MinMaxScaler()\n",
        "X_train_scaled1=scaler.fit_transform(X_train)\n",
        "X_test_scaled1=scaler.transform(X_test)clf_scaled1= knn.fit(X_train_scaled1,y_train)\n",
        "scaled_pred1=clf_scaled1.predict(X_test_scaled1)result=f1_score(y_test,scaled_pred1)\n",
        "```"
      ]
    },
    {
      "cell_type": "markdown",
      "metadata": {
        "id": "ik8cn2tg0xpG"
      },
      "source": [
        "```python\n",
        "from sklearn.preprocessing import Normalizernormalizer=Normalizer()\n",
        "X_train_normalized=normalizer.fit_transform(X_train)\n",
        "X_test_normalized=normalizer.transform(X_test)clf_normalized= knn.fit(X_train_normalized,y_train)\n",
        "normalized_pred1=clf_normalized.predict(X_test_normalized)result=f1_score(y_test,normalized_pred1)\n",
        "```"
      ]
    }
  ]
}