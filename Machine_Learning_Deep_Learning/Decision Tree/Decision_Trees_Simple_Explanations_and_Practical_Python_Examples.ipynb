{
  "nbformat": 4,
  "nbformat_minor": 0,
  "metadata": {
    "colab": {
      "provenance": [],
      "authorship_tag": "ABX9TyPpzGo7HsX2sTMzqOGhxpg6"
    },
    "kernelspec": {
      "name": "python3",
      "display_name": "Python 3"
    },
    "language_info": {
      "name": "python"
    }
  },
  "cells": [
    {
      "cell_type": "markdown",
      "source": [
        "[Reference](https://medium.com/@maheshhkanagavell/decision-trees-simple-explanations-and-practical-python-examples-100b27bbeef3)"
      ],
      "metadata": {
        "id": "oEuU8qtl3Jru"
      }
    },
    {
      "cell_type": "code",
      "execution_count": 1,
      "metadata": {
        "colab": {
          "base_uri": "https://localhost:8080/"
        },
        "id": "MQeKgxg_0ahc",
        "outputId": "03c7dbd1-3103-4845-af42-13abc1acb3cb"
      },
      "outputs": [
        {
          "output_type": "stream",
          "name": "stdout",
          "text": [
            "Accuracy: 0.9555555555555556\n"
          ]
        }
      ],
      "source": [
        "# Import the necessary libraries\n",
        "from sklearn.datasets import load_iris\n",
        "from sklearn.tree import DecisionTreeClassifier\n",
        "from sklearn.model_selection import train_test_split\n",
        "from sklearn import metrics\n",
        "\n",
        "# Load the iris dataset\n",
        "iris = load_iris()\n",
        "\n",
        "# Split the dataset into training and testing sets\n",
        "X_train, X_test, y_train, y_test = train_test_split(iris.data, iris.target, test_size=0.3, random_state=1)\n",
        "\n",
        "# Build the decision tree classifier\n",
        "dtc = DecisionTreeClassifier()\n",
        "\n",
        "# Train the classifier on the training set\n",
        "dtc.fit(X_train, y_train)\n",
        "\n",
        "# Predict the classes of the test set using the trained classifier\n",
        "y_pred = dtc.predict(X_test)\n",
        "\n",
        "# Print the accuracy of the classifier\n",
        "print(\"Accuracy:\", metrics.accuracy_score(y_test, y_pred))"
      ]
    }
  ]
}
