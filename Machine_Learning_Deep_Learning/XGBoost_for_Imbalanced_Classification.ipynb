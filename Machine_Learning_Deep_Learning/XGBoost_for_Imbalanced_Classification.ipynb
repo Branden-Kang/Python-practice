{
  "nbformat": 4,
  "nbformat_minor": 0,
  "metadata": {
    "colab": {
      "name": "XGBoost for Imbalanced Classification.ipynb",
      "provenance": [],
      "authorship_tag": "ABX9TyPlh5uJ6UiJWwaS7jSwH8SJ"
    },
    "kernelspec": {
      "name": "python3",
      "display_name": "Python 3"
    }
  },
  "cells": [
    {
      "cell_type": "markdown",
      "metadata": {
        "id": "TAHDb1EHkhmg",
        "colab_type": "text"
      },
      "source": [
        "# XGBoost for Imbalanced Classification\n",
        "- [Reference](https://machinelearningmastery.com/xgboost-for-imbalanced-classification/)"
      ]
    },
    {
      "cell_type": "markdown",
      "metadata": {
        "id": "frBn-wNyjYvN",
        "colab_type": "text"
      },
      "source": [
        "# Import libraries"
      ]
    },
    {
      "cell_type": "code",
      "metadata": {
        "id": "m34bljWnimNF",
        "colab_type": "code",
        "colab": {}
      },
      "source": [
        "# fit xgboost on an imbalanced classification dataset\n",
        "from numpy import mean\n",
        "from sklearn.model_selection import cross_val_score\n",
        "from sklearn.model_selection import GridSearchCV\n",
        "from sklearn.model_selection import RepeatedStratifiedKFold\n",
        "from xgboost import XGBClassifier\n",
        "\n",
        "# Generate and plot a synthetic imbalanced classification dataset\n",
        "from collections import Counter\n",
        "from sklearn.datasets import make_classification\n",
        "from matplotlib import pyplot\n",
        "from numpy import where"
      ],
      "execution_count": 0,
      "outputs": []
    },
    {
      "cell_type": "markdown",
      "metadata": {
        "id": "iV37cjURjXgg",
        "colab_type": "text"
      },
      "source": [
        "# Imbalanced Classification Dataset"
      ]
    },
    {
      "cell_type": "code",
      "metadata": {
        "id": "-hRwYEzxinJe",
        "colab_type": "code",
        "colab": {}
      },
      "source": [
        "# generate dataset\n",
        "X, y = make_classification(n_samples=10000, n_features=2, n_redundant=0,\n",
        "\tn_clusters_per_class=2, weights=[0.99], flip_y=0, random_state=7)"
      ],
      "execution_count": 0,
      "outputs": []
    },
    {
      "cell_type": "code",
      "metadata": {
        "id": "9HxCmsXIjrpa",
        "colab_type": "code",
        "colab": {
          "base_uri": "https://localhost:8080/",
          "height": 34
        },
        "outputId": "3594fee6-e749-4118-8a07-745f02379243"
      },
      "source": [
        "# summarize class distribution\n",
        "counter = Counter(y)\n",
        "print(counter)"
      ],
      "execution_count": 12,
      "outputs": [
        {
          "output_type": "stream",
          "text": [
            "Counter({0: 9900, 1: 100})\n"
          ],
          "name": "stdout"
        }
      ]
    },
    {
      "cell_type": "code",
      "metadata": {
        "id": "ayMLc_rajuYl",
        "colab_type": "code",
        "colab": {
          "base_uri": "https://localhost:8080/",
          "height": 265
        },
        "outputId": "62689512-4719-4826-e1e1-022d8e709b31"
      },
      "source": [
        "# scatter plot of examples by class label\n",
        "for label, _ in counter.items():\n",
        "\trow_ix = where(y == label)[0]\n",
        "\tpyplot.scatter(X[row_ix, 0], X[row_ix, 1], label=str(label))\n",
        "pyplot.legend()\n",
        "pyplot.show()"
      ],
      "execution_count": 13,
      "outputs": [
        {
          "output_type": "display_data",
          "data": {
            "image/png": "[encoded data removed]",
            "text/plain": [
              "<Figure size 432x288 with 1 Axes>"
            ]
          },
          "metadata": {
            "tags": [],
            "needs_background": "light"
          }
        }
      ]
    },
    {
      "cell_type": "markdown",
      "metadata": {
        "id": "J8h1BiH3j0it",
        "colab_type": "text"
      },
      "source": [
        "# XGBoost Model for Classification"
      ]
    },
    {
      "cell_type": "code",
      "metadata": {
        "id": "0BnJ_VcvixWu",
        "colab_type": "code",
        "colab": {
          "base_uri": "https://localhost:8080/",
          "height": 34
        },
        "outputId": "01306a23-a360-4095-859b-f2b37632c62a"
      },
      "source": [
        "# define model\n",
        "model = XGBClassifier()\n",
        "# define evaluation procedure\n",
        "cv = RepeatedStratifiedKFold(n_splits=10, n_repeats=3, random_state=1)\n",
        "# evaluate model\n",
        "scores = cross_val_score(model, X, y, scoring='roc_auc', cv=cv, n_jobs=-1)\n",
        "# summarize performance\n",
        "print('Mean ROC AUC: %.5f' % mean(scores))"
      ],
      "execution_count": 4,
      "outputs": [
        {
          "output_type": "stream",
          "text": [
            "Mean ROC AUC: 0.95372\n"
          ],
          "name": "stdout"
        }
      ]
    },
    {
      "cell_type": "markdown",
      "metadata": {
        "id": "1sJbJTVqi61Z",
        "colab_type": "text"
      },
      "source": [
        "# Weighted XGBoost for Class Imbalance"
      ]
    },
    {
      "cell_type": "code",
      "metadata": {
        "id": "tPk1BmgqkSQM",
        "colab_type": "code",
        "colab": {
          "base_uri": "https://localhost:8080/",
          "height": 34
        },
        "outputId": "40dd81f1-ec75-46c4-c426-ffd6ee230f0b"
      },
      "source": [
        "# count examples in each class\n",
        "counter = Counter(y)\n",
        "# estimate scale_pos_weight value\n",
        "estimate = counter[0] / counter[1]\n",
        "print('Estimate: %.3f' % estimate)"
      ],
      "execution_count": 14,
      "outputs": [
        {
          "output_type": "stream",
          "text": [
            "Estimate: 99.000\n"
          ],
          "name": "stdout"
        }
      ]
    },
    {
      "cell_type": "code",
      "metadata": {
        "id": "JYEN0HlmizG_",
        "colab_type": "code",
        "colab": {
          "base_uri": "https://localhost:8080/",
          "height": 34
        },
        "outputId": "4878c68f-937d-4799-c201-4867e2b09b89"
      },
      "source": [
        "# define model\n",
        "model = XGBClassifier(scale_pos_weight=99)\n",
        "# define evaluation procedure\n",
        "cv = RepeatedStratifiedKFold(n_splits=10, n_repeats=3, random_state=1)\n",
        "# evaluate model\n",
        "scores = cross_val_score(model, X, y, scoring='roc_auc', cv=cv, n_jobs=-1)\n",
        "# summarize performance\n",
        "print('Mean ROC AUC: %.5f' % mean(scores))"
      ],
      "execution_count": 15,
      "outputs": [
        {
          "output_type": "stream",
          "text": [
            "Mean ROC AUC: 0.95930\n"
          ],
          "name": "stdout"
        }
      ]
    },
    {
      "cell_type": "markdown",
      "metadata": {
        "id": "Bi-grhX0jCus",
        "colab_type": "text"
      },
      "source": [
        "# Tune the Class Weighting Hyperparameter"
      ]
    },
    {
      "cell_type": "code",
      "metadata": {
        "id": "xn8QN7ffi_23",
        "colab_type": "code",
        "colab": {}
      },
      "source": [
        "# define grid\n",
        "weights = [1, 10, 25, 50, 75, 99, 100, 1000]\n",
        "param_grid = dict(scale_pos_weight=weights)"
      ],
      "execution_count": 0,
      "outputs": []
    },
    {
      "cell_type": "code",
      "metadata": {
        "id": "Cko8kzbPjGhm",
        "colab_type": "code",
        "colab": {
          "base_uri": "https://localhost:8080/",
          "height": 34
        },
        "outputId": "9ce66655-1459-409e-ca65-faa6755f49e4"
      },
      "source": [
        "# define evaluation procedure\n",
        "cv = RepeatedStratifiedKFold(n_splits=10, n_repeats=3, random_state=1)\n",
        "# define grid search\n",
        "grid = GridSearchCV(estimator=model, param_grid=param_grid, n_jobs=-1, cv=cv, scoring='roc_auc')\n",
        "# execute the grid search\n",
        "grid_result = grid.fit(X, y)\n",
        "# report the best configuration\n",
        "print(\"Best: %f using %s\" % (grid_result.best_score_, grid_result.best_params_))"
      ],
      "execution_count": 9,
      "outputs": [
        {
          "output_type": "stream",
          "text": [
            "Best: 0.960155 using {'scale_pos_weight': 1000}\n"
          ],
          "name": "stdout"
        }
      ]
    },
    {
      "cell_type": "code",
      "metadata": {
        "id": "Lc88imRTjMc9",
        "colab_type": "code",
        "colab": {
          "base_uri": "https://localhost:8080/",
          "height": 153
        },
        "outputId": "26ac3d7d-94b0-45fa-8ea9-c11ee5cdb9a1"
      },
      "source": [
        "# report all configurations\n",
        "means = grid_result.cv_results_['mean_test_score']\n",
        "stds = grid_result.cv_results_['std_test_score']\n",
        "params = grid_result.cv_results_['params']\n",
        "for mean, stdev, param in zip(means, stds, params):\n",
        "    print(\"%f (%f) with: %r\" % (mean, stdev, param))"
      ],
      "execution_count": 10,
      "outputs": [
        {
          "output_type": "stream",
          "text": [
            "0.953721 (0.035950) with: {'scale_pos_weight': 1}\n",
            "0.958254 (0.028362) with: {'scale_pos_weight': 10}\n",
            "0.957892 (0.027283) with: {'scale_pos_weight': 25}\n",
            "0.959157 (0.027430) with: {'scale_pos_weight': 50}\n",
            "0.959241 (0.028015) with: {'scale_pos_weight': 75}\n",
            "0.959305 (0.028286) with: {'scale_pos_weight': 99}\n",
            "0.959505 (0.028213) with: {'scale_pos_weight': 100}\n",
            "0.960155 (0.028721) with: {'scale_pos_weight': 1000}\n"
          ],
          "name": "stdout"
        }
      ]
    }
  ]
}