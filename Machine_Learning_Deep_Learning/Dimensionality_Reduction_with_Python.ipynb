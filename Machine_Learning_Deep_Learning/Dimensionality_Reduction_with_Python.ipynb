{
  "nbformat": 4,
  "nbformat_minor": 0,
  "metadata": {
    "colab": {
      "name": "Dimensionality Reduction with Python.ipynb",
      "provenance": [],
      "authorship_tag": "ABX9TyPRzxq5QNu0bX7+lcAcI3S3"
    },
    "kernelspec": {
      "name": "python3",
      "display_name": "Python 3"
    },
    "language_info": {
      "name": "python"
    }
  },
  "cells": [
    {
      "cell_type": "markdown",
      "metadata": {
        "id": "jXgzZ2BiJSsr"
      },
      "source": [
        "[Reference](https://towardsdatascience.com/dimensionality-reduction-with-python-d3fac4e57c71)"
      ]
    },
    {
      "cell_type": "code",
      "metadata": {
        "colab": {
          "base_uri": "https://localhost:8080/"
        },
        "id": "9W2BIu-DJRXa",
        "outputId": "373165f9-bb06-43d1-9d70-2e1683e5ba45"
      },
      "source": [
        "from sklearn.preprocessing import StandardScaler\n",
        "from sklearn.decomposition import PCA\n",
        "from sklearn import datasets\n",
        "\n",
        "digits = datasets.load_digits()\n",
        "features = StandardScaler().fit_transform(digits.data)\n",
        "pca = PCA(n_components=0.99, whiten=True)\n",
        "features_pca = pca.fit_transform(features)\n",
        "\n",
        "print(\"Original number of features:\", features.shape[1])\n",
        "print(\"Reduced number of features:\", features_pca.shape[1])"
      ],
      "execution_count": 1,
      "outputs": [
        {
          "output_type": "stream",
          "text": [
            "Original number of features: 64\n",
            "Reduced number of features: 54\n"
          ],
          "name": "stdout"
        }
      ]
    },
    {
      "cell_type": "code",
      "metadata": {
        "colab": {
          "base_uri": "https://localhost:8080/"
        },
        "id": "lw4IwhyiKsfx",
        "outputId": "fd886061-17bb-4ab2-beae-5d4793118b55"
      },
      "source": [
        "from sklearn.decomposition import PCA, KernelPCA\n",
        "from sklearn.datasets import make_circles\n",
        "\n",
        "features, _ = make_circles(n_samples=1000, random_state=1, noise=0.1, factor=0.1)\n",
        "kpca = KernelPCA(kernel=\"rbf\", gamma=15, n_components=1)\n",
        "features_kpca = kpca.fit_transform(features)\n",
        "\n",
        "print(\"Original number of features:\", features.shape[1])\n",
        "print(\"Reduced number of features:\", features_kpca.shape[1])"
      ],
      "execution_count": 2,
      "outputs": [
        {
          "output_type": "stream",
          "text": [
            "Original number of features: 2\n",
            "Reduced number of features: 1\n"
          ],
          "name": "stdout"
        }
      ]
    },
    {
      "cell_type": "code",
      "metadata": {
        "colab": {
          "base_uri": "https://localhost:8080/"
        },
        "id": "vd8drLABLkh2",
        "outputId": "3c0f82f5-9e5d-4cfb-f1d2-1b0c7a313e05"
      },
      "source": [
        "from sklearn.decomposition import NMF\n",
        "from sklearn import datasets\n",
        "# Load the data\n",
        "digits = datasets.load_digits()\n",
        "# Load feature matrix\n",
        "features = digits.data\n",
        "# Create, fit, and apply NMF\n",
        "nmf = NMF(n_components=10, random_state=1)\n",
        "features_nmf = nmf.fit_transform(features)\n",
        "# Show results\n",
        "print(\"Original number of features:\", features.shape[1])\n",
        "print(\"Reduced number of features:\", features_nmf.shape[1])"
      ],
      "execution_count": 3,
      "outputs": [
        {
          "output_type": "stream",
          "text": [
            "Original number of features: 64\n",
            "Reduced number of features: 10\n"
          ],
          "name": "stdout"
        }
      ]
    },
    {
      "cell_type": "code",
      "metadata": {
        "colab": {
          "base_uri": "https://localhost:8080/",
          "height": 142
        },
        "id": "CQGaD2BtLoUy",
        "outputId": "dc1f69bc-1299-4072-b241-5775fc342c44"
      },
      "source": [
        "import pandas as pd\n",
        "import numpy as np\n",
        "# Create feature matrix with two highly correlated features\n",
        "features = np.array([[1, 1, 1], [2, 2, 0], [3, 3, 1], [4, 4, 0], [5, 5, 1], [6, 6, 0], [7, 7, 1], [8, 7, 0], [9, 7, 1]])\n",
        "# Convert feature matrix into DataFrame\n",
        "dataframe = pd.DataFrame(features)\n",
        "# Create correlation matrix\n",
        "corr_matrix = dataframe.corr().abs()\n",
        "# Select upper triangle of correlation matrix\n",
        "upper = corr_matrix.where(np.triu(np.ones(corr_matrix.shape), k=1).astype(np.bool))\n",
        "# Find index of feature columns with correlation greater than 0.95\n",
        "to_drop = [column for column in upper.columns if any(upper[column] > 0.95)]\n",
        "# Drop features\n",
        "dataframe.drop(dataframe.columns[to_drop], axis=1).head(3)"
      ],
      "execution_count": 4,
      "outputs": [
        {
          "output_type": "execute_result",
          "data": {
            "text/html": [
              "<div>\n",
              "<style scoped>\n",
              "    .dataframe tbody tr th:only-of-type {\n",
              "        vertical-align: middle;\n",
              "    }\n",
              "\n",
              "    .dataframe tbody tr th {\n",
              "        vertical-align: top;\n",
              "    }\n",
              "\n",
              "    .dataframe thead th {\n",
              "        text-align: right;\n",
              "    }\n",
              "</style>\n",
              "<table border=\"1\" class=\"dataframe\">\n",
              "  <thead>\n",
              "    <tr style=\"text-align: right;\">\n",
              "      <th></th>\n",
              "      <th>0</th>\n",
              "      <th>2</th>\n",
              "    </tr>\n",
              "  </thead>\n",
              "  <tbody>\n",
              "    <tr>\n",
              "      <th>0</th>\n",
              "      <td>1</td>\n",
              "      <td>1</td>\n",
              "    </tr>\n",
              "    <tr>\n",
              "      <th>1</th>\n",
              "      <td>2</td>\n",
              "      <td>0</td>\n",
              "    </tr>\n",
              "    <tr>\n",
              "      <th>2</th>\n",
              "      <td>3</td>\n",
              "      <td>1</td>\n",
              "    </tr>\n",
              "  </tbody>\n",
              "</table>\n",
              "</div>"
            ],
            "text/plain": [
              "   0  2\n",
              "0  1  1\n",
              "1  2  0\n",
              "2  3  1"
            ]
          },
          "metadata": {
            "tags": []
          },
          "execution_count": 4
        }
      ]
    },
    {
      "cell_type": "code",
      "metadata": {
        "colab": {
          "base_uri": "https://localhost:8080/"
        },
        "id": "Ms-NamhuLrLN",
        "outputId": "dab3250b-4523-46c6-dd55-e79e3d06b037"
      },
      "source": [
        "from sklearn.datasets import load_iris\n",
        "from sklearn.feature_selection import SelectKBest\n",
        "from sklearn.feature_selection import chi2, f_classif\n",
        "# Load data\n",
        "iris = load_iris()\n",
        "features = iris.data\n",
        "target = iris.target\n",
        "# Convert to categorical data by converting data to integers\n",
        "features = features.astype(int)\n",
        "# Select two features with highest chi-squared statistics\n",
        "chi2_selector = SelectKBest(chi2, k=2)\n",
        "features_kbest = chi2_selector.fit_transform(features, target)\n",
        "# Show results\n",
        "print(\"Original number of features:\", features.shape[1])\n",
        "print(\"Reduced number of features:\", features_kbest.shape[1])"
      ],
      "execution_count": 5,
      "outputs": [
        {
          "output_type": "stream",
          "text": [
            "Original number of features: 4\n",
            "Reduced number of features: 2\n"
          ],
          "name": "stdout"
        }
      ]
    },
    {
      "cell_type": "code",
      "metadata": {
        "colab": {
          "base_uri": "https://localhost:8080/"
        },
        "id": "ySHx3IMaL0Ag",
        "outputId": "8c9efbb3-4979-4c29-db3d-1404536a36e4"
      },
      "source": [
        "import warnings\n",
        "from sklearn.datasets import make_regression\n",
        "from sklearn.feature_selection import RFECV\n",
        "from sklearn import datasets, linear_model\n",
        "\n",
        "# Generate features matrix, target vector, and the true coefficients\n",
        "features, target = make_regression(n_samples = 10000, n_features = 100, n_informative = 2, random_state = 1)\n",
        "lr = linear_model.LinearRegression()\n",
        "\n",
        "# Recursively eliminate features\n",
        "rfecv = RFECV(estimator=lr, step=1, scoring=\"neg_mean_squared_error\")\n",
        "rfecv.fit(features, target)\n",
        "rfecv.transform(features)"
      ],
      "execution_count": 6,
      "outputs": [
        {
          "output_type": "execute_result",
          "data": {
            "text/plain": [
              "array([[ 0.00850799,  0.7031277 ],\n",
              "       [-1.07500204,  2.56148527],\n",
              "       [ 1.37940721, -1.77039484],\n",
              "       ...,\n",
              "       [-0.80331656, -1.60648007],\n",
              "       [ 0.39508844, -1.34564911],\n",
              "       [-0.55383035,  0.82880112]])"
            ]
          },
          "metadata": {
            "tags": []
          },
          "execution_count": 6
        }
      ]
    }
  ]
}