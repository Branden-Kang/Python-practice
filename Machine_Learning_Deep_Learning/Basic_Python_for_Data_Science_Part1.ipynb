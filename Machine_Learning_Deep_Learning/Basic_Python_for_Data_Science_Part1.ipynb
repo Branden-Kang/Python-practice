{
  "nbformat": 4,
  "nbformat_minor": 0,
  "metadata": {
    "colab": {
      "name": "Basic Python for Data Science: Part1.ipynb",
      "provenance": [],
      "authorship_tag": "ABX9TyMWUOaBXBv1hgwJLVHiguGN"
    },
    "kernelspec": {
      "name": "python3",
      "display_name": "Python 3"
    }
  },
  "cells": [
    {
      "cell_type": "markdown",
      "metadata": {
        "id": "8aofhBWEiAdX"
      },
      "source": [
        "[Reference](https://medium.com/@sammylee_30865/minimal-python-required-for-data-science-part-i-b61e2baf56f9)"
      ]
    },
    {
      "cell_type": "code",
      "metadata": {
        "id": "SOBdVpDefzjx"
      },
      "source": [
        "# A loop\n",
        "\n",
        "some_list = [1, 2, 3, 4, 5, 6]\n",
        "\n",
        "list_a = []\n",
        "list_b = []\n",
        "for i in some_list:\n",
        "    if i <= 4:\n",
        "        list_a.append(i)\n",
        "    else:\n",
        "        list_b.append(i)"
      ],
      "execution_count": 2,
      "outputs": []
    },
    {
      "cell_type": "code",
      "metadata": {
        "id": "9WLWkWjgg-Xv",
        "outputId": "1a45eb7a-7c95-40dd-ce88-8aa09d530edf",
        "colab": {
          "base_uri": "https://localhost:8080/",
          "height": 51
        }
      },
      "source": [
        "a = 6\n",
        "print(type(a))\n",
        "\n",
        "b = \"I love Python\"\n",
        "print(type(b))"
      ],
      "execution_count": 4,
      "outputs": [
        {
          "output_type": "stream",
          "text": [
            "<class 'int'>\n",
            "<class 'str'>\n"
          ],
          "name": "stdout"
        }
      ]
    },
    {
      "cell_type": "code",
      "metadata": {
        "id": "DhUBUqKqhJMF",
        "outputId": "721d108b-1a57-4f50-a77c-0dec30a54679",
        "colab": {
          "base_uri": "https://localhost:8080/",
          "height": 34
        }
      },
      "source": [
        "def my_func(a, b):\n",
        "    c = a**2 + b**2\n",
        "    return c\n",
        "\n",
        "my_answer = my_func(2, 2)\n",
        "\n",
        "print(my_answer)"
      ],
      "execution_count": 5,
      "outputs": [
        {
          "output_type": "stream",
          "text": [
            "8\n"
          ],
          "name": "stdout"
        }
      ]
    },
    {
      "cell_type": "code",
      "metadata": {
        "id": "hrUG263mhR5l",
        "outputId": "305809fd-66b3-42ce-f246-d5cb575a2e95",
        "colab": {
          "base_uri": "https://localhost:8080/",
          "height": 34
        }
      },
      "source": [
        "some_list = [1, 2, 3, 4, 5, 6]\n",
        "some_list.append(7) \n",
        "print(some_list)"
      ],
      "execution_count": 6,
      "outputs": [
        {
          "output_type": "stream",
          "text": [
            "[1, 2, 3, 4, 5, 6, 7]\n"
          ],
          "name": "stdout"
        }
      ]
    },
    {
      "cell_type": "code",
      "metadata": {
        "id": "0VLZWMd7hdGm"
      },
      "source": [
        "def my_func(a, b, c=2):\n",
        "    if c is not None:\n",
        "        return a * b * c\n",
        "    else:\n",
        "        return a + b"
      ],
      "execution_count": 7,
      "outputs": []
    },
    {
      "cell_type": "code",
      "metadata": {
        "id": "-JWLozlshgPx",
        "outputId": "d1d8f715-de9f-4d91-eeb7-8950faca252c",
        "colab": {
          "base_uri": "https://localhost:8080/",
          "height": 34
        }
      },
      "source": [
        "my_func(2, 2)"
      ],
      "execution_count": 8,
      "outputs": [
        {
          "output_type": "execute_result",
          "data": {
            "text/plain": [
              "8"
            ]
          },
          "metadata": {
            "tags": []
          },
          "execution_count": 8
        }
      ]
    },
    {
      "cell_type": "code",
      "metadata": {
        "id": "afbTS2Dphgbf",
        "outputId": "cc2ac1f5-99b7-4d6a-e9e6-065d1ef9f841",
        "colab": {
          "base_uri": "https://localhost:8080/",
          "height": 34
        }
      },
      "source": [
        "my_func(2, 2, c=None)"
      ],
      "execution_count": 9,
      "outputs": [
        {
          "output_type": "execute_result",
          "data": {
            "text/plain": [
              "4"
            ]
          },
          "metadata": {
            "tags": []
          },
          "execution_count": 9
        }
      ]
    },
    {
      "cell_type": "code",
      "metadata": {
        "id": "JOgC_zuuhh6X"
      },
      "source": [
        "a = [\"dog\", \"cat\", \"snake\"]\n",
        "b = a"
      ],
      "execution_count": 10,
      "outputs": []
    },
    {
      "cell_type": "code",
      "metadata": {
        "id": "EPkEa8BohkCu",
        "outputId": "41fee841-e920-4880-b30b-ab4e20b25a77",
        "colab": {
          "base_uri": "https://localhost:8080/",
          "height": 34
        }
      },
      "source": [
        "b"
      ],
      "execution_count": 11,
      "outputs": [
        {
          "output_type": "execute_result",
          "data": {
            "text/plain": [
              "['dog', 'cat', 'snake']"
            ]
          },
          "metadata": {
            "tags": []
          },
          "execution_count": 11
        }
      ]
    },
    {
      "cell_type": "code",
      "metadata": {
        "id": "t17G_CzchkYp",
        "outputId": "39fa847c-71a7-46c8-e6bc-bf1005811621",
        "colab": {
          "base_uri": "https://localhost:8080/",
          "height": 34
        }
      },
      "source": [
        "a"
      ],
      "execution_count": 12,
      "outputs": [
        {
          "output_type": "execute_result",
          "data": {
            "text/plain": [
              "['dog', 'cat', 'snake']"
            ]
          },
          "metadata": {
            "tags": []
          },
          "execution_count": 12
        }
      ]
    },
    {
      "cell_type": "code",
      "metadata": {
        "id": "yGqwLXqChkiA"
      },
      "source": [
        "a = 'string'"
      ],
      "execution_count": 13,
      "outputs": []
    },
    {
      "cell_type": "code",
      "metadata": {
        "id": "16OYxCBkhnpi",
        "outputId": "a63d2397-3e3a-4b02-cb44-08f466143148",
        "colab": {
          "base_uri": "https://localhost:8080/",
          "height": 34
        }
      },
      "source": [
        "dir(a)[:5]"
      ],
      "execution_count": 14,
      "outputs": [
        {
          "output_type": "execute_result",
          "data": {
            "text/plain": [
              "['__add__', '__class__', '__contains__', '__delattr__', '__dir__']"
            ]
          },
          "metadata": {
            "tags": []
          },
          "execution_count": 14
        }
      ]
    },
    {
      "cell_type": "code",
      "metadata": {
        "id": "yqQrwTw2hoKg",
        "outputId": "6ae4e34d-67f2-4917-8300-75e032adea56",
        "colab": {
          "base_uri": "https://localhost:8080/",
          "height": 34
        }
      },
      "source": [
        "getattr(a, '__class__')"
      ],
      "execution_count": 15,
      "outputs": [
        {
          "output_type": "execute_result",
          "data": {
            "text/plain": [
              "str"
            ]
          },
          "metadata": {
            "tags": []
          },
          "execution_count": 15
        }
      ]
    }
  ]
}