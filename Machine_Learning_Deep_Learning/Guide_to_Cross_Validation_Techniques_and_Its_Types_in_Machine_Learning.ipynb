{
  "nbformat": 4,
  "nbformat_minor": 0,
  "metadata": {
    "colab": {
      "provenance": [],
      "authorship_tag": "ABX9TyNZ1OHqDHiGkNqfeCJu/8m6"
    },
    "kernelspec": {
      "name": "python3",
      "display_name": "Python 3"
    },
    "language_info": {
      "name": "python"
    }
  },
  "cells": [
    {
      "cell_type": "markdown",
      "source": [
        "[Reference](https://heartbeat.comet.ml/guide-to-cross-validation-techniques-and-its-types-in-machine-learning-10c1dc0f7a09)"
      ],
      "metadata": {
        "id": "GaVwOdMB2HqB"
      }
    },
    {
      "cell_type": "markdown",
      "source": [
        "# Hold-out cross-validation"
      ],
      "metadata": {
        "id": "9EXP950G2U6B"
      }
    },
    {
      "cell_type": "code",
      "execution_count": 1,
      "metadata": {
        "id": "yyFQdP-72F4U"
      },
      "outputs": [],
      "source": [
        "from sklearn.datasets import load_iris\n",
        "from sklearn.model_selection import train_test_split\n",
        "from sklearn.linear_model import LogisticRegression\n",
        "iris=load_iris()\n",
        "X = iris.data\n",
        "y = iris.target\n",
        "\n",
        "LR = LogisticRegression()\n",
        "x_train,x_test,y_train,y_test = train_test_split(X,\n",
        "                                                 y,\n",
        "                                                 test_size= 0.25,\n",
        "                                                 random_state= 41)\n",
        "LR.fit(x_train,y_train)\n",
        "predict = LR.predict(x_test)"
      ]
    },
    {
      "cell_type": "markdown",
      "source": [
        "# Leave P out cross-validation"
      ],
      "metadata": {
        "id": "qy0J3KYB2WdQ"
      }
    },
    {
      "cell_type": "code",
      "source": [
        "from sklearn.model_selection import LeavePOut,cross_val_score\n",
        "from sklearn.datasets import load_iris\n",
        "from sklearn.ensemble import RandomForestClassifier\n",
        "data = load_iris()\n",
        "X = data.data\n",
        "y = data.target\n",
        "lpo = LeavePOut(p=20)\n",
        "lpo.get_n_splits(X)\n",
        "tree = RandomForestClassifier(n_estimators=10,\n",
        "                              max_depth=5,\n",
        "                              n_jobs=-1)\n",
        "score = cross_val_score(tree, X, y, cv=lpo)\n",
        "print(\"Cross Validation scores are {}\".format(score))\n",
        "print(\"Average Cross Validation score :{}\".format(score.mean()))"
      ],
      "metadata": {
        "id": "p6STUPYL2Pfv"
      },
      "execution_count": null,
      "outputs": []
    },
    {
      "cell_type": "markdown",
      "source": [
        "# K-fold cross-validation"
      ],
      "metadata": {
        "id": "S8VflBMM2m48"
      }
    },
    {
      "cell_type": "code",
      "source": [
        "from sklearn.datasets import load_iris\n",
        "from sklearn.model_selection import cross_val_score, KFold\n",
        "from sklearn.linear_model import LogisticRegression\n",
        "iris = load_iris()\n",
        "X = iris.data\n",
        "y = iris.target\n",
        "LR = LogisticRegression(solver='lbfgs', max_iter=1000)\n",
        "kf = KFold(n_splits=5)\n",
        "score = cross_val_score(LR, X, y, cv=kf)\n",
        "print(\"Cross Validation Scores{}\".format(score))\n",
        "print(\"Average Cross Validation score :{}\".format(score.mean()))"
      ],
      "metadata": {
        "id": "JrZlRZ6m2lcN"
      },
      "execution_count": null,
      "outputs": []
    },
    {
      "cell_type": "markdown",
      "source": [
        "# Stratified k-fold cross-validation"
      ],
      "metadata": {
        "id": "yv5o0hhK24uM"
      }
    },
    {
      "cell_type": "code",
      "source": [
        "from sklearn.datasets import load_iris\n",
        "from sklearn.model_selection import train_test_split\n",
        "from sklearn.linear_model import LogisticRegression\n",
        "from sklearn.model_selection import StratifiedKFold\n",
        "from sklearn.metrics import accuracy_score\n",
        "iris = load_iris()\n",
        "X = iris.data\n",
        "y = iris.target\n",
        "lr = LogisticRegression()\n",
        "skf = StratifiedKFold(n_splits = 3)\n",
        "score = cross_val_score(LR, X, y, cv=skf)\n",
        "print(score)"
      ],
      "metadata": {
        "id": "Xepji0tA3IVx"
      },
      "execution_count": null,
      "outputs": []
    }
  ]
}
