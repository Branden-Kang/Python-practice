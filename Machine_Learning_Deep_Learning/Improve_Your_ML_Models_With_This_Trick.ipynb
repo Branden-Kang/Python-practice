{
  "nbformat": 4,
  "nbformat_minor": 0,
  "metadata": {
    "colab": {
      "provenance": [],
      "authorship_tag": "ABX9TyPte6R9IIXbY6F0rXQm/1lG"
    },
    "kernelspec": {
      "name": "python3",
      "display_name": "Python 3"
    },
    "language_info": {
      "name": "python"
    }
  },
  "cells": [
    {
      "cell_type": "markdown",
      "source": [
        "[Reference](https://becominghuman.ai/improve-your-ml-models-with-this-trick-27f006ef94f5)"
      ],
      "metadata": {
        "id": "BaxnbKsRzmsf"
      }
    },
    {
      "cell_type": "code",
      "execution_count": 1,
      "metadata": {
        "id": "PJmOo8CGzllH"
      },
      "outputs": [],
      "source": [
        "import pandas as pd\n",
        "import numpy as np\n",
        "import warnings"
      ]
    },
    {
      "cell_type": "code",
      "source": [
        "year = [1,5,7,9,12,15,18,20,25,30]\n",
        "\n",
        "sales = [100,1000,5000,12000,25000,32000,45000,60000,100000,150000]\n",
        "\n",
        "df = pd.DataFrame({'Year':year,'Sales':sales})"
      ],
      "metadata": {
        "id": "Ekz7HYALzpBz"
      },
      "execution_count": 2,
      "outputs": []
    },
    {
      "cell_type": "code",
      "source": [
        "df_log = df.copy()\n",
        "\n",
        "df_log['Year'] = df_log.Year.apply(np.log)\n",
        "df_log['Sales'] = df_log.Sales.apply(np.log)"
      ],
      "metadata": {
        "id": "8J_NsaFYzqFd"
      },
      "execution_count": 3,
      "outputs": []
    },
    {
      "cell_type": "code",
      "source": [
        "from sklearn.linear_model import LinearRegression\n",
        "\n",
        "X = np.array(df_log.Year)\n",
        "X = X.reshape(-1,1)\n",
        "\n",
        "y = df_log.Sales\n",
        "\n",
        "lm = LinearRegression()\n",
        "\n",
        "lm.fit(X,y)"
      ],
      "metadata": {
        "colab": {
          "base_uri": "https://localhost:8080/"
        },
        "id": "Qw6IX3XAzq73",
        "outputId": "013c037f-b2cb-4ed8-be5b-3cb8d5b6bca4"
      },
      "execution_count": 4,
      "outputs": [
        {
          "output_type": "execute_result",
          "data": {
            "text/plain": [
              "LinearRegression()"
            ]
          },
          "metadata": {},
          "execution_count": 4
        }
      ]
    },
    {
      "cell_type": "code",
      "source": [
        "pred = lm.predict(X)\n",
        "pred = np.exp(pred)\n",
        "\n",
        "df['Predictions'] = pred"
      ],
      "metadata": {
        "id": "4yayFxFFzslL"
      },
      "execution_count": 5,
      "outputs": []
    }
  ]
}
