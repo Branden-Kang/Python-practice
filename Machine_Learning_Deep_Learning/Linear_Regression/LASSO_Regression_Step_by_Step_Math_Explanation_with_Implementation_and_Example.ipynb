{
  "nbformat": 4,
  "nbformat_minor": 0,
  "metadata": {
    "colab": {
      "provenance": [],
      "authorship_tag": "ABX9TyNG5nPI6WVVPFpolkzo2B3d"
    },
    "kernelspec": {
      "name": "python3",
      "display_name": "Python 3"
    },
    "language_info": {
      "name": "python"
    }
  },
  "cells": [
    {
      "cell_type": "markdown",
      "source": [
        "[Reference](https://medium.com/@msoczi/lasso-regression-step-by-step-math-explanation-with-implementation-and-example-c37df7a7dc1f)"
      ],
      "metadata": {
        "id": "uClBQHg6J4HF"
      }
    },
    {
      "cell_type": "code",
      "execution_count": 1,
      "metadata": {
        "colab": {
          "base_uri": "https://localhost:8080/"
        },
        "id": "xtlv5SLdJzgy",
        "outputId": "0f27608f-a35e-41d7-8239-a227f13d261e"
      },
      "outputs": [
        {
          "output_type": "stream",
          "name": "stdout",
          "text": [
            "Estimated beta: [ 0.31148497  0.         -0.1478612   0.          0.3462428 ]\n"
          ]
        }
      ],
      "source": [
        "import numpy as np\n",
        "\n",
        "def soft_threshold(rho, lamda):\n",
        "    if rho < - lamda:\n",
        "        return (rho + lamda)\n",
        "    elif rho >  lamda:\n",
        "        return (rho - lamda)\n",
        "    else:\n",
        "        return 0\n",
        "\n",
        "def coordinate_descent_lasso(X, y, lamda, max_iter=1000):\n",
        "    n_features = X.shape[1] # number od predictors in our dataset\n",
        "    beta = np.random.uniform(-1,1,n_features) # initialize random parameters\n",
        "    for iteration in range(max_iter):\n",
        "        for j in range(n_features):\n",
        "            X_j = X[:,j]\n",
        "            r_j = (X_j * (y - np.dot(X, beta) + beta[j] * X_j)).sum()\n",
        "            beta[j] = soft_threshold(r_j, lamda) / (X_j ** 2).sum()\n",
        "    return beta\n",
        "\n",
        "# Example usage:\n",
        "# Generate some random data\n",
        "X = np.array([[0.8,1.2,0.5,-0.7,1.0],\n",
        "[1.0,0.8,-0.4,0.5,-1.2],\n",
        "[-0.5,0.3,1.2,0.9,-0.1],\n",
        "[0.2,-0.9,-0.7,1.1,0.5]])\n",
        "# scale\n",
        "X = (X-X.mean(axis=0))/X.std(axis=0)\n",
        "y = np.array([3.2, 2.5, 1.8, 2.9])\n",
        "# Set regularization parameter\n",
        "LAMBDA = 0.1\n",
        "# Run coordinate descent\n",
        "beta_lasso = coordinate_descent_lasso(X, y, lamda=LAMBDA, max_iter=1000)\n",
        "print(\"Estimated beta:\", beta_lasso)"
      ]
    }
  ]
}
