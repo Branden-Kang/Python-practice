{
  "nbformat": 4,
  "nbformat_minor": 0,
  "metadata": {
    "colab": {
      "provenance": [],
      "authorship_tag": "ABX9TyMmxIzAlF8/kSqS+KAnWOC2"
    },
    "kernelspec": {
      "name": "python3",
      "display_name": "Python 3"
    },
    "language_info": {
      "name": "python"
    }
  },
  "cells": [
    {
      "cell_type": "markdown",
      "source": [
        "[Reference](https://towardsdatascience.com/shared-nearest-neighbors-a-more-robust-distance-metric-064d7f99ffb7)"
      ],
      "metadata": {
        "id": "53TiTMOrjSnK"
      }
    },
    {
      "cell_type": "code",
      "execution_count": 5,
      "metadata": {
        "id": "u5oyfpeJjMCI"
      },
      "outputs": [],
      "source": [
        "import pandas as pd\n",
        "import numpy as np\n",
        "import seaborn as sns\n",
        "import matplotlib.pyplot as plt\n",
        "from sklearn.neighbors import BallTree\n",
        "import statistics\n",
        "\n",
        "from sklearn import datasets\n",
        "\n",
        "class KNN:\n",
        "    def __init__(self, metric='euclidian'):\n",
        "        self.metric = metric\n",
        "\n",
        "    def fit_predict(self, data, k):\n",
        "        data = pd.DataFrame(data)\n",
        "        balltree = BallTree(data, metric=self.metric)\n",
        "\n",
        "        # Get the distances to the k nearest neighbors for each record\n",
        "        knn = balltree.query(data, k=k)[0]\n",
        "\n",
        "        # Get the mean distance to the k nearest neighbors for each record\n",
        "        scores = [statistics.mean(x[:k]) for x in knn]\n",
        "        return scores"
      ]
    },
    {
      "cell_type": "code",
      "source": [
        "class SNN:\n",
        "    def __init__(self, metric='euclidian'):\n",
        "        self.metric = metric\n",
        "\n",
        "    def get_pairwise_distances(self, data, k):\n",
        "        data = pd.DataFrame(data)\n",
        "        balltree = BallTree(data, metric=self.metric)\n",
        "        knn = balltree.query(data, k=k+1)[1]\n",
        "        pairwise_distances = np.zeros((len(data), len(data)))\n",
        "        for i in range(len(data)):\n",
        "            for j in range(i+1, len(data)):\n",
        "                if (j in knn[i]) and (i in knn[j]):\n",
        "                    weight = len(set(knn[i]).intersection(set(knn[j])))\n",
        "                    pairwise_distances[i][j] = weight\n",
        "                    pairwise_distances[j][i] = weight\n",
        "        return pairwise_distances\n",
        "\n",
        "    def fit_predict(self, data, k):\n",
        "        data = pd.DataFrame(data)\n",
        "        pairwise_distances = self.get_pairwise_distances(data, k)\n",
        "        scores = [statistics.mean(sorted(x, reverse=True)[:k]) for x in pairwise_distances]\n",
        "        min_score = min(scores)\n",
        "        max_score = max(scores)\n",
        "        scores = [min_score + (max_score - x) for x in scores]\n",
        "        return scores"
      ],
      "metadata": {
        "id": "DLvfEiKTjbWU"
      },
      "execution_count": 6,
      "outputs": []
    },
    {
      "cell_type": "code",
      "source": [
        "def test_variable_blobs(nrows=1000, ncols=500, nclusters=60, outlier_multiplier=2.0, k=30, metric='manhattan'):\n",
        "    np.random.seed(1)\n",
        "\n",
        "    # ########################################################\n",
        "    # Create the test data\n",
        "\n",
        "    # Set the size of each cluster\n",
        "    n_samples_arr = []\n",
        "    remaining_count = nrows\n",
        "    for i in range(nclusters-1):\n",
        "        cluster_size = np.random.randint(1, remaining_count // (nclusters - i))\n",
        "        n_samples_arr.append(cluster_size)\n",
        "        remaining_count -= cluster_size\n",
        "    n_samples_arr.append(remaining_count)\n",
        "\n",
        "    # Set the density of each cluster\n",
        "    cluster_std_arr = []\n",
        "    for i in range(nclusters):\n",
        "        cluster_std_arr.append(np.random.uniform(low=0.1, high=2.0))\n",
        "\n",
        "    # Set the center location of each cluster\n",
        "    cluster_centers_arr = []\n",
        "    for i in range(nclusters):\n",
        "        cluster_centers_arr.append(np.random.uniform(low=0.0, high=10.0, size=ncols))\n",
        "\n",
        "    # Create the sample data using the specified cluster sizes, densities, and locations\n",
        "    x, y = datasets.make_blobs(n_samples=n_samples_arr,\n",
        "                      cluster_std=cluster_std_arr,\n",
        "                      centers=cluster_centers_arr,\n",
        "                      n_features=ncols,\n",
        "                      random_state=0)\n",
        "    df = pd.DataFrame(x)\n",
        "\n",
        "    # Add a single known outlier to the data\n",
        "    avg_row = [x[:, i].mean() for i in range(ncols)]\n",
        "    outlier_row = avg_row.copy()\n",
        "    outlier_row[0] = x[:, 0].max() * outlier_multiplier\n",
        "    df = pd.concat([df, pd.DataFrame([outlier_row])])\n",
        "    df = df.reset_index(drop=True)\n",
        "\n",
        "    # ########################################################\n",
        "    # Compare standard distance metrics to SNN\n",
        "\n",
        "    # Calculate the outlier scores using standard KNN\n",
        "    scored_df = df.copy()\n",
        "    knn = KNN(metric=metric)\n",
        "    scored_df['knn_scores'] = knn.fit_predict(df, k=k)\n",
        "\n",
        "    # Calculate the outlier scores using SNN\n",
        "    snn = SNN(metric=metric)\n",
        "    scored_df['snn_scores'] = snn.fit_predict(df, k=k)\n",
        "\n",
        "    # Plot the distribution of scores for both detectors and show\n",
        "    # the score for the known outlier (in context of the range of\n",
        "    # scores assigned to the full dataset)\n",
        "    fig, ax = plt.subplots(nrows=1, ncols=2, figsize=(12, 4))\n",
        "    sns.histplot(scored_df['knn_scores'], ax=ax[0])\n",
        "    ax[0].axvline(scored_df.loc[nrows, 'knn_scores'], color='red')\n",
        "    sns.histplot(scored_df['snn_scores'], ax=ax[1])\n",
        "    ax[1].axvline(scored_df.loc[nrows, 'snn_scores'], color='red')\n",
        "    plt.suptitle(f\"Number of columns: {ncols}\")\n",
        "    plt.tight_layout()\n",
        "    plt.show()\n",
        "\n",
        "    return df"
      ],
      "metadata": {
        "id": "REoGJedijbnM"
      },
      "execution_count": 11,
      "outputs": []
    },
    {
      "cell_type": "code",
      "source": [
        "df = test_variable_blobs(nrows=1000, ncols=3000, nclusters=20, k=30)"
      ],
      "metadata": {
        "colab": {
          "base_uri": "https://localhost:8080/",
          "height": 413
        },
        "id": "7_hiNhZMjeOm",
        "outputId": "18fcf16f-cdbd-400f-8d2f-adf5f1e26365"
      },
      "execution_count": 12,
      "outputs": [
        {
          "output_type": "display_data",
          "data": {
            "text/plain": [
              "<Figure size 1200x400 with 2 Axes>"
            ],
            "image/png": "[encoded data removed]"
          },
          "metadata": {}
        }
      ]
    },
    {
      "cell_type": "code",
      "source": [
        "from sklearn.cluster import DBSCAN\n",
        "\n",
        "clustering = DBSCAN(eps=20, min_samples=2).fit(df.values)\n",
        "print(clustering.labels_)\n",
        "print(pd.Series(clustering.labels_).value_counts())"
      ],
      "metadata": {
        "colab": {
          "base_uri": "https://localhost:8080/"
        },
        "id": "5cKEcH_Dj9_B",
        "outputId": "7608f6b6-8473-44fb-af80-75876676aa48"
      },
      "execution_count": 13,
      "outputs": [
        {
          "output_type": "stream",
          "name": "stdout",
          "text": [
            "[ 0 -1 -1 ... -1 -1 -1]\n",
            "-1    928\n",
            " 0     66\n",
            " 1      7\n",
            "Name: count, dtype: int64\n"
          ]
        }
      ]
    },
    {
      "cell_type": "code",
      "source": [
        "snn = SNN(metric='manhattan')\n",
        "pairwise_dists = snn.get_pairwise_distances(df, k=100)\n",
        "print(pairwise_dists)"
      ],
      "metadata": {
        "colab": {
          "base_uri": "https://localhost:8080/"
        },
        "id": "LT3MaP3AkFjQ",
        "outputId": "4f1a5e80-20b6-470a-9f66-cd8ba1fd8f28"
      },
      "execution_count": 14,
      "outputs": [
        {
          "output_type": "stream",
          "name": "stdout",
          "text": [
            "[[0. 0. 0. ... 0. 0. 0.]\n",
            " [0. 0. 0. ... 0. 0. 0.]\n",
            " [0. 0. 0. ... 0. 0. 0.]\n",
            " ...\n",
            " [0. 0. 0. ... 0. 0. 0.]\n",
            " [0. 0. 0. ... 0. 0. 0.]\n",
            " [0. 0. 0. ... 0. 0. 0.]]\n"
          ]
        }
      ]
    },
    {
      "cell_type": "code",
      "source": [
        "d = pd.DataFrame(pairwise_dists).apply(lambda x: 1000-x)\n",
        "clustering = DBSCAN(eps=975, min_samples=2, metric='precomputed').fit(d.values)\n",
        "print(clustering.labels_)\n",
        "display(pd.Series(clustering.labels_).value_counts())"
      ],
      "metadata": {
        "colab": {
          "base_uri": "https://localhost:8080/",
          "height": 534
        },
        "id": "wOrhOvzKkfcV",
        "outputId": "a2b2d4a0-6f80-4781-a90f-50adc543e43d"
      },
      "execution_count": 15,
      "outputs": [
        {
          "output_type": "stream",
          "name": "stdout",
          "text": [
            "[ 0  1  2 ...  4  3 -1]\n"
          ]
        },
        {
          "output_type": "display_data",
          "data": {
            "text/plain": [
              " 5     182\n",
              " 3     145\n",
              " 2     143\n",
              " 6     140\n",
              " 9     102\n",
              " 1      77\n",
              " 0      72\n",
              " 10     51\n",
              " 7      38\n",
              " 8      17\n",
              " 4      13\n",
              " 12     12\n",
              " 11      6\n",
              "-1       3\n",
              "Name: count, dtype: int64"
            ],
            "text/html": [
              "<div>\n",
              "<style scoped>\n",
              "    .dataframe tbody tr th:only-of-type {\n",
              "        vertical-align: middle;\n",
              "    }\n",
              "\n",
              "    .dataframe tbody tr th {\n",
              "        vertical-align: top;\n",
              "    }\n",
              "\n",
              "    .dataframe thead th {\n",
              "        text-align: right;\n",
              "    }\n",
              "</style>\n",
              "<table border=\"1\" class=\"dataframe\">\n",
              "  <thead>\n",
              "    <tr style=\"text-align: right;\">\n",
              "      <th></th>\n",
              "      <th>count</th>\n",
              "    </tr>\n",
              "  </thead>\n",
              "  <tbody>\n",
              "    <tr>\n",
              "      <th>5</th>\n",
              "      <td>182</td>\n",
              "    </tr>\n",
              "    <tr>\n",
              "      <th>3</th>\n",
              "      <td>145</td>\n",
              "    </tr>\n",
              "    <tr>\n",
              "      <th>2</th>\n",
              "      <td>143</td>\n",
              "    </tr>\n",
              "    <tr>\n",
              "      <th>6</th>\n",
              "      <td>140</td>\n",
              "    </tr>\n",
              "    <tr>\n",
              "      <th>9</th>\n",
              "      <td>102</td>\n",
              "    </tr>\n",
              "    <tr>\n",
              "      <th>1</th>\n",
              "      <td>77</td>\n",
              "    </tr>\n",
              "    <tr>\n",
              "      <th>0</th>\n",
              "      <td>72</td>\n",
              "    </tr>\n",
              "    <tr>\n",
              "      <th>10</th>\n",
              "      <td>51</td>\n",
              "    </tr>\n",
              "    <tr>\n",
              "      <th>7</th>\n",
              "      <td>38</td>\n",
              "    </tr>\n",
              "    <tr>\n",
              "      <th>8</th>\n",
              "      <td>17</td>\n",
              "    </tr>\n",
              "    <tr>\n",
              "      <th>4</th>\n",
              "      <td>13</td>\n",
              "    </tr>\n",
              "    <tr>\n",
              "      <th>12</th>\n",
              "      <td>12</td>\n",
              "    </tr>\n",
              "    <tr>\n",
              "      <th>11</th>\n",
              "      <td>6</td>\n",
              "    </tr>\n",
              "    <tr>\n",
              "      <th>-1</th>\n",
              "      <td>3</td>\n",
              "    </tr>\n",
              "  </tbody>\n",
              "</table>\n",
              "</div><br><label><b>dtype:</b> int64</label>"
            ]
          },
          "metadata": {}
        }
      ]
    }
  ]
}
