{
  "nbformat": 4,
  "nbformat_minor": 0,
  "metadata": {
    "colab": {
      "name": "K-Means and K-Modes Clustering Algorithm.ipynb",
      "provenance": [],
      "authorship_tag": "ABX9TyP18vmQMAkJPz3X+p3c/Vc7"
    },
    "kernelspec": {
      "name": "python3",
      "display_name": "Python 3"
    },
    "language_info": {
      "name": "python"
    }
  },
  "cells": [
    {
      "cell_type": "markdown",
      "metadata": {
        "id": "ZGQ2YdltRDo-"
      },
      "source": [
        "[Reference](https://ai.plainenglish.io/k-means-and-k-modes-clustering-algorithm-4ff51395fa8d)"
      ]
    },
    {
      "cell_type": "code",
      "metadata": {
        "colab": {
          "base_uri": "https://localhost:8080/"
        },
        "id": "Yp7OdSr3Q8j1",
        "outputId": "8c1b7abc-285d-4fac-d0e7-75d5a06ee3a8"
      },
      "source": [
        "pip install kmodes"
      ],
      "execution_count": 2,
      "outputs": [
        {
          "output_type": "stream",
          "text": [
            "Collecting kmodes\n",
            "  Downloading https://files.pythonhosted.org/packages/9b/34/fffc601aa4d44b94e945a7cc72f477e09dffa7dce888898f2ffd9f4e343e/kmodes-0.11.0-py2.py3-none-any.whl\n",
            "Requirement already satisfied: joblib>=0.11 in /usr/local/lib/python3.7/dist-packages (from kmodes) (1.0.1)\n",
            "Requirement already satisfied: numpy>=1.10.4 in /usr/local/lib/python3.7/dist-packages (from kmodes) (1.19.5)\n",
            "Requirement already satisfied: scikit-learn>=0.22.0 in /usr/local/lib/python3.7/dist-packages (from kmodes) (0.22.2.post1)\n",
            "Requirement already satisfied: scipy>=0.13.3 in /usr/local/lib/python3.7/dist-packages (from kmodes) (1.4.1)\n",
            "Installing collected packages: kmodes\n",
            "Successfully installed kmodes-0.11.0\n"
          ],
          "name": "stdout"
        }
      ]
    },
    {
      "cell_type": "code",
      "metadata": {
        "colab": {
          "base_uri": "https://localhost:8080/"
        },
        "id": "nT3XWjxuPef0",
        "outputId": "7d065693-4cef-4aaa-cb2a-abb645598047"
      },
      "source": [
        "import numpy as np\n",
        "from kmodes.kmodes import KModes\n",
        "\n",
        "# random categorical data\n",
        "data = np.random.choice(20, (100, 10))\n",
        "data"
      ],
      "execution_count": 3,
      "outputs": [
        {
          "output_type": "execute_result",
          "data": {
            "text/plain": [
              "array([[12, 18, 13,  6, 10, 15, 18, 11, 12, 11],\n",
              "       [ 7, 15, 13,  5, 15,  8,  4,  7,  2, 19],\n",
              "       [ 9,  1,  6,  0,  5,  7, 18, 11,  4,  0],\n",
              "       [ 9,  3,  0, 16,  2,  1,  8, 19,  4,  7],\n",
              "       [ 4,  8, 19,  9, 19,  5,  7,  1,  4, 15],\n",
              "       [10, 19, 12, 19, 12,  8, 18,  5, 19, 18],\n",
              "       [12,  1, 10, 14,  2,  7,  9, 19,  6, 17],\n",
              "       [ 5,  6, 17,  7, 16, 14, 14,  7,  6,  5],\n",
              "       [ 4,  9, 17, 15,  5, 10, 12, 17,  8,  9],\n",
              "       [ 7,  2,  3, 14, 10, 18, 16, 12, 13,  0],\n",
              "       [15,  6,  8,  4, 13, 10, 11, 14,  9, 10],\n",
              "       [17, 16, 16, 17,  0, 18,  3, 14, 18,  0],\n",
              "       [ 0,  1,  5,  1, 19,  3,  7, 13, 12, 12],\n",
              "       [15,  1, 19, 10, 17, 15, 15, 12, 16,  3],\n",
              "       [17,  6,  8,  3, 18, 19,  9,  0, 12,  8],\n",
              "       [ 6, 15,  1, 13,  9, 11,  9,  7,  3,  2],\n",
              "       [ 1,  0,  3,  2,  3, 13, 15,  7,  5,  6],\n",
              "       [14,  8, 10,  8, 14, 18, 13, 15,  6,  2],\n",
              "       [17, 12,  5,  8, 12,  5, 18,  8, 16, 19],\n",
              "       [ 4, 12,  5,  5, 16, 19,  2,  7,  5,  0],\n",
              "       [ 5, 11, 13, 12,  7, 12,  8,  9,  3, 18],\n",
              "       [11,  8, 12,  5,  4,  7,  4, 19, 19, 18],\n",
              "       [12, 11, 15, 16,  7, 19, 18,  1,  8, 15],\n",
              "       [ 7, 18,  1,  8, 13,  6,  9,  0,  8, 15],\n",
              "       [15, 10, 19,  6,  3, 15,  8,  5,  6,  2],\n",
              "       [ 7,  6,  3, 18, 14, 18, 10, 17,  4, 11],\n",
              "       [12,  8, 19,  1,  9, 11, 15,  1,  5, 11],\n",
              "       [ 7,  3,  1, 13, 19, 13, 18, 10, 15, 18],\n",
              "       [18, 14, 10,  0,  7, 13,  2,  9,  1,  3],\n",
              "       [ 6, 16,  4,  5, 12, 18, 18,  2,  7,  4],\n",
              "       [ 4,  5, 10, 19,  8, 15, 18,  5,  6,  8],\n",
              "       [ 5,  8,  4, 10, 18,  3, 17, 11,  3,  5],\n",
              "       [ 5, 16,  7, 14,  7, 14, 17,  2,  9, 12],\n",
              "       [12, 15, 17,  3, 14, 15, 12, 15, 14, 17],\n",
              "       [ 1, 12,  8, 16,  9,  5,  6, 17,  0, 19],\n",
              "       [ 3, 12, 19, 16, 18, 17, 13,  3, 17,  1],\n",
              "       [12,  2,  1, 17, 14, 13,  8, 17, 18, 18],\n",
              "       [18, 17,  4, 19, 11,  8,  0,  1, 16,  8],\n",
              "       [19, 12,  5, 15, 17,  2, 15, 10,  7,  3],\n",
              "       [13, 16,  4, 17,  0, 18,  4, 12,  3,  8],\n",
              "       [ 7,  3, 16, 19, 14,  4,  9,  5,  9,  4],\n",
              "       [16,  9,  5,  6,  7,  0,  4,  0,  7, 14],\n",
              "       [ 6, 15,  9, 10, 18,  8,  2,  5,  3,  2],\n",
              "       [ 3,  4,  5,  8,  8,  4,  8,  4,  0,  8],\n",
              "       [18, 14,  1,  7,  3, 17, 19,  5,  7, 18],\n",
              "       [12, 19, 16,  3,  0,  8, 12, 16, 11, 18],\n",
              "       [11,  4, 16,  7,  2, 10,  1,  9, 17,  2],\n",
              "       [19,  1,  1,  6, 14, 10, 11, 17,  2,  0],\n",
              "       [ 2, 14, 17,  3,  4, 15, 17, 10, 11,  2],\n",
              "       [ 0,  4, 13,  9, 15, 10, 19,  7, 19,  5],\n",
              "       [ 4, 14,  7,  9, 10,  1, 12,  8, 15,  2],\n",
              "       [17,  5,  4, 14, 19,  7, 19, 16, 12, 10],\n",
              "       [11, 12,  7, 12,  2, 15, 15,  5, 13,  1],\n",
              "       [ 8, 13, 17,  2,  3, 16,  0,  6, 12, 14],\n",
              "       [ 1,  3,  1,  8,  3,  3,  1, 11, 15, 16],\n",
              "       [ 6,  3,  7,  5,  7, 14, 17,  0, 15, 14],\n",
              "       [14,  7,  7, 13, 16, 10, 14, 15,  7,  0],\n",
              "       [16,  6, 14, 10, 12,  0, 19, 11, 18,  0],\n",
              "       [ 4, 17,  4,  5, 12, 10, 13, 19, 12, 16],\n",
              "       [17, 19,  9, 18,  8, 14,  4,  6,  7,  6],\n",
              "       [ 0, 17,  9, 18, 10, 12,  7, 10, 16, 14],\n",
              "       [ 4, 10,  9, 15,  7,  4, 18,  6,  0,  7],\n",
              "       [14,  2,  8,  1, 19, 18,  4,  2,  5,  9],\n",
              "       [15,  7,  4, 15, 18, 10,  3,  4, 16,  0],\n",
              "       [ 5,  1, 15, 11,  7,  1, 16,  7,  6,  4],\n",
              "       [ 8, 10, 18,  3, 14,  1,  2, 10, 16,  4],\n",
              "       [ 8, 10, 16,  2, 16, 18, 17,  0, 17, 10],\n",
              "       [ 3, 14,  9, 10, 14,  1, 12,  8,  4,  7],\n",
              "       [13,  0,  9,  1,  4, 18,  4, 18,  4, 16],\n",
              "       [ 6, 12,  8,  7, 14,  9,  2,  1,  5,  7],\n",
              "       [ 8, 17,  7, 19,  4,  8,  1, 14, 11,  6],\n",
              "       [19, 12,  6, 10,  2, 10,  3,  8, 10, 13],\n",
              "       [ 6,  4, 13, 18,  6,  4, 16, 12, 10,  4],\n",
              "       [18,  5,  2, 16, 16, 18, 15, 19, 12,  1],\n",
              "       [12, 11, 11, 10,  8,  2, 10,  4,  1, 12],\n",
              "       [13, 14, 13, 12,  1,  6,  1,  0, 15,  3],\n",
              "       [ 3,  2, 18,  1, 10,  1, 18, 13,  0, 13],\n",
              "       [14, 16, 10, 11, 18, 16, 18,  1,  8, 10],\n",
              "       [11, 10, 12, 13, 13, 11,  5,  9, 13, 13],\n",
              "       [ 1,  6, 18,  9, 12,  8, 11,  4, 17,  1],\n",
              "       [11, 14,  3, 16, 11,  3, 17, 14, 12,  8],\n",
              "       [ 2, 10,  4,  2, 10,  7, 11, 19, 16, 16],\n",
              "       [18,  3, 17, 16, 16,  1, 12,  0, 12, 12],\n",
              "       [12, 17, 12, 11,  2,  0, 13,  3, 17, 12],\n",
              "       [10, 15,  6, 12, 15,  9,  5, 12, 13, 15],\n",
              "       [12,  5,  8,  3,  7,  2,  7,  7,  1, 18],\n",
              "       [ 8,  0, 12,  4, 11, 16, 11,  7, 17, 16],\n",
              "       [15, 11, 13, 13, 19, 12, 18,  9,  1, 17],\n",
              "       [17, 10,  0,  6, 16, 14, 15,  6,  3, 13],\n",
              "       [ 1,  9, 12, 11,  8,  6, 15, 13, 16,  0],\n",
              "       [14, 12,  3,  8, 16,  5, 19, 15, 18, 19],\n",
              "       [17, 11, 16,  3, 12, 18, 19,  2,  1,  9],\n",
              "       [14,  0, 13,  0, 17, 19,  4, 15,  3, 17],\n",
              "       [ 7, 13, 16,  3,  6, 11,  6,  8, 17,  6],\n",
              "       [ 2,  5, 10,  7,  7,  3,  7,  7, 18, 14],\n",
              "       [ 5,  6,  6,  7,  7, 12,  2, 14,  4,  9],\n",
              "       [11, 16, 12, 10,  2, 12, 11, 10, 13,  0],\n",
              "       [12, 10,  9, 10, 12, 10,  0,  7,  6, 16],\n",
              "       [19,  1,  8,  6, 12, 16, 19, 13,  7, 17],\n",
              "       [ 7,  7, 14, 13,  8, 18, 14, 11, 12,  0]])"
            ]
          },
          "metadata": {
            "tags": []
          },
          "execution_count": 3
        }
      ]
    },
    {
      "cell_type": "code",
      "metadata": {
        "colab": {
          "base_uri": "https://localhost:8080/"
        },
        "id": "4uQ2DhH9Q1WW",
        "outputId": "5e051473-d996-477d-fefd-0aead04aacae"
      },
      "source": [
        "km = KModes(n_clusters=4, init='Huang', n_init=5, verbose=1)\n",
        "\n",
        "clusters = km.fit_predict(data)\n",
        "\n",
        "# Print the cluster centroids\n",
        "print(km.cluster_centroids_)"
      ],
      "execution_count": 4,
      "outputs": [
        {
          "output_type": "stream",
          "text": [
            "Init: initializing centroids\n",
            "Init: initializing clusters\n",
            "Starting iterations...\n",
            "Run 1, iteration: 1/100, moves: 22, cost: 801.0\n",
            "Run 1, iteration: 2/100, moves: 2, cost: 801.0\n",
            "Init: initializing centroids\n",
            "Init: initializing clusters\n",
            "Starting iterations...\n",
            "Run 2, iteration: 1/100, moves: 23, cost: 801.0\n",
            "Run 2, iteration: 2/100, moves: 6, cost: 798.0\n",
            "Run 2, iteration: 3/100, moves: 0, cost: 798.0\n",
            "Init: initializing centroids\n",
            "Init: initializing clusters\n",
            "Starting iterations...\n",
            "Run 3, iteration: 1/100, moves: 15, cost: 800.0\n",
            "Run 3, iteration: 2/100, moves: 4, cost: 800.0\n",
            "Init: initializing centroids\n",
            "Init: initializing clusters\n",
            "Starting iterations...\n",
            "Run 4, iteration: 1/100, moves: 25, cost: 795.0\n",
            "Run 4, iteration: 2/100, moves: 2, cost: 795.0\n",
            "Init: initializing centroids\n",
            "Init: initializing clusters\n",
            "Starting iterations...\n",
            "Run 5, iteration: 1/100, moves: 23, cost: 797.0\n",
            "Run 5, iteration: 2/100, moves: 9, cost: 795.0\n",
            "Run 5, iteration: 3/100, moves: 0, cost: 795.0\n",
            "Best run was number 4\n",
            "[[ 7 10  9  3 14 18 18 10  3  2]\n",
            " [11  3  4 16  3  3  1  0 12  8]\n",
            " [ 5  6 13  7  7 10  2  7  6  0]\n",
            " [12  1 12 10 12 18 19 11 18  0]]\n"
          ],
          "name": "stdout"
        }
      ]
    }
  ]
}