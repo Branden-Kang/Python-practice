{
  "nbformat": 4,
  "nbformat_minor": 0,
  "metadata": {
    "colab": {
      "provenance": [],
      "authorship_tag": "ABX9TyM0ao3fTADts73RfZZJF+w6"
    },
    "kernelspec": {
      "name": "python3",
      "display_name": "Python 3"
    },
    "language_info": {
      "name": "python"
    }
  },
  "cells": [
    {
      "cell_type": "markdown",
      "source": [
        "[Reference](https://medium.com/analytics-vidhya/mlops-refactoring-python-code-bdeeddd1112e)"
      ],
      "metadata": {
        "id": "prHxyNYkJ971"
      }
    },
    {
      "cell_type": "code",
      "source": [
        "#Class MAANG\n",
        "class MAANG:\n",
        "# Constructor\n",
        "    def __init__(self, name, market_cap, revenue, employees):\n",
        "# Instance variables\n",
        "        self.name = name\n",
        "        self.market_cap = market_cap\n",
        "        self.revenue = revenue\n",
        "        self.employees = employees\n",
        "## Getter and setter methods\n",
        "    def get_name(self):\n",
        "        return self.name\n",
        "\n",
        "    def get_market_cap(self):\n",
        "        return self.market_cap\n",
        "\n",
        "    def get_revenue(self):\n",
        "        return self.revenue\n",
        "\n",
        "    def get_employees(self):\n",
        "        return self.employees"
      ],
      "metadata": {
        "id": "RlokXAMOKC5-"
      },
      "execution_count": 2,
      "outputs": []
    },
    {
      "cell_type": "code",
      "source": [
        "#create instances of this class for each of the MAANG companies,\n",
        "meta = MAANG('Facebook', 932.6, 70.7, 80000)\n",
        "amazon = MAANG('Amazon', 1.58e+12, 386.1, 1335000)\n",
        "apple = MAANG('Apple', 2.24e+12, 274.5, 147000)\n",
        "netflix = MAANG('Netflix', 237.3, 25, 12000)\n",
        "google = MAANG('Google', 1.47e+12, 181.7, 180000)"
      ],
      "metadata": {
        "id": "eW4EsOCFKEXC"
      },
      "execution_count": 3,
      "outputs": []
    },
    {
      "cell_type": "code",
      "source": [
        "#Use the emthods to get the information about the companies\n",
        "print(meta.get_name())\n",
        "print(amazon.get_market_cap())\n",
        "print(apple.get_revenue())\n",
        "print(netflix.get_employees())\n",
        "print(google.get_name())"
      ],
      "metadata": {
        "colab": {
          "base_uri": "https://localhost:8080/"
        },
        "id": "YdCT9szKKHcw",
        "outputId": "45165897-3778-4ee1-f1c5-36ece4e1c422"
      },
      "execution_count": 4,
      "outputs": [
        {
          "output_type": "stream",
          "name": "stdout",
          "text": [
            "Facebook\n",
            "1580000000000.0\n",
            "274.5\n",
            "12000\n",
            "Google\n"
          ]
        }
      ]
    },
    {
      "cell_type": "code",
      "source": [
        "print(MAANG.__name__)"
      ],
      "metadata": {
        "colab": {
          "base_uri": "https://localhost:8080/"
        },
        "id": "-RkYEkWAKHo9",
        "outputId": "baed232b-e41d-43a8-ebe4-fdb5e390b1e7"
      },
      "execution_count": 5,
      "outputs": [
        {
          "output_type": "stream",
          "name": "stdout",
          "text": [
            "MAANG\n"
          ]
        }
      ]
    },
    {
      "cell_type": "code",
      "source": [
        "meta = MAANG('Meta', 932.6, 70.7, 80000)"
      ],
      "metadata": {
        "id": "1ZKXa2MaKL48"
      },
      "execution_count": 6,
      "outputs": []
    },
    {
      "cell_type": "code",
      "source": [
        "microsoft = TechCompanies(\"Microsoft\", 2.24e+12, 168, 181000, [])\n",
        "microsoft.add_product(\"Office\")\n",
        "microsoft.add_product(\"Azure\")\n",
        "microsoft.add_product(\"Windows\")\n",
        "microsoft.add_product(\"Server\")\n",
        "print(microsoft.products)"
      ],
      "metadata": {
        "colab": {
          "base_uri": "https://localhost:8080/",
          "height": 276
        },
        "id": "Xwmau6wLKMC_",
        "outputId": "c384b01d-6a2c-49df-baa7-1076183e6829"
      },
      "execution_count": 7,
      "outputs": [
        {
          "output_type": "error",
          "ename": "NameError",
          "evalue": "ignored",
          "traceback": [
            "\u001b[0;31m---------------------------------------------------------------------------\u001b[0m",
            "\u001b[0;31mNameError\u001b[0m                                 Traceback (most recent call last)",
            "\u001b[0;32m<ipython-input-7-9f2b493a3e0a>\u001b[0m in \u001b[0;36m<cell line: 1>\u001b[0;34m()\u001b[0m\n\u001b[0;32m----> 1\u001b[0;31m \u001b[0mmicrosoft\u001b[0m \u001b[0;34m=\u001b[0m \u001b[0mTechCompanies\u001b[0m\u001b[0;34m(\u001b[0m\u001b[0;34m\"Microsoft\"\u001b[0m\u001b[0;34m,\u001b[0m \u001b[0;36m2.24e+12\u001b[0m\u001b[0;34m,\u001b[0m \u001b[0;36m168\u001b[0m\u001b[0;34m,\u001b[0m \u001b[0;36m181000\u001b[0m\u001b[0;34m,\u001b[0m \u001b[0;34m[\u001b[0m\u001b[0;34m]\u001b[0m\u001b[0;34m)\u001b[0m\u001b[0;34m\u001b[0m\u001b[0;34m\u001b[0m\u001b[0m\n\u001b[0m\u001b[1;32m      2\u001b[0m \u001b[0mmicrosoft\u001b[0m\u001b[0;34m.\u001b[0m\u001b[0madd_product\u001b[0m\u001b[0;34m(\u001b[0m\u001b[0;34m\"Office\"\u001b[0m\u001b[0;34m)\u001b[0m\u001b[0;34m\u001b[0m\u001b[0;34m\u001b[0m\u001b[0m\n\u001b[1;32m      3\u001b[0m \u001b[0mmicrosoft\u001b[0m\u001b[0;34m.\u001b[0m\u001b[0madd_product\u001b[0m\u001b[0;34m(\u001b[0m\u001b[0;34m\"Azure\"\u001b[0m\u001b[0;34m)\u001b[0m\u001b[0;34m\u001b[0m\u001b[0;34m\u001b[0m\u001b[0m\n\u001b[1;32m      4\u001b[0m \u001b[0mmicrosoft\u001b[0m\u001b[0;34m.\u001b[0m\u001b[0madd_product\u001b[0m\u001b[0;34m(\u001b[0m\u001b[0;34m\"Windows\"\u001b[0m\u001b[0;34m)\u001b[0m\u001b[0;34m\u001b[0m\u001b[0;34m\u001b[0m\u001b[0m\n\u001b[1;32m      5\u001b[0m \u001b[0mmicrosoft\u001b[0m\u001b[0;34m.\u001b[0m\u001b[0madd_product\u001b[0m\u001b[0;34m(\u001b[0m\u001b[0;34m\"Server\"\u001b[0m\u001b[0;34m)\u001b[0m\u001b[0;34m\u001b[0m\u001b[0;34m\u001b[0m\u001b[0m\n",
            "\u001b[0;31mNameError\u001b[0m: name 'TechCompanies' is not defined"
          ]
        }
      ]
    },
    {
      "cell_type": "code",
      "source": [
        "class Microsoft(MAANG):\n",
        "    def __init__(self, name, market_cap, revenue, employees, products):\n",
        "        super().__init__(name, market_cap, revenue, employees)\n",
        "        self.products = products\n",
        "\n",
        "    def get_name(self):\n",
        "        return \"Polymorphism Microsoft\"\n",
        "\n",
        "    def get_products(self):\n",
        "        return self.products"
      ],
      "metadata": {
        "id": "Tt0g97_FKPLb"
      },
      "execution_count": 8,
      "outputs": []
    },
    {
      "cell_type": "code",
      "source": [
        "microsoft = Microsoft(\"Microsoft\", 2.24e+12, 168, 181000, [\"Windows\", \"Office\", \"Azure\"])\n",
        "print(microsoft.get_name())"
      ],
      "metadata": {
        "colab": {
          "base_uri": "https://localhost:8080/"
        },
        "id": "G87GelrsKRdR",
        "outputId": "ff6c8909-d308-4607-d4cd-403f9d873d4c"
      },
      "execution_count": 9,
      "outputs": [
        {
          "output_type": "stream",
          "name": "stdout",
          "text": [
            "Polymorphism Microsoft\n"
          ]
        }
      ]
    },
    {
      "cell_type": "code",
      "source": [
        "print(meta.get_market_cap())\n",
        "#You can set the market cap value outside the class\n",
        "meta.market_cap = 2100\n",
        "print(meta.get_market_cap())"
      ],
      "metadata": {
        "colab": {
          "base_uri": "https://localhost:8080/"
        },
        "id": "UAZkCFhDKRwd",
        "outputId": "2ce43682-db75-463c-a98d-ef2128333bdb"
      },
      "execution_count": 10,
      "outputs": [
        {
          "output_type": "stream",
          "name": "stdout",
          "text": [
            "932.6\n",
            "2100\n"
          ]
        }
      ]
    },
    {
      "cell_type": "code",
      "source": [
        "class MAANG:\n",
        "    def __init__(self, name, market_cap, revenue, employees):\n",
        "        self.name = name\n",
        "        self.__market_cap = market_cap\n",
        "        self.__revenue = revenue\n",
        "        self.employees = employees\n",
        "\n",
        "    def get_name(self):\n",
        "        return self.name\n",
        "\n",
        "    def get_market_cap(self):\n",
        "        return self.__market_cap\n",
        "\n",
        "    def set_market_cap(self, new_market_cap):\n",
        "        if new_market_cap >= 0:\n",
        "            self.__market_cap = new_market_cap\n",
        "\n",
        "    def get_revenue(self):\n",
        "        return self.__revenue\n",
        "\n",
        "    def set_revenue(self, new_revenue):\n",
        "        if new_revenue >= 0:\n",
        "            self.__revenue = new_revenue"
      ],
      "metadata": {
        "id": "1xmOBtYUKT5p"
      },
      "execution_count": 15,
      "outputs": []
    },
    {
      "cell_type": "code",
      "source": [
        "meta = MAANG('Meta', 932.6, 70.7, 80000)"
      ],
      "metadata": {
        "id": "PiUyOSVHKg5a"
      },
      "execution_count": 16,
      "outputs": []
    },
    {
      "cell_type": "code",
      "source": [
        "print(meta.get_market_cap())\n",
        "\n",
        "meta.market_cap = 2100\n",
        "print(meta.get_market_cap())\n",
        "\n",
        "meta.set_market_cap(2100)\n",
        "print(meta.get_market_cap())"
      ],
      "metadata": {
        "colab": {
          "base_uri": "https://localhost:8080/"
        },
        "id": "hsgjKkp-KU96",
        "outputId": "04d77dd7-2d77-4f60-f9b4-fd128c5aa97f"
      },
      "execution_count": 17,
      "outputs": [
        {
          "output_type": "stream",
          "name": "stdout",
          "text": [
            "932.6\n",
            "932.6\n",
            "2100\n"
          ]
        }
      ]
    },
    {
      "cell_type": "code",
      "source": [
        "from abc import ABC, abstractmethod\n",
        "\n",
        "class Shape(ABC):\n",
        "    @abstractmethod\n",
        "    def area(self):\n",
        "        pass\n",
        "\n",
        "class Rectangle(Shape):\n",
        "    def __init__(self, width, height):\n",
        "        self.width = width\n",
        "        self.height = height\n",
        "\n",
        "    def area(self):\n",
        "        return self.width * self.height\n",
        "\n",
        "class Circle(Shape):\n",
        "    def __init__(self, radius):\n",
        "        self.radius = radius\n",
        "\n",
        "    def area(self):\n",
        "        return 3.14 * self.radius ** 2\n",
        "\n",
        "r = Rectangle(5, 10)\n",
        "c = Circle(7)\n",
        "\n",
        "print(\"Area of rectangle:\", r.area())\n",
        "print(\"Area of circle:\", c.area())"
      ],
      "metadata": {
        "colab": {
          "base_uri": "https://localhost:8080/"
        },
        "id": "f7CGPYb6KW2z",
        "outputId": "0748c0e2-d1ff-49c0-e446-2809e7a6888c"
      },
      "execution_count": 18,
      "outputs": [
        {
          "output_type": "stream",
          "name": "stdout",
          "text": [
            "Area of rectangle: 50\n",
            "Area of circle: 153.86\n"
          ]
        }
      ]
    },
    {
      "cell_type": "code",
      "source": [
        "# Before refactoring\n",
        "l = 5\n",
        "w = 3\n",
        "a = l * w\n",
        "print(a)\n",
        "# After refactoring\n",
        "length = 5\n",
        "width = 3\n",
        "area = length * width\n",
        "print(area)\n",
        "\n",
        "# Before refactoring\n",
        "def calculate_tax(income, dep, st):\n",
        "    if st == \"NY\":\n",
        "        tax_rate = 0.03\n",
        "    elif st == \"NJ\":\n",
        "        tax_rate = 0.02\n",
        "    else:\n",
        "        tax_rate = 0.01\n",
        "    deduction = 1000 * dep\n",
        "    taxable_income = income - deduction\n",
        "    tax_amount = taxable_income * tax_rate\n",
        "    return tax_amount\n",
        "# After refactoring\n",
        "def calculate_tax(income, num_dependents, state):\n",
        "    if state == \"NY\":\n",
        "        state_tax_rate = 0.03\n",
        "    elif state == \"NJ\":\n",
        "        state_tax_rate = 0.02\n",
        "    else:\n",
        "        state_tax_rate = 0.01\n",
        "    dependent_deduction = 1000 * num_dependents\n",
        "    taxable_income = income - dependent_deduction\n",
        "    tax_amount = taxable_income * state_tax_rate\n",
        "    return tax_amount"
      ],
      "metadata": {
        "colab": {
          "base_uri": "https://localhost:8080/"
        },
        "id": "rfSPITnrKjmO",
        "outputId": "1707f7b2-fd8c-4fb4-acda-8e71df14da49"
      },
      "execution_count": 20,
      "outputs": [
        {
          "output_type": "stream",
          "name": "stdout",
          "text": [
            "15\n",
            "15\n"
          ]
        }
      ]
    }
  ]
}
