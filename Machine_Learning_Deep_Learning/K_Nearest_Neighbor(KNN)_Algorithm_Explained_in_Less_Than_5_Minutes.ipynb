{
  "nbformat": 4,
  "nbformat_minor": 0,
  "metadata": {
    "colab": {
      "provenance": [],
      "authorship_tag": "ABX9TyPQvtbTTHP1fnhMycyPOHPE"
    },
    "kernelspec": {
      "name": "python3",
      "display_name": "Python 3"
    },
    "language_info": {
      "name": "python"
    }
  },
  "cells": [
    {
      "cell_type": "markdown",
      "source": [
        "[Reference](https://medium.com/@techynilesh/k-nearest-neighbor-knn-algorithm-explained-in-less-than-5-minutes-76f403845b38)"
      ],
      "metadata": {
        "id": "bfBEQkdH_TJU"
      }
    },
    {
      "cell_type": "code",
      "execution_count": 1,
      "metadata": {
        "colab": {
          "base_uri": "https://localhost:8080/"
        },
        "id": "-In8QiKM_KcJ",
        "outputId": "8987c336-8b85-473f-97c7-baaf40da0f96"
      },
      "outputs": [
        {
          "output_type": "stream",
          "name": "stdout",
          "text": [
            "Prediction: [0]\n",
            "Predicted target name:['setosa']\n"
          ]
        }
      ],
      "source": [
        "import numpy as np \n",
        "import pandas as pd \n",
        "import matplotlib.pyplot as plt\n",
        "from sklearn.datasets import load_iris \n",
        "from sklearn.neighbors import KNeighborsClassifier\n",
        "\n",
        "iris_dataset = load_iris()\n",
        "X = iris_dataset.data \n",
        "y = iris_dataset.target\n",
        "\n",
        "knn = KNeighborsClassifier(n_neighbors=1)\n",
        "knn.fit(X, y)\n",
        "\n",
        "X_new = np.array([[5.1, 3.5, 1.4, 0.2]])\n",
        "prediction = knn.predict(X_new)\n",
        "print(\"Prediction: {}\".format(prediction)) \n",
        "print(\"Predicted target name:{}\".format(iris_dataset[\"target_names\"][prediction]))"
      ]
    }
  ]
}
