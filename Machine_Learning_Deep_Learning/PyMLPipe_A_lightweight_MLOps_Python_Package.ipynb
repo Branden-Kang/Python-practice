{
  "nbformat": 4,
  "nbformat_minor": 0,
  "metadata": {
    "colab": {
      "name": "PyMLPipe: A lightweight MLOps Python Package.ipynb",
      "provenance": [],
      "authorship_tag": "ABX9TyOjAgM+ZhDCy57w62ySRbA4"
    },
    "kernelspec": {
      "name": "python3",
      "display_name": "Python 3"
    },
    "language_info": {
      "name": "python"
    }
  },
  "cells": [
    {
      "cell_type": "markdown",
      "source": [
        "[Reference](https://medium.com/@indreshbhattacharyya/pymlpipe-a-lightweight-mlops-python-package-4c337b2f7a1f)"
      ],
      "metadata": {
        "id": "KwvT2wiilS8F"
      }
    },
    {
      "cell_type": "markdown",
      "source": [
        "PyMLPipe helps in\n",
        "1. Model Monitering\n",
        "2. Model Version control\n",
        "3. Data Version Control\n",
        "4. Model Parameter tracking\n",
        "5. Data Schema Tracking\n",
        "6. Model Performance Comparison\n",
        "7. One click API deployment"
      ],
      "metadata": {
        "id": "y9Ea8V3olWBk"
      }
    },
    {
      "cell_type": "markdown",
      "source": [
        "# Installation (via pip)"
      ],
      "metadata": {
        "id": "V6UUT1folc2L"
      }
    },
    {
      "cell_type": "code",
      "execution_count": 10,
      "metadata": {
        "colab": {
          "base_uri": "https://localhost:8080/"
        },
        "id": "HeG2Z2_hX6kM",
        "outputId": "d322d64e-e984-4986-9caa-926e2a2123d8"
      },
      "outputs": [
        {
          "output_type": "stream",
          "name": "stdout",
          "text": [
            "Looking in indexes: https://pypi.org/simple, https://us-python.pkg.dev/colab-wheels/public/simple/\n",
            "\u001b[31mERROR: Could not find a version that satisfies the requirement pymlpipe (from versions: none)\u001b[0m\n",
            "\u001b[31mERROR: No matching distribution found for pymlpipe\u001b[0m\n"
          ]
        }
      ],
      "source": [
        "pip install pymlpipe"
      ]
    },
    {
      "cell_type": "markdown",
      "source": [
        "# Usage of PyMLPipe"
      ],
      "metadata": {
        "id": "mQ8AxUAgleDH"
      }
    },
    {
      "cell_type": "code",
      "source": [
        "from sklearn.datasets import load_iris\n",
        "import pandas as pd\n",
        "iris_data=load_iris()\n",
        "data=iris_data[\"data\"]\n",
        "target=iris_data[\"target\"]\n",
        "df=pd.DataFrame(data,columns=iris_data[\"feature_names\"])"
      ],
      "metadata": {
        "id": "SOWsomhElbs6"
      },
      "execution_count": 3,
      "outputs": []
    },
    {
      "cell_type": "code",
      "source": [
        "df"
      ],
      "metadata": {
        "colab": {
          "base_uri": "https://localhost:8080/",
          "height": 419
        },
        "id": "9aLj8AlwloU7",
        "outputId": "9d4397ed-1ee9-4906-e522-ad75ac7b9940"
      },
      "execution_count": 4,
      "outputs": [
        {
          "output_type": "execute_result",
          "data": {
            "text/plain": [
              "     sepal length (cm)  sepal width (cm)  petal length (cm)  petal width (cm)\n",
              "0                  5.1               3.5                1.4               0.2\n",
              "1                  4.9               3.0                1.4               0.2\n",
              "2                  4.7               3.2                1.3               0.2\n",
              "3                  4.6               3.1                1.5               0.2\n",
              "4                  5.0               3.6                1.4               0.2\n",
              "..                 ...               ...                ...               ...\n",
              "145                6.7               3.0                5.2               2.3\n",
              "146                6.3               2.5                5.0               1.9\n",
              "147                6.5               3.0                5.2               2.0\n",
              "148                6.2               3.4                5.4               2.3\n",
              "149                5.9               3.0                5.1               1.8\n",
              "\n",
              "[150 rows x 4 columns]"
            ],
            "text/html": [
              "\n",
              "  <div id=\"df-064295e0-d04d-44e1-88ad-22c9d92cb78b\">\n",
              "    <div class=\"colab-df-container\">\n",
              "      <div>\n",
              "<style scoped>\n",
              "    .dataframe tbody tr th:only-of-type {\n",
              "        vertical-align: middle;\n",
              "    }\n",
              "\n",
              "    .dataframe tbody tr th {\n",
              "        vertical-align: top;\n",
              "    }\n",
              "\n",
              "    .dataframe thead th {\n",
              "        text-align: right;\n",
              "    }\n",
              "</style>\n",
              "<table border=\"1\" class=\"dataframe\">\n",
              "  <thead>\n",
              "    <tr style=\"text-align: right;\">\n",
              "      <th></th>\n",
              "      <th>sepal length (cm)</th>\n",
              "      <th>sepal width (cm)</th>\n",
              "      <th>petal length (cm)</th>\n",
              "      <th>petal width (cm)</th>\n",
              "    </tr>\n",
              "  </thead>\n",
              "  <tbody>\n",
              "    <tr>\n",
              "      <th>0</th>\n",
              "      <td>5.1</td>\n",
              "      <td>3.5</td>\n",
              "      <td>1.4</td>\n",
              "      <td>0.2</td>\n",
              "    </tr>\n",
              "    <tr>\n",
              "      <th>1</th>\n",
              "      <td>4.9</td>\n",
              "      <td>3.0</td>\n",
              "      <td>1.4</td>\n",
              "      <td>0.2</td>\n",
              "    </tr>\n",
              "    <tr>\n",
              "      <th>2</th>\n",
              "      <td>4.7</td>\n",
              "      <td>3.2</td>\n",
              "      <td>1.3</td>\n",
              "      <td>0.2</td>\n",
              "    </tr>\n",
              "    <tr>\n",
              "      <th>3</th>\n",
              "      <td>4.6</td>\n",
              "      <td>3.1</td>\n",
              "      <td>1.5</td>\n",
              "      <td>0.2</td>\n",
              "    </tr>\n",
              "    <tr>\n",
              "      <th>4</th>\n",
              "      <td>5.0</td>\n",
              "      <td>3.6</td>\n",
              "      <td>1.4</td>\n",
              "      <td>0.2</td>\n",
              "    </tr>\n",
              "    <tr>\n",
              "      <th>...</th>\n",
              "      <td>...</td>\n",
              "      <td>...</td>\n",
              "      <td>...</td>\n",
              "      <td>...</td>\n",
              "    </tr>\n",
              "    <tr>\n",
              "      <th>145</th>\n",
              "      <td>6.7</td>\n",
              "      <td>3.0</td>\n",
              "      <td>5.2</td>\n",
              "      <td>2.3</td>\n",
              "    </tr>\n",
              "    <tr>\n",
              "      <th>146</th>\n",
              "      <td>6.3</td>\n",
              "      <td>2.5</td>\n",
              "      <td>5.0</td>\n",
              "      <td>1.9</td>\n",
              "    </tr>\n",
              "    <tr>\n",
              "      <th>147</th>\n",
              "      <td>6.5</td>\n",
              "      <td>3.0</td>\n",
              "      <td>5.2</td>\n",
              "      <td>2.0</td>\n",
              "    </tr>\n",
              "    <tr>\n",
              "      <th>148</th>\n",
              "      <td>6.2</td>\n",
              "      <td>3.4</td>\n",
              "      <td>5.4</td>\n",
              "      <td>2.3</td>\n",
              "    </tr>\n",
              "    <tr>\n",
              "      <th>149</th>\n",
              "      <td>5.9</td>\n",
              "      <td>3.0</td>\n",
              "      <td>5.1</td>\n",
              "      <td>1.8</td>\n",
              "    </tr>\n",
              "  </tbody>\n",
              "</table>\n",
              "<p>150 rows × 4 columns</p>\n",
              "</div>\n",
              "      <button class=\"colab-df-convert\" onclick=\"convertToInteractive('df-064295e0-d04d-44e1-88ad-22c9d92cb78b')\"\n",
              "              title=\"Convert this dataframe to an interactive table.\"\n",
              "              style=\"display:none;\">\n",
              "        \n",
              "  <svg xmlns=\"http://www.w3.org/2000/svg\" height=\"24px\"viewBox=\"0 0 24 24\"\n",
              "       width=\"24px\">\n",
              "    <path d=\"M0 0h24v24H0V0z\" fill=\"none\"/>\n",
              "    <path d=\"M18.56 5.44l.94 2.06.94-2.06 2.06-.94-2.06-.94-.94-2.06-.94 2.06-2.06.94zm-11 1L8.5 8.5l.94-2.06 2.06-.94-2.06-.94L8.5 2.5l-.94 2.06-2.06.94zm10 10l.94 2.06.94-2.06 2.06-.94-2.06-.94-.94-2.06-.94 2.06-2.06.94z\"/><path d=\"M17.41 7.96l-1.37-1.37c-.4-.4-.92-.59-1.43-.59-.52 0-1.04.2-1.43.59L10.3 9.45l-7.72 7.72c-.78.78-.78 2.05 0 2.83L4 21.41c.39.39.9.59 1.41.59.51 0 1.02-.2 1.41-.59l7.78-7.78 2.81-2.81c.8-.78.8-2.07 0-2.86zM5.41 20L4 18.59l7.72-7.72 1.47 1.35L5.41 20z\"/>\n",
              "  </svg>\n",
              "      </button>\n",
              "      \n",
              "  <style>\n",
              "    .colab-df-container {\n",
              "      display:flex;\n",
              "      flex-wrap:wrap;\n",
              "      gap: 12px;\n",
              "    }\n",
              "\n",
              "    .colab-df-convert {\n",
              "      background-color: #E8F0FE;\n",
              "      border: none;\n",
              "      border-radius: 50%;\n",
              "      cursor: pointer;\n",
              "      display: none;\n",
              "      fill: #1967D2;\n",
              "      height: 32px;\n",
              "      padding: 0 0 0 0;\n",
              "      width: 32px;\n",
              "    }\n",
              "\n",
              "    .colab-df-convert:hover {\n",
              "      background-color: #E2EBFA;\n",
              "      box-shadow: 0px 1px 2px rgba(60, 64, 67, 0.3), 0px 1px 3px 1px rgba(60, 64, 67, 0.15);\n",
              "      fill: #174EA6;\n",
              "    }\n",
              "\n",
              "    [theme=dark] .colab-df-convert {\n",
              "      background-color: #3B4455;\n",
              "      fill: #D2E3FC;\n",
              "    }\n",
              "\n",
              "    [theme=dark] .colab-df-convert:hover {\n",
              "      background-color: #434B5C;\n",
              "      box-shadow: 0px 1px 3px 1px rgba(0, 0, 0, 0.15);\n",
              "      filter: drop-shadow(0px 1px 2px rgba(0, 0, 0, 0.3));\n",
              "      fill: #FFFFFF;\n",
              "    }\n",
              "  </style>\n",
              "\n",
              "      <script>\n",
              "        const buttonEl =\n",
              "          document.querySelector('#df-064295e0-d04d-44e1-88ad-22c9d92cb78b button.colab-df-convert');\n",
              "        buttonEl.style.display =\n",
              "          google.colab.kernel.accessAllowed ? 'block' : 'none';\n",
              "\n",
              "        async function convertToInteractive(key) {\n",
              "          const element = document.querySelector('#df-064295e0-d04d-44e1-88ad-22c9d92cb78b');\n",
              "          const dataTable =\n",
              "            await google.colab.kernel.invokeFunction('convertToInteractive',\n",
              "                                                     [key], {});\n",
              "          if (!dataTable) return;\n",
              "\n",
              "          const docLinkHtml = 'Like what you see? Visit the ' +\n",
              "            '<a target=\"_blank\" href=https://colab.research.google.com/notebooks/data_table.ipynb>data table notebook</a>'\n",
              "            + ' to learn more about interactive tables.';\n",
              "          element.innerHTML = '';\n",
              "          dataTable['output_type'] = 'display_data';\n",
              "          await google.colab.output.renderOutput(dataTable, element);\n",
              "          const docLink = document.createElement('div');\n",
              "          docLink.innerHTML = docLinkHtml;\n",
              "          element.appendChild(docLink);\n",
              "        }\n",
              "      </script>\n",
              "    </div>\n",
              "  </div>\n",
              "  "
            ]
          },
          "metadata": {},
          "execution_count": 4
        }
      ]
    },
    {
      "cell_type": "code",
      "source": [
        "from sklearn.linear_model import LogisticRegression\n",
        "from sklearn.ensemble import  RandomForestClassifier\n",
        "from sklearn.tree import DecisionTreeClassifier\n",
        "from xgboost import XGBClassifier\n",
        "from sklearn.metrics import accuracy_score,precision_score,recall_score,f1_score"
      ],
      "metadata": {
        "id": "cWqnIOIPlpCC"
      },
      "execution_count": 5,
      "outputs": []
    },
    {
      "cell_type": "markdown",
      "source": [
        "# Getting started with PyMLPipe:"
      ],
      "metadata": {
        "id": "caCQ8yiSlu9v"
      }
    },
    {
      "cell_type": "code",
      "source": [
        "from pymlpipe.tabular import PyMLPipe\n",
        "mlp=PyMLPipe()\n",
        "mlp.set_experiment(\"IrisDataV2\")\n",
        "mlp.set_version(0.1)"
      ],
      "metadata": {
        "id": "FsjlkFsnltz0"
      },
      "execution_count": 12,
      "outputs": []
    },
    {
      "cell_type": "markdown",
      "source": [
        "# Running the tests"
      ],
      "metadata": {
        "id": "xjR_s4UkmHJk"
      }
    },
    {
      "cell_type": "code",
      "source": [
        "with mlp.run():\n",
        "    mlp.set_tags([\"Classification\",\"test run\",\"dtree\"])\n",
        "    model=DecisionTreeClassifier()\n",
        "    model.fit(trainx, trainy)\n",
        "    predictions=model.predict(testx)\n",
        "    \n",
        "    mlp.log_metrics({\"Accuracy\":accuracy_score(testy,predictions),\"Precision\": precision_score(testy,predictions,average='macro')})\n",
        "    \n",
        "    mlp.log_metric(\"Recall\", recall_score(testy,predictions,average='macro'))\n",
        "    mlp.log_metric(\"F1\", f1_score(testy,predictions,average='macro'))\n",
        "    \n",
        "  \n",
        "    mlp.register_artifact(\"train.csv\", trainx)\n",
        "    mlp.register_artifact(\"test.csv\", testx,artifact_type=\"testing\")\n",
        "    mlp.scikit_learn.register_model(\"dtree\", model)"
      ],
      "metadata": {
        "id": "XmjdB19Jlwyy"
      },
      "execution_count": 13,
      "outputs": []
    },
    {
      "cell_type": "code",
      "source": [
        "from sklearn.datasets import  load_iris\n",
        "import pandas as pd\n",
        "from sklearn.model_selection import train_test_split\n",
        "from pymlpipe.tabular import PyMLPipe\n",
        "from sklearn.linear_model import LogisticRegression\n",
        "from sklearn.ensemble import  RandomForestClassifier\n",
        "from sklearn.tree import DecisionTreeClassifier\n",
        "from xgboost import XGBClassifier\n",
        "from sklearn.metrics import accuracy_score,precision_score,recall_score,f1_score\n",
        "\n",
        "\n",
        "\n",
        "mlp=PyMLPipe()\n",
        "mlp.set_experiment(\"IrisDataV2\")\n",
        "mlp.set_version(0.1)\n",
        "\n",
        "iris_data=load_iris()\n",
        "data=iris_data[\"data\"]\n",
        "target=iris_data[\"target\"]\n",
        "df=pd.DataFrame(data,columns=iris_data[\"feature_names\"])\n",
        "#df[\"target\"]=target\n",
        "trainx,testx,trainy,testy=train_test_split(df,target)\n",
        "\n",
        "with mlp.run():\n",
        "    mlp.set_tags([\"Classification\",\"test run\",\"logisticRegression\"])\n",
        "    model=LogisticRegression()\n",
        "    model.fit(trainx, trainy)\n",
        "    predictions=model.predict(testx)\n",
        "    mlp.log_metrics({\"Accuracy\":accuracy_score(testy,predictions),\n",
        "                     \"Precision\": precision_score(testy,predictions,average='macro'),\n",
        "                     \"Recall\": recall_score(testy,predictions,average='macro'),\n",
        "                     \"F1\": f1_score(testy,predictions,average='macro')\n",
        "                     })\n",
        "    mlp.register_artifact(\"train.csv\", trainx)\n",
        "    mlp.register_artifact(\"test.csv\", testx,artifact_type=\"testing\")\n",
        "    mlp.scikit_learn.register_model(\"logistic regression\", model)\n",
        "\n",
        "\n",
        "with mlp.run():\n",
        "    mlp.set_tags([\"Classification\",\"test run\",\"dtree\"])\n",
        "    model=DecisionTreeClassifier()\n",
        "    model.fit(trainx, trainy)\n",
        "    predictions=model.predict(testx)\n",
        "    \n",
        "    mlp.log_metrics({\"Accuracy\":accuracy_score(testy,predictions),\"Precision\": precision_score(testy,predictions,average='macro')})\n",
        "    \n",
        "    mlp.log_metric(\"Recall\", recall_score(testy,predictions,average='macro'))\n",
        "    mlp.log_metric(\"F1\", f1_score(testy,predictions,average='macro'))\n",
        "    \n",
        "    #mlp.log_metrics({\"r2\":0.1,\"mse\":1.1})\n",
        "    mlp.register_artifact(\"train.csv\", trainx)\n",
        "    mlp.register_artifact(\"test.csv\", testx,artifact_type=\"testing\")\n",
        "    mlp.scikit_learn.register_model(\"dtree\", model)\n",
        "\n",
        "with mlp.run():\n",
        "    mlp.set_tags([\"Classification\",\"test run\",\"rf\"])\n",
        "    model=RandomForestClassifier()\n",
        "    model.fit(trainx, trainy)\n",
        "    predictions=model.predict(testx)\n",
        "    \n",
        "    mlp.log_metric(\"Accuracy\", accuracy_score(testy,predictions))\n",
        "    mlp.log_metric(\"Precision\", precision_score(testy,predictions,average='macro'))\n",
        "    mlp.log_metric(\"Recall\", recall_score(testy,predictions,average='macro'))\n",
        "    mlp.log_metric(\"F1\", f1_score(testy,predictions,average='macro'))\n",
        "    mlp.register_artifact(\"train.csv\", trainx,)\n",
        "    mlp.register_artifact(\"test.csv\", testx,artifact_type=\"testing\")\n",
        "    mlp.scikit_learn.register_model(\"randomForest\", model)\n",
        "\n",
        "with mlp.run():\n",
        "    mlp.set_tags([\"Classification\",\"test run\",\"xgb\"])\n",
        "    model=XGBClassifier()\n",
        "    model.fit(trainx, trainy)\n",
        "    predictions=model.predict(testx)\n",
        "    \n",
        "    mlp.log_metric(\"Accuracy\", accuracy_score(testy,predictions))\n",
        "    mlp.log_metric(\"Precision\", precision_score(testy,predictions,average='macro'))\n",
        "    mlp.log_metric(\"Recall\", recall_score(testy,predictions,average='macro'))\n",
        "    mlp.log_metric(\"F1\", f1_score(testy,predictions,average='macro'))\n",
        "    mlp.register_artifact(\"train.csv\", trainx)\n",
        "    mlp.register_artifact(\"test.csv\", testx,artifact_type=\"testing\")\n",
        "    mlp.scikit_learn.register_model(\"xgboost\", model)"
      ],
      "metadata": {
        "id": "7a8CTnjjmJPb"
      },
      "execution_count": 14,
      "outputs": []
    },
    {
      "cell_type": "markdown",
      "source": [
        "# Let's Start the UI"
      ],
      "metadata": {
        "id": "QIQLPwzRmSsr"
      }
    },
    {
      "cell_type": "code",
      "source": [
        "!pymlpipeui"
      ],
      "metadata": {
        "id": "wFdUYAZnmQFj"
      },
      "execution_count": 15,
      "outputs": []
    },
    {
      "cell_type": "code",
      "source": [
        "from pymlpipe.pymlpipeUI import start_ui\n",
        "\n",
        "start_ui(host='0.0.0.0', port=8085)"
      ],
      "metadata": {
        "id": "9oCE14pvmVP6"
      },
      "execution_count": 17,
      "outputs": []
    }
  ]
}
