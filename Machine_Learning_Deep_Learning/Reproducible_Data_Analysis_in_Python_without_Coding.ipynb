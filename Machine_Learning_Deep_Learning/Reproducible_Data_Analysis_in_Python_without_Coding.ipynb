{
  "nbformat": 4,
  "nbformat_minor": 0,
  "metadata": {
    "colab": {
      "name": "Reproducible Data Analysis in Python without Coding.ipynb",
      "provenance": [],
      "authorship_tag": "ABX9TyNoa2s7+SWzgEpDsolSoTzC"
    },
    "kernelspec": {
      "name": "python3",
      "display_name": "Python 3"
    },
    "language_info": {
      "name": "python"
    }
  },
  "cells": [
    {
      "cell_type": "markdown",
      "metadata": {
        "id": "QzdltP8lZE1g"
      },
      "source": [
        "[Reference](https://towardsdatascience.com/reproducible-data-analysis-in-python-without-coding-806a7652dd34)"
      ]
    },
    {
      "cell_type": "code",
      "metadata": {
        "colab": {
          "base_uri": "https://localhost:8080/",
          "height": 1000
        },
        "id": "yiHQ2wohY5RA",
        "outputId": "2be7ecb8-8415-4ecf-962e-c44296bd4b55"
      },
      "source": [
        "!pip install bamboolib\n",
        "!python -m bamboolib install_extensions"
      ],
      "execution_count": 2,
      "outputs": [
        {
          "output_type": "stream",
          "text": [
            "Collecting bamboolib\n",
            "\u001b[?25l  Downloading https://files.pythonhosted.org/packages/b4/43/f6cc1b10e0bbf654c56f3509a56e61de0f27f8038abc13089efbe7ae03fc/bamboolib-1.26.0-cp37-cp37m-manylinux_2_5_x86_64.manylinux1_x86_64.whl (7.0MB)\n",
            "\u001b[K     |████████████████████████████████| 7.0MB 9.0MB/s \n",
            "\u001b[?25hCollecting seaborn<0.11,>=0.10\n",
            "\u001b[?25l  Downloading https://files.pythonhosted.org/packages/c7/e6/54aaaafd0b87f51dfba92ba73da94151aa3bc179e5fe88fc5dfb3038e860/seaborn-0.10.1-py3-none-any.whl (215kB)\n",
            "\u001b[K     |████████████████████████████████| 225kB 33.2MB/s \n",
            "\u001b[?25hCollecting jupyterlab<4.0.0,>=2.0\n",
            "\u001b[?25l  Downloading https://files.pythonhosted.org/packages/f7/5a/e9a52aea224ae01a3c34732c886389745fbbc14f0374a96d555add1f5034/jupyterlab-3.0.16-py3-none-any.whl (8.2MB)\n",
            "\u001b[K     |████████████████████████████████| 8.2MB 40.3MB/s \n",
            "\u001b[?25hRequirement already satisfied: jedi<1.0.0 in /usr/local/lib/python3.7/dist-packages (from bamboolib) (0.18.0)\n",
            "Requirement already satisfied: psutil<6,>=5.4.2 in /usr/local/lib/python3.7/dist-packages (from bamboolib) (5.4.8)\n",
            "Collecting cryptography<3.0.0,>=2.6.1\n",
            "\u001b[?25l  Downloading https://files.pythonhosted.org/packages/3c/04/686efee2dcdd25aecf357992e7d9362f443eb182ecd623f882bc9f7a6bba/cryptography-2.9.2-cp35-abi3-manylinux2010_x86_64.whl (2.7MB)\n",
            "\u001b[K     |████████████████████████████████| 2.7MB 41.0MB/s \n",
            "\u001b[?25hCollecting ppscore<2.0.0,>=1.2.0\n",
            "\u001b[?25l  Downloading https://files.pythonhosted.org/packages/f7/25/5d7bc56240da13ef3be08ca4b6c61747d3ca3f8db649e67d97016a0629c8/ppscore-1.2.0.tar.gz (47kB)\n",
            "\u001b[K     |████████████████████████████████| 51kB 9.6MB/s \n",
            "\u001b[?25hRequirement already satisfied: xlrd>=1.0.0 in /usr/local/lib/python3.7/dist-packages (from bamboolib) (1.1.0)\n",
            "Requirement already satisfied: ipywidgets<8.0.0,>=7.6.0 in /usr/local/lib/python3.7/dist-packages (from bamboolib) (7.6.3)\n",
            "Requirement already satisfied: packaging>=19.2 in /usr/local/lib/python3.7/dist-packages (from bamboolib) (21.0)\n",
            "Requirement already satisfied: toml>=0.10.0 in /usr/local/lib/python3.7/dist-packages (from bamboolib) (0.10.2)\n",
            "Requirement already satisfied: notebook<7.0.0,>=5.3.0 in /usr/local/lib/python3.7/dist-packages (from bamboolib) (5.3.1)\n",
            "Requirement already satisfied: pandas<2.0.0,>=1.1.0 in /usr/local/lib/python3.7/dist-packages (from bamboolib) (1.1.5)\n",
            "Requirement already satisfied: attrs>=20.3.0 in /usr/local/lib/python3.7/dist-packages (from bamboolib) (21.2.0)\n",
            "Collecting plotly<5.0.0,>=4.9.0\n",
            "\u001b[?25l  Downloading https://files.pythonhosted.org/packages/1f/f6/bd3c17c8003b6641df1228e80e1acac97ed8402635e46c2571f8e1ef63af/plotly-4.14.3-py2.py3-none-any.whl (13.2MB)\n",
            "\u001b[K     |████████████████████████████████| 13.2MB 162kB/s \n",
            "\u001b[?25hCollecting ipyslickgrid==0.0.3\n",
            "\u001b[?25l  Downloading https://files.pythonhosted.org/packages/28/fc/57ed0fde9f6a0a7ceabc6eb6e0c961f4e02e6f201f354765b2feb15457bc/ipyslickgrid-0.0.3.tar.gz (51.4MB)\n",
            "\u001b[K     |████████████████████████████████| 51.4MB 124kB/s \n",
            "\u001b[?25hRequirement already satisfied: scikit-learn<1.0.0,>=0.20.2 in /usr/local/lib/python3.7/dist-packages (from bamboolib) (0.22.2.post1)\n",
            "Collecting analytics-python==1.2.9\n",
            "  Downloading https://files.pythonhosted.org/packages/d3/37/c49d052f88655cd96445c36979fb63f69ef859e167eaff5706ca7c8a8ee3/analytics_python-1.2.9-py2.py3-none-any.whl\n",
            "Requirement already satisfied: numpy>=1.13.3 in /usr/local/lib/python3.7/dist-packages (from seaborn<0.11,>=0.10->bamboolib) (1.19.5)\n",
            "Requirement already satisfied: matplotlib>=2.1.2 in /usr/local/lib/python3.7/dist-packages (from seaborn<0.11,>=0.10->bamboolib) (3.2.2)\n",
            "Requirement already satisfied: scipy>=1.0.1 in /usr/local/lib/python3.7/dist-packages (from seaborn<0.11,>=0.10->bamboolib) (1.4.1)\n",
            "Requirement already satisfied: jupyter-core in /usr/local/lib/python3.7/dist-packages (from jupyterlab<4.0.0,>=2.0->bamboolib) (4.7.1)\n",
            "Collecting jupyter-server~=1.4\n",
            "\u001b[?25l  Downloading https://files.pythonhosted.org/packages/29/b7/7377d007118f7798b21362a6c0a0bf20c93cdc19345105276a862e1263d6/jupyter_server-1.9.0-py3-none-any.whl (389kB)\n",
            "\u001b[K     |████████████████████████████████| 399kB 37.5MB/s \n",
            "\u001b[?25hRequirement already satisfied: jinja2>=2.1 in /usr/local/lib/python3.7/dist-packages (from jupyterlab<4.0.0,>=2.0->bamboolib) (2.11.3)\n",
            "Collecting nbclassic~=0.2\n",
            "  Downloading https://files.pythonhosted.org/packages/11/68/217ab6d4e4676dcfa4e855bb435469164a361a58e1856872cb06277f14b5/nbclassic-0.3.1-py3-none-any.whl\n",
            "Collecting tornado>=6.1.0\n",
            "\u001b[?25l  Downloading https://files.pythonhosted.org/packages/91/a8/9c5902233fa3c2e6a889cbd164333ddda5009669f494e3fadbeee2c03af5/tornado-6.1-cp37-cp37m-manylinux2010_x86_64.whl (428kB)\n",
            "\u001b[K     |████████████████████████████████| 430kB 39.1MB/s \n",
            "\u001b[?25hCollecting jupyterlab-server~=2.3\n",
            "\u001b[?25l  Downloading https://files.pythonhosted.org/packages/bc/6f/a1cfff58e6bc195dce93d17332ba05a9d1691171912ed9a19e943927173a/jupyterlab_server-2.6.1-py3-none-any.whl (56kB)\n",
            "\u001b[K     |████████████████████████████████| 61kB 10.5MB/s \n",
            "\u001b[?25hRequirement already satisfied: ipython in /usr/local/lib/python3.7/dist-packages (from jupyterlab<4.0.0,>=2.0->bamboolib) (5.5.0)\n",
            "Requirement already satisfied: parso<0.9.0,>=0.8.0 in /usr/local/lib/python3.7/dist-packages (from jedi<1.0.0->bamboolib) (0.8.2)\n",
            "Requirement already satisfied: cffi!=1.11.3,>=1.8 in /usr/local/lib/python3.7/dist-packages (from cryptography<3.0.0,>=2.6.1->bamboolib) (1.14.6)\n",
            "Requirement already satisfied: six>=1.4.1 in /usr/local/lib/python3.7/dist-packages (from cryptography<3.0.0,>=2.6.1->bamboolib) (1.15.0)\n",
            "Requirement already satisfied: nbformat>=4.2.0 in /usr/local/lib/python3.7/dist-packages (from ipywidgets<8.0.0,>=7.6.0->bamboolib) (5.1.3)\n",
            "Requirement already satisfied: jupyterlab-widgets>=1.0.0; python_version >= \"3.6\" in /usr/local/lib/python3.7/dist-packages (from ipywidgets<8.0.0,>=7.6.0->bamboolib) (1.0.0)\n",
            "Requirement already satisfied: widgetsnbextension~=3.5.0 in /usr/local/lib/python3.7/dist-packages (from ipywidgets<8.0.0,>=7.6.0->bamboolib) (3.5.1)\n",
            "Requirement already satisfied: traitlets>=4.3.1 in /usr/local/lib/python3.7/dist-packages (from ipywidgets<8.0.0,>=7.6.0->bamboolib) (5.0.5)\n",
            "Requirement already satisfied: ipykernel>=4.5.1 in /usr/local/lib/python3.7/dist-packages (from ipywidgets<8.0.0,>=7.6.0->bamboolib) (4.10.1)\n",
            "Requirement already satisfied: pyparsing>=2.0.2 in /usr/local/lib/python3.7/dist-packages (from packaging>=19.2->bamboolib) (2.4.7)\n",
            "Requirement already satisfied: terminado>=0.8.1 in /usr/local/lib/python3.7/dist-packages (from notebook<7.0.0,>=5.3.0->bamboolib) (0.10.1)\n",
            "Requirement already satisfied: ipython-genutils in /usr/local/lib/python3.7/dist-packages (from notebook<7.0.0,>=5.3.0->bamboolib) (0.2.0)\n",
            "Requirement already satisfied: jupyter-client>=5.2.0 in /usr/local/lib/python3.7/dist-packages (from notebook<7.0.0,>=5.3.0->bamboolib) (5.3.5)\n",
            "Requirement already satisfied: nbconvert in /usr/local/lib/python3.7/dist-packages (from notebook<7.0.0,>=5.3.0->bamboolib) (5.6.1)\n",
            "Requirement already satisfied: Send2Trash in /usr/local/lib/python3.7/dist-packages (from notebook<7.0.0,>=5.3.0->bamboolib) (1.7.1)\n",
            "Requirement already satisfied: python-dateutil>=2.7.3 in /usr/local/lib/python3.7/dist-packages (from pandas<2.0.0,>=1.1.0->bamboolib) (2.8.1)\n",
            "Requirement already satisfied: pytz>=2017.2 in /usr/local/lib/python3.7/dist-packages (from pandas<2.0.0,>=1.1.0->bamboolib) (2018.9)\n",
            "Requirement already satisfied: retrying>=1.3.3 in /usr/local/lib/python3.7/dist-packages (from plotly<5.0.0,>=4.9.0->bamboolib) (1.3.3)\n",
            "Requirement already satisfied: joblib>=0.11 in /usr/local/lib/python3.7/dist-packages (from scikit-learn<1.0.0,>=0.20.2->bamboolib) (1.0.1)\n",
            "Requirement already satisfied: requests<3.0,>=2.7 in /usr/local/lib/python3.7/dist-packages (from analytics-python==1.2.9->bamboolib) (2.23.0)\n",
            "Requirement already satisfied: cycler>=0.10 in /usr/local/lib/python3.7/dist-packages (from matplotlib>=2.1.2->seaborn<0.11,>=0.10->bamboolib) (0.10.0)\n",
            "Requirement already satisfied: kiwisolver>=1.0.1 in /usr/local/lib/python3.7/dist-packages (from matplotlib>=2.1.2->seaborn<0.11,>=0.10->bamboolib) (1.3.1)\n",
            "Requirement already satisfied: prometheus-client in /usr/local/lib/python3.7/dist-packages (from jupyter-server~=1.4->jupyterlab<4.0.0,>=2.0->bamboolib) (0.11.0)\n",
            "Collecting anyio<4,>=3.1.0\n",
            "\u001b[?25l  Downloading https://files.pythonhosted.org/packages/5a/8c/6712b0aebe9b250736ec5dde99883b143290b49ecc2310eb583577e316aa/anyio-3.2.1-py3-none-any.whl (75kB)\n",
            "\u001b[K     |████████████████████████████████| 81kB 11.6MB/s \n",
            "\u001b[?25hCollecting websocket-client\n",
            "\u001b[?25l  Downloading https://files.pythonhosted.org/packages/ca/5f/3c211d168b2e9f9342cfb53bcfc26aab0eac63b998015e7af7bcae66119d/websocket_client-1.1.0-py2.py3-none-any.whl (68kB)\n",
            "\u001b[K     |████████████████████████████████| 71kB 10.8MB/s \n",
            "\u001b[?25hCollecting requests-unixsocket\n",
            "  Downloading https://files.pythonhosted.org/packages/d0/63/97662a6f7175c08381447a09f6bc35464075f0ea6549cf6daf2668b51f04/requests_unixsocket-0.2.0-py2.py3-none-any.whl\n",
            "Requirement already satisfied: argon2-cffi in /usr/local/lib/python3.7/dist-packages (from jupyter-server~=1.4->jupyterlab<4.0.0,>=2.0->bamboolib) (20.1.0)\n",
            "Requirement already satisfied: pyzmq>=17 in /usr/local/lib/python3.7/dist-packages (from jupyter-server~=1.4->jupyterlab<4.0.0,>=2.0->bamboolib) (22.1.0)\n",
            "Requirement already satisfied: MarkupSafe>=0.23 in /usr/local/lib/python3.7/dist-packages (from jinja2>=2.1->jupyterlab<4.0.0,>=2.0->bamboolib) (2.0.1)\n",
            "Requirement already satisfied: babel in /usr/local/lib/python3.7/dist-packages (from jupyterlab-server~=2.3->jupyterlab<4.0.0,>=2.0->bamboolib) (2.9.1)\n",
            "Collecting jsonschema>=3.0.1\n",
            "\u001b[?25l  Downloading https://files.pythonhosted.org/packages/c5/8f/51e89ce52a085483359217bc72cdbf6e75ee595d5b1d4b5ade40c7e018b8/jsonschema-3.2.0-py2.py3-none-any.whl (56kB)\n",
            "\u001b[K     |████████████████████████████████| 61kB 10.5MB/s \n",
            "\u001b[?25hCollecting json5\n",
            "  Downloading https://files.pythonhosted.org/packages/7e/8e/ebde0a31c71e7098b3014faf46c80bdbcadb3c23b0ac7c7646b2af7d302e/json5-0.9.6-py2.py3-none-any.whl\n",
            "Requirement already satisfied: pexpect; sys_platform != \"win32\" in /usr/local/lib/python3.7/dist-packages (from ipython->jupyterlab<4.0.0,>=2.0->bamboolib) (4.8.0)\n",
            "Requirement already satisfied: simplegeneric>0.8 in /usr/local/lib/python3.7/dist-packages (from ipython->jupyterlab<4.0.0,>=2.0->bamboolib) (0.8.1)\n",
            "Requirement already satisfied: prompt-toolkit<2.0.0,>=1.0.4 in /usr/local/lib/python3.7/dist-packages (from ipython->jupyterlab<4.0.0,>=2.0->bamboolib) (1.0.18)\n",
            "Requirement already satisfied: setuptools>=18.5 in /usr/local/lib/python3.7/dist-packages (from ipython->jupyterlab<4.0.0,>=2.0->bamboolib) (57.2.0)\n",
            "Requirement already satisfied: decorator in /usr/local/lib/python3.7/dist-packages (from ipython->jupyterlab<4.0.0,>=2.0->bamboolib) (4.4.2)\n",
            "Requirement already satisfied: pickleshare in /usr/local/lib/python3.7/dist-packages (from ipython->jupyterlab<4.0.0,>=2.0->bamboolib) (0.7.5)\n",
            "Requirement already satisfied: pygments in /usr/local/lib/python3.7/dist-packages (from ipython->jupyterlab<4.0.0,>=2.0->bamboolib) (2.6.1)\n",
            "Requirement already satisfied: pycparser in /usr/local/lib/python3.7/dist-packages (from cffi!=1.11.3,>=1.8->cryptography<3.0.0,>=2.6.1->bamboolib) (2.20)\n",
            "Requirement already satisfied: ptyprocess; os_name != \"nt\" in /usr/local/lib/python3.7/dist-packages (from terminado>=0.8.1->notebook<7.0.0,>=5.3.0->bamboolib) (0.7.0)\n",
            "Requirement already satisfied: pandocfilters>=1.4.1 in /usr/local/lib/python3.7/dist-packages (from nbconvert->notebook<7.0.0,>=5.3.0->bamboolib) (1.4.3)\n",
            "Requirement already satisfied: bleach in /usr/local/lib/python3.7/dist-packages (from nbconvert->notebook<7.0.0,>=5.3.0->bamboolib) (3.3.0)\n",
            "Requirement already satisfied: mistune<2,>=0.8.1 in /usr/local/lib/python3.7/dist-packages (from nbconvert->notebook<7.0.0,>=5.3.0->bamboolib) (0.8.4)\n",
            "Requirement already satisfied: entrypoints>=0.2.2 in /usr/local/lib/python3.7/dist-packages (from nbconvert->notebook<7.0.0,>=5.3.0->bamboolib) (0.3)\n",
            "Requirement already satisfied: defusedxml in /usr/local/lib/python3.7/dist-packages (from nbconvert->notebook<7.0.0,>=5.3.0->bamboolib) (0.7.1)\n",
            "Requirement already satisfied: testpath in /usr/local/lib/python3.7/dist-packages (from nbconvert->notebook<7.0.0,>=5.3.0->bamboolib) (0.5.0)\n",
            "Requirement already satisfied: urllib3!=1.25.0,!=1.25.1,<1.26,>=1.21.1 in /usr/local/lib/python3.7/dist-packages (from requests<3.0,>=2.7->analytics-python==1.2.9->bamboolib) (1.24.3)\n",
            "Requirement already satisfied: idna<3,>=2.5 in /usr/local/lib/python3.7/dist-packages (from requests<3.0,>=2.7->analytics-python==1.2.9->bamboolib) (2.10)\n",
            "Requirement already satisfied: chardet<4,>=3.0.2 in /usr/local/lib/python3.7/dist-packages (from requests<3.0,>=2.7->analytics-python==1.2.9->bamboolib) (3.0.4)\n",
            "Requirement already satisfied: certifi>=2017.4.17 in /usr/local/lib/python3.7/dist-packages (from requests<3.0,>=2.7->analytics-python==1.2.9->bamboolib) (2021.5.30)\n",
            "Collecting sniffio>=1.1\n",
            "  Downloading https://files.pythonhosted.org/packages/52/b0/7b2e028b63d092804b6794595871f936aafa5e9322dcaaad50ebf67445b3/sniffio-1.2.0-py3-none-any.whl\n",
            "Requirement already satisfied: typing-extensions; python_version < \"3.8\" in /usr/local/lib/python3.7/dist-packages (from anyio<4,>=3.1.0->jupyter-server~=1.4->jupyterlab<4.0.0,>=2.0->bamboolib) (3.7.4.3)\n",
            "Requirement already satisfied: pyrsistent>=0.14.0 in /usr/local/lib/python3.7/dist-packages (from jsonschema>=3.0.1->jupyterlab-server~=2.3->jupyterlab<4.0.0,>=2.0->bamboolib) (0.18.0)\n",
            "Requirement already satisfied: importlib-metadata; python_version < \"3.8\" in /usr/local/lib/python3.7/dist-packages (from jsonschema>=3.0.1->jupyterlab-server~=2.3->jupyterlab<4.0.0,>=2.0->bamboolib) (4.6.1)\n",
            "Requirement already satisfied: wcwidth in /usr/local/lib/python3.7/dist-packages (from prompt-toolkit<2.0.0,>=1.0.4->ipython->jupyterlab<4.0.0,>=2.0->bamboolib) (0.2.5)\n",
            "Requirement already satisfied: webencodings in /usr/local/lib/python3.7/dist-packages (from bleach->nbconvert->notebook<7.0.0,>=5.3.0->bamboolib) (0.5.1)\n",
            "Requirement already satisfied: zipp>=0.5 in /usr/local/lib/python3.7/dist-packages (from importlib-metadata; python_version < \"3.8\"->jsonschema>=3.0.1->jupyterlab-server~=2.3->jupyterlab<4.0.0,>=2.0->bamboolib) (3.5.0)\n",
            "Building wheels for collected packages: ppscore, ipyslickgrid\n",
            "  Building wheel for ppscore (setup.py) ... \u001b[?25l\u001b[?25hdone\n",
            "  Created wheel for ppscore: filename=ppscore-1.2.0-py2.py3-none-any.whl size=13067 sha256=ade103e770bfe904cdd85c37aa66c07e1145537bfd8de1f7143d83554b160ec7\n",
            "  Stored in directory: /root/.cache/pip/wheels/50/cc/8f/d0da07e4ec4e7a4c4cf32aee9057e4d1c318de910543b4684e\n",
            "  Building wheel for ipyslickgrid (setup.py) ... \u001b[?25l\u001b[?25hdone\n",
            "  Created wheel for ipyslickgrid: filename=ipyslickgrid-0.0.3-py2.py3-none-any.whl size=1823284 sha256=f772115f4c4341fd1c0e87cd22dafa1560d60e043e4d93c2328b5defa0e5b60f\n",
            "  Stored in directory: /root/.cache/pip/wheels/5a/5d/47/fd96610b24e8845a2a5a2c3351293b086344bb2c7c4e0be83b\n",
            "Successfully built ppscore ipyslickgrid\n",
            "\u001b[31mERROR: nbclient 0.5.3 has requirement jupyter-client>=6.1.5, but you'll have jupyter-client 5.3.5 which is incompatible.\u001b[0m\n",
            "\u001b[31mERROR: google-colab 1.0.0 has requirement tornado~=5.1.0; python_version >= \"3.0\", but you'll have tornado 6.1 which is incompatible.\u001b[0m\n",
            "\u001b[31mERROR: jupyter-server 1.9.0 has requirement jupyter-client>=6.1.1, but you'll have jupyter-client 5.3.5 which is incompatible.\u001b[0m\n",
            "Installing collected packages: seaborn, sniffio, anyio, websocket-client, requests-unixsocket, tornado, jupyter-server, nbclassic, jsonschema, json5, jupyterlab-server, jupyterlab, cryptography, ppscore, plotly, ipyslickgrid, analytics-python, bamboolib\n",
            "  Found existing installation: seaborn 0.11.1\n",
            "    Uninstalling seaborn-0.11.1:\n",
            "      Successfully uninstalled seaborn-0.11.1\n",
            "  Found existing installation: tornado 5.1.1\n",
            "    Uninstalling tornado-5.1.1:\n",
            "      Successfully uninstalled tornado-5.1.1\n",
            "  Found existing installation: jsonschema 2.6.0\n",
            "    Uninstalling jsonschema-2.6.0:\n",
            "      Successfully uninstalled jsonschema-2.6.0\n",
            "  Found existing installation: plotly 4.4.1\n",
            "    Uninstalling plotly-4.4.1:\n",
            "      Successfully uninstalled plotly-4.4.1\n",
            "Successfully installed analytics-python-1.2.9 anyio-3.2.1 bamboolib-1.26.0 cryptography-2.9.2 ipyslickgrid-0.0.3 json5-0.9.6 jsonschema-3.2.0 jupyter-server-1.9.0 jupyterlab-3.0.16 jupyterlab-server-2.6.1 nbclassic-0.3.1 plotly-4.14.3 ppscore-1.2.0 requests-unixsocket-0.2.0 seaborn-0.10.1 sniffio-1.2.0 tornado-6.1 websocket-client-1.1.0\n"
          ],
          "name": "stdout"
        },
        {
          "output_type": "display_data",
          "data": {
            "application/vnd.colab-display-data+json": {
              "pip_warning": {
                "packages": [
                  "tornado"
                ]
              }
            }
          },
          "metadata": {
            "tags": []
          }
        },
        {
          "output_type": "stream",
          "text": [
            "Starting to install bamboolib extensions for Jupyter Notebook and Jupyter Lab\n",
            "\n",
            "Trying to install bamboolib nbextension...\n",
            "Finished installing the bamboolib Jupyter Notebook nbextension\n",
            "Please reload your Jupyter notebook browser window\n",
            "\n",
            "Trying to install bamboolib labextensions...\n",
            "Could not install bamboolib Jupyter Lab extension because Jupyter Lab is not available\n",
            "\n",
            "Finished installing the bamboolib Jupyter extensions\n",
            "Please reload your Jupyter notebook and/or Jupyter lab browser windows\n"
          ],
          "name": "stdout"
        }
      ]
    },
    {
      "cell_type": "code",
      "metadata": {
        "id": "qevRkHVpZWWS"
      },
      "source": [
        "import pandas as pd\n",
        "soybean_use = pd.read_csv('https://raw.githubusercontent.com/rfordatascience/tidytuesday/master/data/2021/2021-04-06/soybean_use.csv')"
      ],
      "execution_count": 3,
      "outputs": []
    },
    {
      "cell_type": "code",
      "metadata": {
        "id": "Ak7OBVoGZqRg"
      },
      "source": [
        "import bamboolib as bam\n",
        "soybean_use"
      ],
      "execution_count": 10,
      "outputs": []
    },
    {
      "cell_type": "code",
      "metadata": {
        "id": "R8eJ_0jTZ4h1"
      },
      "source": [
        "missings = soybean_use.loc[soybean_use['code'].isna()]"
      ],
      "execution_count": 11,
      "outputs": []
    },
    {
      "cell_type": "code",
      "metadata": {
        "id": "EjgIuvZDZtpP"
      },
      "source": [
        "soybean_use = soybean_use.loc[soybean_usep['code'].notna()]\n",
        "soybean_use"
      ],
      "execution_count": 12,
      "outputs": []
    },
    {
      "cell_type": "code",
      "metadata": {
        "id": "e1iyB--kabPS"
      },
      "source": [
        "# Step: Melt columns based on the index columns entity, code, year\n",
        "soybean_use_long = soybean_use.melt(id_vars=['entity', 'code', 'year'])"
      ],
      "execution_count": 13,
      "outputs": []
    },
    {
      "cell_type": "code",
      "metadata": {
        "id": "cMBC3K7naeeF"
      },
      "source": [
        "# Step: Keep rows where entity is one of: World\n",
        "soy_use_world = soybean_use_long.loc[soybean_use_long['entity'].isin(['World'])]"
      ],
      "execution_count": 14,
      "outputs": []
    },
    {
      "cell_type": "code",
      "metadata": {
        "id": "FS59eWgqaibU"
      },
      "source": [
        "# Step: Group by and aggregate\n",
        "soy_use_world_by_year = soy_use_world.groupby(['entity', 'year']).agg(soy_use_in_tonnes_sum=('soy_use_in_tonnes', 'sum')).reset_index()"
      ],
      "execution_count": 15,
      "outputs": []
    },
    {
      "cell_type": "code",
      "metadata": {
        "id": "o_QPJ1_bakSK"
      },
      "source": [
        "import plotly.express as px\n",
        "fig = px.area(soy_use_world_by_year, x='year', y='soy_use_in_tonnes_sum')\n",
        "fig"
      ],
      "execution_count": 18,
      "outputs": []
    },
    {
      "cell_type": "code",
      "metadata": {
        "id": "CHKe48r4anjV"
      },
      "source": [
        "import plotly.express as px\n",
        "fig = px.bar(soy_use_world, x='year', y='soy_use_in_tonnes', color='category', color_discrete_sequence=px.colors.qualitative.Pastel, template='presentation', title='Where has my soy gone? Global soy use in tonnes', labels={'soy_use_in_tonnes': ' ', 'year': ' '})\n",
        "fig"
      ],
      "execution_count": 19,
      "outputs": []
    }
  ]
}