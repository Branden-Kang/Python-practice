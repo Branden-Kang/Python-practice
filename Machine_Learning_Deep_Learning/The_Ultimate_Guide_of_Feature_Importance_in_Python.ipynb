{
  "nbformat": 4,
  "nbformat_minor": 0,
  "metadata": {
    "colab": {
      "name": "The Ultimate Guide of Feature Importance in Python.ipynb",
      "provenance": [],
      "authorship_tag": "ABX9TyPVO+UptTKUCo2RcWoKe5FI"
    },
    "kernelspec": {
      "name": "python3",
      "display_name": "Python 3"
    },
    "language_info": {
      "name": "python"
    }
  },
  "cells": [
    {
      "cell_type": "markdown",
      "metadata": {
        "id": "FVXY5WDYiqWu"
      },
      "source": [
        "[Reference](https://medium.com/swlh/the-ultimate-guide-of-feature-importance-in-python-predictive-hacks-4b8b0ca3578c)"
      ]
    },
    {
      "cell_type": "code",
      "metadata": {
        "id": "q137BaCTiQvH"
      },
      "source": [
        "import pandas as pd\n",
        "import numpy as np\n",
        "import statsmodels.formula.api as smf\n",
        "from sklearn.linear_model import LogisticRegression\n",
        "from sklearn.ensemble import RandomForestClassifier\n",
        "from xgboost import XGBClassifierfrom sklearn.feature_extraction.text import CountVectorizer\n",
        "\n",
        "#we used only the train dataset from Titanic \n",
        "data=pd.read_csv('train.csv') data=data[['Sex','Age','Embarked','Pclass','SibSp','Parch','Survived']] \n",
        "data.dropna(inplace=True)"
      ],
      "execution_count": 1,
      "outputs": []
    },
    {
      "cell_type": "code",
      "metadata": {
        "id": "3IV85CdT4Vir"
      },
      "source": [
        "model=LogisticRegression(random_state=1)\n",
        "\n",
        "features=pd.get_dummies(data[['Sex','Embarked','Pclass','SibSp','Parch']],drop_first=True)\n",
        "\n",
        "features['Age']=data['Age']\n",
        "\n",
        "model.fit(features,data['Survived'])\n",
        "\n",
        "feature_importance=pd.DataFrame({'feature':list(features.columns),'feature_importance':[abs(i) for i in model.coef_[0]]})\n",
        "\n",
        "feature_importance.sort_values('feature_importance',ascending=False)\n",
        "\n",
        "#if you don't want the absolute value\n",
        "\n",
        "#feature_importance=pd.DataFrame({'feature':list(features.columns),'feature_importance':[i for i in model.coef_[0]]})\n",
        "\n",
        "#feature_importance.sort_values('feature_importance',ascending=False)"
      ],
      "execution_count": 2,
      "outputs": []
    },
    {
      "cell_type": "code",
      "metadata": {
        "id": "NRMkKPg34eyJ"
      },
      "source": [
        "model=RandomForestClassifier()\n",
        "\n",
        "model.fit(features,data['Survived'])\n",
        "\n",
        "feature_importances=pd.DataFrame({'features':features.columns,'feature_importance':model.feature_importances_})\n",
        "\n",
        "feature_importances.sort_values('feature_importance',ascending=False)"
      ],
      "execution_count": 3,
      "outputs": []
    },
    {
      "cell_type": "code",
      "metadata": {
        "id": "gY1US8qk4khr"
      },
      "source": [
        "model=smf.logit('Survived~Sex+Age+Embarked+Pclass+SibSp+Parch',data=data)\n",
        "\n",
        "result = model.fit()\n",
        "\n",
        "feature_importances=pd.DataFrame(result.conf_int()[1]).rename(columns={1:'Coefficients'}).eval(\"absolute_coefficients=abs(Coefficients)\")\n",
        "\n",
        "feature_importances.sort_values('absolute_coefficients',ascending=False).drop('Intercept')[['absolute_coefficients']]"
      ],
      "execution_count": 4,
      "outputs": []
    },
    {
      "cell_type": "code",
      "metadata": {
        "id": "LR6aeIH24qfw"
      },
      "source": [
        "model=XGBClassifier()\n",
        "\n",
        "model.fit(features,data['Survived'])\n",
        "\n",
        "feature_importances=pd.DataFrame({'features':features.columns,'feature_importance':model.feature_importances_})\n",
        "\n",
        "print(feature_importances.sort_values('feature_importance',ascending=False))"
      ],
      "execution_count": 5,
      "outputs": []
    },
    {
      "cell_type": "code",
      "metadata": {
        "id": "Oi6jQJ3x4vDP"
      },
      "source": [
        "df=pd.read_csv('SPAM text message 20170820 - Data.csv')\n",
        "\n",
        "df.head()\n",
        "\n",
        "v = CountVectorizer(ngram_range=(1,1))\n",
        "\n",
        "x = v.fit_transform(df['Message'])\n",
        "\n",
        "model=LogisticRegression()\n",
        "\n",
        "model.fit(x,df['Category'])\n",
        "\n",
        "#we are not getting the absolute value\n",
        "\n",
        "feature_importance=pd.DataFrame({'feature':v.get_feature_names(),'feature_importance':model.coef_[0]})\n",
        "\n",
        "feature_importance.sort_values('feature_importance',ascending=False).head(10)"
      ],
      "execution_count": 6,
      "outputs": []
    }
  ]
}