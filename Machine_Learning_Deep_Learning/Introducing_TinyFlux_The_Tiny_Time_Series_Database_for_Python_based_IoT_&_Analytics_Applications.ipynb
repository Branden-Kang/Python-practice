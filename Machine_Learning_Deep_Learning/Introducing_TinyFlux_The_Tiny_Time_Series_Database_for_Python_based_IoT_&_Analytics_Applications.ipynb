{
  "nbformat": 4,
  "nbformat_minor": 0,
  "metadata": {
    "colab": {
      "name": "Introducing TinyFlux: The Tiny Time Series Database for Python-based IoT & Analytics Applications.ipynb",
      "provenance": [],
      "authorship_tag": "ABX9TyOzbuUmPKSYNvBrQyYsOF2O"
    },
    "kernelspec": {
      "name": "python3",
      "display_name": "Python 3"
    },
    "language_info": {
      "name": "python"
    }
  },
  "cells": [
    {
      "cell_type": "markdown",
      "source": [
        "[Reference](https://citrusvanilla.medium.com/introducing-tinyflux-the-tiny-time-series-database-for-python-based-iot-analytics-applications-c3ef3c3bedf)"
      ],
      "metadata": {
        "id": "-eqAel97HT4R"
      }
    },
    {
      "cell_type": "code",
      "source": [
        "!pip install tinyflux"
      ],
      "metadata": {
        "id": "i7pmdcbwHb9x",
        "outputId": "5fa244bd-a5fe-46ba-8229-3319e8b2ef86",
        "colab": {
          "base_uri": "https://localhost:8080/"
        }
      },
      "execution_count": 2,
      "outputs": [
        {
          "output_type": "stream",
          "name": "stdout",
          "text": [
            "Looking in indexes: https://pypi.org/simple, https://us-python.pkg.dev/colab-wheels/public/simple/\n",
            "Collecting tinyflux\n",
            "  Downloading tinyflux-0.1.0a2-py3-none-any.whl (34 kB)\n",
            "Installing collected packages: tinyflux\n",
            "Successfully installed tinyflux-0.1.0a2\n"
          ]
        }
      ]
    },
    {
      "cell_type": "code",
      "execution_count": 3,
      "metadata": {
        "colab": {
          "base_uri": "https://localhost:8080/"
        },
        "id": "xBz5E7i3HSUp",
        "outputId": "10c1ed91-9a3c-4def-bfd7-d861c17296ad"
      },
      "outputs": [
        {
          "output_type": "execute_result",
          "data": {
            "text/plain": [
              "2"
            ]
          },
          "metadata": {},
          "execution_count": 3
        }
      ],
      "source": [
        "from datetime import datetime, timezone\n",
        "from tinyflux import TinyFlux, Point\n",
        "\n",
        "# Init a new TinyFlux DB.\n",
        "db = TinyFlux('my_digital_currencies.db')\n",
        "\n",
        "# Create some sample points.\n",
        "p1 = Point(\n",
        "    time=datetime(2021, 11, 7, 21, 0, tzinfo=timezone.utc),\n",
        "    tags={\"name\": \"Bitcoin\", \"code\": \"BTC\"},\n",
        "    fields={\"price\": 67582.6, \"dominance\": 0.298}\n",
        ")\n",
        "\n",
        "p2 = Point(\n",
        "    time=datetime(2022, 7, 13, 21, 0, tzinfo=timezone.utc),\n",
        "    tags={\"name\": \"Bitcoin\", \"code\": \"BTC\"},\n",
        "    fields={\"price\": 19830.9, \"dominance\": 0.481}\n",
        ")\n",
        "\n",
        "# Insert into the DB.\n",
        "db.insert_multiple([p1, p2])"
      ]
    },
    {
      "cell_type": "code",
      "source": [
        "from tinyflux import TagQuery, TimeQuery\n",
        "\n",
        "# Init new queries.\n",
        "tags, time = TagQuery(), TimeQuery()\n",
        "q1 = (tags.code == \"BTC\")\n",
        "q2 = (time >= datetime(2020, 1, 1, tzinfo=timezone.utc))\n",
        "\n",
        "# Pass the queries to TinyFlux's 'search' method.\n",
        "my_results = db.search(q1 & q2)"
      ],
      "metadata": {
        "id": "rX1RjHjBHXyM"
      },
      "execution_count": 4,
      "outputs": []
    },
    {
      "cell_type": "code",
      "source": [
        "my_results"
      ],
      "metadata": {
        "id": "l4v-zNidHhCg",
        "outputId": "1f587a6a-3a1f-4d18-b2a3-9e68218704b1",
        "colab": {
          "base_uri": "https://localhost:8080/"
        }
      },
      "execution_count": 5,
      "outputs": [
        {
          "output_type": "execute_result",
          "data": {
            "text/plain": [
              "[Point(time=2021-11-07T21:00:00+00:00, measurement=_default, tags=name:Bitcoin; code:BTC, fields=price:67582.6; dominance:0.298),\n",
              " Point(time=2022-07-13T21:00:00+00:00, measurement=_default, tags=name:Bitcoin; code:BTC, fields=price:19830.9; dominance:0.481)]"
            ]
          },
          "metadata": {},
          "execution_count": 5
        }
      ]
    }
  ]
}
