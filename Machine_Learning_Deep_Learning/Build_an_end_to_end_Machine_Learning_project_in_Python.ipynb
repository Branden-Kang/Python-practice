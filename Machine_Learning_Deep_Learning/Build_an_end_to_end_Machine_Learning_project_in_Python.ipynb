{
  "nbformat": 4,
  "nbformat_minor": 0,
  "metadata": {
    "colab": {
      "provenance": [],
      "authorship_tag": "ABX9TyMQagv442W65AgZQtmAgc8l"
    },
    "kernelspec": {
      "name": "python3",
      "display_name": "Python 3"
    },
    "language_info": {
      "name": "python"
    }
  },
  "cells": [
    {
      "cell_type": "markdown",
      "source": [
        "[Reference](https://medium.com/@nivedita.home/why-you-should-learn-api-development-and-containerization-alongside-building-machine-learning-24dd22574d16)"
      ],
      "metadata": {
        "id": "InfOflecIck0"
      }
    },
    {
      "cell_type": "markdown",
      "source": [
        "# Step 1: Train Your Machine Learning Model in Jupyter"
      ],
      "metadata": {
        "id": "TljZZeF-ImhF"
      }
    },
    {
      "cell_type": "code",
      "execution_count": 1,
      "metadata": {
        "colab": {
          "base_uri": "https://localhost:8080/"
        },
        "id": "sIozFgNrIT7W",
        "outputId": "978ce9b7-7405-4c80-9940-95e46837818e"
      },
      "outputs": [
        {
          "output_type": "execute_result",
          "data": {
            "text/plain": [
              "['iris_model.pkl']"
            ]
          },
          "metadata": {},
          "execution_count": 1
        }
      ],
      "source": [
        "import pandas as pd\n",
        "from sklearn.datasets import load_iris\n",
        "from sklearn.model_selection import train_test_split\n",
        "from sklearn.ensemble import RandomForestClassifier\n",
        "import joblib\n",
        "\n",
        "# Load the Iris dataset\n",
        "iris = load_iris()\n",
        "X = iris.data\n",
        "y = iris.target\n",
        "\n",
        "# Split the data into training and test sets\n",
        "X_train, X_test, y_train, y_test = train_test_split(X, y, test_size=0.2, random_state=42)\n",
        "\n",
        "# Train a RandomForest model\n",
        "model = RandomForestClassifier(n_estimators=100, random_state=42)\n",
        "model.fit(X_train, y_train)\n",
        "\n",
        "# Save the trained model to a file\n",
        "joblib.dump(model, 'iris_model.pkl')"
      ]
    },
    {
      "cell_type": "markdown",
      "source": [
        "# Step 2: Create a FastAPI Application"
      ],
      "metadata": {
        "id": "WI1ZDobBIqPl"
      }
    },
    {
      "cell_type": "code",
      "source": [
        "!pip install fastapi"
      ],
      "metadata": {
        "colab": {
          "base_uri": "https://localhost:8080/"
        },
        "id": "NcNGTDaGIyZz",
        "outputId": "a1b932db-3cd0-4ce1-a603-b34b59e09c55"
      },
      "execution_count": 3,
      "outputs": [
        {
          "output_type": "stream",
          "name": "stdout",
          "text": [
            "Collecting fastapi\n",
            "  Downloading fastapi-0.115.3-py3-none-any.whl.metadata (27 kB)\n",
            "Collecting starlette<0.42.0,>=0.40.0 (from fastapi)\n",
            "  Downloading starlette-0.41.0-py3-none-any.whl.metadata (6.0 kB)\n",
            "Requirement already satisfied: pydantic!=1.8,!=1.8.1,!=2.0.0,!=2.0.1,!=2.1.0,<3.0.0,>=1.7.4 in /usr/local/lib/python3.10/dist-packages (from fastapi) (2.9.2)\n",
            "Requirement already satisfied: typing-extensions>=4.8.0 in /usr/local/lib/python3.10/dist-packages (from fastapi) (4.12.2)\n",
            "Requirement already satisfied: annotated-types>=0.6.0 in /usr/local/lib/python3.10/dist-packages (from pydantic!=1.8,!=1.8.1,!=2.0.0,!=2.0.1,!=2.1.0,<3.0.0,>=1.7.4->fastapi) (0.7.0)\n",
            "Requirement already satisfied: pydantic-core==2.23.4 in /usr/local/lib/python3.10/dist-packages (from pydantic!=1.8,!=1.8.1,!=2.0.0,!=2.0.1,!=2.1.0,<3.0.0,>=1.7.4->fastapi) (2.23.4)\n",
            "Requirement already satisfied: anyio<5,>=3.4.0 in /usr/local/lib/python3.10/dist-packages (from starlette<0.42.0,>=0.40.0->fastapi) (3.7.1)\n",
            "Requirement already satisfied: idna>=2.8 in /usr/local/lib/python3.10/dist-packages (from anyio<5,>=3.4.0->starlette<0.42.0,>=0.40.0->fastapi) (3.10)\n",
            "Requirement already satisfied: sniffio>=1.1 in /usr/local/lib/python3.10/dist-packages (from anyio<5,>=3.4.0->starlette<0.42.0,>=0.40.0->fastapi) (1.3.1)\n",
            "Requirement already satisfied: exceptiongroup in /usr/local/lib/python3.10/dist-packages (from anyio<5,>=3.4.0->starlette<0.42.0,>=0.40.0->fastapi) (1.2.2)\n",
            "Downloading fastapi-0.115.3-py3-none-any.whl (94 kB)\n",
            "\u001b[2K   \u001b[90m━━━━━━━━━━━━━━━━━━━━━━━━━━━━━━━━━━━━━━━━\u001b[0m \u001b[32m94.6/94.6 kB\u001b[0m \u001b[31m3.7 MB/s\u001b[0m eta \u001b[36m0:00:00\u001b[0m\n",
            "\u001b[?25hDownloading starlette-0.41.0-py3-none-any.whl (73 kB)\n",
            "\u001b[2K   \u001b[90m━━━━━━━━━━━━━━━━━━━━━━━━━━━━━━━━━━━━━━━━\u001b[0m \u001b[32m73.2/73.2 kB\u001b[0m \u001b[31m6.2 MB/s\u001b[0m eta \u001b[36m0:00:00\u001b[0m\n",
            "\u001b[?25hInstalling collected packages: starlette, fastapi\n",
            "Successfully installed fastapi-0.115.3 starlette-0.41.0\n"
          ]
        }
      ]
    },
    {
      "cell_type": "code",
      "source": [
        "from fastapi import FastAPI\n",
        "from pydantic import BaseModel\n",
        "import joblib\n",
        "import numpy as np\n",
        "\n",
        "# Load the trained model\n",
        "model = joblib.load('iris_model.pkl')\n",
        "\n",
        "# Create a FastAPI instance\n",
        "app = FastAPI()\n",
        "\n",
        "# Define the input data model\n",
        "class IrisInput(BaseModel):\n",
        "    sepal_length: float\n",
        "    sepal_width: float\n",
        "    petal_length: float\n",
        "    petal_width: float\n",
        "\n",
        "# Define the prediction endpoint\n",
        "@app.post(\"/predict\")\n",
        "def predict(iris: IrisInput):\n",
        "    data = np.array([[iris.sepal_length, iris.sepal_width, iris.petal_length, iris.petal_width]])\n",
        "    prediction = model.predict(data)\n",
        "    return {\"prediction\": int(prediction[0])}"
      ],
      "metadata": {
        "id": "CHzjtLkjIpVf"
      },
      "execution_count": 4,
      "outputs": []
    },
    {
      "cell_type": "markdown",
      "source": [
        "# Step 3: Dockerize the FastAPI Application"
      ],
      "metadata": {
        "id": "jOmCxN9UI23g"
      }
    },
    {
      "cell_type": "markdown",
      "source": [
        "```\n",
        "# Use the official Python image from the Docker Hub\n",
        "FROM python:3.8\n",
        "\n",
        "# Set the working directory in the container\n",
        "WORKDIR /app\n",
        "\n",
        "# Copy the requirements file into the container\n",
        "COPY requirements.txt .\n",
        "\n",
        "# Install any dependencies\n",
        "RUN pip install --no-cache-dir -r requirements.txt\n",
        "\n",
        "# Copy the rest of the application code into the container\n",
        "COPY . .\n",
        "\n",
        "# Command to run the FastAPI app\n",
        "CMD [\"uvicorn\", \"app:app\", \"--host\", \"0.0.0.0\", \"--port\", \"80\"]\n",
        "```"
      ],
      "metadata": {
        "id": "I9xjoN2iI7g4"
      }
    },
    {
      "cell_type": "markdown",
      "source": [
        "```\n",
        "# requirements.txt\n",
        "fastapi\n",
        "uvicorn\n",
        "pydantic\n",
        "joblib\n",
        "scikit-learn\n",
        "numpy\n",
        "```"
      ],
      "metadata": {
        "id": "ZSpzowKeI_SS"
      }
    },
    {
      "cell_type": "markdown",
      "source": [
        "# Step 4: Build and Run the Docker Container"
      ],
      "metadata": {
        "id": "JGM82pO4JERB"
      }
    },
    {
      "cell_type": "markdown",
      "source": [
        "```\n",
        "docker build -t iris-model-api .\n",
        "```"
      ],
      "metadata": {
        "id": "r7efOODaJINd"
      }
    },
    {
      "cell_type": "markdown",
      "source": [
        "```\n",
        "docker run -d -p 80:80 iris-model-api\n",
        "```"
      ],
      "metadata": {
        "id": "MT5Dl8ikJKXK"
      }
    },
    {
      "cell_type": "markdown",
      "source": [
        "# Step 5: Test the API"
      ],
      "metadata": {
        "id": "3qXJtIwhJOV5"
      }
    },
    {
      "cell_type": "markdown",
      "source": [
        "```\n",
        "curl -X POST \"http://localhost/predict\" -H \"Content-Type: application/json\" -d '{\"sepal_length\": 5.1, \"sepal_width\": 3.5, \"petal_length\": 1.4, \"petal_width\": 0.2}'\n",
        "```"
      ],
      "metadata": {
        "id": "q1k5kuPaJPnf"
      }
    }
  ]
}
