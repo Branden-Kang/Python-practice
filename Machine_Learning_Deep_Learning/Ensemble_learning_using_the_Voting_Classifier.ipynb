{
  "nbformat": 4,
  "nbformat_minor": 0,
  "metadata": {
    "colab": {
      "name": "Ensemble learning using the Voting Classifier.ipynb",
      "provenance": [],
      "authorship_tag": "ABX9TyMcHX0yvoKUud90Ui93xYyS"
    },
    "kernelspec": {
      "name": "python3",
      "display_name": "Python 3"
    }
  },
  "cells": [
    {
      "cell_type": "markdown",
      "metadata": {
        "id": "01qjH8YpcFlC"
      },
      "source": [
        "[Reference](https://levelup.gitconnected.com/ensemble-learning-using-the-voting-classifier-a28d450be64d)"
      ]
    },
    {
      "cell_type": "code",
      "metadata": {
        "id": "l1mBJ0wDbVi0"
      },
      "source": [
        "import pandas as pd\n",
        "from sklearn.datasets import make_classification, make_regression\n",
        "from sklearn.model_selection import train_test_split\n",
        "                                     \n",
        "from sklearn.metrics import accuracy_score\n",
        "from sklearn.preprocessing import StandardScaler\n",
        "\n",
        "from sklearn.naive_bayes import GaussianNB\n",
        "from sklearn.neighbors import KNeighborsClassifier\n",
        "from sklearn.tree import DecisionTreeClassifier\n",
        "from sklearn.linear_model import LogisticRegression\n",
        "from sklearn.ensemble import VotingClassifier\n",
        "\n",
        "from collections import Counter"
      ],
      "execution_count": 1,
      "outputs": []
    },
    {
      "cell_type": "code",
      "metadata": {
        "id": "gqGzWkMwbWLh"
      },
      "source": [
        "X, y = make_classification(n_samples=500, \n",
        "                           n_features=10,\n",
        "                           random_state=42)\n",
        "\n",
        "X_train, X_test, y_train, y_test = train_test_split(X, y, \n",
        "                                                    test_size=0.2, \n",
        "                                                    stratify=y, \n",
        "                                                    random_state=42)\n",
        "\n",
        "scaler = StandardScaler()\n",
        "X_train = scaler.fit_transform(X_train)\n",
        "X_test = scaler.transform(X_test)"
      ],
      "execution_count": 2,
      "outputs": []
    },
    {
      "cell_type": "code",
      "metadata": {
        "id": "vhPop5QhbYgl"
      },
      "source": [
        "clf_list = [('decision tree', DecisionTreeClassifier()),\n",
        "            ('logistic regression', LogisticRegression()),\n",
        "            ('knn', KNeighborsClassifier()),\n",
        "            ('naive bayes classifier', GaussianNB())]"
      ],
      "execution_count": 3,
      "outputs": []
    },
    {
      "cell_type": "code",
      "metadata": {
        "id": "J5puNc3sbceK",
        "outputId": "a2a71e45-8709-48dd-aa9a-c1232040b7c2",
        "colab": {
          "base_uri": "https://localhost:8080/",
          "height": 85
        }
      },
      "source": [
        "for model_tuple in clf_list:\n",
        "    model = model_tuple[1]\n",
        "    if 'random_state' in model.get_params().keys():\n",
        "        model.set_params(random_state=42)\n",
        "    model.fit(X_train, y_train)\n",
        "    y_pred = model.predict(X_test)\n",
        "    acc = accuracy_score(y_pred, y_test)\n",
        "    print(f\"{model_tuple[0]}'s accuracy: {acc:.2f}\")"
      ],
      "execution_count": 4,
      "outputs": [
        {
          "output_type": "stream",
          "text": [
            "decision tree's accuracy: 0.86\n",
            "logistic regression's accuracy: 0.85\n",
            "knn's accuracy: 0.86\n",
            "naive bayes classifier's accuracy: 0.87\n"
          ],
          "name": "stdout"
        }
      ]
    },
    {
      "cell_type": "code",
      "metadata": {
        "id": "rJlOw_zIbihN",
        "outputId": "2e42c37a-8a4d-46ec-cb2a-c09762ba013f",
        "colab": {
          "base_uri": "https://localhost:8080/",
          "height": 34
        }
      },
      "source": [
        "voting_clf = VotingClassifier(clf_list, voting='hard')\n",
        "voting_clf.fit(X_train, y_train)\n",
        "y_pred = voting_clf.predict(X_test)\n",
        "print(f\"Voting Classifier's accuracy: {accuracy_score(y_pred, y_test):.2f}\")"
      ],
      "execution_count": 5,
      "outputs": [
        {
          "output_type": "stream",
          "text": [
            "Voting Classifier's accuracy: 0.88\n"
          ],
          "name": "stdout"
        }
      ]
    },
    {
      "cell_type": "code",
      "metadata": {
        "id": "O9byCwBkbmXO",
        "outputId": "33b721b3-5da0-421e-d7b9-4a328ab1b71e",
        "colab": {
          "base_uri": "https://localhost:8080/",
          "height": 34
        }
      },
      "source": [
        "voting_clf = VotingClassifier(clf_list, voting='soft')\n",
        "voting_clf.fit(X_train, y_train)\n",
        "y_pred = voting_clf.predict(X_test)\n",
        "print(f\"Voting Classifier's accuracy: {accuracy_score(y_pred, y_test):.2f}\")"
      ],
      "execution_count": 6,
      "outputs": [
        {
          "output_type": "stream",
          "text": [
            "Voting Classifier's accuracy: 0.85\n"
          ],
          "name": "stdout"
        }
      ]
    },
    {
      "cell_type": "code",
      "metadata": {
        "id": "hpX5J1sAb6DP"
      },
      "source": [
        "# load the libraries \n",
        "\n",
        "from sklearn.datasets import make_regression\n",
        "                                     \n",
        "from sklearn.neighbors import KNeighborsRegressor\n",
        "from sklearn.tree import DecisionTreeRegressor\n",
        "from sklearn.linear_model import LinearRegression\n",
        "from sklearn.ensemble import VotingRegressor\n",
        "\n",
        "from sklearn.metrics import mean_squared_error"
      ],
      "execution_count": 8,
      "outputs": []
    },
    {
      "cell_type": "code",
      "metadata": {
        "id": "S57cspy-cAgv"
      },
      "source": [
        "# prepare the dateset \n",
        "X, y = make_regression(n_samples=500, \n",
        "                       n_features=10,\n",
        "                       random_state=42)\n",
        "\n",
        "X_train, X_test, y_train, y_test = train_test_split(X, y, \n",
        "                                                    test_size=0.2, \n",
        "                                                    random_state=42)\n",
        "\n",
        "scaler = StandardScaler()\n",
        "X_train = scaler.fit_transform(X_train)\n",
        "X_test = scaler.transform(X_test)"
      ],
      "execution_count": 12,
      "outputs": []
    },
    {
      "cell_type": "code",
      "metadata": {
        "id": "5bsaj5elbpCt"
      },
      "source": [
        "# define the list of estimators \n",
        "est_list = [('decision tree', DecisionTreeRegressor()),\n",
        "            ('linear regression', LinearRegression()),\n",
        "            ('knn', KNeighborsRegressor())\n",
        "            ]"
      ],
      "execution_count": 13,
      "outputs": []
    },
    {
      "cell_type": "code",
      "metadata": {
        "id": "HIOP5FCGb322",
        "outputId": "4a92edea-d3d3-42c5-c08a-5a4e52432bfa",
        "colab": {
          "base_uri": "https://localhost:8080/",
          "height": 68
        }
      },
      "source": [
        "for model_tuple in est_list:\n",
        "    model = model_tuple[1]\n",
        "    if 'random_state' in model.get_params().keys():\n",
        "        model.set_params(random_state=42)\n",
        "    model.fit(X_train, y_train)\n",
        "    y_pred = model.predict(X_test)\n",
        "    mse = mean_squared_error(y_pred, y_test)\n",
        "    print(f\"{model_tuple[0]}'s MSE: {mse:.2f}\")"
      ],
      "execution_count": 14,
      "outputs": [
        {
          "output_type": "stream",
          "text": [
            "decision tree's MSE: 10651.04\n",
            "linear regression's MSE: 0.00\n",
            "knn's MSE: 4697.50\n"
          ],
          "name": "stdout"
        }
      ]
    },
    {
      "cell_type": "code",
      "metadata": {
        "id": "OSL_psAWb8gq",
        "outputId": "c34b1ae1-ef5b-4f5e-a68e-01048501ee33",
        "colab": {
          "base_uri": "https://localhost:8080/",
          "height": 34
        }
      },
      "source": [
        "voting_reg = VotingRegressor(est_list)\n",
        "voting_reg.fit(X_train, y_train)\n",
        "y_pred = voting_reg.predict(X_test)\n",
        "print(f\"Voting Classifier's accuracy: {mean_squared_error(y_pred, y_test):.2f}\")"
      ],
      "execution_count": 15,
      "outputs": [
        {
          "output_type": "stream",
          "text": [
            "Voting Classifier's accuracy: 2322.66\n"
          ],
          "name": "stdout"
        }
      ]
    }
  ]
}