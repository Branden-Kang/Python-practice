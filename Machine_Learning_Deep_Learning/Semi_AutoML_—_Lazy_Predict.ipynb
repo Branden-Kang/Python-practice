{
  "nbformat": 4,
  "nbformat_minor": 0,
  "metadata": {
    "colab": {
      "name": "Semi-AutoML — Lazy Predict.ipynb",
      "provenance": [],
      "authorship_tag": "ABX9TyPufxur/9zNI870P+SuCcOk"
    },
    "kernelspec": {
      "name": "python3",
      "display_name": "Python 3"
    },
    "language_info": {
      "name": "python"
    }
  },
  "cells": [
    {
      "cell_type": "markdown",
      "metadata": {
        "id": "LdwV6fmmm9LJ"
      },
      "source": [
        "[Reference](https://bobrupakroy.medium.com/semi-automl-lazy-predict-7c94ecb5973e)"
      ]
    },
    {
      "cell_type": "code",
      "metadata": {
        "colab": {
          "base_uri": "https://localhost:8080/",
          "height": 1000
        },
        "id": "svVvVm1lmb09",
        "outputId": "bbad8a1f-2674-475d-f3fc-e3e1fb886d88"
      },
      "source": [
        "pip install lazypredict"
      ],
      "execution_count": 4,
      "outputs": [
        {
          "output_type": "stream",
          "name": "stdout",
          "text": [
            "Collecting lazypredict\n",
            "  Downloading lazypredict-0.2.9-py2.py3-none-any.whl (12 kB)\n",
            "Collecting xgboost==1.1.1\n",
            "  Downloading xgboost-1.1.1-py3-none-manylinux2010_x86_64.whl (127.6 MB)\n",
            "\u001b[K     |████████████████████████████████| 127.6 MB 19 kB/s \n",
            "\u001b[?25hCollecting joblib==1.0.0\n",
            "  Downloading joblib-1.0.0-py3-none-any.whl (302 kB)\n",
            "\u001b[K     |████████████████████████████████| 302 kB 56.3 MB/s \n",
            "\u001b[?25hCollecting tqdm==4.56.0\n",
            "  Downloading tqdm-4.56.0-py2.py3-none-any.whl (72 kB)\n",
            "\u001b[K     |████████████████████████████████| 72 kB 964 kB/s \n",
            "\u001b[?25hCollecting pandas==1.0.5\n",
            "  Downloading pandas-1.0.5-cp37-cp37m-manylinux1_x86_64.whl (10.1 MB)\n",
            "\u001b[K     |████████████████████████████████| 10.1 MB 10.4 MB/s \n",
            "\u001b[?25hRequirement already satisfied: six==1.15.0 in /usr/local/lib/python3.7/dist-packages (from lazypredict) (1.15.0)\n",
            "Collecting numpy==1.19.1\n",
            "  Downloading numpy-1.19.1-cp37-cp37m-manylinux2010_x86_64.whl (14.5 MB)\n",
            "\u001b[K     |████████████████████████████████| 14.5 MB 20.5 MB/s \n",
            "\u001b[?25hCollecting PyYAML==5.3.1\n",
            "  Downloading PyYAML-5.3.1.tar.gz (269 kB)\n",
            "\u001b[K     |████████████████████████████████| 269 kB 41.1 MB/s \n",
            "\u001b[?25hCollecting scipy==1.5.4\n",
            "  Downloading scipy-1.5.4-cp37-cp37m-manylinux1_x86_64.whl (25.9 MB)\n",
            "\u001b[K     |████████████████████████████████| 25.9 MB 1.5 MB/s \n",
            "\u001b[?25hCollecting pytest==5.4.3\n",
            "  Downloading pytest-5.4.3-py3-none-any.whl (248 kB)\n",
            "\u001b[K     |████████████████████████████████| 248 kB 53.7 MB/s \n",
            "\u001b[?25hCollecting scikit-learn==0.23.1\n",
            "  Downloading scikit_learn-0.23.1-cp37-cp37m-manylinux1_x86_64.whl (6.8 MB)\n",
            "\u001b[K     |████████████████████████████████| 6.8 MB 21.6 MB/s \n",
            "\u001b[?25hCollecting lightgbm==2.3.1\n",
            "  Downloading lightgbm-2.3.1-py2.py3-none-manylinux1_x86_64.whl (1.2 MB)\n",
            "\u001b[K     |████████████████████████████████| 1.2 MB 59.7 MB/s \n",
            "\u001b[?25hRequirement already satisfied: click==7.1.2 in /usr/local/lib/python3.7/dist-packages (from lazypredict) (7.1.2)\n",
            "Requirement already satisfied: python-dateutil>=2.6.1 in /usr/local/lib/python3.7/dist-packages (from pandas==1.0.5->lazypredict) (2.8.2)\n",
            "Requirement already satisfied: pytz>=2017.2 in /usr/local/lib/python3.7/dist-packages (from pandas==1.0.5->lazypredict) (2018.9)\n",
            "Requirement already satisfied: wcwidth in /usr/local/lib/python3.7/dist-packages (from pytest==5.4.3->lazypredict) (0.2.5)\n",
            "Requirement already satisfied: more-itertools>=4.0.0 in /usr/local/lib/python3.7/dist-packages (from pytest==5.4.3->lazypredict) (8.11.0)\n",
            "Collecting pluggy<1.0,>=0.12\n",
            "  Downloading pluggy-0.13.1-py2.py3-none-any.whl (18 kB)\n",
            "Requirement already satisfied: attrs>=17.4.0 in /usr/local/lib/python3.7/dist-packages (from pytest==5.4.3->lazypredict) (21.2.0)\n",
            "Requirement already satisfied: packaging in /usr/local/lib/python3.7/dist-packages (from pytest==5.4.3->lazypredict) (21.3)\n",
            "Requirement already satisfied: py>=1.5.0 in /usr/local/lib/python3.7/dist-packages (from pytest==5.4.3->lazypredict) (1.11.0)\n",
            "Requirement already satisfied: importlib-metadata>=0.12 in /usr/local/lib/python3.7/dist-packages (from pytest==5.4.3->lazypredict) (4.8.2)\n",
            "Requirement already satisfied: threadpoolctl>=2.0.0 in /usr/local/lib/python3.7/dist-packages (from scikit-learn==0.23.1->lazypredict) (3.0.0)\n",
            "Requirement already satisfied: typing-extensions>=3.6.4 in /usr/local/lib/python3.7/dist-packages (from importlib-metadata>=0.12->pytest==5.4.3->lazypredict) (3.10.0.2)\n",
            "Requirement already satisfied: zipp>=0.5 in /usr/local/lib/python3.7/dist-packages (from importlib-metadata>=0.12->pytest==5.4.3->lazypredict) (3.6.0)\n",
            "Requirement already satisfied: pyparsing!=3.0.5,>=2.0.2 in /usr/local/lib/python3.7/dist-packages (from packaging->pytest==5.4.3->lazypredict) (3.0.6)\n",
            "Building wheels for collected packages: PyYAML\n",
            "  Building wheel for PyYAML (setup.py) ... \u001b[?25l\u001b[?25hdone\n",
            "  Created wheel for PyYAML: filename=PyYAML-5.3.1-cp37-cp37m-linux_x86_64.whl size=44635 sha256=b5b712672a9a74336e9a68f14102ac8ef2c885e4f6991287b473728ae71db839\n",
            "  Stored in directory: /root/.cache/pip/wheels/5e/03/1e/e1e954795d6f35dfc7b637fe2277bff021303bd9570ecea653\n",
            "Successfully built PyYAML\n",
            "Installing collected packages: numpy, scipy, joblib, scikit-learn, pluggy, xgboost, tqdm, PyYAML, pytest, pandas, lightgbm, lazypredict\n",
            "  Attempting uninstall: numpy\n",
            "    Found existing installation: numpy 1.19.5\n",
            "    Uninstalling numpy-1.19.5:\n",
            "      Successfully uninstalled numpy-1.19.5\n",
            "  Attempting uninstall: scipy\n",
            "    Found existing installation: scipy 1.4.1\n",
            "    Uninstalling scipy-1.4.1:\n",
            "      Successfully uninstalled scipy-1.4.1\n",
            "  Attempting uninstall: joblib\n",
            "    Found existing installation: joblib 1.1.0\n",
            "    Uninstalling joblib-1.1.0:\n",
            "      Successfully uninstalled joblib-1.1.0\n",
            "  Attempting uninstall: scikit-learn\n",
            "    Found existing installation: scikit-learn 1.0.1\n",
            "    Uninstalling scikit-learn-1.0.1:\n",
            "      Successfully uninstalled scikit-learn-1.0.1\n",
            "  Attempting uninstall: pluggy\n",
            "    Found existing installation: pluggy 0.7.1\n",
            "    Uninstalling pluggy-0.7.1:\n",
            "      Successfully uninstalled pluggy-0.7.1\n",
            "  Attempting uninstall: xgboost\n",
            "    Found existing installation: xgboost 0.90\n",
            "    Uninstalling xgboost-0.90:\n",
            "      Successfully uninstalled xgboost-0.90\n",
            "  Attempting uninstall: tqdm\n",
            "    Found existing installation: tqdm 4.62.3\n",
            "    Uninstalling tqdm-4.62.3:\n",
            "      Successfully uninstalled tqdm-4.62.3\n",
            "  Attempting uninstall: PyYAML\n",
            "    Found existing installation: PyYAML 3.13\n",
            "    Uninstalling PyYAML-3.13:\n",
            "      Successfully uninstalled PyYAML-3.13\n",
            "  Attempting uninstall: pytest\n",
            "    Found existing installation: pytest 3.6.4\n",
            "    Uninstalling pytest-3.6.4:\n",
            "      Successfully uninstalled pytest-3.6.4\n",
            "  Attempting uninstall: pandas\n",
            "    Found existing installation: pandas 1.1.5\n",
            "    Uninstalling pandas-1.1.5:\n",
            "      Successfully uninstalled pandas-1.1.5\n",
            "  Attempting uninstall: lightgbm\n",
            "    Found existing installation: lightgbm 2.2.3\n",
            "    Uninstalling lightgbm-2.2.3:\n",
            "      Successfully uninstalled lightgbm-2.2.3\n",
            "\u001b[31mERROR: pip's dependency resolver does not currently take into account all the packages that are installed. This behaviour is the source of the following dependency conflicts.\n",
            "imbalanced-learn 0.8.1 requires scikit-learn>=0.24, but you have scikit-learn 0.23.1 which is incompatible.\n",
            "google-colab 1.0.0 requires pandas~=1.1.0; python_version >= \"3.0\", but you have pandas 1.0.5 which is incompatible.\n",
            "datascience 0.10.6 requires folium==0.2.1, but you have folium 0.8.3 which is incompatible.\n",
            "albumentations 0.1.12 requires imgaug<0.2.7,>=0.2.5, but you have imgaug 0.2.9 which is incompatible.\u001b[0m\n",
            "Successfully installed PyYAML-5.3.1 joblib-1.0.0 lazypredict-0.2.9 lightgbm-2.3.1 numpy-1.19.1 pandas-1.0.5 pluggy-0.13.1 pytest-5.4.3 scikit-learn-0.23.1 scipy-1.5.4 tqdm-4.56.0 xgboost-1.1.1\n"
          ]
        },
        {
          "output_type": "display_data",
          "data": {
            "application/vnd.colab-display-data+json": {
              "pip_warning": {
                "packages": [
                  "numpy",
                  "pandas"
                ]
              }
            }
          },
          "metadata": {}
        }
      ]
    },
    {
      "cell_type": "code",
      "metadata": {
        "colab": {
          "base_uri": "https://localhost:8080/"
        },
        "id": "iGiL0DhhmwOT",
        "outputId": "339fdb42-1d65-421e-e726-4235e301d8d5"
      },
      "source": [
        "#classification\n",
        "from lazypredict.Supervised import LazyClassifier\n",
        "from sklearn.datasets import load_breast_cancer\n",
        "from sklearn.model_selection import train_test_split\n",
        "\n",
        "#dummy dataset\n",
        "data = load_breast_cancer()\n",
        "X = data.data\n",
        "y= data.target\n",
        "\n",
        "X_train, X_test, y_train, y_test = train_test_split(X, y,test_size=.5,random_state =123)\n",
        "clf = LazyClassifier(verbose=0,ignore_warnings=True, custom_metric=None)\n",
        "models,predictions = clf.fit(X_train, X_test, y_train, y_test)\n",
        "\n",
        "print(models)"
      ],
      "execution_count": 1,
      "outputs": [
        {
          "output_type": "stream",
          "name": "stderr",
          "text": [
            "/usr/local/lib/python3.7/dist-packages/sklearn/utils/deprecation.py:143: FutureWarning: The sklearn.utils.testing module is  deprecated in version 0.22 and will be removed in version 0.24. The corresponding classes / functions should instead be imported from sklearn.utils. Anything that cannot be imported from sklearn.utils is now part of the private API.\n",
            "  warnings.warn(message, FutureWarning)\n",
            "100%|██████████| 29/29 [00:01<00:00, 22.45it/s]"
          ]
        },
        {
          "output_type": "stream",
          "name": "stdout",
          "text": [
            "                               Accuracy  ...  Time Taken\n",
            "Model                                    ...            \n",
            "LinearSVC                          0.99  ...        0.05\n",
            "Perceptron                         0.99  ...        0.02\n",
            "LogisticRegression                 0.99  ...        0.05\n",
            "SVC                                0.98  ...        0.02\n",
            "XGBClassifier                      0.98  ...        0.14\n",
            "LabelPropagation                   0.98  ...        0.03\n",
            "LabelSpreading                     0.98  ...        0.03\n",
            "BaggingClassifier                  0.97  ...        0.05\n",
            "PassiveAggressiveClassifier        0.98  ...        0.01\n",
            "SGDClassifier                      0.98  ...        0.02\n",
            "RandomForestClassifier             0.97  ...        0.20\n",
            "CalibratedClassifierCV             0.98  ...        0.03\n",
            "QuadraticDiscriminantAnalysis      0.96  ...        0.02\n",
            "ExtraTreesClassifier               0.97  ...        0.16\n",
            "RidgeClassifierCV                  0.97  ...        0.02\n",
            "LGBMClassifier                     0.96  ...        0.08\n",
            "RidgeClassifier                    0.97  ...        0.02\n",
            "AdaBoostClassifier                 0.96  ...        0.14\n",
            "KNeighborsClassifier               0.96  ...        0.03\n",
            "BernoulliNB                        0.95  ...        0.01\n",
            "LinearDiscriminantAnalysis         0.96  ...        0.04\n",
            "GaussianNB                         0.95  ...        0.01\n",
            "NuSVC                              0.95  ...        0.02\n",
            "ExtraTreeClassifier                0.94  ...        0.01\n",
            "NearestCentroid                    0.95  ...        0.02\n",
            "DecisionTreeClassifier             0.93  ...        0.02\n",
            "DummyClassifier                    0.53  ...        0.01\n",
            "\n",
            "[27 rows x 5 columns]\n"
          ]
        },
        {
          "output_type": "stream",
          "name": "stderr",
          "text": [
            "\n"
          ]
        }
      ]
    },
    {
      "cell_type": "code",
      "metadata": {
        "colab": {
          "base_uri": "https://localhost:8080/"
        },
        "id": "ytNt0yRQmxaj",
        "outputId": "c7b283ba-b4b2-4ef5-eacb-10cbcd619473"
      },
      "source": [
        "#Regression\n",
        "from lazypredict.Supervised import LazyRegressor\n",
        "from sklearn import datasets\n",
        "from sklearn.utils import shuffle\n",
        "import numpy as np\n",
        "\n",
        "#Dummy Dataset\n",
        "boston = datasets.load_boston()\n",
        "X, y = shuffle(boston.data, boston.target, random_state=13)\n",
        "X = X.astype(np.float32)\n",
        "\n",
        "offset = int(X.shape[0] * 0.9)\n",
        "\n",
        "X_train, y_train = X[:offset], y[:offset]\n",
        "X_test, y_test = X[offset:], y[offset:]\n",
        "\n",
        "reg = LazyRegressor(verbose=0, ignore_warnings=False, custom_metric=None)\n",
        "models, predictions = reg.fit(X_train, X_test, y_train, y_test)\n",
        "\n",
        "print(models)\n",
        "print(predictions)"
      ],
      "execution_count": 2,
      "outputs": [
        {
          "output_type": "stream",
          "name": "stderr",
          "text": [
            "100%|██████████| 42/42 [00:03<00:00, 12.19it/s]"
          ]
        },
        {
          "output_type": "stream",
          "name": "stdout",
          "text": [
            "                               Adjusted R-Squared  R-Squared  RMSE  Time Taken\n",
            "Model                                                                         \n",
            "SVR                                          0.83       0.88  2.62        0.03\n",
            "BaggingRegressor                             0.83       0.88  2.63        0.06\n",
            "NuSVR                                        0.82       0.86  2.76        0.07\n",
            "RandomForestRegressor                        0.81       0.86  2.78        0.39\n",
            "XGBRegressor                                 0.81       0.86  2.79        0.09\n",
            "GradientBoostingRegressor                    0.81       0.86  2.84        0.17\n",
            "ExtraTreesRegressor                          0.79       0.84  2.98        0.23\n",
            "AdaBoostRegressor                            0.78       0.83  3.04        0.12\n",
            "HistGradientBoostingRegressor                0.77       0.83  3.06        0.28\n",
            "PoissonRegressor                             0.77       0.83  3.11        0.02\n",
            "LGBMRegressor                                0.77       0.83  3.11        0.09\n",
            "KNeighborsRegressor                          0.77       0.83  3.12        0.01\n",
            "DecisionTreeRegressor                        0.65       0.74  3.79        0.01\n",
            "MLPRegressor                                 0.65       0.74  3.80        1.10\n",
            "HuberRegressor                               0.64       0.74  3.84        0.02\n",
            "GammaRegressor                               0.64       0.73  3.88        0.01\n",
            "LinearSVR                                    0.62       0.72  3.96        0.01\n",
            "RidgeCV                                      0.62       0.72  3.97        0.01\n",
            "BayesianRidge                                0.62       0.72  3.97        0.01\n",
            "Ridge                                        0.62       0.72  3.97        0.01\n",
            "TransformedTargetRegressor                   0.62       0.72  3.97        0.01\n",
            "LinearRegression                             0.62       0.72  3.97        0.01\n",
            "ElasticNetCV                                 0.62       0.72  3.98        0.07\n",
            "LassoCV                                      0.62       0.72  3.98        0.09\n",
            "LassoLarsIC                                  0.62       0.72  3.98        0.02\n",
            "LassoLarsCV                                  0.62       0.72  3.98        0.05\n",
            "Lars                                         0.61       0.72  3.99        0.02\n",
            "LarsCV                                       0.61       0.71  4.02        0.07\n",
            "SGDRegressor                                 0.60       0.70  4.07        0.01\n",
            "TweedieRegressor                             0.59       0.70  4.12        0.01\n",
            "GeneralizedLinearRegressor                   0.59       0.70  4.12        0.02\n",
            "ElasticNet                                   0.58       0.69  4.16        0.01\n",
            "Lasso                                        0.54       0.66  4.35        0.03\n",
            "RANSACRegressor                              0.53       0.65  4.41        0.08\n",
            "OrthogonalMatchingPursuitCV                  0.45       0.59  4.78        0.02\n",
            "PassiveAggressiveRegressor                   0.37       0.54  5.09        0.01\n",
            "GaussianProcessRegressor                     0.23       0.43  5.65        0.04\n",
            "OrthogonalMatchingPursuit                    0.16       0.38  5.89        0.03\n",
            "ExtraTreeRegressor                           0.08       0.32  6.17        0.01\n",
            "DummyRegressor                              -0.38      -0.02  7.56        0.01\n",
            "LassoLars                                   -0.38      -0.02  7.56        0.01\n",
            "KernelRidge                                -11.50      -8.25 22.74        0.02\n",
            "                               Adjusted R-Squared  R-Squared  RMSE  Time Taken\n",
            "Model                                                                         \n",
            "SVR                                          0.83       0.88  2.62        0.03\n",
            "BaggingRegressor                             0.83       0.88  2.63        0.06\n",
            "NuSVR                                        0.82       0.86  2.76        0.07\n",
            "RandomForestRegressor                        0.81       0.86  2.78        0.39\n",
            "XGBRegressor                                 0.81       0.86  2.79        0.09\n",
            "GradientBoostingRegressor                    0.81       0.86  2.84        0.17\n",
            "ExtraTreesRegressor                          0.79       0.84  2.98        0.23\n",
            "AdaBoostRegressor                            0.78       0.83  3.04        0.12\n",
            "HistGradientBoostingRegressor                0.77       0.83  3.06        0.28\n",
            "PoissonRegressor                             0.77       0.83  3.11        0.02\n",
            "LGBMRegressor                                0.77       0.83  3.11        0.09\n",
            "KNeighborsRegressor                          0.77       0.83  3.12        0.01\n",
            "DecisionTreeRegressor                        0.65       0.74  3.79        0.01\n",
            "MLPRegressor                                 0.65       0.74  3.80        1.10\n",
            "HuberRegressor                               0.64       0.74  3.84        0.02\n",
            "GammaRegressor                               0.64       0.73  3.88        0.01\n",
            "LinearSVR                                    0.62       0.72  3.96        0.01\n",
            "RidgeCV                                      0.62       0.72  3.97        0.01\n",
            "BayesianRidge                                0.62       0.72  3.97        0.01\n",
            "Ridge                                        0.62       0.72  3.97        0.01\n",
            "TransformedTargetRegressor                   0.62       0.72  3.97        0.01\n",
            "LinearRegression                             0.62       0.72  3.97        0.01\n",
            "ElasticNetCV                                 0.62       0.72  3.98        0.07\n",
            "LassoCV                                      0.62       0.72  3.98        0.09\n",
            "LassoLarsIC                                  0.62       0.72  3.98        0.02\n",
            "LassoLarsCV                                  0.62       0.72  3.98        0.05\n",
            "Lars                                         0.61       0.72  3.99        0.02\n",
            "LarsCV                                       0.61       0.71  4.02        0.07\n",
            "SGDRegressor                                 0.60       0.70  4.07        0.01\n",
            "TweedieRegressor                             0.59       0.70  4.12        0.01\n",
            "GeneralizedLinearRegressor                   0.59       0.70  4.12        0.02\n",
            "ElasticNet                                   0.58       0.69  4.16        0.01\n",
            "Lasso                                        0.54       0.66  4.35        0.03\n",
            "RANSACRegressor                              0.53       0.65  4.41        0.08\n",
            "OrthogonalMatchingPursuitCV                  0.45       0.59  4.78        0.02\n",
            "PassiveAggressiveRegressor                   0.37       0.54  5.09        0.01\n",
            "GaussianProcessRegressor                     0.23       0.43  5.65        0.04\n",
            "OrthogonalMatchingPursuit                    0.16       0.38  5.89        0.03\n",
            "ExtraTreeRegressor                           0.08       0.32  6.17        0.01\n",
            "DummyRegressor                              -0.38      -0.02  7.56        0.01\n",
            "LassoLars                                   -0.38      -0.02  7.56        0.01\n",
            "KernelRidge                                -11.50      -8.25 22.74        0.02\n"
          ]
        },
        {
          "output_type": "stream",
          "name": "stderr",
          "text": [
            "\n"
          ]
        }
      ]
    }
  ]
}