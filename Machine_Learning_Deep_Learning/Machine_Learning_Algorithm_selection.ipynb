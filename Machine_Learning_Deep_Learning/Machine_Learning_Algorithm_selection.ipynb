{
  "nbformat": 4,
  "nbformat_minor": 0,
  "metadata": {
    "colab": {
      "name": "Machine Learning Algorithm selection.ipynb",
      "provenance": [],
      "authorship_tag": "ABX9TyMuGKZIgEKTXSKikQZq4ntj"
    },
    "kernelspec": {
      "name": "python3",
      "display_name": "Python 3"
    }
  },
  "cells": [
    {
      "cell_type": "markdown",
      "metadata": {
        "id": "HwZEWETn8pQF"
      },
      "source": [
        "[Reference](https://medium.com/analytics-vidhya/which-machine-learning-algorithm-should-you-use-by-problem-type-a53967326566)"
      ]
    },
    {
      "cell_type": "markdown",
      "metadata": {
        "id": "ApQiTrc98uRQ"
      },
      "source": [
        "![ml](https://miro.medium.com/max/1400/1*6iDmbHflsN6NULBLpVHA6A.png)"
      ]
    },
    {
      "cell_type": "markdown",
      "metadata": {
        "id": "MGuBxIJu9Oim"
      },
      "source": [
        "    Linear regression\n",
        "    Logistic regression\n",
        "    Decision tree\n",
        "    Naive Bayes\n",
        "    Support vector machine\n",
        "    Random forest\n",
        "    AdaBoost\n",
        "    Gradient-boosting trees\n",
        "    Simple neural network\n",
        "    Hierarchical clustering\n",
        "    Gaussian mixture model\n",
        "    Convolutional neural network\n",
        "    Recurrent neural network\n",
        "    Recommender system"
      ]
    },
    {
      "cell_type": "markdown",
      "metadata": {
        "id": "IKcXmEL99SJW"
      },
      "source": [
        "Problem Statement 1 - To Predict the Housing Prices: Advanced regression techniques like random forest and gradient boosting"
      ]
    },
    {
      "cell_type": "markdown",
      "metadata": {
        "id": "r3V-EuLG9WIr"
      },
      "source": [
        "Problem Statement 2 - Explore customer demographic data to identify patterns: Clustering (elbow method)"
      ]
    },
    {
      "cell_type": "markdown",
      "metadata": {
        "id": "UHFPIbmW9ai5"
      },
      "source": [
        "Problem Statement 3 - Predicitng Loan Repayment: Classification Algorithms for imbalanced dataset"
      ]
    },
    {
      "cell_type": "markdown",
      "metadata": {
        "id": "pL7IY_LJ9d0u"
      },
      "source": [
        "Problem Statement 4 - Predict if a skin lesion is benign or malignant based on its characteristics (size, shape, color, etc): Convolutional Neural Network ( U-Net being the best for segmentation stuffs)"
      ]
    },
    {
      "cell_type": "markdown",
      "metadata": {
        "id": "Vf-6LHnm9hnL"
      },
      "source": [
        "Problem Statement 5 - Predict client churn: Linear discriminant analysis (LDA) or Quadratic discriminant analysis (QDA) (particularly popular because it is both a classifier and a dimensionality reduction technique)"
      ]
    },
    {
      "cell_type": "markdown",
      "metadata": {
        "id": "ZjFURClg9n2f"
      },
      "source": [
        "Problem Statement 6 - Provide a decision framework for hiring new employees: Decision Tree"
      ]
    },
    {
      "cell_type": "markdown",
      "metadata": {
        "id": "0jMkCHWO9rkr"
      },
      "source": [
        "Problem Statement 7 - Understand and predict product attributes that make a product most likely to be purchased: Logistic Regression and Decision Tree"
      ]
    },
    {
      "cell_type": "markdown",
      "metadata": {
        "id": "KAQgeU0D9xbA"
      },
      "source": [
        "Problem Statement 8 - Analyze sentiment to assess product perception in the market: Naive Bayes — Support Vector Machines (NBSVM)"
      ]
    },
    {
      "cell_type": "markdown",
      "metadata": {
        "id": "noSl_L7n92JL"
      },
      "source": [
        "Problem Statement 9 - Create classification system to filter out spam emails: Naive Bayes, SVM , Multilayer Perceptron Neural Networks (MLPNNs) and Radial Base Function Neural Networks (RBFNN) suggested"
      ]
    },
    {
      "cell_type": "markdown",
      "metadata": {
        "id": "ppoaxMMI96Y2"
      },
      "source": [
        "Problem Statement 10 - Predict how likely someone is to click on an online ad: Logistic Regression and Support Vector Machines"
      ]
    },
    {
      "cell_type": "markdown",
      "metadata": {
        "id": "BbKrmiOP9-aQ"
      },
      "source": [
        "Problem Statement 11 - Detect fraudulent activity in credit-card transactions: Adaboost, Isolation Forest, and Random Forest"
      ]
    },
    {
      "cell_type": "markdown",
      "metadata": {
        "id": "JQiMYepb-EDC"
      },
      "source": [
        "Problem Statement 12 - Predict the price of cars based on their characteristics: Gradient-boosting trees"
      ]
    },
    {
      "cell_type": "markdown",
      "metadata": {
        "id": "aFAQDLej-HM4"
      },
      "source": [
        "Problem Statement 13 - Predict the probability that a patient joins a healthcare program: Simple neural networks"
      ]
    },
    {
      "cell_type": "markdown",
      "metadata": {
        "id": "yWoyxJN9-J8O"
      },
      "source": [
        "Problem Statement 14 - Predict whether registered users will be willing or not to pay a particular price for a product: Neural Networks"
      ]
    },
    {
      "cell_type": "markdown",
      "metadata": {
        "id": "ChHLQkYm-OQ4"
      },
      "source": [
        "Problem Statement 15 - Segment customers into groups by distinct charateristics (eg, age group): K-means clustering"
      ]
    },
    {
      "cell_type": "markdown",
      "metadata": {
        "id": "sKla0yB--SCJ"
      },
      "source": [
        "Problem Statement 16 - Feature extraction from speech data for use in speech recognition systems: Gaussian mixture model"
      ]
    },
    {
      "cell_type": "markdown",
      "metadata": {
        "id": "y-Ke0nzn-Uzh"
      },
      "source": [
        "Problem Statement 17 - Object tracking of multiple objects, where the number of mixture components and their means predict object locations at each frame in a video sequence: Gaussian mixture model"
      ]
    },
    {
      "cell_type": "markdown",
      "metadata": {
        "id": "-s0dgFLv-bYA"
      },
      "source": [
        "Problem Statement 18 - Organizing the genes and samples from a set of microarray experiments so as to reveal biologically interesting patterns: Hierarchical clustering algorithms"
      ]
    },
    {
      "cell_type": "markdown",
      "metadata": {
        "id": "wt0wTHR5-k60"
      },
      "source": [
        "Problem Statement 19 - Recommend what movies consumers should view based on preferences of other customers with similar attributes: Recommender system"
      ]
    },
    {
      "cell_type": "markdown",
      "metadata": {
        "id": "GcEW4ReU-oJ0"
      },
      "source": [
        "Problem Statement 20 - Recommend news articles a reader might want to read based on the article she or he is reading: Recommender system"
      ]
    },
    {
      "cell_type": "markdown",
      "metadata": {
        "id": "vMLEHeud-rWM"
      },
      "source": [
        "Problem Statement 21 - Recommend news articles a reader might want to read based on the article she or he is reading: Recommender system"
      ]
    },
    {
      "cell_type": "markdown",
      "metadata": {
        "id": "hM1RPzOG-uK7"
      },
      "source": [
        "Problem Statement 22 - Optimize the driving behavior of self-driving cars: Reinforcement Learning"
      ]
    },
    {
      "cell_type": "markdown",
      "metadata": {
        "id": "r6mtmtSn-xSl"
      },
      "source": [
        "Problem Statement 23 - Diagnose health diseases from medical scans: Convolutional Neural Networks"
      ]
    },
    {
      "cell_type": "markdown",
      "metadata": {
        "id": "XrQD9_Mr-0RV"
      },
      "source": [
        "Problem Statement 24 - Balance the load of electricity grids in varying demand cycles: Reinforcement Learning"
      ]
    },
    {
      "cell_type": "markdown",
      "metadata": {
        "id": "w6rE4Stb-3Qy"
      },
      "source": [
        "Problem Statement 25 - When you are working with time-series data or sequences (eg, audio recordings or text): Recurrent neural network and LSTM"
      ]
    },
    {
      "cell_type": "markdown",
      "metadata": {
        "id": "gBwRYo9K-7WA"
      },
      "source": [
        "Problem Statement 26 - Provide language translation: Recurrent neural network"
      ]
    },
    {
      "cell_type": "markdown",
      "metadata": {
        "id": "lmRjMo4L--Ct"
      },
      "source": [
        "Problem Statement 27 - Generate captions for images: Recurrent neural network"
      ]
    },
    {
      "cell_type": "markdown",
      "metadata": {
        "id": "n1qZyT5G_A-p"
      },
      "source": [
        "Problem Statement 28 - Power chatbots that can address more nuanced customer needs and inquiries: Recurrent neural network"
      ]
    }
  ]
}