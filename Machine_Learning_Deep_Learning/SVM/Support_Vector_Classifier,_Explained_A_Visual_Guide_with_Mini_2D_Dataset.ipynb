{
  "nbformat": 4,
  "nbformat_minor": 0,
  "metadata": {
    "colab": {
      "provenance": [],
      "authorship_tag": "ABX9TyOGveaxWFf1aGT8WeD3FVC4"
    },
    "kernelspec": {
      "name": "python3",
      "display_name": "Python 3"
    },
    "language_info": {
      "name": "python"
    }
  },
  "cells": [
    {
      "cell_type": "markdown",
      "source": [
        "[Reference](https://towardsdatascience.com/support-vector-classifier-explained-a-visual-guide-with-mini-2d-dataset-62e831e7b9e9)"
      ],
      "metadata": {
        "id": "xa2jyEuBN0ss"
      }
    },
    {
      "cell_type": "code",
      "execution_count": 1,
      "metadata": {
        "colab": {
          "base_uri": "https://localhost:8080/"
        },
        "id": "Y-kU9AvfM1yc",
        "outputId": "c00ebf54-50a0-4c5f-b685-8669da19e609"
      },
      "outputs": [
        {
          "output_type": "stream",
          "name": "stdout",
          "text": [
            "Training Data, Lagrange Multipliers, and Support Vectors:\n",
            "   🌞  💧  y         α  Is SV\n",
            "1  0  0  1  1.000000   True\n",
            "2  1  0 -1  0.224847   True\n",
            "3  1  1 -1  1.000000   True\n",
            "4  2  0 -1  1.000000   True\n",
            "5  3  1  1  1.000000   True\n",
            "6  3  2  1  0.323146   True\n",
            "7  2  3  1  0.901701   True\n",
            "8  3  3 -1  1.000000   True\n",
            "\n",
            "Test Data and Predictions:\n",
            "    🌞  💧  y  ŷ\n",
            "9   0  1 -1 -1\n",
            "10  0  2 -1 -1\n",
            "11  1  3  1  1\n",
            "12  2  2  1  1\n",
            "13  3  1  1  1\n"
          ]
        }
      ],
      "source": [
        "import numpy as np\n",
        "import pandas as pd\n",
        "from sklearn.svm import SVC\n",
        "\n",
        "# Create DataFrame\n",
        "df = pd.DataFrame({\n",
        "    '🌞': [0, 1, 1, 2, 3, 3, 2, 3, 0, 0, 1, 2, 3],\n",
        "    '💧': [0, 0, 1, 0, 1, 2, 3, 3, 1, 2, 3, 2, 1],\n",
        "    'y': [1, -1, -1, -1, 1, 1, 1, -1, -1, -1, 1, 1, 1]\n",
        "}, index=range(1, 14))\n",
        "\n",
        "# Split into train and test\n",
        "train_df, test_df = df.iloc[:8].copy(), df.iloc[8:].copy()\n",
        "X_train, y_train = train_df[['🌞', '💧']], train_df['y']\n",
        "X_test, y_test = test_df[['🌞', '💧']], test_df['y']\n",
        "\n",
        "# Create and fit SVC model with polynomial kernel\n",
        "svc = SVC(kernel='poly', degree=2, coef0=1, C=1)\n",
        "svc.fit(X_train, y_train)\n",
        "\n",
        "# Add Lagrange multipliers and support vector status\n",
        "train_df['α'] = 0.0\n",
        "train_df.loc[svc.support_ + 1, 'α'] = np.abs(svc.dual_coef_[0])\n",
        "train_df['Is SV'] = train_df.index.isin(svc.support_ + 1)\n",
        "\n",
        "print(\"Training Data, Lagrange Multipliers, and Support Vectors:\")\n",
        "print(train_df)\n",
        "\n",
        "# Make predictions\n",
        "test_df['ŷ'] = svc.predict(X_test)\n",
        "print(\"\\nTest Data and Predictions:\")\n",
        "print(test_df)"
      ]
    }
  ]
}
