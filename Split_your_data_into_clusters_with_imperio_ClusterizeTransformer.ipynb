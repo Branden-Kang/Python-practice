{
  "nbformat": 4,
  "nbformat_minor": 0,
  "metadata": {
    "colab": {
      "name": "Split your data into clusters with imperio ClusterizeTransformer.ipynb",
      "provenance": [],
      "authorship_tag": "ABX9TyN+Oo220Enm/KXFPYuxhjHb"
    },
    "kernelspec": {
      "name": "python3",
      "display_name": "Python 3"
    },
    "language_info": {
      "name": "python"
    }
  },
  "cells": [
    {
      "cell_type": "markdown",
      "source": [
        "[Reference](https://medium.com/softplus-publication/split-your-data-into-clusters-with-imperio-clusterizetransformer-1e5d4166296f)"
      ],
      "metadata": {
        "id": "WmI--alWgrZ0"
      }
    },
    {
      "cell_type": "code",
      "execution_count": 1,
      "metadata": {
        "colab": {
          "base_uri": "https://localhost:8080/"
        },
        "id": "kYgooow3gqCG",
        "outputId": "4ba09e54-d1d1-491d-b678-7e08b73fe8c9"
      },
      "outputs": [
        {
          "output_type": "stream",
          "name": "stdout",
          "text": [
            "Collecting imperio\n",
            "  Downloading imperio-0.1.3.tar.gz (10 kB)\n",
            "Requirement already satisfied: numpy in /usr/local/lib/python3.7/dist-packages (from imperio) (1.19.5)\n",
            "Requirement already satisfied: pandas in /usr/local/lib/python3.7/dist-packages (from imperio) (1.3.5)\n",
            "Requirement already satisfied: scikit-learn in /usr/local/lib/python3.7/dist-packages (from imperio) (1.0.2)\n",
            "Requirement already satisfied: python-dateutil>=2.7.3 in /usr/local/lib/python3.7/dist-packages (from pandas->imperio) (2.8.2)\n",
            "Requirement already satisfied: pytz>=2017.3 in /usr/local/lib/python3.7/dist-packages (from pandas->imperio) (2018.9)\n",
            "Requirement already satisfied: six>=1.5 in /usr/local/lib/python3.7/dist-packages (from python-dateutil>=2.7.3->pandas->imperio) (1.15.0)\n",
            "Requirement already satisfied: joblib>=0.11 in /usr/local/lib/python3.7/dist-packages (from scikit-learn->imperio) (1.1.0)\n",
            "Requirement already satisfied: threadpoolctl>=2.0.0 in /usr/local/lib/python3.7/dist-packages (from scikit-learn->imperio) (3.1.0)\n",
            "Requirement already satisfied: scipy>=1.1.0 in /usr/local/lib/python3.7/dist-packages (from scikit-learn->imperio) (1.4.1)\n",
            "Building wheels for collected packages: imperio\n",
            "  Building wheel for imperio (setup.py) ... \u001b[?25l\u001b[?25hdone\n",
            "  Created wheel for imperio: filename=imperio-0.1.3-py3-none-any.whl size=23258 sha256=b158c7074fa127ad3a0518ae96eb748e62371d5bdd9a9f06f13e209c37f4e26a\n",
            "  Stored in directory: /root/.cache/pip/wheels/df/5a/6b/9c17746cb0f542cf045a057de59bede0ae2c85d79b9371cd90\n",
            "Successfully built imperio\n",
            "Installing collected packages: imperio\n",
            "Successfully installed imperio-0.1.3\n"
          ]
        }
      ],
      "source": [
        "pip install imperio"
      ]
    },
    {
      "cell_type": "code",
      "source": [
        "from imperio import ClusterizeTransformer\n",
        "kmeans = KMeans(n_clusters=2)\n",
        "cluster = ClusterizeTransformer(kmeans)\n",
        "X_transformed = cluster.fit_transform(X)\n",
        "\n",
        "from sklearn.pipeline import Pipeline\n",
        "from imperio import ClusterizeTransformer\n",
        "from sklearn.preprocessing import  StandardScaler\n",
        "from sklearn.linear_model import LogisticRegression\n",
        "from sklearn.cluster import KMeans\n",
        "pipe = Pipeline(\n",
        "    [\n",
        "     ('std', StandardScaler()),    \n",
        "     ('cluster', ClusterizeTransformer(KMeans(n_clusters = 5))),\n",
        "     ('model', LogisticRegression())\n",
        "])\n",
        "\n",
        "new_df = cluster.apply(df, target = 'target')"
      ],
      "metadata": {
        "id": "bTysCK3AgvC3"
      },
      "execution_count": 2,
      "outputs": []
    }
  ]
}