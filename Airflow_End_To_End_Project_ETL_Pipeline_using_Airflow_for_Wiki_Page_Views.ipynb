{
  "nbformat": 4,
  "nbformat_minor": 0,
  "metadata": {
    "colab": {
      "provenance": [],
      "authorship_tag": "ABX9TyNz/uebX9kbXZg4Z0pPgfhH"
    },
    "kernelspec": {
      "name": "python3",
      "display_name": "Python 3"
    },
    "language_info": {
      "name": "python"
    }
  },
  "cells": [
    {
      "cell_type": "markdown",
      "source": [
        "[Reference](https://vivekjadhavr.medium.com/airflow-end-to-end-project-etl-pipeline-using-airflow-for-wiki-page-views-a49dd804c34a)"
      ],
      "metadata": {
        "id": "2gP9TzgB5d-x"
      }
    },
    {
      "cell_type": "code",
      "execution_count": 1,
      "metadata": {
        "id": "UhUJbrF040xm"
      },
      "outputs": [],
      "source": [
        "import airflow.utils.dates\n",
        "from airflow import DAG\n",
        "from airflow.operators.bash import BashOperator\n",
        "from airflow.operators.python import PythonOperator\n",
        "from airflow.providers.microsoft.mssql.operators.mssql import MsSqlOperator\n",
        "\n",
        "#Defining DAG\n",
        "dag = DAG(\n",
        "  dag_id=\"wikipediaPageViews\",\n",
        "  start_date=airflow.utils.dates.days_ago(0),\n",
        "  schedule_interval=\"@hourly\",\n",
        "  catchup=False,\n",
        "  template_searchpath=\"/tmp\"\n",
        ")\n",
        "\n",
        "#Task 1: Obtain Data from source\n",
        "get_data = BashOperator(\n",
        "  task_id=\"get_data\",\n",
        "  bash_command=(\n",
        "    \"curl -o /tmp/wikipageviews_{{execution_date}}.gz \"\n",
        "    \"https://dumps.wikimedia.org/other/pageviews/\"\n",
        "    \"{{ execution_date.year }}/\"\n",
        "    \"{{ execution_date.year }}-\"\n",
        "    \"{{ '{:02}'.format(execution_date.month) }}/\"\n",
        "    \"pageviews-{{ execution_date.year }}\"\n",
        "    \"{{ '{:02}'.format(execution_date.month) }}\"\n",
        "    \"{{ '{:02}'.format(execution_date.day) }}-\"\n",
        "    \"{{ '{:02}'.format(execution_date.hour) }}0000.gz\"\n",
        "  ),\n",
        "  dag=dag,\n",
        ")\n",
        "\n",
        "#Task 2: Unzip the extracted file\n",
        "extract_gz = BashOperator(\n",
        "    task_id=\"extract_gz\",\n",
        "    bash_command=\"gunzip --force /tmp/wikipageviews_{{execution_date}}.gz\",\n",
        "    dag=dag,\n",
        ")\n",
        "\n",
        "#Python callable function used in Python operator\n",
        "def _fetch_pageviews(pagenames,**context):\n",
        "    result = dict.fromkeys(pagenames, 0)\n",
        "    with open(f\"/tmp/wikipageviews_{context['execution_date']}\", \"r\") as f:\n",
        "        for line in f:\n",
        "            domain_code, page_title, view_counts, _ = line.split(\" \")\n",
        "            if domain_code == \"en\" and page_title in pagenames:\n",
        "                result[page_title] = view_counts\n",
        "\n",
        "    with open(f\"/tmp/sqlserver_query.sql\", \"w\") as f:\n",
        "       f.write(f\"Delete from pageview_counts where datetime='{context['execution_date']}';\")\n",
        "       for pagename, pageviewcount in result.items():\n",
        "           f.write(\n",
        "               \"INSERT INTO pageview_counts VALUES (\"\n",
        "               f\"'{pagename}', {pageviewcount}, '{context['execution_date']}'\"\n",
        "               \");\\n\"\n",
        "           )\n",
        "\n",
        "#Task 3: Perform transformation and generate sql script\n",
        "fetch_pageviews = PythonOperator(\n",
        "    task_id=\"fetch_pageviews\",\n",
        "    python_callable=_fetch_pageviews,\n",
        "    op_kwargs={\n",
        "        \"pagenames\": {\n",
        "            \"Google\",\n",
        "            \"Amazon\",\n",
        "            \"Apple\",\n",
        "            \"Microsoft\",\n",
        "            \"Facebook\",\n",
        "        }\n",
        "    },\n",
        "    dag=dag,\n",
        ")\n",
        "\n",
        "#Task 4: Inserts data into SQL server\n",
        "write_to_sqlserever = MsSqlOperator(\n",
        "   task_id=\"write_to_sqlserever\",\n",
        "   mssql_conn_id=\"my_sqlserver\",\n",
        "   sql=\"sqlserver_query.sql\",\n",
        "   database=\"master\",\n",
        "   dag=dag,\n",
        ")\n",
        "\n",
        "#Defining task dependencies\n",
        "get_data>>extract_gz>>fetch_pageviews>>write_to_sqlserever"
      ]
    }
  ]
}