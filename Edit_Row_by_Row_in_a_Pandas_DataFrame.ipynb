{
  "nbformat": 4,
  "nbformat_minor": 0,
  "metadata": {
    "colab": {
      "name": "Edit Row by Row in a Pandas DataFrame.ipynb",
      "provenance": [],
      "authorship_tag": "ABX9TyN45MdU0vio4T41W8aHW61x"
    },
    "kernelspec": {
      "name": "python3",
      "display_name": "Python 3"
    }
  },
  "cells": [
    {
      "cell_type": "markdown",
      "metadata": {
        "id": "XfrsRMpDtcLi"
      },
      "source": [
        "[Reference](https://towardsdatascience.com/a-really-simple-way-to-edit-row-by-row-in-a-pandas-dataframe-75d339cbd313)"
      ]
    },
    {
      "cell_type": "code",
      "metadata": {
        "id": "gvgFUa4ztbDV"
      },
      "source": [
        "import pandas as pd"
      ],
      "execution_count": 1,
      "outputs": []
    },
    {
      "cell_type": "code",
      "metadata": {
        "id": "Req038T7te1Y"
      },
      "source": [
        "df = pd.read_html('https://finance.yahoo.com/quote/TSLA/profile?p=TSLA')[0]"
      ],
      "execution_count": 2,
      "outputs": []
    },
    {
      "cell_type": "code",
      "metadata": {
        "colab": {
          "base_uri": "https://localhost:8080/",
          "height": 37
        },
        "id": "kBES_Jbythph",
        "outputId": "40b768a4-d3a7-4128-9f2a-3f6658533d6f"
      },
      "source": [
        "df.loc[0,'Name']"
      ],
      "execution_count": 3,
      "outputs": [
        {
          "output_type": "execute_result",
          "data": {
            "application/vnd.google.colaboratory.intrinsic+json": {
              "type": "string"
            },
            "text/plain": [
              "'Mr. Elon R. Musk'"
            ]
          },
          "metadata": {
            "tags": []
          },
          "execution_count": 3
        }
      ]
    },
    {
      "cell_type": "code",
      "metadata": {
        "colab": {
          "base_uri": "https://localhost:8080/"
        },
        "id": "5skzqtpIti42",
        "outputId": "e2dd553c-81d0-497f-873a-0a88c8eb3c7a"
      },
      "source": [
        "for index in df.index:\n",
        "    print(index)"
      ],
      "execution_count": 4,
      "outputs": [
        {
          "output_type": "stream",
          "text": [
            "0\n",
            "1\n",
            "2\n",
            "3\n",
            "4\n",
            "5\n",
            "6\n",
            "7\n",
            "8\n",
            "9\n"
          ],
          "name": "stdout"
        }
      ]
    },
    {
      "cell_type": "code",
      "metadata": {
        "id": "X1X89_7atkH7"
      },
      "source": [
        "for index in df.index:\n",
        "    if df.loc[index,'Name']=='Mr. Elon R. Musk':\n",
        "        df.loc[index,'Title'] = 'The Boss Man'\n",
        "    elif df.loc[index,'Name']=='Mr. Zachary J. Kirkhorn':\n",
        "        df.loc[index,'Title'] = 'The Money Man'\n",
        "    else:\n",
        "        df.loc[index,'Title'] = 'Another Dude'"
      ],
      "execution_count": 5,
      "outputs": []
    }
  ]
}