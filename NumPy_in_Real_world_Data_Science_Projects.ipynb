{
  "nbformat": 4,
  "nbformat_minor": 0,
  "metadata": {
    "colab": {
      "provenance": [],
      "authorship_tag": "ABX9TyMVwhzk/5mOym+6CE7xXTbW"
    },
    "kernelspec": {
      "name": "python3",
      "display_name": "Python 3"
    },
    "language_info": {
      "name": "python"
    }
  },
  "cells": [
    {
      "cell_type": "markdown",
      "source": [
        "[Reference](https://blog.stackademic.com/numpy-in-real-world-data-science-projects-abfb517507e1)"
      ],
      "metadata": {
        "id": "KMPaDdkbvIam"
      }
    },
    {
      "cell_type": "markdown",
      "source": [
        "# Handling Missing Data\n"
      ],
      "metadata": {
        "id": "St2O0vthvN5c"
      }
    },
    {
      "cell_type": "code",
      "source": [
        "import numpy as np"
      ],
      "metadata": {
        "id": "jVOO9PIWvTFv"
      },
      "execution_count": 2,
      "outputs": []
    },
    {
      "cell_type": "code",
      "execution_count": 3,
      "metadata": {
        "colab": {
          "base_uri": "https://localhost:8080/"
        },
        "id": "l1hWO40BuEdQ",
        "outputId": "c9cb6176-c7a4-45fe-e057-54b30c3fc3fb"
      },
      "outputs": [
        {
          "output_type": "stream",
          "name": "stdout",
          "text": [
            "[1. 2. 0. 4. 5.]\n"
          ]
        }
      ],
      "source": [
        "# Creating an array with missing values\n",
        "data = np.array([1, 2, np.nan, 4, 5])\n",
        "\n",
        "# Checking for missing values\n",
        "has_missing = np.isnan(data)\n",
        "\n",
        "# Filling missing values with a specific value or the mean\n",
        "data[has_missing] = 0  # Replace with a specific value\n",
        "# Alternatively:\n",
        "# data[has_missing] = np.nanmean(data)\n",
        "\n",
        "print(data)"
      ]
    },
    {
      "cell_type": "code",
      "source": [
        "# create an array with missing data\n",
        "arr = np.array([1, 2, np.nan, 4, 5])\n",
        "\n",
        "# fill missing data with zero\n",
        "arr_filled = np.nan_to_num(arr)\n",
        "\n",
        "print(arr_filled)"
      ],
      "metadata": {
        "colab": {
          "base_uri": "https://localhost:8080/"
        },
        "id": "b0YXykXkvPUN",
        "outputId": "c26363cd-b0f0-4c9c-fa75-06e0311fb933"
      },
      "execution_count": 4,
      "outputs": [
        {
          "output_type": "stream",
          "name": "stdout",
          "text": [
            "[1. 2. 0. 4. 5.]\n"
          ]
        }
      ]
    },
    {
      "cell_type": "code",
      "source": [
        "# create a 2D array with missing data\n",
        "arr = np.array([[1, 2, np.nan], [4, np.nan, 6], [7, 8, 9]])\n",
        "\n",
        "# delete rows with missing data\n",
        "arr_no_missing = np.delete(arr, np.where(np.isnan(arr).any(axis=1)), axis=0)\n",
        "\n",
        "print(arr_no_missing)"
      ],
      "metadata": {
        "colab": {
          "base_uri": "https://localhost:8080/"
        },
        "id": "A3XpL-ObvU9b",
        "outputId": "85ab4327-0752-499f-8553-4c671f0ac20f"
      },
      "execution_count": 5,
      "outputs": [
        {
          "output_type": "stream",
          "name": "stdout",
          "text": [
            "[[7. 8. 9.]]\n"
          ]
        }
      ]
    },
    {
      "cell_type": "code",
      "source": [
        "# create an array with missing data\n",
        "arr = np.array([1, 2, np.nan, 4, 5])\n",
        "\n",
        "# impute missing data with mean\n",
        "arr_imputed = np.where(np.isnan(arr), np.mean(arr[~np.isnan(arr)]), arr)\n",
        "\n",
        "print(arr_imputed)"
      ],
      "metadata": {
        "colab": {
          "base_uri": "https://localhost:8080/"
        },
        "id": "1gybPqWXvV9_",
        "outputId": "7ad528fc-a78d-4008-84ff-0477fec90906"
      },
      "execution_count": 6,
      "outputs": [
        {
          "output_type": "stream",
          "name": "stdout",
          "text": [
            "[1. 2. 3. 4. 5.]\n"
          ]
        }
      ]
    },
    {
      "cell_type": "code",
      "source": [
        "# Creating an array with outliers\n",
        "data = np.array([1, 2, 8, 4, 5, 15])\n",
        "\n",
        "# Identifying outliers based on z-score\n",
        "z_scores = np.abs((data - np.mean(data)) / np.std(data))\n",
        "is_outlier = z_scores > 2  # Adjust the threshold as needed\n",
        "\n",
        "# Removing outliers\n",
        "cleaned_data = data[~is_outlier]\n",
        "\n",
        "print(cleaned_data)"
      ],
      "metadata": {
        "colab": {
          "base_uri": "https://localhost:8080/"
        },
        "id": "4NiJGcHEvXTA",
        "outputId": "94fe5ca8-156a-4d29-d2c8-7be2169d2447"
      },
      "execution_count": 7,
      "outputs": [
        {
          "output_type": "stream",
          "name": "stdout",
          "text": [
            "[ 1  2  8  4  5 15]\n"
          ]
        }
      ]
    },
    {
      "cell_type": "code",
      "source": [
        "# create an array with outliers\n",
        "arr = np.array([1, 2, 3, 100, 5, 6])\n",
        "\n",
        "# clip values outside the range of the 1st and 99th percentiles\n",
        "arr_clipped = np.clip(arr, np.percentile(arr, 1), np.percentile(arr, 99))\n",
        "\n",
        "print(arr_clipped)"
      ],
      "metadata": {
        "colab": {
          "base_uri": "https://localhost:8080/"
        },
        "id": "ZYjcF68UvYhe",
        "outputId": "42b5b1a1-5d2c-422e-b07e-61c11e23d775"
      },
      "execution_count": 8,
      "outputs": [
        {
          "output_type": "stream",
          "name": "stdout",
          "text": [
            "[ 1.05  2.    3.   95.3   5.    6.  ]\n"
          ]
        }
      ]
    },
    {
      "cell_type": "code",
      "source": [
        "# create an array with outliers\n",
        "arr = np.array([1, 2, 3, 100, 5, 6])\n",
        "\n",
        "# calculate mean and standard deviation\n",
        "mean = np.mean(arr)\n",
        "std = np.std(arr)\n",
        "\n",
        "# calculate z-scores\n",
        "z_scores = np.abs((arr - mean) / std)\n",
        "\n",
        "# remove values with z-scores greater than 3\n",
        "arr_filtered = arr[z_scores <= 3]\n",
        "\n",
        "print(arr_filtered)"
      ],
      "metadata": {
        "colab": {
          "base_uri": "https://localhost:8080/"
        },
        "id": "iQIqlwfgvZ-b",
        "outputId": "ef20e021-5216-44d5-b8a2-2641a5e05ef7"
      },
      "execution_count": 9,
      "outputs": [
        {
          "output_type": "stream",
          "name": "stdout",
          "text": [
            "[  1   2   3 100   5   6]\n"
          ]
        }
      ]
    },
    {
      "cell_type": "code",
      "source": [
        "# create an array with outliers\n",
        "arr = np.array([1, 2, 3, 100, 5, 6])\n",
        "\n",
        "# calculate median\n",
        "median = np.median(arr)\n",
        "\n",
        "# replace values outside the range of the 1st and 99th percentiles with the median\n",
        "arr_filtered = np.where(np.logical_or(arr < np.percentile(arr, 1), arr > np.percentile(arr, 99)), median, arr)\n",
        "\n",
        "print(arr_filtered)"
      ],
      "metadata": {
        "colab": {
          "base_uri": "https://localhost:8080/"
        },
        "id": "7cNFni7nvb7W",
        "outputId": "5d8ec59e-60c9-4523-cc31-dc4c8cc5fd92"
      },
      "execution_count": 10,
      "outputs": [
        {
          "output_type": "stream",
          "name": "stdout",
          "text": [
            "[4. 2. 3. 4. 5. 6.]\n"
          ]
        }
      ]
    },
    {
      "cell_type": "markdown",
      "source": [
        "# NumPy for Machine Learning"
      ],
      "metadata": {
        "id": "aIjRRxd4vni5"
      }
    },
    {
      "cell_type": "code",
      "source": [
        "from sklearn.linear_model import LinearRegression\n",
        "\n",
        "# create a NumPy array\n",
        "arr = np.array([[1], [2], [3], [4], [5]])\n",
        "\n",
        "# create a linear regression model\n",
        "model = LinearRegression()\n",
        "\n",
        "# train the model\n",
        "model.fit(arr, np.array([2, 4, 6, 8, 10]))\n",
        "\n",
        "# make a prediction\n",
        "prediction = model.predict(np.array([[6]]))\n",
        "\n",
        "print(prediction)"
      ],
      "metadata": {
        "colab": {
          "base_uri": "https://localhost:8080/"
        },
        "id": "duHuroP0vdAC",
        "outputId": "2b8bbbd5-564f-43bc-d8c7-90dc8ede05bd"
      },
      "execution_count": 11,
      "outputs": [
        {
          "output_type": "stream",
          "name": "stdout",
          "text": [
            "[12.]\n"
          ]
        }
      ]
    },
    {
      "cell_type": "code",
      "source": [
        "import tensorflow as tf\n",
        "\n",
        "# create a NumPy array\n",
        "arr = np.array([[1, 2, 3], [4, 5, 6]])\n",
        "\n",
        "# create a TensorFlow tensor\n",
        "tensor = tf.constant(arr)\n",
        "\n",
        "# perform matrix multiplication\n",
        "result = tf.matmul(tensor, tensor)\n",
        "\n",
        "# print the result\n",
        "print(result)"
      ],
      "metadata": {
        "id": "P931BY07vxuA"
      },
      "execution_count": 13,
      "outputs": []
    },
    {
      "cell_type": "code",
      "source": [
        "import keras.backend as K\n",
        "\n",
        "# create a NumPy array\n",
        "arr = np.array([[1, 2, 3], [4, 5, 6]])\n",
        "\n",
        "# create a Keras tensor\n",
        "tensor = K.constant(arr)\n",
        "\n",
        "# perform matrix multiplication\n",
        "result = K.dot(tensor, tensor)\n",
        "\n",
        "# print the result\n",
        "print(result)"
      ],
      "metadata": {
        "id": "5UKDoVjKvzVO"
      },
      "execution_count": 15,
      "outputs": []
    }
  ]
}