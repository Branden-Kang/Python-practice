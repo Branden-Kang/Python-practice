{
  "nbformat": 4,
  "nbformat_minor": 0,
  "metadata": {
    "colab": {
      "name": "Zero: A simple, fast and high performance Python framework (RPC + PubSub) for building microservices.ipynb",
      "provenance": [],
      "authorship_tag": "ABX9TyPiK6hc88uFCkm1SzOha8zX"
    },
    "kernelspec": {
      "name": "python3",
      "display_name": "Python 3"
    },
    "language_info": {
      "name": "python"
    }
  },
  "cells": [
    {
      "cell_type": "markdown",
      "source": [
        "[Reference](https://azizulhaq-ananto.medium.com/zero-a-fast-and-high-performance-python-microservice-framework-cfe1c8700df9)"
      ],
      "metadata": {
        "id": "QX0KJedjh33U"
      }
    },
    {
      "cell_type": "code",
      "execution_count": 1,
      "metadata": {
        "id": "ZHC00QDgh2YN"
      },
      "outputs": [],
      "source": [
        "import asyncio\n",
        "\n",
        "from zero import AsyncZeroClient\n",
        "\n",
        "zero_client = AsyncZeroClient(\"localhost\", 5559)\n",
        "\n",
        "async def echo():\n",
        "    resp = await zero_client.call(\"echo\", \"Hi there!\")\n",
        "    print(resp)\n",
        "\n",
        "async def hello():\n",
        "    resp = await zero_client.call(\"hello_world\", None)\n",
        "    print(resp)\n",
        "\n",
        "\n",
        "if __name__ == \"__main__\":\n",
        "    loop = asyncio.get_event_loop()\n",
        "    loop.run_until_complete(echo())\n",
        "    loop.run_until_complete(hello())"
      ]
    },
    {
      "cell_type": "code",
      "source": [
        "from zero import ZeroServer\n",
        "\n",
        "def echo(msg: str) -> str:\n",
        "    return msg\n",
        "\n",
        "async def hello_world() -> str:\n",
        "    return \"hello world\"\n",
        "\n",
        "\n",
        "if __name__ == \"__main__\":\n",
        "    app = ZeroServer(port=5559)\n",
        "    app.register_rpc(echo)\n",
        "    app.register_rpc(hello_world)\n",
        "    app.run()"
      ],
      "metadata": {
        "id": "4hAAGnIWh6R6"
      },
      "execution_count": 2,
      "outputs": []
    }
  ]
}