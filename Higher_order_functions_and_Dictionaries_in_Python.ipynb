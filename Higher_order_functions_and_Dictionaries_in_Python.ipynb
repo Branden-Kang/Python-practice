{
  "nbformat": 4,
  "nbformat_minor": 0,
  "metadata": {
    "colab": {
      "name": "Higher order functions and Dictionaries in Python.ipynb",
      "provenance": [],
      "authorship_tag": "ABX9TyNlETGzzcJmfVa/fK/6r8D8"
    },
    "kernelspec": {
      "name": "python3",
      "display_name": "Python 3"
    },
    "language_info": {
      "name": "python"
    }
  },
  "cells": [
    {
      "cell_type": "markdown",
      "metadata": {
        "id": "ZH7WsJv9KS_L"
      },
      "source": [
        "[Reference](https://aleksei-kornev.medium.com/2-things-that-you-have-to-know-to-become-a-master-of-python-4bcaa4cb2a0c)"
      ]
    },
    {
      "cell_type": "code",
      "metadata": {
        "colab": {
          "base_uri": "https://localhost:8080/"
        },
        "id": "ZSJTtgCXKFtq",
        "outputId": "a17f8c9a-6d4d-41ea-89d6-2f0a5c7bf00b"
      },
      "source": [
        "def simple_decorator(f):\n",
        "  print(f\"Decarated function is {f.__name__}\")\n",
        "  return f\n",
        "\n",
        "@simple_decorator\n",
        "def my_func():\n",
        "  print(\"I'm function\")\n",
        "\n",
        "my_func()\n",
        "# Or another way to track function\n",
        "f = simple_decorator(my_func)\n",
        "f()"
      ],
      "execution_count": 3,
      "outputs": [
        {
          "output_type": "stream",
          "text": [
            "Decarated function is my_func\n",
            "I'm function\n",
            "Decarated function is my_func\n",
            "I'm function\n"
          ],
          "name": "stdout"
        }
      ]
    },
    {
      "cell_type": "code",
      "metadata": {
        "colab": {
          "base_uri": "https://localhost:8080/"
        },
        "id": "ZtuK4BCgLMSL",
        "outputId": "0203aec3-3659-4945-a5fc-a310a7dd2c93"
      },
      "source": [
        "def decorator2(f):\n",
        "    def wrapper(*args, **kwargs):\n",
        "        print(f\"start func {f.__name__}\")\n",
        "        result = f(*args, **kwargs)\n",
        "        print(f\"end func {f.__name__}\")\n",
        "        return result\n",
        "    return wrapper\n",
        "\n",
        "@decorator2\n",
        "def my_func():\n",
        "  print(\"I'm function\")\n",
        "\n",
        "my_func()\n",
        "# Or another way to call\n",
        "f = decorator2(my_func)\n",
        "f()"
      ],
      "execution_count": 6,
      "outputs": [
        {
          "output_type": "stream",
          "text": [
            "start func my_func\n",
            "I'm function\n",
            "end func my_func\n",
            "start func wrapper\n",
            "start func my_func\n",
            "I'm function\n",
            "end func my_func\n",
            "end func wrapper\n"
          ],
          "name": "stdout"
        }
      ]
    },
    {
      "cell_type": "code",
      "metadata": {
        "colab": {
          "base_uri": "https://localhost:8080/"
        },
        "id": "ymMdQbZqLXAa",
        "outputId": "37624127-ac10-4805-faed-5f45a9fa4226"
      },
      "source": [
        "def funcA(var):\n",
        "  d = var+ 1\n",
        "  l = locals() # here you have var and d\n",
        "  print(l)\n",
        "  \n",
        "globals() # here you have builtin and a function funcA"
      ],
      "execution_count": 11,
      "outputs": [
        {
          "output_type": "execute_result",
          "data": {
            "text/plain": [
              "{'A': __main__.A,\n",
              " 'B': __main__.B,\n",
              " 'C': __main__.C,\n",
              " 'In': ['',\n",
              "  'def simple_decorator(f):\\n  print(f\"Decarated function is {f.__name__}\")\\n  return f\\n\\n@simple_decarator\\ndef my_func():\\n  print(\"I\\'m function\")\\n\\nmy_func()\\n# Or another way to track function\\nf = simple_decorator(my_func)\\nf()',\n",
              "  'def simple_decorator(f):\\n  print(f\"Decarated function is {f.__name__}\")\\n  return f\\n\\n@simple_decrator\\ndef my_func():\\n  print(\"I\\'m function\")\\n\\nmy_func()\\n# Or another way to track function\\nf = simple_decorator(my_func)\\nf()',\n",
              "  'def simple_decorator(f):\\n  print(f\"Decarated function is {f.__name__}\")\\n  return f\\n\\n@simple_decorator\\ndef my_func():\\n  print(\"I\\'m function\")\\n\\nmy_func()\\n# Or another way to track function\\nf = simple_decorator(my_func)\\nf()',\n",
              "  'def decorator2(f):\\n  def wrapper(*args, **kwargs):\\n    print(f\"start func {f.__name__}\")\\n    \\n    result = f(*args, **kwargs)\\n    \\n    print(f\"end func {f.__name__}\")\\n    return result\\n return wrapper\\n\\n@decorator2\\ndef my_func():\\n  print(\"I\\'m function\")\\n\\nmy_func()\\n# Or another way to call\\nf = decorator2(my_func)\\nf()',\n",
              "  'def decorator2(f):\\n  def wrapper(*args, **kwargs):\\n      print(f\"start func {f.__name__}\")\\n      result = f(*args, **kwargs)\\n      print(f\"end func {f.__name__}\")\\n      return result\\n    return wrapper\\n\\n@decorator2\\ndef my_func():\\n  print(\"I\\'m function\")\\n\\nmy_func()\\n# Or another way to call\\nf = decorator2(my_func)\\nf()',\n",
              "  'def decorator2(f):\\n    def wrapper(*args, **kwargs):\\n        print(f\"start func {f.__name__}\")\\n        result = f(*args, **kwargs)\\n        print(f\"end func {f.__name__}\")\\n        return result\\n    return wrapper\\n\\n@decorator2\\ndef my_func():\\n  print(\"I\\'m function\")\\n\\nmy_func()\\n# Or another way to call\\nf = decorator2(my_func)\\nf()',\n",
              "  'def funcA(var):\\n  d = var+ 1\\n  l = locals() # here you have var and d\\n  print(l)\\n  \\nglobals() # here you have builtin and a function funcA\\nfuncA()',\n",
              "  \"# define new dict it will be under name A in globals dict\\nclass A:\\n  class_var = 1 # <- read it as A['class_var'] = 1\\n  class_var2 = 2\\n  \\nclass B(A): # for look up means look at B dict first then at A dict\\n  b = 100\\n  def __init__(self):\\n    self.b_var = 100500\\n    \\nclass C(B): # for look up means look at C then at B then at A\\n  def __init__(self): # self has link to instance dict\\n    self.T = 100\\n    super(C, self).__init__()\\n \\n  def my_method(pepa): # <-- here I specially rename self to pepa\\n    pepa.pepa_var = 7\\n    \\nc = C()\\nc.class_var # call lookup and find A.class_var and return 1\\nc.my_method()\\nc.__dict__ # show dict {'T': 100, 'b_var': 100500, 'pepa_var': 7}\",\n",
              "  'def init(self):\\n  print(\"Init method\")\\n  \\ndef m1(self):\\n  print(\"M1 method\")\\n  \\nPepa = type(\\'Pepa\\', (object,), {\"__init__\": init, \"m1\": m1})\\n\\np = Pepa() # when we instantiate class our init method will be called\\np.m1() # now we call m1 method',\n",
              "  'def funcA(var):\\n  d = var+ 1\\n  l = locals() # here you have var and d\\n  print(l)\\n  \\nglobals() # here you have builtin and a function funcA\\nfuncA(1)',\n",
              "  'def funcA(var):\\n  d = var+ 1\\n  l = locals() # here you have var and d\\n  print(l)\\n  \\nglobals() # here you have builtin and a function funcA'],\n",
              " 'Out': {8: {'T': 100, 'b_var': 100500, 'pepa_var': 7}},\n",
              " 'Pepa': __main__.Pepa,\n",
              " '_': {'T': 100, 'b_var': 100500, 'pepa_var': 7},\n",
              " '_8': {'T': 100, 'b_var': 100500, 'pepa_var': 7},\n",
              " '__': '',\n",
              " '___': '',\n",
              " '__builtin__': <module 'builtins' (built-in)>,\n",
              " '__builtins__': <module 'builtins' (built-in)>,\n",
              " '__doc__': 'Automatically created module for IPython interactive environment',\n",
              " '__loader__': None,\n",
              " '__name__': '__main__',\n",
              " '__package__': None,\n",
              " '__spec__': None,\n",
              " '_dh': ['/content'],\n",
              " '_i': 'def funcA(var):\\n  d = var+ 1\\n  l = locals() # here you have var and d\\n  print(l)\\n  \\nglobals() # here you have builtin and a function funcA\\nfuncA(1)',\n",
              " '_i1': 'def simple_decorator(f):\\n  print(f\"Decarated function is {f.__name__}\")\\n  return f\\n\\n@simple_decarator\\ndef my_func():\\n  print(\"I\\'m function\")\\n\\nmy_func()\\n# Or another way to track function\\nf = simple_decorator(my_func)\\nf()',\n",
              " '_i10': 'def funcA(var):\\n  d = var+ 1\\n  l = locals() # here you have var and d\\n  print(l)\\n  \\nglobals() # here you have builtin and a function funcA\\nfuncA(1)',\n",
              " '_i11': 'def funcA(var):\\n  d = var+ 1\\n  l = locals() # here you have var and d\\n  print(l)\\n  \\nglobals() # here you have builtin and a function funcA',\n",
              " '_i2': 'def simple_decorator(f):\\n  print(f\"Decarated function is {f.__name__}\")\\n  return f\\n\\n@simple_decrator\\ndef my_func():\\n  print(\"I\\'m function\")\\n\\nmy_func()\\n# Or another way to track function\\nf = simple_decorator(my_func)\\nf()',\n",
              " '_i3': 'def simple_decorator(f):\\n  print(f\"Decarated function is {f.__name__}\")\\n  return f\\n\\n@simple_decorator\\ndef my_func():\\n  print(\"I\\'m function\")\\n\\nmy_func()\\n# Or another way to track function\\nf = simple_decorator(my_func)\\nf()',\n",
              " '_i4': 'def decorator2(f):\\n  def wrapper(*args, **kwargs):\\n    print(f\"start func {f.__name__}\")\\n    \\n    result = f(*args, **kwargs)\\n    \\n    print(f\"end func {f.__name__}\")\\n    return result\\n return wrapper\\n\\n@decorator2\\ndef my_func():\\n  print(\"I\\'m function\")\\n\\nmy_func()\\n# Or another way to call\\nf = decorator2(my_func)\\nf()',\n",
              " '_i5': 'def decorator2(f):\\n  def wrapper(*args, **kwargs):\\n      print(f\"start func {f.__name__}\")\\n      result = f(*args, **kwargs)\\n      print(f\"end func {f.__name__}\")\\n      return result\\n    return wrapper\\n\\n@decorator2\\ndef my_func():\\n  print(\"I\\'m function\")\\n\\nmy_func()\\n# Or another way to call\\nf = decorator2(my_func)\\nf()',\n",
              " '_i6': 'def decorator2(f):\\n    def wrapper(*args, **kwargs):\\n        print(f\"start func {f.__name__}\")\\n        result = f(*args, **kwargs)\\n        print(f\"end func {f.__name__}\")\\n        return result\\n    return wrapper\\n\\n@decorator2\\ndef my_func():\\n  print(\"I\\'m function\")\\n\\nmy_func()\\n# Or another way to call\\nf = decorator2(my_func)\\nf()',\n",
              " '_i7': 'def funcA(var):\\n  d = var+ 1\\n  l = locals() # here you have var and d\\n  print(l)\\n  \\nglobals() # here you have builtin and a function funcA\\nfuncA()',\n",
              " '_i8': \"# define new dict it will be under name A in globals dict\\nclass A:\\n  class_var = 1 # <- read it as A['class_var'] = 1\\n  class_var2 = 2\\n  \\nclass B(A): # for look up means look at B dict first then at A dict\\n  b = 100\\n  def __init__(self):\\n    self.b_var = 100500\\n    \\nclass C(B): # for look up means look at C then at B then at A\\n  def __init__(self): # self has link to instance dict\\n    self.T = 100\\n    super(C, self).__init__()\\n \\n  def my_method(pepa): # <-- here I specially rename self to pepa\\n    pepa.pepa_var = 7\\n    \\nc = C()\\nc.class_var # call lookup and find A.class_var and return 1\\nc.my_method()\\nc.__dict__ # show dict {'T': 100, 'b_var': 100500, 'pepa_var': 7}\",\n",
              " '_i9': 'def init(self):\\n  print(\"Init method\")\\n  \\ndef m1(self):\\n  print(\"M1 method\")\\n  \\nPepa = type(\\'Pepa\\', (object,), {\"__init__\": init, \"m1\": m1})\\n\\np = Pepa() # when we instantiate class our init method will be called\\np.m1() # now we call m1 method',\n",
              " '_ih': ['',\n",
              "  'def simple_decorator(f):\\n  print(f\"Decarated function is {f.__name__}\")\\n  return f\\n\\n@simple_decarator\\ndef my_func():\\n  print(\"I\\'m function\")\\n\\nmy_func()\\n# Or another way to track function\\nf = simple_decorator(my_func)\\nf()',\n",
              "  'def simple_decorator(f):\\n  print(f\"Decarated function is {f.__name__}\")\\n  return f\\n\\n@simple_decrator\\ndef my_func():\\n  print(\"I\\'m function\")\\n\\nmy_func()\\n# Or another way to track function\\nf = simple_decorator(my_func)\\nf()',\n",
              "  'def simple_decorator(f):\\n  print(f\"Decarated function is {f.__name__}\")\\n  return f\\n\\n@simple_decorator\\ndef my_func():\\n  print(\"I\\'m function\")\\n\\nmy_func()\\n# Or another way to track function\\nf = simple_decorator(my_func)\\nf()',\n",
              "  'def decorator2(f):\\n  def wrapper(*args, **kwargs):\\n    print(f\"start func {f.__name__}\")\\n    \\n    result = f(*args, **kwargs)\\n    \\n    print(f\"end func {f.__name__}\")\\n    return result\\n return wrapper\\n\\n@decorator2\\ndef my_func():\\n  print(\"I\\'m function\")\\n\\nmy_func()\\n# Or another way to call\\nf = decorator2(my_func)\\nf()',\n",
              "  'def decorator2(f):\\n  def wrapper(*args, **kwargs):\\n      print(f\"start func {f.__name__}\")\\n      result = f(*args, **kwargs)\\n      print(f\"end func {f.__name__}\")\\n      return result\\n    return wrapper\\n\\n@decorator2\\ndef my_func():\\n  print(\"I\\'m function\")\\n\\nmy_func()\\n# Or another way to call\\nf = decorator2(my_func)\\nf()',\n",
              "  'def decorator2(f):\\n    def wrapper(*args, **kwargs):\\n        print(f\"start func {f.__name__}\")\\n        result = f(*args, **kwargs)\\n        print(f\"end func {f.__name__}\")\\n        return result\\n    return wrapper\\n\\n@decorator2\\ndef my_func():\\n  print(\"I\\'m function\")\\n\\nmy_func()\\n# Or another way to call\\nf = decorator2(my_func)\\nf()',\n",
              "  'def funcA(var):\\n  d = var+ 1\\n  l = locals() # here you have var and d\\n  print(l)\\n  \\nglobals() # here you have builtin and a function funcA\\nfuncA()',\n",
              "  \"# define new dict it will be under name A in globals dict\\nclass A:\\n  class_var = 1 # <- read it as A['class_var'] = 1\\n  class_var2 = 2\\n  \\nclass B(A): # for look up means look at B dict first then at A dict\\n  b = 100\\n  def __init__(self):\\n    self.b_var = 100500\\n    \\nclass C(B): # for look up means look at C then at B then at A\\n  def __init__(self): # self has link to instance dict\\n    self.T = 100\\n    super(C, self).__init__()\\n \\n  def my_method(pepa): # <-- here I specially rename self to pepa\\n    pepa.pepa_var = 7\\n    \\nc = C()\\nc.class_var # call lookup and find A.class_var and return 1\\nc.my_method()\\nc.__dict__ # show dict {'T': 100, 'b_var': 100500, 'pepa_var': 7}\",\n",
              "  'def init(self):\\n  print(\"Init method\")\\n  \\ndef m1(self):\\n  print(\"M1 method\")\\n  \\nPepa = type(\\'Pepa\\', (object,), {\"__init__\": init, \"m1\": m1})\\n\\np = Pepa() # when we instantiate class our init method will be called\\np.m1() # now we call m1 method',\n",
              "  'def funcA(var):\\n  d = var+ 1\\n  l = locals() # here you have var and d\\n  print(l)\\n  \\nglobals() # here you have builtin and a function funcA\\nfuncA(1)',\n",
              "  'def funcA(var):\\n  d = var+ 1\\n  l = locals() # here you have var and d\\n  print(l)\\n  \\nglobals() # here you have builtin and a function funcA'],\n",
              " '_ii': 'def init(self):\\n  print(\"Init method\")\\n  \\ndef m1(self):\\n  print(\"M1 method\")\\n  \\nPepa = type(\\'Pepa\\', (object,), {\"__init__\": init, \"m1\": m1})\\n\\np = Pepa() # when we instantiate class our init method will be called\\np.m1() # now we call m1 method',\n",
              " '_iii': \"# define new dict it will be under name A in globals dict\\nclass A:\\n  class_var = 1 # <- read it as A['class_var'] = 1\\n  class_var2 = 2\\n  \\nclass B(A): # for look up means look at B dict first then at A dict\\n  b = 100\\n  def __init__(self):\\n    self.b_var = 100500\\n    \\nclass C(B): # for look up means look at C then at B then at A\\n  def __init__(self): # self has link to instance dict\\n    self.T = 100\\n    super(C, self).__init__()\\n \\n  def my_method(pepa): # <-- here I specially rename self to pepa\\n    pepa.pepa_var = 7\\n    \\nc = C()\\nc.class_var # call lookup and find A.class_var and return 1\\nc.my_method()\\nc.__dict__ # show dict {'T': 100, 'b_var': 100500, 'pepa_var': 7}\",\n",
              " '_oh': {8: {'T': 100, 'b_var': 100500, 'pepa_var': 7}},\n",
              " '_sh': <module 'IPython.core.shadowns' from '/usr/local/lib/python3.7/dist-packages/IPython/core/shadowns.py'>,\n",
              " 'c': <__main__.C at 0x7f371efd31d0>,\n",
              " 'decorator2': <function __main__.decorator2>,\n",
              " 'exit': <IPython.core.autocall.ZMQExitAutocall at 0x7f37203776d0>,\n",
              " 'f': <function __main__.decorator2.<locals>.wrapper>,\n",
              " 'funcA': <function __main__.funcA>,\n",
              " 'get_ipython': <bound method InteractiveShell.get_ipython of <google.colab._shell.Shell object at 0x7f3723556e10>>,\n",
              " 'init': <function __main__.init>,\n",
              " 'm1': <function __main__.m1>,\n",
              " 'my_func': <function __main__.decorator2.<locals>.wrapper>,\n",
              " 'p': <__main__.Pepa at 0x7f371946fbd0>,\n",
              " 'quit': <IPython.core.autocall.ZMQExitAutocall at 0x7f37203776d0>,\n",
              " 'simple_decorator': <function __main__.simple_decorator>}"
            ]
          },
          "metadata": {
            "tags": []
          },
          "execution_count": 11
        }
      ]
    },
    {
      "cell_type": "code",
      "metadata": {
        "colab": {
          "base_uri": "https://localhost:8080/"
        },
        "id": "WquLPBLxL_dY",
        "outputId": "3b78f2d2-2fb2-469c-b10f-e900d37365c6"
      },
      "source": [
        "funcA(1)"
      ],
      "execution_count": 12,
      "outputs": [
        {
          "output_type": "stream",
          "text": [
            "{'var': 1, 'd': 2}\n"
          ],
          "name": "stdout"
        }
      ]
    },
    {
      "cell_type": "code",
      "metadata": {
        "colab": {
          "base_uri": "https://localhost:8080/"
        },
        "id": "825rRpEwLnAR",
        "outputId": "5fc68eb9-d4be-4ffb-965c-708d6b976529"
      },
      "source": [
        "# define new dict it will be under name A in globals dict\n",
        "class A:\n",
        "  class_var = 1 # <- read it as A['class_var'] = 1\n",
        "  class_var2 = 2\n",
        "  \n",
        "class B(A): # for look up means look at B dict first then at A dict\n",
        "  b = 100\n",
        "  def __init__(self):\n",
        "    self.b_var = 100500\n",
        "    \n",
        "class C(B): # for look up means look at C then at B then at A\n",
        "  def __init__(self): # self has link to instance dict\n",
        "    self.T = 100\n",
        "    super(C, self).__init__()\n",
        " \n",
        "  def my_method(pepa): # <-- here I specially rename self to pepa\n",
        "    pepa.pepa_var = 7\n",
        "    \n",
        "c = C()\n",
        "c.class_var # call lookup and find A.class_var and return 1\n",
        "c.my_method()\n",
        "c.__dict__ # show dict {'T': 100, 'b_var': 100500, 'pepa_var': 7}"
      ],
      "execution_count": 8,
      "outputs": [
        {
          "output_type": "execute_result",
          "data": {
            "text/plain": [
              "{'T': 100, 'b_var': 100500, 'pepa_var': 7}"
            ]
          },
          "metadata": {
            "tags": []
          },
          "execution_count": 8
        }
      ]
    },
    {
      "cell_type": "code",
      "metadata": {
        "colab": {
          "base_uri": "https://localhost:8080/"
        },
        "id": "o2nNlTosLyu6",
        "outputId": "cf251f48-f34a-41c0-ca4e-eb05d0746e21"
      },
      "source": [
        "def init(self):\n",
        "  print(\"Init method\")\n",
        "  \n",
        "def m1(self):\n",
        "  print(\"M1 method\")\n",
        "  \n",
        "Pepa = type('Pepa', (object,), {\"__init__\": init, \"m1\": m1})\n",
        "\n",
        "p = Pepa() # when we instantiate class our init method will be called\n",
        "p.m1() # now we call m1 method"
      ],
      "execution_count": 9,
      "outputs": [
        {
          "output_type": "stream",
          "text": [
            "Init method\n",
            "M1 method\n"
          ],
          "name": "stdout"
        }
      ]
    },
    {
      "cell_type": "code",
      "metadata": {
        "colab": {
          "base_uri": "https://localhost:8080/"
        },
        "id": "xUY6YySTL0r9",
        "outputId": "bfdec002-80dd-4780-dff0-cb368f9be1b8"
      },
      "source": [
        "def init(self):\n",
        "  print(\"Init method\")\n",
        "  \n",
        "def m1(self):\n",
        "  print(\"M1 method\")\n",
        "  \n",
        "class PepaMeta(type): # look it just inherited from type\n",
        "  def __new__(cls, name, bases, dct):\n",
        "    c = super().__new__(cls, name, bases, dct) \n",
        "    c.__init__ = init\n",
        "    c.m1 = m1\n",
        "    return c\n",
        "  \n",
        "# look at the initialization\n",
        "Pepa = PepaMeta('Pepa', (object,), {})\n",
        "p = Pepa()\n",
        "p.m1()"
      ],
      "execution_count": 13,
      "outputs": [
        {
          "output_type": "stream",
          "text": [
            "Init method\n",
            "M1 method\n"
          ],
          "name": "stdout"
        }
      ]
    }
  ]
}