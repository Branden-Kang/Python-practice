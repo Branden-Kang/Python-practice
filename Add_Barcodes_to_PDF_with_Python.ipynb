{
  "nbformat": 4,
  "nbformat_minor": 0,
  "metadata": {
    "colab": {
      "provenance": [],
      "authorship_tag": "ABX9TyMvL4hcFRFEyW/NkEzk33DR"
    },
    "kernelspec": {
      "name": "python3",
      "display_name": "Python 3"
    },
    "language_info": {
      "name": "python"
    }
  },
  "cells": [
    {
      "cell_type": "markdown",
      "source": [
        "[Reference](https://medium.com/@alice.yang_10652/add-barcodes-to-pdf-with-python-d5a562edb4e0)"
      ],
      "metadata": {
        "id": "EcB6AHR5T7px"
      }
    },
    {
      "cell_type": "code",
      "execution_count": 1,
      "metadata": {
        "colab": {
          "base_uri": "https://localhost:8080/"
        },
        "id": "rjY9tcFFT5st",
        "outputId": "7a47ce79-8599-41b8-cee7-fcdadc258102"
      },
      "outputs": [
        {
          "output_type": "stream",
          "name": "stdout",
          "text": [
            "Collecting Spire.Pdf\n",
            "  Downloading Spire.Pdf-10.6.1-py3-none-manylinux1_x86_64.whl (41.5 MB)\n",
            "\u001b[2K     \u001b[90m━━━━━━━━━━━━━━━━━━━━━━━━━━━━━━━━━━━━━━━━\u001b[0m \u001b[32m41.5/41.5 MB\u001b[0m \u001b[31m10.0 MB/s\u001b[0m eta \u001b[36m0:00:00\u001b[0m\n",
            "\u001b[?25hCollecting plum-dispatch==1.7.4 (from Spire.Pdf)\n",
            "  Downloading plum_dispatch-1.7.4-py3-none-any.whl (24 kB)\n",
            "Installing collected packages: plum-dispatch, Spire.Pdf\n",
            "Successfully installed Spire.Pdf-10.6.1 plum-dispatch-1.7.4\n",
            "Collecting Spire.Barcode\n",
            "  Downloading Spire.Barcode-7.2.0-py3-none-manylinux1_x86_64.whl (18.1 MB)\n",
            "\u001b[2K     \u001b[90m━━━━━━━━━━━━━━━━━━━━━━━━━━━━━━━━━━━━━━━━\u001b[0m \u001b[32m18.1/18.1 MB\u001b[0m \u001b[31m30.3 MB/s\u001b[0m eta \u001b[36m0:00:00\u001b[0m\n",
            "\u001b[?25hRequirement already satisfied: plum-dispatch==1.7.4 in /usr/local/lib/python3.10/dist-packages (from Spire.Barcode) (1.7.4)\n",
            "Installing collected packages: Spire.Barcode\n",
            "Successfully installed Spire.Barcode-7.2.0\n"
          ]
        }
      ],
      "source": [
        "!pip install Spire.Pdf\n",
        "!pip install Spire.Barcode"
      ]
    },
    {
      "cell_type": "code",
      "source": [
        "from spire.pdf.common import *\n",
        "from spire.pdf import *\n",
        "\n",
        "# Create a PdfDocument instance\n",
        "pdf = PdfDocument()\n",
        "# Add a page\n",
        "page = pdf.Pages.Add()\n",
        "\n",
        "# Initial y-coordinate\n",
        "y = 20.0\n",
        "# Create a true type font\n",
        "font = PdfTrueTypeFont(\"Arial\", 12.0, 1, True)\n",
        "\n",
        "# Draw text onto the page\n",
        "text = PdfTextWidget()\n",
        "text.Font = font\n",
        "text.Text = \"Codabar:\"\n",
        "result = text.Draw(page, 0.0, y)\n",
        "y = result.Bounds.Bottom + 2\n",
        "\n",
        "# Draw Codabar barcode onto the page\n",
        "codabar = PdfCodabarBarcode(\"00:12-3456/7890\")\n",
        "codabar.BarcodeToTextGapHeight = 1\n",
        "codabar.EnableCheckDigit = True\n",
        "codabar.ShowCheckDigit = True\n",
        "codabar.TextDisplayLocation = TextLocation.Bottom\n",
        "codabar.Draw(page, PointF(0.0, y))\n",
        "y = codabar.Bounds.Bottom + 5\n",
        "\n",
        "# Draw text onto the page\n",
        "text.Text = \"Code39:\"\n",
        "result = text.Draw(page, 0.0, y)\n",
        "page = result.Page\n",
        "y = result.Bounds.Bottom + 2\n",
        "\n",
        "# Draw Code 39 barcode onto the page\n",
        "code39 = PdfCode39Barcode(\"ABC-123456\")\n",
        "code39.BarcodeToTextGapHeight = 1\n",
        "code39.BarcodeToTextGapHeight = 1\n",
        "code39.TextDisplayLocation = TextLocation.Bottom\n",
        "code39.Draw(page, PointF(0.0, y))\n",
        "y = code39.Bounds.Bottom + 5\n",
        "\n",
        "# Save the resulting document\n",
        "pdf.SaveToFile(\"AddBarcode.pdf\")\n",
        "pdf.Close()"
      ],
      "metadata": {
        "id": "-ZZpcpXiT_0U"
      },
      "execution_count": 2,
      "outputs": []
    },
    {
      "cell_type": "code",
      "source": [
        "from spire.pdf.common import *\n",
        "from spire.pdf import *\n",
        "from spire.barcode import *\n",
        "\n",
        "# Create a BarcodeSettings object\n",
        "barcodeSettings = BarcodeSettings()\n",
        "# Set the barcode type as QR code\n",
        "barcodeSettings.Type = BarCodeType.QRCode\n",
        "# Set the data of the QR code\n",
        "barcodeSettings.Data = \"12345ABCDE\"\n",
        "barcodeSettings.Data2D = \"12345ABCDE\"\n",
        "# Set the width of the QR code bar module\n",
        "barcodeSettings.X = 2\n",
        "# Set the error correction level of the QR code\n",
        "barcodeSettings.QRCodeECL = QRCodeECL.M\n",
        "# Set text visibility\n",
        "barcodeSettings.ShowText = False\n",
        "# Set QR code image width and height (the unit is millimeter)\n",
        "barcodeSettings.AutoResize = False\n",
        "barcodeSettings.ImageWidth = 50\n",
        "barcodeSettings.ImageHeight = 50\n",
        "# Set background color\n",
        "barcodeSettings.BackColor = Color.get_Cornsilk()\n",
        "\n",
        "# Create a BarCodeGenerator object with the specified settings\n",
        "barCodeGenerator = BarCodeGenerator(barcodeSettings)\n",
        "# Generate QR code image\n",
        "barcodeimage = barCodeGenerator.GenerateImage()\n",
        "\n",
        "# Save the QR code image to a .png file\n",
        "with open(\"QRCode.png\", \"wb\") as file:\n",
        "    file.write(barcodeimage)\n",
        "\n",
        "# Create a PdfDocument instance\n",
        "pdf = PdfDocument()\n",
        "# Add a page\n",
        "page = pdf.Pages.Add()\n",
        "\n",
        "# Draw the QR Code image onto the page\n",
        "pdfImage = PdfImage.FromFile(\"QRCode.png\")\n",
        "page.Canvas.DrawImage(pdfImage, 0.0, 25.0)\n",
        "\n",
        "# Save the resulting document\n",
        "pdf.SaveToFile(\"AddQRCode.pdf\")\n",
        "pdf.Close()"
      ],
      "metadata": {
        "id": "jo_GqyQuUCMp"
      },
      "execution_count": 3,
      "outputs": []
    }
  ]
}