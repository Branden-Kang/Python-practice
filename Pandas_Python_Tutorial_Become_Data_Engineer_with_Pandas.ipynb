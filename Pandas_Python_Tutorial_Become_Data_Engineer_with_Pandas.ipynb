{
  "nbformat": 4,
  "nbformat_minor": 0,
  "metadata": {
    "colab": {
      "provenance": [],
      "authorship_tag": "ABX9TyPUNTEGRX0zECDZSzO9zTU1"
    },
    "kernelspec": {
      "name": "python3",
      "display_name": "Python 3"
    },
    "language_info": {
      "name": "python"
    }
  },
  "cells": [
    {
      "cell_type": "markdown",
      "source": [
        "[Reference](https://medium.com/@huzaifazahoor654/pandas-python-tutorial-become-data-engineer-with-pandas-2ee497d760f5)"
      ],
      "metadata": {
        "id": "tIOmNQ0pILnl"
      }
    },
    {
      "cell_type": "markdown",
      "source": [
        "# Pandas DataFrame and Series"
      ],
      "metadata": {
        "id": "6o-FGXD1Icyt"
      }
    },
    {
      "cell_type": "markdown",
      "source": [
        "## Creating DataFrames"
      ],
      "metadata": {
        "id": "3wTyBGhCIR55"
      }
    },
    {
      "cell_type": "code",
      "execution_count": 1,
      "metadata": {
        "colab": {
          "base_uri": "https://localhost:8080/"
        },
        "id": "gGHQ6PyRHv5J",
        "outputId": "196f454e-07ad-4319-893a-2ab76bb30080"
      },
      "outputs": [
        {
          "output_type": "stream",
          "name": "stdout",
          "text": [
            "    Name  Age    Country\n",
            "0   John   25        USA\n",
            "1   Mary   35     Canada\n",
            "2  Peter   20  Australia\n",
            "3   Jane   30         UK\n"
          ]
        }
      ],
      "source": [
        "import pandas as pd\n",
        "\n",
        "data = {\n",
        "    'Name': ['John', 'Mary', 'Peter', 'Jane'],\n",
        "    'Age': [25, 35, 20, 30],\n",
        "    'Country': ['USA', 'Canada', 'Australia', 'UK']\n",
        "}\n",
        "\n",
        "df = pd.DataFrame(data)\n",
        "print(df)"
      ]
    },
    {
      "cell_type": "markdown",
      "source": [
        "## Creating Series\n"
      ],
      "metadata": {
        "id": "dhq_1-ZbIXQt"
      }
    },
    {
      "cell_type": "code",
      "source": [
        "import pandas as pd\n",
        "\n",
        "data = [25, 35, 20, 30]\n",
        "s = pd.Series(data)\n",
        "print(s)"
      ],
      "metadata": {
        "colab": {
          "base_uri": "https://localhost:8080/"
        },
        "id": "oJ-QDLW7IRGR",
        "outputId": "50e84dc4-38dc-4ee5-d039-de43bfe46901"
      },
      "execution_count": 2,
      "outputs": [
        {
          "output_type": "stream",
          "name": "stdout",
          "text": [
            "0    25\n",
            "1    35\n",
            "2    20\n",
            "3    30\n",
            "dtype: int64\n"
          ]
        }
      ]
    },
    {
      "cell_type": "markdown",
      "source": [
        "## Selecting Rows and Columns"
      ],
      "metadata": {
        "id": "zUoeM91wIYis"
      }
    },
    {
      "cell_type": "code",
      "source": [
        "import pandas as pd\n",
        "\n",
        "data = {\n",
        "    'Name': ['John', 'Mary', 'Peter', 'Jane'],\n",
        "    'Age': [25, 35, 20, 30],\n",
        "    'Country': ['USA', 'Canada', 'Australia', 'UK']\n",
        "}\n",
        "\n",
        "df = pd.DataFrame(data)\n",
        "\n",
        "# Selecting rows\n",
        "print(df.loc[0])  # Select first row\n",
        "print(df.loc[[0, 2]])  # Select first and third rows\n",
        "\n",
        "# Selecting columns\n",
        "print(df['Name'])  # Select Name column\n",
        "print(df[['Name', 'Age']])  # Select Name and Age columns"
      ],
      "metadata": {
        "colab": {
          "base_uri": "https://localhost:8080/"
        },
        "id": "CTbwQDNpIVcc",
        "outputId": "cf207c2d-9b92-4f73-f675-0af186d9b3d5"
      },
      "execution_count": 3,
      "outputs": [
        {
          "output_type": "stream",
          "name": "stdout",
          "text": [
            "Name       John\n",
            "Age          25\n",
            "Country     USA\n",
            "Name: 0, dtype: object\n",
            "    Name  Age    Country\n",
            "0   John   25        USA\n",
            "2  Peter   20  Australia\n",
            "0     John\n",
            "1     Mary\n",
            "2    Peter\n",
            "3     Jane\n",
            "Name: Name, dtype: object\n",
            "    Name  Age\n",
            "0   John   25\n",
            "1   Mary   35\n",
            "2  Peter   20\n",
            "3   Jane   30\n"
          ]
        }
      ]
    },
    {
      "cell_type": "markdown",
      "source": [
        "# Data Manipulation with Pandas\n",
        "\n",
        "## Filtering Data"
      ],
      "metadata": {
        "id": "IC-k410VIh6H"
      }
    },
    {
      "cell_type": "code",
      "source": [
        "import pandas as pd\n",
        "\n",
        "data = {\n",
        "    'Name': ['John', 'Mary', 'Peter', 'Jane'],\n",
        "    'Age': [25, 35, 20, 30],\n",
        "    'Country': ['USA', 'Canada', 'Australia', 'UK']\n",
        "}\n",
        "\n",
        "df = pd.DataFrame(data)\n",
        "\n",
        "# Filter data based on age\n",
        "print(df[df['Age'] > 25])"
      ],
      "metadata": {
        "colab": {
          "base_uri": "https://localhost:8080/"
        },
        "id": "0qIxTk7IIaRl",
        "outputId": "5ff1e500-9120-4422-ac95-ef4f9c90c97c"
      },
      "execution_count": 4,
      "outputs": [
        {
          "output_type": "stream",
          "name": "stdout",
          "text": [
            "   Name  Age Country\n",
            "1  Mary   35  Canada\n",
            "3  Jane   30      UK\n"
          ]
        }
      ]
    },
    {
      "cell_type": "markdown",
      "source": [
        "## Sorting Data"
      ],
      "metadata": {
        "id": "ZyxvsCvHImU0"
      }
    },
    {
      "cell_type": "code",
      "source": [
        "import pandas as pd\n",
        "\n",
        "data = {\n",
        "    'Name': ['John', 'Mary', 'Peter', 'Jane'],\n",
        "    'Age': [25, 35, 20, 30],\n",
        "    'Country': ['USA', 'Canada', 'Australia', 'UK']\n",
        "}\n",
        "\n",
        "df = pd.DataFrame(data)\n",
        "\n",
        "# Sort data by age\n",
        "print(df.sort_values(by='Age'))"
      ],
      "metadata": {
        "colab": {
          "base_uri": "https://localhost:8080/"
        },
        "id": "CBw-WLwvIkeC",
        "outputId": "14de8433-f98a-401a-d30c-a1f89b1a0cc9"
      },
      "execution_count": 5,
      "outputs": [
        {
          "output_type": "stream",
          "name": "stdout",
          "text": [
            "    Name  Age    Country\n",
            "2  Peter   20  Australia\n",
            "0   John   25        USA\n",
            "3   Jane   30         UK\n",
            "1   Mary   35     Canada\n"
          ]
        }
      ]
    },
    {
      "cell_type": "markdown",
      "source": [
        "## Aggregating Data"
      ],
      "metadata": {
        "id": "HzkEUcaqIngj"
      }
    },
    {
      "cell_type": "code",
      "source": [
        "import pandas as pd\n",
        "\n",
        "data = {\n",
        "    'Name': ['John', 'Mary', 'Peter', 'Jane'],\n",
        "    'Age': [25, 35, 20, 30],\n",
        "    'Country': ['USA', 'Canada', 'Australia', 'UK']\n",
        "}\n",
        "\n",
        "df = pd.DataFrame(data)\n",
        "\n",
        "# Aggregate data by country\n",
        "print(df.groupby(['Country']).count())"
      ],
      "metadata": {
        "colab": {
          "base_uri": "https://localhost:8080/"
        },
        "id": "eqrrqxueIlcj",
        "outputId": "62c26fd3-e0f5-44ff-9c47-2987dd1b9942"
      },
      "execution_count": 7,
      "outputs": [
        {
          "output_type": "stream",
          "name": "stdout",
          "text": [
            "           Name  Age\n",
            "Country             \n",
            "Australia     1    1\n",
            "Canada        1    1\n",
            "UK            1    1\n",
            "USA           1    1\n"
          ]
        }
      ]
    },
    {
      "cell_type": "markdown",
      "source": [
        "## Merging and Joining DataFrames"
      ],
      "metadata": {
        "id": "-K8GEP7XIroV"
      }
    },
    {
      "cell_type": "code",
      "source": [
        "import pandas as pd\n",
        "\n",
        "data1 = {\n",
        "    'Name': ['John', 'Mary', 'Peter', 'Jane'],\n",
        "    'Age': [25, 35, 20, 30],\n",
        "    'Country': ['USA', 'Canada', 'Australia', 'UK']\n",
        "}\n",
        "\n",
        "data2 = {\n",
        "    'Name': ['John', 'Mary', 'Peter', 'Jane'],\n",
        "    'Salary': [50000, 60000, 45000, 55000]\n",
        "}\n",
        "\n",
        "df1 = pd.DataFrame(data1)\n",
        "df2 = pd.DataFrame(data2)\n",
        "\n",
        "# Merge dataframes based on Name\n",
        "print(pd.merge(df1, df2, on='Name'))"
      ],
      "metadata": {
        "colab": {
          "base_uri": "https://localhost:8080/"
        },
        "id": "RrezgODDIpeP",
        "outputId": "2b2bb5c7-60e0-4396-a0af-1cb03cef762b"
      },
      "execution_count": 8,
      "outputs": [
        {
          "output_type": "stream",
          "name": "stdout",
          "text": [
            "    Name  Age    Country  Salary\n",
            "0   John   25        USA   50000\n",
            "1   Mary   35     Canada   60000\n",
            "2  Peter   20  Australia   45000\n",
            "3   Jane   30         UK   55000\n"
          ]
        }
      ]
    },
    {
      "cell_type": "markdown",
      "source": [
        "# Data Visualization with Pandas\n",
        "## Line Plot\n"
      ],
      "metadata": {
        "id": "XtKy6wSJIuII"
      }
    },
    {
      "cell_type": "code",
      "source": [
        "import pandas as pd\n",
        "import matplotlib.pyplot as plt\n",
        "\n",
        "data = {\n",
        "    'Year': [2016, 2017, 2018, 2019, 2020],\n",
        "    'Sales': [100, 150, 200, 250, 300]\n",
        "}\n",
        "\n",
        "df = pd.DataFrame(data)\n",
        "\n",
        "# Create line plot\n",
        "df.plot(x='Year', y='Sales')\n",
        "plt.show()"
      ],
      "metadata": {
        "colab": {
          "base_uri": "https://localhost:8080/",
          "height": 449
        },
        "id": "Xew596_MIs6W",
        "outputId": "30573055-8af9-4cbe-e633-e1f3791d475e"
      },
      "execution_count": 9,
      "outputs": [
        {
          "output_type": "display_data",
          "data": {
            "text/plain": [
              "<Figure size 640x480 with 1 Axes>"
            ],
            "image/png": "[encoded data removed]"
          },
          "metadata": {}
        }
      ]
    },
    {
      "cell_type": "markdown",
      "source": [
        "## Bar Plot"
      ],
      "metadata": {
        "id": "w4Byh8izIx4D"
      }
    },
    {
      "cell_type": "code",
      "source": [
        "import pandas as pd\n",
        "import matplotlib.pyplot as plt\n",
        "\n",
        "data = {\n",
        "    'Year': [2016, 2017, 2018, 2019, 2020],\n",
        "    'Sales': [100, 150, 200, 250, 300]\n",
        "}\n",
        "\n",
        "df = pd.DataFrame(data)\n",
        "\n",
        "# Create bar plot\n",
        "df.plot(x='Year', y='Sales', kind='bar')\n",
        "plt.show()"
      ],
      "metadata": {
        "colab": {
          "base_uri": "https://localhost:8080/",
          "height": 471
        },
        "id": "mOw0LDd4Iwzv",
        "outputId": "14efb6da-81fb-4268-cfd4-eb12ae7fdbf7"
      },
      "execution_count": 10,
      "outputs": [
        {
          "output_type": "display_data",
          "data": {
            "text/plain": [
              "<Figure size 640x480 with 1 Axes>"
            ],
            "image/png": "[encoded data removed]"
          },
          "metadata": {}
        }
      ]
    },
    {
      "cell_type": "markdown",
      "source": [
        "## Scatter Plot"
      ],
      "metadata": {
        "id": "wnJ-OpNZI0F6"
      }
    },
    {
      "cell_type": "code",
      "source": [
        "import pandas as pd\n",
        "import matplotlib.pyplot as plt\n",
        "\n",
        "data = {\n",
        "    'Year': [2016, 2017, 2018, 2019, 2020],\n",
        "    'Sales': [100, 150, 200, 250, 300]\n",
        "}\n",
        "\n",
        "df = pd.DataFrame(data)\n",
        "\n",
        "# Create scatter plot\n",
        "df.plot(x='Year', y='Sales', kind='scatter')\n",
        "plt.show()"
      ],
      "metadata": {
        "colab": {
          "base_uri": "https://localhost:8080/",
          "height": 449
        },
        "id": "fX5UV7ojIzBi",
        "outputId": "c504cfb8-f441-4dbd-fb42-897b5d3a84f3"
      },
      "execution_count": 11,
      "outputs": [
        {
          "output_type": "display_data",
          "data": {
            "text/plain": [
              "<Figure size 640x480 with 1 Axes>"
            ],
            "image/png": "[encoded data removed]"
          },
          "metadata": {}
        }
      ]
    }
  ]
}