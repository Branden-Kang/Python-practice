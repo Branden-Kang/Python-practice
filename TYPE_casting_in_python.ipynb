{
  "nbformat": 4,
  "nbformat_minor": 0,
  "metadata": {
    "colab": {
      "name": "TYPE casting in python.ipynb",
      "provenance": [],
      "authorship_tag": "ABX9TyM/oW6cBrEfp2I1UDqzFQHh"
    },
    "kernelspec": {
      "name": "python3",
      "display_name": "Python 3"
    },
    "language_info": {
      "name": "python"
    }
  },
  "cells": [
    {
      "cell_type": "markdown",
      "metadata": {
        "id": "UVNv2lz4Wb0h"
      },
      "source": [
        "[Reference](https://rajatupadhya.medium.com/type-casting-in-python-quick-revision-814bab8ba2b7)"
      ]
    },
    {
      "cell_type": "markdown",
      "metadata": {
        "id": "qpwHdb6TWeYd"
      },
      "source": [
        "# 1.INT()"
      ]
    },
    {
      "cell_type": "code",
      "metadata": {
        "colab": {
          "base_uri": "https://localhost:8080/"
        },
        "id": "moxdPwYxUndT",
        "outputId": "3620417d-ba48-434c-dac3-adb63309f72a"
      },
      "source": [
        "a = 1.5\n",
        "print(type(a)) # // INT\n",
        "b = int(a)\n",
        "print(type(b)) # // float\n",
        "print(b)"
      ],
      "execution_count": 2,
      "outputs": [
        {
          "output_type": "stream",
          "text": [
            "<class 'float'>\n",
            "<class 'int'>\n",
            "1\n"
          ],
          "name": "stdout"
        }
      ]
    },
    {
      "cell_type": "code",
      "metadata": {
        "colab": {
          "base_uri": "https://localhost:8080/"
        },
        "id": "jGPOaqcOWjPK",
        "outputId": "a7f3e695-f95e-4172-86de-206102ecb200"
      },
      "source": [
        "a = 1\n",
        "print(type(a)) # //float\n",
        "b = float(a)\n",
        "print(type(b)) # // INT\n",
        "print(b)"
      ],
      "execution_count": 3,
      "outputs": [
        {
          "output_type": "stream",
          "text": [
            "<class 'int'>\n",
            "<class 'float'>\n",
            "1.0\n"
          ],
          "name": "stdout"
        }
      ]
    },
    {
      "cell_type": "code",
      "metadata": {
        "colab": {
          "base_uri": "https://localhost:8080/"
        },
        "id": "jdf-jyYwWpUK",
        "outputId": "437eaf87-ebff-4acf-d4a9-b639c9b6c08e"
      },
      "source": [
        "a = 1\n",
        "b = 0\n",
        "b = bool(a)\n",
        "c = bool(b)\n",
        "print(b) # //True\n",
        "print(c) # //False"
      ],
      "execution_count": 4,
      "outputs": [
        {
          "output_type": "stream",
          "text": [
            "True\n",
            "True\n"
          ],
          "name": "stdout"
        }
      ]
    },
    {
      "cell_type": "code",
      "metadata": {
        "colab": {
          "base_uri": "https://localhost:8080/"
        },
        "id": "uncqeNs5Wukw",
        "outputId": "af7c625f-6de1-477f-86c4-fbf11f27abd0"
      },
      "source": [
        "a = 1\n",
        "print(type(a)) # //int\n",
        "b = str(a)\n",
        "print(type(b)) # //str"
      ],
      "execution_count": 5,
      "outputs": [
        {
          "output_type": "stream",
          "text": [
            "<class 'int'>\n",
            "<class 'str'>\n"
          ],
          "name": "stdout"
        }
      ]
    }
  ]
}